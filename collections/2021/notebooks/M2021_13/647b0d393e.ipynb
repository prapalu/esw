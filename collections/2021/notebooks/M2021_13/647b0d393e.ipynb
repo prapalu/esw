{
 "cells": [
  {
   "cell_type": "markdown",
   "id": "7034c3bf-6eb0-4418-8687-7b9d2a501103",
   "metadata": {},
   "source": [
    "# General instructions\n",
    "\n",
    "The goal of the project is to materialize a set of **exploratory workloads** over a real-world, large-scale,  open-domain KG: [WikiData](https://www.wikidata.org/wiki/Wikidata:Main_Page)\n",
    "\n",
    "An exploratory workload  is composed by a set of queries, where each query is related to the information obtained previously.\n",
    "\n",
    "An exploratory workload starts with a usually vague, open ended question, and does not assume the person issuing the workload has a clear understanding of the data contained in the target database or its structure.\n",
    "\n",
    "Remeber that:\n",
    "\n",
    "1. All the queries must run in the python notebook\n",
    "2. You can use classes and properties only if you find them via a SPARQL query that must be present in the notebook\n",
    "3. You do not delete useless queries. Keep everything that is synthatically valid \n",
    "\n",
    "```\n",
    "?p <http://schema.org/name> ?name .\n",
    "```\n",
    "    \n",
    "is the BGP returning a human-readable name of a property or a class in Wikidata.\n",
    "    \n",
    "    "
   ]
  },
  {
   "cell_type": "code",
   "execution_count": 1,
   "id": "3605c9d5-5371-49a5-be8d-d66e8f417139",
   "metadata": {},
   "outputs": [],
   "source": [
    "## SETUP used later\n",
    "\n",
    "from SPARQLWrapper import SPARQLWrapper, JSON\n",
    "\n",
    "\n",
    "prefixString = \"\"\"\n",
    "##-647b0d393e-##\n",
    "PREFIX wd: <http://www.wikidata.org/entity/> \n",
    "PREFIX wdt: <http://www.wikidata.org/prop/direct/> \n",
    "PREFIX sc: <http://schema.org/>\n",
    "\"\"\"\n",
    "\n",
    "# select and construct queries\n",
    "def run_query(queryString):\n",
    "    to_run = prefixString + \"\\n\" + queryString\n",
    "\n",
    "    sparql = SPARQLWrapper(\"http://a256-gc1-02.srv.aau.dk:5820/sparql\")\n",
    "    sparql.setTimeout(300)\n",
    "    sparql.setReturnFormat(JSON)\n",
    "    sparql.setQuery(to_run)\n",
    "\n",
    "    try :\n",
    "       results = sparql.query()\n",
    "       json_results = results.convert()\n",
    "       if len(json_results['results']['bindings'])==0:\n",
    "          print(\"Empty\")\n",
    "          return 0\n",
    "    \n",
    "       for bindings in json_results['results']['bindings']:\n",
    "          print( [ (var, value['value'])  for var, value in bindings.items() ] )\n",
    "\n",
    "       return len(json_results['results']['bindings'])\n",
    "\n",
    "    except Exception as e :\n",
    "        print(\"The operation failed\", e)\n",
    "    \n",
    "# ASk queries\n",
    "def run_ask_query(queryString):\n",
    "    to_run = prefixString + \"\\n\" + queryString\n",
    "\n",
    "    sparql = SPARQLWrapper(\"http://a256-gc1-02.srv.aau.dk:5820/sparql\")\n",
    "    sparql.setTimeout(300)\n",
    "    sparql.setReturnFormat(JSON)\n",
    "    sparql.setQuery(to_run)\n",
    "\n",
    "    try :\n",
    "        return sparql.query().convert()\n",
    "\n",
    "    except Exception as e :\n",
    "        print(\"The operation failed\", e)\n"
   ]
  },
  {
   "cell_type": "markdown",
   "id": "d477a59c-a68c-4c8f-9f97-8ca5294d7d27",
   "metadata": {},
   "source": [
    "# Companies Workflow Series (\"Economy of EU States\") \n",
    "\n",
    "Consider the following exploratory information need:\n",
    "\n",
    "> Compare businesses across different sectors and types in E.U. countries"
   ]
  },
  {
   "cell_type": "markdown",
   "id": "4a45c0ba-f79e-441d-bec5-84401b09db70",
   "metadata": {},
   "source": [
    "## Useful URIs for the current workflow\n",
    "\n",
    "\n",
    "The following are given:\n",
    "\n",
    "| IRI           | Description   | Role      |\n",
    "| -----------   | -----------   |-----------|\n",
    "| `wdt:P1647`   | subproperty   | predicate |\n",
    "| `wdt:P31`     | instance of   | predicate |\n",
    "| `wdt:P279`    | subclass      | predicate |\n",
    "| `wdt:P17`      | country       | predicate |\n",
    "| `wd:Q458`      | E.U.         | node |\n",
    "| `wd:Q142`      | France       | node      |\n",
    "| `wd:Q4830453`  | Business     | node      |\n",
    "| `wd:Q6881511`  | Enterprise   | node      |\n",
    "| `wd:Q29110228` | AXA          | node |\n",
    "| `wd:Q43183`    | insurance    | node |\n",
    "\n",
    "\n",
    "\n",
    "\n",
    "Also consider\n",
    "\n",
    "```\n",
    "{ \n",
    "?p wdt:P17 wd:Q142  . \n",
    "?p wdt:P31 wd:Q6881511  . \n",
    "} UNION {\n",
    "?p wdt:P17 wd:Q142  . \n",
    "?p wdt:P31 wd:Q4830453  . \n",
    "}\n",
    "\n",
    "\n",
    "\n",
    "```\n",
    "\n",
    "is the BGP to retrieve all **french enterprises and businesses**"
   ]
  },
  {
   "cell_type": "markdown",
   "id": "7af439fb-96e4-4dbb-a381-f19afab79f86",
   "metadata": {
    "tags": []
   },
   "source": [
    "## Workload Goals\n",
    "\n",
    "1. Identify the BGP for obtaining the type, legal form, and industry of a company\n",
    "\n",
    "2. Identify the BGP to retrieve all companies owned by a company located in a EU country\n",
    "\n",
    "3. Which company has the largest presence in E.U.?\n",
    "\n",
    "4. Companies have different 'legal forms', compare the number of companies divided in different legal forms\n",
    "\n",
    "5. Analyze the number of companies per type, legal form, and industry in each state\n",
    " \n",
    "   5.1 What are the top-3 legal form in E.U.? \n",
    "   \n",
    "   5.2 For which companies is defined some form of income or market capitalization or total assets? What is the min, max, and average in each country for a given legal form?\n",
    "   \n",
    "   5.3 Which business in each country owns more businesses in other E.U. countries?\n",
    "   \n",
    "   5.4 What can we say about industry sectors in various countries?\n"
   ]
  },
  {
   "cell_type": "code",
   "execution_count": 1,
   "id": "24a853ab-830c-422c-afd3-e9e015b8b8ed",
   "metadata": {},
   "outputs": [],
   "source": [
    "# start your workflow here"
   ]
  },
  {
   "cell_type": "code",
   "execution_count": 2,
   "id": "ade01416-92e7-4ad7-b9a9-b8fb330750dc",
   "metadata": {},
   "outputs": [
    {
     "name": "stdout",
     "output_type": "stream",
     "text": [
      "Results\n",
      "[('callret-0', '4577')]\n"
     ]
    },
    {
     "data": {
      "text/plain": [
       "1"
      ]
     },
     "execution_count": 2,
     "metadata": {},
     "output_type": "execute_result"
    }
   ],
   "source": [
    "queryString = \"\"\"\n",
    "SELECT COUNT(*)\n",
    "WHERE { \n",
    "\n",
    "{ \n",
    "?p wdt:P17 wd:Q142  . \n",
    "?p wdt:P31 wd:Q6881511  . \n",
    "} UNION {\n",
    "?p wdt:P17 wd:Q142  . \n",
    "?p wdt:P31 wd:Q4830453  . \n",
    "}\n",
    "} \n",
    "\"\"\"\n",
    "\n",
    "print(\"Results\")\n",
    "run_query(queryString)"
   ]
  },
  {
   "cell_type": "markdown",
   "id": "7f7463e4-7651-49f6-adef-e605c80b8652",
   "metadata": {},
   "source": [
    "<h3> TASK 1 STARTS HERE </h3>\n",
    "Identify the BGP for obtaining the type, legal form, and industry of a company."
   ]
  },
  {
   "cell_type": "markdown",
   "id": "dfb6417a-ce1e-4632-afbb-791c9c1cffa1",
   "metadata": {},
   "source": [
    "Get a closer look at AXA (wd:Q29110228)."
   ]
  },
  {
   "cell_type": "code",
   "execution_count": 6,
   "id": "676048fb-acc4-4046-a9e0-041582816d41",
   "metadata": {},
   "outputs": [
    {
     "name": "stdout",
     "output_type": "stream",
     "text": [
      "Results\n",
      "[('p', 'http://www.wikidata.org/prop/direct/P1278'), ('pname', 'Legal Entity Identifier')]\n",
      "[('p', 'http://www.wikidata.org/prop/direct/P1320'), ('pname', 'OpenCorporates ID')]\n",
      "[('p', 'http://www.wikidata.org/prop/direct/P1454'), ('pname', 'legal form')]\n",
      "[('p', 'http://www.wikidata.org/prop/direct/P17'), ('pname', 'country')]\n",
      "[('p', 'http://www.wikidata.org/prop/direct/P1830'), ('pname', 'owner of')]\n",
      "[('p', 'http://www.wikidata.org/prop/direct/P213'), ('pname', 'ISNI')]\n",
      "[('p', 'http://www.wikidata.org/prop/direct/P2657'), ('pname', 'EU Transparency Register ID')]\n",
      "[('p', 'http://www.wikidata.org/prop/direct/P31'), ('pname', 'instance of')]\n",
      "[('p', 'http://www.wikidata.org/prop/direct/P3500'), ('pname', 'Ringgold ID')]\n",
      "[('p', 'http://www.wikidata.org/prop/direct/P355'), ('pname', 'subsidiary')]\n",
      "[('p', 'http://www.wikidata.org/prop/direct/P3608'), ('pname', 'EU VAT number')]\n",
      "[('p', 'http://www.wikidata.org/prop/direct/P4776'), ('pname', 'MAC Address Block Large ID')]\n",
      "[('p', 'http://www.wikidata.org/prop/direct/P571'), ('pname', 'inception')]\n",
      "[('p', 'http://www.wikidata.org/prop/direct/P5785'), ('pname', 'EU Research participant ID')]\n",
      "[('p', 'http://www.wikidata.org/prop/direct/P749'), ('pname', 'parent organization')]\n",
      "[('p', 'http://www.wikidata.org/prop/direct/P856'), ('pname', 'official website')]\n",
      "[('p', 'http://www.wikidata.org/prop/direct/P2622'), ('pname', 'Companies House company ID')]\n"
     ]
    },
    {
     "data": {
      "text/plain": [
       "17"
      ]
     },
     "execution_count": 6,
     "metadata": {},
     "output_type": "execute_result"
    }
   ],
   "source": [
    "#Q1\n",
    "#get a closer look at AXA (wd:Q29110228)\n",
    "queryString = \"\"\"\n",
    "SELECT DISTINCT ?p ?pname\n",
    "WHERE { \n",
    "\n",
    "wd:Q29110228 ?p ?o.\n",
    "\n",
    "#Labels\n",
    "?p <http://schema.org/name> ?pname .\n",
    "} \n",
    "LIMIT 50\n",
    "\"\"\"\n",
    "\n",
    "print(\"Results\")\n",
    "run_query(queryString)"
   ]
  },
  {
   "cell_type": "markdown",
   "id": "14f42254-2501-4d52-9c9d-30c91c68ab23",
   "metadata": {},
   "source": [
    "Use P31 and P1454 (legal form) found above."
   ]
  },
  {
   "cell_type": "code",
   "execution_count": 7,
   "id": "af7a3fdd-d898-4f1a-9cb8-4e2d44036344",
   "metadata": {},
   "outputs": [
    {
     "name": "stdout",
     "output_type": "stream",
     "text": [
      "Results\n",
      "[('form', 'http://www.wikidata.org/entity/Q6832945'), ('fname', 'private company limited by shares'), ('o', 'http://www.wikidata.org/entity/Q4830453'), ('oname', 'business')]\n",
      "[('form', 'http://www.wikidata.org/entity/Q6832945'), ('fname', 'private company limited by shares'), ('o', 'http://www.wikidata.org/entity/Q6881511'), ('oname', 'enterprise')]\n"
     ]
    },
    {
     "data": {
      "text/plain": [
       "2"
      ]
     },
     "execution_count": 7,
     "metadata": {},
     "output_type": "execute_result"
    }
   ],
   "source": [
    "#Q2\n",
    "#get a closer look at AXA (wd:Q29110228) using P31 and P1454 (legal form) found above\n",
    "queryString = \"\"\"\n",
    "SELECT DISTINCT ?form ?fname ?o ?oname\n",
    "WHERE { \n",
    "\n",
    "wd:Q29110228 wdt:P31 ?o;\n",
    "             wdt:P1454 ?form.\n",
    "\n",
    "#Labels\n",
    "?o <http://schema.org/name> ?oname .\n",
    "?form <http://schema.org/name> ?fname .\n",
    "} \n",
    "LIMIT 50\n",
    "\"\"\"\n",
    "\n",
    "print(\"Results\")\n",
    "run_query(queryString)"
   ]
  },
  {
   "cell_type": "markdown",
   "id": "2771c2be-0cb3-4b32-a092-ae5c4f9c99b9",
   "metadata": {},
   "source": [
    "Just use P31."
   ]
  },
  {
   "cell_type": "code",
   "execution_count": 9,
   "id": "b295b689-5630-4c69-945b-6251b5886e1b",
   "metadata": {},
   "outputs": [
    {
     "name": "stdout",
     "output_type": "stream",
     "text": [
      "Results\n",
      "[('o', 'http://www.wikidata.org/entity/Q4830453'), ('oname', 'business')]\n",
      "[('o', 'http://www.wikidata.org/entity/Q6881511'), ('oname', 'enterprise')]\n"
     ]
    },
    {
     "data": {
      "text/plain": [
       "2"
      ]
     },
     "execution_count": 9,
     "metadata": {},
     "output_type": "execute_result"
    }
   ],
   "source": [
    "#Q3\n",
    "#get a closer look at AXA (wd:Q29110228) using P31\n",
    "queryString = \"\"\"\n",
    "SELECT ?o ?oname\n",
    "WHERE { \n",
    "\n",
    "wd:Q29110228 wdt:P31 ?o.\n",
    "\n",
    "#Labels\n",
    "?o <http://schema.org/name> ?oname .\n",
    "} \n",
    "LIMIT 50\n",
    "\"\"\"\n",
    "\n",
    "print(\"Results\")\n",
    "run_query(queryString)"
   ]
  },
  {
   "cell_type": "markdown",
   "id": "db60bdc7-8b71-4f50-acf3-5f20139b6a68",
   "metadata": {},
   "source": [
    "Check result from P355 (subsidiary)."
   ]
  },
  {
   "cell_type": "code",
   "execution_count": 10,
   "id": "818d5589-e3d1-41df-8ee7-1bc9bdbe2f13",
   "metadata": {},
   "outputs": [
    {
     "name": "stdout",
     "output_type": "stream",
     "text": [
      "Results\n",
      "[('o', 'http://www.wikidata.org/entity/Q41567544'), ('oname', 'Panasonic AVC Networks Czech')]\n"
     ]
    },
    {
     "data": {
      "text/plain": [
       "1"
      ]
     },
     "execution_count": 10,
     "metadata": {},
     "output_type": "execute_result"
    }
   ],
   "source": [
    "#Q4\n",
    "#check P355\n",
    "queryString = \"\"\"\n",
    "SELECT DISTINCT ?o ?oname\n",
    "WHERE { \n",
    "\n",
    "wd:Q29110228 wdt:P355 ?o.\n",
    "\n",
    "#Labels\n",
    "?o <http://schema.org/name> ?oname .\n",
    "} \n",
    "LIMIT 50\n",
    "\"\"\"\n",
    "\n",
    "print(\"Results\")\n",
    "run_query(queryString)"
   ]
  },
  {
   "cell_type": "markdown",
   "id": "d3535709-7ea8-41eb-a0c8-44fe5ddfba92",
   "metadata": {},
   "source": [
    "Use P749 (parent organization)."
   ]
  },
  {
   "cell_type": "code",
   "execution_count": 11,
   "id": "62a446c0-92c9-4977-88a4-f721ea25cfa6",
   "metadata": {},
   "outputs": [
    {
     "name": "stdout",
     "output_type": "stream",
     "text": [
      "Results\n",
      "[('o', 'http://www.wikidata.org/entity/Q53247'), ('oname', 'Panasonic Corporation')]\n"
     ]
    },
    {
     "data": {
      "text/plain": [
       "1"
      ]
     },
     "execution_count": 11,
     "metadata": {},
     "output_type": "execute_result"
    }
   ],
   "source": [
    "#Q5\n",
    "#check P749\n",
    "queryString = \"\"\"\n",
    "SELECT DISTINCT ?o ?oname\n",
    "WHERE { \n",
    "\n",
    "wd:Q29110228 wdt:P749 ?o.\n",
    "\n",
    "#Labels\n",
    "?o <http://schema.org/name> ?oname .\n",
    "} \n",
    "LIMIT 50\n",
    "\"\"\"\n",
    "\n",
    "print(\"Results\")\n",
    "run_query(queryString)"
   ]
  },
  {
   "cell_type": "markdown",
   "id": "500c9671-ed4e-4047-93da-9157f2901c9b",
   "metadata": {},
   "source": [
    "Retrieve french assurance businesses."
   ]
  },
  {
   "cell_type": "code",
   "execution_count": 12,
   "id": "2c8406c6-dd6c-4b16-95a3-45937cea9a27",
   "metadata": {},
   "outputs": [
    {
     "name": "stdout",
     "output_type": "stream",
     "text": [
      "Results\n",
      "[('p', 'http://www.wikidata.org/entity/Q3331029'), ('pname', \"Mutuelle d'assurance des instituteurs de France\")]\n"
     ]
    },
    {
     "data": {
      "text/plain": [
       "1"
      ]
     },
     "execution_count": 12,
     "metadata": {},
     "output_type": "execute_result"
    }
   ],
   "source": [
    "#Q6\n",
    "#try to use assurance uri\n",
    "queryString = \"\"\"\n",
    "SELECT DISTINCT ?p ?pname\n",
    "WHERE { \n",
    "\n",
    "?p wdt:P17 wd:Q142;\n",
    "   wdt:P31 wd:Q43183. \n",
    "\n",
    "#Labels\n",
    "?p <http://schema.org/name> ?pname .\n",
    "} \n",
    "LIMIT 25\n",
    "\"\"\"\n",
    "\n",
    "print(\"Results\")\n",
    "run_query(queryString)"
   ]
  },
  {
   "cell_type": "markdown",
   "id": "da0ef307-7576-4a19-87e7-dbddc947c5fe",
   "metadata": {},
   "source": [
    "Retrieve assurance businesses."
   ]
  },
  {
   "cell_type": "code",
   "execution_count": 13,
   "id": "02000dcf-3f39-4fbd-935a-9583cf1f2610",
   "metadata": {},
   "outputs": [
    {
     "name": "stdout",
     "output_type": "stream",
     "text": [
      "Results\n",
      "[('p', 'http://www.wikidata.org/entity/Q3331029'), ('pname', \"Mutuelle d'assurance des instituteurs de France\")]\n",
      "[('p', 'http://www.wikidata.org/entity/Q7246539'), ('pname', 'Prize indemnity insurance')]\n",
      "[('p', 'http://www.wikidata.org/entity/Q4443488'), ('pname', 'Business interruption insurance')]\n",
      "[('p', 'http://www.wikidata.org/entity/Q2079582'), ('pname', 'bridge loan')]\n",
      "[('p', 'http://www.wikidata.org/entity/Q137805'), ('pname', 'pension provider')]\n",
      "[('p', 'http://www.wikidata.org/entity/Q811455'), ('pname', \"builder's risk insurance\")]\n",
      "[('p', 'http://www.wikidata.org/entity/Q6899280'), ('pname', 'Money purchase')]\n",
      "[('p', 'http://www.wikidata.org/entity/Q1735021'), ('pname', 'Comprehensive Cover')]\n",
      "[('p', 'http://www.wikidata.org/entity/Q1538443'), ('pname', 'HBOS plc')]\n",
      "[('p', 'http://www.wikidata.org/entity/Q5723049'), ('pname', 'Central Insurance of Iran')]\n",
      "[('p', 'http://www.wikidata.org/entity/Q7907951'), ('pname', 'National Vaccine Injury Compensation Program')]\n",
      "[('p', 'http://www.wikidata.org/entity/Q7390314'), ('pname', 'SIGAL')]\n",
      "[('p', 'http://www.wikidata.org/entity/Q106526353'), ('pname', 'RAMED')]\n",
      "[('p', 'http://www.wikidata.org/entity/Q18808388'), ('pname', 'Television insurance')]\n",
      "[('p', 'http://www.wikidata.org/entity/Q884117'), ('pname', 'Fidelity bond')]\n",
      "[('p', 'http://www.wikidata.org/entity/Q50413632'), ('pname', 'CRL Management Ltd')]\n",
      "[('p', 'http://www.wikidata.org/entity/Q4443481'), ('pname', 'satellite insurance')]\n",
      "[('p', 'http://www.wikidata.org/entity/Q10264106'), ('pname', 'Personal Injuries Caused by Land-based Automotive Vehicles')]\n",
      "[('p', 'http://www.wikidata.org/entity/Q5157554'), ('pname', 'Computer insurance')]\n",
      "[('p', 'http://www.wikidata.org/entity/Q54471043'), ('pname', 'Prudential Hong Kong Limited')]\n",
      "[('p', 'http://www.wikidata.org/entity/Q34571686'), ('pname', 'Aegon Life Insurance Company')]\n",
      "[('p', 'http://www.wikidata.org/entity/Q18642446'), ('pname', 'Unemployment insurance in Morocco')]\n"
     ]
    },
    {
     "data": {
      "text/plain": [
       "22"
      ]
     },
     "execution_count": 13,
     "metadata": {},
     "output_type": "execute_result"
    }
   ],
   "source": [
    "#Q7\n",
    "#try to use assurance uri without france\n",
    "queryString = \"\"\"\n",
    "SELECT DISTINCT ?p ?pname\n",
    "WHERE { \n",
    "\n",
    "?p wdt:P31 wd:Q43183.\n",
    "\n",
    "#Labels\n",
    "?p <http://schema.org/name> ?pname .\n",
    "} \n",
    "LIMIT 25\n",
    "\"\"\"\n",
    "\n",
    "print(\"Results\")\n",
    "run_query(queryString)"
   ]
  },
  {
   "cell_type": "code",
   "execution_count": 14,
   "id": "72316ab8-7eb1-4047-b0d2-598254984db4",
   "metadata": {},
   "outputs": [
    {
     "name": "stdout",
     "output_type": "stream",
     "text": [
      "Results\n",
      "[('p', 'http://www.wikidata.org/entity/Q3331029'), ('pname', \"Mutuelle d'assurance des instituteurs de France\")]\n",
      "[('p', 'http://www.wikidata.org/entity/Q1538443'), ('pname', 'HBOS plc')]\n"
     ]
    },
    {
     "data": {
      "text/plain": [
       "2"
      ]
     },
     "execution_count": 14,
     "metadata": {},
     "output_type": "execute_result"
    }
   ],
   "source": [
    "#Q8\n",
    "#try to use assurance uri + legal form\n",
    "queryString = \"\"\"\n",
    "SELECT DISTINCT ?p ?pname\n",
    "WHERE { \n",
    "\n",
    "?p wdt:P31 wd:Q43183;\n",
    "   wdt:P1454 ?form.\n",
    "\n",
    "#Labels\n",
    "?p <http://schema.org/name> ?pname .\n",
    "} \n",
    "LIMIT 25\n",
    "\"\"\"\n",
    "\n",
    "print(\"Results\")\n",
    "run_query(queryString)"
   ]
  },
  {
   "cell_type": "markdown",
   "id": "733e0ba0-3cdf-4765-9d82-46e5975b2e7e",
   "metadata": {},
   "source": [
    "Retrieve some predicates of businesses."
   ]
  },
  {
   "cell_type": "code",
   "execution_count": 16,
   "id": "8ae05f57-3e27-4e31-9a4f-7bdd5e0d37db",
   "metadata": {},
   "outputs": [
    {
     "name": "stdout",
     "output_type": "stream",
     "text": [
      "Results\n",
      "[('p', 'http://www.wikidata.org/prop/direct/P2486'), ('pname', 'FMD brand ID')]\n",
      "[('p', 'http://www.wikidata.org/prop/direct/P9279'), ('pname', 'Egapro gender equality index')]\n",
      "[('p', 'http://www.wikidata.org/prop/direct/P2751'), ('pname', 'Roller Coaster Database ID')]\n",
      "[('p', 'http://www.wikidata.org/prop/direct/P7972'), ('pname', 'CVR person ID')]\n",
      "[('p', 'http://www.wikidata.org/prop/direct/P7639'), ('pname', 'OverDrive publisher ID')]\n",
      "[('p', 'http://www.wikidata.org/prop/direct/P101'), ('pname', 'field of work')]\n",
      "[('p', 'http://www.wikidata.org/prop/direct/P1015'), ('pname', 'NORAF ID')]\n",
      "[('p', 'http://www.wikidata.org/prop/direct/P1037'), ('pname', 'director / manager')]\n",
      "[('p', 'http://www.wikidata.org/prop/direct/P1056'), ('pname', 'product or material produced')]\n",
      "[('p', 'http://www.wikidata.org/prop/direct/P112'), ('pname', 'founded by')]\n",
      "[('p', 'http://www.wikidata.org/prop/direct/P1128'), ('pname', 'employees')]\n",
      "[('p', 'http://www.wikidata.org/prop/direct/P1167'), ('pname', 'USB vendor ID')]\n",
      "[('p', 'http://www.wikidata.org/prop/direct/P127'), ('pname', 'owned by')]\n",
      "[('p', 'http://www.wikidata.org/prop/direct/P1273'), ('pname', 'CANTIC ID')]\n",
      "[('p', 'http://www.wikidata.org/prop/direct/P1278'), ('pname', 'Legal Entity Identifier')]\n",
      "[('p', 'http://www.wikidata.org/prop/direct/P1296'), ('pname', 'Gran Enciclopèdia Catalana ID')]\n",
      "[('p', 'http://www.wikidata.org/prop/direct/P131'), ('pname', 'located in the administrative territorial entity')]\n",
      "[('p', 'http://www.wikidata.org/prop/direct/P1315'), ('pname', 'NLA Trove ID')]\n",
      "[('p', 'http://www.wikidata.org/prop/direct/P1320'), ('pname', 'OpenCorporates ID')]\n",
      "[('p', 'http://www.wikidata.org/prop/direct/P1329'), ('pname', 'phone number')]\n",
      "[('p', 'http://www.wikidata.org/prop/direct/P1365'), ('pname', 'replaces')]\n",
      "[('p', 'http://www.wikidata.org/prop/direct/P1366'), ('pname', 'replaced by')]\n",
      "[('p', 'http://www.wikidata.org/prop/direct/P138'), ('pname', 'named after')]\n",
      "[('p', 'http://www.wikidata.org/prop/direct/P1417'), ('pname', 'Encyclopædia Britannica Online ID')]\n",
      "[('p', 'http://www.wikidata.org/prop/direct/P1448'), ('pname', 'official name')]\n",
      "[('p', 'http://www.wikidata.org/prop/direct/P1451'), ('pname', 'motto text')]\n",
      "[('p', 'http://www.wikidata.org/prop/direct/P1454'), ('pname', 'legal form')]\n",
      "[('p', 'http://www.wikidata.org/prop/direct/P154'), ('pname', 'logo image')]\n",
      "[('p', 'http://www.wikidata.org/prop/direct/P155'), ('pname', 'follows')]\n",
      "[('p', 'http://www.wikidata.org/prop/direct/P156'), ('pname', 'followed by')]\n",
      "[('p', 'http://www.wikidata.org/prop/direct/P1566'), ('pname', 'GeoNames ID')]\n",
      "[('p', 'http://www.wikidata.org/prop/direct/P1581'), ('pname', 'official blog')]\n",
      "[('p', 'http://www.wikidata.org/prop/direct/P159'), ('pname', 'headquarters location')]\n",
      "[('p', 'http://www.wikidata.org/prop/direct/P1616'), ('pname', 'SIREN number')]\n",
      "[('p', 'http://www.wikidata.org/prop/direct/P163'), ('pname', 'flag')]\n",
      "[('p', 'http://www.wikidata.org/prop/direct/P166'), ('pname', 'award received')]\n",
      "[('p', 'http://www.wikidata.org/prop/direct/P1661'), ('pname', 'Alexa rank')]\n",
      "[('p', 'http://www.wikidata.org/prop/direct/P169'), ('pname', 'chief executive officer')]\n",
      "[('p', 'http://www.wikidata.org/prop/direct/P17'), ('pname', 'country')]\n",
      "[('p', 'http://www.wikidata.org/prop/direct/P1705'), ('pname', 'native label')]\n",
      "[('p', 'http://www.wikidata.org/prop/direct/P176'), ('pname', 'manufacturer')]\n",
      "[('p', 'http://www.wikidata.org/prop/direct/P1789'), ('pname', 'chief operating officer')]\n",
      "[('p', 'http://www.wikidata.org/prop/direct/P18'), ('pname', 'image')]\n",
      "[('p', 'http://www.wikidata.org/prop/direct/P1813'), ('pname', 'short name')]\n",
      "[('p', 'http://www.wikidata.org/prop/direct/P1830'), ('pname', 'owner of')]\n",
      "[('p', 'http://www.wikidata.org/prop/direct/P1889'), ('pname', 'different from')]\n",
      "[('p', 'http://www.wikidata.org/prop/direct/P1942'), ('pname', 'McCune-Reischauer romanization')]\n",
      "[('p', 'http://www.wikidata.org/prop/direct/P2001'), ('pname', 'Revised Romanization')]\n",
      "[('p', 'http://www.wikidata.org/prop/direct/P2002'), ('pname', 'Twitter username')]\n",
      "[('p', 'http://www.wikidata.org/prop/direct/P2003'), ('pname', 'Instagram username')]\n"
     ]
    },
    {
     "data": {
      "text/plain": [
       "50"
      ]
     },
     "execution_count": 16,
     "metadata": {},
     "output_type": "execute_result"
    }
   ],
   "source": [
    "#Q9\n",
    "#find other business and check their predicates\n",
    "queryString = \"\"\"\n",
    "SELECT DISTINCT ?p ?pname\n",
    "WHERE { \n",
    "\n",
    "?s wdt:P31 wd:Q4830453;\n",
    "   wdt:P1454 ?form;\n",
    "   ?p ?o.\n",
    "\n",
    "#Labels\n",
    "?p <http://schema.org/name> ?pname .\n",
    "} \n",
    "LIMIT 50\n",
    "\"\"\"\n",
    "\n",
    "print(\"Results\")\n",
    "run_query(queryString)"
   ]
  },
  {
   "cell_type": "markdown",
   "id": "618b2560-2591-433c-8db5-417a958c7b7d",
   "metadata": {},
   "source": [
    "See what we can obtain using P101 (field of work)."
   ]
  },
  {
   "cell_type": "code",
   "execution_count": 17,
   "id": "13d33be6-05a3-48d9-a26e-49a0bf68cfb1",
   "metadata": {},
   "outputs": [
    {
     "name": "stdout",
     "output_type": "stream",
     "text": [
      "Results\n",
      "[('o', 'http://www.wikidata.org/entity/Q978659'), ('oname', 'vehicle inspection')]\n",
      "[('o', 'http://www.wikidata.org/entity/Q207652'), ('oname', 'chemical industry')]\n",
      "[('o', 'http://www.wikidata.org/entity/Q1326624'), ('oname', 'electric utility')]\n",
      "[('o', 'http://www.wikidata.org/entity/Q1384703'), ('oname', 'trade credit insurance')]\n",
      "[('o', 'http://www.wikidata.org/entity/Q377688'), ('oname', 'type foundry')]\n",
      "[('o', 'http://www.wikidata.org/entity/Q247478'), ('oname', 'security printing')]\n",
      "[('o', 'http://www.wikidata.org/entity/Q13397636'), ('oname', 'street furniture')]\n",
      "[('o', 'http://www.wikidata.org/entity/Q37038'), ('oname', 'advertising')]\n",
      "[('o', 'http://www.wikidata.org/entity/Q2912428'), ('oname', 'ready-to-wear')]\n",
      "[('o', 'http://www.wikidata.org/entity/Q1924856'), ('oname', 'metal construction')]\n",
      "[('o', 'http://www.wikidata.org/entity/Q1155133'), ('oname', 'Email marketing')]\n",
      "[('o', 'http://www.wikidata.org/entity/Q16861871'), ('oname', 'job training')]\n",
      "[('o', 'http://www.wikidata.org/entity/Q638608'), ('oname', 'software development')]\n",
      "[('o', 'http://www.wikidata.org/entity/Q340169'), ('oname', 'communication medium')]\n",
      "[('o', 'http://www.wikidata.org/entity/Q29584638'), ('oname', 'Manufacture of air and spacecraft and related machinery')]\n",
      "[('o', 'http://www.wikidata.org/entity/Q131746'), ('oname', 'perfume')]\n",
      "[('o', 'http://www.wikidata.org/entity/Q174876'), ('oname', 'breastfeeding')]\n",
      "[('o', 'http://www.wikidata.org/entity/Q12725'), ('oname', 'electricity')]\n",
      "[('o', 'http://www.wikidata.org/entity/Q932586'), ('oname', 'filmmaking')]\n",
      "[('o', 'http://www.wikidata.org/entity/Q21198548'), ('oname', 'audiovisual production')]\n",
      "[('o', 'http://www.wikidata.org/entity/Q1068842'), ('oname', 'footbridge')]\n",
      "[('o', 'http://www.wikidata.org/entity/Q385378'), ('oname', 'construction')]\n",
      "[('o', 'http://www.wikidata.org/entity/Q7108'), ('oname', 'biotechnology')]\n",
      "[('o', 'http://www.wikidata.org/entity/Q368290'), ('oname', 'film distributor')]\n",
      "[('o', 'http://www.wikidata.org/entity/Q229367'), ('oname', '3D printing')]\n",
      "[('o', 'http://www.wikidata.org/entity/Q904892'), ('oname', 'diabetes')]\n",
      "[('o', 'http://www.wikidata.org/entity/Q762548'), ('oname', 'chocolaterie')]\n",
      "[('o', 'http://www.wikidata.org/entity/Q1937431'), ('oname', 'organ builder')]\n",
      "[('o', 'http://www.wikidata.org/entity/Q3972943'), ('oname', 'publishing')]\n"
     ]
    },
    {
     "data": {
      "text/plain": [
       "29"
      ]
     },
     "execution_count": 17,
     "metadata": {},
     "output_type": "execute_result"
    }
   ],
   "source": [
    "#Q10\n",
    "#use field of work (P101) found above\n",
    "queryString = \"\"\"\n",
    "SELECT DISTINCT ?o ?oname\n",
    "WHERE { \n",
    "\n",
    "?s wdt:P31 wd:Q4830453;\n",
    "   wdt:P1454 ?form;\n",
    "   wdt:P17 wd:Q142;\n",
    "   wdt:P101 ?o.\n",
    "\n",
    "#Labels\n",
    "?o <http://schema.org/name> ?oname .\n",
    "} \n",
    "LIMIT 50\n",
    "\"\"\"\n",
    "\n",
    "print(\"Results\")\n",
    "run_query(queryString)"
   ]
  },
  {
   "cell_type": "code",
   "execution_count": 18,
   "id": "5c1fda75-cb58-42d7-b080-ee03c3df8a02",
   "metadata": {},
   "outputs": [
    {
     "name": "stdout",
     "output_type": "stream",
     "text": [
      "Results\n",
      "Empty\n"
     ]
    },
    {
     "data": {
      "text/plain": [
       "0"
      ]
     },
     "execution_count": 18,
     "metadata": {},
     "output_type": "execute_result"
    }
   ],
   "source": [
    "#Q11\n",
    "#use (P176) found on Q9\n",
    "queryString = \"\"\"\n",
    "SELECT DISTINCT ?o ?oname\n",
    "WHERE { \n",
    "\n",
    "?s wdt:P31 wd:Q4830453;\n",
    "   wdt:P1454 ?form;\n",
    "   wdt:P17 wd:Q142;\n",
    "   wdt:P176 ?o.\n",
    "\n",
    "#Labels\n",
    "?o <http://schema.org/name> ?oname .\n",
    "} \n",
    "LIMIT 50\n",
    "\"\"\"\n",
    "\n",
    "print(\"Results\")\n",
    "run_query(queryString)"
   ]
  },
  {
   "cell_type": "markdown",
   "id": "5a5ed387-dbca-4631-b197-721c79f5f7fc",
   "metadata": {},
   "source": [
    "Retrieve some material or product produced using P1056 found in Q9."
   ]
  },
  {
   "cell_type": "code",
   "execution_count": 19,
   "id": "072d03fe-fe10-44e6-8296-f284c3631623",
   "metadata": {},
   "outputs": [
    {
     "name": "stdout",
     "output_type": "stream",
     "text": [
      "Results\n",
      "[('o', 'http://www.wikidata.org/entity/Q2671652'), ('oname', 'medical test')]\n",
      "[('o', 'http://www.wikidata.org/entity/Q80831'), ('oname', 'integrated circuit')]\n",
      "[('o', 'http://www.wikidata.org/entity/Q483639'), ('oname', 'cloud computing')]\n",
      "[('o', 'http://www.wikidata.org/entity/Q161618'), ('oname', 'asymmetric digital subscriber line')]\n",
      "[('o', 'http://www.wikidata.org/entity/Q12725'), ('oname', 'electricity')]\n",
      "[('o', 'http://www.wikidata.org/entity/Q1420'), ('oname', 'motor car')]\n",
      "[('o', 'http://www.wikidata.org/entity/Q185217'), ('oname', 'dairy product')]\n",
      "[('o', 'http://www.wikidata.org/entity/Q11460'), ('oname', 'clothing')]\n",
      "[('o', 'http://www.wikidata.org/entity/Q7889'), ('oname', 'video game')]\n",
      "[('o', 'http://www.wikidata.org/entity/Q859281'), ('oname', 'wagon')]\n",
      "[('o', 'http://www.wikidata.org/entity/Q2143661'), ('oname', 'corrective lens')]\n",
      "[('o', 'http://www.wikidata.org/entity/Q93301'), ('oname', 'locomotive')]\n",
      "[('o', 'http://www.wikidata.org/entity/Q81945'), ('oname', 'Voice over Internet Protocol')]\n",
      "[('o', 'http://www.wikidata.org/entity/Q1444374'), ('oname', 'Very-high-bit-rate digital subscriber line 2')]\n",
      "[('o', 'http://www.wikidata.org/entity/Q878048'), ('oname', 'virtual private server')]\n",
      "[('o', 'http://www.wikidata.org/entity/Q5422874'), ('oname', 'eyewear')]\n",
      "[('o', 'http://www.wikidata.org/entity/Q1996088'), ('oname', 'dedicated hosting service')]\n",
      "[('o', 'http://www.wikidata.org/entity/Q12504428'), ('oname', 'fingerprint scanner')]\n",
      "[('o', 'http://www.wikidata.org/entity/Q18536861'), ('oname', 'Life Is Strange')]\n",
      "[('o', 'http://www.wikidata.org/entity/Q2904559'), ('oname', 'Birth of America')]\n",
      "[('o', 'http://www.wikidata.org/entity/Q423145'), ('oname', 'acrylate polymer')]\n",
      "[('o', 'http://www.wikidata.org/entity/Q1079349'), ('oname', 'symmetric digital subscriber line')]\n",
      "[('o', 'http://www.wikidata.org/entity/Q83376'), ('oname', 'rum')]\n",
      "[('o', 'http://www.wikidata.org/entity/Q5830'), ('oname', 'Airbus A380')]\n",
      "[('o', 'http://www.wikidata.org/entity/Q6475'), ('oname', 'Airbus A320 family')]\n",
      "[('o', 'http://www.wikidata.org/entity/Q6481'), ('oname', 'Airbus A340')]\n",
      "[('o', 'http://www.wikidata.org/entity/Q197'), ('oname', 'airplane')]\n",
      "[('o', 'http://www.wikidata.org/entity/Q274490'), ('oname', 'public finance')]\n",
      "[('o', 'http://www.wikidata.org/entity/Q131746'), ('oname', 'perfume')]\n",
      "[('o', 'http://www.wikidata.org/entity/Q1358919'), ('oname', 'bicycle-sharing system')]\n",
      "[('o', 'http://www.wikidata.org/entity/Q134862'), ('oname', 'champagne')]\n",
      "[('o', 'http://www.wikidata.org/entity/Q6437'), ('oname', 'Airbus A300')]\n",
      "[('o', 'http://www.wikidata.org/entity/Q282'), ('oname', 'wine')]\n",
      "[('o', 'http://www.wikidata.org/entity/Q3966'), ('oname', 'computer hardware')]\n",
      "[('o', 'http://www.wikidata.org/entity/Q11436'), ('oname', 'aircraft')]\n",
      "[('o', 'http://www.wikidata.org/entity/Q178780'), ('oname', 'liqueur')]\n",
      "[('o', 'http://www.wikidata.org/entity/Q768186'), ('oname', 'sports equipment')]\n",
      "[('o', 'http://www.wikidata.org/entity/Q837171'), ('oname', 'financial services')]\n",
      "[('o', 'http://www.wikidata.org/entity/Q340169'), ('oname', 'communication medium')]\n",
      "[('o', 'http://www.wikidata.org/entity/Q6478'), ('oname', 'Airbus A330')]\n",
      "[('o', 'http://www.wikidata.org/entity/Q6484'), ('oname', 'A350')]\n",
      "[('o', 'http://www.wikidata.org/entity/Q284'), ('oname', 'cognac')]\n",
      "[('o', 'http://www.wikidata.org/entity/Q17562878'), ('oname', 'spirit drink')]\n",
      "[('o', 'http://www.wikidata.org/entity/Q3077815'), ('oname', 'holiday village')]\n",
      "[('o', 'http://www.wikidata.org/entity/Q80877'), ('oname', 'nuclear reactor')]\n",
      "[('o', 'http://www.wikidata.org/entity/Q6471'), ('oname', 'Airbus A310')]\n",
      "[('o', 'http://www.wikidata.org/entity/Q426074'), ('oname', 'Airbus A220')]\n",
      "[('o', 'http://www.wikidata.org/entity/Q721830'), ('oname', 'pay television')]\n",
      "[('o', 'http://www.wikidata.org/entity/Q160137'), ('oname', 'ballpoint pen')]\n",
      "[('o', 'http://www.wikidata.org/entity/Q320677'), ('oname', 'cash and carry')]\n"
     ]
    },
    {
     "data": {
      "text/plain": [
       "50"
      ]
     },
     "execution_count": 19,
     "metadata": {},
     "output_type": "execute_result"
    }
   ],
   "source": [
    "#Q12\n",
    "#use (P1056) found on Q9\n",
    "queryString = \"\"\"\n",
    "SELECT DISTINCT ?o ?oname\n",
    "WHERE { \n",
    "\n",
    "?s wdt:P31 wd:Q4830453;\n",
    "   wdt:P1454 ?form;\n",
    "   wdt:P17 wd:Q142;\n",
    "   wdt:P1056 ?o.\n",
    "\n",
    "#Labels\n",
    "?o <http://schema.org/name> ?oname .\n",
    "} \n",
    "LIMIT 50\n",
    "\"\"\"\n",
    "\n",
    "print(\"Results\")\n",
    "run_query(queryString)"
   ]
  },
  {
   "cell_type": "markdown",
   "id": "5acb7652-4cdb-4222-a62b-7ae514d8c401",
   "metadata": {},
   "source": [
    "Check how many french companies have P1056."
   ]
  },
  {
   "cell_type": "code",
   "execution_count": 20,
   "id": "e1dd4eff-89d4-48b5-8de9-b1e4415b6dca",
   "metadata": {},
   "outputs": [
    {
     "name": "stdout",
     "output_type": "stream",
     "text": [
      "Results\n",
      "[('HowMany', '442')]\n"
     ]
    },
    {
     "data": {
      "text/plain": [
       "1"
      ]
     },
     "execution_count": 20,
     "metadata": {},
     "output_type": "execute_result"
    }
   ],
   "source": [
    "#Q13\n",
    "#count how many french companies has P1056\n",
    "queryString = \"\"\"\n",
    "SELECT (COUNT (DISTINCT(?p)) AS ?HowMany)\n",
    "WHERE { \n",
    "\n",
    "{ \n",
    "?p wdt:P17 wd:Q142  . \n",
    "?p wdt:P31 wd:Q6881511  .\n",
    "?p wdt:P1056 ?o.\n",
    "} UNION {\n",
    "?p wdt:P17 wd:Q142  . \n",
    "?p wdt:P31 wd:Q4830453  . \n",
    "?p wdt:P1056 ?o.\n",
    "}\n",
    "} \n",
    "\"\"\"\n",
    "\n",
    "print(\"Results\")\n",
    "run_query(queryString)"
   ]
  },
  {
   "cell_type": "markdown",
   "id": "0f8d76ef-c8a3-4673-ac8d-205a1f23fb3e",
   "metadata": {},
   "source": [
    "Same check but for P101."
   ]
  },
  {
   "cell_type": "code",
   "execution_count": 21,
   "id": "4c50e3ee-91d5-4ddf-adc3-090549def80a",
   "metadata": {},
   "outputs": [
    {
     "name": "stdout",
     "output_type": "stream",
     "text": [
      "Results\n",
      "[('HowMany', '109')]\n"
     ]
    },
    {
     "data": {
      "text/plain": [
       "1"
      ]
     },
     "execution_count": 21,
     "metadata": {},
     "output_type": "execute_result"
    }
   ],
   "source": [
    "#Q14\n",
    "#count how many french companies has P101\n",
    "queryString = \"\"\"\n",
    "SELECT (COUNT (DISTINCT(?p)) AS ?HowMany)\n",
    "WHERE { \n",
    "\n",
    "{ \n",
    "?p wdt:P17 wd:Q142  . \n",
    "?p wdt:P31 wd:Q6881511  .\n",
    "?p wdt:P101 ?o.\n",
    "} UNION {\n",
    "?p wdt:P17 wd:Q142  . \n",
    "?p wdt:P31 wd:Q4830453  . \n",
    "?p wdt:P101 ?o.\n",
    "}\n",
    "} \n",
    "\"\"\"\n",
    "\n",
    "print(\"Results\")\n",
    "run_query(queryString)"
   ]
  },
  {
   "cell_type": "markdown",
   "id": "fa73307d-8bea-489f-96a9-850b210032f8",
   "metadata": {},
   "source": [
    "Retrieve properties of businesses but excluding literals."
   ]
  },
  {
   "cell_type": "code",
   "execution_count": 22,
   "id": "df3f3e35-ec8a-40f1-8391-81033a22ff84",
   "metadata": {},
   "outputs": [
    {
     "name": "stdout",
     "output_type": "stream",
     "text": [
      "Results\n",
      "[('p', 'http://www.wikidata.org/prop/direct/P101'), ('pname', 'field of work')]\n",
      "[('p', 'http://www.wikidata.org/prop/direct/P1037'), ('pname', 'director / manager')]\n",
      "[('p', 'http://www.wikidata.org/prop/direct/P1056'), ('pname', 'product or material produced')]\n",
      "[('p', 'http://www.wikidata.org/prop/direct/P112'), ('pname', 'founded by')]\n",
      "[('p', 'http://www.wikidata.org/prop/direct/P127'), ('pname', 'owned by')]\n",
      "[('p', 'http://www.wikidata.org/prop/direct/P131'), ('pname', 'located in the administrative territorial entity')]\n",
      "[('p', 'http://www.wikidata.org/prop/direct/P1365'), ('pname', 'replaces')]\n",
      "[('p', 'http://www.wikidata.org/prop/direct/P1366'), ('pname', 'replaced by')]\n",
      "[('p', 'http://www.wikidata.org/prop/direct/P138'), ('pname', 'named after')]\n",
      "[('p', 'http://www.wikidata.org/prop/direct/P1454'), ('pname', 'legal form')]\n",
      "[('p', 'http://www.wikidata.org/prop/direct/P154'), ('pname', 'logo image')]\n",
      "[('p', 'http://www.wikidata.org/prop/direct/P155'), ('pname', 'follows')]\n",
      "[('p', 'http://www.wikidata.org/prop/direct/P156'), ('pname', 'followed by')]\n",
      "[('p', 'http://www.wikidata.org/prop/direct/P1581'), ('pname', 'official blog')]\n",
      "[('p', 'http://www.wikidata.org/prop/direct/P159'), ('pname', 'headquarters location')]\n",
      "[('p', 'http://www.wikidata.org/prop/direct/P163'), ('pname', 'flag')]\n",
      "[('p', 'http://www.wikidata.org/prop/direct/P166'), ('pname', 'award received')]\n",
      "[('p', 'http://www.wikidata.org/prop/direct/P169'), ('pname', 'chief executive officer')]\n",
      "[('p', 'http://www.wikidata.org/prop/direct/P17'), ('pname', 'country')]\n",
      "[('p', 'http://www.wikidata.org/prop/direct/P176'), ('pname', 'manufacturer')]\n",
      "[('p', 'http://www.wikidata.org/prop/direct/P1789'), ('pname', 'chief operating officer')]\n",
      "[('p', 'http://www.wikidata.org/prop/direct/P18'), ('pname', 'image')]\n",
      "[('p', 'http://www.wikidata.org/prop/direct/P1830'), ('pname', 'owner of')]\n",
      "[('p', 'http://www.wikidata.org/prop/direct/P1889'), ('pname', 'different from')]\n",
      "[('p', 'http://www.wikidata.org/prop/direct/P31'), ('pname', 'instance of')]\n",
      "[('p', 'http://www.wikidata.org/prop/direct/P355'), ('pname', 'subsidiary')]\n",
      "[('p', 'http://www.wikidata.org/prop/direct/P361'), ('pname', 'part of')]\n",
      "[('p', 'http://www.wikidata.org/prop/direct/P414'), ('pname', 'stock exchange')]\n",
      "[('p', 'http://www.wikidata.org/prop/direct/P452'), ('pname', 'industry')]\n",
      "[('p', 'http://www.wikidata.org/prop/direct/P463'), ('pname', 'member of')]\n",
      "[('p', 'http://www.wikidata.org/prop/direct/P488'), ('pname', 'chairperson')]\n",
      "[('p', 'http://www.wikidata.org/prop/direct/P495'), ('pname', 'country of origin')]\n",
      "[('p', 'http://www.wikidata.org/prop/direct/P5769'), ('pname', 'editor-in-chief')]\n",
      "[('p', 'http://www.wikidata.org/prop/direct/P6363'), ('pname', 'WordLift URL')]\n",
      "[('p', 'http://www.wikidata.org/prop/direct/P6379'), ('pname', 'has works in the collection')]\n",
      "[('p', 'http://www.wikidata.org/prop/direct/P740'), ('pname', 'location of formation')]\n",
      "[('p', 'http://www.wikidata.org/prop/direct/P749'), ('pname', 'parent organization')]\n",
      "[('p', 'http://www.wikidata.org/prop/direct/P7763'), ('pname', 'copyright status as a creator')]\n",
      "[('p', 'http://www.wikidata.org/prop/direct/P793'), ('pname', 'significant event')]\n",
      "[('p', 'http://www.wikidata.org/prop/direct/P856'), ('pname', 'official website')]\n",
      "[('p', 'http://www.wikidata.org/prop/direct/P910'), ('pname', \"topic's main category\")]\n",
      "[('p', 'http://www.wikidata.org/prop/direct/P968'), ('pname', 'email address')]\n",
      "[('p', 'http://www.wikidata.org/prop/direct/P973'), ('pname', 'described at URL')]\n",
      "[('p', 'http://www.wikidata.org/prop/direct/P989'), ('pname', 'spoken text audio')]\n",
      "[('p', 'http://www.wikidata.org/prop/direct/P113'), ('pname', 'airline hub')]\n",
      "[('p', 'http://www.wikidata.org/prop/direct/P1019'), ('pname', 'web feed URL')]\n",
      "[('p', 'http://www.wikidata.org/prop/direct/P1343'), ('pname', 'described by source')]\n",
      "[('p', 'http://www.wikidata.org/prop/direct/P1424'), ('pname', \"topic's main template\")]\n",
      "[('p', 'http://www.wikidata.org/prop/direct/P170'), ('pname', 'creator')]\n",
      "[('p', 'http://www.wikidata.org/prop/direct/P641'), ('pname', 'sport')]\n",
      "[('p', 'http://www.wikidata.org/prop/direct/P8972'), ('pname', 'small logo or icon')]\n",
      "[('p', 'http://www.wikidata.org/prop/direct/P92'), ('pname', 'main regulatory text')]\n",
      "[('p', 'http://www.wikidata.org/prop/direct/P921'), ('pname', 'main subject')]\n",
      "[('p', 'http://www.wikidata.org/prop/direct/P7101'), ('pname', 'privacy policy URL')]\n",
      "[('p', 'http://www.wikidata.org/prop/direct/P121'), ('pname', 'item operated')]\n",
      "[('p', 'http://www.wikidata.org/prop/direct/P2699'), ('pname', 'URL')]\n",
      "[('p', 'http://www.wikidata.org/prop/direct/P137'), ('pname', 'operator')]\n",
      "[('p', 'http://www.wikidata.org/prop/direct/P276'), ('pname', 'location')]\n",
      "[('p', 'http://www.wikidata.org/prop/direct/P3320'), ('pname', 'board member')]\n",
      "[('p', 'http://www.wikidata.org/prop/direct/P41'), ('pname', 'flag image')]\n",
      "[('p', 'http://www.wikidata.org/prop/direct/P4195'), ('pname', 'category for employees of the organization')]\n",
      "[('p', 'http://www.wikidata.org/prop/direct/P6269'), ('pname', 'API endpoint')]\n",
      "[('p', 'http://www.wikidata.org/prop/direct/P8571'), ('pname', 'external auditor')]\n",
      "[('p', 'http://www.wikidata.org/prop/direct/P5052'), ('pname', 'supervisory board member')]\n",
      "[('p', 'http://www.wikidata.org/prop/direct/P7888'), ('pname', 'merged into')]\n",
      "[('p', 'http://www.wikidata.org/prop/direct/P8464'), ('pname', 'content partnership category')]\n",
      "[('p', 'http://www.wikidata.org/prop/direct/P115'), ('pname', 'home venue')]\n",
      "[('p', 'http://www.wikidata.org/prop/direct/P118'), ('pname', 'league')]\n",
      "[('p', 'http://www.wikidata.org/prop/direct/P123'), ('pname', 'publisher')]\n",
      "[('p', 'http://www.wikidata.org/prop/direct/P126'), ('pname', 'maintained by')]\n",
      "[('p', 'http://www.wikidata.org/prop/direct/P1344'), ('pname', 'participant in')]\n",
      "[('p', 'http://www.wikidata.org/prop/direct/P136'), ('pname', 'genre')]\n",
      "[('p', 'http://www.wikidata.org/prop/direct/P1687'), ('pname', 'Wikidata property')]\n",
      "[('p', 'http://www.wikidata.org/prop/direct/P178'), ('pname', 'developer')]\n",
      "[('p', 'http://www.wikidata.org/prop/direct/P199'), ('pname', 'business division')]\n",
      "[('p', 'http://www.wikidata.org/prop/direct/P279'), ('pname', 'subclass of')]\n",
      "[('p', 'http://www.wikidata.org/prop/direct/P286'), ('pname', 'head coach')]\n",
      "[('p', 'http://www.wikidata.org/prop/direct/P358'), ('pname', 'discography')]\n",
      "[('p', 'http://www.wikidata.org/prop/direct/P407'), ('pname', 'language of work or name')]\n",
      "[('p', 'http://www.wikidata.org/prop/direct/P460'), ('pname', 'said to be the same as')]\n",
      "[('p', 'http://www.wikidata.org/prop/direct/P6364'), ('pname', 'official color(s)')]\n",
      "[('p', 'http://www.wikidata.org/prop/direct/P7014'), ('pname', 'terms of service URL')]\n",
      "[('p', 'http://www.wikidata.org/prop/direct/P800'), ('pname', 'notable work')]\n",
      "[('p', 'http://www.wikidata.org/prop/direct/P94'), ('pname', 'coat of arms image')]\n",
      "[('p', 'http://www.wikidata.org/prop/direct/P634'), ('pname', 'captain')]\n",
      "[('p', 'http://www.wikidata.org/prop/direct/P1411'), ('pname', 'nominated for')]\n",
      "[('p', 'http://www.wikidata.org/prop/direct/P1482'), ('pname', 'Stack Exchange tag')]\n",
      "[('p', 'http://www.wikidata.org/prop/direct/P3342'), ('pname', 'significant person')]\n",
      "[('p', 'http://www.wikidata.org/prop/direct/P485'), ('pname', 'archives at')]\n",
      "[('p', 'http://www.wikidata.org/prop/direct/P527'), ('pname', 'has part')]\n",
      "[('p', 'http://www.wikidata.org/prop/direct/P669'), ('pname', 'located on street')]\n",
      "[('p', 'http://www.wikidata.org/prop/direct/P1327'), ('pname', 'partner in business or sport')]\n",
      "[('p', 'http://www.wikidata.org/prop/direct/P242'), ('pname', 'locator map image')]\n",
      "[('p', 'http://www.wikidata.org/prop/direct/P2716'), ('pname', 'collage image')]\n",
      "[('p', 'http://www.wikidata.org/prop/direct/P2936'), ('pname', 'language used')]\n",
      "[('p', 'http://www.wikidata.org/prop/direct/P9549'), ('pname', 'official podcast')]\n",
      "[('p', 'http://www.wikidata.org/prop/direct/P1552'), ('pname', 'has quality')]\n",
      "[('p', 'http://www.wikidata.org/prop/direct/P2670'), ('pname', 'has parts of the class')]\n",
      "[('p', 'http://www.wikidata.org/prop/direct/P5008'), ('pname', 'on focus list of Wikimedia project')]\n",
      "[('p', 'http://www.wikidata.org/prop/direct/P2541'), ('pname', 'operating area')]\n"
     ]
    },
    {
     "data": {
      "text/plain": [
       "100"
      ]
     },
     "execution_count": 22,
     "metadata": {},
     "output_type": "execute_result"
    }
   ],
   "source": [
    "#Q15\n",
    "#as Q9 but filter literals\n",
    "queryString = \"\"\"\n",
    "SELECT DISTINCT ?p ?pname\n",
    "WHERE { \n",
    "\n",
    "?s wdt:P31 wd:Q4830453;\n",
    "   wdt:P1454 ?form;\n",
    "   ?p ?o.\n",
    "   \n",
    "FILTER(!isLiteral(?o))\n",
    "#Labels\n",
    "\n",
    "?p <http://schema.org/name> ?pname .\n",
    "} \n",
    "LIMIT 100\n",
    "\"\"\"\n",
    "\n",
    "print(\"Results\")\n",
    "run_query(queryString)"
   ]
  },
  {
   "cell_type": "markdown",
   "id": "be9ebf2e-4c40-4189-bcfb-50c6c2ef5565",
   "metadata": {},
   "source": [
    "Count how many french companies has P452."
   ]
  },
  {
   "cell_type": "code",
   "execution_count": 23,
   "id": "4882f38d-b7b1-4c75-8bf5-74344cba1cf5",
   "metadata": {},
   "outputs": [
    {
     "name": "stdout",
     "output_type": "stream",
     "text": [
      "Results\n",
      "[('HowMany', '1573')]\n"
     ]
    },
    {
     "data": {
      "text/plain": [
       "1"
      ]
     },
     "execution_count": 23,
     "metadata": {},
     "output_type": "execute_result"
    }
   ],
   "source": [
    "#Q16\n",
    "#count how many french companies has P452\n",
    "queryString = \"\"\"\n",
    "SELECT (COUNT (DISTINCT(?p)) AS ?HowMany)\n",
    "WHERE { \n",
    "\n",
    "{ \n",
    "?p wdt:P17 wd:Q142  . \n",
    "?p wdt:P31 wd:Q6881511  .\n",
    "?p wdt:P452 ?o.\n",
    "} UNION {\n",
    "?p wdt:P17 wd:Q142  . \n",
    "?p wdt:P31 wd:Q4830453  . \n",
    "?p wdt:P452 ?o.\n",
    "}\n",
    "} \n",
    "\"\"\"\n",
    "\n",
    "print(\"Results\")\n",
    "run_query(queryString)"
   ]
  },
  {
   "cell_type": "markdown",
   "id": "5487f25d-7513-4feb-806f-55a0e655ce21",
   "metadata": {},
   "source": [
    "Retrieve some objects of P452."
   ]
  },
  {
   "cell_type": "code",
   "execution_count": 24,
   "id": "adb1ac3a-60b8-495f-80a2-41bdd1385542",
   "metadata": {},
   "outputs": [
    {
     "name": "stdout",
     "output_type": "stream",
     "text": [
      "Results\n",
      "[('o', 'http://www.wikidata.org/entity/Q396622'), ('oname', 'agribusiness')]\n",
      "[('o', 'http://www.wikidata.org/entity/Q126793'), ('oname', 'retail')]\n",
      "[('o', 'http://www.wikidata.org/entity/Q44497'), ('oname', 'mining')]\n",
      "[('o', 'http://www.wikidata.org/entity/Q2151621'), ('oname', 'energy industry')]\n",
      "[('o', 'http://www.wikidata.org/entity/Q187939'), ('oname', 'manufacturing')]\n",
      "[('o', 'http://www.wikidata.org/entity/Q207652'), ('oname', 'chemical industry')]\n",
      "[('o', 'http://www.wikidata.org/entity/Q3510521'), ('oname', 'computer security')]\n",
      "[('o', 'http://www.wikidata.org/entity/Q540912'), ('oname', 'food industry')]\n",
      "[('o', 'http://www.wikidata.org/entity/Q29584635'), ('oname', 'Manufacture of railway locomotives and rolling stock')]\n",
      "[('o', 'http://www.wikidata.org/entity/Q13405640'), ('oname', 'construction industry')]\n",
      "[('o', 'http://www.wikidata.org/entity/Q2986369'), ('oname', 'semiconductor industry')]\n",
      "[('o', 'http://www.wikidata.org/entity/Q56611700'), ('oname', 'internet industry')]\n",
      "[('o', 'http://www.wikidata.org/entity/Q190117'), ('oname', 'automotive industry')]\n",
      "[('o', 'http://www.wikidata.org/entity/Q7397'), ('oname', 'software')]\n",
      "[('o', 'http://www.wikidata.org/entity/Q941594'), ('oname', 'video game industry')]\n",
      "[('o', 'http://www.wikidata.org/entity/Q14620'), ('oname', 'optics')]\n",
      "[('o', 'http://www.wikidata.org/entity/Q474200'), ('oname', 'shipbuilding')]\n",
      "[('o', 'http://www.wikidata.org/entity/Q6657015'), ('oname', 'medical equipment')]\n",
      "[('o', 'http://www.wikidata.org/entity/Q1266169'), ('oname', 'telephone company')]\n",
      "[('o', 'http://www.wikidata.org/entity/Q12684'), ('oname', 'fashion')]\n",
      "[('o', 'http://www.wikidata.org/entity/Q1073015'), ('oname', 'domain name registrar')]\n",
      "[('o', 'http://www.wikidata.org/entity/Q7108'), ('oname', 'biotechnology')]\n",
      "[('o', 'http://www.wikidata.org/entity/Q29584657'), ('oname', 'Electric power generation, transmission and distribution')]\n",
      "[('o', 'http://www.wikidata.org/entity/Q5892272'), ('oname', 'web hosting service')]\n",
      "[('o', 'http://www.wikidata.org/entity/Q7590'), ('oname', 'transport')]\n",
      "[('o', 'http://www.wikidata.org/entity/Q1757562'), ('oname', 'air transport')]\n",
      "[('o', 'http://www.wikidata.org/entity/Q1434048'), ('oname', 'aircraft construction')]\n",
      "[('o', 'http://www.wikidata.org/entity/Q1540863'), ('oname', 'information technology consulting')]\n",
      "[('o', 'http://www.wikidata.org/entity/Q12752882'), ('oname', 'cosmetics industry')]\n",
      "[('o', 'http://www.wikidata.org/entity/Q213376'), ('oname', 'winemaking')]\n",
      "[('o', 'http://www.wikidata.org/entity/Q131746'), ('oname', 'perfume')]\n",
      "[('o', 'http://www.wikidata.org/entity/Q1358919'), ('oname', 'bicycle-sharing system')]\n",
      "[('o', 'http://www.wikidata.org/entity/Q3246832'), ('oname', 'personal care products')]\n",
      "[('o', 'http://www.wikidata.org/entity/Q107597958'), ('oname', 'vehicle construction')]\n",
      "[('o', 'http://www.wikidata.org/entity/Q11650'), ('oname', 'electronics')]\n",
      "[('o', 'http://www.wikidata.org/entity/Q29584334'), ('oname', 'Financial service activities, except insurance and pension funding')]\n",
      "[('o', 'http://www.wikidata.org/entity/Q3966'), ('oname', 'computer hardware')]\n",
      "[('o', 'http://www.wikidata.org/entity/Q5916'), ('oname', 'spaceflight')]\n",
      "[('o', 'http://www.wikidata.org/entity/Q765633'), ('oname', 'aviation')]\n",
      "[('o', 'http://www.wikidata.org/entity/Q10302058'), ('oname', 'phonographic industry')]\n",
      "[('o', 'http://www.wikidata.org/entity/Q11033'), ('oname', 'mass media')]\n",
      "[('o', 'http://www.wikidata.org/entity/Q1416657'), ('oname', 'Finance')]\n",
      "[('o', 'http://www.wikidata.org/entity/Q1875606'), ('oname', 'aviation industry')]\n",
      "[('o', 'http://www.wikidata.org/entity/Q806718'), ('oname', 'banking industry')]\n",
      "[('o', 'http://www.wikidata.org/entity/Q837171'), ('oname', 'financial services')]\n",
      "[('o', 'http://www.wikidata.org/entity/Q291240'), ('oname', 'car rental company')]\n",
      "[('o', 'http://www.wikidata.org/entity/Q49389'), ('oname', 'tourism')]\n",
      "[('o', 'http://www.wikidata.org/entity/Q392933'), ('oname', 'arms industry')]\n",
      "[('o', 'http://www.wikidata.org/entity/Q873442'), ('oname', 'asset management')]\n",
      "[('o', 'http://www.wikidata.org/entity/Q22908'), ('oname', 'retirement home')]\n"
     ]
    },
    {
     "data": {
      "text/plain": [
       "50"
      ]
     },
     "execution_count": 24,
     "metadata": {},
     "output_type": "execute_result"
    }
   ],
   "source": [
    "#Q17\n",
    "#look at some results from P452\n",
    "queryString = \"\"\"\n",
    "SELECT DISTINCT ?o ?oname\n",
    "WHERE { \n",
    "\n",
    "?s wdt:P31 wd:Q4830453;\n",
    "   wdt:P1454 ?form;\n",
    "   wdt:P17 wd:Q142;\n",
    "   wdt:P452 ?o.\n",
    "\n",
    "#Labels\n",
    "?o <http://schema.org/name> ?oname .\n",
    "} \n",
    "LIMIT 50\n",
    "\"\"\"\n",
    "\n",
    "print(\"Results\")\n",
    "run_query(queryString)"
   ]
  },
  {
   "cell_type": "markdown",
   "id": "5b923772-9c87-47e0-b14a-8612a7427d55",
   "metadata": {},
   "source": [
    "<h3> TASK 1 ENDS HERE </h3>\n",
    "I found the following predicates P31 is for the type, P1454 for legal form, P452 for industry. On top of that i noticed that some companies have\n",
    "#also P101 (field of work) and P1056 (product or material produced)."
   ]
  },
  {
   "cell_type": "code",
   "execution_count": 25,
   "id": "9bdb7fd4-2a27-439c-92d0-d2063168482f",
   "metadata": {},
   "outputs": [
    {
     "name": "stdout",
     "output_type": "stream",
     "text": [
      "Results\n",
      "[('c', 'http://www.wikidata.org/entity/Q17177091'), ('type', 'http://www.wikidata.org/entity/Q4830453'), ('form', 'http://www.wikidata.org/entity/Q654502'), ('industry', 'http://www.wikidata.org/entity/Q540912')]\n",
      "[('c', 'http://www.wikidata.org/entity/Q17177091'), ('type', 'http://www.wikidata.org/entity/Q6881511'), ('form', 'http://www.wikidata.org/entity/Q654502'), ('industry', 'http://www.wikidata.org/entity/Q540912')]\n",
      "[('c', 'http://www.wikidata.org/entity/Q3036861'), ('type', 'http://www.wikidata.org/entity/Q4830453'), ('form', 'http://www.wikidata.org/entity/Q15091621'), ('industry', 'http://www.wikidata.org/entity/Q941594')]\n",
      "[('c', 'http://www.wikidata.org/entity/Q3036861'), ('type', 'http://www.wikidata.org/entity/Q6881511'), ('form', 'http://www.wikidata.org/entity/Q15091621'), ('industry', 'http://www.wikidata.org/entity/Q941594')]\n",
      "[('c', 'http://www.wikidata.org/entity/Q3036861'), ('type', 'http://www.wikidata.org/entity/Q210167'), ('form', 'http://www.wikidata.org/entity/Q15091621'), ('industry', 'http://www.wikidata.org/entity/Q941594')]\n",
      "[('c', 'http://www.wikidata.org/entity/Q22248343'), ('type', 'http://www.wikidata.org/entity/Q35127'), ('form', 'http://www.wikidata.org/entity/Q654502'), ('industry', 'http://www.wikidata.org/entity/Q56611700')]\n",
      "[('c', 'http://www.wikidata.org/entity/Q22248343'), ('type', 'http://www.wikidata.org/entity/Q4830453'), ('form', 'http://www.wikidata.org/entity/Q654502'), ('industry', 'http://www.wikidata.org/entity/Q56611700')]\n",
      "[('c', 'http://www.wikidata.org/entity/Q22248343'), ('type', 'http://www.wikidata.org/entity/Q6881511'), ('form', 'http://www.wikidata.org/entity/Q654502'), ('industry', 'http://www.wikidata.org/entity/Q56611700')]\n",
      "[('c', 'http://www.wikidata.org/entity/Q1305281'), ('type', 'http://www.wikidata.org/entity/Q3477381'), ('form', 'http://www.wikidata.org/entity/Q18195767'), ('industry', 'http://www.wikidata.org/entity/Q190117')]\n",
      "[('c', 'http://www.wikidata.org/entity/Q1305281'), ('type', 'http://www.wikidata.org/entity/Q891723'), ('form', 'http://www.wikidata.org/entity/Q18195767'), ('industry', 'http://www.wikidata.org/entity/Q190117')]\n"
     ]
    },
    {
     "data": {
      "text/plain": [
       "10"
      ]
     },
     "execution_count": 25,
     "metadata": {},
     "output_type": "execute_result"
    }
   ],
   "source": [
    "#TASK 1 ENDS HERE:\n",
    "#i found the following predicates P31 is for the type, P1454 for legal form, P452 for industry. On top of that i noticed that some companies have\n",
    "#also P101 (field of work) and P1056 (product or material produced)\n",
    "queryString = \"\"\"\n",
    "SELECT DISTINCT ?c ?type ?form ?industry\n",
    "WHERE { \n",
    "\n",
    "?c wdt:P31 ?type;\n",
    "   wdt:P1454 ?form;\n",
    "   wdt:P17 wd:Q142;\n",
    "   wdt:P452 ?industry.\n",
    "\n",
    "} \n",
    "LIMIT 10\n",
    "\"\"\"\n",
    "\n",
    "print(\"Results\")\n",
    "run_query(queryString)"
   ]
  },
  {
   "cell_type": "markdown",
   "id": "810029fd-ee7a-4d53-b07b-5d331bd99e08",
   "metadata": {},
   "source": [
    "<h3>TASK 2 STARTS HERE</h3>\n",
    "Identify the BGP to retrieve all companies owned by a company located in a EU country."
   ]
  },
  {
   "cell_type": "markdown",
   "id": "2522d780-773f-445b-9341-56e6d99c8297",
   "metadata": {},
   "source": [
    "Use P1830 (owner of) found in Q1."
   ]
  },
  {
   "cell_type": "code",
   "execution_count": 27,
   "id": "4075a8b8-90eb-431d-bdce-1ba3e84dffbf",
   "metadata": {},
   "outputs": [
    {
     "name": "stdout",
     "output_type": "stream",
     "text": [
      "Results\n",
      "[('o', 'http://www.wikidata.org/entity/Q5446533'), ('oname', 'Ficosa')]\n",
      "[('o', 'http://www.wikidata.org/entity/Q21178747'), ('oname', 'Younicos')]\n"
     ]
    },
    {
     "data": {
      "text/plain": [
       "2"
      ]
     },
     "execution_count": 27,
     "metadata": {},
     "output_type": "execute_result"
    }
   ],
   "source": [
    "#Q18\n",
    "#previously (Q1) i found \"owner of\" (P1830), let's use it on AXA\n",
    "queryString = \"\"\"\n",
    "SELECT DISTINCT ?o ?oname\n",
    "WHERE { \n",
    "\n",
    "wd:Q29110228 wdt:P1830 ?o.\n",
    "\n",
    "#Labels\n",
    "?o <http://schema.org/name> ?oname .\n",
    "\n",
    "} \n",
    "LIMIT 10\n",
    "\"\"\"\n",
    "\n",
    "print(\"Results\")\n",
    "run_query(queryString)"
   ]
  },
  {
   "cell_type": "code",
   "execution_count": 28,
   "id": "84bfaf8e-4b6c-43bf-a514-b79c599f3509",
   "metadata": {},
   "outputs": [
    {
     "name": "stdout",
     "output_type": "stream",
     "text": [
      "Results\n",
      "[('p', 'http://www.wikidata.org/prop/direct/P159'), ('pname', 'headquarters location'), ('o', 'http://www.wikidata.org/entity/Q1492'), ('oname', 'Barcelona')]\n",
      "[('p', 'http://www.wikidata.org/prop/direct/P452'), ('pname', 'industry'), ('o', 'http://www.wikidata.org/entity/Q190117'), ('oname', 'automotive industry')]\n",
      "[('p', 'http://www.wikidata.org/prop/direct/P17'), ('pname', 'country'), ('o', 'http://www.wikidata.org/entity/Q29'), ('oname', 'Spain')]\n",
      "[('p', 'http://www.wikidata.org/prop/direct/P31'), ('pname', 'instance of'), ('o', 'http://www.wikidata.org/entity/Q4830453'), ('oname', 'business')]\n",
      "[('p', 'http://www.wikidata.org/prop/direct/P31'), ('pname', 'instance of'), ('o', 'http://www.wikidata.org/entity/Q6881511'), ('oname', 'enterprise')]\n"
     ]
    },
    {
     "data": {
      "text/plain": [
       "5"
      ]
     },
     "execution_count": 28,
     "metadata": {},
     "output_type": "execute_result"
    }
   ],
   "source": [
    "#Q19\n",
    "#closer look to previous result\n",
    "queryString = \"\"\"\n",
    "SELECT ?p ?pname ?o ?oname\n",
    "WHERE { \n",
    "\n",
    "wd:Q5446533 ?p ?o.\n",
    "\n",
    "#Labels\n",
    "?p <http://schema.org/name> ?pname .\n",
    "?o <http://schema.org/name> ?oname .\n",
    "\n",
    "} \n",
    "LIMIT 25\n",
    "\"\"\"\n",
    "\n",
    "print(\"Results\")\n",
    "run_query(queryString)"
   ]
  },
  {
   "cell_type": "markdown",
   "id": "d07c968b-2c5c-4b1b-9b55-c772680d2019",
   "metadata": {},
   "source": [
    "I think that P1830 is to find \"sub-companies\"  while P355/P749 is the reverse path (as seen in previous queries)."
   ]
  },
  {
   "cell_type": "code",
   "execution_count": 29,
   "id": "7497de67-ca7c-42a4-bde0-8e307a7c0ff4",
   "metadata": {},
   "outputs": [
    {
     "name": "stdout",
     "output_type": "stream",
     "text": [
      "Results\n",
      "[('p', 'http://www.wikidata.org/prop/direct/P1001'), ('pname', 'applies to jurisdiction'), ('o', 'http://www.wikidata.org/entity/Q145'), ('oname', 'United Kingdom')]\n",
      "[('p', 'http://www.wikidata.org/prop/direct/P17'), ('pname', 'country'), ('o', 'http://www.wikidata.org/entity/Q145'), ('oname', 'United Kingdom')]\n",
      "[('p', 'http://www.wikidata.org/prop/direct/P279'), ('pname', 'subclass of'), ('o', 'http://www.wikidata.org/entity/Q134161'), ('oname', 'joint-stock company')]\n",
      "[('p', 'http://www.wikidata.org/prop/direct/P279'), ('pname', 'subclass of'), ('o', 'http://www.wikidata.org/entity/Q155076'), ('oname', 'juridical person')]\n",
      "[('p', 'http://www.wikidata.org/prop/direct/P279'), ('pname', 'subclass of'), ('o', 'http://www.wikidata.org/entity/Q18624259'), ('oname', 'private limited liability company')]\n",
      "[('p', 'http://www.wikidata.org/prop/direct/P31'), ('pname', 'instance of'), ('o', 'http://www.wikidata.org/entity/Q57655433'), ('oname', 'type of business entity in the UK')]\n"
     ]
    },
    {
     "data": {
      "text/plain": [
       "6"
      ]
     },
     "execution_count": 29,
     "metadata": {},
     "output_type": "execute_result"
    }
   ],
   "source": [
    "#Q20\n",
    "#looking for class \"company\"\n",
    "queryString = \"\"\"\n",
    "SELECT ?p ?pname ?o ?oname\n",
    "WHERE { \n",
    "\n",
    "wd:Q6832945 ?p ?o.\n",
    "\n",
    "#Labels\n",
    "?p <http://schema.org/name> ?pname .\n",
    "?o <http://schema.org/name> ?oname .\n",
    "\n",
    "} \n",
    "LIMIT 25\n",
    "\"\"\"\n",
    "\n",
    "print(\"Results\")\n",
    "run_query(queryString)"
   ]
  },
  {
   "cell_type": "markdown",
   "id": "adf2f27e-9c36-465b-8475-230342db8820",
   "metadata": {},
   "source": [
    "Iterate over P279."
   ]
  },
  {
   "cell_type": "code",
   "execution_count": 31,
   "id": "222b920d-4127-4ec0-a624-cb483e127889",
   "metadata": {},
   "outputs": [
    {
     "name": "stdout",
     "output_type": "stream",
     "text": [
      "Results\n",
      "[('o', 'http://www.wikidata.org/entity/Q830077'), ('oname', 'subject')]\n",
      "[('o', 'http://www.wikidata.org/entity/Q6832945'), ('oname', 'private company limited by shares')]\n",
      "[('o', 'http://www.wikidata.org/entity/Q1415187'), ('oname', 'economic agent')]\n",
      "[('o', 'http://www.wikidata.org/entity/Q6671777'), ('oname', 'structure')]\n",
      "[('o', 'http://www.wikidata.org/entity/Q679206'), ('oname', 'organizational unit')]\n",
      "[('o', 'http://www.wikidata.org/entity/Q35120'), ('oname', 'entity')]\n",
      "[('o', 'http://www.wikidata.org/entity/Q16334298'), ('oname', 'group of living things')]\n",
      "[('o', 'http://www.wikidata.org/entity/Q43229'), ('oname', 'organization')]\n",
      "[('o', 'http://www.wikidata.org/entity/Q4830453'), ('oname', 'business')]\n",
      "[('o', 'http://www.wikidata.org/entity/Q6881511'), ('oname', 'enterprise')]\n",
      "[('o', 'http://www.wikidata.org/entity/Q1589009'), ('oname', 'privately held company')]\n",
      "[('o', 'http://www.wikidata.org/entity/Q16334295'), ('oname', 'group of humans')]\n",
      "[('o', 'http://www.wikidata.org/entity/Q16889133'), ('oname', 'class')]\n",
      "[('o', 'http://www.wikidata.org/entity/Q103940464'), ('oname', 'continuant')]\n",
      "[('o', 'http://www.wikidata.org/entity/Q28813620'), ('oname', 'set')]\n",
      "[('o', 'http://www.wikidata.org/entity/Q134161'), ('oname', 'joint-stock company')]\n",
      "[('o', 'http://www.wikidata.org/entity/Q16887380'), ('oname', 'group')]\n",
      "[('o', 'http://www.wikidata.org/entity/Q28877'), ('oname', 'goods')]\n",
      "[('o', 'http://www.wikidata.org/entity/Q7184903'), ('oname', 'abstract object')]\n",
      "[('o', 'http://www.wikidata.org/entity/Q783794'), ('oname', 'company')]\n",
      "[('o', 'http://www.wikidata.org/entity/Q33685'), ('oname', 'limited company')]\n",
      "[('o', 'http://www.wikidata.org/entity/Q488383'), ('oname', 'object')]\n",
      "[('o', 'http://www.wikidata.org/entity/Q155076'), ('oname', 'juridical person')]\n",
      "[('o', 'http://www.wikidata.org/entity/Q18624259'), ('oname', 'private limited liability company')]\n",
      "[('o', 'http://www.wikidata.org/entity/Q3778211'), ('oname', 'legal person')]\n",
      "[('o', 'http://www.wikidata.org/entity/Q61961344'), ('oname', 'group of physical objects')]\n",
      "[('o', 'http://www.wikidata.org/entity/Q2897903'), ('oname', 'goods and services')]\n",
      "[('o', 'http://www.wikidata.org/entity/Q58415929'), ('oname', 'spatio-temporal entity')]\n",
      "[('o', 'http://www.wikidata.org/entity/Q23958946'), ('oname', 'individual entity')]\n",
      "[('o', 'http://www.wikidata.org/entity/Q567521'), ('oname', 'commercial company')]\n",
      "[('o', 'http://www.wikidata.org/entity/Q98119401'), ('oname', 'group or class of physical objects')]\n",
      "[('o', 'http://www.wikidata.org/entity/Q5621421'), ('oname', 'private company')]\n",
      "[('o', 'http://www.wikidata.org/entity/Q56876011'), ('oname', 'private corporation')]\n",
      "[('o', 'http://www.wikidata.org/entity/Q2198779'), ('oname', 'unit')]\n",
      "[('o', 'http://www.wikidata.org/entity/Q362482'), ('oname', 'operation')]\n",
      "[('o', 'http://www.wikidata.org/entity/Q24229398'), ('oname', 'agent')]\n",
      "[('o', 'http://www.wikidata.org/entity/Q106559804'), ('oname', 'person or organization')]\n",
      "[('o', 'http://www.wikidata.org/entity/Q3563237'), ('oname', 'economic unit')]\n",
      "[('o', 'http://www.wikidata.org/entity/Q99527517'), ('oname', 'collective entity')]\n",
      "[('o', 'http://www.wikidata.org/entity/Q26720107'), ('oname', 'subject of a right')]\n"
     ]
    },
    {
     "data": {
      "text/plain": [
       "40"
      ]
     },
     "execution_count": 31,
     "metadata": {},
     "output_type": "execute_result"
    }
   ],
   "source": [
    "#Q20\n",
    "#so P1830 is to find \"sub-companies\"  while P355/P749 is the reverse path (as seen in previous queries)\n",
    "#looking for class \"company\"\n",
    "queryString = \"\"\"\n",
    "SELECT DISTINCT ?o ?oname\n",
    "WHERE { \n",
    "\n",
    "wd:Q6832945 wdt:P279* ?o.\n",
    "\n",
    "#Labels\n",
    "?o <http://schema.org/name> ?oname .\n",
    "\n",
    "} \n",
    "LIMIT 50\n",
    "\"\"\"\n",
    "\n",
    "print(\"Results\")\n",
    "run_query(queryString)"
   ]
  },
  {
   "cell_type": "markdown",
   "id": "5b7f6d27-0df5-4629-a9e4-39c3b4c066e9",
   "metadata": {},
   "source": [
    "From previous result I know that wd:Q783794 is for company. Count all the french companies."
   ]
  },
  {
   "cell_type": "code",
   "execution_count": 32,
   "id": "8165b887-d5cd-4890-ab40-eccad485ef63",
   "metadata": {},
   "outputs": [
    {
     "name": "stdout",
     "output_type": "stream",
     "text": [
      "Results\n",
      "[('Companies', '35')]\n"
     ]
    },
    {
     "data": {
      "text/plain": [
       "1"
      ]
     },
     "execution_count": 32,
     "metadata": {},
     "output_type": "execute_result"
    }
   ],
   "source": [
    "#Q21\n",
    "#try to count all french companies\n",
    "queryString = \"\"\"\n",
    "SELECT (COUNT (DISTINCT ?p) AS ?Companies)\n",
    "WHERE { \n",
    "\n",
    "?p wdt:P1454 wd:Q783794;\n",
    "   wdt:P17 wd:Q142.\n",
    "\n",
    "} \n",
    "LIMIT 25\n",
    "\"\"\"\n",
    "\n",
    "print(\"Results\")\n",
    "run_query(queryString)"
   ]
  },
  {
   "cell_type": "markdown",
   "id": "4ff86e9a-60d4-439f-baee-e13ad9e99c87",
   "metadata": {},
   "source": [
    "Same above but iterate over P279."
   ]
  },
  {
   "cell_type": "code",
   "execution_count": 33,
   "id": "955c12cb-b478-4f94-a8db-44ed54de45f9",
   "metadata": {},
   "outputs": [
    {
     "name": "stdout",
     "output_type": "stream",
     "text": [
      "Results\n",
      "[('Companies', '2273')]\n"
     ]
    },
    {
     "data": {
      "text/plain": [
       "1"
      ]
     },
     "execution_count": 33,
     "metadata": {},
     "output_type": "execute_result"
    }
   ],
   "source": [
    "#Q22\n",
    "#wd:Q783794 is for company\n",
    "#try to count all french companies, adding what found on Q20\n",
    "queryString = \"\"\"\n",
    "SELECT (COUNT (DISTINCT ?p) AS ?Companies)\n",
    "WHERE { \n",
    "\n",
    "?p wdt:P1454 ?form;\n",
    "   wdt:P17 wd:Q142.\n",
    "?form wdt:P279* wd:Q783794.\n",
    "\n",
    "} \n",
    "LIMIT 25\n",
    "\"\"\"\n",
    "\n",
    "print(\"Results\")\n",
    "run_query(queryString)"
   ]
  },
  {
   "cell_type": "markdown",
   "id": "e47a05d8-abb3-4c6f-87db-86af379fda3a",
   "metadata": {},
   "source": [
    "Try to find the BGP for being EU member."
   ]
  },
  {
   "cell_type": "code",
   "execution_count": 34,
   "id": "322b5332-e566-4b02-bf7a-06bc5795e680",
   "metadata": {},
   "outputs": [
    {
     "name": "stdout",
     "output_type": "stream",
     "text": [
      "Results\n",
      "[('p', 'http://www.wikidata.org/prop/direct/P463'), ('pname', 'member of')]\n"
     ]
    },
    {
     "data": {
      "text/plain": [
       "1"
      ]
     },
     "execution_count": 34,
     "metadata": {},
     "output_type": "execute_result"
    }
   ],
   "source": [
    "#Q23\n",
    "#find link with EU\n",
    "queryString = \"\"\"\n",
    "SELECT ?p ?pname\n",
    "WHERE { \n",
    "\n",
    "wd:Q142 ?p wd:Q458.\n",
    "\n",
    "#Labels\n",
    "?p <http://schema.org/name> ?pname .\n",
    "\n",
    "} \n",
    "LIMIT 25\n",
    "\"\"\"\n",
    "\n",
    "print(\"Results\")\n",
    "run_query(queryString)"
   ]
  },
  {
   "cell_type": "markdown",
   "id": "70d6730c-ce01-498d-9f3e-8121ab339f17",
   "metadata": {},
   "source": [
    "Retrive EU business with highest number of subcompanies."
   ]
  },
  {
   "cell_type": "code",
   "execution_count": 35,
   "id": "2d4c73e6-f3c2-4713-91f4-a6fce980ed42",
   "metadata": {},
   "outputs": [
    {
     "name": "stdout",
     "output_type": "stream",
     "text": [
      "Results\n",
      "[('s', 'http://www.wikidata.org/entity/Q381955'), ('OwnedCompanies', '109')]\n"
     ]
    },
    {
     "data": {
      "text/plain": [
       "1"
      ]
     },
     "execution_count": 35,
     "metadata": {},
     "output_type": "execute_result"
    }
   ],
   "source": [
    "#Q24\n",
    "#retrive eu business with highest number of subcompanies \n",
    "queryString = \"\"\"\n",
    "SELECT ?s (COUNT(DISTINCT (?o)) AS ?OwnedCompanies)\n",
    "WHERE { \n",
    "\n",
    "?s wdt:P31 ?type;\n",
    "   wdt:P17 ?country;\n",
    "   wdt:P1830 ?o. \n",
    "?country wdt:P463 wd:Q458.\n",
    "\n",
    "FILTER( (?type=wd:Q6881511)||(?type=wd:Q4830453) )\n",
    "} \n",
    "ORDER BY DESC(?OwnedCompanies)\n",
    "LIMIT 1\n",
    "\"\"\"\n",
    "\n",
    "print(\"Results\")\n",
    "run_query(queryString)"
   ]
  },
  {
   "cell_type": "code",
   "execution_count": 36,
   "id": "b171b98d-d37b-4dd2-ae97-8a504a9098d5",
   "metadata": {},
   "outputs": [
    {
     "name": "stdout",
     "output_type": "stream",
     "text": [
      "Results\n",
      "[('Owned', '110')]\n"
     ]
    },
    {
     "data": {
      "text/plain": [
       "1"
      ]
     },
     "execution_count": 36,
     "metadata": {},
     "output_type": "execute_result"
    }
   ],
   "source": [
    "#Q25\n",
    "#check if exists a sort of sub-sub companies by iterating P1830\n",
    "queryString = \"\"\"\n",
    "SELECT (COUNT(DISTINCT(?o)) AS ?Owned)\n",
    "WHERE { \n",
    "\n",
    "wd:Q381955 wdt:P1830* ?o. \n",
    "}\n",
    "LIMIT 1\n",
    "\"\"\"\n",
    "\n",
    "print(\"Results\")\n",
    "run_query(queryString)"
   ]
  },
  {
   "cell_type": "markdown",
   "id": "de12fe0d-2f38-4e29-a56b-eab7c4f5f104",
   "metadata": {},
   "source": [
    "The following result has been edited some cells below because I notice an error."
   ]
  },
  {
   "cell_type": "code",
   "execution_count": 37,
   "id": "f9b9d24b-5591-4f00-acb7-c64521e728f6",
   "metadata": {},
   "outputs": [
    {
     "name": "stdout",
     "output_type": "stream",
     "text": [
      "Results\n",
      "[('s', 'http://www.wikidata.org/entity/Q492820'), ('sname', 'Salling Group'), ('o', 'http://www.wikidata.org/entity/Q18162020'), ('oname', 'Netto UK')]\n",
      "[('s', 'http://www.wikidata.org/entity/Q28871958'), ('sname', 'Seier Capital Denmark'), ('o', 'http://www.wikidata.org/entity/Q15573853'), ('oname', 'Geranium')]\n",
      "[('s', 'http://www.wikidata.org/entity/Q23639837'), ('sname', 'Mila'), ('o', 'http://www.wikidata.org/entity/Q23638508'), ('oname', 'ArtPeople Holding')]\n",
      "[('s', 'http://www.wikidata.org/entity/Q635484'), ('sname', 'Armani'), ('o', 'http://www.wikidata.org/entity/Q16586266'), ('oname', 'Palazzo Orsini')]\n",
      "[('s', 'http://www.wikidata.org/entity/Q493854'), ('sname', 'SSE plc'), ('o', 'http://www.wikidata.org/entity/Q4877211'), ('oname', 'Beatrice Wind Farm')]\n",
      "[('s', 'http://www.wikidata.org/entity/Q493854'), ('sname', 'SSE plc'), ('o', 'http://www.wikidata.org/entity/Q820613'), ('oname', 'Greater Gabbard wind farm')]\n",
      "[('s', 'http://www.wikidata.org/entity/Q524989'), ('sname', 'NCR Corporation'), ('o', 'http://www.wikidata.org/entity/Q5275887'), ('oname', 'Digital Insight')]\n",
      "[('s', 'http://www.wikidata.org/entity/Q524989'), ('sname', 'NCR Corporation'), ('o', 'http://www.wikidata.org/entity/Q6971283'), ('oname', 'National Cash Register Building')]\n",
      "[('s', 'http://www.wikidata.org/entity/Q27231611'), ('sname', 'C.P. DYVIG & CO. A/S'), ('o', 'http://www.wikidata.org/entity/Q27231607'), ('oname', 'CRUISE I A/S')]\n",
      "[('s', 'http://www.wikidata.org/entity/Q4162216'), ('sname', 'Energetický a průmyslový holding'), ('o', 'http://www.wikidata.org/entity/Q27485698'), ('oname', 'Slovak Power Holding')]\n"
     ]
    },
    {
     "data": {
      "text/plain": [
       "10"
      ]
     },
     "execution_count": 37,
     "metadata": {},
     "output_type": "execute_result"
    }
   ],
   "source": [
    "queryString = \"\"\"\n",
    "SELECT ?s ?sname ?o ?oname\n",
    "WHERE { \n",
    "\n",
    "?s wdt:P31 ?type;\n",
    "   wdt:P17 ?country;\n",
    "   wdt:P1830 ?o. \n",
    "?country wdt:P463 wd:Q458.\n",
    "\n",
    "FILTER( (?type=wd:Q6881511)||(?type=wd:Q4830453) )\n",
    "\n",
    "#Labels\n",
    "?s <http://schema.org/name> ?sname .\n",
    "?o <http://schema.org/name> ?oname .\n",
    "} \n",
    "LIMIT 10\n",
    "\"\"\"\n",
    "\n",
    "print(\"Results\")\n",
    "run_query(queryString)"
   ]
  },
  {
   "cell_type": "markdown",
   "id": "ff1bf963-b7a3-41cc-8429-b5f9d5d2d60a",
   "metadata": {},
   "source": [
    "<h3> TASK 3 STARTS HERE </h3>\n",
    "Which company has the largest presence in EU.?"
   ]
  },
  {
   "cell_type": "code",
   "execution_count": 39,
   "id": "f3131b21-ca95-4c4c-8d12-d3ffc0f57f44",
   "metadata": {},
   "outputs": [
    {
     "name": "stdout",
     "output_type": "stream",
     "text": [
      "Results\n",
      "[('s', 'http://www.wikidata.org/entity/Q381955'), ('sname', 'Azienda Trasporti Milanesi')]\n"
     ]
    },
    {
     "data": {
      "text/plain": [
       "1"
      ]
     },
     "execution_count": 39,
     "metadata": {},
     "output_type": "execute_result"
    }
   ],
   "source": [
    "#Q26\n",
    "queryString = \"\"\"\n",
    "SELECT ?s ?sname WHERE\n",
    "{\n",
    "{SELECT ?s (COUNT(DISTINCT (?o)) AS ?OwnedCompanies)\n",
    "WHERE { \n",
    "\n",
    "?s wdt:P31 ?type;\n",
    "   wdt:P17 ?country;\n",
    "   wdt:P1830 ?o. \n",
    "?country wdt:P463 wd:Q458.\n",
    "\n",
    "FILTER( (?type=wd:Q6881511)||(?type=wd:Q4830453) )\n",
    "} \n",
    "ORDER BY DESC(?OwnedCompanies)\n",
    "LIMIT 1\n",
    "}\n",
    "\n",
    "#Labels\n",
    "?s <http://schema.org/name> ?sname .\n",
    "}\n",
    "\"\"\"\n",
    "\n",
    "print(\"Results\")\n",
    "run_query(queryString)"
   ]
  },
  {
   "cell_type": "markdown",
   "id": "f9802651-2301-458c-b592-615468d95675",
   "metadata": {},
   "source": [
    "As above but iterating over P1830."
   ]
  },
  {
   "cell_type": "code",
   "execution_count": 40,
   "id": "96d20a13-e87a-4842-9f7b-95bd67a2f5da",
   "metadata": {},
   "outputs": [
    {
     "name": "stdout",
     "output_type": "stream",
     "text": [
      "Results\n",
      "[('s', 'http://www.wikidata.org/entity/Q846484'), ('sname', 'Caisse des dépôts et consignations'), ('OwnedCompanies', '151')]\n"
     ]
    },
    {
     "data": {
      "text/plain": [
       "1"
      ]
     },
     "execution_count": 40,
     "metadata": {},
     "output_type": "execute_result"
    }
   ],
   "source": [
    "#Q27\n",
    "#as above but iterating over P1830\n",
    "queryString = \"\"\"\n",
    "SELECT ?s ?sname ?OwnedCompanies WHERE\n",
    "{\n",
    "{SELECT ?s (COUNT(DISTINCT (?o)) AS ?OwnedCompanies)\n",
    "WHERE { \n",
    "\n",
    "?s wdt:P31 ?type;\n",
    "   wdt:P17 ?country;\n",
    "   wdt:P1830* ?o. \n",
    "?country wdt:P463 wd:Q458.\n",
    "\n",
    "FILTER( (?type=wd:Q6881511)||(?type=wd:Q4830453) )\n",
    "} \n",
    "ORDER BY DESC(?OwnedCompanies)\n",
    "LIMIT 1\n",
    "}\n",
    "\n",
    "#Labels\n",
    "?s <http://schema.org/name> ?sname .\n",
    "}\n",
    "\"\"\"\n",
    "\n",
    "print(\"Results\")\n",
    "run_query(queryString)"
   ]
  },
  {
   "cell_type": "markdown",
   "id": "172e98b5-36cf-41b6-8f4f-2572a7db0001",
   "metadata": {},
   "source": [
    "Check results removing type."
   ]
  },
  {
   "cell_type": "code",
   "execution_count": 41,
   "id": "b9a39be9-9755-47b3-964d-7a06fa9ae7f3",
   "metadata": {},
   "outputs": [
    {
     "name": "stdout",
     "output_type": "stream",
     "text": [
      "Results\n",
      "[('s', 'http://www.wikidata.org/entity/Q513666'), ('sname', 'German Alpine Club'), ('OwnedCompanies', '170')]\n"
     ]
    },
    {
     "data": {
      "text/plain": [
       "1"
      ]
     },
     "execution_count": 41,
     "metadata": {},
     "output_type": "execute_result"
    }
   ],
   "source": [
    "#Q28\n",
    "#check results removing type\n",
    "queryString = \"\"\"\n",
    "SELECT ?s ?sname ?OwnedCompanies WHERE\n",
    "{\n",
    "{SELECT ?s (COUNT(DISTINCT (?o)) AS ?OwnedCompanies)\n",
    "WHERE { \n",
    "\n",
    "?s wdt:P1454 ?type;\n",
    "   wdt:P17 ?country;\n",
    "   wdt:P1830 ?o. \n",
    "?country wdt:P463 wd:Q458.\n",
    "\n",
    "} \n",
    "ORDER BY DESC(?OwnedCompanies)\n",
    "LIMIT 1\n",
    "}\n",
    "\n",
    "#Labels\n",
    "?s <http://schema.org/name> ?sname .\n",
    "}\n",
    "\"\"\"\n",
    "\n",
    "print(\"Results\")\n",
    "run_query(queryString)"
   ]
  },
  {
   "cell_type": "code",
   "execution_count": 43,
   "id": "3cf6dc2e-fe9a-49e9-9425-b5e441012289",
   "metadata": {},
   "outputs": [
    {
     "name": "stdout",
     "output_type": "stream",
     "text": [
      "Results\n",
      "[('o', 'http://www.wikidata.org/entity/Q1735212'), ('oname', 'Kasseler Hütte')]\n",
      "[('o', 'http://www.wikidata.org/entity/Q2550679'), ('oname', 'Wasseralm')]\n",
      "[('o', 'http://www.wikidata.org/entity/Q19964854'), ('oname', 'Taubensteinhaus')]\n",
      "[('o', 'http://www.wikidata.org/entity/Q2246287'), ('oname', 'Schmidt-Zabierow-Hütte')]\n",
      "[('o', 'http://www.wikidata.org/entity/Q2461881'), ('oname', 'Tutzinger Hütte')]\n",
      "[('o', 'http://www.wikidata.org/entity/Q1803733'), ('oname', 'Landsberger Hütte')]\n",
      "[('o', 'http://www.wikidata.org/entity/Q187379'), ('oname', 'Gaudeamus Hut')]\n",
      "[('o', 'http://www.wikidata.org/entity/Q1350220'), ('oname', 'Erfurter Hütte')]\n",
      "[('o', 'http://www.wikidata.org/entity/Q1640756'), ('oname', 'Rastkogelhütte')]\n",
      "[('o', 'http://www.wikidata.org/entity/Q1643003'), ('oname', 'Watzmannhaus')]\n",
      "[('o', 'http://www.wikidata.org/entity/Q2151300'), ('oname', 'Richterhütte')]\n",
      "[('o', 'http://www.wikidata.org/entity/Q2169123'), ('oname', 'Rotwandhaus')]\n",
      "[('o', 'http://www.wikidata.org/entity/Q2361016'), ('oname', 'Stüdlhütte')]\n",
      "[('o', 'http://www.wikidata.org/entity/Q1464263'), ('oname', 'Friedrichshafener Hütte')]\n",
      "[('o', 'http://www.wikidata.org/entity/Q1526494'), ('oname', 'Winnebachseehütte')]\n",
      "[('o', 'http://www.wikidata.org/entity/Q1104821'), ('oname', 'Coburger Hütte')]\n",
      "[('o', 'http://www.wikidata.org/entity/Q17412560'), ('oname', 'Breitenkopfhütte')]\n",
      "[('o', 'http://www.wikidata.org/entity/Q1491358'), ('oname', 'Oberreintalhütte')]\n",
      "[('o', 'http://www.wikidata.org/entity/Q1516755'), ('oname', 'Hörndlhütte')]\n",
      "[('o', 'http://www.wikidata.org/entity/Q1545573'), ('oname', 'Greizer Hütte')]\n",
      "[('o', 'http://www.wikidata.org/entity/Q1559418'), ('oname', 'Göppinger Hütte')]\n",
      "[('o', 'http://www.wikidata.org/entity/Q2569307'), ('oname', 'Wiesbadener Hütte')]\n",
      "[('o', 'http://www.wikidata.org/entity/Q889655'), ('oname', 'Bodenschneidhaus')]\n",
      "[('o', 'http://www.wikidata.org/entity/Q1781605'), ('oname', 'Stöhrhaus')]\n",
      "[('o', 'http://www.wikidata.org/entity/Q808364'), ('oname', 'Barmer Hütte')]\n"
     ]
    },
    {
     "data": {
      "text/plain": [
       "25"
      ]
     },
     "execution_count": 43,
     "metadata": {},
     "output_type": "execute_result"
    }
   ],
   "source": [
    "#Q29\n",
    "queryString = \"\"\"\n",
    "SELECT ?o ?oname WHERE\n",
    "{\n",
    "\n",
    "wd:Q513666 wdt:P1830 ?o.\n",
    "\n",
    "#Labels\n",
    "?o <http://schema.org/name> ?oname .\n",
    "}\n",
    "LIMIT 25\n",
    "\"\"\"\n",
    "\n",
    "print(\"Results\")\n",
    "run_query(queryString)"
   ]
  },
  {
   "cell_type": "markdown",
   "id": "99fe6e22-5a4f-47f1-b09e-8b9103d0260d",
   "metadata": {},
   "source": [
    "I think that removing type \"business\" led to include entities which are not company. i m not sure that Azienda Trasporti owns companies, let's check."
   ]
  },
  {
   "cell_type": "code",
   "execution_count": 44,
   "id": "b6e2cd5c-b17f-4c8c-bea7-6bb1edce36f1",
   "metadata": {},
   "outputs": [
    {
     "name": "stdout",
     "output_type": "stream",
     "text": [
      "Results\n",
      "[('o', 'http://www.wikidata.org/entity/Q2815996'), ('oname', 'De Angeli metro station')]\n",
      "[('o', 'http://www.wikidata.org/entity/Q3094926'), ('oname', 'Gambara metro station')]\n",
      "[('o', 'http://www.wikidata.org/entity/Q3565090'), ('oname', 'Wagner metro station')]\n",
      "[('o', 'http://www.wikidata.org/entity/Q3559341'), ('oname', 'Vimodrone metro station')]\n",
      "[('o', 'http://www.wikidata.org/entity/Q2904609'), ('oname', 'Bisceglie metro station')]\n",
      "[('o', 'http://www.wikidata.org/entity/Q3150918'), ('oname', 'Inganni metro station')]\n",
      "[('o', 'http://www.wikidata.org/entity/Q3403179'), ('oname', 'Primaticcio metro station')]\n",
      "[('o', 'http://www.wikidata.org/entity/Q1087026'), ('oname', 'Garibaldi FS metro station')]\n",
      "[('o', 'http://www.wikidata.org/entity/Q1087090'), ('oname', 'Lampugnano metro station')]\n",
      "[('o', 'http://www.wikidata.org/entity/Q1087114'), ('oname', 'Moscova metro station')]\n",
      "[('o', 'http://www.wikidata.org/entity/Q1087580'), ('oname', 'Sant’Ambrogio metro station')]\n",
      "[('o', 'http://www.wikidata.org/entity/Q1087591'), ('oname', 'Bonola metro station')]\n",
      "[('o', 'http://www.wikidata.org/entity/Q1087596'), ('oname', 'Sant’Agostino metro station')]\n",
      "[('o', 'http://www.wikidata.org/entity/Q1087618'), ('oname', 'Uruguay')]\n",
      "[('o', 'http://www.wikidata.org/entity/Q1088220'), ('oname', 'Dergano metro station')]\n",
      "[('o', 'http://www.wikidata.org/entity/Q1088225'), ('oname', 'Affori FN metro station')]\n",
      "[('o', 'http://www.wikidata.org/entity/Q1088237'), ('oname', 'Affori Centro metro station')]\n",
      "[('o', 'http://www.wikidata.org/entity/Q3802661'), ('oname', 'Isola metro station')]\n",
      "[('o', 'http://www.wikidata.org/entity/Q3862568'), ('oname', 'Monumentale metro station')]\n",
      "[('o', 'http://www.wikidata.org/entity/Q510765'), ('oname', 'Porta Genova FS metro station')]\n",
      "[('o', 'http://www.wikidata.org/entity/Q613198'), ('oname', 'Gioia metro station')]\n",
      "[('o', 'http://www.wikidata.org/entity/Q3216683'), ('oname', 'Lambrate FS metro station')]\n",
      "[('o', 'http://www.wikidata.org/entity/Q3388904'), ('oname', 'Piola metro station')]\n",
      "[('o', 'http://www.wikidata.org/entity/Q645136'), ('oname', 'Loreto metro station')]\n",
      "[('o', 'http://www.wikidata.org/entity/Q3705677'), ('oname', 'Famagosta metro depot')]\n"
     ]
    },
    {
     "data": {
      "text/plain": [
       "25"
      ]
     },
     "execution_count": 44,
     "metadata": {},
     "output_type": "execute_result"
    }
   ],
   "source": [
    "#Q30\n",
    "#removing type \"business\" led to include entities which are not company \n",
    "#i m not sure that Azienda Trasporti owns companies, let's check\n",
    "queryString = \"\"\"\n",
    "SELECT ?o ?oname WHERE\n",
    "{\n",
    "\n",
    "wd:Q381955 wdt:P1830 ?o.\n",
    "\n",
    "#Labels\n",
    "?o <http://schema.org/name> ?oname .\n",
    "}\n",
    "LIMIT 25\n",
    "\"\"\"\n",
    "\n",
    "print(\"Results\")\n",
    "run_query(queryString)"
   ]
  },
  {
   "cell_type": "markdown",
   "id": "876c0e78-2baa-468d-914e-6df1c02d3174",
   "metadata": {},
   "source": [
    "Indeed they look like bus stops.."
   ]
  },
  {
   "cell_type": "code",
   "execution_count": 45,
   "id": "e32a9aab-e4b8-42fe-8ff7-7b7e9fdeb66b",
   "metadata": {},
   "outputs": [
    {
     "name": "stdout",
     "output_type": "stream",
     "text": [
      "Results\n",
      "[('o', 'http://www.wikidata.org/entity/Q22808403'), ('oname', 'station located underground')]\n",
      "[('o', 'http://www.wikidata.org/entity/Q928830'), ('oname', 'metro station')]\n"
     ]
    },
    {
     "data": {
      "text/plain": [
       "2"
      ]
     },
     "execution_count": 45,
     "metadata": {},
     "output_type": "execute_result"
    }
   ],
   "source": [
    "#Q31\n",
    "#they look like bus stops, wd:Q1087026\n",
    "queryString = \"\"\"\n",
    "SELECT ?o ?oname WHERE\n",
    "{\n",
    "\n",
    "wd:Q1087026 wdt:P31 ?o.\n",
    "\n",
    "#Labels\n",
    "?o <http://schema.org/name> ?oname .\n",
    "}\n",
    "LIMIT 25\n",
    "\"\"\"\n",
    "\n",
    "print(\"Results\")\n",
    "run_query(queryString)"
   ]
  },
  {
   "cell_type": "markdown",
   "id": "497b3e6a-05e6-4abe-ad24-ec0ceeebe7cb",
   "metadata": {},
   "source": [
    "Since \"owner of\" is intended in a larger sense, i have to edit the previous queries as follows."
   ]
  },
  {
   "cell_type": "code",
   "execution_count": 47,
   "id": "2d3395d6-6e89-49ee-84ab-c0dede3f5ae7",
   "metadata": {},
   "outputs": [
    {
     "name": "stdout",
     "output_type": "stream",
     "text": [
      "Results\n",
      "[('o', 'http://www.wikidata.org/entity/Q17002660'), ('oname', 'fan translation')]\n",
      "[('o', 'http://www.wikidata.org/entity/Q8035059'), ('oname', 'workplace democracy')]\n",
      "[('o', 'http://www.wikidata.org/entity/Q11799049'), ('oname', 'public institution')]\n",
      "[('o', 'http://www.wikidata.org/entity/Q20746571'), ('oname', 'public company limited by shares')]\n",
      "[('o', 'http://www.wikidata.org/entity/Q60836687'), ('oname', 'associazione sportiva dilettantistica')]\n",
      "[('o', 'http://www.wikidata.org/entity/Q14635346'), ('oname', 'multi-channel network')]\n",
      "[('o', 'http://www.wikidata.org/entity/Q3639678'), ('oname', 'circulating library')]\n",
      "[('o', 'http://www.wikidata.org/entity/Q18340464'), ('oname', 'sociedade anónima')]\n",
      "[('o', 'http://www.wikidata.org/entity/Q2624661'), ('oname', 'Sp. z o.o.')]\n",
      "[('o', 'http://www.wikidata.org/entity/Q375336'), ('oname', 'film studio')]\n",
      "[('o', 'http://www.wikidata.org/entity/Q938236'), ('oname', 'panel')]\n",
      "[('o', 'http://www.wikidata.org/entity/Q108514063'), ('oname', 'state entity')]\n",
      "[('o', 'http://www.wikidata.org/entity/Q1345691'), ('oname', 'international financial institution')]\n",
      "[('o', 'http://www.wikidata.org/entity/Q159321'), ('oname', 'agglomeration community')]\n",
      "[('o', 'http://www.wikidata.org/entity/Q17990971'), ('oname', 'public enterprise')]\n",
      "[('o', 'http://www.wikidata.org/entity/Q489209'), ('oname', 'joint venture')]\n",
      "[('o', 'http://www.wikidata.org/entity/Q493016'), ('oname', 'intercity bus service')]\n",
      "[('o', 'http://www.wikidata.org/entity/Q746369'), ('oname', 'recording studio')]\n",
      "[('o', 'http://www.wikidata.org/entity/Q12241709'), ('oname', 'charter school')]\n",
      "[('o', 'http://www.wikidata.org/entity/Q1780031'), ('oname', 'Kommanditgesellschaft')]\n",
      "[('o', 'http://www.wikidata.org/entity/Q3487951'), ('oname', 'Société de groupe d’assurance mutuelle')]\n",
      "[('o', 'http://www.wikidata.org/entity/Q105611'), ('oname', 'hedge fund')]\n",
      "[('o', 'http://www.wikidata.org/entity/Q1518608'), ('oname', 'limited liability company')]\n",
      "[('o', 'http://www.wikidata.org/entity/Q510785'), ('oname', 'association without lucrative purpose')]\n",
      "[('o', 'http://www.wikidata.org/entity/Q681615'), ('oname', 'syndicate')]\n"
     ]
    },
    {
     "data": {
      "text/plain": [
       "25"
      ]
     },
     "execution_count": 47,
     "metadata": {},
     "output_type": "execute_result"
    }
   ],
   "source": [
    "#Q32\n",
    "#since \"owner of\" is intended in a larger sense, i have to edit the previous queries as follows:\n",
    "queryString = \"\"\"\n",
    "SELECT DISTINCT ?o ?oname\n",
    "WHERE { \n",
    "\n",
    "?s wdt:P1454 ?o. \n",
    "\n",
    "#Labels\n",
    "?o <http://schema.org/name> ?oname .\n",
    "} \n",
    "LIMIT 25\n",
    "\"\"\"\n",
    "\n",
    "print(\"Results\")\n",
    "run_query(queryString)"
   ]
  },
  {
   "cell_type": "markdown",
   "id": "640f49ce-546e-4d6f-b5e2-5009cb9038e2",
   "metadata": {},
   "source": [
    "<h3> TASK 2 ENDS HERE </h3>\n",
    "This is the BGP to retrieve all companies owned by a company located in a EU country."
   ]
  },
  {
   "cell_type": "code",
   "execution_count": 48,
   "id": "1de1c126-223f-4add-9a77-3b96d165b723",
   "metadata": {},
   "outputs": [
    {
     "name": "stdout",
     "output_type": "stream",
     "text": [
      "Results\n",
      "[('s', 'http://www.wikidata.org/entity/Q4162216'), ('sname', 'Energetický a průmyslový holding'), ('o', 'http://www.wikidata.org/entity/Q46965053'), ('oname', 'LEAG Holding')]\n",
      "[('s', 'http://www.wikidata.org/entity/Q4162216'), ('sname', 'Energetický a průmyslový holding'), ('o', 'http://www.wikidata.org/entity/Q27485698'), ('oname', 'Slovak Power Holding')]\n",
      "[('s', 'http://www.wikidata.org/entity/Q4162216'), ('sname', 'Energetický a průmyslový holding'), ('o', 'http://www.wikidata.org/entity/Q11828362'), ('oname', 'PG Silesia')]\n",
      "[('s', 'http://www.wikidata.org/entity/Q4162216'), ('sname', 'Energetický a průmyslový holding'), ('o', 'http://www.wikidata.org/entity/Q29650125'), ('oname', 'BAULIGA')]\n",
      "[('s', 'http://www.wikidata.org/entity/Q41365932'), ('sname', 'AGEL'), ('o', 'http://www.wikidata.org/entity/Q58218626'), ('oname', 'Avenier')]\n",
      "[('s', 'http://www.wikidata.org/entity/Q673327'), ('sname', 'Arkema'), ('o', 'http://www.wikidata.org/entity/Q2074255'), ('oname', 'Bostik')]\n",
      "[('s', 'http://www.wikidata.org/entity/Q392157'), ('sname', 'DB Mobility Logistics'), ('o', 'http://www.wikidata.org/entity/Q474287'), ('oname', 'Schenker AG')]\n",
      "[('s', 'http://www.wikidata.org/entity/Q2153892'), ('sname', 'Ringier Axel Springer Polska'), ('o', 'http://www.wikidata.org/entity/Q495943'), ('oname', 'onet.pl')]\n",
      "[('s', 'http://www.wikidata.org/entity/Q259013'), ('sname', 'Centrica'), ('o', 'http://www.wikidata.org/entity/Q2925725'), ('oname', 'British Gas')]\n",
      "[('s', 'http://www.wikidata.org/entity/Q274591'), ('sname', 'Électricité de France'), ('o', 'http://www.wikidata.org/entity/Q912872'), ('oname', 'Edison')]\n"
     ]
    },
    {
     "data": {
      "text/plain": [
       "10"
      ]
     },
     "execution_count": 48,
     "metadata": {},
     "output_type": "execute_result"
    }
   ],
   "source": [
    "#TASK 2 EDITED\n",
    "queryString = \"\"\"\n",
    "SELECT ?s ?sname ?o ?oname\n",
    "WHERE { \n",
    "\n",
    "?s wdt:P31 ?type;\n",
    "   wdt:P17 ?country;\n",
    "   wdt:P1830 ?o. \n",
    "?o wdt:P31 ?type.\n",
    "?country wdt:P463 wd:Q458.\n",
    "\n",
    "FILTER( (?type=wd:Q6881511)||(?type=wd:Q4830453) )\n",
    "\n",
    "#Labels\n",
    "?s <http://schema.org/name> ?sname .\n",
    "?o <http://schema.org/name> ?oname .\n",
    "} \n",
    "LIMIT 10\n",
    "\"\"\"\n",
    "\n",
    "print(\"Results\")\n",
    "run_query(queryString)"
   ]
  },
  {
   "cell_type": "markdown",
   "id": "d2c06a82-9114-400e-9399-0a898e844dc3",
   "metadata": {},
   "source": [
    "Continue TASK 3, retrieve the EU business who onws the highest number of companies."
   ]
  },
  {
   "cell_type": "code",
   "execution_count": 49,
   "id": "5b007d2e-e763-4409-b585-395ccc4424fe",
   "metadata": {},
   "outputs": [
    {
     "name": "stdout",
     "output_type": "stream",
     "text": [
      "Results\n",
      "[('s', 'http://www.wikidata.org/entity/Q846484'), ('sname', 'Caisse des dépôts et consignations'), ('OwnedCompanies', '58')]\n"
     ]
    },
    {
     "data": {
      "text/plain": [
       "1"
      ]
     },
     "execution_count": 49,
     "metadata": {},
     "output_type": "execute_result"
    }
   ],
   "source": [
    "#TASK 3 \n",
    "queryString = \"\"\"\n",
    "SELECT ?s ?sname ?OwnedCompanies WHERE\n",
    "{\n",
    "{SELECT ?s (COUNT(DISTINCT (?o)) AS ?OwnedCompanies)\n",
    "WHERE { \n",
    "\n",
    "?s wdt:P31 ?type;\n",
    "   wdt:P17 ?country;\n",
    "   wdt:P1830* ?o.\n",
    "?o wdt:P31 ?type.\n",
    "?country wdt:P463 wd:Q458.\n",
    "\n",
    "FILTER( (?type=wd:Q6881511)||(?type=wd:Q4830453) )\n",
    "} \n",
    "ORDER BY DESC(?OwnedCompanies)\n",
    "LIMIT 1\n",
    "}\n",
    "\n",
    "#Labels\n",
    "?s <http://schema.org/name> ?sname .\n",
    "}\n",
    "\"\"\"\n",
    "\n",
    "print(\"Results\")\n",
    "run_query(queryString)"
   ]
  },
  {
   "cell_type": "code",
   "execution_count": 50,
   "id": "da18f069-d866-4b83-aa90-8b25025cb54d",
   "metadata": {},
   "outputs": [
    {
     "name": "stdout",
     "output_type": "stream",
     "text": [
      "Results\n",
      "[('o', 'http://www.wikidata.org/entity/Q1127887'), ('oname', 'Vivendi')]\n",
      "[('o', 'http://www.wikidata.org/entity/Q1121170'), ('oname', 'Compagnie Nationale du Rhône')]\n",
      "[('o', 'http://www.wikidata.org/entity/Q2362964'), ('oname', 'Bpifrance')]\n",
      "[('o', 'http://www.wikidata.org/entity/Q442637'), ('oname', 'Transdev')]\n",
      "[('o', 'http://www.wikidata.org/entity/Q1632461'), ('oname', 'Veolia')]\n",
      "[('o', 'http://www.wikidata.org/entity/Q373724'), ('oname', 'La Poste')]\n",
      "[('o', 'http://www.wikidata.org/entity/Q726531'), ('oname', 'Théâtre des Champs-Élysées')]\n",
      "[('o', 'http://www.wikidata.org/entity/Q1023930'), ('oname', 'CNP Assurances')]\n",
      "[('o', 'http://www.wikidata.org/entity/Q3147573'), ('oname', 'Icade')]\n",
      "[('o', 'http://www.wikidata.org/entity/Q3117552'), ('oname', 'CDC Habitat')]\n",
      "[('o', 'http://www.wikidata.org/entity/Q624378'), ('oname', 'Compagnie des Alpes')]\n",
      "[('o', 'http://www.wikidata.org/entity/Q286494'), ('oname', 'Quick')]\n"
     ]
    },
    {
     "data": {
      "text/plain": [
       "12"
      ]
     },
     "execution_count": 50,
     "metadata": {},
     "output_type": "execute_result"
    }
   ],
   "source": [
    "#Q33\n",
    "#closer look to that entity\n",
    "queryString = \"\"\"\n",
    "SELECT ?o ?oname WHERE\n",
    "{\n",
    "\n",
    "wd:Q846484 wdt:P1830 ?o.\n",
    "\n",
    "#Labels\n",
    "?o <http://schema.org/name> ?oname .\n",
    "}\n",
    "LIMIT 25\n",
    "\"\"\"\n",
    "\n",
    "print(\"Results\")\n",
    "run_query(queryString)"
   ]
  },
  {
   "cell_type": "markdown",
   "id": "bfdd5f1d-e5c6-4acc-b3f9-6c788de1bb32",
   "metadata": {},
   "source": [
    "Retrieve the EU business which onws the highest number of companies but not considering the \"sub-sub\" companies (so no iteration over 1830)."
   ]
  },
  {
   "cell_type": "code",
   "execution_count": 51,
   "id": "d875ccde-39e8-4c76-99f4-07f88b48db79",
   "metadata": {},
   "outputs": [
    {
     "name": "stdout",
     "output_type": "stream",
     "text": [
      "Results\n",
      "[('s', 'http://www.wikidata.org/entity/Q504998'), ('sname', 'LVMH'), ('OwnedCompanies', '23')]\n"
     ]
    },
    {
     "data": {
      "text/plain": [
       "1"
      ]
     },
     "execution_count": 51,
     "metadata": {},
     "output_type": "execute_result"
    }
   ],
   "source": [
    "#TASK 3 without iteration on P1830\n",
    "queryString = \"\"\"\n",
    "SELECT ?s ?sname ?OwnedCompanies WHERE\n",
    "{\n",
    "{SELECT ?s (COUNT(DISTINCT (?o)) AS ?OwnedCompanies)\n",
    "WHERE { \n",
    "\n",
    "?s wdt:P31 ?type;\n",
    "   wdt:P17 ?country;\n",
    "   wdt:P1830 ?o.\n",
    "?o wdt:P31 ?type.\n",
    "?country wdt:P463 wd:Q458.\n",
    "\n",
    "FILTER( (?type=wd:Q6881511)||(?type=wd:Q4830453) )\n",
    "} \n",
    "ORDER BY DESC(?OwnedCompanies)\n",
    "LIMIT 1\n",
    "}\n",
    "\n",
    "#Labels\n",
    "?s <http://schema.org/name> ?sname .\n",
    "}\n",
    "\"\"\"\n",
    "\n",
    "print(\"Results\")\n",
    "run_query(queryString)"
   ]
  },
  {
   "cell_type": "code",
   "execution_count": 52,
   "id": "5e3cba49-ed33-4472-b4df-a3e9e96ae9f4",
   "metadata": {},
   "outputs": [
    {
     "name": "stdout",
     "output_type": "stream",
     "text": [
      "Results\n",
      "[('o', 'http://www.wikidata.org/entity/Q895795'), ('oname', 'Kenzo')]\n",
      "[('o', 'http://www.wikidata.org/entity/Q699529'), ('oname', 'Moët & Chandon')]\n",
      "[('o', 'http://www.wikidata.org/entity/Q923193'), ('oname', 'Les Échos')]\n",
      "[('o', 'http://www.wikidata.org/entity/Q966905'), ('oname', 'Loewe')]\n",
      "[('o', 'http://www.wikidata.org/entity/Q191485'), ('oname', 'Louis Vuitton')]\n",
      "[('o', 'http://www.wikidata.org/entity/Q926575'), ('oname', 'Fendi')]\n",
      "[('o', 'http://www.wikidata.org/entity/Q142348'), ('oname', 'Le Parisien')]\n",
      "[('o', 'http://www.wikidata.org/entity/Q1553251'), ('oname', 'Guerlain')]\n",
      "[('o', 'http://www.wikidata.org/entity/Q1200698'), ('oname', 'Le Bon Marché')]\n",
      "[('o', 'http://www.wikidata.org/entity/Q26196912'), ('oname', 'Cheval Blanc St-Barth Isle de France')]\n",
      "[('o', 'http://www.wikidata.org/entity/Q274'), ('oname', 'Ardbeg')]\n",
      "[('o', 'http://www.wikidata.org/entity/Q2056628'), ('oname', 'Acqua di Parma')]\n",
      "[('o', 'http://www.wikidata.org/entity/Q821969'), ('oname', 'Berluti')]\n",
      "[('o', 'http://www.wikidata.org/entity/Q948531'), ('oname', 'Céline')]\n",
      "[('o', 'http://www.wikidata.org/entity/Q980908'), ('oname', 'Champagne Mercier')]\n",
      "[('o', 'http://www.wikidata.org/entity/Q1287437'), ('oname', 'Rimowa')]\n",
      "[('o', 'http://www.wikidata.org/entity/Q19871679'), ('oname', 'Bulgari Hotel and Residences')]\n",
      "[('o', 'http://www.wikidata.org/entity/Q1583780'), ('oname', 'La Samaritaine')]\n",
      "[('o', 'http://www.wikidata.org/entity/Q3365053'), ('oname', 'Parfums Christian Dior')]\n",
      "[('o', 'http://www.wikidata.org/entity/Q3373076'), ('oname', 'Pavillon de Muire')]\n",
      "[('o', 'http://www.wikidata.org/entity/Q1330945'), ('oname', 'Champagne Krug')]\n",
      "[('o', 'http://www.wikidata.org/entity/Q189601'), ('oname', 'Zenith')]\n",
      "[('o', 'http://www.wikidata.org/entity/Q1137991'), ('oname', 'Thomas Pink')]\n",
      "[('o', 'http://www.wikidata.org/entity/Q157974'), ('oname', 'Glenmorangie')]\n",
      "[('o', 'http://www.wikidata.org/entity/Q2961620'), ('oname', 'Chaumet')]\n"
     ]
    },
    {
     "data": {
      "text/plain": [
       "25"
      ]
     },
     "execution_count": 52,
     "metadata": {},
     "output_type": "execute_result"
    }
   ],
   "source": [
    "#Q34\n",
    "#closer look to that entity\n",
    "queryString = \"\"\"\n",
    "SELECT ?o ?oname WHERE\n",
    "{\n",
    "\n",
    "wd:Q504998 wdt:P1830 ?o.\n",
    "\n",
    "#Labels\n",
    "?o <http://schema.org/name> ?oname .\n",
    "}\n",
    "LIMIT 25\n",
    "\"\"\"\n",
    "\n",
    "print(\"Results\")\n",
    "run_query(queryString)"
   ]
  },
  {
   "cell_type": "markdown",
   "id": "17b02451-2b98-4ea9-b36e-113197b91501",
   "metadata": {},
   "source": [
    "<h3> TASK 3 ENDS HERE </h3>\n",
    "I found out that LVMH is the company which owns \"directly\" the highest number of other companies.\n",
    "Meanwhile if we consider also the companies owned by an owned company the n.1 is Caisse des dépôts et consignations."
   ]
  },
  {
   "cell_type": "markdown",
   "id": "695e5248-96ce-458a-8024-86c3e3e2d0f0",
   "metadata": {},
   "source": [
    "<h3> TASK 4 STARTS HERE </h3>\n",
    "Compare the number of companies divided in different legal forms."
   ]
  },
  {
   "cell_type": "markdown",
   "id": "65ebb500-1aac-41d6-8f22-cd98e3581321",
   "metadata": {},
   "source": [
    "Use P1454 (legal form) found in TASK 1. Retrieve the most common legal form for EU companies."
   ]
  },
  {
   "cell_type": "code",
   "execution_count": 55,
   "id": "50d1c2be-6256-472c-8905-b28484a3c420",
   "metadata": {},
   "outputs": [
    {
     "name": "stdout",
     "output_type": "stream",
     "text": [
      "Results\n",
      "[('legal', 'http://www.wikidata.org/entity/Q15646299'), ('lname', 'společnost s ručením omezeným'), ('HowMany', '13073')]\n",
      "[('legal', 'http://www.wikidata.org/entity/Q3742494'), ('lname', 'akciová společnost'), ('HowMany', '5546')]\n",
      "[('legal', 'http://www.wikidata.org/entity/Q460178'), ('lname', 'GmbH'), ('HowMany', '2898')]\n",
      "[('legal', 'http://www.wikidata.org/entity/Q134161'), ('lname', 'joint-stock company'), ('HowMany', '2599')]\n",
      "[('legal', 'http://www.wikidata.org/entity/Q15649019'), ('lname', 'Spoločnosť s ručením obmedzeným'), ('HowMany', '2306')]\n",
      "[('legal', 'http://www.wikidata.org/entity/Q897103'), ('lname', 'GmbH & Co. KG'), ('HowMany', '1145')]\n",
      "[('legal', 'http://www.wikidata.org/entity/Q77872838'), ('lname', 'akciová spoločnosť'), ('HowMany', '837')]\n",
      "[('legal', 'http://www.wikidata.org/entity/Q422062'), ('lname', 'Aktiengesellschaft'), ('HowMany', '778')]\n",
      "[('legal', 'http://www.wikidata.org/entity/Q333920'), ('lname', 'Oy'), ('HowMany', '601')]\n",
      "[('legal', 'http://www.wikidata.org/entity/Q166280'), ('lname', 'S.A.'), ('HowMany', '518')]\n"
     ]
    },
    {
     "data": {
      "text/plain": [
       "10"
      ]
     },
     "execution_count": 55,
     "metadata": {},
     "output_type": "execute_result"
    }
   ],
   "source": [
    "#Q35\n",
    "#try to use P1454 \n",
    "queryString = \"\"\"\n",
    "SELECT ?legal ?lname ?HowMany WHERE\n",
    "{\n",
    "{SELECT ?legal (COUNT(DISTINCT (?s)) AS ?HowMany)\n",
    "WHERE { \n",
    "\n",
    "?s wdt:P31 ?type;\n",
    "   wdt:P17 ?country;\n",
    "   wdt:P1454 ?legal.\n",
    "\n",
    "?country wdt:P463 wd:Q458.\n",
    "\n",
    "FILTER( (?type=wd:Q6881511)||(?type=wd:Q4830453) )\n",
    "} \n",
    "GROUP BY (?legal)\n",
    "}\n",
    "\n",
    "#Labels\n",
    "?legal <http://schema.org/name> ?lname .\n",
    "}\n",
    "ORDER BY DESC(?HowMany)\n",
    "LIMIT 10\n",
    "\"\"\"\n",
    "\n",
    "print(\"Results\")\n",
    "run_query(queryString)"
   ]
  },
  {
   "cell_type": "code",
   "execution_count": 56,
   "id": "f8e34996-84ed-4e4b-a6d6-766617d21ccc",
   "metadata": {},
   "outputs": [
    {
     "name": "stdout",
     "output_type": "stream",
     "text": [
      "Results\n",
      "[('o', 'http://www.wikidata.org/entity/Q67304002'), ('oname', 'type of business entity in Czech Republic')]\n"
     ]
    },
    {
     "data": {
      "text/plain": [
       "1"
      ]
     },
     "execution_count": 56,
     "metadata": {},
     "output_type": "execute_result"
    }
   ],
   "source": [
    "#Q36\n",
    "#check results\n",
    "queryString = \"\"\"\n",
    "SELECT ?o ?oname WHERE\n",
    "{\n",
    "\n",
    "wd:Q15646299 wdt:P31 ?o.\n",
    "\n",
    "#Labels\n",
    "?o <http://schema.org/name> ?oname .\n",
    "}\n",
    "LIMIT 25\n",
    "\"\"\"\n",
    "\n",
    "print(\"Results\")\n",
    "run_query(queryString)"
   ]
  },
  {
   "cell_type": "markdown",
   "id": "a39ac327-e05c-4045-b29c-60ff6b4fb23c",
   "metadata": {},
   "source": [
    "<h3> TASK 5.1 HERE </h3>\n",
    "Retrieve the top 3 legal forms in Europe."
   ]
  },
  {
   "cell_type": "code",
   "execution_count": 2,
   "id": "a4c9a0e2-8249-44e3-94be-a6af10bfdf43",
   "metadata": {},
   "outputs": [
    {
     "name": "stdout",
     "output_type": "stream",
     "text": [
      "Results\n",
      "[('legal', 'http://www.wikidata.org/entity/Q15646299'), ('lname', 'společnost s ručením omezeným'), ('HowMany', '13073'), ('tname', 'type of business entity in Czech Republic')]\n",
      "[('legal', 'http://www.wikidata.org/entity/Q3742494'), ('lname', 'akciová společnost'), ('HowMany', '5546'), ('tname', 'type of business entity in Czech Republic')]\n",
      "[('legal', 'http://www.wikidata.org/entity/Q460178'), ('lname', 'GmbH'), ('HowMany', '2898'), ('tname', 'type of legal entity in Germany')]\n"
     ]
    },
    {
     "data": {
      "text/plain": [
       "3"
      ]
     },
     "execution_count": 2,
     "metadata": {},
     "output_type": "execute_result"
    }
   ],
   "source": [
    "#make legal forms more readable using labels \n",
    "queryString = \"\"\"\n",
    "SELECT ?legal ?lname ?HowMany ?tname WHERE\n",
    "{\n",
    "?legal wdt:P31 ?type.\n",
    "\n",
    "{SELECT ?legal (COUNT(DISTINCT (?s)) AS ?HowMany)\n",
    "WHERE { \n",
    "\n",
    "?s wdt:P31 ?type;\n",
    "   wdt:P17 ?country;\n",
    "   wdt:P1454 ?legal.\n",
    "\n",
    "?country wdt:P463 wd:Q458.\n",
    "\n",
    "FILTER( (?type=wd:Q6881511)||(?type=wd:Q4830453) )\n",
    "} \n",
    "GROUP BY (?legal)\n",
    "}\n",
    "\n",
    "#Labels\n",
    "?legal <http://schema.org/name> ?lname .\n",
    "?type <http://schema.org/name> ?tname .\n",
    "}\n",
    "ORDER BY DESC(?HowMany)\n",
    "LIMIT 3\n",
    "\"\"\"\n",
    "\n",
    "print(\"Results\")\n",
    "run_query(queryString)"
   ]
  },
  {
   "cell_type": "markdown",
   "id": "f5b81d42-1a79-4a3e-8a31-b085de51a1d8",
   "metadata": {},
   "source": [
    "<h3> TASK 5.2 STARTS HERE </h3>\n",
    "For which companies is defined some form of income or market capitalization or total assets?\n",
    "What is the min, max, and average in each country for a given legal form?"
   ]
  },
  {
   "cell_type": "markdown",
   "id": "fc587a7b-acaa-4cd5-9ada-10ee75f61e71",
   "metadata": {},
   "source": [
    "Look for form of income, market cap or assets using LMVH (found during task 3)"
   ]
  },
  {
   "cell_type": "code",
   "execution_count": 6,
   "id": "37e5abf5-749e-455e-b8d4-2ba8c9064acb",
   "metadata": {},
   "outputs": [
    {
     "name": "stdout",
     "output_type": "stream",
     "text": [
      "Results\n",
      "[('p', 'http://www.wikidata.org/prop/direct/P1037'), ('pname', 'director / manager')]\n",
      "[('p', 'http://www.wikidata.org/prop/direct/P1056'), ('pname', 'product or material produced')]\n",
      "[('p', 'http://www.wikidata.org/prop/direct/P112'), ('pname', 'founded by')]\n",
      "[('p', 'http://www.wikidata.org/prop/direct/P1128'), ('pname', 'employees')]\n",
      "[('p', 'http://www.wikidata.org/prop/direct/P1273'), ('pname', 'CANTIC ID')]\n",
      "[('p', 'http://www.wikidata.org/prop/direct/P1278'), ('pname', 'Legal Entity Identifier')]\n",
      "[('p', 'http://www.wikidata.org/prop/direct/P1320'), ('pname', 'OpenCorporates ID')]\n",
      "[('p', 'http://www.wikidata.org/prop/direct/P138'), ('pname', 'named after')]\n",
      "[('p', 'http://www.wikidata.org/prop/direct/P1417'), ('pname', 'Encyclopædia Britannica Online ID')]\n",
      "[('p', 'http://www.wikidata.org/prop/direct/P1454'), ('pname', 'legal form')]\n",
      "[('p', 'http://www.wikidata.org/prop/direct/P154'), ('pname', 'logo image')]\n",
      "[('p', 'http://www.wikidata.org/prop/direct/P159'), ('pname', 'headquarters location')]\n",
      "[('p', 'http://www.wikidata.org/prop/direct/P1616'), ('pname', 'SIREN number')]\n",
      "[('p', 'http://www.wikidata.org/prop/direct/P169'), ('pname', 'chief executive officer')]\n",
      "[('p', 'http://www.wikidata.org/prop/direct/P17'), ('pname', 'country')]\n",
      "[('p', 'http://www.wikidata.org/prop/direct/P18'), ('pname', 'image')]\n",
      "[('p', 'http://www.wikidata.org/prop/direct/P1830'), ('pname', 'owner of')]\n",
      "[('p', 'http://www.wikidata.org/prop/direct/P2002'), ('pname', 'Twitter username')]\n",
      "[('p', 'http://www.wikidata.org/prop/direct/P2003'), ('pname', 'Instagram username')]\n",
      "[('p', 'http://www.wikidata.org/prop/direct/P2013'), ('pname', 'Facebook ID')]\n",
      "[('p', 'http://www.wikidata.org/prop/direct/P2088'), ('pname', 'Crunchbase organization ID')]\n",
      "[('p', 'http://www.wikidata.org/prop/direct/P213'), ('pname', 'ISNI')]\n",
      "[('p', 'http://www.wikidata.org/prop/direct/P2139'), ('pname', 'total revenue')]\n",
      "[('p', 'http://www.wikidata.org/prop/direct/P214'), ('pname', 'VIAF ID')]\n",
      "[('p', 'http://www.wikidata.org/prop/direct/P227'), ('pname', 'GND ID')]\n",
      "[('p', 'http://www.wikidata.org/prop/direct/P2295'), ('pname', 'net profit')]\n",
      "[('p', 'http://www.wikidata.org/prop/direct/P2397'), ('pname', 'YouTube channel ID')]\n",
      "[('p', 'http://www.wikidata.org/prop/direct/P2427'), ('pname', 'GRID ID')]\n",
      "[('p', 'http://www.wikidata.org/prop/direct/P244'), ('pname', 'Library of Congress authority ID')]\n",
      "[('p', 'http://www.wikidata.org/prop/direct/P2627'), ('pname', 'ISO 9362 SWIFT/BIC code')]\n",
      "[('p', 'http://www.wikidata.org/prop/direct/P268'), ('pname', 'Bibliothèque nationale de France ID')]\n",
      "[('p', 'http://www.wikidata.org/prop/direct/P269'), ('pname', 'IdRef ID')]\n",
      "[('p', 'http://www.wikidata.org/prop/direct/P31'), ('pname', 'instance of')]\n",
      "[('p', 'http://www.wikidata.org/prop/direct/P3222'), ('pname', 'NE.se ID')]\n",
      "[('p', 'http://www.wikidata.org/prop/direct/P3417'), ('pname', 'Quora topic ID')]\n",
      "[('p', 'http://www.wikidata.org/prop/direct/P3500'), ('pname', 'Ringgold ID')]\n",
      "[('p', 'http://www.wikidata.org/prop/direct/P355'), ('pname', 'subsidiary')]\n",
      "[('p', 'http://www.wikidata.org/prop/direct/P3553'), ('pname', 'Zhihu topic ID')]\n",
      "[('p', 'http://www.wikidata.org/prop/direct/P3608'), ('pname', 'EU VAT number')]\n",
      "[('p', 'http://www.wikidata.org/prop/direct/P361'), ('pname', 'part of')]\n",
      "[('p', 'http://www.wikidata.org/prop/direct/P373'), ('pname', 'Commons category')]\n",
      "[('p', 'http://www.wikidata.org/prop/direct/P409'), ('pname', 'Libraries Australia ID')]\n",
      "[('p', 'http://www.wikidata.org/prop/direct/P414'), ('pname', 'stock exchange')]\n",
      "[('p', 'http://www.wikidata.org/prop/direct/P4264'), ('pname', 'LinkedIn company ID')]\n",
      "[('p', 'http://www.wikidata.org/prop/direct/P4293'), ('pname', 'PM20 folder ID')]\n",
      "[('p', 'http://www.wikidata.org/prop/direct/P4342'), ('pname', 'Store norske leksikon ID')]\n",
      "[('p', 'http://www.wikidata.org/prop/direct/P452'), ('pname', 'industry')]\n",
      "[('p', 'http://www.wikidata.org/prop/direct/P5019'), ('pname', 'Brockhaus Enzyklopädie online ID')]\n",
      "[('p', 'http://www.wikidata.org/prop/direct/P571'), ('pname', 'inception')]\n",
      "[('p', 'http://www.wikidata.org/prop/direct/P646'), ('pname', 'Freebase ID')]\n"
     ]
    },
    {
     "data": {
      "text/plain": [
       "50"
      ]
     },
     "execution_count": 6,
     "metadata": {},
     "output_type": "execute_result"
    }
   ],
   "source": [
    "#Q37\n",
    "#look for form of income, market cap or assets using LMVH (found during task 3)\n",
    "queryString = \"\"\"\n",
    "SELECT DISTINCT ?p ?pname WHERE\n",
    "{\n",
    "\n",
    "wd:Q504998 ?p ?o.\n",
    "\n",
    "#Labels\n",
    "?p <http://schema.org/name> ?pname .\n",
    "}\n",
    "LIMIT 50\n",
    "\"\"\"\n",
    "\n",
    "print(\"Results\")\n",
    "run_query(queryString)"
   ]
  },
  {
   "cell_type": "markdown",
   "id": "a51708fa-8b2f-4c6e-84b1-ec52425c8cf9",
   "metadata": {},
   "source": [
    "Include only results with literals since we are looking for numbers."
   ]
  },
  {
   "cell_type": "code",
   "execution_count": 8,
   "id": "3c771669-72b9-4b6b-9f44-edf07e94beec",
   "metadata": {},
   "outputs": [
    {
     "name": "stdout",
     "output_type": "stream",
     "text": [
      "Results\n",
      "[('p', 'http://www.wikidata.org/prop/direct/P1128'), ('pname', 'employees')]\n",
      "[('p', 'http://www.wikidata.org/prop/direct/P1273'), ('pname', 'CANTIC ID')]\n",
      "[('p', 'http://www.wikidata.org/prop/direct/P1278'), ('pname', 'Legal Entity Identifier')]\n",
      "[('p', 'http://www.wikidata.org/prop/direct/P1320'), ('pname', 'OpenCorporates ID')]\n",
      "[('p', 'http://www.wikidata.org/prop/direct/P1417'), ('pname', 'Encyclopædia Britannica Online ID')]\n",
      "[('p', 'http://www.wikidata.org/prop/direct/P1616'), ('pname', 'SIREN number')]\n",
      "[('p', 'http://www.wikidata.org/prop/direct/P2002'), ('pname', 'Twitter username')]\n",
      "[('p', 'http://www.wikidata.org/prop/direct/P2003'), ('pname', 'Instagram username')]\n",
      "[('p', 'http://www.wikidata.org/prop/direct/P2013'), ('pname', 'Facebook ID')]\n",
      "[('p', 'http://www.wikidata.org/prop/direct/P2088'), ('pname', 'Crunchbase organization ID')]\n",
      "[('p', 'http://www.wikidata.org/prop/direct/P213'), ('pname', 'ISNI')]\n",
      "[('p', 'http://www.wikidata.org/prop/direct/P2139'), ('pname', 'total revenue')]\n",
      "[('p', 'http://www.wikidata.org/prop/direct/P214'), ('pname', 'VIAF ID')]\n",
      "[('p', 'http://www.wikidata.org/prop/direct/P227'), ('pname', 'GND ID')]\n",
      "[('p', 'http://www.wikidata.org/prop/direct/P2295'), ('pname', 'net profit')]\n",
      "[('p', 'http://www.wikidata.org/prop/direct/P2397'), ('pname', 'YouTube channel ID')]\n",
      "[('p', 'http://www.wikidata.org/prop/direct/P2427'), ('pname', 'GRID ID')]\n",
      "[('p', 'http://www.wikidata.org/prop/direct/P244'), ('pname', 'Library of Congress authority ID')]\n",
      "[('p', 'http://www.wikidata.org/prop/direct/P2627'), ('pname', 'ISO 9362 SWIFT/BIC code')]\n",
      "[('p', 'http://www.wikidata.org/prop/direct/P268'), ('pname', 'Bibliothèque nationale de France ID')]\n",
      "[('p', 'http://www.wikidata.org/prop/direct/P269'), ('pname', 'IdRef ID')]\n",
      "[('p', 'http://www.wikidata.org/prop/direct/P3222'), ('pname', 'NE.se ID')]\n",
      "[('p', 'http://www.wikidata.org/prop/direct/P3417'), ('pname', 'Quora topic ID')]\n",
      "[('p', 'http://www.wikidata.org/prop/direct/P3500'), ('pname', 'Ringgold ID')]\n",
      "[('p', 'http://www.wikidata.org/prop/direct/P3553'), ('pname', 'Zhihu topic ID')]\n",
      "[('p', 'http://www.wikidata.org/prop/direct/P3608'), ('pname', 'EU VAT number')]\n",
      "[('p', 'http://www.wikidata.org/prop/direct/P373'), ('pname', 'Commons category')]\n",
      "[('p', 'http://www.wikidata.org/prop/direct/P409'), ('pname', 'Libraries Australia ID')]\n",
      "[('p', 'http://www.wikidata.org/prop/direct/P4264'), ('pname', 'LinkedIn company ID')]\n",
      "[('p', 'http://www.wikidata.org/prop/direct/P4293'), ('pname', 'PM20 folder ID')]\n",
      "[('p', 'http://www.wikidata.org/prop/direct/P4342'), ('pname', 'Store norske leksikon ID')]\n",
      "[('p', 'http://www.wikidata.org/prop/direct/P5019'), ('pname', 'Brockhaus Enzyklopädie online ID')]\n",
      "[('p', 'http://www.wikidata.org/prop/direct/P571'), ('pname', 'inception')]\n",
      "[('p', 'http://www.wikidata.org/prop/direct/P646'), ('pname', 'Freebase ID')]\n",
      "[('p', 'http://www.wikidata.org/prop/direct/P6782'), ('pname', 'ROR ID')]\n",
      "[('p', 'http://www.wikidata.org/prop/direct/P7859'), ('pname', 'WorldCat Identities ID')]\n",
      "[('p', 'http://www.wikidata.org/prop/direct/P8687'), ('pname', 'social media followers')]\n",
      "[('p', 'http://www.wikidata.org/prop/direct/P946'), ('pname', 'ISIN')]\n"
     ]
    },
    {
     "data": {
      "text/plain": [
       "38"
      ]
     },
     "execution_count": 8,
     "metadata": {},
     "output_type": "execute_result"
    }
   ],
   "source": [
    "#Q38\n",
    "#look for form of income, market cap or assets using LMVH (found during task 3)\n",
    "#filter literal because i m looking for numbers\n",
    "queryString = \"\"\"\n",
    "SELECT DISTINCT ?p ?pname WHERE\n",
    "{\n",
    "\n",
    "wd:Q504998 ?p ?o.\n",
    "\n",
    "FILTER (isLiteral(?o))\n",
    "\n",
    "#Labels\n",
    "?p <http://schema.org/name> ?pname .\n",
    "}\n",
    "LIMIT 50\n",
    "\"\"\"\n",
    "\n",
    "print(\"Results\")\n",
    "run_query(queryString)"
   ]
  },
  {
   "cell_type": "markdown",
   "id": "59533400-5262-4a18-bf87-ab85702b293f",
   "metadata": {},
   "source": [
    "Above i found P2295 (net profit), P2139 (total revenue)."
   ]
  },
  {
   "cell_type": "code",
   "execution_count": 9,
   "id": "228537b3-ff13-4f54-a12b-17070846579e",
   "metadata": {},
   "outputs": [
    {
     "name": "stdout",
     "output_type": "stream",
     "text": [
      "Results\n",
      "[('net', '3319000000'), ('revenue', '53700000000')]\n"
     ]
    },
    {
     "data": {
      "text/plain": [
       "1"
      ]
     },
     "execution_count": 9,
     "metadata": {},
     "output_type": "execute_result"
    }
   ],
   "source": [
    "#Q39\n",
    "#above i found P2295 (net profit), P2139 (total revenue)\n",
    "queryString = \"\"\"\n",
    "SELECT DISTINCT ?net ?revenue WHERE\n",
    "{\n",
    "\n",
    "wd:Q504998 wdt:P2295 ?net;\n",
    "           wdt:P2139 ?revenue.\n",
    "\n",
    "}\n",
    "LIMIT 10\n",
    "\"\"\"\n",
    "\n",
    "print(\"Results\")\n",
    "run_query(queryString)"
   ]
  },
  {
   "cell_type": "markdown",
   "id": "3d975691-3aa4-4c2a-a4e3-60a402d5cbe4",
   "metadata": {},
   "source": [
    "Retrieve some properites of a french business."
   ]
  },
  {
   "cell_type": "code",
   "execution_count": 10,
   "id": "b00da5a5-861f-4cb6-b424-3b1f458ae106",
   "metadata": {},
   "outputs": [
    {
     "name": "stdout",
     "output_type": "stream",
     "text": [
      "Results\n",
      "[('p', 'http://www.wikidata.org/prop/direct/P9279'), ('pname', 'Egapro gender equality index')]\n",
      "[('p', 'http://www.wikidata.org/prop/direct/P3281'), ('pname', 'French National Assembly Lobbyist ID')]\n",
      "[('p', 'http://www.wikidata.org/prop/direct/P2133'), ('pname', 'total debt')]\n",
      "[('p', 'http://www.wikidata.org/prop/direct/P4015'), ('pname', 'Vimeo identifier')]\n",
      "[('p', 'http://www.wikidata.org/prop/direct/P1128'), ('pname', 'employees')]\n",
      "[('p', 'http://www.wikidata.org/prop/direct/P1167'), ('pname', 'USB vendor ID')]\n",
      "[('p', 'http://www.wikidata.org/prop/direct/P1207'), ('pname', 'NUKAT ID')]\n",
      "[('p', 'http://www.wikidata.org/prop/direct/P1278'), ('pname', 'Legal Entity Identifier')]\n",
      "[('p', 'http://www.wikidata.org/prop/direct/P1296'), ('pname', 'Gran Enciclopèdia Catalana ID')]\n",
      "[('p', 'http://www.wikidata.org/prop/direct/P1315'), ('pname', 'NLA Trove ID')]\n",
      "[('p', 'http://www.wikidata.org/prop/direct/P1320'), ('pname', 'OpenCorporates ID')]\n",
      "[('p', 'http://www.wikidata.org/prop/direct/P1329'), ('pname', 'phone number')]\n",
      "[('p', 'http://www.wikidata.org/prop/direct/P1417'), ('pname', 'Encyclopædia Britannica Online ID')]\n",
      "[('p', 'http://www.wikidata.org/prop/direct/P1451'), ('pname', 'motto text')]\n",
      "[('p', 'http://www.wikidata.org/prop/direct/P1616'), ('pname', 'SIREN number')]\n",
      "[('p', 'http://www.wikidata.org/prop/direct/P1619'), ('pname', 'date of official opening')]\n",
      "[('p', 'http://www.wikidata.org/prop/direct/P1695'), ('pname', 'NLP ID (unique)')]\n",
      "[('p', 'http://www.wikidata.org/prop/direct/P1953'), ('pname', 'Discogs artist ID')]\n",
      "[('p', 'http://www.wikidata.org/prop/direct/P1955'), ('pname', 'Discogs label ID')]\n",
      "[('p', 'http://www.wikidata.org/prop/direct/P1988'), ('pname', 'Le Delarge ID')]\n",
      "[('p', 'http://www.wikidata.org/prop/direct/P2002'), ('pname', 'Twitter username')]\n",
      "[('p', 'http://www.wikidata.org/prop/direct/P2003'), ('pname', 'Instagram username')]\n",
      "[('p', 'http://www.wikidata.org/prop/direct/P2013'), ('pname', 'Facebook ID')]\n",
      "[('p', 'http://www.wikidata.org/prop/direct/P2037'), ('pname', 'GitHub username')]\n",
      "[('p', 'http://www.wikidata.org/prop/direct/P2088'), ('pname', 'Crunchbase organization ID')]\n",
      "[('p', 'http://www.wikidata.org/prop/direct/P213'), ('pname', 'ISNI')]\n",
      "[('p', 'http://www.wikidata.org/prop/direct/P2139'), ('pname', 'total revenue')]\n",
      "[('p', 'http://www.wikidata.org/prop/direct/P214'), ('pname', 'VIAF ID')]\n",
      "[('p', 'http://www.wikidata.org/prop/direct/P2163'), ('pname', 'FAST ID')]\n",
      "[('p', 'http://www.wikidata.org/prop/direct/P2226'), ('pname', 'market capitalization')]\n",
      "[('p', 'http://www.wikidata.org/prop/direct/P227'), ('pname', 'GND ID')]\n",
      "[('p', 'http://www.wikidata.org/prop/direct/P2295'), ('pname', 'net profit')]\n",
      "[('p', 'http://www.wikidata.org/prop/direct/P2342'), ('pname', 'AGORHA person/institution ID')]\n",
      "[('p', 'http://www.wikidata.org/prop/direct/P2397'), ('pname', 'YouTube channel ID')]\n",
      "[('p', 'http://www.wikidata.org/prop/direct/P2403'), ('pname', 'total assets')]\n",
      "[('p', 'http://www.wikidata.org/prop/direct/P2427'), ('pname', 'GRID ID')]\n",
      "[('p', 'http://www.wikidata.org/prop/direct/P244'), ('pname', 'Library of Congress authority ID')]\n",
      "[('p', 'http://www.wikidata.org/prop/direct/P245'), ('pname', 'Union List of Artist Names ID')]\n",
      "[('p', 'http://www.wikidata.org/prop/direct/P2627'), ('pname', 'ISO 9362 SWIFT/BIC code')]\n",
      "[('p', 'http://www.wikidata.org/prop/direct/P2657'), ('pname', 'EU Transparency Register ID')]\n",
      "[('p', 'http://www.wikidata.org/prop/direct/P2671'), ('pname', 'Google Knowledge Graph ID')]\n",
      "[('p', 'http://www.wikidata.org/prop/direct/P268'), ('pname', 'Bibliothèque nationale de France ID')]\n",
      "[('p', 'http://www.wikidata.org/prop/direct/P269'), ('pname', 'IdRef ID')]\n",
      "[('p', 'http://www.wikidata.org/prop/direct/P2750'), ('pname', \"Photographers' Identities Catalog ID\")]\n",
      "[('p', 'http://www.wikidata.org/prop/direct/P2924'), ('pname', 'Great Russian Encyclopedia Online ID')]\n",
      "[('p', 'http://www.wikidata.org/prop/direct/P3065'), ('pname', 'RERO ID')]\n",
      "[('p', 'http://www.wikidata.org/prop/direct/P3153'), ('pname', 'Crossref funder ID')]\n",
      "[('p', 'http://www.wikidata.org/prop/direct/P3225'), ('pname', 'Corporate Number (Japan)')]\n",
      "[('p', 'http://www.wikidata.org/prop/direct/P3347'), ('pname', 'PermID')]\n",
      "[('p', 'http://www.wikidata.org/prop/direct/P3348'), ('pname', 'National Library of Greece ID')]\n"
     ]
    },
    {
     "data": {
      "text/plain": [
       "50"
      ]
     },
     "execution_count": 10,
     "metadata": {},
     "output_type": "execute_result"
    }
   ],
   "source": [
    "#Q40\n",
    "#run Q38 on a general french business\n",
    "queryString = \"\"\"\n",
    "SELECT DISTINCT ?p ?pname WHERE\n",
    "{\n",
    "\n",
    "?s wdt:P17 wd:Q142;\n",
    "   wdt:P31 wd:Q4830453  . \n",
    "?s ?p ?o.\n",
    "\n",
    "FILTER (isLiteral(?o))\n",
    "\n",
    "#Labels\n",
    "?p <http://schema.org/name> ?pname .\n",
    "}\n",
    "LIMIT 50\n",
    "\"\"\"\n",
    "\n",
    "print(\"Results\")\n",
    "run_query(queryString)"
   ]
  },
  {
   "cell_type": "markdown",
   "id": "b35f96cf-0e8a-437b-9902-399d292cb876",
   "metadata": {},
   "source": [
    "Check if top three results of task 5.1 are restricted to that countries."
   ]
  },
  {
   "cell_type": "code",
   "execution_count": 11,
   "id": "6eac387b-e26f-4383-a6ea-7a675bb47193",
   "metadata": {},
   "outputs": [
    {
     "name": "stdout",
     "output_type": "stream",
     "text": [
      "Results\n",
      "[('HowMany', '176')]\n"
     ]
    },
    {
     "data": {
      "text/plain": [
       "1"
      ]
     },
     "execution_count": 11,
     "metadata": {},
     "output_type": "execute_result"
    }
   ],
   "source": [
    "#Q42\n",
    "#check if top three results of task 5.1 are restricted to that countries\n",
    "queryString = \"\"\"\n",
    "SELECT (COUNT(DISTINCT (?s)) AS ?HowMany)\n",
    "WHERE { \n",
    "\n",
    "?s wdt:P17 ?country;\n",
    "   wdt:P1454 wd:Q460178.\n",
    "\n",
    "FILTER(?country!=wd:Q183) #germany\n",
    "}\n",
    "LIMIT 3\n",
    "\"\"\"\n",
    "\n",
    "print(\"Results\")\n",
    "run_query(queryString)"
   ]
  },
  {
   "cell_type": "markdown",
   "id": "bf426798-ec45-4ddc-b18a-503076aee6a5",
   "metadata": {},
   "source": [
    "Most of them yes, so i pick the fourth result of Q36 (wd:Q134161 joint-stock company).Count how many of them have the 4 properties found above, then count for each single property to see which one is the best to use."
   ]
  },
  {
   "cell_type": "code",
   "execution_count": 12,
   "id": "cfd6d6ea-9534-49c3-95b8-1829984a1904",
   "metadata": {},
   "outputs": [
    {
     "name": "stdout",
     "output_type": "stream",
     "text": [
      "Results\n",
      "[('HowMany', '0')]\n"
     ]
    },
    {
     "data": {
      "text/plain": [
       "1"
      ]
     },
     "execution_count": 12,
     "metadata": {},
     "output_type": "execute_result"
    }
   ],
   "source": [
    "#Q43\n",
    "#most of them yes, so i pick the fourth result of Q36 (wd:Q134161 joint-stock company) \n",
    "#check how many have all the 4 Property found in Q38 and Q40\n",
    "queryString = \"\"\"\n",
    "SELECT (COUNT(DISTINCT (?s)) AS ?HowMany)\n",
    "WHERE { \n",
    "\n",
    "?s wdt:P17 ?country;\n",
    "   wdt:P1454 wd:Q134161;\n",
    "   wdt:P2295 ?net;\n",
    "   wdt:P2139 ?revenue;\n",
    "   wdt:P2226 ?mcap;\n",
    "   wdt:P2403 ?assets.\n",
    "   \n",
    "?country wdt:P463 wd:Q458. #eu\n",
    "}\n",
    "LIMIT 25\n",
    "\"\"\"\n",
    "\n",
    "print(\"Results\")\n",
    "run_query(queryString)"
   ]
  },
  {
   "cell_type": "code",
   "execution_count": 13,
   "id": "bf2a64b7-ef1c-480d-8e23-70e2e9733acf",
   "metadata": {},
   "outputs": [
    {
     "name": "stdout",
     "output_type": "stream",
     "text": [
      "Results\n",
      "[('HowMany', '0')]\n"
     ]
    },
    {
     "data": {
      "text/plain": [
       "1"
      ]
     },
     "execution_count": 13,
     "metadata": {},
     "output_type": "execute_result"
    }
   ],
   "source": [
    "#Q44\n",
    "#repeat only for market cap and assets\n",
    "queryString = \"\"\"\n",
    "SELECT (COUNT(DISTINCT (?s)) AS ?HowMany)\n",
    "WHERE { \n",
    "\n",
    "?s wdt:P17 ?country;\n",
    "   wdt:P1454 wd:Q134161;\n",
    "   wdt:P2226 ?mcap;\n",
    "   wdt:P2403 ?assets.\n",
    "   \n",
    "?country wdt:P463 wd:Q458. #eu\n",
    "}\n",
    "LIMIT 25\n",
    "\"\"\"\n",
    "\n",
    "print(\"Results\")\n",
    "run_query(queryString)"
   ]
  },
  {
   "cell_type": "code",
   "execution_count": 14,
   "id": "8fbd557b-612b-4608-8195-4e44d149e1e0",
   "metadata": {},
   "outputs": [
    {
     "name": "stdout",
     "output_type": "stream",
     "text": [
      "Results\n",
      "[('HowMany', '0')]\n"
     ]
    },
    {
     "data": {
      "text/plain": [
       "1"
      ]
     },
     "execution_count": 14,
     "metadata": {},
     "output_type": "execute_result"
    }
   ],
   "source": [
    "#Q45\n",
    "#repeat with generic legal form\n",
    "queryString = \"\"\"\n",
    "SELECT (COUNT(DISTINCT (?s)) AS ?HowMany)\n",
    "WHERE { \n",
    "\n",
    "?s wdt:P17 ?country;\n",
    "   wd:P1454 ?form;\n",
    "   wdt:P2226 ?mcap;\n",
    "   wdt:P2403 ?assets.\n",
    "   \n",
    "?country wdt:P463 wd:Q458. #eu\n",
    "}\n",
    "LIMIT 25\n",
    "\"\"\"\n",
    "\n",
    "print(\"Results\")\n",
    "run_query(queryString)"
   ]
  },
  {
   "cell_type": "code",
   "execution_count": 15,
   "id": "5ca8778a-790f-45a7-bf95-0c1f3441f9cf",
   "metadata": {},
   "outputs": [
    {
     "name": "stdout",
     "output_type": "stream",
     "text": [
      "Results\n",
      "[('HowMany', '203')]\n"
     ]
    },
    {
     "data": {
      "text/plain": [
       "1"
      ]
     },
     "execution_count": 15,
     "metadata": {},
     "output_type": "execute_result"
    }
   ],
   "source": [
    "#Q46\n",
    "#check how many entities have P2226\n",
    "queryString = \"\"\"\n",
    "SELECT (COUNT(DISTINCT (?s)) AS ?HowMany)\n",
    "WHERE { \n",
    "\n",
    "?s wdt:P2226 ?mcap.\n",
    "}\n",
    "LIMIT 25\n",
    "\"\"\"\n",
    "\n",
    "print(\"Results\")\n",
    "run_query(queryString)"
   ]
  },
  {
   "cell_type": "code",
   "execution_count": 16,
   "id": "e3612e84-75be-4816-8c2c-5fe22d187334",
   "metadata": {},
   "outputs": [
    {
     "name": "stdout",
     "output_type": "stream",
     "text": [
      "Results\n",
      "[('callret-0', '2308')]\n"
     ]
    },
    {
     "data": {
      "text/plain": [
       "1"
      ]
     },
     "execution_count": 16,
     "metadata": {},
     "output_type": "execute_result"
    }
   ],
   "source": [
    "#Q47\n",
    "#check how many entities have P2295\n",
    "queryString = \"\"\"\n",
    "SELECT (COUNT(DISTINCT (?s)))\n",
    "WHERE { \n",
    "\n",
    "?s wdt:P2295 ?net.\n",
    "#?s wdt:P2139 ?revenue.\n",
    "#?s wdt:P2403 ?assets.\n",
    "}\n",
    "LIMIT 25\n",
    "\"\"\"\n",
    "\n",
    "print(\"Results\")\n",
    "run_query(queryString)"
   ]
  },
  {
   "cell_type": "code",
   "execution_count": 17,
   "id": "78f831f2-73b9-4f4a-8d4f-0c99c37c6e4c",
   "metadata": {},
   "outputs": [
    {
     "name": "stdout",
     "output_type": "stream",
     "text": [
      "Results\n",
      "[('callret-0', '13424')]\n"
     ]
    },
    {
     "data": {
      "text/plain": [
       "1"
      ]
     },
     "execution_count": 17,
     "metadata": {},
     "output_type": "execute_result"
    }
   ],
   "source": [
    "#Q48\n",
    "#check how many entities have P2139\n",
    "queryString = \"\"\"\n",
    "SELECT (COUNT(DISTINCT (?s)))\n",
    "WHERE { \n",
    "\n",
    "#?s wdt:P2295 ?net.\n",
    "?s wdt:P2139 ?revenue.\n",
    "#?s wdt:P2403 ?assets.\n",
    "}\n",
    "LIMIT 25\n",
    "\"\"\"\n",
    "\n",
    "print(\"Results\")\n",
    "run_query(queryString)"
   ]
  },
  {
   "cell_type": "code",
   "execution_count": 18,
   "id": "19062594-f7be-490d-a6a1-d5f4685514cc",
   "metadata": {},
   "outputs": [
    {
     "name": "stdout",
     "output_type": "stream",
     "text": [
      "Results\n",
      "[('callret-0', '1903')]\n"
     ]
    },
    {
     "data": {
      "text/plain": [
       "1"
      ]
     },
     "execution_count": 18,
     "metadata": {},
     "output_type": "execute_result"
    }
   ],
   "source": [
    "#Q49\n",
    "#check how many entities have P2403\n",
    "queryString = \"\"\"\n",
    "SELECT (COUNT(DISTINCT (?s)))\n",
    "WHERE { \n",
    "\n",
    "#?s wdt:P2295 ?net.\n",
    "#?s wdt:P2139 ?revenue.\n",
    "?s wdt:P2403 ?assets.\n",
    "}\n",
    "LIMIT 25\n",
    "\"\"\"\n",
    "\n",
    "print(\"Results\")\n",
    "run_query(queryString)"
   ]
  },
  {
   "cell_type": "code",
   "execution_count": 22,
   "id": "5d83efac-9847-4f0a-a6c2-65924c6cb1db",
   "metadata": {},
   "outputs": [
    {
     "name": "stdout",
     "output_type": "stream",
     "text": [
      "Results\n",
      "[('legal', 'http://www.wikidata.org/entity/Q3742494'), ('howMany', '422')]\n",
      "[('legal', 'http://www.wikidata.org/entity/Q134161'), ('howMany', '317')]\n",
      "[('legal', 'http://www.wikidata.org/entity/Q15646299'), ('howMany', '286')]\n",
      "[('legal', 'http://www.wikidata.org/entity/Q891723'), ('howMany', '176')]\n",
      "[('legal', 'http://www.wikidata.org/entity/Q13641190'), ('howMany', '125')]\n",
      "[('legal', 'http://www.wikidata.org/entity/Q1589009'), ('howMany', '40')]\n",
      "[('legal', 'http://www.wikidata.org/entity/Q166280'), ('howMany', '39')]\n",
      "[('legal', 'http://www.wikidata.org/entity/Q67207116'), ('howMany', '32')]\n",
      "[('legal', 'http://www.wikidata.org/entity/Q1480166'), ('howMany', '24')]\n",
      "[('legal', 'http://www.wikidata.org/entity/Q21191682'), ('howMany', '22')]\n"
     ]
    },
    {
     "data": {
      "text/plain": [
       "10"
      ]
     },
     "execution_count": 22,
     "metadata": {},
     "output_type": "execute_result"
    }
   ],
   "source": [
    "#Q50\n",
    "#repeat the four queries above and group by legal form\n",
    "queryString = \"\"\"\n",
    "SELECT ?legal (COUNT(DISTINCT (?s)) AS ?howMany)\n",
    "WHERE { \n",
    "\n",
    "?s wdt:P2295 ?net;\n",
    "   wdt:P1454 ?legal.\n",
    "}\n",
    "GROUP BY (?legal)\n",
    "ORDER BY DESC(?howMany)\n",
    "LIMIT 10\n",
    "\"\"\"\n",
    "\n",
    "print(\"Results\")\n",
    "run_query(queryString)"
   ]
  },
  {
   "cell_type": "code",
   "execution_count": 23,
   "id": "7ee088b6-656c-48d5-a6b7-4201ad976acd",
   "metadata": {},
   "outputs": [
    {
     "name": "stdout",
     "output_type": "stream",
     "text": [
      "Results\n",
      "[('legal', 'http://www.wikidata.org/entity/Q134161'), ('howMany', '552')]\n",
      "[('legal', 'http://www.wikidata.org/entity/Q3742494'), ('howMany', '419')]\n",
      "[('legal', 'http://www.wikidata.org/entity/Q891723'), ('howMany', '408')]\n",
      "[('legal', 'http://www.wikidata.org/entity/Q15646299'), ('howMany', '304')]\n",
      "[('legal', 'http://www.wikidata.org/entity/Q9299236'), ('howMany', '224')]\n",
      "[('legal', 'http://www.wikidata.org/entity/Q13641190'), ('howMany', '137')]\n",
      "[('legal', 'http://www.wikidata.org/entity/Q460178'), ('howMany', '97')]\n",
      "[('legal', 'http://www.wikidata.org/entity/Q1500859'), ('howMany', '88')]\n",
      "[('legal', 'http://www.wikidata.org/entity/Q18631225'), ('howMany', '83')]\n",
      "[('legal', 'http://www.wikidata.org/entity/Q1589009'), ('howMany', '80')]\n"
     ]
    },
    {
     "data": {
      "text/plain": [
       "10"
      ]
     },
     "execution_count": 23,
     "metadata": {},
     "output_type": "execute_result"
    }
   ],
   "source": [
    "#Q51\n",
    "#repeat the four queries above and group by legal form\n",
    "queryString = \"\"\"\n",
    "SELECT ?legal (COUNT(DISTINCT (?s)) AS ?howMany)\n",
    "WHERE { \n",
    "\n",
    "?s wdt:P2139 ?revenue;\n",
    "   wdt:P1454 ?legal.\n",
    "}\n",
    "GROUP BY (?legal)\n",
    "ORDER BY DESC(?howMany)\n",
    "LIMIT 10\n",
    "\"\"\"\n",
    "\n",
    "print(\"Results\")\n",
    "run_query(queryString)"
   ]
  },
  {
   "cell_type": "code",
   "execution_count": 25,
   "id": "f15178c0-e41d-44da-aff7-71b3d4b8944b",
   "metadata": {},
   "outputs": [
    {
     "name": "stdout",
     "output_type": "stream",
     "text": [
      "Results\n",
      "[('legal', 'http://www.wikidata.org/entity/Q3742494'), ('howMany', '467')]\n",
      "[('legal', 'http://www.wikidata.org/entity/Q134161'), ('howMany', '337')]\n",
      "[('legal', 'http://www.wikidata.org/entity/Q15646299'), ('howMany', '310')]\n",
      "[('legal', 'http://www.wikidata.org/entity/Q891723'), ('howMany', '263')]\n",
      "[('legal', 'http://www.wikidata.org/entity/Q13641190'), ('howMany', '66')]\n",
      "[('legal', 'http://www.wikidata.org/entity/Q9299236'), ('howMany', '59')]\n",
      "[('legal', 'http://www.wikidata.org/entity/Q67207116'), ('howMany', '40')]\n",
      "[('legal', 'http://www.wikidata.org/entity/Q18631225'), ('howMany', '36')]\n",
      "[('legal', 'http://www.wikidata.org/entity/Q422062'), ('howMany', '31')]\n",
      "[('legal', 'http://www.wikidata.org/entity/Q88537331'), ('howMany', '20')]\n"
     ]
    },
    {
     "data": {
      "text/plain": [
       "10"
      ]
     },
     "execution_count": 25,
     "metadata": {},
     "output_type": "execute_result"
    }
   ],
   "source": [
    "#Q52\n",
    "#repeat the four queries above and group by legal form\n",
    "queryString = \"\"\"\n",
    "SELECT ?legal (COUNT(DISTINCT (?s)) AS ?howMany)\n",
    "WHERE { \n",
    "\n",
    "?s wdt:P2403 ?assets;\n",
    "   wdt:P1454 ?legal.\n",
    "}\n",
    "GROUP BY (?legal)\n",
    "ORDER BY DESC(?howMany)\n",
    "LIMIT 10\n",
    "\"\"\"\n",
    "\n",
    "print(\"Results\")\n",
    "run_query(queryString)"
   ]
  },
  {
   "cell_type": "code",
   "execution_count": 26,
   "id": "c5c64049-c01d-4c32-92dd-6a54acc56020",
   "metadata": {},
   "outputs": [
    {
     "name": "stdout",
     "output_type": "stream",
     "text": [
      "Results\n",
      "[('legal', 'http://www.wikidata.org/entity/Q891723'), ('howMany', '66')]\n",
      "[('legal', 'http://www.wikidata.org/entity/Q134161'), ('howMany', '32')]\n",
      "[('legal', 'http://www.wikidata.org/entity/Q88537331'), ('howMany', '12')]\n",
      "[('legal', 'http://www.wikidata.org/entity/Q422062'), ('howMany', '8')]\n",
      "[('legal', 'http://www.wikidata.org/entity/Q13641190'), ('howMany', '8')]\n",
      "[('legal', 'http://www.wikidata.org/entity/Q1436139'), ('howMany', '7')]\n",
      "[('legal', 'http://www.wikidata.org/entity/Q57655560'), ('howMany', '7')]\n",
      "[('legal', 'http://www.wikidata.org/entity/Q18195767'), ('howMany', '6')]\n",
      "[('legal', 'http://www.wikidata.org/entity/Q3742494'), ('howMany', '5')]\n",
      "[('legal', 'http://www.wikidata.org/entity/Q1589009'), ('howMany', '5')]\n"
     ]
    },
    {
     "data": {
      "text/plain": [
       "10"
      ]
     },
     "execution_count": 26,
     "metadata": {},
     "output_type": "execute_result"
    }
   ],
   "source": [
    "#Q53\n",
    "#repeat the four queries above and group by legal form\n",
    "queryString = \"\"\"\n",
    "SELECT ?legal (COUNT(DISTINCT (?s)) AS ?howMany)\n",
    "WHERE { \n",
    "\n",
    "?s wdt:P2226 ?mcap;\n",
    "   wdt:P1454 ?legal.\n",
    "}\n",
    "GROUP BY (?legal)\n",
    "ORDER BY DESC(?howMany)\n",
    "LIMIT 10\n",
    "\"\"\"\n",
    "\n",
    "print(\"Results\")\n",
    "run_query(queryString)"
   ]
  },
  {
   "cell_type": "markdown",
   "id": "4bc35eb6-2c6c-4e7e-8274-73482fbbd14f",
   "metadata": {},
   "source": [
    "Retrieve min market cap for wd:Q3742494 grouped by country."
   ]
  },
  {
   "cell_type": "code",
   "execution_count": 29,
   "id": "2d97504c-77d5-43e2-a0c6-7d587d79205d",
   "metadata": {},
   "outputs": [
    {
     "name": "stdout",
     "output_type": "stream",
     "text": [
      "Results\n",
      "[('country', 'http://www.wikidata.org/entity/Q213'), ('min', '7100000000')]\n"
     ]
    },
    {
     "data": {
      "text/plain": [
       "1"
      ]
     },
     "execution_count": 29,
     "metadata": {},
     "output_type": "execute_result"
    }
   ],
   "source": [
    "#Q54\n",
    "#retrieve min market cap for wd:Q3742494 grouped by country\n",
    "queryString = \"\"\"\n",
    "SELECT ?country (MIN(?cap) AS ?min)\n",
    "WHERE { \n",
    "\n",
    "?s wdt:P2226 ?cap;\n",
    "   wdt:P1454 wd:Q3742494;\n",
    "   wdt:P17 ?country.\n",
    "   \n",
    "FILTER(?cap>0)\n",
    "}\n",
    "GROUP BY (?country)\n",
    "ORDER BY ASC(?min)\n",
    "LIMIT 10\n",
    "\"\"\"\n",
    "\n",
    "print(\"Results\")\n",
    "run_query(queryString)"
   ]
  },
  {
   "cell_type": "markdown",
   "id": "8470dc81-ad2c-47d0-8d57-ed2f4a33fb98",
   "metadata": {},
   "source": [
    "wd:Q3742494 refers to Czech as i found out in task 3 so it's logical just one result. Run the same query but using the second result of Q53."
   ]
  },
  {
   "cell_type": "code",
   "execution_count": 30,
   "id": "a092a7ca-4366-4895-b208-f8d4e4aae262",
   "metadata": {},
   "outputs": [
    {
     "name": "stdout",
     "output_type": "stream",
     "text": [
      "Results\n",
      "[('country', 'http://www.wikidata.org/entity/Q39'), ('min', '39000000')]\n",
      "[('country', 'http://www.wikidata.org/entity/Q30'), ('min', '110300000')]\n",
      "[('country', 'http://www.wikidata.org/entity/Q15180'), ('min', '200804100')]\n",
      "[('country', 'http://www.wikidata.org/entity/Q159'), ('min', '200804100')]\n",
      "[('country', 'http://www.wikidata.org/entity/Q148'), ('min', '486000000000')]\n",
      "[('country', 'http://www.wikidata.org/entity/Q851'), ('min', '2458000000000')]\n"
     ]
    },
    {
     "data": {
      "text/plain": [
       "6"
      ]
     },
     "execution_count": 30,
     "metadata": {},
     "output_type": "execute_result"
    }
   ],
   "source": [
    "#Q55\n",
    "#wd:Q3742494 refers to Czech as i found out in task 3 so it's logical just one result\n",
    "#try on second result of Q53\n",
    "queryString = \"\"\"\n",
    "SELECT ?country (MIN(?cap) AS ?min)\n",
    "WHERE { \n",
    "\n",
    "?s wdt:P2226 ?cap;\n",
    "   wdt:P1454 wd:Q134161;\n",
    "   wdt:P17 ?country.\n",
    "   \n",
    "FILTER(?cap>0)\n",
    "}\n",
    "GROUP BY (?country)\n",
    "ORDER BY ASC(?min)\n",
    "LIMIT 10\n",
    "\"\"\"\n",
    "\n",
    "print(\"Results\")\n",
    "run_query(queryString)"
   ]
  },
  {
   "cell_type": "markdown",
   "id": "f7514c5b-9fbc-41d4-8312-5f00bf9c3d15",
   "metadata": {},
   "source": [
    "Get max of market cap for some countries."
   ]
  },
  {
   "cell_type": "code",
   "execution_count": 46,
   "id": "36978bac-8c49-4cb8-acaf-046576d93a7a",
   "metadata": {},
   "outputs": [
    {
     "name": "stdout",
     "output_type": "stream",
     "text": [
      "Results\n",
      "[('country', 'http://www.wikidata.org/entity/Q851'), ('max', '2458000000000')]\n",
      "[('country', 'http://www.wikidata.org/entity/Q159'), ('max', '789000000000')]\n",
      "[('country', 'http://www.wikidata.org/entity/Q30'), ('max', '650340000000')]\n",
      "[('country', 'http://www.wikidata.org/entity/Q148'), ('max', '486000000000')]\n",
      "[('country', 'http://www.wikidata.org/entity/Q15180'), ('max', '200804100')]\n",
      "[('country', 'http://www.wikidata.org/entity/Q39'), ('max', '39000000')]\n"
     ]
    },
    {
     "data": {
      "text/plain": [
       "6"
      ]
     },
     "execution_count": 46,
     "metadata": {},
     "output_type": "execute_result"
    }
   ],
   "source": [
    "#Q56\n",
    "#get max\n",
    "queryString = \"\"\"\n",
    "SELECT ?country (MAX(?cap) AS ?max)\n",
    "WHERE { \n",
    "\n",
    "?s wdt:P2226 ?cap;\n",
    "   wdt:P1454 wd:Q134161;\n",
    "   wdt:P17 ?country.\n",
    "   \n",
    "FILTER(?cap>0)\n",
    "}\n",
    "GROUP BY (?country)\n",
    "ORDER BY DESC(?max)\n",
    "LIMIT 10\n",
    "\"\"\"\n",
    "\n",
    "print(\"Results\")\n",
    "run_query(queryString)"
   ]
  },
  {
   "cell_type": "markdown",
   "id": "5810af56-2273-4385-8ce7-94c6b1635a4f",
   "metadata": {},
   "source": [
    "Compute the average market cap."
   ]
  },
  {
   "cell_type": "code",
   "execution_count": 44,
   "id": "4fb997a3-f807-4fea-9551-2ad9427ccf35",
   "metadata": {},
   "outputs": [
    {
     "name": "stdout",
     "output_type": "stream",
     "text": [
      "Results\n",
      "[('country', 'http://www.wikidata.org/entity/Q851'), ('cname', 'Saudi Arabia'), ('avg', '2458000000000')]\n",
      "[('country', 'http://www.wikidata.org/entity/Q148'), ('cname', \"People's Republic of China\"), ('avg', '486000000000')]\n",
      "[('country', 'http://www.wikidata.org/entity/Q159'), ('cname', 'Russia'), ('avg', '153619460512.5')]\n",
      "[('country', 'http://www.wikidata.org/entity/Q30'), ('cname', 'United States of America'), ('avg', '150952970833.333333333333333')]\n",
      "[('country', 'http://www.wikidata.org/entity/Q15180'), ('cname', 'Soviet Union'), ('avg', '200804100')]\n",
      "[('country', 'http://www.wikidata.org/entity/Q39'), ('cname', 'Switzerland'), ('avg', '39000000')]\n"
     ]
    },
    {
     "data": {
      "text/plain": [
       "6"
      ]
     },
     "execution_count": 44,
     "metadata": {},
     "output_type": "execute_result"
    }
   ],
   "source": [
    "#Q57\n",
    "#get avg and labels\n",
    "queryString = \"\"\"\n",
    "SELECT ?country ?cname ?avg WHERE\n",
    "{\n",
    "{SELECT ?country (AVG(?cap) AS ?avg)\n",
    "WHERE { \n",
    "\n",
    "?s wdt:P2226 ?cap;\n",
    "   wdt:P1454 wd:Q134161;\n",
    "   wdt:P17 ?country.\n",
    "   \n",
    "FILTER(?cap>0)\n",
    "}\n",
    "GROUP BY (?country)\n",
    "}\n",
    "#Labels\n",
    "?country <http://schema.org/name> ?cname .\n",
    "}\n",
    "ORDER BY DESC(?avg)\n",
    "LIMIT 10\n",
    "\"\"\"\n",
    "\n",
    "print(\"Results\")\n",
    "run_query(queryString)"
   ]
  },
  {
   "cell_type": "markdown",
   "id": "7fdd6d1a-e906-45b2-8452-70f387da78e7",
   "metadata": {},
   "source": [
    "Compute min of total assests, max of total assets and average for each country."
   ]
  },
  {
   "cell_type": "code",
   "execution_count": 45,
   "id": "ae7ee484-9bc8-4939-b297-ca4a3ad3fd67",
   "metadata": {},
   "outputs": [
    {
     "name": "stdout",
     "output_type": "stream",
     "text": [
      "Results\n",
      "[('country', 'http://www.wikidata.org/entity/Q142'), ('cname', 'France'), ('min', '74300000000')]\n",
      "[('country', 'http://www.wikidata.org/entity/Q148'), ('cname', \"People's Republic of China\"), ('min', '106214000000')]\n",
      "[('country', 'http://www.wikidata.org/entity/Q15180'), ('cname', 'Soviet Union'), ('min', '2446590000')]\n",
      "[('country', 'http://www.wikidata.org/entity/Q159'), ('cname', 'Russia'), ('min', '69064000')]\n",
      "[('country', 'http://www.wikidata.org/entity/Q17'), ('cname', 'Japan'), ('min', '1412070000')]\n",
      "[('country', 'http://www.wikidata.org/entity/Q183'), ('cname', 'Germany'), ('min', '1170110564.16')]\n",
      "[('country', 'http://www.wikidata.org/entity/Q212'), ('cname', 'Ukraine'), ('min', '24463716000')]\n",
      "[('country', 'http://www.wikidata.org/entity/Q213'), ('cname', 'Czech Republic'), ('min', '58464000')]\n",
      "[('country', 'http://www.wikidata.org/entity/Q224'), ('cname', 'Croatia'), ('min', '675233145000')]\n",
      "[('country', 'http://www.wikidata.org/entity/Q28'), ('cname', 'Hungary'), ('min', '720000000000')]\n"
     ]
    },
    {
     "data": {
      "text/plain": [
       "10"
      ]
     },
     "execution_count": 45,
     "metadata": {},
     "output_type": "execute_result"
    }
   ],
   "source": [
    "#Q58\n",
    "#repeat q57, q56, q55 for total assets\n",
    "queryString = \"\"\"\n",
    "SELECT ?country ?cname ?min WHERE\n",
    "{\n",
    "{SELECT ?country (MIN(?assets) AS ?min)\n",
    "WHERE { \n",
    "\n",
    "?s wdt:P2403 ?assets;\n",
    "   wdt:P1454 wd:Q134161;\n",
    "   wdt:P17 ?country.\n",
    "   \n",
    "FILTER(?assets>0)\n",
    "}\n",
    "GROUP BY (?country)\n",
    "}\n",
    "#Labels\n",
    "?country <http://schema.org/name> ?cname .\n",
    "}\n",
    "ORDER BY ASC(?max)\n",
    "LIMIT 10\n",
    "\"\"\"\n",
    "\n",
    "print(\"Results\")\n",
    "run_query(queryString)"
   ]
  },
  {
   "cell_type": "code",
   "execution_count": 43,
   "id": "770de1cd-b1cf-4be5-90c0-375459e79f33",
   "metadata": {},
   "outputs": [
    {
     "name": "stdout",
     "output_type": "stream",
     "text": [
      "Results\n",
      "[('country', 'http://www.wikidata.org/entity/Q884'), ('cname', 'South Korea'), ('max', '262174300000000')]\n",
      "[('country', 'http://www.wikidata.org/entity/Q159'), ('cname', 'Russia'), ('max', '6649579000000')]\n",
      "[('country', 'http://www.wikidata.org/entity/Q28'), ('cname', 'Hungary'), ('max', '4103786000000')]\n",
      "[('country', 'http://www.wikidata.org/entity/Q30'), ('cname', 'United States of America'), ('max', '3960490000000')]\n",
      "[('country', 'http://www.wikidata.org/entity/Q148'), ('cname', \"People's Republic of China\"), ('max', '2393844000000')]\n",
      "[('country', 'http://www.wikidata.org/entity/Q851'), ('cname', 'Saudi Arabia'), ('max', '1494126000000')]\n",
      "[('country', 'http://www.wikidata.org/entity/Q224'), ('cname', 'Croatia'), ('max', '675233145000')]\n",
      "[('country', 'http://www.wikidata.org/entity/Q878'), ('cname', 'United Arab Emirates'), ('max', '127587000000')]\n",
      "[('country', 'http://www.wikidata.org/entity/Q183'), ('cname', 'Germany'), ('max', '112400000000')]\n",
      "[('country', 'http://www.wikidata.org/entity/Q142'), ('cname', 'France'), ('max', '74300000000')]\n"
     ]
    },
    {
     "data": {
      "text/plain": [
       "10"
      ]
     },
     "execution_count": 43,
     "metadata": {},
     "output_type": "execute_result"
    }
   ],
   "source": [
    "#Q59\n",
    "#repeat q57, q56, q55 for total assets\n",
    "queryString = \"\"\"\n",
    "SELECT ?country ?cname ?max WHERE\n",
    "{\n",
    "{SELECT ?country (MAX(?assets) AS ?max)\n",
    "WHERE { \n",
    "\n",
    "?s wdt:P2403 ?assets;\n",
    "   wdt:P1454 wd:Q134161;\n",
    "   wdt:P17 ?country.\n",
    "   \n",
    "FILTER(?assets>0)\n",
    "}\n",
    "GROUP BY (?country)\n",
    "}\n",
    "#Labels\n",
    "?country <http://schema.org/name> ?cname .\n",
    "}\n",
    "ORDER BY DESC(?max)\n",
    "LIMIT 10\n",
    "\"\"\"\n",
    "\n",
    "print(\"Results\")\n",
    "run_query(queryString)"
   ]
  },
  {
   "cell_type": "code",
   "execution_count": 42,
   "id": "68d90156-3783-4655-bf18-eb53035c4b83",
   "metadata": {},
   "outputs": [
    {
     "name": "stdout",
     "output_type": "stream",
     "text": [
      "Results\n",
      "[('country', 'http://www.wikidata.org/entity/Q884'), ('cname', 'South Korea'), ('avg', '88371322155240.666666666666667')]\n",
      "[('country', 'http://www.wikidata.org/entity/Q28'), ('cname', 'Hungary'), ('avg', '2411893000000')]\n",
      "[('country', 'http://www.wikidata.org/entity/Q148'), ('cname', \"People's Republic of China\"), ('avg', '726726603035.373')]\n",
      "[('country', 'http://www.wikidata.org/entity/Q224'), ('cname', 'Croatia'), ('avg', '675233145000')]\n",
      "[('country', 'http://www.wikidata.org/entity/Q159'), ('cname', 'Russia'), ('avg', '390861415222.222222222222222')]\n",
      "[('country', 'http://www.wikidata.org/entity/Q30'), ('cname', 'United States of America'), ('avg', '360837789813.400837837837838')]\n",
      "[('country', 'http://www.wikidata.org/entity/Q878'), ('cname', 'United Arab Emirates'), ('avg', '82935411333.333333333333333')]\n",
      "[('country', 'http://www.wikidata.org/entity/Q142'), ('cname', 'France'), ('avg', '74300000000')]\n",
      "[('country', 'http://www.wikidata.org/entity/Q851'), ('cname', 'Saudi Arabia'), ('avg', '34665572608.166666666666667')]\n",
      "[('country', 'http://www.wikidata.org/entity/Q15180'), ('cname', 'Soviet Union'), ('avg', '33076715000')]\n"
     ]
    },
    {
     "data": {
      "text/plain": [
       "10"
      ]
     },
     "execution_count": 42,
     "metadata": {},
     "output_type": "execute_result"
    }
   ],
   "source": [
    "#Q60\n",
    "#repeat q57, q56, q55 for total assets\n",
    "queryString = \"\"\"\n",
    "SELECT ?country ?cname ?avg WHERE\n",
    "{\n",
    "{SELECT ?country (AVG(?assets) AS ?avg)\n",
    "WHERE { \n",
    "\n",
    "?s wdt:P2403 ?assets;\n",
    "   wdt:P1454 wd:Q134161;\n",
    "   wdt:P17 ?country.\n",
    "   \n",
    "FILTER(?assets>0)\n",
    "}\n",
    "GROUP BY (?country)\n",
    "}\n",
    "#Labels\n",
    "?country <http://schema.org/name> ?cname .\n",
    "}\n",
    "ORDER BY DESC(?avg)\n",
    "LIMIT 10\n",
    "\"\"\"\n",
    "\n",
    "print(\"Results\")\n",
    "run_query(queryString)"
   ]
  },
  {
   "cell_type": "markdown",
   "id": "c48c61ec-e61c-4f7d-bacd-19df3f89d38d",
   "metadata": {},
   "source": [
    "<h3> TASK 5.2 ENDS HERE </h3>\n",
    "I found the properties about Market Cap, Net Profit, Total Assets and Total revenue. I computed a set of queries to find out for some countries\n",
    "that is the min, max and average market cap and total assets for a company of type jonit-stock. As a result, China is the leader for what concerns\n",
    "market cap, while South Korea is on top in the total assets rankings."
   ]
  },
  {
   "cell_type": "markdown",
   "id": "87f54322-0f65-48f9-8ce3-112cd96911f9",
   "metadata": {},
   "source": [
    "<h3> TASK 5.3 STARTS HERE </h3>\n",
    "Which business in each country owns more businesses in other EU. countries?"
   ]
  },
  {
   "cell_type": "markdown",
   "id": "6d22c1ae-1ff6-491b-b863-736b8d32f356",
   "metadata": {},
   "source": [
    "I am trying to reuse that i found out for task 3."
   ]
  },
  {
   "cell_type": "code",
   "execution_count": 49,
   "id": "d678fd11-dee5-42ab-bccb-4ecfa16d9bbc",
   "metadata": {},
   "outputs": [
    {
     "name": "stdout",
     "output_type": "stream",
     "text": [
      "Results\n",
      "[('s', 'http://www.wikidata.org/entity/Q292750'), ('sname', 'AG für Verkehrswesen'), ('OwnedCompanies', '23')]\n",
      "[('s', 'http://www.wikidata.org/entity/Q94639662'), ('sname', 'NexGen'), ('OwnedCompanies', '13')]\n",
      "[('s', 'http://www.wikidata.org/entity/Q180855'), ('sname', 'Heineken'), ('OwnedCompanies', '7')]\n",
      "[('s', 'http://www.wikidata.org/entity/Q504998'), ('sname', 'LVMH'), ('OwnedCompanies', '7')]\n",
      "[('s', 'http://www.wikidata.org/entity/Q77846713'), ('sname', 'Veolia Central & Eastern Europe'), ('OwnedCompanies', '7')]\n",
      "[('s', 'http://www.wikidata.org/entity/Q150437'), ('sname', 'Penta Investments Limited'), ('OwnedCompanies', '7')]\n",
      "[('s', 'http://www.wikidata.org/entity/Q499707'), ('sname', 'BNP Paribas'), ('OwnedCompanies', '6')]\n",
      "[('s', 'http://www.wikidata.org/entity/Q300704'), ('sname', 'Aachen Münchener'), ('OwnedCompanies', '6')]\n",
      "[('s', 'http://www.wikidata.org/entity/Q48916492'), ('sname', 'E.ON Beteiligungen'), ('OwnedCompanies', '5')]\n",
      "[('s', 'http://www.wikidata.org/entity/Q113215'), ('sname', 'Carlsberg Group'), ('OwnedCompanies', '5')]\n"
     ]
    },
    {
     "data": {
      "text/plain": [
       "10"
      ]
     },
     "execution_count": 49,
     "metadata": {},
     "output_type": "execute_result"
    }
   ],
   "source": [
    "#Q61\n",
    "#try to reuse that i found out for task 3\n",
    "queryString = \"\"\"\n",
    "SELECT ?s ?sname ?OwnedCompanies WHERE\n",
    "{\n",
    "{SELECT ?s (COUNT(DISTINCT (?o)) AS ?OwnedCompanies)\n",
    "WHERE { \n",
    "\n",
    "?s wdt:P31 ?type;\n",
    "   wdt:P17 ?country;\n",
    "   wdt:P1830 ?o.\n",
    "?o wdt:P31 ?type;\n",
    "   wdt:P17 ?c.\n",
    "?c wdt:P463 wd:Q458.\n",
    "\n",
    "FILTER( ( (?type=wd:Q6881511)||(?type=wd:Q4830453) ) && (?country!=?c) ) \n",
    "}\n",
    "GROUP BY (?s)\n",
    "\n",
    "}\n",
    "\n",
    "#Labels\n",
    "?s <http://schema.org/name> ?sname .\n",
    "}\n",
    "ORDER BY DESC(?OwnedCompanies)\n",
    "LIMIT 10\n",
    "\"\"\"\n",
    "\n",
    "print(\"Results\")\n",
    "run_query(queryString)"
   ]
  },
  {
   "cell_type": "code",
   "execution_count": 52,
   "id": "89dfe62e-3c45-433a-8f0f-475bf0f18c97",
   "metadata": {},
   "outputs": [
    {
     "name": "stdout",
     "output_type": "stream",
     "text": [
      "Results\n",
      "[('s', 'http://www.wikidata.org/entity/Q292750'), ('country', 'http://www.wikidata.org/entity/Q1206012'), ('OwnedCompanies', '23')]\n",
      "[('s', 'http://www.wikidata.org/entity/Q94639662'), ('country', 'http://www.wikidata.org/entity/Q32'), ('OwnedCompanies', '13')]\n",
      "[('s', 'http://www.wikidata.org/entity/Q180855'), ('country', 'http://www.wikidata.org/entity/Q55'), ('OwnedCompanies', '7')]\n",
      "[('s', 'http://www.wikidata.org/entity/Q504998'), ('country', 'http://www.wikidata.org/entity/Q142'), ('OwnedCompanies', '7')]\n",
      "[('s', 'http://www.wikidata.org/entity/Q77846713'), ('country', 'http://www.wikidata.org/entity/Q142'), ('OwnedCompanies', '7')]\n",
      "[('s', 'http://www.wikidata.org/entity/Q150437'), ('country', 'http://www.wikidata.org/entity/Q785'), ('OwnedCompanies', '7')]\n",
      "[('s', 'http://www.wikidata.org/entity/Q499707'), ('country', 'http://www.wikidata.org/entity/Q142'), ('OwnedCompanies', '6')]\n",
      "[('s', 'http://www.wikidata.org/entity/Q300704'), ('country', 'http://www.wikidata.org/entity/Q1206012'), ('OwnedCompanies', '6')]\n",
      "[('s', 'http://www.wikidata.org/entity/Q300704'), ('country', 'http://www.wikidata.org/entity/Q183'), ('OwnedCompanies', '6')]\n",
      "[('s', 'http://www.wikidata.org/entity/Q48916492'), ('country', 'http://www.wikidata.org/entity/Q183'), ('OwnedCompanies', '5')]\n"
     ]
    },
    {
     "data": {
      "text/plain": [
       "10"
      ]
     },
     "execution_count": 52,
     "metadata": {},
     "output_type": "execute_result"
    }
   ],
   "source": [
    "#Q62\n",
    "#add country\n",
    "queryString = \"\"\"\n",
    "SELECT ?s ?country ?OwnedCompanies WHERE\n",
    "{\n",
    "  ?s wdt:P17 ?country.\n",
    "{\n",
    "SELECT ?s (COUNT(DISTINCT (?o)) AS ?OwnedCompanies)\n",
    "WHERE { \n",
    "\n",
    "?s wdt:P31 ?type;\n",
    "   wdt:P17 ?country;\n",
    "   wdt:P1830 ?o.\n",
    "?o wdt:P31 ?type;\n",
    "   wdt:P17 ?c.\n",
    "?c wdt:P463 wd:Q458.\n",
    "\n",
    "FILTER( ( (?type=wd:Q6881511)||(?type=wd:Q4830453) ) && (?country!=?c) ) \n",
    "}\n",
    "GROUP BY (?s)\n",
    "}\n",
    "}\n",
    "ORDER BY DESC(?OwnedCompanies)\n",
    "LIMIT 10\n",
    "\"\"\"\n",
    "\n",
    "print(\"Results\")\n",
    "run_query(queryString)"
   ]
  },
  {
   "cell_type": "code",
   "execution_count": 54,
   "id": "4ed1ff3c-83d8-4f88-9939-93e6a716f350",
   "metadata": {},
   "outputs": [
    {
     "name": "stdout",
     "output_type": "stream",
     "text": [
      "Results\n",
      "[('country', 'http://www.wikidata.org/entity/Q1206012'), ('max', '23')]\n",
      "[('country', 'http://www.wikidata.org/entity/Q32'), ('max', '13')]\n",
      "[('country', 'http://www.wikidata.org/entity/Q785'), ('max', '7')]\n",
      "[('country', 'http://www.wikidata.org/entity/Q142'), ('max', '7')]\n",
      "[('country', 'http://www.wikidata.org/entity/Q55'), ('max', '7')]\n",
      "[('country', 'http://www.wikidata.org/entity/Q183'), ('max', '6')]\n",
      "[('country', 'http://www.wikidata.org/entity/Q145'), ('max', '5')]\n",
      "[('country', 'http://www.wikidata.org/entity/Q35'), ('max', '5')]\n",
      "[('country', 'http://www.wikidata.org/entity/Q39'), ('max', '4')]\n",
      "[('country', 'http://www.wikidata.org/entity/Q155'), ('max', '4')]\n"
     ]
    },
    {
     "data": {
      "text/plain": [
       "10"
      ]
     },
     "execution_count": 54,
     "metadata": {},
     "output_type": "execute_result"
    }
   ],
   "source": [
    "#TASK 5.3 ENDS HERE:\n",
    "queryString = \"\"\"\n",
    "SELECT ?country (MAX (?OwnedCompanies) AS ?max) WHERE\n",
    "{\n",
    "{SELECT ?s ?country ?OwnedCompanies WHERE\n",
    "{\n",
    "  ?s wdt:P17 ?country.\n",
    "{\n",
    "SELECT ?s (COUNT(DISTINCT (?o)) AS ?OwnedCompanies)\n",
    "WHERE { \n",
    "\n",
    "?s wdt:P31 ?type;\n",
    "   wdt:P17 ?country;\n",
    "   wdt:P1830 ?o.\n",
    "?o wdt:P31 ?type;\n",
    "   wdt:P17 ?c.\n",
    "?c wdt:P463 wd:Q458.\n",
    "\n",
    "FILTER( ( (?type=wd:Q6881511)||(?type=wd:Q4830453) ) && (?country!=?c) ) \n",
    "}\n",
    "GROUP BY (?s)\n",
    "}\n",
    "}}\n",
    "}\n",
    "GROUP BY (?country)\n",
    "ORDER BY DESC(?max)\n",
    "LIMIT 10\n",
    "\"\"\"\n",
    "\n",
    "print(\"Results\")\n",
    "run_query(queryString)"
   ]
  },
  {
   "cell_type": "markdown",
   "id": "b2dc0971-d6b0-49bf-8b07-06590b9a1153",
   "metadata": {},
   "source": [
    "<h3> TASK 5.3 ENDS HERE </h3>\n",
    "Computed for each EU countries the max number of businesses owneed and then retrieve the top 10."
   ]
  },
  {
   "cell_type": "code",
   "execution_count": 57,
   "id": "3208d50a-ca8f-4d67-b781-829c9bfaf828",
   "metadata": {},
   "outputs": [
    {
     "name": "stdout",
     "output_type": "stream",
     "text": [
      "Results\n",
      "[('Companies', 'http://www.wikidata.org/entity/Q292750'), ('countries', 'http://www.wikidata.org/entity/Q1206012'), ('OwnedCompanies', '23')]\n",
      "[('Companies', 'http://www.wikidata.org/entity/Q94639662'), ('countries', 'http://www.wikidata.org/entity/Q32'), ('OwnedCompanies', '13')]\n",
      "[('Companies', 'http://www.wikidata.org/entity/Q150437'), ('countries', 'http://www.wikidata.org/entity/Q785'), ('OwnedCompanies', '7')]\n",
      "[('Companies', 'http://www.wikidata.org/entity/Q504998, http://www.wikidata.org/entity/Q77846713'), ('countries', 'http://www.wikidata.org/entity/Q142'), ('OwnedCompanies', '7')]\n",
      "[('Companies', 'http://www.wikidata.org/entity/Q180855'), ('countries', 'http://www.wikidata.org/entity/Q55'), ('OwnedCompanies', '7')]\n",
      "[('Companies', 'http://www.wikidata.org/entity/Q300704'), ('countries', 'http://www.wikidata.org/entity/Q183'), ('OwnedCompanies', '6')]\n",
      "[('Companies', 'http://www.wikidata.org/entity/Q122141'), ('countries', 'http://www.wikidata.org/entity/Q145'), ('OwnedCompanies', '5')]\n",
      "[('Companies', 'http://www.wikidata.org/entity/Q113215'), ('countries', 'http://www.wikidata.org/entity/Q35'), ('OwnedCompanies', '5')]\n",
      "[('Companies', 'http://www.wikidata.org/entity/Q128738'), ('countries', 'http://www.wikidata.org/entity/Q155'), ('OwnedCompanies', '4')]\n",
      "[('Companies', 'http://www.wikidata.org/entity/Q128738'), ('countries', 'http://www.wikidata.org/entity/Q31'), ('OwnedCompanies', '4')]\n"
     ]
    },
    {
     "data": {
      "text/plain": [
       "10"
      ]
     },
     "execution_count": 57,
     "metadata": {},
     "output_type": "execute_result"
    }
   ],
   "source": [
    "#TASK 5.3 ENDS HERE\n",
    "#add s labels\n",
    "queryString = \"\"\"\n",
    "SELECT (GROUP_CONCAT(DISTINCT ?s; separator=\", \") AS ?Companies) ?countries ?OwnedCompanies WHERE\n",
    "{\n",
    "  ?s wdt:P17 ?countries.\n",
    "{\n",
    "SELECT ?s (COUNT(DISTINCT (?o)) AS ?OwnedCompanies)\n",
    "WHERE { \n",
    "\n",
    "?s wdt:P31 ?type;\n",
    "   wdt:P17 ?country;\n",
    "   wdt:P1830 ?o.\n",
    "?o wdt:P31 ?type;\n",
    "   wdt:P17 ?c.\n",
    "?c wdt:P463 wd:Q458.\n",
    "\n",
    "FILTER( ( (?type=wd:Q6881511)||(?type=wd:Q4830453) ) && (?country!=?c) ) \n",
    "}\n",
    "GROUP BY (?s)\n",
    "}\n",
    "\n",
    "{\n",
    "SELECT ?country (MAX (?OwnedCompanies) AS ?max) WHERE\n",
    "{\n",
    "{SELECT ?s ?country ?OwnedCompanies WHERE\n",
    "{\n",
    "  ?s wdt:P17 ?country.\n",
    "{\n",
    "SELECT ?s (COUNT(DISTINCT (?o)) AS ?OwnedCompanies)\n",
    "WHERE { \n",
    "\n",
    "?s wdt:P31 ?type;\n",
    "   wdt:P17 ?country;\n",
    "   wdt:P1830 ?o.\n",
    "?o wdt:P31 ?type;\n",
    "   wdt:P17 ?c.\n",
    "?c wdt:P463 wd:Q458.\n",
    "\n",
    "FILTER( ( (?type=wd:Q6881511)||(?type=wd:Q4830453) ) && (?country!=?c) ) \n",
    "}\n",
    "GROUP BY (?s)\n",
    "}\n",
    "}}\n",
    "}\n",
    "GROUP BY (?country)\n",
    "}\n",
    "FILTER( (?OwnedCompanies=?max) && (?countries=?country) ) \n",
    "}\n",
    "GROUP BY ?countries ?OwnedCompanies\n",
    "ORDER BY DESC(?OwnedCompanies)\n",
    "LIMIT 10\n",
    "\"\"\"\n",
    "\n",
    "print(\"Results\")\n",
    "run_query(queryString)"
   ]
  },
  {
   "cell_type": "markdown",
   "id": "3594ce10-ee5f-4284-a799-74597713f92d",
   "metadata": {},
   "source": [
    "<h3> TASK 5.4 STARTS HERE </h3>\n",
    "What can we say about industry sectors in various countries?"
   ]
  },
  {
   "cell_type": "markdown",
   "id": "811dbdca-498e-48f3-9f98-08ac2c629f1c",
   "metadata": {},
   "source": [
    "From task 1 i know P452 is the property related to industry, check how many industry types there are in France."
   ]
  },
  {
   "cell_type": "code",
   "execution_count": 59,
   "id": "a520e96b-582b-4c3b-87c0-4e5df169bc8d",
   "metadata": {},
   "outputs": [
    {
     "name": "stdout",
     "output_type": "stream",
     "text": [
      "Results\n",
      "[('industry', 'http://www.wikidata.org/entity/Q190117'), ('iname', 'automotive industry'), ('howMany', '183')]\n",
      "[('industry', 'http://www.wikidata.org/entity/Q941594'), ('iname', 'video game industry'), ('howMany', '105')]\n",
      "[('industry', 'http://www.wikidata.org/entity/Q29584334'), ('iname', 'Financial service activities, except insurance and pension funding'), ('howMany', '101')]\n",
      "[('industry', 'http://www.wikidata.org/entity/Q126793'), ('iname', 'retail'), ('howMany', '85')]\n",
      "[('industry', 'http://www.wikidata.org/entity/Q1924906'), ('iname', 'metal industry'), ('howMany', '75')]\n",
      "[('industry', 'http://www.wikidata.org/entity/Q44497'), ('iname', 'mining'), ('howMany', '69')]\n",
      "[('industry', 'http://www.wikidata.org/entity/Q43183'), ('iname', 'insurance'), ('howMany', '69')]\n",
      "[('industry', 'http://www.wikidata.org/entity/Q107601756'), ('iname', 'food and tobacco industry'), ('howMany', '60')]\n",
      "[('industry', 'http://www.wikidata.org/entity/Q29584657'), ('iname', 'Electric power generation, transmission and distribution'), ('howMany', '49')]\n",
      "[('industry', 'http://www.wikidata.org/entity/Q207652'), ('iname', 'chemical industry'), ('howMany', '47')]\n"
     ]
    },
    {
     "data": {
      "text/plain": [
       "10"
      ]
     },
     "execution_count": 59,
     "metadata": {},
     "output_type": "execute_result"
    }
   ],
   "source": [
    "#Q63\n",
    "#from task 1 i know P452 is the property related to industry, check how many industry types there are in france\n",
    "queryString = \"\"\"\n",
    "SELECT ?industry ?iname ?howMany WHERE{\n",
    "{\n",
    "SELECT ?industry (COUNT(DISTINCT (?s)) AS ?howMany)\n",
    "WHERE { \n",
    "\n",
    "?s wdt:P452 ?industry;\n",
    "   wdt:P17 wd:Q142.\n",
    "}\n",
    "GROUP BY (?industry)\n",
    "}\n",
    "#Labels\n",
    "?industry <http://schema.org/name> ?iname .\n",
    "}\n",
    "ORDER BY DESC(?howMany)\n",
    "LIMIT 10\n",
    "\"\"\"\n",
    "\n",
    "print(\"Results\")\n",
    "run_query(queryString)"
   ]
  },
  {
   "cell_type": "markdown",
   "id": "f6aa184a-16e1-4208-b448-7eac9f701778",
   "metadata": {},
   "source": [
    "Retrieve the most common industry in EU."
   ]
  },
  {
   "cell_type": "code",
   "execution_count": 60,
   "id": "4401e90f-b6c9-42ec-855a-68b1bc15a493",
   "metadata": {},
   "outputs": [
    {
     "name": "stdout",
     "output_type": "stream",
     "text": [
      "Results\n",
      "[('industry', 'http://www.wikidata.org/entity/Q869095'), ('iname', 'brewing'), ('howMany', '1357')]\n",
      "[('industry', 'http://www.wikidata.org/entity/Q190117'), ('iname', 'automotive industry'), ('howMany', '1325')]\n",
      "[('industry', 'http://www.wikidata.org/entity/Q941594'), ('iname', 'video game industry'), ('howMany', '1005')]\n",
      "[('industry', 'http://www.wikidata.org/entity/Q29584334'), ('iname', 'Financial service activities, except insurance and pension funding'), ('howMany', '870')]\n",
      "[('industry', 'http://www.wikidata.org/entity/Q126793'), ('iname', 'retail'), ('howMany', '802')]\n",
      "[('industry', 'http://www.wikidata.org/entity/Q15067276'), ('iname', 'health care industry'), ('howMany', '653')]\n",
      "[('industry', 'http://www.wikidata.org/entity/Q107601756'), ('iname', 'food and tobacco industry'), ('howMany', '573')]\n",
      "[('industry', 'http://www.wikidata.org/entity/Q1283714'), ('iname', 'Crop production'), ('howMany', '539')]\n",
      "[('industry', 'http://www.wikidata.org/entity/Q43183'), ('iname', 'insurance'), ('howMany', '513')]\n",
      "[('industry', 'http://www.wikidata.org/entity/Q837171'), ('iname', 'financial services'), ('howMany', '494')]\n"
     ]
    },
    {
     "data": {
      "text/plain": [
       "10"
      ]
     },
     "execution_count": 60,
     "metadata": {},
     "output_type": "execute_result"
    }
   ],
   "source": [
    "#Q64\n",
    "#retriev the most common industry in EU\n",
    "queryString = \"\"\"\n",
    "SELECT ?industry ?iname ?howMany WHERE{\n",
    "{\n",
    "SELECT ?industry (COUNT(DISTINCT (?s)) AS ?howMany)\n",
    "WHERE { \n",
    "\n",
    "?s wdt:P452 ?industry;\n",
    "   wdt:P17 ?country.\n",
    "?country wdt:P463 wd:Q458.\n",
    "}\n",
    "GROUP BY (?industry)\n",
    "}\n",
    "#Labels\n",
    "?industry <http://schema.org/name> ?iname .\n",
    "}\n",
    "ORDER BY DESC(?howMany)\n",
    "LIMIT 10\n",
    "\"\"\"\n",
    "\n",
    "print(\"Results\")\n",
    "run_query(queryString)"
   ]
  },
  {
   "cell_type": "markdown",
   "id": "3e4407a2-0e21-4921-86eb-0772a09681a0",
   "metadata": {},
   "source": [
    "Retrive the top 10 industry sectors for average net profit in EU."
   ]
  },
  {
   "cell_type": "code",
   "execution_count": 61,
   "id": "486e0850-07a7-4987-9e29-3f0510eba476",
   "metadata": {},
   "outputs": [
    {
     "name": "stdout",
     "output_type": "stream",
     "text": [
      "Results\n",
      "[('industry', 'http://www.wikidata.org/entity/Q2151621'), ('iname', 'energy industry'), ('avgNet', '238400000000')]\n",
      "[('industry', 'http://www.wikidata.org/entity/Q29584334'), ('iname', 'Financial service activities, except insurance and pension funding'), ('avgNet', '206133333333.333333333333333')]\n",
      "[('industry', 'http://www.wikidata.org/entity/Q1416657'), ('iname', 'Finance'), ('avgNet', '200025000000')]\n",
      "[('industry', 'http://www.wikidata.org/entity/Q806718'), ('iname', 'banking industry'), ('avgNet', '200025000000')]\n",
      "[('industry', 'http://www.wikidata.org/entity/Q11379'), ('iname', 'energy'), ('avgNet', '139000000000')]\n",
      "[('industry', 'http://www.wikidata.org/entity/Q12089268'), ('iname', 'Extraction of crude petroleum and natural gas'), ('avgNet', '139000000000')]\n",
      "[('industry', 'http://www.wikidata.org/entity/Q43183'), ('iname', 'insurance'), ('avgNet', '138244846881')]\n",
      "[('industry', 'http://www.wikidata.org/entity/Q837171'), ('iname', 'financial services'), ('avgNet', '136598527680.285714285714286')]\n",
      "[('industry', 'http://www.wikidata.org/entity/Q2518196'), ('iname', 'insurance industry'), ('avgNet', '91089693762')]\n",
      "[('industry', 'http://www.wikidata.org/entity/Q11371'), ('iname', 'Internet service provider'), ('avgNet', '76500000000')]\n"
     ]
    },
    {
     "data": {
      "text/plain": [
       "10"
      ]
     },
     "execution_count": 61,
     "metadata": {},
     "output_type": "execute_result"
    }
   ],
   "source": [
    "#Q65\n",
    "#retrive the top 10 industry sectors for average net profit in EU\n",
    "queryString = \"\"\"\n",
    "SELECT ?industry ?iname ?avgNet WHERE{\n",
    "{\n",
    "SELECT ?industry (AVG(DISTINCT (?net)) AS ?avgNet)\n",
    "WHERE { \n",
    "\n",
    "?s wdt:P452 ?industry;\n",
    "   wdt:P2226 ?net; \n",
    "   wdt:P17 ?country.\n",
    "?country wdt:P463 wd:Q458.\n",
    "}\n",
    "GROUP BY (?industry)\n",
    "}\n",
    "#Labels\n",
    "?industry <http://schema.org/name> ?iname .\n",
    "}\n",
    "ORDER BY DESC(?avgNet)\n",
    "LIMIT 10\n",
    "\"\"\"\n",
    "\n",
    "print(\"Results\")\n",
    "run_query(queryString)"
   ]
  },
  {
   "cell_type": "markdown",
   "id": "7fbb22f6-7492-42ec-88e5-060ec3a35c6e",
   "metadata": {},
   "source": [
    "Same as above but for total revenue."
   ]
  },
  {
   "cell_type": "code",
   "execution_count": 68,
   "id": "50abbacd-d8e1-40cf-8375-6ff6f3791da5",
   "metadata": {},
   "outputs": [
    {
     "name": "stdout",
     "output_type": "stream",
     "text": [
      "Results\n",
      "[('industry', 'http://www.wikidata.org/entity/Q56604526'), ('iname', 'oil industry'), ('avgRev', '344877000000')]\n",
      "[('industry', 'http://www.wikidata.org/entity/Q12089268'), ('iname', 'Extraction of crude petroleum and natural gas'), ('avgRev', '257938500000')]\n",
      "[('industry', 'http://www.wikidata.org/entity/Q862571'), ('iname', 'petroleum industry'), ('avgRev', '224345496285.714285714285714')]\n",
      "[('industry', 'http://www.wikidata.org/entity/Q778575'), ('iname', 'conglomerate'), ('avgRev', '189580477000')]\n",
      "[('industry', 'http://www.wikidata.org/entity/Q29584629'), ('iname', 'Manufacture of motor vehicles'), ('avgRev', '153261000000')]\n",
      "[('industry', 'http://www.wikidata.org/entity/Q1867977'), ('iname', 'refinery'), ('avgRev', '130768000000')]\n",
      "[('industry', 'http://www.wikidata.org/entity/Q11379'), ('iname', 'energy'), ('avgRev', '88033171500')]\n",
      "[('industry', 'http://www.wikidata.org/entity/Q17177506'), ('iname', 'lighting technic'), ('avgRev', '83000000000')]\n",
      "[('industry', 'http://www.wikidata.org/entity/Q1786253'), ('iname', 'power plant technology'), ('avgRev', '83000000000')]\n",
      "[('industry', 'http://www.wikidata.org/entity/Q327092'), ('iname', 'biomedical engineering'), ('avgRev', '83000000000')]\n"
     ]
    },
    {
     "data": {
      "text/plain": [
       "10"
      ]
     },
     "execution_count": 68,
     "metadata": {},
     "output_type": "execute_result"
    }
   ],
   "source": [
    "#Q66\n",
    "#same as above but for total revenue\n",
    "queryString = \"\"\"\n",
    "SELECT ?industry ?iname ?avgRev WHERE{\n",
    "{\n",
    "SELECT ?industry (AVG (?revenue) AS ?avgRev)\n",
    "WHERE { \n",
    "\n",
    "?s wdt:P452 ?industry;\n",
    "   wdt:P2139 ?revenue;\n",
    "   wdt:P17 ?country.\n",
    "?country wdt:P463 wd:Q458.\n",
    "}\n",
    "GROUP BY (?industry)\n",
    "}\n",
    "#Labels\n",
    "?industry <http://schema.org/name> ?iname .\n",
    "}\n",
    "ORDER BY DESC(?avgRev)\n",
    "LIMIT 10\n",
    "\"\"\"\n",
    "\n",
    "print(\"Results\")\n",
    "run_query(queryString)"
   ]
  },
  {
   "cell_type": "markdown",
   "id": "f940a75d-8d15-4062-b1ff-c67f02fe8f3a",
   "metadata": {},
   "source": [
    "Check countries with more oil industry in EU."
   ]
  },
  {
   "cell_type": "code",
   "execution_count": 63,
   "id": "b28c2a2f-f6d1-410a-8717-06bf1f16e878",
   "metadata": {},
   "outputs": [
    {
     "name": "stdout",
     "output_type": "stream",
     "text": [
      "Results\n",
      "[('country', 'http://www.wikidata.org/entity/Q145'), ('cname', 'United Kingdom'), ('howMany', '2')]\n",
      "[('country', 'http://www.wikidata.org/entity/Q29999'), ('cname', 'Kingdom of the Netherlands'), ('howMany', '1')]\n"
     ]
    },
    {
     "data": {
      "text/plain": [
       "2"
      ]
     },
     "execution_count": 63,
     "metadata": {},
     "output_type": "execute_result"
    }
   ],
   "source": [
    "#Q67\n",
    "#check countries with more oil industry in EU\n",
    "queryString = \"\"\"\n",
    "SELECT ?country ?cname ?howMany WHERE{\n",
    "{\n",
    "SELECT ?country (COUNT(DISTINCT (?s)) AS ?howMany)\n",
    "WHERE { \n",
    "\n",
    "?s wdt:P452 wd:Q56604526;\n",
    "   wdt:P17 ?country.\n",
    "?country wdt:P463 wd:Q458.\n",
    "}\n",
    "GROUP BY (?country)\n",
    "}\n",
    "#Labels\n",
    "?country <http://schema.org/name> ?cname .\n",
    "}\n",
    "ORDER BY DESC(?howMany)\n",
    "LIMIT 10\n",
    "\"\"\"\n",
    "\n",
    "print(\"Results\")\n",
    "run_query(queryString)"
   ]
  },
  {
   "cell_type": "code",
   "execution_count": 64,
   "id": "dc1fd81a-e88c-46bb-8d91-19e10ed74a5b",
   "metadata": {},
   "outputs": [
    {
     "name": "stdout",
     "output_type": "stream",
     "text": [
      "Results\n",
      "[('country', 'http://www.wikidata.org/entity/Q145'), ('cname', 'United Kingdom'), ('howMany', '2')]\n",
      "[('country', 'http://www.wikidata.org/entity/Q174193'), ('cname', 'United Kingdom of Great Britain and Ireland'), ('howMany', '1')]\n",
      "[('country', 'http://www.wikidata.org/entity/Q29999'), ('cname', 'Kingdom of the Netherlands'), ('howMany', '1')]\n",
      "[('country', 'http://www.wikidata.org/entity/Q55'), ('cname', 'Netherlands'), ('howMany', '1')]\n"
     ]
    },
    {
     "data": {
      "text/plain": [
       "4"
      ]
     },
     "execution_count": 64,
     "metadata": {},
     "output_type": "execute_result"
    }
   ],
   "source": [
    "#Q68\n",
    "#check countries with more oil industries\n",
    "queryString = \"\"\"\n",
    "SELECT ?country ?cname ?howMany WHERE{\n",
    "{\n",
    "SELECT ?country (COUNT(DISTINCT (?s)) AS ?howMany)\n",
    "WHERE { \n",
    "\n",
    "?s wdt:P452 wd:Q56604526;\n",
    "   wdt:P17 ?country.\n",
    "}\n",
    "GROUP BY (?country)\n",
    "}\n",
    "#Labels\n",
    "?country <http://schema.org/name> ?cname .\n",
    "}\n",
    "ORDER BY DESC(?howMany)\n",
    "LIMIT 10\n",
    "\"\"\"\n",
    "\n",
    "print(\"Results\")\n",
    "run_query(queryString)"
   ]
  },
  {
   "cell_type": "markdown",
   "id": "3c32217b-58ab-4d7d-afd2-6fd7d2e517a2",
   "metadata": {},
   "source": [
    "Compute the revenue of english oil industries."
   ]
  },
  {
   "cell_type": "code",
   "execution_count": 66,
   "id": "f7573798-3c0e-4b92-9c85-816f481c8236",
   "metadata": {},
   "outputs": [
    {
     "name": "stdout",
     "output_type": "stream",
     "text": [
      "Results\n",
      "[('s', 'http://www.wikidata.org/entity/Q154950'), ('sname', 'Royal Dutch Shell'), ('rev', '344877000000')]\n"
     ]
    },
    {
     "data": {
      "text/plain": [
       "1"
      ]
     },
     "execution_count": 66,
     "metadata": {},
     "output_type": "execute_result"
    }
   ],
   "source": [
    "#Q69\n",
    "queryString = \"\"\"\n",
    "SELECT ?s ?sname ?rev WHERE{\n",
    "\n",
    "?s wdt:P452 wd:Q56604526;\n",
    "   wdt:P2139 ?rev;\n",
    "   wdt:P17 wd:Q145.\n",
    "   \n",
    "#Labels\n",
    "?s <http://schema.org/name> ?sname .\n",
    "}\n",
    "ORDER BY DESC(?rev)\n",
    "LIMIT 10\n",
    "\"\"\"\n",
    "\n",
    "print(\"Results\")\n",
    "run_query(queryString)"
   ]
  },
  {
   "cell_type": "markdown",
   "id": "366ffd31-32a6-401f-825d-ccdf35cb61c2",
   "metadata": {},
   "source": [
    "From the name it seems to be dutch, run the same query for dutch oil company."
   ]
  },
  {
   "cell_type": "code",
   "execution_count": 67,
   "id": "80afcc7c-b040-4397-b858-4ac5e8326cf1",
   "metadata": {},
   "outputs": [
    {
     "name": "stdout",
     "output_type": "stream",
     "text": [
      "Results\n",
      "[('s', 'http://www.wikidata.org/entity/Q154950'), ('sname', 'Royal Dutch Shell'), ('rev', '344877000000')]\n"
     ]
    },
    {
     "data": {
      "text/plain": [
       "1"
      ]
     },
     "execution_count": 67,
     "metadata": {},
     "output_type": "execute_result"
    }
   ],
   "source": [
    "#Q70\n",
    "queryString = \"\"\"\n",
    "SELECT ?s ?sname ?rev WHERE{\n",
    "\n",
    "?s wdt:P452 wd:Q56604526;\n",
    "   wdt:P2139 ?rev;\n",
    "   wdt:P17 wd:Q55.\n",
    "   \n",
    "#Labels\n",
    "?s <http://schema.org/name> ?sname .\n",
    "}\n",
    "ORDER BY DESC(?rev)\n",
    "LIMIT 10\n",
    "\"\"\"\n",
    "\n",
    "print(\"Results\")\n",
    "run_query(queryString)"
   ]
  },
  {
   "cell_type": "markdown",
   "id": "033db180-2fba-4244-9d5e-86176b2ef522",
   "metadata": {},
   "source": [
    "Same as Q66 but summing total revenue."
   ]
  },
  {
   "cell_type": "code",
   "execution_count": 70,
   "id": "cc587e66-4221-4907-afa1-5c67d1065152",
   "metadata": {},
   "outputs": [
    {
     "name": "stdout",
     "output_type": "stream",
     "text": [
      "Results\n",
      "[('industry', 'http://www.wikidata.org/entity/Q862571'), ('iname', 'petroleum industry'), ('TotalRev', '4711255422000')]\n",
      "[('industry', 'http://www.wikidata.org/entity/Q190117'), ('iname', 'automotive industry'), ('TotalRev', '1846775398310.37')]\n",
      "[('industry', 'http://www.wikidata.org/entity/Q126793'), ('iname', 'retail'), ('TotalRev', '1180207627743')]\n",
      "[('industry', 'http://www.wikidata.org/entity/Q2285982'), ('iname', 'ferrous metallurgy'), ('TotalRev', '658094835000')]\n",
      "[('industry', 'http://www.wikidata.org/entity/Q207652'), ('iname', 'chemical industry'), ('TotalRev', '647576552000')]\n",
      "[('industry', 'http://www.wikidata.org/entity/Q25245117'), ('iname', 'telecommunications industry'), ('TotalRev', '595121274852')]\n",
      "[('industry', 'http://www.wikidata.org/entity/Q778575'), ('iname', 'conglomerate'), ('TotalRev', '568741431000')]\n",
      "[('industry', 'http://www.wikidata.org/entity/Q2151621'), ('iname', 'energy industry'), ('TotalRev', '539069864380')]\n",
      "[('industry', 'http://www.wikidata.org/entity/Q12089268'), ('iname', 'Extraction of crude petroleum and natural gas'), ('TotalRev', '515877000000')]\n",
      "[('industry', 'http://www.wikidata.org/entity/Q837171'), ('iname', 'financial services'), ('TotalRev', '420583420000')]\n"
     ]
    },
    {
     "data": {
      "text/plain": [
       "10"
      ]
     },
     "execution_count": 70,
     "metadata": {},
     "output_type": "execute_result"
    }
   ],
   "source": [
    "#Q71\n",
    "#same as Q66 but summing total revenue\n",
    "queryString = \"\"\"\n",
    "SELECT ?industry ?iname ?TotalRev WHERE{\n",
    "{\n",
    "SELECT ?industry (SUM (?revenue) AS ?TotalRev)\n",
    "WHERE { \n",
    "\n",
    "?s wdt:P452 ?industry;\n",
    "   wdt:P2139 ?revenue;\n",
    "   wdt:P17 ?country.\n",
    "?country wdt:P463 wd:Q458.\n",
    "}\n",
    "GROUP BY (?industry)\n",
    "}\n",
    "#Labels\n",
    "?industry <http://schema.org/name> ?iname .\n",
    "}\n",
    "ORDER BY DESC(?TotalRev)\n",
    "LIMIT 10\n",
    "\"\"\"\n",
    "\n",
    "print(\"Results\")\n",
    "run_query(queryString)"
   ]
  },
  {
   "cell_type": "markdown",
   "id": "39518076-c9a8-43cc-8ad9-1057e2b8ff53",
   "metadata": {},
   "source": [
    "Check countries with more petroleum industries."
   ]
  },
  {
   "cell_type": "code",
   "execution_count": 71,
   "id": "456b6c9a-722f-4195-a8fd-25407d37c011",
   "metadata": {},
   "outputs": [
    {
     "name": "stdout",
     "output_type": "stream",
     "text": [
      "Results\n",
      "[('country', 'http://www.wikidata.org/entity/Q30'), ('cname', 'United States of America'), ('howMany', '124')]\n",
      "[('country', 'http://www.wikidata.org/entity/Q145'), ('cname', 'United Kingdom'), ('howMany', '64')]\n",
      "[('country', 'http://www.wikidata.org/entity/Q183'), ('cname', 'Germany'), ('howMany', '33')]\n",
      "[('country', 'http://www.wikidata.org/entity/Q16'), ('cname', 'Canada'), ('howMany', '31')]\n",
      "[('country', 'http://www.wikidata.org/entity/Q668'), ('cname', 'India'), ('howMany', '23')]\n",
      "[('country', 'http://www.wikidata.org/entity/Q20'), ('cname', 'Norway'), ('howMany', '21')]\n",
      "[('country', 'http://www.wikidata.org/entity/Q159'), ('cname', 'Russia'), ('howMany', '18')]\n",
      "[('country', 'http://www.wikidata.org/entity/Q142'), ('cname', 'France'), ('howMany', '16')]\n",
      "[('country', 'http://www.wikidata.org/entity/Q148'), ('cname', \"People's Republic of China\"), ('howMany', '16')]\n",
      "[('country', 'http://www.wikidata.org/entity/Q155'), ('cname', 'Brazil'), ('howMany', '16')]\n"
     ]
    },
    {
     "data": {
      "text/plain": [
       "10"
      ]
     },
     "execution_count": 71,
     "metadata": {},
     "output_type": "execute_result"
    }
   ],
   "source": [
    "#Q72\n",
    "#check countries with more petroleum industries\n",
    "queryString = \"\"\"\n",
    "SELECT ?country ?cname ?howMany WHERE{\n",
    "{\n",
    "SELECT ?country (COUNT(DISTINCT (?s)) AS ?howMany)\n",
    "WHERE { \n",
    "\n",
    "?s wdt:P452 wd:Q862571;\n",
    "   wdt:P17 ?country.\n",
    "}\n",
    "GROUP BY (?country)\n",
    "}\n",
    "#Labels\n",
    "?country <http://schema.org/name> ?cname .\n",
    "}\n",
    "ORDER BY DESC(?howMany)\n",
    "LIMIT 10\n",
    "\"\"\"\n",
    "\n",
    "print(\"Results\")\n",
    "run_query(queryString)"
   ]
  },
  {
   "cell_type": "markdown",
   "id": "6140f701-c12e-40d1-93d6-85c6c720ba64",
   "metadata": {},
   "source": [
    "Check countries with more automotive industries."
   ]
  },
  {
   "cell_type": "code",
   "execution_count": 72,
   "id": "68d5a392-73fc-4f53-874c-9bc8edf99c32",
   "metadata": {},
   "outputs": [
    {
     "name": "stdout",
     "output_type": "stream",
     "text": [
      "Results\n",
      "[('country', 'http://www.wikidata.org/entity/Q183'), ('cname', 'Germany'), ('howMany', '374')]\n",
      "[('country', 'http://www.wikidata.org/entity/Q30'), ('cname', 'United States of America'), ('howMany', '321')]\n",
      "[('country', 'http://www.wikidata.org/entity/Q145'), ('cname', 'United Kingdom'), ('howMany', '312')]\n",
      "[('country', 'http://www.wikidata.org/entity/Q142'), ('cname', 'France'), ('howMany', '183')]\n",
      "[('country', 'http://www.wikidata.org/entity/Q38'), ('cname', 'Italy'), ('howMany', '175')]\n",
      "[('country', 'http://www.wikidata.org/entity/Q29'), ('cname', 'Spain'), ('howMany', '124')]\n",
      "[('country', 'http://www.wikidata.org/entity/Q148'), ('cname', \"People's Republic of China\"), ('howMany', '89')]\n",
      "[('country', 'http://www.wikidata.org/entity/Q43287'), ('cname', 'German Empire'), ('howMany', '73')]\n",
      "[('country', 'http://www.wikidata.org/entity/Q41304'), ('cname', 'Weimar Republic'), ('howMany', '64')]\n",
      "[('country', 'http://www.wikidata.org/entity/Q17'), ('cname', 'Japan'), ('howMany', '53')]\n"
     ]
    },
    {
     "data": {
      "text/plain": [
       "10"
      ]
     },
     "execution_count": 72,
     "metadata": {},
     "output_type": "execute_result"
    }
   ],
   "source": [
    "#Q73\n",
    "#check countries with more automotive industries\n",
    "queryString = \"\"\"\n",
    "SELECT ?country ?cname ?howMany WHERE{\n",
    "{\n",
    "SELECT ?country (COUNT(DISTINCT (?s)) AS ?howMany)\n",
    "WHERE { \n",
    "\n",
    "?s wdt:P452 wd:Q190117;\n",
    "   wdt:P17 ?country.\n",
    "}\n",
    "GROUP BY (?country)\n",
    "}\n",
    "#Labels\n",
    "?country <http://schema.org/name> ?cname .\n",
    "}\n",
    "ORDER BY DESC(?howMany)\n",
    "LIMIT 10\n",
    "\"\"\"\n",
    "\n",
    "print(\"Results\")\n",
    "run_query(queryString)"
   ]
  },
  {
   "cell_type": "markdown",
   "id": "27423611-5b58-40a2-aa7b-3e94f1de741a",
   "metadata": {},
   "source": [
    "Retrieve top industry sectors for italy by revenue."
   ]
  },
  {
   "cell_type": "code",
   "execution_count": 74,
   "id": "99dd17de-b124-4707-915c-80f695611da1",
   "metadata": {},
   "outputs": [
    {
     "name": "stdout",
     "output_type": "stream",
     "text": [
      "Results\n",
      "[('industry', 'http://www.wikidata.org/entity/Q2518196'), ('iname', 'insurance industry'), ('sumRev', '73188000000')]\n",
      "[('industry', 'http://www.wikidata.org/entity/Q862571'), ('iname', 'petroleum industry'), ('sumRev', '43987000000')]\n",
      "[('industry', 'http://www.wikidata.org/entity/Q188460'), ('iname', 'natural resource'), ('sumRev', '43987000000')]\n",
      "[('industry', 'http://www.wikidata.org/entity/Q11467'), ('iname', 'metallurgy'), ('sumRev', '25477000000')]\n",
      "[('industry', 'http://www.wikidata.org/entity/Q190117'), ('iname', 'automotive industry'), ('sumRev', '14739401000')]\n",
      "[('industry', 'http://www.wikidata.org/entity/Q2876213'), ('iname', 'aerospace'), ('sumRev', '13640000000')]\n",
      "[('industry', 'http://www.wikidata.org/entity/Q540912'), ('iname', 'food industry'), ('sumRev', '11526671062')]\n",
      "[('industry', 'http://www.wikidata.org/entity/Q177777'), ('iname', 'logistics'), ('sumRev', '9402965143')]\n",
      "[('industry', 'http://www.wikidata.org/entity/Q107598157'), ('iname', 'plastics and rubber industry'), ('sumRev', '5352283000')]\n",
      "[('industry', 'http://www.wikidata.org/entity/Q29585181'), ('iname', 'Manufacture of rubber tyres and tubes; retreading and rebuilding of rubber tyres'), ('sumRev', '5352283000')]\n"
     ]
    },
    {
     "data": {
      "text/plain": [
       "10"
      ]
     },
     "execution_count": 74,
     "metadata": {},
     "output_type": "execute_result"
    }
   ],
   "source": [
    "#Q74\n",
    "#check top industry sectors for italy\n",
    "queryString = \"\"\"\n",
    "SELECT ?industry ?iname ?sumRev WHERE{\n",
    "{\n",
    "SELECT ?industry (SUM (?revenue) AS ?sumRev)\n",
    "WHERE { \n",
    "\n",
    "?s wdt:P452 ?industry;\n",
    "   wdt:P2139 ?revenue;\n",
    "   wdt:P17 wd:Q38.\n",
    "}\n",
    "GROUP BY (?industry)\n",
    "}\n",
    "#Labels\n",
    "?industry <http://schema.org/name> ?iname .\n",
    "}\n",
    "ORDER BY DESC(?sumRev)\n",
    "LIMIT 10\n",
    "\"\"\"\n",
    "\n",
    "print(\"Results\")\n",
    "run_query(queryString)"
   ]
  },
  {
   "cell_type": "markdown",
   "id": "09dd7edf-55e7-4535-a660-b6f372b0ed15",
   "metadata": {},
   "source": [
    "<h3> TASK 5.4 ENDS HERE </h3>\n",
    "I found out that the leading industry is the one about energy, especially oil and petrolium, as we can see from the Q71 results. On top of that\n",
    "the production is mainly in USA and England. Italy is in fifth place for amount of revenues incoming from automotive, meanwhile its most\n",
    "productive sector is the insurance one as we can see from Q74."
   ]
  },
  {
   "cell_type": "code",
   "execution_count": null,
   "id": "b2180312-c6c8-4c67-affd-1e0ee9bfd25f",
   "metadata": {},
   "outputs": [],
   "source": []
  }
 ],
 "metadata": {
  "kernelspec": {
   "display_name": "Python 3 (ipykernel)",
   "language": "python",
   "name": "python3"
  },
  "language_info": {
   "codemirror_mode": {
    "name": "ipython",
    "version": 3
   },
   "file_extension": ".py",
   "mimetype": "text/x-python",
   "name": "python",
   "nbconvert_exporter": "python",
   "pygments_lexer": "ipython3",
   "version": "3.7.10"
  }
 },
 "nbformat": 4,
 "nbformat_minor": 5
}
