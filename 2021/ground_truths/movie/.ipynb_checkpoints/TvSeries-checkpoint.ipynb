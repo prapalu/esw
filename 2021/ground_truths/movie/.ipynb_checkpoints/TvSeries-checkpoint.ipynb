{
 "cells": [
  {
   "cell_type": "markdown",
   "id": "7034c3bf-6eb0-4418-8687-7b9d2a501103",
   "metadata": {},
   "source": [
    "# General instructions\n",
    "\n",
    "The goal of the project is to materialize a set of **exploratory workloads** over a real-world, large-scale,  open-domain KG: [WikiData](https://www.wikidata.org/wiki/Wikidata:Main_Page)\n",
    "\n",
    "An exploratory workload  is composed by a set of queries, where each query is related to the information obtained previously.\n",
    "\n",
    "An exploratory workload starts with a usually vague, open ended question, and does not assume the person issuing the workload has a clear understanding of the data contained in the target database or its structure.\n",
    "\n",
    "Remeber that:\n",
    "\n",
    "1. All the queries must run in the python notebook\n",
    "2. You can use classes and properties only if you find them via a SPARQL query that must be present in the notebook\n",
    "3. You do not delete useless queries. Keep everything that is synthatically valid \n",
    "\n",
    "```\n",
    "?p <http://schema.org/name> ?name .\n",
    "```\n",
    "    \n",
    "    is the BGP returning a human-readable name of a property or a class in Wikidata.\n",
    "    \n",
    "    "
   ]
  },
  {
   "cell_type": "code",
   "execution_count": 1,
   "id": "3605c9d5-5371-49a5-be8d-d66e8f417139",
   "metadata": {},
   "outputs": [],
   "source": [
    "## SETUP used later\n",
    "\n",
    "from SPARQLWrapper import SPARQLWrapper, JSON\n",
    "\n",
    "\n",
    "prefixString = \"\"\"\n",
    "##-tvseries_g_t-##\n",
    "PREFIX wd: <http://www.wikidata.org/entity/> \n",
    "PREFIX wdt: <http://www.wikidata.org/prop/direct/> \n",
    "PREFIX sc: <http://schema.org/>\n",
    "\"\"\"\n",
    "\n",
    "# select and construct queries\n",
    "def run_query(queryString,verbose = True):\n",
    "    to_run = prefixString + \"\\n\" + queryString\n",
    "\n",
    "    sparql = SPARQLWrapper(\"http://a256-gc1-02.srv.aau.dk:5820/sparql\")\n",
    "    sparql.setTimeout(300)\n",
    "    sparql.setReturnFormat(JSON)\n",
    "    sparql.setQuery(to_run)\n",
    "\n",
    "    try :\n",
    "        results = sparql.query()\n",
    "        json_results = results.convert()\n",
    "        if len(json_results['results']['bindings'])==0:\n",
    "            print(\"Empty\")\n",
    "            return []\n",
    "        array = []\n",
    "        for bindings in json_results['results']['bindings']:\n",
    "            app =  [ (var, value['value'])  for var, value in bindings.items() ] \n",
    "            if verbose:\n",
    "                print( app)\n",
    "            array.append(app)\n",
    "        if verbose:\n",
    "            print(len(array))\n",
    "        return array\n",
    "\n",
    "    except Exception as e :\n",
    "        print(\"The operation failed\", e)\n",
    "    \n",
    "# ASk queries\n",
    "def run_ask_query(queryString):\n",
    "    to_run = prefixString + \"\\n\" + queryString\n",
    "\n",
    "    sparql = SPARQLWrapper(\"http://a256-gc1-02.srv.aau.dk:5820/sparql\")\n",
    "    sparql.setTimeout(300)\n",
    "    sparql.setReturnFormat(JSON)\n",
    "    sparql.setQuery(to_run)\n",
    "\n",
    "    try :\n",
    "        return sparql.query().convert()\n",
    "\n",
    "    except Exception as e :\n",
    "        print(\"The operation failed\", e)"
   ]
  },
  {
   "cell_type": "markdown",
   "id": "d477a59c-a68c-4c8f-9f97-8ca5294d7d27",
   "metadata": {},
   "source": [
    "# Movie Workflow Series (\"Tv series explorative search\") \n",
    "\n",
    "## Workflow 4\n",
    "\n",
    "\n",
    "Consider the following exploratory scenario:\n",
    "\n",
    "\n",
    "> we are interested in the TV series \"How I met your mother\" and we want to investigate the main aspects related to the actors and directors involved in the production, know the numerber of seasons and check what are the episodes which got the higher success/impact.\n",
    "\n",
    "\n",
    "## Useful URIs for the current workflow\n",
    "The following are given:\n",
    "\n",
    "| IRI           | Description   | Role      |\n",
    "| -----------   | -----------   |-----------|\n",
    "| `wdt:P1647`   | subproperty   | predicate |\n",
    "| `wdt:P31`     | instance of   | predicate |\n",
    "| `wdt:P106`    | profession    | predicate | \n",
    "| `wdt:P279`    | subclass      | predicate |\n",
    "| `wdt:P4969`    | derivative work      | predicate |\n",
    "| `wd:Q147235` | How I met your mother        | node |\n",
    "| `wd:Q23831` | The Office (US)        | node |\n",
    "\n",
    "\n",
    "\n",
    "Also consider\n",
    "\n",
    "```\n",
    "wd:Q23831 ?p ?obj .\n",
    "```\n",
    "\n",
    "is the BGP to retrieve all **properties of The Office (US)**\n",
    "\n",
    "The workload should\n",
    "\n",
    "\n",
    "1. Return the number of seasons and episodes per season of the tv series\n",
    "\n",
    "2. Get the number of episodes in which the cast members played a role. Who are the most present actors?\n",
    "\n",
    "3. Check who is the actor who acted in more films while working on \"How I met your mother\" and who is the actor who participated in more films after the end of the tv series.\n",
    "\n",
    "4. Compare HIMYM with the tv series \"The Office (US)\" in terms of number of seasons, episods and cast members.\n",
    "\n",
    "5. Return how many of the actors who are members of the cast of the tv series have [Kavin Bacon number](https://en.wikipedia.org/wiki/Six_Degrees_of_Kevin_Bacon#:~:text=Kevin%20Bacon%20himself%20has%20a,Bacon%20number%20is%20N%2B1.) equal to 2"
   ]
  },
  {
   "cell_type": "markdown",
   "id": "b7d922d7-0871-487c-af0f-53babf716e95",
   "metadata": {},
   "source": [
    "To save the results found by this ground truth we are going to create a JSON object. Before creating the object we have to identify this workflow. All the workflows are indexed in the script notebook when we ran the statistics and we saved a csv file that contains all the workflows' name and the related index. This file is saved in `/indexes/workflows.csv`. Before starting to run the queries of the ground truth, we have to find the name of the current workflow (always in the second cell of the notebook) and then reading the csv file of the indexes find the related index. In this way we always know which notebook we are talking about. The results found in a ground truth will be store in the folder `/results/` with the name that is **workflow{index}.json** where index is the related index found in the csv file of the indexes. \n",
    "\n",
    "The JSON object is composed by:\n",
    "- name of the workflow\n",
    "- results' object\n",
    "\n",
    "The results' object is a dictionary with keys the number of the goal of the workflow and value the expected result\n",
    "The result of each goal can be of two types:\n",
    "- **single** when the result is well known, for example it is a specific `URI` or more than one. Then there is an array of objects that correspond to the expected result. Every object can be composed by different fields, usually an URI and the related name. When there is more than one element inside the values array, it must be specified if the expected result is the whole set of elements in the array or if it is necessary to find only one of those elements\n",
    "- **set** when the result is more than one elements and it is not well defined, that is when there is not a query that provides only the wanted results. Also in this case there is an array of objects that correspond to the expected result.\n",
    "There is also another field that specify the type of the check that must be done in the evaluation in order to determine if the student finds the expected result. Usually we want to verify `URIs` but it can happen that the results are numbers or names. This is helpful in the evaluation phase because we know exactly what to compare to evaluate the student's notebook."
   ]
  },
  {
   "cell_type": "code",
   "execution_count": 2,
   "id": "e5c6d5e5-b9f2-480e-b613-1bf36bd6c4a6",
   "metadata": {},
   "outputs": [
    {
     "name": "stdout",
     "output_type": "stream",
     "text": [
      "The index of this workflow is: 5_3\n"
     ]
    }
   ],
   "source": [
    "##before start set some variables to save the result\n",
    "#open this notebook as json\n",
    "import os\n",
    "import json\n",
    "import pandas as pd\n",
    "ipname = \"TvSeries.ipynb\"\n",
    "data = json.load(open(os.getcwd()+os.sep+ipname))\n",
    "#get the list of the cells \n",
    "df = pd.DataFrame(data['cells'])\n",
    "#get the first line of the cells that tells me the title of the notebook\n",
    "source = df['source'][2][0].replace(\"\\n\",\"\").replace(\"#\",\"\").strip()\n",
    "### source contains the name of the workflow\n",
    "\n",
    "#read the workflow indexes\n",
    "from pathlib import Path\n",
    "parent = str(Path(os.getcwd()).parent.absolute())\n",
    "# this is the filepath of the indexes of all workflows\n",
    "work_filepath = parent+os.sep+\"indexes/workflows.csv\"\n",
    "workflow_indexes = pd.read_csv(work_filepath)\n",
    "\n",
    "# this variable will contain the index of this workflow\n",
    "global index_workflow\n",
    "\n",
    "index_workflow = -1\n",
    "for index, row in workflow_indexes.iterrows():\n",
    "    if row[\"name\"] == source:\n",
    "        index_workflow = str(row[\"macro\"])+\"_\"+str(row[\"index\"])\n",
    "if index_workflow == -1:\n",
    "    print(\"ERROR: WORKFLOW DOES NOT EXIST IN THE INDEXES\")\n",
    "else:\n",
    "    print(\"The index of this workflow is:\",index_workflow)\n",
    "    \n",
    "#create the directory results if not exist\n",
    "result_path = parent+\"/results\"\n",
    "# Check whether the specified path exists or not\n",
    "if not os.path.exists(result_path):\n",
    "    os.mkdir(result_path)\n",
    "    \n",
    "# this variable contains the filepath of the ground truth's json object of this workflow\n",
    "global work_filename\n",
    "work_filename = result_path+os.sep+\"workflow\"+str(index_workflow)+\".json\"\n",
    "\n",
    "global dict_\n",
    "global result\n",
    "result = {}\n",
    "dict_ = {\"description\":\"Workflow's name: \"+source}\n",
    "fd = open(work_filename,\"w\")\n",
    "json.dump(dict_, fd)\n",
    "fd.close()"
   ]
  },
  {
   "cell_type": "code",
   "execution_count": 3,
   "id": "820fb56d-ae50-4bcc-a4a7-7694d3ad982d",
   "metadata": {},
   "outputs": [],
   "source": [
    "## define constant variable\n",
    "global TYPE_SET\n",
    "TYPE_SET = \"set\"\n",
    "global TYPE_SINGLE\n",
    "TYPE_SINGLE = \"single\"\n",
    "global TYPE_REFERRED\n",
    "TYPE_REFERRED = \"referred\""
   ]
  },
  {
   "cell_type": "code",
   "execution_count": 4,
   "id": "60e2a23e-9d75-4565-bb03-29ecaaec6025",
   "metadata": {},
   "outputs": [],
   "source": [
    "#value is always an array of element\n",
    "#any_all is a string value that must be \"any\" or \"all\"\n",
    "def add_result(goal_num, type_ , check ,value, any_all = None ,type_inside = None, elements_per_tuple = 1):\n",
    "    global work_filename\n",
    "    global dict_\n",
    "    global result\n",
    "    \n",
    "    # add the object in the dictionary\n",
    "    # create the current dictionary for the specific goal, or get it if it already exists from the big JSON object\n",
    "    current_dict = {}\n",
    "    if goal_num in result:\n",
    "        current_dict = result[goal_num]\n",
    "    \n",
    "    \n",
    "    if type_ == TYPE_SET:\n",
    "        ## the result is a set of element, so is not well define\n",
    "        current_dict[\"type\"] = type_\n",
    "        current_dict[\"check\"] = check\n",
    "        current_dict[\"values\"] = value\n",
    "    elif type_ == TYPE_SINGLE:\n",
    "        ## the result is well defined, it is one or more than one element and it must be set the any_all field\n",
    "        current_dict[\"type\"] = TYPE_SINGLE\n",
    "        current_dict[\"check\"] = check\n",
    "        if any_all is not None and check != \"ask\":\n",
    "            current_dict[\"any_all\"] = any_all\n",
    "        current_dict[\"values\"] = value\n",
    "    elif type_ == TYPE_REFERRED:\n",
    "        current_dict[\"type\"] = type_\n",
    "        current_dict[\"check\"] = check\n",
    "        current_dict[\"elements_per_tuple\"] = elements_per_tuple\n",
    "        current_dict[\"values\"] = value\n",
    "        \n",
    "        \n",
    "    ## put the current dictionary for the specific goal in the result's object inside the JSON object\n",
    "    result[goal_num] = current_dict\n",
    "    ## put the result's object in the JSON object\n",
    "    dict_[\"results\"] = result\n",
    "    \n",
    "    ## save the JSON object\n",
    "    fd = open(work_filename,\"w\")\n",
    "    json.dump(dict_, fd)\n",
    "    fd.close()\n",
    "    \n",
    "    print(\"JSON object updated\")"
   ]
  },
  {
   "cell_type": "markdown",
   "id": "76d8580d-4b29-4c4b-be35-6491ff9d78ba",
   "metadata": {
    "tags": []
   },
   "source": [
    "### Task 1 : Return the number of seasons and episodes per season of the tv series.\n",
    "\n",
    "I'm interested on the TV series ***\"How I met your mother\" (wd:Q147235)***, so as a starting point I show all the data properties of this TV series."
   ]
  },
  {
   "cell_type": "code",
   "execution_count": 5,
   "id": "0232bdb3-be94-4cc5-84f2-4b15d9e21a03",
   "metadata": {},
   "outputs": [
    {
     "name": "stdout",
     "output_type": "stream",
     "text": [
      "Results\n",
      "[('p', 'http://www.wikidata.org/prop/direct/P1113'), ('pName', 'number of episodes')]\n",
      "[('p', 'http://www.wikidata.org/prop/direct/P1258'), ('pName', 'Rotten Tomatoes ID')]\n",
      "[('p', 'http://www.wikidata.org/prop/direct/P1267'), ('pName', 'AlloCiné series ID')]\n",
      "[('p', 'http://www.wikidata.org/prop/direct/P1476'), ('pName', 'title')]\n",
      "[('p', 'http://www.wikidata.org/prop/direct/P1562'), ('pName', 'AllMovie title ID')]\n",
      "[('p', 'http://www.wikidata.org/prop/direct/P1712'), ('pName', 'Metacritic ID')]\n",
      "[('p', 'http://www.wikidata.org/prop/direct/P1874'), ('pName', 'Netflix ID')]\n",
      "[('p', 'http://www.wikidata.org/prop/direct/P1922'), ('pName', 'first line')]\n",
      "[('p', 'http://www.wikidata.org/prop/direct/P2002'), ('pName', 'Twitter username')]\n",
      "[('p', 'http://www.wikidata.org/prop/direct/P2047'), ('pName', 'duration')]\n",
      "[('p', 'http://www.wikidata.org/prop/direct/P214'), ('pName', 'VIAF ID')]\n",
      "[('p', 'http://www.wikidata.org/prop/direct/P227'), ('pName', 'GND ID')]\n",
      "[('p', 'http://www.wikidata.org/prop/direct/P2373'), ('pName', 'Genius artist ID')]\n",
      "[('p', 'http://www.wikidata.org/prop/direct/P2437'), ('pName', 'number of seasons')]\n",
      "[('p', 'http://www.wikidata.org/prop/direct/P244'), ('pName', 'Library of Congress authority ID')]\n",
      "[('p', 'http://www.wikidata.org/prop/direct/P2529'), ('pName', 'ČSFD film ID')]\n",
      "[('p', 'http://www.wikidata.org/prop/direct/P2581'), ('pName', 'BabelNet ID')]\n",
      "[('p', 'http://www.wikidata.org/prop/direct/P2603'), ('pName', 'Kinopoisk film ID')]\n",
      "[('p', 'http://www.wikidata.org/prop/direct/P2638'), ('pName', 'TV.com ID')]\n",
      "[('p', 'http://www.wikidata.org/prop/direct/P2703'), ('pName', 'BFI National Archive work ID')]\n",
      "[('p', 'http://www.wikidata.org/prop/direct/P2704'), ('pName', 'EIDR content ID')]\n",
      "[('p', 'http://www.wikidata.org/prop/direct/P3121'), ('pName', 'Epguides ID')]\n",
      "[('p', 'http://www.wikidata.org/prop/direct/P3138'), ('pName', 'OFDb film ID')]\n",
      "[('p', 'http://www.wikidata.org/prop/direct/P3302'), ('pName', 'Open Media Database film ID')]\n",
      "[('p', 'http://www.wikidata.org/prop/direct/P3417'), ('pName', 'Quora topic ID')]\n",
      "[('p', 'http://www.wikidata.org/prop/direct/P345'), ('pName', 'IMDb ID')]\n",
      "[('p', 'http://www.wikidata.org/prop/direct/P3553'), ('pName', 'Zhihu topic ID')]\n",
      "[('p', 'http://www.wikidata.org/prop/direct/P373'), ('pName', 'Commons category')]\n",
      "[('p', 'http://www.wikidata.org/prop/direct/P4073'), ('pName', 'Fandom wiki ID')]\n",
      "[('p', 'http://www.wikidata.org/prop/direct/P4438'), ('pName', 'BFI Films, TV and people ID')]\n",
      "[('p', 'http://www.wikidata.org/prop/direct/P4665'), ('pName', 'CineMagia title ID')]\n",
      "[('p', 'http://www.wikidata.org/prop/direct/P4835'), ('pName', 'TheTVDB.com series ID')]\n",
      "[('p', 'http://www.wikidata.org/prop/direct/P4983'), ('pName', 'TMDb TV series ID')]\n",
      "[('p', 'http://www.wikidata.org/prop/direct/P5032'), ('pName', 'Filmweb.pl film ID')]\n",
      "[('p', 'http://www.wikidata.org/prop/direct/P5099'), ('pName', 'Il mondo dei doppiatori ID')]\n",
      "[('p', 'http://www.wikidata.org/prop/direct/P5327'), ('pName', 'fernsehserien.de ID')]\n",
      "[('p', 'http://www.wikidata.org/prop/direct/P580'), ('pName', 'start time')]\n",
      "[('p', 'http://www.wikidata.org/prop/direct/P582'), ('pName', 'end time')]\n",
      "[('p', 'http://www.wikidata.org/prop/direct/P5925'), ('pName', 'Moviepilot.de series ID')]\n",
      "[('p', 'http://www.wikidata.org/prop/direct/P646'), ('pName', 'Freebase ID')]\n",
      "[('p', 'http://www.wikidata.org/prop/direct/P6760'), ('pName', 'Know Your Meme ID')]\n",
      "[('p', 'http://www.wikidata.org/prop/direct/P6839'), ('pName', 'TV Tropes identifier')]\n",
      "[('p', 'http://www.wikidata.org/prop/direct/P7299'), ('pName', 'MUBI film ID')]\n",
      "[('p', 'http://www.wikidata.org/prop/direct/P8013'), ('pName', 'Trakt.tv ID')]\n",
      "[('p', 'http://www.wikidata.org/prop/direct/P8278'), ('pName', 'serial identifier on SerialZone')]\n",
      "[('p', 'http://www.wikidata.org/prop/direct/P8687'), ('pName', 'social media followers')]\n",
      "[('p', 'http://www.wikidata.org/prop/direct/P905'), ('pName', 'PORT film ID')]\n",
      "[('p', 'http://www.wikidata.org/prop/direct/P9629'), ('pName', 'Armeniapedia ID')]\n",
      "[('p', 'http://www.wikidata.org/prop/direct/P4784'), ('pName', 'Movieplayer TV-series ID')]\n",
      "[('p', 'http://www.wikidata.org/prop/direct/P4834'), ('pName', 'Deutsche Synchronkartei series ID')]\n",
      "[('p', 'http://www.wikidata.org/prop/direct/P6467'), ('pName', 'Hulu series ID')]\n",
      "[('p', 'http://www.wikidata.org/prop/direct/P6643'), ('pName', 'TV Spielfilm series ID')]\n",
      "[('p', 'http://www.wikidata.org/prop/direct/P7107'), ('pName', 'LezWatch.TV show ID')]\n",
      "[('p', 'http://www.wikidata.org/prop/direct/P7596'), ('pName', 'Disney+ series ID')]\n",
      "[('p', 'http://www.wikidata.org/prop/direct/P9751'), ('pName', 'Apple TV show ID')]\n",
      "55\n"
     ]
    }
   ],
   "source": [
    "queryString = \"\"\"\n",
    "SELECT DISTINCT ?p ?pName WHERE { \n",
    "\n",
    "    # Connecting HIMYM to something\n",
    "    wd:Q147235 ?p  ?o.\n",
    "\n",
    "    # This returns the labels\n",
    "    ?p <http://schema.org/name> ?pName .\n",
    "\n",
    "    # Only data properties\n",
    "    FILTER(isLiteral(?o))\n",
    "}\n",
    "\"\"\"\n",
    "\n",
    "print(\"Results\")\n",
    "x = run_query(queryString)"
   ]
  },
  {
   "cell_type": "markdown",
   "id": "e13b0f3a-1f76-4b73-96eb-cab8133e8d7a",
   "metadata": {},
   "source": [
    "I discovered the two properties: ***number of episodes (wdt:P1113)*** and ***number of seasons (wdt:P2437)***. \n",
    "\n",
    "I try to use them on ***\"How I met your mother\" (wd:Q147235)***."
   ]
  },
  {
   "cell_type": "code",
   "execution_count": 6,
   "id": "b34f9810-b777-4bd7-9d51-5bbf8eadd554",
   "metadata": {},
   "outputs": [
    {
     "name": "stdout",
     "output_type": "stream",
     "text": [
      "Results\n",
      "[('numEpisodes', '208'), ('numSeasons', '9')]\n",
      "1\n"
     ]
    }
   ],
   "source": [
    "queryString = \"\"\"\n",
    "SELECT ?numEpisodes ?numSeasons WHERE { \n",
    "\n",
    "    # Retrieve HIMYM numEpisodes and numSeasons\n",
    "    wd:Q147235  wdt:P1113 ?numEpisodes ;\n",
    "                wdt:P2437 ?numSeasons  .\n",
    "}\n",
    "\"\"\"\n",
    "\n",
    "print(\"Results\")\n",
    "x = run_query(queryString)"
   ]
  },
  {
   "cell_type": "markdown",
   "id": "18d7ea3e-37f7-4e11-9005-ed3744456119",
   "metadata": {},
   "source": [
    "Now I have to discover how many episodes there are for each season. To do this I show all the object properties of ***\"How I met your mother\" (wd:Q147235)***."
   ]
  },
  {
   "cell_type": "code",
   "execution_count": 7,
   "id": "9ded595a-2c81-457b-981e-073b4740a7f5",
   "metadata": {},
   "outputs": [
    {
     "name": "stdout",
     "output_type": "stream",
     "text": [
      "Results\n",
      "[('p', 'http://www.wikidata.org/prop/direct/P2438'), ('pName', 'narrator')]\n",
      "[('p', 'http://www.wikidata.org/prop/direct/P136'), ('pName', 'genre')]\n",
      "[('p', 'http://www.wikidata.org/prop/direct/P138'), ('pName', 'named after')]\n",
      "[('p', 'http://www.wikidata.org/prop/direct/P1411'), ('pName', 'nominated for')]\n",
      "[('p', 'http://www.wikidata.org/prop/direct/P1424'), ('pName', \"topic's main template\")]\n",
      "[('p', 'http://www.wikidata.org/prop/direct/P154'), ('pName', 'logo image')]\n",
      "[('p', 'http://www.wikidata.org/prop/direct/P161'), ('pName', 'cast member')]\n",
      "[('p', 'http://www.wikidata.org/prop/direct/P162'), ('pName', 'producer')]\n",
      "[('p', 'http://www.wikidata.org/prop/direct/P166'), ('pName', 'award received')]\n",
      "[('p', 'http://www.wikidata.org/prop/direct/P170'), ('pName', 'creator')]\n",
      "[('p', 'http://www.wikidata.org/prop/direct/P18'), ('pName', 'image')]\n",
      "[('p', 'http://www.wikidata.org/prop/direct/P1811'), ('pName', 'list of episodes')]\n",
      "[('p', 'http://www.wikidata.org/prop/direct/P1881'), ('pName', 'list of characters')]\n",
      "[('p', 'http://www.wikidata.org/prop/direct/P2061'), ('pName', 'aspect ratio')]\n",
      "[('p', 'http://www.wikidata.org/prop/direct/P2670'), ('pName', 'has parts of the class')]\n",
      "[('p', 'http://www.wikidata.org/prop/direct/P272'), ('pName', 'production company')]\n",
      "[('p', 'http://www.wikidata.org/prop/direct/P31'), ('pName', 'instance of')]\n",
      "[('p', 'http://www.wikidata.org/prop/direct/P364'), ('pName', 'original language of film or TV show')]\n",
      "[('p', 'http://www.wikidata.org/prop/direct/P437'), ('pName', 'distribution format')]\n",
      "[('p', 'http://www.wikidata.org/prop/direct/P449'), ('pName', 'original broadcaster')]\n",
      "[('p', 'http://www.wikidata.org/prop/direct/P495'), ('pName', 'country of origin')]\n",
      "[('p', 'http://www.wikidata.org/prop/direct/P4969'), ('pName', 'derivative work')]\n",
      "[('p', 'http://www.wikidata.org/prop/direct/P527'), ('pName', 'has part')]\n",
      "[('p', 'http://www.wikidata.org/prop/direct/P58'), ('pName', 'screenwriter')]\n",
      "[('p', 'http://www.wikidata.org/prop/direct/P674'), ('pName', 'characters')]\n",
      "[('p', 'http://www.wikidata.org/prop/direct/P750'), ('pName', 'distributed by')]\n",
      "[('p', 'http://www.wikidata.org/prop/direct/P840'), ('pName', 'narrative location')]\n",
      "[('p', 'http://www.wikidata.org/prop/direct/P856'), ('pName', 'official website')]\n",
      "[('p', 'http://www.wikidata.org/prop/direct/P86'), ('pName', 'composer')]\n",
      "[('p', 'http://www.wikidata.org/prop/direct/P910'), ('pName', \"topic's main category\")]\n",
      "[('p', 'http://www.wikidata.org/prop/direct/P4312'), ('pName', 'camera setup')]\n",
      "[('p', 'http://www.wikidata.org/prop/direct/P7501'), ('pName', 'audio system')]\n",
      "[('p', 'http://www.wikidata.org/prop/direct/P725'), ('pName', 'voice actor')]\n",
      "33\n"
     ]
    }
   ],
   "source": [
    "queryString = \"\"\"\n",
    "SELECT DISTINCT ?p ?pName WHERE { \n",
    "\n",
    "    # Connecting HIMYM to something\n",
    "    wd:Q147235 ?p  ?o.\n",
    "\n",
    "    # This returns the labels\n",
    "    ?p <http://schema.org/name> ?pName .\n",
    "\n",
    "    # Exclude data properties\n",
    "    FILTER(!isLiteral(?o))\n",
    "}\n",
    "\"\"\"\n",
    "\n",
    "print(\"Results\")\n",
    "x = run_query(queryString)"
   ]
  },
  {
   "cell_type": "markdown",
   "id": "1dd490f2-7fae-4bac-9255-3acf8cb998da",
   "metadata": {},
   "source": [
    "I try to use another property discovered before: ***has part (wdt:P527)***."
   ]
  },
  {
   "cell_type": "code",
   "execution_count": 8,
   "id": "f713e135-6f2e-4c94-813b-5b09b485150d",
   "metadata": {},
   "outputs": [
    {
     "name": "stdout",
     "output_type": "stream",
     "text": [
      "Results\n",
      "[('part', 'http://www.wikidata.org/entity/Q2438066'), ('partName', 'How I Met Your Mother, season 6')]\n",
      "[('part', 'http://www.wikidata.org/entity/Q2715578'), ('partName', 'How I Met Your Mother, season 1')]\n",
      "[('part', 'http://www.wikidata.org/entity/Q13567027'), ('partName', 'How I Met Your Mother, season 9')]\n",
      "[('part', 'http://www.wikidata.org/entity/Q2567330'), ('partName', 'How I Met Your Mother, season 4')]\n",
      "[('part', 'http://www.wikidata.org/entity/Q338715'), ('partName', 'How I Met Your Mother, season 8')]\n",
      "[('part', 'http://www.wikidata.org/entity/Q582332'), ('partName', 'How I Met Your Mother, season 5')]\n",
      "[('part', 'http://www.wikidata.org/entity/Q3468515'), ('partName', 'How I Met Your Mother, season 2')]\n",
      "[('part', 'http://www.wikidata.org/entity/Q2555117'), ('partName', 'How I Met Your Mother, season 3')]\n",
      "[('part', 'http://www.wikidata.org/entity/Q2472427'), ('partName', 'How I Met Your Mother, season 7')]\n",
      "9\n"
     ]
    }
   ],
   "source": [
    "queryString = \"\"\"\n",
    "SELECT DISTINCT ?part ?partName WHERE { \n",
    "\n",
    "    # Connecting HIMYM to something using property hasPart\n",
    "    wd:Q147235 wdt:P527 ?part .\n",
    "\n",
    "    # This returns the labels\n",
    "    ?part <http://schema.org/name> ?partName .\n",
    "}\n",
    "\"\"\"\n",
    "\n",
    "print(\"Results\")\n",
    "x = run_query(queryString)"
   ]
  },
  {
   "cell_type": "markdown",
   "id": "a5a210f6-fb54-4ac0-813d-0012bc213c73",
   "metadata": {},
   "source": [
    "It is possible to retrieve all the different seasons of the TV series. \n",
    "I show the properties of one of them ( ***How I Met Your Mother, season 1 (wd:Q2715578)*** )"
   ]
  },
  {
   "cell_type": "code",
   "execution_count": 9,
   "id": "e68b75cf-e0c7-4d33-b251-4342d7c636cd",
   "metadata": {},
   "outputs": [
    {
     "name": "stdout",
     "output_type": "stream",
     "text": [
      "Results\n",
      "[('p', 'http://www.wikidata.org/prop/direct/P1113'), ('pName', 'number of episodes')]\n",
      "[('p', 'http://www.wikidata.org/prop/direct/P1258'), ('pName', 'Rotten Tomatoes ID')]\n",
      "[('p', 'http://www.wikidata.org/prop/direct/P1712'), ('pName', 'Metacritic ID')]\n",
      "[('p', 'http://www.wikidata.org/prop/direct/P179'), ('pName', 'part of the series')]\n",
      "[('p', 'http://www.wikidata.org/prop/direct/P2529'), ('pName', 'ČSFD film ID')]\n",
      "[('p', 'http://www.wikidata.org/prop/direct/P2581'), ('pName', 'BabelNet ID')]\n",
      "[('p', 'http://www.wikidata.org/prop/direct/P2638'), ('pName', 'TV.com ID')]\n",
      "[('p', 'http://www.wikidata.org/prop/direct/P2704'), ('pName', 'EIDR content ID')]\n",
      "[('p', 'http://www.wikidata.org/prop/direct/P31'), ('pName', 'instance of')]\n",
      "[('p', 'http://www.wikidata.org/prop/direct/P3302'), ('pName', 'Open Media Database film ID')]\n",
      "[('p', 'http://www.wikidata.org/prop/direct/P364'), ('pName', 'original language of film or TV show')]\n",
      "[('p', 'http://www.wikidata.org/prop/direct/P437'), ('pName', 'distribution format')]\n",
      "[('p', 'http://www.wikidata.org/prop/direct/P527'), ('pName', 'has part')]\n",
      "[('p', 'http://www.wikidata.org/prop/direct/P580'), ('pName', 'start time')]\n",
      "[('p', 'http://www.wikidata.org/prop/direct/P582'), ('pName', 'end time')]\n",
      "[('p', 'http://www.wikidata.org/prop/direct/P6262'), ('pName', 'Fandom article ID')]\n",
      "[('p', 'http://www.wikidata.org/prop/direct/P646'), ('pName', 'Freebase ID')]\n",
      "[('p', 'http://www.wikidata.org/prop/direct/P750'), ('pName', 'distributed by')]\n",
      "[('p', 'http://www.wikidata.org/prop/direct/P6381'), ('pName', 'iTunes TV season ID')]\n",
      "19\n"
     ]
    }
   ],
   "source": [
    "queryString = \"\"\"\n",
    "SELECT DISTINCT ?p ?pName WHERE { \n",
    "\n",
    "    # Connecting HIMYM S1 to something\n",
    "    wd:Q2715578 ?p ?o.\n",
    "\n",
    "    # This returns the labels\n",
    "    ?p <http://schema.org/name> ?pName .\n",
    "}\n",
    "\"\"\"\n",
    "\n",
    "print(\"Results\")\n",
    "x = run_query(queryString)"
   ]
  },
  {
   "cell_type": "markdown",
   "id": "1d3fd492-445a-422a-8a4a-e0d378a78a4f",
   "metadata": {},
   "source": [
    "I have the property ***number of episodes (wdt:P1113)***. I try to use it on ***How I Met Your Mother, season 1 (wd:Q2715578)***. I can finally retrieve the number of episodes per season of  ***\"How I met your mother\" (wd:Q147235)***."
   ]
  },
  {
   "cell_type": "code",
   "execution_count": 10,
   "id": "a6716d05-dcbe-4c3e-8ae7-1121bd256efc",
   "metadata": {},
   "outputs": [
    {
     "name": "stdout",
     "output_type": "stream",
     "text": [
      "Results\n",
      "[('part', 'http://www.wikidata.org/entity/Q2438066'), ('partName', 'How I Met Your Mother, season 6'), ('numEpisodes', '24')]\n",
      "[('part', 'http://www.wikidata.org/entity/Q2715578'), ('partName', 'How I Met Your Mother, season 1'), ('numEpisodes', '22')]\n",
      "[('part', 'http://www.wikidata.org/entity/Q13567027'), ('partName', 'How I Met Your Mother, season 9'), ('numEpisodes', '24')]\n",
      "[('part', 'http://www.wikidata.org/entity/Q2567330'), ('partName', 'How I Met Your Mother, season 4'), ('numEpisodes', '24')]\n",
      "[('part', 'http://www.wikidata.org/entity/Q338715'), ('partName', 'How I Met Your Mother, season 8'), ('numEpisodes', '24')]\n",
      "[('part', 'http://www.wikidata.org/entity/Q582332'), ('partName', 'How I Met Your Mother, season 5'), ('numEpisodes', '24')]\n",
      "[('part', 'http://www.wikidata.org/entity/Q3468515'), ('partName', 'How I Met Your Mother, season 2'), ('numEpisodes', '22')]\n",
      "[('part', 'http://www.wikidata.org/entity/Q2555117'), ('partName', 'How I Met Your Mother, season 3'), ('numEpisodes', '20')]\n",
      "[('part', 'http://www.wikidata.org/entity/Q2472427'), ('partName', 'How I Met Your Mother, season 7'), ('numEpisodes', '24')]\n",
      "9\n"
     ]
    }
   ],
   "source": [
    "queryString = \"\"\"\n",
    "SELECT DISTINCT ?part ?partName ?numEpisodes WHERE { \n",
    "\n",
    "    # Retrieve HIMYM seasons\n",
    "    wd:Q147235 wdt:P527 ?part .\n",
    "    \n",
    "    # Retrieve number of episodes of each HIMYM season\n",
    "    ?part wdt:P1113 ?numEpisodes.\n",
    "\n",
    "    # This returns the labels\n",
    "    ?part <http://schema.org/name> ?partName .\n",
    "}\n",
    "\"\"\"\n",
    "\n",
    "print(\"Results\")\n",
    "x = run_query(queryString)"
   ]
  },
  {
   "cell_type": "code",
   "execution_count": 11,
   "id": "8eb2ea39-60ee-4152-8a42-456db9af2542",
   "metadata": {},
   "outputs": [
    {
     "name": "stdout",
     "output_type": "stream",
     "text": [
      "JSON object updated\n"
     ]
    }
   ],
   "source": [
    "objs = []\n",
    "for i in x:\n",
    "    f_uri = i[0][1]\n",
    "    f_name = i[1][1]\n",
    "    episodes = i[2][1]\n",
    "    obj = {}\n",
    "    obj[\"refers_to\"] = f_uri\n",
    "    obj[\"refers_to_name\"] = f_name\n",
    "    obj[\"check\"] = \"value\"\n",
    "    obj[\"value\"]= episodes\n",
    "    objs.append(obj)\n",
    "add_result(\"1\", TYPE_REFERRED ,\"value\",objs)"
   ]
  },
  {
   "cell_type": "markdown",
   "id": "4e5ab9e6-b3a5-44b1-b700-f668829eb744",
   "metadata": {
    "tags": []
   },
   "source": [
    "### Task 2 : Get the number of episodes in which the cast members played a role. Who are the most present actors?\n",
    "\n",
    "From a previous query, I can notice that each season has also the property ***has part (wdt:P527)***.\n",
    "\n",
    "I want to see what is connected to ***How I Met Your Mother, season 1 (wd:Q2715578)*** through this property."
   ]
  },
  {
   "cell_type": "code",
   "execution_count": 12,
   "id": "a1c22d34-62b8-488e-84c9-29b7a22b9ff1",
   "metadata": {},
   "outputs": [
    {
     "name": "stdout",
     "output_type": "stream",
     "text": [
      "Results\n",
      "[('episode', 'http://www.wikidata.org/entity/Q11696021'), ('episodeName', 'Nothing Good Happens After 2 A.M.')]\n",
      "[('episode', 'http://www.wikidata.org/entity/Q1327587'), ('episodeName', 'Okay Awesome')]\n",
      "[('episode', 'http://www.wikidata.org/entity/Q3480575'), ('episodeName', 'Return of the Shirt')]\n",
      "[('episode', 'http://www.wikidata.org/entity/Q467447'), ('episodeName', 'Pilot')]\n",
      "[('episode', 'http://www.wikidata.org/entity/Q468587'), ('episodeName', 'Purple Giraffe')]\n",
      "[('episode', 'http://www.wikidata.org/entity/Q471448'), ('episodeName', 'Sweet Taste of Liberty')]\n",
      "[('episode', 'http://www.wikidata.org/entity/Q4809956'), ('episodeName', 'Game Night')]\n",
      "[('episode', 'http://www.wikidata.org/entity/Q4817584'), ('episodeName', 'Drumroll, Please')]\n",
      "[('episode', 'http://www.wikidata.org/entity/Q4818636'), ('episodeName', 'Life Among the Gorillas')]\n",
      "[('episode', 'http://www.wikidata.org/entity/Q4818989'), ('episodeName', 'Cupcake')]\n",
      "[('episode', 'http://www.wikidata.org/entity/Q4819005'), ('episodeName', 'The Wedding')]\n",
      "[('episode', 'http://www.wikidata.org/entity/Q4884249'), ('episodeName', 'Belly Full of Turkey')]\n",
      "[('episode', 'http://www.wikidata.org/entity/Q5151207'), ('episodeName', 'Come On')]\n",
      "[('episode', 'http://www.wikidata.org/entity/Q6781049'), ('episodeName', 'Mary the Paralegal')]\n",
      "[('episode', 'http://www.wikidata.org/entity/Q6857975'), ('episodeName', 'Milk')]\n",
      "[('episode', 'http://www.wikidata.org/entity/Q7731151'), ('episodeName', 'The Duel')]\n",
      "[('episode', 'http://www.wikidata.org/entity/Q7747382'), ('episodeName', 'The Limo')]\n",
      "[('episode', 'http://www.wikidata.org/entity/Q7757165'), ('episodeName', 'The Pineapple Incident')]\n",
      "[('episode', 'http://www.wikidata.org/entity/Q8072588'), ('episodeName', 'Zip, Zip, Zip')]\n",
      "[('episode', 'http://www.wikidata.org/entity/Q8247171'), ('episodeName', 'Best Prom Ever')]\n",
      "[('episode', 'http://www.wikidata.org/entity/Q9030442'), ('episodeName', 'Matchmaker')]\n",
      "[('episode', 'http://www.wikidata.org/entity/Q9078314'), ('episodeName', 'Slutty Pumpkin')]\n",
      "22\n"
     ]
    }
   ],
   "source": [
    "queryString = \"\"\"\n",
    "SELECT ?episode ?episodeName WHERE { \n",
    "\n",
    "    # Retrieve episodes of HIMYM S1\n",
    "    wd:Q2715578 wdt:P527 ?episode .\n",
    "    \n",
    "    # This returns the labels\n",
    "    ?episode <http://schema.org/name> ?episodeName .\n",
    "}\n",
    "\"\"\"\n",
    "\n",
    "print(\"Results\")\n",
    "x = run_query(queryString)"
   ]
  },
  {
   "cell_type": "markdown",
   "id": "ea3c3eed-e3eb-4f58-ac77-37d0e634fd2f",
   "metadata": {},
   "source": [
    "Using the property ***has part (wdt:P527)*** on a single season, I can retrieve all the episodes of that season.\n",
    "\n",
    "I have to discover the cast members, so I try to list all the properties of a specific episode: ***The Pineapple Incident (wd:Q7757165)***"
   ]
  },
  {
   "cell_type": "code",
   "execution_count": 13,
   "id": "ce0d6be2-bfbc-4dce-92eb-9a47c8debc73",
   "metadata": {},
   "outputs": [
    {
     "name": "stdout",
     "output_type": "stream",
     "text": [
      "Results\n",
      "[('p', 'http://www.wikidata.org/prop/direct/P161'), ('pName', 'cast member'), ('o', 'http://www.wikidata.org/entity/Q200566'), ('oName', 'Cobie Smulders')]\n",
      "[('p', 'http://www.wikidata.org/prop/direct/P161'), ('pName', 'cast member'), ('o', 'http://www.wikidata.org/entity/Q485310'), ('oName', 'Neil Patrick Harris')]\n",
      "[('p', 'http://www.wikidata.org/prop/direct/P161'), ('pName', 'cast member'), ('o', 'http://www.wikidata.org/entity/Q223455'), ('oName', 'Josh Radnor')]\n",
      "[('p', 'http://www.wikidata.org/prop/direct/P161'), ('pName', 'cast member'), ('o', 'http://www.wikidata.org/entity/Q199927'), ('oName', 'Alyson Hannigan')]\n",
      "[('p', 'http://www.wikidata.org/prop/direct/P161'), ('pName', 'cast member'), ('o', 'http://www.wikidata.org/entity/Q202304'), ('oName', 'Jason Segel')]\n",
      "[('p', 'http://www.wikidata.org/prop/direct/P161'), ('pName', 'cast member'), ('o', 'http://www.wikidata.org/entity/Q333544'), ('oName', 'Bob Saget')]\n",
      "[('p', 'http://www.wikidata.org/prop/direct/P161'), ('pName', 'cast member'), ('o', 'http://www.wikidata.org/entity/Q242949'), ('oName', 'Danica McKellar')]\n",
      "[('p', 'http://www.wikidata.org/prop/direct/P57'), ('pName', 'director'), ('o', 'http://www.wikidata.org/entity/Q460221'), ('oName', 'Pamela Fryman')]\n",
      "[('p', 'http://www.wikidata.org/prop/direct/P156'), ('pName', 'followed by'), ('o', 'http://www.wikidata.org/entity/Q7747382'), ('oName', 'The Limo')]\n",
      "[('p', 'http://www.wikidata.org/prop/direct/P155'), ('pName', 'follows'), ('o', 'http://www.wikidata.org/entity/Q4884249'), ('oName', 'Belly Full of Turkey')]\n",
      "[('p', 'http://www.wikidata.org/prop/direct/P31'), ('pName', 'instance of'), ('o', 'http://www.wikidata.org/entity/Q21191270'), ('oName', 'television series episode')]\n",
      "[('p', 'http://www.wikidata.org/prop/direct/P364'), ('pName', 'original language of film or TV show'), ('o', 'http://www.wikidata.org/entity/Q1860'), ('oName', 'English')]\n",
      "[('p', 'http://www.wikidata.org/prop/direct/P179'), ('pName', 'part of the series'), ('o', 'http://www.wikidata.org/entity/Q147235'), ('oName', 'How I Met Your Mother')]\n",
      "[('p', 'http://www.wikidata.org/prop/direct/P58'), ('pName', 'screenwriter'), ('o', 'http://www.wikidata.org/entity/Q2656047'), ('oName', 'Carter Bays')]\n",
      "[('p', 'http://www.wikidata.org/prop/direct/P58'), ('pName', 'screenwriter'), ('o', 'http://www.wikidata.org/entity/Q3002075'), ('oName', 'Craig Thomas')]\n",
      "[('p', 'http://www.wikidata.org/prop/direct/P4908'), ('pName', 'season'), ('o', 'http://www.wikidata.org/entity/Q2715578'), ('oName', 'How I Met Your Mother, season 1')]\n",
      "16\n"
     ]
    }
   ],
   "source": [
    "queryString = \"\"\"\n",
    "SELECT DISTINCT ?p ?pName ?o ?oName WHERE { \n",
    "\n",
    "    # Connecting The Pineapple Incident to something\n",
    "    wd:Q7757165 ?p ?o.\n",
    "\n",
    "    # This returns the labels\n",
    "    ?p <http://schema.org/name> ?pName .\n",
    "    ?o <http://schema.org/name> ?oName .\n",
    "}\n",
    "ORDER BY ?pName\n",
    "\"\"\"\n",
    "\n",
    "print(\"Results\")\n",
    "x = run_query(queryString)"
   ]
  },
  {
   "cell_type": "markdown",
   "id": "e2f51b86-3fbc-472f-ba0d-ac9e9bde0d68",
   "metadata": {},
   "source": [
    "I discovered that the property ***cast member (wdt:P161)*** can be used to retrieve all the actors that partecipated in a specific episode.\n",
    "\n",
    "Now I can count the number of episodes in which the cast members played a role, and show the most present actors."
   ]
  },
  {
   "cell_type": "code",
   "execution_count": 14,
   "id": "dec7eee7-5b04-44af-b2ae-84f5f216e702",
   "metadata": {},
   "outputs": [
    {
     "name": "stdout",
     "output_type": "stream",
     "text": [
      "Results\n",
      "[('actor', 'http://www.wikidata.org/entity/Q200566'), ('actorName', 'Cobie Smulders'), ('numEpisodes', '145')]\n",
      "[('actor', 'http://www.wikidata.org/entity/Q485310'), ('actorName', 'Neil Patrick Harris'), ('numEpisodes', '145')]\n",
      "[('actor', 'http://www.wikidata.org/entity/Q223455'), ('actorName', 'Josh Radnor'), ('numEpisodes', '145')]\n",
      "[('actor', 'http://www.wikidata.org/entity/Q202304'), ('actorName', 'Jason Segel'), ('numEpisodes', '145')]\n",
      "[('actor', 'http://www.wikidata.org/entity/Q199927'), ('actorName', 'Alyson Hannigan'), ('numEpisodes', '143')]\n",
      "[('actor', 'http://www.wikidata.org/entity/Q333544'), ('actorName', 'Bob Saget'), ('numEpisodes', '142')]\n",
      "6\n"
     ]
    }
   ],
   "source": [
    "queryString = \"\"\"\n",
    "SELECT ?actor ?actorName COUNT(DISTINCT ?episode) AS ?numEpisodes WHERE { \n",
    "\n",
    "    # Retrieve HIMYM episodes \n",
    "    wd:Q147235 wdt:P527/wdt:P527 ?episode .\n",
    "    \n",
    "    # Retrieve cast members\n",
    "    ?episode wdt:P161 ?actor .\n",
    "    \n",
    "    # This returns the labels\n",
    "    ?actor <http://schema.org/name> ?actorName .\n",
    "}\n",
    "GROUP BY ?actor ?actorName\n",
    "ORDER BY DESC(?numEpisodes)\n",
    "LIMIT 6\n",
    "\"\"\"\n",
    "\n",
    "print(\"Results\")\n",
    "x = run_query(queryString)"
   ]
  },
  {
   "cell_type": "code",
   "execution_count": 15,
   "id": "93f733cf-4983-46c1-85d6-93e56a07d744",
   "metadata": {},
   "outputs": [
    {
     "name": "stdout",
     "output_type": "stream",
     "text": [
      "JSON object updated\n"
     ]
    }
   ],
   "source": [
    "objs = []\n",
    "for i in x:\n",
    "    f_uri = i[0][1]\n",
    "    f_name = i[1][1]\n",
    "    episodes = i[2][1]\n",
    "    obj = {}\n",
    "    obj[\"uri\"] = f_uri\n",
    "    obj[\"name\"] = f_name\n",
    "    obj[\"value\"]= episodes\n",
    "    objs.append(obj)\n",
    "add_result(\"2\", TYPE_SET ,[\"uri\",\"name\"],objs)"
   ]
  },
  {
   "cell_type": "markdown",
   "id": "1f979066-bead-4aa3-8ded-dfd760e45cae",
   "metadata": {
    "tags": []
   },
   "source": [
    "### Task 3 : Check who is the actor who acted in more films while working on \"How I met your mother\" and who is the actor who participated in more films after the end of the tv series.\n",
    "\n",
    "To check if an actor acted in a film while working on ***\"How I met your mother\" (wd:Q147235)***, I need to know when HIMYM started and when it ended.\n",
    "\n",
    "I can rely on these two properties discovered in a previous query: \n",
    "* ***start time (wdt:P580)*** \n",
    "* ***end time (wdt:P582)***"
   ]
  },
  {
   "cell_type": "code",
   "execution_count": 16,
   "id": "4c896f07-7bf6-4fe0-b3c3-bcebeef62f16",
   "metadata": {},
   "outputs": [
    {
     "name": "stdout",
     "output_type": "stream",
     "text": [
      "Results\n",
      "[('startTime', '2005-09-19T00:00:00Z'), ('endTime', '2014-03-31T00:00:00Z')]\n",
      "1\n"
     ]
    }
   ],
   "source": [
    "queryString = \"\"\"\n",
    "SELECT ?startTime ?endTime WHERE { \n",
    "\n",
    "    # Retrieving HIMYM startTime and endTime\n",
    "    wd:Q147235  wdt:P580  ?startTime ;\n",
    "                wdt:P582  ?endTime   . \n",
    "}\n",
    "\"\"\"\n",
    "\n",
    "print(\"Results\")\n",
    "x = run_query(queryString)"
   ]
  },
  {
   "cell_type": "markdown",
   "id": "81933916-ae77-4edb-ad8f-0c55d003b01d",
   "metadata": {},
   "source": [
    "Hence, I need to check if an actor worked in a film between ***\"2005-09-19\"*** and ***\"2014-03-31\"***. To do this, I have to understand how actors and films are connected.\n",
    "\n",
    "First, I try to retrieve all the object propertis of a specific actor : ***Cobie Smulders (wd:Q200566)***."
   ]
  },
  {
   "cell_type": "code",
   "execution_count": 17,
   "id": "2ddde9a5-d57b-42d2-93ef-0b45de877be9",
   "metadata": {},
   "outputs": [
    {
     "name": "stdout",
     "output_type": "stream",
     "text": [
      "Results\n",
      "[('p', 'http://www.wikidata.org/prop/direct/P27'), ('pName', 'country of citizenship'), ('o', 'http://www.wikidata.org/entity/Q16'), ('oName', 'Canada')]\n",
      "[('p', 'http://www.wikidata.org/prop/direct/P734'), ('pName', 'family name'), ('o', 'http://www.wikidata.org/entity/Q2018583'), ('oName', 'Smulders')]\n",
      "[('p', 'http://www.wikidata.org/prop/direct/P735'), ('pName', 'given name'), ('o', 'http://www.wikidata.org/entity/Q15208593'), ('oName', 'Francisca')]\n",
      "[('p', 'http://www.wikidata.org/prop/direct/P735'), ('pName', 'given name'), ('o', 'http://www.wikidata.org/entity/Q6119607'), ('oName', 'Jacoba')]\n",
      "[('p', 'http://www.wikidata.org/prop/direct/P735'), ('pName', 'given name'), ('o', 'http://www.wikidata.org/entity/Q325872'), ('oName', 'Maria')]\n",
      "[('p', 'http://www.wikidata.org/prop/direct/P31'), ('pName', 'instance of'), ('o', 'http://www.wikidata.org/entity/Q5'), ('oName', 'human')]\n",
      "[('p', 'http://www.wikidata.org/prop/direct/P1412'), ('pName', 'languages spoken, written or signed'), ('o', 'http://www.wikidata.org/entity/Q1860'), ('oName', 'English')]\n",
      "[('p', 'http://www.wikidata.org/prop/direct/P106'), ('pName', 'occupation'), ('o', 'http://www.wikidata.org/entity/Q10798782'), ('oName', 'television actor')]\n",
      "[('p', 'http://www.wikidata.org/prop/direct/P106'), ('pName', 'occupation'), ('o', 'http://www.wikidata.org/entity/Q10800557'), ('oName', 'film actor')]\n",
      "[('p', 'http://www.wikidata.org/prop/direct/P106'), ('pName', 'occupation'), ('o', 'http://www.wikidata.org/entity/Q2259451'), ('oName', 'stage actor')]\n",
      "[('p', 'http://www.wikidata.org/prop/direct/P106'), ('pName', 'occupation'), ('o', 'http://www.wikidata.org/entity/Q4610556'), ('oName', 'model')]\n",
      "[('p', 'http://www.wikidata.org/prop/direct/P19'), ('pName', 'place of birth'), ('o', 'http://www.wikidata.org/entity/Q24639'), ('oName', 'Vancouver')]\n",
      "[('p', 'http://www.wikidata.org/prop/direct/P551'), ('pName', 'residence'), ('o', 'http://www.wikidata.org/entity/Q65'), ('oName', 'Los Angeles')]\n",
      "[('p', 'http://www.wikidata.org/prop/direct/P21'), ('pName', 'sex or gender'), ('o', 'http://www.wikidata.org/entity/Q6581072'), ('oName', 'female')]\n",
      "[('p', 'http://www.wikidata.org/prop/direct/P26'), ('pName', 'spouse'), ('o', 'http://www.wikidata.org/entity/Q2706805'), ('oName', 'Taran Killam')]\n",
      "15\n"
     ]
    }
   ],
   "source": [
    "queryString = \"\"\"\n",
    "SELECT ?p ?pName ?o ?oName WHERE { \n",
    "\n",
    "    # Connecting Cobie Smulders to something\n",
    "    wd:Q200566  ?p  ?o .\n",
    "    \n",
    "    # This returns the labels\n",
    "    ?p <http://schema.org/name> ?pName .\n",
    "    ?o <http://schema.org/name> ?oName .\n",
    "}\n",
    "ORDER BY ?pName\n",
    "\"\"\"\n",
    "\n",
    "print(\"Results\")\n",
    "x = run_query(queryString)"
   ]
  },
  {
   "cell_type": "markdown",
   "id": "8761da13-e612-4732-932e-b9c96f5b367f",
   "metadata": {},
   "source": [
    "Maybe there are connection in the opposite direction: ***?s ?p wd:Q200566***."
   ]
  },
  {
   "cell_type": "code",
   "execution_count": 18,
   "id": "e57e931f-ab58-415c-a87f-826932963107",
   "metadata": {},
   "outputs": [
    {
     "name": "stdout",
     "output_type": "stream",
     "text": [
      "Results\n",
      "[('s', 'http://www.wikidata.org/entity/Q65070140'), ('sName', 'Stumptown'), ('p', 'http://www.wikidata.org/prop/direct/P161'), ('pName', 'cast member')]\n",
      "[('s', 'http://www.wikidata.org/entity/Q51963292'), ('sName', 'Marvel Cinematic Universe Phase One'), ('p', 'http://www.wikidata.org/prop/direct/P161'), ('pName', 'cast member')]\n",
      "[('s', 'http://www.wikidata.org/entity/Q63405798'), ('sName', 'The Infinity Saga'), ('p', 'http://www.wikidata.org/prop/direct/P161'), ('pName', 'cast member')]\n",
      "[('s', 'http://www.wikidata.org/entity/Q147235'), ('sName', 'How I Met Your Mother'), ('p', 'http://www.wikidata.org/prop/direct/P161'), ('pName', 'cast member')]\n",
      "[('s', 'http://www.wikidata.org/entity/Q5264968'), ('sName', 'Desperation Day'), ('p', 'http://www.wikidata.org/prop/direct/P161'), ('pName', 'cast member')]\n",
      "[('s', 'http://www.wikidata.org/entity/Q5521981'), ('sName', 'Garbage Island'), ('p', 'http://www.wikidata.org/prop/direct/P161'), ('pName', 'cast member')]\n",
      "[('s', 'http://www.wikidata.org/entity/Q7080458'), ('sName', 'Oh Honey'), ('p', 'http://www.wikidata.org/prop/direct/P161'), ('pName', 'cast member')]\n",
      "[('s', 'http://www.wikidata.org/entity/Q5888848'), ('sName', 'Home Wreckers'), ('p', 'http://www.wikidata.org/prop/direct/P161'), ('pName', 'cast member')]\n",
      "[('s', 'http://www.wikidata.org/entity/Q7858076'), ('sName', 'Twin Beds'), ('p', 'http://www.wikidata.org/prop/direct/P161'), ('pName', 'cast member')]\n",
      "[('s', 'http://www.wikidata.org/entity/Q8074081'), ('sName', 'Zoo or False'), ('p', 'http://www.wikidata.org/prop/direct/P161'), ('pName', 'cast member')]\n",
      "[('s', 'http://www.wikidata.org/entity/Q17113214'), ('sName', 'They Came Together'), ('p', 'http://www.wikidata.org/prop/direct/P161'), ('pName', 'cast member')]\n",
      "[('s', 'http://www.wikidata.org/entity/Q23780914'), ('sName', 'Avengers: Infinity War'), ('p', 'http://www.wikidata.org/prop/direct/P161'), ('pName', 'cast member')]\n",
      "[('s', 'http://www.wikidata.org/entity/Q23781155'), ('sName', 'Avengers: Endgame'), ('p', 'http://www.wikidata.org/prop/direct/P161'), ('pName', 'cast member')]\n",
      "[('s', 'http://www.wikidata.org/entity/Q27985819'), ('sName', 'Spider-Man: Far from Home'), ('p', 'http://www.wikidata.org/prop/direct/P161'), ('pName', 'cast member')]\n",
      "[('s', 'http://www.wikidata.org/entity/Q4786988'), ('sName', 'Architect of Destruction'), ('p', 'http://www.wikidata.org/prop/direct/P161'), ('pName', 'cast member')]\n",
      "[('s', 'http://www.wikidata.org/entity/Q4838409'), ('sName', 'Baby Talk'), ('p', 'http://www.wikidata.org/prop/direct/P161'), ('pName', 'cast member')]\n",
      "[('s', 'http://www.wikidata.org/entity/Q7632493'), ('sName', 'Subway Wars'), ('p', 'http://www.wikidata.org/prop/direct/P161'), ('pName', 'cast member')]\n",
      "[('s', 'http://www.wikidata.org/entity/Q14171368'), ('sName', 'Avengers: Age of Ultron'), ('p', 'http://www.wikidata.org/prop/direct/P161'), ('pName', 'cast member')]\n",
      "[('s', 'http://www.wikidata.org/entity/Q1765358'), ('sName', 'Captain America: The Winter Soldier'), ('p', 'http://www.wikidata.org/prop/direct/P161'), ('pName', 'cast member')]\n",
      "[('s', 'http://www.wikidata.org/entity/Q182218'), ('sName', 'The Avengers'), ('p', 'http://www.wikidata.org/prop/direct/P161'), ('pName', 'cast member')]\n",
      "20\n"
     ]
    }
   ],
   "source": [
    "queryString = \"\"\"\n",
    "SELECT ?s ?sName ?p ?pName WHERE { \n",
    "\n",
    "    # Connecting something to Cobie Smulders\n",
    "    ?s ?p wd:Q200566 .\n",
    "    \n",
    "    # This returns the labels\n",
    "    ?p <http://schema.org/name> ?pName .\n",
    "    ?s <http://schema.org/name> ?sName .\n",
    "}\n",
    "ORDER BY ?pName\n",
    "LIMIT 20\n",
    "\"\"\"\n",
    "\n",
    "print(\"Results\")\n",
    "x = run_query(queryString)"
   ]
  },
  {
   "cell_type": "markdown",
   "id": "9b7678d4-1a5e-4ee0-b8d9-2ad4f91763df",
   "metadata": {},
   "source": [
    "I can use the property ***cast member (wdt:P161)*** as before, but I need to understand how to select only films and not other TV series.\n",
    "\n",
    "I use the property ***instanceOf (wdt:P31)*** on ***Avengers: Infinity War (wd:Q23780914)***."
   ]
  },
  {
   "cell_type": "code",
   "execution_count": 19,
   "id": "0e9f449c-7681-4c58-9f5b-d40e6f2593b0",
   "metadata": {},
   "outputs": [
    {
     "name": "stdout",
     "output_type": "stream",
     "text": [
      "Results\n",
      "[('class', 'http://www.wikidata.org/entity/Q11424'), ('className', 'film')]\n",
      "1\n"
     ]
    }
   ],
   "source": [
    "queryString = \"\"\"\n",
    "SELECT ?class ?className WHERE { \n",
    "\n",
    "    # Retrieve class of Avengers Infinity War\n",
    "    wd:Q23780914 wdt:P31 ?class .\n",
    "    \n",
    "    # This returns the labels\n",
    "    ?class <http://schema.org/name> ?className .\n",
    "}\n",
    "\"\"\"\n",
    "\n",
    "print(\"Results\")\n",
    "x = run_query(queryString)"
   ]
  },
  {
   "cell_type": "markdown",
   "id": "363f1a3c-9095-4466-8b84-df08606d2f27",
   "metadata": {},
   "source": [
    "I retrieved ***film (wd:Q11424)***. Now, I can retrieve only the films of a specific actor : ***Cobie Smulders (wd:Q200566)***."
   ]
  },
  {
   "cell_type": "code",
   "execution_count": 20,
   "id": "95146a63-e5b9-44cd-9a2b-18a3c0d440ee",
   "metadata": {},
   "outputs": [
    {
     "name": "stdout",
     "output_type": "stream",
     "text": [
      "Results\n",
      "[('film', 'http://www.wikidata.org/entity/Q14171368'), ('filmName', 'Avengers: Age of Ultron')]\n",
      "[('film', 'http://www.wikidata.org/entity/Q23781155'), ('filmName', 'Avengers: Endgame')]\n",
      "[('film', 'http://www.wikidata.org/entity/Q23780914'), ('filmName', 'Avengers: Infinity War')]\n",
      "[('film', 'http://www.wikidata.org/entity/Q1765358'), ('filmName', 'Captain America: The Winter Soldier')]\n",
      "[('film', 'http://www.wikidata.org/entity/Q7729669'), ('filmName', 'Delivery Man')]\n",
      "[('film', 'http://www.wikidata.org/entity/Q3012583'), ('filmName', 'Grassroots')]\n",
      "[('film', 'http://www.wikidata.org/entity/Q21168538'), ('filmName', 'Jack Reacher: Never Go Back')]\n",
      "[('film', 'http://www.wikidata.org/entity/Q27663881'), ('filmName', 'Killing Gunther')]\n",
      "[('film', 'http://www.wikidata.org/entity/Q27888468'), ('filmName', 'Lennon or McCartney')]\n",
      "[('film', 'http://www.wikidata.org/entity/Q18703883'), ('filmName', 'Results')]\n",
      "[('film', 'http://www.wikidata.org/entity/Q1767513'), ('filmName', 'Safe Haven')]\n",
      "[('film', 'http://www.wikidata.org/entity/Q27985819'), ('filmName', 'Spider-Man: Far from Home')]\n",
      "[('film', 'http://www.wikidata.org/entity/Q182218'), ('filmName', 'The Avengers')]\n",
      "[('film', 'http://www.wikidata.org/entity/Q21866873'), ('filmName', 'The Intervention')]\n",
      "[('film', 'http://www.wikidata.org/entity/Q1347959'), ('filmName', 'The Long Weekend')]\n",
      "[('film', 'http://www.wikidata.org/entity/Q1131162'), ('filmName', \"The Slammin' Salmon\")]\n",
      "[('film', 'http://www.wikidata.org/entity/Q17113214'), ('filmName', 'They Came Together')]\n",
      "[('film', 'http://www.wikidata.org/entity/Q19264031'), ('filmName', 'Unexpected')]\n",
      "[('film', 'http://www.wikidata.org/entity/Q919363'), ('filmName', 'Walking Tall')]\n",
      "19\n"
     ]
    }
   ],
   "source": [
    "queryString = \"\"\"\n",
    "SELECT ?film ?filmName WHERE { \n",
    "\n",
    "    # Retrieve films in which Cobie Smulders acted\n",
    "    ?film  wdt:P161 wd:Q200566 ;\n",
    "           wdt:P31  wd:Q11424  .\n",
    "    \n",
    "    # This returns the labels\n",
    "    ?film <http://schema.org/name> ?filmName .\n",
    "}\n",
    "ORDER BY ?filmName\n",
    "\"\"\"\n",
    "\n",
    "print(\"Results\")\n",
    "x = run_query(queryString)"
   ]
  },
  {
   "cell_type": "markdown",
   "id": "2b934c6c-582e-423e-a6fe-a676cc1c0c5b",
   "metadata": {},
   "source": [
    "I have to retrieve the publication date of a film. I check if there is a property of ***Avengers: Infinity War (wd:Q23780914)*** that contains the word \"date\"."
   ]
  },
  {
   "cell_type": "code",
   "execution_count": 21,
   "id": "0a3f157b-d3aa-4090-bf8c-90278c365424",
   "metadata": {},
   "outputs": [
    {
     "name": "stdout",
     "output_type": "stream",
     "text": [
      "Results\n",
      "[('p', 'http://www.wikidata.org/prop/direct/P577'), ('pName', 'publication date')]\n",
      "1\n"
     ]
    }
   ],
   "source": [
    "queryString = \"\"\"\n",
    "SELECT DISTINCT ?p ?pName WHERE { \n",
    "\n",
    "    # Connect something to Avengers Infinity War\n",
    "    wd:Q23780914 ?p ?o.\n",
    "    \n",
    "    # This returns the labels\n",
    "    ?p <http://schema.org/name> ?pName .\n",
    "    \n",
    "    # I use a regex to search a property that contains the word \"date\"\n",
    "    FILTER(REGEX(?pName, \"date\"))\n",
    "}\n",
    "\"\"\"\n",
    "\n",
    "print(\"Results\")\n",
    "x = run_query(queryString)"
   ]
  },
  {
   "cell_type": "markdown",
   "id": "bd880cf4-f0cd-4a3c-8fa5-0b8235c96a17",
   "metadata": {},
   "source": [
    "So to retrieve the publication date of a ***film (wd:Q11424)***, I can use the property ***publication date (wdt:P577)***.\n",
    "\n",
    "Now I can finally answer to the initial question: who is the actor who acted in more films while working on ***\"How I met your mother\" (wd:Q147235)***."
   ]
  },
  {
   "cell_type": "code",
   "execution_count": 22,
   "id": "1f6ff845-a1c4-468f-9280-6d98c31a8787",
   "metadata": {},
   "outputs": [
    {
     "name": "stdout",
     "output_type": "stream",
     "text": [
      "Results\n",
      "[('actor', 'http://www.wikidata.org/entity/Q192165'), ('actorName', 'Danny Glover'), ('numFilms', '40')]\n",
      "[('actor', 'http://www.wikidata.org/entity/Q229669'), ('actorName', 'Malin Åkerman'), ('numFilms', '21')]\n",
      "[('actor', 'http://www.wikidata.org/entity/Q469579'), ('actorName', 'Mircea Monroe'), ('numFilms', '19')]\n",
      "[('actor', 'http://www.wikidata.org/entity/Q1319539'), ('actorName', 'Thomas Lennon'), ('numFilms', '18')]\n",
      "[('actor', 'http://www.wikidata.org/entity/Q236189'), ('actorName', 'Judy Greer'), ('numFilms', '18')]\n",
      "[('actor', 'http://www.wikidata.org/entity/Q1319744'), ('actorName', 'Will Forte'), ('numFilms', '17')]\n",
      "[('actor', 'http://www.wikidata.org/entity/Q566037'), ('actorName', 'Scoot McNairy'), ('numFilms', '16')]\n",
      "[('actor', 'http://www.wikidata.org/entity/Q1189470'), ('actorName', 'Jimmi Simpson'), ('numFilms', '16')]\n",
      "[('actor', 'http://www.wikidata.org/entity/Q530646'), ('actorName', 'Ray Wise'), ('numFilms', '16')]\n",
      "[('actor', 'http://www.wikidata.org/entity/Q716936'), ('actorName', 'Joe Lo Truglio'), ('numFilms', '15')]\n",
      "10\n"
     ]
    }
   ],
   "source": [
    "queryString = \"\"\"\n",
    "SELECT ?actor ?actorName COUNT(DISTINCT ?film) AS ?numFilms WHERE { \n",
    "\n",
    "    # Retrieve all the HIMYM cast members\n",
    "    wd:Q147235 wdt:P161 ?actor .\n",
    "    \n",
    "    # Retrieve films in which actor of HIMYM acted\n",
    "    ?film  wdt:P31   wd:Q11424         ;\n",
    "           wdt:P161  ?actor            ;\n",
    "           wdt:P577  ?publicationDate  .\n",
    "    \n",
    "    # This returns the labels\n",
    "    ?actor <http://schema.org/name> ?actorName .\n",
    "    \n",
    "    # I want only films that were published while the actor was working on \"How I met your mother\".\n",
    "    FILTER (?publicationDate > \"2005-09-19\"^^xsd:date AND ?publicationDate < \"2014-03-31\"^^xsd:date )\n",
    "}\n",
    "GROUP BY ?actor ?actorName\n",
    "ORDER BY DESC(?numFilms)\n",
    "LIMIT 10\n",
    "\"\"\"\n",
    "\n",
    "print(\"Results\")\n",
    "x = run_query(queryString)"
   ]
  },
  {
   "cell_type": "markdown",
   "id": "8c042cfe-4dff-462b-9ce9-4c32c21302cb",
   "metadata": {},
   "source": [
    "Who is the actor who participated in more films after the end of the tv series ?\n",
    "\n",
    "I can use the previous query, but I consider only films published after ***\"2014-03-31\"*** ( the end date of ***\"How I met your mother\" (wd:Q147235)*** )"
   ]
  },
  {
   "cell_type": "code",
   "execution_count": 23,
   "id": "14c86559-93bc-49a0-a61f-73ffcf8fe1fc",
   "metadata": {},
   "outputs": [
    {
     "name": "stdout",
     "output_type": "stream",
     "text": [
      "Results\n",
      "[('actor', 'http://www.wikidata.org/entity/Q192165'), ('actorName', 'Danny Glover'), ('numFilms', '27')]\n",
      "[('actor', 'http://www.wikidata.org/entity/Q236189'), ('actorName', 'Judy Greer'), ('numFilms', '20')]\n",
      "[('actor', 'http://www.wikidata.org/entity/Q6382703'), ('actorName', 'Keegan-Michael Key'), ('numFilms', '17')]\n",
      "[('actor', 'http://www.wikidata.org/entity/Q1319744'), ('actorName', 'Will Forte'), ('numFilms', '15')]\n",
      "[('actor', 'http://www.wikidata.org/entity/Q362616'), ('actorName', 'Jon Bernthal'), ('numFilms', '15')]\n",
      "[('actor', 'http://www.wikidata.org/entity/Q23547'), ('actorName', 'Bryan Cranston'), ('numFilms', '14')]\n",
      "[('actor', 'http://www.wikidata.org/entity/Q566037'), ('actorName', 'Scoot McNairy'), ('numFilms', '13')]\n",
      "[('actor', 'http://www.wikidata.org/entity/Q311271'), ('actorName', 'John Lithgow'), ('numFilms', '12')]\n",
      "[('actor', 'http://www.wikidata.org/entity/Q200566'), ('actorName', 'Cobie Smulders'), ('numFilms', '11')]\n",
      "[('actor', 'http://www.wikidata.org/entity/Q888178'), ('actorName', 'Bob Odenkirk'), ('numFilms', '10')]\n",
      "10\n"
     ]
    }
   ],
   "source": [
    "queryString = \"\"\"\n",
    "SELECT ?actor ?actorName COUNT(DISTINCT ?film) AS ?numFilms WHERE { \n",
    "\n",
    "    # Retrieve all the HIMYM cast members\n",
    "    wd:Q147235 wdt:P161 ?actor .\n",
    "    \n",
    "    # Retrieve films in which actor of HIMYM acted\n",
    "    ?film  wdt:P31   wd:Q11424         ;\n",
    "           wdt:P161  ?actor            ;\n",
    "           wdt:P577  ?publicationDate  .\n",
    "    \n",
    "    # This returns the labels\n",
    "    ?actor <http://schema.org/name> ?actorName .\n",
    "    \n",
    "    # I want only films that were published after the end of \"How I met your mother\".\n",
    "    FILTER (?publicationDate > \"2014-03-31\"^^xsd:date )\n",
    "}\n",
    "GROUP BY ?actor ?actorName\n",
    "ORDER BY DESC(?numFilms)\n",
    "LIMIT 10\n",
    "\"\"\"\n",
    "\n",
    "print(\"Results\")\n",
    "x = run_query(queryString)"
   ]
  },
  {
   "cell_type": "markdown",
   "id": "59ab8b82-8452-4c12-89e5-80e0458d6c99",
   "metadata": {},
   "source": [
    "##### END TASK 3\n",
    "The actor who acted in more films while working on \"How I met your mother\" is ***Danny Glover (wd:Q192165)*** with 40 films.\n",
    "\n",
    "The actor who participated in more films after the end of the tv series is again ***Danny Glover (wd:Q192165)*** with 27 films."
   ]
  },
  {
   "cell_type": "markdown",
   "id": "daa486c1-2ca6-408a-aff8-f0fba459658e",
   "metadata": {
    "tags": []
   },
   "source": [
    "### Task 4 : Compare HIMYM with the tv series \"The Office (US)\" in terms of number of seasons, episods and cast members.\n",
    "\n",
    "To compare the number of seasons and episodes I can rely on the same query used in Task 1."
   ]
  },
  {
   "cell_type": "code",
   "execution_count": 24,
   "id": "b95a38d3-b8e2-40a4-9e3b-2f93d4d8a8a2",
   "metadata": {},
   "outputs": [
    {
     "name": "stdout",
     "output_type": "stream",
     "text": [
      "Results\n",
      "[('tv_series', 'http://www.wikidata.org/entity/Q147235'), ('name', 'How I Met Your Mother'), ('numEpisodes', '208'), ('numSeasons', '9')]\n",
      "[('tv_series', 'http://www.wikidata.org/entity/Q23831'), ('name', 'The Office'), ('numEpisodes', '201'), ('numSeasons', '9')]\n",
      "2\n"
     ]
    }
   ],
   "source": [
    "queryString = \"\"\"\n",
    "SELECT ?tv_series ?name ?numEpisodes ?numSeasons WHERE { \n",
    "    \n",
    "    VALUES ?tv_series { wd:Q147235 wd:Q23831 }\n",
    "    \n",
    "    # Retrieve numEpisodes and numSeasons\n",
    "    ?tv_series  wdt:P1113 ?numEpisodes ;\n",
    "                wdt:P2437 ?numSeasons .\n",
    "    ?tv_series sc:name ?name\n",
    "}\n",
    "GROUP BY ?tv_series ?name\n",
    "\"\"\"\n",
    "\n",
    "print(\"Results\")\n",
    "x = run_query(queryString)"
   ]
  },
  {
   "cell_type": "code",
   "execution_count": 26,
   "id": "5d0778c9-ee4a-4882-8bbc-e13d78b8efc2",
   "metadata": {},
   "outputs": [
    {
     "name": "stdout",
     "output_type": "stream",
     "text": [
      "JSON object updated\n"
     ]
    }
   ],
   "source": [
    "objs = []\n",
    "for i in x:\n",
    "    f_uri = i[0][1]\n",
    "    f_name = i[1][1]\n",
    "    seasons = i[2][1]\n",
    "    episodes = i[3][1]\n",
    "    obj = {}\n",
    "    obj[\"refers_to\"] = f_uri\n",
    "    obj[\"refers_to_name\"] = f_name\n",
    "    obj[\"check\"] = \"value\"\n",
    "    obj[\"value\"]= episodes\n",
    "    objs.append(obj)\n",
    "    obj = {}\n",
    "    obj[\"refers_to\"] = f_uri\n",
    "    obj[\"refers_to_name\"] = f_name\n",
    "    obj[\"check\"] = \"value\"\n",
    "    obj[\"value\"]= seasons\n",
    "    objs.append(obj)\n",
    "add_result(\"4\", TYPE_REFERRED ,\"value\",objs,elements_per_tuple=2)"
   ]
  },
  {
   "cell_type": "markdown",
   "id": "6d663616-4732-4b2f-a475-4f99f3f44834",
   "metadata": {},
   "source": [
    "I can also retrieve who are the actors who partecipated in the highest number of episodes in ***The Office (US) (wd:Q23831)*** using the same query used in Task 2."
   ]
  },
  {
   "cell_type": "code",
   "execution_count": 27,
   "id": "7eb09834-b7d4-4ccf-9c0f-8b6c804c4941",
   "metadata": {},
   "outputs": [
    {
     "name": "stdout",
     "output_type": "stream",
     "text": [
      "Results\n",
      "[('actor', 'http://www.wikidata.org/entity/Q349548'), ('actorName', 'Rainn Wilson'), ('numEpisodes', '1')]\n",
      "[('actor', 'http://www.wikidata.org/entity/Q72077'), ('actorName', 'Ellie Kemper'), ('numEpisodes', '1')]\n",
      "[('actor', 'http://www.wikidata.org/entity/Q238877'), ('actorName', 'Jenna Fischer'), ('numEpisodes', '1')]\n",
      "[('actor', 'http://www.wikidata.org/entity/Q926912'), ('actorName', 'Craig Robinson'), ('numEpisodes', '1')]\n",
      "[('actor', 'http://www.wikidata.org/entity/Q328790'), ('actorName', 'Ed Helms'), ('numEpisodes', '1')]\n",
      "[('actor', 'http://www.wikidata.org/entity/Q254766'), ('actorName', 'Catherine Tate'), ('numEpisodes', '1')]\n",
      "[('actor', 'http://www.wikidata.org/entity/Q313039'), ('actorName', 'John Krasinski'), ('numEpisodes', '1')]\n",
      "7\n"
     ]
    }
   ],
   "source": [
    "queryString = \"\"\"\n",
    "SELECT ?actor ?actorName COUNT(DISTINCT ?episode) AS ?numEpisodes WHERE { \n",
    "\n",
    "    # Retrieve The Office episodes \n",
    "    wd:Q23831 wdt:P527{2} ?episode .\n",
    "    \n",
    "    # Retrieve cast members\n",
    "    ?episode wdt:P161 ?actor .\n",
    "    \n",
    "    # This returns the labels\n",
    "    ?actor <http://schema.org/name> ?actorName .\n",
    "}\n",
    "GROUP BY ?actor ?actorName\n",
    "ORDER BY DESC(?numEpisodes)\n",
    "LIMIT 10\n",
    "\"\"\"\n",
    "\n",
    "print(\"Results\")\n",
    "x = run_query(queryString)"
   ]
  },
  {
   "cell_type": "markdown",
   "id": "75340c57-eb66-482e-a7ba-d3730288540e",
   "metadata": {},
   "source": [
    "The results are quite strange, because I have only one episode for each actor. \n",
    "\n",
    "I want to check if there is any problem with the first part of the query."
   ]
  },
  {
   "cell_type": "code",
   "execution_count": 28,
   "id": "464113ca-501c-40f8-9368-96b1342f5b85",
   "metadata": {},
   "outputs": [
    {
     "name": "stdout",
     "output_type": "stream",
     "text": [
      "Results\n",
      "[('episode', 'http://www.wikidata.org/entity/Q50379836'), ('episodeName', 'Classy Christmas (part 1)')]\n",
      "[('episode', 'http://www.wikidata.org/entity/Q50379837'), ('episodeName', 'Classy Christmas (part 2)')]\n",
      "[('episode', 'http://www.wikidata.org/entity/Q5099551'), ('episodeName', 'China')]\n",
      "[('episode', 'http://www.wikidata.org/entity/Q5178024'), ('episodeName', 'Couples Discount')]\n",
      "[('episode', 'http://www.wikidata.org/entity/Q6927074'), ('episodeName', 'Moving On')]\n",
      "[('episode', 'http://www.wikidata.org/entity/Q7880294'), ('episodeName', 'Ultimatum')]\n",
      "[('episode', 'http://www.wikidata.org/entity/Q7914333'), ('episodeName', 'Vandalism')]\n",
      "[('episode', 'http://www.wikidata.org/entity/Q4838397'), ('episodeName', 'Baby Shower')]\n",
      "[('episode', 'http://www.wikidata.org/entity/Q5001718'), ('episodeName', 'Business Ethics')]\n",
      "[('episode', 'http://www.wikidata.org/entity/Q5185169'), ('episodeName', 'Crime Aid')]\n",
      "10\n"
     ]
    }
   ],
   "source": [
    "queryString = \"\"\"\n",
    "SELECT ?episode ?episodeName WHERE { \n",
    "\n",
    "    # Retrieve The Office episodes \n",
    "    wd:Q23831 wdt:P527{2} ?episode .\n",
    "    \n",
    "    # This returns the labels\n",
    "    ?episode <http://schema.org/name> ?episodeName .\n",
    "}\n",
    "LIMIT 10\n",
    "\"\"\"\n",
    "\n",
    "print(\"Results\")\n",
    "x = run_query(queryString)"
   ]
  },
  {
   "cell_type": "markdown",
   "id": "b219899a-1086-405e-9e2e-eea995a3b505",
   "metadata": {},
   "source": [
    "The episodes are retrieved correctly.\n",
    "\n",
    "Maybe there is a problem with the property ***cast member (wdt:P161)***. I show all the properties of a single episode: ***Ultimatum (wd:Q7880294)***"
   ]
  },
  {
   "cell_type": "code",
   "execution_count": 29,
   "id": "f92aa1f2-f80d-432f-9777-380a14ea66c0",
   "metadata": {},
   "outputs": [
    {
     "name": "stdout",
     "output_type": "stream",
     "text": [
      "Results\n",
      "[('p', 'http://www.wikidata.org/prop/direct/P495'), ('pName', 'country of origin'), ('o', 'http://www.wikidata.org/entity/Q30'), ('oName', 'United States of America')]\n",
      "[('p', 'http://www.wikidata.org/prop/direct/P57'), ('pName', 'director'), ('o', 'http://www.wikidata.org/entity/Q5239168'), ('oName', 'David Rogers')]\n",
      "[('p', 'http://www.wikidata.org/prop/direct/P750'), ('pName', 'distributed by'), ('o', 'http://www.wikidata.org/entity/Q5371838'), ('oName', 'Vudu')]\n",
      "[('p', 'http://www.wikidata.org/prop/direct/P437'), ('pName', 'distribution format'), ('o', 'http://www.wikidata.org/entity/Q723685'), ('oName', 'video on demand')]\n",
      "[('p', 'http://www.wikidata.org/prop/direct/P156'), ('pName', 'followed by'), ('o', 'http://www.wikidata.org/entity/Q7763280'), ('oName', 'The Seminar')]\n",
      "[('p', 'http://www.wikidata.org/prop/direct/P155'), ('pName', 'follows'), ('o', 'http://www.wikidata.org/entity/Q5128465'), ('oName', 'Classy Christmas')]\n",
      "[('p', 'http://www.wikidata.org/prop/direct/P31'), ('pName', 'instance of'), ('o', 'http://www.wikidata.org/entity/Q21191270'), ('oName', 'television series episode')]\n",
      "[('p', 'http://www.wikidata.org/prop/direct/P364'), ('pName', 'original language of film or TV show'), ('o', 'http://www.wikidata.org/entity/Q1860'), ('oName', 'English')]\n",
      "[('p', 'http://www.wikidata.org/prop/direct/P179'), ('pName', 'part of the series'), ('o', 'http://www.wikidata.org/entity/Q23831'), ('oName', 'The Office')]\n",
      "[('p', 'http://www.wikidata.org/prop/direct/P58'), ('pName', 'screenwriter'), ('o', 'http://www.wikidata.org/entity/Q5046253'), ('oName', 'Carrie Kemper')]\n",
      "[('p', 'http://www.wikidata.org/prop/direct/P4908'), ('pName', 'season'), ('o', 'http://www.wikidata.org/entity/Q3730263'), ('oName', 'The Office, season 7')]\n",
      "[('p', 'http://www.wikidata.org/prop/direct/P9215'), ('pName', 'set during recurring event'), ('o', 'http://www.wikidata.org/entity/Q34812'), ('oName', 'New Year')]\n",
      "12\n"
     ]
    }
   ],
   "source": [
    "queryString = \"\"\"\n",
    "SELECT ?p ?pName ?o ?oName WHERE { \n",
    "\n",
    "    # Connecting Ultimatum to something\n",
    "    wd:Q7880294  ?p  ?o .\n",
    "    \n",
    "    # This returns the labels\n",
    "    ?p <http://schema.org/name> ?pName .\n",
    "    ?o <http://schema.org/name> ?oName .\n",
    "}\n",
    "ORDER BY ?pName\n",
    "\"\"\"\n",
    "\n",
    "print(\"Results\")\n",
    "x = run_query(queryString)"
   ]
  },
  {
   "cell_type": "markdown",
   "id": "d7ca88a0-31b7-4b2a-a98e-4e36e4ddcc01",
   "metadata": {},
   "source": [
    "Ok so the episodes of ***The Office (US) (wd:Q23831)*** do not have the property ***cast member (wdt:P161)*** as for HIMYM episodes.\n",
    "\n",
    "The only way to retrieve the actors of the TV series, is using ***cast member (wdt:P161)*** directly on the TV Series ( ***The Office (US) (wd:Q23831)*** )."
   ]
  },
  {
   "cell_type": "code",
   "execution_count": 30,
   "id": "129db81f-46ea-4d88-a2ae-9073fc4983a9",
   "metadata": {},
   "outputs": [
    {
     "name": "stdout",
     "output_type": "stream",
     "text": [
      "Results\n",
      "[('actor', 'http://www.wikidata.org/entity/Q1050211'), ('actorName', 'Leslie David Baker')]\n",
      "[('actor', 'http://www.wikidata.org/entity/Q1139248'), ('actorName', 'Oscar Nunez')]\n",
      "[('actor', 'http://www.wikidata.org/entity/Q216221'), ('actorName', 'Steve Carell')]\n",
      "[('actor', 'http://www.wikidata.org/entity/Q2238008'), ('actorName', 'Creed Bratton')]\n",
      "[('actor', 'http://www.wikidata.org/entity/Q231203'), ('actorName', 'Amy Ryan')]\n",
      "[('actor', 'http://www.wikidata.org/entity/Q238877'), ('actorName', 'Jenna Fischer')]\n",
      "[('actor', 'http://www.wikidata.org/entity/Q254766'), ('actorName', 'Catherine Tate')]\n",
      "[('actor', 'http://www.wikidata.org/entity/Q2669971'), ('actorName', 'Angela Kinsey')]\n",
      "[('actor', 'http://www.wikidata.org/entity/Q2671438'), ('actorName', 'Paul Lieberstein')]\n",
      "[('actor', 'http://www.wikidata.org/entity/Q269901'), ('actorName', 'Melora Hardin')]\n",
      "[('actor', 'http://www.wikidata.org/entity/Q2924850'), ('actorName', 'Brian Baumgartner')]\n",
      "[('actor', 'http://www.wikidata.org/entity/Q296928'), ('actorName', 'James Spader')]\n",
      "[('actor', 'http://www.wikidata.org/entity/Q3028200'), ('actorName', 'Kate Flannery')]\n",
      "[('actor', 'http://www.wikidata.org/entity/Q313039'), ('actorName', 'John Krasinski')]\n",
      "[('actor', 'http://www.wikidata.org/entity/Q328790'), ('actorName', 'Ed Helms')]\n",
      "[('actor', 'http://www.wikidata.org/entity/Q349548'), ('actorName', 'Rainn Wilson')]\n",
      "[('actor', 'http://www.wikidata.org/entity/Q459925'), ('actorName', 'B. J. Novak')]\n",
      "[('actor', 'http://www.wikidata.org/entity/Q508280'), ('actorName', 'Phyllis Smith')]\n",
      "[('actor', 'http://www.wikidata.org/entity/Q512818'), ('actorName', 'Clark Duke')]\n",
      "[('actor', 'http://www.wikidata.org/entity/Q539917'), ('actorName', 'Mindy Kaling')]\n",
      "[('actor', 'http://www.wikidata.org/entity/Q6124807'), ('actorName', 'Jake Lacy')]\n",
      "[('actor', 'http://www.wikidata.org/entity/Q64560'), ('actorName', 'David Denman')]\n",
      "[('actor', 'http://www.wikidata.org/entity/Q72077'), ('actorName', 'Ellie Kemper')]\n",
      "[('actor', 'http://www.wikidata.org/entity/Q8063863'), ('actorName', 'Zach Woods')]\n",
      "[('actor', 'http://www.wikidata.org/entity/Q926912'), ('actorName', 'Craig Robinson')]\n",
      "25\n"
     ]
    }
   ],
   "source": [
    "queryString = \"\"\"\n",
    "SELECT DISTINCT ?actor ?actorName WHERE { \n",
    "\n",
    "    # Retrieve The Office episodes \n",
    "    wd:Q23831 wdt:P161 ?actor .\n",
    "    \n",
    "    # This returns the labels\n",
    "    ?actor <http://schema.org/name> ?actorName .\n",
    "}\n",
    "\"\"\"\n",
    "\n",
    "print(\"Results\")\n",
    "x = run_query(queryString)"
   ]
  },
  {
   "cell_type": "markdown",
   "id": "e0db6723-8e89-48eb-81f9-cfab34239cc0",
   "metadata": {},
   "source": [
    "I want to check which TV series has the largest cast between ***The Office (US) (wd:Q23831)*** and ***\"How I met your mother\" (wd:Q147235)***."
   ]
  },
  {
   "cell_type": "code",
   "execution_count": 31,
   "id": "e02f2b8a-bb2a-4607-9253-885e5baf9213",
   "metadata": {},
   "outputs": [
    {
     "name": "stdout",
     "output_type": "stream",
     "text": [
      "Results\n",
      "[('tv_series', 'http://www.wikidata.org/entity/Q147235'), ('name', 'How I Met Your Mother'), ('numActors', '480')]\n",
      "[('tv_series', 'http://www.wikidata.org/entity/Q23831'), ('name', 'The Office'), ('numActors', '25')]\n",
      "2\n"
     ]
    }
   ],
   "source": [
    "queryString = \"\"\"\n",
    "SELECT ?tv_series ?name (COUNT(DISTINCT ?actor) AS ?numActors) WHERE { \n",
    "    \n",
    "    VALUES ?tv_series { wd:Q147235 wd:Q23831 }\n",
    "\n",
    "    # Retrieve actors\n",
    "    ?tv_series wdt:P161 ?actor .\n",
    "        \n",
    "    ?tv_series sc:name ?name.\n",
    "}\n",
    "GROUP BY ?tv_series ?name\n",
    "\"\"\"\n",
    "\n",
    "print(\"Results\")\n",
    "x = run_query(queryString)"
   ]
  },
  {
   "cell_type": "markdown",
   "id": "b63222f7-5d18-43f5-b17f-debc9d16d0f3",
   "metadata": {},
   "source": [
    "I can also check if there are actors who partecipated both in ***The Office (US) (wd:Q23831)*** and ***\"How I met your mother\" (wd:Q147235)***."
   ]
  },
  {
   "cell_type": "code",
   "execution_count": 32,
   "id": "b0cef2fa-a5d2-4fe4-9052-4119a978884b",
   "metadata": {},
   "outputs": [
    {
     "name": "stdout",
     "output_type": "stream",
     "text": [
      "Results\n",
      "Empty\n"
     ]
    }
   ],
   "source": [
    "queryString = \"\"\"\n",
    "SELECT ?actor WHERE { \n",
    "\n",
    "    # Retrieve HIMYM actors\n",
    "    wd:Q147235  wdt:P161 ?actor .\n",
    "    \n",
    "    # Retrieve The Office actors\n",
    "    wd:Q23831   wdt:P161 ?actor .\n",
    "    \n",
    "    # This returns the labels\n",
    "    ?actor <http://schema.org/name> ?actorName .\n",
    "}\n",
    "\"\"\"\n",
    "\n",
    "print(\"Results\")\n",
    "x = run_query(queryString)"
   ]
  },
  {
   "cell_type": "markdown",
   "id": "0f3d119c-08bc-48e7-b92b-0b34d2daf258",
   "metadata": {},
   "source": [
    "The are no common actors between the two TV series."
   ]
  },
  {
   "cell_type": "markdown",
   "id": "befdd43b-1c22-4191-9176-e910158535d9",
   "metadata": {},
   "source": [
    "##### END TASK 4:\n",
    "Both ***\"How I met your mother\" (wd:Q147235)*** and ***The Office (US) (wd:Q23831)*** have nine season but HIMYM has 208 episodes while \"The Office\" has 201 episodes.\n",
    "\n",
    "In ***\"How I met your mother\" (wd:Q147235)*** there are 480 actors, while in ***The Office (US) (wd:Q23831)*** only 25. \n",
    "\n",
    "Moreover, it is not possibile to determine who are the most present actors in ***The Office (US) (wd:Q23831)***, since the episodes of this TV series do not have the property ***cast member (wdt:P161)***.\n",
    "\n",
    "Finally, I discovered that there are no common actors between ***\"How I met your mother\" (wd:Q147235)*** and ***The Office (US) (wd:Q23831)***."
   ]
  },
  {
   "cell_type": "markdown",
   "id": "2fc4a49c-02dd-4d88-8162-3fa0b16bce66",
   "metadata": {},
   "source": [
    "### Task 5 : Return how many of the actors who are members of the cast of the tv series have [Kavin Bacon number](https://en.wikipedia.org/wiki/Six_Degrees_of_Kevin_Bacon#:~:text=Kevin%20Bacon%20himself%20has%20a,Bacon%20number%20is%20N%2B1.) equal to 2\n",
    "\n",
    "The Bacon number of an actor is the number of degrees of separation he or she has from Kevin Bacon. So, first af all, I need to retrieve Kevin Bacon.\n",
    "\n",
    "To do this, I can use a ***REGEX*** on the surname connect through the property ***family name (wdt:P734)*** discovered in a previous query."
   ]
  },
  {
   "cell_type": "code",
   "execution_count": 33,
   "id": "e9630f4f-6f37-42f5-9f2b-80d36cd52357",
   "metadata": {},
   "outputs": [
    {
     "name": "stdout",
     "output_type": "stream",
     "text": [
      "Results\n",
      "[('person', 'http://www.wikidata.org/entity/Q3102228'), ('personName', 'Georges Baconnet'), ('personSurname', 'Baconnet')]\n",
      "[('person', 'http://www.wikidata.org/entity/Q3116093'), ('personName', 'Irving Bacon'), ('personSurname', 'Bacon')]\n",
      "[('person', 'http://www.wikidata.org/entity/Q503597'), ('personName', 'James Bacon'), ('personSurname', 'Bacon')]\n",
      "[('person', 'http://www.wikidata.org/entity/Q3454165'), ('personName', 'Kevin Bacon'), ('personSurname', 'Bacon')]\n",
      "[('person', 'http://www.wikidata.org/entity/Q3491343'), ('personName', 'Sosie Bacon'), ('personSurname', 'Bacon')]\n",
      "[('person', 'http://www.wikidata.org/entity/Q3992438'), ('personName', 'Tom Bacon'), ('personSurname', 'Bacon')]\n",
      "[('person', 'http://www.wikidata.org/entity/Q706678'), ('personName', 'Lloyd Bacon'), ('personSurname', 'Bacon')]\n",
      "[('person', 'http://www.wikidata.org/entity/Q65116263'), ('personName', 'Marco Bacon'), ('personSurname', 'Bacon')]\n",
      "[('person', 'http://www.wikidata.org/entity/Q5216474'), ('personName', 'Daniel Bacon'), ('personSurname', 'Bacon')]\n",
      "[('person', 'http://www.wikidata.org/entity/Q16031668'), ('personName', 'Frank Bacon'), ('personSurname', 'Bacon')]\n",
      "[('person', 'http://www.wikidata.org/entity/Q21483293'), ('personName', 'Georges Baconnier'), ('personSurname', 'Baconnier')]\n",
      "[('person', 'http://www.wikidata.org/entity/Q608866'), ('personName', 'Nicholas Bacon'), ('personSurname', 'Bacon')]\n",
      "[('person', 'http://www.wikidata.org/entity/Q154340'), ('personName', 'Francis Bacon'), ('personSurname', 'Bacon')]\n",
      "[('person', 'http://www.wikidata.org/entity/Q5231033'), ('personName', 'David Bacon'), ('personSurname', 'Bacon')]\n",
      "[('person', 'http://www.wikidata.org/entity/Q3186649'), ('personName', 'Joséphine Bacon'), ('personSurname', 'Bacon')]\n",
      "15\n"
     ]
    }
   ],
   "source": [
    "queryString = \"\"\"\n",
    "SELECT DISTINCT ?person ?personName ?personSurname WHERE { \n",
    "\n",
    "    # Retrieve surname of a person using the property family name\n",
    "    ?person wdt:P734 ?surname .\n",
    "    \n",
    "    # This returns the labels\n",
    "    ?person <http://schema.org/name> ?personName .\n",
    "    ?surname <http://schema.org/name> ?personSurname .\n",
    "\n",
    "    # Since Kevin Bacon is an actor, he probably acted in a film.\n",
    "    FILTER EXISTS{\n",
    "        ?film   wdt:P31   wd:Q11424 ;\n",
    "                wdt:P161  ?person   .             \n",
    "    }\n",
    "    \n",
    "    # I use a regex to search for a surname that contains the word \"Bacon\"\n",
    "    FILTER(REGEX(?personSurname, \"Bacon\"))\n",
    "    \n",
    "}\n",
    "LIMIT 10\n",
    "\"\"\"\n",
    "\n",
    "print(\"Results\")\n",
    "x = run_query(queryString)"
   ]
  },
  {
   "cell_type": "markdown",
   "id": "4fed5784-c348-4d49-ab9b-1d13e9331364",
   "metadata": {},
   "source": [
    "I have ***Kevin Bacon (wd:Q3454165)***. Now I can retrieve all the cast members of ***\"How I met your mother\" (wd:Q147235)*** with Kevin Bacon number equal to 2.\n",
    "\n",
    "First, I start with cast members that have a Kevin Bacon Number equal to 1."
   ]
  },
  {
   "cell_type": "code",
   "execution_count": 34,
   "id": "5b03fbec-9a73-488d-a36c-baa4f2c62cb5",
   "metadata": {},
   "outputs": [
    {
     "name": "stdout",
     "output_type": "stream",
     "text": [
      "Results\n",
      "[('actor', 'http://www.wikidata.org/entity/Q269891'), ('actorName', 'Julianna Guill'), ('film', 'http://www.wikidata.org/entity/Q519490'), ('filmName', 'Crazy, Stupid, Love.')]\n",
      "[('actor', 'http://www.wikidata.org/entity/Q312705'), ('actorName', 'John Cho'), ('film', 'http://www.wikidata.org/entity/Q370893'), ('filmName', 'The Air I Breathe')]\n",
      "[('actor', 'http://www.wikidata.org/entity/Q234715'), ('actorName', 'Jamie-Lynn Sigler'), ('film', 'http://www.wikidata.org/entity/Q16167570'), ('filmName', 'Skum Rocks!')]\n",
      "[('actor', 'http://www.wikidata.org/entity/Q311271'), ('actorName', 'John Lithgow'), ('film', 'http://www.wikidata.org/entity/Q627533'), ('filmName', 'Footloose')]\n",
      "[('actor', 'http://www.wikidata.org/entity/Q234137'), ('actorName', 'Megan Mullally'), ('film', 'http://www.wikidata.org/entity/Q1476932'), ('filmName', 'Queens Logic')]\n",
      "[('actor', 'http://www.wikidata.org/entity/Q530646'), ('actorName', 'Ray Wise'), ('film', 'http://www.wikidata.org/entity/Q223596'), ('filmName', 'X-Men: First Class')]\n",
      "[('actor', 'http://www.wikidata.org/entity/Q199929'), ('actorName', 'Jennifer Morrison'), ('film', 'http://www.wikidata.org/entity/Q975358'), ('filmName', 'Stir of Echoes')]\n",
      "[('actor', 'http://www.wikidata.org/entity/Q199929'), ('actorName', 'Jennifer Morrison'), ('film', 'http://www.wikidata.org/entity/Q17508638'), ('filmName', 'The Darkness')]\n",
      "[('actor', 'http://www.wikidata.org/entity/Q433355'), ('actorName', 'Patricia Belcher'), ('film', 'http://www.wikidata.org/entity/Q514348'), ('filmName', 'Flatliners')]\n",
      "[('actor', 'http://www.wikidata.org/entity/Q234514'), ('actorName', 'Camryn Manheim'), ('film', 'http://www.wikidata.org/entity/Q19824612'), ('filmName', 'Cop Car')]\n",
      "[('actor', 'http://www.wikidata.org/entity/Q362616'), ('actorName', 'Jon Bernthal'), ('film', 'http://www.wikidata.org/entity/Q370893'), ('filmName', 'The Air I Breathe')]\n",
      "[('actor', 'http://www.wikidata.org/entity/Q329744'), ('actorName', 'Martin Short'), ('film', 'http://www.wikidata.org/entity/Q339045'), ('filmName', 'The Big Picture')]\n",
      "[('actor', 'http://www.wikidata.org/entity/Q5357354'), ('actorName', 'Todd Stashwick'), ('film', 'http://www.wikidata.org/entity/Q370893'), ('filmName', 'The Air I Breathe')]\n",
      "[('actor', 'http://www.wikidata.org/entity/Q782662'), ('actorName', 'Michael Gross'), ('film', 'http://www.wikidata.org/entity/Q835650'), ('filmName', 'Tremors')]\n",
      "[('actor', 'http://www.wikidata.org/entity/Q268549'), ('actorName', 'Sherri Shepherd'), ('film', 'http://www.wikidata.org/entity/Q813464'), ('filmName', 'Beauty Shop')]\n",
      "[('actor', 'http://www.wikidata.org/entity/Q1120700'), ('actorName', 'Orson Bean'), ('film', 'http://www.wikidata.org/entity/Q3005459'), ('filmName', 'Forty Deuce')]\n",
      "[('actor', 'http://www.wikidata.org/entity/Q1976946'), ('actorName', 'Rachel Specter'), ('film', 'http://www.wikidata.org/entity/Q990987'), ('filmName', 'My One and Only')]\n",
      "17\n"
     ]
    }
   ],
   "source": [
    "queryString = \"\"\"\n",
    "SELECT ?actor ?actorName ?film ?filmName WHERE { \n",
    "\n",
    "    # Retrieve HIMYM actors\n",
    "    wd:Q147235 wdt:P161 ?actor .\n",
    "    \n",
    "    # Ensure that the actor and Kevin Bacon worked together\n",
    "    ?film wdt:P161 ?actor      ;\n",
    "          wdt:P161 wd:Q3454165 .\n",
    "    \n",
    "    # This returns the labels\n",
    "    ?actor <http://schema.org/name> ?actorName .\n",
    "    ?film <http://schema.org/name> ?filmName .\n",
    "}\n",
    "\"\"\"\n",
    "\n",
    "print(\"Results\")\n",
    "x = run_query(queryString)"
   ]
  },
  {
   "cell_type": "markdown",
   "id": "aa3416af-09a5-43fd-96bf-a9513a455248",
   "metadata": {},
   "source": [
    "Now I want only cast members of ***\"How I met your mother\" (wd:Q147235)*** that have a Kevin Bacon Number equal to 2."
   ]
  },
  {
   "cell_type": "code",
   "execution_count": 35,
   "id": "b9a6937e-2ae8-4584-ab68-161c58d3132e",
   "metadata": {},
   "outputs": [
    {
     "name": "stdout",
     "output_type": "stream",
     "text": [
      "Results\n",
      "[('actor', 'http://www.wikidata.org/entity/Q469579'), ('actorName', 'Mircea Monroe')]\n",
      "[('actor', 'http://www.wikidata.org/entity/Q516659'), ('actorName', 'Virginia Williams')]\n",
      "[('actor', 'http://www.wikidata.org/entity/Q522856'), ('actorName', 'Kate Micucci')]\n",
      "[('actor', 'http://www.wikidata.org/entity/Q929985'), ('actorName', 'Alex Trebek')]\n",
      "[('actor', 'http://www.wikidata.org/entity/Q260184'), ('actorName', 'Eva Amurri')]\n",
      "[('actor', 'http://www.wikidata.org/entity/Q444480'), ('actorName', 'Elizabeth Bogush')]\n",
      "[('actor', 'http://www.wikidata.org/entity/Q309900'), ('actorName', 'Peter Gallagher')]\n",
      "[('actor', 'http://www.wikidata.org/entity/Q231006'), ('actorName', 'Jayma Mays')]\n",
      "[('actor', 'http://www.wikidata.org/entity/Q3045427'), ('actorName', 'George Cheung')]\n",
      "[('actor', 'http://www.wikidata.org/entity/Q1992967'), ('actorName', 'John Getz')]\n",
      "[('actor', 'http://www.wikidata.org/entity/Q454698'), ('actorName', 'Darcy Rose Byrnes')]\n",
      "[('actor', 'http://www.wikidata.org/entity/Q310322'), ('actorName', 'Will Sasso')]\n",
      "[('actor', 'http://www.wikidata.org/entity/Q566037'), ('actorName', 'Scoot McNairy')]\n",
      "[('actor', 'http://www.wikidata.org/entity/Q450496'), ('actorName', 'Alyssa Shafer')]\n",
      "[('actor', 'http://www.wikidata.org/entity/Q171567'), ('actorName', 'Laura Prepon')]\n",
      "[('actor', 'http://www.wikidata.org/entity/Q220536'), ('actorName', 'Kal Penn')]\n",
      "[('actor', 'http://www.wikidata.org/entity/Q27322'), ('actorName', 'Jason Lewis')]\n",
      "[('actor', 'http://www.wikidata.org/entity/Q16149506'), ('actorName', 'Charlene Amoia')]\n",
      "[('actor', 'http://www.wikidata.org/entity/Q236189'), ('actorName', 'Judy Greer')]\n",
      "[('actor', 'http://www.wikidata.org/entity/Q2842824'), ('actorName', 'America Olivo')]\n",
      "[('actor', 'http://www.wikidata.org/entity/Q298777'), ('actorName', 'Michael York')]\n",
      "[('actor', 'http://www.wikidata.org/entity/Q429619'), ('actorName', 'Valerie Azlynn')]\n",
      "[('actor', 'http://www.wikidata.org/entity/Q470005'), ('actorName', 'Joe Manganiello')]\n",
      "[('actor', 'http://www.wikidata.org/entity/Q471128'), ('actorName', 'Chi McBride')]\n",
      "[('actor', 'http://www.wikidata.org/entity/Q5334589'), ('actorName', 'Ed Brigadier')]\n",
      "[('actor', 'http://www.wikidata.org/entity/Q1150316'), ('actorName', 'Anna Camp')]\n",
      "[('actor', 'http://www.wikidata.org/entity/Q236918'), ('actorName', 'Anne Dudek')]\n",
      "[('actor', 'http://www.wikidata.org/entity/Q186757'), ('actorName', 'Seth Green')]\n",
      "[('actor', 'http://www.wikidata.org/entity/Q229914'), ('actorName', 'Lyndsy Fonseca')]\n",
      "[('actor', 'http://www.wikidata.org/entity/Q3936377'), ('actorName', 'Nate Torrence')]\n",
      "30\n"
     ]
    }
   ],
   "source": [
    "queryString = \"\"\"\n",
    "SELECT DISTINCT ?actor ?actorName WHERE { \n",
    "\n",
    "    # Retrieve HIMYM actors\n",
    "    wd:Q147235 wdt:P161 ?actor .\n",
    "    \n",
    "    # Ensure that the actor and worked together with another actor \"in the middle\"\n",
    "    ?filmMiddle wdt:P161 ?actor       ;\n",
    "                wdt:P161 ?actorMiddle .\n",
    "    \n",
    "    # Ensure that the actor \"in the middle\" worked with Kevin Bacon\n",
    "    ?film       wdt:P161 ?actorMiddle  ;\n",
    "                wdt:P161 wd:Q3454165 .\n",
    "    \n",
    "    # Ensure that the \"first\" actor and Kevin Bacon did not worked together\n",
    "    FILTER NOT EXISTS{\n",
    "        ?film3 wdt:P161 ?actor      ;\n",
    "               wdt:P161 wd:Q3454165 .\n",
    "    }\n",
    "    \n",
    "    # This returns the labels\n",
    "    ?actor <http://schema.org/name> ?actorName .\n",
    "}\n",
    "LIMIT 30\n",
    "\"\"\"\n",
    "\n",
    "print(\"Results\")\n",
    "x = run_query(queryString)"
   ]
  },
  {
   "cell_type": "code",
   "execution_count": 36,
   "id": "c4c83dd5-51f8-4bbd-9dc7-7b490825462b",
   "metadata": {},
   "outputs": [
    {
     "name": "stdout",
     "output_type": "stream",
     "text": [
      "Results\n",
      "[('callret-0', '464')]\n",
      "1\n"
     ]
    }
   ],
   "source": [
    "queryString = \"\"\"\n",
    "SELECT COUNT(DISTINCT ?actor) WHERE { \n",
    "\n",
    "    # Retrieve HIMYM actors\n",
    "    wd:Q147235 wdt:P161 ?actor .\n",
    "    \n",
    "    # Ensure that the actor and worked together with another actor \"in the middle\"\n",
    "    ?filmMiddle wdt:P161 ?actor       ;\n",
    "                wdt:P161 ?actorMiddle .\n",
    "    \n",
    "    # Ensure that the actor \"in the middle\" worked with Kevin Bacon\n",
    "    ?film       wdt:P161 ?actorMiddle  ;\n",
    "                wdt:P161 wd:Q3454165 .\n",
    "    \n",
    "    # Ensure that the \"first\" actor and Kevin Bacon did not worked together\n",
    "    FILTER NOT EXISTS{\n",
    "        ?film3 wdt:P161 ?actor      ;\n",
    "               wdt:P161 wd:Q3454165 .\n",
    "    }\n",
    "    \n",
    "    # This returns the labels\n",
    "    ?actor <http://schema.org/name> ?actorName .\n",
    "}\n",
    "\"\"\"\n",
    "\n",
    "print(\"Results\")\n",
    "x = run_query(queryString)\n"
   ]
  },
  {
   "cell_type": "code",
   "execution_count": 37,
   "id": "9ec6bc2e-3f05-44c1-a755-b7df170a7dff",
   "metadata": {},
   "outputs": [
    {
     "name": "stdout",
     "output_type": "stream",
     "text": [
      "JSON object updated\n"
     ]
    }
   ],
   "source": [
    "add_result(\"5\", TYPE_SINGLE ,\"values\",[{\"value\":464}])"
   ]
  },
  {
   "cell_type": "markdown",
   "id": "090d1220-b7d9-4008-b635-77e32e69384b",
   "metadata": {},
   "source": [
    "There are 464 actors who partecipated to ***\"How I met your mother\" (wd:Q147235)*** with Kevin Bacon Number equals to 2.\n",
    "\n",
    "I can also show how a cast member of ***\"How I met your mother\" (wd:Q147235)***  with Kevin Bacon Number equal to 2 is connected to ***Kevin Bacon (wd:Q3454165)***."
   ]
  },
  {
   "cell_type": "code",
   "execution_count": 38,
   "id": "a05868de-ea3d-4b1e-91b3-ae7c5b16ee73",
   "metadata": {},
   "outputs": [
    {
     "name": "stdout",
     "output_type": "stream",
     "text": [
      "Results\n",
      "[('actorName', 'John Getz'), ('filmMiddleName', 'Halt and Catch Fire'), ('actorMiddleName', \"Mark O'Brien\"), ('filmName', 'City on a Hill')]\n",
      "1\n"
     ]
    }
   ],
   "source": [
    "queryString = \"\"\"\n",
    "SELECT DISTINCT ?actorName ?filmMiddleName ?actorMiddleName ?filmName WHERE { \n",
    "\n",
    "    # Retrieve HIMYM actors\n",
    "    wd:Q147235 wdt:P161 ?actor .\n",
    "    \n",
    "    # Ensure that the actor and worked together with another actor \"in the middle\"\n",
    "    ?filmMiddle wdt:P161 ?actor       ;\n",
    "                wdt:P161 ?actorMiddle .\n",
    "    \n",
    "    # Ensure that the actor \"in the middle\" worked with Kevin Bacon\n",
    "    ?film       wdt:P161 ?actorMiddle  ;\n",
    "                wdt:P161 wd:Q3454165 .\n",
    "    \n",
    "    # Ensure that the \"first\" actor and Kevin Bacon did not worked together\n",
    "    FILTER NOT EXISTS{\n",
    "        ?film3 wdt:P161 ?actor      ;\n",
    "               wdt:P161 wd:Q3454165 .\n",
    "    }\n",
    "    \n",
    "    # This returns the labels\n",
    "    ?actor <http://schema.org/name> ?actorName .\n",
    "    ?film <http://schema.org/name> ?filmName .\n",
    "    ?actorMiddle <http://schema.org/name> ?actorMiddleName .\n",
    "    ?filmMiddle <http://schema.org/name> ?filmMiddleName .\n",
    "}\n",
    "LIMIT 1\n",
    "\"\"\"\n",
    "\n",
    "print(\"Results\")\n",
    "x = run_query(queryString)"
   ]
  },
  {
   "cell_type": "markdown",
   "id": "8df94a5d-1612-4706-937b-e445aab190f8",
   "metadata": {},
   "source": [
    "For example, in this case\n",
    "* ***John Getz*** acted in HIMYM\n",
    "* ***John Getz*** worked with ***Mark O'Brien*** in ***Halt and Catch Fire***\n",
    "* ***Mark O'Brien*** worked with ***Kevin Bacon*** in ***City on a Hill***\n",
    "\n",
    "So ***John Getz*** has a Kevin Bacon Number equal to 2."
   ]
  },
  {
   "cell_type": "markdown",
   "id": "41e9d9b3-bb68-4b86-8776-eec70971dcf9",
   "metadata": {},
   "source": [
    "##### END TASK 5:\n",
    "I discovered that there are 464 out of 480 cast members of ***\"How I met your mother\" (wd:Q147235)*** with Kevin Bacon Number equals to 2."
   ]
  },
  {
   "cell_type": "code",
   "execution_count": null,
   "id": "e7578cbc-26a1-4c94-bf9f-bb32782715ef",
   "metadata": {},
   "outputs": [],
   "source": []
  }
 ],
 "metadata": {
  "kernelspec": {
   "display_name": "Python 3",
   "language": "python",
   "name": "python3"
  },
  "language_info": {
   "codemirror_mode": {
    "name": "ipython",
    "version": 3
   },
   "file_extension": ".py",
   "mimetype": "text/x-python",
   "name": "python",
   "nbconvert_exporter": "python",
   "pygments_lexer": "ipython3",
   "version": "3.7.10"
  }
 },
 "nbformat": 4,
 "nbformat_minor": 5
}
