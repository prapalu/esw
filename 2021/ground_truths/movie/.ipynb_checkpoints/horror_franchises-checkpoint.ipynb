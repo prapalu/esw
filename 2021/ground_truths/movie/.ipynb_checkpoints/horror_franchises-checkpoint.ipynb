{
 "cells": [
  {
   "cell_type": "markdown",
   "id": "7034c3bf-6eb0-4418-8687-7b9d2a501103",
   "metadata": {},
   "source": [
    "# General instructions\n",
    "\n",
    "The goal of the project is to materialize a set of **exploratory workloads** over a real-world, large-scale,  open-domain KG: [WikiData](https://www.wikidata.org/wiki/Wikidata:Main_Page)\n",
    "\n",
    "An exploratory workload  is composed by a set of queries, where each query is related to the information obtained previously.\n",
    "\n",
    "An exploratory workload starts with a usually vague, open ended question, and does not assume the person issuing the workload has a clear understanding of the data contained in the target database or its structure.\n",
    "\n",
    "Remeber that:\n",
    "\n",
    "1. All the queries must run in the python notebook\n",
    "2. You can use classes and properties only if you find them via a SPARQL query that must be present in the notebook\n",
    "3. You do not delete useless queries. Keep everything that is synthatically valid \n",
    "\n",
    "```\n",
    "?p <http://schema.org/name> ?name .\n",
    "```\n",
    "    \n",
    "    is the BGP returning a human-readable name of a property or a class in Wikidata.\n",
    "    \n",
    "    "
   ]
  },
  {
   "cell_type": "code",
   "execution_count": 1,
   "id": "3605c9d5-5371-49a5-be8d-d66e8f417139",
   "metadata": {},
   "outputs": [],
   "source": [
    "## SETUP used later\n",
    "\n",
    "from SPARQLWrapper import SPARQLWrapper, JSON\n",
    "\n",
    "\n",
    "prefixString = \"\"\"\n",
    "##-horror_franchises-##\n",
    "PREFIX wd: <http://www.wikidata.org/entity/> \n",
    "PREFIX wdt: <http://www.wikidata.org/prop/direct/> \n",
    "PREFIX sc: <http://schema.org/>\n",
    "\"\"\"\n",
    "\n",
    "# select and construct queries\n",
    "def run_query(queryString,verbose = True):\n",
    "    to_run = prefixString + \"\\n\" + queryString\n",
    "\n",
    "    sparql = SPARQLWrapper(\"http://a256-gc1-02.srv.aau.dk:5820/sparql\")\n",
    "    sparql.setTimeout(300)\n",
    "    sparql.setReturnFormat(JSON)\n",
    "    sparql.setQuery(to_run)\n",
    "\n",
    "    try :\n",
    "        results = sparql.query()\n",
    "        json_results = results.convert()\n",
    "        if len(json_results['results']['bindings'])==0:\n",
    "            print(\"Empty\")\n",
    "            return []\n",
    "        array = []\n",
    "        for bindings in json_results['results']['bindings']:\n",
    "            app =  [ (var, value['value'])  for var, value in bindings.items() ] \n",
    "            if verbose:\n",
    "                print( app)\n",
    "            array.append(app)\n",
    "        if verbose:\n",
    "            print(len(array))\n",
    "        return array\n",
    "\n",
    "    except Exception as e :\n",
    "        print(\"The operation failed\", e)\n",
    "    \n",
    "# ASk queries\n",
    "def run_ask_query(queryString):\n",
    "    to_run = prefixString + \"\\n\" + queryString\n",
    "\n",
    "    sparql = SPARQLWrapper(\"http://a256-gc1-02.srv.aau.dk:5820/sparql\")\n",
    "    sparql.setTimeout(300)\n",
    "    sparql.setReturnFormat(JSON)\n",
    "    sparql.setQuery(to_run)\n",
    "\n",
    "    try :\n",
    "        return sparql.query().convert()\n",
    "\n",
    "    except Exception as e :\n",
    "        print(\"The operation failed\", e)"
   ]
  },
  {
   "cell_type": "markdown",
   "id": "d477a59c-a68c-4c8f-9f97-8ca5294d7d27",
   "metadata": {},
   "source": [
    "# Movie Workflow Series (\"Horror Franchises explorative search\") \n",
    "\n",
    "Consider the following exploratory scenario:\n",
    "\n",
    "\n",
    "> we are interested in horror movies, in particular we care about the slasher subgenre, and we want to compare the Halloween and the Friday the 13th francise. \n",
    "\n",
    "Background knowledge useful for better conducting the search: Halloween is a movie from 1978 with many sequels and the set of Halloween + all the sequels is called the \"Halloween franchise\". The same considerations hold for Friday the 13th.\n",
    "\n",
    "\n",
    "## Useful URIs for the current workflow\n",
    "The following are given:\n",
    "\n",
    "| IRI           | Description   | Role      |\n",
    "| -----------   | -----------   |-----------|\n",
    "| `wdt:P1647`   | subproperty   | predicate |\n",
    "| `wdt:P31`     | instance of   | predicate |\n",
    "| `wdt:P106`    | profession    | predicate | \n",
    "| `wdt:P279`    | subclass      | predicate |\n",
    "| `wd:Q221103`     | Halloween       | node |\n",
    "| `wd:Q1243029`| Friday the 13th       | node |\n",
    "\n",
    "\n",
    "\n",
    "\n",
    "\n",
    "Also consider\n",
    "\n",
    "```\n",
    "wd:Q1243029 ?p ?obj .\n",
    "```\n",
    "\n",
    "is the BGP to retrieve all **properties of Friday the 13th**\n",
    "\n",
    "The workload should\n",
    "\n",
    "\n",
    "1. Investigate the workers of the two original movies and check any commonality \n",
    "\n",
    "2. Check who was the most famous actor/actress on Halloween and Friday the 13th at the time of the release (e.g., the actor/actress who acted in more movies before and/or the actor/actress who won more academy awards)\n",
    "\n",
    "3. Check which actor/actress did more movies after the release of these two films (consider the films separately)\n",
    "\n",
    "4. Get all the movies of the two franchises (return year and director)\n",
    "\n",
    "5. Who is most involved in a franchise (who did something in the movies, e.g., writer, director, producer)? \n",
    "\n",
    "6. Investigate which franchise is highly regarded by the critics overall\n",
    "\n",
    "7. Investigate which franchise costed more "
   ]
  },
  {
   "cell_type": "markdown",
   "id": "6760b999-e0d9-48f0-8a29-c4ead065099e",
   "metadata": {},
   "source": [
    "To save the results found by this ground truth we are going to create a JSON object. Before creating the object we have to identify this workflow. All the workflows are indexed in the script notebook when we ran the statistics and we saved a csv file that contains all the workflows' name and the related index. This file is saved in `/indexes/workflows.csv`. Before starting to run the queries of the ground truth, we have to find the name of the current workflow (always in the second cell of the notebook) and then reading the csv file of the indexes find the related index. In this way we always know which notebook we are talking about. The results found in a ground truth will be store in the folder `/results/` with the name that is **workflow{index}.json** where index is the related index found in the csv file of the indexes. \n",
    "\n",
    "The JSON object is composed by:\n",
    "- name of the workflow\n",
    "- results' object\n",
    "\n",
    "The results' object is a dictionary with keys the number of the goal of the workflow and value the expected result\n",
    "The result of each goal can be of two types:\n",
    "- **single** when the result is well known, for example it is a specific `URI` or more than one. Then there is an array of objects that correspond to the expected result. Every object can be composed by different fields, usually an URI and the related name. When there is more than one element inside the values array, it must be specified if the expected result is the whole set of elements in the array or if it is necessary to find only one of those elements\n",
    "- **set** when the result is more than one elements and it is not well defined, that is when there is not a query that provides only the wanted results. Also in this case there is an array of objects that correspond to the expected result.\n",
    "There is also another field that specify the type of the check that must be done in the evaluation in order to determine if the student finds the expected result. Usually we want to verify `URIs` but it can happen that the results are numbers or names. This is helpful in the evaluation phase because we know exactly what to compare to evaluate the student's notebook."
   ]
  },
  {
   "cell_type": "code",
   "execution_count": 2,
   "id": "f22ec70e-f853-45c4-a8f9-c1509b04a726",
   "metadata": {},
   "outputs": [
    {
     "name": "stdout",
     "output_type": "stream",
     "text": [
      "The index of this workflow is: 5_2\n"
     ]
    }
   ],
   "source": [
    "##before start set some variables to save the result\n",
    "#open this notebook as json\n",
    "import os\n",
    "import json\n",
    "import pandas as pd\n",
    "ipname = \"horror_franchises.ipynb\"\n",
    "data = json.load(open(os.getcwd()+os.sep+ipname))\n",
    "#get the list of the cells \n",
    "df = pd.DataFrame(data['cells'])\n",
    "#get the first line of the cells that tells me the title of the notebook\n",
    "source = df['source'][2][0].replace(\"\\n\",\"\").replace(\"#\",\"\").strip()\n",
    "### source contains the name of the workflow\n",
    "\n",
    "#read the workflow indexes\n",
    "from pathlib import Path\n",
    "parent = str(Path(os.getcwd()).parent.absolute())\n",
    "# this is the filepath of the indexes of all workflows\n",
    "work_filepath = parent+os.sep+\"indexes/workflows.csv\"\n",
    "workflow_indexes = pd.read_csv(work_filepath)\n",
    "\n",
    "# this variable will contain the index of this workflow\n",
    "global index_workflow\n",
    "\n",
    "index_workflow = -1\n",
    "for index, row in workflow_indexes.iterrows():\n",
    "    if row[\"name\"] == source:\n",
    "        index_workflow = str(row[\"macro\"])+\"_\"+str(row[\"index\"])\n",
    "if index_workflow == -1:\n",
    "    print(\"ERROR: WORKFLOW DOES NOT EXIST IN THE INDEXES\")\n",
    "else:\n",
    "    print(\"The index of this workflow is:\",index_workflow)\n",
    "    \n",
    "#create the directory results if not exist\n",
    "result_path = parent+\"/results\"\n",
    "# Check whether the specified path exists or not\n",
    "if not os.path.exists(result_path):\n",
    "    os.mkdir(result_path)\n",
    "    \n",
    "# this variable contains the filepath of the ground truth's json object of this workflow\n",
    "global work_filename\n",
    "work_filename = result_path+os.sep+\"workflow\"+str(index_workflow)+\".json\"\n",
    "\n",
    "global dict_\n",
    "global result\n",
    "result = {}\n",
    "dict_ = {\"description\":\"Workflow's name: \"+source}\n",
    "fd = open(work_filename,\"w\")\n",
    "json.dump(dict_, fd)\n",
    "fd.close()"
   ]
  },
  {
   "cell_type": "code",
   "execution_count": 3,
   "id": "8d5e1791-6116-43c8-b3cd-dfbb35ae8c47",
   "metadata": {},
   "outputs": [],
   "source": [
    "## define constant variable\n",
    "global TYPE_SET\n",
    "TYPE_SET = \"set\"\n",
    "global TYPE_SINGLE\n",
    "TYPE_SINGLE = \"single\"\n",
    "global TYPE_REFERRED\n",
    "TYPE_REFERRED = \"referred\""
   ]
  },
  {
   "cell_type": "code",
   "execution_count": 4,
   "id": "947a4923-d575-4488-92c2-ef664cb44e7b",
   "metadata": {},
   "outputs": [],
   "source": [
    "#value is always an array of element\n",
    "#any_all is a string value that must be \"any\" or \"all\"\n",
    "def add_result(goal_num, type_ , check ,value, any_all = None ,type_inside = None, elements_per_tuple = 1):\n",
    "    global work_filename\n",
    "    global dict_\n",
    "    global result\n",
    "    \n",
    "    # add the object in the dictionary\n",
    "    # create the current dictionary for the specific goal, or get it if it already exists from the big JSON object\n",
    "    current_dict = {}\n",
    "    if goal_num in result:\n",
    "        current_dict = result[goal_num]\n",
    "    \n",
    "    \n",
    "    if type_ == TYPE_SET:\n",
    "        ## the result is a set of element, so is not well define\n",
    "        current_dict[\"type\"] = type_\n",
    "        current_dict[\"check\"] = check\n",
    "        current_dict[\"values\"] = value\n",
    "    elif type_ == TYPE_SINGLE:\n",
    "        ## the result is well defined, it is one or more than one element and it must be set the any_all field\n",
    "        current_dict[\"type\"] = TYPE_SINGLE\n",
    "        current_dict[\"check\"] = check\n",
    "        if any_all is not None and check != \"ask\":\n",
    "            current_dict[\"any_all\"] = any_all\n",
    "        current_dict[\"values\"] = value\n",
    "    elif type_ == TYPE_REFERRED:\n",
    "        current_dict[\"type\"] = type_\n",
    "        current_dict[\"check\"] = check\n",
    "        current_dict[\"elements_per_tuple\"] = elements_per_tuple\n",
    "        current_dict[\"values\"] = value\n",
    "        \n",
    "        \n",
    "    ## put the current dictionary for the specific goal in the result's object inside the JSON object\n",
    "    result[goal_num] = current_dict\n",
    "    ## put the result's object in the JSON object\n",
    "    dict_[\"results\"] = result\n",
    "    \n",
    "    ## save the JSON object\n",
    "    fd = open(work_filename,\"w\")\n",
    "    json.dump(dict_, fd)\n",
    "    fd.close()\n",
    "    \n",
    "    print(\"JSON object updated\")"
   ]
  },
  {
   "cell_type": "markdown",
   "id": "396b000a-6f5a-45df-bcf0-d5872807c4cb",
   "metadata": {
    "tags": []
   },
   "source": [
    "### Task 1: Investigate the workers of the two original movies and check any commonality"
   ]
  },
  {
   "cell_type": "markdown",
   "id": "beca8b26-e6dc-46e7-82e0-4bcd0e97ba82",
   "metadata": {},
   "source": [
    "Find the filmmaking occupation class"
   ]
  },
  {
   "cell_type": "code",
   "execution_count": 5,
   "id": "25f1c875-2898-4678-b614-0e69e38cc592",
   "metadata": {},
   "outputs": [
    {
     "name": "stdout",
     "output_type": "stream",
     "text": [
      "Results\n",
      "[('work', 'http://www.wikidata.org/entity/Q4220920'), ('pname', 'filmmaking occupation')]\n",
      "[('work', 'http://www.wikidata.org/entity/Q12737077'), ('pname', 'occupation')]\n",
      "[('work', 'http://www.wikidata.org/entity/Q28640'), ('pname', 'profession')]\n",
      "[('work', 'http://www.wikidata.org/entity/Q66715801'), ('pname', 'musical profession')]\n",
      "[('work', 'http://www.wikidata.org/entity/Q108300140'), ('pname', 'occupation group according to ISCO')]\n",
      "[('work', 'http://www.wikidata.org/entity/Q15839299'), ('pname', 'theatrical occupation')]\n",
      "6\n"
     ]
    }
   ],
   "source": [
    "# find workers in a film\n",
    "queryString = \"\"\"\n",
    "SELECT DISTINCT ?work ?pname\n",
    "WHERE { \n",
    "\n",
    "wd:Q1243029 ?p ?obj .\n",
    "?obj wdt:P31 wd:Q5;\n",
    "    wdt:P106 ?job.\n",
    "?job wdt:P31 ?work.\n",
    "\n",
    "#Labels\n",
    "?work sc:name ?pname .\n",
    "} \n",
    "\"\"\"\n",
    "\n",
    "print(\"Results\")\n",
    "x=run_query(queryString)"
   ]
  },
  {
   "cell_type": "code",
   "execution_count": 6,
   "id": "724f845b-8a32-4562-bb4e-4558590fe12c",
   "metadata": {},
   "outputs": [
    {
     "name": "stdout",
     "output_type": "stream",
     "text": [
      "Results\n",
      "[('film', 'http://www.wikidata.org/entity/Q1243029'), ('name', 'Friday the 13th'), ('workers', '13')]\n",
      "[('film', 'http://www.wikidata.org/entity/Q221103'), ('name', 'Halloween'), ('workers', '15')]\n",
      "2\n"
     ]
    }
   ],
   "source": [
    "# compare all workers \n",
    "queryString = \"\"\"\n",
    "SELECT DISTINCT ?film ?name COUNT(DISTINCT ?worker) AS ?workers\n",
    "WHERE { \n",
    "    VALUES ?film {wd:Q1243029 wd:Q221103}\n",
    "    ?film ?p ?worker .\n",
    "    ?worker wdt:P31 wd:Q5 ;\n",
    "            wdt:P106/wdt:P31/wdt:279* wd:Q4220920 .\n",
    "\n",
    "    #Labels\n",
    "    ?film sc:name ?name .\n",
    "}\n",
    "GROUP BY ?film ?name\n",
    "\"\"\"\n",
    "\n",
    "print(\"Results\")\n",
    "x=run_query(queryString)"
   ]
  },
  {
   "cell_type": "code",
   "execution_count": 7,
   "id": "1ffb16d6-a807-4ecf-84a5-e33fad8430ca",
   "metadata": {},
   "outputs": [
    {
     "name": "stdout",
     "output_type": "stream",
     "text": [
      "Results\n"
     ]
    },
    {
     "ename": "KeyboardInterrupt",
     "evalue": "",
     "output_type": "error",
     "traceback": [
      "\u001b[0;31m---------------------------------------------------------------------------\u001b[0m",
      "\u001b[0;31mKeyboardInterrupt\u001b[0m                         Traceback (most recent call last)",
      "\u001b[0;32m<ipython-input-7-05a5ffbad90b>\u001b[0m in \u001b[0;36m<module>\u001b[0;34m\u001b[0m\n\u001b[1;32m     16\u001b[0m \u001b[0;34m\u001b[0m\u001b[0m\n\u001b[1;32m     17\u001b[0m \u001b[0mprint\u001b[0m\u001b[0;34m(\u001b[0m\u001b[0;34m\"Results\"\u001b[0m\u001b[0;34m)\u001b[0m\u001b[0;34m\u001b[0m\u001b[0;34m\u001b[0m\u001b[0m\n\u001b[0;32m---> 18\u001b[0;31m \u001b[0mx\u001b[0m\u001b[0;34m=\u001b[0m\u001b[0mrun_query\u001b[0m\u001b[0;34m(\u001b[0m\u001b[0mqueryString\u001b[0m\u001b[0;34m)\u001b[0m\u001b[0;34m\u001b[0m\u001b[0;34m\u001b[0m\u001b[0m\n\u001b[0m",
      "\u001b[0;32m<ipython-input-1-d6ed47a76481>\u001b[0m in \u001b[0;36mrun_query\u001b[0;34m(queryString, verbose)\u001b[0m\n\u001b[1;32m     21\u001b[0m \u001b[0;34m\u001b[0m\u001b[0m\n\u001b[1;32m     22\u001b[0m     \u001b[0;32mtry\u001b[0m \u001b[0;34m:\u001b[0m\u001b[0;34m\u001b[0m\u001b[0;34m\u001b[0m\u001b[0m\n\u001b[0;32m---> 23\u001b[0;31m         \u001b[0mresults\u001b[0m \u001b[0;34m=\u001b[0m \u001b[0msparql\u001b[0m\u001b[0;34m.\u001b[0m\u001b[0mquery\u001b[0m\u001b[0;34m(\u001b[0m\u001b[0;34m)\u001b[0m\u001b[0;34m\u001b[0m\u001b[0;34m\u001b[0m\u001b[0m\n\u001b[0m\u001b[1;32m     24\u001b[0m         \u001b[0mjson_results\u001b[0m \u001b[0;34m=\u001b[0m \u001b[0mresults\u001b[0m\u001b[0;34m.\u001b[0m\u001b[0mconvert\u001b[0m\u001b[0;34m(\u001b[0m\u001b[0;34m)\u001b[0m\u001b[0;34m\u001b[0m\u001b[0;34m\u001b[0m\u001b[0m\n\u001b[1;32m     25\u001b[0m         \u001b[0;32mif\u001b[0m \u001b[0mlen\u001b[0m\u001b[0;34m(\u001b[0m\u001b[0mjson_results\u001b[0m\u001b[0;34m[\u001b[0m\u001b[0;34m'results'\u001b[0m\u001b[0;34m]\u001b[0m\u001b[0;34m[\u001b[0m\u001b[0;34m'bindings'\u001b[0m\u001b[0;34m]\u001b[0m\u001b[0;34m)\u001b[0m\u001b[0;34m==\u001b[0m\u001b[0;36m0\u001b[0m\u001b[0;34m:\u001b[0m\u001b[0;34m\u001b[0m\u001b[0;34m\u001b[0m\u001b[0m\n",
      "\u001b[0;32m~/miniconda3/lib/python3.7/site-packages/SPARQLWrapper/Wrapper.py\u001b[0m in \u001b[0;36mquery\u001b[0;34m(self)\u001b[0m\n\u001b[1;32m   1105\u001b[0m             \u001b[0;34m:\u001b[0m\u001b[0mrtype\u001b[0m\u001b[0;34m:\u001b[0m \u001b[0;34m:\u001b[0m\u001b[0;32mclass\u001b[0m\u001b[0;34m:\u001b[0m\u001b[0;31m`\u001b[0m\u001b[0mQueryResult\u001b[0m\u001b[0;31m`\u001b[0m \u001b[0minstance\u001b[0m\u001b[0;34m\u001b[0m\u001b[0;34m\u001b[0m\u001b[0m\n\u001b[1;32m   1106\u001b[0m         \"\"\"\n\u001b[0;32m-> 1107\u001b[0;31m         \u001b[0;32mreturn\u001b[0m \u001b[0mQueryResult\u001b[0m\u001b[0;34m(\u001b[0m\u001b[0mself\u001b[0m\u001b[0;34m.\u001b[0m\u001b[0m_query\u001b[0m\u001b[0;34m(\u001b[0m\u001b[0;34m)\u001b[0m\u001b[0;34m)\u001b[0m\u001b[0;34m\u001b[0m\u001b[0;34m\u001b[0m\u001b[0m\n\u001b[0m\u001b[1;32m   1108\u001b[0m \u001b[0;34m\u001b[0m\u001b[0m\n\u001b[1;32m   1109\u001b[0m     \u001b[0;32mdef\u001b[0m \u001b[0mqueryAndConvert\u001b[0m\u001b[0;34m(\u001b[0m\u001b[0mself\u001b[0m\u001b[0;34m)\u001b[0m\u001b[0;34m:\u001b[0m\u001b[0;34m\u001b[0m\u001b[0;34m\u001b[0m\u001b[0m\n",
      "\u001b[0;32m~/miniconda3/lib/python3.7/site-packages/SPARQLWrapper/Wrapper.py\u001b[0m in \u001b[0;36m_query\u001b[0;34m(self)\u001b[0m\n\u001b[1;32m   1069\u001b[0m         \u001b[0;32mtry\u001b[0m\u001b[0;34m:\u001b[0m\u001b[0;34m\u001b[0m\u001b[0;34m\u001b[0m\u001b[0m\n\u001b[1;32m   1070\u001b[0m             \u001b[0;32mif\u001b[0m \u001b[0mself\u001b[0m\u001b[0;34m.\u001b[0m\u001b[0mtimeout\u001b[0m\u001b[0;34m:\u001b[0m\u001b[0;34m\u001b[0m\u001b[0;34m\u001b[0m\u001b[0m\n\u001b[0;32m-> 1071\u001b[0;31m                 \u001b[0mresponse\u001b[0m \u001b[0;34m=\u001b[0m \u001b[0murlopener\u001b[0m\u001b[0;34m(\u001b[0m\u001b[0mrequest\u001b[0m\u001b[0;34m,\u001b[0m \u001b[0mtimeout\u001b[0m\u001b[0;34m=\u001b[0m\u001b[0mself\u001b[0m\u001b[0;34m.\u001b[0m\u001b[0mtimeout\u001b[0m\u001b[0;34m)\u001b[0m\u001b[0;34m\u001b[0m\u001b[0;34m\u001b[0m\u001b[0m\n\u001b[0m\u001b[1;32m   1072\u001b[0m             \u001b[0;32melse\u001b[0m\u001b[0;34m:\u001b[0m\u001b[0;34m\u001b[0m\u001b[0;34m\u001b[0m\u001b[0m\n\u001b[1;32m   1073\u001b[0m                 \u001b[0mresponse\u001b[0m \u001b[0;34m=\u001b[0m \u001b[0murlopener\u001b[0m\u001b[0;34m(\u001b[0m\u001b[0mrequest\u001b[0m\u001b[0;34m)\u001b[0m\u001b[0;34m\u001b[0m\u001b[0;34m\u001b[0m\u001b[0m\n",
      "\u001b[0;32m~/miniconda3/lib/python3.7/urllib/request.py\u001b[0m in \u001b[0;36murlopen\u001b[0;34m(url, data, timeout, cafile, capath, cadefault, context)\u001b[0m\n\u001b[1;32m    220\u001b[0m     \u001b[0;32melse\u001b[0m\u001b[0;34m:\u001b[0m\u001b[0;34m\u001b[0m\u001b[0;34m\u001b[0m\u001b[0m\n\u001b[1;32m    221\u001b[0m         \u001b[0mopener\u001b[0m \u001b[0;34m=\u001b[0m \u001b[0m_opener\u001b[0m\u001b[0;34m\u001b[0m\u001b[0;34m\u001b[0m\u001b[0m\n\u001b[0;32m--> 222\u001b[0;31m     \u001b[0;32mreturn\u001b[0m \u001b[0mopener\u001b[0m\u001b[0;34m.\u001b[0m\u001b[0mopen\u001b[0m\u001b[0;34m(\u001b[0m\u001b[0murl\u001b[0m\u001b[0;34m,\u001b[0m \u001b[0mdata\u001b[0m\u001b[0;34m,\u001b[0m \u001b[0mtimeout\u001b[0m\u001b[0;34m)\u001b[0m\u001b[0;34m\u001b[0m\u001b[0;34m\u001b[0m\u001b[0m\n\u001b[0m\u001b[1;32m    223\u001b[0m \u001b[0;34m\u001b[0m\u001b[0m\n\u001b[1;32m    224\u001b[0m \u001b[0;32mdef\u001b[0m \u001b[0minstall_opener\u001b[0m\u001b[0;34m(\u001b[0m\u001b[0mopener\u001b[0m\u001b[0;34m)\u001b[0m\u001b[0;34m:\u001b[0m\u001b[0;34m\u001b[0m\u001b[0;34m\u001b[0m\u001b[0m\n",
      "\u001b[0;32m~/miniconda3/lib/python3.7/urllib/request.py\u001b[0m in \u001b[0;36mopen\u001b[0;34m(self, fullurl, data, timeout)\u001b[0m\n\u001b[1;32m    523\u001b[0m             \u001b[0mreq\u001b[0m \u001b[0;34m=\u001b[0m \u001b[0mmeth\u001b[0m\u001b[0;34m(\u001b[0m\u001b[0mreq\u001b[0m\u001b[0;34m)\u001b[0m\u001b[0;34m\u001b[0m\u001b[0;34m\u001b[0m\u001b[0m\n\u001b[1;32m    524\u001b[0m \u001b[0;34m\u001b[0m\u001b[0m\n\u001b[0;32m--> 525\u001b[0;31m         \u001b[0mresponse\u001b[0m \u001b[0;34m=\u001b[0m \u001b[0mself\u001b[0m\u001b[0;34m.\u001b[0m\u001b[0m_open\u001b[0m\u001b[0;34m(\u001b[0m\u001b[0mreq\u001b[0m\u001b[0;34m,\u001b[0m \u001b[0mdata\u001b[0m\u001b[0;34m)\u001b[0m\u001b[0;34m\u001b[0m\u001b[0;34m\u001b[0m\u001b[0m\n\u001b[0m\u001b[1;32m    526\u001b[0m \u001b[0;34m\u001b[0m\u001b[0m\n\u001b[1;32m    527\u001b[0m         \u001b[0;31m# post-process response\u001b[0m\u001b[0;34m\u001b[0m\u001b[0;34m\u001b[0m\u001b[0;34m\u001b[0m\u001b[0m\n",
      "\u001b[0;32m~/miniconda3/lib/python3.7/urllib/request.py\u001b[0m in \u001b[0;36m_open\u001b[0;34m(self, req, data)\u001b[0m\n\u001b[1;32m    541\u001b[0m         \u001b[0mprotocol\u001b[0m \u001b[0;34m=\u001b[0m \u001b[0mreq\u001b[0m\u001b[0;34m.\u001b[0m\u001b[0mtype\u001b[0m\u001b[0;34m\u001b[0m\u001b[0;34m\u001b[0m\u001b[0m\n\u001b[1;32m    542\u001b[0m         result = self._call_chain(self.handle_open, protocol, protocol +\n\u001b[0;32m--> 543\u001b[0;31m                                   '_open', req)\n\u001b[0m\u001b[1;32m    544\u001b[0m         \u001b[0;32mif\u001b[0m \u001b[0mresult\u001b[0m\u001b[0;34m:\u001b[0m\u001b[0;34m\u001b[0m\u001b[0;34m\u001b[0m\u001b[0m\n\u001b[1;32m    545\u001b[0m             \u001b[0;32mreturn\u001b[0m \u001b[0mresult\u001b[0m\u001b[0;34m\u001b[0m\u001b[0;34m\u001b[0m\u001b[0m\n",
      "\u001b[0;32m~/miniconda3/lib/python3.7/urllib/request.py\u001b[0m in \u001b[0;36m_call_chain\u001b[0;34m(self, chain, kind, meth_name, *args)\u001b[0m\n\u001b[1;32m    501\u001b[0m         \u001b[0;32mfor\u001b[0m \u001b[0mhandler\u001b[0m \u001b[0;32min\u001b[0m \u001b[0mhandlers\u001b[0m\u001b[0;34m:\u001b[0m\u001b[0;34m\u001b[0m\u001b[0;34m\u001b[0m\u001b[0m\n\u001b[1;32m    502\u001b[0m             \u001b[0mfunc\u001b[0m \u001b[0;34m=\u001b[0m \u001b[0mgetattr\u001b[0m\u001b[0;34m(\u001b[0m\u001b[0mhandler\u001b[0m\u001b[0;34m,\u001b[0m \u001b[0mmeth_name\u001b[0m\u001b[0;34m)\u001b[0m\u001b[0;34m\u001b[0m\u001b[0;34m\u001b[0m\u001b[0m\n\u001b[0;32m--> 503\u001b[0;31m             \u001b[0mresult\u001b[0m \u001b[0;34m=\u001b[0m \u001b[0mfunc\u001b[0m\u001b[0;34m(\u001b[0m\u001b[0;34m*\u001b[0m\u001b[0margs\u001b[0m\u001b[0;34m)\u001b[0m\u001b[0;34m\u001b[0m\u001b[0;34m\u001b[0m\u001b[0m\n\u001b[0m\u001b[1;32m    504\u001b[0m             \u001b[0;32mif\u001b[0m \u001b[0mresult\u001b[0m \u001b[0;32mis\u001b[0m \u001b[0;32mnot\u001b[0m \u001b[0;32mNone\u001b[0m\u001b[0;34m:\u001b[0m\u001b[0;34m\u001b[0m\u001b[0;34m\u001b[0m\u001b[0m\n\u001b[1;32m    505\u001b[0m                 \u001b[0;32mreturn\u001b[0m \u001b[0mresult\u001b[0m\u001b[0;34m\u001b[0m\u001b[0;34m\u001b[0m\u001b[0m\n",
      "\u001b[0;32m~/miniconda3/lib/python3.7/urllib/request.py\u001b[0m in \u001b[0;36mhttp_open\u001b[0;34m(self, req)\u001b[0m\n\u001b[1;32m   1376\u001b[0m \u001b[0;34m\u001b[0m\u001b[0m\n\u001b[1;32m   1377\u001b[0m     \u001b[0;32mdef\u001b[0m \u001b[0mhttp_open\u001b[0m\u001b[0;34m(\u001b[0m\u001b[0mself\u001b[0m\u001b[0;34m,\u001b[0m \u001b[0mreq\u001b[0m\u001b[0;34m)\u001b[0m\u001b[0;34m:\u001b[0m\u001b[0;34m\u001b[0m\u001b[0;34m\u001b[0m\u001b[0m\n\u001b[0;32m-> 1378\u001b[0;31m         \u001b[0;32mreturn\u001b[0m \u001b[0mself\u001b[0m\u001b[0;34m.\u001b[0m\u001b[0mdo_open\u001b[0m\u001b[0;34m(\u001b[0m\u001b[0mhttp\u001b[0m\u001b[0;34m.\u001b[0m\u001b[0mclient\u001b[0m\u001b[0;34m.\u001b[0m\u001b[0mHTTPConnection\u001b[0m\u001b[0;34m,\u001b[0m \u001b[0mreq\u001b[0m\u001b[0;34m)\u001b[0m\u001b[0;34m\u001b[0m\u001b[0;34m\u001b[0m\u001b[0m\n\u001b[0m\u001b[1;32m   1379\u001b[0m \u001b[0;34m\u001b[0m\u001b[0m\n\u001b[1;32m   1380\u001b[0m     \u001b[0mhttp_request\u001b[0m \u001b[0;34m=\u001b[0m \u001b[0mAbstractHTTPHandler\u001b[0m\u001b[0;34m.\u001b[0m\u001b[0mdo_request_\u001b[0m\u001b[0;34m\u001b[0m\u001b[0;34m\u001b[0m\u001b[0m\n",
      "\u001b[0;32m~/miniconda3/lib/python3.7/urllib/request.py\u001b[0m in \u001b[0;36mdo_open\u001b[0;34m(self, http_class, req, **http_conn_args)\u001b[0m\n\u001b[1;32m   1351\u001b[0m             \u001b[0;32mexcept\u001b[0m \u001b[0mOSError\u001b[0m \u001b[0;32mas\u001b[0m \u001b[0merr\u001b[0m\u001b[0;34m:\u001b[0m \u001b[0;31m# timeout error\u001b[0m\u001b[0;34m\u001b[0m\u001b[0;34m\u001b[0m\u001b[0m\n\u001b[1;32m   1352\u001b[0m                 \u001b[0;32mraise\u001b[0m \u001b[0mURLError\u001b[0m\u001b[0;34m(\u001b[0m\u001b[0merr\u001b[0m\u001b[0;34m)\u001b[0m\u001b[0;34m\u001b[0m\u001b[0;34m\u001b[0m\u001b[0m\n\u001b[0;32m-> 1353\u001b[0;31m             \u001b[0mr\u001b[0m \u001b[0;34m=\u001b[0m \u001b[0mh\u001b[0m\u001b[0;34m.\u001b[0m\u001b[0mgetresponse\u001b[0m\u001b[0;34m(\u001b[0m\u001b[0;34m)\u001b[0m\u001b[0;34m\u001b[0m\u001b[0;34m\u001b[0m\u001b[0m\n\u001b[0m\u001b[1;32m   1354\u001b[0m         \u001b[0;32mexcept\u001b[0m\u001b[0;34m:\u001b[0m\u001b[0;34m\u001b[0m\u001b[0;34m\u001b[0m\u001b[0m\n\u001b[1;32m   1355\u001b[0m             \u001b[0mh\u001b[0m\u001b[0;34m.\u001b[0m\u001b[0mclose\u001b[0m\u001b[0;34m(\u001b[0m\u001b[0;34m)\u001b[0m\u001b[0;34m\u001b[0m\u001b[0;34m\u001b[0m\u001b[0m\n",
      "\u001b[0;32m~/miniconda3/lib/python3.7/http/client.py\u001b[0m in \u001b[0;36mgetresponse\u001b[0;34m(self)\u001b[0m\n\u001b[1;32m   1367\u001b[0m         \u001b[0;32mtry\u001b[0m\u001b[0;34m:\u001b[0m\u001b[0;34m\u001b[0m\u001b[0;34m\u001b[0m\u001b[0m\n\u001b[1;32m   1368\u001b[0m             \u001b[0;32mtry\u001b[0m\u001b[0;34m:\u001b[0m\u001b[0;34m\u001b[0m\u001b[0;34m\u001b[0m\u001b[0m\n\u001b[0;32m-> 1369\u001b[0;31m                 \u001b[0mresponse\u001b[0m\u001b[0;34m.\u001b[0m\u001b[0mbegin\u001b[0m\u001b[0;34m(\u001b[0m\u001b[0;34m)\u001b[0m\u001b[0;34m\u001b[0m\u001b[0;34m\u001b[0m\u001b[0m\n\u001b[0m\u001b[1;32m   1370\u001b[0m             \u001b[0;32mexcept\u001b[0m \u001b[0mConnectionError\u001b[0m\u001b[0;34m:\u001b[0m\u001b[0;34m\u001b[0m\u001b[0;34m\u001b[0m\u001b[0m\n\u001b[1;32m   1371\u001b[0m                 \u001b[0mself\u001b[0m\u001b[0;34m.\u001b[0m\u001b[0mclose\u001b[0m\u001b[0;34m(\u001b[0m\u001b[0;34m)\u001b[0m\u001b[0;34m\u001b[0m\u001b[0;34m\u001b[0m\u001b[0m\n",
      "\u001b[0;32m~/miniconda3/lib/python3.7/http/client.py\u001b[0m in \u001b[0;36mbegin\u001b[0;34m(self)\u001b[0m\n\u001b[1;32m    308\u001b[0m         \u001b[0;31m# read until we get a non-100 response\u001b[0m\u001b[0;34m\u001b[0m\u001b[0;34m\u001b[0m\u001b[0;34m\u001b[0m\u001b[0m\n\u001b[1;32m    309\u001b[0m         \u001b[0;32mwhile\u001b[0m \u001b[0;32mTrue\u001b[0m\u001b[0;34m:\u001b[0m\u001b[0;34m\u001b[0m\u001b[0;34m\u001b[0m\u001b[0m\n\u001b[0;32m--> 310\u001b[0;31m             \u001b[0mversion\u001b[0m\u001b[0;34m,\u001b[0m \u001b[0mstatus\u001b[0m\u001b[0;34m,\u001b[0m \u001b[0mreason\u001b[0m \u001b[0;34m=\u001b[0m \u001b[0mself\u001b[0m\u001b[0;34m.\u001b[0m\u001b[0m_read_status\u001b[0m\u001b[0;34m(\u001b[0m\u001b[0;34m)\u001b[0m\u001b[0;34m\u001b[0m\u001b[0;34m\u001b[0m\u001b[0m\n\u001b[0m\u001b[1;32m    311\u001b[0m             \u001b[0;32mif\u001b[0m \u001b[0mstatus\u001b[0m \u001b[0;34m!=\u001b[0m \u001b[0mCONTINUE\u001b[0m\u001b[0;34m:\u001b[0m\u001b[0;34m\u001b[0m\u001b[0;34m\u001b[0m\u001b[0m\n\u001b[1;32m    312\u001b[0m                 \u001b[0;32mbreak\u001b[0m\u001b[0;34m\u001b[0m\u001b[0;34m\u001b[0m\u001b[0m\n",
      "\u001b[0;32m~/miniconda3/lib/python3.7/http/client.py\u001b[0m in \u001b[0;36m_read_status\u001b[0;34m(self)\u001b[0m\n\u001b[1;32m    269\u001b[0m \u001b[0;34m\u001b[0m\u001b[0m\n\u001b[1;32m    270\u001b[0m     \u001b[0;32mdef\u001b[0m \u001b[0m_read_status\u001b[0m\u001b[0;34m(\u001b[0m\u001b[0mself\u001b[0m\u001b[0;34m)\u001b[0m\u001b[0;34m:\u001b[0m\u001b[0;34m\u001b[0m\u001b[0;34m\u001b[0m\u001b[0m\n\u001b[0;32m--> 271\u001b[0;31m         \u001b[0mline\u001b[0m \u001b[0;34m=\u001b[0m \u001b[0mstr\u001b[0m\u001b[0;34m(\u001b[0m\u001b[0mself\u001b[0m\u001b[0;34m.\u001b[0m\u001b[0mfp\u001b[0m\u001b[0;34m.\u001b[0m\u001b[0mreadline\u001b[0m\u001b[0;34m(\u001b[0m\u001b[0m_MAXLINE\u001b[0m \u001b[0;34m+\u001b[0m \u001b[0;36m1\u001b[0m\u001b[0;34m)\u001b[0m\u001b[0;34m,\u001b[0m \u001b[0;34m\"iso-8859-1\"\u001b[0m\u001b[0;34m)\u001b[0m\u001b[0;34m\u001b[0m\u001b[0;34m\u001b[0m\u001b[0m\n\u001b[0m\u001b[1;32m    272\u001b[0m         \u001b[0;32mif\u001b[0m \u001b[0mlen\u001b[0m\u001b[0;34m(\u001b[0m\u001b[0mline\u001b[0m\u001b[0;34m)\u001b[0m \u001b[0;34m>\u001b[0m \u001b[0m_MAXLINE\u001b[0m\u001b[0;34m:\u001b[0m\u001b[0;34m\u001b[0m\u001b[0;34m\u001b[0m\u001b[0m\n\u001b[1;32m    273\u001b[0m             \u001b[0;32mraise\u001b[0m \u001b[0mLineTooLong\u001b[0m\u001b[0;34m(\u001b[0m\u001b[0;34m\"status line\"\u001b[0m\u001b[0;34m)\u001b[0m\u001b[0;34m\u001b[0m\u001b[0;34m\u001b[0m\u001b[0m\n",
      "\u001b[0;32m~/miniconda3/lib/python3.7/socket.py\u001b[0m in \u001b[0;36mreadinto\u001b[0;34m(self, b)\u001b[0m\n\u001b[1;32m    587\u001b[0m         \u001b[0;32mwhile\u001b[0m \u001b[0;32mTrue\u001b[0m\u001b[0;34m:\u001b[0m\u001b[0;34m\u001b[0m\u001b[0;34m\u001b[0m\u001b[0m\n\u001b[1;32m    588\u001b[0m             \u001b[0;32mtry\u001b[0m\u001b[0;34m:\u001b[0m\u001b[0;34m\u001b[0m\u001b[0;34m\u001b[0m\u001b[0m\n\u001b[0;32m--> 589\u001b[0;31m                 \u001b[0;32mreturn\u001b[0m \u001b[0mself\u001b[0m\u001b[0;34m.\u001b[0m\u001b[0m_sock\u001b[0m\u001b[0;34m.\u001b[0m\u001b[0mrecv_into\u001b[0m\u001b[0;34m(\u001b[0m\u001b[0mb\u001b[0m\u001b[0;34m)\u001b[0m\u001b[0;34m\u001b[0m\u001b[0;34m\u001b[0m\u001b[0m\n\u001b[0m\u001b[1;32m    590\u001b[0m             \u001b[0;32mexcept\u001b[0m \u001b[0mtimeout\u001b[0m\u001b[0;34m:\u001b[0m\u001b[0;34m\u001b[0m\u001b[0;34m\u001b[0m\u001b[0m\n\u001b[1;32m    591\u001b[0m                 \u001b[0mself\u001b[0m\u001b[0;34m.\u001b[0m\u001b[0m_timeout_occurred\u001b[0m \u001b[0;34m=\u001b[0m \u001b[0;32mTrue\u001b[0m\u001b[0;34m\u001b[0m\u001b[0;34m\u001b[0m\u001b[0m\n",
      "\u001b[0;31mKeyboardInterrupt\u001b[0m: "
     ]
    }
   ],
   "source": [
    "# check if someone worked on both films\n",
    "queryString = \"\"\"\n",
    "SELECT DISTINCT ?worker ?name\n",
    "WHERE { \n",
    "    VALUES ?film {wd:Q1243029 wd:Q221103}\n",
    "    ?film ?p ?worker .\n",
    "    ?worker wdt:P31 wd:Q5 ;\n",
    "            wdt:P106/wdt:P31/wdt:279* wd:Q4220920 .\n",
    "\n",
    "    #Labels\n",
    "    ?worker sc:name ?name .\n",
    "}\n",
    "GROUP BY ?worker ?name\n",
    "HAVING (COUNT(DISTINCT ?film)>1)\n",
    "\"\"\"\n",
    "\n",
    "print(\"Results\")\n",
    "x=run_query(queryString)"
   ]
  },
  {
   "cell_type": "code",
   "execution_count": null,
   "id": "be4aa719-f1da-46c0-b585-9ee9efc09c6a",
   "metadata": {},
   "outputs": [],
   "source": [
    "# compare cast member\n",
    "queryString = \"\"\"\n",
    "SELECT DISTINCT ?film ?name COUNT(?worker) AS ?cast\n",
    "WHERE { \n",
    "    VALUES ?film {wd:Q1243029 wd:Q221103}\n",
    "    ?film wdt:P161 ?worker .\n",
    "\n",
    "    #Labels\n",
    "    ?film sc:name ?name .\n",
    "}\n",
    "GROUP BY ?film ?name\n",
    "\"\"\"\n",
    "\n",
    "print(\"Results\")\n",
    "x=run_query(queryString)"
   ]
  },
  {
   "cell_type": "code",
   "execution_count": null,
   "id": "7f99619f-ea13-4059-aae7-77deb0a0a248",
   "metadata": {},
   "outputs": [],
   "source": [
    "# compare countries \n",
    "queryString = \"\"\"\n",
    "SELECT DISTINCT ?film ?name ?country ?cname COUNT(*) AS ?howMany\n",
    "WHERE { \n",
    "    VALUES ?film {wd:Q1243029 wd:Q221103}\n",
    "    ?film ?p ?worker .\n",
    "    ?worker wdt:P31 wd:Q5 ;\n",
    "            wdt:P27 ?country;\n",
    "            wdt:P106/wdt:P31/wdt:279* wd:Q4220920 .\n",
    "\n",
    "    #Labels\n",
    "    ?film sc:name ?name .\n",
    "    ?country sc:name ?cname .\n",
    "}\n",
    "GROUP BY ?film ?name ?country ?cname\n",
    "ORDER BY DESC (?howMany)\n",
    "\"\"\"\n",
    "\n",
    "print(\"Results\")\n",
    "x=run_query(queryString)"
   ]
  },
  {
   "cell_type": "markdown",
   "id": "3f9a60a4-ddc4-4784-b481-b8f6953eb650",
   "metadata": {
    "tags": []
   },
   "source": [
    "### Task 2: Check who was the most famous actor/actress on Halloween and Friday the 13th at the time of the release. "
   ]
  },
  {
   "cell_type": "markdown",
   "id": "bb729e6c-e852-4479-a04c-81d87c20817c",
   "metadata": {},
   "source": [
    "To answer this question we need to find the time of the release of the two films and to define the criteria to determine how much an actor/actress is famous.\n",
    "In this case we simply use the number of films where the actor/actress acted."
   ]
  },
  {
   "cell_type": "code",
   "execution_count": 49,
   "id": "d042731a-b02e-4205-9310-488d6c037d1c",
   "metadata": {},
   "outputs": [
    {
     "name": "stdout",
     "output_type": "stream",
     "text": [
      "Results\n",
      "[('f', 'http://www.wikidata.org/entity/Q221103'), ('name', 'Halloween'), ('actor', 'http://www.wikidata.org/entity/Q314914'), ('aName', 'Donald Pleasence'), ('films', '80')]\n",
      "[('f', 'http://www.wikidata.org/entity/Q221103'), ('name', 'Halloween'), ('actor', 'http://www.wikidata.org/entity/Q3093664'), ('aName', 'Gabriel Cattand'), ('films', '25')]\n",
      "[('f', 'http://www.wikidata.org/entity/Q221103'), ('name', 'Halloween'), ('actor', 'http://www.wikidata.org/entity/Q2865227'), ('aName', 'Arthur Malet'), ('films', '12')]\n",
      "[('f', 'http://www.wikidata.org/entity/Q1243029'), ('name', 'Friday the 13th'), ('actor', 'http://www.wikidata.org/entity/Q263765'), ('aName', 'Betsy Palmer'), ('films', '7')]\n",
      "[('f', 'http://www.wikidata.org/entity/Q221103'), ('name', 'Halloween'), ('actor', 'http://www.wikidata.org/entity/Q1064022'), ('aName', 'Charles Cyphers'), ('films', '7')]\n",
      "[('f', 'http://www.wikidata.org/entity/Q221103'), ('name', 'Halloween'), ('actor', 'http://www.wikidata.org/entity/Q270079'), ('aName', 'P. J. Soles'), ('films', '6')]\n",
      "[('f', 'http://www.wikidata.org/entity/Q221103'), ('name', 'Halloween'), ('actor', 'http://www.wikidata.org/entity/Q1853959'), ('aName', 'Kyle Richards'), ('films', '5')]\n",
      "[('f', 'http://www.wikidata.org/entity/Q1243029'), ('name', 'Friday the 13th'), ('actor', 'http://www.wikidata.org/entity/Q3428829'), ('aName', 'Rex Everhart'), ('films', '4')]\n",
      "[('f', 'http://www.wikidata.org/entity/Q1243029'), ('name', 'Friday the 13th'), ('actor', 'http://www.wikidata.org/entity/Q3454165'), ('aName', 'Kevin Bacon'), ('films', '4')]\n",
      "[('f', 'http://www.wikidata.org/entity/Q1243029'), ('name', 'Friday the 13th'), ('actor', 'http://www.wikidata.org/entity/Q2440012'), ('aName', 'Adrienne King'), ('films', '3')]\n",
      "[('f', 'http://www.wikidata.org/entity/Q221103'), ('name', 'Halloween'), ('actor', 'http://www.wikidata.org/entity/Q95008'), ('aName', 'John Carpenter'), ('films', '3')]\n",
      "[('f', 'http://www.wikidata.org/entity/Q1243029'), ('name', 'Friday the 13th'), ('actor', 'http://www.wikidata.org/entity/Q3434272'), ('aName', 'Robbi Morgan'), ('films', '2')]\n",
      "[('f', 'http://www.wikidata.org/entity/Q221103'), ('name', 'Halloween'), ('actor', 'http://www.wikidata.org/entity/Q6248629'), ('aName', 'John Michael Graham'), ('films', '2')]\n",
      "[('f', 'http://www.wikidata.org/entity/Q221103'), ('name', 'Halloween'), ('actor', 'http://www.wikidata.org/entity/Q936000'), ('aName', 'Nick Castle'), ('films', '2')]\n",
      "[('f', 'http://www.wikidata.org/entity/Q221103'), ('name', 'Halloween'), ('actor', 'http://www.wikidata.org/entity/Q201570'), ('aName', 'Nancy Kyes'), ('films', '2')]\n",
      "[('f', 'http://www.wikidata.org/entity/Q221103'), ('name', 'Halloween'), ('actor', 'http://www.wikidata.org/entity/Q106997'), ('aName', 'Jamie Lee Curtis'), ('films', '1')]\n",
      "[('f', 'http://www.wikidata.org/entity/Q1243029'), ('name', 'Friday the 13th'), ('actor', 'http://www.wikidata.org/entity/Q524486'), ('aName', 'Ari Lehman'), ('films', '1')]\n",
      "[('f', 'http://www.wikidata.org/entity/Q221103'), ('name', 'Halloween'), ('actor', 'http://www.wikidata.org/entity/Q6963012'), ('aName', 'Nancy Stephens'), ('films', '1')]\n",
      "[('f', 'http://www.wikidata.org/entity/Q1243029'), ('name', 'Friday the 13th'), ('actor', 'http://www.wikidata.org/entity/Q3047636'), ('aName', 'Jeannine Taylor'), ('films', '1')]\n",
      "[('f', 'http://www.wikidata.org/entity/Q221103'), ('name', 'Halloween'), ('actor', 'http://www.wikidata.org/entity/Q3066766'), ('aName', 'Tony Moran'), ('films', '1')]\n",
      "[('f', 'http://www.wikidata.org/entity/Q1243029'), ('name', 'Friday the 13th'), ('actor', 'http://www.wikidata.org/entity/Q13218111'), ('aName', 'Harry Crosby'), ('films', '1')]\n",
      "[('f', 'http://www.wikidata.org/entity/Q1243029'), ('name', 'Friday the 13th'), ('actor', 'http://www.wikidata.org/entity/Q2570201'), ('aName', 'Laurie Bartram'), ('films', '1')]\n",
      "22\n"
     ]
    }
   ],
   "source": [
    "#count in how many films the actors of friday 13th and halloween acted before the release, counting them separately\n",
    "queryString = \"\"\"\n",
    "SELECT ?f ?name ?actor ?aName (COUNT(DISTINCT ?film) AS ?films)\n",
    "WHERE { \n",
    "    # friday 13th and Halloween\n",
    "    VALUES ?f {wd:Q1243029 wd:Q221103}.\n",
    "    ?f wdt:P161 ?actor;\n",
    "                wdt:P577 ?datef.\n",
    "    ?film wdt:P161 ?actor;\n",
    "          wdt:P577 ?date.\n",
    "\n",
    "    FILTER(?date<?datef).\n",
    "\n",
    "    ?f sc:name ?name.\n",
    "    ?actor sc:name ?aName.\n",
    "} \n",
    "GROUP BY ?f ?name ?actor  ?aName\n",
    "ORDER BY DESC(?films)\n",
    "\"\"\"\n",
    "\n",
    "print(\"Results\")\n",
    "x=run_query(queryString)"
   ]
  },
  {
   "cell_type": "code",
   "execution_count": 8,
   "id": "6e07db67-bd04-4e63-9e8c-9c5fcbc2d9c8",
   "metadata": {},
   "outputs": [
    {
     "name": "stdout",
     "output_type": "stream",
     "text": [
      "JSON object updated\n"
     ]
    }
   ],
   "source": [
    "### insert the result of TASK 2 in the file\n",
    "halloween_uri = \"http://www.wikidata.org/entity/Q221103\"\n",
    "halloween_name = \"Halloween\"\n",
    "friday_uri = \"http://www.wikidata.org/entity/Q1243029\"\n",
    "friday_name = \"Friday the 13th\"\n",
    "pleasence_uri = \"http://www.wikidata.org/entity/Q314914\"\n",
    "pleasence_name = \"Donald Pleasence\"\n",
    "palmer_uri = \"http://www.wikidata.org/entity/Q2865227\"\n",
    "palmer_name = \"Betsy Palmer\"\n",
    "\n",
    "halloween_res = {\"uri\":pleasence_uri,\"name\":pleasence_name,\"check\":[\"uri\",\"name\"],\"refers_to\":halloween_uri,\"refers_to_name\":halloween_name}\n",
    "friday_res = {\"uri\":palmer_uri,\"name\":palmer_name,\"check\":[\"uri\",\"name\"],\"refers_to\":friday_uri,\"refers_to_name\":friday_name}\n",
    "obj = [halloween_res,friday_res]\n",
    "add_result(\"2\", TYPE_REFERRED ,[\"uri\",\"name\"],obj)"
   ]
  },
  {
   "cell_type": "markdown",
   "id": "d1b1c7e8-c277-444b-b9cb-9290b2e9f7cf",
   "metadata": {
    "tags": []
   },
   "source": [
    "### Task 3: Check which actor/actress did more movies after the release of these two films (consider the films separately)."
   ]
  },
  {
   "cell_type": "markdown",
   "id": "d57a4577-3034-4c0d-82de-e9da76eb4645",
   "metadata": {},
   "source": [
    "Retrieve who acted in more films after the release of Friday 13th."
   ]
  },
  {
   "cell_type": "code",
   "execution_count": 16,
   "id": "760cd7ef-dcad-4528-9637-aad85eaa3cf7",
   "metadata": {},
   "outputs": [
    {
     "name": "stdout",
     "output_type": "stream",
     "text": [
      "Results\n",
      "[('f', 'http://www.wikidata.org/entity/Q1243029'), ('name', 'Friday the 13th'), ('actor', 'http://www.wikidata.org/entity/Q3454165'), ('aName', 'Kevin Bacon'), ('films', '64')]\n",
      "[('f', 'http://www.wikidata.org/entity/Q221103'), ('name', 'Halloween'), ('actor', 'http://www.wikidata.org/entity/Q314914'), ('aName', 'Donald Pleasence'), ('films', '55')]\n",
      "[('f', 'http://www.wikidata.org/entity/Q221103'), ('name', 'Halloween'), ('actor', 'http://www.wikidata.org/entity/Q106997'), ('aName', 'Jamie Lee Curtis'), ('films', '52')]\n",
      "[('f', 'http://www.wikidata.org/entity/Q221103'), ('name', 'Halloween'), ('actor', 'http://www.wikidata.org/entity/Q270079'), ('aName', 'P. J. Soles'), ('films', '20')]\n",
      "[('f', 'http://www.wikidata.org/entity/Q221103'), ('name', 'Halloween'), ('actor', 'http://www.wikidata.org/entity/Q95008'), ('aName', 'John Carpenter'), ('films', '18')]\n",
      "[('f', 'http://www.wikidata.org/entity/Q221103'), ('name', 'Halloween'), ('actor', 'http://www.wikidata.org/entity/Q3093664'), ('aName', 'Gabriel Cattand'), ('films', '12')]\n",
      "[('f', 'http://www.wikidata.org/entity/Q221103'), ('name', 'Halloween'), ('actor', 'http://www.wikidata.org/entity/Q2865227'), ('aName', 'Arthur Malet'), ('films', '10')]\n",
      "[('f', 'http://www.wikidata.org/entity/Q221103'), ('name', 'Halloween'), ('actor', 'http://www.wikidata.org/entity/Q1064022'), ('aName', 'Charles Cyphers'), ('films', '9')]\n",
      "[('f', 'http://www.wikidata.org/entity/Q1243029'), ('name', 'Friday the 13th'), ('actor', 'http://www.wikidata.org/entity/Q2440012'), ('aName', 'Adrienne King'), ('films', '9')]\n",
      "[('f', 'http://www.wikidata.org/entity/Q221103'), ('name', 'Halloween'), ('actor', 'http://www.wikidata.org/entity/Q1853959'), ('aName', 'Kyle Richards'), ('films', '8')]\n",
      "[('f', 'http://www.wikidata.org/entity/Q1243029'), ('name', 'Friday the 13th'), ('actor', 'http://www.wikidata.org/entity/Q263765'), ('aName', 'Betsy Palmer'), ('films', '8')]\n",
      "[('f', 'http://www.wikidata.org/entity/Q1243029'), ('name', 'Friday the 13th'), ('actor', 'http://www.wikidata.org/entity/Q3434272'), ('aName', 'Robbi Morgan'), ('films', '6')]\n",
      "[('f', 'http://www.wikidata.org/entity/Q221103'), ('name', 'Halloween'), ('actor', 'http://www.wikidata.org/entity/Q936000'), ('aName', 'Nick Castle'), ('films', '6')]\n",
      "[('f', 'http://www.wikidata.org/entity/Q221103'), ('name', 'Halloween'), ('actor', 'http://www.wikidata.org/entity/Q201570'), ('aName', 'Nancy Kyes'), ('films', '5')]\n",
      "[('f', 'http://www.wikidata.org/entity/Q1243029'), ('name', 'Friday the 13th'), ('actor', 'http://www.wikidata.org/entity/Q3428829'), ('aName', 'Rex Everhart'), ('films', '4')]\n",
      "[('f', 'http://www.wikidata.org/entity/Q221103'), ('name', 'Halloween'), ('actor', 'http://www.wikidata.org/entity/Q6963012'), ('aName', 'Nancy Stephens'), ('films', '4')]\n",
      "[('f', 'http://www.wikidata.org/entity/Q1243029'), ('name', 'Friday the 13th'), ('actor', 'http://www.wikidata.org/entity/Q524486'), ('aName', 'Ari Lehman'), ('films', '3')]\n",
      "[('f', 'http://www.wikidata.org/entity/Q1243029'), ('name', 'Friday the 13th'), ('actor', 'http://www.wikidata.org/entity/Q3047636'), ('aName', 'Jeannine Taylor'), ('films', '3')]\n",
      "[('f', 'http://www.wikidata.org/entity/Q221103'), ('name', 'Halloween'), ('actor', 'http://www.wikidata.org/entity/Q3066766'), ('aName', 'Tony Moran'), ('films', '3')]\n",
      "[('f', 'http://www.wikidata.org/entity/Q221103'), ('name', 'Halloween'), ('actor', 'http://www.wikidata.org/entity/Q6248629'), ('aName', 'John Michael Graham'), ('films', '1')]\n",
      "[('f', 'http://www.wikidata.org/entity/Q1243029'), ('name', 'Friday the 13th'), ('actor', 'http://www.wikidata.org/entity/Q13218111'), ('aName', 'Harry Crosby'), ('films', '1')]\n",
      "[('f', 'http://www.wikidata.org/entity/Q1243029'), ('name', 'Friday the 13th'), ('actor', 'http://www.wikidata.org/entity/Q2570201'), ('aName', 'Laurie Bartram'), ('films', '1')]\n",
      "22\n"
     ]
    }
   ],
   "source": [
    "queryString = \"\"\"\n",
    "SELECT ?f ?name ?actor ?aName (COUNT(DISTINCT ?film) AS ?films)\n",
    "WHERE { \n",
    "    VALUES ?f {wd:Q1243029 wd:Q221103}.\n",
    "    ?f wdt:P161 ?actor;\n",
    "                wdt:P577 ?datef.\n",
    "    ?film wdt:P161 ?actor;\n",
    "          wdt:P577 ?date.\n",
    "\n",
    "    FILTER(?date>?datef).\n",
    "\n",
    "    ?f sc:name ?name.\n",
    "    ?actor sc:name ?aName.\n",
    "} \n",
    "GROUP BY ?f ?name ?actor  ?aName\n",
    "ORDER BY DESC(?films)\n",
    "\n",
    "\"\"\"\n",
    "\n",
    "print(\"Results\")\n",
    "x=run_query(queryString)"
   ]
  },
  {
   "cell_type": "code",
   "execution_count": 9,
   "id": "5b0f8ea8-7519-46d2-8ed6-e763eb3f0473",
   "metadata": {},
   "outputs": [
    {
     "name": "stdout",
     "output_type": "stream",
     "text": [
      "JSON object updated\n"
     ]
    }
   ],
   "source": [
    "### insert the result of TASK 3 in the file\n",
    "halloween_uri = \"http://www.wikidata.org/entity/Q221103\"\n",
    "halloween_name = \"Halloween\"\n",
    "friday_uri = \"http://www.wikidata.org/entity/Q1243029\"\n",
    "friday_name = \"Friday the 13th\"\n",
    "bacon_uri = \"http://www.wikidata.org/entity/Q3454165\"\n",
    "bacon_name = \"Kevin Bacon\"\n",
    "pleasence_uri = \"http://www.wikidata.org/entity/Q314914\"\n",
    "pleasence_name = \"Donald Pleasence\"\n",
    "\n",
    "halloween_res = {\"uri\":pleasence_uri,\"name\":pleasence_name,\"check\":[\"uri\",\"name\"],\"refers_to\":halloween_uri,\"refers_to_name\":halloween_name}\n",
    "friday_res = {\"uri\":bacon_uri,\"name\":bacon_name,\"check\":[\"uri\",\"name\"],\"refers_to\":friday_uri,\"refers_to_name\":friday_name}\n",
    "obj = [halloween_res,friday_res]\n",
    "add_result(\"3\", TYPE_REFERRED ,[\"uri\",\"name\"],obj)"
   ]
  },
  {
   "cell_type": "markdown",
   "id": "d8471388-2838-4942-b32e-b3bf3dfc3daa",
   "metadata": {
    "tags": []
   },
   "source": [
    "### Task 4: Get all the movies of the two franchises (return year and director)"
   ]
  },
  {
   "cell_type": "markdown",
   "id": "793b9ba5-622a-49a4-bd97-225e331968cb",
   "metadata": {},
   "source": [
    "`wdt:P179` is the predicate part of the series, that is useful to find the main entity. "
   ]
  },
  {
   "cell_type": "code",
   "execution_count": 41,
   "id": "18493cdd-662c-45ee-9294-7af4bb52e63a",
   "metadata": {},
   "outputs": [
    {
     "name": "stdout",
     "output_type": "stream",
     "text": [
      "Results\n",
      "[('franchise', 'http://www.wikidata.org/entity/Q1364022'), ('name', 'Halloween')]\n",
      "[('franchise', 'http://www.wikidata.org/entity/Q1138878'), ('name', 'Friday the 13th')]\n",
      "2\n"
     ]
    }
   ],
   "source": [
    "queryString = \"\"\"\n",
    "SELECT DISTINCT ?franchise ?name WHERE{\n",
    "    \n",
    "    VALUES ?f {wd:Q221103 wd:Q1243029 }.\n",
    "    ?f wdt:P179 ?franchise.\n",
    "    ?franchise sc:name ?name .\n",
    "\n",
    "}\n",
    "\n",
    "LIMIT 100\n",
    "\"\"\"\n",
    "\n",
    "print(\"Results\")\n",
    "x=run_query(queryString)"
   ]
  },
  {
   "cell_type": "markdown",
   "id": "ffc71928-b7e1-4a87-9f5b-6353c50571b9",
   "metadata": {},
   "source": [
    "Since a film can have more than one director and more than one year of release (usually it depends by the country of release), in this query I decide to get as result set all triples **film-director-year** instead of using the group concat "
   ]
  },
  {
   "cell_type": "code",
   "execution_count": 10,
   "id": "40c8afa6-5792-4ac4-9efb-32eee73af4e4",
   "metadata": {},
   "outputs": [
    {
     "name": "stdout",
     "output_type": "stream",
     "text": [
      "Results\n",
      "[('film', 'http://www.wikidata.org/entity/Q959853'), ('fName', 'Halloween 4: The Return of Michael Myers'), ('dir', 'http://www.wikidata.org/entity/Q1268483'), ('director', 'Dwight H. Little'), ('year', '1988')]\n",
      "[('film', 'http://www.wikidata.org/entity/Q959853'), ('fName', 'Halloween 4: The Return of Michael Myers'), ('dir', 'http://www.wikidata.org/entity/Q1268483'), ('director', 'Dwight H. Little'), ('year', '1989')]\n",
      "[('film', 'http://www.wikidata.org/entity/Q1454799'), ('fName', 'Friday the 13th Part VI: Jason Lives'), ('dir', 'http://www.wikidata.org/entity/Q730985'), ('director', 'Tom McLoughlin'), ('year', '1986')]\n",
      "[('film', 'http://www.wikidata.org/entity/Q203705'), ('fName', 'Halloween III: Season of the Witch'), ('dir', 'http://www.wikidata.org/entity/Q574983'), ('director', 'Tommy Lee Wallace'), ('year', '1982')]\n",
      "[('film', 'http://www.wikidata.org/entity/Q221103'), ('fName', 'Halloween'), ('dir', 'http://www.wikidata.org/entity/Q95008'), ('director', 'John Carpenter'), ('year', '1978')]\n",
      "[('film', 'http://www.wikidata.org/entity/Q221103'), ('fName', 'Halloween'), ('dir', 'http://www.wikidata.org/entity/Q95008'), ('director', 'John Carpenter'), ('year', '1979')]\n",
      "[('film', 'http://www.wikidata.org/entity/Q850312'), ('fName', 'Halloween II'), ('dir', 'http://www.wikidata.org/entity/Q95008'), ('director', 'John Carpenter'), ('year', '1981')]\n",
      "[('film', 'http://www.wikidata.org/entity/Q850312'), ('fName', 'Halloween II'), ('dir', 'http://www.wikidata.org/entity/Q95008'), ('director', 'John Carpenter'), ('year', '1982')]\n",
      "[('film', 'http://www.wikidata.org/entity/Q1427521'), ('fName', 'Jason X'), ('dir', 'http://www.wikidata.org/entity/Q472868'), ('director', 'James Isaac'), ('year', '2001')]\n",
      "[('film', 'http://www.wikidata.org/entity/Q909063'), ('fName', 'Halloween'), ('dir', 'http://www.wikidata.org/entity/Q298255'), ('director', 'Rob Zombie'), ('year', '2007')]\n",
      "[('film', 'http://www.wikidata.org/entity/Q908690'), ('fName', 'Halloween II'), ('dir', 'http://www.wikidata.org/entity/Q298255'), ('director', 'Rob Zombie'), ('year', '2009')]\n",
      "[('film', 'http://www.wikidata.org/entity/Q1243009'), ('fName', 'Friday the 13th Part 2'), ('dir', 'http://www.wikidata.org/entity/Q709325'), ('director', 'Sean S. Cunningham'), ('year', '1981')]\n",
      "[('film', 'http://www.wikidata.org/entity/Q1243029'), ('fName', 'Friday the 13th'), ('dir', 'http://www.wikidata.org/entity/Q709325'), ('director', 'Sean S. Cunningham'), ('year', '1980')]\n",
      "[('film', 'http://www.wikidata.org/entity/Q1243009'), ('fName', 'Friday the 13th Part 2'), ('dir', 'http://www.wikidata.org/entity/Q107404'), ('director', 'Steve Miner'), ('year', '1981')]\n",
      "[('film', 'http://www.wikidata.org/entity/Q1243013'), ('fName', 'Friday the 13th Part III'), ('dir', 'http://www.wikidata.org/entity/Q107404'), ('director', 'Steve Miner'), ('year', '1982')]\n",
      "[('film', 'http://www.wikidata.org/entity/Q1243013'), ('fName', 'Friday the 13th Part III'), ('dir', 'http://www.wikidata.org/entity/Q107404'), ('director', 'Steve Miner'), ('year', '1983')]\n",
      "[('film', 'http://www.wikidata.org/entity/Q1050815'), ('fName', 'Halloween H20: 20 Years Later'), ('dir', 'http://www.wikidata.org/entity/Q107404'), ('director', 'Steve Miner'), ('year', '1998')]\n",
      "[('film', 'http://www.wikidata.org/entity/Q976728'), ('fName', 'Halloween 5: The Revenge of Michael Myers'), ('dir', 'http://www.wikidata.org/entity/Q117234'), ('director', 'Dominique Othenin-Girard'), ('year', '1989')]\n",
      "[('film', 'http://www.wikidata.org/entity/Q976728'), ('fName', 'Halloween 5: The Revenge of Michael Myers'), ('dir', 'http://www.wikidata.org/entity/Q117234'), ('director', 'Dominique Othenin-Girard'), ('year', '1991')]\n",
      "[('film', 'http://www.wikidata.org/entity/Q176488'), ('fName', 'Halloween: Resurrection'), ('dir', 'http://www.wikidata.org/entity/Q1384404'), ('director', 'Rick Rosenthal'), ('year', '2002')]\n",
      "[('film', 'http://www.wikidata.org/entity/Q850312'), ('fName', 'Halloween II'), ('dir', 'http://www.wikidata.org/entity/Q1384404'), ('director', 'Rick Rosenthal'), ('year', '1981')]\n",
      "[('film', 'http://www.wikidata.org/entity/Q850312'), ('fName', 'Halloween II'), ('dir', 'http://www.wikidata.org/entity/Q1384404'), ('director', 'Rick Rosenthal'), ('year', '1982')]\n",
      "[('film', 'http://www.wikidata.org/entity/Q1454798'), ('fName', 'Friday the 13th Part VII: The New Blood'), ('dir', 'http://www.wikidata.org/entity/Q3052099'), ('director', 'John Carl Buechler'), ('year', '1988')]\n",
      "[('film', 'http://www.wikidata.org/entity/Q1138055'), ('fName', 'Halloween: The Curse of Michael Myers'), ('dir', 'http://www.wikidata.org/entity/Q1381885'), ('director', 'Joe Chappelle'), ('year', '1995')]\n",
      "[('film', 'http://www.wikidata.org/entity/Q965859'), ('fName', 'Freddy vs. Jason'), ('dir', 'http://www.wikidata.org/entity/Q525109'), ('director', 'Ronny Yu'), ('year', '2003')]\n",
      "[('film', 'http://www.wikidata.org/entity/Q1454794'), ('fName', 'Friday the 13th Part VIII: Jason Takes Manhattan'), ('dir', 'http://www.wikidata.org/entity/Q21280751'), ('director', 'Rob Hedden'), ('year', '1989')]\n",
      "[('film', 'http://www.wikidata.org/entity/Q1454815'), ('fName', 'Friday the 13th'), ('dir', 'http://www.wikidata.org/entity/Q77399'), ('director', 'Marcus Nispel'), ('year', '2009')]\n",
      "[('film', 'http://www.wikidata.org/entity/Q1683918'), ('fName', 'Jason Goes to Hell: The Final Friday'), ('dir', 'http://www.wikidata.org/entity/Q4679450'), ('director', 'Adam Marcus'), ('year', '1993')]\n",
      "[('film', 'http://www.wikidata.org/entity/Q1243019'), ('fName', 'Friday the 13th: The Final Chapter'), ('dir', 'http://www.wikidata.org/entity/Q11335'), ('director', 'Joseph Zito'), ('year', '1984')]\n",
      "[('film', 'http://www.wikidata.org/entity/Q286830'), ('fName', 'Friday the 13th: A New Beginning'), ('dir', 'http://www.wikidata.org/entity/Q1778633'), ('director', 'Danny Steinmann'), ('year', '1985')]\n",
      "[('film', 'http://www.wikidata.org/entity/Q286830'), ('fName', 'Friday the 13th: A New Beginning'), ('dir', 'http://www.wikidata.org/entity/Q1778633'), ('director', 'Danny Steinmann'), ('year', '1987')]\n",
      "31\n"
     ]
    }
   ],
   "source": [
    "queryString = \"\"\"\n",
    "SELECT DISTINCT ?film ?fName ?dir ?director ?year WHERE{\n",
    "    \n",
    "    VALUES ?f {wd:Q221103 wd:Q1243029 }.\n",
    "    ?f wdt:P179 ?o.\n",
    "    ?film wdt:P179 ?o;\n",
    "          wdt:P57  ?dir;\n",
    "          wdt:P577 ?date.\n",
    "    BIND(year(xsd:dateTime(?date)) as ?year).\n",
    "    #Labels\n",
    "    ?dir sc:name ?director .\n",
    "    ?film sc:name ?fName .\n",
    "\n",
    "}\n",
    "\n",
    "LIMIT 100\n",
    "\"\"\"\n",
    "\n",
    "print(\"Results\")\n",
    "x=run_query(queryString)"
   ]
  },
  {
   "cell_type": "code",
   "execution_count": 11,
   "id": "0db476e4-9f96-4c2e-b817-c9b80c9dfd57",
   "metadata": {},
   "outputs": [
    {
     "name": "stdout",
     "output_type": "stream",
     "text": [
      "JSON object updated\n"
     ]
    }
   ],
   "source": [
    "objs=[]\n",
    "for i in x:\n",
    "    f_uri = i[0][1]\n",
    "    f_name = i[1][1]\n",
    "    dir_uri = i[2][1]\n",
    "    dir_name = i[3][1]\n",
    "    year = i[4][1]\n",
    "    # add the year element\n",
    "    obj = {}\n",
    "    obj[\"refers_to\"] = f_uri\n",
    "    obj[\"refers_to_name\"] = f_name\n",
    "    obj[\"check\"] = \"value\"\n",
    "    obj[\"value\"] = year\n",
    "    objs.append(obj)\n",
    "    # add the director element\n",
    "    obj = {}\n",
    "    obj[\"refers_to\"] = f_uri\n",
    "    obj[\"refers_to_name\"] = f_name\n",
    "    obj[\"check\"] = [\"uri\",\"name\"]\n",
    "    obj[\"uri\"] = dir_uri\n",
    "    obj[\"name\"] = dir_name\n",
    "    objs.append(obj)\n",
    "add_result(\"4\", TYPE_REFERRED ,[\"uri\",\"name\",\"value\"],objs)"
   ]
  },
  {
   "cell_type": "markdown",
   "id": "8c29d8e8-058f-45f6-ab11-5c8c3895d628",
   "metadata": {},
   "source": [
    "### Task 5: Who is most involved in a franchise (who did something in the movies, e.g., writer, director, producer)?"
   ]
  },
  {
   "cell_type": "markdown",
   "id": "2f5c43f0-5f93-421d-a9b8-14bca3f2e06a",
   "metadata": {},
   "source": [
    "Retrieve the most involved worker in both franchises."
   ]
  },
  {
   "cell_type": "code",
   "execution_count": 57,
   "id": "03a47cd2-407a-40fd-8f91-1fd465b2dbf3",
   "metadata": {},
   "outputs": [
    {
     "name": "stdout",
     "output_type": "stream",
     "text": [
      "Results\n",
      "[('franchise', 'http://www.wikidata.org/entity/Q1138878'), ('fName', 'Friday the 13th'), ('worker', 'http://www.wikidata.org/entity/Q664025'), ('wName', 'Harry Manfredini'), ('Appearances', '9')]\n",
      "[('franchise', 'http://www.wikidata.org/entity/Q1138878'), ('fName', 'Friday the 13th'), ('worker', 'http://www.wikidata.org/entity/Q709325'), ('wName', 'Sean S. Cunningham'), ('Appearances', '6')]\n",
      "[('franchise', 'http://www.wikidata.org/entity/Q1364022'), ('fName', 'Halloween'), ('worker', 'http://www.wikidata.org/entity/Q380471'), ('wName', 'Moustapha Akkad'), ('Appearances', '5')]\n",
      "[('franchise', 'http://www.wikidata.org/entity/Q1364022'), ('fName', 'Halloween'), ('worker', 'http://www.wikidata.org/entity/Q314914'), ('wName', 'Donald Pleasence'), ('Appearances', '5')]\n",
      "[('franchise', 'http://www.wikidata.org/entity/Q1364022'), ('fName', 'Halloween'), ('worker', 'http://www.wikidata.org/entity/Q106997'), ('wName', 'Jamie Lee Curtis'), ('Appearances', '5')]\n",
      "[('franchise', 'http://www.wikidata.org/entity/Q1364022'), ('fName', 'Halloween'), ('worker', 'http://www.wikidata.org/entity/Q95008'), ('wName', 'John Carpenter'), ('Appearances', '5')]\n",
      "6\n"
     ]
    }
   ],
   "source": [
    "queryString = \"\"\"\n",
    "SELECT ?franchise ?fName ?worker ?wName (COUNT(DISTINCT ?film) AS ?Appearances)\n",
    "{  \n",
    "    VALUES ?f {wd:Q221103 wd:Q1243029 }.\n",
    "    ?f wdt:P179 ?franchise.\n",
    "    ?film wdt:P179 ?franchise. #franchise\n",
    "    ?film ?p ?worker.\n",
    "    ?worker wdt:P31 wd:Q5 ;\n",
    "            wdt:P106/wdt:P31/wdt:279* wd:Q4220920 .\n",
    "    \n",
    "    #Labels\n",
    "    ?worker sc:name ?wName.\n",
    "    ?franchise sc:name ?fName .\n",
    "}\n",
    "GROUP BY ?franchise ?fName ?worker ?wName\n",
    "ORDER BY DESC(?Appearances)\n",
    "LIMIT 6\n",
    "\"\"\"\n",
    "print(\"Results\")\n",
    "x=run_query(queryString)"
   ]
  },
  {
   "cell_type": "code",
   "execution_count": 12,
   "id": "77c7aece-5050-4c03-8178-8b4fe8543eb1",
   "metadata": {},
   "outputs": [
    {
     "name": "stdout",
     "output_type": "stream",
     "text": [
      "JSON object updated\n"
     ]
    }
   ],
   "source": [
    "### insert the result of TASK 5 in the file\n",
    "halloween_uri = \"http://www.wikidata.org/entity/Q1364022\"\n",
    "halloween_name = \"Halloween\"\n",
    "friday_uri = \"http://www.wikidata.org/entity/Q1138878\"\n",
    "friday_name = \"Friday the 13th\"\n",
    "manfredini_uri = \"http://www.wikidata.org/entity/Q664025\"\n",
    "manfredini_name = \"Harry Manfredini\"\n",
    "pleasence_uri = \"http://www.wikidata.org/entity/Q314914\"\n",
    "pleasence_name = \"Donald Pleasence\"\n",
    "\n",
    "halloween_res = {\"uri\":pleasence_uri,\"name\":pleasence_name,\"check\":[\"uri\",\"name\"],\"refers_to\":halloween_uri,\"refers_to_name\":halloween_name}\n",
    "friday_res = {\"uri\":manfredini_uri,\"name\":manfredini_name,\"check\":[\"uri\",\"name\"],\"refers_to\":friday_uri,\"refers_to_name\":friday_name}\n",
    "obj = [halloween_res,friday_res]\n",
    "add_result(\"5\", TYPE_REFERRED ,[\"uri\",\"name\"],obj)"
   ]
  },
  {
   "cell_type": "markdown",
   "id": "354e5788-73dc-4390-95c4-42e943280204",
   "metadata": {},
   "source": [
    "### Task 6: Investigate which franchise is highly regarded by the critics overall"
   ]
  },
  {
   "cell_type": "markdown",
   "id": "497e9a90-35ca-447b-8976-6111867f2df6",
   "metadata": {},
   "source": [
    "Since this Wikidata snapshot does not contains the review score I can use the total number of awards won by the franchises"
   ]
  },
  {
   "cell_type": "code",
   "execution_count": 59,
   "id": "95647ebd-6693-494e-90c3-f032da7ee977",
   "metadata": {},
   "outputs": [
    {
     "name": "stdout",
     "output_type": "stream",
     "text": [
      "Results\n",
      "[('franchise', 'http://www.wikidata.org/entity/Q1138878'), ('name', 'Friday the 13th'), ('wins', '0'), ('nominations', '2')]\n",
      "[('franchise', 'http://www.wikidata.org/entity/Q1364022'), ('name', 'Halloween'), ('wins', '1'), ('nominations', '0')]\n",
      "2\n"
     ]
    }
   ],
   "source": [
    "queryString = \"\"\"\n",
    "SELECT DISTINCT ?franchise ?name (COUNT(?o) AS ?wins) (COUNT(?x) AS ?nominations)\n",
    "{ \n",
    "    VALUES ?f {wd:Q221103 wd:Q1243029 }.\n",
    "    ?f wdt:P179 ?franchise.\n",
    "    ?film wdt:P179 ?franchise. #franchise\n",
    "    OPTIONAL{?film wdt:P166 ?o.}\n",
    "    OPTIONAL{?film wdt:P1411 ?x.}\n",
    "    \n",
    "    ?franchise sc:name ?name\n",
    "}\n",
    "GROUP BY ?franchise ?name\n",
    "\"\"\"\n",
    "print(\"Results\")\n",
    "x=run_query(queryString)"
   ]
  },
  {
   "cell_type": "markdown",
   "id": "015fe508-c772-4856-a8ce-49f61f2f752b",
   "metadata": {},
   "source": [
    "#### TASK 6 considerations\n",
    "I used the number of nominations and awards won to measure how much the crititcs liked the films belonging to the two franchises. \n",
    "Friday 13th has been nominated two times for Golden Raspberry Award. Unexpectedly this is not a good thing because it was for worst picture and worst\n",
    "actress, so I'd say that critics liked Halloween franchise more than Friday 13th one."
   ]
  },
  {
   "cell_type": "markdown",
   "id": "0cc70b40-5e79-40aa-ab52-7652f0d83b6d",
   "metadata": {},
   "source": [
    "### Task 7: Investigate which franchise costed more "
   ]
  },
  {
   "cell_type": "markdown",
   "id": "eb3211e7-5e73-4435-b15f-0c7ed6f5c9bf",
   "metadata": {},
   "source": [
    "Check how many movies have cost (P2130) and bugdet (P2769)."
   ]
  },
  {
   "cell_type": "code",
   "execution_count": 45,
   "id": "654b0f19-9bee-4341-8601-65cd45a2ae7f",
   "metadata": {},
   "outputs": [
    {
     "name": "stdout",
     "output_type": "stream",
     "text": [
      "Results\n",
      "[('film', 'http://www.wikidata.org/entity/Q1454799'), ('name', 'Friday the 13th Part VI: Jason Lives'), ('cost', '3000000')]\n",
      "[('film', 'http://www.wikidata.org/entity/Q1454798'), ('name', 'Friday the 13th Part VII: The New Blood'), ('cost', '2800000')]\n",
      "[('film', 'http://www.wikidata.org/entity/Q1243019'), ('name', 'Friday the 13th: The Final Chapter'), ('cost', '2600000')]\n",
      "[('film', 'http://www.wikidata.org/entity/Q1243013'), ('name', 'Friday the 13th Part III'), ('cost', '2250000')]\n",
      "[('film', 'http://www.wikidata.org/entity/Q1243009'), ('name', 'Friday the 13th Part 2'), ('cost', '1250000')]\n",
      "[('film', 'http://www.wikidata.org/entity/Q221103'), ('name', 'Halloween'), ('cost', '325000')]\n",
      "6\n"
     ]
    }
   ],
   "source": [
    "#check how many movies have cost (P2130)\n",
    "queryString = \"\"\"\n",
    "SELECT ?film ?name ?cost WHERE\n",
    "{  \n",
    "    VALUES ?franchise {wd:Q1364022 wd:Q1138878}.\n",
    "    ?film wdt:P179 ?franchise.\n",
    "    ?film wdt:P2130 ?cost.\n",
    "    ?film <http://schema.org/name> ?name .\n",
    "\n",
    "}\n",
    "ORDER BY DESC(?cost)\n",
    "\"\"\"\n",
    "print(\"Results\")\n",
    "x=run_query(queryString)"
   ]
  },
  {
   "cell_type": "code",
   "execution_count": 46,
   "id": "abc0f04a-ac22-4e3b-b16b-5b2b00449f84",
   "metadata": {},
   "outputs": [
    {
     "name": "stdout",
     "output_type": "stream",
     "text": [
      "Results\n",
      "[('film', 'http://www.wikidata.org/entity/Q176488'), ('name', 'Halloween: Resurrection'), ('budget', '15000000')]\n",
      "[('film', 'http://www.wikidata.org/entity/Q909063'), ('name', 'Halloween'), ('budget', '15000000')]\n",
      "[('film', 'http://www.wikidata.org/entity/Q1138055'), ('name', 'Halloween: The Curse of Michael Myers'), ('budget', '5000000')]\n",
      "[('film', 'http://www.wikidata.org/entity/Q976728'), ('name', 'Halloween 5: The Revenge of Michael Myers'), ('budget', '3000000')]\n",
      "[('film', 'http://www.wikidata.org/entity/Q203705'), ('name', 'Halloween III: Season of the Witch'), ('budget', '2500000')]\n",
      "5\n"
     ]
    }
   ],
   "source": [
    "#check how many movies have bugdet (P2769)\n",
    "queryString = \"\"\"\n",
    "SELECT ?film ?name ?budget WHERE\n",
    "{  \n",
    "    VALUES ?franchise {wd:Q1364022 wd:Q1138878}.\n",
    "    ?film wdt:P179 ?franchise.\n",
    "    ?film wdt:P2769 ?budget.\n",
    "    ?film <http://schema.org/name> ?name .\n",
    "\n",
    "}\n",
    "ORDER BY DESC(?budget)\n",
    "\"\"\"\n",
    "print(\"Results\")\n",
    "x=run_query(queryString)"
   ]
  },
  {
   "cell_type": "markdown",
   "id": "6a6928ad-17e0-4656-a2aa-f59249acd8e0",
   "metadata": {},
   "source": [
    "The two sets of result are disjoint, so we can take the union"
   ]
  },
  {
   "cell_type": "code",
   "execution_count": 47,
   "id": "9bbe89e1-74db-4731-9881-9206129bfeaa",
   "metadata": {},
   "outputs": [
    {
     "name": "stdout",
     "output_type": "stream",
     "text": [
      "Results\n",
      "[('film', 'http://www.wikidata.org/entity/Q1454799'), ('name', 'Friday the 13th Part VI: Jason Lives'), ('cost', '3000000')]\n",
      "[('film', 'http://www.wikidata.org/entity/Q1454798'), ('name', 'Friday the 13th Part VII: The New Blood'), ('cost', '2800000')]\n",
      "[('film', 'http://www.wikidata.org/entity/Q1243019'), ('name', 'Friday the 13th: The Final Chapter'), ('cost', '2600000')]\n",
      "[('film', 'http://www.wikidata.org/entity/Q1243013'), ('name', 'Friday the 13th Part III'), ('cost', '2250000')]\n",
      "[('film', 'http://www.wikidata.org/entity/Q1243009'), ('name', 'Friday the 13th Part 2'), ('cost', '1250000')]\n",
      "[('film', 'http://www.wikidata.org/entity/Q221103'), ('name', 'Halloween'), ('cost', '325000')]\n",
      "[('film', 'http://www.wikidata.org/entity/Q176488'), ('name', 'Halloween: Resurrection'), ('budget', '15000000')]\n",
      "[('film', 'http://www.wikidata.org/entity/Q909063'), ('name', 'Halloween'), ('budget', '15000000')]\n",
      "[('film', 'http://www.wikidata.org/entity/Q1138055'), ('name', 'Halloween: The Curse of Michael Myers'), ('budget', '5000000')]\n",
      "[('film', 'http://www.wikidata.org/entity/Q976728'), ('name', 'Halloween 5: The Revenge of Michael Myers'), ('budget', '3000000')]\n",
      "[('film', 'http://www.wikidata.org/entity/Q203705'), ('name', 'Halloween III: Season of the Witch'), ('budget', '2500000')]\n",
      "11\n"
     ]
    }
   ],
   "source": [
    "# print movie with cost/budget\n",
    "queryString = \"\"\"\n",
    "SELECT ?film ?name ?cost ?budget WHERE\n",
    "{  \n",
    "    VALUES ?franchise {wd:Q1364022 wd:Q1138878}.\n",
    "    ?film wdt:P179 ?franchise.\n",
    "    {{?film wdt:P2130 ?cost.} UNION {?film wdt:P2769 ?budget.}}\n",
    "    ?film <http://schema.org/name> ?name .\n",
    "\n",
    "}\n",
    "ORDER BY DESC (?cost) DESC (?budget)\n",
    "\"\"\"\n",
    "print(\"Results\")\n",
    "x=run_query(queryString)"
   ]
  },
  {
   "cell_type": "code",
   "execution_count": 13,
   "id": "2e98e148-d767-420b-85ad-e89168b095ef",
   "metadata": {},
   "outputs": [
    {
     "name": "stdout",
     "output_type": "stream",
     "text": [
      "Results\n",
      "[('franchise', 'http://www.wikidata.org/entity/Q1138878'), ('name', 'Friday the 13th'), ('t_cost', '11900000')]\n",
      "[('franchise', 'http://www.wikidata.org/entity/Q1364022'), ('name', 'Halloween'), ('t_cost', '325000'), ('t_budget', '40500000')]\n",
      "2\n"
     ]
    }
   ],
   "source": [
    "# final result\n",
    "queryString = \"\"\"\n",
    "SELECT ?franchise ?name (SUM(?cost) AS ?t_cost) (SUM(?budget) AS ?t_budget) WHERE\n",
    "{  \n",
    "    VALUES ?franchise {wd:Q1364022 wd:Q1138878}.\n",
    "    ?film wdt:P179 ?franchise.\n",
    "    {{?film wdt:P2130 ?cost.} UNION {?film wdt:P2769 ?budget.}}\n",
    "    ?franchise sc:name ?name .\n",
    "\n",
    "}\n",
    "GROUP BY ?franchise ?name\n",
    "\"\"\"\n",
    "print(\"Results\")\n",
    "x=run_query(queryString)"
   ]
  },
  {
   "cell_type": "code",
   "execution_count": 14,
   "id": "b8943a31-f950-4422-ba01-44038ff962d1",
   "metadata": {},
   "outputs": [
    {
     "name": "stdout",
     "output_type": "stream",
     "text": [
      "JSON object updated\n"
     ]
    }
   ],
   "source": [
    "### insert the result of TASK 7 in the file\n",
    "obj1 = {\"refers_to\":x[0][0][1],\"check\":\"value\",\"refers_to_name\":x[0][1][1],\"value\":x[0][2][1]}\n",
    "obj2 = {\"refers_to\":x[1][0][1],\"check\":\"value\",\"refers_to_name\":x[1][1][1],\"value\":x[1][3][1]}\n",
    "obj = [obj1,obj2]\n",
    "\n",
    "add_result(\"7\", TYPE_REFERRED ,\"value\",obj)"
   ]
  },
  {
   "cell_type": "code",
   "execution_count": null,
   "id": "c010e5eb-c2cb-47eb-aaa6-8be530fa5ea2",
   "metadata": {},
   "outputs": [],
   "source": []
  }
 ],
 "metadata": {
  "kernelspec": {
   "display_name": "Python 3",
   "language": "python",
   "name": "python3"
  },
  "language_info": {
   "codemirror_mode": {
    "name": "ipython",
    "version": 3
   },
   "file_extension": ".py",
   "mimetype": "text/x-python",
   "name": "python",
   "nbconvert_exporter": "python",
   "pygments_lexer": "ipython3",
   "version": "3.7.10"
  }
 },
 "nbformat": 4,
 "nbformat_minor": 5
}
