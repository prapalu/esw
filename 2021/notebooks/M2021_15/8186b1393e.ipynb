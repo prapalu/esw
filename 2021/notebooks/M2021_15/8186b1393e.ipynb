{
 "cells": [
  {
   "cell_type": "markdown",
   "id": "7034c3bf-6eb0-4418-8687-7b9d2a501103",
   "metadata": {},
   "source": [
    "# General instructions\n",
    "\n",
    "The goal of the project is to materialize a set of **exploratory workloads** over a real-world, large-scale,  open-domain KG: [WikiData](https://www.wikidata.org/wiki/Wikidata:Main_Page)\n",
    "\n",
    "An exploratory workload  is composed by a set of queries, where each query is related to the information obtained previously.\n",
    "\n",
    "An exploratory workload starts with a usually vague, open ended question, and does not assume the person issuing the workload has a clear understanding of the data contained in the target database or its structure.\n",
    "\n",
    "Remeber that:\n",
    "\n",
    "1. All the queries must run in the python notebook\n",
    "2. You can use classes and properties only if you find them via a SPARQL query that must be present in the notebook\n",
    "3. You do not delete useless queries. Keep everything that is synthatically valid \n",
    "\n",
    "```\n",
    "?p <http://schema.org/name> ?name .\n",
    "```\n",
    "    \n",
    "is the BGP returning a human-readable name of a property or a class in Wikidata.\n",
    "    \n",
    "    "
   ]
  },
  {
   "cell_type": "code",
   "execution_count": 1,
   "id": "3605c9d5-5371-49a5-be8d-d66e8f417139",
   "metadata": {},
   "outputs": [],
   "source": [
    "## SETUP used later\n",
    "\n",
    "from SPARQLWrapper import SPARQLWrapper, JSON\n",
    "\n",
    "\n",
    "prefixString = \"\"\"\n",
    "##-8186b1393e-##\n",
    "PREFIX wd: <http://www.wikidata.org/entity/> \n",
    "PREFIX wdt: <http://www.wikidata.org/prop/direct/> \n",
    "PREFIX sc: <http://schema.org/>\n",
    "\"\"\"\n",
    "\n",
    "# select and construct queries\n",
    "def run_query(queryString):\n",
    "    to_run = prefixString + \"\\n\" + queryString\n",
    "\n",
    "    sparql = SPARQLWrapper(\"http://a256-gc1-02.srv.aau.dk:5820/sparql\")\n",
    "    sparql.setTimeout(300)\n",
    "    sparql.setReturnFormat(JSON)\n",
    "    sparql.setQuery(to_run)\n",
    "\n",
    "    try :\n",
    "       results = sparql.query()\n",
    "       json_results = results.convert()\n",
    "       if len(json_results['results']['bindings'])==0:\n",
    "          print(\"Empty\")\n",
    "          return 0\n",
    "    \n",
    "       for bindings in json_results['results']['bindings']:\n",
    "          print( [ (var, value['value'])  for var, value in bindings.items() ] )\n",
    "\n",
    "       return len(json_results['results']['bindings'])\n",
    "\n",
    "    except Exception as e :\n",
    "        print(\"The operation failed\", e)\n",
    "    \n",
    "# ASk queries\n",
    "def run_ask_query(queryString):\n",
    "    to_run = prefixString + \"\\n\" + queryString\n",
    "\n",
    "    sparql = SPARQLWrapper(\"http://a256-gc1-02.srv.aau.dk:5820/sparql\")\n",
    "    sparql.setTimeout(300)\n",
    "    sparql.setReturnFormat(JSON)\n",
    "    sparql.setQuery(to_run)\n",
    "\n",
    "    try :\n",
    "        return sparql.query().convert()\n",
    "\n",
    "    except Exception as e :\n",
    "        print(\"The operation failed\", e)\n"
   ]
  },
  {
   "cell_type": "markdown",
   "id": "d477a59c-a68c-4c8f-9f97-8ca5294d7d27",
   "metadata": {
    "tags": []
   },
   "source": [
    "# Companies Workflow Series (\"Economy of EU States\") \n",
    "\n",
    "Consider the following exploratory information need:\n",
    "\n",
    "> Compare businesses across different sectors and types in E.U. countries"
   ]
  },
  {
   "cell_type": "markdown",
   "id": "4a45c0ba-f79e-441d-bec5-84401b09db70",
   "metadata": {
    "jp-MarkdownHeadingCollapsed": true,
    "tags": []
   },
   "source": [
    "## Useful URIs for the current workflow\n",
    "\n",
    "\n",
    "The following are given:\n",
    "\n",
    "| IRI           | Description   | Role      |\n",
    "| -----------   | -----------   |-----------|\n",
    "| `wdt:P1647`   | subproperty   | predicate |\n",
    "| `wdt:P31`     | instance of   | predicate |\n",
    "| `wdt:P279`    | subclass      | predicate |\n",
    "| `wdt:P17`      | country       | predicate |\n",
    "| `wd:Q458`      | E.U.         | node |\n",
    "| `wd:Q142`      | France       | node      |\n",
    "| `wd:Q4830453`  | Business     | node      |\n",
    "| `wd:Q6881511`  | Enterprise   | node      |\n",
    "| `wd:Q29110228` | AXA          | node |\n",
    "| `wd:Q43183`    | insurance    | node |\n",
    "\n",
    "\n",
    "\n",
    "\n",
    "Also consider\n",
    "\n",
    "```\n",
    "{ \n",
    "?p wdt:P17 wd:Q142  . \n",
    "?p wdt:P31 wd:Q6881511  . \n",
    "} UNION {\n",
    "?p wdt:P17 wd:Q142  . \n",
    "?p wdt:P31 wd:Q4830453  . \n",
    "}\n",
    "\n",
    "\n",
    "\n",
    "```\n",
    "\n",
    "is the BGP to retrieve all **french enterprises and businesses**"
   ]
  },
  {
   "cell_type": "markdown",
   "id": "7af439fb-96e4-4dbb-a381-f19afab79f86",
   "metadata": {
    "tags": []
   },
   "source": [
    "## Workload Goals\n",
    "\n",
    "1. Identify the BGP for obtaining the type, legal form, and industry of a company\n",
    "\n",
    "2. Identify the BGP to retrieve all companies owned by a company located in a EU country\n",
    "\n",
    "3. Which company has the largest presence in E.U.?\n",
    "\n",
    "4. Companies have different 'legal forms', compare the number of companies divided in different legal forms\n",
    "\n",
    "5. Analyze the number of companies per type, legal form, and industry in each state\n",
    " \n",
    "   5.1 What are the top-3 legal form in E.U.? \n",
    "   \n",
    "   5.2 For which companies is defined some form of income or market capitalization or total assets? What is the min, max, and average in each country for a given legal form?\n",
    "   \n",
    "   5.3 Which business in each country owns more businesses in other E.U. countries?\n",
    "   \n",
    "   5.4 What can we say about industry sectors in various countries?\n"
   ]
  },
  {
   "cell_type": "code",
   "execution_count": 2,
   "id": "24a853ab-830c-422c-afd3-e9e015b8b8ed",
   "metadata": {},
   "outputs": [],
   "source": [
    "# start your workflow here"
   ]
  },
  {
   "cell_type": "code",
   "execution_count": 3,
   "id": "ade01416-92e7-4ad7-b9a9-b8fb330750dc",
   "metadata": {},
   "outputs": [
    {
     "name": "stdout",
     "output_type": "stream",
     "text": [
      "Results\n",
      "[('callret-0', '4577')]\n"
     ]
    },
    {
     "data": {
      "text/plain": [
       "1"
      ]
     },
     "execution_count": 3,
     "metadata": {},
     "output_type": "execute_result"
    }
   ],
   "source": [
    "queryString = \"\"\"\n",
    "SELECT COUNT(*)\n",
    "WHERE { \n",
    "\n",
    "{ \n",
    "?p wdt:P17 wd:Q142  . \n",
    "?p wdt:P31 wd:Q6881511  . \n",
    "} UNION {\n",
    "?p wdt:P17 wd:Q142  . \n",
    "?p wdt:P31 wd:Q4830453  . \n",
    "}\n",
    "} \n",
    "\"\"\"\n",
    "\n",
    "print(\"Results\")\n",
    "run_query(queryString)"
   ]
  },
  {
   "cell_type": "markdown",
   "id": "a0016197-7856-4e14-83ff-6f637433d432",
   "metadata": {},
   "source": [
    "# Task 1\n",
    "\n",
    "*Identify the BGP for obtaining the type, legal form, and industry of a company*\n",
    "\n",
    "I already know that AXA is an insurance company. I got a bit confused by the fact that the given node for AXA isn't the node for AXA but for Panasonic."
   ]
  },
  {
   "cell_type": "code",
   "execution_count": 4,
   "id": "27281aab-3d36-40fa-ac1e-6ef0786ad83c",
   "metadata": {},
   "outputs": [
    {
     "name": "stdout",
     "output_type": "stream",
     "text": [
      "Results\n",
      "[('x', 'http://www.wikidata.org/prop/direct/P1278'), ('name', 'Legal Entity Identifier')]\n",
      "[('x', 'http://www.wikidata.org/prop/direct/P1320'), ('name', 'OpenCorporates ID')]\n",
      "[('x', 'http://www.wikidata.org/prop/direct/P1454'), ('name', 'legal form')]\n",
      "[('x', 'http://www.wikidata.org/prop/direct/P17'), ('name', 'country')]\n",
      "[('x', 'http://www.wikidata.org/prop/direct/P1830'), ('name', 'owner of')]\n",
      "[('x', 'http://www.wikidata.org/prop/direct/P213'), ('name', 'ISNI')]\n",
      "[('x', 'http://www.wikidata.org/prop/direct/P2657'), ('name', 'EU Transparency Register ID')]\n",
      "[('x', 'http://www.wikidata.org/prop/direct/P31'), ('name', 'instance of')]\n",
      "[('x', 'http://www.wikidata.org/prop/direct/P3500'), ('name', 'Ringgold ID')]\n",
      "[('x', 'http://www.wikidata.org/prop/direct/P355'), ('name', 'subsidiary')]\n",
      "[('x', 'http://www.wikidata.org/prop/direct/P3608'), ('name', 'EU VAT number')]\n",
      "[('x', 'http://www.wikidata.org/prop/direct/P4776'), ('name', 'MAC Address Block Large ID')]\n",
      "[('x', 'http://www.wikidata.org/prop/direct/P571'), ('name', 'inception')]\n",
      "[('x', 'http://www.wikidata.org/prop/direct/P5785'), ('name', 'EU Research participant ID')]\n",
      "[('x', 'http://www.wikidata.org/prop/direct/P749'), ('name', 'parent organization')]\n",
      "[('x', 'http://www.wikidata.org/prop/direct/P856'), ('name', 'official website')]\n",
      "[('x', 'http://www.wikidata.org/prop/direct/P2622'), ('name', 'Companies House company ID')]\n"
     ]
    },
    {
     "data": {
      "text/plain": [
       "17"
      ]
     },
     "execution_count": 4,
     "metadata": {},
     "output_type": "execute_result"
    }
   ],
   "source": [
    "# Find the properties of a company (in this case AXA)\n",
    "queryString = \"\"\"\n",
    "SELECT distinct ?x ?name\n",
    "WHERE { \n",
    "  wd:Q29110228 ?x ?y .\n",
    "  ?x <http://schema.org/name> ?name .\n",
    "} \n",
    "\"\"\"\n",
    "\n",
    "print(\"Results\")\n",
    "run_query(queryString)"
   ]
  },
  {
   "cell_type": "code",
   "execution_count": 6,
   "id": "2c87abf0-6bc7-4de1-98a8-a1e33bcc2b6e",
   "metadata": {},
   "outputs": [
    {
     "name": "stdout",
     "output_type": "stream",
     "text": [
      "Results\n",
      "[('x', 'http://www.wikidata.org/prop/direct/P1423'), ('name', 'template has topic')]\n",
      "[('x', 'http://www.wikidata.org/prop/direct/P101'), ('name', 'field of work')]\n",
      "[('x', 'http://www.wikidata.org/prop/direct/P1056'), ('name', 'product or material produced')]\n",
      "[('x', 'http://www.wikidata.org/prop/direct/P106'), ('name', 'occupation')]\n",
      "[('x', 'http://www.wikidata.org/prop/direct/P1269'), ('name', 'facet of')]\n",
      "[('x', 'http://www.wikidata.org/prop/direct/P1889'), ('name', 'different from')]\n",
      "[('x', 'http://www.wikidata.org/prop/direct/P279'), ('name', 'subclass of')]\n",
      "[('x', 'http://www.wikidata.org/prop/direct/P2959'), ('name', 'permanent duplicated item')]\n",
      "[('x', 'http://www.wikidata.org/prop/direct/P301'), ('name', \"category's main topic\")]\n",
      "[('x', 'http://www.wikidata.org/prop/direct/P31'), ('name', 'instance of')]\n",
      "[('x', 'http://www.wikidata.org/prop/direct/P361'), ('name', 'part of')]\n",
      "[('x', 'http://www.wikidata.org/prop/direct/P425'), ('name', 'field of this occupation')]\n",
      "[('x', 'http://www.wikidata.org/prop/direct/P452'), ('name', 'industry')]\n",
      "[('x', 'http://www.wikidata.org/prop/direct/P921'), ('name', 'main subject')]\n",
      "[('x', 'http://www.wikidata.org/prop/direct/P971'), ('name', 'category combines topics')]\n"
     ]
    },
    {
     "data": {
      "text/plain": [
       "15"
      ]
     },
     "execution_count": 6,
     "metadata": {},
     "output_type": "execute_result"
    }
   ],
   "source": [
    "# Find by what something connects to insurance (an industry)\n",
    "queryString = \"\"\"\n",
    "SELECT distinct ?x ?name\n",
    "WHERE { \n",
    "  ?y ?x wd:Q43183 .\n",
    "  ?x <http://schema.org/name> ?name .\n",
    "} \n",
    "\"\"\"\n",
    "\n",
    "print(\"Results\")\n",
    "run_query(queryString)"
   ]
  },
  {
   "cell_type": "code",
   "execution_count": 8,
   "id": "51da2528-445a-4f5f-b565-5d930e306404",
   "metadata": {},
   "outputs": [
    {
     "name": "stdout",
     "output_type": "stream",
     "text": [
      "Results\n",
      "[('x', 'http://www.wikidata.org/prop/direct/P1423'), ('name', 'template has topic')]\n",
      "[('x', 'http://www.wikidata.org/prop/direct/P101'), ('name', 'field of work')]\n",
      "[('x', 'http://www.wikidata.org/prop/direct/P1056'), ('name', 'product or material produced')]\n",
      "[('x', 'http://www.wikidata.org/prop/direct/P106'), ('name', 'occupation')]\n",
      "[('x', 'http://www.wikidata.org/prop/direct/P1269'), ('name', 'facet of')]\n",
      "[('x', 'http://www.wikidata.org/prop/direct/P127'), ('name', 'owned by')]\n",
      "[('x', 'http://www.wikidata.org/prop/direct/P136'), ('name', 'genre')]\n",
      "[('x', 'http://www.wikidata.org/prop/direct/P137'), ('name', 'operator')]\n",
      "[('x', 'http://www.wikidata.org/prop/direct/P138'), ('name', 'named after')]\n",
      "[('x', 'http://www.wikidata.org/prop/direct/P1454'), ('name', 'legal form')]\n",
      "[('x', 'http://www.wikidata.org/prop/direct/P1535'), ('name', 'used by')]\n",
      "[('x', 'http://www.wikidata.org/prop/direct/P159'), ('name', 'headquarters location')]\n",
      "[('x', 'http://www.wikidata.org/prop/direct/P169'), ('name', 'chief executive officer')]\n",
      "[('x', 'http://www.wikidata.org/prop/direct/P180'), ('name', 'depicts')]\n",
      "[('x', 'http://www.wikidata.org/prop/direct/P1889'), ('name', 'different from')]\n",
      "[('x', 'http://www.wikidata.org/prop/direct/P199'), ('name', 'business division')]\n",
      "[('x', 'http://www.wikidata.org/prop/direct/P2578'), ('name', 'studies')]\n",
      "[('x', 'http://www.wikidata.org/prop/direct/P2650'), ('name', 'interested in')]\n",
      "[('x', 'http://www.wikidata.org/prop/direct/P279'), ('name', 'subclass of')]\n",
      "[('x', 'http://www.wikidata.org/prop/direct/P301'), ('name', \"category's main topic\")]\n",
      "[('x', 'http://www.wikidata.org/prop/direct/P31'), ('name', 'instance of')]\n",
      "[('x', 'http://www.wikidata.org/prop/direct/P360'), ('name', 'is a list of')]\n",
      "[('x', 'http://www.wikidata.org/prop/direct/P361'), ('name', 'part of')]\n",
      "[('x', 'http://www.wikidata.org/prop/direct/P366'), ('name', 'use')]\n",
      "[('x', 'http://www.wikidata.org/prop/direct/P3716'), ('name', 'social classification')]\n",
      "[('x', 'http://www.wikidata.org/prop/direct/P4224'), ('name', 'category contains')]\n",
      "[('x', 'http://www.wikidata.org/prop/direct/P425'), ('name', 'field of this occupation')]\n",
      "[('x', 'http://www.wikidata.org/prop/direct/P452'), ('name', 'industry')]\n",
      "[('x', 'http://www.wikidata.org/prop/direct/P460'), ('name', 'said to be the same as')]\n",
      "[('x', 'http://www.wikidata.org/prop/direct/P466'), ('name', 'occupant')]\n",
      "[('x', 'http://www.wikidata.org/prop/direct/P527'), ('name', 'has part')]\n",
      "[('x', 'http://www.wikidata.org/prop/direct/P710'), ('name', 'participant')]\n",
      "[('x', 'http://www.wikidata.org/prop/direct/P812'), ('name', 'academic major')]\n",
      "[('x', 'http://www.wikidata.org/prop/direct/P921'), ('name', 'main subject')]\n",
      "[('x', 'http://www.wikidata.org/prop/direct/P971'), ('name', 'category combines topics')]\n",
      "[('x', 'http://www.wikidata.org/prop/direct/P2360'), ('name', 'intended public')]\n",
      "[('x', 'http://www.wikidata.org/prop/direct/P533'), ('name', 'target')]\n",
      "[('x', 'http://www.wikidata.org/prop/direct/P1204'), ('name', \"Wikimedia portal's main topic\")]\n",
      "[('x', 'http://www.wikidata.org/prop/direct/P248'), ('name', 'stated in')]\n"
     ]
    },
    {
     "data": {
      "text/plain": [
       "39"
      ]
     },
     "execution_count": 8,
     "metadata": {},
     "output_type": "execute_result"
    }
   ],
   "source": [
    "# Find by what something connects to business (a type of company, maybe)\n",
    "queryString = \"\"\"\n",
    "SELECT distinct ?x ?name\n",
    "WHERE { \n",
    "  ?y ?x wd:Q4830453 .\n",
    "  ?x <http://schema.org/name> ?name .\n",
    "} \n",
    "\"\"\"\n",
    "\n",
    "print(\"Results\")\n",
    "run_query(queryString)"
   ]
  },
  {
   "cell_type": "code",
   "execution_count": 9,
   "id": "4a56fba9-f41d-4d57-a15e-a28925545059",
   "metadata": {},
   "outputs": [
    {
     "name": "stdout",
     "output_type": "stream",
     "text": [
      "Results\n",
      "[('x', 'http://www.wikidata.org/entity/Q4830453'), ('name', 'business')]\n",
      "[('x', 'http://www.wikidata.org/entity/Q6881511'), ('name', 'enterprise')]\n"
     ]
    },
    {
     "data": {
      "text/plain": [
       "2"
      ]
     },
     "execution_count": 9,
     "metadata": {},
     "output_type": "execute_result"
    }
   ],
   "source": [
    "# Check instance of (maybe it's type?)\n",
    "queryString = \"\"\"\n",
    "SELECT distinct ?x ?name\n",
    "WHERE { \n",
    "  wd:Q29110228 wdt:P31 ?x .\n",
    "  ?x <http://schema.org/name> ?name .\n",
    "} \n",
    "\"\"\"\n",
    "# it is\n",
    "print(\"Results\")\n",
    "run_query(queryString)"
   ]
  },
  {
   "cell_type": "code",
   "execution_count": 12,
   "id": "e6e8fc65-f1c4-450d-901b-6c6aca534acd",
   "metadata": {},
   "outputs": [
    {
     "name": "stdout",
     "output_type": "stream",
     "text": [
      "Results\n",
      "Empty\n"
     ]
    },
    {
     "data": {
      "text/plain": [
       "0"
      ]
     },
     "execution_count": 12,
     "metadata": {},
     "output_type": "execute_result"
    }
   ],
   "source": [
    "# Find what is connected to the industry (for example insurance)\n",
    "queryString = \"\"\"\n",
    "SELECT distinct ?x ?name\n",
    "WHERE { \n",
    "  ?x wdt:P452 wd:Q43183 .\n",
    "  ?x <http://schema.org/name> ?name .\n",
    "  filter(?x= wd:Q29110228 )\n",
    "} \n",
    "\n",
    "\"\"\"\n",
    "# I'm pretty sure AXA does insurance so there is something strange\n",
    "print(\"Results\")\n",
    "run_query(queryString)"
   ]
  },
  {
   "cell_type": "code",
   "execution_count": 13,
   "id": "70cb441a-956a-4be0-a6f7-31a1c5a1a20a",
   "metadata": {},
   "outputs": [
    {
     "name": "stdout",
     "output_type": "stream",
     "text": [
      "Results\n",
      "Empty\n"
     ]
    },
    {
     "data": {
      "text/plain": [
       "0"
      ]
     },
     "execution_count": 13,
     "metadata": {},
     "output_type": "execute_result"
    }
   ],
   "source": [
    "# Apparently is not connected in any way to insurance\n",
    "queryString = \"\"\"\n",
    "SELECT distinct ?x ?name\n",
    "WHERE { \n",
    "  ?x ?y wd:Q43183 .\n",
    "  ?x <http://schema.org/name> ?name .\n",
    "  filter(?x= wd:Q29110228 )\n",
    "} \n",
    "\n",
    "\"\"\"\n",
    "\n",
    "print(\"Results\")\n",
    "run_query(queryString)"
   ]
  },
  {
   "cell_type": "code",
   "execution_count": 14,
   "id": "d96b6770-aa1f-4975-8646-9c8990756d06",
   "metadata": {},
   "outputs": [
    {
     "name": "stdout",
     "output_type": "stream",
     "text": [
      "Results\n",
      "Empty\n"
     ]
    },
    {
     "data": {
      "text/plain": [
       "0"
      ]
     },
     "execution_count": 14,
     "metadata": {},
     "output_type": "execute_result"
    }
   ],
   "source": [
    "queryString = \"\"\"\n",
    "SELECT distinct ?x ?name\n",
    "WHERE { \n",
    "  wd:Q43183 ?y ?x.\n",
    "  ?x <http://schema.org/name> ?name .\n",
    "  filter(?x= wd:Q29110228 )\n",
    "} \n",
    "\n",
    "\"\"\"\n",
    "\n",
    "print(\"Results\")\n",
    "run_query(queryString)"
   ]
  },
  {
   "cell_type": "code",
   "execution_count": 18,
   "id": "ab676bcb-a83f-43f0-b7bc-775fc383727b",
   "metadata": {},
   "outputs": [
    {
     "name": "stdout",
     "output_type": "stream",
     "text": [
      "Results\n",
      "[('y', 'http://www.wikidata.org/prop/direct/P9279'), ('name', 'Egapro gender equality index')]\n",
      "[('y', 'http://www.wikidata.org/prop/direct/P4829'), ('name', 'Swiss Enterprise Identification Number')]\n",
      "[('y', 'http://www.wikidata.org/prop/direct/P101'), ('name', 'field of work')]\n",
      "[('y', 'http://www.wikidata.org/prop/direct/P1037'), ('name', 'director / manager')]\n",
      "[('y', 'http://www.wikidata.org/prop/direct/P1056'), ('name', 'product or material produced')]\n",
      "[('y', 'http://www.wikidata.org/prop/direct/P112'), ('name', 'founded by')]\n",
      "[('y', 'http://www.wikidata.org/prop/direct/P1128'), ('name', 'employees')]\n",
      "[('y', 'http://www.wikidata.org/prop/direct/P127'), ('name', 'owned by')]\n",
      "[('y', 'http://www.wikidata.org/prop/direct/P1278'), ('name', 'Legal Entity Identifier')]\n",
      "[('y', 'http://www.wikidata.org/prop/direct/P1299'), ('name', 'depicted by')]\n",
      "[('y', 'http://www.wikidata.org/prop/direct/P1329'), ('name', 'phone number')]\n",
      "[('y', 'http://www.wikidata.org/prop/direct/P1344'), ('name', 'participant in')]\n",
      "[('y', 'http://www.wikidata.org/prop/direct/P1365'), ('name', 'replaces')]\n",
      "[('y', 'http://www.wikidata.org/prop/direct/P1366'), ('name', 'replaced by')]\n",
      "[('y', 'http://www.wikidata.org/prop/direct/P138'), ('name', 'named after')]\n",
      "[('y', 'http://www.wikidata.org/prop/direct/P1448'), ('name', 'official name')]\n",
      "[('y', 'http://www.wikidata.org/prop/direct/P1454'), ('name', 'legal form')]\n",
      "[('y', 'http://www.wikidata.org/prop/direct/P154'), ('name', 'logo image')]\n",
      "[('y', 'http://www.wikidata.org/prop/direct/P155'), ('name', 'follows')]\n",
      "[('y', 'http://www.wikidata.org/prop/direct/P156'), ('name', 'followed by')]\n",
      "[('y', 'http://www.wikidata.org/prop/direct/P159'), ('name', 'headquarters location')]\n",
      "[('y', 'http://www.wikidata.org/prop/direct/P1616'), ('name', 'SIREN number')]\n",
      "[('y', 'http://www.wikidata.org/prop/direct/P166'), ('name', 'award received')]\n",
      "[('y', 'http://www.wikidata.org/prop/direct/P1661'), ('name', 'Alexa rank')]\n",
      "[('y', 'http://www.wikidata.org/prop/direct/P169'), ('name', 'chief executive officer')]\n",
      "[('y', 'http://www.wikidata.org/prop/direct/P17'), ('name', 'country')]\n",
      "[('y', 'http://www.wikidata.org/prop/direct/P1705'), ('name', 'native label')]\n",
      "[('y', 'http://www.wikidata.org/prop/direct/P18'), ('name', 'image')]\n",
      "[('y', 'http://www.wikidata.org/prop/direct/P1830'), ('name', 'owner of')]\n",
      "[('y', 'http://www.wikidata.org/prop/direct/P1889'), ('name', 'different from')]\n",
      "[('y', 'http://www.wikidata.org/prop/direct/P199'), ('name', 'business division')]\n",
      "[('y', 'http://www.wikidata.org/prop/direct/P2002'), ('name', 'Twitter username')]\n",
      "[('y', 'http://www.wikidata.org/prop/direct/P2003'), ('name', 'Instagram username')]\n",
      "[('y', 'http://www.wikidata.org/prop/direct/P213'), ('name', 'ISNI')]\n",
      "[('y', 'http://www.wikidata.org/prop/direct/P2139'), ('name', 'total revenue')]\n",
      "[('y', 'http://www.wikidata.org/prop/direct/P2226'), ('name', 'market capitalization')]\n",
      "[('y', 'http://www.wikidata.org/prop/direct/P2295'), ('name', 'net profit')]\n",
      "[('y', 'http://www.wikidata.org/prop/direct/P2403'), ('name', 'total assets')]\n",
      "[('y', 'http://www.wikidata.org/prop/direct/P2627'), ('name', 'ISO 9362 SWIFT/BIC code')]\n",
      "[('y', 'http://www.wikidata.org/prop/direct/P31'), ('name', 'instance of')]\n",
      "[('y', 'http://www.wikidata.org/prop/direct/P3225'), ('name', 'Corporate Number (Japan)')]\n",
      "[('y', 'http://www.wikidata.org/prop/direct/P3320'), ('name', 'board member')]\n",
      "[('y', 'http://www.wikidata.org/prop/direct/P3362'), ('name', 'operating income')]\n",
      "[('y', 'http://www.wikidata.org/prop/direct/P355'), ('name', 'subsidiary')]\n",
      "[('y', 'http://www.wikidata.org/prop/direct/P3608'), ('name', 'EU VAT number')]\n",
      "[('y', 'http://www.wikidata.org/prop/direct/P361'), ('name', 'part of')]\n",
      "[('y', 'http://www.wikidata.org/prop/direct/P373'), ('name', 'Commons category')]\n",
      "[('y', 'http://www.wikidata.org/prop/direct/P3761'), ('name', 'IPv4 routing prefix')]\n",
      "[('y', 'http://www.wikidata.org/prop/direct/P3793'), ('name', 'IPv6 routing prefix')]\n",
      "[('y', 'http://www.wikidata.org/prop/direct/P3836'), ('name', 'Pinterest username')]\n",
      "[('y', 'http://www.wikidata.org/prop/direct/P4013'), ('name', 'Giphy username')]\n",
      "[('y', 'http://www.wikidata.org/prop/direct/P407'), ('name', 'language of work or name')]\n",
      "[('y', 'http://www.wikidata.org/prop/direct/P414'), ('name', 'stock exchange')]\n",
      "[('y', 'http://www.wikidata.org/prop/direct/P4195'), ('name', 'category for employees of the organization')]\n",
      "[('y', 'http://www.wikidata.org/prop/direct/P443'), ('name', 'pronunciation audio')]\n",
      "[('y', 'http://www.wikidata.org/prop/direct/P444'), ('name', 'review score')]\n",
      "[('y', 'http://www.wikidata.org/prop/direct/P452'), ('name', 'industry')]\n",
      "[('y', 'http://www.wikidata.org/prop/direct/P463'), ('name', 'member of')]\n",
      "[('y', 'http://www.wikidata.org/prop/direct/P4839'), ('name', 'Wolfram Language entity code')]\n",
      "[('y', 'http://www.wikidata.org/prop/direct/P488'), ('name', 'chairperson')]\n",
      "[('y', 'http://www.wikidata.org/prop/direct/P527'), ('name', 'has part')]\n",
      "[('y', 'http://www.wikidata.org/prop/direct/P571'), ('name', 'inception')]\n",
      "[('y', 'http://www.wikidata.org/prop/direct/P576'), ('name', 'dissolved, abolished or demolished date')]\n",
      "[('y', 'http://www.wikidata.org/prop/direct/P6379'), ('name', 'has works in the collection')]\n",
      "[('y', 'http://www.wikidata.org/prop/direct/P740'), ('name', 'location of formation')]\n",
      "[('y', 'http://www.wikidata.org/prop/direct/P749'), ('name', 'parent organization')]\n",
      "[('y', 'http://www.wikidata.org/prop/direct/P793'), ('name', 'significant event')]\n",
      "[('y', 'http://www.wikidata.org/prop/direct/P8253'), ('name', 'OSM Name Suggestion Index identifier')]\n",
      "[('y', 'http://www.wikidata.org/prop/direct/P856'), ('name', 'official website')]\n",
      "[('y', 'http://www.wikidata.org/prop/direct/P8687'), ('name', 'social media followers')]\n",
      "[('y', 'http://www.wikidata.org/prop/direct/P910'), ('name', \"topic's main category\")]\n",
      "[('y', 'http://www.wikidata.org/prop/direct/P935'), ('name', 'Commons gallery')]\n",
      "[('y', 'http://www.wikidata.org/prop/direct/P946'), ('name', 'ISIN')]\n",
      "[('y', 'http://www.wikidata.org/prop/direct/P973'), ('name', 'described at URL')]\n",
      "[('y', 'http://www.wikidata.org/prop/direct/P3242'), ('name', 'SIC code')]\n",
      "[('y', 'http://www.wikidata.org/prop/direct/P5531'), ('name', 'Central Index Key')]\n",
      "[('y', 'http://www.wikidata.org/prop/direct/P2137'), ('name', 'total equity')]\n",
      "[('y', 'http://www.wikidata.org/prop/direct/P3215'), ('name', 'SIRET number')]\n",
      "[('y', 'http://www.wikidata.org/prop/direct/P5052'), ('name', 'supervisory board member')]\n",
      "[('y', 'http://www.wikidata.org/prop/direct/P6795'), ('name', 'Unified Social Credit Identifier')]\n",
      "[('y', 'http://www.wikidata.org/prop/direct/P2333'), ('name', 'Norwegian organisation number')]\n",
      "[('y', 'http://www.wikidata.org/prop/direct/P3642'), ('name', 'ARCHON code')]\n",
      "[('y', 'http://www.wikidata.org/prop/direct/P2138'), ('name', 'total liabilities')]\n",
      "[('y', 'http://www.wikidata.org/prop/direct/P4103'), ('name', 'assets under management')]\n",
      "[('y', 'http://www.wikidata.org/prop/direct/P131'), ('name', 'located in the administrative territorial entity')]\n",
      "[('y', 'http://www.wikidata.org/prop/direct/P1435'), ('name', 'heritage designation')]\n",
      "[('y', 'http://www.wikidata.org/prop/direct/P1451'), ('name', 'motto text')]\n",
      "[('y', 'http://www.wikidata.org/prop/direct/P1581'), ('name', 'official blog')]\n",
      "[('y', 'http://www.wikidata.org/prop/direct/P2561'), ('name', 'name')]\n",
      "[('y', 'http://www.wikidata.org/prop/direct/P276'), ('name', 'location')]\n",
      "[('y', 'http://www.wikidata.org/prop/direct/P421'), ('name', 'located in time zone')]\n",
      "[('y', 'http://www.wikidata.org/prop/direct/P631'), ('name', 'structural engineer')]\n",
      "[('y', 'http://www.wikidata.org/prop/direct/P6363'), ('name', 'WordLift URL')]\n",
      "[('y', 'http://www.wikidata.org/prop/direct/P649'), ('name', 'NRHP reference number')]\n",
      "[('y', 'http://www.wikidata.org/prop/direct/P3899'), ('name', 'Medium username')]\n",
      "[('y', 'http://www.wikidata.org/prop/direct/P1297'), ('name', 'IRS Employer Identification Number')]\n",
      "[('y', 'http://www.wikidata.org/prop/direct/P4970'), ('name', 'alternate names')]\n",
      "[('y', 'http://www.wikidata.org/prop/direct/P7888'), ('name', 'merged into')]\n",
      "[('y', 'http://www.wikidata.org/prop/direct/P3548'), ('name', 'Australian Business Number')]\n",
      "[('y', 'http://www.wikidata.org/prop/direct/P1951'), ('name', 'investor')]\n",
      "[('y', 'http://www.wikidata.org/prop/direct/P8340'), ('name', 'estimated value')]\n",
      "[('y', 'http://www.wikidata.org/prop/direct/P2652'), ('name', 'partnership with')]\n",
      "[('y', 'http://www.wikidata.org/prop/direct/P2124'), ('name', 'member count')]\n",
      "[('y', 'http://www.wikidata.org/prop/direct/P2541'), ('name', 'operating area')]\n",
      "[('y', 'http://www.wikidata.org/prop/direct/P2650'), ('name', 'interested in')]\n",
      "[('y', 'http://www.wikidata.org/prop/direct/P2959'), ('name', 'permanent duplicated item')]\n",
      "[('y', 'http://www.wikidata.org/prop/direct/P3743'), ('name', 'ITU/ISO/IEC object identifier')]\n",
      "[('y', 'http://www.wikidata.org/prop/direct/P485'), ('name', 'archives at')]\n",
      "[('y', 'http://www.wikidata.org/prop/direct/P495'), ('name', 'country of origin')]\n",
      "[('y', 'http://www.wikidata.org/prop/direct/P937'), ('name', 'work location')]\n",
      "[('y', 'http://www.wikidata.org/prop/direct/P968'), ('name', 'email address')]\n",
      "[('y', 'http://www.wikidata.org/prop/direct/P2984'), ('name', 'Snapchat username')]\n",
      "[('y', 'http://www.wikidata.org/prop/direct/P6375'), ('name', 'street address')]\n",
      "[('y', 'http://www.wikidata.org/prop/direct/P2133'), ('name', 'total debt')]\n",
      "[('y', 'http://www.wikidata.org/prop/direct/P179'), ('name', 'part of the series')]\n",
      "[('y', 'http://www.wikidata.org/prop/direct/P5008'), ('name', 'on focus list of Wikimedia project')]\n",
      "[('y', 'http://www.wikidata.org/prop/direct/P6744'), ('name', 'FragDenStaat public body slug')]\n",
      "[('y', 'http://www.wikidata.org/prop/direct/P828'), ('name', 'has cause')]\n",
      "[('y', 'http://www.wikidata.org/prop/direct/P92'), ('name', 'main regulatory text')]\n",
      "[('y', 'http://www.wikidata.org/prop/direct/P7163'), ('name', 'typically sells')]\n",
      "[('y', 'http://www.wikidata.org/prop/direct/P9782'), ('name', 'Tax Identification Number (Belarus)')]\n",
      "[('y', 'http://www.wikidata.org/prop/direct/P1001'), ('name', 'applies to jurisdiction')]\n",
      "[('y', 'http://www.wikidata.org/prop/direct/P2360'), ('name', 'intended public')]\n",
      "[('y', 'http://www.wikidata.org/prop/direct/P553'), ('name', 'website account on')]\n"
     ]
    },
    {
     "data": {
      "text/plain": [
       "124"
      ]
     },
     "execution_count": 18,
     "metadata": {},
     "output_type": "execute_result"
    }
   ],
   "source": [
    "queryString = \"\"\"\n",
    "SELECT distinct ?y ?name\n",
    "WHERE { \n",
    "  ?x wdt:P452 wd:Q43183 .\n",
    "  ?x ?y ?z .\n",
    "  ?y <http://schema.org/name> ?name .\n",
    "  filter(!regex(?name, \"ID\"))\n",
    "} \n",
    "\n",
    "\"\"\"\n",
    "\n",
    "print(\"Results\")\n",
    "run_query(queryString)"
   ]
  },
  {
   "cell_type": "code",
   "execution_count": 25,
   "id": "a3f93d06-9c72-4a23-b474-4e31dcec8750",
   "metadata": {},
   "outputs": [
    {
     "name": "stdout",
     "output_type": "stream",
     "text": [
      "Results\n",
      "[('name', 'business')]\n",
      "[('name', 'enterprise')]\n"
     ]
    },
    {
     "data": {
      "text/plain": [
       "2"
      ]
     },
     "execution_count": 25,
     "metadata": {},
     "output_type": "execute_result"
    }
   ],
   "source": [
    "queryString = \"\"\"\n",
    "SELECT distinct ?name \n",
    "WHERE { \n",
    "  \n",
    "  wd:Q29110228 wdt:P31 ?type .\n",
    "  ?type <http://schema.org/name> ?name .\n",
    "  \n",
    "}\n",
    "\"\"\"\n",
    "\n",
    "print(\"Results\")\n",
    "run_query(queryString)"
   ]
  },
  {
   "cell_type": "code",
   "execution_count": 26,
   "id": "ca2a42a0-8fe1-4d93-846e-e7867ea943a1",
   "metadata": {},
   "outputs": [
    {
     "name": "stdout",
     "output_type": "stream",
     "text": [
      "Results\n",
      "[('name', 'Panasonic Europe Ltd')]\n"
     ]
    },
    {
     "data": {
      "text/plain": [
       "1"
      ]
     },
     "execution_count": 26,
     "metadata": {},
     "output_type": "execute_result"
    }
   ],
   "source": [
    "# ( Q29110228 is not AXA)\n",
    "queryString = \"\"\"\n",
    "SELECT distinct ?name \n",
    "WHERE { \n",
    "  wd:Q29110228 <http://schema.org/name> ?name .\n",
    "}\n",
    "\"\"\"\n",
    "\n",
    "print(\"Results\")\n",
    "run_query(queryString)"
   ]
  },
  {
   "cell_type": "code",
   "execution_count": 27,
   "id": "d32bddd4-3635-43b5-b27e-106505b3c58d",
   "metadata": {},
   "outputs": [
    {
     "name": "stdout",
     "output_type": "stream",
     "text": [
      "Results\n",
      "[('name', 'AXA'), ('x', 'http://www.wikidata.org/entity/Q160054')]\n"
     ]
    },
    {
     "data": {
      "text/plain": [
       "1"
      ]
     },
     "execution_count": 27,
     "metadata": {},
     "output_type": "execute_result"
    }
   ],
   "source": [
    "# New node for AXA (that is also connected with \"industry\" so we have everything for ANSWER 1)\n",
    "queryString = \"\"\"\n",
    "SELECT distinct ?name ?x \n",
    "WHERE { \n",
    "  ?x wdt:P452 wd:Q43183 .\n",
    "  ?x <http://schema.org/name> ?name .\n",
    "  filter(regex(?name, \"AXA\"))\n",
    "}\n",
    "\"\"\"\n",
    "\n",
    "print(\"Results\")\n",
    "run_query(queryString)"
   ]
  },
  {
   "cell_type": "markdown",
   "id": "8b5be58e-089d-41de-a89e-6a6d7c256f25",
   "metadata": {},
   "source": [
    "Everything put together"
   ]
  },
  {
   "cell_type": "code",
   "execution_count": 29,
   "id": "1c121b6f-4347-4d91-9f2d-532807ed7921",
   "metadata": {},
   "outputs": [
    {
     "name": "stdout",
     "output_type": "stream",
     "text": [
      "Results\n",
      "[('name', 'AXA'), ('legal', 'société anonyme'), ('type', 'insurance company'), ('industry', 'insurance')]\n",
      "[('name', 'AXA'), ('legal', 'société anonyme'), ('type', 'insurance company'), ('industry', 'financial services')]\n",
      "[('name', 'AXA'), ('legal', 'société anonyme'), ('type', 'enterprise'), ('industry', 'insurance')]\n",
      "[('name', 'AXA'), ('legal', 'société anonyme'), ('type', 'enterprise'), ('industry', 'financial services')]\n",
      "[('name', 'AXA'), ('legal', 'société anonyme'), ('type', 'public company'), ('industry', 'insurance')]\n",
      "[('name', 'AXA'), ('legal', 'société anonyme'), ('type', 'public company'), ('industry', 'financial services')]\n"
     ]
    },
    {
     "data": {
      "text/plain": [
       "6"
      ]
     },
     "execution_count": 29,
     "metadata": {},
     "output_type": "execute_result"
    }
   ],
   "source": [
    "# ANSWER 1\n",
    "queryString = \"\"\"\n",
    "SELECT ?name ?legal ?type ?industry \n",
    "WHERE { \n",
    "  wd:Q160054 <http://schema.org/name> ?name .\n",
    "  wd:Q160054 wdt:P1454 ?x . \n",
    "  wd:Q160054 wdt:P31 ?y .\n",
    "  wd:Q160054 wdt:P452 ?z .\n",
    "  ?x <http://schema.org/name> ?legal .\n",
    "  ?y <http://schema.org/name> ?type .\n",
    "  ?z <http://schema.org/name> ?industry . \n",
    "}\n",
    "\"\"\"\n",
    "\n",
    "print(\"Results\")\n",
    "run_query(queryString)"
   ]
  },
  {
   "cell_type": "markdown",
   "id": "cf935cba-96e4-4f03-b7cf-6f0e89839e6d",
   "metadata": {},
   "source": [
    "***\n",
    "\n",
    "# Task 2\n",
    "\n",
    "*Identify the BGP to retrieve all companies owned by a company located in an EU country*"
   ]
  },
  {
   "cell_type": "code",
   "execution_count": 30,
   "id": "86828d61-9fd9-4061-a477-e81993827e49",
   "metadata": {},
   "outputs": [
    {
     "name": "stdout",
     "output_type": "stream",
     "text": [
      "Results\n",
      "[('x', 'http://www.wikidata.org/prop/direct/P463')]\n"
     ]
    },
    {
     "data": {
      "text/plain": [
       "1"
      ]
     },
     "execution_count": 30,
     "metadata": {},
     "output_type": "execute_result"
    }
   ],
   "source": [
    "# How a state is connected to the EU?\n",
    "queryString = \"\"\"\n",
    "SELECT ?x\n",
    "WHERE { \n",
    "  wd:Q142 ?x wd:Q458 \n",
    "}\n",
    "\"\"\"\n",
    "\n",
    "print(\"Results\")\n",
    "run_query(queryString)"
   ]
  },
  {
   "cell_type": "code",
   "execution_count": 33,
   "id": "1ba1587f-127c-40c5-bd84-793025094908",
   "metadata": {},
   "outputs": [
    {
     "name": "stdout",
     "output_type": "stream",
     "text": [
      "Results\n",
      "[('c', '11170')]\n"
     ]
    },
    {
     "data": {
      "text/plain": [
       "1"
      ]
     },
     "execution_count": 33,
     "metadata": {},
     "output_type": "execute_result"
    }
   ],
   "source": [
    "# ANSWER to 2\n",
    "queryString = \"\"\"\n",
    "SELECT (count(distinct ?company) as ?c)\n",
    "WHERE { \n",
    "  ?x wdt:P17 ?country .\n",
    "  ?country wdt:P463 wd:Q458 .\n",
    "  ?x wdt:P1830 ?company .\n",
    "}\n",
    "\"\"\"\n",
    "\n",
    "print(\"Results\")\n",
    "run_query(queryString)"
   ]
  },
  {
   "cell_type": "markdown",
   "id": "299595a8-a2c0-4e86-b6e8-0bd2eb04921d",
   "metadata": {},
   "source": [
    "***\n",
    "\n",
    "# Task 3\n",
    "\n",
    "*Which company has the largest presence in E.U.?*\n",
    "\n",
    "I assume that the presence of a company means in how many place I can find it, in this case in how many country I can find it"
   ]
  },
  {
   "cell_type": "code",
   "execution_count": 39,
   "id": "cc702f36-f49f-4f86-9c36-1e222bcea983",
   "metadata": {},
   "outputs": [
    {
     "name": "stdout",
     "output_type": "stream",
     "text": [
      "Results\n",
      "[('cc', '1'), ('x', 'http://www.wikidata.org/entity/Q99976386')]\n",
      "[('cc', '1'), ('x', 'http://www.wikidata.org/entity/Q99976320')]\n",
      "[('cc', '1'), ('x', 'http://www.wikidata.org/entity/Q99976174')]\n",
      "[('cc', '1'), ('x', 'http://www.wikidata.org/entity/Q99968126')]\n",
      "[('cc', '1'), ('x', 'http://www.wikidata.org/entity/Q99964754')]\n"
     ]
    },
    {
     "data": {
      "text/plain": [
       "5"
      ]
     },
     "execution_count": 39,
     "metadata": {},
     "output_type": "execute_result"
    }
   ],
   "source": [
    "# Company that operate in more EU states\n",
    "queryString = \"\"\"\n",
    "SELECT (count(distinct ?country) as ?cc) ?x\n",
    " WHERE { \n",
    "    ?x wdt:P17 ?country .\n",
    "    ?x wdt:P31 wd:Q4830453 .\n",
    "    ?country wdt:P463 wd:Q458 .\n",
    "} group by ?x\n",
    "order by desc (?x)\n",
    "limit 5\n",
    "\n",
    "\"\"\"\n",
    "# it doesnt work, let's analyze a company that i know operates in more states\n",
    "print(\"Results\")\n",
    "run_query(queryString)"
   ]
  },
  {
   "cell_type": "markdown",
   "id": "da732a0c-7e10-41f2-a4aa-23f43e5fe8f3",
   "metadata": {},
   "source": [
    "I know for sure that Vodafone operates at least in the UK and in Italy so I start from analyzing it"
   ]
  },
  {
   "cell_type": "code",
   "execution_count": 41,
   "id": "6da3a54b-9f65-41d6-b59d-5009c987e693",
   "metadata": {},
   "outputs": [
    {
     "name": "stdout",
     "output_type": "stream",
     "text": [
      "Results\n",
      "[('x', 'http://www.wikidata.org/entity/Q122141'), ('name', 'Vodafone')]\n",
      "[('x', 'http://www.wikidata.org/entity/Q7939294'), ('name', 'Vodafone UK')]\n",
      "[('x', 'http://www.wikidata.org/entity/Q1560372'), ('name', 'Vodafone Kabel Deutschland')]\n",
      "[('x', 'http://www.wikidata.org/entity/Q2529830'), ('name', 'Vodafone Germany')]\n",
      "[('x', 'http://www.wikidata.org/entity/Q1673864'), ('name', 'Vodafone NRW GmbH')]\n",
      "[('x', 'http://www.wikidata.org/entity/Q3486990'), ('name', 'Vodafone Czech Republic')]\n",
      "[('x', 'http://www.wikidata.org/entity/Q98271125'), ('name', 'Vodafone Towers Czech Republic 1')]\n",
      "[('x', 'http://www.wikidata.org/entity/Q6272576'), ('name', 'Vodafone Romania')]\n",
      "[('x', 'http://www.wikidata.org/entity/Q7939286'), ('name', 'Vodafone Ireland')]\n",
      "[('x', 'http://www.wikidata.org/entity/Q7939283'), ('name', 'Vodafone Hungary')]\n",
      "[('x', 'http://www.wikidata.org/entity/Q108169117'), ('name', 'Vodafone Magyarország Mobil Távközlési')]\n",
      "[('x', 'http://www.wikidata.org/entity/Q7939295'), ('name', 'Vodafone Spain')]\n",
      "[('x', 'http://www.wikidata.org/entity/Q3681880'), ('name', 'Vodafone Automotive')]\n",
      "[('x', 'http://www.wikidata.org/entity/Q4015982'), ('name', 'Vodafone Italy')]\n",
      "[('x', 'http://www.wikidata.org/entity/Q2529841'), ('name', 'Vodafone Greece')]\n",
      "[('x', 'http://www.wikidata.org/entity/Q3562042'), ('name', 'Vodafone Portugal')]\n"
     ]
    },
    {
     "data": {
      "text/plain": [
       "16"
      ]
     },
     "execution_count": 41,
     "metadata": {},
     "output_type": "execute_result"
    }
   ],
   "source": [
    "# Check for vodafone\n",
    "queryString = \"\"\"\n",
    "SELECT ?x ?name\n",
    " WHERE { \n",
    "    ?x wdt:P17 ?country .\n",
    "    ?x wdt:P31 wd:Q4830453 .\n",
    "    ?country wdt:P463 wd:Q458 .\n",
    "    ?x <http://schema.org/name> ?name .\n",
    "    filter(regex(lcase(str(?name)), \"vodafone\"))\n",
    "} \n",
    "\n",
    "\"\"\"\n",
    "# It exists a general one and the specific state ones\n",
    "print(\"Results\")\n",
    "run_query(queryString)"
   ]
  },
  {
   "cell_type": "code",
   "execution_count": 43,
   "id": "890bae46-212d-40ee-8141-fbaed150b35c",
   "metadata": {},
   "outputs": [
    {
     "name": "stdout",
     "output_type": "stream",
     "text": [
      "Results\n",
      "[('x', 'http://www.wikidata.org/prop/direct/P1830'), ('name', 'owner of')]\n",
      "[('x', 'http://www.wikidata.org/prop/direct/P355'), ('name', 'subsidiary')]\n"
     ]
    },
    {
     "data": {
      "text/plain": [
       "2"
      ]
     },
     "execution_count": 43,
     "metadata": {},
     "output_type": "execute_result"
    }
   ],
   "source": [
    "# How they are connected? \n",
    "queryString = \"\"\"\n",
    "SELECT ?x ?name\n",
    " WHERE { \n",
    "     wd:Q122141 ?x wd:Q3562042.\n",
    "    ?x <http://schema.org/name> ?name .\n",
    "} \n",
    "\n",
    "\"\"\"\n",
    "# It exists a general one and the specific state ones\n",
    "print(\"Results\")\n",
    "run_query(queryString)"
   ]
  },
  {
   "cell_type": "code",
   "execution_count": 3,
   "id": "eb8b8734-71e0-4baf-9451-d2d3718d3339",
   "metadata": {},
   "outputs": [
    {
     "name": "stdout",
     "output_type": "stream",
     "text": [
      "Results\n",
      "[('cc', '11'), ('name', 'Siemens')]\n",
      "[('cc', '11'), ('name', 'Vodafone')]\n",
      "[('cc', '10'), ('name', 'Deutsche Telekom')]\n",
      "[('cc', '10'), ('name', 'The Walt Disney Company')]\n",
      "[('cc', '10'), ('name', 'Heineken')]\n",
      "[('cc', '10'), ('name', 'Volkswagen Group')]\n",
      "[('cc', '9'), ('name', 'Carlsberg Group')]\n",
      "[('cc', '9'), ('name', 'Microsoft')]\n",
      "[('cc', '9'), ('name', 'RELX Group')]\n",
      "[('cc', '9'), ('name', 'Vinci')]\n",
      "[('cc', '9'), ('name', 'ArcelorMittal')]\n",
      "[('cc', '8'), ('name', 'Phoenix Pharmahandel')]\n",
      "[('cc', '8'), ('name', 'TE Connectivity')]\n",
      "[('cc', '8'), ('name', 'Hutchison Whampoa')]\n",
      "[('cc', '8'), ('name', 'Unibail Rodamco Westfield')]\n",
      "[('cc', '8'), ('name', 'Nokia')]\n",
      "[('cc', '8'), ('name', 'LeasePlan Corporation')]\n",
      "[('cc', '8'), ('name', 'BNP Paribas')]\n",
      "[('cc', '7'), ('name', 'Gazprom')]\n",
      "[('cc', '7'), ('name', 'Liberty Global')]\n",
      "[('cc', '7'), ('name', 'TotalEnergies')]\n",
      "[('cc', '7'), ('name', 'Medtronic plc')]\n",
      "[('cc', '7'), ('name', 'Thermo Fisher Scientific')]\n",
      "[('cc', '7'), ('name', 'Orange')]\n",
      "[('cc', '7'), ('name', 'Thales Group')]\n",
      "[('cc', '7'), ('name', 'Koninklijke Philips NV')]\n",
      "[('cc', '7'), ('name', 'Johnson & Johnson')]\n",
      "[('cc', '6'), ('name', 'Reichswerke Hermann Göring')]\n",
      "[('cc', '6'), ('name', 'Danske Bank')]\n",
      "[('cc', '6'), ('name', 'Telenor')]\n",
      "[('cc', '6'), ('name', 'EP Power Europe')]\n",
      "[('cc', '6'), ('name', 'CNH Industrial')]\n",
      "[('cc', '6'), ('name', 'Energetický a průmyslový holding')]\n",
      "[('cc', '6'), ('name', 'Modern Times Group')]\n",
      "[('cc', '6'), ('name', 'Assicurazioni Generali')]\n",
      "[('cc', '6'), ('name', 'Stora Enso')]\n",
      "[('cc', '6'), ('name', 'TUI Travel')]\n",
      "[('cc', '6'), ('name', 'Novartis')]\n",
      "[('cc', '6'), ('name', 'Telia Company')]\n",
      "[('cc', '6'), ('name', 'MOL Group')]\n",
      "[('cc', '6'), ('name', 'STMicroelectronics')]\n",
      "[('cc', '6'), ('name', 'Pfizer')]\n",
      "[('cc', '6'), ('name', 'Alcatel-Lucent')]\n",
      "[('cc', '6'), ('name', 'Schneider Electric')]\n",
      "[('cc', '5'), ('name', 'IBM')]\n",
      "[('cc', '5'), ('name', 'Fiskars')]\n",
      "[('cc', '5'), ('name', 'HeidelbergCement')]\n",
      "[('cc', '5'), ('name', 'Pernod Ricard')]\n",
      "[('cc', '5'), ('name', 'Royal Dutch Shell')]\n",
      "[('cc', '5'), ('name', 'Bausch Health')]\n",
      "[('cc', '5'), ('name', 'SABMiller')]\n",
      "[('cc', '5'), ('name', 'Looping Group')]\n",
      "[('cc', '5'), ('name', 'WarnerMedia')]\n",
      "[('cc', '5'), ('name', 'Vattenfall')]\n",
      "[('cc', '5'), ('name', 'Keolis')]\n",
      "[('cc', '5'), ('name', 'HSBC')]\n",
      "[('cc', '5'), ('name', 'Amazon')]\n",
      "[('cc', '5'), ('name', 'Lufthansa')]\n",
      "[('cc', '5'), ('name', 'Uniper')]\n",
      "[('cc', '5'), ('name', 'PPF Group')]\n",
      "[('cc', '5'), ('name', 'Google')]\n",
      "[('cc', '5'), ('name', 'Nestlé')]\n",
      "[('cc', '5'), ('name', 'ProSiebenSat.1 Media SE')]\n",
      "[('cc', '5'), ('name', 'DuPont')]\n",
      "[('cc', '5'), ('name', 'Thomas Cook Group')]\n",
      "[('cc', '5'), ('name', 'AGCO')]\n",
      "[('cc', '5'), ('name', 'LVMH')]\n",
      "[('cc', '5'), ('name', 'Viacom')]\n",
      "[('cc', '5'), ('name', 'Sony')]\n",
      "[('cc', '5'), ('name', 'Lidl')]\n",
      "[('cc', '5'), ('name', 'Tesco')]\n",
      "[('cc', '5'), ('name', 'General Electric')]\n",
      "[('cc', '5'), ('name', 'AstraZeneca')]\n",
      "[('cc', '5'), ('name', 'International Airlines Group')]\n",
      "[('cc', '5'), ('name', 'Procter & Gamble')]\n",
      "[('cc', '5'), ('name', 'ČEZ Group')]\n",
      "[('cc', '4'), ('name', 'Julius Meinl')]\n",
      "[('cc', '4'), ('name', 'Engie')]\n",
      "[('cc', '4'), ('name', 'Hewlett-Packard')]\n",
      "[('cc', '4'), ('name', 'BC Partners')]\n",
      "[('cc', '4'), ('name', 'JOJ Media House')]\n",
      "[('cc', '4'), ('name', 'Asahi Breweries Europe')]\n",
      "[('cc', '4'), ('name', 'Nord Stream AG')]\n",
      "[('cc', '4'), ('name', 'Lavazza')]\n",
      "[('cc', '4'), ('name', 'Syngenta Group')]\n",
      "[('cc', '4'), ('name', 'Shire plc')]\n",
      "[('cc', '4'), ('name', 'Anheuser-Busch InBev')]\n",
      "[('cc', '4'), ('name', 'Telefónica')]\n",
      "[('cc', '4'), ('name', 'IG Farben')]\n",
      "[('cc', '4'), ('name', 'Discovery Inc.')]\n",
      "[('cc', '4'), ('name', 'Alcon')]\n",
      "[('cc', '4'), ('name', 'Agrofert')]\n",
      "[('cc', '4'), ('name', 'Van der Valk')]\n",
      "[('cc', '4'), ('name', 'Schlumberger')]\n",
      "[('cc', '4'), ('name', 'Amdocs')]\n",
      "[('cc', '4'), ('name', 'Smartwings')]\n",
      "[('cc', '4'), ('name', 'Huawei')]\n",
      "[('cc', '4'), ('name', 'SAS Group')]\n",
      "[('cc', '4'), ('name', 'PKN Orlen')]\n",
      "[('cc', '4'), ('name', 'Toshiba')]\n"
     ]
    },
    {
     "data": {
      "text/plain": [
       "100"
      ]
     },
     "execution_count": 3,
     "metadata": {},
     "output_type": "execute_result"
    }
   ],
   "source": [
    "# ANSWER to 3. Company that operate in more EU states\n",
    "queryString = \"\"\"\n",
    "SELECT (count(distinct ?country) as ?cc) ?name\n",
    " WHERE { \n",
    "    ?x wdt:P1830|wdt:P355 ?subs .\n",
    "    ?x wdt:P31 wd:Q4830453 .\n",
    "    ?subs wdt:P17 ?country .\n",
    "    ?country wdt:P463 wd:Q458 .\n",
    "    ?x <http://schema.org/name> ?name .\n",
    "} group by ?name\n",
    "order by desc (?cc)\n",
    "limit 100\n",
    "\n",
    "\"\"\"\n",
    "# The guess about Vodafone was pretty good, also I can check that there are more subsidiaries in the same country (e.g. germany and czech republic) but only the country is considered\n",
    "print(\"Results\")\n",
    "\n",
    "run_query(queryString)"
   ]
  },
  {
   "cell_type": "markdown",
   "id": "a8cff654-42da-4dbf-88f0-a750271e0a7b",
   "metadata": {},
   "source": [
    "***\n",
    "\n",
    "# Task 4\n",
    "\n",
    "*Companies have different 'legal forms', compare the number of companies divided in different legal forms*"
   ]
  },
  {
   "cell_type": "code",
   "execution_count": 8,
   "id": "136cbb5c-56be-4404-bd75-d33b61795c28",
   "metadata": {},
   "outputs": [
    {
     "name": "stdout",
     "output_type": "stream",
     "text": [
      "Results\n",
      "[('xx', '29204'), ('callret-1', 'juridical person'), ('y', 'http://www.wikidata.org/entity/Q155076')]\n",
      "[('xx', '17463'), ('callret-1', 'private limited liability company'), ('y', 'http://www.wikidata.org/entity/Q18624259')]\n",
      "[('xx', '9308'), ('callret-1', 'joint-stock company'), ('y', 'http://www.wikidata.org/entity/Q134161')]\n",
      "[('xx', '3089'), ('callret-1', 'limited company'), ('y', 'http://www.wikidata.org/entity/Q33685')]\n",
      "[('xx', '2580'), ('callret-1', 'Gesellschaft mit beschränkter Haftung'), ('y', 'http://www.wikidata.org/entity/Q15829892')]\n",
      "[('xx', '1067'), ('callret-1', 'Kommanditgesellschaft'), ('y', 'http://www.wikidata.org/entity/Q1780029')]\n",
      "[('xx', '734'), ('callret-1', 'Aktiengesellschaft'), ('y', 'http://www.wikidata.org/entity/Q22084735')]\n",
      "[('xx', '733'), ('callret-1', 'S.A.'), ('y', 'http://www.wikidata.org/entity/Q166280')]\n",
      "[('xx', '593'), ('callret-1', 'public company'), ('y', 'http://www.wikidata.org/entity/Q891723')]\n",
      "[('xx', '550'), ('callret-1', 'company'), ('y', 'http://www.wikidata.org/entity/Q783794')]\n",
      "[('xx', '494'), ('callret-1', 'privately held company'), ('y', 'http://www.wikidata.org/entity/Q1589009')]\n",
      "[('xx', '468'), ('callret-1', 'type of business entity'), ('y', 'http://www.wikidata.org/entity/Q1269299')]\n",
      "[('xx', '419'), ('callret-1', 'company'), ('y', 'http://www.wikidata.org/entity/Q61792038')]\n",
      "[('xx', '269'), ('callret-1', 'investment fund'), ('y', 'http://www.wikidata.org/entity/Q4201895')]\n",
      "[('xx', '251'), ('callret-1', 'commercial company'), ('y', 'http://www.wikidata.org/entity/Q567521')]\n",
      "[('xx', '205'), ('callret-1', 'Kommanditgesellschaft'), ('y', 'http://www.wikidata.org/entity/Q165758')]\n",
      "[('xx', '202'), ('callret-1', 'partnership'), ('y', 'http://www.wikidata.org/entity/Q728646')]\n",
      "[('xx', '185'), ('callret-1', 'sole proprietorship'), ('y', 'http://www.wikidata.org/entity/Q2912172')]\n",
      "[('xx', '174'), ('callret-1', 'voluntary organization'), ('y', 'http://www.wikidata.org/entity/Q48204')]\n",
      "[('xx', '151'), ('callret-1', 'natural person'), ('y', 'http://www.wikidata.org/entity/Q154954')]\n",
      "[('xx', '148'), ('callret-1', 'association'), ('y', 'http://www.wikidata.org/entity/Q15911314')]\n",
      "[('xx', '147'), ('callret-1', 'non-governmental organization'), ('y', 'http://www.wikidata.org/entity/Q79913')]\n",
      "[('xx', '136'), ('callret-1', 'nonprofit organization'), ('y', 'http://www.wikidata.org/entity/Q163740')]\n",
      "[('xx', '132'), ('callret-1', 'legal person'), ('y', 'http://www.wikidata.org/entity/Q3778211')]\n",
      "[('xx', '132'), ('callret-1', 'private company'), ('y', 'http://www.wikidata.org/entity/Q5621421')]\n",
      "[('xx', '127'), ('callret-1', 'enterprise'), ('y', 'http://www.wikidata.org/entity/Q6881511')]\n",
      "[('xx', '127'), ('callret-1', 'public-benefit corporation'), ('y', 'http://www.wikidata.org/entity/Q78443472')]\n",
      "[('xx', '117'), ('callret-1', 'organization'), ('y', 'http://www.wikidata.org/entity/Q43229')]\n",
      "[('xx', '115'), ('callret-1', 'private corporation'), ('y', 'http://www.wikidata.org/entity/Q56876011')]\n",
      "[('xx', '90'), ('callret-1', 'cooperative'), ('y', 'http://www.wikidata.org/entity/Q4539')]\n",
      "[('xx', '70'), ('callret-1', 'foundation'), ('y', 'http://www.wikidata.org/entity/Q157031')]\n",
      "[('xx', '61'), ('callret-1', 'state-owned enterprise'), ('y', 'http://www.wikidata.org/entity/Q270791')]\n",
      "[('xx', '60'), ('callret-1', 'limited partnership'), ('y', 'http://www.wikidata.org/entity/Q909695')]\n",
      "[('xx', '58'), ('callret-1', 'business'), ('y', 'http://www.wikidata.org/entity/Q4830453')]\n",
      "[('xx', '58'), ('callret-1', 'mutual fund'), ('y', 'http://www.wikidata.org/entity/Q791974')]\n",
      "[('xx', '55'), ('callret-1', 'legal form'), ('y', 'http://www.wikidata.org/entity/Q12047392')]\n",
      "[('xx', '53'), ('callret-1', 'branch'), ('y', 'http://www.wikidata.org/entity/Q1410110')]\n",
      "[('xx', '53'), ('callret-1', 'Open-end fund'), ('y', 'http://www.wikidata.org/entity/Q493177')]\n",
      "[('xx', '49'), ('callret-1', 'GmbH'), ('y', 'http://www.wikidata.org/entity/Q460178')]\n",
      "[('xx', '47'), ('callret-1', 'express trust'), ('y', 'http://www.wikidata.org/entity/Q5421695')]\n",
      "[('xx', '42'), ('callret-1', 'person or organization'), ('y', 'http://www.wikidata.org/entity/Q106559804')]\n",
      "[('xx', '36'), ('callret-1', 'Oy'), ('y', 'http://www.wikidata.org/entity/Q333920')]\n",
      "[('xx', '34'), ('callret-1', 'public benefit organization'), ('y', 'http://www.wikidata.org/entity/Q7257704')]\n",
      "[('xx', '33'), ('callret-1', 'corporation'), ('y', 'http://www.wikidata.org/entity/Q167037')]\n",
      "[('xx', '31'), ('callret-1', 'general partnership'), ('y', 'http://www.wikidata.org/entity/Q646164')]\n",
      "[('xx', '30'), ('callret-1', 'subsidiary entity'), ('y', 'http://www.wikidata.org/entity/Q62079110')]\n",
      "[('xx', '24'), ('callret-1', 'Kommanditgesellschaft auf Aktien'), ('y', 'http://www.wikidata.org/entity/Q19823288')]\n",
      "[('xx', '23'), ('callret-1', 'pension fund'), ('y', 'http://www.wikidata.org/entity/Q182103')]\n",
      "[('xx', '22'), ('callret-1', 'mutual organization'), ('y', 'http://www.wikidata.org/entity/Q955214')]\n",
      "[('xx', '22'), ('callret-1', 'government agency'), ('y', 'http://www.wikidata.org/entity/Q327333')]\n",
      "[('xx', '21'), ('callret-1', 'public enterprise'), ('y', 'http://www.wikidata.org/entity/Q17990971')]\n",
      "[('xx', '20'), ('callret-1', 'public-law institution'), ('y', 'http://www.wikidata.org/entity/Q570208')]\n",
      "[('xx', '19'), ('callret-1', 'Société par actions simplifiée'), ('y', 'http://www.wikidata.org/entity/Q654502')]\n",
      "[('xx', '15'), ('callret-1', 'Aktiengesellschaft'), ('y', 'http://www.wikidata.org/entity/Q422062')]\n",
      "[('xx', '15'), ('callret-1', 'Limited stock company'), ('y', 'http://www.wikidata.org/entity/Q56410106')]\n",
      "[('xx', '14'), ('callret-1', 'statutory corporation'), ('y', 'http://www.wikidata.org/entity/Q699386')]\n",
      "[('xx', '14'), ('callret-1', 'insurance company'), ('y', 'http://www.wikidata.org/entity/Q2143354')]\n",
      "[('xx', '13'), ('callret-1', 'homeowner association'), ('y', 'http://www.wikidata.org/entity/Q706636')]\n",
      "[('xx', '12'), ('callret-1', 'društvo sa ograničenom odgovornošću'), ('y', 'http://www.wikidata.org/entity/Q13100008')]\n",
      "[('xx', '12'), ('callret-1', 'Kommanditgesellschaft auf Aktien'), ('y', 'http://www.wikidata.org/entity/Q837619')]\n",
      "[('xx', '11'), ('callret-1', 'position'), ('y', 'http://www.wikidata.org/entity/Q4164871')]\n",
      "[('xx', '11'), ('callret-1', 'Partnerschaftsgesellschaft'), ('y', 'http://www.wikidata.org/entity/Q1582023')]\n",
      "[('xx', '11'), ('callret-1', 'entrepreneur'), ('y', 'http://www.wikidata.org/entity/Q131524')]\n",
      "[('xx', '11'), ('callret-1', 'profession'), ('y', 'http://www.wikidata.org/entity/Q28640')]\n",
      "[('xx', '10'), ('callret-1', 'public limited company with board of directors'), ('y', 'http://www.wikidata.org/entity/Q98895450')]\n",
      "[('xx', '9'), ('callret-1', 'Idealverein'), ('y', 'http://www.wikidata.org/entity/Q1656696')]\n",
      "[('xx', '9'), ('callret-1', 'société'), ('y', 'http://www.wikidata.org/entity/Q33134112')]\n",
      "[('xx', '9'), ('callret-1', 'collaboration'), ('y', 'http://www.wikidata.org/entity/Q1145523')]\n",
      "[('xx', '9'), ('callret-1', 'separate legal entity'), ('y', 'http://www.wikidata.org/entity/Q7451779')]\n",
      "[('xx', '9'), ('callret-1', 'GbR'), ('y', 'http://www.wikidata.org/entity/Q448535')]\n",
      "[('xx', '9'), ('callret-1', 'credit institution'), ('y', 'http://www.wikidata.org/entity/Q730038')]\n",
      "[('xx', '7'), ('callret-1', 'group'), ('y', 'http://www.wikidata.org/entity/Q16887380')]\n",
      "[('xx', '7'), ('callret-1', 'società per azioni'), ('y', 'http://www.wikidata.org/entity/Q3742388')]\n",
      "[('xx', '6'), ('callret-1', 'administrative territorial entity'), ('y', 'http://www.wikidata.org/entity/Q56061')]\n",
      "[('xx', '6'), ('callret-1', 'public institution'), ('y', 'http://www.wikidata.org/entity/Q294163')]\n",
      "[('xx', '6'), ('callret-1', 'S.L.'), ('y', 'http://www.wikidata.org/entity/Q15648901')]\n",
      "[('xx', '6'), ('callret-1', 'statutory authority'), ('y', 'http://www.wikidata.org/entity/Q7604698')]\n",
      "[('xx', '5'), ('callret-1', 'intercommunality'), ('y', 'http://www.wikidata.org/entity/Q3153117')]\n",
      "[('xx', '5'), ('callret-1', 'municipal company'), ('y', 'http://www.wikidata.org/entity/Q1780371')]\n",
      "[('xx', '5'), ('callret-1', 'Körperschaft des öffentlichen Rechts'), ('y', 'http://www.wikidata.org/entity/Q15734684')]\n",
      "[('xx', '5'), ('callret-1', 'Closed-end fund'), ('y', 'http://www.wikidata.org/entity/Q361863')]\n",
      "[('xx', '4'), ('callret-1', 'Offene Handelsgesellschaft'), ('y', 'http://www.wikidata.org/entity/Q19340991')]\n",
      "[('xx', '4'), ('callret-1', 'société à responsabilité limitée'), ('y', 'http://www.wikidata.org/entity/Q15091621')]\n",
      "[('xx', '4'), ('callret-1', 'Corporation (Japan)'), ('y', 'http://www.wikidata.org/entity/Q48748864')]\n",
      "[('xx', '3'), ('callret-1', 'business group'), ('y', 'http://www.wikidata.org/entity/Q17326725')]\n",
      "[('xx', '3'), ('callret-1', 'établissement public'), ('y', 'http://www.wikidata.org/entity/Q15343039')]\n",
      "[('xx', '3'), ('callret-1', 'cooperative bank'), ('y', 'http://www.wikidata.org/entity/Q3277997')]\n",
      "[('xx', '2'), ('callret-1', 'economic unit'), ('y', 'http://www.wikidata.org/entity/Q3563237')]\n",
      "[('xx', '2'), ('callret-1', 'limited liability partnership'), ('y', 'http://www.wikidata.org/entity/Q1588658')]\n",
      "[('xx', '2'), ('callret-1', 'private foundation'), ('y', 'http://www.wikidata.org/entity/Q7246201')]\n",
      "[('xx', '2'), ('callret-1', 'juridical person under French law'), ('y', 'http://www.wikidata.org/entity/Q3376045')]\n",
      "[('xx', '2'), ('callret-1', 'aktiebolag'), ('y', 'http://www.wikidata.org/entity/Q422007')]\n",
      "[('xx', '2'), ('callret-1', 'public utility establishment'), ('y', 'http://www.wikidata.org/entity/Q3591520')]\n",
      "[('xx', '2'), ('callret-1', 'group of humans'), ('y', 'http://www.wikidata.org/entity/Q16334295')]\n",
      "[('xx', '2'), ('callret-1', 'organizational subdivision'), ('y', 'http://www.wikidata.org/entity/Q9261468')]\n",
      "[('xx', '2'), ('callret-1', 'sociedad anónima'), ('y', 'http://www.wikidata.org/entity/Q56489561')]\n",
      "[('xx', '2'), ('callret-1', 'legal person in private law'), ('y', 'http://www.wikidata.org/entity/Q61792027')]\n",
      "[('xx', '2'), ('callret-1', 'trade name'), ('y', 'http://www.wikidata.org/entity/Q1417728')]\n",
      "[('xx', '2'), ('callret-1', 'publisher'), ('y', 'http://www.wikidata.org/entity/Q2085381')]\n",
      "[('xx', '2'), ('callret-1', 'agent'), ('y', 'http://www.wikidata.org/entity/Q24229398')]\n"
     ]
    },
    {
     "data": {
      "text/plain": [
       "100"
      ]
     },
     "execution_count": 8,
     "metadata": {},
     "output_type": "execute_result"
    }
   ],
   "source": [
    "queryString = \"\"\"\n",
    "SELECT distinct (count(?x) as ?xx) sample(?name) ?y\n",
    " WHERE { \n",
    "    ?x wdt:P1454/wdt:P279 ?y .\n",
    "    ?x wdt:P31 wd:Q4830453 .\n",
    "    ?x wdt:P17 ?country .\n",
    "    ?country wdt:P463 wd:Q458 .\n",
    "    ?y <http://schema.org/name> ?name .\n",
    "    \n",
    "} group by ?y\n",
    "order by desc (?xx)\n",
    "limit 100\n",
    "\"\"\"\n",
    "print(\"Results\")\n",
    "run_query(queryString)"
   ]
  },
  {
   "cell_type": "markdown",
   "id": "f7ce171a-078d-4222-91b8-b03f339c65c5",
   "metadata": {},
   "source": [
    "***\n",
    "\n",
    "# Task 5.1\n",
    "\n",
    "*What are the top-3 legal form in E.U.?*"
   ]
  },
  {
   "cell_type": "code",
   "execution_count": 7,
   "id": "b0cc1850-2ecb-4be4-bef6-7afe2522b082",
   "metadata": {},
   "outputs": [
    {
     "name": "stdout",
     "output_type": "stream",
     "text": [
      "Results\n",
      "[('xx', '29204'), ('callret-1', 'juridical person'), ('y', 'http://www.wikidata.org/entity/Q155076')]\n",
      "[('xx', '17463'), ('callret-1', 'private limited liability company'), ('y', 'http://www.wikidata.org/entity/Q18624259')]\n",
      "[('xx', '9308'), ('callret-1', 'joint-stock company'), ('y', 'http://www.wikidata.org/entity/Q134161')]\n"
     ]
    },
    {
     "data": {
      "text/plain": [
       "3"
      ]
     },
     "execution_count": 7,
     "metadata": {},
     "output_type": "execute_result"
    }
   ],
   "source": [
    "# Top 3 legal forms in eu \n",
    "queryString = \"\"\"\n",
    "SELECT distinct (count(?x) as ?xx) sample(?name) ?y\n",
    " WHERE { \n",
    "    ?x wdt:P1454 ?y .\n",
    "    ?x wdt:P31 wd:Q4830453 .\n",
    "    ?x wdt:P17 ?country .\n",
    "    ?country wdt:P463 wd:Q458 .\n",
    "    ?y <http://schema.org/name> ?name .\n",
    "    \n",
    "} group by ?y\n",
    "order by desc (?xx)\n",
    "limit 3\n",
    "\"\"\"\n",
    "print(\"Results\")\n",
    "run_query(queryString)"
   ]
  },
  {
   "cell_type": "code",
   "execution_count": 65,
   "id": "dfd6d959-909e-401a-9fa2-664f89442248",
   "metadata": {},
   "outputs": [
    {
     "name": "stdout",
     "output_type": "stream",
     "text": [
      "Results\n",
      "[('name1', 'country'), ('name2', 'Czech Republic')]\n",
      "[('name1', 'subclass of'), ('name2', 'juridical person')]\n",
      "[('name1', 'subclass of'), ('name2', 'private limited liability company')]\n",
      "[('name1', 'instance of'), ('name2', 'type of business entity in Czech Republic')]\n"
     ]
    },
    {
     "data": {
      "text/plain": [
       "4"
      ]
     },
     "execution_count": 65,
     "metadata": {},
     "output_type": "execute_result"
    }
   ],
   "source": [
    "# Get information about this very common legal type of which i don't understand the language\n",
    "queryString = \"\"\"\n",
    "SELECT ?name1 ?name2 \n",
    " WHERE { \n",
    "   wd:Q15646299 ?x ?y .\n",
    "   ?x <http://schema.org/name> ?name1 .\n",
    "   ?y <http://schema.org/name> ?name2 .\n",
    "} \n",
    "\"\"\"\n",
    "# basically is the equivalent of the Srl in italy\n",
    "print(\"Results\")\n",
    "run_query(queryString)"
   ]
  },
  {
   "cell_type": "code",
   "execution_count": 5,
   "id": "c4fb4d4f-48f2-46c5-9e34-f2faedb88f6a",
   "metadata": {},
   "outputs": [
    {
     "name": "stdout",
     "output_type": "stream",
     "text": [
      "Results\n",
      "[('xx', '17463'), ('name', 'private limited liability company')]\n",
      "[('xx', '9308'), ('name', 'joint-stock company')]\n",
      "[('xx', '3089'), ('name', 'limited company')]\n"
     ]
    },
    {
     "data": {
      "text/plain": [
       "3"
      ]
     },
     "execution_count": 5,
     "metadata": {},
     "output_type": "execute_result"
    }
   ],
   "source": [
    "# ANSWER to 5\n",
    "queryString = \"\"\"\n",
    "SELECT distinct (count(?x) as ?xx) ?name\n",
    " WHERE { \n",
    "    ?x wdt:P1454 ?y .\n",
    "    ?x wdt:P31 wd:Q4830453 .\n",
    "    ?x wdt:P17 ?country .\n",
    "    ?country wdt:P463 wd:Q458 .\n",
    "    ?y wdt:P279 ?z .\n",
    "    ?z <http://schema.org/name> ?name .\n",
    "    filter(!regex(lcase(str(?name)),\"juridical person\"))\n",
    "} group by ?name\n",
    "order by desc (?xx)\n",
    "limit 3\n",
    "\"\"\"\n",
    "print(\"Results\")\n",
    "run_query(queryString)"
   ]
  },
  {
   "cell_type": "markdown",
   "id": "283726e5-7730-4881-ba69-74239a44c798",
   "metadata": {},
   "source": [
    "***\n",
    "\n",
    "# Task 5.2\n",
    "\n",
    "*For which companies is defined some form of income or market capitalization or total assets? What is the min, max, and average in each country for a given legal form?*\n",
    "\n",
    "First I have to take the hint from the question and understand if this value are present in every business."
   ]
  },
  {
   "cell_type": "code",
   "execution_count": 71,
   "id": "e77d7956-47ab-4b03-bb8d-92113667f800",
   "metadata": {},
   "outputs": [
    {
     "name": "stdout",
     "output_type": "stream",
     "text": [
      "Results\n",
      "[('x', 'electricity generation'), ('xx', 'business'), ('xxx', 'public company')]\n",
      "[('x', 'electricity generation'), ('xx', 'business'), ('xxx', 'joint-stock company')]\n",
      "[('x', 'electricity generation'), ('xx', 'enterprise'), ('xxx', 'public company')]\n",
      "[('x', 'electricity generation'), ('xx', 'enterprise'), ('xxx', 'joint-stock company')]\n",
      "[('x', 'electricity generation'), ('xx', 'public company'), ('xxx', 'public company')]\n",
      "[('x', 'electricity generation'), ('xx', 'public company'), ('xxx', 'joint-stock company')]\n",
      "[('x', 'retail'), ('xx', 'business'), ('xxx', 'joint-stock company')]\n",
      "[('x', 'retail'), ('xx', 'business'), ('xxx', 'type of business entity')]\n",
      "[('x', 'retail'), ('xx', 'public company'), ('xxx', 'joint-stock company')]\n",
      "[('x', 'retail'), ('xx', 'public company'), ('xxx', 'type of business entity')]\n",
      "[('x', 'mechanical engineering'), ('xx', 'business'), ('xxx', 'Aktiengesellschaft')]\n",
      "[('x', 'mechanical engineering'), ('xx', 'business'), ('xxx', 'juridical person')]\n",
      "[('x', 'mechanical engineering'), ('xx', 'public company'), ('xxx', 'Aktiengesellschaft')]\n",
      "[('x', 'mechanical engineering'), ('xx', 'public company'), ('xxx', 'juridical person')]\n",
      "[('x', 'electrical industry'), ('xx', 'business'), ('xxx', 'Aktiengesellschaft')]\n",
      "[('x', 'electrical industry'), ('xx', 'business'), ('xxx', 'juridical person')]\n",
      "[('x', 'electrical industry'), ('xx', 'public company'), ('xxx', 'Aktiengesellschaft')]\n",
      "[('x', 'electrical industry'), ('xx', 'public company'), ('xxx', 'juridical person')]\n",
      "[('x', 'lighting technic'), ('xx', 'business'), ('xxx', 'Aktiengesellschaft')]\n",
      "[('x', 'lighting technic'), ('xx', 'business'), ('xxx', 'juridical person')]\n",
      "[('x', 'lighting technic'), ('xx', 'public company'), ('xxx', 'Aktiengesellschaft')]\n",
      "[('x', 'lighting technic'), ('xx', 'public company'), ('xxx', 'juridical person')]\n",
      "[('x', 'power plant technology'), ('xx', 'business'), ('xxx', 'Aktiengesellschaft')]\n",
      "[('x', 'power plant technology'), ('xx', 'business'), ('xxx', 'juridical person')]\n",
      "[('x', 'power plant technology'), ('xx', 'public company'), ('xxx', 'Aktiengesellschaft')]\n",
      "[('x', 'power plant technology'), ('xx', 'public company'), ('xxx', 'juridical person')]\n",
      "[('x', 'energy industry'), ('xx', 'business'), ('xxx', 'joint-stock company')]\n",
      "[('x', 'energy industry'), ('xx', 'business'), ('xxx', 'juridical person')]\n",
      "[('x', 'energy industry'), ('xx', 'enterprise'), ('xxx', 'joint-stock company')]\n",
      "[('x', 'energy industry'), ('xx', 'enterprise'), ('xxx', 'juridical person')]\n",
      "[('x', 'energy industry'), ('xx', 'public company'), ('xxx', 'joint-stock company')]\n",
      "[('x', 'energy industry'), ('xx', 'public company'), ('xxx', 'juridical person')]\n",
      "[('x', 'streaming media'), ('xx', 'business'), ('xxx', 'S.A.')]\n",
      "[('x', 'streaming media'), ('xx', 'business'), ('xxx', 'joint-stock company')]\n",
      "[('x', 'streaming media'), ('xx', 'business'), ('xxx', 'juridical person')]\n",
      "[('x', 'streaming media'), ('xx', 'enterprise'), ('xxx', 'S.A.')]\n",
      "[('x', 'streaming media'), ('xx', 'enterprise'), ('xxx', 'joint-stock company')]\n",
      "[('x', 'streaming media'), ('xx', 'enterprise'), ('xxx', 'juridical person')]\n",
      "[('x', 'streaming media'), ('xx', 'public company'), ('xxx', 'S.A.')]\n",
      "[('x', 'streaming media'), ('xx', 'public company'), ('xxx', 'joint-stock company')]\n",
      "[('x', 'streaming media'), ('xx', 'public company'), ('xxx', 'juridical person')]\n",
      "[('x', 'biomedical engineering'), ('xx', 'business'), ('xxx', 'Aktiengesellschaft')]\n",
      "[('x', 'biomedical engineering'), ('xx', 'business'), ('xxx', 'juridical person')]\n",
      "[('x', 'biomedical engineering'), ('xx', 'public company'), ('xxx', 'Aktiengesellschaft')]\n",
      "[('x', 'biomedical engineering'), ('xx', 'public company'), ('xxx', 'juridical person')]\n",
      "[('x', 'powertrain technology'), ('xx', 'business'), ('xxx', 'Aktiengesellschaft')]\n",
      "[('x', 'powertrain technology'), ('xx', 'business'), ('xxx', 'juridical person')]\n",
      "[('x', 'powertrain technology'), ('xx', 'public company'), ('xxx', 'Aktiengesellschaft')]\n",
      "[('x', 'powertrain technology'), ('xx', 'public company'), ('xxx', 'juridical person')]\n",
      "[('x', 'medical device'), ('xx', 'business'), ('xxx', 'Aktiengesellschaft')]\n",
      "[('x', 'medical device'), ('xx', 'business'), ('xxx', 'juridical person')]\n",
      "[('x', 'medical device'), ('xx', 'public company'), ('xxx', 'Aktiengesellschaft')]\n",
      "[('x', 'medical device'), ('xx', 'public company'), ('xxx', 'juridical person')]\n",
      "[('x', 'electrical appliance'), ('xx', 'brand'), ('xxx', 'Oy')]\n",
      "[('x', 'electrical appliance'), ('xx', 'brand'), ('xxx', 'public company')]\n",
      "[('x', 'electrical appliance'), ('xx', 'business'), ('xxx', 'Oy')]\n",
      "[('x', 'electrical appliance'), ('xx', 'business'), ('xxx', 'public company')]\n",
      "[('x', 'electrical appliance'), ('xx', 'public company'), ('xxx', 'Oy')]\n",
      "[('x', 'electrical appliance'), ('xx', 'public company'), ('xxx', 'public company')]\n",
      "[('x', 'information technology consulting'), ('xx', 'business'), ('xxx', 'joint-stock company')]\n",
      "[('x', 'information technology consulting'), ('xx', 'business'), ('xxx', 'type of business entity')]\n",
      "[('x', 'information technology consulting'), ('xx', 'enterprise'), ('xxx', 'joint-stock company')]\n",
      "[('x', 'information technology consulting'), ('xx', 'enterprise'), ('xxx', 'type of business entity')]\n",
      "[('x', 'information technology consulting'), ('xx', 'public company'), ('xxx', 'joint-stock company')]\n",
      "[('x', 'information technology consulting'), ('xx', 'public company'), ('xxx', 'type of business entity')]\n",
      "[('x', 'International Standard Industrial Classification'), ('xx', 'brand'), ('xxx', 'Oy')]\n",
      "[('x', 'International Standard Industrial Classification'), ('xx', 'brand'), ('xxx', 'public company')]\n",
      "[('x', 'International Standard Industrial Classification'), ('xx', 'business'), ('xxx', 'Oy')]\n",
      "[('x', 'International Standard Industrial Classification'), ('xx', 'business'), ('xxx', 'public company')]\n",
      "[('x', 'International Standard Industrial Classification'), ('xx', 'public company'), ('xxx', 'Oy')]\n",
      "[('x', 'International Standard Industrial Classification'), ('xx', 'public company'), ('xxx', 'public company')]\n",
      "[('x', 'communication device'), ('xx', 'brand'), ('xxx', 'Oy')]\n",
      "[('x', 'communication device'), ('xx', 'brand'), ('xxx', 'public company')]\n",
      "[('x', 'communication device'), ('xx', 'business'), ('xxx', 'Oy')]\n",
      "[('x', 'communication device'), ('xx', 'business'), ('xxx', 'public company')]\n",
      "[('x', 'communication device'), ('xx', 'public company'), ('xxx', 'Oy')]\n",
      "[('x', 'communication device'), ('xx', 'public company'), ('xxx', 'public company')]\n",
      "[('x', 'human resource management'), ('xx', 'temporary work agency'), ('xxx', 'joint-stock company')]\n",
      "[('x', 'human resource management'), ('xx', 'temporary work agency'), ('xxx', 'limited company')]\n",
      "[('x', 'human resource management'), ('xx', 'temporary work agency'), ('xxx', 'juridical person')]\n",
      "[('x', 'human resource management'), ('xx', 'recruitment agency'), ('xxx', 'joint-stock company')]\n",
      "[('x', 'human resource management'), ('xx', 'recruitment agency'), ('xxx', 'limited company')]\n",
      "[('x', 'human resource management'), ('xx', 'recruitment agency'), ('xxx', 'juridical person')]\n",
      "[('x', 'human resource management'), ('xx', 'business'), ('xxx', 'joint-stock company')]\n",
      "[('x', 'human resource management'), ('xx', 'business'), ('xxx', 'limited company')]\n",
      "[('x', 'human resource management'), ('xx', 'business'), ('xxx', 'juridical person')]\n",
      "[('x', 'human resource management'), ('xx', 'enterprise'), ('xxx', 'joint-stock company')]\n",
      "[('x', 'human resource management'), ('xx', 'enterprise'), ('xxx', 'limited company')]\n",
      "[('x', 'human resource management'), ('xx', 'enterprise'), ('xxx', 'juridical person')]\n",
      "[('x', 'human resource management'), ('xx', 'public company'), ('xxx', 'joint-stock company')]\n",
      "[('x', 'human resource management'), ('xx', 'public company'), ('xxx', 'limited company')]\n",
      "[('x', 'human resource management'), ('xx', 'public company'), ('xxx', 'juridical person')]\n",
      "[('x', 'staffing and recruiting industry'), ('xx', 'temporary work agency'), ('xxx', 'joint-stock company')]\n",
      "[('x', 'staffing and recruiting industry'), ('xx', 'temporary work agency'), ('xxx', 'limited company')]\n",
      "[('x', 'staffing and recruiting industry'), ('xx', 'temporary work agency'), ('xxx', 'juridical person')]\n",
      "[('x', 'staffing and recruiting industry'), ('xx', 'recruitment agency'), ('xxx', 'joint-stock company')]\n",
      "[('x', 'staffing and recruiting industry'), ('xx', 'recruitment agency'), ('xxx', 'limited company')]\n",
      "[('x', 'staffing and recruiting industry'), ('xx', 'recruitment agency'), ('xxx', 'juridical person')]\n",
      "[('x', 'staffing and recruiting industry'), ('xx', 'business'), ('xxx', 'joint-stock company')]\n",
      "[('x', 'staffing and recruiting industry'), ('xx', 'business'), ('xxx', 'limited company')]\n"
     ]
    },
    {
     "data": {
      "text/plain": [
       "100"
      ]
     },
     "execution_count": 71,
     "metadata": {},
     "output_type": "execute_result"
    }
   ],
   "source": [
    "# Business with market cap\n",
    "queryString = \"\"\"\n",
    "SELECT DISTINCT ?x ?xx ?xxx\n",
    "WHERE{\n",
    "    ?y wdt:P17 ?country .\n",
    "    ?country wdt:P463 wd:Q458 .\n",
    "    ?y wdt:P31 wd:Q4830453 .\n",
    "    ?y wdt:P2226 ?z .\n",
    "    ?y wdt:P452 ?x1 .\n",
    "    ?y wdt:P31 ?xx1 .\n",
    "    ?y wdt:P1454 ?xxx1. \n",
    "    ?xxx1 wdt:P279 ?xxx2 .\n",
    "    ?x1 <http://schema.org/name> ?x .\n",
    "    ?xx1 <http://schema.org/name> ?xx .\n",
    "    ?xxx2 <http://schema.org/name> ?xxx .\n",
    "}limit 100\n",
    "\"\"\"\n",
    "print(\"Results\")\n",
    "run_query(queryString)"
   ]
  },
  {
   "cell_type": "code",
   "execution_count": 75,
   "id": "1d2e7e53-a1f8-4bba-a912-41a42efdc16b",
   "metadata": {},
   "outputs": [
    {
     "name": "stdout",
     "output_type": "stream",
     "text": [
      "Results\n",
      "Empty\n"
     ]
    },
    {
     "data": {
      "text/plain": [
       "0"
      ]
     },
     "execution_count": 75,
     "metadata": {},
     "output_type": "execute_result"
    }
   ],
   "source": [
    "# It seems that Srl do not have market cap (make sense). Basically only the public ones\n",
    "queryString = \"\"\"\n",
    "SELECT DISTINCT ?x ?xx ?xxx\n",
    "WHERE{\n",
    "    ?y wdt:P17 ?country .\n",
    "    ?country wdt:P463 wd:Q458 .\n",
    "    ?y wdt:P31 wd:Q4830453 .\n",
    "    ?y wdt:P2226 ?z .\n",
    "    ?y wdt:P452 ?x1 .\n",
    "    ?y wdt:P31 ?xx1 .\n",
    "    ?y wdt:P1454 ?xxx1. \n",
    "    ?xxx1 wdt:P279 ?xxx2 .\n",
    "    ?x1 <http://schema.org/name> ?x .\n",
    "    ?xx1 <http://schema.org/name> ?xx .\n",
    "    ?xxx2 <http://schema.org/name> ?xxx .\n",
    "    filter(regex(?xxx, \"private\"))\n",
    "}limit 100\n",
    "\"\"\"\n",
    "# i did the filtering for \"liability\" other than for private\n",
    "print(\"Results\")\n",
    "run_query(queryString)"
   ]
  },
  {
   "cell_type": "code",
   "execution_count": 77,
   "id": "81448a4f-dadf-4d66-8685-dc17b6a3110b",
   "metadata": {},
   "outputs": [
    {
     "name": "stdout",
     "output_type": "stream",
     "text": [
      "Results\n",
      "[('x', 'electricity generation'), ('xx', 'business'), ('xxx', 'public company')]\n",
      "[('x', 'electricity generation'), ('xx', 'enterprise'), ('xxx', 'public company')]\n",
      "[('x', 'electricity generation'), ('xx', 'public company'), ('xxx', 'public company')]\n",
      "[('x', 'transport'), ('xx', 'railway company'), ('xxx', 'public company')]\n",
      "[('x', 'transport'), ('xx', 'business'), ('xxx', 'public company')]\n",
      "[('x', 'transport'), ('xx', 'public company'), ('xxx', 'public company')]\n",
      "[('x', 'energy industry'), ('xx', 'business'), ('xxx', 'public company')]\n",
      "[('x', 'energy industry'), ('xx', 'public limited company'), ('xxx', 'public company')]\n",
      "[('x', 'electrical appliance'), ('xx', 'brand'), ('xxx', 'public company')]\n",
      "[('x', 'electrical appliance'), ('xx', 'business'), ('xxx', 'public company')]\n",
      "[('x', 'electrical appliance'), ('xx', 'public company'), ('xxx', 'public company')]\n",
      "[('x', 'aircraft construction'), ('xx', 'business'), ('xxx', 'public company')]\n",
      "[('x', 'aircraft construction'), ('xx', 'enterprise'), ('xxx', 'public company')]\n",
      "[('x', 'aircraft construction'), ('xx', 'public company'), ('xxx', 'public company')]\n",
      "[('x', 'aircraft construction'), ('xx', 'concern'), ('xxx', 'public company')]\n",
      "[('x', 'International Standard Industrial Classification'), ('xx', 'brand'), ('xxx', 'public company')]\n",
      "[('x', 'International Standard Industrial Classification'), ('xx', 'business'), ('xxx', 'public company')]\n",
      "[('x', 'International Standard Industrial Classification'), ('xx', 'public company'), ('xxx', 'public company')]\n",
      "[('x', 'communication device'), ('xx', 'brand'), ('xxx', 'public company')]\n",
      "[('x', 'communication device'), ('xx', 'business'), ('xxx', 'public company')]\n",
      "[('x', 'communication device'), ('xx', 'public company'), ('xxx', 'public company')]\n",
      "[('x', 'pharmaceutical industry'), ('xx', 'business'), ('xxx', 'public company')]\n",
      "[('x', 'pharmaceutical industry'), ('xx', 'enterprise'), ('xxx', 'public company')]\n",
      "[('x', 'pharmaceutical industry'), ('xx', 'public company'), ('xxx', 'public company')]\n",
      "[('x', 'software company'), ('xx', 'business'), ('xxx', 'public company')]\n",
      "[('x', 'software company'), ('xx', 'enterprise'), ('xxx', 'public company')]\n",
      "[('x', 'software company'), ('xx', 'public company'), ('xxx', 'public company')]\n",
      "[('x', 'computer network'), ('xx', 'brand'), ('xxx', 'public company')]\n",
      "[('x', 'computer network'), ('xx', 'business'), ('xxx', 'public company')]\n",
      "[('x', 'computer network'), ('xx', 'public company'), ('xxx', 'public company')]\n",
      "[('x', 'telecommunications industry'), ('xx', 'brand'), ('xxx', 'public company')]\n",
      "[('x', 'telecommunications industry'), ('xx', 'business'), ('xxx', 'public company')]\n",
      "[('x', 'telecommunications industry'), ('xx', 'public company'), ('xxx', 'public company')]\n",
      "[('x', 'Financial service activities, except insurance and pension funding'), ('xx', 'business'), ('xxx', 'public company')]\n",
      "[('x', 'Financial service activities, except insurance and pension funding'), ('xx', 'enterprise'), ('xxx', 'public company')]\n",
      "[('x', 'Financial service activities, except insurance and pension funding'), ('xx', 'public company'), ('xxx', 'public company')]\n",
      "[('x', 'Financial service activities, except insurance and pension funding'), ('xx', 'bank'), ('xxx', 'public company')]\n",
      "[('x', 'Financial service activities, except insurance and pension funding'), ('xx', 'credit institution'), ('xxx', 'public company')]\n",
      "[('x', 'construction'), ('xx', 'business'), ('xxx', 'public company')]\n",
      "[('x', 'construction'), ('xx', 'enterprise'), ('xxx', 'public company')]\n",
      "[('x', 'construction'), ('xx', 'public company'), ('xxx', 'public company')]\n",
      "[('x', 'spaceflight'), ('xx', 'business'), ('xxx', 'public company')]\n",
      "[('x', 'spaceflight'), ('xx', 'enterprise'), ('xxx', 'public company')]\n",
      "[('x', 'spaceflight'), ('xx', 'public company'), ('xxx', 'public company')]\n",
      "[('x', 'spaceflight'), ('xx', 'concern'), ('xxx', 'public company')]\n",
      "[('x', 'aviation'), ('xx', 'business'), ('xxx', 'public company')]\n",
      "[('x', 'aviation'), ('xx', 'enterprise'), ('xxx', 'public company')]\n",
      "[('x', 'aviation'), ('xx', 'public company'), ('xxx', 'public company')]\n",
      "[('x', 'aviation'), ('xx', 'concern'), ('xxx', 'public company')]\n",
      "[('x', 'petroleum industry'), ('xx', 'business'), ('xxx', 'public company')]\n",
      "[('x', 'petroleum industry'), ('xx', 'enterprise'), ('xxx', 'public company')]\n",
      "[('x', 'petroleum industry'), ('xx', 'public company'), ('xxx', 'public company')]\n",
      "[('x', 'petroleum industry'), ('xx', 'oil company'), ('xxx', 'public company')]\n",
      "[('x', 'petroleum industry'), ('xx', 'petrol station chain'), ('xxx', 'public company')]\n",
      "[('x', 'petroleum industry'), ('xx', 'corporation'), ('xxx', 'public company')]\n",
      "[('x', 'petroleum industry'), ('xx', 'concern'), ('xxx', 'public company')]\n",
      "[('x', 'Finance'), ('xx', 'business'), ('xxx', 'public company')]\n",
      "[('x', 'Finance'), ('xx', 'enterprise'), ('xxx', 'public company')]\n",
      "[('x', 'Finance'), ('xx', 'public company'), ('xxx', 'public company')]\n",
      "[('x', 'Finance'), ('xx', 'bank'), ('xxx', 'public company')]\n",
      "[('x', 'Finance'), ('xx', 'credit institution'), ('xxx', 'public company')]\n",
      "[('x', 'aviation industry'), ('xx', 'business'), ('xxx', 'public company')]\n",
      "[('x', 'aviation industry'), ('xx', 'enterprise'), ('xxx', 'public company')]\n",
      "[('x', 'banking industry'), ('xx', 'business'), ('xxx', 'public company')]\n",
      "[('x', 'banking industry'), ('xx', 'enterprise'), ('xxx', 'public company')]\n",
      "[('x', 'banking industry'), ('xx', 'public company'), ('xxx', 'public company')]\n",
      "[('x', 'banking industry'), ('xx', 'bank'), ('xxx', 'public company')]\n",
      "[('x', 'banking industry'), ('xx', 'credit institution'), ('xxx', 'public company')]\n",
      "[('x', 'financial services'), ('xx', 'business'), ('xxx', 'public company')]\n",
      "[('x', 'financial services'), ('xx', 'enterprise'), ('xxx', 'public company')]\n",
      "[('x', 'financial services'), ('xx', 'public company'), ('xxx', 'public company')]\n",
      "[('x', 'financial services'), ('xx', 'bank'), ('xxx', 'public company')]\n",
      "[('x', 'financial services'), ('xx', 'credit institution'), ('xxx', 'public company')]\n",
      "[('x', 'real estate developer'), ('xx', 'business'), ('xxx', 'public company')]\n",
      "[('x', 'real estate developer'), ('xx', 'enterprise'), ('xxx', 'public company')]\n",
      "[('x', 'beverage industry'), ('xx', 'business'), ('xxx', 'public company')]\n",
      "[('x', 'beverage industry'), ('xx', 'enterprise'), ('xxx', 'public company')]\n",
      "[('x', 'beverage industry'), ('xx', 'public company'), ('xxx', 'public company')]\n",
      "[('x', 'Extraction of crude petroleum and natural gas'), ('xx', 'business'), ('xxx', 'public company')]\n",
      "[('x', 'Extraction of crude petroleum and natural gas'), ('xx', 'enterprise'), ('xxx', 'public company')]\n",
      "[('x', 'Extraction of crude petroleum and natural gas'), ('xx', 'public company'), ('xxx', 'public company')]\n",
      "[('x', 'Extraction of crude petroleum and natural gas'), ('xx', 'corporation'), ('xxx', 'public company')]\n",
      "[('x', 'Extraction of crude petroleum and natural gas'), ('xx', 'concern'), ('xxx', 'public company')]\n",
      "[('x', 'fashion'), ('xx', 'business'), ('xxx', 'public company')]\n",
      "[('x', 'fashion'), ('xx', 'enterprise'), ('xxx', 'public company')]\n",
      "[('x', 'fashion'), ('xx', 'company'), ('xxx', 'public company')]\n",
      "[('x', 'aerospace industry'), ('xx', 'business'), ('xxx', 'public company')]\n",
      "[('x', 'aerospace industry'), ('xx', 'public limited company'), ('xxx', 'public company')]\n",
      "[('x', 'networking hardware'), ('xx', 'brand'), ('xxx', 'public company')]\n",
      "[('x', 'networking hardware'), ('xx', 'business'), ('xxx', 'public company')]\n",
      "[('x', 'networking hardware'), ('xx', 'public company'), ('xxx', 'public company')]\n",
      "[('x', 'logistics'), ('xx', 'railway company'), ('xxx', 'public company')]\n",
      "[('x', 'logistics'), ('xx', 'business'), ('xxx', 'public company')]\n",
      "[('x', 'logistics'), ('xx', 'public company'), ('xxx', 'public company')]\n",
      "[('x', 'arms industry'), ('xx', 'business'), ('xxx', 'public company')]\n",
      "[('x', 'arms industry'), ('xx', 'public limited company'), ('xxx', 'public company')]\n",
      "[('x', 'arms industry'), ('xx', 'enterprise'), ('xxx', 'public company')]\n",
      "[('x', 'arms industry'), ('xx', 'public company'), ('xxx', 'public company')]\n",
      "[('x', 'arms industry'), ('xx', 'concern'), ('xxx', 'public company')]\n",
      "[('x', 'insurance'), ('xx', 'business'), ('xxx', 'public company')]\n"
     ]
    },
    {
     "data": {
      "text/plain": [
       "100"
      ]
     },
     "execution_count": 77,
     "metadata": {},
     "output_type": "execute_result"
    }
   ],
   "source": [
    "# Asset wise there is no limitation it seems \n",
    "queryString = \"\"\"\n",
    "SELECT DISTINCT ?x ?xx ?xxx\n",
    "WHERE{\n",
    "    ?y wdt:P17 ?country .\n",
    "    ?country wdt:P463 wd:Q458 .\n",
    "    ?y wdt:P31 wd:Q4830453 .\n",
    "    ?y wdt:P2403 ?z .\n",
    "    ?y wdt:P452 ?x1 .\n",
    "    ?y wdt:P31 ?xx1 .\n",
    "    ?y wdt:P1454 ?xxx1. \n",
    "    ?xxx1 wdt:P279 ?xxx2 .\n",
    "    ?x1 <http://schema.org/name> ?x .\n",
    "    ?xx1 <http://schema.org/name> ?xx .\n",
    "    ?xxx2 <http://schema.org/name> ?xxx .\n",
    "    filter(regex(?xxx, \"private\"))\n",
    "}limit 100\n",
    "\"\"\"\n",
    "# I also filtered for \"public\"\n",
    "print(\"Results\")\n",
    "run_query(queryString)"
   ]
  },
  {
   "cell_type": "markdown",
   "id": "6d8b26f1-282f-4fd4-a8dd-a7226635c6c8",
   "metadata": {},
   "source": [
    "\n",
    "Based on the analysis done before I can say that the market capitalization is only for the public traded company while the total assets are present for every business.\n",
    "\n",
    "I did not filter the specific or more general legal types because I think they are interesting "
   ]
  },
  {
   "cell_type": "code",
   "execution_count": 9,
   "id": "15d11ba8-e7d2-4c97-9127-ac3005058d61",
   "metadata": {},
   "outputs": [
    {
     "name": "stdout",
     "output_type": "stream",
     "text": [
      "Results\n",
      "[('name', 'joint-stock company'), ('tot', '1723383755522.7'), ('max', '289600000000'), ('min', '3896025.7'), ('avg', '71807656480.1125')]\n",
      "[('name', 'juridical person'), ('tot', '1601114860100'), ('max', '289600000000'), ('min', '111760000'), ('avg', '84269203163.157894736842105')]\n",
      "[('name', 'aktiebolag'), ('tot', '415000000000'), ('max', '415000000000'), ('min', '415000000000'), ('avg', '415000000000')]\n",
      "[('name', 'public company'), ('tot', '270427000000'), ('max', '185400000000'), ('min', '3500000000'), ('avg', '54085400000')]\n",
      "[('name', 'S.A.'), ('tot', '269105000000'), ('max', '139000000000'), ('min', '32000000000'), ('avg', '67276250000')]\n",
      "[('name', 'Aktiengesellschaft'), ('tot', '250462660100'), ('max', '139800000000'), ('min', '111760000'), ('avg', '41743776683.333333333333333')]\n",
      "[('name', 'Oy'), ('tot', '26257000000'), ('max', '26257000000'), ('min', '26257000000'), ('avg', '26257000000')]\n",
      "[('name', 'limited company'), ('tot', '9431200000'), ('max', '9431200000'), ('min', '9431200000'), ('avg', '9431200000')]\n"
     ]
    },
    {
     "data": {
      "text/plain": [
       "8"
      ]
     },
     "execution_count": 9,
     "metadata": {},
     "output_type": "execute_result"
    }
   ],
   "source": [
    "# ANSWER to 5 (for france but can be for any state)\n",
    "queryString = \"\"\"\n",
    "SELECT DISTINCT ?name (sum(?mcap) as ?tot) (max(?mcap) as ?max) (min(?mcap) as ?min) (avg(?mcap) as ?avg)\n",
    "WHERE {\n",
    "    ?y wdt:P17 ?country  .\n",
    "    ?country wdt:P463 wd:Q458 .\n",
    "    ?y wdt:P31 wd:Q4830453 .\n",
    "    ?y wdt:P1454 ?x .\n",
    "    ?x wdt:P279 ?legalform .\n",
    "    ?y wdt:P2226 ?mcap .\n",
    "    ?legalform <http://schema.org/name> ?name .\n",
    "    filter(!regex(?name,\"business entity\"))\n",
    "}group by (?name )\n",
    "order by desc (?tot)\n",
    "\"\"\"\n",
    "\n",
    "print(\"Results\")\n",
    "run_query(queryString)"
   ]
  },
  {
   "cell_type": "code",
   "execution_count": 87,
   "id": "188129b7-01e3-4ae7-b16e-c65543e631eb",
   "metadata": {},
   "outputs": [
    {
     "name": "stdout",
     "output_type": "stream",
     "text": [
      "Results\n",
      "[('name', 'juridical person'), ('tot', '16574162319972.78'), ('max', '1458650000000'), ('min', '0'), ('avg', '19249898164.892891986062718')]\n",
      "[('name', 'joint-stock company'), ('tot', '16263319620387'), ('max', '1458650000000'), ('min', '3165000'), ('avg', '29731845741.109689213893967')]\n",
      "[('name', 'limited company'), ('tot', '5572286762564.16'), ('max', '4103786000000'), ('min', '58464000'), ('avg', '398020483040.297142857142857')]\n",
      "[('name', 'public company'), ('tot', '3914905010000'), ('max', '2374986000000'), ('min', '3165000'), ('avg', '156596200400')]\n",
      "[('name', 'S.A.'), ('tot', '1741716687000'), ('max', '698690000000'), ('min', '3310735000'), ('avg', '108857292937.5')]\n",
      "[('name', 'private limited liability company'), ('tot', '1550513127387'), ('max', '75540700000'), ('min', '0'), ('avg', '4891208603.744479495268139')]\n",
      "[('name', 'Aktiengesellschaft'), ('tot', '1142490358839'), ('max', '299060000000'), ('min', '82339839'), ('avg', '95207529903.25')]\n",
      "[('name', 'company'), ('tot', '686888094000'), ('max', '595194000000'), ('min', '561715000'), ('avg', '76320899333.333333333333333')]\n",
      "[('name', 'enterprise'), ('tot', '677891000000'), ('max', '595194000000'), ('min', '14112000000'), ('avg', '169472750000')]\n",
      "[('name', 'aktiebolag'), ('tot', '615659000000'), ('max', '615659000000'), ('min', '615659000000'), ('avg', '615659000000')]\n",
      "[('name', 'Kommanditgesellschaft'), ('tot', '90550125508.47'), ('max', '36706000000'), ('min', '784112000'), ('avg', '6467866107.747857142857143')]\n",
      "[('name', 'general partnership'), ('tot', '64311417000'), ('max', '30896064000'), ('min', '356403000'), ('avg', '16077854250')]\n",
      "[('name', 'Oy'), ('tot', '39517000000'), ('max', '39517000000'), ('min', '39517000000'), ('avg', '39517000000')]\n",
      "[('name', 'cooperative'), ('tot', '38997580075'), ('max', '34011000000'), ('min', '4986580075'), ('avg', '19498790037.5')]\n",
      "[('name', 'legal form'), ('tot', '34011000000'), ('max', '34011000000'), ('min', '34011000000'), ('avg', '34011000000')]\n",
      "[('name', 'state-owned enterprise'), ('tot', '27189492000'), ('max', '20453000000'), ('min', '1408650000'), ('avg', '9063164000')]\n",
      "[('name', 'limited partnership'), ('tot', '23878510000'), ('max', '5612987000'), ('min', '784112000'), ('avg', '2984813750')]\n",
      "[('name', 'organization'), ('tot', '16389274000'), ('max', '8194637000'), ('min', '8194637000'), ('avg', '8194637000')]\n",
      "[('name', 'legal person'), ('tot', '16389274000'), ('max', '8194637000'), ('min', '8194637000'), ('avg', '8194637000')]\n",
      "[('name', 'private company'), ('tot', '15254549000'), ('max', '15254549000'), ('min', '15254549000'), ('avg', '15254549000')]\n",
      "[('name', 'private corporation'), ('tot', '15254549000'), ('max', '15254549000'), ('min', '15254549000'), ('avg', '15254549000')]\n",
      "[('name', 'mutual fund'), ('tot', '8266072000'), ('max', '8266072000'), ('min', '8266072000'), ('avg', '8266072000')]\n",
      "[('name', 'Open-end fund'), ('tot', '8266072000'), ('max', '8266072000'), ('min', '8266072000'), ('avg', '8266072000')]\n",
      "[('name', 'partnership'), ('tot', '7399574000'), ('max', '7399574000'), ('min', '7399574000'), ('avg', '7399574000')]\n",
      "[('name', 'Gesellschaft mit beschränkter Haftung'), ('tot', '6729056175.78'), ('max', '2858000000'), ('min', '1374854.72'), ('avg', '1345811235.156')]\n",
      "[('name', 'foundation'), ('tot', '2140893344'), ('max', '1226400000'), ('min', '914493344'), ('avg', '1070446672')]\n",
      "[('name', 'public-law institution'), ('tot', '1332465865.19'), ('max', '1332465865.19'), ('min', '1332465865.19'), ('avg', '1332465865.19')]\n",
      "[('name', 'public enterprise'), ('tot', '1160890000'), ('max', '1160890000'), ('min', '1160890000'), ('avg', '1160890000')]\n",
      "[('name', 'corporation'), ('tot', '637570000'), ('max', '637570000'), ('min', '637570000'), ('avg', '637570000')]\n",
      "[('name', 'nonprofit organization'), ('tot', '391800000'), ('max', '391800000'), ('min', '391800000'), ('avg', '391800000')]\n",
      "[('name', 'GmbH'), ('tot', '391800000'), ('max', '391800000'), ('min', '391800000'), ('avg', '391800000')]\n",
      "[('name', 'commercial company'), ('tot', '231879000'), ('max', '231779000'), ('min', '100000'), ('avg', '115939500')]\n",
      "[('name', 'subsidiary entity'), ('tot', '231779000'), ('max', '231779000'), ('min', '231779000'), ('avg', '231779000')]\n",
      "[('name', 'privately held company'), ('tot', '115727000'), ('max', '115727000'), ('min', '115727000'), ('avg', '115727000')]\n"
     ]
    },
    {
     "data": {
      "text/plain": [
       "34"
      ]
     },
     "execution_count": 87,
     "metadata": {},
     "output_type": "execute_result"
    }
   ],
   "source": [
    "# ANSWER to 5 (total assets instead of market cap, is the same so i didn't change var names)\n",
    "queryString = \"\"\"\n",
    "SELECT DISTINCT ?name (sum(?mcap) as ?tot) (max(?mcap) as ?max) (min(?mcap) as ?min) (avg(?mcap) as ?avg)\n",
    "WHERE {\n",
    "    ?y wdt:P17 ?country  .\n",
    "    ?country wdt:P463 wd:Q458 .\n",
    "    ?y wdt:P31 wd:Q4830453 .\n",
    "    ?y wdt:P1454 ?x .\n",
    "    ?x wdt:P279 ?legalform .\n",
    "    ?y wdt:P2403 ?mcap .\n",
    "    ?legalform <http://schema.org/name> ?name .\n",
    "    filter(!regex(?name,\"business entity\"))\n",
    "}group by (?name )\n",
    "order by desc (?tot)\n",
    "\"\"\"\n",
    "\n",
    "print(\"Results\")\n",
    "run_query(queryString)"
   ]
  },
  {
   "cell_type": "code",
   "execution_count": 14,
   "id": "3d08fef7-d8fb-4ab2-878e-7ea052978355",
   "metadata": {},
   "outputs": [
    {
     "name": "stdout",
     "output_type": "stream",
     "text": [
      "Results\n",
      "[('name', 'joint-stock company'), ('nameC', 'Czech Republic'), ('tot', '832800000000'), ('max', '286200000000'), ('min', '7100000000'), ('avg', '138800000000')]\n",
      "[('name', 'juridical person'), ('nameC', 'Czech Republic'), ('tot', '832800000000'), ('max', '286200000000'), ('min', '7100000000'), ('avg', '138800000000')]\n",
      "[('name', 'juridical person'), ('nameC', 'Denmark'), ('tot', '427356000000'), ('max', '289600000000'), ('min', '25256000000'), ('avg', '142452000000')]\n",
      "[('name', 'joint-stock company'), ('nameC', 'Denmark'), ('tot', '427356000000'), ('max', '289600000000'), ('min', '25256000000'), ('avg', '142452000000')]\n",
      "[('name', 'aktiebolag'), ('nameC', 'Finland'), ('tot', '415000000000'), ('max', '415000000000'), ('min', '415000000000'), ('avg', '415000000000')]\n",
      "[('name', 'Aktiengesellschaft'), ('nameC', 'Germany'), ('tot', '250462660100'), ('max', '139800000000'), ('min', '111760000'), ('avg', '41743776683.333333333333333')]\n",
      "[('name', 'juridical person'), ('nameC', 'Germany'), ('tot', '250462660100'), ('max', '139800000000'), ('min', '111760000'), ('avg', '41743776683.333333333333333')]\n",
      "[('name', 'public company'), ('nameC', 'United Kingdom'), ('tot', '232400000000'), ('max', '185400000000'), ('min', '47000000000'), ('avg', '116200000000')]\n",
      "[('name', 'joint-stock company'), ('nameC', 'France'), ('tot', '213384659497'), ('max', '139000000000'), ('min', '157659497'), ('avg', '35564109916.166666666666667')]\n",
      "[('name', 'S.A.'), ('nameC', 'France'), ('tot', '199000000000'), ('max', '139000000000'), ('min', '60000000000'), ('avg', '99500000000')]\n",
      "[('name', 'joint-stock company'), ('nameC', 'Sweden'), ('tot', '117778000000'), ('max', '80004000000'), ('min', '37774000000'), ('avg', '58889000000')]\n",
      "[('name', 'joint-stock company'), ('nameC', 'Germany'), ('tot', '76170000000'), ('max', '67900000000'), ('min', '8270000000'), ('avg', '38085000000')]\n",
      "[('name', 'S.A.'), ('nameC', 'Spain'), ('tot', '38105000000'), ('max', '38105000000'), ('min', '38105000000'), ('avg', '38105000000')]\n",
      "[('name', 'juridical person'), ('nameC', 'Spain'), ('tot', '38105000000'), ('max', '38105000000'), ('min', '38105000000'), ('avg', '38105000000')]\n",
      "[('name', 'S.A.'), ('nameC', 'Luxembourg'), ('tot', '32000000000'), ('max', '32000000000'), ('min', '32000000000'), ('avg', '32000000000')]\n",
      "[('name', 'joint-stock company'), ('nameC', 'Luxembourg'), ('tot', '32000000000'), ('max', '32000000000'), ('min', '32000000000'), ('avg', '32000000000')]\n",
      "[('name', 'juridical person'), ('nameC', 'Luxembourg'), ('tot', '32000000000'), ('max', '32000000000'), ('min', '32000000000'), ('avg', '32000000000')]\n",
      "[('name', 'Oy'), ('nameC', 'Finland'), ('tot', '26257000000'), ('max', '26257000000'), ('min', '26257000000'), ('avg', '26257000000')]\n",
      "[('name', 'public company'), ('nameC', 'Finland'), ('tot', '26257000000'), ('max', '26257000000'), ('min', '26257000000'), ('avg', '26257000000')]\n",
      "[('name', 'joint-stock company'), ('nameC', 'Austria'), ('tot', '14460000000'), ('max', '10960000000'), ('min', '3500000000'), ('avg', '7230000000')]\n",
      "[('name', 'juridical person'), ('nameC', 'Austria'), ('tot', '10960000000'), ('max', '10960000000'), ('min', '10960000000'), ('avg', '10960000000')]\n",
      "[('name', 'joint-stock company'), ('nameC', 'Kingdom of the Netherlands'), ('tot', '9431200000'), ('max', '9431200000'), ('min', '9431200000'), ('avg', '9431200000')]\n",
      "[('name', 'limited company'), ('nameC', 'Kingdom of the Netherlands'), ('tot', '9431200000'), ('max', '9431200000'), ('min', '9431200000'), ('avg', '9431200000')]\n",
      "[('name', 'juridical person'), ('nameC', 'Kingdom of the Netherlands'), ('tot', '9431200000'), ('max', '9431200000'), ('min', '9431200000'), ('avg', '9431200000')]\n",
      "[('name', 'public company'), ('nameC', 'Germany'), ('tot', '8270000000'), ('max', '8270000000'), ('min', '8270000000'), ('avg', '8270000000')]\n",
      "[('name', 'public company'), ('nameC', 'Austria'), ('tot', '3500000000'), ('max', '3500000000'), ('min', '3500000000'), ('avg', '3500000000')]\n",
      "[('name', 'joint-stock company'), ('nameC', 'Greece'), ('tot', '3896025.7'), ('max', '3896025.7'), ('min', '3896025.7'), ('avg', '3896025.7')]\n"
     ]
    },
    {
     "data": {
      "text/plain": [
       "27"
      ]
     },
     "execution_count": 14,
     "metadata": {},
     "output_type": "execute_result"
    }
   ],
   "source": [
    "# ANSWER to 5 (For every country, market cap)\n",
    "queryString = \"\"\"\n",
    "SELECT DISTINCT ?name ?nameC (sum(?mcap) as ?tot) (max(?mcap) as ?max) (min(?mcap) as ?min) (avg(?mcap) as ?avg)\n",
    "WHERE {\n",
    "    ?y wdt:P17 ?country  .\n",
    "    ?country wdt:P463 wd:Q458 .\n",
    "    ?y wdt:P31 wd:Q4830453 .\n",
    "    ?y wdt:P1454 ?x .\n",
    "    ?x wdt:P279 ?legalform .\n",
    "    ?y wdt:P2226 ?mcap .\n",
    "    ?legalform <http://schema.org/name> ?name .\n",
    "    ?country  <http://schema.org/name> ?nameC .\n",
    "    filter(!regex(?name,\"business entity\"))\n",
    "}group by ?name ?nameC\n",
    "order by desc (?tot)\n",
    "\"\"\"\n",
    "\n",
    "print(\"Results\")\n",
    "run_query(queryString)"
   ]
  },
  {
   "cell_type": "code",
   "execution_count": 15,
   "id": "5f3191f6-fd87-460f-afe3-76272dc065d2",
   "metadata": {},
   "outputs": [
    {
     "name": "stdout",
     "output_type": "stream",
     "text": [
      "Results\n",
      "[('name', 'juridical person'), ('nameC', 'Czech Republic'), ('tot', '12796785034570'), ('max', '1458650000000'), ('min', '0'), ('avg', '16056192013.262233375156838')]\n",
      "[('name', 'joint-stock company'), ('nameC', 'Czech Republic'), ('tot', '11493197007680'), ('max', '1458650000000'), ('min', '3165000'), ('avg', '23697313417.896907216494845')]\n",
      "[('name', 'limited company'), ('nameC', 'Hungary'), ('tot', '4823786000000'), ('max', '4103786000000'), ('min', '720000000000'), ('avg', '2411893000000')]\n",
      "[('name', 'public company'), ('nameC', 'United Kingdom'), ('tot', '3471337625000'), ('max', '2374986000000'), ('min', '682825000'), ('avg', '495905375000')]\n",
      "[('name', 'private limited liability company'), ('nameC', 'Czech Republic'), ('tot', '1543228456890'), ('max', '75540700000'), ('min', '0'), ('avg', '4962149379.067524115755627')]\n",
      "[('name', 'joint-stock company'), ('nameC', 'Spain'), ('tot', '1345895083000'), ('max', '1340000000000'), ('min', '5895083000'), ('avg', '672947541500')]\n",
      "[('name', 'juridical person'), ('nameC', 'Germany'), ('tot', '1156349331997.78'), ('max', '299060000000'), ('min', '1374854.72'), ('avg', '55064253904.656190476190476')]\n",
      "[('name', 'Aktiengesellschaft'), ('nameC', 'Germany'), ('tot', '1142490358839'), ('max', '299060000000'), ('min', '82339839'), ('avg', '95207529903.25')]\n",
      "[('name', 'juridical person'), ('nameC', 'Italy'), ('tot', '823369899000'), ('max', '601300000000'), ('min', '69899000'), ('avg', '274456633000')]\n",
      "[('name', 'joint-stock company'), ('nameC', 'Italy'), ('tot', '823369899000'), ('max', '601300000000'), ('min', '69899000'), ('avg', '274456633000')]\n",
      "[('name', 'S.A.'), ('nameC', 'Spain'), ('tot', '793500403000'), ('max', '698690000000'), ('min', '4103403000'), ('avg', '264500134333.333333333333333')]\n",
      "[('name', 'juridical person'), ('nameC', 'Spain'), ('tot', '793500403000'), ('max', '698690000000'), ('min', '4103403000'), ('avg', '264500134333.333333333333333')]\n",
      "[('name', 'limited company'), ('nameC', 'Croatia'), ('tot', '675233145000'), ('max', '675233145000'), ('min', '675233145000'), ('avg', '675233145000')]\n",
      "[('name', 'joint-stock company'), ('nameC', 'United Kingdom'), ('tot', '631414000000'), ('max', '595194000000'), ('min', '36220000000'), ('avg', '315707000000')]\n",
      "[('name', 'enterprise'), ('nameC', 'United Kingdom'), ('tot', '631414000000'), ('max', '595194000000'), ('min', '36220000000'), ('avg', '315707000000')]\n",
      "[('name', 'company'), ('nameC', 'United Kingdom'), ('tot', '631414000000'), ('max', '595194000000'), ('min', '36220000000'), ('avg', '315707000000')]\n",
      "[('name', 'joint-stock company'), ('nameC', 'France'), ('tot', '625516146300'), ('max', '230978000000'), ('min', '111133000'), ('avg', '52126345525')]\n",
      "[('name', 'aktiebolag'), ('nameC', 'Finland'), ('tot', '615659000000'), ('max', '615659000000'), ('min', '615659000000'), ('avg', '615659000000')]\n",
      "[('name', 'S.A.'), ('nameC', 'France'), ('tot', '583927284000'), ('max', '230978000000'), ('min', '3310735000'), ('avg', '72990910500')]\n",
      "[('name', 'joint-stock company'), ('nameC', 'Germany'), ('tot', '467029730000'), ('max', '409732000000'), ('min', '797647000'), ('avg', '116757432500')]\n",
      "[('name', 'juridical person'), ('nameC', 'Denmark'), ('tot', '444965244782'), ('max', '144922000000'), ('min', '86933'), ('avg', '26174426163.647058823529412')]\n",
      "[('name', 'joint-stock company'), ('nameC', 'Denmark'), ('tot', '444965157849'), ('max', '144922000000'), ('min', '64989000'), ('avg', '27810322365.5625')]\n",
      "[('name', 'public company'), ('nameC', 'Czech Republic'), ('tot', '333158199000'), ('max', '281291277000'), ('min', '3165000'), ('avg', '27763183250')]\n",
      "[('name', 'juridical person'), ('nameC', 'Belgium'), ('tot', '275200000000'), ('max', '275200000000'), ('min', '275200000000'), ('avg', '275200000000')]\n",
      "[('name', 'S.A.'), ('nameC', 'Belgium'), ('tot', '275200000000'), ('max', '275200000000'), ('min', '275200000000'), ('avg', '275200000000')]\n",
      "[('name', 'joint-stock company'), ('nameC', 'Sweden'), ('tot', '194201000000'), ('max', '118790000000'), ('min', '75411000000'), ('avg', '97100500000')]\n",
      "[('name', 'joint-stock company'), ('nameC', 'Ireland'), ('tot', '137135244000'), ('max', '93386000000'), ('min', '43749244000'), ('avg', '68567622000')]\n",
      "[('name', 'juridical person'), ('nameC', 'Ireland'), ('tot', '137135244000'), ('max', '93386000000'), ('min', '43749244000'), ('avg', '68567622000')]\n",
      "[('name', 'S.A.'), ('nameC', 'Poland'), ('tot', '71202000000'), ('max', '71202000000'), ('min', '71202000000'), ('avg', '71202000000')]\n",
      "[('name', 'juridical person'), ('nameC', 'Poland'), ('tot', '71202000000'), ('max', '71202000000'), ('min', '71202000000'), ('avg', '71202000000')]\n",
      "[('name', 'general partnership'), ('nameC', 'Czech Republic'), ('tot', '64311417000'), ('max', '30896064000'), ('min', '356403000'), ('avg', '16077854250')]\n",
      "[('name', 'Kommanditgesellschaft'), ('nameC', 'Germany'), ('tot', '60776532508.47'), ('max', '36706000000'), ('min', '963101508.47'), ('avg', '12155306501.694')]\n",
      "[('name', 'public company'), ('nameC', 'Germany'), ('tot', '51402647000'), ('max', '50605000000'), ('min', '797647000'), ('avg', '25701323500')]\n",
      "[('name', 'joint-stock company'), ('nameC', 'Austria'), ('tot', '47648606000'), ('max', '32112000000'), ('min', '1490000000'), ('avg', '11912151500')]\n",
      "[('name', 'limited company'), ('nameC', 'Ireland'), ('tot', '43749244000'), ('max', '43749244000'), ('min', '43749244000'), ('avg', '43749244000')]\n",
      "[('name', 'Oy'), ('nameC', 'Finland'), ('tot', '39517000000'), ('max', '39517000000'), ('min', '39517000000'), ('avg', '39517000000')]\n",
      "[('name', 'public company'), ('nameC', 'Finland'), ('tot', '39517000000'), ('max', '39517000000'), ('min', '39517000000'), ('avg', '39517000000')]\n",
      "[('name', 'juridical person'), ('nameC', 'Austria'), ('tot', '37270200000'), ('max', '32112000000'), ('min', '1490000000'), ('avg', '12423400000')]\n",
      "[('name', 'legal form'), ('nameC', 'Spain'), ('tot', '34011000000'), ('max', '34011000000'), ('min', '34011000000'), ('avg', '34011000000')]\n",
      "[('name', 'cooperative'), ('nameC', 'Spain'), ('tot', '34011000000'), ('max', '34011000000'), ('min', '34011000000'), ('avg', '34011000000')]\n",
      "[('name', 'enterprise'), ('nameC', 'France'), ('tot', '32365000000'), ('max', '32365000000'), ('min', '32365000000'), ('avg', '32365000000')]\n",
      "[('name', 'company'), ('nameC', 'France'), ('tot', '32365000000'), ('max', '32365000000'), ('min', '32365000000'), ('avg', '32365000000')]\n",
      "[('name', 'state-owned enterprise'), ('nameC', 'Czech Republic'), ('tot', '27189492000'), ('max', '20453000000'), ('min', '1408650000'), ('avg', '9063164000')]\n",
      "[('name', 'Kommanditgesellschaft'), ('nameC', 'Czech Republic'), ('tot', '23878510000'), ('max', '5612987000'), ('min', '784112000'), ('avg', '2984813750')]\n",
      "[('name', 'limited partnership'), ('nameC', 'Czech Republic'), ('tot', '23878510000'), ('max', '5612987000'), ('min', '784112000'), ('avg', '2984813750')]\n",
      "[('name', 'juridical person'), ('nameC', 'Luxembourg'), ('tot', '20181800000'), ('max', '7529000000'), ('min', '2294800000'), ('avg', '5045450000')]\n",
      "[('name', 'S.A.'), ('nameC', 'Luxembourg'), ('tot', '17887000000'), ('max', '7529000000'), ('min', '5122000000'), ('avg', '5962333333.333333333333333')]\n",
      "[('name', 'joint-stock company'), ('nameC', 'Luxembourg'), ('tot', '17887000000'), ('max', '7529000000'), ('min', '5122000000'), ('avg', '5962333333.333333333333333')]\n",
      "[('name', 'private corporation'), ('nameC', 'France'), ('tot', '15254549000'), ('max', '15254549000'), ('min', '15254549000'), ('avg', '15254549000')]\n",
      "[('name', 'private company'), ('nameC', 'France'), ('tot', '15254549000'), ('max', '15254549000'), ('min', '15254549000'), ('avg', '15254549000')]\n",
      "[('name', 'company'), ('nameC', 'Greece'), ('tot', '14112000000'), ('max', '14112000000'), ('min', '14112000000'), ('avg', '14112000000')]\n",
      "[('name', 'joint-stock company'), ('nameC', 'Greece'), ('tot', '14112000000'), ('max', '14112000000'), ('min', '14112000000'), ('avg', '14112000000')]\n",
      "[('name', 'enterprise'), ('nameC', 'Greece'), ('tot', '14112000000'), ('max', '14112000000'), ('min', '14112000000'), ('avg', '14112000000')]\n",
      "[('name', 'public company'), ('nameC', 'Austria'), ('tot', '10378406000'), ('max', '10378406000'), ('min', '10378406000'), ('avg', '10378406000')]\n",
      "[('name', 'limited company'), ('nameC', 'Greece'), ('tot', '9891806000'), ('max', '7571600000'), ('min', '2320206000'), ('avg', '4945903000')]\n",
      "[('name', 'joint-stock company'), ('nameC', 'Kingdom of the Netherlands'), ('tot', '9158900000'), ('max', '9158900000'), ('min', '9158900000'), ('avg', '9158900000')]\n",
      "[('name', 'limited company'), ('nameC', 'Kingdom of the Netherlands'), ('tot', '9158900000'), ('max', '9158900000'), ('min', '9158900000'), ('avg', '9158900000')]\n",
      "[('name', 'juridical person'), ('nameC', 'Kingdom of the Netherlands'), ('tot', '9158900000'), ('max', '9158900000'), ('min', '9158900000'), ('avg', '9158900000')]\n",
      "[('name', 'public company'), ('nameC', 'France'), ('tot', '9111133000'), ('max', '9000000000'), ('min', '111133000'), ('avg', '4555566500')]\n",
      "[('name', 'company'), ('nameC', 'Czech Republic'), ('tot', '8997094000'), ('max', '3530732000'), ('min', '561715000'), ('avg', '1799418800')]\n",
      "[('name', 'mutual fund'), ('nameC', 'Czech Republic'), ('tot', '8266072000'), ('max', '8266072000'), ('min', '8266072000'), ('avg', '8266072000')]\n",
      "[('name', 'Open-end fund'), ('nameC', 'Czech Republic'), ('tot', '8266072000'), ('max', '8266072000'), ('min', '8266072000'), ('avg', '8266072000')]\n",
      "[('name', 'organization'), ('nameC', 'Portugal'), ('tot', '8194637000'), ('max', '8194637000'), ('min', '8194637000'), ('avg', '8194637000')]\n",
      "[('name', 'legal person'), ('nameC', 'Spain'), ('tot', '8194637000'), ('max', '8194637000'), ('min', '8194637000'), ('avg', '8194637000')]\n",
      "[('name', 'organization'), ('nameC', 'Spain'), ('tot', '8194637000'), ('max', '8194637000'), ('min', '8194637000'), ('avg', '8194637000')]\n",
      "[('name', 'legal person'), ('nameC', 'Portugal'), ('tot', '8194637000'), ('max', '8194637000'), ('min', '8194637000'), ('avg', '8194637000')]\n",
      "[('name', 'partnership'), ('nameC', 'Czech Republic'), ('tot', '7399574000'), ('max', '7399574000'), ('min', '7399574000'), ('avg', '7399574000')]\n",
      "[('name', 'juridical person'), ('nameC', 'Slovakia'), ('tot', '6843472623'), ('max', '3077672000'), ('min', '33649623'), ('avg', '977638946.142857142857143')]\n",
      "[('name', 'Gesellschaft mit beschränkter Haftung'), ('nameC', 'Germany'), ('tot', '6729056175.78'), ('max', '2858000000'), ('min', '1374854.72'), ('avg', '1345811235.156')]\n",
      "[('name', 'Kommanditgesellschaft'), ('nameC', 'Spain'), ('tot', '5895083000'), ('max', '5895083000'), ('min', '5895083000'), ('avg', '5895083000')]\n",
      "[('name', 'limited company'), ('nameC', 'Poland'), ('tot', '5636000000'), ('max', '5636000000'), ('min', '5636000000'), ('avg', '5636000000')]\n",
      "[('name', 'joint-stock company'), ('nameC', 'Slovakia'), ('tot', '5069251623'), ('max', '3077672000'), ('min', '33649623'), ('avg', '844875270.5')]\n",
      "[('name', 'cooperative'), ('nameC', 'Germany'), ('tot', '4986580075'), ('max', '4986580075'), ('min', '4986580075'), ('avg', '4986580075')]\n",
      "[('name', 'limited company'), ('nameC', 'Austria'), ('tot', '2970000000'), ('max', '2970000000'), ('min', '2970000000'), ('avg', '2970000000')]\n",
      "[('name', 'joint-stock company'), ('nameC', 'Latvia'), ('tot', '2647592935'), ('max', '2642642800'), ('min', '4950135'), ('avg', '1323796467.5')]\n",
      "[('name', 'private limited liability company'), ('nameC', 'Luxembourg'), ('tot', '2294800000'), ('max', '2294800000'), ('min', '2294800000'), ('avg', '2294800000')]\n",
      "[('name', 'private limited liability company'), ('nameC', 'Lithuania'), ('tot', '2200790000'), ('max', '2200790000'), ('min', '2200790000'), ('avg', '2200790000')]\n",
      "[('name', 'juridical person'), ('nameC', 'Lithuania'), ('tot', '2200790000'), ('max', '2200790000'), ('min', '2200790000'), ('avg', '2200790000')]\n",
      "[('name', 'joint-stock company'), ('nameC', 'Lithuania'), ('tot', '2200790000'), ('max', '2200790000'), ('min', '2200790000'), ('avg', '2200790000')]\n",
      "[('name', 'foundation'), ('nameC', 'Germany'), ('tot', '2140893344'), ('max', '1226400000'), ('min', '914493344'), ('avg', '1070446672')]\n",
      "[('name', 'joint-stock company'), ('nameC', 'Poland'), ('tot', '1872212000'), ('max', '1872212000'), ('min', '1872212000'), ('avg', '1872212000')]\n",
      "[('name', 'private limited liability company'), ('nameC', 'Slovakia'), ('tot', '1774221000'), ('max', '1774221000'), ('min', '1774221000'), ('avg', '1774221000')]\n",
      "[('name', 'public-law institution'), ('nameC', 'Germany'), ('tot', '1332465865.19'), ('max', '1332465865.19'), ('min', '1332465865.19'), ('avg', '1332465865.19')]\n",
      "[('name', 'limited company'), ('nameC', 'Germany'), ('tot', '1170110564.16'), ('max', '1170110564.16'), ('min', '1170110564.16'), ('avg', '1170110564.16')]\n",
      "[('name', 'public enterprise'), ('nameC', 'Bulgaria'), ('tot', '1160890000'), ('max', '1160890000'), ('min', '1160890000'), ('avg', '1160890000')]\n",
      "[('name', 'private limited liability company'), ('nameC', 'Slovenia'), ('tot', '1012329000'), ('max', '1012329000'), ('min', '1012329000'), ('avg', '1012329000')]\n",
      "[('name', 'corporation'), ('nameC', 'Czech Republic'), ('tot', '637570000'), ('max', '637570000'), ('min', '637570000'), ('avg', '637570000')]\n",
      "[('name', 'nonprofit organization'), ('nameC', 'Germany'), ('tot', '391800000'), ('max', '391800000'), ('min', '391800000'), ('avg', '391800000')]\n",
      "[('name', 'GmbH'), ('nameC', 'Germany'), ('tot', '391800000'), ('max', '391800000'), ('min', '391800000'), ('avg', '391800000')]\n",
      "[('name', 'limited company'), ('nameC', 'Luxembourg'), ('tot', '378562000'), ('max', '378562000'), ('min', '378562000'), ('avg', '378562000')]\n",
      "[('name', 'limited company'), ('nameC', 'Czech Republic'), ('tot', '312995000'), ('max', '138804000'), ('min', '58464000'), ('avg', '104331666.666666666666667')]\n",
      "[('name', 'subsidiary entity'), ('nameC', 'Czech Republic'), ('tot', '231779000'), ('max', '231779000'), ('min', '231779000'), ('avg', '231779000')]\n",
      "[('name', 'commercial company'), ('nameC', 'Czech Republic'), ('tot', '231779000'), ('max', '231779000'), ('min', '231779000'), ('avg', '231779000')]\n",
      "[('name', 'privately held company'), ('nameC', 'Czech Republic'), ('tot', '115727000'), ('max', '115727000'), ('min', '115727000'), ('avg', '115727000')]\n",
      "[('name', 'private limited liability company'), ('nameC', 'Germany'), ('tot', '2443564'), ('max', '2443564'), ('min', '2443564'), ('avg', '2443564')]\n",
      "[('name', 'commercial company'), ('nameC', 'Spain'), ('tot', '100000'), ('max', '100000'), ('min', '100000'), ('avg', '100000')]\n",
      "[('name', 'private limited liability company'), ('nameC', 'Denmark'), ('tot', '86933'), ('max', '86933'), ('min', '86933'), ('avg', '86933')]\n"
     ]
    },
    {
     "data": {
      "text/plain": [
       "97"
      ]
     },
     "execution_count": 15,
     "metadata": {},
     "output_type": "execute_result"
    }
   ],
   "source": [
    "# ANSWER to 5 (For every country, total assets)\n",
    "queryString = \"\"\"\n",
    "SELECT DISTINCT ?name ?nameC (sum(?mcap) as ?tot) (max(?mcap) as ?max) (min(?mcap) as ?min) (avg(?mcap) as ?avg)\n",
    "WHERE {\n",
    "    ?y wdt:P17 ?country  .\n",
    "    ?country wdt:P463 wd:Q458 .\n",
    "    ?y wdt:P31 wd:Q4830453 .\n",
    "    ?y wdt:P1454 ?x .\n",
    "    ?x wdt:P279 ?legalform .\n",
    "    ?y wdt:P2403 ?mcap .\n",
    "    ?legalform <http://schema.org/name> ?name .\n",
    "    ?country  <http://schema.org/name> ?nameC .\n",
    "    filter(!regex(?name,\"business entity\"))\n",
    "}group by ?name ?nameC\n",
    "order by desc (?tot)\n",
    "\"\"\"\n",
    "\n",
    "print(\"Results\")\n",
    "run_query(queryString)"
   ]
  },
  {
   "cell_type": "markdown",
   "id": "061a0706-5585-4960-86ea-4fe14d8c0aae",
   "metadata": {
    "tags": []
   },
   "source": [
    "***\n",
    "\n",
    "# Task 5.3\n",
    "\n",
    "*Which business in each country owns more businesses in other E.U. countries?*"
   ]
  },
  {
   "cell_type": "code",
   "execution_count": 6,
   "id": "e8ea119c-f739-43f4-8821-25eea90ed49f",
   "metadata": {},
   "outputs": [
    {
     "name": "stdout",
     "output_type": "stream",
     "text": [
      "Results\n",
      "[('x', 'http://www.wikidata.org/entity/Q2357706'), ('tot', '13'), ('callret-2', 'Lycamobile')]\n",
      "[('x', 'http://www.wikidata.org/entity/Q113215'), ('tot', '10'), ('callret-2', 'Carlsberg Group')]\n",
      "[('x', 'http://www.wikidata.org/entity/Q1344573'), ('tot', '9'), ('callret-2', 'Foyer S.A.')]\n",
      "[('x', 'http://www.wikidata.org/entity/Q1412968'), ('tot', '8'), ('callret-2', 'NRJ Group')]\n",
      "[('x', 'http://www.wikidata.org/entity/Q608518'), ('tot', '7'), ('callret-2', 'Unibail Rodamco Westfield')]\n",
      "[('x', 'http://www.wikidata.org/entity/Q128738'), ('tot', '7'), ('callret-2', 'Anheuser-Busch InBev')]\n",
      "[('x', 'http://www.wikidata.org/entity/Q1550912'), ('tot', '7'), ('callret-2', 'GMV Innovating Solutions')]\n",
      "[('x', 'http://www.wikidata.org/entity/Q407009'), ('tot', '6'), ('callret-2', '3')]\n",
      "[('x', 'http://www.wikidata.org/entity/Q903805'), ('tot', '6'), ('callret-2', 'hema')]\n",
      "[('x', 'http://www.wikidata.org/entity/Q59163923'), ('tot', '6'), ('callret-2', 'EP Investment')]\n",
      "[('x', 'http://www.wikidata.org/entity/Q842108'), ('tot', '6'), ('callret-2', 'Euronext')]\n",
      "[('x', 'http://www.wikidata.org/entity/Q378944'), ('tot', '6'), ('callret-2', 'Modern Times Group')]\n",
      "[('x', 'http://www.wikidata.org/entity/Q104175647'), ('tot', '6'), ('callret-2', 'Guillemot Brothers')]\n",
      "[('x', 'http://www.wikidata.org/entity/Q12309283'), ('tot', '6'), ('callret-2', 'Eurospar')]\n",
      "[('x', 'http://www.wikidata.org/entity/Q499707'), ('tot', '6'), ('callret-2', 'BNP Paribas')]\n",
      "[('x', 'http://www.wikidata.org/entity/Q2020649'), ('tot', '6'), ('callret-2', 'Nordic Investment Bank')]\n",
      "[('x', 'http://www.wikidata.org/entity/Q55847267'), ('tot', '6'), ('callret-2', 'CarNext.com')]\n",
      "[('x', 'http://www.wikidata.org/entity/Q1958759'), ('tot', '6'), ('callret-2', 'Müller')]\n",
      "[('x', 'http://www.wikidata.org/entity/Q27530'), ('tot', '5'), ('callret-2', 'Daimler AG')]\n",
      "[('x', 'http://www.wikidata.org/entity/Q846484'), ('tot', '5'), ('callret-2', 'Caisse des dépôts et consignations')]\n",
      "[('x', 'http://www.wikidata.org/entity/Q270363'), ('tot', '5'), ('callret-2', 'Societé Génerale')]\n",
      "[('x', 'http://www.wikidata.org/entity/Q4995'), ('tot', '5'), ('callret-2', 'SABMiller')]\n",
      "[('x', 'http://www.wikidata.org/entity/Q5852793'), ('tot', '5'), ('callret-2', 'Everis')]\n",
      "[('x', 'http://www.wikidata.org/entity/Q16040166'), ('tot', '5'), ('callret-2', 'Drivy')]\n",
      "[('x', 'http://www.wikidata.org/entity/Q106093155'), ('tot', '4'), ('callret-2', 'Kukana Enterprises')]\n",
      "[('x', 'http://www.wikidata.org/entity/Q632233'), ('tot', '4'), ('callret-2', 'HeidelbergCement')]\n",
      "[('x', 'http://www.wikidata.org/entity/Q542767'), ('tot', '4'), ('callret-2', 'Christian Dior')]\n",
      "[('x', 'http://www.wikidata.org/entity/Q29613327'), ('tot', '4'), ('callret-2', 'Asahi Breweries Europe')]\n",
      "[('x', 'http://www.wikidata.org/entity/Q122141'), ('tot', '4'), ('callret-2', 'Vodafone')]\n",
      "[('x', 'http://www.wikidata.org/entity/Q692179'), ('tot', '4'), ('callret-2', 'Interflora')]\n",
      "[('x', 'http://www.wikidata.org/entity/Q504998'), ('tot', '4'), ('callret-2', 'LVMH')]\n",
      "[('x', 'http://www.wikidata.org/entity/Q27485599'), ('tot', '4'), ('callret-2', 'EP Power Europe')]\n",
      "[('x', 'http://www.wikidata.org/entity/Q1418'), ('tot', '4'), ('callret-2', 'Nokia')]\n",
      "[('x', 'http://www.wikidata.org/entity/Q43930212'), ('tot', '4'), ('callret-2', 'Macquarie Infrastructure and Real Assets (Europe) Limited')]\n",
      "[('x', 'http://www.wikidata.org/entity/Q1439075'), ('tot', '4'), ('callret-2', 'Fortum')]\n",
      "[('x', 'http://www.wikidata.org/entity/Q157675'), ('tot', '4'), ('callret-2', 'Vattenfall')]\n",
      "[('x', 'http://www.wikidata.org/entity/Q184399'), ('tot', '4'), ('callret-2', 'Zeeman')]\n",
      "[('x', 'http://www.wikidata.org/entity/Q274591'), ('tot', '4'), ('callret-2', 'Électricité de France')]\n",
      "[('x', 'http://www.wikidata.org/entity/Q91307483'), ('tot', '4'), ('callret-2', 'Yesss Electrical')]\n",
      "[('x', 'http://www.wikidata.org/entity/Q9396'), ('tot', '4'), ('callret-2', 'Deutsche Telekom')]\n",
      "[('x', 'http://www.wikidata.org/entity/Q27893'), ('tot', '4'), ('callret-2', 'ArcelorMittal')]\n",
      "[('x', 'http://www.wikidata.org/entity/Q59165'), ('tot', '4'), ('callret-2', 'ProSiebenSat.1 Media SE')]\n",
      "[('x', 'http://www.wikidata.org/entity/Q24886242'), ('tot', '3'), ('callret-2', 'RideLink')]\n",
      "[('x', 'http://www.wikidata.org/entity/Q554198'), ('tot', '3'), ('callret-2', 'Bauer Media Group')]\n",
      "[('x', 'http://www.wikidata.org/entity/Q60712485'), ('tot', '3'), ('callret-2', 'Flowervale')]\n",
      "[('x', 'http://www.wikidata.org/entity/Q645498'), ('tot', '3'), ('callret-2', 'Lyxor Asset Management')]\n",
      "[('x', 'http://www.wikidata.org/entity/Q670482'), ('tot', '3'), ('callret-2', 'Assicurazioni Generali')]\n",
      "[('x', 'http://www.wikidata.org/entity/Q60605903'), ('tot', '3'), ('callret-2', 'Priveq Funds')]\n",
      "[('x', 'http://www.wikidata.org/entity/Q66132404'), ('tot', '3'), ('callret-2', 'dean&david')]\n",
      "[('x', 'http://www.wikidata.org/entity/Q85845553'), ('tot', '3'), ('callret-2', 'Bondi Sands')]\n"
     ]
    },
    {
     "data": {
      "text/plain": [
       "50"
      ]
     },
     "execution_count": 6,
     "metadata": {},
     "output_type": "execute_result"
    }
   ],
   "source": [
    "# Companies that work in other states\n",
    "queryString = \"\"\"\n",
    "select ?x (count(distinct ?countries) as ?tot) sample(?name)\n",
    "where {\n",
    "  ?x wdt:P31 wd:Q4830453 .\n",
    "  ?x wdt:P17 ?country .\n",
    "  ?country wdt:P463 wd:Q458 .\n",
    "  ?x wdt:P355|wdt:P1830*/wdt:P17 ?countries .\n",
    "  ?countries wdt:P463 wd:Q458 .\n",
    "  filter(?countries!=?country)\n",
    "  ?x <http://schema.org/name> ?name .\n",
    "} group by ?x\n",
    "order by desc (?tot)\n",
    "limit 50\n",
    "\"\"\"\n",
    "print(\"Results\")\n",
    "run_query(queryString)"
   ]
  },
  {
   "cell_type": "markdown",
   "id": "86097f97-91d0-4793-a8a7-b3b11c0a900a",
   "metadata": {},
   "source": [
    "I noticed that Vodafone has less susidiaries that what I've seen before so I had to check what was wrong with the query"
   ]
  },
  {
   "cell_type": "code",
   "execution_count": 54,
   "id": "b253c05c-c5fe-4083-8cbf-97dbd3bfed90",
   "metadata": {},
   "outputs": [
    {
     "name": "stdout",
     "output_type": "stream",
     "text": [
      "Results\n",
      "[('name', 'United Kingdom')]\n",
      "[('name', 'Germany')]\n",
      "[('name', 'Italy')]\n",
      "[('name', 'Greece')]\n",
      "[('name', 'Portugal')]\n"
     ]
    },
    {
     "data": {
      "text/plain": [
       "5"
      ]
     },
     "execution_count": 54,
     "metadata": {},
     "output_type": "execute_result"
    }
   ],
   "source": [
    "# Check on vodafone because there should be more\n",
    "queryString = \"\"\"\n",
    "select distinct ?name\n",
    "where {\n",
    "  wd:Q122141 wdt:P355|wdt:P1830*/wdt:P17 ?countries .\n",
    "  ?countries wdt:P463 wd:Q458 .\n",
    " ?countries <http://schema.org/name> ?name .\n",
    "}\n",
    "\"\"\"\n",
    "print(\"Results\")\n",
    "run_query(queryString)"
   ]
  },
  {
   "cell_type": "markdown",
   "id": "47ffbce9-6ab4-43d5-a149-7a19f1b2fed4",
   "metadata": {},
   "source": [
    "Checking in the results I had before in the notebook I've seen that there are for sure other countries like, for example, Hungary"
   ]
  },
  {
   "cell_type": "code",
   "execution_count": 55,
   "id": "38a7ac26-98c1-4690-b3ae-1f30e56335ad",
   "metadata": {},
   "outputs": [
    {
     "name": "stdout",
     "output_type": "stream",
     "text": [
      "Results\n",
      "[('x', 'http://www.wikidata.org/entity/Q28'), ('name', 'Hungary')]\n"
     ]
    },
    {
     "data": {
      "text/plain": [
       "1"
      ]
     },
     "execution_count": 55,
     "metadata": {},
     "output_type": "execute_result"
    }
   ],
   "source": [
    "# Check for vodafone hungary\n",
    "queryString = \"\"\"\n",
    "SELECT ?x ?name\n",
    " WHERE { \n",
    "    wd:Q108169117 wdt:P17 ?x .\n",
    "    ?x <http://schema.org/name> ?name .\n",
    "} \n",
    "\n",
    "\"\"\"\n",
    "# It exists so something is of with the paths\n",
    "print(\"Results\")\n",
    "run_query(queryString)"
   ]
  },
  {
   "cell_type": "code",
   "execution_count": 57,
   "id": "1cc79140-5fa4-4817-8e79-53aa8a7e778e",
   "metadata": {},
   "outputs": [
    {
     "name": "stdout",
     "output_type": "stream",
     "text": [
      "Results\n",
      "[('name', 'France')]\n",
      "[('name', 'United Kingdom')]\n",
      "[('name', 'Germany')]\n",
      "[('name', 'Czech Republic')]\n",
      "[('name', 'Slovakia')]\n",
      "[('name', 'Romania')]\n",
      "[('name', 'Malta')]\n",
      "[('name', 'Ireland')]\n",
      "[('name', 'Hungary')]\n",
      "[('name', 'Spain')]\n",
      "[('name', 'Belgium')]\n",
      "[('name', 'Poland')]\n",
      "[('name', 'Italy')]\n",
      "[('name', 'Greece')]\n",
      "[('name', 'Portugal')]\n"
     ]
    },
    {
     "data": {
      "text/plain": [
       "15"
      ]
     },
     "execution_count": 57,
     "metadata": {},
     "output_type": "execute_result"
    }
   ],
   "source": [
    "# Check on vodafone with different path\n",
    "queryString = \"\"\"\n",
    "select distinct ?name\n",
    "where {\n",
    "  wd:Q122141 wdt:P355*/wdt:P17|wdt:P1830*/wdt:P17 ?countries .\n",
    "  ?countries wdt:P463 wd:Q458 .\n",
    " ?countries <http://schema.org/name> ?name .\n",
    "}\n",
    "\"\"\"\n",
    "print(\"Results\")\n",
    "run_query(queryString)"
   ]
  },
  {
   "cell_type": "code",
   "execution_count": 60,
   "id": "3f10bf1f-4e04-4526-85d7-b382dd412413",
   "metadata": {},
   "outputs": [
    {
     "name": "stdout",
     "output_type": "stream",
     "text": [
      "Results\n",
      "[('name', 'Volkswagen Group'), ('tot', '14')]\n",
      "[('name', 'Porsche Automobil Holding SE'), ('tot', '14')]\n",
      "[('name', 'Vodafone'), ('tot', '14')]\n",
      "[('name', 'Hannoversche Beteiligungsgesellschaft'), ('tot', '14')]\n",
      "[('name', 'Lycamobile'), ('tot', '13')]\n",
      "[('name', 'Siemens'), ('tot', '11')]\n",
      "[('name', 'Nokia'), ('tot', '11')]\n",
      "[('name', 'Carlsberg Group'), ('tot', '11')]\n",
      "[('name', 'Deutsche Telekom'), ('tot', '10')]\n",
      "[('name', 'Foyer S.A.'), ('tot', '9')]\n",
      "[('name', 'Energetický a průmyslový holding'), ('tot', '8')]\n",
      "[('name', 'NRJ Group'), ('tot', '8')]\n",
      "[('name', 'Vinci'), ('tot', '8')]\n",
      "[('name', 'ArcelorMittal'), ('tot', '8')]\n",
      "[('name', 'RELX Group'), ('tot', '8')]\n",
      "[('name', 'Phoenix Pharmahandel'), ('tot', '7')]\n",
      "[('name', 'Anheuser-Busch InBev'), ('tot', '7')]\n",
      "[('name', 'BNP Paribas'), ('tot', '7')]\n",
      "[('name', 'GMV Innovating Solutions'), ('tot', '7')]\n",
      "[('name', 'Vivendi'), ('tot', '7')]\n",
      "[('name', 'Vodafone Germany'), ('tot', '7')]\n",
      "[('name', 'Unibail Rodamco Westfield'), ('tot', '7')]\n",
      "[('name', 'Mannesmann'), ('tot', '7')]\n",
      "[('name', 'Liberty Global'), ('tot', '7')]\n",
      "[('name', 'EP Investment'), ('tot', '6')]\n",
      "[('name', 'Caisse des dépôts et consignations'), ('tot', '6')]\n",
      "[('name', 'Orange'), ('tot', '6')]\n",
      "[('name', 'TotalEnergies'), ('tot', '6')]\n",
      "[('name', 'Alcatel-Lucent'), ('tot', '6')]\n",
      "[('name', 'Euronext'), ('tot', '6')]\n",
      "[('name', 'Assicurazioni Generali'), ('tot', '6')]\n",
      "[('name', 'BASF'), ('tot', '6')]\n",
      "[('name', 'hema'), ('tot', '6')]\n",
      "[('name', 'Bayer'), ('tot', '6')]\n",
      "[('name', '3'), ('tot', '6')]\n",
      "[('name', 'Müller'), ('tot', '6')]\n",
      "[('name', 'CarNext.com'), ('tot', '6')]\n",
      "[('name', 'Guillemot Brothers'), ('tot', '6')]\n",
      "[('name', 'Medtronic plc'), ('tot', '6')]\n",
      "[('name', 'Nordic Investment Bank'), ('tot', '6')]\n",
      "[('name', 'Alcatel'), ('tot', '6')]\n",
      "[('name', 'Embracer Group'), ('tot', '6')]\n",
      "[('name', 'Dassault Aviation'), ('tot', '6')]\n",
      "[('name', 'Eurospar'), ('tot', '6')]\n",
      "[('name', 'Thales Group'), ('tot', '6')]\n",
      "[('name', 'International Airlines Group'), ('tot', '6')]\n",
      "[('name', 'Modern Times Group'), ('tot', '6')]\n",
      "[('name', 'STMicroelectronics'), ('tot', '6')]\n",
      "[('name', 'Drivy'), ('tot', '5')]\n",
      "[('name', 'E.ON SE'), ('tot', '5')]\n"
     ]
    },
    {
     "data": {
      "text/plain": [
       "50"
      ]
     },
     "execution_count": 60,
     "metadata": {},
     "output_type": "execute_result"
    }
   ],
   "source": [
    "# Companies that work in other states (with new path)\n",
    "queryString = \"\"\"\n",
    "select ?name (count(distinct ?countries) as ?tot)\n",
    "where {\n",
    "  ?x wdt:P31 wd:Q4830453 .\n",
    "  ?x wdt:P17 ?country .\n",
    "  ?country wdt:P463 wd:Q458 .\n",
    "  ?x wdt:P355*/wdt:P17|wdt:P1830*/wdt:P17 ?countries .\n",
    "  ?countries wdt:P463 wd:Q458 .\n",
    "  filter(?countries!=?country)\n",
    "  ?x <http://schema.org/name> ?name .\n",
    "} group by ?name\n",
    "order by desc (?tot)\n",
    "limit 50\n",
    "\"\"\"\n",
    "# there are 2 vodafone now, but I guess it depends on the level of granurality on which I want to stop\n",
    "print(\"Results\")\n",
    "run_query(queryString)"
   ]
  },
  {
   "cell_type": "markdown",
   "id": "dce65774-9bd8-4af8-9e37-5b70024ec46a",
   "metadata": {},
   "source": [
    "There is a general \"Vodafone\" but also a \"Vodafone Germany\""
   ]
  },
  {
   "cell_type": "code",
   "execution_count": 61,
   "id": "7e0b3d63-79e8-44f5-9103-8e0f63890730",
   "metadata": {},
   "outputs": [
    {
     "name": "stdout",
     "output_type": "stream",
     "text": [
      "Results\n",
      "[('name', 'Volkswagen Group'), ('tot', '14')]\n",
      "[('name', 'Porsche Automobil Holding SE'), ('tot', '14')]\n",
      "[('name', 'Vodafone'), ('tot', '14')]\n",
      "[('name', 'Hannoversche Beteiligungsgesellschaft'), ('tot', '14')]\n",
      "[('name', 'Lycamobile'), ('tot', '13')]\n",
      "[('name', 'Siemens'), ('tot', '11')]\n",
      "[('name', 'Nokia'), ('tot', '11')]\n",
      "[('name', 'Carlsberg Group'), ('tot', '11')]\n",
      "[('name', 'Deutsche Telekom'), ('tot', '10')]\n",
      "[('name', 'Foyer S.A.'), ('tot', '9')]\n",
      "[('name', 'Energetický a průmyslový holding'), ('tot', '8')]\n",
      "[('name', 'NRJ Group'), ('tot', '8')]\n",
      "[('name', 'Vinci'), ('tot', '8')]\n",
      "[('name', 'ArcelorMittal'), ('tot', '8')]\n",
      "[('name', 'RELX Group'), ('tot', '8')]\n",
      "[('name', 'Phoenix Pharmahandel'), ('tot', '7')]\n",
      "[('name', 'Anheuser-Busch InBev'), ('tot', '7')]\n",
      "[('name', 'BNP Paribas'), ('tot', '7')]\n",
      "[('name', 'GMV Innovating Solutions'), ('tot', '7')]\n",
      "[('name', 'Vivendi'), ('tot', '7')]\n",
      "[('name', 'Unibail Rodamco Westfield'), ('tot', '7')]\n",
      "[('name', 'Liberty Global'), ('tot', '7')]\n",
      "[('name', 'EP Investment'), ('tot', '6')]\n",
      "[('name', 'Caisse des dépôts et consignations'), ('tot', '6')]\n",
      "[('name', 'Orange'), ('tot', '6')]\n",
      "[('name', 'TotalEnergies'), ('tot', '6')]\n",
      "[('name', 'Euronext'), ('tot', '6')]\n",
      "[('name', 'Assicurazioni Generali'), ('tot', '6')]\n",
      "[('name', 'BASF'), ('tot', '6')]\n",
      "[('name', 'hema'), ('tot', '6')]\n",
      "[('name', 'Bayer'), ('tot', '6')]\n",
      "[('name', 'Müller'), ('tot', '6')]\n",
      "[('name', 'CarNext.com'), ('tot', '6')]\n",
      "[('name', 'Guillemot Brothers'), ('tot', '6')]\n",
      "[('name', 'Medtronic plc'), ('tot', '6')]\n",
      "[('name', 'Nordic Investment Bank'), ('tot', '6')]\n",
      "[('name', 'Embracer Group'), ('tot', '6')]\n",
      "[('name', 'International Airlines Group'), ('tot', '6')]\n",
      "[('name', 'STMicroelectronics'), ('tot', '6')]\n",
      "[('name', 'E.ON SE'), ('tot', '5')]\n",
      "[('name', 'Danske Bank'), ('tot', '5')]\n",
      "[('name', 'MOL Group'), ('tot', '5')]\n",
      "[('name', 'HeidelbergCement'), ('tot', '5')]\n",
      "[('name', 'Societé Génerale'), ('tot', '5')]\n",
      "[('name', 'Reichswerke Hermann Göring'), ('tot', '5')]\n",
      "[('name', 'Everis'), ('tot', '5')]\n",
      "[('name', 'Schneider Electric'), ('tot', '5')]\n",
      "[('name', 'Daimler AG'), ('tot', '5')]\n",
      "[('name', 'Lufthansa'), ('tot', '5')]\n",
      "[('name', 'Telia Company'), ('tot', '5')]\n"
     ]
    },
    {
     "data": {
      "text/plain": [
       "50"
      ]
     },
     "execution_count": 61,
     "metadata": {},
     "output_type": "execute_result"
    }
   ],
   "source": [
    "# I can try to specify the fact that the ones that i want to be shown must have no parent\n",
    "queryString = \"\"\"\n",
    "select ?name (count(distinct ?countries) as ?tot)\n",
    "where {\n",
    "  ?x wdt:P31 wd:Q4830453 .\n",
    "  ?x wdt:P17 ?country .\n",
    "  ?country wdt:P463 wd:Q458 .\n",
    "  ?x wdt:P355*/wdt:P17|wdt:P1830*/wdt:P17 ?countries .\n",
    "  ?countries wdt:P463 wd:Q458 .\n",
    "  filter(?countries!=?country)\n",
    "  filter not exists { ?x wdt:P749 ?zzz}\n",
    "  ?x <http://schema.org/name> ?name .\n",
    "} group by ?name\n",
    "order by desc (?tot)\n",
    "limit 50\n",
    "\"\"\"\n",
    "# nice\n",
    "print(\"Results\")\n",
    "run_query(queryString)"
   ]
  },
  {
   "cell_type": "code",
   "execution_count": 7,
   "id": "5c173257-67dc-4e44-9d08-5177fb8b53ac",
   "metadata": {},
   "outputs": [
    {
     "name": "stdout",
     "output_type": "stream",
     "text": [
      "Results\n",
      "[('name', 'Volkswagen Group'), ('nameC', 'Germany'), ('tot', '14')]\n",
      "[('name', 'Vodafone'), ('nameC', 'United Kingdom'), ('tot', '14')]\n",
      "[('name', 'Hannoversche Beteiligungsgesellschaft'), ('nameC', 'Germany'), ('tot', '14')]\n",
      "[('name', 'Porsche Automobil Holding SE'), ('nameC', 'Germany'), ('tot', '14')]\n",
      "[('name', 'Lycamobile'), ('nameC', 'Portugal'), ('tot', '12')]\n",
      "[('name', 'Lycamobile'), ('nameC', 'United Kingdom'), ('tot', '12')]\n",
      "[('name', 'Lycamobile'), ('nameC', 'France'), ('tot', '12')]\n",
      "[('name', 'Lycamobile'), ('nameC', 'Romania'), ('tot', '12')]\n",
      "[('name', 'Lycamobile'), ('nameC', 'Denmark'), ('tot', '12')]\n",
      "[('name', 'Lycamobile'), ('nameC', 'Italy'), ('tot', '12')]\n",
      "[('name', 'Lycamobile'), ('nameC', 'Ireland'), ('tot', '12')]\n",
      "[('name', 'Lycamobile'), ('nameC', 'Austria'), ('tot', '12')]\n",
      "[('name', 'Lycamobile'), ('nameC', 'Spain'), ('tot', '12')]\n",
      "[('name', 'Lycamobile'), ('nameC', 'Sweden'), ('tot', '12')]\n",
      "[('name', 'Lycamobile'), ('nameC', 'Poland'), ('tot', '12')]\n",
      "[('name', 'Lycamobile'), ('nameC', 'Germany'), ('tot', '12')]\n",
      "[('name', 'Lycamobile'), ('nameC', 'Belgium'), ('tot', '12')]\n",
      "[('name', 'Carlsberg Group'), ('nameC', 'Denmark'), ('tot', '11')]\n",
      "[('name', 'Siemens'), ('nameC', 'Germany'), ('tot', '11')]\n",
      "[('name', 'Nokia'), ('nameC', 'Finland'), ('tot', '11')]\n",
      "[('name', 'Deutsche Telekom'), ('nameC', 'Germany'), ('tot', '10')]\n",
      "[('name', 'Foyer S.A.'), ('nameC', 'Germany'), ('tot', '8')]\n",
      "[('name', 'Foyer S.A.'), ('nameC', 'Luxembourg'), ('tot', '8')]\n",
      "[('name', 'Foyer S.A.'), ('nameC', 'Belgium'), ('tot', '8')]\n",
      "[('name', 'Foyer S.A.'), ('nameC', 'Italy'), ('tot', '8')]\n",
      "[('name', 'Foyer S.A.'), ('nameC', 'Sweden'), ('tot', '8')]\n",
      "[('name', 'Foyer S.A.'), ('nameC', 'Finland'), ('tot', '8')]\n",
      "[('name', 'Foyer S.A.'), ('nameC', 'Portugal'), ('tot', '8')]\n",
      "[('name', 'Foyer S.A.'), ('nameC', 'Spain'), ('tot', '8')]\n",
      "[('name', 'Foyer S.A.'), ('nameC', 'France'), ('tot', '8')]\n",
      "[('name', 'Vinci'), ('nameC', 'France'), ('tot', '8')]\n",
      "[('name', 'Energetický a průmyslový holding'), ('nameC', 'Czech Republic'), ('tot', '8')]\n",
      "[('name', 'RELX Group'), ('nameC', 'United Kingdom'), ('tot', '8')]\n",
      "[('name', 'ArcelorMittal'), ('nameC', 'Luxembourg'), ('tot', '8')]\n",
      "[('name', 'NRJ Group'), ('nameC', 'Bulgaria'), ('tot', '7')]\n",
      "[('name', 'NRJ Group'), ('nameC', 'Austria'), ('tot', '7')]\n",
      "[('name', 'NRJ Group'), ('nameC', 'Germany'), ('tot', '7')]\n",
      "[('name', 'NRJ Group'), ('nameC', 'France'), ('tot', '7')]\n",
      "[('name', 'NRJ Group'), ('nameC', 'Cyprus'), ('tot', '7')]\n",
      "[('name', 'NRJ Group'), ('nameC', 'United Kingdom'), ('tot', '7')]\n",
      "[('name', 'Vivendi'), ('nameC', 'France'), ('tot', '7')]\n",
      "[('name', 'Anheuser-Busch InBev'), ('nameC', 'Belgium'), ('tot', '7')]\n",
      "[('name', 'BNP Paribas'), ('nameC', 'France'), ('tot', '7')]\n",
      "[('name', 'Unibail Rodamco Westfield'), ('nameC', 'France'), ('tot', '7')]\n",
      "[('name', 'NRJ Group'), ('nameC', 'Greece'), ('tot', '7')]\n",
      "[('name', 'Liberty Global'), ('nameC', 'United Kingdom'), ('tot', '7')]\n",
      "[('name', 'Phoenix Pharmahandel'), ('nameC', 'Germany'), ('tot', '7')]\n",
      "[('name', 'NRJ Group'), ('nameC', 'Belgium'), ('tot', '7')]\n",
      "[('name', 'Orange'), ('nameC', 'France'), ('tot', '6')]\n",
      "[('name', 'GMV Innovating Solutions'), ('nameC', 'Spain'), ('tot', '6')]\n"
     ]
    },
    {
     "data": {
      "text/plain": [
       "50"
      ]
     },
     "execution_count": 7,
     "metadata": {},
     "output_type": "execute_result"
    }
   ],
   "source": [
    "# I want to specify the fact that the ones that i want to be shown must have no parent\n",
    "queryString = \"\"\"\n",
    "\n",
    "    select  ?name ?nameC (count(distinct ?countries) as ?tot)\n",
    "    where {\n",
    "      ?x wdt:P31 wd:Q4830453 .\n",
    "      ?x wdt:P17 ?country .\n",
    "      ?country wdt:P463 wd:Q458 .\n",
    "      ?x wdt:P355*/wdt:P17|wdt:P1830*/wdt:P17 ?countries .\n",
    "      ?countries wdt:P463 wd:Q458 .\n",
    "      filter(?countries!=?country)\n",
    "      filter not exists { ?x wdt:P749 ?zzz}\n",
    "      ?x <http://schema.org/name> ?name .\n",
    "      ?country <http://schema.org/name> ?nameC .\n",
    "    } group by ?name ?nameC\n",
    "    order by desc (?tot)\n",
    "    limit 50\n",
    "\n",
    "\"\"\"\n",
    "# nice\n",
    "print(\"Results\")\n",
    "run_query(queryString)"
   ]
  },
  {
   "cell_type": "code",
   "execution_count": 69,
   "id": "9c351a1e-78b5-4d14-8bc2-c1a48b1eb536",
   "metadata": {},
   "outputs": [
    {
     "name": "stdout",
     "output_type": "stream",
     "text": [
      "Results\n",
      "[('name', 'Volkswagen Group'), ('nameC', 'Germany'), ('tot', '14')]\n",
      "[('name', 'Vodafone'), ('nameC', 'United Kingdom'), ('tot', '14')]\n",
      "[('name', 'Hannoversche Beteiligungsgesellschaft'), ('nameC', 'Germany'), ('tot', '14')]\n",
      "[('name', 'Porsche Automobil Holding SE'), ('nameC', 'Germany'), ('tot', '14')]\n",
      "[('name', 'Lycamobile'), ('nameC', 'United Kingdom'), ('tot', '12')]\n",
      "[('name', 'Siemens'), ('nameC', 'Germany'), ('tot', '11')]\n",
      "[('name', 'Nokia'), ('nameC', 'Finland'), ('tot', '11')]\n",
      "[('name', 'Deutsche Telekom'), ('nameC', 'Germany'), ('tot', '10')]\n",
      "[('name', 'Heineken'), ('nameC', 'Kingdom of the Netherlands'), ('tot', '10')]\n",
      "[('name', 'PPF Group'), ('nameC', 'Kingdom of the Netherlands'), ('tot', '9')]\n",
      "[('name', 'Foyer S.A.'), ('nameC', 'Luxembourg'), ('tot', '8')]\n",
      "[('name', 'RELX Group'), ('nameC', 'Kingdom of the Netherlands'), ('tot', '8')]\n",
      "[('name', 'Tyco International'), ('nameC', 'Ireland'), ('tot', '8')]\n",
      "[('name', 'LeasePlan Corporation'), ('nameC', 'Kingdom of the Netherlands'), ('tot', '8')]\n",
      "[('name', 'Vinci'), ('nameC', 'France'), ('tot', '8')]\n",
      "[('name', 'Energetický a průmyslový holding'), ('nameC', 'Czech Republic'), ('tot', '8')]\n",
      "[('name', 'RELX Group'), ('nameC', 'United Kingdom'), ('tot', '8')]\n",
      "[('name', 'Koninklijke Philips NV'), ('nameC', 'Kingdom of the Netherlands'), ('tot', '8')]\n",
      "[('name', 'ArcelorMittal'), ('nameC', 'Luxembourg'), ('tot', '8')]\n",
      "[('name', 'NRJ Group'), ('nameC', 'France'), ('tot', '7')]\n",
      "[('name', 'Vivendi'), ('nameC', 'France'), ('tot', '7')]\n",
      "[('name', 'Anheuser-Busch InBev'), ('nameC', 'Belgium'), ('tot', '7')]\n",
      "[('name', 'BNP Paribas'), ('nameC', 'France'), ('tot', '7')]\n",
      "[('name', 'Unibail Rodamco Westfield'), ('nameC', 'France'), ('tot', '7')]\n",
      "[('name', 'Liberty Global'), ('nameC', 'United Kingdom'), ('tot', '7')]\n",
      "[('name', 'Phoenix Pharmahandel'), ('nameC', 'Germany'), ('tot', '7')]\n",
      "[('name', 'Orange'), ('nameC', 'France'), ('tot', '6')]\n",
      "[('name', 'GMV Innovating Solutions'), ('nameC', 'Spain'), ('tot', '6')]\n",
      "[('name', 'EP Investment'), ('nameC', 'Luxembourg'), ('tot', '6')]\n",
      "[('name', 'BASF'), ('nameC', 'Germany'), ('tot', '6')]\n",
      "[('name', 'Embracer Group'), ('nameC', 'Sweden'), ('tot', '6')]\n",
      "[('name', 'Caisse des dépôts et consignations'), ('nameC', 'France'), ('tot', '6')]\n",
      "[('name', 'Bayer'), ('nameC', 'Germany'), ('tot', '6')]\n",
      "[('name', 'Medtronic plc'), ('nameC', 'Ireland'), ('tot', '6')]\n",
      "[('name', 'Guillemot Brothers'), ('nameC', 'United Kingdom'), ('tot', '6')]\n",
      "[('name', 'TotalEnergies'), ('nameC', 'France'), ('tot', '6')]\n",
      "[('name', 'hema'), ('nameC', 'Kingdom of the Netherlands'), ('tot', '6')]\n",
      "[('name', 'Assicurazioni Generali'), ('nameC', 'Italy'), ('tot', '6')]\n",
      "[('name', 'Euronext'), ('nameC', 'Kingdom of the Netherlands'), ('tot', '6')]\n",
      "[('name', 'Nordic Investment Bank'), ('nameC', 'Finland'), ('tot', '5')]\n",
      "[('name', 'hema'), ('nameC', 'Germany'), ('tot', '5')]\n",
      "[('name', 'Müller'), ('nameC', 'Austria'), ('tot', '5')]\n",
      "[('name', 'International Airlines Group'), ('nameC', 'United Kingdom'), ('tot', '5')]\n",
      "[('name', 'MOL Group'), ('nameC', 'Hungary'), ('tot', '5')]\n",
      "[('name', 'International Airlines Group'), ('nameC', 'Spain'), ('tot', '5')]\n",
      "[('name', 'E.ON SE'), ('nameC', 'Germany'), ('tot', '5')]\n",
      "[('name', 'WPP plc'), ('nameC', 'Ireland'), ('tot', '5')]\n",
      "[('name', 'Reichswerke Hermann Göring'), ('nameC', 'Germany'), ('tot', '5')]\n",
      "[('name', 'Lufthansa'), ('nameC', 'Germany'), ('tot', '5')]\n",
      "[('name', 'Daimler AG'), ('nameC', 'Germany'), ('tot', '5')]\n"
     ]
    },
    {
     "data": {
      "text/plain": [
       "50"
      ]
     },
     "execution_count": 69,
     "metadata": {},
     "output_type": "execute_result"
    }
   ],
   "source": [
    "# Now it works also with the countries but apparently P17 is not the right property. Checking back P159 might be what i need \n",
    "queryString = \"\"\"\n",
    "\n",
    "    select  ?name ?nameC (count(distinct ?countries) as ?tot)\n",
    "    where {\n",
    "      ?x wdt:P31 wd:Q4830453 .\n",
    "      ?x wdt:P159/wdt:P17 ?country .\n",
    "      ?country wdt:P463 wd:Q458 .\n",
    "      ?x wdt:P355*/wdt:P17|wdt:P1830*/wdt:P17 ?countries .\n",
    "      ?countries wdt:P463 wd:Q458 .\n",
    "      filter(?countries!=?country)\n",
    "      filter not exists { ?x wdt:P749 ?zzz}\n",
    "      ?x <http://schema.org/name> ?name .\n",
    "      ?country <http://schema.org/name> ?nameC .\n",
    "    } group by ?name ?nameC\n",
    "    order by desc (?tot)\n",
    "    limit 50\n",
    "\n",
    "\"\"\"\n",
    "# nice\n",
    "print(\"Results\")\n",
    "run_query(queryString)"
   ]
  },
  {
   "cell_type": "code",
   "execution_count": 75,
   "id": "7536ff8a-5ee7-4277-98f7-f1c1c2a0972f",
   "metadata": {},
   "outputs": [
    {
     "name": "stdout",
     "output_type": "stream",
     "text": [
      "Results\n",
      "[('max', '14'), ('nameC', 'United Kingdom')]\n",
      "[('max', '14'), ('nameC', 'Germany')]\n",
      "[('max', '11'), ('nameC', 'Finland')]\n",
      "[('max', '10'), ('nameC', 'Kingdom of the Netherlands')]\n",
      "[('max', '8'), ('nameC', 'Czech Republic')]\n",
      "[('max', '8'), ('nameC', 'France')]\n",
      "[('max', '8'), ('nameC', 'Luxembourg')]\n",
      "[('max', '8'), ('nameC', 'Ireland')]\n",
      "[('max', '7'), ('nameC', 'Belgium')]\n",
      "[('max', '6'), ('nameC', 'Spain')]\n",
      "[('max', '6'), ('nameC', 'Italy')]\n",
      "[('max', '6'), ('nameC', 'Sweden')]\n",
      "[('max', '5'), ('nameC', 'Hungary')]\n",
      "[('max', '5'), ('nameC', 'Austria')]\n",
      "[('max', '4'), ('nameC', 'Cyprus')]\n"
     ]
    },
    {
     "data": {
      "text/plain": [
       "15"
      ]
     },
     "execution_count": 75,
     "metadata": {},
     "output_type": "execute_result"
    }
   ],
   "source": [
    "# Group by states\n",
    "queryString = \"\"\"\n",
    "select (max(?tot) as ?max) ?nameC where{\n",
    "    select  ?name ?nameC (count(distinct ?countries) as ?tot)\n",
    "    where {\n",
    "      ?x wdt:P31 wd:Q4830453 .\n",
    "      ?x wdt:P159/wdt:P17 ?country .\n",
    "      ?country wdt:P463 wd:Q458 .\n",
    "      ?x wdt:P355*/wdt:P17|wdt:P1830*/wdt:P17 ?countries .\n",
    "      ?countries wdt:P463 wd:Q458 .\n",
    "      filter(?countries!=?country)\n",
    "      filter not exists { ?x wdt:P749 ?zzz}\n",
    "      ?x <http://schema.org/name> ?name .\n",
    "      ?country <http://schema.org/name> ?nameC .\n",
    "    } group by ?name ?nameC\n",
    "    order by desc (?tot)\n",
    "    limit 100\n",
    "} group by ?nameC \n",
    "order by desc (?max)\n",
    "\"\"\"\n",
    "# nice\n",
    "print(\"Results\")\n",
    "run_query(queryString)"
   ]
  },
  {
   "cell_type": "markdown",
   "id": "6bf17734-fee6-461c-8d1f-2c222a7b1bb2",
   "metadata": {},
   "source": [
    "Finally putting everything together"
   ]
  },
  {
   "cell_type": "code",
   "execution_count": 82,
   "id": "720204e5-3c8c-4fd3-93f8-430f81fd5921",
   "metadata": {},
   "outputs": [
    {
     "name": "stdout",
     "output_type": "stream",
     "text": [
      "Results\n",
      "[('max', '14'), ('callret-1', 'Vodafone'), ('nameC', 'United Kingdom')]\n",
      "[('max', '14'), ('callret-1', 'Volkswagen Group'), ('nameC', 'Germany')]\n",
      "[('max', '11'), ('callret-1', 'Nokia'), ('nameC', 'Finland')]\n",
      "[('max', '10'), ('callret-1', 'Heineken'), ('nameC', 'Kingdom of the Netherlands')]\n",
      "[('max', '8'), ('callret-1', 'Energetický a průmyslový holding'), ('nameC', 'Czech Republic')]\n",
      "[('max', '8'), ('callret-1', 'Tyco International'), ('nameC', 'Ireland')]\n",
      "[('max', '8'), ('callret-1', 'Foyer S.A.'), ('nameC', 'Luxembourg')]\n",
      "[('max', '8'), ('callret-1', 'Vinci'), ('nameC', 'France')]\n",
      "[('max', '7'), ('callret-1', 'Anheuser-Busch InBev'), ('nameC', 'Belgium')]\n",
      "[('max', '6'), ('callret-1', 'Embracer Group'), ('nameC', 'Sweden')]\n",
      "[('max', '6'), ('callret-1', 'GMV Innovating Solutions'), ('nameC', 'Spain')]\n",
      "[('max', '6'), ('callret-1', 'Assicurazioni Generali'), ('nameC', 'Italy')]\n",
      "[('max', '5'), ('callret-1', 'Müller'), ('nameC', 'Austria')]\n",
      "[('max', '5'), ('callret-1', 'MOL Group'), ('nameC', 'Hungary')]\n",
      "[('max', '4'), ('callret-1', 'Kukana Enterprises'), ('nameC', 'Cyprus')]\n",
      "[('max', '3'), ('callret-1', 'PKN Orlen'), ('nameC', 'Poland')]\n",
      "[('max', '3'), ('callret-1', 'JOJ Media House'), ('nameC', 'Slovakia')]\n",
      "[('max', '3'), ('callret-1', 'Priveq Funds'), ('nameC', 'Malta')]\n",
      "[('max', '2'), ('callret-1', 'Vilniaus Prekyba'), ('nameC', 'Lithuania')]\n",
      "[('max', '2'), ('callret-1', 'ANT1 Group'), ('nameC', 'Greece')]\n",
      "[('max', '2'), ('callret-1', 'Ørsted'), ('nameC', 'Denmark')]\n",
      "[('max', '2'), ('callret-1', 'Tilde'), ('nameC', 'Latvia')]\n",
      "[('max', '2'), ('callret-1', 'Tilde'), ('nameC', 'Estonia')]\n",
      "[('max', '1'), ('callret-1', 'Banco Finantia Sofinloc'), ('nameC', 'Portugal')]\n",
      "[('max', '1'), ('callret-1', 'NewFT'), ('nameC', 'Bulgaria')]\n",
      "[('max', '1'), ('callret-1', 'Agrokor'), ('nameC', 'Croatia')]\n",
      "[('max', '1'), ('callret-1', 'Krka'), ('nameC', 'Slovenia')]\n"
     ]
    },
    {
     "data": {
      "text/plain": [
       "27"
      ]
     },
     "execution_count": 82,
     "metadata": {},
     "output_type": "execute_result"
    }
   ],
   "source": [
    "# ANSWER to 5.3\n",
    "queryString = \"\"\"\n",
    "select (max(?tot) as ?max) sample(?name) ?nameC where{\n",
    "    {select  ?name ?nameC (count(distinct ?countries) as ?tot)\n",
    "    where {\n",
    "      ?x wdt:P31 wd:Q4830453 .\n",
    "      ?x wdt:P159/wdt:P17 ?country .\n",
    "      ?country wdt:P463 wd:Q458 .\n",
    "      ?x wdt:P355*/wdt:P17|wdt:P1830*/wdt:P17 ?countries .\n",
    "      ?countries wdt:P463 wd:Q458 .\n",
    "      filter(?countries!=?country)\n",
    "      filter not exists { ?x wdt:P749 ?zzz}\n",
    "      ?x <http://schema.org/name> ?name .\n",
    "      ?country <http://schema.org/name> ?nameC .\n",
    "    } group by ?name ?nameC\n",
    "    order by desc (?tot)\n",
    "}\n",
    "} group by ?nameC \n",
    "order by desc (?max)\n",
    "\"\"\"\n",
    "# nice\n",
    "print(\"Results\")\n",
    "run_query(queryString)"
   ]
  },
  {
   "cell_type": "markdown",
   "id": "84f884ba-65e9-47e1-9dcb-0d0ed29dcaa4",
   "metadata": {},
   "source": [
    "***\n",
    "\n",
    "# Task 5.4\n",
    "\n",
    "*What can we say about industry sectors in various countries?*\n",
    "\n",
    "Other than the things analyzed so far, I think that is interesting to analyze in what business are the majority of companies in a country"
   ]
  },
  {
   "cell_type": "code",
   "execution_count": 8,
   "id": "9a259d0c-89fb-41bb-b76c-33613d93c977",
   "metadata": {},
   "outputs": [
    {
     "name": "stdout",
     "output_type": "stream",
     "text": [
      "Results\n",
      "[('max', '478'), ('callret-1', 'Crop production'), ('nameC', 'United Kingdom')]\n",
      "[('max', '244'), ('callret-1', 'food and tobacco industry'), ('nameC', 'Germany')]\n",
      "[('max', '91'), ('callret-1', 'textile industry'), ('nameC', 'Belgium')]\n",
      "[('max', '88'), ('callret-1', 'Financial service activities, except insurance and pension funding'), ('nameC', 'France')]\n",
      "[('max', '48'), ('callret-1', 'automotive industry'), ('nameC', 'Italy')]\n",
      "[('max', '36'), ('callret-1', 'Crop production'), ('nameC', 'Kingdom of the Netherlands')]\n",
      "[('max', '28'), ('callret-1', 'retail'), ('nameC', 'Poland')]\n",
      "[('max', '27'), ('callret-1', 'Finance'), ('nameC', 'Czech Republic')]\n",
      "[('max', '27'), ('callret-1', 'financial services'), ('nameC', 'Spain')]\n",
      "[('max', '24'), ('callret-1', 'retail'), ('nameC', 'Ireland')]\n",
      "[('max', '21'), ('callret-1', 'retail'), ('nameC', 'Sweden')]\n",
      "[('max', '21'), ('callret-1', 'retail'), ('nameC', 'Denmark')]\n",
      "[('max', '15'), ('callret-1', 'Financial service activities, except insurance and pension funding'), ('nameC', 'Austria')]\n",
      "[('max', '15'), ('callret-1', 'retail'), ('nameC', 'Finland')]\n",
      "[('max', '11'), ('callret-1', 'retail'), ('nameC', 'Lithuania')]\n",
      "[('max', '10'), ('callret-1', 'financial services'), ('nameC', 'Cyprus')]\n",
      "[('max', '10'), ('callret-1', 'financial services'), ('nameC', 'Portugal')]\n",
      "[('max', '10'), ('callret-1', 'financial services'), ('nameC', 'Romania')]\n",
      "[('max', '9'), ('callret-1', 'financial services'), ('nameC', 'Greece')]\n",
      "[('max', '9'), ('callret-1', 'food industry'), ('nameC', 'Latvia')]\n",
      "[('max', '8'), ('callret-1', 'financial services'), ('nameC', 'Luxembourg')]\n",
      "[('max', '8'), ('callret-1', 'automotive industry'), ('nameC', 'Hungary')]\n",
      "[('max', '6'), ('callret-1', 'telecommunication'), ('nameC', 'Bulgaria')]\n",
      "[('max', '6'), ('callret-1', 'financial services'), ('nameC', 'Slovakia')]\n",
      "[('max', '4'), ('callret-1', 'food industry'), ('nameC', 'Croatia')]\n",
      "[('max', '4'), ('callret-1', 'petroleum industry'), ('nameC', 'Estonia')]\n",
      "[('max', '3'), ('callret-1', 'automotive industry'), ('nameC', 'Slovenia')]\n",
      "[('max', '2'), ('callret-1', 'sports betting'), ('nameC', 'Malta')]\n"
     ]
    },
    {
     "data": {
      "text/plain": [
       "28"
      ]
     },
     "execution_count": 8,
     "metadata": {},
     "output_type": "execute_result"
    }
   ],
   "source": [
    "# ANSWER to 7, Most varied industry in each state\n",
    "queryString = \"\"\"\n",
    "select (max(?tot) as ?max) sample(?name) ?nameC where{\n",
    "    {select  ?name ?nameC (count(distinct ?x) as ?tot)\n",
    "    where {\n",
    "      ?x wdt:P31 wd:Q4830453 .\n",
    "      ?x wdt:P159*/wdt:P17 ?country .\n",
    "      ?country wdt:P463 wd:Q458 .\n",
    "      ?x wdt:P355/wdt:P452|wdt:P1830*/wdt:P452 ?countries .\n",
    "      filter not exists { ?x wdt:P749 ?zzz}\n",
    "      ?countries <http://schema.org/name> ?name .\n",
    "      ?country <http://schema.org/name> ?nameC .\n",
    "    } group by ?name ?nameC\n",
    "    order by desc (?tot)\n",
    "}\n",
    "} group by ?nameC \n",
    "order by desc (?max)\n",
    "\"\"\"\n",
    "# nice\n",
    "print(\"Results\")\n",
    "run_query(queryString)"
   ]
  },
  {
   "cell_type": "markdown",
   "id": "0b672721-8fc3-4da0-9ab2-182b56d3cf4b",
   "metadata": {},
   "source": [
    "28 results and not 27 because it is still considers the UK. Before I had only 27 because Romania wasn't considered. This means that there are not independent Romanian companies that have presence in other states."
   ]
  }
 ],
 "metadata": {
  "kernelspec": {
   "display_name": "Python 3",
   "language": "python",
   "name": "python3"
  },
  "language_info": {
   "codemirror_mode": {
    "name": "ipython",
    "version": 3
   },
   "file_extension": ".py",
   "mimetype": "text/x-python",
   "name": "python",
   "nbconvert_exporter": "python",
   "pygments_lexer": "ipython3",
   "version": "3.7.10"
  }
 },
 "nbformat": 4,
 "nbformat_minor": 5
}
