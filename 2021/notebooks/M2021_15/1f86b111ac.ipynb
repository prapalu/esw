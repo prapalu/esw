{
 "cells": [
  {
   "cell_type": "markdown",
   "id": "7034c3bf-6eb0-4418-8687-7b9d2a501103",
   "metadata": {},
   "source": [
    "# General instructions\n",
    "\n",
    "The goal of the project is to materialize a set of **exploratory workloads** over a real-world, large-scale,  open-domain KG: [WikiData](https://www.wikidata.org/wiki/Wikidata:Main_Page)\n",
    "\n",
    "An exploratory workload  is composed by a set of queries, where each query is related to the information obtained previously.\n",
    "\n",
    "An exploratory workload starts with a usually vague, open ended question, and does not assume the person issuing the workload has a clear understanding of the data contained in the target database or its structure.\n",
    "\n",
    "Remeber that:\n",
    "\n",
    "1. All the queries must run in the python notebook\n",
    "2. You can use classes and properties only if you find them via a SPARQL query that must be present in the notebook\n",
    "3. You do not delete useless queries. Keep everything that is synthatically valid \n",
    "\n",
    "```\n",
    "?p <http://schema.org/name> ?name .\n",
    "```\n",
    "    \n",
    "is the BGP returning a human-readable name of a property or a class in Wikidata.\n",
    "    \n",
    "    "
   ]
  },
  {
   "cell_type": "code",
   "execution_count": 1,
   "id": "3605c9d5-5371-49a5-be8d-d66e8f417139",
   "metadata": {},
   "outputs": [],
   "source": [
    "## SETUP used later\n",
    "\n",
    "from SPARQLWrapper import SPARQLWrapper, JSON\n",
    "\n",
    "\n",
    "prefixString = \"\"\"\n",
    "##-1f86b111ac-##\n",
    "PREFIX wd: <http://www.wikidata.org/entity/> \n",
    "PREFIX wdt: <http://www.wikidata.org/prop/direct/> \n",
    "PREFIX sc: <http://schema.org/>\n",
    "\"\"\"\n",
    "\n",
    "# select and construct queries\n",
    "def run_query(queryString):\n",
    "    to_run = prefixString + \"\\n\" + queryString\n",
    "\n",
    "    sparql = SPARQLWrapper(\"http://a256-gc1-02.srv.aau.dk:5820/sparql\")\n",
    "    sparql.setTimeout(300)\n",
    "    sparql.setReturnFormat(JSON)\n",
    "    sparql.setQuery(to_run)\n",
    "\n",
    "    try :\n",
    "       results = sparql.query()\n",
    "       json_results = results.convert()\n",
    "       if len(json_results['results']['bindings'])==0:\n",
    "          print(\"Empty\")\n",
    "          return 0\n",
    "    \n",
    "       for bindings in json_results['results']['bindings']:\n",
    "          print( [ (var, value['value'])  for var, value in bindings.items() ] )\n",
    "\n",
    "       return len(json_results['results']['bindings'])\n",
    "\n",
    "    except Exception as e :\n",
    "        print(\"The operation failed\", e)\n",
    "    \n",
    "# ASk queries\n",
    "def run_ask_query(queryString):\n",
    "    to_run = prefixString + \"\\n\" + queryString\n",
    "\n",
    "    sparql = SPARQLWrapper(\"http://a256-gc1-02.srv.aau.dk:5820/sparql\")\n",
    "    sparql.setTimeout(300)\n",
    "    sparql.setReturnFormat(JSON)\n",
    "    sparql.setQuery(to_run)\n",
    "\n",
    "    try :\n",
    "        return sparql.query().convert()\n",
    "\n",
    "    except Exception as e :\n",
    "        print(\"The operation failed\", e)\n"
   ]
  },
  {
   "cell_type": "markdown",
   "id": "d477a59c-a68c-4c8f-9f97-8ca5294d7d27",
   "metadata": {},
   "source": [
    "# GEO Workflow Series (\"Place of Birth, Death, and Burial\") \n",
    "\n",
    "Consider the following exploratory information need:\n",
    "\n",
    "> You want to visit cities connected to famous writers and poets, and you are deciding wether to visit France or Germany"
   ]
  },
  {
   "cell_type": "markdown",
   "id": "4a45c0ba-f79e-441d-bec5-84401b09db70",
   "metadata": {},
   "source": [
    "## Useful URIs for the current workflow\n",
    "\n",
    "\n",
    "The following are given:\n",
    "\n",
    "| IRI           | Description   | Role      |\n",
    "| -----------   | -----------   |-----------|\n",
    "| `wdt:P1647`   | subproperty   | predicate |\n",
    "| `wdt:P31`     | instance of   | predicate |\n",
    "| `wdt:P279`    | subclass      | predicate |\n",
    "| `wdt:P106`    | occupation    | predicate |\n",
    "| `wdt:P27`     | citizenship   | predicate |\n",
    "| `wd:Q183`     | Germany       | node |\n",
    "| `wd:Q142`     | France        | node |\n",
    "| `wd:Q90`      | Paris         | node |\n",
    "| `wd:Q49757`   | Poet          | node |\n",
    "| `wd:Q36180`   | Writer        | node |\n",
    "| `wd:Q501`     | Charles Baudelaire  | node      |\n",
    "| `wd:Q272208`  | Montparnasse Cemetery       | node |\n",
    "\n",
    "\n",
    "Also consider\n",
    "\n",
    "```\n",
    "?p wdt:P27 wd:Q142  . \n",
    "?p wdt:P106 wd:Q36180  . \n",
    "```\n",
    "\n",
    "is the BGP to retrieve all **French writers**"
   ]
  },
  {
   "cell_type": "markdown",
   "id": "7af439fb-96e4-4dbb-a381-f19afab79f86",
   "metadata": {
    "tags": []
   },
   "source": [
    "## Workload Goals\n",
    "\n",
    "1. Identify the BGP that connect people to their place of birth or place, death, or burial\n",
    "\n",
    "2. Identify the BGP to obtain the country in which a place is located\n",
    "\n",
    "3. How many poets and writers  have a place of birth, death, or burial in Germany and France?\n",
    "\n",
    "4. Analyze cities across the two countries\n",
    " \n",
    "   4.1 Is there any poet for which the birth place and the place of burial are located in the same city either in Germany or France?\n",
    "   \n",
    "   4.2 Which cities host the place of birth of the larger number of poets or writers across the two countries?\n",
    "   \n",
    "   4.3 What are the top 3 cities in each country that you could visit? Based on what criteria?\n"
   ]
  },
  {
   "cell_type": "code",
   "execution_count": 2,
   "id": "24a853ab-830c-422c-afd3-e9e015b8b8ed",
   "metadata": {},
   "outputs": [],
   "source": [
    "# start your workflow here"
   ]
  },
  {
   "cell_type": "code",
   "execution_count": 3,
   "id": "ade01416-92e7-4ad7-b9a9-b8fb330750dc",
   "metadata": {},
   "outputs": [
    {
     "name": "stdout",
     "output_type": "stream",
     "text": [
      "Predicates\n",
      "[('callret-0', '14400')]\n"
     ]
    },
    {
     "data": {
      "text/plain": [
       "1"
      ]
     },
     "execution_count": 3,
     "metadata": {},
     "output_type": "execute_result"
    }
   ],
   "source": [
    "queryString = \"\"\"\n",
    "SELECT COUNT(*)\n",
    "WHERE { \n",
    "\n",
    "?p wdt:P27 wd:Q142  . \n",
    "?p wdt:P106 wd:Q36180  . \n",
    "} \n",
    "GROUP BY ?cult  ?arch\n",
    "\"\"\"\n",
    "\n",
    "print(\"Predicates\")\n",
    "run_query(queryString)"
   ]
  },
  {
   "cell_type": "markdown",
   "id": "a960f934-1dfe-4def-9c32-4ef474007b2c",
   "metadata": {},
   "source": [
    "***\n",
    "\n",
    "# Task 1\n",
    "\n",
    "*Identify the BGP that connect people to their place of birth or place, death, or burial*\n",
    "\n",
    "Find, one at the time, what is required by the task through regex"
   ]
  },
  {
   "cell_type": "code",
   "execution_count": 6,
   "id": "bb9e7e0c-b577-4edb-bc8a-7beee91bedee",
   "metadata": {},
   "outputs": [
    {
     "name": "stdout",
     "output_type": "stream",
     "text": [
      "Predicates\n",
      "[('x', 'http://www.wikidata.org/prop/direct/P119'), ('name', 'place of burial')]\n"
     ]
    },
    {
     "data": {
      "text/plain": [
       "1"
      ]
     },
     "execution_count": 6,
     "metadata": {},
     "output_type": "execute_result"
    }
   ],
   "source": [
    "# identify the place of burial property\n",
    "queryString = \"\"\"\n",
    "SELECT ?x ?name\n",
    "WHERE { \n",
    "\n",
    "wd:Q501 ?x wd:Q272208.\n",
    " ?x <http://schema.org/name> ?name .\n",
    " filter regex(?name, \"burial\")\n",
    "} \n",
    "\"\"\"\n",
    "\n",
    "print(\"Predicates\")\n",
    "run_query(queryString)"
   ]
  },
  {
   "cell_type": "code",
   "execution_count": 7,
   "id": "cbb4cf57-fb59-4f04-9aca-74fe3fdb1c15",
   "metadata": {},
   "outputs": [
    {
     "name": "stdout",
     "output_type": "stream",
     "text": [
      "Predicates\n",
      "[('x', 'http://www.wikidata.org/prop/direct/P19'), ('name', 'place of birth')]\n",
      "[('x', 'http://www.wikidata.org/prop/direct/P569'), ('name', 'date of birth')]\n"
     ]
    },
    {
     "data": {
      "text/plain": [
       "2"
      ]
     },
     "execution_count": 7,
     "metadata": {},
     "output_type": "execute_result"
    }
   ],
   "source": [
    "# identify DOB and DOD\n",
    "queryString = \"\"\"\n",
    "SELECT distinct ?x ?name\n",
    "WHERE { \n",
    "\n",
    "wd:Q501 ?x ?y.\n",
    " ?x <http://schema.org/name> ?name .\n",
    " filter regex(?name, \"birth\")\n",
    "} \n",
    "\"\"\"\n",
    "\n",
    "print(\"Predicates\")\n",
    "run_query(queryString)"
   ]
  },
  {
   "cell_type": "code",
   "execution_count": 2,
   "id": "bea2816e-2a35-47d3-94ad-faef419abd80",
   "metadata": {},
   "outputs": [
    {
     "name": "stdout",
     "output_type": "stream",
     "text": [
      "Predicates\n",
      "[('x', 'http://www.wikidata.org/prop/direct/P1196'), ('name', 'manner of death')]\n",
      "[('x', 'http://www.wikidata.org/prop/direct/P20'), ('name', 'place of death')]\n",
      "[('x', 'http://www.wikidata.org/prop/direct/P509'), ('name', 'cause of death')]\n",
      "[('x', 'http://www.wikidata.org/prop/direct/P570'), ('name', 'date of death')]\n"
     ]
    },
    {
     "data": {
      "text/plain": [
       "4"
      ]
     },
     "execution_count": 2,
     "metadata": {},
     "output_type": "execute_result"
    }
   ],
   "source": [
    "# identify DOB and DOD\n",
    "queryString = \"\"\"\n",
    "SELECT distinct ?x ?name\n",
    "WHERE { \n",
    "\n",
    "wd:Q501 ?x ?y.\n",
    " ?x <http://schema.org/name> ?name .\n",
    " filter regex(?name, \"death\")\n",
    "} \n",
    "\"\"\"\n",
    "\n",
    "print(\"Predicates\")\n",
    "run_query(queryString)"
   ]
  },
  {
   "cell_type": "markdown",
   "id": "bcc9a994-b1a6-4fa2-8d74-ac786113c335",
   "metadata": {},
   "source": [
    "***\n",
    "\n",
    "# Task 2\n",
    "\n",
    "*Identify the BGP to obtain the country in which a place is located*\n",
    "\n",
    "Using the nodes provided in the introduction."
   ]
  },
  {
   "cell_type": "code",
   "execution_count": 11,
   "id": "361cd52f-e05f-4e5d-95da-4cc610525f91",
   "metadata": {},
   "outputs": [
    {
     "name": "stdout",
     "output_type": "stream",
     "text": [
      "Predicates\n",
      "[('x', 'http://www.wikidata.org/prop/direct/P17'), ('name', 'country')]\n",
      "[('x', 'http://www.wikidata.org/prop/direct/P495'), ('name', 'country of origin')]\n"
     ]
    },
    {
     "data": {
      "text/plain": [
       "2"
      ]
     },
     "execution_count": 11,
     "metadata": {},
     "output_type": "execute_result"
    }
   ],
   "source": [
    "# ANSWER to 2) identify the property that identify the country where a place is located\n",
    "queryString = \"\"\"\n",
    "SELECT distinct ?x ?name\n",
    "WHERE { \n",
    " wd:Q272208 ?x wd:Q142 .\n",
    " ?x <http://schema.org/name> ?name .\n",
    "} \n",
    "\"\"\"\n",
    "\n",
    "print(\"Predicates\")\n",
    "run_query(queryString)"
   ]
  },
  {
   "cell_type": "markdown",
   "id": "997a59c4-9897-4d22-a644-e811665d6540",
   "metadata": {},
   "source": [
    "***\n",
    "\n",
    "# Task 3\n",
    "\n",
    "*How many poets and writers have a place of birth, death, or burial in Germany and France?*\n",
    "\n",
    "We use what we gathered from the previous query"
   ]
  },
  {
   "cell_type": "code",
   "execution_count": 12,
   "id": "8ec1d568-82c0-4784-98e0-8d55ebe642b2",
   "metadata": {},
   "outputs": [
    {
     "name": "stdout",
     "output_type": "stream",
     "text": [
      "Predicates\n",
      "[('xx', '14014'), ('name', 'France')]\n",
      "[('xx', '19862'), ('name', 'Germany')]\n"
     ]
    },
    {
     "data": {
      "text/plain": [
       "2"
      ]
     },
     "execution_count": 12,
     "metadata": {},
     "output_type": "execute_result"
    }
   ],
   "source": [
    "# ANSWER to 3) How many poets and writers have a place of birth, death, or burial in Germany and France?\n",
    "queryString = \"\"\"\n",
    "SELECT (count(distinct ?x)as ?xx) ?name\n",
    "WHERE { \n",
    "  ?x wdt:P106 ?y.\n",
    "  ?x wdt:P27 ?country .\n",
    "  ?x wdt:P19|wdt:P20|wdt:P119 ?z .\n",
    "   ?country <http://schema.org/name> ?name .\n",
    "  filter(?country=wd:Q183 || ?country=wd:Q142)\n",
    "  filter(?y=wd:Q36180 || ?y=wd:Q49757)\n",
    "} group by ?name\n",
    "\"\"\"\n",
    "\n",
    "print(\"Predicates\")\n",
    "run_query(queryString)"
   ]
  },
  {
   "cell_type": "markdown",
   "id": "de3dca00-9e70-4f10-9de7-f2cc6a7a26e4",
   "metadata": {},
   "source": [
    "***\n",
    "\n",
    "# Task 4.1\n",
    "\n",
    "*Is there any poet for which the birth place and the place of burial are located in the same city either in Germany or France?*\n",
    "\n",
    "First I want to check if the property about the place of birth returns a city, at least for Baudelaire or in general some people. "
   ]
  },
  {
   "cell_type": "code",
   "execution_count": 14,
   "id": "e4bf8865-11af-4769-ae55-3e5b50bfbdfc",
   "metadata": {},
   "outputs": [
    {
     "name": "stdout",
     "output_type": "stream",
     "text": [
      "Predicates\n",
      "[('city', 'http://www.wikidata.org/entity/Q90'), ('name', 'Paris')]\n"
     ]
    },
    {
     "data": {
      "text/plain": [
       "1"
      ]
     },
     "execution_count": 14,
     "metadata": {},
     "output_type": "execute_result"
    }
   ],
   "source": [
    "# Is returned a city by the property place of birth?\n",
    "queryString = \"\"\"\n",
    "SELECT ?city ?name\n",
    "WHERE { \n",
    "  wd:Q501 wdt:P19 ?city .\n",
    "   ?city <http://schema.org/name> ?name .\n",
    "} \n",
    "\"\"\"\n",
    "\n",
    "print(\"Predicates\")\n",
    "run_query(queryString)"
   ]
  },
  {
   "cell_type": "code",
   "execution_count": 2,
   "id": "787f1614-1596-4b33-96db-ea887530d1a2",
   "metadata": {},
   "outputs": [
    {
     "name": "stdout",
     "output_type": "stream",
     "text": [
      "Predicates\n"
     ]
    },
    {
     "data": {
      "text/plain": [
       "{'head': {'link': []}, 'boolean': True}"
      ]
     },
     "execution_count": 2,
     "metadata": {},
     "output_type": "execute_result"
    }
   ],
   "source": [
    "# ANSWER to 4) \n",
    "queryString = \"\"\"\n",
    "ASK WHERE{\n",
    "SELECT ?p \n",
    "WHERE {\n",
    "  ?p wdt:P19 ?city .\n",
    "  ?p wdt:P119 ?city .\n",
    "  ?p wdt:P106 wd:Q49757.\n",
    "  ?p wdt:P27 ?country .\n",
    "  filter(?country=wd:Q183 || ?country=wd:Q142)\n",
    "\n",
    "  }\n",
    "}\n",
    "\n",
    "\"\"\"\n",
    "\n",
    "print(\"Predicates\")\n",
    "run_ask_query(queryString)"
   ]
  },
  {
   "cell_type": "markdown",
   "id": "88fe0db6-da3d-4a18-8368-23a59b1299e3",
   "metadata": {},
   "source": [
    "***\n",
    "\n",
    "# Task 4.2\n",
    "\n",
    "*Which cities host the place of birth of the larger number of poets or writers across the two countries?*\n",
    "\n"
   ]
  },
  {
   "cell_type": "code",
   "execution_count": 26,
   "id": "be1b5427-0172-4905-9512-69e3c7ba5f75",
   "metadata": {},
   "outputs": [
    {
     "name": "stdout",
     "output_type": "stream",
     "text": [
      "Predicates\n",
      "[('xx', '2260'), ('name', 'Paris')]\n",
      "[('xx', '1243'), ('name', 'Berlin')]\n",
      "[('xx', '594'), ('name', 'Hamburg')]\n",
      "[('xx', '540'), ('name', 'Munich')]\n",
      "[('xx', '321'), ('name', 'Cologne')]\n",
      "[('xx', '318'), ('name', 'Leipzig')]\n",
      "[('xx', '285'), ('name', 'Frankfurt am Main')]\n",
      "[('xx', '260'), ('name', 'Stuttgart')]\n",
      "[('xx', '241'), ('name', 'Lyon')]\n",
      "[('xx', '237'), ('name', 'Marseille')]\n"
     ]
    },
    {
     "data": {
      "text/plain": [
       "10"
      ]
     },
     "execution_count": 26,
     "metadata": {},
     "output_type": "execute_result"
    }
   ],
   "source": [
    "# ANSWER to 5) \n",
    "queryString = \"\"\"\n",
    "SELECT (count(distinct ?x)as ?xx) ?name\n",
    "WHERE { \n",
    "  ?x wdt:P106 ?y.\n",
    "  ?x wdt:P27 ?country .\n",
    "  ?x wdt:P19 ?city .\n",
    "  filter(?country=wd:Q183 || ?country=wd:Q142)\n",
    "  filter(?y=wd:Q36180 || ?y=wd:Q49757)\n",
    " ?city <http://schema.org/name> ?name .\n",
    "} group by ?name\n",
    "order by desc (?xx)\n",
    "limit 10\n",
    "\"\"\"\n",
    "\n",
    "print(\"Predicates\")\n",
    "run_query(queryString)"
   ]
  },
  {
   "cell_type": "markdown",
   "id": "8cf39069-8e4b-4085-afb3-8f72346422aa",
   "metadata": {},
   "source": [
    "# Random exploration \n",
    "\n",
    "I realized that in the given nodes is given a cemetery. The problem is that until now I assumed that the \"place of burial\" would have been a city, but it probably isn't. So I want to check if the place can be connected to the city."
   ]
  },
  {
   "cell_type": "code",
   "execution_count": 3,
   "id": "5db914f1-7317-489e-ae72-0d744ce004bb",
   "metadata": {},
   "outputs": [
    {
     "name": "stdout",
     "output_type": "stream",
     "text": [
      "Predicates\n",
      "Empty\n"
     ]
    },
    {
     "data": {
      "text/plain": [
       "0"
      ]
     },
     "execution_count": 3,
     "metadata": {},
     "output_type": "execute_result"
    }
   ],
   "source": [
    "# START EXPLORATION: Even thought the cemetry is in Paris, is not directly linked to it \n",
    "queryString = \"\"\"\n",
    "SELECT ?x\n",
    "WHERE { \n",
    "  wd:Q272208 ?x wd:Q90\n",
    "  \n",
    "} \n",
    "\"\"\"\n",
    "\n",
    "print(\"Predicates\")\n",
    "run_query(queryString)"
   ]
  },
  {
   "cell_type": "code",
   "execution_count": 5,
   "id": "4e1e4229-6e98-4ae2-9893-33ae052efd69",
   "metadata": {},
   "outputs": [
    {
     "name": "stdout",
     "output_type": "stream",
     "text": [
      "Predicates\n",
      "[('x', 'http://www.wikidata.org/prop/direct/P131'), ('name', 'located in the administrative territorial entity')]\n",
      "[('x', 'http://www.wikidata.org/prop/direct/P1329'), ('name', 'phone number')]\n",
      "[('x', 'http://www.wikidata.org/prop/direct/P1566'), ('name', 'GeoNames ID')]\n",
      "[('x', 'http://www.wikidata.org/prop/direct/P17'), ('name', 'country')]\n",
      "[('x', 'http://www.wikidata.org/prop/direct/P1766'), ('name', 'place name sign')]\n",
      "[('x', 'http://www.wikidata.org/prop/direct/P1791'), ('name', 'category of people buried here')]\n",
      "[('x', 'http://www.wikidata.org/prop/direct/P18'), ('name', 'image')]\n",
      "[('x', 'http://www.wikidata.org/prop/direct/P2025'), ('name', 'Find A Grave cemetery ID')]\n",
      "[('x', 'http://www.wikidata.org/prop/direct/P2046'), ('name', 'area')]\n",
      "[('x', 'http://www.wikidata.org/prop/direct/P281'), ('name', 'postal code')]\n",
      "[('x', 'http://www.wikidata.org/prop/direct/P31'), ('name', 'instance of')]\n",
      "[('x', 'http://www.wikidata.org/prop/direct/P3182'), ('name', 'FANTOIR code')]\n",
      "[('x', 'http://www.wikidata.org/prop/direct/P373'), ('name', 'Commons category')]\n",
      "[('x', 'http://www.wikidata.org/prop/direct/P495'), ('name', 'country of origin')]\n",
      "[('x', 'http://www.wikidata.org/prop/direct/P527'), ('name', 'has part')]\n",
      "[('x', 'http://www.wikidata.org/prop/direct/P571'), ('name', 'inception')]\n",
      "[('x', 'http://www.wikidata.org/prop/direct/P646'), ('name', 'Freebase ID')]\n",
      "[('x', 'http://www.wikidata.org/prop/direct/P669'), ('name', 'located on street')]\n",
      "[('x', 'http://www.wikidata.org/prop/direct/P7772'), ('name', 'Atlas Obscura identifier')]\n",
      "[('x', 'http://www.wikidata.org/prop/direct/P7818'), ('name', 'French Vikidia ID')]\n",
      "[('x', 'http://www.wikidata.org/prop/direct/P856'), ('name', 'official website')]\n",
      "[('x', 'http://www.wikidata.org/prop/direct/P910'), ('name', \"topic's main category\")]\n",
      "[('x', 'http://www.wikidata.org/prop/direct/P935'), ('name', 'Commons gallery')]\n",
      "[('x', 'http://www.wikidata.org/prop/direct/P3032'), ('name', 'adjacent building')]\n",
      "[('x', 'http://www.wikidata.org/prop/direct/P2351'), ('name', 'number of graves')]\n",
      "[('x', 'http://www.wikidata.org/prop/direct/P8337'), ('name', 'Cemeteries of France ID')]\n",
      "[('x', 'http://www.wikidata.org/prop/direct/P9189'), ('name', 'Sauvons nos tombes cemetery ID')]\n"
     ]
    },
    {
     "data": {
      "text/plain": [
       "27"
      ]
     },
     "execution_count": 5,
     "metadata": {},
     "output_type": "execute_result"
    }
   ],
   "source": [
    "queryString = \"\"\"\n",
    "SELECT distinct ?x ?name\n",
    "WHERE { \n",
    "  wd:Q272208 ?x ?y .\n",
    "  ?x <http://schema.org/name> ?name .\n",
    "} \n",
    "\"\"\"\n",
    "\n",
    "print(\"Predicates\")\n",
    "run_query(queryString)"
   ]
  },
  {
   "cell_type": "code",
   "execution_count": 9,
   "id": "999718c0-01fe-46fb-87e9-027ab216532b",
   "metadata": {},
   "outputs": [
    {
     "name": "stdout",
     "output_type": "stream",
     "text": [
      "Predicates\n",
      "[('name', 'located in the administrative territorial entity'), ('x', 'http://www.wikidata.org/prop/direct/P131')]\n",
      "[('name', 'located on street'), ('x', 'http://www.wikidata.org/prop/direct/P669')]\n"
     ]
    },
    {
     "data": {
      "text/plain": [
       "2"
      ]
     },
     "execution_count": 9,
     "metadata": {},
     "output_type": "execute_result"
    }
   ],
   "source": [
    "# trying to match for location or located\n",
    "queryString = \"\"\"\n",
    "SELECT ?name ?x\n",
    "WHERE { \n",
    "  wd:Q272208 ?x ?y .\n",
    "  ?x <http://schema.org/name> ?name .\n",
    "  filter regex(?name, \"loca\")\n",
    "  \n",
    "} \n",
    "\"\"\"\n",
    "print(\"Predicates\")\n",
    "run_query(queryString)"
   ]
  },
  {
   "cell_type": "code",
   "execution_count": 20,
   "id": "ac4a8337-4cbd-4b4a-ac44-21167ff131b0",
   "metadata": {},
   "outputs": [
    {
     "name": "stdout",
     "output_type": "stream",
     "text": [
      "Predicates\n",
      "[('name', '14th arrondissement of Paris'), ('p', 'http://www.wikidata.org/entity/Q187153')]\n"
     ]
    },
    {
     "data": {
      "text/plain": [
       "1"
      ]
     },
     "execution_count": 20,
     "metadata": {},
     "output_type": "execute_result"
    }
   ],
   "source": [
    "# Following P131\n",
    "queryString = \"\"\"\n",
    "SELECT ?name ?p\n",
    "WHERE { \n",
    "  wd:Q272208 wdt:P131 ?p .\n",
    "   ?p <http://schema.org/name> ?name .\n",
    "  \n",
    "} \n",
    "\"\"\"\n",
    "print(\"Predicates\")\n",
    "\n",
    "run_query(queryString)"
   ]
  },
  {
   "cell_type": "code",
   "execution_count": 13,
   "id": "a713d48b-ebbe-403c-9029-3f18679540de",
   "metadata": {},
   "outputs": [
    {
     "name": "stdout",
     "output_type": "stream",
     "text": [
      "Predicates\n",
      "[('name', 'located in the administrative territorial entity'), ('p', 'http://www.wikidata.org/prop/direct/P131')]\n"
     ]
    },
    {
     "data": {
      "text/plain": [
       "1"
      ]
     },
     "execution_count": 13,
     "metadata": {},
     "output_type": "execute_result"
    }
   ],
   "source": [
    "# is the administrative territorial entity related to the city and by what\n",
    "queryString = \"\"\"\n",
    "SELECT ?name ?p\n",
    "WHERE { \n",
    "  wd:Q187153 ?p wd:Q90 .\n",
    "   ?p <http://schema.org/name> ?name .\n",
    "} \n",
    "\"\"\"\n",
    "print(\"Predicates\")\n",
    "run_query(queryString)"
   ]
  },
  {
   "cell_type": "code",
   "execution_count": 17,
   "id": "bbfcfdd7-c71e-42d2-87d1-4b18833a4748",
   "metadata": {},
   "outputs": [
    {
     "name": "stdout",
     "output_type": "stream",
     "text": [
      "Predicates\n",
      "[('x', 'http://www.wikidata.org/prop/direct/P1376'), ('name', 'capital of')]\n",
      "[('x', 'http://www.wikidata.org/prop/direct/P17'), ('name', 'country')]\n"
     ]
    },
    {
     "data": {
      "text/plain": [
       "2"
      ]
     },
     "execution_count": 17,
     "metadata": {},
     "output_type": "execute_result"
    }
   ],
   "source": [
    "# Find by what a city is related to its country\n",
    "queryString = \"\"\"\n",
    "SELECT ?x ?name\n",
    "WHERE { \n",
    "  wd:Q90 ?x wd:Q142 .\n",
    "   ?x <http://schema.org/name> ?name .\n",
    "} \n",
    "\"\"\"\n",
    "print(\"Predicates\")\n",
    "run_query(queryString)"
   ]
  },
  {
   "cell_type": "code",
   "execution_count": 24,
   "id": "e55a8247-ee3e-4ba1-9563-eadec5f09d8d",
   "metadata": {},
   "outputs": [
    {
     "name": "stdout",
     "output_type": "stream",
     "text": [
      "Predicates\n",
      "[('x', 'http://www.wikidata.org/prop/direct/P131'), ('name', 'located in the administrative territorial entity')]\n",
      "[('x', 'http://www.wikidata.org/prop/direct/P1329'), ('name', 'phone number')]\n",
      "[('x', 'http://www.wikidata.org/prop/direct/P1566'), ('name', 'GeoNames ID')]\n",
      "[('x', 'http://www.wikidata.org/prop/direct/P17'), ('name', 'country')]\n",
      "[('x', 'http://www.wikidata.org/prop/direct/P1766'), ('name', 'place name sign')]\n",
      "[('x', 'http://www.wikidata.org/prop/direct/P1791'), ('name', 'category of people buried here')]\n",
      "[('x', 'http://www.wikidata.org/prop/direct/P18'), ('name', 'image')]\n",
      "[('x', 'http://www.wikidata.org/prop/direct/P2025'), ('name', 'Find A Grave cemetery ID')]\n",
      "[('x', 'http://www.wikidata.org/prop/direct/P2046'), ('name', 'area')]\n",
      "[('x', 'http://www.wikidata.org/prop/direct/P281'), ('name', 'postal code')]\n",
      "[('x', 'http://www.wikidata.org/prop/direct/P31'), ('name', 'instance of')]\n",
      "[('x', 'http://www.wikidata.org/prop/direct/P3182'), ('name', 'FANTOIR code')]\n",
      "[('x', 'http://www.wikidata.org/prop/direct/P373'), ('name', 'Commons category')]\n",
      "[('x', 'http://www.wikidata.org/prop/direct/P495'), ('name', 'country of origin')]\n",
      "[('x', 'http://www.wikidata.org/prop/direct/P527'), ('name', 'has part')]\n",
      "[('x', 'http://www.wikidata.org/prop/direct/P571'), ('name', 'inception')]\n",
      "[('x', 'http://www.wikidata.org/prop/direct/P646'), ('name', 'Freebase ID')]\n",
      "[('x', 'http://www.wikidata.org/prop/direct/P669'), ('name', 'located on street')]\n",
      "[('x', 'http://www.wikidata.org/prop/direct/P7772'), ('name', 'Atlas Obscura identifier')]\n",
      "[('x', 'http://www.wikidata.org/prop/direct/P7818'), ('name', 'French Vikidia ID')]\n",
      "[('x', 'http://www.wikidata.org/prop/direct/P856'), ('name', 'official website')]\n",
      "[('x', 'http://www.wikidata.org/prop/direct/P910'), ('name', \"topic's main category\")]\n",
      "[('x', 'http://www.wikidata.org/prop/direct/P935'), ('name', 'Commons gallery')]\n",
      "[('x', 'http://www.wikidata.org/prop/direct/P3032'), ('name', 'adjacent building')]\n",
      "[('x', 'http://www.wikidata.org/prop/direct/P2351'), ('name', 'number of graves')]\n",
      "[('x', 'http://www.wikidata.org/prop/direct/P8337'), ('name', 'Cemeteries of France ID')]\n",
      "[('x', 'http://www.wikidata.org/prop/direct/P9189'), ('name', 'Sauvons nos tombes cemetery ID')]\n"
     ]
    },
    {
     "data": {
      "text/plain": [
       "27"
      ]
     },
     "execution_count": 24,
     "metadata": {},
     "output_type": "execute_result"
    }
   ],
   "source": [
    "# Find the cemetery node\n",
    "queryString = \"\"\"\n",
    "SELECT distinct ?x ?name\n",
    "WHERE { \n",
    "  wd:Q272208 ?x ?z .\n",
    "   ?x <http://schema.org/name> ?name .\n",
    "} \n",
    "\"\"\"\n",
    "print(\"Predicates\")\n",
    "run_query(queryString)"
   ]
  },
  {
   "cell_type": "markdown",
   "id": "b3602eee-c709-48b8-bb1e-2f915cd51de9",
   "metadata": {},
   "source": [
    "So basically the cemetery is not directly in Paris but is in an administrative location that is located in an administrative location that is located in Paris. This is a problem because maybe in other countries or small city \"place of burial\" can be:\n",
    "1) directly linked to a city;\n",
    "2) Indirectly linked to a city but through another path."
   ]
  },
  {
   "cell_type": "code",
   "execution_count": 6,
   "id": "430c6977-9bea-4f3c-a17e-e79c17b0bf7b",
   "metadata": {},
   "outputs": [
    {
     "name": "stdout",
     "output_type": "stream",
     "text": [
      "Predicates\n",
      "[('x', 'http://www.wikidata.org/entity/Q2972684'), ('name', 'Parisian cemetery')]\n"
     ]
    },
    {
     "data": {
      "text/plain": [
       "1"
      ]
     },
     "execution_count": 6,
     "metadata": {},
     "output_type": "execute_result"
    }
   ],
   "source": [
    "# Find the cemetery node\n",
    "queryString = \"\"\"\n",
    "SELECT distinct ?x ?name\n",
    "WHERE { \n",
    "  wd:Q272208 wdt:P31|wdt:P279 ?x .\n",
    "   ?x <http://schema.org/name> ?name .\n",
    "} \n",
    "\"\"\"\n",
    "print(\"Predicates\")\n",
    "run_query(queryString)"
   ]
  },
  {
   "cell_type": "code",
   "execution_count": 5,
   "id": "77b7745a-d627-4bc1-b2d3-972b541b3b6d",
   "metadata": {},
   "outputs": [
    {
     "name": "stdout",
     "output_type": "stream",
     "text": [
      "Predicates\n",
      "[('x', 'http://www.wikidata.org/entity/Q39614'), ('name', 'cemetery')]\n"
     ]
    },
    {
     "data": {
      "text/plain": [
       "1"
      ]
     },
     "execution_count": 5,
     "metadata": {},
     "output_type": "execute_result"
    }
   ],
   "source": [
    "# Find if is instance of something a little bit more general\n",
    "queryString = \"\"\"\n",
    "SELECT distinct ?x ?name\n",
    "WHERE { \n",
    "    wd:Q2972684 wdt:P31|wdt:P279 ?x .\n",
    "   ?x <http://schema.org/name> ?name .\n",
    "} \n",
    "\"\"\"\n",
    "print(\"Predicates\")\n",
    "run_query(queryString)"
   ]
  },
  {
   "cell_type": "code",
   "execution_count": 7,
   "id": "52f4eae1-41ac-4c93-8274-89fe3965a2e6",
   "metadata": {},
   "outputs": [
    {
     "name": "stdout",
     "output_type": "stream",
     "text": [
      "Predicates\n",
      "[('x', 'http://www.wikidata.org/entity/Q13637728'), ('name', 'Imprisoned Graves')]\n",
      "[('x', 'http://www.wikidata.org/entity/Q19879396'), ('name', 'St Kilda Cemetery')]\n",
      "[('x', 'http://www.wikidata.org/entity/Q15726482'), ('name', 'Alter Friedhof (Karlsruhe)')]\n",
      "[('x', 'http://www.wikidata.org/entity/Q15730201'), ('name', 'Jüdischer Friedhof in Neumarkt in der Oberpfalz')]\n",
      "[('x', 'http://www.wikidata.org/entity/Q15916295'), ('name', \"St. Raphael's Catholic Cemetery\")]\n",
      "[('x', 'http://www.wikidata.org/entity/Q15918892'), ('name', \"Tianyi's Tomb\")]\n",
      "[('x', 'http://www.wikidata.org/entity/Q15929006'), ('name', 'Tomb of Ge Yunfei')]\n",
      "[('x', 'http://www.wikidata.org/entity/Q23930654'), ('name', 'Friedhof Kessenich')]\n",
      "[('x', 'http://www.wikidata.org/entity/Q98484105'), ('name', 'Friedhof')]\n",
      "[('x', 'http://www.wikidata.org/entity/Q107404053'), ('name', 'Right Bank Cemetery, Saint-Dié-des-Vosges')]\n",
      "[('x', 'http://www.wikidata.org/entity/Q16237853'), ('name', 'Lawnview Memorial Park')]\n",
      "[('x', 'http://www.wikidata.org/entity/Q16912038'), ('name', 'Oak Grove Cemetery')]\n",
      "[('x', 'http://www.wikidata.org/entity/Q17465025'), ('name', 'Plain Dealing Cemetery')]\n",
      "[('x', 'http://www.wikidata.org/entity/Q3354969'), ('name', 'Neuvilly Communal Cemetery')]\n",
      "[('x', 'http://www.wikidata.org/entity/Q4951528'), ('name', 'Box Hill Cemetery')]\n",
      "[('x', 'http://www.wikidata.org/entity/Q514834'), ('name', 'Valley Cemetery')]\n",
      "[('x', 'http://www.wikidata.org/entity/Q51548106'), ('name', 'Olivewood Cemetery')]\n",
      "[('x', 'http://www.wikidata.org/entity/Q5430637'), ('name', 'Fairmount Cemetery')]\n",
      "[('x', 'http://www.wikidata.org/entity/Q5595232'), ('name', 'Grand View Burial Park, Hannibal')]\n",
      "[('x', 'http://www.wikidata.org/entity/Q59105939'), ('name', 'Søndre Kirkegård')]\n",
      "[('x', 'http://www.wikidata.org/entity/Q7984046'), ('name', 'Wesleyan Cemetery')]\n",
      "[('x', 'http://www.wikidata.org/entity/Q86471724'), ('name', 'Canton City Cemetery')]\n",
      "[('x', 'http://www.wikidata.org/entity/Q60709525'), ('name', 'cemetery Saint-Donatien')]\n",
      "[('x', 'http://www.wikidata.org/entity/Q17015726'), ('name', 'Jiuyuangang')]\n",
      "[('x', 'http://www.wikidata.org/entity/Q17017067'), ('name', 'Samariang Muslim Cemetery')]\n",
      "[('x', 'http://www.wikidata.org/entity/Q17031308'), ('name', 'Scotland Cemetery')]\n",
      "[('x', 'http://www.wikidata.org/entity/Q17183838'), ('name', 'Pine Island Cemetery')]\n",
      "[('x', 'http://www.wikidata.org/entity/Q62050254'), ('name', 'Riverside Cemetery')]\n",
      "[('x', 'http://www.wikidata.org/entity/Q17183245'), ('name', 'La Belle Cemetery')]\n",
      "[('x', 'http://www.wikidata.org/entity/Q17194563'), ('name', 'Ekeberg kapell')]\n",
      "[('x', 'http://www.wikidata.org/entity/Q17194837'), ('name', 'Lie kirkegård')]\n",
      "[('x', 'http://www.wikidata.org/entity/Q17194901'), ('name', 'Moss krematorium')]\n",
      "[('x', 'http://www.wikidata.org/entity/Q4220879'), ('name', 'Kinoveevskoe cemetery')]\n",
      "[('x', 'http://www.wikidata.org/entity/Q83375997'), ('name', 'Cemetery of Vanves')]\n",
      "[('x', 'http://www.wikidata.org/entity/Q17437147'), ('name', 'Begraafplaats Kerkveld')]\n",
      "[('x', 'http://www.wikidata.org/entity/Q1943852'), ('name', 'Begraafplaats Soestbergen')]\n",
      "[('x', 'http://www.wikidata.org/entity/Q2782701'), ('name', 'Begraafplaats Sint Barbara')]\n",
      "[('x', 'http://www.wikidata.org/entity/Q4507890'), ('name', 'Cemetery Oud-Zuilen')]\n",
      "[('x', 'http://www.wikidata.org/entity/Q17592454'), ('name', 'Begraafplaats Eikenboomgaard, Oss')]\n",
      "[('x', 'http://www.wikidata.org/entity/Q17597185'), ('name', 'Cementiri de Premià de Mar')]\n",
      "[('x', 'http://www.wikidata.org/entity/Q17597196'), ('name', 'Cementiri de Sants')]\n",
      "[('x', 'http://www.wikidata.org/entity/Q17611938'), ('name', 'Joodse Begraafplaats')]\n",
      "[('x', 'http://www.wikidata.org/entity/Q18771593'), ('name', 'Begraafplaats Megen')]\n",
      "[('x', 'http://www.wikidata.org/entity/Q18773725'), ('name', 'Begraafplaats Orthen')]\n",
      "[('x', 'http://www.wikidata.org/entity/Q18774642'), ('name', 'Oude Algemene begraafplaats Gorinchem')]\n",
      "[('x', 'http://www.wikidata.org/entity/Q2379480'), ('name', 'cemetery Sint-Catharinakerk')]\n",
      "[('x', 'http://www.wikidata.org/entity/Q15110977'), ('name', \"St Ola's Church and burial-ground\")]\n",
      "[('x', 'http://www.wikidata.org/entity/Q17774100'), ('name', \"Faslane, St Michael's Chapel, Faslane Cemetery\")]\n",
      "[('x', 'http://www.wikidata.org/entity/Q17774402'), ('name', \"St Mary's Chapel, Burial Ground\")]\n",
      "[('x', 'http://www.wikidata.org/entity/Q17775116'), ('name', 'Kinnaird Castle, Private Burial Ground')]\n",
      "[('x', 'http://www.wikidata.org/entity/Q17775904'), ('name', \"St. Nidian's Chirch, Midmar\")]\n",
      "[('x', 'http://www.wikidata.org/entity/Q17776291'), ('name', 'Ruthven, Old Parish Church And Burial-ground')]\n",
      "[('x', 'http://www.wikidata.org/entity/Q17776876'), ('name', 'Meathie, Church And Burial-ground')]\n",
      "[('x', 'http://www.wikidata.org/entity/Q17779933'), ('name', 'Annan, High Street Graveyard, Old Parish Church')]\n",
      "[('x', 'http://www.wikidata.org/entity/Q17780068'), ('name', 'Clachan, Kilcalmonell And Kilberry Parish Church And Burial-ground')]\n",
      "[('x', 'http://www.wikidata.org/entity/Q17783524'), ('name', 'Masulipathnam Dutch cemetery')]\n",
      "[('x', 'http://www.wikidata.org/entity/Q17815466'), ('name', '1264 Gallowgate, Eastern Necropolis')]\n",
      "[('x', 'http://www.wikidata.org/entity/Q17815471'), ('name', '1264 Gallowgate, Eastern Necropolis, Lodge And Gateway')]\n",
      "[('x', 'http://www.wikidata.org/entity/Q17826333'), ('name', 'Skye, Kilmuir Church, Graveyard')]\n",
      "[('x', 'http://www.wikidata.org/entity/Q17826636'), ('name', 'Salsburgh, Hirst Road, Kirk Of Shotts')]\n",
      "[('x', 'http://www.wikidata.org/entity/Q17826803'), ('name', 'Kincardine, Kincardine Parish Church, Churchyard')]\n",
      "[('x', 'http://www.wikidata.org/entity/Q17829152'), ('name', 'Alves, Old Parish Church, Burial Ground Extension')]\n",
      "[('x', 'http://www.wikidata.org/entity/Q17829215'), ('name', 'Bellie, Old Parish Church, Burial Ground')]\n",
      "[('x', 'http://www.wikidata.org/entity/Q17830364'), ('name', \"Gleneagles, St Mungo's Chapel And Graveyard\")]\n",
      "[('x', 'http://www.wikidata.org/entity/Q17830505'), ('name', 'Drumnadrochit, Kilmore Parish Church Of Scotland')]\n",
      "[('x', 'http://www.wikidata.org/entity/Q17834879'), ('name', 'Collace, Old Parish Churchyard')]\n",
      "[('x', 'http://www.wikidata.org/entity/Q17839167'), ('name', 'Killin, Innes Bhuidhe, Burial Ground Of The Macnabs')]\n",
      "[('x', 'http://www.wikidata.org/entity/Q17840547'), ('name', 'Errol Parish Church Graveyard')]\n",
      "[('x', 'http://www.wikidata.org/entity/Q17841998'), ('name', 'Kerrowmore, Cladh Bhranno')]\n",
      "[('x', 'http://www.wikidata.org/entity/Q17847703'), ('name', 'Alexandria, Vale Of Leven Cemetery')]\n",
      "[('x', 'http://www.wikidata.org/entity/Q17849023'), ('name', 'Ross Priory, Buchanan Burial Ground')]\n",
      "[('x', 'http://www.wikidata.org/entity/Q5704019'), ('name', 'Helensburgh Cemetery')]\n",
      "[('x', 'http://www.wikidata.org/entity/Q18110262'), ('name', 'Tomb of Yu Zisan')]\n",
      "[('x', 'http://www.wikidata.org/entity/Q18128430'), ('name', 'Nagcarlan Underground Cemetery')]\n",
      "[('x', 'http://www.wikidata.org/entity/Q18152795'), ('name', 'Joshua Memorial Park')]\n",
      "[('x', 'http://www.wikidata.org/entity/Q18153456'), ('name', 'Laurelwood Cemetery')]\n",
      "[('x', 'http://www.wikidata.org/entity/Q18155290'), ('name', 'Oakland Cemetery')]\n",
      "[('x', 'http://www.wikidata.org/entity/Q18155476'), ('name', 'Orangeburg City Cemetery')]\n",
      "[('x', 'http://www.wikidata.org/entity/Q18158319'), ('name', 'Spratt Cemetery')]\n",
      "[('x', 'http://www.wikidata.org/entity/Q18158951'), ('name', 'Tulip Cemetery')]\n",
      "[('x', 'http://www.wikidata.org/entity/Q7338441'), ('name', 'Riverside Cemetery')]\n",
      "[('x', 'http://www.wikidata.org/entity/Q15948388'), ('name', 'Herrlisheim-près-Colmar Jewish cemetery')]\n",
      "[('x', 'http://www.wikidata.org/entity/Q5137615'), ('name', 'Coachella Valley Public Cemetery')]\n",
      "[('x', 'http://www.wikidata.org/entity/Q21003430'), ('name', 'Panteón de los Queretanos Ilustres')]\n",
      "[('x', 'http://www.wikidata.org/entity/Q47542518'), ('name', 'Cimetière Saint-Martin de Brest')]\n",
      "[('x', 'http://www.wikidata.org/entity/Q53947652'), ('name', 'Pompano Beach South Lawn Cemetery')]\n",
      "[('x', 'http://www.wikidata.org/entity/Q3108571'), ('name', 'Tophet of Carthage')]\n",
      "[('x', 'http://www.wikidata.org/entity/Q21808589'), ('name', 'Riverside Cemetery')]\n",
      "[('x', 'http://www.wikidata.org/entity/Q99617577'), ('name', 'Fairhaven Memorial Park')]\n",
      "[('x', 'http://www.wikidata.org/entity/Q21975715'), ('name', 'Church of the Assumption (Mühlheim am Inn)')]\n",
      "[('x', 'http://www.wikidata.org/entity/Q21979764'), ('name', 'Pfarrkirche hl. Sebastian, Fontanella')]\n",
      "[('x', 'http://www.wikidata.org/entity/Q22025375'), ('name', 'Riverside Cemetery')]\n",
      "[('x', 'http://www.wikidata.org/entity/Q22026348'), ('name', 'Wright Settlement Cemetery')]\n",
      "[('x', 'http://www.wikidata.org/entity/Q22073380'), ('name', 'Artondale Cemetery')]\n",
      "[('x', 'http://www.wikidata.org/entity/Q65491150'), ('name', 'Carr Villa Memorial Park')]\n",
      "[('x', 'http://www.wikidata.org/entity/Q22919911'), ('name', 'Monument Cemetery')]\n",
      "[('x', 'http://www.wikidata.org/entity/Q22919939'), ('name', 'Sabana Grande Masonic Cemetery')]\n",
      "[('x', 'http://www.wikidata.org/entity/Q22919941'), ('name', 'Scatterville Cemetery')]\n",
      "[('x', 'http://www.wikidata.org/entity/Q22919959'), ('name', 'Sumay Cemetery')]\n",
      "[('x', 'http://www.wikidata.org/entity/Q22919963'), ('name', 'Temple Cemetery')]\n"
     ]
    },
    {
     "data": {
      "text/plain": [
       "100"
      ]
     },
     "execution_count": 7,
     "metadata": {},
     "output_type": "execute_result"
    }
   ],
   "source": [
    "# Other than Parisian cemetery there are other type of cemetery?\n",
    "queryString = \"\"\"\n",
    "SELECT distinct ?x ?name\n",
    "WHERE { \n",
    "    ?x wdt:P31|wdt:P279 wd:Q39614.\n",
    "   ?x <http://schema.org/name> ?name .\n",
    "} \n",
    "limit 100\n",
    "\"\"\"\n",
    "print(\"Predicates\")\n",
    "run_query(queryString)"
   ]
  },
  {
   "cell_type": "markdown",
   "id": "11f49a53-9bf7-4330-91da-80a6983b277a",
   "metadata": {},
   "source": [
    "Another dead end. Going back to the city of Paris, maybe I can find a path that connects it to a class \"city\" and work from there"
   ]
  },
  {
   "cell_type": "code",
   "execution_count": 6,
   "id": "fe28d1db-9730-42c3-acb1-31b0b6d29ccb",
   "metadata": {},
   "outputs": [
    {
     "name": "stdout",
     "output_type": "stream",
     "text": [
      "Predicates\n",
      "[('x', 'http://www.wikidata.org/entity/Q5119'), ('name', 'capital')]\n",
      "[('x', 'http://www.wikidata.org/entity/Q22923920'), ('name', 'territorial collectivity of France with special status')]\n"
     ]
    },
    {
     "data": {
      "text/plain": [
       "2"
      ]
     },
     "execution_count": 6,
     "metadata": {},
     "output_type": "execute_result"
    }
   ],
   "source": [
    "# What is Paris\n",
    "queryString = \"\"\"\n",
    "SELECT distinct ?x ?name\n",
    "WHERE { \n",
    "   wd:Q90 wdt:P31|wdt:P279 ?x.\n",
    "   ?x <http://schema.org/name> ?name .\n",
    "} \n",
    "limit 100\n",
    "\"\"\"\n",
    "print(\"Predicates\")\n",
    "run_query(queryString)"
   ]
  },
  {
   "cell_type": "code",
   "execution_count": 10,
   "id": "76190ce3-41ac-4208-b622-274baf36c6e7",
   "metadata": {},
   "outputs": [
    {
     "name": "stdout",
     "output_type": "stream",
     "text": [
      "Predicates\n",
      "[('x', 'http://www.wikidata.org/entity/Q486972'), ('name', 'human settlement')]\n",
      "[('x', 'http://www.wikidata.org/entity/Q2097994'), ('name', 'municipal corporation')]\n"
     ]
    },
    {
     "data": {
      "text/plain": [
       "2"
      ]
     },
     "execution_count": 10,
     "metadata": {},
     "output_type": "execute_result"
    }
   ],
   "source": [
    "# What is a Capital\n",
    "queryString = \"\"\"\n",
    "SELECT distinct ?x ?name\n",
    "WHERE { \n",
    "   wd:Q5119 wdt:P279 ?x.\n",
    "   ?x <http://schema.org/name> ?name .\n",
    "} \n",
    "limit 100\n",
    "\"\"\"\n",
    "print(\"Predicates\")\n",
    "run_query(queryString)"
   ]
  },
  {
   "cell_type": "markdown",
   "id": "4a592b92-0dc4-4c37-b29e-f4e2addbbc3d",
   "metadata": {},
   "source": [
    "I can consider human settlement as my idea of \"city\""
   ]
  },
  {
   "cell_type": "code",
   "execution_count": 20,
   "id": "5b8e53ff-6abe-43c6-bd85-4072f15942cb",
   "metadata": {},
   "outputs": [
    {
     "name": "stdout",
     "output_type": "stream",
     "text": [
      "Predicates\n",
      "[('x', 'http://www.wikidata.org/entity/Q90'), ('name', 'Paris')]\n"
     ]
    },
    {
     "data": {
      "text/plain": [
       "1"
      ]
     },
     "execution_count": 20,
     "metadata": {},
     "output_type": "execute_result"
    }
   ],
   "source": [
    "# Create a BGP to go from the cemetery to the human settlment\n",
    "queryString = \"\"\"\n",
    "SELECT distinct ?x ?name\n",
    "WHERE { \n",
    "    wd:Q272208 wdt:P131* ?x .\n",
    "    ?x (wdt:P31*|wdt:P279)/wdt:P279 wd:Q486972 .\n",
    "   ?x <http://schema.org/name> ?name .\n",
    "} \n",
    "\n",
    "\"\"\"\n",
    "print(\"Predicates\")\n",
    "run_query(queryString)"
   ]
  },
  {
   "cell_type": "markdown",
   "id": "f5f88fcd-966b-442e-bb32-5aead1431f06",
   "metadata": {},
   "source": [
    "I knew that a certain number of P131 will bring me to the human settlment, and that from here I have to use P31 or P279 to get to a class that is subclass of human settlment."
   ]
  },
  {
   "cell_type": "markdown",
   "id": "935b9d6d-7e46-4bbb-abf0-c26c7b5973d9",
   "metadata": {},
   "source": [
    "Let's go back to the topic\n",
    "***\n",
    "\n",
    "# Task 4.3\n",
    "\n",
    "*What are the top 3 cities in each country that you could visit? Based on what criteria?*\n",
    "\n",
    "Let's explore a bit and think about features of places that could make a place worthy of a visit."
   ]
  },
  {
   "cell_type": "code",
   "execution_count": 34,
   "id": "92ad178d-8118-4e0b-8e79-6b8219331c84",
   "metadata": {},
   "outputs": [
    {
     "name": "stdout",
     "output_type": "stream",
     "text": [
      "Predicates\n",
      "[('name', 'Berlin'), ('n', '2015')]\n",
      "[('name', 'Hamburg'), ('n', '896')]\n",
      "[('name', 'Munich'), ('n', '819')]\n"
     ]
    },
    {
     "data": {
      "text/plain": [
       "3"
      ]
     },
     "execution_count": 34,
     "metadata": {},
     "output_type": "execute_result"
    }
   ],
   "source": [
    "# Top 3 german city by births \n",
    "queryString = \"\"\"\n",
    "SELECT ?name (count(?x) as ?n)\n",
    "WHERE { \n",
    "  ?x wdt:P106 ?y.\n",
    "  ?city wdt:P17 wd:Q183.\n",
    "  ?x wdt:P19 ?city .\n",
    "  ?city <http://schema.org/name> ?name .\n",
    "  filter(?y=wd:Q36180 || ?y=wd:Q49757)\n",
    "  \n",
    "} group by ?name\n",
    "order by desc(?n)\n",
    "limit 3\n",
    "\n",
    "\"\"\"\n",
    "print(\"Predicates\")\n",
    "run_query(queryString)"
   ]
  },
  {
   "cell_type": "markdown",
   "id": "9c84bfcf-39bc-4bc5-a47d-de48c5fe56f2",
   "metadata": {},
   "source": [
    "Usually more than an half of the properties are about IDs so I started filtering the word just to have less properties to chek and make everything more readable"
   ]
  },
  {
   "cell_type": "code",
   "execution_count": 8,
   "id": "f9cdb91e-28f3-4842-a393-10f93bbdac7d",
   "metadata": {},
   "outputs": [
    {
     "name": "stdout",
     "output_type": "stream",
     "text": [
      "Predicates\n",
      "[('name', 'field of work'), ('p', 'http://www.wikidata.org/prop/direct/P101')]\n",
      "[('name', 'native language'), ('p', 'http://www.wikidata.org/prop/direct/P103')]\n",
      "[('name', 'occupation'), ('p', 'http://www.wikidata.org/prop/direct/P106')]\n",
      "[('name', 'signature'), ('p', 'http://www.wikidata.org/prop/direct/P109')]\n",
      "[('name', 'Library of Congress Classification'), ('p', 'http://www.wikidata.org/prop/direct/P1149')]\n",
      "[('name', 'place of burial'), ('p', 'http://www.wikidata.org/prop/direct/P119')]\n",
      "[('name', 'manner of death'), ('p', 'http://www.wikidata.org/prop/direct/P1196')]\n",
      "[('name', 'described by source'), ('p', 'http://www.wikidata.org/prop/direct/P1343')]\n",
      "[('name', 'genre'), ('p', 'http://www.wikidata.org/prop/direct/P136')]\n",
      "[('name', 'religion'), ('p', 'http://www.wikidata.org/prop/direct/P140')]\n",
      "[('name', 'languages spoken, written or signed'), ('p', 'http://www.wikidata.org/prop/direct/P1412')]\n",
      "[('name', \"topic's main template\"), ('p', 'http://www.wikidata.org/prop/direct/P1424')]\n",
      "[('name', 'image of grave'), ('p', 'http://www.wikidata.org/prop/direct/P1442')]\n",
      "[('name', 'Commons Creator page'), ('p', 'http://www.wikidata.org/prop/direct/P1472')]\n",
      "[('name', 'award received'), ('p', 'http://www.wikidata.org/prop/direct/P166')]\n",
      "[('name', 'ethnic group'), ('p', 'http://www.wikidata.org/prop/direct/P172')]\n",
      "[('name', 'image'), ('p', 'http://www.wikidata.org/prop/direct/P18')]\n",
      "[('name', 'place of birth'), ('p', 'http://www.wikidata.org/prop/direct/P19')]\n",
      "[('name', 'place of death'), ('p', 'http://www.wikidata.org/prop/direct/P20')]\n",
      "[('name', 'work period (start)'), ('p', 'http://www.wikidata.org/prop/direct/P2031')]\n",
      "[('name', 'work period (end)'), ('p', 'http://www.wikidata.org/prop/direct/P2032')]\n",
      "[('name', 'sex or gender'), ('p', 'http://www.wikidata.org/prop/direct/P21')]\n",
      "[('name', 'ISNI'), ('p', 'http://www.wikidata.org/prop/direct/P213')]\n",
      "[('name', 'father'), ('p', 'http://www.wikidata.org/prop/direct/P22')]\n",
      "[('name', 'mother'), ('p', 'http://www.wikidata.org/prop/direct/P25')]\n",
      "[('name', 'country of citizenship'), ('p', 'http://www.wikidata.org/prop/direct/P27')]\n",
      "[('name', 'instance of'), ('p', 'http://www.wikidata.org/prop/direct/P31')]\n",
      "[('name', 'patient of'), ('p', 'http://www.wikidata.org/prop/direct/P3205')]\n",
      "[('name', 'Commons category'), ('p', 'http://www.wikidata.org/prop/direct/P373')]\n",
      "[('name', 'pronunciation audio'), ('p', 'http://www.wikidata.org/prop/direct/P443')]\n",
      "[('name', 'Google Doodle'), ('p', 'http://www.wikidata.org/prop/direct/P4431')]\n",
      "[('name', 'unmarried partner'), ('p', 'http://www.wikidata.org/prop/direct/P451')]\n",
      "[('name', 'on focus list of Wikimedia project'), ('p', 'http://www.wikidata.org/prop/direct/P5008')]\n",
      "[('name', 'cause of death'), ('p', 'http://www.wikidata.org/prop/direct/P509')]\n",
      "[('name', 'residence'), ('p', 'http://www.wikidata.org/prop/direct/P551')]\n",
      "[('name', 'Libris-URI'), ('p', 'http://www.wikidata.org/prop/direct/P5587')]\n",
      "[('name', 'date of birth'), ('p', 'http://www.wikidata.org/prop/direct/P569')]\n",
      "[('name', 'date of death'), ('p', 'http://www.wikidata.org/prop/direct/P570')]\n",
      "[('name', 'ArhivX LOD'), ('p', 'http://www.wikidata.org/prop/direct/P5821')]\n",
      "[('name', 'has works in the collection'), ('p', 'http://www.wikidata.org/prop/direct/P6379')]\n",
      "[('name', 'has written for'), ('p', 'http://www.wikidata.org/prop/direct/P6872')]\n",
      "[('name', 'writing language'), ('p', 'http://www.wikidata.org/prop/direct/P6886')]\n",
      "[('name', 'educated at'), ('p', 'http://www.wikidata.org/prop/direct/P69')]\n",
      "[('name', 'family name'), ('p', 'http://www.wikidata.org/prop/direct/P734')]\n",
      "[('name', 'given name'), ('p', 'http://www.wikidata.org/prop/direct/P735')]\n",
      "[('name', 'influenced by'), ('p', 'http://www.wikidata.org/prop/direct/P737')]\n",
      "[('name', 'Europeana entity'), ('p', 'http://www.wikidata.org/prop/direct/P7704')]\n",
      "[('name', 'copyright status as a creator'), ('p', 'http://www.wikidata.org/prop/direct/P7763')]\n",
      "[('name', 'notable work'), ('p', 'http://www.wikidata.org/prop/direct/P800')]\n",
      "[('name', 'IPA transcription'), ('p', 'http://www.wikidata.org/prop/direct/P898')]\n",
      "[('name', \"topic's main category\"), ('p', 'http://www.wikidata.org/prop/direct/P910')]\n",
      "[('name', 'Commons gallery'), ('p', 'http://www.wikidata.org/prop/direct/P935')]\n",
      "[('name', 'artist files at'), ('p', 'http://www.wikidata.org/prop/direct/P9493')]\n"
     ]
    },
    {
     "data": {
      "text/plain": [
       "53"
      ]
     },
     "execution_count": 8,
     "metadata": {},
     "output_type": "execute_result"
    }
   ],
   "source": [
    "# properties of Baudelaire\n",
    "queryString = \"\"\"\n",
    "SELECT distinct ?name ?p\n",
    "WHERE { \n",
    " wd:Q501 ?p ?x .\n",
    "  ?p <http://schema.org/name> ?name .\n",
    "  filter(!regex(?name,\"ID\"))\n",
    "}\n",
    "\"\"\"\n",
    "print(\"Predicates\")\n",
    "run_query(queryString)"
   ]
  },
  {
   "cell_type": "markdown",
   "id": "96e203bc-8343-4000-9e37-5592460f4f46",
   "metadata": {},
   "source": [
    "The criteria I chose is the number of notable works produced by people born in the city. It is safe to say that ther place where an author is born would probably have something more to visit about the author if we compare it to the place where he/her died. \n",
    "\n",
    "Obviously this is a rule that I think make sense in general but is not always correct. We have a clear exception of the rule here in Padua for example.\n",
    "\n",
    "In addition I considered the notable works because famous people can be more or less famous and the notable works produced could give a rough ranking."
   ]
  },
  {
   "cell_type": "code",
   "execution_count": 37,
   "id": "e7e8bc37-2342-4826-9dc9-0f7cd9adb897",
   "metadata": {},
   "outputs": [
    {
     "name": "stdout",
     "output_type": "stream",
     "text": [
      "Predicates\n",
      "[('name', 'Berlin'), ('n', '373')]\n",
      "[('name', 'Hamburg'), ('n', '141')]\n",
      "[('name', 'Munich'), ('n', '135')]\n"
     ]
    },
    {
     "data": {
      "text/plain": [
       "3"
      ]
     },
     "execution_count": 37,
     "metadata": {},
     "output_type": "execute_result"
    }
   ],
   "source": [
    "# ANSWER to 6 (part 1) criteria is \"cities by numer of notable works produced by people born in it \"\n",
    "queryString = \"\"\"\n",
    "SELECT ?name (count(distinct ?notable) as ?n)\n",
    "WHERE { \n",
    "  ?city wdt:P17 wd:Q183.\n",
    "  ?p wdt:P19 ?city .\n",
    "  ?p wdt:P106 ?y .\n",
    "  ?p wdt:P800 ?notable . \n",
    "  ?city <http://schema.org/name> ?name .\n",
    "} group by ?name\n",
    "order by desc (?n)\n",
    "limit 3\n",
    "\"\"\"\n",
    "print(\"Predicates\")\n",
    "run_query(queryString)"
   ]
  },
  {
   "cell_type": "code",
   "execution_count": 38,
   "id": "29ebf1d6-7df4-42a7-bded-805dfd8d006b",
   "metadata": {},
   "outputs": [
    {
     "name": "stdout",
     "output_type": "stream",
     "text": [
      "Predicates\n",
      "[('name', 'Paris'), ('n', '1752')]\n",
      "[('name', 'Lyon'), ('n', '208')]\n",
      "[('name', 'Nantes'), ('n', '126')]\n"
     ]
    },
    {
     "data": {
      "text/plain": [
       "3"
      ]
     },
     "execution_count": 38,
     "metadata": {},
     "output_type": "execute_result"
    }
   ],
   "source": [
    "# ANSWER to 6 (part 2)\n",
    "queryString = \"\"\"\n",
    "SELECT ?name (count(distinct ?notable) as ?n)\n",
    "WHERE { \n",
    "  ?city wdt:P17 wd:Q142.\n",
    "  ?p wdt:P19 ?city .\n",
    "  ?p wdt:P106 ?y .\n",
    "  ?p wdt:P800 ?notable . \n",
    "  ?city <http://schema.org/name> ?name .\n",
    "} group by ?name\n",
    "order by desc (?n)\n",
    "limit 3\n",
    "\"\"\"\n",
    "print(\"Predicates\")\n",
    "run_query(queryString)"
   ]
  },
  {
   "cell_type": "code",
   "execution_count": null,
   "id": "28352b05-6dad-4979-a0c1-c032bbf898b9",
   "metadata": {},
   "outputs": [],
   "source": []
  }
 ],
 "metadata": {
  "kernelspec": {
   "display_name": "Python 3",
   "language": "python",
   "name": "python3"
  },
  "language_info": {
   "codemirror_mode": {
    "name": "ipython",
    "version": 3
   },
   "file_extension": ".py",
   "mimetype": "text/x-python",
   "name": "python",
   "nbconvert_exporter": "python",
   "pygments_lexer": "ipython3",
   "version": "3.7.10"
  }
 },
 "nbformat": 4,
 "nbformat_minor": 5
}
