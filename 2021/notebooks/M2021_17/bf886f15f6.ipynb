{
 "cells": [
  {
   "cell_type": "markdown",
   "id": "7034c3bf-6eb0-4418-8687-7b9d2a501103",
   "metadata": {},
   "source": [
    "# General instructions\n",
    "\n",
    "The goal of the project is to materialize a set of **exploratory workloads** over a real-world, large-scale,  open-domain KG: [WikiData](https://www.wikidata.org/wiki/Wikidata:Main_Page)\n",
    "\n",
    "An exploratory workload  is composed by a set of queries, where each query is related to the information obtained previously.\n",
    "\n",
    "An exploratory workload starts with a usually vague, open ended question, and does not assume the person issuing the workload has a clear understanding of the data contained in the target database or its structure.\n",
    "\n",
    "Remeber that:\n",
    "\n",
    "1. All the queries must run in the python notebook\n",
    "2. You can use classes and properties only if you find them via a SPARQL query that must be present in the notebook\n",
    "3. You do not delete useless queries. Keep everything that is synthatically valid \n",
    "\n",
    "```\n",
    "?p <http://schema.org/name> ?name .\n",
    "```\n",
    "    \n",
    "    is the BGP returning a human-readable name of a property or a class in Wikidata.\n",
    "    \n",
    "    "
   ]
  },
  {
   "cell_type": "code",
   "execution_count": 1,
   "id": "3605c9d5-5371-49a5-be8d-d66e8f417139",
   "metadata": {},
   "outputs": [],
   "source": [
    "## SETUP used later\n",
    "\n",
    "from SPARQLWrapper import SPARQLWrapper, JSON\n",
    "\n",
    "\n",
    "prefixString = \"\"\"\n",
    "##-bf886f15f6-##\n",
    "PREFIX wd: <http://www.wikidata.org/entity/> \n",
    "PREFIX wdt: <http://www.wikidata.org/prop/direct/> \n",
    "PREFIX sc: <http://schema.org/>\n",
    "\"\"\"\n",
    "\n",
    "# select and construct queries\n",
    "def run_query(queryString):\n",
    "    to_run = prefixString + \"\\n\" + queryString\n",
    "\n",
    "    sparql = SPARQLWrapper(\"http://a256-gc1-02.srv.aau.dk:5820/sparql\")\n",
    "    sparql.setTimeout(300)\n",
    "    sparql.setReturnFormat(JSON)\n",
    "    sparql.setQuery(to_run)\n",
    "\n",
    "    try :\n",
    "       results = sparql.query()\n",
    "       json_results = results.convert()\n",
    "       if len(json_results['results']['bindings'])==0:\n",
    "          print(\"Empty\")\n",
    "          return 0\n",
    "    \n",
    "       for bindings in json_results['results']['bindings']:\n",
    "          print( [ (var, value['value'])  for var, value in bindings.items() ] )\n",
    "\n",
    "       return len(json_results['results']['bindings'])\n",
    "\n",
    "    except Exception as e :\n",
    "        print(\"The operation failed\", e)\n",
    "    \n",
    "# ASk queries\n",
    "def run_ask_query(queryString):\n",
    "    to_run = prefixString + \"\\n\" + queryString\n",
    "\n",
    "    sparql = SPARQLWrapper(\"http://a256-gc1-02.srv.aau.dk:5820/sparql\")\n",
    "    sparql.setTimeout(300)\n",
    "    sparql.setReturnFormat(JSON)\n",
    "    sparql.setQuery(to_run)\n",
    "\n",
    "    try :\n",
    "        return sparql.query().convert()\n",
    "\n",
    "    except Exception as e :\n",
    "        print(\"The operation failed\", e)"
   ]
  },
  {
   "cell_type": "markdown",
   "id": "d477a59c-a68c-4c8f-9f97-8ca5294d7d27",
   "metadata": {},
   "source": [
    "# Book Workflow Series (\"Author comparison explorative search\") \n",
    "\n",
    "Consider the following exploratory scenario:\n",
    "\n",
    "\n",
    ">  Investigate Italian and French book authors in terms of awards, books published and copyright types\n",
    "\n",
    "\n",
    "\n",
    "## Useful URIs for the current workflow\n",
    "The following are given:\n",
    "\n",
    "| IRI           | Description   | Role      |\n",
    "| -----------   | -----------   |-----------|\n",
    "| `wdt:P1647`   | subproperty   | predicate |\n",
    "| `wdt:P31`     | instance of   | predicate |\n",
    "| `wdt:P279`    | subclass      | predicate |\n",
    "| `wdt:P106`    | occupation    | predicate | \n",
    "| `wdt:P17`     | country       | predicate | \n",
    "| `wdt:P27`     | citizenship   | predicate | \n",
    "| `wd:Q36180`   | writer        | node |\n",
    "| `wd:Q38`      | Italy         | node |\n",
    "| `wd:Q172579`  | Kingdom of Italy        | node |\n",
    "| `wd:Q142`     | France        | node |\n",
    "| `wd:Q37922`   | Nobel Prize literature        | node |\n",
    "| `wd:Q213678`  | Vatican Library        | node |\n",
    "\n",
    "\n",
    "Also consider that\n",
    "\n",
    "```\n",
    "?p wdt:P27 wd:Q142\n",
    "```\n",
    "\n",
    "is the BGP to retrieve all **French citizens**\n",
    "\n",
    "\n",
    "The workload should\n",
    "\n",
    "\n",
    "1. Identify the BGP for obtaining the Italian and French writers who published a book in the last 50 years\n",
    "\n",
    "2. Compare the number of books written by Italian and French writers\n",
    "\n",
    "3. Count how many books written by Italian authors are now released with a \"public domain\" copyright form\n",
    "\n",
    "4. How many Literature Nobel awards won authors from Italy and from the Kingdom of Italy? \n",
    "\n",
    "5. Are there books from Litarature Nobel Award winners which are not present in the Vatican Library? (if so, who is the author with more books not in the Vatical Library)?"
   ]
  },
  {
   "cell_type": "code",
   "execution_count": 2,
   "id": "24a853ab-830c-422c-afd3-e9e015b8b8ed",
   "metadata": {},
   "outputs": [],
   "source": [
    "# start your workflow here"
   ]
  },
  {
   "cell_type": "code",
   "execution_count": 3,
   "id": "ade01416-92e7-4ad7-b9a9-b8fb330750dc",
   "metadata": {},
   "outputs": [
    {
     "name": "stdout",
     "output_type": "stream",
     "text": [
      "Results\n",
      "[('callret-0', '273456')]\n"
     ]
    },
    {
     "data": {
      "text/plain": [
       "1"
      ]
     },
     "execution_count": 3,
     "metadata": {},
     "output_type": "execute_result"
    }
   ],
   "source": [
    "queryString = \"\"\"\n",
    "SELECT COUNT(?p)\n",
    "WHERE { \n",
    "?p wdt:P27 wd:Q142 .\n",
    "} \n",
    "\"\"\"\n",
    "\n",
    "print(\"Results\")\n",
    "run_query(queryString)"
   ]
  },
  {
   "cell_type": "markdown",
   "id": "375ec235-02d4-4183-94a7-58c50e44f47a",
   "metadata": {},
   "source": [
    "#### Identify the BGP for obtaining the Italian and French writers who published a book in the last 50 years"
   ]
  },
  {
   "cell_type": "code",
   "execution_count": 4,
   "id": "3e55dd34-ed77-420d-b409-379fe81678d4",
   "metadata": {},
   "outputs": [
    {
     "name": "stdout",
     "output_type": "stream",
     "text": [
      "Results\n",
      "[('p', 'http://www.wikidata.org/entity/Q3047923'), ('name', 'Edmond Maître')]\n",
      "[('p', 'http://www.wikidata.org/entity/Q310715'), ('name', 'Henri Fantin-Latour')]\n",
      "[('p', 'http://www.wikidata.org/entity/Q1566596'), ('name', 'Nicolas Flamel')]\n",
      "[('p', 'http://www.wikidata.org/entity/Q3106353'), ('name', 'Gilles Legrand')]\n",
      "[('p', 'http://www.wikidata.org/entity/Q3169515'), ('name', 'Jean-Pierre Limosin')]\n",
      "[('p', 'http://www.wikidata.org/entity/Q328926'), ('name', 'Philippe Ramos')]\n",
      "[('p', 'http://www.wikidata.org/entity/Q584886'), ('name', 'François Villiers')]\n",
      "[('p', 'http://www.wikidata.org/entity/Q742799'), ('name', 'Philippe Lioret')]\n",
      "[('p', 'http://www.wikidata.org/entity/Q936929'), ('name', 'Pascal Laugier')]\n",
      "[('p', 'http://www.wikidata.org/entity/Q3120486'), ('name', 'William I of Baux')]\n"
     ]
    },
    {
     "data": {
      "text/plain": [
       "10"
      ]
     },
     "execution_count": 4,
     "metadata": {},
     "output_type": "execute_result"
    }
   ],
   "source": [
    "# First search for citiziens and their jobs in france\n",
    "\n",
    "\n",
    "queryString = \"\"\"\n",
    "SELECT *\n",
    "WHERE { \n",
    "    ?p wdt:P27 wd:Q142 .\n",
    "    ?p <http://schema.org/name> ?name .\n",
    "} \n",
    "LIMIT 10\n",
    "\"\"\"\n",
    "\n",
    "print(\"Results\")\n",
    "run_query(queryString)\n",
    "\n",
    "\n",
    "## khob in query faghat citizen haye keshvar france ro neshon mide\n",
    "# ye joori hala search kon k ye shakhs faransavi ro peyda koni \n"
   ]
  },
  {
   "cell_type": "code",
   "execution_count": 5,
   "id": "7ddc0609-507b-4900-92e2-be45fcfea673",
   "metadata": {},
   "outputs": [
    {
     "name": "stdout",
     "output_type": "stream",
     "text": [
      "Results\n",
      "[('p', 'http://www.wikidata.org/prop/direct/P3373'), ('pname', 'sibling'), ('o', 'http://www.wikidata.org/entity/Q8688594'), ('oname', 'Hugo III of Baux')]\n",
      "[('p', 'http://www.wikidata.org/prop/direct/P735'), ('pname', 'given name'), ('o', 'http://www.wikidata.org/entity/Q12344159'), ('oname', 'William')]\n",
      "[('p', 'http://www.wikidata.org/prop/direct/P27'), ('pname', 'country of citizenship'), ('o', 'http://www.wikidata.org/entity/Q142'), ('oname', 'France')]\n",
      "[('p', 'http://www.wikidata.org/prop/direct/P1412'), ('pname', 'languages spoken, written or signed'), ('o', 'http://www.wikidata.org/entity/Q150'), ('oname', 'French')]\n",
      "[('p', 'http://www.wikidata.org/prop/direct/P106'), ('pname', 'occupation'), ('o', 'http://www.wikidata.org/entity/Q186370'), ('oname', 'troubadour')]\n",
      "[('p', 'http://www.wikidata.org/prop/direct/P97'), ('pname', 'noble title'), ('o', 'http://www.wikidata.org/entity/Q2747456'), ('oname', 'prince')]\n",
      "[('p', 'http://www.wikidata.org/prop/direct/P106'), ('pname', 'occupation'), ('o', 'http://www.wikidata.org/entity/Q36834'), ('oname', 'composer')]\n",
      "[('p', 'http://www.wikidata.org/prop/direct/P31'), ('pname', 'instance of'), ('o', 'http://www.wikidata.org/entity/Q5'), ('oname', 'human')]\n",
      "[('p', 'http://www.wikidata.org/prop/direct/P20'), ('pname', 'place of death'), ('o', 'http://www.wikidata.org/entity/Q6397'), ('oname', 'Avignon')]\n",
      "[('p', 'http://www.wikidata.org/prop/direct/P21'), ('pname', 'sex or gender'), ('o', 'http://www.wikidata.org/entity/Q6581097'), ('oname', 'male')]\n",
      "[('p', 'http://www.wikidata.org/prop/direct/P7763'), ('pname', 'copyright status as a creator'), ('o', 'http://www.wikidata.org/entity/Q71887839'), ('oname', 'copyrights on works have expired')]\n",
      "[('p', 'http://www.wikidata.org/prop/direct/P735'), ('pname', 'given name'), ('o', 'http://www.wikidata.org/entity/Q18190448'), ('oname', 'Guillaume')]\n",
      "[('p', 'http://www.wikidata.org/prop/direct/P25'), ('pname', 'mother'), ('o', 'http://www.wikidata.org/entity/Q5220'), ('oname', 'Tibors de Sarenom')]\n",
      "[('p', 'http://www.wikidata.org/prop/direct/P53'), ('pname', 'family'), ('o', 'http://www.wikidata.org/entity/Q3704848'), ('oname', 'House of Baux')]\n",
      "[('p', 'http://www.wikidata.org/prop/direct/P22'), ('pname', 'father'), ('o', 'http://www.wikidata.org/entity/Q744523'), ('oname', 'Bertrand I of Baux')]\n",
      "[('p', 'http://www.wikidata.org/prop/direct/P40'), ('pname', 'child'), ('o', 'http://www.wikidata.org/entity/Q3119948'), ('oname', 'William II of Baux')]\n",
      "[('p', 'http://www.wikidata.org/prop/direct/P40'), ('pname', 'child'), ('o', 'http://www.wikidata.org/entity/Q16690944'), ('oname', 'Raymond I des Baux')]\n",
      "[('p', 'http://www.wikidata.org/prop/direct/P26'), ('pname', 'spouse'), ('o', 'http://www.wikidata.org/entity/Q76214986'), ('oname', 'Ermengarde de Sabran, Dame de Mévouillon')]\n"
     ]
    },
    {
     "data": {
      "text/plain": [
       "18"
      ]
     },
     "execution_count": 5,
     "metadata": {},
     "output_type": "execute_result"
    }
   ],
   "source": [
    "queryString = \"\"\"\n",
    "SELECT ?p ?pname ?o ?oname\n",
    "WHERE { \n",
    "    wd:Q3120486 ?p ?o .\n",
    "    ?p <http://schema.org/name> ?pname .\n",
    "    ?o <http://schema.org/name> ?oname .\n",
    "} \n",
    "LIMIT 50\n",
    "\"\"\"\n",
    "\n",
    "print(\"Results\")\n",
    "run_query(queryString)\n",
    "# this showed all the infromation related to a person"
   ]
  },
  {
   "cell_type": "code",
   "execution_count": 6,
   "id": "efe03ad6-b593-4ac6-8a47-0759ddf3d1e6",
   "metadata": {},
   "outputs": [
    {
     "name": "stdout",
     "output_type": "stream",
     "text": [
      "Results\n",
      "[('p', 'http://www.wikidata.org/entity/P348'), ('pname', 'software version identifier'), ('o', 'http://www.wikidata.org/entity/Q186370'), ('oname', 'troubadour')]\n",
      "[('p', 'http://www.wikidata.org/entity/P4669'), ('pname', 'tabular software version'), ('o', 'http://www.wikidata.org/entity/Q186370'), ('oname', 'troubadour')]\n",
      "[('p', 'http://www.wikidata.org/entity/P747'), ('pname', 'has edition or translation'), ('o', 'http://www.wikidata.org/entity/Q186370'), ('oname', 'troubadour')]\n",
      "[('p', 'http://www.wikidata.org/entity/Q1002728'), ('pname', 'Fonsi Nieto'), ('o', 'http://www.wikidata.org/entity/Q186370'), ('oname', 'troubadour')]\n",
      "[('p', 'http://www.wikidata.org/entity/Q100326534'), ('pname', \"Al Stewart's albums in chronological order\"), ('o', 'http://www.wikidata.org/entity/Q186370'), ('oname', 'troubadour')]\n",
      "[('p', 'http://www.wikidata.org/entity/Q100327667'), ('pname', 'Category:Adelina Lopes Vieira'), ('o', 'http://www.wikidata.org/entity/Q186370'), ('oname', 'troubadour')]\n",
      "[('p', 'http://www.wikidata.org/entity/Q100343342'), ('pname', 'Lubomír Stoklásek'), ('o', 'http://www.wikidata.org/entity/Q186370'), ('oname', 'troubadour')]\n",
      "[('p', 'http://www.wikidata.org/entity/Q1007576'), ('pname', 'Ciudad Vieja'), ('o', 'http://www.wikidata.org/entity/Q186370'), ('oname', 'troubadour')]\n",
      "[('p', 'http://www.wikidata.org/entity/Q100879156'), ('pname', 'Echániz'), ('o', 'http://www.wikidata.org/entity/Q186370'), ('oname', 'troubadour')]\n",
      "[('p', 'http://www.wikidata.org/entity/Q10100'), ('pname', 'Natuna'), ('o', 'http://www.wikidata.org/entity/Q186370'), ('oname', 'troubadour')]\n",
      "[('p', 'http://www.wikidata.org/entity/Q101032298'), ('pname', \"Acid Mothers Temple's albums in chronological order\"), ('o', 'http://www.wikidata.org/entity/Q186370'), ('oname', 'troubadour')]\n",
      "[('p', 'http://www.wikidata.org/entity/Q101042154'), ('pname', 'Relaño'), ('o', 'http://www.wikidata.org/entity/Q186370'), ('oname', 'troubadour')]\n",
      "[('p', 'http://www.wikidata.org/entity/Q10121707'), ('pname', '2002 in transport'), ('o', 'http://www.wikidata.org/entity/Q186370'), ('oname', 'troubadour')]\n",
      "[('p', 'http://www.wikidata.org/entity/Q10130131'), ('pname', '2006 in transport'), ('o', 'http://www.wikidata.org/entity/Q186370'), ('oname', 'troubadour')]\n",
      "[('p', 'http://www.wikidata.org/entity/Q10145708'), ('pname', 'Category:1920 elections in Oceania'), ('o', 'http://www.wikidata.org/entity/Q186370'), ('oname', 'troubadour')]\n",
      "[('p', 'http://www.wikidata.org/entity/Q10147007'), ('pname', 'Category:2002 elections in South America'), ('o', 'http://www.wikidata.org/entity/Q186370'), ('oname', 'troubadour')]\n",
      "[('p', 'http://www.wikidata.org/entity/Q10176484'), ('pname', 'Category:Teluk Sebong'), ('o', 'http://www.wikidata.org/entity/Q186370'), ('oname', 'troubadour')]\n",
      "[('p', 'http://www.wikidata.org/entity/Q1018547'), ('pname', 'Võnnu Rural Municipality'), ('o', 'http://www.wikidata.org/entity/Q186370'), ('oname', 'troubadour')]\n",
      "[('p', 'http://www.wikidata.org/entity/Q102115260'), ('pname', 'Kojiro Kobayashi'), ('o', 'http://www.wikidata.org/entity/Q186370'), ('oname', 'troubadour')]\n",
      "[('p', 'http://www.wikidata.org/entity/Q102118153'), ('pname', 'Miguel E. M. Herrera'), ('o', 'http://www.wikidata.org/entity/Q186370'), ('oname', 'troubadour')]\n"
     ]
    },
    {
     "data": {
      "text/plain": [
       "20"
      ]
     },
     "execution_count": 6,
     "metadata": {},
     "output_type": "execute_result"
    }
   ],
   "source": [
    "queryString = \"\"\"\n",
    "SELECT ?p ?pname ?o ?oname\n",
    "WHERE { \n",
    "    wd:Q3120486 wdt:P106 ?o .\n",
    "    ?p <http://schema.org/name> ?pname .\n",
    "    ?o <http://schema.org/name> ?oname .\n",
    "} \n",
    "LIMIT 20\n",
    "\"\"\"\n",
    "\n",
    "print(\"Results\")\n",
    "run_query(queryString)"
   ]
  },
  {
   "cell_type": "code",
   "execution_count": 7,
   "id": "79011425-e6f0-464c-9584-6b67ede4a609",
   "metadata": {},
   "outputs": [
    {
     "name": "stdout",
     "output_type": "stream",
     "text": [
      "Results\n",
      "[('p', 'http://www.wikidata.org/entity/Q135640'), ('pname', 'Valery Larbaud')]\n",
      "[('p', 'http://www.wikidata.org/entity/Q11945240'), ('pname', 'Renat Lavaud')]\n",
      "[('p', 'http://www.wikidata.org/entity/Q1225448'), ('pname', 'Georges Lafenestre')]\n",
      "[('p', 'http://www.wikidata.org/entity/Q1248117'), ('pname', 'René Doumic')]\n",
      "[('p', 'http://www.wikidata.org/entity/Q18057423'), ('pname', 'Maurice Dreyfous')]\n",
      "[('p', 'http://www.wikidata.org/entity/Q2741209'), ('pname', 'Téodor de Wyzewa')]\n",
      "[('p', 'http://www.wikidata.org/entity/Q523039'), ('pname', 'André Theuriet')]\n",
      "[('p', 'http://www.wikidata.org/entity/Q589611'), ('pname', 'Philippe Chatrier')]\n",
      "[('p', 'http://www.wikidata.org/entity/Q669685'), ('pname', 'Robert de Montesquiou')]\n",
      "[('p', 'http://www.wikidata.org/entity/Q733214'), ('pname', 'Bonaventure des Périers')]\n",
      "[('p', 'http://www.wikidata.org/entity/Q77742'), ('pname', 'Gottlieb Konrad Pfeffel')]\n",
      "[('p', 'http://www.wikidata.org/entity/Q1210514'), ('pname', 'Didier Barbelivien')]\n",
      "[('p', 'http://www.wikidata.org/entity/Q15969574'), ('pname', 'Victor Du Hamel')]\n",
      "[('p', 'http://www.wikidata.org/entity/Q16014552'), ('pname', 'Antoine Laurain')]\n",
      "[('p', 'http://www.wikidata.org/entity/Q16028072'), ('pname', 'Michelle Clément-Mainard')]\n",
      "[('p', 'http://www.wikidata.org/entity/Q16028154'), ('pname', 'Josiane Lahlou')]\n",
      "[('p', 'http://www.wikidata.org/entity/Q16028248'), ('pname', 'Pierre Stasse')]\n",
      "[('p', 'http://www.wikidata.org/entity/Q16034964'), ('pname', 'Jacques Ferny')]\n",
      "[('p', 'http://www.wikidata.org/entity/Q1607626'), ('pname', 'Paul Lacroix')]\n",
      "[('p', 'http://www.wikidata.org/entity/Q2414588'), ('pname', 'Jean Deuve')]\n",
      "[('p', 'http://www.wikidata.org/entity/Q3171095'), ('pname', 'Jean Calbrix')]\n",
      "[('p', 'http://www.wikidata.org/entity/Q3426412'), ('pname', 'René Jolivet')]\n",
      "[('p', 'http://www.wikidata.org/entity/Q3431213'), ('pname', 'Richard Seff')]\n",
      "[('p', 'http://www.wikidata.org/entity/Q3438750'), ('pname', 'Roger Breuil')]\n",
      "[('p', 'http://www.wikidata.org/entity/Q4821103'), ('pname', 'Augustin Filon')]\n",
      "[('p', 'http://www.wikidata.org/entity/Q562300'), ('pname', 'Gilles Joye')]\n",
      "[('p', 'http://www.wikidata.org/entity/Q744183'), ('pname', \"Charles de Batz-Castelmore d'Artagnan\")]\n",
      "[('p', 'http://www.wikidata.org/entity/Q75059'), ('pname', 'André Bellessort')]\n",
      "[('p', 'http://www.wikidata.org/entity/Q15059352'), ('pname', 'Valérie Simonin')]\n",
      "[('p', 'http://www.wikidata.org/entity/Q16186077'), ('pname', 'Louis de Monfrabeuf')]\n",
      "[('p', 'http://www.wikidata.org/entity/Q16186086'), ('pname', 'Jacob Neyts')]\n",
      "[('p', 'http://www.wikidata.org/entity/Q16196357'), ('pname', 'Anacharsis Combes')]\n",
      "[('p', 'http://www.wikidata.org/entity/Q63485595'), ('pname', 'Mariette Moreaud Monnet')]\n",
      "[('p', 'http://www.wikidata.org/entity/Q299657'), ('pname', 'Rémi Gaillard')]\n",
      "[('p', 'http://www.wikidata.org/entity/Q17175695'), ('pname', 'Paule Cassius de Linval')]\n",
      "[('p', 'http://www.wikidata.org/entity/Q17195502'), ('pname', 'Petrika Ionesco')]\n",
      "[('p', 'http://www.wikidata.org/entity/Q329673'), ('pname', 'Wilfrid de Fonvielle')]\n",
      "[('p', 'http://www.wikidata.org/entity/Q384698'), ('pname', 'Barthélémy Aneau')]\n",
      "[('p', 'http://www.wikidata.org/entity/Q1238005'), ('pname', 'Louis de Fourcaud')]\n",
      "[('p', 'http://www.wikidata.org/entity/Q1596281'), ('pname', 'Marcellin Desboutin')]\n",
      "[('p', 'http://www.wikidata.org/entity/Q164469'), ('pname', 'Pierre Emmanuel')]\n",
      "[('p', 'http://www.wikidata.org/entity/Q17429277'), ('pname', 'Gabrielle Réval')]\n",
      "[('p', 'http://www.wikidata.org/entity/Q17442789'), ('pname', 'Henri Mongault')]\n",
      "[('p', 'http://www.wikidata.org/entity/Q17486056'), ('pname', 'Alexandre Latsa')]\n",
      "[('p', 'http://www.wikidata.org/entity/Q17496617'), ('pname', 'Jean Charles-Roux')]\n",
      "[('p', 'http://www.wikidata.org/entity/Q241098'), ('pname', 'Maurice de Vlaminck')]\n",
      "[('p', 'http://www.wikidata.org/entity/Q447149'), ('pname', 'Julie Manet')]\n",
      "[('p', 'http://www.wikidata.org/entity/Q455509'), ('pname', 'Edmonde Charles-Roux')]\n",
      "[('p', 'http://www.wikidata.org/entity/Q76395'), ('pname', 'Alfred Grosser')]\n",
      "[('p', 'http://www.wikidata.org/entity/Q927796'), ('pname', 'Gustave Geffroy')]\n"
     ]
    },
    {
     "data": {
      "text/plain": [
       "50"
      ]
     },
     "execution_count": 7,
     "metadata": {},
     "output_type": "execute_result"
    }
   ],
   "source": [
    "## All writers # french\n",
    "\n",
    "queryString = \"\"\"\n",
    "SELECT ?p ?pname \n",
    "WHERE { \n",
    "    ?p wdt:P27 wd:Q142 .\n",
    "    ?p wdt:P106 wd:Q36180 .\n",
    "    ?p <http://schema.org/name> ?pname .\n",
    "} \n",
    "LIMIT 50\n",
    "\"\"\"\n",
    "\n",
    "print(\"Results\")\n",
    "run_query(queryString)"
   ]
  },
  {
   "cell_type": "code",
   "execution_count": 8,
   "id": "8455b1f1-a590-4ac7-af3b-f9052c0553d1",
   "metadata": {},
   "outputs": [
    {
     "name": "stdout",
     "output_type": "stream",
     "text": [
      "Results\n",
      "[('s', 'http://www.wikidata.org/entity/Q17492504'), ('sname', 'The Baby Carriage'), ('p', 'http://www.wikidata.org/prop/direct/P170'), ('pname', 'creator')]\n",
      "[('s', 'http://www.wikidata.org/entity/Q1239950'), ('sname', \"L'Absinthe\"), ('p', 'http://www.wikidata.org/prop/direct/P180'), ('pname', 'depicts')]\n",
      "[('s', 'http://www.wikidata.org/entity/Q16399276'), ('sname', '2nd impressionist exhibition'), ('p', 'http://www.wikidata.org/prop/direct/P710'), ('pname', 'participant')]\n",
      "[('s', 'http://www.wikidata.org/entity/Q43294256'), ('sname', 'Portrait of Marcellin Desboutin'), ('p', 'http://www.wikidata.org/prop/direct/P180'), ('pname', 'depicts')]\n",
      "[('s', 'http://www.wikidata.org/entity/Q43294256'), ('sname', 'Portrait of Marcellin Desboutin'), ('p', 'http://www.wikidata.org/prop/direct/P921'), ('pname', 'main subject')]\n",
      "[('s', 'http://www.wikidata.org/entity/Q65080945'), ('sname', 'Degas'), ('p', 'http://www.wikidata.org/prop/direct/P170'), ('pname', 'creator')]\n",
      "[('s', 'http://www.wikidata.org/entity/Q18918224'), ('sname', 'Portrait of Sâr Mérodack Joséphin Péladan'), ('p', 'http://www.wikidata.org/prop/direct/P170'), ('pname', 'creator')]\n",
      "[('s', 'http://www.wikidata.org/entity/Q65511163'), ('sname', 'Comte Lepic'), ('p', 'http://www.wikidata.org/prop/direct/P170'), ('pname', 'creator')]\n",
      "[('s', 'http://www.wikidata.org/entity/Q76348071'), ('sname', 'Self-Portrait'), ('p', 'http://www.wikidata.org/prop/direct/P170'), ('pname', 'creator')]\n",
      "[('s', 'http://www.wikidata.org/entity/Q65080948'), ('sname', 'Renoir Seated'), ('p', 'http://www.wikidata.org/prop/direct/P170'), ('pname', 'creator')]\n",
      "[('s', 'http://www.wikidata.org/entity/Q27968577'), ('sname', 'Diana and the nymphs'), ('p', 'http://www.wikidata.org/prop/direct/P170'), ('pname', 'creator')]\n",
      "[('s', 'http://www.wikidata.org/entity/Q64518014'), ('sname', 'Self Portrait'), ('p', 'http://www.wikidata.org/prop/direct/P170'), ('pname', 'creator')]\n",
      "[('s', 'http://www.wikidata.org/entity/Q20198616'), ('sname', 'Self Portrait'), ('p', 'http://www.wikidata.org/prop/direct/P180'), ('pname', 'depicts')]\n",
      "[('s', 'http://www.wikidata.org/entity/Q20198616'), ('sname', 'Self Portrait'), ('p', 'http://www.wikidata.org/prop/direct/P170'), ('pname', 'creator')]\n",
      "[('s', 'http://www.wikidata.org/entity/Q20198616'), ('sname', 'Self Portrait'), ('p', 'http://www.wikidata.org/prop/direct/P921'), ('pname', 'main subject')]\n",
      "[('s', 'http://www.wikidata.org/entity/Q75428346'), ('sname', 'Henri Rochefort'), ('p', 'http://www.wikidata.org/prop/direct/P170'), ('pname', 'creator')]\n",
      "[('s', 'http://www.wikidata.org/entity/Q27964323'), ('sname', 'Mother and Child'), ('p', 'http://www.wikidata.org/prop/direct/P170'), ('pname', 'creator')]\n",
      "[('s', 'http://www.wikidata.org/entity/Q20266768'), ('sname', 'The Conversation'), ('p', 'http://www.wikidata.org/prop/direct/P170'), ('pname', 'creator')]\n",
      "[('s', 'http://www.wikidata.org/entity/Q75430018'), ('sname', 'Alphonse Karr'), ('p', 'http://www.wikidata.org/prop/direct/P170'), ('pname', 'creator')]\n"
     ]
    },
    {
     "data": {
      "text/plain": [
       "19"
      ]
     },
     "execution_count": 8,
     "metadata": {},
     "output_type": "execute_result"
    }
   ],
   "source": [
    "#Q1596281 Marcellin Desboutin\n",
    "# search for book property\n",
    "queryString = \"\"\"\n",
    "SELECT ?s ?sname ?p ?pname \n",
    "WHERE { \n",
    "    ?s ?p wd:Q1596281 .\n",
    "    ?p <http://schema.org/name> ?pname .\n",
    "    ?s <http://schema.org/name> ?sname .\n",
    "} \n",
    "LIMIT 50\n",
    "\"\"\"\n",
    "print(\"Results\")\n",
    "run_query(queryString)\n"
   ]
  },
  {
   "cell_type": "code",
   "execution_count": 9,
   "id": "1a5dd85e-119e-4c94-b58c-89ea38a580a9",
   "metadata": {},
   "outputs": [
    {
     "name": "stdout",
     "output_type": "stream",
     "text": [
      "Results\n",
      "[('s', 'http://www.wikidata.org/prop/direct/P103'), ('sname', 'native language'), ('p', 'http://www.wikidata.org/entity/Q150'), ('pname', 'French')]\n",
      "[('s', 'http://www.wikidata.org/prop/direct/P106'), ('sname', 'occupation'), ('p', 'http://www.wikidata.org/entity/Q36180'), ('pname', 'writer')]\n",
      "[('s', 'http://www.wikidata.org/prop/direct/P106'), ('sname', 'occupation'), ('p', 'http://www.wikidata.org/entity/Q1028181'), ('pname', 'painter')]\n",
      "[('s', 'http://www.wikidata.org/prop/direct/P1343'), ('sname', 'described by source'), ('p', 'http://www.wikidata.org/entity/Q67311526'), ('pname', 'Obalky knih.cz')]\n",
      "[('s', 'http://www.wikidata.org/prop/direct/P136'), ('sname', 'genre'), ('p', 'http://www.wikidata.org/entity/Q134307'), ('pname', 'portrait')]\n",
      "[('s', 'http://www.wikidata.org/prop/direct/P1412'), ('sname', 'languages spoken, written or signed'), ('p', 'http://www.wikidata.org/entity/Q150'), ('pname', 'French')]\n",
      "[('s', 'http://www.wikidata.org/prop/direct/P166'), ('sname', 'award received'), ('p', 'http://www.wikidata.org/entity/Q10855271'), ('pname', 'Knight of the Legion of Honour')]\n",
      "[('s', 'http://www.wikidata.org/prop/direct/P19'), ('sname', 'place of birth'), ('p', 'http://www.wikidata.org/entity/Q223186'), ('pname', 'Cérilly')]\n",
      "[('s', 'http://www.wikidata.org/prop/direct/P20'), ('sname', 'place of death'), ('p', 'http://www.wikidata.org/entity/Q33959'), ('pname', 'Nice')]\n",
      "[('s', 'http://www.wikidata.org/prop/direct/P21'), ('sname', 'sex or gender'), ('p', 'http://www.wikidata.org/entity/Q6581097'), ('pname', 'male')]\n",
      "[('s', 'http://www.wikidata.org/prop/direct/P27'), ('sname', 'country of citizenship'), ('p', 'http://www.wikidata.org/entity/Q142'), ('pname', 'France')]\n",
      "[('s', 'http://www.wikidata.org/prop/direct/P31'), ('sname', 'instance of'), ('p', 'http://www.wikidata.org/entity/Q5'), ('pname', 'human')]\n",
      "[('s', 'http://www.wikidata.org/prop/direct/P5008'), ('sname', 'on focus list of Wikimedia project'), ('p', 'http://www.wikidata.org/entity/Q104694359'), ('pname', 'WikiProject PCC Wikidata Pilot/Frick Art Reference Library')]\n",
      "[('s', 'http://www.wikidata.org/prop/direct/P6379'), ('sname', 'has works in the collection'), ('p', 'http://www.wikidata.org/entity/Q132783'), ('pname', 'Hermitage Museum')]\n",
      "[('s', 'http://www.wikidata.org/prop/direct/P6379'), ('sname', 'has works in the collection'), ('p', 'http://www.wikidata.org/entity/Q3277885'), ('pname', \"Musée des Beaux-Arts d'Angers\")]\n",
      "[('s', 'http://www.wikidata.org/prop/direct/P6379'), ('sname', 'has works in the collection'), ('p', 'http://www.wikidata.org/entity/Q2051997'), ('pname', 'National Galleries of Scotland')]\n",
      "[('s', 'http://www.wikidata.org/prop/direct/P6379'), ('sname', 'has works in the collection'), ('p', 'http://www.wikidata.org/entity/Q1068063'), ('pname', 'National Gallery of Canada')]\n",
      "[('s', 'http://www.wikidata.org/prop/direct/P6379'), ('sname', 'has works in the collection'), ('p', 'http://www.wikidata.org/entity/Q1820897'), ('pname', 'Amsterdam Museum')]\n",
      "[('s', 'http://www.wikidata.org/prop/direct/P6379'), ('sname', 'has works in the collection'), ('p', 'http://www.wikidata.org/entity/Q1421440'), ('pname', 'Fitzwilliam Museum')]\n",
      "[('s', 'http://www.wikidata.org/prop/direct/P6379'), ('sname', 'has works in the collection'), ('p', 'http://www.wikidata.org/entity/Q4819492'), ('pname', 'Auckland Art Gallery')]\n",
      "[('s', 'http://www.wikidata.org/prop/direct/P6379'), ('sname', 'has works in the collection'), ('p', 'http://www.wikidata.org/entity/Q1416890'), ('pname', 'Fine Arts Museums of San Francisco')]\n",
      "[('s', 'http://www.wikidata.org/prop/direct/P6379'), ('sname', 'has works in the collection'), ('p', 'http://www.wikidata.org/entity/Q239303'), ('pname', 'Art Institute of Chicago')]\n",
      "[('s', 'http://www.wikidata.org/prop/direct/P6379'), ('sname', 'has works in the collection'), ('p', 'http://www.wikidata.org/entity/Q2148186'), ('pname', 'Rhode Island School of Design Museum')]\n",
      "[('s', 'http://www.wikidata.org/prop/direct/P6379'), ('sname', 'has works in the collection'), ('p', 'http://www.wikidata.org/entity/Q214867'), ('pname', 'National Gallery of Art')]\n",
      "[('s', 'http://www.wikidata.org/prop/direct/P6379'), ('sname', 'has works in the collection'), ('p', 'http://www.wikidata.org/entity/Q842858'), ('pname', 'Nationalmuseum')]\n",
      "[('s', 'http://www.wikidata.org/prop/direct/P6379'), ('sname', 'has works in the collection'), ('p', 'http://www.wikidata.org/entity/Q105027234'), ('pname', 'Print Collection of The New York Public Library')]\n",
      "[('s', 'http://www.wikidata.org/prop/direct/P6379'), ('sname', 'has works in the collection'), ('p', 'http://www.wikidata.org/entity/Q1519002'), ('pname', 'Fabre museum')]\n",
      "[('s', 'http://www.wikidata.org/prop/direct/P6379'), ('sname', 'has works in the collection'), ('p', 'http://www.wikidata.org/entity/Q1700481'), ('pname', 'Minneapolis Institute of Art')]\n",
      "[('s', 'http://www.wikidata.org/prop/direct/P6379'), ('sname', 'has works in the collection'), ('p', 'http://www.wikidata.org/entity/Q59546080'), ('pname', 'Musée des Beaux-Arts de la ville de Paris')]\n",
      "[('s', 'http://www.wikidata.org/prop/direct/P69'), ('sname', 'educated at'), ('p', 'http://www.wikidata.org/entity/Q2983698'), ('pname', 'Collège Stanislas de Paris')]\n",
      "[('s', 'http://www.wikidata.org/prop/direct/P69'), ('sname', 'educated at'), ('p', 'http://www.wikidata.org/entity/Q273593'), ('pname', 'Beaux-Arts de Paris')]\n",
      "[('s', 'http://www.wikidata.org/prop/direct/P734'), ('sname', 'family name'), ('p', 'http://www.wikidata.org/entity/Q98475193'), ('pname', 'Desboutin')]\n",
      "[('s', 'http://www.wikidata.org/prop/direct/P735'), ('sname', 'given name'), ('p', 'http://www.wikidata.org/entity/Q19688695'), ('pname', 'Marcellin')]\n",
      "[('s', 'http://www.wikidata.org/prop/direct/P7763'), ('sname', 'copyright status as a creator'), ('p', 'http://www.wikidata.org/entity/Q71887839'), ('pname', 'copyrights on works have expired')]\n",
      "[('s', 'http://www.wikidata.org/prop/direct/P800'), ('sname', 'notable work'), ('p', 'http://www.wikidata.org/entity/Q17492504'), ('pname', 'The Baby Carriage')]\n",
      "[('s', 'http://www.wikidata.org/prop/direct/P9493'), ('sname', 'artist files at'), ('p', 'http://www.wikidata.org/entity/Q5503390'), ('pname', 'Frick Art Reference Library')]\n"
     ]
    },
    {
     "data": {
      "text/plain": [
       "36"
      ]
     },
     "execution_count": 9,
     "metadata": {},
     "output_type": "execute_result"
    }
   ],
   "source": [
    "#Q1596281 Marcellin Desboutin\n",
    "\n",
    "queryString = \"\"\"\n",
    "SELECT ?s ?sname ?p ?pname \n",
    "WHERE { \n",
    "    wd:Q1596281 ?s ?p .\n",
    "    ?p <http://schema.org/name> ?pname .\n",
    "    ?s <http://schema.org/name> ?sname .\n",
    "} \n",
    "LIMIT 50\n",
    "\"\"\"\n",
    "print(\"Results\")\n",
    "run_query(queryString)"
   ]
  },
  {
   "cell_type": "code",
   "execution_count": 10,
   "id": "1b4dfdd1-8a47-4c4b-b2e7-bec3f35c489b",
   "metadata": {},
   "outputs": [
    {
     "name": "stdout",
     "output_type": "stream",
     "text": [
      "Results\n",
      "[('p', 'http://www.wikidata.org/entity/Q17492504'), ('pname', 'The Baby Carriage')]\n"
     ]
    },
    {
     "data": {
      "text/plain": [
       "1"
      ]
     },
     "execution_count": 10,
     "metadata": {},
     "output_type": "execute_result"
    }
   ],
   "source": [
    "#Q1596281 Marcellin Desboutin\n",
    "\n",
    "queryString = \"\"\"\n",
    "SELECT ?p ?pname \n",
    "WHERE { \n",
    "    wd:Q1596281 wdt:P800 ?p .\n",
    "    ?p <http://schema.org/name> ?pname .\n",
    "\n",
    "} \n",
    "LIMIT 50\n",
    "\"\"\"\n",
    "print(\"Results\")\n",
    "run_query(queryString)"
   ]
  },
  {
   "cell_type": "code",
   "execution_count": 11,
   "id": "a0ee7ef0-5578-45c9-9b5d-9f66e06b7d96",
   "metadata": {},
   "outputs": [
    {
     "name": "stdout",
     "output_type": "stream",
     "text": [
      "Results\n",
      "[('s', 'http://www.wikidata.org/prop/direct/P301'), ('sname', \"category's main topic\"), ('p', 'http://www.wikidata.org/entity/Q523039'), ('pname', 'André Theuriet')]\n",
      "[('s', 'http://www.wikidata.org/prop/direct/P31'), ('sname', 'instance of'), ('p', 'http://www.wikidata.org/entity/Q4167836'), ('pname', 'Wikimedia category')]\n"
     ]
    },
    {
     "data": {
      "text/plain": [
       "2"
      ]
     },
     "execution_count": 11,
     "metadata": {},
     "output_type": "execute_result"
    }
   ],
   "source": [
    "# Category:André Theuriet Q15891399\n",
    "# search for book property in another author node\n",
    "queryString = \"\"\"\n",
    "SELECT ?s ?sname ?p ?pname \n",
    "WHERE { \n",
    "    wd:Q15891399 ?s ?p .\n",
    "    ?p <http://schema.org/name> ?pname .\n",
    "    ?s <http://schema.org/name> ?sname .\n",
    "} \n",
    "LIMIT 50\n",
    "\"\"\"\n",
    "print(\"Results\")\n",
    "run_query(queryString)\n"
   ]
  },
  {
   "cell_type": "code",
   "execution_count": 12,
   "id": "0644212a-8445-414d-9bda-cbab9a0c7b4f",
   "metadata": {},
   "outputs": [
    {
     "name": "stdout",
     "output_type": "stream",
     "text": [
      "Results\n",
      "[('s', 'http://www.wikidata.org/entity/Q523039'), ('sname', 'André Theuriet'), ('p', 'http://www.wikidata.org/prop/direct/P910'), ('pname', \"topic's main category\")]\n"
     ]
    },
    {
     "data": {
      "text/plain": [
       "1"
      ]
     },
     "execution_count": 12,
     "metadata": {},
     "output_type": "execute_result"
    }
   ],
   "source": [
    "# Category:André Theuriet Q15891399\n",
    "\n",
    "queryString = \"\"\"\n",
    "SELECT ?s ?sname ?p ?pname \n",
    "WHERE { \n",
    "    ?s ?p wd:Q15891399 .\n",
    "    ?p <http://schema.org/name> ?pname .\n",
    "    ?s <http://schema.org/name> ?sname .\n",
    "} \n",
    "LIMIT 50\n",
    "\"\"\"\n",
    "print(\"Results\")\n",
    "run_query(queryString)"
   ]
  },
  {
   "cell_type": "code",
   "execution_count": 13,
   "id": "ad1ead8a-4f59-462b-836e-855a761b11b4",
   "metadata": {},
   "outputs": [
    {
     "name": "stdout",
     "output_type": "stream",
     "text": [
      "Results\n",
      "[('s', 'http://www.wikidata.org/prop/direct/P103'), ('sname', 'native language'), ('p', 'http://www.wikidata.org/entity/Q150'), ('pname', 'French')]\n",
      "[('s', 'http://www.wikidata.org/prop/direct/P106'), ('sname', 'occupation'), ('p', 'http://www.wikidata.org/entity/Q49757'), ('pname', 'poet')]\n",
      "[('s', 'http://www.wikidata.org/prop/direct/P106'), ('sname', 'occupation'), ('p', 'http://www.wikidata.org/entity/Q6625963'), ('pname', 'novelist')]\n",
      "[('s', 'http://www.wikidata.org/prop/direct/P106'), ('sname', 'occupation'), ('p', 'http://www.wikidata.org/entity/Q214917'), ('pname', 'playwright')]\n",
      "[('s', 'http://www.wikidata.org/prop/direct/P106'), ('sname', 'occupation'), ('p', 'http://www.wikidata.org/entity/Q36180'), ('pname', 'writer')]\n",
      "[('s', 'http://www.wikidata.org/prop/direct/P119'), ('sname', 'place of burial'), ('p', 'http://www.wikidata.org/entity/Q42554963'), ('pname', 'Cimetière de Bourg-la-Reine')]\n",
      "[('s', 'http://www.wikidata.org/prop/direct/P1343'), ('sname', 'described by source'), ('p', 'http://www.wikidata.org/entity/Q678259'), ('pname', 'Nordisk familjebok')]\n",
      "[('s', 'http://www.wikidata.org/prop/direct/P1343'), ('sname', 'described by source'), ('p', 'http://www.wikidata.org/entity/Q867541'), ('pname', 'Encyclopædia Britannica 11th edition')]\n",
      "[('s', 'http://www.wikidata.org/prop/direct/P1343'), ('sname', 'described by source'), ('p', 'http://www.wikidata.org/entity/Q602358'), ('pname', 'Brockhaus and Efron Encyclopedic Dictionary')]\n",
      "[('s', 'http://www.wikidata.org/prop/direct/P1343'), ('sname', 'described by source'), ('p', 'http://www.wikidata.org/entity/Q67311526'), ('pname', 'Obalky knih.cz')]\n",
      "[('s', 'http://www.wikidata.org/prop/direct/P1412'), ('sname', 'languages spoken, written or signed'), ('p', 'http://www.wikidata.org/entity/Q150'), ('pname', 'French')]\n",
      "[('s', 'http://www.wikidata.org/prop/direct/P166'), ('sname', 'award received'), ('p', 'http://www.wikidata.org/entity/Q28053684'), ('pname', 'prize Maillé Latour Landry')]\n",
      "[('s', 'http://www.wikidata.org/prop/direct/P166'), ('sname', 'award received'), ('p', 'http://www.wikidata.org/entity/Q10855195'), ('pname', 'Officer of the Legion of Honour')]\n",
      "[('s', 'http://www.wikidata.org/prop/direct/P166'), ('sname', 'award received'), ('p', 'http://www.wikidata.org/entity/Q18018029'), ('pname', 'Vitet Prize')]\n",
      "[('s', 'http://www.wikidata.org/prop/direct/P166'), ('sname', 'award received'), ('p', 'http://www.wikidata.org/entity/Q372160'), ('pname', 'Montyon Prizes')]\n",
      "[('s', 'http://www.wikidata.org/prop/direct/P166'), ('sname', 'award received'), ('p', 'http://www.wikidata.org/entity/Q10855271'), ('pname', 'Knight of the Legion of Honour')]\n",
      "[('s', 'http://www.wikidata.org/prop/direct/P172'), ('sname', 'ethnic group'), ('p', 'http://www.wikidata.org/entity/Q121842'), ('pname', 'French')]\n",
      "[('s', 'http://www.wikidata.org/prop/direct/P19'), ('sname', 'place of birth'), ('p', 'http://www.wikidata.org/entity/Q656505'), ('pname', 'Marly-le-Roi')]\n",
      "[('s', 'http://www.wikidata.org/prop/direct/P20'), ('sname', 'place of death'), ('p', 'http://www.wikidata.org/entity/Q249852'), ('pname', 'Bourg-la-Reine')]\n",
      "[('s', 'http://www.wikidata.org/prop/direct/P21'), ('sname', 'sex or gender'), ('p', 'http://www.wikidata.org/entity/Q6581097'), ('pname', 'male')]\n",
      "[('s', 'http://www.wikidata.org/prop/direct/P27'), ('sname', 'country of citizenship'), ('p', 'http://www.wikidata.org/entity/Q142'), ('pname', 'France')]\n",
      "[('s', 'http://www.wikidata.org/prop/direct/P31'), ('sname', 'instance of'), ('p', 'http://www.wikidata.org/entity/Q5'), ('pname', 'human')]\n",
      "[('s', 'http://www.wikidata.org/prop/direct/P39'), ('sname', 'position held'), ('p', 'http://www.wikidata.org/entity/Q1255921'), ('pname', 'president')]\n",
      "[('s', 'http://www.wikidata.org/prop/direct/P39'), ('sname', 'position held'), ('p', 'http://www.wikidata.org/entity/Q70495940'), ('pname', 'Vice Chair of the French Academy')]\n",
      "[('s', 'http://www.wikidata.org/prop/direct/P463'), ('sname', 'member of'), ('p', 'http://www.wikidata.org/entity/Q322775'), ('pname', 'Académie de Stanislas')]\n",
      "[('s', 'http://www.wikidata.org/prop/direct/P463'), ('sname', 'member of'), ('p', 'http://www.wikidata.org/entity/Q604840'), ('pname', 'Ligue de la Patrie Française\\u200f')]\n",
      "[('s', 'http://www.wikidata.org/prop/direct/P463'), ('sname', 'member of'), ('p', 'http://www.wikidata.org/entity/Q161806'), ('pname', 'Académie Française')]\n",
      "[('s', 'http://www.wikidata.org/prop/direct/P509'), ('sname', 'cause of death'), ('p', 'http://www.wikidata.org/entity/Q188874'), ('pname', 'colorectal cancer')]\n",
      "[('s', 'http://www.wikidata.org/prop/direct/P6886'), ('sname', 'writing language'), ('p', 'http://www.wikidata.org/entity/Q150'), ('pname', 'French')]\n",
      "[('s', 'http://www.wikidata.org/prop/direct/P735'), ('sname', 'given name'), ('p', 'http://www.wikidata.org/entity/Q6298851'), ('pname', 'André')]\n",
      "[('s', 'http://www.wikidata.org/prop/direct/P7763'), ('sname', 'copyright status as a creator'), ('p', 'http://www.wikidata.org/entity/Q71887839'), ('pname', 'copyrights on works have expired')]\n",
      "[('s', 'http://www.wikidata.org/prop/direct/P910'), ('sname', \"topic's main category\"), ('p', 'http://www.wikidata.org/entity/Q15891399'), ('pname', 'Category:André Theuriet')]\n"
     ]
    },
    {
     "data": {
      "text/plain": [
       "32"
      ]
     },
     "execution_count": 13,
     "metadata": {},
     "output_type": "execute_result"
    }
   ],
   "source": [
    "# André Theuriet Q523039\n",
    "\n",
    "queryString = \"\"\"\n",
    "SELECT ?s ?sname ?p ?pname \n",
    "WHERE { \n",
    "    wd:Q523039 ?s ?p .\n",
    "    ?p <http://schema.org/name> ?pname .\n",
    "    ?s <http://schema.org/name> ?sname .\n",
    "} \n",
    "LIMIT 50\n",
    "\"\"\"\n",
    "print(\"Results\")\n",
    "run_query(queryString)\n"
   ]
  },
  {
   "cell_type": "code",
   "execution_count": 14,
   "id": "38344c3c-f687-414e-b7f5-b9efa58ddd0b",
   "metadata": {},
   "outputs": [
    {
     "name": "stdout",
     "output_type": "stream",
     "text": [
      "Results\n",
      "[('s', 'http://www.wikidata.org/entity/Q15891399'), ('sname', 'Category:André Theuriet'), ('p', 'http://www.wikidata.org/prop/direct/P301'), ('pname', \"category's main topic\")]\n",
      "[('s', 'http://www.wikidata.org/entity/Q70495940'), ('sname', 'Vice Chair of the French Academy'), ('p', 'http://www.wikidata.org/prop/direct/P1308'), ('pname', 'officeholder')]\n",
      "[('s', 'http://www.wikidata.org/entity/Q3446959'), ('sname', 'rue André-Theuriet'), ('p', 'http://www.wikidata.org/prop/direct/P138'), ('pname', 'named after')]\n",
      "[('s', 'http://www.wikidata.org/entity/Q17360541'), ('sname', 'Odes et Chansons'), ('p', 'http://www.wikidata.org/prop/direct/P50'), ('pname', 'author')]\n",
      "[('s', 'http://www.wikidata.org/entity/Q17360543'), ('sname', 'Portrait'), ('p', 'http://www.wikidata.org/prop/direct/P50'), ('pname', 'author')]\n",
      "[('s', 'http://www.wikidata.org/entity/Q17360544'), ('sname', 'La Ferme au fond des bois'), ('p', 'http://www.wikidata.org/prop/direct/P50'), ('pname', 'author')]\n",
      "[('s', 'http://www.wikidata.org/entity/Q17360545'), ('sname', 'Horrida Bella'), ('p', 'http://www.wikidata.org/prop/direct/P50'), ('pname', 'author')]\n",
      "[('s', 'http://www.wikidata.org/entity/Q102067529'), ('sname', 'Le mariage de Gerard'), ('p', 'http://www.wikidata.org/prop/direct/P50'), ('pname', 'author')]\n",
      "[('s', 'http://www.wikidata.org/entity/Q105266480'), ('sname', 'Le mariage de Gerard'), ('p', 'http://www.wikidata.org/prop/direct/P50'), ('pname', 'author')]\n",
      "[('s', 'http://www.wikidata.org/entity/Q96634446'), ('sname', \"Les Roses cultivées à L'Haÿ en 1902\"), ('p', 'http://www.wikidata.org/prop/direct/P825'), ('pname', 'dedicated to')]\n",
      "[('s', 'http://www.wikidata.org/entity/Q96634446'), ('sname', \"Les Roses cultivées à L'Haÿ en 1902\"), ('p', 'http://www.wikidata.org/prop/direct/P2679'), ('pname', 'author of foreword')]\n",
      "[('s', 'http://www.wikidata.org/entity/Q101111403'), ('sname', \"Amour d'automne\"), ('p', 'http://www.wikidata.org/prop/direct/P50'), ('pname', 'author')]\n",
      "[('s', 'http://www.wikidata.org/entity/Q105104167'), ('sname', \"Amour d'automne\"), ('p', 'http://www.wikidata.org/prop/direct/P50'), ('pname', 'author')]\n",
      "[('s', 'http://www.wikidata.org/entity/Q17360542'), ('sname', 'L’Alouette'), ('p', 'http://www.wikidata.org/prop/direct/P50'), ('pname', 'author')]\n",
      "[('s', 'http://www.wikidata.org/entity/Q102045895'), ('sname', 'Lucile Desenclos: une ondine'), ('p', 'http://www.wikidata.org/prop/direct/P50'), ('pname', 'author')]\n",
      "[('s', 'http://www.wikidata.org/entity/Q105267909'), ('sname', 'Lucile Desenclos: une ondine'), ('p', 'http://www.wikidata.org/prop/direct/P50'), ('pname', 'author')]\n",
      "[('s', 'http://www.wikidata.org/entity/Q105266511'), ('sname', \"Lewis et Irene / Dingley l'illustre écrivain / Jérome et Jean / Henriette / L'oncle Scipion\"), ('p', 'http://www.wikidata.org/prop/direct/P50'), ('pname', 'author')]\n",
      "[('s', 'http://www.wikidata.org/entity/Q84668361'), ('sname', 'Theuriet, Claude Adhémar André'), ('p', 'http://www.wikidata.org/prop/direct/P921'), ('pname', 'main subject')]\n",
      "[('s', 'http://www.wikidata.org/entity/Q102391631'), ('sname', \"Lewis et Irene / Dingley l'illustre écrivain / Jérome et Jean / Henriette / L'oncle Scipion\"), ('p', 'http://www.wikidata.org/prop/direct/P50'), ('pname', 'author')]\n"
     ]
    },
    {
     "data": {
      "text/plain": [
       "19"
      ]
     },
     "execution_count": 14,
     "metadata": {},
     "output_type": "execute_result"
    }
   ],
   "source": [
    "# André Theuriet Q523039\n",
    "\n",
    "queryString = \"\"\"\n",
    "SELECT ?s ?sname ?p ?pname \n",
    "WHERE { \n",
    "    ?s ?p wd:Q523039 .\n",
    "    ?p <http://schema.org/name> ?pname .\n",
    "    ?s <http://schema.org/name> ?sname .\n",
    "} \n",
    "LIMIT 50\n",
    "\"\"\"\n",
    "print(\"Results\")\n",
    "run_query(queryString)\n"
   ]
  },
  {
   "cell_type": "code",
   "execution_count": 15,
   "id": "8dadbf24-753e-450b-ae74-c0ac5a037d49",
   "metadata": {},
   "outputs": [
    {
     "name": "stdout",
     "output_type": "stream",
     "text": [
      "Results\n",
      "[('s', 'http://www.wikidata.org/entity/Q17360541'), ('sname', 'Odes et Chansons')]\n",
      "[('s', 'http://www.wikidata.org/entity/Q17360543'), ('sname', 'Portrait')]\n",
      "[('s', 'http://www.wikidata.org/entity/Q17360544'), ('sname', 'La Ferme au fond des bois')]\n",
      "[('s', 'http://www.wikidata.org/entity/Q17360545'), ('sname', 'Horrida Bella')]\n",
      "[('s', 'http://www.wikidata.org/entity/Q102067529'), ('sname', 'Le mariage de Gerard')]\n",
      "[('s', 'http://www.wikidata.org/entity/Q105266480'), ('sname', 'Le mariage de Gerard')]\n",
      "[('s', 'http://www.wikidata.org/entity/Q101111403'), ('sname', \"Amour d'automne\")]\n",
      "[('s', 'http://www.wikidata.org/entity/Q105104167'), ('sname', \"Amour d'automne\")]\n",
      "[('s', 'http://www.wikidata.org/entity/Q17360542'), ('sname', 'L’Alouette')]\n",
      "[('s', 'http://www.wikidata.org/entity/Q102045895'), ('sname', 'Lucile Desenclos: une ondine')]\n",
      "[('s', 'http://www.wikidata.org/entity/Q105267909'), ('sname', 'Lucile Desenclos: une ondine')]\n",
      "[('s', 'http://www.wikidata.org/entity/Q105266511'), ('sname', \"Lewis et Irene / Dingley l'illustre écrivain / Jérome et Jean / Henriette / L'oncle Scipion\")]\n",
      "[('s', 'http://www.wikidata.org/entity/Q102391631'), ('sname', \"Lewis et Irene / Dingley l'illustre écrivain / Jérome et Jean / Henriette / L'oncle Scipion\")]\n"
     ]
    },
    {
     "data": {
      "text/plain": [
       "13"
      ]
     },
     "execution_count": 15,
     "metadata": {},
     "output_type": "execute_result"
    }
   ],
   "source": [
    "# André Theuriet Q523039\n",
    "# showing the books of this writer\n",
    "queryString = \"\"\"\n",
    "SELECT ?s ?sname \n",
    "WHERE { \n",
    "    ?s wdt:P50 wd:Q523039 .\n",
    "    ?s <http://schema.org/name> ?sname .\n",
    "} \n",
    "LIMIT 100\n",
    "\"\"\"\n",
    "print(\"Results\")\n",
    "run_query(queryString)"
   ]
  },
  {
   "cell_type": "code",
   "execution_count": 16,
   "id": "f669c169-fca1-41c0-934d-9d50ba58434f",
   "metadata": {},
   "outputs": [
    {
     "name": "stdout",
     "output_type": "stream",
     "text": [
      "Results\n",
      "[('s', 'http://www.wikidata.org/prop/direct/P123'), ('sname', 'publisher'), ('p', 'http://www.wikidata.org/entity/Q3117417'), ('pname', 'Groupe Flammarion')]\n",
      "[('s', 'http://www.wikidata.org/prop/direct/P291'), ('sname', 'place of publication'), ('p', 'http://www.wikidata.org/entity/Q90'), ('pname', 'Paris')]\n",
      "[('s', 'http://www.wikidata.org/prop/direct/P31'), ('sname', 'instance of'), ('p', 'http://www.wikidata.org/entity/Q3331189'), ('pname', 'version, edition, or translation')]\n",
      "[('s', 'http://www.wikidata.org/prop/direct/P407'), ('sname', 'language of work or name'), ('p', 'http://www.wikidata.org/entity/Q150'), ('pname', 'French')]\n",
      "[('s', 'http://www.wikidata.org/prop/direct/P50'), ('sname', 'author'), ('p', 'http://www.wikidata.org/entity/Q523039'), ('pname', 'André Theuriet')]\n"
     ]
    },
    {
     "data": {
      "text/plain": [
       "5"
      ]
     },
     "execution_count": 16,
     "metadata": {},
     "output_type": "execute_result"
    }
   ],
   "source": [
    "# date\n",
    "# Le mariage de Gerard Q105266480\n",
    "\n",
    "queryString = \"\"\"\n",
    "SELECT ?s ?sname ?p ?pname\n",
    "WHERE { \n",
    "    wd:Q105266480 ?s ?p .\n",
    "    ?p <http://schema.org/name> ?pname .\n",
    "    ?s <http://schema.org/name> ?sname .\n",
    "} \n",
    "\n",
    "\"\"\"\n",
    "print(\"Results\")\n",
    "run_query(queryString)"
   ]
  },
  {
   "cell_type": "code",
   "execution_count": 17,
   "id": "cc032140-e1bd-443b-b4d8-0e93efeebe25",
   "metadata": {},
   "outputs": [
    {
     "name": "stdout",
     "output_type": "stream",
     "text": [
      "Results\n",
      "[('p', 'http://www.wikidata.org/prop/direct/P1269'), ('o', 'http://www.wikidata.org/entity/Q16388'), ('oname', 'Functional Requirements for Bibliographic Records'), ('pname', 'facet of')]\n",
      "[('p', 'http://www.wikidata.org/prop/direct/P1382'), ('o', 'http://www.wikidata.org/entity/Q15994174'), ('oname', 'Fassung'), ('pname', 'partially coincident with')]\n",
      "[('p', 'http://www.wikidata.org/prop/direct/P1424'), ('o', 'http://www.wikidata.org/entity/Q5858283'), ('oname', 'Template:Infobox book'), ('pname', \"topic's main template\")]\n",
      "[('p', 'http://www.wikidata.org/prop/direct/P1687'), ('o', 'http://www.wikidata.org/entity/P629'), ('oname', 'edition or translation of'), ('pname', 'Wikidata property')]\n",
      "[('p', 'http://www.wikidata.org/prop/direct/P1687'), ('o', 'http://www.wikidata.org/entity/P747'), ('oname', 'has edition or translation'), ('pname', 'Wikidata property')]\n",
      "[('p', 'http://www.wikidata.org/prop/direct/P1889'), ('o', 'http://www.wikidata.org/entity/Q571'), ('oname', 'book'), ('pname', 'different from')]\n",
      "[('p', 'http://www.wikidata.org/prop/direct/P1889'), ('o', 'http://www.wikidata.org/entity/Q362347'), ('oname', 'output'), ('pname', 'different from')]\n",
      "[('p', 'http://www.wikidata.org/prop/direct/P1889'), ('o', 'http://www.wikidata.org/entity/Q1341283'), ('oname', 'special edition'), ('pname', 'different from')]\n",
      "[('p', 'http://www.wikidata.org/prop/direct/P1889'), ('o', 'http://www.wikidata.org/entity/Q778569'), ('oname', 'output'), ('pname', 'different from')]\n",
      "[('p', 'http://www.wikidata.org/prop/direct/P1889'), ('o', 'http://www.wikidata.org/entity/Q47461344'), ('oname', 'written work'), ('pname', 'different from')]\n",
      "[('p', 'http://www.wikidata.org/prop/direct/P1889'), ('o', 'http://www.wikidata.org/entity/Q397239'), ('oname', 'edition'), ('pname', 'different from')]\n",
      "[('p', 'http://www.wikidata.org/prop/direct/P1963'), ('o', 'http://www.wikidata.org/entity/P179'), ('oname', 'part of the series'), ('pname', 'properties for this type')]\n",
      "[('p', 'http://www.wikidata.org/prop/direct/P1963'), ('o', 'http://www.wikidata.org/entity/P2680'), ('oname', 'author of afterword'), ('pname', 'properties for this type')]\n",
      "[('p', 'http://www.wikidata.org/prop/direct/P1963'), ('o', 'http://www.wikidata.org/entity/P437'), ('oname', 'distribution format'), ('pname', 'properties for this type')]\n",
      "[('p', 'http://www.wikidata.org/prop/direct/P1963'), ('o', 'http://www.wikidata.org/entity/P872'), ('oname', 'printed by'), ('pname', 'properties for this type')]\n",
      "[('p', 'http://www.wikidata.org/prop/direct/P1963'), ('o', 'http://www.wikidata.org/entity/P577'), ('oname', 'publication date'), ('pname', 'properties for this type')]\n",
      "[('p', 'http://www.wikidata.org/prop/direct/P1963'), ('o', 'http://www.wikidata.org/entity/P1104'), ('oname', 'number of pages'), ('pname', 'properties for this type')]\n",
      "[('p', 'http://www.wikidata.org/prop/direct/P1963'), ('o', 'http://www.wikidata.org/entity/P655'), ('oname', 'translator'), ('pname', 'properties for this type')]\n",
      "[('p', 'http://www.wikidata.org/prop/direct/P1963'), ('o', 'http://www.wikidata.org/entity/P767'), ('oname', 'contributor to the creative work or subject'), ('pname', 'properties for this type')]\n",
      "[('p', 'http://www.wikidata.org/prop/direct/P1963'), ('o', 'http://www.wikidata.org/entity/P3184'), ('oname', 'Czech National Bibliography book ID'), ('pname', 'properties for this type')]\n",
      "[('p', 'http://www.wikidata.org/prop/direct/P1963'), ('o', 'http://www.wikidata.org/entity/P957'), ('oname', 'ISBN-10'), ('pname', 'properties for this type')]\n",
      "[('p', 'http://www.wikidata.org/prop/direct/P1963'), ('o', 'http://www.wikidata.org/entity/P629'), ('oname', 'edition or translation of'), ('pname', 'properties for this type')]\n",
      "[('p', 'http://www.wikidata.org/prop/direct/P1963'), ('o', 'http://www.wikidata.org/entity/P393'), ('oname', 'edition number'), ('pname', 'properties for this type')]\n",
      "[('p', 'http://www.wikidata.org/prop/direct/P1963'), ('o', 'http://www.wikidata.org/entity/P1957'), ('oname', 'Wikisource index page URL'), ('pname', 'properties for this type')]\n",
      "[('p', 'http://www.wikidata.org/prop/direct/P1963'), ('o', 'http://www.wikidata.org/entity/P2679'), ('oname', 'author of foreword'), ('pname', 'properties for this type')]\n",
      "[('p', 'http://www.wikidata.org/prop/direct/P1963'), ('o', 'http://www.wikidata.org/entity/P675'), ('oname', 'Google Books ID'), ('pname', 'properties for this type')]\n",
      "[('p', 'http://www.wikidata.org/prop/direct/P1963'), ('o', 'http://www.wikidata.org/entity/P212'), ('oname', 'ISBN-13'), ('pname', 'properties for this type')]\n",
      "[('p', 'http://www.wikidata.org/prop/direct/P1963'), ('o', 'http://www.wikidata.org/entity/P1575'), ('oname', 'RISS catalog'), ('pname', 'properties for this type')]\n",
      "[('p', 'http://www.wikidata.org/prop/direct/P1963'), ('o', 'http://www.wikidata.org/entity/P110'), ('oname', 'illustrator'), ('pname', 'properties for this type')]\n",
      "[('p', 'http://www.wikidata.org/prop/direct/P1963'), ('o', 'http://www.wikidata.org/entity/P123'), ('oname', 'publisher'), ('pname', 'properties for this type')]\n",
      "[('p', 'http://www.wikidata.org/prop/direct/P1963'), ('o', 'http://www.wikidata.org/entity/P996'), ('oname', 'document file on Wikimedia Commons'), ('pname', 'properties for this type')]\n",
      "[('p', 'http://www.wikidata.org/prop/direct/P1963'), ('o', 'http://www.wikidata.org/entity/P291'), ('oname', 'place of publication'), ('pname', 'properties for this type')]\n",
      "[('p', 'http://www.wikidata.org/prop/direct/P2579'), ('o', 'http://www.wikidata.org/entity/Q1285373'), ('oname', 'edition philology'), ('pname', 'studied by')]\n",
      "[('p', 'http://www.wikidata.org/prop/direct/P279'), ('o', 'http://www.wikidata.org/entity/Q286583'), ('oname', 'manifestation'), ('pname', 'subclass of')]\n",
      "[('p', 'http://www.wikidata.org/prop/direct/P279'), ('o', 'http://www.wikidata.org/entity/Q732577'), ('oname', 'publication'), ('pname', 'subclass of')]\n",
      "[('p', 'http://www.wikidata.org/prop/direct/P279'), ('o', 'http://www.wikidata.org/entity/Q386724'), ('oname', 'work'), ('pname', 'subclass of')]\n",
      "[('p', 'http://www.wikidata.org/prop/direct/P31'), ('o', 'http://www.wikidata.org/entity/Q24017414'), ('oname', 'second-order class'), ('pname', 'instance of')]\n",
      "[('p', 'http://www.wikidata.org/prop/direct/P31'), ('o', 'http://www.wikidata.org/entity/Q11723795'), ('oname', 'piece'), ('pname', 'instance of')]\n"
     ]
    },
    {
     "data": {
      "text/plain": [
       "38"
      ]
     },
     "execution_count": 17,
     "metadata": {},
     "output_type": "execute_result"
    }
   ],
   "source": [
    "### searching for it's publication date\n",
    "# Le mariage de Gerard Q105266480\n",
    "# version, edition, or translation Q3331189\n",
    "queryString = \"\"\"\n",
    "SELECT *\n",
    "WHERE { \n",
    "    wd:Q3331189 ?p ?o .\n",
    "    ?o <http://schema.org/name> ?oname .\n",
    "    ?p <http://schema.org/name> ?pname .\n",
    "} \n",
    "\n",
    "\"\"\"\n",
    "print(\"Results\")\n",
    "run_query(queryString)"
   ]
  },
  {
   "cell_type": "code",
   "execution_count": 18,
   "id": "3ed037fb-78dd-4975-8f1b-d6174639c97d",
   "metadata": {},
   "outputs": [
    {
     "name": "stdout",
     "output_type": "stream",
     "text": [
      "Results\n",
      "[('p', 'http://www.wikidata.org/prop/direct/P1269'), ('o', 'http://www.wikidata.org/entity/Q16388'), ('oname', 'Functional Requirements for Bibliographic Records'), ('pname', 'facet of')]\n",
      "[('p', 'http://www.wikidata.org/prop/direct/P1382'), ('o', 'http://www.wikidata.org/entity/Q15994174'), ('oname', 'Fassung'), ('pname', 'partially coincident with')]\n",
      "[('p', 'http://www.wikidata.org/prop/direct/P1424'), ('o', 'http://www.wikidata.org/entity/Q5858283'), ('oname', 'Template:Infobox book'), ('pname', \"topic's main template\")]\n",
      "[('p', 'http://www.wikidata.org/prop/direct/P1687'), ('o', 'http://www.wikidata.org/entity/P629'), ('oname', 'edition or translation of'), ('pname', 'Wikidata property')]\n",
      "[('p', 'http://www.wikidata.org/prop/direct/P1687'), ('o', 'http://www.wikidata.org/entity/P747'), ('oname', 'has edition or translation'), ('pname', 'Wikidata property')]\n",
      "[('p', 'http://www.wikidata.org/prop/direct/P1889'), ('o', 'http://www.wikidata.org/entity/Q571'), ('oname', 'book'), ('pname', 'different from')]\n",
      "[('p', 'http://www.wikidata.org/prop/direct/P1889'), ('o', 'http://www.wikidata.org/entity/Q362347'), ('oname', 'output'), ('pname', 'different from')]\n",
      "[('p', 'http://www.wikidata.org/prop/direct/P1889'), ('o', 'http://www.wikidata.org/entity/Q1341283'), ('oname', 'special edition'), ('pname', 'different from')]\n",
      "[('p', 'http://www.wikidata.org/prop/direct/P1889'), ('o', 'http://www.wikidata.org/entity/Q778569'), ('oname', 'output'), ('pname', 'different from')]\n",
      "[('p', 'http://www.wikidata.org/prop/direct/P1889'), ('o', 'http://www.wikidata.org/entity/Q47461344'), ('oname', 'written work'), ('pname', 'different from')]\n",
      "[('p', 'http://www.wikidata.org/prop/direct/P1889'), ('o', 'http://www.wikidata.org/entity/Q397239'), ('oname', 'edition'), ('pname', 'different from')]\n",
      "[('p', 'http://www.wikidata.org/prop/direct/P1963'), ('o', 'http://www.wikidata.org/entity/P179'), ('oname', 'part of the series'), ('pname', 'properties for this type')]\n",
      "[('p', 'http://www.wikidata.org/prop/direct/P1963'), ('o', 'http://www.wikidata.org/entity/P2680'), ('oname', 'author of afterword'), ('pname', 'properties for this type')]\n",
      "[('p', 'http://www.wikidata.org/prop/direct/P1963'), ('o', 'http://www.wikidata.org/entity/P437'), ('oname', 'distribution format'), ('pname', 'properties for this type')]\n",
      "[('p', 'http://www.wikidata.org/prop/direct/P1963'), ('o', 'http://www.wikidata.org/entity/P872'), ('oname', 'printed by'), ('pname', 'properties for this type')]\n",
      "[('p', 'http://www.wikidata.org/prop/direct/P1963'), ('o', 'http://www.wikidata.org/entity/P577'), ('oname', 'publication date'), ('pname', 'properties for this type')]\n",
      "[('p', 'http://www.wikidata.org/prop/direct/P1963'), ('o', 'http://www.wikidata.org/entity/P1104'), ('oname', 'number of pages'), ('pname', 'properties for this type')]\n",
      "[('p', 'http://www.wikidata.org/prop/direct/P1963'), ('o', 'http://www.wikidata.org/entity/P655'), ('oname', 'translator'), ('pname', 'properties for this type')]\n",
      "[('p', 'http://www.wikidata.org/prop/direct/P1963'), ('o', 'http://www.wikidata.org/entity/P767'), ('oname', 'contributor to the creative work or subject'), ('pname', 'properties for this type')]\n",
      "[('p', 'http://www.wikidata.org/prop/direct/P1963'), ('o', 'http://www.wikidata.org/entity/P3184'), ('oname', 'Czech National Bibliography book ID'), ('pname', 'properties for this type')]\n",
      "[('p', 'http://www.wikidata.org/prop/direct/P1963'), ('o', 'http://www.wikidata.org/entity/P957'), ('oname', 'ISBN-10'), ('pname', 'properties for this type')]\n",
      "[('p', 'http://www.wikidata.org/prop/direct/P1963'), ('o', 'http://www.wikidata.org/entity/P629'), ('oname', 'edition or translation of'), ('pname', 'properties for this type')]\n",
      "[('p', 'http://www.wikidata.org/prop/direct/P1963'), ('o', 'http://www.wikidata.org/entity/P393'), ('oname', 'edition number'), ('pname', 'properties for this type')]\n",
      "[('p', 'http://www.wikidata.org/prop/direct/P1963'), ('o', 'http://www.wikidata.org/entity/P1957'), ('oname', 'Wikisource index page URL'), ('pname', 'properties for this type')]\n",
      "[('p', 'http://www.wikidata.org/prop/direct/P1963'), ('o', 'http://www.wikidata.org/entity/P2679'), ('oname', 'author of foreword'), ('pname', 'properties for this type')]\n",
      "[('p', 'http://www.wikidata.org/prop/direct/P1963'), ('o', 'http://www.wikidata.org/entity/P675'), ('oname', 'Google Books ID'), ('pname', 'properties for this type')]\n",
      "[('p', 'http://www.wikidata.org/prop/direct/P1963'), ('o', 'http://www.wikidata.org/entity/P212'), ('oname', 'ISBN-13'), ('pname', 'properties for this type')]\n",
      "[('p', 'http://www.wikidata.org/prop/direct/P1963'), ('o', 'http://www.wikidata.org/entity/P1575'), ('oname', 'RISS catalog'), ('pname', 'properties for this type')]\n",
      "[('p', 'http://www.wikidata.org/prop/direct/P1963'), ('o', 'http://www.wikidata.org/entity/P110'), ('oname', 'illustrator'), ('pname', 'properties for this type')]\n",
      "[('p', 'http://www.wikidata.org/prop/direct/P1963'), ('o', 'http://www.wikidata.org/entity/P123'), ('oname', 'publisher'), ('pname', 'properties for this type')]\n",
      "[('p', 'http://www.wikidata.org/prop/direct/P1963'), ('o', 'http://www.wikidata.org/entity/P996'), ('oname', 'document file on Wikimedia Commons'), ('pname', 'properties for this type')]\n",
      "[('p', 'http://www.wikidata.org/prop/direct/P1963'), ('o', 'http://www.wikidata.org/entity/P291'), ('oname', 'place of publication'), ('pname', 'properties for this type')]\n",
      "[('p', 'http://www.wikidata.org/prop/direct/P2579'), ('o', 'http://www.wikidata.org/entity/Q1285373'), ('oname', 'edition philology'), ('pname', 'studied by')]\n",
      "[('p', 'http://www.wikidata.org/prop/direct/P279'), ('o', 'http://www.wikidata.org/entity/Q286583'), ('oname', 'manifestation'), ('pname', 'subclass of')]\n",
      "[('p', 'http://www.wikidata.org/prop/direct/P279'), ('o', 'http://www.wikidata.org/entity/Q732577'), ('oname', 'publication'), ('pname', 'subclass of')]\n",
      "[('p', 'http://www.wikidata.org/prop/direct/P279'), ('o', 'http://www.wikidata.org/entity/Q386724'), ('oname', 'work'), ('pname', 'subclass of')]\n",
      "[('p', 'http://www.wikidata.org/prop/direct/P31'), ('o', 'http://www.wikidata.org/entity/Q24017414'), ('oname', 'second-order class'), ('pname', 'instance of')]\n",
      "[('p', 'http://www.wikidata.org/prop/direct/P31'), ('o', 'http://www.wikidata.org/entity/Q11723795'), ('oname', 'piece'), ('pname', 'instance of')]\n"
     ]
    },
    {
     "data": {
      "text/plain": [
       "38"
      ]
     },
     "execution_count": 18,
     "metadata": {},
     "output_type": "execute_result"
    }
   ],
   "source": [
    "# Le mariage de Gerard Q105266480\n",
    "# version, edition, or translation Q3331189\n",
    "### searching for it's publication date\n",
    "queryString = \"\"\"\n",
    "SELECT *\n",
    "WHERE { \n",
    "    wd:Q3331189 ?p ?o .\n",
    "    ?o <http://schema.org/name> ?oname .\n",
    "    ?p <http://schema.org/name> ?pname .\n",
    "} \n",
    "\n",
    "\"\"\"\n",
    "print(\"Results\")\n",
    "run_query(queryString)"
   ]
  },
  {
   "cell_type": "code",
   "execution_count": 19,
   "id": "a61a5c85-300c-4e4a-8461-091350963a68",
   "metadata": {},
   "outputs": [
    {
     "name": "stdout",
     "output_type": "stream",
     "text": [
      "Results\n",
      "[('p', 'http://www.wikidata.org/prop/direct/P1963'), ('pname', 'properties for this type')]\n"
     ]
    },
    {
     "data": {
      "text/plain": [
       "1"
      ]
     },
     "execution_count": 19,
     "metadata": {},
     "output_type": "execute_result"
    }
   ],
   "source": [
    "# publication date P577\n",
    "# Le mariage de Gerard Q105266480\n",
    "# version, edition, or translation Q3331189\n",
    "### searching for it's publication date\n",
    "queryString = \"\"\"\n",
    "SELECT ?p ?pname\n",
    "WHERE { \n",
    "    wd:Q3331189 ?p wd:P577 .\n",
    "    ?p <http://schema.org/name> ?pname .\n",
    "} \n",
    "\n",
    "\"\"\"\n",
    "print(\"Results\")\n",
    "run_query(queryString)\n"
   ]
  },
  {
   "cell_type": "code",
   "execution_count": 20,
   "id": "b58bc4d6-5bb2-41fb-8b2c-3414ce0ac43f",
   "metadata": {},
   "outputs": [
    {
     "name": "stdout",
     "output_type": "stream",
     "text": [
      "Results\n",
      "[('time', '1866-01-01T00:00:00Z')]\n"
     ]
    },
    {
     "data": {
      "text/plain": [
       "1"
      ]
     },
     "execution_count": 20,
     "metadata": {},
     "output_type": "execute_result"
    }
   ],
   "source": [
    "#L’Alouette Q17360542\n",
    "# publication date P577\n",
    "# Odes et Chansons Q17360541\n",
    "### searching for it's publication date\n",
    "queryString = \"\"\"\n",
    "SELECT ?time\n",
    "WHERE { \n",
    "    wd:Q17360542 wdt:P577 ?time .\n",
    "} \n",
    "\n",
    "\"\"\"\n",
    "print(\"Results\")\n",
    "run_query(queryString)"
   ]
  },
  {
   "cell_type": "code",
   "execution_count": 21,
   "id": "dbac08d2-3818-4463-93a5-2c4d22e4bcf7",
   "metadata": {},
   "outputs": [
    {
     "name": "stdout",
     "output_type": "stream",
     "text": [
      "Results\n",
      "[('frenchwritername', 'Valery Larbaud'), ('italianwritername', 'Philip Kwok')]\n",
      "[('frenchwritername', 'Renat Lavaud'), ('italianwritername', 'Philip Kwok')]\n",
      "[('frenchwritername', 'Georges Lafenestre'), ('italianwritername', 'Philip Kwok')]\n",
      "[('frenchwritername', 'René Doumic'), ('italianwritername', 'Philip Kwok')]\n",
      "[('frenchwritername', 'Maurice Dreyfous'), ('italianwritername', 'Philip Kwok')]\n",
      "[('frenchwritername', 'Téodor de Wyzewa'), ('italianwritername', 'Philip Kwok')]\n",
      "[('frenchwritername', 'André Theuriet'), ('italianwritername', 'Philip Kwok')]\n",
      "[('frenchwritername', 'Philippe Chatrier'), ('italianwritername', 'Philip Kwok')]\n",
      "[('frenchwritername', 'Robert de Montesquiou'), ('italianwritername', 'Philip Kwok')]\n",
      "[('frenchwritername', 'Bonaventure des Périers'), ('italianwritername', 'Philip Kwok')]\n"
     ]
    },
    {
     "data": {
      "text/plain": [
       "10"
      ]
     },
     "execution_count": 21,
     "metadata": {},
     "output_type": "execute_result"
    }
   ],
   "source": [
    "# all italian and french writers:\n",
    "queryString = \"\"\"\n",
    "SELECT ?frenchwritername ?italianwritername \n",
    "WHERE { \n",
    "    \n",
    "    ?frenchwriter wdt:P27 wd:Q142 .\n",
    "    ?italianwriter wdt:P27 wd:Q38 ;\n",
    "                   wdt:P27 wd:Q172579 .\n",
    "    \n",
    "    ?frenchwriter wdt:P106 wd:Q36180 .\n",
    "    ?italianwriter wdt:P106 wd:Q36180 .\n",
    "    \n",
    "    #labels\n",
    "    ?frenchwriter <http://schema.org/name> ?frenchwritername .\n",
    "    ?italianwriter <http://schema.org/name> ?italianwritername .\n",
    "\n",
    "    \n",
    "} \n",
    "LIMIT 10\n",
    "\"\"\"\n",
    "print(\"Results\")\n",
    "run_query(queryString)"
   ]
  },
  {
   "cell_type": "code",
   "execution_count": 22,
   "id": "d2f6b567-edcc-4289-980f-da62179b6527",
   "metadata": {},
   "outputs": [
    {
     "name": "stdout",
     "output_type": "stream",
     "text": [
      "Results\n",
      "[('writer', 'http://www.wikidata.org/entity/Q503355'), ('writername', 'Igor Markevitch')]\n",
      "[('writer', 'http://www.wikidata.org/entity/Q271885'), ('writername', 'Marisa Pavan')]\n",
      "[('writer', 'http://www.wikidata.org/entity/Q543779'), ('writername', 'Marcello Pagliero')]\n",
      "[('writer', 'http://www.wikidata.org/entity/Q2008943'), ('writername', 'Romeo Bosetti')]\n",
      "[('writer', 'http://www.wikidata.org/entity/Q60322266'), ('writername', 'Alvaro Giorgetti')]\n",
      "[('writer', 'http://www.wikidata.org/entity/Q28131352'), ('writername', 'Francis Rigon')]\n",
      "[('writer', 'http://www.wikidata.org/entity/Q1917800'), ('writername', 'Pierre Brambilla')]\n",
      "[('writer', 'http://www.wikidata.org/entity/Q206244'), ('writername', 'Stéphane Grappelli')]\n",
      "[('writer', 'http://www.wikidata.org/entity/Q3266383'), ('writername', 'Luigi Barral')]\n",
      "[('writer', 'http://www.wikidata.org/entity/Q10263113'), ('writername', 'César Garin')]\n"
     ]
    },
    {
     "data": {
      "text/plain": [
       "10"
      ]
     },
     "execution_count": 22,
     "metadata": {},
     "output_type": "execute_result"
    }
   ],
   "source": [
    "# all italian and french people\n",
    "queryString = \"\"\"\n",
    "SELECT ?writer ?writername \n",
    "WHERE { \n",
    "    \n",
    "    ?writer wdt:P27 wd:Q142 .\n",
    "    ?writer wdt:P27 wd:Q38 .\n",
    "    ?writer wdt:P27 wd:Q172579 .\n",
    "\n",
    "    \n",
    "    #labels\n",
    "    ?writer <http://schema.org/name> ?writername .\n",
    "    \n",
    "} \n",
    "LIMIT 10\n",
    "\"\"\"\n",
    "print(\"Results\")\n",
    "run_query(queryString)"
   ]
  },
  {
   "cell_type": "code",
   "execution_count": 23,
   "id": "039eed55-5df0-4545-a222-46599c95ad33",
   "metadata": {},
   "outputs": [
    {
     "name": "stdout",
     "output_type": "stream",
     "text": [
      "Results\n",
      "[('writer', 'http://www.wikidata.org/entity/Q3175072'), ('writername', 'Jean Vodaine')]\n",
      "[('writer', 'http://www.wikidata.org/entity/Q554949'), ('writername', 'Lanza del Vasto')]\n",
      "[('writer', 'http://www.wikidata.org/entity/Q3616889'), ('writername', 'Angelo Bertino Poli')]\n",
      "[('writer', 'http://www.wikidata.org/entity/Q3107932'), ('writername', 'Giulio Cesare Silvagni')]\n",
      "[('writer', 'http://www.wikidata.org/entity/Q2036029'), ('writername', 'Albert Spaggiari')]\n",
      "[('writer', 'http://www.wikidata.org/entity/Q3622676'), ('writername', 'Aristide Merolli')]\n",
      "[('writer', 'http://www.wikidata.org/entity/Q3839289'), ('writername', 'Luigi Aurigemma')]\n",
      "[('writer', 'http://www.wikidata.org/entity/Q3796496'), ('writername', 'Ilo De Franceschi')]\n"
     ]
    },
    {
     "data": {
      "text/plain": [
       "8"
      ]
     },
     "execution_count": 23,
     "metadata": {},
     "output_type": "execute_result"
    }
   ],
   "source": [
    "# all italian and french writer\n",
    "queryString = \"\"\"\n",
    "SELECT ?writer ?writername \n",
    "WHERE { \n",
    "    \n",
    "    ?writer wdt:P27 wd:Q142 .\n",
    "    ?writer wdt:P27 wd:Q38 .\n",
    "    ?writer wdt:P27 wd:Q172579 ;\n",
    "            wdt:P106 wd:Q36180 .\n",
    "\n",
    "    #labels\n",
    "    ?writer <http://schema.org/name> ?writername .\n",
    "    \n",
    "} \n",
    "\n",
    "\"\"\"\n",
    "print(\"Results\")\n",
    "run_query(queryString)\n",
    "# it doesnt show all people"
   ]
  },
  {
   "cell_type": "code",
   "execution_count": 24,
   "id": "f0941daf-acc8-4368-ae97-1e5f2a306c07",
   "metadata": {},
   "outputs": [
    {
     "name": "stdout",
     "output_type": "stream",
     "text": [
      "Results\n",
      "[('frenchwritername', 'Valery Larbaud'), ('italianwritername', 'Philip Kwok')]\n",
      "[('frenchwritername', 'Renat Lavaud'), ('italianwritername', 'Philip Kwok')]\n",
      "[('frenchwritername', 'Georges Lafenestre'), ('italianwritername', 'Philip Kwok')]\n",
      "[('frenchwritername', 'René Doumic'), ('italianwritername', 'Philip Kwok')]\n",
      "[('frenchwritername', 'Maurice Dreyfous'), ('italianwritername', 'Philip Kwok')]\n",
      "[('frenchwritername', 'Téodor de Wyzewa'), ('italianwritername', 'Philip Kwok')]\n",
      "[('frenchwritername', 'André Theuriet'), ('italianwritername', 'Philip Kwok')]\n",
      "[('frenchwritername', 'Philippe Chatrier'), ('italianwritername', 'Philip Kwok')]\n",
      "[('frenchwritername', 'Robert de Montesquiou'), ('italianwritername', 'Philip Kwok')]\n",
      "[('frenchwritername', 'Bonaventure des Périers'), ('italianwritername', 'Philip Kwok')]\n"
     ]
    },
    {
     "data": {
      "text/plain": [
       "10"
      ]
     },
     "execution_count": 24,
     "metadata": {},
     "output_type": "execute_result"
    }
   ],
   "source": [
    "# all italian and french writers:\n",
    "queryString = \"\"\"\n",
    "SELECT ?frenchwritername ?italianwritername \n",
    "WHERE { \n",
    "    \n",
    "    ?frenchwriter wdt:P27 wd:Q142 .\n",
    "    ?italianwriter wdt:P27 wd:Q38 ;\n",
    "                   wdt:P27 wd:Q172579 .\n",
    "    \n",
    "    ?frenchwriter wdt:P106 wd:Q36180 .\n",
    "    ?italianwriter wdt:P106 wd:Q36180 .\n",
    "    \n",
    "    #labels\n",
    "    ?frenchwriter <http://schema.org/name> ?frenchwritername .\n",
    "    ?italianwriter <http://schema.org/name> ?italianwritername .\n",
    "\n",
    "    \n",
    "} \n",
    "LIMIT 10\n",
    "\"\"\"\n",
    "print(\"Results\")\n",
    "run_query(queryString)"
   ]
  },
  {
   "cell_type": "markdown",
   "id": "646a1cd6-ed14-4b4f-bf30-aff089db0717",
   "metadata": {},
   "source": [
    "# Identify the BGP for obtaining the Italian and French writers who published a book in the last 50 years with the name of their books"
   ]
  },
  {
   "cell_type": "code",
   "execution_count": 25,
   "id": "d1b50b2a-ce47-488b-9c50-e0774b2e00c2",
   "metadata": {},
   "outputs": [
    {
     "name": "stdout",
     "output_type": "stream",
     "text": [
      "Results\n",
      "[('bookname', 'The End of Eddy'), ('writername', 'Édouard Louis'), ('time', '2014-01-01T00:00:00Z')]\n",
      "[('bookname', 'History of violence'), ('writername', 'Édouard Louis'), ('time', '2016-01-01T00:00:00Z')]\n",
      "[('bookname', 'Who Killed My Father'), ('writername', 'Édouard Louis'), ('time', '2018-01-01T00:00:00Z')]\n",
      "[('bookname', 'Je viens du sud'), ('writername', 'Pierre Delanoë'), ('time', '1981-01-01T00:00:00Z')]\n",
      "[('bookname', 'The Search for Ancient China'), ('writername', 'Corinne Debaine-Francort'), ('time', '1998-01-01T00:00:00Z')]\n",
      "[('bookname', 'For Your Own Good'), ('writername', 'Alice Miller'), ('time', '1980-01-01T00:00:00Z')]\n",
      "[('bookname', 'Ports of Call'), ('writername', 'Amin Maalouf'), ('time', '1996-01-01T00:00:00Z')]\n",
      "[('bookname', 'Asterix and the Great Divide'), ('writername', 'Albert Uderzo'), ('time', '1980-01-01T00:00:00Z')]\n",
      "[('bookname', 'Asterix and the Black Gold'), ('writername', 'Albert Uderzo'), ('time', '1981-01-01T00:00:00Z')]\n",
      "[('bookname', 'Obelix and Co.'), ('writername', 'Albert Uderzo'), ('time', '1976-01-01T00:00:00Z')]\n",
      "[('bookname', 'Asterix and Son'), ('writername', 'Albert Uderzo'), ('time', '1983-01-01T00:00:00Z')]\n",
      "[('bookname', \"Asterix and Obelix's Birthday\"), ('writername', 'Albert Uderzo'), ('time', '2009-01-01T00:00:00Z')]\n",
      "[('bookname', 'Asterix and the Magic Carpet'), ('writername', 'Albert Uderzo'), ('time', '1987-01-01T00:00:00Z')]\n",
      "[('bookname', 'The End'), ('writername', 'Didier Lestrade'), ('time', '2004-01-01T00:00:00Z')]\n",
      "[('bookname', 'Leo Africanus'), ('writername', 'Amin Maalouf'), ('time', '1986-01-01T00:00:00Z')]\n",
      "[('bookname', \"Asterix and Caesar's Gift\"), ('writername', 'Albert Uderzo'), ('time', '1974-01-01T00:00:00Z')]\n",
      "[('bookname', 'Asterix and the Falling Sky'), ('writername', 'Albert Uderzo'), ('time', '2005-01-01T00:00:00Z')]\n",
      "[('bookname', 'Asterix and the Actress'), ('writername', 'Albert Uderzo'), ('time', '2001-01-01T00:00:00Z')]\n",
      "[('bookname', 'Asterix and Obelix All at Sea'), ('writername', 'Albert Uderzo'), ('time', '1996-01-01T00:00:00Z')]\n",
      "[('bookname', 'The Gardens of Light'), ('writername', 'Amin Maalouf'), ('time', '1991-01-01T00:00:00Z')]\n"
     ]
    },
    {
     "data": {
      "text/plain": [
       "20"
      ]
     },
     "execution_count": 25,
     "metadata": {},
     "output_type": "execute_result"
    }
   ],
   "source": [
    "## all books by french authors in last 50 years\n",
    "queryString = \"\"\"\n",
    "SELECT ?bookname ?writername ?time\n",
    "WHERE { \n",
    "    \n",
    "    ?writer wdt:P27 wd:Q142 .\n",
    "    ?writer wdt:P106 wd:Q36180 .\n",
    "    \n",
    "    ?book wdt:P50 ?writer .\n",
    "    ?book wdt:P577 ?time .\n",
    "    FILTER(\"1972-01-01\"^^xsd:dateTime <= ?time && ?time < \"2022-01-01\"^^xsd:dateTime).\n",
    "    #labels\n",
    "    ?book <http://schema.org/name> ?bookname .\n",
    "    ?writer <http://schema.org/name> ?writername .\n",
    "} \n",
    "LIMIT 20\n",
    "\"\"\"\n",
    "\n",
    "print(\"Results\")\n",
    "run_query(queryString)"
   ]
  },
  {
   "cell_type": "code",
   "execution_count": 26,
   "id": "a4b3bfa4-9078-41df-86e8-821a7b6e036e",
   "metadata": {},
   "outputs": [
    {
     "name": "stdout",
     "output_type": "stream",
     "text": [
      "Results\n",
      "[('writername', 'Anne Calife'), ('booknames', \"Conte d'Asphalte, Fleur de peau, La déferlante, Paul et le chat\")]\n",
      "[('writername', 'Max Gallo'), ('booknames', 'Victor Hugo')]\n",
      "[('writername', 'Mathias Malzieu'), ('booknames', 'La Mécanique du cœur')]\n",
      "[('writername', 'Jean-François Samlong'), ('booknames', 'Un soleil en exil')]\n",
      "[('writername', 'Geneviève Huriet'), ('booknames', \"Family Moving Day, Periwinkle at the Full Moon Ball, Violette's Daring Adventure\")]\n",
      "[('writername', 'Thérèse Moreau'), ('booknames', 'feminization dictionary')]\n",
      "[('writername', 'Alex Capus'), ('booknames', 'A Matter of Time')]\n",
      "[('writername', 'Émile Zola'), ('booknames', 'My hatreds ; Mes Haines')]\n",
      "[('writername', 'Régine Deforges'), ('booknames', '101, avenue Henri-Martin, La Bicyclette bleue')]\n",
      "[('writername', 'Édouard-Raoul Brygoo'), ('booknames', 'Notes sur les Brookesia de Madagascar IX. Observations sur B. tuberculata Mocquard, 1894, B. ramanantsoai sp. nov. et B. peyrierasi nom. nov. (Reptilia, Squamata, Chamaeleontiadae)')]\n",
      "[('writername', 'Pierre Bottero'), ('booknames', 'Ewilan')]\n",
      "[('writername', 'Boris Razon'), ('booknames', 'Palladium')]\n",
      "[('writername', 'Jean Echenoz'), ('booknames', \"14, Cherokee, I'm Off, We Three (novel)\")]\n",
      "[('writername', 'Thierry Jonquet'), ('booknames', 'Beauty and the Beast, Tarantula')]\n",
      "[('writername', 'Alain Robbe-Grillet'), ('booknames', 'Djinn, La reprise')]\n",
      "[('writername', 'Christian Signol'), ('booknames', 'Les Menthes sauvages')]\n",
      "[('writername', 'Matthieu Auzanneau'), ('booknames', 'Oil, Power, and War: A Dark History')]\n",
      "[('writername', 'Jacques Derrida'), ('booknames', \"Acts of Literature, All Ears: Nietzsche's Otobiography, Archive Fever, Echographies of Television, Glas, Il fattore della verità, Limited Inc, Philosophy in a Time of Terror, Points...: Interviews, 1974–1994, Specters of Marx, Sproni, The Animal That Therefore I Am, The Post Card: From Socrates to Freud and Beyond, The Rhetoric of Drugs, The Truth in Painting, The animal I am therefore\")]\n",
      "[('writername', 'Gordon Zola'), ('booknames', 'Gordon Zola, La dérive des incontinents')]\n",
      "[('writername', 'Pierre Grimbert'), ('booknames', \"Shadow of the Ancients, Six Heirs, The Orphans' Promise\")]\n"
     ]
    },
    {
     "data": {
      "text/plain": [
       "20"
      ]
     },
     "execution_count": 26,
     "metadata": {},
     "output_type": "execute_result"
    }
   ],
   "source": [
    "## all books by french authors in last 50 years\n",
    "queryString = \"\"\"\n",
    "SELECT ?writername (GROUP_CONCAT(DISTINCT ?bookname; SEPARATOR=\", \") AS ?booknames) \n",
    "WHERE { \n",
    "    \n",
    "    ?writer wdt:P27 wd:Q142 .\n",
    "    ?writer wdt:P106 wd:Q36180 .\n",
    "    \n",
    "    ?book wdt:P50 ?writer .\n",
    "    ?book wdt:P577 ?time .\n",
    "    FILTER(\"1972-01-01\"^^xsd:dateTime <= ?time && ?time < \"2022-01-01\"^^xsd:dateTime).\n",
    "    #labels\n",
    "    ?book <http://schema.org/name> ?bookname .\n",
    "    ?writer <http://schema.org/name> ?writername .\n",
    "} \n",
    "LIMIT 20\n",
    "\"\"\"\n",
    "\n",
    "print(\"Results\")\n",
    "run_query(queryString)"
   ]
  },
  {
   "cell_type": "markdown",
   "id": "4afbaa29-0886-445f-9976-4864cfba52f3",
   "metadata": {},
   "source": [
    "# The number of books written in the last 50 years by French writers"
   ]
  },
  {
   "cell_type": "code",
   "execution_count": 27,
   "id": "8c778c39-169c-4442-a6e3-3eafe4460640",
   "metadata": {},
   "outputs": [
    {
     "name": "stdout",
     "output_type": "stream",
     "text": [
      "Results\n",
      "[('countbook', '1734')]\n"
     ]
    },
    {
     "data": {
      "text/plain": [
       "1"
      ]
     },
     "execution_count": 27,
     "metadata": {},
     "output_type": "execute_result"
    }
   ],
   "source": [
    "#the number of books written in the last 50 years by French writers\n",
    "\n",
    "queryString = \"\"\"\n",
    " SELECT (COUNT (DISTINCT ?bookname) AS ?countbook) WHERE\n",
    "              {\n",
    " \n",
    "        ?writer wdt:P27 wd:Q142 .\n",
    "        ?writer wdt:P106 wd:Q36180 .\n",
    "    \n",
    "        ?book wdt:P50 ?writer .\n",
    "        ?book wdt:P577 ?time .\n",
    "        FILTER(\"1972-01-01\"^^xsd:dateTime <= ?time && ?time < \"2022-01-01\"^^xsd:dateTime).\n",
    "        #labels\n",
    "        ?book <http://schema.org/name> ?bookname .\n",
    "        ?writer <http://schema.org/name> ?writername .\n",
    "               }\n",
    "        \n",
    "\"\"\"\n",
    "\n",
    "print(\"Results\")\n",
    "run_query(queryString)"
   ]
  },
  {
   "cell_type": "code",
   "execution_count": 28,
   "id": "468ccdb0-b460-45c6-9748-692bf22b842d",
   "metadata": {},
   "outputs": [
    {
     "name": "stdout",
     "output_type": "stream",
     "text": [
      "Results\n",
      "[('writername', 'Jean Weissenbach'), ('writer', 'http://www.wikidata.org/entity/Q1685910'), ('countbook', '192')]\n",
      "[('writername', 'Stéphane Velut'), ('writer', 'http://www.wikidata.org/entity/Q41840536'), ('countbook', '53')]\n",
      "[('writername', 'Pierre Bourdieu'), ('writer', 'http://www.wikidata.org/entity/Q156268'), ('countbook', '44')]\n",
      "[('writername', 'Jean-Marie Gustave Le Clézio'), ('writer', 'http://www.wikidata.org/entity/Q42037'), ('countbook', '41')]\n",
      "[('writername', 'Barbara Demeneix'), ('writer', 'http://www.wikidata.org/entity/Q30323562'), ('countbook', '31')]\n",
      "[('writername', 'Gilles Deleuze'), ('writer', 'http://www.wikidata.org/entity/Q184226'), ('countbook', '27')]\n",
      "[('writername', 'Milan Kundera'), ('writer', 'http://www.wikidata.org/entity/Q93166'), ('countbook', '21')]\n",
      "[('writername', 'Thomas Piketty'), ('writer', 'http://www.wikidata.org/entity/Q984448'), ('countbook', '21')]\n",
      "[('writername', 'Bernard Werber'), ('writer', 'http://www.wikidata.org/entity/Q12054'), ('countbook', '18')]\n",
      "[('writername', 'Gérald Tenenbaum'), ('writer', 'http://www.wikidata.org/entity/Q747284'), ('countbook', '16')]\n",
      "[('writername', 'Jacques Derrida'), ('writer', 'http://www.wikidata.org/entity/Q130631'), ('countbook', '16')]\n",
      "[('writername', 'Michel Houellebecq'), ('writer', 'http://www.wikidata.org/entity/Q103114'), ('countbook', '15')]\n",
      "[('writername', 'Albert Uderzo'), ('writer', 'http://www.wikidata.org/entity/Q206685'), ('countbook', '13')]\n",
      "[('writername', 'René Goscinny'), ('writer', 'http://www.wikidata.org/entity/Q192214'), ('countbook', '13')]\n",
      "[('writername', 'Jean Raspail'), ('writer', 'http://www.wikidata.org/entity/Q1383662'), ('countbook', '13')]\n",
      "[('writername', 'Fred Vargas'), ('writer', 'http://www.wikidata.org/entity/Q237087'), ('countbook', '12')]\n",
      "[('writername', 'Marcel Proust'), ('writer', 'http://www.wikidata.org/entity/Q7199'), ('countbook', '11')]\n",
      "[('writername', 'Christopher Tolkien'), ('writer', 'http://www.wikidata.org/entity/Q82032'), ('countbook', '11')]\n",
      "[('writername', 'Michel Déon'), ('writer', 'http://www.wikidata.org/entity/Q138166'), ('countbook', '10')]\n",
      "[('writername', 'Anaïs Nin'), ('writer', 'http://www.wikidata.org/entity/Q220018'), ('countbook', '10')]\n",
      "[('writername', 'Amin Maalouf'), ('writer', 'http://www.wikidata.org/entity/Q115243'), ('countbook', '10')]\n",
      "[('writername', 'Robert Sabatier'), ('writer', 'http://www.wikidata.org/entity/Q741527'), ('countbook', '9')]\n",
      "[('writername', 'Bruno Latour'), ('writer', 'http://www.wikidata.org/entity/Q355237'), ('countbook', '9')]\n",
      "[('writername', 'Samuel Beckett'), ('writer', 'http://www.wikidata.org/entity/Q37327'), ('countbook', '9')]\n",
      "[('writername', 'Benoît Peeters'), ('writer', 'http://www.wikidata.org/entity/Q788718'), ('countbook', '9')]\n",
      "[('writername', 'Colette'), ('writer', 'http://www.wikidata.org/entity/Q218679'), ('countbook', '9')]\n",
      "[('writername', 'René Guénon'), ('writer', 'http://www.wikidata.org/entity/Q496850'), ('countbook', '9')]\n",
      "[('writername', 'Sylvaine Jaoui'), ('writer', 'http://www.wikidata.org/entity/Q3507149'), ('countbook', '9')]\n",
      "[('writername', 'Benjamin Lemaire'), ('writer', 'http://www.wikidata.org/entity/Q37644555'), ('countbook', '8')]\n",
      "[('writername', 'Julio Cortázar'), ('writer', 'http://www.wikidata.org/entity/Q174210'), ('countbook', '8')]\n",
      "[('writername', 'Marguerite Duras'), ('writer', 'http://www.wikidata.org/entity/Q153248'), ('countbook', '8')]\n",
      "[('writername', 'Christian Jacq'), ('writer', 'http://www.wikidata.org/entity/Q366302'), ('countbook', '8')]\n",
      "[('writername', 'Guillaume Musso'), ('writer', 'http://www.wikidata.org/entity/Q733151'), ('countbook', '8')]\n",
      "[('writername', 'John Grümph'), ('writer', 'http://www.wikidata.org/entity/Q28493942'), ('countbook', '7')]\n",
      "[('writername', 'Pierre Lemaitre'), ('writer', 'http://www.wikidata.org/entity/Q3385917'), ('countbook', '7')]\n"
     ]
    },
    {
     "data": {
      "text/plain": [
       "35"
      ]
     },
     "execution_count": 28,
     "metadata": {},
     "output_type": "execute_result"
    }
   ],
   "source": [
    "#the number of books written in the last 50 years by French writers\n",
    "queryString = \"\"\"\n",
    " SELECT ?writername ?writer (COUNT (DISTINCT ?bookname) AS ?countbook) WHERE\n",
    "              {\n",
    " \n",
    "        ?writer wdt:P27 wd:Q142 .\n",
    "        ?writer wdt:P106 wd:Q36180 .\n",
    "    \n",
    "        ?book wdt:P50 ?writer .\n",
    "        ?book wdt:P577 ?time .\n",
    "        FILTER(\"1972-01-01\"^^xsd:dateTime <= ?time && ?time < \"2022-01-01\"^^xsd:dateTime).\n",
    "        #labels\n",
    "        ?book <http://schema.org/name> ?bookname .\n",
    "        ?writer <http://schema.org/name> ?writername .\n",
    "               }\n",
    "        GROUP BY ?writername ?writer\n",
    "        ORDER BY DESC(?countbook) \n",
    "        LIMIT 35\n",
    "\"\"\"\n",
    "\n",
    "print(\"Results\")\n",
    "run_query(queryString)"
   ]
  },
  {
   "cell_type": "markdown",
   "id": "37e561f1-8fe6-46c9-a06f-41829f2198bc",
   "metadata": {},
   "source": [
    "### The number of books written in the last 50 years by French writers"
   ]
  },
  {
   "cell_type": "code",
   "execution_count": 29,
   "id": "282300d0-9296-4ef3-92be-abb55ab02b2e",
   "metadata": {},
   "outputs": [
    {
     "name": "stdout",
     "output_type": "stream",
     "text": [
      "Results\n",
      "[('writername', 'Jean Weissenbach'), ('countbook', '192')]\n",
      "[('writername', 'Stéphane Velut'), ('countbook', '53')]\n",
      "[('writername', 'Pierre Bourdieu'), ('countbook', '44')]\n",
      "[('writername', 'Jean-Marie Gustave Le Clézio'), ('countbook', '41')]\n",
      "[('writername', 'Barbara Demeneix'), ('countbook', '31')]\n",
      "[('writername', 'Gilles Deleuze'), ('countbook', '27')]\n",
      "[('writername', 'Milan Kundera'), ('countbook', '21')]\n",
      "[('writername', 'Thomas Piketty'), ('countbook', '21')]\n",
      "[('writername', 'Bernard Werber'), ('countbook', '18')]\n",
      "[('writername', 'Gérald Tenenbaum'), ('countbook', '16')]\n"
     ]
    },
    {
     "data": {
      "text/plain": [
       "10"
      ]
     },
     "execution_count": 29,
     "metadata": {},
     "output_type": "execute_result"
    }
   ],
   "source": [
    "# the number of books written in the last 50 years by French writers\n",
    "queryString = \"\"\"\n",
    " SELECT ?writername (COUNT (DISTINCT ?bookname) AS ?countbook) WHERE\n",
    "              {\n",
    " \n",
    "        ?writer wdt:P27 wd:Q142 .\n",
    "        ?writer wdt:P106 wd:Q36180 .\n",
    "    \n",
    "        ?book wdt:P50 ?writer .\n",
    "        ?book wdt:P577 ?time .\n",
    "        FILTER(\"1972-01-01\"^^xsd:dateTime <= ?time && ?time < \"2022-01-01\"^^xsd:dateTime).\n",
    "        #labels\n",
    "        ?book <http://schema.org/name> ?bookname .\n",
    "        ?writer <http://schema.org/name> ?writername .\n",
    "               }\n",
    "        GROUP BY ?writername ?writer\n",
    "        ORDER BY DESC(?countbook) \n",
    "        LIMIT 10\n",
    "\"\"\"\n",
    "\n",
    "print(\"Results\")\n",
    "run_query(queryString)"
   ]
  },
  {
   "cell_type": "code",
   "execution_count": 30,
   "id": "5bc54b67-9dbc-4732-b95b-88cbfd9b6e93",
   "metadata": {},
   "outputs": [
    {
     "name": "stdout",
     "output_type": "stream",
     "text": [
      "Results\n",
      "[('s', 'http://www.wikidata.org/prop/direct/P166'), ('sname', 'award received'), ('p', 'http://www.wikidata.org/entity/Q3320352'), ('pname', 'Princess of Asturias Award for Technical and Scientific Research')]\n",
      "[('s', 'http://www.wikidata.org/prop/direct/P166'), ('sname', 'award received'), ('p', 'http://www.wikidata.org/entity/Q10855271'), ('pname', 'Knight of the Legion of Honour')]\n",
      "[('s', 'http://www.wikidata.org/prop/direct/P27'), ('sname', 'country of citizenship'), ('p', 'http://www.wikidata.org/entity/Q142'), ('pname', 'France')]\n",
      "[('s', 'http://www.wikidata.org/prop/direct/P1412'), ('sname', 'languages spoken, written or signed'), ('p', 'http://www.wikidata.org/entity/Q150'), ('pname', 'French')]\n",
      "[('s', 'http://www.wikidata.org/prop/direct/P463'), ('sname', 'member of'), ('p', 'http://www.wikidata.org/entity/Q188771'), ('pname', 'French Academy of Sciences')]\n",
      "[('s', 'http://www.wikidata.org/prop/direct/P106'), ('sname', 'occupation'), ('p', 'http://www.wikidata.org/entity/Q3126128'), ('pname', 'geneticist')]\n",
      "[('s', 'http://www.wikidata.org/prop/direct/P106'), ('sname', 'occupation'), ('p', 'http://www.wikidata.org/entity/Q36180'), ('pname', 'writer')]\n",
      "[('s', 'http://www.wikidata.org/prop/direct/P31'), ('sname', 'instance of'), ('p', 'http://www.wikidata.org/entity/Q5'), ('pname', 'human')]\n",
      "[('s', 'http://www.wikidata.org/prop/direct/P21'), ('sname', 'sex or gender'), ('p', 'http://www.wikidata.org/entity/Q6581097'), ('pname', 'male')]\n",
      "[('s', 'http://www.wikidata.org/prop/direct/P19'), ('sname', 'place of birth'), ('p', 'http://www.wikidata.org/entity/Q6602'), ('pname', 'Strasbourg')]\n",
      "[('s', 'http://www.wikidata.org/prop/direct/P735'), ('sname', 'given name'), ('p', 'http://www.wikidata.org/entity/Q7521081'), ('pname', 'Jean')]\n",
      "[('s', 'http://www.wikidata.org/prop/direct/P166'), ('sname', 'award received'), ('p', 'http://www.wikidata.org/entity/Q1031994'), ('pname', 'Gairdner Foundation International Award')]\n",
      "[('s', 'http://www.wikidata.org/prop/direct/P166'), ('sname', 'award received'), ('p', 'http://www.wikidata.org/entity/Q13422141'), ('pname', 'Commander of the National Order of Merit')]\n",
      "[('s', 'http://www.wikidata.org/prop/direct/P166'), ('sname', 'award received'), ('p', 'http://www.wikidata.org/entity/Q1957671'), ('pname', 'CNRS Gold medal')]\n",
      "[('s', 'http://www.wikidata.org/prop/direct/P734'), ('sname', 'family name'), ('p', 'http://www.wikidata.org/entity/Q75401498'), ('pname', 'Weissenbach')]\n",
      "[('s', 'http://www.wikidata.org/prop/direct/P108'), ('sname', 'employer'), ('p', 'http://www.wikidata.org/entity/Q3100800'), ('pname', 'Genoscope')]\n"
     ]
    },
    {
     "data": {
      "text/plain": [
       "16"
      ]
     },
     "execution_count": 30,
     "metadata": {},
     "output_type": "execute_result"
    }
   ],
   "source": [
    "#wd:Q1685910 had the most book written\n",
    "queryString = \"\"\"\n",
    "SELECT ?s ?sname ?p ?pname\n",
    "WHERE { \n",
    "   wd:Q1685910 ?s ?p .\n",
    "    #labels\n",
    "    ?s <http://schema.org/name> ?sname .\n",
    "    ?p <http://schema.org/name> ?pname .\n",
    "} \n",
    "LIMIT 50\n",
    "\"\"\"\n",
    "print(\"Results\")\n",
    "run_query(queryString)"
   ]
  },
  {
   "cell_type": "markdown",
   "id": "8b6f6f6d-3923-4fb9-9c5c-7778e3a342f1",
   "metadata": {},
   "source": [
    "### All books by Italian authors in last 50 years"
   ]
  },
  {
   "cell_type": "code",
   "execution_count": 31,
   "id": "20e95962-bc40-4dc0-9eb7-5622dfe00742",
   "metadata": {},
   "outputs": [
    {
     "name": "stdout",
     "output_type": "stream",
     "text": [
      "Results\n",
      "[('italianwritername', 'Anna Banti'), ('booknames', 'Un grido lacerante')]\n",
      "[('italianwritername', 'Magdalena Tulli'), ('booknames', 'Dreams and Stones')]\n",
      "[('italianwritername', 'Nicola Nosengo'), ('booknames', \"365 days: Nature's 10, Appeals judge frees earthquake scientists accused of manslaughter, Biotechnology at the bar, Can artificial intelligence create the next wonder material?, Can you teach old drugs new tricks?, DNA heist that wasn’t sparks data questions, European deal aims to attract Arab scientists, Fertilized to death, Gran Sasso: Chamber of physics, Italian court finds seismologists guilty of manslaughter, Italian scientists fight tightened rules on animal testing, Italian seismologists cleared of manslaughter, Italian seismologists fight to overturn convictions, Italian universities get report cards, Italy puts seismology in the dock., L'Aquila verdict row grows, Marine biology network launches into choppy waters., Neutrinos make a splash in Italy., Piglets add some colour to transgenic story, Pollution fears put work at neutrino laboratory on hold, Rivalry and revenge, Robotics: The bot that plays ball, Roman ingots to shield particle detector, Scientists on trial over L'Aquila deaths, SuperB particle-accelerator project launches, The quota conundrum, The smell of a meat-eater, Underwater acoustics: The neutrino and the whale, Venice floods: SAVE OUR CITY!, Volcano borehole prompts safety doubts, Whatever happened to ...?\")]\n",
      "[('italianwritername', 'Enrico Brizzi'), ('booknames', 'Jack Frusciante Has Left the Band')]\n",
      "[('italianwritername', 'Pia Pera'), ('booknames', \"Lo's Diary\")]\n",
      "[('italianwritername', 'Susanna Tamaro'), ('booknames', \"Va' dove ti porta il cuore\")]\n",
      "[('italianwritername', 'Igor Škamperle'), ('booknames', 'Kraljeva hči')]\n",
      "[('italianwritername', 'Pier Carpi'), ('booknames', 'Prophecies from Pope John XXIII')]\n",
      "[('italianwritername', 'Luigi Garlando'), ('booknames', 'Luigi Garlando')]\n",
      "[('italianwritername', 'Pier Vittorio Tondelli'), ('booknames', 'Altri Libertini, Dinner Party, Rimini')]\n",
      "[('italianwritername', 'Federico Fellini'), ('booknames', \"Carissimo Simenon • Mon cher Fellini, I'm a Born Liar\")]\n",
      "[('italianwritername', 'Massimo Gramellini'), ('booknames', \"Fai bei sogni, L'ultima riga delle favole\")]\n",
      "[('italianwritername', 'Sandro Veronesi'), ('booknames', 'Force of the past, Il colibrì, Quiet Chaos')]\n",
      "[('italianwritername', 'Antonio Scurati'), ('booknames', 'Il tempo migliore della nostra vita, M. Il figlio del secolo')]\n",
      "[('italianwritername', 'Milo Manara'), ('booknames', 'Indian Summer')]\n",
      "[('italianwritername', 'Elena Ferrante'), ('booknames', 'My Brilliant Friend, Neapolitan Novels, The Days of Abandonment, The Lying Life of Adults, The Story of a New Name, The Story of the Lost Child, Those Who Leave and Those Who Stay')]\n",
      "[('italianwritername', \"Alessandro D'Avenia\"), ('booknames', 'bianca come il latte rossa')]\n",
      "[('italianwritername', 'Arnaldo Romani Brizzi'), ('booknames', 'Roman Construction Sites')]\n",
      "[('italianwritername', 'Guido Ceronetti'), ('booknames', 'Cara incertezza, Il Gineceo, Il silenzio del corpo, Insetti senza frontiere, La carta è stanca, La lanterna del filosofo, L’occhiale malinconico, Messia, Pensieri del Tè, Poemi del Gineceo, Tra pensieri, Tragico tascabile')]\n",
      "[('italianwritername', 'Clizia Gurrado'), ('booknames', 'Sposerò Simon Le Bon')]\n"
     ]
    },
    {
     "data": {
      "text/plain": [
       "20"
      ]
     },
     "execution_count": 31,
     "metadata": {},
     "output_type": "execute_result"
    }
   ],
   "source": [
    "## all books by italian authors in last 50 years\n",
    "queryString = \"\"\"\n",
    "SELECT ?italianwritername (GROUP_CONCAT(DISTINCT ?bookname; SEPARATOR=\", \") AS ?booknames)\n",
    "WHERE { \n",
    "\n",
    "    {?italianwriter wdt:P27 wd:Q38 }\n",
    "    OPTIONAL { ?italianwriter wdt:P27 wd:Q172579 } \n",
    "    ?italianwriter wdt:P106 wd:Q36180 .\n",
    "\n",
    "    \n",
    "    ?book wdt:P50 ?italianwriter .\n",
    "    ?book wdt:P577 ?time .\n",
    "    FILTER(\"1972-01-01\"^^xsd:dateTime <= ?time && ?time < \"2022-01-01\"^^xsd:dateTime).\n",
    "    #labels\n",
    "    ?book <http://schema.org/name> ?bookname .\n",
    "    ?italianwriter <http://schema.org/name> ?italianwritername .\n",
    "} \n",
    "LIMIT 20\n",
    "\"\"\"\n",
    "print(\"Results\")\n",
    "run_query(queryString)"
   ]
  },
  {
   "cell_type": "code",
   "execution_count": 32,
   "id": "5f8839bf-a9ba-4631-bebd-28cc2bfe2f29",
   "metadata": {},
   "outputs": [
    {
     "name": "stdout",
     "output_type": "stream",
     "text": [
      "Results\n",
      "[('countfrenchwriter', '14400')]\n"
     ]
    },
    {
     "data": {
      "text/plain": [
       "1"
      ]
     },
     "execution_count": 32,
     "metadata": {},
     "output_type": "execute_result"
    }
   ],
   "source": [
    "# count of french writers\n",
    "\n",
    "queryString = \"\"\"\n",
    "SELECT (COUNT (DISTINCT ?frenchwriter) AS ?countfrenchwriter) \n",
    "WHERE { \n",
    "\n",
    "    ?frenchwriter wdt:P27 wd:Q142 .\n",
    "    ?frenchwriter wdt:P106 wd:Q36180 .\n",
    "} \n",
    "\n",
    "\"\"\"\n",
    "print(\"Results\")\n",
    "run_query(queryString)\n"
   ]
  },
  {
   "cell_type": "code",
   "execution_count": 33,
   "id": "c6d964e9-60d4-4ec2-9656-4266a8478440",
   "metadata": {},
   "outputs": [
    {
     "name": "stdout",
     "output_type": "stream",
     "text": [
      "Results\n",
      "[('countitalianwriter', '3436')]\n"
     ]
    },
    {
     "data": {
      "text/plain": [
       "1"
      ]
     },
     "execution_count": 33,
     "metadata": {},
     "output_type": "execute_result"
    }
   ],
   "source": [
    "## all Kingdom of Italy  authors\n",
    "queryString = \"\"\"\n",
    "SELECT (COUNT (DISTINCT ?italianwriter) AS ?countitalianwriter) \n",
    "WHERE { \n",
    "\n",
    "    ?italianwriter wdt:P27 wd:Q172579 .\n",
    "    ?italianwriter wdt:P106 wd:Q36180 .\n",
    "} \n",
    "\n",
    "\"\"\"\n",
    "print(\"Results\")\n",
    "run_query(queryString)\n"
   ]
  },
  {
   "cell_type": "code",
   "execution_count": 34,
   "id": "e7f52848-ec40-414d-b965-a6f029b61908",
   "metadata": {},
   "outputs": [
    {
     "name": "stdout",
     "output_type": "stream",
     "text": [
      "Results\n",
      "[('countitalianwriter', '6264')]\n"
     ]
    },
    {
     "data": {
      "text/plain": [
       "1"
      ]
     },
     "execution_count": 34,
     "metadata": {},
     "output_type": "execute_result"
    }
   ],
   "source": [
    "## all italy authors \n",
    "queryString = \"\"\"\n",
    "SELECT (COUNT (DISTINCT ?italianwriter) AS ?countitalianwriter) \n",
    "WHERE { \n",
    "\n",
    "    ?italianwriter wdt:P27 wd:Q38 .\n",
    "    ?italianwriter wdt:P106 wd:Q36180 .\n",
    "} \n",
    "\n",
    "\"\"\"\n",
    "print(\"Results\")\n",
    "run_query(queryString)\n"
   ]
  },
  {
   "cell_type": "code",
   "execution_count": 35,
   "id": "8d7e66fb-7ab2-4838-89df-ac34a9d4e98a",
   "metadata": {},
   "outputs": [
    {
     "name": "stdout",
     "output_type": "stream",
     "text": [
      "Results\n",
      "[('countitalianwriter', '6264')]\n"
     ]
    },
    {
     "data": {
      "text/plain": [
       "1"
      ]
     },
     "execution_count": 35,
     "metadata": {},
     "output_type": "execute_result"
    }
   ],
   "source": [
    "## italian authors \n",
    "queryString = \"\"\"\n",
    "SELECT (COUNT (DISTINCT ?italianwriter) AS ?countitalianwriter) \n",
    "WHERE { \n",
    "    \n",
    "    {?italianwriter wdt:P27 wd:Q38 }\n",
    "    OPTIONAL { ?italianwriter wdt:P27 wd:Q172579 } \n",
    "    ?italianwriter wdt:P106 wd:Q36180 .\n",
    "\n",
    "} \n",
    "\n",
    "\"\"\"\n",
    "print(\"Results\")\n",
    "run_query(queryString)\n"
   ]
  },
  {
   "cell_type": "code",
   "execution_count": 36,
   "id": "e3e8ed2e-9343-46f8-b98c-ebe1bf950708",
   "metadata": {},
   "outputs": [
    {
     "name": "stdout",
     "output_type": "stream",
     "text": [
      "Results\n",
      "[('countitalianwriter', '7442')]\n"
     ]
    },
    {
     "data": {
      "text/plain": [
       "1"
      ]
     },
     "execution_count": 36,
     "metadata": {},
     "output_type": "execute_result"
    }
   ],
   "source": [
    "#all italy + Kingdom of Italy authors in last 50 years\n",
    "queryString = \"\"\"\n",
    "SELECT (COUNT (DISTINCT ?italianwriter) AS ?countitalianwriter) \n",
    "WHERE { \n",
    "    \n",
    "    {?italianwriter wdt:P27 wd:Q38 }\n",
    "    UNION { ?italianwriter wdt:P27 wd:Q172579 } \n",
    "    ?italianwriter wdt:P106 wd:Q36180 .\n",
    "\n",
    "} \n",
    "\n",
    "\"\"\"\n",
    "print(\"Results\")\n",
    "run_query(queryString)\n"
   ]
  },
  {
   "cell_type": "code",
   "execution_count": 37,
   "id": "0798596b-efa7-4933-acf6-f1210dfb7c6e",
   "metadata": {},
   "outputs": [
    {
     "name": "stdout",
     "output_type": "stream",
     "text": [
      "Results\n",
      "[('countwriter', '21821')]\n"
     ]
    },
    {
     "data": {
      "text/plain": [
       "1"
      ]
     },
     "execution_count": 37,
     "metadata": {},
     "output_type": "execute_result"
    }
   ],
   "source": [
    "## +Kingdom of Italy+italy +france authors\n",
    "queryString = \"\"\"\n",
    "SELECT (COUNT (DISTINCT ?writer) AS ?countwriter) \n",
    "WHERE { \n",
    "    {?writer wdt:P27 wd:Q38 }\n",
    "    UNION\n",
    "    {?writer wdt:P27 wd:Q142 }\n",
    "    UNION { ?writer wdt:P27 wd:Q172579 } \n",
    "    ?writer wdt:P106 wd:Q36180 .\n",
    "} \n",
    "\n",
    "\"\"\"\n",
    "print(\"Results\")\n",
    "run_query(queryString)    "
   ]
  },
  {
   "cell_type": "code",
   "execution_count": 38,
   "id": "7d7ab7f4-90d1-44bb-8ed1-c7436109958e",
   "metadata": {},
   "outputs": [
    {
     "name": "stdout",
     "output_type": "stream",
     "text": [
      "Results\n",
      "[('bookname', \"L'amore è un dio\"), ('italianwritername', 'Eva Cantarella'), ('citizenname', 'Italy'), ('time', '2007-01-01T00:00:00Z')]\n",
      "[('bookname', 'Bisexuality in the ancient Word'), ('italianwritername', 'Eva Cantarella'), ('citizenname', 'Italy'), ('time', '1988-01-01T00:00:00Z')]\n",
      "[('bookname', 'Indian Summer'), ('italianwritername', 'Milo Manara'), ('citizenname', 'Italy'), ('time', '1983-01-01T00:00:00Z')]\n",
      "[('bookname', 'Gomorrah'), ('italianwritername', 'Roberto Saviano'), ('citizenname', 'Italy'), ('time', '2006-01-01T00:00:00Z')]\n",
      "[('bookname', 'Those Who Leave and Those Who Stay'), ('italianwritername', 'Elena Ferrante'), ('citizenname', 'Italy'), ('time', '2013-01-01T00:00:00Z')]\n",
      "[('bookname', 'Sotto il sole giaguaro'), ('italianwritername', 'Italo Calvino'), ('citizenname', 'Kingdom of Italy'), ('time', '1986-01-01T00:00:00Z')]\n",
      "[('bookname', 'Sotto il sole giaguaro'), ('italianwritername', 'Italo Calvino'), ('citizenname', 'Italy'), ('time', '1986-01-01T00:00:00Z')]\n",
      "[('bookname', 'Zero Zero Zero'), ('italianwritername', 'Roberto Saviano'), ('citizenname', 'Italy'), ('time', '2013-01-01T00:00:00Z')]\n",
      "[('bookname', 'Why Read the Classics?'), ('italianwritername', 'Italo Calvino'), ('citizenname', 'Kingdom of Italy'), ('time', '1991-01-01T00:00:00Z')]\n",
      "[('bookname', 'Why Read the Classics?'), ('italianwritername', 'Italo Calvino'), ('citizenname', 'Italy'), ('time', '1991-01-01T00:00:00Z')]\n",
      "[('bookname', 'The Story of the Lost Child'), ('italianwritername', 'Elena Ferrante'), ('citizenname', 'Italy'), ('time', '2014-01-01T00:00:00Z')]\n",
      "[('bookname', 'I conservatori delle sinistre : Antonio Gramsci : il vissuto di Gramsci nei rapporti con la moglie Giulia, la cognata Tatiana, la madre'), ('italianwritername', 'Maria Antonietta Macciocchi'), ('citizenname', 'Kingdom of Italy'), ('time', '1974-01-01T00:00:00Z')]\n",
      "[('bookname', 'I conservatori delle sinistre : Antonio Gramsci : il vissuto di Gramsci nei rapporti con la moglie Giulia, la cognata Tatiana, la madre'), ('italianwritername', 'Maria Antonietta Macciocchi'), ('citizenname', 'Italy'), ('time', '1974-01-01T00:00:00Z')]\n",
      "[('bookname', 'My Brilliant Friend'), ('italianwritername', 'Elena Ferrante'), ('citizenname', 'Italy'), ('time', '2011-01-01T00:00:00Z')]\n",
      "[('bookname', 'Neapolitan Novels'), ('italianwritername', 'Elena Ferrante'), ('citizenname', 'Italy'), ('time', '2014-01-01T00:00:00Z')]\n",
      "[('bookname', 'The Story of a New Name'), ('italianwritername', 'Elena Ferrante'), ('citizenname', 'Italy'), ('time', '2012-01-01T00:00:00Z')]\n",
      "[('bookname', \"L'incendio\"), ('italianwritername', 'Mario Soldati'), ('citizenname', 'Kingdom of Italy'), ('time', '1981-01-01T00:00:00Z')]\n",
      "[('bookname', \"L'incendio\"), ('italianwritername', 'Mario Soldati'), ('citizenname', 'Italy'), ('time', '1981-01-01T00:00:00Z')]\n",
      "[('bookname', 'The Complete Cosmicomics'), ('italianwritername', 'Italo Calvino'), ('citizenname', 'Kingdom of Italy'), ('time', '2009-05-01T00:00:00Z')]\n",
      "[('bookname', 'The Complete Cosmicomics'), ('italianwritername', 'Italo Calvino'), ('citizenname', 'Italy'), ('time', '2009-05-01T00:00:00Z')]\n"
     ]
    },
    {
     "data": {
      "text/plain": [
       "20"
      ]
     },
     "execution_count": 38,
     "metadata": {},
     "output_type": "execute_result"
    }
   ],
   "source": [
    "## all books by italian authors in last 50 years with their country of citizen\n",
    "queryString = \"\"\"\n",
    "SELECT ?bookname ?italianwritername ?citizenname ?time\n",
    "WHERE { \n",
    "    {?italianwriter wdt:P27 wd:Q38 }\n",
    "    UNION { ?italianwriter wdt:P27 wd:Q172579 } \n",
    "    ?italianwriter wdt:P106 wd:Q36180 .\n",
    "    ?italianwriter wdt:P27 ?citizen .\n",
    "    \n",
    "    ?book wdt:P50 ?italianwriter .\n",
    "    ?book wdt:P577 ?time .\n",
    "    FILTER(\"1972-01-01\"^^xsd:dateTime <= ?time && ?time < \"2022-01-01\"^^xsd:dateTime).\n",
    "    #labels\n",
    "    ?book <http://schema.org/name> ?bookname .\n",
    "    ?italianwriter <http://schema.org/name> ?italianwritername .\n",
    "    ?citizen <http://schema.org/name> ?citizenname .\n",
    "} \n",
    "LIMIT 20\n",
    "\"\"\"\n",
    "print(\"Results\")\n",
    "run_query(queryString)\n"
   ]
  },
  {
   "cell_type": "markdown",
   "id": "1be508ed-b111-4608-91a9-fefdbd638913",
   "metadata": {},
   "source": [
    "### All books written by authors in last 50 years with their country of citizen that are Kingdom of Italy, Italy and France "
   ]
  },
  {
   "cell_type": "code",
   "execution_count": 39,
   "id": "b027f238-7c40-4f04-ac92-7a0a768061fa",
   "metadata": {},
   "outputs": [
    {
     "name": "stdout",
     "output_type": "stream",
     "text": [
      "Results\n",
      "[('bookname', \"L'amore è un dio\"), ('writername', 'Eva Cantarella'), ('citizenname', 'Italy'), ('time', '2007-01-01T00:00:00Z')]\n",
      "[('bookname', 'Bisexuality in the ancient Word'), ('writername', 'Eva Cantarella'), ('citizenname', 'Italy'), ('time', '1988-01-01T00:00:00Z')]\n",
      "[('bookname', 'Indian Summer'), ('writername', 'Milo Manara'), ('citizenname', 'Italy'), ('time', '1983-01-01T00:00:00Z')]\n",
      "[('bookname', 'Gomorrah'), ('writername', 'Roberto Saviano'), ('citizenname', 'Italy'), ('time', '2006-01-01T00:00:00Z')]\n",
      "[('bookname', 'Those Who Leave and Those Who Stay'), ('writername', 'Elena Ferrante'), ('citizenname', 'Italy'), ('time', '2013-01-01T00:00:00Z')]\n",
      "[('bookname', 'Sotto il sole giaguaro'), ('writername', 'Italo Calvino'), ('citizenname', 'Kingdom of Italy'), ('time', '1986-01-01T00:00:00Z')]\n",
      "[('bookname', 'Sotto il sole giaguaro'), ('writername', 'Italo Calvino'), ('citizenname', 'Italy'), ('time', '1986-01-01T00:00:00Z')]\n",
      "[('bookname', 'Zero Zero Zero'), ('writername', 'Roberto Saviano'), ('citizenname', 'Italy'), ('time', '2013-01-01T00:00:00Z')]\n",
      "[('bookname', 'Why Read the Classics?'), ('writername', 'Italo Calvino'), ('citizenname', 'Kingdom of Italy'), ('time', '1991-01-01T00:00:00Z')]\n",
      "[('bookname', 'Why Read the Classics?'), ('writername', 'Italo Calvino'), ('citizenname', 'Italy'), ('time', '1991-01-01T00:00:00Z')]\n"
     ]
    },
    {
     "data": {
      "text/plain": [
       "10"
      ]
     },
     "execution_count": 39,
     "metadata": {},
     "output_type": "execute_result"
    }
   ],
   "source": [
    "## all books by +Kingdom of Italy+italy +france authors in last 50 years with their country of citizen\n",
    "queryString = \"\"\"\n",
    "SELECT ?bookname ?writername ?citizenname ?time\n",
    "WHERE { \n",
    "    {?writer wdt:P27 wd:Q38 }\n",
    "    UNION\n",
    "    {?writer wdt:P27 wd:Q142 }\n",
    "    UNION { ?writer wdt:P27 wd:Q172579 } \n",
    "    ?writer wdt:P106 wd:Q36180 .\n",
    "    ?writer wdt:P27 ?citizen .\n",
    "    \n",
    "    ?book wdt:P50 ?writer .\n",
    "    ?book wdt:P577 ?time .\n",
    "    FILTER(\"1972-01-01\"^^xsd:dateTime <= ?time && ?time < \"2022-01-01\"^^xsd:dateTime).\n",
    "    #labels\n",
    "    ?book <http://schema.org/name> ?bookname .\n",
    "    ?writer <http://schema.org/name> ?writername .\n",
    "    ?citizen <http://schema.org/name> ?citizenname .\n",
    "} \n",
    "LIMIT 10\n",
    "\"\"\"\n",
    "print(\"Results\")\n",
    "run_query(queryString)\n"
   ]
  },
  {
   "cell_type": "code",
   "execution_count": 40,
   "id": "7f7c87d0-b27b-485c-8888-e626e36d41f1",
   "metadata": {},
   "outputs": [
    {
     "name": "stdout",
     "output_type": "stream",
     "text": [
      "Results\n",
      "[('writername', 'Curzio Malaparte'), ('booknames', 'Maledetti toscani, Tecnica del colpo di Stato'), ('citizenname', 'Kingdom of Italy')]\n",
      "[('writername', 'Jacques Priol'), ('booknames', 'Ne laissez pas Google gérer nos villes !'), ('citizenname', 'France')]\n",
      "[('writername', 'Claude Moliterni'), ('booknames', 'Les aventures de la BD'), ('citizenname', 'France')]\n",
      "[('writername', 'Giorgio Montefoschi'), ('booknames', 'House of the father'), ('citizenname', 'Italy')]\n",
      "[('writername', 'Silvia Federici'), ('booknames', 'Caliban and the Witch'), ('citizenname', 'Italy')]\n",
      "[('writername', 'Victor Hugo'), ('booknames', 'The Man Who Laughs, [Budget. 1848].'), ('citizenname', 'France')]\n",
      "[('writername', 'Cyril Gély'), ('booknames', 'Fabrika'), ('citizenname', 'France')]\n",
      "[('writername', 'Norberto Bobbio'), ('booknames', 'Legal Positivism'), ('citizenname', 'Kingdom of Italy')]\n",
      "[('writername', 'Igor Škamperle'), ('booknames', 'Kraljeva hči'), ('citizenname', 'Italy')]\n",
      "[('writername', 'Giorgio Agamben'), ('booknames', 'Remnants of Auschwitz, Where Are We Now? The Epidemic as Politics'), ('citizenname', 'Italy')]\n"
     ]
    },
    {
     "data": {
      "text/plain": [
       "10"
      ]
     },
     "execution_count": 40,
     "metadata": {},
     "output_type": "execute_result"
    }
   ],
   "source": [
    "## all books by +Kingdom of Italy+italy +france authors in last 50 years with their country of citizen\n",
    "queryString = \"\"\"\n",
    "SELECT ?writername (GROUP_CONCAT(DISTINCT ?bookname; SEPARATOR=\", \") AS ?booknames) ?citizenname\n",
    "WHERE {  \n",
    "    {?writer wdt:P27 wd:Q38 }\n",
    "    UNION\n",
    "    {?writer wdt:P27 wd:Q142 }\n",
    "    UNION { ?writer wdt:P27 wd:Q172579 } \n",
    "    ?writer wdt:P106 wd:Q36180 .\n",
    "    ?writer wdt:P27 ?citizen .\n",
    "    \n",
    "    ?book wdt:P50 ?writer .\n",
    "    ?book wdt:P577 ?time .\n",
    "    FILTER(\"1972-01-01\"^^xsd:dateTime <= ?time && ?time < \"2022-01-01\"^^xsd:dateTime).\n",
    "    #labels\n",
    "    ?book <http://schema.org/name> ?bookname .\n",
    "    ?writer <http://schema.org/name> ?writername .\n",
    "    ?citizen <http://schema.org/name> ?citizenname .\n",
    "} \n",
    "LIMIT 10\n",
    "\"\"\"\n",
    "print(\"Results\")\n",
    "run_query(queryString)\n"
   ]
  },
  {
   "cell_type": "markdown",
   "id": "b0b9472d-fc0f-4a00-b34c-c76f7637511e",
   "metadata": {},
   "source": [
    "## 1) Identify the BGP for obtaining the Italian and French writers who published a book in the last 50 years"
   ]
  },
  {
   "cell_type": "code",
   "execution_count": 41,
   "id": "03b63732-9293-4b51-b0d6-7aaa4be019bf",
   "metadata": {},
   "outputs": [
    {
     "name": "stdout",
     "output_type": "stream",
     "text": [
      "Results\n",
      "[('writername', 'Italo Calvino'), ('citizenname', 'Kingdom of Italy')]\n",
      "[('writername', 'Natalia Ginzburg'), ('citizenname', 'Kingdom of Italy')]\n",
      "[('writername', 'Maria Antonietta Macciocchi'), ('citizenname', 'Kingdom of Italy')]\n",
      "[('writername', 'Alberto Bevilacqua'), ('citizenname', 'Kingdom of Italy')]\n",
      "[('writername', 'Cesarina Vighy'), ('citizenname', 'Kingdom of Italy')]\n",
      "[('writername', 'Mario Soldati'), ('citizenname', 'Kingdom of Italy')]\n",
      "[('writername', 'Renzo De Felice'), ('citizenname', 'Kingdom of Italy')]\n",
      "[('writername', 'Sergio Tofano'), ('citizenname', 'Kingdom of Italy')]\n",
      "[('writername', 'Lino Aldani'), ('citizenname', 'Kingdom of Italy')]\n",
      "[('writername', 'Michelangelo Antonioni'), ('citizenname', 'Kingdom of Italy')]\n",
      "[('writername', 'Roberto Pazzi'), ('citizenname', 'Italy')]\n",
      "[('writername', 'Eva Cantarella'), ('citizenname', 'Italy')]\n",
      "[('writername', 'Milo Manara'), ('citizenname', 'Italy')]\n",
      "[('writername', 'Roberto Saviano'), ('citizenname', 'Italy')]\n",
      "[('writername', 'Elena Ferrante'), ('citizenname', 'Italy')]\n",
      "[('writername', 'Italo Calvino'), ('citizenname', 'Italy')]\n",
      "[('writername', 'Natalia Ginzburg'), ('citizenname', 'Italy')]\n",
      "[('writername', 'Maria Antonietta Macciocchi'), ('citizenname', 'Italy')]\n",
      "[('writername', 'Alberto Bevilacqua'), ('citizenname', 'Italy')]\n",
      "[('writername', 'Cesarina Vighy'), ('citizenname', 'Italy')]\n"
     ]
    },
    {
     "data": {
      "text/plain": [
       "20"
      ]
     },
     "execution_count": 41,
     "metadata": {},
     "output_type": "execute_result"
    }
   ],
   "source": [
    "## all Kingdom of Italy+italy +france authors in last 50 years with their country of citizen\n",
    "queryString = \"\"\"\n",
    "SELECT DISTINCT ?writername ?citizenname \n",
    "WHERE { \n",
    "    {?writer wdt:P27 wd:Q38 }\n",
    "    UNION\n",
    "    {?writer wdt:P27 wd:Q142 }\n",
    "    UNION { ?writer wdt:P27 wd:Q172579 } \n",
    "    ?writer wdt:P106 wd:Q36180 .\n",
    "    ?writer wdt:P27 ?citizen .\n",
    "    \n",
    "    ?book wdt:P50 ?writer .\n",
    "    ?book wdt:P577 ?time .\n",
    "    FILTER(\"1972-01-01\"^^xsd:dateTime <= ?time && ?time < \"2022-01-01\"^^xsd:dateTime).\n",
    "    #labels\n",
    "    \n",
    "    ?writer <http://schema.org/name> ?writername .\n",
    "    ?citizen <http://schema.org/name> ?citizenname .\n",
    "} \n",
    "LIMIT 20\n",
    "\"\"\"\n",
    "print(\"Results\")\n",
    "run_query(queryString)"
   ]
  },
  {
   "cell_type": "code",
   "execution_count": 42,
   "id": "e8850f47-8cab-479c-bc44-2c21f3ddc8ed",
   "metadata": {},
   "outputs": [
    {
     "name": "stdout",
     "output_type": "stream",
     "text": [
      "Results\n",
      "[('writer', 'http://www.wikidata.org/entity/Q154756'), ('writername', 'Italo Calvino'), ('citizenname', 'Kingdom of Italy')]\n",
      "[('writer', 'http://www.wikidata.org/entity/Q275985'), ('writername', 'Natalia Ginzburg'), ('citizenname', 'Kingdom of Italy')]\n",
      "[('writer', 'http://www.wikidata.org/entity/Q1083986'), ('writername', 'Maria Antonietta Macciocchi'), ('citizenname', 'Kingdom of Italy')]\n",
      "[('writer', 'http://www.wikidata.org/entity/Q1130258'), ('writername', 'Alberto Bevilacqua'), ('citizenname', 'Kingdom of Italy')]\n",
      "[('writer', 'http://www.wikidata.org/entity/Q599424'), ('writername', 'Cesarina Vighy'), ('citizenname', 'Kingdom of Italy')]\n",
      "[('writer', 'http://www.wikidata.org/entity/Q59210'), ('writername', 'Mario Soldati'), ('citizenname', 'Kingdom of Italy')]\n",
      "[('writer', 'http://www.wikidata.org/entity/Q438273'), ('writername', 'Renzo De Felice'), ('citizenname', 'Kingdom of Italy')]\n",
      "[('writer', 'http://www.wikidata.org/entity/Q982381'), ('writername', 'Sergio Tofano'), ('citizenname', 'Kingdom of Italy')]\n",
      "[('writer', 'http://www.wikidata.org/entity/Q552484'), ('writername', 'Lino Aldani'), ('citizenname', 'Kingdom of Italy')]\n",
      "[('writer', 'http://www.wikidata.org/entity/Q55433'), ('writername', 'Michelangelo Antonioni'), ('citizenname', 'Kingdom of Italy')]\n",
      "[('writer', 'http://www.wikidata.org/entity/Q1215723'), ('writername', 'Roberto Pazzi'), ('citizenname', 'Italy')]\n",
      "[('writer', 'http://www.wikidata.org/entity/Q459650'), ('writername', 'Eva Cantarella'), ('citizenname', 'Italy')]\n",
      "[('writer', 'http://www.wikidata.org/entity/Q505666'), ('writername', 'Milo Manara'), ('citizenname', 'Italy')]\n",
      "[('writer', 'http://www.wikidata.org/entity/Q25163'), ('writername', 'Roberto Saviano'), ('citizenname', 'Italy')]\n",
      "[('writer', 'http://www.wikidata.org/entity/Q368127'), ('writername', 'Elena Ferrante'), ('citizenname', 'Italy')]\n",
      "[('writer', 'http://www.wikidata.org/entity/Q154756'), ('writername', 'Italo Calvino'), ('citizenname', 'Italy')]\n",
      "[('writer', 'http://www.wikidata.org/entity/Q275985'), ('writername', 'Natalia Ginzburg'), ('citizenname', 'Italy')]\n",
      "[('writer', 'http://www.wikidata.org/entity/Q1083986'), ('writername', 'Maria Antonietta Macciocchi'), ('citizenname', 'Italy')]\n",
      "[('writer', 'http://www.wikidata.org/entity/Q1130258'), ('writername', 'Alberto Bevilacqua'), ('citizenname', 'Italy')]\n",
      "[('writer', 'http://www.wikidata.org/entity/Q599424'), ('writername', 'Cesarina Vighy'), ('citizenname', 'Italy')]\n",
      "[('writer', 'http://www.wikidata.org/entity/Q59210'), ('writername', 'Mario Soldati'), ('citizenname', 'Italy')]\n",
      "[('writer', 'http://www.wikidata.org/entity/Q466716'), ('writername', 'Dalila Di Lazzaro'), ('citizenname', 'Italy')]\n",
      "[('writer', 'http://www.wikidata.org/entity/Q17490283'), ('writername', 'Giuseppe Iadanza'), ('citizenname', 'Italy')]\n",
      "[('writer', 'http://www.wikidata.org/entity/Q438273'), ('writername', 'Renzo De Felice'), ('citizenname', 'Italy')]\n",
      "[('writer', 'http://www.wikidata.org/entity/Q55435'), ('writername', 'Pupi Avati'), ('citizenname', 'Italy')]\n",
      "[('writer', 'http://www.wikidata.org/entity/Q982381'), ('writername', 'Sergio Tofano'), ('citizenname', 'Italy')]\n",
      "[('writer', 'http://www.wikidata.org/entity/Q3488925'), ('writername', 'Francesco Sorti'), ('citizenname', 'Italy')]\n",
      "[('writer', 'http://www.wikidata.org/entity/Q7336582'), ('writername', 'Rita Monaldi'), ('citizenname', 'Italy')]\n",
      "[('writer', 'http://www.wikidata.org/entity/Q552484'), ('writername', 'Lino Aldani'), ('citizenname', 'Italy')]\n",
      "[('writer', 'http://www.wikidata.org/entity/Q55433'), ('writername', 'Michelangelo Antonioni'), ('citizenname', 'Italy')]\n",
      "[('writer', 'http://www.wikidata.org/entity/Q525798'), ('writername', 'Fulvio Tomizza'), ('citizenname', 'Free Territory of Trieste')]\n",
      "[('writer', 'http://www.wikidata.org/entity/Q153670'), ('writername', 'Primo Levi'), ('citizenname', 'Kingdom of Italy')]\n",
      "[('writer', 'http://www.wikidata.org/entity/Q525798'), ('writername', 'Fulvio Tomizza'), ('citizenname', 'Kingdom of Italy')]\n",
      "[('writer', 'http://www.wikidata.org/entity/Q1587727'), ('writername', 'Goliarda Sapienza'), ('citizenname', 'Kingdom of Italy')]\n",
      "[('writer', 'http://www.wikidata.org/entity/Q275979'), ('writername', 'Elsa Morante'), ('citizenname', 'Kingdom of Italy')]\n",
      "[('writer', 'http://www.wikidata.org/entity/Q242095'), ('writername', 'Dino Buzzati'), ('citizenname', 'Kingdom of Italy')]\n",
      "[('writer', 'http://www.wikidata.org/entity/Q222791'), ('writername', 'Ennio Flaiano'), ('citizenname', 'Kingdom of Italy')]\n",
      "[('writer', 'http://www.wikidata.org/entity/Q12085'), ('writername', 'Gianluigi Bonelli'), ('citizenname', 'Kingdom of Italy')]\n",
      "[('writer', 'http://www.wikidata.org/entity/Q471328'), ('writername', 'Paolo Villaggio'), ('citizenname', 'Kingdom of Italy')]\n",
      "[('writer', 'http://www.wikidata.org/entity/Q382638'), ('writername', 'Enzo Biagi'), ('citizenname', 'Kingdom of Italy')]\n",
      "[('writer', 'http://www.wikidata.org/entity/Q1227036'), ('writername', 'Franco Lucentini'), ('citizenname', 'Kingdom of Italy')]\n",
      "[('writer', 'http://www.wikidata.org/entity/Q364582'), ('writername', 'Tullio Kezich'), ('citizenname', 'Kingdom of Italy')]\n",
      "[('writer', 'http://www.wikidata.org/entity/Q545378'), ('writername', 'Tullio Pinelli'), ('citizenname', 'Kingdom of Italy')]\n",
      "[('writer', 'http://www.wikidata.org/entity/Q708563'), ('writername', 'Emilio Cecchi'), ('citizenname', 'Kingdom of Italy')]\n",
      "[('writer', 'http://www.wikidata.org/entity/Q1521732'), ('writername', 'Ghigo De Chiara'), ('citizenname', 'Kingdom of Italy')]\n",
      "[('writer', 'http://www.wikidata.org/entity/Q460095'), ('writername', 'Tonino Guerra'), ('citizenname', 'Kingdom of Italy')]\n",
      "[('writer', 'http://www.wikidata.org/entity/Q2246920'), ('writername', 'Nuto Revelli'), ('citizenname', 'Kingdom of Italy')]\n",
      "[('writer', 'http://www.wikidata.org/entity/Q244234'), ('writername', 'John Turturro'), ('citizenname', 'United States of America')]\n",
      "[('writer', 'http://www.wikidata.org/entity/Q161933'), ('writername', 'Alberto Moravia'), ('citizenname', 'Italy')]\n",
      "[('writer', 'http://www.wikidata.org/entity/Q153670'), ('writername', 'Primo Levi'), ('citizenname', 'Italy')]\n"
     ]
    },
    {
     "data": {
      "text/plain": [
       "50"
      ]
     },
     "execution_count": 42,
     "metadata": {},
     "output_type": "execute_result"
    }
   ],
   "source": [
    "## all Kingdom of Italy+italy +france authors in last 50 years with their country of citizen\n",
    "queryString = \"\"\"\n",
    "SELECT DISTINCT ?writer ?writername ?citizenname \n",
    "WHERE { \n",
    "    {?writer wdt:P27 wd:Q38 }\n",
    "    UNION\n",
    "    {?writer wdt:P27 wd:Q142 }\n",
    "    UNION { ?writer wdt:P27 wd:Q172579 } \n",
    "    ?writer wdt:P106 wd:Q36180 .\n",
    "    ?writer wdt:P27 ?citizen .\n",
    "    \n",
    "    ?book wdt:P50 ?writer .\n",
    "    ?book wdt:P577 ?time .\n",
    "    FILTER(\"1972-01-01\"^^xsd:dateTime <= ?time && ?time < \"2022-01-01\"^^xsd:dateTime).\n",
    "    #labels\n",
    "    \n",
    "    ?writer <http://schema.org/name> ?writername .\n",
    "    ?citizen <http://schema.org/name> ?citizenname .\n",
    "} \n",
    "LIMIT 50\n",
    "\"\"\"\n",
    "print(\"Results\")\n",
    "run_query(queryString)"
   ]
  },
  {
   "cell_type": "code",
   "execution_count": 43,
   "id": "b57f185a-75c2-41d6-8a55-ebe724f45bb0",
   "metadata": {},
   "outputs": [
    {
     "name": "stdout",
     "output_type": "stream",
     "text": [
      "Results\n",
      "[('s', 'http://www.wikidata.org/entity/Q115134'), ('sname', 'Aida Turturro'), ('p', 'http://www.wikidata.org/prop/direct/P1038'), ('pname', 'relative')]\n",
      "[('s', 'http://www.wikidata.org/entity/Q3404523'), ('sname', 'David di Donatello for Best Foreign Actor'), ('p', 'http://www.wikidata.org/prop/direct/P1346'), ('pname', 'winner')]\n",
      "[('s', 'http://www.wikidata.org/entity/Q530923'), ('sname', 'Primetime Emmy Award for Outstanding Guest Actor in a Comedy Series'), ('p', 'http://www.wikidata.org/prop/direct/P1346'), ('pname', 'winner')]\n",
      "[('s', 'http://www.wikidata.org/entity/Q651722'), ('sname', 'Quiz Show'), ('p', 'http://www.wikidata.org/prop/direct/P161'), ('pname', 'cast member')]\n",
      "[('s', 'http://www.wikidata.org/entity/Q15614650'), ('sname', \"God's Pocket\"), ('p', 'http://www.wikidata.org/prop/direct/P161'), ('pname', 'cast member')]\n",
      "[('s', 'http://www.wikidata.org/entity/Q130142'), ('sname', \"Miller's Crossing\"), ('p', 'http://www.wikidata.org/prop/direct/P161'), ('pname', 'cast member')]\n",
      "[('s', 'http://www.wikidata.org/entity/Q471951'), ('sname', 'The Man Who Cried'), ('p', 'http://www.wikidata.org/prop/direct/P161'), ('pname', 'cast member')]\n",
      "[('s', 'http://www.wikidata.org/entity/Q1143287'), ('sname', 'Thirteen Conversations About One Thing'), ('p', 'http://www.wikidata.org/prop/direct/P161'), ('pname', 'cast member')]\n",
      "[('s', 'http://www.wikidata.org/entity/Q2092126'), ('sname', 'Romance & Cigarettes'), ('p', 'http://www.wikidata.org/prop/direct/P161'), ('pname', 'cast member')]\n",
      "[('s', 'http://www.wikidata.org/entity/Q3796466'), ('sname', 'Illuminata'), ('p', 'http://www.wikidata.org/prop/direct/P161'), ('pname', 'cast member')]\n",
      "[('s', 'http://www.wikidata.org/entity/Q3941726'), ('sname', 'Rosy-Fingered Dawn'), ('p', 'http://www.wikidata.org/prop/direct/P161'), ('pname', 'cast member')]\n",
      "[('s', 'http://www.wikidata.org/entity/Q4275209'), ('sname', 'Mac'), ('p', 'http://www.wikidata.org/prop/direct/P161'), ('pname', 'cast member')]\n",
      "[('s', 'http://www.wikidata.org/entity/Q171453'), ('sname', 'Transformers'), ('p', 'http://www.wikidata.org/prop/direct/P161'), ('pname', 'cast member')]\n",
      "[('s', 'http://www.wikidata.org/entity/Q191100'), ('sname', 'Transformers: Revenge of the Fallen'), ('p', 'http://www.wikidata.org/prop/direct/P161'), ('pname', 'cast member')]\n",
      "[('s', 'http://www.wikidata.org/entity/Q232774'), ('sname', 'Transformers: Dark of the Moon'), ('p', 'http://www.wikidata.org/prop/direct/P161'), ('pname', 'cast member')]\n",
      "[('s', 'http://www.wikidata.org/entity/Q26714982'), ('sname', 'The Jesus Rolls'), ('p', 'http://www.wikidata.org/prop/direct/P161'), ('pname', 'cast member')]\n",
      "[('s', 'http://www.wikidata.org/entity/Q337078'), ('sname', 'The Big Lebowski'), ('p', 'http://www.wikidata.org/prop/direct/P161'), ('pname', 'cast member')]\n",
      "[('s', 'http://www.wikidata.org/entity/Q501874'), ('sname', 'O Brother, Where Art Thou?'), ('p', 'http://www.wikidata.org/prop/direct/P161'), ('pname', 'cast member')]\n",
      "[('s', 'http://www.wikidata.org/entity/Q6135321'), ('sname', 'Sugartime'), ('p', 'http://www.wikidata.org/prop/direct/P161'), ('pname', 'cast member')]\n",
      "[('s', 'http://www.wikidata.org/entity/Q895536'), ('sname', 'Box of Moonlight'), ('p', 'http://www.wikidata.org/prop/direct/P161'), ('pname', 'cast member')]\n",
      "[('s', 'http://www.wikidata.org/entity/Q4133530'), ('sname', 'O.K. Garage'), ('p', 'http://www.wikidata.org/prop/direct/P161'), ('pname', 'cast member')]\n",
      "[('s', 'http://www.wikidata.org/entity/Q1191928'), ('sname', 'Monkeybone'), ('p', 'http://www.wikidata.org/prop/direct/P161'), ('pname', 'cast member')]\n",
      "[('s', 'http://www.wikidata.org/entity/Q472165'), ('sname', 'Secret Window'), ('p', 'http://www.wikidata.org/prop/direct/P161'), ('pname', 'cast member')]\n",
      "[('s', 'http://www.wikidata.org/entity/Q2850022'), ('sname', 'Animals with the Tollkeeper'), ('p', 'http://www.wikidata.org/prop/direct/P161'), ('pname', 'cast member')]\n",
      "[('s', 'http://www.wikidata.org/entity/Q869719'), ('sname', 'The Taking of Pelham 123'), ('p', 'http://www.wikidata.org/prop/direct/P161'), ('pname', 'cast member')]\n",
      "[('s', 'http://www.wikidata.org/entity/Q470916'), ('sname', 'The Color of Money'), ('p', 'http://www.wikidata.org/prop/direct/P161'), ('pname', 'cast member')]\n",
      "[('s', 'http://www.wikidata.org/entity/Q3179069'), ('sname', 'A Few Days in September'), ('p', 'http://www.wikidata.org/prop/direct/P161'), ('pname', 'cast member')]\n",
      "[('s', 'http://www.wikidata.org/entity/Q220780'), ('sname', 'Raging Bull'), ('p', 'http://www.wikidata.org/prop/direct/P161'), ('pname', 'cast member')]\n",
      "[('s', 'http://www.wikidata.org/entity/Q506605'), ('sname', 'Collateral Damage'), ('p', 'http://www.wikidata.org/prop/direct/P161'), ('pname', 'cast member')]\n",
      "[('s', 'http://www.wikidata.org/entity/Q1171556'), ('sname', 'Cradle Will Rock'), ('p', 'http://www.wikidata.org/prop/direct/P161'), ('pname', 'cast member')]\n",
      "[('s', 'http://www.wikidata.org/entity/Q1196895'), ('sname', 'The Sicilian'), ('p', 'http://www.wikidata.org/prop/direct/P161'), ('pname', 'cast member')]\n",
      "[('s', 'http://www.wikidata.org/entity/Q2056364'), ('sname', 'Company Man'), ('p', 'http://www.wikidata.org/prop/direct/P161'), ('pname', 'cast member')]\n",
      "[('s', 'http://www.wikidata.org/entity/Q7396626'), ('sname', 'Sacco and Vanzetti'), ('p', 'http://www.wikidata.org/prop/direct/P161'), ('pname', 'cast member')]\n",
      "[('s', 'http://www.wikidata.org/entity/Q151703'), ('sname', 'The Luzhin Defence'), ('p', 'http://www.wikidata.org/prop/direct/P161'), ('pname', 'cast member')]\n",
      "[('s', 'http://www.wikidata.org/entity/Q14942871'), ('sname', 'Exodus: Gods and Kings'), ('p', 'http://www.wikidata.org/prop/direct/P161'), ('pname', 'cast member')]\n",
      "[('s', 'http://www.wikidata.org/entity/Q24251026'), ('sname', 'Transformers: The Last Knight'), ('p', 'http://www.wikidata.org/prop/direct/P161'), ('pname', 'cast member')]\n",
      "[('s', 'http://www.wikidata.org/entity/Q7335125'), ('sname', 'Rio, I Love You'), ('p', 'http://www.wikidata.org/prop/direct/P161'), ('pname', 'cast member')]\n",
      "[('s', 'http://www.wikidata.org/entity/Q5439352'), ('sname', 'Fear X'), ('p', 'http://www.wikidata.org/prop/direct/P161'), ('pname', 'cast member')]\n",
      "[('s', 'http://www.wikidata.org/entity/Q1756526'), ('sname', 'Christmas Story'), ('p', 'http://www.wikidata.org/prop/direct/P161'), ('pname', 'cast member')]\n",
      "[('s', 'http://www.wikidata.org/entity/Q44727126'), ('sname', 'Gloria Bell'), ('p', 'http://www.wikidata.org/prop/direct/P161'), ('pname', 'cast member')]\n",
      "[('s', 'http://www.wikidata.org/entity/Q5429259'), ('sname', 'Fading Gigolo'), ('p', 'http://www.wikidata.org/prop/direct/P161'), ('pname', 'cast member')]\n",
      "[('s', 'http://www.wikidata.org/entity/Q1703991'), ('sname', \"Mo' Better Blues\"), ('p', 'http://www.wikidata.org/prop/direct/P161'), ('pname', 'cast member')]\n",
      "[('s', 'http://www.wikidata.org/entity/Q61117344'), ('sname', 'The Batman'), ('p', 'http://www.wikidata.org/prop/direct/P161'), ('pname', 'cast member')]\n",
      "[('s', 'http://www.wikidata.org/entity/Q255742'), ('sname', 'Fearless'), ('p', 'http://www.wikidata.org/prop/direct/P161'), ('pname', 'cast member')]\n",
      "[('s', 'http://www.wikidata.org/entity/Q1211256'), ('sname', 'The Source'), ('p', 'http://www.wikidata.org/prop/direct/P161'), ('pname', 'cast member')]\n",
      "[('s', 'http://www.wikidata.org/entity/Q2517431'), ('sname', 'Girl 6'), ('p', 'http://www.wikidata.org/prop/direct/P161'), ('pname', 'cast member')]\n",
      "[('s', 'http://www.wikidata.org/entity/Q378891'), ('sname', 'What Just Happened'), ('p', 'http://www.wikidata.org/prop/direct/P161'), ('pname', 'cast member')]\n",
      "[('s', 'http://www.wikidata.org/entity/Q59595'), ('sname', 'Mr. Deeds'), ('p', 'http://www.wikidata.org/prop/direct/P161'), ('pname', 'cast member')]\n",
      "[('s', 'http://www.wikidata.org/entity/Q2268296'), ('sname', 'Clockers'), ('p', 'http://www.wikidata.org/prop/direct/P161'), ('pname', 'cast member')]\n",
      "[('s', 'http://www.wikidata.org/entity/Q221020'), ('sname', 'The Nutcracker in 3D'), ('p', 'http://www.wikidata.org/prop/direct/P161'), ('pname', 'cast member')]\n"
     ]
    },
    {
     "data": {
      "text/plain": [
       "50"
      ]
     },
     "execution_count": 43,
     "metadata": {},
     "output_type": "execute_result"
    }
   ],
   "source": [
    "# there is even people who have two citizenship, for instance: 'Alberto Moravia'\n",
    "queryString = \"\"\"\n",
    "SELECT ?s ?sname ?p ?pname\n",
    "WHERE { \n",
    "    ?s ?p wd:Q244234 .\n",
    "    #label\n",
    "    ?s <http://schema.org/name> ?sname .\n",
    "    ?p <http://schema.org/name> ?pname .\n",
    "} \n",
    "LIMIT 50\n",
    "\"\"\"\n",
    "print(\"Results\")\n",
    "run_query(queryString)\n"
   ]
  },
  {
   "cell_type": "code",
   "execution_count": 44,
   "id": "41100043-39f6-47e1-b0a3-bbe747c1c64a",
   "metadata": {},
   "outputs": [
    {
     "name": "stdout",
     "output_type": "stream",
     "text": [
      "Results\n",
      "[('s', 'http://www.wikidata.org/prop/direct/P800'), ('sname', 'notable work'), ('p', 'http://www.wikidata.org/entity/Q651722'), ('pname', 'Quiz Show')]\n",
      "[('s', 'http://www.wikidata.org/prop/direct/P734'), ('sname', 'family name'), ('p', 'http://www.wikidata.org/entity/Q37536925'), ('pname', 'Turturro')]\n",
      "[('s', 'http://www.wikidata.org/prop/direct/P69'), ('sname', 'educated at'), ('p', 'http://www.wikidata.org/entity/Q1140241'), ('pname', 'State University of New York')]\n",
      "[('s', 'http://www.wikidata.org/prop/direct/P106'), ('sname', 'occupation'), ('p', 'http://www.wikidata.org/entity/Q10798782'), ('pname', 'television actor')]\n",
      "[('s', 'http://www.wikidata.org/prop/direct/P106'), ('sname', 'occupation'), ('p', 'http://www.wikidata.org/entity/Q10800557'), ('pname', 'film actor')]\n",
      "[('s', 'http://www.wikidata.org/prop/direct/P166'), ('sname', 'award received'), ('p', 'http://www.wikidata.org/entity/Q1131356'), ('pname', 'Theatre World Award')]\n",
      "[('s', 'http://www.wikidata.org/prop/direct/P1412'), ('sname', 'languages spoken, written or signed'), ('p', 'http://www.wikidata.org/entity/Q1860'), ('pname', 'English')]\n",
      "[('s', 'http://www.wikidata.org/prop/direct/P106'), ('sname', 'occupation'), ('p', 'http://www.wikidata.org/entity/Q2259451'), ('pname', 'stage actor')]\n",
      "[('s', 'http://www.wikidata.org/prop/direct/P106'), ('sname', 'occupation'), ('p', 'http://www.wikidata.org/entity/Q2405480'), ('pname', 'voice actor')]\n",
      "[('s', 'http://www.wikidata.org/prop/direct/P106'), ('sname', 'occupation'), ('p', 'http://www.wikidata.org/entity/Q2526255'), ('pname', 'film director')]\n",
      "[('s', 'http://www.wikidata.org/prop/direct/P106'), ('sname', 'occupation'), ('p', 'http://www.wikidata.org/entity/Q28389'), ('pname', 'screenwriter')]\n",
      "[('s', 'http://www.wikidata.org/prop/direct/P27'), ('sname', 'country of citizenship'), ('p', 'http://www.wikidata.org/entity/Q30'), ('pname', 'United States of America')]\n",
      "[('s', 'http://www.wikidata.org/prop/direct/P106'), ('sname', 'occupation'), ('p', 'http://www.wikidata.org/entity/Q3282637'), ('pname', 'film producer')]\n",
      "[('s', 'http://www.wikidata.org/prop/direct/P106'), ('sname', 'occupation'), ('p', 'http://www.wikidata.org/entity/Q3387717'), ('pname', 'theatrical director')]\n",
      "[('s', 'http://www.wikidata.org/prop/direct/P106'), ('sname', 'occupation'), ('p', 'http://www.wikidata.org/entity/Q33999'), ('pname', 'actor')]\n",
      "[('s', 'http://www.wikidata.org/prop/direct/P106'), ('sname', 'occupation'), ('p', 'http://www.wikidata.org/entity/Q3455803'), ('pname', 'director')]\n",
      "[('s', 'http://www.wikidata.org/prop/direct/P106'), ('sname', 'occupation'), ('p', 'http://www.wikidata.org/entity/Q36180'), ('pname', 'writer')]\n",
      "[('s', 'http://www.wikidata.org/prop/direct/P27'), ('sname', 'country of citizenship'), ('p', 'http://www.wikidata.org/entity/Q38'), ('pname', 'Italy')]\n",
      "[('s', 'http://www.wikidata.org/prop/direct/P735'), ('sname', 'given name'), ('p', 'http://www.wikidata.org/entity/Q4925477'), ('pname', 'John')]\n",
      "[('s', 'http://www.wikidata.org/prop/direct/P31'), ('sname', 'instance of'), ('p', 'http://www.wikidata.org/entity/Q5'), ('pname', 'human')]\n",
      "[('s', 'http://www.wikidata.org/prop/direct/P1412'), ('sname', 'languages spoken, written or signed'), ('p', 'http://www.wikidata.org/entity/Q652'), ('pname', 'Italian')]\n",
      "[('s', 'http://www.wikidata.org/prop/direct/P21'), ('sname', 'sex or gender'), ('p', 'http://www.wikidata.org/entity/Q6581097'), ('pname', 'male')]\n",
      "[('s', 'http://www.wikidata.org/prop/direct/P1343'), ('sname', 'described by source'), ('p', 'http://www.wikidata.org/entity/Q67311526'), ('pname', 'Obalky knih.cz')]\n",
      "[('s', 'http://www.wikidata.org/prop/direct/P69'), ('sname', 'educated at'), ('p', 'http://www.wikidata.org/entity/Q8047423'), ('pname', 'Yale School of Drama')]\n",
      "[('s', 'http://www.wikidata.org/prop/direct/P19'), ('sname', 'place of birth'), ('p', 'http://www.wikidata.org/entity/Q18419'), ('pname', 'Brooklyn')]\n",
      "[('s', 'http://www.wikidata.org/prop/direct/P166'), ('sname', 'award received'), ('p', 'http://www.wikidata.org/entity/Q1044427'), ('pname', 'Primetime Emmy Award')]\n",
      "[('s', 'http://www.wikidata.org/prop/direct/P166'), ('sname', 'award received'), ('p', 'http://www.wikidata.org/entity/Q530923'), ('pname', 'Primetime Emmy Award for Outstanding Guest Actor in a Comedy Series')]\n",
      "[('s', 'http://www.wikidata.org/prop/direct/P106'), ('sname', 'occupation'), ('p', 'http://www.wikidata.org/entity/Q948329'), ('pname', 'character actor')]\n",
      "[('s', 'http://www.wikidata.org/prop/direct/P3373'), ('sname', 'sibling'), ('p', 'http://www.wikidata.org/entity/Q2342292'), ('pname', 'Nicholas Turturro')]\n",
      "[('s', 'http://www.wikidata.org/prop/direct/P166'), ('sname', 'award received'), ('p', 'http://www.wikidata.org/entity/Q42369'), ('pname', 'Cannes Film Festival')]\n",
      "[('s', 'http://www.wikidata.org/prop/direct/P800'), ('sname', 'notable work'), ('p', 'http://www.wikidata.org/entity/Q337078'), ('pname', 'The Big Lebowski')]\n",
      "[('s', 'http://www.wikidata.org/prop/direct/P69'), ('sname', 'educated at'), ('p', 'http://www.wikidata.org/entity/Q7603625'), ('pname', 'State University of New York at New Paltz')]\n",
      "[('s', 'http://www.wikidata.org/prop/direct/P7084'), ('sname', 'related category'), ('p', 'http://www.wikidata.org/entity/Q8454949'), ('pname', 'Category:Films directed by John Turturro')]\n",
      "[('s', 'http://www.wikidata.org/prop/direct/P40'), ('sname', 'child'), ('p', 'http://www.wikidata.org/entity/Q22915221'), ('pname', 'Diego Turturro')]\n",
      "[('s', 'http://www.wikidata.org/prop/direct/P40'), ('sname', 'child'), ('p', 'http://www.wikidata.org/entity/Q22915222'), ('pname', 'Amedeo Turturro')]\n",
      "[('s', 'http://www.wikidata.org/prop/direct/P26'), ('sname', 'spouse'), ('p', 'http://www.wikidata.org/entity/Q5958562'), ('pname', 'Katherine Borowitz')]\n",
      "[('s', 'http://www.wikidata.org/prop/direct/P800'), ('sname', 'notable work'), ('p', 'http://www.wikidata.org/entity/Q17986725'), ('pname', 'The Night Of')]\n",
      "[('s', 'http://www.wikidata.org/prop/direct/P1283'), ('sname', 'filmography'), ('p', 'http://www.wikidata.org/entity/Q26185205'), ('pname', 'John Turturro filmography')]\n",
      "[('s', 'http://www.wikidata.org/prop/direct/P800'), ('sname', 'notable work'), ('p', 'http://www.wikidata.org/entity/Q237215'), ('pname', 'Barton Fink')]\n"
     ]
    },
    {
     "data": {
      "text/plain": [
       "39"
      ]
     },
     "execution_count": 44,
     "metadata": {},
     "output_type": "execute_result"
    }
   ],
   "source": [
    "# there is even people who have two citizenship, for instance: 'Alberto Moravia'\n",
    "queryString = \"\"\"\n",
    "SELECT ?s ?sname ?p ?pname\n",
    "WHERE { \n",
    "    wd:Q244234 ?s ?p .\n",
    "    #label\n",
    "    ?s <http://schema.org/name> ?sname .\n",
    "    ?p <http://schema.org/name> ?pname .\n",
    "} \n",
    "LIMIT 50\n",
    "\"\"\"\n",
    "print(\"Results\")\n",
    "run_query(queryString)"
   ]
  },
  {
   "cell_type": "code",
   "execution_count": 45,
   "id": "eb4eebb1-e594-4e27-aaaa-8bcc8028b2b6",
   "metadata": {},
   "outputs": [
    {
     "name": "stdout",
     "output_type": "stream",
     "text": [
      "Results\n",
      "[('p', 'http://www.wikidata.org/entity/Q30'), ('pname', 'United States of America')]\n",
      "[('p', 'http://www.wikidata.org/entity/Q38'), ('pname', 'Italy')]\n"
     ]
    },
    {
     "data": {
      "text/plain": [
       "2"
      ]
     },
     "execution_count": 45,
     "metadata": {},
     "output_type": "execute_result"
    }
   ],
   "source": [
    "queryString = \"\"\"\n",
    "SELECT ?p ?pname\n",
    "WHERE { \n",
    "    wd:Q244234 wdt:P27 ?p .\n",
    "    \n",
    "    #label\n",
    "    \n",
    "    ?p <http://schema.org/name> ?pname .\n",
    "} \n",
    "LIMIT 50\n",
    "\"\"\"\n",
    "print(\"Results\")\n",
    "run_query(queryString)"
   ]
  },
  {
   "cell_type": "markdown",
   "id": "7198029e-9ae5-48ce-bc8f-aae581f10e5f",
   "metadata": {},
   "source": [
    "## 2) Compare the number of books written by Italian and French writers"
   ]
  },
  {
   "cell_type": "markdown",
   "id": "64cb78cd-eeed-4922-9df0-a01f9d89702e",
   "metadata": {},
   "source": [
    "## the number of books written by Italian writers"
   ]
  },
  {
   "cell_type": "code",
   "execution_count": 46,
   "id": "4b3a8450-0206-4914-8e97-ec3b4c5987ec",
   "metadata": {},
   "outputs": [
    {
     "name": "stdout",
     "output_type": "stream",
     "text": [
      "Results\n",
      "[('countitalianbook', '5771')]\n"
     ]
    },
    {
     "data": {
      "text/plain": [
       "1"
      ]
     },
     "execution_count": 46,
     "metadata": {},
     "output_type": "execute_result"
    }
   ],
   "source": [
    "# the number of books written by Italian writers\n",
    "\n",
    "queryString = \"\"\"\n",
    "\n",
    "SELECT (COUNT (DISTINCT ?book) AS ?countitalianbook)\n",
    "WHERE { \n",
    " \n",
    "  { ?italianwriter wdt:P27 wd:Q38 }\n",
    "  UNION\n",
    "  { ?italianwriter wdt:P27 wd:Q172579 }  \n",
    "\n",
    "    ?italianwriter wdt:P106 wd:Q36180 .\n",
    "\n",
    "    \n",
    "    ?book wdt:P50 ?italianwriter .\n",
    "    #labels\n",
    "    \n",
    "    #?italianwriter <http://schema.org/name> ?italianwritername .\n",
    "} \n",
    "\n",
    "\"\"\"\n",
    "\n",
    "print(\"Results\")\n",
    "run_query(queryString)\n"
   ]
  },
  {
   "cell_type": "markdown",
   "id": "3fb4fe75-6b30-461b-b242-3d1fa98ef6dd",
   "metadata": {},
   "source": [
    "## the number of books written by French writers"
   ]
  },
  {
   "cell_type": "code",
   "execution_count": 47,
   "id": "cb95c1b7-9dd8-4fc5-9491-68eb12336d75",
   "metadata": {},
   "outputs": [
    {
     "name": "stdout",
     "output_type": "stream",
     "text": [
      "Results\n",
      "[('countbook', '38455')]\n"
     ]
    },
    {
     "data": {
      "text/plain": [
       "1"
      ]
     },
     "execution_count": 47,
     "metadata": {},
     "output_type": "execute_result"
    }
   ],
   "source": [
    "# the number of books written by French writers\n",
    "\n",
    "queryString = \"\"\"\n",
    "\n",
    "SELECT (COUNT (DISTINCT ?book) AS ?countbook)\n",
    "WHERE { \n",
    "\n",
    "    ?frenchwriter wdt:P27 wd:Q142 .\n",
    "    ?frenchwriter wdt:P106 wd:Q36180 .\n",
    "    ?book wdt:P50 ?frenchwriter .\n",
    "} \n",
    "\n",
    "\"\"\"\n",
    "\n",
    "print(\"Results\")\n",
    "run_query(queryString)"
   ]
  },
  {
   "cell_type": "code",
   "execution_count": 48,
   "id": "43cb9f3a-dcf9-45fc-993b-000bab6bddab",
   "metadata": {},
   "outputs": [
    {
     "name": "stdout",
     "output_type": "stream",
     "text": [
      "Results\n",
      "[('countwriter', '21774')]\n"
     ]
    },
    {
     "data": {
      "text/plain": [
       "1"
      ]
     },
     "execution_count": 48,
     "metadata": {},
     "output_type": "execute_result"
    }
   ],
   "source": [
    "# all italian and french writers:\n",
    "queryString = \"\"\"\n",
    "SELECT (COUNT (DISTINCT ?writer) AS ?countwriter)\n",
    "WHERE { \n",
    "    {?writer wdt:P27 wd:Q142 } \n",
    "    UNION {?writer wdt:P27 wd:Q38 } \n",
    "    UNION { ?writer wdt:P27 wd:Q172579 } \n",
    "    ?writer wdt:P106 wd:Q36180 .\n",
    "    #labels\n",
    "    ?writer <http://schema.org/name> ?writername .\n",
    "\n",
    "    \n",
    "} \n",
    "\n",
    "\"\"\"\n",
    "print(\"Results\")\n",
    "run_query(queryString)"
   ]
  },
  {
   "cell_type": "code",
   "execution_count": 49,
   "id": "270cbe30-677b-4470-ba56-745ad1ac4252",
   "metadata": {},
   "outputs": [
    {
     "name": "stdout",
     "output_type": "stream",
     "text": [
      "Results\n",
      "[('bookname', \"L'amore è un dio\"), ('writername', 'Eva Cantarella'), ('citizenname', 'Italy')]\n",
      "[('bookname', 'Bisexuality in the ancient Word'), ('writername', 'Eva Cantarella'), ('citizenname', 'Italy')]\n",
      "[('bookname', 'Indian Summer'), ('writername', 'Milo Manara'), ('citizenname', 'Italy')]\n",
      "[('bookname', 'Click'), ('writername', 'Milo Manara'), ('citizenname', 'Italy')]\n",
      "[('bookname', 'The Garden of the Finzi-Continis'), ('writername', 'Giorgio Bassani'), ('citizenname', 'Kingdom of Italy')]\n",
      "[('bookname', 'The Garden of the Finzi-Continis'), ('writername', 'Giorgio Bassani'), ('citizenname', 'Italy')]\n",
      "[('bookname', 'Conversations in Sicily'), ('writername', 'Elio Vittorini'), ('citizenname', 'Kingdom of Italy')]\n",
      "[('bookname', 'Conversations in Sicily'), ('writername', 'Elio Vittorini'), ('citizenname', 'Italy')]\n",
      "[('bookname', 'The Castle of Crossed Destinies'), ('writername', 'Italo Calvino'), ('citizenname', 'Kingdom of Italy')]\n",
      "[('bookname', 'The Castle of Crossed Destinies'), ('writername', 'Italo Calvino'), ('citizenname', 'Italy')]\n",
      "[('bookname', 'Gomorrah'), ('writername', 'Roberto Saviano'), ('citizenname', 'Italy')]\n",
      "[('bookname', 'Our Ancestors'), ('writername', 'Italo Calvino'), ('citizenname', 'Kingdom of Italy')]\n",
      "[('bookname', 'Our Ancestors'), ('writername', 'Italo Calvino'), ('citizenname', 'Italy')]\n",
      "[('bookname', 'Five Stories of Ferrara'), ('writername', 'Giorgio Bassani'), ('citizenname', 'Kingdom of Italy')]\n",
      "[('bookname', 'Five Stories of Ferrara'), ('writername', 'Giorgio Bassani'), ('citizenname', 'Italy')]\n",
      "[('bookname', 'Difficult Loves'), ('writername', 'Italo Calvino'), ('citizenname', 'Kingdom of Italy')]\n",
      "[('bookname', 'Difficult Loves'), ('writername', 'Italo Calvino'), ('citizenname', 'Italy')]\n",
      "[('bookname', 'T zero'), ('writername', 'Italo Calvino'), ('citizenname', 'Kingdom of Italy')]\n",
      "[('bookname', 'T zero'), ('writername', 'Italo Calvino'), ('citizenname', 'Italy')]\n",
      "[('bookname', 'The Crow Comes Last'), ('writername', 'Italo Calvino'), ('citizenname', 'Kingdom of Italy')]\n",
      "[('bookname', 'The Crow Comes Last'), ('writername', 'Italo Calvino'), ('citizenname', 'Italy')]\n",
      "[('bookname', 'Cosmicomics'), ('writername', 'Italo Calvino'), ('citizenname', 'Kingdom of Italy')]\n",
      "[('bookname', 'Cosmicomics'), ('writername', 'Italo Calvino'), ('citizenname', 'Italy')]\n",
      "[('bookname', 'Il Ghebo'), ('writername', 'Elio Bartolini'), ('citizenname', 'Kingdom of Italy')]\n",
      "[('bookname', 'Il Ghebo'), ('writername', 'Elio Bartolini'), ('citizenname', 'Italy')]\n",
      "[('bookname', 'Italian Folktales'), ('writername', 'Italo Calvino'), ('citizenname', 'Kingdom of Italy')]\n",
      "[('bookname', 'Italian Folktales'), ('writername', 'Italo Calvino'), ('citizenname', 'Italy')]\n",
      "[('bookname', 'Stalin and the Macedonian Question'), ('writername', 'Ivan Mihailov'), ('citizenname', 'Yugoslavia')]\n",
      "[('bookname', 'Stalin and the Macedonian Question'), ('writername', 'Ivan Mihailov'), ('citizenname', 'Italy')]\n",
      "[('bookname', 'Stalin and the Macedonian Question'), ('writername', 'Ivan Mihailov'), ('citizenname', 'Ottoman Empire')]\n",
      "[('bookname', \"L'attore\"), ('writername', 'Mario Soldati'), ('citizenname', 'Kingdom of Italy')]\n",
      "[('bookname', \"L'attore\"), ('writername', 'Mario Soldati'), ('citizenname', 'Italy')]\n",
      "[('bookname', 'Those Who Leave and Those Who Stay'), ('writername', 'Elena Ferrante'), ('citizenname', 'Italy')]\n",
      "[('bookname', 'The Path to the Nest of Spiders'), ('writername', 'Italo Calvino'), ('citizenname', 'Kingdom of Italy')]\n",
      "[('bookname', 'The Path to the Nest of Spiders'), ('writername', 'Italo Calvino'), ('citizenname', 'Italy')]\n",
      "[('bookname', 'Bononiensis de architectura libri quinque quibus cuncta fere architectonicae facultatis mysteria docte, perspicue . . .'), ('writername', 'Sebastiano Serlio'), ('citizenname', 'Italy')]\n",
      "[('bookname', 'Invisible Cities'), ('writername', 'Italo Calvino'), ('citizenname', 'Kingdom of Italy')]\n",
      "[('bookname', 'Invisible Cities'), ('writername', 'Italo Calvino'), ('citizenname', 'Italy')]\n",
      "[('bookname', 'Philosophy as a Revolutionary Weapon (work level)'), ('writername', 'Maria Antonietta Macciocchi'), ('citizenname', 'Kingdom of Italy')]\n",
      "[('bookname', 'Philosophy as a Revolutionary Weapon (work level)'), ('writername', 'Maria Antonietta Macciocchi'), ('citizenname', 'Italy')]\n",
      "[('bookname', 'Two Brothers'), ('writername', 'Vasco Pratolini'), ('citizenname', 'Kingdom of Italy')]\n",
      "[('bookname', 'Two Brothers'), ('writername', 'Vasco Pratolini'), ('citizenname', 'Italy')]\n",
      "[('bookname', \"I Sette libri dell'architettura\"), ('writername', 'Sebastiano Serlio'), ('citizenname', 'Italy')]\n",
      "[('bookname', 'Becalmed in the Antilles'), ('writername', 'Italo Calvino'), ('citizenname', 'Kingdom of Italy')]\n",
      "[('bookname', 'Becalmed in the Antilles'), ('writername', 'Italo Calvino'), ('citizenname', 'Italy')]\n",
      "[('bookname', \"L'amore molesto\"), ('writername', 'Elena Ferrante'), ('citizenname', 'Italy')]\n",
      "[('bookname', 'Sotto il sole giaguaro'), ('writername', 'Italo Calvino'), ('citizenname', 'Kingdom of Italy')]\n",
      "[('bookname', 'Sotto il sole giaguaro'), ('writername', 'Italo Calvino'), ('citizenname', 'Italy')]\n",
      "[('bookname', 'Marcovaldo'), ('writername', 'Italo Calvino'), ('citizenname', 'Kingdom of Italy')]\n",
      "[('bookname', 'Marcovaldo'), ('writername', 'Italo Calvino'), ('citizenname', 'Italy')]\n"
     ]
    },
    {
     "data": {
      "text/plain": [
       "50"
      ]
     },
     "execution_count": 49,
     "metadata": {},
     "output_type": "execute_result"
    }
   ],
   "source": [
    "## all books by +Kingdom of Italy+italy +france authors with their country of citizen\n",
    "queryString = \"\"\"\n",
    "SELECT ?bookname ?writername ?citizenname \n",
    "WHERE { \n",
    "    {?writer wdt:P27 wd:Q38 }\n",
    "    UNION\n",
    "    {?writer wdt:P27 wd:Q142 }\n",
    "    UNION { ?writer wdt:P27 wd:Q172579 } \n",
    "    ?writer wdt:P106 wd:Q36180 .\n",
    "    ?writer wdt:P27 ?citizen .\n",
    "    \n",
    "    ?book wdt:P50 ?writer .\n",
    "    #labels\n",
    "    ?book <http://schema.org/name> ?bookname .\n",
    "    ?writer <http://schema.org/name> ?writername .\n",
    "    ?citizen <http://schema.org/name> ?citizenname .\n",
    "} \n",
    "LIMIT 50\n",
    "\"\"\"\n",
    "print(\"Results\")\n",
    "run_query(queryString)\n"
   ]
  },
  {
   "cell_type": "code",
   "execution_count": 50,
   "id": "f8f4e351-0373-4bef-8b0e-6ef6074b8737",
   "metadata": {},
   "outputs": [
    {
     "name": "stdout",
     "output_type": "stream",
     "text": [
      "Results\n",
      "[('countbook', '9299')]\n"
     ]
    },
    {
     "data": {
      "text/plain": [
       "1"
      ]
     },
     "execution_count": 50,
     "metadata": {},
     "output_type": "execute_result"
    }
   ],
   "source": [
    "## ALL BOOKS from authors with France and Italy (+kingdom of Italy) nationality.\n",
    "queryString = \"\"\"\n",
    "SELECT (COUNT (DISTINCT ?book) AS ?countbook)\n",
    "WHERE { \n",
    "    {?writer wdt:P27 wd:Q38 }\n",
    "    UNION\n",
    "    {?writer wdt:P27 wd:Q142 }\n",
    "    UNION { ?writer wdt:P27 wd:Q172579 } \n",
    "    ?writer wdt:P106 wd:Q36180 .\n",
    "    ?writer wdt:P27 ?citizen .\n",
    "    \n",
    "    ?book wdt:P50 ?writer .\n",
    "    #labels\n",
    "    ?book <http://schema.org/name> ?bookname .\n",
    "    ?writer <http://schema.org/name> ?writername .\n",
    "    ?citizen <http://schema.org/name> ?citizenname .\n",
    "} \n",
    "\"\"\"\n",
    "print(\"Results\")\n",
    "run_query(queryString)\n"
   ]
  },
  {
   "cell_type": "markdown",
   "id": "55a8d58a-3295-4d24-b778-e61e3c081897",
   "metadata": {},
   "source": [
    "# 3) Count how many books written by Italian authors are now released with a \"public domain\" copyright form"
   ]
  },
  {
   "cell_type": "code",
   "execution_count": 51,
   "id": "9bb5854b-805d-44d8-9bdc-0673c7ff5ba9",
   "metadata": {},
   "outputs": [
    {
     "name": "stdout",
     "output_type": "stream",
     "text": [
      "Results\n",
      "[('book', 'http://www.wikidata.org/entity/Q17635217'), ('bookname', \"L'amore è un dio\"), ('writer', 'http://www.wikidata.org/entity/Q459650'), ('writername', 'Eva Cantarella'), ('citizenname', 'Italy')]\n",
      "[('book', 'http://www.wikidata.org/entity/Q17652232'), ('bookname', 'Bisexuality in the ancient Word'), ('writer', 'http://www.wikidata.org/entity/Q459650'), ('writername', 'Eva Cantarella'), ('citizenname', 'Italy')]\n",
      "[('book', 'http://www.wikidata.org/entity/Q18745523'), ('bookname', 'Indian Summer'), ('writer', 'http://www.wikidata.org/entity/Q505666'), ('writername', 'Milo Manara'), ('citizenname', 'Italy')]\n",
      "[('book', 'http://www.wikidata.org/entity/Q2915264'), ('bookname', 'Click'), ('writer', 'http://www.wikidata.org/entity/Q505666'), ('writername', 'Milo Manara'), ('citizenname', 'Italy')]\n",
      "[('book', 'http://www.wikidata.org/entity/Q533391'), ('bookname', 'The Garden of the Finzi-Continis'), ('writer', 'http://www.wikidata.org/entity/Q318309'), ('writername', 'Giorgio Bassani'), ('citizenname', 'Kingdom of Italy')]\n",
      "[('book', 'http://www.wikidata.org/entity/Q533391'), ('bookname', 'The Garden of the Finzi-Continis'), ('writer', 'http://www.wikidata.org/entity/Q318309'), ('writername', 'Giorgio Bassani'), ('citizenname', 'Italy')]\n",
      "[('book', 'http://www.wikidata.org/entity/Q584423'), ('bookname', 'Conversations in Sicily'), ('writer', 'http://www.wikidata.org/entity/Q468658'), ('writername', 'Elio Vittorini'), ('citizenname', 'Kingdom of Italy')]\n",
      "[('book', 'http://www.wikidata.org/entity/Q584423'), ('bookname', 'Conversations in Sicily'), ('writer', 'http://www.wikidata.org/entity/Q468658'), ('writername', 'Elio Vittorini'), ('citizenname', 'Italy')]\n",
      "[('book', 'http://www.wikidata.org/entity/Q612882'), ('bookname', 'The Castle of Crossed Destinies'), ('writer', 'http://www.wikidata.org/entity/Q154756'), ('writername', 'Italo Calvino'), ('citizenname', 'Kingdom of Italy')]\n",
      "[('book', 'http://www.wikidata.org/entity/Q612882'), ('bookname', 'The Castle of Crossed Destinies'), ('writer', 'http://www.wikidata.org/entity/Q154756'), ('writername', 'Italo Calvino'), ('citizenname', 'Italy')]\n",
      "[('book', 'http://www.wikidata.org/entity/Q50857'), ('bookname', 'Gomorrah'), ('writer', 'http://www.wikidata.org/entity/Q25163'), ('writername', 'Roberto Saviano'), ('citizenname', 'Italy')]\n",
      "[('book', 'http://www.wikidata.org/entity/Q3791080'), ('bookname', 'Our Ancestors'), ('writer', 'http://www.wikidata.org/entity/Q154756'), ('writername', 'Italo Calvino'), ('citizenname', 'Kingdom of Italy')]\n",
      "[('book', 'http://www.wikidata.org/entity/Q3791080'), ('bookname', 'Our Ancestors'), ('writer', 'http://www.wikidata.org/entity/Q154756'), ('writername', 'Italo Calvino'), ('citizenname', 'Italy')]\n",
      "[('book', 'http://www.wikidata.org/entity/Q3677306'), ('bookname', 'Five Stories of Ferrara'), ('writer', 'http://www.wikidata.org/entity/Q318309'), ('writername', 'Giorgio Bassani'), ('citizenname', 'Kingdom of Italy')]\n",
      "[('book', 'http://www.wikidata.org/entity/Q3677306'), ('bookname', 'Five Stories of Ferrara'), ('writer', 'http://www.wikidata.org/entity/Q318309'), ('writername', 'Giorgio Bassani'), ('citizenname', 'Italy')]\n",
      "[('book', 'http://www.wikidata.org/entity/Q3772048'), ('bookname', 'Difficult Loves'), ('writer', 'http://www.wikidata.org/entity/Q154756'), ('writername', 'Italo Calvino'), ('citizenname', 'Kingdom of Italy')]\n",
      "[('book', 'http://www.wikidata.org/entity/Q3772048'), ('bookname', 'Difficult Loves'), ('writer', 'http://www.wikidata.org/entity/Q154756'), ('writername', 'Italo Calvino'), ('citizenname', 'Italy')]\n",
      "[('book', 'http://www.wikidata.org/entity/Q3991030'), ('bookname', 'T zero'), ('writer', 'http://www.wikidata.org/entity/Q154756'), ('writername', 'Italo Calvino'), ('citizenname', 'Kingdom of Italy')]\n",
      "[('book', 'http://www.wikidata.org/entity/Q3991030'), ('bookname', 'T zero'), ('writer', 'http://www.wikidata.org/entity/Q154756'), ('writername', 'Italo Calvino'), ('citizenname', 'Italy')]\n",
      "[('book', 'http://www.wikidata.org/entity/Q4003249'), ('bookname', 'The Crow Comes Last'), ('writer', 'http://www.wikidata.org/entity/Q154756'), ('writername', 'Italo Calvino'), ('citizenname', 'Kingdom of Italy')]\n",
      "[('book', 'http://www.wikidata.org/entity/Q4003249'), ('bookname', 'The Crow Comes Last'), ('writer', 'http://www.wikidata.org/entity/Q154756'), ('writername', 'Italo Calvino'), ('citizenname', 'Italy')]\n",
      "[('book', 'http://www.wikidata.org/entity/Q902990'), ('bookname', 'Cosmicomics'), ('writer', 'http://www.wikidata.org/entity/Q154756'), ('writername', 'Italo Calvino'), ('citizenname', 'Kingdom of Italy')]\n",
      "[('book', 'http://www.wikidata.org/entity/Q902990'), ('bookname', 'Cosmicomics'), ('writer', 'http://www.wikidata.org/entity/Q154756'), ('writername', 'Italo Calvino'), ('citizenname', 'Italy')]\n",
      "[('book', 'http://www.wikidata.org/entity/Q16564759'), ('bookname', 'Il Ghebo'), ('writer', 'http://www.wikidata.org/entity/Q464193'), ('writername', 'Elio Bartolini'), ('citizenname', 'Kingdom of Italy')]\n",
      "[('book', 'http://www.wikidata.org/entity/Q16564759'), ('bookname', 'Il Ghebo'), ('writer', 'http://www.wikidata.org/entity/Q464193'), ('writername', 'Elio Bartolini'), ('citizenname', 'Italy')]\n",
      "[('book', 'http://www.wikidata.org/entity/Q3744324'), ('bookname', 'Italian Folktales'), ('writer', 'http://www.wikidata.org/entity/Q154756'), ('writername', 'Italo Calvino'), ('citizenname', 'Kingdom of Italy')]\n",
      "[('book', 'http://www.wikidata.org/entity/Q3744324'), ('bookname', 'Italian Folktales'), ('writer', 'http://www.wikidata.org/entity/Q154756'), ('writername', 'Italo Calvino'), ('citizenname', 'Italy')]\n",
      "[('book', 'http://www.wikidata.org/entity/Q59094298'), ('bookname', 'Stalin and the Macedonian Question'), ('writer', 'http://www.wikidata.org/entity/Q672922'), ('writername', 'Ivan Mihailov'), ('citizenname', 'Yugoslavia')]\n",
      "[('book', 'http://www.wikidata.org/entity/Q59094298'), ('bookname', 'Stalin and the Macedonian Question'), ('writer', 'http://www.wikidata.org/entity/Q672922'), ('writername', 'Ivan Mihailov'), ('citizenname', 'Italy')]\n",
      "[('book', 'http://www.wikidata.org/entity/Q59094298'), ('bookname', 'Stalin and the Macedonian Question'), ('writer', 'http://www.wikidata.org/entity/Q672922'), ('writername', 'Ivan Mihailov'), ('citizenname', 'Ottoman Empire')]\n",
      "[('book', 'http://www.wikidata.org/entity/Q63323458'), ('bookname', \"L'attore\"), ('writer', 'http://www.wikidata.org/entity/Q59210'), ('writername', 'Mario Soldati'), ('citizenname', 'Kingdom of Italy')]\n",
      "[('book', 'http://www.wikidata.org/entity/Q63323458'), ('bookname', \"L'attore\"), ('writer', 'http://www.wikidata.org/entity/Q59210'), ('writername', 'Mario Soldati'), ('citizenname', 'Italy')]\n",
      "[('book', 'http://www.wikidata.org/entity/Q55517451'), ('bookname', 'Those Who Leave and Those Who Stay'), ('writer', 'http://www.wikidata.org/entity/Q368127'), ('writername', 'Elena Ferrante'), ('citizenname', 'Italy')]\n",
      "[('book', 'http://www.wikidata.org/entity/Q1135521'), ('bookname', 'The Path to the Nest of Spiders'), ('writer', 'http://www.wikidata.org/entity/Q154756'), ('writername', 'Italo Calvino'), ('citizenname', 'Kingdom of Italy')]\n",
      "[('book', 'http://www.wikidata.org/entity/Q1135521'), ('bookname', 'The Path to the Nest of Spiders'), ('writer', 'http://www.wikidata.org/entity/Q154756'), ('writername', 'Italo Calvino'), ('citizenname', 'Italy')]\n",
      "[('book', 'http://www.wikidata.org/entity/Q29385983'), ('bookname', 'Bononiensis de architectura libri quinque quibus cuncta fere architectonicae facultatis mysteria docte, perspicue . . .'), ('writer', 'http://www.wikidata.org/entity/Q452318'), ('writername', 'Sebastiano Serlio'), ('citizenname', 'Italy')]\n",
      "[('book', 'http://www.wikidata.org/entity/Q1219705'), ('bookname', 'Invisible Cities'), ('writer', 'http://www.wikidata.org/entity/Q154756'), ('writername', 'Italo Calvino'), ('citizenname', 'Kingdom of Italy')]\n",
      "[('book', 'http://www.wikidata.org/entity/Q1219705'), ('bookname', 'Invisible Cities'), ('writer', 'http://www.wikidata.org/entity/Q154756'), ('writername', 'Italo Calvino'), ('citizenname', 'Italy')]\n",
      "[('book', 'http://www.wikidata.org/entity/Q93089834'), ('bookname', 'Philosophy as a Revolutionary Weapon (work level)'), ('writer', 'http://www.wikidata.org/entity/Q1083986'), ('writername', 'Maria Antonietta Macciocchi'), ('citizenname', 'Kingdom of Italy')]\n",
      "[('book', 'http://www.wikidata.org/entity/Q93089834'), ('bookname', 'Philosophy as a Revolutionary Weapon (work level)'), ('writer', 'http://www.wikidata.org/entity/Q1083986'), ('writername', 'Maria Antonietta Macciocchi'), ('citizenname', 'Italy')]\n",
      "[('book', 'http://www.wikidata.org/entity/Q3698431'), ('bookname', 'Two Brothers'), ('writer', 'http://www.wikidata.org/entity/Q558295'), ('writername', 'Vasco Pratolini'), ('citizenname', 'Kingdom of Italy')]\n",
      "[('book', 'http://www.wikidata.org/entity/Q3698431'), ('bookname', 'Two Brothers'), ('writer', 'http://www.wikidata.org/entity/Q558295'), ('writername', 'Vasco Pratolini'), ('citizenname', 'Italy')]\n",
      "[('book', 'http://www.wikidata.org/entity/Q3790449'), ('bookname', \"I Sette libri dell'architettura\"), ('writer', 'http://www.wikidata.org/entity/Q452318'), ('writername', 'Sebastiano Serlio'), ('citizenname', 'Italy')]\n",
      "[('book', 'http://www.wikidata.org/entity/Q3822584'), ('bookname', 'Becalmed in the Antilles'), ('writer', 'http://www.wikidata.org/entity/Q154756'), ('writername', 'Italo Calvino'), ('citizenname', 'Kingdom of Italy')]\n",
      "[('book', 'http://www.wikidata.org/entity/Q3822584'), ('bookname', 'Becalmed in the Antilles'), ('writer', 'http://www.wikidata.org/entity/Q154756'), ('writername', 'Italo Calvino'), ('citizenname', 'Italy')]\n",
      "[('book', 'http://www.wikidata.org/entity/Q65129990'), ('bookname', \"L'amore molesto\"), ('writer', 'http://www.wikidata.org/entity/Q368127'), ('writername', 'Elena Ferrante'), ('citizenname', 'Italy')]\n",
      "[('book', 'http://www.wikidata.org/entity/Q3965221'), ('bookname', 'Sotto il sole giaguaro'), ('writer', 'http://www.wikidata.org/entity/Q154756'), ('writername', 'Italo Calvino'), ('citizenname', 'Kingdom of Italy')]\n",
      "[('book', 'http://www.wikidata.org/entity/Q3965221'), ('bookname', 'Sotto il sole giaguaro'), ('writer', 'http://www.wikidata.org/entity/Q154756'), ('writername', 'Italo Calvino'), ('citizenname', 'Italy')]\n",
      "[('book', 'http://www.wikidata.org/entity/Q1638837'), ('bookname', 'Marcovaldo'), ('writer', 'http://www.wikidata.org/entity/Q154756'), ('writername', 'Italo Calvino'), ('citizenname', 'Kingdom of Italy')]\n",
      "[('book', 'http://www.wikidata.org/entity/Q1638837'), ('bookname', 'Marcovaldo'), ('writer', 'http://www.wikidata.org/entity/Q154756'), ('writername', 'Italo Calvino'), ('citizenname', 'Italy')]\n"
     ]
    },
    {
     "data": {
      "text/plain": [
       "50"
      ]
     },
     "execution_count": 51,
     "metadata": {},
     "output_type": "execute_result"
    }
   ],
   "source": [
    "## all books by +Kingdom of Italy+italy authors with their country of citizen\n",
    "queryString = \"\"\"\n",
    "SELECT ?book ?bookname ?writer ?writername ?citizenname \n",
    "WHERE { \n",
    "    {?writer wdt:P27 wd:Q38 }\n",
    "    UNION { ?writer wdt:P27 wd:Q172579 } \n",
    "    ?writer wdt:P106 wd:Q36180 .\n",
    "    ?writer wdt:P27 ?citizen .\n",
    "    \n",
    "    ?book wdt:P50 ?writer .\n",
    "    #labels\n",
    "    ?book <http://schema.org/name> ?bookname .\n",
    "    ?writer <http://schema.org/name> ?writername .\n",
    "    ?citizen <http://schema.org/name> ?citizenname .\n",
    "} \n",
    "LIMIT 50\n",
    "\"\"\"\n",
    "print(\"Results\")\n",
    "run_query(queryString)"
   ]
  },
  {
   "cell_type": "code",
   "execution_count": 52,
   "id": "31705c17-6986-49c7-8f49-8e1ff05871ca",
   "metadata": {},
   "outputs": [
    {
     "name": "stdout",
     "output_type": "stream",
     "text": [
      "Results\n",
      "[('s', 'http://www.wikidata.org/prop/direct/P50'), ('sname', 'author'), ('p', 'http://www.wikidata.org/entity/Q505666'), ('pname', 'Milo Manara')]\n",
      "[('s', 'http://www.wikidata.org/prop/direct/P495'), ('sname', 'country of origin'), ('p', 'http://www.wikidata.org/entity/Q38'), ('pname', 'Italy')]\n",
      "[('s', 'http://www.wikidata.org/prop/direct/P407'), ('sname', 'language of work or name'), ('p', 'http://www.wikidata.org/entity/Q652'), ('pname', 'Italian')]\n",
      "[('s', 'http://www.wikidata.org/prop/direct/P31'), ('sname', 'instance of'), ('p', 'http://www.wikidata.org/entity/Q2831984'), ('pname', 'comic book album')]\n",
      "[('s', 'http://www.wikidata.org/prop/direct/P31'), ('sname', 'instance of'), ('p', 'http://www.wikidata.org/entity/Q1004'), ('pname', 'comics')]\n",
      "[('s', 'http://www.wikidata.org/prop/direct/P50'), ('sname', 'author'), ('p', 'http://www.wikidata.org/entity/Q12113'), ('pname', 'Hugo Pratt')]\n",
      "[('s', 'http://www.wikidata.org/prop/direct/P1433'), ('sname', 'published in'), ('p', 'http://www.wikidata.org/entity/Q3694847'), ('pname', 'Corto Maltese')]\n"
     ]
    },
    {
     "data": {
      "text/plain": [
       "7"
      ]
     },
     "execution_count": 52,
     "metadata": {},
     "output_type": "execute_result"
    }
   ],
   "source": [
    "\n",
    "# [('book', 'http://www.wikidata.org/entity/Q18745523'), \n",
    "#[('bookname', 'Indian Summer'), ('writer', 'http://www.wikidata.org/entity/Q505666'),\n",
    "#('writername', 'Milo Manara'), ('citizenname', 'Italy')]\n",
    "queryString = \"\"\"\n",
    "SELECT ?s ?sname ?p ?pname\n",
    "WHERE { \n",
    "    wd:Q18745523 ?s ?p .\n",
    "    #labels\n",
    "    ?s <http://schema.org/name> ?sname .\n",
    "    ?p <http://schema.org/name> ?pname .\n",
    "} \n",
    "LIMIT 50\n",
    "\"\"\"\n",
    "print(\"Results\")\n",
    "run_query(queryString)"
   ]
  },
  {
   "cell_type": "code",
   "execution_count": 53,
   "id": "c2da555e-218c-4832-952d-53ab10d58f87",
   "metadata": {},
   "outputs": [
    {
     "name": "stdout",
     "output_type": "stream",
     "text": [
      "Results\n",
      "[('s', 'http://www.wikidata.org/prop/direct/P50'), ('sname', 'author'), ('p', 'http://www.wikidata.org/entity/Q459650'), ('pname', 'Eva Cantarella')]\n",
      "[('s', 'http://www.wikidata.org/prop/direct/P136'), ('sname', 'genre'), ('p', 'http://www.wikidata.org/entity/Q35760'), ('pname', 'essay')]\n",
      "[('s', 'http://www.wikidata.org/prop/direct/P31'), ('sname', 'instance of'), ('p', 'http://www.wikidata.org/entity/Q47461344'), ('pname', 'written work')]\n",
      "[('s', 'http://www.wikidata.org/prop/direct/P407'), ('sname', 'language of work or name'), ('p', 'http://www.wikidata.org/entity/Q652'), ('pname', 'Italian')]\n",
      "[('s', 'http://www.wikidata.org/prop/direct/P921'), ('sname', 'main subject'), ('p', 'http://www.wikidata.org/entity/Q21201'), ('pname', 'sociology')]\n"
     ]
    },
    {
     "data": {
      "text/plain": [
       "5"
      ]
     },
     "execution_count": 53,
     "metadata": {},
     "output_type": "execute_result"
    }
   ],
   "source": [
    "\n",
    "# [('book', 'http://www.wikidata.org/entity/Q18745523'), \n",
    "#[('bookname', 'Indian Summer'), ('writer', 'http://www.wikidata.org/entity/Q505666'),\n",
    "#('writername', 'Milo Manara'), ('citizenname', 'Italy')]\n",
    "queryString = \"\"\"\n",
    "SELECT ?s ?sname ?p ?pname\n",
    "WHERE { \n",
    "    wd:Q17652232 ?s ?p .\n",
    "    #labels\n",
    "    ?s <http://schema.org/name> ?sname .\n",
    "    ?p <http://schema.org/name> ?pname .\n",
    "} \n",
    "LIMIT 50\n",
    "\"\"\"\n",
    "print(\"Results\")\n",
    "run_query(queryString)"
   ]
  },
  {
   "cell_type": "code",
   "execution_count": 54,
   "id": "d2ccc032-59b2-4c5b-a520-25fcf20048c5",
   "metadata": {},
   "outputs": [
    {
     "name": "stdout",
     "output_type": "stream",
     "text": [
      "Results\n",
      "[('book', 'http://www.wikidata.org/entity/Q104477534'), ('writer', 'http://www.wikidata.org/entity/Q3779177'), ('writername', 'Guido Barbujani'), ('citizenname', 'Italy')]\n",
      "[('book', 'http://www.wikidata.org/entity/Q104501070'), ('writer', 'http://www.wikidata.org/entity/Q3779177'), ('writername', 'Guido Barbujani'), ('citizenname', 'Italy')]\n",
      "[('book', 'http://www.wikidata.org/entity/Q98202308'), ('writer', 'http://www.wikidata.org/entity/Q3903499'), ('writername', 'Piersandro Pallavicini'), ('citizenname', 'Italy')]\n",
      "[('book', 'http://www.wikidata.org/entity/Q96020300'), ('writer', 'http://www.wikidata.org/entity/Q3903499'), ('writername', 'Piersandro Pallavicini'), ('citizenname', 'Italy')]\n",
      "[('book', 'http://www.wikidata.org/entity/Q104745095'), ('writer', 'http://www.wikidata.org/entity/Q1042470'), ('writername', 'Carlo Rovelli'), ('citizenname', 'United States of America')]\n",
      "[('book', 'http://www.wikidata.org/entity/Q104745095'), ('writer', 'http://www.wikidata.org/entity/Q1042470'), ('writername', 'Carlo Rovelli'), ('citizenname', 'Italy')]\n",
      "[('book', 'http://www.wikidata.org/entity/Q96178430'), ('writer', 'http://www.wikidata.org/entity/Q1054251'), ('writername', 'Claudio Nizzi'), ('citizenname', 'Italy')]\n",
      "[('book', 'http://www.wikidata.org/entity/Q96178448'), ('writer', 'http://www.wikidata.org/entity/Q1054251'), ('writername', 'Claudio Nizzi'), ('citizenname', 'Italy')]\n",
      "[('book', 'http://www.wikidata.org/entity/Q108530380'), ('writer', 'http://www.wikidata.org/entity/Q56105242'), ('writername', 'Riccardo Magnani'), ('citizenname', 'Italy')]\n",
      "[('book', 'http://www.wikidata.org/entity/Q106548751'), ('writer', 'http://www.wikidata.org/entity/Q3846460'), ('writername', 'Marco Santagata'), ('citizenname', 'Italy')]\n",
      "[('book', 'http://www.wikidata.org/entity/Q107287458'), ('writer', 'http://www.wikidata.org/entity/Q61666799'), ('writername', 'Giulia Caminito'), ('citizenname', 'Italy')]\n",
      "[('book', 'http://www.wikidata.org/entity/Q107975945'), ('writer', 'http://www.wikidata.org/entity/Q495243'), ('writername', 'Andrea Vitali'), ('citizenname', 'Italy')]\n",
      "[('book', 'http://www.wikidata.org/entity/Q104786709'), ('writer', 'http://www.wikidata.org/entity/Q3762532'), ('writername', 'Giampiero Mughini'), ('citizenname', 'Italy')]\n",
      "[('book', 'http://www.wikidata.org/entity/Q107439372'), ('writer', 'http://www.wikidata.org/entity/Q493366'), ('writername', 'Andrea Bajani'), ('citizenname', 'Italy')]\n",
      "[('book', 'http://www.wikidata.org/entity/Q98471919'), ('writer', 'http://www.wikidata.org/entity/Q63278249'), ('writername', 'Michele Panzarino'), ('citizenname', 'Italy')]\n",
      "[('book', 'http://www.wikidata.org/entity/Q107675892'), ('writer', 'http://www.wikidata.org/entity/Q107433773'), ('writername', 'Alec Bogdanovic'), ('citizenname', 'Italy')]\n",
      "[('book', 'http://www.wikidata.org/entity/Q107676012'), ('writer', 'http://www.wikidata.org/entity/Q107433773'), ('writername', 'Alec Bogdanovic'), ('citizenname', 'Italy')]\n"
     ]
    },
    {
     "data": {
      "text/plain": [
       "17"
      ]
     },
     "execution_count": 54,
     "metadata": {},
     "output_type": "execute_result"
    }
   ],
   "source": [
    "## all Kingdom of Italy+italy authors in last 2 years with their country of citizen\n",
    "queryString = \"\"\"\n",
    "SELECT DISTINCT ?book ?writer ?writername ?citizenname \n",
    "WHERE { \n",
    "    {?writer wdt:P27 wd:Q38 }\n",
    "    UNION { ?writer wdt:P27 wd:Q172579 } \n",
    "    ?writer wdt:P106 wd:Q36180 .\n",
    "    ?writer wdt:P27 ?citizen .\n",
    "    \n",
    "    ?book wdt:P50 ?writer .\n",
    "    ?book wdt:P577 ?time .\n",
    "    FILTER(\"2020-01-01\"^^xsd:dateTime <= ?time && ?time < \"2022-01-01\"^^xsd:dateTime).\n",
    "    #labels\n",
    "    \n",
    "    ?writer <http://schema.org/name> ?writername .\n",
    "    ?citizen <http://schema.org/name> ?citizenname .\n",
    "} \n",
    "LIMIT 50\n",
    "\"\"\"\n",
    "print(\"Results\")\n",
    "run_query(queryString)"
   ]
  },
  {
   "cell_type": "code",
   "execution_count": 55,
   "id": "14e5998c-30fd-43ca-bf9e-e80f9f36f9af",
   "metadata": {},
   "outputs": [
    {
     "name": "stdout",
     "output_type": "stream",
     "text": [
      "Results\n",
      "[('s', 'http://www.wikidata.org/prop/direct/P31'), ('sname', 'instance of'), ('p', 'http://www.wikidata.org/entity/Q13442814'), ('pname', 'scholarly article')]\n",
      "[('s', 'http://www.wikidata.org/prop/direct/P50'), ('sname', 'author'), ('p', 'http://www.wikidata.org/entity/Q3779177'), ('pname', 'Guido Barbujani')]\n",
      "[('s', 'http://www.wikidata.org/prop/direct/P1433'), ('sname', 'published in'), ('p', 'http://www.wikidata.org/entity/Q5532699'), ('pname', 'Genes')]\n",
      "[('s', 'http://www.wikidata.org/prop/direct/P50'), ('sname', 'author'), ('p', 'http://www.wikidata.org/entity/Q104477531'), ('pname', 'Andrea Ceolin')]\n",
      "[('s', 'http://www.wikidata.org/prop/direct/P50'), ('sname', 'author'), ('p', 'http://www.wikidata.org/entity/Q104477532'), ('pname', 'Cristina Guardiano')]\n"
     ]
    },
    {
     "data": {
      "text/plain": [
       "5"
      ]
     },
     "execution_count": 55,
     "metadata": {},
     "output_type": "execute_result"
    }
   ],
   "source": [
    "#[('book', 'http://www.wikidata.org/entity/Q104477534'), \n",
    "#('writer', 'http://www.wikidata.org/entity/Q3779177'), ('writername', 'Guido Barbujani'), ('citizenname', 'Italy')]\n",
    "\n",
    "queryString = \"\"\"\n",
    "SELECT ?s ?sname ?p ?pname\n",
    "WHERE { \n",
    "    wd:Q104477534 ?s ?p .\n",
    "    #labels\n",
    "    ?s <http://schema.org/name> ?sname .\n",
    "    ?p <http://schema.org/name> ?pname .\n",
    "} \n",
    "LIMIT 50\n",
    "\"\"\"\n",
    "print(\"Results\")\n",
    "run_query(queryString)"
   ]
  },
  {
   "cell_type": "code",
   "execution_count": 56,
   "id": "1bd20453-a59a-4be0-8abc-a25b5799707e",
   "metadata": {},
   "outputs": [
    {
     "name": "stdout",
     "output_type": "stream",
     "text": [
      "Results\n",
      "[('s', 'http://www.wikidata.org/prop/direct/P106'), ('sname', 'occupation'), ('p', 'http://www.wikidata.org/entity/Q3126128'), ('pname', 'geneticist')]\n",
      "[('s', 'http://www.wikidata.org/prop/direct/P106'), ('sname', 'occupation'), ('p', 'http://www.wikidata.org/entity/Q36180'), ('pname', 'writer')]\n",
      "[('s', 'http://www.wikidata.org/prop/direct/P27'), ('sname', 'country of citizenship'), ('p', 'http://www.wikidata.org/entity/Q38'), ('pname', 'Italy')]\n",
      "[('s', 'http://www.wikidata.org/prop/direct/P31'), ('sname', 'instance of'), ('p', 'http://www.wikidata.org/entity/Q5'), ('pname', 'human')]\n",
      "[('s', 'http://www.wikidata.org/prop/direct/P1343'), ('sname', 'described by source'), ('p', 'http://www.wikidata.org/entity/Q51955019'), ('pname', 'BEIC Digital Library')]\n",
      "[('s', 'http://www.wikidata.org/prop/direct/P735'), ('sname', 'given name'), ('p', 'http://www.wikidata.org/entity/Q639762'), ('pname', 'Guido')]\n",
      "[('s', 'http://www.wikidata.org/prop/direct/P1412'), ('sname', 'languages spoken, written or signed'), ('p', 'http://www.wikidata.org/entity/Q652'), ('pname', 'Italian')]\n",
      "[('s', 'http://www.wikidata.org/prop/direct/P21'), ('sname', 'sex or gender'), ('p', 'http://www.wikidata.org/entity/Q6581097'), ('pname', 'male')]\n",
      "[('s', 'http://www.wikidata.org/prop/direct/P101'), ('sname', 'field of work'), ('p', 'http://www.wikidata.org/entity/Q7162'), ('pname', 'genetics')]\n",
      "[('s', 'http://www.wikidata.org/prop/direct/P69'), ('sname', 'educated at'), ('p', 'http://www.wikidata.org/entity/Q955609'), ('pname', 'University of Ferrara')]\n",
      "[('s', 'http://www.wikidata.org/prop/direct/P19'), ('sname', 'place of birth'), ('p', 'http://www.wikidata.org/entity/Q34615'), ('pname', 'Adria')]\n",
      "[('s', 'http://www.wikidata.org/prop/direct/P108'), ('sname', 'employer'), ('p', 'http://www.wikidata.org/entity/Q969850'), ('pname', 'Stony Brook University')]\n",
      "[('s', 'http://www.wikidata.org/prop/direct/P737'), ('sname', 'influenced by'), ('p', 'http://www.wikidata.org/entity/Q2158553'), ('pname', 'Robert R. Sokal')]\n",
      "[('s', 'http://www.wikidata.org/prop/direct/P734'), ('sname', 'family name'), ('p', 'http://www.wikidata.org/entity/Q89275646'), ('pname', 'Barbujani')]\n"
     ]
    },
    {
     "data": {
      "text/plain": [
       "14"
      ]
     },
     "execution_count": 56,
     "metadata": {},
     "output_type": "execute_result"
    }
   ],
   "source": [
    "#[('book', 'http://www.wikidata.org/entity/Q104477534'), \n",
    "#('writer', 'http://www.wikidata.org/entity/Q3779177'), ('writername', 'Guido Barbujani'), ('citizenname', 'Italy')]\n",
    "\n",
    "queryString = \"\"\"\n",
    "SELECT ?s ?sname ?p ?pname\n",
    "WHERE { \n",
    "    wd:Q3779177 ?s ?p .\n",
    "    #labels\n",
    "    ?s <http://schema.org/name> ?sname .\n",
    "    ?p <http://schema.org/name> ?pname .\n",
    "} \n",
    "LIMIT 50\n",
    "\"\"\"\n",
    "print(\"Results\")\n",
    "run_query(queryString)"
   ]
  },
  {
   "cell_type": "code",
   "execution_count": 57,
   "id": "4c7968ac-8846-482d-ba09-c48640df4e33",
   "metadata": {},
   "outputs": [
    {
     "name": "stdout",
     "output_type": "stream",
     "text": [
      "Results\n",
      "[('s', 'http://www.wikidata.org/prop/direct/P31'), ('sname', 'instance of'), ('p', 'http://www.wikidata.org/entity/Q35127'), ('pname', 'website')]\n",
      "[('s', 'http://www.wikidata.org/prop/direct/P17'), ('sname', 'country'), ('p', 'http://www.wikidata.org/entity/Q38'), ('pname', 'Italy')]\n",
      "[('s', 'http://www.wikidata.org/prop/direct/P131'), ('sname', 'located in the administrative territorial entity'), ('p', 'http://www.wikidata.org/entity/Q490'), ('pname', 'Milan')]\n",
      "[('s', 'http://www.wikidata.org/prop/direct/P5008'), ('sname', 'on focus list of Wikimedia project'), ('p', 'http://www.wikidata.org/entity/Q106447762'), ('pname', 'Wikidata:Gruppo Wikidata per Musei, Archivi e Biblioteche/Riviste italiane di biblioteconomia')]\n",
      "[('s', 'http://www.wikidata.org/prop/direct/P31'), ('sname', 'instance of'), ('p', 'http://www.wikidata.org/entity/Q2352616'), ('pname', 'catalogue')]\n",
      "[('s', 'http://www.wikidata.org/prop/direct/P31'), ('sname', 'instance of'), ('p', 'http://www.wikidata.org/entity/Q212805'), ('pname', 'digital library')]\n",
      "[('s', 'http://www.wikidata.org/prop/direct/P127'), ('sname', 'owned by'), ('p', 'http://www.wikidata.org/entity/Q3639582'), ('pname', 'Biblioteca Europea di Informazione e Cultura')]\n",
      "[('s', 'http://www.wikidata.org/prop/direct/P361'), ('sname', 'part of'), ('p', 'http://www.wikidata.org/entity/Q3639582'), ('pname', 'Biblioteca Europea di Informazione e Cultura')]\n"
     ]
    },
    {
     "data": {
      "text/plain": [
       "8"
      ]
     },
     "execution_count": 57,
     "metadata": {},
     "output_type": "execute_result"
    }
   ],
   "source": [
    "# [('s', 'http://www.wikidata.org/prop/direct/P1343'), ('sname', 'described by source'),\n",
    "#('p', 'http://www.wikidata.org/entity/Q51955019'), ('pname', 'BEIC Digital Library')]\n",
    "queryString = \"\"\"\n",
    "SELECT ?s ?sname ?p ?pname\n",
    "WHERE { \n",
    "    wd:Q51955019 ?s ?p .\n",
    "    #labels\n",
    "    ?s <http://schema.org/name> ?sname .\n",
    "    ?p <http://schema.org/name> ?pname .\n",
    "} \n",
    "LIMIT 50\n",
    "\"\"\"\n",
    "print(\"Results\")\n",
    "run_query(queryString)"
   ]
  },
  {
   "cell_type": "code",
   "execution_count": 58,
   "id": "58c0ef4c-c2c4-4157-a898-70552ae58d4a",
   "metadata": {},
   "outputs": [
    {
     "name": "stdout",
     "output_type": "stream",
     "text": [
      "Results\n",
      "[('book', 'http://www.wikidata.org/entity/Q19621681'), ('writer', 'http://www.wikidata.org/entity/Q529858'), ('writername', 'Giovanni Papini'), ('citizenname', 'Kingdom of Italy')]\n",
      "[('book', 'http://www.wikidata.org/entity/Q106729263'), ('writer', 'http://www.wikidata.org/entity/Q529858'), ('writername', 'Giovanni Papini'), ('citizenname', 'Kingdom of Italy')]\n",
      "[('book', 'http://www.wikidata.org/entity/Q19621681'), ('writer', 'http://www.wikidata.org/entity/Q529858'), ('writername', 'Giovanni Papini'), ('citizenname', 'Italy')]\n",
      "[('book', 'http://www.wikidata.org/entity/Q106729263'), ('writer', 'http://www.wikidata.org/entity/Q529858'), ('writername', 'Giovanni Papini'), ('citizenname', 'Italy')]\n",
      "[('book', 'http://www.wikidata.org/entity/Q106729263'), ('writer', 'http://www.wikidata.org/entity/Q1227513'), ('writername', 'Giuseppe Prezzolini'), ('citizenname', 'Kingdom of Italy')]\n",
      "[('book', 'http://www.wikidata.org/entity/Q106729263'), ('writer', 'http://www.wikidata.org/entity/Q1227513'), ('writername', 'Giuseppe Prezzolini'), ('citizenname', 'Italy')]\n",
      "[('book', 'http://www.wikidata.org/entity/Q3822812'), ('writer', 'http://www.wikidata.org/entity/Q192348'), ('writername', 'Benedetto Croce'), ('citizenname', 'Kingdom of Italy')]\n",
      "[('book', 'http://www.wikidata.org/entity/Q3836449'), ('writer', 'http://www.wikidata.org/entity/Q192348'), ('writername', 'Benedetto Croce'), ('citizenname', 'Kingdom of Italy')]\n",
      "[('book', 'http://www.wikidata.org/entity/Q3822812'), ('writer', 'http://www.wikidata.org/entity/Q192348'), ('writername', 'Benedetto Croce'), ('citizenname', 'Italy')]\n",
      "[('book', 'http://www.wikidata.org/entity/Q3836449'), ('writer', 'http://www.wikidata.org/entity/Q192348'), ('writername', 'Benedetto Croce'), ('citizenname', 'Italy')]\n",
      "[('book', 'http://www.wikidata.org/entity/Q3823471'), ('writer', 'http://www.wikidata.org/entity/Q685342'), ('writername', 'Aldo Palazzeschi'), ('citizenname', 'Kingdom of Italy')]\n",
      "[('book', 'http://www.wikidata.org/entity/Q16487848'), ('writer', 'http://www.wikidata.org/entity/Q685342'), ('writername', 'Aldo Palazzeschi'), ('citizenname', 'Kingdom of Italy')]\n",
      "[('book', 'http://www.wikidata.org/entity/Q106472305'), ('writer', 'http://www.wikidata.org/entity/Q1671578'), ('writername', 'Sem Benelli'), ('citizenname', 'Kingdom of Italy')]\n",
      "[('book', 'http://www.wikidata.org/entity/Q3823471'), ('writer', 'http://www.wikidata.org/entity/Q685342'), ('writername', 'Aldo Palazzeschi'), ('citizenname', 'Italy')]\n",
      "[('book', 'http://www.wikidata.org/entity/Q107820146'), ('writer', 'http://www.wikidata.org/entity/Q128027'), ('writername', 'Giorgio Vasari'), ('citizenname', 'Italy')]\n",
      "[('book', 'http://www.wikidata.org/entity/Q16487848'), ('writer', 'http://www.wikidata.org/entity/Q685342'), ('writername', 'Aldo Palazzeschi'), ('citizenname', 'Italy')]\n",
      "[('book', 'http://www.wikidata.org/entity/Q106472305'), ('writer', 'http://www.wikidata.org/entity/Q1671578'), ('writername', 'Sem Benelli'), ('citizenname', 'Italy')]\n",
      "[('book', 'http://www.wikidata.org/entity/Q19897986'), ('writer', 'http://www.wikidata.org/entity/Q345104'), ('writername', 'Rafael Sabatini'), ('citizenname', 'United Kingdom')]\n",
      "[('book', 'http://www.wikidata.org/entity/Q19897986'), ('writer', 'http://www.wikidata.org/entity/Q345104'), ('writername', 'Rafael Sabatini'), ('citizenname', 'Kingdom of Italy')]\n",
      "[('book', 'http://www.wikidata.org/entity/Q19897986'), ('writer', 'http://www.wikidata.org/entity/Q345104'), ('writername', 'Rafael Sabatini'), ('citizenname', 'United Kingdom of Great Britain and Ireland')]\n",
      "[('book', 'http://www.wikidata.org/entity/Q19897986'), ('writer', 'http://www.wikidata.org/entity/Q345104'), ('writername', 'Rafael Sabatini'), ('citizenname', 'Italy')]\n",
      "[('book', 'http://www.wikidata.org/entity/Q64141389'), ('writer', 'http://www.wikidata.org/entity/Q57609149'), ('writername', 'Francesco Bettini'), ('citizenname', 'Italy')]\n",
      "[('book', 'http://www.wikidata.org/entity/Q3828737'), ('writer', 'http://www.wikidata.org/entity/Q345236'), ('writername', 'Corrado Govoni'), ('citizenname', 'Kingdom of Italy')]\n",
      "[('book', 'http://www.wikidata.org/entity/Q3828737'), ('writer', 'http://www.wikidata.org/entity/Q345236'), ('writername', 'Corrado Govoni'), ('citizenname', 'Italy')]\n",
      "[('book', 'http://www.wikidata.org/entity/Q3978308'), ('writer', 'http://www.wikidata.org/entity/Q3894195'), ('writername', 'Paolo Lorenzini'), ('citizenname', 'Kingdom of Italy')]\n",
      "[('book', 'http://www.wikidata.org/entity/Q3978308'), ('writer', 'http://www.wikidata.org/entity/Q3894195'), ('writername', 'Paolo Lorenzini'), ('citizenname', 'Italy')]\n",
      "[('book', 'http://www.wikidata.org/entity/Q17630099'), ('writer', 'http://www.wikidata.org/entity/Q1378908'), ('writername', 'Trilussa'), ('citizenname', 'Kingdom of Italy')]\n",
      "[('book', 'http://www.wikidata.org/entity/Q17630103'), ('writer', 'http://www.wikidata.org/entity/Q1378908'), ('writername', 'Trilussa'), ('citizenname', 'Kingdom of Italy')]\n",
      "[('book', 'http://www.wikidata.org/entity/Q17637676'), ('writer', 'http://www.wikidata.org/entity/Q1378908'), ('writername', 'Trilussa'), ('citizenname', 'Kingdom of Italy')]\n",
      "[('book', 'http://www.wikidata.org/entity/Q20009327'), ('writer', 'http://www.wikidata.org/entity/Q1378908'), ('writername', 'Trilussa'), ('citizenname', 'Kingdom of Italy')]\n",
      "[('book', 'http://www.wikidata.org/entity/Q17637676'), ('writer', 'http://www.wikidata.org/entity/Q1378908'), ('writername', 'Trilussa'), ('citizenname', 'Italy')]\n",
      "[('book', 'http://www.wikidata.org/entity/Q20009327'), ('writer', 'http://www.wikidata.org/entity/Q1378908'), ('writername', 'Trilussa'), ('citizenname', 'Italy')]\n",
      "[('book', 'http://www.wikidata.org/entity/Q17630099'), ('writer', 'http://www.wikidata.org/entity/Q1378908'), ('writername', 'Trilussa'), ('citizenname', 'Italy')]\n",
      "[('book', 'http://www.wikidata.org/entity/Q17630103'), ('writer', 'http://www.wikidata.org/entity/Q1378908'), ('writername', 'Trilussa'), ('citizenname', 'Italy')]\n",
      "[('book', 'http://www.wikidata.org/entity/Q2793957'), ('writer', 'http://www.wikidata.org/entity/Q287741'), ('writername', 'Sibilla Aleramo'), ('citizenname', 'Kingdom of Italy')]\n",
      "[('book', 'http://www.wikidata.org/entity/Q2793957'), ('writer', 'http://www.wikidata.org/entity/Q287741'), ('writername', 'Sibilla Aleramo'), ('citizenname', 'Italy')]\n",
      "[('book', 'http://www.wikidata.org/entity/Q19136834'), ('writer', 'http://www.wikidata.org/entity/Q15233192'), ('writername', 'Placido Brandoli'), ('citizenname', 'Kingdom of Italy')]\n",
      "[('book', 'http://www.wikidata.org/entity/Q205891'), ('writer', 'http://www.wikidata.org/entity/Q982387'), ('writername', 'Giovanni Capurro'), ('citizenname', 'Kingdom of Italy')]\n",
      "[('book', 'http://www.wikidata.org/entity/Q18223014'), ('writer', 'http://www.wikidata.org/entity/Q7728'), ('writername', 'Grazia Deledda'), ('citizenname', 'Kingdom of Italy')]\n",
      "[('book', 'http://www.wikidata.org/entity/Q2528617'), ('writer', 'http://www.wikidata.org/entity/Q7728'), ('writername', 'Grazia Deledda'), ('citizenname', 'Kingdom of Italy')]\n",
      "[('book', 'http://www.wikidata.org/entity/Q3796110'), ('writer', 'http://www.wikidata.org/entity/Q193236'), ('writername', \"Gabriele D'Annunzio\"), ('citizenname', 'Kingdom of Italy')]\n",
      "[('book', 'http://www.wikidata.org/entity/Q3819366'), ('writer', 'http://www.wikidata.org/entity/Q193236'), ('writername', \"Gabriele D'Annunzio\"), ('citizenname', 'Kingdom of Italy')]\n",
      "[('book', 'http://www.wikidata.org/entity/Q3829175'), ('writer', 'http://www.wikidata.org/entity/Q193236'), ('writername', \"Gabriele D'Annunzio\"), ('citizenname', 'Kingdom of Italy')]\n",
      "[('book', 'http://www.wikidata.org/entity/Q3921913'), ('writer', 'http://www.wikidata.org/entity/Q193236'), ('writername', \"Gabriele D'Annunzio\"), ('citizenname', 'Kingdom of Italy')]\n",
      "[('book', 'http://www.wikidata.org/entity/Q11336'), ('writer', 'http://www.wikidata.org/entity/Q240576'), ('writername', 'Edmondo de Amicis'), ('citizenname', 'Kingdom of Italy')]\n",
      "[('book', 'http://www.wikidata.org/entity/Q3637240'), ('writer', 'http://www.wikidata.org/entity/Q518925'), ('writername', 'Francesco Domenico Guerrazzi'), ('citizenname', 'Kingdom of Italy')]\n",
      "[('book', 'http://www.wikidata.org/entity/Q3767172'), ('writer', 'http://www.wikidata.org/entity/Q193236'), ('writername', \"Gabriele D'Annunzio\"), ('citizenname', 'Kingdom of Italy')]\n",
      "[('book', 'http://www.wikidata.org/entity/Q1167825'), ('writer', 'http://www.wikidata.org/entity/Q193236'), ('writername', \"Gabriele D'Annunzio\"), ('citizenname', 'Kingdom of Italy')]\n",
      "[('book', 'http://www.wikidata.org/entity/Q20009720'), ('writer', 'http://www.wikidata.org/entity/Q193236'), ('writername', \"Gabriele D'Annunzio\"), ('citizenname', 'Kingdom of Italy')]\n",
      "[('book', 'http://www.wikidata.org/entity/Q56876094'), ('writer', 'http://www.wikidata.org/entity/Q193236'), ('writername', \"Gabriele D'Annunzio\"), ('citizenname', 'Kingdom of Italy')]\n"
     ]
    },
    {
     "data": {
      "text/plain": [
       "50"
      ]
     },
     "execution_count": 58,
     "metadata": {},
     "output_type": "execute_result"
    }
   ],
   "source": [
    "## all Kingdom of Italy+italy authors between 1810 until 1910 with their country of citizen\n",
    "queryString = \"\"\"\n",
    "SELECT DISTINCT ?book ?writer ?writername ?citizenname \n",
    "WHERE { \n",
    "    {?writer wdt:P27 wd:Q38 }\n",
    "    UNION { ?writer wdt:P27 wd:Q172579 } \n",
    "    ?writer wdt:P106 wd:Q36180 .\n",
    "    ?writer wdt:P27 ?citizen .\n",
    "    \n",
    "    ?book wdt:P50 ?writer .\n",
    "    ?book wdt:P577 ?time .\n",
    "    FILTER(\"1810-01-01\"^^xsd:dateTime <= ?time && ?time < \"1910-01-01\"^^xsd:dateTime).\n",
    "    #labels\n",
    "    \n",
    "    ?writer <http://schema.org/name> ?writername .\n",
    "    ?citizen <http://schema.org/name> ?citizenname .\n",
    "} \n",
    "LIMIT 50\n",
    "\"\"\"\n",
    "print(\"Results\")\n",
    "run_query(queryString)"
   ]
  },
  {
   "cell_type": "code",
   "execution_count": 59,
   "id": "a867f9ff-be68-4c28-b32c-64762b2517f9",
   "metadata": {},
   "outputs": [
    {
     "name": "stdout",
     "output_type": "stream",
     "text": [
      "Results\n",
      "[('s', 'http://www.wikidata.org/prop/direct/P50'), ('sname', 'author'), ('p', 'http://www.wikidata.org/entity/Q529858'), ('pname', 'Giovanni Papini')]\n",
      "[('s', 'http://www.wikidata.org/prop/direct/P6216'), ('sname', 'copyright status'), ('p', 'http://www.wikidata.org/entity/Q19652'), ('pname', 'public domain')]\n",
      "[('s', 'http://www.wikidata.org/prop/direct/P136'), ('sname', 'genre'), ('p', 'http://www.wikidata.org/entity/Q35760'), ('pname', 'essay')]\n",
      "[('s', 'http://www.wikidata.org/prop/direct/P495'), ('sname', 'country of origin'), ('p', 'http://www.wikidata.org/entity/Q38'), ('pname', 'Italy')]\n",
      "[('s', 'http://www.wikidata.org/prop/direct/P31'), ('sname', 'instance of'), ('p', 'http://www.wikidata.org/entity/Q47461344'), ('pname', 'written work')]\n",
      "[('s', 'http://www.wikidata.org/prop/direct/P921'), ('sname', 'main subject'), ('p', 'http://www.wikidata.org/entity/Q5891'), ('pname', 'philosophy')]\n",
      "[('s', 'http://www.wikidata.org/prop/direct/P407'), ('sname', 'language of work or name'), ('p', 'http://www.wikidata.org/entity/Q652'), ('pname', 'Italian')]\n"
     ]
    },
    {
     "data": {
      "text/plain": [
       "7"
      ]
     },
     "execution_count": 59,
     "metadata": {},
     "output_type": "execute_result"
    }
   ],
   "source": [
    "#[('book', 'http://www.wikidata.org/entity/Q19621681'),\n",
    "#('writer', 'http://www.wikidata.org/entity/Q529858'), ('writername', 'Giovanni Papini'), ('citizenname', 'Kingdom of Italy')]\n",
    "queryString = \"\"\"\n",
    "SELECT ?s ?sname ?p ?pname\n",
    "WHERE { \n",
    "    wd:Q19621681 ?s ?p .\n",
    "    #labels\n",
    "    ?s <http://schema.org/name> ?sname .\n",
    "    ?p <http://schema.org/name> ?pname .\n",
    "} \n",
    "LIMIT 50\n",
    "\"\"\"\n",
    "print(\"Results\")\n",
    "run_query(queryString)"
   ]
  },
  {
   "cell_type": "code",
   "execution_count": 60,
   "id": "e2d961e9-2400-46a6-8e9b-3dfcfbf16e2d",
   "metadata": {},
   "outputs": [
    {
     "name": "stdout",
     "output_type": "stream",
     "text": [
      "Results\n",
      "[('book', 'http://www.wikidata.org/entity/Q8187529'), ('bookname', 'A Studio at Les Batignolles')]\n",
      "[('book', 'http://www.wikidata.org/entity/Q1218985'), ('bookname', 'The Last Days of Pompeii')]\n",
      "[('book', 'http://www.wikidata.org/entity/Q20158334'), ('bookname', 'Aristanax 2 (Pauly-Wissowa)')]\n",
      "[('book', 'http://www.wikidata.org/entity/Q216299'), ('bookname', 'Suda')]\n",
      "[('book', 'http://www.wikidata.org/entity/Q15584559'), ('bookname', 'Salvation Nell')]\n",
      "[('book', 'http://www.wikidata.org/entity/Q794123'), ('bookname', 'The Siege of Beszterce')]\n",
      "[('book', 'http://www.wikidata.org/entity/Q12360731'), ('bookname', 'The Phantom of the Opera')]\n",
      "[('book', 'http://www.wikidata.org/entity/Q15726350'), ('bookname', 'Ae fond kiss, and then we sever...')]\n",
      "[('book', 'http://www.wikidata.org/entity/Q15726373'), ('bookname', 'Why should we idly waste our prime...')]\n",
      "[('book', 'http://www.wikidata.org/entity/Q15727864'), ('bookname', 'The Dance Lesson')]\n",
      "[('book', 'http://www.wikidata.org/entity/Q15729320'), ('bookname', 'El heredero de Casa Pruna')]\n",
      "[('book', 'http://www.wikidata.org/entity/Q15730503'), ('bookname', 'The soldiers of the 76th line find their flags in Innsbruck arsenal')]\n",
      "[('book', 'http://www.wikidata.org/entity/Q15733638'), ('bookname', 'Cum ex injuncto')]\n",
      "[('book', 'http://www.wikidata.org/entity/Q18607760'), ('bookname', 'The Widow of a Painter')]\n",
      "[('book', 'http://www.wikidata.org/entity/Q3499690'), ('bookname', 'Nad Niemnem')]\n",
      "[('book', 'http://www.wikidata.org/entity/Q52253896'), ('bookname', 'Ještě jedno políbení')]\n",
      "[('book', 'http://www.wikidata.org/entity/Q9192864'), ('bookname', 'Becalmed')]\n",
      "[('book', 'http://www.wikidata.org/entity/Q9339507'), ('bookname', 'Sonnets from the Crimea')]\n",
      "[('book', 'http://www.wikidata.org/entity/Q15714331'), ('bookname', 'Out of the Frying Pan')]\n",
      "[('book', 'http://www.wikidata.org/entity/Q15839163'), ('bookname', 'The Kiss and Other Stories by Anton Tchekhoff')]\n",
      "[('book', 'http://www.wikidata.org/entity/Q15845534'), ('bookname', 'Andromeda')]\n",
      "[('book', 'http://www.wikidata.org/entity/Q15845571'), ('bookname', 'Crossing the Solent')]\n",
      "[('book', 'http://www.wikidata.org/entity/Q15845576'), ('bookname', 'Departure for Australia of the Duke and Duchess of Cornwall and York')]\n",
      "[('book', 'http://www.wikidata.org/entity/Q15858290'), ('bookname', 'Salome Mad')]\n",
      "[('book', 'http://www.wikidata.org/entity/Q15858312'), ('bookname', 'The Jewel Thieves')]\n",
      "[('book', 'http://www.wikidata.org/entity/Q15858483'), ('bookname', 'The Sleepwalker')]\n",
      "[('book', 'http://www.wikidata.org/entity/Q15858847'), ('bookname', 'Tilly at the Election')]\n",
      "[('book', 'http://www.wikidata.org/entity/Q15858940'), ('bookname', 'Behind the Scenes')]\n",
      "[('book', 'http://www.wikidata.org/entity/Q15858974'), ('bookname', \"Mr. Mugwump's Banknotes\")]\n",
      "[('book', 'http://www.wikidata.org/entity/Q15859223'), ('bookname', 'The Postman')]\n",
      "[('book', 'http://www.wikidata.org/entity/Q15859247'), ('bookname', 'Unlucky Bill')]\n",
      "[('book', 'http://www.wikidata.org/entity/Q15863490'), ('bookname', 'Criminal Law & Justice Weekly')]\n",
      "[('book', 'http://www.wikidata.org/entity/Q15865062'), ('bookname', 'The Child and the Fiddler')]\n",
      "[('book', 'http://www.wikidata.org/entity/Q15865075'), ('bookname', 'The Adventures of Billy')]\n",
      "[('book', 'http://www.wikidata.org/entity/Q15865084'), ('bookname', 'Sunshine Through the Dark')]\n",
      "[('book', 'http://www.wikidata.org/entity/Q15865087'), ('bookname', 'The Trail of Books')]\n",
      "[('book', 'http://www.wikidata.org/entity/Q15865089'), ('bookname', \"The Cub Reporter's Big Scoop\")]\n",
      "[('book', 'http://www.wikidata.org/entity/Q15865136'), ('bookname', 'The Girl of the Seasons')]\n",
      "[('book', 'http://www.wikidata.org/entity/Q15865145'), ('bookname', 'The Man Within')]\n",
      "[('book', 'http://www.wikidata.org/entity/Q15865146'), ('bookname', 'The Mountaineer')]\n",
      "[('book', 'http://www.wikidata.org/entity/Q15865163'), ('bookname', 'The Traitor')]\n",
      "[('book', 'http://www.wikidata.org/entity/Q15865167'), ('bookname', 'The Limousine Mystery')]\n",
      "[('book', 'http://www.wikidata.org/entity/Q15865177'), ('bookname', 'Home, James')]\n",
      "[('book', 'http://www.wikidata.org/entity/Q15865198'), ('bookname', 'The Midnight Mail')]\n",
      "[('book', 'http://www.wikidata.org/entity/Q15865199'), ('bookname', 'The Shepherd of Souls')]\n",
      "[('book', 'http://www.wikidata.org/entity/Q15865207'), ('bookname', 'Lollipops and Posies')]\n",
      "[('book', 'http://www.wikidata.org/entity/Q15865211'), ('bookname', 'Billiards Mad')]\n",
      "[('book', 'http://www.wikidata.org/entity/Q15865222'), ('bookname', 'The Confession')]\n",
      "[('book', 'http://www.wikidata.org/entity/Q15865225'), ('bookname', 'Spies')]\n",
      "[('book', 'http://www.wikidata.org/entity/Q15865232'), ('bookname', 'Stickphast')]\n"
     ]
    },
    {
     "data": {
      "text/plain": [
       "50"
      ]
     },
     "execution_count": 60,
     "metadata": {},
     "output_type": "execute_result"
    }
   ],
   "source": [
    "queryString = \"\"\"\n",
    "SELECT ?book ?bookname\n",
    "WHERE { \n",
    "    ?book wdt:P6216 wd:Q19652 .\n",
    "    #labels\n",
    "    ?book <http://schema.org/name> ?bookname .\n",
    "} \n",
    "LIMIT 50\n",
    "\"\"\"\n",
    "print(\"Results\")\n",
    "run_query(queryString)"
   ]
  },
  {
   "cell_type": "code",
   "execution_count": 61,
   "id": "00252706-5556-434f-be18-2873f6531042",
   "metadata": {},
   "outputs": [
    {
     "name": "stdout",
     "output_type": "stream",
     "text": [
      "Results\n",
      "[('bookname', 'Il Crepuscolo dei Filosofi'), ('writername', 'Giovanni Papini')]\n",
      "[('bookname', 'The Tavern Knight'), ('writername', 'Rafael Sabatini')]\n",
      "[('bookname', 'Una donna'), ('writername', 'Sibilla Aleramo')]\n",
      "[('bookname', \"'O Sole Mio\"), ('writername', 'Giovanni Capurro')]\n",
      "[('bookname', 'Ashes'), ('writername', 'Grazia Deledda')]\n",
      "[('bookname', 'Elias Portolu'), ('writername', 'Grazia Deledda')]\n",
      "[('bookname', 'Il trionfo della morte'), ('writername', \"Gabriele D'Annunzio\")]\n",
      "[('bookname', 'The Intruder'), ('writername', \"Gabriele D'Annunzio\")]\n",
      "[('bookname', 'Le vergini delle rocce'), ('writername', \"Gabriele D'Annunzio\")]\n",
      "[('bookname', 'Primo vere'), ('writername', \"Gabriele D'Annunzio\")]\n",
      "[('bookname', 'Heart'), ('writername', 'Edmondo de Amicis')]\n",
      "[('bookname', 'Beatrice Cenci'), ('writername', 'Francesco Domenico Guerrazzi')]\n",
      "[('bookname', 'Giovanni Episcopo'), ('writername', \"Gabriele D'Annunzio\")]\n",
      "[('bookname', 'The Fire'), ('writername', \"Gabriele D'Annunzio\")]\n",
      "[('bookname', 'The Dream of a Spring Morning'), ('writername', \"Gabriele D'Annunzio\")]\n",
      "[('bookname', 'Halcyon'), ('writername', \"Gabriele D'Annunzio\")]\n",
      "[('bookname', 'Elegìe Romane (Italian)'), ('writername', \"Gabriele D'Annunzio\")]\n",
      "[('bookname', 'Pamiętnik chłopca'), ('writername', 'Edmondo de Amicis')]\n",
      "[('bookname', 'Laudi'), ('writername', \"Gabriele D'Annunzio\")]\n",
      "[('bookname', 'Elettra'), ('writername', \"Gabriele D'Annunzio\")]\n",
      "[('bookname', 'Maia'), ('writername', \"Gabriele D'Annunzio\")]\n",
      "[('bookname', 'Il Piacere'), ('writername', \"Gabriele D'Annunzio\")]\n",
      "[('bookname', 'Po rozwodzie'), ('writername', 'Grazia Deledda')]\n",
      "[('bookname', 'Fatalità'), ('writername', 'Ada Negri')]\n",
      "[('bookname', 'Dictionary of the Italian Language by Nicolò Tommaseo and Bernardo Bellini'), ('writername', 'Niccolò Tommaseo')]\n",
      "[('bookname', \"L'Edera\"), ('writername', 'Grazia Deledda')]\n",
      "[('bookname', 'After the divorce'), ('writername', 'Grazia Deledda')]\n",
      "[('bookname', 'Popiół'), ('writername', 'Grazia Deledda')]\n",
      "[('bookname', 'Virgin Earth'), ('writername', \"Gabriele D'Annunzio\")]\n",
      "[('bookname', 'Cuore (1896 Italian edition)'), ('writername', 'Edmondo de Amicis')]\n",
      "[('bookname', 'Cuore'), ('writername', 'Edmondo de Amicis')]\n",
      "[('bookname', 'San Pantaleone'), ('writername', \"Gabriele D'Annunzio\")]\n",
      "[('bookname', 'La figlia di Iorio'), ('writername', \"Gabriele D'Annunzio\")]\n",
      "[('bookname', 'Constantinople (Amicis book)'), ('writername', 'Edmondo de Amicis')]\n",
      "[('bookname', 'The rain in the pinewood'), ('writername', \"Gabriele D'Annunzio\")]\n",
      "[('bookname', 'Le Feu'), ('writername', \"Gabriele D'Annunzio\")]\n",
      "[('bookname', 'Maybe Yes, Maybe No'), ('writername', \"Gabriele D'Annunzio\")]\n",
      "[('bookname', \"La scienza in cucina e l'arte di mangiar bene\"), ('writername', 'Pellegrino Artusi')]\n",
      "[('bookname', 'The crow of Mizzaro'), ('writername', 'Luigi Pirandello')]\n",
      "[('bookname', 'San Martino'), ('writername', 'Giosuè Carducci')]\n",
      "[('bookname', 'Rosso Malpelo'), ('writername', 'Giovanni Verga')]\n",
      "[('bookname', 'I Malavoglia'), ('writername', 'Giovanni Verga')]\n",
      "[('bookname', 'Eva'), ('writername', 'Giovanni Verga')]\n",
      "[('bookname', 'Mastro-don Gesualdo'), ('writername', 'Giovanni Verga')]\n",
      "[('bookname', 'The Late Mattia Pascal'), ('writername', 'Luigi Pirandello')]\n",
      "[('bookname', 'Duties of Man'), ('writername', 'Giuseppe Mazzini')]\n",
      "[('bookname', 'The Reality of the Dream'), ('writername', 'Luigi Pirandello')]\n",
      "[('bookname', 'Il ventre di Napoli'), ('writername', 'Matilde Serao')]\n",
      "[('bookname', 'The Turn'), ('writername', 'Luigi Pirandello')]\n",
      "[('bookname', 'To Satana'), ('writername', 'Giosuè Carducci')]\n"
     ]
    },
    {
     "data": {
      "text/plain": [
       "50"
      ]
     },
     "execution_count": 61,
     "metadata": {},
     "output_type": "execute_result"
    }
   ],
   "source": [
    "# all books by Kingdom of Italy+italy authors between 1810 until 1910 with their country of citizen + their copyright status.\n",
    "\n",
    "#[('s', 'http://www.wikidata.org/prop/direct/P6216'),\n",
    "#('sname', 'copyright status'),\n",
    "#('p', 'http://www.wikidata.org/entity/Q19652'), ('pname', 'public domain')]\n",
    "\n",
    "queryString = \"\"\"\n",
    "SELECT DISTINCT ?bookname ?writername\n",
    "WHERE { \n",
    "    {?writer wdt:P27 wd:Q38 }\n",
    "    UNION { ?writer wdt:P27 wd:Q172579 } \n",
    "    ?writer wdt:P106 wd:Q36180 .\n",
    "    \n",
    "    ?book wdt:P50 ?writer .\n",
    "    ?book wdt:P6216 wd:Q19652 .\n",
    "    ?book wdt:P577 ?time .\n",
    "    FILTER(\"1810-01-01\"^^xsd:dateTime <= ?time && ?time < \"1910-01-01\"^^xsd:dateTime).\n",
    "    #labels\n",
    "    \n",
    "    ?writer <http://schema.org/name> ?writername .\n",
    "    ?book <http://schema.org/name> ?bookname .\n",
    "\n",
    "} \n",
    "LIMIT 50\n",
    "\"\"\"\n",
    "print(\"Results\")\n",
    "run_query(queryString)"
   ]
  },
  {
   "cell_type": "markdown",
   "id": "f11758c1-a154-4f90-8259-7bfac46cf2c8",
   "metadata": {},
   "source": [
    "# 3) Count how many books written by Italian authors are now released with a \"public domain\" copyright form"
   ]
  },
  {
   "cell_type": "code",
   "execution_count": 62,
   "id": "532fe35b-cab9-43e9-98f3-3eb94f76be02",
   "metadata": {},
   "outputs": [
    {
     "name": "stdout",
     "output_type": "stream",
     "text": [
      "Results\n",
      "[('countbook', '176')]\n"
     ]
    },
    {
     "data": {
      "text/plain": [
       "1"
      ]
     },
     "execution_count": 62,
     "metadata": {},
     "output_type": "execute_result"
    }
   ],
   "source": [
    "queryString = \"\"\"\n",
    "SELECT (COUNT (DISTINCT ?book) AS ?countbook)\n",
    "WHERE { \n",
    "    {?writer wdt:P27 wd:Q38 }\n",
    "    UNION { ?writer wdt:P27 wd:Q172579 } \n",
    "    ?writer wdt:P106 wd:Q36180 .\n",
    "    ?book wdt:P50 ?writer .\n",
    "    ?book wdt:P6216 wd:Q19652 .\n",
    "    #labels\n",
    "    ?book <http://schema.org/name> ?bookname .\n",
    "\n",
    "} \n",
    "\n",
    "\"\"\"\n",
    "print(\"Results\")\n",
    "run_query(queryString)"
   ]
  },
  {
   "cell_type": "markdown",
   "id": "0d73b82c-4141-42ff-91ff-fd057837854d",
   "metadata": {},
   "source": [
    "## 4) How many Literature Nobel awards won authors from Italy and from the Kingdom of Italy? "
   ]
  },
  {
   "cell_type": "code",
   "execution_count": 63,
   "id": "af3c7db2-8bca-4f05-80a2-53619d39a2ac",
   "metadata": {},
   "outputs": [
    {
     "name": "stdout",
     "output_type": "stream",
     "text": [
      "Results\n",
      "[('s', 'http://www.wikidata.org/prop/direct/P800'), ('sname', 'notable work'), ('p', 'http://www.wikidata.org/entity/Q651722'), ('pname', 'Quiz Show')]\n",
      "[('s', 'http://www.wikidata.org/prop/direct/P734'), ('sname', 'family name'), ('p', 'http://www.wikidata.org/entity/Q37536925'), ('pname', 'Turturro')]\n",
      "[('s', 'http://www.wikidata.org/prop/direct/P69'), ('sname', 'educated at'), ('p', 'http://www.wikidata.org/entity/Q1140241'), ('pname', 'State University of New York')]\n",
      "[('s', 'http://www.wikidata.org/prop/direct/P106'), ('sname', 'occupation'), ('p', 'http://www.wikidata.org/entity/Q10798782'), ('pname', 'television actor')]\n",
      "[('s', 'http://www.wikidata.org/prop/direct/P106'), ('sname', 'occupation'), ('p', 'http://www.wikidata.org/entity/Q10800557'), ('pname', 'film actor')]\n",
      "[('s', 'http://www.wikidata.org/prop/direct/P166'), ('sname', 'award received'), ('p', 'http://www.wikidata.org/entity/Q1131356'), ('pname', 'Theatre World Award')]\n",
      "[('s', 'http://www.wikidata.org/prop/direct/P1412'), ('sname', 'languages spoken, written or signed'), ('p', 'http://www.wikidata.org/entity/Q1860'), ('pname', 'English')]\n",
      "[('s', 'http://www.wikidata.org/prop/direct/P106'), ('sname', 'occupation'), ('p', 'http://www.wikidata.org/entity/Q2259451'), ('pname', 'stage actor')]\n",
      "[('s', 'http://www.wikidata.org/prop/direct/P106'), ('sname', 'occupation'), ('p', 'http://www.wikidata.org/entity/Q2405480'), ('pname', 'voice actor')]\n",
      "[('s', 'http://www.wikidata.org/prop/direct/P106'), ('sname', 'occupation'), ('p', 'http://www.wikidata.org/entity/Q2526255'), ('pname', 'film director')]\n",
      "[('s', 'http://www.wikidata.org/prop/direct/P106'), ('sname', 'occupation'), ('p', 'http://www.wikidata.org/entity/Q28389'), ('pname', 'screenwriter')]\n",
      "[('s', 'http://www.wikidata.org/prop/direct/P27'), ('sname', 'country of citizenship'), ('p', 'http://www.wikidata.org/entity/Q30'), ('pname', 'United States of America')]\n",
      "[('s', 'http://www.wikidata.org/prop/direct/P106'), ('sname', 'occupation'), ('p', 'http://www.wikidata.org/entity/Q3282637'), ('pname', 'film producer')]\n",
      "[('s', 'http://www.wikidata.org/prop/direct/P106'), ('sname', 'occupation'), ('p', 'http://www.wikidata.org/entity/Q3387717'), ('pname', 'theatrical director')]\n",
      "[('s', 'http://www.wikidata.org/prop/direct/P106'), ('sname', 'occupation'), ('p', 'http://www.wikidata.org/entity/Q33999'), ('pname', 'actor')]\n",
      "[('s', 'http://www.wikidata.org/prop/direct/P106'), ('sname', 'occupation'), ('p', 'http://www.wikidata.org/entity/Q3455803'), ('pname', 'director')]\n",
      "[('s', 'http://www.wikidata.org/prop/direct/P106'), ('sname', 'occupation'), ('p', 'http://www.wikidata.org/entity/Q36180'), ('pname', 'writer')]\n",
      "[('s', 'http://www.wikidata.org/prop/direct/P27'), ('sname', 'country of citizenship'), ('p', 'http://www.wikidata.org/entity/Q38'), ('pname', 'Italy')]\n",
      "[('s', 'http://www.wikidata.org/prop/direct/P735'), ('sname', 'given name'), ('p', 'http://www.wikidata.org/entity/Q4925477'), ('pname', 'John')]\n",
      "[('s', 'http://www.wikidata.org/prop/direct/P31'), ('sname', 'instance of'), ('p', 'http://www.wikidata.org/entity/Q5'), ('pname', 'human')]\n",
      "[('s', 'http://www.wikidata.org/prop/direct/P1412'), ('sname', 'languages spoken, written or signed'), ('p', 'http://www.wikidata.org/entity/Q652'), ('pname', 'Italian')]\n",
      "[('s', 'http://www.wikidata.org/prop/direct/P21'), ('sname', 'sex or gender'), ('p', 'http://www.wikidata.org/entity/Q6581097'), ('pname', 'male')]\n",
      "[('s', 'http://www.wikidata.org/prop/direct/P1343'), ('sname', 'described by source'), ('p', 'http://www.wikidata.org/entity/Q67311526'), ('pname', 'Obalky knih.cz')]\n",
      "[('s', 'http://www.wikidata.org/prop/direct/P69'), ('sname', 'educated at'), ('p', 'http://www.wikidata.org/entity/Q8047423'), ('pname', 'Yale School of Drama')]\n",
      "[('s', 'http://www.wikidata.org/prop/direct/P19'), ('sname', 'place of birth'), ('p', 'http://www.wikidata.org/entity/Q18419'), ('pname', 'Brooklyn')]\n",
      "[('s', 'http://www.wikidata.org/prop/direct/P166'), ('sname', 'award received'), ('p', 'http://www.wikidata.org/entity/Q1044427'), ('pname', 'Primetime Emmy Award')]\n",
      "[('s', 'http://www.wikidata.org/prop/direct/P166'), ('sname', 'award received'), ('p', 'http://www.wikidata.org/entity/Q530923'), ('pname', 'Primetime Emmy Award for Outstanding Guest Actor in a Comedy Series')]\n",
      "[('s', 'http://www.wikidata.org/prop/direct/P106'), ('sname', 'occupation'), ('p', 'http://www.wikidata.org/entity/Q948329'), ('pname', 'character actor')]\n",
      "[('s', 'http://www.wikidata.org/prop/direct/P3373'), ('sname', 'sibling'), ('p', 'http://www.wikidata.org/entity/Q2342292'), ('pname', 'Nicholas Turturro')]\n",
      "[('s', 'http://www.wikidata.org/prop/direct/P166'), ('sname', 'award received'), ('p', 'http://www.wikidata.org/entity/Q42369'), ('pname', 'Cannes Film Festival')]\n",
      "[('s', 'http://www.wikidata.org/prop/direct/P800'), ('sname', 'notable work'), ('p', 'http://www.wikidata.org/entity/Q337078'), ('pname', 'The Big Lebowski')]\n",
      "[('s', 'http://www.wikidata.org/prop/direct/P69'), ('sname', 'educated at'), ('p', 'http://www.wikidata.org/entity/Q7603625'), ('pname', 'State University of New York at New Paltz')]\n",
      "[('s', 'http://www.wikidata.org/prop/direct/P7084'), ('sname', 'related category'), ('p', 'http://www.wikidata.org/entity/Q8454949'), ('pname', 'Category:Films directed by John Turturro')]\n",
      "[('s', 'http://www.wikidata.org/prop/direct/P40'), ('sname', 'child'), ('p', 'http://www.wikidata.org/entity/Q22915221'), ('pname', 'Diego Turturro')]\n",
      "[('s', 'http://www.wikidata.org/prop/direct/P40'), ('sname', 'child'), ('p', 'http://www.wikidata.org/entity/Q22915222'), ('pname', 'Amedeo Turturro')]\n",
      "[('s', 'http://www.wikidata.org/prop/direct/P26'), ('sname', 'spouse'), ('p', 'http://www.wikidata.org/entity/Q5958562'), ('pname', 'Katherine Borowitz')]\n",
      "[('s', 'http://www.wikidata.org/prop/direct/P800'), ('sname', 'notable work'), ('p', 'http://www.wikidata.org/entity/Q17986725'), ('pname', 'The Night Of')]\n",
      "[('s', 'http://www.wikidata.org/prop/direct/P1283'), ('sname', 'filmography'), ('p', 'http://www.wikidata.org/entity/Q26185205'), ('pname', 'John Turturro filmography')]\n",
      "[('s', 'http://www.wikidata.org/prop/direct/P800'), ('sname', 'notable work'), ('p', 'http://www.wikidata.org/entity/Q237215'), ('pname', 'Barton Fink')]\n"
     ]
    },
    {
     "data": {
      "text/plain": [
       "39"
      ]
     },
     "execution_count": 63,
     "metadata": {},
     "output_type": "execute_result"
    }
   ],
   "source": [
    "# 'Alberto Moravia'\n",
    "queryString = \"\"\"\n",
    "SELECT ?s ?sname ?p ?pname\n",
    "WHERE { \n",
    "    wd:Q244234 ?s ?p .\n",
    "    #label\n",
    "    ?s <http://schema.org/name> ?sname .\n",
    "    ?p <http://schema.org/name> ?pname .\n",
    "} \n",
    "LIMIT 50\n",
    "\"\"\"\n",
    "print(\"Results\")\n",
    "run_query(queryString)"
   ]
  },
  {
   "cell_type": "code",
   "execution_count": 64,
   "id": "e6ba9b21-f04e-40c9-bcc3-6d33bd62b9ae",
   "metadata": {},
   "outputs": [
    {
     "name": "stdout",
     "output_type": "stream",
     "text": [
      "Results\n",
      "[('award', 'http://www.wikidata.org/entity/Q1044427'), ('awardname', 'Primetime Emmy Award')]\n",
      "[('award', 'http://www.wikidata.org/entity/Q42369'), ('awardname', 'Cannes Film Festival')]\n",
      "[('award', 'http://www.wikidata.org/entity/Q1131356'), ('awardname', 'Theatre World Award')]\n",
      "[('award', 'http://www.wikidata.org/entity/Q530923'), ('awardname', 'Primetime Emmy Award for Outstanding Guest Actor in a Comedy Series')]\n"
     ]
    },
    {
     "data": {
      "text/plain": [
       "4"
      ]
     },
     "execution_count": 64,
     "metadata": {},
     "output_type": "execute_result"
    }
   ],
   "source": [
    "#[('s', 'http://www.wikidata.org/prop/direct/P166'), ('sname', 'award received'), \n",
    "#('p', 'http://www.wikidata.org/entity/Q1131356'), ('pname', 'Theatre World Award')]\n",
    "# 'Alberto Moravia'\n",
    "queryString = \"\"\"\n",
    "SELECT DISTINCT ?award ?awardname\n",
    "WHERE { \n",
    "    wd:Q244234 wdt:P166 ?award .\n",
    "    #label\n",
    "    ?s <http://schema.org/name> ?sname .\n",
    "    ?award <http://schema.org/name> ?awardname .\n",
    "} \n",
    "LIMIT 50\n",
    "\"\"\"\n",
    "print(\"Results\")\n",
    "run_query(queryString)"
   ]
  },
  {
   "cell_type": "code",
   "execution_count": 65,
   "id": "d9fbb1d1-b49e-4e77-9b14-8f0dac9fd0a7",
   "metadata": {},
   "outputs": [
    {
     "name": "stdout",
     "output_type": "stream",
     "text": [
      "Results\n",
      "[('writername', 'Natalia Ginzburg'), ('awardname', 'Charles Veillon prize in the Italian language'), ('award', 'http://www.wikidata.org/entity/Q23061993')]\n",
      "[('writername', 'Natalia Ginzburg'), ('awardname', 'Bagutta Prize'), ('award', 'http://www.wikidata.org/entity/Q788568')]\n",
      "[('writername', 'Natalia Ginzburg'), ('awardname', 'Strega Prize'), ('award', 'http://www.wikidata.org/entity/Q731542')]\n",
      "[('writername', 'Natalia Ginzburg'), ('awardname', 'AAAS Fellow'), ('award', 'http://www.wikidata.org/entity/Q52382875')]\n",
      "[('writername', 'Giovanni Papini'), ('awardname', 'Marzotto Prize'), ('award', 'http://www.wikidata.org/entity/Q3910584')]\n",
      "[('writername', 'Giovanni Papini'), ('awardname', 'Marzotto Prize'), ('award', 'http://www.wikidata.org/entity/Q3910584')]\n",
      "[('writername', 'Giovanni Papini'), ('awardname', 'Marzotto Prize'), ('award', 'http://www.wikidata.org/entity/Q3910584')]\n",
      "[('writername', 'Giovanni Papini'), ('awardname', 'Marzotto Prize'), ('award', 'http://www.wikidata.org/entity/Q3910584')]\n",
      "[('writername', 'Giuseppe Prezzolini'), ('awardname', 'Knight Grand Cross of the Order of Merit of the Italian Republic'), ('award', 'http://www.wikidata.org/entity/Q14539974')]\n",
      "[('writername', 'Giuseppe Prezzolini'), ('awardname', 'Knight Grand Cross of the Order of Merit of the Italian Republic'), ('award', 'http://www.wikidata.org/entity/Q14539974')]\n",
      "[('writername', 'Paolo Monelli'), ('awardname', 'Medal of Military Valour'), ('award', 'http://www.wikidata.org/entity/Q850170')]\n",
      "[('writername', 'Benedetto Croce'), ('awardname', 'Serena Medal'), ('award', 'http://www.wikidata.org/entity/Q94578019')]\n",
      "[('writername', 'Benedetto Croce'), ('awardname', 'Serena Medal'), ('award', 'http://www.wikidata.org/entity/Q94578019')]\n",
      "[('writername', 'Benedetto Croce'), ('awardname', 'Serena Medal'), ('award', 'http://www.wikidata.org/entity/Q94578019')]\n",
      "[('writername', 'Benedetto Croce'), ('awardname', 'Serena Medal'), ('award', 'http://www.wikidata.org/entity/Q94578019')]\n",
      "[('writername', 'Benedetto Croce'), ('awardname', 'Serena Medal'), ('award', 'http://www.wikidata.org/entity/Q94578019')]\n",
      "[('writername', 'Benedetto Croce'), ('awardname', 'Gautieri Award'), ('award', 'http://www.wikidata.org/entity/Q96382466')]\n",
      "[('writername', 'Benedetto Croce'), ('awardname', 'Gautieri Award'), ('award', 'http://www.wikidata.org/entity/Q96382466')]\n",
      "[('writername', 'Benedetto Croce'), ('awardname', 'Gautieri Award'), ('award', 'http://www.wikidata.org/entity/Q96382466')]\n",
      "[('writername', 'Benedetto Croce'), ('awardname', 'Gautieri Award'), ('award', 'http://www.wikidata.org/entity/Q96382466')]\n",
      "[('writername', 'Benedetto Croce'), ('awardname', 'Gautieri Award'), ('award', 'http://www.wikidata.org/entity/Q96382466')]\n",
      "[('writername', 'Giuseppe Ungaretti'), ('awardname', 'Neustadt International Prize for Literature'), ('award', 'http://www.wikidata.org/entity/Q580574')]\n",
      "[('writername', 'Giuseppe Ungaretti'), ('awardname', 'Neustadt International Prize for Literature'), ('award', 'http://www.wikidata.org/entity/Q580574')]\n",
      "[('writername', 'Giuseppe Ungaretti'), ('awardname', 'Neustadt International Prize for Literature'), ('award', 'http://www.wikidata.org/entity/Q580574')]\n",
      "[('writername', 'Giuseppe Ungaretti'), ('awardname', 'Neustadt International Prize for Literature'), ('award', 'http://www.wikidata.org/entity/Q580574')]\n",
      "[('writername', 'Giuseppe Ungaretti'), ('awardname', 'Neustadt International Prize for Literature'), ('award', 'http://www.wikidata.org/entity/Q580574')]\n",
      "[('writername', 'Giuseppe Ungaretti'), ('awardname', 'Neustadt International Prize for Literature'), ('award', 'http://www.wikidata.org/entity/Q580574')]\n",
      "[('writername', 'Marino Moretti'), ('awardname', 'Feltrinelli Prize'), ('award', 'http://www.wikidata.org/entity/Q599434')]\n",
      "[('writername', 'Marino Moretti'), ('awardname', 'Feltrinelli Prize'), ('award', 'http://www.wikidata.org/entity/Q599434')]\n",
      "[('writername', 'Marino Moretti'), ('awardname', 'Feltrinelli Prize'), ('award', 'http://www.wikidata.org/entity/Q599434')]\n",
      "[('writername', 'Marino Moretti'), ('awardname', 'Feltrinelli Prize'), ('award', 'http://www.wikidata.org/entity/Q599434')]\n",
      "[('writername', 'Marino Moretti'), ('awardname', 'Feltrinelli Prize'), ('award', 'http://www.wikidata.org/entity/Q599434')]\n",
      "[('writername', 'Marino Moretti'), ('awardname', 'Feltrinelli Prize'), ('award', 'http://www.wikidata.org/entity/Q599434')]\n",
      "[('writername', 'Aldo Palazzeschi'), ('awardname', 'Viareggio Prize'), ('award', 'http://www.wikidata.org/entity/Q1526935')]\n",
      "[('writername', 'Aldo Palazzeschi'), ('awardname', 'Viareggio Prize'), ('award', 'http://www.wikidata.org/entity/Q1526935')]\n",
      "[('writername', 'Aldo Palazzeschi'), ('awardname', 'Viareggio Prize'), ('award', 'http://www.wikidata.org/entity/Q1526935')]\n",
      "[('writername', 'Aldo Palazzeschi'), ('awardname', 'Marzotto Prize'), ('award', 'http://www.wikidata.org/entity/Q3910584')]\n",
      "[('writername', 'Aldo Palazzeschi'), ('awardname', 'Marzotto Prize'), ('award', 'http://www.wikidata.org/entity/Q3910584')]\n",
      "[('writername', 'Aldo Palazzeschi'), ('awardname', 'Marzotto Prize'), ('award', 'http://www.wikidata.org/entity/Q3910584')]\n",
      "[('writername', 'Massimo Bontempelli'), ('awardname', 'Strega Prize'), ('award', 'http://www.wikidata.org/entity/Q731542')]\n",
      "[('writername', 'Massimo Bontempelli'), ('awardname', 'Strega Prize'), ('award', 'http://www.wikidata.org/entity/Q731542')]\n",
      "[('writername', 'Massimo Bontempelli'), ('awardname', 'Strega Prize'), ('award', 'http://www.wikidata.org/entity/Q731542')]\n",
      "[('writername', 'Curzio Malaparte'), ('awardname', 'War Cross for Military Valour'), ('award', 'http://www.wikidata.org/entity/Q846482')]\n",
      "[('writername', 'Aldo Palazzeschi'), ('awardname', 'Feltrinelli Prize'), ('award', 'http://www.wikidata.org/entity/Q599434')]\n",
      "[('writername', 'Aldo Palazzeschi'), ('awardname', 'Feltrinelli Prize'), ('award', 'http://www.wikidata.org/entity/Q599434')]\n",
      "[('writername', 'Aldo Palazzeschi'), ('awardname', 'Feltrinelli Prize'), ('award', 'http://www.wikidata.org/entity/Q599434')]\n",
      "[('writername', 'Giorgio Vasari'), ('awardname', 'Order of the Golden Spur'), ('award', 'http://www.wikidata.org/entity/Q93716')]\n",
      "[('writername', 'Giorgio Vasari'), ('awardname', 'Order of the Golden Spur'), ('award', 'http://www.wikidata.org/entity/Q93716')]\n",
      "[('writername', 'Giorgio Vasari'), ('awardname', 'Order of the Golden Spur'), ('award', 'http://www.wikidata.org/entity/Q93716')]\n",
      "[('writername', 'Cesare Pavese'), ('awardname', 'Strega Prize'), ('award', 'http://www.wikidata.org/entity/Q731542')]\n"
     ]
    },
    {
     "data": {
      "text/plain": [
       "50"
      ]
     },
     "execution_count": 65,
     "metadata": {},
     "output_type": "execute_result"
    }
   ],
   "source": [
    "# books with public domain and their awards\n",
    "queryString = \"\"\"\n",
    "SELECT ?writername ?awardname ?award\n",
    "WHERE { \n",
    "    {?writer wdt:P27 wd:Q38 }\n",
    "    UNION { ?writer wdt:P27 wd:Q172579 } \n",
    "    ?writer wdt:P106 wd:Q36180 .\n",
    "    ?book wdt:P50 ?writer .\n",
    "    ?book wdt:P6216 wd:Q19652 .\n",
    "    ?writer wdt:P166 ?award .\n",
    "    #labels\n",
    "    ?writer <http://schema.org/name> ?writername .\n",
    "    ?award <http://schema.org/name> ?awardname .\n",
    "\n",
    "} \n",
    "LIMIT 50\n",
    "\"\"\"\n",
    "print(\"Results\")\n",
    "run_query(queryString)"
   ]
  },
  {
   "cell_type": "code",
   "execution_count": 66,
   "id": "d6715c4a-25bf-4d17-bbc9-87f8cbfdb734",
   "metadata": {},
   "outputs": [
    {
     "name": "stdout",
     "output_type": "stream",
     "text": [
      "Results\n",
      "[('s', 'http://www.wikidata.org/prop/direct/P361'), ('sname', 'part of'), ('p', 'http://www.wikidata.org/entity/Q16671101'), ('pname', 'Charles Veillon prize')]\n",
      "[('s', 'http://www.wikidata.org/prop/direct/P31'), ('sname', 'instance of'), ('p', 'http://www.wikidata.org/entity/Q378427'), ('pname', 'literary award')]\n"
     ]
    },
    {
     "data": {
      "text/plain": [
       "2"
      ]
     },
     "execution_count": 66,
     "metadata": {},
     "output_type": "execute_result"
    }
   ],
   "source": [
    "#award: Q23061993\n",
    "queryString = \"\"\"\n",
    "SELECT ?s ?sname ?p ?pname\n",
    "WHERE { \n",
    "    wd:Q23061993 ?s ?p .\n",
    "    #labels\n",
    "    ?s <http://schema.org/name> ?sname .\n",
    "    ?p <http://schema.org/name> ?pname .\n",
    "} \n",
    "LIMIT 50\n",
    "\"\"\"\n",
    "print(\"Results\")\n",
    "run_query(queryString)\n",
    "#?award wdt:P31 wd:Q378427 ."
   ]
  },
  {
   "cell_type": "code",
   "execution_count": 67,
   "id": "255229a4-f572-471d-9924-d61f6f1770bb",
   "metadata": {},
   "outputs": [
    {
     "name": "stdout",
     "output_type": "stream",
     "text": [
      "Results\n",
      "Empty\n"
     ]
    },
    {
     "data": {
      "text/plain": [
       "0"
      ]
     },
     "execution_count": 67,
     "metadata": {},
     "output_type": "execute_result"
    }
   ],
   "source": [
    "# 'Alberto Moravia'\n",
    "queryString = \"\"\"\n",
    "SELECT ?award ?awardname\n",
    "WHERE { \n",
    "    wd:Q244234 wdt:P166 ?award .\n",
    "    ?award wdt:P31 wd:Q378427 .\n",
    "    #label\n",
    "    ?s <http://schema.org/name> ?sname .\n",
    "    ?award <http://schema.org/name> ?awardname .\n",
    "} \n",
    "LIMIT 50\n",
    "\"\"\"\n",
    "print(\"Results\")\n",
    "run_query(queryString)"
   ]
  },
  {
   "cell_type": "code",
   "execution_count": 68,
   "id": "909e073e-2dc3-4ca0-b9ce-fa1a6bfc754b",
   "metadata": {},
   "outputs": [
    {
     "name": "stdout",
     "output_type": "stream",
     "text": [
      "Results\n",
      "[('writername', 'Eva Cantarella'), ('awardname', 'Bagutta Prize'), ('award', 'http://www.wikidata.org/entity/Q788568')]\n",
      "[('writername', 'Eva Cantarella'), ('awardname', 'Bagutta Prize'), ('award', 'http://www.wikidata.org/entity/Q788568')]\n",
      "[('writername', 'Eva Cantarella'), ('awardname', 'Bagutta Prize'), ('award', 'http://www.wikidata.org/entity/Q788568')]\n",
      "[('writername', 'Natalia Ginzburg'), ('awardname', 'Strega Prize'), ('award', 'http://www.wikidata.org/entity/Q731542')]\n",
      "[('writername', 'Natalia Ginzburg'), ('awardname', 'Strega Prize'), ('award', 'http://www.wikidata.org/entity/Q731542')]\n",
      "[('writername', 'Natalia Ginzburg'), ('awardname', 'Strega Prize'), ('award', 'http://www.wikidata.org/entity/Q731542')]\n",
      "[('writername', 'Natalia Ginzburg'), ('awardname', 'Strega Prize'), ('award', 'http://www.wikidata.org/entity/Q731542')]\n",
      "[('writername', 'Natalia Ginzburg'), ('awardname', 'Strega Prize'), ('award', 'http://www.wikidata.org/entity/Q731542')]\n",
      "[('writername', 'Natalia Ginzburg'), ('awardname', 'Strega Prize'), ('award', 'http://www.wikidata.org/entity/Q731542')]\n",
      "[('writername', 'Natalia Ginzburg'), ('awardname', 'Strega Prize'), ('award', 'http://www.wikidata.org/entity/Q731542')]\n",
      "[('writername', 'Natalia Ginzburg'), ('awardname', 'Strega Prize'), ('award', 'http://www.wikidata.org/entity/Q731542')]\n",
      "[('writername', 'Natalia Ginzburg'), ('awardname', 'Charles Veillon prize in the Italian language'), ('award', 'http://www.wikidata.org/entity/Q23061993')]\n",
      "[('writername', 'Natalia Ginzburg'), ('awardname', 'Charles Veillon prize in the Italian language'), ('award', 'http://www.wikidata.org/entity/Q23061993')]\n",
      "[('writername', 'Natalia Ginzburg'), ('awardname', 'Charles Veillon prize in the Italian language'), ('award', 'http://www.wikidata.org/entity/Q23061993')]\n",
      "[('writername', 'Natalia Ginzburg'), ('awardname', 'Charles Veillon prize in the Italian language'), ('award', 'http://www.wikidata.org/entity/Q23061993')]\n",
      "[('writername', 'Natalia Ginzburg'), ('awardname', 'Charles Veillon prize in the Italian language'), ('award', 'http://www.wikidata.org/entity/Q23061993')]\n",
      "[('writername', 'Natalia Ginzburg'), ('awardname', 'Charles Veillon prize in the Italian language'), ('award', 'http://www.wikidata.org/entity/Q23061993')]\n",
      "[('writername', 'Natalia Ginzburg'), ('awardname', 'Charles Veillon prize in the Italian language'), ('award', 'http://www.wikidata.org/entity/Q23061993')]\n",
      "[('writername', 'Natalia Ginzburg'), ('awardname', 'Charles Veillon prize in the Italian language'), ('award', 'http://www.wikidata.org/entity/Q23061993')]\n",
      "[('writername', 'Natalia Ginzburg'), ('awardname', 'Bagutta Prize'), ('award', 'http://www.wikidata.org/entity/Q788568')]\n",
      "[('writername', 'Natalia Ginzburg'), ('awardname', 'Bagutta Prize'), ('award', 'http://www.wikidata.org/entity/Q788568')]\n",
      "[('writername', 'Natalia Ginzburg'), ('awardname', 'Bagutta Prize'), ('award', 'http://www.wikidata.org/entity/Q788568')]\n",
      "[('writername', 'Natalia Ginzburg'), ('awardname', 'Bagutta Prize'), ('award', 'http://www.wikidata.org/entity/Q788568')]\n",
      "[('writername', 'Natalia Ginzburg'), ('awardname', 'Bagutta Prize'), ('award', 'http://www.wikidata.org/entity/Q788568')]\n",
      "[('writername', 'Natalia Ginzburg'), ('awardname', 'Bagutta Prize'), ('award', 'http://www.wikidata.org/entity/Q788568')]\n",
      "[('writername', 'Natalia Ginzburg'), ('awardname', 'Bagutta Prize'), ('award', 'http://www.wikidata.org/entity/Q788568')]\n",
      "[('writername', 'Natalia Ginzburg'), ('awardname', 'Bagutta Prize'), ('award', 'http://www.wikidata.org/entity/Q788568')]\n",
      "[('writername', 'Giorgio Bassani'), ('awardname', 'Strega Prize'), ('award', 'http://www.wikidata.org/entity/Q731542')]\n",
      "[('writername', 'Giorgio Bassani'), ('awardname', 'Strega Prize'), ('award', 'http://www.wikidata.org/entity/Q731542')]\n",
      "[('writername', 'Giorgio Bassani'), ('awardname', 'Strega Prize'), ('award', 'http://www.wikidata.org/entity/Q731542')]\n",
      "[('writername', 'Giorgio Bassani'), ('awardname', 'Strega Prize'), ('award', 'http://www.wikidata.org/entity/Q731542')]\n",
      "[('writername', 'Giorgio Bassani'), ('awardname', 'Premio Campiello'), ('award', 'http://www.wikidata.org/entity/Q2108706')]\n",
      "[('writername', 'Giorgio Bassani'), ('awardname', 'Premio Campiello'), ('award', 'http://www.wikidata.org/entity/Q2108706')]\n",
      "[('writername', 'Giorgio Bassani'), ('awardname', 'Premio Campiello'), ('award', 'http://www.wikidata.org/entity/Q2108706')]\n",
      "[('writername', 'Giorgio Bassani'), ('awardname', 'Premio Campiello'), ('award', 'http://www.wikidata.org/entity/Q2108706')]\n",
      "[('writername', 'Giorgio Bassani'), ('awardname', 'Bagutta Prize'), ('award', 'http://www.wikidata.org/entity/Q788568')]\n",
      "[('writername', 'Giorgio Bassani'), ('awardname', 'Bagutta Prize'), ('award', 'http://www.wikidata.org/entity/Q788568')]\n",
      "[('writername', 'Giorgio Bassani'), ('awardname', 'Bagutta Prize'), ('award', 'http://www.wikidata.org/entity/Q788568')]\n",
      "[('writername', 'Giorgio Bassani'), ('awardname', 'Bagutta Prize'), ('award', 'http://www.wikidata.org/entity/Q788568')]\n",
      "[('writername', 'Giorgio Bassani'), ('awardname', 'Nelly Sachs Prize'), ('award', 'http://www.wikidata.org/entity/Q519214')]\n",
      "[('writername', 'Giorgio Bassani'), ('awardname', 'Nelly Sachs Prize'), ('award', 'http://www.wikidata.org/entity/Q519214')]\n",
      "[('writername', 'Giorgio Bassani'), ('awardname', 'Nelly Sachs Prize'), ('award', 'http://www.wikidata.org/entity/Q519214')]\n",
      "[('writername', 'Giorgio Bassani'), ('awardname', 'Nelly Sachs Prize'), ('award', 'http://www.wikidata.org/entity/Q519214')]\n",
      "[('writername', 'Giorgio Bassani'), ('awardname', 'Viareggio Prize'), ('award', 'http://www.wikidata.org/entity/Q1526935')]\n",
      "[('writername', 'Giorgio Bassani'), ('awardname', 'Viareggio Prize'), ('award', 'http://www.wikidata.org/entity/Q1526935')]\n",
      "[('writername', 'Giorgio Bassani'), ('awardname', 'Viareggio Prize'), ('award', 'http://www.wikidata.org/entity/Q1526935')]\n",
      "[('writername', 'Giorgio Bassani'), ('awardname', 'Viareggio Prize'), ('award', 'http://www.wikidata.org/entity/Q1526935')]\n",
      "[('writername', 'Italo Calvino'), ('awardname', 'Austrian State Prize for European Literature'), ('award', 'http://www.wikidata.org/entity/Q698647')]\n",
      "[('writername', 'Italo Calvino'), ('awardname', 'Austrian State Prize for European Literature'), ('award', 'http://www.wikidata.org/entity/Q698647')]\n",
      "[('writername', 'Italo Calvino'), ('awardname', 'Austrian State Prize for European Literature'), ('award', 'http://www.wikidata.org/entity/Q698647')]\n"
     ]
    },
    {
     "data": {
      "text/plain": [
       "50"
      ]
     },
     "execution_count": 68,
     "metadata": {},
     "output_type": "execute_result"
    }
   ],
   "source": [
    "queryString = \"\"\"\n",
    "SELECT ?writername ?awardname ?award\n",
    "WHERE { \n",
    "    {?writer wdt:P27 wd:Q38 }\n",
    "    UNION { ?writer wdt:P27 wd:Q172579 } \n",
    "    ?writer wdt:P106 wd:Q36180 .\n",
    "    ?book wdt:P50 ?writer .\n",
    "    ?writer wdt:P166 ?award .\n",
    "    ?award wdt:P31 wd:Q378427 .\n",
    "    #labels\n",
    "    ?writer <http://schema.org/name> ?writername .\n",
    "    ?award <http://schema.org/name> ?awardname .\n",
    "\n",
    "} \n",
    "LIMIT 50\n",
    "\"\"\"\n",
    "print(\"Results\")\n",
    "run_query(queryString)"
   ]
  },
  {
   "cell_type": "code",
   "execution_count": 69,
   "id": "86190524-58ca-4c9b-8980-5dfed15e009f",
   "metadata": {},
   "outputs": [
    {
     "name": "stdout",
     "output_type": "stream",
     "text": [
      "Results\n",
      "[('countaward', '467')]\n"
     ]
    },
    {
     "data": {
      "text/plain": [
       "1"
      ]
     },
     "execution_count": 69,
     "metadata": {},
     "output_type": "execute_result"
    }
   ],
   "source": [
    "queryString = \"\"\"\n",
    "SELECT (COUNT (DISTINCT ?award) AS ?countaward)\n",
    "WHERE { \n",
    "    {?writer wdt:P27 wd:Q38 }\n",
    "    UNION { ?writer wdt:P27 wd:Q172579 } \n",
    "    ?writer wdt:P106 wd:Q36180 .\n",
    "    #?book wdt:P50 ?writer .\n",
    "    ?writer wdt:P166 ?award .\n",
    "    # ?award wdt:P31 wd:Q378427 .\n",
    "    #### this is a Literary award\n",
    "    #labels\n",
    "    ?award <http://schema.org/name> ?awardname .\n",
    "} \n",
    "\n",
    "\"\"\"\n",
    "print(\"Results\")\n",
    "run_query(queryString)"
   ]
  },
  {
   "cell_type": "code",
   "execution_count": 70,
   "id": "3b35f14e-9102-4391-a956-3427314906a4",
   "metadata": {},
   "outputs": [
    {
     "name": "stdout",
     "output_type": "stream",
     "text": [
      "Results\n",
      "[('award', 'http://www.wikidata.org/entity/Q23061993'), ('awardname', 'Charles Veillon prize in the Italian language')]\n",
      "[('award', 'http://www.wikidata.org/entity/Q23061993'), ('awardname', 'Charles Veillon prize in the Italian language')]\n",
      "[('award', 'http://www.wikidata.org/entity/Q2108706'), ('awardname', 'Premio Campiello')]\n",
      "[('award', 'http://www.wikidata.org/entity/Q2108706'), ('awardname', 'Premio Campiello')]\n",
      "[('award', 'http://www.wikidata.org/entity/Q118404'), ('awardname', 'Geschwister-Scholl-Preis')]\n",
      "[('award', 'http://www.wikidata.org/entity/Q519214'), ('awardname', 'Nelly Sachs Prize')]\n",
      "[('award', 'http://www.wikidata.org/entity/Q7650000'), ('awardname', 'Sutherland Trophy')]\n",
      "[('award', 'http://www.wikidata.org/entity/Q94578019'), ('awardname', 'Serena Medal')]\n",
      "[('award', 'http://www.wikidata.org/entity/Q1158951'), ('awardname', 'Dan David Prize')]\n",
      "[('award', 'http://www.wikidata.org/entity/Q1526935'), ('awardname', 'Viareggio Prize')]\n",
      "[('award', 'http://www.wikidata.org/entity/Q1526935'), ('awardname', 'Viareggio Prize')]\n",
      "[('award', 'http://www.wikidata.org/entity/Q1526935'), ('awardname', 'Viareggio Prize')]\n",
      "[('award', 'http://www.wikidata.org/entity/Q1526935'), ('awardname', 'Viareggio Prize')]\n",
      "[('award', 'http://www.wikidata.org/entity/Q788568'), ('awardname', 'Bagutta Prize')]\n",
      "[('award', 'http://www.wikidata.org/entity/Q788568'), ('awardname', 'Bagutta Prize')]\n",
      "[('award', 'http://www.wikidata.org/entity/Q788568'), ('awardname', 'Bagutta Prize')]\n",
      "[('award', 'http://www.wikidata.org/entity/Q788568'), ('awardname', 'Bagutta Prize')]\n",
      "[('award', 'http://www.wikidata.org/entity/Q731542'), ('awardname', 'Strega Prize')]\n",
      "[('award', 'http://www.wikidata.org/entity/Q731542'), ('awardname', 'Strega Prize')]\n",
      "[('award', 'http://www.wikidata.org/entity/Q731542'), ('awardname', 'Strega Prize')]\n",
      "[('award', 'http://www.wikidata.org/entity/Q731542'), ('awardname', 'Strega Prize')]\n",
      "[('award', 'http://www.wikidata.org/entity/Q1408208'), ('awardname', 'Preis für die Freiheit und Zukunft der Medien')]\n",
      "[('award', 'http://www.wikidata.org/entity/Q1059569'), ('awardname', 'Order of Merit of the Italian Republic')]\n",
      "[('award', 'http://www.wikidata.org/entity/Q1059569'), ('awardname', 'Order of Merit of the Italian Republic')]\n",
      "[('award', 'http://www.wikidata.org/entity/Q10855212'), ('awardname', 'Commander of the Legion of Honour')]\n",
      "[('award', 'http://www.wikidata.org/entity/Q10855271'), ('awardname', 'Knight of the Legion of Honour')]\n",
      "[('award', 'http://www.wikidata.org/entity/Q1324648'), ('awardname', 'Olof Palme Prize')]\n",
      "[('award', 'http://www.wikidata.org/entity/Q1377777'), ('awardname', 'European Film Award for Best Screenwriter')]\n",
      "[('award', 'http://www.wikidata.org/entity/Q1377777'), ('awardname', 'European Film Award for Best Screenwriter')]\n",
      "[('award', 'http://www.wikidata.org/entity/Q14539974'), ('awardname', 'Knight Grand Cross of the Order of Merit of the Italian Republic')]\n",
      "[('award', 'http://www.wikidata.org/entity/Q14539974'), ('awardname', 'Knight Grand Cross of the Order of Merit of the Italian Republic')]\n",
      "[('award', 'http://www.wikidata.org/entity/Q14539974'), ('awardname', 'Knight Grand Cross of the Order of Merit of the Italian Republic')]\n",
      "[('award', 'http://www.wikidata.org/entity/Q14539974'), ('awardname', 'Knight Grand Cross of the Order of Merit of the Italian Republic')]\n",
      "[('award', 'http://www.wikidata.org/entity/Q14539974'), ('awardname', 'Knight Grand Cross of the Order of Merit of the Italian Republic')]\n",
      "[('award', 'http://www.wikidata.org/entity/Q14539974'), ('awardname', 'Knight Grand Cross of the Order of Merit of the Italian Republic')]\n",
      "[('award', 'http://www.wikidata.org/entity/Q14539974'), ('awardname', 'Knight Grand Cross of the Order of Merit of the Italian Republic')]\n",
      "[('award', 'http://www.wikidata.org/entity/Q15042072'), ('awardname', 'Gold Medal of Military Valour')]\n",
      "[('award', 'http://www.wikidata.org/entity/Q154590'), ('awardname', 'Golden Bear')]\n",
      "[('award', 'http://www.wikidata.org/entity/Q179808'), ('awardname', \"Palme d'Or\")]\n",
      "[('award', 'http://www.wikidata.org/entity/Q209459'), ('awardname', 'Golden Lion')]\n",
      "[('award', 'http://www.wikidata.org/entity/Q2687578'), ('awardname', 'Inkpot Award')]\n",
      "[('award', 'http://www.wikidata.org/entity/Q3638154'), ('awardname', 'Italian Order of Merit for Culture and Art')]\n",
      "[('award', 'http://www.wikidata.org/entity/Q514445'), ('awardname', 'European Film Academy Lifetime Achievement Award')]\n",
      "[('award', 'http://www.wikidata.org/entity/Q52382875'), ('awardname', 'AAAS Fellow')]\n",
      "[('award', 'http://www.wikidata.org/entity/Q698647'), ('awardname', 'Austrian State Prize for European Literature')]\n",
      "[('award', 'http://www.wikidata.org/entity/Q777921'), ('awardname', 'European Film Award for Best Film')]\n",
      "[('award', 'http://www.wikidata.org/entity/Q777921'), ('awardname', 'European Film Award for Best Film')]\n",
      "[('award', 'http://www.wikidata.org/entity/Q12201445'), ('awardname', 'Knight Commander of the Order of the British Empire')]\n",
      "[('award', 'http://www.wikidata.org/entity/Q3703463'), ('awardname', 'David di Donatello for Best Director')]\n",
      "[('award', 'http://www.wikidata.org/entity/Q727328'), ('awardname', 'Academy Honorary Award')]\n"
     ]
    },
    {
     "data": {
      "text/plain": [
       "50"
      ]
     },
     "execution_count": 70,
     "metadata": {},
     "output_type": "execute_result"
    }
   ],
   "source": [
    "queryString = \"\"\"\n",
    "SELECT ?award ?awardname\n",
    "WHERE { \n",
    "    {?writer wdt:P27 wd:Q38 }\n",
    "    UNION { ?writer wdt:P27 wd:Q172579 } \n",
    "    ?writer wdt:P106 wd:Q36180 .\n",
    "    #?book wdt:P50 ?writer .\n",
    "    ?writer wdt:P166 ?award .\n",
    "    # ?award wdt:P31 wd:Q378427 .\n",
    "    #### this is a Literary award\n",
    "    #labels\n",
    "    ?award <http://schema.org/name> ?awardname .\n",
    "} \n",
    "LIMIT 50\n",
    "\"\"\"\n",
    "print(\"Results\")\n",
    "run_query(queryString)"
   ]
  },
  {
   "cell_type": "code",
   "execution_count": 71,
   "id": "b1b80834-c1be-44e4-84aa-70a2152b69ed",
   "metadata": {},
   "outputs": [
    {
     "name": "stdout",
     "output_type": "stream",
     "text": [
      "Results\n",
      "[('bookaward', '120')]\n"
     ]
    },
    {
     "data": {
      "text/plain": [
       "1"
      ]
     },
     "execution_count": 71,
     "metadata": {},
     "output_type": "execute_result"
    }
   ],
   "source": [
    "# How many Literature Nobel awards won authors from Italy and from the Kingdom of Italy? \n",
    "queryString = \"\"\"\n",
    "SELECT (COUNT (?book) AS ?bookaward)\n",
    "WHERE { \n",
    "    {?writer wdt:P27 wd:Q38 }\n",
    "    UNION { ?writer wdt:P27 wd:Q172579 } \n",
    "    ?writer wdt:P106 wd:Q36180 .\n",
    "    ?writer wdt:P27 ?citizen .\n",
    "    ?book wdt:P50 ?writer .\n",
    "    ?writer wdt:P166 ?award .\n",
    "\n",
    "    #labels\n",
    "    ?award <http://schema.org/name> ?awardname .\n",
    "    ?writer <http://schema.org/name> ?writername .\n",
    "    ?book <http://schema.org/name> ?bookname .\n",
    "    ?citizen <http://schema.org/name> ?citizenname .\n",
    "    FILTER regex(?awardname, \"nobel\", \"i\") \n",
    "    \n",
    "} \n",
    "\n",
    "\"\"\"\n",
    "print(\"Results\")\n",
    "run_query(queryString)"
   ]
  },
  {
   "cell_type": "markdown",
   "id": "8e83a4fd-5995-43e3-b33a-402ac45c2313",
   "metadata": {},
   "source": [
    "# How many Literature Nobel awards won authors from Italy and from the Kingdom of Italy? "
   ]
  },
  {
   "cell_type": "markdown",
   "id": "599f0706-47fd-442b-9a3e-d2c1c3663cd1",
   "metadata": {},
   "source": [
    "### The Literature Nobel winners from Italy and from the Kingdom of Italy."
   ]
  },
  {
   "cell_type": "code",
   "execution_count": 72,
   "id": "727e60d1-6d2f-4554-a288-91c40fe6f10f",
   "metadata": {},
   "outputs": [
    {
     "name": "stdout",
     "output_type": "stream",
     "text": [
      "Results\n",
      "[('writername', 'Dario Fo'), ('awardname', 'Nobel Prize in Literature'), ('bookname', 'He Had Two Pistols with White and Black Eyes'), ('citizenname', 'Italy')]\n",
      "[('writername', 'Dario Fo'), ('awardname', 'Nobel Prize in Literature'), ('bookname', 'Mamma Togni'), ('citizenname', 'Italy')]\n",
      "[('writername', 'Dario Fo'), ('awardname', 'Nobel Prize in Literature'), ('bookname', 'The Devil with Boobs'), ('citizenname', 'Italy')]\n",
      "[('writername', 'Dario Fo'), ('awardname', 'Nobel Prize in Literature'), ('bookname', 'The Open Couple'), ('citizenname', 'Italy')]\n",
      "[('writername', 'Dario Fo'), ('awardname', 'Nobel Prize in Literature'), ('bookname', 'Accidental Death of an Anarchist'), ('citizenname', 'Italy')]\n",
      "[('writername', 'Dario Fo'), ('awardname', 'Nobel Prize in Literature'), ('bookname', 'Elizabeth: Almost by Chance a Woman'), ('citizenname', 'Italy')]\n",
      "[('writername', 'Dario Fo'), ('awardname', 'Nobel Prize in Literature'), ('bookname', 'Trumpets and Raspberries'), ('citizenname', 'Italy')]\n",
      "[('writername', 'Dario Fo'), ('awardname', 'Nobel Prize in Literature'), ('bookname', 'Corpse for Sale'), ('citizenname', 'Italy')]\n",
      "[('writername', 'Dario Fo'), ('awardname', 'Nobel Prize in Literature'), ('bookname', 'The Virtuous Burglar'), ('citizenname', 'Italy')]\n",
      "[('writername', 'Dario Fo'), ('awardname', 'Nobel Prize in Literature'), ('bookname', 'Abducting Francesca'), ('citizenname', 'Italy')]\n",
      "[('writername', 'Dario Fo'), ('awardname', 'Nobel Prize in Literature'), ('bookname', 'Isabella, Three Tall Ships, and a Con Man'), ('citizenname', 'Italy')]\n",
      "[('writername', 'Dario Fo'), ('awardname', 'Nobel Prize in Literature'), ('bookname', \"Archangels Don't Play Pinball\"), ('citizenname', 'Italy')]\n",
      "[('writername', 'Dario Fo'), ('awardname', 'Nobel Prize in Literature'), ('bookname', \"Can't Pay? Won't Pay!\"), ('citizenname', 'Italy')]\n",
      "[('writername', 'Dario Fo'), ('awardname', 'Nobel Prize in Literature'), ('bookname', 'Johan Padan and the Discovery of the Americas'), ('citizenname', 'Italy')]\n",
      "[('writername', 'Dario Fo'), ('awardname', 'Nobel Prize in Literature'), ('bookname', 'He Who Steals a Foot is Lucky in Love'), ('citizenname', 'Italy')]\n",
      "[('writername', 'Dario Fo'), ('awardname', 'Nobel Prize in Literature'), ('bookname', 'Mistero Buffo'), ('citizenname', 'Italy')]\n",
      "[('writername', 'Dario Fo'), ('awardname', 'Nobel Prize in Literature'), ('bookname', 'The Pope and the Witch'), ('citizenname', 'Italy')]\n",
      "[('writername', 'Dario Fo'), ('awardname', 'Nobel Prize in Literature'), ('bookname', 'The Tale of a Tiger'), ('citizenname', 'Italy')]\n",
      "[('writername', 'Grazia Deledda'), ('awardname', 'Nobel Prize in Literature'), ('bookname', 'Canne al vento'), ('citizenname', 'Kingdom of Italy')]\n",
      "[('writername', 'Grazia Deledda'), ('awardname', 'Nobel Prize in Literature'), ('bookname', 'Ashes'), ('citizenname', 'Kingdom of Italy')]\n"
     ]
    },
    {
     "data": {
      "text/plain": [
       "20"
      ]
     },
     "execution_count": 72,
     "metadata": {},
     "output_type": "execute_result"
    }
   ],
   "source": [
    "# The Literature Nobel winners from Italy and from the Kingdom of Italy.\n",
    "queryString = \"\"\"\n",
    "SELECT DISTINCT ?writername ?awardname ?bookname ?citizenname\n",
    "WHERE { \n",
    "    {?writer wdt:P27 wd:Q38 }\n",
    "    UNION { ?writer wdt:P27 wd:Q172579 } \n",
    "    ?writer wdt:P106 wd:Q36180 .\n",
    "    ?writer wdt:P27 ?citizen .\n",
    "    ?book wdt:P50 ?writer .\n",
    "    ?writer wdt:P166 ?award .\n",
    "\n",
    "    #labels\n",
    "    ?award <http://schema.org/name> ?awardname .\n",
    "    ?writer <http://schema.org/name> ?writername .\n",
    "    ?book <http://schema.org/name> ?bookname .\n",
    "    ?citizen <http://schema.org/name> ?citizenname .\n",
    "    FILTER regex(?awardname, \"nobel\", \"i\") \n",
    "    \n",
    "} \n",
    "LIMIT 20\n",
    "\"\"\"\n",
    "print(\"Results\")\n",
    "run_query(queryString)\n"
   ]
  },
  {
   "cell_type": "code",
   "execution_count": 73,
   "id": "3c15b457-83b5-4d82-bf76-01e40e4c1d95",
   "metadata": {},
   "outputs": [
    {
     "name": "stdout",
     "output_type": "stream",
     "text": [
      "Results\n",
      "[('writername', 'Grazia Deledda'), ('citizenname', 'Kingdom of Italy'), ('booknames', \"After the divorce, Annalena Bilsini, Ashes, Canne al vento, Elias Portolu, L'Edera, Po rozwodzie, Popiół, The Mother\")]\n",
      "[('writername', 'Luigi Pirandello'), ('citizenname', 'Kingdom of Italy'), ('booknames', \"A Day Goes By, As You Desire Me, As you desire me, At the Exit, Bellavita, Berecche and the War, Cecè, Chwe chymeriad yn chwilio am awdur, Cinci, Clothing The Naked, Clothing the Naked, Clothing the naked, Così è, Così è (se vi pare), Crow Discovers the Moon, Each In His Own Way, Enrico IV, First Night, From the Nose to the Sky, Gea's Easter, Henri IV, Henry IV, Her Husband, Il piacere dell'onestà, In the Whirpool, It Is so  (if you think so), It is so, if you think so, L'Esclusa, La Rallegrata, La disdetta di Pitagora, La favola del figlio cambiato, Liola, Ma non è una cosa seria, Naked, Nené and Ninì, No one knows how, Novels for a year, One, No one and One Hundred Thousand, Questa sera si recita a soggetto, Sei personaggi in cerca d'autore, Six Characters in Search of an Author, Six characters in search of an author, The Late Mattia Pascal, The Life I Gave You, The Man with the Flower in His Mouth, The Man, the Beast and the Virtue, The Mountain Giants, The New Colony, The Old God, The Pleasure Of Honesty, The Reality of the Dream, The Revenge of the Dog, The Turn, The crow of Mizzaro, The fly, The life I have given you, The mountain giants, The old and the young, The rules of the game, The vice, Tonight We Improvise, Tonight we improvise, Vestire gli ignudi, Τhe rules of the game\")]\n",
      "[('writername', 'Dario Fo'), ('citizenname', 'Italy'), ('booknames', \"Abducting Francesca, Accidental Death of an Anarchist, Archangels Don't Play Pinball, Can't Pay? Won't Pay!, Corpse for Sale, Elizabeth: Almost by Chance a Woman, He Had Two Pistols with White and Black Eyes, He Who Steals a Foot is Lucky in Love, Isabella, Three Tall Ships, and a Con Man, Johan Padan and the Discovery of the Americas, Mamma Togni, Mistero Buffo, The Devil with Boobs, The Open Couple, The Pope and the Witch, The Tale of a Tiger, The Virtuous Burglar, Trumpets and Raspberries\")]\n",
      "[('writername', 'Giosuè Carducci'), ('citizenname', 'Kingdom of Italy'), ('booknames', \"Barbarian Odes, Giambi ed Epodi, Giosuè Carducci letter to Mario Rapisardi, Juvenilia/Libro I/Profonda, solitaria, immensa notte, Levia Gravia, Poems of Italy: selections from the Odes of Giosue Carducci, Poesie di Giosuè Carducci, Poesie di Giosuè Carducci : 1850-1900, Rime nuove, San Martino, Sant'Abbondio, To Satana\")]\n"
     ]
    },
    {
     "data": {
      "text/plain": [
       "4"
      ]
     },
     "execution_count": 73,
     "metadata": {},
     "output_type": "execute_result"
    }
   ],
   "source": [
    "# The Literature Nobel winners from Italy and from the Kingdom of Italy.\n",
    "queryString = \"\"\"\n",
    "SELECT ?writername ?citizenname (GROUP_CONCAT(DISTINCT ?bookname; SEPARATOR=\", \") AS ?booknames)\n",
    "WHERE { \n",
    "    {?writer wdt:P27 wd:Q38 }\n",
    "    UNION { ?writer wdt:P27 wd:Q172579 } \n",
    "    ?writer wdt:P106 wd:Q36180 .\n",
    "    ?writer wdt:P27 ?citizen .\n",
    "    ?book wdt:P50 ?writer .\n",
    "    ?writer wdt:P166 ?award .\n",
    "\n",
    "    #labels\n",
    "    ?award <http://schema.org/name> ?awardname .\n",
    "    ?writer <http://schema.org/name> ?writername .\n",
    "    ?book <http://schema.org/name> ?bookname .\n",
    "    ?citizen <http://schema.org/name> ?citizenname .\n",
    "    FILTER regex(?awardname, \"nobel\", \"i\") \n",
    "    \n",
    "} \n",
    "LIMIT 10\n",
    "\"\"\"\n",
    "print(\"Results\")\n",
    "run_query(queryString)\n"
   ]
  },
  {
   "cell_type": "code",
   "execution_count": 74,
   "id": "5d87c115-8d3d-45b7-b5ad-b731155cbfd0",
   "metadata": {},
   "outputs": [
    {
     "name": "stdout",
     "output_type": "stream",
     "text": [
      "Results\n",
      "[('bookaward', '18')]\n"
     ]
    },
    {
     "data": {
      "text/plain": [
       "1"
      ]
     },
     "execution_count": 74,
     "metadata": {},
     "output_type": "execute_result"
    }
   ],
   "source": [
    "# How many Literature Nobel awards won authors from Italy? \n",
    "queryString = \"\"\"\n",
    "SELECT (COUNT (DISTINCT ?book) AS ?bookaward)\n",
    "WHERE { \n",
    "    ?writer wdt:P27 wd:Q38 .\n",
    "    ?writer wdt:P106 wd:Q36180 .\n",
    "    ?writer wdt:P27 ?citizen .\n",
    "    ?book wdt:P50 ?writer .\n",
    "    ?writer wdt:P166 ?award .\n",
    "\n",
    "    #labels\n",
    "    ?award <http://schema.org/name> ?awardname .\n",
    "    ?writer <http://schema.org/name> ?writername .\n",
    "    ?book <http://schema.org/name> ?bookname .\n",
    "    ?citizen <http://schema.org/name> ?citizenname .\n",
    "    FILTER regex(?awardname, \"nobel\", \"i\") \n",
    "    \n",
    "} \n",
    "\n",
    "\"\"\"\n",
    "print(\"Results\")\n",
    "run_query(queryString)"
   ]
  },
  {
   "cell_type": "code",
   "execution_count": 75,
   "id": "6a41a74d-4143-43ee-956b-170db5331018",
   "metadata": {},
   "outputs": [
    {
     "name": "stdout",
     "output_type": "stream",
     "text": [
      "Results\n",
      "[('countbook', '102')]\n"
     ]
    },
    {
     "data": {
      "text/plain": [
       "1"
      ]
     },
     "execution_count": 75,
     "metadata": {},
     "output_type": "execute_result"
    }
   ],
   "source": [
    "# How many Literature Nobel awards won authors from the Kingdom of Italy? \n",
    "queryString = \"\"\"\n",
    "SELECT (COUNT (DISTINCT ?book) AS ?countbook)\n",
    "WHERE { \n",
    "    ?writer wdt:P27 wd:Q172579 .\n",
    "    ?writer wdt:P106 wd:Q36180 .\n",
    "    ?writer wdt:P27 ?citizen .\n",
    "    ?book wdt:P50 ?writer .\n",
    "    ?writer wdt:P166 ?award .\n",
    "\n",
    "    #labels\n",
    "    ?award <http://schema.org/name> ?awardname .\n",
    "    ?writer <http://schema.org/name> ?writername .\n",
    "    ?book <http://schema.org/name> ?bookname .\n",
    "    ?citizen <http://schema.org/name> ?citizenname .\n",
    "    FILTER regex(?awardname, \"nobel\", \"i\") \n",
    "    \n",
    "} \n",
    "\n",
    "\"\"\"\n",
    "print(\"Results\")\n",
    "run_query(queryString)"
   ]
  },
  {
   "cell_type": "markdown",
   "id": "1ef5fe28-6155-4e79-b05e-7d17f0813c32",
   "metadata": {},
   "source": [
    "## Are there books from Litarature Nobel Award winners which are not present in the Vatican Library? (if so, who is the author with more books not in the Vatical Library)?"
   ]
  },
  {
   "cell_type": "code",
   "execution_count": 76,
   "id": "ba64c75e-660a-4eb1-9249-75d13248c60e",
   "metadata": {},
   "outputs": [
    {
     "name": "stdout",
     "output_type": "stream",
     "text": [
      "Results\n",
      "[('bookname', 'Corpse for Sale'), ('book', 'http://www.wikidata.org/entity/Q5172601'), ('writername', 'Dario Fo'), ('awardname', 'Nobel Prize in Literature')]\n",
      "[('bookname', 'Mistero Buffo'), ('book', 'http://www.wikidata.org/entity/Q1246586'), ('writername', 'Dario Fo'), ('awardname', 'Nobel Prize in Literature')]\n",
      "[('bookname', 'The Open Couple'), ('book', 'http://www.wikidata.org/entity/Q1528183'), ('writername', 'Dario Fo'), ('awardname', 'Nobel Prize in Literature')]\n",
      "[('bookname', \"Archangels Don't Play Pinball\"), ('book', 'http://www.wikidata.org/entity/Q3772074'), ('writername', 'Dario Fo'), ('awardname', 'Nobel Prize in Literature')]\n",
      "[('bookname', 'Mamma Togni'), ('book', 'http://www.wikidata.org/entity/Q6745735'), ('writername', 'Dario Fo'), ('awardname', 'Nobel Prize in Literature')]\n",
      "[('bookname', 'Johan Padan and the Discovery of the Americas'), ('book', 'http://www.wikidata.org/entity/Q3180437'), ('writername', 'Dario Fo'), ('awardname', 'Nobel Prize in Literature')]\n",
      "[('bookname', 'Elizabeth: Almost by Chance a Woman'), ('book', 'http://www.wikidata.org/entity/Q5362235'), ('writername', 'Dario Fo'), ('awardname', 'Nobel Prize in Literature')]\n",
      "[('bookname', 'The Tale of a Tiger'), ('book', 'http://www.wikidata.org/entity/Q16239938'), ('writername', 'Dario Fo'), ('awardname', 'Nobel Prize in Literature')]\n",
      "[('bookname', 'Abducting Francesca'), ('book', 'http://www.wikidata.org/entity/Q28670120'), ('writername', 'Dario Fo'), ('awardname', 'Nobel Prize in Literature')]\n",
      "[('bookname', 'He Had Two Pistols with White and Black Eyes'), ('book', 'http://www.wikidata.org/entity/Q3631052'), ('writername', 'Dario Fo'), ('awardname', 'Nobel Prize in Literature')]\n"
     ]
    },
    {
     "data": {
      "text/plain": [
       "10"
      ]
     },
     "execution_count": 76,
     "metadata": {},
     "output_type": "execute_result"
    }
   ],
   "source": [
    "# How many Literature Nobel awards won authors from Italy and from the Kingdom of Italy? \n",
    "### the award is literary #^\n",
    "queryString = \"\"\"\n",
    "SELECT DISTINCT ?bookname ?book ?writername ?awardname\n",
    "WHERE { \n",
    "    {?writer wdt:P27 wd:Q38 }\n",
    "    UNION { ?writer wdt:P27 wd:Q172579 } \n",
    "    ?writer wdt:P106 wd:Q36180 .\n",
    "    ?writer wdt:P27 ?citizen .\n",
    "    ?book wdt:P50 ?writer .\n",
    "    ?writer wdt:P166 ?award .\n",
    "    ?book wdt:P50 ?writer .\n",
    "    ?award wdt:P31 wd:Q378427 .\n",
    "    #### this is a Literary award\n",
    "    #labels\n",
    "    ?award <http://schema.org/name> ?awardname .\n",
    "    ?writer <http://schema.org/name> ?writername .\n",
    "    ?book <http://schema.org/name> ?bookname .\n",
    "    #?citizen <http://schema.org/name> ?citizenname .\n",
    "    FILTER regex(?awardname, \"nobel\", \"i\") \n",
    "    \n",
    "} \n",
    "LIMIT 10\n",
    "\n",
    "\"\"\"\n",
    "print(\"Results\")\n",
    "run_query(queryString)"
   ]
  },
  {
   "cell_type": "code",
   "execution_count": 77,
   "id": "669795aa-8ec0-4332-9582-57174afc7fa9",
   "metadata": {},
   "outputs": [
    {
     "name": "stdout",
     "output_type": "stream",
     "text": [
      "Results\n",
      "[('s', 'http://www.wikidata.org/prop/direct/P463'), ('sname', 'member of'), ('p', 'http://www.wikidata.org/entity/Q3487972'), ('pname', 'Société de l’histoire de France')]\n",
      "[('s', 'http://www.wikidata.org/prop/direct/P131'), ('sname', 'located in the administrative territorial entity'), ('p', 'http://www.wikidata.org/entity/Q237'), ('pname', 'Vatican City')]\n",
      "[('s', 'http://www.wikidata.org/prop/direct/P17'), ('sname', 'country'), ('p', 'http://www.wikidata.org/entity/Q237'), ('pname', 'Vatican City')]\n",
      "[('s', 'http://www.wikidata.org/prop/direct/P1343'), ('sname', 'described by source'), ('p', 'http://www.wikidata.org/entity/Q602358'), ('pname', 'Brockhaus and Efron Encyclopedic Dictionary')]\n",
      "[('s', 'http://www.wikidata.org/prop/direct/P31'), ('sname', 'instance of'), ('p', 'http://www.wikidata.org/entity/Q22806'), ('pname', 'national library')]\n",
      "[('s', 'http://www.wikidata.org/prop/direct/P463'), ('sname', 'member of'), ('p', 'http://www.wikidata.org/entity/Q35677307'), ('pname', 'IIIF Consortium')]\n",
      "[('s', 'http://www.wikidata.org/prop/direct/P2388'), ('sname', 'office held by head of the organization'), ('p', 'http://www.wikidata.org/entity/Q19823475'), ('pname', 'prefect of the Vatican Library')]\n",
      "[('s', 'http://www.wikidata.org/prop/direct/P463'), ('sname', 'member of'), ('p', 'http://www.wikidata.org/entity/Q1255790'), ('pname', 'Conference of European National Librarians')]\n",
      "[('s', 'http://www.wikidata.org/prop/direct/P910'), ('sname', \"topic's main category\"), ('p', 'http://www.wikidata.org/entity/Q8229359'), ('pname', 'Category:Vatican Library')]\n",
      "[('s', 'http://www.wikidata.org/prop/direct/P1687'), ('sname', 'Wikidata property'), ('p', 'http://www.wikidata.org/entity/P1017'), ('pname', 'Vatican Library ID (former scheme)')]\n",
      "[('s', 'http://www.wikidata.org/prop/direct/P1037'), ('sname', 'director / manager'), ('p', 'http://www.wikidata.org/entity/Q4459693'), ('pname', 'José Tolentino de Mendonça')]\n"
     ]
    },
    {
     "data": {
      "text/plain": [
       "11"
      ]
     },
     "execution_count": 77,
     "metadata": {},
     "output_type": "execute_result"
    }
   ],
   "source": [
    "# `wd:Q213678` Vatican Library    \n",
    "queryString = \"\"\"\n",
    "SELECT ?s ?sname ?p ?pname\n",
    "WHERE { \n",
    "    wd:Q213678 ?s ?p .\n",
    "    #labels\n",
    "    ?s <http://schema.org/name> ?sname .\n",
    "    ?p <http://schema.org/name> ?pname .\n",
    "} \n",
    "LIMIT 50\n",
    "\"\"\"\n",
    "print(\"Results\")\n",
    "run_query(queryString)"
   ]
  },
  {
   "cell_type": "code",
   "execution_count": 78,
   "id": "9a85a56d-d7e9-42af-835c-b0d826e07700",
   "metadata": {},
   "outputs": [
    {
     "name": "stdout",
     "output_type": "stream",
     "text": [
      "Results\n",
      "[('s', 'http://www.wikidata.org/entity/Q19823475'), ('sname', 'prefect of the Vatican Library'), ('p', 'http://www.wikidata.org/prop/direct/P2389'), ('pname', 'organization directed by the office or position')]\n",
      "[('s', 'http://www.wikidata.org/entity/Q2754987'), ('sname', 'Leopoldo Cicognara'), ('p', 'http://www.wikidata.org/prop/direct/P9419'), ('pname', 'personal library at')]\n",
      "[('s', 'http://www.wikidata.org/entity/Q711620'), ('sname', 'Stefano Evodio Assemani'), ('p', 'http://www.wikidata.org/prop/direct/P108'), ('pname', 'employer')]\n",
      "[('s', 'http://www.wikidata.org/entity/Q3606806'), ('sname', 'Agostino Paravicini Bagliani'), ('p', 'http://www.wikidata.org/prop/direct/P108'), ('pname', 'employer')]\n",
      "[('s', 'http://www.wikidata.org/entity/Q1230408'), ('sname', 'Gugliemo Sirleto'), ('p', 'http://www.wikidata.org/prop/direct/P108'), ('pname', 'employer')]\n",
      "[('s', 'http://www.wikidata.org/entity/Q21545450'), ('sname', 'Pietro Matranga'), ('p', 'http://www.wikidata.org/prop/direct/P108'), ('pname', 'employer')]\n",
      "[('s', 'http://www.wikidata.org/entity/Q105478445'), ('sname', 'Massimo Ceresa'), ('p', 'http://www.wikidata.org/prop/direct/P108'), ('pname', 'employer')]\n",
      "[('s', 'http://www.wikidata.org/entity/Q26972432'), ('sname', 'Osvaldo Raineri'), ('p', 'http://www.wikidata.org/prop/direct/P108'), ('pname', 'employer')]\n",
      "[('s', 'http://www.wikidata.org/entity/Q554853'), ('sname', 'Giuseppe Simone Assemani'), ('p', 'http://www.wikidata.org/prop/direct/P108'), ('pname', 'employer')]\n",
      "[('s', 'http://www.wikidata.org/entity/Q3802491'), ('sname', 'Isidoro Carini'), ('p', 'http://www.wikidata.org/prop/direct/P108'), ('pname', 'employer')]\n",
      "[('s', 'http://www.wikidata.org/entity/Q536191'), ('sname', 'Angelo Mercati'), ('p', 'http://www.wikidata.org/prop/direct/P108'), ('pname', 'employer')]\n",
      "[('s', 'http://www.wikidata.org/entity/Q106375119'), ('sname', 'Antonio Sacco'), ('p', 'http://www.wikidata.org/prop/direct/P108'), ('pname', 'employer')]\n",
      "[('s', 'http://www.wikidata.org/entity/Q28045402'), ('sname', 'Barbara Jatta'), ('p', 'http://www.wikidata.org/prop/direct/P108'), ('pname', 'employer')]\n",
      "[('s', 'http://www.wikidata.org/entity/Q3792221'), ('sname', 'Igino Giordani'), ('p', 'http://www.wikidata.org/prop/direct/P108'), ('pname', 'employer')]\n",
      "[('s', 'http://www.wikidata.org/entity/Q93234134'), ('sname', 'Giancarlo Alteri'), ('p', 'http://www.wikidata.org/prop/direct/P108'), ('pname', 'employer')]\n",
      "[('s', 'http://www.wikidata.org/entity/Q96272045'), ('sname', 'Raffaella Vincenti'), ('p', 'http://www.wikidata.org/prop/direct/P108'), ('pname', 'employer')]\n",
      "[('s', 'http://www.wikidata.org/entity/Q6756199'), ('sname', 'Marcel Richard'), ('p', 'http://www.wikidata.org/prop/direct/P108'), ('pname', 'employer')]\n",
      "[('s', 'http://www.wikidata.org/entity/Q21207482'), ('sname', 'Enrico Carusi'), ('p', 'http://www.wikidata.org/prop/direct/P108'), ('pname', 'employer')]\n",
      "[('s', 'http://www.wikidata.org/entity/Q4156450'), ('sname', 'Robert Devreesse'), ('p', 'http://www.wikidata.org/prop/direct/P108'), ('pname', 'employer')]\n",
      "[('s', 'http://www.wikidata.org/entity/Q104672934'), ('sname', 'Marta Grimaccia'), ('p', 'http://www.wikidata.org/prop/direct/P108'), ('pname', 'employer')]\n",
      "[('s', 'http://www.wikidata.org/entity/Q55771401'), ('sname', 'José Ruysschaert'), ('p', 'http://www.wikidata.org/prop/direct/P108'), ('pname', 'employer')]\n",
      "[('s', 'http://www.wikidata.org/entity/Q84353965'), ('sname', 'opac.vatlib.it'), ('p', 'http://www.wikidata.org/prop/direct/P127'), ('pname', 'owned by')]\n",
      "[('s', 'http://www.wikidata.org/entity/Q84353965'), ('sname', 'opac.vatlib.it'), ('p', 'http://www.wikidata.org/prop/direct/P137'), ('pname', 'operator')]\n",
      "[('s', 'http://www.wikidata.org/entity/Q61727287'), ('sname', 'Paola Manoni'), ('p', 'http://www.wikidata.org/prop/direct/P1416'), ('pname', 'affiliation')]\n",
      "[('s', 'http://www.wikidata.org/entity/Q104161636'), ('sname', 'Ángela Núñez Gaitán'), ('p', 'http://www.wikidata.org/prop/direct/P1416'), ('pname', 'affiliation')]\n",
      "[('s', 'http://www.wikidata.org/entity/Q103916575'), ('sname', 'Anna Berloco'), ('p', 'http://www.wikidata.org/prop/direct/P1416'), ('pname', 'affiliation')]\n",
      "[('s', 'http://www.wikidata.org/entity/Q106517940'), ('sname', 'The Digital Cicognara Library'), ('p', 'http://www.wikidata.org/prop/direct/P1416'), ('pname', 'affiliation')]\n",
      "[('s', 'http://www.wikidata.org/entity/Q12274931'), ('sname', 'Vatican Palimpsest'), ('p', 'http://www.wikidata.org/prop/direct/P189'), ('pname', 'location of discovery')]\n",
      "[('s', 'http://www.wikidata.org/entity/Q17174857'), ('sname', 'Bibbia di Federico da Montefeltro - BAV Urb.Lat.1&2'), ('p', 'http://www.wikidata.org/prop/direct/P195'), ('pname', 'collection')]\n",
      "[('s', 'http://www.wikidata.org/entity/Q209285'), ('sname', 'Codex Vaticanus'), ('p', 'http://www.wikidata.org/prop/direct/P195'), ('pname', 'collection')]\n",
      "[('s', 'http://www.wikidata.org/entity/Q1806588'), ('sname', 'Lasimos Krater'), ('p', 'http://www.wikidata.org/prop/direct/P195'), ('pname', 'collection')]\n",
      "[('s', 'http://www.wikidata.org/entity/Q664820'), ('sname', 'Bodmer Papyri'), ('p', 'http://www.wikidata.org/prop/direct/P195'), ('pname', 'collection')]\n",
      "[('s', 'http://www.wikidata.org/entity/Q1106341'), ('sname', 'Codex Vaticanus Graecus 64'), ('p', 'http://www.wikidata.org/prop/direct/P195'), ('pname', 'collection')]\n",
      "[('s', 'http://www.wikidata.org/entity/Q3592714'), ('sname', 'Barberini Gospels'), ('p', 'http://www.wikidata.org/prop/direct/P195'), ('pname', 'collection')]\n",
      "[('s', 'http://www.wikidata.org/entity/Q16653651'), ('sname', 'Divina Commedia de Federigo da Montefeltro - BAVaticana UrbLat365'), ('p', 'http://www.wikidata.org/prop/direct/P195'), ('pname', 'collection')]\n",
      "[('s', 'http://www.wikidata.org/entity/Q903320'), ('sname', 'Book of Dede Korkut'), ('p', 'http://www.wikidata.org/prop/direct/P195'), ('pname', 'collection')]\n",
      "[('s', 'http://www.wikidata.org/entity/Q101438843'), ('sname', 'Rossiana Library'), ('p', 'http://www.wikidata.org/prop/direct/P195'), ('pname', 'collection')]\n",
      "[('s', 'http://www.wikidata.org/entity/Q1531846'), ('sname', 'Vergilius Vaticanus'), ('p', 'http://www.wikidata.org/prop/direct/P195'), ('pname', 'collection')]\n",
      "[('s', 'http://www.wikidata.org/entity/Q1937608'), ('sname', 'Minuscule 131'), ('p', 'http://www.wikidata.org/prop/direct/P195'), ('pname', 'collection')]\n",
      "[('s', 'http://www.wikidata.org/entity/Q338714'), ('sname', 'Anjou Legendarium'), ('p', 'http://www.wikidata.org/prop/direct/P195'), ('pname', 'collection')]\n",
      "[('s', 'http://www.wikidata.org/entity/Q774565'), ('sname', 'Codex Vaticanus 354'), ('p', 'http://www.wikidata.org/prop/direct/P195'), ('pname', 'collection')]\n",
      "[('s', 'http://www.wikidata.org/entity/Q1250195'), ('sname', 'Codex Assemanius'), ('p', 'http://www.wikidata.org/prop/direct/P195'), ('pname', 'collection')]\n",
      "[('s', 'http://www.wikidata.org/entity/Q1106235'), ('sname', 'Codex Ríos'), ('p', 'http://www.wikidata.org/prop/direct/P195'), ('pname', 'collection')]\n",
      "[('s', 'http://www.wikidata.org/entity/Q785039'), ('sname', 'Joshua Roll'), ('p', 'http://www.wikidata.org/prop/direct/P195'), ('pname', 'collection')]\n",
      "[('s', 'http://www.wikidata.org/entity/Q33231619'), ('sname', 'breviary of  Matthias Corvin'), ('p', 'http://www.wikidata.org/prop/direct/P195'), ('pname', 'collection')]\n",
      "[('s', 'http://www.wikidata.org/entity/Q65122273'), ('sname', 'Andrew, the Apostle'), ('p', 'http://www.wikidata.org/prop/direct/P195'), ('pname', 'collection')]\n",
      "[('s', 'http://www.wikidata.org/entity/Q77463414'), ('sname', 'Apostolic Library Regina 1682'), ('p', 'http://www.wikidata.org/prop/direct/P195'), ('pname', 'collection')]\n",
      "[('s', 'http://www.wikidata.org/entity/Q77463433'), ('sname', 'Apostolic Library Reg. 1323'), ('p', 'http://www.wikidata.org/prop/direct/P195'), ('pname', 'collection')]\n",
      "[('s', 'http://www.wikidata.org/entity/Q55831099'), ('sname', 'Codex vaticanus latinus 3199'), ('p', 'http://www.wikidata.org/prop/direct/P195'), ('pname', 'collection')]\n",
      "[('s', 'http://www.wikidata.org/entity/Q3460976'), ('sname', 'Gregorian Sacramentary'), ('p', 'http://www.wikidata.org/prop/direct/P195'), ('pname', 'collection')]\n"
     ]
    },
    {
     "data": {
      "text/plain": [
       "50"
      ]
     },
     "execution_count": 78,
     "metadata": {},
     "output_type": "execute_result"
    }
   ],
   "source": [
    "# `wd:Q213678`\n",
    "queryString = \"\"\"\n",
    "SELECT ?s ?sname ?p ?pname\n",
    "WHERE { \n",
    "    ?s ?p wd:Q213678 .\n",
    "    #labels\n",
    "    ?s <http://schema.org/name> ?sname .\n",
    "    ?p <http://schema.org/name> ?pname .\n",
    "    \n",
    "} \n",
    "LIMIT 50\n",
    "\"\"\"\n",
    "print(\"Results\")\n",
    "run_query(queryString)"
   ]
  },
  {
   "cell_type": "code",
   "execution_count": 79,
   "id": "18d2fa01-37c7-4814-a326-9c67544f956d",
   "metadata": {},
   "outputs": [
    {
     "name": "stdout",
     "output_type": "stream",
     "text": [
      "Results\n",
      "[('s', 'http://www.wikidata.org/entity/Q17174857'), ('sname', 'Bibbia di Federico da Montefeltro - BAV Urb.Lat.1&2'), ('p', 'http://www.wikidata.org/prop/direct/P195'), ('pname', 'collection')]\n",
      "[('s', 'http://www.wikidata.org/entity/Q209285'), ('sname', 'Codex Vaticanus'), ('p', 'http://www.wikidata.org/prop/direct/P195'), ('pname', 'collection')]\n",
      "[('s', 'http://www.wikidata.org/entity/Q1806588'), ('sname', 'Lasimos Krater'), ('p', 'http://www.wikidata.org/prop/direct/P195'), ('pname', 'collection')]\n",
      "[('s', 'http://www.wikidata.org/entity/Q664820'), ('sname', 'Bodmer Papyri'), ('p', 'http://www.wikidata.org/prop/direct/P195'), ('pname', 'collection')]\n",
      "[('s', 'http://www.wikidata.org/entity/Q1106341'), ('sname', 'Codex Vaticanus Graecus 64'), ('p', 'http://www.wikidata.org/prop/direct/P195'), ('pname', 'collection')]\n",
      "[('s', 'http://www.wikidata.org/entity/Q3592714'), ('sname', 'Barberini Gospels'), ('p', 'http://www.wikidata.org/prop/direct/P195'), ('pname', 'collection')]\n",
      "[('s', 'http://www.wikidata.org/entity/Q16653651'), ('sname', 'Divina Commedia de Federigo da Montefeltro - BAVaticana UrbLat365'), ('p', 'http://www.wikidata.org/prop/direct/P195'), ('pname', 'collection')]\n",
      "[('s', 'http://www.wikidata.org/entity/Q903320'), ('sname', 'Book of Dede Korkut'), ('p', 'http://www.wikidata.org/prop/direct/P195'), ('pname', 'collection')]\n",
      "[('s', 'http://www.wikidata.org/entity/Q101438843'), ('sname', 'Rossiana Library'), ('p', 'http://www.wikidata.org/prop/direct/P195'), ('pname', 'collection')]\n",
      "[('s', 'http://www.wikidata.org/entity/Q1531846'), ('sname', 'Vergilius Vaticanus'), ('p', 'http://www.wikidata.org/prop/direct/P195'), ('pname', 'collection')]\n",
      "[('s', 'http://www.wikidata.org/entity/Q1937608'), ('sname', 'Minuscule 131'), ('p', 'http://www.wikidata.org/prop/direct/P195'), ('pname', 'collection')]\n",
      "[('s', 'http://www.wikidata.org/entity/Q338714'), ('sname', 'Anjou Legendarium'), ('p', 'http://www.wikidata.org/prop/direct/P195'), ('pname', 'collection')]\n",
      "[('s', 'http://www.wikidata.org/entity/Q774565'), ('sname', 'Codex Vaticanus 354'), ('p', 'http://www.wikidata.org/prop/direct/P195'), ('pname', 'collection')]\n",
      "[('s', 'http://www.wikidata.org/entity/Q1250195'), ('sname', 'Codex Assemanius'), ('p', 'http://www.wikidata.org/prop/direct/P195'), ('pname', 'collection')]\n",
      "[('s', 'http://www.wikidata.org/entity/Q1106235'), ('sname', 'Codex Ríos'), ('p', 'http://www.wikidata.org/prop/direct/P195'), ('pname', 'collection')]\n",
      "[('s', 'http://www.wikidata.org/entity/Q785039'), ('sname', 'Joshua Roll'), ('p', 'http://www.wikidata.org/prop/direct/P195'), ('pname', 'collection')]\n",
      "[('s', 'http://www.wikidata.org/entity/Q33231619'), ('sname', 'breviary of  Matthias Corvin'), ('p', 'http://www.wikidata.org/prop/direct/P195'), ('pname', 'collection')]\n",
      "[('s', 'http://www.wikidata.org/entity/Q65122273'), ('sname', 'Andrew, the Apostle'), ('p', 'http://www.wikidata.org/prop/direct/P195'), ('pname', 'collection')]\n",
      "[('s', 'http://www.wikidata.org/entity/Q77463414'), ('sname', 'Apostolic Library Regina 1682'), ('p', 'http://www.wikidata.org/prop/direct/P195'), ('pname', 'collection')]\n",
      "[('s', 'http://www.wikidata.org/entity/Q77463433'), ('sname', 'Apostolic Library Reg. 1323'), ('p', 'http://www.wikidata.org/prop/direct/P195'), ('pname', 'collection')]\n",
      "[('s', 'http://www.wikidata.org/entity/Q55831099'), ('sname', 'Codex vaticanus latinus 3199'), ('p', 'http://www.wikidata.org/prop/direct/P195'), ('pname', 'collection')]\n",
      "[('s', 'http://www.wikidata.org/entity/Q3460976'), ('sname', 'Gregorian Sacramentary'), ('p', 'http://www.wikidata.org/prop/direct/P195'), ('pname', 'collection')]\n",
      "[('s', 'http://www.wikidata.org/entity/Q16939517'), ('sname', 'Codex Parisino-petropolitanus'), ('p', 'http://www.wikidata.org/prop/direct/P195'), ('pname', 'collection')]\n",
      "[('s', 'http://www.wikidata.org/entity/Q744655'), ('sname', 'Chigi codex'), ('p', 'http://www.wikidata.org/prop/direct/P195'), ('pname', 'collection')]\n",
      "[('s', 'http://www.wikidata.org/entity/Q5140259'), ('sname', 'Codex Vaticanus Latinus 3868'), ('p', 'http://www.wikidata.org/prop/direct/P195'), ('pname', 'collection')]\n",
      "[('s', 'http://www.wikidata.org/entity/Q1285827'), ('sname', 'Liber Censuum'), ('p', 'http://www.wikidata.org/prop/direct/P195'), ('pname', 'collection')]\n",
      "[('s', 'http://www.wikidata.org/entity/Q1106357'), ('sname', 'Codex Vaticanus 2061'), ('p', 'http://www.wikidata.org/prop/direct/P195'), ('pname', 'collection')]\n",
      "[('s', 'http://www.wikidata.org/entity/Q108548100'), ('sname', 'Church Slavonic vita of Saint Wenceslaus'), ('p', 'http://www.wikidata.org/prop/direct/P195'), ('pname', 'collection')]\n",
      "[('s', 'http://www.wikidata.org/entity/Q251409'), ('sname', 'Codex Petropolitanus Purpureus'), ('p', 'http://www.wikidata.org/prop/direct/P195'), ('pname', 'collection')]\n",
      "[('s', 'http://www.wikidata.org/entity/Q916549'), ('sname', 'Indiculus superstitionum et paganiarum'), ('p', 'http://www.wikidata.org/prop/direct/P195'), ('pname', 'collection')]\n",
      "[('s', 'http://www.wikidata.org/entity/Q1798543'), ('sname', 'Uncial 054'), ('p', 'http://www.wikidata.org/prop/direct/P195'), ('pname', 'collection')]\n",
      "[('s', 'http://www.wikidata.org/entity/Q6512274'), ('sname', 'Lectionary 36'), ('p', 'http://www.wikidata.org/prop/direct/P195'), ('pname', 'collection')]\n",
      "[('s', 'http://www.wikidata.org/entity/Q3561145'), ('sname', 'Vita Mathildis'), ('p', 'http://www.wikidata.org/prop/direct/P195'), ('pname', 'collection')]\n",
      "[('s', 'http://www.wikidata.org/entity/Q663118'), ('sname', 'Bible of San Paolo fuori le Mura'), ('p', 'http://www.wikidata.org/prop/direct/P195'), ('pname', 'collection')]\n",
      "[('s', 'http://www.wikidata.org/entity/Q2758161'), ('sname', 'Gelasian Sacramentary'), ('p', 'http://www.wikidata.org/prop/direct/P195'), ('pname', 'collection')]\n",
      "[('s', 'http://www.wikidata.org/entity/Q15841047'), ('sname', 'Prochiron legum'), ('p', 'http://www.wikidata.org/prop/direct/P195'), ('pname', 'collection')]\n",
      "[('s', 'http://www.wikidata.org/entity/Q218974'), ('sname', 'Codex Aureus of Lorsch'), ('p', 'http://www.wikidata.org/prop/direct/P195'), ('pname', 'collection')]\n",
      "[('s', 'http://www.wikidata.org/entity/Q1918574'), ('sname', 'Menologion of Basil II'), ('p', 'http://www.wikidata.org/prop/direct/P195'), ('pname', 'collection')]\n",
      "[('s', 'http://www.wikidata.org/entity/Q77464627'), ('sname', 'Cod. Palat. lat. 1074'), ('p', 'http://www.wikidata.org/prop/direct/P195'), ('pname', 'collection')]\n",
      "[('s', 'http://www.wikidata.org/entity/Q1258536'), ('sname', 'Codex Urbinas'), ('p', 'http://www.wikidata.org/prop/direct/P195'), ('pname', 'collection')]\n",
      "[('s', 'http://www.wikidata.org/entity/Q105962278'), ('sname', 'Dante Urbinate 365'), ('p', 'http://www.wikidata.org/prop/direct/P195'), ('pname', 'collection')]\n",
      "[('s', 'http://www.wikidata.org/entity/Q1180580'), ('sname', 'De arte venandi cum avibus'), ('p', 'http://www.wikidata.org/prop/direct/P195'), ('pname', 'collection')]\n",
      "[('s', 'http://www.wikidata.org/entity/Q956156'), ('sname', 'Lorsch Bee Blessing'), ('p', 'http://www.wikidata.org/prop/direct/P195'), ('pname', 'collection')]\n",
      "[('s', 'http://www.wikidata.org/entity/Q673569'), ('sname', 'Papyrus 72'), ('p', 'http://www.wikidata.org/prop/direct/P195'), ('pname', 'collection')]\n",
      "[('s', 'http://www.wikidata.org/entity/Q12274931'), ('sname', 'Vatican Palimpsest'), ('p', 'http://www.wikidata.org/prop/direct/P195'), ('pname', 'collection')]\n",
      "[('s', 'http://www.wikidata.org/entity/Q77464743'), ('sname', 'Apostolic Library Reg. 258'), ('p', 'http://www.wikidata.org/prop/direct/P195'), ('pname', 'collection')]\n",
      "[('s', 'http://www.wikidata.org/entity/Q28154661'), ('sname', 'The Homilies of James of Kokkinobaphos'), ('p', 'http://www.wikidata.org/prop/direct/P195'), ('pname', 'collection')]\n",
      "[('s', 'http://www.wikidata.org/entity/Q1969916'), ('sname', 'Vergilius Romanus'), ('p', 'http://www.wikidata.org/prop/direct/P195'), ('pname', 'collection')]\n",
      "[('s', 'http://www.wikidata.org/entity/Q1809813'), ('sname', 'Papyrus 75'), ('p', 'http://www.wikidata.org/prop/direct/P195'), ('pname', 'collection')]\n",
      "[('s', 'http://www.wikidata.org/entity/Q590984'), ('sname', 'Codex Borgianus'), ('p', 'http://www.wikidata.org/prop/direct/P195'), ('pname', 'collection')]\n"
     ]
    },
    {
     "data": {
      "text/plain": [
       "50"
      ]
     },
     "execution_count": 79,
     "metadata": {},
     "output_type": "execute_result"
    }
   ],
   "source": [
    "# `wd:Q213678`\n",
    "queryString = \"\"\"\n",
    "SELECT ?s ?sname ?p ?pname\n",
    "WHERE { \n",
    "    ?s ?p wd:Q213678 .\n",
    "    #labels\n",
    "    ?s <http://schema.org/name> ?sname .\n",
    "    ?p <http://schema.org/name> ?pname .\n",
    "    FILTER regex(?pname, \"collection\", \"i\") \n",
    "    \n",
    "} \n",
    "LIMIT 50\n",
    "\"\"\"\n",
    "print(\"Results\")\n",
    "run_query(queryString)"
   ]
  },
  {
   "cell_type": "code",
   "execution_count": 80,
   "id": "32074265-4cfc-4c48-b22b-3246ed40ec39",
   "metadata": {},
   "outputs": [
    {
     "name": "stdout",
     "output_type": "stream",
     "text": [
      "Results\n",
      "[('s', 'http://www.wikidata.org/entity/Q2258615'), ('sname', 'Rossi Codex')]\n",
      "[('s', 'http://www.wikidata.org/entity/Q77463433'), ('sname', 'Apostolic Library Reg. 1323')]\n",
      "[('s', 'http://www.wikidata.org/entity/Q29366989'), ('sname', 'Missale Gallicanum vetus - BAV Pal.lat.493')]\n",
      "[('s', 'http://www.wikidata.org/entity/Q1250195'), ('sname', 'Codex Assemanius')]\n",
      "[('s', 'http://www.wikidata.org/entity/Q1180580'), ('sname', 'De arte venandi cum avibus')]\n",
      "[('s', 'http://www.wikidata.org/entity/Q744655'), ('sname', 'Chigi codex')]\n",
      "[('s', 'http://www.wikidata.org/entity/Q101438843'), ('sname', 'Rossiana Library')]\n",
      "[('s', 'http://www.wikidata.org/entity/Q3656584'), ('sname', 'Canzoniere Vaticano latino 3793')]\n",
      "[('s', 'http://www.wikidata.org/entity/Q16912485'), ('sname', 'Divine Comedy Illustrated by Botticelli')]\n",
      "[('s', 'http://www.wikidata.org/entity/Q12274931'), ('sname', 'Vatican Palimpsest')]\n"
     ]
    },
    {
     "data": {
      "text/plain": [
       "10"
      ]
     },
     "execution_count": 80,
     "metadata": {},
     "output_type": "execute_result"
    }
   ],
   "source": [
    "# `wd:Q213678`\n",
    "queryString = \"\"\"\n",
    "SELECT DISTINCT ?s ?sname\n",
    "WHERE { \n",
    "    ?s wdt:P276 wd:Q213678 .\n",
    "    #labels\n",
    "    ?s <http://schema.org/name> ?sname .\n",
    "    ?p <http://schema.org/name> ?pname .\n",
    "} \n",
    "LIMIT 10\n",
    "\"\"\"\n",
    "print(\"Results\")\n",
    "run_query(queryString)"
   ]
  },
  {
   "cell_type": "code",
   "execution_count": 81,
   "id": "e3ea4b1a-809b-4072-af47-c26817edd8c8",
   "metadata": {},
   "outputs": [
    {
     "name": "stdout",
     "output_type": "stream",
     "text": [
      "Results\n",
      "[('sname', 'Valery Larbaud'), ('p', 'http://www.wikidata.org/prop/direct/P1411'), ('pname', 'nominated for')]\n",
      "[('sname', 'Adrien Albert Marie de Mun'), ('p', 'http://www.wikidata.org/prop/direct/P1411'), ('pname', 'nominated for')]\n",
      "[('sname', 'Alan Sillitoe'), ('p', 'http://www.wikidata.org/prop/direct/P1411'), ('pname', 'nominated for')]\n",
      "[('sname', 'Pierre Emmanuel'), ('p', 'http://www.wikidata.org/prop/direct/P1411'), ('pname', 'nominated for')]\n",
      "[('sname', 'Ramón Pérez de Ayala'), ('p', 'http://www.wikidata.org/prop/direct/P1411'), ('pname', 'nominated for')]\n",
      "[('sname', 'Franz Theodor Csokor'), ('p', 'http://www.wikidata.org/prop/direct/P1411'), ('pname', 'nominated for')]\n",
      "[('sname', 'Rudolf Alexander Schröder'), ('p', 'http://www.wikidata.org/prop/direct/P1411'), ('pname', 'nominated for')]\n",
      "[('sname', 'Giorgos Theotokás'), ('p', 'http://www.wikidata.org/prop/direct/P1411'), ('pname', 'nominated for')]\n",
      "[('sname', 'Johannes V. Jensen'), ('p', 'http://www.wikidata.org/prop/direct/P1411'), ('pname', 'nominated for')]\n",
      "[('sname', 'Johannes Jørgensen'), ('p', 'http://www.wikidata.org/prop/direct/P1411'), ('pname', 'nominated for')]\n"
     ]
    },
    {
     "data": {
      "text/plain": [
       "10"
      ]
     },
     "execution_count": 81,
     "metadata": {},
     "output_type": "execute_result"
    }
   ],
   "source": [
    "# `wd:Q37922`\n",
    "queryString = \"\"\"\n",
    "SELECT DISTINCT ?sname ?p ?pname\n",
    "WHERE { \n",
    "    ?s ?p wd:Q37922 .\n",
    "    #labels\n",
    "    ?s <http://schema.org/name> ?sname .\n",
    "    ?p <http://schema.org/name> ?pname .\n",
    "} \n",
    "LIMIT 10\n",
    "\"\"\"\n",
    "print(\"Results\")\n",
    "run_query(queryString)"
   ]
  },
  {
   "cell_type": "code",
   "execution_count": 82,
   "id": "d2697597-2fa9-4dd4-ab7e-3d6205762226",
   "metadata": {},
   "outputs": [
    {
     "name": "stdout",
     "output_type": "stream",
     "text": [
      "Results\n",
      "[('s', 'http://www.wikidata.org/prop/direct/P1346'), ('sname', 'winner'), ('p', 'http://www.wikidata.org/entity/Q159552'), ('pname', 'Johannes V. Jensen')]\n",
      "[('s', 'http://www.wikidata.org/prop/direct/P1346'), ('sname', 'winner'), ('p', 'http://www.wikidata.org/entity/Q254032'), ('pname', 'Olga Tokarczuk')]\n",
      "[('s', 'http://www.wikidata.org/prop/direct/P1027'), ('sname', 'conferred by'), ('p', 'http://www.wikidata.org/entity/Q207360'), ('pname', 'Swedish Academy')]\n",
      "[('s', 'http://www.wikidata.org/prop/direct/P138'), ('sname', 'named after'), ('p', 'http://www.wikidata.org/entity/Q23810'), ('pname', 'Alfred Nobel')]\n",
      "[('s', 'http://www.wikidata.org/prop/direct/P279'), ('sname', 'subclass of'), ('p', 'http://www.wikidata.org/entity/Q7191'), ('pname', 'Nobel Prize')]\n",
      "[('s', 'http://www.wikidata.org/prop/direct/P361'), ('sname', 'part of'), ('p', 'http://www.wikidata.org/entity/Q7191'), ('pname', 'Nobel Prize')]\n",
      "[('s', 'http://www.wikidata.org/prop/direct/P1346'), ('sname', 'winner'), ('p', 'http://www.wikidata.org/entity/Q7241'), ('pname', 'Rabindranath Tagore')]\n",
      "[('s', 'http://www.wikidata.org/prop/direct/P1346'), ('sname', 'winner'), ('p', 'http://www.wikidata.org/entity/Q392'), ('pname', 'Bob Dylan')]\n",
      "[('s', 'http://www.wikidata.org/prop/direct/P1346'), ('sname', 'winner'), ('p', 'http://www.wikidata.org/entity/Q44593'), ('pname', 'V. S. Naipaul')]\n",
      "[('s', 'http://www.wikidata.org/prop/direct/P1346'), ('sname', 'winner'), ('p', 'http://www.wikidata.org/entity/Q121180'), ('pname', 'Władysław Reymont')]\n"
     ]
    },
    {
     "data": {
      "text/plain": [
       "10"
      ]
     },
     "execution_count": 82,
     "metadata": {},
     "output_type": "execute_result"
    }
   ],
   "source": [
    "# `wd:Q37922`\n",
    "queryString = \"\"\"\n",
    "SELECT DISTINCT ?s ?sname ?p ?pname\n",
    "WHERE { \n",
    "    wd:Q37922 ?s ?p .\n",
    "    #labels\n",
    "    ?s <http://schema.org/name> ?sname .\n",
    "    ?p <http://schema.org/name> ?pname .\n",
    "} \n",
    "LIMIT 10\n",
    "\"\"\"\n",
    "print(\"Results\")\n",
    "run_query(queryString)"
   ]
  },
  {
   "cell_type": "code",
   "execution_count": 83,
   "id": "ce4c8c72-393c-4591-9203-f4f78a4c195a",
   "metadata": {},
   "outputs": [
    {
     "name": "stdout",
     "output_type": "stream",
     "text": [
      "Results\n",
      "[('s', 'http://www.wikidata.org/entity/Q17174857'), ('sname', 'Bibbia di Federico da Montefeltro - BAV Urb.Lat.1&2'), ('p', 'http://www.wikidata.org/prop/direct/P195'), ('pname', 'collection')]\n",
      "[('s', 'http://www.wikidata.org/entity/Q209285'), ('sname', 'Codex Vaticanus'), ('p', 'http://www.wikidata.org/prop/direct/P195'), ('pname', 'collection')]\n",
      "[('s', 'http://www.wikidata.org/entity/Q1806588'), ('sname', 'Lasimos Krater'), ('p', 'http://www.wikidata.org/prop/direct/P195'), ('pname', 'collection')]\n",
      "[('s', 'http://www.wikidata.org/entity/Q664820'), ('sname', 'Bodmer Papyri'), ('p', 'http://www.wikidata.org/prop/direct/P195'), ('pname', 'collection')]\n",
      "[('s', 'http://www.wikidata.org/entity/Q1106341'), ('sname', 'Codex Vaticanus Graecus 64'), ('p', 'http://www.wikidata.org/prop/direct/P195'), ('pname', 'collection')]\n",
      "[('s', 'http://www.wikidata.org/entity/Q3592714'), ('sname', 'Barberini Gospels'), ('p', 'http://www.wikidata.org/prop/direct/P195'), ('pname', 'collection')]\n",
      "[('s', 'http://www.wikidata.org/entity/Q16653651'), ('sname', 'Divina Commedia de Federigo da Montefeltro - BAVaticana UrbLat365'), ('p', 'http://www.wikidata.org/prop/direct/P195'), ('pname', 'collection')]\n",
      "[('s', 'http://www.wikidata.org/entity/Q903320'), ('sname', 'Book of Dede Korkut'), ('p', 'http://www.wikidata.org/prop/direct/P195'), ('pname', 'collection')]\n",
      "[('s', 'http://www.wikidata.org/entity/Q101438843'), ('sname', 'Rossiana Library'), ('p', 'http://www.wikidata.org/prop/direct/P195'), ('pname', 'collection')]\n",
      "[('s', 'http://www.wikidata.org/entity/Q1531846'), ('sname', 'Vergilius Vaticanus'), ('p', 'http://www.wikidata.org/prop/direct/P195'), ('pname', 'collection')]\n",
      "[('s', 'http://www.wikidata.org/entity/Q1937608'), ('sname', 'Minuscule 131'), ('p', 'http://www.wikidata.org/prop/direct/P195'), ('pname', 'collection')]\n",
      "[('s', 'http://www.wikidata.org/entity/Q338714'), ('sname', 'Anjou Legendarium'), ('p', 'http://www.wikidata.org/prop/direct/P195'), ('pname', 'collection')]\n",
      "[('s', 'http://www.wikidata.org/entity/Q774565'), ('sname', 'Codex Vaticanus 354'), ('p', 'http://www.wikidata.org/prop/direct/P195'), ('pname', 'collection')]\n",
      "[('s', 'http://www.wikidata.org/entity/Q1250195'), ('sname', 'Codex Assemanius'), ('p', 'http://www.wikidata.org/prop/direct/P195'), ('pname', 'collection')]\n",
      "[('s', 'http://www.wikidata.org/entity/Q1106235'), ('sname', 'Codex Ríos'), ('p', 'http://www.wikidata.org/prop/direct/P195'), ('pname', 'collection')]\n",
      "[('s', 'http://www.wikidata.org/entity/Q785039'), ('sname', 'Joshua Roll'), ('p', 'http://www.wikidata.org/prop/direct/P195'), ('pname', 'collection')]\n",
      "[('s', 'http://www.wikidata.org/entity/Q33231619'), ('sname', 'breviary of  Matthias Corvin'), ('p', 'http://www.wikidata.org/prop/direct/P195'), ('pname', 'collection')]\n",
      "[('s', 'http://www.wikidata.org/entity/Q65122273'), ('sname', 'Andrew, the Apostle'), ('p', 'http://www.wikidata.org/prop/direct/P195'), ('pname', 'collection')]\n",
      "[('s', 'http://www.wikidata.org/entity/Q77463414'), ('sname', 'Apostolic Library Regina 1682'), ('p', 'http://www.wikidata.org/prop/direct/P195'), ('pname', 'collection')]\n",
      "[('s', 'http://www.wikidata.org/entity/Q77463433'), ('sname', 'Apostolic Library Reg. 1323'), ('p', 'http://www.wikidata.org/prop/direct/P195'), ('pname', 'collection')]\n",
      "[('s', 'http://www.wikidata.org/entity/Q55831099'), ('sname', 'Codex vaticanus latinus 3199'), ('p', 'http://www.wikidata.org/prop/direct/P195'), ('pname', 'collection')]\n",
      "[('s', 'http://www.wikidata.org/entity/Q3460976'), ('sname', 'Gregorian Sacramentary'), ('p', 'http://www.wikidata.org/prop/direct/P195'), ('pname', 'collection')]\n",
      "[('s', 'http://www.wikidata.org/entity/Q16939517'), ('sname', 'Codex Parisino-petropolitanus'), ('p', 'http://www.wikidata.org/prop/direct/P195'), ('pname', 'collection')]\n",
      "[('s', 'http://www.wikidata.org/entity/Q744655'), ('sname', 'Chigi codex'), ('p', 'http://www.wikidata.org/prop/direct/P195'), ('pname', 'collection')]\n",
      "[('s', 'http://www.wikidata.org/entity/Q5140259'), ('sname', 'Codex Vaticanus Latinus 3868'), ('p', 'http://www.wikidata.org/prop/direct/P195'), ('pname', 'collection')]\n",
      "[('s', 'http://www.wikidata.org/entity/Q1285827'), ('sname', 'Liber Censuum'), ('p', 'http://www.wikidata.org/prop/direct/P195'), ('pname', 'collection')]\n",
      "[('s', 'http://www.wikidata.org/entity/Q1106357'), ('sname', 'Codex Vaticanus 2061'), ('p', 'http://www.wikidata.org/prop/direct/P195'), ('pname', 'collection')]\n",
      "[('s', 'http://www.wikidata.org/entity/Q108548100'), ('sname', 'Church Slavonic vita of Saint Wenceslaus'), ('p', 'http://www.wikidata.org/prop/direct/P195'), ('pname', 'collection')]\n",
      "[('s', 'http://www.wikidata.org/entity/Q251409'), ('sname', 'Codex Petropolitanus Purpureus'), ('p', 'http://www.wikidata.org/prop/direct/P195'), ('pname', 'collection')]\n",
      "[('s', 'http://www.wikidata.org/entity/Q916549'), ('sname', 'Indiculus superstitionum et paganiarum'), ('p', 'http://www.wikidata.org/prop/direct/P195'), ('pname', 'collection')]\n",
      "[('s', 'http://www.wikidata.org/entity/Q1798543'), ('sname', 'Uncial 054'), ('p', 'http://www.wikidata.org/prop/direct/P195'), ('pname', 'collection')]\n",
      "[('s', 'http://www.wikidata.org/entity/Q6512274'), ('sname', 'Lectionary 36'), ('p', 'http://www.wikidata.org/prop/direct/P195'), ('pname', 'collection')]\n",
      "[('s', 'http://www.wikidata.org/entity/Q3561145'), ('sname', 'Vita Mathildis'), ('p', 'http://www.wikidata.org/prop/direct/P195'), ('pname', 'collection')]\n",
      "[('s', 'http://www.wikidata.org/entity/Q663118'), ('sname', 'Bible of San Paolo fuori le Mura'), ('p', 'http://www.wikidata.org/prop/direct/P195'), ('pname', 'collection')]\n",
      "[('s', 'http://www.wikidata.org/entity/Q2758161'), ('sname', 'Gelasian Sacramentary'), ('p', 'http://www.wikidata.org/prop/direct/P195'), ('pname', 'collection')]\n",
      "[('s', 'http://www.wikidata.org/entity/Q15841047'), ('sname', 'Prochiron legum'), ('p', 'http://www.wikidata.org/prop/direct/P195'), ('pname', 'collection')]\n",
      "[('s', 'http://www.wikidata.org/entity/Q218974'), ('sname', 'Codex Aureus of Lorsch'), ('p', 'http://www.wikidata.org/prop/direct/P195'), ('pname', 'collection')]\n",
      "[('s', 'http://www.wikidata.org/entity/Q1918574'), ('sname', 'Menologion of Basil II'), ('p', 'http://www.wikidata.org/prop/direct/P195'), ('pname', 'collection')]\n",
      "[('s', 'http://www.wikidata.org/entity/Q77464627'), ('sname', 'Cod. Palat. lat. 1074'), ('p', 'http://www.wikidata.org/prop/direct/P195'), ('pname', 'collection')]\n",
      "[('s', 'http://www.wikidata.org/entity/Q1258536'), ('sname', 'Codex Urbinas'), ('p', 'http://www.wikidata.org/prop/direct/P195'), ('pname', 'collection')]\n",
      "[('s', 'http://www.wikidata.org/entity/Q105962278'), ('sname', 'Dante Urbinate 365'), ('p', 'http://www.wikidata.org/prop/direct/P195'), ('pname', 'collection')]\n",
      "[('s', 'http://www.wikidata.org/entity/Q1180580'), ('sname', 'De arte venandi cum avibus'), ('p', 'http://www.wikidata.org/prop/direct/P195'), ('pname', 'collection')]\n",
      "[('s', 'http://www.wikidata.org/entity/Q956156'), ('sname', 'Lorsch Bee Blessing'), ('p', 'http://www.wikidata.org/prop/direct/P195'), ('pname', 'collection')]\n",
      "[('s', 'http://www.wikidata.org/entity/Q673569'), ('sname', 'Papyrus 72'), ('p', 'http://www.wikidata.org/prop/direct/P195'), ('pname', 'collection')]\n",
      "[('s', 'http://www.wikidata.org/entity/Q12274931'), ('sname', 'Vatican Palimpsest'), ('p', 'http://www.wikidata.org/prop/direct/P195'), ('pname', 'collection')]\n",
      "[('s', 'http://www.wikidata.org/entity/Q77464743'), ('sname', 'Apostolic Library Reg. 258'), ('p', 'http://www.wikidata.org/prop/direct/P195'), ('pname', 'collection')]\n",
      "[('s', 'http://www.wikidata.org/entity/Q28154661'), ('sname', 'The Homilies of James of Kokkinobaphos'), ('p', 'http://www.wikidata.org/prop/direct/P195'), ('pname', 'collection')]\n",
      "[('s', 'http://www.wikidata.org/entity/Q1969916'), ('sname', 'Vergilius Romanus'), ('p', 'http://www.wikidata.org/prop/direct/P195'), ('pname', 'collection')]\n",
      "[('s', 'http://www.wikidata.org/entity/Q1809813'), ('sname', 'Papyrus 75'), ('p', 'http://www.wikidata.org/prop/direct/P195'), ('pname', 'collection')]\n",
      "[('s', 'http://www.wikidata.org/entity/Q590984'), ('sname', 'Codex Borgianus'), ('p', 'http://www.wikidata.org/prop/direct/P195'), ('pname', 'collection')]\n"
     ]
    },
    {
     "data": {
      "text/plain": [
       "50"
      ]
     },
     "execution_count": 83,
     "metadata": {},
     "output_type": "execute_result"
    }
   ],
   "source": [
    "# `wd:Q213678`\n",
    "queryString = \"\"\"\n",
    "SELECT ?s ?sname ?p ?pname\n",
    "WHERE { \n",
    "    ?s ?p wd:Q213678 .\n",
    "    #labels\n",
    "    ?s <http://schema.org/name> ?sname .\n",
    "    ?p <http://schema.org/name> ?pname .\n",
    "    FILTER regex(?pname, \"collection\", \"i\") \n",
    "    \n",
    "} \n",
    "LIMIT 50\n",
    "\"\"\"\n",
    "print(\"Results\")\n",
    "run_query(queryString)"
   ]
  },
  {
   "cell_type": "code",
   "execution_count": 84,
   "id": "b8a1e01e-d209-4859-9961-8e463918f170",
   "metadata": {},
   "outputs": [
    {
     "name": "stdout",
     "output_type": "stream",
     "text": [
      "Results\n",
      "[('s', 'http://www.wikidata.org/prop/direct/P170'), ('sname', 'creator'), ('p', 'http://www.wikidata.org/entity/Q16185868'), ('pname', \"Francesco d'Antonio del Chierico\")]\n",
      "[('s', 'http://www.wikidata.org/prop/direct/P195'), ('sname', 'collection'), ('p', 'http://www.wikidata.org/entity/Q213678'), ('pname', 'Vatican Library')]\n",
      "[('s', 'http://www.wikidata.org/prop/direct/P31'), ('sname', 'instance of'), ('p', 'http://www.wikidata.org/entity/Q48498'), ('pname', 'illuminated manuscript')]\n",
      "[('s', 'http://www.wikidata.org/prop/direct/P88'), ('sname', 'commissioned by'), ('p', 'http://www.wikidata.org/entity/Q435501'), ('pname', 'Federico da Montefeltro')]\n"
     ]
    },
    {
     "data": {
      "text/plain": [
       "4"
      ]
     },
     "execution_count": 84,
     "metadata": {},
     "output_type": "execute_result"
    }
   ],
   "source": [
    "#[('s', 'http://www.wikidata.org/entity/Q17174857'), \n",
    "#('sname', 'Bibbia di Federico da Montefeltro - BAV Urb.Lat.1&2'), \n",
    "#('p', 'http://www.wikidata.org/prop/direct/P195'), ('pname', 'collection')]\n",
    "queryString = \"\"\"\n",
    "SELECT ?s ?sname ?p ?pname\n",
    "WHERE { \n",
    "    wd:Q17174857 ?s ?p .\n",
    "    #labels\n",
    "    ?s <http://schema.org/name> ?sname .\n",
    "    ?p <http://schema.org/name> ?pname .\n",
    "    \n",
    "} \n",
    "LIMIT 50\n",
    "\"\"\"\n",
    "print(\"Results\")\n",
    "run_query(queryString)\n"
   ]
  },
  {
   "cell_type": "code",
   "execution_count": 85,
   "id": "f2918122-61dc-411f-8b98-27d94b5f3076",
   "metadata": {},
   "outputs": [
    {
     "name": "stdout",
     "output_type": "stream",
     "text": [
      "Results\n",
      "[('p', 'http://www.wikidata.org/entity/Q213678'), ('pname', 'Vatican Library')]\n"
     ]
    },
    {
     "data": {
      "text/plain": [
       "1"
      ]
     },
     "execution_count": 85,
     "metadata": {},
     "output_type": "execute_result"
    }
   ],
   "source": [
    "# the collection\n",
    "queryString = \"\"\"\n",
    "SELECT ?p ?pname\n",
    "WHERE { \n",
    "    wd:Q17174857 wdt:P195 ?p .\n",
    "    #labels\n",
    "    ?p <http://schema.org/name> ?pname .\n",
    "    \n",
    "} \n",
    "LIMIT 50\n",
    "\"\"\"\n",
    "print(\"Results\")\n",
    "run_query(queryString)"
   ]
  },
  {
   "cell_type": "code",
   "execution_count": 86,
   "id": "4779d63b-b2ad-4f9e-9314-35824aac8519",
   "metadata": {},
   "outputs": [
    {
     "name": "stdout",
     "output_type": "stream",
     "text": [
      "Results\n",
      "[('bookname', 'He Had Two Pistols with White and Black Eyes'), ('book', 'http://www.wikidata.org/entity/Q3631052'), ('writername', 'Dario Fo'), ('citizenname', 'Italy')]\n",
      "[('bookname', 'Mamma Togni'), ('book', 'http://www.wikidata.org/entity/Q6745735'), ('writername', 'Dario Fo'), ('citizenname', 'Italy')]\n",
      "[('bookname', 'The Devil with Boobs'), ('book', 'http://www.wikidata.org/entity/Q7730023'), ('writername', 'Dario Fo'), ('citizenname', 'Italy')]\n",
      "[('bookname', 'The Open Couple'), ('book', 'http://www.wikidata.org/entity/Q1528183'), ('writername', 'Dario Fo'), ('citizenname', 'Italy')]\n",
      "[('bookname', 'Accidental Death of an Anarchist'), ('book', 'http://www.wikidata.org/entity/Q2704227'), ('writername', 'Dario Fo'), ('citizenname', 'Italy')]\n",
      "[('bookname', 'Elizabeth: Almost by Chance a Woman'), ('book', 'http://www.wikidata.org/entity/Q5362235'), ('writername', 'Dario Fo'), ('citizenname', 'Italy')]\n",
      "[('bookname', 'Trumpets and Raspberries'), ('book', 'http://www.wikidata.org/entity/Q7847823'), ('writername', 'Dario Fo'), ('citizenname', 'Italy')]\n",
      "[('bookname', 'Corpse for Sale'), ('book', 'http://www.wikidata.org/entity/Q5172601'), ('writername', 'Dario Fo'), ('citizenname', 'Italy')]\n",
      "[('bookname', 'The Virtuous Burglar'), ('book', 'http://www.wikidata.org/entity/Q3878178'), ('writername', 'Dario Fo'), ('citizenname', 'Italy')]\n",
      "[('bookname', 'Abducting Francesca'), ('book', 'http://www.wikidata.org/entity/Q28670120'), ('writername', 'Dario Fo'), ('citizenname', 'Italy')]\n",
      "[('bookname', 'Isabella, Three Tall Ships, and a Con Man'), ('book', 'http://www.wikidata.org/entity/Q1673579'), ('writername', 'Dario Fo'), ('citizenname', 'Italy')]\n",
      "[('bookname', \"Archangels Don't Play Pinball\"), ('book', 'http://www.wikidata.org/entity/Q3772074'), ('writername', 'Dario Fo'), ('citizenname', 'Italy')]\n",
      "[('bookname', \"Can't Pay? Won't Pay!\"), ('book', 'http://www.wikidata.org/entity/Q853379'), ('writername', 'Dario Fo'), ('citizenname', 'Italy')]\n",
      "[('bookname', 'Johan Padan and the Discovery of the Americas'), ('book', 'http://www.wikidata.org/entity/Q3180437'), ('writername', 'Dario Fo'), ('citizenname', 'Italy')]\n",
      "[('bookname', 'He Who Steals a Foot is Lucky in Love'), ('book', 'http://www.wikidata.org/entity/Q3667372'), ('writername', 'Dario Fo'), ('citizenname', 'Italy')]\n",
      "[('bookname', 'Mistero Buffo'), ('book', 'http://www.wikidata.org/entity/Q1246586'), ('writername', 'Dario Fo'), ('citizenname', 'Italy')]\n",
      "[('bookname', 'The Pope and the Witch'), ('book', 'http://www.wikidata.org/entity/Q7757767'), ('writername', 'Dario Fo'), ('citizenname', 'Italy')]\n",
      "[('bookname', 'The Tale of a Tiger'), ('book', 'http://www.wikidata.org/entity/Q16239938'), ('writername', 'Dario Fo'), ('citizenname', 'Italy')]\n",
      "[('bookname', 'Canne al vento'), ('book', 'http://www.wikidata.org/entity/Q1238893'), ('writername', 'Grazia Deledda'), ('citizenname', 'Kingdom of Italy')]\n",
      "[('bookname', 'Ashes'), ('book', 'http://www.wikidata.org/entity/Q18223014'), ('writername', 'Grazia Deledda'), ('citizenname', 'Kingdom of Italy')]\n",
      "[('bookname', 'The Mother'), ('book', 'http://www.wikidata.org/entity/Q2526261'), ('writername', 'Grazia Deledda'), ('citizenname', 'Kingdom of Italy')]\n",
      "[('bookname', 'Elias Portolu'), ('book', 'http://www.wikidata.org/entity/Q2528617'), ('writername', 'Grazia Deledda'), ('citizenname', 'Kingdom of Italy')]\n",
      "[('bookname', 'Po rozwodzie'), ('book', 'http://www.wikidata.org/entity/Q105394862'), ('writername', 'Grazia Deledda'), ('citizenname', 'Kingdom of Italy')]\n",
      "[('bookname', \"L'Edera\"), ('book', 'http://www.wikidata.org/entity/Q1767659'), ('writername', 'Grazia Deledda'), ('citizenname', 'Kingdom of Italy')]\n",
      "[('bookname', 'Annalena Bilsini'), ('book', 'http://www.wikidata.org/entity/Q3617889'), ('writername', 'Grazia Deledda'), ('citizenname', 'Kingdom of Italy')]\n",
      "[('bookname', 'After the divorce'), ('book', 'http://www.wikidata.org/entity/Q4690699'), ('writername', 'Grazia Deledda'), ('citizenname', 'Kingdom of Italy')]\n",
      "[('bookname', 'After the divorce'), ('book', 'http://www.wikidata.org/entity/Q63681689'), ('writername', 'Grazia Deledda'), ('citizenname', 'Kingdom of Italy')]\n",
      "[('bookname', 'Popiół'), ('book', 'http://www.wikidata.org/entity/Q105243002'), ('writername', 'Grazia Deledda'), ('citizenname', 'Kingdom of Italy')]\n",
      "[('bookname', 'Liola'), ('book', 'http://www.wikidata.org/entity/Q3241764'), ('writername', 'Luigi Pirandello'), ('citizenname', 'Kingdom of Italy')]\n",
      "[('bookname', 'Levia Gravia'), ('book', 'http://www.wikidata.org/entity/Q19135908'), ('writername', 'Giosuè Carducci'), ('citizenname', 'Kingdom of Italy')]\n",
      "[('bookname', 'The crow of Mizzaro'), ('book', 'http://www.wikidata.org/entity/Q3793671'), ('writername', 'Luigi Pirandello'), ('citizenname', 'Kingdom of Italy')]\n",
      "[('bookname', 'San Martino'), ('book', 'http://www.wikidata.org/entity/Q3947642'), ('writername', 'Giosuè Carducci'), ('citizenname', 'Kingdom of Italy')]\n",
      "[('bookname', 'The Late Mattia Pascal'), ('book', 'http://www.wikidata.org/entity/Q1632269'), ('writername', 'Luigi Pirandello'), ('citizenname', 'Kingdom of Italy')]\n",
      "[('bookname', 'Clothing The Naked'), ('book', 'http://www.wikidata.org/entity/Q3564436'), ('writername', 'Luigi Pirandello'), ('citizenname', 'Kingdom of Italy')]\n",
      "[('bookname', 'Each In His Own Way'), ('book', 'http://www.wikidata.org/entity/Q3676318'), ('writername', 'Luigi Pirandello'), ('citizenname', 'Kingdom of Italy')]\n",
      "[('bookname', 'Henri IV'), ('book', 'http://www.wikidata.org/entity/Q56648929'), ('writername', 'Luigi Pirandello'), ('citizenname', 'Kingdom of Italy')]\n",
      "[('bookname', 'Novels for a year'), ('book', 'http://www.wikidata.org/entity/Q1754072'), ('writername', 'Luigi Pirandello'), ('citizenname', 'Kingdom of Italy')]\n",
      "[('bookname', 'The Reality of the Dream'), ('book', 'http://www.wikidata.org/entity/Q48802313'), ('writername', 'Luigi Pirandello'), ('citizenname', 'Kingdom of Italy')]\n",
      "[('bookname', 'The rules of the game'), ('book', 'http://www.wikidata.org/entity/Q3794181'), ('writername', 'Luigi Pirandello'), ('citizenname', 'Kingdom of Italy')]\n",
      "[('bookname', 'Τhe rules of the game'), ('book', 'http://www.wikidata.org/entity/Q60777817'), ('writername', 'Luigi Pirandello'), ('citizenname', 'Kingdom of Italy')]\n",
      "[('bookname', 'As You Desire Me'), ('book', 'http://www.wikidata.org/entity/Q3684204'), ('writername', 'Luigi Pirandello'), ('citizenname', 'Kingdom of Italy')]\n",
      "[('bookname', 'Tonight We Improvise'), ('book', 'http://www.wikidata.org/entity/Q3927728'), ('writername', 'Luigi Pirandello'), ('citizenname', 'Kingdom of Italy')]\n",
      "[('bookname', 'Six Characters in Search of an Author'), ('book', 'http://www.wikidata.org/entity/Q641651'), ('writername', 'Luigi Pirandello'), ('citizenname', 'Kingdom of Italy')]\n",
      "[('bookname', 'The Mountain Giants'), ('book', 'http://www.wikidata.org/entity/Q1215786'), ('writername', 'Luigi Pirandello'), ('citizenname', 'Kingdom of Italy')]\n",
      "[('bookname', \"Sant'Abbondio\"), ('book', 'http://www.wikidata.org/entity/Q65659060'), ('writername', 'Giosuè Carducci'), ('citizenname', 'Kingdom of Italy')]\n",
      "[('bookname', 'Six Characters in Search of an Author'), ('book', 'http://www.wikidata.org/entity/Q96333029'), ('writername', 'Luigi Pirandello'), ('citizenname', 'Kingdom of Italy')]\n",
      "[('bookname', 'Così è'), ('book', 'http://www.wikidata.org/entity/Q628889'), ('writername', 'Luigi Pirandello'), ('citizenname', 'Kingdom of Italy')]\n",
      "[('bookname', 'The Turn'), ('book', 'http://www.wikidata.org/entity/Q1131904'), ('writername', 'Luigi Pirandello'), ('citizenname', 'Kingdom of Italy')]\n",
      "[('bookname', 'To Satana'), ('book', 'http://www.wikidata.org/entity/Q15622813'), ('writername', 'Giosuè Carducci'), ('citizenname', 'Kingdom of Italy')]\n",
      "[('bookname', 'The Pleasure Of Honesty'), ('book', 'http://www.wikidata.org/entity/Q3795120'), ('writername', 'Luigi Pirandello'), ('citizenname', 'Kingdom of Italy')]\n"
     ]
    },
    {
     "data": {
      "text/plain": [
       "50"
      ]
     },
     "execution_count": 86,
     "metadata": {},
     "output_type": "execute_result"
    }
   ],
   "source": [
    "# Literature Nobel awards won authors from Italy and from the Kingdom of Italy? \n",
    "queryString = \"\"\"\n",
    "SELECT DISTINCT ?bookname ?book ?writername ?citizenname\n",
    "WHERE { \n",
    "    {?writer wdt:P27 wd:Q38 }\n",
    "    UNION { ?writer wdt:P27 wd:Q172579 } \n",
    "    ?writer wdt:P106 wd:Q36180 .\n",
    "    ?writer wdt:P27 ?citizen .\n",
    "    ?book wdt:P50 ?writer .\n",
    "    ?writer wdt:P166 ?award .\n",
    "\n",
    "    #labels\n",
    "    ?award <http://schema.org/name> ?awardname .\n",
    "    ?writer <http://schema.org/name> ?writername .\n",
    "    ?book <http://schema.org/name> ?bookname .\n",
    "    ?citizen <http://schema.org/name> ?citizenname .\n",
    "    FILTER regex(?awardname, \"nobel\", \"i\") \n",
    "    \n",
    "} \n",
    "LIMIT 50\n",
    "\"\"\"\n",
    "print(\"Results\")\n",
    "run_query(queryString)"
   ]
  },
  {
   "cell_type": "code",
   "execution_count": 87,
   "id": "7e2964ec-c058-4a36-b82d-ece33e41e91d",
   "metadata": {},
   "outputs": [
    {
     "name": "stdout",
     "output_type": "stream",
     "text": [
      "Results\n",
      "[('s', 'http://www.wikidata.org/prop/direct/P31'), ('sname', 'instance of'), ('p', 'http://www.wikidata.org/entity/Q25379'), ('pname', 'play')]\n",
      "[('s', 'http://www.wikidata.org/prop/direct/P50'), ('sname', 'author'), ('p', 'http://www.wikidata.org/entity/Q765'), ('pname', 'Dario Fo')]\n"
     ]
    },
    {
     "data": {
      "text/plain": [
       "2"
      ]
     },
     "execution_count": 87,
     "metadata": {},
     "output_type": "execute_result"
    }
   ],
   "source": [
    "# [('bookname', 'Corpse for Sale'),\n",
    "# ('book', 'http://www.wikidata.org/entity/Q5172601'),\n",
    "# ('writername', 'Dario Fo'), ('citizenname', 'Italy')]\n",
    "queryString = \"\"\"\n",
    "SELECT ?s ?sname ?p ?pname\n",
    "WHERE { \n",
    "    wd:Q5172601 ?s ?p  .\n",
    "    #labels\n",
    "    ?s <http://schema.org/name> ?sname .\n",
    "    ?p <http://schema.org/name> ?pname .\n",
    "    \n",
    "} \n",
    "LIMIT 50\n",
    "\"\"\"\n",
    "print(\"Results\")\n",
    "run_query(queryString)"
   ]
  },
  {
   "cell_type": "code",
   "execution_count": 88,
   "id": "1af1f98f-6ab7-4758-a4cc-db9e6413d5c8",
   "metadata": {},
   "outputs": [
    {
     "name": "stdout",
     "output_type": "stream",
     "text": [
      "Results\n",
      "[('book', 'http://www.wikidata.org/entity/Q3631052'), ('writername', 'Dario Fo'), ('writer', 'http://www.wikidata.org/entity/Q765'), ('citizenname', 'Italy')]\n",
      "[('book', 'http://www.wikidata.org/entity/Q6745735'), ('writername', 'Dario Fo'), ('writer', 'http://www.wikidata.org/entity/Q765'), ('citizenname', 'Italy')]\n",
      "[('book', 'http://www.wikidata.org/entity/Q7730023'), ('writername', 'Dario Fo'), ('writer', 'http://www.wikidata.org/entity/Q765'), ('citizenname', 'Italy')]\n",
      "[('book', 'http://www.wikidata.org/entity/Q1528183'), ('writername', 'Dario Fo'), ('writer', 'http://www.wikidata.org/entity/Q765'), ('citizenname', 'Italy')]\n",
      "[('book', 'http://www.wikidata.org/entity/Q2704227'), ('writername', 'Dario Fo'), ('writer', 'http://www.wikidata.org/entity/Q765'), ('citizenname', 'Italy')]\n",
      "[('book', 'http://www.wikidata.org/entity/Q5362235'), ('writername', 'Dario Fo'), ('writer', 'http://www.wikidata.org/entity/Q765'), ('citizenname', 'Italy')]\n",
      "[('book', 'http://www.wikidata.org/entity/Q7847823'), ('writername', 'Dario Fo'), ('writer', 'http://www.wikidata.org/entity/Q765'), ('citizenname', 'Italy')]\n",
      "[('book', 'http://www.wikidata.org/entity/Q5172601'), ('writername', 'Dario Fo'), ('writer', 'http://www.wikidata.org/entity/Q765'), ('citizenname', 'Italy')]\n",
      "[('book', 'http://www.wikidata.org/entity/Q3878178'), ('writername', 'Dario Fo'), ('writer', 'http://www.wikidata.org/entity/Q765'), ('citizenname', 'Italy')]\n",
      "[('book', 'http://www.wikidata.org/entity/Q28670120'), ('writername', 'Dario Fo'), ('writer', 'http://www.wikidata.org/entity/Q765'), ('citizenname', 'Italy')]\n",
      "[('book', 'http://www.wikidata.org/entity/Q1673579'), ('writername', 'Dario Fo'), ('writer', 'http://www.wikidata.org/entity/Q765'), ('citizenname', 'Italy')]\n",
      "[('book', 'http://www.wikidata.org/entity/Q3772074'), ('writername', 'Dario Fo'), ('writer', 'http://www.wikidata.org/entity/Q765'), ('citizenname', 'Italy')]\n",
      "[('book', 'http://www.wikidata.org/entity/Q853379'), ('writername', 'Dario Fo'), ('writer', 'http://www.wikidata.org/entity/Q765'), ('citizenname', 'Italy')]\n",
      "[('book', 'http://www.wikidata.org/entity/Q3180437'), ('writername', 'Dario Fo'), ('writer', 'http://www.wikidata.org/entity/Q765'), ('citizenname', 'Italy')]\n",
      "[('book', 'http://www.wikidata.org/entity/Q3667372'), ('writername', 'Dario Fo'), ('writer', 'http://www.wikidata.org/entity/Q765'), ('citizenname', 'Italy')]\n",
      "[('book', 'http://www.wikidata.org/entity/Q1246586'), ('writername', 'Dario Fo'), ('writer', 'http://www.wikidata.org/entity/Q765'), ('citizenname', 'Italy')]\n",
      "[('book', 'http://www.wikidata.org/entity/Q7757767'), ('writername', 'Dario Fo'), ('writer', 'http://www.wikidata.org/entity/Q765'), ('citizenname', 'Italy')]\n",
      "[('book', 'http://www.wikidata.org/entity/Q16239938'), ('writername', 'Dario Fo'), ('writer', 'http://www.wikidata.org/entity/Q765'), ('citizenname', 'Italy')]\n",
      "[('book', 'http://www.wikidata.org/entity/Q1238893'), ('writername', 'Grazia Deledda'), ('writer', 'http://www.wikidata.org/entity/Q7728'), ('citizenname', 'Kingdom of Italy')]\n",
      "[('book', 'http://www.wikidata.org/entity/Q18223014'), ('writername', 'Grazia Deledda'), ('writer', 'http://www.wikidata.org/entity/Q7728'), ('citizenname', 'Kingdom of Italy')]\n",
      "[('book', 'http://www.wikidata.org/entity/Q2526261'), ('writername', 'Grazia Deledda'), ('writer', 'http://www.wikidata.org/entity/Q7728'), ('citizenname', 'Kingdom of Italy')]\n",
      "[('book', 'http://www.wikidata.org/entity/Q2528617'), ('writername', 'Grazia Deledda'), ('writer', 'http://www.wikidata.org/entity/Q7728'), ('citizenname', 'Kingdom of Italy')]\n",
      "[('book', 'http://www.wikidata.org/entity/Q105394862'), ('writername', 'Grazia Deledda'), ('writer', 'http://www.wikidata.org/entity/Q7728'), ('citizenname', 'Kingdom of Italy')]\n",
      "[('book', 'http://www.wikidata.org/entity/Q1767659'), ('writername', 'Grazia Deledda'), ('writer', 'http://www.wikidata.org/entity/Q7728'), ('citizenname', 'Kingdom of Italy')]\n",
      "[('book', 'http://www.wikidata.org/entity/Q3617889'), ('writername', 'Grazia Deledda'), ('writer', 'http://www.wikidata.org/entity/Q7728'), ('citizenname', 'Kingdom of Italy')]\n",
      "[('book', 'http://www.wikidata.org/entity/Q4690699'), ('writername', 'Grazia Deledda'), ('writer', 'http://www.wikidata.org/entity/Q7728'), ('citizenname', 'Kingdom of Italy')]\n",
      "[('book', 'http://www.wikidata.org/entity/Q63681689'), ('writername', 'Grazia Deledda'), ('writer', 'http://www.wikidata.org/entity/Q7728'), ('citizenname', 'Kingdom of Italy')]\n",
      "[('book', 'http://www.wikidata.org/entity/Q105243002'), ('writername', 'Grazia Deledda'), ('writer', 'http://www.wikidata.org/entity/Q7728'), ('citizenname', 'Kingdom of Italy')]\n",
      "[('book', 'http://www.wikidata.org/entity/Q3241764'), ('writername', 'Luigi Pirandello'), ('writer', 'http://www.wikidata.org/entity/Q1403'), ('citizenname', 'Kingdom of Italy')]\n",
      "[('book', 'http://www.wikidata.org/entity/Q19135908'), ('writername', 'Giosuè Carducci'), ('writer', 'http://www.wikidata.org/entity/Q43440'), ('citizenname', 'Kingdom of Italy')]\n",
      "[('book', 'http://www.wikidata.org/entity/Q3793671'), ('writername', 'Luigi Pirandello'), ('writer', 'http://www.wikidata.org/entity/Q1403'), ('citizenname', 'Kingdom of Italy')]\n",
      "[('book', 'http://www.wikidata.org/entity/Q3947642'), ('writername', 'Giosuè Carducci'), ('writer', 'http://www.wikidata.org/entity/Q43440'), ('citizenname', 'Kingdom of Italy')]\n",
      "[('book', 'http://www.wikidata.org/entity/Q1632269'), ('writername', 'Luigi Pirandello'), ('writer', 'http://www.wikidata.org/entity/Q1403'), ('citizenname', 'Kingdom of Italy')]\n",
      "[('book', 'http://www.wikidata.org/entity/Q3564436'), ('writername', 'Luigi Pirandello'), ('writer', 'http://www.wikidata.org/entity/Q1403'), ('citizenname', 'Kingdom of Italy')]\n",
      "[('book', 'http://www.wikidata.org/entity/Q3676318'), ('writername', 'Luigi Pirandello'), ('writer', 'http://www.wikidata.org/entity/Q1403'), ('citizenname', 'Kingdom of Italy')]\n",
      "[('book', 'http://www.wikidata.org/entity/Q56648929'), ('writername', 'Luigi Pirandello'), ('writer', 'http://www.wikidata.org/entity/Q1403'), ('citizenname', 'Kingdom of Italy')]\n",
      "[('book', 'http://www.wikidata.org/entity/Q1754072'), ('writername', 'Luigi Pirandello'), ('writer', 'http://www.wikidata.org/entity/Q1403'), ('citizenname', 'Kingdom of Italy')]\n",
      "[('book', 'http://www.wikidata.org/entity/Q48802313'), ('writername', 'Luigi Pirandello'), ('writer', 'http://www.wikidata.org/entity/Q1403'), ('citizenname', 'Kingdom of Italy')]\n",
      "[('book', 'http://www.wikidata.org/entity/Q3794181'), ('writername', 'Luigi Pirandello'), ('writer', 'http://www.wikidata.org/entity/Q1403'), ('citizenname', 'Kingdom of Italy')]\n",
      "[('book', 'http://www.wikidata.org/entity/Q60777817'), ('writername', 'Luigi Pirandello'), ('writer', 'http://www.wikidata.org/entity/Q1403'), ('citizenname', 'Kingdom of Italy')]\n",
      "[('book', 'http://www.wikidata.org/entity/Q3684204'), ('writername', 'Luigi Pirandello'), ('writer', 'http://www.wikidata.org/entity/Q1403'), ('citizenname', 'Kingdom of Italy')]\n",
      "[('book', 'http://www.wikidata.org/entity/Q3927728'), ('writername', 'Luigi Pirandello'), ('writer', 'http://www.wikidata.org/entity/Q1403'), ('citizenname', 'Kingdom of Italy')]\n",
      "[('book', 'http://www.wikidata.org/entity/Q641651'), ('writername', 'Luigi Pirandello'), ('writer', 'http://www.wikidata.org/entity/Q1403'), ('citizenname', 'Kingdom of Italy')]\n",
      "[('book', 'http://www.wikidata.org/entity/Q1215786'), ('writername', 'Luigi Pirandello'), ('writer', 'http://www.wikidata.org/entity/Q1403'), ('citizenname', 'Kingdom of Italy')]\n",
      "[('book', 'http://www.wikidata.org/entity/Q65659060'), ('writername', 'Giosuè Carducci'), ('writer', 'http://www.wikidata.org/entity/Q43440'), ('citizenname', 'Kingdom of Italy')]\n",
      "[('book', 'http://www.wikidata.org/entity/Q96333029'), ('writername', 'Luigi Pirandello'), ('writer', 'http://www.wikidata.org/entity/Q1403'), ('citizenname', 'Kingdom of Italy')]\n",
      "[('book', 'http://www.wikidata.org/entity/Q628889'), ('writername', 'Luigi Pirandello'), ('writer', 'http://www.wikidata.org/entity/Q1403'), ('citizenname', 'Kingdom of Italy')]\n",
      "[('book', 'http://www.wikidata.org/entity/Q1131904'), ('writername', 'Luigi Pirandello'), ('writer', 'http://www.wikidata.org/entity/Q1403'), ('citizenname', 'Kingdom of Italy')]\n",
      "[('book', 'http://www.wikidata.org/entity/Q15622813'), ('writername', 'Giosuè Carducci'), ('writer', 'http://www.wikidata.org/entity/Q43440'), ('citizenname', 'Kingdom of Italy')]\n",
      "[('book', 'http://www.wikidata.org/entity/Q3795120'), ('writername', 'Luigi Pirandello'), ('writer', 'http://www.wikidata.org/entity/Q1403'), ('citizenname', 'Kingdom of Italy')]\n"
     ]
    },
    {
     "data": {
      "text/plain": [
       "50"
      ]
     },
     "execution_count": 88,
     "metadata": {},
     "output_type": "execute_result"
    }
   ],
   "source": [
    "# Literature Nobel awards won authors from Italy and from the Kingdom of Italy? \n",
    "queryString = \"\"\"\n",
    "SELECT DISTINCT ?book ?writername ?writer ?citizenname\n",
    "WHERE { \n",
    "    {?writer wdt:P27 wd:Q38 }\n",
    "    UNION { ?writer wdt:P27 wd:Q172579 } \n",
    "    ?writer wdt:P106 wd:Q36180 .\n",
    "    ?writer wdt:P27 ?citizen .\n",
    "    ?book wdt:P50 ?writer .\n",
    "    ?writer wdt:P166 ?award .\n",
    "\n",
    "    #labels\n",
    "    ?award <http://schema.org/name> ?awardname .\n",
    "    ?writer <http://schema.org/name> ?writername .\n",
    "    ?book <http://schema.org/name> ?bookname .\n",
    "    ?citizen <http://schema.org/name> ?citizenname .\n",
    "    FILTER regex(?awardname, \"nobel\", \"i\") \n",
    "    \n",
    "} \n",
    "LIMIT 50\n",
    "\"\"\"\n",
    "print(\"Results\")\n",
    "run_query(queryString)"
   ]
  },
  {
   "cell_type": "code",
   "execution_count": 89,
   "id": "e28e80b4-ff2f-4c74-89ef-0ce6159db89a",
   "metadata": {},
   "outputs": [
    {
     "name": "stdout",
     "output_type": "stream",
     "text": [
      "Results\n",
      "[('s', 'http://www.wikidata.org/prop/direct/P509'), ('sname', 'cause of death'), ('p', 'http://www.wikidata.org/entity/Q12192'), ('pname', 'pneumonia')]\n",
      "[('s', 'http://www.wikidata.org/prop/direct/P69'), ('sname', 'educated at'), ('p', 'http://www.wikidata.org/entity/Q152171'), ('pname', 'University of Bonn')]\n",
      "[('s', 'http://www.wikidata.org/prop/direct/P27'), ('sname', 'country of citizenship'), ('p', 'http://www.wikidata.org/entity/Q172579'), ('pname', 'Kingdom of Italy')]\n",
      "[('s', 'http://www.wikidata.org/prop/direct/P1343'), ('sname', 'described by source'), ('p', 'http://www.wikidata.org/entity/Q17378135'), ('pname', 'Great Soviet Encyclopedia (1969–1978)')]\n",
      "[('s', 'http://www.wikidata.org/prop/direct/P1412'), ('sname', 'languages spoken, written or signed'), ('p', 'http://www.wikidata.org/entity/Q188'), ('pname', 'German')]\n",
      "[('s', 'http://www.wikidata.org/prop/direct/P106'), ('sname', 'occupation'), ('p', 'http://www.wikidata.org/entity/Q214917'), ('pname', 'playwright')]\n",
      "[('s', 'http://www.wikidata.org/prop/direct/P20'), ('sname', 'place of death'), ('p', 'http://www.wikidata.org/entity/Q220'), ('pname', 'Rome')]\n",
      "[('s', 'http://www.wikidata.org/prop/direct/P1343'), ('sname', 'described by source'), ('p', 'http://www.wikidata.org/entity/Q2657718'), ('pname', 'Armenian Soviet Encyclopedia')]\n",
      "[('s', 'http://www.wikidata.org/prop/direct/P106'), ('sname', 'occupation'), ('p', 'http://www.wikidata.org/entity/Q28389'), ('pname', 'screenwriter')]\n",
      "[('s', 'http://www.wikidata.org/prop/direct/P106'), ('sname', 'occupation'), ('p', 'http://www.wikidata.org/entity/Q3455803'), ('pname', 'director')]\n",
      "[('s', 'http://www.wikidata.org/prop/direct/P106'), ('sname', 'occupation'), ('p', 'http://www.wikidata.org/entity/Q36180'), ('pname', 'writer')]\n",
      "[('s', 'http://www.wikidata.org/prop/direct/P1411'), ('sname', 'nominated for'), ('p', 'http://www.wikidata.org/entity/Q37922'), ('pname', 'Nobel Prize in Literature')]\n",
      "[('s', 'http://www.wikidata.org/prop/direct/P166'), ('sname', 'award received'), ('p', 'http://www.wikidata.org/entity/Q37922'), ('pname', 'Nobel Prize in Literature')]\n",
      "[('s', 'http://www.wikidata.org/prop/direct/P735'), ('sname', 'given name'), ('p', 'http://www.wikidata.org/entity/Q4245067'), ('pname', 'Luigi')]\n",
      "[('s', 'http://www.wikidata.org/prop/direct/P106'), ('sname', 'occupation'), ('p', 'http://www.wikidata.org/entity/Q482980'), ('pname', 'author')]\n",
      "[('s', 'http://www.wikidata.org/prop/direct/P106'), ('sname', 'occupation'), ('p', 'http://www.wikidata.org/entity/Q49757'), ('pname', 'poet')]\n",
      "[('s', 'http://www.wikidata.org/prop/direct/P31'), ('sname', 'instance of'), ('p', 'http://www.wikidata.org/entity/Q5'), ('pname', 'human')]\n",
      "[('s', 'http://www.wikidata.org/prop/direct/P172'), ('sname', 'ethnic group'), ('p', 'http://www.wikidata.org/entity/Q50001'), ('pname', 'Italians')]\n",
      "[('s', 'http://www.wikidata.org/prop/direct/P1343'), ('sname', 'described by source'), ('p', 'http://www.wikidata.org/entity/Q51955019'), ('pname', 'BEIC Digital Library')]\n",
      "[('s', 'http://www.wikidata.org/prop/direct/P1412'), ('sname', 'languages spoken, written or signed'), ('p', 'http://www.wikidata.org/entity/Q652'), ('pname', 'Italian')]\n",
      "[('s', 'http://www.wikidata.org/prop/direct/P6886'), ('sname', 'writing language'), ('p', 'http://www.wikidata.org/entity/Q652'), ('pname', 'Italian')]\n",
      "[('s', 'http://www.wikidata.org/prop/direct/P21'), ('sname', 'sex or gender'), ('p', 'http://www.wikidata.org/entity/Q6581097'), ('pname', 'male')]\n",
      "[('s', 'http://www.wikidata.org/prop/direct/P106'), ('sname', 'occupation'), ('p', 'http://www.wikidata.org/entity/Q6625963'), ('pname', 'novelist')]\n",
      "[('s', 'http://www.wikidata.org/prop/direct/P1343'), ('sname', 'described by source'), ('p', 'http://www.wikidata.org/entity/Q67311526'), ('pname', 'Obalky knih.cz')]\n",
      "[('s', 'http://www.wikidata.org/prop/direct/P140'), ('sname', 'religion'), ('p', 'http://www.wikidata.org/entity/Q7066'), ('pname', 'atheism')]\n",
      "[('s', 'http://www.wikidata.org/prop/direct/P7763'), ('sname', 'copyright status as a creator'), ('p', 'http://www.wikidata.org/entity/Q71887839'), ('pname', 'copyrights on works have expired')]\n",
      "[('s', 'http://www.wikidata.org/prop/direct/P19'), ('sname', 'place of birth'), ('p', 'http://www.wikidata.org/entity/Q13678'), ('pname', 'Agrigento')]\n",
      "[('s', 'http://www.wikidata.org/prop/direct/P800'), ('sname', 'notable work'), ('p', 'http://www.wikidata.org/entity/Q1632269'), ('pname', 'The Late Mattia Pascal')]\n",
      "[('s', 'http://www.wikidata.org/prop/direct/P800'), ('sname', 'notable work'), ('p', 'http://www.wikidata.org/entity/Q3564436'), ('pname', 'Clothing The Naked')]\n",
      "[('s', 'http://www.wikidata.org/prop/direct/P463'), ('sname', 'member of'), ('p', 'http://www.wikidata.org/entity/Q3982246'), ('pname', \"Compagnia del teatro d'arte di Roma\")]\n",
      "[('s', 'http://www.wikidata.org/prop/direct/P800'), ('sname', 'notable work'), ('p', 'http://www.wikidata.org/entity/Q1754072'), ('pname', 'Novels for a year')]\n",
      "[('s', 'http://www.wikidata.org/prop/direct/P800'), ('sname', 'notable work'), ('p', 'http://www.wikidata.org/entity/Q641651'), ('pname', 'Six Characters in Search of an Author')]\n",
      "[('s', 'http://www.wikidata.org/prop/direct/P800'), ('sname', 'notable work'), ('p', 'http://www.wikidata.org/entity/Q1131904'), ('pname', 'The Turn')]\n",
      "[('s', 'http://www.wikidata.org/prop/direct/P40'), ('sname', 'child'), ('p', 'http://www.wikidata.org/entity/Q2061628'), ('pname', 'Fausto Pirandello')]\n",
      "[('s', 'http://www.wikidata.org/prop/direct/P40'), ('sname', 'child'), ('p', 'http://www.wikidata.org/entity/Q3972651'), ('pname', 'Stefano Pirandello')]\n",
      "[('s', 'http://www.wikidata.org/prop/direct/P26'), ('sname', 'spouse'), ('p', 'http://www.wikidata.org/entity/Q62927560'), ('pname', 'Maria Antonietta Portulano')]\n",
      "[('s', 'http://www.wikidata.org/prop/direct/P800'), ('sname', 'notable work'), ('p', 'http://www.wikidata.org/entity/Q3841864'), ('pname', 'Ma non è una cosa seria')]\n",
      "[('s', 'http://www.wikidata.org/prop/direct/P800'), ('sname', 'notable work'), ('p', 'http://www.wikidata.org/entity/Q3819063'), ('pname', \"L'Esclusa\")]\n",
      "[('s', 'http://www.wikidata.org/prop/direct/P800'), ('sname', 'notable work'), ('p', 'http://www.wikidata.org/entity/Q3021244'), ('pname', 'One, No one and One Hundred Thousand')]\n",
      "[('s', 'http://www.wikidata.org/prop/direct/P800'), ('sname', 'notable work'), ('p', 'http://www.wikidata.org/entity/Q667340'), ('pname', 'Henry IV')]\n",
      "[('s', 'http://www.wikidata.org/prop/direct/P910'), ('sname', \"topic's main category\"), ('p', 'http://www.wikidata.org/entity/Q7486275'), ('pname', 'Category:Luigi Pirandello')]\n"
     ]
    },
    {
     "data": {
      "text/plain": [
       "41"
      ]
     },
     "execution_count": 89,
     "metadata": {},
     "output_type": "execute_result"
    }
   ],
   "source": [
    "#[('book', 'http://www.wikidata.org/entity/Q3795120'), \n",
    "# ('writername', 'Luigi Pirandello'), \n",
    "# ('writer', 'http://www.wikidata.org/entity/Q1403'), \n",
    "# ('citizenname', 'Kingdom of Italy')]\n",
    "queryString = \"\"\"\n",
    "SELECT ?s ?sname ?p ?pname\n",
    "WHERE { \n",
    "    wd:Q1403 ?s ?p  .\n",
    "    #labels\n",
    "    ?s <http://schema.org/name> ?sname .\n",
    "    ?p <http://schema.org/name> ?pname .\n",
    "    \n",
    "} \n",
    "LIMIT 50\n",
    "\"\"\"\n",
    "print(\"Results\")\n",
    "run_query(queryString)"
   ]
  },
  {
   "cell_type": "code",
   "execution_count": 90,
   "id": "b5d76f50-1172-43a9-a2a0-118be7031ace",
   "metadata": {},
   "outputs": [
    {
     "name": "stdout",
     "output_type": "stream",
     "text": [
      "Results\n",
      "[('s', 'http://www.w3.org/1999/02/22-rdf-syntax-ns#type'), ('p', 'http://wikiba.se/ontology#Item')]\n",
      "[('s', 'http://www.wikidata.org/prop/direct/P5505'), ('p', '87743')]\n",
      "[('s', 'http://www.wikidata.org/prop/direct-normalized/P1015'), ('p', 'https://livedata.bibsys.no/authority/90524924')]\n",
      "[('s', 'http://www.wikidata.org/prop/direct-normalized/P214'), ('p', 'http://viaf.org/viaf/146085455')]\n",
      "[('s', 'http://www.wikidata.org/prop/direct-normalized/P2163'), ('p', 'http://id.worldcat.org/fast/543664')]\n",
      "[('s', 'http://www.wikidata.org/prop/direct-normalized/P227'), ('p', 'https://d-nb.info/gnd/1003302-6')]\n",
      "[('s', 'http://www.wikidata.org/prop/direct-normalized/P244'), ('p', 'https://id.loc.gov/authorities/names/n80050101')]\n",
      "[('s', 'http://www.wikidata.org/prop/direct-normalized/P245'), ('p', 'http://vocab.getty.edu/ulan/500308607')]\n",
      "[('s', 'http://www.wikidata.org/prop/direct-normalized/P2581'), ('p', 'http://babelnet.org/rdf/s03227550n')]\n",
      "[('s', 'http://www.wikidata.org/prop/direct-normalized/P268'), ('p', 'http://data.bnf.fr/ark:/12148/cb11873553t#about')]\n"
     ]
    },
    {
     "data": {
      "text/plain": [
       "10"
      ]
     },
     "execution_count": 90,
     "metadata": {},
     "output_type": "execute_result"
    }
   ],
   "source": [
    "# `wd:Q213678`  | Vatican Library        | node |\n",
    "queryString = \"\"\"\n",
    "SELECT *\n",
    "WHERE { \n",
    "    wd:Q213678 ?s ?p .\n",
    "    #labels\n",
    "    #?p <http://schema.org/name> ?pname .\n",
    "    #?s <http://schema.org/name> ?sname .\n",
    "    \n",
    "} \n",
    "LIMIT 10\n",
    "\"\"\"\n",
    "print(\"Results\")\n",
    "run_query(queryString)"
   ]
  },
  {
   "cell_type": "code",
   "execution_count": 91,
   "id": "4a4c8f3f-fcba-45ab-91a4-120067080e2f",
   "metadata": {},
   "outputs": [
    {
     "name": "stdout",
     "output_type": "stream",
     "text": [
      "Results\n",
      "[('s', 'http://www.wikidata.org/prop/direct/P301'), ('sname', \"category's main topic\"), ('p', 'http://www.wikidata.org/entity/Q213678'), ('pname', 'Vatican Library')]\n",
      "[('s', 'http://www.wikidata.org/prop/direct/P31'), ('sname', 'instance of'), ('p', 'http://www.wikidata.org/entity/Q4167836'), ('pname', 'Wikimedia category')]\n",
      "[('s', 'http://www.wikidata.org/prop/direct/P4224'), ('sname', 'category contains'), ('p', 'http://www.wikidata.org/entity/Q5'), ('pname', 'human')]\n"
     ]
    },
    {
     "data": {
      "text/plain": [
       "3"
      ]
     },
     "execution_count": 91,
     "metadata": {},
     "output_type": "execute_result"
    }
   ],
   "source": [
    "#('p', 'http://www.wikidata.org/entity/Q8229359'), ('pname', 'Category:Vatican Library')]\n",
    "queryString = \"\"\"\n",
    "SELECT ?s ?sname ?p ?pname\n",
    "WHERE { \n",
    "    wd:Q8229359 ?s ?p .\n",
    "    #labels\n",
    "    ?p <http://schema.org/name> ?pname .\n",
    "    ?s <http://schema.org/name> ?sname .\n",
    "    \n",
    "} \n",
    "LIMIT 50\n",
    "\"\"\"\n",
    "print(\"Results\")\n",
    "run_query(queryString)"
   ]
  },
  {
   "cell_type": "code",
   "execution_count": 92,
   "id": "25c09372-f578-4c6f-9aca-498a4c12d6b7",
   "metadata": {},
   "outputs": [
    {
     "name": "stdout",
     "output_type": "stream",
     "text": [
      "Results\n",
      "[('callret-0', '79')]\n"
     ]
    },
    {
     "data": {
      "text/plain": [
       "1"
      ]
     },
     "execution_count": 92,
     "metadata": {},
     "output_type": "execute_result"
    }
   ],
   "source": [
    "# `wd:Q213678`  | Vatican Library        | node |\n",
    "queryString = \"\"\"\n",
    "SELECT COUNT(DISTINCT ?s)\n",
    "WHERE { \n",
    "    wd:Q213678 ?s ?p .\n",
    "    #labels\n",
    "    #?p <http://schema.org/name> ?pname .\n",
    "    #?s <http://schema.org/name> ?sname .\n",
    "    \n",
    "} \n",
    "LIMIT 10\n",
    "\"\"\"\n",
    "print(\"Results\")\n",
    "run_query(queryString)"
   ]
  },
  {
   "cell_type": "code",
   "execution_count": 93,
   "id": "432325cd-14c4-4622-8596-acca7de44760",
   "metadata": {},
   "outputs": [
    {
     "name": "stdout",
     "output_type": "stream",
     "text": [
      "Results\n",
      "[('s', 'http://www.wikidata.org/prop/direct/P1037'), ('sname', 'director / manager'), ('p', 'http://www.wikidata.org/entity/Q4459693'), ('pname', 'José Tolentino de Mendonça')]\n",
      "[('s', 'http://www.wikidata.org/prop/direct/P131'), ('sname', 'located in the administrative territorial entity'), ('p', 'http://www.wikidata.org/entity/Q237'), ('pname', 'Vatican City')]\n",
      "[('s', 'http://www.wikidata.org/prop/direct/P1343'), ('sname', 'described by source'), ('p', 'http://www.wikidata.org/entity/Q602358'), ('pname', 'Brockhaus and Efron Encyclopedic Dictionary')]\n",
      "[('s', 'http://www.wikidata.org/prop/direct/P1687'), ('sname', 'Wikidata property'), ('p', 'http://www.wikidata.org/entity/P1017'), ('pname', 'Vatican Library ID (former scheme)')]\n",
      "[('s', 'http://www.wikidata.org/prop/direct/P17'), ('sname', 'country'), ('p', 'http://www.wikidata.org/entity/Q237'), ('pname', 'Vatican City')]\n",
      "[('s', 'http://www.wikidata.org/prop/direct/P2388'), ('sname', 'office held by head of the organization'), ('p', 'http://www.wikidata.org/entity/Q19823475'), ('pname', 'prefect of the Vatican Library')]\n",
      "[('s', 'http://www.wikidata.org/prop/direct/P31'), ('sname', 'instance of'), ('p', 'http://www.wikidata.org/entity/Q22806'), ('pname', 'national library')]\n",
      "[('s', 'http://www.wikidata.org/prop/direct/P463'), ('sname', 'member of'), ('p', 'http://www.wikidata.org/entity/Q35677307'), ('pname', 'IIIF Consortium')]\n",
      "[('s', 'http://www.wikidata.org/prop/direct/P463'), ('sname', 'member of'), ('p', 'http://www.wikidata.org/entity/Q1255790'), ('pname', 'Conference of European National Librarians')]\n",
      "[('s', 'http://www.wikidata.org/prop/direct/P463'), ('sname', 'member of'), ('p', 'http://www.wikidata.org/entity/Q3487972'), ('pname', 'Société de l’histoire de France')]\n",
      "[('s', 'http://www.wikidata.org/prop/direct/P910'), ('sname', \"topic's main category\"), ('p', 'http://www.wikidata.org/entity/Q8229359'), ('pname', 'Category:Vatican Library')]\n"
     ]
    },
    {
     "data": {
      "text/plain": [
       "11"
      ]
     },
     "execution_count": 93,
     "metadata": {},
     "output_type": "execute_result"
    }
   ],
   "source": [
    "# `wd:Q213678`  | Vatican Library        | node |\n",
    "queryString = \"\"\"\n",
    "SELECT DISTINCT ?s ?sname ?p ?pname\n",
    "WHERE { \n",
    "    wd:Q213678 ?s ?p .\n",
    "    #labels\n",
    "    ?p <http://schema.org/name> ?pname .\n",
    "    ?s <http://schema.org/name> ?sname .\n",
    "    \n",
    "} \n",
    "LIMIT 20\n",
    "\"\"\"\n",
    "print(\"Results\")\n",
    "run_query(queryString)"
   ]
  },
  {
   "cell_type": "code",
   "execution_count": 94,
   "id": "6a85a546-2b85-499e-8a9e-327fab79ad4c",
   "metadata": {},
   "outputs": [
    {
     "name": "stdout",
     "output_type": "stream",
     "text": [
      "Results\n",
      "[('callret-0', '20')]\n"
     ]
    },
    {
     "data": {
      "text/plain": [
       "1"
      ]
     },
     "execution_count": 94,
     "metadata": {},
     "output_type": "execute_result"
    }
   ],
   "source": [
    "# `wd:Q213678`  | Vatican Library        | node |\n",
    "queryString = \"\"\"\n",
    "SELECT COUNT (DISTINCT ?p)\n",
    "WHERE { \n",
    "    ?s ?p wd:Q213678 .\n",
    "    #labels\n",
    "    #?p <http://schema.org/name> ?pname .\n",
    "    #?s <http://schema.org/name> ?sname .\n",
    "    \n",
    "} \n",
    "LIMIT 10\n",
    "\"\"\"\n",
    "print(\"Results\")\n",
    "run_query(queryString)"
   ]
  },
  {
   "cell_type": "code",
   "execution_count": 95,
   "id": "ac1f7a8a-7d77-41bb-addf-efeeee845dac",
   "metadata": {},
   "outputs": [
    {
     "name": "stdout",
     "output_type": "stream",
     "text": [
      "Results\n",
      "[('p', 'http://www.wikidata.org/prop/direct/P2389'), ('pname', 'organization directed by the office or position')]\n",
      "[('p', 'http://www.wikidata.org/prop/direct/P9419'), ('pname', 'personal library at')]\n",
      "[('p', 'http://www.wikidata.org/prop/direct/P108'), ('pname', 'employer')]\n",
      "[('p', 'http://www.wikidata.org/prop/direct/P127'), ('pname', 'owned by')]\n",
      "[('p', 'http://www.wikidata.org/prop/direct/P137'), ('pname', 'operator')]\n",
      "[('p', 'http://www.wikidata.org/prop/direct/P1416'), ('pname', 'affiliation')]\n",
      "[('p', 'http://www.wikidata.org/prop/direct/P189'), ('pname', 'location of discovery')]\n",
      "[('p', 'http://www.wikidata.org/prop/direct/P195'), ('pname', 'collection')]\n",
      "[('p', 'http://www.wikidata.org/prop/direct/P276'), ('pname', 'location')]\n",
      "[('p', 'http://www.wikidata.org/prop/direct/P301'), ('pname', \"category's main topic\")]\n",
      "[('p', 'http://www.wikidata.org/prop/direct/P361'), ('pname', 'part of')]\n",
      "[('p', 'http://www.wikidata.org/prop/direct/P485'), ('pname', 'archives at')]\n",
      "[('p', 'http://www.wikidata.org/prop/direct/P5869'), ('pname', 'model item')]\n",
      "[('p', 'http://www.wikidata.org/prop/direct/P921'), ('pname', 'main subject')]\n",
      "[('p', 'http://www.wikidata.org/prop/direct/P971'), ('pname', 'category combines topics')]\n",
      "[('p', 'http://www.wikidata.org/prop/direct/P2378'), ('pname', 'issued by')]\n",
      "[('p', 'http://www.wikidata.org/prop/direct/P1629'), ('pname', 'Wikidata item of this property')]\n",
      "[('p', 'http://www.wikidata.org/prop/direct/P1855'), ('pname', 'Wikidata property example')]\n"
     ]
    },
    {
     "data": {
      "text/plain": [
       "18"
      ]
     },
     "execution_count": 95,
     "metadata": {},
     "output_type": "execute_result"
    }
   ],
   "source": [
    "# `wd:Q213678`  | Vatican Library        | node |\n",
    "queryString = \"\"\"\n",
    "SELECT DISTINCT ?p ?pname\n",
    "WHERE { \n",
    "    ?s ?p wd:Q213678 .\n",
    "    #labels\n",
    "    ?p <http://schema.org/name> ?pname .\n",
    "    #?s <http://schema.org/name> ?sname .\n",
    "    \n",
    "} \n",
    "LIMIT 25\n",
    "\"\"\"\n",
    "print(\"Results\")\n",
    "run_query(queryString)"
   ]
  },
  {
   "cell_type": "code",
   "execution_count": 96,
   "id": "55fad041-5cd0-49c7-a9b5-337226b5dbac",
   "metadata": {},
   "outputs": [
    {
     "name": "stdout",
     "output_type": "stream",
     "text": [
      "Results\n",
      "[('p', 'http://www.w3.org/1999/02/22-rdf-syntax-ns#type'), ('o', 'http://wikiba.se/ontology#Item')]\n",
      "[('p', 'http://www.wikidata.org/prop/direct-normalized/P2671'), ('o', 'http://g.co/kg/g/120m0_q_')]\n",
      "[('p', 'http://www.wikidata.org/prop/direct/P2671'), ('o', '/g/120m0_q_')]\n",
      "[('p', 'http://www.wikidata.org/prop/direct/P31'), ('o', 'http://www.wikidata.org/entity/Q25379')]\n",
      "[('p', 'http://www.wikidata.org/prop/direct/P407'), ('o', 'http://www.wikidata.org/entity/Q652')]\n",
      "[('p', 'http://www.wikidata.org/prop/direct/P495'), ('o', 'http://www.wikidata.org/entity/Q38')]\n",
      "[('p', 'http://www.wikidata.org/prop/direct/P50'), ('o', 'http://www.wikidata.org/entity/Q765')]\n",
      "[('p', 'http://www.wikidata.org/prop/direct/P577'), ('o', '1960-01-01T00:00:00Z')]\n",
      "[('p', 'http://schema.org/name'), ('o', 'He Had Two Pistols with White and Black Eyes')]\n",
      "[('p', 'http://www.wikidata.org/prop/direct/P1191'), ('o', '1960-09-02T00:00:00Z')]\n"
     ]
    },
    {
     "data": {
      "text/plain": [
       "10"
      ]
     },
     "execution_count": 96,
     "metadata": {},
     "output_type": "execute_result"
    }
   ],
   "source": [
    "#[('bookname', 'He Had Two Pistols with White and Black Eyes'), \n",
    "#('book', 'http://www.wikidata.org/entity/Q3631052'),\n",
    "#('writername', 'Dario Fo'), ('citizenname', 'Italy')]\n",
    "queryString = \"\"\"\n",
    "SELECT *\n",
    "WHERE { \n",
    "    wd:Q3631052 ?p ?o .\n",
    "    #labels\n",
    "    #?p <http://schema.org/name> ?pname .\n",
    "    #?o <http://schema.org/name> ?sname .\n",
    "    \n",
    "} \n",
    "LIMIT 25\n",
    "\"\"\"\n",
    "print(\"Results\")\n",
    "run_query(queryString)"
   ]
  },
  {
   "cell_type": "code",
   "execution_count": 97,
   "id": "1db53852-61c2-4baf-9671-5e401fb01b19",
   "metadata": {},
   "outputs": [
    {
     "name": "stdout",
     "output_type": "stream",
     "text": [
      "Results\n",
      "[('p', 'http://www.wikidata.org/prop/direct/P2671'), ('o', '/g/120m0_q_'), ('pname', 'Google Knowledge Graph ID')]\n",
      "[('p', 'http://www.wikidata.org/prop/direct/P31'), ('o', 'http://www.wikidata.org/entity/Q25379'), ('pname', 'instance of')]\n",
      "[('p', 'http://www.wikidata.org/prop/direct/P407'), ('o', 'http://www.wikidata.org/entity/Q652'), ('pname', 'language of work or name')]\n",
      "[('p', 'http://www.wikidata.org/prop/direct/P495'), ('o', 'http://www.wikidata.org/entity/Q38'), ('pname', 'country of origin')]\n",
      "[('p', 'http://www.wikidata.org/prop/direct/P50'), ('o', 'http://www.wikidata.org/entity/Q765'), ('pname', 'author')]\n",
      "[('p', 'http://www.wikidata.org/prop/direct/P577'), ('o', '1960-01-01T00:00:00Z'), ('pname', 'publication date')]\n",
      "[('p', 'http://www.wikidata.org/prop/direct/P1191'), ('o', '1960-09-02T00:00:00Z'), ('pname', 'date of first performance')]\n"
     ]
    },
    {
     "data": {
      "text/plain": [
       "7"
      ]
     },
     "execution_count": 97,
     "metadata": {},
     "output_type": "execute_result"
    }
   ],
   "source": [
    "#[('bookname', 'He Had Two Pistols with White and Black Eyes'), \n",
    "#('book', 'http://www.wikidata.org/entity/Q3631052'),\n",
    "#('writername', 'Dario Fo'), ('citizenname', 'Italy')]\n",
    "queryString = \"\"\"\n",
    "SELECT *\n",
    "WHERE { \n",
    "    wd:Q3631052 ?p ?o .\n",
    "    #labels\n",
    "    ?p <http://schema.org/name> ?pname .\n",
    "    #?o <http://schema.org/name> ?sname .\n",
    "    \n",
    "} \n",
    "LIMIT 25\n",
    "\"\"\"\n",
    "print(\"Results\")\n",
    "run_query(queryString)"
   ]
  },
  {
   "cell_type": "code",
   "execution_count": 98,
   "id": "a2c754e5-7ebe-4815-9627-b011a9993a81",
   "metadata": {},
   "outputs": [
    {
     "name": "stdout",
     "output_type": "stream",
     "text": [
      "Results\n",
      "[('p', 'https://www.wikidata.org/wiki/Special:EntityData/Q3631052'), ('o', 'http://schema.org/about')]\n"
     ]
    },
    {
     "data": {
      "text/plain": [
       "1"
      ]
     },
     "execution_count": 98,
     "metadata": {},
     "output_type": "execute_result"
    }
   ],
   "source": [
    "#[('bookname', 'He Had Two Pistols with White and Black Eyes'), \n",
    "#('book', 'http://www.wikidata.org/entity/Q3631052'),\n",
    "#('writername', 'Dario Fo'), ('citizenname', 'Italy')]\n",
    "queryString = \"\"\"\n",
    "SELECT *\n",
    "WHERE { \n",
    "    ?p ?o wd:Q3631052 .\n",
    "    #labels\n",
    "    #?p <http://schema.org/name> ?pname .\n",
    "    #?o <http://schema.org/name> ?sname .\n",
    "    \n",
    "} \n",
    "LIMIT 25\n",
    "\"\"\"\n",
    "print(\"Results\")\n",
    "run_query(queryString)"
   ]
  },
  {
   "cell_type": "code",
   "execution_count": 99,
   "id": "f48e04cd-337b-4f45-b374-60fd42f07168",
   "metadata": {},
   "outputs": [
    {
     "name": "stdout",
     "output_type": "stream",
     "text": [
      "Results\n",
      "[('s', 'http://www.wikidata.org/entity/Q17174857'), ('sname', 'Bibbia di Federico da Montefeltro - BAV Urb.Lat.1&2')]\n",
      "[('s', 'http://www.wikidata.org/entity/Q209285'), ('sname', 'Codex Vaticanus')]\n",
      "[('s', 'http://www.wikidata.org/entity/Q1806588'), ('sname', 'Lasimos Krater')]\n",
      "[('s', 'http://www.wikidata.org/entity/Q664820'), ('sname', 'Bodmer Papyri')]\n",
      "[('s', 'http://www.wikidata.org/entity/Q1106341'), ('sname', 'Codex Vaticanus Graecus 64')]\n",
      "[('s', 'http://www.wikidata.org/entity/Q3592714'), ('sname', 'Barberini Gospels')]\n",
      "[('s', 'http://www.wikidata.org/entity/Q16653651'), ('sname', 'Divina Commedia de Federigo da Montefeltro - BAVaticana UrbLat365')]\n",
      "[('s', 'http://www.wikidata.org/entity/Q903320'), ('sname', 'Book of Dede Korkut')]\n",
      "[('s', 'http://www.wikidata.org/entity/Q101438843'), ('sname', 'Rossiana Library')]\n",
      "[('s', 'http://www.wikidata.org/entity/Q1531846'), ('sname', 'Vergilius Vaticanus')]\n",
      "[('s', 'http://www.wikidata.org/entity/Q1937608'), ('sname', 'Minuscule 131')]\n",
      "[('s', 'http://www.wikidata.org/entity/Q338714'), ('sname', 'Anjou Legendarium')]\n",
      "[('s', 'http://www.wikidata.org/entity/Q774565'), ('sname', 'Codex Vaticanus 354')]\n",
      "[('s', 'http://www.wikidata.org/entity/Q1250195'), ('sname', 'Codex Assemanius')]\n",
      "[('s', 'http://www.wikidata.org/entity/Q1106235'), ('sname', 'Codex Ríos')]\n",
      "[('s', 'http://www.wikidata.org/entity/Q785039'), ('sname', 'Joshua Roll')]\n",
      "[('s', 'http://www.wikidata.org/entity/Q33231619'), ('sname', 'breviary of  Matthias Corvin')]\n",
      "[('s', 'http://www.wikidata.org/entity/Q65122273'), ('sname', 'Andrew, the Apostle')]\n",
      "[('s', 'http://www.wikidata.org/entity/Q77463414'), ('sname', 'Apostolic Library Regina 1682')]\n",
      "[('s', 'http://www.wikidata.org/entity/Q77463433'), ('sname', 'Apostolic Library Reg. 1323')]\n",
      "[('s', 'http://www.wikidata.org/entity/Q55831099'), ('sname', 'Codex vaticanus latinus 3199')]\n",
      "[('s', 'http://www.wikidata.org/entity/Q3460976'), ('sname', 'Gregorian Sacramentary')]\n",
      "[('s', 'http://www.wikidata.org/entity/Q16939517'), ('sname', 'Codex Parisino-petropolitanus')]\n",
      "[('s', 'http://www.wikidata.org/entity/Q744655'), ('sname', 'Chigi codex')]\n",
      "[('s', 'http://www.wikidata.org/entity/Q5140259'), ('sname', 'Codex Vaticanus Latinus 3868')]\n"
     ]
    },
    {
     "data": {
      "text/plain": [
       "25"
      ]
     },
     "execution_count": 99,
     "metadata": {},
     "output_type": "execute_result"
    }
   ],
   "source": [
    "# collection of a book.\n",
    "# `wd:Q213678`  | Vatican Library        | node |\n",
    "## [('p', 'http://www.wikidata.org/prop/direct/P195'), ('pname', 'collection')]\n",
    "## [('p', 'http://www.wikidata.org/prop/direct/P276'), ('pname', 'location')]\n",
    "# [('p', 'http://www.wikidata.org/prop/direct/P361'), ('pname', 'part of')]\n",
    "# [('p', 'http://www.wikidata.org/prop/direct/P485'), ('pname', 'archives at')]\n",
    "queryString = \"\"\"\n",
    "SELECT *\n",
    "WHERE { \n",
    "    ?s wdt:P195 wd:Q213678 .\n",
    "    #?s wdt:P276 wd:Q213678 .\n",
    "    #?s wdt:P361 wd:Q213678 .\n",
    "    #?s wdt:P485 wd:Q213678 .\n",
    "    \n",
    "    #labels\n",
    "    #?p <http://schema.org/name> ?pname .\n",
    "    ?s <http://schema.org/name> ?sname .\n",
    "    \n",
    "} \n",
    "LIMIT 25\n",
    "\"\"\"\n",
    "print(\"Results\")\n",
    "run_query(queryString)"
   ]
  },
  {
   "cell_type": "code",
   "execution_count": 100,
   "id": "419dae9b-a681-4380-a6a3-af2960fd8606",
   "metadata": {},
   "outputs": [
    {
     "name": "stdout",
     "output_type": "stream",
     "text": [
      "Results\n",
      "[('s', 'http://www.wikidata.org/entity/Q3592714'), ('sname', 'Barberini Gospels')]\n",
      "[('s', 'http://www.wikidata.org/entity/Q101438843'), ('sname', 'Rossiana Library')]\n",
      "[('s', 'http://www.wikidata.org/entity/Q338714'), ('sname', 'Anjou Legendarium')]\n",
      "[('s', 'http://www.wikidata.org/entity/Q1250195'), ('sname', 'Codex Assemanius')]\n",
      "[('s', 'http://www.wikidata.org/entity/Q1106235'), ('sname', 'Codex Ríos')]\n",
      "[('s', 'http://www.wikidata.org/entity/Q33231619'), ('sname', 'breviary of  Matthias Corvin')]\n",
      "[('s', 'http://www.wikidata.org/entity/Q77463414'), ('sname', 'Apostolic Library Regina 1682')]\n",
      "[('s', 'http://www.wikidata.org/entity/Q77463433'), ('sname', 'Apostolic Library Reg. 1323')]\n",
      "[('s', 'http://www.wikidata.org/entity/Q55831099'), ('sname', 'Codex vaticanus latinus 3199')]\n",
      "[('s', 'http://www.wikidata.org/entity/Q16912485'), ('sname', 'Divine Comedy Illustrated by Botticelli')]\n",
      "[('s', 'http://www.wikidata.org/entity/Q16939517'), ('sname', 'Codex Parisino-petropolitanus')]\n",
      "[('s', 'http://www.wikidata.org/entity/Q744655'), ('sname', 'Chigi codex')]\n",
      "[('s', 'http://www.wikidata.org/entity/Q5140259'), ('sname', 'Codex Vaticanus Latinus 3868')]\n",
      "[('s', 'http://www.wikidata.org/entity/Q2758161'), ('sname', 'Gelasian Sacramentary')]\n",
      "[('s', 'http://www.wikidata.org/entity/Q594213'), ('sname', 'Aldobrandini Wedding')]\n",
      "[('s', 'http://www.wikidata.org/entity/Q2258615'), ('sname', 'Rossi Codex')]\n",
      "[('s', 'http://www.wikidata.org/entity/Q77464627'), ('sname', 'Cod. Palat. lat. 1074')]\n",
      "[('s', 'http://www.wikidata.org/entity/Q3656584'), ('sname', 'Canzoniere Vaticano latino 3793')]\n",
      "[('s', 'http://www.wikidata.org/entity/Q105962278'), ('sname', 'Dante Urbinate 365')]\n",
      "[('s', 'http://www.wikidata.org/entity/Q1180580'), ('sname', 'De arte venandi cum avibus')]\n",
      "[('s', 'http://www.wikidata.org/entity/Q956156'), ('sname', 'Lorsch Bee Blessing')]\n",
      "[('s', 'http://www.wikidata.org/entity/Q12274931'), ('sname', 'Vatican Palimpsest')]\n",
      "[('s', 'http://www.wikidata.org/entity/Q77464743'), ('sname', 'Apostolic Library Reg. 258')]\n",
      "[('s', 'http://www.wikidata.org/entity/Q29366989'), ('sname', 'Missale Gallicanum vetus - BAV Pal.lat.493')]\n"
     ]
    },
    {
     "data": {
      "text/plain": [
       "24"
      ]
     },
     "execution_count": 100,
     "metadata": {},
     "output_type": "execute_result"
    }
   ],
   "source": [
    "# location of a book.\n",
    "# `wd:Q213678`  | Vatican Library        | node |\n",
    "## [('p', 'http://www.wikidata.org/prop/direct/P195'), ('pname', 'collection')]\n",
    "## [('p', 'http://www.wikidata.org/prop/direct/P276'), ('pname', 'location')]\n",
    "# [('p', 'http://www.wikidata.org/prop/direct/P361'), ('pname', 'part of')]\n",
    "# [('p', 'http://www.wikidata.org/prop/direct/P485'), ('pname', 'archives at')]\n",
    "queryString = \"\"\"\n",
    "SELECT *\n",
    "WHERE { \n",
    "    #?s wdt:P195 wd:Q213678 .\n",
    "    ?s wdt:P276 wd:Q213678 .\n",
    "    #?s wdt:P361 wd:Q213678 .\n",
    "    #?s wdt:P485 wd:Q213678 .\n",
    "    \n",
    "    #labels\n",
    "    #?p <http://schema.org/name> ?pname .\n",
    "    ?s <http://schema.org/name> ?sname .\n",
    "    \n",
    "} \n",
    "LIMIT 25\n",
    "\"\"\"\n",
    "print(\"Results\")\n",
    "run_query(queryString)"
   ]
  },
  {
   "cell_type": "code",
   "execution_count": 101,
   "id": "efbc90a2-4679-471b-a85b-dcc703cfa231",
   "metadata": {},
   "outputs": [
    {
     "name": "stdout",
     "output_type": "stream",
     "text": [
      "Results\n",
      "[('s', 'http://www.wikidata.org/entity/Q101438843'), ('sname', 'Rossiana Library')]\n",
      "[('s', 'http://www.wikidata.org/entity/Q105426233'), ('sname', 'Chart of the World (copy) Inv. 5R')]\n",
      "[('s', 'http://www.wikidata.org/entity/Q105426133'), ('sname', 'Chart of the World (copy)')]\n"
     ]
    },
    {
     "data": {
      "text/plain": [
       "3"
      ]
     },
     "execution_count": 101,
     "metadata": {},
     "output_type": "execute_result"
    }
   ],
   "source": [
    "# a library of a book.\n",
    "\n",
    "# [('p', 'http://www.wikidata.org/prop/direct/P361'), ('pname', 'part of')]\n",
    "# [('p', 'http://www.wikidata.org/prop/direct/P485'), ('pname', 'archives at')]\n",
    "queryString = \"\"\"\n",
    "SELECT *\n",
    "WHERE { \n",
    "    #?s wdt:P195 wd:Q213678 .\n",
    "    #?s wdt:P276 wd:Q213678 .\n",
    "    ?s wdt:P361 wd:Q213678 .\n",
    "    #?s wdt:P485 wd:Q213678 .\n",
    "    \n",
    "    #labels\n",
    "    #?p <http://schema.org/name> ?pname .\n",
    "    ?s <http://schema.org/name> ?sname .\n",
    "    \n",
    "} \n",
    "LIMIT 25\n",
    "\"\"\"\n",
    "print(\"Results\")\n",
    "run_query(queryString)"
   ]
  },
  {
   "cell_type": "code",
   "execution_count": 102,
   "id": "24b22759-d104-48e1-8b1d-4438994f69a8",
   "metadata": {},
   "outputs": [
    {
     "name": "stdout",
     "output_type": "stream",
     "text": [
      "Results\n",
      "[('s', 'http://www.wikidata.org/entity/Q3057287'), ('sname', 'Ernst Steinmann')]\n"
     ]
    },
    {
     "data": {
      "text/plain": [
       "1"
      ]
     },
     "execution_count": 102,
     "metadata": {},
     "output_type": "execute_result"
    }
   ],
   "source": [
    "# [('p', 'http://www.wikidata.org/prop/direct/P485'), ('pname', 'archives at')]\n",
    "queryString = \"\"\"\n",
    "SELECT *\n",
    "WHERE { \n",
    "    #?s wdt:P195 wd:Q213678 .\n",
    "    #?s wdt:P276 wd:Q213678 .\n",
    "    #?s wdt:P361 wd:Q213678 .\n",
    "    ?s wdt:P485 wd:Q213678 .\n",
    "    \n",
    "    #labels\n",
    "    #?p <http://schema.org/name> ?pname .\n",
    "    ?s <http://schema.org/name> ?sname .\n",
    "    \n",
    "} \n",
    "LIMIT 25\n",
    "\"\"\"\n",
    "print(\"Results\")\n",
    "run_query(queryString)"
   ]
  },
  {
   "cell_type": "code",
   "execution_count": 103,
   "id": "e16b8710-c534-4954-979e-abc676a3b84d",
   "metadata": {},
   "outputs": [
    {
     "name": "stdout",
     "output_type": "stream",
     "text": [
      "Results\n",
      "[('publicationdate', '1904-01-01T00:00:00Z')]\n"
     ]
    },
    {
     "data": {
      "text/plain": [
       "1"
      ]
     },
     "execution_count": 103,
     "metadata": {},
     "output_type": "execute_result"
    }
   ],
   "source": [
    "queryString = \"\"\"\n",
    "SELECT *\n",
    "WHERE { \n",
    "\n",
    "   #wd:Q18223014 ?p ?o .\n",
    "    wd:Q18223014 wdt:P577 ?publicationdate .\n",
    "    # Labels\n",
    "    #?p <http://schema.org/name> ?pname .\n",
    "    #?o <http://schema.org/name> ?oname .\n",
    "\n",
    "} \n",
    "LIMIT 20\n",
    "\"\"\"\n",
    "\n",
    "print(\"Results\")\n",
    "run_query(queryString)"
   ]
  },
  {
   "cell_type": "code",
   "execution_count": 104,
   "id": "7a417e35-347b-4889-aa42-006392fbb976",
   "metadata": {},
   "outputs": [
    {
     "name": "stdout",
     "output_type": "stream",
     "text": [
      "Results\n",
      "[('bookname', 'To Satana'), ('book', 'http://www.wikidata.org/entity/Q15622813')]\n",
      "[('bookname', 'Barbarian Odes'), ('book', 'http://www.wikidata.org/entity/Q3880861')]\n",
      "[('bookname', 'Giosuè Carducci letter to Mario Rapisardi'), ('book', 'http://www.wikidata.org/entity/Q19143931')]\n",
      "[('bookname', 'Giambi ed Epodi'), ('book', 'http://www.wikidata.org/entity/Q3762440')]\n",
      "[('bookname', 'San Martino'), ('book', 'http://www.wikidata.org/entity/Q3947642')]\n",
      "[('bookname', 'The Reality of the Dream'), ('book', 'http://www.wikidata.org/entity/Q48802313')]\n",
      "[('bookname', 'Rime nuove'), ('book', 'http://www.wikidata.org/entity/Q3935849')]\n",
      "[('bookname', \"Gea's Easter\"), ('book', 'http://www.wikidata.org/entity/Q26702469')]\n",
      "[('bookname', 'The vice'), ('book', 'http://www.wikidata.org/entity/Q3823229')]\n",
      "[('bookname', 'Elias Portolu'), ('book', 'http://www.wikidata.org/entity/Q2528617')]\n"
     ]
    },
    {
     "data": {
      "text/plain": [
       "10"
      ]
     },
     "execution_count": 104,
     "metadata": {},
     "output_type": "execute_result"
    }
   ],
   "source": [
    "# The Literature Nobel winners from Italy and from the Kingdom of Italy.\n",
    "queryString = \"\"\"\n",
    "SELECT DISTINCT ?bookname ?book\n",
    "WHERE { \n",
    "    {?writer wdt:P27 wd:Q38 }\n",
    "    UNION { ?writer wdt:P27 wd:Q172579 } \n",
    "    ?writer wdt:P106 wd:Q36180 .\n",
    "    ?writer wdt:P27 ?citizen .\n",
    "    ?book wdt:P50 ?writer .\n",
    "    ?writer wdt:P166 ?award .\n",
    "    ?book wdt:P577 ?publicationdate .\n",
    "\n",
    "    #labels\n",
    "    ?award <http://schema.org/name> ?awardname .\n",
    "    ?writer <http://schema.org/name> ?writername .\n",
    "    ?book <http://schema.org/name> ?bookname .\n",
    "    ?citizen <http://schema.org/name> ?citizenname .\n",
    "    FILTER regex(?awardname, \"nobel\", \"i\") \n",
    "    \n",
    "} \n",
    "ORDER BY (?publicationdate)\n",
    "LIMIT 10\n",
    "\"\"\"\n",
    "print(\"Results\")\n",
    "run_query(queryString)\n"
   ]
  },
  {
   "cell_type": "code",
   "execution_count": 105,
   "id": "67f5c66a-ef5a-4fdc-81cd-e0e2e093277d",
   "metadata": {},
   "outputs": [
    {
     "name": "stdout",
     "output_type": "stream",
     "text": [
      "Results\n",
      "[('p', 'http://www.w3.org/1999/02/22-rdf-syntax-ns#type'), ('o', 'http://wikiba.se/ontology#Item')]\n",
      "[('p', 'http://www.wikidata.org/prop/direct-normalized/P2671'), ('o', 'http://g.co/kg/g/1229k_r3')]\n",
      "[('p', 'http://www.wikidata.org/prop/direct/P136'), ('o', 'http://www.wikidata.org/entity/Q8261')]\n",
      "[('p', 'http://www.wikidata.org/prop/direct/P1417'), ('o', 'topic/Elias-Portolu')]\n",
      "[('p', 'http://www.wikidata.org/prop/direct/P155'), ('o', 'http://www.wikidata.org/entity/Q4690699')]\n",
      "[('p', 'http://www.wikidata.org/prop/direct/P156'), ('o', 'http://www.wikidata.org/entity/Q18223014')]\n",
      "[('p', 'http://www.wikidata.org/prop/direct/P2671'), ('o', '/g/1229k_r3')]\n",
      "[('p', 'http://www.wikidata.org/prop/direct/P31'), ('o', 'http://www.wikidata.org/entity/Q47461344')]\n",
      "[('p', 'http://www.wikidata.org/prop/direct/P407'), ('o', 'http://www.wikidata.org/entity/Q652')]\n",
      "[('p', 'http://www.wikidata.org/prop/direct/P495'), ('o', 'http://www.wikidata.org/entity/Q38')]\n",
      "[('p', 'http://www.wikidata.org/prop/direct/P50'), ('o', 'http://www.wikidata.org/entity/Q7728')]\n",
      "[('p', 'http://www.wikidata.org/prop/direct/P571'), ('o', '1900-01-01T00:00:00Z')]\n",
      "[('p', 'http://www.wikidata.org/prop/direct/P577'), ('o', '1900-01-01T00:00:00Z')]\n",
      "[('p', 'http://www.wikidata.org/prop/direct/P6216'), ('o', 'http://www.wikidata.org/entity/Q19652')]\n",
      "[('p', 'http://www.wikidata.org/prop/direct/P747'), ('o', 'http://www.wikidata.org/entity/Q63439538')]\n",
      "[('p', 'http://schema.org/name'), ('o', 'Elias Portolu')]\n",
      "[('p', 'http://www.wikidata.org/prop/direct/P6175'), ('o', '4781')]\n"
     ]
    },
    {
     "data": {
      "text/plain": [
       "17"
      ]
     },
     "execution_count": 105,
     "metadata": {},
     "output_type": "execute_result"
    }
   ],
   "source": [
    "queryString = \"\"\"\n",
    "SELECT *\n",
    "WHERE { \n",
    "\n",
    "   wd:Q2528617 ?p ?o .\n",
    "    # Labels\n",
    "    #?p <http://schema.org/name> ?pname .\n",
    "    #?o <http://schema.org/name> ?oname .\n",
    "\n",
    "} \n",
    "LIMIT 20\n",
    "\"\"\"\n",
    "\n",
    "print(\"Results\")\n",
    "run_query(queryString)"
   ]
  },
  {
   "cell_type": "code",
   "execution_count": 106,
   "id": "9bc4832a-33ec-44ed-a787-1b482f124ba0",
   "metadata": {},
   "outputs": [
    {
     "name": "stdout",
     "output_type": "stream",
     "text": [
      "Results\n",
      "[('p', 'http://www.wikidata.org/entity/Q18223014'), ('o', 'http://www.wikidata.org/prop/direct/P155'), ('oname', 'follows')]\n",
      "[('p', 'http://www.wikidata.org/entity/Q7728'), ('o', 'http://www.wikidata.org/prop/direct/P800'), ('oname', 'notable work')]\n",
      "[('p', 'http://www.wikidata.org/entity/Q63439538'), ('o', 'http://www.wikidata.org/prop/direct/P629'), ('oname', 'edition or translation of')]\n"
     ]
    },
    {
     "data": {
      "text/plain": [
       "3"
      ]
     },
     "execution_count": 106,
     "metadata": {},
     "output_type": "execute_result"
    }
   ],
   "source": [
    "queryString = \"\"\"\n",
    "SELECT *\n",
    "WHERE { \n",
    "\n",
    "   ?p ?o wd:Q2528617 .\n",
    "    # Labels\n",
    "    \n",
    "    #?p <http://schema.org/name> ?pname .\n",
    "    ?o <http://schema.org/name> ?oname .\n",
    "} \n",
    "LIMIT 20\n",
    "\"\"\"\n",
    "\n",
    "print(\"Results\")\n",
    "run_query(queryString)"
   ]
  },
  {
   "cell_type": "markdown",
   "id": "82eccab7-082e-4a33-9073-18b0b981e251",
   "metadata": {},
   "source": [
    "### Countries "
   ]
  },
  {
   "cell_type": "code",
   "execution_count": 107,
   "id": "a2955986-cc91-4740-a8f4-ac2ff2c7508b",
   "metadata": {},
   "outputs": [
    {
     "name": "stdout",
     "output_type": "stream",
     "text": [
      "Results\n",
      "[('callret-0', '267673')]\n"
     ]
    },
    {
     "data": {
      "text/plain": [
       "1"
      ]
     },
     "execution_count": 107,
     "metadata": {},
     "output_type": "execute_result"
    }
   ],
   "source": [
    "#| `wd:Q38`      | Italy         | node |\n",
    "#| `wdt:P17`     | country       | predicate | \n",
    "queryString = \"\"\"\n",
    "SELECT COUNT (DISTINCT ?p)\n",
    "WHERE { \n",
    "\n",
    "    ?p wdt:P17 wd:Q38 .\n",
    "    # Labels\n",
    "    ?p <http://schema.org/name> ?pname .\n",
    "    #?o <http://schema.org/name> ?oname .\n",
    "    #FILTER regex(?pname, \"continent\", \"i\") \n",
    "} \n",
    "LIMIT 20\n",
    "\"\"\"\n",
    "\n",
    "print(\"Results\")\n",
    "run_query(queryString)"
   ]
  },
  {
   "cell_type": "code",
   "execution_count": 108,
   "id": "d843855c-ffd8-4df5-890c-b613a5c6060e",
   "metadata": {},
   "outputs": [
    {
     "name": "stdout",
     "output_type": "stream",
     "text": [
      "Results\n",
      "[('p', 'http://www.wikidata.org/entity/Q1144408'), ('pname', 'House of Pico della Mirandola')]\n",
      "[('p', 'http://www.wikidata.org/entity/Q3625430'), ('pname', 'Siege of Mirandola (1551)')]\n",
      "[('p', 'http://www.wikidata.org/entity/Q3625432'), ('pname', 'Siege of Mirandola (1510)')]\n",
      "[('p', 'http://www.wikidata.org/entity/Q42310167'), ('pname', 'Siege of Mirandola (1705)')]\n",
      "[('p', 'http://www.wikidata.org/entity/Q42883809'), ('pname', 'Siege of Mirandola (1321)')]\n",
      "[('p', 'http://www.wikidata.org/entity/Q42341887'), ('pname', 'Mirandola Mint')]\n",
      "[('p', 'http://www.wikidata.org/entity/Q61717757'), ('pname', 'Mirandola witch trials')]\n",
      "[('p', 'http://www.wikidata.org/entity/Q189326'), ('pname', 'Qajar dynasty')]\n",
      "[('p', 'http://www.wikidata.org/entity/Q5718239'), ('pname', 'Qajar architecture')]\n",
      "[('p', 'http://www.wikidata.org/entity/Q1072837'), ('pname', 'First Iranian national anthem')]\n",
      "[('p', 'http://www.wikidata.org/entity/Q15267557'), ('pname', 'Ispahsalar')]\n",
      "[('p', 'http://www.wikidata.org/entity/Q2864726'), ('pname', 'Qajar art')]\n",
      "[('p', 'http://www.wikidata.org/entity/Q5960201'), ('pname', 'Qajar Palace')]\n",
      "[('p', 'http://www.wikidata.org/entity/Q33111204'), ('pname', 'Sunni Muslims in Iran')]\n",
      "[('p', 'http://www.wikidata.org/entity/Q5962456'), ('pname', 'Mustawfi')]\n",
      "[('p', 'http://www.wikidata.org/entity/Q764038'), ('pname', 'Jungle Movement of Gilan')]\n",
      "[('p', 'http://www.wikidata.org/entity/Q30599852'), ('pname', 'Secret Society')]\n",
      "[('p', 'http://www.wikidata.org/entity/Q31069796'), ('pname', 'Mostowfian Ashtiani family')]\n",
      "[('p', 'http://www.wikidata.org/entity/Q19568301'), ('pname', '1962 in Iran')]\n",
      "[('p', 'http://www.wikidata.org/entity/Q19568370'), ('pname', '1970 in Iran')]\n"
     ]
    },
    {
     "data": {
      "text/plain": [
       "20"
      ]
     },
     "execution_count": 108,
     "metadata": {},
     "output_type": "execute_result"
    }
   ],
   "source": [
    "#| `wd:Q38`      | Italy         | node |\n",
    "#| `wdt:P17`     | country       | predicate | \n",
    "queryString = \"\"\"\n",
    "SELECT DISTINCT ?p ?pname\n",
    "WHERE { \n",
    "\n",
    "    ?p wdt:P17 ?o .\n",
    "    # Labels\n",
    "    ?p <http://schema.org/name> ?pname .\n",
    "    ?o <http://schema.org/name> ?oname .\n",
    "    FILTER regex(?oname, \"iran\", \"i\") \n",
    "} \n",
    "LIMIT 20\n",
    "\"\"\"\n",
    "\n",
    "print(\"Results\")\n",
    "run_query(queryString)"
   ]
  },
  {
   "cell_type": "code",
   "execution_count": 109,
   "id": "c0d6fa38-26e0-434e-9782-e28ba658b409",
   "metadata": {},
   "outputs": [
    {
     "name": "stdout",
     "output_type": "stream",
     "text": [
      "Results\n",
      "[('o', 'http://www.wikidata.org/entity/Q63158027'), ('oname', 'Qajar Iran')]\n"
     ]
    },
    {
     "data": {
      "text/plain": [
       "1"
      ]
     },
     "execution_count": 109,
     "metadata": {},
     "output_type": "execute_result"
    }
   ],
   "source": [
    "#| `wd:Q5960201`      | Qajar Iran        | node |\n",
    "#| `wdt:P17`     | country       | predicate | \n",
    "queryString = \"\"\"\n",
    "SELECT DISTINCT ?o ?oname\n",
    "WHERE { \n",
    "\n",
    "    wd:Q5960201 wdt:P17 ?o .\n",
    "    # Labels\n",
    "    #?p <http://schema.org/name> ?pname .\n",
    "    ?o <http://schema.org/name> ?oname .\n",
    "    #FILTER regex(?oname, \"iran\", \"i\") \n",
    "} \n",
    "LIMIT 20\n",
    "\"\"\"\n",
    "\n",
    "print(\"Results\")\n",
    "run_query(queryString)"
   ]
  },
  {
   "cell_type": "code",
   "execution_count": 110,
   "id": "9ca71d48-af80-4c25-9e1b-cedb08210ffb",
   "metadata": {},
   "outputs": [
    {
     "name": "stdout",
     "output_type": "stream",
     "text": [
      "Results\n",
      "[('o', 'http://www.wikidata.org/entity/Q794'), ('oname', 'Iran')]\n"
     ]
    },
    {
     "data": {
      "text/plain": [
       "1"
      ]
     },
     "execution_count": 110,
     "metadata": {},
     "output_type": "execute_result"
    }
   ],
   "source": [
    "#| `wd:Q5960201`      | Qajar Iran        | node |\n",
    "#| `wdt:P17`     | country       | predicate | \n",
    "queryString = \"\"\"\n",
    "SELECT DISTINCT ?o ?oname\n",
    "WHERE { \n",
    "\n",
    "    wd:Q19568301 wdt:P17 ?o .\n",
    "    # Labels\n",
    "    #?p <http://schema.org/name> ?pname .\n",
    "    ?o <http://schema.org/name> ?oname .\n",
    "    #FILTER regex(?oname, \"iran\", \"i\") \n",
    "} \n",
    "LIMIT 20\n",
    "\"\"\"\n",
    "\n",
    "print(\"Results\")\n",
    "run_query(queryString)"
   ]
  },
  {
   "cell_type": "code",
   "execution_count": 111,
   "id": "c2da99eb-5bf8-4892-a89c-7980144b3407",
   "metadata": {},
   "outputs": [
    {
     "name": "stdout",
     "output_type": "stream",
     "text": [
      "Results\n",
      "[('writername', 'Mehdi Khalaji'), ('booknames', 'Natani')]\n",
      "[('writername', 'Firoozeh Dumas'), ('booknames', 'Funny in Farsi')]\n",
      "[('writername', 'Manijeh Razeghi'), ('booknames', 'Active and passive infrared imager based on short-wave and mid-wave type-II superlattice dual-band detectors, Advances in mid-infrared detection and imaging: a key issues review., Al(x)Ga(1-x)N-based deep-ultraviolet 320×256 focal plane array, Author Correction: Radiative recombination of confined electrons at the MgZnO/ZnO heterojunction interface., Bias-selectable nBn dual-band long-/very long-wavelength infrared photodetectors based on InAs/InAs1-xSbx/AlAs1-xSbx type-II superlattices., Bias-selectable three-color short-, extended-short-, and mid-wavelength infrared photodetectors based on type-II InAs/GaSb/AlSb superlattices., Dark current reduction in microjunction-based double electron barrier type-II InAs/InAsSb superlattice long-wavelength infrared photodetectors., Demonstration of type-II superlattice MWIR minority carrier unipolar imager for high operation temperature application., High efficiency quantum cascade laser frequency comb., High performance bias-selectable three-color Short-wave/Mid-wave/Long-wave Infrared Photodetectors based on Type-II InAs/GaSb/AlSb superlattices., High power continuous wave operation of single mode quantum cascade lasers up to 5 W spanning λ∼3.8-8.3 µm, High-Performance InP-Based Mid-IR Quantum Cascade Lasers, High-power laser diodes based on InGaAsP alloys, High-power, continuous-wave, phase-locked quantum cascade laser arrays emitting at 8 µm, Highly selective two-color mid-wave and long-wave infrared detector hybrid based on Type-II superlattices, III-nitride photon counting avalanche photodiodes, Impact of scaling base thickness on the performance of heterojunction phototransistors., Improved performance of quantum cascade lasers through a scalable, manufacturable epitaxial-side-down mounting process, Low irradiance background limited type-II superlattice MWIR M-barrier imager., Monolithic beam steering in a mid-infrared, surface-emitting, photonic integrated circuit., Monolithically, widely tunable quantum cascade lasers based on a heterogeneous active region design, Nanoselective area growth of defect-free thick indium-rich InGaN nanostructures on sacrificial ZnO templates., Preface, QEPAS based ppb-level detection of CO and N2O using a high power CW DFB-QCL., Radiative recombination of confined electrons at the MgZnO/ZnO heterojunction interface., Recent progress of quantum cascade laser research from 3 to 12\\u2009\\u2009μm at the Center for Quantum Devices [Invited]., Room temperature continuous wave, monolithic tunable THz sources based on highly efficient mid-infrared quantum cascade lasers., Room temperature terahertz semiconductor frequency comb., Single-mode, high-power, mid-infrared, quantum cascade laser phased arrays, Strain-Induced Metastable Phase Stabilization in Ga2O3 Thin Films, Surface Emitting, Tunable, Mid-Infrared Laser with High Output Power and Stable Output Beam, Type-II superlattice dual-band LWIR imager with M-barrier and Fabry-Perot resonance., Type-II superlattice-based extended short-wavelength infrared focal plane array with an AlAsSb/GaSb superlattice etch-stop layer to allow near-visible light detection., Type-II superlattices base visible/extended short-wavelength infrared photodetectors with a bandstructure-engineered photo-generated carrier extractor, nBn extended short-wavelength infrared focal plane array.')]\n",
      "[('writername', 'Hassan Rouhani'), ('booknames', 'National Security and Nuclear Diplomacy, The flexibility of Shariah (Islamic law) with reference to the Iranian experience')]\n",
      "[('writername', 'Jian Ghomeshi'), ('booknames', '1982')]\n"
     ]
    },
    {
     "data": {
      "text/plain": [
       "5"
      ]
     },
     "execution_count": 111,
     "metadata": {},
     "output_type": "execute_result"
    }
   ],
   "source": [
    "## all Qajar authors. find where is their books now?\n",
    "queryString = \"\"\"\n",
    "SELECT DISTINCT ?writername (GROUP_CONCAT(DISTINCT ?bookname; SEPARATOR=\", \") AS ?booknames)\n",
    "WHERE { \n",
    "    ?writer wdt:P27 wd:Q794 .\n",
    "    ?writer wdt:P106 wd:Q36180 .\n",
    "    #?writer wdt:P27 ?citizen .\n",
    "    \n",
    "    ?book wdt:P50 ?writer .\n",
    "    ?book wdt:P577 ?time .\n",
    "    #FILTER(\"1972-01-01\"^^xsd:dateTime <= ?time && ?time < \"2022-01-01\"^^xsd:dateTime).\n",
    "    #labels\n",
    "    \n",
    "    ?writer <http://schema.org/name> ?writername .\n",
    "    ?book <http://schema.org/name> ?bookname .\n",
    "} \n",
    "LIMIT 5\n",
    "\"\"\"\n",
    "print(\"Results\")\n",
    "run_query(queryString)"
   ]
  },
  {
   "cell_type": "code",
   "execution_count": 112,
   "id": "fb7a8f5e-3000-494e-8ecb-6d16f7709046",
   "metadata": {},
   "outputs": [
    {
     "name": "stdout",
     "output_type": "stream",
     "text": [
      "Results\n",
      "[('bookname', 'Kitáb-i-Íqán')]\n",
      "[('bookname', 'Akhbar Nameh')]\n",
      "[('bookname', 'The Seven Valleys')]\n",
      "[('bookname', 'Fire Tablet')]\n"
     ]
    },
    {
     "data": {
      "text/plain": [
       "4"
      ]
     },
     "execution_count": 112,
     "metadata": {},
     "output_type": "execute_result"
    }
   ],
   "source": [
    "## all Qajar authors. find where is their books now?\n",
    "queryString = \"\"\"\n",
    "SELECT DISTINCT ?bookname\n",
    "WHERE { \n",
    "    ?writer wdt:P27 wd:Q63158027 .\n",
    "    ?writer wdt:P106 wd:Q36180 .\n",
    "    #?writer wdt:P27 ?citizen .\n",
    "    \n",
    "    ?book wdt:P50 ?writer .\n",
    "    ?book wdt:P577 ?time .\n",
    "    #FILTER(\"1972-01-01\"^^xsd:dateTime <= ?time && ?time < \"2022-01-01\"^^xsd:dateTime).\n",
    "    #labels\n",
    "    \n",
    "    ?writer <http://schema.org/name> ?writername .\n",
    "    ?book <http://schema.org/name> ?bookname .\n",
    "} \n",
    "LIMIT 4\n",
    "\"\"\"\n",
    "print(\"Results\")\n",
    "run_query(queryString)"
   ]
  },
  {
   "cell_type": "code",
   "execution_count": 113,
   "id": "1b5f3213-5c30-4527-ab94-ea0d75b49821",
   "metadata": {},
   "outputs": [
    {
     "name": "stdout",
     "output_type": "stream",
     "text": [
      "Results\n",
      "[('writer', 'http://www.wikidata.org/entity/Q2298313'), ('writername', 'Reza Aslan'), ('book', 'http://www.wikidata.org/entity/Q16171363'), ('citizenname', 'Iran')]\n",
      "[('writer', 'http://www.wikidata.org/entity/Q5959526'), ('writername', 'Mohammad Reza Sarshar'), ('book', 'http://www.wikidata.org/entity/Q17082322'), ('citizenname', 'Iran')]\n",
      "[('writer', 'http://www.wikidata.org/entity/Q19629541'), ('writername', 'Manijeh Razeghi'), ('book', 'http://www.wikidata.org/entity/Q33237001'), ('citizenname', 'Ireland')]\n",
      "[('writer', 'http://www.wikidata.org/entity/Q19629541'), ('writername', 'Manijeh Razeghi'), ('book', 'http://www.wikidata.org/entity/Q33237001'), ('citizenname', 'United States of America')]\n",
      "[('writer', 'http://www.wikidata.org/entity/Q19629541'), ('writername', 'Manijeh Razeghi'), ('book', 'http://www.wikidata.org/entity/Q33237001'), ('citizenname', 'Iran')]\n"
     ]
    },
    {
     "data": {
      "text/plain": [
       "5"
      ]
     },
     "execution_count": 113,
     "metadata": {},
     "output_type": "execute_result"
    }
   ],
   "source": [
    "#\n",
    "queryString = \"\"\"\n",
    "SELECT DISTINCT ?writer ?writername ?book ?citizenname\n",
    "WHERE { \n",
    "    ?writer wdt:P27 wd:Q794 .\n",
    "    ?writer wdt:P106 wd:Q36180 .\n",
    "    ?writer wdt:P27 ?citizen .\n",
    "    \n",
    "    ?book wdt:P50 ?writer .\n",
    "    ?book wdt:P577 ?time .\n",
    "    #FILTER(\"1972-01-01\"^^xsd:dateTime <= ?time && ?time < \"2022-01-01\"^^xsd:dateTime).\n",
    "    #labels\n",
    "    \n",
    "    ?writer <http://schema.org/name> ?writername .\n",
    "    ?book <http://schema.org/name> ?bookname .\n",
    "    ?citizen <http://schema.org/name>  ?citizenname .\n",
    "} \n",
    "LIMIT 5\n",
    "\"\"\"\n",
    "print(\"Results\")\n",
    "run_query(queryString)"
   ]
  },
  {
   "cell_type": "code",
   "execution_count": 114,
   "id": "899731e3-ecba-4937-8f18-1a3a99baa212",
   "metadata": {},
   "outputs": [
    {
     "name": "stdout",
     "output_type": "stream",
     "text": [
      "Results\n",
      "[('p', 'http://www.wikidata.org/prop/direct/P106'), ('o', 'http://www.wikidata.org/entity/Q1622272'), ('pname', 'occupation'), ('oname', 'university teacher')]\n",
      "[('p', 'http://www.wikidata.org/prop/direct/P106'), ('o', 'http://www.wikidata.org/entity/Q169470'), ('pname', 'occupation'), ('oname', 'physicist')]\n",
      "[('p', 'http://www.wikidata.org/prop/direct/P106'), ('o', 'http://www.wikidata.org/entity/Q36180'), ('pname', 'occupation'), ('oname', 'writer')]\n",
      "[('p', 'http://www.wikidata.org/prop/direct/P106'), ('o', 'http://www.wikidata.org/entity/Q81096'), ('pname', 'occupation'), ('oname', 'engineer')]\n",
      "[('p', 'http://www.wikidata.org/prop/direct/P106'), ('o', 'http://www.wikidata.org/entity/Q901'), ('pname', 'occupation'), ('oname', 'scientist')]\n"
     ]
    },
    {
     "data": {
      "text/plain": [
       "5"
      ]
     },
     "execution_count": 114,
     "metadata": {},
     "output_type": "execute_result"
    }
   ],
   "source": [
    "# occupation\n",
    "queryString = \"\"\"\n",
    "SELECT *\n",
    "WHERE { \n",
    "\n",
    "    wd:Q19629541 ?p ?o .\n",
    "    # Labels\n",
    "    ?p <http://schema.org/name> ?pname .\n",
    "    ?o <http://schema.org/name> ?oname .\n",
    "    FILTER regex(?pname, \"occ\", \"i\") \n",
    "} \n",
    "LIMIT 20\n",
    "\"\"\"\n",
    "\n",
    "print(\"Results\")\n",
    "run_query(queryString)\n",
    "\n",
    "## wdt:P106"
   ]
  },
  {
   "cell_type": "code",
   "execution_count": 115,
   "id": "fa41a641-fa67-4ca1-8b45-f8ff514ba348",
   "metadata": {},
   "outputs": [
    {
     "name": "stdout",
     "output_type": "stream",
     "text": [
      "Results\n",
      "[('writer', 'http://www.wikidata.org/entity/Q2298313'), ('writername', 'Reza Aslan'), ('book', 'http://www.wikidata.org/entity/Q16171363')]\n",
      "[('writer', 'http://www.wikidata.org/entity/Q5959526'), ('writername', 'Mohammad Reza Sarshar'), ('book', 'http://www.wikidata.org/entity/Q17082322')]\n",
      "[('writer', 'http://www.wikidata.org/entity/Q19629541'), ('writername', 'Manijeh Razeghi'), ('book', 'http://www.wikidata.org/entity/Q33237001')]\n",
      "[('writer', 'http://www.wikidata.org/entity/Q803646'), ('writername', 'Bahram Bayzai'), ('book', 'http://www.wikidata.org/entity/Q20110094')]\n",
      "[('writer', 'http://www.wikidata.org/entity/Q19629541'), ('writername', 'Manijeh Razeghi'), ('book', 'http://www.wikidata.org/entity/Q28828505')]\n"
     ]
    },
    {
     "data": {
      "text/plain": [
       "5"
      ]
     },
     "execution_count": 115,
     "metadata": {},
     "output_type": "execute_result"
    }
   ],
   "source": [
    "## all Qajar authors. find where is their books now?\n",
    "queryString = \"\"\"\n",
    "SELECT DISTINCT ?writer ?writername ?book\n",
    "WHERE { \n",
    "    ?writer wdt:P27 wd:Q794 .\n",
    "    ?writer wdt:P106 wd:Q36180 .\n",
    "    #?writer wdt:P27 ?citizen .\n",
    "    \n",
    "    ?book wdt:P50 ?writer .\n",
    "    ?book wdt:P577 ?time .\n",
    "    #FILTER(\"1972-01-01\"^^xsd:dateTime <= ?time && ?time < \"2022-01-01\"^^xsd:dateTime).\n",
    "    #labels\n",
    "    \n",
    "    ?writer <http://schema.org/name> ?writername .\n",
    "    ?book <http://schema.org/name> ?bookname .\n",
    "} \n",
    "LIMIT 5\n",
    "\"\"\"\n",
    "print(\"Results\")\n",
    "run_query(queryString)"
   ]
  },
  {
   "cell_type": "code",
   "execution_count": 116,
   "id": "8ef60adb-4647-4a8b-8517-bfd1044fb5ff",
   "metadata": {},
   "outputs": [
    {
     "name": "stdout",
     "output_type": "stream",
     "text": [
      "Results\n",
      "[('p', 'http://www.wikidata.org/prop/direct/P932'), ('o', '4897645'), ('pname', 'PMCID')]\n",
      "[('p', 'http://www.wikidata.org/prop/direct/P304'), ('o', '25213'), ('pname', 'page(s)')]\n",
      "[('p', 'http://www.wikidata.org/prop/direct/P478'), ('o', '6'), ('pname', 'volume')]\n",
      "[('p', 'http://www.wikidata.org/prop/direct/P3181'), ('o', '940447'), ('pname', 'OpenCitations bibliographic resource ID')]\n",
      "[('p', 'http://www.wikidata.org/prop/direct/P356'), ('o', '10.1038/SREP25213'), ('pname', 'DOI')]\n",
      "[('p', 'http://www.wikidata.org/prop/direct/P2093'), ('o', 'Neelanjan Bandyopadhyay'), ('pname', 'author name string')]\n",
      "[('p', 'http://www.wikidata.org/prop/direct/P2093'), ('o', 'Ryan McClintock'), ('pname', 'author name string')]\n",
      "[('p', 'http://www.wikidata.org/prop/direct/P2860'), ('o', 'http://www.wikidata.org/entity/Q35629464'), ('pname', 'cites work')]\n",
      "[('p', 'http://www.wikidata.org/prop/direct/P2860'), ('o', 'http://www.wikidata.org/entity/Q35773460'), ('pname', 'cites work')]\n",
      "[('p', 'http://www.wikidata.org/prop/direct/P2860'), ('o', 'http://www.wikidata.org/entity/Q35090947'), ('pname', 'cites work')]\n",
      "[('p', 'http://www.wikidata.org/prop/direct/P2860'), ('o', 'http://www.wikidata.org/entity/Q28242889'), ('pname', 'cites work')]\n",
      "[('p', 'http://www.wikidata.org/prop/direct/P2860'), ('o', 'http://www.wikidata.org/entity/Q35700266'), ('pname', 'cites work')]\n",
      "[('p', 'http://www.wikidata.org/prop/direct/P1476'), ('o', 'Monolithically, widely tunable quantum cascade lasers based on a heterogeneous active region design'), ('pname', 'title')]\n",
      "[('p', 'http://www.wikidata.org/prop/direct/P2888'), ('o', 'https://scigraph.springernature.com/pub.10.1038/srep25213'), ('pname', 'exact match')]\n",
      "[('p', 'http://www.wikidata.org/prop/direct/P31'), ('o', 'http://www.wikidata.org/entity/Q13442814'), ('pname', 'instance of')]\n",
      "[('p', 'http://www.wikidata.org/prop/direct/P407'), ('o', 'http://www.wikidata.org/entity/Q1860'), ('pname', 'language of work or name')]\n",
      "[('p', 'http://www.wikidata.org/prop/direct/P50'), ('o', 'http://www.wikidata.org/entity/Q19629541'), ('pname', 'author')]\n",
      "[('p', 'http://www.wikidata.org/prop/direct/P50'), ('o', 'http://www.wikidata.org/entity/Q92077152'), ('pname', 'author')]\n",
      "[('p', 'http://www.wikidata.org/prop/direct/P50'), ('o', 'http://www.wikidata.org/entity/Q61471210'), ('pname', 'author')]\n",
      "[('p', 'http://www.wikidata.org/prop/direct/P577'), ('o', '2016-06-08T00:00:00Z'), ('pname', 'publication date')]\n"
     ]
    },
    {
     "data": {
      "text/plain": [
       "20"
      ]
     },
     "execution_count": 116,
     "metadata": {},
     "output_type": "execute_result"
    }
   ],
   "source": [
    "# find the location of their books.\n",
    "# show different citizenships of these writers and their occupation.\n",
    "# [('writername', 'Manijeh Razeghi'), ('book', 'http://www.wikidata.org/entity/Q28828505')]\n",
    "# then find the location of their books.\n",
    "queryString = \"\"\"\n",
    "SELECT *\n",
    "WHERE { \n",
    "\n",
    "    wd:Q28828505 ?p ?o .\n",
    "    # Labels\n",
    "    ?p <http://schema.org/name> ?pname .\n",
    "    #?o <http://schema.org/name> ?oname .\n",
    "    #FILTER regex(?pname, \"ww\", \"i\") \n",
    "} \n",
    "LIMIT 20\n",
    "\"\"\"\n",
    "\n",
    "print(\"Results\")\n",
    "run_query(queryString)\n"
   ]
  },
  {
   "cell_type": "code",
   "execution_count": 117,
   "id": "7c1a5334-8b85-4326-bf21-fc7f0f1b86fd",
   "metadata": {},
   "outputs": [
    {
     "name": "stdout",
     "output_type": "stream",
     "text": [
      "Results\n",
      "[('callret-0', '16')]\n"
     ]
    },
    {
     "data": {
      "text/plain": [
       "1"
      ]
     },
     "execution_count": 117,
     "metadata": {},
     "output_type": "execute_result"
    }
   ],
   "source": [
    "# find the location of their books.\n",
    "# show different citizenships of these writers and their occupation.\n",
    "# [('writername', 'Manijeh Razeghi'), ('book', 'http://www.wikidata.org/entity/Q28828505')]\n",
    "\n",
    "queryString = \"\"\"\n",
    "SELECT COUNT(DISTINCT ?p)\n",
    "WHERE { \n",
    "\n",
    "    wd:Q28828505 ?p ?o .\n",
    "    # Labels\n",
    "    ?p <http://schema.org/name> ?pname .\n",
    "    #?o <http://schema.org/name> ?oname .\n",
    "    #FILTER regex(?pname, \"ww\", \"i\") \n",
    "} \n",
    "LIMIT 20\n",
    "\"\"\"\n",
    "\n",
    "print(\"Results\")\n",
    "run_query(queryString)\n"
   ]
  },
  {
   "cell_type": "code",
   "execution_count": 118,
   "id": "2c56b5cb-9020-4fa3-8bee-c458990cf916",
   "metadata": {},
   "outputs": [
    {
     "name": "stdout",
     "output_type": "stream",
     "text": [
      "Results\n",
      "[('p', 'http://www.wikidata.org/prop/direct/P932'), ('pname', 'PMCID')]\n",
      "[('p', 'http://www.wikidata.org/prop/direct/P304'), ('pname', 'page(s)')]\n",
      "[('p', 'http://www.wikidata.org/prop/direct/P478'), ('pname', 'volume')]\n",
      "[('p', 'http://www.wikidata.org/prop/direct/P3181'), ('pname', 'OpenCitations bibliographic resource ID')]\n",
      "[('p', 'http://www.wikidata.org/prop/direct/P356'), ('pname', 'DOI')]\n",
      "[('p', 'http://www.wikidata.org/prop/direct/P2093'), ('pname', 'author name string')]\n",
      "[('p', 'http://www.wikidata.org/prop/direct/P2860'), ('pname', 'cites work')]\n",
      "[('p', 'http://www.wikidata.org/prop/direct/P1476'), ('pname', 'title')]\n",
      "[('p', 'http://www.wikidata.org/prop/direct/P2888'), ('pname', 'exact match')]\n",
      "[('p', 'http://www.wikidata.org/prop/direct/P31'), ('pname', 'instance of')]\n",
      "[('p', 'http://www.wikidata.org/prop/direct/P407'), ('pname', 'language of work or name')]\n",
      "[('p', 'http://www.wikidata.org/prop/direct/P50'), ('pname', 'author')]\n",
      "[('p', 'http://www.wikidata.org/prop/direct/P577'), ('pname', 'publication date')]\n",
      "[('p', 'http://www.wikidata.org/prop/direct/P1433'), ('pname', 'published in')]\n",
      "[('p', 'http://www.wikidata.org/prop/direct/P698'), ('pname', 'PubMed ID')]\n",
      "[('p', 'http://www.wikidata.org/prop/direct/P6179'), ('pname', 'Dimensions Publication ID')]\n"
     ]
    },
    {
     "data": {
      "text/plain": [
       "16"
      ]
     },
     "execution_count": 118,
     "metadata": {},
     "output_type": "execute_result"
    }
   ],
   "source": [
    "# show different citizenships of these writers and their occupation.\n",
    "# [('writername', 'Manijeh Razeghi'), ('book', 'http://www.wikidata.org/entity/Q28828505')]\n",
    "# show the place the book is published.\n",
    "queryString = \"\"\"\n",
    "SELECT DISTINCT ?p ?pname\n",
    "WHERE { \n",
    "\n",
    "    wd:Q28828505 ?p ?o .\n",
    "    # Labels\n",
    "    ?p <http://schema.org/name> ?pname .\n",
    "    #?o <http://schema.org/name> ?oname .\n",
    "    #FILTER regex(?pname, \"ww\", \"i\") \n",
    "} \n",
    "LIMIT 20\n",
    "\"\"\"\n",
    "\n",
    "print(\"Results\")\n",
    "run_query(queryString)\n"
   ]
  },
  {
   "cell_type": "markdown",
   "id": "2652efdc-022b-4617-8cc4-5e94e5ea917a",
   "metadata": {},
   "source": [
    "### Show different citizenships of Iranian writers and their occupation and count their citizenships."
   ]
  },
  {
   "cell_type": "code",
   "execution_count": 119,
   "id": "2014c485-d232-48c3-b1f1-04643e8ca2d4",
   "metadata": {},
   "outputs": [
    {
     "name": "stdout",
     "output_type": "stream",
     "text": [
      "Results\n",
      "[('writername', 'Mehdi Khalaji'), ('booknames', 'Natani'), ('occupationnames', 'blogger, journalist, linguist, novelist, translator, writer'), ('citizennames', 'Iran')]\n",
      "[('writername', 'Firoozeh Dumas'), ('booknames', 'Funny in Farsi'), ('occupationnames', 'biographer, writer'), ('citizennames', 'Iran, United States of America')]\n",
      "[('writername', 'Manijeh Razeghi'), ('booknames', 'Active and passive infrared imager based on short-wave and mid-wave type-II superlattice dual-band detectors, Advances in mid-infrared detection and imaging: a key issues review., Al(x)Ga(1-x)N-based deep-ultraviolet 320×256 focal plane array, Author Correction: Radiative recombination of confined electrons at the MgZnO/ZnO heterojunction interface., Bias-selectable nBn dual-band long-/very long-wavelength infrared photodetectors based on InAs/InAs1-xSbx/AlAs1-xSbx type-II superlattices., Bias-selectable three-color short-, extended-short-, and mid-wavelength infrared photodetectors based on type-II InAs/GaSb/AlSb superlattices., Dark current reduction in microjunction-based double electron barrier type-II InAs/InAsSb superlattice long-wavelength infrared photodetectors., Demonstration of type-II superlattice MWIR minority carrier unipolar imager for high operation temperature application., High efficiency quantum cascade laser frequency comb., High performance bias-selectable three-color Short-wave/Mid-wave/Long-wave Infrared Photodetectors based on Type-II InAs/GaSb/AlSb superlattices., High power continuous wave operation of single mode quantum cascade lasers up to 5 W spanning λ∼3.8-8.3 µm, High-Performance InP-Based Mid-IR Quantum Cascade Lasers, High-power laser diodes based on InGaAsP alloys, High-power, continuous-wave, phase-locked quantum cascade laser arrays emitting at 8 µm, Highly selective two-color mid-wave and long-wave infrared detector hybrid based on Type-II superlattices, III-nitride photon counting avalanche photodiodes, Impact of scaling base thickness on the performance of heterojunction phototransistors., Improved performance of quantum cascade lasers through a scalable, manufacturable epitaxial-side-down mounting process, Low irradiance background limited type-II superlattice MWIR M-barrier imager., Monolithic beam steering in a mid-infrared, surface-emitting, photonic integrated circuit., Monolithically, widely tunable quantum cascade lasers based on a heterogeneous active region design, Nanoselective area growth of defect-free thick indium-rich InGaN nanostructures on sacrificial ZnO templates., Preface, QEPAS based ppb-level detection of CO and N2O using a high power CW DFB-QCL., Radiative recombination of confined electrons at the MgZnO/ZnO heterojunction interface., Recent progress of quantum cascade laser research from 3 to 12\\u2009\\u2009μm at the Center for Quantum Devices [Invited]., Room temperature continuous wave, monolithic tunable THz sources based on highly efficient mid-infrared quantum cascade lasers., Room temperature terahertz semiconductor frequency comb., Single-mode, high-power, mid-infrared, quantum cascade laser phased arrays, Strain-Induced Metastable Phase Stabilization in Ga2O3 Thin Films, Surface Emitting, Tunable, Mid-Infrared Laser with High Output Power and Stable Output Beam, Type-II superlattice dual-band LWIR imager with M-barrier and Fabry-Perot resonance., Type-II superlattice-based extended short-wavelength infrared focal plane array with an AlAsSb/GaSb superlattice etch-stop layer to allow near-visible light detection., Type-II superlattices base visible/extended short-wavelength infrared photodetectors with a bandstructure-engineered photo-generated carrier extractor, nBn extended short-wavelength infrared focal plane array.'), ('occupationnames', 'engineer, physicist, scientist, university teacher, writer'), ('citizennames', 'Iran, Ireland, United States of America')]\n",
      "[('writername', 'Hassan Rouhani'), ('booknames', 'National Security and Nuclear Diplomacy, The flexibility of Shariah (Islamic law) with reference to the Iranian experience'), ('occupationnames', 'cleric, diplomat, lawyer, politician, writer'), ('citizennames', 'Iran')]\n",
      "[('writername', 'Jian Ghomeshi'), ('booknames', '1982'), ('occupationnames', 'musician, podcaster, radio personality, songwriter, street artist, writer'), ('citizennames', 'Canada, Iran')]\n"
     ]
    },
    {
     "data": {
      "text/plain": [
       "5"
      ]
     },
     "execution_count": 119,
     "metadata": {},
     "output_type": "execute_result"
    }
   ],
   "source": [
    "queryString = \"\"\"\n",
    "SELECT DISTINCT ?writername \n",
    "(GROUP_CONCAT(DISTINCT ?bookname; SEPARATOR=\", \") AS ?booknames)\n",
    "(GROUP_CONCAT(DISTINCT ?occupationname; SEPARATOR=\", \") AS ?occupationnames)\n",
    "(GROUP_CONCAT(DISTINCT ?citizenname; SEPARATOR=\", \") AS ?citizennames)\n",
    "WHERE { \n",
    "    ?writer wdt:P27 wd:Q794 .\n",
    "    ?writer wdt:P106 wd:Q36180 .\n",
    "    ?writer wdt:P27 ?citizen .\n",
    "    ?writer wdt:P106 ?occupation .\n",
    "    ?book wdt:P50 ?writer .\n",
    "    ?book wdt:P577 ?time .\n",
    "    #FILTER(\"1972-01-01\"^^xsd:dateTime <= ?time && ?time < \"2022-01-01\"^^xsd:dateTime).\n",
    "    #labels\n",
    "    \n",
    "    ?writer <http://schema.org/name> ?writername .\n",
    "    ?book <http://schema.org/name> ?bookname .\n",
    "    ?citizen <http://schema.org/name>  ?citizenname .\n",
    "    ?occupation <http://schema.org/name> ?occupationname .\n",
    "} \n",
    "LIMIT 5\n",
    "\"\"\"\n",
    "print(\"Results\")\n",
    "run_query(queryString)"
   ]
  },
  {
   "cell_type": "markdown",
   "id": "dc4150b1-4698-45e7-82ca-8d4902756e95",
   "metadata": {},
   "source": [
    "### Show different citizenships of Italian and French writers and their occupation and count their citizenships."
   ]
  },
  {
   "cell_type": "code",
   "execution_count": 120,
   "id": "f904c535-ddc2-44cc-a1d0-765c4f3bd192",
   "metadata": {},
   "outputs": [
    {
     "name": "stdout",
     "output_type": "stream",
     "text": [
      "Results\n",
      "[('writername', 'Romain Gary'), ('booknames', 'Europa'), ('occupationnames', 'French Resistance fighter, aircraft pilot, diplomat, film director, jurist, novelist, politician, science fiction writer, screenwriter, translator, writer'), ('citizennames', 'France, Poland, Russian Empire')]\n",
      "[('writername', 'Simone de Beauvoir'), ('booknames', 'Adieux: A Farewell to Sartre'), ('occupationnames', 'author, autobiographer, diarist, essayist, journalist, literary critic, novelist, philosopher, political activist, political philosopher, women letter writer, writer'), ('citizennames', 'France')]\n",
      "[('writername', 'Pierre Versins'), ('booknames', 'Encyclopedia of utopia, extraordinary journeys and science fiction'), ('occupationnames', 'essayist, publisher, science fiction writer, writer'), ('citizennames', 'France')]\n",
      "[('writername', 'Manlio Cancogni'), ('booknames', 'Allegri, gioventù'), ('occupationnames', 'journalist, writer'), ('citizennames', 'Italy, Kingdom of Italy')]\n",
      "[('writername', 'Giuseppe Berto'), ('booknames', 'Oh, Serafinaǃ (romanzo)'), ('occupationnames', 'film director, screenwriter, writer'), ('citizennames', 'Italy, Kingdom of Italy')]\n",
      "[('writername', 'Joseph Joffo'), ('booknames', 'A Bag of Marbles'), ('occupationnames', 'actor, businessperson, novelist, screenwriter, writer'), ('citizennames', 'France')]\n",
      "[('writername', 'Giuseppe Marchiori'), ('booknames', 'La sculpture de Berrocal / Giuseppe Marchiori. - 1973'), ('occupationnames', 'art critic, art historian, writer'), ('citizennames', 'Italy, Kingdom of Italy')]\n",
      "[('writername', 'Sławomir Mrożek'), ('booknames', 'Tango'), ('occupationnames', 'author, diarist, journalist, painter, playwright, science fiction writer, writer'), ('citizennames', 'France, Poland')]\n",
      "[('writername', 'Ambrogio Fogar'), ('booknames', 'Il mio Atlantico'), ('occupationnames', 'adventurer, amateur radio operator, explorer, race car driver, sailor, television presenter, writer'), ('citizennames', 'Italy, Kingdom of Italy')]\n",
      "[('writername', 'Orderic Vitalis'), ('booknames', 'The Ecclesiastical History of Orderic Vitalis, IV: Books VII and VIII'), ('occupationnames', 'chronicler, historian, monk, writer'), ('citizennames', 'France')]\n"
     ]
    },
    {
     "data": {
      "text/plain": [
       "10"
      ]
     },
     "execution_count": 120,
     "metadata": {},
     "output_type": "execute_result"
    }
   ],
   "source": [
    "queryString = \"\"\"\n",
    "SELECT ?writername \n",
    "(GROUP_CONCAT(DISTINCT ?bookname; SEPARATOR=\", \") AS ?booknames)\n",
    "(GROUP_CONCAT(DISTINCT ?occupationname; SEPARATOR=\", \") AS ?occupationnames)\n",
    "(GROUP_CONCAT(DISTINCT ?citizenname; SEPARATOR=\", \") AS ?citizennames)\n",
    "WHERE { \n",
    "    {?writer wdt:P27 wd:Q38 }\n",
    "    UNION\n",
    "    {?writer wdt:P27 wd:Q142 }\n",
    "    UNION { ?writer wdt:P27 wd:Q172579 } \n",
    "    ?writer wdt:P106 wd:Q36180 .\n",
    "    ?writer wdt:P27 ?citizen .\n",
    "    ?writer wdt:P106 ?occupation .\n",
    "    ?book wdt:P50 ?writer .\n",
    "    ?book wdt:P577 ?time .\n",
    "    FILTER(\"1972-01-01\"^^xsd:dateTime <= ?time && ?time < \"2022-01-01\"^^xsd:dateTime).\n",
    "    #labels\n",
    "    ?book <http://schema.org/name> ?bookname .\n",
    "    ?writer <http://schema.org/name> ?writername .\n",
    "    ?citizen <http://schema.org/name> ?citizenname .\n",
    "    ?occupation <http://schema.org/name> ?occupationname .\n",
    "} \n",
    "ORDER BY (?time)\n",
    "LIMIT 10\n",
    "\"\"\"\n",
    "print(\"Results\")\n",
    "run_query(queryString)\n"
   ]
  },
  {
   "cell_type": "code",
   "execution_count": 121,
   "id": "cdbc4b9b-7a50-4519-85d0-255b38d0a7fc",
   "metadata": {},
   "outputs": [],
   "source": [
    "### Vatican Library. "
   ]
  },
  {
   "cell_type": "code",
   "execution_count": 122,
   "id": "1c41f389-0c38-4a8d-8365-3b9ddd991a2d",
   "metadata": {},
   "outputs": [
    {
     "name": "stdout",
     "output_type": "stream",
     "text": [
      "Results\n",
      "[('bookname', 'Le Feu'), ('writername', \"Gabriele D'Annunzio\"), ('publishedinname', 'Revue de Paris')]\n",
      "[('bookname', 'First Night'), ('writername', 'Luigi Pirandello'), ('publishedinname', '1900')]\n",
      "[('bookname', 'A Turkish Peasant'), ('writername', 'Cristina Trivulzio Belgiojoso'), ('publishedinname', 'Revue des Deux Mondes')]\n"
     ]
    },
    {
     "data": {
      "text/plain": [
       "3"
      ]
     },
     "execution_count": 122,
     "metadata": {},
     "output_type": "execute_result"
    }
   ],
   "source": [
    "\n",
    "queryString = \"\"\"\n",
    "SELECT DISTINCT ?bookname ?writername ?publishedinname\n",
    "WHERE { \n",
    "    {?writer wdt:P27 wd:Q38 }\n",
    "    UNION { ?writer wdt:P27 wd:Q172579 } \n",
    "    ?writer wdt:P106 wd:Q36180 .\n",
    "    \n",
    "    ?book wdt:P50 ?writer .\n",
    "    ?book wdt:P6216 wd:Q19652 .\n",
    "    ?book wdt:P1433 ?publishedin .\n",
    "    ?book wdt:P577 ?time .\n",
    "    FILTER(\"1810-01-01\"^^xsd:dateTime <= ?time && ?time < \"1910-01-01\"^^xsd:dateTime).\n",
    "    #labels\n",
    "    \n",
    "    ?writer <http://schema.org/name> ?writername .\n",
    "    ?book <http://schema.org/name> ?bookname .\n",
    "    ?publishedin <http://schema.org/name> ?publishedinname .\n",
    "\n",
    "} \n",
    "LIMIT 50\n",
    "\"\"\"\n",
    "print(\"Results\")\n",
    "run_query(queryString)"
   ]
  },
  {
   "cell_type": "code",
   "execution_count": 123,
   "id": "52cec287-228f-49f7-a0a5-91daca7fdf82",
   "metadata": {},
   "outputs": [
    {
     "name": "stdout",
     "output_type": "stream",
     "text": [
      "Results\n",
      "[('bookname', 'A Turkish Peasant'), ('writername', 'Cristina Trivulzio Belgiojoso'), ('publishedinname', 'Revue des Deux Mondes'), ('publishedin', 'http://www.wikidata.org/entity/Q1569226')]\n",
      "[('bookname', 'Le Feu'), ('writername', \"Gabriele D'Annunzio\"), ('publishedinname', 'Revue de Paris'), ('publishedin', 'http://www.wikidata.org/entity/Q1389508')]\n",
      "[('bookname', 'First Night'), ('writername', 'Luigi Pirandello'), ('publishedinname', '1900'), ('publishedin', 'http://www.wikidata.org/entity/Q2034')]\n"
     ]
    },
    {
     "data": {
      "text/plain": [
       "3"
      ]
     },
     "execution_count": 123,
     "metadata": {},
     "output_type": "execute_result"
    }
   ],
   "source": [
    "# all books by Kingdom of Italy+italy authors between 1810 until 1910 with their country of citizen + their copyright status.\n",
    "# [('p', 'http://www.wikidata.org/prop/direct/P1433'), ('pname', 'published in')]\n",
    "queryString = \"\"\"\n",
    "SELECT DISTINCT ?bookname ?writername ?publishedinname ?publishedin\n",
    "WHERE { \n",
    "    {?writer wdt:P27 wd:Q38 }\n",
    "    UNION { ?writer wdt:P27 wd:Q172579 } \n",
    "    ?writer wdt:P106 wd:Q36180 .\n",
    "    \n",
    "    ?book wdt:P50 ?writer .\n",
    "    ?book wdt:P6216 wd:Q19652 .\n",
    "    ?book wdt:P1433 ?publishedin .\n",
    "    ?book wdt:P577 ?time .\n",
    "    \n",
    "    #?publishedin wdt:P195 wd:Q213678 . # collection\n",
    "    #?publishedin wdt:P276 wd:Q213678 . #location\n",
    "    #?publishedin wdt:P361 wd:Q213678 . #'part of'\n",
    "    #?publishedin wdt:P485 wd:Q213678 . #archives at\n",
    "    \n",
    "    FILTER(\"1810-01-01\"^^xsd:dateTime <= ?time && ?time < \"1910-01-01\"^^xsd:dateTime).\n",
    "    #labels\n",
    "    \n",
    "    ?writer <http://schema.org/name> ?writername .\n",
    "    ?book <http://schema.org/name> ?bookname .\n",
    "    ?publishedin <http://schema.org/name> ?publishedinname .\n",
    "\n",
    "} \n",
    "ORDER BY (?time)\n",
    "LIMIT 50\n",
    "\"\"\"\n",
    "print(\"Results\")\n",
    "run_query(queryString)"
   ]
  }
 ],
 "metadata": {
  "kernelspec": {
   "display_name": "Python 3",
   "language": "python",
   "name": "python3"
  },
  "language_info": {
   "codemirror_mode": {
    "name": "ipython",
    "version": 3
   },
   "file_extension": ".py",
   "mimetype": "text/x-python",
   "name": "python",
   "nbconvert_exporter": "python",
   "pygments_lexer": "ipython3",
   "version": "3.7.10"
  }
 },
 "nbformat": 4,
 "nbformat_minor": 5
}
