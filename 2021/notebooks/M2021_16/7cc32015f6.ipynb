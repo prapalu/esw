{
 "cells": [
  {
   "cell_type": "markdown",
   "id": "7034c3bf-6eb0-4418-8687-7b9d2a501103",
   "metadata": {},
   "source": [
    "# General instructions\n",
    "\n",
    "The goal of the project is to materialize a set of **exploratory workloads** over a real-world, large-scale,  open-domain KG: [WikiData](https://www.wikidata.org/wiki/Wikidata:Main_Page)\n",
    "\n",
    "An exploratory workload  is composed by a set of queries, where each query is related to the information obtained previously.\n",
    "\n",
    "An exploratory workload starts with a usually vague, open ended question, and does not assume the person issuing the workload has a clear understanding of the data contained in the target database or its structure.\n",
    "\n",
    "Remeber that:\n",
    "\n",
    "1. All the queries must run in the python notebook\n",
    "2. You can use classes and properties only if you find them via a SPARQL query that must be present in the notebook\n",
    "3. You do not delete useless queries. Keep everything that is synthatically valid \n",
    "\n",
    "```\n",
    "?p <http://schema.org/name> ?name .\n",
    "```\n",
    "    \n",
    "    is the BGP returning a human-readable name of a property or a class in Wikidata.\n",
    "    \n",
    "    "
   ]
  },
  {
   "cell_type": "code",
   "execution_count": 82,
   "id": "3605c9d5-5371-49a5-be8d-d66e8f417139",
   "metadata": {},
   "outputs": [],
   "source": [
    "## SETUP used later\n",
    "\n",
    "from SPARQLWrapper import SPARQLWrapper, JSON\n",
    "\n",
    "\n",
    "prefixString = \"\"\"\n",
    "##-7cc32015f6-## \n",
    "PREFIX wd: <http://www.wikidata.org/entity/> \n",
    "PREFIX wdt: <http://www.wikidata.org/prop/direct/> \n",
    "PREFIX sc: <http://schema.org/>\n",
    "\"\"\"\n",
    "\n",
    "# select and construct queries\n",
    "def run_query(queryString):\n",
    "    to_run = prefixString + \"\\n\" + queryString\n",
    "\n",
    "    sparql = SPARQLWrapper(\"http://a256-gc1-02.srv.aau.dk:5820/sparql\")\n",
    "    sparql.setTimeout(300)\n",
    "    sparql.setReturnFormat(JSON)\n",
    "    sparql.setQuery(to_run)\n",
    "\n",
    "    try :\n",
    "       results = sparql.query()\n",
    "       json_results = results.convert()\n",
    "       if len(json_results['results']['bindings'])==0:\n",
    "          print(\"Empty\")\n",
    "          return 0\n",
    "    \n",
    "       for bindings in json_results['results']['bindings']:\n",
    "          print( [ (var, value['value'])  for var, value in bindings.items() ] )\n",
    "\n",
    "       return len(json_results['results']['bindings'])\n",
    "\n",
    "    except Exception as e :\n",
    "        print(\"The operation failed\", e)\n",
    "    \n",
    "# ASk queries\n",
    "def run_ask_query(queryString):\n",
    "    to_run = prefixString + \"\\n\" + queryString\n",
    "\n",
    "    sparql = SPARQLWrapper(\"http://a256-gc1-03.srv.aau.dk:5820/sparql\")\n",
    "    sparql.setTimeout(300)\n",
    "    sparql.setReturnFormat(JSON)\n",
    "    sparql.setQuery(to_run)\n",
    "\n",
    "    try :\n",
    "        return sparql.query().convert()\n",
    "\n",
    "    except Exception as e :\n",
    "        print(\"The operation failed\", e)"
   ]
  },
  {
   "cell_type": "markdown",
   "id": "d477a59c-a68c-4c8f-9f97-8ca5294d7d27",
   "metadata": {
    "tags": []
   },
   "source": [
    "# Book Workflow Series (\"Author comparison explorative search\") \n",
    "\n",
    "Consider the following exploratory scenario:\n",
    "\n",
    "\n",
    ">  Investigate Italian and French book authors in terms of awards, books published and copyright types\n",
    "\n",
    "\n",
    "\n",
    "## Useful URIs for the current workflow\n",
    "The following are given:\n",
    "\n",
    "| IRI           | Description   | Role      |\n",
    "| -----------   | -----------   |-----------|\n",
    "| `wdt:P1647`   | subproperty   | predicate |\n",
    "| `wdt:P31`     | instance of   | predicate |\n",
    "| `wdt:P279`    | subclass      | predicate |\n",
    "| `wdt:P106`    | occupation    | predicate | \n",
    "| `wdt:P17`     | country       | predicate | \n",
    "| `wdt:P27`     | citizenship   | predicate | \n",
    "| `wd:Q36180`   | writer        | node |\n",
    "| `wd:Q38`      | Italy         | node |\n",
    "| `wd:Q172579`  | Kingdom of Italy        | node |\n",
    "| `wd:Q142`     | France        | node |\n",
    "| `wd:Q37922`   | Nobel Prize literature        | node |\n",
    "| `wd:Q213678`  | Vatican Library        | node |\n",
    "\n",
    "\n",
    "Also consider that\n",
    "\n",
    "```\n",
    "?p wdt:P27 wd:Q142\n",
    "```\n",
    "\n",
    "is the BGP to retrieve all **French citizens**\n",
    "\n",
    "\n",
    "The workload should\n",
    "\n",
    "\n",
    "1. Identify the BGP for obtaining the Italian and French writers who published a book in the last 50 years\n",
    "\n",
    "2. Compare the number of books written by Italian and French writers\n",
    "\n",
    "3. Count how many books written by Italian authors are now released with a \"public domain\" copyright form\n",
    "\n",
    "4. How many Literature Nobel awards won authors from Italy and from the Kingdom of Italy? \n",
    "\n",
    "5. Are there books from Litarature Nobel Award winners which are not present in the Vatican Library? (if so, who is the author with more books not in the Vatical Library)?"
   ]
  },
  {
   "cell_type": "code",
   "execution_count": 3,
   "id": "24a853ab-830c-422c-afd3-e9e015b8b8ed",
   "metadata": {},
   "outputs": [],
   "source": [
    "# start your workflow here"
   ]
  },
  {
   "cell_type": "code",
   "execution_count": 4,
   "id": "ba39ae4c-ebda-43a7-b904-6df59b87dbe6",
   "metadata": {},
   "outputs": [
    {
     "name": "stdout",
     "output_type": "stream",
     "text": [
      "Results\n",
      "[('callret-0', '273456')]\n"
     ]
    },
    {
     "data": {
      "text/plain": [
       "1"
      ]
     },
     "execution_count": 4,
     "metadata": {},
     "output_type": "execute_result"
    }
   ],
   "source": [
    "queryString = \"\"\"\n",
    "SELECT COUNT(?p)\n",
    "WHERE { \n",
    "?p wdt:P27 wd:Q142 .\n",
    "} \n",
    "\"\"\"\n",
    "\n",
    "print(\"Results\")\n",
    "run_query(queryString)"
   ]
  },
  {
   "cell_type": "code",
   "execution_count": 5,
   "id": "63ab7f82-ed25-4597-ab9b-90ca3cd6d48b",
   "metadata": {},
   "outputs": [
    {
     "name": "stdout",
     "output_type": "stream",
     "text": [
      "Results\n",
      "[('callret-0', '103803')]\n"
     ]
    },
    {
     "data": {
      "text/plain": [
       "1"
      ]
     },
     "execution_count": 5,
     "metadata": {},
     "output_type": "execute_result"
    }
   ],
   "source": [
    "# all italian citizens\n",
    "queryString = \"\"\"\n",
    "SELECT COUNT(?p)\n",
    "WHERE { \n",
    "?p wdt:P27 wd:Q38 .\n",
    "} \n",
    "\"\"\"\n",
    "\n",
    "print(\"Results\")\n",
    "run_query(queryString)"
   ]
  },
  {
   "cell_type": "code",
   "execution_count": 90,
   "id": "c0bd04d8-f2ca-4872-8c0b-779219614748",
   "metadata": {},
   "outputs": [
    {
     "name": "stdout",
     "output_type": "stream",
     "text": [
      "Results\n",
      "[('p', 'http://www.wikidata.org/prop/direct/P10'), ('pName', 'video')]\n",
      "[('p', 'http://www.wikidata.org/prop/direct/P1000'), ('pName', 'record held')]\n",
      "[('p', 'http://www.wikidata.org/prop/direct/P101'), ('pName', 'field of work')]\n",
      "[('p', 'http://www.wikidata.org/prop/direct/P1019'), ('pName', 'web feed URL')]\n",
      "[('p', 'http://www.wikidata.org/prop/direct/P102'), ('pName', 'member of political party')]\n"
     ]
    },
    {
     "data": {
      "text/plain": [
       "5"
      ]
     },
     "execution_count": 90,
     "metadata": {},
     "output_type": "execute_result"
    }
   ],
   "source": [
    "# get occupation->P106\n",
    "queryString = \"\"\"\n",
    "SELECT DISTINCT ?p ?pName\n",
    "WHERE { \n",
    "\n",
    "    ?person wdt:P27 wd:Q38 ;\n",
    "        ?p  ?o. FILTER(!isLiteral(?o))\n",
    "     \n",
    "      #?o <http://schema.org/name> ?oName .\n",
    "      ?p <http://schema.org/name> ?pName .\n",
    "} \n",
    "order by ?p\n",
    "LIMIT 5\n",
    "\n",
    "\"\"\"\n",
    "\n",
    "print(\"Results\")\n",
    "run_query(queryString)"
   ]
  },
  {
   "cell_type": "code",
   "execution_count": 7,
   "id": "85f498ae-a9ed-430e-bbac-7fb8662ccc63",
   "metadata": {},
   "outputs": [
    {
     "name": "stdout",
     "output_type": "stream",
     "text": [
      "Results\n",
      "[('o', 'http://www.wikidata.org/entity/Q15949613'), ('oName', 'short story writer')]\n",
      "[('o', 'http://www.wikidata.org/entity/Q15980158'), ('oName', 'non-fiction writer')]\n",
      "[('o', 'http://www.wikidata.org/entity/Q18844224'), ('oName', 'science fiction writer')]\n",
      "[('o', 'http://www.wikidata.org/entity/Q28389'), ('oName', 'screenwriter')]\n",
      "[('o', 'http://www.wikidata.org/entity/Q36180'), ('oName', 'writer')]\n"
     ]
    },
    {
     "data": {
      "text/plain": [
       "5"
      ]
     },
     "execution_count": 7,
     "metadata": {},
     "output_type": "execute_result"
    }
   ],
   "source": [
    "# get writer->Q36180\n",
    "queryString = \"\"\"\n",
    "SELECT DISTINCT ?o ?oName\n",
    "WHERE { \n",
    "\n",
    "    ?person wdt:P27 wd:Q38 ;\n",
    "                wdt:P106  ?o.\n",
    "     \n",
    "      ?o <http://schema.org/name> ?oName .\n",
    "      Filter regex(?oName,\"writer\",'i')\n",
    "      #?p <http://schema.org/name> ?pName .\n",
    "} \n",
    "LIMIT 5\n",
    "\"\"\"\n",
    "\n",
    "print(\"Results\")\n",
    "run_query(queryString)"
   ]
  },
  {
   "cell_type": "code",
   "execution_count": 8,
   "id": "156f26f0-2408-4a5f-8704-180b2c1464d1",
   "metadata": {},
   "outputs": [
    {
     "name": "stdout",
     "output_type": "stream",
     "text": [
      "Results\n",
      "[('writer', 'http://www.wikidata.org/entity/Q15918504'), ('writerName', 'Giovanni Pascutto')]\n",
      "[('writer', 'http://www.wikidata.org/entity/Q17285057'), ('writerName', 'Philip Kwok')]\n",
      "[('writer', 'http://www.wikidata.org/entity/Q17285111'), ('writerName', 'Francesca Manzoni')]\n",
      "[('writer', 'http://www.wikidata.org/entity/Q17285372'), ('writerName', 'Benito Recchilongo')]\n",
      "[('writer', 'http://www.wikidata.org/entity/Q17285428'), ('writerName', 'Eugenia Romanelli')]\n",
      "[('writer', 'http://www.wikidata.org/entity/Q17285433'), ('writerName', 'Rosa Rosà')]\n",
      "[('writer', 'http://www.wikidata.org/entity/Q17319638'), ('writerName', 'Francesco Gungui')]\n",
      "[('writer', 'http://www.wikidata.org/entity/Q17327845'), ('writerName', 'Giuseppe Ciabattini')]\n",
      "[('writer', 'http://www.wikidata.org/entity/Q2963243'), ('writerName', 'Chiara Valentini')]\n",
      "[('writer', 'http://www.wikidata.org/entity/Q17453230'), ('writerName', 'Maria Costa')]\n"
     ]
    },
    {
     "data": {
      "text/plain": [
       "10"
      ]
     },
     "execution_count": 8,
     "metadata": {},
     "output_type": "execute_result"
    }
   ],
   "source": [
    "# get all italian writer names\n",
    "queryString = \"\"\"\n",
    "SELECT DISTINCT ?writer ?writerName\n",
    "WHERE { \n",
    "\n",
    "    ?writer wdt:P27 wd:Q38 ;\n",
    "            wdt:P106  wd:Q36180.\n",
    "     \n",
    "      ?writer <http://schema.org/name> ?writerName .\n",
    "      #?p <http://schema.org/name> ?pName .\n",
    "} \n",
    "LIMIT 10\n",
    "\"\"\"\n",
    "\n",
    "print(\"Results\")\n",
    "run_query(queryString)"
   ]
  },
  {
   "cell_type": "code",
   "execution_count": 9,
   "id": "aa817168-2317-4d64-8b64-6c4e5d569850",
   "metadata": {},
   "outputs": [
    {
     "name": "stdout",
     "output_type": "stream",
     "text": [
      "Results\n",
      "[('p', 'http://www.wikidata.org/prop/direct/P1037'), ('pName', 'director / manager')]\n",
      "[('p', 'http://www.wikidata.org/prop/direct/P1038'), ('pName', 'relative')]\n",
      "[('p', 'http://www.wikidata.org/prop/direct/P1040'), ('pName', 'film editor')]\n",
      "[('p', 'http://www.wikidata.org/prop/direct/P1066'), ('pName', 'student of')]\n",
      "[('p', 'http://www.wikidata.org/prop/direct/P110'), ('pName', 'illustrator')]\n"
     ]
    },
    {
     "data": {
      "text/plain": [
       "5"
      ]
     },
     "execution_count": 9,
     "metadata": {},
     "output_type": "execute_result"
    }
   ],
   "source": [
    "# get properties of all writers and find the author->P50\n",
    "queryString = \"\"\"\n",
    "SELECT DISTINCT ?p ?pName\n",
    "WHERE { \n",
    "\n",
    "    ?writer wdt:P27 wd:Q38 ;\n",
    "            wdt:P106  wd:Q36180.\n",
    "            \n",
    "    ?o ?p ?writer.\n",
    "     \n",
    "    ?p <http://schema.org/name> ?pName .\n",
    "} \n",
    "LIMIT 5\n",
    "\n",
    "\"\"\"\n",
    "\n",
    "print(\"Results\")\n",
    "run_query(queryString)"
   ]
  },
  {
   "cell_type": "code",
   "execution_count": 10,
   "id": "39ec446b-0fe1-4d97-a0bf-191970553c99",
   "metadata": {},
   "outputs": [
    {
     "name": "stdout",
     "output_type": "stream",
     "text": [
      "Results\n",
      "[('work', 'http://www.wikidata.org/entity/Q17635217'), ('workName', \"L'amore è un dio\")]\n",
      "[('work', 'http://www.wikidata.org/entity/Q17652232'), ('workName', 'Bisexuality in the ancient Word')]\n",
      "[('work', 'http://www.wikidata.org/entity/Q18745523'), ('workName', 'Indian Summer')]\n",
      "[('work', 'http://www.wikidata.org/entity/Q2915264'), ('workName', 'Click')]\n",
      "[('work', 'http://www.wikidata.org/entity/Q533391'), ('workName', 'The Garden of the Finzi-Continis')]\n"
     ]
    },
    {
     "data": {
      "text/plain": [
       "5"
      ]
     },
     "execution_count": 10,
     "metadata": {},
     "output_type": "execute_result"
    }
   ],
   "source": [
    "# get all types of works  for italian writers \n",
    "queryString = \"\"\"\n",
    "SELECT DISTINCT ?work ?workName\n",
    "WHERE { \n",
    "\n",
    "    ?writer wdt:P27 wd:Q38 ;\n",
    "            wdt:P106  wd:Q36180.\n",
    "            \n",
    "    ?work wdt:P50 ?writer.\n",
    "     \n",
    "    ?work <http://schema.org/name> ?workName .\n",
    "} \n",
    "LIMIT 5\n",
    "\n",
    "\"\"\"\n",
    "\n",
    "print(\"Results\")\n",
    "run_query(queryString)"
   ]
  },
  {
   "cell_type": "code",
   "execution_count": 11,
   "id": "b3088e8f-6af6-4d33-a657-d9370cedbbb0",
   "metadata": {},
   "outputs": [
    {
     "name": "stdout",
     "output_type": "stream",
     "text": [
      "Results\n",
      "[('p', 'http://www.wikidata.org/entity/Q25379'), ('pName', 'play')]\n",
      "[('p', 'http://www.wikidata.org/entity/Q732577'), ('pName', 'publication')]\n",
      "[('p', 'http://www.wikidata.org/entity/Q105420'), ('pName', 'anthology')]\n",
      "[('p', 'http://www.wikidata.org/entity/Q14406742'), ('pName', 'comic book series')]\n",
      "[('p', 'http://www.wikidata.org/entity/Q17537576'), ('pName', 'creative work')]\n"
     ]
    },
    {
     "data": {
      "text/plain": [
       "5"
      ]
     },
     "execution_count": 11,
     "metadata": {},
     "output_type": "execute_result"
    }
   ],
   "source": [
    "# get only books->Q571 \n",
    "queryString = \"\"\"\n",
    "SELECT DISTINCT ?p ?pName\n",
    "WHERE { \n",
    "\n",
    "      ?writer wdt:P27 wd:Q38 ;\n",
    "              wdt:P106  wd:Q36180.\n",
    "            \n",
    "      ?work wdt:P50 ?writer;\n",
    "              wdt:P31 ?p .\n",
    "     \n",
    "     ?p <http://schema.org/name> ?pName .\n",
    "\n",
    "} \n",
    "LIMIT 5\n",
    "\n",
    "\"\"\"\n",
    "\n",
    "print(\"Results\")\n",
    "run_query(queryString)"
   ]
  },
  {
   "cell_type": "code",
   "execution_count": 134,
   "id": "10e36bef-796a-40a7-9b14-329cef3f68be",
   "metadata": {},
   "outputs": [
    {
     "name": "stdout",
     "output_type": "stream",
     "text": [
      "Results\n",
      "[('p', 'http://www.wikidata.org/prop/direct/P5749'), ('pName', 'Amazon Standard Identification Number')]\n",
      "[('p', 'http://www.wikidata.org/prop/direct/P268'), ('pName', 'Bibliothèque nationale de France ID')]\n",
      "[('p', 'http://www.wikidata.org/prop/direct/P373'), ('pName', 'Commons category')]\n",
      "[('p', 'http://www.wikidata.org/prop/direct/P356'), ('pName', 'DOI')]\n",
      "[('p', 'http://www.wikidata.org/prop/direct/P1036'), ('pName', 'Dewey Decimal Classification')]\n",
      "[('p', 'http://www.wikidata.org/prop/direct/P8359'), ('pName', 'Dewey Decimal Classification (works and editions)')]\n",
      "[('p', 'http://www.wikidata.org/prop/direct/P3962'), ('pName', 'Global Trade Item Number')]\n",
      "[('p', 'http://www.wikidata.org/prop/direct/P2969'), ('pName', 'Goodreads version/edition ID')]\n",
      "[('p', 'http://www.wikidata.org/prop/direct/P8383'), ('pName', 'Goodreads work ID')]\n",
      "[('p', 'http://www.wikidata.org/prop/direct/P675'), ('pName', 'Google Books ID')]\n",
      "[('p', 'http://www.wikidata.org/prop/direct/P2671'), ('pName', 'Google Knowledge Graph ID')]\n",
      "[('p', 'http://www.wikidata.org/prop/direct/P957'), ('pName', 'ISBN-10')]\n",
      "[('p', 'http://www.wikidata.org/prop/direct/P212'), ('pName', 'ISBN-13')]\n",
      "[('p', 'http://www.wikidata.org/prop/direct/P1085'), ('pName', 'LibraryThing work ID')]\n",
      "[('p', 'http://www.wikidata.org/prop/direct/P243'), ('pName', 'OCLC control number')]\n",
      "[('p', 'http://www.wikidata.org/prop/direct/P648'), ('pName', 'Open Library ID')]\n",
      "[('p', 'http://www.wikidata.org/prop/direct/P5485'), ('pName', 'SBN books ID')]\n",
      "[('p', 'http://www.wikidata.org/prop/direct/P7609'), ('pName', 'SHARE Catalogue work ID')]\n",
      "[('p', 'http://www.wikidata.org/prop/direct/P1651'), ('pName', 'YouTube video ID')]\n",
      "[('p', 'http://www.wikidata.org/prop/direct/P50'), ('pName', 'author')]\n",
      "[('p', 'http://www.wikidata.org/prop/direct/P2093'), ('pName', 'author name string')]\n",
      "[('p', 'http://www.wikidata.org/prop/direct/P166'), ('pName', 'award received')]\n",
      "[('p', 'http://www.wikidata.org/prop/direct/P972'), ('pName', 'catalog')]\n",
      "[('p', 'http://www.wikidata.org/prop/direct/P528'), ('pName', 'catalog code')]\n",
      "[('p', 'http://www.wikidata.org/prop/direct/P674'), ('pName', 'characters')]\n",
      "[('p', 'http://www.wikidata.org/prop/direct/P195'), ('pName', 'collection')]\n",
      "[('p', 'http://www.wikidata.org/prop/direct/P6216'), ('pName', 'copyright status')]\n",
      "[('p', 'http://www.wikidata.org/prop/direct/P495'), ('pName', 'country of origin')]\n",
      "[('p', 'http://www.wikidata.org/prop/direct/P736'), ('pName', 'cover art by')]\n",
      "[('p', 'http://www.wikidata.org/prop/direct/P973'), ('pName', 'described at URL')]\n",
      "[('p', 'http://www.wikidata.org/prop/direct/P393'), ('pName', 'edition number')]\n",
      "[('p', 'http://www.wikidata.org/prop/direct/P629'), ('pName', 'edition or translation of')]\n",
      "[('p', 'http://www.wikidata.org/prop/direct/P98'), ('pName', 'editor')]\n",
      "[('p', 'http://www.wikidata.org/prop/direct/P1574'), ('pName', 'exemplar of')]\n",
      "[('p', 'http://www.wikidata.org/prop/direct/P156'), ('pName', 'followed by')]\n",
      "[('p', 'http://www.wikidata.org/prop/direct/P155'), ('pName', 'follows')]\n",
      "[('p', 'http://www.wikidata.org/prop/direct/P953'), ('pName', 'full work available at URL')]\n",
      "[('p', 'http://www.wikidata.org/prop/direct/P136'), ('pName', 'genre')]\n",
      "[('p', 'http://www.wikidata.org/prop/direct/P747'), ('pName', 'has edition or translation')]\n",
      "[('p', 'http://www.wikidata.org/prop/direct/P110'), ('pName', 'illustrator')]\n",
      "[('p', 'http://www.wikidata.org/prop/direct/P18'), ('pName', 'image')]\n",
      "[('p', 'http://www.wikidata.org/prop/direct/P571'), ('pName', 'inception')]\n",
      "[('p', 'http://www.wikidata.org/prop/direct/P941'), ('pName', 'inspired by')]\n",
      "[('p', 'http://www.wikidata.org/prop/direct/P31'), ('pName', 'instance of')]\n",
      "[('p', 'http://www.wikidata.org/prop/direct/P217'), ('pName', 'inventory number')]\n",
      "[('p', 'http://www.wikidata.org/prop/direct/P407'), ('pName', 'language of work or name')]\n",
      "[('p', 'http://www.wikidata.org/prop/direct/P276'), ('pName', 'location')]\n",
      "[('p', 'http://www.wikidata.org/prop/direct/P921'), ('pName', 'main subject')]\n",
      "[('p', 'http://www.wikidata.org/prop/direct/P840'), ('pName', 'narrative location')]\n",
      "[('p', 'http://www.wikidata.org/prop/direct/P1411'), ('pName', 'nominated for')]\n",
      "[('p', 'http://www.wikidata.org/prop/direct/P1104'), ('pName', 'number of pages')]\n",
      "[('p', 'http://www.wikidata.org/prop/direct/P856'), ('pName', 'official website')]\n",
      "[('p', 'http://www.wikidata.org/prop/direct/P304'), ('pName', 'page(s)')]\n",
      "[('p', 'http://www.wikidata.org/prop/direct/P361'), ('pName', 'part of')]\n",
      "[('p', 'http://www.wikidata.org/prop/direct/P291'), ('pName', 'place of publication')]\n",
      "[('p', 'http://www.wikidata.org/prop/direct/P577'), ('pName', 'publication date')]\n",
      "[('p', 'http://www.wikidata.org/prop/direct/P1433'), ('pName', 'published in')]\n",
      "[('p', 'http://www.wikidata.org/prop/direct/P123'), ('pName', 'publisher')]\n",
      "[('p', 'http://www.wikidata.org/prop/direct/P1680'), ('pName', 'subtitle')]\n",
      "[('p', 'http://www.wikidata.org/prop/direct/P1476'), ('pName', 'title')]\n",
      "[('p', 'http://www.wikidata.org/prop/direct/P478'), ('pName', 'volume')]\n"
     ]
    },
    {
     "data": {
      "text/plain": [
       "61"
      ]
     },
     "execution_count": 134,
     "metadata": {},
     "output_type": "execute_result"
    }
   ],
   "source": [
    "# find the date of published books (publication date->P577)   (copyright status->P6216) (award received ->P166)\n",
    "queryString = \"\"\" \n",
    "SELECT DISTINCT ?p  ?pName\n",
    "WHERE { \n",
    "\n",
    "      ?writer wdt:P27 wd:Q38 ;\n",
    "              wdt:P106  wd:Q36180.\n",
    "            \n",
    "      ?work wdt:P50 ?writer;\n",
    "              wdt:P31 wd:Q571 ;\n",
    "              ?p ?o.\n",
    "     \n",
    "          ?p <http://schema.org/name> ?pName .\n",
    "} \n",
    "order by ?pName\n",
    "LIMIT 500\n",
    "\n",
    "\"\"\"\n",
    "\n",
    "print(\"Results\")\n",
    "run_query(queryString)"
   ]
  },
  {
   "cell_type": "code",
   "execution_count": 79,
   "id": "88755856-c6cc-4c27-b4b7-f0f526adf284",
   "metadata": {},
   "outputs": [
    {
     "name": "stdout",
     "output_type": "stream",
     "text": [
      "Results\n",
      "[('period', '1970-01-01T00:00:00Z'), ('workName', 'Les sanglots longs')]\n",
      "[('period', '1972-01-01T00:00:00Z'), ('workName', 'The Necrophiliac')]\n",
      "[('period', '1972-01-01T00:00:00Z'), ('workName', 'Les Boulevards de Ceinture')]\n",
      "[('period', '1973-01-01T00:00:00Z'), ('workName', \"L'Educazione delle donne\")]\n",
      "[('period', '1973-01-01T00:00:00Z'), ('workName', 'Oh, Serafinaǃ (romanzo)')]\n"
     ]
    },
    {
     "data": {
      "text/plain": [
       "5"
      ]
     },
     "execution_count": 79,
     "metadata": {},
     "output_type": "execute_result"
    }
   ],
   "source": [
    "# find all published books after 1970s for french and italian writers\n",
    "queryString = \"\"\"\n",
    "SELECT DISTINCT ?period ?workName\n",
    "WHERE { \n",
    "\n",
    "      ?writer wdt:P27 ?country ;\n",
    "              wdt:P106  wd:Q36180.\n",
    "            \n",
    "      ?work wdt:P50 ?writer;\n",
    "              wdt:P31 wd:Q571 ;\n",
    "              wdt:P577 ?period.\n",
    "     \n",
    "     \n",
    "    ?work <http://schema.org/name> ?workName .\n",
    "    Filter regex (?country,\"Q38|Q142\",'i')\n",
    "    Filter regex(str(?period),\"197|198|199|200|201|202\",'i')\n",
    "} \n",
    "order by ?period\n",
    "LIMIT 5\n",
    "\n",
    "\"\"\"\n",
    "\n",
    "print(\"Results\")\n",
    "run_query(queryString)"
   ]
  },
  {
   "cell_type": "code",
   "execution_count": 13,
   "id": "d11fd037-9599-491e-8fd6-e7dd57a3b7d2",
   "metadata": {},
   "outputs": [],
   "source": [
    "2. Compare the number of books written by Italian and French writers"
   ]
  },
  {
   "cell_type": "code",
   "execution_count": 93,
   "id": "aac44482-3714-4bce-b8b1-729e316ebf01",
   "metadata": {},
   "outputs": [
    {
     "name": "stdout",
     "output_type": "stream",
     "text": [
      "Results\n",
      "[('howmanyfrenchbook', '906')]\n"
     ]
    },
    {
     "data": {
      "text/plain": [
       "1"
      ]
     },
     "execution_count": 93,
     "metadata": {},
     "output_type": "execute_result"
    }
   ],
   "source": [
    "# Number of Italian books\n",
    "queryString = \"\"\"\n",
    "SELECT DISTINCT (COUNT(?frenchbook) AS ?howmanyfrenchbook) \n",
    "WHERE { \n",
    "\n",
    "       ?frenchwriter wdt:P27 wd:Q142 ;\n",
    "                     wdt:P106  wd:Q36180.\n",
    "               \n",
    "       ?frenchbook wdt:P50 ?frenchwriter;\n",
    "                   wdt:P31 wd:Q571 .\n",
    "\n",
    "} \n",
    "\n",
    "\n",
    "\"\"\"\n",
    "\n",
    "print(\"Results\")\n",
    "run_query(queryString)"
   ]
  },
  {
   "cell_type": "code",
   "execution_count": 107,
   "id": "7fb1fb9f-9c4f-4160-85c8-09a7cef80f4c",
   "metadata": {},
   "outputs": [
    {
     "name": "stdout",
     "output_type": "stream",
     "text": [
      "Results\n",
      "[('howmanyitalybook', '75')]\n"
     ]
    },
    {
     "data": {
      "text/plain": [
       "1"
      ]
     },
     "execution_count": 107,
     "metadata": {},
     "output_type": "execute_result"
    }
   ],
   "source": [
    "# Number of Italian books\n",
    "queryString = \"\"\"\n",
    "SELECT DISTINCT (COUNT(?italybook) AS ?howmanyitalybook)\n",
    "WHERE { \n",
    "\n",
    "\n",
    "             \n",
    "        ?italywriter wdt:P27 wd:Q38 ;\n",
    "                     wdt:P106  wd:Q36180.\n",
    "               \n",
    "        ?italybook wdt:P50 ?italywriter;\n",
    "                   wdt:P31 wd:Q571 .\n",
    "               \n",
    "     \n",
    "} \n",
    "\n",
    "\n",
    "\"\"\"\n",
    "\n",
    "print(\"Results\")\n",
    "run_query(queryString)"
   ]
  },
  {
   "cell_type": "code",
   "execution_count": null,
   "id": "36687424-b81e-46ca-b1bd-f4ce5c2f72e0",
   "metadata": {},
   "outputs": [],
   "source": [
    "3. Count how many books written by Italian authors are now released with a \"public domain\" copyright form"
   ]
  },
  {
   "cell_type": "code",
   "execution_count": 128,
   "id": "ba6535aa-fee6-490f-a5ec-f7dbb311c70a",
   "metadata": {},
   "outputs": [
    {
     "name": "stdout",
     "output_type": "stream",
     "text": [
      "Results\n",
      "[('copyright', 'http://www.wikidata.org/entity/Q19652'), ('copyrightName', 'public domain')]\n",
      "[('copyright', 'http://www.wikidata.org/entity/Q50423863'), ('copyrightName', 'copyrighted')]\n",
      "[('copyright', 'http://www.wikidata.org/entity/Q50423863'), ('copyrightName', 'copyrighted')]\n",
      "[('copyright', 'http://www.wikidata.org/entity/Q50423863'), ('copyrightName', 'copyrighted')]\n",
      "[('copyright', 'http://www.wikidata.org/entity/Q50423863'), ('copyrightName', 'copyrighted')]\n",
      "[('copyright', 'http://www.wikidata.org/entity/Q50423863'), ('copyrightName', 'copyrighted')]\n",
      "[('copyright', 'http://www.wikidata.org/entity/Q50423863'), ('copyrightName', 'copyrighted')]\n"
     ]
    },
    {
     "data": {
      "text/plain": [
       "7"
      ]
     },
     "execution_count": 128,
     "metadata": {},
     "output_type": "execute_result"
    }
   ],
   "source": [
    "# get public domain-> Q19652'\n",
    "queryString = \"\"\"\n",
    "SELECT ?copyright  ?copyrightName \n",
    "WHERE { \n",
    "\n",
    "\n",
    "             \n",
    "    ?italywriter wdt:P27 wd:Q38 ;\n",
    "                 wdt:P106  wd:Q36180.\n",
    "               \n",
    "     ?italybook wdt:P50 ?italywriter;\n",
    "                wdt:P31 wd:Q571 ;\n",
    "                wdt:P6216 ?copyright.\n",
    "    #filter regex()\n",
    "                   \n",
    "    ?copyright <http://schema.org/name> ?copyrightName .\n",
    "} \n",
    "\n",
    "LIMIT 10\n",
    "\n",
    "\"\"\"\n",
    "\n",
    "print(\"Results\")\n",
    "run_query(queryString)"
   ]
  },
  {
   "cell_type": "code",
   "execution_count": 133,
   "id": "62650316-aa81-4892-bfa6-228c88ec9d4c",
   "metadata": {},
   "outputs": [
    {
     "name": "stdout",
     "output_type": "stream",
     "text": [
      "Results\n",
      "[('callret-0', '1')]\n"
     ]
    },
    {
     "data": {
      "text/plain": [
       "1"
      ]
     },
     "execution_count": 133,
     "metadata": {},
     "output_type": "execute_result"
    }
   ],
   "source": [
    "# Number of books written by Italian authors are now released with a \"public domain\"\n",
    "queryString = \"\"\"\n",
    "SELECT Count(?italybook)\n",
    "WHERE { \n",
    "\n",
    "\n",
    "             \n",
    "    ?italywriter wdt:P27 wd:Q38 ;\n",
    "                 wdt:P106  wd:Q36180.\n",
    "               \n",
    "     ?italybook wdt:P50 ?italywriter;\n",
    "                wdt:P31 wd:Q571 ;\n",
    "                wdt:P6216 wd:Q19652.\n",
    "  \n",
    "} \n",
    "\n",
    "\n",
    "\"\"\"\n",
    "\n",
    "print(\"Results\")\n",
    "run_query(queryString)"
   ]
  },
  {
   "cell_type": "code",
   "execution_count": null,
   "id": "28896f7d-997a-412b-8948-2fcaf7f08e27",
   "metadata": {},
   "outputs": [],
   "source": [
    "4. How many Literature Nobel awards won authors from Italy and from the Kingdom of Italy? "
   ]
  },
  {
   "cell_type": "code",
   "execution_count": 145,
   "id": "827b6dcc-a0d7-4f60-a61d-b218c93049e9",
   "metadata": {},
   "outputs": [
    {
     "name": "stdout",
     "output_type": "stream",
     "text": [
      "Results\n",
      "[('o', 'http://www.wikidata.org/entity/Q37922'), ('oName', 'Nobel Prize in Literature')]\n"
     ]
    },
    {
     "data": {
      "text/plain": [
       "1"
      ]
     },
     "execution_count": 145,
     "metadata": {},
     "output_type": "execute_result"
    }
   ],
   "source": [
    "# find Literature Nobelprize -> Q37922\n",
    "queryString = \"\"\"\n",
    "SELECT distinct ?o ?oName\n",
    "WHERE { \n",
    "\n",
    "\n",
    "             \n",
    "    ?italywriter wdt:P27 wd:Q38 ;\n",
    "                 wdt:P106  wd:Q36180;\n",
    "                 wdt:P166 ?o.\n",
    "                 \n",
    "   ?o <http://schema.org/name> ?oName .\n",
    "\n",
    "  Filter Regex(?oName,\"Nobel\",'i')\n",
    "  \n",
    "} \n",
    "limit 5\n",
    "\n",
    "\"\"\"\n",
    "\n",
    "print(\"Results\")\n",
    "run_query(queryString)"
   ]
  },
  {
   "cell_type": "code",
   "execution_count": 149,
   "id": "e83051f9-a80e-45ee-ad5c-7ff2905105d6",
   "metadata": {},
   "outputs": [
    {
     "name": "stdout",
     "output_type": "stream",
     "text": [
      "Results\n",
      "[('howmanyauthors', '6')]\n"
     ]
    },
    {
     "data": {
      "text/plain": [
       "1"
      ]
     },
     "execution_count": 149,
     "metadata": {},
     "output_type": "execute_result"
    }
   ],
   "source": [
    "# how many authors won noble prize\n",
    "queryString = \"\"\"\n",
    "SELECT distinct (Count( ?italywriter) AS ?howmanyauthors)\n",
    "WHERE { \n",
    "\n",
    "\n",
    "             \n",
    "    ?italywriter wdt:P27 ?country ;\n",
    "                 wdt:P106  wd:Q36180;\n",
    "                 wdt:P166 wd:Q37922.\n",
    "                 \n",
    "   ?country <http://schema.org/name> ?countryName .\n",
    "\n",
    "  Filter Regex(?countryName,\"Italy\",'i')\n",
    "  \n",
    "} \n",
    "limit 5\n",
    "\n",
    "\"\"\"\n",
    "\n",
    "print(\"Results\")\n",
    "run_query(queryString)"
   ]
  },
  {
   "cell_type": "code",
   "execution_count": null,
   "id": "689de46b-d5ae-4edc-811b-99d447521d50",
   "metadata": {},
   "outputs": [],
   "source": [
    "5. Are there books from Litarature Nobel Award winners which are not present in the Vatican Library? (if so, who is the author with more books not in the Vatical Library)?"
   ]
  },
  {
   "cell_type": "code",
   "execution_count": null,
   "id": "90241153-d41f-444f-bf3d-325874577baa",
   "metadata": {},
   "outputs": [
    {
     "name": "stdout",
     "output_type": "stream",
     "text": [
      "Results\n",
      "[('o', 'http://www.wikidata.org/entity/Q254032'), ('oName', 'Olga Tokarczuk')]\n",
      "[('o', 'http://www.wikidata.org/entity/Q34743'), ('oName', 'Rudyard Kipling')]\n",
      "[('o', 'http://www.wikidata.org/entity/Q5878'), ('oName', 'Gabriel García Márquez')]\n",
      "[('o', 'http://www.wikidata.org/entity/Q1860'), ('oName', 'English')]\n",
      "[('o', 'http://www.wikidata.org/entity/Q571'), ('oName', 'book')]\n"
     ]
    },
    {
     "data": {
      "text/plain": [
       "5"
      ]
     },
     "execution_count": 231,
     "metadata": {},
     "output_type": "execute_result"
    }
   ],
   "source": [
    "# find the Vatican Library -> Q213678\n",
    "queryString = \"\"\"\n",
    "SELECT distinct ?o ?oName\n",
    "WHERE { \n",
    "\n",
    "\n",
    "             \n",
    "    ?s ?p ?o.\n",
    "                 \n",
    "   ?o <http://schema.org/name> ?oName .\n",
    "\n",
    "  filter regex(?oName,\"Vatican Library\",'i')\n",
    "  \n",
    "} \n",
    "limit 50\n",
    "\n",
    "\"\"\"\n",
    "\n",
    "print(\"Results\")\n",
    "run_query(queryString)"
   ]
  },
  {
   "cell_type": "code",
   "execution_count": 274,
   "id": "cd418c55-c480-4cde-9acf-3cc00635475f",
   "metadata": {},
   "outputs": [
    {
     "name": "stdout",
     "output_type": "stream",
     "text": [
      "Results\n",
      "[('p', 'http://www.wikidata.org/prop/direct/P1017'), ('pName', 'Vatican Library ID (former scheme)')]\n",
      "[('p', 'http://www.wikidata.org/prop/direct/P8034'), ('pName', 'Vatican Library VcBA ID')]\n"
     ]
    },
    {
     "data": {
      "text/plain": [
       "2"
      ]
     },
     "execution_count": 274,
     "metadata": {},
     "output_type": "execute_result"
    }
   ],
   "source": [
    "# find the Vatican Library ID -> P8034\n",
    "queryString = \"\"\"\n",
    "SELECT distinct ?p ?pName \n",
    "WHERE { \n",
    "\n",
    "\n",
    "             \n",
    "    ?winner wdt:P106  wd:Q36180;\n",
    "             wdt:P166 wd:Q37922;\n",
    "                ?p ?o.\n",
    "                \n",
    "            \n",
    "                 \n",
    "   ?p <http://schema.org/name> ?pName .\n",
    "\n",
    "   filter regex(?pName,\"vatican\",'i')  \n",
    "  \n",
    "} \n",
    "limit 500\n",
    "\n",
    "\"\"\"\n",
    "\n",
    "print(\"Results\")\n",
    "run_query(queryString)"
   ]
  },
  {
   "cell_type": "code",
   "execution_count": 280,
   "id": "a5072539-9711-4d6d-9ce2-633d417a1c91",
   "metadata": {},
   "outputs": [
    {
     "name": "stdout",
     "output_type": "stream",
     "text": [
      "Results\n",
      "Empty\n"
     ]
    },
    {
     "data": {
      "text/plain": [
       "0"
      ]
     },
     "execution_count": 280,
     "metadata": {},
     "output_type": "execute_result"
    }
   ],
   "source": [
    "# Nobel Award winners which are not present in the Vatican Library\n",
    "queryString = \"\"\"\n",
    "SELECT distinct ?winner \n",
    "WHERE { \n",
    "\n",
    "\n",
    "             \n",
    "    ?winner wdt:P106  wd:Q36180;\n",
    "             wdt:P166 wd:Q37922;\n",
    "             wdt:P8034 ?o.\n",
    "                 \n",
    "    Filter not exists {?winner wdt:P8034 ?o}.\n",
    "                \n",
    "        \n",
    "                 \n",
    "   ?winner <http://schema.org/name> ?winnerName .\n",
    "    #filter regex(?oName,\"Vatican Library\",'i')\n",
    "  \n",
    "} \n",
    "limit 500\n",
    "\n",
    "\"\"\"\n",
    "\n",
    "print(\"Results\")\n",
    "run_query(queryString)"
   ]
  },
  {
   "cell_type": "code",
   "execution_count": null,
   "id": "cc9dd5c0-7ee5-42bb-a38f-3b98902525b7",
   "metadata": {},
   "outputs": [],
   "source": []
  }
 ],
 "metadata": {
  "kernelspec": {
   "display_name": "Python 3 (ipykernel)",
   "language": "python",
   "name": "python3"
  },
  "language_info": {
   "codemirror_mode": {
    "name": "ipython",
    "version": 3
   },
   "file_extension": ".py",
   "mimetype": "text/x-python",
   "name": "python",
   "nbconvert_exporter": "python",
   "pygments_lexer": "ipython3",
   "version": "3.7.10"
  }
 },
 "nbformat": 4,
 "nbformat_minor": 5
}
