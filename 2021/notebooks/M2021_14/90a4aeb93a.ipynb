{
 "cells": [
  {
   "cell_type": "markdown",
   "id": "7034c3bf-6eb0-4418-8687-7b9d2a501103",
   "metadata": {},
   "source": [
    "# General instructions\n",
    "\n",
    "The goal of the project is to materialize a set of **exploratory workloads** over a real-world, large-scale,  open-domain KG: [WikiData](https://www.wikidata.org/wiki/Wikidata:Main_Page)\n",
    "\n",
    "An exploratory workload  is composed by a set of queries, where each query is related to the information obtained previously.\n",
    "\n",
    "An exploratory workload starts with a usually vague, open ended question, and does not assume the person issuing the workload has a clear understanding of the data contained in the target database or its structure.\n",
    "\n",
    "Remeber that:\n",
    "\n",
    "1. All the queries must run in the python notebook\n",
    "2. You can use classes and properties only if you find them via a SPARQL query that must be present in the notebook\n",
    "3. You do not delete useless queries. Keep everything that is synthatically valid \n",
    "\n",
    "```\n",
    "?p sc:name ?name .\n",
    "```\n",
    "    \n",
    "is the BGP returning a human-readable name of a property or a class in Wikidata.\n",
    "    \n",
    "    "
   ]
  },
  {
   "cell_type": "code",
   "execution_count": 1,
   "id": "3605c9d5-5371-49a5-be8d-d66e8f417139",
   "metadata": {},
   "outputs": [],
   "source": [
    "## SETUP used later\n",
    "\n",
    "from SPARQLWrapper import SPARQLWrapper, JSON\n",
    "\n",
    "\n",
    "prefixString = \"\"\"\n",
    "##-90a4aeb93a-##\n",
    "PREFIX wd: <http://www.wikidata.org/entity/> \n",
    "PREFIX wdt: <http://www.wikidata.org/prop/direct/> \n",
    "PREFIX sc: <http://schema.org/>\n",
    "\"\"\"\n",
    "\n",
    "# select and construct queries\n",
    "def run_query(queryString):\n",
    "    to_run = prefixString + \"\\n\" + queryString\n",
    "\n",
    "    sparql = SPARQLWrapper(\"http://a256-gc1-02.srv.aau.dk:5820/sparql\")\n",
    "    sparql.setTimeout(300)\n",
    "    sparql.setReturnFormat(JSON)\n",
    "    sparql.setQuery(to_run)\n",
    "\n",
    "    try :\n",
    "       results = sparql.query()\n",
    "       json_results = results.convert()\n",
    "       if len(json_results['results']['bindings'])==0:\n",
    "          print(\"Empty\")\n",
    "          return 0\n",
    "    \n",
    "       for bindings in json_results['results']['bindings']:\n",
    "          print( [ (var, value['value'])  for var, value in bindings.items() ] )\n",
    "\n",
    "       return len(json_results['results']['bindings'])\n",
    "\n",
    "    except Exception as e :\n",
    "        print(\"The operation failed\", e)\n",
    "    \n",
    "# ASk queries\n",
    "def run_ask_query(queryString):\n",
    "    to_run = prefixString + \"\\n\" + queryString\n",
    "\n",
    "    sparql = SPARQLWrapper(\"http://a256-gc1-02.srv.aau.dk:5820/sparql\")\n",
    "    sparql.setTimeout(300)\n",
    "    sparql.setReturnFormat(JSON)\n",
    "    sparql.setQuery(to_run)\n",
    "\n",
    "    try :\n",
    "        return sparql.query().convert()\n",
    "\n",
    "    except Exception as e :\n",
    "        print(\"The operation failed\", e)\n"
   ]
  },
  {
   "cell_type": "markdown",
   "id": "d477a59c-a68c-4c8f-9f97-8ca5294d7d27",
   "metadata": {},
   "source": [
    "# GEO Workflow Series (\"archaeological sites\") \n",
    "\n",
    "Consider the following exploratory information need:\n",
    "\n",
    "> Search for archaeological site in the world, across countries, continents, and in reference to their culture"
   ]
  },
  {
   "cell_type": "markdown",
   "id": "4a45c0ba-f79e-441d-bec5-84401b09db70",
   "metadata": {},
   "source": [
    "## Useful URIs for the current workflow\n",
    "\n",
    "\n",
    "The following are given:\n",
    "\n",
    "| IRI           | Description   | Role      |\n",
    "| -----------   | -----------   |-----------|\n",
    "| `wdt:P1647`   | subproperty   | predicate |\n",
    "| `wdt:P31`     | instance of   | predicate |\n",
    "| `wdt:P279`    | subclass      | predicate |\n",
    "| `wdt:P17`     | country       | predicate |\n",
    "| `wd:Q38`      | Italy  | node      |\n",
    "| `wd:Q641556`  | Verona Arena  | node      |\n",
    "| `wd:Q1747689` | Ancient Rome  | node |\n",
    "| `wd:Q46`      | Europe        | node |\n",
    "| `wd:Q173527`  | Knossos       | node |\n",
    "| `wd:Q839954`  | archaeological site | node |\n",
    "\n",
    "\n",
    "Also consider\n",
    "\n",
    "```\n",
    "?p wdt:P17 wd:Q38  . \n",
    "?p wdt:P31 wd:Q839954  . \n",
    "```\n",
    "\n",
    "is the BGP to retrieve all **archaeological sites in italy**"
   ]
  },
  {
   "cell_type": "markdown",
   "id": "7af439fb-96e4-4dbb-a381-f19afab79f86",
   "metadata": {
    "tags": []
   },
   "source": [
    "## Workload Goals\n",
    "\n",
    "1. Identify the BGP that connect an archaeological site to the country, the continent, and the culture \n",
    "\n",
    "2. Identify the BGP to retrieve other types of an archaeological site, e.g., human settlement or theatre\n",
    "\n",
    "3. Is there any relevant numerical attribute that describes these sites, e.g., number visitors?\n",
    "\n",
    "4. Analyze the number of archaeological sites per type and country\n",
    " \n",
    "   4.1 Which country has more archaeological sites? Which country has the most  human settlements?\n",
    "   \n",
    "   4.2 Which countries have Ancient Rome sites, which other \"archaeological cultures\" are described?\n",
    "   \n",
    "   4.3 Which country has the most diverse set of civilizations or cultures across its sites?\n",
    "   \n",
    "   4.4 If you are interested in visiting some sites, which country would you pick? Based on what criteria?\n"
   ]
  },
  {
   "cell_type": "code",
   "execution_count": 2,
   "id": "24a853ab-830c-422c-afd3-e9e015b8b8ed",
   "metadata": {},
   "outputs": [],
   "source": [
    "# start your workflow here"
   ]
  },
  {
   "cell_type": "code",
   "execution_count": 3,
   "id": "ade01416-92e7-4ad7-b9a9-b8fb330750dc",
   "metadata": {},
   "outputs": [
    {
     "name": "stdout",
     "output_type": "stream",
     "text": [
      "Results\n",
      "[('callret-0', '1869')]\n"
     ]
    },
    {
     "data": {
      "text/plain": [
       "1"
      ]
     },
     "execution_count": 3,
     "metadata": {},
     "output_type": "execute_result"
    }
   ],
   "source": [
    "queryString = \"\"\"\n",
    "SELECT COUNT( ?p)\n",
    "WHERE { \n",
    "?p wdt:P17 wd:Q38  . \n",
    "?p wdt:P31 wd:Q839954  . \n",
    "\n",
    "} \n",
    "GROUP BY ?cult  ?arch\n",
    "\"\"\"\n",
    "\n",
    "print(\"Results\")\n",
    "run_query(queryString)"
   ]
  },
  {
   "cell_type": "markdown",
   "id": "58356356-6356-4460-bdb0-78eecdbefd33",
   "metadata": {
    "tags": []
   },
   "source": [
    "## Task 1\n",
    "Identify the BGP that connect an archaeological site to the country, the continent, and the culture"
   ]
  },
  {
   "cell_type": "markdown",
   "id": "0cddea22-ee70-4157-b6e8-6a550eb8d493",
   "metadata": {},
   "source": [
    "Use a REGEX filter to discover property related with country, culture and continent"
   ]
  },
  {
   "cell_type": "code",
   "execution_count": 4,
   "id": "ba2279f6-73ed-41fa-b2c3-82f8b142f7a9",
   "metadata": {},
   "outputs": [
    {
     "name": "stdout",
     "output_type": "stream",
     "text": [
      "Results\n",
      "[('pr', 'http://www.wikidata.org/prop/direct/P633'), ('prop', 'Quebec cultural heritage directory ID')]\n",
      "[('pr', 'http://www.wikidata.org/prop/direct/P2596'), ('prop', 'culture')]\n",
      "[('pr', 'http://www.wikidata.org/prop/direct/P17'), ('prop', 'country')]\n",
      "[('pr', 'http://www.wikidata.org/prop/direct/P7959'), ('prop', 'historic county')]\n",
      "[('pr', 'http://www.wikidata.org/prop/direct/P1586'), ('prop', 'Catalan object of cultural interest ID')]\n",
      "[('pr', 'http://www.wikidata.org/prop/direct/P30'), ('prop', 'continent')]\n",
      "[('pr', 'http://www.wikidata.org/prop/direct/P205'), ('prop', 'basin country')]\n",
      "[('pr', 'http://www.wikidata.org/prop/direct/P4245'), ('prop', 'cultural heritage monument in Serbia ID')]\n",
      "[('pr', 'http://www.wikidata.org/prop/direct/P193'), ('prop', 'main building contractor')]\n",
      "[('pr', 'http://www.wikidata.org/prop/direct/P495'), ('prop', 'country of origin')]\n",
      "[('pr', 'http://www.wikidata.org/prop/direct/P5694'), ('prop', 'Moroccan cultural heritage ID')]\n",
      "[('pr', 'http://www.wikidata.org/prop/direct/P150'), ('prop', 'contains administrative territorial entity')]\n",
      "[('pr', 'http://www.wikidata.org/prop/direct/P8047'), ('prop', 'country of registry')]\n",
      "[('pr', 'http://www.wikidata.org/prop/direct/P1626'), ('prop', 'Thai cultural heritage ID')]\n",
      "[('pr', 'http://www.wikidata.org/prop/direct/P4330'), ('prop', 'contains')]\n",
      "[('pr', 'http://www.wikidata.org/prop/direct/P762'), ('prop', 'Czech cultural heritage ID')]\n",
      "[('pr', 'http://www.wikidata.org/prop/direct/P9154'), ('prop', 'Heritage Information System ID in the database of cultural heritage in Austria')]\n",
      "[('pr', 'http://www.wikidata.org/prop/direct/P632'), ('prop', 'cultural properties of Belarus reference number')]\n",
      "[('pr', 'http://www.wikidata.org/prop/direct/P2494'), ('prop', 'Latvian cultural heritage register ID')]\n",
      "[('pr', 'http://www.wikidata.org/prop/direct/P6102'), ('prop', 'Schleswig-Holstein cultural heritage object ID')]\n",
      "[('pr', 'http://www.wikidata.org/prop/direct/P2948'), ('prop', 'Estonian cultural monument ID')]\n"
     ]
    },
    {
     "data": {
      "text/plain": [
       "21"
      ]
     },
     "execution_count": 4,
     "metadata": {},
     "output_type": "execute_result"
    }
   ],
   "source": [
    "queryString = \"\"\"\n",
    "SELECT DISTINCT ?pr ?prop\n",
    "WHERE { \n",
    "?a wdt:P31 wd:Q839954;\n",
    "    ?pr ?o.\n",
    "?pr sc:name ?prop .\n",
    "FILTER(REGEX(?prop,\\\"coun.*\\\") || REGEX(?prop,\\\"cont.*\\\") || REGEX(?prop,\\\"cult.*\\\") || REGEX(?prop,\\\"civi.*\\\") )\n",
    "}\n",
    "\"\"\"\n",
    "\n",
    "print(\"Results\")\n",
    "run_query(queryString)"
   ]
  },
  {
   "cell_type": "markdown",
   "id": "bd40677f-1076-4524-887d-06268f063a73",
   "metadata": {},
   "source": [
    "The relation of interest are:\n",
    "- `P17` country\n",
    "- `P30` continent\n",
    "- `P2596` culture"
   ]
  },
  {
   "cell_type": "markdown",
   "id": "d30605ff-7d1d-4291-b8be-b7a4a4c4dbbb",
   "metadata": {},
   "source": [
    "Use the optional match to show all the archeological site"
   ]
  },
  {
   "cell_type": "code",
   "execution_count": 5,
   "id": "05349a6b-0af1-46b7-979e-000b4685d508",
   "metadata": {},
   "outputs": [
    {
     "name": "stdout",
     "output_type": "stream",
     "text": [
      "Results\n",
      "[('site', 'Olduvai Gorge'), ('country', 'Tanzania'), ('continent', 'Africa'), ('culture', 'prehistory')]\n",
      "[('site', 'Veii'), ('country', 'Italy'), ('continent', 'Europe'), ('culture', 'Etruscans')]\n",
      "[('site', 'Keros')]\n",
      "[('site', 'Mesimvria')]\n",
      "[('site', 'Ancient Theatre of Ohrid')]\n",
      "[('site', 'Lasaea')]\n",
      "[('site', 'Tomb of Liu Sheng')]\n",
      "[('site', 'Schloss')]\n",
      "[('site', 'Burgstall Windeck')]\n",
      "[('site', 'sanctuary of Yria')]\n",
      "[('site', 'Burgstall Lichteburg')]\n",
      "[('site', 'Xixiaowang site')]\n",
      "[('site', 'Riverside Plantation Tabby Ruins')]\n",
      "[('site', 'Daughters of Jacob Bridge')]\n",
      "[('site', 'Arch of Hadrian')]\n",
      "[('site', 'Birthplace of Patrick Henry')]\n",
      "[('site', 'Aghabullogue Bridge')]\n",
      "[('site', 'Clontead More House')]\n",
      "[('site', 'Lands End Road Tabby Ruins')]\n",
      "[('site', 'Magic Mountain Site')]\n",
      "[('site', 'Hatun Uchku')]\n",
      "[('site', 'Upper Ridge Site')]\n",
      "[('site', 'Santee Indian Mound and Fort Watson')]\n",
      "[('site', 'Seven Islands Archeological and Historic District')]\n",
      "[('site', 'Roman estate')]\n",
      "[('site', 'Harimaru')]\n",
      "[('site', 'St. Helenaville Archaeological Site')]\n",
      "[('site', 'Reedy Creek Site')]\n",
      "[('site', 'Inkapintay')]\n",
      "[('site', 'Quishuar, Ancash')]\n",
      "[('site', 'Pampa Grande')]\n",
      "[('site', 'Purunllacta, Soloco')]\n",
      "[('site', 'Segóbriga')]\n",
      "[('site', 'Cempoala')]\n",
      "[('site', 'Deep Creek Furnace Site')]\n",
      "[('site', 'Pine Grove Furnace Site')]\n",
      "[('site', 'Copán')]\n",
      "[('site', 'Rupnagar')]\n",
      "[('site', \"Ensemble d'immeubles patrimoniaux du Fort-Jacques-Cartier-et-du-Manoir-Allsopp\")]\n",
      "[('site', 'Roman villa Obbicht - Steenakker')]\n",
      "[('site', 'Roman graves near Grashoek')]\n",
      "[('site', 'Roman villa Meerssen-Onderste Herkenberg')]\n",
      "[('site', 'Bolberg')]\n",
      "[('site', 'site in which traces of habitation and/or burial at Holsterkampweg')]\n",
      "[('site', 'Stoel van Swentibold')]\n",
      "[('site', 'Terrain with tumulus #45952')]\n",
      "[('site', 'Tumuli Huismeer')]\n",
      "[('site', 'site in which a flint site near Ysselsteyn')]\n",
      "[('site', 'Roman villa Swier')]\n",
      "[('site', 'D51')]\n",
      "[('site', 'D46')]\n",
      "[('site', 'D6')]\n",
      "[('site', 'Vorstengraf De Hamert')]\n",
      "[('site', 'D41')]\n",
      "[('site', 'artificial dwelling hills of Wijnaldum')]\n",
      "[('site', 'Roman villa Voerendaal-Ten Hove')]\n",
      "[('site', 'Casa Romuli')]\n",
      "[('site', 'Priddy Nine Barrows')]\n",
      "[('site', \"Offa's Dyke\")]\n",
      "[('site', 'Bridge 15 Yards North East Of Buddle Bridge')]\n",
      "[('site', 'Balma de les Ovelles')]\n",
      "[('site', 'Barcino')]\n",
      "[('site', 'Church of San Miguel, Fraga')]\n",
      "[('site', 'Hawkesley Farm moated site')]\n",
      "[('site', 'Medieval deerpark and other archaeological remains in Sutton Park')]\n",
      "[('site', 'Ancon')]\n",
      "[('site', 'Catacomba di Santa Savinilla')]\n",
      "[('site', 'Archeological Garden of Saint-Acheul')]\n",
      "[('site', 'Gymnasium')]\n",
      "[('site', 'Nuraghe Sirai')]\n",
      "[('site', 'Two enclosures 400yds (360m) NE of Mill House School')]\n",
      "[('site', 'Site of 17th century dockyard')]\n",
      "[('site', 'Part of the mining complex at South Condurrow and Wheal Grenville Mines, 410m south west of Newton Moor Farm')]\n",
      "[('site', 'Low Throston deserted medieval village')]\n",
      "[('site', 'Abbey Green Roman site')]\n",
      "[('site', 'Round 280m WNW of Higher Faugan Hotel')]\n",
      "[('site', 'Corinium Roman town')]\n",
      "[('site', 'Godrevy Headland - complex of prehistoric sites')]\n",
      "[('site', 'Tumulus NE of Cherkley Court, Leatherhead Downs')]\n",
      "[('site', \"Grim's Ditch: Old Lodge Copse to Toyd Clump\")]\n",
      "[('site', \"Site of Torpel's Manor\")]\n",
      "[('site', 'Roman pottery kilns at Island Thorns Enclosure')]\n",
      "[('site', 'Site of Sawtry Judith village adjoining Archers Wood')]\n",
      "[('site', 'Length of Roman road NE of Barningham Park')]\n",
      "[('site', 'Chessels Roman site')]\n",
      "[('site', 'Quex Park settlements')]\n",
      "[('site', 'Lomer, deserted medieval settlement')]\n",
      "[('site', 'Dodnash Priory (site of)')]\n",
      "[('site', 'Springhead Roman site')]\n",
      "[('site', 'Enclosure E of Nether Hall')]\n",
      "[('site', 'Enclosure in Preshaw Wood')]\n",
      "[('site', 'Area of middle and late Saxon town, off Greyfriars Road')]\n",
      "[('site', 'Hospital of the Holy Trinity (site of)')]\n",
      "[('site', 'Roman site, Butchery Lane')]\n",
      "[('site', 'Site of Little Saxham Hall')]\n",
      "[('site', 'Sites NW and SE of Fornham All Saints')]\n",
      "[('site', 'Grindale shrunken medieval village')]\n",
      "[('site', 'Round 550m east of Stowe Barton')]\n",
      "[('site', 'Argam ancient village site')]\n",
      "[('site', 'Castle Hills')]\n"
     ]
    },
    {
     "data": {
      "text/plain": [
       "100"
      ]
     },
     "execution_count": 5,
     "metadata": {},
     "output_type": "execute_result"
    }
   ],
   "source": [
    "queryString = \"\"\"\n",
    "SELECT ?site ?country ?continent ?culture\n",
    "WHERE { \n",
    "?arc wdt:P31 wd:Q839954.\n",
    "OPTIONAL{?arc    wdt:P17 ?a;\n",
    "    wdt:P30 ?b;\n",
    "    wdt:P2596 ?c.\n",
    "    \n",
    "?a sc:name ?country .\n",
    "?b sc:name ?continent .\n",
    "?c sc:name ?culture .}\n",
    "?arc sc:name ?site .\n",
    "}\n",
    "LIMIT 100\n",
    "\"\"\"\n",
    "\n",
    "print(\"Results\")\n",
    "run_query(queryString)"
   ]
  },
  {
   "cell_type": "markdown",
   "id": "9669d7c1-73d8-4f9c-b6c7-7610c10ae4f0",
   "metadata": {},
   "source": [
    "Force the match with all the property"
   ]
  },
  {
   "cell_type": "code",
   "execution_count": 6,
   "id": "8f0b948b-df77-41ce-afac-9eb1eebb522c",
   "metadata": {},
   "outputs": [
    {
     "name": "stdout",
     "output_type": "stream",
     "text": [
      "Results\n",
      "[('site', 'Veii'), ('country', 'Italy'), ('continent', 'Europe'), ('culture', 'Etruscans')]\n",
      "[('site', 'Olduvai Gorge'), ('country', 'Tanzania'), ('continent', 'Africa'), ('culture', 'prehistory')]\n",
      "[('site', 'Mari'), ('country', 'Syria'), ('continent', 'Asia'), ('culture', 'Semitic people')]\n",
      "[('site', 'Indian Grove (Mosca, Colorado)'), ('country', 'United States of America'), ('continent', 'North America'), ('culture', 'Ute people')]\n",
      "[('site', 'Puerco Ruin and Petroglyphs'), ('country', 'United States of America'), ('continent', 'North America'), ('culture', 'Ancient Pueblo Peoples')]\n",
      "[('site', 'Wukoki Pueblo'), ('country', 'United States of America'), ('continent', 'North America'), ('culture', 'Ancient Pueblo Peoples')]\n",
      "[('site', 'Far View House'), ('country', 'United States of America'), ('continent', 'North America'), ('culture', 'Ancient Pueblo Peoples')]\n",
      "[('site', 'Badger House Community'), ('country', 'United States of America'), ('continent', 'North America'), ('culture', 'Ancient Pueblo Peoples')]\n",
      "[('site', 'Basketmaker Pithouses'), ('country', 'United States of America'), ('continent', 'North America'), ('culture', 'Ancient Pueblo Peoples')]\n",
      "[('site', 'Dos Pilas'), ('country', 'Guatemala'), ('continent', 'North America'), ('culture', 'Maya civilization')]\n",
      "[('site', 'En Esur'), ('country', 'Israel'), ('continent', 'Asia'), ('culture', 'Canaanite')]\n",
      "[('site', 'Far View Sites Complex'), ('country', 'United States of America'), ('continent', 'North America'), ('culture', 'Ancient Pueblo Peoples')]\n",
      "[('site', '21SL55'), ('country', 'United States of America'), ('continent', 'North America'), ('culture', 'indigenous peoples of North America')]\n",
      "[('site', 'Coyote Village'), ('country', 'United States of America'), ('continent', 'North America'), ('culture', 'Ancient Pueblo Peoples')]\n",
      "[('site', 'Pipe Shrine House'), ('country', 'United States of America'), ('continent', 'North America'), ('culture', 'Ancient Pueblo Peoples')]\n",
      "[('site', 'Bald Hills Archeological District'), ('country', 'United States of America'), ('continent', 'North America'), ('culture', 'Chilula people')]\n",
      "[('site', 'Wupatki Pueblo Ball Court'), ('country', 'United States of America'), ('continent', 'North America'), ('culture', 'Ancient Pueblo Peoples')]\n",
      "[('site', 'Wupatki Pueblo'), ('country', 'United States of America'), ('continent', 'North America'), ('culture', 'Ancient Pueblo Peoples')]\n",
      "[('site', 'Sedia del Diavolo'), ('country', 'Italy'), ('continent', 'Europe'), ('culture', 'Ancient Rome')]\n",
      "[('site', 'Catacombs of San Gaudioso'), ('country', 'Italy'), ('continent', 'Europe'), ('culture', 'Ancient Rome')]\n",
      "[('site', 'Ozette Indian Village Archaeological Site'), ('country', 'United States of America'), ('continent', 'North America'), ('culture', 'Makah people')]\n",
      "[('site', 'Ozette Indian Village Archaeological Site'), ('country', 'United States of America'), ('continent', 'North America'), ('culture', 'Ozette people')]\n",
      "[('site', 'Agate House Pueblo'), ('country', 'United States of America'), ('continent', 'North America'), ('culture', 'Ancient Pueblo Peoples')]\n",
      "[('site', '1790 Footprints'), ('country', 'United States of America'), ('continent', 'Insular Oceania'), ('culture', 'Native Hawaiians')]\n",
      "[('site', 'Tusayan Ruins'), ('country', 'United States of America'), ('continent', 'North America'), ('culture', 'Ancient Pueblo Peoples')]\n",
      "[('site', 'Flattop Site'), ('country', 'United States of America'), ('continent', 'North America'), ('culture', 'Ancient Pueblo Peoples')]\n",
      "[('site', 'Cedar Tree Tower'), ('country', 'United States of America'), ('continent', 'North America'), ('culture', 'Ancient Pueblo Peoples')]\n",
      "[('site', \"X'unaxi\"), ('country', 'United States of America'), ('continent', 'North America'), ('culture', 'Auke people')]\n",
      "[('site', 'Megalithic House'), ('country', 'United States of America'), ('continent', 'North America'), ('culture', 'Ancient Pueblo Peoples')]\n",
      "[('site', 'Suasa'), ('country', 'Italy'), ('continent', 'Europe'), ('culture', 'Ancient Rome')]\n",
      "[('site', 'Pueblo Village'), ('country', 'United States of America'), ('continent', 'North America'), ('culture', 'Ancient Pueblo Peoples')]\n",
      "[('site', 'Kin Kletso'), ('country', 'United States of America'), ('continent', 'North America'), ('culture', 'Ancient Pueblo Peoples')]\n",
      "[('site', 'Two Raven House'), ('country', 'United States of America'), ('continent', 'North America'), ('culture', 'Ancient Pueblo Peoples')]\n",
      "[('site', 'Morefield Reservoir'), ('country', 'United States of America'), ('continent', 'North America'), ('culture', 'Ancient Pueblo Peoples')]\n",
      "[('site', 'Mesa Top Sites'), ('country', 'United States of America'), ('continent', 'North America'), ('culture', 'Ancient Pueblo Peoples')]\n",
      "[('site', 'Citadel Pueblo'), ('country', 'United States of America'), ('continent', 'North America'), ('culture', 'Ancient Pueblo Peoples')]\n",
      "[('site', 'Sun Temple'), ('country', 'United States of America'), ('continent', 'North America'), ('culture', 'Ancient Pueblo Peoples')]\n",
      "[('site', 'Lowry Pueblo'), ('country', 'United States of America'), ('continent', 'North America'), ('culture', 'Ancient Pueblo Peoples')]\n",
      "[('site', 'Far View Reservoir'), ('country', 'United States of America'), ('continent', 'North America'), ('culture', 'Ancient Pueblo Peoples')]\n",
      "[('site', 'Roadside Ruin'), ('country', 'United States of America'), ('continent', 'North America'), ('culture', 'Ancient Pueblo Peoples')]\n",
      "[('site', 'Nalakihu Pueblo'), ('country', 'United States of America'), ('continent', 'North America'), ('culture', 'Ancient Pueblo Peoples')]\n",
      "[('site', 'Casa Rinconada'), ('country', 'United States of America'), ('continent', 'North America'), ('culture', 'Ancient Pueblo Peoples')]\n",
      "[('site', 'Badger House'), ('country', 'United States of America'), ('continent', 'North America'), ('culture', 'Ancient Pueblo Peoples')]\n",
      "[('site', 'Horse Collar Ruin'), ('country', 'United States of America'), ('continent', 'North America'), ('culture', 'Ancient Pueblo Peoples')]\n",
      "[('site', 'Far View Tower'), ('country', 'United States of America'), ('continent', 'North America'), ('culture', 'Ancient Pueblo Peoples')]\n",
      "[('site', 'Lomaki Pueblo'), ('country', 'United States of America'), ('continent', 'North America'), ('culture', 'Ancient Pueblo Peoples')]\n",
      "[('site', 'Sun Point Pueblo'), ('country', 'United States of America'), ('continent', 'North America'), ('culture', 'Ancient Pueblo Peoples')]\n",
      "[('site', 'Box Canyon Pueblo'), ('country', 'United States of America'), ('continent', 'North America'), ('culture', 'Ancient Pueblo Peoples')]\n",
      "[('site', 'Twin Buttes Archeological District'), ('country', 'United States of America'), ('continent', 'North America'), ('culture', 'Ancient Pueblo Peoples')]\n",
      "[('site', 'Vladař'), ('country', 'Czech Republic'), ('continent', 'Europe'), ('culture', 'La Tène culture')]\n",
      "[('site', 'Vladař'), ('country', 'Czech Republic'), ('continent', 'Europe'), ('culture', 'Hallstatt culture')]\n",
      "[('site', 'Pithouse'), ('country', 'United States of America'), ('continent', 'North America'), ('culture', 'Ancient Pueblo Peoples')]\n"
     ]
    },
    {
     "data": {
      "text/plain": [
       "52"
      ]
     },
     "execution_count": 6,
     "metadata": {},
     "output_type": "execute_result"
    }
   ],
   "source": [
    "queryString = \"\"\"\n",
    "SELECT ?site ?country ?continent ?culture\n",
    "WHERE { \n",
    "?arc wdt:P31 wd:Q839954;\n",
    "    wdt:P17 ?a;\n",
    "    wdt:P30 ?b;\n",
    "    wdt:P2596 ?c.\n",
    "    \n",
    "?a sc:name ?country .\n",
    "?b sc:name ?continent .\n",
    "?c sc:name ?culture .\n",
    "?arc sc:name ?site .\n",
    "}\n",
    "LIMIT 100\n",
    "\"\"\"\n",
    "\n",
    "print(\"Results\")\n",
    "run_query(queryString)"
   ]
  },
  {
   "cell_type": "markdown",
   "id": "15052b4e-7add-45d1-ae93-f4454e0b02d0",
   "metadata": {},
   "source": [
    "Little different query to see how many cultural site have no country, no continent, no culture because only 52 have all this informations."
   ]
  },
  {
   "cell_type": "code",
   "execution_count": 7,
   "id": "54bd5ab0-45c2-4905-8845-18dc182c7793",
   "metadata": {},
   "outputs": [
    {
     "name": "stdout",
     "output_type": "stream",
     "text": [
      "Results\n",
      "[('all_site', '46862')]\n"
     ]
    },
    {
     "data": {
      "text/plain": [
       "1"
      ]
     },
     "execution_count": 7,
     "metadata": {},
     "output_type": "execute_result"
    }
   ],
   "source": [
    "#retrieve the amount of archeological site\n",
    "queryString = \"\"\"\n",
    "SELECT COUNT(*) AS ?all_site\n",
    "WHERE { \n",
    "?arc wdt:P31 wd:Q839954.\n",
    "}\n",
    "LIMIT 100\n",
    "\"\"\"\n",
    "\n",
    "print(\"Results\")\n",
    "run_query(queryString)"
   ]
  },
  {
   "cell_type": "code",
   "execution_count": 8,
   "id": "f0b301f3-4ee2-4738-a799-916e709ea6c6",
   "metadata": {},
   "outputs": [
    {
     "name": "stdout",
     "output_type": "stream",
     "text": [
      "Results\n",
      "[('no_country', '5016')]\n"
     ]
    },
    {
     "data": {
      "text/plain": [
       "1"
      ]
     },
     "execution_count": 8,
     "metadata": {},
     "output_type": "execute_result"
    }
   ],
   "source": [
    "#retrieve the amount of archeological site without the related country\n",
    "\n",
    "queryString = \"\"\"\n",
    "SELECT COUNT(*) AS ?no_country\n",
    "WHERE { \n",
    "?arc wdt:P31 wd:Q839954.\n",
    "FILTER NOT EXISTS{?arc wdt:P17 ?a.}\n",
    "}\n",
    "LIMIT 100\n",
    "\"\"\"\n",
    "\n",
    "print(\"Results\")\n",
    "run_query(queryString)"
   ]
  },
  {
   "cell_type": "code",
   "execution_count": 9,
   "id": "6c14181b-bab5-4859-8631-72192d80e78c",
   "metadata": {},
   "outputs": [
    {
     "name": "stdout",
     "output_type": "stream",
     "text": [
      "Results\n",
      "[('no_continent', '46638')]\n"
     ]
    },
    {
     "data": {
      "text/plain": [
       "1"
      ]
     },
     "execution_count": 9,
     "metadata": {},
     "output_type": "execute_result"
    }
   ],
   "source": [
    "#retrieve the amount of archeological site without the related continent\n",
    "\n",
    "queryString = \"\"\"\n",
    "SELECT COUNT(*) AS ?no_continent\n",
    "WHERE { \n",
    "?arc wdt:P31 wd:Q839954.\n",
    "FILTER NOT EXISTS{?arc wdt:P30 ?a.}\n",
    "#    wdt:P30 ?b;\n",
    " #   wdt:P2596 ?c.\n",
    "}\n",
    "LIMIT 100\n",
    "\"\"\"\n",
    "\n",
    "print(\"Results\")\n",
    "run_query(queryString)"
   ]
  },
  {
   "cell_type": "code",
   "execution_count": 10,
   "id": "2bdd7b9e-d86e-4362-83cb-a9196f231a2f",
   "metadata": {},
   "outputs": [
    {
     "name": "stdout",
     "output_type": "stream",
     "text": [
      "Results\n",
      "[('callret-0', '45184')]\n"
     ]
    },
    {
     "data": {
      "text/plain": [
       "1"
      ]
     },
     "execution_count": 10,
     "metadata": {},
     "output_type": "execute_result"
    }
   ],
   "source": [
    "#retrieve the amount of archeological site without the related culture\n",
    "\n",
    "queryString = \"\"\"\n",
    "SELECT COUNT(*)\n",
    "WHERE { \n",
    "?arc wdt:P31 wd:Q839954.\n",
    "FILTER NOT EXISTS{?arc wdt:P2596 ?a.}\n",
    "}\n",
    "LIMIT 100\n",
    "\"\"\"\n",
    "\n",
    "print(\"Results\")\n",
    "run_query(queryString)"
   ]
  },
  {
   "cell_type": "markdown",
   "id": "46f7a26b-dbb0-419a-b969-e9870cb92626",
   "metadata": {},
   "source": [
    "Now since I am smart I can look for continent through the country."
   ]
  },
  {
   "cell_type": "code",
   "execution_count": 11,
   "id": "1d14a312-e4e5-44ff-a353-b7bd8a299049",
   "metadata": {},
   "outputs": [
    {
     "name": "stdout",
     "output_type": "stream",
     "text": [
      "Results\n",
      "[('cont', '48111')]\n"
     ]
    },
    {
     "data": {
      "text/plain": [
       "1"
      ]
     },
     "execution_count": 11,
     "metadata": {},
     "output_type": "execute_result"
    }
   ],
   "source": [
    "queryString = \"\"\"\n",
    "SELECT count(?o) AS ?cont\n",
    "WHERE { \n",
    "?arc wdt:P31 wd:Q839954;\n",
    "    wdt:P17 ?a.\n",
    "?a wdt:P30 ?o.\n",
    "\n",
    "}\n",
    "LIMIT 100\n",
    "\"\"\"\n",
    "\n",
    "print(\"Results\")\n",
    "run_query(queryString)"
   ]
  },
  {
   "cell_type": "markdown",
   "id": "2b47b408-c15b-4e2c-a030-f5810ba1f33e",
   "metadata": {},
   "source": [
    "Nice result. Do again the query to find how many architectural site do not have the continent"
   ]
  },
  {
   "cell_type": "code",
   "execution_count": 12,
   "id": "f4c9f212-2de5-4a4a-80dc-b076acf0755f",
   "metadata": {},
   "outputs": [
    {
     "name": "stdout",
     "output_type": "stream",
     "text": [
      "Results\n",
      "[('cont', '5019')]\n"
     ]
    },
    {
     "data": {
      "text/plain": [
       "1"
      ]
     },
     "execution_count": 12,
     "metadata": {},
     "output_type": "execute_result"
    }
   ],
   "source": [
    "queryString = \"\"\"\n",
    "SELECT count(?arc) AS ?cont\n",
    "WHERE { \n",
    "?arc wdt:P31 wd:Q839954.\n",
    " \n",
    "\n",
    "FILTER NOT EXISTS{\n",
    "    ?arc wdt:P17 ?a.\n",
    "    ?a wdt:P30 ?o.\n",
    "}\n",
    "}\n",
    "LIMIT 100\n",
    "\"\"\"\n",
    "\n",
    "print(\"Results\")\n",
    "run_query(queryString)"
   ]
  },
  {
   "cell_type": "markdown",
   "id": "90190c97-dd07-4980-8903-f7e003050438",
   "metadata": {},
   "source": [
    "This allows me to associate the continent even if it was not put as object property for the archeological site."
   ]
  },
  {
   "cell_type": "markdown",
   "id": "6afa135a-b64b-488e-ac4d-2cf19158810e",
   "metadata": {
    "tags": []
   },
   "source": [
    "## Task 2\n",
    "Identify the BGP to retrieve other types of an archaeological site, e.g., human settlement or theatre"
   ]
  },
  {
   "cell_type": "markdown",
   "id": "f00d9f21-b0ab-478c-a2bc-b3438e27580c",
   "metadata": {},
   "source": [
    "Look for the subclasses"
   ]
  },
  {
   "cell_type": "code",
   "execution_count": 13,
   "id": "31527ded-25c8-4e28-9f85-a6945a68e7e7",
   "metadata": {},
   "outputs": [
    {
     "name": "stdout",
     "output_type": "stream",
     "text": [
      "Results\n",
      "[('ist', 'http://www.wikidata.org/entity/Q11486287'), ('ista', 'former Buddhist temple')]\n",
      "[('ist', 'http://www.wikidata.org/entity/Q1891165'), ('ista', 'mansio')]\n",
      "[('ist', 'http://www.wikidata.org/entity/Q8157'), ('ista', 'dolphin')]\n",
      "[('ist', 'http://www.wikidata.org/entity/Q1016853'), ('ista', 'burnt mound')]\n",
      "[('ist', 'http://www.wikidata.org/entity/Q107413232'), ('ista', 'moated site')]\n",
      "[('ist', 'http://www.wikidata.org/entity/Q14601169'), ('ista', 'human fortified settlement')]\n",
      "[('ist', 'http://www.wikidata.org/entity/Q31028835'), ('ista', 'level terrain fort')]\n",
      "[('ist', 'http://www.wikidata.org/entity/Q325017'), ('ista', 'causewayed enclosure')]\n",
      "[('ist', 'http://www.wikidata.org/entity/Q4868359'), ('ista', 'bastle house')]\n",
      "[('ist', 'http://www.wikidata.org/entity/Q48794661'), ('ista', 'Zona Arqueológica')]\n",
      "[('ist', 'http://www.wikidata.org/entity/Q181623'), ('ista', 'warehouse')]\n",
      "[('ist', 'http://www.wikidata.org/entity/Q39420219'), ('ista', 'archaeological monument in Mecklenburg-Vorpommern')]\n",
      "[('ist', 'http://www.wikidata.org/entity/Q39486269'), ('ista', 'railway viaduct')]\n",
      "[('ist', 'http://www.wikidata.org/entity/Q41551'), ('ista', 'pipe')]\n",
      "[('ist', 'http://www.wikidata.org/entity/Q12277'), ('ista', 'arch')]\n",
      "[('ist', 'http://www.wikidata.org/entity/Q21554854'), ('ista', 'Varangian runestone')]\n",
      "[('ist', 'http://www.wikidata.org/entity/Q2478058'), ('ista', 'reconstruction')]\n",
      "[('ist', 'http://www.wikidata.org/entity/Q30504603'), ('ista', 'Maya site in Mexico')]\n",
      "[('ist', 'http://www.wikidata.org/entity/Q56284712'), ('ista', 'industrial archaeology site')]\n",
      "[('ist', 'http://www.wikidata.org/entity/Q586552'), ('ista', 'Viking ring fortress')]\n",
      "[('ist', 'http://www.wikidata.org/entity/Q95463156'), ('ista', 'Ancient Roman dam')]\n",
      "[('ist', 'http://www.wikidata.org/entity/Q1433492'), ('ista', 'stone ship')]\n",
      "[('ist', 'http://www.wikidata.org/entity/Q2593777'), ('ista', 'grave field')]\n",
      "[('ist', 'http://www.wikidata.org/entity/Q656720'), ('ista', 'workshop')]\n",
      "[('ist', 'http://www.wikidata.org/entity/Q1193753'), ('ista', 'stone row')]\n",
      "[('ist', 'http://www.wikidata.org/entity/Q31028314'), ('ista', 'partial contour fort')]\n",
      "[('ist', 'http://www.wikidata.org/entity/Q2065736'), ('ista', 'cultural property')]\n",
      "[('ist', 'http://www.wikidata.org/entity/Q3947'), ('ista', 'house')]\n",
      "[('ist', 'http://www.wikidata.org/entity/Q164240'), ('ista', 'megalith')]\n",
      "[('ist', 'http://www.wikidata.org/entity/Q846659'), ('ista', 'Jewish cemetery')]\n",
      "[('ist', 'http://www.wikidata.org/entity/Q879050'), ('ista', 'manor house')]\n",
      "[('ist', 'http://www.wikidata.org/entity/Q14752696'), ('ista', 'ancient Roman structure')]\n",
      "[('ist', 'http://www.wikidata.org/entity/Q15911738'), ('ista', 'hydroelectric power station')]\n",
      "[('ist', 'http://www.wikidata.org/entity/Q3395377'), ('ista', 'ancient monument')]\n",
      "[('ist', 'http://www.wikidata.org/entity/Q194029'), ('ista', 'Roman road')]\n",
      "[('ist', 'http://www.wikidata.org/entity/Q179049'), ('ista', 'nature reserve')]\n",
      "[('ist', 'http://www.wikidata.org/entity/Q44494'), ('ista', 'mill')]\n",
      "[('ist', 'http://www.wikidata.org/entity/Q744099'), ('ista', 'hillfort')]\n",
      "[('ist', 'http://www.wikidata.org/entity/Q193475'), ('ista', 'menhir')]\n",
      "[('ist', 'http://www.wikidata.org/entity/Q1223230'), ('ista', 'Roman bridge')]\n",
      "[('ist', 'http://www.wikidata.org/entity/Q34023'), ('ista', 'tumulus')]\n",
      "[('ist', 'http://www.wikidata.org/entity/Q1363360'), ('ista', 'circular rampart')]\n",
      "[('ist', 'http://www.wikidata.org/entity/Q1234547'), ('ista', 'talaiot')]\n",
      "[('ist', 'http://www.wikidata.org/entity/Q12284'), ('ista', 'canal')]\n",
      "[('ist', 'http://www.wikidata.org/entity/Q15661340'), ('ista', 'ancient city')]\n",
      "[('ist', 'http://www.wikidata.org/entity/Q22746'), ('ista', 'urban park')]\n",
      "[('ist', 'http://www.wikidata.org/entity/Q23413'), ('ista', 'castle')]\n",
      "[('ist', 'http://www.wikidata.org/entity/Q43229'), ('ista', 'organization')]\n",
      "[('ist', 'http://www.wikidata.org/entity/Q4830453'), ('ista', 'business')]\n",
      "[('ist', 'http://www.wikidata.org/entity/Q4989906'), ('ista', 'monument')]\n",
      "[('ist', 'http://www.wikidata.org/entity/Q515'), ('ista', 'city')]\n",
      "[('ist', 'http://www.wikidata.org/entity/Q532'), ('ista', 'village')]\n",
      "[('ist', 'http://www.wikidata.org/entity/Q55488'), ('ista', 'railway station')]\n",
      "[('ist', 'http://www.wikidata.org/entity/Q570116'), ('ista', 'tourist attraction')]\n",
      "[('ist', 'http://www.wikidata.org/entity/Q6881511'), ('ista', 'enterprise')]\n",
      "[('ist', 'http://www.wikidata.org/entity/Q839954'), ('ista', 'archaeological site')]\n",
      "[('ist', 'http://www.wikidata.org/entity/Q210272'), ('ista', 'cultural heritage')]\n",
      "[('ist', 'http://www.wikidata.org/entity/Q21752084'), ('ista', 'Roman archaeological site')]\n",
      "[('ist', 'http://www.wikidata.org/entity/Q2202509'), ('ista', 'Roman city')]\n",
      "[('ist', 'http://www.wikidata.org/entity/Q1081138'), ('ista', 'historic site')]\n",
      "[('ist', 'http://www.wikidata.org/entity/Q12518'), ('ista', 'tower')]\n",
      "[('ist', 'http://www.wikidata.org/entity/Q27686'), ('ista', 'hotel')]\n",
      "[('ist', 'http://www.wikidata.org/entity/Q350895'), ('ista', 'abandoned village')]\n",
      "[('ist', 'http://www.wikidata.org/entity/Q358'), ('ista', 'heritage site')]\n",
      "[('ist', 'http://www.wikidata.org/entity/Q41176'), ('ista', 'building')]\n",
      "[('ist', 'http://www.wikidata.org/entity/Q1362225'), ('ista', 'warehouse')]\n",
      "[('ist', 'http://www.wikidata.org/entity/Q828909'), ('ista', 'wharf')]\n",
      "[('ist', 'http://www.wikidata.org/entity/Q96211395'), ('ista', 'heritage site in Sweden')]\n",
      "[('ist', 'http://www.wikidata.org/entity/Q1066997'), ('ista', 'weir')]\n",
      "[('ist', 'http://www.wikidata.org/entity/Q1374167'), ('ista', 'pile foundation')]\n",
      "[('ist', 'http://www.wikidata.org/entity/Q1935728'), ('ista', 'stone circle')]\n",
      "[('ist', 'http://www.wikidata.org/entity/Q46398483'), ('ista', 'textile factory')]\n",
      "[('ist', 'http://www.wikidata.org/entity/Q946725'), ('ista', 'cotton mill')]\n",
      "[('ist', 'http://www.wikidata.org/entity/Q3898745'), ('ista', 'peel tower')]\n",
      "[('ist', 'http://www.wikidata.org/entity/Q1207757'), ('ista', 'provincial temple')]\n",
      "[('ist', 'http://www.wikidata.org/entity/Q162875'), ('ista', 'mausoleum')]\n",
      "[('ist', 'http://www.wikidata.org/entity/Q31027091'), ('ista', 'registered archaeological site in Finland')]\n",
      "[('ist', 'http://www.wikidata.org/entity/Q5393308'), ('ista', 'Buddhist temple')]\n",
      "[('ist', 'http://www.wikidata.org/entity/Q811430'), ('ista', 'human-made geographic feature')]\n",
      "[('ist', 'http://www.wikidata.org/entity/Q1021645'), ('ista', 'office building')]\n",
      "[('ist', 'http://www.wikidata.org/entity/Q17715832'), ('ista', 'castle ruin')]\n",
      "[('ist', 'http://www.wikidata.org/entity/Q181348'), ('ista', 'viaduct')]\n",
      "[('ist', 'http://www.wikidata.org/entity/Q329683'), ('ista', 'industrial park')]\n",
      "[('ist', 'http://www.wikidata.org/entity/Q10436265'), ('ista', 'bruk')]\n",
      "[('ist', 'http://www.wikidata.org/entity/Q10901138'), ('ista', 'chokugan-ji')]\n",
      "[('ist', 'http://www.wikidata.org/entity/Q1666255'), ('ista', 'Pictish stone')]\n",
      "[('ist', 'http://www.wikidata.org/entity/Q28045079'), ('ista', 'contour fort')]\n",
      "[('ist', 'http://www.wikidata.org/entity/Q31029044'), ('ista', 'multiple enclosure hillfort')]\n",
      "[('ist', 'http://www.wikidata.org/entity/Q88480'), ('ista', 'moat')]\n",
      "[('ist', 'http://www.wikidata.org/entity/Q92086'), ('ista', 'promontory fort')]\n",
      "[('ist', 'http://www.wikidata.org/entity/Q9769742'), ('ista', 'Tatchū')]\n",
      "[('ist', 'http://www.wikidata.org/entity/Q1349587'), ('ista', 'earthwork')]\n",
      "[('ist', 'http://www.wikidata.org/entity/Q1030403'), ('ista', 'navigable aqueduct')]\n",
      "[('ist', 'http://www.wikidata.org/entity/Q3571153'), ('ista', 'diversion dam')]\n",
      "[('ist', 'http://www.wikidata.org/entity/Q3815129'), ('ista', 'canal basin')]\n",
      "[('ist', 'http://www.wikidata.org/entity/Q32164125'), ('ista', 'fortified manor house')]\n",
      "[('ist', 'http://www.wikidata.org/entity/Q15120977'), ('ista', 'stone grave')]\n",
      "[('ist', 'http://www.wikidata.org/entity/Q16942515'), ('ista', 'hut circle')]\n",
      "[('ist', 'http://www.wikidata.org/entity/Q191360'), ('ista', 'foundation')]\n",
      "[('ist', 'http://www.wikidata.org/entity/Q55493'), ('ista', 'goods station')]\n"
     ]
    },
    {
     "data": {
      "text/plain": [
       "100"
      ]
     },
     "execution_count": 13,
     "metadata": {},
     "output_type": "execute_result"
    }
   ],
   "source": [
    "queryString = \"\"\"\n",
    "SELECT DISTINCT ?ist ?ista\n",
    "WHERE { \n",
    "?arc wdt:P31/wdt:P279* wd:Q839954;\n",
    "    wdt:P31 ?ist.\n",
    "\n",
    "?ist sc:name ?ista .\n",
    "}\n",
    "LIMIT 100\n",
    "\"\"\"\n",
    "\n",
    "print(\"Results\")\n",
    "run_query(queryString)"
   ]
  },
  {
   "cell_type": "markdown",
   "id": "f923ff5d-345f-4064-aed8-2cf0a6a2392d",
   "metadata": {},
   "source": [
    "Use regex to find theatre or human settlement"
   ]
  },
  {
   "cell_type": "code",
   "execution_count": 14,
   "id": "51fc4d45-fdda-4746-90e8-f72a4cde981c",
   "metadata": {},
   "outputs": [
    {
     "name": "stdout",
     "output_type": "stream",
     "text": [
      "Results\n",
      "[('ist', 'http://www.wikidata.org/entity/Q14601169'), ('ista', 'human fortified settlement')]\n",
      "[('ist', 'http://www.wikidata.org/entity/Q811430'), ('ista', 'human-made geographic feature')]\n",
      "[('ist', 'http://www.wikidata.org/entity/Q486972'), ('ista', 'human settlement')]\n",
      "[('ist', 'http://www.wikidata.org/entity/Q19757'), ('ista', 'Roman theatre')]\n",
      "[('ist', 'http://www.wikidata.org/entity/Q11183017'), ('ista', 'open-air theatre')]\n",
      "[('ist', 'http://www.wikidata.org/entity/Q7362268'), ('ista', 'Roman amphitheatre')]\n",
      "[('ist', 'http://www.wikidata.org/entity/Q24354'), ('ista', 'theatre')]\n",
      "[('ist', 'http://www.wikidata.org/entity/Q2860319'), ('ista', 'Greek theatre')]\n",
      "[('ist', 'http://www.wikidata.org/entity/Q2844395'), ('ista', 'Avenches amphitheatre')]\n",
      "[('ist', 'http://www.wikidata.org/entity/Q11635'), ('ista', 'theatre')]\n",
      "[('ist', 'http://www.wikidata.org/entity/Q54831'), ('ista', 'amphitheatre')]\n",
      "[('ist', 'http://www.wikidata.org/entity/Q24933318'), ('ista', 'Gallo-Roman amphitheatre')]\n",
      "[('ist', 'http://www.wikidata.org/entity/Q5615741'), ('ista', 'latrine')]\n",
      "[('ist', 'http://www.wikidata.org/entity/Q5'), ('ista', 'human')]\n",
      "[('ist', 'http://www.wikidata.org/entity/Q9358347'), ('ista', 'theatron')]\n",
      "[('ist', 'http://www.wikidata.org/entity/Q189265'), ('ista', 'atrium')]\n"
     ]
    },
    {
     "data": {
      "text/plain": [
       "16"
      ]
     },
     "execution_count": 14,
     "metadata": {},
     "output_type": "execute_result"
    }
   ],
   "source": [
    "queryString = \"\"\"\n",
    "SELECT DISTINCT ?ist ?ista\n",
    "WHERE { \n",
    "?arc wdt:P31/wdt:P279* wd:Q839954;\n",
    "    wdt:P31 ?ist.\n",
    "\n",
    "?ist sc:name ?ista .\n",
    "filter(regex(?ista,\\\".*atr.*\\\") || regex(?ista,\\\".*human.*\\\"))\n",
    "}\n",
    "LIMIT 100\n",
    "\"\"\"\n",
    "\n",
    "print(\"Results\")\n",
    "run_query(queryString)"
   ]
  },
  {
   "cell_type": "markdown",
   "id": "b142ab94-8238-4b27-9ca7-5b08b6b3b1a1",
   "metadata": {
    "tags": []
   },
   "source": [
    "## Task 3\n",
    "Is there any relevant numerical attribute that describes these sites, e.g., number visitors?"
   ]
  },
  {
   "cell_type": "markdown",
   "id": "0b20b422-2282-4119-a38f-49e356b44241",
   "metadata": {},
   "source": [
    "With isNumeric filter I can retrieve all numeric attribute"
   ]
  },
  {
   "cell_type": "code",
   "execution_count": 15,
   "id": "c45b3214-56ba-4945-90ae-ef38ee97a5c7",
   "metadata": {},
   "outputs": [
    {
     "name": "stdout",
     "output_type": "stream",
     "text": [
      "Results\n",
      "[('pr', 'http://www.wikidata.org/prop/direct/P1103'), ('prop', 'number of platform tracks')]\n",
      "[('pr', 'http://www.wikidata.org/prop/direct/P2043'), ('prop', 'length')]\n",
      "[('pr', 'http://www.wikidata.org/prop/direct/P2046'), ('prop', 'area')]\n",
      "[('pr', 'http://www.wikidata.org/prop/direct/P3872'), ('prop', 'patronage')]\n",
      "[('pr', 'http://www.wikidata.org/prop/direct/P1314'), ('prop', 'number of spans')]\n",
      "[('pr', 'http://www.wikidata.org/prop/direct/P2787'), ('prop', 'longest span')]\n",
      "[('pr', 'http://www.wikidata.org/prop/direct/P1101'), ('prop', 'floors above ground')]\n",
      "[('pr', 'http://www.wikidata.org/prop/direct/P2044'), ('prop', 'elevation above sea level')]\n",
      "[('pr', 'http://www.wikidata.org/prop/direct/P2048'), ('prop', 'height')]\n",
      "[('pr', 'http://www.wikidata.org/prop/direct/P2225'), ('prop', 'discharge')]\n",
      "[('pr', 'http://www.wikidata.org/prop/direct/P2234'), ('prop', 'volume as quantity')]\n",
      "[('pr', 'http://www.wikidata.org/prop/direct/P1128'), ('prop', 'employees')]\n",
      "[('pr', 'http://www.wikidata.org/prop/direct/P2049'), ('prop', 'width')]\n",
      "[('pr', 'http://www.wikidata.org/prop/direct/P2076'), ('prop', 'temperature')]\n",
      "[('pr', 'http://www.wikidata.org/prop/direct/P4511'), ('prop', 'vertical depth')]\n",
      "[('pr', 'http://www.wikidata.org/prop/direct/P8687'), ('prop', 'social media followers')]\n",
      "[('pr', 'http://www.wikidata.org/prop/direct/P1174'), ('prop', 'visitors per year')]\n",
      "[('pr', 'http://www.wikidata.org/prop/direct/P2660'), ('prop', 'topographic prominence')]\n",
      "[('pr', 'http://www.wikidata.org/prop/direct/P1082'), ('prop', 'population')]\n",
      "[('pr', 'http://www.wikidata.org/prop/direct/P1083'), ('prop', 'maximum capacity')]\n",
      "[('pr', 'http://www.wikidata.org/prop/direct/P2067'), ('prop', 'mass')]\n",
      "[('pr', 'http://www.wikidata.org/prop/direct/P2386'), ('prop', 'diameter')]\n",
      "[('pr', 'http://www.wikidata.org/prop/direct/P2547'), ('prop', 'perimeter')]\n",
      "[('pr', 'http://www.wikidata.org/prop/direct/P1114'), ('prop', 'quantity')]\n",
      "[('pr', 'http://www.wikidata.org/prop/direct/P2635'), ('prop', 'number of parts of this work')]\n",
      "[('pr', 'http://www.wikidata.org/prop/direct/P2793'), ('prop', 'clearance')]\n",
      "[('pr', 'http://www.wikidata.org/prop/direct/P2284'), ('prop', 'price')]\n",
      "[('pr', 'http://www.wikidata.org/prop/direct/P1661'), ('prop', 'Alexa rank')]\n",
      "[('pr', 'http://www.wikidata.org/prop/direct/P1538'), ('prop', 'number of households')]\n",
      "[('pr', 'http://www.wikidata.org/prop/direct/P2109'), ('prop', 'installed capacity')]\n",
      "[('pr', 'http://www.wikidata.org/prop/direct/P2130'), ('prop', 'cost')]\n",
      "[('pr', 'http://www.wikidata.org/prop/direct/P2659'), ('prop', 'topographic isolation')]\n",
      "[('pr', 'http://www.wikidata.org/prop/direct/P2324'), ('prop', 'quantity buried')]\n",
      "[('pr', 'http://www.wikidata.org/prop/direct/P1539'), ('prop', 'female population')]\n",
      "[('pr', 'http://www.wikidata.org/prop/direct/P1540'), ('prop', 'male population')]\n",
      "[('pr', 'http://www.wikidata.org/prop/direct/P2610'), ('prop', 'thickness')]\n",
      "[('pr', 'http://www.wikidata.org/prop/direct/P2555'), ('prop', 'fee')]\n",
      "[('pr', 'http://www.wikidata.org/prop/direct/P2261'), ('prop', 'beam')]\n",
      "[('pr', 'http://www.wikidata.org/prop/direct/P2262'), ('prop', 'draft')]\n",
      "[('pr', 'http://www.wikidata.org/prop/direct/P6801'), ('prop', 'number of hospital beds')]\n",
      "[('pr', 'http://www.wikidata.org/prop/direct/P6498'), ('prop', 'illiterate population')]\n",
      "[('pr', 'http://www.wikidata.org/prop/direct/P6499'), ('prop', 'literate population')]\n",
      "[('pr', 'http://www.wikidata.org/prop/direct/P2927'), ('prop', 'water as percent of area')]\n",
      "[('pr', 'http://www.wikidata.org/prop/direct/P2923'), ('prop', 'focal height')]\n",
      "[('pr', 'http://www.wikidata.org/prop/direct/P2929'), ('prop', 'lighthouse range')]\n",
      "[('pr', 'http://www.wikidata.org/prop/direct/P4080'), ('prop', 'number of houses')]\n",
      "[('pr', 'http://www.wikidata.org/prop/direct/P2053'), ('prop', 'watershed area')]\n",
      "[('pr', 'http://www.wikidata.org/prop/direct/P1139'), ('prop', 'floors below ground')]\n",
      "[('pr', 'http://www.wikidata.org/prop/direct/P1093'), ('prop', 'gross tonnage')]\n",
      "[('pr', 'http://www.wikidata.org/prop/direct/P1120'), ('prop', 'number of deaths')]\n",
      "[('pr', 'http://www.wikidata.org/prop/direct/P2052'), ('prop', 'speed')]\n",
      "[('pr', 'http://www.wikidata.org/prop/direct/P5982'), ('prop', 'annual number of weddings')]\n",
      "[('pr', 'http://www.wikidata.org/prop/direct/P1436'), ('prop', 'collection or exhibition size')]\n",
      "[('pr', 'http://www.wikidata.org/prop/direct/P1132'), ('prop', 'number of participants')]\n",
      "[('pr', 'http://www.wikidata.org/prop/direct/P5524'), ('prop', 'horizontal depth')]\n"
     ]
    },
    {
     "data": {
      "text/plain": [
       "55"
      ]
     },
     "execution_count": 15,
     "metadata": {},
     "output_type": "execute_result"
    }
   ],
   "source": [
    "queryString = \"\"\"\n",
    "SELECT DISTINCT ?pr ?prop\n",
    "WHERE { \n",
    "?arc wdt:P31/wdt:P279* wd:Q839954;\n",
    "    ?pr ?o.\n",
    "\n",
    "?pr sc:name ?prop .\n",
    "filter(isNumeric(?o))\n",
    "}\n",
    "LIMIT 100\n",
    "\"\"\"\n",
    "\n",
    "print(\"Results\")\n",
    "run_query(queryString)"
   ]
  },
  {
   "cell_type": "markdown",
   "id": "3b6eb56c-1baa-4f5f-aedb-276f763fe3b2",
   "metadata": {},
   "source": [
    "`P1174` this attribute tells me the number of visitor per year. Looking at in details"
   ]
  },
  {
   "cell_type": "code",
   "execution_count": 16,
   "id": "4eb1ecf4-b8df-4476-8c9d-a118f3f82ec2",
   "metadata": {},
   "outputs": [
    {
     "name": "stdout",
     "output_type": "stream",
     "text": [
      "Results\n",
      "[('name', 'Pantheon'), ('o', '30000000')]\n",
      "[('name', 'Roman amphitheatre of Saintes'), ('o', '50000')]\n",
      "[('name', 'musée gallo-romain de Claracq'), ('o', '2883')]\n",
      "[('name', 'Prague Castle'), ('o', '512800')]\n",
      "[('name', 'Prague Castle'), ('o', '2587500')]\n",
      "[('name', 'Colosseum'), ('o', '7400000')]\n",
      "[('name', 'Orford Castle'), ('o', '31276')]\n",
      "[('name', 'Orford Castle'), ('o', '38818')]\n",
      "[('name', 'Orford Castle'), ('o', '29410')]\n",
      "[('name', 'Orford Castle'), ('o', '35552')]\n",
      "[('name', 'Orford Castle'), ('o', '29022')]\n",
      "[('name', 'Orford Castle'), ('o', '33803')]\n",
      "[('name', 'Orford Castle'), ('o', '37049')]\n",
      "[('name', 'Orford Castle'), ('o', '29974')]\n",
      "[('name', 'Orford Castle'), ('o', '6728')]\n",
      "[('name', 'Orford Castle'), ('o', '31047')]\n",
      "[('name', 'Orford Castle'), ('o', '34866')]\n",
      "[('name', 'Orford Castle'), ('o', '29062')]\n",
      "[('name', 'Orford Castle'), ('o', '37890')]\n",
      "[('name', 'Orford Castle'), ('o', '32890')]\n",
      "[('name', 'Orford Castle'), ('o', '29745')]\n",
      "[('name', 'Orford Castle'), ('o', '35620')]\n",
      "[('name', 'Ancient Corinth'), ('o', '191836')]\n",
      "[('name', 'Ancient Corinth'), ('o', '153307')]\n",
      "[('name', 'Ancient Corinth'), ('o', '196944')]\n",
      "[('name', 'Mycenae'), ('o', '398718')]\n",
      "[('name', 'Mycenae'), ('o', '495993')]\n",
      "[('name', 'Mycenae'), ('o', '412397')]\n",
      "[('name', 'Mycenae'), ('o', '342854')]\n",
      "[('name', 'Knossos'), ('o', '634710')]\n",
      "[('name', 'Knossos'), ('o', '855663')]\n",
      "[('name', 'Knossos'), ('o', '611455')]\n",
      "[('name', 'Mystras'), ('o', '145939')]\n",
      "[('name', 'Mystras'), ('o', '114293')]\n",
      "[('name', 'Mystras'), ('o', '125549')]\n",
      "[('name', 'Delphi'), ('o', '345804')]\n",
      "[('name', 'Delphi'), ('o', '405947')]\n",
      "[('name', 'Delphi'), ('o', '290705')]\n",
      "[('name', 'Tower of London'), ('o', '2741126')]\n",
      "[('name', 'Corfe Castle'), ('o', '190000')]\n",
      "[('name', 'Epidaurus'), ('o', '469060')]\n",
      "[('name', 'Epidaurus'), ('o', '375437')]\n",
      "[('name', 'Temple of Poseidon at cape Sounion'), ('o', '259709')]\n",
      "[('name', 'Temple of Poseidon at cape Sounion'), ('o', '222800')]\n",
      "[('name', 'Temple of Poseidon at cape Sounion'), ('o', '306665')]\n",
      "[('name', 'Independence National Historical Park'), ('o', '3572770')]\n",
      "[('name', 'Wupatki National Monument'), ('o', '216165')]\n",
      "[('name', 'Mesa Verde National Park'), ('o', '557248')]\n",
      "[('name', 'Paléosite de Saint-Césaire'), ('o', '68000')]\n",
      "[('name', 'Crypt of Saint Martial'), ('o', '3900')]\n",
      "[('name', 'Phaistos'), ('o', '95182')]\n",
      "[('name', 'Phaistos'), ('o', '77071')]\n",
      "[('name', 'Phaistos'), ('o', '134538')]\n",
      "[('name', 'Tibes Indigenous Ceremonial Center'), ('o', '80000')]\n",
      "[('name', 'Aigai'), ('o', '203632')]\n",
      "[('name', 'Aigai'), ('o', '186627')]\n",
      "[('name', 'Aigai'), ('o', '222503')]\n",
      "[('name', 'Amphoralis'), ('o', '10553')]\n",
      "[('name', 'Amphoralis'), ('o', '13080')]\n",
      "[('name', 'Amphoralis'), ('o', '6850')]\n",
      "[('name', 'Amphoralis'), ('o', '11560')]\n",
      "[('name', 'Amphoralis'), ('o', '6275')]\n",
      "[('name', 'Amphoralis'), ('o', '10872')]\n",
      "[('name', 'Amphoralis'), ('o', '12778')]\n",
      "[('name', 'Amphoralis'), ('o', '8641')]\n",
      "[('name', 'Amphoralis'), ('o', '5372')]\n",
      "[('name', 'Amphoralis'), ('o', '10767')]\n",
      "[('name', 'Amphoralis'), ('o', '12750')]\n",
      "[('name', 'Amphoralis'), ('o', '7976')]\n",
      "[('name', 'Amphoralis'), ('o', '13000')]\n",
      "[('name', 'Amphoralis'), ('o', '10050')]\n",
      "[('name', 'Amphoralis'), ('o', '6738')]\n",
      "[('name', 'Amphoralis'), ('o', '11000')]\n",
      "[('name', 'Acropolis of Lindos'), ('o', '441012')]\n",
      "[('name', 'Acropolis of Lindos'), ('o', '421070')]\n",
      "[('name', 'Acropolis of Lindos'), ('o', '489137')]\n",
      "[('name', 'Acropolis of Athens'), ('o', '2766218')]\n",
      "[('name', 'Acropolis of Athens'), ('o', '1807580')]\n",
      "[('name', 'Acropolis of Athens'), ('o', '3105604')]\n",
      "[('name', 'Olympia'), ('o', '484238')]\n",
      "[('name', 'Olympia'), ('o', '423424')]\n",
      "[('name', 'Olympia'), ('o', '481252')]\n",
      "[('name', 'Catacombs of Paris'), ('o', '318124')]\n",
      "[('name', 'Catacombs of Paris'), ('o', '537935')]\n",
      "[('name', 'Catacombs of Paris'), ('o', '310957')]\n",
      "[('name', 'Catacombs of Paris'), ('o', '505085')]\n",
      "[('name', 'Catacombs of Paris'), ('o', '261500')]\n",
      "[('name', 'Catacombs of Paris'), ('o', '314086')]\n",
      "[('name', 'Catacombs of Paris'), ('o', '512284')]\n",
      "[('name', 'Catacombs of Paris'), ('o', '356762')]\n"
     ]
    },
    {
     "data": {
      "text/plain": [
       "90"
      ]
     },
     "execution_count": 16,
     "metadata": {},
     "output_type": "execute_result"
    }
   ],
   "source": [
    "queryString = \"\"\"\n",
    "SELECT DISTINCT ?name ?o\n",
    "WHERE { \n",
    "?arc wdt:P31/wdt:P279* wd:Q839954;\n",
    "    wdt:P1174 ?o.\n",
    "\n",
    "?arc sc:name ?name .\n",
    "\n",
    "}\n",
    "LIMIT 100\n",
    "\"\"\"\n",
    "\n",
    "print(\"Results\")\n",
    "run_query(queryString)"
   ]
  },
  {
   "cell_type": "markdown",
   "id": "04ca744b-e915-4432-8c46-1ead0b8a3eaa",
   "metadata": {},
   "source": [
    "Since I notice more than one attribute per entity I assume that they are related on different year."
   ]
  },
  {
   "cell_type": "code",
   "execution_count": 17,
   "id": "86d4cdac-0204-4d2a-91f1-11f69c2408d3",
   "metadata": {},
   "outputs": [
    {
     "name": "stdout",
     "output_type": "stream",
     "text": [
      "Results\n",
      "[('name', 'Pantheon'), ('visitors', '60000000')]\n",
      "[('name', 'Colosseum'), ('visitors', '14800000')]\n",
      "[('name', 'Acropolis of Athens'), ('visitors', '7679402')]\n",
      "[('name', 'Independence National Historical Park'), ('visitors', '3572770')]\n",
      "[('name', 'Catacombs of Paris'), ('visitors', '3116733')]\n",
      "[('name', 'Prague Castle'), ('visitors', '3100300')]\n",
      "[('name', 'Tower of London'), ('visitors', '2741126')]\n",
      "[('name', 'Knossos'), ('visitors', '2101828')]\n",
      "[('name', 'Mycenae'), ('visitors', '1649962')]\n",
      "[('name', 'Olympia'), ('visitors', '1388914')]\n",
      "[('name', 'Acropolis of Lindos'), ('visitors', '1351219')]\n",
      "[('name', 'Delphi'), ('visitors', '1042456')]\n",
      "[('name', 'Epidaurus'), ('visitors', '844497')]\n",
      "[('name', 'Temple of Poseidon at cape Sounion'), ('visitors', '789174')]\n",
      "[('name', 'Aigai'), ('visitors', '612762')]\n",
      "[('name', 'Mesa Verde National Park'), ('visitors', '557248')]\n",
      "[('name', 'Ancient Corinth'), ('visitors', '542087')]\n",
      "[('name', 'Orford Castle'), ('visitors', '502752')]\n",
      "[('name', 'Mystras'), ('visitors', '385781')]\n",
      "[('name', 'Phaistos'), ('visitors', '306791')]\n",
      "[('name', 'Wupatki National Monument'), ('visitors', '216165')]\n",
      "[('name', 'Corfe Castle'), ('visitors', '190000')]\n",
      "[('name', 'Amphoralis'), ('visitors', '158262')]\n",
      "[('name', 'Roman amphitheatre of Saintes'), ('visitors', '100000')]\n",
      "[('name', 'Tibes Indigenous Ceremonial Center'), ('visitors', '80000')]\n",
      "[('name', 'Paléosite de Saint-Césaire'), ('visitors', '68000')]\n",
      "[('name', 'musée gallo-romain de Claracq'), ('visitors', '11532')]\n",
      "[('name', 'Crypt of Saint Martial'), ('visitors', '3900')]\n"
     ]
    },
    {
     "data": {
      "text/plain": [
       "28"
      ]
     },
     "execution_count": 17,
     "metadata": {},
     "output_type": "execute_result"
    }
   ],
   "source": [
    "queryString = \"\"\"\n",
    "SELECT DISTINCT ?name sum(?o) AS ?visitors\n",
    "WHERE { \n",
    "?arc wdt:P31/wdt:P279* wd:Q839954;\n",
    "    wdt:P1174 ?o.\n",
    "\n",
    "\n",
    "?arc sc:name ?name .\n",
    "}\n",
    "GROUP BY ?arc ?name\n",
    "ORDER BY DESC (?visitors)\n",
    "LIMIT 100\n",
    "\"\"\"\n",
    "\n",
    "print(\"Results\")\n",
    "run_query(queryString)"
   ]
  },
  {
   "cell_type": "markdown",
   "id": "ac25928e-8754-416a-978d-08540b1528ab",
   "metadata": {
    "tags": []
   },
   "source": [
    "## Task 4\n",
    "Analyze the number of archaeological sites per type and country\n",
    "\n",
    "4.1 Which country has more archaeological sites? Which country has the most human settlements?\n",
    "\n",
    "4.2 Which countries have Ancient Rome sites, which other \"archaeological cultures\" are described?\n",
    "\n",
    "4.3 Which country has the most diverse set of civilizations or cultures across its sites?\n",
    "\n",
    "4.4 If you are interested in visiting some sites, which country would you pick? Based on what criteria?"
   ]
  },
  {
   "cell_type": "markdown",
   "id": "b1cfc8ec-b02f-456b-ac3c-78a6dc72716d",
   "metadata": {},
   "source": [
    "<h3> Task 4.1 </h3> Which country has more archaeological sites? Which country has the most human settlements?"
   ]
  },
  {
   "cell_type": "code",
   "execution_count": 18,
   "id": "535c6c9b-de4e-443c-bca2-7aecb0b540fa",
   "metadata": {},
   "outputs": [
    {
     "name": "stdout",
     "output_type": "stream",
     "text": [
      "Results\n",
      "[('country', 'Sweden'), ('arc_sites', '80827')]\n",
      "[('country', 'Germany'), ('arc_sites', '52063')]\n",
      "[('country', 'United Kingdom'), ('arc_sites', '12151')]\n",
      "[('country', 'Spain'), ('arc_sites', '9843')]\n",
      "[('country', 'Denmark'), ('arc_sites', '7034')]\n",
      "[('country', 'North Macedonia'), ('arc_sites', '4335')]\n",
      "[('country', 'Finland'), ('arc_sites', '2930')]\n",
      "[('country', 'Moldova'), ('arc_sites', '2674')]\n",
      "[('country', 'Italy'), ('arc_sites', '2379')]\n",
      "[('country', 'United States of America'), ('arc_sites', '2181')]\n"
     ]
    },
    {
     "data": {
      "text/plain": [
       "10"
      ]
     },
     "execution_count": 18,
     "metadata": {},
     "output_type": "execute_result"
    }
   ],
   "source": [
    "queryString = \"\"\"\n",
    "SELECT ?country count(DISTINCT ?arc) AS ?arc_sites\n",
    "WHERE { \n",
    "?arc wdt:P31/wdt:P279* wd:Q839954;\n",
    "    wdt:P17 ?o.\n",
    "\n",
    "?o sc:name ?country .\n",
    "}\n",
    "GROUP BY ?o ?country\n",
    "ORDER BY DESC (?arc_sites)\n",
    "LIMIT 10\n",
    "\"\"\"\n",
    "\n",
    "print(\"Results\")\n",
    "run_query(queryString)"
   ]
  },
  {
   "cell_type": "code",
   "execution_count": 19,
   "id": "0e9b811f-9dc8-44a0-8167-a590eb413d61",
   "metadata": {},
   "outputs": [
    {
     "name": "stdout",
     "output_type": "stream",
     "text": [
      "Results\n",
      "[('country', 'Sweden'), ('arc_sites', '80827')]\n"
     ]
    },
    {
     "data": {
      "text/plain": [
       "1"
      ]
     },
     "execution_count": 19,
     "metadata": {},
     "output_type": "execute_result"
    }
   ],
   "source": [
    "#select the maximum \n",
    "queryString = \"\"\"\n",
    "SELECT ?country ?arc_sites\n",
    "WHERE\n",
    "{\n",
    "    {\n",
    "        SELECT max(?arc_sites) AS ?max_c\n",
    "        WHERE\n",
    "        {\n",
    "            SELECT ?country count(DISTINCT ?arc) AS ?arc_sites\n",
    "            WHERE { \n",
    "            ?arc wdt:P31/wdt:P279* wd:Q839954;\n",
    "                wdt:P17 ?o.\n",
    "\n",
    "            ?o sc:name ?country .\n",
    "            }\n",
    "            GROUP BY ?o ?country\n",
    "        }\n",
    "    }\n",
    "    {\n",
    "        SELECT ?country count(DISTINCT ?arc) AS ?arc_sites\n",
    "        WHERE { \n",
    "        ?arc wdt:P31/wdt:P279* wd:Q839954;\n",
    "            wdt:P17 ?o.\n",
    "\n",
    "        ?o sc:name ?country .\n",
    "        }\n",
    "        GROUP BY ?o ?country\n",
    "    }\n",
    "    FILTER(?arc_sites=?max_c)\n",
    "}\n",
    "\"\"\"\n",
    "\n",
    "print(\"Results\")\n",
    "run_query(queryString)"
   ]
  },
  {
   "cell_type": "markdown",
   "id": "c9f28f53-fd1c-44e3-8813-35812bc902ac",
   "metadata": {},
   "source": [
    "From one of the previous query about task 2 I found that `Q486972` is the human settlements"
   ]
  },
  {
   "cell_type": "code",
   "execution_count": 21,
   "id": "90482fb1-d7e2-482f-8f9c-5d15cefaf6e7",
   "metadata": {},
   "outputs": [
    {
     "name": "stdout",
     "output_type": "stream",
     "text": [
      "Results\n",
      "[('country', \"People's Republic of China\"), ('arc_sites', '704499')]\n",
      "[('country', 'Russia'), ('arc_sites', '203492')]\n",
      "[('country', 'Mexico'), ('arc_sites', '175618')]\n",
      "[('country', 'India'), ('arc_sites', '175391')]\n",
      "[('country', 'Indonesia'), ('arc_sites', '116463')]\n",
      "[('country', 'Germany'), ('arc_sites', '100927')]\n",
      "[('country', 'United States of America'), ('arc_sites', '97388')]\n",
      "[('country', 'Poland'), ('arc_sites', '69283')]\n",
      "[('country', 'Italy'), ('arc_sites', '66558')]\n",
      "[('country', 'Iran'), ('arc_sites', '63776')]\n"
     ]
    },
    {
     "data": {
      "text/plain": [
       "10"
      ]
     },
     "execution_count": 21,
     "metadata": {},
     "output_type": "execute_result"
    }
   ],
   "source": [
    "queryString = \"\"\"\n",
    "SELECT ?country count(DISTINCT ?arc) AS ?arc_sites\n",
    "WHERE { \n",
    "?arc wdt:P31/wdt:P279* wd:Q486972;\n",
    "    wdt:P17 ?o.\n",
    "\n",
    "?o sc:name ?country .\n",
    "}\n",
    "GROUP BY ?o ?country\n",
    "ORDER BY DESC (?arc_sites)\n",
    "LIMIT 10\n",
    "\"\"\"\n",
    "\n",
    "print(\"Results\")\n",
    "run_query(queryString)"
   ]
  },
  {
   "cell_type": "code",
   "execution_count": 22,
   "id": "bbb7b17e-69f1-46e0-93b7-5c607358130a",
   "metadata": {},
   "outputs": [
    {
     "name": "stdout",
     "output_type": "stream",
     "text": [
      "Results\n",
      "[('country', \"People's Republic of China\"), ('human_sites', '704499')]\n"
     ]
    },
    {
     "data": {
      "text/plain": [
       "1"
      ]
     },
     "execution_count": 22,
     "metadata": {},
     "output_type": "execute_result"
    }
   ],
   "source": [
    "#select the maximum\n",
    "queryString = \"\"\"\n",
    "SELECT ?country ?human_sites\n",
    "WHERE\n",
    "{\n",
    "    {\n",
    "        SELECT max(?human_sites) AS ?max_c\n",
    "        WHERE\n",
    "        {\n",
    "            SELECT ?country count(DISTINCT ?arc) AS ?human_sites\n",
    "            WHERE { \n",
    "            ?arc wdt:P31/wdt:P279* wd:Q486972;\n",
    "                wdt:P17 ?o.\n",
    "\n",
    "            ?o sc:name ?country .\n",
    "            }\n",
    "            GROUP BY ?o ?country\n",
    "        }\n",
    "    }\n",
    "    {\n",
    "        SELECT ?country count(DISTINCT ?arc) AS ?human_sites\n",
    "        WHERE { \n",
    "        ?arc wdt:P31/wdt:P279* wd:Q486972;\n",
    "            wdt:P17 ?o.\n",
    "\n",
    "        ?o sc:name ?country .\n",
    "        }\n",
    "        GROUP BY ?o ?country\n",
    "    }\n",
    "    FILTER(?human_sites=?max_c)\n",
    "}\n",
    "\"\"\"\n",
    "\n",
    "print(\"Results\")\n",
    "run_query(queryString)"
   ]
  },
  {
   "cell_type": "markdown",
   "id": "e1184e96-8c2c-4c4a-81da-e745c549a418",
   "metadata": {},
   "source": [
    "<h3> Task 4.2 </h3>\n",
    "Which countries have Ancient Rome sites, which other \"archaeological cultures\" are described?"
   ]
  },
  {
   "cell_type": "code",
   "execution_count": 23,
   "id": "d6397276-f18b-4d64-be92-5b5c93628f0a",
   "metadata": {},
   "outputs": [
    {
     "name": "stdout",
     "output_type": "stream",
     "text": [
      "Results\n",
      "[('pr', 'http://www.wikidata.org/prop/direct/P17'), ('prop', 'country')]\n",
      "[('pr', 'http://www.wikidata.org/prop/direct/P1376'), ('prop', 'capital of')]\n",
      "[('pr', 'http://www.wikidata.org/prop/direct/P149'), ('prop', 'architectural style')]\n",
      "[('pr', 'http://www.wikidata.org/prop/direct/P2596'), ('prop', 'culture')]\n",
      "[('pr', 'http://www.wikidata.org/prop/direct/P2348'), ('prop', 'time period')]\n",
      "[('pr', 'http://www.wikidata.org/prop/direct/P361'), ('prop', 'part of')]\n"
     ]
    },
    {
     "data": {
      "text/plain": [
       "6"
      ]
     },
     "execution_count": 23,
     "metadata": {},
     "output_type": "execute_result"
    }
   ],
   "source": [
    "#look for some property starting from the fact that wd:Q1747689 is the Ancient Rome\n",
    "queryString = \"\"\"\n",
    "SELECT DISTINCT ?pr ?prop\n",
    "WHERE { \n",
    "?arc wdt:P31/wdt:P279* wd:Q486972;\n",
    "    ?pr wd:Q1747689.\n",
    "\n",
    "?arc sc:name ?arc_sites .\n",
    "?pr sc:name ?prop .\n",
    "}\n",
    "LIMIT 10\n",
    "\"\"\"\n",
    "\n",
    "print(\"Results\")\n",
    "run_query(queryString)"
   ]
  },
  {
   "cell_type": "code",
   "execution_count": 24,
   "id": "17aefe3a-07c2-4c22-af9b-c89f9898058a",
   "metadata": {},
   "outputs": [
    {
     "name": "stdout",
     "output_type": "stream",
     "text": [
      "Results\n",
      "[('country', 'United Kingdom')]\n",
      "[('country', 'Ancient Rome')]\n",
      "[('country', 'Germany')]\n",
      "[('country', 'Romania')]\n",
      "[('country', 'Spain')]\n",
      "[('country', 'Italy')]\n",
      "[('country', 'Libya')]\n",
      "[('country', 'France')]\n",
      "[('country', 'Turkey')]\n",
      "[('country', 'Morocco')]\n",
      "[('country', 'Austria')]\n",
      "[('country', 'Jordan')]\n",
      "[('country', 'Bulgaria')]\n",
      "[('country', 'Syria')]\n",
      "[('country', 'Portugal')]\n",
      "[('country', 'Egypt')]\n",
      "[('country', 'Israel')]\n",
      "[('country', 'Byzantine Empire')]\n",
      "[('country', 'Greece')]\n"
     ]
    },
    {
     "data": {
      "text/plain": [
       "19"
      ]
     },
     "execution_count": 24,
     "metadata": {},
     "output_type": "execute_result"
    }
   ],
   "source": [
    "#find the country\n",
    "queryString = \"\"\"\n",
    "SELECT DISTINCT ?country\n",
    "WHERE { \n",
    "?arc wdt:P31/wdt:P279* wd:Q486972;\n",
    "    wdt:P2596 wd:Q1747689;\n",
    "    wdt:P17 ?c.\n",
    "\n",
    "?arc sc:name ?arc_sites .\n",
    "?c sc:name ?country .\n",
    "}\n",
    "LIMIT 100\n",
    "\"\"\"\n",
    "\n",
    "print(\"Results\")\n",
    "run_query(queryString)"
   ]
  },
  {
   "cell_type": "markdown",
   "id": "4abb54fc-4934-4652-a4bc-e44b468f3c06",
   "metadata": {},
   "source": [
    "If I want only proper country (exclude Byzantine Empire or Ancient Rome for example)"
   ]
  },
  {
   "cell_type": "code",
   "execution_count": 25,
   "id": "e0948ac7-e505-4bd6-a3ac-42278b120ac1",
   "metadata": {},
   "outputs": [
    {
     "name": "stdout",
     "output_type": "stream",
     "text": [
      "Results\n",
      "[('ist', 'http://www.wikidata.org/entity/Q112099'), ('ista', 'island nation')]\n",
      "[('ist', 'http://www.wikidata.org/entity/Q20181813'), ('ista', 'colonial power')]\n",
      "[('ist', 'http://www.wikidata.org/entity/Q3024240'), ('ista', 'historical country')]\n",
      "[('ist', 'http://www.wikidata.org/entity/Q3624078'), ('ista', 'sovereign state')]\n",
      "[('ist', 'http://www.wikidata.org/entity/Q4209223'), ('ista', 'Rechtsstaat')]\n",
      "[('ist', 'http://www.wikidata.org/entity/Q43702'), ('ista', 'federation')]\n",
      "[('ist', 'http://www.wikidata.org/entity/Q619610'), ('ista', 'social state')]\n",
      "[('ist', 'http://www.wikidata.org/entity/Q6256'), ('ista', 'country')]\n",
      "[('ist', 'http://www.wikidata.org/entity/Q63791824'), ('ista', 'country bordering the Baltic Sea')]\n",
      "[('ist', 'http://www.wikidata.org/entity/Q7270'), ('ista', 'republic')]\n",
      "[('ist', 'http://www.wikidata.org/entity/Q202686'), ('ista', 'Commonwealth realm')]\n",
      "[('ist', 'http://www.wikidata.org/entity/Q51576574'), ('ista', 'Mediterranean country')]\n",
      "[('ist', 'http://www.wikidata.org/entity/Q1323642'), ('ista', 'transcontinental country')]\n",
      "[('ist', 'http://www.wikidata.org/entity/Q859563'), ('ista', 'secular state')]\n",
      "[('ist', 'http://www.wikidata.org/entity/Q339834'), ('ista', 'regional power')]\n",
      "[('ist', 'http://www.wikidata.org/entity/Q41614'), ('ista', 'constitutional monarchy')]\n",
      "[('ist', 'http://www.wikidata.org/entity/Q123480'), ('ista', 'landlocked country')]\n",
      "[('ist', 'http://www.wikidata.org/entity/Q7275'), ('ista', 'state')]\n",
      "[('ist', 'http://www.wikidata.org/entity/Q179164'), ('ista', 'unitary state')]\n",
      "[('ist', 'http://www.wikidata.org/entity/Q133156'), ('ista', 'colony')]\n",
      "[('ist', 'http://www.wikidata.org/entity/Q11042'), ('ista', 'culture')]\n",
      "[('ist', 'http://www.wikidata.org/entity/Q11514315'), ('ista', 'historical period')]\n",
      "[('ist', 'http://www.wikidata.org/entity/Q1292119'), ('ista', 'style')]\n",
      "[('ist', 'http://www.wikidata.org/entity/Q48349'), ('ista', 'empire')]\n"
     ]
    },
    {
     "data": {
      "text/plain": [
       "24"
      ]
     },
     "execution_count": 25,
     "metadata": {},
     "output_type": "execute_result"
    }
   ],
   "source": [
    "#look at the classes of object related with P17 ('country') to an archeological site\n",
    "queryString = \"\"\"\n",
    "SELECT DISTINCT ?ist ?ista\n",
    "WHERE { \n",
    "?arc wdt:P31/wdt:P279* wd:Q486972;\n",
    "    wdt:P2596 wd:Q1747689;\n",
    "    wdt:P17 ?c.\n",
    "?c wdt:P31 ?ist.\n",
    "?ist sc:name ?ista .\n",
    "}\n",
    "LIMIT 100\n",
    "\"\"\"\n",
    "\n",
    "print(\"Results\")\n",
    "run_query(queryString)"
   ]
  },
  {
   "cell_type": "markdown",
   "id": "02b90349-3bc2-4a8e-8b67-5414f1bf445a",
   "metadata": {},
   "source": [
    "Found that `Q6256` is the class of country."
   ]
  },
  {
   "cell_type": "code",
   "execution_count": 26,
   "id": "ea553226-c9d1-4a56-a36a-67b627eef117",
   "metadata": {},
   "outputs": [
    {
     "name": "stdout",
     "output_type": "stream",
     "text": [
      "Results\n",
      "[('country', 'United Kingdom')]\n",
      "[('country', 'Romania')]\n",
      "[('country', 'Italy')]\n",
      "[('country', 'Libya')]\n",
      "[('country', 'France')]\n",
      "[('country', 'Turkey')]\n",
      "[('country', 'Morocco')]\n",
      "[('country', 'Austria')]\n",
      "[('country', 'Jordan')]\n",
      "[('country', 'Syria')]\n",
      "[('country', 'Bulgaria')]\n",
      "[('country', 'Egypt')]\n",
      "[('country', 'Portugal')]\n",
      "[('country', 'Israel')]\n",
      "[('country', 'Greece')]\n"
     ]
    },
    {
     "data": {
      "text/plain": [
       "15"
      ]
     },
     "execution_count": 26,
     "metadata": {},
     "output_type": "execute_result"
    }
   ],
   "source": [
    "queryString = \"\"\"\n",
    "SELECT DISTINCT ?country\n",
    "WHERE { \n",
    "?arc wdt:P31/wdt:P279* wd:Q486972;\n",
    "    wdt:P2596 wd:Q1747689;\n",
    "    wdt:P17 ?c.\n",
    "?c wdt:P31 wd:Q6256.\n",
    "?arc sc:name ?arc_sites .\n",
    "?c sc:name ?country .\n",
    "}\n",
    "LIMIT 100\n",
    "\"\"\"\n",
    "\n",
    "print(\"Results\")\n",
    "run_query(queryString)"
   ]
  },
  {
   "cell_type": "markdown",
   "id": "8792df8e-f623-4b5a-a142-578726bbd045",
   "metadata": {},
   "source": [
    "Find other archeological cultures"
   ]
  },
  {
   "cell_type": "code",
   "execution_count": 27,
   "id": "a4edd5ec-78b6-4a1c-9a7f-13763c62ed17",
   "metadata": {},
   "outputs": [
    {
     "name": "stdout",
     "output_type": "stream",
     "text": [
      "Results\n",
      "[('o', 'http://www.wikidata.org/entity/Q202165'), ('cult', 'Hallstatt culture')]\n",
      "[('o', 'http://www.wikidata.org/entity/Q223998'), ('cult', 'Urnfield culture')]\n",
      "[('o', 'http://www.wikidata.org/entity/Q611017'), ('cult', 'Lusatian culture')]\n",
      "[('o', 'http://www.wikidata.org/entity/Q206020'), ('cult', 'Circipania')]\n",
      "[('o', 'http://www.wikidata.org/entity/Q83891'), ('cult', 'Sasanian Empire')]\n",
      "[('o', 'http://www.wikidata.org/entity/Q35966'), ('cult', 'Ancient Celts')]\n",
      "[('o', 'http://www.wikidata.org/entity/Q208247'), ('cult', 'La Tène culture')]\n",
      "[('o', 'http://www.wikidata.org/entity/Q1036791'), ('cult', 'Hirpini')]\n",
      "[('o', 'http://www.wikidata.org/entity/Q1140588'), ('cult', 'Russian Americans')]\n",
      "[('o', 'http://www.wikidata.org/entity/Q536129'), ('cult', 'Tlingit people')]\n",
      "[('o', 'http://www.wikidata.org/entity/Q173082'), ('cult', 'Dacia')]\n",
      "[('o', 'http://www.wikidata.org/entity/Q640605'), ('cult', 'Yamato people')]\n",
      "[('o', 'http://www.wikidata.org/entity/Q1747689'), ('cult', 'Ancient Rome')]\n",
      "[('o', 'http://www.wikidata.org/entity/Q2277'), ('cult', 'Roman Empire')]\n",
      "[('o', 'http://www.wikidata.org/entity/Q46429'), ('cult', 'Guaraní people')]\n",
      "[('o', 'http://www.wikidata.org/entity/Q202763'), ('cult', 'Early Middle Ages')]\n",
      "[('o', 'http://www.wikidata.org/entity/Q11772'), ('cult', 'Ancient Greece')]\n",
      "[('o', 'http://www.wikidata.org/entity/Q324516'), ('cult', 'Choctaw')]\n",
      "[('o', 'http://www.wikidata.org/entity/Q806348'), ('cult', 'Linear Pottery culture')]\n",
      "[('o', 'http://www.wikidata.org/entity/Q14618893'), ('cult', 'history of the Roman Empire from 27 BCE to 395 AD')]\n",
      "[('o', 'http://www.wikidata.org/entity/Q36422'), ('cult', 'Neolithic')]\n",
      "[('o', 'http://www.wikidata.org/entity/Q872221'), ('cult', 'Cham culture')]\n",
      "[('o', 'http://www.wikidata.org/entity/Q218257'), ('cult', 'Globular Amphora culture')]\n",
      "[('o', 'http://www.wikidata.org/entity/Q470867'), ('cult', 'Bell beaker culture')]\n",
      "[('o', 'http://www.wikidata.org/entity/Q875115'), ('cult', 'Funnelbeaker culture')]\n",
      "[('o', 'http://www.wikidata.org/entity/Q773818'), ('cult', 'Unetice culture')]\n",
      "[('o', 'http://www.wikidata.org/entity/Q1309143'), ('cult', 'Knovíz culture')]\n",
      "[('o', 'http://www.wikidata.org/entity/Q1932196'), ('cult', 'Stroke-ornamented ware culture')]\n",
      "[('o', 'http://www.wikidata.org/entity/Q3497243'), ('cult', 'Věteřov culture')]\n",
      "[('o', 'http://www.wikidata.org/entity/Q570798'), ('cult', 'Michelsberg culture')]\n",
      "[('o', 'http://www.wikidata.org/entity/Q668742'), ('cult', 'Lengyel culture')]\n",
      "[('o', 'http://www.wikidata.org/entity/Q99481212'), ('cult', 'Middle Woodland period')]\n",
      "[('o', 'http://www.wikidata.org/entity/Q687230'), ('cult', 'Baden culture')]\n",
      "[('o', 'http://www.wikidata.org/entity/Q212853'), ('cult', 'Dacians')]\n",
      "[('o', 'http://www.wikidata.org/entity/Q3072663'), ('cult', 'Finnish Americans')]\n",
      "[('o', 'http://www.wikidata.org/entity/Q530894'), ('cult', 'Talaiotic Culture')]\n",
      "[('o', 'http://www.wikidata.org/entity/Q17161'), ('cult', 'Etruscans')]\n",
      "[('o', 'http://www.wikidata.org/entity/Q922562'), ('cult', 'Oenotrians')]\n",
      "[('o', 'http://www.wikidata.org/entity/Q49085'), ('cult', 'African Americans')]\n",
      "[('o', 'http://www.wikidata.org/entity/Q1156766'), ('cult', 'Japanese American')]\n",
      "[('o', 'http://www.wikidata.org/entity/Q1146100'), ('cult', 'Chinese American')]\n",
      "[('o', 'http://www.wikidata.org/entity/Q11768'), ('cult', 'Ancient Egypt')]\n",
      "[('o', 'http://www.wikidata.org/entity/Q38'), ('cult', 'Italy')]\n",
      "[('o', 'http://www.wikidata.org/entity/Q2661018'), ('cult', 'culture of Singapore')]\n",
      "[('o', 'http://www.wikidata.org/entity/Q41642'), ('cult', 'Phoenicia')]\n",
      "[('o', 'http://www.wikidata.org/entity/Q28567'), ('cult', 'Maya civilization')]\n",
      "[('o', 'http://www.wikidata.org/entity/Q134178'), ('cult', 'Minoan civilization')]\n",
      "[('o', 'http://www.wikidata.org/entity/Q35355'), ('cult', 'Sumer')]\n",
      "[('o', 'http://www.wikidata.org/entity/Q48685'), ('cult', 'Judah')]\n",
      "[('o', 'http://www.wikidata.org/entity/Q4116880'), ('cult', 'Palestinian Jews')]\n",
      "[('o', 'http://www.wikidata.org/entity/Q47690'), ('cult', 'Babylonia')]\n",
      "[('o', 'http://www.wikidata.org/entity/Q844750'), ('cult', 'Zapotec civilization')]\n",
      "[('o', 'http://www.wikidata.org/entity/Q289577'), ('cult', 'Himyarite Kingdom')]\n",
      "[('o', 'http://www.wikidata.org/entity/Q1197995'), ('cult', 'Frankokratia')]\n",
      "[('o', 'http://www.wikidata.org/entity/Q813961'), ('cult', 'Beja people')]\n",
      "[('o', 'http://www.wikidata.org/entity/Q320416'), ('cult', 'Tartessos')]\n",
      "[('o', 'http://www.wikidata.org/entity/Q220276'), ('cult', 'Third Dynasty of Egypt')]\n",
      "[('o', 'http://www.wikidata.org/entity/Q11029653'), ('cult', 'Nabataean kingdom')]\n",
      "[('o', 'http://www.wikidata.org/entity/Q28573'), ('cult', 'Inca Empire')]\n",
      "[('o', 'http://www.wikidata.org/entity/Q80702'), ('cult', 'Spanish Empire')]\n",
      "[('o', 'http://www.wikidata.org/entity/Q931423'), ('cult', 'Elymians')]\n",
      "[('o', 'http://www.wikidata.org/entity/Q11761'), ('cult', 'Bronze Age')]\n",
      "[('o', 'http://www.wikidata.org/entity/Q41137'), ('cult', 'Assyrian Empire')]\n",
      "[('o', 'http://www.wikidata.org/entity/Q745718'), ('cult', 'Assyrians')]\n",
      "[('o', 'http://www.wikidata.org/entity/Q656043'), ('cult', 'Sumerians')]\n",
      "[('o', 'http://www.wikidata.org/entity/Q629716'), ('cult', 'Micronesians')]\n",
      "[('o', 'http://www.wikidata.org/entity/Q959419'), ('cult', 'Sicels')]\n",
      "[('o', 'http://www.wikidata.org/entity/Q318144'), ('cult', 'Cycladic civilization')]\n",
      "[('o', 'http://www.wikidata.org/entity/Q705904'), ('cult', 'Seleucids')]\n",
      "[('o', 'http://www.wikidata.org/entity/Q128904'), ('cult', 'Elam')]\n",
      "[('o', 'http://www.wikidata.org/entity/Q25763'), ('cult', 'Greater Iran')]\n",
      "[('o', 'http://www.wikidata.org/entity/Q203507'), ('cult', 'Amorites')]\n",
      "[('o', 'http://www.wikidata.org/entity/Q913229'), ('cult', 'Hellenistic civilization')]\n",
      "[('o', 'http://www.wikidata.org/entity/Q230407'), ('cult', 'Kingdom of Israel')]\n",
      "[('o', 'http://www.wikidata.org/entity/Q428995'), ('cult', 'Hellenistic period')]\n",
      "[('o', 'http://www.wikidata.org/entity/Q1421436'), ('cult', 'nuragic civilization')]\n",
      "[('o', 'http://www.wikidata.org/entity/Q181264'), ('cult', 'Mycenaean Greece')]\n",
      "[('o', 'http://www.wikidata.org/entity/Q45315'), ('cult', 'Berbers')]\n",
      "[('o', 'http://www.wikidata.org/entity/Q4383747'), ('cult', 'Punics')]\n",
      "[('o', 'http://www.wikidata.org/entity/Q66049360'), ('cult', 'Slavic culture')]\n",
      "[('o', 'http://www.wikidata.org/entity/Q539051'), ('cult', 'Greeks')]\n",
      "[('o', 'http://www.wikidata.org/entity/Q11767'), ('cult', 'Mesopotamia')]\n",
      "[('o', 'http://www.wikidata.org/entity/Q3404008'), ('cult', 'Inca civilization')]\n",
      "[('o', 'http://www.wikidata.org/entity/Q1651392'), ('cult', 'Roman people')]\n",
      "[('o', 'http://www.wikidata.org/entity/Q5011445'), ('cult', 'Celtiberians')]\n",
      "[('o', 'http://www.wikidata.org/entity/Q11756'), ('cult', 'prehistory')]\n",
      "[('o', 'http://www.wikidata.org/entity/Q1546344'), ('cult', 'History of Ptolemaic Egypt')]\n",
      "[('o', 'http://www.wikidata.org/entity/Q1069609'), ('cult', 'Western Zhou Dynasty')]\n",
      "[('o', 'http://www.wikidata.org/entity/Q623215'), ('cult', 'Mixtec people')]\n",
      "[('o', 'http://www.wikidata.org/entity/Q202390'), ('cult', 'pre-Columbian era')]\n",
      "[('o', 'http://www.wikidata.org/entity/Q770281'), ('cult', 'Syro–Hittite states')]\n",
      "[('o', 'http://www.wikidata.org/entity/Q13053139'), ('cult', 'Hittite Empire')]\n",
      "[('o', 'http://www.wikidata.org/entity/Q663655'), ('cult', 'Volsci')]\n",
      "[('o', 'http://www.wikidata.org/entity/Q901198'), ('cult', 'Chimú culture')]\n",
      "[('o', 'http://www.wikidata.org/entity/Q777462'), ('cult', 'Aurunci')]\n",
      "[('o', 'http://www.wikidata.org/entity/Q17167'), ('cult', 'Roman Republic')]\n",
      "[('o', 'http://www.wikidata.org/entity/Q35323'), ('cult', 'Arabs')]\n",
      "[('o', 'http://www.wikidata.org/entity/Q952123'), ('cult', 'Sicani')]\n",
      "[('o', 'http://www.wikidata.org/entity/Q220379'), ('cult', 'Adriatic Veneti')]\n",
      "[('o', 'http://www.wikidata.org/entity/Q5406'), ('cult', 'Hittites')]\n"
     ]
    },
    {
     "data": {
      "text/plain": [
       "100"
      ]
     },
     "execution_count": 27,
     "metadata": {},
     "output_type": "execute_result"
    }
   ],
   "source": [
    "queryString = \"\"\"\n",
    "SELECT DISTINCT ?o ?cult\n",
    "WHERE { \n",
    "?arc wdt:P31/wdt:P279* wd:Q486972;\n",
    "    wdt:P2596 ?o.\n",
    "?o sc:name ?cult .\n",
    "}\n",
    "LIMIT 100\n",
    "\"\"\"\n",
    "\n",
    "print(\"Results\")\n",
    "run_query(queryString)"
   ]
  },
  {
   "cell_type": "markdown",
   "id": "81e16ad4-e11f-42d2-869e-d6d2db25873e",
   "metadata": {},
   "source": [
    "<h3> Task 4.3 </h3>Which country has the most diverse set of civilizations or cultures across its sites?"
   ]
  },
  {
   "cell_type": "markdown",
   "id": "85f8ce66-ec19-4789-81a3-a66737f15fe5",
   "metadata": {},
   "source": [
    "With the property `P2596` I relate the site with its cultures. Then bind also the country and sum over the distinct cultures"
   ]
  },
  {
   "cell_type": "code",
   "execution_count": 28,
   "id": "7833dd63-47e6-47cc-a944-5a1f35f0c86d",
   "metadata": {},
   "outputs": [
    {
     "name": "stdout",
     "output_type": "stream",
     "text": [
      "Results\n",
      "[('country', 'Italy'), ('cultures', '27')]\n",
      "[('country', 'United States of America'), ('cultures', '20')]\n",
      "[('country', 'Czech Republic'), ('cultures', '16')]\n",
      "[('country', 'Spain'), ('cultures', '12')]\n",
      "[('country', 'Turkey'), ('cultures', '12')]\n",
      "[('country', 'Israel'), ('cultures', '11')]\n",
      "[('country', 'Greece'), ('cultures', '11')]\n",
      "[('country', 'Germany'), ('cultures', '9')]\n",
      "[('country', 'Syria'), ('cultures', '8')]\n",
      "[('country', 'Iraq'), ('cultures', '8')]\n"
     ]
    },
    {
     "data": {
      "text/plain": [
       "10"
      ]
     },
     "execution_count": 28,
     "metadata": {},
     "output_type": "execute_result"
    }
   ],
   "source": [
    "queryString = \"\"\"\n",
    "SELECT ?country count(DISTINCT ?o) AS ?cultures\n",
    "WHERE { \n",
    "?arc wdt:P31/wdt:P279* wd:Q486972;\n",
    "    wdt:P17 ?c;\n",
    "    wdt:P2596 ?o.\n",
    "?o sc:name ?cult .\n",
    "?c sc:name ?country .\n",
    "}\n",
    "GROUP BY ?c ?country\n",
    "ORDER BY DESC (?cultures)\n",
    "LIMIT 10\n",
    "\"\"\"\n",
    "\n",
    "print(\"Results\")\n",
    "run_query(queryString)"
   ]
  },
  {
   "cell_type": "code",
   "execution_count": 29,
   "id": "82fa7c91-2b36-462e-aa0e-ef262e0b2790",
   "metadata": {},
   "outputs": [
    {
     "name": "stdout",
     "output_type": "stream",
     "text": [
      "Results\n",
      "[('country', 'Italy'), ('cultures', '27')]\n"
     ]
    },
    {
     "data": {
      "text/plain": [
       "1"
      ]
     },
     "execution_count": 29,
     "metadata": {},
     "output_type": "execute_result"
    }
   ],
   "source": [
    "#find the maximum\n",
    "queryString = \"\"\"\n",
    "SELECT ?country ?cultures\n",
    "WHERE\n",
    "{\n",
    "    {\n",
    "        SELECT max(?cultures) AS ?max_c\n",
    "        WHERE\n",
    "        {\n",
    "            SELECT ?country count(DISTINCT ?o) AS ?cultures\n",
    "            WHERE { \n",
    "            ?arc wdt:P31/wdt:P279* wd:Q486972;\n",
    "                wdt:P17 ?c;\n",
    "                wdt:P2596 ?o.\n",
    "            ?o sc:name ?cult .\n",
    "            ?c sc:name ?country .\n",
    "            }\n",
    "            GROUP BY ?c ?country\n",
    "        }\n",
    "    }\n",
    "    {\n",
    "        SELECT ?country count(DISTINCT ?o) AS ?cultures\n",
    "        WHERE { \n",
    "        ?arc wdt:P31/wdt:P279* wd:Q486972;\n",
    "            wdt:P17 ?c;\n",
    "            wdt:P2596 ?o.\n",
    "        ?o sc:name ?cult .\n",
    "        ?c sc:name ?country .\n",
    "        }\n",
    "        GROUP BY ?c ?country\n",
    "    }\n",
    "    FILTER(?cultures=?max_c)\n",
    "}\n",
    "\"\"\"\n",
    "\n",
    "print(\"Results\")\n",
    "run_query(queryString)"
   ]
  },
  {
   "cell_type": "markdown",
   "id": "299a7583-1c6f-496b-b1ec-c82110e8e7ec",
   "metadata": {},
   "source": [
    "<h3> Task 4.4 </h3>If you are interested in visiting some sites, which country would you pick? Based on what criteria?"
   ]
  },
  {
   "cell_type": "markdown",
   "id": "5ffc8e93-ecc1-42a3-b140-c3233ac73fb8",
   "metadata": {},
   "source": [
    "Since I like football and I was a football player I would like to see the bigger stadium in the world. So I can start looking for all the stadium and look for a numeric value that tells me the capacity of the stadium."
   ]
  },
  {
   "cell_type": "code",
   "execution_count": 30,
   "id": "eec6fc0d-cd3a-41b3-ac6f-48bc771a2ecf",
   "metadata": {},
   "outputs": [
    {
     "name": "stdout",
     "output_type": "stream",
     "text": [
      "Results\n",
      "[('ist', 'http://www.wikidata.org/entity/Q483110'), ('ista', 'stadium')]\n"
     ]
    },
    {
     "data": {
      "text/plain": [
       "1"
      ]
     },
     "execution_count": 30,
     "metadata": {},
     "output_type": "execute_result"
    }
   ],
   "source": [
    "#find the class of stadium\n",
    "queryString = \"\"\"\n",
    "SELECT DISTINCT ?ist ?ista\n",
    "WHERE { \n",
    "?st wdt:P31/wdt:P279* wd:Q839954;\n",
    "    wdt:P31 ?ist.\n",
    "\n",
    "?ist sc:name ?ista .\n",
    "filter(regex(?ista,\\\".*adium.*\\\") )\n",
    "}\n",
    "LIMIT 100\n",
    "\"\"\"\n",
    "\n",
    "print(\"Results\")\n",
    "run_query(queryString)"
   ]
  },
  {
   "cell_type": "code",
   "execution_count": 31,
   "id": "e2b26ef0-d40d-434c-afd6-eccce67e54df",
   "metadata": {},
   "outputs": [
    {
     "name": "stdout",
     "output_type": "stream",
     "text": [
      "Results\n",
      "[('pr', 'http://www.wikidata.org/prop/direct/P1083'), ('prop', 'maximum capacity')]\n",
      "[('pr', 'http://www.wikidata.org/prop/direct/P8687'), ('prop', 'social media followers')]\n",
      "[('pr', 'http://www.wikidata.org/prop/direct/P1101'), ('prop', 'floors above ground')]\n",
      "[('pr', 'http://www.wikidata.org/prop/direct/P2044'), ('prop', 'elevation above sea level')]\n",
      "[('pr', 'http://www.wikidata.org/prop/direct/P2046'), ('prop', 'area')]\n",
      "[('pr', 'http://www.wikidata.org/prop/direct/P2048'), ('prop', 'height')]\n",
      "[('pr', 'http://www.wikidata.org/prop/direct/P2130'), ('prop', 'cost')]\n",
      "[('pr', 'http://www.wikidata.org/prop/direct/P1301'), ('prop', 'number of elevators')]\n",
      "[('pr', 'http://www.wikidata.org/prop/direct/P2043'), ('prop', 'length')]\n",
      "[('pr', 'http://www.wikidata.org/prop/direct/P2049'), ('prop', 'width')]\n",
      "[('pr', 'http://www.wikidata.org/prop/direct/P2067'), ('prop', 'mass')]\n",
      "[('pr', 'http://www.wikidata.org/prop/direct/P2234'), ('prop', 'volume as quantity')]\n",
      "[('pr', 'http://www.wikidata.org/prop/direct/P2386'), ('prop', 'diameter')]\n",
      "[('pr', 'http://www.wikidata.org/prop/direct/P1174'), ('prop', 'visitors per year')]\n",
      "[('pr', 'http://www.wikidata.org/prop/direct/P1110'), ('prop', 'attendance')]\n",
      "[('pr', 'http://www.wikidata.org/prop/direct/P2284'), ('prop', 'price')]\n",
      "[('pr', 'http://www.wikidata.org/prop/direct/P1139'), ('prop', 'floors below ground')]\n",
      "[('pr', 'http://www.wikidata.org/prop/direct/P1661'), ('prop', 'Alexa rank')]\n",
      "[('pr', 'http://www.wikidata.org/prop/direct/P1128'), ('prop', 'employees')]\n",
      "[('pr', 'http://www.wikidata.org/prop/direct/P2547'), ('prop', 'perimeter')]\n"
     ]
    },
    {
     "data": {
      "text/plain": [
       "20"
      ]
     },
     "execution_count": 31,
     "metadata": {},
     "output_type": "execute_result"
    }
   ],
   "source": [
    "#look for numeric properties\n",
    "\n",
    "queryString = \"\"\"\n",
    "SELECT DISTINCT ?pr ?prop\n",
    "WHERE { \n",
    "?st wdt:P31/wdt:P279* wd:Q483110;\n",
    "    ?pr ?o.\n",
    "\n",
    "?pr sc:name ?prop .\n",
    "filter(isNumeric(?o) )\n",
    "}\n",
    "LIMIT 100\n",
    "\"\"\"\n",
    "\n",
    "print(\"Results\")\n",
    "run_query(queryString)"
   ]
  },
  {
   "cell_type": "markdown",
   "id": "27fa327f-5eb1-43fb-ac30-6c48c89cf690",
   "metadata": {},
   "source": [
    "Nice. `P1083` gives me the capacity of the stadium. Find the stadium with maximum capacity"
   ]
  },
  {
   "cell_type": "code",
   "execution_count": 32,
   "id": "9385d831-43c9-48a9-9453-35708a41a1fa",
   "metadata": {},
   "outputs": [
    {
     "name": "stdout",
     "output_type": "stream",
     "text": [
      "Results\n",
      "[('stadium', 'Deutsches Stadion'), ('country', 'Germany'), ('o', '400000')]\n",
      "[('stadium', 'Rungrado 1st of May Stadium'), ('country', 'North Korea'), ('o', '150000')]\n",
      "[('stadium', 'Parc des Sports Aguiléra'), ('country', 'France'), ('o', '134000')]\n",
      "[('stadium', 'Estádio do Morumbi'), ('country', 'Brazil'), ('o', '120000')]\n",
      "[('stadium', 'Estadio Azteca'), ('country', 'Mexico'), ('o', '115000')]\n"
     ]
    },
    {
     "data": {
      "text/plain": [
       "5"
      ]
     },
     "execution_count": 32,
     "metadata": {},
     "output_type": "execute_result"
    }
   ],
   "source": [
    "queryString = \"\"\"\n",
    "SELECT DISTINCT ?stadium ?country ?o\n",
    "WHERE { \n",
    "?st wdt:P31/wdt:P279* wd:Q483110;\n",
    "    wdt:P1083 ?o;\n",
    "    wdt:P17 ?c.\n",
    "\n",
    "?st sc:name ?stadium .\n",
    "?c sc:name ?country .\n",
    "}\n",
    "ORDER BY DESC(?o)\n",
    "LIMIT 5\n",
    "\"\"\"\n",
    "\n",
    "print(\"Results\")\n",
    "run_query(queryString)"
   ]
  },
  {
   "cell_type": "markdown",
   "id": "7cb37b2a-b208-47f9-9dd3-2f348c8bc45f",
   "metadata": {},
   "source": [
    "So I will go in Germany to visit this Deutsches Stadion!"
   ]
  },
  {
   "cell_type": "code",
   "execution_count": null,
   "id": "05c06cf0-c2f9-4915-8d54-d0f98d9e950d",
   "metadata": {},
   "outputs": [],
   "source": []
  }
 ],
 "metadata": {
  "kernelspec": {
   "display_name": "Python 3",
   "language": "python",
   "name": "python3"
  },
  "language_info": {
   "codemirror_mode": {
    "name": "ipython",
    "version": 3
   },
   "file_extension": ".py",
   "mimetype": "text/x-python",
   "name": "python",
   "nbconvert_exporter": "python",
   "pygments_lexer": "ipython3",
   "version": "3.7.10"
  }
 },
 "nbformat": 4,
 "nbformat_minor": 5
}
