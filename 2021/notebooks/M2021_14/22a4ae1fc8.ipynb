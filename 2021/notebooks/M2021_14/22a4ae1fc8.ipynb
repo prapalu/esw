{
 "cells": [
  {
   "cell_type": "markdown",
   "id": "7034c3bf-6eb0-4418-8687-7b9d2a501103",
   "metadata": {},
   "source": [
    "# General instructions\n",
    "\n",
    "The goal of the project is to materialize a set of **exploratory workloads** over a real-world, large-scale,  open-domain KG: [WikiData](https://www.wikidata.org/wiki/Wikidata:Main_Page)\n",
    "\n",
    "An exploratory workload  is composed by a set of queries, where each query is related to the information obtained previously.\n",
    "\n",
    "An exploratory workload starts with a usually vague, open ended question, and does not assume the person issuing the workload has a clear understanding of the data contained in the target database or its structure.\n",
    "\n",
    "Remeber that:\n",
    "\n",
    "1. All the queries must run in the python notebook\n",
    "2. You can use classes and properties only if you find them via a SPARQL query that must be present in the notebook\n",
    "3. You do not delete useless queries. Keep everything that is synthatically valid \n",
    "\n",
    "```\n",
    "?p sc:name ?name .\n",
    "```\n",
    "    \n",
    "is the BGP returning a human-readable name of a property or a class in Wikidata.\n",
    "    \n",
    "    "
   ]
  },
  {
   "cell_type": "code",
   "execution_count": 2,
   "id": "3605c9d5-5371-49a5-be8d-d66e8f417139",
   "metadata": {},
   "outputs": [],
   "source": [
    "## SETUP used later\n",
    "\n",
    "from SPARQLWrapper import SPARQLWrapper, JSON\n",
    "\n",
    "\n",
    "prefixString = \"\"\"\n",
    "##-22a4ae1fc8-##\n",
    "PREFIX wd: <http://www.wikidata.org/entity/> \n",
    "PREFIX wdt: <http://www.wikidata.org/prop/direct/> \n",
    "PREFIX sc: <http://schema.org/>\n",
    "\"\"\"\n",
    "\n",
    "# select and construct queries\n",
    "def run_query(queryString):\n",
    "    to_run = prefixString + \"\\n\" + queryString\n",
    "\n",
    "    sparql = SPARQLWrapper(\"http://a256-gc1-02.srv.aau.dk:5820/sparql\")\n",
    "    sparql.setTimeout(300)\n",
    "    sparql.setReturnFormat(JSON)\n",
    "    sparql.setQuery(to_run)\n",
    "\n",
    "    try :\n",
    "       results = sparql.query()\n",
    "       json_results = results.convert()\n",
    "       if len(json_results['results']['bindings'])==0:\n",
    "          print(\"Empty\")\n",
    "          return 0\n",
    "    \n",
    "       for bindings in json_results['results']['bindings']:\n",
    "          print( [ (var, value['value'])  for var, value in bindings.items() ] )\n",
    "\n",
    "       return len(json_results['results']['bindings'])\n",
    "\n",
    "    except Exception as e :\n",
    "        print(\"The operation failed\", e)\n",
    "    \n",
    "# ASk queries\n",
    "def run_ask_query(queryString):\n",
    "    to_run = prefixString + \"\\n\" + queryString\n",
    "\n",
    "    sparql = SPARQLWrapper(\"http://a256-gc1-02.srv.aau.dk:5820/sparql\")\n",
    "    sparql.setTimeout(300)\n",
    "    sparql.setReturnFormat(JSON)\n",
    "    sparql.setQuery(to_run)\n",
    "\n",
    "    try :\n",
    "        return sparql.query().convert()\n",
    "\n",
    "    except Exception as e :\n",
    "        print(\"The operation failed\", e)\n"
   ]
  },
  {
   "cell_type": "markdown",
   "id": "d477a59c-a68c-4c8f-9f97-8ca5294d7d27",
   "metadata": {},
   "source": [
    "# Sport Workflow Series (\"F1 pilots explorative search\") \n",
    "\n",
    "Consider the following exploratory information need:\n",
    "\n",
    "> explore F1 pilots, their nationality, racing teams, and the country of the parent organization of the team"
   ]
  },
  {
   "cell_type": "markdown",
   "id": "4a45c0ba-f79e-441d-bec5-84401b09db70",
   "metadata": {},
   "source": [
    "## Useful URIs for the current workflow\n",
    "\n",
    "\n",
    "The following are given:\n",
    "\n",
    "| IRI           | Description   | Role      |\n",
    "| -----------   | -----------   |-----------|\n",
    "| `wdt:P1647`   | subproperty   | predicate |\n",
    "| `wdt:P31`     | instance of   | predicate |\n",
    "| `wdt:P106`    | profession    | predicate | \n",
    "| `wdt:P279`    | subclass      | predicate |\n",
    "| `wdt:P27`     | nationality   | predicate |\n",
    "| `wdt:P17`     | country       | predicate |\n",
    "| `wd:Q10497835`| F1 Team       | node |\n",
    "| `wd:Q10841764`| F1 Driver       | node |\n",
    "| `wd:Q9671`    | Michael Schumacher      | node |\n",
    "| `wd:Q169898`  | Scuderia Ferrari         | node |\n",
    "| `wd:Q27586`   |  Ferrari         | node |\n",
    "| `wd:Q183`     | Germany       | node |\n",
    "\n",
    "\n",
    "Also consider\n",
    "\n",
    "```\n",
    "?p wdt:P106 wd:Q10841764 .\n",
    "?p wdt:P27 wd:Q183 .\n",
    "```\n",
    "\n",
    "is the BGP to retrieve all **citizens of Germany**\n",
    "\n",
    "```\n",
    "?p wdt:P17 wd:Q183 .\n",
    "?p wdt:P31 wd:Q10497835 .\n",
    "\n",
    "``` \n",
    "\n",
    "is the BGP to retrieve all **F1 teams of Germany**"
   ]
  },
  {
   "cell_type": "markdown",
   "id": "7af439fb-96e4-4dbb-a381-f19afab79f86",
   "metadata": {
    "tags": []
   },
   "source": [
    "## Workload Goals\n",
    "\n",
    "1. Identify the BGP for obtaining the team of a given  F1 driver  and also the F1 competitions in which they participated\n",
    "\n",
    "2. Identify the BGP that connects a F1 team to a parent company\n",
    "\n",
    "3. How many F1 drivers and F1 teams exist in each country?\n",
    "\n",
    "4. Compare number of F1 drivers to their nationality\n",
    " \n",
    "   4.1 Is there some driver that joined a team in their own country?\n",
    "   \n",
    "   4.2 Which team employed the larger number of drivers?\n",
    "   \n",
    "   4.3 For each country , which are the teams and drivers with the highest number of F1 race participations\n"
   ]
  },
  {
   "cell_type": "code",
   "execution_count": 2,
   "id": "24a853ab-830c-422c-afd3-e9e015b8b8ed",
   "metadata": {},
   "outputs": [],
   "source": [
    "# start your workflow here"
   ]
  },
  {
   "cell_type": "code",
   "execution_count": 3,
   "id": "ade01416-92e7-4ad7-b9a9-b8fb330750dc",
   "metadata": {},
   "outputs": [
    {
     "name": "stdout",
     "output_type": "stream",
     "text": [
      "Results\n",
      "[('callret-0', '58')]\n"
     ]
    },
    {
     "data": {
      "text/plain": [
       "1"
      ]
     },
     "execution_count": 3,
     "metadata": {},
     "output_type": "execute_result"
    }
   ],
   "source": [
    "queryString = \"\"\"\n",
    "SELECT COUNT(*)\n",
    "WHERE { \n",
    "\n",
    "?p wdt:P106 wd:Q10841764 .\n",
    "?p wdt:P27 wd:Q183 .\n",
    "\n",
    "} \n",
    "\"\"\"\n",
    "\n",
    "print(\"Results\")\n",
    "run_query(queryString)"
   ]
  },
  {
   "cell_type": "markdown",
   "id": "451c6bd2-a02b-4b3a-ac76-46d35a13a34d",
   "metadata": {
    "tags": []
   },
   "source": [
    "## Task 1"
   ]
  },
  {
   "cell_type": "markdown",
   "id": "6434abbb-329a-4892-8575-51fb8cd2dc12",
   "metadata": {},
   "source": [
    "Look for some properties of the F1 driver and teams"
   ]
  },
  {
   "cell_type": "code",
   "execution_count": 4,
   "id": "00c75fc8-3c8a-45dc-925f-46020cf51712",
   "metadata": {},
   "outputs": [
    {
     "name": "stdout",
     "output_type": "stream",
     "text": [
      "Results\n",
      "[('p', 'http://www.wikidata.org/prop/direct/P1424'), ('name', \"topic's main template\")]\n",
      "[('p', 'http://www.wikidata.org/prop/direct/P2354'), ('name', 'has list')]\n",
      "[('p', 'http://www.wikidata.org/prop/direct/P279'), ('name', 'subclass of')]\n",
      "[('p', 'http://www.wikidata.org/prop/direct/P31'), ('name', 'instance of')]\n",
      "[('p', 'http://www.wikidata.org/prop/direct/P425'), ('name', 'field of this occupation')]\n",
      "[('p', 'http://www.wikidata.org/prop/direct/P8408'), ('name', 'KBpedia ID')]\n",
      "[('p', 'http://www.wikidata.org/prop/direct/P910'), ('name', \"topic's main category\")]\n"
     ]
    },
    {
     "data": {
      "text/plain": [
       "7"
      ]
     },
     "execution_count": 4,
     "metadata": {},
     "output_type": "execute_result"
    }
   ],
   "source": [
    "#relations for the drivers\n",
    "queryString = \"\"\"\n",
    "SELECT DISTINCT ?p ?name\n",
    "WHERE { \n",
    "wd:Q10841764 ?p ?t .\n",
    "?p sc:name ?name .\n",
    "FILTER(!isLiteral(?o))\n",
    "} \n",
    "LIMIT 100\n",
    "\"\"\"\n",
    "\n",
    "print(\"Results\")\n",
    "run_query(queryString)"
   ]
  },
  {
   "cell_type": "code",
   "execution_count": 5,
   "id": "0ee14630-3113-4fd4-ad78-ca4ecb46ce20",
   "metadata": {},
   "outputs": [
    {
     "name": "stdout",
     "output_type": "stream",
     "text": [
      "Results\n",
      "[('p', 'http://www.wikidata.org/prop/direct/P1889'), ('name', 'different from')]\n",
      "[('p', 'http://www.wikidata.org/prop/direct/P2671'), ('name', 'Google Knowledge Graph ID')]\n",
      "[('p', 'http://www.wikidata.org/prop/direct/P279'), ('name', 'subclass of')]\n",
      "[('p', 'http://www.wikidata.org/prop/direct/P641'), ('name', 'sport')]\n",
      "[('p', 'http://www.wikidata.org/prop/direct/P910'), ('name', \"topic's main category\")]\n"
     ]
    },
    {
     "data": {
      "text/plain": [
       "5"
      ]
     },
     "execution_count": 5,
     "metadata": {},
     "output_type": "execute_result"
    }
   ],
   "source": [
    "#relations for the teams\n",
    "queryString = \"\"\"\n",
    "SELECT DISTINCT ?p ?name\n",
    "WHERE { \n",
    "wd:Q10497835 ?p ?t .\n",
    "?p sc:name ?name .\n",
    "FILTER(!isLiteral(?o))\n",
    "} \n",
    "LIMIT 100\n",
    "\"\"\"\n",
    "\n",
    "print(\"Results\")\n",
    "run_query(queryString)"
   ]
  },
  {
   "cell_type": "markdown",
   "id": "ae18ab4c-ae23-433a-b07d-3e3d1213602b",
   "metadata": {},
   "source": [
    "From this find the sport `Formula One`"
   ]
  },
  {
   "cell_type": "code",
   "execution_count": 6,
   "id": "1e378f6e-540b-43b9-bedc-61ec2d48ba61",
   "metadata": {},
   "outputs": [
    {
     "name": "stdout",
     "output_type": "stream",
     "text": [
      "Results\n",
      "[('t', 'http://www.wikidata.org/entity/Q1968'), ('name', 'Formula One')]\n"
     ]
    },
    {
     "data": {
      "text/plain": [
       "1"
      ]
     },
     "execution_count": 6,
     "metadata": {},
     "output_type": "execute_result"
    }
   ],
   "source": [
    "#relations for the teams\n",
    "queryString = \"\"\"\n",
    "SELECT DISTINCT ?t ?name\n",
    "WHERE { \n",
    "wd:Q10497835 wdt:P641 ?t .\n",
    "?t sc:name ?name .\n",
    "} \n",
    "LIMIT 100\n",
    "\"\"\"\n",
    "\n",
    "print(\"Results\")\n",
    "run_query(queryString)"
   ]
  },
  {
   "cell_type": "markdown",
   "id": "93e9f9df-1738-4bbb-9f21-7ed7676b7967",
   "metadata": {},
   "source": [
    "`wd:Q1968` is the node Formula One\n",
    "\n",
    "Find the outgoing relations from an F1 Driver that point to an instance of F1 Team"
   ]
  },
  {
   "cell_type": "code",
   "execution_count": 7,
   "id": "9a0fa053-3286-415c-8c32-9d709512723f",
   "metadata": {},
   "outputs": [
    {
     "name": "stdout",
     "output_type": "stream",
     "text": [
      "Results\n",
      "[('p', 'http://www.wikidata.org/prop/direct/P108'), ('name', 'employer')]\n",
      "[('p', 'http://www.wikidata.org/prop/direct/P463'), ('name', 'member of')]\n",
      "[('p', 'http://www.wikidata.org/prop/direct/P54'), ('name', 'member of sports team')]\n"
     ]
    },
    {
     "data": {
      "text/plain": [
       "3"
      ]
     },
     "execution_count": 7,
     "metadata": {},
     "output_type": "execute_result"
    }
   ],
   "source": [
    "queryString = \"\"\"\n",
    "SELECT DISTINCT ?p ?name\n",
    "WHERE { \n",
    "\n",
    "?t wdt:P31 wd:Q10497835 .\n",
    "\n",
    "?a wdt:P106 wd:Q10841764.\n",
    "?a ?p ?t .\n",
    "?p sc:name ?name .\n",
    "FILTER(!isLiteral(?o))\n",
    "} \n",
    "LIMIT 100\n",
    "\"\"\"\n",
    "\n",
    "print(\"Results\")\n",
    "run_query(queryString)"
   ]
  },
  {
   "cell_type": "markdown",
   "id": "d87d8638-2a31-4070-b15f-e2204a82d9ed",
   "metadata": {},
   "source": [
    "Looking in deeper about relation \"member of\" and \"member of sports team\" but seems that \"member of\" is the F1 team."
   ]
  },
  {
   "cell_type": "code",
   "execution_count": 8,
   "id": "c98d1f66-beee-44bd-a839-852cd0ff186b",
   "metadata": {},
   "outputs": [
    {
     "name": "stdout",
     "output_type": "stream",
     "text": [
      "Results\n",
      "[('a', 'http://www.wikidata.org/entity/Q172057'), ('driver', 'Reg Parnell'), ('team', 'Alfa Romeo')]\n",
      "[('a', 'http://www.wikidata.org/entity/Q544856'), ('driver', 'Carlos Sainz Jr'), ('team', 'Scuderia Toro Rosso')]\n",
      "[('a', 'http://www.wikidata.org/entity/Q544856'), ('driver', 'Carlos Sainz Jr'), ('team', 'McLaren')]\n",
      "[('a', 'http://www.wikidata.org/entity/Q544856'), ('driver', 'Carlos Sainz Jr'), ('team', 'Renault F1 Team')]\n",
      "[('a', 'http://www.wikidata.org/entity/Q3128'), ('driver', 'Graham Hill'), ('team', 'British Racing Motors')]\n",
      "[('a', 'http://www.wikidata.org/entity/Q3128'), ('driver', 'Graham Hill'), ('team', 'Equipe Matra Sports')]\n",
      "[('a', 'http://www.wikidata.org/entity/Q3128'), ('driver', 'Graham Hill'), ('team', 'Brabham')]\n",
      "[('a', 'http://www.wikidata.org/entity/Q3153'), ('driver', 'John Surtees'), ('team', 'British Racing Motors')]\n",
      "[('a', 'http://www.wikidata.org/entity/Q3153'), ('driver', 'John Surtees'), ('team', 'Honda')]\n",
      "[('a', 'http://www.wikidata.org/entity/Q3153'), ('driver', 'John Surtees'), ('team', 'Scuderia Ferrari')]\n",
      "[('a', 'http://www.wikidata.org/entity/Q10490'), ('driver', 'Ayrton Senna'), ('team', 'Williams Grand Prix Engineering')]\n",
      "[('a', 'http://www.wikidata.org/entity/Q10490'), ('driver', 'Ayrton Senna'), ('team', 'McLaren')]\n",
      "[('a', 'http://www.wikidata.org/entity/Q140393'), ('driver', 'James Hunt'), ('team', 'McLaren')]\n",
      "[('a', 'http://www.wikidata.org/entity/Q172759'), ('driver', 'Riccardo Patrese'), ('team', 'Alfa Romeo')]\n",
      "[('a', 'http://www.wikidata.org/entity/Q78489'), ('driver', 'Niki Lauda'), ('team', 'British Racing Motors')]\n",
      "[('a', 'http://www.wikidata.org/entity/Q78489'), ('driver', 'Niki Lauda'), ('team', 'March Engineering')]\n",
      "[('a', 'http://www.wikidata.org/entity/Q78489'), ('driver', 'Niki Lauda'), ('team', 'Scuderia Ferrari')]\n",
      "[('a', 'http://www.wikidata.org/entity/Q78489'), ('driver', 'Niki Lauda'), ('team', 'McLaren')]\n",
      "[('a', 'http://www.wikidata.org/entity/Q78489'), ('driver', 'Niki Lauda'), ('team', 'Brabham')]\n",
      "[('a', 'http://www.wikidata.org/entity/Q171312'), ('driver', 'Mario Andretti'), ('team', 'Alfa Romeo')]\n",
      "[('a', 'http://www.wikidata.org/entity/Q171479'), ('driver', 'Jean-Louis Schlesser'), ('team', 'Williams Grand Prix Engineering')]\n",
      "[('a', 'http://www.wikidata.org/entity/Q172845'), ('driver', 'Gilles Villeneuve'), ('team', 'Scuderia Ferrari')]\n",
      "[('a', 'http://www.wikidata.org/entity/Q173112'), ('driver', 'Bruno Giacomelli'), ('team', 'Alfa Romeo')]\n",
      "[('a', 'http://www.wikidata.org/entity/Q173112'), ('driver', 'Bruno Giacomelli'), ('team', 'McLaren')]\n",
      "[('a', 'http://www.wikidata.org/entity/Q173112'), ('driver', 'Bruno Giacomelli'), ('team', 'Life Racing Engines')]\n",
      "[('a', 'http://www.wikidata.org/entity/Q173379'), ('driver', 'Luis Pérez-Sala'), ('team', 'Minardi')]\n",
      "[('a', 'http://www.wikidata.org/entity/Q3166'), ('driver', 'Denny Hulme'), ('team', 'Tyrrell Racing')]\n",
      "[('a', 'http://www.wikidata.org/entity/Q3166'), ('driver', 'Denny Hulme'), ('team', 'McLaren')]\n",
      "[('a', 'http://www.wikidata.org/entity/Q3166'), ('driver', 'Denny Hulme'), ('team', 'Brabham')]\n",
      "[('a', 'http://www.wikidata.org/entity/Q171481'), ('driver', 'Tony Brooks'), ('team', 'British Racing Motors')]\n",
      "[('a', 'http://www.wikidata.org/entity/Q171481'), ('driver', 'Tony Brooks'), ('team', 'Scuderia Ferrari')]\n",
      "[('a', 'http://www.wikidata.org/entity/Q57435'), ('driver', 'Stefan Bellof'), ('team', 'Tyrrell Racing')]\n",
      "[('a', 'http://www.wikidata.org/entity/Q42311'), ('driver', 'Sebastian Vettel'), ('team', 'Scuderia Toro Rosso')]\n",
      "[('a', 'http://www.wikidata.org/entity/Q42311'), ('driver', 'Sebastian Vettel'), ('team', 'Red Bull Racing')]\n",
      "[('a', 'http://www.wikidata.org/entity/Q42311'), ('driver', 'Sebastian Vettel'), ('team', 'Scuderia Ferrari')]\n",
      "[('a', 'http://www.wikidata.org/entity/Q9671'), ('driver', 'Michael Schumacher'), ('team', 'Scuderia Ferrari')]\n",
      "[('a', 'http://www.wikidata.org/entity/Q9671'), ('driver', 'Michael Schumacher'), ('team', 'Benetton Formula')]\n",
      "[('a', 'http://www.wikidata.org/entity/Q9671'), ('driver', 'Michael Schumacher'), ('team', 'Jordan Grand Prix')]\n",
      "[('a', 'http://www.wikidata.org/entity/Q9671'), ('driver', 'Michael Schumacher'), ('team', 'Mercedes')]\n",
      "[('a', 'http://www.wikidata.org/entity/Q11192'), ('driver', 'Kimi Räikkönen'), ('team', 'Alfa Romeo')]\n",
      "[('a', 'http://www.wikidata.org/entity/Q11192'), ('driver', 'Kimi Räikkönen'), ('team', 'Scuderia Ferrari')]\n",
      "[('a', 'http://www.wikidata.org/entity/Q171531'), ('driver', 'Joseph Siffert'), ('team', 'British Racing Motors')]\n",
      "[('a', 'http://www.wikidata.org/entity/Q171531'), ('driver', 'Joseph Siffert'), ('team', 'March Engineering')]\n",
      "[('a', 'http://www.wikidata.org/entity/Q172832'), ('driver', 'David Coulthard'), ('team', 'Red Bull Racing')]\n",
      "[('a', 'http://www.wikidata.org/entity/Q172832'), ('driver', 'David Coulthard'), ('team', 'Williams Grand Prix Engineering')]\n",
      "[('a', 'http://www.wikidata.org/entity/Q172832'), ('driver', 'David Coulthard'), ('team', 'McLaren')]\n",
      "[('a', 'http://www.wikidata.org/entity/Q2069'), ('driver', 'Juan Manuel Fangio'), ('team', 'Alfa Romeo')]\n",
      "[('a', 'http://www.wikidata.org/entity/Q2125'), ('driver', 'Jack Brabham'), ('team', 'Brabham')]\n",
      "[('a', 'http://www.wikidata.org/entity/Q3188'), ('driver', 'Jackie Stewart'), ('team', 'Tyrrell Racing')]\n",
      "[('a', 'http://www.wikidata.org/entity/Q3188'), ('driver', 'Jackie Stewart'), ('team', 'British Racing Motors')]\n",
      "[('a', 'http://www.wikidata.org/entity/Q3188'), ('driver', 'Jackie Stewart'), ('team', 'Equipe Matra Sports')]\n",
      "[('a', 'http://www.wikidata.org/entity/Q75820'), ('driver', 'Nico Rosberg'), ('team', 'Williams Grand Prix Engineering')]\n",
      "[('a', 'http://www.wikidata.org/entity/Q75820'), ('driver', 'Nico Rosberg'), ('team', 'Mercedes')]\n",
      "[('a', 'http://www.wikidata.org/entity/Q78502'), ('driver', 'Gerhard Berger'), ('team', 'Scuderia Ferrari')]\n",
      "[('a', 'http://www.wikidata.org/entity/Q78502'), ('driver', 'Gerhard Berger'), ('team', 'Benetton Formula')]\n",
      "[('a', 'http://www.wikidata.org/entity/Q78502'), ('driver', 'Gerhard Berger'), ('team', 'McLaren')]\n",
      "[('a', 'http://www.wikidata.org/entity/Q78502'), ('driver', 'Gerhard Berger'), ('team', 'Arrows')]\n",
      "[('a', 'http://www.wikidata.org/entity/Q9673'), ('driver', 'Lewis Hamilton'), ('team', 'McLaren')]\n",
      "[('a', 'http://www.wikidata.org/entity/Q9673'), ('driver', 'Lewis Hamilton'), ('team', 'Mercedes')]\n",
      "[('a', 'http://www.wikidata.org/entity/Q171717'), ('driver', 'Roy Salvadori'), ('team', 'British Racing Motors')]\n",
      "[('a', 'http://www.wikidata.org/entity/Q173205'), ('driver', 'Eddie Cheever'), ('team', 'Alfa Romeo')]\n",
      "[('a', 'http://www.wikidata.org/entity/Q10514'), ('driver', 'Fernando Alonso'), ('team', 'Minardi')]\n",
      "[('a', 'http://www.wikidata.org/entity/Q10514'), ('driver', 'Fernando Alonso'), ('team', 'Scuderia Ferrari')]\n",
      "[('a', 'http://www.wikidata.org/entity/Q10514'), ('driver', 'Fernando Alonso'), ('team', 'McLaren')]\n",
      "[('a', 'http://www.wikidata.org/entity/Q10514'), ('driver', 'Fernando Alonso'), ('team', 'Renault F1 Team')]\n",
      "[('a', 'http://www.wikidata.org/entity/Q10514'), ('driver', 'Fernando Alonso'), ('team', 'Alpine F1 Team')]\n",
      "[('a', 'http://www.wikidata.org/entity/Q173123'), ('driver', 'Jacky Ickx'), ('team', 'Scuderia Ferrari')]\n",
      "[('a', 'http://www.wikidata.org/entity/Q173123'), ('driver', 'Jacky Ickx'), ('team', 'Williams Grand Prix Engineering')]\n",
      "[('a', 'http://www.wikidata.org/entity/Q173123'), ('driver', 'Jacky Ickx'), ('team', 'McLaren')]\n",
      "[('a', 'http://www.wikidata.org/entity/Q173123'), ('driver', 'Jacky Ickx'), ('team', 'Brabham')]\n",
      "[('a', 'http://www.wikidata.org/entity/Q138745'), ('driver', 'Valtteri Bottas'), ('team', 'Williams Grand Prix Engineering')]\n",
      "[('a', 'http://www.wikidata.org/entity/Q138745'), ('driver', 'Valtteri Bottas'), ('team', 'Mercedes')]\n",
      "[('a', 'http://www.wikidata.org/entity/Q60886'), ('driver', 'Paul Pietsch'), ('team', 'Alfa Romeo')]\n",
      "[('a', 'http://www.wikidata.org/entity/Q82742'), ('driver', 'Romain Grosjean'), ('team', 'Haas F1 Team')]\n",
      "[('a', 'http://www.wikidata.org/entity/Q16149172'), ('driver', 'Alexander Albon'), ('team', 'Scuderia Toro Rosso')]\n",
      "[('a', 'http://www.wikidata.org/entity/Q16149172'), ('driver', 'Alexander Albon'), ('team', 'Red Bull Racing')]\n",
      "[('a', 'http://www.wikidata.org/entity/Q171381'), ('driver', 'Keke Rosberg'), ('team', 'Williams Grand Prix Engineering')]\n",
      "[('a', 'http://www.wikidata.org/entity/Q171381'), ('driver', 'Keke Rosberg'), ('team', 'McLaren')]\n",
      "[('a', 'http://www.wikidata.org/entity/Q11816647'), ('driver', 'Pierre Gasly'), ('team', 'Scuderia Toro Rosso')]\n",
      "[('a', 'http://www.wikidata.org/entity/Q11816647'), ('driver', 'Pierre Gasly'), ('team', 'Red Bull Racing')]\n",
      "[('a', 'http://www.wikidata.org/entity/Q160359'), ('driver', 'Robert Kubica'), ('team', 'Williams Grand Prix Engineering')]\n",
      "[('a', 'http://www.wikidata.org/entity/Q16238921'), ('driver', 'Lance Stroll'), ('team', 'Racing Point F1 Team')]\n",
      "[('a', 'http://www.wikidata.org/entity/Q17319645'), ('driver', 'George Russell'), ('team', 'Williams Grand Prix Engineering')]\n",
      "[('a', 'http://www.wikidata.org/entity/Q17541912'), ('driver', 'Charles Leclerc'), ('team', 'Scuderia Ferrari')]\n",
      "[('a', 'http://www.wikidata.org/entity/Q17541912'), ('driver', 'Charles Leclerc'), ('team', 'Sauber')]\n",
      "[('a', 'http://www.wikidata.org/entity/Q22007193'), ('driver', 'Lando Norris'), ('team', 'McLaren')]\n",
      "[('a', 'http://www.wikidata.org/entity/Q2239218'), ('driver', 'Max Verstappen'), ('team', 'Scuderia Toro Rosso')]\n",
      "[('a', 'http://www.wikidata.org/entity/Q2239218'), ('driver', 'Max Verstappen'), ('team', 'Red Bull Racing')]\n",
      "[('a', 'http://www.wikidata.org/entity/Q7084843'), ('driver', 'Antonio Giovinazzi'), ('team', 'Alfa Romeo')]\n",
      "[('a', 'http://www.wikidata.org/entity/Q369348'), ('driver', 'Perry McCarthy'), ('team', 'Andrea Moda Formula')]\n",
      "[('a', 'http://www.wikidata.org/entity/Q538467'), ('driver', 'Will Stevens'), ('team', 'Caterham F1')]\n",
      "[('a', 'http://www.wikidata.org/entity/Q82845'), ('driver', 'Pastor Maldonado'), ('team', 'Williams Grand Prix Engineering')]\n",
      "[('a', 'http://www.wikidata.org/entity/Q82845'), ('driver', 'Pastor Maldonado'), ('team', 'Renault F1 Team')]\n",
      "[('a', 'http://www.wikidata.org/entity/Q171720'), ('driver', 'Jackie Oliver'), ('team', 'British Racing Motors')]\n",
      "[('a', 'http://www.wikidata.org/entity/Q171720'), ('driver', 'Jackie Oliver'), ('team', 'McLaren')]\n",
      "[('a', 'http://www.wikidata.org/entity/Q171767'), ('driver', 'Johnny Servoz-Gavin'), ('team', 'Tyrrell Racing')]\n",
      "[('a', 'http://www.wikidata.org/entity/Q171767'), ('driver', 'Johnny Servoz-Gavin'), ('team', 'Equipe Matra Sports')]\n",
      "[('a', 'http://www.wikidata.org/entity/Q172194'), ('driver', 'Richard Attwood'), ('team', 'British Racing Motors')]\n",
      "[('a', 'http://www.wikidata.org/entity/Q172479'), ('driver', 'Ron Flockhart'), ('team', 'British Racing Motors')]\n",
      "[('a', 'http://www.wikidata.org/entity/Q172979'), ('driver', 'JJ Lehto'), ('team', 'Benetton Formula')]\n"
     ]
    },
    {
     "data": {
      "text/plain": [
       "100"
      ]
     },
     "execution_count": 8,
     "metadata": {},
     "output_type": "execute_result"
    }
   ],
   "source": [
    "queryString = \"\"\"\n",
    "SELECT DISTINCT ?a ?driver ?team\n",
    "WHERE { \n",
    "\n",
    "?t wdt:P31 wd:Q10497835 .\n",
    "?a wdt:P106 wd:Q10841764;\n",
    "    wdt:P54 ?t .\n",
    "?a sc:name ?driver .\n",
    "?t sc:name ?team .\n",
    "} \n",
    "LIMIT 100\n",
    "\"\"\"\n",
    "\n",
    "print(\"Results\")\n",
    "run_query(queryString)"
   ]
  },
  {
   "cell_type": "code",
   "execution_count": 9,
   "id": "737e4719-0ed6-4d62-b7d0-5005fae6ea1b",
   "metadata": {},
   "outputs": [
    {
     "name": "stdout",
     "output_type": "stream",
     "text": [
      "Results\n",
      "[('a', 'http://www.wikidata.org/entity/Q171432'), ('pilot', 'Didier Pironi'), ('member', 'Tyrrell Racing')]\n",
      "[('a', 'http://www.wikidata.org/entity/Q171432'), ('pilot', 'Didier Pironi'), ('member', 'Scuderia Ferrari')]\n",
      "[('a', 'http://www.wikidata.org/entity/Q171526'), ('pilot', 'Jean-Pierre Beltoise'), ('member', 'British Racing Motors')]\n"
     ]
    },
    {
     "data": {
      "text/plain": [
       "3"
      ]
     },
     "execution_count": 9,
     "metadata": {},
     "output_type": "execute_result"
    }
   ],
   "source": [
    "\n",
    "queryString = \"\"\"\n",
    "SELECT DISTINCT ?a ?pilot ?member\n",
    "WHERE { \n",
    "\n",
    "?t wdt:P31 wd:Q10497835 .\n",
    "?a wdt:P106 wd:Q10841764;\n",
    "    wdt:P463 ?t .\n",
    "?a sc:name ?pilot .\n",
    "?t sc:name ?member .\n",
    "} \n",
    "LIMIT 1000\n",
    "\"\"\"\n",
    "\n",
    "print(\"Results\")\n",
    "run_query(queryString)"
   ]
  },
  {
   "cell_type": "markdown",
   "id": "f415f45c-6bf0-472a-a347-bcf22f91461b",
   "metadata": {},
   "source": [
    "The relation \"member of sports team\" (`P54`) is the one that tell me the  F1 team of a given F1 driver\n",
    "\n",
    "Now I have to find the F1 competitions in which a F1 driver compete looking for the relations of a driver."
   ]
  },
  {
   "cell_type": "code",
   "execution_count": 10,
   "id": "d8fc70cb-c770-435e-b0ea-44e27f6c21ee",
   "metadata": {},
   "outputs": [
    {
     "name": "stdout",
     "output_type": "stream",
     "text": [
      "Results\n",
      "[('pr', 'http://www.wikidata.org/prop/direct/P3927'), ('prop', 'eWRC-results.com racer ID')]\n",
      "[('pr', 'http://www.wikidata.org/prop/direct/P9129'), ('prop', 'Data Collection of the Hungarian Peerage ID')]\n",
      "[('pr', 'http://www.wikidata.org/prop/direct/P6682'), ('prop', 'Motorsports Hall of Fame of America ID')]\n",
      "[('pr', 'http://www.wikidata.org/prop/direct/P8161'), ('prop', 'CONI honoured ID')]\n",
      "[('pr', 'http://www.wikidata.org/prop/direct/P1006'), ('prop', 'Nationale Thesaurus voor Auteurs ID')]\n",
      "[('pr', 'http://www.wikidata.org/prop/direct/P1015'), ('prop', 'NORAF ID')]\n",
      "[('pr', 'http://www.wikidata.org/prop/direct/P102'), ('prop', 'member of political party')]\n",
      "[('pr', 'http://www.wikidata.org/prop/direct/P103'), ('prop', 'native language')]\n",
      "[('pr', 'http://www.wikidata.org/prop/direct/P1038'), ('prop', 'relative')]\n",
      "[('pr', 'http://www.wikidata.org/prop/direct/P106'), ('prop', 'occupation')]\n",
      "[('pr', 'http://www.wikidata.org/prop/direct/P108'), ('prop', 'employer')]\n",
      "[('pr', 'http://www.wikidata.org/prop/direct/P109'), ('prop', 'signature')]\n",
      "[('pr', 'http://www.wikidata.org/prop/direct/P119'), ('prop', 'place of burial')]\n",
      "[('pr', 'http://www.wikidata.org/prop/direct/P1196'), ('prop', 'manner of death')]\n",
      "[('pr', 'http://www.wikidata.org/prop/direct/P1207'), ('prop', 'NUKAT ID')]\n",
      "[('pr', 'http://www.wikidata.org/prop/direct/P1258'), ('prop', 'Rotten Tomatoes ID')]\n",
      "[('pr', 'http://www.wikidata.org/prop/direct/P1263'), ('prop', 'NNDB people ID')]\n",
      "[('pr', 'http://www.wikidata.org/prop/direct/P1273'), ('prop', 'CANTIC ID')]\n",
      "[('pr', 'http://www.wikidata.org/prop/direct/P1280'), ('prop', 'CONOR.SI ID')]\n",
      "[('pr', 'http://www.wikidata.org/prop/direct/P1284'), ('prop', 'Munzinger person ID')]\n",
      "[('pr', 'http://www.wikidata.org/prop/direct/P1285'), ('prop', 'Munzinger Sport number')]\n",
      "[('pr', 'http://www.wikidata.org/prop/direct/P1296'), ('prop', 'Gran Enciclopèdia Catalana ID')]\n",
      "[('pr', 'http://www.wikidata.org/prop/direct/P1315'), ('prop', 'NLA Trove ID')]\n",
      "[('pr', 'http://www.wikidata.org/prop/direct/P1343'), ('prop', 'described by source')]\n",
      "[('pr', 'http://www.wikidata.org/prop/direct/P1344'), ('prop', 'participant in')]\n",
      "[('pr', 'http://www.wikidata.org/prop/direct/P140'), ('prop', 'religion')]\n",
      "[('pr', 'http://www.wikidata.org/prop/direct/P1412'), ('prop', 'languages spoken, written or signed')]\n",
      "[('pr', 'http://www.wikidata.org/prop/direct/P1415'), ('prop', 'Oxford Dictionary of National Biography ID')]\n",
      "[('pr', 'http://www.wikidata.org/prop/direct/P1417'), ('prop', 'Encyclopædia Britannica Online ID')]\n",
      "[('pr', 'http://www.wikidata.org/prop/direct/P1430'), ('prop', 'OpenPlaques subject ID')]\n",
      "[('pr', 'http://www.wikidata.org/prop/direct/P1442'), ('prop', 'image of grave')]\n",
      "[('pr', 'http://www.wikidata.org/prop/direct/P1449'), ('prop', 'nickname')]\n",
      "[('pr', 'http://www.wikidata.org/prop/direct/P1477'), ('prop', 'birth name')]\n",
      "[('pr', 'http://www.wikidata.org/prop/direct/P1532'), ('prop', 'country for sport')]\n",
      "[('pr', 'http://www.wikidata.org/prop/direct/P1559'), ('prop', 'name in native language')]\n",
      "[('pr', 'http://www.wikidata.org/prop/direct/P166'), ('prop', 'award received')]\n",
      "[('pr', 'http://www.wikidata.org/prop/direct/P1695'), ('prop', 'NLP ID (unique)')]\n",
      "[('pr', 'http://www.wikidata.org/prop/direct/P1712'), ('prop', 'Metacritic ID')]\n",
      "[('pr', 'http://www.wikidata.org/prop/direct/P172'), ('prop', 'ethnic group')]\n",
      "[('pr', 'http://www.wikidata.org/prop/direct/P1741'), ('prop', 'GTAA ID')]\n",
      "[('pr', 'http://www.wikidata.org/prop/direct/P18'), ('prop', 'image')]\n",
      "[('pr', 'http://www.wikidata.org/prop/direct/P1816'), ('prop', 'National Portrait Gallery (London) person ID')]\n",
      "[('pr', 'http://www.wikidata.org/prop/direct/P1819'), ('prop', 'genealogics.org person ID')]\n",
      "[('pr', 'http://www.wikidata.org/prop/direct/P1830'), ('prop', 'owner of')]\n",
      "[('pr', 'http://www.wikidata.org/prop/direct/P1853'), ('prop', 'blood type')]\n",
      "[('pr', 'http://www.wikidata.org/prop/direct/P1889'), ('prop', 'different from')]\n",
      "[('pr', 'http://www.wikidata.org/prop/direct/P19'), ('prop', 'place of birth')]\n",
      "[('pr', 'http://www.wikidata.org/prop/direct/P1950'), ('prop', 'second family name in Spanish name')]\n",
      "[('pr', 'http://www.wikidata.org/prop/direct/P1953'), ('prop', 'Discogs artist ID')]\n",
      "[('pr', 'http://www.wikidata.org/prop/direct/P1971'), ('prop', 'number of children')]\n",
      "[('pr', 'http://www.wikidata.org/prop/direct/P20'), ('prop', 'place of death')]\n",
      "[('pr', 'http://www.wikidata.org/prop/direct/P2002'), ('prop', 'Twitter username')]\n",
      "[('pr', 'http://www.wikidata.org/prop/direct/P2003'), ('prop', 'Instagram username')]\n",
      "[('pr', 'http://www.wikidata.org/prop/direct/P2013'), ('prop', 'Facebook ID')]\n",
      "[('pr', 'http://www.wikidata.org/prop/direct/P2019'), ('prop', 'AllMovie person ID')]\n",
      "[('pr', 'http://www.wikidata.org/prop/direct/P2031'), ('prop', 'work period (start)')]\n",
      "[('pr', 'http://www.wikidata.org/prop/direct/P2048'), ('prop', 'height')]\n",
      "[('pr', 'http://www.wikidata.org/prop/direct/P2067'), ('prop', 'mass')]\n",
      "[('pr', 'http://www.wikidata.org/prop/direct/P21'), ('prop', 'sex or gender')]\n",
      "[('pr', 'http://www.wikidata.org/prop/direct/P213'), ('prop', 'ISNI')]\n",
      "[('pr', 'http://www.wikidata.org/prop/direct/P214'), ('prop', 'VIAF ID')]\n",
      "[('pr', 'http://www.wikidata.org/prop/direct/P2163'), ('prop', 'FAST ID')]\n",
      "[('pr', 'http://www.wikidata.org/prop/direct/P2180'), ('prop', 'Kansallisbiografia ID')]\n",
      "[('pr', 'http://www.wikidata.org/prop/direct/P22'), ('prop', 'father')]\n",
      "[('pr', 'http://www.wikidata.org/prop/direct/P2218'), ('prop', 'net worth')]\n",
      "[('pr', 'http://www.wikidata.org/prop/direct/P227'), ('prop', 'GND ID')]\n",
      "[('pr', 'http://www.wikidata.org/prop/direct/P2283'), ('prop', 'uses')]\n",
      "[('pr', 'http://www.wikidata.org/prop/direct/P2387'), ('prop', 'Elonet person ID')]\n",
      "[('pr', 'http://www.wikidata.org/prop/direct/P2397'), ('prop', 'YouTube channel ID')]\n",
      "[('pr', 'http://www.wikidata.org/prop/direct/P241'), ('prop', 'military branch')]\n",
      "[('pr', 'http://www.wikidata.org/prop/direct/P244'), ('prop', 'Library of Congress authority ID')]\n",
      "[('pr', 'http://www.wikidata.org/prop/direct/P2522'), ('prop', 'victory')]\n",
      "[('pr', 'http://www.wikidata.org/prop/direct/P26'), ('prop', 'spouse')]\n",
      "[('pr', 'http://www.wikidata.org/prop/direct/P2600'), ('prop', 'Geni.com profile ID')]\n",
      "[('pr', 'http://www.wikidata.org/prop/direct/P2605'), ('prop', 'ČSFD person ID')]\n",
      "[('pr', 'http://www.wikidata.org/prop/direct/P2639'), ('prop', 'Filmportal ID')]\n",
      "[('pr', 'http://www.wikidata.org/prop/direct/P2650'), ('prop', 'interested in')]\n",
      "[('pr', 'http://www.wikidata.org/prop/direct/P268'), ('prop', 'Bibliothèque nationale de France ID')]\n",
      "[('pr', 'http://www.wikidata.org/prop/direct/P269'), ('prop', 'IdRef ID')]\n",
      "[('pr', 'http://www.wikidata.org/prop/direct/P27'), ('prop', 'country of citizenship')]\n",
      "[('pr', 'http://www.wikidata.org/prop/direct/P2889'), ('prop', 'FamilySearch person ID')]\n",
      "[('pr', 'http://www.wikidata.org/prop/direct/P2924'), ('prop', 'Great Russian Encyclopedia Online ID')]\n",
      "[('pr', 'http://www.wikidata.org/prop/direct/P2949'), ('prop', 'WikiTree person ID')]\n",
      "[('pr', 'http://www.wikidata.org/prop/direct/P3048'), ('prop', 'racing-reference.info driver ID')]\n",
      "[('pr', 'http://www.wikidata.org/prop/direct/P31'), ('prop', 'instance of')]\n",
      "[('pr', 'http://www.wikidata.org/prop/direct/P3106'), ('prop', 'Guardian topic ID')]\n",
      "[('pr', 'http://www.wikidata.org/prop/direct/P3219'), ('prop', 'Encyclopædia Universalis ID')]\n",
      "[('pr', 'http://www.wikidata.org/prop/direct/P3222'), ('prop', 'NE.se ID')]\n",
      "[('pr', 'http://www.wikidata.org/prop/direct/P3348'), ('prop', 'National Library of Greece ID')]\n",
      "[('pr', 'http://www.wikidata.org/prop/direct/P3365'), ('prop', 'Treccani ID')]\n",
      "[('pr', 'http://www.wikidata.org/prop/direct/P3373'), ('prop', 'sibling')]\n",
      "[('pr', 'http://www.wikidata.org/prop/direct/P3417'), ('prop', 'Quora topic ID')]\n",
      "[('pr', 'http://www.wikidata.org/prop/direct/P3427'), ('prop', 'AS.com athlete ID')]\n",
      "[('pr', 'http://www.wikidata.org/prop/direct/P3430'), ('prop', 'SNAC ARK ID')]\n",
      "[('pr', 'http://www.wikidata.org/prop/direct/P345'), ('prop', 'IMDb ID')]\n",
      "[('pr', 'http://www.wikidata.org/prop/direct/P349'), ('prop', 'National Diet Library ID')]\n",
      "[('pr', 'http://www.wikidata.org/prop/direct/P3630'), ('prop', 'Babelio author ID')]\n",
      "[('pr', 'http://www.wikidata.org/prop/direct/P3684'), ('prop', 'Driver Database driver ID')]\n",
      "[('pr', 'http://www.wikidata.org/prop/direct/P373'), ('prop', 'Commons category')]\n",
      "[('pr', 'http://www.wikidata.org/prop/direct/P3762'), ('prop', 'openMLOL author ID')]\n"
     ]
    },
    {
     "data": {
      "text/plain": [
       "100"
      ]
     },
     "execution_count": 10,
     "metadata": {},
     "output_type": "execute_result"
    }
   ],
   "source": [
    "queryString = \"\"\"\n",
    "SELECT DISTINCT ?pr ?prop\n",
    "WHERE { \n",
    "\n",
    "?a wdt:P106 wd:Q10841764;\n",
    "    ?pr ?t.\n",
    "#?t wdt:P31 ?ist.\n",
    "\n",
    "#?ist sc:name ?ista .\n",
    "?pr sc:name ?prop .\n",
    "\n",
    "} \n",
    "LIMIT 100\n",
    "\"\"\"\n",
    "\n",
    "print(\"Results\")\n",
    "run_query(queryString)"
   ]
  },
  {
   "cell_type": "markdown",
   "id": "84acc034-3f45-459b-a150-99bcfb227ad5",
   "metadata": {},
   "source": [
    "Something interest: `P1344`, participant in. Looking for what is on the other side of the relation."
   ]
  },
  {
   "cell_type": "code",
   "execution_count": 11,
   "id": "29b9050d-59f7-402a-9025-f6ccc369fa0d",
   "metadata": {},
   "outputs": [
    {
     "name": "stdout",
     "output_type": "stream",
     "text": [
      "Results\n",
      "[('t', 'http://www.wikidata.org/entity/Q149844'), ('prop', 'GP3 Series'), ('ist', 'http://www.wikidata.org/entity/Q60147807'), ('ista', 'automobile racing series')]\n",
      "[('t', 'http://www.wikidata.org/entity/Q17455748'), ('prop', '2016 Formula One World Championship'), ('ist', 'http://www.wikidata.org/entity/Q27020041'), ('ista', 'sports season')]\n",
      "[('t', 'http://www.wikidata.org/entity/Q22833485'), ('prop', \"2015 FIA World Endurance Drivers' Championship\"), ('ist', 'http://www.wikidata.org/entity/Q22833327'), ('ista', 'international championship award')]\n",
      "[('t', 'http://www.wikidata.org/entity/Q69343'), ('prop', '1974 Formula One season'), ('ist', 'http://www.wikidata.org/entity/Q27020041'), ('ista', 'sports season')]\n",
      "[('t', 'http://www.wikidata.org/entity/Q69641'), ('prop', '1989 Formula One season'), ('ist', 'http://www.wikidata.org/entity/Q27020041'), ('ista', 'sports season')]\n",
      "[('t', 'http://www.wikidata.org/entity/Q8415'), ('prop', '1960 Summer Olympics'), ('ist', 'http://www.wikidata.org/entity/Q159821'), ('ista', 'Summer Olympic Games')]\n",
      "[('t', 'http://www.wikidata.org/entity/Q918187'), ('prop', 'British Formula Three Championship'), ('ist', 'http://www.wikidata.org/entity/Q500834'), ('ista', 'tournament')]\n",
      "[('t', 'http://www.wikidata.org/entity/Q47517245'), ('prop', '2018 UCI World Ranking'), ('ist', 'http://www.wikidata.org/entity/Q2558591'), ('ista', 'world ranking list')]\n",
      "[('t', 'http://www.wikidata.org/entity/Q1437517'), ('prop', '1986 International Formula 3000 season'), ('ist', 'http://www.wikidata.org/entity/Q27020041'), ('ista', 'sports season')]\n",
      "[('t', 'http://www.wikidata.org/entity/Q1437521'), ('prop', '1987 International Formula 3000 season'), ('ist', 'http://www.wikidata.org/entity/Q27020041'), ('ista', 'sports season')]\n",
      "[('t', 'http://www.wikidata.org/entity/Q69229'), ('prop', '1967 Formula One season'), ('ist', 'http://www.wikidata.org/entity/Q27020041'), ('ista', 'sports season')]\n",
      "[('t', 'http://www.wikidata.org/entity/Q69633'), ('prop', '1988 Formula One season'), ('ist', 'http://www.wikidata.org/entity/Q27020041'), ('ista', 'sports season')]\n",
      "[('t', 'http://www.wikidata.org/entity/Q69913'), ('prop', '2008 Formula One World Championship'), ('ist', 'http://www.wikidata.org/entity/Q27020041'), ('ista', 'sports season')]\n",
      "[('t', 'http://www.wikidata.org/entity/Q69603'), ('prop', '1985 Formula One season'), ('ist', 'http://www.wikidata.org/entity/Q27020041'), ('ista', 'sports season')]\n",
      "[('t', 'http://www.wikidata.org/entity/Q69943'), ('prop', '2011 Formula One World Championship'), ('ist', 'http://www.wikidata.org/entity/Q27020041'), ('ista', 'sports season')]\n",
      "[('t', 'http://www.wikidata.org/entity/Q319565'), ('prop', 'FIA Formula E Championship'), ('ist', 'http://www.wikidata.org/entity/Q60147807'), ('ista', 'automobile racing series')]\n",
      "[('t', 'http://www.wikidata.org/entity/Q69623'), ('prop', '1987 Formula One season'), ('ist', 'http://www.wikidata.org/entity/Q27020041'), ('ista', 'sports season')]\n",
      "[('t', 'http://www.wikidata.org/entity/Q69657'), ('prop', '1990 Formula One season'), ('ist', 'http://www.wikidata.org/entity/Q27020041'), ('ista', 'sports season')]\n",
      "[('t', 'http://www.wikidata.org/entity/Q42204070'), ('prop', '2018 UCI Asia Tour'), ('ist', 'http://www.wikidata.org/entity/Q1063423'), ('ista', 'UCI Asia Tour')]\n",
      "[('t', 'http://www.wikidata.org/entity/Q69670'), ('prop', '1991 Formula One season'), ('ist', 'http://www.wikidata.org/entity/Q27020041'), ('ista', 'sports season')]\n",
      "[('t', 'http://www.wikidata.org/entity/Q23681637'), ('prop', \"2013 FIA World Endurance Drivers' Championship\"), ('ist', 'http://www.wikidata.org/entity/Q22833327'), ('ista', 'international championship award')]\n",
      "[('t', 'http://www.wikidata.org/entity/Q173030'), ('prop', '1951 Indianapolis 500'), ('ist', 'http://www.wikidata.org/entity/Q8032'), ('ista', 'Indianapolis 500')]\n",
      "[('t', 'http://www.wikidata.org/entity/Q173164'), ('prop', '2012 Hungarian Grand Prix'), ('ist', 'http://www.wikidata.org/entity/Q9233'), ('ista', 'Hungarian Grand Prix')]\n",
      "[('t', 'http://www.wikidata.org/entity/Q187579'), ('prop', '24 Hours of Le Mans'), ('ist', 'http://www.wikidata.org/entity/Q87292877'), ('ista', 'WEC race')]\n",
      "[('t', 'http://www.wikidata.org/entity/Q1968'), ('prop', 'Formula One'), ('ist', 'http://www.wikidata.org/entity/Q60147807'), ('ista', 'automobile racing series')]\n",
      "[('t', 'http://www.wikidata.org/entity/Q1968'), ('prop', 'Formula One'), ('ist', 'http://www.wikidata.org/entity/Q1344963'), ('ista', 'world championship')]\n",
      "[('t', 'http://www.wikidata.org/entity/Q28128279'), ('prop', '2017 Indianapolis 500'), ('ist', 'http://www.wikidata.org/entity/Q8032'), ('ista', 'Indianapolis 500')]\n",
      "[('t', 'http://www.wikidata.org/entity/Q5389'), ('prop', 'Olympic Games'), ('ist', 'http://www.wikidata.org/entity/Q18608583'), ('ista', 'recurring sporting event')]\n",
      "[('t', 'http://www.wikidata.org/entity/Q69713'), ('prop', '1994 Formula One season'), ('ist', 'http://www.wikidata.org/entity/Q27020041'), ('ista', 'sports season')]\n",
      "[('t', 'http://www.wikidata.org/entity/Q69722'), ('prop', '1995 Formula One season'), ('ist', 'http://www.wikidata.org/entity/Q27020041'), ('ista', 'sports season')]\n",
      "[('t', 'http://www.wikidata.org/entity/Q69805'), ('prop', '2000 Formula One season'), ('ist', 'http://www.wikidata.org/entity/Q27020041'), ('ista', 'sports season')]\n",
      "[('t', 'http://www.wikidata.org/entity/Q69835'), ('prop', '2001 Formula One season'), ('ist', 'http://www.wikidata.org/entity/Q27020041'), ('ista', 'sports season')]\n",
      "[('t', 'http://www.wikidata.org/entity/Q69844'), ('prop', '2002 Formula One season'), ('ist', 'http://www.wikidata.org/entity/Q27020041'), ('ista', 'sports season')]\n",
      "[('t', 'http://www.wikidata.org/entity/Q69859'), ('prop', '2003 Formula One season'), ('ist', 'http://www.wikidata.org/entity/Q27020041'), ('ista', 'sports season')]\n",
      "[('t', 'http://www.wikidata.org/entity/Q69869'), ('prop', '2004 Formula One season'), ('ist', 'http://www.wikidata.org/entity/Q27020041'), ('ista', 'sports season')]\n",
      "[('t', 'http://www.wikidata.org/entity/Q7642260'), ('prop', '2013 Indian Grand Prix'), ('ist', 'http://www.wikidata.org/entity/Q8025'), ('ista', 'Indian Grand Prix')]\n",
      "[('t', 'http://www.wikidata.org/entity/Q8438'), ('prop', '1972 Summer Olympics'), ('ist', 'http://www.wikidata.org/entity/Q159821'), ('ista', 'Summer Olympic Games')]\n",
      "[('t', 'http://www.wikidata.org/entity/Q9632'), ('prop', '1956 Winter Olympics'), ('ist', 'http://www.wikidata.org/entity/Q82414'), ('ista', 'Winter Olympic Games')]\n",
      "[('t', 'http://www.wikidata.org/entity/Q9642'), ('prop', '1968 Winter Olympics'), ('ist', 'http://www.wikidata.org/entity/Q82414'), ('ista', 'Winter Olympic Games')]\n",
      "[('t', 'http://www.wikidata.org/entity/Q69614'), ('prop', '1986 Formula One season'), ('ist', 'http://www.wikidata.org/entity/Q27020041'), ('ista', 'sports season')]\n",
      "[('t', 'http://www.wikidata.org/entity/Q69686'), ('prop', '1992 Formula One season'), ('ist', 'http://www.wikidata.org/entity/Q27020041'), ('ista', 'sports season')]\n",
      "[('t', 'http://www.wikidata.org/entity/Q69901'), ('prop', '2007 Formula One World Championship'), ('ist', 'http://www.wikidata.org/entity/Q27020041'), ('ista', 'sports season')]\n",
      "[('t', 'http://www.wikidata.org/entity/Q69923'), ('prop', '2009 Formula One World Championship'), ('ist', 'http://www.wikidata.org/entity/Q27020041'), ('ista', 'sports season')]\n",
      "[('t', 'http://www.wikidata.org/entity/Q69934'), ('prop', '2010 Formula One World Championship'), ('ist', 'http://www.wikidata.org/entity/Q27020041'), ('ista', 'sports season')]\n",
      "[('t', 'http://www.wikidata.org/entity/Q42205000'), ('prop', 'UCI Oceania Tour 2018'), ('ist', 'http://www.wikidata.org/entity/Q1039648'), ('ista', 'UCI Oceania Tour')]\n",
      "[('t', 'http://www.wikidata.org/entity/Q29383721'), ('prop', 'FIA Formula 2 Championship'), ('ist', 'http://www.wikidata.org/entity/Q60147807'), ('ista', 'automobile racing series')]\n",
      "[('t', 'http://www.wikidata.org/entity/Q14293115'), ('prop', '2015 Formula One World Championship'), ('ist', 'http://www.wikidata.org/entity/Q27020041'), ('ista', 'sports season')]\n",
      "[('t', 'http://www.wikidata.org/entity/Q9636'), ('prop', '1964 Winter Olympics'), ('ist', 'http://www.wikidata.org/entity/Q82414'), ('ista', 'Winter Olympic Games')]\n",
      "[('t', 'http://www.wikidata.org/entity/Q9646'), ('prop', '1972 Winter Olympics'), ('ist', 'http://www.wikidata.org/entity/Q82414'), ('ista', 'Winter Olympic Games')]\n",
      "[('t', 'http://www.wikidata.org/entity/Q23681746'), ('prop', \"2012 Drivers' World Endurance Championship\"), ('ist', 'http://www.wikidata.org/entity/Q22833327'), ('ista', 'international championship award')]\n",
      "[('t', 'http://www.wikidata.org/entity/Q69576'), ('prop', '1984 Formula One season'), ('ist', 'http://www.wikidata.org/entity/Q27020041'), ('ista', 'sports season')]\n",
      "[('t', 'http://www.wikidata.org/entity/Q69696'), ('prop', '1993 Formula One season'), ('ist', 'http://www.wikidata.org/entity/Q27020041'), ('ista', 'sports season')]\n",
      "[('t', 'http://www.wikidata.org/entity/Q69959'), ('prop', '2012 Formula One World Championship'), ('ist', 'http://www.wikidata.org/entity/Q27020041'), ('ista', 'sports season')]\n",
      "[('t', 'http://www.wikidata.org/entity/Q962025'), ('prop', 'Formula Renault Eurocup'), ('ist', 'http://www.wikidata.org/entity/Q13406554'), ('ista', 'sports competition')]\n",
      "[('t', 'http://www.wikidata.org/entity/Q23681630'), ('prop', \"2014 FIA World Endurance Drivers' Championship\"), ('ist', 'http://www.wikidata.org/entity/Q22833327'), ('ista', 'international championship award')]\n",
      "[('t', 'http://www.wikidata.org/entity/Q956079'), ('prop', '2012 Macau Grand Prix Formula Three'), ('ist', 'http://www.wikidata.org/entity/Q27020041'), ('ista', 'sports season')]\n",
      "[('t', 'http://www.wikidata.org/entity/Q548230'), ('prop', 'Formula Renault'), ('ist', 'http://www.wikidata.org/entity/Q2312410'), ('ista', 'sports discipline')]\n",
      "[('t', 'http://www.wikidata.org/entity/Q69356'), ('prop', '2013 Formula One World Championship'), ('ist', 'http://www.wikidata.org/entity/Q27020041'), ('ista', 'sports season')]\n",
      "[('t', 'http://www.wikidata.org/entity/Q3114120'), ('prop', '2003 Macau Grand Prix'), ('ist', 'http://www.wikidata.org/entity/Q27020041'), ('ista', 'sports season')]\n",
      "[('t', 'http://www.wikidata.org/entity/Q69969'), ('prop', '2014 Formula One World Championship'), ('ist', 'http://www.wikidata.org/entity/Q27020041'), ('ista', 'sports season')]\n",
      "[('t', 'http://www.wikidata.org/entity/Q14241993'), ('prop', '2014–15 Formula E season'), ('ist', 'http://www.wikidata.org/entity/Q27020041'), ('ista', 'sports season')]\n",
      "[('t', 'http://www.wikidata.org/entity/Q20755615'), ('prop', '2017 Formula One World Championship'), ('ist', 'http://www.wikidata.org/entity/Q27020041'), ('ista', 'sports season')]\n",
      "[('t', 'http://www.wikidata.org/entity/Q41173535'), ('prop', '2019 Formula One World Championship'), ('ist', 'http://www.wikidata.org/entity/Q27020041'), ('ista', 'sports season')]\n",
      "[('t', 'http://www.wikidata.org/entity/Q28648912'), ('prop', '2017–18 Formula E season'), ('ist', 'http://www.wikidata.org/entity/Q27020041'), ('ista', 'sports season')]\n",
      "[('t', 'http://www.wikidata.org/entity/Q22910703'), ('prop', '2016–17 Formula E season'), ('ist', 'http://www.wikidata.org/entity/Q27020041'), ('ista', 'sports season')]\n",
      "[('t', 'http://www.wikidata.org/entity/Q64020868'), ('prop', '2020 Dakar Rally'), ('ist', 'http://www.wikidata.org/entity/Q181336'), ('ista', 'Dakar Rally')]\n",
      "[('t', 'http://www.wikidata.org/entity/Q23051084'), ('prop', '2018 Formula One World Championship'), ('ist', 'http://www.wikidata.org/entity/Q27020041'), ('ista', 'sports season')]\n",
      "[('t', 'http://www.wikidata.org/entity/Q19360998'), ('prop', '2015–16 FIA Formula E Championship season'), ('ist', 'http://www.wikidata.org/entity/Q27020041'), ('ista', 'sports season')]\n",
      "[('t', 'http://www.wikidata.org/entity/Q2654809'), ('prop', '2013 American Le Mans Series season'), ('ist', 'http://www.wikidata.org/entity/Q13406554'), ('ista', 'sports competition')]\n",
      "[('t', 'http://www.wikidata.org/entity/Q2654809'), ('prop', '2013 American Le Mans Series season'), ('ist', 'http://www.wikidata.org/entity/Q27020041'), ('ista', 'sports season')]\n",
      "[('t', 'http://www.wikidata.org/entity/Q216420'), ('prop', '1960 24 Hours of Le Mans'), ('ist', 'http://www.wikidata.org/entity/Q187579'), ('ista', '24 Hours of Le Mans')]\n",
      "[('t', 'http://www.wikidata.org/entity/Q6352393'), ('prop', '2013 German Grand Prix'), ('ist', 'http://www.wikidata.org/entity/Q7998'), ('ista', 'German Grand Prix')]\n",
      "[('t', 'http://www.wikidata.org/entity/Q2626435'), ('prop', 'British Formula Renault Championship'), ('ist', 'http://www.wikidata.org/entity/Q60147807'), ('ista', 'automobile racing series')]\n",
      "[('t', 'http://www.wikidata.org/entity/Q66118'), ('prop', '2012 Canadian Grand Prix'), ('ist', 'http://www.wikidata.org/entity/Q7965'), ('ista', 'Canadian Grand Prix')]\n",
      "[('t', 'http://www.wikidata.org/entity/Q18346643'), ('prop', '2015 FIA European Formula 3 Championship season'), ('ist', 'http://www.wikidata.org/entity/Q27020041'), ('ista', 'sports season')]\n",
      "[('t', 'http://www.wikidata.org/entity/Q1850471'), ('prop', '2013 British Formula Three season'), ('ist', 'http://www.wikidata.org/entity/Q27020041'), ('ista', 'sports season')]\n",
      "[('t', 'http://www.wikidata.org/entity/Q21468811'), ('prop', '2016 GP2 Series season'), ('ist', 'http://www.wikidata.org/entity/Q27020041'), ('ista', 'sports season')]\n",
      "[('t', 'http://www.wikidata.org/entity/Q216419'), ('prop', '1959 24 Hours of Le Mans'), ('ist', 'http://www.wikidata.org/entity/Q187579'), ('ista', '24 Hours of Le Mans')]\n",
      "[('t', 'http://www.wikidata.org/entity/Q285970'), ('prop', '1955 24 Hours of Le Mans'), ('ist', 'http://www.wikidata.org/entity/Q187579'), ('ista', '24 Hours of Le Mans')]\n",
      "[('t', 'http://www.wikidata.org/entity/Q39659501'), ('prop', '2018 24 Hours of Le Mans'), ('ist', 'http://www.wikidata.org/entity/Q187579'), ('ista', '24 Hours of Le Mans')]\n",
      "[('t', 'http://www.wikidata.org/entity/Q47168176'), ('prop', '2018 24 Hours of Daytona'), ('ist', 'http://www.wikidata.org/entity/Q216330'), ('ista', '24 Hours of Daytona')]\n",
      "[('t', 'http://www.wikidata.org/entity/Q54933327'), ('prop', '2019 Indianapolis 500'), ('ist', 'http://www.wikidata.org/entity/Q8032'), ('ista', 'Indianapolis 500')]\n",
      "[('t', 'http://www.wikidata.org/entity/Q65041117'), ('prop', '2020 Indianapolis 500'), ('ist', 'http://www.wikidata.org/entity/Q8032'), ('ista', 'Indianapolis 500')]\n",
      "[('t', 'http://www.wikidata.org/entity/Q4845011'), ('prop', '2013 Bahrain Grand Prix'), ('ist', 'http://www.wikidata.org/entity/Q7885'), ('ista', 'Bahrain Grand Prix')]\n",
      "[('t', 'http://www.wikidata.org/entity/Q6352420'), ('prop', '2013 Korean Grand Prix'), ('ist', 'http://www.wikidata.org/entity/Q7993'), ('ista', 'Korean Grand Prix')]\n",
      "[('t', 'http://www.wikidata.org/entity/Q6352443'), ('prop', '2013 Japanese Grand Prix'), ('ist', 'http://www.wikidata.org/entity/Q8000'), ('ista', 'Japanese Grand Prix')]\n",
      "[('t', 'http://www.wikidata.org/entity/Q23657672'), ('prop', \"2016 FIA World Endurance Drivers' Championship\"), ('ist', 'http://www.wikidata.org/entity/Q22833327'), ('ista', 'international championship award')]\n",
      "[('t', 'http://www.wikidata.org/entity/Q1437554'), ('prop', '1998 International Formula 3000 season'), ('ist', 'http://www.wikidata.org/entity/Q27020041'), ('ista', 'sports season')]\n",
      "[('t', 'http://www.wikidata.org/entity/Q17334'), ('prop', '2012 Bahrain Grand Prix'), ('ist', 'http://www.wikidata.org/entity/Q7885'), ('ista', 'Bahrain Grand Prix')]\n",
      "[('t', 'http://www.wikidata.org/entity/Q3297918'), ('prop', '2012 Masters of Formula 3'), ('ist', 'http://www.wikidata.org/entity/Q665952'), ('ista', 'Masters of Formula 3')]\n",
      "[('t', 'http://www.wikidata.org/entity/Q6352465'), ('prop', '2013 United States Grand Prix'), ('ist', 'http://www.wikidata.org/entity/Q9209'), ('ista', 'United States Grand Prix')]\n",
      "[('t', 'http://www.wikidata.org/entity/Q18610699'), ('prop', '2015 Belgian Grand Prix'), ('ist', 'http://www.wikidata.org/entity/Q7954'), ('ista', 'Belgian Grand Prix')]\n",
      "[('t', 'http://www.wikidata.org/entity/Q3114121'), ('prop', '2004 Macau Grand Prix'), ('ist', 'http://www.wikidata.org/entity/Q27020041'), ('ista', 'sports season')]\n",
      "[('t', 'http://www.wikidata.org/entity/Q15088499'), ('prop', '2014 Formula Renault 3.5 Series season'), ('ist', 'http://www.wikidata.org/entity/Q27020041'), ('ista', 'sports season')]\n",
      "[('t', 'http://www.wikidata.org/entity/Q28128249'), ('prop', '2017 Super Formula Championship'), ('ist', 'http://www.wikidata.org/entity/Q27020041'), ('ista', 'sports season')]\n",
      "[('t', 'http://www.wikidata.org/entity/Q4603030'), ('prop', '2004 Masters of Formula 3'), ('ist', 'http://www.wikidata.org/entity/Q1079023'), ('ista', 'championship')]\n",
      "[('t', 'http://www.wikidata.org/entity/Q4603030'), ('prop', '2004 Masters of Formula 3'), ('ist', 'http://www.wikidata.org/entity/Q841654'), ('ista', 'competition')]\n",
      "[('t', 'http://www.wikidata.org/entity/Q596105'), ('prop', '1984 Dallas Grand Prix'), ('ist', 'http://www.wikidata.org/entity/Q2338574'), ('ista', 'Dallas Grand Prix')]\n"
     ]
    },
    {
     "data": {
      "text/plain": [
       "98"
      ]
     },
     "execution_count": 11,
     "metadata": {},
     "output_type": "execute_result"
    }
   ],
   "source": [
    "queryString = \"\"\"\n",
    "SELECT DISTINCT ?t ?prop ?ist ?ista\n",
    "WHERE { \n",
    "\n",
    "?a wdt:P106 wd:Q10841764;\n",
    "    wdt:P1344 ?t .\n",
    "?t wdt:P31 ?ist.\n",
    "?ist sc:name ?ista .\n",
    "?t sc:name ?prop .\n",
    "\n",
    "} \n",
    "LIMIT 100\n",
    "\"\"\"\n",
    "\n",
    "print(\"Results\")\n",
    "run_query(queryString)"
   ]
  },
  {
   "cell_type": "markdown",
   "id": "507d5dd1-76b6-4d32-9e54-59a138fb8a9b",
   "metadata": {},
   "source": [
    "The relation give me all the season in which a driver partecipate. But there is also other sports that are not about F1, so I will apply a REGEX filter."
   ]
  },
  {
   "cell_type": "code",
   "execution_count": 12,
   "id": "a4657bcd-3932-4ad4-a22d-7a70cfc41861",
   "metadata": {},
   "outputs": [
    {
     "name": "stdout",
     "output_type": "stream",
     "text": [
      "Results\n",
      "[('t', 'http://www.wikidata.org/entity/Q17455748'), ('prop', '2016 Formula One World Championship'), ('ist', 'http://www.wikidata.org/entity/Q27020041'), ('ista', 'sports season')]\n",
      "[('t', 'http://www.wikidata.org/entity/Q69343'), ('prop', '1974 Formula One season'), ('ist', 'http://www.wikidata.org/entity/Q27020041'), ('ista', 'sports season')]\n",
      "[('t', 'http://www.wikidata.org/entity/Q69641'), ('prop', '1989 Formula One season'), ('ist', 'http://www.wikidata.org/entity/Q27020041'), ('ista', 'sports season')]\n",
      "[('t', 'http://www.wikidata.org/entity/Q69229'), ('prop', '1967 Formula One season'), ('ist', 'http://www.wikidata.org/entity/Q27020041'), ('ista', 'sports season')]\n",
      "[('t', 'http://www.wikidata.org/entity/Q69633'), ('prop', '1988 Formula One season'), ('ist', 'http://www.wikidata.org/entity/Q27020041'), ('ista', 'sports season')]\n",
      "[('t', 'http://www.wikidata.org/entity/Q69913'), ('prop', '2008 Formula One World Championship'), ('ist', 'http://www.wikidata.org/entity/Q27020041'), ('ista', 'sports season')]\n",
      "[('t', 'http://www.wikidata.org/entity/Q69603'), ('prop', '1985 Formula One season'), ('ist', 'http://www.wikidata.org/entity/Q27020041'), ('ista', 'sports season')]\n",
      "[('t', 'http://www.wikidata.org/entity/Q69943'), ('prop', '2011 Formula One World Championship'), ('ist', 'http://www.wikidata.org/entity/Q27020041'), ('ista', 'sports season')]\n",
      "[('t', 'http://www.wikidata.org/entity/Q69623'), ('prop', '1987 Formula One season'), ('ist', 'http://www.wikidata.org/entity/Q27020041'), ('ista', 'sports season')]\n",
      "[('t', 'http://www.wikidata.org/entity/Q69657'), ('prop', '1990 Formula One season'), ('ist', 'http://www.wikidata.org/entity/Q27020041'), ('ista', 'sports season')]\n",
      "[('t', 'http://www.wikidata.org/entity/Q69670'), ('prop', '1991 Formula One season'), ('ist', 'http://www.wikidata.org/entity/Q27020041'), ('ista', 'sports season')]\n",
      "[('t', 'http://www.wikidata.org/entity/Q69713'), ('prop', '1994 Formula One season'), ('ist', 'http://www.wikidata.org/entity/Q27020041'), ('ista', 'sports season')]\n",
      "[('t', 'http://www.wikidata.org/entity/Q69722'), ('prop', '1995 Formula One season'), ('ist', 'http://www.wikidata.org/entity/Q27020041'), ('ista', 'sports season')]\n",
      "[('t', 'http://www.wikidata.org/entity/Q69805'), ('prop', '2000 Formula One season'), ('ist', 'http://www.wikidata.org/entity/Q27020041'), ('ista', 'sports season')]\n",
      "[('t', 'http://www.wikidata.org/entity/Q69835'), ('prop', '2001 Formula One season'), ('ist', 'http://www.wikidata.org/entity/Q27020041'), ('ista', 'sports season')]\n",
      "[('t', 'http://www.wikidata.org/entity/Q69844'), ('prop', '2002 Formula One season'), ('ist', 'http://www.wikidata.org/entity/Q27020041'), ('ista', 'sports season')]\n",
      "[('t', 'http://www.wikidata.org/entity/Q69859'), ('prop', '2003 Formula One season'), ('ist', 'http://www.wikidata.org/entity/Q27020041'), ('ista', 'sports season')]\n",
      "[('t', 'http://www.wikidata.org/entity/Q69869'), ('prop', '2004 Formula One season'), ('ist', 'http://www.wikidata.org/entity/Q27020041'), ('ista', 'sports season')]\n",
      "[('t', 'http://www.wikidata.org/entity/Q69614'), ('prop', '1986 Formula One season'), ('ist', 'http://www.wikidata.org/entity/Q27020041'), ('ista', 'sports season')]\n",
      "[('t', 'http://www.wikidata.org/entity/Q69686'), ('prop', '1992 Formula One season'), ('ist', 'http://www.wikidata.org/entity/Q27020041'), ('ista', 'sports season')]\n",
      "[('t', 'http://www.wikidata.org/entity/Q69901'), ('prop', '2007 Formula One World Championship'), ('ist', 'http://www.wikidata.org/entity/Q27020041'), ('ista', 'sports season')]\n",
      "[('t', 'http://www.wikidata.org/entity/Q69923'), ('prop', '2009 Formula One World Championship'), ('ist', 'http://www.wikidata.org/entity/Q27020041'), ('ista', 'sports season')]\n",
      "[('t', 'http://www.wikidata.org/entity/Q69934'), ('prop', '2010 Formula One World Championship'), ('ist', 'http://www.wikidata.org/entity/Q27020041'), ('ista', 'sports season')]\n",
      "[('t', 'http://www.wikidata.org/entity/Q14293115'), ('prop', '2015 Formula One World Championship'), ('ist', 'http://www.wikidata.org/entity/Q27020041'), ('ista', 'sports season')]\n",
      "[('t', 'http://www.wikidata.org/entity/Q69576'), ('prop', '1984 Formula One season'), ('ist', 'http://www.wikidata.org/entity/Q27020041'), ('ista', 'sports season')]\n",
      "[('t', 'http://www.wikidata.org/entity/Q69696'), ('prop', '1993 Formula One season'), ('ist', 'http://www.wikidata.org/entity/Q27020041'), ('ista', 'sports season')]\n",
      "[('t', 'http://www.wikidata.org/entity/Q69959'), ('prop', '2012 Formula One World Championship'), ('ist', 'http://www.wikidata.org/entity/Q27020041'), ('ista', 'sports season')]\n",
      "[('t', 'http://www.wikidata.org/entity/Q69356'), ('prop', '2013 Formula One World Championship'), ('ist', 'http://www.wikidata.org/entity/Q27020041'), ('ista', 'sports season')]\n",
      "[('t', 'http://www.wikidata.org/entity/Q69969'), ('prop', '2014 Formula One World Championship'), ('ist', 'http://www.wikidata.org/entity/Q27020041'), ('ista', 'sports season')]\n",
      "[('t', 'http://www.wikidata.org/entity/Q20755615'), ('prop', '2017 Formula One World Championship'), ('ist', 'http://www.wikidata.org/entity/Q27020041'), ('ista', 'sports season')]\n",
      "[('t', 'http://www.wikidata.org/entity/Q41173535'), ('prop', '2019 Formula One World Championship'), ('ist', 'http://www.wikidata.org/entity/Q27020041'), ('ista', 'sports season')]\n",
      "[('t', 'http://www.wikidata.org/entity/Q23051084'), ('prop', '2018 Formula One World Championship'), ('ist', 'http://www.wikidata.org/entity/Q27020041'), ('ista', 'sports season')]\n",
      "[('t', 'http://www.wikidata.org/entity/Q1968'), ('prop', 'Formula One'), ('ist', 'http://www.wikidata.org/entity/Q60147807'), ('ista', 'automobile racing series')]\n",
      "[('t', 'http://www.wikidata.org/entity/Q1968'), ('prop', 'Formula One'), ('ist', 'http://www.wikidata.org/entity/Q1344963'), ('ista', 'world championship')]\n"
     ]
    },
    {
     "data": {
      "text/plain": [
       "34"
      ]
     },
     "execution_count": 12,
     "metadata": {},
     "output_type": "execute_result"
    }
   ],
   "source": [
    "queryString = \"\"\"\n",
    "SELECT DISTINCT ?t ?prop ?ist ?ista\n",
    "WHERE { \n",
    "\n",
    "?a wdt:P106 wd:Q10841764;\n",
    "    wdt:P1344 ?t .\n",
    "?t wdt:P31 ?ist.\n",
    "\n",
    "?ist sc:name ?ista .\n",
    "\n",
    "?t sc:name ?prop .\n",
    "FILTER(REGEX(?prop,\\\".*[F,f]ormula [O,o]ne.*\\\"))\n",
    "} \n",
    "LIMIT 100\n",
    "\"\"\"\n",
    "\n",
    "print(\"Results\")\n",
    "run_query(queryString)"
   ]
  },
  {
   "cell_type": "code",
   "execution_count": 13,
   "id": "ff65fb38-3a50-4ee0-92be-3d15f74cdb3b",
   "metadata": {},
   "outputs": [
    {
     "name": "stdout",
     "output_type": "stream",
     "text": [
      "Results\n",
      "[('t', 'http://www.wikidata.org/entity/Q1968'), ('prop', 'Formula One')]\n",
      "[('t', 'http://www.wikidata.org/entity/Q41173535'), ('prop', '2019 Formula One World Championship')]\n",
      "[('t', 'http://www.wikidata.org/entity/Q23051084'), ('prop', '2018 Formula One World Championship')]\n",
      "[('t', 'http://www.wikidata.org/entity/Q20755615'), ('prop', '2017 Formula One World Championship')]\n",
      "[('t', 'http://www.wikidata.org/entity/Q17455748'), ('prop', '2016 Formula One World Championship')]\n",
      "[('t', 'http://www.wikidata.org/entity/Q14293115'), ('prop', '2015 Formula One World Championship')]\n",
      "[('t', 'http://www.wikidata.org/entity/Q69969'), ('prop', '2014 Formula One World Championship')]\n",
      "[('t', 'http://www.wikidata.org/entity/Q69356'), ('prop', '2013 Formula One World Championship')]\n",
      "[('t', 'http://www.wikidata.org/entity/Q69959'), ('prop', '2012 Formula One World Championship')]\n",
      "[('t', 'http://www.wikidata.org/entity/Q69943'), ('prop', '2011 Formula One World Championship')]\n",
      "[('t', 'http://www.wikidata.org/entity/Q69934'), ('prop', '2010 Formula One World Championship')]\n",
      "[('t', 'http://www.wikidata.org/entity/Q69923'), ('prop', '2009 Formula One World Championship')]\n",
      "[('t', 'http://www.wikidata.org/entity/Q69913'), ('prop', '2008 Formula One World Championship')]\n",
      "[('t', 'http://www.wikidata.org/entity/Q69901'), ('prop', '2007 Formula One World Championship')]\n",
      "[('t', 'http://www.wikidata.org/entity/Q69869'), ('prop', '2004 Formula One season')]\n",
      "[('t', 'http://www.wikidata.org/entity/Q69859'), ('prop', '2003 Formula One season')]\n",
      "[('t', 'http://www.wikidata.org/entity/Q69844'), ('prop', '2002 Formula One season')]\n",
      "[('t', 'http://www.wikidata.org/entity/Q69835'), ('prop', '2001 Formula One season')]\n",
      "[('t', 'http://www.wikidata.org/entity/Q69805'), ('prop', '2000 Formula One season')]\n",
      "[('t', 'http://www.wikidata.org/entity/Q69722'), ('prop', '1995 Formula One season')]\n",
      "[('t', 'http://www.wikidata.org/entity/Q69713'), ('prop', '1994 Formula One season')]\n",
      "[('t', 'http://www.wikidata.org/entity/Q69696'), ('prop', '1993 Formula One season')]\n",
      "[('t', 'http://www.wikidata.org/entity/Q69686'), ('prop', '1992 Formula One season')]\n",
      "[('t', 'http://www.wikidata.org/entity/Q69670'), ('prop', '1991 Formula One season')]\n",
      "[('t', 'http://www.wikidata.org/entity/Q69657'), ('prop', '1990 Formula One season')]\n",
      "[('t', 'http://www.wikidata.org/entity/Q69641'), ('prop', '1989 Formula One season')]\n",
      "[('t', 'http://www.wikidata.org/entity/Q69633'), ('prop', '1988 Formula One season')]\n",
      "[('t', 'http://www.wikidata.org/entity/Q69623'), ('prop', '1987 Formula One season')]\n",
      "[('t', 'http://www.wikidata.org/entity/Q69614'), ('prop', '1986 Formula One season')]\n",
      "[('t', 'http://www.wikidata.org/entity/Q69603'), ('prop', '1985 Formula One season')]\n",
      "[('t', 'http://www.wikidata.org/entity/Q69576'), ('prop', '1984 Formula One season')]\n",
      "[('t', 'http://www.wikidata.org/entity/Q69343'), ('prop', '1974 Formula One season')]\n",
      "[('t', 'http://www.wikidata.org/entity/Q69229'), ('prop', '1967 Formula One season')]\n"
     ]
    },
    {
     "data": {
      "text/plain": [
       "33"
      ]
     },
     "execution_count": 13,
     "metadata": {},
     "output_type": "execute_result"
    }
   ],
   "source": [
    "queryString = \"\"\"\n",
    "SELECT DISTINCT ?t ?prop\n",
    "WHERE { \n",
    "\n",
    "?a wdt:P106 wd:Q10841764;\n",
    "    wdt:P1344 ?t .\n",
    "?t wdt:P31 ?ist.\n",
    "?t sc:name ?prop .\n",
    "FILTER(REGEX(?prop,\\\".*[F,f]ormula [O,o]ne.*\\\"))\n",
    "} \n",
    "ORDER BY desc (?prop)\n",
    "LIMIT 100\n",
    "\"\"\"\n",
    "\n",
    "print(\"Results\")\n",
    "run_query(queryString)"
   ]
  },
  {
   "cell_type": "markdown",
   "id": "fe570a22-af47-47b6-9297-956192d5399f",
   "metadata": {},
   "source": [
    "Maybe Q1968 (Formula One) is something acting as a superclass"
   ]
  },
  {
   "cell_type": "code",
   "execution_count": 14,
   "id": "835ee5a7-53e4-43f0-9506-2a28b3bfecf5",
   "metadata": {},
   "outputs": [
    {
     "name": "stdout",
     "output_type": "stream",
     "text": [
      "Results\n",
      "[('pr', 'http://www.wikidata.org/prop/direct/P641'), ('pro', 'sport')]\n",
      "[('pr', 'http://www.wikidata.org/prop/direct/P3450'), ('pro', 'sports season of league or competition')]\n"
     ]
    },
    {
     "data": {
      "text/plain": [
       "2"
      ]
     },
     "execution_count": 14,
     "metadata": {},
     "output_type": "execute_result"
    }
   ],
   "source": [
    "queryString = \"\"\"\n",
    "SELECT DISTINCT ?pr ?pro\n",
    "WHERE { \n",
    "\n",
    "?a wdt:P106 wd:Q10841764;\n",
    "    wdt:P1344 ?t .\n",
    "?t ?pr wd:Q1968.\n",
    "?t sc:name ?prop .\n",
    "?pr sc:name ?pro .\n",
    "FILTER(REGEX(?prop,\\\".*[F,f]ormula [O,o]ne.*\\\"))\n",
    "} \n",
    "ORDER BY desc (?prop)\n",
    "LIMIT 100\n",
    "\"\"\"\n",
    "\n",
    "print(\"Results\")\n",
    "run_query(queryString)"
   ]
  },
  {
   "cell_type": "markdown",
   "id": "51150d51-0420-4046-bf72-6cfc376f123c",
   "metadata": {},
   "source": [
    "No is the sport. So starting for the Q1968 that is the sport looking for some properties"
   ]
  },
  {
   "cell_type": "code",
   "execution_count": 15,
   "id": "8cf9707a-0fb7-4fac-9674-348e93e19362",
   "metadata": {},
   "outputs": [
    {
     "name": "stdout",
     "output_type": "stream",
     "text": [
      "Results\n",
      "[('pr', 'http://www.wikidata.org/prop/direct/P1001'), ('pro', 'applies to jurisdiction')]\n",
      "[('pr', 'http://www.wikidata.org/prop/direct/P101'), ('pro', 'field of work')]\n",
      "[('pr', 'http://www.wikidata.org/prop/direct/P118'), ('pro', 'league')]\n",
      "[('pr', 'http://www.wikidata.org/prop/direct/P1269'), ('pro', 'facet of')]\n",
      "[('pr', 'http://www.wikidata.org/prop/direct/P1344'), ('pro', 'participant in')]\n",
      "[('pr', 'http://www.wikidata.org/prop/direct/P136'), ('pro', 'genre')]\n",
      "[('pr', 'http://www.wikidata.org/prop/direct/P1535'), ('pro', 'used by')]\n",
      "[('pr', 'http://www.wikidata.org/prop/direct/P179'), ('pro', 'part of the series')]\n",
      "[('pr', 'http://www.wikidata.org/prop/direct/P1889'), ('pro', 'different from')]\n",
      "[('pr', 'http://www.wikidata.org/prop/direct/P2094'), ('pro', 'competition class')]\n",
      "[('pr', 'http://www.wikidata.org/prop/direct/P2416'), ('pro', 'sports discipline competed in')]\n",
      "[('pr', 'http://www.wikidata.org/prop/direct/P279'), ('pro', 'subclass of')]\n",
      "[('pr', 'http://www.wikidata.org/prop/direct/P301'), ('pro', \"category's main topic\")]\n",
      "[('pr', 'http://www.wikidata.org/prop/direct/P31'), ('pro', 'instance of')]\n",
      "[('pr', 'http://www.wikidata.org/prop/direct/P3450'), ('pro', 'sports season of league or competition')]\n",
      "[('pr', 'http://www.wikidata.org/prop/direct/P361'), ('pro', 'part of')]\n",
      "[('pr', 'http://www.wikidata.org/prop/direct/P425'), ('pro', 'field of this occupation')]\n",
      "[('pr', 'http://www.wikidata.org/prop/direct/P641'), ('pro', 'sport')]\n",
      "[('pr', 'http://www.wikidata.org/prop/direct/P710'), ('pro', 'participant')]\n",
      "[('pr', 'http://www.wikidata.org/prop/direct/P921'), ('pro', 'main subject')]\n",
      "[('pr', 'http://www.wikidata.org/prop/direct/P971'), ('pro', 'category combines topics')]\n",
      "[('pr', 'http://www.wikidata.org/prop/direct/P2499'), ('pro', 'league level above')]\n",
      "[('pr', 'http://www.wikidata.org/prop/direct/P1204'), ('pro', \"Wikimedia portal's main topic\")]\n",
      "[('pr', 'http://www.wikidata.org/prop/direct/P1855'), ('pro', 'Wikidata property example')]\n"
     ]
    },
    {
     "data": {
      "text/plain": [
       "24"
      ]
     },
     "execution_count": 15,
     "metadata": {},
     "output_type": "execute_result"
    }
   ],
   "source": [
    "queryString = \"\"\"\n",
    "SELECT DISTINCT ?pr ?pro\n",
    "WHERE { \n",
    "\n",
    "?x ?pr wd:Q1968.\n",
    "\n",
    "?pr sc:name ?pro .\n",
    "} \n",
    "LIMIT 100\n",
    "\"\"\"\n",
    "\n",
    "print(\"Results\")\n",
    "run_query(queryString)"
   ]
  },
  {
   "cell_type": "markdown",
   "id": "1df83152-4305-4dd6-9855-83b0096a85a3",
   "metadata": {},
   "source": [
    "P3450 is the predicate that tell me that something is a sports season"
   ]
  },
  {
   "cell_type": "code",
   "execution_count": 16,
   "id": "5ea5b8cf-20e6-49f4-96b2-5015dc88a748",
   "metadata": {},
   "outputs": [
    {
     "name": "stdout",
     "output_type": "stream",
     "text": [
      "Results\n",
      "[('pr', 'http://www.wikidata.org/entity/Q108380238'), ('pro', '2023 Formula One World Championship')]\n",
      "[('pr', 'http://www.wikidata.org/entity/Q92821370'), ('pro', '2022 Formula One World Championship')]\n",
      "[('pr', 'http://www.wikidata.org/entity/Q72635834'), ('pro', '2021 FIA Formula One World Championship')]\n",
      "[('pr', 'http://www.wikidata.org/entity/Q41174436'), ('pro', '2020 FIA Formula One World Championship')]\n",
      "[('pr', 'http://www.wikidata.org/entity/Q41173535'), ('pro', '2019 Formula One World Championship')]\n",
      "[('pr', 'http://www.wikidata.org/entity/Q23051084'), ('pro', '2018 Formula One World Championship')]\n",
      "[('pr', 'http://www.wikidata.org/entity/Q20755615'), ('pro', '2017 Formula One World Championship')]\n",
      "[('pr', 'http://www.wikidata.org/entity/Q17455748'), ('pro', '2016 Formula One World Championship')]\n",
      "[('pr', 'http://www.wikidata.org/entity/Q14293115'), ('pro', '2015 Formula One World Championship')]\n",
      "[('pr', 'http://www.wikidata.org/entity/Q69969'), ('pro', '2014 Formula One World Championship')]\n",
      "[('pr', 'http://www.wikidata.org/entity/Q69356'), ('pro', '2013 Formula One World Championship')]\n",
      "[('pr', 'http://www.wikidata.org/entity/Q69959'), ('pro', '2012 Formula One World Championship')]\n",
      "[('pr', 'http://www.wikidata.org/entity/Q69943'), ('pro', '2011 Formula One World Championship')]\n",
      "[('pr', 'http://www.wikidata.org/entity/Q69934'), ('pro', '2010 Formula One World Championship')]\n",
      "[('pr', 'http://www.wikidata.org/entity/Q69923'), ('pro', '2009 Formula One World Championship')]\n",
      "[('pr', 'http://www.wikidata.org/entity/Q69913'), ('pro', '2008 Formula One World Championship')]\n",
      "[('pr', 'http://www.wikidata.org/entity/Q69901'), ('pro', '2007 Formula One World Championship')]\n",
      "[('pr', 'http://www.wikidata.org/entity/Q69893'), ('pro', '2006 Formula One World Championship')]\n",
      "[('pr', 'http://www.wikidata.org/entity/Q69880'), ('pro', '2005 Formula One season')]\n",
      "[('pr', 'http://www.wikidata.org/entity/Q69869'), ('pro', '2004 Formula One season')]\n",
      "[('pr', 'http://www.wikidata.org/entity/Q69859'), ('pro', '2003 Formula One season')]\n",
      "[('pr', 'http://www.wikidata.org/entity/Q69844'), ('pro', '2002 Formula One season')]\n",
      "[('pr', 'http://www.wikidata.org/entity/Q69835'), ('pro', '2001 Formula One season')]\n",
      "[('pr', 'http://www.wikidata.org/entity/Q69805'), ('pro', '2000 Formula One season')]\n",
      "[('pr', 'http://www.wikidata.org/entity/Q69791'), ('pro', '1999 Formula One season')]\n",
      "[('pr', 'http://www.wikidata.org/entity/Q69763'), ('pro', '1998 Formula One World Championship')]\n",
      "[('pr', 'http://www.wikidata.org/entity/Q69750'), ('pro', '1997 Formula One season')]\n",
      "[('pr', 'http://www.wikidata.org/entity/Q69735'), ('pro', '1996 Formula One season')]\n",
      "[('pr', 'http://www.wikidata.org/entity/Q69722'), ('pro', '1995 Formula One season')]\n",
      "[('pr', 'http://www.wikidata.org/entity/Q69713'), ('pro', '1994 Formula One season')]\n",
      "[('pr', 'http://www.wikidata.org/entity/Q69696'), ('pro', '1993 Formula One season')]\n",
      "[('pr', 'http://www.wikidata.org/entity/Q69686'), ('pro', '1992 Formula One season')]\n",
      "[('pr', 'http://www.wikidata.org/entity/Q69670'), ('pro', '1991 Formula One season')]\n",
      "[('pr', 'http://www.wikidata.org/entity/Q69657'), ('pro', '1990 Formula One season')]\n",
      "[('pr', 'http://www.wikidata.org/entity/Q69641'), ('pro', '1989 Formula One season')]\n",
      "[('pr', 'http://www.wikidata.org/entity/Q69633'), ('pro', '1988 Formula One season')]\n",
      "[('pr', 'http://www.wikidata.org/entity/Q69623'), ('pro', '1987 Formula One season')]\n",
      "[('pr', 'http://www.wikidata.org/entity/Q69614'), ('pro', '1986 Formula One season')]\n",
      "[('pr', 'http://www.wikidata.org/entity/Q69603'), ('pro', '1985 Formula One season')]\n",
      "[('pr', 'http://www.wikidata.org/entity/Q69576'), ('pro', '1984 Formula One season')]\n",
      "[('pr', 'http://www.wikidata.org/entity/Q69561'), ('pro', '1983 Formula One season')]\n",
      "[('pr', 'http://www.wikidata.org/entity/Q69548'), ('pro', '1982 Formula One season')]\n",
      "[('pr', 'http://www.wikidata.org/entity/Q69431'), ('pro', '1981 Formula One season')]\n",
      "[('pr', 'http://www.wikidata.org/entity/Q69423'), ('pro', '1980 Formula One season')]\n",
      "[('pr', 'http://www.wikidata.org/entity/Q69415'), ('pro', '1979 Formula One season')]\n",
      "[('pr', 'http://www.wikidata.org/entity/Q69405'), ('pro', '1978 Formula One season')]\n",
      "[('pr', 'http://www.wikidata.org/entity/Q69396'), ('pro', '1977 Formula One season')]\n",
      "[('pr', 'http://www.wikidata.org/entity/Q69387'), ('pro', '1976 Formula One season')]\n",
      "[('pr', 'http://www.wikidata.org/entity/Q69375'), ('pro', '1975 Formula One season')]\n",
      "[('pr', 'http://www.wikidata.org/entity/Q69343'), ('pro', '1974 Formula One season')]\n",
      "[('pr', 'http://www.wikidata.org/entity/Q62608'), ('pro', '1973 Formula One season')]\n",
      "[('pr', 'http://www.wikidata.org/entity/Q69267'), ('pro', '1972 Formula One season')]\n",
      "[('pr', 'http://www.wikidata.org/entity/Q42176'), ('pro', '1971 Formula One season')]\n",
      "[('pr', 'http://www.wikidata.org/entity/Q47225'), ('pro', '1970 Formula One season')]\n",
      "[('pr', 'http://www.wikidata.org/entity/Q69254'), ('pro', '1969 Formula One season')]\n",
      "[('pr', 'http://www.wikidata.org/entity/Q69243'), ('pro', '1968 Formula One season')]\n",
      "[('pr', 'http://www.wikidata.org/entity/Q69229'), ('pro', '1967 Formula One season')]\n",
      "[('pr', 'http://www.wikidata.org/entity/Q69220'), ('pro', '1966 Formula One season')]\n",
      "[('pr', 'http://www.wikidata.org/entity/Q69204'), ('pro', '1965 Formula One season')]\n",
      "[('pr', 'http://www.wikidata.org/entity/Q69193'), ('pro', '1964 Formula One season')]\n",
      "[('pr', 'http://www.wikidata.org/entity/Q69184'), ('pro', '1963 Formula One season')]\n",
      "[('pr', 'http://www.wikidata.org/entity/Q69174'), ('pro', '1962 Formula One season')]\n",
      "[('pr', 'http://www.wikidata.org/entity/Q69161'), ('pro', '1961 Formula One season')]\n",
      "[('pr', 'http://www.wikidata.org/entity/Q69146'), ('pro', '1960 Formula One season')]\n",
      "[('pr', 'http://www.wikidata.org/entity/Q69118'), ('pro', '1959 Formula One season')]\n",
      "[('pr', 'http://www.wikidata.org/entity/Q69106'), ('pro', '1958 Formula One season')]\n",
      "[('pr', 'http://www.wikidata.org/entity/Q69047'), ('pro', '1957 Formula One season')]\n",
      "[('pr', 'http://www.wikidata.org/entity/Q69032'), ('pro', '1956 Formula One season')]\n",
      "[('pr', 'http://www.wikidata.org/entity/Q69015'), ('pro', '1955 Formula One season')]\n",
      "[('pr', 'http://www.wikidata.org/entity/Q69001'), ('pro', '1954 Formula One season')]\n",
      "[('pr', 'http://www.wikidata.org/entity/Q68980'), ('pro', '1953 Formula One season')]\n",
      "[('pr', 'http://www.wikidata.org/entity/Q68967'), ('pro', '1952 Formula One season')]\n",
      "[('pr', 'http://www.wikidata.org/entity/Q68955'), ('pro', '1951 Formula One season')]\n",
      "[('pr', 'http://www.wikidata.org/entity/Q68926'), ('pro', '1950 Formula One season')]\n"
     ]
    },
    {
     "data": {
      "text/plain": [
       "74"
      ]
     },
     "execution_count": 16,
     "metadata": {},
     "output_type": "execute_result"
    }
   ],
   "source": [
    "queryString = \"\"\"\n",
    "SELECT DISTINCT ?pr ?pro\n",
    "WHERE { \n",
    "\n",
    "?pr wdt:P3450 wd:Q1968.\n",
    "\n",
    "?pr sc:name ?pro .\n",
    "} \n",
    "ORDER BY DESC (?pro)\n",
    "LIMIT 100\n",
    "\"\"\"\n",
    "\n",
    "print(\"Results\")\n",
    "run_query(queryString)"
   ]
  },
  {
   "cell_type": "markdown",
   "id": "6d3e74dc-2db6-43e0-9d32-efce3580a94f",
   "metadata": {},
   "source": [
    "Find the class of the sports season"
   ]
  },
  {
   "cell_type": "code",
   "execution_count": 17,
   "id": "c9b858fc-4404-46ae-b987-81d8f06cf651",
   "metadata": {},
   "outputs": [
    {
     "name": "stdout",
     "output_type": "stream",
     "text": [
      "Results\n",
      "[('ist', 'http://www.wikidata.org/entity/Q27020041'), ('ista', 'sports season')]\n"
     ]
    },
    {
     "data": {
      "text/plain": [
       "1"
      ]
     },
     "execution_count": 17,
     "metadata": {},
     "output_type": "execute_result"
    }
   ],
   "source": [
    "queryString = \"\"\"\n",
    "SELECT DISTINCT ?ist ?ista\n",
    "WHERE { \n",
    "\n",
    "?pr wdt:P3450 wd:Q1968;\n",
    "    wdt:P31 ?ist.\n",
    "\n",
    "?ist sc:name ?ista .\n",
    "}\n",
    "LIMIT 100\n",
    "\"\"\"\n",
    "\n",
    "print(\"Results\")\n",
    "run_query(queryString)"
   ]
  },
  {
   "cell_type": "markdown",
   "id": "d3f967a9-b11d-4453-b2cb-318525be196a",
   "metadata": {},
   "source": [
    "So at this point I have to summarize:\n",
    "- `wd:Q1968` is a formula one sport\n",
    "- `wdt:P3450` is the predicate named \"sports season of league or competition\" that allowed me to find a correlation between\n",
    "  something and a formula one sport season\n",
    "- `?pr wdt:P3450 wd:Q1968`; gives to me all the sports season of the formula one."
   ]
  },
  {
   "cell_type": "markdown",
   "id": "25df808a-78c3-4da0-9b5f-94c597e5deae",
   "metadata": {},
   "source": [
    "Looking for relations of the sports season outgoing"
   ]
  },
  {
   "cell_type": "code",
   "execution_count": 18,
   "id": "b2aa90c6-e643-4385-b1b7-5e7186a78c07",
   "metadata": {},
   "outputs": [
    {
     "name": "stdout",
     "output_type": "stream",
     "text": [
      "Results\n",
      "[('p', 'http://www.wikidata.org/prop/direct/P2321'), ('prop', 'general classification of race participants')]\n",
      "[('p', 'http://www.wikidata.org/prop/direct/P1132'), ('prop', 'number of participants')]\n",
      "[('p', 'http://www.wikidata.org/prop/direct/P1346'), ('prop', 'winner')]\n",
      "[('p', 'http://www.wikidata.org/prop/direct/P1350'), ('prop', 'number of matches played/races/starts')]\n",
      "[('p', 'http://www.wikidata.org/prop/direct/P1424'), ('prop', \"topic's main template\")]\n",
      "[('p', 'http://www.wikidata.org/prop/direct/P154'), ('prop', 'logo image')]\n",
      "[('p', 'http://www.wikidata.org/prop/direct/P18'), ('prop', 'image')]\n",
      "[('p', 'http://www.wikidata.org/prop/direct/P214'), ('prop', 'VIAF ID')]\n",
      "[('p', 'http://www.wikidata.org/prop/direct/P227'), ('prop', 'GND ID')]\n",
      "[('p', 'http://www.wikidata.org/prop/direct/P244'), ('prop', 'Library of Congress authority ID')]\n",
      "[('p', 'http://www.wikidata.org/prop/direct/P2500'), ('prop', 'league level below')]\n",
      "[('p', 'http://www.wikidata.org/prop/direct/P2581'), ('prop', 'BabelNet ID')]\n",
      "[('p', 'http://www.wikidata.org/prop/direct/P2671'), ('prop', 'Google Knowledge Graph ID')]\n",
      "[('p', 'http://www.wikidata.org/prop/direct/P276'), ('prop', 'location')]\n",
      "[('p', 'http://www.wikidata.org/prop/direct/P31'), ('prop', 'instance of')]\n",
      "[('p', 'http://www.wikidata.org/prop/direct/P3219'), ('prop', 'Encyclopædia Universalis ID')]\n",
      "[('p', 'http://www.wikidata.org/prop/direct/P3450'), ('prop', 'sports season of league or competition')]\n",
      "[('p', 'http://www.wikidata.org/prop/direct/P3479'), ('prop', 'Omni topic ID')]\n",
      "[('p', 'http://www.wikidata.org/prop/direct/P373'), ('prop', 'Commons category')]\n",
      "[('p', 'http://www.wikidata.org/prop/direct/P393'), ('prop', 'edition number')]\n",
      "[('p', 'http://www.wikidata.org/prop/direct/P4300'), ('prop', 'YouTube playlist ID')]\n",
      "[('p', 'http://www.wikidata.org/prop/direct/P527'), ('prop', 'has part')]\n",
      "[('p', 'http://www.wikidata.org/prop/direct/P580'), ('prop', 'start time')]\n",
      "[('p', 'http://www.wikidata.org/prop/direct/P582'), ('prop', 'end time')]\n",
      "[('p', 'http://www.wikidata.org/prop/direct/P585'), ('prop', 'point in time')]\n",
      "[('p', 'http://www.wikidata.org/prop/direct/P641'), ('prop', 'sport')]\n",
      "[('p', 'http://www.wikidata.org/prop/direct/P646'), ('prop', 'Freebase ID')]\n",
      "[('p', 'http://www.wikidata.org/prop/direct/P664'), ('prop', 'organizer')]\n",
      "[('p', 'http://www.wikidata.org/prop/direct/P691'), ('prop', 'NKCR AUT ID')]\n",
      "[('p', 'http://www.wikidata.org/prop/direct/P7859'), ('prop', 'WorldCat Identities ID')]\n",
      "[('p', 'http://www.wikidata.org/prop/direct/P856'), ('prop', 'official website')]\n",
      "[('p', 'http://www.wikidata.org/prop/direct/P910'), ('prop', \"topic's main category\")]\n",
      "[('p', 'http://www.wikidata.org/prop/direct/P935'), ('prop', 'Commons gallery')]\n",
      "[('p', 'http://www.wikidata.org/prop/direct/P1923'), ('prop', 'participating team')]\n",
      "[('p', 'http://www.wikidata.org/prop/direct/P2318'), ('prop', 'debut participant')]\n"
     ]
    },
    {
     "data": {
      "text/plain": [
       "35"
      ]
     },
     "execution_count": 18,
     "metadata": {},
     "output_type": "execute_result"
    }
   ],
   "source": [
    "queryString = \"\"\"\n",
    "SELECT DISTINCT ?p ?prop\n",
    "WHERE { \n",
    "\n",
    "?pr wdt:P3450 wd:Q1968;\n",
    "    ?p ?o.\n",
    "\n",
    "?p sc:name ?prop .\n",
    "}\n",
    "LIMIT 100\n",
    "\"\"\"\n",
    "\n",
    "print(\"Results\")\n",
    "run_query(queryString)"
   ]
  },
  {
   "cell_type": "markdown",
   "id": "68043214-cefd-476b-849b-5eaa3f992678",
   "metadata": {},
   "source": [
    "Looking for relations of the sports season ingoing"
   ]
  },
  {
   "cell_type": "code",
   "execution_count": 19,
   "id": "fe6a470f-e75f-4f8d-b6d4-fd2db37a9eb9",
   "metadata": {},
   "outputs": [
    {
     "name": "stdout",
     "output_type": "stream",
     "text": [
      "Results\n",
      "[('p', 'http://www.wikidata.org/prop/direct/P1423'), ('prop', 'template has topic')]\n",
      "[('p', 'http://www.wikidata.org/prop/direct/P1344'), ('prop', 'participant in')]\n",
      "[('p', 'http://www.wikidata.org/prop/direct/P1346'), ('prop', 'winner')]\n",
      "[('p', 'http://www.wikidata.org/prop/direct/P1889'), ('prop', 'different from')]\n",
      "[('p', 'http://www.wikidata.org/prop/direct/P2348'), ('prop', 'time period')]\n",
      "[('p', 'http://www.wikidata.org/prop/direct/P2522'), ('prop', 'victory')]\n",
      "[('p', 'http://www.wikidata.org/prop/direct/P301'), ('prop', \"category's main topic\")]\n",
      "[('p', 'http://www.wikidata.org/prop/direct/P361'), ('prop', 'part of')]\n",
      "[('p', 'http://www.wikidata.org/prop/direct/P527'), ('prop', 'has part')]\n",
      "[('p', 'http://www.wikidata.org/prop/direct/P921'), ('prop', 'main subject')]\n",
      "[('p', 'http://www.wikidata.org/prop/direct/P971'), ('prop', 'category combines topics')]\n",
      "[('p', 'http://www.wikidata.org/prop/direct/P2499'), ('prop', 'league level above')]\n",
      "[('p', 'http://www.wikidata.org/prop/direct/P1855'), ('prop', 'Wikidata property example')]\n"
     ]
    },
    {
     "data": {
      "text/plain": [
       "13"
      ]
     },
     "execution_count": 19,
     "metadata": {},
     "output_type": "execute_result"
    }
   ],
   "source": [
    "queryString = \"\"\"\n",
    "SELECT DISTINCT ?p ?prop\n",
    "WHERE { \n",
    "\n",
    "?pr wdt:P3450 wd:Q1968.\n",
    " ?o   ?p ?pr.\n",
    "\n",
    "?p sc:name ?prop .\n",
    "}\n",
    "LIMIT 100\n",
    "\"\"\"\n",
    "\n",
    "print(\"Results\")\n",
    "run_query(queryString)"
   ]
  },
  {
   "cell_type": "markdown",
   "id": "5def912a-6eb4-4e7f-80fe-8e243b7cc323",
   "metadata": {},
   "source": [
    "The key of all seems to be `P1344`. Looking for the istance of the other side of this reltion. (?o) in the previous query.\n",
    "\n",
    "I already know that a driver is connected to the season with this relation, but a F1 team?"
   ]
  },
  {
   "cell_type": "code",
   "execution_count": 20,
   "id": "c2f57422-e59e-4113-babe-116f421af241",
   "metadata": {},
   "outputs": [
    {
     "name": "stdout",
     "output_type": "stream",
     "text": [
      "Results\n",
      "Empty\n"
     ]
    },
    {
     "data": {
      "text/plain": [
       "0"
      ]
     },
     "execution_count": 20,
     "metadata": {},
     "output_type": "execute_result"
    }
   ],
   "source": [
    "queryString = \"\"\"\n",
    "SELECT DISTINCT ?season ?team\n",
    "WHERE { \n",
    "\n",
    "\n",
    "?t wdt:P31 wd:Q10497835 .\n",
    "?s wdt:P3450 wd:Q1968.\n",
    "?t wdt:P1344 ?s.\n",
    "?t sc:name ?team .\n",
    "?s sc:name ?season .\n",
    "}\n",
    "LIMIT 100\n",
    "\"\"\"\n",
    "\n",
    "print(\"Results\")\n",
    "run_query(queryString)"
   ]
  },
  {
   "cell_type": "markdown",
   "id": "ffdd999e-9339-4c95-8fb2-414f66838fe0",
   "metadata": {},
   "source": [
    "How a team is connected to a season?"
   ]
  },
  {
   "cell_type": "code",
   "execution_count": 21,
   "id": "1552933d-a545-4668-849b-a246d2e00417",
   "metadata": {},
   "outputs": [
    {
     "name": "stdout",
     "output_type": "stream",
     "text": [
      "Results\n",
      "Empty\n"
     ]
    },
    {
     "data": {
      "text/plain": [
       "0"
      ]
     },
     "execution_count": 21,
     "metadata": {},
     "output_type": "execute_result"
    }
   ],
   "source": [
    "queryString = \"\"\"\n",
    "SELECT DISTINCT ?pr ?prop\n",
    "WHERE { \n",
    "\n",
    "\n",
    "?t wdt:P31 wd:Q10497835 .\n",
    "?s wdt:P3450 wd:Q1968.\n",
    "?t ?pr ?s.\n",
    "?t sc:name ?team .\n",
    "?pr sc:name ?prop .\n",
    "}\n",
    "LIMIT 100\n",
    "\"\"\"\n",
    "\n",
    "print(\"Results\")\n",
    "run_query(queryString)"
   ]
  },
  {
   "cell_type": "markdown",
   "id": "4ff99c46-ff64-4ee6-860c-9f71bcc6f5f1",
   "metadata": {},
   "source": [
    "Looking at the opposite relation way"
   ]
  },
  {
   "cell_type": "code",
   "execution_count": 22,
   "id": "b9dc7b24-a084-4222-b809-f2311f040d6a",
   "metadata": {},
   "outputs": [
    {
     "name": "stdout",
     "output_type": "stream",
     "text": [
      "Results\n",
      "[('pr', 'http://www.wikidata.org/prop/direct/P1346'), ('prop', 'winner')]\n",
      "[('pr', 'http://www.wikidata.org/prop/direct/P1923'), ('prop', 'participating team')]\n",
      "[('pr', 'http://www.wikidata.org/prop/direct/P2318'), ('prop', 'debut participant')]\n"
     ]
    },
    {
     "data": {
      "text/plain": [
       "3"
      ]
     },
     "execution_count": 22,
     "metadata": {},
     "output_type": "execute_result"
    }
   ],
   "source": [
    "queryString = \"\"\"\n",
    "SELECT DISTINCT ?pr ?prop\n",
    "WHERE { \n",
    "\n",
    "\n",
    "?t wdt:P31 wd:Q10497835 .\n",
    "?s wdt:P3450 wd:Q1968.\n",
    "?s ?pr ?t.\n",
    "?t sc:name ?team .\n",
    "?pr sc:name ?prop .\n",
    "}\n",
    "LIMIT 100\n",
    "\"\"\"\n",
    "\n",
    "print(\"Results\")\n",
    "run_query(queryString)"
   ]
  },
  {
   "cell_type": "markdown",
   "id": "2ea975cc-0a45-45d6-8d48-42d814c034a9",
   "metadata": {},
   "source": [
    "Found `P1923` that tell me the partecipation of a team in a given season."
   ]
  },
  {
   "cell_type": "code",
   "execution_count": 23,
   "id": "b1a0e5fc-5a0f-4900-80a1-a64af60511d8",
   "metadata": {},
   "outputs": [
    {
     "name": "stdout",
     "output_type": "stream",
     "text": [
      "Results\n",
      "[('team', 'Scuderia Toro Rosso'), ('season', '2017 Formula One World Championship')]\n",
      "[('team', 'Scuderia Toro Rosso'), ('season', '2016 Formula One World Championship')]\n",
      "[('team', 'Scuderia Toro Rosso'), ('season', '2018 Formula One World Championship')]\n",
      "[('team', 'Red Bull Racing'), ('season', '2017 Formula One World Championship')]\n",
      "[('team', 'Red Bull Racing'), ('season', '2018 Formula One World Championship')]\n",
      "[('team', 'Red Bull Racing'), ('season', '2016 Formula One World Championship')]\n",
      "[('team', 'Haas F1 Team'), ('season', '2017 Formula One World Championship')]\n",
      "[('team', 'Haas F1 Team'), ('season', '2016 Formula One World Championship')]\n",
      "[('team', 'Haas F1 Team'), ('season', '2018 Formula One World Championship')]\n",
      "[('team', 'Scuderia Ferrari'), ('season', '2017 Formula One World Championship')]\n",
      "[('team', 'Scuderia Ferrari'), ('season', '2016 Formula One World Championship')]\n",
      "[('team', 'Scuderia Ferrari'), ('season', '2018 Formula One World Championship')]\n",
      "[('team', 'Williams Grand Prix Engineering'), ('season', '2018 Formula One World Championship')]\n",
      "[('team', 'Williams Grand Prix Engineering'), ('season', '2017 Formula One World Championship')]\n",
      "[('team', 'Williams Grand Prix Engineering'), ('season', '2016 Formula One World Championship')]\n",
      "[('team', 'McLaren'), ('season', '2018 Formula One World Championship')]\n",
      "[('team', 'McLaren'), ('season', '2016 Formula One World Championship')]\n",
      "[('team', 'McLaren'), ('season', '2017 Formula One World Championship')]\n",
      "[('team', 'Mercedes'), ('season', '2017 Formula One World Championship')]\n",
      "[('team', 'Mercedes'), ('season', '2016 Formula One World Championship')]\n",
      "[('team', 'Mercedes'), ('season', '2018 Formula One World Championship')]\n",
      "[('team', 'Renault F1 Team'), ('season', '2016 Formula One World Championship')]\n",
      "[('team', 'Renault F1 Team'), ('season', '2018 Formula One World Championship')]\n",
      "[('team', 'Renault F1 Team'), ('season', '2017 Formula One World Championship')]\n",
      "[('team', 'Force India'), ('season', '2017 Formula One World Championship')]\n",
      "[('team', 'Force India'), ('season', '2016 Formula One World Championship')]\n",
      "[('team', 'Force India'), ('season', '2018 Formula One World Championship')]\n",
      "[('team', 'Sauber'), ('season', '2017 Formula One World Championship')]\n",
      "[('team', 'Sauber'), ('season', '2016 Formula One World Championship')]\n",
      "[('team', 'Sauber'), ('season', '2018 Formula One World Championship')]\n"
     ]
    },
    {
     "data": {
      "text/plain": [
       "30"
      ]
     },
     "execution_count": 23,
     "metadata": {},
     "output_type": "execute_result"
    }
   ],
   "source": [
    "queryString = \"\"\"\n",
    "SELECT DISTINCT ?team ?season\n",
    "WHERE { \n",
    "\n",
    "\n",
    "?t wdt:P31 wd:Q10497835 .\n",
    "?s wdt:P3450 wd:Q1968;\n",
    "    wdt:P1923 ?t.\n",
    "?t sc:name ?team .\n",
    "?s sc:name ?season .\n",
    "}\n",
    "LIMIT 100\n",
    "\"\"\"\n",
    "\n",
    "print(\"Results\")\n",
    "run_query(queryString)"
   ]
  },
  {
   "cell_type": "code",
   "execution_count": 24,
   "id": "7ecba3be-c449-4105-afd3-c9d7611455ea",
   "metadata": {},
   "outputs": [
    {
     "name": "stdout",
     "output_type": "stream",
     "text": [
      "Results\n",
      "[('s', 'http://www.wikidata.org/entity/Q68926'), ('xx', '1950 Formula One season')]\n"
     ]
    },
    {
     "data": {
      "text/plain": [
       "1"
      ]
     },
     "execution_count": 24,
     "metadata": {},
     "output_type": "execute_result"
    }
   ],
   "source": [
    "queryString = \"\"\"\n",
    "SELECT DISTINCT ?s ?xx\n",
    "WHERE { \n",
    "\n",
    "\n",
    "?t wdt:P31 wd:Q10497835 .\n",
    "?s wdt:P3450 wd:Q1968.\n",
    "?t ?pr ?o.\n",
    "?o ?x ?s.\n",
    "?o sc:name ?obj .\n",
    "?s sc:name ?xx .\n",
    "}\n",
    "LIMIT 100\n",
    "\"\"\"\n",
    "\n",
    "print(\"Results\")\n",
    "run_query(queryString)"
   ]
  },
  {
   "cell_type": "markdown",
   "id": "48184e81-bec2-40a8-9ebb-25da698e10b1",
   "metadata": {},
   "source": [
    "Try to do the final query!"
   ]
  },
  {
   "cell_type": "code",
   "execution_count": 3,
   "id": "34deab65-f9df-4c09-8a93-67b8e47303c9",
   "metadata": {},
   "outputs": [
    {
     "name": "stdout",
     "output_type": "stream",
     "text": [
      "Results\n",
      "[('driver', 'Fernando Alonso'), ('team', 'Scuderia Ferrari'), ('season', '2017 Formula One World Championship')]\n",
      "[('driver', 'Fernando Alonso'), ('team', 'Renault F1 Team'), ('season', '2018 Formula One World Championship')]\n",
      "[('driver', 'Fernando Alonso'), ('team', 'Scuderia Ferrari'), ('season', '2016 Formula One World Championship')]\n",
      "[('driver', 'Fernando Alonso'), ('team', 'McLaren'), ('season', '2017 Formula One World Championship')]\n",
      "[('driver', 'Fernando Alonso'), ('team', 'McLaren'), ('season', '2016 Formula One World Championship')]\n",
      "[('driver', 'Fernando Alonso'), ('team', 'McLaren'), ('season', '2018 Formula One World Championship')]\n",
      "[('driver', 'Fernando Alonso'), ('team', 'Renault F1 Team'), ('season', '2016 Formula One World Championship')]\n",
      "[('driver', 'Fernando Alonso'), ('team', 'Scuderia Ferrari'), ('season', '2018 Formula One World Championship')]\n",
      "[('driver', 'Fernando Alonso'), ('team', 'Renault F1 Team'), ('season', '2017 Formula One World Championship')]\n"
     ]
    },
    {
     "data": {
      "text/plain": [
       "9"
      ]
     },
     "execution_count": 3,
     "metadata": {},
     "output_type": "execute_result"
    }
   ],
   "source": [
    "queryString = \"\"\"\n",
    "SELECT DISTINCT ?driver ?team ?season\n",
    "WHERE { \n",
    "\n",
    "#team part\n",
    "?t wdt:P31 wd:Q10497835 .\n",
    "\n",
    "#driver part\n",
    "?a wdt:P106 wd:Q10841764;\n",
    "    wdt:P54 ?t;\n",
    "    wdt:P1344 ?s .\n",
    "?s wdt:P1923 ?t. \n",
    "?s sc:name ?season .\n",
    "?t sc:name ?team .\n",
    "?a sc:name ?driver .\n",
    "\n",
    "FILTER(REGEX(?season,\\\".*[F,f]ormula [O,o]ne.*\\\"))\n",
    "}\n",
    "ORDER by ?a\n",
    "LIMIT 100\n",
    "\"\"\"\n",
    "\n",
    "print(\"Results\")\n",
    "run_query(queryString)"
   ]
  },
  {
   "cell_type": "markdown",
   "id": "d24a167a-67b3-469a-ae51-d4ad08f30624",
   "metadata": {
    "tags": []
   },
   "source": [
    "## Task 2\n",
    "Identify the BGP that connects a F1 team to a parent company starting from Ferrari"
   ]
  },
  {
   "cell_type": "code",
   "execution_count": 26,
   "id": "ee932479-61ae-4063-b276-6214553e0d53",
   "metadata": {},
   "outputs": [
    {
     "name": "stdout",
     "output_type": "stream",
     "text": [
      "Results\n",
      "[('p', 'http://www.wikidata.org/prop/direct/P749'), ('prop', 'parent organization')]\n"
     ]
    },
    {
     "data": {
      "text/plain": [
       "1"
      ]
     },
     "execution_count": 26,
     "metadata": {},
     "output_type": "execute_result"
    }
   ],
   "source": [
    "queryString = \"\"\"\n",
    "SELECT DISTINCT ?p ?prop\n",
    "WHERE { \n",
    "\n",
    "wd:Q169898 ?p wd:Q27586 .\n",
    "?p sc:name ?prop .\n",
    "}\n",
    "LIMIT 100\n",
    "\"\"\"\n",
    "\n",
    "print(\"Results\")\n",
    "run_query(queryString)"
   ]
  },
  {
   "cell_type": "markdown",
   "id": "cfcb9fdd-67de-413b-a2c5-ac31217784fa",
   "metadata": {},
   "source": [
    "Looking for some relations"
   ]
  },
  {
   "cell_type": "code",
   "execution_count": 27,
   "id": "1f1cb088-1eb9-441b-943d-c063d4da6bb0",
   "metadata": {},
   "outputs": [
    {
     "name": "stdout",
     "output_type": "stream",
     "text": [
      "Results\n",
      "[('p', 'http://www.wikidata.org/prop/direct/P31'), ('prop', 'instance of'), ('count', '136')]\n",
      "[('p', 'http://www.wikidata.org/prop/direct/P17'), ('prop', 'country'), ('count', '60')]\n",
      "[('p', 'http://www.wikidata.org/prop/direct/P646'), ('prop', 'Freebase ID'), ('count', '55')]\n",
      "[('p', 'http://www.wikidata.org/prop/direct/P373'), ('prop', 'Commons category'), ('count', '52')]\n",
      "[('p', 'http://www.wikidata.org/prop/direct/P910'), ('prop', \"topic's main category\"), ('count', '45')]\n",
      "[('p', 'http://www.wikidata.org/prop/direct/P18'), ('prop', 'image'), ('count', '42')]\n",
      "[('p', 'http://www.wikidata.org/prop/direct/P571'), ('prop', 'inception'), ('count', '34')]\n",
      "[('p', 'http://www.wikidata.org/prop/direct/P935'), ('prop', 'Commons gallery'), ('count', '34')]\n",
      "[('p', 'http://www.wikidata.org/prop/direct/P856'), ('prop', 'official website'), ('count', '28')]\n",
      "[('p', 'http://www.wikidata.org/prop/direct/P8687'), ('prop', 'social media followers'), ('count', '26')]\n",
      "[('p', 'http://www.wikidata.org/prop/direct/P2002'), ('prop', 'Twitter username'), ('count', '21')]\n",
      "[('p', 'http://www.wikidata.org/prop/direct/P1889'), ('prop', 'different from'), ('count', '19')]\n",
      "[('p', 'http://www.wikidata.org/prop/direct/P2013'), ('prop', 'Facebook ID'), ('count', '19')]\n",
      "[('p', 'http://www.wikidata.org/prop/direct/P112'), ('prop', 'founded by'), ('count', '18')]\n",
      "[('p', 'http://www.wikidata.org/prop/direct/P159'), ('prop', 'headquarters location'), ('count', '16')]\n",
      "[('p', 'http://www.wikidata.org/prop/direct/P641'), ('prop', 'sport'), ('count', '16')]\n",
      "[('p', 'http://www.wikidata.org/prop/direct/P2397'), ('prop', 'YouTube channel ID'), ('count', '14')]\n",
      "[('p', 'http://www.wikidata.org/prop/direct/P2003'), ('prop', 'Instagram username'), ('count', '13')]\n",
      "[('p', 'http://www.wikidata.org/prop/direct/P3417'), ('prop', 'Quora topic ID'), ('count', '12')]\n",
      "[('p', 'http://www.wikidata.org/prop/direct/P154'), ('prop', 'logo image'), ('count', '11')]\n",
      "[('p', 'http://www.wikidata.org/prop/direct/P859'), ('prop', 'sponsor'), ('count', '10')]\n",
      "[('p', 'http://www.wikidata.org/prop/direct/P7859'), ('prop', 'WorldCat Identities ID'), ('count', '9')]\n",
      "[('p', 'http://www.wikidata.org/prop/direct/P214'), ('prop', 'VIAF ID'), ('count', '9')]\n",
      "[('p', 'http://www.wikidata.org/prop/direct/P8672'), ('prop', 'Twitter topic ID'), ('count', '9')]\n",
      "[('p', 'http://www.wikidata.org/prop/direct/P2671'), ('prop', 'Google Knowledge Graph ID'), ('count', '8')]\n",
      "[('p', 'http://www.wikidata.org/prop/direct/P1448'), ('prop', 'official name'), ('count', '8')]\n",
      "[('p', 'http://www.wikidata.org/prop/direct/P361'), ('prop', 'part of'), ('count', '8')]\n",
      "[('p', 'http://www.wikidata.org/prop/direct/P1269'), ('prop', 'facet of'), ('count', '7')]\n",
      "[('p', 'http://www.wikidata.org/prop/direct/P244'), ('prop', 'Library of Congress authority ID'), ('count', '6')]\n",
      "[('p', 'http://www.wikidata.org/prop/direct/P452'), ('prop', 'industry'), ('count', '6')]\n",
      "[('p', 'http://www.wikidata.org/prop/direct/P1365'), ('prop', 'replaces'), ('count', '5')]\n",
      "[('p', 'http://www.wikidata.org/prop/direct/P576'), ('prop', 'dissolved, abolished or demolished date'), ('count', '5')]\n",
      "[('p', 'http://www.wikidata.org/prop/direct/P1366'), ('prop', 'replaced by'), ('count', '5')]\n",
      "[('p', 'http://www.wikidata.org/prop/direct/P4264'), ('prop', 'LinkedIn company ID'), ('count', '4')]\n",
      "[('p', 'http://www.wikidata.org/prop/direct/P527'), ('prop', 'has part'), ('count', '4')]\n",
      "[('p', 'http://www.wikidata.org/prop/direct/P749'), ('prop', 'parent organization'), ('count', '4')]\n",
      "[('p', 'http://www.wikidata.org/prop/direct/P1424'), ('prop', \"topic's main template\"), ('count', '3')]\n",
      "[('p', 'http://www.wikidata.org/prop/direct/P9279'), ('prop', 'Egapro gender equality index'), ('count', '3')]\n",
      "[('p', 'http://www.wikidata.org/prop/direct/P127'), ('prop', 'owned by'), ('count', '3')]\n",
      "[('p', 'http://www.wikidata.org/prop/direct/P138'), ('prop', 'named after'), ('count', '3')]\n",
      "[('p', 'http://www.wikidata.org/prop/direct/P1454'), ('prop', 'legal form'), ('count', '3')]\n",
      "[('p', 'http://www.wikidata.org/prop/direct/P1382'), ('prop', 'partially coincident with'), ('count', '2')]\n",
      "[('p', 'http://www.wikidata.org/prop/direct/P6782'), ('prop', 'ROR ID'), ('count', '2')]\n",
      "[('p', 'http://www.wikidata.org/prop/direct/P2427'), ('prop', 'GRID ID'), ('count', '2')]\n",
      "[('p', 'http://www.wikidata.org/prop/direct/P6112'), ('prop', 'category for members of a team'), ('count', '2')]\n",
      "[('p', 'http://www.wikidata.org/prop/direct/P740'), ('prop', 'location of formation'), ('count', '2')]\n",
      "[('p', 'http://www.wikidata.org/prop/direct/P5785'), ('prop', 'EU Research participant ID'), ('count', '2')]\n",
      "[('p', 'http://www.wikidata.org/prop/direct/P793'), ('prop', 'significant event'), ('count', '2')]\n",
      "[('p', 'http://www.wikidata.org/prop/direct/P276'), ('prop', 'location'), ('count', '2')]\n",
      "[('p', 'http://www.wikidata.org/prop/direct/P3608'), ('prop', 'EU VAT number'), ('count', '2')]\n",
      "[('p', 'http://www.wikidata.org/prop/direct/P3579'), ('prop', 'Sina Weibo user ID'), ('count', '2')]\n",
      "[('p', 'http://www.wikidata.org/prop/direct/P8178'), ('prop', 'motorsportstats.com team ID'), ('count', '2')]\n",
      "[('p', 'http://www.wikidata.org/prop/direct/P355'), ('prop', 'subsidiary'), ('count', '2')]\n",
      "[('p', 'http://www.wikidata.org/prop/direct/P118'), ('prop', 'league'), ('count', '1')]\n",
      "[('p', 'http://www.wikidata.org/prop/direct/P155'), ('prop', 'follows'), ('count', '1')]\n",
      "[('p', 'http://www.wikidata.org/prop/direct/P1830'), ('prop', 'owner of'), ('count', '1')]\n",
      "[('p', 'http://www.wikidata.org/prop/direct/P4342'), ('prop', 'Store norske leksikon ID'), ('count', '1')]\n",
      "[('p', 'http://www.wikidata.org/prop/direct/P582'), ('prop', 'end time'), ('count', '1')]\n",
      "[('p', 'http://www.wikidata.org/prop/direct/P2094'), ('prop', 'competition class'), ('count', '1')]\n",
      "[('p', 'http://www.wikidata.org/prop/direct/P268'), ('prop', 'Bibliothèque nationale de France ID'), ('count', '1')]\n",
      "[('p', 'http://www.wikidata.org/prop/direct/P7085'), ('prop', 'TikTok username'), ('count', '1')]\n",
      "[('p', 'http://www.wikidata.org/prop/direct/P227'), ('prop', 'GND ID'), ('count', '1')]\n",
      "[('p', 'http://www.wikidata.org/prop/direct/P396'), ('prop', 'SBN author ID'), ('count', '1')]\n",
      "[('p', 'http://www.wikidata.org/prop/direct/P1056'), ('prop', 'product or material produced'), ('count', '1')]\n",
      "[('p', 'http://www.wikidata.org/prop/direct/P1128'), ('prop', 'employees'), ('count', '1')]\n",
      "[('p', 'http://www.wikidata.org/prop/direct/P213'), ('prop', 'ISNI'), ('count', '1')]\n",
      "[('p', 'http://www.wikidata.org/prop/direct/P585'), ('prop', 'point in time'), ('count', '1')]\n",
      "[('p', 'http://www.wikidata.org/prop/direct/P6363'), ('prop', 'WordLift URL'), ('count', '1')]\n",
      "[('p', 'http://www.wikidata.org/prop/direct/P966'), ('prop', 'MusicBrainz label ID'), ('count', '1')]\n",
      "[('p', 'http://www.wikidata.org/prop/direct/P1616'), ('prop', 'SIREN number'), ('count', '1')]\n",
      "[('p', 'http://www.wikidata.org/prop/direct/P495'), ('prop', 'country of origin'), ('count', '1')]\n",
      "[('p', 'http://www.wikidata.org/prop/direct/P1344'), ('prop', 'participant in'), ('count', '1')]\n",
      "[('p', 'http://www.wikidata.org/prop/direct/P2184'), ('prop', 'history of topic'), ('count', '1')]\n"
     ]
    },
    {
     "data": {
      "text/plain": [
       "73"
      ]
     },
     "execution_count": 27,
     "metadata": {},
     "output_type": "execute_result"
    }
   ],
   "source": [
    "queryString = \"\"\"\n",
    "SELECT DISTINCT ?p ?prop count(*) AS ?count\n",
    "WHERE { \n",
    "\n",
    "?t wdt:P31 wd:Q10497835;\n",
    "     ?p ?o .\n",
    "?p sc:name ?prop .\n",
    "}\n",
    "GROUP BY ?p ?prop\n",
    "ORDER BY DESC (?count)\n",
    "LIMIT 100\n",
    "\"\"\"\n",
    "\n",
    "print(\"Results\")\n",
    "run_query(queryString)"
   ]
  },
  {
   "cell_type": "markdown",
   "id": "172c0c0b-660a-43ca-9a80-128bde585e89",
   "metadata": {},
   "source": [
    "Found intersting two relation, owned by (`P127`), parent organization (`P749`) and (`P355`). Query the system with both"
   ]
  },
  {
   "cell_type": "code",
   "execution_count": 28,
   "id": "076d6be6-979a-4833-9d04-bcb7ba0b16ad",
   "metadata": {},
   "outputs": [
    {
     "name": "stdout",
     "output_type": "stream",
     "text": [
      "Results\n",
      "[('team', 'Red Bull Racing'), ('owner', 'Red Bull GmbH')]\n",
      "[('team', 'Alpine F1 Team'), ('owner', 'Renault')]\n",
      "[('team', 'Williams Grand Prix Engineering'), ('owner', 'Dorilton Capital')]\n"
     ]
    },
    {
     "data": {
      "text/plain": [
       "3"
      ]
     },
     "execution_count": 28,
     "metadata": {},
     "output_type": "execute_result"
    }
   ],
   "source": [
    "queryString = \"\"\"\n",
    "SELECT DISTINCT ?team ?owner\n",
    "WHERE { \n",
    "\n",
    "?t wdt:P31 wd:Q10497835;\n",
    "     wdt:P127 ?o .\n",
    "?t sc:name ?team .\n",
    "?o sc:name ?owner .\n",
    "}\n",
    "LIMIT 100\n",
    "\"\"\"\n",
    "\n",
    "print(\"Results\")\n",
    "run_query(queryString)"
   ]
  },
  {
   "cell_type": "code",
   "execution_count": 29,
   "id": "ce5a27ce-d3f2-49c8-92a8-e35504229cf2",
   "metadata": {},
   "outputs": [
    {
     "name": "stdout",
     "output_type": "stream",
     "text": [
      "Results\n",
      "[('team', 'McLaren'), ('owner', 'McLaren Technology Group')]\n",
      "[('team', 'Aston Martin F1 Team'), ('owner', 'Aston Martin Lagonda')]\n",
      "[('team', 'Scuderia Ferrari'), ('owner', 'Ferrari')]\n",
      "[('team', 'Enzo Coloni Racing Car Systems'), ('owner', 'Scuderia Coloni')]\n"
     ]
    },
    {
     "data": {
      "text/plain": [
       "4"
      ]
     },
     "execution_count": 29,
     "metadata": {},
     "output_type": "execute_result"
    }
   ],
   "source": [
    "queryString = \"\"\"\n",
    "SELECT DISTINCT ?team ?owner\n",
    "WHERE { \n",
    "\n",
    "?t wdt:P31 wd:Q10497835;\n",
    "     wdt:P749 ?o .\n",
    "?t sc:name ?team .\n",
    "?o sc:name ?owner .\n",
    "}\n",
    "LIMIT 100\n",
    "\"\"\"\n",
    "\n",
    "print(\"Results\")\n",
    "run_query(queryString)"
   ]
  },
  {
   "cell_type": "code",
   "execution_count": 30,
   "id": "02a063f5-270a-46b0-a1ae-dfeb0d8ac46c",
   "metadata": {},
   "outputs": [
    {
     "name": "stdout",
     "output_type": "stream",
     "text": [
      "Results\n",
      "[('team', 'Red Bull Racing'), ('owner', 'Red Bull Junior Team')]\n",
      "[('team', 'Scuderia Ferrari'), ('owner', 'Ferrari Driver Academy')]\n"
     ]
    },
    {
     "data": {
      "text/plain": [
       "2"
      ]
     },
     "execution_count": 30,
     "metadata": {},
     "output_type": "execute_result"
    }
   ],
   "source": [
    "queryString = \"\"\"\n",
    "SELECT DISTINCT ?team ?owner\n",
    "WHERE { \n",
    "\n",
    "?t wdt:P31 wd:Q10497835;\n",
    "     wdt:P355 ?o .\n",
    "?t sc:name ?team .\n",
    "?o sc:name ?owner .\n",
    "}\n",
    "LIMIT 100\n",
    "\"\"\"\n",
    "\n",
    "print(\"Results\")\n",
    "run_query(queryString)"
   ]
  },
  {
   "cell_type": "markdown",
   "id": "b1403f7a-7a5a-4542-9dac-beeb79555a85",
   "metadata": {},
   "source": [
    "Probably a useful query is to take the union between `P749` and `P127` since the two relations produced disjoint output. Not care about `P355`"
   ]
  },
  {
   "cell_type": "code",
   "execution_count": 31,
   "id": "ed9a39d0-10c5-4084-843d-a6c8b4cd1e21",
   "metadata": {},
   "outputs": [
    {
     "name": "stdout",
     "output_type": "stream",
     "text": [
      "Results\n",
      "[('team', 'McLaren'), ('owner', 'McLaren Technology Group')]\n",
      "[('team', 'Aston Martin F1 Team'), ('owner', 'Aston Martin Lagonda')]\n",
      "[('team', 'Scuderia Ferrari'), ('owner', 'Ferrari')]\n",
      "[('team', 'Red Bull Racing'), ('owner', 'Red Bull GmbH')]\n",
      "[('team', 'Alpine F1 Team'), ('owner', 'Renault')]\n",
      "[('team', 'Enzo Coloni Racing Car Systems'), ('owner', 'Scuderia Coloni')]\n",
      "[('team', 'Williams Grand Prix Engineering'), ('owner', 'Dorilton Capital')]\n"
     ]
    },
    {
     "data": {
      "text/plain": [
       "7"
      ]
     },
     "execution_count": 31,
     "metadata": {},
     "output_type": "execute_result"
    }
   ],
   "source": [
    "queryString = \"\"\"\n",
    "SELECT DISTINCT ?team ?owner\n",
    "WHERE { \n",
    "\n",
    "?t wdt:P31 wd:Q10497835;\n",
    "     wdt:P749|wdt:P127 ?o .\n",
    "?t sc:name ?team .\n",
    "?o sc:name ?owner .\n",
    "}\n",
    "LIMIT 100\n",
    "\"\"\"\n",
    "\n",
    "print(\"Results\")\n",
    "run_query(queryString)"
   ]
  },
  {
   "cell_type": "markdown",
   "id": "95c972c0-899c-4619-9477-66bc1a7bc278",
   "metadata": {
    "tags": []
   },
   "source": [
    "## Task 3\n",
    "How many F1 drivers and F1 teams exist in each country?"
   ]
  },
  {
   "cell_type": "markdown",
   "id": "74fd514d-e4f1-4488-86ef-12c639a44842",
   "metadata": {},
   "source": [
    "Looking for the relations of the team"
   ]
  },
  {
   "cell_type": "code",
   "execution_count": 32,
   "id": "05c1ae65-db81-4be7-b6f0-3289205e5e30",
   "metadata": {},
   "outputs": [
    {
     "name": "stdout",
     "output_type": "stream",
     "text": [
      "Results\n",
      "[('pr', 'http://www.wikidata.org/prop/direct/P9279'), ('prop', 'Egapro gender equality index')]\n",
      "[('pr', 'http://www.wikidata.org/prop/direct/P1056'), ('prop', 'product or material produced')]\n",
      "[('pr', 'http://www.wikidata.org/prop/direct/P112'), ('prop', 'founded by')]\n",
      "[('pr', 'http://www.wikidata.org/prop/direct/P1128'), ('prop', 'employees')]\n",
      "[('pr', 'http://www.wikidata.org/prop/direct/P118'), ('prop', 'league')]\n",
      "[('pr', 'http://www.wikidata.org/prop/direct/P1269'), ('prop', 'facet of')]\n",
      "[('pr', 'http://www.wikidata.org/prop/direct/P127'), ('prop', 'owned by')]\n",
      "[('pr', 'http://www.wikidata.org/prop/direct/P1344'), ('prop', 'participant in')]\n",
      "[('pr', 'http://www.wikidata.org/prop/direct/P1365'), ('prop', 'replaces')]\n",
      "[('pr', 'http://www.wikidata.org/prop/direct/P1366'), ('prop', 'replaced by')]\n",
      "[('pr', 'http://www.wikidata.org/prop/direct/P138'), ('prop', 'named after')]\n",
      "[('pr', 'http://www.wikidata.org/prop/direct/P1382'), ('prop', 'partially coincident with')]\n",
      "[('pr', 'http://www.wikidata.org/prop/direct/P1424'), ('prop', \"topic's main template\")]\n",
      "[('pr', 'http://www.wikidata.org/prop/direct/P1448'), ('prop', 'official name')]\n",
      "[('pr', 'http://www.wikidata.org/prop/direct/P1454'), ('prop', 'legal form')]\n",
      "[('pr', 'http://www.wikidata.org/prop/direct/P154'), ('prop', 'logo image')]\n",
      "[('pr', 'http://www.wikidata.org/prop/direct/P155'), ('prop', 'follows')]\n",
      "[('pr', 'http://www.wikidata.org/prop/direct/P159'), ('prop', 'headquarters location')]\n",
      "[('pr', 'http://www.wikidata.org/prop/direct/P1616'), ('prop', 'SIREN number')]\n",
      "[('pr', 'http://www.wikidata.org/prop/direct/P17'), ('prop', 'country')]\n",
      "[('pr', 'http://www.wikidata.org/prop/direct/P18'), ('prop', 'image')]\n",
      "[('pr', 'http://www.wikidata.org/prop/direct/P1830'), ('prop', 'owner of')]\n",
      "[('pr', 'http://www.wikidata.org/prop/direct/P1889'), ('prop', 'different from')]\n",
      "[('pr', 'http://www.wikidata.org/prop/direct/P2002'), ('prop', 'Twitter username')]\n",
      "[('pr', 'http://www.wikidata.org/prop/direct/P2003'), ('prop', 'Instagram username')]\n",
      "[('pr', 'http://www.wikidata.org/prop/direct/P2013'), ('prop', 'Facebook ID')]\n",
      "[('pr', 'http://www.wikidata.org/prop/direct/P2094'), ('prop', 'competition class')]\n",
      "[('pr', 'http://www.wikidata.org/prop/direct/P213'), ('prop', 'ISNI')]\n",
      "[('pr', 'http://www.wikidata.org/prop/direct/P214'), ('prop', 'VIAF ID')]\n",
      "[('pr', 'http://www.wikidata.org/prop/direct/P2184'), ('prop', 'history of topic')]\n",
      "[('pr', 'http://www.wikidata.org/prop/direct/P227'), ('prop', 'GND ID')]\n",
      "[('pr', 'http://www.wikidata.org/prop/direct/P2397'), ('prop', 'YouTube channel ID')]\n",
      "[('pr', 'http://www.wikidata.org/prop/direct/P2427'), ('prop', 'GRID ID')]\n",
      "[('pr', 'http://www.wikidata.org/prop/direct/P244'), ('prop', 'Library of Congress authority ID')]\n",
      "[('pr', 'http://www.wikidata.org/prop/direct/P2671'), ('prop', 'Google Knowledge Graph ID')]\n",
      "[('pr', 'http://www.wikidata.org/prop/direct/P268'), ('prop', 'Bibliothèque nationale de France ID')]\n",
      "[('pr', 'http://www.wikidata.org/prop/direct/P276'), ('prop', 'location')]\n",
      "[('pr', 'http://www.wikidata.org/prop/direct/P31'), ('prop', 'instance of')]\n",
      "[('pr', 'http://www.wikidata.org/prop/direct/P3417'), ('prop', 'Quora topic ID')]\n",
      "[('pr', 'http://www.wikidata.org/prop/direct/P355'), ('prop', 'subsidiary')]\n",
      "[('pr', 'http://www.wikidata.org/prop/direct/P3608'), ('prop', 'EU VAT number')]\n",
      "[('pr', 'http://www.wikidata.org/prop/direct/P361'), ('prop', 'part of')]\n",
      "[('pr', 'http://www.wikidata.org/prop/direct/P373'), ('prop', 'Commons category')]\n",
      "[('pr', 'http://www.wikidata.org/prop/direct/P396'), ('prop', 'SBN author ID')]\n",
      "[('pr', 'http://www.wikidata.org/prop/direct/P4264'), ('prop', 'LinkedIn company ID')]\n",
      "[('pr', 'http://www.wikidata.org/prop/direct/P4342'), ('prop', 'Store norske leksikon ID')]\n",
      "[('pr', 'http://www.wikidata.org/prop/direct/P452'), ('prop', 'industry')]\n",
      "[('pr', 'http://www.wikidata.org/prop/direct/P495'), ('prop', 'country of origin')]\n",
      "[('pr', 'http://www.wikidata.org/prop/direct/P527'), ('prop', 'has part')]\n",
      "[('pr', 'http://www.wikidata.org/prop/direct/P571'), ('prop', 'inception')]\n",
      "[('pr', 'http://www.wikidata.org/prop/direct/P576'), ('prop', 'dissolved, abolished or demolished date')]\n",
      "[('pr', 'http://www.wikidata.org/prop/direct/P5785'), ('prop', 'EU Research participant ID')]\n",
      "[('pr', 'http://www.wikidata.org/prop/direct/P582'), ('prop', 'end time')]\n",
      "[('pr', 'http://www.wikidata.org/prop/direct/P585'), ('prop', 'point in time')]\n",
      "[('pr', 'http://www.wikidata.org/prop/direct/P6112'), ('prop', 'category for members of a team')]\n",
      "[('pr', 'http://www.wikidata.org/prop/direct/P6363'), ('prop', 'WordLift URL')]\n",
      "[('pr', 'http://www.wikidata.org/prop/direct/P641'), ('prop', 'sport')]\n",
      "[('pr', 'http://www.wikidata.org/prop/direct/P646'), ('prop', 'Freebase ID')]\n",
      "[('pr', 'http://www.wikidata.org/prop/direct/P6782'), ('prop', 'ROR ID')]\n",
      "[('pr', 'http://www.wikidata.org/prop/direct/P7085'), ('prop', 'TikTok username')]\n",
      "[('pr', 'http://www.wikidata.org/prop/direct/P740'), ('prop', 'location of formation')]\n",
      "[('pr', 'http://www.wikidata.org/prop/direct/P749'), ('prop', 'parent organization')]\n",
      "[('pr', 'http://www.wikidata.org/prop/direct/P7859'), ('prop', 'WorldCat Identities ID')]\n",
      "[('pr', 'http://www.wikidata.org/prop/direct/P793'), ('prop', 'significant event')]\n",
      "[('pr', 'http://www.wikidata.org/prop/direct/P856'), ('prop', 'official website')]\n",
      "[('pr', 'http://www.wikidata.org/prop/direct/P859'), ('prop', 'sponsor')]\n",
      "[('pr', 'http://www.wikidata.org/prop/direct/P8672'), ('prop', 'Twitter topic ID')]\n",
      "[('pr', 'http://www.wikidata.org/prop/direct/P8687'), ('prop', 'social media followers')]\n",
      "[('pr', 'http://www.wikidata.org/prop/direct/P910'), ('prop', \"topic's main category\")]\n",
      "[('pr', 'http://www.wikidata.org/prop/direct/P935'), ('prop', 'Commons gallery')]\n",
      "[('pr', 'http://www.wikidata.org/prop/direct/P966'), ('prop', 'MusicBrainz label ID')]\n",
      "[('pr', 'http://www.wikidata.org/prop/direct/P3579'), ('prop', 'Sina Weibo user ID')]\n",
      "[('pr', 'http://www.wikidata.org/prop/direct/P8178'), ('prop', 'motorsportstats.com team ID')]\n"
     ]
    },
    {
     "data": {
      "text/plain": [
       "73"
      ]
     },
     "execution_count": 32,
     "metadata": {},
     "output_type": "execute_result"
    }
   ],
   "source": [
    "queryString = \"\"\"\n",
    "SELECT DISTINCT ?pr ?prop\n",
    "WHERE { \n",
    "\n",
    "?t wdt:P31 wd:Q10497835;\n",
    "    ?pr ?o .\n",
    "?pr sc:name ?prop .\n",
    "}\n",
    "LIMIT 100\n",
    "\"\"\"\n",
    "\n",
    "print(\"Results\")\n",
    "run_query(queryString)"
   ]
  },
  {
   "cell_type": "markdown",
   "id": "f947a3b3-7e89-4cfc-b123-3775b6e5579a",
   "metadata": {},
   "source": [
    "Found `P17` that is the country"
   ]
  },
  {
   "cell_type": "code",
   "execution_count": 33,
   "id": "e801c68d-54b0-41d7-9b04-28f9cec0ba0f",
   "metadata": {},
   "outputs": [
    {
     "name": "stdout",
     "output_type": "stream",
     "text": [
      "Results\n",
      "[('country', 'United Kingdom'), ('count', '26')]\n",
      "[('country', 'Italy'), ('count', '16')]\n",
      "[('country', 'France'), ('count', '6')]\n",
      "[('country', 'Russia'), ('count', '2')]\n",
      "[('country', 'Germany'), ('count', '2')]\n",
      "[('country', 'Netherlands'), ('count', '2')]\n",
      "[('country', 'Japan'), ('count', '2')]\n",
      "[('country', 'Spain'), ('count', '1')]\n",
      "[('country', 'Switzerland'), ('count', '1')]\n",
      "[('country', 'Australia'), ('count', '1')]\n",
      "[('country', 'Malaysia'), ('count', '1')]\n"
     ]
    },
    {
     "data": {
      "text/plain": [
       "11"
      ]
     },
     "execution_count": 33,
     "metadata": {},
     "output_type": "execute_result"
    }
   ],
   "source": [
    "queryString = \"\"\"\n",
    "SELECT DISTINCT ?country count(DISTINCT ?t) AS ?count\n",
    "WHERE { \n",
    "\n",
    "?t wdt:P31 wd:Q10497835;\n",
    "    wdt:P17 ?o .\n",
    "?o sc:name ?country .\n",
    "}\n",
    "GROUP BY ?o ?country\n",
    "ORDER BY DESC (?count)\n",
    "LIMIT 100\n",
    "\"\"\"\n",
    "\n",
    "print(\"Results\")\n",
    "run_query(queryString)"
   ]
  },
  {
   "cell_type": "markdown",
   "id": "1040adb1-4ed1-405b-afaf-b4d098873bd6",
   "metadata": {},
   "source": [
    "Same for the driver"
   ]
  },
  {
   "cell_type": "code",
   "execution_count": 34,
   "id": "7cf8b7ee-4e17-4f2c-be59-b9432fb7c7d3",
   "metadata": {},
   "outputs": [
    {
     "name": "stdout",
     "output_type": "stream",
     "text": [
      "Results\n",
      "[('pr', 'http://www.wikidata.org/prop/direct/P103'), ('prop', 'native language')]\n",
      "[('pr', 'http://www.wikidata.org/prop/direct/P109'), ('prop', 'signature')]\n",
      "[('pr', 'http://www.wikidata.org/prop/direct/P1559'), ('prop', 'name in native language')]\n",
      "[('pr', 'http://www.wikidata.org/prop/direct/P268'), ('prop', 'Bibliothèque nationale de France ID')]\n",
      "[('pr', 'http://www.wikidata.org/prop/direct/P1532'), ('prop', 'country for sport')]\n",
      "[('pr', 'http://www.wikidata.org/prop/direct/P27'), ('prop', 'country of citizenship')]\n",
      "[('pr', 'http://www.wikidata.org/prop/direct/P4453'), ('prop', 'Argentine Senate member ID')]\n",
      "[('pr', 'http://www.wikidata.org/prop/direct/P1411'), ('prop', 'nominated for')]\n",
      "[('pr', 'http://www.wikidata.org/prop/direct/P6234'), ('prop', 'Biographie nationale de Belgique ID')]\n"
     ]
    },
    {
     "data": {
      "text/plain": [
       "9"
      ]
     },
     "execution_count": 34,
     "metadata": {},
     "output_type": "execute_result"
    }
   ],
   "source": [
    "queryString = \"\"\"\n",
    "SELECT DISTINCT ?pr ?prop\n",
    "WHERE { \n",
    "\n",
    "?t wdt:P106 wd:Q10841764;\n",
    "    ?pr ?o .\n",
    "?pr sc:name ?prop .\n",
    "FILTER (REGEX (?prop,\\\".*coun.*\\\") || REGEX (?prop,\\\".*nat.*\\\") )\n",
    "}\n",
    "LIMIT 100\n",
    "\"\"\"\n",
    "\n",
    "print(\"Results\")\n",
    "run_query(queryString)"
   ]
  },
  {
   "cell_type": "markdown",
   "id": "3554a62f-d48c-4432-bf33-4e08f2108f4e",
   "metadata": {},
   "source": [
    "Use `P27`, country of citizenship"
   ]
  },
  {
   "cell_type": "code",
   "execution_count": 35,
   "id": "76c6581f-30f7-42b4-880a-6772d0af7b32",
   "metadata": {},
   "outputs": [
    {
     "name": "stdout",
     "output_type": "stream",
     "text": [
      "Results\n",
      "[('country', 'United States of America'), ('count', '245')]\n",
      "[('country', 'United Kingdom'), ('count', '172')]\n",
      "[('country', 'Germany'), ('count', '58')]\n",
      "[('country', 'Belgium'), ('count', '28')]\n",
      "[('country', 'South Africa'), ('count', '27')]\n",
      "[('country', 'Argentina'), ('count', '25')]\n",
      "[('country', 'Italy'), ('count', '19')]\n",
      "[('country', 'Spain'), ('count', '18')]\n",
      "[('country', 'Austria'), ('count', '18')]\n",
      "[('country', 'Kingdom of the Netherlands'), ('count', '17')]\n",
      "[('country', 'Canada'), ('count', '16')]\n",
      "[('country', 'United Kingdom of Great Britain and Ireland'), ('count', '16')]\n",
      "[('country', 'France'), ('count', '14')]\n",
      "[('country', 'Finland'), ('count', '9')]\n",
      "[('country', 'Kingdom of Italy'), ('count', '9')]\n",
      "[('country', 'Ireland'), ('count', '7')]\n",
      "[('country', 'Brazil'), ('count', '6')]\n",
      "[('country', 'Portugal'), ('count', '5')]\n",
      "[('country', 'Mexico'), ('count', '5')]\n",
      "[('country', 'Australia'), ('count', '3')]\n",
      "[('country', 'German Democratic Republic'), ('count', '3')]\n",
      "[('country', 'Denmark'), ('count', '2')]\n",
      "[('country', 'Switzerland'), ('count', '2')]\n",
      "[('country', 'Poland'), ('count', '2')]\n",
      "[('country', 'Thailand'), ('count', '2')]\n",
      "[('country', 'Northern Ireland'), ('count', '1')]\n",
      "[('country', 'New Zealand'), ('count', '1')]\n",
      "[('country', 'Venezuela'), ('count', '1')]\n",
      "[('country', 'Romania'), ('count', '1')]\n",
      "[('country', 'West Germany'), ('count', '1')]\n",
      "[('country', 'Wales'), ('count', '1')]\n",
      "[('country', 'Monaco'), ('count', '1')]\n",
      "[('country', 'Georgia'), ('count', '1')]\n",
      "[('country', 'Japan'), ('count', '1')]\n"
     ]
    },
    {
     "data": {
      "text/plain": [
       "34"
      ]
     },
     "execution_count": 35,
     "metadata": {},
     "output_type": "execute_result"
    }
   ],
   "source": [
    "queryString = \"\"\"\n",
    "SELECT DISTINCT ?country count(DISTINCT ?t) AS ?count\n",
    "WHERE { \n",
    "\n",
    "?t wdt:P106 wd:Q10841764;\n",
    "    wdt:P27 ?o .\n",
    "?o sc:name ?country .\n",
    "}\n",
    "GROUP BY ?o ?country\n",
    "ORDER BY DESC (?count) \n",
    "LIMIT 100\n",
    "\"\"\"\n",
    "\n",
    "print(\"Results\")\n",
    "run_query(queryString)"
   ]
  },
  {
   "cell_type": "markdown",
   "id": "fa811990-96af-45b5-84c2-9339a3716904",
   "metadata": {
    "tags": []
   },
   "source": [
    "## Task 4\n",
    "\n",
    "Compare number of F1 drivers to their nationality\n",
    "\n",
    "4.1 Is there some driver that joined a team in their own country?\n",
    "\n",
    "4.2 Which team employed the larger number of drivers?\n",
    "\n",
    "4.3 For each country , which are the teams and drivers with the highest number of F1 race participations"
   ]
  },
  {
   "cell_type": "markdown",
   "id": "c2e4c953-631f-4998-a31b-7d044b5127ac",
   "metadata": {},
   "source": [
    "<h3> Task 4.1 </h3> Is there some driver that joined a team in their own country? First ask if there is one, if yes run the select query to see the results."
   ]
  },
  {
   "cell_type": "code",
   "execution_count": 36,
   "id": "87acc6b4-4d53-4f64-ad23-7cb361d44f06",
   "metadata": {},
   "outputs": [
    {
     "name": "stdout",
     "output_type": "stream",
     "text": [
      "Results\n"
     ]
    },
    {
     "data": {
      "text/plain": [
       "{'head': {'link': []}, 'boolean': True}"
      ]
     },
     "execution_count": 36,
     "metadata": {},
     "output_type": "execute_result"
    }
   ],
   "source": [
    "queryString = \"\"\"\n",
    "ASK\n",
    "WHERE { \n",
    "\n",
    "?t wdt:P31 wd:Q10497835;\n",
    "    wdt:P17 ?o .\n",
    "?d wdt:P106 wd:Q10841764;\n",
    "    wdt:P54 ?t;\n",
    "    wdt:P27 ?o .\n",
    "?t sc:name ?team .\n",
    "?d sc:name ?driver .\n",
    "?o sc:name ?country .\n",
    "\n",
    "}\n",
    "\"\"\"\n",
    "\n",
    "print(\"Results\")\n",
    "run_ask_query(queryString)"
   ]
  },
  {
   "cell_type": "code",
   "execution_count": 37,
   "id": "d8bbe5ae-7057-4820-800b-8a394261e615",
   "metadata": {},
   "outputs": [
    {
     "name": "stdout",
     "output_type": "stream",
     "text": [
      "Results\n",
      "[('driver', 'David Coulthard'), ('team', 'Red Bull Racing'), ('country', 'United Kingdom')]\n",
      "[('driver', 'Alexander Albon'), ('team', 'Red Bull Racing'), ('country', 'United Kingdom')]\n",
      "[('driver', 'Jackie Stewart'), ('team', 'Tyrrell Racing'), ('country', 'United Kingdom')]\n",
      "[('driver', 'Enrico Bertaggia'), ('team', 'Forti'), ('country', 'Italy')]\n",
      "[('driver', 'Tony Brooks'), ('team', 'British Racing Motors'), ('country', 'United Kingdom')]\n",
      "[('driver', 'Roy Salvadori'), ('team', 'British Racing Motors'), ('country', 'United Kingdom')]\n",
      "[('driver', 'Richard Attwood'), ('team', 'British Racing Motors'), ('country', 'United Kingdom')]\n",
      "[('driver', 'Jackie Stewart'), ('team', 'British Racing Motors'), ('country', 'United Kingdom')]\n",
      "[('driver', 'John Surtees'), ('team', 'British Racing Motors'), ('country', 'United Kingdom')]\n",
      "[('driver', 'Mike Spence'), ('team', 'British Racing Motors'), ('country', 'United Kingdom')]\n"
     ]
    },
    {
     "data": {
      "text/plain": [
       "10"
      ]
     },
     "execution_count": 37,
     "metadata": {},
     "output_type": "execute_result"
    }
   ],
   "source": [
    "queryString = \"\"\"\n",
    "SELECT DISTINCT ?driver ?team ?country\n",
    "WHERE { \n",
    "\n",
    "?t wdt:P31 wd:Q10497835;\n",
    "    wdt:P17 ?o .\n",
    "?d wdt:P106 wd:Q10841764;\n",
    "    wdt:P54 ?t;\n",
    "    wdt:P27 ?o .\n",
    "?t sc:name ?team .\n",
    "?d sc:name ?driver .\n",
    "?o sc:name ?country .\n",
    "\n",
    "}\n",
    "LIMIT 10\n",
    "\"\"\"\n",
    "\n",
    "print(\"Results\")\n",
    "run_query(queryString)"
   ]
  },
  {
   "cell_type": "markdown",
   "id": "0de956d9-9114-4ea6-ac2f-069a7dc27bdc",
   "metadata": {},
   "source": [
    "<h3> Task 4.2 </h3> Which team employed the larger number of drivers?"
   ]
  },
  {
   "cell_type": "markdown",
   "id": "58568a5c-292d-4b7a-a68b-3f09a1e61713",
   "metadata": {},
   "source": [
    "Write the first query to count drivers per team."
   ]
  },
  {
   "cell_type": "code",
   "execution_count": 38,
   "id": "636a893c-7356-459a-a442-d7dc361fe221",
   "metadata": {},
   "outputs": [
    {
     "name": "stdout",
     "output_type": "stream",
     "text": [
      "Results\n",
      "[('team', 'Scuderia Ferrari'), ('count', '15')]\n",
      "[('team', 'British Racing Motors'), ('count', '14')]\n",
      "[('team', 'McLaren'), ('count', '14')]\n",
      "[('team', 'Williams Grand Prix Engineering'), ('count', '13')]\n",
      "[('team', 'Alfa Romeo'), ('count', '10')]\n",
      "[('team', 'Brabham'), ('count', '9')]\n",
      "[('team', 'Tyrrell Racing'), ('count', '5')]\n",
      "[('team', 'Scuderia Toro Rosso'), ('count', '5')]\n",
      "[('team', 'Red Bull Racing'), ('count', '5')]\n",
      "[('team', 'Mercedes'), ('count', '4')]\n",
      "[('team', 'March Engineering'), ('count', '4')]\n",
      "[('team', 'Renault F1 Team'), ('count', '3')]\n",
      "[('team', 'Benetton Formula'), ('count', '3')]\n",
      "[('team', 'Equipe Matra Sports'), ('count', '3')]\n",
      "[('team', 'Sauber'), ('count', '2')]\n",
      "[('team', 'Arrows'), ('count', '2')]\n",
      "[('team', 'Minardi'), ('count', '2')]\n",
      "[('team', 'Andrea Moda Formula'), ('count', '2')]\n",
      "[('team', 'Haas F1 Team'), ('count', '2')]\n",
      "[('team', 'Jordan Grand Prix'), ('count', '1')]\n",
      "[('team', 'Zakspeed'), ('count', '1')]\n",
      "[('team', 'Racing Point F1 Team'), ('count', '1')]\n",
      "[('team', 'Dallara'), ('count', '1')]\n",
      "[('team', 'Honda'), ('count', '1')]\n",
      "[('team', 'Lola Cars'), ('count', '1')]\n",
      "[('team', 'Onyx Grand Prix'), ('count', '1')]\n",
      "[('team', 'Enzo Coloni Racing Car Systems'), ('count', '1')]\n",
      "[('team', 'Forti'), ('count', '1')]\n",
      "[('team', 'Caterham F1'), ('count', '1')]\n",
      "[('team', 'Marussia F1'), ('count', '1')]\n",
      "[('team', 'Osella'), ('count', '1')]\n",
      "[('team', 'Life Racing Engines'), ('count', '1')]\n",
      "[('team', 'Simtek'), ('count', '1')]\n",
      "[('team', 'Alpine F1 Team'), ('count', '1')]\n"
     ]
    },
    {
     "data": {
      "text/plain": [
       "34"
      ]
     },
     "execution_count": 38,
     "metadata": {},
     "output_type": "execute_result"
    }
   ],
   "source": [
    "queryString = \"\"\"\n",
    "\n",
    "SELECT ?team count(?d) AS ?count\n",
    "WHERE { \n",
    "\n",
    "?t wdt:P31 wd:Q10497835.\n",
    "\n",
    "?d wdt:P106 wd:Q10841764;\n",
    "    wdt:P54 ?t.\n",
    "\n",
    "?t sc:name ?team .\n",
    "?d sc:name ?driver .\n",
    "\n",
    "}\n",
    "GROUP BY ?t ?team\n",
    "ORDER BY DESC (?count)\n",
    "\"\"\"\n",
    "\n",
    "print(\"Results\")\n",
    "run_query(queryString)"
   ]
  },
  {
   "cell_type": "markdown",
   "id": "bbacf707-586c-4519-a224-6b98ee0a15dc",
   "metadata": {},
   "source": [
    "Select the max"
   ]
  },
  {
   "cell_type": "code",
   "execution_count": 39,
   "id": "2799bd44-7b80-4b83-a16d-21773b13c2cf",
   "metadata": {},
   "outputs": [
    {
     "name": "stdout",
     "output_type": "stream",
     "text": [
      "Results\n",
      "[('team', 'Scuderia Ferrari'), ('max', '15')]\n"
     ]
    },
    {
     "data": {
      "text/plain": [
       "1"
      ]
     },
     "execution_count": 39,
     "metadata": {},
     "output_type": "execute_result"
    }
   ],
   "source": [
    "queryString = \"\"\"\n",
    "SELECT ?team ?max \n",
    "WHERE{\n",
    "    {\n",
    "        SELECT max(?count) AS ?max WHERE{\n",
    "        SELECT  ?team count(?d) AS ?count\n",
    "        WHERE { \n",
    "\n",
    "        ?t wdt:P31 wd:Q10497835.\n",
    "\n",
    "        ?d wdt:P106 wd:Q10841764;\n",
    "            wdt:P54 ?t.\n",
    "\n",
    "        ?t sc:name ?team .\n",
    "        ?d sc:name ?driver .\n",
    "\n",
    "        }\n",
    "        GROUP BY ?t ?team\n",
    "        }\n",
    "    }\n",
    "    {\n",
    "        SELECT ?team count(?d) AS ?count\n",
    "        WHERE { \n",
    "\n",
    "        ?t wdt:P31 wd:Q10497835.\n",
    "\n",
    "        ?d wdt:P106 wd:Q10841764;\n",
    "            wdt:P54 ?t.\n",
    "\n",
    "        ?t sc:name ?team .\n",
    "        ?d sc:name ?driver .\n",
    "\n",
    "        }\n",
    "        GROUP BY ?t ?team\n",
    "    }\n",
    "    \n",
    "    FILTER (?count = ?max)\n",
    "}\n",
    "\"\"\"\n",
    "\n",
    "print(\"Results\")\n",
    "run_query(queryString)"
   ]
  },
  {
   "cell_type": "markdown",
   "id": "2b153917-6d09-4c5a-914e-250ce28ed6b7",
   "metadata": {},
   "source": [
    "<h3> Task 4.3 </h3> For each country , which are the teams and drivers with the highest number of F1 race participations"
   ]
  },
  {
   "cell_type": "markdown",
   "id": "3dc19d49-1d79-40a5-9f62-e0386b272e69",
   "metadata": {},
   "source": [
    "First look for some relations"
   ]
  },
  {
   "cell_type": "code",
   "execution_count": 40,
   "id": "705e601a-9265-4c06-a38a-d3cc56719873",
   "metadata": {},
   "outputs": [
    {
     "name": "stdout",
     "output_type": "stream",
     "text": [
      "Results\n",
      "[('p', 'http://www.wikidata.org/prop/direct/P1423'), ('ista', 'template has topic')]\n",
      "[('p', 'http://www.wikidata.org/prop/direct/P1344'), ('ista', 'participant in')]\n",
      "[('p', 'http://www.wikidata.org/prop/direct/P1346'), ('ista', 'winner')]\n",
      "[('p', 'http://www.wikidata.org/prop/direct/P1889'), ('ista', 'different from')]\n",
      "[('p', 'http://www.wikidata.org/prop/direct/P2348'), ('ista', 'time period')]\n",
      "[('p', 'http://www.wikidata.org/prop/direct/P2522'), ('ista', 'victory')]\n",
      "[('p', 'http://www.wikidata.org/prop/direct/P301'), ('ista', \"category's main topic\")]\n",
      "[('p', 'http://www.wikidata.org/prop/direct/P361'), ('ista', 'part of')]\n",
      "[('p', 'http://www.wikidata.org/prop/direct/P527'), ('ista', 'has part')]\n",
      "[('p', 'http://www.wikidata.org/prop/direct/P921'), ('ista', 'main subject')]\n",
      "[('p', 'http://www.wikidata.org/prop/direct/P971'), ('ista', 'category combines topics')]\n",
      "[('p', 'http://www.wikidata.org/prop/direct/P2499'), ('ista', 'league level above')]\n",
      "[('p', 'http://www.wikidata.org/prop/direct/P1855'), ('ista', 'Wikidata property example')]\n"
     ]
    },
    {
     "data": {
      "text/plain": [
       "13"
      ]
     },
     "execution_count": 40,
     "metadata": {},
     "output_type": "execute_result"
    }
   ],
   "source": [
    "#relation with sports season\n",
    "queryString = \"\"\"\n",
    "\n",
    "SELECT DISTINCT ?p ?ista\n",
    "WHERE { \n",
    "?a wdt:P3450 wd:Q1968.\n",
    " ?o  ?p ?a.\n",
    "\n",
    "?p sc:name ?ista .\n",
    "\n",
    "}\n",
    "\n",
    "\"\"\"\n",
    "\n",
    "print(\"Results\")\n",
    "run_query(queryString)"
   ]
  },
  {
   "cell_type": "markdown",
   "id": "882a03e0-0a1b-42dd-a0be-2b802f2779d1",
   "metadata": {},
   "source": [
    "Found:\n",
    "- `P1346`: winner\n",
    "- `P361`: part of\n",
    "- `P1344` participant in"
   ]
  },
  {
   "cell_type": "code",
   "execution_count": 41,
   "id": "79a27e70-af10-44be-bfdb-6f2c1a976b51",
   "metadata": {},
   "outputs": [
    {
     "name": "stdout",
     "output_type": "stream",
     "text": [
      "Results\n",
      "Empty\n"
     ]
    },
    {
     "data": {
      "text/plain": [
       "0"
      ]
     },
     "execution_count": 41,
     "metadata": {},
     "output_type": "execute_result"
    }
   ],
   "source": [
    "#relation with the winner of sports season\n",
    "queryString = \"\"\"\n",
    "\n",
    "SELECT DISTINCT ?ist \n",
    "WHERE { \n",
    "?a wdt:P3450 wd:Q1968.\n",
    " ?o wdt:1346 ?a.\n",
    "?o wdt:P31 ?ist.\n",
    "\n",
    "}\n",
    "LIMIT 10\n",
    "\n",
    "\"\"\"\n",
    "\n",
    "print(\"Results\")\n",
    "run_query(queryString)"
   ]
  },
  {
   "cell_type": "code",
   "execution_count": 42,
   "id": "d04aede7-1ec5-40e5-b9a0-1e2d609654a0",
   "metadata": {},
   "outputs": [
    {
     "name": "stdout",
     "output_type": "stream",
     "text": [
      "Results\n",
      "[('ist', 'http://www.wikidata.org/entity/Q7854'), ('ista', 'Argentine Grand Prix')]\n",
      "[('ist', 'http://www.wikidata.org/entity/Q7993'), ('ista', 'Korean Grand Prix')]\n",
      "[('ist', 'http://www.wikidata.org/entity/Q53869933'), ('ista', 'sport result')]\n",
      "[('ist', 'http://www.wikidata.org/entity/Q9214'), ('ista', 'Detroit Grand Prix')]\n",
      "[('ist', 'http://www.wikidata.org/entity/Q7961'), ('ista', 'Brazilian Grand Prix')]\n",
      "[('ist', 'http://www.wikidata.org/entity/Q192909'), ('ista', 'scandal')]\n",
      "[('ist', 'http://www.wikidata.org/entity/Q7994'), ('ista', 'European Grand Prix')]\n",
      "[('ist', 'http://www.wikidata.org/entity/Q7997'), ('ista', 'French Grand Prix')]\n",
      "[('ist', 'http://www.wikidata.org/entity/Q7998'), ('ista', 'German Grand Prix')]\n",
      "[('ist', 'http://www.wikidata.org/entity/Q8019'), ('ista', 'British Grand Prix')]\n"
     ]
    },
    {
     "data": {
      "text/plain": [
       "10"
      ]
     },
     "execution_count": 42,
     "metadata": {},
     "output_type": "execute_result"
    }
   ],
   "source": [
    "#relation with the part of sports season\n",
    "queryString = \"\"\"\n",
    "\n",
    "SELECT DISTINCT ?ist ?ista\n",
    "WHERE { \n",
    "?a wdt:P3450 wd:Q1968.\n",
    " ?o wdt:P361 ?a.\n",
    "?o wdt:P31 ?ist.\n",
    "?ist sc:name ?ista .\n",
    "\n",
    "}\n",
    "LIMIT 10\n",
    "\n",
    "\"\"\"\n",
    "\n",
    "print(\"Results\")\n",
    "run_query(queryString)"
   ]
  },
  {
   "cell_type": "markdown",
   "id": "4c830cab-8357-41dd-9465-25f5dbfd9e80",
   "metadata": {},
   "source": [
    "Found that `P361` relate a grand prix with a sport season"
   ]
  },
  {
   "cell_type": "code",
   "execution_count": 43,
   "id": "31038467-118e-4e58-9e91-4e5ff136a3cf",
   "metadata": {},
   "outputs": [
    {
     "name": "stdout",
     "output_type": "stream",
     "text": [
      "Results\n",
      "[('sup', 'http://www.wikidata.org/entity/Q11924610'), ('ista', 'Formula One Grand Prix')]\n",
      "[('sup', 'http://www.wikidata.org/entity/Q65742449'), ('ista', 'Formula One race')]\n"
     ]
    },
    {
     "data": {
      "text/plain": [
       "2"
      ]
     },
     "execution_count": 43,
     "metadata": {},
     "output_type": "execute_result"
    }
   ],
   "source": [
    "queryString = \"\"\"\n",
    "\n",
    "SELECT DISTINCT ?sup ?ista\n",
    "WHERE { \n",
    "?a wdt:P3450 wd:Q1968.\n",
    " ?o wdt:P361 ?a.\n",
    "?o wdt:P31 ?ist.\n",
    "?ist wdt:P279+ ?sup.\n",
    "?sup sc:name ?ista .\n",
    "\n",
    "FILTER(REGEX(?ista,\\\".*[F,f]ormula [O,o]ne.*\\\"))\n",
    "}\n",
    "LIMIT 100\n",
    "\n",
    "\"\"\"\n",
    "\n",
    "print(\"Results\")\n",
    "run_query(queryString)"
   ]
  },
  {
   "cell_type": "markdown",
   "id": "d09ebccd-0c12-4a59-b313-7acf93476474",
   "metadata": {},
   "source": [
    "Look in details the F1 race and the F1 Grand Prix"
   ]
  },
  {
   "cell_type": "code",
   "execution_count": 44,
   "id": "bf769119-3ba5-4620-ac20-dfbabe1f32ac",
   "metadata": {},
   "outputs": [
    {
     "name": "stdout",
     "output_type": "stream",
     "text": [
      "Results\n",
      "[('a', 'http://www.wikidata.org/entity/Q16868870'), ('ista', '1951 San Remo Grand Prix')]\n",
      "[('a', 'http://www.wikidata.org/entity/Q16868871'), ('ista', '1937 San Remo Grand Prix')]\n",
      "[('a', 'http://www.wikidata.org/entity/Q16868873'), ('ista', '1947 San Remo Grand Prix')]\n",
      "[('a', 'http://www.wikidata.org/entity/Q3113944'), ('ista', '1937 Pescara Grand Prix')]\n",
      "[('a', 'http://www.wikidata.org/entity/Q97139307'), ('ista', '2020 Tuscan Grand Prix')]\n",
      "[('a', 'http://www.wikidata.org/entity/Q97651788'), ('ista', '2020 Eifel Grand Prix')]\n",
      "[('a', 'http://www.wikidata.org/entity/Q424206'), ('ista', '1957 Pescara Grand Prix')]\n",
      "[('a', 'http://www.wikidata.org/entity/Q3113947'), ('ista', '1938 Pescara Grand Prix')]\n",
      "[('a', 'http://www.wikidata.org/entity/Q640852'), ('ista', '1932 Pescara Grand Prix')]\n"
     ]
    },
    {
     "data": {
      "text/plain": [
       "9"
      ]
     },
     "execution_count": 44,
     "metadata": {},
     "output_type": "execute_result"
    }
   ],
   "source": [
    "#F1 race\n",
    "queryString = \"\"\"\n",
    "\n",
    "SELECT DISTINCT ?a ?ista\n",
    "WHERE { \n",
    "?a wdt:P31/wdt:P279+ wd:Q65742449.\n",
    "\n",
    "?a sc:name ?ista .\n",
    "}\n",
    "LIMIT 100\n",
    "\n",
    "\"\"\"\n",
    "\n",
    "print(\"Results\")\n",
    "run_query(queryString)"
   ]
  },
  {
   "cell_type": "code",
   "execution_count": 45,
   "id": "96434dd7-55de-4fd6-97ed-34755d35ba62",
   "metadata": {},
   "outputs": [
    {
     "name": "stdout",
     "output_type": "stream",
     "text": [
      "Results\n",
      "[('a', 'http://www.wikidata.org/entity/Q17195719'), ('ista', '2014 Singapore Grand Prix')]\n",
      "[('a', 'http://www.wikidata.org/entity/Q3113863'), ('ista', '1935 French Grand Prix')]\n",
      "[('a', 'http://www.wikidata.org/entity/Q23045163'), ('ista', '2016 Japanese Grand Prix')]\n",
      "[('a', 'http://www.wikidata.org/entity/Q593732'), ('ista', '1994 Spanish Grand Prix')]\n",
      "[('a', 'http://www.wikidata.org/entity/Q595512'), ('ista', '1963 United States Grand Prix')]\n",
      "[('a', 'http://www.wikidata.org/entity/Q595598'), ('ista', '1965 United States Grand Prix')]\n",
      "[('a', 'http://www.wikidata.org/entity/Q596312'), ('ista', '1987 Detroit Grand Prix')]\n",
      "[('a', 'http://www.wikidata.org/entity/Q664771'), ('ista', '2006 Turkish Grand Prix')]\n",
      "[('a', 'http://www.wikidata.org/entity/Q664818'), ('ista', '2007 Turkish Grand Prix')]\n",
      "[('a', 'http://www.wikidata.org/entity/Q1764779'), ('ista', '1951 Dutch Grand Prix')]\n",
      "[('a', 'http://www.wikidata.org/entity/Q2767091'), ('ista', '1949 Australian Grand Prix')]\n",
      "[('a', 'http://www.wikidata.org/entity/Q363762'), ('ista', '2005 Malaysian Grand Prix')]\n",
      "[('a', 'http://www.wikidata.org/entity/Q594159'), ('ista', '2005 Spanish Grand Prix')]\n",
      "[('a', 'http://www.wikidata.org/entity/Q19601896'), ('ista', '2015 Abu Dhabi Grand Prix')]\n",
      "[('a', 'http://www.wikidata.org/entity/Q19787973'), ('ista', '2015 Austrian Grand Prix')]\n",
      "[('a', 'http://www.wikidata.org/entity/Q19787995'), ('ista', '2015 Spanish Grand Prix')]\n",
      "[('a', 'http://www.wikidata.org/entity/Q22681246'), ('ista', '2016 Bahrain Grand Prix')]\n",
      "[('a', 'http://www.wikidata.org/entity/Q28924289'), ('ista', '2017 Canadian Grand Prix')]\n",
      "[('a', 'http://www.wikidata.org/entity/Q54396'), ('ista', '1974 Brazilian Grand Prix')]\n",
      "[('a', 'http://www.wikidata.org/entity/Q54398'), ('ista', '1976 Brazilian Grand Prix')]\n",
      "[('a', 'http://www.wikidata.org/entity/Q54403'), ('ista', '1981 Brazilian Grand Prix')]\n",
      "[('a', 'http://www.wikidata.org/entity/Q54404'), ('ista', '1982 Brazilian Grand Prix')]\n",
      "[('a', 'http://www.wikidata.org/entity/Q54411'), ('ista', '1989 Brazilian Grand Prix')]\n",
      "[('a', 'http://www.wikidata.org/entity/Q54414'), ('ista', '1992 Brazilian Grand Prix')]\n",
      "[('a', 'http://www.wikidata.org/entity/Q171606'), ('ista', '1982 Dutch Grand Prix')]\n",
      "[('a', 'http://www.wikidata.org/entity/Q171638'), ('ista', '1979 Dutch Grand Prix')]\n",
      "[('a', 'http://www.wikidata.org/entity/Q171690'), ('ista', '1973 Swedish Grand Prix')]\n",
      "[('a', 'http://www.wikidata.org/entity/Q171693'), ('ista', '1978 South African Grand Prix')]\n",
      "[('a', 'http://www.wikidata.org/entity/Q171790'), ('ista', '1971 Dutch Grand Prix')]\n",
      "[('a', 'http://www.wikidata.org/entity/Q171796'), ('ista', '1976 Spanish Grand Prix')]\n",
      "[('a', 'http://www.wikidata.org/entity/Q171820'), ('ista', '1971 South African Grand Prix')]\n",
      "[('a', 'http://www.wikidata.org/entity/Q171828'), ('ista', '1977 South African Grand Prix')]\n",
      "[('a', 'http://www.wikidata.org/entity/Q171836'), ('ista', '1979 Spanish Grand Prix')]\n",
      "[('a', 'http://www.wikidata.org/entity/Q171864'), ('ista', '1975 French Grand Prix')]\n",
      "[('a', 'http://www.wikidata.org/entity/Q171865'), ('ista', '1967 British Grand Prix')]\n",
      "[('a', 'http://www.wikidata.org/entity/Q171915'), ('ista', '1972 United States Grand Prix')]\n",
      "[('a', 'http://www.wikidata.org/entity/Q172015'), ('ista', '2009 Turkish Grand Prix')]\n",
      "[('a', 'http://www.wikidata.org/entity/Q172039'), ('ista', '1980 United States Grand Prix')]\n",
      "[('a', 'http://www.wikidata.org/entity/Q172859'), ('ista', '2012 European Grand Prix')]\n",
      "[('a', 'http://www.wikidata.org/entity/Q172910'), ('ista', '2010 Turkish Grand Prix')]\n",
      "[('a', 'http://www.wikidata.org/entity/Q172934'), ('ista', '2009 British Grand Prix')]\n",
      "[('a', 'http://www.wikidata.org/entity/Q173080'), ('ista', '1953 British Grand Prix')]\n",
      "[('a', 'http://www.wikidata.org/entity/Q173129'), ('ista', '1976 German Grand Prix')]\n",
      "[('a', 'http://www.wikidata.org/entity/Q173134'), ('ista', '1982 German Grand Prix')]\n",
      "[('a', 'http://www.wikidata.org/entity/Q173166'), ('ista', '2012 Singapore Grand Prix')]\n",
      "[('a', 'http://www.wikidata.org/entity/Q173437'), ('ista', '1976 South African Grand Prix')]\n",
      "[('a', 'http://www.wikidata.org/entity/Q179318'), ('ista', '2005 San Marino Grand Prix')]\n",
      "[('a', 'http://www.wikidata.org/entity/Q179354'), ('ista', '2008 British Grand Prix')]\n",
      "[('a', 'http://www.wikidata.org/entity/Q179403'), ('ista', '2008 German Grand Prix')]\n",
      "[('a', 'http://www.wikidata.org/entity/Q220923'), ('ista', '1983 European Grand Prix')]\n",
      "[('a', 'http://www.wikidata.org/entity/Q220962'), ('ista', '1985 European Grand Prix')]\n",
      "[('a', 'http://www.wikidata.org/entity/Q221065'), ('ista', '2004 European Grand Prix')]\n",
      "[('a', 'http://www.wikidata.org/entity/Q221091'), ('ista', '2006 European Grand Prix')]\n",
      "[('a', 'http://www.wikidata.org/entity/Q221112'), ('ista', '2011 European Grand Prix')]\n",
      "[('a', 'http://www.wikidata.org/entity/Q252217'), ('ista', '1957 Italian Grand Prix')]\n",
      "[('a', 'http://www.wikidata.org/entity/Q296483'), ('ista', '1961 German Grand Prix')]\n",
      "[('a', 'http://www.wikidata.org/entity/Q296906'), ('ista', '1990 German Grand Prix')]\n",
      "[('a', 'http://www.wikidata.org/entity/Q297051'), ('ista', '1995 German Grand Prix')]\n",
      "[('a', 'http://www.wikidata.org/entity/Q305647'), ('ista', '1988 Japanese Grand Prix')]\n",
      "[('a', 'http://www.wikidata.org/entity/Q305665'), ('ista', '1990 Japanese Grand Prix')]\n",
      "[('a', 'http://www.wikidata.org/entity/Q306792'), ('ista', '1984 British Grand Prix')]\n",
      "[('a', 'http://www.wikidata.org/entity/Q306867'), ('ista', '1987 British Grand Prix')]\n",
      "[('a', 'http://www.wikidata.org/entity/Q306880'), ('ista', '1988 British Grand Prix')]\n",
      "[('a', 'http://www.wikidata.org/entity/Q307025'), ('ista', '1996 British Grand Prix')]\n",
      "[('a', 'http://www.wikidata.org/entity/Q362773'), ('ista', '1991 Italian Grand Prix')]\n",
      "[('a', 'http://www.wikidata.org/entity/Q362802'), ('ista', '1992 Italian Grand Prix')]\n",
      "[('a', 'http://www.wikidata.org/entity/Q362937'), ('ista', '1997 Italian Grand Prix')]\n",
      "[('a', 'http://www.wikidata.org/entity/Q363191'), ('ista', '2002 Italian Grand Prix')]\n",
      "[('a', 'http://www.wikidata.org/entity/Q363270'), ('ista', '2003 Italian Grand Prix')]\n",
      "[('a', 'http://www.wikidata.org/entity/Q363328'), ('ista', '2005 Italian Grand Prix')]\n",
      "[('a', 'http://www.wikidata.org/entity/Q363781'), ('ista', '2007 Malaysian Grand Prix')]\n",
      "[('a', 'http://www.wikidata.org/entity/Q363863'), ('ista', '1958 Moroccan Grand Prix')]\n",
      "[('a', 'http://www.wikidata.org/entity/Q419360'), ('ista', '1991 Monaco Grand Prix')]\n",
      "[('a', 'http://www.wikidata.org/entity/Q423455'), ('ista', '1958 Dutch Grand Prix')]\n",
      "[('a', 'http://www.wikidata.org/entity/Q423695'), ('ista', '1961 Dutch Grand Prix')]\n",
      "[('a', 'http://www.wikidata.org/entity/Q424150'), ('ista', '1985 Dutch Grand Prix')]\n",
      "[('a', 'http://www.wikidata.org/entity/Q513731'), ('ista', '1958 Portuguese Grand Prix')]\n",
      "[('a', 'http://www.wikidata.org/entity/Q515024'), ('ista', '1994 Portuguese Grand Prix')]\n",
      "[('a', 'http://www.wikidata.org/entity/Q516303'), ('ista', '1998 San Marino Grand Prix')]\n",
      "[('a', 'http://www.wikidata.org/entity/Q4561006'), ('ista', '1921 French Grand Prix')]\n",
      "[('a', 'http://www.wikidata.org/entity/Q3113780'), ('ista', '1934 German Grand Prix')]\n",
      "[('a', 'http://www.wikidata.org/entity/Q3113864'), ('ista', '1934 French Grand Prix')]\n",
      "[('a', 'http://www.wikidata.org/entity/Q6352418'), ('ista', '2013 Canadian Grand Prix')]\n",
      "[('a', 'http://www.wikidata.org/entity/Q23045085'), ('ista', '2016 Spanish Grand Prix')]\n",
      "[('a', 'http://www.wikidata.org/entity/Q29057006'), ('ista', '2017 Austrian Grand Prix')]\n",
      "[('a', 'http://www.wikidata.org/entity/Q29057019'), ('ista', '2017 British Grand Prix')]\n",
      "[('a', 'http://www.wikidata.org/entity/Q1050469'), ('ista', '2004 Indianapolis 500')]\n",
      "[('a', 'http://www.wikidata.org/entity/Q1050829'), ('ista', '1995 Indianapolis 500')]\n",
      "[('a', 'http://www.wikidata.org/entity/Q1082774'), ('ista', '2009 Indianapolis 500')]\n",
      "[('a', 'http://www.wikidata.org/entity/Q1089488'), ('ista', '2011 Indianapolis 500')]\n",
      "[('a', 'http://www.wikidata.org/entity/Q15978620'), ('ista', '2014 Monaco Grand Prix')]\n",
      "[('a', 'http://www.wikidata.org/entity/Q16975969'), ('ista', '2014 Hungarian Grand Prix')]\n",
      "[('a', 'http://www.wikidata.org/entity/Q171383'), ('ista', '2011 Monaco Grand Prix')]\n",
      "[('a', 'http://www.wikidata.org/entity/Q171464'), ('ista', '1982 United States Grand Prix West')]\n",
      "[('a', 'http://www.wikidata.org/entity/Q171492'), ('ista', '1982 Monaco Grand Prix')]\n",
      "[('a', 'http://www.wikidata.org/entity/Q171496'), ('ista', '1981 Monaco Grand Prix')]\n",
      "[('a', 'http://www.wikidata.org/entity/Q171502'), ('ista', '1981 United States Grand Prix West')]\n",
      "[('a', 'http://www.wikidata.org/entity/Q171640'), ('ista', '1978 United States Grand Prix West')]\n",
      "[('a', 'http://www.wikidata.org/entity/Q171642'), ('ista', '1979 United States Grand Prix West')]\n",
      "[('a', 'http://www.wikidata.org/entity/Q171753'), ('ista', '1980 United States Grand Prix West')]\n"
     ]
    },
    {
     "data": {
      "text/plain": [
       "100"
      ]
     },
     "execution_count": 45,
     "metadata": {},
     "output_type": "execute_result"
    }
   ],
   "source": [
    "#F1 Grand Prix\n",
    "queryString = \"\"\"\n",
    "\n",
    "SELECT DISTINCT ?a ?ista\n",
    "WHERE { \n",
    "?a wdt:P31/wdt:P279+ wd:Q11924610.\n",
    "\n",
    "?a sc:name ?ista .\n",
    "}\n",
    "LIMIT 100\n",
    "\n",
    "\"\"\"\n",
    "\n",
    "print(\"Results\")\n",
    "run_query(queryString)"
   ]
  },
  {
   "cell_type": "markdown",
   "id": "23d8169f-5836-47d3-86c5-31ca98ddc209",
   "metadata": {},
   "source": [
    "Wonderful! `?a wdt:P31/wdt:P279+ wd:Q11924610.` this gives me all the effective gran prix.\n",
    "Look for some relations"
   ]
  },
  {
   "cell_type": "code",
   "execution_count": 46,
   "id": "41809b87-6c69-4627-967e-120ca96930e9",
   "metadata": {},
   "outputs": [
    {
     "name": "stdout",
     "output_type": "stream",
     "text": [
      "Results\n",
      "[('pr', 'http://www.wikidata.org/prop/direct/P8284'), ('ista', 'motorsportstats.com event ID')]\n",
      "[('pr', 'http://www.wikidata.org/prop/direct/P131'), ('ista', 'located in the administrative territorial entity')]\n",
      "[('pr', 'http://www.wikidata.org/prop/direct/P1346'), ('ista', 'winner')]\n",
      "[('pr', 'http://www.wikidata.org/prop/direct/P1448'), ('ista', 'official name')]\n",
      "[('pr', 'http://www.wikidata.org/prop/direct/P15'), ('ista', 'route map')]\n",
      "[('pr', 'http://www.wikidata.org/prop/direct/P17'), ('ista', 'country')]\n",
      "[('pr', 'http://www.wikidata.org/prop/direct/P1705'), ('ista', 'native label')]\n",
      "[('pr', 'http://www.wikidata.org/prop/direct/P18'), ('ista', 'image')]\n",
      "[('pr', 'http://www.wikidata.org/prop/direct/P181'), ('ista', 'taxon range map image')]\n",
      "[('pr', 'http://www.wikidata.org/prop/direct/P2283'), ('ista', 'uses')]\n",
      "[('pr', 'http://www.wikidata.org/prop/direct/P242'), ('ista', 'locator map image')]\n",
      "[('pr', 'http://www.wikidata.org/prop/direct/P2581'), ('ista', 'BabelNet ID')]\n",
      "[('pr', 'http://www.wikidata.org/prop/direct/P2671'), ('ista', 'Google Knowledge Graph ID')]\n",
      "[('pr', 'http://www.wikidata.org/prop/direct/P276'), ('ista', 'location')]\n",
      "[('pr', 'http://www.wikidata.org/prop/direct/P31'), ('ista', 'instance of')]\n",
      "[('pr', 'http://www.wikidata.org/prop/direct/P3157'), ('ista', 'event distance')]\n",
      "[('pr', 'http://www.wikidata.org/prop/direct/P3342'), ('ista', 'significant person')]\n",
      "[('pr', 'http://www.wikidata.org/prop/direct/P361'), ('ista', 'part of')]\n",
      "[('pr', 'http://www.wikidata.org/prop/direct/P373'), ('ista', 'Commons category')]\n",
      "[('pr', 'http://www.wikidata.org/prop/direct/P393'), ('ista', 'edition number')]\n",
      "[('pr', 'http://www.wikidata.org/prop/direct/P407'), ('ista', 'language of work or name')]\n",
      "[('pr', 'http://www.wikidata.org/prop/direct/P577'), ('ista', 'publication date')]\n",
      "[('pr', 'http://www.wikidata.org/prop/direct/P580'), ('ista', 'start time')]\n",
      "[('pr', 'http://www.wikidata.org/prop/direct/P582'), ('ista', 'end time')]\n",
      "[('pr', 'http://www.wikidata.org/prop/direct/P585'), ('ista', 'point in time')]\n",
      "[('pr', 'http://www.wikidata.org/prop/direct/P641'), ('ista', 'sport')]\n",
      "[('pr', 'http://www.wikidata.org/prop/direct/P646'), ('ista', 'Freebase ID')]\n",
      "[('pr', 'http://www.wikidata.org/prop/direct/P3764'), ('ista', 'pole position')]\n",
      "[('pr', 'http://www.wikidata.org/prop/direct/P5053'), ('ista', 'fastest lap')]\n",
      "[('pr', 'http://www.wikidata.org/prop/direct/P6806'), ('ista', 'racing-reference race ID')]\n",
      "[('pr', 'http://www.wikidata.org/prop/direct/P156'), ('ista', 'followed by')]\n",
      "[('pr', 'http://www.wikidata.org/prop/direct/P856'), ('ista', 'official website')]\n",
      "[('pr', 'http://www.wikidata.org/prop/direct/P2321'), ('ista', 'general classification of race participants')]\n",
      "[('pr', 'http://www.wikidata.org/prop/direct/P1132'), ('ista', 'number of participants')]\n",
      "[('pr', 'http://www.wikidata.org/prop/direct/P155'), ('ista', 'follows')]\n",
      "[('pr', 'http://www.wikidata.org/prop/direct/P360'), ('ista', 'is a list of')]\n",
      "[('pr', 'http://www.wikidata.org/prop/direct/P710'), ('ista', 'participant')]\n",
      "[('pr', 'http://www.wikidata.org/prop/direct/P910'), ('ista', \"topic's main category\")]\n",
      "[('pr', 'http://www.wikidata.org/prop/direct/P1110'), ('ista', 'attendance')]\n",
      "[('pr', 'http://www.wikidata.org/prop/direct/P1651'), ('ista', 'YouTube video ID')]\n",
      "[('pr', 'http://www.wikidata.org/prop/direct/P935'), ('ista', 'Commons gallery')]\n",
      "[('pr', 'http://www.wikidata.org/prop/direct/P793'), ('ista', 'significant event')]\n",
      "[('pr', 'http://www.wikidata.org/prop/direct/P989'), ('ista', 'spoken text audio')]\n",
      "[('pr', 'http://www.wikidata.org/prop/direct/P2417'), ('ista', 'stage classification')]\n",
      "[('pr', 'http://www.wikidata.org/prop/direct/P2043'), ('ista', 'length')]\n",
      "[('pr', 'http://www.wikidata.org/prop/direct/P214'), ('ista', 'VIAF ID')]\n",
      "[('pr', 'http://www.wikidata.org/prop/direct/P5555'), ('ista', 'schematic')]\n"
     ]
    },
    {
     "data": {
      "text/plain": [
       "47"
      ]
     },
     "execution_count": 46,
     "metadata": {},
     "output_type": "execute_result"
    }
   ],
   "source": [
    "queryString = \"\"\"\n",
    "\n",
    "SELECT DISTINCT ?pr ?ista\n",
    "WHERE { \n",
    "?a wdt:P31/wdt:P279+ wd:Q11924610;\n",
    "    ?pr ?o.\n",
    "?pr sc:name ?ista .\n",
    "\n",
    "}\n",
    "\n",
    "\"\"\"\n",
    "\n",
    "print(\"Results\")\n",
    "run_query(queryString)"
   ]
  },
  {
   "cell_type": "markdown",
   "id": "a1150e10-e6b0-46d4-9000-614e74b73456",
   "metadata": {},
   "source": [
    "Found `P710`: participant. Maybe this is a driver participated in a Grand Prix"
   ]
  },
  {
   "cell_type": "code",
   "execution_count": 47,
   "id": "51b7dc48-f924-4369-bbc8-482d4c19cf78",
   "metadata": {},
   "outputs": [
    {
     "name": "stdout",
     "output_type": "stream",
     "text": [
      "Results\n",
      "[('driver', 'George Russell'), ('count', '7')]\n",
      "[('driver', 'Charles Leclerc'), ('count', '7')]\n",
      "[('driver', 'Sebastian Vettel'), ('count', '7')]\n",
      "[('driver', 'Valtteri Bottas'), ('count', '7')]\n",
      "[('driver', 'Lewis Hamilton'), ('count', '7')]\n",
      "[('driver', 'Lando Norris'), ('count', '7')]\n",
      "[('driver', 'Antonio Giovinazzi'), ('count', '7')]\n",
      "[('driver', 'Max Verstappen'), ('count', '7')]\n",
      "[('driver', 'Pierre Gasly'), ('count', '7')]\n",
      "[('driver', 'Carlos Sainz Jr'), ('count', '7')]\n",
      "[('driver', 'Lance Stroll'), ('count', '7')]\n",
      "[('driver', 'Kimi Räikkönen'), ('count', '7')]\n",
      "[('driver', 'Fernando Alonso'), ('count', '5')]\n",
      "[('driver', 'Alexander Albon'), ('count', '2')]\n",
      "[('driver', 'Romain Grosjean'), ('count', '1')]\n",
      "[('driver', 'Alberto Ascari'), ('count', '1')]\n"
     ]
    },
    {
     "data": {
      "text/plain": [
       "16"
      ]
     },
     "execution_count": 47,
     "metadata": {},
     "output_type": "execute_result"
    }
   ],
   "source": [
    "queryString = \"\"\"\n",
    "\n",
    "SELECT DISTINCT ?o ?driver count(*) as ?count\n",
    "WHERE { \n",
    "?a wdt:P31/wdt:P279+ wd:Q11924610;\n",
    "    wdt:P710 ?d.\n",
    "?d wdt:P106 wd:Q10841764.\n",
    "?d sc:name ?driver .\n",
    "\n",
    "}\n",
    "GROUP BY ?o ?driver\n",
    "ORDER BY DESC (?count)\n",
    "LIMIT 100\n",
    "\"\"\"\n",
    "\n",
    "print(\"Results\")\n",
    "run_query(queryString)"
   ]
  },
  {
   "cell_type": "markdown",
   "id": "81966e1d-937c-4eb4-a103-a88eb12f9b24",
   "metadata": {},
   "source": [
    "Frustrating this graph. Very few data available."
   ]
  },
  {
   "cell_type": "code",
   "execution_count": 48,
   "id": "4b3864fd-39f5-4ecb-8bf5-a332ea1d1744",
   "metadata": {},
   "outputs": [
    {
     "name": "stdout",
     "output_type": "stream",
     "text": [
      "Results\n",
      "[('count', '8')]\n"
     ]
    },
    {
     "data": {
      "text/plain": [
       "1"
      ]
     },
     "execution_count": 48,
     "metadata": {},
     "output_type": "execute_result"
    }
   ],
   "source": [
    "queryString = \"\"\"\n",
    "\n",
    "SELECT DISTINCT count(DISTINCT ?a) as ?count\n",
    "WHERE { \n",
    "?a wdt:P31/wdt:P279+ wd:Q11924610.\n",
    "FILTER EXISTS{?a wdt:P710 ?d.}\n",
    "\n",
    "}\n",
    "\"\"\"\n",
    "\n",
    "print(\"Results\")\n",
    "run_query(queryString)"
   ]
  },
  {
   "cell_type": "code",
   "execution_count": 49,
   "id": "b7e85805-39f0-4a18-acf8-a183f64e2dbb",
   "metadata": {},
   "outputs": [
    {
     "name": "stdout",
     "output_type": "stream",
     "text": [
      "Results\n",
      "[('count', '1321')]\n"
     ]
    },
    {
     "data": {
      "text/plain": [
       "1"
      ]
     },
     "execution_count": 49,
     "metadata": {},
     "output_type": "execute_result"
    }
   ],
   "source": [
    "queryString = \"\"\"\n",
    "\n",
    "SELECT DISTINCT count(*) as ?count\n",
    "WHERE { \n",
    "?a wdt:P31/wdt:P279+ wd:Q11924610.\n",
    "FILTER NOT EXISTS{?a   wdt:P710 ?d.}\n",
    "\n",
    "}\n",
    "\"\"\"\n",
    "\n",
    "print(\"Results\")\n",
    "run_query(queryString)"
   ]
  },
  {
   "cell_type": "markdown",
   "id": "ca959691-5797-468e-8774-42d675ec27b5",
   "metadata": {},
   "source": [
    "In fact the participant available in the grand prix is only 8 over 1329 grand prix in the history..\n",
    "\n",
    "Look on the other direction"
   ]
  },
  {
   "cell_type": "code",
   "execution_count": 50,
   "id": "9a4e5efe-696c-400d-ab79-f86127fb8ff3",
   "metadata": {},
   "outputs": [
    {
     "name": "stdout",
     "output_type": "stream",
     "text": [
      "Results\n",
      "[('driver', 'Romain Grosjean'), ('count', '20')]\n",
      "[('driver', 'Fernando Alonso'), ('count', '6')]\n",
      "[('driver', 'Niki Lauda'), ('count', '2')]\n",
      "[('driver', 'Lee Wallard'), ('count', '2')]\n"
     ]
    },
    {
     "data": {
      "text/plain": [
       "4"
      ]
     },
     "execution_count": 50,
     "metadata": {},
     "output_type": "execute_result"
    }
   ],
   "source": [
    "queryString = \"\"\"\n",
    "\n",
    "SELECT DISTINCT ?driver count(?gp) AS ?count\n",
    "WHERE { \n",
    "?a wdt:P31/wdt:P279+ wd:Q11924610. \n",
    "\n",
    "?d wdt:P106 wd:Q10841764;\n",
    "    wdt:P1344 ?a.\n",
    "?a sc:name ?gp .\n",
    "?d sc:name ?driver .\n",
    "\n",
    "}\n",
    "GROUP BY ?d ?driver\n",
    "ORDER BY DESC (?count)\n",
    "\n",
    "\n",
    "\"\"\"\n",
    "\n",
    "print(\"Results\")\n",
    "run_query(queryString)"
   ]
  },
  {
   "cell_type": "markdown",
   "id": "bccff394-6916-44fb-8ddd-4c8e657c12f1",
   "metadata": {},
   "source": [
    "Looking for the team"
   ]
  },
  {
   "cell_type": "code",
   "execution_count": 51,
   "id": "4428974d-ab99-4b6c-96fd-4f7e21a889ee",
   "metadata": {},
   "outputs": [
    {
     "name": "stdout",
     "output_type": "stream",
     "text": [
      "Results\n",
      "Empty\n"
     ]
    },
    {
     "data": {
      "text/plain": [
       "0"
      ]
     },
     "execution_count": 51,
     "metadata": {},
     "output_type": "execute_result"
    }
   ],
   "source": [
    "queryString = \"\"\"\n",
    "\n",
    "SELECT DISTINCT ?t ?team count(?a) as ?count\n",
    "WHERE { \n",
    "?a wdt:P31/wdt:P279+ wd:Q11924610;\n",
    "    wdt:P710 ?t.\n",
    "\n",
    "?t wdt:P31 wd:Q10497835.\n",
    "?t sc:name ?team .\n",
    "\n",
    "}\n",
    "GROUP BY ?t ?team\n",
    "ORDER BY DESC (?count)\n",
    "LIMIT 100\n",
    "\"\"\"\n",
    "\n",
    "print(\"Results\")\n",
    "run_query(queryString)"
   ]
  },
  {
   "cell_type": "code",
   "execution_count": 52,
   "id": "595fafec-3ec3-4b1a-aa09-5e52ef5e92e7",
   "metadata": {},
   "outputs": [
    {
     "name": "stdout",
     "output_type": "stream",
     "text": [
      "Results\n",
      "Empty\n"
     ]
    },
    {
     "data": {
      "text/plain": [
       "0"
      ]
     },
     "execution_count": 52,
     "metadata": {},
     "output_type": "execute_result"
    }
   ],
   "source": [
    "queryString = \"\"\"\n",
    "\n",
    "SELECT DISTINCT ?team count(?gp) AS ?count\n",
    "WHERE { \n",
    "?a wdt:P31/wdt:P279+ wd:Q11924610. \n",
    "\n",
    "?t wdt:P31 wd:Q10497835;\n",
    "    wdt:P1344 ?a.\n",
    "?a sc:name ?gp .\n",
    "?t sc:name ?team .\n",
    "\n",
    "}\n",
    "GROUP BY ?t ?team\n",
    "ORDER BY DESC (?count)\n",
    "\n",
    "\n",
    "\"\"\"\n",
    "\n",
    "print(\"Results\")\n",
    "run_query(queryString)"
   ]
  },
  {
   "cell_type": "markdown",
   "id": "57fc396f-f266-4a4a-819c-c1c9636df210",
   "metadata": {},
   "source": [
    "Looking for team property associated to a grand prix"
   ]
  },
  {
   "cell_type": "code",
   "execution_count": 53,
   "id": "114db140-b2c0-43e7-b9d5-8c4e5b7da2e3",
   "metadata": {},
   "outputs": [
    {
     "name": "stdout",
     "output_type": "stream",
     "text": [
      "Results\n",
      "[('pr', 'http://www.wikidata.org/prop/direct/P1346'), ('prop', 'winner')]\n"
     ]
    },
    {
     "data": {
      "text/plain": [
       "1"
      ]
     },
     "execution_count": 53,
     "metadata": {},
     "output_type": "execute_result"
    }
   ],
   "source": [
    "queryString = \"\"\"\n",
    "\n",
    "SELECT DISTINCT ?pr ?prop\n",
    "WHERE { \n",
    "?a wdt:P31/wdt:P279+ wd:Q11924610. \n",
    "\n",
    "?t wdt:P31 wd:Q10497835.\n",
    "?a   ?pr ?t.\n",
    "?pr sc:name ?prop .\n",
    "\n",
    "}\n",
    "LIMIT 100\n",
    "\n",
    "\n",
    "\"\"\"\n",
    "\n",
    "print(\"Results\")\n",
    "run_query(queryString)"
   ]
  },
  {
   "cell_type": "markdown",
   "id": "5d825b86-7d08-4ac5-b7f4-aede21c0a549",
   "metadata": {},
   "source": [
    "I have only the information about the winner, so no info about participations."
   ]
  }
 ],
 "metadata": {
  "kernelspec": {
   "display_name": "Python 3",
   "language": "python",
   "name": "python3"
  },
  "language_info": {
   "codemirror_mode": {
    "name": "ipython",
    "version": 3
   },
   "file_extension": ".py",
   "mimetype": "text/x-python",
   "name": "python",
   "nbconvert_exporter": "python",
   "pygments_lexer": "ipython3",
   "version": "3.7.10"
  }
 },
 "nbformat": 4,
 "nbformat_minor": 5
}
