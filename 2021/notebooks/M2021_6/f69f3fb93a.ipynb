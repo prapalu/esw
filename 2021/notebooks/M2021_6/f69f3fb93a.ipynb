{
 "cells": [
  {
   "cell_type": "markdown",
   "id": "7034c3bf-6eb0-4418-8687-7b9d2a501103",
   "metadata": {},
   "source": [
    "# General instructions\n",
    "\n",
    "The goal of the project is to materialize a set of **exploratory workloads** over a real-world, large-scale,  open-domain KG: [WikiData](https://www.wikidata.org/wiki/Wikidata:Main_Page)\n",
    "\n",
    "An exploratory workload  is composed by a set of queries, where each query is related to the information obtained previously.\n",
    "\n",
    "An exploratory workload starts with a usually vague, open ended question, and does not assume the person issuing the workload has a clear understanding of the data contained in the target database or its structure.\n",
    "\n",
    "Remeber that:\n",
    "\n",
    "1. All the queries must run in the python notebook\n",
    "2. You can use classes and properties only if you find them via a SPARQL query that must be present in the notebook\n",
    "3. You do not delete useless queries. Keep everything that is synthatically valid \n",
    "\n",
    "```\n",
    "?p <http://schema.org/name> ?name .\n",
    "```\n",
    "    \n",
    "is the BGP returning a human-readable name of a property or a class in Wikidata.\n",
    "    \n",
    "    "
   ]
  },
  {
   "cell_type": "code",
   "execution_count": 2,
   "id": "3605c9d5-5371-49a5-be8d-d66e8f417139",
   "metadata": {},
   "outputs": [],
   "source": [
    "## SETUP used later\n",
    "\n",
    "from SPARQLWrapper import SPARQLWrapper, JSON\n",
    "\n",
    "\n",
    "prefixString = \"\"\"\n",
    "##-NOTEBOOK_CODE_HERE-##\n",
    "PREFIX wd: <http://www.wikidata.org/entity/> \n",
    "PREFIX wdt: <http://www.wikidata.org/prop/direct/> \n",
    "PREFIX sc: <http://schema.org/>\n",
    "\"\"\"\n",
    "\n",
    "# select and construct queries\n",
    "def run_query(queryString):\n",
    "    to_run = prefixString + \"\\n\" + queryString\n",
    "\n",
    "    sparql = SPARQLWrapper(\"http://a256-gc1-02.srv.aau.dk:5820/sparql\")\n",
    "    sparql.setTimeout(300)\n",
    "    sparql.setReturnFormat(JSON)\n",
    "    sparql.setQuery(to_run)\n",
    "\n",
    "    try :\n",
    "       results = sparql.query()\n",
    "       json_results = results.convert()\n",
    "       if len(json_results['results']['bindings'])==0:\n",
    "          print(\"Empty\")\n",
    "          return 0\n",
    "    \n",
    "       for bindings in json_results['results']['bindings']:\n",
    "          print( [ (var, value['value'])  for var, value in bindings.items() ] )\n",
    "\n",
    "       return len(json_results['results']['bindings'])\n",
    "\n",
    "    except Exception as e :\n",
    "        print(\"The operation failed\", e)\n",
    "    \n",
    "# ASk queries\n",
    "def run_ask_query(queryString):\n",
    "    to_run = prefixString + \"\\n\" + queryString\n",
    "\n",
    "    sparql = SPARQLWrapper(\"http://a256-gc1-02.srv.aau.dk:5820/sparql\")\n",
    "    sparql.setTimeout(300)\n",
    "    sparql.setReturnFormat(JSON)\n",
    "    sparql.setQuery(to_run)\n",
    "\n",
    "    try :\n",
    "        return sparql.query().convert()\n",
    "\n",
    "    except Exception as e :\n",
    "        print(\"The operation failed\", e)\n"
   ]
  },
  {
   "cell_type": "markdown",
   "id": "d477a59c-a68c-4c8f-9f97-8ca5294d7d27",
   "metadata": {},
   "source": [
    "# GEO Workflow Series (\"archaeological sites\") \n",
    "\n",
    "Consider the following exploratory information need:\n",
    "\n",
    "> Search for archaeological site in the world, across countries, continents, and in reference to their culture"
   ]
  },
  {
   "cell_type": "markdown",
   "id": "4a45c0ba-f79e-441d-bec5-84401b09db70",
   "metadata": {},
   "source": [
    "## Useful URIs for the current workflow\n",
    "\n",
    "\n",
    "The following are given:\n",
    "\n",
    "| IRI           | Description   | Role      |\n",
    "| -----------   | -----------   |-----------|\n",
    "| `wdt:P1647`   | subproperty   | predicate |\n",
    "| `wdt:P31`     | instance of   | predicate |\n",
    "| `wdt:P279`    | subclass      | predicate |\n",
    "| `wdt:P17`     | country       | predicate |\n",
    "| `wd:Q38`      | Italy  | node      |\n",
    "| `wd:Q641556`  | Verona Arena  | node      |\n",
    "| `wd:Q1747689` | Ancient Rome  | node |\n",
    "| `wd:Q46`      | Europe        | node |\n",
    "| `wd:Q173527`  | Knossos       | node |\n",
    "| `wd:Q839954`  | archaeological site | node |\n",
    "\n",
    "\n",
    "Also consider\n",
    "\n",
    "```\n",
    "?p wdt:P17 wd:Q38  . \n",
    "?p wdt:P31 wd:Q839954  . \n",
    "```\n",
    "\n",
    "is the BGP to retrieve all **archaeological sites in italy**"
   ]
  },
  {
   "cell_type": "markdown",
   "id": "7af439fb-96e4-4dbb-a381-f19afab79f86",
   "metadata": {
    "tags": []
   },
   "source": [
    "## Workload Goals\n",
    "\n",
    "1. Identify the BGP that connect an archaeological site to the country, the continent, and the culture \n",
    "\n",
    "2. Identify the BGP to retrieve other types of an archaeological site, e.g., human settlement or theatre\n",
    "\n",
    "3. Is there any relevant numerical attribute that describes these sites, e.g., number visitors?\n",
    "\n",
    "4. Analyze the number of archaeological sites per type and country\n",
    " \n",
    "   4.1 Which country has more archaeological sites? Which country has the most  human settlements?\n",
    "   \n",
    "   4.2 Which countries have Ancient Rome sites, which other \"archaeological cultures\" are described?\n",
    "   \n",
    "   4.3 Which country has the most diverse set of civilizations or cultures across its sites?\n",
    "   \n",
    "   4.4 If you are interested in visiting some sites, which country would you pick? Based on what criteria?\n"
   ]
  },
  {
   "cell_type": "code",
   "execution_count": 8,
   "id": "24a853ab-830c-422c-afd3-e9e015b8b8ed",
   "metadata": {},
   "outputs": [],
   "source": [
    "# start your workflow here"
   ]
  },
  {
   "cell_type": "code",
   "execution_count": 18,
   "id": "ade01416-92e7-4ad7-b9a9-b8fb330750dc",
   "metadata": {},
   "outputs": [
    {
     "name": "stdout",
     "output_type": "stream",
     "text": [
      "Results\n",
      "[('p', 'http://www.wikidata.org/entity/Q810069'), ('name', 'Basilica Sempronia')]\n",
      "[('p', 'http://www.wikidata.org/entity/Q3874144'), ('name', 'Necropolis of Catania')]\n",
      "[('p', 'http://www.wikidata.org/entity/Q17992699'), ('name', \"Sant'Ansano, Spoleto\")]\n",
      "[('p', 'http://www.wikidata.org/entity/Q16537540'), ('name', 'House of the Relief of Telephus')]\n",
      "[('p', 'http://www.wikidata.org/entity/Q104787278'), ('name', 'Tomb of Aulus Hirtius')]\n",
      "[('p', 'http://www.wikidata.org/entity/Q1453042'), ('name', 'Nuragic complex of Sa Sedda e Sos Carros')]\n",
      "[('p', 'http://www.wikidata.org/entity/Q3616683'), ('name', 'Roman Amphitheatre of Benevento')]\n",
      "[('p', 'http://www.wikidata.org/entity/Q85429625'), ('name', 'Accu Sa Pira Nuraghe')]\n",
      "[('p', 'http://www.wikidata.org/entity/Q3801615'), ('name', 'Hypogeum of via Livenza')]\n",
      "[('p', 'http://www.wikidata.org/entity/Q3874153'), ('name', 'Necropolis of Pedras Serradas')]\n",
      "[('p', 'http://www.wikidata.org/entity/Q3879885'), ('name', 'nuraghe  Lugherras')]\n",
      "[('p', 'http://www.wikidata.org/entity/Q20963301'), ('name', 'Riparo Dalmeri')]\n",
      "[('p', 'http://www.wikidata.org/entity/Q47491959'), ('name', 'Nuraghe Aidu')]\n",
      "[('p', 'http://www.wikidata.org/entity/Q101529172'), ('name', 'Tomb of the Shields and Chairs, Caere')]\n",
      "[('p', 'http://www.wikidata.org/entity/Q17651475'), ('name', 'Porta Venere')]\n",
      "[('p', 'http://www.wikidata.org/entity/Q672752'), ('name', 'Saepta Julia')]\n",
      "[('p', 'http://www.wikidata.org/entity/Q3363950'), ('name', 'Baratti and Populonia Archeological Park')]\n",
      "[('p', 'http://www.wikidata.org/entity/Q616271'), ('name', 'Basilica Julia')]\n",
      "[('p', 'http://www.wikidata.org/entity/Q3877101'), ('name', 'Nymphaeum of Alexander Severus')]\n",
      "[('p', 'http://www.wikidata.org/entity/Q4420718'), ('name', 'ancient Syracuse')]\n",
      "[('p', 'http://www.wikidata.org/entity/Q2113742'), ('name', 'Nuraghe Orgono')]\n",
      "[('p', 'http://www.wikidata.org/entity/Q1714672'), ('name', 'Lacus Juturnae')]\n",
      "[('p', 'http://www.wikidata.org/entity/Q3531046'), ('name', 'Tomba della Scimmia')]\n",
      "[('p', 'http://www.wikidata.org/entity/Q65029706'), ('name', 'San Vincenzo al Volturno Old Abbey')]\n",
      "[('p', 'http://www.wikidata.org/entity/Q641556'), ('name', 'Verona Arena')]\n",
      "[('p', 'http://www.wikidata.org/entity/Q3663177'), ('name', 'Catacombe of San Lorenzo')]\n",
      "[('p', 'http://www.wikidata.org/entity/Q3663189'), ('name', 'Catacomb of Saint Thecla')]\n",
      "[('p', 'http://www.wikidata.org/entity/Q3667401'), ('name', 'Chiafura')]\n",
      "[('p', 'http://www.wikidata.org/entity/Q18785503'), ('name', 'Necropolis of Sas Arzolas de Goi')]\n",
      "[('p', 'http://www.wikidata.org/entity/Q959458'), ('name', 'Su Romanzesu')]\n"
     ]
    },
    {
     "data": {
      "text/plain": [
       "30"
      ]
     },
     "execution_count": 18,
     "metadata": {},
     "output_type": "execute_result"
    }
   ],
   "source": [
    "queryString = \"\"\"\n",
    "SELECT ?p ?name\n",
    "WHERE { \n",
    "?p wdt:P17 wd:Q38  . \n",
    "?p wdt:P31 wd:Q839954  . \n",
    "\n",
    "?p <http://schema.org/name> ?name .\n",
    "\n",
    "} \n",
    "GROUP BY ?cult  ?arch\n",
    "LIMIT 30\n",
    "\"\"\"\n",
    "\n",
    "print(\"Results\")\n",
    "run_query(queryString)"
   ]
  },
  {
   "cell_type": "markdown",
   "id": "095c43f0-07f4-410b-bdfb-1cdee174149b",
   "metadata": {},
   "source": [
    "# Workload 1"
   ]
  },
  {
   "cell_type": "code",
   "execution_count": null,
   "id": "e50a90c5-2d46-487f-8ab3-92460af1891c",
   "metadata": {},
   "outputs": [],
   "source": [
    "# 1. Identify the BGP that connect an archaeological site to the country, the continent, and the culture"
   ]
  },
  {
   "cell_type": "code",
   "execution_count": null,
   "id": "7ccfc5c5-8c61-423a-9aa2-cf6b82f8c107",
   "metadata": {},
   "outputs": [],
   "source": [
    "# I start exploring an archaeological site given in the tab --> wd:Q641556 -> Arena Verona"
   ]
  },
  {
   "cell_type": "code",
   "execution_count": 15,
   "id": "7efacb88-e4ba-4aff-bfd9-85414c14a3b9",
   "metadata": {},
   "outputs": [
    {
     "name": "stdout",
     "output_type": "stream",
     "text": [
      "Results\n",
      "[('p', 'http://www.wikidata.org/prop/direct/P1889'), ('pname', 'different from')]\n",
      "[('p', 'http://www.wikidata.org/prop/direct/P2283'), ('pname', 'uses')]\n",
      "[('p', 'http://www.wikidata.org/prop/direct/P276'), ('pname', 'location')]\n",
      "[('p', 'http://www.wikidata.org/prop/direct/P301'), ('pname', \"category's main topic\")]\n",
      "[('p', 'http://www.wikidata.org/prop/direct/P69'), ('pname', 'educated at')]\n",
      "[('p', 'http://www.wikidata.org/prop/direct/P915'), ('pname', 'filming location')]\n",
      "[('p', 'http://www.wikidata.org/prop/direct/P971'), ('pname', 'category combines topics')]\n",
      "[('p', 'http://www.wikidata.org/prop/direct/P483'), ('pname', 'recorded at studio or venue')]\n",
      "[('p', 'http://www.wikidata.org/prop/direct/P1855'), ('pname', 'Wikidata property example')]\n"
     ]
    },
    {
     "data": {
      "text/plain": [
       "9"
      ]
     },
     "execution_count": 15,
     "metadata": {},
     "output_type": "execute_result"
    }
   ],
   "source": [
    "queryString = \"\"\"\n",
    "SELECT DISTINCT ?p ?pname\n",
    "WHERE { \n",
    "\n",
    "?s ?p wd:Q641556 .\n",
    "?p <http://schema.org/name> ?pname .\n",
    "} \n",
    "\n",
    "\"\"\"\n",
    "\n",
    "print(\"Results\")\n",
    "run_query(queryString)"
   ]
  },
  {
   "cell_type": "code",
   "execution_count": 16,
   "id": "e7760637-5c5c-40bf-807f-1dbd080b9bb1",
   "metadata": {},
   "outputs": [
    {
     "name": "stdout",
     "output_type": "stream",
     "text": [
      "Results\n",
      "[('p', 'http://www.wikidata.org/prop/direct/P5633'), ('pname', 'Amphi-Theatrum ID')]\n",
      "[('p', 'http://www.wikidata.org/prop/direct/P1004'), ('pname', 'MusicBrainz place ID')]\n",
      "[('p', 'http://www.wikidata.org/prop/direct/P1017'), ('pname', 'Vatican Library ID (former scheme)')]\n",
      "[('p', 'http://www.wikidata.org/prop/direct/P131'), ('pname', 'located in the administrative territorial entity')]\n",
      "[('p', 'http://www.wikidata.org/prop/direct/P1481'), ('pname', 'vici.org ID')]\n",
      "[('p', 'http://www.wikidata.org/prop/direct/P149'), ('pname', 'architectural style')]\n",
      "[('p', 'http://www.wikidata.org/prop/direct/P1566'), ('pname', 'GeoNames ID')]\n",
      "[('p', 'http://www.wikidata.org/prop/direct/P17'), ('pname', 'country')]\n",
      "[('p', 'http://www.wikidata.org/prop/direct/P18'), ('pname', 'image')]\n",
      "[('p', 'http://www.wikidata.org/prop/direct/P186'), ('pname', 'made from material')]\n",
      "[('p', 'http://www.wikidata.org/prop/direct/P1889'), ('pname', 'different from')]\n",
      "[('p', 'http://www.wikidata.org/prop/direct/P1936'), ('pname', 'Digital Atlas of the Roman Empire ID')]\n",
      "[('p', 'http://www.wikidata.org/prop/direct/P213'), ('pname', 'ISNI')]\n",
      "[('p', 'http://www.wikidata.org/prop/direct/P214'), ('pname', 'VIAF ID')]\n",
      "[('p', 'http://www.wikidata.org/prop/direct/P2186'), ('pname', 'Wiki Loves Monuments ID')]\n",
      "[('p', 'http://www.wikidata.org/prop/direct/P227'), ('pname', 'GND ID')]\n",
      "[('p', 'http://www.wikidata.org/prop/direct/P2468'), ('pname', 'Theatricalia theatre ID')]\n",
      "[('p', 'http://www.wikidata.org/prop/direct/P2596'), ('pname', 'culture')]\n",
      "[('p', 'http://www.wikidata.org/prop/direct/P268'), ('pname', 'Bibliothèque nationale de France ID')]\n",
      "[('p', 'http://www.wikidata.org/prop/direct/P269'), ('pname', 'IdRef ID')]\n",
      "[('p', 'http://www.wikidata.org/prop/direct/P276'), ('pname', 'location')]\n",
      "[('p', 'http://www.wikidata.org/prop/direct/P2924'), ('pname', 'Great Russian Encyclopedia Online ID')]\n",
      "[('p', 'http://www.wikidata.org/prop/direct/P31'), ('pname', 'instance of')]\n",
      "[('p', 'http://www.wikidata.org/prop/direct/P373'), ('pname', 'Commons category')]\n",
      "[('p', 'http://www.wikidata.org/prop/direct/P402'), ('pname', 'OpenStreetMap relation ID')]\n",
      "[('p', 'http://www.wikidata.org/prop/direct/P4291'), ('pname', 'panoramic view')]\n",
      "[('p', 'http://www.wikidata.org/prop/direct/P5383'), ('pname', 'archINFORM project ID')]\n",
      "[('p', 'http://www.wikidata.org/prop/direct/P5652'), ('pname', 'Carthalia ID')]\n",
      "[('p', 'http://www.wikidata.org/prop/direct/P5775'), ('pname', 'image of interior')]\n",
      "[('p', 'http://www.wikidata.org/prop/direct/P646'), ('pname', 'Freebase ID')]\n",
      "[('p', 'http://www.wikidata.org/prop/direct/P691'), ('pname', 'NKCR AUT ID')]\n",
      "[('p', 'http://www.wikidata.org/prop/direct/P7859'), ('pname', 'WorldCat Identities ID')]\n",
      "[('p', 'http://www.wikidata.org/prop/direct/P8034'), ('pname', 'Vatican Library VcBA ID')]\n",
      "[('p', 'http://www.wikidata.org/prop/direct/P856'), ('pname', 'official website')]\n",
      "[('p', 'http://www.wikidata.org/prop/direct/P8933'), ('pname', 'category for the view from the item')]\n",
      "[('p', 'http://www.wikidata.org/prop/direct/P910'), ('pname', \"topic's main category\")]\n",
      "[('p', 'http://www.wikidata.org/prop/direct/P935'), ('pname', 'Commons gallery')]\n",
      "[('p', 'http://www.wikidata.org/prop/direct/P949'), ('pname', 'National Library of Israel ID')]\n",
      "[('p', 'http://www.wikidata.org/prop/direct/P8564'), ('pname', 'Art Bonus ID')]\n"
     ]
    },
    {
     "data": {
      "text/plain": [
       "39"
      ]
     },
     "execution_count": 16,
     "metadata": {},
     "output_type": "execute_result"
    }
   ],
   "source": [
    "queryString = \"\"\"\n",
    "SELECT DISTINCT ?p ?pname\n",
    "WHERE { \n",
    "\n",
    "wd:Q641556 ?p  ?o.\n",
    "?p <http://schema.org/name> ?pname .\n",
    "} \n",
    "\n",
    "\"\"\"\n",
    "\n",
    "print(\"Results\")\n",
    "run_query(queryString)"
   ]
  },
  {
   "cell_type": "code",
   "execution_count": null,
   "id": "ead131ad-ca97-47ee-a2cb-b24608acf2a6",
   "metadata": {},
   "outputs": [],
   "source": [
    "# Here I Get:\n",
    "# 'culture' --> wdt:P2596\n",
    "# 'country' --> wdt:P17"
   ]
  },
  {
   "cell_type": "code",
   "execution_count": null,
   "id": "3bcc10ec-4c26-44fd-bba0-42f098aa190f",
   "metadata": {},
   "outputs": [],
   "source": [
    "# Now i get --> wd:Q46\tEurope to find continent IRI. "
   ]
  },
  {
   "cell_type": "code",
   "execution_count": 20,
   "id": "d90033da-2452-41b3-b213-503bca1901bf",
   "metadata": {},
   "outputs": [
    {
     "name": "stdout",
     "output_type": "stream",
     "text": [
      "Results\n",
      "[('o', 'http://www.wikidata.org/entity/Q5107'), ('oname', 'continent')]\n",
      "[('o', 'http://www.wikidata.org/entity/Q2418896'), ('oname', 'part of the world')]\n"
     ]
    },
    {
     "data": {
      "text/plain": [
       "2"
      ]
     },
     "execution_count": 20,
     "metadata": {},
     "output_type": "execute_result"
    }
   ],
   "source": [
    "queryString = \"\"\"\n",
    "SELECT DISTINCT ?o ?oname\n",
    "WHERE { \n",
    "\n",
    "wd:Q46 wdt:P31  ?o.   # Europe --> instance of --> ?o\n",
    "?o <http://schema.org/name> ?oname .\n",
    "} \n",
    "\n",
    "\"\"\"\n",
    "\n",
    "print(\"Results\")\n",
    "run_query(queryString)"
   ]
  },
  {
   "cell_type": "code",
   "execution_count": 24,
   "id": "748ab0d6-c5a7-4b08-b9a8-74a8f110b3c9",
   "metadata": {},
   "outputs": [],
   "source": [
    "# GET:\n",
    "# 'continent' --> wd:Q5107"
   ]
  },
  {
   "cell_type": "code",
   "execution_count": null,
   "id": "b6fde954-7f5b-4fdd-9a36-f919f57f5c85",
   "metadata": {},
   "outputs": [],
   "source": [
    "# Explore all contient "
   ]
  },
  {
   "cell_type": "code",
   "execution_count": 22,
   "id": "8da74ee0-da84-44e9-9c2d-ece6d789af37",
   "metadata": {},
   "outputs": [
    {
     "name": "stdout",
     "output_type": "stream",
     "text": [
      "Results\n",
      "[('c', 'http://www.wikidata.org/entity/Q15'), ('cname', 'Africa')]\n",
      "[('c', 'http://www.wikidata.org/entity/Q18'), ('cname', 'South America')]\n",
      "[('c', 'http://www.wikidata.org/entity/Q46'), ('cname', 'Europe')]\n",
      "[('c', 'http://www.wikidata.org/entity/Q48'), ('cname', 'Asia')]\n",
      "[('c', 'http://www.wikidata.org/entity/Q49'), ('cname', 'North America')]\n",
      "[('c', 'http://www.wikidata.org/entity/Q51'), ('cname', 'Antarctica')]\n",
      "[('c', 'http://www.wikidata.org/entity/Q538'), ('cname', 'Insular Oceania')]\n",
      "[('c', 'http://www.wikidata.org/entity/Q828'), ('cname', 'Americas')]\n",
      "[('c', 'http://www.wikidata.org/entity/Q3960'), ('cname', 'Australia')]\n",
      "[('c', 'http://www.wikidata.org/entity/Q2872203'), ('cname', 'mainland Australia')]\n",
      "[('c', 'http://www.wikidata.org/entity/Q27527'), ('cname', 'Afro-Eurasia')]\n",
      "[('c', 'http://www.wikidata.org/entity/Q7856408'), ('cname', 'Turtle Island')]\n",
      "[('c', 'http://www.wikidata.org/entity/Q150408'), ('cname', 'Zealandia')]\n"
     ]
    },
    {
     "data": {
      "text/plain": [
       "13"
      ]
     },
     "execution_count": 22,
     "metadata": {},
     "output_type": "execute_result"
    }
   ],
   "source": [
    "queryString = \"\"\"\n",
    "SELECT DISTINCT ?c ?cname\n",
    "WHERE { \n",
    "\n",
    "?c wdt:P31 wd:Q5107 .   # ?c --> instance of --> continent\n",
    "?c <http://schema.org/name> ?cname .\n",
    "} \n",
    "\n",
    "\"\"\"\n",
    "\n",
    "print(\"Results\")\n",
    "run_query(queryString)"
   ]
  },
  {
   "cell_type": "code",
   "execution_count": null,
   "id": "0efb8f67-b49e-4d9d-8ab5-5acade9405c3",
   "metadata": {},
   "outputs": [],
   "source": [
    "# Now i use (wd:Q38\tItaly) to find the property that connect a country to a continent"
   ]
  },
  {
   "cell_type": "code",
   "execution_count": 26,
   "id": "9e0f7698-fb79-4dc2-8992-0908aa34ec93",
   "metadata": {},
   "outputs": [
    {
     "name": "stdout",
     "output_type": "stream",
     "text": [
      "Results\n",
      "[('p', 'http://www.wikidata.org/prop/direct/P30'), ('pname', 'continent')]\n",
      "[('p', 'http://www.wikidata.org/prop/direct/P361'), ('pname', 'part of')]\n"
     ]
    },
    {
     "data": {
      "text/plain": [
       "2"
      ]
     },
     "execution_count": 26,
     "metadata": {},
     "output_type": "execute_result"
    }
   ],
   "source": [
    "queryString = \"\"\"\n",
    "SELECT DISTINCT ?p ?pname\n",
    "WHERE { \n",
    "\n",
    "wd:Q38 ?p wd:Q46 .       # Italy --> ?p --> Europe\n",
    "?p <http://schema.org/name> ?pname .\n",
    "} \n",
    "\n",
    "\"\"\"\n",
    "\n",
    "print(\"Results\")\n",
    "run_query(queryString)"
   ]
  },
  {
   "cell_type": "code",
   "execution_count": null,
   "id": "346ee306-5260-4dd3-90ca-61dc65a5a421",
   "metadata": {},
   "outputs": [],
   "source": [
    "# GET property: wdt:P30 --> 'continent'"
   ]
  },
  {
   "cell_type": "code",
   "execution_count": null,
   "id": "005383ad-461e-4abd-b29e-8b0af9491ae2",
   "metadata": {},
   "outputs": [],
   "source": [
    "# Use all property found above to resolve the first question:\n",
    "# Identify the BGP that connect an archaeological site to the country, the continent, and the culture"
   ]
  },
  {
   "cell_type": "code",
   "execution_count": 30,
   "id": "86f81c56-8e9b-48c5-97db-b661cf4d985f",
   "metadata": {},
   "outputs": [
    {
     "name": "stdout",
     "output_type": "stream",
     "text": [
      "Results\n",
      "[('asname', 'Seleucia'), ('cuname', 'Greater Iran'), ('coname', 'Sasanian Empire'), ('cname', 'Africa')]\n",
      "[('asname', 'Taq-i Kisra'), ('cuname', 'Greater Iran'), ('coname', 'Sasanian Empire'), ('cname', 'Africa')]\n",
      "[('asname', 'Seleucia'), ('cuname', 'Hellenistic civilization'), ('coname', 'Sasanian Empire'), ('cname', 'Africa')]\n",
      "[('asname', 'Ghirza'), ('cuname', 'Ancient Rome'), ('coname', 'Libya'), ('cname', 'Africa')]\n",
      "[('asname', 'Chellah'), ('cuname', 'Ancient Rome'), ('coname', 'Morocco'), ('cname', 'Africa')]\n",
      "[('asname', 'Chellah'), ('cuname', 'Marinid Dynasty'), ('coname', 'Morocco'), ('cname', 'Africa')]\n",
      "[('asname', 'Chellah'), ('cuname', 'Berbers'), ('coname', 'Morocco'), ('cname', 'Africa')]\n",
      "[('asname', 'Volubilis'), ('cuname', 'Ancient Rome'), ('coname', 'Morocco'), ('cname', 'Africa')]\n",
      "[('asname', 'Volubilis'), ('cuname', 'Berbers'), ('coname', 'Morocco'), ('cname', 'Africa')]\n",
      "[('asname', 'Volubilis'), ('cuname', 'Punics'), ('coname', 'Morocco'), ('cname', 'Africa')]\n",
      "[('asname', 'Iulia Valentia Banasa'), ('cuname', 'Roman people'), ('coname', 'Morocco'), ('cname', 'Africa')]\n",
      "[('asname', 'Ancient Cotta'), ('cuname', 'Roman Empire'), ('coname', 'Morocco'), ('cname', 'Africa')]\n",
      "[('asname', 'Iulia Valentia Banasa'), ('cuname', 'Berbers'), ('coname', 'Morocco'), ('cname', 'Africa')]\n",
      "[('asname', 'Lixus'), ('cuname', 'Berbers'), ('coname', 'Morocco'), ('cname', 'Africa')]\n",
      "[('asname', 'Lixus'), ('cuname', 'Punics'), ('coname', 'Morocco'), ('cname', 'Africa')]\n",
      "[('asname', 'The White Lady'), ('cuname', 'San people'), ('coname', 'Namibia'), ('cname', 'Africa')]\n",
      "[('asname', 'Napata'), ('cuname', 'Ancient Egypt'), ('coname', 'Sudan'), ('cname', 'Africa')]\n",
      "[('asname', 'Faras'), ('cuname', 'Ancient Egypt'), ('coname', 'Sudan'), ('cname', 'Africa')]\n",
      "[('asname', 'Badi, Sudan'), ('cuname', 'Beja people'), ('coname', 'Sudan'), ('cname', 'Africa')]\n",
      "[('asname', 'Dabenarti'), ('cuname', 'Ancient Egypt'), ('coname', 'Sudan'), ('cname', 'Africa')]\n",
      "[('asname', 'Kurgus'), ('cuname', 'Ancient Egypt'), ('coname', 'Sudan'), ('cname', 'Africa')]\n",
      "[('asname', 'Herakleopolis Magna'), ('cuname', 'Ancient Egypt'), ('coname', 'Ancient Egypt'), ('cname', 'Africa')]\n",
      "[('asname', 'São Miguel das Missões'), ('cuname', 'Guaraní people'), ('coname', 'Brazil'), ('cname', 'South America')]\n",
      "[('asname', 'Sítio Arqueológico de São Nicolau'), ('cuname', 'Guaraní people'), ('coname', 'Brazil'), ('cname', 'South America')]\n",
      "[('asname', 'Ingrejil'), ('cuname', 'Inca civilization'), ('coname', 'Brazil'), ('cname', 'South America')]\n",
      "[('asname', 'Aquae Cutiliae'), ('cuname', 'Ancient Rome'), ('coname', 'Ancient Rome'), ('cname', 'Africa')]\n",
      "[('asname', 'Italica'), ('cuname', 'Ancient Rome'), ('coname', 'Ancient Rome'), ('cname', 'Africa')]\n",
      "[('asname', 'Cáparra'), ('cuname', 'Ancient Rome'), ('coname', 'Ancient Rome'), ('cname', 'Africa')]\n",
      "[('asname', 'Mediolanum'), ('cuname', 'Ancient Rome'), ('coname', 'Ancient Rome'), ('cname', 'Africa')]\n",
      "[('asname', 'Castra Divitia'), ('cuname', 'Ancient Rome'), ('coname', 'Ancient Rome'), ('cname', 'Africa')]\n"
     ]
    },
    {
     "data": {
      "text/plain": [
       "30"
      ]
     },
     "execution_count": 30,
     "metadata": {},
     "output_type": "execute_result"
    }
   ],
   "source": [
    "queryString = \"\"\"\n",
    "SELECT DISTINCT ?asname ?cuname ?coname ?cname\n",
    "WHERE { \n",
    "\n",
    "?as wdt:P31 wd:Q839954  ;\n",
    "    wdt:P2596 ?cu ;           # ?as --> archaeological site /// ?cu --> culture\n",
    "    wdt:P17 ?co  .\n",
    "?co wdt:P30 ?c .               # ?co --> country\n",
    "?c  wdt:P31 wd:Q5107 .         # ?c --> continent\n",
    "\n",
    "\n",
    "\n",
    "?as <http://schema.org/name> ?asname .\n",
    "?cu <http://schema.org/name> ?cuname .\n",
    "?co <http://schema.org/name> ?coname .\n",
    "?c <http://schema.org/name> ?cname .\n",
    "} \n",
    "\n",
    "LIMIT 30\n",
    "\"\"\"\n",
    "\n",
    "print(\"Results\")\n",
    "run_query(queryString)"
   ]
  },
  {
   "cell_type": "code",
   "execution_count": 34,
   "id": "fea6c996-0a38-4f4a-9081-05d09919e353",
   "metadata": {},
   "outputs": [],
   "source": [
    "# I notice that each archaeological site can have different cultures, so i group it"
   ]
  },
  {
   "cell_type": "code",
   "execution_count": 31,
   "id": "22aaf137-e797-4f70-b03d-1e25600b978e",
   "metadata": {},
   "outputs": [
    {
     "name": "stdout",
     "output_type": "stream",
     "text": [
      "Results\n",
      "[('asname', 'Kalabsha'), ('coname', 'Egypt'), ('cname', 'Africa'), ('cultures', 'Ancient Egypt')]\n",
      "[('asname', 'Antioch'), ('coname', 'Turkey'), ('cname', 'Asia'), ('cultures', 'Seleucids')]\n",
      "[('asname', 'Palenqué'), ('coname', 'Mexico'), ('cname', 'North America'), ('cultures', 'Maya civilization')]\n",
      "[('asname', 'Punic wall of Cartagena'), ('coname', 'Spain'), ('cname', 'Europe'), ('cultures', 'Ancient Carthage')]\n",
      "[('asname', 'Chalasmenos'), ('coname', 'Greece'), ('cname', 'Europe'), ('cultures', 'Minoan civilization')]\n",
      "[('asname', 'Necropolis of Populonia'), ('coname', 'Italy'), ('cname', 'Europe'), ('cultures', 'Etruscans')]\n",
      "[('asname', 'Monte Albán'), ('coname', 'Mexico'), ('cname', 'North America'), ('cultures', 'Zapotec civilization')]\n",
      "[('asname', 'Temple of Bellona'), ('coname', 'Italy'), ('cname', 'Europe'), ('cultures', 'Ancient Rome')]\n",
      "[('asname', 'nuraghe  Nieddu'), ('coname', 'Italy'), ('cname', 'Europe'), ('cultures', 'nuragic civilization')]\n",
      "[('asname', 'Qift'), ('coname', 'Egypt'), ('cname', 'Africa'), ('cultures', 'Ancient Egypt')]\n",
      "[('asname', 'Uruk'), ('coname', 'Iraq'), ('cname', 'Asia'), ('cultures', 'Sumer')]\n",
      "[('asname', 'Ecola Point Site'), ('coname', 'United States of America'), ('cname', 'Insular Oceania'), ('cultures', 'Tillamook')]\n",
      "[('asname', 'Meta Sudans'), ('coname', 'Italy'), ('cname', 'Europe'), ('cultures', 'Ancient Rome')]\n",
      "[('asname', 'Guadalupe Outlier'), ('coname', 'United States of America'), ('cname', 'Insular Oceania'), ('cultures', 'Ancient Pueblo Peoples')]\n",
      "[('asname', 'nuraghe  Elighe Onna'), ('coname', 'Italy'), ('cname', 'Europe'), ('cultures', 'nuragic civilization')]\n",
      "[('asname', 'San Andrés, El Salvador'), ('coname', 'El Salvador'), ('cname', 'North America'), ('cultures', 'Maya civilization')]\n",
      "[('asname', 'Seleucia'), ('coname', 'Sasanian Empire'), ('cname', 'Asia'), ('cultures', 'Greater Iran, Hellenistic civilization')]\n",
      "[('asname', 'Chellah'), ('coname', 'Morocco'), ('cname', 'Africa'), ('cultures', 'Ancient Rome, Marinid Dynasty, Berbers')]\n",
      "[('asname', 'Harzhorn'), ('coname', 'Germany'), ('cname', 'Europe'), ('cultures', 'Ancient Rome')]\n",
      "[('asname', 'Letoon'), ('coname', 'Turkey'), ('cname', 'Asia'), ('cultures', 'Ancient Greece')]\n"
     ]
    },
    {
     "data": {
      "text/plain": [
       "20"
      ]
     },
     "execution_count": 31,
     "metadata": {},
     "output_type": "execute_result"
    }
   ],
   "source": [
    "queryString = \"\"\"\n",
    "SELECT DISTINCT ?asname ?coname ?cname (GROUP_CONCAT(?cuname ; separator = \", \") AS ?cultures)\n",
    "WHERE { \n",
    "\n",
    "?as wdt:P31 wd:Q839954  ;\n",
    "    wdt:P2596 ?cu .           # ?as --> archaeological site /// ?cu --> culture\n",
    "?as    wdt:P17 ?co  .\n",
    "?co wdt:P30 ?c .               # ?co --> country\n",
    "?c  wdt:P31 wd:Q5107 .         # ?c --> continent\n",
    "\n",
    "\n",
    "\n",
    "?as <http://schema.org/name> ?asname .\n",
    "?cu <http://schema.org/name> ?cuname .\n",
    "?co <http://schema.org/name> ?coname .\n",
    "?c <http://schema.org/name> ?cname .\n",
    "} \n",
    "\n",
    "LIMIT 20\n",
    "\n",
    "\"\"\"\n",
    "\n",
    "print(\"Results\")\n",
    "run_query(queryString)"
   ]
  },
  {
   "cell_type": "code",
   "execution_count": null,
   "id": "4d541771-d745-4095-b0b9-8d7415c372c0",
   "metadata": {},
   "outputs": [],
   "source": [
    "#\n",
    "#"
   ]
  },
  {
   "cell_type": "markdown",
   "id": "91015ae0-d49f-4b77-ac85-e6ef37998954",
   "metadata": {},
   "source": [
    "# Workload 2"
   ]
  },
  {
   "cell_type": "code",
   "execution_count": null,
   "id": "acaeb508-4a0b-4f2d-8c6d-ad79d60c20b9",
   "metadata": {},
   "outputs": [],
   "source": [
    "# 2. Identify the BGP to retrieve other types of an archaeological site, e.g., human settlement or theatre"
   ]
  },
  {
   "cell_type": "code",
   "execution_count": 28,
   "id": "5b536402-f064-49ee-9d0c-fe41f88f7f7b",
   "metadata": {},
   "outputs": [
    {
     "name": "stdout",
     "output_type": "stream",
     "text": [
      "Results\n",
      "[('o', 'http://www.wikidata.org/entity/Q14601169'), ('oname', 'human fortified settlement')]\n",
      "[('o', 'http://www.wikidata.org/entity/Q325017'), ('oname', 'causewayed enclosure')]\n",
      "[('o', 'http://www.wikidata.org/entity/Q5069563'), ('oname', 'chambered long barrow')]\n",
      "[('o', 'http://www.wikidata.org/entity/Q30504603'), ('oname', 'Maya site in Mexico')]\n",
      "[('o', 'http://www.wikidata.org/entity/Q6581615'), ('oname', 'thermae')]\n",
      "[('o', 'http://www.wikidata.org/entity/Q95463156'), ('oname', 'Ancient Roman dam')]\n",
      "[('o', 'http://www.wikidata.org/entity/Q1128906'), ('oname', 'medina quarter')]\n",
      "[('o', 'http://www.wikidata.org/entity/Q19979289'), ('oname', 'birth house')]\n",
      "[('o', 'http://www.wikidata.org/entity/Q29702995'), ('oname', 'chalkotheke')]\n",
      "[('o', 'http://www.wikidata.org/entity/Q1193753'), ('oname', 'stone row')]\n",
      "[('o', 'http://www.wikidata.org/entity/Q2006795'), ('oname', 'abschnittsmotte')]\n",
      "[('o', 'http://www.wikidata.org/entity/Q28936794'), ('oname', 'provincial park in Saskatchewan')]\n",
      "[('o', 'http://www.wikidata.org/entity/Q37988355'), ('oname', 'Tennessee state park')]\n",
      "[('o', 'http://www.wikidata.org/entity/Q31028314'), ('oname', 'partial contour fort')]\n",
      "[('o', 'http://www.wikidata.org/entity/Q146924'), ('oname', 'Roman limes')]\n",
      "[('o', 'http://www.wikidata.org/entity/Q173387'), ('oname', 'grave')]\n",
      "[('o', 'http://www.wikidata.org/entity/Q1785071'), ('oname', 'fort')]\n",
      "[('o', 'http://www.wikidata.org/entity/Q2065736'), ('oname', 'cultural property')]\n",
      "[('o', 'http://www.wikidata.org/entity/Q2977'), ('oname', 'cathedral')]\n",
      "[('o', 'http://www.wikidata.org/entity/Q372363'), ('oname', 'geotope')]\n",
      "[('o', 'http://www.wikidata.org/entity/Q44613'), ('oname', 'monastery')]\n",
      "[('o', 'http://www.wikidata.org/entity/Q473972'), ('oname', 'protected area')]\n",
      "[('o', 'http://www.wikidata.org/entity/Q1497375'), ('oname', 'architectural ensemble')]\n",
      "[('o', 'http://www.wikidata.org/entity/Q22022298'), ('oname', 'rock relief')]\n",
      "[('o', 'http://www.wikidata.org/entity/Q152081'), ('oname', 'concentration camp')]\n",
      "[('o', 'http://www.wikidata.org/entity/Q15243209'), ('oname', 'historic district')]\n",
      "[('o', 'http://www.wikidata.org/entity/Q164240'), ('oname', 'megalith')]\n",
      "[('o', 'http://www.wikidata.org/entity/Q17376095'), ('oname', 'cadastral municipality of Austria')]\n",
      "[('o', 'http://www.wikidata.org/entity/Q2887138'), ('oname', 'civil basilica')]\n",
      "[('o', 'http://www.wikidata.org/entity/Q2989470'), ('oname', 'commune of Mauritania')]\n",
      "[('o', 'http://www.wikidata.org/entity/Q4363262'), ('oname', 'smooth-sided pyramid')]\n",
      "[('o', 'http://www.wikidata.org/entity/Q11269813'), ('oname', 'cave with prehistoric art')]\n",
      "[('o', 'http://www.wikidata.org/entity/Q14752696'), ('oname', 'ancient Roman structure')]\n",
      "[('o', 'http://www.wikidata.org/entity/Q15893266'), ('oname', 'former entity')]\n",
      "[('o', 'http://www.wikidata.org/entity/Q1930585'), ('oname', 'victory column')]\n",
      "[('o', 'http://www.wikidata.org/entity/Q2087181'), ('oname', 'historic house museum')]\n",
      "[('o', 'http://www.wikidata.org/entity/Q2232001'), ('oname', 'show cave')]\n",
      "[('o', 'http://www.wikidata.org/entity/Q2434238'), ('oname', 'heritage')]\n",
      "[('o', 'http://www.wikidata.org/entity/Q88205'), ('oname', 'castrum')]\n",
      "[('o', 'http://www.wikidata.org/entity/Q2197893'), ('oname', 'chine')]\n",
      "[('o', 'http://www.wikidata.org/entity/Q2561694'), ('oname', 'city-kingdom of Cyprus')]\n",
      "[('o', 'http://www.wikidata.org/entity/Q29553'), ('oname', 'sanctuary')]\n",
      "[('o', 'http://www.wikidata.org/entity/Q3395377'), ('oname', 'ancient monument')]\n",
      "[('o', 'http://www.wikidata.org/entity/Q628505'), ('oname', 'labor camp')]\n",
      "[('o', 'http://www.wikidata.org/entity/Q1051606'), ('oname', 'Daibutsu')]\n",
      "[('o', 'http://www.wikidata.org/entity/Q17485079'), ('oname', 'church ruin')]\n",
      "[('o', 'http://www.wikidata.org/entity/Q200141'), ('oname', 'necropolis')]\n",
      "[('o', 'http://www.wikidata.org/entity/Q30304302'), ('oname', 'National Park System unit')]\n",
      "[('o', 'http://www.wikidata.org/entity/Q32815'), ('oname', 'mosque')]\n",
      "[('o', 'http://www.wikidata.org/entity/Q782970'), ('oname', 'Domus')]\n"
     ]
    },
    {
     "data": {
      "text/plain": [
       "50"
      ]
     },
     "execution_count": 28,
     "metadata": {},
     "output_type": "execute_result"
    }
   ],
   "source": [
    "queryString = \"\"\"\n",
    "SELECT DISTINCT ?o ?oname\n",
    "WHERE { \n",
    "\n",
    "\n",
    "?as wdt:P31 wd:Q839954  ;          # I look for all the archaeological site linked to their instance of ..\n",
    "    wdt:P31 ?o .\n",
    "\n",
    "?as <http://schema.org/name> ?name .\n",
    "?o <http://schema.org/name> ?oname .\n",
    "\n",
    "\n",
    "} \n",
    "\n",
    "LIMIT 50\n",
    "\"\"\"\n",
    "\n",
    "print(\"Results\")\n",
    "run_query(queryString)"
   ]
  },
  {
   "cell_type": "code",
   "execution_count": null,
   "id": "0ed5a80c-444b-4d8a-9d38-d02d9f5d60f5",
   "metadata": {},
   "outputs": [],
   "source": [
    "# Here I find 48607 different type of sites"
   ]
  },
  {
   "cell_type": "code",
   "execution_count": 6,
   "id": "ebac998d-5f57-4f54-acbf-e6bed477b412",
   "metadata": {},
   "outputs": [
    {
     "name": "stdout",
     "output_type": "stream",
     "text": [
      "Results\n",
      "[('num_type', '48607')]\n"
     ]
    },
    {
     "data": {
      "text/plain": [
       "1"
      ]
     },
     "execution_count": 6,
     "metadata": {},
     "output_type": "execute_result"
    }
   ],
   "source": [
    "queryString = \"\"\"\n",
    "SELECT DISTINCT count(?o) as ?num_type\n",
    "WHERE { \n",
    "\n",
    "\n",
    "?as wdt:P31 wd:Q839954  ; \n",
    "    wdt:P31 ?o .\n",
    "\n",
    "?as <http://schema.org/name> ?name .\n",
    "?o <http://schema.org/name> ?oname .\n",
    "\n",
    "} \n",
    "\n",
    "LIMIT 30\n",
    "\"\"\"\n",
    "\n",
    "print(\"Results\")\n",
    "run_query(queryString)"
   ]
  },
  {
   "cell_type": "code",
   "execution_count": null,
   "id": "52015296-8232-4187-9121-da2df622520e",
   "metadata": {},
   "outputs": [],
   "source": [
    "#\n",
    "#"
   ]
  },
  {
   "cell_type": "markdown",
   "id": "ec4f20f9-4aa7-4ddc-874f-cd0d46100dcb",
   "metadata": {},
   "source": [
    "# Workload 3"
   ]
  },
  {
   "cell_type": "code",
   "execution_count": null,
   "id": "57e56bba-52f7-402c-855e-fcea27756a8e",
   "metadata": {},
   "outputs": [],
   "source": [
    "# 3. Is there any relevant numerical attribute that describes these sites, e.g., number visitors?"
   ]
  },
  {
   "cell_type": "code",
   "execution_count": 7,
   "id": "1b837f9d-6bc3-4a00-9981-0fa51358ed35",
   "metadata": {},
   "outputs": [],
   "source": [
    "# I look for one particular site, to see all his attributes"
   ]
  },
  {
   "cell_type": "code",
   "execution_count": 3,
   "id": "46f9369a-808b-4f22-b349-a8846c70961f",
   "metadata": {},
   "outputs": [
    {
     "name": "stdout",
     "output_type": "stream",
     "text": [
      "Results\n",
      "[('p', 'http://www.wikidata.org/prop/direct/P646'), ('pname', 'Freebase ID'), ('o', '/m/0343fy')]\n",
      "[('p', 'http://www.wikidata.org/prop/direct/P213'), ('pname', 'ISNI'), ('o', '0000 0001 2165 9603')]\n",
      "[('p', 'http://www.wikidata.org/prop/direct/P949'), ('pname', 'National Library of Israel ID'), ('o', '000595277')]\n",
      "[('p', 'http://www.wikidata.org/prop/direct/P269'), ('pname', 'IdRef ID'), ('o', '034525114')]\n",
      "[('p', 'http://www.wikidata.org/prop/direct/P1004'), ('pname', 'MusicBrainz place ID'), ('o', '05522e79-052a-4542-9be4-3b7715e3f2b2')]\n",
      "[('p', 'http://www.wikidata.org/prop/direct/P2186'), ('pname', 'Wiki Loves Monuments ID'), ('o', '05L7810006')]\n",
      "[('p', 'http://www.wikidata.org/prop/direct/P227'), ('pname', 'GND ID'), ('o', '1024966-7')]\n",
      "[('p', 'http://www.wikidata.org/prop/direct/P5383'), ('pname', 'archINFORM project ID'), ('o', '12401')]\n",
      "[('p', 'http://www.wikidata.org/prop/direct/P268'), ('pname', 'Bibliothèque nationale de France ID'), ('o', '12527265j')]\n",
      "[('p', 'http://www.wikidata.org/prop/direct/P5633'), ('pname', 'Amphi-Theatrum ID'), ('o', '1369')]\n",
      "[('p', 'http://www.wikidata.org/prop/direct/P214'), ('pname', 'VIAF ID'), ('o', '137144663')]\n",
      "[('p', 'http://www.wikidata.org/prop/direct/P214'), ('pname', 'VIAF ID'), ('o', '141965332')]\n",
      "[('p', 'http://www.wikidata.org/prop/direct/P2924'), ('pname', 'Great Russian Encyclopedia Online ID'), ('o', '1827810')]\n",
      "[('p', 'http://www.wikidata.org/prop/direct/P1936'), ('pname', 'Digital Atlas of the Roman Empire ID'), ('o', '23995')]\n",
      "[('p', 'http://www.wikidata.org/prop/direct/P5652'), ('pname', 'Carthalia ID'), ('o', '2486')]\n",
      "[('p', 'http://www.wikidata.org/prop/direct/P2468'), ('pname', 'Theatricalia theatre ID'), ('o', '2v7')]\n",
      "[('p', 'http://www.wikidata.org/prop/direct/P402'), ('pname', 'OpenStreetMap relation ID'), ('o', '311873')]\n",
      "[('p', 'http://www.wikidata.org/prop/direct/P1481'), ('pname', 'vici.org ID'), ('o', '4275')]\n",
      "[('p', 'http://www.wikidata.org/prop/direct/P227'), ('pname', 'GND ID'), ('o', '4416557-2')]\n",
      "[('p', 'http://www.wikidata.org/prop/direct/P8034'), ('pname', 'Vatican Library VcBA ID'), ('o', '494/66015')]\n",
      "[('p', 'http://www.wikidata.org/prop/direct/P8034'), ('pname', 'Vatican Library VcBA ID'), ('o', '494/8465')]\n",
      "[('p', 'http://www.wikidata.org/prop/direct/P1566'), ('pname', 'GeoNames ID'), ('o', '7303230')]\n",
      "[('p', 'http://www.wikidata.org/prop/direct/P1017'), ('pname', 'Vatican Library ID (former scheme)'), ('o', 'ADV10235849')]\n",
      "[('p', 'http://www.wikidata.org/prop/direct/P373'), ('pname', 'Commons category'), ('o', 'Arena (Verona)')]\n",
      "[('p', 'http://www.wikidata.org/prop/direct/P935'), ('pname', 'Commons gallery'), ('o', 'Arena di Verona')]\n",
      "[('p', 'http://www.wikidata.org/prop/direct/P8564'), ('pname', 'Art Bonus ID'), ('o', 'anfiteatro-romano-“arena-di-verona”')]\n",
      "[('p', 'http://www.wikidata.org/prop/direct/P691'), ('pname', 'NKCR AUT ID'), ('o', 'ko2004233267')]\n",
      "[('p', 'http://www.wikidata.org/prop/direct/P7859'), ('pname', 'WorldCat Identities ID'), ('o', 'lccn-nr89014142')]\n",
      "[('p', 'http://www.wikidata.org/prop/direct/P7859'), ('pname', 'WorldCat Identities ID'), ('o', 'viaf-137144663')]\n",
      "[('p', 'http://www.wikidata.org/prop/direct/P4291'), ('pname', 'panoramic view'), ('o', 'http://commons.wikimedia.org/wiki/Special:FilePath/Amphitheater%20Verona.jpg')]\n",
      "[('p', 'http://www.wikidata.org/prop/direct/P5775'), ('pname', 'image of interior'), ('o', 'http://commons.wikimedia.org/wiki/Special:FilePath/Arena%20di%20Verona%205%20%2810782301753%29.jpg')]\n",
      "[('p', 'http://www.wikidata.org/prop/direct/P18'), ('pname', 'image'), ('o', 'http://commons.wikimedia.org/wiki/Special:FilePath/Arena-XE3F2406a.jpg')]\n",
      "[('p', 'http://www.wikidata.org/prop/direct/P8933'), ('pname', 'category for the view from the item'), ('o', 'http://www.wikidata.org/entity/Q104234879'), ('oname', 'Category:Views from the Arena (Verona)')]\n",
      "[('p', 'http://www.wikidata.org/prop/direct/P276'), ('pname', 'location'), ('o', 'http://www.wikidata.org/entity/Q1056360'), ('oname', 'piazza Bra')]\n",
      "[('p', 'http://www.wikidata.org/prop/direct/P31'), ('pname', 'instance of'), ('o', 'http://www.wikidata.org/entity/Q14752696'), ('oname', 'ancient Roman structure')]\n",
      "[('p', 'http://www.wikidata.org/prop/direct/P1889'), ('pname', 'different from'), ('o', 'http://www.wikidata.org/entity/Q1477572'), ('oname', 'Roman theatre of Verona')]\n",
      "[('p', 'http://www.wikidata.org/prop/direct/P31'), ('pname', 'instance of'), ('o', 'http://www.wikidata.org/entity/Q153562'), ('oname', 'opera house')]\n",
      "[('p', 'http://www.wikidata.org/prop/direct/P2596'), ('pname', 'culture'), ('o', 'http://www.wikidata.org/entity/Q1747689'), ('oname', 'Ancient Rome')]\n",
      "[('p', 'http://www.wikidata.org/prop/direct/P131'), ('pname', 'located in the administrative territorial entity'), ('o', 'http://www.wikidata.org/entity/Q2028'), ('oname', 'Verona')]\n",
      "[('p', 'http://www.wikidata.org/prop/direct/P149'), ('pname', 'architectural style'), ('o', 'http://www.wikidata.org/entity/Q223750'), ('oname', 'ancient Roman architecture')]\n",
      "[('p', 'http://www.wikidata.org/prop/direct/P186'), ('pname', 'made from material'), ('o', 'http://www.wikidata.org/entity/Q22731'), ('oname', 'stone')]\n",
      "[('p', 'http://www.wikidata.org/prop/direct/P31'), ('pname', 'instance of'), ('o', 'http://www.wikidata.org/entity/Q24354'), ('oname', 'theatre')]\n",
      "[('p', 'http://www.wikidata.org/prop/direct/P17'), ('pname', 'country'), ('o', 'http://www.wikidata.org/entity/Q38'), ('oname', 'Italy')]\n",
      "[('p', 'http://www.wikidata.org/prop/direct/P910'), ('pname', \"topic's main category\"), ('o', 'http://www.wikidata.org/entity/Q55308428'), ('oname', 'Category:Arena (Verona)')]\n",
      "[('p', 'http://www.wikidata.org/prop/direct/P31'), ('pname', 'instance of'), ('o', 'http://www.wikidata.org/entity/Q570116'), ('oname', 'tourist attraction')]\n",
      "[('p', 'http://www.wikidata.org/prop/direct/P31'), ('pname', 'instance of'), ('o', 'http://www.wikidata.org/entity/Q7362268'), ('oname', 'Roman amphitheatre')]\n",
      "[('p', 'http://www.wikidata.org/prop/direct/P31'), ('pname', 'instance of'), ('o', 'http://www.wikidata.org/entity/Q839954'), ('oname', 'archaeological site')]\n",
      "[('p', 'http://www.wikidata.org/prop/direct/P856'), ('pname', 'official website'), ('o', 'https://www.arena.it/')]\n"
     ]
    },
    {
     "data": {
      "text/plain": [
       "48"
      ]
     },
     "execution_count": 3,
     "metadata": {},
     "output_type": "execute_result"
    }
   ],
   "source": [
    "queryString = \"\"\"\n",
    "SELECT DISTINCT ?p ?pname ?o ?oname\n",
    "WHERE { \n",
    "\n",
    "wd:Q641556 ?p  ?o.\n",
    "?p <http://schema.org/name> ?pname .\n",
    "\n",
    "OPTIONAL{\n",
    "?o <http://schema.org/name> ?oname .\n",
    "}\n",
    "\n",
    "} \n",
    "ORDER BY ASC (?o)\n",
    "\"\"\"\n",
    "\n",
    "print(\"Results\")\n",
    "run_query(queryString)"
   ]
  },
  {
   "cell_type": "code",
   "execution_count": null,
   "id": "65c631b1-f197-414f-9495-173aacf0e83b",
   "metadata": {},
   "outputs": [],
   "source": [
    "# Here for archaeological site, I don't find relevant numerical attribute that describes these sites"
   ]
  },
  {
   "cell_type": "code",
   "execution_count": 29,
   "id": "3c428d2e-7758-4819-911c-08d8c4b9ad87",
   "metadata": {},
   "outputs": [],
   "source": [
    "# I try to look for other sites: theatre , museum "
   ]
  },
  {
   "cell_type": "code",
   "execution_count": 9,
   "id": "ebccc8e7-1017-4654-a2b7-29496d7fd54a",
   "metadata": {},
   "outputs": [
    {
     "name": "stdout",
     "output_type": "stream",
     "text": [
      "Results\n",
      "[('o', 'http://www.wikidata.org/entity/Q3329412'), ('oname', 'archaeological museum')]\n",
      "[('o', 'http://www.wikidata.org/entity/Q27699276'), ('oname', 'museum collection')]\n",
      "[('o', 'http://www.wikidata.org/entity/Q33506'), ('oname', 'museum')]\n",
      "[('o', 'http://www.wikidata.org/entity/Q94701740'), ('oname', 'didactic museum')]\n",
      "[('o', 'http://www.wikidata.org/entity/Q17431399'), ('oname', 'national museum')]\n",
      "[('o', 'http://www.wikidata.org/entity/Q2087181'), ('oname', 'historic house museum')]\n",
      "[('o', 'http://www.wikidata.org/entity/Q718893'), ('oname', 'theater')]\n",
      "[('o', 'http://www.wikidata.org/entity/Q756102'), ('oname', 'open-air museum')]\n",
      "[('o', 'http://www.wikidata.org/entity/Q636819'), ('oname', 'archaeological open-air museum')]\n",
      "[('o', 'http://www.wikidata.org/entity/Q2516357'), ('oname', 'transport museum')]\n",
      "[('o', 'http://www.wikidata.org/entity/Q207694'), ('oname', 'art museum')]\n",
      "[('o', 'http://www.wikidata.org/entity/Q24699794'), ('oname', 'museum building')]\n",
      "[('o', 'http://www.wikidata.org/entity/Q16735822'), ('oname', 'history museum')]\n",
      "[('o', 'http://www.wikidata.org/entity/Q2772772'), ('oname', 'military museum')]\n",
      "[('o', 'http://www.wikidata.org/entity/Q41253'), ('oname', 'movie theater')]\n"
     ]
    },
    {
     "data": {
      "text/plain": [
       "15"
      ]
     },
     "execution_count": 9,
     "metadata": {},
     "output_type": "execute_result"
    }
   ],
   "source": [
    "queryString = \"\"\"\n",
    "SELECT DISTINCT ?o ?oname\n",
    "WHERE { \n",
    "\n",
    "\n",
    "?as wdt:P31 wd:Q839954  ;          # I look for all the archaeological site linked to their instance of ..\n",
    "    wdt:P31 ?o .\n",
    "\n",
    "?as <http://schema.org/name> ?name .\n",
    "?o <http://schema.org/name> ?oname .\n",
    "\n",
    "FILTER(REGEX(?oname, \"theater\") or REGEX(?oname, \"museum\"))\n",
    "} \n",
    "\n",
    "LIMIT 50\n",
    "\"\"\"\n",
    "\n",
    "print(\"Results\")\n",
    "run_query(queryString)"
   ]
  },
  {
   "cell_type": "code",
   "execution_count": null,
   "id": "28181a8e-d537-4fdc-9738-5bfb79723d8a",
   "metadata": {},
   "outputs": [],
   "source": [
    "# GET: 'theater' --> wd:Q24354\n",
    "#       'museum' --> wd:Q33506"
   ]
  },
  {
   "cell_type": "code",
   "execution_count": 5,
   "id": "38a8ccf4-8493-4f9e-8d09-9d91696161d5",
   "metadata": {},
   "outputs": [
    {
     "name": "stdout",
     "output_type": "stream",
     "text": [
      "Results\n",
      "[('p', 'http://www.wikidata.org/prop/direct/P4272'), ('pname', 'DPLA subject ID'), ('o', '\"Arts and Industries Building (Washington, D.C.)\"')]\n",
      "[('p', 'http://www.wikidata.org/prop/direct/P4272'), ('pname', 'DPLA subject ID'), ('o', '\"Franklin Court (Philadelphia, Pa.)\"')]\n",
      "[('p', 'http://www.wikidata.org/prop/direct/P4272'), ('pname', 'DPLA subject ID'), ('o', '\"Independence National Historical Park (Philadelphia, Pa.)\"')]\n",
      "[('p', 'http://www.wikidata.org/prop/direct/P373'), ('pname', 'Commons category'), ('o', '\"Licurici\" Theater of Chișinău')]\n",
      "[('p', 'http://www.wikidata.org/prop/direct/P373'), ('pname', 'Commons category'), ('o', '\"Mihai Eminescu\" National Theater of Chișinău')]\n",
      "[('p', 'http://www.wikidata.org/prop/direct/P5361'), ('pname', 'BNB person ID'), ('o', '%C3%96sterreichischeNationalbibliothek')]\n",
      "[('p', 'http://www.wikidata.org/prop/direct/P373'), ('pname', 'Commons category'), ('o', \"'62 Center for Theatre and Dance\")]\n",
      "[('p', 'http://www.wikidata.org/prop/direct/P373'), ('pname', 'Commons category'), ('o', \"'t Behouden Huys (West-Terschelling)\")]\n",
      "[('p', 'http://www.wikidata.org/prop/direct/P1329'), ('pname', 'phone number'), ('o', '(+99 412) 493-56-52')]\n",
      "[('p', 'http://www.wikidata.org/prop/direct/P1329'), ('pname', 'phone number'), ('o', '(+994 12) 498-69-72')]\n",
      "[('p', 'http://www.wikidata.org/prop/direct/P1329'), ('pname', 'phone number'), ('o', '(+99424) 24 4 37 02')]\n",
      "[('p', 'http://www.wikidata.org/prop/direct/P1329'), ('pname', 'phone number'), ('o', '(801) 768-8932')]\n",
      "[('p', 'http://www.wikidata.org/prop/direct/P2900'), ('pname', 'fax number'), ('o', '+')]\n",
      "[('p', 'http://www.wikidata.org/prop/direct/P1329'), ('pname', 'phone number'), ('o', '+ 55 71 3003-0595')]\n",
      "[('p', 'http://www.wikidata.org/prop/direct/P1329'), ('pname', 'phone number'), ('o', '+ 8 (815 31) 5-26-68')]\n",
      "[('p', 'http://www.wikidata.org/prop/direct/P571'), ('pname', 'inception'), ('o', '+0000-00-00T00:00:00Z')]\n",
      "[('p', 'http://www.wikidata.org/prop/direct/P1329'), ('pname', 'phone number'), ('o', '+1 306-295-4009')]\n",
      "[('p', 'http://www.wikidata.org/prop/direct/P1329'), ('pname', 'phone number'), ('o', '+1-202-686-5807')]\n",
      "[('p', 'http://www.wikidata.org/prop/direct/P1329'), ('pname', 'phone number'), ('o', '+1-203-227-4177')]\n",
      "[('p', 'http://www.wikidata.org/prop/direct/P1329'), ('pname', 'phone number'), ('o', '+1-203-331-1104')]\n",
      "[('p', 'http://www.wikidata.org/prop/direct/P1329'), ('pname', 'phone number'), ('o', '+1-203-937-3666')]\n",
      "[('p', 'http://www.wikidata.org/prop/direct/P1329'), ('pname', 'phone number'), ('o', '+1-205-252-2262')]\n",
      "[('p', 'http://www.wikidata.org/prop/direct/P1329'), ('pname', 'phone number'), ('o', '+1-205-373-2363')]\n",
      "[('p', 'http://www.wikidata.org/prop/direct/P1329'), ('pname', 'phone number'), ('o', '+1-205-594-2116')]\n",
      "[('p', 'http://www.wikidata.org/prop/direct/P2900'), ('pname', 'fax number'), ('o', '+1-205-594-2118')]\n",
      "[('p', 'http://www.wikidata.org/prop/direct/P1329'), ('pname', 'phone number'), ('o', '+1-205-594-2128')]\n",
      "[('p', 'http://www.wikidata.org/prop/direct/P2900'), ('pname', 'fax number'), ('o', '+1-205-776-1623')]\n",
      "[('p', 'http://www.wikidata.org/prop/direct/P1329'), ('pname', 'phone number'), ('o', '+1-205-902-9487')]\n",
      "[('p', 'http://www.wikidata.org/prop/direct/P1329'), ('pname', 'phone number'), ('o', '+1-206-855-4650')]\n",
      "[('p', 'http://www.wikidata.org/prop/direct/P1329'), ('pname', 'phone number'), ('o', '+1-207-288-3519')]\n"
     ]
    },
    {
     "data": {
      "text/plain": [
       "30"
      ]
     },
     "execution_count": 5,
     "metadata": {},
     "output_type": "execute_result"
    }
   ],
   "source": [
    "queryString = \"\"\"\n",
    "SELECT DISTINCT ?p ?pname ?o ?oname\n",
    "WHERE { \n",
    "\n",
    "?s ?p  ?o.\n",
    "?s wdt:P31 ?site .\n",
    "?p <http://schema.org/name> ?pname .\n",
    "\n",
    "OPTIONAL{\n",
    "?o <http://schema.org/name> ?oname .\n",
    "}\n",
    "\n",
    "FILTER(?site = wd:Q24354 or ?site = wd:Q33506)\n",
    "} \n",
    "ORDER BY ASC (?o)\n",
    "LIMIT 30\n",
    "\"\"\"\n",
    "\n",
    "print(\"Results\")\n",
    "run_query(queryString)"
   ]
  },
  {
   "cell_type": "code",
   "execution_count": null,
   "id": "44b263de-b955-4e0e-9446-6558af9b01d3",
   "metadata": {},
   "outputs": [],
   "source": [
    "#\n",
    "#"
   ]
  },
  {
   "cell_type": "markdown",
   "id": "2ba829f2-f9b8-4765-8a74-e4ee88cdfcea",
   "metadata": {},
   "source": [
    "# Workload 4"
   ]
  },
  {
   "cell_type": "code",
   "execution_count": 6,
   "id": "e1252f7b-94b0-4845-bd6f-d30c7f9ed5e3",
   "metadata": {},
   "outputs": [],
   "source": [
    "# 4. Analyze the number of archaeological sites per type and country"
   ]
  },
  {
   "cell_type": "markdown",
   "id": "4c1583b0-1b52-431d-b4d9-e5ebbb871685",
   "metadata": {},
   "source": [
    "## Workload 4.1"
   ]
  },
  {
   "cell_type": "code",
   "execution_count": null,
   "id": "3e66406d-5d62-43d6-bb59-94a156e4ecf0",
   "metadata": {},
   "outputs": [],
   "source": [
    "# 4.1 Which country has more archaeological sites? Which country has the most human settlements?"
   ]
  },
  {
   "cell_type": "code",
   "execution_count": 7,
   "id": "94379081-3dfa-4c11-9b7f-27666c58078c",
   "metadata": {},
   "outputs": [],
   "source": [
    "# To find Which country has more archaeological sites I start finding all the countries with their sites"
   ]
  },
  {
   "cell_type": "code",
   "execution_count": 10,
   "id": "e5704fc6-aa2a-4c70-94a6-c517a809701b",
   "metadata": {},
   "outputs": [
    {
     "name": "stdout",
     "output_type": "stream",
     "text": [
      "Results\n",
      "[('c', 'http://www.wikidata.org/entity/Q145'), ('cname', 'United Kingdom'), ('as', 'http://www.wikidata.org/entity/Q17647106'), ('asname', 'Two enclosures on Winterbourne Down')]\n",
      "[('c', 'http://www.wikidata.org/entity/Q145'), ('cname', 'United Kingdom'), ('as', 'http://www.wikidata.org/entity/Q17648184'), ('asname', \"Site of St Ethelred's Church and adjoining area to south\")]\n",
      "[('c', 'http://www.wikidata.org/entity/Q145'), ('cname', 'United Kingdom'), ('as', 'http://www.wikidata.org/entity/Q17648556'), ('asname', 'Tumulus in the Warren')]\n",
      "[('c', 'http://www.wikidata.org/entity/Q145'), ('cname', 'United Kingdom'), ('as', 'http://www.wikidata.org/entity/Q17649098'), ('asname', 'Medieval dyke: part of deer park boundary south of Cow Green')]\n",
      "[('c', 'http://www.wikidata.org/entity/Q145'), ('cname', 'United Kingdom'), ('as', 'http://www.wikidata.org/entity/Q17650159'), ('asname', 'The Mount bell barrow 110m south west of Mount Farm')]\n",
      "[('c', 'http://www.wikidata.org/entity/Q145'), ('cname', 'United Kingdom'), ('as', 'http://www.wikidata.org/entity/Q17662357'), ('asname', 'Carisbrooke Castle: a shell keep castle on the site of a Saxon burh')]\n",
      "[('c', 'http://www.wikidata.org/entity/Q145'), ('cname', 'United Kingdom'), ('as', 'http://www.wikidata.org/entity/Q17662772'), ('asname', 'Enclosed stone hut settlement south-west of Gutter Tor')]\n",
      "[('c', 'http://www.wikidata.org/entity/Q145'), ('cname', 'United Kingdom'), ('as', 'http://www.wikidata.org/entity/Q17663780'), ('asname', \"Anglo-Saxon cemetery and associated prehistoric remains at St Anne's Road, Upperton\")]\n",
      "[('c', 'http://www.wikidata.org/entity/Q145'), ('cname', 'United Kingdom'), ('as', 'http://www.wikidata.org/entity/Q17664361'), ('asname', 'Cain Hill Monument 686m south-east of Wrest House')]\n",
      "[('c', 'http://www.wikidata.org/entity/Q145'), ('cname', 'United Kingdom'), ('as', 'http://www.wikidata.org/entity/Q17664660'), ('asname', 'Iron Age cemetery, early medieval enclosure and medieval farmstead with a long boundary, Middle Hurth Edge')]\n",
      "[('c', 'http://www.wikidata.org/entity/Q145'), ('cname', 'United Kingdom'), ('as', 'http://www.wikidata.org/entity/Q17673789'), ('asname', 'Roman barrow 380m north of Hill Farm')]\n",
      "[('c', 'http://www.wikidata.org/entity/Q145'), ('cname', 'United Kingdom'), ('as', 'http://www.wikidata.org/entity/Q17673919'), ('asname', 'Medieval fishpond complex 145m south east of Council Farm')]\n",
      "[('c', 'http://www.wikidata.org/entity/Q145'), ('cname', 'United Kingdom'), ('as', 'http://www.wikidata.org/entity/Q17675860'), ('asname', 'Prehistoric cairn cemetery and field system on Shipman Head Down and Great Bottom, Bryher')]\n",
      "[('c', 'http://www.wikidata.org/entity/Q145'), ('cname', 'United Kingdom'), ('as', 'http://www.wikidata.org/entity/Q17676716'), ('asname', 'Sillenhurst moated site and fishpond')]\n",
      "[('c', 'http://www.wikidata.org/entity/Q183'), ('cname', 'Germany'), ('as', 'http://www.wikidata.org/entity/Q1800726'), ('asname', 'Saalkirche')]\n",
      "[('c', 'http://www.wikidata.org/entity/Q29'), ('cname', 'Spain'), ('as', 'http://www.wikidata.org/entity/Q97601525'), ('asname', 'Barranco Ru')]\n",
      "[('c', 'http://www.wikidata.org/entity/Q29'), ('cname', 'Spain'), ('as', 'http://www.wikidata.org/entity/Q97601673'), ('asname', 'Rambla de la Mazurca III')]\n",
      "[('c', 'http://www.wikidata.org/entity/Q29'), ('cname', 'Spain'), ('as', 'http://www.wikidata.org/entity/Q97605033'), ('asname', 'Cerro del Polo')]\n",
      "[('c', 'http://www.wikidata.org/entity/Q29'), ('cname', 'Spain'), ('as', 'http://www.wikidata.org/entity/Q97618963'), ('asname', 'Calle Alfonso XI Númeo 13')]\n",
      "[('c', 'http://www.wikidata.org/entity/Q29'), ('cname', 'Spain'), ('as', 'http://www.wikidata.org/entity/Q97619003'), ('asname', 'Las Lagunetas')]\n"
     ]
    },
    {
     "data": {
      "text/plain": [
       "20"
      ]
     },
     "execution_count": 10,
     "metadata": {},
     "output_type": "execute_result"
    }
   ],
   "source": [
    "queryString = \"\"\"\n",
    "SELECT DISTINCT ?c ?cname ?as ?asname \n",
    "WHERE { \n",
    "\n",
    "?as wdt:P17 ?c  . \n",
    "?as wdt:P31 wd:Q839954  .\n",
    "\n",
    "?as <http://schema.org/name> ?asname .\n",
    "?c <http://schema.org/name> ?cname .\n",
    "\n",
    "} \n",
    "GROUP BY ?cname\n",
    "LIMIT 20\n",
    "\"\"\"\n",
    "\n",
    "print(\"Results\")\n",
    "run_query(queryString)"
   ]
  },
  {
   "cell_type": "code",
   "execution_count": 11,
   "id": "db8e7fc6-a97d-4720-9a48-1e7f4997e430",
   "metadata": {},
   "outputs": [],
   "source": [
    "# Now I count the archeaological site for each country and find the country that has more"
   ]
  },
  {
   "cell_type": "code",
   "execution_count": 16,
   "id": "2be327b8-157c-4d00-becd-a28d9c802673",
   "metadata": {},
   "outputs": [
    {
     "name": "stdout",
     "output_type": "stream",
     "text": [
      "Results\n",
      "[('c', 'http://www.wikidata.org/entity/Q145'), ('cname', 'United Kingdom'), ('num_arc_site', '6785')]\n"
     ]
    },
    {
     "data": {
      "text/plain": [
       "1"
      ]
     },
     "execution_count": 16,
     "metadata": {},
     "output_type": "execute_result"
    }
   ],
   "source": [
    "queryString = \"\"\"\n",
    "SELECT DISTINCT ?c ?cname (count(?as) as ?num_arc_site) \n",
    "WHERE { \n",
    "\n",
    "?as wdt:P17 ?c  . \n",
    "?as wdt:P31 wd:Q839954  .\n",
    "\n",
    "?as <http://schema.org/name> ?asname .\n",
    "?c <http://schema.org/name> ?cname .\n",
    "\n",
    "} \n",
    "ORDER BY DESC (?num_arc_site)\n",
    "LIMIT 1\n",
    "\"\"\"\n",
    "\n",
    "print(\"Results\")\n",
    "run_query(queryString)"
   ]
  },
  {
   "cell_type": "code",
   "execution_count": null,
   "id": "c61cfbd9-a97d-4904-8a32-f42eb6499c9d",
   "metadata": {},
   "outputs": [],
   "source": [
    "# Now i look for the IRI of human settlements"
   ]
  },
  {
   "cell_type": "code",
   "execution_count": 17,
   "id": "20b7e7b3-706d-476a-9fa7-02bb9fc72d23",
   "metadata": {},
   "outputs": [
    {
     "name": "stdout",
     "output_type": "stream",
     "text": [
      "Results\n",
      "[('o', 'http://www.wikidata.org/entity/Q486972'), ('oname', 'human settlement')]\n"
     ]
    },
    {
     "data": {
      "text/plain": [
       "1"
      ]
     },
     "execution_count": 17,
     "metadata": {},
     "output_type": "execute_result"
    }
   ],
   "source": [
    "queryString = \"\"\"\n",
    "SELECT DISTINCT ?o ?oname\n",
    "WHERE { \n",
    "\n",
    "\n",
    "?as wdt:P31 wd:Q839954  ;          # I look for all the archaeological site linked to their instance of ..\n",
    "    wdt:P31 ?o .\n",
    "\n",
    "?as <http://schema.org/name> ?name .\n",
    "?o <http://schema.org/name> ?oname .\n",
    "\n",
    "FILTER REGEX(?oname, \"human sett\")\n",
    "} \n",
    "\n",
    "LIMIT 50\n",
    "\"\"\"\n",
    "\n",
    "print(\"Results\")\n",
    "run_query(queryString)"
   ]
  },
  {
   "cell_type": "code",
   "execution_count": null,
   "id": "bf0609bb-c4b8-47c1-9498-2bc982137f22",
   "metadata": {},
   "outputs": [],
   "source": [
    "# Now I get Q486972 --> human settlement and find the country that has more human settlement"
   ]
  },
  {
   "cell_type": "code",
   "execution_count": 21,
   "id": "25b89faa-0a6d-4e67-b961-78f69d7cb792",
   "metadata": {},
   "outputs": [
    {
     "name": "stdout",
     "output_type": "stream",
     "text": [
      "Results\n",
      "[('c', 'http://www.wikidata.org/entity/Q38'), ('cname', 'Italy'), ('num_human_settlement', '29476')]\n"
     ]
    },
    {
     "data": {
      "text/plain": [
       "1"
      ]
     },
     "execution_count": 21,
     "metadata": {},
     "output_type": "execute_result"
    }
   ],
   "source": [
    "queryString = \"\"\"\n",
    "SELECT DISTINCT ?c ?cname (count( DISTINCT ?hs) as ?num_human_settlement) \n",
    "WHERE { \n",
    "\n",
    "?hs wdt:P17 ?c  .                    # ?hs --> human settlement\n",
    "?hs wdt:P31 wd:Q486972  .\n",
    "\n",
    "?hs <http://schema.org/name> ?hsname .\n",
    "?c <http://schema.org/name> ?cname .\n",
    "\n",
    "} \n",
    "ORDER BY DESC (?num_human_settlement)\n",
    "LIMIT 1\n",
    "\"\"\"\n",
    "\n",
    "print(\"Results\")\n",
    "run_query(queryString)"
   ]
  },
  {
   "cell_type": "code",
   "execution_count": null,
   "id": "df247041-f5d4-4850-9f6e-20f9f7243034",
   "metadata": {},
   "outputs": [],
   "source": [
    "#\n",
    "#"
   ]
  },
  {
   "cell_type": "markdown",
   "id": "1bf054d5-64f0-4e1e-94fd-c129210c2d29",
   "metadata": {},
   "source": [
    "## Workload 4.2"
   ]
  },
  {
   "cell_type": "code",
   "execution_count": 6,
   "id": "a416e92f-dca2-4ca2-ad92-c63390d8f55f",
   "metadata": {},
   "outputs": [],
   "source": [
    "# 4.2 Which countries have Ancient Rome sites, which other \"archaeological cultures\" are described?"
   ]
  },
  {
   "cell_type": "code",
   "execution_count": 7,
   "id": "ed233dab-81cb-4642-a432-e75848a1adee",
   "metadata": {},
   "outputs": [],
   "source": [
    "# I find the IRI for Ancient Rome culture"
   ]
  },
  {
   "cell_type": "code",
   "execution_count": 9,
   "id": "2f87fdb7-c0f5-4e87-b588-9a2ffd172a95",
   "metadata": {},
   "outputs": [
    {
     "name": "stdout",
     "output_type": "stream",
     "text": [
      "Results\n",
      "[('cu', 'http://www.wikidata.org/entity/Q1747689'), ('cuname', 'Ancient Rome')]\n"
     ]
    },
    {
     "data": {
      "text/plain": [
       "1"
      ]
     },
     "execution_count": 9,
     "metadata": {},
     "output_type": "execute_result"
    }
   ],
   "source": [
    "queryString = \"\"\"\n",
    "SELECT DISTINCT ?cu ?cuname\n",
    "WHERE { \n",
    "\n",
    "?as wdt:P31 wd:Q839954  ;\n",
    "    wdt:P2596 ?cu ;           # ?as --> archaeological site /// ?cu --> culture\n",
    "    wdt:P17 ?co  .\n",
    "?co wdt:P30 ?c .               # ?co --> country\n",
    "?c  wdt:P31 wd:Q5107 .         # ?c --> continent\n",
    "\n",
    "\n",
    "\n",
    "?as <http://schema.org/name> ?asname .\n",
    "?cu <http://schema.org/name> ?cuname .\n",
    "?co <http://schema.org/name> ?coname .\n",
    "?c <http://schema.org/name> ?cname .\n",
    "\n",
    "FILTER REGEX(?cuname, \"Ancient Ro\")\n",
    "} \n",
    "\n",
    "LIMIT 30\n",
    "\"\"\"\n",
    "\n",
    "print(\"Results\")\n",
    "run_query(queryString)"
   ]
  },
  {
   "cell_type": "code",
   "execution_count": null,
   "id": "d0d66589-1670-4a28-8d44-fc9638755ead",
   "metadata": {},
   "outputs": [],
   "source": [
    "# GET: 'Ancient Rome' --> wd:Q1747689"
   ]
  },
  {
   "cell_type": "code",
   "execution_count": 23,
   "id": "54e9a846-c535-41fd-8b87-3068076f8be6",
   "metadata": {},
   "outputs": [],
   "source": [
    "# I look for Ancient Rome sites"
   ]
  },
  {
   "cell_type": "code",
   "execution_count": 12,
   "id": "3175e429-997b-4ecc-81cd-5826c309d1ec",
   "metadata": {},
   "outputs": [
    {
     "name": "stdout",
     "output_type": "stream",
     "text": [
      "Results\n",
      "[('as', 'http://www.wikidata.org/entity/Q17652208'), ('asname', 'Excavation at Largo Perosi - Via Giulia (Rome)'), ('cuname', 'Ancient Rome'), ('coname', 'Italy')]\n",
      "[('as', 'http://www.wikidata.org/entity/Q21208533'), ('asname', 'Temple of Fortuna Respiciens'), ('cuname', 'Ancient Rome'), ('coname', 'Italy')]\n",
      "[('as', 'http://www.wikidata.org/entity/Q908472'), ('asname', 'Domus Augustana'), ('cuname', 'Ancient Rome'), ('coname', 'Italy')]\n",
      "[('as', 'http://www.wikidata.org/entity/Q22907580'), ('asname', 'Palace of Domitian'), ('cuname', 'Ancient Rome'), ('coname', 'Italy')]\n",
      "[('as', 'http://www.wikidata.org/entity/Q3558925'), ('asname', 'Chiragan Roman villa'), ('cuname', 'Ancient Rome'), ('coname', 'France')]\n",
      "[('as', 'http://www.wikidata.org/entity/Q26220411'), ('asname', 'Temple of Hercules'), ('cuname', 'Ancient Rome'), ('coname', 'Italy')]\n",
      "[('as', 'http://www.wikidata.org/entity/Q179656'), ('asname', 'Arena of Nîmes'), ('cuname', 'Ancient Rome'), ('coname', 'France')]\n",
      "[('as', 'http://www.wikidata.org/entity/Q1235116'), ('asname', 'Lupercal'), ('cuname', 'Ancient Rome'), ('coname', 'Italy')]\n",
      "[('as', 'http://www.wikidata.org/entity/Q1826410'), ('asname', 'amphitheatre of Bordeaux'), ('cuname', 'Ancient Rome'), ('coname', 'France')]\n",
      "[('as', 'http://www.wikidata.org/entity/Q836108'), ('asname', 'Baths of Diocletian'), ('cuname', 'Ancient Rome'), ('coname', 'Italy')]\n",
      "[('as', 'http://www.wikidata.org/entity/Q1232346'), ('asname', 'Arch of Augustus'), ('cuname', 'Ancient Rome'), ('coname', 'Italy')]\n",
      "[('as', 'http://www.wikidata.org/entity/Q426372'), ('asname', 'Rostra'), ('cuname', 'Ancient Rome'), ('coname', 'Italy')]\n",
      "[('as', 'http://www.wikidata.org/entity/Q3759336'), ('asname', 'Gemellae'), ('cuname', 'Ancient Rome'), ('coname', 'Algeria')]\n",
      "[('as', 'http://www.wikidata.org/entity/Q380497'), ('asname', 'Aeculanum'), ('cuname', 'Ancient Rome'), ('coname', 'Italy')]\n",
      "[('as', 'http://www.wikidata.org/entity/Q568611'), ('asname', 'Cannae'), ('cuname', 'Ancient Rome'), ('coname', 'Italy')]\n",
      "[('as', 'http://www.wikidata.org/entity/Q1012797'), ('asname', 'Ostia'), ('cuname', 'Ancient Rome'), ('coname', 'Italy')]\n",
      "[('as', 'http://www.wikidata.org/entity/Q502098'), ('asname', 'Baths of Caracalla'), ('cuname', 'Ancient Rome'), ('coname', 'Italy')]\n",
      "[('as', 'http://www.wikidata.org/entity/Q616271'), ('asname', 'Basilica Julia'), ('cuname', 'Ancient Rome'), ('coname', 'Italy')]\n",
      "[('as', 'http://www.wikidata.org/entity/Q622956'), ('asname', 'Aqua Traiana'), ('cuname', 'Ancient Rome'), ('coname', 'Italy')]\n",
      "[('as', 'http://www.wikidata.org/entity/Q3877101'), ('asname', 'Nymphaeum of Alexander Severus'), ('cuname', 'Ancient Rome'), ('coname', 'Italy')]\n",
      "[('as', 'http://www.wikidata.org/entity/Q2249182'), ('asname', 'Insula Romana'), ('cuname', 'Ancient Rome'), ('coname', 'Italy')]\n",
      "[('as', 'http://www.wikidata.org/entity/Q2450247'), ('asname', 'Castra Deva Victrix'), ('cuname', 'Ancient Rome'), ('coname', 'United Kingdom')]\n",
      "[('as', 'http://www.wikidata.org/entity/Q94574'), ('asname', 'Aula regia'), ('cuname', 'Ancient Rome'), ('coname', 'Italy')]\n",
      "[('as', 'http://www.wikidata.org/entity/Q21208463'), ('asname', 'Anfiteatro Fausto'), ('cuname', 'Ancient Rome'), ('coname', 'Italy')]\n",
      "[('as', 'http://www.wikidata.org/entity/Q1309736'), ('asname', 'Richborough Castle'), ('cuname', 'Ancient Rome'), ('coname', 'United Kingdom')]\n",
      "[('as', 'http://www.wikidata.org/entity/Q383071'), ('asname', 'Aquae Cutiliae'), ('cuname', 'Ancient Rome'), ('coname', 'Ancient Rome')]\n",
      "[('as', 'http://www.wikidata.org/entity/Q383071'), ('asname', 'Aquae Cutiliae'), ('cuname', 'Ancient Rome'), ('coname', 'Italy')]\n",
      "[('as', 'http://www.wikidata.org/entity/Q4420718'), ('asname', 'ancient Syracuse'), ('cuname', 'Ancient Rome'), ('coname', 'Italy')]\n",
      "[('as', 'http://www.wikidata.org/entity/Q5786'), ('asname', 'Arch of Constantine'), ('cuname', 'Ancient Rome'), ('coname', 'Italy')]\n",
      "[('as', 'http://www.wikidata.org/entity/Q10285'), ('asname', 'Colosseum'), ('cuname', 'Ancient Rome'), ('coname', 'Italy')]\n"
     ]
    },
    {
     "data": {
      "text/plain": [
       "30"
      ]
     },
     "execution_count": 12,
     "metadata": {},
     "output_type": "execute_result"
    }
   ],
   "source": [
    "queryString = \"\"\"\n",
    "SELECT DISTINCT ?as ?asname ?cuname ?coname \n",
    "WHERE { \n",
    "\n",
    "?as wdt:P31 wd:Q839954  ;\n",
    "    wdt:P2596  wd:Q1747689;           # ?as --> archaeological site /// ?cu --> culture\n",
    "    wdt:P17 ?co  .\n",
    "?co wdt:P30 ?c .               # ?co --> country\n",
    "?c  wdt:P31 wd:Q5107 .         # ?c --> continent\n",
    "\n",
    "\n",
    "\n",
    "?as <http://schema.org/name> ?asname .\n",
    "wd:Q1747689 <http://schema.org/name> ?cuname .\n",
    "?co <http://schema.org/name> ?coname .\n",
    "?c <http://schema.org/name> ?cname .\n",
    "\n",
    "#FILTER REGEX(?cuname, \"Ancient Ro\")\n",
    "} \n",
    "\n",
    "LIMIT 30\n",
    "\"\"\"\n",
    "\n",
    "print(\"Results\")\n",
    "run_query(queryString)"
   ]
  },
  {
   "cell_type": "code",
   "execution_count": null,
   "id": "540b129f-15c2-4738-baf4-02ecf1081158",
   "metadata": {},
   "outputs": [],
   "source": [
    "# To have only the countries with their num of sites with Ancient Rome culture"
   ]
  },
  {
   "cell_type": "code",
   "execution_count": 13,
   "id": "a705ae1c-a1b0-4517-aa1d-12db921b25f1",
   "metadata": {},
   "outputs": [
    {
     "name": "stdout",
     "output_type": "stream",
     "text": [
      "Results\n",
      "[('coname', 'Algeria'), ('cuname', 'Ancient Rome'), ('num_ancient_rome_site', '2')]\n",
      "[('coname', 'Austria'), ('cuname', 'Ancient Rome'), ('num_ancient_rome_site', '2')]\n",
      "[('coname', 'Greece'), ('cuname', 'Ancient Rome'), ('num_ancient_rome_site', '3')]\n",
      "[('coname', 'Serbia'), ('cuname', 'Ancient Rome'), ('num_ancient_rome_site', '2')]\n",
      "[('coname', 'Ancient Rome'), ('cuname', 'Ancient Rome'), ('num_ancient_rome_site', '15')]\n",
      "[('coname', 'France'), ('cuname', 'Ancient Rome'), ('num_ancient_rome_site', '13')]\n",
      "[('coname', 'Libya'), ('cuname', 'Ancient Rome'), ('num_ancient_rome_site', '1')]\n",
      "[('coname', 'United Kingdom'), ('cuname', 'Ancient Rome'), ('num_ancient_rome_site', '16')]\n",
      "[('coname', 'Egypt'), ('cuname', 'Ancient Rome'), ('num_ancient_rome_site', '6')]\n",
      "[('coname', 'Italy'), ('cuname', 'Ancient Rome'), ('num_ancient_rome_site', '324')]\n",
      "[('coname', 'Syria'), ('cuname', 'Ancient Rome'), ('num_ancient_rome_site', '2')]\n",
      "[('coname', 'Croatia'), ('cuname', 'Ancient Rome'), ('num_ancient_rome_site', '2')]\n",
      "[('coname', 'Spain'), ('cuname', 'Ancient Rome'), ('num_ancient_rome_site', '28')]\n",
      "[('coname', 'Bulgaria'), ('cuname', 'Ancient Rome'), ('num_ancient_rome_site', '5')]\n",
      "[('coname', 'Netherlands'), ('cuname', 'Ancient Rome'), ('num_ancient_rome_site', '2')]\n",
      "[('coname', 'Georgia'), ('cuname', 'Ancient Rome'), ('num_ancient_rome_site', '2')]\n",
      "[('coname', 'Germany'), ('cuname', 'Ancient Rome'), ('num_ancient_rome_site', '11')]\n",
      "[('coname', 'Romania'), ('cuname', 'Ancient Rome'), ('num_ancient_rome_site', '3')]\n",
      "[('coname', 'Malta'), ('cuname', 'Ancient Rome'), ('num_ancient_rome_site', '1')]\n",
      "[('coname', 'Switzerland'), ('cuname', 'Ancient Rome'), ('num_ancient_rome_site', '2')]\n",
      "[('coname', 'Jordan'), ('cuname', 'Ancient Rome'), ('num_ancient_rome_site', '2')]\n",
      "[('coname', 'Albania'), ('cuname', 'Ancient Rome'), ('num_ancient_rome_site', '1')]\n",
      "[('coname', 'Morocco'), ('cuname', 'Ancient Rome'), ('num_ancient_rome_site', '2')]\n",
      "[('coname', 'Turkey'), ('cuname', 'Ancient Rome'), ('num_ancient_rome_site', '4')]\n"
     ]
    },
    {
     "data": {
      "text/plain": [
       "24"
      ]
     },
     "execution_count": 13,
     "metadata": {},
     "output_type": "execute_result"
    }
   ],
   "source": [
    "queryString = \"\"\"\n",
    "SELECT DISTINCT ?coname ?cuname (count(?as) as ?num_ancient_rome_site)\n",
    "WHERE { \n",
    "\n",
    "?as wdt:P31 wd:Q839954  ;\n",
    "    wdt:P2596 wd:Q1747689 ;           # ?as --> archaeological site /// ?cu --> culture\n",
    "    wdt:P17 ?co  .\n",
    "?co wdt:P30 ?c .               # ?co --> country\n",
    "?c  wdt:P31 wd:Q5107 .         # ?c --> continent\n",
    "\n",
    "\n",
    "\n",
    "?as <http://schema.org/name> ?asname .\n",
    "wd:Q1747689 <http://schema.org/name> ?cuname .\n",
    "?co <http://schema.org/name> ?coname .\n",
    "?c <http://schema.org/name> ?cname .\n",
    "\n",
    "FILTER REGEX(?cuname, \"Ancient Ro\")\n",
    "} \n",
    "\n",
    "LIMIT 30\n",
    "\"\"\"\n",
    "\n",
    "print(\"Results\")\n",
    "run_query(queryString)"
   ]
  },
  {
   "cell_type": "code",
   "execution_count": null,
   "id": "0c2593eb-8763-44b5-b0b8-4e4a221d3234",
   "metadata": {},
   "outputs": [],
   "source": []
  },
  {
   "cell_type": "code",
   "execution_count": 14,
   "id": "efc80830-55ba-4c2b-887a-ab34c4e95fc7",
   "metadata": {},
   "outputs": [],
   "source": [
    "# which other \"archaeological cultures\" are described? \n",
    "# To solve this question, I understand that for every site found above with Ancient Rome culture, \n",
    "# can have also other cultures linked. "
   ]
  },
  {
   "cell_type": "code",
   "execution_count": 15,
   "id": "cabeb2a8-0d02-477a-9978-b00f8391866d",
   "metadata": {},
   "outputs": [],
   "source": [
    "# Reasoning in this way, I can find all the cultures sites where there is also 'Ancient Rome'"
   ]
  },
  {
   "cell_type": "code",
   "execution_count": 29,
   "id": "bd49ed8e-99d6-4d1e-b0b4-d4e52f252a49",
   "metadata": {},
   "outputs": [
    {
     "name": "stdout",
     "output_type": "stream",
     "text": [
      "Results\n",
      "[('asname', 'Arch of Constantine'), ('coname', 'Italy'), ('cultures', 'Ancient Rome, culture of ancient Rome')]\n",
      "[('asname', 'Arch of Titus'), ('coname', 'Italy'), ('cultures', 'Ancient Rome, culture of ancient Rome')]\n",
      "[('asname', \"Trajan's Column\"), ('coname', 'Italy'), ('cultures', 'Ancient Rome, culture of ancient Rome')]\n",
      "[('asname', 'Dura-Europos'), ('coname', 'Syria'), ('cultures', 'Ancient Rome, Seleucid Empire')]\n",
      "[('asname', 'Colonia Claudia Ara Agrippinensium'), ('coname', 'Germany'), ('cultures', 'Ancient Rome, Germanic peoples')]\n",
      "[('asname', 'Miróbriga'), ('coname', 'Spain'), ('cultures', 'Ancient Rome, Celtiberians')]\n",
      "[('asname', 'Volubilis'), ('coname', 'Morocco'), ('cultures', 'Ancient Rome, Berbers, Punics')]\n",
      "[('asname', 'Chellah'), ('coname', 'Morocco'), ('cultures', 'Ancient Rome, Berbers, Marinid Dynasty')]\n",
      "[('asname', 'Charax'), ('coname', 'Turkey'), ('cultures', 'Ancient Rome')]\n",
      "[('asname', 'Arch of Septimius Severus'), ('coname', 'Italy'), ('cultures', 'Ancient Rome')]\n"
     ]
    },
    {
     "data": {
      "text/plain": [
       "10"
      ]
     },
     "execution_count": 29,
     "metadata": {},
     "output_type": "execute_result"
    }
   ],
   "source": [
    "queryString = \"\"\"\n",
    "SELECT DISTINCT ?asname ?coname (GROUP_CONCAT( DISTINCT ?cuname ; separator = \", \") AS ?cultures)\n",
    "WHERE { \n",
    "\n",
    "?as  wdt:P31 wd:Q839954  ;\n",
    "     wdt:P2596 wd:Q1747689 ;\n",
    "     wdt:P2596 ?cu .           # ?as --> archaeological site /// ?cu --> culture\n",
    "?as  wdt:P17 ?co  .\n",
    "?co  wdt:P30 ?c .               # ?co --> country\n",
    "?c   wdt:P31 wd:Q5107 .         # ?c --> continent\n",
    "\n",
    "\n",
    "\n",
    "?as <http://schema.org/name> ?asname .\n",
    "?cu <http://schema.org/name> ?cuname .\n",
    "?co <http://schema.org/name> ?coname .\n",
    "?c <http://schema.org/name> ?cname .\n",
    "\n",
    "\n",
    "} \n",
    "\n",
    "ORDER BY DESC (?cultures)\n",
    "LIMIT 10\n",
    "\n",
    "\n",
    "\"\"\"\n",
    "\n",
    "print(\"Results\")\n",
    "run_query(queryString)"
   ]
  },
  {
   "cell_type": "code",
   "execution_count": 30,
   "id": "4dd08dac-6845-4e52-b4f2-a29fad2160e1",
   "metadata": {},
   "outputs": [],
   "source": [
    "#\n",
    "#"
   ]
  },
  {
   "cell_type": "markdown",
   "id": "5041f55b-d17a-484c-bc30-96dd2c2eb9c6",
   "metadata": {},
   "source": [
    "## Workload 4.3"
   ]
  },
  {
   "cell_type": "code",
   "execution_count": 35,
   "id": "85cc8195-460f-42cc-a02c-2f2a2a71eea3",
   "metadata": {},
   "outputs": [],
   "source": [
    "# 4.3 Which country has the most diverse set of civilizations or cultures across its sites?"
   ]
  },
  {
   "cell_type": "code",
   "execution_count": 11,
   "id": "066f6880-2a54-411d-85dc-be4ded1e6c3b",
   "metadata": {},
   "outputs": [],
   "source": [
    "# I look for all archeological sites linked to their countries and find their cultures,\n",
    "# count it and give the 3 mcountry with most diverse set of cultures\n",
    "# Italy has the most diverse cultures \n",
    "# All IRIs get from above"
   ]
  },
  {
   "cell_type": "code",
   "execution_count": 12,
   "id": "156e9150-34dd-4e75-8c86-9160fd806d86",
   "metadata": {},
   "outputs": [
    {
     "name": "stdout",
     "output_type": "stream",
     "text": [
      "Results\n",
      "[('c', 'http://www.wikidata.org/entity/Q38'), ('cname', 'Italy'), ('num_cultures', '58')]\n",
      "[('c', 'http://www.wikidata.org/entity/Q30'), ('cname', 'United States of America'), ('num_cultures', '46')]\n",
      "[('c', 'http://www.wikidata.org/entity/Q796'), ('cname', 'Iraq'), ('num_cultures', '15')]\n"
     ]
    },
    {
     "data": {
      "text/plain": [
       "3"
      ]
     },
     "execution_count": 12,
     "metadata": {},
     "output_type": "execute_result"
    }
   ],
   "source": [
    "queryString = \"\"\"\n",
    "SELECT DISTINCT ?c ?cname (count( DISTINCT ?cu) as ?num_cultures) \n",
    "WHERE { \n",
    "\n",
    "?as  wdt:P2596 ?cu ;              # ?cu --> cultures\n",
    "     wdt:P17 ?c  .                # ?c --> country\n",
    "?as  wdt:P31 wd:Q839954  .\n",
    "\n",
    "?as <http://schema.org/name> ?asname .\n",
    "?c <http://schema.org/name> ?cname .\n",
    "\n",
    "} \n",
    "ORDER BY DESC (?num_cultures)\n",
    "LIMIT 3\n",
    "\"\"\"\n",
    "\n",
    "print(\"Results\")\n",
    "run_query(queryString)"
   ]
  },
  {
   "cell_type": "code",
   "execution_count": null,
   "id": "87959a68-a256-42c1-9456-50fe35a42b5e",
   "metadata": {},
   "outputs": [],
   "source": [
    "#\n",
    "#"
   ]
  },
  {
   "cell_type": "markdown",
   "id": "b8eda833-eda2-4dbc-9ec9-237a61d9faaa",
   "metadata": {},
   "source": [
    "## Workload 4.4"
   ]
  },
  {
   "cell_type": "code",
   "execution_count": null,
   "id": "95d9c4aa-cb12-4e94-9c7a-dd4a50a9015e",
   "metadata": {},
   "outputs": [],
   "source": [
    "# 4.4 If you are interested in visiting some sites, which country would you pick? Based on what criteria?"
   ]
  },
  {
   "cell_type": "code",
   "execution_count": 6,
   "id": "74340ef4-8fc7-46f3-afba-8fdf1cf77cb0",
   "metadata": {},
   "outputs": [],
   "source": [
    "# Maybe I'll decide a country linked to his number of archaeological sites, museum, churches and theaters. "
   ]
  },
  {
   "cell_type": "code",
   "execution_count": null,
   "id": "e3901faa-ead1-4f22-8a32-f5d54e43132c",
   "metadata": {},
   "outputs": [],
   "source": [
    "# An other thing can be to look the site's culture, beacuse if I know the story, it can be more interesting. "
   ]
  }
 ],
 "metadata": {
  "kernelspec": {
   "display_name": "Python 3 (ipykernel)",
   "language": "python",
   "name": "python3"
  },
  "language_info": {
   "codemirror_mode": {
    "name": "ipython",
    "version": 3
   },
   "file_extension": ".py",
   "mimetype": "text/x-python",
   "name": "python",
   "nbconvert_exporter": "python",
   "pygments_lexer": "ipython3",
   "version": "3.7.10"
  }
 },
 "nbformat": 4,
 "nbformat_minor": 5
}
