{
 "cells": [
  {
   "cell_type": "markdown",
   "id": "7034c3bf-6eb0-4418-8687-7b9d2a501103",
   "metadata": {},
   "source": [
    "# General instructions\n",
    "\n",
    "The goal of the project is to materialize a set of **exploratory workloads** over a real-world, large-scale,  open-domain KG: [WikiData](https://www.wikidata.org/wiki/Wikidata:Main_Page)\n",
    "\n",
    "An exploratory workload  is composed by a set of queries, where each query is related to the information obtained previously.\n",
    "\n",
    "An exploratory workload starts with a usually vague, open ended question, and does not assume the person issuing the workload has a clear understanding of the data contained in the target database or its structure.\n",
    "\n",
    "Remeber that:\n",
    "\n",
    "1. All the queries must run in the python notebook\n",
    "2. You can use classes and properties only if you find them via a SPARQL query that must be present in the notebook\n",
    "3. You do not delete useless queries. Keep everything that is synthatically valid \n",
    "\n",
    "```\n",
    "?p <http://schema.org/name> ?name .\n",
    "```\n",
    "    \n",
    "is the BGP returning a human-readable name of a property or a class in Wikidata.\n",
    "    \n",
    "    "
   ]
  },
  {
   "cell_type": "code",
   "execution_count": 1,
   "id": "3605c9d5-5371-49a5-be8d-d66e8f417139",
   "metadata": {},
   "outputs": [],
   "source": [
    "## SETUP used later\n",
    "\n",
    "from SPARQLWrapper import SPARQLWrapper, JSON\n",
    "\n",
    "\n",
    "prefixString = \"\"\"\n",
    "##-d0ebe8389f-##\n",
    "PREFIX wd: <http://www.wikidata.org/entity/> \n",
    "PREFIX wdt: <http://www.wikidata.org/prop/direct/> \n",
    "PREFIX sc: <http://schema.org/>\n",
    "\"\"\"\n",
    "\n",
    "# select and construct queries\n",
    "def run_query(queryString):\n",
    "    to_run = prefixString + \"\\n\" + queryString\n",
    "\n",
    "    sparql = SPARQLWrapper(\"http://a256-gc1-02.srv.aau.dk:5820/sparql\")\n",
    "    sparql.setTimeout(300)\n",
    "    sparql.setReturnFormat(JSON)\n",
    "    sparql.setQuery(to_run)\n",
    "\n",
    "    try :\n",
    "       results = sparql.query()\n",
    "       json_results = results.convert()\n",
    "       if len(json_results['results']['bindings'])==0:\n",
    "          print(\"Empty\")\n",
    "          return 0\n",
    "    \n",
    "       for bindings in json_results['results']['bindings']:\n",
    "          print( [ (var, value['value'])  for var, value in bindings.items() ] )\n",
    "\n",
    "       return len(json_results['results']['bindings'])\n",
    "\n",
    "    except Exception as e :\n",
    "        print(\"The operation failed\", e)\n",
    "    \n",
    "# ASk queries\n",
    "def run_ask_query(queryString):\n",
    "    to_run = prefixString + \"\\n\" + queryString\n",
    "\n",
    "    sparql = SPARQLWrapper(\"http://a256-gc1-02.srv.aau.dk:5820/sparql\")\n",
    "    sparql.setTimeout(300)\n",
    "    sparql.setReturnFormat(JSON)\n",
    "    sparql.setQuery(to_run)\n",
    "\n",
    "    try :\n",
    "        return sparql.query().convert()\n",
    "\n",
    "    except Exception as e :\n",
    "        print(\"The operation failed\", e)\n"
   ]
  },
  {
   "cell_type": "markdown",
   "id": "d477a59c-a68c-4c8f-9f97-8ca5294d7d27",
   "metadata": {},
   "source": [
    "# Sport Workflow Series (\"FIFA World Cup events explorative search\") \n",
    "\n",
    "Consider the following exploratory information need:\n",
    "\n",
    "> Explore the participants and winners of different editions of the FIFA World Cup"
   ]
  },
  {
   "cell_type": "markdown",
   "id": "4a45c0ba-f79e-441d-bec5-84401b09db70",
   "metadata": {},
   "source": [
    "## Useful URIs for the current workflow\n",
    "\n",
    "\n",
    "The following are given:\n",
    "\n",
    "| IRI           | Description    | Role      |\n",
    "| -----------   | -----------    |-----------|\n",
    "| `wdt:P1647`   | subproperty    | predicate |\n",
    "| `wdt:P31`     | instance of    | predicate |\n",
    "| `wdt:P106`    | profession     | predicate | \n",
    "| `wdt:P279`    | subclass       | predicate |\n",
    "| `wdt:P27`     | nationality    | predicate |\n",
    "| `wdt:P1532`   | country of sport    | predicate |\n",
    "| `wd:Q29`      | Spain           | node |\n",
    "| `wd:Q42267`   | Spain national football team | node |\n",
    "| `wd:Q19317`   | FIFA World Cup  | node |\n",
    "| `wd:Q176883`  | 2010 FIFA World cup  | node |\n",
    "| `wd:Q208401`  | 2010 FIFA World Cup Final | node      |\n",
    "| `wd:Q6979593`  |national football team | node      |\n",
    "\n",
    "\n",
    "Also consider\n",
    "\n",
    "```\n",
    "?a wdt:P31 wd:Q6979593\n",
    "```\n",
    "\n",
    "is the BGP to retrieve all the  **national footbal teams**\n"
   ]
  },
  {
   "cell_type": "markdown",
   "id": "7af439fb-96e4-4dbb-a381-f19afab79f86",
   "metadata": {
    "tags": []
   },
   "source": [
    "## Workload Goals\n",
    "\n",
    "1. Identify the BGP for connecting national football teams with the participations in the finals or in the world cups\n",
    "\n",
    "2. Identify the BGP that connects a country with a national footbal team or as a location to a world cup\n",
    "\n",
    "3. In which countries took place a FIFA world cup or world cup final? With how many participants?\n",
    "\n",
    "4. Compare number of participants and winners of different world cups\n",
    " \n",
    "   4.1 How many times each country participated in a world cup?\n",
    "   \n",
    "   4.2 Which country participated in the most finals? Which country won the most finals?\n",
    "   \n",
    "   4.3 Who participated in the most world cups among Italy, France, Spain, and Germany?\n"
   ]
  },
  {
   "cell_type": "code",
   "execution_count": 1,
   "id": "24a853ab-830c-422c-afd3-e9e015b8b8ed",
   "metadata": {},
   "outputs": [],
   "source": [
    "# start your workflow here"
   ]
  },
  {
   "cell_type": "code",
   "execution_count": 2,
   "id": "ade01416-92e7-4ad7-b9a9-b8fb330750dc",
   "metadata": {},
   "outputs": [
    {
     "name": "stdout",
     "output_type": "stream",
     "text": [
      "Results\n",
      "[('callret-0', '1220')]\n"
     ]
    },
    {
     "data": {
      "text/plain": [
       "1"
      ]
     },
     "execution_count": 2,
     "metadata": {},
     "output_type": "execute_result"
    }
   ],
   "source": [
    "queryString = \"\"\"\n",
    "SELECT COUNT(*)\n",
    "WHERE { \n",
    "\n",
    "?a wdt:P31 wd:Q6979593\n",
    "\n",
    "} \n",
    "\"\"\"\n",
    "\n",
    "print(\"Results\")\n",
    "run_query(queryString)"
   ]
  },
  {
   "cell_type": "markdown",
   "id": "5926c26c-d73a-48ad-bde3-ceb3fde6507d",
   "metadata": {
    "tags": []
   },
   "source": [
    "## World Cup and World Cup Finals (Football National Teams)\n",
    "This section contains the queries used to answer the first question: _Identify the BGP for connecting national football teams with the participations in the finals or in the world cups_"
   ]
  },
  {
   "cell_type": "markdown",
   "id": "204599dd-9ff9-4282-aa03-c9088223d650",
   "metadata": {
    "tags": []
   },
   "source": [
    "### BGP for obtaining all the editions of the FIFA World Cup\n",
    "The first thing I need to answer the queries are the FIFA World Cups. I check if 2010 FIFA World Cup (wd:Q176883) is an instance of World Cup (wd:Q19317)."
   ]
  },
  {
   "cell_type": "code",
   "execution_count": 3,
   "id": "ae15a42a-3d89-4b81-88ea-c5fb5c30492f",
   "metadata": {},
   "outputs": [
    {
     "name": "stdout",
     "output_type": "stream",
     "text": [
      "Results\n",
      "[('i', 'http://www.wikidata.org/entity/Q27020041'), ('instanceOf', 'sports season')]\n"
     ]
    },
    {
     "data": {
      "text/plain": [
       "1"
      ]
     },
     "execution_count": 3,
     "metadata": {},
     "output_type": "execute_result"
    }
   ],
   "source": [
    "queryString = \"\"\"\n",
    "SELECT ?i ?instanceOf\n",
    "WHERE { \n",
    "\n",
    "wd:Q176883 wdt:P31 ?i.\n",
    "\n",
    "?i <http://schema.org/name> ?instanceOf.\n",
    "\n",
    "} \n",
    "\"\"\"\n",
    "\n",
    "print(\"Results\")\n",
    "run_query(queryString)"
   ]
  },
  {
   "cell_type": "markdown",
   "id": "586b7cd6-ce2a-411a-aca8-c12d11b3b9a2",
   "metadata": {},
   "source": [
    "Since my assumption was wrong I look for a connection between the two nodes in both directions."
   ]
  },
  {
   "cell_type": "code",
   "execution_count": 4,
   "id": "7e86c37c-3d0e-4907-a442-ea76ee09a0f7",
   "metadata": {},
   "outputs": [
    {
     "name": "stdout",
     "output_type": "stream",
     "text": [
      "Results\n",
      "[('p', 'http://www.wikidata.org/prop/direct/P3450'), ('pname', 'sports season of league or competition')]\n"
     ]
    },
    {
     "data": {
      "text/plain": [
       "1"
      ]
     },
     "execution_count": 4,
     "metadata": {},
     "output_type": "execute_result"
    }
   ],
   "source": [
    "queryString = \"\"\"\n",
    "SELECT DISTINCT ?p ?pname\n",
    "WHERE { \n",
    "\n",
    "wd:Q176883 ?p wd:Q19317.\n",
    "\n",
    "?p <http://schema.org/name> ?pname.\n",
    "\n",
    "} \n",
    "\"\"\"\n",
    "\n",
    "print(\"Results\")\n",
    "run_query(queryString)"
   ]
  },
  {
   "cell_type": "markdown",
   "id": "018b58e4-02c0-495d-9140-9f3efcf4eb95",
   "metadata": {},
   "source": [
    "I discovered the property \"sports season of league or competition\" (wdt:P3450). I now check for the other direction."
   ]
  },
  {
   "cell_type": "code",
   "execution_count": 5,
   "id": "67f4b920-d406-4f64-829e-1039fa1c541a",
   "metadata": {},
   "outputs": [
    {
     "name": "stdout",
     "output_type": "stream",
     "text": [
      "Results\n",
      "[('p', 'http://www.wikidata.org/prop/direct/P527'), ('pname', 'has part')]\n"
     ]
    },
    {
     "data": {
      "text/plain": [
       "1"
      ]
     },
     "execution_count": 5,
     "metadata": {},
     "output_type": "execute_result"
    }
   ],
   "source": [
    "queryString = \"\"\"\n",
    "SELECT DISTINCT ?p ?pname\n",
    "WHERE { \n",
    "\n",
    "wd:Q19317 ?p wd:Q176883.\n",
    "\n",
    "?p <http://schema.org/name> ?pname.\n",
    "\n",
    "} \n",
    "\"\"\"\n",
    "\n",
    "print(\"Results\")\n",
    "run_query(queryString)"
   ]
  },
  {
   "cell_type": "markdown",
   "id": "98f16016-40fc-4084-8407-bfa37730ed51",
   "metadata": {},
   "source": [
    "I found the property \"has part\" (wdt:P527). First I check if the two properties return the information I am looking for and if that is the case for both of them I then check if they return the same results.\n",
    "\n",
    "Firstly I check if property \"sports season of league or competition\" (wdt:P3450) returns all editions of the FIFA World Cup."
   ]
  },
  {
   "cell_type": "code",
   "execution_count": 6,
   "id": "c809c1f0-3f17-4374-bca6-44340b39372b",
   "metadata": {},
   "outputs": [
    {
     "name": "stdout",
     "output_type": "stream",
     "text": [
      "Results\n",
      "[('edition', '1930 FIFA World Cup')]\n",
      "[('edition', '1934 FIFA World Cup')]\n",
      "[('edition', '1938 FIFA World Cup')]\n",
      "[('edition', '1942 FIFA World Cup')]\n",
      "[('edition', '1946 FIFA World Cup')]\n",
      "[('edition', '1950 FIFA World Cup')]\n",
      "[('edition', '1954 FIFA World Cup')]\n",
      "[('edition', '1958 FIFA World Cup')]\n",
      "[('edition', '1962 FIFA World Cup')]\n",
      "[('edition', '1966 FIFA World Cup')]\n",
      "[('edition', '1970 FIFA World Cup')]\n",
      "[('edition', '1974 FIFA World Cup')]\n",
      "[('edition', '1978 FIFA World Cup')]\n",
      "[('edition', '1982 FIFA World Cup')]\n",
      "[('edition', '1986 FIFA World Cup')]\n",
      "[('edition', '1990 FIFA World Cup')]\n",
      "[('edition', '1994 FIFA World Cup')]\n",
      "[('edition', '1998 FIFA World Cup')]\n",
      "[('edition', '2002 FIFA World Cup')]\n",
      "[('edition', '2006 FIFA World Cup')]\n",
      "[('edition', '2010 FIFA World Cup')]\n",
      "[('edition', '2014 FIFA World Cup')]\n",
      "[('edition', '2018 FIFA World Cup')]\n",
      "[('edition', '2022 FIFA World Cup')]\n",
      "[('edition', '2026 FIFA World Cup')]\n",
      "[('edition', '2030 FIFA World Cup')]\n",
      "[('edition', '2034 FIFA World Cup')]\n"
     ]
    },
    {
     "data": {
      "text/plain": [
       "27"
      ]
     },
     "execution_count": 6,
     "metadata": {},
     "output_type": "execute_result"
    }
   ],
   "source": [
    "queryString = \"\"\"\n",
    "SELECT DISTINCT ?edition\n",
    "WHERE { \n",
    "\n",
    "?s wdt:P3450 wd:Q19317.\n",
    "\n",
    "?s <http://schema.org/name> ?edition.\n",
    "\n",
    "} \n",
    "ORDER BY ?edition\n",
    "\"\"\"\n",
    "\n",
    "print(\"Results\")\n",
    "run_query(queryString)"
   ]
  },
  {
   "cell_type": "markdown",
   "id": "5219ab7a-c86c-4537-8436-3f8b00fb197d",
   "metadata": {},
   "source": [
    "I now do the same thing for property \"has part\" (wdt:P527)."
   ]
  },
  {
   "cell_type": "code",
   "execution_count": 7,
   "id": "46bbee0b-8e2a-4a15-a437-1dd7822e179f",
   "metadata": {},
   "outputs": [
    {
     "name": "stdout",
     "output_type": "stream",
     "text": [
      "Results\n",
      "[('edition', '1930 FIFA World Cup')]\n",
      "[('edition', '1934 FIFA World Cup')]\n",
      "[('edition', '1938 FIFA World Cup')]\n",
      "[('edition', '1942 FIFA World Cup')]\n",
      "[('edition', '1946 FIFA World Cup')]\n",
      "[('edition', '1950 FIFA World Cup')]\n",
      "[('edition', '1954 FIFA World Cup')]\n",
      "[('edition', '1958 FIFA World Cup')]\n",
      "[('edition', '1962 FIFA World Cup')]\n",
      "[('edition', '1966 FIFA World Cup')]\n",
      "[('edition', '1970 FIFA World Cup')]\n",
      "[('edition', '1974 FIFA World Cup')]\n",
      "[('edition', '1978 FIFA World Cup')]\n",
      "[('edition', '1982 FIFA World Cup')]\n",
      "[('edition', '1986 FIFA World Cup')]\n",
      "[('edition', '1990 FIFA World Cup')]\n",
      "[('edition', '1994 FIFA World Cup')]\n",
      "[('edition', '1998 FIFA World Cup')]\n",
      "[('edition', '2002 FIFA World Cup')]\n",
      "[('edition', '2006 FIFA World Cup')]\n",
      "[('edition', '2010 FIFA World Cup')]\n",
      "[('edition', '2014 FIFA World Cup')]\n",
      "[('edition', '2018 FIFA World Cup')]\n",
      "[('edition', '2022 FIFA World Cup')]\n",
      "[('edition', '2026 FIFA World Cup')]\n",
      "[('edition', '2030 FIFA World Cup')]\n",
      "[('edition', '2034 FIFA World Cup')]\n"
     ]
    },
    {
     "data": {
      "text/plain": [
       "27"
      ]
     },
     "execution_count": 7,
     "metadata": {},
     "output_type": "execute_result"
    }
   ],
   "source": [
    "queryString = \"\"\"\n",
    "SELECT DISTINCT ?edition\n",
    "WHERE { \n",
    "\n",
    "wd:Q19317 wdt:P527 ?o.\n",
    "\n",
    "?o <http://schema.org/name> ?edition.\n",
    "\n",
    "} \n",
    "ORDER BY ?edition\n",
    "\"\"\"\n",
    "\n",
    "print(\"Results\")\n",
    "run_query(queryString)"
   ]
  },
  {
   "cell_type": "markdown",
   "id": "e7954132-d929-49c5-a272-3efb971c2ea9",
   "metadata": {},
   "source": [
    "The two properties are symmetric, i.e. they return the same results, therefore I can use either of them to return all the FIFA World Cup editions. \n",
    "\n",
    "I notice there are also future editions therefore I check if each FIFA World Cup edition has a property about the year it took or it will take place in order to filter out future editions."
   ]
  },
  {
   "cell_type": "code",
   "execution_count": 8,
   "id": "60e21441-6d4b-41ce-9e5a-de9699376275",
   "metadata": {},
   "outputs": [
    {
     "name": "stdout",
     "output_type": "stream",
     "text": [
      "Results\n",
      "[('p', 'http://www.wikidata.org/prop/direct/P1617'), ('pname', 'BBC Things ID')]\n",
      "[('p', 'http://www.wikidata.org/prop/direct/P2581'), ('pname', 'BabelNet ID')]\n",
      "[('p', 'http://www.wikidata.org/prop/direct/P268'), ('pname', 'Bibliothèque nationale de France ID')]\n",
      "[('p', 'http://www.wikidata.org/prop/direct/P373'), ('pname', 'Commons category')]\n",
      "[('p', 'http://www.wikidata.org/prop/direct/P935'), ('pname', 'Commons gallery')]\n",
      "[('p', 'http://www.wikidata.org/prop/direct/P3509'), ('pname', 'Dagens Nyheter topic ID')]\n",
      "[('p', 'http://www.wikidata.org/prop/direct/P3219'), ('pname', 'Encyclopædia Universalis ID')]\n",
      "[('p', 'http://www.wikidata.org/prop/direct/P7829'), ('pname', 'English Vikidia ID')]\n",
      "[('p', 'http://www.wikidata.org/prop/direct/P2013'), ('pname', 'Facebook ID')]\n",
      "[('p', 'http://www.wikidata.org/prop/direct/P6262'), ('pname', 'Fandom article ID')]\n",
      "[('p', 'http://www.wikidata.org/prop/direct/P646'), ('pname', 'Freebase ID')]\n",
      "[('p', 'http://www.wikidata.org/prop/direct/P7818'), ('pname', 'French Vikidia ID')]\n",
      "[('p', 'http://www.wikidata.org/prop/direct/P227'), ('pname', 'GND ID')]\n",
      "[('p', 'http://www.wikidata.org/prop/direct/P9100'), ('pname', 'GitHub topic')]\n",
      "[('p', 'http://www.wikidata.org/prop/direct/P4431'), ('pname', 'Google Doodle')]\n",
      "[('p', 'http://www.wikidata.org/prop/direct/P2671'), ('pname', 'Google Knowledge Graph ID')]\n",
      "[('p', 'http://www.wikidata.org/prop/direct/P2924'), ('pname', 'Great Russian Encyclopedia Online ID')]\n",
      "[('p', 'http://www.wikidata.org/prop/direct/P3106'), ('pname', 'Guardian topic ID')]\n",
      "[('p', 'http://www.wikidata.org/prop/direct/P345'), ('pname', 'IMDb ID')]\n",
      "[('p', 'http://www.wikidata.org/prop/direct/P269'), ('pname', 'IdRef ID')]\n",
      "[('p', 'http://www.wikidata.org/prop/direct/P7822'), ('pname', 'Italian Vikidia ID')]\n",
      "[('p', 'http://www.wikidata.org/prop/direct/P244'), ('pname', 'Library of Congress authority ID')]\n",
      "[('p', 'http://www.wikidata.org/prop/direct/P7140'), ('pname', 'München Wiki article ID')]\n",
      "[('p', 'http://www.wikidata.org/prop/direct/P691'), ('pname', 'NKCR AUT ID')]\n",
      "[('p', 'http://www.wikidata.org/prop/direct/P8885'), ('pname', 'Namuwiki ID')]\n",
      "[('p', 'http://www.wikidata.org/prop/direct/P5162'), ('pname', 'OnsOranje tournament ID')]\n",
      "[('p', 'http://www.wikidata.org/prop/direct/P3417'), ('pname', 'Quora topic ID')]\n",
      "[('p', 'http://www.wikidata.org/prop/direct/P454'), ('pname', 'Structurae structure ID')]\n",
      "[('p', 'http://www.wikidata.org/prop/direct/P214'), ('pname', 'VIAF ID')]\n",
      "[('p', 'http://www.wikidata.org/prop/direct/P7859'), ('pname', 'WorldCat Identities ID')]\n",
      "[('p', 'http://www.wikidata.org/prop/direct/P3414'), ('pname', 'Yle Areena item ID')]\n",
      "[('p', 'http://www.wikidata.org/prop/direct/P1110'), ('pname', 'attendance')]\n",
      "[('p', 'http://www.wikidata.org/prop/direct/P2094'), ('pname', 'competition class')]\n",
      "[('p', 'http://www.wikidata.org/prop/direct/P17'), ('pname', 'country')]\n",
      "[('p', 'http://www.wikidata.org/prop/direct/P393'), ('pname', 'edition number')]\n",
      "[('p', 'http://www.wikidata.org/prop/direct/P582'), ('pname', 'end time')]\n",
      "[('p', 'http://www.wikidata.org/prop/direct/P3967'), ('pname', 'final event')]\n",
      "[('p', 'http://www.wikidata.org/prop/direct/P155'), ('pname', 'follows')]\n",
      "[('p', 'http://www.wikidata.org/prop/direct/P527'), ('pname', 'has part')]\n",
      "[('p', 'http://www.wikidata.org/prop/direct/P2572'), ('pname', 'hashtag')]\n",
      "[('p', 'http://www.wikidata.org/prop/direct/P18'), ('pname', 'image')]\n",
      "[('p', 'http://www.wikidata.org/prop/direct/P31'), ('pname', 'instance of')]\n",
      "[('p', 'http://www.wikidata.org/prop/direct/P131'), ('pname', 'located in the administrative territorial entity')]\n",
      "[('p', 'http://www.wikidata.org/prop/direct/P276'), ('pname', 'location')]\n",
      "[('p', 'http://www.wikidata.org/prop/direct/P242'), ('pname', 'locator map image')]\n",
      "[('p', 'http://www.wikidata.org/prop/direct/P154'), ('pname', 'logo image')]\n",
      "[('p', 'http://www.wikidata.org/prop/direct/P822'), ('pname', 'mascot')]\n",
      "[('p', 'http://www.wikidata.org/prop/direct/P1546'), ('pname', 'motto')]\n",
      "[('p', 'http://www.wikidata.org/prop/direct/P1350'), ('pname', 'number of matches played/races/starts')]\n",
      "[('p', 'http://www.wikidata.org/prop/direct/P1132'), ('pname', 'number of participants')]\n",
      "[('p', 'http://www.wikidata.org/prop/direct/P1351'), ('pname', 'number of points/goals/set scored')]\n",
      "[('p', 'http://www.wikidata.org/prop/direct/P856'), ('pname', 'official website')]\n",
      "[('p', 'http://www.wikidata.org/prop/direct/P664'), ('pname', 'organizer')]\n",
      "[('p', 'http://www.wikidata.org/prop/direct/P948'), ('pname', 'page banner')]\n",
      "[('p', 'http://www.wikidata.org/prop/direct/P710'), ('pname', 'participant')]\n",
      "[('p', 'http://www.wikidata.org/prop/direct/P1923'), ('pname', 'participating team')]\n",
      "[('p', 'http://www.wikidata.org/prop/direct/P585'), ('pname', 'point in time')]\n",
      "[('p', 'http://www.wikidata.org/prop/direct/P4967'), ('pname', 'prerequisite')]\n",
      "[('p', 'http://www.wikidata.org/prop/direct/P443'), ('pname', 'pronunciation audio')]\n",
      "[('p', 'http://www.wikidata.org/prop/direct/P859'), ('pname', 'sponsor')]\n",
      "[('p', 'http://www.wikidata.org/prop/direct/P641'), ('pname', 'sport')]\n",
      "[('p', 'http://www.wikidata.org/prop/direct/P3450'), ('pname', 'sports season of league or competition')]\n",
      "[('p', 'http://www.wikidata.org/prop/direct/P580'), ('pname', 'start time')]\n",
      "[('p', 'http://www.wikidata.org/prop/direct/P3279'), ('pname', 'statistical leader')]\n",
      "[('p', 'http://www.wikidata.org/prop/direct/P1151'), ('pname', \"topic's main Wikimedia portal\")]\n",
      "[('p', 'http://www.wikidata.org/prop/direct/P910'), ('pname', \"topic's main category\")]\n",
      "[('p', 'http://www.wikidata.org/prop/direct/P1424'), ('pname', \"topic's main template\")]\n",
      "[('p', 'http://www.wikidata.org/prop/direct/P1346'), ('pname', 'winner')]\n"
     ]
    },
    {
     "data": {
      "text/plain": [
       "68"
      ]
     },
     "execution_count": 8,
     "metadata": {},
     "output_type": "execute_result"
    }
   ],
   "source": [
    "queryString = \"\"\"\n",
    "SELECT DISTINCT ?p ?pname\n",
    "WHERE { \n",
    "\n",
    "?s wdt:P3450 wd:Q19317.\n",
    "\n",
    "?s ?p ?o.\n",
    "\n",
    "?p <http://schema.org/name> ?pname.\n",
    "\n",
    "} \n",
    "ORDER BY ?pname\n",
    "\"\"\"\n",
    "\n",
    "print(\"Results\")\n",
    "run_query(queryString)"
   ]
  },
  {
   "cell_type": "markdown",
   "id": "52f5ca47-1a9c-42c4-a881-9e5edb5371e2",
   "metadata": {},
   "source": [
    "Interesting properties retrieved:\n",
    "\n",
    "| IRI           | Description   | Role      |\n",
    "| -----------   | -----------   |-----------|\n",
    "| `wdt:P17`   | country  | predicate |\n",
    "| `wdt:P393`     | edition   | predicate |\n",
    "| `wdt:P582`    | end time    | predicate | \n",
    "| `wdt:P3967`    | final event    | predicate | \n",
    "| `wdt:P276`    | location    | predicate | \n",
    "| `wdt:P1350`    | number of matches    | predicate | \n",
    "| `wdt:P1351`    | number of points/goals/set scored    | predicate | \n",
    "| `wdt:P1132`    | number of participants   | predicate | \n",
    "| `wdt:P710`    | participant    | predicate | \n",
    "| `wdt:P1923`    | participating team   | predicate | \n",
    "| `wdt:P580`    | start time    | predicate | \n",
    "| `wdt:P1346`    | winner    | predicate | \n",
    "\n",
    "As far as temporal information is concerned, in order to filter out future editions I can check if the start time is less than NOW(). Before doing that though, I check if future editions have such property."
   ]
  },
  {
   "cell_type": "code",
   "execution_count": 9,
   "id": "b1d4107f-639f-41b6-bdb4-f0363f9e0919",
   "metadata": {},
   "outputs": [
    {
     "name": "stdout",
     "output_type": "stream",
     "text": [
      "Results\n",
      "[('s', 'http://www.wikidata.org/entity/Q203851'), ('sname', '1942 FIFA World Cup')]\n",
      "[('s', 'http://www.wikidata.org/entity/Q65273310'), ('sname', '1946 FIFA World Cup')]\n"
     ]
    },
    {
     "data": {
      "text/plain": [
       "2"
      ]
     },
     "execution_count": 9,
     "metadata": {},
     "output_type": "execute_result"
    }
   ],
   "source": [
    "queryString = \"\"\"\n",
    "SELECT ?s ?sname\n",
    "WHERE { \n",
    "\n",
    "?s wdt:P3450 wd:Q19317;\n",
    "    <http://schema.org/name> ?sname.\n",
    "\n",
    "FILTER NOT EXISTS {?s wdt:P580 ?o.}\n",
    "} \n",
    "ORDER BY ?sname\n",
    "\"\"\"\n",
    "\n",
    "print(\"Results\")\n",
    "run_query(queryString)"
   ]
  },
  {
   "cell_type": "markdown",
   "id": "7dd09f2e-24ae-4972-8977-ed0ce83ae402",
   "metadata": {},
   "source": [
    "These two editions did not actually take place therefore I can filter them out as well. Since future editions have such property I can return all past editions of the FIFA World Cup with the following query."
   ]
  },
  {
   "cell_type": "code",
   "execution_count": 10,
   "id": "50f75400-9585-4b9f-b488-34c177dd389c",
   "metadata": {},
   "outputs": [
    {
     "name": "stdout",
     "output_type": "stream",
     "text": [
      "Results\n",
      "[('s', 'http://www.wikidata.org/entity/Q48432'), ('sname', '1930 FIFA World Cup')]\n",
      "[('s', 'http://www.wikidata.org/entity/Q1477177'), ('sname', '1934 FIFA World Cup')]\n",
      "[('s', 'http://www.wikidata.org/entity/Q131591'), ('sname', '1938 FIFA World Cup')]\n",
      "[('s', 'http://www.wikidata.org/entity/Q132515'), ('sname', '1950 FIFA World Cup')]\n",
      "[('s', 'http://www.wikidata.org/entity/Q131075'), ('sname', '1954 FIFA World Cup')]\n",
      "[('s', 'http://www.wikidata.org/entity/Q132533'), ('sname', '1958 FIFA World Cup')]\n",
      "[('s', 'http://www.wikidata.org/entity/Q160813'), ('sname', '1962 FIFA World Cup')]\n",
      "[('s', 'http://www.wikidata.org/entity/Q134202'), ('sname', '1966 FIFA World Cup')]\n",
      "[('s', 'http://www.wikidata.org/entity/Q132664'), ('sname', '1970 FIFA World Cup')]\n",
      "[('s', 'http://www.wikidata.org/entity/Q166121'), ('sname', '1974 FIFA World Cup')]\n",
      "[('s', 'http://www.wikidata.org/entity/Q46943'), ('sname', '1978 FIFA World Cup')]\n",
      "[('s', 'http://www.wikidata.org/entity/Q46934'), ('sname', '1982 FIFA World Cup')]\n",
      "[('s', 'http://www.wikidata.org/entity/Q46938'), ('sname', '1986 FIFA World Cup')]\n",
      "[('s', 'http://www.wikidata.org/entity/Q132529'), ('sname', '1990 FIFA World Cup')]\n",
      "[('s', 'http://www.wikidata.org/entity/Q101751'), ('sname', '1994 FIFA World Cup')]\n",
      "[('s', 'http://www.wikidata.org/entity/Q101730'), ('sname', '1998 FIFA World Cup')]\n",
      "[('s', 'http://www.wikidata.org/entity/Q47735'), ('sname', '2002 FIFA World Cup')]\n",
      "[('s', 'http://www.wikidata.org/entity/Q37285'), ('sname', '2006 FIFA World Cup')]\n",
      "[('s', 'http://www.wikidata.org/entity/Q176883'), ('sname', '2010 FIFA World Cup')]\n",
      "[('s', 'http://www.wikidata.org/entity/Q79859'), ('sname', '2014 FIFA World Cup')]\n",
      "[('s', 'http://www.wikidata.org/entity/Q170645'), ('sname', '2018 FIFA World Cup')]\n"
     ]
    },
    {
     "data": {
      "text/plain": [
       "21"
      ]
     },
     "execution_count": 10,
     "metadata": {},
     "output_type": "execute_result"
    }
   ],
   "source": [
    "queryString = \"\"\"\n",
    "SELECT ?s ?sname\n",
    "WHERE { \n",
    "\n",
    "?s wdt:P3450 wd:Q19317;\n",
    "    wdt:P580 ?start;\n",
    "    <http://schema.org/name> ?sname.\n",
    "    \n",
    "FILTER(?start < NOW()).\n",
    "\n",
    "}\n",
    "ORDER BY ?sname\n",
    "\"\"\"\n",
    "\n",
    "print(\"Results\")\n",
    "run_query(queryString)"
   ]
  },
  {
   "cell_type": "markdown",
   "id": "f3eac11a-7c71-422d-8633-1ccda7f19044",
   "metadata": {},
   "source": [
    "Since I retrieved some interesting property I decide to run a query to order the editions based on the average number of goals scored during the turnament. In fact, I recall I discovered the properties \"number of matches\" (wdt:P1350) and \"number of points/goals/set scored\" (wdt:P1351)."
   ]
  },
  {
   "cell_type": "code",
   "execution_count": 11,
   "id": "fc1a2bab-e40c-43e6-a485-ff492861f3c7",
   "metadata": {},
   "outputs": [
    {
     "name": "stdout",
     "output_type": "stream",
     "text": [
      "Results\n",
      "[('sname', '1954 FIFA World Cup'), ('matches', '26'), ('goals', '140'), ('score', '5.384615384615385')]\n",
      "[('sname', '1938 FIFA World Cup'), ('matches', '18'), ('goals', '84'), ('score', '4.666666666666667')]\n",
      "[('sname', '1934 FIFA World Cup'), ('matches', '17'), ('goals', '70'), ('score', '4.117647058823529')]\n",
      "[('sname', '1950 FIFA World Cup'), ('matches', '22'), ('goals', '88'), ('score', '4')]\n",
      "[('sname', '1930 FIFA World Cup'), ('matches', '18'), ('goals', '70'), ('score', '3.888888888888889')]\n",
      "[('sname', '1958 FIFA World Cup'), ('matches', '35'), ('goals', '126'), ('score', '3.6')]\n",
      "[('sname', '1970 FIFA World Cup'), ('matches', '32'), ('goals', '95'), ('score', '2.96875')]\n",
      "[('sname', '1982 FIFA World Cup'), ('matches', '52'), ('goals', '146'), ('score', '2.807692307692308')]\n",
      "[('sname', '1966 FIFA World Cup'), ('matches', '32'), ('goals', '89'), ('score', '2.78125')]\n",
      "[('sname', '1962 FIFA World Cup'), ('matches', '32'), ('goals', '89'), ('score', '2.78125')]\n",
      "[('sname', '1994 FIFA World Cup'), ('matches', '52'), ('goals', '141'), ('score', '2.711538461538462')]\n",
      "[('sname', '1978 FIFA World Cup'), ('matches', '38'), ('goals', '102'), ('score', '2.684210526315789')]\n",
      "[('sname', '2014 FIFA World Cup'), ('matches', '64'), ('goals', '171'), ('score', '2.671875')]\n",
      "[('sname', '1998 FIFA World Cup'), ('matches', '64'), ('goals', '171'), ('score', '2.671875')]\n",
      "[('sname', '2018 FIFA World Cup'), ('matches', '64'), ('goals', '169'), ('score', '2.640625')]\n",
      "[('sname', '1974 FIFA World Cup'), ('matches', '38'), ('goals', '97'), ('score', '2.552631578947368')]\n",
      "[('sname', '1986 FIFA World Cup'), ('matches', '52'), ('goals', '132'), ('score', '2.538461538461538')]\n",
      "[('sname', '2002 FIFA World Cup'), ('matches', '64'), ('goals', '161'), ('score', '2.515625')]\n",
      "[('sname', '2006 FIFA World Cup'), ('matches', '64'), ('goals', '147'), ('score', '2.296875')]\n",
      "[('sname', '2010 FIFA World Cup'), ('matches', '64'), ('goals', '145'), ('score', '2.265625')]\n",
      "[('sname', '1990 FIFA World Cup'), ('matches', '52'), ('goals', '115'), ('score', '2.211538461538462')]\n"
     ]
    },
    {
     "data": {
      "text/plain": [
       "21"
      ]
     },
     "execution_count": 11,
     "metadata": {},
     "output_type": "execute_result"
    }
   ],
   "source": [
    "queryString = \"\"\"\n",
    "SELECT ?sname ?matches ?goals (?goals/?matches) AS ?score\n",
    "WHERE { \n",
    "\n",
    "?s wdt:P3450 wd:Q19317;\n",
    "    wdt:P580 ?start;\n",
    "    wdt:P1351 ?goals;\n",
    "    wdt:P1350 ?matches;\n",
    "    <http://schema.org/name> ?sname.\n",
    "    \n",
    "FILTER(?start < NOW()).\n",
    "\n",
    "}\n",
    "ORDER BY DESC(?score)\n",
    "\"\"\"\n",
    "\n",
    "print(\"Results\")\n",
    "run_query(queryString)"
   ]
  },
  {
   "cell_type": "markdown",
   "id": "ce026f21-4d86-489c-8a7b-2de7453eee8a",
   "metadata": {},
   "source": [
    "I discovered they scored 140 goals in the 1954 edition with only 26 matches. The number of goals is similar to the one of the 1994 edition where 141 goals were scored but the number of matches is 52 that is twice as much as in the 1954 edition. That means the teams scored half the amount of goals per match than in the 1954 edition."
   ]
  },
  {
   "cell_type": "markdown",
   "id": "ae7ce39c-24c1-418d-8a64-5ad2d836f83c",
   "metadata": {
    "tags": []
   },
   "source": [
    "### Connection between National Football Teams and FIFA World Cups"
   ]
  },
  {
   "cell_type": "markdown",
   "id": "4e26595e-fe51-4910-8c9d-d6437755db7a",
   "metadata": {},
   "source": [
    "Firstly, I count how many properties there are with a national football team as subject."
   ]
  },
  {
   "cell_type": "code",
   "execution_count": 14,
   "id": "1ce1e907-a208-41e4-a1b9-d3baaf4b264c",
   "metadata": {},
   "outputs": [
    {
     "name": "stdout",
     "output_type": "stream",
     "text": [
      "Results\n",
      "[('subjProps', '126')]\n"
     ]
    },
    {
     "data": {
      "text/plain": [
       "1"
      ]
     },
     "execution_count": 14,
     "metadata": {},
     "output_type": "execute_result"
    }
   ],
   "source": [
    "queryString = \"\"\"\n",
    "SELECT COUNT(DISTINCT ?p) AS ?subjProps\n",
    "WHERE { \n",
    "\n",
    "?ft wdt:P31 wd:Q6979593;\n",
    "    ?p ?o.\n",
    "\n",
    "} \n",
    "\"\"\"\n",
    "\n",
    "print(\"Results\")\n",
    "run_query(queryString)"
   ]
  },
  {
   "cell_type": "markdown",
   "id": "47e29efa-5288-4004-8e9b-c4f89dfec211",
   "metadata": {},
   "source": [
    "Now I count how many properties have a national football team as object."
   ]
  },
  {
   "cell_type": "code",
   "execution_count": 15,
   "id": "1a493fbc-8475-4f32-bba2-219cdb7a9899",
   "metadata": {},
   "outputs": [
    {
     "name": "stdout",
     "output_type": "stream",
     "text": [
      "Results\n",
      "[('objProps', '45')]\n"
     ]
    },
    {
     "data": {
      "text/plain": [
       "1"
      ]
     },
     "execution_count": 15,
     "metadata": {},
     "output_type": "execute_result"
    }
   ],
   "source": [
    "queryString = \"\"\"\n",
    "SELECT COUNT(DISTINCT ?p) AS ?objProps\n",
    "WHERE { \n",
    "\n",
    "?ft wdt:P31 wd:Q6979593.\n",
    "?s ?p ?ft.\n",
    "\n",
    "} \n",
    "\"\"\"\n",
    "\n",
    "print(\"Results\")\n",
    "run_query(queryString)"
   ]
  },
  {
   "cell_type": "markdown",
   "id": "e3def096-f132-442c-8af4-14335ab53426",
   "metadata": {},
   "source": [
    "Since they are not so many I can return all the properties that have a national football team as object. As for the other notebooks, I order the results based on the number of football teams appearing with the same property."
   ]
  },
  {
   "cell_type": "code",
   "execution_count": 17,
   "id": "ee019aef-713c-4ed1-b217-ecacb0846ef0",
   "metadata": {},
   "outputs": [
    {
     "name": "stdout",
     "output_type": "stream",
     "text": [
      "Results\n",
      "[('p', 'http://www.wikidata.org/prop/direct/P54'), ('pname', 'member of sports team'), ('teams', '94684')]\n",
      "[('p', 'http://www.wikidata.org/prop/direct/P1923'), ('pname', 'participating team'), ('teams', '2658')]\n",
      "[('p', 'http://www.wikidata.org/prop/direct/P1346'), ('pname', 'winner'), ('teams', '842')]\n",
      "[('p', 'http://www.wikidata.org/prop/direct/P1830'), ('pname', 'owner of'), ('teams', '609')]\n",
      "[('p', 'http://www.wikidata.org/prop/direct/P6087'), ('pname', 'coach of sports team'), ('teams', '350')]\n",
      "[('p', 'http://www.wikidata.org/prop/direct/P5138'), ('pname', 'season of club or team'), ('teams', '323')]\n",
      "[('p', 'http://www.wikidata.org/prop/direct/P301'), ('pname', \"category's main topic\"), ('teams', '293')]\n",
      "[('p', 'http://www.wikidata.org/prop/direct/P466'), ('pname', 'occupant'), ('teams', '270')]\n",
      "[('p', 'http://www.wikidata.org/prop/direct/P710'), ('pname', 'participant'), ('teams', '229')]\n",
      "[('p', 'http://www.wikidata.org/prop/direct/P1269'), ('pname', 'facet of'), ('teams', '225')]\n",
      "[('p', 'http://www.wikidata.org/prop/direct/P3450'), ('pname', 'sports season of league or competition'), ('teams', '131')]\n",
      "[('p', 'http://www.wikidata.org/prop/direct/P971'), ('pname', 'category combines topics'), ('teams', '113')]\n",
      "[('p', 'http://www.wikidata.org/prop/direct/P279'), ('pname', 'subclass of'), ('teams', '80')]\n",
      "[('p', 'http://www.wikidata.org/prop/direct/P31'), ('pname', 'instance of'), ('teams', '65')]\n",
      "[('p', 'http://www.wikidata.org/prop/direct/P108'), ('pname', 'employer'), ('teams', '30')]\n",
      "[('p', 'http://www.wikidata.org/prop/direct/P106'), ('pname', 'occupation'), ('teams', '22')]\n",
      "[('p', 'http://www.wikidata.org/prop/direct/P1889'), ('pname', 'different from'), ('teams', '21')]\n",
      "[('p', 'http://www.wikidata.org/prop/direct/P805'), ('pname', 'statement is subject of'), ('teams', '18')]\n",
      "[('p', 'http://www.wikidata.org/prop/direct/P175'), ('pname', 'performer'), ('teams', '15')]\n",
      "[('p', 'http://www.wikidata.org/prop/direct/P921'), ('pname', 'main subject'), ('teams', '12')]\n",
      "[('p', 'http://www.wikidata.org/prop/direct/P361'), ('pname', 'part of'), ('teams', '12')]\n",
      "[('p', 'http://www.wikidata.org/prop/direct/P463'), ('pname', 'member of'), ('teams', '11')]\n",
      "[('p', 'http://www.wikidata.org/prop/direct/P1855'), ('pname', 'Wikidata property example'), ('teams', '8')]\n",
      "[('p', 'http://www.wikidata.org/prop/direct/P1344'), ('pname', 'participant in'), ('teams', '8')]\n",
      "[('p', 'http://www.wikidata.org/prop/direct/P17'), ('pname', 'country'), ('teams', '6')]\n",
      "[('p', 'http://www.wikidata.org/prop/direct/P1365'), ('pname', 'replaces'), ('teams', '5')]\n",
      "[('p', 'http://www.wikidata.org/prop/direct/P137'), ('pname', 'operator'), ('teams', '4')]\n",
      "[('p', 'http://www.wikidata.org/prop/direct/P6758'), ('pname', 'supported sports team'), ('teams', '4')]\n",
      "[('p', 'http://www.wikidata.org/prop/direct/P3279'), ('pname', 'statistical leader'), ('teams', '3')]\n",
      "[('p', 'http://www.wikidata.org/prop/direct/P1532'), ('pname', 'country for sport'), ('teams', '3')]\n",
      "[('p', 'http://www.wikidata.org/prop/direct/P1423'), ('pname', 'template has topic'), ('teams', '3')]\n",
      "[('p', 'http://www.wikidata.org/prop/direct/P27'), ('pname', 'country of citizenship'), ('teams', '3')]\n",
      "[('p', 'http://www.wikidata.org/prop/direct/P360'), ('pname', 'is a list of'), ('teams', '3')]\n",
      "[('p', 'http://www.wikidata.org/prop/direct/P1366'), ('pname', 'replaced by'), ('teams', '3')]\n",
      "[('p', 'http://www.wikidata.org/prop/direct/P461'), ('pname', 'opposite of'), ('teams', '2')]\n",
      "[('p', 'http://www.wikidata.org/prop/direct/P495'), ('pname', 'country of origin'), ('teams', '2')]\n",
      "[('p', 'http://www.wikidata.org/prop/direct/P156'), ('pname', 'followed by'), ('teams', '1')]\n",
      "[('p', 'http://www.wikidata.org/prop/direct/P19'), ('pname', 'place of birth'), ('teams', '1')]\n",
      "[('p', 'http://www.wikidata.org/prop/direct/P127'), ('pname', 'owned by'), ('teams', '1')]\n",
      "[('p', 'http://www.wikidata.org/prop/direct/P831'), ('pname', 'parent club'), ('teams', '1')]\n",
      "[('p', 'http://www.wikidata.org/prop/direct/P967'), ('pname', 'guest of honor'), ('teams', '1')]\n",
      "[('p', 'http://www.wikidata.org/prop/direct/P1376'), ('pname', 'capital of'), ('teams', '1')]\n",
      "[('p', 'http://www.wikidata.org/prop/direct/P533'), ('pname', 'target'), ('teams', '1')]\n"
     ]
    },
    {
     "data": {
      "text/plain": [
       "43"
      ]
     },
     "execution_count": 17,
     "metadata": {},
     "output_type": "execute_result"
    }
   ],
   "source": [
    "queryString = \"\"\"\n",
    "SELECT ?p ?pname COUNT(?ft) AS ?teams\n",
    "WHERE { \n",
    "\n",
    "?ft wdt:P31 wd:Q6979593.\n",
    "?s ?p ?ft.\n",
    "\n",
    "?p <http://schema.org/name> ?pname.\n",
    "\n",
    "} \n",
    "GROUP BY ?p ?pname\n",
    "ORDER BY DESC(?teams)\n",
    "\"\"\"\n",
    "\n",
    "print(\"Results\")\n",
    "run_query(queryString)"
   ]
  },
  {
   "cell_type": "markdown",
   "id": "5f08e440-55ef-4c3a-b4ce-9eeef4b5a9d5",
   "metadata": {},
   "source": [
    "I recall I am looking for the connection between national football teams and their participation in the finals or the world cups therefore some useful property could be \"participant team\" (wdt:P1923). For this reason I return what type of subjects are connected to the football teams by means of such property."
   ]
  },
  {
   "cell_type": "code",
   "execution_count": 18,
   "id": "354eea0c-c224-4934-9e77-26012f3e201c",
   "metadata": {},
   "outputs": [
    {
     "name": "stdout",
     "output_type": "stream",
     "text": [
      "Results\n",
      "[('i', 'http://www.wikidata.org/entity/Q16466010'), ('instanceOf', 'association football match'), ('subjs', '431')]\n",
      "[('i', 'http://www.wikidata.org/entity/Q17315159'), ('instanceOf', 'international association football match'), ('subjs', '295')]\n",
      "[('i', 'http://www.wikidata.org/entity/Q27020041'), ('instanceOf', 'sports season'), ('subjs', '116')]\n",
      "[('i', 'http://www.wikidata.org/entity/Q65770283'), ('instanceOf', 'association football final'), ('subjs', '97')]\n",
      "[('i', 'http://www.wikidata.org/entity/Q1366722'), ('instanceOf', 'final'), ('subjs', '51')]\n",
      "[('i', 'http://www.wikidata.org/entity/Q2122052'), ('instanceOf', 'qualification'), ('subjs', '24')]\n",
      "[('i', 'http://www.wikidata.org/entity/Q12708896'), ('instanceOf', 'FIFA World Cup final'), ('subjs', '18')]\n",
      "[('i', 'http://www.wikidata.org/entity/Q107540719'), ('instanceOf', 'edition of the UEFA European Championship'), ('subjs', '16')]\n",
      "[('i', 'http://www.wikidata.org/entity/Q59658968'), ('instanceOf', 'UEFA Euro Final'), ('subjs', '16')]\n",
      "[('i', 'http://www.wikidata.org/entity/Q5168161'), ('instanceOf', 'Copa América Finals'), ('subjs', '15')]\n",
      "[('i', 'http://www.wikidata.org/entity/Q1478437'), ('instanceOf', 'association football competition'), ('subjs', '11')]\n",
      "[('i', 'http://www.wikidata.org/entity/Q40434727'), ('instanceOf', 'team rivalries in sports'), ('subjs', '10')]\n",
      "[('i', 'http://www.wikidata.org/entity/Q51036091'), ('instanceOf', 'qualification tournament'), ('subjs', '9')]\n",
      "[('i', 'http://www.wikidata.org/entity/Q500834'), ('instanceOf', 'tournament'), ('subjs', '9')]\n",
      "[('i', 'http://www.wikidata.org/entity/Q16510064'), ('instanceOf', 'sporting event'), ('subjs', '7')]\n",
      "[('i', 'http://www.wikidata.org/entity/Q13406463'), ('instanceOf', 'Wikimedia list article'), ('subjs', '7')]\n",
      "[('i', 'http://www.wikidata.org/entity/Q493386'), ('instanceOf', 'exhibition match'), ('subjs', '7')]\n",
      "[('i', 'http://www.wikidata.org/entity/Q2089242'), ('instanceOf', 'group stage'), ('subjs', '7')]\n",
      "[('i', 'http://www.wikidata.org/entity/Q51590703'), ('instanceOf', 'last 16'), ('subjs', '6')]\n",
      "[('i', 'http://www.wikidata.org/entity/Q98650163'), ('instanceOf', 'UEFA Euro 2020 Group'), ('subjs', '6')]\n",
      "[('i', 'http://www.wikidata.org/entity/Q13406554'), ('instanceOf', 'sports competition'), ('subjs', '5')]\n",
      "[('i', 'http://www.wikidata.org/entity/Q46135307'), ('instanceOf', 'nation at sport competition'), ('subjs', '3')]\n",
      "[('i', 'http://www.wikidata.org/entity/Q15275719'), ('instanceOf', 'recurring event'), ('subjs', '2')]\n",
      "[('i', 'http://www.wikidata.org/entity/Q1079023'), ('instanceOf', 'championship'), ('subjs', '1')]\n",
      "[('i', 'http://www.wikidata.org/entity/Q4167410'), ('instanceOf', 'Wikimedia disambiguation page'), ('subjs', '1')]\n",
      "[('i', 'http://www.wikidata.org/entity/Q868291'), ('instanceOf', 'playoffs'), ('subjs', '1')]\n",
      "[('i', 'http://www.wikidata.org/entity/Q11564376'), ('instanceOf', 'quarter-final'), ('subjs', '1')]\n",
      "[('i', 'http://www.wikidata.org/entity/Q18608583'), ('instanceOf', 'recurring sporting event'), ('subjs', '1')]\n",
      "[('i', 'http://www.wikidata.org/entity/Q61748301'), ('instanceOf', 'friendly tournament'), ('subjs', '1')]\n",
      "[('i', 'http://www.wikidata.org/entity/Q49614'), ('instanceOf', 'nickname'), ('subjs', '1')]\n",
      "[('i', 'http://www.wikidata.org/entity/Q3246109'), ('instanceOf', 'derby'), ('subjs', '1')]\n",
      "[('i', 'http://www.wikidata.org/entity/Q194796'), ('instanceOf', 'Major League Soccer All-Star Game'), ('subjs', '1')]\n",
      "[('i', 'http://www.wikidata.org/entity/Q43310'), ('instanceOf', 'Germany national association football team'), ('subjs', '1')]\n",
      "[('i', 'http://www.wikidata.org/entity/Q7579940'), ('instanceOf', 'sports riot'), ('subjs', '1')]\n",
      "[('i', 'http://www.wikidata.org/entity/Q28089258'), ('instanceOf', 'knockout stage'), ('subjs', '1')]\n",
      "[('i', 'http://www.wikidata.org/entity/Q599999'), ('instanceOf', 'semi-final'), ('subjs', '1')]\n",
      "[('i', 'http://www.wikidata.org/entity/Q11424'), ('instanceOf', 'film'), ('subjs', '1')]\n",
      "[('i', 'http://www.wikidata.org/entity/Q51031626'), ('instanceOf', 'sport competition at a multi-sport event'), ('subjs', '1')]\n",
      "[('i', 'http://www.wikidata.org/entity/Q18530'), ('instanceOf', 'goal'), ('subjs', '1')]\n",
      "[('i', 'http://www.wikidata.org/entity/Q864897'), ('instanceOf', 'single-elimination tournament'), ('subjs', '1')]\n",
      "[('i', 'http://www.wikidata.org/entity/Q1477115'), ('instanceOf', 'FIFA World Cup team'), ('subjs', '1')]\n",
      "[('i', 'http://www.wikidata.org/entity/Q53869933'), ('instanceOf', 'sport result'), ('subjs', '1')]\n",
      "[('i', 'http://www.wikidata.org/entity/Q63981919'), ('instanceOf', 'sport rivalry'), ('subjs', '1')]\n"
     ]
    },
    {
     "data": {
      "text/plain": [
       "43"
      ]
     },
     "execution_count": 18,
     "metadata": {},
     "output_type": "execute_result"
    }
   ],
   "source": [
    "queryString = \"\"\"\n",
    "SELECT ?i ?instanceOf COUNT(DISTINCT ?s) AS ?subjs\n",
    "WHERE { \n",
    "\n",
    "?ft wdt:P31 wd:Q6979593.\n",
    "?s wdt:P1923 ?ft;\n",
    "    wdt:P31 ?i.\n",
    "\n",
    "?i <http://schema.org/name> ?instanceOf.\n",
    "\n",
    "} \n",
    "GROUP BY ?i ?instanceOf\n",
    "ORDER BY DESC(?subjs)\n",
    "\"\"\"\n",
    "\n",
    "print(\"Results\")\n",
    "run_query(queryString)"
   ]
  },
  {
   "cell_type": "markdown",
   "id": "b729e5f2-9bc3-4b79-8ef9-21f83e3dbc86",
   "metadata": {},
   "source": [
    "I now return some triples in order to better understand the property."
   ]
  },
  {
   "cell_type": "code",
   "execution_count": 19,
   "id": "8166a9d3-c325-45cb-8a63-e0b8502b5cee",
   "metadata": {},
   "outputs": [
    {
     "name": "stdout",
     "output_type": "stream",
     "text": [
      "Results\n",
      "[('s', 'http://www.wikidata.org/entity/Q3512678'), ('sname', 'Muratti'), ('ft', 'http://www.wikidata.org/entity/Q1478243'), ('ftname', 'Guernsey official association football team')]\n",
      "[('s', 'http://www.wikidata.org/entity/Q29572139'), ('sname', '2019 UEFA European Under-21 Championship qualification Group 7'), ('ft', 'http://www.wikidata.org/entity/Q2660379'), ('ftname', 'North Macedonia national under-21 football team')]\n",
      "[('s', 'http://www.wikidata.org/entity/Q29572050'), ('sname', '2019 UEFA European Under-21 Championship qualification Group 4'), ('ft', 'http://www.wikidata.org/entity/Q2630537'), ('ftname', 'Latvia national under-21 football team')]\n",
      "[('s', 'http://www.wikidata.org/entity/Q29572211'), ('sname', '2019 UEFA European Under-21 Championship qualification Group 9'), ('ft', 'http://www.wikidata.org/entity/Q651714'), ('ftname', 'Bulgaria national under-21 football team')]\n",
      "[('s', 'http://www.wikidata.org/entity/Q62338382'), ('sname', 'Cyprus v San Marino'), ('ft', 'http://www.wikidata.org/entity/Q188791'), ('ftname', 'Cyprus national football team')]\n",
      "[('s', 'http://www.wikidata.org/entity/Q28187401'), ('sname', 'China–Hong Kong football rivalry'), ('ft', 'http://www.wikidata.org/entity/Q242119'), ('ftname', 'Hong Kong national football team')]\n",
      "[('s', 'http://www.wikidata.org/entity/Q88479508'), ('sname', '1940 Mandatory Palestine v Lebanon football match'), ('ft', 'http://www.wikidata.org/entity/Q318928'), ('ftname', 'Lebanon national football team')]\n",
      "[('s', 'http://www.wikidata.org/entity/Q3912923'), ('sname', '2013 Africa Cup of Nations Final'), ('ft', 'http://www.wikidata.org/entity/Q44270'), ('ftname', 'Burkina Faso national football team')]\n",
      "[('s', 'http://www.wikidata.org/entity/Q50077397'), ('sname', '2018 Lunar New Year Cup'), ('ft', 'http://www.wikidata.org/entity/Q242119'), ('ftname', 'Hong Kong national football team')]\n",
      "[('s', 'http://www.wikidata.org/entity/Q86680179'), ('sname', '2022 FIFA World Cup qualification – UEFA Group H'), ('ft', 'http://www.wikidata.org/entity/Q188791'), ('ftname', 'Cyprus national football team')]\n",
      "[('s', 'http://www.wikidata.org/entity/Q62417011'), ('sname', 'Cyprus v Belgium'), ('ft', 'http://www.wikidata.org/entity/Q188791'), ('ftname', 'Cyprus national football team')]\n",
      "[('s', 'http://www.wikidata.org/entity/Q66438405'), ('sname', 'Cyprus v Kazakhstan'), ('ft', 'http://www.wikidata.org/entity/Q188791'), ('ftname', 'Cyprus national football team')]\n",
      "[('s', 'http://www.wikidata.org/entity/Q84940174'), ('sname', 'Lebanon v Tunisia (1963 Arab Nations Cup)'), ('ft', 'http://www.wikidata.org/entity/Q318928'), ('ftname', 'Lebanon national football team')]\n",
      "[('s', 'http://www.wikidata.org/entity/Q4625710'), ('sname', '2012 Guangdong–Hong Kong Cup'), ('ft', 'http://www.wikidata.org/entity/Q242119'), ('ftname', 'Hong Kong national football team')]\n",
      "[('s', 'http://www.wikidata.org/entity/Q22676922'), ('sname', '2016 Lunar New Year Cup'), ('ft', 'http://www.wikidata.org/entity/Q242119'), ('ftname', 'Hong Kong national football team')]\n",
      "[('s', 'http://www.wikidata.org/entity/Q4617390'), ('sname', '2010 Guangdong–Hong Kong Cup'), ('ft', 'http://www.wikidata.org/entity/Q242119'), ('ftname', 'Hong Kong national football team')]\n",
      "[('s', 'http://www.wikidata.org/entity/Q15420458'), ('sname', '2014 Guangdong–Hong Kong Cup'), ('ft', 'http://www.wikidata.org/entity/Q242119'), ('ftname', 'Hong Kong national football team')]\n",
      "[('s', 'http://www.wikidata.org/entity/Q28122631'), ('sname', '2017 Guangdong–Hong Kong Cup'), ('ft', 'http://www.wikidata.org/entity/Q242119'), ('ftname', 'Hong Kong national football team')]\n",
      "[('s', 'http://www.wikidata.org/entity/Q60972968'), ('sname', '2021 UEFA European Under-21 Championship qualification Group 5'), ('ft', 'http://www.wikidata.org/entity/Q651714'), ('ftname', 'Bulgaria national under-21 football team')]\n",
      "[('s', 'http://www.wikidata.org/entity/Q60972968'), ('sname', '2021 UEFA European Under-21 Championship qualification Group 5'), ('ft', 'http://www.wikidata.org/entity/Q2630537'), ('ftname', 'Latvia national under-21 football team')]\n",
      "[('s', 'http://www.wikidata.org/entity/Q85736144'), ('sname', '2020 Lunar New Year Cup'), ('ft', 'http://www.wikidata.org/entity/Q242119'), ('ftname', 'Hong Kong national football team')]\n",
      "[('s', 'http://www.wikidata.org/entity/Q982877'), ('sname', '2013 Guangdong–Hong Kong Cup'), ('ft', 'http://www.wikidata.org/entity/Q242119'), ('ftname', 'Hong Kong national football team')]\n",
      "[('s', 'http://www.wikidata.org/entity/Q47091896'), ('sname', '2018 Guangdong–Hong Kong Cup'), ('ft', 'http://www.wikidata.org/entity/Q242119'), ('ftname', 'Hong Kong national football team')]\n",
      "[('s', 'http://www.wikidata.org/entity/Q59848402'), ('sname', 'The 41th Guangdong–Hong Kong Cup'), ('ft', 'http://www.wikidata.org/entity/Q242119'), ('ftname', 'Hong Kong national football team')]\n",
      "[('s', 'http://www.wikidata.org/entity/Q62620723'), ('sname', 'Russia v Cyprus'), ('ft', 'http://www.wikidata.org/entity/Q188791'), ('ftname', 'Cyprus national football team')]\n"
     ]
    },
    {
     "data": {
      "text/plain": [
       "25"
      ]
     },
     "execution_count": 19,
     "metadata": {},
     "output_type": "execute_result"
    }
   ],
   "source": [
    "queryString = \"\"\"\n",
    "SELECT ?s ?sname ?ft ?ftname\n",
    "WHERE { \n",
    "\n",
    "?ft wdt:P31 wd:Q6979593.\n",
    "?s wdt:P1923 ?ft.\n",
    "\n",
    "?s <http://schema.org/name> ?sname.\n",
    "?ft <http://schema.org/name> ?ftname.\n",
    "\n",
    "} \n",
    "LIMIT 25\n",
    "\"\"\"\n",
    "\n",
    "print(\"Results\")\n",
    "run_query(queryString)"
   ]
  },
  {
   "cell_type": "markdown",
   "id": "fcec57d4-b501-4369-bd73-91b0c3b9b29d",
   "metadata": {},
   "source": [
    "Since I know wd:Q176883 is the node for the 2010 FIFA World Cup I try to see if such property connects some national football teams to the World Cup."
   ]
  },
  {
   "cell_type": "code",
   "execution_count": 20,
   "id": "99a0b9a9-e5ef-4c20-8961-c8954b228871",
   "metadata": {},
   "outputs": [
    {
     "name": "stdout",
     "output_type": "stream",
     "text": [
      "Results\n",
      "[('ft', 'http://www.wikidata.org/entity/Q676899'), ('ftname', 'Italy national association football team')]\n",
      "[('ft', 'http://www.wikidata.org/entity/Q268208'), ('ftname', 'Australia national association football team')]\n",
      "[('ft', 'http://www.wikidata.org/entity/Q134916'), ('ftname', 'Uruguay national football team')]\n",
      "[('ft', 'http://www.wikidata.org/entity/Q170327'), ('ftname', 'South Africa national football team')]\n",
      "[('ft', 'http://www.wikidata.org/entity/Q14132'), ('ftname', 'North Korea national football team')]\n",
      "[('ft', 'http://www.wikidata.org/entity/Q174512'), ('ftname', 'Slovakia national association football team')]\n",
      "[('ft', 'http://www.wikidata.org/entity/Q175145'), ('ftname', 'Ivory Coast national football team')]\n",
      "[('ft', 'http://www.wikidata.org/entity/Q180187'), ('ftname', 'Honduras national football team')]\n",
      "[('ft', 'http://www.wikidata.org/entity/Q172221'), ('ftname', 'Slovenia national football team')]\n",
      "[('ft', 'http://www.wikidata.org/entity/Q47050'), ('ftname', 'Netherlands national association football team')]\n",
      "[('ft', 'http://www.wikidata.org/entity/Q47762'), ('ftname', 'England national association football team')]\n",
      "[('ft', 'http://www.wikidata.org/entity/Q47774'), ('ftname', 'France national association football team')]\n",
      "[('ft', 'http://www.wikidata.org/entity/Q182740'), ('ftname', 'Serbia national football team')]\n",
      "[('ft', 'http://www.wikidata.org/entity/Q42267'), ('ftname', 'Spain national association football team')]\n",
      "[('ft', 'http://www.wikidata.org/entity/Q79800'), ('ftname', 'Argentina national football team')]\n",
      "[('ft', 'http://www.wikidata.org/entity/Q83459'), ('ftname', 'Brazil national football team')]\n",
      "[('ft', 'http://www.wikidata.org/entity/Q172020'), ('ftname', 'Paraguay national football team')]\n",
      "[('ft', 'http://www.wikidata.org/entity/Q181903'), ('ftname', 'Algeria national football team')]\n",
      "[('ft', 'http://www.wikidata.org/entity/Q181930'), ('ftname', 'Nigeria national football team')]\n",
      "[('ft', 'http://www.wikidata.org/entity/Q267245'), ('ftname', 'Portugal national association football team')]\n",
      "[('ft', 'http://www.wikidata.org/entity/Q43310'), ('ftname', 'Germany national association football team')]\n",
      "[('ft', 'http://www.wikidata.org/entity/Q164089'), ('ftname', 'Mexico national football team')]\n",
      "[('ft', 'http://www.wikidata.org/entity/Q131785'), ('ftname', 'Denmark national association football team')]\n",
      "[('ft', 'http://www.wikidata.org/entity/Q134925'), ('ftname', 'Greece national association football team')]\n",
      "[('ft', 'http://www.wikidata.org/entity/Q164134'), ('ftname', \"United States men's national soccer team\")]\n",
      "[('ft', 'http://www.wikidata.org/entity/Q165141'), ('ftname', 'Swiss national football team')]\n",
      "[('ft', 'http://www.wikidata.org/entity/Q175309'), ('ftname', 'Cameroon national football team')]\n",
      "[('ft', 'http://www.wikidata.org/entity/Q543842'), ('ftname', 'South Korea national football team')]\n",
      "[('ft', 'http://www.wikidata.org/entity/Q170566'), ('ftname', 'Japan national football team')]\n",
      "[('ft', 'http://www.wikidata.org/entity/Q172014'), ('ftname', 'Ghana national football team')]\n",
      "[('ft', 'http://www.wikidata.org/entity/Q172025'), ('ftname', 'Chile national football team')]\n",
      "[('ft', 'http://www.wikidata.org/entity/Q175315'), ('ftname', 'New Zealand national football team')]\n"
     ]
    },
    {
     "data": {
      "text/plain": [
       "32"
      ]
     },
     "execution_count": 20,
     "metadata": {},
     "output_type": "execute_result"
    }
   ],
   "source": [
    "queryString = \"\"\"\n",
    "SELECT ?ft ?ftname\n",
    "WHERE { \n",
    "\n",
    "?ft wdt:P31 wd:Q6979593.\n",
    "wd:Q176883 wdt:P1923 ?ft.\n",
    "\n",
    "\n",
    "?ft <http://schema.org/name> ?ftname.\n",
    "\n",
    "} \n",
    "\"\"\"\n",
    "\n",
    "print(\"Results\")\n",
    "run_query(queryString)"
   ]
  },
  {
   "cell_type": "markdown",
   "id": "ddeb7c7d-0cf7-4f44-9b2d-65d45105255f",
   "metadata": {},
   "source": [
    "From this result I can assess the property \"partecipating team\" (wdt:P1923) connects the national football teams with the participation in the World Cups. Before moving on I check if there are some other properties that connect a national football team to the FIFA World Cup. In order to do that I use again the node wd:Q176883 \"2010 FIFA World Cup\"."
   ]
  },
  {
   "cell_type": "code",
   "execution_count": 21,
   "id": "197301b3-38b3-4287-8a9e-338282e7e88e",
   "metadata": {},
   "outputs": [
    {
     "name": "stdout",
     "output_type": "stream",
     "text": [
      "Results\n",
      "[('p', 'http://www.wikidata.org/prop/direct/P1346'), ('pname', 'winner')]\n",
      "[('p', 'http://www.wikidata.org/prop/direct/P1923'), ('pname', 'participating team')]\n"
     ]
    },
    {
     "data": {
      "text/plain": [
       "2"
      ]
     },
     "execution_count": 21,
     "metadata": {},
     "output_type": "execute_result"
    }
   ],
   "source": [
    "queryString = \"\"\"\n",
    "SELECT DISTINCT ?p ?pname\n",
    "WHERE { \n",
    "\n",
    "?ft wdt:P31 wd:Q6979593.\n",
    "wd:Q176883 ?p ?ft.\n",
    "\n",
    "\n",
    "?p <http://schema.org/name> ?pname.\n",
    "\n",
    "} \n",
    "\"\"\"\n",
    "\n",
    "print(\"Results\")\n",
    "run_query(queryString)"
   ]
  },
  {
   "cell_type": "markdown",
   "id": "8dd91199-0118-4b92-88b3-be1847d55e88",
   "metadata": {},
   "source": [
    "I see I have another property \"winner\" (wdt:P1346) that could be useful for later questions. Now I check if there are other properties connecting the two entities in the order way."
   ]
  },
  {
   "cell_type": "code",
   "execution_count": 22,
   "id": "00dd0acf-5890-4665-aa1f-3b9e8aad37bf",
   "metadata": {},
   "outputs": [
    {
     "name": "stdout",
     "output_type": "stream",
     "text": [
      "Results\n",
      "[('p', 'http://www.wikidata.org/prop/direct/P1344'), ('pname', 'participant in')]\n",
      "[('p', 'http://www.wikidata.org/prop/direct/P2522'), ('pname', 'victory')]\n"
     ]
    },
    {
     "data": {
      "text/plain": [
       "2"
      ]
     },
     "execution_count": 22,
     "metadata": {},
     "output_type": "execute_result"
    }
   ],
   "source": [
    "queryString = \"\"\"\n",
    "SELECT DISTINCT ?p ?pname\n",
    "WHERE { \n",
    "\n",
    "?ft wdt:P31 wd:Q6979593.\n",
    "?ft ?p wd:Q176883.\n",
    "\n",
    "\n",
    "?p <http://schema.org/name> ?pname.\n",
    "\n",
    "} \n",
    "\"\"\"\n",
    "\n",
    "print(\"Results\")\n",
    "run_query(queryString)"
   ]
  },
  {
   "cell_type": "markdown",
   "id": "8ec34afe-f475-4ab3-a8f1-b09d5ee609d0",
   "metadata": {},
   "source": [
    "Looking in the other direction I found the properties \"participant in\" (wdt:P1344) and \"victory\" (wdt:P2522) that look like symmetric properties for the others. I check if my assumption is right by checking if the two properties return different results.\n",
    "\n",
    "The first check I can do is in the number of national football teams I return with both properties."
   ]
  },
  {
   "cell_type": "code",
   "execution_count": 23,
   "id": "1de1e01f-c0d5-4fa7-b5fc-20a9a9607758",
   "metadata": {},
   "outputs": [
    {
     "name": "stdout",
     "output_type": "stream",
     "text": [
      "Results\n",
      "[('edition', '1930 FIFA World Cup'), ('teams1923', '13'), ('teams1344', '13')]\n",
      "[('edition', '1934 FIFA World Cup'), ('teams1923', '16'), ('teams1344', '16')]\n",
      "[('edition', '1938 FIFA World Cup'), ('teams1923', '15'), ('teams1344', '15')]\n",
      "[('edition', '1950 FIFA World Cup'), ('teams1923', '13'), ('teams1344', '12')]\n",
      "[('edition', '1954 FIFA World Cup'), ('teams1923', '16'), ('teams1344', '16')]\n",
      "[('edition', '1958 FIFA World Cup'), ('teams1923', '16'), ('teams1344', '16')]\n",
      "[('edition', '1962 FIFA World Cup'), ('teams1923', '16'), ('teams1344', '16')]\n",
      "[('edition', '1966 FIFA World Cup'), ('teams1923', '16'), ('teams1344', '16')]\n",
      "[('edition', '1970 FIFA World Cup'), ('teams1923', '16'), ('teams1344', '16')]\n",
      "[('edition', '1974 FIFA World Cup'), ('teams1923', '16'), ('teams1344', '16')]\n",
      "[('edition', '1978 FIFA World Cup'), ('teams1923', '16'), ('teams1344', '16')]\n",
      "[('edition', '1982 FIFA World Cup'), ('teams1923', '24'), ('teams1344', '24')]\n",
      "[('edition', '1986 FIFA World Cup'), ('teams1923', '24'), ('teams1344', '24')]\n",
      "[('edition', '1990 FIFA World Cup'), ('teams1923', '24'), ('teams1344', '24')]\n",
      "[('edition', '1994 FIFA World Cup'), ('teams1923', '24'), ('teams1344', '24')]\n",
      "[('edition', '1998 FIFA World Cup'), ('teams1923', '32'), ('teams1344', '32')]\n",
      "[('edition', '2002 FIFA World Cup'), ('teams1923', '32'), ('teams1344', '32')]\n",
      "[('edition', '2006 FIFA World Cup'), ('teams1923', '32'), ('teams1344', '31')]\n",
      "[('edition', '2010 FIFA World Cup'), ('teams1923', '32'), ('teams1344', '32')]\n",
      "[('edition', '2014 FIFA World Cup'), ('teams1923', '32'), ('teams1344', '32')]\n"
     ]
    },
    {
     "data": {
      "text/plain": [
       "20"
      ]
     },
     "execution_count": 23,
     "metadata": {},
     "output_type": "execute_result"
    }
   ],
   "source": [
    "queryString = \"\"\"\n",
    "SELECT ?edition COUNT(DISTINCT ?t1) AS ?teams1923 COUNT(DISTINCT ?t2) AS ?teams1344\n",
    "WHERE{\n",
    "\n",
    "    ?wc wdt:P3450 wd:Q19317;\n",
    "        wdt:P580 ?start;\n",
    "        <http://schema.org/name> ?edition.\n",
    "\n",
    "    ?t1 wdt:P31 wd:Q6979593.   \n",
    "    ?t2 wdt:P31 wd:Q6979593.\n",
    "    \n",
    "    ?wc wdt:P1923 ?t1.\n",
    "    ?t2 wdt:P1344 ?wc.\n",
    "    \n",
    "    FILTER(?start < NOW()).\n",
    "\n",
    "}\n",
    "GROUP BY ?edition\n",
    "ORDER BY ?edition\n",
    "\"\"\"\n",
    "\n",
    "print(\"Results\")\n",
    "run_query(queryString)"
   ]
  },
  {
   "cell_type": "markdown",
   "id": "2b7ed717-df14-441d-a90f-549836d0cd4c",
   "metadata": {},
   "source": [
    "I discovered two editions have different results for the two properties. In order to see which one contains the right information I can return also the property \"number of participant\" (wdt:P1132) (I discovered it in the previous section) and I check the correctness of the information. I assume that if the number is the same for 2 out of 3 properties then such properties have the correct information."
   ]
  },
  {
   "cell_type": "code",
   "execution_count": 24,
   "id": "8fadfd51-a7a3-4bc8-b492-7c7159bf9d27",
   "metadata": {},
   "outputs": [
    {
     "name": "stdout",
     "output_type": "stream",
     "text": [
      "Results\n",
      "[('edition', '1930 FIFA World Cup'), ('numParticipants', '13'), ('teams1923', '13'), ('teams1344', '13')]\n",
      "[('edition', '1934 FIFA World Cup'), ('numParticipants', '16'), ('teams1923', '16'), ('teams1344', '16')]\n",
      "[('edition', '1938 FIFA World Cup'), ('numParticipants', '15'), ('teams1923', '15'), ('teams1344', '15')]\n",
      "[('edition', '1950 FIFA World Cup'), ('numParticipants', '13'), ('teams1923', '13'), ('teams1344', '12')]\n",
      "[('edition', '1954 FIFA World Cup'), ('numParticipants', '16'), ('teams1923', '16'), ('teams1344', '16')]\n",
      "[('edition', '1958 FIFA World Cup'), ('numParticipants', '16'), ('teams1923', '16'), ('teams1344', '16')]\n",
      "[('edition', '1962 FIFA World Cup'), ('numParticipants', '16'), ('teams1923', '16'), ('teams1344', '16')]\n",
      "[('edition', '1966 FIFA World Cup'), ('numParticipants', '16'), ('teams1923', '16'), ('teams1344', '16')]\n",
      "[('edition', '1970 FIFA World Cup'), ('numParticipants', '16'), ('teams1923', '16'), ('teams1344', '16')]\n",
      "[('edition', '1974 FIFA World Cup'), ('numParticipants', '16'), ('teams1923', '16'), ('teams1344', '16')]\n",
      "[('edition', '1978 FIFA World Cup'), ('numParticipants', '16'), ('teams1923', '16'), ('teams1344', '16')]\n",
      "[('edition', '1982 FIFA World Cup'), ('numParticipants', '24'), ('teams1923', '24'), ('teams1344', '24')]\n",
      "[('edition', '1986 FIFA World Cup'), ('numParticipants', '24'), ('teams1923', '24'), ('teams1344', '24')]\n",
      "[('edition', '1990 FIFA World Cup'), ('numParticipants', '24'), ('teams1923', '24'), ('teams1344', '24')]\n",
      "[('edition', '1994 FIFA World Cup'), ('numParticipants', '24'), ('teams1923', '24'), ('teams1344', '24')]\n",
      "[('edition', '1998 FIFA World Cup'), ('numParticipants', '32'), ('teams1923', '32'), ('teams1344', '32')]\n",
      "[('edition', '2002 FIFA World Cup'), ('numParticipants', '33'), ('teams1923', '32'), ('teams1344', '32')]\n",
      "[('edition', '2006 FIFA World Cup'), ('numParticipants', '32'), ('teams1923', '32'), ('teams1344', '31')]\n",
      "[('edition', '2010 FIFA World Cup'), ('numParticipants', '32'), ('teams1923', '32'), ('teams1344', '32')]\n",
      "[('edition', '2014 FIFA World Cup'), ('numParticipants', '32'), ('teams1923', '32'), ('teams1344', '32')]\n"
     ]
    },
    {
     "data": {
      "text/plain": [
       "20"
      ]
     },
     "execution_count": 24,
     "metadata": {},
     "output_type": "execute_result"
    }
   ],
   "source": [
    "queryString = \"\"\"\n",
    "SELECT ?edition ?numParticipants COUNT(DISTINCT ?t1) AS ?teams1923 COUNT(DISTINCT ?t2) AS ?teams1344\n",
    "WHERE{\n",
    "\n",
    "    ?wc wdt:P3450 wd:Q19317;\n",
    "        wdt:P580 ?start;\n",
    "        wdt:P1132 ?numParticipants;\n",
    "        <http://schema.org/name> ?edition.\n",
    "\n",
    "    ?t1 wdt:P31 wd:Q6979593.   \n",
    "    ?t2 wdt:P31 wd:Q6979593.\n",
    "    \n",
    "    ?wc wdt:P1923 ?t1.\n",
    "    ?t2 wdt:P1344 ?wc.\n",
    "    \n",
    "    FILTER(?start < NOW()).\n",
    "\n",
    "}\n",
    "GROUP BY ?edition ?numParticipants\n",
    "ORDER BY ?edition\n",
    "\"\"\"\n",
    "\n",
    "print(\"Results\")\n",
    "run_query(queryString)"
   ]
  },
  {
   "cell_type": "markdown",
   "id": "2c0678c9-973d-4b7d-95ac-3312a5c0529a",
   "metadata": {},
   "source": [
    "I decide to use the property \"participating team\" (wdt:P1923) to connect the National Football Teams with the FIFA World Cups. \n",
    "\n",
    "Now that I found the connection between the FIFA World Cup and the National Football Teams I can return all the teams that participated in each edition."
   ]
  },
  {
   "cell_type": "code",
   "execution_count": 25,
   "id": "b2a49b80-9743-4af6-9a41-c91773acf71e",
   "metadata": {},
   "outputs": [
    {
     "name": "stdout",
     "output_type": "stream",
     "text": [
      "Results\n",
      "[('edition', '1930 FIFA World Cup'), ('particapatingTeams', \"Romania national association football team; Uruguay national football team; Peru national football team; France national association football team; Argentina national football team; Brazil national football team; Belgium national football team; Paraguay national football team; Yugoslavia national association football team; Mexico national football team; United States men's national soccer team; Bolivia national football team; Chile national football team\")]\n",
      "[('edition', '1934 FIFA World Cup'), ('particapatingTeams', \"Romania national association football team; Italy national association football team; Austria national association football team; Netherlands national association football team; France national association football team; Spain national association football team; Argentina national football team; Brazil national football team; Belgium national football team; Germany national association football team; Hungary national association football team; Czechoslovakia national association football team; Egypt national football team; Sweden national association football team; United States men's national soccer team; Swiss national football team\")]\n",
      "[('edition', '1938 FIFA World Cup'), ('particapatingTeams', 'Poland national association football team; Romania national association football team; Italy national association football team; Netherlands national association football team; France national association football team; Brazil national football team; Belgium national football team; Germany national association football team; Hungary national association football team; Czechoslovakia national association football team; Sweden national association football team; Swiss national football team; Norway national association football team; Cuba national football team; Dutch East Indies national football team')]\n",
      "[('edition', '1950 FIFA World Cup'), ('particapatingTeams', \"Italy national association football team; Uruguay national football team; England national association football team; Spain national association football team; Brazil national football team; Paraguay national football team; Yugoslavia national association football team; Mexico national football team; Sweden national association football team; United States men's national soccer team; Swiss national football team; Bolivia national football team; Chile national football team\")]\n",
      "[('edition', '1954 FIFA World Cup'), ('particapatingTeams', 'Italy national association football team; Austria national association football team; Uruguay national football team; England national association football team; France national association football team; Turkey national association football team; Brazil national football team; Belgium national football team; Yugoslavia national association football team; Scotland national football team; Germany national association football team; Mexico national football team; Hungary national association football team; Czechoslovakia national association football team; Swiss national football team; South Korea national football team')]\n",
      "[('edition', '1958 FIFA World Cup'), ('particapatingTeams', 'Austria national association football team; Wales national association football team; England national association football team; France national association football team; Argentina national football team; Brazil national football team; Paraguay national football team; Yugoslavia national association football team; Scotland national football team; Germany national association football team; Mexico national football team; Hungary national association football team; Czechoslovakia national association football team; Soviet Union national association football team; Sweden national association football team; Northern Ireland national association football team')]\n",
      "[('edition', '1962 FIFA World Cup'), ('particapatingTeams', 'Italy national association football team; Colombia national football team; Uruguay national football team; England national association football team; Spain national association football team; Argentina national football team; Brazil national football team; Yugoslavia national association football team; Germany national association football team; Mexico national football team; Hungary national association football team; Czechoslovakia national association football team; Soviet Union national association football team; Swiss national football team; Bulgaria national football team; Chile national football team')]\n",
      "[('edition', '1966 FIFA World Cup'), ('particapatingTeams', 'Italy national association football team; Uruguay national football team; North Korea national football team; England national association football team; France national association football team; Spain national association football team; Argentina national football team; Brazil national football team; Portugal national association football team; Germany national association football team; Mexico national football team; Hungary national association football team; Soviet Union national association football team; Swiss national football team; Bulgaria national football team; Chile national football team')]\n",
      "[('edition', '1970 FIFA World Cup'), ('particapatingTeams', 'Romania national association football team; Italy national association football team; Uruguay national football team; Israel national football team; Peru national football team; England national association football team; Brazil national football team; El Salvador national football team; Belgium national football team; Germany national association football team; Mexico national football team; Czechoslovakia national association football team; Soviet Union national association football team; Sweden national association football team; Bulgaria national football team; Morocco national football team')]\n",
      "[('edition', '1974 FIFA World Cup'), ('particapatingTeams', 'Poland national association football team; Italy national association football team; Australia national association football team; Uruguay national football team; DR Congo national football team; Haiti national football team; Netherlands national association football team; Argentina national football team; Brazil national football team; Yugoslavia national association football team; Scotland national football team; Germany national association football team; East Germany national football team; Sweden national association football team; Bulgaria national football team; Chile national football team')]\n",
      "[('edition', '1978 FIFA World Cup'), ('particapatingTeams', 'Poland national association football team; Italy national association football team; Austria national association football team; Tunisia national football team; Peru national football team; Netherlands national association football team; France national association football team; Spain national association football team; Argentina national football team; Brazil national football team; Scotland national football team; Germany national association football team; Mexico national football team; Hungary national association football team; Sweden national association football team; Iran national football team')]\n",
      "[('edition', '1982 FIFA World Cup'), ('particapatingTeams', 'Poland national association football team; Italy national association football team; Austria national association football team; Honduras national football team; Peru national football team; Kuwait national football team; England national association football team; France national association football team; Spain national association football team; Argentina national football team; Brazil national football team; El Salvador national football team; Belgium national football team; Algeria national football team; Yugoslavia national association football team; Scotland national football team; Germany national association football team; Hungary national association football team; Czechoslovakia national association football team; Soviet Union national association football team; Cameroon national football team; Northern Ireland national association football team; Chile national football team; New Zealand national football team')]\n",
      "[('edition', '1986 FIFA World Cup'), ('particapatingTeams', \"Poland national association football team; Italy national association football team; Uruguay national football team; Iraq national football team; England national association football team; France national association football team; Spain national association football team; Argentina national football team; Brazil national football team; Belgium national football team; Paraguay national football team; Algeria national football team; Portugal national association football team; Scotland national football team; Germany national association football team; Mexico national football team; Hungary national association football team; Soviet Union national association football team; Denmark national association football team; Bulgaria national football team; Morocco national football team; South Korea national football team; Northern Ireland national association football team; Canada men's national soccer team\")]\n",
      "[('edition', '1990 FIFA World Cup'), ('particapatingTeams', \"Romania national association football team; Italy national association football team; Austria national association football team; Colombia national football team; Uruguay national football team; Costa Rica national football team; United Arab Emirates national football team; Netherlands national association football team; England national association football team; Spain national association football team; Argentina national football team; Brazil national football team; Belgium national football team; Yugoslavia national association football team; Scotland national football team; Germany national association football team; Czechoslovakia national association football team; Soviet Union national association football team; Egypt national football team; Sweden national association football team; Republic of Ireland national association football team; United States men's national soccer team; Cameroon national football team; South Korea national football team\")]\n",
      "[('edition', '1994 FIFA World Cup'), ('particapatingTeams', \"Romania national association football team; Italy national association football team; Colombia national football team; Netherlands national association football team; Spain national association football team; Argentina national football team; Brazil national football team; Belgium national football team; Nigeria national football team; Germany national association football team; Mexico national football team; Greece national association football team; Sweden national association football team; Republic of Ireland national association football team; United States men's national soccer team; Swiss national football team; Cameroon national football team; Bulgaria national football team; Norway national association football team; Saudi Arabia national football team; Bolivia national football team; Morocco national football team; South Korea national football team; Russia national association football team\")]\n",
      "[('edition', '1998 FIFA World Cup'), ('particapatingTeams', \"Romania national association football team; Italy national association football team; Austria national association football team; Colombia national football team; South Africa national football team; Jamaica national association football team; Tunisia national football team; Netherlands national association football team; England national association football team; France national association football team; Spain national association football team; Argentina national football team; Brazil national football team; Belgium national football team; Paraguay national football team; Nigeria national football team; Scotland national football team; Germany national association football team; Croatia national association football team; Mexico national football team; Denmark national association football team; United States men's national soccer team; Cameroon national football team; Bulgaria national football team; Norway national association football team; Saudi Arabia national football team; Morocco national football team; South Korea national football team; Serbia and Montenegro national football team; Japan national football team; Chile national football team; Iran national football team\")]\n",
      "[('edition', '2002 FIFA World Cup'), ('particapatingTeams', \"Poland national association football team; Italy national association football team; Uruguay national football team; South Africa national football team; China national football team; Costa Rica national football team; Slovenia national football team; Tunisia national football team; England national association football team; France national association football team; Spain national association football team; Turkey national association football team; Argentina national football team; Brazil national football team; Belgium national football team; Paraguay national football team; Nigeria national football team; Senegal national association football team; Portugal national association football team; Germany national association football team; Croatia national association football team; Mexico national football team; Denmark national association football team; Sweden national association football team; Republic of Ireland national association football team; United States men's national soccer team; Cameroon national football team; Saudi Arabia national football team; South Korea national football team; Russia national association football team; Japan national football team; Ecuador national football team\")]\n",
      "[('edition', '2006 FIFA World Cup'), ('particapatingTeams', \"Poland national association football team; Italy national association football team; Australia national association football team; Ukraine national association football team; Ivory Coast national football team; Costa Rica national football team; Tunisia national football team; Netherlands national association football team; England national association football team; France national association football team; Czech Republic national association football team; Spain national association football team; Argentina national football team; Brazil national football team; Paraguay national football team; Togo national football team; Portugal national association football team; Germany national association football team; Croatia national association football team; Mexico national football team; Sweden national association football team; United States men's national soccer team; Swiss national football team; Saudi Arabia national football team; South Korea national football team; Serbia and Montenegro national football team; Japan national football team; Ghana national football team; Angola national football team; Iran national football team; Trinidad and Tobago national football team; Ecuador national football team\")]\n",
      "[('edition', '2010 FIFA World Cup'), ('particapatingTeams', \"Italy national association football team; Australia national association football team; Uruguay national football team; South Africa national football team; North Korea national football team; Slovakia national association football team; Ivory Coast national football team; Honduras national football team; Slovenia national football team; Netherlands national association football team; England national association football team; France national association football team; Serbia national football team; Spain national association football team; Argentina national football team; Brazil national football team; Paraguay national football team; Algeria national football team; Nigeria national football team; Portugal national association football team; Germany national association football team; Mexico national football team; Denmark national association football team; Greece national association football team; United States men's national soccer team; Swiss national football team; Cameroon national football team; South Korea national football team; Japan national football team; Ghana national football team; Chile national football team; New Zealand national football team\")]\n",
      "[('edition', '2014 FIFA World Cup'), ('particapatingTeams', \"Italy national association football team; Colombia national football team; Australia national association football team; Uruguay national football team; Bosnia and Herzegovina national football team; Ivory Coast national football team; Honduras national football team; Costa Rica national football team; Netherlands national association football team; England national association football team; France national association football team; Spain national association football team; Argentina national football team; Brazil national football team; Belgium national football team; Algeria national football team; Nigeria national football team; Portugal national association football team; Germany national association football team; Croatia national association football team; Mexico national football team; Greece national association football team; United States men's national soccer team; Swiss national football team; Cameroon national football team; South Korea national football team; Russia national association football team; Japan national football team; Ghana national football team; Chile national football team; Iran national football team; Ecuador national football team\")]\n"
     ]
    },
    {
     "data": {
      "text/plain": [
       "20"
      ]
     },
     "execution_count": 25,
     "metadata": {},
     "output_type": "execute_result"
    }
   ],
   "source": [
    "queryString = \"\"\"\n",
    "SELECT ?edition GROUP_CONCAT(?team; separator=\"; \") AS ?particapatingTeams\n",
    "WHERE{\n",
    "\n",
    "    ?wc wdt:P3450 wd:Q19317;\n",
    "        wdt:P580 ?start;\n",
    "        <http://schema.org/name> ?edition.\n",
    "\n",
    "    ?nft wdt:P31 wd:Q6979593;\n",
    "         <http://schema.org/name> ?team.  \n",
    "    \n",
    "    ?wc wdt:P1923 ?nft.\n",
    "    \n",
    "    FILTER(?start < NOW()).\n",
    "\n",
    "}\n",
    "GROUP BY ?edition\n",
    "ORDER BY ?edition\n",
    "\"\"\"\n",
    "\n",
    "print(\"Results\")\n",
    "run_query(queryString)"
   ]
  },
  {
   "cell_type": "markdown",
   "id": "1cc30c90-83e6-442d-a626-f3087706b4b5",
   "metadata": {
    "tags": []
   },
   "source": [
    "### Connection between National Football Teams and FIFA World Cup Finals"
   ]
  },
  {
   "cell_type": "markdown",
   "id": "2f933090-1d9f-4b56-97d2-f977d5490689",
   "metadata": {},
   "source": [
    "Firstly, I need to return all the FIFA World Cup finals. I recall I found the property \"final event\" (wdt:P3967) when exploring the FIFA World Cup therefore I check if such property connects each FIFA World Cup edition with its final."
   ]
  },
  {
   "cell_type": "code",
   "execution_count": 26,
   "id": "4768676f-8353-43d5-ab8c-42b9595d9d33",
   "metadata": {},
   "outputs": [
    {
     "name": "stdout",
     "output_type": "stream",
     "text": [
      "Results\n",
      "[('edition', '1930 FIFA World Cup'), ('fe', 'http://www.wikidata.org/entity/Q63843'), ('final', '1930 FIFA World Cup Final')]\n",
      "[('edition', '1934 FIFA World Cup'), ('fe', 'http://www.wikidata.org/entity/Q945608'), ('final', '1934 FIFA World Cup Final')]\n",
      "[('edition', '1938 FIFA World Cup'), ('fe', 'http://www.wikidata.org/entity/Q945575'), ('final', '1938 FIFA World Cup Final')]\n",
      "[('edition', '1950 FIFA World Cup'), ('fe', 'http://www.wikidata.org/entity/Q754483'), ('final', 'Uruguay v Brazil 1950')]\n",
      "[('edition', '1954 FIFA World Cup'), ('fe', 'http://www.wikidata.org/entity/Q665946'), ('final', '1954 FIFA World Cup Final')]\n",
      "[('edition', '1958 FIFA World Cup'), ('fe', 'http://www.wikidata.org/entity/Q1078991'), ('final', '1958 FIFA World Cup Final')]\n",
      "[('edition', '1962 FIFA World Cup'), ('fe', 'http://www.wikidata.org/entity/Q1191064'), ('final', '1962 FIFA World Cup Final')]\n",
      "[('edition', '1966 FIFA World Cup'), ('fe', 'http://www.wikidata.org/entity/Q1065912'), ('final', '1966 FIFA World Cup Final')]\n",
      "[('edition', '1970 FIFA World Cup'), ('fe', 'http://www.wikidata.org/entity/Q1069912'), ('final', '1970 FIFA World Cup Final')]\n",
      "[('edition', '1974 FIFA World Cup'), ('fe', 'http://www.wikidata.org/entity/Q945970'), ('final', '1974 FIFA World Cup Final')]\n",
      "[('edition', '1978 FIFA World Cup'), ('fe', 'http://www.wikidata.org/entity/Q858415'), ('final', '1978 FIFA World Cup Final')]\n",
      "[('edition', '1982 FIFA World Cup'), ('fe', 'http://www.wikidata.org/entity/Q909551'), ('final', '1982 FIFA World Cup Final')]\n",
      "[('edition', '1986 FIFA World Cup'), ('fe', 'http://www.wikidata.org/entity/Q610156'), ('final', '1986 FIFA World Cup Final')]\n",
      "[('edition', '1990 FIFA World Cup'), ('fe', 'http://www.wikidata.org/entity/Q3745599'), ('final', '1990 FIFA World Cup Final')]\n",
      "[('edition', '1994 FIFA World Cup'), ('fe', 'http://www.wikidata.org/entity/Q389104'), ('final', '1994 FIFA World Cup Final')]\n",
      "[('edition', '1998 FIFA World Cup'), ('fe', 'http://www.wikidata.org/entity/Q585295'), ('final', '1998 FIFA World Cup Final')]\n",
      "[('edition', '2002 FIFA World Cup'), ('fe', 'http://www.wikidata.org/entity/Q715021'), ('final', '2002 FIFA World Cup Final')]\n",
      "[('edition', '2006 FIFA World Cup'), ('fe', 'http://www.wikidata.org/entity/Q268567'), ('final', '2006 FIFA World Cup Final')]\n",
      "[('edition', '2010 FIFA World Cup'), ('fe', 'http://www.wikidata.org/entity/Q208401'), ('final', '2010 FIFA World Cup Final')]\n",
      "[('edition', '2014 FIFA World Cup'), ('fe', 'http://www.wikidata.org/entity/Q15926885'), ('final', '2014 FIFA World Cup Final')]\n",
      "[('edition', '2018 FIFA World Cup'), ('fe', 'http://www.wikidata.org/entity/Q31043671'), ('final', '2018 FIFA World Cup Final')]\n"
     ]
    },
    {
     "data": {
      "text/plain": [
       "21"
      ]
     },
     "execution_count": 26,
     "metadata": {},
     "output_type": "execute_result"
    }
   ],
   "source": [
    "queryString = \"\"\"\n",
    "SELECT ?edition ?fe ?final\n",
    "WHERE{\n",
    "\n",
    "    ?wc wdt:P3450 wd:Q19317;\n",
    "        wdt:P580 ?start;\n",
    "        wdt:P3967 ?fe;\n",
    "        <http://schema.org/name> ?edition.\n",
    "\n",
    "    ?fe <http://schema.org/name> ?final.  \n",
    "    \n",
    "    FILTER(?start < NOW()).\n",
    "\n",
    "}\n",
    "ORDER BY ?edition\n",
    "\"\"\"\n",
    "\n",
    "print(\"Results\")\n",
    "run_query(queryString)"
   ]
  },
  {
   "cell_type": "markdown",
   "id": "9b997d86-98f3-403c-8e37-db2c3c5f2c81",
   "metadata": {},
   "source": [
    "I asses property \"final event\" (wdt:P3967) allow me to retrieve all FIFA World Cup finals. Now I return the finals' properties ordered by the number of objects connected by each of them."
   ]
  },
  {
   "cell_type": "code",
   "execution_count": 27,
   "id": "586181cb-23da-482e-931f-d1af662c98f1",
   "metadata": {},
   "outputs": [
    {
     "name": "stdout",
     "output_type": "stream",
     "text": [
      "Results\n",
      "[('p', 'http://www.wikidata.org/prop/direct/P710'), ('pname', 'participant'), ('objs', '51')]\n",
      "[('p', 'http://www.wikidata.org/prop/direct/P1652'), ('pname', 'referee'), ('objs', '22')]\n",
      "[('p', 'http://www.wikidata.org/prop/direct/P585'), ('pname', 'point in time'), ('objs', '21')]\n",
      "[('p', 'http://www.wikidata.org/prop/direct/P156'), ('pname', 'followed by'), ('objs', '21')]\n",
      "[('p', 'http://www.wikidata.org/prop/direct/P1110'), ('pname', 'attendance'), ('objs', '21')]\n",
      "[('p', 'http://www.wikidata.org/prop/direct/P361'), ('pname', 'part of'), ('objs', '21')]\n",
      "[('p', 'http://www.wikidata.org/prop/direct/P155'), ('pname', 'follows'), ('objs', '20')]\n",
      "[('p', 'http://www.wikidata.org/prop/direct/P646'), ('pname', 'Freebase ID'), ('objs', '20')]\n",
      "[('p', 'http://www.wikidata.org/prop/direct/P276'), ('pname', 'location'), ('objs', '19')]\n",
      "[('p', 'http://www.wikidata.org/prop/direct/P1923'), ('pname', 'participating team'), ('objs', '15')]\n",
      "[('p', 'http://www.wikidata.org/prop/direct/P1363'), ('pname', 'points/goal scored by'), ('objs', '14')]\n",
      "[('p', 'http://www.wikidata.org/prop/direct/P373'), ('pname', 'Commons category'), ('objs', '13')]\n",
      "[('p', 'http://www.wikidata.org/prop/direct/P18'), ('pname', 'image'), ('objs', '12')]\n",
      "[('p', 'http://www.wikidata.org/prop/direct/P17'), ('pname', 'country'), ('objs', '12')]\n",
      "[('p', 'http://www.wikidata.org/prop/direct/P1346'), ('pname', 'winner'), ('objs', '7')]\n",
      "[('p', 'http://www.wikidata.org/prop/direct/P7492'), ('pname', 'EU-Football.info match ID'), ('objs', '4')]\n",
      "[('p', 'http://www.wikidata.org/prop/direct/P793'), ('pname', 'significant event'), ('objs', '3')]\n",
      "[('p', 'http://www.wikidata.org/prop/direct/P5157'), ('pname', 'OnsOranje match ID'), ('objs', '3')]\n",
      "[('p', 'http://www.wikidata.org/prop/direct/P31'), ('pname', 'instance of'), ('objs', '3')]\n",
      "[('p', 'http://www.wikidata.org/prop/direct/P4431'), ('pname', 'Google Doodle'), ('objs', '2')]\n",
      "[('p', 'http://www.wikidata.org/prop/direct/P5436'), ('pname', 'number of viewers/listeners'), ('objs', '2')]\n",
      "[('p', 'http://www.wikidata.org/prop/direct/P7455'), ('pname', 'Transfermarkt match ID'), ('objs', '2')]\n",
      "[('p', 'http://www.wikidata.org/prop/direct/P6760'), ('pname', 'Know Your Meme ID'), ('objs', '1')]\n",
      "[('p', 'http://www.wikidata.org/prop/direct/P7494'), ('pname', 'Soccerway match ID'), ('objs', '1')]\n",
      "[('p', 'http://www.wikidata.org/prop/direct/P2572'), ('pname', 'hashtag'), ('objs', '1')]\n",
      "[('p', 'http://www.wikidata.org/prop/direct/P7493'), ('pname', 'PlaymakerStats.com match ID'), ('objs', '1')]\n",
      "[('p', 'http://www.wikidata.org/prop/direct/P3279'), ('pname', 'statistical leader'), ('objs', '1')]\n",
      "[('p', 'http://www.wikidata.org/prop/direct/P664'), ('pname', 'organizer'), ('objs', '1')]\n",
      "[('p', 'http://www.wikidata.org/prop/direct/P580'), ('pname', 'start time'), ('objs', '1')]\n",
      "[('p', 'http://www.wikidata.org/prop/direct/P1889'), ('pname', 'different from'), ('objs', '1')]\n",
      "[('p', 'http://www.wikidata.org/prop/direct/P856'), ('pname', 'official website'), ('objs', '1')]\n",
      "[('p', 'http://www.wikidata.org/prop/direct/P1343'), ('pname', 'described by source'), ('objs', '1')]\n",
      "[('p', 'http://www.wikidata.org/prop/direct/P641'), ('pname', 'sport'), ('objs', '1')]\n",
      "[('p', 'http://www.wikidata.org/prop/direct/P7959'), ('pname', 'historic county'), ('objs', '1')]\n",
      "[('p', 'http://www.wikidata.org/prop/direct/P131'), ('pname', 'located in the administrative territorial entity'), ('objs', '1')]\n",
      "[('p', 'http://www.wikidata.org/prop/direct/P2671'), ('pname', 'Google Knowledge Graph ID'), ('objs', '1')]\n"
     ]
    },
    {
     "data": {
      "text/plain": [
       "36"
      ]
     },
     "execution_count": 27,
     "metadata": {},
     "output_type": "execute_result"
    }
   ],
   "source": [
    "queryString = \"\"\"\n",
    "SELECT ?p ?pname COUNT(DISTINCT ?o) AS ?objs\n",
    "WHERE{\n",
    "\n",
    "    ?wc wdt:P3450 wd:Q19317;\n",
    "        wdt:P580 ?start;\n",
    "        wdt:P3967 ?fe.\n",
    "\n",
    "    ?fe ?p ?o.\n",
    "    \n",
    "    ?p <http://schema.org/name> ?pname.  \n",
    "    \n",
    "    FILTER(?start < NOW()).\n",
    "\n",
    "}\n",
    "ORDER BY DESC(?objs)\n",
    "\"\"\"\n",
    "\n",
    "print(\"Results\")\n",
    "run_query(queryString)"
   ]
  },
  {
   "cell_type": "markdown",
   "id": "cdc2eba4-f622-4fd0-af1f-dcef0bcf3aaf",
   "metadata": {},
   "source": [
    "Interesting properties retrieved:\n",
    "\n",
    "| IRI           | Description   | Role      |\n",
    "| -----------   | -----------   |-----------|\n",
    "| `wdt:P710`   | participant  | predicate |\n",
    "| `wdt:P1652`     | referee   | predicate |\n",
    "| `wdt:P582`    | point in time   | predicate | \n",
    "| `wdt:P276`    | location   | predicate | \n",
    "| `wdt:P1346`    | winner   | predicate | \n",
    "| `wdt:P1363`    | points/goal scored by  | predicate | \n",
    "\n",
    "I check if the property \"participant\" returns the National Football Teams involved in the FIFA World Cup Final."
   ]
  },
  {
   "cell_type": "code",
   "execution_count": 28,
   "id": "d229b82f-005b-4258-9525-ae83c387ffff",
   "metadata": {},
   "outputs": [
    {
     "name": "stdout",
     "output_type": "stream",
     "text": [
      "Results\n",
      "[('final', '1998 FIFA World Cup Final'), ('participants', 'Brazil national football team, France national association football team')]\n",
      "[('final', '2002 FIFA World Cup Final'), ('participants', 'Bernd Schneider, Cafu, Carsten Jancker, Carsten Ramelow, Christian Ziege, Christoph Metzelder, Denílson de Oliveira Araújo, Dida, Dietmar Hamann, Edmílson, Edílson, Frank Baumann, Gerald Asamoah, Gilberto Silva, Hans-Jörg Butt, Jens Jeremies, Jens Lehmann, Jenílson Ângelo de Souza, José Kléberson, Juliano Belletti, Juninho Paulista, Jörg Böhme, Kaká, Lars Ricken, Luiz Bombonato Goulart, Lúcio, Marco Bode, Marcos, Marko Rehmer, Miroslav Klose, Oliver Bierhoff, Oliver Kahn, Oliver Neuville, Ricardinho, Rivaldo, Roberto Carlos, Rogério Ceni, Ronaldinho, Ronaldo, Roque Júnior, Sebastian Kehl, Thomas Linke, Torsten Frings, Vampeta, Ânderson Polga')]\n",
      "[('final', '2006 FIFA World Cup Final'), ('participants', 'Daniele De Rossi, Francesco Totti')]\n",
      "[('final', 'Uruguay v Brazil 1950'), ('participants', 'Aczino, Woss')]\n"
     ]
    },
    {
     "data": {
      "text/plain": [
       "4"
      ]
     },
     "execution_count": 28,
     "metadata": {},
     "output_type": "execute_result"
    }
   ],
   "source": [
    "queryString = \"\"\"\n",
    "SELECT ?final GROUP_CONCAT(DISTINCT ?team; separator=\", \") AS ?participants\n",
    "WHERE{\n",
    "\n",
    "    ?wc wdt:P3450 wd:Q19317;\n",
    "        wdt:P580 ?start;\n",
    "        wdt:P3967 ?fe.\n",
    "\n",
    "    ?fe wdt:P710 ?p;\n",
    "        <http://schema.org/name> ?final.\n",
    "    \n",
    "    ?p <http://schema.org/name> ?team.  \n",
    "    \n",
    "    FILTER(?start < NOW()).\n",
    "\n",
    "}\n",
    "GROUP BY ?final\n",
    "ORDER BY ?final\n",
    "\"\"\"\n",
    "\n",
    "print(\"Results\")\n",
    "run_query(queryString)"
   ]
  },
  {
   "cell_type": "markdown",
   "id": "8727774f-7955-4b75-b1f7-d220498b9078",
   "metadata": {},
   "source": [
    "As I can see from the results the property returns a different type of information. I then return all properties where each FIFA World Cup Final is the object."
   ]
  },
  {
   "cell_type": "code",
   "execution_count": 29,
   "id": "06307fea-f5d5-4d90-828a-292daa304e5e",
   "metadata": {},
   "outputs": [
    {
     "name": "stdout",
     "output_type": "stream",
     "text": [
      "Results\n",
      "[('p', 'http://www.wikidata.org/prop/direct/P155'), ('pname', 'follows'), ('finals', '21')]\n",
      "[('p', 'http://www.wikidata.org/prop/direct/P3967'), ('pname', 'final event'), ('finals', '21')]\n",
      "[('p', 'http://www.wikidata.org/prop/direct/P156'), ('pname', 'followed by'), ('finals', '20')]\n",
      "[('p', 'http://www.wikidata.org/prop/direct/P1344'), ('pname', 'participant in'), ('finals', '7')]\n",
      "[('p', 'http://www.wikidata.org/prop/direct/P793'), ('pname', 'significant event'), ('finals', '3')]\n",
      "[('p', 'http://www.wikidata.org/prop/direct/P1855'), ('pname', 'Wikidata property example'), ('finals', '3')]\n",
      "[('p', 'http://www.wikidata.org/prop/direct/P2522'), ('pname', 'victory'), ('finals', '2')]\n",
      "[('p', 'http://www.wikidata.org/prop/direct/P527'), ('pname', 'has part'), ('finals', '2')]\n",
      "[('p', 'http://www.wikidata.org/prop/direct/P921'), ('pname', 'main subject'), ('finals', '2')]\n",
      "[('p', 'http://www.wikidata.org/prop/direct/P366'), ('pname', 'use'), ('finals', '1')]\n"
     ]
    },
    {
     "data": {
      "text/plain": [
       "10"
      ]
     },
     "execution_count": 29,
     "metadata": {},
     "output_type": "execute_result"
    }
   ],
   "source": [
    "queryString = \"\"\"\n",
    "SELECT ?p ?pname COUNT(DISTINCT ?fe) AS ?finals\n",
    "WHERE{\n",
    "\n",
    "    ?wc wdt:P3450 wd:Q19317;\n",
    "        wdt:P580 ?start;\n",
    "        wdt:P3967 ?fe.\n",
    "\n",
    "    ?s ?p ?fe.\n",
    "    \n",
    "    ?p <http://schema.org/name> ?pname.  \n",
    "    \n",
    "    FILTER(?start < NOW()).\n",
    "\n",
    "}\n",
    "ORDER BY DESC(?finals)\n",
    "\"\"\"\n",
    "\n",
    "print(\"Results\")\n",
    "run_query(queryString)"
   ]
  },
  {
   "cell_type": "markdown",
   "id": "c333a290-652f-4ca6-a4af-4a6e88f42709",
   "metadata": {},
   "source": [
    "Since I cannot find any useful information with this approach I check how a National Football Team is connected to the final."
   ]
  },
  {
   "cell_type": "code",
   "execution_count": 30,
   "id": "f9d24fee-4c15-4caf-a7f1-73a8b464222e",
   "metadata": {},
   "outputs": [
    {
     "name": "stdout",
     "output_type": "stream",
     "text": [
      "Results\n",
      "[('p', 'http://www.wikidata.org/prop/direct/P1344'), ('pname', 'participant in')]\n"
     ]
    },
    {
     "data": {
      "text/plain": [
       "1"
      ]
     },
     "execution_count": 30,
     "metadata": {},
     "output_type": "execute_result"
    }
   ],
   "source": [
    "queryString = \"\"\"\n",
    "SELECT DISTINCT ?p ?pname \n",
    "WHERE{\n",
    "\n",
    "    ?nft wdt:P31 wd:Q6979593.\n",
    "    \n",
    "    ?wc wdt:P3450 wd:Q19317;\n",
    "        wdt:P580 ?start;\n",
    "        wdt:P3967 ?fe.\n",
    "\n",
    "    ?nft ?p ?fe.\n",
    "    \n",
    "    ?p <http://schema.org/name> ?pname.  \n",
    "    \n",
    "    FILTER(?start < NOW()).\n",
    "\n",
    "}\n",
    "\"\"\"\n",
    "\n",
    "print(\"Results\")\n",
    "run_query(queryString)"
   ]
  },
  {
   "cell_type": "markdown",
   "id": "adecc416-7dea-4127-8ecf-7efba43d9c65",
   "metadata": {},
   "source": [
    "I also check the other direction."
   ]
  },
  {
   "cell_type": "code",
   "execution_count": 31,
   "id": "b73bb7e0-eaf7-4296-82e4-3f71f0c2c836",
   "metadata": {},
   "outputs": [
    {
     "name": "stdout",
     "output_type": "stream",
     "text": [
      "Results\n",
      "[('p', 'http://www.wikidata.org/prop/direct/P1346'), ('pname', 'winner')]\n",
      "[('p', 'http://www.wikidata.org/prop/direct/P710'), ('pname', 'participant')]\n",
      "[('p', 'http://www.wikidata.org/prop/direct/P1923'), ('pname', 'participating team')]\n"
     ]
    },
    {
     "data": {
      "text/plain": [
       "3"
      ]
     },
     "execution_count": 31,
     "metadata": {},
     "output_type": "execute_result"
    }
   ],
   "source": [
    "queryString = \"\"\"\n",
    "SELECT DISTINCT ?p ?pname \n",
    "WHERE{\n",
    "\n",
    "    ?nft wdt:P31 wd:Q6979593.\n",
    "    \n",
    "    ?wc wdt:P3450 wd:Q19317;\n",
    "        wdt:P580 ?start;\n",
    "        wdt:P3967 ?fe.\n",
    "\n",
    "    ?fe ?p ?nft.\n",
    "    \n",
    "    ?p <http://schema.org/name> ?pname.  \n",
    "    \n",
    "    FILTER(?start < NOW()).\n",
    "\n",
    "}\n",
    "\"\"\"\n",
    "\n",
    "print(\"Results\")\n",
    "run_query(queryString)"
   ]
  },
  {
   "cell_type": "markdown",
   "id": "54dea313-803d-45e5-a183-1d96b4b8df2a",
   "metadata": {},
   "source": [
    "I discovered FIFA World Cup Finals and National Football Teams are connected by the properties \"participant\" (wdt:P710), \"participating team\" (wdt:P1923) and \"participant in\" (wdt:P1344). I already checked the property \"participant and discovered it only provides information about the \"1998 FIFA World Cup Final\". I now check the other two properties starting from \"participating team\" (wdt:P1923)."
   ]
  },
  {
   "cell_type": "code",
   "execution_count": 32,
   "id": "82d86587-bc81-47f6-a0dc-78d1471fdfe9",
   "metadata": {},
   "outputs": [
    {
     "name": "stdout",
     "output_type": "stream",
     "text": [
      "Results\n",
      "[('final', '1930 FIFA World Cup Final'), ('participants', 'Argentina national football team, Uruguay national football team')]\n",
      "[('final', '1934 FIFA World Cup Final'), ('participants', 'Czechoslovakia national association football team, Italy national association football team')]\n",
      "[('final', '1938 FIFA World Cup Final'), ('participants', 'Hungary national association football team')]\n",
      "[('final', '1954 FIFA World Cup Final'), ('participants', 'Germany national association football team, Hungary national association football team')]\n",
      "[('final', '1958 FIFA World Cup Final'), ('participants', 'Brazil national football team, Sweden national association football team')]\n",
      "[('final', '1962 FIFA World Cup Final'), ('participants', 'Czechoslovakia national association football team')]\n",
      "[('final', '1970 FIFA World Cup Final'), ('participants', 'Brazil national football team, Italy national association football team')]\n",
      "[('final', '1974 FIFA World Cup Final'), ('participants', 'Germany national association football team')]\n",
      "[('final', '1978 FIFA World Cup Final'), ('participants', 'Netherlands national association football team')]\n",
      "[('final', '1982 FIFA World Cup Final'), ('participants', 'Germany national association football team')]\n",
      "[('final', '1986 FIFA World Cup Final'), ('participants', 'Germany national association football team')]\n",
      "[('final', '1990 FIFA World Cup Final'), ('participants', 'Argentina national football team')]\n",
      "[('final', '1994 FIFA World Cup Final'), ('participants', 'Italy national association football team')]\n",
      "[('final', '1998 FIFA World Cup Final'), ('participants', 'Brazil national football team, France national association football team')]\n",
      "[('final', '2002 FIFA World Cup Final'), ('participants', 'Brazil national football team, Germany national association football team')]\n",
      "[('final', '2006 FIFA World Cup Final'), ('participants', 'France national association football team, Italy national association football team')]\n",
      "[('final', '2010 FIFA World Cup Final'), ('participants', 'Netherlands national association football team, Spain national association football team')]\n",
      "[('final', '2014 FIFA World Cup Final'), ('participants', 'Argentina national football team, Germany national association football team')]\n",
      "[('final', 'Uruguay v Brazil 1950'), ('participants', 'Brazil national football team, Uruguay national football team')]\n"
     ]
    },
    {
     "data": {
      "text/plain": [
       "19"
      ]
     },
     "execution_count": 32,
     "metadata": {},
     "output_type": "execute_result"
    }
   ],
   "source": [
    "queryString = \"\"\"\n",
    "SELECT ?final GROUP_CONCAT(DISTINCT ?team; separator=\", \") AS ?participants\n",
    "WHERE{\n",
    "\n",
    "    ?nft wdt:P31 wd:Q6979593;\n",
    "         <http://schema.org/name> ?team.\n",
    "    \n",
    "    ?wc wdt:P3450 wd:Q19317;\n",
    "        wdt:P580 ?start;\n",
    "        wdt:P3967 ?fe.\n",
    "\n",
    "    ?fe wdt:P1923 ?nft;\n",
    "        <http://schema.org/name> ?final.\n",
    "    \n",
    "    FILTER(?start < NOW()).\n",
    "\n",
    "}\n",
    "GROUP BY ?final\n",
    "ORDER BY ?final\n",
    "\"\"\"\n",
    "\n",
    "print(\"Results\")\n",
    "run_query(queryString)"
   ]
  },
  {
   "cell_type": "markdown",
   "id": "be51a7ea-408a-45ca-b90b-b6bdea21f733",
   "metadata": {},
   "source": [
    "I discovered this property also provides information for the 1998 World Cup Final therefore I can avoid to use the property \"participant in\" (wdt:P1344). I now check the property \"participant\" (wdt:P710)."
   ]
  },
  {
   "cell_type": "code",
   "execution_count": 33,
   "id": "0223d101-051e-4ebb-927e-931ec01cb4c5",
   "metadata": {},
   "outputs": [
    {
     "name": "stdout",
     "output_type": "stream",
     "text": [
      "Results\n",
      "[('final', '1998 FIFA World Cup Final'), ('participants', 'Brazil national football team, France national association football team')]\n"
     ]
    },
    {
     "data": {
      "text/plain": [
       "1"
      ]
     },
     "execution_count": 33,
     "metadata": {},
     "output_type": "execute_result"
    }
   ],
   "source": [
    "queryString = \"\"\"\n",
    "SELECT ?final GROUP_CONCAT(DISTINCT ?team; separator=\", \") AS ?participants\n",
    "WHERE{\n",
    "\n",
    "    ?nft wdt:P31 wd:Q6979593;\n",
    "         <http://schema.org/name> ?team.\n",
    "    \n",
    "    ?wc wdt:P3450 wd:Q19317;\n",
    "        wdt:P580 ?start;\n",
    "        wdt:P3967 ?fe.\n",
    "\n",
    "    ?fe wdt:P710 ?nft;\n",
    "        <http://schema.org/name> ?final.\n",
    "    \n",
    "    FILTER(?start < NOW()).\n",
    "\n",
    "}\n",
    "GROUP BY ?final\n",
    "ORDER BY ?final\n",
    "\"\"\"\n",
    "\n",
    "print(\"Results\")\n",
    "run_query(queryString)"
   ]
  },
  {
   "cell_type": "markdown",
   "id": "f1a4d77c-afdf-4f29-b5db-a51b977b778e",
   "metadata": {},
   "source": [
    "Again, this property provide no additional information therefore I will use property \"participating team\" (wdt:P1923) although I can clearly see it does not provide information for all the FIFA World Cup Finals and it does not return both teams in most cases."
   ]
  },
  {
   "cell_type": "markdown",
   "id": "32d1b3a6-3796-4b01-836d-39e23cf9d530",
   "metadata": {
    "tags": []
   },
   "source": [
    "## Country Information \n",
    "This section contains the queries used to answer the second question: _Identify the BGP that connects a country with a national footbal team or as a location to a world cup_"
   ]
  },
  {
   "cell_type": "markdown",
   "id": "8b38b2fe-efd5-419c-9e54-277f1e76eb44",
   "metadata": {
    "tags": []
   },
   "source": [
    "### National Football Team Country\n",
    "Here I retrieve the connection between a country and a national football team.\n",
    "\n",
    "I recall I have the property \"nationality\" (wdt:P27) therefore I check if such property provides the information i am looking for."
   ]
  },
  {
   "cell_type": "code",
   "execution_count": 34,
   "id": "90eefe63-cd7a-429d-93a9-1ac61135fcd1",
   "metadata": {},
   "outputs": [
    {
     "name": "stdout",
     "output_type": "stream",
     "text": [
      "Results\n",
      "Empty\n"
     ]
    },
    {
     "data": {
      "text/plain": [
       "0"
      ]
     },
     "execution_count": 34,
     "metadata": {},
     "output_type": "execute_result"
    }
   ],
   "source": [
    "queryString = \"\"\"\n",
    "SELECT ?team ?c ?country\n",
    "WHERE { \n",
    "\n",
    "?nft wdt:P31 wd:Q6979593;\n",
    "     wdt:P27 ?c;\n",
    "     <http://schema.org/name> ?team.\n",
    "     \n",
    "?c <http://schema.org/name> ?country.\n",
    "\n",
    "} \n",
    "LIMIT 15\n",
    "\"\"\"\n",
    "\n",
    "print(\"Results\")\n",
    "run_query(queryString)"
   ]
  },
  {
   "cell_type": "markdown",
   "id": "e9b0bb54-2ad5-4eae-a34d-5f174e1cd6e3",
   "metadata": {},
   "source": [
    "Since I found no results I check how \"Spain national football team\" (wd:Q42267) is connected to \"Spain\" (wd:Q29)."
   ]
  },
  {
   "cell_type": "code",
   "execution_count": 35,
   "id": "1664f575-9502-491a-ae8e-212dcd3c2e8c",
   "metadata": {},
   "outputs": [
    {
     "name": "stdout",
     "output_type": "stream",
     "text": [
      "Results\n",
      "[('p', 'http://www.wikidata.org/prop/direct/P1532'), ('pname', 'country for sport')]\n",
      "[('p', 'http://www.wikidata.org/prop/direct/P17'), ('pname', 'country')]\n"
     ]
    },
    {
     "data": {
      "text/plain": [
       "2"
      ]
     },
     "execution_count": 35,
     "metadata": {},
     "output_type": "execute_result"
    }
   ],
   "source": [
    "queryString = \"\"\"\n",
    "SELECT ?p ?pname\n",
    "WHERE { \n",
    "\n",
    "wd:Q42267 ?p wd:Q29.\n",
    "     \n",
    "?p <http://schema.org/name> ?pname.\n",
    "\n",
    "} \n",
    "\"\"\"\n",
    "\n",
    "print(\"Results\")\n",
    "run_query(queryString)"
   ]
  },
  {
   "cell_type": "markdown",
   "id": "206f8aad-ef84-4e3e-9db8-0d88a181f264",
   "metadata": {},
   "source": [
    "I found the properties \"country\" (wdt:P17) and \"country for sport\" (wdt:P1532) I check how many National Football teams have these properties before deciding which one to use."
   ]
  },
  {
   "cell_type": "code",
   "execution_count": 36,
   "id": "08bcecfb-31d2-4965-934b-52ab159ed5ed",
   "metadata": {},
   "outputs": [
    {
     "name": "stdout",
     "output_type": "stream",
     "text": [
      "Results\n",
      "[('teams17', '1123')]\n"
     ]
    },
    {
     "data": {
      "text/plain": [
       "1"
      ]
     },
     "execution_count": 36,
     "metadata": {},
     "output_type": "execute_result"
    }
   ],
   "source": [
    "queryString = \"\"\"\n",
    "SELECT COUNT(DISTINCT ?nft) AS ?teams17\n",
    "WHERE { \n",
    "\n",
    "?nft wdt:P31 wd:Q6979593.\n",
    "\n",
    "FILTER EXISTS { ?nft wdt:P17 ?c. }\n",
    "\n",
    "} \n",
    "\"\"\"\n",
    "\n",
    "print(\"Results\")\n",
    "run_query(queryString)"
   ]
  },
  {
   "cell_type": "code",
   "execution_count": 37,
   "id": "3d9a4434-7140-4c01-a928-cb674fac2a30",
   "metadata": {},
   "outputs": [
    {
     "name": "stdout",
     "output_type": "stream",
     "text": [
      "Results\n",
      "[('teams1532', '1054')]\n"
     ]
    },
    {
     "data": {
      "text/plain": [
       "1"
      ]
     },
     "execution_count": 37,
     "metadata": {},
     "output_type": "execute_result"
    }
   ],
   "source": [
    "queryString = \"\"\"\n",
    "SELECT COUNT(DISTINCT ?nft) AS ?teams1532\n",
    "WHERE { \n",
    "\n",
    "?nft wdt:P31 wd:Q6979593.\n",
    "\n",
    "FILTER EXISTS { ?nft wdt:P1532 ?c. }\n",
    "\n",
    "} \n",
    "\"\"\"\n",
    "\n",
    "print(\"Results\")\n",
    "run_query(queryString)"
   ]
  },
  {
   "cell_type": "markdown",
   "id": "4362dfbe-70c7-46b9-9c05-2fadf3c0a27c",
   "metadata": {},
   "source": [
    "Since both properties are present for most teams I check if there are teams that have property \"country of sport\" (wdt:P1532) that do no have the property \"country\" (wdt:P17)."
   ]
  },
  {
   "cell_type": "code",
   "execution_count": 38,
   "id": "e52579ee-b147-49fb-9807-f61a6a2cc14c",
   "metadata": {},
   "outputs": [
    {
     "name": "stdout",
     "output_type": "stream",
     "text": [
      "Results\n",
      "[('teams', '55')]\n"
     ]
    },
    {
     "data": {
      "text/plain": [
       "1"
      ]
     },
     "execution_count": 38,
     "metadata": {},
     "output_type": "execute_result"
    }
   ],
   "source": [
    "queryString = \"\"\"\n",
    "SELECT COUNT(DISTINCT ?nft) AS ?teams\n",
    "WHERE { \n",
    "{\n",
    "    ?nft wdt:P31 wd:Q6979593.\n",
    "\n",
    "    FILTER EXISTS { ?nft wdt:P1532 ?c. }\n",
    "    \n",
    "}\n",
    "MINUS{\n",
    "\n",
    "    ?nft wdt:P31 wd:Q6979593.\n",
    "\n",
    "    FILTER EXISTS { ?nft wdt:P17 ?c. }\n",
    "    \n",
    "}\n",
    "\n",
    "} \n",
    "\"\"\"\n",
    "\n",
    "print(\"Results\")\n",
    "run_query(queryString)"
   ]
  },
  {
   "cell_type": "markdown",
   "id": "e1574381-0264-4809-8374-f3ef88619b02",
   "metadata": {},
   "source": [
    "I will use both properties when looking for a team's country."
   ]
  },
  {
   "cell_type": "markdown",
   "id": "1710c7f1-50a7-456c-b72c-452357b033cb",
   "metadata": {
    "tags": []
   },
   "source": [
    "### Countries Hosting a FIFA World Cup\n",
    "Here I retrieve information about which countries hosted a World Cup edition.\n",
    "\n",
    "I recall I discovered FIFA World Cups have the property \"country\" (wdt:P17) and \"location\" (wdt:P276) therefore I check if such properties provide the same information."
   ]
  },
  {
   "cell_type": "code",
   "execution_count": 39,
   "id": "30ae5b86-64a0-4235-9cec-ef558d35afce",
   "metadata": {},
   "outputs": [
    {
     "name": "stdout",
     "output_type": "stream",
     "text": [
      "Results\n",
      "[('wc', '1930 FIFA World Cup'), ('country', 'Uruguay'), ('location', 'Estadio Centenario')]\n",
      "[('wc', '1930 FIFA World Cup'), ('country', 'Uruguay'), ('location', 'Estadio Gran Parque Central')]\n",
      "[('wc', '1930 FIFA World Cup'), ('country', 'Uruguay'), ('location', 'Estadio Pocitos')]\n",
      "[('wc', '1934 FIFA World Cup'), ('country', 'Italy'), ('location', 'Stadio Giuseppe Meazza')]\n",
      "[('wc', '1934 FIFA World Cup'), ('country', 'Italy'), ('location', 'Stadio Olimpico Grande Torino')]\n",
      "[('wc', '1934 FIFA World Cup'), ('country', 'Italy'), ('location', 'Stadio Artemio Franchi (Florence)')]\n",
      "[('wc', '1934 FIFA World Cup'), ('country', 'Italy'), ('location', \"Stadio Renato Dall'Ara\")]\n",
      "[('wc', '1934 FIFA World Cup'), ('country', 'Italy'), ('location', 'Stadio Luigi Ferraris')]\n",
      "[('wc', '1934 FIFA World Cup'), ('country', 'Italy'), ('location', 'Stadio Giuseppe Grezar')]\n",
      "[('wc', '1934 FIFA World Cup'), ('country', 'Italy'), ('location', 'Stadio Nazionale PNF')]\n",
      "[('wc', '1934 FIFA World Cup'), ('country', 'Italy'), ('location', 'Stadio Giorgio Ascarelli')]\n",
      "[('wc', '1938 FIFA World Cup'), ('country', 'France'), ('location', 'Stade du Fort Carré')]\n",
      "[('wc', '1938 FIFA World Cup'), ('country', 'France'), ('location', 'Stadium Municipal')]\n",
      "[('wc', '1938 FIFA World Cup'), ('country', 'France'), ('location', 'Stade Chaban-Delmas')]\n",
      "[('wc', '1938 FIFA World Cup'), ('country', 'France'), ('location', 'Stade Jules Deschaseaux')]\n",
      "[('wc', '1938 FIFA World Cup'), ('country', 'France'), ('location', 'Stade Auguste Delaune')]\n",
      "[('wc', '1938 FIFA World Cup'), ('country', 'France'), ('location', 'Parc des Princes')]\n",
      "[('wc', '1938 FIFA World Cup'), ('country', 'France'), ('location', 'Stade Olympique Yves-du-Manoir')]\n",
      "[('wc', '1938 FIFA World Cup'), ('country', 'France'), ('location', 'Stade Vélodrome')]\n",
      "[('wc', '1938 FIFA World Cup'), ('country', 'France'), ('location', 'Stade de la Meinau')]\n",
      "[('wc', '1938 FIFA World Cup'), ('country', 'France'), ('location', 'Stade Victor Boucquey')]\n",
      "[('wc', '1950 FIFA World Cup'), ('country', 'Brazil'), ('location', 'Maracanã Stadium')]\n",
      "[('wc', '1950 FIFA World Cup'), ('country', 'Brazil'), ('location', 'Estádio do Pacaembu')]\n",
      "[('wc', '1950 FIFA World Cup'), ('country', 'Brazil'), ('location', 'Estádio dos Eucaliptos')]\n",
      "[('wc', '1950 FIFA World Cup'), ('country', 'Brazil'), ('location', 'Estádio Ilha do Retiro')]\n",
      "[('wc', '1950 FIFA World Cup'), ('country', 'Brazil'), ('location', 'Estádio Vila Capanema')]\n",
      "[('wc', '1950 FIFA World Cup'), ('country', 'Brazil'), ('location', 'Estádio Independência')]\n",
      "[('wc', '1954 FIFA World Cup'), ('country', 'Switzerland'), ('location', 'St. Jakob-Park')]\n",
      "[('wc', '1954 FIFA World Cup'), ('country', 'Switzerland'), ('location', 'Charmilles Stadium')]\n",
      "[('wc', '1954 FIFA World Cup'), ('country', 'Switzerland'), ('location', 'Stade Olympique de la Pontaise')]\n",
      "[('wc', '1954 FIFA World Cup'), ('country', 'Switzerland'), ('location', 'Cornaredo Stadium')]\n",
      "[('wc', '1954 FIFA World Cup'), ('country', 'Switzerland'), ('location', 'Wankdorf Stadium')]\n",
      "[('wc', '1954 FIFA World Cup'), ('country', 'Switzerland'), ('location', 'Hardturm')]\n",
      "[('wc', '1958 FIFA World Cup'), ('country', 'Sweden'), ('location', 'Örjans Vall')]\n",
      "[('wc', '1958 FIFA World Cup'), ('country', 'Sweden'), ('location', 'Olympia')]\n",
      "[('wc', '1958 FIFA World Cup'), ('country', 'Sweden'), ('location', 'Arosvallen')]\n",
      "[('wc', '1958 FIFA World Cup'), ('country', 'Sweden'), ('location', 'Råsunda Stadium')]\n",
      "[('wc', '1958 FIFA World Cup'), ('country', 'Sweden'), ('location', 'Jernvallen')]\n",
      "[('wc', '1958 FIFA World Cup'), ('country', 'Sweden'), ('location', 'Malmö stadion')]\n",
      "[('wc', '1958 FIFA World Cup'), ('country', 'Sweden'), ('location', 'Ullevi')]\n",
      "[('wc', '1958 FIFA World Cup'), ('country', 'Sweden'), ('location', 'Ryavallen')]\n",
      "[('wc', '1958 FIFA World Cup'), ('country', 'Sweden'), ('location', 'Tunavallen')]\n",
      "[('wc', '1958 FIFA World Cup'), ('country', 'Sweden'), ('location', 'Rimnersvallen')]\n",
      "[('wc', '1958 FIFA World Cup'), ('country', 'Sweden'), ('location', 'Behrn Arena')]\n",
      "[('wc', '1958 FIFA World Cup'), ('country', 'Sweden'), ('location', 'Idrottsparken')]\n",
      "[('wc', '1962 FIFA World Cup'), ('country', 'Chile'), ('location', 'Estadio Sausalito')]\n",
      "[('wc', '1962 FIFA World Cup'), ('country', 'Chile'), ('location', 'Estadio Nacional Julio Martínez Prádanos')]\n",
      "[('wc', '1962 FIFA World Cup'), ('country', 'Chile'), ('location', 'Estadio El Teniente')]\n",
      "[('wc', '1962 FIFA World Cup'), ('country', 'Chile'), ('location', 'Estadio Carlos Dittborn')]\n",
      "[('wc', '1966 FIFA World Cup'), ('country', 'United Kingdom'), ('location', 'Villa Park')]\n",
      "[('wc', '1966 FIFA World Cup'), ('country', 'United Kingdom'), ('location', 'Hillsborough Stadium')]\n",
      "[('wc', '1966 FIFA World Cup'), ('country', 'United Kingdom'), ('location', 'Ayresome Park')]\n",
      "[('wc', '1966 FIFA World Cup'), ('country', 'United Kingdom'), ('location', 'White City Stadium')]\n",
      "[('wc', '1966 FIFA World Cup'), ('country', 'United Kingdom'), ('location', 'Old Trafford')]\n",
      "[('wc', '1966 FIFA World Cup'), ('country', 'United Kingdom'), ('location', 'Wembley Stadium')]\n",
      "[('wc', '1966 FIFA World Cup'), ('country', 'United Kingdom'), ('location', 'Goodison Park')]\n",
      "[('wc', '1966 FIFA World Cup'), ('country', 'United Kingdom'), ('location', 'Roker Park')]\n",
      "[('wc', '1970 FIFA World Cup'), ('country', 'Mexico'), ('location', 'Cuauhtémoc Stadium')]\n",
      "[('wc', '1970 FIFA World Cup'), ('country', 'Mexico'), ('location', 'Estadio Azteca')]\n",
      "[('wc', '1970 FIFA World Cup'), ('country', 'Mexico'), ('location', 'Jalisco Stadium')]\n",
      "[('wc', '1970 FIFA World Cup'), ('country', 'Mexico'), ('location', 'Nemesio Díez Stadium')]\n",
      "[('wc', '1970 FIFA World Cup'), ('country', 'Mexico'), ('location', 'León Stadium')]\n",
      "[('wc', '1974 FIFA World Cup'), ('country', 'Germany'), ('location', 'West Germany')]\n",
      "[('wc', '1978 FIFA World Cup'), ('country', 'Argentina'), ('location', 'Estadio Mario Alberto Kempes')]\n",
      "[('wc', '1978 FIFA World Cup'), ('country', 'Argentina'), ('location', 'Estadio Monumental Antonio Vespucio Liberti')]\n",
      "[('wc', '1978 FIFA World Cup'), ('country', 'Argentina'), ('location', 'Estadio Malvinas Argentinas')]\n",
      "[('wc', '1978 FIFA World Cup'), ('country', 'Argentina'), ('location', 'José Amalfitani Stadium')]\n",
      "[('wc', '1978 FIFA World Cup'), ('country', 'Argentina'), ('location', 'Estadio José María Minella')]\n",
      "[('wc', '1978 FIFA World Cup'), ('country', 'Argentina'), ('location', 'Estadio Gigante de Arroyito')]\n",
      "[('wc', '1982 FIFA World Cup'), ('country', 'Mexico'), ('location', 'Vicente Calderón Stadium')]\n",
      "[('wc', '1982 FIFA World Cup'), ('country', 'Mexico'), ('location', 'La Rosaleda Stadium')]\n",
      "[('wc', '1982 FIFA World Cup'), ('country', 'Mexico'), ('location', 'Estadi de Sarrià')]\n",
      "[('wc', '1982 FIFA World Cup'), ('country', 'Mexico'), ('location', 'Estadio Municipal de Abanca Riazor')]\n",
      "[('wc', '1982 FIFA World Cup'), ('country', 'Mexico'), ('location', 'Camp Nou')]\n",
      "[('wc', '1982 FIFA World Cup'), ('country', 'Mexico'), ('location', 'La Romareda')]\n",
      "[('wc', '1982 FIFA World Cup'), ('country', 'Mexico'), ('location', 'Mestalla Stadium')]\n",
      "[('wc', '1982 FIFA World Cup'), ('country', 'Mexico'), ('location', 'Santiago Bernabéu Stadium')]\n",
      "[('wc', '1982 FIFA World Cup'), ('country', 'Mexico'), ('location', 'El Molinón-Enrique Castro Quini')]\n",
      "[('wc', '1982 FIFA World Cup'), ('country', 'Mexico'), ('location', 'Abanca Balaídos Stadium')]\n",
      "[('wc', '1982 FIFA World Cup'), ('country', 'Mexico'), ('location', 'Estadio Benito Villamarín')]\n",
      "[('wc', '1982 FIFA World Cup'), ('country', 'Mexico'), ('location', 'Estadio Ramón Sánchez Pigone')]\n",
      "[('wc', '1982 FIFA World Cup'), ('country', 'Mexico'), ('location', 'Estadio Nuevo José Zorrilla')]\n",
      "[('wc', '1982 FIFA World Cup'), ('country', 'Mexico'), ('location', 'Estadio Carlos Tartiere')]\n",
      "[('wc', '1982 FIFA World Cup'), ('country', 'Mexico'), ('location', 'San Mamés Stadium')]\n",
      "[('wc', '1982 FIFA World Cup'), ('country', 'Mexico'), ('location', 'Estadio José Rico Pérez')]\n",
      "[('wc', '1982 FIFA World Cup'), ('country', 'Mexico'), ('location', 'Estadio Manuel Martínez Valero')]\n",
      "[('wc', '1986 FIFA World Cup'), ('country', 'Mexico'), ('location', 'Cuauhtémoc Stadium')]\n",
      "[('wc', '1986 FIFA World Cup'), ('country', 'Mexico'), ('location', 'Estadio Azteca')]\n",
      "[('wc', '1986 FIFA World Cup'), ('country', 'Mexico'), ('location', 'Jalisco Stadium')]\n",
      "[('wc', '1986 FIFA World Cup'), ('country', 'Mexico'), ('location', 'Universitary Olympic Stadium')]\n",
      "[('wc', '1986 FIFA World Cup'), ('country', 'Mexico'), ('location', 'Estadio Universitario')]\n",
      "[('wc', '1986 FIFA World Cup'), ('country', 'Mexico'), ('location', 'Nemesio Díez Stadium')]\n",
      "[('wc', '1986 FIFA World Cup'), ('country', 'Mexico'), ('location', 'Corregidora Stadium')]\n",
      "[('wc', '1986 FIFA World Cup'), ('country', 'Mexico'), ('location', 'Estadio Neza 86')]\n",
      "[('wc', '1986 FIFA World Cup'), ('country', 'Mexico'), ('location', 'León Stadium')]\n",
      "[('wc', '1986 FIFA World Cup'), ('country', 'Mexico'), ('location', 'Estadio Sergio León Chávez')]\n",
      "[('wc', '1986 FIFA World Cup'), ('country', 'Mexico'), ('location', 'Tecnológico Stadium')]\n",
      "[('wc', '1986 FIFA World Cup'), ('country', 'Mexico'), ('location', 'Estadio Tres de Marzo')]\n",
      "[('wc', '1990 FIFA World Cup'), ('country', 'Italy'), ('location', 'Stadio Giuseppe Meazza')]\n",
      "[('wc', '1990 FIFA World Cup'), ('country', 'Italy'), ('location', 'Stadio Diego Armando Maradona')]\n",
      "[('wc', '1990 FIFA World Cup'), ('country', 'Italy'), ('location', 'Stadio Artemio Franchi (Florence)')]\n",
      "[('wc', '1990 FIFA World Cup'), ('country', 'Italy'), ('location', 'Stadio Renzo Barbera')]\n",
      "[('wc', '1990 FIFA World Cup'), ('country', 'Italy'), ('location', \"Stadio Renato Dall'Ara\")]\n",
      "[('wc', '1990 FIFA World Cup'), ('country', 'Italy'), ('location', 'Stadio Olimpico')]\n",
      "[('wc', '1990 FIFA World Cup'), ('country', 'Italy'), ('location', 'Stadio Friuli')]\n",
      "[('wc', '1990 FIFA World Cup'), ('country', 'Italy'), ('location', 'Stadio Luigi Ferraris')]\n",
      "[('wc', '1990 FIFA World Cup'), ('country', 'Italy'), ('location', 'Stadio Marcantonio Bentegodi')]\n",
      "[('wc', '1990 FIFA World Cup'), ('country', 'Italy'), ('location', 'Stadio delle Alpi')]\n",
      "[('wc', '1990 FIFA World Cup'), ('country', 'Italy'), ('location', \"Stadio Sant'Elia\")]\n",
      "[('wc', '1990 FIFA World Cup'), ('country', 'Italy'), ('location', 'Stadio San Nicola')]\n",
      "[('wc', '1994 FIFA World Cup'), ('country', 'United States of America'), ('location', 'Soldier Field')]\n",
      "[('wc', '1994 FIFA World Cup'), ('country', 'United States of America'), ('location', 'Cotton Bowl')]\n",
      "[('wc', '1994 FIFA World Cup'), ('country', 'United States of America'), ('location', 'Robert F. Kennedy Memorial Stadium')]\n",
      "[('wc', '1994 FIFA World Cup'), ('country', 'United States of America'), ('location', 'Camping World Stadium')]\n",
      "[('wc', '1994 FIFA World Cup'), ('country', 'United States of America'), ('location', 'Pontiac Silverdome')]\n",
      "[('wc', '1994 FIFA World Cup'), ('country', 'United States of America'), ('location', 'Foxboro Stadium')]\n",
      "[('wc', '1994 FIFA World Cup'), ('country', 'United States of America'), ('location', 'Giants Stadium')]\n",
      "[('wc', '1994 FIFA World Cup'), ('country', 'United States of America'), ('location', 'Rose Bowl')]\n",
      "[('wc', '1994 FIFA World Cup'), ('country', 'United States of America'), ('location', 'Stanford Stadium')]\n",
      "[('wc', '1998 FIFA World Cup'), ('country', 'France'), ('location', 'Stade de Gerland')]\n",
      "[('wc', '1998 FIFA World Cup'), ('country', 'France'), ('location', 'Stadium Municipal')]\n",
      "[('wc', '1998 FIFA World Cup'), ('country', 'France'), ('location', 'Stade de France')]\n",
      "[('wc', '1998 FIFA World Cup'), ('country', 'France'), ('location', 'Stade Chaban-Delmas')]\n",
      "[('wc', '1998 FIFA World Cup'), ('country', 'France'), ('location', 'Stade Bollaert-Delelis')]\n",
      "[('wc', '1998 FIFA World Cup'), ('country', 'France'), ('location', 'Parc des Princes')]\n",
      "[('wc', '1998 FIFA World Cup'), ('country', 'France'), ('location', 'Stade Vélodrome')]\n",
      "[('wc', '1998 FIFA World Cup'), ('country', 'France'), ('location', 'Stade de la Mosson')]\n",
      "[('wc', '1998 FIFA World Cup'), ('country', 'France'), ('location', 'Stade de la Beaujoire')]\n",
      "[('wc', '1998 FIFA World Cup'), ('country', 'France'), ('location', 'Stade Geoffroy-Guichard')]\n",
      "[('wc', '2002 FIFA World Cup'), ('country', 'Japan'), ('location', 'Busan Asiad Main Stadium')]\n",
      "[('wc', '2002 FIFA World Cup'), ('country', 'Japan'), ('location', 'Gwangju World Cup Stadium')]\n",
      "[('wc', '2002 FIFA World Cup'), ('country', 'Japan'), ('location', 'Saitama Stadium 2002')]\n",
      "[('wc', '2002 FIFA World Cup'), ('country', 'Japan'), ('location', 'Seoul World Cup Stadium')]\n",
      "[('wc', '2002 FIFA World Cup'), ('country', 'Japan'), ('location', 'Kashima Soccer Stadium')]\n",
      "[('wc', '2002 FIFA World Cup'), ('country', 'Japan'), ('location', 'Suwon World Cup Stadium')]\n",
      "[('wc', '2002 FIFA World Cup'), ('country', 'Japan'), ('location', 'International Stadium Yokohama')]\n",
      "[('wc', '2002 FIFA World Cup'), ('country', 'Japan'), ('location', 'Jeonju World Cup Stadium')]\n",
      "[('wc', '2002 FIFA World Cup'), ('country', 'Japan'), ('location', 'Maracanã District')]\n",
      "[('wc', '2002 FIFA World Cup'), ('country', 'Japan'), ('location', 'Sapporo Dome')]\n",
      "[('wc', '2002 FIFA World Cup'), ('country', 'Japan'), ('location', 'Daegu Stadium')]\n",
      "[('wc', '2002 FIFA World Cup'), ('country', 'Japan'), ('location', 'Ulsan Munsu Football Stadium')]\n",
      "[('wc', '2002 FIFA World Cup'), ('country', 'Japan'), ('location', 'Ōita Stadium')]\n",
      "[('wc', '2002 FIFA World Cup'), ('country', 'Japan'), ('location', 'Yanmar Stadium Nagai')]\n",
      "[('wc', '2002 FIFA World Cup'), ('country', 'Japan'), ('location', 'Wing Stadium Kobe')]\n",
      "[('wc', '2002 FIFA World Cup'), ('country', 'Japan'), ('location', 'Jeju World Cup Stadium')]\n",
      "[('wc', '2002 FIFA World Cup'), ('country', 'Japan'), ('location', 'Incheon Munhak Sports Complex')]\n",
      "[('wc', '2002 FIFA World Cup'), ('country', 'Japan'), ('location', 'Tohoku Electric Power Big Swan Stadium')]\n",
      "[('wc', '2002 FIFA World Cup'), ('country', 'Japan'), ('location', 'Q&A Stadium Miyagi')]\n",
      "[('wc', '2002 FIFA World Cup'), ('country', 'Japan'), ('location', 'Daejeon World Cup Stadium')]\n",
      "[('wc', '2002 FIFA World Cup'), ('country', 'South Korea'), ('location', 'Busan Asiad Main Stadium')]\n",
      "[('wc', '2002 FIFA World Cup'), ('country', 'South Korea'), ('location', 'Gwangju World Cup Stadium')]\n",
      "[('wc', '2002 FIFA World Cup'), ('country', 'South Korea'), ('location', 'Saitama Stadium 2002')]\n",
      "[('wc', '2002 FIFA World Cup'), ('country', 'South Korea'), ('location', 'Seoul World Cup Stadium')]\n",
      "[('wc', '2002 FIFA World Cup'), ('country', 'South Korea'), ('location', 'Kashima Soccer Stadium')]\n",
      "[('wc', '2002 FIFA World Cup'), ('country', 'South Korea'), ('location', 'Suwon World Cup Stadium')]\n",
      "[('wc', '2002 FIFA World Cup'), ('country', 'South Korea'), ('location', 'International Stadium Yokohama')]\n",
      "[('wc', '2002 FIFA World Cup'), ('country', 'South Korea'), ('location', 'Jeonju World Cup Stadium')]\n",
      "[('wc', '2002 FIFA World Cup'), ('country', 'South Korea'), ('location', 'Maracanã District')]\n",
      "[('wc', '2002 FIFA World Cup'), ('country', 'South Korea'), ('location', 'Sapporo Dome')]\n",
      "[('wc', '2002 FIFA World Cup'), ('country', 'South Korea'), ('location', 'Daegu Stadium')]\n",
      "[('wc', '2002 FIFA World Cup'), ('country', 'South Korea'), ('location', 'Ulsan Munsu Football Stadium')]\n",
      "[('wc', '2002 FIFA World Cup'), ('country', 'South Korea'), ('location', 'Ōita Stadium')]\n",
      "[('wc', '2002 FIFA World Cup'), ('country', 'South Korea'), ('location', 'Yanmar Stadium Nagai')]\n",
      "[('wc', '2002 FIFA World Cup'), ('country', 'South Korea'), ('location', 'Wing Stadium Kobe')]\n",
      "[('wc', '2002 FIFA World Cup'), ('country', 'South Korea'), ('location', 'Jeju World Cup Stadium')]\n",
      "[('wc', '2002 FIFA World Cup'), ('country', 'South Korea'), ('location', 'Incheon Munhak Sports Complex')]\n",
      "[('wc', '2002 FIFA World Cup'), ('country', 'South Korea'), ('location', 'Tohoku Electric Power Big Swan Stadium')]\n",
      "[('wc', '2002 FIFA World Cup'), ('country', 'South Korea'), ('location', 'Q&A Stadium Miyagi')]\n",
      "[('wc', '2002 FIFA World Cup'), ('country', 'South Korea'), ('location', 'Daejeon World Cup Stadium')]\n",
      "[('wc', '2006 FIFA World Cup'), ('country', 'Germany'), ('location', 'Olympiastadion Berlin')]\n",
      "[('wc', '2006 FIFA World Cup'), ('country', 'Germany'), ('location', 'Max-Morlock-Stadion')]\n",
      "[('wc', '2006 FIFA World Cup'), ('country', 'Germany'), ('location', 'Allianz Arena')]\n",
      "[('wc', '2006 FIFA World Cup'), ('country', 'Germany'), ('location', 'Mercedes-Benz Arena')]\n",
      "[('wc', '2006 FIFA World Cup'), ('country', 'Germany'), ('location', 'Waldstadion')]\n",
      "[('wc', '2006 FIFA World Cup'), ('country', 'Germany'), ('location', 'Volksparkstadion')]\n",
      "[('wc', '2006 FIFA World Cup'), ('country', 'Germany'), ('location', 'Veltins Arena')]\n",
      "[('wc', '2006 FIFA World Cup'), ('country', 'Germany'), ('location', 'RheinEnergie Stadion')]\n",
      "[('wc', '2006 FIFA World Cup'), ('country', 'Germany'), ('location', 'Westfalenstadion')]\n",
      "[('wc', '2006 FIFA World Cup'), ('country', 'Germany'), ('location', 'Fritz-Walter-Stadion')]\n",
      "[('wc', '2006 FIFA World Cup'), ('country', 'Germany'), ('location', 'Niedersachsenstadion')]\n",
      "[('wc', '2006 FIFA World Cup'), ('country', 'Germany'), ('location', 'Leipzig Arena')]\n",
      "[('wc', '2010 FIFA World Cup'), ('country', 'South Africa'), ('location', 'FNB Stadium')]\n",
      "[('wc', '2010 FIFA World Cup'), ('country', 'South Africa'), ('location', 'Cape Town Stadium')]\n",
      "[('wc', '2010 FIFA World Cup'), ('country', 'South Africa'), ('location', 'Mbombela Stadium')]\n",
      "[('wc', '2010 FIFA World Cup'), ('country', 'South Africa'), ('location', 'Free State Stadium')]\n",
      "[('wc', '2010 FIFA World Cup'), ('country', 'South Africa'), ('location', 'South Africa')]\n",
      "[('wc', '2010 FIFA World Cup'), ('country', 'South Africa'), ('location', 'Ellis Park Stadium')]\n",
      "[('wc', '2010 FIFA World Cup'), ('country', 'South Africa'), ('location', 'Loftus Versfeld Stadium')]\n",
      "[('wc', '2010 FIFA World Cup'), ('country', 'South Africa'), ('location', 'Moses Mabhida Stadium')]\n",
      "[('wc', '2010 FIFA World Cup'), ('country', 'South Africa'), ('location', 'Royal Bafokeng Stadium')]\n",
      "[('wc', '2010 FIFA World Cup'), ('country', 'South Africa'), ('location', 'Nelson Mandela Bay Stadium')]\n",
      "[('wc', '2010 FIFA World Cup'), ('country', 'South Africa'), ('location', 'Peter Mokaba Stadium')]\n",
      "[('wc', '2014 FIFA World Cup'), ('country', 'Brazil'), ('location', 'Mineirão')]\n",
      "[('wc', '2014 FIFA World Cup'), ('country', 'Brazil'), ('location', 'Arena da Baixada')]\n",
      "[('wc', '2014 FIFA World Cup'), ('country', 'Brazil'), ('location', 'Maracanã Stadium')]\n",
      "[('wc', '2014 FIFA World Cup'), ('country', 'Brazil'), ('location', 'Arena Pantaloneta')]\n",
      "[('wc', '2014 FIFA World Cup'), ('country', 'Brazil'), ('location', 'Estádio Nacional de Brasília')]\n",
      "[('wc', '2014 FIFA World Cup'), ('country', 'Brazil'), ('location', 'Arena Cidade da Copa')]\n",
      "[('wc', '2014 FIFA World Cup'), ('country', 'Brazil'), ('location', 'Arena Fonte Nova')]\n",
      "[('wc', '2014 FIFA World Cup'), ('country', 'Brazil'), ('location', 'Castelão')]\n",
      "[('wc', '2014 FIFA World Cup'), ('country', 'Brazil'), ('location', 'Neo Química Arena')]\n",
      "[('wc', '2014 FIFA World Cup'), ('country', 'Brazil'), ('location', 'Arena das Dunas')]\n",
      "[('wc', '2014 FIFA World Cup'), ('country', 'Brazil'), ('location', 'Arena Amazônia')]\n",
      "[('wc', '2014 FIFA World Cup'), ('country', 'Brazil'), ('location', 'Estádio Beira-Rio')]\n",
      "[('wc', '2018 FIFA World Cup'), ('country', 'Russia'), ('location', 'Luzhniki Stadium')]\n",
      "[('wc', '2018 FIFA World Cup'), ('country', 'Russia'), ('location', 'Otkrytie Bank Arena')]\n",
      "[('wc', '2018 FIFA World Cup'), ('country', 'Russia'), ('location', 'Fisht Olympic Stadium')]\n",
      "[('wc', '2018 FIFA World Cup'), ('country', 'Russia'), ('location', 'Rostov Arena')]\n",
      "[('wc', '2018 FIFA World Cup'), ('country', 'Russia'), ('location', 'Kazan Arena')]\n",
      "[('wc', '2018 FIFA World Cup'), ('country', 'Russia'), ('location', 'Gazprom Arena')]\n",
      "[('wc', '2018 FIFA World Cup'), ('country', 'Russia'), ('location', 'Volgograd Arena')]\n",
      "[('wc', '2018 FIFA World Cup'), ('country', 'Russia'), ('location', 'Nizhny Novgorod Stadium')]\n",
      "[('wc', '2018 FIFA World Cup'), ('country', 'Russia'), ('location', 'Kaliningrad Stadium')]\n",
      "[('wc', '2018 FIFA World Cup'), ('country', 'Russia'), ('location', 'Mordovia Arena')]\n",
      "[('wc', '2018 FIFA World Cup'), ('country', 'Russia'), ('location', 'Central Stadium Yekaterinburg')]\n",
      "[('wc', '2018 FIFA World Cup'), ('country', 'Russia'), ('location', 'Samara Arena')]\n"
     ]
    },
    {
     "data": {
      "text/plain": [
       "216"
      ]
     },
     "execution_count": 39,
     "metadata": {},
     "output_type": "execute_result"
    }
   ],
   "source": [
    "queryString = \"\"\"\n",
    "SELECT ?wc ?country ?location\n",
    "WHERE { \n",
    "\n",
    "?s wdt:P3450 wd:Q19317;\n",
    "    wdt:P580 ?start;\n",
    "    wdt:P17 ?c;\n",
    "    wdt:P276 ?l;\n",
    "    <http://schema.org/name> ?wc.\n",
    "    \n",
    "?c <http://schema.org/name> ?country.\n",
    "?l <http://schema.org/name> ?location.\n",
    "\n",
    "FILTER(?start < NOW()).\n",
    "\n",
    "}\n",
    "ORDER BY ?wc\n",
    "\"\"\"\n",
    "\n",
    "print(\"Results\")\n",
    "run_query(queryString)"
   ]
  },
  {
   "cell_type": "markdown",
   "id": "92b12db2-3106-4f54-b27b-5364c6a3d972",
   "metadata": {},
   "source": [
    "\"location\" property actually returns the stadiums where the FIFA World Cup matches were held. I use only the property \"country\" (wdt:P17) in order to retrieve the country where a FIFA World Cup edition was hosted."
   ]
  },
  {
   "cell_type": "markdown",
   "id": "63a69bd5-eac0-4c4a-a456-b194c2aae681",
   "metadata": {
    "tags": []
   },
   "source": [
    "## World Cups (Countries)\n",
    "This section contains the queries used to answer the third question: _In which countries took place a FIFA world cup or world cup final? With how many participants?_\n",
    "\n",
    "Firstly, by means of the property \"country\" (wdt:P17) I return the hosting country for each FIFA World Cup while with the property \"number of participant\" (wdt:P1132) ."
   ]
  },
  {
   "cell_type": "code",
   "execution_count": 40,
   "id": "eb70475d-19a8-4c43-bc84-3ce3e1ee8259",
   "metadata": {},
   "outputs": [
    {
     "name": "stdout",
     "output_type": "stream",
     "text": [
      "Results\n",
      "[('wc', '1930 FIFA World Cup'), ('country', 'Uruguay'), ('numParticipants', '13')]\n",
      "[('wc', '1934 FIFA World Cup'), ('country', 'Italy'), ('numParticipants', '16')]\n",
      "[('wc', '1938 FIFA World Cup'), ('country', 'France'), ('numParticipants', '15')]\n",
      "[('wc', '1950 FIFA World Cup'), ('country', 'Brazil'), ('numParticipants', '13')]\n",
      "[('wc', '1954 FIFA World Cup'), ('country', 'Switzerland'), ('numParticipants', '16')]\n",
      "[('wc', '1958 FIFA World Cup'), ('country', 'Sweden'), ('numParticipants', '16')]\n",
      "[('wc', '1962 FIFA World Cup'), ('country', 'Chile'), ('numParticipants', '16')]\n",
      "[('wc', '1966 FIFA World Cup'), ('country', 'United Kingdom'), ('numParticipants', '16')]\n",
      "[('wc', '1970 FIFA World Cup'), ('country', 'Mexico'), ('numParticipants', '16')]\n",
      "[('wc', '1974 FIFA World Cup'), ('country', 'Germany'), ('numParticipants', '16')]\n",
      "[('wc', '1978 FIFA World Cup'), ('country', 'Argentina'), ('numParticipants', '16')]\n",
      "[('wc', '1982 FIFA World Cup'), ('country', 'Mexico'), ('numParticipants', '24')]\n",
      "[('wc', '1986 FIFA World Cup'), ('country', 'Mexico'), ('numParticipants', '24')]\n",
      "[('wc', '1990 FIFA World Cup'), ('country', 'Italy'), ('numParticipants', '24')]\n",
      "[('wc', '1994 FIFA World Cup'), ('country', 'United States of America'), ('numParticipants', '24')]\n",
      "[('wc', '1998 FIFA World Cup'), ('country', 'France'), ('numParticipants', '32')]\n",
      "[('wc', '2002 FIFA World Cup'), ('country', 'Japan'), ('numParticipants', '33')]\n",
      "[('wc', '2002 FIFA World Cup'), ('country', 'South Korea'), ('numParticipants', '33')]\n",
      "[('wc', '2006 FIFA World Cup'), ('country', 'Germany'), ('numParticipants', '32')]\n",
      "[('wc', '2010 FIFA World Cup'), ('country', 'South Africa'), ('numParticipants', '32')]\n",
      "[('wc', '2014 FIFA World Cup'), ('country', 'Brazil'), ('numParticipants', '32')]\n",
      "[('wc', '2018 FIFA World Cup'), ('country', 'Russia'), ('numParticipants', '32')]\n"
     ]
    },
    {
     "data": {
      "text/plain": [
       "22"
      ]
     },
     "execution_count": 40,
     "metadata": {},
     "output_type": "execute_result"
    }
   ],
   "source": [
    "queryString = \"\"\"\n",
    "SELECT DISTINCT ?wc ?country ?numParticipants\n",
    "WHERE { \n",
    "\n",
    "?s wdt:P3450 wd:Q19317;\n",
    "    wdt:P580 ?start;\n",
    "    wdt:P1132 ?numParticipants;\n",
    "    wdt:P17 ?c;\n",
    "    <http://schema.org/name> ?wc.\n",
    "    \n",
    "?c <http://schema.org/name> ?country.\n",
    "\n",
    "FILTER(?start < NOW()).\n",
    "\n",
    "}\n",
    "ORDER BY ?wc\n",
    "\"\"\"\n",
    "\n",
    "print(\"Results\")\n",
    "run_query(queryString)"
   ]
  },
  {
   "cell_type": "markdown",
   "id": "239ee7e8-187b-441e-860d-0fb1a86d8fd8",
   "metadata": {},
   "source": [
    "From the result I notice there is a mistake in the data. In fact, the 1982 FIFA World Cup (wd:Q46934) was hosted in Spain, however the database returned Mexico as country. I check if there is an incorrect information in the database or there is another property for the hosting countries."
   ]
  },
  {
   "cell_type": "code",
   "execution_count": 41,
   "id": "7179fd11-7dcb-47d2-9538-a0edeb49f761",
   "metadata": {},
   "outputs": [
    {
     "name": "stdout",
     "output_type": "stream",
     "text": [
      "Results\n",
      "Empty\n"
     ]
    },
    {
     "data": {
      "text/plain": [
       "0"
      ]
     },
     "execution_count": 41,
     "metadata": {},
     "output_type": "execute_result"
    }
   ],
   "source": [
    "queryString = \"\"\"\n",
    "SELECT DISTINCT ?p ?pname\n",
    "WHERE { \n",
    "\n",
    "wd:Q46934 wdt:P17 wd:Q29.\n",
    "    \n",
    "?p <http://schema.org/name> ?pname.\n",
    "\n",
    "}\n",
    "\"\"\"\n",
    "\n",
    "print(\"Results\")\n",
    "run_query(queryString)"
   ]
  },
  {
   "cell_type": "markdown",
   "id": "cfc0bbb9-4aea-4733-beea-b9eea8368237",
   "metadata": {},
   "source": [
    "Since I have no connection between the 1982 World Cup and Spain I assess there is an incorrect information."
   ]
  },
  {
   "cell_type": "markdown",
   "id": "adc552d0-8c01-4a3a-8d29-f92166d59717",
   "metadata": {},
   "source": [
    "The country hosting the FIFA World Cup final of an edition is the same country hosting the whole turnament however when exploring the finals I discovered the property \"location\" (wdt:P276). For this reason I can return the stadium where each final was competed in."
   ]
  },
  {
   "cell_type": "code",
   "execution_count": 42,
   "id": "af1e8fc1-eb2b-4de5-9aa9-19771cfed197",
   "metadata": {},
   "outputs": [
    {
     "name": "stdout",
     "output_type": "stream",
     "text": [
      "Results\n",
      "[('final', '1930 FIFA World Cup Final'), ('location', 'Estadio Centenario')]\n",
      "[('final', '1934 FIFA World Cup Final'), ('location', 'Stadio Nazionale PNF')]\n",
      "[('final', '1938 FIFA World Cup Final'), ('location', 'Stade Olympique Yves-du-Manoir')]\n",
      "[('final', '1954 FIFA World Cup Final'), ('location', 'Wankdorf Stadium')]\n",
      "[('final', '1958 FIFA World Cup Final'), ('location', 'Råsunda Stadium')]\n",
      "[('final', '1962 FIFA World Cup Final'), ('location', 'Estadio Nacional Julio Martínez Prádanos')]\n",
      "[('final', '1966 FIFA World Cup Final'), ('location', 'Wembley Stadium')]\n",
      "[('final', '1970 FIFA World Cup Final'), ('location', 'Estadio Azteca')]\n",
      "[('final', '1974 FIFA World Cup Final'), ('location', 'Olympic Stadium of Munich')]\n",
      "[('final', '1978 FIFA World Cup Final'), ('location', 'Estadio Monumental Antonio Vespucio Liberti')]\n",
      "[('final', '1982 FIFA World Cup Final'), ('location', 'Madrid')]\n",
      "[('final', '1986 FIFA World Cup Final'), ('location', 'Estadio Azteca')]\n",
      "[('final', '1990 FIFA World Cup Final'), ('location', 'Stadio Olimpico')]\n",
      "[('final', '1994 FIFA World Cup Final'), ('location', 'Rose Bowl')]\n",
      "[('final', '1998 FIFA World Cup Final'), ('location', 'Stade de France')]\n",
      "[('final', '2002 FIFA World Cup Final'), ('location', 'International Stadium Yokohama')]\n",
      "[('final', '2006 FIFA World Cup Final'), ('location', 'Olympiastadion Berlin')]\n",
      "[('final', '2010 FIFA World Cup Final'), ('location', 'FNB Stadium')]\n",
      "[('final', '2014 FIFA World Cup Final'), ('location', 'Maracanã Stadium')]\n",
      "[('final', '2018 FIFA World Cup Final'), ('location', 'Luzhniki Stadium')]\n",
      "[('final', 'Uruguay v Brazil 1950'), ('location', 'Maracanã Stadium')]\n"
     ]
    },
    {
     "data": {
      "text/plain": [
       "21"
      ]
     },
     "execution_count": 42,
     "metadata": {},
     "output_type": "execute_result"
    }
   ],
   "source": [
    "queryString = \"\"\"\n",
    "SELECT ?final ?location\n",
    "WHERE{\n",
    "\n",
    "    ?wc wdt:P3450 wd:Q19317;\n",
    "        wdt:P580 ?start;\n",
    "        wdt:P3967 ?fe.\n",
    "\n",
    "    ?fe wdt:P276 ?l;\n",
    "        <http://schema.org/name> ?final.  \n",
    "        \n",
    "    ?l <http://schema.org/name> ?location.\n",
    "    \n",
    "    FILTER(?start < NOW()).\n",
    "\n",
    "}\n",
    "ORDER BY ?final\n",
    "\"\"\"\n",
    "\n",
    "print(\"Results\")\n",
    "run_query(queryString)"
   ]
  },
  {
   "cell_type": "markdown",
   "id": "8c3bdece-b57b-4381-9bbf-c07c2cf15843",
   "metadata": {},
   "source": [
    "I check if the node location have the property \"country\" (wdt:P17)."
   ]
  },
  {
   "cell_type": "code",
   "execution_count": 43,
   "id": "3b3139f8-7e9c-42ba-a7be-7d8251105a8f",
   "metadata": {},
   "outputs": [
    {
     "name": "stdout",
     "output_type": "stream",
     "text": [
      "Results\n",
      "[('final', '1930 FIFA World Cup Final'), ('location', 'Estadio Centenario'), ('country', 'Uruguay')]\n",
      "[('final', '1934 FIFA World Cup Final'), ('location', 'Stadio Nazionale PNF'), ('country', 'Italy')]\n",
      "[('final', '1938 FIFA World Cup Final'), ('location', 'Stade Olympique Yves-du-Manoir'), ('country', 'France')]\n",
      "[('final', '1954 FIFA World Cup Final'), ('location', 'Wankdorf Stadium'), ('country', 'Switzerland')]\n",
      "[('final', '1958 FIFA World Cup Final'), ('location', 'Råsunda Stadium'), ('country', 'Sweden')]\n",
      "[('final', '1962 FIFA World Cup Final'), ('location', 'Estadio Nacional Julio Martínez Prádanos'), ('country', 'Chile')]\n",
      "[('final', '1966 FIFA World Cup Final'), ('location', 'Wembley Stadium'), ('country', 'United Kingdom')]\n",
      "[('final', '1970 FIFA World Cup Final'), ('location', 'Estadio Azteca'), ('country', 'Mexico')]\n",
      "[('final', '1974 FIFA World Cup Final'), ('location', 'Olympic Stadium of Munich'), ('country', 'Germany')]\n",
      "[('final', '1978 FIFA World Cup Final'), ('location', 'Estadio Monumental Antonio Vespucio Liberti'), ('country', 'Argentina')]\n",
      "[('final', '1982 FIFA World Cup Final'), ('location', 'Madrid'), ('country', 'Spain')]\n",
      "[('final', '1986 FIFA World Cup Final'), ('location', 'Estadio Azteca'), ('country', 'Mexico')]\n",
      "[('final', '1990 FIFA World Cup Final'), ('location', 'Stadio Olimpico'), ('country', 'Italy')]\n",
      "[('final', '1994 FIFA World Cup Final'), ('location', 'Rose Bowl'), ('country', 'United States of America')]\n",
      "[('final', '1998 FIFA World Cup Final'), ('location', 'Stade de France'), ('country', 'France')]\n",
      "[('final', '2002 FIFA World Cup Final'), ('location', 'International Stadium Yokohama'), ('country', 'Japan')]\n",
      "[('final', '2006 FIFA World Cup Final'), ('location', 'Olympiastadion Berlin'), ('country', 'Germany')]\n",
      "[('final', '2010 FIFA World Cup Final'), ('location', 'FNB Stadium'), ('country', 'South Africa')]\n",
      "[('final', '2014 FIFA World Cup Final'), ('location', 'Maracanã Stadium'), ('country', 'Brazil')]\n",
      "[('final', '2018 FIFA World Cup Final'), ('location', 'Luzhniki Stadium'), ('country', 'Russia')]\n",
      "[('final', 'Uruguay v Brazil 1950'), ('location', 'Maracanã Stadium'), ('country', 'Brazil')]\n"
     ]
    },
    {
     "data": {
      "text/plain": [
       "21"
      ]
     },
     "execution_count": 43,
     "metadata": {},
     "output_type": "execute_result"
    }
   ],
   "source": [
    "queryString = \"\"\"\n",
    "SELECT ?final ?location ?country\n",
    "WHERE{\n",
    "\n",
    "    ?wc wdt:P3450 wd:Q19317;\n",
    "        wdt:P580 ?start;\n",
    "        wdt:P3967 ?fe.\n",
    "\n",
    "    ?fe wdt:P276 ?l;\n",
    "        <http://schema.org/name> ?final.  \n",
    "        \n",
    "    ?l wdt:P17 ?c;\n",
    "        <http://schema.org/name> ?location.\n",
    "        \n",
    "    ?c <http://schema.org/name> ?country.\n",
    "    \n",
    "    FILTER(?start < NOW()).\n",
    "\n",
    "}\n",
    "ORDER BY ?final\n",
    "\"\"\"\n",
    "\n",
    "print(\"Results\")\n",
    "run_query(queryString)"
   ]
  },
  {
   "cell_type": "markdown",
   "id": "044412d0-c29b-4cc8-acdd-def0237bd6a7",
   "metadata": {},
   "source": [
    "In this way I have more detailed information and I know the country that hosted the final in editions where there were multiple hosting country (2002 FIFA World Cup)."
   ]
  },
  {
   "cell_type": "markdown",
   "id": "098cc427-d2c7-4340-8248-c7841c168335",
   "metadata": {
    "tags": []
   },
   "source": [
    "## Partecipants and Winners\n",
    "This section contains the queries used to answer the last question: _Compare number of participants and winners of different world cups._"
   ]
  },
  {
   "cell_type": "markdown",
   "id": "41bdbb02-6996-4b2b-b44d-c92a09c4f747",
   "metadata": {
    "tags": []
   },
   "source": [
    "### Countries Participation\n",
    "_How many times each country participated in a world cup?_\n",
    "\n",
    "I answer to this question by means of the property \"country\" (wdt:P17)."
   ]
  },
  {
   "cell_type": "code",
   "execution_count": 44,
   "id": "cb20d114-7917-43c9-b313-40d7f7778009",
   "metadata": {},
   "outputs": [
    {
     "name": "stdout",
     "output_type": "stream",
     "text": [
      "Results\n",
      "[('country', 'Mexico'), ('hostedWCs', '3')]\n",
      "[('country', 'Brazil'), ('hostedWCs', '2')]\n",
      "[('country', 'France'), ('hostedWCs', '2')]\n",
      "[('country', 'Germany'), ('hostedWCs', '2')]\n",
      "[('country', 'Italy'), ('hostedWCs', '2')]\n",
      "[('country', 'South Africa'), ('hostedWCs', '1')]\n",
      "[('country', 'Sweden'), ('hostedWCs', '1')]\n",
      "[('country', 'South Korea'), ('hostedWCs', '1')]\n",
      "[('country', 'Argentina'), ('hostedWCs', '1')]\n",
      "[('country', 'United Kingdom'), ('hostedWCs', '1')]\n",
      "[('country', 'Uruguay'), ('hostedWCs', '1')]\n",
      "[('country', 'Japan'), ('hostedWCs', '1')]\n",
      "[('country', 'Russia'), ('hostedWCs', '1')]\n",
      "[('country', 'Chile'), ('hostedWCs', '1')]\n",
      "[('country', 'United States of America'), ('hostedWCs', '1')]\n",
      "[('country', 'Switzerland'), ('hostedWCs', '1')]\n"
     ]
    },
    {
     "data": {
      "text/plain": [
       "16"
      ]
     },
     "execution_count": 44,
     "metadata": {},
     "output_type": "execute_result"
    }
   ],
   "source": [
    "queryString = \"\"\"\n",
    "SELECT ?country COUNT(DISTINCT ?wc) AS ?hostedWCs\n",
    "WHERE { \n",
    "\n",
    "?wc wdt:P3450 wd:Q19317;\n",
    "    wdt:P580 ?start;\n",
    "    wdt:P17 ?c.\n",
    "    \n",
    "?c <http://schema.org/name> ?country.\n",
    "\n",
    "FILTER(?start < NOW()).\n",
    "\n",
    "}\n",
    "ORDER BY DESC(?hostedWCs)\n",
    "\"\"\"\n",
    "\n",
    "print(\"Results\")\n",
    "run_query(queryString)"
   ]
  },
  {
   "cell_type": "markdown",
   "id": "19ed569c-86c4-4f14-827a-4f72a1802a49",
   "metadata": {},
   "source": [
    "I recall Mexico is wrongly connected to the 1982 World Cup therefore it actually hosted 2 World Cups and Spain should be in the result set with 1 World Cup (1982 World Cup)."
   ]
  },
  {
   "cell_type": "markdown",
   "id": "936ff7c9-ee8f-4984-9fcb-638a7cc9288f",
   "metadata": {},
   "source": [
    "By means of the property \"country\" I can also retrieve each football national teams nationality and return the countries that participated in more FIFA World Cup Editions."
   ]
  },
  {
   "cell_type": "code",
   "execution_count": 46,
   "id": "c86e7b35-6599-4553-a60c-2ae0d645db7b",
   "metadata": {},
   "outputs": [
    {
     "name": "stdout",
     "output_type": "stream",
     "text": [
      "Results\n",
      "[('country', 'Brazil'), ('participations', '20')]\n",
      "[('country', 'Germany'), ('participations', '18')]\n",
      "[('country', 'Italy'), ('participations', '18')]\n",
      "[('country', 'Argentina'), ('participations', '16')]\n",
      "[('country', 'United Kingdom'), ('participations', '16')]\n",
      "[('country', 'Mexico'), ('participations', '15')]\n",
      "[('country', 'England'), ('participations', '14')]\n",
      "[('country', 'Spain'), ('participations', '14')]\n",
      "[('country', 'France'), ('participations', '14')]\n",
      "[('country', 'Uruguay'), ('participations', '12')]\n",
      "[('country', 'Belgium'), ('participations', '12')]\n",
      "[('country', 'Sweden'), ('participations', '11')]\n",
      "[('country', 'Netherlands'), ('participations', '10')]\n",
      "[('country', 'United States of America'), ('participations', '10')]\n",
      "[('country', 'Switzerland'), ('participations', '10')]\n",
      "[('country', 'South Korea'), ('participations', '9')]\n",
      "[('country', 'Chile'), ('participations', '9')]\n",
      "[('country', 'Hungary'), ('participations', '9')]\n",
      "[('country', 'Yugoslavia'), ('participations', '8')]\n",
      "[('country', 'Czechoslovakia'), ('participations', '8')]\n",
      "[('country', 'Scotland'), ('participations', '8')]\n",
      "[('country', 'Paraguay'), ('participations', '8')]\n",
      "[('country', 'Bulgaria'), ('participations', '7')]\n",
      "[('country', 'Poland'), ('participations', '7')]\n",
      "[('country', 'Romania'), ('participations', '7')]\n"
     ]
    },
    {
     "data": {
      "text/plain": [
       "25"
      ]
     },
     "execution_count": 46,
     "metadata": {},
     "output_type": "execute_result"
    }
   ],
   "source": [
    "queryString = \"\"\"\n",
    "SELECT ?country COUNT(DISTINCT ?wc) AS ?participations\n",
    "WHERE{\n",
    "\n",
    "    ?wc wdt:P3450 wd:Q19317;\n",
    "        wdt:P580 ?start.\n",
    "\n",
    "    ?nft wdt:P31 wd:Q6979593;\n",
    "         wdt:P17|wdt:P1532 ?c.  \n",
    "    \n",
    "    ?wc wdt:P1923 ?nft.\n",
    "    \n",
    "    ?c <http://schema.org/name> ?country.\n",
    "    \n",
    "    FILTER(?start < NOW()).\n",
    "\n",
    "}\n",
    "GROUP BY ?country\n",
    "ORDER BY DESC(?participations)\n",
    "LIMIT 25\n",
    "\"\"\"\n",
    "\n",
    "print(\"Results\")\n",
    "run_query(queryString)"
   ]
  },
  {
   "cell_type": "markdown",
   "id": "488f9e85-9afc-4526-a3b2-54161a5be99d",
   "metadata": {
    "tags": []
   },
   "source": [
    "### World Cup Finals\n",
    "_Which country participated in the most finals? Which country won the most finals?_\n",
    "\n",
    "I found the connection between FIFA World Cup finals and the national football teams in a previous section and the same goes for the country information of each team. I recall data are incomplete as far as final participants are concerned. "
   ]
  },
  {
   "cell_type": "code",
   "execution_count": 47,
   "id": "f802815c-9eb2-47df-8d72-327494f3a4f6",
   "metadata": {},
   "outputs": [
    {
     "name": "stdout",
     "output_type": "stream",
     "text": [
      "Results\n",
      "[('country', 'Germany'), ('finals', '6')]\n",
      "[('country', 'Brazil'), ('finals', '5')]\n",
      "[('country', 'Italy'), ('finals', '4')]\n",
      "[('country', 'Argentina'), ('finals', '3')]\n",
      "[('country', 'Czechoslovakia'), ('finals', '2')]\n",
      "[('country', 'Netherlands'), ('finals', '2')]\n",
      "[('country', 'Uruguay'), ('finals', '2')]\n",
      "[('country', 'Hungary'), ('finals', '2')]\n",
      "[('country', 'France'), ('finals', '2')]\n",
      "[('country', 'Sweden'), ('finals', '1')]\n",
      "[('country', 'Spain'), ('finals', '1')]\n"
     ]
    },
    {
     "data": {
      "text/plain": [
       "11"
      ]
     },
     "execution_count": 47,
     "metadata": {},
     "output_type": "execute_result"
    }
   ],
   "source": [
    "queryString = \"\"\"\n",
    "SELECT ?country COUNT(DISTINCT ?fe) AS ?finals\n",
    "WHERE { \n",
    "\n",
    "?nft wdt:P31 wd:Q6979593;\n",
    "     wdt:P17|wdt:P1532 ?c.\n",
    "    \n",
    "?wc wdt:P3450 wd:Q19317;\n",
    "    wdt:P580 ?start;\n",
    "    wdt:P3967 ?fe.\n",
    "\n",
    "?fe wdt:P1923 ?nft.\n",
    "\n",
    "?c <http://schema.org/name> ?country.\n",
    "     \n",
    "FILTER(?start < NOW()).\n",
    "\n",
    "} \n",
    "GROUP BY ?country\n",
    "ORDER BY DESC(?finals)\n",
    "\"\"\"\n",
    "\n",
    "print(\"Results\")\n",
    "run_query(queryString)"
   ]
  },
  {
   "cell_type": "markdown",
   "id": "98449da2-9452-4b90-b784-7b044800e6e3",
   "metadata": {},
   "source": [
    "I recall I found the property \"winner\" (wdt:P1346) for the FIFA World Cup final. Firstly I check if such property is present for each final."
   ]
  },
  {
   "cell_type": "code",
   "execution_count": 48,
   "id": "4afed42f-ec20-44f4-a16e-f8ef7ab97f77",
   "metadata": {},
   "outputs": [
    {
     "name": "stdout",
     "output_type": "stream",
     "text": [
      "Results\n",
      "[('final', '1930 FIFA World Cup Final'), ('winner', 'Uruguay national football team')]\n",
      "[('final', '1934 FIFA World Cup Final'), ('winner', 'Italy national association football team')]\n",
      "[('final', '1938 FIFA World Cup Final'), ('winner', 'Italy national association football team')]\n",
      "[('final', '1954 FIFA World Cup Final'), ('winner', 'Germany national association football team')]\n",
      "[('final', '1958 FIFA World Cup Final'), ('winner', 'Brazil national football team')]\n",
      "[('final', '1966 FIFA World Cup Final'), ('winner', 'England at the 1966 FIFA World Cup')]\n",
      "[('final', '1970 FIFA World Cup Final'), ('winner', 'Brazil national football team')]\n",
      "[('final', '2002 FIFA World Cup Final'), ('winner', 'Brazil national football team')]\n",
      "[('final', '2006 FIFA World Cup Final'), ('winner', 'Italy national association football team')]\n",
      "[('final', '2010 FIFA World Cup Final'), ('winner', 'Spain national association football team')]\n",
      "[('final', '2014 FIFA World Cup Final'), ('winner', 'Germany national association football team')]\n",
      "[('final', '2018 FIFA World Cup Final'), ('winner', 'France at the 2018 FIFA World Cup\\u200e')]\n",
      "[('final', 'Uruguay v Brazil 1950'), ('winner', 'Uruguay national football team')]\n"
     ]
    },
    {
     "data": {
      "text/plain": [
       "13"
      ]
     },
     "execution_count": 48,
     "metadata": {},
     "output_type": "execute_result"
    }
   ],
   "source": [
    "queryString = \"\"\"\n",
    "SELECT ?final ?winner \n",
    "WHERE { \n",
    "    \n",
    "?wc wdt:P3450 wd:Q19317;\n",
    "    wdt:P580 ?start;\n",
    "    wdt:P3967 ?f.\n",
    "\n",
    "?f wdt:P1346 ?w.\n",
    "\n",
    "?f <http://schema.org/name> ?final.\n",
    "?w <http://schema.org/name> ?winner.\n",
    "     \n",
    "FILTER(?start < NOW()).\n",
    "\n",
    "} \n",
    "ORDER BY ?final\n",
    "\"\"\"\n",
    "\n",
    "print(\"Results\")\n",
    "run_query(queryString)"
   ]
  },
  {
   "cell_type": "markdown",
   "id": "c5e9c812-e883-4c86-b050-32fe7b0b202d",
   "metadata": {},
   "source": [
    "We miss information about World Cups held between 1974 and 1998. I recall such property is also connected to the FIFA World Cup therefore I check if the information is present in that case. Of course, whoever won the FIFA World Cup turnament won the final as well."
   ]
  },
  {
   "cell_type": "code",
   "execution_count": 49,
   "id": "39719eba-a271-475d-b56e-be87e597b88f",
   "metadata": {},
   "outputs": [
    {
     "name": "stdout",
     "output_type": "stream",
     "text": [
      "Results\n",
      "[('edition', '1930 FIFA World Cup'), ('winner', 'Uruguay national football team')]\n",
      "[('edition', '1934 FIFA World Cup'), ('winner', 'Italy national association football team')]\n",
      "[('edition', '1938 FIFA World Cup'), ('winner', 'Italy national association football team')]\n",
      "[('edition', '1950 FIFA World Cup'), ('winner', 'Uruguay national football team')]\n",
      "[('edition', '1954 FIFA World Cup'), ('winner', 'Germany national association football team')]\n",
      "[('edition', '1958 FIFA World Cup'), ('winner', 'Brazil national football team')]\n",
      "[('edition', '1962 FIFA World Cup'), ('winner', 'Brazil national football team')]\n",
      "[('edition', '1966 FIFA World Cup'), ('winner', 'England national association football team')]\n",
      "[('edition', '1970 FIFA World Cup'), ('winner', 'Brazil national football team')]\n",
      "[('edition', '1974 FIFA World Cup'), ('winner', 'Germany national association football team')]\n",
      "[('edition', '1978 FIFA World Cup'), ('winner', 'Argentina national football team')]\n",
      "[('edition', '1982 FIFA World Cup'), ('winner', 'Italy national association football team')]\n",
      "[('edition', '1986 FIFA World Cup'), ('winner', 'Argentina national football team')]\n",
      "[('edition', '1990 FIFA World Cup'), ('winner', 'Germany national association football team')]\n",
      "[('edition', '1994 FIFA World Cup'), ('winner', 'Brazil national football team')]\n",
      "[('edition', '1998 FIFA World Cup'), ('winner', 'France national association football team')]\n",
      "[('edition', '2002 FIFA World Cup'), ('winner', 'Brazil national football team')]\n",
      "[('edition', '2006 FIFA World Cup'), ('winner', 'Italy national association football team')]\n",
      "[('edition', '2010 FIFA World Cup'), ('winner', 'Spain national association football team')]\n",
      "[('edition', '2014 FIFA World Cup'), ('winner', 'Germany national association football team')]\n",
      "[('edition', '2018 FIFA World Cup'), ('winner', 'France national association football team')]\n"
     ]
    },
    {
     "data": {
      "text/plain": [
       "21"
      ]
     },
     "execution_count": 49,
     "metadata": {},
     "output_type": "execute_result"
    }
   ],
   "source": [
    "queryString = \"\"\"\n",
    "SELECT ?edition ?winner \n",
    "WHERE { \n",
    "    \n",
    "?wc wdt:P3450 wd:Q19317;\n",
    "    wdt:P580 ?start;\n",
    "    wdt:P1346 ?w.\n",
    "\n",
    "?wc <http://schema.org/name> ?edition.\n",
    "?w <http://schema.org/name> ?winner.\n",
    "     \n",
    "FILTER(?start < NOW()).\n",
    "\n",
    "} \n",
    "ORDER BY ?edition\n",
    "\"\"\"\n",
    "\n",
    "print(\"Results\")\n",
    "run_query(queryString)"
   ]
  },
  {
   "cell_type": "markdown",
   "id": "35e30e14-49cc-4b4e-9dc9-fa3dcc09a21a",
   "metadata": {},
   "source": [
    "I use the property \"winner\" (wdt:P1346) connected to the FIFA World Cup since it has more complete information. Now I can return the countries who won the most finals."
   ]
  },
  {
   "cell_type": "code",
   "execution_count": 50,
   "id": "bda7a1ca-5ff8-44dd-bfc4-fc9490462984",
   "metadata": {},
   "outputs": [
    {
     "name": "stdout",
     "output_type": "stream",
     "text": [
      "Results\n",
      "[('c', 'http://www.wikidata.org/entity/Q155'), ('country', 'Brazil'), ('wins', '5')]\n",
      "[('c', 'http://www.wikidata.org/entity/Q38'), ('country', 'Italy'), ('wins', '4')]\n",
      "[('c', 'http://www.wikidata.org/entity/Q183'), ('country', 'Germany'), ('wins', '4')]\n",
      "[('c', 'http://www.wikidata.org/entity/Q142'), ('country', 'France'), ('wins', '2')]\n",
      "[('c', 'http://www.wikidata.org/entity/Q77'), ('country', 'Uruguay'), ('wins', '2')]\n",
      "[('c', 'http://www.wikidata.org/entity/Q414'), ('country', 'Argentina'), ('wins', '2')]\n",
      "[('c', 'http://www.wikidata.org/entity/Q145'), ('country', 'United Kingdom'), ('wins', '1')]\n",
      "[('c', 'http://www.wikidata.org/entity/Q21'), ('country', 'England'), ('wins', '1')]\n",
      "[('c', 'http://www.wikidata.org/entity/Q29'), ('country', 'Spain'), ('wins', '1')]\n"
     ]
    },
    {
     "data": {
      "text/plain": [
       "9"
      ]
     },
     "execution_count": 50,
     "metadata": {},
     "output_type": "execute_result"
    }
   ],
   "source": [
    "queryString = \"\"\"\n",
    "SELECT ?c ?country COUNT(DISTINCT ?wc) AS ?wins\n",
    "WHERE { \n",
    "\n",
    "?nft wdt:P31 wd:Q6979593;\n",
    "     wdt:P17|wdt:P1532 ?c.\n",
    "    \n",
    "?wc wdt:P3450 wd:Q19317;\n",
    "    wdt:P580 ?start;\n",
    "    wdt:P1346 ?nft.\n",
    "\n",
    "?c <http://schema.org/name> ?country.\n",
    "     \n",
    "FILTER(?start < NOW()).\n",
    "\n",
    "} \n",
    "GROUP BY ?c ?country\n",
    "ORDER BY DESC(?wins)\n",
    "\"\"\"\n",
    "\n",
    "print(\"Results\")\n",
    "run_query(queryString)"
   ]
  },
  {
   "cell_type": "markdown",
   "id": "ed3f747c-ae69-477b-951b-e340c7dc6101",
   "metadata": {
    "tags": []
   },
   "source": [
    "### Italy, France, Spain, Germany\n",
    "_Who participated in the most world cups among Italy, France, Spain, and Germany?_\n",
    "\n",
    "I recall:\n",
    "\n",
    "| IRI           | Description   | Role      |\n",
    "| -----------   | -----------   |-----------|\n",
    "| `wd:Q38`   | Italy   | node |\n",
    "| `wd:Q142`   | France   | node |\n",
    "| `wd:Q29`   | Spain  | node |\n",
    "| `wd:Q183`   | Germany   | node |\n",
    "\n",
    "Therefore I filter a query counting the participation of each country in order to select only the interested countries. I recall I use property \"participating team\" (wdt:P1923) to assess the team participation."
   ]
  },
  {
   "cell_type": "code",
   "execution_count": 51,
   "id": "7de8e820-dbe0-4a07-9a26-5ff7b4028d6b",
   "metadata": {},
   "outputs": [
    {
     "name": "stdout",
     "output_type": "stream",
     "text": [
      "Results\n",
      "[('country', 'Germany'), ('participations', '18')]\n",
      "[('country', 'Italy'), ('participations', '18')]\n",
      "[('country', 'Spain'), ('participations', '14')]\n",
      "[('country', 'France'), ('participations', '14')]\n"
     ]
    },
    {
     "data": {
      "text/plain": [
       "4"
      ]
     },
     "execution_count": 51,
     "metadata": {},
     "output_type": "execute_result"
    }
   ],
   "source": [
    "queryString = \"\"\"\n",
    "SELECT ?country COUNT(DISTINCT ?wc) AS ?participations\n",
    "WHERE{\n",
    "\n",
    "    ?wc wdt:P3450 wd:Q19317;\n",
    "        wdt:P580 ?start;\n",
    "        wdt:P1923 ?nft.\n",
    "\n",
    "    ?nft wdt:P31 wd:Q6979593;\n",
    "         wdt:P17|wdt:P1532 ?c.  \n",
    "    \n",
    "    ?c <http://schema.org/name> ?country.\n",
    "    \n",
    "    FILTER(?start < NOW()).\n",
    "    FILTER(?c = wd:Q38 || ?c = wd:Q142 || ?c = wd:Q29 || ?c = wd:Q183).\n",
    "\n",
    "}\n",
    "GROUP BY ?country\n",
    "ORDER BY DESC(?participations)\n",
    "\"\"\"\n",
    "\n",
    "print(\"Results\")\n",
    "run_query(queryString)"
   ]
  },
  {
   "cell_type": "markdown",
   "id": "0011aa12-9822-43ec-a777-6a7af8cd440d",
   "metadata": {},
   "source": [
    "Germany annd Italy participated in most FIFA World Cups and they also won more editions than the other countries. "
   ]
  },
  {
   "cell_type": "code",
   "execution_count": null,
   "id": "a8a6d456-d56a-4b24-8017-1091c9464caa",
   "metadata": {},
   "outputs": [],
   "source": []
  }
 ],
 "metadata": {
  "kernelspec": {
   "display_name": "Python 3",
   "language": "python",
   "name": "python3"
  },
  "language_info": {
   "codemirror_mode": {
    "name": "ipython",
    "version": 3
   },
   "file_extension": ".py",
   "mimetype": "text/x-python",
   "name": "python",
   "nbconvert_exporter": "python",
   "pygments_lexer": "ipython3",
   "version": "3.7.10"
  }
 },
 "nbformat": 4,
 "nbformat_minor": 5
}
