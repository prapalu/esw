{
 "cells": [
  {
   "cell_type": "markdown",
   "id": "7034c3bf-6eb0-4418-8687-7b9d2a501103",
   "metadata": {},
   "source": [
    "# General instructions\n",
    "\n",
    "The goal of the project is to materialize a set of **exploratory workloads** over a real-world, large-scale,  open-domain KG: [WikiData](https://www.wikidata.org/wiki/Wikidata:Main_Page)\n",
    "\n",
    "An exploratory workload  is composed by a set of queries, where each query is related to the information obtained previously.\n",
    "\n",
    "An exploratory workload starts with a usually vague, open ended question, and does not assume the person issuing the workload has a clear understanding of the data contained in the target database or its structure.\n",
    "\n",
    "Remeber that:\n",
    "\n",
    "1. All the queries must run in the python notebook\n",
    "2. You can use classes and properties only if you find them via a SPARQL query that must be present in the notebook\n",
    "3. You do not delete useless queries. Keep everything that is synthatically valid \n",
    "\n",
    "```\n",
    "?p <http://schema.org/name> ?name .\n",
    "```\n",
    "    \n",
    "is the BGP returning a human-readable name of a property or a class in Wikidata.\n",
    "    \n",
    "    "
   ]
  },
  {
   "cell_type": "code",
   "execution_count": 1,
   "id": "3605c9d5-5371-49a5-be8d-d66e8f417139",
   "metadata": {},
   "outputs": [],
   "source": [
    "## SETUP used later\n",
    "\n",
    "from SPARQLWrapper import SPARQLWrapper, JSON\n",
    "\n",
    "\n",
    "prefixString = \"\"\"\n",
    "##-d17b0d6009-##\n",
    "PREFIX wd: <http://www.wikidata.org/entity/> \n",
    "PREFIX wdt: <http://www.wikidata.org/prop/direct/> \n",
    "PREFIX sc: <http://schema.org/>\n",
    "\"\"\"\n",
    "\n",
    "# select and construct queries\n",
    "def run_query(queryString):\n",
    "    to_run = prefixString + \"\\n\" + queryString\n",
    "\n",
    "    sparql = SPARQLWrapper(\"http://a256-gc1-02.srv.aau.dk:5820/sparql\")\n",
    "    sparql.setTimeout(300)\n",
    "    sparql.setReturnFormat(JSON)\n",
    "    sparql.setQuery(to_run)\n",
    "\n",
    "    try :\n",
    "       results = sparql.query()\n",
    "       json_results = results.convert()\n",
    "       if len(json_results['results']['bindings'])==0:\n",
    "          print(\"Empty\")\n",
    "          return 0\n",
    "    \n",
    "       for bindings in json_results['results']['bindings']:\n",
    "          print( [ (var, value['value'])  for var, value in bindings.items() ] )\n",
    "\n",
    "       return len(json_results['results']['bindings'])\n",
    "\n",
    "    except Exception as e :\n",
    "        print(\"The operation failed\", e)\n",
    "    \n",
    "# ASk queries\n",
    "def run_ask_query(queryString):\n",
    "    to_run = prefixString + \"\\n\" + queryString\n",
    "\n",
    "    sparql = SPARQLWrapper(\"http://a256-gc1-02.srv.aau.dk:5820/sparql\")\n",
    "    sparql.setTimeout(300)\n",
    "    sparql.setReturnFormat(JSON)\n",
    "    sparql.setQuery(to_run)\n",
    "\n",
    "    try :\n",
    "        return sparql.query().convert()\n",
    "\n",
    "    except Exception as e :\n",
    "        print(\"The operation failed\", e)\n"
   ]
  },
  {
   "cell_type": "markdown",
   "id": "d477a59c-a68c-4c8f-9f97-8ca5294d7d27",
   "metadata": {},
   "source": [
    "# Politics Workflow Series (\"Politicians in E.U.\") \n",
    "\n",
    "Consider the following exploratory information need:\n",
    "\n",
    "> You investigating the careers of politicians in the E.U."
   ]
  },
  {
   "cell_type": "markdown",
   "id": "4a45c0ba-f79e-441d-bec5-84401b09db70",
   "metadata": {},
   "source": [
    "## Useful URIs for the current workflow\n",
    "\n",
    "\n",
    "The following are given:\n",
    "\n",
    "| IRI           | Description   | Role      |\n",
    "| -----------   | -----------   |-----------|\n",
    "| `wdt:P1647`   | subproperty   | predicate |\n",
    "| `wdt:P31`     | instance of   | predicate |\n",
    "| `wdt:P279`    | subclass      | predicate |\n",
    "| `wdt:P17`     | country       | predicate |\n",
    "| `wdt:P27`     | citizenship   | predicate |\n",
    "| `wdt:P39`     | position held   | predicate |\n",
    "| `wdt:P106`    | profession   | predicate |\n",
    "| `wd:Q82955`   | politician | node      |\n",
    "| `wd:Q46`      | Europe        | node |\n",
    "| `wd:Q38`      | Italy          | node |\n",
    "\n",
    "\n",
    "\n",
    "Also consider\n",
    "\n",
    "```\n",
    "?p wdt:P106/wdt:P279* wd:Q82955  . \n",
    "```\n",
    "\n",
    "is the BGP to retrieve all **politicians**"
   ]
  },
  {
   "cell_type": "markdown",
   "id": "7af439fb-96e4-4dbb-a381-f19afab79f86",
   "metadata": {
    "tags": []
   },
   "source": [
    "## Workload Goals\n",
    "\n",
    "\n",
    "1. Identify the BGP to retrieve E.U. countries and their politicians\n",
    "\n",
    "2. Identify the BGP for obtaining other occupations and properties of politicians\n",
    "\n",
    "3. How many politicians are recorder for each E.U. country?\n",
    "\n",
    "4. Are there politicians with double citizenship?\n",
    "\n",
    "5. Analyze the number of politicians in each country by occupation, for instance\n",
    " \n",
    "   5.1 What are the top-3 occupations for a politician in Italy and France?\n",
    "   \n",
    "   5.2 What if you consider only politicians for which we don't have a date of death?\n",
    "   \n",
    "   5.3 Which politicians had a spouse that was also a politician? How many in each country?\n"
   ]
  },
  {
   "cell_type": "code",
   "execution_count": 1,
   "id": "24a853ab-830c-422c-afd3-e9e015b8b8ed",
   "metadata": {},
   "outputs": [],
   "source": [
    "# start your workflow here"
   ]
  },
  {
   "cell_type": "code",
   "execution_count": 2,
   "id": "ade01416-92e7-4ad7-b9a9-b8fb330750dc",
   "metadata": {},
   "outputs": [
    {
     "name": "stdout",
     "output_type": "stream",
     "text": [
      "Results\n",
      "[('callret-0', '15556')]\n"
     ]
    },
    {
     "data": {
      "text/plain": [
       "1"
      ]
     },
     "execution_count": 2,
     "metadata": {},
     "output_type": "execute_result"
    }
   ],
   "source": [
    "queryString = \"\"\"\n",
    "SELECT COUNT(*)\n",
    "WHERE { \n",
    "\n",
    "?p wdt:P106/wdt:P279 wd:Q82955  . \n",
    "} \n",
    "\"\"\"\n",
    "\n",
    "print(\"Results\")\n",
    "run_query(queryString)"
   ]
  },
  {
   "cell_type": "markdown",
   "id": "7a1e21ab-85ec-4b40-8c19-f2d29b994cf7",
   "metadata": {},
   "source": [
    "I start by finding the graph pattern connecting a country and the EU"
   ]
  },
  {
   "cell_type": "code",
   "execution_count": 3,
   "id": "d85495d8-2c38-47d8-993c-ba0a51276004",
   "metadata": {},
   "outputs": [
    {
     "name": "stdout",
     "output_type": "stream",
     "text": [
      "Results\n",
      "[('p', 'http://www.wikidata.org/prop/direct/P30'), ('pname', 'continent')]\n",
      "[('p', 'http://www.wikidata.org/prop/direct/P361'), ('pname', 'part of')]\n"
     ]
    },
    {
     "data": {
      "text/plain": [
       "2"
      ]
     },
     "execution_count": 3,
     "metadata": {},
     "output_type": "execute_result"
    }
   ],
   "source": [
    "#Q1\n",
    "#try to find the property to connect country and EU\n",
    "queryString = \"\"\"\n",
    "SELECT DISTINCT ?p ?pname\n",
    "WHERE { \n",
    "\n",
    "?pol wdt:P106/wdt:P279 wd:Q82955;\n",
    "     wdt:P27 ?country.\n",
    "?country ?p wd:Q46.\n",
    "\n",
    "#Labels\n",
    "?p <http://schema.org/name> ?pname .\n",
    "} \n",
    "LIMIT 100\n",
    "\"\"\"\n",
    "\n",
    "print(\"Results\")\n",
    "run_query(queryString)"
   ]
  },
  {
   "cell_type": "code",
   "execution_count": 4,
   "id": "ecc79881-627d-423f-b703-28de508de0fb",
   "metadata": {
    "collapsed": true,
    "jupyter": {
     "outputs_hidden": true
    },
    "tags": []
   },
   "outputs": [
    {
     "name": "stdout",
     "output_type": "stream",
     "text": [
      "Results\n",
      "[('o', 'http://www.wikidata.org/entity/Q9721810'), ('oname', 'Northern dynasties')]\n",
      "[('o', 'http://www.wikidata.org/entity/Q756617'), ('oname', 'Danish Realm')]\n",
      "[('o', 'http://www.wikidata.org/entity/Q25558247'), ('oname', 'Chinese civilization')]\n",
      "[('o', 'http://www.wikidata.org/entity/Q83201'), ('oname', 'Non-Aligned Movement')]\n",
      "[('o', 'http://www.wikidata.org/entity/Q43467'), ('oname', 'Indochina')]\n",
      "[('o', 'http://www.wikidata.org/entity/Q263686'), ('oname', 'Southeast Europe')]\n",
      "[('o', 'http://www.wikidata.org/entity/Q20716241'), ('oname', 'Ten Kingdoms')]\n",
      "[('o', 'http://www.wikidata.org/entity/Q1065'), ('oname', 'United Nations')]\n",
      "[('o', 'http://www.wikidata.org/entity/Q11596055'), ('oname', 'Qin Han')]\n",
      "[('o', 'http://www.wikidata.org/entity/Q12557'), ('oname', 'Mongol Empire')]\n",
      "[('o', 'http://www.wikidata.org/entity/Q12585'), ('oname', 'Latin America')]\n",
      "[('o', 'http://www.wikidata.org/entity/Q13116'), ('oname', 'Benelux')]\n",
      "[('o', 'http://www.wikidata.org/entity/Q15180'), ('oname', 'Soviet Union')]\n",
      "[('o', 'http://www.wikidata.org/entity/Q172107'), ('oname', 'Polish–Lithuanian Commonwealth')]\n",
      "[('o', 'http://www.wikidata.org/entity/Q18'), ('oname', 'South America')]\n",
      "[('o', 'http://www.wikidata.org/entity/Q184'), ('oname', 'Belarus')]\n",
      "[('o', 'http://www.wikidata.org/entity/Q185063'), ('oname', 'Warring States period')]\n",
      "[('o', 'http://www.wikidata.org/entity/Q2'), ('oname', 'Earth')]\n",
      "[('o', 'http://www.wikidata.org/entity/Q21195'), ('oname', 'Scandinavia')]\n",
      "[('o', 'http://www.wikidata.org/entity/Q215669'), ('oname', 'Allies of the First World War')]\n",
      "[('o', 'http://www.wikidata.org/entity/Q22583595'), ('oname', 'Middle Africa')]\n",
      "[('o', 'http://www.wikidata.org/entity/Q23522'), ('oname', 'Balkans')]\n",
      "[('o', 'http://www.wikidata.org/entity/Q236118'), ('oname', 'Southern Cone')]\n",
      "[('o', 'http://www.wikidata.org/entity/Q27231'), ('oname', 'East Asia')]\n",
      "[('o', 'http://www.wikidata.org/entity/Q27275'), ('oname', 'Central Asia')]\n",
      "[('o', 'http://www.wikidata.org/entity/Q27293'), ('oname', 'Western Asia')]\n",
      "[('o', 'http://www.wikidata.org/entity/Q27381'), ('oname', 'North Africa')]\n",
      "[('o', 'http://www.wikidata.org/entity/Q27468'), ('oname', 'Eastern Europe')]\n",
      "[('o', 'http://www.wikidata.org/entity/Q27496'), ('oname', 'Western Europe')]\n",
      "[('o', 'http://www.wikidata.org/entity/Q27509'), ('oname', 'Central Europe')]\n",
      "[('o', 'http://www.wikidata.org/entity/Q286946'), ('oname', 'ABC nations')]\n",
      "[('o', 'http://www.wikidata.org/entity/Q29520'), ('oname', 'China')]\n",
      "[('o', 'http://www.wikidata.org/entity/Q29999'), ('oname', 'Kingdom of the Netherlands')]\n",
      "[('o', 'http://www.wikidata.org/entity/Q329888'), ('oname', 'Allies of the Second World War')]\n",
      "[('o', 'http://www.wikidata.org/entity/Q36704'), ('oname', 'Yugoslavia')]\n",
      "[('o', 'http://www.wikidata.org/entity/Q377916'), ('oname', 'Ibero-America')]\n",
      "[('o', 'http://www.wikidata.org/entity/Q39731'), ('oname', 'Baltic states')]\n",
      "[('o', 'http://www.wikidata.org/entity/Q4412'), ('oname', 'West Africa')]\n",
      "[('o', 'http://www.wikidata.org/entity/Q458'), ('oname', 'European Union')]\n",
      "[('o', 'http://www.wikidata.org/entity/Q46'), ('oname', 'Europe')]\n",
      "[('o', 'http://www.wikidata.org/entity/Q476033'), ('oname', 'Low Countries')]\n",
      "[('o', 'http://www.wikidata.org/entity/Q48'), ('oname', 'Asia')]\n",
      "[('o', 'http://www.wikidata.org/entity/Q49'), ('oname', 'North America')]\n",
      "[('o', 'http://www.wikidata.org/entity/Q50807777'), ('oname', 'Southwestern Europe')]\n",
      "[('o', 'http://www.wikidata.org/entity/Q653884'), ('oname', 'Hispanic America')]\n",
      "[('o', 'http://www.wikidata.org/entity/Q66458647'), ('oname', 'European Union tax haven blacklist')]\n",
      "[('o', 'http://www.wikidata.org/entity/Q664609'), ('oname', 'Caribbean')]\n",
      "[('o', 'http://www.wikidata.org/entity/Q7204'), ('oname', 'Middle East')]\n",
      "[('o', 'http://www.wikidata.org/entity/Q7209'), ('oname', 'Han dynasty')]\n",
      "[('o', 'http://www.wikidata.org/entity/Q7785'), ('oname', 'Commonwealth of Nations')]\n",
      "[('o', 'http://www.wikidata.org/entity/Q82972'), ('oname', 'history of China')]\n",
      "[('o', 'http://www.wikidata.org/entity/Q152283'), ('oname', 'Central Powers')]\n",
      "[('o', 'http://www.wikidata.org/entity/Q27407'), ('oname', 'East Africa')]\n",
      "[('o', 'http://www.wikidata.org/entity/Q27479'), ('oname', 'Northern Europe')]\n",
      "[('o', 'http://www.wikidata.org/entity/Q33946'), ('oname', 'Czechoslovakia')]\n",
      "[('o', 'http://www.wikidata.org/entity/Q52062'), ('oname', 'Nordic countries')]\n",
      "[('o', 'http://www.wikidata.org/entity/Q5619313'), ('oname', 'Gunpowder Empires')]\n",
      "[('o', 'http://www.wikidata.org/entity/Q62589'), ('oname', 'Union between Sweden and Norway')]\n",
      "[('o', 'http://www.wikidata.org/entity/Q771405'), ('oname', 'South Asia')]\n",
      "[('o', 'http://www.wikidata.org/entity/Q828'), ('oname', 'Americas')]\n",
      "[('o', 'http://www.wikidata.org/entity/Q21088788'), ('oname', 'Catholic Monarchy')]\n",
      "[('o', 'http://www.wikidata.org/entity/Q766543'), ('oname', 'Hispanic Monarchy One')]\n",
      "[('o', 'http://www.wikidata.org/entity/Q27611'), ('oname', 'Central America')]\n",
      "[('o', 'http://www.wikidata.org/entity/Q3324796'), ('oname', 'Common Travel Area')]\n",
      "[('o', 'http://www.wikidata.org/entity/Q45256'), ('oname', 'Australasia')]\n",
      "[('o', 'http://www.wikidata.org/entity/Q145700'), ('oname', 'South Asian Association for Regional Cooperation')]\n",
      "[('o', 'http://www.wikidata.org/entity/Q18869'), ('oname', 'Caucasus')]\n",
      "[('o', 'http://www.wikidata.org/entity/Q8680'), ('oname', 'British Empire')]\n",
      "[('o', 'http://www.wikidata.org/entity/Q7352'), ('oname', 'Jin dynasty')]\n",
      "[('o', 'http://www.wikidata.org/entity/Q307066'), ('oname', 'Eastern Zhou')]\n",
      "[('o', 'http://www.wikidata.org/entity/Q185043'), ('oname', 'Three Kingdoms')]\n",
      "[('o', 'http://www.wikidata.org/entity/Q131401'), ('oname', 'caliphate')]\n",
      "[('o', 'http://www.wikidata.org/entity/Q236626'), ('oname', 'Celtic nations')]\n",
      "[('o', 'http://www.wikidata.org/entity/Q185047'), ('oname', 'Spring and Autumn period')]\n",
      "[('o', 'http://www.wikidata.org/entity/Q10904438'), ('oname', 'Twelve Vassals')]\n",
      "[('o', 'http://www.wikidata.org/entity/Q199569'), ('oname', 'history of Poland')]\n",
      "[('o', 'http://www.wikidata.org/entity/Q72499'), ('oname', 'Mediterranean Basin')]\n",
      "[('o', 'http://www.wikidata.org/entity/Q12299139'), ('oname', 'Black Sea Basin')]\n",
      "[('o', 'http://www.wikidata.org/entity/Q73169'), ('oname', 'Scandinavian Peninsula')]\n",
      "[('o', 'http://www.wikidata.org/entity/Q302045'), ('oname', 'Post-Soviet states')]\n",
      "[('o', 'http://www.wikidata.org/entity/Q29876'), ('oname', 'Middle America')]\n",
      "[('o', 'http://www.wikidata.org/entity/Q604496'), ('oname', 'Fennoscandia')]\n",
      "[('o', 'http://www.wikidata.org/entity/Q107323313'), ('oname', 'Australia and New Zealand')]\n",
      "[('o', 'http://www.wikidata.org/entity/Q17025491'), ('oname', 'Ming Qing')]\n",
      "[('o', 'http://www.wikidata.org/entity/Q18479603'), ('oname', 'Continental Central America')]\n",
      "[('o', 'http://www.wikidata.org/entity/Q24841657'), ('oname', 'Sui Tang')]\n",
      "[('o', 'http://www.wikidata.org/entity/Q339585'), ('oname', 'G3 Free Trade Agreement')]\n",
      "[('o', 'http://www.wikidata.org/entity/Q865479'), ('oname', 'MIKTA')]\n",
      "[('o', 'http://www.wikidata.org/entity/Q17018514'), ('oname', 'Yuan Ming Qing')]\n",
      "[('o', 'http://www.wikidata.org/entity/Q153867'), ('oname', 'Triple Alliance')]\n",
      "[('o', 'http://www.wikidata.org/entity/Q12343569'), ('oname', 'Banū Umayya')]\n",
      "[('o', 'http://www.wikidata.org/entity/Q62623'), ('oname', 'Kalmar Union')]\n",
      "[('o', 'http://www.wikidata.org/entity/Q1276649'), ('oname', 'Seven Warring States')]\n",
      "[('o', 'http://www.wikidata.org/entity/Q17023867'), ('oname', 'Liao Song Xia Jin Yuan')]\n",
      "[('o', 'http://www.wikidata.org/entity/Q1849394'), ('oname', 'Pyrenees–Mediterranean Euroregion')]\n",
      "[('o', 'http://www.wikidata.org/entity/Q7159'), ('oname', 'African Union')]\n",
      "[('o', 'http://www.wikidata.org/entity/Q17023868'), ('oname', 'Song Liao Jin Xia')]\n",
      "[('o', 'http://www.wikidata.org/entity/Q34266'), ('oname', 'Russian Empire')]\n",
      "[('o', 'http://www.wikidata.org/entity/Q93259'), ('oname', 'Lesser Antilles')]\n",
      "[('o', 'http://www.wikidata.org/entity/Q183416'), ('oname', 'Windward Islands')]\n"
     ]
    },
    {
     "data": {
      "text/plain": [
       "100"
      ]
     },
     "execution_count": 4,
     "metadata": {},
     "output_type": "execute_result"
    }
   ],
   "source": [
    "#Q2\n",
    "#try to find the property to connect country and EU\n",
    "queryString = \"\"\"\n",
    "SELECT DISTINCT ?o ?oname\n",
    "WHERE { \n",
    "\n",
    "?pol wdt:P106/wdt:P279 wd:Q82955;\n",
    "     wdt:P27 ?country.\n",
    "?country wdt:P361 ?o.\n",
    "\n",
    "#Labels\n",
    "?o <http://schema.org/name> ?oname .\n",
    "} \n",
    "LIMIT 100\n",
    "\"\"\"\n",
    "\n",
    "print(\"Results\")\n",
    "run_query(queryString)"
   ]
  },
  {
   "cell_type": "code",
   "execution_count": 5,
   "id": "6181021c-e945-4cd7-9395-203c3bf08268",
   "metadata": {},
   "outputs": [
    {
     "name": "stdout",
     "output_type": "stream",
     "text": [
      "Results\n",
      "[('o', 'http://www.wikidata.org/entity/Q756617'), ('oname', 'Danish Realm')]\n",
      "[('o', 'http://www.wikidata.org/entity/Q263686'), ('oname', 'Southeast Europe')]\n",
      "[('o', 'http://www.wikidata.org/entity/Q1065'), ('oname', 'United Nations')]\n",
      "[('o', 'http://www.wikidata.org/entity/Q13116'), ('oname', 'Benelux')]\n",
      "[('o', 'http://www.wikidata.org/entity/Q172107'), ('oname', 'Polish–Lithuanian Commonwealth')]\n",
      "[('o', 'http://www.wikidata.org/entity/Q184'), ('oname', 'Belarus')]\n",
      "[('o', 'http://www.wikidata.org/entity/Q2'), ('oname', 'Earth')]\n",
      "[('o', 'http://www.wikidata.org/entity/Q21195'), ('oname', 'Scandinavia')]\n",
      "[('o', 'http://www.wikidata.org/entity/Q215669'), ('oname', 'Allies of the First World War')]\n",
      "[('o', 'http://www.wikidata.org/entity/Q23522'), ('oname', 'Balkans')]\n",
      "[('o', 'http://www.wikidata.org/entity/Q27275'), ('oname', 'Central Asia')]\n",
      "[('o', 'http://www.wikidata.org/entity/Q27293'), ('oname', 'Western Asia')]\n",
      "[('o', 'http://www.wikidata.org/entity/Q27468'), ('oname', 'Eastern Europe')]\n",
      "[('o', 'http://www.wikidata.org/entity/Q27496'), ('oname', 'Western Europe')]\n",
      "[('o', 'http://www.wikidata.org/entity/Q27509'), ('oname', 'Central Europe')]\n",
      "[('o', 'http://www.wikidata.org/entity/Q29999'), ('oname', 'Kingdom of the Netherlands')]\n",
      "[('o', 'http://www.wikidata.org/entity/Q36704'), ('oname', 'Yugoslavia')]\n",
      "[('o', 'http://www.wikidata.org/entity/Q39731'), ('oname', 'Baltic states')]\n",
      "[('o', 'http://www.wikidata.org/entity/Q458'), ('oname', 'European Union')]\n",
      "[('o', 'http://www.wikidata.org/entity/Q46'), ('oname', 'Europe')]\n",
      "[('o', 'http://www.wikidata.org/entity/Q476033'), ('oname', 'Low Countries')]\n",
      "[('o', 'http://www.wikidata.org/entity/Q50807777'), ('oname', 'Southwestern Europe')]\n",
      "[('o', 'http://www.wikidata.org/entity/Q7204'), ('oname', 'Middle East')]\n",
      "[('o', 'http://www.wikidata.org/entity/Q152283'), ('oname', 'Central Powers')]\n",
      "[('o', 'http://www.wikidata.org/entity/Q27479'), ('oname', 'Northern Europe')]\n",
      "[('o', 'http://www.wikidata.org/entity/Q33946'), ('oname', 'Czechoslovakia')]\n",
      "[('o', 'http://www.wikidata.org/entity/Q52062'), ('oname', 'Nordic countries')]\n",
      "[('o', 'http://www.wikidata.org/entity/Q5619313'), ('oname', 'Gunpowder Empires')]\n",
      "[('o', 'http://www.wikidata.org/entity/Q62589'), ('oname', 'Union between Sweden and Norway')]\n",
      "[('o', 'http://www.wikidata.org/entity/Q21088788'), ('oname', 'Catholic Monarchy')]\n",
      "[('o', 'http://www.wikidata.org/entity/Q766543'), ('oname', 'Hispanic Monarchy One')]\n",
      "[('o', 'http://www.wikidata.org/entity/Q3324796'), ('oname', 'Common Travel Area')]\n",
      "[('o', 'http://www.wikidata.org/entity/Q18869'), ('oname', 'Caucasus')]\n",
      "[('o', 'http://www.wikidata.org/entity/Q236626'), ('oname', 'Celtic nations')]\n",
      "[('o', 'http://www.wikidata.org/entity/Q199569'), ('oname', 'history of Poland')]\n",
      "[('o', 'http://www.wikidata.org/entity/Q72499'), ('oname', 'Mediterranean Basin')]\n",
      "[('o', 'http://www.wikidata.org/entity/Q12299139'), ('oname', 'Black Sea Basin')]\n",
      "[('o', 'http://www.wikidata.org/entity/Q73169'), ('oname', 'Scandinavian Peninsula')]\n",
      "[('o', 'http://www.wikidata.org/entity/Q302045'), ('oname', 'Post-Soviet states')]\n",
      "[('o', 'http://www.wikidata.org/entity/Q604496'), ('oname', 'Fennoscandia')]\n",
      "[('o', 'http://www.wikidata.org/entity/Q153867'), ('oname', 'Triple Alliance')]\n",
      "[('o', 'http://www.wikidata.org/entity/Q62623'), ('oname', 'Kalmar Union')]\n",
      "[('o', 'http://www.wikidata.org/entity/Q1849394'), ('oname', 'Pyrenees–Mediterranean Euroregion')]\n",
      "[('o', 'http://www.wikidata.org/entity/Q34266'), ('oname', 'Russian Empire')]\n",
      "[('o', 'http://www.wikidata.org/entity/Q7781'), ('oname', 'history of Spain')]\n",
      "[('o', 'http://www.wikidata.org/entity/Q28513'), ('oname', 'Austria-Hungary')]\n"
     ]
    },
    {
     "data": {
      "text/plain": [
       "46"
      ]
     },
     "execution_count": 5,
     "metadata": {},
     "output_type": "execute_result"
    }
   ],
   "source": [
    "#Q3\n",
    "#try to find the property to connect country and EU\n",
    "queryString = \"\"\"\n",
    "SELECT DISTINCT ?o ?oname\n",
    "WHERE { \n",
    "\n",
    "?pol wdt:P106/wdt:P279 wd:Q82955;\n",
    "     wdt:P27 ?country.\n",
    "?country wdt:P361 ?o;\n",
    "         wdt:P30 wd:Q46.\n",
    "\n",
    "#Labels\n",
    "?o <http://schema.org/name> ?oname .\n",
    "} \n",
    "LIMIT 100\n",
    "\"\"\"\n",
    "\n",
    "print(\"Results\")\n",
    "run_query(queryString)"
   ]
  },
  {
   "cell_type": "markdown",
   "id": "6eab09dd-34fc-4275-9d52-d3cdb49af25b",
   "metadata": {},
   "source": [
    "I found out that entity Q458 is EU, now i will check the path P361( part of) + Q458"
   ]
  },
  {
   "cell_type": "code",
   "execution_count": 6,
   "id": "6eecf818-4b41-45a6-a5c4-9364e942f8dd",
   "metadata": {},
   "outputs": [
    {
     "name": "stdout",
     "output_type": "stream",
     "text": [
      "Results\n",
      "[('callret-0', '19')]\n"
     ]
    },
    {
     "data": {
      "text/plain": [
       "1"
      ]
     },
     "execution_count": 6,
     "metadata": {},
     "output_type": "execute_result"
    }
   ],
   "source": [
    "#Q4\n",
    "# ?s wdt:P361 wd:Q458 BGP for country belonging to EU\n",
    "#count countries in EU\n",
    "queryString = \"\"\"\n",
    "SELECT COUNT(?country)\n",
    "WHERE { \n",
    "\n",
    "?country wdt:P361 wd:Q458.\n",
    "\n",
    "} \n",
    "LIMIT 100\n",
    "\"\"\"\n",
    "\n",
    "print(\"Results\")\n",
    "run_query(queryString)"
   ]
  },
  {
   "cell_type": "code",
   "execution_count": 7,
   "id": "cc221a25-3587-4f5d-b96a-b2fb9930e83c",
   "metadata": {},
   "outputs": [
    {
     "name": "stdout",
     "output_type": "stream",
     "text": [
      "Results\n",
      "[('country', 'http://www.wikidata.org/entity/Q145'), ('howMany', '47')]\n",
      "[('country', 'http://www.wikidata.org/entity/Q31'), ('howMany', '7')]\n",
      "[('country', 'http://www.wikidata.org/entity/Q29'), ('howMany', '2602')]\n"
     ]
    },
    {
     "data": {
      "text/plain": [
       "3"
      ]
     },
     "execution_count": 7,
     "metadata": {},
     "output_type": "execute_result"
    }
   ],
   "source": [
    "#Q5\n",
    "#count how many politicians have each country in the EU\n",
    "queryString = \"\"\"\n",
    "SELECT ?country (COUNT(?pol) AS ?howMany)\n",
    "WHERE { \n",
    "\n",
    "?pol wdt:P106/wdt:P279 wd:Q82955;\n",
    "     wdt:P27 ?country.\n",
    "?country wdt:P361 wd:Q458.\n",
    "\n",
    "}\n",
    "GROUP BY ?country\n",
    "LIMIT 100\n",
    "\"\"\"\n",
    "\n",
    "print(\"Results\")\n",
    "run_query(queryString)"
   ]
  },
  {
   "cell_type": "code",
   "execution_count": 8,
   "id": "f1ffaca2-9dc9-4ce1-af5d-49f3abefaff5",
   "metadata": {},
   "outputs": [
    {
     "name": "stdout",
     "output_type": "stream",
     "text": [
      "Results\n",
      "[('country', 'http://www.wikidata.org/entity/Q29'), ('howMany', '2600')]\n",
      "[('country', 'http://www.wikidata.org/entity/Q15180'), ('howMany', '2091')]\n",
      "[('country', 'http://www.wikidata.org/entity/Q1747689'), ('howMany', '1465')]\n",
      "[('country', 'http://www.wikidata.org/entity/Q159'), ('howMany', '642')]\n",
      "[('country', 'http://www.wikidata.org/entity/Q142'), ('howMany', '493')]\n",
      "[('country', 'http://www.wikidata.org/entity/Q212'), ('howMany', '264')]\n",
      "[('country', 'http://www.wikidata.org/entity/Q183'), ('howMany', '185')]\n",
      "[('country', 'http://www.wikidata.org/entity/Q28'), ('howMany', '169')]\n",
      "[('country', 'http://www.wikidata.org/entity/Q133356'), ('howMany', '114')]\n",
      "[('country', 'http://www.wikidata.org/entity/Q139319'), ('howMany', '104')]\n",
      "[('country', 'http://www.wikidata.org/entity/Q243610'), ('howMany', '91')]\n",
      "[('country', 'http://www.wikidata.org/entity/Q34'), ('howMany', '76')]\n",
      "[('country', 'http://www.wikidata.org/entity/Q184'), ('howMany', '73')]\n",
      "[('country', 'http://www.wikidata.org/entity/Q1508143'), ('howMany', '73')]\n",
      "[('country', 'http://www.wikidata.org/entity/Q35'), ('howMany', '68')]\n",
      "[('country', 'http://www.wikidata.org/entity/Q28513'), ('howMany', '62')]\n",
      "[('country', 'http://www.wikidata.org/entity/Q170072'), ('howMany', '58')]\n",
      "[('country', 'http://www.wikidata.org/entity/Q399'), ('howMany', '52')]\n",
      "[('country', 'http://www.wikidata.org/entity/Q38872'), ('howMany', '48')]\n",
      "[('country', 'http://www.wikidata.org/entity/Q145'), ('howMany', '47')]\n",
      "[('country', 'http://www.wikidata.org/entity/Q20'), ('howMany', '43')]\n",
      "[('country', 'http://www.wikidata.org/entity/Q27306'), ('howMany', '42')]\n",
      "[('country', 'http://www.wikidata.org/entity/Q83286'), ('howMany', '41')]\n",
      "[('country', 'http://www.wikidata.org/entity/Q36'), ('howMany', '40')]\n",
      "[('country', 'http://www.wikidata.org/entity/Q40'), ('howMany', '38')]\n",
      "[('country', 'http://www.wikidata.org/entity/Q1206012'), ('howMany', '37')]\n",
      "[('country', 'http://www.wikidata.org/entity/Q232'), ('howMany', '37')]\n",
      "[('country', 'http://www.wikidata.org/entity/Q29999'), ('howMany', '30')]\n",
      "[('country', 'http://www.wikidata.org/entity/Q215'), ('howMany', '29')]\n",
      "[('country', 'http://www.wikidata.org/entity/Q207272'), ('howMany', '28')]\n",
      "[('country', 'http://www.wikidata.org/entity/Q131964'), ('howMany', '25')]\n",
      "[('country', 'http://www.wikidata.org/entity/Q12560'), ('howMany', '23')]\n",
      "[('country', 'http://www.wikidata.org/entity/Q174193'), ('howMany', '23')]\n",
      "[('country', 'http://www.wikidata.org/entity/Q15102440'), ('howMany', '22')]\n",
      "[('country', 'http://www.wikidata.org/entity/Q191077'), ('howMany', '22')]\n",
      "[('country', 'http://www.wikidata.org/entity/Q186096'), ('howMany', '21')]\n",
      "[('country', 'http://www.wikidata.org/entity/Q38'), ('howMany', '19')]\n",
      "[('country', 'http://www.wikidata.org/entity/Q533534'), ('howMany', '18')]\n",
      "[('country', 'http://www.wikidata.org/entity/Q172579'), ('howMany', '15')]\n",
      "[('country', 'http://www.wikidata.org/entity/Q33'), ('howMany', '13')]\n",
      "[('country', 'http://www.wikidata.org/entity/Q179876'), ('howMany', '13')]\n",
      "[('country', 'http://www.wikidata.org/entity/Q188553'), ('howMany', '13')]\n",
      "[('country', 'http://www.wikidata.org/entity/Q172107'), ('howMany', '12')]\n",
      "[('country', 'http://www.wikidata.org/entity/Q41'), ('howMany', '11')]\n",
      "[('country', 'http://www.wikidata.org/entity/Q33946'), ('howMany', '11')]\n",
      "[('country', 'http://www.wikidata.org/entity/Q227'), ('howMany', '11')]\n",
      "[('country', 'http://www.wikidata.org/entity/Q238'), ('howMany', '10')]\n",
      "[('country', 'http://www.wikidata.org/entity/Q39'), ('howMany', '10')]\n",
      "[('country', 'http://www.wikidata.org/entity/Q49683'), ('howMany', '10')]\n",
      "[('country', 'http://www.wikidata.org/entity/Q161885'), ('howMany', '10')]\n",
      "[('country', 'http://www.wikidata.org/entity/Q1031430'), ('howMany', '9')]\n",
      "[('country', 'http://www.wikidata.org/entity/Q218'), ('howMany', '9')]\n",
      "[('country', 'http://www.wikidata.org/entity/Q457167'), ('howMany', '8')]\n",
      "[('country', 'http://www.wikidata.org/entity/Q32'), ('howMany', '8')]\n",
      "[('country', 'http://www.wikidata.org/entity/Q43'), ('howMany', '7')]\n",
      "[('country', 'http://www.wikidata.org/entity/Q212278'), ('howMany', '7')]\n",
      "[('country', 'http://www.wikidata.org/entity/Q213'), ('howMany', '7')]\n",
      "[('country', 'http://www.wikidata.org/entity/Q31'), ('howMany', '7')]\n",
      "[('country', 'http://www.wikidata.org/entity/Q16957'), ('howMany', '6')]\n",
      "[('country', 'http://www.wikidata.org/entity/Q71084'), ('howMany', '6')]\n",
      "[('country', 'http://www.wikidata.org/entity/Q12548'), ('howMany', '6')]\n",
      "[('country', 'http://www.wikidata.org/entity/Q45'), ('howMany', '5')]\n",
      "[('country', 'http://www.wikidata.org/entity/Q21'), ('howMany', '5')]\n",
      "[('country', 'http://www.wikidata.org/entity/Q907112'), ('howMany', '5')]\n",
      "[('country', 'http://www.wikidata.org/entity/Q230'), ('howMany', '4')]\n",
      "[('country', 'http://www.wikidata.org/entity/Q43287'), ('howMany', '4')]\n",
      "[('country', 'http://www.wikidata.org/entity/Q2895'), ('howMany', '4')]\n",
      "[('country', 'http://www.wikidata.org/entity/Q211'), ('howMany', '4')]\n",
      "[('country', 'http://www.wikidata.org/entity/Q12544'), ('howMany', '4')]\n",
      "[('country', 'http://www.wikidata.org/entity/Q219'), ('howMany', '4')]\n",
      "[('country', 'http://www.wikidata.org/entity/Q170770'), ('howMany', '3')]\n",
      "[('country', 'http://www.wikidata.org/entity/Q203493'), ('howMany', '3')]\n",
      "[('country', 'http://www.wikidata.org/entity/Q844930'), ('howMany', '3')]\n",
      "[('country', 'http://www.wikidata.org/entity/Q171150'), ('howMany', '3')]\n",
      "[('country', 'http://www.wikidata.org/entity/Q157109'), ('howMany', '3')]\n",
      "[('country', 'http://www.wikidata.org/entity/Q165154'), ('howMany', '3')]\n",
      "[('country', 'http://www.wikidata.org/entity/Q403'), ('howMany', '3')]\n",
      "[('country', 'http://www.wikidata.org/entity/Q1649871'), ('howMany', '3')]\n",
      "[('country', 'http://www.wikidata.org/entity/Q22'), ('howMany', '3')]\n",
      "[('country', 'http://www.wikidata.org/entity/Q622783'), ('howMany', '3')]\n",
      "[('country', 'http://www.wikidata.org/entity/Q389688'), ('howMany', '2')]\n",
      "[('country', 'http://www.wikidata.org/entity/Q148499'), ('howMany', '2')]\n",
      "[('country', 'http://www.wikidata.org/entity/Q8575586'), ('howMany', '2')]\n",
      "[('country', 'http://www.wikidata.org/entity/Q10957559'), ('howMany', '2')]\n",
      "[('country', 'http://www.wikidata.org/entity/Q874283'), ('howMany', '2')]\n",
      "[('country', 'http://www.wikidata.org/entity/Q211274'), ('howMany', '2')]\n",
      "[('country', 'http://www.wikidata.org/entity/Q217'), ('howMany', '2')]\n",
      "[('country', 'http://www.wikidata.org/entity/Q45670'), ('howMany', '2')]\n",
      "[('country', 'http://www.wikidata.org/entity/Q62633'), ('howMany', '2')]\n",
      "[('country', 'http://www.wikidata.org/entity/Q229'), ('howMany', '2')]\n",
      "[('country', 'http://www.wikidata.org/entity/Q27'), ('howMany', '2')]\n",
      "[('country', 'http://www.wikidata.org/entity/Q171348'), ('howMany', '2')]\n",
      "[('country', 'http://www.wikidata.org/entity/Q179293'), ('howMany', '2')]\n",
      "[('country', 'http://www.wikidata.org/entity/Q154849'), ('howMany', '2')]\n",
      "[('country', 'http://www.wikidata.org/entity/Q25'), ('howMany', '2')]\n",
      "[('country', 'http://www.wikidata.org/entity/Q157070'), ('howMany', '1')]\n",
      "[('country', 'http://www.wikidata.org/entity/Q583038'), ('howMany', '1')]\n",
      "[('country', 'http://www.wikidata.org/entity/Q151624'), ('howMany', '1')]\n",
      "[('country', 'http://www.wikidata.org/entity/Q2381337'), ('howMany', '1')]\n",
      "[('country', 'http://www.wikidata.org/entity/Q236'), ('howMany', '1')]\n"
     ]
    },
    {
     "data": {
      "text/plain": [
       "100"
      ]
     },
     "execution_count": 8,
     "metadata": {},
     "output_type": "execute_result"
    }
   ],
   "source": [
    "#Q6\n",
    "#as previous one but with Europe instead EU\n",
    "queryString = \"\"\"\n",
    "SELECT ?country (COUNT(DISTINCT ?pol) AS ?howMany)\n",
    "WHERE { \n",
    "\n",
    "?pol wdt:P106/wdt:P279 wd:Q82955;\n",
    "     wdt:P27 ?country.\n",
    "?country wdt:P30 wd:Q46.\n",
    "\n",
    "}\n",
    "GROUP BY ?country\n",
    "ORDER BY DESC(?howMany)\n",
    "LIMIT 100\n",
    "\"\"\"\n",
    "\n",
    "print(\"Results\")\n",
    "run_query(queryString)"
   ]
  },
  {
   "cell_type": "code",
   "execution_count": 9,
   "id": "c8e002d4-8a1c-4e53-9616-784069eb8abb",
   "metadata": {},
   "outputs": [
    {
     "name": "stdout",
     "output_type": "stream",
     "text": [
      "Results\n",
      "[('country', 'http://www.wikidata.org/entity/Q139319'), ('cname', 'Russian Republic')]\n",
      "[('country', 'http://www.wikidata.org/entity/Q1508143'), ('cname', 'Ukrainian State')]\n",
      "[('country', 'http://www.wikidata.org/entity/Q174306'), ('cname', 'Republic of Genova')]\n",
      "[('country', 'http://www.wikidata.org/entity/Q706018'), ('cname', 'Electorate of Brunswick-Lüneburg')]\n",
      "[('country', 'http://www.wikidata.org/entity/Q10957559'), ('cname', 'Principality of Moldavia')]\n",
      "[('country', 'http://www.wikidata.org/entity/Q146246'), ('cname', 'Francia')]\n",
      "[('country', 'http://www.wikidata.org/entity/Q171348'), ('cname', 'Crown of the Kingdom of Poland')]\n",
      "[('country', 'http://www.wikidata.org/entity/Q583038'), ('cname', 'Ostrogothic Kingdom')]\n",
      "[('country', 'http://www.wikidata.org/entity/Q1140152'), ('cname', 'Irish Republic')]\n",
      "[('country', 'http://www.wikidata.org/entity/Q243652'), ('cname', 'Hungarian Soviet Republic')]\n",
      "[('country', 'http://www.wikidata.org/entity/Q684030'), ('cname', 'Principality of Serbia')]\n",
      "[('country', 'http://www.wikidata.org/entity/Q12548'), ('cname', 'Holy Roman Empire')]\n",
      "[('country', 'http://www.wikidata.org/entity/Q133356'), ('cname', 'Ukrainian Soviet Socialist Republic')]\n",
      "[('country', 'http://www.wikidata.org/entity/Q140359'), ('cname', 'First Czechoslovak Republic')]\n",
      "[('country', 'http://www.wikidata.org/entity/Q142'), ('cname', 'France')]\n",
      "[('country', 'http://www.wikidata.org/entity/Q15180'), ('cname', 'Soviet Union')]\n",
      "[('country', 'http://www.wikidata.org/entity/Q155570'), ('cname', 'Saxe-Weimar-Eisenach')]\n",
      "[('country', 'http://www.wikidata.org/entity/Q159'), ('cname', 'Russia')]\n",
      "[('country', 'http://www.wikidata.org/entity/Q161885'), ('cname', 'Great Britain')]\n",
      "[('country', 'http://www.wikidata.org/entity/Q1649871'), ('cname', 'Kingdom of Poland')]\n",
      "[('country', 'http://www.wikidata.org/entity/Q170072'), ('cname', 'Dutch Republic')]\n",
      "[('country', 'http://www.wikidata.org/entity/Q170770'), ('cname', 'Grand Duchy of Moscow')]\n",
      "[('country', 'http://www.wikidata.org/entity/Q172107'), ('cname', 'Polish–Lithuanian Commonwealth')]\n",
      "[('country', 'http://www.wikidata.org/entity/Q172579'), ('cname', 'Kingdom of Italy')]\n",
      "[('country', 'http://www.wikidata.org/entity/Q174193'), ('cname', 'United Kingdom of Great Britain and Ireland')]\n",
      "[('country', 'http://www.wikidata.org/entity/Q1747689'), ('cname', 'Ancient Rome')]\n",
      "[('country', 'http://www.wikidata.org/entity/Q179876'), ('cname', 'Kingdom of England')]\n",
      "[('country', 'http://www.wikidata.org/entity/Q183'), ('cname', 'Germany')]\n",
      "[('country', 'http://www.wikidata.org/entity/Q184'), ('cname', 'Belarus')]\n",
      "[('country', 'http://www.wikidata.org/entity/Q186096'), ('cname', 'Tsardom of Russia')]\n",
      "[('country', 'http://www.wikidata.org/entity/Q188586'), ('cname', 'Kingdom of Sicily')]\n",
      "[('country', 'http://www.wikidata.org/entity/Q20'), ('cname', 'Norway')]\n",
      "[('country', 'http://www.wikidata.org/entity/Q2010024'), ('cname', 'Second Czechoslovak Republic')]\n",
      "[('country', 'http://www.wikidata.org/entity/Q207272'), ('cname', 'Second Polish Republic')]\n",
      "[('country', 'http://www.wikidata.org/entity/Q21'), ('cname', 'England')]\n",
      "[('country', 'http://www.wikidata.org/entity/Q211'), ('cname', 'Latvia')]\n",
      "[('country', 'http://www.wikidata.org/entity/Q211274'), ('cname', \"Polish People's Republic\")]\n",
      "[('country', 'http://www.wikidata.org/entity/Q212'), ('cname', 'Ukraine')]\n",
      "[('country', 'http://www.wikidata.org/entity/Q217'), ('cname', 'Moldova')]\n",
      "[('country', 'http://www.wikidata.org/entity/Q218'), ('cname', 'Romania')]\n",
      "[('country', 'http://www.wikidata.org/entity/Q219'), ('cname', 'Bulgaria')]\n",
      "[('country', 'http://www.wikidata.org/entity/Q221'), ('cname', 'North Macedonia')]\n",
      "[('country', 'http://www.wikidata.org/entity/Q227'), ('cname', 'Azerbaijan')]\n",
      "[('country', 'http://www.wikidata.org/entity/Q229'), ('cname', 'Cyprus')]\n",
      "[('country', 'http://www.wikidata.org/entity/Q230'), ('cname', 'Georgia')]\n",
      "[('country', 'http://www.wikidata.org/entity/Q232'), ('cname', 'Kazakhstan')]\n",
      "[('country', 'http://www.wikidata.org/entity/Q236'), ('cname', 'Montenegro')]\n",
      "[('country', 'http://www.wikidata.org/entity/Q25'), ('cname', 'Wales')]\n",
      "[('country', 'http://www.wikidata.org/entity/Q27306'), ('cname', 'Kingdom of Prussia')]\n",
      "[('country', 'http://www.wikidata.org/entity/Q28'), ('cname', 'Hungary')]\n",
      "[('country', 'http://www.wikidata.org/entity/Q29999'), ('cname', 'Kingdom of the Netherlands')]\n",
      "[('country', 'http://www.wikidata.org/entity/Q32'), ('cname', 'Luxembourg')]\n",
      "[('country', 'http://www.wikidata.org/entity/Q33'), ('cname', 'Finland')]\n",
      "[('country', 'http://www.wikidata.org/entity/Q34'), ('cname', 'Sweden')]\n",
      "[('country', 'http://www.wikidata.org/entity/Q347'), ('cname', 'Liechtenstein')]\n",
      "[('country', 'http://www.wikidata.org/entity/Q35'), ('cname', 'Denmark')]\n",
      "[('country', 'http://www.wikidata.org/entity/Q36'), ('cname', 'Poland')]\n",
      "[('country', 'http://www.wikidata.org/entity/Q37'), ('cname', 'Lithuania')]\n",
      "[('country', 'http://www.wikidata.org/entity/Q38'), ('cname', 'Italy')]\n",
      "[('country', 'http://www.wikidata.org/entity/Q39'), ('cname', 'Switzerland')]\n",
      "[('country', 'http://www.wikidata.org/entity/Q399'), ('cname', 'Armenia')]\n",
      "[('country', 'http://www.wikidata.org/entity/Q40'), ('cname', 'Austria')]\n",
      "[('country', 'http://www.wikidata.org/entity/Q403'), ('cname', 'Serbia')]\n",
      "[('country', 'http://www.wikidata.org/entity/Q41'), ('cname', 'Greece')]\n",
      "[('country', 'http://www.wikidata.org/entity/Q43'), ('cname', 'Turkey')]\n",
      "[('country', 'http://www.wikidata.org/entity/Q43287'), ('cname', 'German Empire')]\n",
      "[('country', 'http://www.wikidata.org/entity/Q45'), ('cname', 'Portugal')]\n",
      "[('country', 'http://www.wikidata.org/entity/Q45670'), ('cname', 'Kingdom of Portugal')]\n",
      "[('country', 'http://www.wikidata.org/entity/Q55'), ('cname', 'Netherlands')]\n",
      "[('country', 'http://www.wikidata.org/entity/Q83286'), ('cname', 'Socialist Federal Republic of Yugoslavia')]\n",
      "[('country', 'http://www.wikidata.org/entity/Q844930'), ('cname', 'Classical Athens')]\n",
      "[('country', 'http://www.wikidata.org/entity/Q121932'), ('cname', \"People's Republic of Bulgaria\")]\n",
      "[('country', 'http://www.wikidata.org/entity/Q12544'), ('cname', 'Byzantine Empire')]\n",
      "[('country', 'http://www.wikidata.org/entity/Q12560'), ('cname', 'Ottoman Empire')]\n",
      "[('country', 'http://www.wikidata.org/entity/Q131964'), ('cname', 'Austrian Empire')]\n",
      "[('country', 'http://www.wikidata.org/entity/Q147909'), ('cname', 'Kingdom of Bulgaria')]\n",
      "[('country', 'http://www.wikidata.org/entity/Q154849'), ('cname', 'Grand Duchy of Tuscany')]\n",
      "[('country', 'http://www.wikidata.org/entity/Q188553'), ('cname', 'Batavian Republic')]\n",
      "[('country', 'http://www.wikidata.org/entity/Q243610'), ('cname', \"Ukrainian People's Republic\")]\n",
      "[('country', 'http://www.wikidata.org/entity/Q28513'), ('cname', 'Austria-Hungary')]\n",
      "[('country', 'http://www.wikidata.org/entity/Q2895'), ('cname', 'Byelorussian Soviet Socialist Republic')]\n",
      "[('country', 'http://www.wikidata.org/entity/Q38872'), ('cname', 'Prussia')]\n",
      "[('country', 'http://www.wikidata.org/entity/Q49683'), ('cname', 'Grand Duchy of Lithuania')]\n",
      "[('country', 'http://www.wikidata.org/entity/Q8575586'), ('cname', 'Umayyad Caliphate')]\n",
      "[('country', 'http://www.wikidata.org/entity/Q16746854'), ('cname', \"Luhansk People's Republic\")]\n",
      "[('country', 'http://www.wikidata.org/entity/Q156020'), ('cname', 'State of the Teutonic Order')]\n",
      "[('country', 'http://www.wikidata.org/entity/Q203493'), ('cname', 'Kingdom of Romania')]\n",
      "[('country', 'http://www.wikidata.org/entity/Q622783'), ('cname', 'Spanish Netherlands')]\n",
      "[('country', 'http://www.wikidata.org/entity/Q71084'), ('cname', 'First French Empire')]\n",
      "[('country', 'http://www.wikidata.org/entity/Q83958'), ('cname', 'Macedonia')]\n",
      "[('country', 'http://www.wikidata.org/entity/Q204920'), ('cname', 'Crown of Aragon')]\n",
      "[('country', 'http://www.wikidata.org/entity/Q389688'), ('cname', 'Achaemenid Empire')]\n",
      "[('country', 'http://www.wikidata.org/entity/Q457167'), ('cname', \"West Ukrainian People's Republic\")]\n",
      "[('country', 'http://www.wikidata.org/entity/Q1031430'), ('cname', 'Habsburg Netherlands')]\n",
      "[('country', 'http://www.wikidata.org/entity/Q157109'), ('cname', 'Burgundian Netherlands')]\n",
      "[('country', 'http://www.wikidata.org/entity/Q165154'), ('cname', 'Kingdom of Sardinia')]\n",
      "[('country', 'http://www.wikidata.org/entity/Q157070'), ('cname', 'County of Flanders')]\n",
      "[('country', 'http://www.wikidata.org/entity/Q153529'), ('cname', 'Duchy of Milan')]\n",
      "[('country', 'http://www.wikidata.org/entity/Q212278'), ('cname', 'Kingdom of Holland')]\n",
      "[('country', 'http://www.wikidata.org/entity/Q907112'), ('cname', 'Transnistria')]\n"
     ]
    },
    {
     "data": {
      "text/plain": [
       "100"
      ]
     },
     "execution_count": 9,
     "metadata": {},
     "output_type": "execute_result"
    }
   ],
   "source": [
    "#Q7\n",
    "#using Europe instead of EU the results are very different, check why\n",
    "queryString = \"\"\"\n",
    "SELECT DISTINCT ?country ?cname\n",
    "WHERE { \n",
    "\n",
    "?pol wdt:P106/wdt:P279 wd:Q82955;\n",
    "     wdt:P27 ?country.\n",
    "?country wdt:P30 wd:Q46.\n",
    "FILTER NOT EXISTS{?country wdt:P361 wd:Q458}\n",
    "\n",
    "#Labels\n",
    "?country <http://schema.org/name> ?cname .\n",
    "\n",
    "}\n",
    "LIMIT 100\n",
    "\"\"\"\n",
    "\n",
    "print(\"Results\")\n",
    "run_query(queryString)"
   ]
  },
  {
   "cell_type": "markdown",
   "id": "1227a3eb-fe34-4e50-927f-663f549adaec",
   "metadata": {},
   "source": [
    "The previous path to connect a country to UE doesn't seem right because it retrieves only 19 countries and as a consequence some ones, like Germany,\n",
    "are not present. \n",
    "I'll try the reverse path to see if there are some other paths."
   ]
  },
  {
   "cell_type": "code",
   "execution_count": 10,
   "id": "61a89f48-fb7c-4910-9df5-3e4d16015123",
   "metadata": {},
   "outputs": [
    {
     "name": "stdout",
     "output_type": "stream",
     "text": [
      "Results\n",
      "[('o', 'http://www.wikidata.org/entity/Q3323440'), ('oname', 'Princess of Asturias Award for Concord')]\n",
      "[('o', 'http://www.wikidata.org/entity/Q10858397'), ('oname', 'WikiProject European Union')]\n",
      "[('o', 'http://www.wikidata.org/entity/Q11146'), ('oname', 'Maastricht Treaty')]\n",
      "[('o', 'http://www.wikidata.org/entity/Q223'), ('oname', 'Greenland')]\n",
      "[('o', 'http://www.wikidata.org/entity/Q23681'), ('oname', 'Turkish Republic of Northern Cyprus')]\n",
      "[('o', 'http://www.wikidata.org/entity/Q8889'), ('oname', 'European Parliament')]\n",
      "[('o', 'http://www.wikidata.org/entity/Q9072'), ('oname', 'Estonian')]\n",
      "[('o', 'http://www.wikidata.org/entity/Q9078'), ('oname', 'Latvian')]\n",
      "[('o', 'http://www.wikidata.org/entity/Q9083'), ('oname', 'Lithuanian')]\n",
      "[('o', 'http://www.wikidata.org/entity/Q7987828'), ('oname', 'Western European Summer Time')]\n",
      "[('o', 'http://www.wikidata.org/entity/Q480222'), ('oname', 'Publications Office of the European Union')]\n",
      "[('o', 'http://www.wikidata.org/entity/Q3249016'), ('oname', 'Portal:European Union')]\n",
      "[('o', 'http://www.wikidata.org/entity/Q167457'), ('oname', 'Treaty on the Functioning of the European Union')]\n",
      "[('o', 'http://www.wikidata.org/entity/Q1011'), ('oname', 'Cape Verde')]\n",
      "[('o', 'http://www.wikidata.org/entity/Q1028'), ('oname', 'Morocco')]\n",
      "[('o', 'http://www.wikidata.org/entity/Q1032'), ('oname', 'Niger')]\n",
      "[('o', 'http://www.wikidata.org/entity/Q1041'), ('oname', 'Senegal')]\n",
      "[('o', 'http://www.wikidata.org/entity/Q1048835'), ('oname', 'political territorial entity')]\n",
      "[('o', 'http://www.wikidata.org/entity/Q1050'), ('oname', 'Eswatini')]\n",
      "[('o', 'http://www.wikidata.org/entity/Q1061257'), ('oname', '112')]\n",
      "[('o', 'http://www.wikidata.org/entity/Q1065'), ('oname', 'United Nations')]\n",
      "[('o', 'http://www.wikidata.org/entity/Q107607934'), ('oname', 'international governmental or non-governmental organizations')]\n",
      "[('o', 'http://www.wikidata.org/entity/Q1109976'), ('oname', 'Eastern European Summer Time')]\n",
      "[('o', 'http://www.wikidata.org/entity/Q114'), ('oname', 'Kenya')]\n",
      "[('o', 'http://www.wikidata.org/entity/Q11993'), ('oname', 'Anthem of Europe')]\n",
      "[('o', 'http://www.wikidata.org/entity/Q122482'), ('oname', 'European flag')]\n",
      "[('o', 'http://www.wikidata.org/entity/Q13196750'), ('oname', 'left')]\n",
      "[('o', 'http://www.wikidata.org/entity/Q1321'), ('oname', 'Spanish')]\n",
      "[('o', 'http://www.wikidata.org/entity/Q1335818'), ('oname', 'supranational union')]\n",
      "[('o', 'http://www.wikidata.org/entity/Q1412'), ('oname', 'Finnish')]\n",
      "[('o', 'http://www.wikidata.org/entity/Q141720'), ('oname', 'European Air Transport Command')]\n",
      "[('o', 'http://www.wikidata.org/entity/Q142'), ('oname', 'France')]\n",
      "[('o', 'http://www.wikidata.org/entity/Q145'), ('oname', 'United Kingdom')]\n",
      "[('o', 'http://www.wikidata.org/entity/Q14565199'), ('oname', 'right')]\n",
      "[('o', 'http://www.wikidata.org/entity/Q148'), ('oname', \"People's Republic of China\")]\n",
      "[('o', 'http://www.wikidata.org/entity/Q150'), ('oname', 'French')]\n",
      "[('o', 'http://www.wikidata.org/entity/Q155'), ('oname', 'Brazil')]\n",
      "[('o', 'http://www.wikidata.org/entity/Q159'), ('oname', 'Russia')]\n",
      "[('o', 'http://www.wikidata.org/entity/Q159583'), ('oname', 'Holy See')]\n",
      "[('o', 'http://www.wikidata.org/entity/Q16'), ('oname', 'Canada')]\n",
      "[('o', 'http://www.wikidata.org/entity/Q161549'), ('oname', 'European Coal and Steel Community')]\n",
      "[('o', 'http://www.wikidata.org/entity/Q17'), ('oname', 'Japan')]\n",
      "[('o', 'http://www.wikidata.org/entity/Q183'), ('oname', 'Germany')]\n",
      "[('o', 'http://www.wikidata.org/entity/Q184'), ('oname', 'Belarus')]\n",
      "[('o', 'http://www.wikidata.org/entity/Q1860'), ('oname', 'English')]\n",
      "[('o', 'http://www.wikidata.org/entity/Q188'), ('oname', 'German')]\n",
      "[('o', 'http://www.wikidata.org/entity/Q189946'), ('oname', 'Western European Union')]\n",
      "[('o', 'http://www.wikidata.org/entity/Q190252'), ('oname', 'Eastern European Time')]\n",
      "[('o', 'http://www.wikidata.org/entity/Q191'), ('oname', 'Estonia')]\n",
      "[('o', 'http://www.wikidata.org/entity/Q19771'), ('oname', 'G20')]\n",
      "[('o', 'http://www.wikidata.org/entity/Q20'), ('oname', 'Norway')]\n",
      "[('o', 'http://www.wikidata.org/entity/Q207020'), ('oname', 'Central European Summer Time')]\n",
      "[('o', 'http://www.wikidata.org/entity/Q211'), ('oname', 'Latvia')]\n",
      "[('o', 'http://www.wikidata.org/entity/Q212'), ('oname', 'Ukraine')]\n",
      "[('o', 'http://www.wikidata.org/entity/Q213'), ('oname', 'Czech Republic')]\n",
      "[('o', 'http://www.wikidata.org/entity/Q214'), ('oname', 'Slovakia')]\n",
      "[('o', 'http://www.wikidata.org/entity/Q215'), ('oname', 'Slovenia')]\n",
      "[('o', 'http://www.wikidata.org/entity/Q217'), ('oname', 'Moldova')]\n",
      "[('o', 'http://www.wikidata.org/entity/Q218'), ('oname', 'Romania')]\n",
      "[('o', 'http://www.wikidata.org/entity/Q219'), ('oname', 'Bulgaria')]\n",
      "[('o', 'http://www.wikidata.org/entity/Q219060'), ('oname', 'State of Palestine')]\n",
      "[('o', 'http://www.wikidata.org/entity/Q221'), ('oname', 'North Macedonia')]\n",
      "[('o', 'http://www.wikidata.org/entity/Q222'), ('oname', 'Albania')]\n",
      "[('o', 'http://www.wikidata.org/entity/Q224'), ('oname', 'Croatia')]\n",
      "[('o', 'http://www.wikidata.org/entity/Q225'), ('oname', 'Bosnia and Herzegovina')]\n",
      "[('o', 'http://www.wikidata.org/entity/Q227'), ('oname', 'Azerbaijan')]\n",
      "[('o', 'http://www.wikidata.org/entity/Q228'), ('oname', 'Andorra')]\n",
      "[('o', 'http://www.wikidata.org/entity/Q229'), ('oname', 'Cyprus')]\n",
      "[('o', 'http://www.wikidata.org/entity/Q230'), ('oname', 'Georgia')]\n",
      "[('o', 'http://www.wikidata.org/entity/Q232'), ('oname', 'Kazakhstan')]\n",
      "[('o', 'http://www.wikidata.org/entity/Q233'), ('oname', 'Malta')]\n",
      "[('o', 'http://www.wikidata.org/entity/Q235'), ('oname', 'Monaco')]\n",
      "[('o', 'http://www.wikidata.org/entity/Q236'), ('oname', 'Montenegro')]\n",
      "[('o', 'http://www.wikidata.org/entity/Q237'), ('oname', 'Vatican City')]\n",
      "[('o', 'http://www.wikidata.org/entity/Q238'), ('oname', 'San Marino')]\n",
      "[('o', 'http://www.wikidata.org/entity/Q239'), ('oname', 'City of Brussels')]\n",
      "[('o', 'http://www.wikidata.org/entity/Q241'), ('oname', 'Cuba')]\n",
      "[('o', 'http://www.wikidata.org/entity/Q252'), ('oname', 'Indonesia')]\n",
      "[('o', 'http://www.wikidata.org/entity/Q258'), ('oname', 'South Africa')]\n",
      "[('o', 'http://www.wikidata.org/entity/Q25989'), ('oname', 'Central European Time')]\n",
      "[('o', 'http://www.wikidata.org/entity/Q27'), ('oname', 'Ireland')]\n",
      "[('o', 'http://www.wikidata.org/entity/Q28'), ('oname', 'Hungary')]\n",
      "[('o', 'http://www.wikidata.org/entity/Q29'), ('oname', 'Spain')]\n",
      "[('o', 'http://www.wikidata.org/entity/Q29999'), ('oname', 'Kingdom of the Netherlands')]\n",
      "[('o', 'http://www.wikidata.org/entity/Q30'), ('oname', 'United States of America')]\n",
      "[('o', 'http://www.wikidata.org/entity/Q31'), ('oname', 'Belgium')]\n",
      "[('o', 'http://www.wikidata.org/entity/Q32'), ('oname', 'Luxembourg')]\n",
      "[('o', 'http://www.wikidata.org/entity/Q33'), ('oname', 'Finland')]\n",
      "[('o', 'http://www.wikidata.org/entity/Q34'), ('oname', 'Sweden')]\n",
      "[('o', 'http://www.wikidata.org/entity/Q34020'), ('oname', 'Niue')]\n",
      "[('o', 'http://www.wikidata.org/entity/Q347'), ('oname', 'Liechtenstein')]\n",
      "[('o', 'http://www.wikidata.org/entity/Q35'), ('oname', 'Denmark')]\n",
      "[('o', 'http://www.wikidata.org/entity/Q35637'), ('oname', 'Nobel Peace Prize')]\n",
      "[('o', 'http://www.wikidata.org/entity/Q36'), ('oname', 'Poland')]\n",
      "[('o', 'http://www.wikidata.org/entity/Q3623811'), ('oname', 'economic union')]\n",
      "[('o', 'http://www.wikidata.org/entity/Q37'), ('oname', 'Lithuania')]\n",
      "[('o', 'http://www.wikidata.org/entity/Q38'), ('oname', 'Italy')]\n",
      "[('o', 'http://www.wikidata.org/entity/Q39'), ('oname', 'Switzerland')]\n",
      "[('o', 'http://www.wikidata.org/entity/Q399'), ('oname', 'Armenia')]\n",
      "[('o', 'http://www.wikidata.org/entity/Q40'), ('oname', 'Austria')]\n"
     ]
    },
    {
     "data": {
      "text/plain": [
       "100"
      ]
     },
     "execution_count": 10,
     "metadata": {},
     "output_type": "execute_result"
    }
   ],
   "source": [
    "#Q8\n",
    "#Germany is not listed as member of EU, check the reverse path\n",
    "queryString = \"\"\"\n",
    "SELECT DISTINCT ?o ?oname\n",
    "WHERE { \n",
    "\n",
    "wd:Q458 ?p ?o.\n",
    "\n",
    "#Labels\n",
    "?o <http://schema.org/name> ?oname .\n",
    "\n",
    "}\n",
    "LIMIT 100\n",
    "\"\"\"\n",
    "\n",
    "print(\"Results\")\n",
    "run_query(queryString)"
   ]
  },
  {
   "cell_type": "code",
   "execution_count": 11,
   "id": "25894020-b0f3-48c5-bfd7-ea0aefecbb3e",
   "metadata": {},
   "outputs": [
    {
     "name": "stdout",
     "output_type": "stream",
     "text": [
      "Results\n",
      "[('p', 'http://www.wikidata.org/prop/direct/P150'), ('pname', 'contains administrative territorial entity')]\n",
      "[('p', 'http://www.wikidata.org/prop/direct/P527'), ('pname', 'has part')]\n"
     ]
    },
    {
     "data": {
      "text/plain": [
       "2"
      ]
     },
     "execution_count": 11,
     "metadata": {},
     "output_type": "execute_result"
    }
   ],
   "source": [
    "#Q9\n",
    "#Germany is not listed as member of EU, check the reverse path\n",
    "queryString = \"\"\"\n",
    "SELECT DISTINCT ?p ?pname\n",
    "WHERE { \n",
    "\n",
    "wd:Q458 ?p wd:Q183.\n",
    "\n",
    "#Labels\n",
    "?p <http://schema.org/name> ?pname .\n",
    "\n",
    "}\n",
    "LIMIT 100\n",
    "\"\"\"\n",
    "\n",
    "print(\"Results\")\n",
    "run_query(queryString)"
   ]
  },
  {
   "cell_type": "markdown",
   "id": "758f892d-c446-47ec-b99f-0a619ed27efb",
   "metadata": {},
   "source": [
    "The BGP wd:Q458 wdt:P527 ?country seems the right one to retrieve all the members of EU. Let's count the countries retrieved to check if it is true."
   ]
  },
  {
   "cell_type": "code",
   "execution_count": 12,
   "id": "1212b309-a12b-4367-af42-51bf32859a16",
   "metadata": {},
   "outputs": [
    {
     "name": "stdout",
     "output_type": "stream",
     "text": [
      "Results\n",
      "[('callret-0', '27')]\n"
     ]
    },
    {
     "data": {
      "text/plain": [
       "1"
      ]
     },
     "execution_count": 12,
     "metadata": {},
     "output_type": "execute_result"
    }
   ],
   "source": [
    "#Q10\n",
    "#count member of EU by using P527\n",
    "queryString = \"\"\"\n",
    "SELECT COUNT(?country)\n",
    "WHERE { \n",
    "\n",
    "wd:Q458 wdt:P527 ?country.\n",
    "\n",
    "}\n",
    "LIMIT 100\n",
    "\"\"\"\n",
    "\n",
    "print(\"Results\")\n",
    "run_query(queryString)"
   ]
  },
  {
   "cell_type": "markdown",
   "id": "cdbdbfd4-78b0-4ef2-9039-8e50f90e8ecc",
   "metadata": {},
   "source": [
    "Run the query to count the number of politicians for each EU country"
   ]
  },
  {
   "cell_type": "code",
   "execution_count": 13,
   "id": "2700ad55-0e8e-4889-9ff3-704394fc302f",
   "metadata": {},
   "outputs": [
    {
     "name": "stdout",
     "output_type": "stream",
     "text": [
      "Results\n",
      "[('country', 'http://www.wikidata.org/entity/Q29'), ('howMany', '2600')]\n",
      "[('country', 'http://www.wikidata.org/entity/Q142'), ('howMany', '493')]\n",
      "[('country', 'http://www.wikidata.org/entity/Q183'), ('howMany', '185')]\n",
      "[('country', 'http://www.wikidata.org/entity/Q28'), ('howMany', '169')]\n",
      "[('country', 'http://www.wikidata.org/entity/Q34'), ('howMany', '76')]\n",
      "[('country', 'http://www.wikidata.org/entity/Q35'), ('howMany', '68')]\n",
      "[('country', 'http://www.wikidata.org/entity/Q36'), ('howMany', '40')]\n",
      "[('country', 'http://www.wikidata.org/entity/Q40'), ('howMany', '38')]\n",
      "[('country', 'http://www.wikidata.org/entity/Q215'), ('howMany', '29')]\n",
      "[('country', 'http://www.wikidata.org/entity/Q38'), ('howMany', '19')]\n",
      "[('country', 'http://www.wikidata.org/entity/Q33'), ('howMany', '13')]\n",
      "[('country', 'http://www.wikidata.org/entity/Q41'), ('howMany', '11')]\n",
      "[('country', 'http://www.wikidata.org/entity/Q218'), ('howMany', '9')]\n",
      "[('country', 'http://www.wikidata.org/entity/Q32'), ('howMany', '8')]\n",
      "[('country', 'http://www.wikidata.org/entity/Q213'), ('howMany', '7')]\n",
      "[('country', 'http://www.wikidata.org/entity/Q31'), ('howMany', '7')]\n",
      "[('country', 'http://www.wikidata.org/entity/Q45'), ('howMany', '5')]\n",
      "[('country', 'http://www.wikidata.org/entity/Q211'), ('howMany', '4')]\n",
      "[('country', 'http://www.wikidata.org/entity/Q219'), ('howMany', '4')]\n",
      "[('country', 'http://www.wikidata.org/entity/Q229'), ('howMany', '2')]\n",
      "[('country', 'http://www.wikidata.org/entity/Q55'), ('howMany', '1')]\n",
      "[('country', 'http://www.wikidata.org/entity/Q214'), ('howMany', '1')]\n",
      "[('country', 'http://www.wikidata.org/entity/Q191'), ('howMany', '1')]\n",
      "[('country', 'http://www.wikidata.org/entity/Q37'), ('howMany', '1')]\n"
     ]
    },
    {
     "data": {
      "text/plain": [
       "24"
      ]
     },
     "execution_count": 13,
     "metadata": {},
     "output_type": "execute_result"
    }
   ],
   "source": [
    "#Q11\n",
    "#run Q6 using the reverse path (from EU to country)\n",
    "queryString = \"\"\"\n",
    "SELECT ?country (COUNT(DISTINCT ?pol) AS ?howMany)\n",
    "WHERE { \n",
    "\n",
    "?pol wdt:P106/wdt:P279 wd:Q82955;\n",
    "     wdt:P27 ?country.\n",
    "wd:Q458 wdt:P527 ?country.\n",
    "\n",
    "}\n",
    "GROUP BY ?country\n",
    "ORDER BY DESC(?howMany)\n",
    "LIMIT 100\n",
    "\"\"\"\n",
    "\n",
    "print(\"Results\")\n",
    "run_query(queryString)"
   ]
  },
  {
   "cell_type": "code",
   "execution_count": 14,
   "id": "6e2257d6-0b05-49f9-9bee-6e41b3971181",
   "metadata": {},
   "outputs": [
    {
     "name": "stdout",
     "output_type": "stream",
     "text": [
      "Results\n",
      "[('pol', 'http://www.wikidata.org/entity/Q6554677'), ('name', 'Lino Guzzella')]\n",
      "[('pol', 'http://www.wikidata.org/entity/Q104867229'), ('name', 'Roberto Sgalla')]\n",
      "[('pol', 'http://www.wikidata.org/entity/Q3617921'), ('name', 'Annarita Buttafuoco')]\n",
      "[('pol', 'http://www.wikidata.org/entity/Q21101292'), ('name', 'Mario Beccaria')]\n",
      "[('pol', 'http://www.wikidata.org/entity/Q92911939'), ('name', 'Carlo Emanuele Filiberto Giacinto di Simiana')]\n",
      "[('pol', 'http://www.wikidata.org/entity/Q97022278'), ('name', 'Silvano Capraro')]\n",
      "[('pol', 'http://www.wikidata.org/entity/Q91449519'), ('name', 'Rino Clerici')]\n",
      "[('pol', 'http://www.wikidata.org/entity/Q3621422'), ('name', 'Arcangelo Pezzella')]\n",
      "[('pol', 'http://www.wikidata.org/entity/Q107271734'), ('name', 'Giovanni Lapi')]\n",
      "[('pol', 'http://www.wikidata.org/entity/Q18418864'), ('name', 'Libero Mazza')]\n",
      "[('pol', 'http://www.wikidata.org/entity/Q105979780'), ('name', 'Carlo Giacomo Fanchini')]\n",
      "[('pol', 'http://www.wikidata.org/entity/Q107344109'), ('name', 'Norbert Lantschner')]\n",
      "[('pol', 'http://www.wikidata.org/entity/Q4013517'), ('name', 'Vincenzo Serrentino')]\n",
      "[('pol', 'http://www.wikidata.org/entity/Q105421950'), ('name', 'Giampiero Mari')]\n",
      "[('pol', 'http://www.wikidata.org/entity/Q24953078'), ('name', 'Carlo Mosca')]\n",
      "[('pol', 'http://www.wikidata.org/entity/Q99388045'), ('name', 'Pierluigi Camilli')]\n",
      "[('pol', 'http://www.wikidata.org/entity/Q13196774'), ('name', 'Maria Grazia Brandara')]\n"
     ]
    },
    {
     "data": {
      "text/plain": [
       "17"
      ]
     },
     "execution_count": 14,
     "metadata": {},
     "output_type": "execute_result"
    }
   ],
   "source": [
    "#Q12\n",
    "#retrieve italian politicians\n",
    "queryString = \"\"\"\n",
    "SELECT ?pol ?name\n",
    "WHERE { \n",
    "\n",
    "?pol wdt:P106/wdt:P279 wd:Q82955;\n",
    "     wdt:P27 wd:Q38.\n",
    "#Labels\n",
    "?pol <http://schema.org/name> ?name .\n",
    "\n",
    "}\n",
    "LIMIT 25\n",
    "\"\"\"\n",
    "\n",
    "print(\"Results\")\n",
    "run_query(queryString)"
   ]
  },
  {
   "cell_type": "markdown",
   "id": "ea519787-2647-408e-a44c-1582503bd012",
   "metadata": {},
   "source": [
    "I got very few results from the previous one, i'll add the iteration over P279 in the next one "
   ]
  },
  {
   "cell_type": "code",
   "execution_count": 2,
   "id": "95dae1ab-70d2-43c6-8b32-a6e85e30f743",
   "metadata": {},
   "outputs": [
    {
     "name": "stdout",
     "output_type": "stream",
     "text": [
      "Results\n",
      "[('callret-0', '12131')]\n"
     ]
    },
    {
     "data": {
      "text/plain": [
       "1"
      ]
     },
     "execution_count": 2,
     "metadata": {},
     "output_type": "execute_result"
    }
   ],
   "source": [
    "#Q13\n",
    "#few results, iterate over P279\n",
    "#count italian politicians\n",
    "queryString = \"\"\"\n",
    "SELECT COUNT(?pol)\n",
    "WHERE { \n",
    "\n",
    "?pol wdt:P106/wdt:P279* wd:Q82955;\n",
    "     wdt:P27 wd:Q38.\n",
    "#Labels\n",
    "?pol <http://schema.org/name> ?name .\n",
    "\n",
    "}\n",
    "LIMIT 25\n",
    "\"\"\"\n",
    "\n",
    "print(\"Results\")\n",
    "run_query(queryString)"
   ]
  },
  {
   "cell_type": "code",
   "execution_count": 3,
   "id": "2ea88494-cda1-46c8-9336-e8799428f8b1",
   "metadata": {},
   "outputs": [
    {
     "name": "stdout",
     "output_type": "stream",
     "text": [
      "Results\n",
      "[('country', 'http://www.wikidata.org/entity/Q142'), ('pol', 'http://www.wikidata.org/entity/Q49164475')]\n",
      "[('country', 'http://www.wikidata.org/entity/Q142'), ('pol', 'http://www.wikidata.org/entity/Q21492547')]\n",
      "[('country', 'http://www.wikidata.org/entity/Q142'), ('pol', 'http://www.wikidata.org/entity/Q20895513')]\n",
      "[('country', 'http://www.wikidata.org/entity/Q142'), ('pol', 'http://www.wikidata.org/entity/Q99654425')]\n",
      "[('country', 'http://www.wikidata.org/entity/Q142'), ('pol', 'http://www.wikidata.org/entity/Q10843521')]\n",
      "[('country', 'http://www.wikidata.org/entity/Q142'), ('pol', 'http://www.wikidata.org/entity/Q21427157')]\n",
      "[('country', 'http://www.wikidata.org/entity/Q142'), ('pol', 'http://www.wikidata.org/entity/Q33113557')]\n",
      "[('country', 'http://www.wikidata.org/entity/Q142'), ('pol', 'http://www.wikidata.org/entity/Q2833524')]\n",
      "[('country', 'http://www.wikidata.org/entity/Q142'), ('pol', 'http://www.wikidata.org/entity/Q50400574')]\n",
      "[('country', 'http://www.wikidata.org/entity/Q142'), ('pol', 'http://www.wikidata.org/entity/Q717289')]\n"
     ]
    },
    {
     "data": {
      "text/plain": [
       "10"
      ]
     },
     "execution_count": 3,
     "metadata": {},
     "output_type": "execute_result"
    }
   ],
   "source": [
    "#TASK 1 ENDS HERE: BGP to retrieve an EU country and its politicians\n",
    "queryString = \"\"\"\n",
    "SELECT ?country ?pol\n",
    "WHERE { \n",
    "\n",
    "?pol wdt:P106/wdt:P279* wd:Q82955;\n",
    "     wdt:P27 ?country.\n",
    "wd:Q458 wdt:P527 ?country. #EU\n",
    "}\n",
    "LIMIT 10\n",
    "\"\"\"\n",
    "\n",
    "print(\"Results\")\n",
    "run_query(queryString)"
   ]
  },
  {
   "cell_type": "markdown",
   "id": "9fee232f-6a5b-469c-ad8d-15e431338011",
   "metadata": {},
   "source": [
    "<h3> Task 1 ENDS HERE </h3>\n",
    "In the first task I found out how to check if a country is a member of EU, I counted the number of politicians for each country in EU. Mixing these \n",
    "two results i found out the BGP to retrieve all the politicians of one EU country and tested it for Italy."
   ]
  },
  {
   "cell_type": "markdown",
   "id": "9215cbd7-a344-479d-b5a1-2f59a31e8992",
   "metadata": {},
   "source": [
    "<h3> Task 2 STARTS HERE </h3>\n",
    "Identify the BGP for obtaining other occupations and properties of politicians"
   ]
  },
  {
   "cell_type": "code",
   "execution_count": 3,
   "id": "ea4119de-9d8f-473b-9ed7-0ff932d887e2",
   "metadata": {},
   "outputs": [
    {
     "name": "stdout",
     "output_type": "stream",
     "text": [
      "Results\n",
      "[('p', 'http://www.wikidata.org/prop/direct/P102'), ('pname', 'member of political party')]\n",
      "[('p', 'http://www.wikidata.org/prop/direct/P106'), ('pname', 'occupation')]\n",
      "[('p', 'http://www.wikidata.org/prop/direct/P1412'), ('pname', 'languages spoken, written or signed')]\n",
      "[('p', 'http://www.wikidata.org/prop/direct/P19'), ('pname', 'place of birth')]\n",
      "[('p', 'http://www.wikidata.org/prop/direct/P20'), ('pname', 'place of death')]\n",
      "[('p', 'http://www.wikidata.org/prop/direct/P21'), ('pname', 'sex or gender')]\n",
      "[('p', 'http://www.wikidata.org/prop/direct/P27'), ('pname', 'country of citizenship')]\n",
      "[('p', 'http://www.wikidata.org/prop/direct/P31'), ('pname', 'instance of')]\n",
      "[('p', 'http://www.wikidata.org/prop/direct/P463'), ('pname', 'member of')]\n",
      "[('p', 'http://www.wikidata.org/prop/direct/P6886'), ('pname', 'writing language')]\n",
      "[('p', 'http://www.wikidata.org/prop/direct/P734'), ('pname', 'family name')]\n",
      "[('p', 'http://www.wikidata.org/prop/direct/P735'), ('pname', 'given name')]\n",
      "[('p', 'http://www.wikidata.org/prop/direct/P8214'), ('pname', 'curriculum vitae')]\n",
      "[('p', 'http://www.wikidata.org/prop/direct/P1066'), ('pname', 'student of')]\n",
      "[('p', 'http://www.wikidata.org/prop/direct/P18'), ('pname', 'image')]\n",
      "[('p', 'http://www.wikidata.org/prop/direct/P39'), ('pname', 'position held')]\n",
      "[('p', 'http://www.wikidata.org/prop/direct/P69'), ('pname', 'educated at')]\n",
      "[('p', 'http://www.wikidata.org/prop/direct/P937'), ('pname', 'work location')]\n",
      "[('p', 'http://www.wikidata.org/prop/direct/P108'), ('pname', 'employer')]\n",
      "[('p', 'http://www.wikidata.org/prop/direct/P119'), ('pname', 'place of burial')]\n",
      "[('p', 'http://www.wikidata.org/prop/direct/P1196'), ('pname', 'manner of death')]\n",
      "[('p', 'http://www.wikidata.org/prop/direct/P509'), ('pname', 'cause of death')]\n",
      "[('p', 'http://www.wikidata.org/prop/direct/P1343'), ('pname', 'described by source')]\n",
      "[('p', 'http://www.wikidata.org/prop/direct/P140'), ('pname', 'religion')]\n",
      "[('p', 'http://www.wikidata.org/prop/direct/P241'), ('pname', 'military branch')]\n",
      "[('p', 'http://www.wikidata.org/prop/direct/P97'), ('pname', 'noble title')]\n",
      "[('p', 'http://www.wikidata.org/prop/direct/P973'), ('pname', 'described at URL')]\n",
      "[('p', 'http://www.wikidata.org/prop/direct/P22'), ('pname', 'father')]\n",
      "[('p', 'http://www.wikidata.org/prop/direct/P40'), ('pname', 'child')]\n",
      "[('p', 'http://www.wikidata.org/prop/direct/P856'), ('pname', 'official website')]\n",
      "[('p', 'http://www.wikidata.org/prop/direct/P166'), ('pname', 'award received')]\n",
      "[('p', 'http://www.wikidata.org/prop/direct/P3373'), ('pname', 'sibling')]\n",
      "[('p', 'http://www.wikidata.org/prop/direct/P410'), ('pname', 'military rank')]\n",
      "[('p', 'http://www.wikidata.org/prop/direct/P413'), ('pname', 'position played on team / speciality')]\n",
      "[('p', 'http://www.wikidata.org/prop/direct/P443'), ('pname', 'pronunciation audio')]\n",
      "[('p', 'http://www.wikidata.org/prop/direct/P512'), ('pname', 'academic degree')]\n",
      "[('p', 'http://www.wikidata.org/prop/direct/P53'), ('pname', 'family')]\n",
      "[('p', 'http://www.wikidata.org/prop/direct/P54'), ('pname', 'member of sports team')]\n",
      "[('p', 'http://www.wikidata.org/prop/direct/P641'), ('pname', 'sport')]\n",
      "[('p', 'http://www.wikidata.org/prop/direct/P101'), ('pname', 'field of work')]\n",
      "[('p', 'http://www.wikidata.org/prop/direct/P103'), ('pname', 'native language')]\n",
      "[('p', 'http://www.wikidata.org/prop/direct/P1038'), ('pname', 'relative')]\n",
      "[('p', 'http://www.wikidata.org/prop/direct/P1142'), ('pname', 'political ideology')]\n",
      "[('p', 'http://www.wikidata.org/prop/direct/P136'), ('pname', 'genre')]\n",
      "[('p', 'http://www.wikidata.org/prop/direct/P1399'), ('pname', 'convicted of')]\n",
      "[('p', 'http://www.wikidata.org/prop/direct/P1411'), ('pname', 'nominated for')]\n",
      "[('p', 'http://www.wikidata.org/prop/direct/P1576'), ('pname', 'lifestyle')]\n",
      "[('p', 'http://www.wikidata.org/prop/direct/P172'), ('pname', 'ethnic group')]\n",
      "[('p', 'http://www.wikidata.org/prop/direct/P1889'), ('pname', 'different from')]\n",
      "[('p', 'http://www.wikidata.org/prop/direct/P25'), ('pname', 'mother')]\n",
      "[('p', 'http://www.wikidata.org/prop/direct/P26'), ('pname', 'spouse')]\n",
      "[('p', 'http://www.wikidata.org/prop/direct/P2632'), ('pname', 'place of detention')]\n",
      "[('p', 'http://www.wikidata.org/prop/direct/P3602'), ('pname', 'candidacy in election')]\n",
      "[('p', 'http://www.wikidata.org/prop/direct/P551'), ('pname', 'residence')]\n",
      "[('p', 'http://www.wikidata.org/prop/direct/P607'), ('pname', 'conflict')]\n",
      "[('p', 'http://www.wikidata.org/prop/direct/P737'), ('pname', 'influenced by')]\n",
      "[('p', 'http://www.wikidata.org/prop/direct/P747'), ('pname', 'has edition or translation')]\n",
      "[('p', 'http://www.wikidata.org/prop/direct/P800'), ('pname', 'notable work')]\n",
      "[('p', 'http://www.wikidata.org/prop/direct/P910'), ('pname', \"topic's main category\")]\n",
      "[('p', 'http://www.wikidata.org/prop/direct/P109'), ('pname', 'signature')]\n",
      "[('p', 'http://www.wikidata.org/prop/direct/P1442'), ('pname', 'image of grave')]\n",
      "[('p', 'http://www.wikidata.org/prop/direct/P184'), ('pname', 'doctoral advisor')]\n",
      "[('p', 'http://www.wikidata.org/prop/direct/P2354'), ('pname', 'has list')]\n",
      "[('p', 'http://www.wikidata.org/prop/direct/P485'), ('pname', 'archives at')]\n",
      "[('p', 'http://www.wikidata.org/prop/direct/P5008'), ('pname', 'on focus list of Wikimedia project')]\n",
      "[('p', 'http://www.wikidata.org/prop/direct/P6379'), ('pname', 'has works in the collection')]\n",
      "[('p', 'http://www.wikidata.org/prop/direct/P7084'), ('pname', 'related category')]\n",
      "[('p', 'http://www.wikidata.org/prop/direct/P7763'), ('pname', 'copyright status as a creator')]\n",
      "[('p', 'http://www.wikidata.org/prop/direct/P802'), ('pname', 'student')]\n",
      "[('p', 'http://www.wikidata.org/prop/direct/P94'), ('pname', 'coat of arms image')]\n",
      "[('p', 'http://www.wikidata.org/prop/direct/P451'), ('pname', 'unmarried partner')]\n",
      "[('p', 'http://www.wikidata.org/prop/direct/P1050'), ('pname', 'medical condition')]\n",
      "[('p', 'http://www.wikidata.org/prop/direct/P1303'), ('pname', 'instrument')]\n",
      "[('p', 'http://www.wikidata.org/prop/direct/P1581'), ('pname', 'official blog')]\n",
      "[('p', 'http://www.wikidata.org/prop/direct/P1596'), ('pname', 'penalty')]\n",
      "[('p', 'http://www.wikidata.org/prop/direct/P1884'), ('pname', 'hair color')]\n",
      "[('p', 'http://www.wikidata.org/prop/direct/P2888'), ('pname', 'exact match')]\n",
      "[('p', 'http://www.wikidata.org/prop/direct/P358'), ('pname', 'discography')]\n",
      "[('p', 'http://www.wikidata.org/prop/direct/P6275'), ('pname', 'copyright representative')]\n",
      "[('p', 'http://www.wikidata.org/prop/direct/P968'), ('pname', 'email address')]\n",
      "[('p', 'http://www.wikidata.org/prop/direct/P1344'), ('pname', 'participant in')]\n",
      "[('p', 'http://www.wikidata.org/prop/direct/P1532'), ('pname', 'country for sport')]\n",
      "[('p', 'http://www.wikidata.org/prop/direct/P1830'), ('pname', 'owner of')]\n",
      "[('p', 'http://www.wikidata.org/prop/direct/P2868'), ('pname', 'subject has role')]\n",
      "[('p', 'http://www.wikidata.org/prop/direct/P598'), ('pname', 'commander of (DEPRECATED)')]\n",
      "[('p', 'http://www.wikidata.org/prop/direct/P793'), ('pname', 'significant event')]\n",
      "[('p', 'http://www.wikidata.org/prop/direct/P945'), ('pname', 'allegiance')]\n",
      "[('p', 'http://www.wikidata.org/prop/direct/P8017'), ('pname', 'generational suffix')]\n",
      "[('p', 'http://www.wikidata.org/prop/direct/P1019'), ('pname', 'web feed URL')]\n",
      "[('p', 'http://www.wikidata.org/prop/direct/P1290'), ('pname', 'godparent')]\n",
      "[('p', 'http://www.wikidata.org/prop/direct/P1801'), ('pname', 'commemorative plaque image')]\n",
      "[('p', 'http://www.wikidata.org/prop/direct/P1950'), ('pname', 'second family name in Spanish name')]\n",
      "[('p', 'http://www.wikidata.org/prop/direct/P2416'), ('pname', 'sports discipline competed in')]\n",
      "[('p', 'http://www.wikidata.org/prop/direct/P7101'), ('pname', 'privacy policy URL')]\n",
      "[('p', 'http://www.wikidata.org/prop/direct/P1035'), ('pname', 'honorific suffix')]\n",
      "[('p', 'http://www.wikidata.org/prop/direct/P135'), ('pname', 'movement')]\n",
      "[('p', 'http://www.wikidata.org/prop/direct/P9493'), ('pname', 'artist files at')]\n",
      "[('p', 'http://www.wikidata.org/prop/direct/P6758'), ('pname', 'supported sports team')]\n",
      "[('p', 'http://www.wikidata.org/prop/direct/P1340'), ('pname', 'eye color')]\n",
      "[('p', 'http://www.wikidata.org/prop/direct/P264'), ('pname', 'record label')]\n"
     ]
    },
    {
     "data": {
      "text/plain": [
       "100"
      ]
     },
     "execution_count": 3,
     "metadata": {},
     "output_type": "execute_result"
    }
   ],
   "source": [
    "#Q14\n",
    "#retrieve some predicates of italian politicians\n",
    "queryString = \"\"\"\n",
    "SELECT DISTINCT ?p ?pname\n",
    "WHERE { \n",
    "\n",
    "?pol wdt:P106/wdt:P279* wd:Q82955;\n",
    "     wdt:P27 wd:Q38;\n",
    "     ?p ?o.\n",
    "FILTER(!isLiteral(?o))\n",
    "#Labels\n",
    "?p <http://schema.org/name> ?pname .\n",
    "\n",
    "}\n",
    "LIMIT 100\n",
    "\"\"\"\n",
    "\n",
    "print(\"Results\")\n",
    "run_query(queryString)"
   ]
  },
  {
   "cell_type": "markdown",
   "id": "2fb5431f-bb18-48d9-8709-c42dd81800ac",
   "metadata": {},
   "source": [
    "I found out some interesting properties such as occupation (P106), member of political party (P102), political ideology (P1142), employer (P108), \n",
    "field of work (P101)"
   ]
  },
  {
   "cell_type": "code",
   "execution_count": 4,
   "id": "b7347490-a819-4238-a8fc-0a69012e768f",
   "metadata": {},
   "outputs": [
    {
     "name": "stdout",
     "output_type": "stream",
     "text": [
      "Results\n",
      "[('callret-0', '12079')]\n"
     ]
    },
    {
     "data": {
      "text/plain": [
       "1"
      ]
     },
     "execution_count": 4,
     "metadata": {},
     "output_type": "execute_result"
    }
   ],
   "source": [
    "#Q15\n",
    "#interesting properties: occupation (P106), member of political party (P102), political ideology (P1142), employer (P108), field of work (P101)\n",
    "queryString = \"\"\"\n",
    "SELECT COUNT(DISTINCT ?pol)\n",
    "WHERE { \n",
    "\n",
    "?pol wdt:P106/wdt:P279* wd:Q82955;\n",
    "     wdt:P27 wd:Q38;\n",
    "     wdt:P106 ?occ.\n",
    "}\n",
    "LIMIT 25\n",
    "\"\"\"\n",
    "\n",
    "print(\"Results\")\n",
    "run_query(queryString)"
   ]
  },
  {
   "cell_type": "markdown",
   "id": "584c680c-cb23-4258-be3d-a4e1bbc20343",
   "metadata": {},
   "source": [
    "Checking the other occupations by excluding politics in filter clause. I compute the query only on italian politicians to test."
   ]
  },
  {
   "cell_type": "code",
   "execution_count": 6,
   "id": "8cbacc9d-b7d5-445e-adb2-0ddd1c3100ce",
   "metadata": {},
   "outputs": [
    {
     "name": "stdout",
     "output_type": "stream",
     "text": [
      "Results\n",
      "[('occ', 'http://www.wikidata.org/entity/Q1930187'), ('name', 'journalist'), ('howMany', '733')]\n",
      "[('occ', 'http://www.wikidata.org/entity/Q40348'), ('name', 'lawyer'), ('howMany', '715')]\n",
      "[('occ', 'http://www.wikidata.org/entity/Q36180'), ('name', 'writer'), ('howMany', '347')]\n",
      "[('occ', 'http://www.wikidata.org/entity/Q37226'), ('name', 'teacher'), ('howMany', '235')]\n",
      "[('occ', 'http://www.wikidata.org/entity/Q131524'), ('name', 'entrepreneur'), ('howMany', '227')]\n",
      "[('occ', 'http://www.wikidata.org/entity/Q1622272'), ('name', 'university teacher'), ('howMany', '225')]\n",
      "[('occ', 'http://www.wikidata.org/entity/Q15627169'), ('name', 'trade unionist'), ('howMany', '190')]\n",
      "[('occ', 'http://www.wikidata.org/entity/Q188094'), ('name', 'economist'), ('howMany', '181')]\n",
      "[('occ', 'http://www.wikidata.org/entity/Q39631'), ('name', 'physician'), ('howMany', '173')]\n",
      "[('occ', 'http://www.wikidata.org/entity/Q81096'), ('name', 'engineer'), ('howMany', '151')]\n",
      "[('occ', 'http://www.wikidata.org/entity/Q185351'), ('name', 'jurist'), ('howMany', '134')]\n",
      "[('occ', 'http://www.wikidata.org/entity/Q201788'), ('name', 'historian'), ('howMany', '134')]\n",
      "[('occ', 'http://www.wikidata.org/entity/Q193391'), ('name', 'diplomat'), ('howMany', '109')]\n",
      "[('occ', 'http://www.wikidata.org/entity/Q4594605'), ('name', 'magistrate'), ('howMany', '105')]\n",
      "[('occ', 'http://www.wikidata.org/entity/Q212948'), ('name', 'partisan'), ('howMany', '82')]\n",
      "[('occ', 'http://www.wikidata.org/entity/Q16533'), ('name', 'judge'), ('howMany', '81')]\n",
      "[('occ', 'http://www.wikidata.org/entity/Q43845'), ('name', 'businessperson'), ('howMany', '78')]\n",
      "[('occ', 'http://www.wikidata.org/entity/Q42973'), ('name', 'architect'), ('howMany', '67')]\n",
      "[('occ', 'http://www.wikidata.org/entity/Q4964182'), ('name', 'philosopher'), ('howMany', '61')]\n",
      "[('occ', 'http://www.wikidata.org/entity/Q49757'), ('name', 'poet'), ('howMany', '59')]\n",
      "[('occ', 'http://www.wikidata.org/entity/Q28389'), ('name', 'screenwriter'), ('howMany', '58')]\n",
      "[('occ', 'http://www.wikidata.org/entity/Q212238'), ('name', 'civil servant'), ('howMany', '54')]\n",
      "[('occ', 'http://www.wikidata.org/entity/Q47064'), ('name', 'military personnel'), ('howMany', '51')]\n",
      "[('occ', 'http://www.wikidata.org/entity/Q806798'), ('name', 'banker'), ('howMany', '45')]\n",
      "[('occ', 'http://www.wikidata.org/entity/Q33999'), ('name', 'actor'), ('howMany', '43')]\n"
     ]
    },
    {
     "data": {
      "text/plain": [
       "25"
      ]
     },
     "execution_count": 6,
     "metadata": {},
     "output_type": "execute_result"
    }
   ],
   "source": [
    "#Q16\n",
    "#exclude from result set the ones related to politics\n",
    "queryString = \"\"\"\n",
    "SELECT ?occ ?name ?howMany WHERE {\n",
    "{SELECT ?occ (COUNT(?pol) AS ?howMany)\n",
    "WHERE { \n",
    "\n",
    "?pol wdt:P106/wdt:P279* wd:Q82955;\n",
    "     wdt:P27 wd:Q38;\n",
    "     wdt:P106 ?occ.\n",
    "FILTER(?occ!=wd:Q82955)\n",
    "}\n",
    "GROUP BY ?occ\n",
    "}\n",
    "#Labels\n",
    "?occ <http://schema.org/name> ?name .\n",
    "}\n",
    "ORDER BY DESC(?howMany)\n",
    "LIMIT 25\n",
    "\"\"\"\n",
    "\n",
    "print(\"Results\")\n",
    "run_query(queryString)"
   ]
  },
  {
   "cell_type": "markdown",
   "id": "aef8f538-04ce-4ff0-9e70-830eec10dbcc",
   "metadata": {},
   "source": [
    "Extend the result set on all the EU countries"
   ]
  },
  {
   "cell_type": "code",
   "execution_count": 7,
   "id": "99df4629-ee59-41e6-a0fe-5c429a1358ac",
   "metadata": {},
   "outputs": [
    {
     "name": "stdout",
     "output_type": "stream",
     "text": [
      "Results\n",
      "[('occ', 'http://www.wikidata.org/entity/Q1749879'), ('name', 'pensioner'), ('howMany', '14827')]\n",
      "[('occ', 'http://www.wikidata.org/entity/Q40348'), ('name', 'lawyer'), ('howMany', '9502')]\n",
      "[('occ', 'http://www.wikidata.org/entity/Q1930187'), ('name', 'journalist'), ('howMany', '5868')]\n",
      "[('occ', 'http://www.wikidata.org/entity/Q97768274'), ('name', 'anciens cadres'), ('howMany', '5440')]\n",
      "[('occ', 'http://www.wikidata.org/entity/Q3062119'), ('name', 'farm operator'), ('howMany', '4908')]\n",
      "[('occ', 'http://www.wikidata.org/entity/Q36180'), ('name', 'writer'), ('howMany', '4848')]\n",
      "[('occ', 'http://www.wikidata.org/entity/Q185351'), ('name', 'jurist'), ('howMany', '4149')]\n",
      "[('occ', 'http://www.wikidata.org/entity/Q1622272'), ('name', 'university teacher'), ('howMany', '3903')]\n",
      "[('occ', 'http://www.wikidata.org/entity/Q47064'), ('name', 'military personnel'), ('howMany', '3308')]\n",
      "[('occ', 'http://www.wikidata.org/entity/Q193391'), ('name', 'diplomat'), ('howMany', '3163')]\n",
      "[('occ', 'http://www.wikidata.org/entity/Q39631'), ('name', 'physician'), ('howMany', '3107')]\n",
      "[('occ', 'http://www.wikidata.org/entity/Q2478141'), ('name', 'aristocrat'), ('howMany', '2761')]\n",
      "[('occ', 'http://www.wikidata.org/entity/Q188094'), ('name', 'economist'), ('howMany', '2679')]\n",
      "[('occ', 'http://www.wikidata.org/entity/Q19772737'), ('name', 'political candidate'), ('howMany', '2545')]\n",
      "[('occ', 'http://www.wikidata.org/entity/Q15627169'), ('name', 'trade unionist'), ('howMany', '2215')]\n",
      "[('occ', 'http://www.wikidata.org/entity/Q16533'), ('name', 'judge'), ('howMany', '1987')]\n",
      "[('occ', 'http://www.wikidata.org/entity/Q37226'), ('name', 'teacher'), ('howMany', '1852')]\n",
      "[('occ', 'http://www.wikidata.org/entity/Q43845'), ('name', 'businessperson'), ('howMany', '1827')]\n",
      "[('occ', 'http://www.wikidata.org/entity/Q201788'), ('name', 'historian'), ('howMany', '1826')]\n",
      "[('occ', 'http://www.wikidata.org/entity/Q81096'), ('name', 'engineer'), ('howMany', '1791')]\n",
      "[('occ', 'http://www.wikidata.org/entity/Q97768154'), ('name', 'cadres de la fonction publique'), ('howMany', '1756')]\n",
      "[('occ', 'http://www.wikidata.org/entity/Q97768164'), ('name', 'corporate administrative and commercial executive'), ('howMany', '1689')]\n",
      "[('occ', 'http://www.wikidata.org/entity/Q703534'), ('name', 'employee'), ('howMany', '1619')]\n",
      "[('occ', 'http://www.wikidata.org/entity/Q4359236'), ('name', 'cadre'), ('howMany', '1614')]\n",
      "[('occ', 'http://www.wikidata.org/entity/Q131512'), ('name', 'farmer'), ('howMany', '1595')]\n"
     ]
    },
    {
     "data": {
      "text/plain": [
       "25"
      ]
     },
     "execution_count": 7,
     "metadata": {},
     "output_type": "execute_result"
    }
   ],
   "source": [
    "#Q17\n",
    "#as before but consider all countries in EU\n",
    "queryString = \"\"\"\n",
    "SELECT ?occ ?name ?howMany WHERE {\n",
    "{SELECT ?occ (COUNT(?pol) AS ?howMany)\n",
    "WHERE { \n",
    "\n",
    "?pol wdt:P106/wdt:P279* wd:Q82955;\n",
    "     wdt:P27 ?country;\n",
    "     wdt:P106 ?occ.\n",
    "wd:Q458 wdt:P527 ?country. #EU\n",
    "FILTER(?occ!=wd:Q82955)\n",
    "}\n",
    "GROUP BY ?occ\n",
    "}\n",
    "#Labels\n",
    "?occ <http://schema.org/name> ?name .\n",
    "}\n",
    "ORDER BY DESC(?howMany)\n",
    "LIMIT 25\n",
    "\"\"\"\n",
    "\n",
    "print(\"Results\")\n",
    "run_query(queryString)"
   ]
  },
  {
   "cell_type": "markdown",
   "id": "c4d46903-b868-4edd-9bb3-baa3a841d45b",
   "metadata": {},
   "source": [
    "I am curios about Political Ideology property (P1142), i am going to see some results on italian politicians."
   ]
  },
  {
   "cell_type": "code",
   "execution_count": 8,
   "id": "bcf9746c-db1a-406e-b375-68573c82f848",
   "metadata": {},
   "outputs": [
    {
     "name": "stdout",
     "output_type": "stream",
     "text": [
      "Results\n",
      "[('id', 'http://www.wikidata.org/entity/Q6186'), ('howMany', '3')]\n",
      "[('id', 'http://www.wikidata.org/entity/Q6223'), ('howMany', '2')]\n",
      "[('id', 'http://www.wikidata.org/entity/Q912036'), ('howMany', '2')]\n",
      "[('id', 'http://www.wikidata.org/entity/Q7264'), ('howMany', '2')]\n",
      "[('id', 'http://www.wikidata.org/entity/Q223200'), ('howMany', '1')]\n",
      "[('id', 'http://www.wikidata.org/entity/Q7785048'), ('howMany', '1')]\n",
      "[('id', 'http://www.wikidata.org/entity/Q7876201'), ('howMany', '1')]\n",
      "[('id', 'http://www.wikidata.org/entity/Q194236'), ('howMany', '1')]\n",
      "[('id', 'http://www.wikidata.org/entity/Q6216'), ('howMany', '1')]\n",
      "[('id', 'http://www.wikidata.org/entity/Q210189'), ('howMany', '1')]\n"
     ]
    },
    {
     "data": {
      "text/plain": [
       "10"
      ]
     },
     "execution_count": 8,
     "metadata": {},
     "output_type": "execute_result"
    }
   ],
   "source": [
    "#Q18\n",
    "#most common political ideology (P1142) in italy\n",
    "queryString = \"\"\"\n",
    "SELECT ?id (COUNT(?pol) AS ?howMany) WHERE{\n",
    "?pol wdt:P106/wdt:P279* wd:Q82955;\n",
    "     wdt:P27 wd:Q38;\n",
    "     wdt:P1142 ?id.\n",
    "}\n",
    "GROUP BY ?id\n",
    "ORDER BY DESC(?howMany)\n",
    "LIMIT 10\n",
    "\"\"\"\n",
    "\n",
    "print(\"Results\")\n",
    "run_query(queryString)"
   ]
  },
  {
   "cell_type": "markdown",
   "id": "fe237ab1-1ef8-4c2f-8040-6613b99e1093",
   "metadata": {},
   "source": [
    "Since I got very few results, I'll try to use \"Political Party\" (P102)."
   ]
  },
  {
   "cell_type": "code",
   "execution_count": 10,
   "id": "f6fd3f4b-068f-42de-bd8c-a643bfeb8aca",
   "metadata": {},
   "outputs": [
    {
     "name": "stdout",
     "output_type": "stream",
     "text": [
      "Results\n",
      "[('id', 'http://www.wikidata.org/entity/Q815348'), ('name', 'Christian Democracy'), ('howMany', '1991')]\n",
      "[('id', 'http://www.wikidata.org/entity/Q47729'), ('name', 'Democratic Party'), ('howMany', '1243')]\n",
      "[('id', 'http://www.wikidata.org/entity/Q461886'), ('name', 'Italian Communist Party'), ('howMany', '1125')]\n",
      "[('id', 'http://www.wikidata.org/entity/Q590750'), ('name', 'Italian Socialist Party'), ('howMany', '880')]\n",
      "[('id', 'http://www.wikidata.org/entity/Q47750'), ('name', 'Lega Nord'), ('howMany', '520')]\n",
      "[('id', 'http://www.wikidata.org/entity/Q47817'), ('name', 'Five Star Movement'), ('howMany', '442')]\n",
      "[('id', 'http://www.wikidata.org/entity/Q139596'), ('name', 'National Fascist Party'), ('howMany', '379')]\n",
      "[('id', 'http://www.wikidata.org/entity/Q215350'), ('name', 'Forza Italia'), ('howMany', '344')]\n",
      "[('id', 'http://www.wikidata.org/entity/Q662849'), ('name', 'National Alliance'), ('howMany', '299')]\n",
      "[('id', 'http://www.wikidata.org/entity/Q47720'), ('name', 'The People of Freedom'), ('howMany', '254')]\n"
     ]
    },
    {
     "data": {
      "text/plain": [
       "10"
      ]
     },
     "execution_count": 10,
     "metadata": {},
     "output_type": "execute_result"
    }
   ],
   "source": [
    "#Q19\n",
    "#check if there are more results using member of political party (P102)\n",
    "queryString = \"\"\"\n",
    "SELECT ?id ?name ?howMany WHERE {\n",
    "{SELECT ?id (COUNT(?pol) AS ?howMany) WHERE{\n",
    "?pol wdt:P106/wdt:P279* wd:Q82955;\n",
    "     wdt:P27 wd:Q38;\n",
    "     wdt:P102 ?id.\n",
    "}}\n",
    "#Labels\n",
    "?id <http://schema.org/name> ?name .\n",
    "}\n",
    "GROUP BY ?id\n",
    "ORDER BY DESC(?howMany)\n",
    "LIMIT 10\n",
    "\"\"\"\n",
    "\n",
    "print(\"Results\")\n",
    "run_query(queryString)"
   ]
  },
  {
   "cell_type": "markdown",
   "id": "8211f929-8510-4788-b09a-12514c223485",
   "metadata": {},
   "source": [
    "Retrieve some predicates of the political parties to see if they are somehow connected to ideology."
   ]
  },
  {
   "cell_type": "code",
   "execution_count": 12,
   "id": "7f7d6274-6e0a-4da4-bf14-37fb99db747c",
   "metadata": {},
   "outputs": [
    {
     "name": "stdout",
     "output_type": "stream",
     "text": [
      "Results\n",
      "[('p', 'http://www.wikidata.org/prop/direct/P1142'), ('pname', 'political ideology')]\n",
      "[('p', 'http://www.wikidata.org/prop/direct/P1387'), ('pname', 'political alignment')]\n",
      "[('p', 'http://www.wikidata.org/prop/direct/P154'), ('pname', 'logo image')]\n",
      "[('p', 'http://www.wikidata.org/prop/direct/P159'), ('pname', 'headquarters location')]\n",
      "[('p', 'http://www.wikidata.org/prop/direct/P17'), ('pname', 'country')]\n",
      "[('p', 'http://www.wikidata.org/prop/direct/P1830'), ('pname', 'owner of')]\n",
      "[('p', 'http://www.wikidata.org/prop/direct/P2184'), ('pname', 'history of topic')]\n",
      "[('p', 'http://www.wikidata.org/prop/direct/P31'), ('pname', 'instance of')]\n",
      "[('p', 'http://www.wikidata.org/prop/direct/P462'), ('pname', 'color')]\n",
      "[('p', 'http://www.wikidata.org/prop/direct/P463'), ('pname', 'member of')]\n"
     ]
    },
    {
     "data": {
      "text/plain": [
       "10"
      ]
     },
     "execution_count": 12,
     "metadata": {},
     "output_type": "execute_result"
    }
   ],
   "source": [
    "#Q20\n",
    "#check predicates of political party (P102)\n",
    "queryString = \"\"\"\n",
    "SELECT DISTINCT ?p ?pname WHERE {\n",
    "?pol wdt:P106/wdt:P279* wd:Q82955;\n",
    "     wdt:P27 wd:Q38;\n",
    "     wdt:P102 ?id.\n",
    "?id ?p ?o.\n",
    "FILTER(!isLiteral(?o))\n",
    "#Labels\n",
    "?p <http://schema.org/name> ?pname .\n",
    "}\n",
    "LIMIT 10\n",
    "\"\"\"\n",
    "\n",
    "print(\"Results\")\n",
    "run_query(queryString)"
   ]
  },
  {
   "cell_type": "markdown",
   "id": "0ce4e58e-c92d-4c83-b263-57330b87d157",
   "metadata": {},
   "source": [
    "Using the path from party to ideology, retrieve the most common politican ideologies in Italy."
   ]
  },
  {
   "cell_type": "code",
   "execution_count": 13,
   "id": "bd36329a-25e9-4aac-a355-6fe46735871f",
   "metadata": {},
   "outputs": [
    {
     "name": "stdout",
     "output_type": "stream",
     "text": [
      "Results\n",
      "[('id', 'http://www.wikidata.org/entity/Q121254'), ('name', 'social democracy'), ('howMany', '2881')]\n",
      "[('id', 'http://www.wikidata.org/entity/Q6223'), ('name', 'fascism'), ('howMany', '2389')]\n",
      "[('id', 'http://www.wikidata.org/entity/Q3781399'), ('name', 'pro-Europeanism'), ('howMany', '1465')]\n",
      "[('id', 'http://www.wikidata.org/entity/Q206743'), ('name', 'Eurocommunism'), ('howMany', '1331')]\n",
      "[('id', 'http://www.wikidata.org/entity/Q1080800'), ('name', 'Christian left'), ('howMany', '1263')]\n",
      "[('id', 'http://www.wikidata.org/entity/Q1414298'), ('name', 'social conservatism'), ('howMany', '1227')]\n",
      "[('id', 'http://www.wikidata.org/entity/Q6186'), ('name', 'communism'), ('howMany', '1210')]\n",
      "[('id', 'http://www.wikidata.org/entity/Q7272'), ('name', 'socialism'), ('howMany', '1137')]\n",
      "[('id', 'http://www.wikidata.org/entity/Q209158'), ('name', 'Christian democracy'), ('howMany', '984')]\n",
      "[('id', 'http://www.wikidata.org/entity/Q1043096'), ('name', 'liberal conservatism'), ('howMany', '914')]\n"
     ]
    },
    {
     "data": {
      "text/plain": [
       "10"
      ]
     },
     "execution_count": 13,
     "metadata": {},
     "output_type": "execute_result"
    }
   ],
   "source": [
    "#Q21\n",
    "#Q18 using the new path discovered above (politician->party->ideology)\n",
    "queryString = \"\"\"\n",
    "SELECT ?id ?name ?howMany WHERE{\n",
    "\n",
    "{SELECT ?id (COUNT(?pol) AS ?howMany) WHERE{\n",
    "?pol wdt:P106/wdt:P279* wd:Q82955;\n",
    "     wdt:P27 wd:Q38;\n",
    "     wdt:P102 ?party.\n",
    "?party wdt:P1142 ?id.\n",
    "     \n",
    "}\n",
    "GROUP BY ?id}\n",
    "#Labels\n",
    "?id <http://schema.org/name> ?name .\n",
    "}\n",
    "ORDER BY DESC(?howMany)\n",
    "LIMIT 10\n",
    "\"\"\"\n",
    "\n",
    "print(\"Results\")\n",
    "run_query(queryString)"
   ]
  },
  {
   "cell_type": "markdown",
   "id": "d443234a-5e9d-4364-9a99-9f9c8855919e",
   "metadata": {},
   "source": [
    "Retrieve the most common political ideologies in EU, grouped by country."
   ]
  },
  {
   "cell_type": "code",
   "execution_count": 15,
   "id": "2cdc8cc8-c145-4519-a8dd-44c915f1cd36",
   "metadata": {},
   "outputs": [
    {
     "name": "stdout",
     "output_type": "stream",
     "text": [
      "Results\n",
      "[('id', 'http://www.wikidata.org/entity/Q209158'), ('name', 'Christian democracy'), ('country', 'http://www.wikidata.org/entity/Q183'), ('cname', 'Germany'), ('howMany', '9531')]\n",
      "[('id', 'http://www.wikidata.org/entity/Q121254'), ('name', 'social democracy'), ('country', 'http://www.wikidata.org/entity/Q183'), ('cname', 'Germany'), ('howMany', '8521')]\n",
      "[('id', 'http://www.wikidata.org/entity/Q7169'), ('name', 'conservatism'), ('country', 'http://www.wikidata.org/entity/Q183'), ('cname', 'Germany'), ('howMany', '7027')]\n",
      "[('id', 'http://www.wikidata.org/entity/Q3781399'), ('name', 'pro-Europeanism'), ('country', 'http://www.wikidata.org/entity/Q183'), ('cname', 'Germany'), ('howMany', '6525')]\n",
      "[('id', 'http://www.wikidata.org/entity/Q1043096'), ('name', 'liberal conservatism'), ('country', 'http://www.wikidata.org/entity/Q183'), ('cname', 'Germany'), ('howMany', '6432')]\n",
      "[('id', 'http://www.wikidata.org/entity/Q3781399'), ('name', 'pro-Europeanism'), ('country', 'http://www.wikidata.org/entity/Q29'), ('cname', 'Spain'), ('howMany', '5420')]\n",
      "[('id', 'http://www.wikidata.org/entity/Q877848'), ('name', 'republicanism'), ('country', 'http://www.wikidata.org/entity/Q29'), ('cname', 'Spain'), ('howMany', '4869')]\n",
      "[('id', 'http://www.wikidata.org/entity/Q121254'), ('name', 'social democracy'), ('country', 'http://www.wikidata.org/entity/Q29'), ('cname', 'Spain'), ('howMany', '3883')]\n",
      "[('id', 'http://www.wikidata.org/entity/Q770215'), ('name', 'Gaullism'), ('country', 'http://www.wikidata.org/entity/Q142'), ('cname', 'France'), ('howMany', '3134')]\n",
      "[('id', 'http://www.wikidata.org/entity/Q7310'), ('name', 'Nazism'), ('country', 'http://www.wikidata.org/entity/Q183'), ('cname', 'Germany'), ('howMany', '3015')]\n"
     ]
    },
    {
     "data": {
      "text/plain": [
       "10"
      ]
     },
     "execution_count": 15,
     "metadata": {},
     "output_type": "execute_result"
    }
   ],
   "source": [
    "#Q22\n",
    "#most common political ideology in EU (per country)\n",
    "queryString = \"\"\"\n",
    "SELECT ?id ?name ?country ?cname ?howMany WHERE{\n",
    "\n",
    "{SELECT ?id ?country (COUNT(?pol) AS ?howMany) WHERE{\n",
    "?pol wdt:P106/wdt:P279* wd:Q82955;\n",
    "     wdt:P27 ?country;\n",
    "     wdt:P102 ?party.\n",
    "?party wdt:P1142 ?id.\n",
    "wd:Q458 wdt:P527 ?country. #EU\n",
    "}\n",
    "GROUP BY ?id ?country}\n",
    "#Labels\n",
    "?id <http://schema.org/name> ?name .\n",
    "?country <http://schema.org/name> ?cname .\n",
    "}\n",
    "ORDER BY DESC(?howMany)\n",
    "LIMIT 10\n",
    "\"\"\"\n",
    "\n",
    "print(\"Results\")\n",
    "run_query(queryString)"
   ]
  },
  {
   "cell_type": "markdown",
   "id": "f0763046-b6c7-4648-9de3-3fd426a7695a",
   "metadata": {},
   "source": [
    "<h3> Task 2 ENDS HERE</h3>\n",
    "I found out that most italian politicians are also writer and journalist or have a legal career. On top of that I explored other properties of the \n",
    "politicians and then I found out the connection between a person and his/her political ideology by going throught the political party he/she is member\n",
    "of. To conclude I discovered that \"Social Democracy\" and \"Christian Democracy\" are/were the most common ideologies in Italy and Europe, respectively."
   ]
  },
  {
   "cell_type": "markdown",
   "id": "f518cfc0-1536-41f6-b92f-2416c05e199b",
   "metadata": {},
   "source": [
    "<h3> Task 3 STARTS HERE </h3>\n",
    "Using Q11 with iteration over P279 we can get the number of politicians in each EU country"
   ]
  },
  {
   "cell_type": "code",
   "execution_count": 3,
   "id": "aafd2690-78ae-4bd9-b067-5253778d0f0c",
   "metadata": {},
   "outputs": [
    {
     "name": "stdout",
     "output_type": "stream",
     "text": [
      "Results\n",
      "[('name', 'France'), ('howMany', '81679')]\n",
      "[('name', 'Germany'), ('howMany', '35569')]\n",
      "[('name', 'Spain'), ('howMany', '33257')]\n",
      "[('name', 'Italy'), ('howMany', '12079')]\n",
      "[('name', 'Romania'), ('howMany', '8770')]\n",
      "[('name', 'Sweden'), ('howMany', '8338')]\n",
      "[('name', 'Belgium'), ('howMany', '8090')]\n",
      "[('name', 'Austria'), ('howMany', '7134')]\n",
      "[('name', 'Poland'), ('howMany', '5264')]\n",
      "[('name', 'Greece'), ('howMany', '4830')]\n",
      "[('name', 'Hungary'), ('howMany', '4363')]\n",
      "[('name', 'Finland'), ('howMany', '4215')]\n",
      "[('name', 'Denmark'), ('howMany', '2883')]\n",
      "[('name', 'Portugal'), ('howMany', '2326')]\n",
      "[('name', 'Czech Republic'), ('howMany', '2257')]\n",
      "[('name', 'Bulgaria'), ('howMany', '1545')]\n",
      "[('name', 'Estonia'), ('howMany', '1436')]\n",
      "[('name', 'Slovenia'), ('howMany', '1295')]\n",
      "[('name', 'Lithuania'), ('howMany', '1208')]\n",
      "[('name', 'Luxembourg'), ('howMany', '1118')]\n",
      "[('name', 'Latvia'), ('howMany', '1111')]\n",
      "[('name', 'Netherlands'), ('howMany', '849')]\n",
      "[('name', 'Cyprus'), ('howMany', '489')]\n",
      "[('name', 'Croatia'), ('howMany', '421')]\n",
      "[('name', 'Slovakia'), ('howMany', '373')]\n",
      "[('name', 'Malta'), ('howMany', '222')]\n",
      "[('name', 'Ireland'), ('howMany', '9')]\n"
     ]
    },
    {
     "data": {
      "text/plain": [
       "27"
      ]
     },
     "execution_count": 3,
     "metadata": {},
     "output_type": "execute_result"
    }
   ],
   "source": [
    "#Q23\n",
    "#how many politicians for each EU country\n",
    "queryString = \"\"\"\n",
    "SELECT ?name (COUNT(DISTINCT ?pol) AS ?howMany)\n",
    "WHERE { \n",
    "\n",
    "?pol wdt:P106/wdt:P279* wd:Q82955;\n",
    "     wdt:P27 ?country.\n",
    "wd:Q458 wdt:P527 ?country.\n",
    "\n",
    "#Labels\n",
    "?country <http://schema.org/name> ?name .\n",
    "}\n",
    "GROUP BY ?name\n",
    "ORDER BY DESC(?howMany)\n",
    "LIMIT 100\n",
    "\"\"\"\n",
    "\n",
    "print(\"Results\")\n",
    "run_query(queryString)"
   ]
  },
  {
   "cell_type": "markdown",
   "id": "17e8a711-f663-49be-9a4d-96ba113c99c2",
   "metadata": {},
   "source": [
    "<h3> Task 4 STARTS HERE </h3>\n",
    "Are there politicians with double citizenship?\n"
   ]
  },
  {
   "cell_type": "markdown",
   "id": "d3276707-c70b-4000-b33e-339cd68e81ae",
   "metadata": {},
   "source": [
    "From Q14 I know that P27 is the property for \"Country of citizenship\", check if politicians can have more than citizenships."
   ]
  },
  {
   "cell_type": "code",
   "execution_count": 9,
   "id": "5d3e6d6c-4976-4cec-ae2c-40f5a40825e8",
   "metadata": {},
   "outputs": [
    {
     "name": "stdout",
     "output_type": "stream",
     "text": [
      "Results\n",
      "[('pol', 'http://www.wikidata.org/entity/Q3779978')]\n",
      "[('pol', 'http://www.wikidata.org/entity/Q63323217')]\n",
      "[('pol', 'http://www.wikidata.org/entity/Q106689762')]\n",
      "[('pol', 'http://www.wikidata.org/entity/Q3770874')]\n",
      "[('pol', 'http://www.wikidata.org/entity/Q16027100')]\n",
      "[('pol', 'http://www.wikidata.org/entity/Q3182048')]\n",
      "[('pol', 'http://www.wikidata.org/entity/Q19521750')]\n",
      "[('pol', 'http://www.wikidata.org/entity/Q9357271')]\n",
      "[('pol', 'http://www.wikidata.org/entity/Q17385988')]\n",
      "[('pol', 'http://www.wikidata.org/entity/Q5721267')]\n"
     ]
    },
    {
     "data": {
      "text/plain": [
       "10"
      ]
     },
     "execution_count": 9,
     "metadata": {},
     "output_type": "execute_result"
    }
   ],
   "source": [
    "#Q24\n",
    "#From Q14 I know that P27 is the property for \"Country of citizenship\"\n",
    "#check how if politicians can have more than country\n",
    "queryString = \"\"\"\n",
    "SELECT ?pol \n",
    "WHERE { \n",
    "\n",
    "?pol wdt:P106/wdt:P279* wd:Q82955;\n",
    "     wdt:P27 ?c.\n",
    "}\n",
    "GROUP BY ?pol\n",
    "HAVING( COUNT(?c) > 1)\n",
    "LIMIT 10\n",
    "\"\"\"\n",
    "\n",
    "print(\"Results\")\n",
    "run_query(queryString)"
   ]
  },
  {
   "cell_type": "markdown",
   "id": "c23eb7ba-3787-40a9-8f39-a8034229ce04",
   "metadata": {},
   "source": [
    "Number of politicians with multiple citizenships"
   ]
  },
  {
   "cell_type": "code",
   "execution_count": 10,
   "id": "db0fa285-83d0-4950-bb09-037244a73723",
   "metadata": {},
   "outputs": [
    {
     "name": "stdout",
     "output_type": "stream",
     "text": [
      "Results\n",
      "[('howMany', '48558')]\n"
     ]
    },
    {
     "data": {
      "text/plain": [
       "1"
      ]
     },
     "execution_count": 10,
     "metadata": {},
     "output_type": "execute_result"
    }
   ],
   "source": [
    "#Q25\n",
    "#check how many have multiple citizenships\n",
    "queryString = \"\"\"\n",
    "SELECT (COUNT(DISTINCT ?pol) AS ?howMany){\n",
    "SELECT ?pol \n",
    "WHERE { \n",
    "\n",
    "?pol wdt:P106/wdt:P279* wd:Q82955;\n",
    "     wdt:P27 ?c.\n",
    "}\n",
    "GROUP BY ?pol\n",
    "HAVING( COUNT(?c) > 1)\n",
    "}\n",
    "\"\"\"\n",
    "\n",
    "print(\"Results\")\n",
    "run_query(queryString)"
   ]
  },
  {
   "cell_type": "markdown",
   "id": "1026a2ab-c114-434b-ba17-21c9415c8527",
   "metadata": {},
   "source": [
    "Number of politicians with multiple citizenships but considering EU countries only."
   ]
  },
  {
   "cell_type": "code",
   "execution_count": 11,
   "id": "facef83f-045d-4758-9423-7bdd2d6315d3",
   "metadata": {},
   "outputs": [
    {
     "name": "stdout",
     "output_type": "stream",
     "text": [
      "Results\n",
      "[('howMany', '3307')]\n"
     ]
    },
    {
     "data": {
      "text/plain": [
       "1"
      ]
     },
     "execution_count": 11,
     "metadata": {},
     "output_type": "execute_result"
    }
   ],
   "source": [
    "#Q26\n",
    "#check how many have multiple citizenships but considering EU countries only\n",
    "queryString = \"\"\"\n",
    "SELECT (COUNT(DISTINCT ?pol) AS ?howMany){\n",
    "SELECT ?pol \n",
    "WHERE { \n",
    "\n",
    "?pol wdt:P106/wdt:P279* wd:Q82955;\n",
    "     wdt:P27 ?c.\n",
    "wd:Q458 wdt:P527 ?c. #EU\n",
    "}\n",
    "GROUP BY ?pol\n",
    "HAVING( COUNT(?c) > 1)\n",
    "}\n",
    "\"\"\"\n",
    "\n",
    "print(\"Results\")\n",
    "run_query(queryString)"
   ]
  },
  {
   "cell_type": "markdown",
   "id": "83b4bc55-4b1b-4e67-b40d-defc03076a03",
   "metadata": {},
   "source": [
    "Retrieve the politicians with the highest number of different citizenships."
   ]
  },
  {
   "cell_type": "code",
   "execution_count": 16,
   "id": "c924c7be-ffcf-4a4f-8516-0d46271bcace",
   "metadata": {},
   "outputs": [
    {
     "name": "stdout",
     "output_type": "stream",
     "text": [
      "Results\n",
      "[('pol', 'http://www.wikidata.org/entity/Q76343'), ('countries', '3')]\n",
      "[('pol', 'http://www.wikidata.org/entity/Q12765455'), ('countries', '3')]\n",
      "[('pol', 'http://www.wikidata.org/entity/Q1733194'), ('countries', '3')]\n",
      "[('pol', 'http://www.wikidata.org/entity/Q114605'), ('countries', '3')]\n",
      "[('pol', 'http://www.wikidata.org/entity/Q6244066'), ('countries', '3')]\n",
      "[('pol', 'http://www.wikidata.org/entity/Q10994'), ('countries', '3')]\n",
      "[('pol', 'http://www.wikidata.org/entity/Q365761'), ('countries', '3')]\n",
      "[('pol', 'http://www.wikidata.org/entity/Q3051975'), ('countries', '3')]\n",
      "[('pol', 'http://www.wikidata.org/entity/Q2492593'), ('countries', '3')]\n",
      "[('pol', 'http://www.wikidata.org/entity/Q151209'), ('countries', '3')]\n"
     ]
    },
    {
     "data": {
      "text/plain": [
       "10"
      ]
     },
     "execution_count": 16,
     "metadata": {},
     "output_type": "execute_result"
    }
   ],
   "source": [
    "#Q27\n",
    "#politicians with the highest number of citizenships in EU countries\n",
    "queryString = \"\"\"\n",
    "SELECT ?pol (COUNT(DISTINCT ?c) AS ?countries)\n",
    "WHERE { \n",
    "\n",
    "?pol wdt:P106/wdt:P279* wd:Q82955;\n",
    "     wdt:P27 ?c.\n",
    "wd:Q458 wdt:P527 ?c. #EU\n",
    "}\n",
    "GROUP BY ?pol\n",
    "ORDER BY DESC(?countries)\n",
    "LIMIT 10\n",
    "\"\"\"\n",
    "\n",
    "print(\"Results\")\n",
    "run_query(queryString)"
   ]
  },
  {
   "cell_type": "code",
   "execution_count": 17,
   "id": "69575e86-20bf-4cb7-92df-4c0a5f8666ca",
   "metadata": {},
   "outputs": [
    {
     "name": "stdout",
     "output_type": "stream",
     "text": [
      "Results\n",
      "[('name', 'Otto von Habsburg'), ('countries', 'Germany,Croatia,Austria')]\n"
     ]
    },
    {
     "data": {
      "text/plain": [
       "1"
      ]
     },
     "execution_count": 17,
     "metadata": {},
     "output_type": "execute_result"
    }
   ],
   "source": [
    "#Q28\n",
    "#let's have a look at Q76343 just for curiosity\n",
    "queryString = \"\"\"\n",
    "SELECT ?name (GROUP_CONCAT(?cname;SEPARATOR=\",\") AS ?countries)\n",
    "WHERE { \n",
    "\n",
    "wd:Q76343 wdt:P27 ?c.\n",
    "wd:Q458 wdt:P527 ?c. #EU\n",
    "\n",
    "#Labels\n",
    "?c <http://schema.org/name> ?cname .\n",
    "wd:Q76343 <http://schema.org/name> ?name .\n",
    "\n",
    "}\n",
    "GROUP BY ?name\n",
    "LIMIT 10\n",
    "\"\"\"\n",
    "\n",
    "print(\"Results\")\n",
    "run_query(queryString)"
   ]
  },
  {
   "cell_type": "markdown",
   "id": "bd6c5a3f-76a0-4e8a-a675-4fdbcaa5457b",
   "metadata": {},
   "source": [
    "As before, retrieve the politicians with the highest number of citizenships but considering the whole world."
   ]
  },
  {
   "cell_type": "code",
   "execution_count": 18,
   "id": "33044181-e50c-4cfb-b8c5-de75d2e23874",
   "metadata": {},
   "outputs": [
    {
     "name": "stdout",
     "output_type": "stream",
     "text": [
      "Results\n",
      "[('pol', 'http://www.wikidata.org/entity/Q355648'), ('countries', '10')]\n",
      "[('pol', 'http://www.wikidata.org/entity/Q30528417'), ('countries', '8')]\n",
      "[('pol', 'http://www.wikidata.org/entity/Q768911'), ('countries', '8')]\n",
      "[('pol', 'http://www.wikidata.org/entity/Q55196521'), ('countries', '7')]\n",
      "[('pol', 'http://www.wikidata.org/entity/Q12150042'), ('countries', '7')]\n",
      "[('pol', 'http://www.wikidata.org/entity/Q725435'), ('countries', '7')]\n",
      "[('pol', 'http://www.wikidata.org/entity/Q76343'), ('countries', '7')]\n",
      "[('pol', 'http://www.wikidata.org/entity/Q56259418'), ('countries', '7')]\n",
      "[('pol', 'http://www.wikidata.org/entity/Q61052634'), ('countries', '7')]\n",
      "[('pol', 'http://www.wikidata.org/entity/Q268003'), ('countries', '7')]\n"
     ]
    },
    {
     "data": {
      "text/plain": [
       "10"
      ]
     },
     "execution_count": 18,
     "metadata": {},
     "output_type": "execute_result"
    }
   ],
   "source": [
    "#Q29\n",
    "#as Q27 but considering the whole world\n",
    "queryString = \"\"\"\n",
    "SELECT ?pol (COUNT(DISTINCT ?c) AS ?countries)\n",
    "WHERE { \n",
    "\n",
    "?pol wdt:P106/wdt:P279* wd:Q82955;\n",
    "     wdt:P27 ?c.\n",
    "}\n",
    "GROUP BY ?pol\n",
    "ORDER BY DESC(?countries)\n",
    "LIMIT 10\n",
    "\"\"\"\n",
    "\n",
    "print(\"Results\")\n",
    "run_query(queryString)"
   ]
  },
  {
   "cell_type": "code",
   "execution_count": 19,
   "id": "6a31e7b2-c844-4755-a408-30791bbb2776",
   "metadata": {},
   "outputs": [
    {
     "name": "stdout",
     "output_type": "stream",
     "text": [
      "Results\n",
      "[('name', 'Adem Demaçi'), ('countries', \"Kosovo,Serbia,Socialist Federal Republic of Yugoslavia,Kingdom of Yugoslavia,Serbia and Montenegro,Democratic Federal Yugoslavia,Federal Republic of Yugoslavia,Federal People's Republic of Yugoslavia,Albanian Kingdom,Albanian Kingdom\")]\n"
     ]
    },
    {
     "data": {
      "text/plain": [
       "1"
      ]
     },
     "execution_count": 19,
     "metadata": {},
     "output_type": "execute_result"
    }
   ],
   "source": [
    "#Q30\n",
    "#let's have a look at Q355648 just for curiosity\n",
    "queryString = \"\"\"\n",
    "SELECT ?name (GROUP_CONCAT(?cname;SEPARATOR=\",\") AS ?countries)\n",
    "WHERE { \n",
    "\n",
    "wd:Q355648 wdt:P27 ?c.\n",
    "\n",
    "#Labels\n",
    "?c <http://schema.org/name> ?cname .\n",
    "wd:Q355648 <http://schema.org/name> ?name .\n",
    "\n",
    "}\n",
    "GROUP BY ?name\n",
    "LIMIT 10\n",
    "\"\"\"\n",
    "\n",
    "print(\"Results\")\n",
    "run_query(queryString)"
   ]
  },
  {
   "cell_type": "markdown",
   "id": "d40a6047-69d9-40be-b649-7d58acdc7fc3",
   "metadata": {},
   "source": [
    "Retrieve politicians with the highest number of citizenships and at least one citizenship in EU."
   ]
  },
  {
   "cell_type": "code",
   "execution_count": 20,
   "id": "cc9efae5-3a4b-4172-b59e-04c4d8e130b5",
   "metadata": {},
   "outputs": [
    {
     "name": "stdout",
     "output_type": "stream",
     "text": [
      "Results\n",
      "[('pol', 'http://www.wikidata.org/entity/Q78864'), ('countries', '7')]\n",
      "[('pol', 'http://www.wikidata.org/entity/Q760748'), ('countries', '7')]\n",
      "[('pol', 'http://www.wikidata.org/entity/Q76343'), ('countries', '7')]\n",
      "[('pol', 'http://www.wikidata.org/entity/Q12294583'), ('countries', '7')]\n",
      "[('pol', 'http://www.wikidata.org/entity/Q1986289'), ('countries', '6')]\n",
      "[('pol', 'http://www.wikidata.org/entity/Q78741'), ('countries', '6')]\n",
      "[('pol', 'http://www.wikidata.org/entity/Q29008'), ('countries', '6')]\n",
      "[('pol', 'http://www.wikidata.org/entity/Q44517'), ('countries', '6')]\n",
      "[('pol', 'http://www.wikidata.org/entity/Q6092246'), ('countries', '6')]\n",
      "[('pol', 'http://www.wikidata.org/entity/Q112081'), ('countries', '6')]\n"
     ]
    },
    {
     "data": {
      "text/plain": [
       "10"
      ]
     },
     "execution_count": 20,
     "metadata": {},
     "output_type": "execute_result"
    }
   ],
   "source": [
    "#Q31\n",
    "#politicians with the highest number of citizenships and at least one citizenship in EU\n",
    "queryString = \"\"\"\n",
    "SELECT ?pol (COUNT(DISTINCT ?c) AS ?countries)\n",
    "WHERE { \n",
    "\n",
    "?pol wdt:P27 ?c.\n",
    "{\n",
    "SELECT ?pol\n",
    "WHERE { \n",
    "\n",
    "?pol wdt:P106/wdt:P279* wd:Q82955;\n",
    "     wdt:P27 ?c.\n",
    "wd:Q458 wdt:P527 ?c. #EU\n",
    "}\n",
    "}\n",
    "\n",
    "}\n",
    "GROUP BY ?pol\n",
    "ORDER BY DESC(?countries)\n",
    "LIMIT 10\n",
    "\"\"\"\n",
    "\n",
    "print(\"Results\")\n",
    "run_query(queryString)"
   ]
  },
  {
   "cell_type": "markdown",
   "id": "04ce7234-0dc4-4ed9-9c37-84668353f5ef",
   "metadata": {},
   "source": [
    "<h3> Task 4 ENDS HERE </h3>\n",
    "Using P27 I found out that about 3000 politicians have more than one citizenships in EU. The actual record is 3, while if we consider politician with\n",
    "multiple citizenships all over the world the record is 10. However data seem to be a bit noisy if we consider countries outside EU because are kept in mind different variant of the same country (for example: Serbia and Serbia & Montenegro and Yugoslavia). "
   ]
  },
  {
   "cell_type": "markdown",
   "id": "391155d1-27ca-4296-af9b-014b4bac1a2e",
   "metadata": {},
   "source": [
    "<h3> Task 5 STARTS HERE </h3>\n",
    "What are the top-3 occupations for a politician in Italy and France?"
   ]
  },
  {
   "cell_type": "markdown",
   "id": "5a31e346-fee3-4318-b6c5-18cd7fefd0e6",
   "metadata": {},
   "source": [
    "Retrieve the top 3 occupations for a politician in Italy"
   ]
  },
  {
   "cell_type": "code",
   "execution_count": 2,
   "id": "4f0903bf-4a5e-4dd1-a354-8c0ca944dd21",
   "metadata": {},
   "outputs": [
    {
     "name": "stdout",
     "output_type": "stream",
     "text": [
      "Results\n",
      "[('occ', 'http://www.wikidata.org/entity/Q1930187'), ('name', 'journalist'), ('howMany', '733')]\n",
      "[('occ', 'http://www.wikidata.org/entity/Q40348'), ('name', 'lawyer'), ('howMany', '715')]\n",
      "[('occ', 'http://www.wikidata.org/entity/Q36180'), ('name', 'writer'), ('howMany', '347')]\n"
     ]
    },
    {
     "data": {
      "text/plain": [
       "3"
      ]
     },
     "execution_count": 2,
     "metadata": {},
     "output_type": "execute_result"
    }
   ],
   "source": [
    "#Q32\n",
    "#from Q8 I know that France is wd:Q142 while Italy is wd:Q38\n",
    "#retrieve top 3 occupations in Italy\n",
    "queryString = \"\"\"\n",
    "SELECT ?occ ?name ?howMany WHERE {\n",
    "{SELECT ?occ (COUNT(?pol) AS ?howMany)\n",
    "WHERE { \n",
    "\n",
    "?pol wdt:P106/wdt:P279* wd:Q82955;\n",
    "     wdt:P27 wd:Q38;\n",
    "     wdt:P106 ?occ.\n",
    "FILTER(?occ!=wd:Q82955)\n",
    "}\n",
    "GROUP BY ?occ\n",
    "}\n",
    "#Labels\n",
    "?occ <http://schema.org/name> ?name .\n",
    "}\n",
    "ORDER BY DESC(?howMany)\n",
    "LIMIT 3\n",
    "\"\"\"\n",
    "\n",
    "print(\"Results\")\n",
    "run_query(queryString)"
   ]
  },
  {
   "cell_type": "markdown",
   "id": "bd61863c-04b2-441b-9b42-a2e2c857f37c",
   "metadata": {},
   "source": [
    "Same for french politicians."
   ]
  },
  {
   "cell_type": "code",
   "execution_count": 3,
   "id": "8cec529a-54a1-4cb3-87cd-41c5fa73fcd7",
   "metadata": {},
   "outputs": [
    {
     "name": "stdout",
     "output_type": "stream",
     "text": [
      "Results\n",
      "[('occ', 'http://www.wikidata.org/entity/Q1749879'), ('name', 'pensioner'), ('howMany', '14823')]\n",
      "[('occ', 'http://www.wikidata.org/entity/Q97768274'), ('name', 'anciens cadres'), ('howMany', '5440')]\n",
      "[('occ', 'http://www.wikidata.org/entity/Q3062119'), ('name', 'farm operator'), ('howMany', '4907')]\n"
     ]
    },
    {
     "data": {
      "text/plain": [
       "3"
      ]
     },
     "execution_count": 3,
     "metadata": {},
     "output_type": "execute_result"
    }
   ],
   "source": [
    "#Q33\n",
    "#retrieve top 3 occupations in France\n",
    "queryString = \"\"\"\n",
    "SELECT ?occ ?name ?howMany WHERE {\n",
    "{SELECT ?occ (COUNT(?pol) AS ?howMany)\n",
    "WHERE { \n",
    "\n",
    "?pol wdt:P106/wdt:P279* wd:Q82955;\n",
    "     wdt:P27 wd:Q142;\n",
    "     wdt:P106 ?occ.\n",
    "FILTER(?occ!=wd:Q82955)\n",
    "}\n",
    "GROUP BY ?occ\n",
    "}\n",
    "#Labels\n",
    "?occ <http://schema.org/name> ?name .\n",
    "}\n",
    "ORDER BY DESC(?howMany)\n",
    "LIMIT 3\n",
    "\"\"\"\n",
    "\n",
    "print(\"Results\")\n",
    "run_query(queryString)"
   ]
  },
  {
   "cell_type": "code",
   "execution_count": 4,
   "id": "57a39cab-1497-4361-9188-0fa8f42e3dab",
   "metadata": {},
   "outputs": [
    {
     "name": "stdout",
     "output_type": "stream",
     "text": [
      "Results\n",
      "[('howMany', '81679')]\n"
     ]
    },
    {
     "data": {
      "text/plain": [
       "1"
      ]
     },
     "execution_count": 4,
     "metadata": {},
     "output_type": "execute_result"
    }
   ],
   "source": [
    "#Q34\n",
    "#count number of politicians in France\n",
    "queryString = \"\"\"\n",
    "SELECT (COUNT(DISTINCT ?pol) AS ?howMany)\n",
    "WHERE { \n",
    "\n",
    "?pol wdt:P106/wdt:P279* wd:Q82955;\n",
    "     wdt:P27 wd:Q142.\n",
    "}\n",
    "LIMIT 3\n",
    "\"\"\"\n",
    "\n",
    "print(\"Results\")\n",
    "run_query(queryString)"
   ]
  },
  {
   "cell_type": "markdown",
   "id": "647ca3ad-90c7-4e91-9720-2856ee6be5d1",
   "metadata": {},
   "source": [
    "I am curious about \"farm operator\" on third spot, I want to check if there are some reasons."
   ]
  },
  {
   "cell_type": "code",
   "execution_count": 6,
   "id": "a20ca463-ab7c-414a-b4ee-083a5fa1f259",
   "metadata": {},
   "outputs": [
    {
     "name": "stdout",
     "output_type": "stream",
     "text": [
      "Results\n",
      "[('pname', 'Union for a Popular Movement'), ('howMany', '10')]\n",
      "[('pname', 'Rally for the Republic'), ('howMany', '5')]\n",
      "[('pname', 'The Republicans'), ('howMany', '4')]\n",
      "[('pname', 'National Rally'), ('howMany', '2')]\n",
      "[('pname', 'La République En Marche'), ('howMany', '2')]\n",
      "[('pname', 'Socialist Party'), ('howMany', '2')]\n",
      "[('pname', 'Radical Party of the Left'), ('howMany', '2')]\n",
      "[('pname', 'Radical Party'), ('howMany', '1')]\n",
      "[('pname', 'French Communist Party'), ('howMany', '1')]\n",
      "[('pname', 'Group Centrist Union'), ('howMany', '1')]\n"
     ]
    },
    {
     "data": {
      "text/plain": [
       "10"
      ]
     },
     "execution_count": 6,
     "metadata": {},
     "output_type": "execute_result"
    }
   ],
   "source": [
    "#Q35\n",
    "#result of previous query is odd, i want to see why \"farm operator\" is on third spot\n",
    "queryString = \"\"\"\n",
    "SELECT ?pname (COUNT(DISTINCT ?pol) AS ?howMany)\n",
    "WHERE { \n",
    "\n",
    "?pol wdt:P106/wdt:P279* wd:Q82955;\n",
    "     wdt:P27 wd:Q142;\n",
    "     wdt:P106 wd:Q3062119;\n",
    "     wdt:P102 ?party.\n",
    "?party <http://schema.org/name> ?pname .\n",
    "}\n",
    "GROUP BY ?pname\n",
    "ORDER BY DESC(?howMany)\n",
    "LIMIT 10\n",
    "\"\"\"\n",
    "\n",
    "print(\"Results\")\n",
    "run_query(queryString)\n"
   ]
  },
  {
   "cell_type": "code",
   "execution_count": 7,
   "id": "86ecc8ed-77dc-407d-a0a6-46d9f7adb497",
   "metadata": {},
   "outputs": [
    {
     "name": "stdout",
     "output_type": "stream",
     "text": [
      "Results\n",
      "[('p', 'http://www.wikidata.org/prop/direct/P39'), ('howMany', '14122')]\n",
      "[('p', 'http://www.wikidata.org/prop/direct/P106'), ('howMany', '12972')]\n",
      "[('p', 'http://www.wikidata.org/prop/direct/P569'), ('howMany', '4951')]\n",
      "[('p', 'http://www.w3.org/1999/02/22-rdf-syntax-ns#type'), ('howMany', '4908')]\n",
      "[('p', 'http://www.wikidata.org/prop/direct/P735'), ('howMany', '4908')]\n",
      "[('p', 'http://www.wikidata.org/prop/direct/P27'), ('howMany', '4907')]\n",
      "[('p', 'http://www.wikidata.org/prop/direct/P31'), ('howMany', '4907')]\n",
      "[('p', 'http://www.wikidata.org/prop/direct/P21'), ('howMany', '4907')]\n",
      "[('p', 'http://www.wikidata.org/prop/direct/P734'), ('howMany', '4887')]\n",
      "[('p', 'http://schema.org/name'), ('howMany', '4854')]\n"
     ]
    },
    {
     "data": {
      "text/plain": [
       "10"
      ]
     },
     "execution_count": 7,
     "metadata": {},
     "output_type": "execute_result"
    }
   ],
   "source": [
    "#Q36\n",
    "#group by political party is not useful\n",
    "#check if there are some common properties that can be useful\n",
    "queryString = \"\"\"\n",
    "SELECT ?p (COUNT(?pol) AS ?howMany)\n",
    "WHERE { \n",
    "\n",
    "?pol wdt:P106/wdt:P279* wd:Q82955;\n",
    "     wdt:P27 wd:Q142;\n",
    "     wdt:P106 wd:Q3062119;\n",
    "     ?p ?o.\n",
    "}\n",
    "GROUP BY ?p\n",
    "ORDER BY DESC(?howMany)\n",
    "LIMIT 10\n",
    "\"\"\"\n",
    "\n",
    "print(\"Results\")\n",
    "run_query(queryString)"
   ]
  },
  {
   "cell_type": "code",
   "execution_count": 8,
   "id": "7e2847e8-486e-48b8-b4de-148e0a2a308a",
   "metadata": {},
   "outputs": [
    {
     "name": "stdout",
     "output_type": "stream",
     "text": [
      "Results\n",
      "[('pname', 'community councilor of Ternois'), ('howMany', '17')]\n",
      "[('pname', 'Vals de Saintonge community counselor'), ('howMany', '15')]\n",
      "[('pname', 'community counselor of Champagnole Nozeroy Jura'), ('howMany', '14')]\n",
      "[('pname', 'president'), ('howMany', '13')]\n",
      "[('pname', 'regional councilor of Nouvelle-Aquitaine'), ('howMany', '11')]\n",
      "[('pname', 'member of the Senate of France'), ('howMany', '10')]\n",
      "[('pname', 'conseiller régional du Grand Est'), ('howMany', '7')]\n",
      "[('pname', 'member of the general council'), ('howMany', '7')]\n",
      "[('pname', 'member of the French National Assembly'), ('howMany', '7')]\n",
      "[('pname', 'conseiller régional des Hauts-de-France'), ('howMany', '7')]\n"
     ]
    },
    {
     "data": {
      "text/plain": [
       "10"
      ]
     },
     "execution_count": 8,
     "metadata": {},
     "output_type": "execute_result"
    }
   ],
   "source": [
    "#Q37\n",
    "#P39 stands for \"position held\" (found in Q14)\n",
    "queryString = \"\"\"\n",
    "SELECT ?pname (COUNT(DISTINCT ?pol) AS ?howMany)\n",
    "WHERE { \n",
    "\n",
    "?pol wdt:P106/wdt:P279* wd:Q82955;\n",
    "     wdt:P27 wd:Q142;\n",
    "     wdt:P106 wd:Q3062119;\n",
    "     wdt:P39 ?pos.\n",
    "?pos <http://schema.org/name> ?pname .\n",
    "}\n",
    "GROUP BY ?pname\n",
    "ORDER BY DESC(?howMany)\n",
    "LIMIT 10\n",
    "\"\"\"\n",
    "\n",
    "print(\"Results\")\n",
    "run_query(queryString)"
   ]
  },
  {
   "cell_type": "markdown",
   "id": "8f1865ed-967d-44b8-9922-92da2de17722",
   "metadata": {},
   "source": [
    "<h3> Task 5.2 </h3>\n",
    "What if you consider only politicians for which we don't have a date of death?"
   ]
  },
  {
   "cell_type": "markdown",
   "id": "eef04c45-5e4f-4152-bc81-d219e1e0e976",
   "metadata": {},
   "source": [
    "Looking for date of death property"
   ]
  },
  {
   "cell_type": "code",
   "execution_count": 12,
   "id": "485c5e65-35c9-4326-a2ea-5768b460df64",
   "metadata": {},
   "outputs": [
    {
     "name": "stdout",
     "output_type": "stream",
     "text": [
      "Results\n",
      "[('p', 'http://www.wikidata.org/prop/direct/P1196'), ('pname', 'manner of death')]\n",
      "[('p', 'http://www.wikidata.org/prop/direct/P20'), ('pname', 'place of death')]\n",
      "[('p', 'http://www.wikidata.org/prop/direct/P509'), ('pname', 'cause of death')]\n",
      "[('p', 'http://www.wikidata.org/prop/direct/P570'), ('pname', 'date of death')]\n"
     ]
    },
    {
     "data": {
      "text/plain": [
       "4"
      ]
     },
     "execution_count": 12,
     "metadata": {},
     "output_type": "execute_result"
    }
   ],
   "source": [
    "#Q38\n",
    "#looking for date of death property\n",
    "queryString = \"\"\"\n",
    "SELECT DISTINCT ?p ?pname\n",
    "WHERE { \n",
    "\n",
    "?pol wdt:P106/wdt:P279* wd:Q82955;\n",
    "     ?p ?o.\n",
    "?p <http://schema.org/name> ?pname .\n",
    "\n",
    "FILTER REGEX(?pname, \".*death.*\")\n",
    "\n",
    "}\n",
    "LIMIT 50\n",
    "\"\"\"\n",
    "\n",
    "print(\"Results\")\n",
    "run_query(queryString)"
   ]
  },
  {
   "cell_type": "code",
   "execution_count": 13,
   "id": "2b61e104-fcb7-4595-b625-08d31ddd2b33",
   "metadata": {},
   "outputs": [
    {
     "name": "stdout",
     "output_type": "stream",
     "text": [
      "Results\n",
      "[('occ', 'http://www.wikidata.org/entity/Q1930187'), ('name', 'journalist'), ('howMany', '333')]\n",
      "[('occ', 'http://www.wikidata.org/entity/Q40348'), ('name', 'lawyer'), ('howMany', '250')]\n",
      "[('occ', 'http://www.wikidata.org/entity/Q36180'), ('name', 'writer'), ('howMany', '137')]\n"
     ]
    },
    {
     "data": {
      "text/plain": [
       "3"
      ]
     },
     "execution_count": 13,
     "metadata": {},
     "output_type": "execute_result"
    }
   ],
   "source": [
    "#Q39\n",
    "#run query for task 5.2 using P570 found above\n",
    "#retrieve top 3 occupations in Italy\n",
    "\n",
    "queryString = \"\"\"\n",
    "SELECT ?occ ?name ?howMany WHERE {\n",
    "{SELECT ?occ (COUNT(?pol) AS ?howMany)\n",
    "WHERE { \n",
    "\n",
    "?pol wdt:P106/wdt:P279* wd:Q82955;\n",
    "     wdt:P27 wd:Q38;\n",
    "     wdt:P106 ?occ.\n",
    "FILTER(?occ!=wd:Q82955)\n",
    "FILTER NOT EXISTS{?pol wdt:P570 ?death.}\n",
    "}\n",
    "GROUP BY ?occ\n",
    "}\n",
    "#Labels\n",
    "?occ <http://schema.org/name> ?name .\n",
    "}\n",
    "ORDER BY DESC(?howMany)\n",
    "LIMIT 3\n",
    "\"\"\"\n",
    "\n",
    "print(\"Results\")\n",
    "run_query(queryString)"
   ]
  },
  {
   "cell_type": "code",
   "execution_count": 14,
   "id": "cc0c0ffa-78a7-4c08-b26c-e3b0878aab5f",
   "metadata": {},
   "outputs": [
    {
     "name": "stdout",
     "output_type": "stream",
     "text": [
      "Results\n",
      "[('occ', 'http://www.wikidata.org/entity/Q1749879'), ('name', 'pensioner'), ('howMany', '14712')]\n",
      "[('occ', 'http://www.wikidata.org/entity/Q97768274'), ('name', 'anciens cadres'), ('howMany', '5440')]\n",
      "[('occ', 'http://www.wikidata.org/entity/Q3062119'), ('name', 'farm operator'), ('howMany', '4893')]\n"
     ]
    },
    {
     "data": {
      "text/plain": [
       "3"
      ]
     },
     "execution_count": 14,
     "metadata": {},
     "output_type": "execute_result"
    }
   ],
   "source": [
    "#Q40\n",
    "#run query for task 5.2 using P570 found above\n",
    "#retrieve top 3 occupations in France\n",
    "\n",
    "queryString = \"\"\"\n",
    "SELECT ?occ ?name ?howMany WHERE {\n",
    "{SELECT ?occ (COUNT(?pol) AS ?howMany)\n",
    "WHERE { \n",
    "\n",
    "?pol wdt:P106/wdt:P279* wd:Q82955;\n",
    "     wdt:P27 wd:Q142;\n",
    "     wdt:P106 ?occ.\n",
    "FILTER(?occ!=wd:Q82955)\n",
    "FILTER NOT EXISTS{?pol wdt:P570 ?death.}\n",
    "}\n",
    "GROUP BY ?occ\n",
    "}\n",
    "#Labels\n",
    "?occ <http://schema.org/name> ?name .\n",
    "}\n",
    "ORDER BY DESC(?howMany)\n",
    "LIMIT 3\n",
    "\"\"\"\n",
    "\n",
    "print(\"Results\")\n",
    "run_query(queryString)"
   ]
  },
  {
   "cell_type": "markdown",
   "id": "f6bd2259-f518-4664-ba16-7dbf184798e2",
   "metadata": {},
   "source": [
    "<h3> Task 5.3 </h3>\n",
    "Which politicians had a spouse that was also a politician? How many in each country?"
   ]
  },
  {
   "cell_type": "code",
   "execution_count": 20,
   "id": "ae9b245d-01cc-44e8-8f2a-427475825c6b",
   "metadata": {},
   "outputs": [
    {
     "name": "stdout",
     "output_type": "stream",
     "text": [
      "Results\n",
      "[('cname', 'Soviet Union'), ('howMany', '4')]\n",
      "[('cname', 'Ancient Egypt'), ('howMany', '3')]\n",
      "[('cname', 'Ancient Rome'), ('howMany', '2')]\n",
      "[('cname', 'Russian Empire'), ('howMany', '2')]\n",
      "[('cname', 'Russia'), ('howMany', '2')]\n",
      "[('cname', 'New Zealand'), ('howMany', '2')]\n",
      "[('cname', 'Ukrainian Soviet Socialist Republic'), ('howMany', '1')]\n",
      "[('cname', 'Canada'), ('howMany', '1')]\n",
      "[('cname', 'Australia'), ('howMany', '1')]\n",
      "[('cname', 'United States of America'), ('howMany', '1')]\n"
     ]
    },
    {
     "data": {
      "text/plain": [
       "10"
      ]
     },
     "execution_count": 20,
     "metadata": {},
     "output_type": "execute_result"
    }
   ],
   "source": [
    "#Q41\n",
    "#from Q14 I know that P26 = spouse\n",
    "queryString = \"\"\"\n",
    "SELECT ?cname (COUNT(DISTINCT ?pol) AS ?howMany)\n",
    "WHERE { \n",
    "?pol wdt:P106/wdt:P279 wd:Q82955;\n",
    "     wdt:P26 ?s;\n",
    "     wdt:P27 ?country.\n",
    "?s wdt:P106/wdt:P279 wd:Q82955.\n",
    "?country <http://schema.org/name> ?cname .\n",
    "}\n",
    "GROUP BY ?cname\n",
    "ORDER BY DESC(?howMany)\n",
    "LIMIT 50\n",
    "\"\"\"\n",
    "\n",
    "print(\"Results\")\n",
    "run_query(queryString)"
   ]
  },
  {
   "cell_type": "markdown",
   "id": "7ccc03c5-ba98-431b-be8f-63f8ae26d5fb",
   "metadata": {},
   "source": [
    "In the previous query i had to delete the iteration over P279 in order to be able to execute it."
   ]
  },
  {
   "cell_type": "markdown",
   "id": "a49629b4-7881-4d23-9205-dc74eb973b90",
   "metadata": {},
   "source": [
    "<h3> Task 5 ENDS HERE </h3>\n",
    "The queries confirmed what i found out in the previous task, i.e. in Italy most of politicians are lawyer or journalist. Also I noted that adding\n",
    "the date of birth the number of results went down but the top 3 was the same. About France, the results are different: the top 3 is pensioner,anciens cadres and farm operator. Even adding the date of birth, the results are the same. "
   ]
  },
  {
   "cell_type": "code",
   "execution_count": null,
   "id": "7aecc94f-be3b-4393-8339-95ab6679ae52",
   "metadata": {},
   "outputs": [],
   "source": []
  }
 ],
 "metadata": {
  "kernelspec": {
   "display_name": "Python 3",
   "language": "python",
   "name": "python3"
  },
  "language_info": {
   "codemirror_mode": {
    "name": "ipython",
    "version": 3
   },
   "file_extension": ".py",
   "mimetype": "text/x-python",
   "name": "python",
   "nbconvert_exporter": "python",
   "pygments_lexer": "ipython3",
   "version": "3.7.10"
  }
 },
 "nbformat": 4,
 "nbformat_minor": 5
}
