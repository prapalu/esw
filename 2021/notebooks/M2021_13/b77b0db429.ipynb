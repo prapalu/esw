{
 "cells": [
  {
   "cell_type": "markdown",
   "id": "7034c3bf-6eb0-4418-8687-7b9d2a501103",
   "metadata": {},
   "source": [
    "# General instructions\n",
    "\n",
    "The goal of the project is to materialize a set of **exploratory workloads** over a real-world, large-scale,  open-domain KG: [WikiData](https://www.wikidata.org/wiki/Wikidata:Main_Page)\n",
    "\n",
    "An exploratory workload  is composed by a set of queries, where each query is related to the information obtained previously.\n",
    "\n",
    "An exploratory workload starts with a usually vague, open ended question, and does not assume the person issuing the workload has a clear understanding of the data contained in the target database or its structure.\n",
    "\n",
    "Remeber that:\n",
    "\n",
    "1. All the queries must run in the python notebook\n",
    "2. You can use classes and properties only if you find them via a SPARQL query that must be present in the notebook\n",
    "3. You do not delete useless queries. Keep everything that is synthatically valid \n",
    "\n",
    "```\n",
    "?p <http://schema.org/name> ?name .\n",
    "```\n",
    "    \n",
    "    is the BGP returning a human-readable name of a property or a class in Wikidata.\n",
    "    \n",
    "    "
   ]
  },
  {
   "cell_type": "code",
   "execution_count": 2,
   "id": "3605c9d5-5371-49a5-be8d-d66e8f417139",
   "metadata": {},
   "outputs": [],
   "source": [
    "## SETUP used later\n",
    "\n",
    "from SPARQLWrapper import SPARQLWrapper, JSON\n",
    "\n",
    "\n",
    "prefixString = \"\"\"\n",
    "##-b77b0db429-##\n",
    "PREFIX wd: <http://www.wikidata.org/entity/> \n",
    "PREFIX wdt: <http://www.wikidata.org/prop/direct/> \n",
    "PREFIX sc: <http://schema.org/>\n",
    "\"\"\"\n",
    "\n",
    "# select and construct queries\n",
    "def run_query(queryString):\n",
    "    to_run = prefixString + \"\\n\" + queryString\n",
    "\n",
    "    sparql = SPARQLWrapper(\"http://a256-gc1-02.srv.aau.dk:5820/sparql\")\n",
    "    sparql.setTimeout(300)\n",
    "    sparql.setReturnFormat(JSON)\n",
    "    sparql.setQuery(to_run)\n",
    "\n",
    "    try :\n",
    "       results = sparql.query()\n",
    "       json_results = results.convert()\n",
    "       if len(json_results['results']['bindings'])==0:\n",
    "          print(\"Empty\")\n",
    "          return 0\n",
    "    \n",
    "       for bindings in json_results['results']['bindings']:\n",
    "          print( [ (var, value['value'])  for var, value in bindings.items() ] )\n",
    "\n",
    "       return len(json_results['results']['bindings'])\n",
    "\n",
    "    except Exception as e :\n",
    "        print(\"The operation failed\", e)\n",
    "    \n",
    "# ASk queries\n",
    "def run_ask_query(queryString):\n",
    "    to_run = prefixString + \"\\n\" + queryString\n",
    "\n",
    "    sparql = SPARQLWrapper(\"http://a256-gc1-02.srv.aau.dk:5820/sparql\")\n",
    "    sparql.setTimeout(300)\n",
    "    sparql.setReturnFormat(JSON)\n",
    "    sparql.setQuery(to_run)\n",
    "\n",
    "    try :\n",
    "        return sparql.query().convert()\n",
    "\n",
    "    except Exception as e :\n",
    "        print(\"The operation failed\", e)"
   ]
  },
  {
   "cell_type": "markdown",
   "id": "d477a59c-a68c-4c8f-9f97-8ca5294d7d27",
   "metadata": {},
   "source": [
    "# Book Workflow Series (\"Authors comparison explorative search\") \n",
    "\n",
    "Consider the following exploratory scenario:\n",
    "\n",
    "\n",
    ">  Investigate the the production of Paul Auster and Ian McEwan, check how many books they have written for each litarature genre, gather information about their production and about their works which are not books\n",
    "\n",
    "\n",
    "\n",
    "## Useful URIs for the current workflow\n",
    "The following are given:\n",
    "\n",
    "| IRI           | Description   | Role      |\n",
    "| -----------   | -----------   |-----------|\n",
    "| `wdt:P1647`   | subproperty   | predicate |\n",
    "| `wdt:P31`     | instance of   | predicate |\n",
    "| `wdt:P106`    | profession    | predicate | \n",
    "| `wdt:P279`    | subclass      | predicate |\n",
    "| `wd:Q47461344`| writtenwork   | node |\n",
    "| `wd:Q214642`  | Paul Auster   | node |\n",
    "| `wd:Q190379`  | Ian McEwan    | node |\n",
    "\n",
    "\n",
    "\n",
    "\n",
    "Also consider\n",
    "\n",
    "```\n",
    "wd:Q214642 ?rel ?obj  . \n",
    "```\n",
    "is the BGP to retrieve all **properties of Paul Auster**\n",
    "\n",
    "\n",
    "The workload should\n",
    "\n",
    "\n",
    "1. Identify the BGP for obtaining the books (with publishing date and genre) published by the two authors\n",
    "\n",
    "2. Did the authors published a book in the same year? What is the longest period without publishing a book for the two authors? \n",
    "\n",
    "3. Did the authors produced, acted or directed a film? If so, did they write the screenplay?\n",
    "\n",
    "4. How many films were derived from the books of these two authors? \n",
    "\n",
    "5. Which author won more literature-related awards? Have they ever being nominated for a Nobel award? "
   ]
  },
  {
   "cell_type": "code",
   "execution_count": 1,
   "id": "24a853ab-830c-422c-afd3-e9e015b8b8ed",
   "metadata": {},
   "outputs": [],
   "source": [
    "# start your workflow here"
   ]
  },
  {
   "cell_type": "code",
   "execution_count": 2,
   "id": "ade01416-92e7-4ad7-b9a9-b8fb330750dc",
   "metadata": {},
   "outputs": [
    {
     "name": "stdout",
     "output_type": "stream",
     "text": [
      "Results\n",
      "[('callret-0', '191')]\n"
     ]
    },
    {
     "data": {
      "text/plain": [
       "1"
      ]
     },
     "execution_count": 2,
     "metadata": {},
     "output_type": "execute_result"
    }
   ],
   "source": [
    "queryString = \"\"\"\n",
    "SELECT COUNT( ?obj)\n",
    "WHERE { \n",
    "wd:Q214642 ?rel ?obj  . \n",
    "} \n",
    "\"\"\"\n",
    "\n",
    "print(\"Results\")\n",
    "run_query(queryString)"
   ]
  },
  {
   "cell_type": "markdown",
   "id": "bc652462-80b2-422e-ace8-af7e919248c7",
   "metadata": {},
   "source": [
    "<h3> TASK 1 STARTS HERE </h3>\n",
    "Identify the BGP for obtaining the books (with publishing date and genre) published by the two authors"
   ]
  },
  {
   "cell_type": "markdown",
   "id": "3a0f783c-3a36-4c81-9b0d-b43bf296acb3",
   "metadata": {},
   "source": [
    "Retrieve some Auster's properties."
   ]
  },
  {
   "cell_type": "code",
   "execution_count": 3,
   "id": "3bffacf2-269e-4652-8064-f43af08ecad6",
   "metadata": {},
   "outputs": [
    {
     "name": "stdout",
     "output_type": "stream",
     "text": [
      "Results\n",
      "[('p', 'http://www.wikidata.org/prop/direct/P1005'), ('pname', 'Portuguese National Library ID')]\n",
      "[('p', 'http://www.wikidata.org/prop/direct/P1006'), ('pname', 'Nationale Thesaurus voor Auteurs ID')]\n",
      "[('p', 'http://www.wikidata.org/prop/direct/P101'), ('pname', 'field of work')]\n",
      "[('p', 'http://www.wikidata.org/prop/direct/P1015'), ('pname', 'NORAF ID')]\n",
      "[('p', 'http://www.wikidata.org/prop/direct/P106'), ('pname', 'occupation')]\n",
      "[('p', 'http://www.wikidata.org/prop/direct/P108'), ('pname', 'employer')]\n",
      "[('p', 'http://www.wikidata.org/prop/direct/P1150'), ('pname', 'Regensburg Classification')]\n",
      "[('p', 'http://www.wikidata.org/prop/direct/P1207'), ('pname', 'NUKAT ID')]\n",
      "[('p', 'http://www.wikidata.org/prop/direct/P1233'), ('pname', 'Internet Speculative Fiction Database author ID')]\n",
      "[('p', 'http://www.wikidata.org/prop/direct/P1263'), ('pname', 'NNDB people ID')]\n",
      "[('p', 'http://www.wikidata.org/prop/direct/P1266'), ('pname', 'AlloCiné person ID')]\n",
      "[('p', 'http://www.wikidata.org/prop/direct/P1273'), ('pname', 'CANTIC ID')]\n",
      "[('p', 'http://www.wikidata.org/prop/direct/P1280'), ('pname', 'CONOR.SI ID')]\n",
      "[('p', 'http://www.wikidata.org/prop/direct/P1284'), ('pname', 'Munzinger person ID')]\n",
      "[('p', 'http://www.wikidata.org/prop/direct/P1289'), ('pname', 'Kritisches Lexikon zur fremdsprachigen Gegenwartsliteratur ID')]\n",
      "[('p', 'http://www.wikidata.org/prop/direct/P1296'), ('pname', 'Gran Enciclopèdia Catalana ID')]\n",
      "[('p', 'http://www.wikidata.org/prop/direct/P1309'), ('pname', 'EGAXA ID')]\n",
      "[('p', 'http://www.wikidata.org/prop/direct/P1315'), ('pname', 'NLA Trove ID')]\n",
      "[('p', 'http://www.wikidata.org/prop/direct/P1317'), ('pname', 'floruit')]\n",
      "[('p', 'http://www.wikidata.org/prop/direct/P1343'), ('pname', 'described by source')]\n",
      "[('p', 'http://www.wikidata.org/prop/direct/P136'), ('pname', 'genre')]\n",
      "[('p', 'http://www.wikidata.org/prop/direct/P1368'), ('pname', 'LNB ID')]\n",
      "[('p', 'http://www.wikidata.org/prop/direct/P1412'), ('pname', 'languages spoken, written or signed')]\n",
      "[('p', 'http://www.wikidata.org/prop/direct/P1417'), ('pname', 'Encyclopædia Britannica Online ID')]\n",
      "[('p', 'http://www.wikidata.org/prop/direct/P1559'), ('pname', 'name in native language')]\n",
      "[('p', 'http://www.wikidata.org/prop/direct/P1580'), ('pname', 'University of Barcelona authority ID')]\n",
      "[('p', 'http://www.wikidata.org/prop/direct/P166'), ('pname', 'award received')]\n",
      "[('p', 'http://www.wikidata.org/prop/direct/P1695'), ('pname', 'NLP ID (unique)')]\n",
      "[('p', 'http://www.wikidata.org/prop/direct/P1728'), ('pname', 'AllMusic artist ID')]\n",
      "[('p', 'http://www.wikidata.org/prop/direct/P1741'), ('pname', 'GTAA ID')]\n",
      "[('p', 'http://www.wikidata.org/prop/direct/P18'), ('pname', 'image')]\n",
      "[('p', 'http://www.wikidata.org/prop/direct/P19'), ('pname', 'place of birth')]\n",
      "[('p', 'http://www.wikidata.org/prop/direct/P1953'), ('pname', 'Discogs artist ID')]\n",
      "[('p', 'http://www.wikidata.org/prop/direct/P1969'), ('pname', 'MovieMeter director ID (former scheme)')]\n",
      "[('p', 'http://www.wikidata.org/prop/direct/P1977'), ('pname', 'Les Archives du Spectacle Person ID')]\n",
      "[('p', 'http://www.wikidata.org/prop/direct/P2013'), ('pname', 'Facebook ID')]\n",
      "[('p', 'http://www.wikidata.org/prop/direct/P2019'), ('pname', 'AllMovie person ID')]\n",
      "[('p', 'http://www.wikidata.org/prop/direct/P2031'), ('pname', 'work period (start)')]\n",
      "[('p', 'http://www.wikidata.org/prop/direct/P21'), ('pname', 'sex or gender')]\n",
      "[('p', 'http://www.wikidata.org/prop/direct/P213'), ('pname', 'ISNI')]\n",
      "[('p', 'http://www.wikidata.org/prop/direct/P214'), ('pname', 'VIAF ID')]\n",
      "[('p', 'http://www.wikidata.org/prop/direct/P2163'), ('pname', 'FAST ID')]\n",
      "[('p', 'http://www.wikidata.org/prop/direct/P2168'), ('pname', 'Swedish Film Database person ID')]\n",
      "[('p', 'http://www.wikidata.org/prop/direct/P2174'), ('pname', 'Museum of Modern Art artist ID')]\n",
      "[('p', 'http://www.wikidata.org/prop/direct/P2188'), ('pname', 'BiblioNet author ID')]\n",
      "[('p', 'http://www.wikidata.org/prop/direct/P2191'), ('pname', 'Vegetti Catalog of Fantastic Literature NILF ID')]\n",
      "[('p', 'http://www.wikidata.org/prop/direct/P227'), ('pname', 'GND ID')]\n",
      "[('p', 'http://www.wikidata.org/prop/direct/P2387'), ('pname', 'Elonet person ID')]\n",
      "[('p', 'http://www.wikidata.org/prop/direct/P2435'), ('pname', 'PORT person ID')]\n",
      "[('p', 'http://www.wikidata.org/prop/direct/P244'), ('pname', 'Library of Congress authority ID')]\n",
      "[('p', 'http://www.wikidata.org/prop/direct/P245'), ('pname', 'Union List of Artist Names ID')]\n",
      "[('p', 'http://www.wikidata.org/prop/direct/P2519'), ('pname', 'Scope.dk person ID')]\n",
      "[('p', 'http://www.wikidata.org/prop/direct/P26'), ('pname', 'spouse')]\n",
      "[('p', 'http://www.wikidata.org/prop/direct/P2604'), ('pname', 'Kinopoisk person ID')]\n",
      "[('p', 'http://www.wikidata.org/prop/direct/P2605'), ('pname', 'ČSFD person ID')]\n",
      "[('p', 'http://www.wikidata.org/prop/direct/P2626'), ('pname', 'Danish National Filmography person ID')]\n",
      "[('p', 'http://www.wikidata.org/prop/direct/P2638'), ('pname', 'TV.com ID')]\n",
      "[('p', 'http://www.wikidata.org/prop/direct/P268'), ('pname', 'Bibliothèque nationale de France ID')]\n",
      "[('p', 'http://www.wikidata.org/prop/direct/P269'), ('pname', 'IdRef ID')]\n",
      "[('p', 'http://www.wikidata.org/prop/direct/P27'), ('pname', 'country of citizenship')]\n",
      "[('p', 'http://www.wikidata.org/prop/direct/P271'), ('pname', 'CiNii author ID (books)')]\n",
      "[('p', 'http://www.wikidata.org/prop/direct/P2734'), ('pname', 'Unz Review author ID')]\n",
      "[('p', 'http://www.wikidata.org/prop/direct/P2924'), ('pname', 'Great Russian Encyclopedia Online ID')]\n",
      "[('p', 'http://www.wikidata.org/prop/direct/P2963'), ('pname', 'Goodreads author ID')]\n",
      "[('p', 'http://www.wikidata.org/prop/direct/P31'), ('pname', 'instance of')]\n",
      "[('p', 'http://www.wikidata.org/prop/direct/P3154'), ('pname', 'Runeberg author ID')]\n",
      "[('p', 'http://www.wikidata.org/prop/direct/P3192'), ('pname', 'Last.fm ID')]\n",
      "[('p', 'http://www.wikidata.org/prop/direct/P3219'), ('pname', 'Encyclopædia Universalis ID')]\n",
      "[('p', 'http://www.wikidata.org/prop/direct/P3222'), ('pname', 'NE.se ID')]\n",
      "[('p', 'http://www.wikidata.org/prop/direct/P3348'), ('pname', 'National Library of Greece ID')]\n",
      "[('p', 'http://www.wikidata.org/prop/direct/P3365'), ('pname', 'Treccani ID')]\n",
      "[('p', 'http://www.wikidata.org/prop/direct/P3430'), ('pname', 'SNAC ARK ID')]\n",
      "[('p', 'http://www.wikidata.org/prop/direct/P345'), ('pname', 'IMDb ID')]\n",
      "[('p', 'http://www.wikidata.org/prop/direct/P349'), ('pname', 'National Diet Library ID')]\n",
      "[('p', 'http://www.wikidata.org/prop/direct/P3569'), ('pname', 'Cultureel Woordenboek ID')]\n",
      "[('p', 'http://www.wikidata.org/prop/direct/P3630'), ('pname', 'Babelio author ID')]\n",
      "[('p', 'http://www.wikidata.org/prop/direct/P373'), ('pname', 'Commons category')]\n",
      "[('p', 'http://www.wikidata.org/prop/direct/P396'), ('pname', 'SBN author ID')]\n",
      "[('p', 'http://www.wikidata.org/prop/direct/P3987'), ('pname', 'SHARE Catalogue author ID')]\n",
      "[('p', 'http://www.wikidata.org/prop/direct/P40'), ('pname', 'child')]\n",
      "[('p', 'http://www.wikidata.org/prop/direct/P409'), ('pname', 'Libraries Australia ID')]\n",
      "[('p', 'http://www.wikidata.org/prop/direct/P4293'), ('pname', 'PM20 folder ID')]\n",
      "[('p', 'http://www.wikidata.org/prop/direct/P434'), ('pname', 'MusicBrainz artist ID')]\n",
      "[('p', 'http://www.wikidata.org/prop/direct/P4342'), ('pname', 'Store norske leksikon ID')]\n",
      "[('p', 'http://www.wikidata.org/prop/direct/P4399'), ('pname', 'Itaú Cultural ID')]\n",
      "[('p', 'http://www.wikidata.org/prop/direct/P463'), ('pname', 'member of')]\n",
      "[('p', 'http://www.wikidata.org/prop/direct/P4657'), ('pname', 'The Numbers person ID')]\n",
      "[('p', 'http://www.wikidata.org/prop/direct/P4666'), ('pname', 'CineMagia person ID')]\n",
      "[('p', 'http://www.wikidata.org/prop/direct/P4985'), ('pname', 'TMDb person ID')]\n",
      "[('p', 'http://www.wikidata.org/prop/direct/P5019'), ('pname', 'Brockhaus Enzyklopädie online ID')]\n",
      "[('p', 'http://www.wikidata.org/prop/direct/P5034'), ('pname', 'National Library of Korea ID')]\n",
      "[('p', 'http://www.wikidata.org/prop/direct/P5068'), ('pname', 'Flanders Arts Institute person ID')]\n",
      "[('p', 'http://www.wikidata.org/prop/direct/P5357'), ('pname', 'The Encyclopedia of Science Fiction ID')]\n",
      "[('p', 'http://www.wikidata.org/prop/direct/P5377'), ('pname', 'Étonnants voyageurs participant ID')]\n",
      "[('p', 'http://www.wikidata.org/prop/direct/P5408'), ('pname', 'Fantastic Fiction author ID')]\n",
      "[('p', 'http://www.wikidata.org/prop/direct/P5414'), ('pname', 'The Paris Review interviewee ID')]\n",
      "[('p', 'http://www.wikidata.org/prop/direct/P5419'), ('pname', 'NYRB contributor ID')]\n",
      "[('p', 'http://www.wikidata.org/prop/direct/P5491'), ('pname', \"BD Gest' author ID\")]\n",
      "[('p', 'http://www.wikidata.org/prop/direct/P5570'), ('pname', 'NooSFere author ID')]\n",
      "[('p', 'http://www.wikidata.org/prop/direct/P5587'), ('pname', 'Libris-URI')]\n"
     ]
    },
    {
     "data": {
      "text/plain": [
       "100"
      ]
     },
     "execution_count": 3,
     "metadata": {},
     "output_type": "execute_result"
    }
   ],
   "source": [
    "#Q1\n",
    "#have a look at some predicates related to Auster\n",
    "queryString = \"\"\"\n",
    "SELECT DISTINCT ?p ?pname WHERE { \n",
    "\n",
    "wd:Q214642 ?p ?o  . \n",
    "\n",
    "#Labels\n",
    "?p <http://schema.org/name> ?pname .\n",
    "} \n",
    "LIMIT 100\n",
    "\"\"\"\n",
    "\n",
    "print(\"Results\")\n",
    "run_query(queryString)"
   ]
  },
  {
   "cell_type": "markdown",
   "id": "0ab34b67-2147-41c6-8f58-eb5c7da43800",
   "metadata": {},
   "source": [
    "Retrieve some Auster's properties but excluding literals."
   ]
  },
  {
   "cell_type": "code",
   "execution_count": 4,
   "id": "cd749a44-e902-4121-8079-1308f4b379f4",
   "metadata": {},
   "outputs": [
    {
     "name": "stdout",
     "output_type": "stream",
     "text": [
      "Results\n",
      "[('p', 'http://www.wikidata.org/prop/direct/P101'), ('pname', 'field of work')]\n",
      "[('p', 'http://www.wikidata.org/prop/direct/P106'), ('pname', 'occupation')]\n",
      "[('p', 'http://www.wikidata.org/prop/direct/P108'), ('pname', 'employer')]\n",
      "[('p', 'http://www.wikidata.org/prop/direct/P1343'), ('pname', 'described by source')]\n",
      "[('p', 'http://www.wikidata.org/prop/direct/P136'), ('pname', 'genre')]\n",
      "[('p', 'http://www.wikidata.org/prop/direct/P1412'), ('pname', 'languages spoken, written or signed')]\n",
      "[('p', 'http://www.wikidata.org/prop/direct/P166'), ('pname', 'award received')]\n",
      "[('p', 'http://www.wikidata.org/prop/direct/P18'), ('pname', 'image')]\n",
      "[('p', 'http://www.wikidata.org/prop/direct/P19'), ('pname', 'place of birth')]\n",
      "[('p', 'http://www.wikidata.org/prop/direct/P21'), ('pname', 'sex or gender')]\n",
      "[('p', 'http://www.wikidata.org/prop/direct/P26'), ('pname', 'spouse')]\n",
      "[('p', 'http://www.wikidata.org/prop/direct/P27'), ('pname', 'country of citizenship')]\n",
      "[('p', 'http://www.wikidata.org/prop/direct/P31'), ('pname', 'instance of')]\n",
      "[('p', 'http://www.wikidata.org/prop/direct/P40'), ('pname', 'child')]\n",
      "[('p', 'http://www.wikidata.org/prop/direct/P463'), ('pname', 'member of')]\n",
      "[('p', 'http://www.wikidata.org/prop/direct/P6379'), ('pname', 'has works in the collection')]\n",
      "[('p', 'http://www.wikidata.org/prop/direct/P69'), ('pname', 'educated at')]\n",
      "[('p', 'http://www.wikidata.org/prop/direct/P7084'), ('pname', 'related category')]\n",
      "[('p', 'http://www.wikidata.org/prop/direct/P734'), ('pname', 'family name')]\n",
      "[('p', 'http://www.wikidata.org/prop/direct/P735'), ('pname', 'given name')]\n",
      "[('p', 'http://www.wikidata.org/prop/direct/P7763'), ('pname', 'copyright status as a creator')]\n",
      "[('p', 'http://www.wikidata.org/prop/direct/P800'), ('pname', 'notable work')]\n",
      "[('p', 'http://www.wikidata.org/prop/direct/P856'), ('pname', 'official website')]\n",
      "[('p', 'http://www.wikidata.org/prop/direct/P910'), ('pname', \"topic's main category\")]\n"
     ]
    },
    {
     "data": {
      "text/plain": [
       "24"
      ]
     },
     "execution_count": 4,
     "metadata": {},
     "output_type": "execute_result"
    }
   ],
   "source": [
    "#Q2\n",
    "#have a look at some predicates related to Auster, excluding literals\n",
    "queryString = \"\"\"\n",
    "SELECT DISTINCT ?p ?pname WHERE { \n",
    "\n",
    "wd:Q214642 ?p ?o  . \n",
    "FILTER(!isLiteral(?o))\n",
    "\n",
    "#Labels\n",
    "?p <http://schema.org/name> ?pname .\n",
    "} \n",
    "LIMIT 100\n",
    "\"\"\"\n",
    "\n",
    "print(\"Results\")\n",
    "run_query(queryString)"
   ]
  },
  {
   "cell_type": "markdown",
   "id": "d777b3c4-541f-4119-a146-04530f94d0e2",
   "metadata": {},
   "source": [
    "Check reverse path (book->author or something like that)."
   ]
  },
  {
   "cell_type": "code",
   "execution_count": 5,
   "id": "eb05f5e2-f08b-453a-adc7-73e7387e6428",
   "metadata": {},
   "outputs": [
    {
     "name": "stdout",
     "output_type": "stream",
     "text": [
      "Results\n",
      "Empty\n"
     ]
    },
    {
     "data": {
      "text/plain": [
       "0"
      ]
     },
     "execution_count": 5,
     "metadata": {},
     "output_type": "execute_result"
    }
   ],
   "source": [
    "#Q3\n",
    "#check reverse path (book->author or something like that)\n",
    "#wd:Q47461344\n",
    "queryString = \"\"\"\n",
    "SELECT DISTINCT ?p ?pname WHERE { \n",
    "\n",
    "wd:Q47461344 ?p wd:Q214642. \n",
    "\n",
    "#Labels\n",
    "?p <http://schema.org/name> ?pname .\n",
    "} \n",
    "LIMIT 100\n",
    "\"\"\"\n",
    "\n",
    "print(\"Results\")\n",
    "run_query(queryString)"
   ]
  },
  {
   "cell_type": "markdown",
   "id": "054db75d-4aa1-408a-9082-ff6623cf8c48",
   "metadata": {},
   "source": [
    "Book could be instance of writtenwork, add this to the previous BGP."
   ]
  },
  {
   "cell_type": "code",
   "execution_count": 6,
   "id": "58b6ea40-a20d-435d-896f-d4b52f51a128",
   "metadata": {},
   "outputs": [
    {
     "name": "stdout",
     "output_type": "stream",
     "text": [
      "Results\n",
      "[('p', 'http://www.wikidata.org/prop/direct/P50'), ('pname', 'author')]\n"
     ]
    },
    {
     "data": {
      "text/plain": [
       "1"
      ]
     },
     "execution_count": 6,
     "metadata": {},
     "output_type": "execute_result"
    }
   ],
   "source": [
    "#Q4\n",
    "#no results because probably book is instance of writtenwork, check this\n",
    "queryString = \"\"\"\n",
    "SELECT DISTINCT ?p ?pname WHERE { \n",
    "\n",
    "?book wdt:P31 wd:Q47461344. \n",
    "?book ?p wd:Q214642. \n",
    "\n",
    "#Labels\n",
    "?p <http://schema.org/name> ?pname .\n",
    "} \n",
    "LIMIT 100\n",
    "\"\"\"\n",
    "\n",
    "print(\"Results\")\n",
    "run_query(queryString)"
   ]
  },
  {
   "cell_type": "markdown",
   "id": "77512b90-30b3-4d26-b348-7a92f39186c5",
   "metadata": {},
   "source": [
    "Retrieve how many books are written by Auster."
   ]
  },
  {
   "cell_type": "code",
   "execution_count": 7,
   "id": "d9a76903-4cda-4b1c-b153-df712c982fd5",
   "metadata": {},
   "outputs": [
    {
     "name": "stdout",
     "output_type": "stream",
     "text": [
      "Results\n",
      "[('books', '16')]\n"
     ]
    },
    {
     "data": {
      "text/plain": [
       "1"
      ]
     },
     "execution_count": 7,
     "metadata": {},
     "output_type": "execute_result"
    }
   ],
   "source": [
    "#Q5\n",
    "#retrieve how many books are written by Auster\n",
    "queryString = \"\"\"\n",
    "SELECT (COUNT(*) AS ?books) WHERE { \n",
    "\n",
    "?book wdt:P31 wd:Q47461344;\n",
    "      wdt:P50 wd:Q214642. \n",
    "} \n",
    "\"\"\"\n",
    "\n",
    "print(\"Results\")\n",
    "run_query(queryString)"
   ]
  },
  {
   "cell_type": "markdown",
   "id": "5d26de31-b88c-4fa6-af17-87ef39299303",
   "metadata": {},
   "source": [
    "Retrieve predicates related to books written by Auster."
   ]
  },
  {
   "cell_type": "code",
   "execution_count": 2,
   "id": "c9193f94-49ff-49b0-9406-5afdbdeccaea",
   "metadata": {},
   "outputs": [
    {
     "name": "stdout",
     "output_type": "stream",
     "text": [
      "Results\n",
      "[('p', 'http://www.wikidata.org/prop/direct/P1085'), ('pname', 'LibraryThing work ID')]\n",
      "[('p', 'http://www.wikidata.org/prop/direct/P1104'), ('pname', 'number of pages')]\n",
      "[('p', 'http://www.wikidata.org/prop/direct/P123'), ('pname', 'publisher')]\n",
      "[('p', 'http://www.wikidata.org/prop/direct/P136'), ('pname', 'genre')]\n",
      "[('p', 'http://www.wikidata.org/prop/direct/P1417'), ('pname', 'Encyclopædia Britannica Online ID')]\n",
      "[('p', 'http://www.wikidata.org/prop/direct/P1476'), ('pname', 'title')]\n",
      "[('p', 'http://www.wikidata.org/prop/direct/P155'), ('pname', 'follows')]\n",
      "[('p', 'http://www.wikidata.org/prop/direct/P156'), ('pname', 'followed by')]\n",
      "[('p', 'http://www.wikidata.org/prop/direct/P18'), ('pname', 'image')]\n",
      "[('p', 'http://www.wikidata.org/prop/direct/P1814'), ('pname', 'name in kana')]\n",
      "[('p', 'http://www.wikidata.org/prop/direct/P214'), ('pname', 'VIAF ID')]\n",
      "[('p', 'http://www.wikidata.org/prop/direct/P2191'), ('pname', 'Vegetti Catalog of Fantastic Literature NILF ID')]\n",
      "[('p', 'http://www.wikidata.org/prop/direct/P227'), ('pname', 'GND ID')]\n",
      "[('p', 'http://www.wikidata.org/prop/direct/P243'), ('pname', 'OCLC control number')]\n",
      "[('p', 'http://www.wikidata.org/prop/direct/P2671'), ('pname', 'Google Knowledge Graph ID')]\n",
      "[('p', 'http://www.wikidata.org/prop/direct/P268'), ('pname', 'Bibliothèque nationale de France ID')]\n",
      "[('p', 'http://www.wikidata.org/prop/direct/P31'), ('pname', 'instance of')]\n",
      "[('p', 'http://www.wikidata.org/prop/direct/P3219'), ('pname', 'Encyclopædia Universalis ID')]\n",
      "[('p', 'http://www.wikidata.org/prop/direct/P3417'), ('pname', 'Quora topic ID')]\n",
      "[('p', 'http://www.wikidata.org/prop/direct/P407'), ('pname', 'language of work or name')]\n",
      "[('p', 'http://www.wikidata.org/prop/direct/P436'), ('pname', 'MusicBrainz release group ID')]\n",
      "[('p', 'http://www.wikidata.org/prop/direct/P495'), ('pname', 'country of origin')]\n",
      "[('p', 'http://www.wikidata.org/prop/direct/P50'), ('pname', 'author')]\n",
      "[('p', 'http://www.wikidata.org/prop/direct/P527'), ('pname', 'has part')]\n",
      "[('p', 'http://www.wikidata.org/prop/direct/P5331'), ('pname', 'OCLC work ID')]\n",
      "[('p', 'http://www.wikidata.org/prop/direct/P577'), ('pname', 'publication date')]\n",
      "[('p', 'http://www.wikidata.org/prop/direct/P646'), ('pname', 'Freebase ID')]\n",
      "[('p', 'http://www.wikidata.org/prop/direct/P648'), ('pname', 'Open Library ID')]\n",
      "[('p', 'http://www.wikidata.org/prop/direct/P655'), ('pname', 'translator')]\n",
      "[('p', 'http://www.wikidata.org/prop/direct/P724'), ('pname', 'Internet Archive ID')]\n",
      "[('p', 'http://www.wikidata.org/prop/direct/P747'), ('pname', 'has edition or translation')]\n",
      "[('p', 'http://www.wikidata.org/prop/direct/P8383'), ('pname', 'Goodreads work ID')]\n",
      "[('p', 'http://www.wikidata.org/prop/direct/P840'), ('pname', 'narrative location')]\n",
      "[('p', 'http://www.wikidata.org/prop/direct/P856'), ('pname', 'official website')]\n",
      "[('p', 'http://www.wikidata.org/prop/direct/P921'), ('pname', 'main subject')]\n",
      "[('p', 'http://www.wikidata.org/prop/direct/P1274'), ('pname', 'ISFDB title ID')]\n",
      "[('p', 'http://www.wikidata.org/prop/direct/P212'), ('pname', 'ISBN-13')]\n",
      "[('p', 'http://www.wikidata.org/prop/direct/P2408'), ('pname', 'set in period')]\n",
      "[('p', 'http://www.wikidata.org/prop/direct/P3959'), ('pname', 'NNL item ID')]\n",
      "[('p', 'http://www.wikidata.org/prop/direct/P5571'), ('pname', 'NooSFere book ID')]\n",
      "[('p', 'http://www.wikidata.org/prop/direct/P6175'), ('pname', 'Bitraga work ID')]\n",
      "[('p', 'http://www.wikidata.org/prop/direct/P957'), ('pname', 'ISBN-10')]\n",
      "[('p', 'http://www.wikidata.org/prop/direct/P2969'), ('pname', 'Goodreads version/edition ID')]\n"
     ]
    },
    {
     "data": {
      "text/plain": [
       "43"
      ]
     },
     "execution_count": 2,
     "metadata": {},
     "output_type": "execute_result"
    }
   ],
   "source": [
    "#Q6\n",
    "#retrieve predicates related to books written by Auster\n",
    "queryString = \"\"\"\n",
    "SELECT DISTINCT ?p ?pname WHERE { \n",
    "\n",
    "?book wdt:P31 wd:Q47461344;\n",
    "      wdt:P50 wd:Q214642;\n",
    "      ?p ?o.\n",
    "      \n",
    "#Labels\n",
    "?p <http://schema.org/name> ?pname .\n",
    "\n",
    "}\n",
    "LIMIT 100\n",
    "\"\"\"\n",
    "\n",
    "print(\"Results\")\n",
    "run_query(queryString)"
   ]
  },
  {
   "cell_type": "markdown",
   "id": "61d153c2-7764-40d1-a9b9-830c2aac65eb",
   "metadata": {},
   "source": [
    "In the previous result set I found Genre (P136) and Pubblication Date (P577).Retrieve title, genre and date of books written by Auster and McEwan. "
   ]
  },
  {
   "cell_type": "code",
   "execution_count": 4,
   "id": "dd99839d-5c07-4396-aec0-ff7f930e45a7",
   "metadata": {},
   "outputs": [
    {
     "name": "stdout",
     "output_type": "stream",
     "text": [
      "Results\n",
      "[('author', 'http://www.wikidata.org/entity/Q190379'), ('title', 'Amsterdam'), ('genre', 'http://www.wikidata.org/entity/Q8261'), ('gname', 'novel'), ('date', '1998-12-01T00:00:00Z')]\n",
      "[('author', 'http://www.wikidata.org/entity/Q190379'), ('title', 'Atonement'), ('genre', 'http://www.wikidata.org/entity/Q8261'), ('gname', 'novel'), ('date', '2001-01-01T00:00:00Z')]\n",
      "[('author', 'http://www.wikidata.org/entity/Q190379'), ('title', 'Black Dogs'), ('genre', 'http://www.wikidata.org/entity/Q8261'), ('gname', 'novel'), ('date', '1992-07-01T00:00:00Z')]\n",
      "[('author', 'http://www.wikidata.org/entity/Q190379'), ('title', 'Enduring Love'), ('genre', 'http://www.wikidata.org/entity/Q8261'), ('gname', 'novel'), ('date', '1997-01-01T00:00:00Z')]\n",
      "[('author', 'http://www.wikidata.org/entity/Q214642'), ('title', 'In the Country of Last Things'), ('genre', 'http://www.wikidata.org/entity/Q465821'), ('gname', 'epistolary novel'), ('date', '1987-01-01T00:00:00Z')]\n",
      "[('author', 'http://www.wikidata.org/entity/Q214642'), ('title', 'In the Country of Last Things'), ('genre', 'http://www.wikidata.org/entity/Q12132683'), ('gname', 'science fiction novel'), ('date', '1987-01-01T00:00:00Z')]\n",
      "[('author', 'http://www.wikidata.org/entity/Q214642'), ('title', 'In the Country of Last Things'), ('genre', 'http://www.wikidata.org/entity/Q26928598'), ('gname', 'dystopian novel'), ('date', '1987-01-01T00:00:00Z')]\n",
      "[('author', 'http://www.wikidata.org/entity/Q214642'), ('title', 'Invisible'), ('genre', 'http://www.wikidata.org/entity/Q8261'), ('gname', 'novel'), ('date', '2009-01-01T00:00:00Z')]\n",
      "[('author', 'http://www.wikidata.org/entity/Q214642'), ('title', 'Leviathan'), ('genre', 'http://www.wikidata.org/entity/Q208505'), ('gname', 'crime novel'), ('date', '1992-01-01T00:00:00Z')]\n",
      "[('author', 'http://www.wikidata.org/entity/Q214642'), ('title', 'Leviathan'), ('genre', 'http://www.wikidata.org/entity/Q186424'), ('gname', 'detective fiction'), ('date', '1992-01-01T00:00:00Z')]\n",
      "[('author', 'http://www.wikidata.org/entity/Q214642'), ('title', 'Leviathan'), ('genre', 'http://www.wikidata.org/entity/Q1328330'), ('gname', 'hardboiled'), ('date', '1992-01-01T00:00:00Z')]\n",
      "[('author', 'http://www.wikidata.org/entity/Q214642'), ('title', 'Mr. Vertigo'), ('genre', 'http://www.wikidata.org/entity/Q8261'), ('gname', 'novel'), ('date', '1994-04-05T00:00:00Z')]\n",
      "[('author', 'http://www.wikidata.org/entity/Q190379'), ('title', 'On Chesil Beach'), ('genre', 'http://www.wikidata.org/entity/Q8261'), ('gname', 'novel'), ('date', '2007-01-01T00:00:00Z')]\n",
      "[('author', 'http://www.wikidata.org/entity/Q214642'), ('title', 'Oracle Night'), ('genre', 'http://www.wikidata.org/entity/Q8261'), ('gname', 'novel'), ('date', '2003-01-01T00:00:00Z')]\n",
      "[('author', 'http://www.wikidata.org/entity/Q190379'), ('title', 'Saturday'), ('genre', 'http://www.wikidata.org/entity/Q8261'), ('gname', 'novel'), ('date', '2005-01-01T00:00:00Z')]\n",
      "[('author', 'http://www.wikidata.org/entity/Q190379'), ('title', 'Solar'), ('genre', 'http://www.wikidata.org/entity/Q8261'), ('gname', 'novel'), ('date', '2010-03-18T00:00:00Z')]\n",
      "[('author', 'http://www.wikidata.org/entity/Q214642'), ('title', 'Sunset Park'), ('genre', 'http://www.wikidata.org/entity/Q8261'), ('gname', 'novel'), ('date', '2010-01-01T00:00:00Z')]\n",
      "[('author', 'http://www.wikidata.org/entity/Q190379'), ('title', 'Sweet Tooth'), ('genre', 'http://www.wikidata.org/entity/Q8261'), ('gname', 'novel'), ('date', '2012-01-01T00:00:00Z')]\n",
      "[('author', 'http://www.wikidata.org/entity/Q214642'), ('title', 'The Book of Illusions'), ('genre', 'http://www.wikidata.org/entity/Q8261'), ('gname', 'novel'), ('date', '2002-01-01T00:00:00Z')]\n",
      "[('author', 'http://www.wikidata.org/entity/Q214642'), ('title', 'The Brooklyn Follies'), ('genre', 'http://www.wikidata.org/entity/Q8261'), ('gname', 'novel'), ('date', '2005-01-01T00:00:00Z')]\n",
      "[('author', 'http://www.wikidata.org/entity/Q190379'), ('title', 'The Cement Garden'), ('genre', 'http://www.wikidata.org/entity/Q8261'), ('gname', 'novel'), ('date', '1978-01-01T00:00:00Z')]\n",
      "[('author', 'http://www.wikidata.org/entity/Q190379'), ('title', 'The Child in Time'), ('genre', 'http://www.wikidata.org/entity/Q8261'), ('gname', 'novel'), ('date', '1987-01-01T00:00:00Z')]\n",
      "[('author', 'http://www.wikidata.org/entity/Q190379'), ('title', 'The Comfort of Strangers'), ('genre', 'http://www.wikidata.org/entity/Q8261'), ('gname', 'novel'), ('date', '1981-01-01T00:00:00Z')]\n",
      "[('author', 'http://www.wikidata.org/entity/Q214642'), ('title', 'The Music of Chance'), ('genre', 'http://www.wikidata.org/entity/Q8261'), ('gname', 'novel'), ('date', '1990-01-01T00:00:00Z')]\n",
      "[('author', 'http://www.wikidata.org/entity/Q214642'), ('title', 'The Music of Chance'), ('genre', 'http://www.wikidata.org/entity/Q1328330'), ('gname', 'hardboiled'), ('date', '1990-01-01T00:00:00Z')]\n",
      "[('author', 'http://www.wikidata.org/entity/Q214642'), ('title', 'The New York Trilogy'), ('genre', 'http://www.wikidata.org/entity/Q8261'), ('gname', 'novel'), ('date', '1987-01-01T00:00:00Z')]\n",
      "[('author', 'http://www.wikidata.org/entity/Q214642'), ('title', 'The New York Trilogy'), ('genre', 'http://www.wikidata.org/entity/Q6585139'), ('gname', 'mystery fiction'), ('date', '1987-01-01T00:00:00Z')]\n",
      "[('author', 'http://www.wikidata.org/entity/Q214642'), ('title', 'Timbuktu'), ('genre', 'http://www.wikidata.org/entity/Q8261'), ('gname', 'novel'), ('date', '1999-05-01T00:00:00Z')]\n",
      "[('author', 'http://www.wikidata.org/entity/Q214642'), ('title', 'Timbuktu'), ('genre', 'http://www.wikidata.org/entity/Q149537'), ('gname', 'novella'), ('date', '1999-05-01T00:00:00Z')]\n",
      "[('author', 'http://www.wikidata.org/entity/Q214642'), ('title', 'Travels in the Scriptorium'), ('genre', 'http://www.wikidata.org/entity/Q8261'), ('gname', 'novel'), ('date', '2006-01-01T00:00:00Z')]\n"
     ]
    },
    {
     "data": {
      "text/plain": [
       "30"
      ]
     },
     "execution_count": 4,
     "metadata": {},
     "output_type": "execute_result"
    }
   ],
   "source": [
    "#Q7\n",
    "#i found out Genre (P136) and Pubblication Date (P577)\n",
    "#retrieve title, genre and date of books written by Auster and McEwan\n",
    "queryString = \"\"\"\n",
    "SELECT ?author ?title ?genre ?gname ?date WHERE { \n",
    "\n",
    "?book wdt:P31 wd:Q47461344;\n",
    "      wdt:P50 ?author;\n",
    "      wdt:P136 ?genre;\n",
    "      wdt:P1476 ?title;\n",
    "      wdt:P577 ?date.\n",
    "      \n",
    "VALUES ?author {wd:Q190379 wd:Q214642}\n",
    "\n",
    "#Labels\n",
    "?genre <http://schema.org/name> ?gname .\n",
    "\n",
    "}\n",
    "ORDER BY ?title ?date\n",
    "LIMIT 100\n",
    "\"\"\"\n",
    "\n",
    "print(\"Results\")\n",
    "run_query(queryString)"
   ]
  },
  {
   "cell_type": "markdown",
   "id": "e0ec02c7-236c-4a57-b97e-c6b78b41870f",
   "metadata": {},
   "source": [
    "As before but using group concat on genre, optional on date and gnere."
   ]
  },
  {
   "cell_type": "code",
   "execution_count": 7,
   "id": "384a76b2-31c0-4c22-9544-8ce4d88ac637",
   "metadata": {},
   "outputs": [
    {
     "name": "stdout",
     "output_type": "stream",
     "text": [
      "Results\n",
      "[('author', 'http://www.wikidata.org/entity/Q190379'), ('title', 'Amsterdam'), ('genres', 'http://www.wikidata.org/entity/Q8261'), ('date', '1998-12-01T00:00:00Z')]\n",
      "[('author', 'http://www.wikidata.org/entity/Q190379'), ('title', 'Atonement'), ('genres', 'http://www.wikidata.org/entity/Q8261'), ('date', '2001-01-01T00:00:00Z')]\n",
      "[('author', 'http://www.wikidata.org/entity/Q190379'), ('title', 'Black Dogs'), ('genres', 'http://www.wikidata.org/entity/Q8261'), ('date', '1992-07-01T00:00:00Z')]\n",
      "[('author', 'http://www.wikidata.org/entity/Q190379'), ('title', 'Enduring Love'), ('genres', 'http://www.wikidata.org/entity/Q8261'), ('date', '1997-01-01T00:00:00Z')]\n",
      "[('author', 'http://www.wikidata.org/entity/Q214642'), ('title', 'In the Country of Last Things'), ('genres', 'http://www.wikidata.org/entity/Q465821,http://www.wikidata.org/entity/Q12132683,http://www.wikidata.org/entity/Q26928598'), ('date', '1987-01-01T00:00:00Z')]\n",
      "[('author', 'http://www.wikidata.org/entity/Q214642'), ('title', 'Invisible'), ('genres', 'http://www.wikidata.org/entity/Q8261'), ('date', '2009-01-01T00:00:00Z')]\n",
      "[('author', 'http://www.wikidata.org/entity/Q214642'), ('title', 'Leviathan'), ('genres', 'http://www.wikidata.org/entity/Q208505,http://www.wikidata.org/entity/Q186424,http://www.wikidata.org/entity/Q1328330'), ('date', '1992-01-01T00:00:00Z')]\n",
      "[('author', 'http://www.wikidata.org/entity/Q214642'), ('title', 'Mr. Vertigo'), ('genres', 'http://www.wikidata.org/entity/Q8261'), ('date', '1994-04-05T00:00:00Z')]\n",
      "[('author', 'http://www.wikidata.org/entity/Q190379'), ('title', 'On Chesil Beach'), ('genres', 'http://www.wikidata.org/entity/Q8261'), ('date', '2007-01-01T00:00:00Z')]\n",
      "[('author', 'http://www.wikidata.org/entity/Q214642'), ('title', 'Oracle Night'), ('genres', 'http://www.wikidata.org/entity/Q8261'), ('date', '2003-01-01T00:00:00Z')]\n",
      "[('author', 'http://www.wikidata.org/entity/Q190379'), ('title', 'Saturday'), ('genres', 'http://www.wikidata.org/entity/Q8261'), ('date', '2005-01-01T00:00:00Z')]\n",
      "[('author', 'http://www.wikidata.org/entity/Q190379'), ('title', 'Solar'), ('genres', 'http://www.wikidata.org/entity/Q8261'), ('date', '2010-03-18T00:00:00Z')]\n",
      "[('author', 'http://www.wikidata.org/entity/Q214642'), ('title', 'Sunset Park'), ('genres', 'http://www.wikidata.org/entity/Q8261'), ('date', '2010-01-01T00:00:00Z')]\n",
      "[('author', 'http://www.wikidata.org/entity/Q190379'), ('title', 'Sweet Tooth'), ('genres', 'http://www.wikidata.org/entity/Q8261'), ('date', '2012-01-01T00:00:00Z')]\n",
      "[('author', 'http://www.wikidata.org/entity/Q214642'), ('title', 'The Book of Illusions'), ('genres', 'http://www.wikidata.org/entity/Q8261'), ('date', '2002-01-01T00:00:00Z')]\n",
      "[('author', 'http://www.wikidata.org/entity/Q214642'), ('title', 'The Brooklyn Follies'), ('genres', 'http://www.wikidata.org/entity/Q8261'), ('date', '2005-01-01T00:00:00Z')]\n",
      "[('author', 'http://www.wikidata.org/entity/Q190379'), ('title', 'The Cement Garden'), ('genres', 'http://www.wikidata.org/entity/Q8261'), ('date', '1978-01-01T00:00:00Z')]\n",
      "[('author', 'http://www.wikidata.org/entity/Q190379'), ('title', 'The Child in Time'), ('genres', 'http://www.wikidata.org/entity/Q8261'), ('date', '1987-01-01T00:00:00Z')]\n",
      "[('author', 'http://www.wikidata.org/entity/Q190379'), ('title', 'The Comfort of Strangers'), ('genres', 'http://www.wikidata.org/entity/Q8261'), ('date', '1981-01-01T00:00:00Z')]\n",
      "[('author', 'http://www.wikidata.org/entity/Q214642'), ('title', 'The Invention of Solitude'), ('genres', 'http://www.wikidata.org/entity/Q112983,http://www.wikidata.org/entity/Q4184')]\n",
      "[('author', 'http://www.wikidata.org/entity/Q214642'), ('title', 'The Music of Chance'), ('genres', 'http://www.wikidata.org/entity/Q8261,http://www.wikidata.org/entity/Q1328330'), ('date', '1990-01-01T00:00:00Z')]\n",
      "[('author', 'http://www.wikidata.org/entity/Q214642'), ('title', 'The New York Trilogy'), ('genres', 'http://www.wikidata.org/entity/Q8261,http://www.wikidata.org/entity/Q6585139'), ('date', '1987-01-01T00:00:00Z')]\n",
      "[('author', 'http://www.wikidata.org/entity/Q214642'), ('title', 'Timbuktu'), ('genres', 'http://www.wikidata.org/entity/Q8261,http://www.wikidata.org/entity/Q149537'), ('date', '1999-05-01T00:00:00Z')]\n",
      "[('author', 'http://www.wikidata.org/entity/Q214642'), ('title', 'Travels in the Scriptorium'), ('genres', 'http://www.wikidata.org/entity/Q8261'), ('date', '2006-01-01T00:00:00Z')]\n"
     ]
    },
    {
     "data": {
      "text/plain": [
       "24"
      ]
     },
     "execution_count": 7,
     "metadata": {},
     "output_type": "execute_result"
    }
   ],
   "source": [
    "#Q8\n",
    "#as previous but use group concat on genre\n",
    "#add also optional on date and genre\n",
    "queryString = \"\"\"\n",
    "SELECT ?author ?title ?genres ?date WHERE{\n",
    "  \n",
    "?book wdt:P50 ?author;\n",
    "      wdt:P1476 ?title.\n",
    "OPTIONAL { ?book wdt:P577 ?date.}\n",
    "\n",
    "{SELECT ?book (GROUP_CONCAT(?genre;SEPARATOR=\",\") AS ?genres) WHERE { \n",
    "\n",
    "?book wdt:P31 wd:Q47461344;\n",
    "      wdt:P50 ?author.\n",
    "  \n",
    "VALUES ?author {wd:Q190379 wd:Q214642}\n",
    "  \n",
    "OPTIONAL { ?book wdt:P136 ?genre.}  \n",
    "}\n",
    "GROUP BY (?book)}\n",
    "\n",
    "}\n",
    "ORDER BY ?title\n",
    "LIMIT 100\n",
    "\"\"\"\n",
    "\n",
    "print(\"Results\")\n",
    "run_query(queryString)"
   ]
  },
  {
   "cell_type": "markdown",
   "id": "55b62e08-8bb1-4cc8-a774-9ac4e3cf81b3",
   "metadata": {},
   "source": [
    "Retrieve how many books are written by McEwan."
   ]
  },
  {
   "cell_type": "code",
   "execution_count": 8,
   "id": "c16c7ebc-00a7-4f34-bd83-0781ecace9e5",
   "metadata": {},
   "outputs": [
    {
     "name": "stdout",
     "output_type": "stream",
     "text": [
      "Results\n",
      "[('books', '12')]\n"
     ]
    },
    {
     "data": {
      "text/plain": [
       "1"
      ]
     },
     "execution_count": 8,
     "metadata": {},
     "output_type": "execute_result"
    }
   ],
   "source": [
    "#Q9\n",
    "#retrieve how many books are written by McEwan\n",
    "queryString = \"\"\"\n",
    "SELECT (COUNT(*) AS ?books) WHERE { \n",
    "\n",
    "?book wdt:P31 wd:Q47461344;\n",
    "      wdt:P50 wd:Q190379. \n",
    "} \n",
    "\"\"\"\n",
    "\n",
    "print(\"Results\")\n",
    "run_query(queryString)"
   ]
  },
  {
   "cell_type": "markdown",
   "id": "cbd77d3b-7333-4f17-80aa-3550f76ffa5b",
   "metadata": {},
   "source": [
    "Result of Q8 should be 28."
   ]
  },
  {
   "cell_type": "code",
   "execution_count": 9,
   "id": "57250535-9d7d-4ac8-9a18-cbb447afac0b",
   "metadata": {},
   "outputs": [
    {
     "name": "stdout",
     "output_type": "stream",
     "text": [
      "Results\n",
      "[('books', '24')]\n"
     ]
    },
    {
     "data": {
      "text/plain": [
       "1"
      ]
     },
     "execution_count": 9,
     "metadata": {},
     "output_type": "execute_result"
    }
   ],
   "source": [
    "#Q10\n",
    "#total result of Q8 should be 28 \n",
    "queryString = \"\"\"\n",
    "SELECT (COUNT(*) AS ?books) WHERE { \n",
    "\n",
    "?book wdt:P31 wd:Q47461344;\n",
    "      wdt:P1476 ?title;\n",
    "      wdt:P50 ?author. \n",
    "VALUES ?author {wd:Q190379 wd:Q214642}\n",
    "}\n",
    "LIMIT 25\n",
    "\"\"\"\n",
    "\n",
    "print(\"Results\")\n",
    "run_query(queryString)"
   ]
  },
  {
   "cell_type": "markdown",
   "id": "db294604-699e-4c3d-8478-429f097a3675",
   "metadata": {},
   "source": [
    "Some books don't have title property so i'll re-run Q8 just using label instead of title."
   ]
  },
  {
   "cell_type": "code",
   "execution_count": 10,
   "id": "b8a925f9-c4cf-4f30-b5f0-c2815b1a553d",
   "metadata": {},
   "outputs": [
    {
     "name": "stdout",
     "output_type": "stream",
     "text": [
      "Results\n",
      "[('author', 'http://www.wikidata.org/entity/Q214642'), ('book', 'http://www.wikidata.org/entity/Q1951470'), ('bname', 'Mr. Vertigo'), ('genres', 'http://www.wikidata.org/entity/Q8261'), ('date', '1994-04-05T00:00:00Z')]\n",
      "[('author', 'http://www.wikidata.org/entity/Q214642'), ('book', 'http://www.wikidata.org/entity/Q492991'), ('bname', 'Timbuktu'), ('genres', 'http://www.wikidata.org/entity/Q8261,http://www.wikidata.org/entity/Q149537'), ('date', '1999-05-01T00:00:00Z')]\n",
      "[('author', 'http://www.wikidata.org/entity/Q214642'), ('book', 'http://www.wikidata.org/entity/Q581485'), ('bname', 'The Book of Illusions'), ('genres', 'http://www.wikidata.org/entity/Q8261'), ('date', '2002-01-01T00:00:00Z')]\n",
      "[('author', 'http://www.wikidata.org/entity/Q214642'), ('book', 'http://www.wikidata.org/entity/Q526792'), ('bname', 'Travels in the Scriptorium'), ('genres', 'http://www.wikidata.org/entity/Q8261'), ('date', '2006-01-01T00:00:00Z')]\n",
      "[('author', 'http://www.wikidata.org/entity/Q190379'), ('book', 'http://www.wikidata.org/entity/Q1723053'), ('bname', 'Saturday'), ('genres', 'http://www.wikidata.org/entity/Q8261'), ('date', '2005-01-01T00:00:00Z')]\n",
      "[('author', 'http://www.wikidata.org/entity/Q214642'), ('book', 'http://www.wikidata.org/entity/Q1817920'), ('bname', 'Man in the Dark'), ('genres', 'http://www.wikidata.org/entity/Q8261'), ('date', '2008-01-01T00:00:00Z')]\n",
      "[('author', 'http://www.wikidata.org/entity/Q214642'), ('book', 'http://www.wikidata.org/entity/Q1322083'), ('bname', 'Sunset Park'), ('genres', 'http://www.wikidata.org/entity/Q8261'), ('date', '2010-01-01T00:00:00Z')]\n",
      "[('author', 'http://www.wikidata.org/entity/Q214642'), ('book', 'http://www.wikidata.org/entity/Q1584652'), ('bname', 'Invisible'), ('genres', 'http://www.wikidata.org/entity/Q8261'), ('date', '2009-01-01T00:00:00Z')]\n",
      "[('author', 'http://www.wikidata.org/entity/Q214642'), ('book', 'http://www.wikidata.org/entity/Q1215203'), ('bname', 'The New York Trilogy'), ('genres', 'http://www.wikidata.org/entity/Q8261,http://www.wikidata.org/entity/Q6585139'), ('date', '1987-01-01T00:00:00Z')]\n",
      "[('author', 'http://www.wikidata.org/entity/Q214642'), ('book', 'http://www.wikidata.org/entity/Q1506280'), ('bname', 'In the Country of Last Things'), ('genres', 'http://www.wikidata.org/entity/Q465821,http://www.wikidata.org/entity/Q12132683,http://www.wikidata.org/entity/Q26928598'), ('date', '1987-01-01T00:00:00Z')]\n",
      "[('author', 'http://www.wikidata.org/entity/Q214642'), ('book', 'http://www.wikidata.org/entity/Q1944147'), ('bname', 'Moon Palace'), ('genres', 'http://www.wikidata.org/entity/Q44563,http://www.wikidata.org/entity/Q11661562'), ('date', '1989-02-01T00:00:00Z')]\n",
      "[('author', 'http://www.wikidata.org/entity/Q190379'), ('book', 'http://www.wikidata.org/entity/Q306619'), ('bname', 'Atonement'), ('genres', 'http://www.wikidata.org/entity/Q8261'), ('date', '2001-01-01T00:00:00Z')]\n",
      "[('author', 'http://www.wikidata.org/entity/Q214642'), ('book', 'http://www.wikidata.org/entity/Q1214916'), ('bname', 'The Music of Chance'), ('genres', 'http://www.wikidata.org/entity/Q8261,http://www.wikidata.org/entity/Q1328330'), ('date', '1990-01-01T00:00:00Z')]\n",
      "[('author', 'http://www.wikidata.org/entity/Q214642'), ('book', 'http://www.wikidata.org/entity/Q1821899'), ('bname', 'Leviathan'), ('genres', 'http://www.wikidata.org/entity/Q208505,http://www.wikidata.org/entity/Q186424,http://www.wikidata.org/entity/Q1328330'), ('date', '1992-01-01T00:00:00Z')]\n",
      "[('author', 'http://www.wikidata.org/entity/Q214642'), ('book', 'http://www.wikidata.org/entity/Q1211751'), ('bname', 'The Brooklyn Follies'), ('genres', 'http://www.wikidata.org/entity/Q8261'), ('date', '2005-01-01T00:00:00Z')]\n",
      "[('author', 'http://www.wikidata.org/entity/Q214642'), ('book', 'http://www.wikidata.org/entity/Q1258502'), ('bname', 'Oracle Night'), ('genres', 'http://www.wikidata.org/entity/Q8261'), ('date', '2003-01-01T00:00:00Z')]\n",
      "[('author', 'http://www.wikidata.org/entity/Q190379'), ('book', 'http://www.wikidata.org/entity/Q1704438'), ('bname', 'Black Dogs'), ('genres', 'http://www.wikidata.org/entity/Q8261'), ('date', '1992-07-01T00:00:00Z')]\n",
      "[('author', 'http://www.wikidata.org/entity/Q190379'), ('book', 'http://www.wikidata.org/entity/Q451491'), ('bname', 'On Chesil Beach'), ('genres', 'http://www.wikidata.org/entity/Q8261'), ('date', '2007-01-01T00:00:00Z')]\n",
      "[('author', 'http://www.wikidata.org/entity/Q190379'), ('book', 'http://www.wikidata.org/entity/Q1198186'), ('bname', 'The Cement Garden'), ('genres', 'http://www.wikidata.org/entity/Q8261'), ('date', '1978-01-01T00:00:00Z')]\n",
      "[('author', 'http://www.wikidata.org/entity/Q190379'), ('book', 'http://www.wikidata.org/entity/Q478433'), ('bname', 'Amsterdam'), ('genres', 'http://www.wikidata.org/entity/Q8261'), ('date', '1998-12-01T00:00:00Z')]\n",
      "[('author', 'http://www.wikidata.org/entity/Q190379'), ('book', 'http://www.wikidata.org/entity/Q1531861'), ('bname', 'Solar'), ('genres', 'http://www.wikidata.org/entity/Q8261'), ('date', '2010-03-18T00:00:00Z')]\n",
      "[('author', 'http://www.wikidata.org/entity/Q190379'), ('book', 'http://www.wikidata.org/entity/Q2920448'), ('bname', 'Enduring Love'), ('genres', 'http://www.wikidata.org/entity/Q8261'), ('date', '1997-01-01T00:00:00Z')]\n",
      "[('author', 'http://www.wikidata.org/entity/Q190379'), ('book', 'http://www.wikidata.org/entity/Q1754953'), ('bname', 'The Comfort of Strangers'), ('genres', 'http://www.wikidata.org/entity/Q8261'), ('date', '1981-01-01T00:00:00Z')]\n",
      "[('author', 'http://www.wikidata.org/entity/Q190379'), ('book', 'http://www.wikidata.org/entity/Q1747269'), ('bname', 'The Child in Time'), ('genres', 'http://www.wikidata.org/entity/Q8261'), ('date', '1987-01-01T00:00:00Z')]\n",
      "[('author', 'http://www.wikidata.org/entity/Q190379'), ('book', 'http://www.wikidata.org/entity/Q972609'), ('bname', 'Sweet Tooth'), ('genres', 'http://www.wikidata.org/entity/Q8261'), ('date', '2012-01-01T00:00:00Z')]\n",
      "[('author', 'http://www.wikidata.org/entity/Q190379'), ('book', 'http://www.wikidata.org/entity/Q3819411'), ('bname', 'The Daydreamer'), ('genres', 'http://www.wikidata.org/entity/Q8261'), ('date', '1994-01-01T00:00:00Z')]\n",
      "[('author', 'http://www.wikidata.org/entity/Q214642'), ('book', 'http://www.wikidata.org/entity/Q1212217'), ('bname', 'The Invention of Solitude'), ('genres', 'http://www.wikidata.org/entity/Q112983,http://www.wikidata.org/entity/Q4184')]\n",
      "[('author', 'http://www.wikidata.org/entity/Q214642'), ('book', 'http://www.wikidata.org/entity/Q3067425'), ('bname', 'Squeeze Play'), ('genres', 'http://www.wikidata.org/entity/Q208505')]\n"
     ]
    },
    {
     "data": {
      "text/plain": [
       "28"
      ]
     },
     "execution_count": 10,
     "metadata": {},
     "output_type": "execute_result"
    }
   ],
   "source": [
    "#Q11\n",
    "#some books don't have title property so i'll re-run Q8 just using label instead of title\n",
    "queryString = \"\"\"\n",
    "SELECT ?author ?book ?bname ?genres ?date WHERE{\n",
    "  \n",
    "?book wdt:P50 ?author.\n",
    "OPTIONAL { ?book wdt:P577 ?date.}\n",
    "\n",
    "{SELECT ?book (GROUP_CONCAT(?genre;SEPARATOR=\",\") AS ?genres) WHERE { \n",
    "\n",
    "?book wdt:P31 wd:Q47461344;\n",
    "      wdt:P50 ?author.\n",
    "  \n",
    "VALUES ?author {wd:Q190379 wd:Q214642}\n",
    "  \n",
    "OPTIONAL { ?book wdt:P136 ?genre.}  \n",
    "}\n",
    "GROUP BY (?book)}\n",
    "\n",
    "#Labels\n",
    "?book <http://schema.org/name> ?bname .\n",
    "}\n",
    "LIMIT 100\n",
    "\"\"\"\n",
    "\n",
    "print(\"Results\")\n",
    "run_query(queryString)"
   ]
  },
  {
   "cell_type": "markdown",
   "id": "22361075-3f16-4fcb-ac2b-fb9865c61a75",
   "metadata": {},
   "source": [
    "<h3> TASK 1 ENDS HERE </h3>\n",
    "In Q11 I retrieved book name, genres and pubblication date. To do that, i used P136 and P577, i also found out P1476 (title) but some books don't have\n",
    "it so i prefered to use the label."
   ]
  },
  {
   "cell_type": "markdown",
   "id": "33ae8b28-732a-49a6-8688-8727d27769a1",
   "metadata": {},
   "source": [
    "<h3> TASK 2 STARTS HERE </h3>\n",
    "Did the authors published a book in the same year? What is the longest period without publishing a book for the two authors? "
   ]
  },
  {
   "cell_type": "markdown",
   "id": "f2e06dce-c921-41b5-ba3c-d448e12b6077",
   "metadata": {},
   "source": [
    "Check if some books have the same pubblication date."
   ]
  },
  {
   "cell_type": "code",
   "execution_count": 14,
   "id": "82d33f89-23f5-4415-ab27-ce39a44d77f3",
   "metadata": {},
   "outputs": [
    {
     "name": "stdout",
     "output_type": "stream",
     "text": [
      "Results\n",
      "Empty\n"
     ]
    },
    {
     "data": {
      "text/plain": [
       "0"
      ]
     },
     "execution_count": 14,
     "metadata": {},
     "output_type": "execute_result"
    }
   ],
   "source": [
    "#Q13\n",
    "#check if some books have the same pubblication date\n",
    "queryString = \"\"\"\n",
    "SELECT DISTINCT ?book ?date1 WHERE {\n",
    "\n",
    "?book wdt:P31 wd:Q47461344;\n",
    "      wdt:P50 ?a1;\n",
    "      wdt:P577 ?date1.\n",
    "VALUES ?a1 {wd:Q190379 wd:Q214642}\n",
    "\n",
    "{SELECT ?b2 ?date2 WHERE { \n",
    "\n",
    "?b2 wdt:P31 wd:Q47461344;\n",
    "      wdt:P50 ?a2;\n",
    "      wdt:P577 ?date2.      \n",
    "VALUES ?a2 {wd:Q190379 wd:Q214642}}}\n",
    "\n",
    "FILTER( (?date1=?date2) && (?a1!=?a2) )\n",
    "}\n",
    "ORDER BY ?date1\n",
    "LIMIT 100\n",
    "\"\"\"\n",
    "\n",
    "print(\"Results\")\n",
    "run_query(queryString)"
   ]
  },
  {
   "cell_type": "markdown",
   "id": "d036b713-06de-4a4a-9c5c-0c4cff17d8e7",
   "metadata": {},
   "source": [
    "Pubblication date is a single day so it's logical to have no results, try to change previous query to just consider the year."
   ]
  },
  {
   "cell_type": "code",
   "execution_count": 16,
   "id": "cc93b25d-2a12-4f84-bbd7-f57c0ef31e6d",
   "metadata": {},
   "outputs": [
    {
     "name": "stdout",
     "output_type": "stream",
     "text": [
      "Results\n",
      "[('b1', 'http://www.wikidata.org/entity/Q3819411'), ('b2', 'http://www.wikidata.org/entity/Q1951470'), ('y1', '1994'), ('y2', '1994')]\n",
      "[('b1', 'http://www.wikidata.org/entity/Q1747269'), ('b2', 'http://www.wikidata.org/entity/Q1506280'), ('y1', '1987'), ('y2', '1987')]\n",
      "[('b1', 'http://www.wikidata.org/entity/Q1747269'), ('b2', 'http://www.wikidata.org/entity/Q1215203'), ('y1', '1987'), ('y2', '1987')]\n",
      "[('b1', 'http://www.wikidata.org/entity/Q1723053'), ('b2', 'http://www.wikidata.org/entity/Q1211751'), ('y1', '2005'), ('y2', '2005')]\n",
      "[('b1', 'http://www.wikidata.org/entity/Q1704438'), ('b2', 'http://www.wikidata.org/entity/Q1821899'), ('y1', '1992'), ('y2', '1992')]\n",
      "[('b1', 'http://www.wikidata.org/entity/Q1531861'), ('b2', 'http://www.wikidata.org/entity/Q1322083'), ('y1', '2010'), ('y2', '2010')]\n"
     ]
    },
    {
     "data": {
      "text/plain": [
       "6"
      ]
     },
     "execution_count": 16,
     "metadata": {},
     "output_type": "execute_result"
    }
   ],
   "source": [
    "#Q14\n",
    "#pubblication date is a single day so it's logical to have no results, try to change previous query to just consider the year\n",
    "queryString = \"\"\"\n",
    "SELECT ?b1 ?b2 ?y1 ?y2\n",
    "WHERE  { \n",
    "{SELECT ?b1 ?y1 WHERE{\n",
    "?b1 wdt:P31 wd:Q47461344;\n",
    "      wdt:P50 wd:Q190379;\n",
    "      wdt:P577 ?date1.\n",
    "BIND(YEAR(?date1) AS ?y1)\n",
    "}}\n",
    "{SELECT ?b2 ?y2 WHERE{ \n",
    "?b2 wdt:P31 wd:Q47461344;\n",
    "      wdt:P50 wd:Q214642;\n",
    "      wdt:P577 ?date2.\n",
    "BIND(YEAR(?date2) AS ?y2)} \n",
    "}\n",
    "FILTER((?b1!=?b2)&&(?y1=?y2))\n",
    "}\n",
    "\"\"\"\n",
    "\n",
    "print(\"Results\")\n",
    "run_query(queryString)"
   ]
  },
  {
   "cell_type": "markdown",
   "id": "dfccb5a7-0f05-40d5-872a-995404e95967",
   "metadata": {},
   "source": [
    "Add a constraint to check that also the author is different."
   ]
  },
  {
   "cell_type": "code",
   "execution_count": 18,
   "id": "ba44e1b0-bc77-4d73-ab01-00a84b62dd4f",
   "metadata": {},
   "outputs": [
    {
     "name": "stdout",
     "output_type": "stream",
     "text": [
      "Results\n",
      "[('b1', 'http://www.wikidata.org/entity/Q1747269'), ('b2', 'http://www.wikidata.org/entity/Q1506280'), ('y1', '1987')]\n",
      "[('b1', 'http://www.wikidata.org/entity/Q1747269'), ('b2', 'http://www.wikidata.org/entity/Q1215203'), ('y1', '1987')]\n",
      "[('b1', 'http://www.wikidata.org/entity/Q1704438'), ('b2', 'http://www.wikidata.org/entity/Q1821899'), ('y1', '1992')]\n",
      "[('b1', 'http://www.wikidata.org/entity/Q3819411'), ('b2', 'http://www.wikidata.org/entity/Q1951470'), ('y1', '1994')]\n",
      "[('b1', 'http://www.wikidata.org/entity/Q1723053'), ('b2', 'http://www.wikidata.org/entity/Q1211751'), ('y1', '2005')]\n",
      "[('b1', 'http://www.wikidata.org/entity/Q1531861'), ('b2', 'http://www.wikidata.org/entity/Q1322083'), ('y1', '2010')]\n"
     ]
    },
    {
     "data": {
      "text/plain": [
       "6"
      ]
     },
     "execution_count": 18,
     "metadata": {},
     "output_type": "execute_result"
    }
   ],
   "source": [
    "#Q15\n",
    "#add a constraint to check that also the author is different\n",
    "queryString = \"\"\"\n",
    "SELECT ?b1 ?b2 ?y1\n",
    "WHERE  { \n",
    "{SELECT ?b1 ?y1 ?a1 WHERE{\n",
    "?b1 wdt:P31 wd:Q47461344;\n",
    "      wdt:P50 wd:Q190379;\n",
    "      wdt:P50 ?a1;\n",
    "      wdt:P577 ?date1.\n",
    "BIND(YEAR(?date1) AS ?y1)\n",
    "}}\n",
    "{SELECT ?b2 ?y2 ?a2 WHERE{ \n",
    "?b2 wdt:P31 wd:Q47461344;\n",
    "      wdt:P50 wd:Q214642;\n",
    "      wdt:P50 ?a2;\n",
    "      wdt:P577 ?date2.\n",
    "BIND(YEAR(?date2) AS ?y2)\n",
    "} \n",
    "}\n",
    "FILTER((?a1!=?a2)&&(?y1=?y2))\n",
    "}\n",
    "ORDER BY ?y1\n",
    "LIMIT 100\n",
    "\"\"\"\n",
    "\n",
    "print(\"Results\")\n",
    "run_query(queryString)"
   ]
  },
  {
   "cell_type": "markdown",
   "id": "9974e0e8-7508-495f-8e22-a1b950ff4028",
   "metadata": {},
   "source": [
    "Retrieve the chronological order of books written by Auster."
   ]
  },
  {
   "cell_type": "code",
   "execution_count": 19,
   "id": "7f342b97-2074-4ac1-bc89-0d2b8de3b1d4",
   "metadata": {},
   "outputs": [
    {
     "name": "stdout",
     "output_type": "stream",
     "text": [
      "Results\n",
      "[('book', 'http://www.wikidata.org/entity/Q1215203'), ('year', '1987')]\n",
      "[('book', 'http://www.wikidata.org/entity/Q1506280'), ('year', '1987')]\n",
      "[('book', 'http://www.wikidata.org/entity/Q1944147'), ('year', '1989')]\n",
      "[('book', 'http://www.wikidata.org/entity/Q1214916'), ('year', '1990')]\n",
      "[('book', 'http://www.wikidata.org/entity/Q1821899'), ('year', '1992')]\n",
      "[('book', 'http://www.wikidata.org/entity/Q1951470'), ('year', '1994')]\n",
      "[('book', 'http://www.wikidata.org/entity/Q492991'), ('year', '1999')]\n",
      "[('book', 'http://www.wikidata.org/entity/Q581485'), ('year', '2002')]\n",
      "[('book', 'http://www.wikidata.org/entity/Q1258502'), ('year', '2003')]\n",
      "[('book', 'http://www.wikidata.org/entity/Q1211751'), ('year', '2005')]\n",
      "[('book', 'http://www.wikidata.org/entity/Q526792'), ('year', '2006')]\n",
      "[('book', 'http://www.wikidata.org/entity/Q1817920'), ('year', '2008')]\n",
      "[('book', 'http://www.wikidata.org/entity/Q1584652'), ('year', '2009')]\n",
      "[('book', 'http://www.wikidata.org/entity/Q1322083'), ('year', '2010')]\n"
     ]
    },
    {
     "data": {
      "text/plain": [
       "14"
      ]
     },
     "execution_count": 19,
     "metadata": {},
     "output_type": "execute_result"
    }
   ],
   "source": [
    "#Q16\n",
    "#chronological order of books written by Auster\n",
    "queryString = \"\"\"\n",
    "SELECT DISTINCT ?book ?year WHERE { \n",
    "\n",
    "?book wdt:P31 wd:Q47461344;\n",
    "      wdt:P50 wd:Q214642;\n",
    "      wdt:P577 ?date.\n",
    "BIND(YEAR(?date) AS ?year)\n",
    "\n",
    "}\n",
    "ORDER BY ?year\n",
    "LIMIT 100\n",
    "\"\"\"\n",
    "\n",
    "print(\"Results\")\n",
    "run_query(queryString)"
   ]
  },
  {
   "cell_type": "markdown",
   "id": "7e68600d-d5f5-43f5-8929-d1a25063a8cb",
   "metadata": {},
   "source": [
    "Retrieve the chronological order of books written by McEwan."
   ]
  },
  {
   "cell_type": "code",
   "execution_count": 22,
   "id": "ac6c8634-7d8c-480a-8138-56bf86924c80",
   "metadata": {},
   "outputs": [
    {
     "name": "stdout",
     "output_type": "stream",
     "text": [
      "Results\n",
      "[('book', 'http://www.wikidata.org/entity/Q1198186'), ('year', '1978')]\n",
      "[('book', 'http://www.wikidata.org/entity/Q1754953'), ('year', '1981')]\n",
      "[('book', 'http://www.wikidata.org/entity/Q1747269'), ('year', '1987')]\n",
      "[('book', 'http://www.wikidata.org/entity/Q1704438'), ('year', '1992')]\n",
      "[('book', 'http://www.wikidata.org/entity/Q3819411'), ('year', '1994')]\n",
      "[('book', 'http://www.wikidata.org/entity/Q2920448'), ('year', '1997')]\n",
      "[('book', 'http://www.wikidata.org/entity/Q478433'), ('year', '1998')]\n",
      "[('book', 'http://www.wikidata.org/entity/Q306619'), ('year', '2001')]\n",
      "[('book', 'http://www.wikidata.org/entity/Q1723053'), ('year', '2005')]\n",
      "[('book', 'http://www.wikidata.org/entity/Q451491'), ('year', '2007')]\n",
      "[('book', 'http://www.wikidata.org/entity/Q1531861'), ('year', '2010')]\n",
      "[('book', 'http://www.wikidata.org/entity/Q972609'), ('year', '2012')]\n"
     ]
    },
    {
     "data": {
      "text/plain": [
       "12"
      ]
     },
     "execution_count": 22,
     "metadata": {},
     "output_type": "execute_result"
    }
   ],
   "source": [
    "#Q17\n",
    "#chronological order of books written by McEwan\n",
    "queryString = \"\"\"\n",
    "SELECT DISTINCT ?book ?year WHERE { \n",
    "\n",
    "?book wdt:P31 wd:Q47461344;\n",
    "      wdt:P50 wd:Q190379;\n",
    "      wdt:P577 ?date.\n",
    "BIND(YEAR(?date) AS ?year)\n",
    "\n",
    "}\n",
    "ORDER BY ?year\n",
    "LIMIT 100\n",
    "\"\"\"\n",
    "\n",
    "print(\"Results\")\n",
    "run_query(queryString)"
   ]
  },
  {
   "cell_type": "markdown",
   "id": "5f60d030-5b4b-41c2-9f28-60b821d8a6b8",
   "metadata": {},
   "source": [
    "Retrieve the longest time interval between the publication of two books written by Auster."
   ]
  },
  {
   "cell_type": "code",
   "execution_count": 3,
   "id": "75ea4287-b8b5-4382-9934-e39df604c952",
   "metadata": {},
   "outputs": [
    {
     "name": "stdout",
     "output_type": "stream",
     "text": [
      "Results\n",
      "The operation failed EndPointInternalError: endpoint returned code 500 and response. \n",
      "\n",
      "Response:\n",
      "b\"Virtuoso 42000 Error The estimated execution time 4970529 (sec) exceeds the limit of 800 (sec).\\n\\nSPARQL query:\\n\\n##-b77b0db429-##\\nPREFIX wd: <http://www.wikidata.org/entity/> \\nPREFIX wdt: <http://www.wikidata.org/prop/direct/> \\nPREFIX sc: <http://schema.org/>\\n\\n\\nSELECT ((?y1-?y2) AS ?dif) ?y1 ?y2 WHERE { \\n\\n#Select and compare  the year difference between two books  \\n{SELECT ?b1 ?y1 WHERE{\\n?b1 wdt:P31 wd:Q47461344;\\n      wdt:P50 wd:Q214642;\\n      wdt:P577 ?d1.\\nBIND(YEAR(?d1) AS ?y1)\\n}}\\n{SELECT ?b2 ?y2 WHERE{\\n?b2 wdt:P31 wd:Q47461344;\\n      wdt:P50 wd:Q214642;\\n      wdt:P577 ?d2.\\nBIND(YEAR(?d2) AS ?y2)\\n}}\\n#Check that there isn't any other book published in between  \\nFILTER NOT EXISTS\\n{\\n?b3 wdt:P31 wd:Q47461344;\\n    wdt:P50 wd:Q214642;\\n    wdt:P577 ?d3.\\nBIND(YEAR(?d3) AS ?y3)\\nFILTER( (?y1>?y3) && (?y2<?y3) )\\n}\\n}\\nORDER BY DESC(?dif)\\nLIMIT 1\\n\"\n"
     ]
    }
   ],
   "source": [
    "#Q18\n",
    "#retrieve the longest time interval between the publication of two books written by Auster\n",
    "queryString = \"\"\"\n",
    "SELECT ((?y1-?y2) AS ?dif) ?y1 ?y2 WHERE { \n",
    "\n",
    "#Select and compare  the year difference between two books  \n",
    "{SELECT ?b1 ?y1 WHERE{\n",
    "?b1 wdt:P31 wd:Q47461344;\n",
    "      wdt:P50 wd:Q214642;\n",
    "      wdt:P577 ?d1.\n",
    "BIND(YEAR(?d1) AS ?y1)\n",
    "}}\n",
    "{SELECT ?b2 ?y2 WHERE{\n",
    "?b2 wdt:P31 wd:Q47461344;\n",
    "      wdt:P50 wd:Q214642;\n",
    "      wdt:P577 ?d2.\n",
    "BIND(YEAR(?d2) AS ?y2)\n",
    "}}\n",
    "#Check that there isn't any other book published in between  \n",
    "FILTER NOT EXISTS\n",
    "{\n",
    "?b3 wdt:P31 wd:Q47461344;\n",
    "    wdt:P50 wd:Q214642;\n",
    "    wdt:P577 ?d3.\n",
    "BIND(YEAR(?d3) AS ?y3)\n",
    "FILTER( (?y1>?y3) && (?y2<?y3) )\n",
    "}\n",
    "}\n",
    "ORDER BY DESC(?dif)\n",
    "LIMIT 1\n",
    "\"\"\"\n",
    "\n",
    "print(\"Results\")\n",
    "run_query(queryString)"
   ]
  },
  {
   "cell_type": "markdown",
   "id": "04cfe8af-3b6e-40d7-a067-d88461b718f6",
   "metadata": {},
   "source": [
    "<h3> TASK 2 ENDS HERE </h3>\n",
    "They published six books in the same year; the longest time interval between one book and another one is 5 years for Auster (94-99) \n",
    "and 6 for McEwan (81-87). On a side note Q18 is syntactically valid but it runs out of time, so I computed by hand the time interval."
   ]
  },
  {
   "cell_type": "markdown",
   "id": "d5b5f583-e805-488c-b092-f91f2ec8c859",
   "metadata": {},
   "source": [
    "<h3> TASK 3 STARTS HERE </h3>\n",
    "Did the authors produced, acted or directed a film? If so, did they write the screenplay?"
   ]
  },
  {
   "cell_type": "code",
   "execution_count": 2,
   "id": "653e7d25-44e6-4efe-a0b6-43cc4eee1223",
   "metadata": {},
   "outputs": [
    {
     "name": "stdout",
     "output_type": "stream",
     "text": [
      "Results\n",
      "[('p', 'http://www.wikidata.org/prop/direct/P1346'), ('pname', 'winner')]\n",
      "[('p', 'http://www.wikidata.org/prop/direct/P161'), ('pname', 'cast member')]\n",
      "[('p', 'http://www.wikidata.org/prop/direct/P162'), ('pname', 'producer')]\n",
      "[('p', 'http://www.wikidata.org/prop/direct/P170'), ('pname', 'creator')]\n",
      "[('p', 'http://www.wikidata.org/prop/direct/P22'), ('pname', 'father')]\n",
      "[('p', 'http://www.wikidata.org/prop/direct/P26'), ('pname', 'spouse')]\n",
      "[('p', 'http://www.wikidata.org/prop/direct/P2789'), ('pname', 'connects with')]\n",
      "[('p', 'http://www.wikidata.org/prop/direct/P301'), ('pname', \"category's main topic\")]\n",
      "[('p', 'http://www.wikidata.org/prop/direct/P50'), ('pname', 'author')]\n",
      "[('p', 'http://www.wikidata.org/prop/direct/P57'), ('pname', 'director')]\n",
      "[('p', 'http://www.wikidata.org/prop/direct/P58'), ('pname', 'screenwriter')]\n",
      "[('p', 'http://www.wikidata.org/prop/direct/P737'), ('pname', 'influenced by')]\n",
      "[('p', 'http://www.wikidata.org/prop/direct/P921'), ('pname', 'main subject')]\n",
      "[('p', 'http://www.wikidata.org/prop/direct/P971'), ('pname', 'category combines topics')]\n",
      "[('p', 'http://www.wikidata.org/prop/direct/P1877'), ('pname', 'after a work by')]\n",
      "[('p', 'http://www.wikidata.org/prop/direct/P1855'), ('pname', 'Wikidata property example')]\n"
     ]
    },
    {
     "data": {
      "text/plain": [
       "16"
      ]
     },
     "execution_count": 2,
     "metadata": {},
     "output_type": "execute_result"
    }
   ],
   "source": [
    "#Q19\n",
    "#have a look at some predicates\n",
    "queryString = \"\"\"\n",
    "SELECT DISTINCT ?p ?pname WHERE { \n",
    "\n",
    "?s ?p ?author.\n",
    "VALUES ?author {wd:Q214642 wd:Q190379}\n",
    "\n",
    "#Labels\n",
    "?p <http://schema.org/name> ?pname .\n",
    "}\n",
    "LIMIT 100\n",
    "\"\"\"\n",
    "\n",
    "print(\"Results\")\n",
    "run_query(queryString)"
   ]
  },
  {
   "cell_type": "markdown",
   "id": "61364f45-0d4a-4644-a928-f9112f1450e4",
   "metadata": {},
   "source": [
    "Retrieve the films where one of authors acted in using P161 found above."
   ]
  },
  {
   "cell_type": "code",
   "execution_count": 4,
   "id": "1e56d8e2-d64f-4457-b65b-d16c796065d9",
   "metadata": {},
   "outputs": [
    {
     "name": "stdout",
     "output_type": "stream",
     "text": [
      "Results\n",
      "[('author', 'http://www.wikidata.org/entity/Q214642'), ('film', 'http://www.wikidata.org/entity/Q2915460'), ('fname', 'Act of God')]\n",
      "[('author', 'http://www.wikidata.org/entity/Q214642'), ('film', 'http://www.wikidata.org/entity/Q2364684'), ('fname', 'The Music of Chance')]\n",
      "[('author', 'http://www.wikidata.org/entity/Q190379'), ('film', 'http://www.wikidata.org/entity/Q7348342'), ('fname', 'The Unbelievers')]\n"
     ]
    },
    {
     "data": {
      "text/plain": [
       "3"
      ]
     },
     "execution_count": 4,
     "metadata": {},
     "output_type": "execute_result"
    }
   ],
   "source": [
    "#Q20\n",
    "#retrieve the films where one of authors acted in (P161 found above)\n",
    "queryString = \"\"\"\n",
    "SELECT ?author ?film ?fname WHERE { \n",
    "\n",
    "?film wdt:P161 ?author.\n",
    "VALUES ?author {wd:Q214642 wd:Q190379}\n",
    "\n",
    "#Labels\n",
    "?film <http://schema.org/name> ?fname .\n",
    "}\n",
    "LIMIT 100\n",
    "\"\"\"\n",
    "\n",
    "print(\"Results\")\n",
    "run_query(queryString)"
   ]
  },
  {
   "cell_type": "markdown",
   "id": "4e3d6d9d-a272-4404-a411-172e1493d391",
   "metadata": {},
   "source": [
    "Music of chance is also one of the book written by Auster, i want to check if there is a property which connects book and film."
   ]
  },
  {
   "cell_type": "code",
   "execution_count": 5,
   "id": "cb1dd53d-12c3-4141-8599-972d1fe53b5c",
   "metadata": {},
   "outputs": [
    {
     "name": "stdout",
     "output_type": "stream",
     "text": [
      "Results\n",
      "[('p', 'http://www.wikidata.org/prop/direct/P161'), ('o', 'http://www.wikidata.org/entity/Q214642'), ('oname', 'Paul Auster')]\n",
      "[('p', 'http://www.wikidata.org/prop/direct/P58'), ('o', 'http://www.wikidata.org/entity/Q214642'), ('oname', 'Paul Auster')]\n",
      "[('p', 'http://www.wikidata.org/prop/direct/P161'), ('o', 'http://www.wikidata.org/entity/Q329784'), ('oname', 'Charles Durning')]\n",
      "[('p', 'http://www.wikidata.org/prop/direct/P161'), ('o', 'http://www.wikidata.org/entity/Q267097'), ('oname', 'Mandy Patinkin')]\n",
      "[('p', 'http://www.wikidata.org/prop/direct/P161'), ('o', 'http://www.wikidata.org/entity/Q498420'), ('oname', 'M. Emmet Walsh')]\n",
      "[('p', 'http://www.wikidata.org/prop/direct/P162'), ('o', 'http://www.wikidata.org/entity/Q7149902'), ('oname', 'Paul Colichman')]\n",
      "[('p', 'http://www.wikidata.org/prop/direct/P31'), ('o', 'http://www.wikidata.org/entity/Q11424'), ('oname', 'film')]\n",
      "[('p', 'http://www.wikidata.org/prop/direct/P136'), ('o', 'http://www.wikidata.org/entity/Q130232'), ('oname', 'drama')]\n",
      "[('p', 'http://www.wikidata.org/prop/direct/P364'), ('o', 'http://www.wikidata.org/entity/Q1860'), ('oname', 'English')]\n",
      "[('p', 'http://www.wikidata.org/prop/direct/P462'), ('o', 'http://www.wikidata.org/entity/Q22006653'), ('oname', 'color')]\n",
      "[('p', 'http://www.wikidata.org/prop/direct/P495'), ('o', 'http://www.wikidata.org/entity/Q30'), ('oname', 'United States of America')]\n",
      "[('p', 'http://www.wikidata.org/prop/direct/P750'), ('o', 'http://www.wikidata.org/entity/Q1554656'), ('oname', '01 Distribution')]\n",
      "[('p', 'http://www.wikidata.org/prop/direct/P161'), ('o', 'http://www.wikidata.org/entity/Q296928'), ('oname', 'James Spader')]\n",
      "[('p', 'http://www.wikidata.org/prop/direct/P161'), ('o', 'http://www.wikidata.org/entity/Q297744'), ('oname', 'Chris Penn')]\n",
      "[('p', 'http://www.wikidata.org/prop/direct/P5970'), ('o', 'http://www.wikidata.org/entity/Q80655145'), ('oname', 'Prohibited for children under 16')]\n",
      "[('p', 'http://www.wikidata.org/prop/direct/P161'), ('o', 'http://www.wikidata.org/entity/Q316641'), ('oname', 'Joel Grey')]\n",
      "[('p', 'http://www.wikidata.org/prop/direct/P161'), ('o', 'http://www.wikidata.org/entity/Q237190'), ('oname', 'Samantha Mathis')]\n",
      "[('p', 'http://www.wikidata.org/prop/direct/P57'), ('o', 'http://www.wikidata.org/entity/Q3379021'), ('oname', 'Philip Haas')]\n",
      "[('p', 'http://www.wikidata.org/prop/direct/P344'), ('o', 'http://www.wikidata.org/entity/Q822798'), ('oname', 'Bernard Zitzermann')]\n",
      "[('p', 'http://www.wikidata.org/prop/direct/P86'), ('o', 'http://www.wikidata.org/entity/Q15408382'), ('oname', 'Phillip Johnston')]\n"
     ]
    },
    {
     "data": {
      "text/plain": [
       "20"
      ]
     },
     "execution_count": 5,
     "metadata": {},
     "output_type": "execute_result"
    }
   ],
   "source": [
    "#Q21\n",
    "#Music of chance is also one of the book written by Auster, i want to check if there is a property which connects book and film\n",
    "queryString = \"\"\"\n",
    "SELECT ?p ?o ?oname WHERE { \n",
    "\n",
    "wd:Q2364684 ?p ?o.\n",
    "\n",
    "#Labels\n",
    "?o <http://schema.org/name> ?oname .\n",
    "}\n",
    "LIMIT 100\n",
    "\"\"\"\n",
    "\n",
    "print(\"Results\")\n",
    "run_query(queryString)"
   ]
  },
  {
   "cell_type": "markdown",
   "id": "a3126c6a-67df-4d05-8af6-2582969c9a04",
   "metadata": {},
   "source": [
    "Retrieve the films where one of authors produced it (P162 found above)."
   ]
  },
  {
   "cell_type": "code",
   "execution_count": 6,
   "id": "67078217-9cb3-4b1a-9804-541720aa67c1",
   "metadata": {},
   "outputs": [
    {
     "name": "stdout",
     "output_type": "stream",
     "text": [
      "Results\n",
      "[('author', 'http://www.wikidata.org/entity/Q214642'), ('film', 'http://www.wikidata.org/entity/Q3213673'), ('fname', 'The Inner Life of Martin Frost')]\n",
      "[('author', 'http://www.wikidata.org/entity/Q190379'), ('film', 'http://www.wikidata.org/entity/Q1626186'), ('fname', 'Atonement')]\n"
     ]
    },
    {
     "data": {
      "text/plain": [
       "2"
      ]
     },
     "execution_count": 6,
     "metadata": {},
     "output_type": "execute_result"
    }
   ],
   "source": [
    "#Q22\n",
    "#retrieve the films where one of authors produced it (P162 found above)\n",
    "queryString = \"\"\"\n",
    "SELECT ?author ?film ?fname WHERE { \n",
    "\n",
    "?film wdt:P162 ?author.\n",
    "VALUES ?author {wd:Q214642 wd:Q190379}\n",
    "\n",
    "#Labels\n",
    "?film <http://schema.org/name> ?fname .\n",
    "}\n",
    "LIMIT 100\n",
    "\"\"\"\n",
    "\n",
    "print(\"Results\")\n",
    "run_query(queryString)"
   ]
  },
  {
   "cell_type": "markdown",
   "id": "83c2b073-e675-45c8-b243-aa6aac133578",
   "metadata": {},
   "source": [
    "Also Atonement is a book, re-try Q21 with it."
   ]
  },
  {
   "cell_type": "code",
   "execution_count": 7,
   "id": "a38bd97a-473c-4d64-bd65-b674191e680c",
   "metadata": {},
   "outputs": [
    {
     "name": "stdout",
     "output_type": "stream",
     "text": [
      "Results\n",
      "[('p', 'http://www.wikidata.org/prop/direct/P161'), ('o', 'http://www.wikidata.org/entity/Q193659'), ('oname', 'James McAvoy')]\n",
      "[('p', 'http://www.wikidata.org/prop/direct/P161'), ('o', 'http://www.wikidata.org/entity/Q247915'), ('oname', 'Patrick Kennedy')]\n",
      "[('p', 'http://www.wikidata.org/prop/direct/P161'), ('o', 'http://www.wikidata.org/entity/Q5980945'), ('oname', 'Ian Bonar')]\n",
      "[('p', 'http://www.wikidata.org/prop/direct/P750'), ('o', 'http://www.wikidata.org/entity/Q1329615'), ('oname', 'UIP-Dunafilm')]\n",
      "[('p', 'http://www.wikidata.org/prop/direct/P57'), ('o', 'http://www.wikidata.org/entity/Q118817'), ('oname', 'Joe Wright')]\n",
      "[('p', 'http://www.wikidata.org/prop/direct/P162'), ('o', 'http://www.wikidata.org/entity/Q1351291'), ('oname', 'Eric Fellner')]\n",
      "[('p', 'http://www.wikidata.org/prop/direct/P344'), ('o', 'http://www.wikidata.org/entity/Q1359957'), ('oname', 'Seamus McGarvey')]\n",
      "[('p', 'http://www.wikidata.org/prop/direct/P162'), ('o', 'http://www.wikidata.org/entity/Q1473065'), ('oname', 'Tim Bevan')]\n",
      "[('p', 'http://www.wikidata.org/prop/direct/P272'), ('o', 'http://www.wikidata.org/entity/Q2060840'), ('oname', 'Working Title Films')]\n",
      "[('p', 'http://www.wikidata.org/prop/direct/P272'), ('o', 'http://www.wikidata.org/entity/Q2450848'), ('oname', 'StudioCanal')]\n",
      "[('p', 'http://www.wikidata.org/prop/direct/P162'), ('o', 'http://www.wikidata.org/entity/Q2855650'), ('oname', 'Debra Hayward')]\n",
      "[('p', 'http://www.wikidata.org/prop/direct/P175'), ('o', 'http://www.wikidata.org/entity/Q360399'), ('oname', 'Dario Marianelli')]\n",
      "[('p', 'http://www.wikidata.org/prop/direct/P86'), ('o', 'http://www.wikidata.org/entity/Q360399'), ('oname', 'Dario Marianelli')]\n",
      "[('p', 'http://www.wikidata.org/prop/direct/P161'), ('o', 'http://www.wikidata.org/entity/Q42581'), ('oname', 'Keira Knightley')]\n",
      "[('p', 'http://www.wikidata.org/prop/direct/P2515'), ('o', 'http://www.wikidata.org/entity/Q455749'), ('oname', 'Jacqueline Durran')]\n",
      "[('p', 'http://www.wikidata.org/prop/direct/P162'), ('o', 'http://www.wikidata.org/entity/Q601661'), ('oname', 'Paul Webster')]\n",
      "[('p', 'http://www.wikidata.org/prop/direct/P162'), ('o', 'http://www.wikidata.org/entity/Q6660371'), ('oname', 'Liza Chasin')]\n",
      "[('p', 'http://www.wikidata.org/prop/direct/P1889'), ('o', 'http://www.wikidata.org/entity/Q7302728'), ('oname', 'Reconciliation')]\n",
      "[('p', 'http://www.wikidata.org/prop/direct/P161'), ('o', 'http://www.wikidata.org/entity/Q188726'), ('oname', 'Anthony Minghella')]\n",
      "[('p', 'http://www.wikidata.org/prop/direct/P161'), ('o', 'http://www.wikidata.org/entity/Q229952'), ('oname', 'Brenda Blethyn')]\n",
      "[('p', 'http://www.wikidata.org/prop/direct/P161'), ('o', 'http://www.wikidata.org/entity/Q234434'), ('oname', 'Juno Temple')]\n",
      "[('p', 'http://www.wikidata.org/prop/direct/P161'), ('o', 'http://www.wikidata.org/entity/Q1930952'), ('oname', 'Michel Vuillermoz')]\n",
      "[('p', 'http://www.wikidata.org/prop/direct/P272'), ('o', 'http://www.wikidata.org/entity/Q2702789'), ('oname', 'Relativity Media')]\n",
      "[('p', 'http://www.wikidata.org/prop/direct/P162'), ('o', 'http://www.wikidata.org/entity/Q7344476'), ('oname', 'Robert Fox')]\n",
      "[('p', 'http://www.wikidata.org/prop/direct/P161'), ('o', 'http://www.wikidata.org/entity/Q741080'), ('oname', 'Jérémie Renier')]\n",
      "[('p', 'http://www.wikidata.org/prop/direct/P161'), ('o', 'http://www.wikidata.org/entity/Q1341507'), ('oname', 'Lionel Abelanski')]\n",
      "[('p', 'http://www.wikidata.org/prop/direct/P1411'), ('o', 'http://www.wikidata.org/entity/Q102427'), ('oname', 'Academy Award for Best Picture')]\n",
      "[('p', 'http://www.wikidata.org/prop/direct/P136'), ('o', 'http://www.wikidata.org/entity/Q1054574'), ('oname', 'romance film')]\n",
      "[('p', 'http://www.wikidata.org/prop/direct/P1411'), ('o', 'http://www.wikidata.org/entity/Q106301'), ('oname', 'Academy Award for Best Supporting Actress')]\n",
      "[('p', 'http://www.wikidata.org/prop/direct/P1411'), ('o', 'http://www.wikidata.org/entity/Q107258'), ('oname', 'Academy Award for Best Writing, Adapted Screenplay')]\n",
      "[('p', 'http://www.wikidata.org/prop/direct/P31'), ('o', 'http://www.wikidata.org/entity/Q11424'), ('oname', 'film')]\n",
      "[('p', 'http://www.wikidata.org/prop/direct/P136'), ('o', 'http://www.wikidata.org/entity/Q130232'), ('oname', 'drama')]\n",
      "[('p', 'http://www.wikidata.org/prop/direct/P495'), ('o', 'http://www.wikidata.org/entity/Q142'), ('oname', 'France')]\n",
      "[('p', 'http://www.wikidata.org/prop/direct/P495'), ('o', 'http://www.wikidata.org/entity/Q145'), ('oname', 'United Kingdom')]\n",
      "[('p', 'http://www.wikidata.org/prop/direct/P364'), ('o', 'http://www.wikidata.org/entity/Q1860'), ('oname', 'English')]\n",
      "[('p', 'http://www.wikidata.org/prop/direct/P1981'), ('o', 'http://www.wikidata.org/entity/Q20644796'), ('oname', 'FSK 12')]\n",
      "[('p', 'http://www.wikidata.org/prop/direct/P840'), ('o', 'http://www.wikidata.org/entity/Q21'), ('oname', 'England')]\n",
      "[('p', 'http://www.wikidata.org/prop/direct/P462'), ('o', 'http://www.wikidata.org/entity/Q22006653'), ('oname', 'color')]\n",
      "[('p', 'http://www.wikidata.org/prop/direct/P2747'), ('o', 'http://www.wikidata.org/entity/Q23830577'), ('oname', 'Category II')]\n",
      "[('p', 'http://www.wikidata.org/prop/direct/P921'), ('o', 'http://www.wikidata.org/entity/Q362'), ('oname', 'World War II')]\n",
      "[('p', 'http://www.wikidata.org/prop/direct/P136'), ('o', 'http://www.wikidata.org/entity/Q369747'), ('oname', 'war film')]\n",
      "[('p', 'http://www.wikidata.org/prop/direct/P5021'), ('o', 'http://www.wikidata.org/entity/Q4165246'), ('oname', 'Bechdel test')]\n",
      "[('p', 'http://www.wikidata.org/prop/direct/P1411'), ('o', 'http://www.wikidata.org/entity/Q628637'), ('oname', \"European Film Award – People's Choice Award for Best European Film\")]\n",
      "[('p', 'http://www.wikidata.org/prop/direct/P437'), ('o', 'http://www.wikidata.org/entity/Q723685'), ('oname', 'video on demand')]\n",
      "[('p', 'http://www.wikidata.org/prop/direct/P2061'), ('o', 'http://www.wikidata.org/entity/Q752245'), ('oname', 'widescreen')]\n",
      "[('p', 'http://www.wikidata.org/prop/direct/P750'), ('o', 'http://www.wikidata.org/entity/Q80948336'), ('oname', 'FandangoNow')]\n",
      "[('p', 'http://www.wikidata.org/prop/direct/P1411'), ('o', 'http://www.wikidata.org/entity/Q932281'), ('oname', 'European Film Award for Best Actor')]\n",
      "[('p', 'http://www.wikidata.org/prop/direct/P1411'), ('o', 'http://www.wikidata.org/entity/Q131520'), ('oname', 'Academy Award for Best Cinematography')]\n",
      "[('p', 'http://www.wikidata.org/prop/direct/P8411'), ('o', 'http://www.wikidata.org/entity/Q16884952'), ('oname', 'country house')]\n",
      "[('p', 'http://www.wikidata.org/prop/direct/P1411'), ('o', 'http://www.wikidata.org/entity/Q277536'), ('oname', 'Academy Award for Best Costume Design')]\n",
      "[('p', 'http://www.wikidata.org/prop/direct/P1411'), ('o', 'http://www.wikidata.org/entity/Q277751'), ('oname', 'Academy Award for Best Production Design')]\n",
      "[('p', 'http://www.wikidata.org/prop/direct/P3650'), ('o', 'http://www.wikidata.org/entity/Q28732985'), ('oname', 'free from 12 years')]\n",
      "[('p', 'http://www.wikidata.org/prop/direct/P1411'), ('o', 'http://www.wikidata.org/entity/Q488651'), ('oname', 'Academy Award for Best Original Score')]\n",
      "[('p', 'http://www.wikidata.org/prop/direct/P166'), ('o', 'http://www.wikidata.org/entity/Q488651'), ('oname', 'Academy Award for Best Original Score')]\n",
      "[('p', 'http://www.wikidata.org/prop/direct/P5970'), ('o', 'http://www.wikidata.org/entity/Q56887490'), ('oname', 'For ages 11 and up')]\n",
      "[('p', 'http://www.wikidata.org/prop/direct/P5021'), ('o', 'http://www.wikidata.org/entity/Q85783379'), ('oname', 'Mako Mori test')]\n",
      "[('p', 'http://www.wikidata.org/prop/direct/P161'), ('o', 'http://www.wikidata.org/entity/Q271177'), ('oname', 'Harriet Walter')]\n",
      "[('p', 'http://www.wikidata.org/prop/direct/P161'), ('o', 'http://www.wikidata.org/entity/Q264751'), ('oname', 'Nonso Anozie')]\n",
      "[('p', 'http://www.wikidata.org/prop/direct/P161'), ('o', 'http://www.wikidata.org/entity/Q257293'), ('oname', 'Gina McKee')]\n",
      "[('p', 'http://www.wikidata.org/prop/direct/P840'), ('o', 'http://www.wikidata.org/entity/Q45797'), ('oname', 'Dunkirk')]\n",
      "[('p', 'http://www.wikidata.org/prop/direct/P136'), ('o', 'http://www.wikidata.org/entity/Q52207399'), ('oname', 'film based on a novel')]\n",
      "[('p', 'http://www.wikidata.org/prop/direct/P162'), ('o', 'http://www.wikidata.org/entity/Q657354'), ('oname', 'Richard Eyre')]\n",
      "[('p', 'http://www.wikidata.org/prop/direct/P1411'), ('o', 'http://www.wikidata.org/entity/Q1377736'), ('oname', 'European Film Award for Best Composer')]\n",
      "[('p', 'http://www.wikidata.org/prop/direct/P1344'), ('o', 'http://www.wikidata.org/entity/Q726534'), ('oname', '21st European Film Awards')]\n",
      "[('p', 'http://www.wikidata.org/prop/direct/P161'), ('o', 'http://www.wikidata.org/entity/Q347879'), ('oname', 'Vanessa Redgrave')]\n",
      "[('p', 'http://www.wikidata.org/prop/direct/P161'), ('o', 'http://www.wikidata.org/entity/Q579571'), ('oname', 'Daniel Mays')]\n",
      "[('p', 'http://www.wikidata.org/prop/direct/P58'), ('o', 'http://www.wikidata.org/entity/Q515274'), ('oname', 'Christopher Hampton')]\n",
      "[('p', 'http://www.wikidata.org/prop/direct/P161'), ('o', 'http://www.wikidata.org/entity/Q244674'), ('oname', 'Benedict Cumberbatch')]\n",
      "[('p', 'http://www.wikidata.org/prop/direct/P161'), ('o', 'http://www.wikidata.org/entity/Q7802907'), ('oname', 'Tilly Vosburgh')]\n",
      "[('p', 'http://www.wikidata.org/prop/direct/P161'), ('o', 'http://www.wikidata.org/entity/Q228603'), ('oname', 'Saoirse Ronan')]\n",
      "[('p', 'http://www.wikidata.org/prop/direct/P162'), ('o', 'http://www.wikidata.org/entity/Q190379'), ('oname', 'Ian McEwan')]\n",
      "[('p', 'http://www.wikidata.org/prop/direct/P58'), ('o', 'http://www.wikidata.org/entity/Q190379'), ('oname', 'Ian McEwan')]\n",
      "[('p', 'http://www.wikidata.org/prop/direct/P1877'), ('o', 'http://www.wikidata.org/entity/Q190379'), ('oname', 'Ian McEwan')]\n",
      "[('p', 'http://www.wikidata.org/prop/direct/P161'), ('o', 'http://www.wikidata.org/entity/Q1121589'), ('oname', 'Johnny Harris')]\n",
      "[('p', 'http://www.wikidata.org/prop/direct/P161'), ('o', 'http://www.wikidata.org/entity/Q7177704'), ('oname', 'Peter Wight')]\n",
      "[('p', 'http://www.wikidata.org/prop/direct/P921'), ('o', 'http://www.wikidata.org/entity/Q911972'), ('oname', 'Dunkirk evacuation')]\n",
      "[('p', 'http://www.wikidata.org/prop/direct/P161'), ('o', 'http://www.wikidata.org/entity/Q16215920'), ('oname', 'Neil Maskell')]\n",
      "[('p', 'http://www.wikidata.org/prop/direct/P161'), ('o', 'http://www.wikidata.org/entity/Q552026'), ('oname', 'Alfie Allen')]\n",
      "[('p', 'http://www.wikidata.org/prop/direct/P161'), ('o', 'http://www.wikidata.org/entity/Q1852090'), ('oname', 'Tobias Menzies')]\n",
      "[('p', 'http://www.wikidata.org/prop/direct/P161'), ('o', 'http://www.wikidata.org/entity/Q234546'), ('oname', 'Romola Garai')]\n",
      "[('p', 'http://www.wikidata.org/prop/direct/P161'), ('o', 'http://www.wikidata.org/entity/Q1395145'), ('oname', 'Michelle Duncan')]\n",
      "[('p', 'http://www.wikidata.org/prop/direct/P161'), ('o', 'http://www.wikidata.org/entity/Q5365482'), ('oname', 'Elliot Francis')]\n",
      "[('p', 'http://www.wikidata.org/prop/direct/P161'), ('o', 'http://www.wikidata.org/entity/Q578098'), ('oname', 'John Normington')]\n",
      "[('p', 'http://www.wikidata.org/prop/direct/P144'), ('o', 'http://www.wikidata.org/entity/Q306619'), ('oname', 'Atonement')]\n",
      "[('p', 'http://www.wikidata.org/prop/direct/P161'), ('o', 'http://www.wikidata.org/entity/Q16203916'), ('oname', 'Alice Orr-Ewing')]\n"
     ]
    },
    {
     "data": {
      "text/plain": [
       "85"
      ]
     },
     "execution_count": 7,
     "metadata": {},
     "output_type": "execute_result"
    }
   ],
   "source": [
    "#Q23\n",
    "#also Atonement is a book, re-try Q21 with it\n",
    "queryString = \"\"\"\n",
    "SELECT ?p ?o ?oname WHERE { \n",
    "\n",
    "wd:Q1626186 ?p ?o.\n",
    "\n",
    "#Labels\n",
    "?o <http://schema.org/name> ?oname .\n",
    "}\n",
    "LIMIT 100\n",
    "\"\"\"\n",
    "\n",
    "print(\"Results\")\n",
    "run_query(queryString)"
   ]
  },
  {
   "cell_type": "markdown",
   "id": "f3a0a860-1018-4e62-99a4-579aa62867d0",
   "metadata": {},
   "source": [
    "So the P136 + Q52207399 is the pattern for retrieving based on a novel, while P144 has a book as object. Retrieve the films where one of authors was the director (P57 found in Q19)."
   ]
  },
  {
   "cell_type": "code",
   "execution_count": 8,
   "id": "d1783066-c32a-46d4-ac79-366741d2f444",
   "metadata": {},
   "outputs": [
    {
     "name": "stdout",
     "output_type": "stream",
     "text": [
      "Results\n",
      "[('author', 'http://www.wikidata.org/entity/Q214642'), ('film', 'http://www.wikidata.org/entity/Q2478977'), ('fname', 'Blue in the Face')]\n",
      "[('author', 'http://www.wikidata.org/entity/Q214642'), ('film', 'http://www.wikidata.org/entity/Q3213673'), ('fname', 'The Inner Life of Martin Frost')]\n",
      "[('author', 'http://www.wikidata.org/entity/Q214642'), ('film', 'http://www.wikidata.org/entity/Q653447'), ('fname', 'Smoke')]\n",
      "[('author', 'http://www.wikidata.org/entity/Q214642'), ('film', 'http://www.wikidata.org/entity/Q1877215'), ('fname', 'Lulu on the Bridge')]\n"
     ]
    },
    {
     "data": {
      "text/plain": [
       "4"
      ]
     },
     "execution_count": 8,
     "metadata": {},
     "output_type": "execute_result"
    }
   ],
   "source": [
    "#Q24\n",
    "#P136 + Q52207399 (film based on a novel), P144 links to the book\n",
    "#retrieve the films where one of authors was the director (P57 found in Q19)\n",
    "queryString = \"\"\"\n",
    "SELECT ?author ?film ?fname WHERE { \n",
    "\n",
    "?film wdt:P57 ?author.\n",
    "VALUES ?author {wd:Q214642 wd:Q190379}\n",
    "\n",
    "#Labels\n",
    "?film <http://schema.org/name> ?fname .\n",
    "}\n",
    "LIMIT 100\n",
    "\"\"\"\n",
    "\n",
    "print(\"Results\")\n",
    "run_query(queryString)"
   ]
  },
  {
   "cell_type": "markdown",
   "id": "e4f59f4e-1569-4781-bf07-e4cacd40626d",
   "metadata": {},
   "source": [
    "Retrieve the films where one of authors was the screenwriter (P58 found in Q19)."
   ]
  },
  {
   "cell_type": "code",
   "execution_count": 15,
   "id": "4aba781a-5128-4ad8-9462-714c5417834d",
   "metadata": {},
   "outputs": [
    {
     "name": "stdout",
     "output_type": "stream",
     "text": [
      "Results\n",
      "[('author', 'http://www.wikidata.org/entity/Q190379'), ('film', 'http://www.wikidata.org/entity/Q589713'), ('fname', 'The Good Son')]\n",
      "[('author', 'http://www.wikidata.org/entity/Q190379'), ('film', 'http://www.wikidata.org/entity/Q129813'), ('fname', 'Enduring Love')]\n",
      "[('author', 'http://www.wikidata.org/entity/Q190379'), ('film', 'http://www.wikidata.org/entity/Q7757528'), ('fname', \"The Ploughman's Lunch\")]\n",
      "[('author', 'http://www.wikidata.org/entity/Q190379'), ('film', 'http://www.wikidata.org/entity/Q1879989'), ('fname', 'The Comfort of Strangers')]\n",
      "[('author', 'http://www.wikidata.org/entity/Q190379'), ('film', 'http://www.wikidata.org/entity/Q27959336'), ('fname', 'On Chesil Beach')]\n",
      "[('author', 'http://www.wikidata.org/entity/Q190379'), ('film', 'http://www.wikidata.org/entity/Q1626186'), ('fname', 'Atonement')]\n",
      "[('author', 'http://www.wikidata.org/entity/Q190379'), ('film', 'http://www.wikidata.org/entity/Q1916423'), ('fname', 'The Cement Garden')]\n",
      "[('author', 'http://www.wikidata.org/entity/Q190379'), ('film', 'http://www.wikidata.org/entity/Q426397'), ('fname', 'The Innocent')]\n",
      "[('author', 'http://www.wikidata.org/entity/Q190379'), ('film', 'http://www.wikidata.org/entity/Q28923729'), ('fname', 'The Children Act')]\n",
      "[('author', 'http://www.wikidata.org/entity/Q214642'), ('film', 'http://www.wikidata.org/entity/Q2478977'), ('fname', 'Blue in the Face')]\n",
      "[('author', 'http://www.wikidata.org/entity/Q214642'), ('film', 'http://www.wikidata.org/entity/Q2915460'), ('fname', 'Act of God')]\n",
      "[('author', 'http://www.wikidata.org/entity/Q214642'), ('film', 'http://www.wikidata.org/entity/Q3213673'), ('fname', 'The Inner Life of Martin Frost')]\n",
      "[('author', 'http://www.wikidata.org/entity/Q214642'), ('film', 'http://www.wikidata.org/entity/Q2364684'), ('fname', 'The Music of Chance')]\n",
      "[('author', 'http://www.wikidata.org/entity/Q214642'), ('film', 'http://www.wikidata.org/entity/Q653447'), ('fname', 'Smoke')]\n",
      "[('author', 'http://www.wikidata.org/entity/Q214642'), ('film', 'http://www.wikidata.org/entity/Q1877215'), ('fname', 'Lulu on the Bridge')]\n",
      "[('author', 'http://www.wikidata.org/entity/Q214642'), ('film', 'http://www.wikidata.org/entity/Q3220942'), ('fname', 'The Center of the World')]\n"
     ]
    },
    {
     "data": {
      "text/plain": [
       "16"
      ]
     },
     "execution_count": 15,
     "metadata": {},
     "output_type": "execute_result"
    }
   ],
   "source": [
    "#Q25\n",
    "#retrieve the films where one of authors was the screenwriter (P58 found in Q19)\n",
    "queryString = \"\"\"\n",
    "SELECT ?author ?film ?fname WHERE { \n",
    "\n",
    "?film wdt:P58 ?author.\n",
    "VALUES ?author {wd:Q214642 wd:Q190379}\n",
    "\n",
    "#Labels\n",
    "?film <http://schema.org/name> ?fname .\n",
    "}\n",
    "ORDER BY ?author\n",
    "LIMIT 100\n",
    "\"\"\"\n",
    "\n",
    "print(\"Results\")\n",
    "run_query(queryString)"
   ]
  },
  {
   "cell_type": "markdown",
   "id": "9f9472d4-5ce0-44d5-9f00-bb6d9c180993",
   "metadata": {},
   "source": [
    "Retrieve the films where one of the authors had a role and also was the screenwriter (P58 found in Q19)."
   ]
  },
  {
   "cell_type": "code",
   "execution_count": 10,
   "id": "a1310186-aa2b-4810-8787-763442326687",
   "metadata": {},
   "outputs": [
    {
     "name": "stdout",
     "output_type": "stream",
     "text": [
      "Results\n",
      "[('author', 'http://www.wikidata.org/entity/Q214642'), ('film', 'http://www.wikidata.org/entity/Q2478977')]\n",
      "[('author', 'http://www.wikidata.org/entity/Q214642'), ('film', 'http://www.wikidata.org/entity/Q2915460')]\n",
      "[('author', 'http://www.wikidata.org/entity/Q214642'), ('film', 'http://www.wikidata.org/entity/Q3213673')]\n",
      "[('author', 'http://www.wikidata.org/entity/Q214642'), ('film', 'http://www.wikidata.org/entity/Q2364684')]\n",
      "[('author', 'http://www.wikidata.org/entity/Q214642'), ('film', 'http://www.wikidata.org/entity/Q653447')]\n",
      "[('author', 'http://www.wikidata.org/entity/Q214642'), ('film', 'http://www.wikidata.org/entity/Q1877215')]\n",
      "[('author', 'http://www.wikidata.org/entity/Q190379'), ('film', 'http://www.wikidata.org/entity/Q1626186')]\n"
     ]
    },
    {
     "data": {
      "text/plain": [
       "7"
      ]
     },
     "execution_count": 10,
     "metadata": {},
     "output_type": "execute_result"
    }
   ],
   "source": [
    "#Q26\n",
    "#retrieve the films where one of the authors had a role and also was the screenwriter (P58 found in Q19)\n",
    "queryString = \"\"\"\n",
    "SELECT DISTINCT ?author ?film WHERE { \n",
    "\n",
    "?film ?p ?author.\n",
    "VALUES ?p {wdt:P161 wdt:P162 wdt:P57}\n",
    "VALUES ?author {wd:Q214642 wd:Q190379}\n",
    "\n",
    "?film wdt:P58 ?author.\n",
    "\n",
    "}\n",
    "LIMIT 100\n",
    "\"\"\"\n",
    "\n",
    "print(\"Results\")\n",
    "run_query(queryString)"
   ]
  },
  {
   "cell_type": "markdown",
   "id": "e26cd689-ceae-4183-b746-ba67e84df887",
   "metadata": {},
   "source": [
    "Retrieve the films where one of the authors had a role and the film was based on one a novel written by him."
   ]
  },
  {
   "cell_type": "code",
   "execution_count": 11,
   "id": "8fbf22a0-9574-4fbc-a7c3-5f9628c2847f",
   "metadata": {},
   "outputs": [
    {
     "name": "stdout",
     "output_type": "stream",
     "text": [
      "Results\n",
      "[('author', 'http://www.wikidata.org/entity/Q190379'), ('film', 'http://www.wikidata.org/entity/Q27959336'), ('fname', 'On Chesil Beach')]\n",
      "[('author', 'http://www.wikidata.org/entity/Q190379'), ('film', 'http://www.wikidata.org/entity/Q1626186'), ('fname', 'Atonement')]\n",
      "[('author', 'http://www.wikidata.org/entity/Q190379'), ('film', 'http://www.wikidata.org/entity/Q1916423'), ('fname', 'The Cement Garden')]\n",
      "[('author', 'http://www.wikidata.org/entity/Q190379'), ('film', 'http://www.wikidata.org/entity/Q28923729'), ('fname', 'The Children Act')]\n"
     ]
    },
    {
     "data": {
      "text/plain": [
       "4"
      ]
     },
     "execution_count": 11,
     "metadata": {},
     "output_type": "execute_result"
    }
   ],
   "source": [
    "#Q27\n",
    "#retrieve the films where one of the authors had a role and the film was based on one a novel written by him\n",
    "queryString = \"\"\"\n",
    "SELECT DISTINCT ?author ?film ?fname WHERE { \n",
    "\n",
    "?film ?p ?author;\n",
    "      wdt:P144 ?book.\n",
    "?book wdt:P50 ?author.\n",
    "\n",
    "VALUES ?p {wdt:P161 wdt:P162 wdt:P57 wdt:P58}\n",
    "VALUES ?author {wd:Q214642 wd:Q190379}\n",
    "\n",
    "#Labels\n",
    "?film <http://schema.org/name> ?fname .\n",
    "\n",
    "}\n",
    "LIMIT 100\n",
    "\"\"\"\n",
    "\n",
    "print(\"Results\")\n",
    "run_query(queryString)"
   ]
  },
  {
   "cell_type": "markdown",
   "id": "ab406110-f1df-4e7b-a14c-490d60b99046",
   "metadata": {},
   "source": [
    "Retrieve how many films are based on a novel written by one of the two authors."
   ]
  },
  {
   "cell_type": "code",
   "execution_count": 13,
   "id": "eeec1aa5-ecec-42bc-92e1-a78d03dd191c",
   "metadata": {},
   "outputs": [
    {
     "name": "stdout",
     "output_type": "stream",
     "text": [
      "Results\n",
      "[('author', 'http://www.wikidata.org/entity/Q190379'), ('films', '4')]\n"
     ]
    },
    {
     "data": {
      "text/plain": [
       "1"
      ]
     },
     "execution_count": 13,
     "metadata": {},
     "output_type": "execute_result"
    }
   ],
   "source": [
    "#Q28\n",
    "#retrieve how many films are based on a novel written by one of the two authors\n",
    "queryString = \"\"\"\n",
    "SELECT ?author (COUNT(?film) AS ?films) WHERE { \n",
    "\n",
    "?film wdt:P144 ?book.\n",
    "?book wdt:P50 ?author.\n",
    "VALUES ?author {wd:Q214642 wd:Q190379}\n",
    "\n",
    "}\n",
    "GROUP BY ?author\n",
    "ORDER BY DESC(?films)\n",
    "LIMIT 100\n",
    "\"\"\"\n",
    "\n",
    "print(\"Results\")\n",
    "run_query(queryString)"
   ]
  },
  {
   "cell_type": "markdown",
   "id": "92274004-ee48-47d1-a3b5-f5478f50d3f6",
   "metadata": {},
   "source": [
    "I want to see what results retrieves the pattern P136 + Q52207399 (genre=based on a novel) found on Q23."
   ]
  },
  {
   "cell_type": "code",
   "execution_count": 14,
   "id": "c2da1d07-bacf-4e38-bfbe-129e97fc3df6",
   "metadata": {},
   "outputs": [
    {
     "name": "stdout",
     "output_type": "stream",
     "text": [
      "Results\n",
      "[('author', 'http://www.wikidata.org/entity/Q190379'), ('film', 'http://www.wikidata.org/entity/Q1626186'), ('fname', 'Atonement')]\n",
      "[('author', 'http://www.wikidata.org/entity/Q190379'), ('film', 'http://www.wikidata.org/entity/Q1916423'), ('fname', 'The Cement Garden')]\n"
     ]
    },
    {
     "data": {
      "text/plain": [
       "2"
      ]
     },
     "execution_count": 14,
     "metadata": {},
     "output_type": "execute_result"
    }
   ],
   "source": [
    "#Q29\n",
    "#i want to check P136 + Q52207399 (genre=based on a novel) found on Q23\n",
    "queryString = \"\"\"\n",
    "SELECT DISTINCT ?author ?film ?fname WHERE { \n",
    "\n",
    "?film ?p ?author;\n",
    "      wdt:P136 wd:Q52207399.\n",
    "\n",
    "VALUES ?p {wdt:P161 wdt:P162 wdt:P57 wdt:P58}\n",
    "VALUES ?author {wd:Q214642 wd:Q190379}\n",
    "\n",
    "#Labels\n",
    "?film <http://schema.org/name> ?fname .\n",
    "\n",
    "}\n",
    "LIMIT 100\n",
    "\"\"\"\n",
    "\n",
    "print(\"Results\")\n",
    "run_query(queryString)"
   ]
  },
  {
   "cell_type": "markdown",
   "id": "b29b5b9a-27db-467d-beb1-3a9f2b35977a",
   "metadata": {},
   "source": [
    "Count films where one of authors was the screenwriter (P58 found in Q19)."
   ]
  },
  {
   "cell_type": "code",
   "execution_count": 16,
   "id": "7a561bd3-5bab-407d-8ae0-00e7d0c816bd",
   "metadata": {},
   "outputs": [
    {
     "name": "stdout",
     "output_type": "stream",
     "text": [
      "Results\n",
      "[('author', 'http://www.wikidata.org/entity/Q214642'), ('films', '7')]\n",
      "[('author', 'http://www.wikidata.org/entity/Q190379'), ('films', '9')]\n"
     ]
    },
    {
     "data": {
      "text/plain": [
       "2"
      ]
     },
     "execution_count": 16,
     "metadata": {},
     "output_type": "execute_result"
    }
   ],
   "source": [
    "#Q30\n",
    "#count films where one of authors was the screenwriter (P58 found in Q19)\n",
    "queryString = \"\"\"\n",
    "SELECT ?author (COUNT(?film) AS ?films) WHERE { \n",
    "\n",
    "?film wdt:P58 ?author.\n",
    "FILTER ((?author=wd:Q214642) ||(?author=wd:Q190379))\n",
    "\n",
    "}\n",
    "GROUP BY ?author\n",
    "LIMIT 100\n",
    "\"\"\"\n",
    "\n",
    "print(\"Results\")\n",
    "run_query(queryString)"
   ]
  },
  {
   "cell_type": "markdown",
   "id": "3e5d5dda-3089-49ec-abb6-a481cc4f8a95",
   "metadata": {},
   "source": [
    "<h3>TASK 3 AND TASK 4</h3>\n",
    "I found the following properties: P161 (acted in), P162 (producer), P57 (director) and P58 (screenwriter) and I discovered that \n",
    "Auster acted in 2 films and he directed one. He also was the screenwriter in seven productions. I didn't find any film based on his novels but I think this is due to lack of data since he wrote \"Music of chance\" and also a acted in a film called \"Music of chance\".\n",
    "On the other hand McEwan acted in one film, produced one and directed four. He was also the screenwriter in 9 films. On top of that four films are based on his novels and he had a relevant role in all of them.\n",
    "The property that link a film to the book it is based on is P144."
   ]
  },
  {
   "cell_type": "markdown",
   "id": "8c90c706-dd08-4228-afa8-ff9fc78b10e4",
   "metadata": {},
   "source": [
    "<h3> TASK 5 STARTS HERE </h3>\n",
    "Which author won more literature-related awards? Have they ever being nominated for a Nobel award? "
   ]
  },
  {
   "cell_type": "markdown",
   "id": "7cd864a0-769f-4a23-8856-c2819fd85228",
   "metadata": {},
   "source": [
    "Try to find predicates about nomination/awards."
   ]
  },
  {
   "cell_type": "code",
   "execution_count": 20,
   "id": "80fa6cc7-1c67-4c77-a12f-bfcb4d558f01",
   "metadata": {},
   "outputs": [
    {
     "name": "stdout",
     "output_type": "stream",
     "text": [
      "Results\n",
      "[('p', 'http://www.wikidata.org/prop/direct/P101'), ('pname', 'field of work')]\n",
      "[('p', 'http://www.wikidata.org/prop/direct/P106'), ('pname', 'occupation')]\n",
      "[('p', 'http://www.wikidata.org/prop/direct/P108'), ('pname', 'employer')]\n",
      "[('p', 'http://www.wikidata.org/prop/direct/P1343'), ('pname', 'described by source')]\n",
      "[('p', 'http://www.wikidata.org/prop/direct/P136'), ('pname', 'genre')]\n",
      "[('p', 'http://www.wikidata.org/prop/direct/P140'), ('pname', 'religion')]\n",
      "[('p', 'http://www.wikidata.org/prop/direct/P1411'), ('pname', 'nominated for')]\n",
      "[('p', 'http://www.wikidata.org/prop/direct/P1412'), ('pname', 'languages spoken, written or signed')]\n",
      "[('p', 'http://www.wikidata.org/prop/direct/P166'), ('pname', 'award received')]\n",
      "[('p', 'http://www.wikidata.org/prop/direct/P172'), ('pname', 'ethnic group')]\n",
      "[('p', 'http://www.wikidata.org/prop/direct/P18'), ('pname', 'image')]\n",
      "[('p', 'http://www.wikidata.org/prop/direct/P19'), ('pname', 'place of birth')]\n",
      "[('p', 'http://www.wikidata.org/prop/direct/P21'), ('pname', 'sex or gender')]\n",
      "[('p', 'http://www.wikidata.org/prop/direct/P26'), ('pname', 'spouse')]\n",
      "[('p', 'http://www.wikidata.org/prop/direct/P27'), ('pname', 'country of citizenship')]\n",
      "[('p', 'http://www.wikidata.org/prop/direct/P31'), ('pname', 'instance of')]\n",
      "[('p', 'http://www.wikidata.org/prop/direct/P40'), ('pname', 'child')]\n",
      "[('p', 'http://www.wikidata.org/prop/direct/P463'), ('pname', 'member of')]\n",
      "[('p', 'http://www.wikidata.org/prop/direct/P485'), ('pname', 'archives at')]\n",
      "[('p', 'http://www.wikidata.org/prop/direct/P6104'), ('pname', 'maintained by WikiProject')]\n",
      "[('p', 'http://www.wikidata.org/prop/direct/P6379'), ('pname', 'has works in the collection')]\n",
      "[('p', 'http://www.wikidata.org/prop/direct/P69'), ('pname', 'educated at')]\n",
      "[('p', 'http://www.wikidata.org/prop/direct/P7084'), ('pname', 'related category')]\n",
      "[('p', 'http://www.wikidata.org/prop/direct/P734'), ('pname', 'family name')]\n",
      "[('p', 'http://www.wikidata.org/prop/direct/P735'), ('pname', 'given name')]\n",
      "[('p', 'http://www.wikidata.org/prop/direct/P737'), ('pname', 'influenced by')]\n",
      "[('p', 'http://www.wikidata.org/prop/direct/P7763'), ('pname', 'copyright status as a creator')]\n",
      "[('p', 'http://www.wikidata.org/prop/direct/P800'), ('pname', 'notable work')]\n",
      "[('p', 'http://www.wikidata.org/prop/direct/P856'), ('pname', 'official website')]\n",
      "[('p', 'http://www.wikidata.org/prop/direct/P910'), ('pname', \"topic's main category\")]\n"
     ]
    },
    {
     "data": {
      "text/plain": [
       "30"
      ]
     },
     "execution_count": 20,
     "metadata": {},
     "output_type": "execute_result"
    }
   ],
   "source": [
    "#Q31\n",
    "#check predicates about nomination/awards\n",
    "queryString = \"\"\"\n",
    "SELECT DISTINCT ?p ?pname WHERE { \n",
    "\n",
    "?author ?p ?o.\n",
    "VALUES ?author {wd:Q214642 wd:Q190379}\n",
    "FILTER(!isLiteral(?o))\n",
    "#Labels\n",
    "?p <http://schema.org/name> ?pname .\n",
    "}\n",
    "LIMIT 100\n",
    "\"\"\"\n",
    "\n",
    "print(\"Results\")\n",
    "run_query(queryString)"
   ]
  },
  {
   "cell_type": "markdown",
   "id": "56cd12ac-67d2-4e4b-b2f0-be4c153339e5",
   "metadata": {},
   "source": [
    "I found P166 (award received) and P1411 (nominated for). Retrieve some award properties."
   ]
  },
  {
   "cell_type": "code",
   "execution_count": 21,
   "id": "b6788216-b6b6-4f2f-98a1-d5153714d7fc",
   "metadata": {},
   "outputs": [
    {
     "name": "stdout",
     "output_type": "stream",
     "text": [
      "Results\n",
      "[('p', 'http://www.wikidata.org/prop/direct/P1346'), ('pname', 'winner')]\n",
      "[('p', 'http://www.wikidata.org/prop/direct/P1366'), ('pname', 'replaced by')]\n",
      "[('p', 'http://www.wikidata.org/prop/direct/P138'), ('pname', 'named after')]\n",
      "[('p', 'http://www.wikidata.org/prop/direct/P1417'), ('pname', 'Encyclopædia Britannica Online ID')]\n",
      "[('p', 'http://www.wikidata.org/prop/direct/P1448'), ('pname', 'official name')]\n",
      "[('p', 'http://www.wikidata.org/prop/direct/P17'), ('pname', 'country')]\n",
      "[('p', 'http://www.wikidata.org/prop/direct/P1705'), ('pname', 'native label')]\n",
      "[('p', 'http://www.wikidata.org/prop/direct/P1889'), ('pname', 'different from')]\n",
      "[('p', 'http://www.wikidata.org/prop/direct/P2121'), ('pname', 'prize money')]\n",
      "[('p', 'http://www.wikidata.org/prop/direct/P227'), ('pname', 'GND ID')]\n",
      "[('p', 'http://www.wikidata.org/prop/direct/P244'), ('pname', 'Library of Congress authority ID')]\n",
      "[('p', 'http://www.wikidata.org/prop/direct/P268'), ('pname', 'Bibliothèque nationale de France ID')]\n",
      "[('p', 'http://www.wikidata.org/prop/direct/P276'), ('pname', 'location')]\n",
      "[('p', 'http://www.wikidata.org/prop/direct/P31'), ('pname', 'instance of')]\n",
      "[('p', 'http://www.wikidata.org/prop/direct/P3221'), ('pname', 'New York Times topic ID')]\n",
      "[('p', 'http://www.wikidata.org/prop/direct/P3417'), ('pname', 'Quora topic ID')]\n",
      "[('p', 'http://www.wikidata.org/prop/direct/P3569'), ('pname', 'Cultureel Woordenboek ID')]\n",
      "[('p', 'http://www.wikidata.org/prop/direct/P373'), ('pname', 'Commons category')]\n",
      "[('p', 'http://www.wikidata.org/prop/direct/P444'), ('pname', 'review score')]\n",
      "[('p', 'http://www.wikidata.org/prop/direct/P5008'), ('pname', 'on focus list of Wikimedia project')]\n",
      "[('p', 'http://www.wikidata.org/prop/direct/P571'), ('pname', 'inception')]\n",
      "[('p', 'http://www.wikidata.org/prop/direct/P576'), ('pname', 'dissolved, abolished or demolished date')]\n",
      "[('p', 'http://www.wikidata.org/prop/direct/P6081'), ('pname', 'RIA Novosti reference')]\n",
      "[('p', 'http://www.wikidata.org/prop/direct/P646'), ('pname', 'Freebase ID')]\n",
      "[('p', 'http://www.wikidata.org/prop/direct/P7818'), ('pname', 'French Vikidia ID')]\n",
      "[('p', 'http://www.wikidata.org/prop/direct/P856'), ('pname', 'official website')]\n",
      "[('p', 'http://www.wikidata.org/prop/direct/P859'), ('pname', 'sponsor')]\n",
      "[('p', 'http://www.wikidata.org/prop/direct/P910'), ('pname', \"topic's main category\")]\n",
      "[('p', 'http://www.wikidata.org/prop/direct/P2517'), ('pname', 'category for recipients of this award')]\n",
      "[('p', 'http://www.wikidata.org/prop/direct/P8295'), ('pname', 'AustLit ID')]\n"
     ]
    },
    {
     "data": {
      "text/plain": [
       "30"
      ]
     },
     "execution_count": 21,
     "metadata": {},
     "output_type": "execute_result"
    }
   ],
   "source": [
    "#Q32\n",
    "#i found out P166 (award received) and P1411 (nominated for)\n",
    "queryString = \"\"\"\n",
    "SELECT DISTINCT ?p ?pname WHERE { \n",
    "\n",
    "?author wdt:P1411 ?award.\n",
    "?award ?p ?o.\n",
    "VALUES ?author {wd:Q214642 wd:Q190379}\n",
    "\n",
    "#Labels\n",
    "?p <http://schema.org/name> ?pname .\n",
    "}\n",
    "LIMIT 100\n",
    "\"\"\"\n",
    "\n",
    "print(\"Results\")\n",
    "run_query(queryString)"
   ]
  },
  {
   "cell_type": "markdown",
   "id": "f7de29ff-42e4-4c1a-923c-399e0c5cb6d2",
   "metadata": {},
   "source": [
    "Retrieve some properties of award super class."
   ]
  },
  {
   "cell_type": "code",
   "execution_count": 22,
   "id": "ace4040d-d197-4462-b3aa-0816f3fedf84",
   "metadata": {},
   "outputs": [
    {
     "name": "stdout",
     "output_type": "stream",
     "text": [
      "Results\n",
      "[('p', 'http://www.wikidata.org/prop/direct/P1424'), ('pname', \"topic's main template\")]\n",
      "[('p', 'http://www.wikidata.org/prop/direct/P154'), ('pname', 'logo image')]\n",
      "[('p', 'http://www.wikidata.org/prop/direct/P1687'), ('pname', 'Wikidata property')]\n",
      "[('p', 'http://www.wikidata.org/prop/direct/P18'), ('pname', 'image')]\n",
      "[('p', 'http://www.wikidata.org/prop/direct/P1889'), ('pname', 'different from')]\n",
      "[('p', 'http://www.wikidata.org/prop/direct/P227'), ('pname', 'GND ID')]\n",
      "[('p', 'http://www.wikidata.org/prop/direct/P2347'), ('pname', 'YSO ID')]\n",
      "[('p', 'http://www.wikidata.org/prop/direct/P244'), ('pname', 'Library of Congress authority ID')]\n",
      "[('p', 'http://www.wikidata.org/prop/direct/P2581'), ('pname', 'BabelNet ID')]\n",
      "[('p', 'http://www.wikidata.org/prop/direct/P268'), ('pname', 'Bibliothèque nationale de France ID')]\n",
      "[('p', 'http://www.wikidata.org/prop/direct/P279'), ('pname', 'subclass of')]\n",
      "[('p', 'http://www.wikidata.org/prop/direct/P31'), ('pname', 'instance of')]\n",
      "[('p', 'http://www.wikidata.org/prop/direct/P3222'), ('pname', 'NE.se ID')]\n",
      "[('p', 'http://www.wikidata.org/prop/direct/P3417'), ('pname', 'Quora topic ID')]\n",
      "[('p', 'http://www.wikidata.org/prop/direct/P345'), ('pname', 'IMDb ID')]\n",
      "[('p', 'http://www.wikidata.org/prop/direct/P349'), ('pname', 'National Diet Library ID')]\n",
      "[('p', 'http://www.wikidata.org/prop/direct/P373'), ('pname', 'Commons category')]\n",
      "[('p', 'http://www.wikidata.org/prop/direct/P3916'), ('pname', 'UNESCO Thesaurus ID')]\n",
      "[('p', 'http://www.wikidata.org/prop/direct/P4342'), ('pname', 'Store norske leksikon ID')]\n",
      "[('p', 'http://www.wikidata.org/prop/direct/P4854'), ('pname', 'Uppslagsverket Finland ID')]\n",
      "[('p', 'http://www.wikidata.org/prop/direct/P5019'), ('pname', 'Brockhaus Enzyklopädie online ID')]\n",
      "[('p', 'http://www.wikidata.org/prop/direct/P508'), ('pname', 'BNCF Thesaurus ID')]\n",
      "[('p', 'http://www.wikidata.org/prop/direct/P5198'), ('pname', 'ASC Leiden Thesaurus ID')]\n",
      "[('p', 'http://www.wikidata.org/prop/direct/P571'), ('pname', 'inception')]\n",
      "[('p', 'http://www.wikidata.org/prop/direct/P6104'), ('pname', 'maintained by WikiProject')]\n",
      "[('p', 'http://www.wikidata.org/prop/direct/P6293'), ('pname', 'YSA ID')]\n",
      "[('p', 'http://www.wikidata.org/prop/direct/P646'), ('pname', 'Freebase ID')]\n",
      "[('p', 'http://www.wikidata.org/prop/direct/P7033'), ('pname', 'Australian Educational Vocabulary ID')]\n",
      "[('p', 'http://www.wikidata.org/prop/direct/P8309'), ('pname', 'Yle topic ID')]\n",
      "[('p', 'http://www.wikidata.org/prop/direct/P8408'), ('pname', 'KBpedia ID')]\n",
      "[('p', 'http://www.wikidata.org/prop/direct/P856'), ('pname', 'official website')]\n",
      "[('p', 'http://www.wikidata.org/prop/direct/P902'), ('pname', 'HDS ID')]\n",
      "[('p', 'http://www.wikidata.org/prop/direct/P910'), ('pname', \"topic's main category\")]\n",
      "[('p', 'http://www.wikidata.org/prop/direct/P1027'), ('pname', 'conferred by')]\n"
     ]
    },
    {
     "data": {
      "text/plain": [
       "34"
      ]
     },
     "execution_count": 22,
     "metadata": {},
     "output_type": "execute_result"
    }
   ],
   "source": [
    "#Q33\n",
    "#i found out P166 (award received) and P1411 (nominated for)\n",
    "queryString = \"\"\"\n",
    "SELECT DISTINCT ?p ?pname WHERE { \n",
    "\n",
    "?author wdt:P1411 ?award.\n",
    "?award wdt:P31 ?s.\n",
    "?s ?p ?o.\n",
    "VALUES ?author {wd:Q214642 wd:Q190379}\n",
    "\n",
    "#Labels\n",
    "?p <http://schema.org/name> ?pname .\n",
    "}\n",
    "LIMIT 100\n",
    "\"\"\"\n",
    "\n",
    "print(\"Results\")\n",
    "run_query(queryString)"
   ]
  },
  {
   "cell_type": "markdown",
   "id": "0f2c3f8a-77aa-455c-9ed5-d80c1a925421",
   "metadata": {},
   "source": [
    "Retrieve the award won by Auster and its topic."
   ]
  },
  {
   "cell_type": "code",
   "execution_count": 23,
   "id": "e37ab64e-95d2-40cb-8056-688ef40ced1f",
   "metadata": {},
   "outputs": [
    {
     "name": "stdout",
     "output_type": "stream",
     "text": [
      "Results\n",
      "[('award', 'http://www.wikidata.org/entity/Q1188661'), ('aname', 'PEN/Faulkner Award for Fiction'), ('topic', 'http://www.wikidata.org/entity/Q8708086'), ('tname', 'Category:PEN/Faulkner Foundation awards')]\n",
      "[('award', 'http://www.wikidata.org/entity/Q52382875'), ('aname', 'AAAS Fellow'), ('topic', 'http://www.wikidata.org/entity/Q6619589'), ('tname', 'Category:Fellows of the American Academy of Arts and Sciences')]\n",
      "[('award', 'http://www.wikidata.org/entity/Q13452531'), ('aname', 'Commandeur des Arts et des Lettres\\u200e'), ('topic', 'http://www.wikidata.org/entity/Q9145202'), ('tname', 'Category:Commandeurs of the Ordre des Arts et des Lettres')]\n"
     ]
    },
    {
     "data": {
      "text/plain": [
       "3"
      ]
     },
     "execution_count": 23,
     "metadata": {},
     "output_type": "execute_result"
    }
   ],
   "source": [
    "#Q32\n",
    "#award won by Auster + topic (P910)\n",
    "queryString = \"\"\"\n",
    "SELECT DISTINCT ?award ?aname ?topic ?tname WHERE { \n",
    "\n",
    "wd:Q214642 wdt:P166 ?award.\n",
    "?award wdt:P910 ?topic.\n",
    "\n",
    "#Labels\n",
    "?award <http://schema.org/name> ?aname .\n",
    "?topic <http://schema.org/name> ?tname .\n",
    "}\n",
    "LIMIT 100\n",
    "\"\"\"\n",
    "\n",
    "print(\"Results\")\n",
    "run_query(queryString)"
   ]
  },
  {
   "cell_type": "markdown",
   "id": "cc72bca9-1e1a-49ac-8dd9-f02098241edf",
   "metadata": {},
   "source": [
    "Try to see what results we can obtain using P527."
   ]
  },
  {
   "cell_type": "code",
   "execution_count": 25,
   "id": "ce07b688-9ce8-4a16-8204-be133112abde",
   "metadata": {},
   "outputs": [
    {
     "name": "stdout",
     "output_type": "stream",
     "text": [
      "Results\n",
      "[('award', 'http://www.wikidata.org/entity/Q3332454'), ('aname', 'Princess of Asturias Literary Prize'), ('c', 'http://www.wikidata.org/entity/Q17337380'), ('cname', 'Category:Recipients of the Prince of Asturias Awards')]\n",
      "[('award', 'http://www.wikidata.org/entity/Q52382875'), ('aname', 'AAAS Fellow'), ('c', 'http://www.wikidata.org/entity/Q6619589'), ('cname', 'Category:Fellows of the American Academy of Arts and Sciences')]\n",
      "[('award', 'http://www.wikidata.org/entity/Q13452531'), ('aname', 'Commandeur des Arts et des Lettres\\u200e'), ('c', 'http://www.wikidata.org/entity/Q9145202'), ('cname', 'Category:Commandeurs of the Ordre des Arts et des Lettres')]\n"
     ]
    },
    {
     "data": {
      "text/plain": [
       "3"
      ]
     },
     "execution_count": 25,
     "metadata": {},
     "output_type": "execute_result"
    }
   ],
   "source": [
    "#Q33\n",
    "#award categories for recipients P(2517)\n",
    "queryString = \"\"\"\n",
    "SELECT DISTINCT ?award ?aname ?c ?cname WHERE { \n",
    "\n",
    "wd:Q214642 wdt:P166 ?award.\n",
    "?award wdt:P2517 ?c.\n",
    "\n",
    "#Labels\n",
    "?award <http://schema.org/name> ?aname .\n",
    "?c <http://schema.org/name> ?cname .\n",
    "}\n",
    "LIMIT 100\n",
    "\"\"\"\n",
    "\n",
    "print(\"Results\")\n",
    "run_query(queryString)"
   ]
  },
  {
   "cell_type": "markdown",
   "id": "89936134-f953-43f4-a42a-faaee41bfb6e",
   "metadata": {},
   "source": [
    "Retrieve some properties which have an award as object."
   ]
  },
  {
   "cell_type": "code",
   "execution_count": 26,
   "id": "8225faba-2b8d-438d-a319-1b85ce95a765",
   "metadata": {},
   "outputs": [
    {
     "name": "stdout",
     "output_type": "stream",
     "text": [
      "Results\n",
      "[('p', 'http://www.wikidata.org/prop/direct/P1411'), ('pname', 'nominated for')]\n",
      "[('p', 'http://www.wikidata.org/prop/direct/P166'), ('pname', 'award received')]\n",
      "[('p', 'http://www.wikidata.org/prop/direct/P1889'), ('pname', 'different from')]\n",
      "[('p', 'http://www.wikidata.org/prop/direct/P301'), ('pname', \"category's main topic\")]\n",
      "[('p', 'http://www.wikidata.org/prop/direct/P463'), ('pname', 'member of')]\n",
      "[('p', 'http://www.wikidata.org/prop/direct/P527'), ('pname', 'has part')]\n",
      "[('p', 'http://www.wikidata.org/prop/direct/P971'), ('pname', 'category combines topics')]\n",
      "[('p', 'http://www.wikidata.org/prop/direct/P3730'), ('pname', 'next higher rank')]\n"
     ]
    },
    {
     "data": {
      "text/plain": [
       "8"
      ]
     },
     "execution_count": 26,
     "metadata": {},
     "output_type": "execute_result"
    }
   ],
   "source": [
    "#Q34\n",
    "#reverse path\n",
    "queryString = \"\"\"\n",
    "SELECT DISTINCT ?p ?pname WHERE { \n",
    "\n",
    "wd:Q214642 wdt:P166 ?award.\n",
    "?s ?p ?award.\n",
    "\n",
    "#Labels\n",
    "?p <http://schema.org/name> ?pname .\n",
    "}\n",
    "LIMIT 100\n",
    "\"\"\"\n",
    "\n",
    "print(\"Results\")\n",
    "run_query(queryString)"
   ]
  },
  {
   "cell_type": "markdown",
   "id": "8064a298-fc2d-46c1-944e-fd4139ddb359",
   "metadata": {},
   "source": [
    "To distinguish literature award could be an useful to look the connection between book and award instead of author and award."
   ]
  },
  {
   "cell_type": "code",
   "execution_count": 27,
   "id": "2dc1d202-1c2b-4595-90f8-62b1d5be5f34",
   "metadata": {},
   "outputs": [
    {
     "name": "stdout",
     "output_type": "stream",
     "text": [
      "Results\n",
      "Empty\n"
     ]
    },
    {
     "data": {
      "text/plain": [
       "0"
      ]
     },
     "execution_count": 27,
     "metadata": {},
     "output_type": "execute_result"
    }
   ],
   "source": [
    "#Q35\n",
    "#to disntiguish literature award could be an ideal to look the connection between book and award instead of author and award\n",
    "queryString = \"\"\"\n",
    "SELECT DISTINCT ?award ?aname WHERE { \n",
    "\n",
    "?book wdt:P50 wd:Q214642;\n",
    "      wdt:P166 ?award.\n",
    "\n",
    "#Labels\n",
    "?a <http://schema.org/name> ?aname .\n",
    "}\n",
    "LIMIT 100\n",
    "\"\"\"\n",
    "\n",
    "print(\"Results\")\n",
    "run_query(queryString)"
   ]
  },
  {
   "cell_type": "markdown",
   "id": "bfeaaf32-6f93-4c19-9cf2-b3537dc1afdb",
   "metadata": {},
   "source": [
    "Count nominations for each author."
   ]
  },
  {
   "cell_type": "code",
   "execution_count": 28,
   "id": "e1733336-4be3-4941-bc0d-dbde92e60e70",
   "metadata": {},
   "outputs": [
    {
     "name": "stdout",
     "output_type": "stream",
     "text": [
      "Results\n",
      "[('author', 'http://www.wikidata.org/entity/Q190379'), ('nomination', '4')]\n"
     ]
    },
    {
     "data": {
      "text/plain": [
       "1"
      ]
     },
     "execution_count": 28,
     "metadata": {},
     "output_type": "execute_result"
    }
   ],
   "source": [
    "#Q36\n",
    "#count nominations for each author\n",
    "queryString = \"\"\"\n",
    "SELECT ?author (COUNT(?n) AS ?nomination) WHERE { \n",
    "\n",
    "?author wdt:P1411 ?n.\n",
    "FILTER ((?author=wd:Q214642) ||(?author=wd:Q190379))\n",
    "} \n",
    "GROUP BY ?author\n",
    "LIMIT 100\n",
    "\"\"\"\n",
    "\n",
    "print(\"Results\")\n",
    "run_query(queryString)"
   ]
  },
  {
   "cell_type": "markdown",
   "id": "87d6ba2a-29f0-4671-8fa9-e6e29f342979",
   "metadata": {},
   "source": [
    "Count awards won for each author."
   ]
  },
  {
   "cell_type": "code",
   "execution_count": 29,
   "id": "d84eeef9-1c65-40bd-bebc-07816c40b165",
   "metadata": {},
   "outputs": [
    {
     "name": "stdout",
     "output_type": "stream",
     "text": [
      "Results\n",
      "[('author', 'http://www.wikidata.org/entity/Q214642'), ('awards', '5')]\n",
      "[('author', 'http://www.wikidata.org/entity/Q190379'), ('awards', '15')]\n"
     ]
    },
    {
     "data": {
      "text/plain": [
       "2"
      ]
     },
     "execution_count": 29,
     "metadata": {},
     "output_type": "execute_result"
    }
   ],
   "source": [
    "#Q37\n",
    "#count awards won for each author\n",
    "queryString = \"\"\"\n",
    "SELECT ?author (COUNT(?n) AS ?awards) WHERE { \n",
    "\n",
    "?author wdt:P166 ?n.\n",
    "FILTER ((?author=wd:Q214642) ||(?author=wd:Q190379))\n",
    "} \n",
    "GROUP BY ?author\n",
    "LIMIT 100\n",
    "\"\"\"\n",
    "\n",
    "print(\"Results\")\n",
    "run_query(queryString)"
   ]
  },
  {
   "cell_type": "markdown",
   "id": "323a18c7-67ce-4899-9868-6c67444aec4a",
   "metadata": {},
   "source": [
    "Again retrieve some award properties."
   ]
  },
  {
   "cell_type": "code",
   "execution_count": 30,
   "id": "f8d270a3-6f67-4a35-ba69-764fd904fcb8",
   "metadata": {},
   "outputs": [
    {
     "name": "stdout",
     "output_type": "stream",
     "text": [
      "Results\n",
      "[('p', 'http://www.wikidata.org/prop/direct/P3729'), ('pname', 'next lower rank')]\n",
      "[('p', 'http://www.wikidata.org/prop/direct/P112'), ('pname', 'founded by')]\n",
      "[('p', 'http://www.wikidata.org/prop/direct/P1346'), ('pname', 'winner')]\n",
      "[('p', 'http://www.wikidata.org/prop/direct/P138'), ('pname', 'named after')]\n",
      "[('p', 'http://www.wikidata.org/prop/direct/P1417'), ('pname', 'Encyclopædia Britannica Online ID')]\n",
      "[('p', 'http://www.wikidata.org/prop/direct/P1438'), ('pname', 'Jewish Encyclopedia ID (Russian)')]\n",
      "[('p', 'http://www.wikidata.org/prop/direct/P17'), ('pname', 'country')]\n",
      "[('p', 'http://www.wikidata.org/prop/direct/P1705'), ('pname', 'native label')]\n",
      "[('p', 'http://www.wikidata.org/prop/direct/P18'), ('pname', 'image')]\n",
      "[('p', 'http://www.wikidata.org/prop/direct/P1813'), ('pname', 'short name')]\n",
      "[('p', 'http://www.wikidata.org/prop/direct/P1889'), ('pname', 'different from')]\n",
      "[('p', 'http://www.wikidata.org/prop/direct/P2121'), ('pname', 'prize money')]\n",
      "[('p', 'http://www.wikidata.org/prop/direct/P227'), ('pname', 'GND ID')]\n",
      "[('p', 'http://www.wikidata.org/prop/direct/P2354'), ('pname', 'has list')]\n",
      "[('p', 'http://www.wikidata.org/prop/direct/P244'), ('pname', 'Library of Congress authority ID')]\n",
      "[('p', 'http://www.wikidata.org/prop/direct/P2671'), ('pname', 'Google Knowledge Graph ID')]\n",
      "[('p', 'http://www.wikidata.org/prop/direct/P268'), ('pname', 'Bibliothèque nationale de France ID')]\n",
      "[('p', 'http://www.wikidata.org/prop/direct/P276'), ('pname', 'location')]\n",
      "[('p', 'http://www.wikidata.org/prop/direct/P279'), ('pname', 'subclass of')]\n",
      "[('p', 'http://www.wikidata.org/prop/direct/P31'), ('pname', 'instance of')]\n",
      "[('p', 'http://www.wikidata.org/prop/direct/P3221'), ('pname', 'New York Times topic ID')]\n",
      "[('p', 'http://www.wikidata.org/prop/direct/P3417'), ('pname', 'Quora topic ID')]\n",
      "[('p', 'http://www.wikidata.org/prop/direct/P3569'), ('pname', 'Cultureel Woordenboek ID')]\n",
      "[('p', 'http://www.wikidata.org/prop/direct/P361'), ('pname', 'part of')]\n",
      "[('p', 'http://www.wikidata.org/prop/direct/P373'), ('pname', 'Commons category')]\n",
      "[('p', 'http://www.wikidata.org/prop/direct/P444'), ('pname', 'review score')]\n",
      "[('p', 'http://www.wikidata.org/prop/direct/P4839'), ('pname', 'Wolfram Language entity code')]\n",
      "[('p', 'http://www.wikidata.org/prop/direct/P5008'), ('pname', 'on focus list of Wikimedia project')]\n",
      "[('p', 'http://www.wikidata.org/prop/direct/P569'), ('pname', 'date of birth')]\n",
      "[('p', 'http://www.wikidata.org/prop/direct/P571'), ('pname', 'inception')]\n",
      "[('p', 'http://www.wikidata.org/prop/direct/P580'), ('pname', 'start time')]\n",
      "[('p', 'http://www.wikidata.org/prop/direct/P6081'), ('pname', 'RIA Novosti reference')]\n",
      "[('p', 'http://www.wikidata.org/prop/direct/P646'), ('pname', 'Freebase ID')]\n",
      "[('p', 'http://www.wikidata.org/prop/direct/P856'), ('pname', 'official website')]\n",
      "[('p', 'http://www.wikidata.org/prop/direct/P859'), ('pname', 'sponsor')]\n",
      "[('p', 'http://www.wikidata.org/prop/direct/P910'), ('pname', \"topic's main category\")]\n",
      "[('p', 'http://www.wikidata.org/prop/direct/P1027'), ('pname', 'conferred by')]\n",
      "[('p', 'http://www.wikidata.org/prop/direct/P2425'), ('pname', 'service ribbon image')]\n",
      "[('p', 'http://www.wikidata.org/prop/direct/P2517'), ('pname', 'category for recipients of this award')]\n",
      "[('p', 'http://www.wikidata.org/prop/direct/P3730'), ('pname', 'next higher rank')]\n",
      "[('p', 'http://www.wikidata.org/prop/direct/P8295'), ('pname', 'AustLit ID')]\n"
     ]
    },
    {
     "data": {
      "text/plain": [
       "41"
      ]
     },
     "execution_count": 30,
     "metadata": {},
     "output_type": "execute_result"
    }
   ],
   "source": [
    "#Q38\n",
    "#have a look at predicates of awards\n",
    "queryString = \"\"\"\n",
    "SELECT DISTINCT ?p ?pname WHERE { \n",
    "\n",
    "?author wdt:P166 ?award.\n",
    "?award ?p ?o.\n",
    "VALUES ?author {wd:Q214642 wd:Q190379}\n",
    "\n",
    "#Labels\n",
    "?p <http://schema.org/name> ?pname .\n",
    "}\n",
    "LIMIT 100\n",
    "\"\"\"\n",
    "\n",
    "print(\"Results\")\n",
    "run_query(queryString)"
   ]
  },
  {
   "cell_type": "markdown",
   "id": "e81ef487-93e4-426f-92de-1a6e3660fe92",
   "metadata": {},
   "source": [
    "Try to use some properties found above to distinguish the literary awards."
   ]
  },
  {
   "cell_type": "code",
   "execution_count": 32,
   "id": "30cea634-2604-40ca-a967-17268f289fc5",
   "metadata": {},
   "outputs": [
    {
     "name": "stdout",
     "output_type": "stream",
     "text": [
      "Results\n",
      "[('award', 'http://www.wikidata.org/entity/Q3405076'), ('o', 'http://www.wikidata.org/entity/Q58352'), ('oname', 'Prix Médicis')]\n",
      "[('award', 'http://www.wikidata.org/entity/Q13452531'), ('o', 'http://www.wikidata.org/entity/Q716909'), ('oname', 'Ordre des Arts et des Lettres')]\n",
      "[('award', 'http://www.wikidata.org/entity/Q3404580'), ('o', 'http://www.wikidata.org/entity/Q18945'), ('oname', 'Prix Femina')]\n",
      "[('award', 'http://www.wikidata.org/entity/Q3332454'), ('o', 'http://www.wikidata.org/entity/Q329157'), ('oname', 'Princess of Asturias Awards')]\n",
      "[('award', 'http://www.wikidata.org/entity/Q12201477'), ('o', 'http://www.wikidata.org/entity/Q14420'), ('oname', 'Order of the British Empire')]\n"
     ]
    },
    {
     "data": {
      "text/plain": [
       "5"
      ]
     },
     "execution_count": 32,
     "metadata": {},
     "output_type": "execute_result"
    }
   ],
   "source": [
    "#Q39\n",
    "#part of\n",
    "queryString = \"\"\"\n",
    "SELECT DISTINCT ?award ?o ?oname WHERE { \n",
    "\n",
    "?author wdt:P166 ?award.\n",
    "?award wdt:P361 ?o.\n",
    "VALUES ?author {wd:Q214642 wd:Q190379}\n",
    "\n",
    "#Labels\n",
    "?o <http://schema.org/name> ?oname .\n",
    "}\n",
    "LIMIT 100\n",
    "\"\"\"\n",
    "\n",
    "print(\"Results\")\n",
    "run_query(queryString)"
   ]
  },
  {
   "cell_type": "code",
   "execution_count": 2,
   "id": "b642b489-eea7-4216-b7d6-56d3626dbc03",
   "metadata": {},
   "outputs": [
    {
     "name": "stdout",
     "output_type": "stream",
     "text": [
      "Results\n",
      "[('award', 'http://www.wikidata.org/entity/Q15271633'), ('aname', 'Fellow of the Royal Society of Arts'), ('o', 'http://www.wikidata.org/entity/Q618779'), ('oname', 'award')]\n",
      "[('award', 'http://www.wikidata.org/entity/Q5153503'), ('aname', 'Common Wealth Award of Distinguished Service'), ('o', 'http://www.wikidata.org/entity/Q618779'), ('oname', 'award')]\n",
      "[('award', 'http://www.wikidata.org/entity/Q50622024'), ('aname', 'honorary doctorate of Carlos III University'), ('o', 'http://www.wikidata.org/entity/Q618779'), ('oname', 'award')]\n",
      "[('award', 'http://www.wikidata.org/entity/Q56494487'), ('aname', 'honorary doctor of the University of Sussex'), ('o', 'http://www.wikidata.org/entity/Q618779'), ('oname', 'award')]\n",
      "[('award', 'http://www.wikidata.org/entity/Q891461'), ('aname', 'Bollinger Everyman Wodehouse Prize'), ('o', 'http://www.wikidata.org/entity/Q618779'), ('oname', 'award')]\n",
      "[('award', 'http://www.wikidata.org/entity/Q277787'), ('aname', 'Jerusalem Prize'), ('o', 'http://www.wikidata.org/entity/Q618779'), ('oname', 'award')]\n",
      "[('award', 'http://www.wikidata.org/entity/Q3332454'), ('aname', 'Princess of Asturias Literary Prize'), ('o', 'http://www.wikidata.org/entity/Q329157'), ('oname', 'Princess of Asturias Awards')]\n",
      "[('award', 'http://www.wikidata.org/entity/Q160082'), ('aname', 'Booker Prize'), ('o', 'http://www.wikidata.org/entity/Q378427'), ('oname', 'literary award')]\n",
      "[('award', 'http://www.wikidata.org/entity/Q3404580'), ('aname', 'Prix Femina étranger'), ('o', 'http://www.wikidata.org/entity/Q378427'), ('oname', 'literary award')]\n",
      "[('award', 'http://www.wikidata.org/entity/Q39477935'), ('aname', 'Fellow of the Royal Society of Literature'), ('o', 'http://www.wikidata.org/entity/Q378427'), ('oname', 'literary award')]\n",
      "[('award', 'http://www.wikidata.org/entity/Q392586'), ('aname', 'James Tait Black Memorial Prize'), ('o', 'http://www.wikidata.org/entity/Q378427'), ('oname', 'literary award')]\n",
      "[('award', 'http://www.wikidata.org/entity/Q3332454'), ('aname', 'Princess of Asturias Literary Prize'), ('o', 'http://www.wikidata.org/entity/Q378427'), ('oname', 'literary award')]\n",
      "[('award', 'http://www.wikidata.org/entity/Q5709276'), ('aname', 'Helmerich Award'), ('o', 'http://www.wikidata.org/entity/Q378427'), ('oname', 'literary award')]\n",
      "[('award', 'http://www.wikidata.org/entity/Q7462809'), ('aname', 'Shakespeare Prize'), ('o', 'http://www.wikidata.org/entity/Q378427'), ('oname', 'literary award')]\n",
      "[('award', 'http://www.wikidata.org/entity/Q4936657'), ('aname', 'Bodley Medal'), ('o', 'http://www.wikidata.org/entity/Q378427'), ('oname', 'literary award')]\n",
      "[('award', 'http://www.wikidata.org/entity/Q1188661'), ('aname', 'PEN/Faulkner Award for Fiction'), ('o', 'http://www.wikidata.org/entity/Q378427'), ('oname', 'literary award')]\n",
      "[('award', 'http://www.wikidata.org/entity/Q4936657'), ('aname', 'Bodley Medal'), ('o', 'http://www.wikidata.org/entity/Q131647'), ('oname', 'medal')]\n",
      "[('award', 'http://www.wikidata.org/entity/Q3405076'), ('aname', 'Prix Médicis for foreign literature'), ('o', 'http://www.wikidata.org/entity/Q38033430'), ('oname', 'class of award')]\n",
      "[('award', 'http://www.wikidata.org/entity/Q13452531'), ('aname', 'Commandeur des Arts et des Lettres\\u200e'), ('o', 'http://www.wikidata.org/entity/Q60754876'), ('oname', 'grade of an order')]\n",
      "[('award', 'http://www.wikidata.org/entity/Q12201477'), ('aname', 'Commander of the Order of the British Empire'), ('o', 'http://www.wikidata.org/entity/Q60754876'), ('oname', 'grade of an order')]\n",
      "[('award', 'http://www.wikidata.org/entity/Q52382875'), ('aname', 'AAAS Fellow'), ('o', 'http://www.wikidata.org/entity/Q20006438'), ('oname', 'fellowship')]\n",
      "[('award', 'http://www.wikidata.org/entity/Q39477935'), ('aname', 'Fellow of the Royal Society of Literature'), ('o', 'http://www.wikidata.org/entity/Q20006438'), ('oname', 'fellowship')]\n",
      "[('award', 'http://www.wikidata.org/entity/Q15271633'), ('aname', 'Fellow of the Royal Society of Arts'), ('o', 'http://www.wikidata.org/entity/Q20006438'), ('oname', 'fellowship')]\n"
     ]
    },
    {
     "data": {
      "text/plain": [
       "23"
      ]
     },
     "execution_count": 2,
     "metadata": {},
     "output_type": "execute_result"
    }
   ],
   "source": [
    "#Q40\n",
    "#P31\n",
    "queryString = \"\"\"\n",
    "SELECT DISTINCT ?award ?aname ?o ?oname WHERE { \n",
    "\n",
    "?author wdt:P166 ?award.\n",
    "?award wdt:P31 ?o.\n",
    "VALUES ?author {wd:Q214642 wd:Q190379}\n",
    "\n",
    "#Labels\n",
    "?award <http://schema.org/name> ?aname .\n",
    "?o <http://schema.org/name> ?oname .\n",
    "}\n",
    "LIMIT 100\n",
    "\"\"\"\n",
    "\n",
    "print(\"Results\")\n",
    "run_query(queryString)"
   ]
  },
  {
   "cell_type": "markdown",
   "id": "4db37050-541b-421a-8294-eca1c690ffe3",
   "metadata": {},
   "source": [
    "wd:Q378427 is for literary award. Count literary awards won for each author."
   ]
  },
  {
   "cell_type": "code",
   "execution_count": 3,
   "id": "97a73cdb-8f2f-4fa2-9e4e-f50b10e5d0a8",
   "metadata": {},
   "outputs": [
    {
     "name": "stdout",
     "output_type": "stream",
     "text": [
      "Results\n",
      "[('author', 'http://www.wikidata.org/entity/Q214642'), ('awards', '2')]\n",
      "[('author', 'http://www.wikidata.org/entity/Q190379'), ('awards', '7')]\n"
     ]
    },
    {
     "data": {
      "text/plain": [
       "2"
      ]
     },
     "execution_count": 3,
     "metadata": {},
     "output_type": "execute_result"
    }
   ],
   "source": [
    "#Q41\n",
    "#wd:Q378427 is for literary award\n",
    "#count literary awards won for each author\n",
    "queryString = \"\"\"\n",
    "SELECT ?author (COUNT(?n) AS ?awards) WHERE { \n",
    "\n",
    "?author wdt:P166 ?n.\n",
    "?n wdt:P31 wd:Q378427.\n",
    "FILTER ((?author=wd:Q214642) ||(?author=wd:Q190379))\n",
    "} \n",
    "GROUP BY ?author\n",
    "LIMIT 100\n",
    "\"\"\"\n",
    "\n",
    "print(\"Results\")\n",
    "run_query(queryString)"
   ]
  },
  {
   "cell_type": "markdown",
   "id": "1bca0ad7-0273-478a-ac47-3d228698b22c",
   "metadata": {},
   "source": [
    "Check reverse path from award to author using P1346 (found on Q38)."
   ]
  },
  {
   "cell_type": "code",
   "execution_count": 4,
   "id": "d9365e3a-3a7a-4686-989a-3d290e754a49",
   "metadata": {},
   "outputs": [
    {
     "name": "stdout",
     "output_type": "stream",
     "text": [
      "Results\n",
      "[('author', 'http://www.wikidata.org/entity/Q190379'), ('awards', '2')]\n"
     ]
    },
    {
     "data": {
      "text/plain": [
       "1"
      ]
     },
     "execution_count": 4,
     "metadata": {},
     "output_type": "execute_result"
    }
   ],
   "source": [
    "#Q42\n",
    "#check reverse path from award to author using P1346 (found on Q38)\n",
    "queryString = \"\"\"\n",
    "SELECT ?author (COUNT(?award) AS ?awards) WHERE { \n",
    "\n",
    "?award wdt:P1346 ?author;\n",
    "       wdt:P31 wd:Q378427.\n",
    "       \n",
    "FILTER ((?author=wd:Q214642) ||(?author=wd:Q190379))\n",
    "} \n",
    "GROUP BY ?author\n",
    "LIMIT 100\n",
    "\"\"\"\n",
    "\n",
    "print(\"Results\")\n",
    "run_query(queryString)"
   ]
  },
  {
   "cell_type": "markdown",
   "id": "595dc137-76ff-4b5c-ac07-ef6d925fd821",
   "metadata": {},
   "source": [
    "Count nomination for literary awards won for each author."
   ]
  },
  {
   "cell_type": "code",
   "execution_count": 6,
   "id": "6192919d-6d8f-43b8-bf89-b76ab45c24f4",
   "metadata": {},
   "outputs": [
    {
     "name": "stdout",
     "output_type": "stream",
     "text": [
      "Results\n",
      "[('author', 'http://www.wikidata.org/entity/Q190379'), ('nominations', '3')]\n"
     ]
    },
    {
     "data": {
      "text/plain": [
       "1"
      ]
     },
     "execution_count": 6,
     "metadata": {},
     "output_type": "execute_result"
    }
   ],
   "source": [
    "#Q43\n",
    "#count nomination for literary awards won for each author\n",
    "queryString = \"\"\"\n",
    "SELECT ?author (COUNT(?n) AS ?nominations) WHERE { \n",
    "\n",
    "?author wdt:P1411 ?n.\n",
    "?n wdt:P31 wd:Q378427.\n",
    "FILTER ((?author=wd:Q214642) ||(?author=wd:Q190379))\n",
    "} \n",
    "GROUP BY ?author\n",
    "LIMIT 100\n",
    "\"\"\"\n",
    "\n",
    "print(\"Results\")\n",
    "run_query(queryString)"
   ]
  },
  {
   "cell_type": "markdown",
   "id": "6d2a56e8-5a7c-43e7-a715-51d80bdd07fc",
   "metadata": {},
   "source": [
    "Retrieve the award name for which McEwan has been nominated."
   ]
  },
  {
   "cell_type": "code",
   "execution_count": 7,
   "id": "5a4c5364-7e0f-4d8a-a57f-45629e0c096a",
   "metadata": {},
   "outputs": [
    {
     "name": "stdout",
     "output_type": "stream",
     "text": [
      "Results\n",
      "[('n', 'http://www.wikidata.org/entity/Q160082'), ('name', 'Booker Prize')]\n",
      "[('n', 'http://www.wikidata.org/entity/Q1362723'), ('name', 'International IMPAC Dublin Literary Award')]\n",
      "[('n', 'http://www.wikidata.org/entity/Q2052291'), ('name', 'International Booker Prize')]\n"
     ]
    },
    {
     "data": {
      "text/plain": [
       "3"
      ]
     },
     "execution_count": 7,
     "metadata": {},
     "output_type": "execute_result"
    }
   ],
   "source": [
    "#Q44\n",
    "#check nominations for McEwan\n",
    "queryString = \"\"\"\n",
    "SELECT ?n ?name WHERE { \n",
    "\n",
    "wd:Q190379 wdt:P1411 ?n.\n",
    "?n wdt:P31 wd:Q378427.\n",
    "\n",
    "#Labels\n",
    "?n <http://schema.org/name> ?name .\n",
    "\n",
    "} \n",
    "LIMIT 100\n",
    "\"\"\"\n",
    "\n",
    "print(\"Results\")\n",
    "run_query(queryString)"
   ]
  },
  {
   "cell_type": "markdown",
   "id": "9ed62075-1c59-4284-b3cf-f598b5300271",
   "metadata": {},
   "source": [
    "Have a look at the awards won by both authors."
   ]
  },
  {
   "cell_type": "code",
   "execution_count": 9,
   "id": "acdebe94-756e-4d19-93d3-321a22913baf",
   "metadata": {},
   "outputs": [
    {
     "name": "stdout",
     "output_type": "stream",
     "text": [
      "Results\n",
      "[('author', 'http://www.wikidata.org/entity/Q214642'), ('award', 'http://www.wikidata.org/entity/Q3332454'), ('name', 'Princess of Asturias Literary Prize')]\n",
      "[('author', 'http://www.wikidata.org/entity/Q190379'), ('award', 'http://www.wikidata.org/entity/Q39477935'), ('name', 'Fellow of the Royal Society of Literature')]\n",
      "[('author', 'http://www.wikidata.org/entity/Q214642'), ('award', 'http://www.wikidata.org/entity/Q1188661'), ('name', 'PEN/Faulkner Award for Fiction')]\n",
      "[('author', 'http://www.wikidata.org/entity/Q190379'), ('award', 'http://www.wikidata.org/entity/Q160082'), ('name', 'Booker Prize')]\n",
      "[('author', 'http://www.wikidata.org/entity/Q190379'), ('award', 'http://www.wikidata.org/entity/Q392586'), ('name', 'James Tait Black Memorial Prize')]\n",
      "[('author', 'http://www.wikidata.org/entity/Q190379'), ('award', 'http://www.wikidata.org/entity/Q5709276'), ('name', 'Helmerich Award')]\n",
      "[('author', 'http://www.wikidata.org/entity/Q190379'), ('award', 'http://www.wikidata.org/entity/Q3404580'), ('name', 'Prix Femina étranger')]\n",
      "[('author', 'http://www.wikidata.org/entity/Q190379'), ('award', 'http://www.wikidata.org/entity/Q4936657'), ('name', 'Bodley Medal')]\n",
      "[('author', 'http://www.wikidata.org/entity/Q190379'), ('award', 'http://www.wikidata.org/entity/Q7462809'), ('name', 'Shakespeare Prize')]\n"
     ]
    },
    {
     "data": {
      "text/plain": [
       "9"
      ]
     },
     "execution_count": 9,
     "metadata": {},
     "output_type": "execute_result"
    }
   ],
   "source": [
    "#Q45\n",
    "#have a look at the awards won by both authors\n",
    "queryString = \"\"\"\n",
    "SELECT ?author ?award ?name WHERE { \n",
    "\n",
    "?author wdt:P166 ?award.\n",
    "?award wdt:P31 wd:Q378427.\n",
    "VALUES ?author {wd:Q214642 wd:Q190379}\n",
    "\n",
    "#Labels\n",
    "?award <http://schema.org/name> ?name .\n",
    "\n",
    "} \n",
    "LIMIT 100\n",
    "\"\"\"\n",
    "\n",
    "print(\"Results\")\n",
    "run_query(queryString)"
   ]
  },
  {
   "cell_type": "markdown",
   "id": "a702d972-3c3a-4b9a-89d1-9cf30d6e4b39",
   "metadata": {},
   "source": [
    "Try to find the Nobel prize using regex on the entities belonging to literary award class."
   ]
  },
  {
   "cell_type": "code",
   "execution_count": 11,
   "id": "fe6605f4-8ee8-48dc-9bd2-40f0793d11ac",
   "metadata": {},
   "outputs": [
    {
     "name": "stdout",
     "output_type": "stream",
     "text": [
      "Results\n",
      "[('award', 'http://www.wikidata.org/entity/Q37922'), ('aname', 'Nobel Prize in Literature')]\n"
     ]
    },
    {
     "data": {
      "text/plain": [
       "1"
      ]
     },
     "execution_count": 11,
     "metadata": {},
     "output_type": "execute_result"
    }
   ],
   "source": [
    "#Q46\n",
    "#i want to find the Nobel prize entity\n",
    "queryString = \"\"\"\n",
    "SELECT DISTINCT ?award ?aname WHERE { \n",
    "\n",
    "?award wdt:P31 wd:Q378427.\n",
    "#Labels\n",
    "?award <http://schema.org/name> ?aname .\n",
    "FILTER(CONTAINS(LCASE(?aname), \"nobel\")). \n",
    "} \n",
    "LIMIT 10\n",
    "\"\"\"\n",
    "\n",
    "print(\"Results\")\n",
    "run_query(queryString)"
   ]
  },
  {
   "cell_type": "markdown",
   "id": "f9397ab5-ecba-4ffa-b62a-6216af88e44b",
   "metadata": {},
   "source": [
    "Retrieve some properties of Nobel Prize."
   ]
  },
  {
   "cell_type": "code",
   "execution_count": 12,
   "id": "6f0f64f0-1da5-43a3-95d2-930d682c702e",
   "metadata": {},
   "outputs": [
    {
     "name": "stdout",
     "output_type": "stream",
     "text": [
      "Results\n",
      "[('p', 'http://www.wikidata.org/prop/direct/P1296'), ('pname', 'Gran Enciclopèdia Catalana ID')]\n",
      "[('p', 'http://www.wikidata.org/prop/direct/P1346'), ('pname', 'winner')]\n",
      "[('p', 'http://www.wikidata.org/prop/direct/P138'), ('pname', 'named after')]\n",
      "[('p', 'http://www.wikidata.org/prop/direct/P1417'), ('pname', 'Encyclopædia Britannica Online ID')]\n",
      "[('p', 'http://www.wikidata.org/prop/direct/P17'), ('pname', 'country')]\n",
      "[('p', 'http://www.wikidata.org/prop/direct/P1705'), ('pname', 'native label')]\n",
      "[('p', 'http://www.wikidata.org/prop/direct/P18'), ('pname', 'image')]\n",
      "[('p', 'http://www.wikidata.org/prop/direct/P227'), ('pname', 'GND ID')]\n",
      "[('p', 'http://www.wikidata.org/prop/direct/P2354'), ('pname', 'has list')]\n",
      "[('p', 'http://www.wikidata.org/prop/direct/P2581'), ('pname', 'BabelNet ID')]\n",
      "[('p', 'http://www.wikidata.org/prop/direct/P276'), ('pname', 'location')]\n",
      "[('p', 'http://www.wikidata.org/prop/direct/P279'), ('pname', 'subclass of')]\n",
      "[('p', 'http://www.wikidata.org/prop/direct/P31'), ('pname', 'instance of')]\n",
      "[('p', 'http://www.wikidata.org/prop/direct/P3417'), ('pname', 'Quora topic ID')]\n",
      "[('p', 'http://www.wikidata.org/prop/direct/P3509'), ('pname', 'Dagens Nyheter topic ID')]\n",
      "[('p', 'http://www.wikidata.org/prop/direct/P3553'), ('pname', 'Zhihu topic ID')]\n",
      "[('p', 'http://www.wikidata.org/prop/direct/P3569'), ('pname', 'Cultureel Woordenboek ID')]\n",
      "[('p', 'http://www.wikidata.org/prop/direct/P361'), ('pname', 'part of')]\n",
      "[('p', 'http://www.wikidata.org/prop/direct/P373'), ('pname', 'Commons category')]\n",
      "[('p', 'http://www.wikidata.org/prop/direct/P4342'), ('pname', 'Store norske leksikon ID')]\n",
      "[('p', 'http://www.wikidata.org/prop/direct/P444'), ('pname', 'review score')]\n",
      "[('p', 'http://www.wikidata.org/prop/direct/P571'), ('pname', 'inception')]\n",
      "[('p', 'http://www.wikidata.org/prop/direct/P6081'), ('pname', 'RIA Novosti reference')]\n",
      "[('p', 'http://www.wikidata.org/prop/direct/P646'), ('pname', 'Freebase ID')]\n",
      "[('p', 'http://www.wikidata.org/prop/direct/P8309'), ('pname', 'Yle topic ID')]\n",
      "[('p', 'http://www.wikidata.org/prop/direct/P8408'), ('pname', 'KBpedia ID')]\n",
      "[('p', 'http://www.wikidata.org/prop/direct/P856'), ('pname', 'official website')]\n",
      "[('p', 'http://www.wikidata.org/prop/direct/P910'), ('pname', \"topic's main category\")]\n",
      "[('p', 'http://www.wikidata.org/prop/direct/P9466'), ('pname', 'Gyldendals Teaterleksikon ID')]\n",
      "[('p', 'http://www.wikidata.org/prop/direct/P9545'), ('pname', 'Encyclopedia of China Online Database ID')]\n",
      "[('p', 'http://www.wikidata.org/prop/direct/P1027'), ('pname', 'conferred by')]\n",
      "[('p', 'http://www.wikidata.org/prop/direct/P2425'), ('pname', 'service ribbon image')]\n",
      "[('p', 'http://www.wikidata.org/prop/direct/P2517'), ('pname', 'category for recipients of this award')]\n"
     ]
    },
    {
     "data": {
      "text/plain": [
       "33"
      ]
     },
     "execution_count": 12,
     "metadata": {},
     "output_type": "execute_result"
    }
   ],
   "source": [
    "#Q47\n",
    "#have a look at predicates and objects\n",
    "queryString = \"\"\"\n",
    "SELECT DISTINCT ?p ?pname ?WHERE {\n",
    "\n",
    "wd:Q37922 ?p ?o.\n",
    "\n",
    "#Labels\n",
    "?p <http://schema.org/name> ?pname .\n",
    "\n",
    "} \n",
    "LIMIT 100\n",
    "\"\"\"\n",
    "\n",
    "print(\"Results\")\n",
    "run_query(queryString)"
   ]
  },
  {
   "cell_type": "markdown",
   "id": "f796a1e8-f342-45cf-9420-c18b42232158",
   "metadata": {},
   "source": [
    "Count how many authors have been nominated for Nobel Prize in literature."
   ]
  },
  {
   "cell_type": "code",
   "execution_count": 13,
   "id": "f5e6b496-0a87-4ccf-b67e-3cab2a8d99f4",
   "metadata": {},
   "outputs": [
    {
     "name": "stdout",
     "output_type": "stream",
     "text": [
      "Results\n",
      "[('callret-0', '625')]\n"
     ]
    },
    {
     "data": {
      "text/plain": [
       "1"
      ]
     },
     "execution_count": 13,
     "metadata": {},
     "output_type": "execute_result"
    }
   ],
   "source": [
    "#Q48\n",
    "#authors nominated for Nobel Prize in literature\n",
    "queryString = \"\"\"\n",
    "SELECT COUNT (?author) ?WHERE {\n",
    "\n",
    "?author wdt:P1411 wd:Q37922.\n",
    "\n",
    "} \n",
    "LIMIT 100\n",
    "\"\"\"\n",
    "\n",
    "print(\"Results\")\n",
    "run_query(queryString)"
   ]
  },
  {
   "cell_type": "markdown",
   "id": "c9cf89b0-343d-4247-a50a-8f6f58b98bd8",
   "metadata": {},
   "source": [
    "<h3>TASK 5 ENDS HERE</h3>\n",
    "McEwan won 7 awards related to literature and got nominated 3 times, while Auster just won two. \n",
    "I also found the entity of Nobel Prize in Literature (wd:Q37922) and I discovered that both didn't got nominated for Nobel Prize in literature."
   ]
  },
  {
   "cell_type": "code",
   "execution_count": null,
   "id": "ac6389f5-a1a3-4af5-bf62-afe59eabb380",
   "metadata": {},
   "outputs": [],
   "source": []
  }
 ],
 "metadata": {
  "kernelspec": {
   "display_name": "Python 3",
   "language": "python",
   "name": "python3"
  },
  "language_info": {
   "codemirror_mode": {
    "name": "ipython",
    "version": 3
   },
   "file_extension": ".py",
   "mimetype": "text/x-python",
   "name": "python",
   "nbconvert_exporter": "python",
   "pygments_lexer": "ipython3",
   "version": "3.7.10"
  }
 },
 "nbformat": 4,
 "nbformat_minor": 5
}
