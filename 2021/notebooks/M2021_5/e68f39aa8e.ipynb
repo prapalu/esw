{
 "cells": [
  {
   "cell_type": "markdown",
   "id": "7034c3bf-6eb0-4418-8687-7b9d2a501103",
   "metadata": {},
   "source": [
    "# General instructions\n",
    "\n",
    "The goal of the project is to materialize a set of **exploratory workloads** over a real-world, large-scale,  open-domain KG: [WikiData](https://www.wikidata.org/wiki/Wikidata:Main_Page)\n",
    "\n",
    "An exploratory workload  is composed by a set of queries, where each query is related to the information obtained previously.\n",
    "\n",
    "An exploratory workload starts with a usually vague, open ended question, and does not assume the person issuing the workload has a clear understanding of the data contained in the target database or its structure.\n",
    "\n",
    "Remeber that:\n",
    "\n",
    "1. All the queries must run in the python notebook\n",
    "2. You can use classes and properties only if you find them via a SPARQL query that must be present in the notebook\n",
    "3. You do not delete useless queries. Keep everything that is synthatically valid \n",
    "\n",
    "```\n",
    "?p <http://schema.org/name> ?name .\n",
    "```\n",
    "    \n",
    "is the BGP returning a human-readable name of a property or a class in Wikidata.\n",
    "    \n",
    "    "
   ]
  },
  {
   "cell_type": "code",
   "execution_count": 1,
   "id": "3605c9d5-5371-49a5-be8d-d66e8f417139",
   "metadata": {},
   "outputs": [],
   "source": [
    "## SETUP used later\n",
    "\n",
    "from SPARQLWrapper import SPARQLWrapper, JSON\n",
    "\n",
    "\n",
    "prefixString = \"\"\"\n",
    "##-e68f39aa8e-##\n",
    "PREFIX wd: <http://www.wikidata.org/entity/> \n",
    "PREFIX wdt: <http://www.wikidata.org/prop/direct/> \n",
    "PREFIX sc: <http://schema.org/>\n",
    "\"\"\"\n",
    "\n",
    "# select and construct queries\n",
    "def run_query(queryString):\n",
    "    to_run = prefixString + \"\\n\" + queryString\n",
    "\n",
    "    sparql = SPARQLWrapper(\"http://a256-gc1-02.srv.aau.dk:5820/sparql\")\n",
    "    sparql.setTimeout(300)\n",
    "    sparql.setReturnFormat(JSON)\n",
    "    sparql.setQuery(to_run)\n",
    "\n",
    "    try :\n",
    "       results = sparql.query()\n",
    "       json_results = results.convert()\n",
    "       if len(json_results['results']['bindings'])==0:\n",
    "          print(\"Empty\")\n",
    "          return 0\n",
    "    \n",
    "       for bindings in json_results['results']['bindings']:\n",
    "          print( [ (var, value['value'])  for var, value in bindings.items() ] )\n",
    "\n",
    "       return len(json_results['results']['bindings'])\n",
    "\n",
    "    except Exception as e :\n",
    "        print(\"The operation failed\", e)\n",
    "    \n",
    "# ASk queries\n",
    "def run_ask_query(queryString):\n",
    "    to_run = prefixString + \"\\n\" + queryString\n",
    "\n",
    "    sparql = SPARQLWrapper(\"http://a256-gc1-02.srv.aau.dk:5820/sparql\")\n",
    "    sparql.setTimeout(300)\n",
    "    sparql.setReturnFormat(JSON)\n",
    "    sparql.setQuery(to_run)\n",
    "\n",
    "    try :\n",
    "        return sparql.query().convert()\n",
    "\n",
    "    except Exception as e :\n",
    "        print(\"The operation failed\", e)\n"
   ]
  },
  {
   "cell_type": "markdown",
   "id": "d477a59c-a68c-4c8f-9f97-8ca5294d7d27",
   "metadata": {},
   "source": [
    "# Politics Workflow Series (\"Presidents of countries\") \n",
    "\n",
    "Consider the following exploratory information need:\n",
    "\n",
    "> You investigating presidents of the republic, or similar roles, across international states around the world"
   ]
  },
  {
   "cell_type": "markdown",
   "id": "4a45c0ba-f79e-441d-bec5-84401b09db70",
   "metadata": {},
   "source": [
    "## Useful URIs for the current workflow\n",
    "\n",
    "\n",
    "The following are given:\n",
    "\n",
    "| IRI           | Description   | Role      |\n",
    "| -----------   | -----------   |-----------|\n",
    "| `wdt:P1647`   | subproperty   | predicate |\n",
    "| `wdt:P31`     | instance of   | predicate |\n",
    "| `wdt:P279`    | subclass      | predicate |\n",
    "| `wdt:P17`     | country       | predicate |\n",
    "| `wdt:P27`     | citizenship   | predicate |\n",
    "| `wdt:P39`     | position held   | predicate |\n",
    "| `wd:Q248577`  | President of the republic | node      |\n",
    "| `wd:Q11696`   | President of U.S.A.      | node      |\n",
    "| `wd:Q332711`  | President of Italy        | node |\n",
    "| `wd:Q38`      | Italy          | node |\n",
    "| `wd:Q30`      | U.S.A.        | node |\n",
    "\n",
    "\n",
    "\n",
    "Also consider\n",
    "\n",
    "```\n",
    "?p wdt:P39/wdt:P279* wd:Q248577  .  \n",
    "```\n",
    "\n",
    "is the BGP to retrieve all **presidents of the world countries through history**"
   ]
  },
  {
   "cell_type": "markdown",
   "id": "7af439fb-96e4-4dbb-a381-f19afab79f86",
   "metadata": {
    "tags": []
   },
   "source": [
    "## Workload Goals\n",
    "\n",
    "1. Identify the BGP for obtaining important attributes for people, e.g., date of birth/death, gender, profession \n",
    "\n",
    "2. Identify the BGP to retrieve countries with  had at least once had a president\n",
    "\n",
    "3. When was the first president of each country born? How many presidents each country had?\n",
    "\n",
    "4. Is there a country that had at some point a woman as a president?\n",
    "\n",
    "5. Analyze the number of presidents per country through time\n",
    " \n",
    "   5.1 What are the top-5 countries for number of presidents? Which countries had the least?\n",
    "   \n",
    "   5.2 For how many presidents we know a date of death in each country?\n",
    "   \n",
    "   5.3 Which are the professions of different presidents? How many presidents had a specific profession?\n"
   ]
  },
  {
   "cell_type": "code",
   "execution_count": 2,
   "id": "24a853ab-830c-422c-afd3-e9e015b8b8ed",
   "metadata": {},
   "outputs": [],
   "source": [
    "# start your workflow here"
   ]
  },
  {
   "cell_type": "markdown",
   "id": "d46e6956-02da-4d37-b0ab-b7d61fedeb5c",
   "metadata": {},
   "source": [
    "## 1. Identify the BGP for obtaining important attributes for people, e.g., date of birth/death, gender, profession"
   ]
  },
  {
   "cell_type": "markdown",
   "id": "1a9f4788-5188-49fb-898c-77d71af1e820",
   "metadata": {},
   "source": [
    "First, I need the entity identifier for people. I can retrieve it from subclasses/instances of presidents. I first need a president, so I can get one from the list of all presidents."
   ]
  },
  {
   "cell_type": "code",
   "execution_count": 3,
   "id": "0327f6fd-f129-46bb-aa86-5127c1cb1a4b",
   "metadata": {},
   "outputs": [
    {
     "name": "stdout",
     "output_type": "stream",
     "text": [
      "Results\n",
      "[('p', 'http://www.wikidata.org/entity/Q14345'), ('pName', 'Roh Moo-hyun')]\n"
     ]
    },
    {
     "data": {
      "text/plain": [
       "1"
      ]
     },
     "execution_count": 3,
     "metadata": {},
     "output_type": "execute_result"
    }
   ],
   "source": [
    "queryString = \"\"\"\n",
    "select distinct ?p ?pName {\n",
    "    ?p wdt:P39/wdt:P279* wd:Q248577 .\n",
    "    \n",
    "    ?p <http://schema.org/name> ?pName .\n",
    "} limit 1\n",
    "\"\"\"\n",
    "\n",
    "print(\"Results\")\n",
    "run_query(queryString)"
   ]
  },
  {
   "cell_type": "markdown",
   "id": "dbf26d94-2761-42a9-a125-e63df351d3dd",
   "metadata": {},
   "source": [
    "And I can use **Q14345** to view its instances/subclasses."
   ]
  },
  {
   "cell_type": "code",
   "execution_count": 4,
   "id": "ade01416-92e7-4ad7-b9a9-b8fb330750dc",
   "metadata": {},
   "outputs": [
    {
     "name": "stdout",
     "output_type": "stream",
     "text": [
      "Results\n",
      "[('p', 'http://www.wikidata.org/prop/direct/P31'), ('pName', 'instance of'), ('o', 'http://www.wikidata.org/entity/Q5'), ('oName', 'human')]\n"
     ]
    },
    {
     "data": {
      "text/plain": [
       "1"
      ]
     },
     "execution_count": 4,
     "metadata": {},
     "output_type": "execute_result"
    }
   ],
   "source": [
    "queryString = \"\"\"\n",
    "select ?p ?pName ?o ?oName where {\n",
    "    values ?p { wdt:P31 wdt:P279 }\n",
    "    \n",
    "    wd:Q14345 ?p ?o .\n",
    "    \n",
    "    ?p <http://schema.org/name> ?pName .\n",
    "    ?o <http://schema.org/name> ?oName .\n",
    "}\n",
    "\"\"\"\n",
    "\n",
    "print(\"Results\")\n",
    "run_query(queryString)"
   ]
  },
  {
   "cell_type": "markdown",
   "id": "aa187b7e-4e43-446e-bce6-cbe2bdf0ede9",
   "metadata": {},
   "source": [
    "So, people are instances of *human (**Q5**)*. I can now retrieve the desired properties."
   ]
  },
  {
   "cell_type": "code",
   "execution_count": 5,
   "id": "b50fd8e9-fe28-4e01-a8ff-1a99db0fe241",
   "metadata": {},
   "outputs": [],
   "source": [
    "queryString = \"\"\"\n",
    "select distinct ?p ?pName where {\n",
    "    ?people wdt:P31 wd:Q5 ;\n",
    "            ?p ?o .\n",
    "    \n",
    "    ?p <http://schema.org/name> ?pName .\n",
    "    \n",
    "    filter (regex(?pName, \"gender|profession|date\", \"i\") || isNumeric(?o))\n",
    "}\n",
    "\"\"\"\n",
    "\n",
    "# print(\"Results\")\n",
    "# run_query(queryString)"
   ]
  },
  {
   "cell_type": "markdown",
   "id": "d777bbed-987d-47e8-8f49-f67e30b540d1",
   "metadata": {},
   "source": [
    "Since there are too many humans, the time required to select all of them and search for properties is too long, so I rely only on presidents entities to look for relevant properties."
   ]
  },
  {
   "cell_type": "code",
   "execution_count": 6,
   "id": "de8fb6ac-d125-460a-bf2e-1eff5ae02709",
   "metadata": {},
   "outputs": [
    {
     "name": "stdout",
     "output_type": "stream",
     "text": [
      "Results\n",
      "[('p', 'http://www.wikidata.org/prop/direct/P106'), ('pName', 'occupation')]\n",
      "[('p', 'http://www.wikidata.org/prop/direct/P1196'), ('pName', 'manner of death')]\n",
      "[('p', 'http://www.wikidata.org/prop/direct/P1477'), ('pName', 'birth name')]\n",
      "[('p', 'http://www.wikidata.org/prop/direct/P19'), ('pName', 'place of birth')]\n",
      "[('p', 'http://www.wikidata.org/prop/direct/P20'), ('pName', 'place of death')]\n",
      "[('p', 'http://www.wikidata.org/prop/direct/P21'), ('pName', 'sex or gender')]\n",
      "[('p', 'http://www.wikidata.org/prop/direct/P39'), ('pName', 'position held')]\n",
      "[('p', 'http://www.wikidata.org/prop/direct/P509'), ('pName', 'cause of death')]\n",
      "[('p', 'http://www.wikidata.org/prop/direct/P569'), ('pName', 'date of birth')]\n",
      "[('p', 'http://www.wikidata.org/prop/direct/P570'), ('pName', 'date of death')]\n",
      "[('p', 'http://www.wikidata.org/prop/direct/P1971'), ('pName', 'number of children')]\n",
      "[('p', 'http://www.wikidata.org/prop/direct/P2048'), ('pName', 'height')]\n",
      "[('p', 'http://www.wikidata.org/prop/direct/P8687'), ('pName', 'social media followers')]\n",
      "[('p', 'http://www.wikidata.org/prop/direct/P3618'), ('pName', 'base salary')]\n",
      "[('p', 'http://www.wikidata.org/prop/direct/P2067'), ('pName', 'mass')]\n",
      "[('p', 'http://www.wikidata.org/prop/direct/P2139'), ('pName', 'total revenue')]\n",
      "[('p', 'http://www.wikidata.org/prop/direct/P2218'), ('pName', 'net worth')]\n",
      "[('p', 'http://www.wikidata.org/prop/direct/P2295'), ('pName', 'net profit')]\n",
      "[('p', 'http://www.wikidata.org/prop/direct/P2138'), ('pName', 'total liabilities')]\n",
      "[('p', 'http://www.wikidata.org/prop/direct/P413'), ('pName', 'position played on team / speciality')]\n",
      "[('p', 'http://www.wikidata.org/prop/direct/P4602'), ('pName', 'date of burial or cremation')]\n",
      "[('p', 'http://www.wikidata.org/prop/direct/P2043'), ('pName', 'length')]\n",
      "[('p', 'http://www.wikidata.org/prop/direct/P8748'), ('pName', 'Rheinland-Pfälzische Personendatenbank ID')]\n",
      "[('p', 'http://www.wikidata.org/prop/direct/P803'), ('pName', 'professorship')]\n",
      "[('p', 'http://www.wikidata.org/prop/direct/P576'), ('pName', 'dissolved, abolished or demolished date')]\n",
      "[('p', 'http://www.wikidata.org/prop/direct/P1636'), ('pName', 'date of baptism in early childhood')]\n"
     ]
    },
    {
     "data": {
      "text/plain": [
       "26"
      ]
     },
     "execution_count": 6,
     "metadata": {},
     "output_type": "execute_result"
    }
   ],
   "source": [
    "queryString = \"\"\"\n",
    "select distinct ?p ?pName where {\n",
    "    ?people wdt:P39/wdt:P279* wd:Q248577 ;\n",
    "            ?p ?o .\n",
    "    \n",
    "    ?p <http://schema.org/name> ?pName .\n",
    "    \n",
    "    filter (regex(?pName, \"gender|profes|job|occup|positio|date|birth|death\", \"i\") || isNumeric(?o))\n",
    "}\n",
    "\"\"\"\n",
    "\n",
    "print(\"Results\")\n",
    "run_query(queryString)"
   ]
  },
  {
   "cell_type": "markdown",
   "id": "81774f09-5843-428e-81a9-b3f75b410fd0",
   "metadata": {},
   "source": [
    "Some relevant attributes are *sex or gender (**P21**)*, *date of birth (**P569**)*, *date of death (**P570**)*, *number of children (**P1971**)*, *manner of death (**P1196**)*, *cause of death (**P509**)*, *occupation (**P106**)*\n",
    "\n",
    "The BGP to get all this attribute is:\n",
    "\n",
    "```\n",
    "?person wdt:P31 wd:Q5 .\n",
    "\n",
    "optional { ?person wdt:P21 ?gender } .\n",
    "optional { ?person wdt:P106 ?occupation } .\n",
    "optional { ?person wdt:P569 ?birthDate } .\n",
    "optional { ?person wdt:P570 ?deathDate } .\n",
    "optional { ?person wdt:P1196 ?mannerDeath } .\n",
    "optional { ?person wdt:P509 ?causeDeath } .\n",
    "optional { ?person wdt:P1971 ?numChildren } .\n",
    "```"
   ]
  },
  {
   "cell_type": "markdown",
   "id": "78922152-6b35-42eb-85b4-d0ceb4d8bfc2",
   "metadata": {},
   "source": [
    "## 2. Identify the BGP to retrieve countries with had at least once had a president"
   ]
  },
  {
   "cell_type": "markdown",
   "id": "6ed2bd26-eb1d-4a25-8dde-a61623659285",
   "metadata": {},
   "source": [
    "First, I need to understand which are the positions held by a president. I can use the same president used in point 2."
   ]
  },
  {
   "cell_type": "code",
   "execution_count": 7,
   "id": "0548caa3-647c-41ce-8c40-ef4b2dae1d2b",
   "metadata": {},
   "outputs": [
    {
     "name": "stdout",
     "output_type": "stream",
     "text": [
      "Results\n",
      "[('presidentPosition', 'http://www.wikidata.org/entity/Q14850694'), ('presidentPositionName', 'Member of National Assembly of South Korea')]\n",
      "[('presidentPosition', 'http://www.wikidata.org/entity/Q6296418'), ('presidentPositionName', 'president of South Korea')]\n",
      "[('presidentPosition', 'http://www.wikidata.org/entity/Q12592560'), ('presidentPositionName', 'Minister of Oceans and Fisheries of South Korea')]\n"
     ]
    },
    {
     "data": {
      "text/plain": [
       "3"
      ]
     },
     "execution_count": 7,
     "metadata": {},
     "output_type": "execute_result"
    }
   ],
   "source": [
    "queryString = \"\"\"\n",
    "select distinct ?presidentPosition ?presidentPositionName {\n",
    "    wd:Q14345 wdt:P39 ?presidentPosition .\n",
    "    \n",
    "    ?presidentPosition <http://schema.org/name> ?presidentPositionName .\n",
    "}\n",
    "\"\"\"\n",
    "\n",
    "print(\"Results\")\n",
    "run_query(queryString)"
   ]
  },
  {
   "cell_type": "markdown",
   "id": "370063d4-ab1b-4151-885d-1598b4292615",
   "metadata": {},
   "source": [
    "And I can also see the properties releated to the president position role. I can use the properties releated to the *president of South Korea*, *president of USA* and *president of Italy*."
   ]
  },
  {
   "cell_type": "code",
   "execution_count": 8,
   "id": "19b8bedb-c37d-40ff-8917-eec69e642ff7",
   "metadata": {},
   "outputs": [
    {
     "name": "stdout",
     "output_type": "stream",
     "text": [
      "Results\n",
      "[('p', 'http://www.wikidata.org/prop/direct/P2389'), ('pName', 'organization directed by the office or position')]\n",
      "[('p', 'http://www.wikidata.org/prop/direct/P2098'), ('pName', 'substitute/deputy/replacement of office/officeholder')]\n",
      "[('p', 'http://www.wikidata.org/prop/direct/P1001'), ('pName', 'applies to jurisdiction')]\n",
      "[('p', 'http://www.wikidata.org/prop/direct/P1225'), ('pName', 'U.S. National Archives Identifier')]\n",
      "[('p', 'http://www.wikidata.org/prop/direct/P1343'), ('pName', 'described by source')]\n",
      "[('p', 'http://www.wikidata.org/prop/direct/P1417'), ('pName', 'Encyclopædia Britannica Online ID')]\n",
      "[('p', 'http://www.wikidata.org/prop/direct/P155'), ('pName', 'follows')]\n",
      "[('p', 'http://www.wikidata.org/prop/direct/P158'), ('pName', 'seal image')]\n",
      "[('p', 'http://www.wikidata.org/prop/direct/P1617'), ('pName', 'BBC Things ID')]\n",
      "[('p', 'http://www.wikidata.org/prop/direct/P163'), ('pName', 'flag')]\n",
      "[('p', 'http://www.wikidata.org/prop/direct/P17'), ('pName', 'country')]\n",
      "[('p', 'http://www.wikidata.org/prop/direct/P1705'), ('pName', 'native label')]\n",
      "[('p', 'http://www.wikidata.org/prop/direct/P18'), ('pName', 'image')]\n",
      "[('p', 'http://www.wikidata.org/prop/direct/P1889'), ('pName', 'different from')]\n",
      "[('p', 'http://www.wikidata.org/prop/direct/P2001'), ('pName', 'Revised Romanization')]\n",
      "[('p', 'http://www.wikidata.org/prop/direct/P2002'), ('pName', 'Twitter username')]\n",
      "[('p', 'http://www.wikidata.org/prop/direct/P2013'), ('pName', 'Facebook ID')]\n",
      "[('p', 'http://www.wikidata.org/prop/direct/P213'), ('pName', 'ISNI')]\n",
      "[('p', 'http://www.wikidata.org/prop/direct/P214'), ('pName', 'VIAF ID')]\n",
      "[('p', 'http://www.wikidata.org/prop/direct/P227'), ('pName', 'GND ID')]\n",
      "[('p', 'http://www.wikidata.org/prop/direct/P2354'), ('pName', 'has list')]\n",
      "[('p', 'http://www.wikidata.org/prop/direct/P2390'), ('pName', 'Ballotpedia ID')]\n",
      "[('p', 'http://www.wikidata.org/prop/direct/P244'), ('pName', 'Library of Congress authority ID')]\n",
      "[('p', 'http://www.wikidata.org/prop/direct/P2581'), ('pName', 'BabelNet ID')]\n",
      "[('p', 'http://www.wikidata.org/prop/direct/P268'), ('pName', 'Bibliothèque nationale de France ID')]\n",
      "[('p', 'http://www.wikidata.org/prop/direct/P269'), ('pName', 'IdRef ID')]\n",
      "[('p', 'http://www.wikidata.org/prop/direct/P279'), ('pName', 'subclass of')]\n",
      "[('p', 'http://www.wikidata.org/prop/direct/P2868'), ('pName', 'subject has role')]\n",
      "[('p', 'http://www.wikidata.org/prop/direct/P2998'), ('pName', 'age of candidacy')]\n",
      "[('p', 'http://www.wikidata.org/prop/direct/P31'), ('pName', 'instance of')]\n",
      "[('p', 'http://www.wikidata.org/prop/direct/P3221'), ('pName', 'New York Times topic ID')]\n",
      "[('p', 'http://www.wikidata.org/prop/direct/P3393'), ('pName', 'LittleSis organization ID')]\n",
      "[('p', 'http://www.wikidata.org/prop/direct/P3417'), ('pName', 'Quora topic ID')]\n",
      "[('p', 'http://www.wikidata.org/prop/direct/P3438'), ('pName', 'vehicle normally used')]\n",
      "[('p', 'http://www.wikidata.org/prop/direct/P3553'), ('pName', 'Zhihu topic ID')]\n",
      "[('p', 'http://www.wikidata.org/prop/direct/P361'), ('pName', 'part of')]\n",
      "[('p', 'http://www.wikidata.org/prop/direct/P373'), ('pName', 'Commons category')]\n",
      "[('p', 'http://www.wikidata.org/prop/direct/P4081'), ('pName', 'BHL creator ID')]\n",
      "[('p', 'http://www.wikidata.org/prop/direct/P41'), ('pName', 'flag image')]\n",
      "[('p', 'http://www.wikidata.org/prop/direct/P418'), ('pName', 'seal description')]\n",
      "[('p', 'http://www.wikidata.org/prop/direct/P4527'), ('pName', 'UK Parliament thesaurus ID')]\n",
      "[('p', 'http://www.wikidata.org/prop/direct/P571'), ('pName', 'inception')]\n",
      "[('p', 'http://www.wikidata.org/prop/direct/P646'), ('pName', 'Freebase ID')]\n",
      "[('p', 'http://www.wikidata.org/prop/direct/P691'), ('pName', 'NKCR AUT ID')]\n",
      "[('p', 'http://www.wikidata.org/prop/direct/P7775'), ('pName', 'RationalWiki ID')]\n",
      "[('p', 'http://www.wikidata.org/prop/direct/P7818'), ('pName', 'French Vikidia ID')]\n",
      "[('p', 'http://www.wikidata.org/prop/direct/P7859'), ('pName', 'WorldCat Identities ID')]\n",
      "[('p', 'http://www.wikidata.org/prop/direct/P8309'), ('pName', 'Yle topic ID')]\n",
      "[('p', 'http://www.wikidata.org/prop/direct/P8408'), ('pName', 'KBpedia ID')]\n",
      "[('p', 'http://www.wikidata.org/prop/direct/P85'), ('pName', 'anthem')]\n",
      "[('p', 'http://www.wikidata.org/prop/direct/P856'), ('pName', 'official website')]\n",
      "[('p', 'http://www.wikidata.org/prop/direct/P8687'), ('pName', 'social media followers')]\n",
      "[('p', 'http://www.wikidata.org/prop/direct/P910'), ('pName', \"topic's main category\")]\n",
      "[('p', 'http://www.wikidata.org/prop/direct/P92'), ('pName', 'main regulatory text')]\n",
      "[('p', 'http://www.wikidata.org/prop/direct/P935'), ('pName', 'Commons gallery')]\n",
      "[('p', 'http://www.wikidata.org/prop/direct/P948'), ('pName', 'page banner')]\n",
      "[('p', 'http://www.wikidata.org/prop/direct/P511'), ('pName', 'honorific prefix')]\n",
      "[('p', 'http://www.wikidata.org/prop/direct/P1308'), ('pName', 'officeholder')]\n",
      "[('p', 'http://www.wikidata.org/prop/direct/P2097'), ('pName', 'term length of office')]\n",
      "[('p', 'http://www.wikidata.org/prop/direct/P263'), ('pName', 'official residence')]\n",
      "[('p', 'http://www.wikidata.org/prop/direct/P748'), ('pName', 'appointed by')]\n",
      "[('p', 'http://www.wikidata.org/prop/direct/P3618'), ('pName', 'base salary')]\n"
     ]
    },
    {
     "data": {
      "text/plain": [
       "62"
      ]
     },
     "execution_count": 8,
     "metadata": {},
     "output_type": "execute_result"
    }
   ],
   "source": [
    "queryString = \"\"\"\n",
    "select distinct ?p ?pName {\n",
    "    values ?presidentPosition { wd:Q6296418 wd:Q11696 wd:Q332711 }\n",
    "    \n",
    "    ?presidentPosition ?p ?o .\n",
    "    \n",
    "    ?p <http://schema.org/name> ?pName .\n",
    "}\n",
    "\"\"\"\n",
    "\n",
    "print(\"Results\")\n",
    "run_query(queryString)"
   ]
  },
  {
   "cell_type": "code",
   "execution_count": 9,
   "id": "da0b7a1c-9022-4af2-96b5-e0a572d237e6",
   "metadata": {
    "tags": []
   },
   "outputs": [
    {
     "name": "stdout",
     "output_type": "stream",
     "text": [
      "Results\n",
      "[('p', 'http://www.wikidata.org/prop/direct/P155'), ('pName', 'follows'), ('o', 'http://www.wikidata.org/entity/Q1220'), ('oName', 'Giorgio Napolitano')]\n",
      "[('p', 'http://www.wikidata.org/prop/direct/P263'), ('pName', 'official residence'), ('o', 'http://www.wikidata.org/entity/Q223079'), ('oName', 'Quirinal Palace')]\n",
      "[('p', 'http://www.wikidata.org/prop/direct/P279'), ('pName', 'subclass of'), ('o', 'http://www.wikidata.org/entity/Q248577'), ('oName', 'President of the Republic')]\n",
      "[('p', 'http://www.wikidata.org/prop/direct/P17'), ('pName', 'country'), ('o', 'http://www.wikidata.org/entity/Q38'), ('oName', 'Italy')]\n",
      "[('p', 'http://www.wikidata.org/prop/direct/P1001'), ('pName', 'applies to jurisdiction'), ('o', 'http://www.wikidata.org/entity/Q38'), ('oName', 'Italy')]\n",
      "[('p', 'http://www.wikidata.org/prop/direct/P31'), ('pName', 'instance of'), ('o', 'http://www.wikidata.org/entity/Q4164871'), ('oName', 'position')]\n",
      "[('p', 'http://www.wikidata.org/prop/direct/P1889'), ('pName', 'different from'), ('o', 'http://www.wikidata.org/entity/Q796897'), ('oName', 'Prime Minister of Italy')]\n",
      "[('p', 'http://www.wikidata.org/prop/direct/P163'), ('pName', 'flag'), ('o', 'http://www.wikidata.org/entity/Q3973088'), ('oName', 'Standard of the President of the Italian Republic')]\n",
      "[('p', 'http://www.wikidata.org/prop/direct/P2354'), ('pName', 'has list'), ('o', 'http://www.wikidata.org/entity/Q13178430'), ('oName', 'list of Presidents of Italy')]\n",
      "[('p', 'http://www.wikidata.org/prop/direct/P2389'), ('pName', 'organization directed by the office or position'), ('o', 'http://www.wikidata.org/entity/Q15191779'), ('oName', 'Presidency of the Italian Republic')]\n",
      "[('p', 'http://www.wikidata.org/prop/direct/P910'), ('pName', \"topic's main category\"), ('o', 'http://www.wikidata.org/entity/Q9241297'), ('oName', 'Category:President of Italy')]\n",
      "[('p', 'http://www.wikidata.org/prop/direct/P18'), ('pName', 'image'), ('o', 'http://commons.wikimedia.org/wiki/Special:FilePath/Presidente%20Sergio%20Mattarella.jpg')]\n",
      "[('p', 'http://www.wikidata.org/prop/direct/P2581'), ('pName', 'BabelNet ID'), ('o', '02963707n')]\n",
      "[('p', 'http://www.wikidata.org/prop/direct/P373'), ('pName', 'Commons category'), ('o', 'Presidents of Italy')]\n",
      "[('p', 'http://www.wikidata.org/prop/direct/P41'), ('pName', 'flag image'), ('o', 'http://commons.wikimedia.org/wiki/Special:FilePath/Flag%20of%20the%20President%20of%20Italy.svg')]\n",
      "[('p', 'http://www.wikidata.org/prop/direct/P571'), ('pName', 'inception'), ('o', '1948-01-01T00:00:00Z')]\n",
      "[('p', 'http://www.wikidata.org/prop/direct/P646'), ('pName', 'Freebase ID'), ('o', '/m/09pwq9')]\n",
      "[('p', 'http://www.wikidata.org/prop/direct/P856'), ('pName', 'official website'), ('o', 'http://www.quirinale.it/')]\n",
      "[('p', 'http://www.wikidata.org/prop/direct/P2097'), ('pName', 'term length of office'), ('o', '7')]\n"
     ]
    },
    {
     "data": {
      "text/plain": [
       "19"
      ]
     },
     "execution_count": 9,
     "metadata": {},
     "output_type": "execute_result"
    }
   ],
   "source": [
    "queryString = \"\"\"\n",
    "select distinct ?p ?pName ?o ?oName {\n",
    "    values ?presidentPosition { wd:Q332711 }\n",
    "    \n",
    "    ?presidentPosition ?p ?o .\n",
    "    \n",
    "    ?p <http://schema.org/name> ?pName .\n",
    "    optional { ?o <http://schema.org/name> ?oName . }\n",
    "}\n",
    "\"\"\"\n",
    "\n",
    "print(\"Results\")\n",
    "run_query(queryString)"
   ]
  },
  {
   "cell_type": "markdown",
   "id": "dae0cb8e-0110-43b5-b439-f1db451c898d",
   "metadata": {},
   "source": [
    "So, taking as example the president of Italy, it is subclass of *resident of the Republic*, and it has a property country that refers to Italy. With this knowledge, I can connect each president to its country, using the BGP:\n",
    "\n"
   ]
  },
  {
   "cell_type": "code",
   "execution_count": 10,
   "id": "c19ff9ee-66c8-43d7-babe-1f296ba4a326",
   "metadata": {},
   "outputs": [
    {
     "name": "stdout",
     "output_type": "stream",
     "text": [
      "Results\n",
      "[('countryName', 'Honduras'), ('presidentPositionName', 'President of Honduras'), ('numPresidents', '84')]\n",
      "[('countryName', 'United States of America'), ('presidentPositionName', 'President of the United States'), ('numPresidents', '64')]\n",
      "[('countryName', 'Colombia'), ('presidentPositionName', 'President of Colombia'), ('numPresidents', '60')]\n",
      "[('countryName', 'Mexico'), ('presidentPositionName', 'President of Mexico'), ('numPresidents', '59')]\n",
      "[('countryName', 'Argentina'), ('presidentPositionName', 'President of Argentina'), ('numPresidents', '59')]\n",
      "[('countryName', 'Venezuela'), ('presidentPositionName', 'President of Venezuela'), ('numPresidents', '58')]\n",
      "[('countryName', 'Paraguay'), ('presidentPositionName', 'President of Paraguay'), ('numPresidents', '57')]\n",
      "[('countryName', 'Haiti'), ('presidentPositionName', 'President of Haiti'), ('numPresidents', '55')]\n",
      "[('countryName', 'Guatemala'), ('presidentPositionName', 'President of the Republic of Guatemala'), ('numPresidents', '53')]\n",
      "[('countryName', 'Peru'), ('presidentPositionName', 'President of Peru'), ('numPresidents', '53')]\n",
      "[('countryName', 'Brazil'), ('presidentPositionName', 'President of Brazil'), ('numPresidents', '42')]\n",
      "[('countryName', 'Costa Rica'), ('presidentPositionName', 'President of Costa Rica'), ('numPresidents', '40')]\n",
      "[('countryName', 'Chile'), ('presidentPositionName', 'President of Chile'), ('numPresidents', '37')]\n",
      "[('countryName', 'United States of America'), ('presidentPositionName', 'President-elect of the United States'), ('numPresidents', '33')]\n",
      "[('countryName', 'Cuba'), ('presidentPositionName', 'President of Cuba'), ('numPresidents', '30')]\n",
      "[('countryName', 'El Salvador'), ('presidentPositionName', 'President of El Salvador'), ('numPresidents', '28')]\n",
      "[('countryName', 'Syria'), ('presidentPositionName', 'President of Syria'), ('numPresidents', '25')]\n",
      "[('countryName', 'Lebanon'), ('presidentPositionName', 'President of Lebanon'), ('numPresidents', '22')]\n",
      "[('countryName', 'Taiwan'), ('presidentPositionName', 'President of the Republic of China'), ('numPresidents', '21')]\n",
      "[('countryName', 'Poland'), ('presidentPositionName', 'President of the Republic of Poland'), ('numPresidents', '19')]\n",
      "[('countryName', 'Portugal'), ('presidentPositionName', 'President of Portugal'), ('numPresidents', '19')]\n",
      "[('countryName', 'Federal Republic of Central America'), ('presidentPositionName', 'Jefe Supremo del Estado de El Salvador'), ('numPresidents', '18')]\n",
      "[('countryName', 'Serbia'), ('presidentPositionName', 'President of Serbia'), ('numPresidents', '18')]\n",
      "[('countryName', 'Bosnia and Herzegovina'), ('presidentPositionName', 'President of Republika Srpska'), ('numPresidents', '17')]\n",
      "[('countryName', 'Comoros'), ('presidentPositionName', 'President of Comoros'), ('numPresidents', '17')]\n",
      "[('countryName', 'India'), ('presidentPositionName', 'President of India'), ('numPresidents', '16')]\n",
      "[('countryName', 'Philippines'), ('presidentPositionName', 'President of the Philippines'), ('numPresidents', '16')]\n",
      "[('countryName', 'Vanuatu'), ('presidentPositionName', 'President of Vanuatu'), ('numPresidents', '15')]\n",
      "[('countryName', 'Somalia'), ('presidentPositionName', 'President of Somalia'), ('numPresidents', '15')]\n",
      "[('countryName', 'Pakistan'), ('presidentPositionName', 'President of Pakistan'), ('numPresidents', '15')]\n",
      "[('countryName', 'Ghana'), ('presidentPositionName', 'President of Ghana'), ('numPresidents', '14')]\n",
      "[('countryName', 'Mongolia'), ('presidentPositionName', 'President of Mongolia'), ('numPresidents', '14')]\n",
      "[('countryName', 'Greece'), ('presidentPositionName', 'President of Greece'), ('numPresidents', '14')]\n",
      "[('countryName', 'Mauritius'), ('presidentPositionName', 'President of Mauritius'), ('numPresidents', '13')]\n",
      "[('countryName', 'Nigeria'), ('presidentPositionName', 'President of Nigeria'), ('numPresidents', '13')]\n",
      "[('countryName', 'Germany'), ('presidentPositionName', 'president of Germany'), ('numPresidents', '12')]\n",
      "[('countryName', 'South Korea'), ('presidentPositionName', 'president of South Korea'), ('numPresidents', '12')]\n",
      "[('countryName', 'Burundi'), ('presidentPositionName', 'President of Burundi'), ('numPresidents', '12')]\n",
      "[('countryName', 'Croatia'), ('presidentPositionName', 'president of Croatia'), ('numPresidents', '12')]\n",
      "[('countryName', 'Uganda'), ('presidentPositionName', 'President of Uganda'), ('numPresidents', '12')]\n",
      "[('countryName', 'Vietnam'), ('presidentPositionName', 'President of Vietnam'), ('numPresidents', '12')]\n",
      "[('countryName', 'Italy'), ('presidentPositionName', 'President of Italy'), ('numPresidents', '12')]\n",
      "[('countryName', 'Austria'), ('presidentPositionName', 'President of Austria'), ('numPresidents', '12')]\n",
      "[('countryName', 'Albania'), ('presidentPositionName', 'President of Albania'), ('numPresidents', '11')]\n",
      "[('countryName', 'Marshall Islands'), ('presidentPositionName', 'President of the Marshall Islands'), ('numPresidents', '11')]\n",
      "[('countryName', 'Lithuania'), ('presidentPositionName', 'President of the Republic of Lithuania'), ('numPresidents', '11')]\n",
      "[('countryName', 'Madagascar'), ('presidentPositionName', 'President of Madagascar'), ('numPresidents', '11')]\n",
      "[('countryName', 'Federal Republic of Central America'), ('presidentPositionName', 'President of the Federal Republic of Central America'), ('numPresidents', '11')]\n",
      "[('countryName', 'Slovenia'), ('presidentPositionName', 'President of Slovenia'), ('numPresidents', '10')]\n",
      "[('countryName', 'Hungary'), ('presidentPositionName', 'President of Hungary'), ('numPresidents', '10')]\n",
      "[('countryName', 'Dominica'), ('presidentPositionName', 'president of Dominica'), ('numPresidents', '10')]\n",
      "[('countryName', 'Latvia'), ('presidentPositionName', 'President of Latvia'), ('numPresidents', '10')]\n",
      "[('countryName', 'Romania'), ('presidentPositionName', 'President of Romania'), ('numPresidents', '10')]\n",
      "[('countryName', 'Iraq'), ('presidentPositionName', 'President of Iraq'), ('numPresidents', '10')]\n",
      "[('countryName', 'Burkina Faso'), ('presidentPositionName', 'President of Burkina Faso'), ('numPresidents', '10')]\n",
      "[('countryName', 'Singapore'), ('presidentPositionName', 'President of Singapore'), ('numPresidents', '10')]\n",
      "[('countryName', 'Ethiopia'), ('presidentPositionName', 'President of Ethiopia'), ('numPresidents', '9')]\n",
      "[('countryName', 'Indonesia'), ('presidentPositionName', 'President of Indonesia'), ('numPresidents', '9')]\n",
      "[('countryName', 'Myanmar'), ('presidentPositionName', 'President of Myanmar'), ('numPresidents', '9')]\n",
      "[('countryName', 'Moldova'), ('presidentPositionName', 'President of Moldova'), ('numPresidents', '8')]\n",
      "[('countryName', \"People's Republic of China\"), ('presidentPositionName', \"President of the People's Republic of China\"), ('numPresidents', '8')]\n",
      "[('countryName', 'Sri Lanka'), ('presidentPositionName', 'President of Sri Lanka'), ('numPresidents', '8')]\n",
      "[('countryName', 'Zambia'), ('presidentPositionName', 'President of Zambia'), ('numPresidents', '8')]\n",
      "[('countryName', 'São Tomé and Príncipe'), ('presidentPositionName', 'President of São Tomé and Príncipe'), ('numPresidents', '8')]\n",
      "[('countryName', 'Kosovo'), ('presidentPositionName', 'President of Kosovo'), ('numPresidents', '7')]\n",
      "[('countryName', 'Kiribati'), ('presidentPositionName', 'President of Kiribati'), ('numPresidents', '7')]\n",
      "[('countryName', 'Laos'), ('presidentPositionName', 'President of Laos'), ('numPresidents', '7')]\n",
      "[('countryName', 'Central African Republic'), ('presidentPositionName', 'President of the Central African Republic'), ('numPresidents', '7')]\n",
      "[('countryName', 'Trinidad and Tobago'), ('presidentPositionName', 'President of Trinidad and Tobago'), ('numPresidents', '7')]\n",
      "[('countryName', 'Guyana'), ('presidentPositionName', 'President of Guyana'), ('numPresidents', '7')]\n",
      "[('countryName', 'Maldives'), ('presidentPositionName', 'President of the Maldives'), ('numPresidents', '7')]\n",
      "[('countryName', 'Democratic Republic of the Congo'), ('presidentPositionName', 'President of the Democratic Republic of the Congo'), ('numPresidents', '6')]\n",
      "[('countryName', 'Azerbaijan'), ('presidentPositionName', 'President of Azerbaijan'), ('numPresidents', '6')]\n",
      "[('countryName', 'Estonia'), ('presidentPositionName', 'President of Estonia'), ('numPresidents', '6')]\n",
      "[('countryName', 'Iceland'), ('presidentPositionName', 'President of Iceland'), ('numPresidents', '6')]\n",
      "[('countryName', 'Tanzania'), ('presidentPositionName', 'President of Tanzania'), ('numPresidents', '6')]\n",
      "[('countryName', 'Kyrgyzstan'), ('presidentPositionName', 'President of Kyrgyzstan'), ('numPresidents', '6')]\n",
      "[('countryName', 'Georgia'), ('presidentPositionName', 'President of Georgia'), ('numPresidents', '6')]\n",
      "[('countryName', 'South Africa'), ('presidentPositionName', 'President of South Africa'), ('numPresidents', '6')]\n",
      "[('countryName', 'Guinea'), ('presidentPositionName', 'president of Guinea'), ('numPresidents', '6')]\n",
      "[('countryName', 'Transnistria'), ('presidentPositionName', 'President of Transnistria'), ('numPresidents', '5')]\n",
      "[('countryName', 'Seychelles'), ('presidentPositionName', 'President of Seychelles'), ('numPresidents', '5')]\n",
      "[('countryName', 'Somaliland'), ('presidentPositionName', 'President of Somaliland'), ('numPresidents', '5')]\n",
      "[('countryName', 'Botswana'), ('presidentPositionName', 'President of Botswana'), ('numPresidents', '5')]\n",
      "[('countryName', 'Benin'), ('presidentPositionName', 'President of Republic of Benin'), ('numPresidents', '5')]\n",
      "[('countryName', 'Sahrawi Arab Democratic Republic'), ('presidentPositionName', 'President of the Sahrawi Arab Democratic Republic'), ('numPresidents', '4')]\n",
      "[('countryName', 'Zimbabwe'), ('presidentPositionName', 'President of Zimbabwe'), ('numPresidents', '4')]\n",
      "[('countryName', 'Armenia'), ('presidentPositionName', 'President of Armenia'), ('numPresidents', '4')]\n",
      "[('countryName', 'Mozambique'), ('presidentPositionName', 'President of Mozambique'), ('numPresidents', '4')]\n",
      "[('countryName', 'Angola'), ('presidentPositionName', 'President of Angola'), ('numPresidents', '4')]\n",
      "[('countryName', 'The Gambia'), ('presidentPositionName', 'President of the Gambia'), ('numPresidents', '3')]\n",
      "[('countryName', 'Republic of China 1912–1949'), ('presidentPositionName', 'Great President of the Republic of China'), ('numPresidents', '3')]\n",
      "[('countryName', 'Uzbekistan'), ('presidentPositionName', 'President of Uzbekistan'), ('numPresidents', '3')]\n",
      "[('countryName', 'Namibia'), ('presidentPositionName', 'President of the Republic of Namibia'), ('numPresidents', '3')]\n",
      "[('countryName', 'Nepal'), ('presidentPositionName', 'President of Nepal'), ('numPresidents', '3')]\n",
      "[('countryName', 'Serbia and Montenegro'), ('presidentPositionName', 'President of Serbia and Montenegro'), ('numPresidents', '2')]\n",
      "[('countryName', 'Turkmenistan'), ('presidentPositionName', 'President of Turkmenistan'), ('numPresidents', '2')]\n",
      "[('countryName', 'Kazakhstan'), ('presidentPositionName', 'President of Kazakhstan'), ('numPresidents', '2')]\n",
      "[('countryName', 'Republic of Kosova'), ('presidentPositionName', 'President of the Republic of Kosova'), ('numPresidents', '1')]\n",
      "[('countryName', 'Spanish Empire'), ('presidentPositionName', 'President of the Republic of Puerto Rico'), ('numPresidents', '1')]\n",
      "[('countryName', 'Confederate States of America'), ('presidentPositionName', 'President of the Confederate States'), ('numPresidents', '1')]\n"
     ]
    },
    {
     "data": {
      "text/plain": [
       "101"
      ]
     },
     "execution_count": 10,
     "metadata": {},
     "output_type": "execute_result"
    }
   ],
   "source": [
    "queryString = \"\"\"\n",
    "select distinct ?countryName ?presidentPositionName (count(?president) as ?numPresidents) {\n",
    "    ?president wdt:P39 ?presidentPosition .\n",
    "    ?presidentPosition wdt:P279* wd:Q248577 ;\n",
    "                       wdt:P17 ?country .\n",
    "    \n",
    "    ?presidentPosition <http://schema.org/name> ?presidentPositionName .\n",
    "    ?country <http://schema.org/name> ?countryName .\n",
    "} order by desc(?numPresidents)\n",
    "\"\"\"\n",
    "\n",
    "print(\"Results\")\n",
    "run_query(queryString)"
   ]
  },
  {
   "cell_type": "markdown",
   "id": "c6f0a88f-1064-4436-91ca-10d4a0053980",
   "metadata": {},
   "source": [
    "To keep the BGP simpler, the second way could be using the nationality of the president, instead of the country of its role. I can do this, only if the two countries (nationality and country) matches, so I first need to check this point."
   ]
  },
  {
   "cell_type": "code",
   "execution_count": 11,
   "id": "dc9ee4e0-7a2a-475a-be23-2bbcfe87fad4",
   "metadata": {
    "tags": []
   },
   "outputs": [
    {
     "name": "stdout",
     "output_type": "stream",
     "text": [
      "Results\n",
      "[('countryName', 'Albania'), ('nationalityName', 'Ottoman Empire'), ('numMismatchPresidents', '2')]\n",
      "[('countryName', 'Albania'), ('nationalityName', 'Albanian Kingdom'), ('numMismatchPresidents', '1')]\n",
      "[('countryName', 'Albania'), ('nationalityName', 'Independent Albania'), ('numMismatchPresidents', '1')]\n",
      "[('countryName', 'Albania'), ('nationalityName', 'Principality of Albania'), ('numMismatchPresidents', '1')]\n",
      "[('countryName', 'Albania'), ('nationalityName', 'Albanian Republic'), ('numMismatchPresidents', '1')]\n",
      "[('countryName', 'Angola'), ('nationalityName', 'Portugal'), ('numMismatchPresidents', '1')]\n",
      "[('countryName', 'Angola'), ('nationalityName', \"People's Republic of Angola\"), ('numMismatchPresidents', '1')]\n",
      "[('countryName', 'Argentina'), ('nationalityName', 'Spain'), ('numMismatchPresidents', '2')]\n",
      "[('countryName', 'Argentina'), ('nationalityName', 'Peru'), ('numMismatchPresidents', '1')]\n",
      "[('countryName', 'Argentina'), ('nationalityName', 'United Provinces of the Río de la Plata'), ('numMismatchPresidents', '1')]\n",
      "[('countryName', 'Argentina'), ('nationalityName', 'Italy'), ('numMismatchPresidents', '1')]\n",
      "[('countryName', 'Armenia'), ('nationalityName', 'Soviet Union'), ('numMismatchPresidents', '3')]\n",
      "[('countryName', 'Armenia'), ('nationalityName', 'United Kingdom'), ('numMismatchPresidents', '1')]\n",
      "[('countryName', 'Armenia'), ('nationalityName', 'Republic of Artsakh'), ('numMismatchPresidents', '1')]\n",
      "[('countryName', 'Austria'), ('nationalityName', 'First Republic of Austria'), ('numMismatchPresidents', '5')]\n",
      "[('countryName', 'Austria'), ('nationalityName', 'Federal State of Austria'), ('numMismatchPresidents', '5')]\n",
      "[('countryName', 'Austria'), ('nationalityName', 'Nazi Germany'), ('numMismatchPresidents', '4')]\n",
      "[('countryName', 'Austria'), ('nationalityName', 'Republic of German-Austria'), ('numMismatchPresidents', '3')]\n",
      "[('countryName', 'Austria'), ('nationalityName', 'Austria-Hungary'), ('numMismatchPresidents', '3')]\n",
      "[('countryName', 'Austria'), ('nationalityName', 'German Reich'), ('numMismatchPresidents', '1')]\n",
      "[('countryName', 'Azerbaijan'), ('nationalityName', 'Soviet Union'), ('numMismatchPresidents', '3')]\n",
      "[('countryName', 'Bosnia and Herzegovina'), ('nationalityName', 'Serbia'), ('numMismatchPresidents', '3')]\n",
      "[('countryName', 'Burkina Faso'), ('nationalityName', 'Republic of Upper Volta'), ('numMismatchPresidents', '4')]\n",
      "[('countryName', 'Central African Republic'), ('nationalityName', 'Central African Empire'), ('numMismatchPresidents', '1')]\n",
      "[('countryName', 'Central African Republic'), ('nationalityName', 'France'), ('numMismatchPresidents', '1')]\n",
      "[('countryName', 'Chile'), ('nationalityName', 'Argentina'), ('numMismatchPresidents', '1')]\n",
      "[('countryName', 'Chile'), ('nationalityName', 'Spain'), ('numMismatchPresidents', '1')]\n",
      "[('countryName', 'Chile'), ('nationalityName', 'Switzerland'), ('numMismatchPresidents', '1')]\n",
      "[('countryName', 'Colombia'), ('nationalityName', 'Granadine Confederation'), ('numMismatchPresidents', '2')]\n",
      "[('countryName', 'Colombia'), ('nationalityName', 'Republic of New Granada'), ('numMismatchPresidents', '2')]\n",
      "[('countryName', 'Colombia'), ('nationalityName', 'Spain'), ('numMismatchPresidents', '2')]\n",
      "[('countryName', 'Colombia'), ('nationalityName', 'United States of Colombia'), ('numMismatchPresidents', '1')]\n",
      "[('countryName', 'Colombia'), ('nationalityName', 'Ireland'), ('numMismatchPresidents', '1')]\n",
      "[('countryName', 'Colombia'), ('nationalityName', 'Spanish Empire'), ('numMismatchPresidents', '1')]\n",
      "[('countryName', 'Colombia'), ('nationalityName', 'Gran Colombia'), ('numMismatchPresidents', '1')]\n",
      "[('countryName', 'Comoros'), ('nationalityName', 'France'), ('numMismatchPresidents', '2')]\n",
      "[('countryName', 'Comoros'), ('nationalityName', 'Federal Islamic Republic of the Comoros'), ('numMismatchPresidents', '1')]\n",
      "[('countryName', 'Confederate States of America'), ('nationalityName', 'United States of America'), ('numMismatchPresidents', '1')]\n",
      "[('countryName', 'Croatia'), ('nationalityName', 'Cisleithania'), ('numMismatchPresidents', '1')]\n",
      "[('countryName', 'Croatia'), ('nationalityName', 'Kingdom of Yugoslavia'), ('numMismatchPresidents', '1')]\n",
      "[('countryName', 'Croatia'), ('nationalityName', 'Socialist Federal Republic of Yugoslavia'), ('numMismatchPresidents', '1')]\n",
      "[('countryName', 'Cuba'), ('nationalityName', 'Spain'), ('numMismatchPresidents', '3')]\n",
      "[('countryName', 'Cuba'), ('nationalityName', 'Spanish Empire'), ('numMismatchPresidents', '1')]\n",
      "[('countryName', 'Democratic Republic of the Congo'), ('nationalityName', 'France'), ('numMismatchPresidents', '1')]\n",
      "[('countryName', 'Democratic Republic of the Congo'), ('nationalityName', 'Republic of the Congo (Léopoldville)'), ('numMismatchPresidents', '1')]\n",
      "[('countryName', 'Democratic Republic of the Congo'), ('nationalityName', 'Zaire'), ('numMismatchPresidents', '1')]\n",
      "[('countryName', 'Democratic Republic of the Congo'), ('nationalityName', 'Republic of the Congo'), ('numMismatchPresidents', '1')]\n",
      "[('countryName', 'Dominica'), ('nationalityName', 'United Kingdom of Great Britain and Ireland'), ('numMismatchPresidents', '1')]\n",
      "[('countryName', 'Dominica'), ('nationalityName', 'United Kingdom'), ('numMismatchPresidents', '1')]\n",
      "[('countryName', 'Dominica'), ('nationalityName', 'Saint Lucia'), ('numMismatchPresidents', '1')]\n",
      "[('countryName', 'El Salvador'), ('nationalityName', 'Nicaragua'), ('numMismatchPresidents', '1')]\n",
      "[('countryName', 'El Salvador'), ('nationalityName', 'Spain'), ('numMismatchPresidents', '1')]\n",
      "[('countryName', 'El Salvador'), ('nationalityName', 'Colombia'), ('numMismatchPresidents', '1')]\n",
      "[('countryName', 'El Salvador'), ('nationalityName', 'Costa Rica'), ('numMismatchPresidents', '1')]\n",
      "[('countryName', 'El Salvador'), ('nationalityName', 'Federal Republic of Central America'), ('numMismatchPresidents', '1')]\n",
      "[('countryName', 'Estonia'), ('nationalityName', 'Soviet Union'), ('numMismatchPresidents', '3')]\n",
      "[('countryName', 'Estonia'), ('nationalityName', 'Russian Empire'), ('numMismatchPresidents', '1')]\n",
      "[('countryName', 'Ethiopia'), ('nationalityName', 'Zimbabwe'), ('numMismatchPresidents', '1')]\n",
      "[('countryName', 'Federal Republic of Central America'), ('nationalityName', 'El Salvador'), ('numMismatchPresidents', '18')]\n",
      "[('countryName', 'Federal Republic of Central America'), ('nationalityName', 'Spain'), ('numMismatchPresidents', '5')]\n",
      "[('countryName', 'Federal Republic of Central America'), ('nationalityName', 'Costa Rica'), ('numMismatchPresidents', '4')]\n",
      "[('countryName', 'Federal Republic of Central America'), ('nationalityName', 'Honduras'), ('numMismatchPresidents', '3')]\n",
      "[('countryName', 'Federal Republic of Central America'), ('nationalityName', 'Nicaragua'), ('numMismatchPresidents', '2')]\n",
      "[('countryName', 'Federal Republic of Central America'), ('nationalityName', 'United Provinces of Central America'), ('numMismatchPresidents', '1')]\n",
      "[('countryName', 'Federal Republic of Central America'), ('nationalityName', 'Mexico'), ('numMismatchPresidents', '1')]\n",
      "[('countryName', 'Federal Republic of Central America'), ('nationalityName', 'Spanish Empire'), ('numMismatchPresidents', '1')]\n",
      "[('countryName', 'Federal Republic of Central America'), ('nationalityName', 'Guatemala'), ('numMismatchPresidents', '1')]\n",
      "[('countryName', 'Georgia'), ('nationalityName', 'Soviet Union'), ('numMismatchPresidents', '4')]\n",
      "[('countryName', 'Georgia'), ('nationalityName', 'France'), ('numMismatchPresidents', '1')]\n",
      "[('countryName', 'Ghana'), ('nationalityName', 'Gold Coast'), ('numMismatchPresidents', '1')]\n",
      "[('countryName', 'Ghana'), ('nationalityName', 'United Kingdom'), ('numMismatchPresidents', '1')]\n",
      "[('countryName', 'Guatemala'), ('nationalityName', 'Federal Republic of Central America'), ('numMismatchPresidents', '1')]\n",
      "[('countryName', 'Guinea'), ('nationalityName', 'France'), ('numMismatchPresidents', '1')]\n",
      "[('countryName', 'Guyana'), ('nationalityName', 'United States of America'), ('numMismatchPresidents', '1')]\n",
      "[('countryName', 'Honduras'), ('nationalityName', 'Spain'), ('numMismatchPresidents', '6')]\n",
      "[('countryName', 'Honduras'), ('nationalityName', 'El Salvador'), ('numMismatchPresidents', '5')]\n",
      "[('countryName', 'Honduras'), ('nationalityName', 'Nicaragua'), ('numMismatchPresidents', '3')]\n",
      "[('countryName', 'Honduras'), ('nationalityName', 'Federal Republic of Central America'), ('numMismatchPresidents', '2')]\n",
      "[('countryName', 'Honduras'), ('nationalityName', 'Costa Rica'), ('numMismatchPresidents', '1')]\n",
      "[('countryName', 'India'), ('nationalityName', 'Dominion of India'), ('numMismatchPresidents', '12')]\n",
      "[('countryName', 'India'), ('nationalityName', 'British India'), ('numMismatchPresidents', '11')]\n",
      "[('countryName', 'Indonesia'), ('nationalityName', 'Dutch East Indies'), ('numMismatchPresidents', '2')]\n",
      "[('countryName', 'Indonesia'), ('nationalityName', 'Malaysia'), ('numMismatchPresidents', '1')]\n",
      "[('countryName', 'Iraq'), ('nationalityName', 'Iraqi Republic (1958–68)'), ('numMismatchPresidents', '1')]\n",
      "[('countryName', 'Iraq'), ('nationalityName', \"Ba'athist Iraq\"), ('numMismatchPresidents', '1')]\n",
      "[('countryName', 'Iraq'), ('nationalityName', 'Kingdom of Iraq'), ('numMismatchPresidents', '1')]\n",
      "[('countryName', 'Italy'), ('nationalityName', 'Kingdom of Italy'), ('numMismatchPresidents', '10')]\n",
      "[('countryName', 'Kazakhstan'), ('nationalityName', 'Soviet Union'), ('numMismatchPresidents', '1')]\n",
      "[('countryName', 'Kosovo'), ('nationalityName', 'Republic of Kosova'), ('numMismatchPresidents', '1')]\n",
      "[('countryName', 'Kosovo'), ('nationalityName', 'Yugoslavia'), ('numMismatchPresidents', '1')]\n",
      "[('countryName', 'Kosovo'), ('nationalityName', 'Switzerland'), ('numMismatchPresidents', '1')]\n",
      "[('countryName', 'Kosovo'), ('nationalityName', 'Socialist Federal Republic of Yugoslavia'), ('numMismatchPresidents', '1')]\n",
      "[('countryName', 'Kyrgyzstan'), ('nationalityName', 'Soviet Union'), ('numMismatchPresidents', '5')]\n",
      "[('countryName', 'Laos'), ('nationalityName', 'France'), ('numMismatchPresidents', '1')]\n",
      "[('countryName', 'Laos'), ('nationalityName', 'Thailand'), ('numMismatchPresidents', '1')]\n",
      "[('countryName', 'Latvia'), ('nationalityName', 'Soviet Union'), ('numMismatchPresidents', '4')]\n",
      "[('countryName', 'Latvia'), ('nationalityName', 'Russian Empire'), ('numMismatchPresidents', '3')]\n",
      "[('countryName', 'Latvia'), ('nationalityName', 'West Germany'), ('numMismatchPresidents', '1')]\n",
      "[('countryName', 'Lebanon'), ('nationalityName', 'Greater Lebanon'), ('numMismatchPresidents', '9')]\n",
      "[('countryName', 'Lebanon'), ('nationalityName', 'Arab Kingdom of Syria'), ('numMismatchPresidents', '8')]\n",
      "[('countryName', 'Lebanon'), ('nationalityName', 'Ottoman Empire'), ('numMismatchPresidents', '7')]\n",
      "[('countryName', 'Lebanon'), ('nationalityName', 'France'), ('numMismatchPresidents', '1')]\n",
      "[('countryName', 'Lithuania'), ('nationalityName', 'Russian Empire'), ('numMismatchPresidents', '2')]\n",
      "[('countryName', 'Lithuania'), ('nationalityName', 'Soviet Union'), ('numMismatchPresidents', '1')]\n",
      "[('countryName', 'Madagascar'), ('nationalityName', 'France'), ('numMismatchPresidents', '3')]\n",
      "[('countryName', 'Mexico'), ('nationalityName', 'Spain'), ('numMismatchPresidents', '2')]\n",
      "[('countryName', 'Mexico'), ('nationalityName', 'Viceroyalty of New Spain'), ('numMismatchPresidents', '2')]\n",
      "[('countryName', 'Mexico'), ('nationalityName', 'United States of America'), ('numMismatchPresidents', '1')]\n",
      "[('countryName', 'Moldova'), ('nationalityName', 'Soviet Union'), ('numMismatchPresidents', '6')]\n",
      "[('countryName', 'Moldova'), ('nationalityName', 'Romania'), ('numMismatchPresidents', '4')]\n",
      "[('countryName', 'Moldova'), ('nationalityName', 'Russia'), ('numMismatchPresidents', '2')]\n",
      "[('countryName', 'Moldova'), ('nationalityName', 'Moldavian Democratic Republic'), ('numMismatchPresidents', '1')]\n",
      "[('countryName', 'Moldova'), ('nationalityName', 'Russian Empire'), ('numMismatchPresidents', '1')]\n",
      "[('countryName', 'Mongolia'), ('nationalityName', \"Mongolian People's Republic\"), ('numMismatchPresidents', '1')]\n",
      "[('countryName', 'Mozambique'), ('nationalityName', 'Portugal'), ('numMismatchPresidents', '1')]\n",
      "[('countryName', 'Namibia'), ('nationalityName', 'South Africa'), ('numMismatchPresidents', '1')]\n",
      "[('countryName', 'Namibia'), ('nationalityName', 'Union of South Africa'), ('numMismatchPresidents', '1')]\n",
      "[('countryName', 'Nigeria'), ('nationalityName', 'Second Nigerian Republic'), ('numMismatchPresidents', '2')]\n",
      "[('countryName', 'Nigeria'), ('nationalityName', 'Colony and Protectorate of Nigeria'), ('numMismatchPresidents', '2')]\n",
      "[('countryName', 'Nigeria'), ('nationalityName', 'Federation of Nigeria'), ('numMismatchPresidents', '2')]\n",
      "[('countryName', 'Nigeria'), ('nationalityName', 'First Nigerian Republic'), ('numMismatchPresidents', '2')]\n",
      "[('countryName', 'Pakistan'), ('nationalityName', 'British India'), ('numMismatchPresidents', '12')]\n",
      "[('countryName', 'Paraguay'), ('nationalityName', 'Spanish Empire'), ('numMismatchPresidents', '1')]\n",
      "[('countryName', \"People's Republic of China\"), ('nationalityName', 'Republic of China 1912–1949'), ('numMismatchPresidents', '4')]\n",
      "[('countryName', \"People's Republic of China\"), ('nationalityName', 'Qing dynasty'), ('numMismatchPresidents', '2')]\n",
      "[('countryName', \"People's Republic of China\"), ('nationalityName', 'Chinese Soviet Republic'), ('numMismatchPresidents', '1')]\n",
      "[('countryName', \"People's Republic of China\"), ('nationalityName', 'China'), ('numMismatchPresidents', '1')]\n",
      "[('countryName', 'Peru'), ('nationalityName', 'Spain'), ('numMismatchPresidents', '3')]\n",
      "[('countryName', 'Peru'), ('nationalityName', 'Bolivia'), ('numMismatchPresidents', '3')]\n",
      "[('countryName', 'Peru'), ('nationalityName', 'Gran Colombia'), ('numMismatchPresidents', '2')]\n",
      "[('countryName', 'Peru'), ('nationalityName', 'Venezuela'), ('numMismatchPresidents', '1')]\n",
      "[('countryName', 'Peru'), ('nationalityName', 'Ecuador'), ('numMismatchPresidents', '1')]\n",
      "[('countryName', 'Peru'), ('nationalityName', 'Peru–Bolivian Confederation'), ('numMismatchPresidents', '1')]\n",
      "[('countryName', 'Peru'), ('nationalityName', 'England'), ('numMismatchPresidents', '1')]\n",
      "[('countryName', 'Peru'), ('nationalityName', 'Peruano'), ('numMismatchPresidents', '1')]\n",
      "[('countryName', 'Peru'), ('nationalityName', 'Argentina'), ('numMismatchPresidents', '1')]\n",
      "[('countryName', 'Peru'), ('nationalityName', 'Japan'), ('numMismatchPresidents', '1')]\n",
      "[('countryName', 'Philippines'), ('nationalityName', 'Spain'), ('numMismatchPresidents', '1')]\n",
      "[('countryName', 'Poland'), ('nationalityName', 'Second Polish Republic'), ('numMismatchPresidents', '6')]\n",
      "[('countryName', 'Poland'), ('nationalityName', 'Russian Empire'), ('numMismatchPresidents', '4')]\n",
      "[('countryName', 'Poland'), ('nationalityName', \"Polish People's Republic\"), ('numMismatchPresidents', '3')]\n",
      "[('countryName', 'Poland'), ('nationalityName', 'Austria-Hungary'), ('numMismatchPresidents', '2')]\n",
      "[('countryName', 'Poland'), ('nationalityName', 'Soviet Union'), ('numMismatchPresidents', '1')]\n",
      "[('countryName', 'Poland'), ('nationalityName', 'French Third Republic'), ('numMismatchPresidents', '1')]\n",
      "[('countryName', 'Poland'), ('nationalityName', 'Duchy of Milan'), ('numMismatchPresidents', '1')]\n",
      "[('countryName', 'Republic of China 1912–1949'), ('nationalityName', 'Qing dynasty'), ('numMismatchPresidents', '2')]\n",
      "[('countryName', 'Republic of China 1912–1949'), ('nationalityName', 'Empire of China'), ('numMismatchPresidents', '1')]\n",
      "[('countryName', 'Republic of Kosova'), ('nationalityName', 'Kosovo'), ('numMismatchPresidents', '1')]\n",
      "[('countryName', 'Romania'), ('nationalityName', 'Austria-Hungary'), ('numMismatchPresidents', '1')]\n",
      "[('countryName', 'Romania'), ('nationalityName', 'Kingdom of Romania'), ('numMismatchPresidents', '1')]\n",
      "[('countryName', 'Romania'), ('nationalityName', 'Moldova'), ('numMismatchPresidents', '1')]\n",
      "[('countryName', 'Romania'), ('nationalityName', 'Socialist Republic of Romania'), ('numMismatchPresidents', '1')]\n",
      "[('countryName', 'Sahrawi Arab Democratic Republic'), ('nationalityName', 'Western Sahara'), ('numMismatchPresidents', '1')]\n",
      "[('countryName', 'Serbia'), ('nationalityName', 'Serbia and Montenegro'), ('numMismatchPresidents', '4')]\n",
      "[('countryName', 'Serbia'), ('nationalityName', 'Socialist Federal Republic of Yugoslavia'), ('numMismatchPresidents', '4')]\n",
      "[('countryName', 'Serbia'), ('nationalityName', 'Kingdom of Yugoslavia'), ('numMismatchPresidents', '3')]\n",
      "[('countryName', 'Serbia'), ('nationalityName', 'Federal Republic of Yugoslavia'), ('numMismatchPresidents', '3')]\n",
      "[('countryName', 'Serbia'), ('nationalityName', 'Yugoslavia'), ('numMismatchPresidents', '2')]\n",
      "[('countryName', 'Serbia'), ('nationalityName', 'Kingdom of Serbia'), ('numMismatchPresidents', '1')]\n",
      "[('countryName', 'Serbia'), ('nationalityName', 'Kingdom of Serbs, Croats and Slovenes'), ('numMismatchPresidents', '1')]\n",
      "[('countryName', 'Serbia and Montenegro'), ('nationalityName', 'Montenegro'), ('numMismatchPresidents', '1')]\n",
      "[('countryName', 'Serbia and Montenegro'), ('nationalityName', 'Serbia'), ('numMismatchPresidents', '1')]\n",
      "[('countryName', 'Singapore'), ('nationalityName', 'Malaysia'), ('numMismatchPresidents', '1')]\n",
      "[('countryName', 'Slovenia'), ('nationalityName', 'Socialist Federal Republic of Yugoslavia'), ('numMismatchPresidents', '7')]\n",
      "[('countryName', 'Slovenia'), ('nationalityName', 'Kingdom of Yugoslavia'), ('numMismatchPresidents', '5')]\n",
      "[('countryName', 'Slovenia'), ('nationalityName', 'Austria-Hungary'), ('numMismatchPresidents', '4')]\n",
      "[('countryName', 'Slovenia'), ('nationalityName', 'Yugoslavia'), ('numMismatchPresidents', '2')]\n",
      "[('countryName', 'Somaliland'), ('nationalityName', 'Somalia'), ('numMismatchPresidents', '1')]\n",
      "[('countryName', 'Somaliland'), ('nationalityName', 'State of Somaliland'), ('numMismatchPresidents', '1')]\n",
      "[('countryName', 'Somaliland'), ('nationalityName', 'British Somaliland'), ('numMismatchPresidents', '1')]\n",
      "[('countryName', 'South Africa'), ('nationalityName', 'Union of South Africa'), ('numMismatchPresidents', '1')]\n",
      "[('countryName', 'South Korea'), ('nationalityName', 'Provisional Government of the Republic of Korea'), ('numMismatchPresidents', '1')]\n",
      "[('countryName', 'South Korea'), ('nationalityName', 'Joseon'), ('numMismatchPresidents', '1')]\n",
      "[('countryName', 'South Korea'), ('nationalityName', 'Korean Empire'), ('numMismatchPresidents', '1')]\n",
      "[('countryName', 'Spanish Empire'), ('nationalityName', 'Puerto Rico'), ('numMismatchPresidents', '1')]\n",
      "[('countryName', 'Syria'), ('nationalityName', 'Second Syrian Republic'), ('numMismatchPresidents', '2')]\n",
      "[('countryName', 'Syria'), ('nationalityName', 'Ottoman Empire'), ('numMismatchPresidents', '2')]\n",
      "[('countryName', 'Syria'), ('nationalityName', 'Syrian Federation'), ('numMismatchPresidents', '1')]\n",
      "[('countryName', 'Syria'), ('nationalityName', 'State of Syria'), ('numMismatchPresidents', '1')]\n",
      "[('countryName', 'Syria'), ('nationalityName', 'Arab Kingdom of Syria'), ('numMismatchPresidents', '1')]\n",
      "[('countryName', 'Syria'), ('nationalityName', 'Jordan'), ('numMismatchPresidents', '1')]\n",
      "[('countryName', 'Syria'), ('nationalityName', 'France'), ('numMismatchPresidents', '1')]\n",
      "[('countryName', 'Syria'), ('nationalityName', 'Algeria'), ('numMismatchPresidents', '1')]\n",
      "[('countryName', 'São Tomé and Príncipe'), ('nationalityName', 'Portugal'), ('numMismatchPresidents', '1')]\n",
      "[('countryName', 'Taiwan'), ('nationalityName', 'Republic of China 1912–1949'), ('numMismatchPresidents', '15')]\n",
      "[('countryName', 'Taiwan'), ('nationalityName', 'Qing dynasty'), ('numMismatchPresidents', '9')]\n",
      "[('countryName', 'Taiwan'), ('nationalityName', 'Taiwan under Japanese rule'), ('numMismatchPresidents', '1')]\n",
      "[('countryName', 'Taiwan'), ('nationalityName', \"People's Republic of China\"), ('numMismatchPresidents', '1')]\n",
      "[('countryName', 'Taiwan'), ('nationalityName', 'China'), ('numMismatchPresidents', '1')]\n",
      "[('countryName', 'Transnistria'), ('nationalityName', 'Russia'), ('numMismatchPresidents', '4')]\n",
      "[('countryName', 'Transnistria'), ('nationalityName', 'Soviet Union'), ('numMismatchPresidents', '3')]\n",
      "[('countryName', 'Transnistria'), ('nationalityName', 'Ukraine'), ('numMismatchPresidents', '1')]\n",
      "[('countryName', 'Trinidad and Tobago'), ('nationalityName', 'British India'), ('numMismatchPresidents', '1')]\n",
      "[('countryName', 'Trinidad and Tobago'), ('nationalityName', 'India'), ('numMismatchPresidents', '1')]\n",
      "[('countryName', 'Trinidad and Tobago'), ('nationalityName', 'Dominion of India'), ('numMismatchPresidents', '1')]\n",
      "[('countryName', 'Turkmenistan'), ('nationalityName', 'Soviet Union'), ('numMismatchPresidents', '1')]\n",
      "[('countryName', 'Uganda'), ('nationalityName', 'Saudi Arabia'), ('numMismatchPresidents', '1')]\n",
      "[('countryName', 'Uganda'), ('nationalityName', 'Uganda Protectorate'), ('numMismatchPresidents', '1')]\n",
      "[('countryName', 'United States of America'), ('nationalityName', 'Great Britain'), ('numMismatchPresidents', '4')]\n",
      "[('countryName', 'United States of America'), ('nationalityName', 'British America'), ('numMismatchPresidents', '2')]\n",
      "[('countryName', 'United States of America'), ('nationalityName', 'Latveria'), ('numMismatchPresidents', '1')]\n",
      "[('countryName', 'Uzbekistan'), ('nationalityName', 'Soviet Union'), ('numMismatchPresidents', '1')]\n",
      "[('countryName', 'Venezuela'), ('nationalityName', 'Spain'), ('numMismatchPresidents', '3')]\n",
      "[('countryName', 'Venezuela'), ('nationalityName', 'Venezolano'), ('numMismatchPresidents', '1')]\n",
      "[('countryName', 'Venezuela'), ('nationalityName', 'Ecuador'), ('numMismatchPresidents', '1')]\n",
      "[('countryName', 'Venezuela'), ('nationalityName', 'Gran Colombia'), ('numMismatchPresidents', '1')]\n",
      "[('countryName', 'Venezuela'), ('nationalityName', 'Bolivia'), ('numMismatchPresidents', '1')]\n",
      "[('countryName', 'Vietnam'), ('nationalityName', 'North Vietnam'), ('numMismatchPresidents', '1')]\n",
      "[('countryName', 'Zimbabwe'), ('nationalityName', 'Rhodesia'), ('numMismatchPresidents', '1')]\n"
     ]
    },
    {
     "data": {
      "text/plain": [
       "209"
      ]
     },
     "execution_count": 11,
     "metadata": {},
     "output_type": "execute_result"
    }
   ],
   "source": [
    "queryString = \"\"\"\n",
    "select distinct ?countryName ?nationalityName (count(?president) as ?numMismatchPresidents) {\n",
    "    ?president wdt:P39 ?presidentPosition ;\n",
    "               wdt:P27 ?nationality .\n",
    "    ?presidentPosition wdt:P279* wd:Q248577 ;\n",
    "                       wdt:P17 ?country .\n",
    "    \n",
    "    ?country <http://schema.org/name> ?countryName .\n",
    "    ?nationality <http://schema.org/name> ?nationalityName .\n",
    "    \n",
    "    filter (?nationality != ?country)\n",
    "} order by ?countryName desc(?numMismatchPresidents)\n",
    "\"\"\"\n",
    "\n",
    "print(\"Results\")\n",
    "run_query(queryString)"
   ]
  },
  {
   "cell_type": "markdown",
   "id": "7e7cfb5e-6017-472e-a851-f444dc97169d",
   "metadata": {},
   "source": [
    "And so I discover that there are some mismatches between nationalities and countries. This happens because of presidents of older ages, where the geopolitical situation was different. An example is Albania, that had a president with nationality of the Ottoman Empire."
   ]
  },
  {
   "cell_type": "markdown",
   "id": "50d726e8-fafe-48a1-ae00-b1a878e9b8ea",
   "metadata": {},
   "source": [
    "So, finally, the BGP to obtain the countries which had at least one president is:\n",
    "\n",
    "```\n",
    "?president wdt:P39 ?presidentPosition .\n",
    "?presidentPosition wdt:P279* wd:Q248577 ;\n",
    "                   wdt:P17 ?country .\n",
    "```\n"
   ]
  },
  {
   "cell_type": "markdown",
   "id": "b13405ad-c059-44c0-bd51-a5c49efbb67a",
   "metadata": {},
   "source": [
    "## 3. When was the first president of each country born? How many presidents each country had?"
   ]
  },
  {
   "cell_type": "markdown",
   "id": "d16c1b5b-72ce-4ee8-b552-3707473b2ef2",
   "metadata": {},
   "source": [
    "To get the first president of each country, I first need to know when a president was elected. I can try to see if in the attributes for presidents there is a property which connect the president to its election."
   ]
  },
  {
   "cell_type": "code",
   "execution_count": 12,
   "id": "fcba21a9-49cc-41e4-8378-983951d4c685",
   "metadata": {},
   "outputs": [
    {
     "name": "stdout",
     "output_type": "stream",
     "text": [
      "Results\n",
      "[('p', 'http://www.wikidata.org/prop/direct/P3602'), ('pName', 'candidacy in election')]\n",
      "[('p', 'http://www.wikidata.org/prop/direct/P3429'), ('pName', 'Electronic Enlightenment ID')]\n",
      "[('p', 'http://www.wikidata.org/prop/direct/P1839'), ('pName', 'US Federal Election Commission ID')]\n"
     ]
    },
    {
     "data": {
      "text/plain": [
       "3"
      ]
     },
     "execution_count": 12,
     "metadata": {},
     "output_type": "execute_result"
    }
   ],
   "source": [
    "queryString = \"\"\"\n",
    "select distinct ?p ?pName where {\n",
    "    ?people wdt:P39/wdt:P279* wd:Q248577 ;\n",
    "            ?p ?o .\n",
    "    \n",
    "    ?p <http://schema.org/name> ?pName .\n",
    "    \n",
    "    filter (regex(?pName, \"elect\", \"i\"))\n",
    "}\n",
    "\"\"\"\n",
    "\n",
    "print(\"Results\")\n",
    "run_query(queryString)"
   ]
  },
  {
   "cell_type": "markdown",
   "id": "7db98e57-37d1-437e-963f-54250b21893f",
   "metadata": {},
   "source": [
    "So, probably the property *candidacy in election (**P3602**)* refers to the elections the president has partecipated. I can try to create a path that let me connect a president to its election and then to the year of the elections. I can start looking to the properties of the president of USA, to look for one of the presidents."
   ]
  },
  {
   "cell_type": "code",
   "execution_count": 13,
   "id": "1eb59b0e-6077-4fb1-8d75-5e3658a36a00",
   "metadata": {
    "tags": []
   },
   "outputs": [
    {
     "name": "stdout",
     "output_type": "stream",
     "text": [
      "Results\n",
      "[('p', 'http://www.wikidata.org/prop/direct/P279'), ('pName', 'subclass of'), ('o', 'http://www.wikidata.org/entity/Q2285706'), ('oName', 'head of government')]\n",
      "[('p', 'http://www.wikidata.org/prop/direct/P748'), ('pName', 'appointed by'), ('o', 'http://www.wikidata.org/entity/Q11701'), ('oName', 'United States House of Representatives')]\n",
      "[('p', 'http://www.wikidata.org/prop/direct/P511'), ('pName', 'honorific prefix'), ('o', 'http://www.wikidata.org/entity/Q1067610'), ('oName', 'Excellency')]\n",
      "[('p', 'http://www.wikidata.org/prop/direct/P31'), ('pName', 'instance of'), ('o', 'http://www.wikidata.org/entity/Q17279032'), ('oName', 'elective office')]\n",
      "[('p', 'http://www.wikidata.org/prop/direct/P263'), ('pName', 'official residence'), ('o', 'http://www.wikidata.org/entity/Q35525'), ('oName', 'White House')]\n",
      "[('p', 'http://www.wikidata.org/prop/direct/P279'), ('pName', 'subclass of'), ('o', 'http://www.wikidata.org/entity/Q248577'), ('oName', 'President of the Republic')]\n",
      "[('p', 'http://www.wikidata.org/prop/direct/P3438'), ('pName', 'vehicle normally used'), ('o', 'http://www.wikidata.org/entity/Q179969'), ('oName', 'Air Force One')]\n",
      "[('p', 'http://www.wikidata.org/prop/direct/P2868'), ('pName', 'subject has role'), ('o', 'http://www.wikidata.org/entity/Q380782'), ('oName', 'commander-in-chief')]\n",
      "[('p', 'http://www.wikidata.org/prop/direct/P910'), ('pName', \"topic's main category\"), ('o', 'http://www.wikidata.org/entity/Q7130129'), ('oName', 'Category:Presidents of the United States')]\n",
      "[('p', 'http://www.wikidata.org/prop/direct/P2098'), ('pName', 'substitute/deputy/replacement of office/officeholder'), ('o', 'http://www.wikidata.org/entity/Q11699'), ('oName', 'Vice President of the United States')]\n",
      "[('p', 'http://www.wikidata.org/prop/direct/P17'), ('pName', 'country'), ('o', 'http://www.wikidata.org/entity/Q30'), ('oName', 'United States of America')]\n",
      "[('p', 'http://www.wikidata.org/prop/direct/P1001'), ('pName', 'applies to jurisdiction'), ('o', 'http://www.wikidata.org/entity/Q30'), ('oName', 'United States of America')]\n",
      "[('p', 'http://www.wikidata.org/prop/direct/P1343'), ('pName', 'described by source'), ('o', 'http://www.wikidata.org/entity/Q3181656'), ('oName', 'The Nuttall Encyclopædia')]\n",
      "[('p', 'http://www.wikidata.org/prop/direct/P279'), ('pName', 'subclass of'), ('o', 'http://www.wikidata.org/entity/Q48352'), ('oName', 'head of state')]\n",
      "[('p', 'http://www.wikidata.org/prop/direct/P3438'), ('pName', 'vehicle normally used'), ('o', 'http://www.wikidata.org/entity/Q2745015'), ('oName', 'Presidential state car')]\n",
      "[('p', 'http://www.wikidata.org/prop/direct/P748'), ('pName', 'appointed by'), ('o', 'http://www.wikidata.org/entity/Q47586'), ('oName', 'United States Electoral College')]\n",
      "[('p', 'http://www.wikidata.org/prop/direct/P511'), ('pName', 'honorific prefix'), ('o', 'http://www.wikidata.org/entity/Q2746176'), ('oName', 'The Honourable')]\n",
      "[('p', 'http://www.wikidata.org/prop/direct/P511'), ('pName', 'honorific prefix'), ('o', 'http://www.wikidata.org/entity/Q5306663'), ('oName', 'Mr. President')]\n",
      "[('p', 'http://www.wikidata.org/prop/direct/P1308'), ('pName', 'officeholder'), ('o', 'http://www.wikidata.org/entity/Q6279'), ('oName', 'Joe Biden')]\n",
      "[('p', 'http://www.wikidata.org/prop/direct/P2868'), ('pName', 'subject has role'), ('o', 'http://www.wikidata.org/entity/Q537151'), ('oName', 'pardon')]\n",
      "[('p', 'http://www.wikidata.org/prop/direct/P361'), ('pName', 'part of'), ('o', 'http://www.wikidata.org/entity/Q862444'), ('oName', 'First Family of the United States')]\n",
      "[('p', 'http://www.wikidata.org/prop/direct/P2354'), ('pName', 'has list'), ('o', 'http://www.wikidata.org/entity/Q35073'), ('oName', 'list of Presidents of the United States')]\n",
      "[('p', 'http://www.wikidata.org/prop/direct/P361'), ('pName', 'part of'), ('o', 'http://www.wikidata.org/entity/Q104907540'), ('oName', 'executive branch of the U.S. government')]\n",
      "[('p', 'http://www.wikidata.org/prop/direct/P418'), ('pName', 'seal description'), ('o', 'http://www.wikidata.org/entity/Q524901'), ('oName', 'Seal of the President of the United States')]\n",
      "[('p', 'http://www.wikidata.org/prop/direct/P163'), ('pName', 'flag'), ('o', 'http://www.wikidata.org/entity/Q2975851'), ('oName', 'flag of the President of the United States')]\n",
      "[('p', 'http://www.wikidata.org/prop/direct/P3438'), ('pName', 'vehicle normally used'), ('o', 'http://www.wikidata.org/entity/Q1125423'), ('oName', 'Marine One')]\n",
      "[('p', 'http://www.wikidata.org/prop/direct/P85'), ('pName', 'anthem'), ('o', 'http://www.wikidata.org/entity/Q201333'), ('oName', 'Hail to the Chief')]\n",
      "[('p', 'http://www.wikidata.org/prop/direct/P1225'), ('pName', 'U.S. National Archives Identifier'), ('o', '10642006')]\n",
      "[('p', 'http://www.wikidata.org/prop/direct/P1417'), ('pName', 'Encyclopædia Britannica Online ID'), ('o', 'topic/presidency-of-the-United-States-of-America')]\n",
      "[('p', 'http://www.wikidata.org/prop/direct/P158'), ('pName', 'seal image'), ('o', 'http://commons.wikimedia.org/wiki/Special:FilePath/Seal%20of%20the%20President%20of%20the%20United%20States.svg')]\n",
      "[('p', 'http://www.wikidata.org/prop/direct/P1617'), ('pName', 'BBC Things ID'), ('o', 'd3ffcf30-e3d0-4cad-ab56-beb5d3ac73ad')]\n",
      "[('p', 'http://www.wikidata.org/prop/direct/P1705'), ('pName', 'native label'), ('o', 'President of the United States')]\n",
      "[('p', 'http://www.wikidata.org/prop/direct/P18'), ('pName', 'image'), ('o', 'http://commons.wikimedia.org/wiki/Special:FilePath/Joe%20Biden%20presidential%20portrait%20%28cropped%29.jpg')]\n",
      "[('p', 'http://www.wikidata.org/prop/direct/P2002'), ('pName', 'Twitter username'), ('o', 'POTUS')]\n",
      "[('p', 'http://www.wikidata.org/prop/direct/P2013'), ('pName', 'Facebook ID'), ('o', 'potus')]\n",
      "[('p', 'http://www.wikidata.org/prop/direct/P213'), ('pName', 'ISNI'), ('o', '0000 0001 2106 1812')]\n",
      "[('p', 'http://www.wikidata.org/prop/direct/P214'), ('pName', 'VIAF ID'), ('o', '123879793')]\n",
      "[('p', 'http://www.wikidata.org/prop/direct/P227'), ('pName', 'GND ID'), ('o', '2033432-1')]\n",
      "[('p', 'http://www.wikidata.org/prop/direct/P2390'), ('pName', 'Ballotpedia ID'), ('o', 'President_of_the_United_States')]\n",
      "[('p', 'http://www.wikidata.org/prop/direct/P244'), ('pName', 'Library of Congress authority ID'), ('o', 'n80001199')]\n",
      "[('p', 'http://www.wikidata.org/prop/direct/P244'), ('pName', 'Library of Congress authority ID'), ('o', 'sh85106465')]\n",
      "[('p', 'http://www.wikidata.org/prop/direct/P2581'), ('pName', 'BabelNet ID'), ('o', '00018323n')]\n",
      "[('p', 'http://www.wikidata.org/prop/direct/P268'), ('pName', 'Bibliothèque nationale de France ID'), ('o', '11863688j')]\n",
      "[('p', 'http://www.wikidata.org/prop/direct/P269'), ('pName', 'IdRef ID'), ('o', '026377519')]\n",
      "[('p', 'http://www.wikidata.org/prop/direct/P2998'), ('pName', 'age of candidacy'), ('o', '35')]\n",
      "[('p', 'http://www.wikidata.org/prop/direct/P3221'), ('pName', 'New York Times topic ID'), ('o', 'subject/presidents-and-presidency-us')]\n",
      "[('p', 'http://www.wikidata.org/prop/direct/P3393'), ('pName', 'LittleSis organization ID'), ('o', '15771')]\n",
      "[('p', 'http://www.wikidata.org/prop/direct/P3417'), ('pName', 'Quora topic ID'), ('o', 'President-of-the-USA')]\n",
      "[('p', 'http://www.wikidata.org/prop/direct/P3417'), ('pName', 'Quora topic ID'), ('o', 'President-of-the-United-States')]\n",
      "[('p', 'http://www.wikidata.org/prop/direct/P3553'), ('pName', 'Zhihu topic ID'), ('o', '19562288')]\n",
      "[('p', 'http://www.wikidata.org/prop/direct/P373'), ('pName', 'Commons category'), ('o', 'Presidents of the United States')]\n",
      "[('p', 'http://www.wikidata.org/prop/direct/P4081'), ('pName', 'BHL creator ID'), ('o', '3517')]\n",
      "[('p', 'http://www.wikidata.org/prop/direct/P41'), ('pName', 'flag image'), ('o', 'http://commons.wikimedia.org/wiki/Special:FilePath/Flag%20of%20the%20President%20of%20the%20United%20States.svg')]\n",
      "[('p', 'http://www.wikidata.org/prop/direct/P4527'), ('pName', 'UK Parliament thesaurus ID'), ('o', '85422')]\n",
      "[('p', 'http://www.wikidata.org/prop/direct/P571'), ('pName', 'inception'), ('o', '1787-04-30T00:00:00Z')]\n",
      "[('p', 'http://www.wikidata.org/prop/direct/P646'), ('pName', 'Freebase ID'), ('o', '/m/060d2')]\n",
      "[('p', 'http://www.wikidata.org/prop/direct/P691'), ('pName', 'NKCR AUT ID'), ('o', 'kn20010710003')]\n",
      "[('p', 'http://www.wikidata.org/prop/direct/P7775'), ('pName', 'RationalWiki ID'), ('o', 'President_of_the_United_States')]\n",
      "[('p', 'http://www.wikidata.org/prop/direct/P7818'), ('pName', 'French Vikidia ID'), ('o', 'Président_des_États-Unis')]\n",
      "[('p', 'http://www.wikidata.org/prop/direct/P7859'), ('pName', 'WorldCat Identities ID'), ('o', 'lccn-n80001199')]\n",
      "[('p', 'http://www.wikidata.org/prop/direct/P8309'), ('pName', 'Yle topic ID'), ('o', '18-145986')]\n",
      "[('p', 'http://www.wikidata.org/prop/direct/P8408'), ('pName', 'KBpedia ID'), ('o', 'UnitedStatesPresident')]\n",
      "[('p', 'http://www.wikidata.org/prop/direct/P856'), ('pName', 'official website'), ('o', 'https://www.whitehouse.gov/')]\n",
      "[('p', 'http://www.wikidata.org/prop/direct/P8687'), ('pName', 'social media followers'), ('o', '6994137')]\n",
      "[('p', 'http://www.wikidata.org/prop/direct/P935'), ('pName', 'Commons gallery'), ('o', 'President of the United States')]\n",
      "[('p', 'http://www.wikidata.org/prop/direct/P948'), ('pName', 'page banner'), ('o', 'http://commons.wikimedia.org/wiki/Special:FilePath/Presidents%20of%20the%20United%20States%20banner%20Lincoln%20Memorial.jpg')]\n",
      "[('p', 'http://www.wikidata.org/prop/direct/P2097'), ('pName', 'term length of office'), ('o', '4')]\n",
      "[('p', 'http://www.wikidata.org/prop/direct/P3618'), ('pName', 'base salary'), ('o', '400000')]\n"
     ]
    },
    {
     "data": {
      "text/plain": [
       "68"
      ]
     },
     "execution_count": 13,
     "metadata": {},
     "output_type": "execute_result"
    }
   ],
   "source": [
    "queryString = \"\"\"\n",
    "select distinct ?p ?pName ?o ?oName where {\n",
    "    wd:Q11696 ?p ?o .\n",
    "    \n",
    "    ?p <http://schema.org/name> ?pName .\n",
    "    optional { ?o <http://schema.org/name> ?oName } .\n",
    "}\n",
    "\"\"\"\n",
    "\n",
    "print(\"Results\")\n",
    "run_query(queryString)"
   ]
  },
  {
   "cell_type": "markdown",
   "id": "aca2a2a5-2a3c-425e-905a-7aed2b9198ce",
   "metadata": {},
   "source": [
    "**Q6279** corresponds to the current president Joe Biden, and then I can check what the property *candidacy in election* return me."
   ]
  },
  {
   "cell_type": "code",
   "execution_count": 14,
   "id": "37cb7ffa-59ed-4353-88f6-68d3661f1d3f",
   "metadata": {},
   "outputs": [
    {
     "name": "stdout",
     "output_type": "stream",
     "text": [
      "Results\n",
      "[('election', 'http://www.wikidata.org/entity/Q22923830'), ('electionName', '2020 United States presidential election')]\n",
      "[('election', 'http://www.wikidata.org/entity/Q7891450'), ('electionName', '1972 United States Senate election in Delaware')]\n"
     ]
    },
    {
     "data": {
      "text/plain": [
       "2"
      ]
     },
     "execution_count": 14,
     "metadata": {},
     "output_type": "execute_result"
    }
   ],
   "source": [
    "queryString = \"\"\"\n",
    "select distinct ?election ?electionName where {\n",
    "    wd:Q6279 wdt:P3602 ?election .\n",
    "    \n",
    "    ?election <http://schema.org/name> ?electionName .\n",
    "}\n",
    "\"\"\"\n",
    "\n",
    "print(\"Results\")\n",
    "run_query(queryString)"
   ]
  },
  {
   "cell_type": "markdown",
   "id": "382290cf-6769-4564-be4c-423a2415abde",
   "metadata": {},
   "source": [
    "So, Joe Biden partecipated in two elections. I'm interested in the presidential election of 2020 (**Q22923830**) and I can list its properties."
   ]
  },
  {
   "cell_type": "code",
   "execution_count": 15,
   "id": "8a699154-5a07-4a98-975e-a3d18c4a1819",
   "metadata": {
    "tags": []
   },
   "outputs": [
    {
     "name": "stdout",
     "output_type": "stream",
     "text": [
      "Results\n",
      "[('p', 'http://www.wikidata.org/prop/direct/P726'), ('pName', 'candidate'), ('o', 'http://www.wikidata.org/entity/Q22686'), ('oName', 'Donald Trump')]\n",
      "[('p', 'http://www.wikidata.org/prop/direct/P991'), ('pName', 'successful candidate'), ('o', 'http://www.wikidata.org/entity/Q22686'), ('oName', 'Donald Trump')]\n",
      "[('p', 'http://www.wikidata.org/prop/direct/P541'), ('pName', 'office contested'), ('o', 'http://www.wikidata.org/entity/Q11696'), ('oName', 'President of the United States')]\n",
      "[('p', 'http://www.wikidata.org/prop/direct/P541'), ('pName', 'office contested'), ('o', 'http://www.wikidata.org/entity/Q11699'), ('oName', 'Vice President of the United States')]\n",
      "[('p', 'http://www.wikidata.org/prop/direct/P17'), ('pName', 'country'), ('o', 'http://www.wikidata.org/entity/Q30'), ('oName', 'United States of America')]\n",
      "[('p', 'http://www.wikidata.org/prop/direct/P1001'), ('pName', 'applies to jurisdiction'), ('o', 'http://www.wikidata.org/entity/Q30'), ('oName', 'United States of America')]\n",
      "[('p', 'http://www.wikidata.org/prop/direct/P31'), ('pName', 'instance of'), ('o', 'http://www.wikidata.org/entity/Q47566'), ('oName', 'United States presidential election')]\n",
      "[('p', 'http://www.wikidata.org/prop/direct/P541'), ('pName', 'office contested'), ('o', 'http://www.wikidata.org/entity/Q96761771'), ('oName', 'member of the U.S. Electoral College')]\n",
      "[('p', 'http://www.wikidata.org/prop/direct/P155'), ('pName', 'follows'), ('o', 'http://www.wikidata.org/entity/Q699872'), ('oName', '2016 United States presidential election')]\n",
      "[('p', 'http://www.wikidata.org/prop/direct/P991'), ('pName', 'successful candidate'), ('o', 'http://www.wikidata.org/entity/Q6279'), ('oName', 'Joe Biden')]\n",
      "[('p', 'http://www.wikidata.org/prop/direct/P726'), ('pName', 'candidate'), ('o', 'http://www.wikidata.org/entity/Q6279'), ('oName', 'Joe Biden')]\n",
      "[('p', 'http://www.wikidata.org/prop/direct/P910'), ('pName', \"topic's main category\"), ('o', 'http://www.wikidata.org/entity/Q27136412'), ('oName', 'Category:United States presidential election, 2020')]\n",
      "[('p', 'http://www.wikidata.org/prop/direct/P726'), ('pName', 'candidate'), ('o', 'http://www.wikidata.org/entity/Q6204319'), ('oName', 'Jo Jorgensen')]\n",
      "[('p', 'http://www.wikidata.org/prop/direct/P156'), ('pName', 'followed by'), ('o', 'http://www.wikidata.org/entity/Q101110072'), ('oName', '2024 United States presidential election')]\n",
      "[('p', 'http://www.wikidata.org/prop/direct/P1542'), ('pName', 'has effect'), ('o', 'http://www.wikidata.org/entity/Q104705419'), ('oName', '2021 storming of the United States Capitol')]\n",
      "[('p', 'http://www.wikidata.org/prop/direct/P1536'), ('pName', 'immediate cause of'), ('o', 'http://www.wikidata.org/entity/Q97738250'), ('oName', 'presidential inauguration of Joe Biden')]\n",
      "[('p', 'http://www.wikidata.org/prop/direct/P527'), ('pName', 'has part'), ('o', 'http://www.wikidata.org/entity/Q38051551'), ('oName', '2020 Democratic Party presidential primaries')]\n",
      "[('p', 'http://www.wikidata.org/prop/direct/P793'), ('pName', 'significant event'), ('o', 'http://www.wikidata.org/entity/Q7269307'), ('oName', 'meeting')]\n",
      "[('p', 'http://www.wikidata.org/prop/direct/P726'), ('pName', 'candidate'), ('o', 'http://www.wikidata.org/entity/Q15492464'), ('oName', 'Howie Hawkins')]\n",
      "[('p', 'http://www.wikidata.org/prop/direct/P1424'), ('pName', \"topic's main template\"), ('o', 'http://www.wikidata.org/entity/Q47443584'), ('oName', 'Template:United States presidential election, 2020')]\n",
      "[('p', 'http://www.wikidata.org/prop/direct/P1617'), ('pName', 'BBC Things ID'), ('o', '10f9cc6b-0a52-46d3-bce6-9cd78b34600f')]\n",
      "[('p', 'http://www.wikidata.org/prop/direct/P18'), ('pName', 'image'), ('o', 'http://commons.wikimedia.org/wiki/Special:FilePath/Election%20Day%202020%20%2850564517847%29.jpg')]\n",
      "[('p', 'http://www.wikidata.org/prop/direct/P18'), ('pName', 'image'), ('o', 'http://commons.wikimedia.org/wiki/Special:FilePath/Joe%20Biden%20and%20Donald%20Trump.jpg')]\n",
      "[('p', 'http://www.wikidata.org/prop/direct/P1846'), ('pName', 'distribution map'), ('o', 'http://commons.wikimedia.org/wiki/Special:FilePath/ElectoralCollege2020.svg')]\n",
      "[('p', 'http://www.wikidata.org/prop/direct/P2390'), ('pName', 'Ballotpedia ID'), ('o', 'Presidential_election,_2020')]\n",
      "[('p', 'http://www.wikidata.org/prop/direct/P2671'), ('pName', 'Google Knowledge Graph ID'), ('o', '/g/11bwkdng8p')]\n",
      "[('p', 'http://www.wikidata.org/prop/direct/P3417'), ('pName', 'Quora topic ID'), ('o', '2020-U-S-Presidential-Campaign-and-Election')]\n",
      "[('p', 'http://www.wikidata.org/prop/direct/P373'), ('pName', 'Commons category'), ('o', 'United States presidential election, 2020')]\n",
      "[('p', 'http://www.wikidata.org/prop/direct/P4342'), ('pName', 'Store norske leksikon ID'), ('o', 'Presidentvalget_i_USA_2020')]\n",
      "[('p', 'http://www.wikidata.org/prop/direct/P4431'), ('pName', 'Google Doodle'), ('o', 'united-states-elections-2020')]\n",
      "[('p', 'http://www.wikidata.org/prop/direct/P5337'), ('pName', 'Google News topics ID'), ('o', 'CAAqKAgKIiJDQkFTRXdvTkwyY3ZNVEZpZDJ0a2JtYzRjQklDWlc0b0FBUAE')]\n",
      "[('p', 'http://www.wikidata.org/prop/direct/P585'), ('pName', 'point in time'), ('o', '2020-11-03T00:00:00Z')]\n",
      "[('p', 'http://www.wikidata.org/prop/direct/P6200'), ('pName', 'BBC News topic ID'), ('o', 'c5m8rrkp46dt')]\n",
      "[('p', 'http://www.wikidata.org/prop/direct/P6760'), ('pName', 'Know Your Meme ID'), ('o', '26521')]\n",
      "[('p', 'http://www.wikidata.org/prop/direct/P7775'), ('pName', 'RationalWiki ID'), ('o', '2020_U.S._presidential_election')]\n",
      "[('p', 'http://www.wikidata.org/prop/direct/P8309'), ('pName', 'Yle topic ID'), ('o', '18-293039')]\n",
      "[('p', 'http://www.wikidata.org/prop/direct/P8672'), ('pName', 'Twitter topic ID'), ('o', '1029453725360775168')]\n",
      "[('p', 'http://www.wikidata.org/prop/direct/P1867'), ('pName', 'eligible voters'), ('o', '239247182')]\n",
      "[('p', 'http://www.wikidata.org/prop/direct/P1868'), ('pName', 'ballots cast'), ('o', '158383801')]\n"
     ]
    },
    {
     "data": {
      "text/plain": [
       "39"
      ]
     },
     "execution_count": 15,
     "metadata": {},
     "output_type": "execute_result"
    }
   ],
   "source": [
    "queryString = \"\"\"\n",
    "select distinct ?p ?pName ?o ?oName where {\n",
    "    wd:Q22923830 ?p ?o .\n",
    "    \n",
    "    ?p <http://schema.org/name> ?pName .\n",
    "    optional { ?o <http://schema.org/name> ?oName } .\n",
    "}\n",
    "\"\"\"\n",
    "\n",
    "print(\"Results\")\n",
    "run_query(queryString)"
   ]
  },
  {
   "cell_type": "markdown",
   "id": "b50bf8aa-9cb0-4f64-9965-7ed2b8a88bfe",
   "metadata": {},
   "source": [
    "And I can use *successful candidate (**P991**)* to check if the winner correspond to the president, and *point in time (**P585**)* to get the date of the elections. I need also to check if the elction is a president election. The one considered is indeed instance of *United States presidential election*. So I need to check if this entity is an instance of or subclass of a sort of president election."
   ]
  },
  {
   "cell_type": "code",
   "execution_count": 16,
   "id": "ac766d64-1f46-4c33-b290-e83b9d1fa7bc",
   "metadata": {
    "tags": []
   },
   "outputs": [
    {
     "name": "stdout",
     "output_type": "stream",
     "text": [
      "Results\n",
      "[('p', 'http://www.wikidata.org/prop/direct/P279'), ('pName', 'subclass of'), ('o', 'http://www.wikidata.org/entity/Q877353'), ('oName', 'indirect election')]\n",
      "[('p', 'http://www.wikidata.org/prop/direct/P279'), ('pName', 'subclass of'), ('o', 'http://www.wikidata.org/entity/Q858439'), ('oName', 'presidential election')]\n",
      "[('p', 'http://www.wikidata.org/prop/direct/P31'), ('pName', 'instance of'), ('o', 'http://www.wikidata.org/entity/Q15275719'), ('oName', 'recurring event')]\n",
      "[('p', 'http://www.wikidata.org/prop/direct/P279'), ('pName', 'subclass of'), ('o', 'http://www.wikidata.org/entity/Q5452198'), ('oName', 'first-order election')]\n"
     ]
    },
    {
     "data": {
      "text/plain": [
       "4"
      ]
     },
     "execution_count": 16,
     "metadata": {},
     "output_type": "execute_result"
    }
   ],
   "source": [
    "queryString = \"\"\"\n",
    "select distinct ?p ?pName ?o ?oName where {\n",
    "    values ?p { wdt:P31 wdt:P279 }\n",
    "    \n",
    "    wd:Q47566 ?p ?o .\n",
    "    \n",
    "    ?p <http://schema.org/name> ?pName .\n",
    "    optional { ?o <http://schema.org/name> ?oName } .\n",
    "}\n",
    "\"\"\"\n",
    "\n",
    "print(\"Results\")\n",
    "run_query(queryString)"
   ]
  },
  {
   "cell_type": "markdown",
   "id": "9d56676e-6308-45f5-824f-1328745d730a",
   "metadata": {},
   "source": [
    "And so, the USA presidenial election is subclass of *presidential election (**Q858439**)*. I can define a BGP from a president to its election year:\n",
    "\n",
    "```\n",
    "?president wdt:P3602 ?election .\n",
    "?election wdt:P31/wdt:P279* wd:Q858439 ;\n",
    "          wdt:P991 ?president ;\n",
    "          wdt:P585 ?dateElection .\n",
    "\n",
    "bind (year(?dateElection) as ?yearElection) .\n",
    "```"
   ]
  },
  {
   "cell_type": "markdown",
   "id": "88ab07e6-6d5f-4a4e-9e39-be62f1df468c",
   "metadata": {},
   "source": [
    "And then, I can merge all together to answer the question. The following query will result the first president (connected to an election), its birthdate and the year of the election"
   ]
  },
  {
   "cell_type": "code",
   "execution_count": 17,
   "id": "d7185ea2-7891-46c7-bbee-1a06071e1a08",
   "metadata": {
    "tags": []
   },
   "outputs": [
    {
     "name": "stdout",
     "output_type": "stream",
     "text": [
      "Results\n",
      "[('countryName', 'Albania'), ('presidentName', 'Bujar Nishani'), ('birthDate', '1966-09-29Z'), ('yearElection', '2012')]\n",
      "[('countryName', 'Argentina'), ('presidentName', 'Bernardino Rivadavia'), ('birthDate', '1780-05-20Z'), ('yearElection', '1826')]\n",
      "[('countryName', 'Armenia'), ('presidentName', 'Levon Ter-Petrosyan'), ('birthDate', '1945-01-09Z'), ('yearElection', '1991')]\n",
      "[('countryName', 'Austria'), ('presidentName', 'Adolf Schärf'), ('birthDate', '1890-04-20Z'), ('yearElection', '1963')]\n",
      "[('countryName', 'Azerbaijan'), ('presidentName', 'Abulfaz Elchibey'), ('birthDate', '1938-06-24Z'), ('yearElection', '1992')]\n",
      "[('countryName', 'Benin'), ('presidentName', 'Thomas Boni Yayi'), ('birthDate', '1952-07-01Z'), ('yearElection', '2006')]\n",
      "[('countryName', 'Bosnia and Herzegovina'), ('presidentName', 'Dragan Čavić'), ('birthDate', '1958-03-10Z'), ('yearElection', '2002')]\n",
      "[('countryName', 'Brazil'), ('presidentName', 'Deodoro da Fonseca'), ('birthDate', '1827-08-05Z'), ('yearElection', '1891')]\n",
      "[('countryName', 'Burkina Faso'), ('presidentName', 'Sangoulé Lamizana'), ('birthDate', '1916-01-31Z'), ('yearElection', '1978')]\n",
      "[('countryName', 'Burundi'), ('presidentName', 'Pierre Nkurunziza'), ('birthDate', '1964-12-18Z'), ('yearElection', '2010')]\n",
      "[('countryName', 'Central African Republic'), ('presidentName', 'Ange-Félix Patassé'), ('birthDate', '1937-01-25Z'), ('yearElection', '1999')]\n",
      "[('countryName', 'Chile'), ('presidentName', 'Manuel Blanco Encalada'), ('birthDate', '1790-04-21Z'), ('yearElection', '1826')]\n",
      "[('countryName', 'Colombia'), ('presidentName', 'Francisco de Paula Santander'), ('birthDate', '1792-04-02Z'), ('yearElection', '1833')]\n",
      "[('countryName', 'Colombia'), ('presidentName', 'Francisco de Paula Santander'), ('birthDate', '1792-04-20Z'), ('yearElection', '1833')]\n",
      "[('countryName', 'Comoros'), ('presidentName', 'Ahmed Abdallah'), ('birthDate', '1919-06-12Z'), ('yearElection', '1978')]\n",
      "[('countryName', 'Confederate States of America'), ('presidentName', 'Jefferson Davis'), ('birthDate', '1808-06-03Z'), ('yearElection', '1861')]\n",
      "[('countryName', 'Costa Rica'), ('presidentName', 'Juan Rafael Mora Porras'), ('birthDate', '1814-02-08Z'), ('yearElection', '1853')]\n",
      "[('countryName', 'Croatia'), ('presidentName', 'Stjepan Mesić'), ('birthDate', '1934-12-24Z'), ('yearElection', '2000')]\n",
      "[('countryName', 'Cuba'), ('presidentName', 'Tomás Estrada Palma'), ('birthDate', '1835-07-09Z'), ('yearElection', '1901')]\n",
      "[('countryName', 'Democratic Republic of the Congo'), ('presidentName', 'Joseph Kabila'), ('birthDate', '1971-06-04Z'), ('yearElection', '2011')]\n",
      "[('countryName', 'El Salvador'), ('presidentName', 'Francisco Flores Pérez'), ('birthDate', '1959-10-17Z'), ('yearElection', '1999')]\n",
      "[('countryName', 'Estonia'), ('presidentName', 'Toomas Hendrik Ilves'), ('birthDate', '1953-12-26Z'), ('yearElection', '2006')]\n",
      "[('countryName', 'Ethiopia'), ('presidentName', 'Girma Wolde-Giorgis'), ('birthDate', '1924-12-28Z'), ('yearElection', '2007')]\n",
      "[('countryName', 'Georgia'), ('presidentName', 'Eduard Shevardnadze'), ('birthDate', '1928-01-25Z'), ('yearElection', '2000')]\n",
      "[('countryName', 'Germany'), ('presidentName', 'Theodor Heuss'), ('birthDate', '1884-01-31Z'), ('yearElection', '1949')]\n",
      "[('countryName', 'Ghana'), ('presidentName', 'Nana Akufo-Addo'), ('birthDate', '1944-03-29Z'), ('yearElection', '2016')]\n",
      "[('countryName', 'Greece'), ('presidentName', 'Pavlos Kountouriotis'), ('birthDate', '1855-04-21Z'), ('yearElection', '1924')]\n",
      "[('countryName', 'Guatemala'), ('presidentName', 'José María Reina Barrios'), ('birthDate', '1854-12-24Z'), ('yearElection', '1892')]\n",
      "[('countryName', 'Guinea'), ('presidentName', 'Ahmed Sékou Touré'), ('birthDate', '1922-01-09Z'), ('yearElection', '1961')]\n",
      "[('countryName', 'Haiti'), ('presidentName', 'François Duvalier'), ('birthDate', '1907-04-14Z'), ('yearElection', '1961')]\n",
      "[('countryName', 'Honduras'), ('presidentName', 'José Santos Guardiola'), ('birthDate', '1816-11-01Z'), ('yearElection', '1855')]\n",
      "[('countryName', 'Hungary'), ('presidentName', 'Ferenc Mádl'), ('birthDate', '1931-01-29Z'), ('yearElection', '2000')]\n",
      "[('countryName', 'Iceland'), ('presidentName', 'Ólafur Ragnar Grímsson'), ('birthDate', '1943-05-14Z'), ('yearElection', '1996')]\n",
      "[('countryName', 'India'), ('presidentName', 'Rajendra Prasad'), ('birthDate', '1884-12-03Z'), ('yearElection', '1952')]\n",
      "[('countryName', 'Indonesia'), ('presidentName', 'Abdurrahman Wahid'), ('birthDate', '1940-09-07Z'), ('yearElection', '1999')]\n",
      "[('countryName', 'Iraq'), ('presidentName', 'Saddam Hussein'), ('birthDate', '1937-04-28Z'), ('yearElection', '1995')]\n",
      "[('countryName', 'Italy'), ('presidentName', 'Enrico de Nicola'), ('birthDate', '1877-11-09Z'), ('yearElection', '1946')]\n",
      "[('countryName', 'Kazakhstan'), ('presidentName', 'Nursultan Nazarbayev'), ('birthDate', '1940-07-06Z'), ('yearElection', '1991')]\n",
      "[('countryName', 'Kiribati'), ('presidentName', 'Anote Tong'), ('birthDate', '1952-06-11Z'), ('yearElection', '2012')]\n",
      "[('countryName', 'Kosovo'), ('presidentName', 'Fatmir Sejdiu'), ('birthDate', '1951-10-23Z'), ('yearElection', '2008')]\n",
      "[('countryName', 'Kyrgyzstan'), ('presidentName', 'Askar Akayev'), ('birthDate', '1944-11-10Z'), ('yearElection', '1991')]\n",
      "[('countryName', 'Latvia'), ('presidentName', 'Andris Bērziņš'), ('birthDate', '1944-12-10Z'), ('yearElection', '2011')]\n",
      "[('countryName', 'Lebanon'), ('presidentName', 'Émile Lahoud'), ('birthDate', '1936-01-12Z'), ('yearElection', '1998')]\n",
      "[('countryName', 'Lithuania'), ('presidentName', 'Algirdas Brazauskas'), ('birthDate', '1932-09-22Z'), ('yearElection', '1993')]\n",
      "[('countryName', 'Madagascar'), ('presidentName', 'Albert Zafy'), ('birthDate', '1927-05-01Z'), ('yearElection', '1992')]\n",
      "[('countryName', 'Maldives'), ('presidentName', 'Mohamed Amin Didi'), ('birthDate', '1910-07-20Z'), ('yearElection', '1952')]\n",
      "[('countryName', 'Mexico'), ('presidentName', 'Enrique Peña Nieto'), ('birthDate', '1966-07-20Z'), ('yearElection', '2012')]\n",
      "[('countryName', 'Moldova'), ('presidentName', 'Petru Lucinschi'), ('birthDate', '1940-01-27Z'), ('yearElection', '1996')]\n",
      "[('countryName', 'Mongolia'), ('presidentName', 'Punsalmaagiin Ochirbat'), ('birthDate', '1942-01-23Z'), ('yearElection', '1993')]\n",
      "[('countryName', 'Mozambique'), ('presidentName', 'Armando Guebuza'), ('birthDate', '1943-01-20Z'), ('yearElection', '2004')]\n",
      "[('countryName', 'Namibia'), ('presidentName', 'Sam Nujoma'), ('birthDate', '1929-05-12Z'), ('yearElection', '1994')]\n",
      "[('countryName', 'Nepal'), ('presidentName', 'Ram Baran Yadav'), ('birthDate', '1948-02-04Z'), ('yearElection', '2008')]\n",
      "[('countryName', 'Nigeria'), ('presidentName', 'Shehu Shagari'), ('birthDate', '1925-02-25Z'), ('yearElection', '1983')]\n",
      "[('countryName', 'Pakistan'), ('presidentName', 'Ayub Khan'), ('birthDate', '1907-05-14Z'), ('yearElection', '1965')]\n",
      "[('countryName', 'Paraguay'), ('presidentName', 'Alfredo Stroessner'), ('birthDate', '1912-11-03Z'), ('yearElection', '1954')]\n",
      "[('countryName', \"People's Republic of China\"), ('presidentName', 'Xi Jinping'), ('birthDate', '1953-06-15Z'), ('yearElection', '2018')]\n",
      "[('countryName', 'Peru'), ('presidentName', 'Simón Bolívar'), ('birthDate', '1783-07-24Z'), ('yearElection', '1825')]\n",
      "[('countryName', 'Philippines'), ('presidentName', 'Emilio Aguinaldo'), ('birthDate', '1869-03-22Z'), ('yearElection', '1897')]\n",
      "[('countryName', 'Poland'), ('presidentName', 'Gabriel Narutowicz'), ('birthDate', '1865-03-17Z'), ('yearElection', '1922')]\n",
      "[('countryName', 'Portugal'), ('presidentName', 'Francisco Craveiro Lopes'), ('birthDate', '1894-04-12Z'), ('yearElection', '1951')]\n",
      "[('countryName', 'Republic of China 1912–1949'), ('presidentName', 'Sun Yat-sen'), ('birthDate', '1866-11-12Z'), ('yearElection', '1911')]\n",
      "[('countryName', 'Romania'), ('presidentName', 'Nicolae Ceaușescu'), ('birthDate', '1918-01-26Z'), ('yearElection', '1974')]\n",
      "[('countryName', 'Serbia'), ('presidentName', 'Slobodan Milošević'), ('birthDate', '1941-08-20Z'), ('yearElection', '1990')]\n",
      "[('countryName', 'Seychelles'), ('presidentName', 'James Michel'), ('birthDate', '1944-08-16Z'), ('yearElection', '2006')]\n",
      "[('countryName', 'Singapore'), ('presidentName', 'Ong Teng Cheong'), ('birthDate', '1936-01-22Z'), ('yearElection', '1993')]\n",
      "[('countryName', 'Slovenia'), ('presidentName', 'Milan Kučan'), ('birthDate', '1941-01-14Z'), ('yearElection', '1992')]\n",
      "[('countryName', 'Somalia'), ('presidentName', 'Sharif Sheikh Ahmed'), ('birthDate', '1964-07-25Z'), ('yearElection', '2009')]\n",
      "[('countryName', 'Somaliland'), ('presidentName', 'Dahir Rayale Kahin'), ('birthDate', '1952-03-12Z'), ('yearElection', '2003')]\n",
      "[('countryName', 'South Africa'), ('presidentName', 'Nelson Mandela'), ('birthDate', '1918-07-18Z'), ('yearElection', '1994')]\n",
      "[('countryName', 'South Korea'), ('presidentName', 'Rhee Syng-man'), ('birthDate', '1875-03-26Z'), ('yearElection', '1948')]\n",
      "[('countryName', 'Sri Lanka'), ('presidentName', 'Junius Richard Jayewardene'), ('birthDate', '1906-09-17Z'), ('yearElection', '1982')]\n",
      "[('countryName', 'Syria'), ('presidentName', 'Hafez al-Assad'), ('birthDate', '1930-10-06Z'), ('yearElection', '1971')]\n",
      "[('countryName', 'São Tomé and Príncipe'), ('presidentName', 'Manuel Pinto da Costa'), ('birthDate', '1937-08-05Z'), ('yearElection', '2011')]\n",
      "[('countryName', 'Taiwan'), ('presidentName', 'Feng Guozhang'), ('birthDate', '1859-01-07Z'), ('yearElection', '1916')]\n",
      "[('countryName', 'Tanzania'), ('presidentName', 'Julius Nyerere'), ('birthDate', '1922-04-13Z'), ('yearElection', '1962')]\n",
      "[('countryName', 'The Gambia'), ('presidentName', 'Yahya Jammeh'), ('birthDate', '1965-05-25Z'), ('yearElection', '1996')]\n",
      "[('countryName', 'Transnistria'), ('presidentName', 'Igor Smirnov'), ('birthDate', '1941-10-23Z'), ('yearElection', '1996')]\n",
      "[('countryName', 'Trinidad and Tobago'), ('presidentName', 'Anthony Carmona'), ('birthDate', '1953-03-07Z'), ('yearElection', '2013')]\n",
      "[('countryName', 'Turkmenistan'), ('presidentName', 'Gurbanguly Berdimuhamedow'), ('birthDate', '1957-06-29Z'), ('yearElection', '2007')]\n",
      "[('countryName', 'Uganda'), ('presidentName', 'Yoweri Museveni'), ('birthDate', '1944-09-15Z'), ('yearElection', '2001')]\n",
      "[('countryName', 'United States of America'), ('presidentName', 'George Washington'), ('birthDate', '1732-02-22Z'), ('yearElection', '1792')]\n",
      "[('countryName', 'Uzbekistan'), ('presidentName', 'Islam Karimov'), ('birthDate', '1938-01-30Z'), ('yearElection', '1991')]\n",
      "[('countryName', 'Venezuela'), ('presidentName', 'Simón Bolívar'), ('birthDate', '1783-07-24Z'), ('yearElection', '1825')]\n",
      "[('countryName', 'Zambia'), ('presidentName', 'Rupiah Banda'), ('birthDate', '1937-01-01Z'), ('yearElection', '2008')]\n",
      "[('countryName', 'Zambia'), ('presidentName', 'Rupiah Banda'), ('birthDate', '1937-02-13Z'), ('yearElection', '2008')]\n",
      "[('countryName', 'Zimbabwe'), ('presidentName', 'Robert Mugabe'), ('birthDate', '1924-02-21Z'), ('yearElection', '1996')]\n"
     ]
    },
    {
     "data": {
      "text/plain": [
       "86"
      ]
     },
     "execution_count": 17,
     "metadata": {},
     "output_type": "execute_result"
    }
   ],
   "source": [
    "queryString = \"\"\"\n",
    "select distinct ?countryName ?presidentName ?birthDate ?yearElection {\n",
    "    ?president wdt:P39 ?presidentPosition ;\n",
    "               wdt:P3602 ?election ;\n",
    "               wdt:P569 ?birthDateTime .\n",
    "    ?presidentPosition wdt:P279* wd:Q248577 ;\n",
    "                       wdt:P17 ?country .\n",
    "    ?election wdt:P31/wdt:P279* wd:Q858439 ;\n",
    "          wdt:P991 ?president ;\n",
    "          wdt:P585 ?minDateElection .\n",
    "                       \n",
    "    {\n",
    "        select ?country (min(?dateElection) as ?minDateElection) where {\n",
    "            ?president wdt:P39 ?presidentPosition ;\n",
    "                       wdt:P3602 ?election .\n",
    "            ?presidentPosition wdt:P279* wd:Q248577 ;\n",
    "                       wdt:P17 ?country .\n",
    "            ?election wdt:P31/wdt:P279* wd:Q858439 ;\n",
    "                      wdt:P991 ?president ;\n",
    "                      wdt:P585 ?dateElection .\n",
    "        } group by ?country\n",
    "    }\n",
    "    \n",
    "    bind (year(?minDateElection) as ?yearElection) .\n",
    "    bind (xsd:date(?birthDateTime) as ?birthDate) .\n",
    "    \n",
    "    ?country <http://schema.org/name> ?countryName .\n",
    "    ?president <http://schema.org/name> ?presidentName .    \n",
    "} order by ?countryName\n",
    "\"\"\"\n",
    "\n",
    "print(\"Results\")\n",
    "run_query(queryString)"
   ]
  },
  {
   "cell_type": "markdown",
   "id": "20f0e4aa-3c8f-4404-b2d9-a4e221530996",
   "metadata": {},
   "source": [
    "In order to answer the second question, I can simply use the BGP for obtaining all the presidents, and count them for each country."
   ]
  },
  {
   "cell_type": "code",
   "execution_count": 18,
   "id": "ab6dd7ee-b121-4a39-ae86-388dab915ce2",
   "metadata": {},
   "outputs": [
    {
     "name": "stdout",
     "output_type": "stream",
     "text": [
      "Results\n",
      "[('country', 'http://www.wikidata.org/entity/Q783'), ('countryName', 'Honduras'), ('numPresidents', '84')]\n",
      "[('country', 'http://www.wikidata.org/entity/Q30'), ('countryName', 'United States of America'), ('numPresidents', '64')]\n",
      "[('country', 'http://www.wikidata.org/entity/Q739'), ('countryName', 'Colombia'), ('numPresidents', '60')]\n",
      "[('country', 'http://www.wikidata.org/entity/Q414'), ('countryName', 'Argentina'), ('numPresidents', '59')]\n",
      "[('country', 'http://www.wikidata.org/entity/Q96'), ('countryName', 'Mexico'), ('numPresidents', '59')]\n",
      "[('country', 'http://www.wikidata.org/entity/Q717'), ('countryName', 'Venezuela'), ('numPresidents', '58')]\n",
      "[('country', 'http://www.wikidata.org/entity/Q733'), ('countryName', 'Paraguay'), ('numPresidents', '57')]\n",
      "[('country', 'http://www.wikidata.org/entity/Q790'), ('countryName', 'Haiti'), ('numPresidents', '55')]\n",
      "[('country', 'http://www.wikidata.org/entity/Q774'), ('countryName', 'Guatemala'), ('numPresidents', '53')]\n",
      "[('country', 'http://www.wikidata.org/entity/Q419'), ('countryName', 'Peru'), ('numPresidents', '53')]\n",
      "[('country', 'http://www.wikidata.org/entity/Q155'), ('countryName', 'Brazil'), ('numPresidents', '42')]\n",
      "[('country', 'http://www.wikidata.org/entity/Q800'), ('countryName', 'Costa Rica'), ('numPresidents', '40')]\n",
      "[('country', 'http://www.wikidata.org/entity/Q298'), ('countryName', 'Chile'), ('numPresidents', '37')]\n",
      "[('country', 'http://www.wikidata.org/entity/Q241'), ('countryName', 'Cuba'), ('numPresidents', '30')]\n",
      "[('country', 'http://www.wikidata.org/entity/Q792'), ('countryName', 'El Salvador'), ('numPresidents', '28')]\n",
      "[('country', 'http://www.wikidata.org/entity/Q858'), ('countryName', 'Syria'), ('numPresidents', '25')]\n",
      "[('country', 'http://www.wikidata.org/entity/Q190025'), ('countryName', 'Federal Republic of Central America'), ('numPresidents', '25')]\n",
      "[('country', 'http://www.wikidata.org/entity/Q822'), ('countryName', 'Lebanon'), ('numPresidents', '22')]\n",
      "[('country', 'http://www.wikidata.org/entity/Q865'), ('countryName', 'Taiwan'), ('numPresidents', '21')]\n",
      "[('country', 'http://www.wikidata.org/entity/Q36'), ('countryName', 'Poland'), ('numPresidents', '19')]\n",
      "[('country', 'http://www.wikidata.org/entity/Q45'), ('countryName', 'Portugal'), ('numPresidents', '19')]\n",
      "[('country', 'http://www.wikidata.org/entity/Q403'), ('countryName', 'Serbia'), ('numPresidents', '18')]\n",
      "[('country', 'http://www.wikidata.org/entity/Q970'), ('countryName', 'Comoros'), ('numPresidents', '17')]\n",
      "[('country', 'http://www.wikidata.org/entity/Q225'), ('countryName', 'Bosnia and Herzegovina'), ('numPresidents', '17')]\n",
      "[('country', 'http://www.wikidata.org/entity/Q668'), ('countryName', 'India'), ('numPresidents', '16')]\n",
      "[('country', 'http://www.wikidata.org/entity/Q928'), ('countryName', 'Philippines'), ('numPresidents', '16')]\n",
      "[('country', 'http://www.wikidata.org/entity/Q686'), ('countryName', 'Vanuatu'), ('numPresidents', '15')]\n",
      "[('country', 'http://www.wikidata.org/entity/Q843'), ('countryName', 'Pakistan'), ('numPresidents', '15')]\n",
      "[('country', 'http://www.wikidata.org/entity/Q1045'), ('countryName', 'Somalia'), ('numPresidents', '15')]\n",
      "[('country', 'http://www.wikidata.org/entity/Q117'), ('countryName', 'Ghana'), ('numPresidents', '14')]\n",
      "[('country', 'http://www.wikidata.org/entity/Q41'), ('countryName', 'Greece'), ('numPresidents', '14')]\n",
      "[('country', 'http://www.wikidata.org/entity/Q711'), ('countryName', 'Mongolia'), ('numPresidents', '14')]\n",
      "[('country', 'http://www.wikidata.org/entity/Q1033'), ('countryName', 'Nigeria'), ('numPresidents', '13')]\n",
      "[('country', 'http://www.wikidata.org/entity/Q1027'), ('countryName', 'Mauritius'), ('numPresidents', '13')]\n",
      "[('country', 'http://www.wikidata.org/entity/Q38'), ('countryName', 'Italy'), ('numPresidents', '12')]\n",
      "[('country', 'http://www.wikidata.org/entity/Q1036'), ('countryName', 'Uganda'), ('numPresidents', '12')]\n",
      "[('country', 'http://www.wikidata.org/entity/Q884'), ('countryName', 'South Korea'), ('numPresidents', '12')]\n",
      "[('country', 'http://www.wikidata.org/entity/Q183'), ('countryName', 'Germany'), ('numPresidents', '12')]\n",
      "[('country', 'http://www.wikidata.org/entity/Q224'), ('countryName', 'Croatia'), ('numPresidents', '12')]\n",
      "[('country', 'http://www.wikidata.org/entity/Q967'), ('countryName', 'Burundi'), ('numPresidents', '12')]\n",
      "[('country', 'http://www.wikidata.org/entity/Q881'), ('countryName', 'Vietnam'), ('numPresidents', '12')]\n",
      "[('country', 'http://www.wikidata.org/entity/Q40'), ('countryName', 'Austria'), ('numPresidents', '12')]\n",
      "[('country', 'http://www.wikidata.org/entity/Q1019'), ('countryName', 'Madagascar'), ('numPresidents', '11')]\n",
      "[('country', 'http://www.wikidata.org/entity/Q709'), ('countryName', 'Marshall Islands'), ('numPresidents', '11')]\n",
      "[('country', 'http://www.wikidata.org/entity/Q37'), ('countryName', 'Lithuania'), ('numPresidents', '11')]\n",
      "[('country', 'http://www.wikidata.org/entity/Q222'), ('countryName', 'Albania'), ('numPresidents', '11')]\n",
      "[('country', 'http://www.wikidata.org/entity/Q796'), ('countryName', 'Iraq'), ('numPresidents', '10')]\n",
      "[('country', 'http://www.wikidata.org/entity/Q965'), ('countryName', 'Burkina Faso'), ('numPresidents', '10')]\n",
      "[('country', 'http://www.wikidata.org/entity/Q28'), ('countryName', 'Hungary'), ('numPresidents', '10')]\n",
      "[('country', 'http://www.wikidata.org/entity/Q334'), ('countryName', 'Singapore'), ('numPresidents', '10')]\n",
      "[('country', 'http://www.wikidata.org/entity/Q215'), ('countryName', 'Slovenia'), ('numPresidents', '10')]\n",
      "[('country', 'http://www.wikidata.org/entity/Q211'), ('countryName', 'Latvia'), ('numPresidents', '10')]\n",
      "[('country', 'http://www.wikidata.org/entity/Q784'), ('countryName', 'Dominica'), ('numPresidents', '10')]\n",
      "[('country', 'http://www.wikidata.org/entity/Q218'), ('countryName', 'Romania'), ('numPresidents', '10')]\n",
      "[('country', 'http://www.wikidata.org/entity/Q252'), ('countryName', 'Indonesia'), ('numPresidents', '9')]\n",
      "[('country', 'http://www.wikidata.org/entity/Q836'), ('countryName', 'Myanmar'), ('numPresidents', '9')]\n",
      "[('country', 'http://www.wikidata.org/entity/Q115'), ('countryName', 'Ethiopia'), ('numPresidents', '9')]\n",
      "[('country', 'http://www.wikidata.org/entity/Q148'), ('countryName', \"People's Republic of China\"), ('numPresidents', '8')]\n",
      "[('country', 'http://www.wikidata.org/entity/Q1039'), ('countryName', 'São Tomé and Príncipe'), ('numPresidents', '8')]\n",
      "[('country', 'http://www.wikidata.org/entity/Q217'), ('countryName', 'Moldova'), ('numPresidents', '8')]\n",
      "[('country', 'http://www.wikidata.org/entity/Q953'), ('countryName', 'Zambia'), ('numPresidents', '8')]\n",
      "[('country', 'http://www.wikidata.org/entity/Q854'), ('countryName', 'Sri Lanka'), ('numPresidents', '8')]\n",
      "[('country', 'http://www.wikidata.org/entity/Q754'), ('countryName', 'Trinidad and Tobago'), ('numPresidents', '7')]\n",
      "[('country', 'http://www.wikidata.org/entity/Q819'), ('countryName', 'Laos'), ('numPresidents', '7')]\n",
      "[('country', 'http://www.wikidata.org/entity/Q826'), ('countryName', 'Maldives'), ('numPresidents', '7')]\n",
      "[('country', 'http://www.wikidata.org/entity/Q1246'), ('countryName', 'Kosovo'), ('numPresidents', '7')]\n",
      "[('country', 'http://www.wikidata.org/entity/Q929'), ('countryName', 'Central African Republic'), ('numPresidents', '7')]\n",
      "[('country', 'http://www.wikidata.org/entity/Q710'), ('countryName', 'Kiribati'), ('numPresidents', '7')]\n",
      "[('country', 'http://www.wikidata.org/entity/Q734'), ('countryName', 'Guyana'), ('numPresidents', '7')]\n",
      "[('country', 'http://www.wikidata.org/entity/Q230'), ('countryName', 'Georgia'), ('numPresidents', '6')]\n",
      "[('country', 'http://www.wikidata.org/entity/Q813'), ('countryName', 'Kyrgyzstan'), ('numPresidents', '6')]\n",
      "[('country', 'http://www.wikidata.org/entity/Q227'), ('countryName', 'Azerbaijan'), ('numPresidents', '6')]\n",
      "[('country', 'http://www.wikidata.org/entity/Q974'), ('countryName', 'Democratic Republic of the Congo'), ('numPresidents', '6')]\n",
      "[('country', 'http://www.wikidata.org/entity/Q1006'), ('countryName', 'Guinea'), ('numPresidents', '6')]\n",
      "[('country', 'http://www.wikidata.org/entity/Q191'), ('countryName', 'Estonia'), ('numPresidents', '6')]\n",
      "[('country', 'http://www.wikidata.org/entity/Q258'), ('countryName', 'South Africa'), ('numPresidents', '6')]\n",
      "[('country', 'http://www.wikidata.org/entity/Q189'), ('countryName', 'Iceland'), ('numPresidents', '6')]\n",
      "[('country', 'http://www.wikidata.org/entity/Q924'), ('countryName', 'Tanzania'), ('numPresidents', '6')]\n",
      "[('country', 'http://www.wikidata.org/entity/Q1042'), ('countryName', 'Seychelles'), ('numPresidents', '5')]\n",
      "[('country', 'http://www.wikidata.org/entity/Q34754'), ('countryName', 'Somaliland'), ('numPresidents', '5')]\n",
      "[('country', 'http://www.wikidata.org/entity/Q962'), ('countryName', 'Benin'), ('numPresidents', '5')]\n",
      "[('country', 'http://www.wikidata.org/entity/Q907112'), ('countryName', 'Transnistria'), ('numPresidents', '5')]\n",
      "[('country', 'http://www.wikidata.org/entity/Q963'), ('countryName', 'Botswana'), ('numPresidents', '5')]\n",
      "[('country', 'http://www.wikidata.org/entity/Q916'), ('countryName', 'Angola'), ('numPresidents', '4')]\n",
      "[('country', 'http://www.wikidata.org/entity/Q40362'), ('countryName', 'Sahrawi Arab Democratic Republic'), ('numPresidents', '4')]\n",
      "[('country', 'http://www.wikidata.org/entity/Q954'), ('countryName', 'Zimbabwe'), ('numPresidents', '4')]\n",
      "[('country', 'http://www.wikidata.org/entity/Q1029'), ('countryName', 'Mozambique'), ('numPresidents', '4')]\n",
      "[('country', 'http://www.wikidata.org/entity/Q399'), ('countryName', 'Armenia'), ('numPresidents', '4')]\n",
      "[('country', 'http://www.wikidata.org/entity/Q265'), ('countryName', 'Uzbekistan'), ('numPresidents', '3')]\n",
      "[('country', 'http://www.wikidata.org/entity/Q13426199'), ('countryName', 'Republic of China 1912–1949'), ('numPresidents', '3')]\n",
      "[('country', 'http://www.wikidata.org/entity/Q837'), ('countryName', 'Nepal'), ('numPresidents', '3')]\n",
      "[('country', 'http://www.wikidata.org/entity/Q1005'), ('countryName', 'The Gambia'), ('numPresidents', '3')]\n",
      "[('country', 'http://www.wikidata.org/entity/Q1030'), ('countryName', 'Namibia'), ('numPresidents', '3')]\n",
      "[('country', 'http://www.wikidata.org/entity/Q37024'), ('countryName', 'Serbia and Montenegro'), ('numPresidents', '2')]\n",
      "[('country', 'http://www.wikidata.org/entity/Q232'), ('countryName', 'Kazakhstan'), ('numPresidents', '2')]\n",
      "[('country', 'http://www.wikidata.org/entity/Q874'), ('countryName', 'Turkmenistan'), ('numPresidents', '2')]\n",
      "[('country', 'http://www.wikidata.org/entity/Q80702'), ('countryName', 'Spanish Empire'), ('numPresidents', '1')]\n",
      "[('country', 'http://www.wikidata.org/entity/Q2631403'), ('countryName', 'Republic of Kosova'), ('numPresidents', '1')]\n",
      "[('country', 'http://www.wikidata.org/entity/Q81931'), ('countryName', 'Confederate States of America'), ('numPresidents', '1')]\n"
     ]
    },
    {
     "data": {
      "text/plain": [
       "99"
      ]
     },
     "execution_count": 18,
     "metadata": {},
     "output_type": "execute_result"
    }
   ],
   "source": [
    "queryString = \"\"\"\n",
    "select distinct ?country ?countryName (count(distinct ?president) as ?numPresidents) where {\n",
    "    ?president wdt:P39 ?presidentPosition .\n",
    "    ?presidentPosition wdt:P279* wd:Q248577 ;\n",
    "                       wdt:P17 ?country .\n",
    "    \n",
    "    ?country <http://schema.org/name> ?countryName .\n",
    "} order by desc(?numPresidents)\n",
    "\"\"\"\n",
    "\n",
    "print(\"Results\")\n",
    "run_query(queryString)"
   ]
  },
  {
   "cell_type": "markdown",
   "id": "8f8f03f2-faeb-4231-aecd-92b442e279a6",
   "metadata": {},
   "source": [
    "## 5.1. What are the top-5 countries for number of presidents? Which countries had the least?"
   ]
  },
  {
   "cell_type": "markdown",
   "id": "d17a89ed-b529-41cc-a2e9-4cb51077eae5",
   "metadata": {},
   "source": [
    "I can use the same BGP used before, to count the number of presidents, and take only the first five countries"
   ]
  },
  {
   "cell_type": "code",
   "execution_count": 19,
   "id": "581ed887-f1a1-4739-8a64-8c9d420b2f84",
   "metadata": {},
   "outputs": [
    {
     "name": "stdout",
     "output_type": "stream",
     "text": [
      "Results\n",
      "[('countryName', 'Honduras'), ('numPresidents', '84')]\n",
      "[('countryName', 'United States of America'), ('numPresidents', '64')]\n",
      "[('countryName', 'Colombia'), ('numPresidents', '60')]\n",
      "[('countryName', 'Argentina'), ('numPresidents', '59')]\n",
      "[('countryName', 'Mexico'), ('numPresidents', '59')]\n"
     ]
    },
    {
     "data": {
      "text/plain": [
       "5"
      ]
     },
     "execution_count": 19,
     "metadata": {},
     "output_type": "execute_result"
    }
   ],
   "source": [
    "queryString = \"\"\"\n",
    "select distinct ?countryName (count(distinct ?president) as ?numPresidents) where {\n",
    "    ?president wdt:P39 ?presidentPosition .\n",
    "    ?presidentPosition wdt:P279* wd:Q248577 ;\n",
    "                       wdt:P17 ?country .\n",
    "    \n",
    "    ?country <http://schema.org/name> ?countryName .\n",
    "} order by desc(?numPresidents)\n",
    "limit 5\n",
    "\"\"\"\n",
    "\n",
    "print(\"Results\")\n",
    "run_query(queryString)"
   ]
  },
  {
   "cell_type": "markdown",
   "id": "f7a0c0fb-60c1-4966-9b66-1d9426b76990",
   "metadata": {},
   "source": [
    "And the last five"
   ]
  },
  {
   "cell_type": "code",
   "execution_count": 20,
   "id": "276f30b8-8674-482b-92a7-b792e3c44655",
   "metadata": {},
   "outputs": [
    {
     "name": "stdout",
     "output_type": "stream",
     "text": [
      "Results\n",
      "[('countryName', 'Confederate States of America'), ('numPresidents', '1')]\n",
      "[('countryName', 'Republic of Kosova'), ('numPresidents', '1')]\n",
      "[('countryName', 'Spanish Empire'), ('numPresidents', '1')]\n",
      "[('countryName', 'Serbia and Montenegro'), ('numPresidents', '2')]\n",
      "[('countryName', 'Turkmenistan'), ('numPresidents', '2')]\n"
     ]
    },
    {
     "data": {
      "text/plain": [
       "5"
      ]
     },
     "execution_count": 20,
     "metadata": {},
     "output_type": "execute_result"
    }
   ],
   "source": [
    "queryString = \"\"\"\n",
    "select distinct ?countryName (count(distinct ?president) as ?numPresidents) where {\n",
    "    ?president wdt:P39 ?presidentPosition .\n",
    "    ?presidentPosition wdt:P279* wd:Q248577 ;\n",
    "                       wdt:P17 ?country .\n",
    "    \n",
    "    ?country <http://schema.org/name> ?countryName .\n",
    "} order by asc(?numPresidents)\n",
    "limit 5\n",
    "\"\"\"\n",
    "\n",
    "print(\"Results\")\n",
    "run_query(queryString)"
   ]
  },
  {
   "cell_type": "markdown",
   "id": "39e5fa83-a354-49cc-a2cd-46e06a9c7cd9",
   "metadata": {},
   "source": [
    "So the top-5 countries for number of presidents are Honduras, with 84 presidents, USA, with 64 presidents, Colombia, Argentina and Mexico.\n",
    "\n",
    "The least 5 countries are Confederate States of America, Republic of Kosova, Spanish Empire, Serbia and Montenegro and Turkmenistan"
   ]
  },
  {
   "cell_type": "markdown",
   "id": "f3fff41e-a8b2-4f27-adf1-8f955834faf0",
   "metadata": {},
   "source": [
    "## 5.2. For how many presidents we know a date of death in each country?"
   ]
  },
  {
   "cell_type": "markdown",
   "id": "222fd4c8-a56a-45cf-98f7-de9d884e5f39",
   "metadata": {},
   "source": [
    "I can count the number of president for which we know a date of death and group them by country. I can also compare this number with the total number of presidents for that country and obtain a ratio of number of death presidents on total number of presidents."
   ]
  },
  {
   "cell_type": "code",
   "execution_count": 21,
   "id": "75b0863d-6936-4343-9d92-a72270bb1b63",
   "metadata": {},
   "outputs": [
    {
     "name": "stdout",
     "output_type": "stream",
     "text": [
      "Results\n",
      "[('countryName', 'Republic of China 1912–1949'), ('numPresidents', '3'), ('numDeathPresidents', '3'), ('deathRatio', '100')]\n",
      "[('countryName', 'Spanish Empire'), ('numPresidents', '1'), ('numDeathPresidents', '1'), ('deathRatio', '100')]\n",
      "[('countryName', 'Confederate States of America'), ('numPresidents', '1'), ('numDeathPresidents', '1'), ('deathRatio', '100')]\n",
      "[('countryName', 'Republic of Kosova'), ('numPresidents', '1'), ('numDeathPresidents', '1'), ('deathRatio', '100')]\n",
      "[('countryName', 'Venezuela'), ('numPresidents', '61'), ('numDeathPresidents', '58'), ('deathRatio', '95.081967213114754')]\n",
      "[('countryName', 'Cuba'), ('numPresidents', '30'), ('numDeathPresidents', '28'), ('deathRatio', '93.333333333333333')]\n",
      "[('countryName', 'Syria'), ('numPresidents', '25'), ('numDeathPresidents', '23'), ('deathRatio', '92')]\n",
      "[('countryName', 'Chile'), ('numPresidents', '37'), ('numDeathPresidents', '34'), ('deathRatio', '91.891891891891892')]\n",
      "[('countryName', 'Colombia'), ('numPresidents', '64'), ('numDeathPresidents', '57'), ('deathRatio', '89.0625')]\n",
      "[('countryName', 'Argentina'), ('numPresidents', '68'), ('numDeathPresidents', '60'), ('deathRatio', '88.235294117647059')]\n",
      "[('countryName', 'Mexico'), ('numPresidents', '59'), ('numDeathPresidents', '52'), ('deathRatio', '88.135593220338983')]\n",
      "[('countryName', 'Haiti'), ('numPresidents', '57'), ('numDeathPresidents', '50'), ('deathRatio', '87.719298245614035')]\n",
      "[('countryName', 'India'), ('numPresidents', '16'), ('numDeathPresidents', '14'), ('deathRatio', '87.5')]\n",
      "[('countryName', 'Paraguay'), ('numPresidents', '59'), ('numDeathPresidents', '50'), ('deathRatio', '84.745762711864407')]\n",
      "[('countryName', 'Brazil'), ('numPresidents', '45'), ('numDeathPresidents', '38'), ('deathRatio', '84.444444444444444')]\n",
      "[('countryName', 'Portugal'), ('numPresidents', '19'), ('numDeathPresidents', '16'), ('deathRatio', '84.210526315789474')]\n",
      "[('countryName', 'Uganda'), ('numPresidents', '12'), ('numDeathPresidents', '10'), ('deathRatio', '83.333333333333333')]\n",
      "[('countryName', 'Italy'), ('numPresidents', '12'), ('numDeathPresidents', '10'), ('deathRatio', '83.333333333333333')]\n",
      "[('countryName', 'Austria'), ('numPresidents', '12'), ('numDeathPresidents', '10'), ('deathRatio', '83.333333333333333')]\n",
      "[('countryName', 'Peru'), ('numPresidents', '53'), ('numDeathPresidents', '44'), ('deathRatio', '83.018867924528302')]\n",
      "[('countryName', 'Taiwan'), ('numPresidents', '23'), ('numDeathPresidents', '19'), ('deathRatio', '82.608695652173913')]\n",
      "[('countryName', 'Costa Rica'), ('numPresidents', '40'), ('numDeathPresidents', '33'), ('deathRatio', '82.5')]\n",
      "[('countryName', 'Guatemala'), ('numPresidents', '55'), ('numDeathPresidents', '45'), ('deathRatio', '81.818181818181818')]\n",
      "[('countryName', 'Dominica'), ('numPresidents', '10'), ('numDeathPresidents', '8'), ('deathRatio', '80')]\n",
      "[('countryName', 'Honduras'), ('numPresidents', '85'), ('numDeathPresidents', '65'), ('deathRatio', '76.470588235294118')]\n",
      "[('countryName', 'Federal Republic of Central America'), ('numPresidents', '29'), ('numDeathPresidents', '22'), ('deathRatio', '75.862068965517241')]\n",
      "[('countryName', 'El Salvador'), ('numPresidents', '28'), ('numDeathPresidents', '21'), ('deathRatio', '75')]\n",
      "[('countryName', 'Philippines'), ('numPresidents', '16'), ('numDeathPresidents', '12'), ('deathRatio', '75')]\n",
      "[('countryName', 'Zimbabwe'), ('numPresidents', '4'), ('numDeathPresidents', '3'), ('deathRatio', '75')]\n",
      "[('countryName', 'Poland'), ('numPresidents', '19'), ('numDeathPresidents', '14'), ('deathRatio', '73.684210526315789')]\n",
      "[('countryName', 'Greece'), ('numPresidents', '15'), ('numDeathPresidents', '11'), ('deathRatio', '73.333333333333333')]\n",
      "[('countryName', 'Lebanon'), ('numPresidents', '22'), ('numDeathPresidents', '16'), ('deathRatio', '72.727272727272727')]\n",
      "[('countryName', 'Ghana'), ('numPresidents', '14'), ('numDeathPresidents', '10'), ('deathRatio', '71.428571428571429')]\n",
      "[('countryName', 'Slovenia'), ('numPresidents', '10'), ('numDeathPresidents', '7'), ('deathRatio', '70')]\n",
      "[('countryName', 'Iraq'), ('numPresidents', '10'), ('numDeathPresidents', '7'), ('deathRatio', '70')]\n",
      "[('countryName', 'Ethiopia'), ('numPresidents', '9'), ('numDeathPresidents', '6'), ('deathRatio', '66.666666666666667')]\n",
      "[('countryName', \"People's Republic of China\"), ('numPresidents', '9'), ('numDeathPresidents', '6'), ('deathRatio', '66.666666666666667')]\n",
      "[('countryName', 'Germany'), ('numPresidents', '12'), ('numDeathPresidents', '8'), ('deathRatio', '66.666666666666667')]\n",
      "[('countryName', 'Indonesia'), ('numPresidents', '9'), ('numDeathPresidents', '6'), ('deathRatio', '66.666666666666667')]\n",
      "[('countryName', 'Democratic Republic of the Congo'), ('numPresidents', '6'), ('numDeathPresidents', '4'), ('deathRatio', '66.666666666666667')]\n",
      "[('countryName', 'Hungary'), ('numPresidents', '10'), ('numDeathPresidents', '6'), ('deathRatio', '60')]\n",
      "[('countryName', 'Singapore'), ('numPresidents', '10'), ('numDeathPresidents', '6'), ('deathRatio', '60')]\n",
      "[('countryName', 'Pakistan'), ('numPresidents', '15'), ('numDeathPresidents', '9'), ('deathRatio', '60')]\n",
      "[('countryName', 'South Korea'), ('numPresidents', '12'), ('numDeathPresidents', '7'), ('deathRatio', '58.333333333333333')]\n",
      "[('countryName', 'Mongolia'), ('numPresidents', '14'), ('numDeathPresidents', '8'), ('deathRatio', '57.142857142857143')]\n",
      "[('countryName', 'Guyana'), ('numPresidents', '7'), ('numDeathPresidents', '4'), ('deathRatio', '57.142857142857143')]\n",
      "[('countryName', 'Trinidad and Tobago'), ('numPresidents', '7'), ('numDeathPresidents', '4'), ('deathRatio', '57.142857142857143')]\n",
      "[('countryName', 'Laos'), ('numPresidents', '7'), ('numDeathPresidents', '4'), ('deathRatio', '57.142857142857143')]\n",
      "[('countryName', 'Madagascar'), ('numPresidents', '11'), ('numDeathPresidents', '6'), ('deathRatio', '54.545454545454545')]\n",
      "[('countryName', 'Lithuania'), ('numPresidents', '11'), ('numDeathPresidents', '6'), ('deathRatio', '54.545454545454545')]\n",
      "[('countryName', 'Marshall Islands'), ('numPresidents', '11'), ('numDeathPresidents', '6'), ('deathRatio', '54.545454545454545')]\n",
      "[('countryName', 'Comoros'), ('numPresidents', '17'), ('numDeathPresidents', '9'), ('deathRatio', '52.941176470588235')]\n",
      "[('countryName', 'Sahrawi Arab Democratic Republic'), ('numPresidents', '4'), ('numDeathPresidents', '2'), ('deathRatio', '50')]\n",
      "[('countryName', 'Guinea'), ('numPresidents', '6'), ('numDeathPresidents', '3'), ('deathRatio', '50')]\n",
      "[('countryName', 'Iceland'), ('numPresidents', '6'), ('numDeathPresidents', '3'), ('deathRatio', '50')]\n",
      "[('countryName', 'Croatia'), ('numPresidents', '12'), ('numDeathPresidents', '6'), ('deathRatio', '50')]\n",
      "[('countryName', 'Azerbaijan'), ('numPresidents', '6'), ('numDeathPresidents', '3'), ('deathRatio', '50')]\n",
      "[('countryName', 'Myanmar'), ('numPresidents', '10'), ('numDeathPresidents', '5'), ('deathRatio', '50')]\n",
      "[('countryName', 'Sri Lanka'), ('numPresidents', '8'), ('numDeathPresidents', '4'), ('deathRatio', '50')]\n",
      "[('countryName', 'Turkmenistan'), ('numPresidents', '2'), ('numDeathPresidents', '1'), ('deathRatio', '50')]\n",
      "[('countryName', 'Vietnam'), ('numPresidents', '12'), ('numDeathPresidents', '6'), ('deathRatio', '50')]\n",
      "[('countryName', 'Angola'), ('numPresidents', '4'), ('numDeathPresidents', '2'), ('deathRatio', '50')]\n",
      "[('countryName', 'Tanzania'), ('numPresidents', '6'), ('numDeathPresidents', '3'), ('deathRatio', '50')]\n",
      "[('countryName', 'Zambia'), ('numPresidents', '8'), ('numDeathPresidents', '4'), ('deathRatio', '50')]\n",
      "[('countryName', 'Burundi'), ('numPresidents', '12'), ('numDeathPresidents', '6'), ('deathRatio', '50')]\n",
      "[('countryName', 'Somalia'), ('numPresidents', '15'), ('numDeathPresidents', '7'), ('deathRatio', '46.666666666666667')]\n",
      "[('countryName', 'Nigeria'), ('numPresidents', '13'), ('numDeathPresidents', '6'), ('deathRatio', '46.153846153846154')]\n",
      "[('countryName', 'Albania'), ('numPresidents', '11'), ('numDeathPresidents', '5'), ('deathRatio', '45.454545454545455')]\n",
      "[('countryName', 'Serbia'), ('numPresidents', '18'), ('numDeathPresidents', '8'), ('deathRatio', '44.444444444444444')]\n",
      "[('countryName', 'Seychelles'), ('numPresidents', '5'), ('numDeathPresidents', '2'), ('deathRatio', '40')]\n",
      "[('countryName', 'Latvia'), ('numPresidents', '10'), ('numDeathPresidents', '4'), ('deathRatio', '40')]\n",
      "[('countryName', 'Romania'), ('numPresidents', '10'), ('numDeathPresidents', '4'), ('deathRatio', '40')]\n",
      "[('countryName', 'Vanuatu'), ('numPresidents', '15'), ('numDeathPresidents', '6'), ('deathRatio', '40')]\n",
      "[('countryName', 'Benin'), ('numPresidents', '5'), ('numDeathPresidents', '2'), ('deathRatio', '40')]\n",
      "[('countryName', 'Botswana'), ('numPresidents', '5'), ('numDeathPresidents', '2'), ('deathRatio', '40')]\n",
      "[('countryName', 'Somaliland'), ('numPresidents', '5'), ('numDeathPresidents', '2'), ('deathRatio', '40')]\n",
      "[('countryName', 'United States of America'), ('numPresidents', '97'), ('numDeathPresidents', '38'), ('deathRatio', '39.175257731958763')]\n",
      "[('countryName', 'The Gambia'), ('numPresidents', '3'), ('numDeathPresidents', '1'), ('deathRatio', '33.333333333333333')]\n",
      "[('countryName', 'Estonia'), ('numPresidents', '6'), ('numDeathPresidents', '2'), ('deathRatio', '33.333333333333333')]\n",
      "[('countryName', 'Georgia'), ('numPresidents', '6'), ('numDeathPresidents', '2'), ('deathRatio', '33.333333333333333')]\n",
      "[('countryName', 'South Africa'), ('numPresidents', '6'), ('numDeathPresidents', '2'), ('deathRatio', '33.333333333333333')]\n",
      "[('countryName', 'Uzbekistan'), ('numPresidents', '3'), ('numDeathPresidents', '1'), ('deathRatio', '33.333333333333333')]\n",
      "[('countryName', 'Burkina Faso'), ('numPresidents', '10'), ('numDeathPresidents', '3'), ('deathRatio', '30')]\n",
      "[('countryName', 'Maldives'), ('numPresidents', '7'), ('numDeathPresidents', '2'), ('deathRatio', '28.571428571428571')]\n",
      "[('countryName', 'Central African Republic'), ('numPresidents', '7'), ('numDeathPresidents', '2'), ('deathRatio', '28.571428571428571')]\n",
      "[('countryName', 'Mozambique'), ('numPresidents', '4'), ('numDeathPresidents', '1'), ('deathRatio', '25')]\n",
      "[('countryName', 'Mauritius'), ('numPresidents', '13'), ('numDeathPresidents', '3'), ('deathRatio', '23.076923076923077')]\n",
      "[('countryName', 'Transnistria'), ('numPresidents', '5'), ('numDeathPresidents', '1'), ('deathRatio', '20')]\n",
      "[('countryName', 'Kosovo'), ('numPresidents', '7'), ('numDeathPresidents', '1'), ('deathRatio', '14.285714285714286')]\n",
      "[('countryName', 'Kiribati'), ('numPresidents', '7'), ('numDeathPresidents', '1'), ('deathRatio', '14.285714285714286')]\n",
      "[('countryName', 'São Tomé and Príncipe'), ('numPresidents', '8'), ('numDeathPresidents', '1'), ('deathRatio', '12.5')]\n",
      "[('countryName', 'Moldova'), ('numPresidents', '8'), ('numDeathPresidents', '1'), ('deathRatio', '12.5')]\n",
      "[('countryName', 'Bosnia and Herzegovina'), ('numPresidents', '17'), ('numDeathPresidents', '1'), ('deathRatio', '5.882352941176471')]\n",
      "[('countryName', 'Namibia'), ('numPresidents', '3'), ('numDeathPresidents', '0'), ('deathRatio', '0')]\n",
      "[('countryName', 'Kazakhstan'), ('numPresidents', '2'), ('numDeathPresidents', '0'), ('deathRatio', '0')]\n",
      "[('countryName', 'Armenia'), ('numPresidents', '4'), ('numDeathPresidents', '0'), ('deathRatio', '0')]\n",
      "[('countryName', 'Kyrgyzstan'), ('numPresidents', '6'), ('numDeathPresidents', '0'), ('deathRatio', '0')]\n",
      "[('countryName', 'Nepal'), ('numPresidents', '3'), ('numDeathPresidents', '0'), ('deathRatio', '0')]\n",
      "[('countryName', 'Serbia and Montenegro'), ('numPresidents', '2'), ('numDeathPresidents', '0'), ('deathRatio', '0')]\n"
     ]
    },
    {
     "data": {
      "text/plain": [
       "99"
      ]
     },
     "execution_count": 21,
     "metadata": {},
     "output_type": "execute_result"
    }
   ],
   "source": [
    "queryString = \"\"\"\n",
    "select distinct ?countryName ?numPresidents ?numDeathPresidents ?deathRatio where {\n",
    "    {\n",
    "        select ?country (count(?president) as ?numPresidents) (count(distinct ?deathDate) as ?numDeathPresidents) where {\n",
    "            ?president wdt:P39 ?presidentPosition .\n",
    "            ?presidentPosition wdt:P279* wd:Q248577 ;\n",
    "                               wdt:P17 ?country .\n",
    "            \n",
    "            optional { ?president wdt:P570 ?deathDate }\n",
    "        } group by ?country\n",
    "    }\n",
    "    \n",
    "    bind (?numDeathPresidents * 100. / ?numPresidents as ?deathRatio)\n",
    "    \n",
    "    ?country <http://schema.org/name> ?countryName .\n",
    "} order by desc(?deathRatio)\n",
    "\"\"\"\n",
    "\n",
    "print(\"Results\")\n",
    "run_query(queryString)"
   ]
  },
  {
   "cell_type": "markdown",
   "id": "beca65f0-234f-4284-b152-1fd25169965d",
   "metadata": {},
   "source": [
    "I can also list what is the most frequent manner/cause of death of the presidents for each country"
   ]
  },
  {
   "cell_type": "code",
   "execution_count": 22,
   "id": "538c093f-be0c-4eb4-975c-047cd179fd08",
   "metadata": {},
   "outputs": [
    {
     "name": "stdout",
     "output_type": "stream",
     "text": [
      "Results\n",
      "[('countryName', 'Albania'), ('mannerDeaths', 'disease, lung disease, myocardial infarction, natural causes, suicide'), ('numDeaths', '1')]\n",
      "[('countryName', 'Angola'), ('mannerDeaths', 'surgical complications'), ('numDeaths', '1')]\n",
      "[('countryName', 'Argentina'), ('mannerDeaths', 'natural causes'), ('numDeaths', '15')]\n",
      "[('countryName', 'Austria'), ('mannerDeaths', 'natural causes'), ('numDeaths', '5')]\n",
      "[('countryName', 'Azerbaijan'), ('mannerDeaths', 'cancer, kidney failure, natural causes, unnatural death'), ('numDeaths', '1')]\n",
      "[('countryName', 'Bosnia and Herzegovina'), ('mannerDeaths', 'myocardial infarction, natural causes'), ('numDeaths', '1')]\n",
      "[('countryName', 'Botswana'), ('mannerDeaths', 'natural causes, pancreatic cancer, surgical complications'), ('numDeaths', '1')]\n",
      "[('countryName', 'Brazil'), ('mannerDeaths', 'natural causes'), ('numDeaths', '4')]\n",
      "[('countryName', 'Burkina Faso'), ('mannerDeaths', 'homicide'), ('numDeaths', '1')]\n",
      "[('countryName', 'Burundi'), ('mannerDeaths', 'natural causes'), ('numDeaths', '3')]\n",
      "[('countryName', 'Central African Republic'), ('mannerDeaths', 'diabetes, myocardial infarction, natural causes'), ('numDeaths', '1')]\n",
      "[('countryName', 'Chile'), ('mannerDeaths', 'natural causes'), ('numDeaths', '9')]\n",
      "[('countryName', 'Colombia'), ('mannerDeaths', 'natural causes'), ('numDeaths', '7')]\n",
      "[('countryName', 'Comoros'), ('mannerDeaths', 'homicide'), ('numDeaths', '3')]\n",
      "[('countryName', 'Confederate States of America'), ('mannerDeaths', 'bronchitis, natural causes'), ('numDeaths', '1')]\n",
      "[('countryName', 'Costa Rica'), ('mannerDeaths', 'natural causes'), ('numDeaths', '2')]\n",
      "[('countryName', 'Croatia'), ('mannerDeaths', 'natural causes, pancreatic cancer'), ('numDeaths', '1')]\n",
      "[('countryName', 'Cuba'), ('mannerDeaths', 'suicide'), ('numDeaths', '2')]\n",
      "[('countryName', 'Democratic Republic of the Congo'), ('mannerDeaths', 'ballistic trauma, disease, hepatitis, homicide, murder, natural causes, prostate cancer'), ('numDeaths', '1')]\n",
      "[('countryName', 'Dominica'), ('mannerDeaths', 'natural causes'), ('numDeaths', '4')]\n",
      "[('countryName', 'El Salvador'), ('mannerDeaths', 'natural causes'), ('numDeaths', '3')]\n",
      "[('countryName', 'Estonia'), ('mannerDeaths', 'brain cancer, natural causes'), ('numDeaths', '1')]\n",
      "[('countryName', 'Ethiopia'), ('mannerDeaths', 'ballistic trauma, brain cancer, disease, extra-judicial killing, involuntary manslaughter'), ('numDeaths', '1')]\n",
      "[('countryName', 'Federal Republic of Central America'), ('mannerDeaths', 'ballistic trauma, capital punishment, cholera, natural causes'), ('numDeaths', '1')]\n",
      "[('countryName', 'Georgia'), ('mannerDeaths', 'ballistic trauma, homicide, suicide'), ('numDeaths', '1')]\n",
      "[('countryName', 'Germany'), ('mannerDeaths', 'natural causes, stomach cancer'), ('numDeaths', '1')]\n",
      "[('countryName', 'Ghana'), ('mannerDeaths', 'natural causes'), ('numDeaths', '5')]\n",
      "[('countryName', 'Greece'), ('mannerDeaths', 'natural causes'), ('numDeaths', '3')]\n",
      "[('countryName', 'Guatemala'), ('mannerDeaths', 'natural causes'), ('numDeaths', '6')]\n",
      "[('countryName', 'Guinea'), ('mannerDeaths', 'natural causes'), ('numDeaths', '2')]\n",
      "[('countryName', 'Guyana'), ('mannerDeaths', 'cardiovascular disease'), ('numDeaths', '1')]\n",
      "[('countryName', 'Haiti'), ('mannerDeaths', 'natural causes'), ('numDeaths', '6')]\n",
      "[('countryName', 'Honduras'), ('mannerDeaths', 'natural causes'), ('numDeaths', '6')]\n",
      "[('countryName', 'Iceland'), ('mannerDeaths', 'cardiovascular disease'), ('numDeaths', '1')]\n",
      "[('countryName', 'India'), ('mannerDeaths', 'natural causes'), ('numDeaths', '3')]\n",
      "[('countryName', 'Indonesia'), ('mannerDeaths', 'kidney failure, natural causes'), ('numDeaths', '2')]\n",
      "[('countryName', 'Iraq'), ('mannerDeaths', 'hanging'), ('numDeaths', '2')]\n",
      "[('countryName', 'Italy'), ('mannerDeaths', 'natural causes, pneumonia'), ('numDeaths', '1')]\n",
      "[('countryName', 'Kosovo'), ('mannerDeaths', 'lung cancer, natural causes'), ('numDeaths', '1')]\n",
      "[('countryName', 'Latvia'), ('mannerDeaths', 'dysentery, myocardial infarction, natural causes'), ('numDeaths', '1')]\n",
      "[('countryName', 'Lebanon'), ('mannerDeaths', 'natural causes'), ('numDeaths', '2')]\n",
      "[('countryName', 'Lithuania'), ('mannerDeaths', 'accident, conflagration, lymphoma, natural causes, unnatural death'), ('numDeaths', '1')]\n",
      "[('countryName', 'Madagascar'), ('mannerDeaths', 'natural causes'), ('numDeaths', '2')]\n",
      "[('countryName', 'Marshall Islands'), ('mannerDeaths', 'natural causes'), ('numDeaths', '3')]\n",
      "[('countryName', 'Mexico'), ('mannerDeaths', 'natural causes'), ('numDeaths', '6')]\n",
      "[('countryName', 'Mongolia'), ('mannerDeaths', 'disease, unnatural death'), ('numDeaths', '1')]\n",
      "[('countryName', 'Mozambique'), ('mannerDeaths', 'accident, aviation accident'), ('numDeaths', '1')]\n",
      "[('countryName', 'Nigeria'), ('mannerDeaths', 'cardiovascular disease, heart failure, homicide, magnicide'), ('numDeaths', '1')]\n",
      "[('countryName', 'Pakistan'), ('mannerDeaths', 'cardiac arrest, natural causes'), ('numDeaths', '2')]\n",
      "[('countryName', 'Paraguay'), ('mannerDeaths', 'natural causes'), ('numDeaths', '3')]\n",
      "[('countryName', \"People's Republic of China\"), ('mannerDeaths', 'natural causes'), ('numDeaths', '2')]\n",
      "[('countryName', 'Peru'), ('mannerDeaths', 'ballistic trauma, natural causes'), ('numDeaths', '3')]\n",
      "[('countryName', 'Philippines'), ('mannerDeaths', 'natural causes'), ('numDeaths', '9')]\n",
      "[('countryName', 'Poland'), ('mannerDeaths', 'accident, ballistic trauma, homicide, lung cancer'), ('numDeaths', '2')]\n",
      "[('countryName', 'Portugal'), ('mannerDeaths', 'natural causes'), ('numDeaths', '3')]\n",
      "[('countryName', 'Republic of China 1912–1949'), ('mannerDeaths', 'natural causes'), ('numDeaths', '2')]\n",
      "[('countryName', 'Republic of Kosova'), ('mannerDeaths', 'lung cancer, natural causes'), ('numDeaths', '1')]\n",
      "[('countryName', 'Romania'), ('mannerDeaths', 'ballistic trauma, capital punishment'), ('numDeaths', '1')]\n",
      "[('countryName', 'Sahrawi Arab Democratic Republic'), ('mannerDeaths', 'killed in action, lung cancer, natural causes'), ('numDeaths', '1')]\n",
      "[('countryName', 'Serbia'), ('mannerDeaths', 'homicide, myocardial infarction, natural causes'), ('numDeaths', '1')]\n",
      "[('countryName', 'Seychelles'), ('mannerDeaths', 'respiratory failure, stroke'), ('numDeaths', '1')]\n",
      "[('countryName', 'Singapore'), ('mannerDeaths', 'natural causes'), ('numDeaths', '2')]\n",
      "[('countryName', 'Slovenia'), ('mannerDeaths', 'kidney cancer, natural causes'), ('numDeaths', '1')]\n",
      "[('countryName', 'Somalia'), ('mannerDeaths', 'natural causes'), ('numDeaths', '3')]\n",
      "[('countryName', 'South Africa'), ('mannerDeaths', 'respiratory disease'), ('numDeaths', '1')]\n",
      "[('countryName', 'South Korea'), ('mannerDeaths', 'heart failure, natural causes'), ('numDeaths', '2')]\n",
      "[('countryName', 'Sri Lanka'), ('mannerDeaths', 'homicide'), ('numDeaths', '1')]\n",
      "[('countryName', 'Syria'), ('mannerDeaths', 'ballistic trauma, homicide'), ('numDeaths', '2')]\n",
      "[('countryName', 'Taiwan'), ('mannerDeaths', 'natural causes'), ('numDeaths', '4')]\n",
      "[('countryName', 'Tanzania'), ('mannerDeaths', 'natural causes'), ('numDeaths', '3')]\n",
      "[('countryName', 'Trinidad and Tobago'), ('mannerDeaths', 'heart failure, natural causes, stroke'), ('numDeaths', '1')]\n",
      "[('countryName', 'Turkmenistan'), ('mannerDeaths', 'myocardial infarction, natural causes'), ('numDeaths', '1')]\n",
      "[('countryName', 'Uganda'), ('mannerDeaths', 'natural causes'), ('numDeaths', '4')]\n",
      "[('countryName', 'United States of America'), ('mannerDeaths', 'natural causes'), ('numDeaths', '34')]\n",
      "[('countryName', 'Uzbekistan'), ('mannerDeaths', 'cerebral hemorrhage, natural causes'), ('numDeaths', '1')]\n",
      "[('countryName', 'Vanuatu'), ('mannerDeaths', 'asthma, myocardial infarction, natural causes, traffic collision'), ('numDeaths', '1')]\n",
      "[('countryName', 'Venezuela'), ('mannerDeaths', 'natural causes'), ('numDeaths', '5')]\n",
      "[('countryName', 'Vietnam'), ('mannerDeaths', 'natural causes'), ('numDeaths', '3')]\n",
      "[('countryName', 'Zambia'), ('mannerDeaths', 'natural causes'), ('numDeaths', '3')]\n",
      "[('countryName', 'Zimbabwe'), ('mannerDeaths', 'cancer, natural causes'), ('numDeaths', '2')]\n"
     ]
    },
    {
     "data": {
      "text/plain": [
       "80"
      ]
     },
     "execution_count": 22,
     "metadata": {},
     "output_type": "execute_result"
    }
   ],
   "source": [
    "queryString = \"\"\"\n",
    "select distinct ?countryName (group_concat(distinct ?mannerDeathName; separator=\", \") as ?mannerDeaths) (max(?numDeaths) as ?numDeaths) {               \n",
    "    {\n",
    "        select ?country (max(?numDeaths) as ?moreFrequentMannerDeath) where {\n",
    "            {\n",
    "                select ?country ?mannerDeath (count(distinct ?president) as ?numDeaths) where {\n",
    "                    ?president wdt:P39 ?presidentPosition ;\n",
    "                               wdt:P1196|wdt:P509 ?mannerDeath .\n",
    "                    ?presidentPosition wdt:P279* wd:Q248577 ;\n",
    "                               wdt:P17 ?country .\n",
    "                } group by ?country ?mannerDeath\n",
    "            }\n",
    "        }\n",
    "    } .\n",
    "    {\n",
    "        select ?country ?mannerDeath (count(distinct ?president) as ?numDeaths) where {\n",
    "            ?president wdt:P39 ?presidentPosition ;\n",
    "                       wdt:P1196|wdt:P509 ?mannerDeath .\n",
    "            ?presidentPosition wdt:P279* wd:Q248577 ;\n",
    "                       wdt:P17 ?country .\n",
    "        } group by ?country ?mannerDeath\n",
    "    }\n",
    "    \n",
    "    filter (?numDeaths = ?moreFrequentMannerDeath)\n",
    "        \n",
    "    ?country <http://schema.org/name> ?countryName .\n",
    "    ?mannerDeath <http://schema.org/name> ?mannerDeathName .    \n",
    "} order by ?countryName\n",
    "\"\"\"\n",
    "\n",
    "print(\"Results\")\n",
    "run_query(queryString)"
   ]
  },
  {
   "cell_type": "markdown",
   "id": "84e46b94-ca6a-48a8-a1d1-26fdf057d740",
   "metadata": {},
   "source": [
    "## 5.3. Which are the professions of different presidents? How many presidents had a specific profession?"
   ]
  },
  {
   "cell_type": "markdown",
   "id": "545100fb-5e0b-49c4-94c3-d95514844c74",
   "metadata": {},
   "source": [
    "In order to answer both question at same time, I can list all the occupations of the presidents, and count how many presidents had those professions."
   ]
  },
  {
   "cell_type": "code",
   "execution_count": 23,
   "id": "41f304d9-39b9-431c-9981-9d9a21beefd5",
   "metadata": {},
   "outputs": [
    {
     "name": "stdout",
     "output_type": "stream",
     "text": [
      "Results\n",
      "[('occupation', 'http://www.wikidata.org/entity/Q82955'), ('occupationName', 'politician'), ('numPresidents', '1544')]\n",
      "[('occupation', 'http://www.wikidata.org/entity/Q40348'), ('occupationName', 'lawyer'), ('numPresidents', '353')]\n",
      "[('occupation', 'http://www.wikidata.org/entity/Q193391'), ('occupationName', 'diplomat'), ('numPresidents', '211')]\n",
      "[('occupation', 'http://www.wikidata.org/entity/Q47064'), ('occupationName', 'military personnel'), ('numPresidents', '200')]\n",
      "[('occupation', 'http://www.wikidata.org/entity/Q1930187'), ('occupationName', 'journalist'), ('numPresidents', '83')]\n",
      "[('occupation', 'http://www.wikidata.org/entity/Q36180'), ('occupationName', 'writer'), ('numPresidents', '76')]\n",
      "[('occupation', 'http://www.wikidata.org/entity/Q188094'), ('occupationName', 'economist'), ('numPresidents', '75')]\n",
      "[('occupation', 'http://www.wikidata.org/entity/Q1622272'), ('occupationName', 'university teacher'), ('numPresidents', '71')]\n",
      "[('occupation', 'http://www.wikidata.org/entity/Q16533'), ('occupationName', 'judge'), ('numPresidents', '66')]\n",
      "[('occupation', 'http://www.wikidata.org/entity/Q189290'), ('occupationName', 'military officer'), ('numPresidents', '61')]\n",
      "[('occupation', 'http://www.wikidata.org/entity/Q372436'), ('occupationName', 'statesperson'), ('numPresidents', '59')]\n",
      "[('occupation', 'http://www.wikidata.org/entity/Q4991371'), ('occupationName', 'soldier'), ('numPresidents', '36')]\n",
      "[('occupation', 'http://www.wikidata.org/entity/Q43845'), ('occupationName', 'businessperson'), ('numPresidents', '33')]\n",
      "[('occupation', 'http://www.wikidata.org/entity/Q81096'), ('occupationName', 'engineer'), ('numPresidents', '32')]\n",
      "[('occupation', 'http://www.wikidata.org/entity/Q185351'), ('occupationName', 'jurist'), ('numPresidents', '28')]\n",
      "[('occupation', 'http://www.wikidata.org/entity/Q168559'), ('occupationName', 'political commissar'), ('numPresidents', '22')]\n",
      "[('occupation', 'http://www.wikidata.org/entity/Q201788'), ('occupationName', 'historian'), ('numPresidents', '20')]\n",
      "[('occupation', 'http://www.wikidata.org/entity/Q131524'), ('occupationName', 'entrepreneur'), ('numPresidents', '20')]\n",
      "[('occupation', 'http://www.wikidata.org/entity/Q83307'), ('occupationName', 'minister'), ('numPresidents', '19')]\n",
      "[('occupation', 'http://www.wikidata.org/entity/Q806798'), ('occupationName', 'banker'), ('numPresidents', '19')]\n",
      "[('occupation', 'http://www.wikidata.org/entity/Q39631'), ('occupationName', 'physician'), ('numPresidents', '18')]\n",
      "[('occupation', 'http://www.wikidata.org/entity/Q49757'), ('occupationName', 'poet'), ('numPresidents', '16')]\n",
      "[('occupation', 'http://www.wikidata.org/entity/Q333634'), ('occupationName', 'translator'), ('numPresidents', '13')]\n",
      "[('occupation', 'http://www.wikidata.org/entity/Q13582652'), ('occupationName', 'civil engineer'), ('numPresidents', '11')]\n",
      "[('occupation', 'http://www.wikidata.org/entity/Q15627169'), ('occupationName', 'trade unionist'), ('numPresidents', '11')]\n",
      "[('occupation', 'http://www.wikidata.org/entity/Q4964182'), ('occupationName', 'philosopher'), ('numPresidents', '10')]\n",
      "[('occupation', 'http://www.wikidata.org/entity/Q170790'), ('occupationName', 'mathematician'), ('numPresidents', '9')]\n",
      "[('occupation', 'http://www.wikidata.org/entity/Q212238'), ('occupationName', 'civil servant'), ('numPresidents', '9')]\n",
      "[('occupation', 'http://www.wikidata.org/entity/Q18814623'), ('occupationName', 'autobiographer'), ('numPresidents', '9')]\n",
      "[('occupation', 'http://www.wikidata.org/entity/Q37226'), ('occupationName', 'teacher'), ('numPresidents', '9')]\n",
      "[('occupation', 'http://www.wikidata.org/entity/Q131512'), ('occupationName', 'farmer'), ('numPresidents', '8')]\n",
      "[('occupation', 'http://www.wikidata.org/entity/Q26481809'), ('occupationName', 'sports executive'), ('numPresidents', '7')]\n",
      "[('occupation', 'http://www.wikidata.org/entity/Q212948'), ('occupationName', 'partisan'), ('numPresidents', '6')]\n",
      "[('occupation', 'http://www.wikidata.org/entity/Q593644'), ('occupationName', 'chemist'), ('numPresidents', '6')]\n",
      "[('occupation', 'http://www.wikidata.org/entity/Q250867'), ('occupationName', 'Catholic priest'), ('numPresidents', '5')]\n",
      "[('occupation', 'http://www.wikidata.org/entity/Q15980158'), ('occupationName', 'non-fiction writer'), ('numPresidents', '5')]\n",
      "[('occupation', 'http://www.wikidata.org/entity/Q182436'), ('occupationName', 'librarian'), ('numPresidents', '5')]\n",
      "[('occupation', 'http://www.wikidata.org/entity/Q774306'), ('occupationName', 'surgeon'), ('numPresidents', '5')]\n",
      "[('occupation', 'http://www.wikidata.org/entity/Q169470'), ('occupationName', 'physicist'), ('numPresidents', '4')]\n",
      "[('occupation', 'http://www.wikidata.org/entity/Q2306091'), ('occupationName', 'sociologist'), ('numPresidents', '4')]\n",
      "[('occupation', 'http://www.wikidata.org/entity/Q3242115'), ('occupationName', 'revolutionary'), ('numPresidents', '4')]\n",
      "[('occupation', 'http://www.wikidata.org/entity/Q4594605'), ('occupationName', 'magistrate'), ('numPresidents', '4')]\n",
      "[('occupation', 'http://www.wikidata.org/entity/Q4263842'), ('occupationName', 'literary critic'), ('numPresidents', '4')]\n",
      "[('occupation', 'http://www.wikidata.org/entity/Q42973'), ('occupationName', 'architect'), ('numPresidents', '4')]\n",
      "[('occupation', 'http://www.wikidata.org/entity/Q1231865'), ('occupationName', 'pedagogue'), ('numPresidents', '4')]\n",
      "[('occupation', 'http://www.wikidata.org/entity/Q76451450'), ('occupationName', 'fictional politician'), ('numPresidents', '3')]\n",
      "[('occupation', 'http://www.wikidata.org/entity/Q1979607'), ('occupationName', 'financier'), ('numPresidents', '3')]\n",
      "[('occupation', 'http://www.wikidata.org/entity/Q183318'), ('occupationName', 'dictator'), ('numPresidents', '3')]\n",
      "[('occupation', 'http://www.wikidata.org/entity/Q1397808'), ('occupationName', 'resistance fighter'), ('numPresidents', '3')]\n",
      "[('occupation', 'http://www.wikidata.org/entity/Q482980'), ('occupationName', 'author'), ('numPresidents', '3')]\n",
      "[('occupation', 'http://www.wikidata.org/entity/Q121594'), ('occupationName', 'professor'), ('numPresidents', '3')]\n",
      "[('occupation', 'http://www.wikidata.org/entity/Q14467526'), ('occupationName', 'linguist'), ('numPresidents', '3')]\n",
      "[('occupation', 'http://www.wikidata.org/entity/Q1650915'), ('occupationName', 'researcher'), ('numPresidents', '3')]\n",
      "[('occupation', 'http://www.wikidata.org/entity/Q211346'), ('occupationName', 'psychiatrist'), ('numPresidents', '3')]\n",
      "[('occupation', 'http://www.wikidata.org/entity/Q27349'), ('occupationName', 'dentist'), ('numPresidents', '3')]\n",
      "[('occupation', 'http://www.wikidata.org/entity/Q215536'), ('occupationName', 'merchant'), ('numPresidents', '3')]\n",
      "[('occupation', 'http://www.wikidata.org/entity/Q212980'), ('occupationName', 'psychologist'), ('numPresidents', '3')]\n",
      "[('occupation', 'http://www.wikidata.org/entity/Q1402561'), ('occupationName', 'military leader'), ('numPresidents', '3')]\n",
      "[('occupation', 'http://www.wikidata.org/entity/Q10076267'), ('occupationName', 'slaveholder'), ('numPresidents', '3')]\n",
      "[('occupation', 'http://www.wikidata.org/entity/Q1569495'), ('occupationName', 'lecturer'), ('numPresidents', '3')]\n",
      "[('occupation', 'http://www.wikidata.org/entity/Q220098'), ('occupationName', 'warlord'), ('numPresidents', '2')]\n",
      "[('occupation', 'http://www.wikidata.org/entity/Q599151'), ('occupationName', 'official'), ('numPresidents', '2')]\n",
      "[('occupation', 'http://www.wikidata.org/entity/Q3264451'), ('occupationName', 'cardiologist'), ('numPresidents', '2')]\n",
      "[('occupation', 'http://www.wikidata.org/entity/Q639669'), ('occupationName', 'musician'), ('numPresidents', '2')]\n",
      "[('occupation', 'http://www.wikidata.org/entity/Q7888586'), ('occupationName', 'chemical engineer'), ('numPresidents', '2')]\n",
      "[('occupation', 'http://www.wikidata.org/entity/Q105186'), ('occupationName', 'pharmacist'), ('numPresidents', '2')]\n",
      "[('occupation', 'http://www.wikidata.org/entity/Q2259532'), ('occupationName', 'cleric'), ('numPresidents', '2')]\n",
      "[('occupation', 'http://www.wikidata.org/entity/Q116'), ('occupationName', 'monarch'), ('numPresidents', '2')]\n",
      "[('occupation', 'http://www.wikidata.org/entity/Q901'), ('occupationName', 'scientist'), ('numPresidents', '2')]\n",
      "[('occupation', 'http://www.wikidata.org/entity/Q2135469'), ('occupationName', 'legal counsel'), ('numPresidents', '2')]\n",
      "[('occupation', 'http://www.wikidata.org/entity/Q974144'), ('occupationName', 'educator'), ('numPresidents', '2')]\n",
      "[('occupation', 'http://www.wikidata.org/entity/Q2251335'), ('occupationName', 'school teacher'), ('numPresidents', '2')]\n",
      "[('occupation', 'http://www.wikidata.org/entity/Q1476215'), ('occupationName', 'human rights activist'), ('numPresidents', '2')]\n",
      "[('occupation', 'http://www.wikidata.org/entity/Q33999'), ('occupationName', 'actor'), ('numPresidents', '2')]\n",
      "[('occupation', 'http://www.wikidata.org/entity/Q864503'), ('occupationName', 'biologist'), ('numPresidents', '2')]\n",
      "[('occupation', 'http://www.wikidata.org/entity/Q6625963'), ('occupationName', 'novelist'), ('numPresidents', '2')]\n",
      "[('occupation', 'http://www.wikidata.org/entity/Q18926350'), ('occupationName', 'agricultural engineer'), ('numPresidents', '2')]\n",
      "[('occupation', 'http://www.wikidata.org/entity/Q3400985'), ('occupationName', 'academic'), ('numPresidents', '2')]\n",
      "[('occupation', 'http://www.wikidata.org/entity/Q947873'), ('occupationName', 'television presenter'), ('numPresidents', '2')]\n",
      "[('occupation', 'http://www.wikidata.org/entity/Q2526255'), ('occupationName', 'film director'), ('numPresidents', '2')]\n",
      "[('occupation', 'http://www.wikidata.org/entity/Q42603'), ('occupationName', 'priest'), ('numPresidents', '2')]\n",
      "[('occupation', 'http://www.wikidata.org/entity/Q998550'), ('occupationName', 'bookseller'), ('numPresidents', '2')]\n",
      "[('occupation', 'http://www.wikidata.org/entity/Q28389'), ('occupationName', 'screenwriter'), ('numPresidents', '2')]\n",
      "[('occupation', 'http://www.wikidata.org/entity/Q18524075'), ('occupationName', 'mining engineer'), ('numPresidents', '2')]\n",
      "[('occupation', 'http://www.wikidata.org/entity/Q2304859'), ('occupationName', 'sovereign'), ('numPresidents', '2')]\n",
      "[('occupation', 'http://www.wikidata.org/entity/Q36834'), ('occupationName', 'composer'), ('numPresidents', '2')]\n",
      "[('occupation', 'http://www.wikidata.org/entity/Q152002'), ('occupationName', 'pastor'), ('numPresidents', '2')]\n",
      "[('occupation', 'http://www.wikidata.org/entity/Q4773904'), ('occupationName', 'anthropologist'), ('numPresidents', '2')]\n",
      "[('occupation', 'http://www.wikidata.org/entity/Q2516866'), ('occupationName', 'publisher'), ('numPresidents', '2')]\n",
      "[('occupation', 'http://www.wikidata.org/entity/Q47227062'), ('occupationName', 'agitator'), ('numPresidents', '1')]\n",
      "[('occupation', 'http://www.wikidata.org/entity/Q356139'), ('occupationName', 'copy editor'), ('numPresidents', '1')]\n",
      "[('occupation', 'http://www.wikidata.org/entity/Q388338'), ('occupationName', 'treasurer'), ('numPresidents', '1')]\n",
      "[('occupation', 'http://www.wikidata.org/entity/Q931260'), ('occupationName', 'murderer'), ('numPresidents', '1')]\n",
      "[('occupation', 'http://www.wikidata.org/entity/Q45199'), ('occupationName', 'sailor'), ('numPresidents', '1')]\n",
      "[('occupation', 'http://www.wikidata.org/entity/Q3621491'), ('occupationName', 'archaeologist'), ('numPresidents', '1')]\n",
      "[('occupation', 'http://www.wikidata.org/entity/Q808967'), ('occupationName', 'barrister'), ('numPresidents', '1')]\n",
      "[('occupation', 'http://www.wikidata.org/entity/Q1607826'), ('occupationName', 'editor'), ('numPresidents', '1')]\n",
      "[('occupation', 'http://www.wikidata.org/entity/Q2640827'), ('occupationName', 'gynaecologist'), ('numPresidents', '1')]\n",
      "[('occupation', 'http://www.wikidata.org/entity/Q21468747'), ('occupationName', 'coal miner'), ('numPresidents', '1')]\n",
      "[('occupation', 'http://www.wikidata.org/entity/Q2267418'), ('occupationName', 'industrial engineer'), ('numPresidents', '1')]\n",
      "[('occupation', 'http://www.wikidata.org/entity/Q10800557'), ('occupationName', 'film actor'), ('numPresidents', '1')]\n",
      "[('occupation', 'http://www.wikidata.org/entity/Q557880'), ('occupationName', 'investor'), ('numPresidents', '1')]\n",
      "[('occupation', 'http://www.wikidata.org/entity/Q205375'), ('occupationName', 'inventor'), ('numPresidents', '1')]\n",
      "[('occupation', 'http://www.wikidata.org/entity/Q890527'), ('occupationName', 'archer'), ('numPresidents', '1')]\n",
      "[('occupation', 'http://www.wikidata.org/entity/Q488111'), ('occupationName', 'pornographic actor'), ('numPresidents', '1')]\n",
      "[('occupation', 'http://www.wikidata.org/entity/Q5784164'), ('occupationName', 'Palace janitor'), ('numPresidents', '1')]\n",
      "[('occupation', 'http://www.wikidata.org/entity/Q5400907'), ('occupationName', 'Presidente'), ('numPresidents', '1')]\n",
      "[('occupation', 'http://www.wikidata.org/entity/Q212071'), ('occupationName', 'rector'), ('numPresidents', '1')]\n",
      "[('occupation', 'http://www.wikidata.org/entity/Q5716684'), ('occupationName', 'dancer'), ('numPresidents', '1')]\n",
      "[('occupation', 'http://www.wikidata.org/entity/Q1734662'), ('occupationName', 'cartographer'), ('numPresidents', '1')]\n",
      "[('occupation', 'http://www.wikidata.org/entity/Q10527030'), ('occupationName', 'humanist'), ('numPresidents', '1')]\n",
      "[('occupation', 'http://www.wikidata.org/entity/Q350979'), ('occupationName', 'zoologist'), ('numPresidents', '1')]\n",
      "[('occupation', 'http://www.wikidata.org/entity/Q849424'), ('occupationName', 'ship captain'), ('numPresidents', '1')]\n",
      "[('occupation', 'http://www.wikidata.org/entity/Q16267607'), ('occupationName', 'classical philologist'), ('numPresidents', '1')]\n",
      "[('occupation', 'http://www.wikidata.org/entity/Q12299841'), ('occupationName', 'cricketer'), ('numPresidents', '1')]\n",
      "[('occupation', 'http://www.wikidata.org/entity/Q674426'), ('occupationName', 'curator'), ('numPresidents', '1')]\n",
      "[('occupation', 'http://www.wikidata.org/entity/Q3303330'), ('occupationName', 'calligrapher'), ('numPresidents', '1')]\n",
      "[('occupation', 'http://www.wikidata.org/entity/Q189010'), ('occupationName', 'notary'), ('numPresidents', '1')]\n",
      "[('occupation', 'http://www.wikidata.org/entity/Q242468'), ('occupationName', 'tailor'), ('numPresidents', '1')]\n",
      "[('occupation', 'http://www.wikidata.org/entity/Q15253558'), ('occupationName', 'activist'), ('numPresidents', '1')]\n",
      "[('occupation', 'http://www.wikidata.org/entity/Q1423891'), ('occupationName', 'minister'), ('numPresidents', '1')]\n",
      "[('occupation', 'http://www.wikidata.org/entity/Q1791716'), ('occupationName', 'military affairs'), ('numPresidents', '1')]\n",
      "[('occupation', 'http://www.wikidata.org/entity/Q13418253'), ('occupationName', 'philologist'), ('numPresidents', '1')]\n",
      "[('occupation', 'http://www.wikidata.org/entity/Q16532929'), ('occupationName', 'administrator'), ('numPresidents', '1')]\n",
      "[('occupation', 'http://www.wikidata.org/entity/Q3578589'), ('occupationName', 'environmentalist'), ('numPresidents', '1')]\n",
      "[('occupation', 'http://www.wikidata.org/entity/Q181043'), ('occupationName', 'dissident'), ('numPresidents', '1')]\n",
      "[('occupation', 'http://www.wikidata.org/entity/Q1162163'), ('occupationName', 'director'), ('numPresidents', '1')]\n",
      "[('occupation', 'http://www.wikidata.org/entity/Q2478141'), ('occupationName', 'aristocrat'), ('numPresidents', '1')]\n",
      "[('occupation', 'http://www.wikidata.org/entity/Q13570226'), ('occupationName', 'literary historian'), ('numPresidents', '1')]\n",
      "[('occupation', 'http://www.wikidata.org/entity/Q1685363'), ('occupationName', 'propagandist'), ('numPresidents', '1')]\n",
      "[('occupation', 'http://www.wikidata.org/entity/Q483501'), ('occupationName', 'artist'), ('numPresidents', '1')]\n",
      "[('occupation', 'http://www.wikidata.org/entity/Q4108101'), ('occupationName', 'typesetter'), ('numPresidents', '1')]\n",
      "[('occupation', 'http://www.wikidata.org/entity/Q217105'), ('occupationName', 'political prisoner'), ('numPresidents', '1')]\n",
      "[('occupation', 'http://www.wikidata.org/entity/Q3282637'), ('occupationName', 'film producer'), ('numPresidents', '1')]\n",
      "[('occupation', 'http://www.wikidata.org/entity/Q4531850'), ('occupationName', 'endocrinologist'), ('numPresidents', '1')]\n",
      "[('occupation', 'http://www.wikidata.org/entity/Q12059906'), ('occupationName', 'herder'), ('numPresidents', '1')]\n",
      "[('occupation', 'http://www.wikidata.org/entity/Q42909'), ('occupationName', 'reporter'), ('numPresidents', '1')]\n",
      "[('occupation', 'http://www.wikidata.org/entity/Q154549'), ('occupationName', 'carpenter'), ('numPresidents', '1')]\n",
      "[('occupation', 'http://www.wikidata.org/entity/Q7621877'), ('occupationName', 'strategist'), ('numPresidents', '1')]\n",
      "[('occupation', 'http://www.wikidata.org/entity/Q2135538'), ('occupationName', 'legal historian'), ('numPresidents', '1')]\n",
      "[('occupation', 'http://www.wikidata.org/entity/Q1906857'), ('occupationName', 'mechanical engineer'), ('numPresidents', '1')]\n",
      "[('occupation', 'http://www.wikidata.org/entity/Q56033776'), ('occupationName', 'reformed pastor'), ('numPresidents', '1')]\n",
      "[('occupation', 'http://www.wikidata.org/entity/Q15839134'), ('occupationName', 'ecologist'), ('numPresidents', '1')]\n",
      "[('occupation', 'http://www.wikidata.org/entity/Q2824534'), ('occupationName', 'administrator of the government'), ('numPresidents', '1')]\n",
      "[('occupation', 'http://www.wikidata.org/entity/Q829020'), ('occupationName', 'bus driver'), ('numPresidents', '1')]\n",
      "[('occupation', 'http://www.wikidata.org/entity/Q520549'), ('occupationName', 'geologist'), ('numPresidents', '1')]\n",
      "[('occupation', 'http://www.wikidata.org/entity/Q15839135'), ('occupationName', 'developmental biologist'), ('numPresidents', '1')]\n",
      "[('occupation', 'http://www.wikidata.org/entity/Q186360'), ('occupationName', 'nurse'), ('numPresidents', '1')]\n",
      "[('occupation', 'http://www.wikidata.org/entity/Q56923'), ('occupationName', 'captain  general'), ('numPresidents', '1')]\n",
      "[('occupation', 'http://www.wikidata.org/entity/Q868715'), ('occupationName', 'Conducător'), ('numPresidents', '1')]\n",
      "[('occupation', 'http://www.wikidata.org/entity/Q10798782'), ('occupationName', 'television actor'), ('numPresidents', '1')]\n",
      "[('occupation', 'http://www.wikidata.org/entity/Q11338576'), ('occupationName', 'boxer'), ('numPresidents', '1')]\n",
      "[('occupation', 'http://www.wikidata.org/entity/Q466956'), ('occupationName', 'President of Chile'), ('numPresidents', '1')]\n",
      "[('occupation', 'http://www.wikidata.org/entity/Q74852689'), ('occupationName', 'turner'), ('numPresidents', '1')]\n",
      "[('occupation', 'http://www.wikidata.org/entity/Q6430706'), ('occupationName', 'critic'), ('numPresidents', '1')]\n",
      "[('occupation', 'http://www.wikidata.org/entity/Q202883'), ('occupationName', 'veterinarian'), ('numPresidents', '1')]\n",
      "[('occupation', 'http://www.wikidata.org/entity/Q245068'), ('occupationName', 'comedian'), ('numPresidents', '1')]\n",
      "[('occupation', 'http://www.wikidata.org/entity/Q15839158'), ('occupationName', 'molecular geneticist'), ('numPresidents', '1')]\n",
      "[('occupation', 'http://www.wikidata.org/entity/Q15978655'), ('occupationName', 'consultant'), ('numPresidents', '1')]\n",
      "[('occupation', 'http://www.wikidata.org/entity/Q2961975'), ('occupationName', 'business executive'), ('numPresidents', '1')]\n",
      "[('occupation', 'http://www.wikidata.org/entity/Q37516163'), ('occupationName', 'Militar'), ('numPresidents', '1')]\n",
      "[('occupation', 'http://www.wikidata.org/entity/Q488205'), ('occupationName', 'singer-songwriter'), ('numPresidents', '1')]\n",
      "[('occupation', 'http://www.wikidata.org/entity/Q1028181'), ('occupationName', 'painter'), ('numPresidents', '1')]\n",
      "[('occupation', 'http://www.wikidata.org/entity/Q2919046'), ('occupationName', 'biochemist'), ('numPresidents', '1')]\n",
      "[('occupation', 'http://www.wikidata.org/entity/Q2095549'), ('occupationName', 'aircraft pilot'), ('numPresidents', '1')]\n",
      "[('occupation', 'http://www.wikidata.org/entity/Q23927336'), ('occupationName', 'sambo fighter'), ('numPresidents', '1')]\n",
      "[('occupation', 'http://www.wikidata.org/entity/Q15994177'), ('occupationName', 'political theorist'), ('numPresidents', '1')]\n",
      "[('occupation', 'http://www.wikidata.org/entity/Q911554'), ('occupationName', 'business magnate'), ('numPresidents', '1')]\n",
      "[('occupation', 'http://www.wikidata.org/entity/Q11774156'), ('occupationName', 'memoirist'), ('numPresidents', '1')]\n",
      "[('occupation', 'http://www.wikidata.org/entity/Q11774202'), ('occupationName', 'essayist'), ('numPresidents', '1')]\n",
      "[('occupation', 'http://www.wikidata.org/entity/Q214917'), ('occupationName', 'playwright'), ('numPresidents', '1')]\n",
      "[('occupation', 'http://www.wikidata.org/entity/Q40881196'), ('occupationName', 'printer-bookseller'), ('numPresidents', '1')]\n",
      "[('occupation', 'http://www.wikidata.org/entity/Q17765219'), ('occupationName', 'colonial administrator'), ('numPresidents', '1')]\n",
      "[('occupation', 'http://www.wikidata.org/entity/Q1238570'), ('occupationName', 'political scientist'), ('numPresidents', '1')]\n",
      "[('occupation', 'http://www.wikidata.org/entity/Q9352089'), ('occupationName', 'spy'), ('numPresidents', '1')]\n",
      "[('occupation', 'http://www.wikidata.org/entity/Q1072363'), ('occupationName', 'chief officer'), ('numPresidents', '1')]\n",
      "[('occupation', 'http://www.wikidata.org/entity/Q1553195'), ('occupationName', 'party leader'), ('numPresidents', '1')]\n",
      "[('occupation', 'http://www.wikidata.org/entity/Q12013238'), ('occupationName', 'ophthalmologist'), ('numPresidents', '1')]\n",
      "[('occupation', 'http://www.wikidata.org/entity/Q10732476'), ('occupationName', 'art collector'), ('numPresidents', '1')]\n",
      "[('occupation', 'http://www.wikidata.org/entity/Q883231'), ('occupationName', 'law clerk'), ('numPresidents', '1')]\n",
      "[('occupation', 'http://www.wikidata.org/entity/Q855091'), ('occupationName', 'guitarist'), ('numPresidents', '1')]\n",
      "[('occupation', 'http://www.wikidata.org/entity/Q10843402'), ('occupationName', 'swimmer'), ('numPresidents', '1')]\n",
      "[('occupation', 'http://www.wikidata.org/entity/Q1234713'), ('occupationName', 'theologian'), ('numPresidents', '1')]\n",
      "[('occupation', 'http://www.wikidata.org/entity/Q5428874'), ('occupationName', 'faculty member'), ('numPresidents', '1')]\n",
      "[('occupation', 'http://www.wikidata.org/entity/Q11499147'), ('occupationName', 'political activist'), ('numPresidents', '1')]\n",
      "[('occupation', 'http://www.wikidata.org/entity/Q188784'), ('occupationName', 'superhero'), ('numPresidents', '1')]\n",
      "[('occupation', 'http://www.wikidata.org/entity/Q1326886'), ('occupationName', 'electrical engineer'), ('numPresidents', '1')]\n",
      "[('occupation', 'http://www.wikidata.org/entity/Q165029'), ('occupationName', 'electrician'), ('numPresidents', '1')]\n",
      "[('occupation', 'http://www.wikidata.org/entity/Q13381863'), ('occupationName', 'fencer'), ('numPresidents', '1')]\n",
      "[('occupation', 'http://www.wikidata.org/entity/Q30461'), ('occupationName', 'president'), ('numPresidents', '1')]\n",
      "[('occupation', 'http://www.wikidata.org/entity/Q20726593'), ('occupationName', 'helicopter pilot'), ('numPresidents', '1')]\n",
      "[('occupation', 'http://www.wikidata.org/entity/Q26267537'), ('occupationName', 'serial rapist'), ('numPresidents', '1')]\n",
      "[('occupation', 'http://www.wikidata.org/entity/Q487596'), ('occupationName', 'dramaturge'), ('numPresidents', '1')]\n",
      "[('occupation', 'http://www.wikidata.org/entity/Q13382533'), ('occupationName', 'taekwondo athlete'), ('numPresidents', '1')]\n",
      "[('occupation', 'http://www.wikidata.org/entity/Q860918'), ('occupationName', 'Esperantist'), ('numPresidents', '1')]\n",
      "[('occupation', 'http://www.wikidata.org/entity/Q8246794'), ('occupationName', 'blogger'), ('numPresidents', '1')]\n",
      "[('occupation', 'http://www.wikidata.org/entity/Q1377734'), ('occupationName', 'Chernobyl liquidator'), ('numPresidents', '1')]\n",
      "[('occupation', 'http://www.wikidata.org/entity/Q26252897'), ('occupationName', 'agricultural economist'), ('numPresidents', '1')]\n",
      "[('occupation', 'http://www.wikidata.org/entity/Q4009406'), ('occupationName', 'sprinter'), ('numPresidents', '1')]\n",
      "[('occupation', 'http://www.wikidata.org/entity/Q2159907'), ('occupationName', 'criminal'), ('numPresidents', '1')]\n",
      "[('occupation', 'http://www.wikidata.org/entity/Q551835'), ('occupationName', 'physician writer'), ('numPresidents', '1')]\n",
      "[('occupation', 'http://www.wikidata.org/entity/Q82594'), ('occupationName', 'computer scientist'), ('numPresidents', '1')]\n",
      "[('occupation', 'http://www.wikidata.org/entity/Q17486376'), ('occupationName', 'sport shooter'), ('numPresidents', '1')]\n",
      "[('occupation', 'http://www.wikidata.org/entity/Q4853732'), ('occupationName', \"children's writer\"), ('numPresidents', '1')]\n",
      "[('occupation', 'http://www.wikidata.org/entity/Q130857'), ('occupationName', 'disc jockey'), ('numPresidents', '1')]\n",
      "[('occupation', 'http://www.wikidata.org/entity/Q384593'), ('occupationName', 'police officer'), ('numPresidents', '1')]\n",
      "[('occupation', 'http://www.wikidata.org/entity/Q15958642'), ('occupationName', 'political writer'), ('numPresidents', '1')]\n",
      "[('occupation', 'http://www.wikidata.org/entity/Q4178004'), ('occupationName', 'publicist'), ('numPresidents', '1')]\n",
      "[('occupation', 'http://www.wikidata.org/entity/Q2374149'), ('occupationName', 'botanist'), ('numPresidents', '1')]\n",
      "[('occupation', 'http://www.wikidata.org/entity/Q18930007'), ('occupationName', 'political philosopher'), ('numPresidents', '1')]\n"
     ]
    },
    {
     "data": {
      "text/plain": [
       "210"
      ]
     },
     "execution_count": 23,
     "metadata": {},
     "output_type": "execute_result"
    }
   ],
   "source": [
    "queryString = \"\"\"\n",
    "select ?occupation ?occupationName (count(distinct ?president) as ?numPresidents) where {\n",
    "    ?president wdt:P39/wdt:P279* wd:Q248577 ;\n",
    "               wdt:P106 ?occupation .\n",
    "\n",
    "    ?occupation <http://schema.org/name> ?occupationName .\n",
    "} order by desc(?numPresidents)\n",
    "\"\"\"\n",
    "\n",
    "print(\"Results\")\n",
    "run_query(queryString)"
   ]
  },
  {
   "cell_type": "markdown",
   "id": "d2b7c14d-59a5-402e-be1a-abef7694427e",
   "metadata": {},
   "source": [
    "There are some strange occupations for a president, such as slaveholder, DJ, comedian, pornographic actor, serial rapist or superhero. It can be interesting see which presidents has these occupations, with others information to know the context."
   ]
  },
  {
   "cell_type": "code",
   "execution_count": 24,
   "id": "353fa74b-3ed9-4c63-900d-f4c938c3a786",
   "metadata": {},
   "outputs": [
    {
     "name": "stdout",
     "output_type": "stream",
     "text": [
      "Results\n",
      "[('president', 'http://www.wikidata.org/entity/Q8612'), ('presidentName', 'Andrew Johnson'), ('occupationName', 'slaveholder'), ('countryName', 'United States of America'), ('birthDate', '1808-12-29T00:00:00Z'), ('instances', 'human')]\n",
      "[('president', 'http://www.wikidata.org/entity/Q57363'), ('presidentName', 'Andry Rajoelina'), ('occupationName', 'disc jockey'), ('countryName', 'Madagascar'), ('birthDate', '1974-05-30T00:00:00Z'), ('instances', 'human')]\n",
      "[('president', 'http://www.wikidata.org/entity/Q11891'), ('presidentName', 'James K. Polk'), ('occupationName', 'slaveholder'), ('countryName', 'United States of America'), ('birthDate', '1795-11-02T00:00:00Z'), ('instances', 'human')]\n",
      "[('president', 'http://www.wikidata.org/entity/Q162269'), ('presidentName', 'Jefferson Davis'), ('occupationName', 'slaveholder'), ('countryName', 'Confederate States of America'), ('birthDate', '1808-06-03T00:00:00Z'), ('instances', 'human')]\n",
      "[('president', 'http://www.wikidata.org/entity/Q17995110'), ('presidentName', 'Jimmy Morales'), ('occupationName', 'comedian'), ('countryName', 'Guatemala'), ('birthDate', '1969-03-18T00:00:00Z'), ('instances', 'human')]\n",
      "[('president', 'http://www.wikidata.org/entity/Q820'), ('presidentName', 'Juan Antonio Rios'), ('occupationName', 'pornographic actor'), ('countryName', 'Chile'), ('birthDate', '1888-11-10T00:00:00Z'), ('instances', 'human')]\n",
      "[('president', 'http://www.wikidata.org/entity/Q7242478'), ('presidentName', 'Prez'), ('occupationName', 'superhero'), ('countryName', 'United States of America'), ('instances', 'comics character, fictional character')]\n",
      "[('president', 'http://www.wikidata.org/entity/Q57356'), ('presidentName', 'Yahya Jammeh'), ('occupationName', 'serial rapist'), ('countryName', 'The Gambia'), ('birthDate', '1965-05-25T00:00:00Z'), ('instances', 'human')]\n"
     ]
    },
    {
     "data": {
      "text/plain": [
       "8"
      ]
     },
     "execution_count": 24,
     "metadata": {},
     "output_type": "execute_result"
    }
   ],
   "source": [
    "queryString = \"\"\"\n",
    "select distinct ?president ?presidentName ?occupationName ?countryName ?birthDate (group_concat(distinct ?instanceName; separator=\", \") as ?instances) where {\n",
    "    values ?strangeOccupation { wd:Q130857 wd:Q26267537 wd:Q188784 wd:Q488111 wd:Q245068 wd:Q10076267 }\n",
    "    \n",
    "    ?president wdt:P39 ?presidentPosition ;\n",
    "               wdt:P31 ?instance;\n",
    "               wdt:P106 ?strangeOccupation .\n",
    "               \n",
    "    optional { ?president wdt:P569 ?birthDate } .\n",
    "    \n",
    "    ?presidentPosition wdt:P279* wd:Q248577 ;\n",
    "                       wdt:P17 ?country .\n",
    "                   \n",
    "    ?country <http://schema.org/name> ?countryName .\n",
    "    ?instance <http://schema.org/name> ?instanceName .\n",
    "    ?strangeOccupation <http://schema.org/name> ?occupationName .\n",
    "    ?president <http://schema.org/name> ?presidentName .\n",
    "} order by ?presidentName\n",
    "\"\"\"\n",
    "\n",
    "print(\"Results\")\n",
    "run_query(queryString)"
   ]
  },
  {
   "cell_type": "markdown",
   "id": "bf813e37-d3fc-4ac9-9b7e-f63cf8590a7f",
   "metadata": {},
   "source": [
    "So the slaveholders, for example, are presidents of USA in 19th century, and this can be explain their \"occupation\". Also for the superhero, it is a fictional character."
   ]
  },
  {
   "cell_type": "markdown",
   "id": "ce8fd1ff-e59a-4bd2-b51a-c2f315fdb0f9",
   "metadata": {},
   "source": [
    "I can also list which is the most frequent profession (escluding \"politician\") for each country."
   ]
  },
  {
   "cell_type": "code",
   "execution_count": 25,
   "id": "35688b6b-5dd0-4653-b086-dfb76cdf7219",
   "metadata": {},
   "outputs": [
    {
     "name": "stdout",
     "output_type": "stream",
     "text": [
      "Results\n",
      "[('countryName', 'Albania'), ('occupations', 'journalist'), ('numPresidents', '3')]\n",
      "[('countryName', 'Angola'), ('occupations', 'civil engineer, writer, military personnel, poet, physician writer, partisan'), ('numPresidents', '1')]\n",
      "[('countryName', 'Armenia'), ('occupations', 'entrepreneur, university teacher, historian, military personnel, scientist'), ('numPresidents', '1')]\n",
      "[('countryName', 'Azerbaijan'), ('occupations', 'diplomat'), ('numPresidents', '1')]\n",
      "[('countryName', 'Benin'), ('occupations', 'economist, banker'), ('numPresidents', '2')]\n",
      "[('countryName', 'Botswana'), ('occupations', 'judge, journalist, writer, teacher, businessperson, nurse'), ('numPresidents', '1')]\n",
      "[('countryName', 'Burundi'), ('occupations', 'military personnel'), ('numPresidents', '2')]\n",
      "[('countryName', 'Central African Republic'), ('occupations', 'criminal, university teacher, military officer, diplomat, sovereign, lawyer'), ('numPresidents', '1')]\n",
      "[('countryName', 'Comoros'), ('occupations', 'judge, diplomat, military personnel, pharmacist'), ('numPresidents', '1')]\n",
      "[('countryName', 'Confederate States of America'), ('occupations', 'rancher, political writer, organizational founder, farmer, civil engineer, journalist, radio personality, writer, teacher, statesperson, architect, military personnel, musician, pharmacist, barrister'), ('numPresidents', '1')]\n",
      "[('countryName', 'Germany'), ('occupations', 'autobiographer, writer'), ('numPresidents', '3')]\n",
      "[('countryName', 'Ghana'), ('occupations', 'administrator, educationalist'), ('numPresidents', '5')]\n",
      "[('countryName', 'Greece'), ('occupations', 'jurist, economist, journalist, writer'), ('numPresidents', '4')]\n",
      "[('countryName', 'Guinea'), ('occupations', 'writer, statesperson, military personnel'), ('numPresidents', '2')]\n",
      "[('countryName', 'Haiti'), ('occupations', 'judge, economist, journalist, writer, teacher, physician, lawyer, businessperson'), ('numPresidents', '3')]\n",
      "[('countryName', 'Hungary'), ('occupations', 'judge, economist, writer, lawyer, military personnel, engineer'), ('numPresidents', '2')]\n",
      "[('countryName', 'Iceland'), ('occupations', 'journalist, diplomat'), ('numPresidents', '2')]\n",
      "[('countryName', 'India'), ('occupations', 'poet'), ('numPresidents', '7')]\n",
      "[('countryName', 'Indonesia'), ('occupations', 'singer, actor'), ('numPresidents', '2')]\n",
      "[('countryName', 'Iraq'), ('occupations', 'diplomat, military personnel'), ('numPresidents', '3')]\n",
      "[('countryName', 'Italy'), ('occupations', 'screenwriter, architect, philosopher, surgeon'), ('numPresidents', '5')]\n",
      "[('countryName', 'Kazakhstan'), ('occupations', 'civil servant, university teacher, economist, writer, statesperson, engineer, sociologist'), ('numPresidents', '1')]\n",
      "[('countryName', 'Kiribati'), ('occupations', 'diplomat, lawyer, association football player'), ('numPresidents', '1')]\n",
      "[('countryName', 'Kosovo'), ('occupations', 'legal historian, pedagogue, university teacher, jurist, physician, soldier'), ('numPresidents', '1')]\n",
      "[('countryName', 'Laos'), ('occupations', 'military personnel, official'), ('numPresidents', '1')]\n",
      "[('countryName', 'Lithuania'), ('occupations', 'psychotherapist, linguist, music pedagogue, basketball player, musician, banker, sociologist, Catholic priest, mechanic'), ('numPresidents', '3')]\n",
      "[('countryName', 'Madagascar'), ('occupations', 'disc jockey, businessperson'), ('numPresidents', '1')]\n",
      "[('countryName', 'Maldives'), ('occupations', 'journalist'), ('numPresidents', '1')]\n",
      "[('countryName', 'Mauritius'), ('occupations', 'lawyer, chemist'), ('numPresidents', '1')]\n",
      "[('countryName', 'Moldova'), ('occupations', 'writer, physician, businessperson'), ('numPresidents', '4')]\n",
      "[('countryName', 'Mongolia'), ('occupations', 'writer'), ('numPresidents', '2')]\n",
      "[('countryName', 'Mozambique'), ('occupations', 'entrepreneur, teacher, military personnel, poet, engineer, pediatrician'), ('numPresidents', '1')]\n",
      "[('countryName', 'Myanmar'), ('occupations', 'military personnel'), ('numPresidents', '3')]\n",
      "[('countryName', 'Namibia'), ('occupations', 'economist, autobiographer, journalist, diplomat, trade unionist'), ('numPresidents', '1')]\n",
      "[('countryName', 'Portugal'), ('occupations', 'university teacher'), ('numPresidents', '8')]\n",
      "[('countryName', 'Republic of China 1912–1949'), ('occupations', 'minister, metallurgist, foreign minister, martial artist, sculptor, governor, political theorist, librarian, military officer, erudite, composer, soldier, strategist, biographer, geographer, explorer, activist, Catholic priest, publisher, entomologist, academic, archaeologist, anthropologist, geologist, pharmacologist, public figure, accountant, bhikkhu, school teacher, science writer'), ('numPresidents', '1')]\n",
      "[('countryName', 'Republic of Kosova'), ('occupations', 'writer, literary critic'), ('numPresidents', '1')]\n",
      "[('countryName', 'Romania'), ('occupations', \"Greek-Catholic priest, theologian, philanthropist, human rights activist, researcher, physicist, art historian, military officer, teacher, architect, children's writer, art collector, manager\"), ('numPresidents', '3')]\n",
      "[('countryName', 'Serbia and Montenegro'), ('occupations', 'pedagogue, jurist'), ('numPresidents', '1')]\n",
      "[('countryName', 'Singapore'), ('occupations', 'mathematician, historian, actor, police officer, trade unionist, academic, surgeon, barrister'), ('numPresidents', '2')]\n",
      "[('countryName', 'South Africa'), ('occupations', 'political activist, autobiographer, diplomat, physician, lawyer, businessperson, poet, trade unionist, political prisoner'), ('numPresidents', '1')]\n",
      "[('countryName', 'Sri Lanka'), ('occupations', 'lawyer'), ('numPresidents', '2')]\n",
      "[('countryName', 'Taiwan'), ('occupations', 'businessperson'), ('numPresidents', '3')]\n",
      "[('countryName', 'Tanzania'), ('occupations', 'lawyer'), ('numPresidents', '2')]\n",
      "[('countryName', 'The Gambia'), ('occupations', 'serial rapist, military officer, naval officer'), ('numPresidents', '1')]\n",
      "[('countryName', 'Transnistria'), ('occupations', 'economist'), ('numPresidents', '2')]\n",
      "[('countryName', 'Trinidad and Tobago'), ('occupations', 'economist'), ('numPresidents', '5')]\n",
      "[('countryName', 'Turkmenistan'), ('occupations', 'autobiographer, dentist'), ('numPresidents', '1')]\n",
      "[('countryName', 'Uzbekistan'), ('occupations', 'statesperson, lawyer'), ('numPresidents', '1')]\n",
      "[('countryName', 'Vanuatu'), ('occupations', 'diplomat'), ('numPresidents', '2')]\n",
      "[('countryName', 'Venezuela'), ('occupations', 'writer'), ('numPresidents', '21')]\n",
      "[('countryName', 'Vietnam'), ('occupations', 'historian'), ('numPresidents', '1')]\n",
      "[('countryName', 'Zambia'), ('occupations', 'health professional, journalist, writer, soldier, business executive, electrical engineer, nurse, agricultural economist, computer professional, purchasing manager'), ('numPresidents', '2')]\n",
      "[('countryName', 'Zimbabwe'), ('occupations', 'human rights activist, pastor, lawyer, banker, trade unionist'), ('numPresidents', '1')]\n"
     ]
    },
    {
     "data": {
      "text/plain": [
       "54"
      ]
     },
     "execution_count": 25,
     "metadata": {},
     "output_type": "execute_result"
    }
   ],
   "source": [
    "queryString = \"\"\"\n",
    "select distinct ?countryName (group_concat(?occupationName; separator=\", \") as ?occupations) (max(?numPresidents) as ?numPresidents) {               \n",
    "    {\n",
    "        select ?country (max(?numPresidents) as ?moreFrequentOccupation) where {\n",
    "            {\n",
    "                select ?country ?occupation (count(distinct ?president) as ?numPresidents) where {\n",
    "                    ?president wdt:P39 ?presidentPosition ;\n",
    "                               wdt:P106 ?occupation .\n",
    "                    ?presidentPosition wdt:P279* wd:Q248577 ;\n",
    "                               wdt:P17 ?country .\n",
    "                    \n",
    "                    filter (?occupation != wd:Q82955)\n",
    "                } group by ?country ?occupation\n",
    "            }\n",
    "        }\n",
    "    } .\n",
    "    {\n",
    "        select ?country ?occupation (count(distinct ?president) as ?numPresidents) where {\n",
    "            ?president wdt:P39 ?presidentPosition ;\n",
    "                       wdt:P106 ?occupation .\n",
    "            ?presidentPosition wdt:P279* wd:Q248577 ;\n",
    "                       wdt:P17 ?country .\n",
    "            \n",
    "            filter (?occupation != wd:Q82955)\n",
    "        } group by ?country ?occupation\n",
    "    }\n",
    "    \n",
    "    filter (?numPresidents = ?moreFrequentOccupation)\n",
    "        \n",
    "    ?country <http://schema.org/name> ?countryName .\n",
    "    ?occupation <http://schema.org/name> ?occupationName .    \n",
    "} order by ?countryName ?numPresidents\n",
    "\"\"\"\n",
    "\n",
    "print(\"Results\")\n",
    "run_query(queryString)"
   ]
  },
  {
   "cell_type": "markdown",
   "id": "461bf3f7-a4ff-492b-8967-2009df7ddc50",
   "metadata": {},
   "source": [
    "## (Bonus) Comparison of gender of presidents for countries"
   ]
  },
  {
   "cell_type": "markdown",
   "id": "889c3de4-baf6-4f97-99fe-0dd5603b71ab",
   "metadata": {},
   "source": [
    "It could also be interesting to list and count the gender of the presidents for each country. First, I need to obtain the entity codes and the list of available genders."
   ]
  },
  {
   "cell_type": "code",
   "execution_count": 26,
   "id": "0985bb5e-9181-4055-98b1-11ae4876efe6",
   "metadata": {},
   "outputs": [
    {
     "name": "stdout",
     "output_type": "stream",
     "text": [
      "Results\n",
      "[('gender', 'http://www.wikidata.org/entity/Q6581097'), ('genderName', 'male'), ('numPresidents', '1551')]\n",
      "[('gender', 'http://www.wikidata.org/entity/Q1052281'), ('genderName', 'transgender female'), ('numPresidents', '1')]\n",
      "[('gender', 'http://www.wikidata.org/entity/Q6581072'), ('genderName', 'female'), ('numPresidents', '49')]\n"
     ]
    },
    {
     "data": {
      "text/plain": [
       "3"
      ]
     },
     "execution_count": 26,
     "metadata": {},
     "output_type": "execute_result"
    }
   ],
   "source": [
    "queryString = \"\"\"\n",
    "select ?gender ?genderName (count(distinct ?president) as ?numPresidents) where {    \n",
    "    ?president wdt:P39 ?presidentPosition ;\n",
    "               wdt:P21 ?gender .\n",
    "\n",
    "    ?presidentPosition wdt:P279* wd:Q248577 .    \n",
    "             \n",
    "    ?gender <http://schema.org/name> ?genderName .\n",
    "}\n",
    "\"\"\"\n",
    "\n",
    "print(\"Results\")\n",
    "run_query(queryString)"
   ]
  },
  {
   "cell_type": "markdown",
   "id": "102548db-e7c2-4449-96d6-407fa6220a97",
   "metadata": {},
   "source": [
    "And so I can count how many females and males have been presidents for each country. I can also compute a ratio female/male to see what are the more balanced countries. In particular, a can assign a score of parity, using the following formula: `-4 * ratio^2 + 4 * ratio`"
   ]
  },
  {
   "cell_type": "code",
   "execution_count": 30,
   "id": "7b0aaefb-4bb1-4299-a540-1dce0b9506d2",
   "metadata": {
    "tags": []
   },
   "outputs": [
    {
     "name": "stdout",
     "output_type": "stream",
     "text": [
      "Results\n",
      "[('countryName', 'Georgia'), ('numMales', '4'), ('numFemales', '2'), ('ratio', '0.333333333333333'), ('parityScore', '88.888888888888889')]\n",
      "[('countryName', 'Nepal'), ('numMales', '2'), ('numFemales', '1'), ('ratio', '0.333333333333333'), ('parityScore', '88.888888888888889')]\n",
      "[('countryName', 'Kosovo'), ('numMales', '5'), ('numFemales', '2'), ('ratio', '0.285714285714286'), ('parityScore', '81.63265306122449')]\n",
      "[('countryName', 'Bosnia and Herzegovina'), ('numMales', '14'), ('numFemales', '3'), ('ratio', '0.176470588235294'), ('parityScore', '58.131487889273356')]\n",
      "[('countryName', 'Iceland'), ('numMales', '5'), ('numFemales', '1'), ('ratio', '0.166666666666667'), ('parityScore', '55.555555555555556')]\n",
      "[('countryName', 'Estonia'), ('numMales', '5'), ('numFemales', '1'), ('ratio', '0.166666666666667'), ('parityScore', '55.555555555555556')]\n",
      "[('countryName', 'Croatia'), ('numMales', '10'), ('numFemales', '2'), ('ratio', '0.166666666666667'), ('parityScore', '55.555555555555556')]\n",
      "[('countryName', 'South Africa'), ('numMales', '5'), ('numFemales', '1'), ('ratio', '0.166666666666667'), ('parityScore', '55.555555555555556')]\n",
      "[('countryName', 'Kyrgyzstan'), ('numMales', '5'), ('numFemales', '1'), ('ratio', '0.166666666666667'), ('parityScore', '55.555555555555556')]\n",
      "[('countryName', 'Tanzania'), ('numMales', '5'), ('numFemales', '1'), ('ratio', '0.166666666666667'), ('parityScore', '55.555555555555556')]\n",
      "[('countryName', 'Mauritius'), ('numMales', '11'), ('numFemales', '2'), ('ratio', '0.153846153846154'), ('parityScore', '52.071005917159763')]\n",
      "[('countryName', 'Guyana'), ('numMales', '6'), ('numFemales', '1'), ('ratio', '0.142857142857143'), ('parityScore', '48.979591836734694')]\n",
      "[('countryName', 'Trinidad and Tobago'), ('numMales', '6'), ('numFemales', '1'), ('ratio', '0.142857142857143'), ('parityScore', '48.979591836734694')]\n",
      "[('countryName', 'Central African Republic'), ('numMales', '6'), ('numFemales', '1'), ('ratio', '0.142857142857143'), ('parityScore', '48.979591836734694')]\n",
      "[('countryName', 'Moldova'), ('numMales', '7'), ('numFemales', '1'), ('ratio', '0.125'), ('parityScore', '43.75')]\n",
      "[('countryName', 'Sri Lanka'), ('numMales', '7'), ('numFemales', '1'), ('ratio', '0.125'), ('parityScore', '43.75')]\n",
      "[('countryName', 'Philippines'), ('numMales', '14'), ('numFemales', '2'), ('ratio', '0.125'), ('parityScore', '43.75')]\n",
      "[('countryName', 'Ethiopia'), ('numMales', '8'), ('numFemales', '1'), ('ratio', '0.111111111111111'), ('parityScore', '39.506172839506173')]\n",
      "[('countryName', 'Indonesia'), ('numMales', '8'), ('numFemales', '1'), ('ratio', '0.111111111111111'), ('parityScore', '39.506172839506173')]\n",
      "[('countryName', 'Singapore'), ('numMales', '8'), ('numFemales', '1'), ('ratio', '0.111111111111111'), ('parityScore', '39.506172839506173')]\n",
      "[('countryName', 'Serbia'), ('numMales', '16'), ('numFemales', '2'), ('ratio', '0.111111111111111'), ('parityScore', '39.506172839506173')]\n",
      "[('countryName', 'Latvia'), ('numMales', '9'), ('numFemales', '1'), ('ratio', '0.1'), ('parityScore', '36')]\n",
      "[('countryName', 'Lithuania'), ('numMales', '10'), ('numFemales', '1'), ('ratio', '0.090909090909091'), ('parityScore', '33.057851239669421')]\n",
      "[('countryName', 'Marshall Islands'), ('numMales', '10'), ('numFemales', '1'), ('ratio', '0.090909090909091'), ('parityScore', '33.057851239669421')]\n",
      "[('countryName', 'Vietnam'), ('numMales', '11'), ('numFemales', '1'), ('ratio', '0.083333333333333'), ('parityScore', '30.555555555555556')]\n",
      "[('countryName', 'South Korea'), ('numMales', '11'), ('numFemales', '1'), ('ratio', '0.083333333333333'), ('parityScore', '30.555555555555556')]\n",
      "[('countryName', 'Burundi'), ('numMales', '11'), ('numFemales', '1'), ('ratio', '0.083333333333333'), ('parityScore', '30.555555555555556')]\n",
      "[('countryName', 'Greece'), ('numMales', '13'), ('numFemales', '1'), ('ratio', '0.071428571428571'), ('parityScore', '26.530612244897959')]\n",
      "[('countryName', 'Mongolia'), ('numMales', '13'), ('numFemales', '1'), ('ratio', '0.071428571428571'), ('parityScore', '26.530612244897959')]\n",
      "[('countryName', 'India'), ('numMales', '15'), ('numFemales', '1'), ('ratio', '0.0625'), ('parityScore', '23.4375')]\n",
      "[('countryName', 'Poland'), ('numMales', '18'), ('numFemales', '1'), ('ratio', '0.052631578947368'), ('parityScore', '19.944598337950139')]\n",
      "[('countryName', 'Taiwan'), ('numMales', '20'), ('numFemales', '1'), ('ratio', '0.047619047619048'), ('parityScore', '18.140589569160998')]\n",
      "[('countryName', 'Argentina'), ('numMales', '57'), ('numFemales', '2'), ('ratio', '0.033898305084746'), ('parityScore', '13.099683998850905')]\n",
      "[('countryName', 'United States of America'), ('numMales', '58'), ('numFemales', '2'), ('ratio', '0.033333333333333'), ('parityScore', '12.888888888888889')]\n",
      "[('countryName', 'Costa Rica'), ('numMales', '39'), ('numFemales', '1'), ('ratio', '0.025'), ('parityScore', '9.75')]\n",
      "[('countryName', 'Brazil'), ('numMales', '41'), ('numFemales', '1'), ('ratio', '0.023809523809524'), ('parityScore', '9.297052154195011')]\n",
      "[('countryName', 'Haiti'), ('numMales', '54'), ('numFemales', '1'), ('ratio', '0.018181818181818'), ('parityScore', '7.140495867768595')]\n",
      "[('countryName', 'Transnistria'), ('numMales', '5')]\n",
      "[('countryName', 'Sahrawi Arab Democratic Republic'), ('numMales', '4')]\n",
      "[('countryName', 'The Gambia'), ('numMales', '3')]\n",
      "[('countryName', 'Guinea'), ('numMales', '6')]\n",
      "[('countryName', 'Madagascar'), ('numMales', '11')]\n",
      "[('countryName', 'Mozambique'), ('numMales', '4')]\n",
      "[('countryName', 'Namibia'), ('numMales', '3')]\n",
      "[('countryName', 'Nigeria'), ('numMales', '13')]\n",
      "[('countryName', 'Uganda'), ('numMales', '12')]\n",
      "[('countryName', 'São Tomé and Príncipe'), ('numMales', '8')]\n",
      "[('countryName', 'Seychelles'), ('numMales', '5')]\n",
      "[('countryName', 'Somalia'), ('numMales', '15')]\n",
      "[('countryName', 'Ghana'), ('numMales', '14')]\n",
      "[('countryName', 'Republic of China 1912–1949'), ('numMales', '3')]\n",
      "[('countryName', \"People's Republic of China\"), ('numMales', '8')]\n",
      "[('countryName', 'Germany'), ('numMales', '12')]\n",
      "[('countryName', 'Slovenia'), ('numMales', '10')]\n",
      "[('countryName', 'Romania'), ('numMales', '10')]\n",
      "[('countryName', 'Albania'), ('numMales', '11')]\n",
      "[('countryName', 'Azerbaijan'), ('numMales', '6')]\n",
      "[('countryName', 'Kazakhstan'), ('numMales', '2')]\n",
      "[('countryName', 'Cuba'), ('numMales', '30')]\n",
      "[('countryName', 'Uzbekistan'), ('numMales', '3')]\n",
      "[('countryName', 'Hungary'), ('numMales', '10')]\n",
      "[('countryName', 'Chile'), ('numMales', '37')]\n",
      "[('countryName', 'Italy'), ('numMales', '12')]\n",
      "[('countryName', 'Armenia'), ('numMales', '4')]\n",
      "[('countryName', 'Austria'), ('numMales', '12')]\n",
      "[('countryName', 'Peru'), ('numMales', '53')]\n",
      "[('countryName', 'Portugal'), ('numMales', '19')]\n",
      "[('countryName', 'Vanuatu'), ('numMales', '15')]\n",
      "[('countryName', 'Kiribati'), ('numMales', '7')]\n",
      "[('countryName', 'Venezuela'), ('numMales', '58')]\n",
      "[('countryName', 'Paraguay'), ('numMales', '57')]\n",
      "[('countryName', 'Colombia'), ('numMales', '60')]\n",
      "[('countryName', 'Guatemala'), ('numMales', '53')]\n",
      "[('countryName', 'Honduras'), ('numMales', '83')]\n",
      "[('countryName', 'Dominica'), ('numMales', '10')]\n",
      "[('countryName', 'El Salvador'), ('numMales', '28')]\n",
      "[('countryName', 'Iraq'), ('numMales', '10')]\n",
      "[('countryName', 'Spanish Empire'), ('numMales', '1')]\n",
      "[('countryName', 'Laos'), ('numMales', '7')]\n",
      "[('countryName', 'Lebanon'), ('numMales', '22')]\n",
      "[('countryName', 'Maldives'), ('numMales', '7')]\n",
      "[('countryName', 'Myanmar'), ('numMales', '9')]\n",
      "[('countryName', 'Pakistan'), ('numMales', '15')]\n",
      "[('countryName', 'Syria'), ('numMales', '25')]\n",
      "[('countryName', 'Turkmenistan'), ('numMales', '2')]\n",
      "[('countryName', 'Angola'), ('numMales', '4')]\n",
      "[('countryName', 'Zambia'), ('numMales', '8')]\n",
      "[('countryName', 'Zimbabwe'), ('numMales', '4')]\n",
      "[('countryName', 'Mexico'), ('numMales', '59')]\n",
      "[('countryName', 'Benin'), ('numMales', '5')]\n",
      "[('countryName', 'Botswana'), ('numMales', '5')]\n",
      "[('countryName', 'Burkina Faso'), ('numMales', '10')]\n",
      "[('countryName', 'Comoros'), ('numMales', '17')]\n",
      "[('countryName', 'Democratic Republic of the Congo'), ('numMales', '6')]\n",
      "[('countryName', 'Somaliland'), ('numMales', '5')]\n",
      "[('countryName', 'Confederate States of America'), ('numMales', '1')]\n",
      "[('countryName', 'Serbia and Montenegro'), ('numMales', '2')]\n",
      "[('countryName', 'Federal Republic of Central America'), ('numMales', '25')]\n",
      "[('countryName', 'Republic of Kosova'), ('numMales', '1')]\n"
     ]
    },
    {
     "data": {
      "text/plain": [
       "99"
      ]
     },
     "execution_count": 30,
     "metadata": {},
     "output_type": "execute_result"
    }
   ],
   "source": [
    "queryString = \"\"\"\n",
    "select ?countryName ?numMales ?numFemales ?ratio ?parityScore {\n",
    "    {\n",
    "        select ?country (count(distinct ?president) as ?numMales) where {\n",
    "            ?president wdt:P39 ?presidentPosition ;\n",
    "                       wdt:P21 wd:Q6581097 .\n",
    "\n",
    "            ?presidentPosition wdt:P279* wd:Q248577 ;\n",
    "                               wdt:P17 ?country .\n",
    "        } group by ?country\n",
    "    } .\n",
    "    optional {\n",
    "        select ?country (count(distinct ?president) as ?numFemales) where {\n",
    "            ?president wdt:P39 ?presidentPosition ;\n",
    "                       wdt:P21 wd:Q6581072 .\n",
    "\n",
    "            ?presidentPosition wdt:P279* wd:Q248577 ;\n",
    "                               wdt:P17 ?country . \n",
    "        } group by ?country\n",
    "    } .\n",
    "    \n",
    "    bind (?numMales + ?numFemales as ?totalPresidents) .\n",
    "    bind (?numFemales * 1. / ?totalPresidents as ?ratio) .\n",
    "    bind ((?ratio * ?ratio * (-4.0) + 4.0 * ?ratio) * 100 as ?parityScore) .\n",
    "                   \n",
    "    ?country <http://schema.org/name> ?countryName .\n",
    "} order by desc(?parityScore)\n",
    "\"\"\"\n",
    "\n",
    "print(\"Results\")\n",
    "run_query(queryString)"
   ]
  },
  {
   "cell_type": "code",
   "execution_count": null,
   "id": "fccc27b5-db81-443a-86e2-f9b3aeb7e730",
   "metadata": {},
   "outputs": [],
   "source": []
  }
 ],
 "metadata": {
  "kernelspec": {
   "display_name": "Python 3 (ipykernel)",
   "language": "python",
   "name": "python3"
  },
  "language_info": {
   "codemirror_mode": {
    "name": "ipython",
    "version": 3
   },
   "file_extension": ".py",
   "mimetype": "text/x-python",
   "name": "python",
   "nbconvert_exporter": "python",
   "pygments_lexer": "ipython3",
   "version": "3.7.10"
  }
 },
 "nbformat": 4,
 "nbformat_minor": 5
}
