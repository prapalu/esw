{
 "cells": [
  {
   "cell_type": "markdown",
   "id": "7034c3bf-6eb0-4418-8687-7b9d2a501103",
   "metadata": {},
   "source": [
    "# General instructions\n",
    "\n",
    "The goal of the project is to materialize a set of **exploratory workloads** over a real-world, large-scale,  open-domain KG: [WikiData](https://www.wikidata.org/wiki/Wikidata:Main_Page)\n",
    "\n",
    "An exploratory workload  is composed by a set of queries, where each query is related to the information obtained previously.\n",
    "\n",
    "An exploratory workload starts with a usually vague, open ended question, and does not assume the person issuing the workload has a clear understanding of the data contained in the target database or its structure.\n",
    "\n",
    "Remeber that:\n",
    "\n",
    "1. All the queries must run in the python notebook\n",
    "2. You can use classes and properties only if you find them via a SPARQL query that must be present in the notebook\n",
    "3. You do not delete useless queries. Keep everything that is synthatically valid \n",
    "\n",
    "```\n",
    "?p <http://schema.org/name> ?name .\n",
    "```\n",
    "    \n",
    "is the BGP returning a human-readable name of a property or a class in Wikidata.\n",
    "    \n",
    "    "
   ]
  },
  {
   "cell_type": "code",
   "execution_count": 1,
   "id": "3605c9d5-5371-49a5-be8d-d66e8f417139",
   "metadata": {},
   "outputs": [],
   "source": [
    "## SETUP used later\n",
    "\n",
    "from SPARQLWrapper import SPARQLWrapper, JSON\n",
    "\n",
    "\n",
    "prefixString = \"\"\"\n",
    "##-b28f391fc8-##\n",
    "PREFIX wd: <http://www.wikidata.org/entity/> \n",
    "PREFIX wdt: <http://www.wikidata.org/prop/direct/> \n",
    "PREFIX sc: <http://schema.org/>\n",
    "\"\"\"\n",
    "\n",
    "# select and construct queries\n",
    "def run_query(queryString):\n",
    "    to_run = prefixString + \"\\n\" + queryString\n",
    "\n",
    "    sparql = SPARQLWrapper(\"http://a256-gc1-02.srv.aau.dk:5820/sparql\")\n",
    "    sparql.setTimeout(300)\n",
    "    sparql.setReturnFormat(JSON)\n",
    "    sparql.setQuery(to_run)\n",
    "\n",
    "    try :\n",
    "       results = sparql.query()\n",
    "       json_results = results.convert()\n",
    "       if len(json_results['results']['bindings'])==0:\n",
    "          print(\"Empty\")\n",
    "          return 0\n",
    "    \n",
    "       for bindings in json_results['results']['bindings']:\n",
    "          print( [ (var, value['value'])  for var, value in bindings.items() ] )\n",
    "\n",
    "       return len(json_results['results']['bindings'])\n",
    "\n",
    "    except Exception as e :\n",
    "        print(\"The operation failed\", e)\n",
    "    \n",
    "# ASk queries\n",
    "def run_ask_query(queryString):\n",
    "    to_run = prefixString + \"\\n\" + queryString\n",
    "\n",
    "    sparql = SPARQLWrapper(\"http://a256-gc1-02.srv.aau.dk:5820/sparql\")\n",
    "    sparql.setTimeout(300)\n",
    "    sparql.setReturnFormat(JSON)\n",
    "    sparql.setQuery(to_run)\n",
    "\n",
    "    try :\n",
    "        return sparql.query().convert()\n",
    "\n",
    "    except Exception as e :\n",
    "        print(\"The operation failed\", e)\n"
   ]
  },
  {
   "cell_type": "markdown",
   "id": "d477a59c-a68c-4c8f-9f97-8ca5294d7d27",
   "metadata": {},
   "source": [
    "# Sport Workflow Series (\"F1 pilots explorative search\") \n",
    "\n",
    "Consider the following exploratory information need:\n",
    "\n",
    "> explore F1 pilots, their nationality, racing teams, and the country of the parent organization of the team"
   ]
  },
  {
   "cell_type": "markdown",
   "id": "4a45c0ba-f79e-441d-bec5-84401b09db70",
   "metadata": {},
   "source": [
    "## Useful URIs for the current workflow\n",
    "\n",
    "\n",
    "The following are given:\n",
    "\n",
    "| IRI           | Description   | Role      |\n",
    "| -----------   | -----------   |-----------|\n",
    "| `wdt:P1647`   | subproperty   | predicate |\n",
    "| `wdt:P31`     | instance of   | predicate |\n",
    "| `wdt:P106`    | profession    | predicate | \n",
    "| `wdt:P279`    | subclass      | predicate |\n",
    "| `wdt:P27`     | nationality   | predicate |\n",
    "| `wdt:P17`     | country       | predicate |\n",
    "| `wd:Q10497835`| F1 Team       | node |\n",
    "| `wd:Q10841764`| F1 Driver       | node |\n",
    "| `wd:Q9671`    | Michael Schumacher      | node |\n",
    "| `wd:Q169898`  | Scuderia Ferrari         | node |\n",
    "| `wd:Q27586`   |  Ferrari         | node |\n",
    "| `wd:Q183`     | Germany       | node |\n",
    "\n",
    "\n",
    "Also consider\n",
    "\n",
    "```\n",
    "?p wdt:P106 wd:Q10841764 .\n",
    "?p wdt:P27 wd:Q183 .\n",
    "```\n",
    "\n",
    "is the BGP to retrieve all **citizens of Germany**\n",
    "\n",
    "```\n",
    "?p wdt:P17 wd:Q183 .\n",
    "?p wdt:P31 wd:Q10497835 .\n",
    "\n",
    "``` \n",
    "\n",
    "is the BGP to retrieve all **F1 teams of Germany**"
   ]
  },
  {
   "cell_type": "markdown",
   "id": "7af439fb-96e4-4dbb-a381-f19afab79f86",
   "metadata": {
    "tags": []
   },
   "source": [
    "## Workload Goals\n",
    "\n",
    "1. Identify the BGP for obtaining the team of a given  F1 driver  and also the F1 competitions in which they participated\n",
    "\n",
    "2. Identify the BGP that connects a F1 team to a parent company\n",
    "\n",
    "3. How many F1 drivers and F1 teams exist in each country?\n",
    "\n",
    "4. Compare number of F1 drivers to their nationality\n",
    " \n",
    "   4.1 Is there some driver that joined a team in their own country?\n",
    "   \n",
    "   4.2 Which team employed the larger number of drivers?\n",
    "   \n",
    "   4.3 For each country , which are the teams and drivers with the highest number of F1 race participations\n"
   ]
  },
  {
   "cell_type": "code",
   "execution_count": 2,
   "id": "24a853ab-830c-422c-afd3-e9e015b8b8ed",
   "metadata": {},
   "outputs": [],
   "source": [
    "# start your workflow here"
   ]
  },
  {
   "cell_type": "markdown",
   "id": "6a8dc5f7-3030-41bf-b047-b2110cb71eb1",
   "metadata": {},
   "source": [
    "## Identify the BGP for obtaining the team of a given F1 driver and also the F1 competitions in which they participated"
   ]
  },
  {
   "cell_type": "markdown",
   "id": "9f222e1f-b57d-4312-b24d-d8674c20c2e1",
   "metadata": {},
   "source": [
    "I can start looking for the properties of Michael Schumacher"
   ]
  },
  {
   "cell_type": "code",
   "execution_count": 3,
   "id": "ade01416-92e7-4ad7-b9a9-b8fb330750dc",
   "metadata": {},
   "outputs": [
    {
     "name": "stdout",
     "output_type": "stream",
     "text": [
      "Results\n",
      "[('p', 'http://www.wikidata.org/prop/direct/P103'), ('pName', 'native language'), ('o', 'http://www.wikidata.org/entity/Q188'), ('oName', 'German')]\n",
      "[('p', 'http://www.wikidata.org/prop/direct/P106'), ('pName', 'occupation'), ('o', 'http://www.wikidata.org/entity/Q10841764'), ('oName', 'Formula One driver')]\n",
      "[('p', 'http://www.wikidata.org/prop/direct/P106'), ('pName', 'occupation'), ('o', 'http://www.wikidata.org/entity/Q193391'), ('oName', 'diplomat')]\n",
      "[('p', 'http://www.wikidata.org/prop/direct/P106'), ('pName', 'occupation'), ('o', 'http://www.wikidata.org/entity/Q3014296'), ('oName', 'motorcycle rider')]\n",
      "[('p', 'http://www.wikidata.org/prop/direct/P108'), ('pName', 'employer'), ('o', 'http://www.wikidata.org/entity/Q740308'), ('oName', 'UNICEF')]\n",
      "[('p', 'http://www.wikidata.org/prop/direct/P1343'), ('pName', 'described by source'), ('o', 'http://www.wikidata.org/entity/Q67311526'), ('oName', 'Obalky knih.cz')]\n",
      "[('p', 'http://www.wikidata.org/prop/direct/P1344'), ('pName', 'participant in'), ('o', 'http://www.wikidata.org/entity/Q69713'), ('oName', '1994 Formula One season')]\n",
      "[('p', 'http://www.wikidata.org/prop/direct/P1344'), ('pName', 'participant in'), ('o', 'http://www.wikidata.org/entity/Q69722'), ('oName', '1995 Formula One season')]\n",
      "[('p', 'http://www.wikidata.org/prop/direct/P1344'), ('pName', 'participant in'), ('o', 'http://www.wikidata.org/entity/Q69805'), ('oName', '2000 Formula One season')]\n",
      "[('p', 'http://www.wikidata.org/prop/direct/P1344'), ('pName', 'participant in'), ('o', 'http://www.wikidata.org/entity/Q69835'), ('oName', '2001 Formula One season')]\n",
      "[('p', 'http://www.wikidata.org/prop/direct/P1344'), ('pName', 'participant in'), ('o', 'http://www.wikidata.org/entity/Q69844'), ('oName', '2002 Formula One season')]\n",
      "[('p', 'http://www.wikidata.org/prop/direct/P1344'), ('pName', 'participant in'), ('o', 'http://www.wikidata.org/entity/Q69859'), ('oName', '2003 Formula One season')]\n",
      "[('p', 'http://www.wikidata.org/prop/direct/P1344'), ('pName', 'participant in'), ('o', 'http://www.wikidata.org/entity/Q69869'), ('oName', '2004 Formula One season')]\n",
      "[('p', 'http://www.wikidata.org/prop/direct/P1412'), ('pName', 'languages spoken, written or signed'), ('o', 'http://www.wikidata.org/entity/Q1860'), ('oName', 'English')]\n",
      "[('p', 'http://www.wikidata.org/prop/direct/P1412'), ('pName', 'languages spoken, written or signed'), ('o', 'http://www.wikidata.org/entity/Q188'), ('oName', 'German')]\n",
      "[('p', 'http://www.wikidata.org/prop/direct/P1412'), ('pName', 'languages spoken, written or signed'), ('o', 'http://www.wikidata.org/entity/Q652'), ('oName', 'Italian')]\n",
      "[('p', 'http://www.wikidata.org/prop/direct/P1532'), ('pName', 'country for sport'), ('o', 'http://www.wikidata.org/entity/Q183'), ('oName', 'Germany')]\n",
      "[('p', 'http://www.wikidata.org/prop/direct/P1532'), ('pName', 'country for sport'), ('o', 'http://www.wikidata.org/entity/Q32'), ('oName', 'Luxembourg')]\n",
      "[('p', 'http://www.wikidata.org/prop/direct/P166'), ('pName', 'award received'), ('o', 'http://www.wikidata.org/entity/Q1061233'), ('oName', \"L'Équipe Champion of Champions\")]\n",
      "[('p', 'http://www.wikidata.org/prop/direct/P166'), ('pName', 'award received'), ('o', 'http://www.wikidata.org/entity/Q10855271'), ('oName', 'Knight of the Legion of Honour')]\n",
      "[('p', 'http://www.wikidata.org/prop/direct/P166'), ('pName', 'award received'), ('o', 'http://www.wikidata.org/entity/Q14539729'), ('oName', 'Commander of the Order of Merit of the Italian Republic')]\n",
      "[('p', 'http://www.wikidata.org/prop/direct/P166'), ('pName', 'award received'), ('o', 'http://www.wikidata.org/entity/Q1571341'), ('oName', 'Hall of Fame des deutschen Sports')]\n",
      "[('p', 'http://www.wikidata.org/prop/direct/P166'), ('pName', 'award received'), ('o', 'http://www.wikidata.org/entity/Q1808301'), ('oName', 'Laureus World Sports Award for Sportsman of the Year')]\n",
      "[('p', 'http://www.wikidata.org/prop/direct/P166'), ('pName', 'award received'), ('o', 'http://www.wikidata.org/entity/Q315026'), ('oName', 'Silbernes Lorbeerblatt')]\n",
      "[('p', 'http://www.wikidata.org/prop/direct/P166'), ('pName', 'award received'), ('o', 'http://www.wikidata.org/entity/Q3320370'), ('oName', 'Princess of Asturias Award for Sports')]\n",
      "[('p', 'http://www.wikidata.org/prop/direct/P166'), ('pName', 'award received'), ('o', 'http://www.wikidata.org/entity/Q58382530'), ('oName', 'honorary citizen of Sarajevo')]\n",
      "[('p', 'http://www.wikidata.org/prop/direct/P166'), ('pName', 'award received'), ('o', 'http://www.wikidata.org/entity/Q876882'), ('oName', 'German Sportspersonality of the Year')]\n",
      "[('p', 'http://www.wikidata.org/prop/direct/P19'), ('pName', 'place of birth'), ('o', 'http://www.wikidata.org/entity/Q4060'), ('oName', 'Hürth')]\n",
      "[('p', 'http://www.wikidata.org/prop/direct/P2094'), ('pName', 'competition class'), ('o', 'http://www.wikidata.org/entity/Q187579'), ('oName', '24 Hours of Le Mans')]\n",
      "[('p', 'http://www.wikidata.org/prop/direct/P2094'), ('pName', 'competition class'), ('o', 'http://www.wikidata.org/entity/Q1968'), ('oName', 'Formula One')]\n",
      "[('p', 'http://www.wikidata.org/prop/direct/P2094'), ('pName', 'competition class'), ('o', 'http://www.wikidata.org/entity/Q283085'), ('oName', 'Formula Nippon')]\n",
      "[('p', 'http://www.wikidata.org/prop/direct/P21'), ('pName', 'sex or gender'), ('o', 'http://www.wikidata.org/entity/Q6581097'), ('oName', 'male')]\n",
      "[('p', 'http://www.wikidata.org/prop/direct/P2522'), ('pName', 'victory'), ('o', 'http://www.wikidata.org/entity/Q69713'), ('oName', '1994 Formula One season')]\n",
      "[('p', 'http://www.wikidata.org/prop/direct/P2522'), ('pName', 'victory'), ('o', 'http://www.wikidata.org/entity/Q69722'), ('oName', '1995 Formula One season')]\n",
      "[('p', 'http://www.wikidata.org/prop/direct/P2522'), ('pName', 'victory'), ('o', 'http://www.wikidata.org/entity/Q69805'), ('oName', '2000 Formula One season')]\n",
      "[('p', 'http://www.wikidata.org/prop/direct/P2522'), ('pName', 'victory'), ('o', 'http://www.wikidata.org/entity/Q69835'), ('oName', '2001 Formula One season')]\n",
      "[('p', 'http://www.wikidata.org/prop/direct/P2522'), ('pName', 'victory'), ('o', 'http://www.wikidata.org/entity/Q69844'), ('oName', '2002 Formula One season')]\n",
      "[('p', 'http://www.wikidata.org/prop/direct/P2522'), ('pName', 'victory'), ('o', 'http://www.wikidata.org/entity/Q69859'), ('oName', '2003 Formula One season')]\n",
      "[('p', 'http://www.wikidata.org/prop/direct/P2522'), ('pName', 'victory'), ('o', 'http://www.wikidata.org/entity/Q69869'), ('oName', '2004 Formula One season')]\n",
      "[('p', 'http://www.wikidata.org/prop/direct/P26'), ('pName', 'spouse'), ('o', 'http://www.wikidata.org/entity/Q95171'), ('oName', 'Corinna Schumacher')]\n",
      "[('p', 'http://www.wikidata.org/prop/direct/P27'), ('pName', 'country of citizenship'), ('o', 'http://www.wikidata.org/entity/Q183'), ('oName', 'Germany')]\n",
      "[('p', 'http://www.wikidata.org/prop/direct/P31'), ('pName', 'instance of'), ('o', 'http://www.wikidata.org/entity/Q5'), ('oName', 'human')]\n",
      "[('p', 'http://www.wikidata.org/prop/direct/P3373'), ('pName', 'sibling'), ('o', 'http://www.wikidata.org/entity/Q75825'), ('oName', 'Ralf Schumacher')]\n",
      "[('p', 'http://www.wikidata.org/prop/direct/P39'), ('pName', 'position held'), ('o', 'http://www.wikidata.org/entity/Q19969187'), ('oName', 'UNICEF Goodwill Ambassador')]\n",
      "[('p', 'http://www.wikidata.org/prop/direct/P40'), ('pName', 'child'), ('o', 'http://www.wikidata.org/entity/Q18119599'), ('oName', 'Mick Schumacher')]\n",
      "[('p', 'http://www.wikidata.org/prop/direct/P54'), ('pName', 'member of sports team'), ('o', 'http://www.wikidata.org/entity/Q169898'), ('oName', 'Scuderia Ferrari')]\n",
      "[('p', 'http://www.wikidata.org/prop/direct/P54'), ('pName', 'member of sports team'), ('o', 'http://www.wikidata.org/entity/Q171329'), ('oName', 'Benetton Formula')]\n",
      "[('p', 'http://www.wikidata.org/prop/direct/P54'), ('pName', 'member of sports team'), ('o', 'http://www.wikidata.org/entity/Q171367'), ('oName', 'Jordan Grand Prix')]\n",
      "[('p', 'http://www.wikidata.org/prop/direct/P54'), ('pName', 'member of sports team'), ('o', 'http://www.wikidata.org/entity/Q172721'), ('oName', 'Mercedes')]\n",
      "[('p', 'http://www.wikidata.org/prop/direct/P641'), ('pName', 'sport'), ('o', 'http://www.wikidata.org/entity/Q5386'), ('oName', 'auto racing')]\n",
      "[('p', 'http://www.wikidata.org/prop/direct/P734'), ('pName', 'family name'), ('o', 'http://www.wikidata.org/entity/Q1773921'), ('oName', 'Schumacher')]\n",
      "[('p', 'http://www.wikidata.org/prop/direct/P735'), ('pName', 'given name'), ('o', 'http://www.wikidata.org/entity/Q4927524'), ('oName', 'Michael')]\n",
      "[('p', 'http://www.wikidata.org/prop/direct/P910'), ('pName', \"topic's main category\"), ('o', 'http://www.wikidata.org/entity/Q10196055'), ('oName', 'Category:Michael Schumacher')]\n",
      "[('p', 'http://www.wikidata.org/prop/direct/P1006'), ('pName', 'Nationale Thesaurus voor Auteurs ID'), ('o', '24331101X')]\n",
      "[('p', 'http://www.wikidata.org/prop/direct/P109'), ('pName', 'signature'), ('o', 'http://commons.wikimedia.org/wiki/Special:FilePath/Michael%20Schumacher%20Signature.svg')]\n",
      "[('p', 'http://www.wikidata.org/prop/direct/P1258'), ('pName', 'Rotten Tomatoes ID'), ('o', 'celebrity/michael_schumacher_2')]\n",
      "[('p', 'http://www.wikidata.org/prop/direct/P1263'), ('pName', 'NNDB people ID'), ('o', '219/000030129')]\n",
      "[('p', 'http://www.wikidata.org/prop/direct/P1266'), ('pName', 'AlloCiné person ID'), ('o', '37272')]\n",
      "[('p', 'http://www.wikidata.org/prop/direct/P1273'), ('pName', 'CANTIC ID'), ('o', 'a11005002')]\n",
      "[('p', 'http://www.wikidata.org/prop/direct/P1280'), ('pName', 'CONOR.SI ID'), ('o', '31859299')]\n",
      "[('p', 'http://www.wikidata.org/prop/direct/P1285'), ('pName', 'Munzinger Sport number'), ('o', '01000003337')]\n",
      "[('p', 'http://www.wikidata.org/prop/direct/P1296'), ('pName', 'Gran Enciclopèdia Catalana ID'), ('o', '0245294')]\n",
      "[('p', 'http://www.wikidata.org/prop/direct/P1350'), ('pName', 'number of matches played/races/starts'), ('o', '308')]\n",
      "[('p', 'http://www.wikidata.org/prop/direct/P1417'), ('pName', 'Encyclopædia Britannica Online ID'), ('o', 'biography/Michael-Schumacher')]\n",
      "[('p', 'http://www.wikidata.org/prop/direct/P1695'), ('pName', 'NLP ID (unique)'), ('o', 'A27968868')]\n",
      "[('p', 'http://www.wikidata.org/prop/direct/P1712'), ('pName', 'Metacritic ID'), ('o', 'person/michael-schumacher')]\n",
      "[('p', 'http://www.wikidata.org/prop/direct/P18'), ('pName', 'image'), ('o', 'http://commons.wikimedia.org/wiki/Special:FilePath/Michael%20Schumacher%202005%20United%20States%20GP%20%2819872855%29%20%28cropped%29.jpg')]\n",
      "[('p', 'http://www.wikidata.org/prop/direct/P18'), ('pName', 'image'), ('o', 'http://commons.wikimedia.org/wiki/Special:FilePath/Michael%20Schumacher%20Bernie%20Ecclestone%20September%201991%20%28cropped%29.jpg')]\n",
      "[('p', 'http://www.wikidata.org/prop/direct/P18'), ('pName', 'image'), ('o', 'http://commons.wikimedia.org/wiki/Special:FilePath/Michael%20Schumacher%20china%202012%20rotated.png')]\n",
      "[('p', 'http://www.wikidata.org/prop/direct/P1819'), ('pName', 'genealogics.org person ID'), ('o', 'I00751372')]\n",
      "[('p', 'http://www.wikidata.org/prop/direct/P1953'), ('pName', 'Discogs artist ID'), ('o', '2965429')]\n",
      "[('p', 'http://www.wikidata.org/prop/direct/P2002'), ('pName', 'Twitter username'), ('o', 'schumacher')]\n",
      "[('p', 'http://www.wikidata.org/prop/direct/P2003'), ('pName', 'Instagram username'), ('o', 'michaelschumacher')]\n",
      "[('p', 'http://www.wikidata.org/prop/direct/P2013'), ('pName', 'Facebook ID'), ('o', 'michaelschumacherofficial')]\n",
      "[('p', 'http://www.wikidata.org/prop/direct/P2019'), ('pName', 'AllMovie person ID'), ('o', 'p493191')]\n",
      "[('p', 'http://www.wikidata.org/prop/direct/P2048'), ('pName', 'height'), ('o', '174')]\n",
      "[('p', 'http://www.wikidata.org/prop/direct/P213'), ('pName', 'ISNI'), ('o', '0000 0001 1436 724X')]\n",
      "[('p', 'http://www.wikidata.org/prop/direct/P214'), ('pName', 'VIAF ID'), ('o', '2576952')]\n",
      "[('p', 'http://www.wikidata.org/prop/direct/P2163'), ('pName', 'FAST ID'), ('o', '380854')]\n",
      "[('p', 'http://www.wikidata.org/prop/direct/P2168'), ('pName', 'Swedish Film Database person ID'), ('o', '365658')]\n",
      "[('p', 'http://www.wikidata.org/prop/direct/P227'), ('pName', 'GND ID'), ('o', '119092069')]\n",
      "[('p', 'http://www.wikidata.org/prop/direct/P2397'), ('pName', 'YouTube channel ID'), ('o', 'UCXzRe4ayusF4IOSqEV-WGcA')]\n",
      "[('p', 'http://www.wikidata.org/prop/direct/P2435'), ('pName', 'PORT person ID'), ('o', '265752')]\n",
      "[('p', 'http://www.wikidata.org/prop/direct/P244'), ('pName', 'Library of Congress authority ID'), ('o', 'n96091540')]\n",
      "[('p', 'http://www.wikidata.org/prop/direct/P2604'), ('pName', 'Kinopoisk person ID'), ('o', '1114268')]\n",
      "[('p', 'http://www.wikidata.org/prop/direct/P2605'), ('pName', 'ČSFD person ID'), ('o', '27544')]\n",
      "[('p', 'http://www.wikidata.org/prop/direct/P2639'), ('pName', 'Filmportal ID'), ('o', '500e8df34cf94b3cb4b9e8c26b8de029')]\n",
      "[('p', 'http://www.wikidata.org/prop/direct/P268'), ('pName', 'Bibliothèque nationale de France ID'), ('o', '12499461g')]\n",
      "[('p', 'http://www.wikidata.org/prop/direct/P269'), ('pName', 'IdRef ID'), ('o', '086132873')]\n",
      "[('p', 'http://www.wikidata.org/prop/direct/P2924'), ('pName', 'Great Russian Encyclopedia Online ID'), ('o', '4923484')]\n",
      "[('p', 'http://www.wikidata.org/prop/direct/P3048'), ('pName', 'racing-reference.info driver ID'), ('o', 'Michael_Schumacher')]\n",
      "[('p', 'http://www.wikidata.org/prop/direct/P3219'), ('pName', 'Encyclopædia Universalis ID'), ('o', 'michael-schumacher')]\n",
      "[('p', 'http://www.wikidata.org/prop/direct/P3222'), ('pName', 'NE.se ID'), ('o', 'michael-schumacher')]\n",
      "[('p', 'http://www.wikidata.org/prop/direct/P3365'), ('pName', 'Treccani ID'), ('o', 'michael-schumacher')]\n",
      "[('p', 'http://www.wikidata.org/prop/direct/P3417'), ('pName', 'Quora topic ID'), ('o', 'Michael-Schumacher')]\n",
      "[('p', 'http://www.wikidata.org/prop/direct/P345'), ('pName', 'IMDb ID'), ('o', 'nm1635856')]\n",
      "[('p', 'http://www.wikidata.org/prop/direct/P349'), ('pName', 'National Diet Library ID'), ('o', '00621454')]\n",
      "[('p', 'http://www.wikidata.org/prop/direct/P3553'), ('pName', 'Zhihu topic ID'), ('o', '19900531')]\n",
      "[('p', 'http://www.wikidata.org/prop/direct/P3684'), ('pName', 'Driver Database driver ID'), ('o', 'michael-schumacher')]\n",
      "[('p', 'http://www.wikidata.org/prop/direct/P373'), ('pName', 'Commons category'), ('o', 'Michael Schumacher')]\n",
      "[('p', 'http://www.wikidata.org/prop/direct/P434'), ('pName', 'MusicBrainz artist ID'), ('o', '4c8776d7-ed55-435f-931c-9557b09814ca')]\n",
      "[('p', 'http://www.wikidata.org/prop/direct/P4342'), ('pName', 'Store norske leksikon ID'), ('o', 'Michael_Schumacher')]\n",
      "[('p', 'http://www.wikidata.org/prop/direct/P443'), ('pName', 'pronunciation audio'), ('o', 'http://commons.wikimedia.org/wiki/Special:FilePath/De-Michael-Schumacher.ogg')]\n",
      "[('p', 'http://www.wikidata.org/prop/direct/P4438'), ('pName', 'BFI Films, TV and people ID'), ('o', '4ce2bb5ecc128')]\n",
      "[('p', 'http://www.wikidata.org/prop/direct/P4768'), ('pName', 'cinematografo.it name or company ID'), ('o', '247209')]\n",
      "[('p', 'http://www.wikidata.org/prop/direct/P4779'), ('pName', 'MYmovies actor ID'), ('o', '102861')]\n",
      "[('p', 'http://www.wikidata.org/prop/direct/P4782'), ('pName', 'Movieplayer person ID'), ('o', '57803')]\n",
      "[('p', 'http://www.wikidata.org/prop/direct/P4985'), ('pName', 'TMDb person ID'), ('o', '216299')]\n",
      "[('p', 'http://www.wikidata.org/prop/direct/P5007'), ('pName', 'Behind The Voice Actors person ID'), ('o', 'Michael-Schumacher')]\n",
      "[('p', 'http://www.wikidata.org/prop/direct/P5019'), ('pName', 'Brockhaus Enzyklopädie online ID'), ('o', 'schumacher-michael')]\n",
      "[('p', 'http://www.wikidata.org/prop/direct/P5254'), ('pName', 'FilmTv.it person ID'), ('o', '120282')]\n",
      "[('p', 'http://www.wikidata.org/prop/direct/P5361'), ('pName', 'BNB person ID'), ('o', 'SchumacherMichael1969-')]\n",
      "[('p', 'http://www.wikidata.org/prop/direct/P5421'), ('pName', 'Trading Card Database person ID'), ('o', '81883')]\n",
      "[('p', 'http://www.wikidata.org/prop/direct/P5617'), ('pName', 'Evene ID'), ('o', 'michael-schumacher-6014')]\n",
      "[('p', 'http://www.wikidata.org/prop/direct/P569'), ('pName', 'date of birth'), ('o', '1969-01-03T00:00:00Z')]\n",
      "[('p', 'http://www.wikidata.org/prop/direct/P646'), ('pName', 'Freebase ID'), ('o', '/m/053w4')]\n",
      "[('p', 'http://www.wikidata.org/prop/direct/P6544'), ('pName', 'total points in career'), ('o', '68')]\n",
      "[('p', 'http://www.wikidata.org/prop/direct/P6544'), ('pName', 'total points in career'), ('o', '77')]\n",
      "[('p', 'http://www.wikidata.org/prop/direct/P6544'), ('pName', 'total points in career'), ('o', '155')]\n",
      "[('p', 'http://www.wikidata.org/prop/direct/P6544'), ('pName', 'total points in career'), ('o', '1566')]\n",
      "[('p', 'http://www.wikidata.org/prop/direct/P691'), ('pName', 'NKCR AUT ID'), ('o', 'xx0013987')]\n",
      "[('p', 'http://www.wikidata.org/prop/direct/P7157'), ('pName', 'The Top Tens ID'), ('o', '10070')]\n",
      "[('p', 'http://www.wikidata.org/prop/direct/P7293'), ('pName', 'PLWABN ID'), ('o', '9810562395605606')]\n",
      "[('p', 'http://www.wikidata.org/prop/direct/P7818'), ('pName', 'French Vikidia ID'), ('o', 'Michael_Schumacher')]\n",
      "[('p', 'http://www.wikidata.org/prop/direct/P7822'), ('pName', 'Italian Vikidia ID'), ('o', 'Michael_Schumacher')]\n",
      "[('p', 'http://www.wikidata.org/prop/direct/P7859'), ('pName', 'WorldCat Identities ID'), ('o', 'lccn-n96091540')]\n",
      "[('p', 'http://www.wikidata.org/prop/direct/P7902'), ('pName', 'Deutsche Biographie (GND) ID'), ('o', '119092069')]\n",
      "[('p', 'http://www.wikidata.org/prop/direct/P8140'), ('pName', 'motorsportstats.com driver ID'), ('o', 'michael-schumacher')]\n",
      "[('p', 'http://www.wikidata.org/prop/direct/P856'), ('pName', 'official website'), ('o', 'https://michael-schumacher.de')]\n",
      "[('p', 'http://www.wikidata.org/prop/direct/P8687'), ('pName', 'social media followers'), ('o', '145702')]\n",
      "[('p', 'http://www.wikidata.org/prop/direct/P935'), ('pName', 'Commons gallery'), ('o', 'Michael Schumacher')]\n",
      "[('p', 'http://www.wikidata.org/prop/direct/P9775'), ('pName', \"Treccani's Lessico del XXI Secolo ID\"), ('o', 'michael-schumacher')]\n",
      "[('p', 'http://www.w3.org/1999/02/22-rdf-syntax-ns#type'), ('o', 'http://wikiba.se/ontology#Item')]\n",
      "[('p', 'http://www.wikidata.org/prop/direct-normalized/P1006'), ('o', 'http://data.bibliotheken.nl/id/thes/p24331101X')]\n",
      "[('p', 'http://www.wikidata.org/prop/direct-normalized/P214'), ('o', 'http://viaf.org/viaf/2576952')]\n",
      "[('p', 'http://www.wikidata.org/prop/direct-normalized/P2163'), ('o', 'http://id.worldcat.org/fast/380854')]\n",
      "[('p', 'http://www.wikidata.org/prop/direct-normalized/P227'), ('o', 'https://d-nb.info/gnd/119092069')]\n",
      "[('p', 'http://www.wikidata.org/prop/direct-normalized/P244'), ('o', 'https://id.loc.gov/authorities/names/n96091540')]\n",
      "[('p', 'http://www.wikidata.org/prop/direct-normalized/P268'), ('o', 'http://data.bnf.fr/ark:/12148/cb12499461g#about')]\n",
      "[('p', 'http://www.wikidata.org/prop/direct-normalized/P269'), ('o', 'http://www.idref.fr/086132873/id')]\n",
      "[('p', 'http://www.wikidata.org/prop/direct-normalized/P349'), ('o', 'http://id.ndl.go.jp/auth/ndlna/00621454')]\n",
      "[('p', 'http://www.wikidata.org/prop/direct-normalized/P434'), ('o', 'http://musicbrainz.org/artist/4c8776d7-ed55-435f-931c-9557b09814ca')]\n",
      "[('p', 'http://www.wikidata.org/prop/direct-normalized/P5361'), ('o', 'https://bnb.data.bl.uk/doc/person/SchumacherMichael1969-')]\n",
      "[('p', 'http://www.wikidata.org/prop/direct-normalized/P646'), ('o', 'http://g.co/kg/m/053w4')]\n",
      "[('p', 'http://schema.org/name'), ('o', 'Michael Schumacher')]\n"
     ]
    },
    {
     "data": {
      "text/plain": [
       "145"
      ]
     },
     "execution_count": 3,
     "metadata": {},
     "output_type": "execute_result"
    }
   ],
   "source": [
    "queryString = \"\"\"\n",
    "select distinct ?p ?pName ?o ?oName where {\n",
    "    wd:Q9671 ?p ?o .\n",
    "    \n",
    "    optional { ?p <http://schema.org/name> ?pName . }\n",
    "    optional { ?o <http://schema.org/name> ?oName . }\n",
    "}\n",
    "\"\"\"\n",
    "\n",
    "print(\"Results\")\n",
    "run_query(queryString)"
   ]
  },
  {
   "cell_type": "markdown",
   "id": "51279b8f-6b5d-475a-aa94-b28f2abe2e18",
   "metadata": {},
   "source": [
    "The property *member of sports team (**P54**)* is the desired one about the F1 teams the driver has. For what concerns the competitions the driver has partecipated, I can rely on the property *partecipant in (**P1344**)*. Finally, the desired BGP for F1 team is:\n",
    "\n",
    "```\n",
    "?driver wdt:P54 ?team\n",
    "```"
   ]
  },
  {
   "cell_type": "markdown",
   "id": "113f6708-5bb7-4d66-9685-5e60f1a5d4f9",
   "metadata": {},
   "source": [
    "Since the competions can also be part of other leagues than F1, I can check the property for a F1 competion to look for something that connect the competion to F1."
   ]
  },
  {
   "cell_type": "code",
   "execution_count": 4,
   "id": "e22a846c-2198-4969-99c4-d4a238d380a7",
   "metadata": {},
   "outputs": [
    {
     "name": "stdout",
     "output_type": "stream",
     "text": [
      "Results\n",
      "[('p', 'http://www.wikidata.org/prop/direct/P1346'), ('pName', 'winner'), ('o', 'http://www.wikidata.org/entity/Q171337'), ('oName', 'Williams Grand Prix Engineering')]\n",
      "[('p', 'http://www.wikidata.org/prop/direct/P1346'), ('pName', 'winner'), ('o', 'http://www.wikidata.org/entity/Q9671'), ('oName', 'Michael Schumacher')]\n",
      "[('p', 'http://www.wikidata.org/prop/direct/P31'), ('pName', 'instance of'), ('o', 'http://www.wikidata.org/entity/Q27020041'), ('oName', 'sports season')]\n",
      "[('p', 'http://www.wikidata.org/prop/direct/P3450'), ('pName', 'sports season of league or competition'), ('o', 'http://www.wikidata.org/entity/Q1968'), ('oName', 'Formula One')]\n",
      "[('p', 'http://www.wikidata.org/prop/direct/P641'), ('pName', 'sport'), ('o', 'http://www.wikidata.org/entity/Q5386'), ('oName', 'auto racing')]\n",
      "[('p', 'http://www.wikidata.org/prop/direct/P664'), ('pName', 'organizer'), ('o', 'http://www.wikidata.org/entity/Q179412'), ('oName', \"Fédération Internationale de l'Automobile\")]\n",
      "[('p', 'http://www.wikidata.org/prop/direct/P910'), ('pName', \"topic's main category\"), ('o', 'http://www.wikidata.org/entity/Q8175687'), ('oName', 'Category:1994 in Formula One')]\n",
      "[('p', 'http://www.wikidata.org/prop/direct/P1132'), ('pName', 'number of participants'), ('o', '46')]\n",
      "[('p', 'http://www.wikidata.org/prop/direct/P1350'), ('pName', 'number of matches played/races/starts'), ('o', '16')]\n",
      "[('p', 'http://www.wikidata.org/prop/direct/P18'), ('pName', 'image'), ('o', 'http://commons.wikimedia.org/wiki/Special:FilePath/Benetton%20B%20194%204841.JPG')]\n",
      "[('p', 'http://www.wikidata.org/prop/direct/P214'), ('pName', 'VIAF ID'), ('o', '141530111')]\n",
      "[('p', 'http://www.wikidata.org/prop/direct/P227'), ('pName', 'GND ID'), ('o', '2138909-3')]\n",
      "[('p', 'http://www.wikidata.org/prop/direct/P2581'), ('pName', 'BabelNet ID'), ('o', '00263676n')]\n",
      "[('p', 'http://www.wikidata.org/prop/direct/P3219'), ('pName', 'Encyclopædia Universalis ID'), ('o', '1994-45e-championnat-du-monde-de-formule-1')]\n",
      "[('p', 'http://www.wikidata.org/prop/direct/P373'), ('pName', 'Commons category'), ('o', '1994 in Formula One')]\n",
      "[('p', 'http://www.wikidata.org/prop/direct/P393'), ('pName', 'edition number'), ('o', '45')]\n",
      "[('p', 'http://www.wikidata.org/prop/direct/P580'), ('pName', 'start time'), ('o', '1994-03-27T00:00:00Z')]\n",
      "[('p', 'http://www.wikidata.org/prop/direct/P582'), ('pName', 'end time'), ('o', '1994-11-13T00:00:00Z')]\n",
      "[('p', 'http://www.wikidata.org/prop/direct/P585'), ('pName', 'point in time'), ('o', '1994-01-01T00:00:00Z')]\n",
      "[('p', 'http://www.wikidata.org/prop/direct/P646'), ('pName', 'Freebase ID'), ('o', '/m/049hx8')]\n",
      "[('p', 'http://www.w3.org/1999/02/22-rdf-syntax-ns#type'), ('o', 'http://wikiba.se/ontology#Item')]\n",
      "[('p', 'http://www.wikidata.org/prop/direct-normalized/P214'), ('o', 'http://viaf.org/viaf/141530111')]\n",
      "[('p', 'http://www.wikidata.org/prop/direct-normalized/P227'), ('o', 'https://d-nb.info/gnd/2138909-3')]\n",
      "[('p', 'http://www.wikidata.org/prop/direct-normalized/P2581'), ('o', 'http://babelnet.org/rdf/s00263676n')]\n",
      "[('p', 'http://www.wikidata.org/prop/direct-normalized/P646'), ('o', 'http://g.co/kg/m/049hx8')]\n",
      "[('p', 'http://schema.org/name'), ('o', '1994 Formula One season')]\n"
     ]
    },
    {
     "data": {
      "text/plain": [
       "26"
      ]
     },
     "execution_count": 4,
     "metadata": {},
     "output_type": "execute_result"
    }
   ],
   "source": [
    "queryString = \"\"\"\n",
    "select distinct ?p ?pName ?o ?oName where {\n",
    "    wd:Q69713 ?p ?o .\n",
    "    \n",
    "    optional { ?p <http://schema.org/name> ?pName . }\n",
    "    optional { ?o <http://schema.org/name> ?oName . }\n",
    "}\n",
    "\"\"\"\n",
    "\n",
    "print(\"Results\")\n",
    "run_query(queryString)"
   ]
  },
  {
   "cell_type": "markdown",
   "id": "3d859220-bfd2-49f9-8113-6aec894583d1",
   "metadata": {},
   "source": [
    "So, the F1 competions are connected to *F1 (**Q1968**)* through the property *sports season of leauge or competion (**P3450**)*. The final BGP to get the F1 competions of a F1 driver is:\n",
    "\n",
    "```\n",
    "?driver wdt:P1344 ?competition .\n",
    "?competition wdt:P3450 wd:Q1968 .\n",
    "```"
   ]
  },
  {
   "cell_type": "markdown",
   "id": "433a8c2a-0958-4601-affa-e96312ed8e02",
   "metadata": {},
   "source": [
    "## 2. Identify the BGP that connects a F1 team to a parent company"
   ]
  },
  {
   "cell_type": "markdown",
   "id": "6a5be24f-93a7-4400-842f-ec715bef7ec7",
   "metadata": {},
   "source": [
    "I can start looking for the properties of the Scuderia Ferrari"
   ]
  },
  {
   "cell_type": "code",
   "execution_count": 5,
   "id": "6dc0f193-78fe-4ebc-bfa8-453a5488f9c9",
   "metadata": {},
   "outputs": [
    {
     "name": "stdout",
     "output_type": "stream",
     "text": [
      "Results\n",
      "[('p', 'http://www.wikidata.org/prop/direct/P17'), ('pName', 'country'), ('o', 'http://www.wikidata.org/entity/Q38'), ('oName', 'Italy')]\n",
      "[('p', 'http://www.wikidata.org/prop/direct/P31'), ('pName', 'instance of'), ('o', 'http://www.wikidata.org/entity/Q10497835'), ('oName', 'Formula One team')]\n",
      "[('p', 'http://www.wikidata.org/prop/direct/P31'), ('pName', 'instance of'), ('o', 'http://www.wikidata.org/entity/Q20074337'), ('oName', 'auto racing team')]\n",
      "[('p', 'http://www.wikidata.org/prop/direct/P355'), ('pName', 'subsidiary'), ('o', 'http://www.wikidata.org/entity/Q5445262'), ('oName', 'Ferrari Driver Academy')]\n",
      "[('p', 'http://www.wikidata.org/prop/direct/P641'), ('pName', 'sport'), ('o', 'http://www.wikidata.org/entity/Q5386'), ('oName', 'auto racing')]\n",
      "[('p', 'http://www.wikidata.org/prop/direct/P749'), ('pName', 'parent organization'), ('o', 'http://www.wikidata.org/entity/Q27586'), ('oName', 'Ferrari')]\n",
      "[('p', 'http://www.wikidata.org/prop/direct/P859'), ('pName', 'sponsor'), ('o', 'http://www.wikidata.org/entity/Q659379'), ('oName', 'Mahle GmbH')]\n",
      "[('p', 'http://www.wikidata.org/prop/direct/P859'), ('pName', 'sponsor'), ('o', 'http://www.wikidata.org/entity/Q14799'), ('oName', 'Lenovo')]\n",
      "[('p', 'http://www.wikidata.org/prop/direct/P859'), ('pName', 'sponsor'), ('o', 'http://www.wikidata.org/entity/Q691958'), ('oName', 'Hublot')]\n",
      "[('p', 'http://www.wikidata.org/prop/direct/P859'), ('pName', 'sponsor'), ('o', 'http://www.wikidata.org/entity/Q489943'), ('oName', 'Kaspersky')]\n",
      "[('p', 'http://www.wikidata.org/prop/direct/P859'), ('pName', 'sponsor'), ('o', 'http://www.wikidata.org/entity/Q653941'), ('oName', 'Ray-Ban')]\n",
      "[('p', 'http://www.wikidata.org/prop/direct/P859'), ('pName', 'sponsor'), ('o', 'http://www.wikidata.org/entity/Q806215'), ('oName', 'Banco Santander')]\n",
      "[('p', 'http://www.wikidata.org/prop/direct/P859'), ('pName', 'sponsor'), ('o', 'http://www.wikidata.org/entity/Q20652532'), ('oName', 'Weichai Holding Group')]\n",
      "[('p', 'http://www.wikidata.org/prop/direct/P859'), ('pName', 'sponsor'), ('o', 'http://www.wikidata.org/entity/Q3240764'), ('oName', 'Shell Oil Company')]\n",
      "[('p', 'http://www.wikidata.org/prop/direct/P859'), ('pName', 'sponsor'), ('o', 'http://www.wikidata.org/entity/Q128896'), ('oName', 'Advanced Micro Devices')]\n",
      "[('p', 'http://www.wikidata.org/prop/direct/P910'), ('pName', \"topic's main category\"), ('o', 'http://www.wikidata.org/entity/Q9256648'), ('oName', 'Category:Scuderia Ferrari')]\n",
      "[('p', 'http://www.wikidata.org/prop/direct/P1448'), ('pName', 'official name'), ('o', 'Scuderia Ferrari Mission Winnow')]\n",
      "[('p', 'http://www.wikidata.org/prop/direct/P1448'), ('pName', 'official name'), ('o', 'Scuderia Ferrari')]\n",
      "[('p', 'http://www.wikidata.org/prop/direct/P18'), ('pName', 'image'), ('o', 'http://commons.wikimedia.org/wiki/Special:FilePath/Sebastian%20Vettel-Ferrari-2019%20%285%29.jpg')]\n",
      "[('p', 'http://www.wikidata.org/prop/direct/P2002'), ('pName', 'Twitter username'), ('o', 'ScuderiaFerrari')]\n",
      "[('p', 'http://www.wikidata.org/prop/direct/P2003'), ('pName', 'Instagram username'), ('o', 'scuderiaferrari')]\n",
      "[('p', 'http://www.wikidata.org/prop/direct/P2013'), ('pName', 'Facebook ID'), ('o', 'ScuderiaFerrari')]\n",
      "[('p', 'http://www.wikidata.org/prop/direct/P214'), ('pName', 'VIAF ID'), ('o', '130358168')]\n",
      "[('p', 'http://www.wikidata.org/prop/direct/P2397'), ('pName', 'YouTube channel ID'), ('o', 'UCd8iY-kEHtaB8qt8MH--zGw')]\n",
      "[('p', 'http://www.wikidata.org/prop/direct/P244'), ('pName', 'Library of Congress authority ID'), ('o', 'n97068634')]\n",
      "[('p', 'http://www.wikidata.org/prop/direct/P3417'), ('pName', 'Quora topic ID'), ('o', 'Scuderia-Ferrari-2')]\n",
      "[('p', 'http://www.wikidata.org/prop/direct/P373'), ('pName', 'Commons category'), ('o', 'Scuderia Ferrari')]\n",
      "[('p', 'http://www.wikidata.org/prop/direct/P396'), ('pName', 'SBN author ID'), ('o', 'IT\\\\ICCU\\\\MODV\\\\235346')]\n",
      "[('p', 'http://www.wikidata.org/prop/direct/P4342'), ('pName', 'Store norske leksikon ID'), ('o', 'Scuderia_Ferrari')]\n",
      "[('p', 'http://www.wikidata.org/prop/direct/P571'), ('pName', 'inception'), ('o', '1929-01-01T00:00:00Z')]\n",
      "[('p', 'http://www.wikidata.org/prop/direct/P646'), ('pName', 'Freebase ID'), ('o', '/m/0179v6')]\n",
      "[('p', 'http://www.wikidata.org/prop/direct/P7859'), ('pName', 'WorldCat Identities ID'), ('o', 'lccn-n97068634')]\n",
      "[('p', 'http://www.wikidata.org/prop/direct/P856'), ('pName', 'official website'), ('o', 'https://www.ferrari.com/formula1')]\n",
      "[('p', 'http://www.wikidata.org/prop/direct/P8672'), ('pName', 'Twitter topic ID'), ('o', '854706572252987392')]\n",
      "[('p', 'http://www.wikidata.org/prop/direct/P8687'), ('pName', 'social media followers'), ('o', '2867061')]\n",
      "[('p', 'http://www.wikidata.org/prop/direct/P8687'), ('pName', 'social media followers'), ('o', '932000')]\n",
      "[('p', 'http://www.wikidata.org/prop/direct/P935'), ('pName', 'Commons gallery'), ('o', 'Scuderia Ferrari')]\n",
      "[('p', 'http://www.w3.org/1999/02/22-rdf-syntax-ns#type'), ('o', 'http://wikiba.se/ontology#Item')]\n",
      "[('p', 'http://www.wikidata.org/prop/direct-normalized/P214'), ('o', 'http://viaf.org/viaf/130358168')]\n",
      "[('p', 'http://www.wikidata.org/prop/direct-normalized/P244'), ('o', 'https://id.loc.gov/authorities/names/n97068634')]\n",
      "[('p', 'http://www.wikidata.org/prop/direct-normalized/P646'), ('o', 'http://g.co/kg/m/0179v6')]\n",
      "[('p', 'http://schema.org/name'), ('o', 'Scuderia Ferrari')]\n"
     ]
    },
    {
     "data": {
      "text/plain": [
       "42"
      ]
     },
     "execution_count": 5,
     "metadata": {},
     "output_type": "execute_result"
    }
   ],
   "source": [
    "queryString = \"\"\"\n",
    "select distinct ?p ?pName ?o ?oName where {\n",
    "    wd:Q169898 ?p ?o .\n",
    "    \n",
    "    optional { ?p <http://schema.org/name> ?pName . }\n",
    "    optional { ?o <http://schema.org/name> ?oName . }\n",
    "}\n",
    "\"\"\"\n",
    "\n",
    "print(\"Results\")\n",
    "run_query(queryString)"
   ]
  },
  {
   "cell_type": "markdown",
   "id": "f9326b5b-9c2f-45f0-a7b2-8202f1d3ee1d",
   "metadata": {},
   "source": [
    "And I can also look for the incoming properties"
   ]
  },
  {
   "cell_type": "code",
   "execution_count": 6,
   "id": "acdd8712-fb74-401c-856b-55e0f66f2c8b",
   "metadata": {},
   "outputs": [
    {
     "name": "stdout",
     "output_type": "stream",
     "text": [
      "Results\n",
      "[('p', 'http://www.wikidata.org/prop/direct/P108'), ('pName', 'employer'), ('o', 'http://www.wikidata.org/entity/Q2835947'), ('oName', 'Ben Agathangelou')]\n",
      "[('p', 'http://www.wikidata.org/prop/direct/P108'), ('pName', 'employer'), ('o', 'http://www.wikidata.org/entity/Q7107447'), ('oName', 'Ossi Oikarinen')]\n",
      "[('p', 'http://www.wikidata.org/prop/direct/P108'), ('pName', 'employer'), ('o', 'http://www.wikidata.org/entity/Q3165116'), ('oName', 'Jean-Claude Migeot')]\n",
      "[('p', 'http://www.wikidata.org/prop/direct/P108'), ('pName', 'employer'), ('o', 'http://www.wikidata.org/entity/Q173631'), ('oName', 'Pat Fry')]\n",
      "[('p', 'http://www.wikidata.org/prop/direct/P108'), ('pName', 'employer'), ('o', 'http://www.wikidata.org/entity/Q19788193'), ('oName', 'Mattia Binotto')]\n",
      "[('p', 'http://www.wikidata.org/prop/direct/P108'), ('pName', 'employer'), ('o', 'http://www.wikidata.org/entity/Q173692'), ('oName', 'Loïc Bigois')]\n",
      "[('p', 'http://www.wikidata.org/prop/direct/P108'), ('pName', 'employer'), ('o', 'http://www.wikidata.org/entity/Q173232'), ('oName', 'Jock Clear')]\n",
      "[('p', 'http://www.wikidata.org/prop/direct/P108'), ('pName', 'employer'), ('o', 'http://www.wikidata.org/entity/Q173629'), ('oName', 'Nikolas Tombazis')]\n",
      "[('p', 'http://www.wikidata.org/prop/direct/P108'), ('pName', 'employer'), ('o', 'http://www.wikidata.org/entity/Q18572825'), ('oName', 'Maurizio Arrivabene')]\n",
      "[('p', 'http://www.wikidata.org/prop/direct/P108'), ('pName', 'employer'), ('o', 'http://www.wikidata.org/entity/Q63992826'), ('oName', 'Diane Holl')]\n",
      "[('p', 'http://www.wikidata.org/prop/direct/P108'), ('pName', 'employer'), ('o', 'http://www.wikidata.org/entity/Q173658'), ('oName', 'Mauro Forghieri')]\n",
      "[('p', 'http://www.wikidata.org/prop/direct/P108'), ('pName', 'employer'), ('o', 'http://www.wikidata.org/entity/Q173555'), ('oName', 'Nigel Stepney')]\n",
      "[('p', 'http://www.wikidata.org/prop/direct/P1346'), ('pName', 'winner'), ('o', 'http://www.wikidata.org/entity/Q69387'), ('oName', '1976 Formula One season')]\n",
      "[('p', 'http://www.wikidata.org/prop/direct/P1346'), ('pName', 'winner'), ('o', 'http://www.wikidata.org/entity/Q69548'), ('oName', '1982 Formula One season')]\n",
      "[('p', 'http://www.wikidata.org/prop/direct/P1346'), ('pName', 'winner'), ('o', 'http://www.wikidata.org/entity/Q69375'), ('oName', '1975 Formula One season')]\n",
      "[('p', 'http://www.wikidata.org/prop/direct/P1346'), ('pName', 'winner'), ('o', 'http://www.wikidata.org/entity/Q69415'), ('oName', '1979 Formula One season')]\n",
      "[('p', 'http://www.wikidata.org/prop/direct/P1346'), ('pName', 'winner'), ('o', 'http://www.wikidata.org/entity/Q69913'), ('oName', '2008 Formula One World Championship')]\n",
      "[('p', 'http://www.wikidata.org/prop/direct/P1346'), ('pName', 'winner'), ('o', 'http://www.wikidata.org/entity/Q69805'), ('oName', '2000 Formula One season')]\n",
      "[('p', 'http://www.wikidata.org/prop/direct/P1346'), ('pName', 'winner'), ('o', 'http://www.wikidata.org/entity/Q69835'), ('oName', '2001 Formula One season')]\n",
      "[('p', 'http://www.wikidata.org/prop/direct/P1346'), ('pName', 'winner'), ('o', 'http://www.wikidata.org/entity/Q69844'), ('oName', '2002 Formula One season')]\n",
      "[('p', 'http://www.wikidata.org/prop/direct/P1346'), ('pName', 'winner'), ('o', 'http://www.wikidata.org/entity/Q69859'), ('oName', '2003 Formula One season')]\n",
      "[('p', 'http://www.wikidata.org/prop/direct/P1346'), ('pName', 'winner'), ('o', 'http://www.wikidata.org/entity/Q69869'), ('oName', '2004 Formula One season')]\n",
      "[('p', 'http://www.wikidata.org/prop/direct/P1346'), ('pName', 'winner'), ('o', 'http://www.wikidata.org/entity/Q69561'), ('oName', '1983 Formula One season')]\n",
      "[('p', 'http://www.wikidata.org/prop/direct/P1346'), ('pName', 'winner'), ('o', 'http://www.wikidata.org/entity/Q69901'), ('oName', '2007 Formula One World Championship')]\n",
      "[('p', 'http://www.wikidata.org/prop/direct/P1346'), ('pName', 'winner'), ('o', 'http://www.wikidata.org/entity/Q69396'), ('oName', '1977 Formula One season')]\n",
      "[('p', 'http://www.wikidata.org/prop/direct/P1346'), ('pName', 'winner'), ('o', 'http://www.wikidata.org/entity/Q69791'), ('oName', '1999 Formula One season')]\n",
      "[('p', 'http://www.wikidata.org/prop/direct/P176'), ('pName', 'manufacturer'), ('o', 'http://www.wikidata.org/entity/Q172672'), ('oName', 'Ferrari 641')]\n",
      "[('p', 'http://www.wikidata.org/prop/direct/P176'), ('pName', 'manufacturer'), ('o', 'http://www.wikidata.org/entity/Q2448513'), ('oName', 'Ferrari F1/87')]\n",
      "[('p', 'http://www.wikidata.org/prop/direct/P176'), ('pName', 'manufacturer'), ('o', 'http://www.wikidata.org/entity/Q49871114'), ('oName', 'Ferrari SF71H')]\n",
      "[('p', 'http://www.wikidata.org/prop/direct/P176'), ('pName', 'manufacturer'), ('o', 'http://www.wikidata.org/entity/Q28834991'), ('oName', 'Ferrari SF70H')]\n",
      "[('p', 'http://www.wikidata.org/prop/direct/P176'), ('pName', 'manufacturer'), ('o', 'http://www.wikidata.org/entity/Q22827601'), ('oName', 'Ferrari SF16-H')]\n",
      "[('p', 'http://www.wikidata.org/prop/direct/P301'), ('pName', \"category's main topic\"), ('o', 'http://www.wikidata.org/entity/Q9256648'), ('oName', 'Category:Scuderia Ferrari')]\n",
      "[('p', 'http://www.wikidata.org/prop/direct/P355'), ('pName', 'subsidiary'), ('o', 'http://www.wikidata.org/entity/Q27586'), ('oName', 'Ferrari')]\n",
      "[('p', 'http://www.wikidata.org/prop/direct/P463'), ('pName', 'member of'), ('o', 'http://www.wikidata.org/entity/Q171432'), ('oName', 'Didier Pironi')]\n",
      "[('p', 'http://www.wikidata.org/prop/direct/P54'), ('pName', 'member of sports team'), ('o', 'http://www.wikidata.org/entity/Q2040'), ('oName', 'Giuseppe Farina')]\n",
      "[('p', 'http://www.wikidata.org/prop/direct/P54'), ('pName', 'member of sports team'), ('o', 'http://www.wikidata.org/entity/Q3153'), ('oName', 'John Surtees')]\n",
      "[('p', 'http://www.wikidata.org/prop/direct/P54'), ('pName', 'member of sports team'), ('o', 'http://www.wikidata.org/entity/Q78489'), ('oName', 'Niki Lauda')]\n",
      "[('p', 'http://www.wikidata.org/prop/direct/P54'), ('pName', 'member of sports team'), ('o', 'http://www.wikidata.org/entity/Q171512'), ('oName', 'Robert Manzon')]\n",
      "[('p', 'http://www.wikidata.org/prop/direct/P54'), ('pName', 'member of sports team'), ('o', 'http://www.wikidata.org/entity/Q171933'), ('oName', 'Eugenio Castellotti')]\n",
      "[('p', 'http://www.wikidata.org/prop/direct/P54'), ('pName', 'member of sports team'), ('o', 'http://www.wikidata.org/entity/Q172845'), ('oName', 'Gilles Villeneuve')]\n",
      "[('p', 'http://www.wikidata.org/prop/direct/P54'), ('pName', 'member of sports team'), ('o', 'http://www.wikidata.org/entity/Q171481'), ('oName', 'Tony Brooks')]\n",
      "[('p', 'http://www.wikidata.org/prop/direct/P54'), ('pName', 'member of sports team'), ('o', 'http://www.wikidata.org/entity/Q340261'), ('oName', 'Achille Varzi')]\n",
      "[('p', 'http://www.wikidata.org/prop/direct/P54'), ('pName', 'member of sports team'), ('o', 'http://www.wikidata.org/entity/Q10494'), ('oName', 'Alain Prost')]\n",
      "[('p', 'http://www.wikidata.org/prop/direct/P54'), ('pName', 'member of sports team'), ('o', 'http://www.wikidata.org/entity/Q42311'), ('oName', 'Sebastian Vettel')]\n",
      "[('p', 'http://www.wikidata.org/prop/direct/P54'), ('pName', 'member of sports team'), ('o', 'http://www.wikidata.org/entity/Q9671'), ('oName', 'Michael Schumacher')]\n",
      "[('p', 'http://www.wikidata.org/prop/direct/P54'), ('pName', 'member of sports team'), ('o', 'http://www.wikidata.org/entity/Q11192'), ('oName', 'Kimi Räikkönen')]\n",
      "[('p', 'http://www.wikidata.org/prop/direct/P54'), ('pName', 'member of sports team'), ('o', 'http://www.wikidata.org/entity/Q78502'), ('oName', 'Gerhard Berger')]\n",
      "[('p', 'http://www.wikidata.org/prop/direct/P54'), ('pName', 'member of sports team'), ('o', 'http://www.wikidata.org/entity/Q10514'), ('oName', 'Fernando Alonso')]\n",
      "[('p', 'http://www.wikidata.org/prop/direct/P54'), ('pName', 'member of sports team'), ('o', 'http://www.wikidata.org/entity/Q173123'), ('oName', 'Jacky Ickx')]\n",
      "[('p', 'http://www.wikidata.org/prop/direct/P54'), ('pName', 'member of sports team'), ('o', 'http://www.wikidata.org/entity/Q281294'), ('oName', 'Jules Bianchi')]\n",
      "[('p', 'http://www.wikidata.org/prop/direct/P54'), ('pName', 'member of sports team'), ('o', 'http://www.wikidata.org/entity/Q174277'), ('oName', 'Tazio Nuvolari')]\n",
      "[('p', 'http://www.wikidata.org/prop/direct/P54'), ('pName', 'member of sports team'), ('o', 'http://www.wikidata.org/entity/Q172463'), ('oName', 'André Simon')]\n",
      "[('p', 'http://www.wikidata.org/prop/direct/P54'), ('pName', 'member of sports team'), ('o', 'http://www.wikidata.org/entity/Q17541912'), ('oName', 'Charles Leclerc')]\n",
      "[('p', 'http://www.wikidata.org/prop/direct/P54'), ('pName', 'member of sports team'), ('o', 'http://www.wikidata.org/entity/Q1373877'), ('oName', 'Guy Moll')]\n",
      "[('p', 'http://www.wikidata.org/prop/direct/P54'), ('pName', 'member of sports team'), ('o', 'http://www.wikidata.org/entity/Q172142'), ('oName', 'Olivier Gendebien')]\n",
      "[('p', 'http://www.wikidata.org/prop/direct/P54'), ('pName', 'member of sports team'), ('o', 'http://www.wikidata.org/entity/Q113377'), ('oName', 'Gustav Brunner')]\n",
      "[('p', 'http://www.wikidata.org/prop/direct/P54'), ('pName', 'member of sports team'), ('o', 'http://www.wikidata.org/entity/Q171518'), ('oName', 'Arturo Merzario')]\n",
      "[('p', 'http://www.wikidata.org/prop/direct/P54'), ('pName', 'member of sports team'), ('o', 'http://www.wikidata.org/entity/Q172141'), ('oName', 'Mike Parkes')]\n",
      "[('p', 'http://www.wikidata.org/prop/direct/P54'), ('pName', 'member of sports team'), ('o', 'http://www.wikidata.org/entity/Q171723'), ('oName', 'Cliff Allison')]\n",
      "[('p', 'http://www.wikidata.org/prop/direct/P664'), ('pName', 'organizer'), ('o', 'http://www.wikidata.org/entity/Q11332444'), ('oName', 'Finali Mondiali')]\n",
      "[('p', 'http://www.wikidata.org/prop/direct/P749'), ('pName', 'parent organization'), ('o', 'http://www.wikidata.org/entity/Q5445262'), ('oName', 'Ferrari Driver Academy')]\n",
      "[('p', 'http://www.wikidata.org/prop/direct/P921'), ('pName', 'main subject'), ('o', 'http://www.wikidata.org/entity/Q65962815'), ('oName', 'Ferrari in Formula One')]\n",
      "[('p', 'http://www.wikidata.org/prop/direct/P1923'), ('pName', 'participating team'), ('o', 'http://www.wikidata.org/entity/Q17455748'), ('oName', '2016 Formula One World Championship')]\n",
      "[('p', 'http://www.wikidata.org/prop/direct/P1923'), ('pName', 'participating team'), ('o', 'http://www.wikidata.org/entity/Q20755615'), ('oName', '2017 Formula One World Championship')]\n",
      "[('p', 'http://www.wikidata.org/prop/direct/P1923'), ('pName', 'participating team'), ('o', 'http://www.wikidata.org/entity/Q23051084'), ('oName', '2018 Formula One World Championship')]\n",
      "[('p', 'http://www.wikidata.org/prop/direct/P3764'), ('pName', 'pole position'), ('o', 'http://www.wikidata.org/entity/Q2196165')]\n",
      "[('p', 'http://schema.org/about'), ('o', 'https://www.wikidata.org/wiki/Special:EntityData/Q169898')]\n"
     ]
    },
    {
     "data": {
      "text/plain": [
       "67"
      ]
     },
     "execution_count": 6,
     "metadata": {},
     "output_type": "execute_result"
    }
   ],
   "source": [
    "queryString = \"\"\"\n",
    "select distinct ?p ?pName ?o ?oName where {\n",
    "    ?o ?p wd:Q169898 .\n",
    "    \n",
    "    optional { ?p <http://schema.org/name> ?pName . }\n",
    "    optional { ?o <http://schema.org/name> ?oName . }\n",
    "}\n",
    "\"\"\"\n",
    "\n",
    "print(\"Results\")\n",
    "run_query(queryString)"
   ]
  },
  {
   "cell_type": "markdown",
   "id": "de85f5fa-d8b0-4459-b19f-7ac94a64205f",
   "metadata": {},
   "source": [
    "The *parent company (**P749**)* and *subsidiary (**P355**)* are the properties I need. The desired BGP is:\n",
    "\n",
    "```\n",
    "?team ^wdt:P355|wdt:P749 ?parentCompany\n",
    "```"
   ]
  },
  {
   "cell_type": "markdown",
   "id": "edc71532-f77a-43a0-af5f-54a127c98c6a",
   "metadata": {},
   "source": [
    "I can list all the teams and their parents organizations, if any, considering that, as seen from the list of Ferrari's properties, F1 teams are instances of *F1 Team (**Q10497835**)*"
   ]
  },
  {
   "cell_type": "code",
   "execution_count": 7,
   "id": "75bd9667-6c3f-40ea-b825-2d1e82a72f6f",
   "metadata": {},
   "outputs": [
    {
     "name": "stdout",
     "output_type": "stream",
     "text": [
      "Results\n",
      "[('team', 'http://www.wikidata.org/entity/Q173314'), ('teamName', 'Enzo Coloni Racing Car Systems'), ('parentCompanies', 'Scuderia Coloni')]\n",
      "[('team', 'http://www.wikidata.org/entity/Q172030'), ('teamName', 'McLaren'), ('parentCompanies', 'McLaren Technology Group')]\n",
      "[('team', 'http://www.wikidata.org/entity/Q173179'), ('teamName', 'Marussia F1'), ('parentCompanies', 'Marussia Motors')]\n",
      "[('team', 'http://www.wikidata.org/entity/Q169898'), ('teamName', 'Scuderia Ferrari'), ('parentCompanies', 'Ferrari')]\n",
      "[('team', 'http://www.wikidata.org/entity/Q2704273'), ('teamName', 'Aston Martin F1 Team'), ('parentCompanies', 'Aston Martin Lagonda')]\n",
      "[('team', 'http://www.wikidata.org/entity/Q173295'), ('teamName', 'Modena'), ('parentCompanies', '')]\n",
      "[('team', 'http://www.wikidata.org/entity/Q174008'), ('teamName', 'Caterham F1'), ('parentCompanies', '')]\n",
      "[('team', 'http://www.wikidata.org/entity/Q842690'), ('teamName', 'Porsche'), ('parentCompanies', '')]\n",
      "[('team', 'http://www.wikidata.org/entity/Q171335'), ('teamName', 'Sauber'), ('parentCompanies', '')]\n",
      "[('team', 'http://www.wikidata.org/entity/Q173177'), ('teamName', 'March Engineering'), ('parentCompanies', '')]\n",
      "[('team', 'http://www.wikidata.org/entity/Q173054'), ('teamName', 'Midland F1 Racing'), ('parentCompanies', '')]\n",
      "[('team', 'http://www.wikidata.org/entity/Q171337'), ('teamName', 'Williams Grand Prix Engineering'), ('parentCompanies', '')]\n",
      "[('team', 'http://www.wikidata.org/entity/Q173473'), ('teamName', 'Fondmetal'), ('parentCompanies', '')]\n",
      "[('team', 'http://www.wikidata.org/entity/Q17596'), ('teamName', 'Brawn GP'), ('parentCompanies', '')]\n",
      "[('team', 'http://www.wikidata.org/entity/Q1157975'), ('teamName', 'Dallara'), ('parentCompanies', '')]\n",
      "[('team', 'http://www.wikidata.org/entity/Q172992'), ('teamName', 'Pacific Racing'), ('parentCompanies', '')]\n",
      "[('team', 'http://www.wikidata.org/entity/Q172721'), ('teamName', 'Mercedes'), ('parentCompanies', '')]\n",
      "[('team', 'http://www.wikidata.org/entity/Q173066'), ('teamName', 'Stewart Grand Prix'), ('parentCompanies', '')]\n",
      "[('team', 'http://www.wikidata.org/entity/Q61957608'), ('teamName', 'Racing Point Force India'), ('parentCompanies', '')]\n",
      "[('team', 'http://www.wikidata.org/entity/Q171972'), ('teamName', 'Life Racing Engines'), ('parentCompanies', '')]\n",
      "[('team', 'http://www.wikidata.org/entity/Q61467970'), ('teamName', 'Alfa Romeo F1 team (1950-51)'), ('parentCompanies', '')]\n",
      "[('team', 'http://www.wikidata.org/entity/Q35931'), ('teamName', 'Ligier'), ('parentCompanies', '')]\n",
      "[('team', 'http://www.wikidata.org/entity/Q171487'), ('teamName', 'Automobiles Gonfaronnaises Sportives'), ('parentCompanies', '')]\n",
      "[('team', 'http://www.wikidata.org/entity/Q173055'), ('teamName', 'Jaguar Racing'), ('parentCompanies', '')]\n",
      "[('team', 'http://www.wikidata.org/entity/Q173110'), ('teamName', 'Prost Grand Prix'), ('parentCompanies', '')]\n",
      "[('team', 'http://www.wikidata.org/entity/Q171506'), ('teamName', 'Osella'), ('parentCompanies', '')]\n",
      "[('team', 'http://www.wikidata.org/entity/Q172722'), ('teamName', 'Renault F1 Team'), ('parentCompanies', '')]\n",
      "[('team', 'http://www.wikidata.org/entity/Q171320'), ('teamName', 'British American Racing'), ('parentCompanies', '')]\n",
      "[('team', 'http://www.wikidata.org/entity/Q173293'), ('teamName', 'Andrea Moda Formula'), ('parentCompanies', '')]\n",
      "[('team', 'http://www.wikidata.org/entity/Q173018'), ('teamName', 'Lotus F1'), ('parentCompanies', '')]\n",
      "[('team', 'http://www.wikidata.org/entity/Q171342'), ('teamName', 'Honda'), ('parentCompanies', '')]\n",
      "[('team', 'http://www.wikidata.org/entity/Q88543639'), ('teamName', 'Onyx-Moneytron'), ('parentCompanies', '')]\n",
      "[('team', 'http://www.wikidata.org/entity/Q144823'), ('teamName', 'Zakspeed'), ('parentCompanies', '')]\n",
      "[('team', 'http://www.wikidata.org/entity/Q171367'), ('teamName', 'Jordan Grand Prix'), ('parentCompanies', '')]\n",
      "[('team', 'http://www.wikidata.org/entity/Q172958'), ('teamName', 'Larrousse'), ('parentCompanies', '')]\n",
      "[('team', 'http://www.wikidata.org/entity/Q1419543'), ('teamName', 'First Racing'), ('parentCompanies', '')]\n",
      "[('team', 'http://www.wikidata.org/entity/Q171992'), ('teamName', 'Tyrrell Racing'), ('parentCompanies', '')]\n",
      "[('team', 'http://www.wikidata.org/entity/Q173663'), ('teamName', 'Red Bull Racing'), ('parentCompanies', '')]\n",
      "[('team', 'http://www.wikidata.org/entity/Q171760'), ('teamName', 'Boro'), ('parentCompanies', '')]\n",
      "[('team', 'http://www.wikidata.org/entity/Q142381'), ('teamName', 'Minardi'), ('parentCompanies', '')]\n",
      "[('team', 'http://www.wikidata.org/entity/Q61979'), ('teamName', 'Panasonic Toyota Racing'), ('parentCompanies', '')]\n",
      "[('team', 'http://www.wikidata.org/entity/Q98930155'), ('teamName', 'Alpine F1 Team'), ('parentCompanies', '')]\n",
      "[('team', 'http://www.wikidata.org/entity/Q171329'), ('teamName', 'Benetton Formula'), ('parentCompanies', '')]\n",
      "[('team', 'http://www.wikidata.org/entity/Q172974'), ('teamName', 'Forti'), ('parentCompanies', '')]\n",
      "[('team', 'http://www.wikidata.org/entity/Q171326'), ('teamName', 'Super Aguri F1'), ('parentCompanies', '')]\n",
      "[('team', 'http://www.wikidata.org/entity/Q173806'), ('teamName', 'EuroBrun'), ('parentCompanies', '')]\n",
      "[('team', 'http://www.wikidata.org/entity/Q172109'), ('teamName', 'Onyx Grand Prix'), ('parentCompanies', '')]\n",
      "[('team', 'http://www.wikidata.org/entity/Q179408'), ('teamName', 'Virgin Racing'), ('parentCompanies', '')]\n",
      "[('team', 'http://www.wikidata.org/entity/Q844092'), ('teamName', 'Equipe Matra Sports'), ('parentCompanies', '')]\n",
      "[('team', 'http://www.wikidata.org/entity/Q84562599'), ('teamName', 'Alfa Romeo F1 team (2019)'), ('parentCompanies', '')]\n",
      "[('team', 'http://www.wikidata.org/entity/Q173012'), ('teamName', 'British Racing Motors'), ('parentCompanies', '')]\n",
      "[('team', 'http://www.wikidata.org/entity/Q71371541'), ('teamName', 'Scuderia AlphaTauri Grimm'), ('parentCompanies', '')]\n",
      "[('team', 'http://www.wikidata.org/entity/Q16300222'), ('teamName', 'Haas F1 Team'), ('parentCompanies', '')]\n",
      "[('team', 'http://www.wikidata.org/entity/Q2089502'), ('teamName', 'Leyton House Racing'), ('parentCompanies', '')]\n",
      "[('team', 'http://www.wikidata.org/entity/Q4097758'), ('teamName', 'Bugatti F1'), ('parentCompanies', '')]\n",
      "[('team', 'http://www.wikidata.org/entity/Q56245286'), ('teamName', 'Racing Point F1 Team'), ('parentCompanies', '')]\n",
      "[('team', 'http://www.wikidata.org/entity/Q174176'), ('teamName', 'Arrows'), ('parentCompanies', '')]\n",
      "[('team', 'http://www.wikidata.org/entity/Q104620704'), ('teamName', 'Aston Martin F1 Team'), ('parentCompanies', '')]\n",
      "[('team', 'http://www.wikidata.org/entity/Q622489'), ('teamName', 'Alfa Romeo'), ('parentCompanies', '')]\n",
      "[('team', 'http://www.wikidata.org/entity/Q172857'), ('teamName', 'Lola Cars'), ('parentCompanies', '')]\n",
      "[('team', 'http://www.wikidata.org/entity/Q171420'), ('teamName', 'HRT Formula One Team'), ('parentCompanies', '')]\n",
      "[('team', 'http://www.wikidata.org/entity/Q172765'), ('teamName', 'Spyker F1'), ('parentCompanies', '')]\n",
      "[('team', 'http://www.wikidata.org/entity/Q138933'), ('teamName', 'Force India'), ('parentCompanies', '')]\n",
      "[('team', 'http://www.wikidata.org/entity/Q172976'), ('teamName', 'Simtek'), ('parentCompanies', '')]\n",
      "[('team', 'http://www.wikidata.org/entity/Q171974'), ('teamName', 'Rial Racing'), ('parentCompanies', '')]\n",
      "[('team', 'http://www.wikidata.org/entity/Q173103'), ('teamName', 'Brabham'), ('parentCompanies', '')]\n",
      "[('team', 'http://www.wikidata.org/entity/Q141818'), ('teamName', 'Scuderia Toro Rosso'), ('parentCompanies', '')]\n"
     ]
    },
    {
     "data": {
      "text/plain": [
       "67"
      ]
     },
     "execution_count": 7,
     "metadata": {},
     "output_type": "execute_result"
    }
   ],
   "source": [
    "queryString = \"\"\"\n",
    "select ?team ?teamName (group_concat(distinct ?parentName; separator=\", \") as ?parentCompanies) where {\n",
    "    ?team wdt:P31 wd:Q10497835 .\n",
    "    \n",
    "    optional { ?team ^wdt:P355|wdt:P749 ?parentCompany . ?parentCompany <http://schema.org/name> ?parentName } .\n",
    "    \n",
    "    ?team <http://schema.org/name> ?teamName .\n",
    "} group by ?team ?teamName\n",
    "order by desc(?parentCompanies)\n",
    "\"\"\"\n",
    "\n",
    "print(\"Results\")\n",
    "run_query(queryString)"
   ]
  },
  {
   "cell_type": "markdown",
   "id": "48dbd1dd-3000-482b-82d2-2f0037aaa91a",
   "metadata": {},
   "source": [
    "## 3. How many F1 drivers and F1 teams exist in each country?"
   ]
  },
  {
   "cell_type": "markdown",
   "id": "0e6fb729-46a2-4cb7-9456-5b53f7f08edd",
   "metadata": {},
   "source": [
    "For what concern F1 drivers, I can count the number of drivers for each country."
   ]
  },
  {
   "cell_type": "code",
   "execution_count": 8,
   "id": "7ebba561-8c4c-405d-bd4c-89dda685afa6",
   "metadata": {},
   "outputs": [
    {
     "name": "stdout",
     "output_type": "stream",
     "text": [
      "Results\n",
      "[('country', 'http://www.wikidata.org/entity/Q30'), ('countryName', 'United States of America'), ('numDrivers', '245')]\n",
      "[('country', 'http://www.wikidata.org/entity/Q145'), ('countryName', 'United Kingdom'), ('numDrivers', '172')]\n",
      "[('country', 'http://www.wikidata.org/entity/Q183'), ('countryName', 'Germany'), ('numDrivers', '58')]\n",
      "[('country', 'http://www.wikidata.org/entity/Q31'), ('countryName', 'Belgium'), ('numDrivers', '28')]\n",
      "[('country', 'http://www.wikidata.org/entity/Q258'), ('countryName', 'South Africa'), ('numDrivers', '27')]\n",
      "[('country', 'http://www.wikidata.org/entity/Q414'), ('countryName', 'Argentina'), ('numDrivers', '25')]\n",
      "[('country', 'http://www.wikidata.org/entity/Q38'), ('countryName', 'Italy'), ('numDrivers', '19')]\n",
      "[('country', 'http://www.wikidata.org/entity/Q29'), ('countryName', 'Spain'), ('numDrivers', '18')]\n",
      "[('country', 'http://www.wikidata.org/entity/Q40'), ('countryName', 'Austria'), ('numDrivers', '18')]\n",
      "[('country', 'http://www.wikidata.org/entity/Q29999'), ('countryName', 'Kingdom of the Netherlands'), ('numDrivers', '17')]\n",
      "[('country', 'http://www.wikidata.org/entity/Q16'), ('countryName', 'Canada'), ('numDrivers', '16')]\n",
      "[('country', 'http://www.wikidata.org/entity/Q174193'), ('countryName', 'United Kingdom of Great Britain and Ireland'), ('numDrivers', '16')]\n",
      "[('country', 'http://www.wikidata.org/entity/Q142'), ('countryName', 'France'), ('numDrivers', '14')]\n",
      "[('country', 'http://www.wikidata.org/entity/Q33'), ('countryName', 'Finland'), ('numDrivers', '9')]\n",
      "[('country', 'http://www.wikidata.org/entity/Q172579'), ('countryName', 'Kingdom of Italy'), ('numDrivers', '9')]\n",
      "[('country', 'http://www.wikidata.org/entity/Q27'), ('countryName', 'Ireland'), ('numDrivers', '7')]\n",
      "[('country', 'http://www.wikidata.org/entity/Q155'), ('countryName', 'Brazil'), ('numDrivers', '6')]\n",
      "[('country', 'http://www.wikidata.org/entity/Q45'), ('countryName', 'Portugal'), ('numDrivers', '5')]\n",
      "[('country', 'http://www.wikidata.org/entity/Q96'), ('countryName', 'Mexico'), ('numDrivers', '5')]\n",
      "[('country', 'http://www.wikidata.org/entity/Q408'), ('countryName', 'Australia'), ('numDrivers', '3')]\n",
      "[('country', 'http://www.wikidata.org/entity/Q16957'), ('countryName', 'German Democratic Republic'), ('numDrivers', '3')]\n",
      "[('country', 'http://www.wikidata.org/entity/Q35'), ('countryName', 'Denmark'), ('numDrivers', '2')]\n",
      "[('country', 'http://www.wikidata.org/entity/Q39'), ('countryName', 'Switzerland'), ('numDrivers', '2')]\n",
      "[('country', 'http://www.wikidata.org/entity/Q36'), ('countryName', 'Poland'), ('numDrivers', '2')]\n",
      "[('country', 'http://www.wikidata.org/entity/Q869'), ('countryName', 'Thailand'), ('numDrivers', '2')]\n",
      "[('country', 'http://www.wikidata.org/entity/Q26'), ('countryName', 'Northern Ireland'), ('numDrivers', '1')]\n",
      "[('country', 'http://www.wikidata.org/entity/Q664'), ('countryName', 'New Zealand'), ('numDrivers', '1')]\n",
      "[('country', 'http://www.wikidata.org/entity/Q717'), ('countryName', 'Venezuela'), ('numDrivers', '1')]\n",
      "[('country', 'http://www.wikidata.org/entity/Q218'), ('countryName', 'Romania'), ('numDrivers', '1')]\n",
      "[('country', 'http://www.wikidata.org/entity/Q713750'), ('countryName', 'West Germany'), ('numDrivers', '1')]\n",
      "[('country', 'http://www.wikidata.org/entity/Q25'), ('countryName', 'Wales'), ('numDrivers', '1')]\n",
      "[('country', 'http://www.wikidata.org/entity/Q235'), ('countryName', 'Monaco'), ('numDrivers', '1')]\n",
      "[('country', 'http://www.wikidata.org/entity/Q230'), ('countryName', 'Georgia'), ('numDrivers', '1')]\n",
      "[('country', 'http://www.wikidata.org/entity/Q17'), ('countryName', 'Japan'), ('numDrivers', '1')]\n"
     ]
    },
    {
     "data": {
      "text/plain": [
       "34"
      ]
     },
     "execution_count": 8,
     "metadata": {},
     "output_type": "execute_result"
    }
   ],
   "source": [
    "queryString = \"\"\"\n",
    "select ?country ?countryName (count(distinct ?driver) as ?numDrivers) where {\n",
    "    ?driver wdt:P106 wd:Q10841764 ;\n",
    "            wdt:P27 ?country .\n",
    "        \n",
    "    ?country <http://schema.org/name> ?countryName .\n",
    "} group by ?country ?countryName\n",
    "order by desc(?numDrivers)\n",
    "\"\"\"\n",
    "\n",
    "print(\"Results\")\n",
    "run_query(queryString)"
   ]
  },
  {
   "cell_type": "markdown",
   "id": "2931578d-8a4e-4086-889d-0049cc3f9fa0",
   "metadata": {},
   "source": [
    "I see that there are some countries that are not existing anymore, such as West Germany or German Democratic Republic. It would be nice to merge these countries in the last one (in this case Germany). So firt, I look for the properties for West Germany (**Q713750**) and GDR (**Q16957**) to check if there is a path that connect these countries to Germany."
   ]
  },
  {
   "cell_type": "code",
   "execution_count": 9,
   "id": "52ced898-f34d-49f0-937f-72f704f7d3aa",
   "metadata": {},
   "outputs": [
    {
     "name": "stdout",
     "output_type": "stream",
     "text": [
      "Results\n",
      "[('p', 'http://www.wikidata.org/prop/direct/P1269'), ('pName', 'facet of')]\n",
      "[('p', 'http://www.wikidata.org/prop/direct/P1366'), ('pName', 'replaced by')]\n",
      "[('p', 'http://www.wikidata.org/prop/direct/P156'), ('pName', 'followed by')]\n",
      "[('p', 'http://www.wikidata.org/prop/direct/P530'), ('pName', 'diplomatic relation')]\n",
      "[('p', 'http://www.wikidata.org/prop/direct/P3842'), ('pName', 'located in present-day administrative territorial entity')]\n"
     ]
    },
    {
     "data": {
      "text/plain": [
       "5"
      ]
     },
     "execution_count": 9,
     "metadata": {},
     "output_type": "execute_result"
    }
   ],
   "source": [
    "queryString = \"\"\"\n",
    "select distinct ?p ?pName where {\n",
    "    values ?country { wd:Q713750 wd:Q16957 }\n",
    "    ?country ?p wd:Q183 .\n",
    "    \n",
    "    ?p <http://schema.org/name> ?pName .\n",
    "}\n",
    "\"\"\"\n",
    "\n",
    "print(\"Results\")\n",
    "run_query(queryString)"
   ]
  },
  {
   "cell_type": "code",
   "execution_count": 10,
   "id": "f2cf31e7-679a-412b-9238-03a780186611",
   "metadata": {},
   "outputs": [
    {
     "name": "stdout",
     "output_type": "stream",
     "text": [
      "Results\n",
      "[('p', 'http://www.wikidata.org/prop/direct/P1365'), ('pName', 'replaces')]\n"
     ]
    },
    {
     "data": {
      "text/plain": [
       "1"
      ]
     },
     "execution_count": 10,
     "metadata": {},
     "output_type": "execute_result"
    }
   ],
   "source": [
    "queryString = \"\"\"\n",
    "select distinct ?p ?pName where {\n",
    "    values ?country { wd:Q713750 wd:Q16957 }\n",
    "    wd:Q183 ?p ?country .\n",
    "    \n",
    "    ?p <http://schema.org/name> ?pName .\n",
    "}\n",
    "\"\"\"\n",
    "\n",
    "print(\"Results\")\n",
    "run_query(queryString)"
   ]
  },
  {
   "cell_type": "markdown",
   "id": "e0dfc520-cd2f-4656-bd90-f2c0fcfeb989",
   "metadata": {},
   "source": [
    "So there is a path coming from West Germany and GDR to Germany called *followed by (**P156**)* and *replaced by (**P1366**)*, and a property from Germany to West Germany/GDR called *replaces (**P1365**)*. I can write a BGP to obtain only the \"last version\" of the countries:\n",
    "\n",
    "```\n",
    "?country wdt:P156*|wdt:P1366*|^wdt:P1365* ?finalCountry .\n",
    "```\n",
    "\n",
    "So, I can rewrite the first query as follow:"
   ]
  },
  {
   "cell_type": "code",
   "execution_count": 11,
   "id": "bdc24283-c4bb-4e0f-a4d1-4d89f6b949bd",
   "metadata": {},
   "outputs": [
    {
     "name": "stdout",
     "output_type": "stream",
     "text": [
      "Results\n",
      "[('country', 'http://www.wikidata.org/entity/Q30'), ('countryName', 'United States of America'), ('numDrivers', '245')]\n",
      "[('country', 'http://www.wikidata.org/entity/Q145'), ('countryName', 'United Kingdom'), ('numDrivers', '172')]\n",
      "[('country', 'http://www.wikidata.org/entity/Q183'), ('countryName', 'Germany'), ('numDrivers', '62')]\n",
      "[('country', 'http://www.wikidata.org/entity/Q31'), ('countryName', 'Belgium'), ('numDrivers', '28')]\n",
      "[('country', 'http://www.wikidata.org/entity/Q258'), ('countryName', 'South Africa'), ('numDrivers', '27')]\n",
      "[('country', 'http://www.wikidata.org/entity/Q414'), ('countryName', 'Argentina'), ('numDrivers', '25')]\n",
      "[('country', 'http://www.wikidata.org/entity/Q27'), ('countryName', 'Ireland'), ('numDrivers', '23')]\n",
      "[('country', 'http://www.wikidata.org/entity/Q38'), ('countryName', 'Italy'), ('numDrivers', '19')]\n",
      "[('country', 'http://www.wikidata.org/entity/Q408'), ('countryName', 'Australia'), ('numDrivers', '19')]\n",
      "[('country', 'http://www.wikidata.org/entity/Q40'), ('countryName', 'Austria'), ('numDrivers', '18')]\n",
      "[('country', 'http://www.wikidata.org/entity/Q29'), ('countryName', 'Spain'), ('numDrivers', '18')]\n",
      "[('country', 'http://www.wikidata.org/entity/Q29999'), ('countryName', 'Kingdom of the Netherlands'), ('numDrivers', '17')]\n",
      "[('country', 'http://www.wikidata.org/entity/Q16'), ('countryName', 'Canada'), ('numDrivers', '16')]\n",
      "[('country', 'http://www.wikidata.org/entity/Q142'), ('countryName', 'France'), ('numDrivers', '14')]\n",
      "[('country', 'http://www.wikidata.org/entity/Q33'), ('countryName', 'Finland'), ('numDrivers', '9')]\n",
      "[('country', 'http://www.wikidata.org/entity/Q48742118'), ('countryName', 'Kingdom of Italy under Fascism'), ('numDrivers', '9')]\n",
      "[('country', 'http://www.wikidata.org/entity/Q155'), ('countryName', 'Brazil'), ('numDrivers', '6')]\n",
      "[('country', 'http://www.wikidata.org/entity/Q45'), ('countryName', 'Portugal'), ('numDrivers', '5')]\n",
      "[('country', 'http://www.wikidata.org/entity/Q96'), ('countryName', 'Mexico'), ('numDrivers', '5')]\n",
      "[('country', 'http://www.wikidata.org/entity/Q675430'), ('countryName', 'New states of Germany'), ('numDrivers', '3')]\n",
      "[('country', 'http://www.wikidata.org/entity/Q39'), ('countryName', 'Switzerland'), ('numDrivers', '2')]\n",
      "[('country', 'http://www.wikidata.org/entity/Q869'), ('countryName', 'Thailand'), ('numDrivers', '2')]\n",
      "[('country', 'http://www.wikidata.org/entity/Q35'), ('countryName', 'Denmark'), ('numDrivers', '2')]\n",
      "[('country', 'http://www.wikidata.org/entity/Q36'), ('countryName', 'Poland'), ('numDrivers', '2')]\n",
      "[('country', 'http://www.wikidata.org/entity/Q26'), ('countryName', 'Northern Ireland'), ('numDrivers', '1')]\n",
      "[('country', 'http://www.wikidata.org/entity/Q235'), ('countryName', 'Monaco'), ('numDrivers', '1')]\n",
      "[('country', 'http://www.wikidata.org/entity/Q25'), ('countryName', 'Wales'), ('numDrivers', '1')]\n",
      "[('country', 'http://www.wikidata.org/entity/Q664'), ('countryName', 'New Zealand'), ('numDrivers', '1')]\n",
      "[('country', 'http://www.wikidata.org/entity/Q706553'), ('countryName', 'County of Nice'), ('numDrivers', '1')]\n",
      "[('country', 'http://www.wikidata.org/entity/Q230'), ('countryName', 'Georgia'), ('numDrivers', '1')]\n",
      "[('country', 'http://www.wikidata.org/entity/Q717'), ('countryName', 'Venezuela'), ('numDrivers', '1')]\n",
      "[('country', 'http://www.wikidata.org/entity/Q218'), ('countryName', 'Romania'), ('numDrivers', '1')]\n",
      "[('country', 'http://www.wikidata.org/entity/Q659312'), ('countryName', 'Ligurian Republic'), ('numDrivers', '1')]\n",
      "[('country', 'http://www.wikidata.org/entity/Q17'), ('countryName', 'Japan'), ('numDrivers', '1')]\n"
     ]
    },
    {
     "data": {
      "text/plain": [
       "34"
      ]
     },
     "execution_count": 11,
     "metadata": {},
     "output_type": "execute_result"
    }
   ],
   "source": [
    "queryString = \"\"\"\n",
    "select ?country ?countryName (count(distinct ?driver) as ?numDrivers) where {\n",
    "    ?driver wdt:P106 wd:Q10841764 ;\n",
    "            wdt:P27/(wdt:P156*|wdt:P1366*|^wdt:P1365*) ?country .\n",
    "    \n",
    "    filter not exists { ?country wdt:P156|wdt:P1366 ?o }\n",
    "        \n",
    "    ?country <http://schema.org/name> ?countryName .\n",
    "} group by ?country ?countryName\n",
    "order by desc(?numDrivers)\n",
    "\"\"\"\n",
    "\n",
    "print(\"Results\")\n",
    "run_query(queryString)"
   ]
  },
  {
   "cell_type": "markdown",
   "id": "9c2c08a2-56cc-46ba-9705-95853c6fd7f8",
   "metadata": {},
   "source": [
    "And I can do the same for the F1 teams."
   ]
  },
  {
   "cell_type": "code",
   "execution_count": 12,
   "id": "84d9635b-df51-4869-acb1-24b3790dc7b5",
   "metadata": {},
   "outputs": [
    {
     "name": "stdout",
     "output_type": "stream",
     "text": [
      "Results\n",
      "[('country', 'http://www.wikidata.org/entity/Q145'), ('countryName', 'United Kingdom'), ('numTeams', '26')]\n",
      "[('country', 'http://www.wikidata.org/entity/Q38'), ('countryName', 'Italy'), ('numTeams', '16')]\n",
      "[('country', 'http://www.wikidata.org/entity/Q142'), ('countryName', 'France'), ('numTeams', '6')]\n",
      "[('country', 'http://www.wikidata.org/entity/Q55'), ('countryName', 'Netherlands'), ('numTeams', '2')]\n",
      "[('country', 'http://www.wikidata.org/entity/Q183'), ('countryName', 'Germany'), ('numTeams', '2')]\n",
      "[('country', 'http://www.wikidata.org/entity/Q17'), ('countryName', 'Japan'), ('numTeams', '2')]\n",
      "[('country', 'http://www.wikidata.org/entity/Q159'), ('countryName', 'Russia'), ('numTeams', '2')]\n",
      "[('country', 'http://www.wikidata.org/entity/Q39'), ('countryName', 'Switzerland'), ('numTeams', '1')]\n",
      "[('country', 'http://www.wikidata.org/entity/Q408'), ('countryName', 'Australia'), ('numTeams', '1')]\n",
      "[('country', 'http://www.wikidata.org/entity/Q29'), ('countryName', 'Spain'), ('numTeams', '1')]\n",
      "[('country', 'http://www.wikidata.org/entity/Q833'), ('countryName', 'Malaysia'), ('numTeams', '1')]\n"
     ]
    },
    {
     "data": {
      "text/plain": [
       "11"
      ]
     },
     "execution_count": 12,
     "metadata": {},
     "output_type": "execute_result"
    }
   ],
   "source": [
    "queryString = \"\"\"\n",
    "select ?country ?countryName (count(distinct ?team) as ?numTeams) where {\n",
    "    ?team wdt:P31 wd:Q10497835 ;\n",
    "          wdt:P17/(wdt:P156*|wdt:P1366*|^wdt:P1365*) ?country .\n",
    "    \n",
    "    filter not exists { ?country wdt:P156|wdt:P1366 ?o }\n",
    "    \n",
    "    ?country <http://schema.org/name> ?countryName . \n",
    "} group by ?country ?countryName\n",
    "order by desc(?numTeams)\n",
    "\"\"\"\n",
    "\n",
    "print(\"Results\")\n",
    "run_query(queryString)"
   ]
  },
  {
   "cell_type": "markdown",
   "id": "5be100a0-2921-47bf-948e-791e07c6f2fd",
   "metadata": {},
   "source": [
    "For what concerns the drivers, I considered the citizenship to assign a country to each driver. Another point of view can be considering the country of the driver's team, instead of the citizenship."
   ]
  },
  {
   "cell_type": "code",
   "execution_count": 13,
   "id": "0e14488b-0175-4fbe-bbe8-964146e44dcd",
   "metadata": {},
   "outputs": [
    {
     "name": "stdout",
     "output_type": "stream",
     "text": [
      "Results\n",
      "[('country', 'http://www.wikidata.org/entity/Q145'), ('countryName', 'United Kingdom'), ('numDrivers', '55')]\n",
      "[('country', 'http://www.wikidata.org/entity/Q38'), ('countryName', 'Italy'), ('numDrivers', '33')]\n",
      "[('country', 'http://www.wikidata.org/entity/Q408'), ('countryName', 'Australia'), ('numDrivers', '9')]\n",
      "[('country', 'http://www.wikidata.org/entity/Q142'), ('countryName', 'France'), ('numDrivers', '6')]\n",
      "[('country', 'http://www.wikidata.org/entity/Q39'), ('countryName', 'Switzerland'), ('numDrivers', '2')]\n",
      "[('country', 'http://www.wikidata.org/entity/Q183'), ('countryName', 'Germany'), ('numDrivers', '1')]\n",
      "[('country', 'http://www.wikidata.org/entity/Q17'), ('countryName', 'Japan'), ('numDrivers', '1')]\n",
      "[('country', 'http://www.wikidata.org/entity/Q833'), ('countryName', 'Malaysia'), ('numDrivers', '1')]\n",
      "[('country', 'http://www.wikidata.org/entity/Q159'), ('countryName', 'Russia'), ('numDrivers', '1')]\n"
     ]
    },
    {
     "data": {
      "text/plain": [
       "9"
      ]
     },
     "execution_count": 13,
     "metadata": {},
     "output_type": "execute_result"
    }
   ],
   "source": [
    "queryString = \"\"\"\n",
    "select ?country ?countryName (count(distinct ?driver) as ?numDrivers) where {\n",
    "    ?driver wdt:P106 wd:Q10841764 ;\n",
    "            wdt:P54 ?team .\n",
    "    \n",
    "    ?team wdt:P31 wd:Q10497835 ;\n",
    "          wdt:P17/(wdt:P156*|wdt:P1366*|^wdt:P1365*) ?country .\n",
    "    filter not exists { ?country wdt:P156|wdt:P1366 ?o }\n",
    "    \n",
    "    ?country <http://schema.org/name> ?countryName .\n",
    "} group by ?country ?countryName\n",
    "order by desc(?numDrivers)\n",
    "\"\"\"\n",
    "\n",
    "print(\"Results\")\n",
    "run_query(queryString)"
   ]
  },
  {
   "cell_type": "markdown",
   "id": "4d82514b-9d4d-4563-aaa2-ff7bad37088b",
   "metadata": {},
   "source": [
    "## 4.1. Is there some driver that joined a team in their own country?"
   ]
  },
  {
   "cell_type": "markdown",
   "id": "ae74b605-ca7d-4491-8e66-3a5b43dc0754",
   "metadata": {},
   "source": [
    "In order to answer to this question, I can select the drivers wich have same nationality and team's country"
   ]
  },
  {
   "cell_type": "code",
   "execution_count": 14,
   "id": "0f506332-720c-4a39-a09a-d6eb9279f12a",
   "metadata": {},
   "outputs": [
    {
     "name": "stdout",
     "output_type": "stream",
     "text": [
      "Results\n"
     ]
    },
    {
     "data": {
      "text/plain": [
       "{'head': {'link': []}, 'boolean': True}"
      ]
     },
     "execution_count": 14,
     "metadata": {},
     "output_type": "execute_result"
    }
   ],
   "source": [
    "queryString = \"\"\"\n",
    "ask where {\n",
    "    ?driver wdt:P106 wd:Q10841764 ;\n",
    "            wdt:P27 ?country ;\n",
    "            wdt:P54 ?team .\n",
    "    \n",
    "    ?team wdt:P31 wd:Q10497835 ;\n",
    "          wdt:P17/(wdt:P156*|wdt:P1366*|^wdt:P1365*) ?country .\n",
    "    filter not exists { ?country wdt:P156|wdt:P1366 ?o }\n",
    "    \n",
    "    ?country <http://schema.org/name> ?countryName .\n",
    "}\n",
    "\"\"\"\n",
    "\n",
    "print(\"Results\")\n",
    "run_ask_query(queryString)"
   ]
  },
  {
   "cell_type": "markdown",
   "id": "9348f4f2-6d4e-461a-8ff4-2e605007c925",
   "metadata": {},
   "source": [
    "There are some drivers that joined a team in their own country. I can also count how many drivers for country has the same nationality of their team's country, and compare to the total number of drivers of that country, to calculate a sort of \"patriotism\" level of the country's drivers."
   ]
  },
  {
   "cell_type": "code",
   "execution_count": 15,
   "id": "6b546f38-ee6e-4db2-9395-871ed25a2f53",
   "metadata": {},
   "outputs": [
    {
     "name": "stdout",
     "output_type": "stream",
     "text": [
      "Results\n",
      "[('country', 'http://www.wikidata.org/entity/Q408'), ('countryName', 'Australia'), ('numTotalDrivers', '3'), ('numPatrioticDrivers', '1'), ('patriotismLevel', '33.333333333333333')]\n",
      "[('country', 'http://www.wikidata.org/entity/Q38'), ('countryName', 'Italy'), ('numTotalDrivers', '19'), ('numPatrioticDrivers', '6'), ('patriotismLevel', '31.578947368421053')]\n",
      "[('country', 'http://www.wikidata.org/entity/Q145'), ('countryName', 'United Kingdom'), ('numTotalDrivers', '172'), ('numPatrioticDrivers', '20'), ('patriotismLevel', '11.627906976744186')]\n",
      "[('country', 'http://www.wikidata.org/entity/Q142'), ('countryName', 'France'), ('numTotalDrivers', '14'), ('numPatrioticDrivers', '1'), ('patriotismLevel', '7.142857142857143')]\n"
     ]
    },
    {
     "data": {
      "text/plain": [
       "4"
      ]
     },
     "execution_count": 15,
     "metadata": {},
     "output_type": "execute_result"
    }
   ],
   "source": [
    "queryString = \"\"\"\n",
    "select ?country ?countryName ?numTotalDrivers ?numPatrioticDrivers ?patriotismLevel where {\n",
    "    {\n",
    "        select ?originalCountry (count(distinct ?driver) as ?numTotalDrivers) where {\n",
    "            ?driver wdt:P106 wd:Q10841764 ;\n",
    "                    wdt:P27 ?originalCountry .\n",
    "        }\n",
    "    } .\n",
    "    \n",
    "    {\n",
    "        select ?originalCountry (count(distinct ?driver) as ?numPatrioticDrivers) where {\n",
    "            ?driver wdt:P106 wd:Q10841764 ;\n",
    "                        wdt:P27 ?originalCountry ;\n",
    "                        wdt:P54 ?team .\n",
    "\n",
    "            ?team wdt:P31 wd:Q10497835 ;\n",
    "                  wdt:P17 ?originalCountry .\n",
    "        }\n",
    "    }\n",
    "    \n",
    "    ?originalCountry wdt:P156*|wdt:P1366*|^wdt:P1365* ?country .\n",
    "    filter not exists { ?originalCountry wdt:P156|wdt:P1366 ?o }\n",
    "    ?country <http://schema.org/name> ?countryName .\n",
    "    \n",
    "    bind (xsd:int(?numPatrioticDrivers) * 100. / xsd:int(?numTotalDrivers) as ?patriotismLevel) .\n",
    "    \n",
    "} group by ?country ?countryName\n",
    "order by desc(?patriotismLevel)\n",
    "\"\"\"\n",
    "\n",
    "print(\"Results\")\n",
    "run_query(queryString)"
   ]
  },
  {
   "cell_type": "markdown",
   "id": "45732065-d764-4ccc-97c3-b38749a9159b",
   "metadata": {},
   "source": [
    "## 4.2 Which team employed the larger number of drivers?"
   ]
  },
  {
   "cell_type": "markdown",
   "id": "033c1ea1-6d1b-4f6a-afde-a31894ca17b6",
   "metadata": {},
   "source": [
    "As done for the countries, I can simply count how many distinct drivers every team has, using the *member of sports team* property"
   ]
  },
  {
   "cell_type": "code",
   "execution_count": 16,
   "id": "ea58845d-5bef-4552-aa01-f84de45e7c7c",
   "metadata": {},
   "outputs": [
    {
     "name": "stdout",
     "output_type": "stream",
     "text": [
      "Results\n",
      "[('team', 'http://www.wikidata.org/entity/Q169898'), ('teamName', 'Scuderia Ferrari'), ('numDrivers', '15')]\n"
     ]
    },
    {
     "data": {
      "text/plain": [
       "1"
      ]
     },
     "execution_count": 16,
     "metadata": {},
     "output_type": "execute_result"
    }
   ],
   "source": [
    "queryString = \"\"\"\n",
    "select ?team ?teamName (count(distinct ?driver) as ?numDrivers) where {\n",
    "    ?team wdt:P31 wd:Q10497835 .\n",
    "    \n",
    "    ?driver wdt:P106 wd:Q10841764 ;\n",
    "            wdt:P54 ?team .\n",
    "    \n",
    "    ?team <http://schema.org/name> ?teamName .\n",
    "} group by ?team ?teamName\n",
    "order by desc(?numDrivers)\n",
    "limit 1\n",
    "\"\"\"\n",
    "\n",
    "print(\"Results\")\n",
    "run_query(queryString)"
   ]
  },
  {
   "cell_type": "markdown",
   "id": "fef8eeef-4bae-4ae7-a39e-0390fb210683",
   "metadata": {},
   "source": [
    "**Scuderia Ferrari** is the team that employed the larger number of drivers, with 15 drivers."
   ]
  },
  {
   "cell_type": "markdown",
   "id": "c39615b7-0e53-4538-8644-4a8aa3466277",
   "metadata": {},
   "source": [
    "## 4.3. For each country , which are the teams and drivers with the highest number of F1 race participations"
   ]
  },
  {
   "cell_type": "markdown",
   "id": "f62bee8d-79da-437c-ab42-c763fbf92331",
   "metadata": {},
   "source": [
    "Start looking for the highest number of teams and drivers F1 race partecipations. For what concerns teams, I need to sum all the competitions of the drivers has partecipated in."
   ]
  },
  {
   "cell_type": "code",
   "execution_count": 17,
   "id": "882a18a5-54b8-4bb4-b09d-f2b6cc6abe1f",
   "metadata": {},
   "outputs": [
    {
     "name": "stdout",
     "output_type": "stream",
     "text": [
      "Results\n",
      "[('countryName', 'Brazil'), ('driver', 'http://www.wikidata.org/entity/Q10490'), ('driverName', 'Ayrton Senna'), ('numPartecipations', '11')]\n",
      "[('countryName', 'Canada'), ('driver', 'http://www.wikidata.org/entity/Q172285'), ('driverName', 'Eppie Wietzes'), ('numPartecipations', '2')]\n",
      "[('countryName', 'Germany'), ('driver', 'http://www.wikidata.org/entity/Q9671'), ('driverName', 'Michael Schumacher'), ('numPartecipations', '7')]\n",
      "[('countryName', 'Spain'), ('driver', 'http://www.wikidata.org/entity/Q10514'), ('driverName', 'Fernando Alonso'), ('numPartecipations', '15')]\n",
      "[('countryName', 'Spain'), ('driver', 'http://www.wikidata.org/entity/Q173379'), ('driverName', 'Luis Pérez-Sala'), ('numPartecipations', '2')]\n",
      "[('countryName', 'Thailand'), ('driver', 'http://www.wikidata.org/entity/Q16149172'), ('driverName', 'Alexander Albon'), ('numPartecipations', '1')]\n",
      "[('countryName', 'United Kingdom'), ('driver', 'http://www.wikidata.org/entity/Q16149172'), ('driverName', 'Alexander Albon'), ('numPartecipations', '1')]\n"
     ]
    },
    {
     "data": {
      "text/plain": [
       "7"
      ]
     },
     "execution_count": 17,
     "metadata": {},
     "output_type": "execute_result"
    }
   ],
   "source": [
    "queryString = \"\"\"\n",
    "select ?countryName ?driver ?driverName (count(distinct ?competition) as ?numPartecipations) where {\n",
    "    ?driver wdt:P106 wd:Q10841764 ;\n",
    "            wdt:P27/(wdt:P156*|wdt:P1366*|^wdt:P1365*) ?country ;\n",
    "            wdt:P1344 ?competition .\n",
    "            \n",
    "    filter not exists { ?country wdt:P156|wdt:P1366 ?o }\n",
    "            \n",
    "    ?competition wdt:P3450 wd:Q1968 .\n",
    "    \n",
    "    ?driver <http://schema.org/name> ?driverName .\n",
    "    ?country <http://schema.org/name> ?countryName .\n",
    "} group by ?countryName ?driver ?driverName\n",
    "order by ?countryName desc(?numPartecipations)\n",
    "\"\"\"\n",
    "\n",
    "print(\"Results\")\n",
    "run_query(queryString)"
   ]
  },
  {
   "cell_type": "code",
   "execution_count": 18,
   "id": "ecac169c-8987-439f-88a3-21feafc8cd23",
   "metadata": {},
   "outputs": [
    {
     "name": "stdout",
     "output_type": "stream",
     "text": [
      "Results\n",
      "[('countryName', 'Australia'), ('team', 'http://www.wikidata.org/entity/Q173103'), ('teamName', 'Brabham'), ('numPartecipations', '2')]\n",
      "[('countryName', 'France'), ('team', 'http://www.wikidata.org/entity/Q172722'), ('teamName', 'Renault F1 Team'), ('numPartecipations', '15')]\n",
      "[('countryName', 'Italy'), ('team', 'http://www.wikidata.org/entity/Q169898'), ('teamName', 'Scuderia Ferrari'), ('numPartecipations', '19')]\n",
      "[('countryName', 'Italy'), ('team', 'http://www.wikidata.org/entity/Q142381'), ('teamName', 'Minardi'), ('numPartecipations', '17')]\n",
      "[('countryName', 'Italy'), ('team', 'http://www.wikidata.org/entity/Q171329'), ('teamName', 'Benetton Formula'), ('numPartecipations', '7')]\n",
      "[('countryName', 'Italy'), ('team', 'http://www.wikidata.org/entity/Q141818'), ('teamName', 'Scuderia Toro Rosso'), ('numPartecipations', '1')]\n",
      "[('countryName', 'United Kingdom'), ('team', 'http://www.wikidata.org/entity/Q172030'), ('teamName', 'McLaren'), ('numPartecipations', '26')]\n",
      "[('countryName', 'United Kingdom'), ('team', 'http://www.wikidata.org/entity/Q172722'), ('teamName', 'Renault F1 Team'), ('numPartecipations', '15')]\n",
      "[('countryName', 'United Kingdom'), ('team', 'http://www.wikidata.org/entity/Q171337'), ('teamName', 'Williams Grand Prix Engineering'), ('numPartecipations', '11')]\n",
      "[('countryName', 'United Kingdom'), ('team', 'http://www.wikidata.org/entity/Q171367'), ('teamName', 'Jordan Grand Prix'), ('numPartecipations', '7')]\n",
      "[('countryName', 'United Kingdom'), ('team', 'http://www.wikidata.org/entity/Q172721'), ('teamName', 'Mercedes'), ('numPartecipations', '7')]\n",
      "[('countryName', 'United Kingdom'), ('team', 'http://www.wikidata.org/entity/Q173103'), ('teamName', 'Brabham'), ('numPartecipations', '2')]\n",
      "[('countryName', 'United Kingdom'), ('team', 'http://www.wikidata.org/entity/Q173663'), ('teamName', 'Red Bull Racing'), ('numPartecipations', '1')]\n"
     ]
    },
    {
     "data": {
      "text/plain": [
       "13"
      ]
     },
     "execution_count": 18,
     "metadata": {},
     "output_type": "execute_result"
    }
   ],
   "source": [
    "queryString = \"\"\"\n",
    "select ?countryName ?team ?teamName (count(distinct ?competition) as ?numPartecipations) where {\n",
    "    ?team wdt:P31 wd:Q10497835 ;\n",
    "          wdt:P17/(wdt:P156*|wdt:P1366*|^wdt:P1365*) ?country .\n",
    "    filter not exists { ?country wdt:P156|wdt:P1366 ?o }\n",
    "    \n",
    "    ?driver wdt:P106 wd:Q10841764 ;\n",
    "            wdt:P54 ?team ;\n",
    "            wdt:P1344 ?competition .\n",
    "            \n",
    "    ?competition wdt:P3450 wd:Q1968 .\n",
    "    \n",
    "    ?team <http://schema.org/name> ?teamName .\n",
    "    ?country <http://schema.org/name> ?countryName .\n",
    "} group by ?countryName ?team ?teamName\n",
    "order by ?countryName desc(?numPartecipations)\n",
    "\"\"\"\n",
    "\n",
    "print(\"Results\")\n",
    "run_query(queryString)"
   ]
  },
  {
   "cell_type": "markdown",
   "id": "ce58154c-efad-4084-96c6-9099c56bbe13",
   "metadata": {},
   "source": [
    "I also need the BGP for obtaining the list of all countries. I can look for United Kingdom's *instance of* property."
   ]
  },
  {
   "cell_type": "code",
   "execution_count": 19,
   "id": "c56cb894-71ce-467b-8ba5-ba3ce52bc961",
   "metadata": {},
   "outputs": [
    {
     "name": "stdout",
     "output_type": "stream",
     "text": [
      "Results\n",
      "[('o', 'http://www.wikidata.org/entity/Q112099'), ('oName', 'island nation')]\n",
      "[('o', 'http://www.wikidata.org/entity/Q20181813'), ('oName', 'colonial power')]\n",
      "[('o', 'http://www.wikidata.org/entity/Q3624078'), ('oName', 'sovereign state')]\n",
      "[('o', 'http://www.wikidata.org/entity/Q6256'), ('oName', 'country')]\n",
      "[('o', 'http://www.wikidata.org/entity/Q202686'), ('oName', 'Commonwealth realm')]\n"
     ]
    },
    {
     "data": {
      "text/plain": [
       "5"
      ]
     },
     "execution_count": 19,
     "metadata": {},
     "output_type": "execute_result"
    }
   ],
   "source": [
    "queryString = \"\"\"\n",
    "select ?o ?oName where {\n",
    "    wd:Q145 wdt:P31 ?o .\n",
    "    \n",
    "    ?o <http://schema.org/name> ?oName .\n",
    "}\n",
    "\"\"\"\n",
    "\n",
    "print(\"Results\")\n",
    "run_query(queryString)"
   ]
  },
  {
   "cell_type": "markdown",
   "id": "aaa5ca03-e468-4836-8d40-db1971ea7fb0",
   "metadata": {},
   "source": [
    "So, the BGP for obtaining the list of countries is:\n",
    "    \n",
    "```\n",
    "?country wdt:P31 wd:Q3624078\n",
    "```"
   ]
  },
  {
   "cell_type": "markdown",
   "id": "e72d3e8e-e09d-49a7-88b0-5a7ee07a6a2c",
   "metadata": {},
   "source": [
    "Merging all together"
   ]
  },
  {
   "cell_type": "code",
   "execution_count": 20,
   "id": "691fd2aa-02ec-416f-995b-6a01bbfe97cd",
   "metadata": {},
   "outputs": [
    {
     "name": "stdout",
     "output_type": "stream",
     "text": [
      "Results\n",
      "[('countryName', 'United Kingdom'), ('teamName', 'McLaren'), ('maxTeamCompetitions', '26'), ('driverName', 'Alexander Albon'), ('maxDriverCompetitions', '1')]\n",
      "[('countryName', 'Italy'), ('teamName', 'Scuderia Ferrari'), ('maxTeamCompetitions', '22')]\n",
      "[('countryName', 'France'), ('teamName', 'Renault F1 Team'), ('maxTeamCompetitions', '15')]\n",
      "[('countryName', 'Australia'), ('teamName', 'Brabham'), ('maxTeamCompetitions', '2')]\n",
      "[('countryName', 'Spain'), ('driverName', 'Fernando Alonso'), ('maxDriverCompetitions', '15')]\n",
      "[('countryName', 'Brazil'), ('driverName', 'Ayrton Senna'), ('maxDriverCompetitions', '11')]\n",
      "[('countryName', 'Germany'), ('driverName', 'Michael Schumacher'), ('maxDriverCompetitions', '7')]\n",
      "[('countryName', 'Canada'), ('driverName', 'Eppie Wietzes'), ('maxDriverCompetitions', '2')]\n",
      "[('countryName', 'Thailand'), ('driverName', 'Alexander Albon'), ('maxDriverCompetitions', '1')]\n",
      "[('countryName', 'Sisophon Province'), ('driverName', 'Alexander Albon'), ('maxDriverCompetitions', '1')]\n"
     ]
    },
    {
     "data": {
      "text/plain": [
       "10"
      ]
     },
     "execution_count": 20,
     "metadata": {},
     "output_type": "execute_result"
    }
   ],
   "source": [
    "queryString = \"\"\"\n",
    "select distinct ?countryName ?teamName ?maxTeamCompetitions ?driverName ?maxDriverCompetitions where {\n",
    "    ?originalCountry wdt:P31 wd:Q3624078 .\n",
    "    \n",
    "    optional {\n",
    "        select ?originalCountry ?driver ?driverName ?maxDriverCompetitions where {\n",
    "            {\n",
    "                select ?originalCountry (max(?numDriverCompetitions) as ?maxDriverCompetitions) where {\n",
    "                     {\n",
    "                        select ?originalCountry ?driver (count(?competition) as ?numDriverCompetitions) where {\n",
    "                            ?driver wdt:P106 wd:Q10841764 ;\n",
    "                                    wdt:P27 ?originalCountry ;\n",
    "                                    wdt:P1344 ?competition .\n",
    "\n",
    "                            ?competition wdt:P3450 wd:Q1968 .\n",
    "                        } group by ?originalCountry ?driver\n",
    "                    }\n",
    "                }\n",
    "            }\n",
    "            .\n",
    "            {\n",
    "                select ?originalCountry ?driver (count(?competition) as ?numDriverCompetitions) where {\n",
    "                    ?driver wdt:P106 wd:Q10841764 ;\n",
    "                            wdt:P27 ?originalCountry ;\n",
    "                            wdt:P1344 ?competition .\n",
    "\n",
    "                    ?competition wdt:P3450 wd:Q1968 .\n",
    "                } group by ?originalCountry ?driver\n",
    "            }\n",
    "            \n",
    "            filter (?numDriverCompetitions = ?maxDriverCompetitions)\n",
    "            ?driver <http://schema.org/name> ?driverName .\n",
    "        }\n",
    "    }\n",
    "    optional {\n",
    "        select ?originalCountry ?team ?teamName ?maxTeamCompetitions where {\n",
    "            {\n",
    "                select ?originalCountry (max(?numTeamCompetitions) as ?maxTeamCompetitions) where {\n",
    "                     {\n",
    "                        select ?originalCountry ?team (count(?competition) as ?numTeamCompetitions) where {\n",
    "                            ?team wdt:P31 wd:Q10497835 ;\n",
    "                                  wdt:P17 ?originalCountry .\n",
    "\n",
    "                            ?driver wdt:P106 wd:Q10841764 ;\n",
    "                                    wdt:P54 ?team ;\n",
    "                                    wdt:P1344 ?competition .\n",
    "\n",
    "                            ?competition wdt:P3450 wd:Q1968 .\n",
    "                        } group by ?originalCountry ?team\n",
    "                    }\n",
    "                }\n",
    "            }\n",
    "            .\n",
    "            {\n",
    "                select ?originalCountry ?team (count(?competition) as ?numTeamCompetitions) where {\n",
    "                    ?team wdt:P31 wd:Q10497835 ;\n",
    "                          wdt:P17 ?originalCountry .\n",
    "\n",
    "                    ?driver wdt:P106 wd:Q10841764 ;\n",
    "                            wdt:P54 ?team ;\n",
    "                            wdt:P1344 ?competition .\n",
    "\n",
    "                    ?competition wdt:P3450 wd:Q1968 .\n",
    "                } group by ?originalCountry ?team\n",
    "            }\n",
    "            \n",
    "            filter (?numTeamCompetitions = ?maxTeamCompetitions) .\n",
    "            ?team <http://schema.org/name> ?teamName .\n",
    "        }\n",
    "    } .\n",
    "       \n",
    "    ?originalCountry wdt:P156*|wdt:P1366*|^wdt:P1365* ?country .\n",
    "    filter not exists { ?originalCountry wdt:P156|wdt:P1366 ?o }\n",
    "    ?country <http://schema.org/name> ?countryName .\n",
    "    \n",
    "    filter (?maxTeamCompetitions > 0 || ?maxDriverCompetitions > 0)\n",
    "} order by desc(?maxTeamCompetitions) desc(?maxDriverCompetitions)\n",
    "\"\"\"\n",
    "\n",
    "print(\"Results\")\n",
    "run_query(queryString)"
   ]
  },
  {
   "cell_type": "code",
   "execution_count": null,
   "id": "842b580a-e790-4097-a716-2f1aed265c65",
   "metadata": {
    "tags": []
   },
   "outputs": [],
   "source": []
  }
 ],
 "metadata": {
  "kernelspec": {
   "display_name": "Python 3 (ipykernel)",
   "language": "python",
   "name": "python3"
  },
  "language_info": {
   "codemirror_mode": {
    "name": "ipython",
    "version": 3
   },
   "file_extension": ".py",
   "mimetype": "text/x-python",
   "name": "python",
   "nbconvert_exporter": "python",
   "pygments_lexer": "ipython3",
   "version": "3.7.10"
  }
 },
 "nbformat": 4,
 "nbformat_minor": 5
}
