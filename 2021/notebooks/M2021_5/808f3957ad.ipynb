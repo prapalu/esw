{
 "cells": [
  {
   "cell_type": "markdown",
   "id": "7034c3bf-6eb0-4418-8687-7b9d2a501103",
   "metadata": {},
   "source": [
    "# General instructions\n",
    "\n",
    "The goal of the project is to materialize a set of **exploratory workloads** over a real-world, large-scale,  open-domain KG: [WikiData](https://www.wikidata.org/wiki/Wikidata:Main_Page)\n",
    "\n",
    "An exploratory workload  is composed by a set of queries, where each query is related to the information obtained previously.\n",
    "\n",
    "An exploratory workload starts with a usually vague, open ended question, and does not assume the person issuing the workload has a clear understanding of the data contained in the target database or its structure.\n",
    "\n",
    "Remeber that:\n",
    "\n",
    "1. All the queries must run in the python notebook\n",
    "2. You can use classes and properties only if you find them via a SPARQL query that must be present in the notebook\n",
    "3. You do not delete useless queries. Keep everything that is synthatically valid \n",
    "\n",
    "```\n",
    "?p <http://schema.org/name> ?name .\n",
    "```\n",
    "    \n",
    "is the BGP returning a human-readable name of a property or a class in Wikidata.\n",
    "    \n",
    "    "
   ]
  },
  {
   "cell_type": "code",
   "execution_count": 1,
   "id": "3605c9d5-5371-49a5-be8d-d66e8f417139",
   "metadata": {},
   "outputs": [],
   "source": [
    "## SETUP used later\n",
    "\n",
    "from SPARQLWrapper import SPARQLWrapper, JSON\n",
    "\n",
    "\n",
    "prefixString = \"\"\"\n",
    "##-808f3957ad-##\n",
    "PREFIX wd: <http://www.wikidata.org/entity/> \n",
    "PREFIX wdt: <http://www.wikidata.org/prop/direct/> \n",
    "PREFIX sc: <http://schema.org/>\n",
    "\"\"\"\n",
    "\n",
    "# select and construct queries\n",
    "def run_query(queryString):\n",
    "    to_run = prefixString + \"\\n\" + queryString\n",
    "\n",
    "    sparql = SPARQLWrapper(\"http://a256-gc1-02.srv.aau.dk:5820/sparql\")\n",
    "    sparql.setTimeout(300)\n",
    "    sparql.setReturnFormat(JSON)\n",
    "    sparql.setQuery(to_run)\n",
    "\n",
    "    try :\n",
    "       results = sparql.query()\n",
    "       json_results = results.convert()\n",
    "       if len(json_results['results']['bindings'])==0:\n",
    "          print(\"Empty\")\n",
    "          return 0\n",
    "    \n",
    "       for bindings in json_results['results']['bindings']:\n",
    "          print( [ (var, value['value'])  for var, value in bindings.items() ] )\n",
    "\n",
    "       return len(json_results['results']['bindings'])\n",
    "\n",
    "    except Exception as e :\n",
    "        print(\"The operation failed\", e)\n",
    "    \n",
    "# ASk queries\n",
    "def run_ask_query(queryString):\n",
    "    to_run = prefixString + \"\\n\" + queryString\n",
    "\n",
    "    sparql = SPARQLWrapper(\"http://a256-gc1-02.srv.aau.dk:5820/sparql\")\n",
    "    sparql.setTimeout(300)\n",
    "    sparql.setReturnFormat(JSON)\n",
    "    sparql.setQuery(to_run)\n",
    "\n",
    "    try :\n",
    "        return sparql.query().convert()\n",
    "\n",
    "    except Exception as e :\n",
    "        print(\"The operation failed\", e)\n"
   ]
  },
  {
   "cell_type": "markdown",
   "id": "d477a59c-a68c-4c8f-9f97-8ca5294d7d27",
   "metadata": {},
   "source": [
    "# Companies Workflow Series (\"IT Companies explorative search\") \n",
    "\n",
    "Consider the following exploratory information need:\n",
    "\n",
    "> Compare companies across different sectors in U.K., U.S., and Canada, consider number of employees, companies owned or acquired, and revenue or assets"
   ]
  },
  {
   "cell_type": "markdown",
   "id": "4a45c0ba-f79e-441d-bec5-84401b09db70",
   "metadata": {},
   "source": [
    "## Useful URIs for the current workflow\n",
    "\n",
    "\n",
    "The following are given:\n",
    "\n",
    "| IRI           | Description   | Role      |\n",
    "| -----------   | -----------   |-----------|\n",
    "| `wdt:P1647`   | subproperty   | predicate |\n",
    "| `wdt:P31`     | instance of   | predicate |\n",
    "| `wdt:P279`    | subclass      | predicate |\n",
    "| `wdt:P17`      | country       | predicate |\n",
    "| `wd:Q4830453`  | Business      | node      |\n",
    "| `wd:Q13977`    | Bloomberg L.P.| node |\n",
    "| `wd:Q502121`   | BlackBerry    | node |\n",
    "| `wd:Q16`        | Canada        | node |\n",
    "| `wd:Q145`      | U.K.          | node |\n",
    "| `wd:Q30`       | U.S.A.        | node |\n",
    "\n",
    "\n",
    "Also consider\n",
    "\n",
    "```\n",
    "?p wdt:P17 wd:Q16  . \n",
    "?p wdt:P31 wd:Q4830453  . \n",
    "```\n",
    "\n",
    "is the BGP to retrieve all **canadian businesses**"
   ]
  },
  {
   "cell_type": "markdown",
   "id": "7af439fb-96e4-4dbb-a381-f19afab79f86",
   "metadata": {
    "tags": []
   },
   "source": [
    "## Workload Goals\n",
    "\n",
    "1. Identify the BGP for obtaining number of employees of a company and other relevant numerical attributes\n",
    "\n",
    "2. Identify the BGP to retrieve all companies owned by a company\n",
    "\n",
    "3. Is there some company that owns companies in other countries?\n",
    "\n",
    "4. Companies have different 'legal forms', compare the number of companies divided in different legal forms\n",
    "\n",
    "5. Analyze the number of employees  and other relevant numeric attributes\n",
    " \n",
    "   5.1 What are the top-10 companies for a given attribute?\n",
    "   \n",
    "   5.2 For which companies is defined some form of income or market capitalization or total assets? What is the min, max, and average in each category and country?\n",
    "   \n",
    "   5.3 Which business in each country owns more businesses in other countries?\n"
   ]
  },
  {
   "cell_type": "markdown",
   "id": "0ed46e64-3d22-410d-b5d8-7dfea09141c6",
   "metadata": {},
   "source": [
    "# 1. Identify the BGP for obtaining number of employees of a company and other relevant numerical attributes"
   ]
  },
  {
   "cell_type": "markdown",
   "id": "a3822caf-fc72-4a4d-9e02-6162050bfa9b",
   "metadata": {},
   "source": [
    "Take ten casual canadian businesses, just for test."
   ]
  },
  {
   "cell_type": "code",
   "execution_count": 2,
   "id": "ade01416-92e7-4ad7-b9a9-b8fb330750dc",
   "metadata": {
    "tags": []
   },
   "outputs": [
    {
     "name": "stdout",
     "output_type": "stream",
     "text": [
      "Results\n",
      "[('p', 'http://www.wikidata.org/entity/Q17107879'), ('name', 'Martin & Vleminckx')]\n",
      "[('p', 'http://www.wikidata.org/entity/Q3347600'), ('name', 'OMERS')]\n",
      "[('p', 'http://www.wikidata.org/entity/Q4724292'), ('name', 'Algoma Central')]\n",
      "[('p', 'http://www.wikidata.org/entity/Q1647539'), ('name', 'Royal Canadian Mint')]\n",
      "[('p', 'http://www.wikidata.org/entity/Q17012723'), ('name', 'Nova Scotia Light and Power')]\n",
      "[('p', 'http://www.wikidata.org/entity/Q3499025'), ('name', 'Fresh TV')]\n",
      "[('p', 'http://www.wikidata.org/entity/Q6934764'), ('name', 'Multimatic Motorsports')]\n",
      "[('p', 'http://www.wikidata.org/entity/Q10439578'), ('name', 'Calgary Sports and Entertainment')]\n",
      "[('p', 'http://www.wikidata.org/entity/Q7059529'), ('name', 'Northland Power')]\n",
      "[('p', 'http://www.wikidata.org/entity/Q29123207'), ('name', 'Stryker (Canada)')]\n"
     ]
    },
    {
     "data": {
      "text/plain": [
       "10"
      ]
     },
     "execution_count": 2,
     "metadata": {},
     "output_type": "execute_result"
    }
   ],
   "source": [
    "queryString = \"\"\"\n",
    "select * where {\n",
    "    ?p wdt:P17 wd:Q16  . \n",
    "    ?p wdt:P31 wd:Q4830453 . \n",
    "    \n",
    "    ?p <http://schema.org/name> ?name .\n",
    "} limit 10\n",
    "\"\"\"\n",
    "\n",
    "print(\"Results\")\n",
    "run_query(queryString)"
   ]
  },
  {
   "cell_type": "markdown",
   "id": "bce6db4b-1d4b-4723-b9d8-4d2658604dac",
   "metadata": {},
   "source": [
    "I see the properties for Bloomberg L.P. (**Q13977**) and BlackBerry (**Q502121**)"
   ]
  },
  {
   "cell_type": "code",
   "execution_count": 3,
   "id": "cc8df19f-73ee-4eeb-822f-5e6cee17b6d0",
   "metadata": {
    "tags": []
   },
   "outputs": [
    {
     "name": "stdout",
     "output_type": "stream",
     "text": [
      "Results\n",
      "[('companyName', 'BlackBerry'), ('p', 'http://www.wikidata.org/prop/direct/P1056'), ('pName', 'product or material produced'), ('o', 'http://www.wikidata.org/entity/Q1780509'), ('oName', 'communication device')]\n",
      "[('companyName', 'BlackBerry'), ('p', 'http://www.wikidata.org/prop/direct/P1056'), ('pName', 'product or material produced'), ('o', 'http://www.wikidata.org/entity/Q7397'), ('oName', 'software')]\n",
      "[('companyName', 'BlackBerry'), ('p', 'http://www.wikidata.org/prop/direct/P1056'), ('pName', 'product or material produced'), ('o', 'http://www.wikidata.org/entity/Q17517'), ('oName', 'mobile phone')]\n",
      "[('companyName', 'BlackBerry'), ('p', 'http://www.wikidata.org/prop/direct/P112'), ('pName', 'founded by'), ('o', 'http://www.wikidata.org/entity/Q1379779'), ('oName', 'Mike Lazaridis')]\n",
      "[('companyName', 'BlackBerry'), ('p', 'http://www.wikidata.org/prop/direct/P1454'), ('pName', 'legal form'), ('o', 'http://www.wikidata.org/entity/Q422074'), ('oName', 'corporation')]\n",
      "[('companyName', 'BlackBerry'), ('p', 'http://www.wikidata.org/prop/direct/P159'), ('pName', 'headquarters location'), ('o', 'http://www.wikidata.org/entity/Q639408'), ('oName', 'Waterloo')]\n",
      "[('companyName', 'BlackBerry'), ('p', 'http://www.wikidata.org/prop/direct/P169'), ('pName', 'chief executive officer'), ('o', 'http://www.wikidata.org/entity/Q6256206'), ('oName', 'John S. Chen')]\n",
      "[('companyName', 'BlackBerry'), ('p', 'http://www.wikidata.org/prop/direct/P17'), ('pName', 'country'), ('o', 'http://www.wikidata.org/entity/Q16'), ('oName', 'Canada')]\n",
      "[('companyName', 'BlackBerry'), ('p', 'http://www.wikidata.org/prop/direct/P1830'), ('pName', 'owner of'), ('o', 'http://www.wikidata.org/entity/Q84790062'), ('oName', 'BlackBerry')]\n",
      "[('companyName', 'BlackBerry'), ('p', 'http://www.wikidata.org/prop/direct/P31'), ('pName', 'instance of'), ('o', 'http://www.wikidata.org/entity/Q1058914'), ('oName', 'software company')]\n",
      "[('companyName', 'BlackBerry'), ('p', 'http://www.wikidata.org/prop/direct/P31'), ('pName', 'instance of'), ('o', 'http://www.wikidata.org/entity/Q4830453'), ('oName', 'business')]\n",
      "[('companyName', 'BlackBerry'), ('p', 'http://www.wikidata.org/prop/direct/P31'), ('pName', 'instance of'), ('o', 'http://www.wikidata.org/entity/Q891723'), ('oName', 'public company')]\n",
      "[('companyName', 'BlackBerry'), ('p', 'http://www.wikidata.org/prop/direct/P355'), ('pName', 'subsidiary'), ('o', 'http://www.wikidata.org/entity/Q26308599'), ('oName', 'Cylance Inc.')]\n",
      "[('companyName', 'BlackBerry'), ('p', 'http://www.wikidata.org/prop/direct/P355'), ('pName', 'subsidiary'), ('o', 'http://www.wikidata.org/entity/Q30273397'), ('oName', 'Blackberry (United States)')]\n",
      "[('companyName', 'BlackBerry'), ('p', 'http://www.wikidata.org/prop/direct/P355'), ('pName', 'subsidiary'), ('o', 'http://www.wikidata.org/entity/Q28974280'), ('oName', 'BlackBerry (United Kingdom)')]\n",
      "[('companyName', 'BlackBerry'), ('p', 'http://www.wikidata.org/prop/direct/P361'), ('pName', 'part of'), ('o', 'http://www.wikidata.org/entity/Q503065'), ('oName', 'S&P/TSX 60')]\n",
      "[('companyName', 'BlackBerry'), ('p', 'http://www.wikidata.org/prop/direct/P414'), ('pName', 'stock exchange'), ('o', 'http://www.wikidata.org/entity/Q82059'), ('oName', 'NASDAQ')]\n",
      "[('companyName', 'BlackBerry'), ('p', 'http://www.wikidata.org/prop/direct/P414'), ('pName', 'stock exchange'), ('o', 'http://www.wikidata.org/entity/Q13677'), ('oName', 'New York Stock Exchange')]\n",
      "[('companyName', 'BlackBerry'), ('p', 'http://www.wikidata.org/prop/direct/P414'), ('pName', 'stock exchange'), ('o', 'http://www.wikidata.org/entity/Q818723'), ('oName', 'Toronto Stock Exchange')]\n",
      "[('companyName', 'BlackBerry'), ('p', 'http://www.wikidata.org/prop/direct/P452'), ('pName', 'industry'), ('o', 'http://www.wikidata.org/entity/Q11661'), ('oName', 'information technology')]\n",
      "[('companyName', 'BlackBerry'), ('p', 'http://www.wikidata.org/prop/direct/P452'), ('pName', 'industry'), ('o', 'http://www.wikidata.org/entity/Q251212'), ('oName', 'internet of things')]\n",
      "[('companyName', 'BlackBerry'), ('p', 'http://www.wikidata.org/prop/direct/P463'), ('pName', 'member of'), ('o', 'http://www.wikidata.org/entity/Q1361045'), ('oName', 'Wi-Fi Alliance')]\n",
      "[('companyName', 'BlackBerry'), ('p', 'http://www.wikidata.org/prop/direct/P463'), ('pName', 'member of'), ('o', 'http://www.wikidata.org/entity/Q67904121'), ('oName', 'CVE Numbering Authorities')]\n",
      "[('companyName', 'BlackBerry'), ('p', 'http://www.wikidata.org/prop/direct/P740'), ('pName', 'location of formation'), ('o', 'http://www.wikidata.org/entity/Q639408'), ('oName', 'Waterloo')]\n",
      "[('companyName', 'BlackBerry'), ('p', 'http://www.wikidata.org/prop/direct/P910'), ('pName', \"topic's main category\"), ('o', 'http://www.wikidata.org/entity/Q6805207'), ('oName', 'Category:BlackBerry Limited')]\n",
      "[('companyName', 'BlackBerry'), ('p', 'http://www.wikidata.org/prop/direct/P1128'), ('pName', 'employees'), ('o', '3647')]\n",
      "[('companyName', 'BlackBerry'), ('p', 'http://www.wikidata.org/prop/direct/P1417'), ('pName', 'Encyclopædia Britannica Online ID'), ('o', 'topic/Research-in-Motion')]\n",
      "[('companyName', 'BlackBerry'), ('p', 'http://www.wikidata.org/prop/direct/P154'), ('pName', 'logo image'), ('o', 'http://commons.wikimedia.org/wiki/Special:FilePath/Blackberry%20Logo.svg')]\n",
      "[('companyName', 'BlackBerry'), ('p', 'http://www.wikidata.org/prop/direct/P1705'), ('pName', 'native label'), ('o', 'BlackBerry Limited')]\n",
      "[('companyName', 'BlackBerry'), ('p', 'http://www.wikidata.org/prop/direct/P18'), ('pName', 'image'), ('o', 'http://commons.wikimedia.org/wiki/Special:FilePath/BlackBerry%20Limited%20Waterloo%20Campus.jpg')]\n",
      "[('companyName', 'BlackBerry'), ('p', 'http://www.wikidata.org/prop/direct/P2002'), ('pName', 'Twitter username'), ('o', 'BlackBerry')]\n",
      "[('companyName', 'BlackBerry'), ('p', 'http://www.wikidata.org/prop/direct/P2002'), ('pName', 'Twitter username'), ('o', 'blackberryhelp')]\n",
      "[('companyName', 'BlackBerry'), ('p', 'http://www.wikidata.org/prop/direct/P2003'), ('pName', 'Instagram username'), ('o', 'blackberry')]\n",
      "[('companyName', 'BlackBerry'), ('p', 'http://www.wikidata.org/prop/direct/P2013'), ('pName', 'Facebook ID'), ('o', 'BlackBerry')]\n",
      "[('companyName', 'BlackBerry'), ('p', 'http://www.wikidata.org/prop/direct/P2088'), ('pName', 'Crunchbase organization ID'), ('o', 'blackberry')]\n",
      "[('companyName', 'BlackBerry'), ('p', 'http://www.wikidata.org/prop/direct/P213'), ('pName', 'ISNI'), ('o', '0000 0004 0376 548X')]\n",
      "[('companyName', 'BlackBerry'), ('p', 'http://www.wikidata.org/prop/direct/P2139'), ('pName', 'total revenue'), ('o', '1040000000')]\n",
      "[('companyName', 'BlackBerry'), ('p', 'http://www.wikidata.org/prop/direct/P214'), ('pName', 'VIAF ID'), ('o', '139899671')]\n",
      "[('companyName', 'BlackBerry'), ('p', 'http://www.wikidata.org/prop/direct/P2226'), ('pName', 'market capitalization'), ('o', '6882000000')]\n",
      "[('companyName', 'BlackBerry'), ('p', 'http://www.wikidata.org/prop/direct/P227'), ('pName', 'GND ID'), ('o', '7669999-7')]\n",
      "[('companyName', 'BlackBerry'), ('p', 'http://www.wikidata.org/prop/direct/P2295'), ('pName', 'net profit'), ('o', '-152000000')]\n",
      "[('companyName', 'BlackBerry'), ('p', 'http://www.wikidata.org/prop/direct/P2403'), ('pName', 'total assets'), ('o', '3888000000')]\n",
      "[('companyName', 'BlackBerry'), ('p', 'http://www.wikidata.org/prop/direct/P2427'), ('pName', 'GRID ID'), ('o', 'grid.39591.37')]\n",
      "[('companyName', 'BlackBerry'), ('p', 'http://www.wikidata.org/prop/direct/P244'), ('pName', 'Library of Congress authority ID'), ('o', 'no2003095430')]\n",
      "[('companyName', 'BlackBerry'), ('p', 'http://www.wikidata.org/prop/direct/P2657'), ('pName', 'EU Transparency Register ID'), ('o', '20374277037-88')]\n",
      "[('companyName', 'BlackBerry'), ('p', 'http://www.wikidata.org/prop/direct/P3347'), ('pName', 'PermID'), ('o', '4295861766')]\n",
      "[('companyName', 'BlackBerry'), ('p', 'http://www.wikidata.org/prop/direct/P3362'), ('pName', 'operating income'), ('o', '-149000000')]\n",
      "[('companyName', 'BlackBerry'), ('p', 'http://www.wikidata.org/prop/direct/P3417'), ('pName', 'Quora topic ID'), ('o', 'BlackBerry')]\n",
      "[('companyName', 'BlackBerry'), ('p', 'http://www.wikidata.org/prop/direct/P3500'), ('pName', 'Ringgold ID'), ('o', '120495')]\n",
      "[('companyName', 'BlackBerry'), ('p', 'http://www.wikidata.org/prop/direct/P373'), ('pName', 'Commons category'), ('o', 'BlackBerry Limited')]\n",
      "[('companyName', 'BlackBerry'), ('p', 'http://www.wikidata.org/prop/direct/P3743'), ('pName', 'ITU/ISO/IEC object identifier'), ('o', '1.3.6.1.4.1.3530')]\n",
      "[('companyName', 'BlackBerry'), ('p', 'http://www.wikidata.org/prop/direct/P4204'), ('pName', 'The Times of India topic ID'), ('o', 'Blackberry')]\n",
      "[('companyName', 'BlackBerry'), ('p', 'http://www.wikidata.org/prop/direct/P4527'), ('pName', 'UK Parliament thesaurus ID'), ('o', '66414')]\n",
      "[('companyName', 'BlackBerry'), ('p', 'http://www.wikidata.org/prop/direct/P4776'), ('pName', 'MAC Address Block Large ID'), ('o', '147411')]\n",
      "[('companyName', 'BlackBerry'), ('p', 'http://www.wikidata.org/prop/direct/P4776'), ('pName', 'MAC Address Block Large ID'), ('o', '806007')]\n",
      "[('companyName', 'BlackBerry'), ('p', 'http://www.wikidata.org/prop/direct/P4776'), ('pName', 'MAC Address Block Large ID'), ('o', '002106')]\n",
      "[('companyName', 'BlackBerry'), ('p', 'http://www.wikidata.org/prop/direct/P4776'), ('pName', 'MAC Address Block Large ID'), ('o', '000F86')]\n",
      "[('companyName', 'BlackBerry'), ('p', 'http://www.wikidata.org/prop/direct/P4776'), ('pName', 'MAC Address Block Large ID'), ('o', '001CCC')]\n",
      "[('companyName', 'BlackBerry'), ('p', 'http://www.wikidata.org/prop/direct/P4776'), ('pName', 'MAC Address Block Large ID'), ('o', '00237A')]\n",
      "[('companyName', 'BlackBerry'), ('p', 'http://www.wikidata.org/prop/direct/P4776'), ('pName', 'MAC Address Block Large ID'), ('o', '00249F')]\n",
      "[('companyName', 'BlackBerry'), ('p', 'http://www.wikidata.org/prop/direct/P4776'), ('pName', 'MAC Address Block Large ID'), ('o', '002557')]\n",
      "[('companyName', 'BlackBerry'), ('p', 'http://www.wikidata.org/prop/direct/P4776'), ('pName', 'MAC Address Block Large ID'), ('o', '0026FF')]\n",
      "[('companyName', 'BlackBerry'), ('p', 'http://www.wikidata.org/prop/direct/P4776'), ('pName', 'MAC Address Block Large ID'), ('o', '1C69A5')]\n",
      "[('companyName', 'BlackBerry'), ('p', 'http://www.wikidata.org/prop/direct/P4776'), ('pName', 'MAC Address Block Large ID'), ('o', '2CA835')]\n",
      "[('companyName', 'BlackBerry'), ('p', 'http://www.wikidata.org/prop/direct/P4776'), ('pName', 'MAC Address Block Large ID'), ('o', '30694B')]\n",
      "[('companyName', 'BlackBerry'), ('p', 'http://www.wikidata.org/prop/direct/P4776'), ('pName', 'MAC Address Block Large ID'), ('o', '307C30')]\n",
      "[('companyName', 'BlackBerry'), ('p', 'http://www.wikidata.org/prop/direct/P4776'), ('pName', 'MAC Address Block Large ID'), ('o', '34BB1F')]\n",
      "[('companyName', 'BlackBerry'), ('p', 'http://www.wikidata.org/prop/direct/P4776'), ('pName', 'MAC Address Block Large ID'), ('o', '3C7437')]\n",
      "[('companyName', 'BlackBerry'), ('p', 'http://www.wikidata.org/prop/direct/P4776'), ('pName', 'MAC Address Block Large ID'), ('o', '405FBE')]\n",
      "[('companyName', 'BlackBerry'), ('p', 'http://www.wikidata.org/prop/direct/P4776'), ('pName', 'MAC Address Block Large ID'), ('o', '406AAB')]\n",
      "[('companyName', 'BlackBerry'), ('p', 'http://www.wikidata.org/prop/direct/P4776'), ('pName', 'MAC Address Block Large ID'), ('o', '406F2A')]\n",
      "[('companyName', 'BlackBerry'), ('p', 'http://www.wikidata.org/prop/direct/P4776'), ('pName', 'MAC Address Block Large ID'), ('o', '489D24')]\n",
      "[('companyName', 'BlackBerry'), ('p', 'http://www.wikidata.org/prop/direct/P4776'), ('pName', 'MAC Address Block Large ID'), ('o', '68ED43')]\n",
      "[('companyName', 'BlackBerry'), ('p', 'http://www.wikidata.org/prop/direct/P4776'), ('pName', 'MAC Address Block Large ID'), ('o', '70AAB2')]\n",
      "[('companyName', 'BlackBerry'), ('p', 'http://www.wikidata.org/prop/direct/P4776'), ('pName', 'MAC Address Block Large ID'), ('o', '70D4F2')]\n",
      "[('companyName', 'BlackBerry'), ('p', 'http://www.wikidata.org/prop/direct/P4776'), ('pName', 'MAC Address Block Large ID'), ('o', '94EBCD')]\n",
      "[('companyName', 'BlackBerry'), ('p', 'http://www.wikidata.org/prop/direct/P4776'), ('pName', 'MAC Address Block Large ID'), ('o', 'A06CEC')]\n",
      "[('companyName', 'BlackBerry'), ('p', 'http://www.wikidata.org/prop/direct/P4776'), ('pName', 'MAC Address Block Large ID'), ('o', 'A4E4B8')]\n",
      "[('companyName', 'BlackBerry'), ('p', 'http://www.wikidata.org/prop/direct/P4776'), ('pName', 'MAC Address Block Large ID'), ('o', 'A86A6F')]\n",
      "[('companyName', 'BlackBerry'), ('p', 'http://www.wikidata.org/prop/direct/P4776'), ('pName', 'MAC Address Block Large ID'), ('o', 'CC55AD')]\n",
      "[('companyName', 'BlackBerry'), ('p', 'http://www.wikidata.org/prop/direct/P4776'), ('pName', 'MAC Address Block Large ID'), ('o', 'E83EB6')]\n",
      "[('companyName', 'BlackBerry'), ('p', 'http://www.wikidata.org/prop/direct/P4776'), ('pName', 'MAC Address Block Large ID'), ('o', 'F40B93')]\n",
      "[('companyName', 'BlackBerry'), ('p', 'http://www.wikidata.org/prop/direct/P5395'), ('pName', 'Canadian Encyclopedia article ID'), ('o', 'blackberry-limited')]\n",
      "[('companyName', 'BlackBerry'), ('p', 'http://www.wikidata.org/prop/direct/P571'), ('pName', 'inception'), ('o', '1984-03-07T00:00:00Z')]\n",
      "[('companyName', 'BlackBerry'), ('p', 'http://www.wikidata.org/prop/direct/P6366'), ('pName', 'Microsoft Academic ID'), ('o', '1309532762')]\n",
      "[('companyName', 'BlackBerry'), ('p', 'http://www.wikidata.org/prop/direct/P646'), ('pName', 'Freebase ID'), ('o', '/m/01y9f8')]\n",
      "[('companyName', 'BlackBerry'), ('p', 'http://www.wikidata.org/prop/direct/P6782'), ('pName', 'ROR ID'), ('o', '03mmk1j33')]\n",
      "[('companyName', 'BlackBerry'), ('p', 'http://www.wikidata.org/prop/direct/P691'), ('pName', 'NKCR AUT ID'), ('o', 'ko2018980842')]\n",
      "[('companyName', 'BlackBerry'), ('p', 'http://www.wikidata.org/prop/direct/P691'), ('pName', 'NKCR AUT ID'), ('o', 'ko2018980961')]\n",
      "[('companyName', 'BlackBerry'), ('p', 'http://www.wikidata.org/prop/direct/P7306'), ('pName', 'Downdetector ID'), ('o', 'blackberry')]\n",
      "[('companyName', 'BlackBerry'), ('p', 'http://www.wikidata.org/prop/direct/P7859'), ('pName', 'WorldCat Identities ID'), ('o', 'lccn-no2003095430')]\n",
      "[('companyName', 'BlackBerry'), ('p', 'http://www.wikidata.org/prop/direct/P856'), ('pName', 'official website'), ('o', 'https://www.blackberry.com')]\n",
      "[('companyName', 'BlackBerry'), ('p', 'http://www.wikidata.org/prop/direct/P946'), ('pName', 'ISIN'), ('o', 'CA09228F1036')]\n",
      "[('companyName', 'BlackBerry'), ('p', 'http://www.wikidata.org/prop/direct/P2137'), ('pName', 'total equity'), ('o', '2760000000')]\n",
      "[('companyName', 'Bloomberg L.P.'), ('p', 'http://www.wikidata.org/prop/direct/P112'), ('pName', 'founded by'), ('o', 'http://www.wikidata.org/entity/Q16123170'), ('oName', 'Charles Zegar')]\n",
      "[('companyName', 'Bloomberg L.P.'), ('p', 'http://www.wikidata.org/prop/direct/P112'), ('pName', 'founded by'), ('o', 'http://www.wikidata.org/entity/Q5314471'), ('oName', 'Duncan MacMillan')]\n",
      "[('companyName', 'Bloomberg L.P.'), ('p', 'http://www.wikidata.org/prop/direct/P112'), ('pName', 'founded by'), ('o', 'http://www.wikidata.org/entity/Q607'), ('oName', 'Michael Bloomberg')]\n",
      "[('companyName', 'Bloomberg L.P.'), ('p', 'http://www.wikidata.org/prop/direct/P112'), ('pName', 'founded by'), ('o', 'http://www.wikidata.org/entity/Q7793856'), ('oName', 'Thomas Secunda')]\n",
      "[('companyName', 'Bloomberg L.P.'), ('p', 'http://www.wikidata.org/prop/direct/P127'), ('pName', 'owned by'), ('o', 'http://www.wikidata.org/entity/Q607'), ('oName', 'Michael Bloomberg')]\n",
      "[('companyName', 'Bloomberg L.P.'), ('p', 'http://www.wikidata.org/prop/direct/P138'), ('pName', 'named after'), ('o', 'http://www.wikidata.org/entity/Q607'), ('oName', 'Michael Bloomberg')]\n",
      "[('companyName', 'Bloomberg L.P.'), ('p', 'http://www.wikidata.org/prop/direct/P1454'), ('pName', 'legal form'), ('o', 'http://www.wikidata.org/entity/Q909695'), ('oName', 'limited partnership')]\n",
      "[('companyName', 'Bloomberg L.P.'), ('p', 'http://www.wikidata.org/prop/direct/P159'), ('pName', 'headquarters location'), ('o', 'http://www.wikidata.org/entity/Q875078'), ('oName', 'Bloomberg Tower')]\n",
      "[('companyName', 'Bloomberg L.P.'), ('p', 'http://www.wikidata.org/prop/direct/P1687'), ('pName', 'Wikidata property'), ('o', 'http://www.wikidata.org/entity/P3052'), ('oName', 'Bloomberg person ID')]\n",
      "[('companyName', 'Bloomberg L.P.'), ('p', 'http://www.wikidata.org/prop/direct/P1687'), ('pName', 'Wikidata property'), ('o', 'http://www.wikidata.org/entity/P3377'), ('oName', 'Bloomberg company ID')]\n",
      "[('companyName', 'Bloomberg L.P.'), ('p', 'http://www.wikidata.org/prop/direct/P17'), ('pName', 'country'), ('o', 'http://www.wikidata.org/entity/Q30'), ('oName', 'United States of America')]\n",
      "[('companyName', 'Bloomberg L.P.'), ('p', 'http://www.wikidata.org/prop/direct/P1830'), ('pName', 'owner of'), ('o', 'http://www.wikidata.org/entity/Q13975'), ('oName', 'Bloomberg Television')]\n",
      "[('companyName', 'Bloomberg L.P.'), ('p', 'http://www.wikidata.org/prop/direct/P1830'), ('pName', 'owner of'), ('o', 'http://www.wikidata.org/entity/Q14270642'), ('oName', 'Bloomberg News')]\n",
      "[('companyName', 'Bloomberg L.P.'), ('p', 'http://www.wikidata.org/prop/direct/P1830'), ('pName', 'owner of'), ('o', 'http://www.wikidata.org/entity/Q15524972'), ('oName', 'Bloomberg TV Indonesia Jakarta')]\n",
      "[('companyName', 'Bloomberg L.P.'), ('p', 'http://www.wikidata.org/prop/direct/P1830'), ('pName', 'owner of'), ('o', 'http://www.wikidata.org/entity/Q25245121'), ('oName', 'Bloomberg Radio')]\n",
      "[('companyName', 'Bloomberg L.P.'), ('p', 'http://www.wikidata.org/prop/direct/P1830'), ('pName', 'owner of'), ('o', 'http://www.wikidata.org/entity/Q3564619'), ('oName', 'WBBR')]\n",
      "[('companyName', 'Bloomberg L.P.'), ('p', 'http://www.wikidata.org/prop/direct/P1830'), ('pName', 'owner of'), ('o', 'http://www.wikidata.org/entity/Q46996829'), ('oName', 'Bloomberg London')]\n",
      "[('companyName', 'Bloomberg L.P.'), ('p', 'http://www.wikidata.org/prop/direct/P1830'), ('pName', 'owner of'), ('o', 'http://www.wikidata.org/entity/Q4928189'), ('oName', 'Bloomberg Law')]\n",
      "[('companyName', 'Bloomberg L.P.'), ('p', 'http://www.wikidata.org/prop/direct/P1830'), ('pName', 'owner of'), ('o', 'http://www.wikidata.org/entity/Q4998403'), ('oName', 'Bloomberg Industry Group')]\n",
      "[('companyName', 'Bloomberg L.P.'), ('p', 'http://www.wikidata.org/prop/direct/P1830'), ('pName', 'owner of'), ('o', 'http://www.wikidata.org/entity/Q7953259'), ('oName', 'WNBP')]\n",
      "[('companyName', 'Bloomberg L.P.'), ('p', 'http://www.wikidata.org/prop/direct/P1830'), ('pName', 'owner of'), ('o', 'http://www.wikidata.org/entity/Q875078'), ('oName', 'Bloomberg Tower')]\n",
      "[('companyName', 'Bloomberg L.P.'), ('p', 'http://www.wikidata.org/prop/direct/P31'), ('pName', 'instance of'), ('o', 'http://www.wikidata.org/entity/Q4830453'), ('oName', 'business')]\n",
      "[('companyName', 'Bloomberg L.P.'), ('p', 'http://www.wikidata.org/prop/direct/P31'), ('pName', 'instance of'), ('o', 'http://www.wikidata.org/entity/Q6881511'), ('oName', 'enterprise')]\n",
      "[('companyName', 'Bloomberg L.P.'), ('p', 'http://www.wikidata.org/prop/direct/P355'), ('pName', 'subsidiary'), ('o', 'http://www.wikidata.org/entity/Q14270642'), ('oName', 'Bloomberg News')]\n",
      "[('companyName', 'Bloomberg L.P.'), ('p', 'http://www.wikidata.org/prop/direct/P452'), ('pName', 'industry'), ('o', 'http://www.wikidata.org/entity/Q56611639'), ('oName', 'media industry')]\n",
      "[('companyName', 'Bloomberg L.P.'), ('p', 'http://www.wikidata.org/prop/direct/P463'), ('pName', 'member of'), ('o', 'http://www.wikidata.org/entity/Q37033'), ('oName', 'World Wide Web Consortium')]\n",
      "[('companyName', 'Bloomberg L.P.'), ('p', 'http://www.wikidata.org/prop/direct/P740'), ('pName', 'location of formation'), ('o', 'http://www.wikidata.org/entity/Q60'), ('oName', 'New York City')]\n",
      "[('companyName', 'Bloomberg L.P.'), ('p', 'http://www.wikidata.org/prop/direct/P910'), ('pName', \"topic's main category\"), ('o', 'http://www.wikidata.org/entity/Q8303010'), ('oName', 'Category:Bloomberg L.P.')]\n",
      "[('companyName', 'Bloomberg L.P.'), ('p', 'http://www.wikidata.org/prop/direct/P1128'), ('pName', 'employees'), ('o', '20000')]\n",
      "[('companyName', 'Bloomberg L.P.'), ('p', 'http://www.wikidata.org/prop/direct/P1278'), ('pName', 'Legal Entity Identifier'), ('o', '549300B56MD0ZC402L06')]\n",
      "[('companyName', 'Bloomberg L.P.'), ('p', 'http://www.wikidata.org/prop/direct/P1296'), ('pName', 'Gran Enciclopèdia Catalana ID'), ('o', '21935956')]\n",
      "[('companyName', 'Bloomberg L.P.'), ('p', 'http://www.wikidata.org/prop/direct/P1417'), ('pName', 'Encyclopædia Britannica Online ID'), ('o', 'topic/Bloomberg-LP')]\n",
      "[('companyName', 'Bloomberg L.P.'), ('p', 'http://www.wikidata.org/prop/direct/P1482'), ('pName', 'Stack Exchange tag'), ('o', 'https://stackoverflow.com/tags/bloomberg')]\n",
      "[('companyName', 'Bloomberg L.P.'), ('p', 'http://www.wikidata.org/prop/direct/P154'), ('pName', 'logo image'), ('o', 'http://commons.wikimedia.org/wiki/Special:FilePath/New%20Bloomberg%20Logo.svg')]\n",
      "[('companyName', 'Bloomberg L.P.'), ('p', 'http://www.wikidata.org/prop/direct/P18'), ('pName', 'image'), ('o', 'http://commons.wikimedia.org/wiki/Special:FilePath/Bloomberg%20in%20London.jpg')]\n",
      "[('companyName', 'Bloomberg L.P.'), ('p', 'http://www.wikidata.org/prop/direct/P2002'), ('pName', 'Twitter username'), ('o', 'BloombergJapan')]\n",
      "[('companyName', 'Bloomberg L.P.'), ('p', 'http://www.wikidata.org/prop/direct/P2002'), ('pName', 'Twitter username'), ('o', 'business')]\n",
      "[('companyName', 'Bloomberg L.P.'), ('p', 'http://www.wikidata.org/prop/direct/P2013'), ('pName', 'Facebook ID'), ('o', 'BloombergNews')]\n",
      "[('companyName', 'Bloomberg L.P.'), ('p', 'http://www.wikidata.org/prop/direct/P2088'), ('pName', 'Crunchbase organization ID'), ('o', 'bloomberg')]\n",
      "[('companyName', 'Bloomberg L.P.'), ('p', 'http://www.wikidata.org/prop/direct/P2088'), ('pName', 'Crunchbase organization ID'), ('o', 'bloomberg-tv')]\n",
      "[('companyName', 'Bloomberg L.P.'), ('p', 'http://www.wikidata.org/prop/direct/P2088'), ('pName', 'Crunchbase organization ID'), ('o', 'o-y-properties-corporation')]\n",
      "[('companyName', 'Bloomberg L.P.'), ('p', 'http://www.wikidata.org/prop/direct/P213'), ('pName', 'ISNI'), ('o', '0000 0004 0624 4591')]\n",
      "[('companyName', 'Bloomberg L.P.'), ('p', 'http://www.wikidata.org/prop/direct/P214'), ('pName', 'VIAF ID'), ('o', '134069181')]\n",
      "[('companyName', 'Bloomberg L.P.'), ('p', 'http://www.wikidata.org/prop/direct/P2397'), ('pName', 'YouTube channel ID'), ('o', 'UCUMZ7gohGI9HcU9VNsr2FJQ')]\n",
      "[('companyName', 'Bloomberg L.P.'), ('p', 'http://www.wikidata.org/prop/direct/P2427'), ('pName', 'GRID ID'), ('o', 'grid.431434.5')]\n",
      "[('companyName', 'Bloomberg L.P.'), ('p', 'http://www.wikidata.org/prop/direct/P244'), ('pName', 'Library of Congress authority ID'), ('o', 'no2007042801')]\n",
      "[('companyName', 'Bloomberg L.P.'), ('p', 'http://www.wikidata.org/prop/direct/P2657'), ('pName', 'EU Transparency Register ID'), ('o', '272910022778-05')]\n",
      "[('companyName', 'Bloomberg L.P.'), ('p', 'http://www.wikidata.org/prop/direct/P3153'), ('pName', 'Crossref funder ID'), ('o', '100004703')]\n",
      "[('companyName', 'Bloomberg L.P.'), ('p', 'http://www.wikidata.org/prop/direct/P3221'), ('pName', 'New York Times topic ID'), ('o', 'company/bloomberg-lp')]\n",
      "[('companyName', 'Bloomberg L.P.'), ('p', 'http://www.wikidata.org/prop/direct/P3225'), ('pName', 'Corporate Number (Japan)'), ('o', '8700150002453')]\n",
      "[('companyName', 'Bloomberg L.P.'), ('p', 'http://www.wikidata.org/prop/direct/P3347'), ('pName', 'PermID'), ('o', '4295956702')]\n",
      "[('companyName', 'Bloomberg L.P.'), ('p', 'http://www.wikidata.org/prop/direct/P3417'), ('pName', 'Quora topic ID'), ('o', 'Bloomberg-company')]\n",
      "[('companyName', 'Bloomberg L.P.'), ('p', 'http://www.wikidata.org/prop/direct/P3500'), ('pName', 'Ringgold ID'), ('o', '50421')]\n",
      "[('companyName', 'Bloomberg L.P.'), ('p', 'http://www.wikidata.org/prop/direct/P373'), ('pName', 'Commons category'), ('o', 'Bloomberg L.P.')]\n",
      "[('companyName', 'Bloomberg L.P.'), ('p', 'http://www.wikidata.org/prop/direct/P3789'), ('pName', 'Telegram username'), ('o', 'bloomberg')]\n",
      "[('companyName', 'Bloomberg L.P.'), ('p', 'http://www.wikidata.org/prop/direct/P571'), ('pName', 'inception'), ('o', '1981-10-01T00:00:00Z')]\n",
      "[('companyName', 'Bloomberg L.P.'), ('p', 'http://www.wikidata.org/prop/direct/P6366'), ('pName', 'Microsoft Academic ID'), ('o', '1299907687')]\n",
      "[('companyName', 'Bloomberg L.P.'), ('p', 'http://www.wikidata.org/prop/direct/P646'), ('pName', 'Freebase ID'), ('o', '/m/027sm6')]\n",
      "[('companyName', 'Bloomberg L.P.'), ('p', 'http://www.wikidata.org/prop/direct/P6782'), ('pName', 'ROR ID'), ('o', '02rdpzb15')]\n",
      "[('companyName', 'Bloomberg L.P.'), ('p', 'http://www.wikidata.org/prop/direct/P7859'), ('pName', 'WorldCat Identities ID'), ('o', 'lccn-no2007042801')]\n",
      "[('companyName', 'Bloomberg L.P.'), ('p', 'http://www.wikidata.org/prop/direct/P856'), ('pName', 'official website'), ('o', 'https://www.bloomberg.com/')]\n",
      "[('companyName', 'Bloomberg L.P.'), ('p', 'http://www.wikidata.org/prop/direct/P8687'), ('pName', 'social media followers'), ('o', '2780000')]\n",
      "[('companyName', 'Bloomberg L.P.'), ('p', 'http://www.wikidata.org/prop/direct/P9368'), ('pName', 'CNA topic ID'), ('o', 'bloomberg')]\n",
      "[('companyName', 'Bloomberg L.P.'), ('p', 'http://www.wikidata.org/prop/direct/P973'), ('pName', 'described at URL'), ('o', 'http://www.fundinguniverse.com/company-histories/bloomberg-l-p-history/')]\n",
      "[('companyName', 'Bloomberg L.P.'), ('p', 'http://www.wikidata.org/prop/direct/P9852'), ('pName', 'Media Bias/Fact Check ID'), ('o', 'bloomberg')]\n"
     ]
    },
    {
     "data": {
      "text/plain": [
       "159"
      ]
     },
     "execution_count": 3,
     "metadata": {},
     "output_type": "execute_result"
    }
   ],
   "source": [
    "queryString = \"\"\"\n",
    "select ?companyName ?p ?pName ?o ?oName where {\n",
    "    values ?company {wd:Q13977 wd:Q502121}\n",
    "    \n",
    "    ?company ?p ?o .\n",
    "    \n",
    "    ?p <http://schema.org/name> ?pName .\n",
    "    ?company <http://schema.org/name> ?companyName .\n",
    "    optional { ?o <http://schema.org/name> ?oName . } .\n",
    "} order by desc(?company)\n",
    "\"\"\"\n",
    "\n",
    "print(\"Results\")\n",
    "run_query(queryString)"
   ]
  },
  {
   "cell_type": "markdown",
   "id": "f098f6a6-9f9e-476e-bfd0-b64841e4ae36",
   "metadata": {},
   "source": [
    "The number of employees is given by the property **P1128**, so the BGP I want is:\n",
    "\n",
    "```\n",
    "?business wdt:P1128 ?numEmployees .\n",
    "```"
   ]
  },
  {
   "cell_type": "markdown",
   "id": "4d0a67c9-5ff7-4ab6-ae04-08f49c472f39",
   "metadata": {},
   "source": [
    "I can list all the numeric properties releated businesses filtering them with \"isNumeric\""
   ]
  },
  {
   "cell_type": "code",
   "execution_count": 4,
   "id": "fd92a27a-2cfc-4b58-be3f-d0e3c96680b2",
   "metadata": {
    "tags": []
   },
   "outputs": [
    {
     "name": "stdout",
     "output_type": "stream",
     "text": [
      "Results\n",
      "[('p', 'http://www.wikidata.org/prop/direct/P1128'), ('pName', 'employees')]\n",
      "[('p', 'http://www.wikidata.org/prop/direct/P1661'), ('pName', 'Alexa rank')]\n",
      "[('p', 'http://www.wikidata.org/prop/direct/P2139'), ('pName', 'total revenue')]\n",
      "[('p', 'http://www.wikidata.org/prop/direct/P2295'), ('pName', 'net profit')]\n",
      "[('p', 'http://www.wikidata.org/prop/direct/P2403'), ('pName', 'total assets')]\n",
      "[('p', 'http://www.wikidata.org/prop/direct/P3362'), ('pName', 'operating income')]\n",
      "[('p', 'http://www.wikidata.org/prop/direct/P8687'), ('pName', 'social media followers')]\n",
      "[('p', 'http://www.wikidata.org/prop/direct/P2137'), ('pName', 'total equity')]\n",
      "[('p', 'http://www.wikidata.org/prop/direct/P2138'), ('pName', 'total liabilities')]\n",
      "[('p', 'http://www.wikidata.org/prop/direct/P8340'), ('pName', 'estimated value')]\n",
      "[('p', 'http://www.wikidata.org/prop/direct/P9279'), ('pName', 'Egapro gender equality index')]\n",
      "[('p', 'http://www.wikidata.org/prop/direct/P2043'), ('pName', 'length')]\n",
      "[('p', 'http://www.wikidata.org/prop/direct/P2048'), ('pName', 'height')]\n",
      "[('p', 'http://www.wikidata.org/prop/direct/P2049'), ('pName', 'width')]\n",
      "[('p', 'http://www.wikidata.org/prop/direct/P2046'), ('pName', 'area')]\n",
      "[('p', 'http://www.wikidata.org/prop/direct/P3744'), ('pName', 'number of subscribers')]\n",
      "[('p', 'http://www.wikidata.org/prop/direct/P2226'), ('pName', 'market capitalization')]\n",
      "[('p', 'http://www.wikidata.org/prop/direct/P2133'), ('pName', 'total debt')]\n",
      "[('p', 'http://www.wikidata.org/prop/direct/P2663'), ('pName', 'common equity tier 1 capital ratio (CETI)')]\n",
      "[('p', 'http://www.wikidata.org/prop/direct/P1114'), ('pName', 'quantity')]\n",
      "[('p', 'http://www.wikidata.org/prop/direct/P1833'), ('pName', 'number of registered users/contributors')]\n",
      "[('p', 'http://www.wikidata.org/prop/direct/P4103'), ('pName', 'assets under management')]\n",
      "[('p', 'http://www.wikidata.org/prop/direct/P8368'), ('pName', 'number of branches')]\n",
      "[('p', 'http://www.wikidata.org/prop/direct/P1174'), ('pName', 'visitors per year')]\n",
      "[('p', 'http://www.wikidata.org/prop/direct/P2124'), ('pName', 'member count')]\n",
      "[('p', 'http://www.wikidata.org/prop/direct/P3086'), ('pName', 'speed limit')]\n",
      "[('p', 'http://www.wikidata.org/prop/direct/P2595'), ('pName', 'maximum gradient')]\n",
      "[('p', 'http://www.wikidata.org/prop/direct/P8247'), ('pName', 'nominal share capital')]\n",
      "[('p', 'http://www.wikidata.org/prop/direct/P2402'), ('pName', 'total expenditure')]\n",
      "[('p', 'http://www.wikidata.org/prop/direct/P1132'), ('pName', 'number of participants')]\n",
      "[('p', 'http://www.wikidata.org/prop/direct/P2896'), ('pName', 'publication interval')]\n",
      "[('p', 'http://www.wikidata.org/prop/direct/P2232'), ('pName', 'cash')]\n",
      "[('p', 'http://www.wikidata.org/prop/direct/P6801'), ('pName', 'number of hospital beds')]\n",
      "[('p', 'http://www.wikidata.org/prop/direct/P1092'), ('pName', 'total produced')]\n",
      "[('p', 'http://www.wikidata.org/prop/direct/P2284'), ('pName', 'price')]\n",
      "[('p', 'http://www.wikidata.org/prop/direct/P2257'), ('pName', 'event interval')]\n",
      "[('p', 'http://www.wikidata.org/prop/direct/P3575'), ('pName', 'data size')]\n",
      "[('p', 'http://www.wikidata.org/prop/direct/P1436'), ('pName', 'collection or exhibition size')]\n",
      "[('p', 'http://www.wikidata.org/prop/direct/P1872'), ('pName', 'minimum number of players')]\n",
      "[('p', 'http://www.wikidata.org/prop/direct/P1113'), ('pName', 'number of episodes')]\n",
      "[('p', 'http://www.wikidata.org/prop/direct/P2109'), ('pName', 'installed capacity')]\n",
      "[('p', 'http://www.wikidata.org/prop/direct/P2044'), ('pName', 'elevation above sea level')]\n",
      "[('p', 'http://www.wikidata.org/prop/direct/P2197'), ('pName', 'production rate')]\n",
      "[('p', 'http://www.wikidata.org/prop/direct/P2254'), ('pName', 'maximum operating altitude')]\n",
      "[('p', 'http://www.wikidata.org/prop/direct/P2555'), ('pName', 'fee')]\n",
      "[('p', 'http://www.wikidata.org/prop/direct/P6589'), ('pName', 'endowment')]\n",
      "[('p', 'http://www.wikidata.org/prop/direct/P3872'), ('pName', 'patronage')]\n",
      "[('p', 'http://www.wikidata.org/prop/direct/P2262'), ('pName', 'draft')]\n",
      "[('p', 'http://www.wikidata.org/prop/direct/P2052'), ('pName', 'speed')]\n",
      "[('p', 'http://www.wikidata.org/prop/direct/P1373'), ('pName', 'daily patronage')]\n",
      "[('p', 'http://www.wikidata.org/prop/direct/P1083'), ('pName', 'maximum capacity')]\n",
      "[('p', 'http://www.wikidata.org/prop/direct/P2130'), ('pName', 'cost')]\n",
      "[('p', 'http://www.wikidata.org/prop/direct/P2144'), ('pName', 'frequency')]\n",
      "[('p', 'http://www.wikidata.org/prop/direct/P5896'), ('pName', 'trading fee')]\n",
      "[('p', 'http://www.wikidata.org/prop/direct/P5991'), ('pName', 'carbon footprint')]\n",
      "[('p', 'http://www.wikidata.org/prop/direct/P3039'), ('pName', 'wheelbase')]\n",
      "[('p', 'http://www.wikidata.org/prop/direct/P4131'), ('pName', 'annual energy output')]\n",
      "[('p', 'http://www.wikidata.org/prop/direct/P2661'), ('pName', 'target interest rate')]\n",
      "[('p', 'http://www.wikidata.org/prop/direct/P1101'), ('pName', 'floors above ground')]\n",
      "[('p', 'http://www.wikidata.org/prop/direct/P2769'), ('pName', 'budget')]\n",
      "[('p', 'http://www.wikidata.org/prop/direct/P2067'), ('pName', 'mass')]\n",
      "[('p', 'http://www.wikidata.org/prop/direct/P2610'), ('pName', 'thickness')]\n",
      "[('p', 'http://www.wikidata.org/prop/direct/P8594'), ('pName', 'ride height')]\n",
      "[('p', 'http://www.wikidata.org/prop/direct/P2261'), ('pName', 'beam')]\n",
      "[('p', 'http://www.wikidata.org/prop/direct/P6125'), ('pName', 'number of volunteers')]\n",
      "[('p', 'http://www.wikidata.org/prop/direct/P8093'), ('pName', 'donations')]\n",
      "[('p', 'http://www.wikidata.org/prop/direct/P2957'), ('pName', 'throughput')]\n",
      "[('p', 'http://www.wikidata.org/prop/direct/P2437'), ('pName', 'number of seasons')]\n",
      "[('p', 'http://www.wikidata.org/prop/direct/P1104'), ('pName', 'number of pages')]\n",
      "[('p', 'http://www.wikidata.org/prop/direct/P6697'), ('pName', 'Football Money League rank')]\n",
      "[('p', 'http://www.wikidata.org/prop/direct/P2658'), ('pName', 'Scoville grade')]\n",
      "[('p', 'http://www.wikidata.org/prop/direct/P3087'), ('pName', 'fiscal/tax revenue')]\n"
     ]
    },
    {
     "data": {
      "text/plain": [
       "72"
      ]
     },
     "execution_count": 4,
     "metadata": {},
     "output_type": "execute_result"
    }
   ],
   "source": [
    "queryString = \"\"\"\n",
    "select distinct ?p ?pName where {\n",
    "    ?business ?p ?o ;\n",
    "              wdt:P31 wd:Q4830453 .\n",
    "    \n",
    "    ?p <http://schema.org/name> ?pName .\n",
    "    \n",
    "    filter isNumeric(?o) .\n",
    "}\n",
    "\"\"\"\n",
    "\n",
    "print(\"Results\")\n",
    "run_query(queryString)"
   ]
  },
  {
   "cell_type": "markdown",
   "id": "36b741d4-a3a8-43d3-885e-cc268b77c422",
   "metadata": {},
   "source": [
    "And so we can get other relevant numerical attributes like the *net profit (**P2295**)*, the *market capitalization (**P2226**)*, the *estimated value (**P8340**)*, the *equality index (**P9279**)*, the *total debpt (**P2133**)* and so on. The BGP for there properties is:\n",
    "\n",
    "```\n",
    "?business wdt:{property code} ?value .\n",
    "```"
   ]
  },
  {
   "cell_type": "markdown",
   "id": "9c11225d-4679-459e-953e-92e50bdb2b9d",
   "metadata": {},
   "source": [
    "## 2. Identify the BGP to retrieve all companies owned by a company"
   ]
  },
  {
   "cell_type": "markdown",
   "id": "62cb8fa7-343e-4206-a3c1-e597816b0bb2",
   "metadata": {},
   "source": [
    "From the list of properties of Bloomberg L.P. I see that the property *owner of* has the code **P1830**. I can also see the properties of an owned company, like Bloomberg News, in order to see if there is a property \"owned\"."
   ]
  },
  {
   "cell_type": "code",
   "execution_count": 5,
   "id": "4a5665d7-8632-46ff-857c-b17cb25dda8c",
   "metadata": {
    "tags": []
   },
   "outputs": [
    {
     "name": "stdout",
     "output_type": "stream",
     "text": [
      "Results\n",
      "[('p', 'http://www.wikidata.org/prop/direct/P31'), ('pName', 'instance of'), ('o', 'http://www.wikidata.org/entity/Q192283'), ('oName', 'news agency')]\n",
      "[('p', 'http://www.wikidata.org/prop/direct/P452'), ('pName', 'industry'), ('o', 'http://www.wikidata.org/entity/Q192283'), ('oName', 'news agency')]\n",
      "[('p', 'http://www.wikidata.org/prop/direct/P17'), ('pName', 'country'), ('o', 'http://www.wikidata.org/entity/Q30'), ('oName', 'United States of America')]\n",
      "[('p', 'http://www.wikidata.org/prop/direct/P159'), ('pName', 'headquarters location'), ('o', 'http://www.wikidata.org/entity/Q60'), ('oName', 'New York City')]\n",
      "[('p', 'http://www.wikidata.org/prop/direct/P740'), ('pName', 'location of formation'), ('o', 'http://www.wikidata.org/entity/Q60'), ('oName', 'New York City')]\n",
      "[('p', 'http://www.wikidata.org/prop/direct/P749'), ('pName', 'parent organization'), ('o', 'http://www.wikidata.org/entity/Q13977'), ('oName', 'Bloomberg L.P.')]\n",
      "[('p', 'http://www.wikidata.org/prop/direct/P127'), ('pName', 'owned by'), ('o', 'http://www.wikidata.org/entity/Q13977'), ('oName', 'Bloomberg L.P.')]\n",
      "[('p', 'http://www.wikidata.org/prop/direct/P1037'), ('pName', 'director / manager'), ('o', 'http://www.wikidata.org/entity/Q6789544'), ('oName', 'Matt Winkler')]\n",
      "[('p', 'http://www.wikidata.org/prop/direct/P154'), ('pName', 'logo image'), ('o', 'http://commons.wikimedia.org/wiki/Special:FilePath/Bloomberg%20News%20logo.png')]\n",
      "[('p', 'http://www.wikidata.org/prop/direct/P2267'), ('pName', 'PolitiFact people and groups ID'), ('o', 'bloomberg-bloombergcom')]\n",
      "[('p', 'http://www.wikidata.org/prop/direct/P3417'), ('pName', 'Quora topic ID'), ('o', 'Bloomberg-News')]\n",
      "[('p', 'http://www.wikidata.org/prop/direct/P373'), ('pName', 'Commons category'), ('o', 'Bloomberg News')]\n",
      "[('p', 'http://www.wikidata.org/prop/direct/P571'), ('pName', 'inception'), ('o', '1990-01-01T00:00:00Z')]\n",
      "[('p', 'http://www.wikidata.org/prop/direct/P6366'), ('pName', 'Microsoft Academic ID'), ('o', '184405874')]\n",
      "[('p', 'http://www.wikidata.org/prop/direct/P646'), ('pName', 'Freebase ID'), ('o', '/m/0vpsrmz')]\n",
      "[('p', 'http://www.wikidata.org/prop/direct/P856'), ('pName', 'official website'), ('o', 'http://www.bloomberg.com/news/')]\n",
      "[('p', 'http://www.wikidata.org/prop/direct/P963'), ('pName', 'streaming media URL'), ('o', 'https://www.youtube.com/watch?v=dp8PhLsUcFE')]\n"
     ]
    },
    {
     "data": {
      "text/plain": [
       "17"
      ]
     },
     "execution_count": 5,
     "metadata": {},
     "output_type": "execute_result"
    }
   ],
   "source": [
    "queryString = \"\"\"\n",
    "select ?p ?pName ?o ?oName where {\n",
    "    wd:Q14270642 ?p ?o .\n",
    "    \n",
    "    ?p <http://schema.org/name> ?pName .\n",
    "    optional { ?o <http://schema.org/name> ?oName . } .\n",
    "}\n",
    "\"\"\"\n",
    "\n",
    "print(\"Results\")\n",
    "run_query(queryString)"
   ]
  },
  {
   "cell_type": "markdown",
   "id": "d675d88c-52e2-4614-a54a-701691f750b3",
   "metadata": {},
   "source": [
    "There is a property *owned by* with the code **P127**. The final BGP for all the companies owned by a business is:\n",
    "\n",
    "```\n",
    "{ ?business wdt:P1830 ?owned . } union { ?owned wdt:P127 ?business . }\n",
    "```\n",
    "\n",
    "The following query is an example for the companies owned by Bloomberg L.P."
   ]
  },
  {
   "cell_type": "code",
   "execution_count": 6,
   "id": "018fd32e-bcfb-4beb-ac18-c2afb86559de",
   "metadata": {
    "tags": []
   },
   "outputs": [
    {
     "name": "stdout",
     "output_type": "stream",
     "text": [
      "Results\n",
      "[('owned', 'http://www.wikidata.org/entity/Q13975'), ('ownedName', 'Bloomberg Television')]\n",
      "[('owned', 'http://www.wikidata.org/entity/Q14270642'), ('ownedName', 'Bloomberg News')]\n",
      "[('owned', 'http://www.wikidata.org/entity/Q15524972'), ('ownedName', 'Bloomberg TV Indonesia Jakarta')]\n",
      "[('owned', 'http://www.wikidata.org/entity/Q25245121'), ('ownedName', 'Bloomberg Radio')]\n",
      "[('owned', 'http://www.wikidata.org/entity/Q3564619'), ('ownedName', 'WBBR')]\n",
      "[('owned', 'http://www.wikidata.org/entity/Q46996829'), ('ownedName', 'Bloomberg London')]\n",
      "[('owned', 'http://www.wikidata.org/entity/Q4928189'), ('ownedName', 'Bloomberg Law')]\n",
      "[('owned', 'http://www.wikidata.org/entity/Q4998403'), ('ownedName', 'Bloomberg Industry Group')]\n",
      "[('owned', 'http://www.wikidata.org/entity/Q7953259'), ('ownedName', 'WNBP')]\n",
      "[('owned', 'http://www.wikidata.org/entity/Q875078'), ('ownedName', 'Bloomberg Tower')]\n",
      "[('owned', 'http://www.wikidata.org/entity/Q93357917'), ('ownedName', 'BLOOMBERG SEF LLC')]\n",
      "[('owned', 'http://www.wikidata.org/entity/Q93358310'), ('ownedName', 'BLOOMBERG TRADEBOOK JAPAN LIMITED')]\n",
      "[('owned', 'http://www.wikidata.org/entity/Q86536513'), ('ownedName', 'QuickTake')]\n"
     ]
    },
    {
     "data": {
      "text/plain": [
       "13"
      ]
     },
     "execution_count": 6,
     "metadata": {},
     "output_type": "execute_result"
    }
   ],
   "source": [
    "queryString = \"\"\"\n",
    "select distinct ?owned ?ownedName where {\n",
    "    { wd:Q13977 wdt:P1830+ ?owned . } union { ?owned wdt:P127+ wd:Q13977 . } .\n",
    "\n",
    "    ?owned <http://schema.org/name> ?ownedName .\n",
    "}\n",
    "\"\"\"\n",
    "\n",
    "print(\"Results\")\n",
    "run_query(queryString)"
   ]
  },
  {
   "cell_type": "markdown",
   "id": "12e7a6b5-2802-46f8-9b17-854cba864f74",
   "metadata": {},
   "source": [
    "## 3. Is there some company that owns companies in other countries?"
   ]
  },
  {
   "cell_type": "markdown",
   "id": "99f777ba-cc62-4cb1-8c31-89fd70ca0b77",
   "metadata": {},
   "source": [
    "I can answer this questions with an ask query, taking the companies that have a country different from their owned companies."
   ]
  },
  {
   "cell_type": "code",
   "execution_count": 7,
   "id": "a512c7a5-6ff9-4767-a1fb-6b0e860af2cf",
   "metadata": {
    "tags": []
   },
   "outputs": [
    {
     "name": "stdout",
     "output_type": "stream",
     "text": [
      "Results\n"
     ]
    },
    {
     "data": {
      "text/plain": [
       "{'head': {'link': []}, 'boolean': True}"
      ]
     },
     "execution_count": 7,
     "metadata": {},
     "output_type": "execute_result"
    }
   ],
   "source": [
    "queryString = \"\"\"\n",
    "ask where {\n",
    "    values ?companyCountry {wd:Q16 wd:Q145 wd:Q30}\n",
    "    \n",
    "    { ?company wdt:P1830+ ?owned . } union { ?owned wdt:P127+ ?company . } .\n",
    "\n",
    "    ?company wdt:P17 ?companyCountry .\n",
    "    ?owned wdt:P17 ?ownedCountry .\n",
    "\n",
    "    filter (?companyCountry != ?ownedCountry)\n",
    "}\n",
    "\"\"\"\n",
    "\n",
    "print(\"Results\")\n",
    "run_ask_query(queryString)"
   ]
  },
  {
   "cell_type": "markdown",
   "id": "bb8e6709-33b4-4e64-92bf-138b5b40acb9",
   "metadata": {},
   "source": [
    "So there is some company that owns companies in other countries."
   ]
  },
  {
   "cell_type": "markdown",
   "id": "a3bea647-8b94-46a5-b258-ad280713d964",
   "metadata": {},
   "source": [
    "## 4. Companies have different 'legal forms', compare the number of companies divided in different legal forms"
   ]
  },
  {
   "cell_type": "markdown",
   "id": "a7e5b644-1b37-418d-a7c8-ba5290f672c0",
   "metadata": {},
   "source": [
    "From the properties of Bloomberg L.P. I see that the legal form is described by the property **P1454**."
   ]
  },
  {
   "cell_type": "code",
   "execution_count": 8,
   "id": "377b10bd-0a62-4a1b-af91-f56cc72ed244",
   "metadata": {
    "tags": []
   },
   "outputs": [
    {
     "name": "stdout",
     "output_type": "stream",
     "text": [
      "Results\n",
      "[('legalForm', 'http://www.wikidata.org/entity/Q891723'), ('legalFormName', 'public company'), ('numCompanies', '490')]\n",
      "[('legalForm', 'http://www.wikidata.org/entity/Q134161'), ('legalFormName', 'joint-stock company'), ('numCompanies', '392')]\n",
      "[('legalForm', 'http://www.wikidata.org/entity/Q1589009'), ('legalFormName', 'privately held company'), ('numCompanies', '342')]\n",
      "[('legalForm', 'http://www.wikidata.org/entity/Q5225895'), ('legalFormName', 'public limited company'), ('numCompanies', '255')]\n",
      "[('legalForm', 'http://www.wikidata.org/entity/Q6832945'), ('legalFormName', 'private company limited by shares'), ('numCompanies', '231')]\n",
      "[('legalForm', 'http://www.wikidata.org/entity/Q149789'), ('legalFormName', 'limited liability company'), ('numCompanies', '197')]\n",
      "[('legalForm', 'http://www.wikidata.org/entity/Q783794'), ('legalFormName', 'company'), ('numCompanies', '91')]\n",
      "[('legalForm', 'http://www.wikidata.org/entity/Q658255'), ('legalFormName', 'subsidiary'), ('numCompanies', '85')]\n",
      "[('legalForm', 'http://www.wikidata.org/entity/Q167037'), ('legalFormName', 'corporation'), ('numCompanies', '79')]\n",
      "[('legalForm', 'http://www.wikidata.org/entity/Q422074'), ('legalFormName', 'corporation'), ('numCompanies', '77')]\n",
      "[('legalForm', 'http://www.wikidata.org/entity/Q57655560'), ('legalFormName', 'U.S. corporation'), ('numCompanies', '76')]\n",
      "[('legalForm', 'http://www.wikidata.org/entity/Q166280'), ('legalFormName', 'S.A.'), ('numCompanies', '63')]\n",
      "[('legalForm', 'http://www.wikidata.org/entity/Q18624259'), ('legalFormName', 'private limited liability company'), ('numCompanies', '59')]\n",
      "[('legalForm', 'http://www.wikidata.org/entity/Q33685'), ('legalFormName', 'limited company'), ('numCompanies', '58')]\n",
      "[('legalForm', 'http://www.wikidata.org/entity/Q88537331'), ('legalFormName', 'Delaware corporation'), ('numCompanies', '41')]\n",
      "[('legalForm', 'http://www.wikidata.org/entity/Q1588658'), ('legalFormName', 'limited liability partnership'), ('numCompanies', '32')]\n",
      "[('legalForm', 'http://www.wikidata.org/entity/Q15648878'), ('legalFormName', 'S.r.l.'), ('numCompanies', '23')]\n",
      "[('legalForm', 'http://www.wikidata.org/entity/Q909695'), ('legalFormName', 'limited partnership'), ('numCompanies', '19')]\n",
      "[('legalForm', 'http://www.wikidata.org/entity/Q105162507'), ('legalFormName', 'Registered Society'), ('numCompanies', '13')]\n",
      "[('legalForm', 'http://www.wikidata.org/entity/Q460178'), ('legalFormName', 'GmbH'), ('numCompanies', '12')]\n",
      "[('legalForm', 'http://www.wikidata.org/entity/Q5189488'), ('legalFormName', 'Crown corporation of Canada'), ('numCompanies', '11')]\n",
      "[('legalForm', 'http://www.wikidata.org/entity/Q693737'), ('legalFormName', 'Aktiengesellschaft'), ('numCompanies', '9')]\n",
      "[('legalForm', 'http://www.wikidata.org/entity/Q654502'), ('legalFormName', 'Société par actions simplifiée'), ('numCompanies', '8')]\n",
      "[('legalForm', 'http://www.wikidata.org/entity/Q489209'), ('legalFormName', 'joint venture'), ('numCompanies', '8')]\n",
      "[('legalForm', 'http://www.wikidata.org/entity/Q3178478'), ('legalFormName', 'incorporation'), ('numCompanies', '7')]\n",
      "[('legalForm', 'http://www.wikidata.org/entity/Q163740'), ('legalFormName', 'nonprofit organization'), ('numCompanies', '7')]\n",
      "[('legalForm', 'http://www.wikidata.org/entity/Q4539'), ('legalFormName', 'cooperative'), ('numCompanies', '7')]\n",
      "[('legalForm', 'http://www.wikidata.org/entity/Q955214'), ('legalFormName', 'mutual organization'), ('numCompanies', '6')]\n",
      "[('legalForm', 'http://www.wikidata.org/entity/Q1480166'), ('legalFormName', 'kabushiki gaisha'), ('numCompanies', '6')]\n",
      "[('legalForm', 'http://www.wikidata.org/entity/Q897103'), ('legalFormName', 'GmbH & Co. KG'), ('numCompanies', '6')]\n",
      "[('legalForm', 'http://www.wikidata.org/entity/Q422062'), ('legalFormName', 'Aktiengesellschaft'), ('numCompanies', '5')]\n",
      "[('legalForm', 'http://www.wikidata.org/entity/Q1436139'), ('legalFormName', 'Naamloze vennootschap'), ('numCompanies', '5')]\n",
      "[('legalForm', 'http://www.wikidata.org/entity/Q5621421'), ('legalFormName', 'private company'), ('numCompanies', '4')]\n",
      "[('legalForm', 'http://www.wikidata.org/entity/Q20180983'), ('legalFormName', 'Kompanie'), ('numCompanies', '4')]\n",
      "[('legalForm', 'http://www.wikidata.org/entity/Q17084016'), ('legalFormName', 'nonprofit corporation'), ('numCompanies', '3')]\n",
      "[('legalForm', 'http://www.wikidata.org/entity/Q13641190'), ('legalFormName', 'open joint-stock company'), ('numCompanies', '3')]\n",
      "[('legalForm', 'http://www.wikidata.org/entity/Q18325436'), ('legalFormName', '501(c)(3) organization'), ('numCompanies', '3')]\n",
      "[('legalForm', 'http://www.wikidata.org/entity/Q422069'), ('legalFormName', 'Limited Company'), ('numCompanies', '3')]\n",
      "[('legalForm', 'http://www.wikidata.org/entity/Q4830453'), ('legalFormName', 'business'), ('numCompanies', '3')]\n",
      "[('legalForm', 'http://www.wikidata.org/entity/Q15829892'), ('legalFormName', 'Gesellschaft mit beschränkter Haftung'), ('numCompanies', '3')]\n",
      "[('legalForm', 'http://www.wikidata.org/entity/Q699386'), ('legalFormName', 'statutory corporation'), ('numCompanies', '3')]\n",
      "[('legalForm', 'http://www.wikidata.org/entity/Q695318'), ('legalFormName', 'mutual insurance'), ('numCompanies', '3')]\n",
      "[('legalForm', 'http://www.wikidata.org/entity/Q646164'), ('legalFormName', 'general partnership'), ('numCompanies', '3')]\n",
      "[('legalForm', 'http://www.wikidata.org/entity/Q19252952'), ('legalFormName', 'associated company'), ('numCompanies', '3')]\n",
      "[('legalForm', 'http://www.wikidata.org/entity/Q21980538'), ('legalFormName', 'commercial organization'), ('numCompanies', '3')]\n",
      "[('legalForm', 'http://www.wikidata.org/entity/Q2178147'), ('legalFormName', 'trade association'), ('numCompanies', '2')]\n",
      "[('legalForm', 'http://www.wikidata.org/entity/Q270791'), ('legalFormName', 'state-owned enterprise'), ('numCompanies', '2')]\n",
      "[('legalForm', 'http://www.wikidata.org/entity/Q1518730'), ('legalFormName', 'corporate law in the United States'), ('numCompanies', '2')]\n",
      "[('legalForm', 'http://www.wikidata.org/entity/Q422007'), ('legalFormName', 'aktiebolag'), ('numCompanies', '2')]\n",
      "[('legalForm', 'http://www.wikidata.org/entity/Q15648901'), ('legalFormName', 'S.L.'), ('numCompanies', '2')]\n",
      "[('legalForm', 'http://www.wikidata.org/entity/Q6516200'), ('legalFormName', 'private company limited by guarantee'), ('numCompanies', '2')]\n",
      "[('legalForm', 'http://www.wikidata.org/entity/Q708676'), ('legalFormName', 'charitable organization'), ('numCompanies', '2')]\n",
      "[('legalForm', 'http://www.wikidata.org/entity/Q837619'), ('legalFormName', 'Kommanditgesellschaft auf Aktien'), ('numCompanies', '2')]\n",
      "[('legalForm', 'http://www.wikidata.org/entity/Q4887441'), ('legalFormName', 'benefit corporation'), ('numCompanies', '2')]\n",
      "[('legalForm', 'http://www.wikidata.org/entity/Q422053'), ('legalFormName', 'NV/SA'), ('numCompanies', '2')]\n",
      "[('legalForm', 'http://www.wikidata.org/entity/Q697852'), ('legalFormName', 'real estate investment trust'), ('numCompanies', '2')]\n",
      "[('legalForm', 'http://www.wikidata.org/entity/Q102337260'), ('legalFormName', 'limited liability partnership'), ('numCompanies', '2')]\n",
      "[('legalForm', 'http://www.wikidata.org/entity/Q1132207'), ('legalFormName', 'business incubator'), ('numCompanies', '2')]\n",
      "[('legalForm', 'http://www.wikidata.org/entity/Q4086495'), ('legalFormName', 'startup accelerator'), ('numCompanies', '2')]\n",
      "[('legalForm', 'http://www.wikidata.org/entity/Q219577'), ('legalFormName', 'holding company'), ('numCompanies', '2')]\n",
      "[('legalForm', 'http://www.wikidata.org/entity/Q334453'), ('legalFormName', 'division'), ('numCompanies', '2')]\n",
      "[('legalForm', 'http://www.wikidata.org/entity/Q6881511'), ('legalFormName', 'enterprise'), ('numCompanies', '2')]\n",
      "[('legalForm', 'http://www.wikidata.org/entity/Q18195767'), ('legalFormName', 'société anonyme'), ('numCompanies', '2')]\n",
      "[('legalForm', 'http://www.wikidata.org/entity/Q728646'), ('legalFormName', 'partnership'), ('numCompanies', '2')]\n",
      "[('legalForm', 'http://www.wikidata.org/entity/Q43067961'), ('legalFormName', 'employee-owned company'), ('numCompanies', '1')]\n",
      "[('legalForm', 'http://www.wikidata.org/entity/Q3055265'), ('legalFormName', 'single member limited liability company'), ('numCompanies', '1')]\n",
      "[('legalForm', 'http://www.wikidata.org/entity/Q165758'), ('legalFormName', 'Kommanditgesellschaft'), ('numCompanies', '1')]\n",
      "[('legalForm', 'http://www.wikidata.org/entity/Q161726'), ('legalFormName', 'multinational corporation'), ('numCompanies', '1')]\n",
      "[('legalForm', 'http://www.wikidata.org/entity/Q98927546'), ('legalFormName', 'Washington corporation'), ('numCompanies', '1')]\n",
      "[('legalForm', 'http://www.wikidata.org/entity/Q48204'), ('legalFormName', 'voluntary organization'), ('numCompanies', '1')]\n",
      "[('legalForm', 'http://www.wikidata.org/entity/Q2912172'), ('legalFormName', 'sole proprietorship'), ('numCompanies', '1')]\n",
      "[('legalForm', 'http://www.wikidata.org/entity/Q69773580'), ('legalFormName', 'Emtec Colleges Limited'), ('numCompanies', '1')]\n",
      "[('legalForm', 'http://www.wikidata.org/entity/Q3885688'), ('legalFormName', 'ONLUS'), ('numCompanies', '1')]\n",
      "[('legalForm', 'http://www.wikidata.org/entity/Q15991739'), ('legalFormName', 'Private Enterprise Foundation'), ('numCompanies', '1')]\n",
      "[('legalForm', 'http://www.wikidata.org/entity/Q123733'), ('legalFormName', 'hospitality service'), ('numCompanies', '1')]\n",
      "[('legalForm', 'http://www.wikidata.org/entity/Q94933'), ('legalFormName', 'Take-Two Interactive'), ('numCompanies', '1')]\n",
      "[('legalForm', 'http://www.wikidata.org/entity/Q10379632'), ('legalFormName', 'Société à responsabilité limitée'), ('numCompanies', '1')]\n",
      "[('legalForm', 'http://www.wikidata.org/entity/Q1163643'), ('legalFormName', 'classification society'), ('numCompanies', '1')]\n",
      "[('legalForm', 'http://www.wikidata.org/entity/Q1061635'), ('legalFormName', 'video game development'), ('numCompanies', '1')]\n",
      "[('legalForm', 'http://www.wikidata.org/entity/Q79913'), ('legalFormName', 'non-governmental organization'), ('numCompanies', '1')]\n",
      "[('legalForm', 'http://www.wikidata.org/entity/Q1421490'), ('legalFormName', 'government-sponsored enterprise'), ('numCompanies', '1')]\n",
      "[('legalForm', 'http://www.wikidata.org/entity/Q240625'), ('legalFormName', '501(c) organization'), ('numCompanies', '1')]\n",
      "[('legalForm', 'http://www.wikidata.org/entity/Q2624520'), ('legalFormName', 'aktieselskab'), ('numCompanies', '1')]\n",
      "[('legalForm', 'http://www.wikidata.org/entity/Q78443472'), ('legalFormName', 'public-benefit corporation'), ('numCompanies', '1')]\n",
      "[('legalForm', 'http://www.wikidata.org/entity/Q6785141'), ('legalFormName', 'master limited partnership'), ('numCompanies', '1')]\n",
      "[('legalForm', 'http://www.wikidata.org/entity/Q1045758'), ('legalFormName', 'United Technologies Corporation'), ('numCompanies', '1')]\n",
      "[('legalForm', 'http://www.wikidata.org/entity/Q2901333'), ('legalFormName', 'S corporation'), ('numCompanies', '1')]\n",
      "[('legalForm', 'http://www.wikidata.org/entity/Q4107285'), ('legalFormName', 'venture business'), ('numCompanies', '1')]\n",
      "[('legalForm', 'http://www.wikidata.org/entity/Q49168310'), ('legalFormName', 'Société Anonyme'), ('numCompanies', '1')]\n",
      "[('legalForm', 'http://www.wikidata.org/entity/Q1752459'), ('legalFormName', 'investment company'), ('numCompanies', '1')]\n",
      "[('legalForm', 'http://www.wikidata.org/entity/Q296657'), ('legalFormName', 'LLC'), ('numCompanies', '1')]\n",
      "[('legalForm', 'http://www.wikidata.org/entity/Q778575'), ('legalFormName', 'conglomerate'), ('numCompanies', '1')]\n",
      "[('legalForm', 'http://www.wikidata.org/entity/Q1102362'), ('legalFormName', 'Close Corporation'), ('numCompanies', '1')]\n",
      "[('legalForm', 'http://www.wikidata.org/entity/Q15646299'), ('legalFormName', 'společnost s ručením omezeným'), ('numCompanies', '1')]\n",
      "[('legalForm', 'http://www.wikidata.org/entity/Q15177651'), ('legalFormName', 'Swiss association'), ('numCompanies', '1')]\n",
      "[('legalForm', 'http://www.wikidata.org/entity/Q5154974'), ('legalFormName', 'community interest company'), ('numCompanies', '1')]\n",
      "[('legalForm', 'http://www.wikidata.org/entity/Q108103696'), ('legalFormName', 'New York Business Corporation'), ('numCompanies', '1')]\n",
      "[('legalForm', 'http://www.wikidata.org/entity/Q3742388'), ('legalFormName', 'società per azioni'), ('numCompanies', '1')]\n",
      "[('legalForm', 'http://www.wikidata.org/entity/Q5466628'), ('legalFormName', 'for-profit corporation'), ('numCompanies', '1')]\n",
      "[('legalForm', 'http://www.wikidata.org/entity/Q157031'), ('legalFormName', 'foundation'), ('numCompanies', '1')]\n",
      "[('legalForm', 'http://www.wikidata.org/entity/Q56489561'), ('legalFormName', 'sociedad anónima'), ('numCompanies', '1')]\n",
      "[('legalForm', 'http://www.wikidata.org/entity/Q11396960'), ('legalFormName', 'production company'), ('numCompanies', '1')]\n",
      "[('legalForm', 'http://www.wikidata.org/entity/Q1422253'), ('legalFormName', 'royal charter'), ('numCompanies', '1')]\n",
      "[('legalForm', 'http://www.wikidata.org/entity/Q2388316'), ('legalFormName', 'public'), ('numCompanies', '1')]\n",
      "[('legalForm', 'http://www.wikidata.org/entity/Q145'), ('legalFormName', 'United Kingdom'), ('numCompanies', '1')]\n",
      "[('legalForm', 'http://www.wikidata.org/entity/Q17375963'), ('legalFormName', 'Besloten vennootschap'), ('numCompanies', '1')]\n",
      "[('legalForm', 'http://www.wikidata.org/entity/Q5015128'), ('legalFormName', 'C corporation'), ('numCompanies', '1')]\n",
      "[('legalForm', 'http://www.wikidata.org/entity/Q375336'), ('legalFormName', 'film studio'), ('numCompanies', '1')]\n",
      "[('legalForm', 'http://www.wikidata.org/entity/Q333920'), ('legalFormName', 'Oy'), ('numCompanies', '1')]\n",
      "[('legalForm', 'http://www.wikidata.org/entity/Q129238'), ('legalFormName', 'startup company'), ('numCompanies', '1')]\n"
     ]
    },
    {
     "data": {
      "text/plain": [
       "110"
      ]
     },
     "execution_count": 8,
     "metadata": {},
     "output_type": "execute_result"
    }
   ],
   "source": [
    "queryString = \"\"\"\n",
    "select distinct ?legalForm ?legalFormName (count(distinct ?company) as ?numCompanies) where {\n",
    "    values ?companyCountry {wd:Q16 wd:Q145 wd:Q30}\n",
    "\n",
    "    ?company wdt:P31 wd:Q4830453 ;\n",
    "             wdt:P17 ?companyCountry ;\n",
    "             wdt:P1454 ?legalForm .\n",
    "\n",
    "    ?legalForm <http://schema.org/name> ?legalFormName .\n",
    "} group by ?legalForm ?legalFormName\n",
    "order by desc(?numCompanies)\n",
    "\"\"\"\n",
    "\n",
    "print(\"Results\")\n",
    "run_query(queryString)"
   ]
  },
  {
   "cell_type": "markdown",
   "id": "a01b9537-e2aa-4c3a-a249-606835e32803",
   "metadata": {
    "tags": []
   },
   "source": [
    "I can see that some companies has a legal form that doesn't have any sense, like \"United Kingdom\", or are localized for a specific country. So I want to retrieve the general legal forms. In order to do this, I need to know the entity for \"legal form\" and the path, if any, from the legal form name and its generalized version."
   ]
  },
  {
   "cell_type": "markdown",
   "id": "ea23d467-2820-49a3-a5e1-56742f28de7d",
   "metadata": {},
   "source": [
    "I start with the properties of the legal form *joint-stock company (**Q134161**)*."
   ]
  },
  {
   "cell_type": "code",
   "execution_count": 9,
   "id": "c84b2e14-de62-4f14-af51-b014eb8d6143",
   "metadata": {
    "tags": []
   },
   "outputs": [
    {
     "name": "stdout",
     "output_type": "stream",
     "text": [
      "Results\n",
      "[('p', 'http://www.wikidata.org/prop/direct/P1343'), ('pName', 'described by source'), ('o', 'http://www.wikidata.org/entity/Q19180675'), ('oName', 'Small Brockhaus and Efron Encyclopedic Dictionary')]\n",
      "[('p', 'http://www.wikidata.org/prop/direct/P1343'), ('pName', 'described by source'), ('o', 'http://www.wikidata.org/entity/Q2041543'), ('oName', 'Ottův slovník naučný')]\n",
      "[('p', 'http://www.wikidata.org/prop/direct/P1343'), ('pName', 'described by source'), ('o', 'http://www.wikidata.org/entity/Q602358'), ('oName', 'Brockhaus and Efron Encyclopedic Dictionary')]\n",
      "[('p', 'http://www.wikidata.org/prop/direct/P279'), ('pName', 'subclass of'), ('o', 'http://www.wikidata.org/entity/Q33685'), ('oName', 'limited company')]\n",
      "[('p', 'http://www.wikidata.org/prop/direct/P31'), ('pName', 'instance of'), ('o', 'http://www.wikidata.org/entity/Q1269299'), ('oName', 'type of business entity')]\n",
      "[('p', 'http://www.wikidata.org/prop/direct/P92'), ('pName', 'main regulatory text'), ('o', 'http://www.wikidata.org/entity/Q422168'), ('oName', 'stock corporation law')]\n"
     ]
    },
    {
     "data": {
      "text/plain": [
       "6"
      ]
     },
     "execution_count": 9,
     "metadata": {},
     "output_type": "execute_result"
    }
   ],
   "source": [
    "queryString = \"\"\"\n",
    "select distinct ?p ?pName ?o ?oName where {\n",
    "    wd:Q134161 ?p ?o .\n",
    "    \n",
    "    ?p <http://schema.org/name> ?pName .\n",
    "    ?o <http://schema.org/name> ?oName .\n",
    "}\n",
    "\"\"\"\n",
    "\n",
    "print(\"Results\")\n",
    "run_query(queryString)"
   ]
  },
  {
   "cell_type": "markdown",
   "id": "59f67849-89ca-48c8-a3b9-8d3ab4149c31",
   "metadata": {},
   "source": [
    "That is subclass of *limited company (**Q33685**)*."
   ]
  },
  {
   "cell_type": "code",
   "execution_count": 10,
   "id": "e93e2198-3e00-407e-a400-29e1eb1b2e63",
   "metadata": {
    "tags": []
   },
   "outputs": [
    {
     "name": "stdout",
     "output_type": "stream",
     "text": [
      "Results\n",
      "[('p', 'http://www.wikidata.org/prop/direct/P31'), ('pName', 'instance of'), ('o', 'http://www.wikidata.org/entity/Q12047392'), ('oName', 'legal form')]\n",
      "[('p', 'http://www.wikidata.org/prop/direct/P279'), ('pName', 'subclass of'), ('o', 'http://www.wikidata.org/entity/Q567521'), ('oName', 'commercial company')]\n",
      "[('p', 'http://www.wikidata.org/prop/direct/P461'), ('pName', 'opposite of'), ('o', 'http://www.wikidata.org/entity/Q17152511'), ('oName', 'unlimited company')]\n"
     ]
    },
    {
     "data": {
      "text/plain": [
       "3"
      ]
     },
     "execution_count": 10,
     "metadata": {},
     "output_type": "execute_result"
    }
   ],
   "source": [
    "queryString = \"\"\"\n",
    "select distinct ?p ?pName ?o ?oName where {\n",
    "    wd:Q33685 ?p ?o .\n",
    "    \n",
    "    ?p <http://schema.org/name> ?pName .\n",
    "    ?o <http://schema.org/name> ?oName .\n",
    "}\n",
    "\"\"\"\n",
    "\n",
    "print(\"Results\")\n",
    "run_query(queryString)"
   ]
  },
  {
   "cell_type": "markdown",
   "id": "02a986bc-c0d6-4be8-b04c-4025ae331311",
   "metadata": {},
   "source": [
    "That is instance of *legal form (**Q12047392**)*."
   ]
  },
  {
   "cell_type": "markdown",
   "id": "2dc84598-9e75-491f-9785-30220f59bd26",
   "metadata": {},
   "source": [
    "So the BGP to use to get the general legal from of a company is\n",
    "\n",
    "```\n",
    "?company wdt:P1454/wdt:P279*/wdt:P31* ?legalForm .\n",
    "?legalForm wdt:P31 wd:Q12047392 .\n",
    "```"
   ]
  },
  {
   "cell_type": "code",
   "execution_count": 11,
   "id": "d0fb91b5-4bd1-4737-afd4-54baeaaca719",
   "metadata": {},
   "outputs": [
    {
     "name": "stdout",
     "output_type": "stream",
     "text": [
      "Results\n",
      "[('legalForm', 'http://www.wikidata.org/entity/Q155076'), ('legalFormName', 'juridical person'), ('numCompanies', '2031')]\n",
      "[('legalForm', 'http://www.wikidata.org/entity/Q33685'), ('legalFormName', 'limited company'), ('numCompanies', '1962')]\n",
      "[('legalForm', 'http://www.wikidata.org/entity/Q1589009'), ('legalFormName', 'privately held company'), ('numCompanies', '934')]\n",
      "[('legalForm', 'http://www.wikidata.org/entity/Q891723'), ('legalFormName', 'public company'), ('numCompanies', '748')]\n",
      "[('legalForm', 'http://www.wikidata.org/entity/Q167037'), ('legalFormName', 'corporation'), ('numCompanies', '211')]\n",
      "[('legalForm', 'http://www.wikidata.org/entity/Q166280'), ('legalFormName', 'S.A.'), ('numCompanies', '77')]\n",
      "[('legalForm', 'http://www.wikidata.org/entity/Q728646'), ('legalFormName', 'partnership'), ('numCompanies', '69')]\n",
      "[('legalForm', 'http://www.wikidata.org/entity/Q163740'), ('legalFormName', 'nonprofit organization'), ('numCompanies', '46')]\n",
      "[('legalForm', 'http://www.wikidata.org/entity/Q79913'), ('legalFormName', 'non-governmental organization'), ('numCompanies', '28')]\n",
      "[('legalForm', 'http://www.wikidata.org/entity/Q48204'), ('legalFormName', 'voluntary organization'), ('numCompanies', '26')]\n",
      "[('legalForm', 'http://www.wikidata.org/entity/Q4539'), ('legalFormName', 'cooperative'), ('numCompanies', '7')]\n",
      "[('legalForm', 'http://www.wikidata.org/entity/Q708676'), ('legalFormName', 'charitable organization'), ('numCompanies', '5')]\n",
      "[('legalForm', 'http://www.wikidata.org/entity/Q327333'), ('legalFormName', 'government agency'), ('numCompanies', '4')]\n",
      "[('legalForm', 'http://www.wikidata.org/entity/Q17084016'), ('legalFormName', 'nonprofit corporation'), ('numCompanies', '3')]\n",
      "[('legalForm', 'http://www.wikidata.org/entity/Q18325436'), ('legalFormName', '501(c)(3) organization'), ('numCompanies', '3')]\n",
      "[('legalForm', 'http://www.wikidata.org/entity/Q334453'), ('legalFormName', 'division'), ('numCompanies', '2')]\n",
      "[('legalForm', 'http://www.wikidata.org/entity/Q157031'), ('legalFormName', 'foundation'), ('numCompanies', '1')]\n",
      "[('legalForm', 'http://www.wikidata.org/entity/Q108103696'), ('legalFormName', 'New York Business Corporation'), ('numCompanies', '1')]\n"
     ]
    },
    {
     "data": {
      "text/plain": [
       "18"
      ]
     },
     "execution_count": 11,
     "metadata": {},
     "output_type": "execute_result"
    }
   ],
   "source": [
    "queryString = \"\"\"\n",
    "select distinct ?legalForm ?legalFormName (count(distinct ?company) as ?numCompanies) where {\n",
    "    values ?companyCountry {wd:Q16 wd:Q145 wd:Q30}\n",
    "\n",
    "    ?company wdt:P31 wd:Q4830453 ;\n",
    "             wdt:P17 ?companyCountry ;\n",
    "             wdt:P1454/wdt:P279*/wdt:P31* ?legalForm .\n",
    "    ?legalForm wdt:P31 wd:Q12047392 .\n",
    "\n",
    "    ?legalForm <http://schema.org/name> ?legalFormName .\n",
    "} group by ?legalForm ?legalFormName\n",
    "order by desc(?numCompanies)\n",
    "\"\"\"\n",
    "\n",
    "print(\"Results\")\n",
    "run_query(queryString)"
   ]
  },
  {
   "cell_type": "markdown",
   "id": "2534f931-54d7-46b3-97ec-bfbca1933a1b",
   "metadata": {},
   "source": [
    "## 5. Analyze the number of employees and other relevant numeric attributes"
   ]
  },
  {
   "cell_type": "markdown",
   "id": "fe4f2783-a875-46a5-a830-cb37babd0905",
   "metadata": {},
   "source": [
    "### 5.1 What are the top-10 companies for a given attribute?"
   ]
  },
  {
   "cell_type": "markdown",
   "id": "4f83cace-281e-4389-9e8b-9a326bf9c9fd",
   "metadata": {},
   "source": [
    "#### Top-10 companies for number of empolyees"
   ]
  },
  {
   "cell_type": "code",
   "execution_count": 12,
   "id": "abb24da7-9e4f-48c2-aaa2-5bca3ebd2404",
   "metadata": {},
   "outputs": [
    {
     "name": "stdout",
     "output_type": "stream",
     "text": [
      "Results\n",
      "[('company', 'http://www.wikidata.org/entity/Q483551'), ('companyName', 'Walmart'), ('maxValue', '2500000')]\n",
      "[('company', 'http://www.wikidata.org/entity/Q3884'), ('companyName', 'Amazon'), ('maxValue', '1298000')]\n",
      "[('company', 'http://www.wikidata.org/entity/Q1322045'), ('companyName', 'G4S'), ('maxValue', '618260')]\n",
      "[('company', 'http://www.wikidata.org/entity/Q155026'), ('companyName', 'United Parcel Service'), ('maxValue', '434000')]\n",
      "[('company', 'http://www.wikidata.org/entity/Q487494'), ('companyName', 'Tesco'), ('maxValue', '423092')]\n",
      "[('company', 'http://www.wikidata.org/entity/Q30645592'), ('companyName', 'Yum China'), ('maxValue', '420000')]\n",
      "[('company', 'http://www.wikidata.org/entity/Q1759032'), ('companyName', 'R. J. Reynolds Tobacco Company'), ('maxValue', '400000')]\n",
      "[('company', 'http://www.wikidata.org/entity/Q864407'), ('companyName', 'The Home Depot'), ('maxValue', '400000')]\n",
      "[('company', 'http://www.wikidata.org/entity/Q459477'), ('companyName', 'FedEx'), ('maxValue', '400000')]\n",
      "[('company', 'http://www.wikidata.org/entity/Q217583'), ('companyName', 'Berkshire Hathaway'), ('maxValue', '360000')]\n"
     ]
    },
    {
     "data": {
      "text/plain": [
       "10"
      ]
     },
     "execution_count": 12,
     "metadata": {},
     "output_type": "execute_result"
    }
   ],
   "source": [
    "queryString = \"\"\"\n",
    "select ?company ?companyName (max(?value) as ?maxValue) where {\n",
    "    values ?companyCountry {wd:Q16 wd:Q145 wd:Q30}\n",
    "\n",
    "    ?company wdt:P31 wd:Q4830453 ;\n",
    "             wdt:P17 ?companyCountry ;\n",
    "             wdt:P1128 ?value .\n",
    "\n",
    "    ?company <http://schema.org/name> ?companyName .\n",
    "} group by ?company ?companyName\n",
    "order by desc(?maxValue)\n",
    "limit 10\n",
    "\"\"\"\n",
    "\n",
    "print(\"Results\")\n",
    "run_query(queryString)"
   ]
  },
  {
   "cell_type": "markdown",
   "id": "8cc9c3cc-e5f2-49bd-88b1-9d3cca91dbe4",
   "metadata": {},
   "source": [
    "#### Top-10 companies for market capitalization"
   ]
  },
  {
   "cell_type": "code",
   "execution_count": 13,
   "id": "cffecd92-aaec-4b32-aa7c-bc5420362730",
   "metadata": {},
   "outputs": [
    {
     "name": "stdout",
     "output_type": "stream",
     "text": [
      "Results\n",
      "[('company', 'http://www.wikidata.org/entity/Q312'), ('companyName', 'Apple Inc.'), ('maxValue', '2470000000000')]\n",
      "[('company', 'http://www.wikidata.org/entity/Q2283'), ('companyName', 'Microsoft'), ('maxValue', '2270000000000')]\n",
      "[('company', 'http://www.wikidata.org/entity/Q20800404'), ('companyName', 'Alphabet Inc.'), ('maxValue', '1900000000000')]\n",
      "[('company', 'http://www.wikidata.org/entity/Q3884'), ('companyName', 'Amazon'), ('maxValue', '1670000000000')]\n",
      "[('company', 'http://www.wikidata.org/entity/Q478214'), ('companyName', 'Tesla, Inc.'), ('maxValue', '751910000000')]\n",
      "[('company', 'http://www.wikidata.org/entity/Q217583'), ('companyName', 'Berkshire Hathaway'), ('maxValue', '650340000000')]\n",
      "[('company', 'http://www.wikidata.org/entity/Q182477'), ('companyName', 'Nvidia'), ('maxValue', '548070000000')]\n",
      "[('company', 'http://www.wikidata.org/entity/Q328840'), ('companyName', 'Visa Inc.'), ('maxValue', '494680000000')]\n",
      "[('company', 'http://www.wikidata.org/entity/Q333718'), ('companyName', 'Johnson & Johnson'), ('maxValue', '430880000000')]\n",
      "[('company', 'http://www.wikidata.org/entity/Q156238'), ('companyName', 'ExxonMobil'), ('maxValue', '366980000000')]\n"
     ]
    },
    {
     "data": {
      "text/plain": [
       "10"
      ]
     },
     "execution_count": 13,
     "metadata": {},
     "output_type": "execute_result"
    }
   ],
   "source": [
    "queryString = \"\"\"\n",
    "select ?company ?companyName (max(?value) as ?maxValue) where {\n",
    "    values ?companyCountry {wd:Q16 wd:Q145 wd:Q30}\n",
    "\n",
    "    ?company wdt:P31 wd:Q4830453 ;\n",
    "             wdt:P17 ?companyCountry ;\n",
    "             wdt:P2226 ?value .\n",
    "\n",
    "    ?company <http://schema.org/name> ?companyName .\n",
    "} group by ?company ?companyName\n",
    "order by desc(?maxValue)\n",
    "limit 10\n",
    "\"\"\"\n",
    "\n",
    "print(\"Results\")\n",
    "run_query(queryString)"
   ]
  },
  {
   "cell_type": "markdown",
   "id": "ac01ccfc-b051-48e9-b728-47c5a39da932",
   "metadata": {},
   "source": [
    "#### Top-10 companies for total assets"
   ]
  },
  {
   "cell_type": "code",
   "execution_count": 14,
   "id": "adfffdf7-7484-43c6-a539-ea0ebce9bb42",
   "metadata": {
    "tags": []
   },
   "outputs": [
    {
     "name": "stdout",
     "output_type": "stream",
     "text": [
      "Results\n",
      "[('company', 'http://www.wikidata.org/entity/Q621096'), ('companyName', 'Fannie Mae'), ('maxValue', '3960490000000')]\n",
      "[('company', 'http://www.wikidata.org/entity/Q192314'), ('companyName', 'JPMorgan Chase'), ('maxValue', '2490972000000')]\n",
      "[('company', 'http://www.wikidata.org/entity/Q190464'), ('companyName', 'HSBC'), ('maxValue', '2374986000000')]\n",
      "[('company', 'http://www.wikidata.org/entity/Q487907'), ('companyName', 'Bank of America'), ('maxValue', '2144000000000')]\n",
      "[('company', 'http://www.wikidata.org/entity/Q251546'), ('companyName', 'Novatek'), ('maxValue', '2059178000000')]\n",
      "[('company', 'http://www.wikidata.org/entity/Q935969'), ('companyName', 'Freddie Mac'), ('maxValue', '2049776000000')]\n",
      "[('company', 'http://www.wikidata.org/entity/Q219508'), ('companyName', 'Citigroup'), ('maxValue', '1792077000000')]\n",
      "[('company', 'http://www.wikidata.org/entity/Q217583'), ('companyName', 'Berkshire Hathaway'), ('maxValue', '873729000000')]\n",
      "[('company', 'http://www.wikidata.org/entity/Q334122'), ('companyName', 'Merrill Lynch'), ('maxValue', '603000000000')]\n",
      "[('company', 'http://www.wikidata.org/entity/Q152057'), ('companyName', 'BP'), ('maxValue', '595194000000')]\n"
     ]
    },
    {
     "data": {
      "text/plain": [
       "10"
      ]
     },
     "execution_count": 14,
     "metadata": {},
     "output_type": "execute_result"
    }
   ],
   "source": [
    "queryString = \"\"\"\n",
    "select ?company ?companyName (max(?value) as ?maxValue) where {\n",
    "    values ?companyCountry {wd:Q16 wd:Q145 wd:Q30}\n",
    "\n",
    "    ?company wdt:P31 wd:Q4830453 ;\n",
    "             wdt:P17 ?companyCountry ;\n",
    "             wdt:P2403 ?value .\n",
    "\n",
    "    ?company <http://schema.org/name> ?companyName .\n",
    "} group by ?company ?companyName\n",
    "order by desc(?maxValue)\n",
    "limit 10\n",
    "\"\"\"\n",
    "\n",
    "print(\"Results\")\n",
    "run_query(queryString)"
   ]
  },
  {
   "cell_type": "markdown",
   "id": "d92da42b-f850-4fb7-a735-357b04dbbc49",
   "metadata": {},
   "source": [
    "#### Top-10 companies for total net profit"
   ]
  },
  {
   "cell_type": "code",
   "execution_count": 15,
   "id": "4c97fcc5-d5ab-46d6-aad2-896555f99cb7",
   "metadata": {},
   "outputs": [
    {
     "name": "stdout",
     "output_type": "stream",
     "text": [
      "Results\n",
      "[('company', 'http://www.wikidata.org/entity/Q251546'), ('companyName', 'Novatek'), ('maxValue', '78586000000')]\n",
      "[('company', 'http://www.wikidata.org/entity/Q312'), ('companyName', 'Apple Inc.'), ('maxValue', '57411000000')]\n",
      "[('company', 'http://www.wikidata.org/entity/Q217583'), ('companyName', 'Berkshire Hathaway'), ('maxValue', '42521000000')]\n",
      "[('company', 'http://www.wikidata.org/entity/Q20800404'), ('companyName', 'Alphabet Inc.'), ('maxValue', '40269000000')]\n",
      "[('company', 'http://www.wikidata.org/entity/Q2283'), ('companyName', 'Microsoft'), ('maxValue', '39240000000')]\n",
      "[('company', 'http://www.wikidata.org/entity/Q380'), ('companyName', 'Facebook, Inc.'), ('maxValue', '29146000000')]\n",
      "[('company', 'http://www.wikidata.org/entity/Q192314'), ('companyName', 'JPMorgan Chase'), ('maxValue', '24733000000')]\n",
      "[('company', 'http://www.wikidata.org/entity/Q3884'), ('companyName', 'Amazon'), ('maxValue', '21300000000')]\n",
      "[('company', 'http://www.wikidata.org/entity/Q248'), ('companyName', 'Intel'), ('maxValue', '20899000000')]\n",
      "[('company', 'http://www.wikidata.org/entity/Q467752'), ('companyName', 'Verizon'), ('maxValue', '18348000000')]\n"
     ]
    },
    {
     "data": {
      "text/plain": [
       "10"
      ]
     },
     "execution_count": 15,
     "metadata": {},
     "output_type": "execute_result"
    }
   ],
   "source": [
    "queryString = \"\"\"\n",
    "select ?company ?companyName (max(?value) as ?maxValue) where {\n",
    "    values ?companyCountry {wd:Q16 wd:Q145 wd:Q30}\n",
    "\n",
    "    ?company wdt:P31 wd:Q4830453 ;\n",
    "             wdt:P17 ?companyCountry ;\n",
    "             wdt:P2295 ?value .\n",
    "\n",
    "    ?company <http://schema.org/name> ?companyName .\n",
    "} group by ?company ?companyName\n",
    "order by desc(?maxValue)\n",
    "limit 10\n",
    "\"\"\"\n",
    "\n",
    "print(\"Results\")\n",
    "run_query(queryString)"
   ]
  },
  {
   "cell_type": "markdown",
   "id": "85d896b9-b33a-4b4c-8ac2-d53a71cb79f1",
   "metadata": {},
   "source": [
    "#### Top-10 companies for social media followers"
   ]
  },
  {
   "cell_type": "code",
   "execution_count": 16,
   "id": "c571e4b0-e71c-464c-87e2-f3f026d01018",
   "metadata": {},
   "outputs": [
    {
     "name": "stdout",
     "output_type": "stream",
     "text": [
      "Results\n",
      "[('company', 'http://www.wikidata.org/entity/Q35339'), ('companyName', 'WWE'), ('maxValue', '78800000')]\n",
      "[('company', 'http://www.wikidata.org/entity/Q1390577'), ('companyName', 'Twitter, Inc.'), ('maxValue', '58852256')]\n",
      "[('company', 'http://www.wikidata.org/entity/Q18656'), ('companyName', 'Manchester United F.C.'), ('maxValue', '24503883')]\n",
      "[('company', 'http://www.wikidata.org/entity/Q7973038'), ('companyName', 'WatchMojo.com'), ('maxValue', '23700000')]\n",
      "[('company', 'http://www.wikidata.org/entity/Q907311'), ('companyName', 'Netflix'), ('maxValue', '20400000')]\n",
      "[('company', 'http://www.wikidata.org/entity/Q5003490'), ('companyName', 'BuzzFeed'), ('maxValue', '20300000')]\n",
      "[('company', 'http://www.wikidata.org/entity/Q166032'), ('companyName', 'The Washington Post'), ('maxValue', '17041168')]\n",
      "[('company', 'http://www.wikidata.org/entity/Q207708'), ('companyName', 'IGN'), ('maxValue', '15700000')]\n",
      "[('company', 'http://www.wikidata.org/entity/Q193701'), ('companyName', 'SpaceX'), ('maxValue', '13839602')]\n",
      "[('company', 'http://www.wikidata.org/entity/Q727561'), ('companyName', 'Funny or Die'), ('maxValue', '13491933')]\n"
     ]
    },
    {
     "data": {
      "text/plain": [
       "10"
      ]
     },
     "execution_count": 16,
     "metadata": {},
     "output_type": "execute_result"
    }
   ],
   "source": [
    "queryString = \"\"\"\n",
    "select ?company ?companyName (max(?value) as ?maxValue) where {\n",
    "    values ?companyCountry {wd:Q16 wd:Q145 wd:Q30}\n",
    "\n",
    "    ?company wdt:P31 wd:Q4830453 ;\n",
    "             wdt:P17 ?companyCountry ;\n",
    "             wdt:P8687 ?value .\n",
    "\n",
    "    ?company <http://schema.org/name> ?companyName .\n",
    "} group by ?company ?companyName\n",
    "order by desc(?maxValue)\n",
    "limit 10\n",
    "\"\"\"\n",
    "\n",
    "print(\"Results\")\n",
    "run_query(queryString)"
   ]
  },
  {
   "cell_type": "markdown",
   "id": "10c4e3bd-c0eb-4e09-ba4a-e5d05414f9c4",
   "metadata": {},
   "source": [
    "#### Top-10 companies for number of companies owned"
   ]
  },
  {
   "cell_type": "code",
   "execution_count": 17,
   "id": "3db404ea-87a1-4156-b12b-341e68af3e6d",
   "metadata": {},
   "outputs": [
    {
     "name": "stdout",
     "output_type": "stream",
     "text": [
      "Results\n",
      "[('company', 'http://www.wikidata.org/entity/Q5194189'), ('companyName', 'Cumulus Media'), ('value', '439')]\n",
      "[('company', 'http://www.wikidata.org/entity/Q95'), ('companyName', 'Google'), ('value', '263')]\n",
      "[('company', 'http://www.wikidata.org/entity/Q2118336'), ('companyName', 'Punch Pubs'), ('value', '250')]\n",
      "[('company', 'http://www.wikidata.org/entity/Q5380195'), ('companyName', 'Audacy, Inc.'), ('value', '241')]\n",
      "[('company', 'http://www.wikidata.org/entity/Q6773982'), ('companyName', \"Marston's\"), ('value', '207')]\n",
      "[('company', 'http://www.wikidata.org/entity/Q1345971'), ('companyName', 'Gannett'), ('value', '146')]\n",
      "[('company', 'http://www.wikidata.org/entity/Q5431118'), ('companyName', 'Salem Media Group'), ('value', '114')]\n",
      "[('company', 'http://www.wikidata.org/entity/Q3277465'), ('companyName', 'Sirius XM Radio'), ('value', '106')]\n",
      "[('company', 'http://www.wikidata.org/entity/Q2283'), ('companyName', 'Microsoft'), ('value', '106')]\n",
      "[('company', 'http://www.wikidata.org/entity/Q219635'), ('companyName', 'BlackRock'), ('value', '103')]\n"
     ]
    },
    {
     "data": {
      "text/plain": [
       "10"
      ]
     },
     "execution_count": 17,
     "metadata": {},
     "output_type": "execute_result"
    }
   ],
   "source": [
    "queryString = \"\"\"\n",
    "select ?company ?companyName (count(distinct ?owned) as ?value) where {\n",
    "    values ?companyCountry {wd:Q16 wd:Q145 wd:Q30}\n",
    "\n",
    "    ?company wdt:P31 wd:Q4830453 ;\n",
    "             wdt:P17 ?companyCountry ;\n",
    "             wdt:P8687 ?value .\n",
    "             \n",
    "    { ?company wdt:P1830 ?owned . } union { ?owned wdt:P127 ?company . } .\n",
    "\n",
    "    ?company <http://schema.org/name> ?companyName .\n",
    "} group by ?company ?companyName\n",
    "order by desc(?value)\n",
    "limit 10\n",
    "\"\"\"\n",
    "\n",
    "print(\"Results\")\n",
    "run_query(queryString)"
   ]
  },
  {
   "cell_type": "markdown",
   "id": "388ba386-e29f-483a-828a-ff022c269bfa",
   "metadata": {},
   "source": [
    "#### Top-10 companies for total revenue"
   ]
  },
  {
   "cell_type": "code",
   "execution_count": 18,
   "id": "c77a1e76-435c-43a7-a925-13e9ddad2545",
   "metadata": {
    "tags": []
   },
   "outputs": [
    {
     "name": "stdout",
     "output_type": "stream",
     "text": [
      "Results\n",
      "[('company', 'http://www.wikidata.org/entity/Q251546'), ('companyName', 'Novatek'), ('maxValue', '711812000000')]\n",
      "[('company', 'http://www.wikidata.org/entity/Q1382653'), ('companyName', 'Evraz'), ('maxValue', '631214100000')]\n",
      "[('company', 'http://www.wikidata.org/entity/Q483551'), ('companyName', 'Walmart'), ('maxValue', '559151000000')]\n",
      "[('company', 'http://www.wikidata.org/entity/Q3884'), ('companyName', 'Amazon'), ('maxValue', '386064000000')]\n",
      "[('company', 'http://www.wikidata.org/entity/Q154950'), ('companyName', 'Royal Dutch Shell'), ('maxValue', '344877000000')]\n",
      "[('company', 'http://www.wikidata.org/entity/Q152057'), ('companyName', 'BP'), ('maxValue', '278397000000')]\n",
      "[('company', 'http://www.wikidata.org/entity/Q312'), ('companyName', 'Apple Inc.'), ('maxValue', '274515000000')]\n",
      "[('company', 'http://www.wikidata.org/entity/Q624375'), ('companyName', 'CVS Health'), ('maxValue', '268706000000')]\n",
      "[('company', 'http://www.wikidata.org/entity/Q217583'), ('companyName', 'Berkshire Hathaway'), ('maxValue', '245510000000')]\n",
      "[('company', 'http://www.wikidata.org/entity/Q570473'), ('companyName', 'McKesson Corporation'), ('maxValue', '190884000000')]\n"
     ]
    },
    {
     "data": {
      "text/plain": [
       "10"
      ]
     },
     "execution_count": 18,
     "metadata": {},
     "output_type": "execute_result"
    }
   ],
   "source": [
    "queryString = \"\"\"\n",
    "select ?company ?companyName (max(?value) as ?maxValue) where {\n",
    "    values ?companyCountry {wd:Q16 wd:Q145 wd:Q30}\n",
    "\n",
    "    ?company wdt:P31 wd:Q4830453 ;\n",
    "             wdt:P17 ?companyCountry ;\n",
    "             wdt:P2139 ?value .\n",
    "\n",
    "    ?company <http://schema.org/name> ?companyName .\n",
    "} group by ?company ?companyName\n",
    "order by desc(?maxValue)\n",
    "limit 10\n",
    "\"\"\"\n",
    "\n",
    "print(\"Results\")\n",
    "run_query(queryString)"
   ]
  },
  {
   "cell_type": "markdown",
   "id": "e6413a53-c74b-4ad5-9945-0a0acf55cacf",
   "metadata": {},
   "source": [
    "#### Top-10 companies for estimated values"
   ]
  },
  {
   "cell_type": "code",
   "execution_count": 19,
   "id": "f304edde-32f6-4948-9071-9406d38e8b14",
   "metadata": {},
   "outputs": [
    {
     "name": "stdout",
     "output_type": "stream",
     "text": [
      "Results\n",
      "[('company', 'http://www.wikidata.org/entity/Q1496384'), ('companyName', 'Koch Industries'), ('maxValue', '105000000000')]\n",
      "[('company', 'http://www.wikidata.org/entity/Q780442'), ('companyName', 'Uber Technology'), ('maxValue', '62000000000')]\n",
      "[('company', 'http://www.wikidata.org/entity/Q7624104'), ('companyName', 'Stripe'), ('maxValue', '36000000000')]\n",
      "[('company', 'http://www.wikidata.org/entity/Q63327'), ('companyName', 'Airbnb'), ('maxValue', '25500000000')]\n",
      "[('company', 'http://www.wikidata.org/entity/Q2047336'), ('companyName', 'Palantir Technologies'), ('maxValue', '20500000000')]\n",
      "[('company', 'http://www.wikidata.org/entity/Q27022329'), ('companyName', 'Snap Inc.'), ('maxValue', '16000000000')]\n",
      "[('company', 'http://www.wikidata.org/entity/Q193701'), ('companyName', 'SpaceX'), ('maxValue', '12000000000')]\n",
      "[('company', 'http://www.wikidata.org/entity/Q255381'), ('companyName', 'Pinterest'), ('maxValue', '11000000000')]\n",
      "[('company', 'http://www.wikidata.org/entity/Q19995004'), ('companyName', 'WeWork'), ('maxValue', '10000000000')]\n",
      "[('company', 'http://www.wikidata.org/entity/Q15589464'), ('companyName', 'Dropbox Inc.'), ('maxValue', '10000000000')]\n"
     ]
    },
    {
     "data": {
      "text/plain": [
       "10"
      ]
     },
     "execution_count": 19,
     "metadata": {},
     "output_type": "execute_result"
    }
   ],
   "source": [
    "queryString = \"\"\"\n",
    "select ?company ?companyName (max(?value) as ?maxValue) where {\n",
    "    values ?companyCountry {wd:Q16 wd:Q145 wd:Q30}\n",
    "\n",
    "    ?company wdt:P31 wd:Q4830453 ;\n",
    "             wdt:P17 ?companyCountry ;\n",
    "             wdt:P8340 ?value .\n",
    "\n",
    "    ?company <http://schema.org/name> ?companyName .\n",
    "} group by ?company ?companyName\n",
    "order by desc(?maxValue)\n",
    "limit 10\n",
    "\"\"\"\n",
    "\n",
    "print(\"Results\")\n",
    "run_query(queryString)"
   ]
  },
  {
   "cell_type": "markdown",
   "id": "3076c905-4c9e-48b4-aa5b-df2c86b55ce5",
   "metadata": {},
   "source": [
    "#### Top-10 companies for operating income"
   ]
  },
  {
   "cell_type": "code",
   "execution_count": 20,
   "id": "002e8fc6-4bea-4599-aa93-410bcae707c5",
   "metadata": {},
   "outputs": [
    {
     "name": "stdout",
     "output_type": "stream",
     "text": [
      "Results\n",
      "[('company', 'http://www.wikidata.org/entity/Q251546'), ('companyName', 'Novatek'), ('maxValue', '113012000000')]\n",
      "[('company', 'http://www.wikidata.org/entity/Q312'), ('companyName', 'Apple Inc.'), ('maxValue', '70898000000')]\n",
      "[('company', 'http://www.wikidata.org/entity/Q217583'), ('companyName', 'Berkshire Hathaway'), ('maxValue', '55693000000')]\n",
      "[('company', 'http://www.wikidata.org/entity/Q2283'), ('companyName', 'Microsoft'), ('maxValue', '42959000000')]\n",
      "[('company', 'http://www.wikidata.org/entity/Q20800404'), ('companyName', 'Alphabet Inc.'), ('maxValue', '41224000000')]\n",
      "[('company', 'http://www.wikidata.org/entity/Q156238'), ('companyName', 'ExxonMobil'), ('maxValue', '34082000000')]\n",
      "[('company', 'http://www.wikidata.org/entity/Q192314'), ('companyName', 'JPMorgan Chase'), ('maxValue', '30702000000')]\n",
      "[('company', 'http://www.wikidata.org/entity/Q467752'), ('companyName', 'Verizon'), ('maxValue', '28798000000')]\n",
      "[('company', 'http://www.wikidata.org/entity/Q54173'), ('companyName', 'General Electric'), ('maxValue', '26267000000')]\n",
      "[('company', 'http://www.wikidata.org/entity/Q248'), ('companyName', 'Intel'), ('maxValue', '23678000000')]\n"
     ]
    },
    {
     "data": {
      "text/plain": [
       "10"
      ]
     },
     "execution_count": 20,
     "metadata": {},
     "output_type": "execute_result"
    }
   ],
   "source": [
    "queryString = \"\"\"\n",
    "select ?company ?companyName (max(?value) as ?maxValue) where {\n",
    "    values ?companyCountry {wd:Q16 wd:Q145 wd:Q30}\n",
    "\n",
    "    ?company wdt:P31 wd:Q4830453 ;\n",
    "             wdt:P17 ?companyCountry ;\n",
    "             wdt:P3362 ?value .\n",
    "\n",
    "    ?company <http://schema.org/name> ?companyName .\n",
    "} group by ?company ?companyName\n",
    "order by desc(?maxValue)\n",
    "limit 10\n",
    "\"\"\"\n",
    "\n",
    "print(\"Results\")\n",
    "run_query(queryString)"
   ]
  },
  {
   "cell_type": "markdown",
   "id": "146d55e3-d253-4357-91a3-68e5285a66b1",
   "metadata": {},
   "source": [
    "### 5.2 For which companies is defined some form of income or market capitalization or total assets? What is the min, max, and average in each category and country?"
   ]
  },
  {
   "cell_type": "markdown",
   "id": "145ca0ce-996b-4611-b017-4c8ad9a14d00",
   "metadata": {},
   "source": [
    "From the list of numeric properties associated to the companies, I've found that for some companies are defined the *operating income (**P3362**)*, the *total assets (**P2403**)* and the *market capitalization (**P2226**)*. I can see for which companies is defined some form of income or market capitalization or total assets with the query below."
   ]
  },
  {
   "cell_type": "code",
   "execution_count": 21,
   "id": "51692f01-8da7-4f83-8126-d4de554d054a",
   "metadata": {},
   "outputs": [
    {
     "name": "stdout",
     "output_type": "stream",
     "text": [
      "Results\n",
      "[('company', 'http://www.wikidata.org/entity/Q99872290'), ('companyName', 'Manchester United Plc')]\n",
      "[('company', 'http://www.wikidata.org/entity/Q7240'), ('companyName', 'Lockheed Martin')]\n",
      "[('company', 'http://www.wikidata.org/entity/Q128896'), ('companyName', 'Advanced Micro Devices')]\n",
      "[('company', 'http://www.wikidata.org/entity/Q17081612'), ('companyName', 'Moderna')]\n",
      "[('company', 'http://www.wikidata.org/entity/Q17489012'), ('companyName', 'Stock Spirits Group')]\n",
      "[('company', 'http://www.wikidata.org/entity/Q66662001'), ('companyName', 'Chisholm Hunter')]\n",
      "[('company', 'http://www.wikidata.org/entity/Q219508'), ('companyName', 'Citigroup')]\n",
      "[('company', 'http://www.wikidata.org/entity/Q30873'), ('companyName', 'Dell Inc.')]\n",
      "[('company', 'http://www.wikidata.org/entity/Q1562826'), ('companyName', 'VEON')]\n",
      "[('company', 'http://www.wikidata.org/entity/Q570473'), ('companyName', 'McKesson Corporation')]\n",
      "[('company', 'http://www.wikidata.org/entity/Q1531473'), ('companyName', 'Plantronics')]\n",
      "[('company', 'http://www.wikidata.org/entity/Q104815479'), ('companyName', 'Andrena')]\n",
      "[('company', 'http://www.wikidata.org/entity/Q106225127'), ('companyName', 'Aviation Capital Group')]\n",
      "[('company', 'http://www.wikidata.org/entity/Q907311'), ('companyName', 'Netflix')]\n",
      "[('company', 'http://www.wikidata.org/entity/Q3884'), ('companyName', 'Amazon')]\n",
      "[('company', 'http://www.wikidata.org/entity/Q1508526'), ('companyName', 'Sturm, Ruger & Co.')]\n",
      "[('company', 'http://www.wikidata.org/entity/Q251546'), ('companyName', 'Novatek')]\n",
      "[('company', 'http://www.wikidata.org/entity/Q188920'), ('companyName', 'Delta Air Lines')]\n",
      "[('company', 'http://www.wikidata.org/entity/Q780442'), ('companyName', 'Uber Technology')]\n",
      "[('company', 'http://www.wikidata.org/entity/Q1152764'), ('companyName', 'Lloyds Banking Group')]\n",
      "[('company', 'http://www.wikidata.org/entity/Q289362'), ('companyName', 'Cerberus Capital Management')]\n",
      "[('company', 'http://www.wikidata.org/entity/Q327646'), ('companyName', 'Enron')]\n",
      "[('company', 'http://www.wikidata.org/entity/Q1432506'), ('companyName', 'Urenco Group')]\n",
      "[('company', 'http://www.wikidata.org/entity/Q334122'), ('companyName', 'Merrill Lynch')]\n",
      "[('company', 'http://www.wikidata.org/entity/Q328840'), ('companyName', 'Visa Inc.')]\n",
      "[('company', 'http://www.wikidata.org/entity/Q312'), ('companyName', 'Apple Inc.')]\n",
      "[('company', 'http://www.wikidata.org/entity/Q35476'), ('companyName', 'AT&T')]\n",
      "[('company', 'http://www.wikidata.org/entity/Q16972754'), ('companyName', 'Coinbase')]\n",
      "[('company', 'http://www.wikidata.org/entity/Q7360089'), ('companyName', 'Roku, Inc')]\n",
      "[('company', 'http://www.wikidata.org/entity/Q2972807'), ('companyName', 'Cineplex Entertainment')]\n",
      "[('company', 'http://www.wikidata.org/entity/Q1146061'), ('companyName', 'Cushman & Wakefield')]\n",
      "[('company', 'http://www.wikidata.org/entity/Q2749364'), ('companyName', 'Fortinet')]\n",
      "[('company', 'http://www.wikidata.org/entity/Q1570773'), ('companyName', 'Kohlberg Kravis Roberts')]\n",
      "[('company', 'http://www.wikidata.org/entity/Q935969'), ('companyName', 'Freddie Mac')]\n",
      "[('company', 'http://www.wikidata.org/entity/Q7455653'), ('companyName', 'ServiceNow')]\n",
      "[('company', 'http://www.wikidata.org/entity/Q7616390'), ('companyName', 'Stifel')]\n",
      "[('company', 'http://www.wikidata.org/entity/Q502121'), ('companyName', 'BlackBerry')]\n",
      "[('company', 'http://www.wikidata.org/entity/Q243278'), ('companyName', 'Rolls-Royce')]\n",
      "[('company', 'http://www.wikidata.org/entity/Q66'), ('companyName', 'Boeing')]\n",
      "[('company', 'http://www.wikidata.org/entity/Q734338'), ('companyName', 'Verisign')]\n",
      "[('company', 'http://www.wikidata.org/entity/Q1196431'), ('companyName', 'Pandora Radio')]\n",
      "[('company', 'http://www.wikidata.org/entity/Q4040485'), ('companyName', 'Hearst Television')]\n",
      "[('company', 'http://www.wikidata.org/entity/Q3511946'), ('companyName', 'T. Rowe Price')]\n",
      "[('company', 'http://www.wikidata.org/entity/Q4045074'), ('companyName', 'National Western Life')]\n",
      "[('company', 'http://www.wikidata.org/entity/Q444110'), ('companyName', 'The Hartford')]\n",
      "[('company', 'http://www.wikidata.org/entity/Q19923099'), ('companyName', 'Hewlett Packard Enterprise')]\n",
      "[('company', 'http://www.wikidata.org/entity/Q329953'), ('companyName', 'Northrop Grumman')]\n",
      "[('company', 'http://www.wikidata.org/entity/Q156644'), ('companyName', 'Raytheon Company')]\n",
      "[('company', 'http://www.wikidata.org/entity/Q1425316'), ('companyName', 'Schlumberger')]\n",
      "[('company', 'http://www.wikidata.org/entity/Q910866'), ('companyName', 'Humana')]\n",
      "[('company', 'http://www.wikidata.org/entity/Q72539'), ('companyName', 'U.S. Steel')]\n",
      "[('company', 'http://www.wikidata.org/entity/Q96482167'), ('companyName', 'Biomx')]\n",
      "[('company', 'http://www.wikidata.org/entity/Q96482451'), ('companyName', 'MEDLEY')]\n",
      "[('company', 'http://www.wikidata.org/entity/Q96574719'), ('companyName', 'PowerFleet')]\n",
      "[('company', 'http://www.wikidata.org/entity/Q926806'), ('companyName', 'Carlyle Group')]\n",
      "[('company', 'http://www.wikidata.org/entity/Q214763'), ('companyName', 'ConocoPhillips')]\n",
      "[('company', 'http://www.wikidata.org/entity/Q2945643'), ('companyName', 'Skechers')]\n",
      "[('company', 'http://www.wikidata.org/entity/Q731938'), ('companyName', 'AstraZeneca')]\n",
      "[('company', 'http://www.wikidata.org/entity/Q5183828'), ('companyName', 'Cree Inc.')]\n",
      "[('company', 'http://www.wikidata.org/entity/Q214346'), ('companyName', 'Viacom')]\n",
      "[('company', 'http://www.wikidata.org/entity/Q58024'), ('companyName', 'eBay')]\n",
      "[('company', 'http://www.wikidata.org/entity/Q5842736'), ('companyName', 'Corning Inc.')]\n",
      "[('company', 'http://www.wikidata.org/entity/Q1036056'), ('companyName', 'Cargill')]\n",
      "[('company', 'http://www.wikidata.org/entity/Q1197548'), ('companyName', 'Micron Technology')]\n",
      "[('company', 'http://www.wikidata.org/entity/Q979690'), ('companyName', 'Netgear')]\n",
      "[('company', 'http://www.wikidata.org/entity/Q2902305'), ('companyName', \"Brink's\")]\n",
      "[('company', 'http://www.wikidata.org/entity/Q487907'), ('companyName', 'Bank of America')]\n",
      "[('company', 'http://www.wikidata.org/entity/Q21404084'), ('companyName', 'HP Inc.')]\n",
      "[('company', 'http://www.wikidata.org/entity/Q7864874'), ('companyName', 'UK Green Investment Bank')]\n",
      "[('company', 'http://www.wikidata.org/entity/Q827927'), ('companyName', 'Inmarsat')]\n",
      "[('company', 'http://www.wikidata.org/entity/Q5384453'), ('companyName', 'Equifax')]\n",
      "[('company', 'http://www.wikidata.org/entity/Q1411292'), ('companyName', 'Fidelity Investments')]\n",
      "[('company', 'http://www.wikidata.org/entity/Q483551'), ('companyName', 'Walmart')]\n",
      "[('company', 'http://www.wikidata.org/entity/Q1345971'), ('companyName', 'Gannett')]\n",
      "[('company', 'http://www.wikidata.org/entity/Q20648663'), ('companyName', 'Tegna Inc.')]\n",
      "[('company', 'http://www.wikidata.org/entity/Q63327'), ('companyName', 'Airbnb')]\n",
      "[('company', 'http://www.wikidata.org/entity/Q154950'), ('companyName', 'Royal Dutch Shell')]\n",
      "[('company', 'http://www.wikidata.org/entity/Q2103926'), ('companyName', 'UnitedHealth Group')]\n",
      "[('company', 'http://www.wikidata.org/entity/Q80978'), ('companyName', 'Hewlett-Packard')]\n",
      "[('company', 'http://www.wikidata.org/entity/Q5380468'), ('companyName', 'Entertainment Studios')]\n",
      "[('company', 'http://www.wikidata.org/entity/Q9531'), ('companyName', 'BBC')]\n",
      "[('company', 'http://www.wikidata.org/entity/Q459477'), ('companyName', 'FedEx')]\n",
      "[('company', 'http://www.wikidata.org/entity/Q2283'), ('companyName', 'Microsoft')]\n",
      "[('company', 'http://www.wikidata.org/entity/Q19900'), ('companyName', 'Oracle')]\n",
      "[('company', 'http://www.wikidata.org/entity/Q20800404'), ('companyName', 'Alphabet Inc.')]\n",
      "[('company', 'http://www.wikidata.org/entity/Q182477'), ('companyName', 'Nvidia')]\n",
      "[('company', 'http://www.wikidata.org/entity/Q212405'), ('companyName', 'Procter & Gamble')]\n",
      "[('company', 'http://www.wikidata.org/entity/Q489921'), ('companyName', 'Mastercard')]\n",
      "[('company', 'http://www.wikidata.org/entity/Q478214'), ('companyName', 'Tesla, Inc.')]\n",
      "[('company', 'http://www.wikidata.org/entity/Q96574679'), ('companyName', 'CIM Commercial Trust Corporation')]\n",
      "[('company', 'http://www.wikidata.org/entity/Q96482392'), ('companyName', 'Lineage Cell Therapeutics')]\n",
      "[('company', 'http://www.wikidata.org/entity/Q5532852'), ('companyName', 'Genesys')]\n",
      "[('company', 'http://www.wikidata.org/entity/Q7876156'), ('companyName', 'UW Credit Union')]\n",
      "[('company', 'http://www.wikidata.org/entity/Q14289857'), ('companyName', 'News Corp')]\n",
      "[('company', 'http://www.wikidata.org/entity/Q1141267'), ('companyName', 'Thomson Reuters')]\n",
      "[('company', 'http://www.wikidata.org/entity/Q804353'), ('companyName', 'Baker Hughes')]\n",
      "[('company', 'http://www.wikidata.org/entity/Q248'), ('companyName', 'Intel')]\n",
      "[('company', 'http://www.wikidata.org/entity/Q156238'), ('companyName', 'ExxonMobil')]\n",
      "[('company', 'http://www.wikidata.org/entity/Q44294'), ('companyName', 'Ford Motor Company')]\n",
      "[('company', 'http://www.wikidata.org/entity/Q1852556'), ('companyName', 'Philip Morris International')]\n",
      "[('company', 'http://www.wikidata.org/entity/Q624375'), ('companyName', 'CVS Health')]\n",
      "[('company', 'http://www.wikidata.org/entity/Q663596'), ('companyName', 'Gilead Sciences')]\n",
      "[('company', 'http://www.wikidata.org/entity/Q484930'), ('companyName', 'Analog Devices')]\n",
      "[('company', 'http://www.wikidata.org/entity/Q415598'), ('companyName', 'Akamai Technologies')]\n",
      "[('company', 'http://www.wikidata.org/entity/Q206921'), ('companyName', 'Pfizer')]\n",
      "[('company', 'http://www.wikidata.org/entity/Q333718'), ('companyName', 'Johnson & Johnson')]\n",
      "[('company', 'http://www.wikidata.org/entity/Q4636301'), ('companyName', '3D Systems')]\n",
      "[('company', 'http://www.wikidata.org/entity/Q1759732'), ('companyName', 'Kuhn, Loeb & Co.')]\n",
      "[('company', 'http://www.wikidata.org/entity/Q621096'), ('companyName', 'Fannie Mae')]\n",
      "[('company', 'http://www.wikidata.org/entity/Q483959'), ('companyName', 'PayPal')]\n",
      "[('company', 'http://www.wikidata.org/entity/Q54173'), ('companyName', 'General Electric')]\n",
      "[('company', 'http://www.wikidata.org/entity/Q38076'), ('companyName', 'McDonald’s')]\n",
      "[('company', 'http://www.wikidata.org/entity/Q459965'), ('companyName', 'Caterpillar Inc.')]\n",
      "[('company', 'http://www.wikidata.org/entity/Q467752'), ('companyName', 'Verizon')]\n",
      "[('company', 'http://www.wikidata.org/entity/Q470517'), ('companyName', 'Amgen')]\n",
      "[('company', 'http://www.wikidata.org/entity/Q677085'), ('companyName', 'NortonLifeLock')]\n",
      "[('company', 'http://www.wikidata.org/entity/Q30645592'), ('companyName', 'Yum China')]\n",
      "[('company', 'http://www.wikidata.org/entity/Q247489'), ('companyName', 'Merck & Co.')]\n",
      "[('company', 'http://www.wikidata.org/entity/Q2037125'), ('companyName', 'State Street Corporation')]\n",
      "[('company', 'http://www.wikidata.org/entity/Q3975878'), ('companyName', 'Stratasys')]\n",
      "[('company', 'http://www.wikidata.org/entity/Q95205133'), ('companyName', 'Hertz Global Holdings')]\n",
      "[('company', 'http://www.wikidata.org/entity/Q4693829'), ('companyName', 'AgriBank')]\n",
      "[('company', 'http://www.wikidata.org/entity/Q190464'), ('companyName', 'HSBC')]\n",
      "[('company', 'http://www.wikidata.org/entity/Q152057'), ('companyName', 'BP')]\n",
      "[('company', 'http://www.wikidata.org/entity/Q487494'), ('companyName', 'Tesco')]\n",
      "[('company', 'http://www.wikidata.org/entity/Q55103384'), ('companyName', 'Avast')]\n",
      "[('company', 'http://www.wikidata.org/entity/Q99953300'), ('companyName', 'Rushbond')]\n",
      "[('company', 'http://www.wikidata.org/entity/Q217583'), ('companyName', 'Berkshire Hathaway')]\n",
      "[('company', 'http://www.wikidata.org/entity/Q916196'), ('companyName', 'Citrix Systems')]\n",
      "[('company', 'http://www.wikidata.org/entity/Q192314'), ('companyName', 'JPMorgan Chase')]\n",
      "[('company', 'http://www.wikidata.org/entity/Q950380'), ('companyName', 'CBS Corporation')]\n",
      "[('company', 'http://www.wikidata.org/entity/Q292292'), ('companyName', 'AGCO')]\n",
      "[('company', 'http://www.wikidata.org/entity/Q2004423'), ('companyName', 'FEI Company')]\n",
      "[('company', 'http://www.wikidata.org/entity/Q2037080'), ('companyName', 'Andeavor')]\n",
      "[('company', 'http://www.wikidata.org/entity/Q864407'), ('companyName', 'The Home Depot')]\n",
      "[('company', 'http://www.wikidata.org/entity/Q306764'), ('companyName', 'Abbott Laboratories')]\n",
      "[('company', 'http://www.wikidata.org/entity/Q11407'), ('companyName', 'VMware Inc.')]\n",
      "[('company', 'http://www.wikidata.org/entity/Q173395'), ('companyName', 'Cisco Systems')]\n",
      "[('company', 'http://www.wikidata.org/entity/Q1049080'), ('companyName', 'Juniper Networks')]\n",
      "[('company', 'http://www.wikidata.org/entity/Q5324516'), ('companyName', 'eToro')]\n",
      "[('company', 'http://www.wikidata.org/entity/Q7414'), ('companyName', 'The Walt Disney Company')]\n",
      "[('company', 'http://www.wikidata.org/entity/Q155026'), ('companyName', 'United Parcel Service')]\n",
      "[('company', 'http://www.wikidata.org/entity/Q37158'), ('companyName', 'Starbucks')]\n",
      "[('company', 'http://www.wikidata.org/entity/Q219635'), ('companyName', 'BlackRock')]\n",
      "[('company', 'http://www.wikidata.org/entity/Q3295867'), ('companyName', 'The Coca-Cola Company')]\n",
      "[('company', 'http://www.wikidata.org/entity/Q95'), ('companyName', 'Google')]\n",
      "[('company', 'http://www.wikidata.org/entity/Q37156'), ('companyName', 'IBM')]\n",
      "[('company', 'http://www.wikidata.org/entity/Q191715'), ('companyName', 'WarnerMedia')]\n",
      "[('company', 'http://www.wikidata.org/entity/Q501476'), ('companyName', 'Hasbro')]\n",
      "[('company', 'http://www.wikidata.org/entity/Q861042'), ('companyName', 'Western Union')]\n",
      "[('company', 'http://www.wikidata.org/entity/Q1383768'), ('companyName', 'Exide')]\n",
      "[('company', 'http://www.wikidata.org/entity/Q2331913'), ('companyName', 'Stantec')]\n",
      "[('company', 'http://www.wikidata.org/entity/Q851641'), ('companyName', 'Equinix')]\n",
      "[('company', 'http://www.wikidata.org/entity/Q27146006'), ('companyName', 'Empire State Realty Trust')]\n"
     ]
    },
    {
     "data": {
      "text/plain": [
       "154"
      ]
     },
     "execution_count": 21,
     "metadata": {},
     "output_type": "execute_result"
    }
   ],
   "source": [
    "queryString = \"\"\"\n",
    "select ?company ?companyName where {\n",
    "    values ?companyCountry {wd:Q16 wd:Q145 wd:Q30}\n",
    "\n",
    "    ?company wdt:P31 wd:Q4830453 ;\n",
    "             wdt:P17 ?companyCountry ;\n",
    "             ?category ?value .\n",
    "\n",
    "    ?company <http://schema.org/name> ?companyName .\n",
    "    ?category <http://schema.org/name> ?categoryName .\n",
    "    \n",
    "    filter (?category in (wdt:P2403, wdt:P3362, wdt:P2226))\n",
    "} group by ?company ?companyName\n",
    "\"\"\"\n",
    "\n",
    "print(\"Results\")\n",
    "run_query(queryString)"
   ]
  },
  {
   "cell_type": "code",
   "execution_count": 22,
   "id": "71af47b7-a1d1-4500-a03f-c14f3e161060",
   "metadata": {},
   "outputs": [
    {
     "name": "stdout",
     "output_type": "stream",
     "text": [
      "Results\n",
      "[('countryName', 'United States of America'), ('minCapitalization', '1530000000'), ('maxCapitalization', '2470000000000'), ('avgCapitalization', '471593972252.27'), ('minIncome', '-4408000000'), ('maxIncome', '113012000000'), ('avgIncome', '12880049628.166666666666667'), ('minAssets', '1'), ('maxAssets', '3960490000000'), ('avgAssets', '147764660474.470411067193676')]\n",
      "[('countryName', 'United Kingdom'), ('minCapitalization', '185400000000'), ('maxCapitalization', '185400000000'), ('avgCapitalization', '185400000000'), ('minIncome', '-1161000000'), ('maxIncome', '14792000000'), ('avgIncome', '3574466367.75'), ('minAssets', '135646163'), ('maxAssets', '2374986000000'), ('avgAssets', '319181544833')]\n",
      "[('countryName', 'Canada'), ('minCapitalization', '6882000000'), ('maxCapitalization', '45900000000'), ('avgCapitalization', '32894000000'), ('minIncome', '-149000000'), ('maxIncome', '2498000000'), ('avgIncome', '1426000000'), ('minAssets', '1640000000'), ('maxAssets', '17881000000'), ('avgAssets', '10322500000')]\n"
     ]
    },
    {
     "data": {
      "text/plain": [
       "3"
      ]
     },
     "execution_count": 22,
     "metadata": {},
     "output_type": "execute_result"
    }
   ],
   "source": [
    "queryString = \"\"\"\n",
    "select ?countryName\n",
    "    (min(?capitalization) as ?minCapitalization) (max(?capitalization) as ?maxCapitalization) (avg(?capitalization) as ?avgCapitalization)\n",
    "    (min(?income) as ?minIncome) (max(?income) as ?maxIncome) (avg(?income) as ?avgIncome)\n",
    "    (min(?assets) as ?minAssets) (max(?assets) as ?maxAssets) (avg(?assets) as ?avgAssets) where {\n",
    "    values ?companyCountry {wd:Q16 wd:Q145 wd:Q30}\n",
    "\n",
    "    ?company wdt:P31 wd:Q4830453 ;\n",
    "             wdt:P17 ?companyCountry .\n",
    "    optional { ?company wdt:P2403 ?assets . } .\n",
    "    optional { ?company wdt:P3362 ?income . } .\n",
    "    optional { ?company wdt:P2226 ?capitalization . } .\n",
    "\n",
    "    ?company <http://schema.org/name> ?companyName .\n",
    "    ?companyCountry <http://schema.org/name> ?countryName .\n",
    "    \n",
    "    filter exists { ?company wdt:P2403|wdt:P3362|wdt:P2226 ?assets } .\n",
    "} group by ?countryName\n",
    "order by desc(?avgCapitalization) desc(?avgIncome) desc(?avgAssets)\n",
    "\"\"\"\n",
    "\n",
    "print(\"Results\")\n",
    "run_query(queryString)"
   ]
  },
  {
   "cell_type": "markdown",
   "id": "7b30f680-189e-42fd-acad-68d36edb239b",
   "metadata": {},
   "source": [
    "In order to analyze the categories of the companies, I first need a BGP for the category. Analyzing the properties for BlackBerry and Bloomberg L.P. I notice that the \"category\" of the business is under the property *industry **P452***. I print the 20 more popular categories."
   ]
  },
  {
   "cell_type": "code",
   "execution_count": 23,
   "id": "5bb88195-8c40-4dd0-904f-e8c97ca4ba23",
   "metadata": {
    "tags": []
   },
   "outputs": [
    {
     "name": "stdout",
     "output_type": "stream",
     "text": [
      "Results\n",
      "[('industryCategory', 'http://www.wikidata.org/entity/Q126793'), ('industryCategoryName', 'retail'), ('numCompanies', '1000')]\n",
      "[('industryCategory', 'http://www.wikidata.org/entity/Q837171'), ('industryCategoryName', 'financial services'), ('numCompanies', '572')]\n",
      "[('industryCategory', 'http://www.wikidata.org/entity/Q1283714'), ('industryCategoryName', 'Crop production'), ('numCompanies', '480')]\n",
      "[('industryCategory', 'http://www.wikidata.org/entity/Q941594'), ('industryCategoryName', 'video game industry'), ('numCompanies', '414')]\n",
      "[('industryCategory', 'http://www.wikidata.org/entity/Q190117'), ('industryCategoryName', 'automotive industry'), ('numCompanies', '280')]\n",
      "[('industryCategory', 'http://www.wikidata.org/entity/Q7397'), ('industryCategoryName', 'software'), ('numCompanies', '267')]\n",
      "[('industryCategory', 'http://www.wikidata.org/entity/Q187939'), ('industryCategoryName', 'manufacturing'), ('numCompanies', '251')]\n",
      "[('industryCategory', 'http://www.wikidata.org/entity/Q507443'), ('industryCategoryName', 'pharmaceutical industry'), ('numCompanies', '225')]\n",
      "[('industryCategory', 'http://www.wikidata.org/entity/Q880371'), ('industryCategoryName', 'software industry'), ('numCompanies', '210')]\n",
      "[('industryCategory', 'http://www.wikidata.org/entity/Q29584334'), ('industryCategoryName', 'Financial service activities, except insurance and pension funding'), ('numCompanies', '207')]\n",
      "[('industryCategory', 'http://www.wikidata.org/entity/Q44497'), ('industryCategoryName', 'mining'), ('numCompanies', '199')]\n",
      "[('industryCategory', 'http://www.wikidata.org/entity/Q862571'), ('industryCategoryName', 'petroleum industry'), ('numCompanies', '169')]\n",
      "[('industryCategory', 'http://www.wikidata.org/entity/Q2876213'), ('industryCategoryName', 'aerospace'), ('numCompanies', '167')]\n",
      "[('industryCategory', 'http://www.wikidata.org/entity/Q25245117'), ('industryCategoryName', 'telecommunications industry'), ('numCompanies', '156')]\n",
      "[('industryCategory', 'http://www.wikidata.org/entity/Q43183'), ('industryCategoryName', 'insurance'), ('numCompanies', '133')]\n",
      "[('industryCategory', 'http://www.wikidata.org/entity/Q418'), ('industryCategoryName', 'telecommunication'), ('numCompanies', '120')]\n",
      "[('industryCategory', 'http://www.wikidata.org/entity/Q7108'), ('industryCategoryName', 'biotechnology'), ('numCompanies', '112')]\n",
      "[('industryCategory', 'http://www.wikidata.org/entity/Q31207'), ('industryCategoryName', 'health care'), ('numCompanies', '111')]\n",
      "[('industryCategory', 'http://www.wikidata.org/entity/Q3477363'), ('industryCategoryName', 'aerospace industry'), ('numCompanies', '107')]\n",
      "[('industryCategory', 'http://www.wikidata.org/entity/Q11828862'), ('industryCategoryName', 'clothing industry'), ('numCompanies', '106')]\n"
     ]
    },
    {
     "data": {
      "text/plain": [
       "20"
      ]
     },
     "execution_count": 23,
     "metadata": {},
     "output_type": "execute_result"
    }
   ],
   "source": [
    "queryString = \"\"\"\n",
    "select ?industryCategory ?industryCategoryName (count(distinct ?company) as ?numCompanies) where {\n",
    "    values ?companyCountry {wd:Q16 wd:Q145 wd:Q30}\n",
    "\n",
    "    ?company wdt:P31 wd:Q4830453 ;\n",
    "             wdt:P17 ?companyCountry ;\n",
    "             wdt:P452 ?industryCategory .\n",
    "\n",
    "    ?company <http://schema.org/name> ?companyName .\n",
    "    ?companyCountry <http://schema.org/name> ?countryName .\n",
    "    ?industryCategory <http://schema.org/name> ?industryCategoryName .\n",
    "} group by ?industryCategory ?industryCategoryName\n",
    "order by desc(?numCompanies)\n",
    "limit 20\n",
    "\"\"\"\n",
    "\n",
    "print(\"Results\")\n",
    "run_query(queryString)"
   ]
  },
  {
   "cell_type": "markdown",
   "id": "4043b700-a027-444d-9afe-c98820450683",
   "metadata": {},
   "source": [
    "And then I can obtain the min, max, and average of capitalization, income and assets for each category."
   ]
  },
  {
   "cell_type": "code",
   "execution_count": 24,
   "id": "85ca064e-c036-4221-b238-16b24b2699d1",
   "metadata": {},
   "outputs": [
    {
     "name": "stdout",
     "output_type": "stream",
     "text": [
      "Results\n",
      "[('categoryName', 'mobile phone industry'), ('minCapitalization', '1000000000000'), ('maxCapitalization', '2470000000000'), ('avgCapitalization', '1829000000000'), ('minIncome', '66288000000'), ('maxIncome', '70898000000'), ('avgIncome', '68593000000'), ('minAssets', '323888000000'), ('maxAssets', '323888000000'), ('avgAssets', '323888000000')]\n",
      "[('categoryName', 'digital distribution'), ('minCapitalization', '1000000000000'), ('maxCapitalization', '2470000000000'), ('avgCapitalization', '1829000000000'), ('minIncome', '66288000000'), ('maxIncome', '70898000000'), ('avgIncome', '68593000000'), ('minAssets', '323888000000'), ('maxAssets', '323888000000'), ('avgAssets', '323888000000')]\n",
      "[('categoryName', 'consumer electronics'), ('minCapitalization', '1000000000000'), ('maxCapitalization', '2470000000000'), ('avgCapitalization', '1829000000000'), ('minIncome', '-19620000'), ('maxIncome', '70898000000'), ('avgIncome', '63315106153.846153846153846'), ('minAssets', '360480000'), ('maxAssets', '323888000000'), ('avgAssets', '299001267692.307692307692308')]\n",
      "[('categoryName', 'technology industry'), ('minCapitalization', '407000000000'), ('maxCapitalization', '2270000000000'), ('avgCapitalization', '1649250000000'), ('minIncome', '42959000000'), ('maxIncome', '42959000000'), ('avgIncome', '42959000000'), ('minAssets', '286556000000'), ('maxAssets', '286556000000'), ('avgAssets', '286556000000')]\n",
      "[('categoryName', 'electronics'), ('minCapitalization', '104870000000'), ('maxCapitalization', '2470000000000'), ('avgCapitalization', '1582875714285.714285714285714'), ('minIncome', '8644000000'), ('maxIncome', '70898000000'), ('avgIncome', '60028857142.857142857142857'), ('minAssets', '3116535000'), ('maxAssets', '323888000000'), ('avgAssets', '266079502333.333333333333333')]\n",
      "[('categoryName', 'software industry'), ('minCapitalization', '119999000000'), ('maxCapitalization', '2470000000000'), ('avgCapitalization', '1390737190476.19047619047619'), ('minIncome', '355000000'), ('maxIncome', '70898000000'), ('avgIncome', '44999478260.869565217391304'), ('minAssets', '7735000000'), ('maxAssets', '323888000000'), ('avgAssets', '241804583333.333333333333333')]\n",
      "[('categoryName', 'software development'), ('minCapitalization', '177300000000'), ('maxCapitalization', '2270000000000'), ('avgCapitalization', '1354860000000'), ('minIncome', '14800000000'), ('maxIncome', '42959000000'), ('avgIncome', '37327200000'), ('minAssets', '98800000000'), ('maxAssets', '286556000000'), ('avgAssets', '249004800000')]\n",
      "[('categoryName', 'web service'), ('minCapitalization', '163000000000'), ('maxCapitalization', '1670000000000'), ('avgCapitalization', '1093250000000'), ('minIncome', '22900000000'), ('maxIncome', '22900000000'), ('avgIncome', '22900000000'), ('minAssets', '321195000000'), ('maxAssets', '321195000000'), ('avgAssets', '321195000000')]\n",
      "[('categoryName', 'information technology'), ('minCapitalization', '1530000000'), ('maxCapitalization', '2470000000000'), ('avgCapitalization', '1010296100000'), ('minIncome', '-149000000'), ('maxIncome', '70898000000'), ('avgIncome', '43961655172.413793103448276'), ('minAssets', '3888000000'), ('maxAssets', '323888000000'), ('avgAssets', '231588781250')]\n",
      "[('categoryName', 'e-commerce'), ('minCapitalization', '70600000000'), ('maxCapitalization', '1670000000000'), ('avgCapitalization', '888720000000'), ('minIncome', '2325000000'), ('maxIncome', '22900000000'), ('avgIncome', '18785000000'), ('minAssets', '23847000000'), ('maxAssets', '321195000000'), ('avgAssets', '261725400000')]\n",
      "[('categoryName', 'web hosting service'), ('minCapitalization', '18640000000'), ('maxCapitalization', '1670000000000'), ('avgCapitalization', '878328000000'), ('minIncome', '658534000'), ('maxIncome', '22900000000'), ('avgIncome', '18451706800'), ('minAssets', '7764130000'), ('maxAssets', '321195000000'), ('avgAssets', '258508826000')]\n",
      "[('categoryName', 'retail'), ('minCapitalization', '70600000000'), ('maxCapitalization', '1670000000000'), ('avgCapitalization', '709788571428.571428571428571'), ('minIncome', '2325000000'), ('maxIncome', '22900000000'), ('avgIncome', '18382285714.285714285714286'), ('minAssets', '23847000000'), ('maxAssets', '321195000000'), ('avgAssets', '224602500000')]\n",
      "[('categoryName', 'solar power'), ('minCapitalization', '568110000000'), ('maxCapitalization', '751910000000'), ('avgCapitalization', '654337500000'), ('minIncome', '1994000000'), ('maxIncome', '1994000000'), ('avgIncome', '1994000000'), ('minAssets', '52148000000'), ('maxAssets', '52148000000'), ('avgAssets', '52148000000')]\n",
      "[('categoryName', 'automotive industry'), ('minCapitalization', '45624000000'), ('maxCapitalization', '751910000000'), ('avgCapitalization', '539524400000'), ('minIncome', '-4408000000'), ('maxIncome', '26267000000'), ('avgIncome', '3781100000'), ('minAssets', '52148000000'), ('maxAssets', '267261000000'), ('avgAssets', '93789700000')]\n",
      "[('categoryName', 'financial services'), ('minCapitalization', '34400000000'), ('maxCapitalization', '494680000000'), ('avgCapitalization', '448510340909.090909090909091'), ('minIncome', '-2300000000'), ('maxIncome', '30702000000'), ('avgIncome', '10439316666.666666666666667'), ('minAssets', '1100000000'), ('maxAssets', '3960490000000'), ('avgAssets', '394552329000')]\n",
      "[('categoryName', 'fast-moving consumer goods'), ('minCapitalization', '430880000000'), ('maxCapitalization', '430880000000'), ('avgCapitalization', '430880000000'), ('minIncome', '8700000000'), ('maxIncome', '13441000000'), ('avgIncome', '11214666666.666666666666667'), ('minAssets', '42968000000'), ('maxAssets', '174894000000'), ('avgAssets', '107052000000')]\n",
      "[('categoryName', 'insurance'), ('minCapitalization', '185400000000'), ('maxCapitalization', '650340000000'), ('avgCapitalization', '417870000000'), ('minIncome', '14792000000'), ('maxIncome', '55693000000'), ('avgIncome', '35242500000'), ('minAssets', '873729000000'), ('maxAssets', '2374986000000'), ('avgAssets', '1624357500000')]\n",
      "[('categoryName', 'conglomerate'), ('minCapitalization', '114920000000'), ('maxCapitalization', '650340000000'), ('avgCapitalization', '382630000000'), ('minIncome', '26267000000'), ('maxIncome', '55693000000'), ('avgIncome', '40980000000'), ('minAssets', '253452000000'), ('maxAssets', '873729000000'), ('avgAssets', '563590500000')]\n",
      "[('categoryName', 'semiconductor industry'), ('minCapitalization', '84491000000'), ('maxCapitalization', '548070000000'), ('avgCapitalization', '308277710526.315789473684211'), ('minIncome', '496000000'), ('maxIncome', '23678000000'), ('avgIncome', '2236815789.473684210526316'), ('minAssets', '7251000000'), ('maxAssets', '153091000000'), ('avgAssets', '14734552631.578947368421053')]\n",
      "[('categoryName', 'hardware store'), ('minCapitalization', '285920000000'), ('maxCapitalization', '285920000000'), ('avgCapitalization', '285920000000'), ('minAssets', '66919000000'), ('maxAssets', '66919000000'), ('avgAssets', '66919000000')]\n",
      "[('categoryName', 'bank'), ('minCapitalization', '172550000000'), ('maxCapitalization', '344490000000'), ('avgCapitalization', '264083750000'), ('minIncome', '30702000000'), ('maxIncome', '30702000000'), ('avgIncome', '30702000000'), ('minAssets', '1792077000000'), ('maxAssets', '2490972000000'), ('avgAssets', '2142762250000')]\n",
      "[('categoryName', 'aviation industry'), ('minCapitalization', '41070000000'), ('maxCapitalization', '650340000000'), ('avgCapitalization', '249882500000'), ('minIncome', '19637000000'), ('maxIncome', '55693000000'), ('avgIncome', '33865666666.666666666666667'), ('minAssets', '24454000000'), ('maxAssets', '873729000000'), ('avgAssets', '317248500000')]\n",
      "[('categoryName', 'Finance'), ('minCapitalization', '185400000000'), ('maxCapitalization', '307295000000'), ('avgCapitalization', '246347500000'), ('minIncome', '967300000'), ('maxIncome', '30702000000'), ('avgIncome', '15487100000'), ('minAssets', '9496300000'), ('maxAssets', '2490972000000'), ('avgAssets', '1625151433333.333333333333333')]\n",
      "[('categoryName', 'medical device industry'), ('minCapitalization', '57000000000'), ('maxCapitalization', '430880000000'), ('avgCapitalization', '243940000000'), ('minAssets', '41247000000'), ('maxAssets', '174894000000'), ('avgAssets', '108070500000')]\n",
      "[('categoryName', 'petroleum industry'), ('minCapitalization', '112500000000'), ('maxCapitalization', '366980000000'), ('avgCapitalization', '239740000000'), ('minIncome', '11706000000'), ('maxIncome', '113012000000'), ('avgIncome', '52933333333.333333333333333'), ('minAssets', '69980000000'), ('maxAssets', '2059178000000'), ('avgAssets', '594873500000')]\n",
      "[('categoryName', 'discount store'), ('minCapitalization', '239000000000'), ('maxCapitalization', '239000000000'), ('avgCapitalization', '239000000000'), ('minIncome', '22764000000'), ('maxIncome', '22764000000'), ('avgIncome', '22764000000'), ('minAssets', '198825000000'), ('maxAssets', '198825000000'), ('avgAssets', '198825000000')]\n",
      "[('categoryName', 'big-box store'), ('minCapitalization', '239000000000'), ('maxCapitalization', '239000000000'), ('avgCapitalization', '239000000000'), ('minIncome', '22764000000'), ('maxIncome', '22764000000'), ('avgIncome', '22764000000'), ('minAssets', '198825000000'), ('maxAssets', '198825000000'), ('avgAssets', '198825000000')]\n",
      "[('categoryName', 'retail chain'), ('minCapitalization', '239000000000'), ('maxCapitalization', '239000000000'), ('avgCapitalization', '239000000000'), ('minIncome', '22764000000'), ('maxIncome', '22764000000'), ('avgIncome', '22764000000'), ('minAssets', '198825000000'), ('maxAssets', '198825000000'), ('avgAssets', '198825000000')]\n",
      "[('categoryName', 'Financial service activities, except insurance and pension funding'), ('minCapitalization', '172550000000'), ('maxCapitalization', '354350000000'), ('avgCapitalization', '237433333333.333333333333333'), ('minIncome', '8081000000'), ('maxIncome', '14792000000'), ('avgIncome', '11436500000'), ('minAssets', '33584000000'), ('maxAssets', '2374986000000'), ('avgAssets', '1400215666666.666666666666667')]\n",
      "[('categoryName', 'pharmaceutical industry'), ('minCapitalization', '66400000000'), ('maxCapitalization', '430880000000'), ('avgCapitalization', '228830000000'), ('minIncome', '2924000000'), ('maxIncome', '13441000000'), ('avgIncome', '6710750000'), ('minAssets', '61377000000'), ('maxAssets', '174894000000'), ('avgAssets', '106235571428.571428571428571')]\n",
      "[('categoryName', 'International Standard Industrial Classification'), ('minCapitalization', '27800000000'), ('maxCapitalization', '344490000000'), ('avgCapitalization', '216827000000'), ('minIncome', '30702000000'), ('maxIncome', '30702000000'), ('avgIncome', '30702000000'), ('minAssets', '36220000000'), ('maxAssets', '2490972000000'), ('avgAssets', '1252281142857.142857142857143')]\n",
      "[('categoryName', 'postal and telecommunications services'), ('minCapitalization', '204560000000'), ('maxCapitalization', '204560000000'), ('avgCapitalization', '204560000000'), ('minIncome', '6405000000'), ('maxIncome', '6405000000'), ('avgIncome', '6405000000'), ('minAssets', '525761000000'), ('maxAssets', '525761000000'), ('avgAssets', '525761000000')]\n",
      "[('categoryName', 'telecommunication'), ('minCapitalization', '204560000000'), ('maxCapitalization', '204560000000'), ('avgCapitalization', '204560000000'), ('minIncome', '686600000'), ('maxIncome', '6405000000'), ('avgIncome', '3545800000'), ('minAssets', '2941000000'), ('maxAssets', '525761000000'), ('avgAssets', '188307333333.333333333333333')]\n",
      "[('categoryName', 'mass media'), ('minCapitalization', '204560000000'), ('maxCapitalization', '204560000000'), ('avgCapitalization', '204560000000'), ('minIncome', '146'), ('maxIncome', '6405000000'), ('avgIncome', '3202500073'), ('minAssets', '4.02'), ('maxAssets', '525761000000'), ('avgAssets', '180414666668.006666666666667')]\n",
      "[('categoryName', 'aircraft construction'), ('minCapitalization', '193200000000'), ('maxCapitalization', '193200000000'), ('avgCapitalization', '193200000000'), ('minIncome', '19637000000'), ('maxIncome', '19637000000'), ('avgIncome', '19637000000'), ('minAssets', '117359000000'), ('maxAssets', '117359000000'), ('avgAssets', '117359000000')]\n",
      "[('categoryName', 'space industry'), ('minCapitalization', '193200000000'), ('maxCapitalization', '193200000000'), ('avgCapitalization', '193200000000'), ('minIncome', '19637000000'), ('maxIncome', '19637000000'), ('avgIncome', '19637000000'), ('minAssets', '117359000000'), ('maxAssets', '117359000000'), ('avgAssets', '117359000000')]\n",
      "[('categoryName', 'space-based economy'), ('minCapitalization', '193200000000'), ('maxCapitalization', '193200000000'), ('avgCapitalization', '193200000000'), ('minIncome', '19637000000'), ('maxIncome', '19637000000'), ('avgIncome', '19637000000'), ('minAssets', '117359000000'), ('maxAssets', '117359000000'), ('avgAssets', '117359000000')]\n",
      "[('categoryName', 'arms industry'), ('minCapitalization', '193200000000'), ('maxCapitalization', '193200000000'), ('avgCapitalization', '193200000000'), ('minIncome', '-1161000000'), ('maxIncome', '19637000000'), ('avgIncome', '9238000000'), ('minAssets', '31857000000'), ('maxAssets', '117359000000'), ('avgAssets', '74608000000')]\n",
      "[('categoryName', 'banking industry'), ('minCapitalization', '185400000000'), ('maxCapitalization', '185400000000'), ('avgCapitalization', '185400000000'), ('minIncome', '967300000'), ('maxIncome', '14792000000'), ('avgIncome', '7879650000'), ('minAssets', '9496300000'), ('maxAssets', '2374986000000'), ('avgAssets', '1192241150000')]\n",
      "[('categoryName', 'telecommunications industry'), ('minCapitalization', '74530000000'), ('maxCapitalization', '232130000000'), ('avgCapitalization', '170406666666.666666666666667'), ('minIncome', '6405000000'), ('maxIncome', '28798000000'), ('avgIncome', '14389333333.333333333333333'), ('minAssets', '2600000'), ('maxAssets', '525761000000'), ('avgAssets', '174244433333.333333333333333')]\n",
      "[('categoryName', 'electrical industry'), ('minCapitalization', '101840000000'), ('maxCapitalization', '223140000000'), ('avgCapitalization', '164227500000'), ('minIncome', '1369000000'), ('maxIncome', '23678000000'), ('avgIncome', '12523500000'), ('minAssets', '8962000000'), ('maxAssets', '153091000000'), ('avgAssets', '81026500000')]\n",
      "[('categoryName', 'Accommodation and food service activities'), ('minCapitalization', '121530450454'), ('maxCapitalization', '173430000000'), ('avgCapitalization', '154290150151.333333333333333'), ('minIncome', '8822600000'), ('maxIncome', '8822600000'), ('avgIncome', '8822600000'), ('minAssets', '32811200000'), ('maxAssets', '32811200000'), ('avgAssets', '32811200000')]\n",
      "[('categoryName', 'quick service restaurant sector'), ('minCapitalization', '121530450454'), ('maxCapitalization', '173430000000'), ('avgCapitalization', '154290150151.333333333333333'), ('minIncome', '8822600000'), ('maxIncome', '8822600000'), ('avgIncome', '8822600000'), ('minAssets', '32811200000'), ('maxAssets', '32811200000'), ('avgAssets', '32811200000')]\n",
      "[('categoryName', 'food and tobacco industry'), ('minCapitalization', '121530450454'), ('maxCapitalization', '173430000000'), ('avgCapitalization', '154290150151.333333333333333'), ('minIncome', '8822600000'), ('maxIncome', '8822600000'), ('avgIncome', '8822600000'), ('minAssets', '32811200000'), ('maxAssets', '32811200000'), ('avgAssets', '32811200000')]\n",
      "[('categoryName', 'foodservice'), ('minCapitalization', '121530450454'), ('maxCapitalization', '173430000000'), ('avgCapitalization', '154290150151.333333333333333'), ('minIncome', '8822600000'), ('maxIncome', '8822600000'), ('avgIncome', '8822600000'), ('minAssets', '32811200000'), ('maxAssets', '32811200000'), ('avgAssets', '32811200000')]\n",
      "[('categoryName', 'information technology consulting'), ('minCapitalization', '119999000000'), ('maxCapitalization', '177300000000'), ('avgCapitalization', '139630166666.666666666666667'), ('minIncome', '4637000000'), ('maxIncome', '14800000000'), ('avgIncome', '6330833333.333333333333333'), ('minAssets', '98800000000'), ('maxAssets', '123380000000'), ('avgAssets', '119283333333.333333333333333')]\n",
      "[('categoryName', 'IT service management'), ('minCapitalization', '119999000000'), ('maxCapitalization', '157832000000'), ('avgCapitalization', '132096200000'), ('minIncome', '4637000000'), ('maxIncome', '4637000000'), ('avgIncome', '4637000000'), ('minAssets', '123380000000'), ('maxAssets', '123380000000'), ('avgAssets', '123380000000')]\n",
      "[('categoryName', 'computer hardware'), ('minCapitalization', '119999000000'), ('maxCapitalization', '157832000000'), ('avgCapitalization', '132096200000'), ('minIncome', '4637000000'), ('maxIncome', '4637000000'), ('avgIncome', '4637000000'), ('minAssets', '103206000000'), ('maxAssets', '123380000000'), ('avgAssets', '120017666666.666666666666667')]\n",
      "[('categoryName', 'finance lease'), ('minCapitalization', '114920000000'), ('maxCapitalization', '114920000000'), ('avgCapitalization', '114920000000'), ('minIncome', '26267000000'), ('maxIncome', '26267000000'), ('avgIncome', '26267000000'), ('minAssets', '253452000000'), ('maxAssets', '253452000000'), ('avgAssets', '253452000000')]\n",
      "[('categoryName', 'power engineering'), ('minCapitalization', '114920000000'), ('maxCapitalization', '114920000000'), ('avgCapitalization', '114920000000'), ('minIncome', '26267000000'), ('maxIncome', '26267000000'), ('avgIncome', '26267000000'), ('minAssets', '253452000000'), ('maxAssets', '253452000000'), ('avgAssets', '253452000000')]\n",
      "[('categoryName', 'mechanical engineering'), ('minCapitalization', '114920000000'), ('maxCapitalization', '114920000000'), ('avgCapitalization', '114920000000'), ('minIncome', '8293000000'), ('maxIncome', '26267000000'), ('avgIncome', '17280000000'), ('minAssets', '78509000000'), ('maxAssets', '253452000000'), ('avgAssets', '165980500000')]\n",
      "[('categoryName', 'aerospace industry'), ('minCapitalization', '41070000000'), ('maxCapitalization', '193200000000'), ('avgCapitalization', '111632500000'), ('minIncome', '-1161000000'), ('maxIncome', '19637000000'), ('avgIncome', '8941000000'), ('minAssets', '24454000000'), ('maxAssets', '117359000000'), ('avgAssets', '55018000000')]\n",
      "[('categoryName', 'information security'), ('minCapitalization', '104870000000'), ('maxCapitalization', '107390000000'), ('avgCapitalization', '106130000000'), ('minIncome', '8644000000'), ('maxIncome', '8644000000'), ('avgIncome', '8644000000'), ('minAssets', '50710000000'), ('maxAssets', '50710000000'), ('avgAssets', '50710000000')]\n",
      "[('categoryName', 'tourism'), ('minCapitalization', '90234000000'), ('maxCapitalization', '92431000000'), ('avgCapitalization', '91332500000'), ('minIncome', '15706000000'), ('maxIncome', '15706000000'), ('avgIncome', '15706000000'), ('minAssets', '10491499000'), ('maxAssets', '98598000000'), ('avgAssets', '39860332666.666666666666667')]\n",
      "[('categoryName', 'tourism industry'), ('minCapitalization', '90234000000'), ('maxCapitalization', '92431000000'), ('avgCapitalization', '91332500000'), ('minAssets', '10491499000'), ('maxAssets', '24327000000'), ('avgAssets', '15103332666.666666666666667')]\n",
      "[('categoryName', 'Business travel'), ('minCapitalization', '90234000000'), ('maxCapitalization', '92431000000'), ('avgCapitalization', '91332500000'), ('minAssets', '10491499000'), ('maxAssets', '10491499000'), ('avgAssets', '10491499000')]\n",
      "[('categoryName', 'television'), ('minCapitalization', '74530000000'), ('maxCapitalization', '74530000000'), ('avgCapitalization', '74530000000'), ('minIncome', '7965000000'), ('maxIncome', '15706000000'), ('avgIncome', '11835500000'), ('minAssets', '69209000000'), ('maxAssets', '98598000000'), ('avgAssets', '83903500000')]\n",
      "[('categoryName', 'Telecommunications'), ('minCapitalization', '74530000000'), ('maxCapitalization', '74530000000'), ('avgCapitalization', '74530000000'), ('minIncome', '7965000000'), ('maxIncome', '7965000000'), ('avgIncome', '7965000000'), ('minAssets', '69209000000'), ('maxAssets', '69209000000'), ('avgAssets', '69209000000')]\n",
      "[('categoryName', 'publishing'), ('minCapitalization', '74530000000'), ('maxCapitalization', '74530000000'), ('avgCapitalization', '74530000000'), ('minIncome', '7965000000'), ('maxIncome', '7965000000'), ('avgIncome', '7965000000'), ('minAssets', '69209000000'), ('maxAssets', '69209000000'), ('avgAssets', '69209000000')]\n",
      "[('categoryName', 'media industry'), ('minCapitalization', '45900000000'), ('maxCapitalization', '74530000000'), ('avgCapitalization', '55443333333.333333333333333'), ('minIncome', '1929000000'), ('maxIncome', '15706000000'), ('avgIncome', '7024500000'), ('minAssets', '17881000000'), ('maxAssets', '98598000000'), ('avgAssets', '50892250000')]\n",
      "[('categoryName', 'internet industry'), ('minCapitalization', '18640000000'), ('maxCapitalization', '74530000000'), ('avgCapitalization', '46585000000'), ('minIncome', '658534000'), ('maxIncome', '16496000000'), ('avgIncome', '8373178000'), ('minAssets', '7764130000'), ('maxAssets', '131133000000'), ('avgAssets', '69368710000')]\n",
      "[('categoryName', 'electronics industry'), ('minCapitalization', '41070000000'), ('maxCapitalization', '41070000000'), ('avgCapitalization', '41070000000'), ('minAssets', '24454000000'), ('maxAssets', '24454000000'), ('avgAssets', '24454000000')]\n",
      "[('categoryName', 'shipbuilding'), ('minCapitalization', '41070000000'), ('maxCapitalization', '41070000000'), ('avgCapitalization', '41070000000'), ('minAssets', '24454000000'), ('maxAssets', '24454000000'), ('avgAssets', '24454000000')]\n",
      "[('categoryName', 'insurance industry'), ('minCapitalization', '33600000000'), ('maxCapitalization', '33600000000'), ('avgCapitalization', '33600000000'), ('minAssets', '25396000000'), ('maxAssets', '122679000000'), ('avgAssets', '74037500000')]\n",
      "[('categoryName', 'manufacturing'), ('minCapitalization', '27000000000'), ('maxCapitalization', '27000000000'), ('avgCapitalization', '27000000000'), ('minIncome', '1630000000'), ('maxIncome', '1630000000'), ('avgIncome', '1630000000'), ('minAssets', '27494000000'), ('maxAssets', '27494000000'), ('avgAssets', '27494000000')]\n",
      "[('categoryName', 'media company'), ('minCapitalization', '26560000000'), ('maxCapitalization', '26560000000'), ('avgCapitalization', '26560000000'), ('minIncome', '4139000000'), ('maxIncome', '4139000000'), ('avgIncome', '4139000000'), ('minAssets', '52663000000'), ('maxAssets', '52663000000'), ('avgAssets', '52663000000')]\n",
      "[('categoryName', 'air transport'), ('minCapitalization', '11643000000'), ('maxCapitalization', '32580000000'), ('avgCapitalization', '22111500000'), ('minAssets', '60270000000'), ('maxAssets', '60270000000'), ('avgAssets', '60270000000')]\n",
      "[('categoryName', 'asset management'), ('minCapitalization', '18000000000'), ('maxCapitalization', '18000000000'), ('avgCapitalization', '18000000000'), ('minIncome', '1899000000'), ('maxIncome', '1899000000'), ('avgIncome', '1899000000'), ('minAssets', '5107000000'), ('maxAssets', '5107000000'), ('avgAssets', '5107000000')]\n",
      "[('categoryName', 'internet of things'), ('minCapitalization', '6882000000'), ('maxCapitalization', '6882000000'), ('avgCapitalization', '6882000000'), ('minIncome', '-149000000'), ('maxIncome', '-149000000'), ('avgIncome', '-149000000'), ('minAssets', '3888000000'), ('maxAssets', '3888000000'), ('avgAssets', '3888000000')]\n",
      "[('categoryName', 'ferrous metallurgy'), ('minCapitalization', '4910000000'), ('maxCapitalization', '4910000000'), ('avgCapitalization', '4910000000'), ('minAssets', '11608000000'), ('maxAssets', '11608000000'), ('avgAssets', '11608000000')]\n",
      "[('categoryName', 'logistics'), ('minCapitalization', '4340000000'), ('maxCapitalization', '4340000000'), ('avgCapitalization', '4340000000'), ('minIncome', '171700000'), ('maxIncome', '7529000000'), ('avgIncome', '4245900000'), ('minAssets', '2498000000'), ('maxAssets', '48552000000'), ('avgAssets', '32151000000')]\n",
      "[('categoryName', 'Internet marketing'), ('minIncome', '16496000000'), ('maxIncome', '16496000000'), ('avgIncome', '16496000000'), ('minAssets', '131133000000'), ('maxAssets', '131133000000'), ('avgAssets', '131133000000')]\n",
      "[('categoryName', 'cinematography'), ('minIncome', '15706000000'), ('maxIncome', '15706000000'), ('avgIncome', '15706000000'), ('minAssets', '98598000000'), ('maxAssets', '98598000000'), ('avgAssets', '98598000000')]\n",
      "[('categoryName', 'entertainment industry'), ('minIncome', '15706000000'), ('maxIncome', '15706000000'), ('avgIncome', '15706000000'), ('minAssets', '98598000000'), ('maxAssets', '98598000000'), ('avgAssets', '98598000000')]\n",
      "[('categoryName', 'leisure industries'), ('minIncome', '15706000000'), ('maxIncome', '15706000000'), ('avgIncome', '15706000000'), ('minAssets', '98598000000'), ('maxAssets', '98598000000'), ('avgAssets', '98598000000')]\n",
      "[('categoryName', 'amusement park'), ('minIncome', '15706000000'), ('maxIncome', '15706000000'), ('avgIncome', '15706000000'), ('minAssets', '98598000000'), ('maxAssets', '98598000000'), ('avgAssets', '98598000000')]\n",
      "[('categoryName', 'animation'), ('minIncome', '15706000000'), ('maxIncome', '15706000000'), ('avgIncome', '15706000000'), ('minAssets', '98598000000'), ('maxAssets', '98598000000'), ('avgAssets', '98598000000')]\n",
      "[('categoryName', 'film industry'), ('minIncome', '15706000000'), ('maxIncome', '15706000000'), ('avgIncome', '15706000000'), ('minAssets', '98598000000'), ('maxAssets', '98598000000'), ('avgAssets', '98598000000')]\n",
      "[('categoryName', 'tobacco industry'), ('minIncome', '11503000000'), ('maxIncome', '11503000000'), ('avgIncome', '11503000000'), ('minAssets', '42968000000'), ('maxAssets', '42968000000'), ('avgAssets', '42968000000')]\n",
      "[('categoryName', 'Internet'), ('minIncome', '686600000'), ('maxIncome', '16496000000'), ('avgIncome', '8591300000'), ('minAssets', '2941000000'), ('maxAssets', '131133000000'), ('avgAssets', '52188363666.666666666666667')]\n",
      "[('categoryName', 'delivery'), ('minIncome', '7529000000'), ('maxIncome', '7529000000'), ('avgIncome', '7529000000'), ('minAssets', '45403000000'), ('maxAssets', '45403000000'), ('avgAssets', '45403000000')]\n",
      "[('categoryName', 'food industry'), ('minIncome', '3204000000'), ('maxIncome', '8700000000'), ('avgIncome', '5952000000'), ('minAssets', '59475000000'), ('maxAssets', '83210000000'), ('avgAssets', '71342500000')]\n",
      "[('categoryName', 'transportation industry'), ('minIncome', '5037000000'), ('maxIncome', '5037000000'), ('avgIncome', '5037000000'), ('minAssets', '48552000000'), ('maxAssets', '48552000000'), ('avgAssets', '48552000000')]\n",
      "[('categoryName', 'beverage industry'), ('minIncome', '29881000'), ('maxIncome', '8700000000'), ('avgIncome', '4364940500'), ('minAssets', '682825000'), ('maxAssets', '83210000000'), ('avgAssets', '41946412500')]\n",
      "[('categoryName', 'DVD-by-mail'), ('minIncome', '838679000'), ('maxIncome', '838679000'), ('avgIncome', '838679000'), ('minAssets', '19013000000'), ('maxAssets', '19013000000'), ('avgAssets', '19013000000')]\n",
      "[('categoryName', 'streaming media'), ('minIncome', '838679000'), ('maxIncome', '838679000'), ('avgIncome', '838679000'), ('minAssets', '19013000000'), ('maxAssets', '19013000000'), ('avgAssets', '19013000000')]\n",
      "[('categoryName', 'fast food'), ('minIncome', '640000000'), ('maxIncome', '640000000'), ('avgIncome', '640000000'), ('minAssets', '3727000000'), ('maxAssets', '3727000000'), ('avgAssets', '3727000000')]\n",
      "[('categoryName', 'cryptocurrency industry'), ('minIncome', '408951000'), ('maxIncome', '408951000'), ('avgIncome', '408951000'), ('minAssets', '5855414000'), ('maxAssets', '5855414000'), ('avgAssets', '5855414000')]\n",
      "[('categoryName', 'cryptocurrency exchange'), ('minIncome', '408951000'), ('maxIncome', '408951000'), ('avgIncome', '408951000'), ('minAssets', '5855414000'), ('maxAssets', '5855414000'), ('avgAssets', '5855414000')]\n",
      "[('categoryName', 'financial technology'), ('minIncome', '408951000'), ('maxIncome', '408951000'), ('avgIncome', '408951000'), ('minAssets', '5855414000'), ('maxAssets', '5855414000'), ('avgAssets', '5855414000')]\n",
      "[('categoryName', 'bitcoin'), ('minIncome', '408951000'), ('maxIncome', '408951000'), ('avgIncome', '408951000'), ('minAssets', '5855414000'), ('maxAssets', '5855414000'), ('avgAssets', '5855414000')]\n",
      "[('categoryName', 'software company'), ('minIncome', '248300000'), ('maxIncome', '248300000'), ('avgIncome', '248300000'), ('minAssets', '2904800000'), ('maxAssets', '2904800000'), ('avgAssets', '2904800000')]\n",
      "[('categoryName', 'sport industry'), ('minIncome', '49985000'), ('maxIncome', '49985000'), ('avgIncome', '49985000'), ('minAssets', '1496525000'), ('maxAssets', '1496525000'), ('avgAssets', '1496525000')]\n",
      "[('categoryName', 'broadcasting'), ('minIncome', '-19620000'), ('maxIncome', '-19620000'), ('avgIncome', '-19620000'), ('minAssets', '360480000'), ('maxAssets', '360480000'), ('avgAssets', '360480000')]\n",
      "[('categoryName', 'biotechnology'), ('minIncome', '-575720000'), ('maxIncome', '-575720000'), ('avgIncome', '-575720000'), ('minAssets', '1589422000'), ('maxAssets', '1589422000'), ('avgAssets', '1589422000')]\n",
      "[('categoryName', 'biotechnology industry'), ('minIncome', '-575720000'), ('maxIncome', '-575720000'), ('avgIncome', '-575720000'), ('minAssets', '1589422000'), ('maxAssets', '1589422000'), ('avgAssets', '1589422000')]\n",
      "[('categoryName', 'energy industry'), ('minIncome', '-1161000000'), ('maxIncome', '-1161000000'), ('avgIncome', '-1161000000'), ('minAssets', '31857000000'), ('maxAssets', '65503000000'), ('avgAssets', '48680000000')]\n",
      "[('categoryName', 'Extraction of crude petroleum and natural gas'), ('minAssets', '404336000000'), ('maxAssets', '404336000000'), ('avgAssets', '404336000000')]\n",
      "[('categoryName', 'oil industry'), ('minAssets', '404336000000'), ('maxAssets', '404336000000'), ('avgAssets', '404336000000')]\n",
      "[('categoryName', 'health care'), ('minAssets', '61247000000'), ('maxAssets', '122679000000'), ('avgAssets', '91963000000')]\n",
      "[('categoryName', 'energy and water industries'), ('minAssets', '65503000000'), ('maxAssets', '65503000000'), ('avgAssets', '65503000000')]\n",
      "[('categoryName', 'corporate group'), ('minAssets', '36220000000'), ('maxAssets', '36220000000'), ('avgAssets', '36220000000')]\n",
      "[('categoryName', 'private equity'), ('minAssets', '30000000000'), ('maxAssets', '30000000000'), ('avgAssets', '30000000000')]\n",
      "[('categoryName', 'investment'), ('minAssets', '24610225000'), ('maxAssets', '26604254000'), ('avgAssets', '25607239500')]\n",
      "[('categoryName', 'finance'), ('minAssets', '35.994'), ('maxAssets', '26604254000'), ('avgAssets', '17071493011.998')]\n",
      "[('categoryName', 'journalism'), ('minAssets', '15483000000'), ('maxAssets', '15483000000'), ('avgAssets', '15483000000')]\n",
      "[('categoryName', 'Aircraft lease'), ('minAssets', '12389452000'), ('maxAssets', '12389452000'), ('avgAssets', '12389452000')]\n",
      "[('categoryName', 'networking hardware'), ('minAssets', '8837000000'), ('maxAssets', '8837000000'), ('avgAssets', '8837000000')]\n",
      "[('categoryName', 'technology'), ('minAssets', '8837000000'), ('maxAssets', '8837000000'), ('avgAssets', '8837000000')]\n",
      "[('categoryName', 'enterprise software'), ('minAssets', '6022430000'), ('maxAssets', '6022430000'), ('avgAssets', '6022430000')]\n",
      "[('categoryName', 'clothing industry'), ('minAssets', '2393670000'), ('maxAssets', '2393670000'), ('avgAssets', '2393670000')]\n",
      "[('categoryName', 'computer security'), ('minAssets', '1270000000'), ('maxAssets', '1270000000'), ('avgAssets', '1270000000')]\n",
      "[('categoryName', 'network security'), ('minAssets', '1270000000'), ('maxAssets', '1270000000'), ('avgAssets', '1270000000')]\n",
      "[('categoryName', 'software'), ('minAssets', '31015000'), ('maxAssets', '31015000'), ('avgAssets', '31015000')]\n"
     ]
    },
    {
     "data": {
      "text/plain": [
       "114"
      ]
     },
     "execution_count": 24,
     "metadata": {},
     "output_type": "execute_result"
    }
   ],
   "source": [
    "queryString = \"\"\"\n",
    "select ?categoryName\n",
    "    (min(?capitalization) as ?minCapitalization) (max(?capitalization) as ?maxCapitalization) (avg(?capitalization) as ?avgCapitalization)\n",
    "    (min(?income) as ?minIncome) (max(?income) as ?maxIncome) (avg(?income) as ?avgIncome)\n",
    "    (min(?assets) as ?minAssets) (max(?assets) as ?maxAssets) (avg(?assets) as ?avgAssets) where {\n",
    "    values ?companyCountry {wd:Q16 wd:Q145 wd:Q30}\n",
    "\n",
    "    ?company wdt:P31 wd:Q4830453 ;\n",
    "             wdt:P17 ?companyCountry ;\n",
    "             wdt:P452 ?category .\n",
    "    optional { ?company wdt:P2403 ?assets . } .\n",
    "    optional { ?company wdt:P3362 ?income . } .\n",
    "    optional { ?company wdt:P2226 ?capitalization . } .\n",
    "\n",
    "    ?category <http://schema.org/name> ?categoryName .\n",
    "    \n",
    "    filter exists { ?company wdt:P2403|wdt:P3362|wdt:P2226 ?assets } .\n",
    "} group by ?categoryName\n",
    "order by desc(?avgCapitalization) desc(?avgIncome) desc(?avgAssets)\n",
    "\"\"\"\n",
    "\n",
    "print(\"Results\")\n",
    "run_query(queryString)"
   ]
  },
  {
   "cell_type": "markdown",
   "id": "7c3365a6-f5d7-4838-a37d-fdf28694c041",
   "metadata": {},
   "source": [
    "### 5.3 Which business in each country owns more businesses in other countries?"
   ]
  },
  {
   "cell_type": "code",
   "execution_count": 25,
   "id": "0891d9c8-6421-478b-b57a-bbaf2c7eda22",
   "metadata": {
    "tags": []
   },
   "outputs": [
    {
     "name": "stdout",
     "output_type": "stream",
     "text": [
      "Results\n",
      "[('countryName', 'United States of America'), ('companyName', 'BlackRock'), ('numOwned', '58')]\n",
      "[('countryName', 'United Kingdom'), ('companyName', 'Vodafone'), ('numOwned', '17')]\n",
      "[('countryName', 'Canada'), ('companyName', 'Barrick Gold'), ('numOwned', '6')]\n"
     ]
    },
    {
     "data": {
      "text/plain": [
       "3"
      ]
     },
     "execution_count": 25,
     "metadata": {},
     "output_type": "execute_result"
    }
   ],
   "source": [
    "queryString = \"\"\"\n",
    "\n",
    "select ?countryName ?companyName ?numOwned {\n",
    "    {\n",
    "        select ?country (max(?numOwned) as ?maxOwned) where {\n",
    "            {\n",
    "                select ?country ?company (count(distinct ?owned) as ?numOwned) {\n",
    "                    values ?country {wd:Q16 wd:Q145 wd:Q30}\n",
    "                    ?company wdt:P31 wd:Q4830453 ;\n",
    "                             wdt:P17 ?country ;\n",
    "                             wdt:P8687 ?value .\n",
    "                    ?owned wdt:P17 ?ownedCountry .\n",
    "                    { ?company wdt:P1830 ?owned . } union { ?owned wdt:P127 ?company . } .\n",
    "                    filter (?ownedCountry != ?country)\n",
    "                } group by ?country ?company\n",
    "            }\n",
    "        } group by ?country\n",
    "    } .\n",
    "    {\n",
    "        select ?country ?company (count(distinct ?owned) as ?numOwned) {\n",
    "            values ?country {wd:Q16 wd:Q145 wd:Q30}\n",
    "            ?company wdt:P31 wd:Q4830453 ;\n",
    "                     wdt:P17 ?country ;\n",
    "                     wdt:P8687 ?value .\n",
    "            ?owned wdt:P17 ?ownedCountry .\n",
    "            { ?company wdt:P1830 ?owned . } union { ?owned wdt:P127 ?company . } .\n",
    "            filter (?ownedCountry != ?country)\n",
    "        }  group by ?country ?company\n",
    "    }\n",
    "    \n",
    "    ?country <http://schema.org/name> ?countryName .\n",
    "    ?company <http://schema.org/name> ?companyName .\n",
    "    \n",
    "    filter (?maxOwned = ?numOwned) .\n",
    "} order by desc(?numOwned)\n",
    "\"\"\"\n",
    "\n",
    "print(\"Results\")\n",
    "run_query(queryString)"
   ]
  },
  {
   "cell_type": "code",
   "execution_count": null,
   "id": "0a9cd9cd-9b94-414c-b2ec-7e92d229d081",
   "metadata": {
    "collapsed": true,
    "jupyter": {
     "outputs_hidden": true
    }
   },
   "outputs": [],
   "source": []
  }
 ],
 "metadata": {
  "kernelspec": {
   "display_name": "Python 3 (ipykernel)",
   "language": "python",
   "name": "python3"
  },
  "language_info": {
   "codemirror_mode": {
    "name": "ipython",
    "version": 3
   },
   "file_extension": ".py",
   "mimetype": "text/x-python",
   "name": "python",
   "nbconvert_exporter": "python",
   "pygments_lexer": "ipython3",
   "version": "3.7.10"
  }
 },
 "nbformat": 4,
 "nbformat_minor": 5
}
