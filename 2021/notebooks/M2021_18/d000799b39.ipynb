{
 "cells": [
  {
   "cell_type": "markdown",
   "id": "7034c3bf-6eb0-4418-8687-7b9d2a501103",
   "metadata": {
    "tags": []
   },
   "source": [
    "# General instructions\n",
    "\n",
    "The goal of the project is to materialize a set of **exploratory workloads** over a real-world, large-scale,  open-domain KG: [WikiData](https://www.wikidata.org/wiki/Wikidata:Main_Page)\n",
    "\n",
    "An exploratory workload  is composed by a set of queries, where each query is related to the information obtained previously.\n",
    "\n",
    "An exploratory workload starts with a usually vague, open ended question, and does not assume the person issuing the workload has a clear understanding of the data contained in the target database or its structure.\n",
    "\n",
    "Remeber that:\n",
    "\n",
    "1. All the queries must run in the python notebook\n",
    "2. You can use classes and properties only if you find them via a SPARQL query that must be present in the notebook\n",
    "3. You do not delete useless queries. Keep everything that is synthatically valid \n",
    "\n",
    "```\n",
    "?p <http://schema.org/name> ?name .\n",
    "```\n",
    "    \n",
    "    is the BGP returning a human-readable name of a property or a class in Wikidata.\n",
    "    \n",
    "    "
   ]
  },
  {
   "cell_type": "code",
   "execution_count": 1,
   "id": "3605c9d5-5371-49a5-be8d-d66e8f417139",
   "metadata": {},
   "outputs": [],
   "source": [
    "## SETUP used later\n",
    "\n",
    "from SPARQLWrapper import SPARQLWrapper, JSON\n",
    "\n",
    "\n",
    "prefixString = \"\"\"\n",
    "##-NOTEBOOK_CODE_HERE-##\n",
    "PREFIX wd: <http://www.wikidata.org/entity/> \n",
    "PREFIX wdt: <http://www.wikidata.org/prop/direct/> \n",
    "PREFIX sc: <http://schema.org/>\n",
    "\"\"\"\n",
    "\n",
    "# select and construct queries\n",
    "def run_query(queryString):\n",
    "    to_run = prefixString + \"\\n\" + queryString\n",
    "\n",
    "    sparql = SPARQLWrapper(\"http://a256-gc1-02.srv.aau.dk:5820/sparql\")\n",
    "    sparql.setTimeout(300)\n",
    "    sparql.setReturnFormat(JSON)\n",
    "    sparql.setQuery(to_run)\n",
    "\n",
    "    try :\n",
    "       results = sparql.query()\n",
    "       json_results = results.convert()\n",
    "       if len(json_results['results']['bindings'])==0:\n",
    "          print(\"Empty\")\n",
    "          return 0\n",
    "    \n",
    "       for bindings in json_results['results']['bindings']:\n",
    "          print( [ (var, value['value'])  for var, value in bindings.items() ] )\n",
    "\n",
    "       return len(json_results['results']['bindings'])\n",
    "\n",
    "    except Exception as e :\n",
    "        print(\"The operation failed\", e)\n",
    "    \n",
    "# ASk queries\n",
    "def run_ask_query(queryString):\n",
    "    to_run = prefixString + \"\\n\" + queryString\n",
    "\n",
    "    sparql = SPARQLWrapper(\"http://a256-gc1-03.srv.aau.dk:5820/sparql\")\n",
    "    sparql.setTimeout(300)\n",
    "    sparql.setReturnFormat(JSON)\n",
    "    sparql.setQuery(to_run)\n",
    "\n",
    "    try :\n",
    "        return sparql.query().convert()\n",
    "\n",
    "    except Exception as e :\n",
    "        print(\"The operation failed\", e)"
   ]
  },
  {
   "cell_type": "markdown",
   "id": "d477a59c-a68c-4c8f-9f97-8ca5294d7d27",
   "metadata": {},
   "source": [
    "# Movie Workflow Series (\"The Batman movies explorative search\") \n",
    "\n",
    "Consider the following exploratory scenario:\n",
    "\n",
    "\n",
    "> we are interested in movies about the Batman. We want to investigate the differences between the variuos series of films produced in different decades. \n",
    "\n",
    "\n",
    "## Useful URIs for the current workflow\n",
    "The following are given:\n",
    "\n",
    "| IRI           | Description   | Role      |\n",
    "| -----------   | -----------   |-----------|\n",
    "| `wdt:P1647`   | subproperty   | predicate |\n",
    "| `wdt:P31`     | instance of   | predicate |\n",
    "| `wdt:P279`    | subclass      | predicate |\n",
    "| `wdt:P4969`    | derivative work      | predicate |\n",
    "| `wd:Q2695156` | Batman        | node |\n",
    "| `wd:Q25191` | Christopher Nolan         | node |\n",
    "| `wd:Q12859908'` | The Dark Knight Trilogy | node |\n",
    "\n",
    "\n",
    "\n",
    "Also consider\n",
    "\n",
    "```\n",
    "wd:Q25191 ?p ?obj .\n",
    "```\n",
    "\n",
    "is the BGP to retrieve all **properties of Christopher Nolan**\n",
    "\n",
    "The workload should\n",
    "\n",
    "\n",
    "1. Investigate the works (aka derivative works) related to the Batman and individuate the movies. Return the movies along with the year of production and the director.\n",
    "\n",
    "2. Return the main Batman movie series produced in the last four decades and compare them in terms of length, number of actors involved and costs.\n",
    "\n",
    "3. Investigate what are the workers (writers, actors, etc.) who had a role in more Batman movies so far.\n",
    "\n",
    "4. Compare the ratings of the single movies and of the series. Indentify the movie with highest rating from the critics and the \"best\" series overall\n",
    "\n",
    "5. Return how many actors who are members of the cast of the \"Dark Knight Trilogy\" by Christopher Nolan have [Kavin Bacon number](https://en.wikipedia.org/wiki/Six_Degrees_of_Kevin_Bacon#:~:text=Kevin%20Bacon%20himself%20has%20a,Bacon%20number%20is%20N%2B1.) equal to 2 "
   ]
  },
  {
   "cell_type": "code",
   "execution_count": 2,
   "id": "24a853ab-830c-422c-afd3-e9e015b8b8ed",
   "metadata": {},
   "outputs": [],
   "source": [
    "# start your workflow here"
   ]
  },
  {
   "cell_type": "markdown",
   "id": "87e7d12c-5795-478c-84ff-cbb4f4616e5e",
   "metadata": {
    "jp-MarkdownHeadingCollapsed": true,
    "tags": []
   },
   "source": [
    "### Task 1. Investigate the works (aka derivative works) related to the Batman and individuate the movies. Return the movies along with the year of production and the director."
   ]
  },
  {
   "cell_type": "code",
   "execution_count": 3,
   "id": "598a523c-ef67-473d-9004-ac7bdc2f8d00",
   "metadata": {},
   "outputs": [
    {
     "name": "stdout",
     "output_type": "stream",
     "text": [
      "Results\n",
      "[('p', 'http://www.wikidata.org/entity/Q11424'), ('pname', 'film')]\n",
      "[('p', 'http://www.wikidata.org/entity/Q63998451'), ('pname', 'superhero film character')]\n",
      "[('p', 'http://www.wikidata.org/entity/Q18011172'), ('pname', 'film project')]\n"
     ]
    },
    {
     "data": {
      "text/plain": [
       "3"
      ]
     },
     "execution_count": 3,
     "metadata": {},
     "output_type": "execute_result"
    }
   ],
   "source": [
    "queryString = \"\"\"\n",
    "SELECT DISTINCT ?p ?pname \n",
    "WHERE { \n",
    "\n",
    "    wd:Q2695156 wdt:P4969 ?derivw .\n",
    "    ?derivw wdt:P31 ?p.\n",
    "    ?p sc:name ?pname\n",
    "    FILTER(REGEX(?pname, \".*[F|f]ilm.*\") || REGEX(?pname, \".*[M|m]ovie.*\"))\n",
    "}\n",
    "\"\"\"\n",
    "print(\"Results\")\n",
    "run_query(queryString)"
   ]
  },
  {
   "cell_type": "code",
   "execution_count": 4,
   "id": "d00991aa-5e43-41f8-b51b-8eb4fe235418",
   "metadata": {},
   "outputs": [
    {
     "name": "stdout",
     "output_type": "stream",
     "text": [
      "Results\n",
      "[('derivw', 'http://www.wikidata.org/entity/Q116852'), ('dwname', 'Batman')]\n",
      "[('derivw', 'http://www.wikidata.org/entity/Q221345'), ('dwname', 'Batman Forever')]\n",
      "[('derivw', 'http://www.wikidata.org/entity/Q21095079'), ('dwname', 'Batman: Bad Blood')]\n",
      "[('derivw', 'http://www.wikidata.org/entity/Q189054'), ('dwname', 'Batman Returns')]\n",
      "[('derivw', 'http://www.wikidata.org/entity/Q163872'), ('dwname', 'The Dark Knight')]\n",
      "[('derivw', 'http://www.wikidata.org/entity/Q166262'), ('dwname', 'Batman Begins')]\n",
      "[('derivw', 'http://www.wikidata.org/entity/Q189330'), ('dwname', 'The Dark Knight Rises')]\n",
      "[('derivw', 'http://www.wikidata.org/entity/Q276523'), ('dwname', 'Batman & Robin')]\n"
     ]
    },
    {
     "data": {
      "text/plain": [
       "8"
      ]
     },
     "execution_count": 4,
     "metadata": {},
     "output_type": "execute_result"
    }
   ],
   "source": [
    "queryString = \"\"\"\n",
    "SELECT DISTINCT ?derivw ?dwname\n",
    "WHERE { \n",
    "\n",
    "    wd:Q2695156 wdt:P4969 ?derivw .\n",
    "    ?derivw wdt:P31 ?p.\n",
    "    ?p sc:name ?pname. FILTER(REGEX(?pname, \"^film$\", \"i\"))\n",
    "    ?derivw sc:name ?dwname .\n",
    "}\n",
    "\"\"\"\n",
    "print(\"Results\")\n",
    "run_query(queryString)"
   ]
  },
  {
   "cell_type": "code",
   "execution_count": 5,
   "id": "d4c816c5-c667-41de-bb46-dc60b073361f",
   "metadata": {},
   "outputs": [
    {
     "name": "stdout",
     "output_type": "stream",
     "text": [
      "Results\n",
      "[('p', 'http://www.wikidata.org/prop/direct/P3340'), ('pname', 'Kvikmyndir film ID')]\n",
      "[('p', 'http://www.wikidata.org/prop/direct/P344'), ('pname', 'director of photography')]\n",
      "[('p', 'http://www.wikidata.org/prop/direct/P57'), ('pname', 'director')]\n",
      "[('p', 'http://www.wikidata.org/prop/direct/P577'), ('pname', 'publication date')]\n"
     ]
    },
    {
     "data": {
      "text/plain": [
       "4"
      ]
     },
     "execution_count": 5,
     "metadata": {},
     "output_type": "execute_result"
    }
   ],
   "source": [
    "queryString = \"\"\"\n",
    "SELECT DISTINCT ?p ?pname\n",
    "WHERE { \n",
    "    wd:Q276523 ?p ?o.\n",
    "    ?p sc:name ?pname .\n",
    "    FILTER (REGEX(?pname, \".*[Y|y]ear.*\") || REGEX(?pname, \".*[D|d]ate.*\") || REGEX(?pname, \".*[D|d]ir.*\"))\n",
    "} \n",
    "\"\"\"\n",
    "\n",
    "print(\"Results\")\n",
    "run_query(queryString)"
   ]
  },
  {
   "cell_type": "code",
   "execution_count": 6,
   "id": "d2f770d9-9085-481a-b6f3-640577a03e83",
   "metadata": {},
   "outputs": [
    {
     "name": "stdout",
     "output_type": "stream",
     "text": [
      "Results\n",
      "[('fname', 'Batman Returns'), ('callret-1', 'http://www.wikidata.org/entity/Q189054'), ('callret-2', 'Tim Burton'), ('callret-3', '1992-06-16 00:00:00Z, 1992-06-19 00:00:00Z, 1992-07-16 00:00:00Z, 1992-07-31 00:00:00Z')]\n",
      "[('fname', 'The Dark Knight Rises'), ('callret-1', 'http://www.wikidata.org/entity/Q189330'), ('callret-2', 'Christopher Nolan'), ('callret-3', '2012-07-20 00:00:00Z, 2012-07-25 00:00:00Z, 2012-07-26 00:00:00Z')]\n",
      "[('fname', 'Batman Forever'), ('callret-1', 'http://www.wikidata.org/entity/Q221345'), ('callret-2', 'Joel Schumacher'), ('callret-3', '1995-06-16 00:00:00Z, 1995-07-14 00:00:00Z, 1995-08-03 00:00:00Z')]\n",
      "[('fname', 'Batman Begins'), ('callret-1', 'http://www.wikidata.org/entity/Q166262'), ('callret-2', 'Christopher Nolan'), ('callret-3', '2005-06-15 00:00:00Z, 2005-06-16 00:00:00Z, 2005-07-27 00:00:00Z')]\n",
      "[('fname', 'Batman'), ('callret-1', 'http://www.wikidata.org/entity/Q116852'), ('callret-2', 'Tim Burton'), ('callret-3', '1989-06-23 00:00:00Z, 1989-09-13 00:00:00Z, 1989-10-20 00:00:00Z, 1989-10-26 00:00:00Z')]\n",
      "[('fname', 'Batman: Bad Blood'), ('callret-1', 'http://www.wikidata.org/entity/Q21095079'), ('callret-2', 'Jay Oliva'), ('callret-3', '2016-01-01 00:00:00Z, 2016-08-04 00:00:00Z')]\n",
      "[('fname', 'Batman & Robin'), ('callret-1', 'http://www.wikidata.org/entity/Q276523'), ('callret-2', 'Joel Schumacher'), ('callret-3', '1997-06-20 00:00:00Z, 1997-06-26 00:00:00Z, 1997-07-04 00:00:00Z')]\n",
      "[('fname', 'The Dark Knight'), ('callret-1', 'http://www.wikidata.org/entity/Q163872'), ('callret-2', 'Christopher Nolan'), ('callret-3', '2008-07-18 00:00:00Z, 2008-07-25 00:00:00Z, 2008-08-13 00:00:00Z, 2008-08-21 00:00:00Z')]\n"
     ]
    },
    {
     "data": {
      "text/plain": [
       "8"
      ]
     },
     "execution_count": 6,
     "metadata": {},
     "output_type": "execute_result"
    }
   ],
   "source": [
    "queryString = \"\"\"\n",
    "SELECT DISTINCT ?fname (GROUP_CONCAT(DISTINCT ?f; SEPARATOR=\", \")) \n",
    "                            (GROUP_CONCAT(DISTINCT ?dirname; SEPARATOR=\", \")) \n",
    "                            (GROUP_CONCAT(DISTINCT ?date; SEPARATOR=\", \"))\n",
    "WHERE { \n",
    "\n",
    "    wd:Q2695156 wdt:P4969 ?f.\n",
    "    ?f wdt:P31 ?p .\n",
    "    ?p sc:name ?pname. FILTER(REGEX(?pname, \"^film$\", \"i\"))\n",
    "    ?f sc:name ?fname .\n",
    "    ?f wdt:P57 ?director .\n",
    "    ?director sc:name ?dirname .\n",
    "    ?f wdt:P577 ?date .\n",
    "    \n",
    "}GROUP BY ?fname\n",
    "\"\"\"\n",
    "print(\"Results\")\n",
    "run_query(queryString)"
   ]
  },
  {
   "cell_type": "markdown",
   "id": "08fdb299-9d1d-42bc-a40e-ee590851c8d4",
   "metadata": {
    "jp-MarkdownHeadingCollapsed": true,
    "tags": []
   },
   "source": [
    "### Task 2. Return the main Batman movie series produced in the last four decades and compare them in terms of length, number of actors involved and costs."
   ]
  },
  {
   "cell_type": "code",
   "execution_count": 7,
   "id": "a425ef7d-f7a6-4508-bd1f-6f21529837e4",
   "metadata": {},
   "outputs": [
    {
     "name": "stdout",
     "output_type": "stream",
     "text": [
      "Results\n",
      "[('p', 'http://www.wikidata.org/prop/direct/P179'), ('pname', 'part of the series')]\n"
     ]
    },
    {
     "data": {
      "text/plain": [
       "1"
      ]
     },
     "execution_count": 7,
     "metadata": {},
     "output_type": "execute_result"
    }
   ],
   "source": [
    "queryString = \"\"\"\n",
    "SELECT DISTINCT ?p ?pname\n",
    "WHERE { \n",
    "    wd:Q116852 ?p ?o.\n",
    "    ?p sc:name ?pname .\n",
    "    FILTER (REGEX(?pname, \".*[S|s]erie.*\"))\n",
    "} \n",
    "\"\"\"\n",
    "\n",
    "print(\"Results\")\n",
    "run_query(queryString)"
   ]
  },
  {
   "cell_type": "code",
   "execution_count": 8,
   "id": "e8b4b3af-27d9-4f23-aa37-aed7f9607eb5",
   "metadata": {
    "tags": []
   },
   "outputs": [
    {
     "name": "stdout",
     "output_type": "stream",
     "text": [
      "Results\n",
      "[('sname', 'Batman: Arkham'), ('callret-1', 'Batman: Arkham Asylum, Batman: Arkham City, Batman: Arkham Knight, Batman: Arkham Origins, Batman: Arkham Origins Blackgate')]\n",
      "[('sname', 'Batman'), ('callret-1', 'Batman, Batman & Robin, Batman Forever, Batman Returns')]\n",
      "[('sname', 'DC Universe Animated Original Movies'), ('callret-1', 'Batman: Bad Blood')]\n",
      "[('sname', 'The Dark Knight Trilogy'), ('callret-1', 'Batman Begins, The Dark Knight, The Dark Knight Rises')]\n",
      "[('sname', 'Batman in film'), ('callret-1', 'Batman, Batman & Robin, Batman Begins, Batman Forever, Batman Returns, The Dark Knight, The Dark Knight Rises')]\n"
     ]
    },
    {
     "data": {
      "text/plain": [
       "5"
      ]
     },
     "execution_count": 8,
     "metadata": {},
     "output_type": "execute_result"
    }
   ],
   "source": [
    "queryString = \"\"\"\n",
    "SELECT  DISTINCT ?sname (GROUP_CONCAT(DISTINCT ?fname; SEPARATOR=\", \")) \n",
    "WHERE { \n",
    "    wd:Q2695156 wdt:P4969 ?f.\n",
    "    ?f wdt:P179 ?serie.\n",
    "    ?serie sc:name ?sname.\n",
    "    ?f sc:name ?fname .\n",
    "    ?f wdt:P577 ?date . FILTER (?date >= 1982-01-01)\n",
    "}GROUP BY ?sname\n",
    "\"\"\"\n",
    "print(\"Results\")\n",
    "run_query(queryString)"
   ]
  },
  {
   "cell_type": "code",
   "execution_count": null,
   "id": "24d4fe77-1293-422b-9431-8c460e9132d5",
   "metadata": {},
   "outputs": [],
   "source": []
  },
  {
   "cell_type": "code",
   "execution_count": 9,
   "id": "aec744b8-3630-4b51-b69e-290d2dec36a3",
   "metadata": {
    "collapsed": true,
    "jupyter": {
     "outputs_hidden": true
    },
    "tags": []
   },
   "outputs": [
    {
     "name": "stdout",
     "output_type": "stream",
     "text": [
      "Results\n",
      "[('p', 'http://www.wikidata.org/prop/direct/P6359'), ('pname', 'Crew United title ID')]\n",
      "[('p', 'http://www.wikidata.org/prop/direct/P8918'), ('pname', 'Max Movie film ID')]\n",
      "[('p', 'http://www.wikidata.org/prop/direct/P9146'), ('pname', 'CITWF title ID')]\n",
      "[('p', 'http://www.wikidata.org/prop/direct/P6932'), ('pname', 'RogerEbert.com film ID')]\n",
      "[('p', 'http://www.wikidata.org/prop/direct/P9203'), ('pname', 'CineFAN.ro title ID')]\n",
      "[('p', 'http://www.wikidata.org/prop/direct/P9204'), ('pname', 'CinemaRX title ID')]\n",
      "[('p', 'http://www.wikidata.org/prop/direct/P1040'), ('pname', 'film editor')]\n",
      "[('p', 'http://www.wikidata.org/prop/direct/P1237'), ('pname', 'Box Office Mojo film ID (former scheme)')]\n",
      "[('p', 'http://www.wikidata.org/prop/direct/P1258'), ('pname', 'Rotten Tomatoes ID')]\n",
      "[('p', 'http://www.wikidata.org/prop/direct/P1265'), ('pname', 'AlloCiné film ID')]\n",
      "[('p', 'http://www.wikidata.org/prop/direct/P136'), ('pname', 'genre')]\n",
      "[('p', 'http://www.wikidata.org/prop/direct/P1434'), ('pname', 'takes place in fictional universe')]\n",
      "[('p', 'http://www.wikidata.org/prop/direct/P144'), ('pname', 'based on')]\n",
      "[('p', 'http://www.wikidata.org/prop/direct/P1476'), ('pname', 'title')]\n",
      "[('p', 'http://www.wikidata.org/prop/direct/P154'), ('pname', 'logo image')]\n",
      "[('p', 'http://www.wikidata.org/prop/direct/P1562'), ('pname', 'AllMovie title ID')]\n",
      "[('p', 'http://www.wikidata.org/prop/direct/P161'), ('pname', 'cast member')]\n",
      "[('p', 'http://www.wikidata.org/prop/direct/P162'), ('pname', 'producer')]\n",
      "[('p', 'http://www.wikidata.org/prop/direct/P166'), ('pname', 'award received')]\n",
      "[('p', 'http://www.wikidata.org/prop/direct/P1712'), ('pname', 'Metacritic ID')]\n",
      "[('p', 'http://www.wikidata.org/prop/direct/P179'), ('pname', 'part of the series')]\n",
      "[('p', 'http://www.wikidata.org/prop/direct/P1804'), ('pname', 'DNF film ID')]\n",
      "[('p', 'http://www.wikidata.org/prop/direct/P1874'), ('pname', 'Netflix ID')]\n",
      "[('p', 'http://www.wikidata.org/prop/direct/P1970'), ('pname', 'MovieMeter film ID')]\n",
      "[('p', 'http://www.wikidata.org/prop/direct/P1981'), ('pname', 'FSK film rating')]\n",
      "[('p', 'http://www.wikidata.org/prop/direct/P2047'), ('pname', 'duration')]\n",
      "[('p', 'http://www.wikidata.org/prop/direct/P2061'), ('pname', 'aspect ratio')]\n",
      "[('p', 'http://www.wikidata.org/prop/direct/P2130'), ('pname', 'cost')]\n",
      "[('p', 'http://www.wikidata.org/prop/direct/P214'), ('pname', 'VIAF ID')]\n",
      "[('p', 'http://www.wikidata.org/prop/direct/P2142'), ('pname', 'box office')]\n",
      "[('p', 'http://www.wikidata.org/prop/direct/P227'), ('pname', 'GND ID')]\n",
      "[('p', 'http://www.wikidata.org/prop/direct/P2334'), ('pname', 'Swedish Film Database film ID')]\n",
      "[('p', 'http://www.wikidata.org/prop/direct/P2346'), ('pname', 'Elonet movie ID')]\n",
      "[('p', 'http://www.wikidata.org/prop/direct/P244'), ('pname', 'Library of Congress authority ID')]\n",
      "[('p', 'http://www.wikidata.org/prop/direct/P2465'), ('pname', 'Allcinema film ID')]\n",
      "[('p', 'http://www.wikidata.org/prop/direct/P2508'), ('pname', 'KINENOTE film ID')]\n",
      "[('p', 'http://www.wikidata.org/prop/direct/P2509'), ('pname', 'Movie Walker film ID')]\n",
      "[('p', 'http://www.wikidata.org/prop/direct/P2518'), ('pname', 'Scope.dk film ID')]\n",
      "[('p', 'http://www.wikidata.org/prop/direct/P2529'), ('pname', 'ČSFD film ID')]\n",
      "[('p', 'http://www.wikidata.org/prop/direct/P2581'), ('pname', 'BabelNet ID')]\n",
      "[('p', 'http://www.wikidata.org/prop/direct/P2603'), ('pname', 'Kinopoisk film ID')]\n",
      "[('p', 'http://www.wikidata.org/prop/direct/P2631'), ('pname', 'TCM Movie Database film ID')]\n",
      "[('p', 'http://www.wikidata.org/prop/direct/P2638'), ('pname', 'TV.com ID')]\n",
      "[('p', 'http://www.wikidata.org/prop/direct/P268'), ('pname', 'Bibliothèque nationale de France ID')]\n",
      "[('p', 'http://www.wikidata.org/prop/direct/P2703'), ('pname', 'BFI National Archive work ID')]\n",
      "[('p', 'http://www.wikidata.org/prop/direct/P2704'), ('pname', 'EIDR content ID')]\n",
      "[('p', 'http://www.wikidata.org/prop/direct/P272'), ('pname', 'production company')]\n",
      "[('p', 'http://www.wikidata.org/prop/direct/P2747'), ('pname', 'Filmiroda rating')]\n",
      "[('p', 'http://www.wikidata.org/prop/direct/P2755'), ('pname', 'exploitation visa number')]\n",
      "[('p', 'http://www.wikidata.org/prop/direct/P2758'), ('pname', 'CNC film rating (France)')]\n",
      "[('p', 'http://www.wikidata.org/prop/direct/P3077'), ('pname', 'Cineplex Germany film ID')]\n",
      "[('p', 'http://www.wikidata.org/prop/direct/P31'), ('pname', 'instance of')]\n",
      "[('p', 'http://www.wikidata.org/prop/direct/P3107'), ('pname', 'LdiF ID')]\n",
      "[('p', 'http://www.wikidata.org/prop/direct/P3110'), ('pname', 'ISzDb film ID')]\n",
      "[('p', 'http://www.wikidata.org/prop/direct/P3129'), ('pname', 'cine.gr film ID')]\n",
      "[('p', 'http://www.wikidata.org/prop/direct/P3135'), ('pname', 'elCinema film ID')]\n",
      "[('p', 'http://www.wikidata.org/prop/direct/P3138'), ('pname', 'OFDb film ID')]\n",
      "[('p', 'http://www.wikidata.org/prop/direct/P3141'), ('pname', 'EDb film ID')]\n",
      "[('p', 'http://www.wikidata.org/prop/direct/P3143'), ('pname', 'elFilm film ID')]\n",
      "[('p', 'http://www.wikidata.org/prop/direct/P3145'), ('pname', 'Sratim ID')]\n",
      "[('p', 'http://www.wikidata.org/prop/direct/P3203'), ('pname', 'Ciné-Ressources film ID')]\n",
      "[('p', 'http://www.wikidata.org/prop/direct/P3212'), ('pname', 'ISAN')]\n",
      "[('p', 'http://www.wikidata.org/prop/direct/P3302'), ('pname', 'Open Media Database film ID')]\n",
      "[('p', 'http://www.wikidata.org/prop/direct/P3340'), ('pname', 'Kvikmyndir film ID')]\n",
      "[('p', 'http://www.wikidata.org/prop/direct/P3417'), ('pname', 'Quora topic ID')]\n",
      "[('p', 'http://www.wikidata.org/prop/direct/P344'), ('pname', 'director of photography')]\n",
      "[('p', 'http://www.wikidata.org/prop/direct/P345'), ('pname', 'IMDb ID')]\n",
      "[('p', 'http://www.wikidata.org/prop/direct/P3593'), ('pname', 'AFI Catalog of Feature Films ID')]\n",
      "[('p', 'http://www.wikidata.org/prop/direct/P364'), ('pname', 'original language of film or TV show')]\n",
      "[('p', 'http://www.wikidata.org/prop/direct/P373'), ('pname', 'Commons category')]\n",
      "[('p', 'http://www.wikidata.org/prop/direct/P3804'), ('pname', 'TV Guide show ID (former scheme)')]\n",
      "[('p', 'http://www.wikidata.org/prop/direct/P3808'), ('pname', 'The Numbers movie ID')]\n",
      "[('p', 'http://www.wikidata.org/prop/direct/P3844'), ('pname', 'Deutsche Synchronkartei film ID')]\n",
      "[('p', 'http://www.wikidata.org/prop/direct/P3933'), ('pname', 'Cinema.de ID')]\n",
      "[('p', 'http://www.wikidata.org/prop/direct/P4276'), ('pname', 'Cinémathèque québécoise work identifier')]\n",
      "[('p', 'http://www.wikidata.org/prop/direct/P4282'), ('pname', 'LUMIERE film ID')]\n",
      "[('p', 'http://www.wikidata.org/prop/direct/P437'), ('pname', 'distribution format')]\n",
      "[('p', 'http://www.wikidata.org/prop/direct/P4438'), ('pname', 'BFI Films, TV and people ID')]\n",
      "[('p', 'http://www.wikidata.org/prop/direct/P4515'), ('pname', 'Prisma ID')]\n",
      "[('p', 'http://www.wikidata.org/prop/direct/P4529'), ('pname', 'Douban film ID')]\n",
      "[('p', 'http://www.wikidata.org/prop/direct/P462'), ('pname', 'color')]\n",
      "[('p', 'http://www.wikidata.org/prop/direct/P4632'), ('pname', 'Bechdel Test Movie List ID')]\n",
      "[('p', 'http://www.wikidata.org/prop/direct/P4665'), ('pname', 'CineMagia title ID')]\n",
      "[('p', 'http://www.wikidata.org/prop/direct/P4783'), ('pname', 'Movieplayer film ID')]\n",
      "[('p', 'http://www.wikidata.org/prop/direct/P4786'), ('pname', 'cinematografo film ID')]\n",
      "[('p', 'http://www.wikidata.org/prop/direct/P480'), ('pname', 'FilmAffinity ID')]\n",
      "[('p', 'http://www.wikidata.org/prop/direct/P4839'), ('pname', 'Wolfram Language entity code')]\n",
      "[('p', 'http://www.wikidata.org/prop/direct/P4947'), ('pname', 'TMDb movie ID')]\n",
      "[('p', 'http://www.wikidata.org/prop/direct/P495'), ('pname', 'country of origin')]\n",
      "[('p', 'http://www.wikidata.org/prop/direct/P4969'), ('pname', 'derivative work')]\n",
      "[('p', 'http://www.wikidata.org/prop/direct/P5021'), ('pname', 'assessment')]\n",
      "[('p', 'http://www.wikidata.org/prop/direct/P5032'), ('pname', 'Filmweb.pl film ID')]\n",
      "[('p', 'http://www.wikidata.org/prop/direct/P5099'), ('pname', 'Il mondo dei doppiatori ID')]\n",
      "[('p', 'http://www.wikidata.org/prop/direct/P5233'), ('pname', 'Filmow ID')]\n",
      "[('p', 'http://www.wikidata.org/prop/direct/P5253'), ('pname', 'FilmTv.it movie ID')]\n",
      "[('p', 'http://www.wikidata.org/prop/direct/P5357'), ('pname', 'The Encyclopedia of Science Fiction ID')]\n",
      "[('p', 'http://www.wikidata.org/prop/direct/P5693'), ('pname', 'Fandango film ID')]\n",
      "[('p', 'http://www.wikidata.org/prop/direct/P57'), ('pname', 'director')]\n",
      "[('p', 'http://www.wikidata.org/prop/direct/P577'), ('pname', 'publication date')]\n",
      "[('p', 'http://www.wikidata.org/prop/direct/P5786'), ('pname', 'Moviepilot.de film ID')]\n",
      "[('p', 'http://www.wikidata.org/prop/direct/P58'), ('pname', 'screenwriter')]\n",
      "[('p', 'http://www.wikidata.org/prop/direct/P5905'), ('pname', 'Comic Vine ID')]\n",
      "[('p', 'http://www.wikidata.org/prop/direct/P5970'), ('pname', 'Medierådet rating')]\n",
      "[('p', 'http://www.wikidata.org/prop/direct/P6127'), ('pname', 'Letterboxd film ID')]\n",
      "[('p', 'http://www.wikidata.org/prop/direct/P6398'), ('pname', 'iTunes movie ID')]\n",
      "[('p', 'http://www.wikidata.org/prop/direct/P646'), ('pname', 'Freebase ID')]\n",
      "[('p', 'http://www.wikidata.org/prop/direct/P674'), ('pname', 'characters')]\n",
      "[('p', 'http://www.wikidata.org/prop/direct/P6839'), ('pname', 'TV Tropes identifier')]\n",
      "[('p', 'http://www.wikidata.org/prop/direct/P7091'), ('pname', 'Common Sense Media ID')]\n",
      "[('p', 'http://www.wikidata.org/prop/direct/P7299'), ('pname', 'MUBI film ID')]\n",
      "[('p', 'http://www.wikidata.org/prop/direct/P750'), ('pname', 'distributed by')]\n",
      "[('p', 'http://www.wikidata.org/prop/direct/P7970'), ('pname', 'FandangoNow ID')]\n",
      "[('p', 'http://www.wikidata.org/prop/direct/P8013'), ('pname', 'Trakt.tv ID')]\n",
      "[('p', 'http://www.wikidata.org/prop/direct/P8033'), ('pname', 'Movie Review Query Engine ID')]\n",
      "[('p', 'http://www.wikidata.org/prop/direct/P840'), ('pname', 'narrative location')]\n",
      "[('p', 'http://www.wikidata.org/prop/direct/P8411'), ('pname', 'set in environment')]\n",
      "[('p', 'http://www.wikidata.org/prop/direct/P856'), ('pname', 'official website')]\n",
      "[('p', 'http://www.wikidata.org/prop/direct/P86'), ('pname', 'composer')]\n",
      "[('p', 'http://www.wikidata.org/prop/direct/P8796'), ('pname', 'FilmPolski press collection ID')]\n",
      "[('p', 'http://www.wikidata.org/prop/direct/P8847'), ('pname', 'Kinorium movie ID')]\n",
      "[('p', 'http://www.wikidata.org/prop/direct/P905'), ('pname', 'PORT film ID')]\n",
      "[('p', 'http://www.wikidata.org/prop/direct/P915'), ('pname', 'filming location')]\n",
      "[('p', 'http://www.wikidata.org/prop/direct/P9586'), ('pname', 'Apple TV movie ID')]\n",
      "[('p', 'http://www.wikidata.org/prop/direct/P1431'), ('pname', 'executive producer')]\n",
      "[('p', 'http://www.wikidata.org/prop/direct/P1877'), ('pname', 'after a work by')]\n",
      "[('p', 'http://www.wikidata.org/prop/direct/P4277'), ('pname', 'Daum movie ID')]\n",
      "[('p', 'http://www.wikidata.org/prop/direct/P5990'), ('pname', 'Movies Anywhere ID')]\n",
      "[('p', 'http://www.wikidata.org/prop/direct/P6133'), ('pname', 'Siamzone film ID')]\n",
      "[('p', 'http://www.wikidata.org/prop/direct/P7975'), ('pname', 'Filmfront film ID')]\n",
      "[('p', 'http://www.wikidata.org/prop/direct/P7118'), ('pname', 'AMPAS collections film ID')]\n",
      "[('p', 'http://www.wikidata.org/prop/direct/P7978'), ('pname', 'Decine21 film ID')]\n",
      "[('p', 'http://www.wikidata.org/prop/direct/P8055'), ('pname', 'Amazon.com Prime Video ID')]\n",
      "[('p', 'http://www.wikidata.org/prop/direct/P5865'), ('pname', 'IGN film ID')]\n",
      "[('p', 'http://www.wikidata.org/prop/direct/P6383'), ('pname', 'TV Spielfilm film ID')]\n",
      "[('p', 'http://www.wikidata.org/prop/direct/P6458'), ('pname', 'Mtime movie ID')]\n",
      "[('p', 'http://www.wikidata.org/prop/direct/P9205'), ('pname', 'Sinemalar title ID')]\n"
     ]
    },
    {
     "data": {
      "text/plain": [
       "136"
      ]
     },
     "execution_count": 9,
     "metadata": {},
     "output_type": "execute_result"
    }
   ],
   "source": [
    "queryString = \"\"\"\n",
    "SELECT DISTINCT ?p ?pname\n",
    "WHERE { \n",
    "    wd:Q276523 ?p ?o.\n",
    "    ?p sc:name ?pname .\n",
    "} \n",
    "\"\"\"\n",
    "print(\"Results\")\n",
    "run_query(queryString)"
   ]
  },
  {
   "cell_type": "code",
   "execution_count": 10,
   "id": "93af4b42-2df4-4f58-b709-535c1f9bd129",
   "metadata": {},
   "outputs": [
    {
     "name": "stdout",
     "output_type": "stream",
     "text": [
      "Results\n",
      "[('sname', 'Batman: Arkham'), ('callret-1', 'Batman: Arkham Asylum, Batman: Arkham City, Batman: Arkham Knight, Batman: Arkham Origins, Batman: Arkham Origins Blackgate'), ('callret-3', '0')]\n",
      "[('sname', 'Batman'), ('callret-1', 'Batman, Batman & Robin, Batman Forever, Batman Returns'), ('callret-2', '40188'), ('callret-3', '324'), ('callret-4', '23885000000')]\n",
      "[('sname', 'DC Universe Animated Original Movies'), ('callret-1', 'Batman: Bad Blood'), ('callret-2', '144'), ('callret-3', '0')]\n",
      "[('sname', 'The Dark Knight Trilogy'), ('callret-1', 'Batman Begins, The Dark Knight, The Dark Knight Rises'), ('callret-2', '55716'), ('callret-3', '362'), ('callret-4', '73060000000')]\n",
      "[('sname', 'Batman in film'), ('callret-1', 'Batman, Batman & Robin, Batman Begins, Batman Forever, Batman Returns, The Dark Knight, The Dark Knight Rises'), ('callret-2', '95904'), ('callret-3', '686'), ('callret-4', '96945000000')]\n"
     ]
    },
    {
     "data": {
      "text/plain": [
       "5"
      ]
     },
     "execution_count": 10,
     "metadata": {},
     "output_type": "execute_result"
    }
   ],
   "source": [
    "queryString = \"\"\"\n",
    "SELECT  DISTINCT ?sname (GROUP_CONCAT(DISTINCT ?fname; SEPARATOR=\", \")) \n",
    "                        (SUM(?duration))\n",
    "                        (COUNT(?actors))\n",
    "                        (SUM(?cost))\n",
    "WHERE { \n",
    "    wd:Q2695156 wdt:P4969 ?f.\n",
    "    ?f wdt:P179 ?serie.\n",
    "    ?serie sc:name ?sname.\n",
    "    ?f sc:name ?fname .\n",
    "    ?f wdt:P577 ?date . FILTER (?date >= 1982-01-01)\n",
    "    OPTIONAL{?f wdt:P2047 ?duration.}\n",
    "    OPTIONAL{?f wdt:P161 ?actors.}\n",
    "    OPTIONAL{?f wdt:P2130 ?cost.}\n",
    "}GROUP BY ?sname\n",
    "\"\"\"\n",
    "print(\"Results\")\n",
    "run_query(queryString)"
   ]
  },
  {
   "cell_type": "markdown",
   "id": "1a4139d5-8c44-454c-88fe-70b257049d4d",
   "metadata": {
    "tags": []
   },
   "source": [
    "### Task 3. Investigate what are the workers (writers, actors, etc.) who had a role in more Batman movies so far."
   ]
  },
  {
   "cell_type": "code",
   "execution_count": 24,
   "id": "fb5cf2d2-d5b2-453b-8d8c-a79535f8358e",
   "metadata": {},
   "outputs": [
    {
     "name": "stdout",
     "output_type": "stream",
     "text": [
      "Results\n",
      "[('bname', 'Christopher Nolan'), ('callret-1', '9')]\n",
      "[('bname', 'Benjamin Melniker'), ('callret-1', '7')]\n",
      "[('bname', 'Bob Kane'), ('callret-1', '6')]\n",
      "[('bname', 'Hans Zimmer'), ('callret-1', '6')]\n",
      "[('bname', 'Tim Burton'), ('callret-1', '5')]\n",
      "[('bname', 'Pat Hingle'), ('callret-1', '4')]\n",
      "[('bname', 'Michael Gough'), ('callret-1', '4')]\n",
      "[('bname', 'Bill Finger'), ('callret-1', '4')]\n",
      "[('bname', 'Morgan Freeman'), ('callret-1', '3')]\n",
      "[('bname', 'Cillian Murphy'), ('callret-1', '3')]\n"
     ]
    },
    {
     "data": {
      "text/plain": [
       "10"
      ]
     },
     "execution_count": 24,
     "metadata": {},
     "output_type": "execute_result"
    }
   ],
   "source": [
    "queryString = \"\"\"\n",
    "SELECT ?bname count(?b)\n",
    "WHERE { \n",
    "    wd:Q2695156 wdt:P4969 ?derivw .\n",
    "    ?derivw wdt:P31 ?p.\n",
    "    ?p sc:name ?pname. FILTER(REGEX(?pname, \"^film$\", \"i\"))\n",
    "    ?derivw sc:name ?dwname.\n",
    "    ?derivw ?a ?b.\n",
    "    ?b wdt:P31 wd:Q5.\n",
    "    ?b sc:name ?bname\n",
    "}GROUP BY ?bname\n",
    "ORDER BY DESC (count(?b))\n",
    "LIMIT 10\n",
    "\"\"\"\n",
    "print(\"Results\")\n",
    "run_query(queryString)"
   ]
  },
  {
   "cell_type": "markdown",
   "id": "59266fbe-3703-4f52-a34f-7db935993b7c",
   "metadata": {
    "tags": []
   },
   "source": [
    "### Task 4. Compare the ratings of the single movies and of the series. Indentify the movie with highest rating from the critics and the \"best\" series overall"
   ]
  },
  {
   "cell_type": "code",
   "execution_count": 27,
   "id": "67e42245-018b-47f3-b08f-1127ee4a7531",
   "metadata": {},
   "outputs": [
    {
     "name": "stdout",
     "output_type": "stream",
     "text": [
      "Results\n",
      "[('pname', 'comics character')]\n",
      "[('pname', 'extraterrestrials in fiction')]\n",
      "[('pname', 'video game character')]\n",
      "[('pname', 'fictional character')]\n",
      "[('pname', 'film')]\n",
      "[('pname', 'fictional human')]\n",
      "[('pname', 'animated character')]\n",
      "[('pname', 'television character')]\n",
      "[('pname', 'television series')]\n",
      "[('pname', 'animated series')]\n",
      "[('pname', 'video game')]\n",
      "[('pname', 'superhero film character')]\n",
      "[('pname', 'fictional detective')]\n",
      "[('pname', 'film project')]\n"
     ]
    },
    {
     "data": {
      "text/plain": [
       "14"
      ]
     },
     "execution_count": 27,
     "metadata": {},
     "output_type": "execute_result"
    }
   ],
   "source": [
    "queryString = \"\"\"\n",
    "SELECT DISTINCT ?pname\n",
    "WHERE { \n",
    "    wd:Q2695156 wdt:P4969 ?derivw .\n",
    "    ?derivw wdt:P31 ?p.\n",
    "    ?p sc:name ?pname.\n",
    "}\n",
    "\"\"\"\n",
    "print(\"Results\")\n",
    "run_query(queryString)"
   ]
  },
  {
   "cell_type": "code",
   "execution_count": 32,
   "id": "52b2aaf3-c686-469d-bd57-23e4984318de",
   "metadata": {},
   "outputs": [
    {
     "name": "stdout",
     "output_type": "stream",
     "text": [
      "Results\n",
      "[('a', 'http://www.wikidata.org/prop/direct/P1657'), ('aname', 'MPAA film rating')]\n",
      "[('a', 'http://www.wikidata.org/prop/direct/P1981'), ('aname', 'FSK film rating')]\n",
      "[('a', 'http://www.wikidata.org/prop/direct/P2363'), ('aname', 'NMHH film rating')]\n",
      "[('a', 'http://www.wikidata.org/prop/direct/P2629'), ('aname', 'BBFC rating')]\n",
      "[('a', 'http://www.wikidata.org/prop/direct/P2747'), ('aname', 'Filmiroda rating')]\n",
      "[('a', 'http://www.wikidata.org/prop/direct/P2758'), ('aname', 'CNC film rating (France)')]\n",
      "[('a', 'http://www.wikidata.org/prop/direct/P3306'), ('aname', 'ICAA rating')]\n",
      "[('a', 'http://www.wikidata.org/prop/direct/P3402'), ('aname', 'CNC film rating (Romania)')]\n",
      "[('a', 'http://www.wikidata.org/prop/direct/P3650'), ('aname', 'JMK film rating')]\n",
      "[('a', 'http://www.wikidata.org/prop/direct/P3834'), ('aname', 'RTC film rating')]\n",
      "[('a', 'http://www.wikidata.org/prop/direct/P5970'), ('aname', 'Medierådet rating')]\n",
      "[('a', 'http://www.wikidata.org/prop/direct/P2756'), ('aname', 'EIRIN film rating')]\n",
      "[('a', 'http://www.wikidata.org/prop/direct/P3818'), ('aname', 'KMRB film rating')]\n",
      "[('a', 'http://www.wikidata.org/prop/direct/P3216'), ('aname', 'ClassInd rating')]\n"
     ]
    },
    {
     "data": {
      "text/plain": [
       "14"
      ]
     },
     "execution_count": 32,
     "metadata": {},
     "output_type": "execute_result"
    }
   ],
   "source": [
    "queryString = \"\"\"\n",
    "SELECT DISTINCT ?a ?aname\n",
    "WHERE { \n",
    "    wd:Q2695156 wdt:P4969 ?derivw .\n",
    "    ?derivw wdt:P31 ?p.\n",
    "    ?p sc:name ?pname. FILTER(REGEX(?pname, \"^film$\", \"i\"))\n",
    "    ?derivw sc:name ?dwname.\n",
    "    ?derivw ?a ?b.\n",
    "    ?a sc:name ?aname.\n",
    "    FILTER(REGEX(?aname, \".*rating.*\", \"i\"))\n",
    "}\n",
    "\"\"\"\n",
    "print(\"Results\")\n",
    "run_query(queryString)"
   ]
  },
  {
   "cell_type": "code",
   "execution_count": 37,
   "id": "46aa8564-f8d2-4950-be99-8976eaef9432",
   "metadata": {},
   "outputs": [
    {
     "name": "stdout",
     "output_type": "stream",
     "text": [
      "Results\n",
      "[('dwname', 'Batman Forever'), ('callret-1', 'iri_id_0_with_no_name_entry')]\n",
      "[('dwname', 'The Dark Knight Rises'), ('callret-1', 'iri_id_0_with_no_name_entry')]\n",
      "[('dwname', 'The Dark Knight'), ('callret-1', 'iri_id_0_with_no_name_entry')]\n"
     ]
    },
    {
     "data": {
      "text/plain": [
       "3"
      ]
     },
     "execution_count": 37,
     "metadata": {},
     "output_type": "execute_result"
    }
   ],
   "source": [
    "queryString = \"\"\"\n",
    "SELECT ?dwname SUM(?rating)\n",
    "WHERE { \n",
    "    wd:Q2695156 wdt:P4969 ?derivw .\n",
    "    ?derivw wdt:P31 ?p.\n",
    "    ?p sc:name ?pname. FILTER(REGEX(?pname, \"^film$\", \"i\"))\n",
    "    ?derivw sc:name ?dwname.\n",
    "    ?derivw wdt:P1657 ?rating.\n",
    "} GROUP BY ?dwname\n",
    "\"\"\"\n",
    "print(\"Results\")\n",
    "run_query(queryString)"
   ]
  },
  {
   "cell_type": "code",
   "execution_count": null,
   "id": "52ae674c-5db4-4fa9-a3b9-f1dba94a4d28",
   "metadata": {},
   "outputs": [],
   "source": []
  }
 ],
 "metadata": {
  "kernelspec": {
   "display_name": "Python 3",
   "language": "python",
   "name": "python3"
  },
  "language_info": {
   "codemirror_mode": {
    "name": "ipython",
    "version": 3
   },
   "file_extension": ".py",
   "mimetype": "text/x-python",
   "name": "python",
   "nbconvert_exporter": "python",
   "pygments_lexer": "ipython3",
   "version": "3.7.10"
  }
 },
 "nbformat": 4,
 "nbformat_minor": 5
}
