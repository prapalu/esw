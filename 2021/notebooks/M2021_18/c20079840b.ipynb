{
 "cells": [
  {
   "cell_type": "markdown",
   "id": "7034c3bf-6eb0-4418-8687-7b9d2a501103",
   "metadata": {
    "tags": []
   },
   "source": [
    "# General instructions\n",
    "\n",
    "The goal of the project is to materialize a set of **exploratory workloads** over a real-world, large-scale,  open-domain KG: [WikiData](https://www.wikidata.org/wiki/Wikidata:Main_Page)\n",
    "\n",
    "An exploratory workload  is composed by a set of queries, where each query is related to the information obtained previously.\n",
    "\n",
    "An exploratory workload starts with a usually vague, open ended question, and does not assume the person issuing the workload has a clear understanding of the data contained in the target database or its structure.\n",
    "\n",
    "Remeber that:\n",
    "\n",
    "1. All the queries must run in the python notebook\n",
    "2. You can use classes and properties only if you find them via a SPARQL query that must be present in the notebook\n",
    "3. You do not delete useless queries. Keep everything that is synthatically valid \n",
    "\n",
    "```\n",
    "?p <http://schema.org/name> ?name .\n",
    "```\n",
    "    \n",
    "is the BGP returning a human-readable name of a property or a class in Wikidata.\n",
    "    \n",
    "    "
   ]
  },
  {
   "cell_type": "code",
   "execution_count": 1,
   "id": "3605c9d5-5371-49a5-be8d-d66e8f417139",
   "metadata": {},
   "outputs": [],
   "source": [
    "## SETUP used later\n",
    "\n",
    "from SPARQLWrapper import SPARQLWrapper, JSON\n",
    "\n",
    "\n",
    "prefixString = \"\"\"\n",
    "##-NOTEBOOK_CODE_HERE-##\n",
    "PREFIX wd: <http://www.wikidata.org/entity/> \n",
    "PREFIX wdt: <http://www.wikidata.org/prop/direct/> \n",
    "PREFIX sc: <http://schema.org/>\n",
    "\"\"\"\n",
    "\n",
    "# select and construct queries\n",
    "def run_query(queryString):\n",
    "    to_run = prefixString + \"\\n\" + queryString\n",
    "\n",
    "    sparql = SPARQLWrapper(\"http://a256-gc1-02.srv.aau.dk:5820/sparql\")\n",
    "    sparql.setTimeout(300)\n",
    "    sparql.setReturnFormat(JSON)\n",
    "    sparql.setQuery(to_run)\n",
    "\n",
    "    try :\n",
    "       results = sparql.query()\n",
    "       json_results = results.convert()\n",
    "       if len(json_results['results']['bindings'])==0:\n",
    "          print(\"Empty\")\n",
    "          return 0\n",
    "    \n",
    "       for bindings in json_results['results']['bindings']:\n",
    "          print( [ (var, value['value'])  for var, value in bindings.items() ] )\n",
    "\n",
    "       return len(json_results['results']['bindings'])\n",
    "\n",
    "    except Exception as e :\n",
    "        print(\"The operation failed\", e)\n",
    "    \n",
    "# ASk queries\n",
    "def run_ask_query(queryString):\n",
    "    to_run = prefixString + \"\\n\" + queryString\n",
    "\n",
    "    sparql = SPARQLWrapper(\"http://a256-gc1-03.srv.aau.dk:5820/sparql\")\n",
    "    sparql.setTimeout(300)\n",
    "    sparql.setReturnFormat(JSON)\n",
    "    sparql.setQuery(to_run)\n",
    "\n",
    "    try :\n",
    "        return sparql.query().convert()\n",
    "\n",
    "    except Exception as e :\n",
    "        print(\"The operation failed\", e)\n"
   ]
  },
  {
   "cell_type": "markdown",
   "id": "d477a59c-a68c-4c8f-9f97-8ca5294d7d27",
   "metadata": {},
   "source": [
    "# GEO Workflow Series (\"European Cathedrals\") \n",
    "\n",
    "Consider the following exploratory information need:\n",
    "\n",
    "> Explore how many cathedrals exists in the U.K., Italy, and France and the information about them"
   ]
  },
  {
   "cell_type": "markdown",
   "id": "4a45c0ba-f79e-441d-bec5-84401b09db70",
   "metadata": {},
   "source": [
    "## Useful URIs for the current workflow\n",
    "\n",
    "\n",
    "The following are given:\n",
    "\n",
    "| IRI           | Description   | Role      |\n",
    "| -----------   | -----------   |-----------|\n",
    "| `wdt:P1647`   | subproperty   | predicate |\n",
    "| `wdt:P31`     | instance of   | predicate |\n",
    "| `wdt:P279`    | subclass      | predicate |\n",
    "| `wdt:P106`    | occupation    | predicate |\n",
    "| `wdt:P17`     | country   | predicate |\n",
    "| `wd:Q2977`    | Cathedral     | node      |\n",
    "| `wd:Q29265`   | Canterbury Cathedral   | node |\n",
    "| `wd:Q38`      | Italy         | node |\n",
    "| `wd:Q142`     | France        | node |\n",
    "| `wd:Q145`     | U.K.          | node |\n",
    "| `wd:Q46261`   | Romanesque architecture | node |\n",
    "\n",
    "\n",
    "Also consider\n",
    "\n",
    "```\n",
    "?p wdt:P17 wd:Q142  . \n",
    "?p wdt:P31 wd:Q2977  . \n",
    "```\n",
    "\n",
    "is the BGP to retrieve all **French cathedrals**"
   ]
  },
  {
   "cell_type": "markdown",
   "id": "7af439fb-96e4-4dbb-a381-f19afab79f86",
   "metadata": {
    "tags": []
   },
   "source": [
    "## Workload Goals\n",
    "\n",
    "1. Identify the BGP to obtain relevant attributes of a cathedral, e.g., the inception or the height\n",
    "\n",
    "2. Identify the BGP that connect each cathedreal to other relevant entities, e.g., architectural style and city\n",
    "\n",
    "3. Which country hosts the largest number of cathedrals?\n",
    "\n",
    "4. Analyze cathedrals across architectural styles in each city\n",
    " \n",
    "   4.1 Which styles exists in each country, and how many cathedrals for each one?\n",
    "   \n",
    "   4.2 where is the largest cathedral, or the oldest?\n",
    "   \n",
    "   4.3 If you had to pick a city or a country to visit some cathedrals? Which one would you choose?  Based on what criteria?\n"
   ]
  },
  {
   "cell_type": "code",
   "execution_count": 2,
   "id": "24a853ab-830c-422c-afd3-e9e015b8b8ed",
   "metadata": {},
   "outputs": [],
   "source": [
    "# start your workflow here"
   ]
  },
  {
   "cell_type": "code",
   "execution_count": 3,
   "id": "ade01416-92e7-4ad7-b9a9-b8fb330750dc",
   "metadata": {},
   "outputs": [
    {
     "name": "stdout",
     "output_type": "stream",
     "text": [
      "Results\n",
      "[('callret-0', '87')]\n"
     ]
    },
    {
     "data": {
      "text/plain": [
       "1"
      ]
     },
     "execution_count": 3,
     "metadata": {},
     "output_type": "execute_result"
    }
   ],
   "source": [
    "queryString = \"\"\"\n",
    "SELECT COUNT(*)\n",
    "WHERE { \n",
    "\n",
    "?p wdt:P17 wd:Q142  . \n",
    "?p wdt:P31 wd:Q2977  . \n",
    "\n",
    "} \n",
    "\"\"\"\n",
    "\n",
    "print(\"Results\")\n",
    "run_query(queryString)"
   ]
  },
  {
   "cell_type": "markdown",
   "id": "2f223187-3199-464d-ac11-2cc90f9dad2d",
   "metadata": {},
   "source": [
    "### 1. Identify the BGP to obtain relevant attributes of a cathedral, e.g., the inception or the height"
   ]
  },
  {
   "cell_type": "code",
   "execution_count": 4,
   "id": "913b5446-034e-4560-ab7b-6ff5e1fa99f9",
   "metadata": {},
   "outputs": [
    {
     "name": "stdout",
     "output_type": "stream",
     "text": [
      "Results\n",
      "[('p', 'http://www.wikidata.org/prop/direct/P571'), ('pname', 'inception')]\n",
      "[('p', 'http://www.wikidata.org/prop/direct/P2048'), ('pname', 'height')]\n"
     ]
    },
    {
     "data": {
      "text/plain": [
       "2"
      ]
     },
     "execution_count": 4,
     "metadata": {},
     "output_type": "execute_result"
    }
   ],
   "source": [
    "queryString = \"\"\"\n",
    "SELECT DISTINCT ?p ?pname\n",
    "WHERE {\n",
    "    ?c wdt:P31 wd:Q2977 ;\n",
    "        ?p ?o . FILTER(isLiteral(?o))\n",
    "    ?p sc:name ?pname .\n",
    "    FILTER(REGEX(?pname, \".*[H|h]eight.*\") || REGEX(?pname, \".*[I|i]nception.*\"))\n",
    "}\n",
    "   \n",
    "\"\"\"\n",
    "\n",
    "print(\"Results\")\n",
    "run_query(queryString)"
   ]
  },
  {
   "cell_type": "markdown",
   "id": "3451e187-4234-463a-8933-19a184699985",
   "metadata": {},
   "source": [
    "### 2. Identify the BGP that connect each cathedreal to other relevant entities, e.g., architectural style and city"
   ]
  },
  {
   "cell_type": "code",
   "execution_count": 5,
   "id": "9117ce5d-7a34-43ca-93c2-84c075a72710",
   "metadata": {},
   "outputs": [
    {
     "name": "stdout",
     "output_type": "stream",
     "text": [
      "Results\n",
      "[('p', 'http://www.wikidata.org/prop/direct/P1626'), ('pname', 'Thai cultural heritage ID')]\n",
      "[('p', 'http://www.wikidata.org/prop/direct/P5611'), ('pname', 'BeWeb church ID')]\n",
      "[('p', 'http://www.wikidata.org/prop/direct/P3449'), ('pname', 'NSW Heritage database ID')]\n",
      "[('p', 'http://www.wikidata.org/prop/direct/P3941'), ('pname', 'Israel Antiquities Authority ID')]\n",
      "[('p', 'http://www.wikidata.org/prop/direct/P2526'), ('pname', 'National Historic Sites of Canada ID')]\n",
      "[('p', 'http://www.wikidata.org/prop/direct/P6776'), ('pname', 'IMTL.org ID')]\n",
      "[('p', 'http://www.wikidata.org/prop/direct/P1453'), ('pname', 'catholic.ru ID')]\n",
      "[('p', 'http://www.wikidata.org/prop/direct/P3371'), ('pname', 'Observatoire du Patrimoine Religieux ID')]\n",
      "[('p', 'http://www.wikidata.org/prop/direct/P9637'), ('pname', 'Erfgoedkaart ID')]\n",
      "[('p', 'http://www.wikidata.org/prop/direct/P1004'), ('pname', 'MusicBrainz place ID')]\n"
     ]
    },
    {
     "data": {
      "text/plain": [
       "10"
      ]
     },
     "execution_count": 5,
     "metadata": {},
     "output_type": "execute_result"
    }
   ],
   "source": [
    "queryString = \"\"\"\n",
    "SELECT DISTINCT ?p ?pname\n",
    "WHERE {\n",
    "    ?c wdt:P31 wd:Q2977;\n",
    "        ?p ?o . FILTER(isLiteral(?o))\n",
    "    ?p sc:name ?pname .\n",
    "    FILTER(REGEX(?pname, \".*ID.*\"))\n",
    "}\n",
    "LIMIT 10\n",
    "\"\"\"\n",
    "\n",
    "print(\"Results\")\n",
    "run_query(queryString)"
   ]
  },
  {
   "cell_type": "code",
   "execution_count": 6,
   "id": "d914b0a5-44af-4bb1-9355-3800ae7fa789",
   "metadata": {},
   "outputs": [
    {
     "name": "stdout",
     "output_type": "stream",
     "text": [
      "Results\n",
      "[('p', 'http://www.wikidata.org/prop/direct/P149'), ('pname', 'architectural style')]\n"
     ]
    },
    {
     "data": {
      "text/plain": [
       "1"
      ]
     },
     "execution_count": 6,
     "metadata": {},
     "output_type": "execute_result"
    }
   ],
   "source": [
    "queryString = \"\"\"\n",
    "SELECT DISTINCT ?p ?pname\n",
    "WHERE {\n",
    "    ?c wdt:P31 wd:Q2977;\n",
    "        ?p ?o . FILTER(!isLiteral(?o))\n",
    "    ?p sc:name ?pname .\n",
    "    FILTER(REGEX(?pname, \".*[S|s]tyle.*\"))\n",
    "}\n",
    "   \n",
    "\"\"\"\n",
    "\n",
    "print(\"Results\")\n",
    "run_query(queryString)"
   ]
  },
  {
   "cell_type": "code",
   "execution_count": 7,
   "id": "e26f7f14-624f-4501-aacd-977a56cfae90",
   "metadata": {},
   "outputs": [
    {
     "name": "stdout",
     "output_type": "stream",
     "text": [
      "Results\n",
      "[('p', 'http://www.wikidata.org/prop/direct/P131'), ('pname', 'located in the administrative territorial entity')]\n",
      "[('p', 'http://www.wikidata.org/prop/direct/P242'), ('pname', 'locator map image')]\n",
      "[('p', 'http://www.wikidata.org/prop/direct/P276'), ('pname', 'location')]\n",
      "[('p', 'http://www.wikidata.org/prop/direct/P5607'), ('pname', 'located in the ecclesiastical territorial entity')]\n",
      "[('p', 'http://www.wikidata.org/prop/direct/P669'), ('pname', 'located on street')]\n",
      "[('p', 'http://www.wikidata.org/prop/direct/P1943'), ('pname', 'location map')]\n",
      "[('p', 'http://www.wikidata.org/prop/direct/P421'), ('pname', 'located in time zone')]\n",
      "[('p', 'http://www.wikidata.org/prop/direct/P706'), ('pname', 'located in/on physical feature')]\n",
      "[('p', 'http://www.wikidata.org/prop/direct/P159'), ('pname', 'headquarters location')]\n"
     ]
    },
    {
     "data": {
      "text/plain": [
       "9"
      ]
     },
     "execution_count": 7,
     "metadata": {},
     "output_type": "execute_result"
    }
   ],
   "source": [
    "queryString = \"\"\"\n",
    "SELECT DISTINCT ?p ?pname\n",
    "WHERE {\n",
    "    ?c wdt:P31 wd:Q2977;\n",
    "        ?p ?o . FILTER(!isLiteral(?o))\n",
    "    ?p sc:name ?pname .\n",
    "    FILTER(REGEX(?pname, \".*[L|l]oc.*|.*[C|c]ity.*\"))\n",
    "}\n",
    "   \n",
    "\"\"\"\n",
    "\n",
    "print(\"Results\")\n",
    "run_query(queryString)"
   ]
  },
  {
   "cell_type": "markdown",
   "id": "c8194282-fa4f-4446-911b-4bbb80ea0a5f",
   "metadata": {},
   "source": [
    "### 3. Which country hosts the largest number of cathedrals?"
   ]
  },
  {
   "cell_type": "code",
   "execution_count": 8,
   "id": "aa43874e-1be3-4cec-94e6-e3ad9c1b1b9f",
   "metadata": {},
   "outputs": [
    {
     "name": "stdout",
     "output_type": "stream",
     "text": [
      "Results\n",
      "[('callret-0', '293'), ('country', 'Italy')]\n"
     ]
    },
    {
     "data": {
      "text/plain": [
       "1"
      ]
     },
     "execution_count": 8,
     "metadata": {},
     "output_type": "execute_result"
    }
   ],
   "source": [
    "queryString = \"\"\"\n",
    "SELECT COUNT(*) ?country\n",
    "WHERE {\n",
    "    ?p wdt:P31 wd:Q2977.\n",
    "    ?p wdt:P17 ?c.\n",
    "    ?c sc:name ?country\n",
    "}\n",
    "GROUP BY ?country\n",
    "ORDER BY DESC (COUNT(*))\n",
    "LIMIT 1\n",
    "\"\"\"\n",
    "print(\"Results\")\n",
    "run_query(queryString)"
   ]
  },
  {
   "cell_type": "markdown",
   "id": "9c57b1c2-ad3d-4ec2-b7a8-e3d856e67517",
   "metadata": {},
   "source": [
    "### 4.1 Which styles exists in each country, and how many cathedrals for each one?\n",
    "I will use architertural style obtained in 1. P149"
   ]
  },
  {
   "cell_type": "code",
   "execution_count": 9,
   "id": "97976621-fb3e-4003-83f0-c9b5076696eb",
   "metadata": {},
   "outputs": [
    {
     "name": "stdout",
     "output_type": "stream",
     "text": [
      "Results\n",
      "[('country', 'Albania'), ('arch', 'Byzantine Revival architecture'), ('callret-2', '1')]\n",
      "[('country', 'Albania'), ('arch', 'Romanesque Revival architecture'), ('callret-2', '1')]\n",
      "[('country', 'Albania'), ('arch', 'Byzantine art'), ('callret-2', '1')]\n",
      "[('country', 'Algeria'), ('arch', 'Islamic architecture'), ('callret-2', '1')]\n",
      "[('country', 'Angola'), ('arch', 'modern architecture'), ('callret-2', '1')]\n",
      "[('country', 'Angola'), ('arch', 'Neoclassical architecture'), ('callret-2', '1')]\n",
      "[('country', 'Angola'), ('arch', 'Gothic Revival'), ('callret-2', '1')]\n",
      "[('country', 'Argentina'), ('arch', 'Neoclassical architecture'), ('callret-2', '2')]\n",
      "[('country', 'Argentina'), ('arch', 'Gothic Revival'), ('callret-2', '7')]\n",
      "[('country', 'Argentina'), ('arch', 'Gothic architecture'), ('callret-2', '1')]\n",
      "[('country', 'Argentina'), ('arch', 'neoclassicism'), ('callret-2', '1')]\n",
      "[('country', 'Argentina'), ('arch', 'Baroque Revival architecture'), ('callret-2', '1')]\n",
      "[('country', 'Argentina'), ('arch', 'baroque architecture'), ('callret-2', '1')]\n",
      "[('country', 'Argentina'), ('arch', 'modern architecture'), ('callret-2', '1')]\n",
      "[('country', 'Argentina'), ('arch', 'Italianate architecture'), ('callret-2', '1')]\n",
      "[('country', 'Argentina'), ('arch', 'eclectic architecture'), ('callret-2', '4')]\n",
      "[('country', 'Argentina'), ('arch', 'eclecticism'), ('callret-2', '1')]\n",
      "[('country', 'Armenia'), ('arch', 'Armenian architecture'), ('callret-2', '7')]\n",
      "[('country', 'Australia'), ('arch', 'Gothic Revival'), ('callret-2', '10')]\n",
      "[('country', 'Australia'), ('arch', 'Renaissance architecture'), ('callret-2', '1')]\n",
      "[('country', 'Austria'), ('arch', 'Gothic Revival'), ('callret-2', '1')]\n",
      "[('country', 'Austria'), ('arch', 'Romanesque architecture'), ('callret-2', '3')]\n",
      "[('country', 'Austria'), ('arch', 'baroque architecture'), ('callret-2', '3')]\n",
      "[('country', 'Austria'), ('arch', 'Gothic architecture'), ('callret-2', '4')]\n",
      "[('country', 'Azerbaijan'), ('arch', 'Armenian architecture'), ('callret-2', '1')]\n",
      "[('country', 'Belarus'), ('arch', 'classicism'), ('callret-2', '1')]\n",
      "[('country', 'Belarus'), ('arch', 'Neoclassical architecture'), ('callret-2', '1')]\n",
      "[('country', 'Belarus'), ('arch', 'Baroque'), ('callret-2', '1')]\n",
      "[('country', 'Belarus'), ('arch', 'Romanesque Revival architecture'), ('callret-2', '1')]\n",
      "[('country', 'Belarus'), ('arch', 'Viĺnia Baroque'), ('callret-2', '1')]\n",
      "[('country', 'Belarus'), ('arch', 'baroque architecture'), ('callret-2', '3')]\n",
      "[('country', 'Belarus'), ('arch', 'Architectural school of Polack'), ('callret-2', '1')]\n",
      "[('country', 'Belgium'), ('arch', 'baroque architecture'), ('callret-2', '1')]\n",
      "[('country', 'Belgium'), ('arch', 'Gothic art'), ('callret-2', '2')]\n",
      "[('country', 'Belgium'), ('arch', 'Gothic architecture'), ('callret-2', '5')]\n",
      "[('country', 'Belgium'), ('arch', 'Brabantine Gothic'), ('callret-2', '2')]\n",
      "[('country', 'Belgium'), ('arch', 'Romanesque architecture'), ('callret-2', '2')]\n",
      "[('country', 'Benin'), ('arch', 'Gothic Revival'), ('callret-2', '1')]\n",
      "[('country', 'Bolivia'), ('arch', 'Renaissance architecture'), ('callret-2', '1')]\n",
      "[('country', 'Bolivia'), ('arch', 'null'), ('callret-2', '1')]\n",
      "[('country', 'Bolivia'), ('arch', 'eclecticism'), ('callret-2', '1')]\n",
      "[('country', 'Bosnia and Herzegovina'), ('arch', 'Gothic Revival'), ('callret-2', '1')]\n",
      "[('country', 'Bosnia and Herzegovina'), ('arch', 'modern architecture'), ('callret-2', '1')]\n",
      "[('country', 'Bosnia and Herzegovina'), ('arch', 'eclectic architecture'), ('callret-2', '1')]\n",
      "[('country', 'Bosnia and Herzegovina'), ('arch', 'Byzantine Revival architecture'), ('callret-2', '1')]\n",
      "[('country', 'Bosnia and Herzegovina'), ('arch', 'Baroque Revival architecture'), ('callret-2', '1')]\n",
      "[('country', 'Brazil'), ('arch', 'Romanesque art'), ('callret-2', '2')]\n",
      "[('country', 'Brazil'), ('arch', 'Gothic Revival'), ('callret-2', '3')]\n",
      "[('country', 'Brazil'), ('arch', 'modern architecture'), ('callret-2', '3')]\n",
      "[('country', 'Brazil'), ('arch', 'Baroque'), ('callret-2', '2')]\n",
      "[('country', 'Brazil'), ('arch', 'baroque architecture'), ('callret-2', '1')]\n",
      "[('country', 'Brazil'), ('arch', 'neoclassicism'), ('callret-2', '1')]\n",
      "[('country', 'Brazil'), ('arch', 'Neoclassical architecture'), ('callret-2', '1')]\n",
      "[('country', 'Brazil'), ('arch', 'eclectic architecture'), ('callret-2', '1')]\n",
      "[('country', 'Brazil'), ('arch', 'Rococo'), ('callret-2', '1')]\n",
      "[('country', 'Brazil'), ('arch', 'Baroque Revival architecture'), ('callret-2', '1')]\n",
      "[('country', 'Brazil'), ('arch', 'Renaissance Revival architecture'), ('callret-2', '1')]\n",
      "[('country', 'Bulgaria'), ('arch', 'Neoclassical architecture'), ('callret-2', '1')]\n",
      "[('country', 'Bulgaria'), ('arch', 'Baroque Revival architecture'), ('callret-2', '1')]\n",
      "[('country', 'Cambodia'), ('arch', 'modern architecture'), ('callret-2', '1')]\n",
      "[('country', 'Canada'), ('arch', 'Shed style'), ('callret-2', '1')]\n",
      "[('country', 'Canada'), ('arch', 'Neoclassical architecture'), ('callret-2', '2')]\n",
      "[('country', 'Canada'), ('arch', 'Renaissance architecture'), ('callret-2', '1')]\n",
      "[('country', 'Canada'), ('arch', 'Gothic Revival'), ('callret-2', '14')]\n",
      "[('country', 'Canada'), ('arch', 'eclectic architecture'), ('callret-2', '2')]\n",
      "[('country', 'Canada'), ('arch', 'Byzantine Revival architecture'), ('callret-2', '5')]\n",
      "[('country', 'Canada'), ('arch', 'Romanesque architecture'), ('callret-2', '1')]\n",
      "[('country', 'Canada'), ('arch', 'Romanesque Revival architecture'), ('callret-2', '3')]\n",
      "[('country', 'Chile'), ('arch', 'Gothic Revival'), ('callret-2', '2')]\n",
      "[('country', 'Chile'), ('arch', 'modern architecture'), ('callret-2', '2')]\n",
      "[('country', 'Chile'), ('arch', 'Neoclassical architecture'), ('callret-2', '4')]\n",
      "[('country', 'Chile'), ('arch', 'First Romanesque'), ('callret-2', '1')]\n",
      "[('country', 'Chile'), ('arch', 'Gothic architecture'), ('callret-2', '1')]\n",
      "[('country', 'Colombia'), ('arch', 'Neoclassical architecture'), ('callret-2', '7')]\n",
      "[('country', 'Colombia'), ('arch', 'Gothic Revival'), ('callret-2', '2')]\n",
      "[('country', 'Colombia'), ('arch', 'Gothic architecture'), ('callret-2', '1')]\n",
      "[('country', 'Colombia'), ('arch', 'postmodern architecture'), ('callret-2', '1')]\n",
      "[('country', 'Colombia'), ('arch', 'Romanesque Revival architecture'), ('callret-2', '1')]\n",
      "[('country', 'Colombia'), ('arch', 'Isabelline'), ('callret-2', '1')]\n",
      "[('country', 'Colombia'), ('arch', 'eclectic architecture'), ('callret-2', '2')]\n",
      "[('country', 'Colombia'), ('arch', 'modern architecture'), ('callret-2', '1')]\n",
      "[('country', 'Colombia'), ('arch', 'Neues Bauen'), ('callret-2', '1')]\n",
      "[('country', 'Colombia'), ('arch', 'neoclassicism'), ('callret-2', '1')]\n",
      "[('country', 'Costa Rica'), ('arch', 'neoclassicism'), ('callret-2', '1')]\n",
      "[('country', 'Croatia'), ('arch', 'Byzantine architecture'), ('callret-2', '1')]\n",
      "[('country', 'Croatia'), ('arch', 'Baroque'), ('callret-2', '1')]\n",
      "[('country', 'Croatia'), ('arch', 'Gothic Revival'), ('callret-2', '2')]\n",
      "[('country', 'Croatia'), ('arch', 'baroque architecture'), ('callret-2', '6')]\n",
      "[('country', 'Croatia'), ('arch', 'Neoclassical architecture'), ('callret-2', '1')]\n",
      "[('country', 'Croatia'), ('arch', 'Art Nouveau'), ('callret-2', '1')]\n",
      "[('country', 'Croatia'), ('arch', 'Renaissance architecture'), ('callret-2', '3')]\n",
      "[('country', 'Croatia'), ('arch', 'Romanesque architecture'), ('callret-2', '4')]\n",
      "[('country', 'Croatia'), ('arch', 'modern architecture'), ('callret-2', '1')]\n",
      "[('country', 'Croatia'), ('arch', 'Gothic architecture'), ('callret-2', '1')]\n",
      "[('country', 'Croatia'), ('arch', 'Romanesque art'), ('callret-2', '1')]\n",
      "[('country', 'Cuba'), ('arch', 'Baroque'), ('callret-2', '1')]\n",
      "[('country', 'Cuba'), ('arch', 'baroque architecture'), ('callret-2', '1')]\n",
      "[('country', 'Cuba'), ('arch', 'Gothic Revival'), ('callret-2', '1')]\n",
      "[('country', 'Cyprus'), ('arch', 'Gothic architecture'), ('callret-2', '2')]\n",
      "[('country', 'Czech Republic'), ('arch', 'baroque architecture'), ('callret-2', '4')]\n",
      "[('country', 'Czech Republic'), ('arch', 'Gothic art'), ('callret-2', '1')]\n",
      "[('country', 'Czech Republic'), ('arch', 'Gothic Revival'), ('callret-2', '1')]\n",
      "[('country', 'Czech Republic'), ('arch', 'baroque gothic'), ('callret-2', '1')]\n",
      "[('country', 'Czech Republic'), ('arch', 'Gothic architecture'), ('callret-2', '1')]\n",
      "[('country', 'Czech Republic'), ('arch', 'Baroque'), ('callret-2', '1')]\n",
      "[('country', 'Dominica'), ('arch', 'Gothic Revival'), ('callret-2', '1')]\n",
      "[('country', 'Dominican Republic'), ('arch', 'Gothic architecture'), ('callret-2', '1')]\n",
      "[('country', 'Dominican Republic'), ('arch', 'modern architecture'), ('callret-2', '1')]\n",
      "[('country', 'East Jerusalem'), ('arch', 'Byzantine Revival architecture'), ('callret-2', '1')]\n",
      "[('country', 'Ecuador'), ('arch', 'Gothic Revival'), ('callret-2', '1')]\n",
      "[('country', 'Ecuador'), ('arch', 'Baroque'), ('callret-2', '1')]\n",
      "[('country', 'Ecuador'), ('arch', 'Romanesque Revival architecture'), ('callret-2', '1')]\n",
      "[('country', 'Ecuador'), ('arch', 'Gothic architecture'), ('callret-2', '1')]\n",
      "[('country', 'Egypt'), ('arch', 'Coptic architecture'), ('callret-2', '2')]\n",
      "[('country', 'Egypt'), ('arch', 'Gothic Revival'), ('callret-2', '1')]\n",
      "[('country', 'El Salvador'), ('arch', 'Gothic Revival'), ('callret-2', '1')]\n",
      "[('country', 'El Salvador'), ('arch', 'eclectic architecture'), ('callret-2', '1')]\n",
      "[('country', 'Estonia'), ('arch', 'Gothic architecture'), ('callret-2', '1')]\n",
      "[('country', 'Estonia'), ('arch', 'Byzantine Revival architecture'), ('callret-2', '1')]\n",
      "[('country', 'Ethiopia'), ('arch', 'Neoclassical architecture'), ('callret-2', '1')]\n",
      "[('country', 'Finland'), ('arch', 'Gothic architecture'), ('callret-2', '1')]\n",
      "[('country', 'Finland'), ('arch', 'Gothic Revival'), ('callret-2', '2')]\n",
      "[('country', 'Finland'), ('arch', 'Neoclassical architecture'), ('callret-2', '1')]\n",
      "[('country', 'Finland'), ('arch', 'Brick Gothic'), ('callret-2', '1')]\n",
      "[('country', 'Finland'), ('arch', 'National Romantic style'), ('callret-2', '1')]\n",
      "[('country', 'France'), ('arch', 'Gothic architecture'), ('callret-2', '21')]\n",
      "[('country', 'France'), ('arch', 'Romanesque architecture'), ('callret-2', '28')]\n",
      "[('country', 'France'), ('arch', 'classical architecture'), ('callret-2', '5')]\n",
      "[('country', 'France'), ('arch', 'Gothic Revival'), ('callret-2', '2')]\n",
      "[('country', 'France'), ('arch', 'Neoclassical architecture'), ('callret-2', '1')]\n",
      "[('country', 'France'), ('arch', 'Romanesque Revival architecture'), ('callret-2', '1')]\n",
      "[('country', 'France'), ('arch', 'baroque architecture'), ('callret-2', '4')]\n",
      "[('country', 'France'), ('arch', 'Meridional Gothic'), ('callret-2', '5')]\n",
      "[('country', 'France'), ('arch', 'Early Gothic'), ('callret-2', '2')]\n",
      "[('country', 'France'), ('arch', 'pre-Romanesque art'), ('callret-2', '1')]\n",
      "[('country', 'Georgia'), ('arch', 'Architecture of Georgia'), ('callret-2', '1')]\n",
      "[('country', 'Georgia'), ('arch', 'Gothic Revival'), ('callret-2', '1')]\n",
      "[('country', 'Georgia'), ('arch', 'Russian-Byzantine architecture'), ('callret-2', '1')]\n",
      "[('country', 'Germany'), ('arch', 'modern architecture'), ('callret-2', '1')]\n",
      "[('country', 'Germany'), ('arch', 'Brick Gothic'), ('callret-2', '1')]\n",
      "[('country', 'Germany'), ('arch', 'Baroque'), ('callret-2', '1')]\n",
      "[('country', 'Germany'), ('arch', 'Gothic art'), ('callret-2', '1')]\n",
      "[('country', 'Germany'), ('arch', 'Romanesque art'), ('callret-2', '1')]\n",
      "[('country', 'Germany'), ('arch', 'baroque architecture'), ('callret-2', '4')]\n",
      "[('country', 'Germany'), ('arch', 'Gothic architecture'), ('callret-2', '12')]\n",
      "[('country', 'Germany'), ('arch', 'Romanesque Revival architecture'), ('callret-2', '2')]\n",
      "[('country', 'Germany'), ('arch', 'Romanesque architecture'), ('callret-2', '9')]\n",
      "[('country', 'Greece'), ('arch', 'Renaissance architecture'), ('callret-2', '1')]\n",
      "[('country', 'Greece'), ('arch', 'Renaissance Revival architecture'), ('callret-2', '1')]\n",
      "[('country', 'Greece'), ('arch', 'Gothic Revival'), ('callret-2', '1')]\n",
      "[('country', 'Greece'), ('arch', 'Baroque Revival architecture'), ('callret-2', '1')]\n",
      "[('country', 'Greece'), ('arch', 'Byzantine Revival architecture'), ('callret-2', '2')]\n",
      "[('country', 'Greece'), ('arch', 'eclectic architecture'), ('callret-2', '1')]\n",
      "[('country', 'Greece'), ('arch', 'rationalism'), ('callret-2', '1')]\n",
      "[('country', 'Greece'), ('arch', 'Byzantine architecture'), ('callret-2', '1')]\n",
      "[('country', 'Greece'), ('arch', 'Ottoman architecture'), ('callret-2', '1')]\n",
      "[('country', 'Guatemala'), ('arch', 'Neoclassical architecture'), ('callret-2', '1')]\n",
      "[('country', 'Guatemala'), ('arch', 'baroque architecture'), ('callret-2', '1')]\n",
      "[('country', 'Haiti'), ('arch', 'Romanesque Revival architecture'), ('callret-2', '1')]\n",
      "[('country', 'Honduras'), ('arch', 'Baroque'), ('callret-2', '2')]\n",
      "[('country', 'Honduras'), ('arch', 'baroque architecture'), ('callret-2', '2')]\n",
      "[('country', 'Hungary'), ('arch', 'Baroque Revival architecture'), ('callret-2', '1')]\n",
      "[('country', 'Hungary'), ('arch', 'baroque architecture'), ('callret-2', '6')]\n",
      "[('country', 'Hungary'), ('arch', 'Gothic Revival'), ('callret-2', '1')]\n",
      "[('country', 'Hungary'), ('arch', 'Romanesque art'), ('callret-2', '1')]\n",
      "[('country', 'Hungary'), ('arch', 'Romanesque Revival architecture'), ('callret-2', '3')]\n",
      "[('country', 'Hungary'), ('arch', 'Neoclassical architecture'), ('callret-2', '4')]\n",
      "[('country', 'Hungary'), ('arch', 'Gothic architecture'), ('callret-2', '3')]\n",
      "[('country', 'Iceland'), ('arch', 'Gothic Revival'), ('callret-2', '1')]\n",
      "[('country', 'India'), ('arch', 'Gothic architecture'), ('callret-2', '2')]\n",
      "[('country', 'India'), ('arch', 'Gothic art'), ('callret-2', '1')]\n",
      "[('country', 'India'), ('arch', 'baroque architecture'), ('callret-2', '1')]\n",
      "[('country', 'India'), ('arch', 'Gothic Revival'), ('callret-2', '7')]\n",
      "[('country', 'India'), ('arch', 'Baroque'), ('callret-2', '1')]\n",
      "[('country', 'India'), ('arch', 'Colonial architecture'), ('callret-2', '1')]\n",
      "[('country', 'Indonesia'), ('arch', 'Gothic Revival'), ('callret-2', '2')]\n",
      "[('country', 'Indonesia'), ('arch', 'modern architecture'), ('callret-2', '1')]\n",
      "[('country', 'Iran'), ('arch', 'Safavid architecture'), ('callret-2', '1')]\n",
      "[('country', 'Iran'), ('arch', 'Pahlavi architecture'), ('callret-2', '2')]\n",
      "[('country', 'Iran'), ('arch', 'Isfahani style'), ('callret-2', '1')]\n",
      "[('country', 'Ireland'), ('arch', 'Gothic Revival'), ('callret-2', '2')]\n",
      "[('country', 'Ireland'), ('arch', 'Gothic architecture'), ('callret-2', '1')]\n",
      "[('country', 'Israel'), ('arch', 'Gothic architecture'), ('callret-2', '1')]\n",
      "[('country', 'Israel'), ('arch', 'Romanesque architecture'), ('callret-2', '1')]\n",
      "[('country', 'Israel'), ('arch', 'early Christian art and architecture'), ('callret-2', '1')]\n",
      "[('country', 'Italy'), ('arch', 'Byzantine architecture'), ('callret-2', '3')]\n",
      "[('country', 'Italy'), ('arch', 'International Gothic'), ('callret-2', '2')]\n",
      "[('country', 'Italy'), ('arch', 'Neoclassical architecture'), ('callret-2', '15')]\n",
      "[('country', 'Italy'), ('arch', 'Pre-Romanesque architecture'), ('callret-2', '1')]\n",
      "[('country', 'Italy'), ('arch', 'Norman-Arab-Byzantine culture'), ('callret-2', '3')]\n",
      "[('country', 'Italy'), ('arch', 'Italian Neoclassical architecture'), ('callret-2', '1')]\n",
      "[('country', 'Italy'), ('arch', 'Norman architecture'), ('callret-2', '5')]\n",
      "[('country', 'Italy'), ('arch', 'Italian Gothic architecture'), ('callret-2', '2')]\n",
      "[('country', 'Italy'), ('arch', 'Renaissance Revival architecture'), ('callret-2', '2')]\n",
      "[('country', 'Italy'), ('arch', 'Baroque'), ('callret-2', '4')]\n",
      "[('country', 'Italy'), ('arch', 'Romanesque architecture'), ('callret-2', '82')]\n",
      "[('country', 'Italy'), ('arch', 'medieval architecture'), ('callret-2', '1')]\n",
      "[('country', 'Italy'), ('arch', 'Gothic architecture'), ('callret-2', '20')]\n",
      "[('country', 'Italy'), ('arch', 'Renaissance architecture'), ('callret-2', '17')]\n",
      "[('country', 'Italy'), ('arch', 'Renaissance'), ('callret-2', '5')]\n",
      "[('country', 'Italy'), ('arch', 'baroque architecture'), ('callret-2', '52')]\n",
      "[('country', 'Italy'), ('arch', 'Sicilian Baroque'), ('callret-2', '4')]\n",
      "[('country', 'Italy'), ('arch', 'modern architecture'), ('callret-2', '1')]\n",
      "[('country', 'Italy'), ('arch', 'barocco leccese'), ('callret-2', '1')]\n",
      "[('country', 'Italy'), ('arch', 'Italian Baroque architecture'), ('callret-2', '3')]\n",
      "[('country', 'Italy'), ('arch', 'Mannerism'), ('callret-2', '3')]\n",
      "[('country', 'Italy'), ('arch', 'neoclassicism'), ('callret-2', '9')]\n",
      "[('country', 'Italy'), ('arch', 'Romanesque Revival architecture'), ('callret-2', '5')]\n",
      "[('country', 'Italy'), ('arch', 'rationalism'), ('callret-2', '2')]\n",
      "[('country', 'Italy'), ('arch', 'Gothic Revival'), ('callret-2', '5')]\n",
      "[('country', 'Italy'), ('arch', 'Romanesque art'), ('callret-2', '3')]\n",
      "[('country', 'Italy'), ('arch', 'Napolitan baroque architecture'), ('callret-2', '1')]\n",
      "[('country', 'Italy'), ('arch', 'Mannerist architecture'), ('callret-2', '2')]\n",
      "[('country', 'Italy'), ('arch', 'Gothic art'), ('callret-2', '2')]\n",
      "[('country', 'Italy'), ('arch', 'First Romanesque'), ('callret-2', '1')]\n",
      "[('country', 'Italy'), ('arch', 'paleochristian architecture'), ('callret-2', '1')]\n",
      "[('country', 'Italy'), ('arch', 'classicism'), ('callret-2', '1')]\n",
      "[('country', 'Italy'), ('arch', 'Chiaramonte style'), ('callret-2', '1')]\n",
      "[('country', 'Ivory Coast'), ('arch', 'modern architecture'), ('callret-2', '1')]\n",
      "[('country', 'Ivory Coast'), ('arch', 'Colonial architecture'), ('callret-2', '1')]\n",
      "[('country', 'Japan'), ('arch', 'Romanesque Revival architecture'), ('callret-2', '1')]\n",
      "[('country', 'Japan'), ('arch', 'Gothic Revival'), ('callret-2', '1')]\n",
      "[('country', 'Kazakhstan'), ('arch', 'Gothic Revival'), ('callret-2', '1')]\n",
      "[('country', 'Kosovo'), ('arch', 'Romanesque Revival architecture'), ('callret-2', '2')]\n",
      "[('country', 'Laos'), ('arch', 'Art Nouveau'), ('callret-2', '1')]\n",
      "[('country', 'Latvia'), ('arch', 'Romanesque Revival architecture'), ('callret-2', '1')]\n",
      "[('country', 'Latvia'), ('arch', 'Gothic Revival'), ('callret-2', '2')]\n",
      "[('country', 'Latvia'), ('arch', 'Brick Gothic'), ('callret-2', '1')]\n",
      "[('country', 'Latvia'), ('arch', 'baroque architecture'), ('callret-2', '1')]\n",
      "[('country', 'Lebanon'), ('arch', 'Romanesque architecture'), ('callret-2', '1')]\n",
      "[('country', 'Lebanon'), ('arch', 'Neoclassical architecture'), ('callret-2', '1')]\n",
      "[('country', 'Lebanon'), ('arch', 'Byzantine architecture'), ('callret-2', '1')]\n",
      "[('country', 'Libya'), ('arch', 'Neoclassical architecture'), ('callret-2', '1')]\n",
      "[('country', 'Lithuania'), ('arch', 'baroque architecture'), ('callret-2', '2')]\n",
      "[('country', 'Lithuania'), ('arch', 'Gothic architecture'), ('callret-2', '1')]\n",
      "[('country', 'Lithuania'), ('arch', 'Romanesque Revival architecture'), ('callret-2', '1')]\n",
      "[('country', 'Lithuania'), ('arch', 'Baroque Revival architecture'), ('callret-2', '1')]\n",
      "[('country', 'Lithuania'), ('arch', 'Renaissance architecture'), ('callret-2', '1')]\n",
      "[('country', 'Lithuania'), ('arch', 'Neoclassical architecture'), ('callret-2', '1')]\n",
      "[('country', 'Lithuania'), ('arch', 'Gothic art'), ('callret-2', '1')]\n",
      "[('country', 'Lithuania'), ('arch', 'Belarusian Gothic'), ('callret-2', '1')]\n",
      "[('country', 'Luxembourg'), ('arch', 'Gothic architecture'), ('callret-2', '1')]\n",
      "[('country', 'Malta'), ('arch', 'Baroque'), ('callret-2', '1')]\n",
      "[('country', 'Malta'), ('arch', 'baroque architecture'), ('callret-2', '2')]\n",
      "[('country', 'Mexico'), ('arch', 'rationalism'), ('callret-2', '1')]\n",
      "[('country', 'Mexico'), ('arch', 'Gothic architecture'), ('callret-2', '1')]\n",
      "[('country', 'Mexico'), ('arch', 'Plateresque'), ('callret-2', '1')]\n",
      "[('country', 'Mexico'), ('arch', 'Gothic Revival'), ('callret-2', '2')]\n",
      "[('country', 'Mexico'), ('arch', 'New Spanish Baroque'), ('callret-2', '18')]\n",
      "[('country', 'Mexico'), ('arch', 'neoclassicism'), ('callret-2', '1')]\n",
      "[('country', 'Mexico'), ('arch', 'eclectic architecture'), ('callret-2', '1')]\n",
      "[('country', 'Mexico'), ('arch', 'Churrigueresque'), ('callret-2', '1')]\n",
      "[('country', 'Mexico'), ('arch', 'Art Nouveau architecture'), ('callret-2', '1')]\n",
      "[('country', 'Mexico'), ('arch', 'Neoclassical architecture'), ('callret-2', '14')]\n",
      "[('country', 'Mexico'), ('arch', 'Renaissance architecture'), ('callret-2', '3')]\n",
      "[('country', 'Mexico'), ('arch', 'modern architecture'), ('callret-2', '2')]\n",
      "[('country', 'Mexico'), ('arch', 'baroque architecture'), ('callret-2', '3')]\n",
      "[('country', 'Mexico'), ('arch', 'Spanish Renaissance architecture'), ('callret-2', '1')]\n",
      "[('country', 'Mexico'), ('arch', 'Baroque'), ('callret-2', '3')]\n",
      "[('country', 'Moldova'), ('arch', 'Byzantine Revival architecture'), ('callret-2', '1')]\n",
      "[('country', 'Moldova'), ('arch', 'Neoclassical architecture'), ('callret-2', '1')]\n",
      "[('country', 'Monaco'), ('arch', 'Romanesque Revival architecture'), ('callret-2', '1')]\n",
      "[('country', 'Montenegro'), ('arch', 'Romanesque architecture'), ('callret-2', '1')]\n",
      "[('country', 'Montenegro'), ('arch', 'Gothic Revival'), ('callret-2', '1')]\n",
      "[('country', 'Morocco'), ('arch', 'modern architecture'), ('callret-2', '1')]\n",
      "[('country', 'Mozambique'), ('arch', 'Portuguese colonial architecture'), ('callret-2', '1')]\n",
      "[('country', 'Mozambique'), ('arch', 'Gothic Revival'), ('callret-2', '1')]\n",
      "[('country', 'Myanmar'), ('arch', 'Gothic Revival'), ('callret-2', '1')]\n",
      "[('country', 'Netherlands'), ('arch', 'Romanesque Revival architecture'), ('callret-2', '2')]\n",
      "[('country', 'Netherlands'), ('arch', 'Brabantine Gothic'), ('callret-2', '1')]\n",
      "[('country', 'Netherlands'), ('arch', 'Gothic architecture'), ('callret-2', '3')]\n",
      "[('country', 'Netherlands'), ('arch', 'Neoclassical architecture'), ('callret-2', '1')]\n",
      "[('country', 'Netherlands'), ('arch', 'Art Nouveau'), ('callret-2', '1')]\n",
      "[('country', 'New Zealand'), ('arch', 'Palladian architecture'), ('callret-2', '1')]\n",
      "[('country', 'New Zealand'), ('arch', 'Gothic Revival'), ('callret-2', '3')]\n",
      "[('country', 'New Zealand'), ('arch', 'Renaissance Revival architecture'), ('callret-2', '1')]\n",
      "[('country', 'Nicaragua'), ('arch', 'Neoclassical architecture'), ('callret-2', '2')]\n",
      "[('country', 'Nicaragua'), ('arch', 'eclecticism in art'), ('callret-2', '1')]\n",
      "[('country', 'North Macedonia'), ('arch', 'modern architecture'), ('callret-2', '1')]\n",
      "[('country', 'North Macedonia'), ('arch', 'Gothic Revival'), ('callret-2', '2')]\n",
      "[('country', 'Norway'), ('arch', 'Art Nouveau'), ('callret-2', '1')]\n",
      "[('country', 'Norway'), ('arch', 'Gothic Revival'), ('callret-2', '2')]\n",
      "[('country', 'Norway'), ('arch', 'modern architecture'), ('callret-2', '1')]\n",
      "[('country', 'Pakistan'), ('arch', 'Gothic Revival'), ('callret-2', '1')]\n",
      "[('country', 'Paraguay'), ('arch', 'Neoclassical architecture'), ('callret-2', '1')]\n",
      "[('country', 'Paraguay'), ('arch', 'Gothic Revival'), ('callret-2', '1')]\n",
      "[('country', \"People's Republic of China\"), ('arch', 'Neoclassical architecture'), ('callret-2', '2')]\n",
      "[('country', \"People's Republic of China\"), ('arch', 'Byzantine Revival architecture'), ('callret-2', '2')]\n",
      "[('country', \"People's Republic of China\"), ('arch', 'Gothic Revival'), ('callret-2', '7')]\n",
      "[('country', \"People's Republic of China\"), ('arch', 'Manueline'), ('callret-2', '1')]\n",
      "[('country', \"People's Republic of China\"), ('arch', 'baroque architecture'), ('callret-2', '1')]\n",
      "[('country', \"People's Republic of China\"), ('arch', 'Romanesque Revival architecture'), ('callret-2', '3')]\n",
      "[('country', 'Peru'), ('arch', 'Gothic Revival'), ('callret-2', '1')]\n",
      "[('country', 'Peru'), ('arch', 'Renaissance Revival architecture'), ('callret-2', '1')]\n",
      "[('country', 'Peru'), ('arch', 'Churrigueresque'), ('callret-2', '2')]\n",
      "[('country', 'Peru'), ('arch', 'Neoclassical architecture'), ('callret-2', '2')]\n",
      "[('country', 'Peru'), ('arch', 'Baroque'), ('callret-2', '5')]\n",
      "[('country', 'Peru'), ('arch', 'Renaissance'), ('callret-2', '1')]\n",
      "[('country', 'Peru'), ('arch', 'Spanish Colonial architecture'), ('callret-2', '1')]\n",
      "[('country', 'Peru'), ('arch', 'modern architecture'), ('callret-2', '1')]\n",
      "[('country', 'Philippines'), ('arch', 'Neoclassical architecture'), ('callret-2', '3')]\n",
      "[('country', 'Philippines'), ('arch', 'baroque architecture'), ('callret-2', '7')]\n",
      "[('country', 'Philippines'), ('arch', 'Romanesque Revival architecture'), ('callret-2', '1')]\n",
      "[('country', 'Philippines'), ('arch', 'modern architecture'), ('callret-2', '2')]\n",
      "[('country', 'Philippines'), ('arch', 'Earthquake Baroque'), ('callret-2', '1')]\n",
      "[('country', 'Philippines'), ('arch', 'Gothic Revival'), ('callret-2', '2')]\n",
      "[('country', 'Philippines'), ('arch', 'Italian Renaissance'), ('callret-2', '1')]\n",
      "[('country', 'Philippines'), ('arch', 'Romanesque architecture'), ('callret-2', '2')]\n",
      "[('country', 'Philippines'), ('arch', 'Baroque'), ('callret-2', '1')]\n",
      "[('country', 'Poland'), ('arch', 'Romanesque architecture'), ('callret-2', '2')]\n",
      "[('country', 'Poland'), ('arch', 'Russian Revival architecture'), ('callret-2', '1')]\n",
      "[('country', 'Poland'), ('arch', 'Brick Gothic'), ('callret-2', '5')]\n",
      "[('country', 'Poland'), ('arch', 'Baroque'), ('callret-2', '2')]\n",
      "[('country', 'Poland'), ('arch', 'Romanesque art'), ('callret-2', '1')]\n",
      "[('country', 'Poland'), ('arch', 'Gothic architecture'), ('callret-2', '12')]\n",
      "[('country', 'Poland'), ('arch', 'classicism'), ('callret-2', '1')]\n",
      "[('country', 'Poland'), ('arch', 'Romanesque Revival architecture'), ('callret-2', '1')]\n",
      "[('country', 'Poland'), ('arch', 'baroque architecture'), ('callret-2', '3')]\n",
      "[('country', 'Poland'), ('arch', 'Russian-Byzantine architecture'), ('callret-2', '1')]\n",
      "[('country', 'Poland'), ('arch', 'Gothic Revival'), ('callret-2', '4')]\n",
      "[('country', 'Poland'), ('arch', 'Renaissance architecture'), ('callret-2', '1')]\n",
      "[('country', 'Poland'), ('arch', 'Gothic art'), ('callret-2', '2')]\n",
      "[('country', 'Portugal'), ('arch', 'baroque architecture'), ('callret-2', '2')]\n",
      "[('country', 'Portugal'), ('arch', 'Spanish Gothic architecture'), ('callret-2', '2')]\n",
      "[('country', 'Portugal'), ('arch', 'Romanesque art'), ('callret-2', '1')]\n",
      "[('country', 'Portugal'), ('arch', 'Romanesque architecture'), ('callret-2', '4')]\n",
      "[('country', 'Portugal'), ('arch', 'Manueline'), ('callret-2', '4')]\n",
      "[('country', 'Portugal'), ('arch', 'Mannerist architecture'), ('callret-2', '5')]\n",
      "[('country', 'Portugal'), ('arch', 'Baroque'), ('callret-2', '1')]\n",
      "[('country', 'Portugal'), ('arch', 'Gothic architecture'), ('callret-2', '4')]\n",
      "[('country', 'Portugal'), ('arch', 'Mannerism'), ('callret-2', '3')]\n",
      "[('country', 'Republic of Artsakh'), ('arch', 'Armenian architecture'), ('callret-2', '1')]\n",
      "[('country', 'Romania'), ('arch', 'Neoclassical architecture'), ('callret-2', '1')]\n",
      "[('country', 'Romania'), ('arch', 'classicism'), ('callret-2', '1')]\n",
      "[('country', 'Romania'), ('arch', 'modern architecture'), ('callret-2', '1')]\n",
      "[('country', 'Romania'), ('arch', 'Jugendstil'), ('callret-2', '1')]\n",
      "[('country', 'Romania'), ('arch', 'Byzantine architecture'), ('callret-2', '2')]\n",
      "[('country', 'Romania'), ('arch', 'Romanesque architecture'), ('callret-2', '1')]\n",
      "[('country', 'Romania'), ('arch', 'Renaissance Revival architecture'), ('callret-2', '1')]\n",
      "[('country', 'Romania'), ('arch', 'baroque architecture'), ('callret-2', '6')]\n",
      "[('country', 'Romania'), ('arch', 'Byzantine Revival architecture'), ('callret-2', '1')]\n",
      "[('country', 'Romania'), ('arch', 'Romanesque Revival architecture'), ('callret-2', '1')]\n",
      "[('country', 'Romania'), ('arch', 'Gothic architecture'), ('callret-2', '1')]\n",
      "[('country', 'Russia'), ('arch', 'Brick Gothic'), ('callret-2', '1')]\n",
      "[('country', 'Russia'), ('arch', 'Russian-Byzantine architecture'), ('callret-2', '3')]\n",
      "[('country', 'Russia'), ('arch', 'Neoclassical architecture in Russia'), ('callret-2', '1')]\n",
      "[('country', 'Russia'), ('arch', 'classical architecture'), ('callret-2', '1')]\n",
      "[('country', 'Russia'), ('arch', 'Neoclassical architecture'), ('callret-2', '4')]\n",
      "[('country', 'Russia'), ('arch', 'Siberian Baroque'), ('callret-2', '2')]\n",
      "[('country', 'Russia'), ('arch', 'Baroque'), ('callret-2', '3')]\n",
      "[('country', 'Russia'), ('arch', 'Russian architecture'), ('callret-2', '2')]\n",
      "[('country', 'Russia'), ('arch', 'Ukrainian Baroque'), ('callret-2', '1')]\n",
      "[('country', 'Russia'), ('arch', 'Armenian architecture'), ('callret-2', '1')]\n",
      "[('country', 'Russia'), ('arch', 'classicism'), ('callret-2', '1')]\n",
      "[('country', 'Russia'), ('arch', 'eclectic architecture'), ('callret-2', '1')]\n",
      "[('country', 'Russia'), ('arch', 'baroque architecture'), ('callret-2', '5')]\n",
      "[('country', 'Russia'), ('arch', 'Byzantine Revival architecture'), ('callret-2', '3')]\n",
      "[('country', 'Russia'), ('arch', 'Empire style'), ('callret-2', '2')]\n",
      "[('country', 'Russia'), ('arch', 'Russian Revival architecture'), ('callret-2', '3')]\n",
      "[('country', 'Russian Empire'), ('arch', 'Russian architecture'), ('callret-2', '1')]\n",
      "[('country', 'Russian Empire'), ('arch', 'Neoclassical architecture in Russia'), ('callret-2', '1')]\n",
      "[('country', 'Russian Empire'), ('arch', 'Russian-Byzantine architecture'), ('callret-2', '2')]\n",
      "[('country', 'Russian Empire'), ('arch', 'Neoclassical architecture'), ('callret-2', '1')]\n",
      "[('country', 'Russian Empire'), ('arch', 'Empire style'), ('callret-2', '1')]\n",
      "[('country', 'Serbia'), ('arch', 'baroque architecture'), ('callret-2', '1')]\n",
      "[('country', 'Serbia'), ('arch', 'Romanesque Revival architecture'), ('callret-2', '2')]\n",
      "[('country', 'Serbia'), ('arch', 'Serbo-Byzantine architecture'), ('callret-2', '1')]\n",
      "[('country', 'Serbia'), ('arch', 'Neoclassical architecture'), ('callret-2', '1')]\n",
      "[('country', 'Slovakia'), ('arch', 'Gothic art'), ('callret-2', '1')]\n",
      "[('country', 'Slovakia'), ('arch', 'Romanesque Revival architecture'), ('callret-2', '1')]\n",
      "[('country', 'Slovakia'), ('arch', 'Baroque'), ('callret-2', '1')]\n",
      "[('country', 'Slovakia'), ('arch', 'baroque architecture'), ('callret-2', '2')]\n",
      "[('country', 'Slovakia'), ('arch', 'Gothic architecture'), ('callret-2', '6')]\n",
      "[('country', 'Slovenia'), ('arch', 'Gothic architecture'), ('callret-2', '2')]\n",
      "[('country', 'Slovenia'), ('arch', 'Romanesque Revival architecture'), ('callret-2', '1')]\n",
      "[('country', 'Slovenia'), ('arch', 'Romanesque architecture'), ('callret-2', '2')]\n",
      "[('country', 'Slovenia'), ('arch', 'baroque architecture'), ('callret-2', '1')]\n",
      "[('country', 'South Korea'), ('arch', 'Gothic Revival'), ('callret-2', '1')]\n",
      "[('country', 'Soviet Union'), ('arch', 'Neoclassical architecture in Russia'), ('callret-2', '1')]\n",
      "[('country', 'Soviet Union'), ('arch', 'Brick Gothic'), ('callret-2', '1')]\n",
      "[('country', 'Soviet Union'), ('arch', 'Empire style'), ('callret-2', '1')]\n",
      "[('country', 'Soviet Union'), ('arch', 'Neoclassical architecture'), ('callret-2', '2')]\n",
      "[('country', 'Soviet Union'), ('arch', 'Russian architecture'), ('callret-2', '1')]\n",
      "[('country', 'Spain'), ('arch', 'Valencian Gothic'), ('callret-2', '2')]\n",
      "[('country', 'Spain'), ('arch', 'Renaissance architecture'), ('callret-2', '2')]\n",
      "[('country', 'Spain'), ('arch', 'late Gothic'), ('callret-2', '1')]\n",
      "[('country', 'Spain'), ('arch', 'baroque architecture'), ('callret-2', '1')]\n",
      "[('country', 'Spain'), ('arch', 'Gothic architecture'), ('callret-2', '8')]\n",
      "[('country', 'Spain'), ('arch', 'Renaissance'), ('callret-2', '1')]\n",
      "[('country', 'Spain'), ('arch', 'Spanish Gothic architecture'), ('callret-2', '1')]\n",
      "[('country', 'Spain'), ('arch', 'Baroque'), ('callret-2', '1')]\n",
      "[('country', 'Spain'), ('arch', 'Neoclassical architecture'), ('callret-2', '3')]\n",
      "[('country', 'Spain'), ('arch', 'Gothic Revival'), ('callret-2', '2')]\n",
      "[('country', 'Spain'), ('arch', 'Romanesque architecture'), ('callret-2', '5')]\n",
      "[('country', 'Spain'), ('arch', 'historicist architecture'), ('callret-2', '1')]\n",
      "[('country', 'Sri Lanka'), ('arch', 'Renaissance architecture'), ('callret-2', '1')]\n",
      "[('country', 'Sri Lanka'), ('arch', 'Baroque Revival architecture'), ('callret-2', '1')]\n",
      "[('country', 'State of Palestine'), ('arch', 'Romanesque architecture'), ('callret-2', '1')]\n",
      "[('country', 'State of Palestine'), ('arch', 'early Christian art and architecture'), ('callret-2', '1')]\n",
      "[('country', 'State of Palestine'), ('arch', 'Gothic architecture'), ('callret-2', '1')]\n",
      "[('country', 'Suriname'), ('arch', 'Gothic Revival'), ('callret-2', '1')]\n",
      "[('country', 'Sweden'), ('arch', 'Romanesque Revival architecture'), ('callret-2', '1')]\n",
      "[('country', 'Switzerland'), ('arch', 'baroque architecture'), ('callret-2', '2')]\n",
      "[('country', 'Switzerland'), ('arch', 'Gothic architecture'), ('callret-2', '3')]\n",
      "[('country', 'Switzerland'), ('arch', 'Romanesque art'), ('callret-2', '1')]\n",
      "[('country', 'Switzerland'), ('arch', 'Neoclassical architecture'), ('callret-2', '1')]\n",
      "[('country', 'Switzerland'), ('arch', 'Romanesque architecture'), ('callret-2', '3')]\n",
      "[('country', 'Syria'), ('arch', 'Baroque'), ('callret-2', '1')]\n",
      "[('country', 'Syria'), ('arch', 'Romanesque architecture'), ('callret-2', '1')]\n",
      "[('country', 'Syria'), ('arch', 'neoclassicism'), ('callret-2', '1')]\n",
      "[('country', 'Thailand'), ('arch', 'Romanesque Revival architecture'), ('callret-2', '1')]\n",
      "[('country', 'Thailand'), ('arch', 'Gothic Revival'), ('callret-2', '1')]\n",
      "[('country', 'The Bahamas'), ('arch', 'Gothic Revival'), ('callret-2', '1')]\n",
      "[('country', 'The Gambia'), ('arch', 'Gothic Revival'), ('callret-2', '1')]\n",
      "[('country', 'Trinidad and Tobago'), ('arch', 'Gothic Revival'), ('callret-2', '1')]\n",
      "[('country', 'Turkey'), ('arch', 'Architecture of Georgia'), ('callret-2', '1')]\n",
      "[('country', 'Turkey'), ('arch', 'Byzantine architecture'), ('callret-2', '1')]\n",
      "[('country', 'Turkey'), ('arch', 'Armenian architecture'), ('callret-2', '4')]\n",
      "[('country', 'Turkey'), ('arch', 'Neoclassical architecture'), ('callret-2', '1')]\n",
      "[('country', 'Turkey'), ('arch', 'Baroque Revival architecture'), ('callret-2', '1')]\n",
      "[('country', 'Ukraine'), ('arch', 'baroque architecture'), ('callret-2', '3')]\n",
      "[('country', 'Ukraine'), ('arch', 'Gothic Revival'), ('callret-2', '1')]\n",
      "[('country', 'Ukraine'), ('arch', 'Renaissance'), ('callret-2', '1')]\n",
      "[('country', 'Ukraine'), ('arch', 'Armenian architecture'), ('callret-2', '1')]\n",
      "[('country', 'Ukraine'), ('arch', 'Neoclassical architecture'), ('callret-2', '5')]\n",
      "[('country', 'Ukraine'), ('arch', 'Ukrainian Baroque'), ('callret-2', '4')]\n",
      "[('country', 'Ukraine'), ('arch', 'Romanesque Revival architecture'), ('callret-2', '2')]\n",
      "[('country', 'Ukraine'), ('arch', 'Neoclassical architecture in Russia'), ('callret-2', '1')]\n",
      "[('country', 'Ukraine'), ('arch', 'Rococo'), ('callret-2', '1')]\n",
      "[('country', 'Ukraine'), ('arch', \"Architecture of Kievan Rus'\"), ('callret-2', '1')]\n",
      "[('country', 'Ukraine'), ('arch', 'Russian Revival architecture'), ('callret-2', '3')]\n",
      "[('country', 'Ukraine'), ('arch', 'modernism'), ('callret-2', '1')]\n",
      "[('country', 'Ukraine'), ('arch', 'Baroque'), ('callret-2', '4')]\n",
      "[('country', 'Ukraine'), ('arch', 'classicism'), ('callret-2', '4')]\n",
      "[('country', 'Ukraine'), ('arch', 'Renaissance Revival architecture'), ('callret-2', '1')]\n",
      "[('country', 'Ukraine'), ('arch', 'Gothic art'), ('callret-2', '2')]\n",
      "[('country', 'Ukraine'), ('arch', 'Byzantine Revival architecture'), ('callret-2', '1')]\n",
      "[('country', 'United Kingdom'), ('arch', 'Norman architecture'), ('callret-2', '1')]\n",
      "[('country', 'United Kingdom'), ('arch', 'Byzantine Revival architecture'), ('callret-2', '1')]\n",
      "[('country', 'United Kingdom'), ('arch', 'Gothic art'), ('callret-2', '3')]\n",
      "[('country', 'United Kingdom'), ('arch', 'English Gothic architecture'), ('callret-2', '2')]\n",
      "[('country', 'United Kingdom'), ('arch', 'Romanesque architecture'), ('callret-2', '1')]\n",
      "[('country', 'United Kingdom'), ('arch', 'Neoclassical architecture'), ('callret-2', '2')]\n",
      "[('country', 'United Kingdom'), ('arch', 'Romanesque Revival architecture'), ('callret-2', '2')]\n",
      "[('country', 'United Kingdom'), ('arch', 'Gothic Revival'), ('callret-2', '12')]\n",
      "[('country', 'United Kingdom'), ('arch', 'Gothic architecture'), ('callret-2', '6')]\n",
      "[('country', 'United Kingdom'), ('arch', 'Lombard architecture'), ('callret-2', '1')]\n",
      "[('country', 'United States of America'), ('arch', 'Art Deco'), ('callret-2', '1')]\n",
      "[('country', 'United States of America'), ('arch', 'Mediterranean Revival architecture'), ('callret-2', '1')]\n",
      "[('country', 'United States of America'), ('arch', 'Renaissance Revival architecture'), ('callret-2', '7')]\n",
      "[('country', 'United States of America'), ('arch', 'Beaux-Arts'), ('callret-2', '1')]\n",
      "[('country', 'United States of America'), ('arch', 'Colonial Revival architecture'), ('callret-2', '1')]\n",
      "[('country', 'United States of America'), ('arch', 'Baroque Revival architecture'), ('callret-2', '3')]\n",
      "[('country', 'United States of America'), ('arch', 'Neoclassical architecture'), ('callret-2', '3')]\n",
      "[('country', 'United States of America'), ('arch', 'Gothic Revival'), ('callret-2', '29')]\n",
      "[('country', 'United States of America'), ('arch', 'Byzantine Revival architecture'), ('callret-2', '6')]\n",
      "[('country', 'United States of America'), ('arch', 'Greek Revival architecture'), ('callret-2', '2')]\n",
      "[('country', 'United States of America'), ('arch', 'Serbo-Byzantine architecture'), ('callret-2', '1')]\n",
      "[('country', 'United States of America'), ('arch', 'Romanesque Revival architecture'), ('callret-2', '8')]\n",
      "[('country', 'United States of America'), ('arch', 'modern architecture'), ('callret-2', '5')]\n",
      "[('country', 'United States of America'), ('arch', 'Tudor Revival architecture'), ('callret-2', '1')]\n",
      "[('country', 'United States of America'), ('arch', 'Italianate architecture'), ('callret-2', '2')]\n",
      "[('country', 'United States of America'), ('arch', 'Spanish Colonial Revival architecture'), ('callret-2', '2')]\n",
      "[('country', 'United States of America'), ('arch', 'Armenian architecture'), ('callret-2', '1')]\n",
      "[('country', 'Uruguay'), ('arch', 'Armenian architecture'), ('callret-2', '2')]\n",
      "[('country', 'Uruguay'), ('arch', 'Renaissance Revival architecture'), ('callret-2', '1')]\n",
      "[('country', 'Uruguay'), ('arch', 'neoclassicism'), ('callret-2', '2')]\n",
      "[('country', 'Uruguay'), ('arch', 'Neoclassical architecture'), ('callret-2', '2')]\n",
      "[('country', 'Uruguay'), ('arch', 'eclectic architecture'), ('callret-2', '1')]\n",
      "[('country', 'Uruguay'), ('arch', 'Romanesque Revival architecture'), ('callret-2', '1')]\n",
      "[('country', 'Uzbekistan'), ('arch', 'Gothic Revival'), ('callret-2', '1')]\n",
      "[('country', 'Vanuatu'), ('arch', 'modern architecture'), ('callret-2', '1')]\n",
      "[('country', 'Venezuela'), ('arch', 'neoclassicism'), ('callret-2', '1')]\n",
      "[('country', 'Vietnam'), ('arch', 'Gothic Revival'), ('callret-2', '2')]\n",
      "[('country', 'Vietnam'), ('arch', 'Romanesque Revival architecture'), ('callret-2', '2')]\n"
     ]
    },
    {
     "data": {
      "text/plain": [
       "475"
      ]
     },
     "execution_count": 9,
     "metadata": {},
     "output_type": "execute_result"
    }
   ],
   "source": [
    "queryString = \"\"\"\n",
    "SELECT DISTINCT ?country ?arch COUNT(*)\n",
    "WHERE {\n",
    "    ?p wdt:P31 wd:Q2977.\n",
    "    ?p wdt:P17 ?c.\n",
    "    ?c sc:name ?country.\n",
    "    ?p wdt:P149 ?a.\n",
    "    ?a sc:name ?arch.\n",
    "}\n",
    "GROUP BY ?country ?arch\n",
    "ORDER BY ?country\n",
    "\"\"\"\n",
    "print(\"Results\")\n",
    "run_query(queryString)"
   ]
  },
  {
   "cell_type": "markdown",
   "id": "48fb4d20-bf09-41dd-8d16-f2846278dd1d",
   "metadata": {},
   "source": [
    "### 4.2 where is the largest cathedral, or the oldest?"
   ]
  },
  {
   "cell_type": "code",
   "execution_count": 10,
   "id": "e175bac6-dcba-44fe-92e8-0055b3ea550d",
   "metadata": {},
   "outputs": [
    {
     "name": "stdout",
     "output_type": "stream",
     "text": [
      "Results\n",
      "[('name', 'Etchmiadzin Cathedral'), ('country', 'Armenia'), ('i', '0303-01-01T00:00:00Z')]\n"
     ]
    },
    {
     "data": {
      "text/plain": [
       "1"
      ]
     },
     "execution_count": 10,
     "metadata": {},
     "output_type": "execute_result"
    }
   ],
   "source": [
    "queryString = \"\"\"\n",
    "SELECT ?name ?country ?i\n",
    "WHERE {\n",
    "    ?p wdt:P31 wd:Q2977.\n",
    "    ?p sc:name ?name.\n",
    "    ?p wdt:P17 ?c.\n",
    "    ?c sc:name ?country.\n",
    "    ?p wdt:P571 ?i.\n",
    "}\n",
    "ORDER BY ASC (?i)\n",
    "LIMIT 1\n",
    "\"\"\"\n",
    "print(\"Results\")\n",
    "run_query(queryString)"
   ]
  },
  {
   "cell_type": "code",
   "execution_count": 11,
   "id": "0e527250-7e5d-446a-b40d-7d8cb057eeaf",
   "metadata": {},
   "outputs": [
    {
     "name": "stdout",
     "output_type": "stream",
     "text": [
      "Results\n",
      "[('p', 'http://www.wikidata.org/prop/direct/P2043'), ('pname', 'length')]\n"
     ]
    },
    {
     "data": {
      "text/plain": [
       "1"
      ]
     },
     "execution_count": 11,
     "metadata": {},
     "output_type": "execute_result"
    }
   ],
   "source": [
    "queryString = \"\"\"\n",
    "SELECT DISTINCT ?p ?pname\n",
    "WHERE {\n",
    "    ?c wdt:P31 wd:Q2977 ;\n",
    "        ?p ?o . FILTER(isLiteral(?o))\n",
    "    ?p sc:name ?pname .\n",
    "    FILTER(REGEX(?pname, \".*[L|l]ength.*\"))\n",
    "}\n",
    "   \n",
    "\"\"\"\n",
    "\n",
    "print(\"Results\")\n",
    "run_query(queryString)"
   ]
  },
  {
   "cell_type": "code",
   "execution_count": 12,
   "id": "db0834c6-78b3-4269-92e9-50211017566b",
   "metadata": {
    "tags": []
   },
   "outputs": [
    {
     "name": "stdout",
     "output_type": "stream",
     "text": [
      "Results\n",
      "[('name', 'Mary, Queen of the World Cathedral'), ('country', 'Canada'), ('l', '10150')]\n"
     ]
    },
    {
     "data": {
      "text/plain": [
       "1"
      ]
     },
     "execution_count": 12,
     "metadata": {},
     "output_type": "execute_result"
    }
   ],
   "source": [
    "queryString = \"\"\"\n",
    "SELECT ?name ?country ?l\n",
    "WHERE {\n",
    "    ?p wdt:P31 wd:Q2977.\n",
    "    ?p sc:name ?name.\n",
    "    ?p wdt:P17 ?c.\n",
    "    ?c sc:name ?country.\n",
    "    ?p wdt:P2043 ?l.\n",
    "}\n",
    "ORDER BY DESC (?l)\n",
    "LIMIT 1\n",
    "\"\"\"\n",
    "print(\"Results\")\n",
    "run_query(queryString)"
   ]
  },
  {
   "cell_type": "markdown",
   "id": "8650c9d6-1cf5-473c-84ed-6064124d9945",
   "metadata": {},
   "source": [
    "### 4.3 If you had to pick a city or a country to visit some cathedrals? Which one would you choose?  Based on what criteria?\n",
    "I will choose the one with the highest maximum capacity because it is supposed to be big. So let's see what it is"
   ]
  },
  {
   "cell_type": "code",
   "execution_count": 13,
   "id": "74dda618-788f-495e-9329-98a379e16c7f",
   "metadata": {},
   "outputs": [
    {
     "name": "stdout",
     "output_type": "stream",
     "text": [
      "Results\n",
      "[('p', 'http://www.wikidata.org/prop/direct/P1083'), ('pname', 'maximum capacity')]\n"
     ]
    },
    {
     "data": {
      "text/plain": [
       "1"
      ]
     },
     "execution_count": 13,
     "metadata": {},
     "output_type": "execute_result"
    }
   ],
   "source": [
    "queryString = \"\"\"\n",
    "SELECT DISTINCT ?p ?pname\n",
    "WHERE {\n",
    "    ?c wdt:P31 wd:Q2977 ;\n",
    "        ?p ?o .\n",
    "    ?p sc:name ?pname .\n",
    "    FILTER(REGEX(?pname, \".*capacity.*\"))\n",
    "}\n",
    "   \n",
    "\"\"\"\n",
    "\n",
    "print(\"Results\")\n",
    "run_query(queryString)"
   ]
  },
  {
   "cell_type": "code",
   "execution_count": 14,
   "id": "09b4cd73-7b33-41f0-bd98-428579c1876c",
   "metadata": {},
   "outputs": [
    {
     "name": "stdout",
     "output_type": "stream",
     "text": [
      "Results\n",
      "[('name', \"St. Michael's Cathedral\"), ('capacity', '12000')]\n"
     ]
    },
    {
     "data": {
      "text/plain": [
       "1"
      ]
     },
     "execution_count": 14,
     "metadata": {},
     "output_type": "execute_result"
    }
   ],
   "source": [
    "queryString = \"\"\"\n",
    "SELECT ?name ?location ?capacity\n",
    "WHERE {\n",
    "    ?p wdt:P31 wd:Q2977.\n",
    "    ?p sc:name ?name.\n",
    "    ?p wdt:P1083 ?capacity.\n",
    "}\n",
    "ORDER BY DESC (?capacity)\n",
    "LIMIT 1\n",
    "\"\"\"\n",
    "print(\"Results\")\n",
    "run_query(queryString)"
   ]
  }
 ],
 "metadata": {
  "kernelspec": {
   "display_name": "Python 3",
   "language": "python",
   "name": "python3"
  },
  "language_info": {
   "codemirror_mode": {
    "name": "ipython",
    "version": 3
   },
   "file_extension": ".py",
   "mimetype": "text/x-python",
   "name": "python",
   "nbconvert_exporter": "python",
   "pygments_lexer": "ipython3",
   "version": "3.7.10"
  }
 },
 "nbformat": 4,
 "nbformat_minor": 5
}
