{
 "cells": [
  {
   "cell_type": "markdown",
   "id": "7034c3bf-6eb0-4418-8687-7b9d2a501103",
   "metadata": {
    "tags": []
   },
   "source": [
    "# General instructions\n",
    "\n",
    "The goal of the project is to materialize a set of **exploratory workloads** over a real-world, large-scale,  open-domain KG: [WikiData](https://www.wikidata.org/wiki/Wikidata:Main_Page)\n",
    "\n",
    "An exploratory workload  is composed by a set of queries, where each query is related to the information obtained previously.\n",
    "\n",
    "An exploratory workload starts with a usually vague, open ended question, and does not assume the person issuing the workload has a clear understanding of the data contained in the target database or its structure.\n",
    "\n",
    "Remeber that:\n",
    "\n",
    "1. All the queries must run in the python notebook\n",
    "2. You can use classes and properties only if you find them via a SPARQL query that must be present in the notebook\n",
    "3. You do not delete useless queries. Keep everything that is synthatically valid \n",
    "\n",
    "```\n",
    "?p <http://schema.org/name> ?name .\n",
    "```\n",
    "    \n",
    "is the BGP returning a human-readable name of a property or a class in Wikidata.\n",
    "    \n",
    "    "
   ]
  },
  {
   "cell_type": "code",
   "execution_count": 1,
   "id": "3605c9d5-5371-49a5-be8d-d66e8f417139",
   "metadata": {},
   "outputs": [],
   "source": [
    "## SETUP used later\n",
    "\n",
    "from SPARQLWrapper import SPARQLWrapper, JSON\n",
    "\n",
    "\n",
    "prefixString = \"\"\"\n",
    "##-NOTEBOOK_CODE_HERE-##\n",
    "PREFIX wd: <http://www.wikidata.org/entity/> \n",
    "PREFIX wdt: <http://www.wikidata.org/prop/direct/> \n",
    "PREFIX sc: <http://schema.org/>\n",
    "\"\"\"\n",
    "\n",
    "# select and construct queries\n",
    "def run_query(queryString):\n",
    "    to_run = prefixString + \"\\n\" + queryString\n",
    "\n",
    "    sparql = SPARQLWrapper(\"http://a256-gc1-02.srv.aau.dk:5820/sparql\")\n",
    "    sparql.setTimeout(300)\n",
    "    sparql.setReturnFormat(JSON)\n",
    "    sparql.setQuery(to_run)\n",
    "\n",
    "    try :\n",
    "       results = sparql.query()\n",
    "       json_results = results.convert()\n",
    "       if len(json_results['results']['bindings'])==0:\n",
    "          print(\"Empty\")\n",
    "          return 0\n",
    "    \n",
    "       for bindings in json_results['results']['bindings']:\n",
    "          print( [ (var, value['value'])  for var, value in bindings.items() ] )\n",
    "\n",
    "       return len(json_results['results']['bindings'])\n",
    "\n",
    "    except Exception as e :\n",
    "        print(\"The operation failed\", e)\n",
    "    \n",
    "# ASk queries\n",
    "def run_ask_query(queryString):\n",
    "    to_run = prefixString + \"\\n\" + queryString\n",
    "\n",
    "    sparql = SPARQLWrapper(\"http://a256-gc1-03.srv.aau.dk:5820/sparql\")\n",
    "    sparql.setTimeout(300)\n",
    "    sparql.setReturnFormat(JSON)\n",
    "    sparql.setQuery(to_run)\n",
    "\n",
    "    try :\n",
    "        return sparql.query().convert()\n",
    "\n",
    "    except Exception as e :\n",
    "        print(\"The operation failed\", e)\n"
   ]
  },
  {
   "cell_type": "markdown",
   "id": "d477a59c-a68c-4c8f-9f97-8ca5294d7d27",
   "metadata": {},
   "source": [
    "# Politics Workflow Series (\"International Treaties\") \n",
    "\n",
    "Consider the following exploratory information need:\n",
    "\n",
    "> You investigating existing international treaties"
   ]
  },
  {
   "cell_type": "markdown",
   "id": "4a45c0ba-f79e-441d-bec5-84401b09db70",
   "metadata": {},
   "source": [
    "wd:Q46## Useful URIs for the current workflow\n",
    "\n",
    "\n",
    "The following are given:\n",
    "\n",
    "| IRI           | Description   | Role      |\n",
    "| -----------   | -----------   |-----------|\n",
    "| `wdt:P1647`   | subproperty   | predicate |\n",
    "| `wdt:P31`     | instance of   | predicate |\n",
    "| `wdt:P279`    | subclass      | predicate |\n",
    "| `wdt:P17`     | country       | predicate |\n",
    "| `wdt:P27`     | citizenship   | predicate |\n",
    "| `wdt:P39`     | position held   | predicate |\n",
    "| `wd:Q131569`  | treaty | node      |\n",
    "| `wd:Q46`      | Europe        | node |\n",
    "| `wd:Q38`      | Italy          | node |\n",
    "| `wd:Q21707860` | Paris Agreement           | node |\n",
    "\n",
    "\n",
    "\n",
    "Also consider\n",
    "\n",
    "```\n",
    "?p wdt:P31/wdt:P279* wd:Q131569  . \n",
    "```\n",
    "\n",
    "is the BGP to retrieve all **treaties**"
   ]
  },
  {
   "cell_type": "markdown",
   "id": "7af439fb-96e4-4dbb-a381-f19afab79f86",
   "metadata": {
    "tags": []
   },
   "source": [
    "## Workload Goals\n",
    "\n",
    "\n",
    "1. Identify the BGP to retrieve treaties that took place in E.U. countries\n",
    "\n",
    "2. Identify the BGP for obtaining which countries or people signed the treaties\n",
    "\n",
    "3. How many treaties have been published per year?\n",
    "\n",
    "4. For how many treaties we know causes or effects?\n",
    "\n",
    "5. Analyze the number of countries and how many treaties they have signed and their causes\n",
    " \n",
    "   5.1 Are there two countries that signed many common treaties?\n",
    "   \n",
    "   5.2 Which are the treaties with most signatories? Which country signed the most treaties?\n",
    "   \n",
    "   5.3 Are there countries that did not sign a treaty with the U.S. but signed a treaty with Germany?\n"
   ]
  },
  {
   "cell_type": "code",
   "execution_count": 2,
   "id": "24a853ab-830c-422c-afd3-e9e015b8b8ed",
   "metadata": {},
   "outputs": [],
   "source": [
    "# start your workflow here"
   ]
  },
  {
   "cell_type": "code",
   "execution_count": 3,
   "id": "ade01416-92e7-4ad7-b9a9-b8fb330750dc",
   "metadata": {},
   "outputs": [
    {
     "name": "stdout",
     "output_type": "stream",
     "text": [
      "Results\n",
      "[('callret-0', '3962')]\n"
     ]
    },
    {
     "data": {
      "text/plain": [
       "1"
      ]
     },
     "execution_count": 3,
     "metadata": {},
     "output_type": "execute_result"
    }
   ],
   "source": [
    "queryString = \"\"\"\n",
    "SELECT COUNT(*)\n",
    "WHERE { \n",
    "\n",
    "?p wdt:P31/wdt:P279* wd:Q131569  . \n",
    "} \n",
    "\"\"\"\n",
    "\n",
    "print(\"Results\")\n",
    "run_query(queryString)"
   ]
  },
  {
   "cell_type": "markdown",
   "id": "5ac22ef1-afa8-4088-99a7-eb4e214d5388",
   "metadata": {},
   "source": [
    "### 1. Identify the BGP to retrieve treaties that took place in E.U. countries"
   ]
  },
  {
   "cell_type": "code",
   "execution_count": 4,
   "id": "95b591bd-ef01-42a2-be2d-16c6aab9e30d",
   "metadata": {
    "tags": []
   },
   "outputs": [
    {
     "name": "stdout",
     "output_type": "stream",
     "text": [
      "Results\n",
      "[('p', 'http://www.wikidata.org/prop/direct/P2058'), ('pname', 'depositor')]\n",
      "[('p', 'http://www.wikidata.org/prop/direct/P2568'), ('pname', 'repealed by')]\n",
      "[('p', 'http://www.wikidata.org/prop/direct/P2567'), ('pname', 'amended by')]\n",
      "[('p', 'http://www.wikidata.org/prop/direct/P8739'), ('pname', 'prohibits')]\n",
      "[('p', 'http://www.wikidata.org/prop/direct/P1001'), ('pname', 'applies to jurisdiction')]\n",
      "[('p', 'http://www.wikidata.org/prop/direct/P1269'), ('pname', 'facet of')]\n",
      "[('p', 'http://www.wikidata.org/prop/direct/P131'), ('pname', 'located in the administrative territorial entity')]\n",
      "[('p', 'http://www.wikidata.org/prop/direct/P1343'), ('pname', 'described by source')]\n",
      "[('p', 'http://www.wikidata.org/prop/direct/P1365'), ('pname', 'replaces')]\n",
      "[('p', 'http://www.wikidata.org/prop/direct/P1366'), ('pname', 'replaced by')]\n",
      "[('p', 'http://www.wikidata.org/prop/direct/P138'), ('pname', 'named after')]\n",
      "[('p', 'http://www.wikidata.org/prop/direct/P1537'), ('pname', 'contributing factor of')]\n",
      "[('p', 'http://www.wikidata.org/prop/direct/P154'), ('pname', 'logo image')]\n",
      "[('p', 'http://www.wikidata.org/prop/direct/P1542'), ('pname', 'has effect')]\n",
      "[('p', 'http://www.wikidata.org/prop/direct/P155'), ('pname', 'follows')]\n",
      "[('p', 'http://www.wikidata.org/prop/direct/P156'), ('pname', 'followed by')]\n",
      "[('p', 'http://www.wikidata.org/prop/direct/P17'), ('pname', 'country')]\n",
      "[('p', 'http://www.wikidata.org/prop/direct/P18'), ('pname', 'image')]\n",
      "[('p', 'http://www.wikidata.org/prop/direct/P1889'), ('pname', 'different from')]\n",
      "[('p', 'http://www.wikidata.org/prop/direct/P195'), ('pname', 'collection')]\n",
      "[('p', 'http://www.wikidata.org/prop/direct/P2348'), ('pname', 'time period')]\n",
      "[('p', 'http://www.wikidata.org/prop/direct/P2388'), ('pname', 'office held by head of the organization')]\n",
      "[('p', 'http://www.wikidata.org/prop/direct/P242'), ('pname', 'locator map image')]\n",
      "[('p', 'http://www.wikidata.org/prop/direct/P276'), ('pname', 'location')]\n",
      "[('p', 'http://www.wikidata.org/prop/direct/P279'), ('pname', 'subclass of')]\n",
      "[('p', 'http://www.wikidata.org/prop/direct/P291'), ('pname', 'place of publication')]\n",
      "[('p', 'http://www.wikidata.org/prop/direct/P2959'), ('pname', 'permanent duplicated item')]\n",
      "[('p', 'http://www.wikidata.org/prop/direct/P30'), ('pname', 'continent')]\n",
      "[('p', 'http://www.wikidata.org/prop/direct/P31'), ('pname', 'instance of')]\n",
      "[('p', 'http://www.wikidata.org/prop/direct/P361'), ('pname', 'part of')]\n",
      "[('p', 'http://www.wikidata.org/prop/direct/P37'), ('pname', 'official language')]\n",
      "[('p', 'http://www.wikidata.org/prop/direct/P407'), ('pname', 'language of work or name')]\n",
      "[('p', 'http://www.wikidata.org/prop/direct/P457'), ('pname', 'foundational text')]\n",
      "[('p', 'http://www.wikidata.org/prop/direct/P460'), ('pname', 'said to be the same as')]\n",
      "[('p', 'http://www.wikidata.org/prop/direct/P50'), ('pname', 'author')]\n",
      "[('p', 'http://www.wikidata.org/prop/direct/P5008'), ('pname', 'on focus list of Wikimedia project')]\n",
      "[('p', 'http://www.wikidata.org/prop/direct/P527'), ('pname', 'has part')]\n",
      "[('p', 'http://www.wikidata.org/prop/direct/P607'), ('pname', 'conflict')]\n",
      "[('p', 'http://www.wikidata.org/prop/direct/P6104'), ('pname', 'maintained by WikiProject')]\n",
      "[('p', 'http://www.wikidata.org/prop/direct/P6802'), ('pname', 'related image')]\n",
      "[('p', 'http://www.wikidata.org/prop/direct/P706'), ('pname', 'located in/on physical feature')]\n",
      "[('p', 'http://www.wikidata.org/prop/direct/P710'), ('pname', 'participant')]\n",
      "[('p', 'http://www.wikidata.org/prop/direct/P747'), ('pname', 'has edition or translation')]\n",
      "[('p', 'http://www.wikidata.org/prop/direct/P7561'), ('pname', 'category for the interior of the item')]\n",
      "[('p', 'http://www.wikidata.org/prop/direct/P793'), ('pname', 'significant event')]\n",
      "[('p', 'http://www.wikidata.org/prop/direct/P797'), ('pname', 'authority')]\n",
      "[('p', 'http://www.wikidata.org/prop/direct/P828'), ('pname', 'has cause')]\n",
      "[('p', 'http://www.wikidata.org/prop/direct/P856'), ('pname', 'official website')]\n",
      "[('p', 'http://www.wikidata.org/prop/direct/P859'), ('pname', 'sponsor')]\n",
      "[('p', 'http://www.wikidata.org/prop/direct/P8596'), ('pname', 'category for the exterior of the item')]\n",
      "[('p', 'http://www.wikidata.org/prop/direct/P910'), ('pname', \"topic's main category\")]\n",
      "[('p', 'http://www.wikidata.org/prop/direct/P921'), ('pname', 'main subject')]\n",
      "[('p', 'http://www.wikidata.org/prop/direct/P953'), ('pname', 'full work available at URL')]\n",
      "[('p', 'http://www.wikidata.org/prop/direct/P973'), ('pname', 'described at URL')]\n",
      "[('p', 'http://www.wikidata.org/prop/direct/P989'), ('pname', 'spoken text audio')]\n",
      "[('p', 'http://www.wikidata.org/prop/direct/P996'), ('pname', 'document file on Wikimedia Commons')]\n",
      "[('p', 'http://www.wikidata.org/prop/direct/P1433'), ('pname', 'published in')]\n",
      "[('p', 'http://www.wikidata.org/prop/direct/P629'), ('pname', 'edition or translation of')]\n",
      "[('p', 'http://www.wikidata.org/prop/direct/P1891'), ('pname', 'signatory')]\n",
      "[('p', 'http://www.wikidata.org/prop/direct/P3148'), ('pname', 'repeals')]\n",
      "[('p', 'http://www.wikidata.org/prop/direct/P6193'), ('pname', 'ratified by')]\n",
      "[('p', 'http://www.wikidata.org/prop/direct/P1012'), ('pname', 'including')]\n",
      "[('p', 'http://www.wikidata.org/prop/direct/P112'), ('pname', 'founded by')]\n",
      "[('p', 'http://www.wikidata.org/prop/direct/P186'), ('pname', 'made from material')]\n",
      "[('p', 'http://www.wikidata.org/prop/direct/P2541'), ('pname', 'operating area')]\n",
      "[('p', 'http://www.wikidata.org/prop/direct/P2868'), ('pname', 'subject has role')]\n",
      "[('p', 'http://www.wikidata.org/prop/direct/P2888'), ('pname', 'exact match')]\n",
      "[('p', 'http://www.wikidata.org/prop/direct/P301'), ('pname', \"category's main topic\")]\n",
      "[('p', 'http://www.wikidata.org/prop/direct/P452'), ('pname', 'industry')]\n",
      "[('p', 'http://www.wikidata.org/prop/direct/P467'), ('pname', 'legislated by')]\n",
      "[('p', 'http://www.wikidata.org/prop/direct/P485'), ('pname', 'archives at')]\n",
      "[('p', 'http://www.wikidata.org/prop/direct/P6216'), ('pname', 'copyright status')]\n",
      "[('p', 'http://www.wikidata.org/prop/direct/P6363'), ('pname', 'WordLift URL')]\n",
      "[('p', 'http://www.wikidata.org/prop/direct/P655'), ('pname', 'translator')]\n",
      "[('p', 'http://www.wikidata.org/prop/direct/P92'), ('pname', 'main regulatory text')]\n",
      "[('p', 'http://www.wikidata.org/prop/direct/P1582'), ('pname', 'natural product of taxon')]\n",
      "[('p', 'http://www.wikidata.org/prop/direct/P6224'), ('pname', 'level of description')]\n",
      "[('p', 'http://www.wikidata.org/prop/direct/P3712'), ('pname', 'objective of project or action')]\n",
      "[('p', 'http://www.wikidata.org/prop/direct/P170'), ('pname', 'creator')]\n",
      "[('p', 'http://www.wikidata.org/prop/direct/P2670'), ('pname', 'has parts of the class')]\n",
      "[('p', 'http://www.wikidata.org/prop/direct/P366'), ('pname', 'use')]\n",
      "[('p', 'http://www.wikidata.org/prop/direct/P443'), ('pname', 'pronunciation audio')]\n",
      "[('p', 'http://www.wikidata.org/prop/direct/P7153'), ('pname', 'significant place')]\n",
      "[('p', 'http://www.wikidata.org/prop/direct/P123'), ('pname', 'publisher')]\n",
      "[('p', 'http://www.wikidata.org/prop/direct/P1552'), ('pname', 'has quality')]\n",
      "[('p', 'http://www.wikidata.org/prop/direct/P159'), ('pname', 'headquarters location')]\n",
      "[('p', 'http://www.wikidata.org/prop/direct/P495'), ('pname', 'country of origin')]\n",
      "[('p', 'http://www.wikidata.org/prop/direct/P737'), ('pname', 'influenced by')]\n",
      "[('p', 'http://www.wikidata.org/prop/direct/P7867'), ('pname', 'category for maps')]\n",
      "[('p', 'http://www.wikidata.org/prop/direct/P1478'), ('pname', 'has immediate cause')]\n",
      "[('p', 'http://www.wikidata.org/prop/direct/P1896'), ('pname', 'source website for the property')]\n",
      "[('p', 'http://www.wikidata.org/prop/direct/P2378'), ('pname', 'issued by')]\n",
      "[('p', 'http://www.wikidata.org/prop/direct/P2699'), ('pname', 'URL')]\n",
      "[('p', 'http://www.wikidata.org/prop/direct/P1435'), ('pname', 'heritage designation')]\n",
      "[('p', 'http://www.wikidata.org/prop/direct/P1621'), ('pname', 'detail map')]\n",
      "[('p', 'http://www.wikidata.org/prop/direct/P1687'), ('pname', 'Wikidata property')]\n",
      "[('p', 'http://www.wikidata.org/prop/direct/P38'), ('pname', 'currency')]\n",
      "[('p', 'http://www.wikidata.org/prop/direct/P463'), ('pname', 'member of')]\n",
      "[('p', 'http://www.wikidata.org/prop/direct/P664'), ('pname', 'organizer')]\n",
      "[('p', 'http://www.wikidata.org/prop/direct/P740'), ('pname', 'location of formation')]\n",
      "[('p', 'http://www.wikidata.org/prop/direct/P98'), ('pname', 'editor')]\n",
      "[('p', 'http://www.wikidata.org/prop/direct/P4032'), ('pname', 'reviewed by')]\n",
      "[('p', 'http://www.wikidata.org/prop/direct/P805'), ('pname', 'statement is subject of')]\n",
      "[('p', 'http://www.wikidata.org/prop/direct/P101'), ('pname', 'field of work')]\n",
      "[('p', 'http://www.wikidata.org/prop/direct/P1957'), ('pname', 'Wikisource index page URL')]\n",
      "[('p', 'http://www.wikidata.org/prop/direct/P518'), ('pname', 'applies to part')]\n",
      "[('p', 'http://www.wikidata.org/prop/direct/P1142'), ('pname', 'political ideology')]\n",
      "[('p', 'http://www.wikidata.org/prop/direct/P127'), ('pname', 'owned by')]\n",
      "[('p', 'http://www.wikidata.org/prop/direct/P282'), ('pname', 'writing system')]\n",
      "[('p', 'http://www.wikidata.org/prop/direct/P972'), ('pname', 'catalog')]\n",
      "[('p', 'http://www.wikidata.org/prop/direct/P3719'), ('pname', 'regulated by')]\n",
      "[('p', 'http://www.wikidata.org/prop/direct/P1412'), ('pname', 'languages spoken, written or signed')]\n",
      "[('p', 'http://www.wikidata.org/prop/direct/P6886'), ('pname', 'writing language')]\n",
      "[('p', 'http://www.wikidata.org/prop/direct/P1393'), ('pname', 'proxy')]\n",
      "[('p', 'http://www.wikidata.org/prop/direct/P122'), ('pname', 'basic form of government')]\n",
      "[('p', 'http://www.wikidata.org/prop/direct/P36'), ('pname', 'capital')]\n",
      "[('p', 'http://www.wikidata.org/prop/direct/P749'), ('pname', 'parent organization')]\n",
      "[('p', 'http://www.wikidata.org/prop/direct/P948'), ('pname', 'page banner')]\n",
      "[('p', 'http://www.wikidata.org/prop/direct/P1071'), ('pname', 'location of creation')]\n",
      "[('p', 'http://www.wikidata.org/prop/direct/P1817'), ('pname', 'addressee')]\n",
      "[('p', 'http://www.wikidata.org/prop/direct/P1424'), ('pname', \"topic's main template\")]\n",
      "[('p', 'http://www.wikidata.org/prop/direct/P3342'), ('pname', 'significant person')]\n",
      "[('p', 'http://www.wikidata.org/prop/direct/P51'), ('pname', 'audio')]\n",
      "[('p', 'http://www.wikidata.org/prop/direct/P2596'), ('pname', 'culture')]\n",
      "[('p', 'http://www.wikidata.org/prop/direct/P3975'), ('pname', 'secretary general')]\n",
      "[('p', 'http://www.wikidata.org/prop/direct/P837'), ('pname', 'day in year for periodic occurrence')]\n",
      "[('p', 'http://www.wikidata.org/prop/direct/P1801'), ('pname', 'commemorative plaque image')]\n",
      "[('p', 'http://www.wikidata.org/prop/direct/P421'), ('pname', 'located in time zone')]\n",
      "[('p', 'http://www.wikidata.org/prop/direct/P144'), ('pname', 'based on')]\n",
      "[('p', 'http://www.wikidata.org/prop/direct/P126'), ('pname', 'maintained by')]\n"
     ]
    },
    {
     "data": {
      "text/plain": [
       "130"
      ]
     },
     "execution_count": 4,
     "metadata": {},
     "output_type": "execute_result"
    }
   ],
   "source": [
    "queryString = \"\"\"\n",
    "SELECT DISTINCT ?p ?pname\n",
    "WHERE {\n",
    "    ?sc wdt:P31/wdt:P279* wd:Q131569 ;\n",
    "        ?p ?o . FILTER(!isLiteral(?o))\n",
    "    ?p sc:name ?pname .\n",
    "}\n",
    "   \n",
    "\"\"\"\n",
    "\n",
    "print(\"Results\")\n",
    "run_query(queryString)"
   ]
  },
  {
   "cell_type": "code",
   "execution_count": 5,
   "id": "a69c3e41-c2b4-4aaf-bcc5-817fe29ccda6",
   "metadata": {},
   "outputs": [
    {
     "name": "stdout",
     "output_type": "stream",
     "text": [
      "Results\n",
      "[('pname', 'Treaty of Craiova')]\n",
      "[('pname', 'Anglo-Egyptian treaty of 1936')]\n",
      "[('pname', 'Treaty of London')]\n",
      "[('pname', 'Treaty on Open Skies')]\n",
      "[('pname', 'Berne Convention for the Protection of Literary and Artistic Works')]\n"
     ]
    },
    {
     "data": {
      "text/plain": [
       "5"
      ]
     },
     "execution_count": 5,
     "metadata": {},
     "output_type": "execute_result"
    }
   ],
   "source": [
    "queryString = \"\"\"\n",
    "SELECT ?pname\n",
    "WHERE { \n",
    "    ?p wdt:P31/wdt:P279* wd:Q131569 .\n",
    "    ?p sc:name ?pname .\n",
    "    ?p wdt:P276 ?l. \n",
    "    ?l wdt:P30 wd:Q46.\n",
    "}\n",
    "LIMIT 5\n",
    "\"\"\"\n",
    "\n",
    "print(\"Results\")\n",
    "run_query(queryString)"
   ]
  },
  {
   "cell_type": "markdown",
   "id": "de98116a-0ddd-4ccf-b6f4-146783e010de",
   "metadata": {},
   "source": [
    "### 2. Identify the BGP for obtaining which countries or people signed the treaties"
   ]
  },
  {
   "cell_type": "code",
   "execution_count": 6,
   "id": "bcc5710c-f133-4e05-b01f-bb0da7f48e65",
   "metadata": {},
   "outputs": [
    {
     "name": "stdout",
     "output_type": "stream",
     "text": [
      "Results\n",
      "[('p', 'http://www.wikidata.org/prop/direct/P793'), ('pname', 'significant event')]\n",
      "[('p', 'http://www.wikidata.org/prop/direct/P1891'), ('pname', 'signatory')]\n",
      "[('p', 'http://www.wikidata.org/prop/direct/P7153'), ('pname', 'significant place')]\n",
      "[('p', 'http://www.wikidata.org/prop/direct/P1435'), ('pname', 'heritage designation')]\n",
      "[('p', 'http://www.wikidata.org/prop/direct/P1412'), ('pname', 'languages spoken, written or signed')]\n",
      "[('p', 'http://www.wikidata.org/prop/direct/P3342'), ('pname', 'significant person')]\n"
     ]
    },
    {
     "data": {
      "text/plain": [
       "6"
      ]
     },
     "execution_count": 6,
     "metadata": {},
     "output_type": "execute_result"
    }
   ],
   "source": [
    "queryString = \"\"\"\n",
    "SELECT DISTINCT ?p ?pname\n",
    "WHERE {\n",
    "    ?sc wdt:P31/wdt:P279* wd:Q131569 ;\n",
    "        ?p ?o . FILTER(!isLiteral(?o))\n",
    "    ?p sc:name ?pname .\n",
    "    FILTER(REGEX(?pname, \".*sign.*\"))\n",
    "}\n",
    "   \n",
    "\"\"\"\n",
    "\n",
    "print(\"Results\")\n",
    "run_query(queryString)"
   ]
  },
  {
   "cell_type": "code",
   "execution_count": 7,
   "id": "88b7df35-7d62-4e3d-b672-a6c89aa17e95",
   "metadata": {},
   "outputs": [
    {
     "name": "stdout",
     "output_type": "stream",
     "text": [
      "Results\n",
      "[('pname', 'Chanyuan Treaty'), ('callret-1', 'Liao dynasty, Northern Song Dynasty')]\n",
      "[('pname', 'Treaty of Athis-sur-Orge'), ('callret-1', 'County of Flanders')]\n",
      "[('pname', 'Treaty of Melno'), ('callret-1', 'Grand Duchy of Lithuania, Kingdom of Poland, Teutonic Order')]\n",
      "[('pname', 'British-Brazilian Treaty of 1826'), ('callret-1', 'Empire of Brazil, United Kingdom of Great Britain and Ireland')]\n",
      "[('pname', 'Nice Agreement Concerning the International Classification of Goods and Services for the Purposes of the Registration of Marks'), ('callret-1', 'Austria, Belgium, Denmark, France, Germany, Hungary, Italy, Lebanon, Liechtenstein, Luxembourg, Monaco, Morocco, Netherlands, Norway, Portugal, Romania, Spain, Sweden, Switzerland, Tunisia, Turkey, United Kingdom')]\n",
      "[('pname', 'General Security Agreement between the United Kingdom of Great Britain and Northern Ireland and the Kingdom of Spain concerning the protection of classified information exchanged between the two countries'), ('callret-1', 'Spain, United Kingdom')]\n",
      "[('pname', 'Treaty of Huế'), ('callret-1', 'Jules Patenôtre des Noyers, Nguyen Van Tuong, Phạm Thận Duật')]\n",
      "[('pname', 'Anglo-Soviet Agreement'), ('callret-1', 'Soviet Union, United Kingdom')]\n",
      "[('pname', 'Westminster Convention'), ('callret-1', 'Great Britain, Kingdom of Prussia')]\n",
      "[('pname', 'Inter-American Convention on International Trade Arbitration'), ('callret-1', 'Argentina, Bolivia, Brazil, Chile, Colombia, Costa Rica, Dominican Republic, Ecuador, El Salvador, Guatemala, Honduras, Mexico, Nicaragua, Panama, Paraguay, Peru, United States of America, Uruguay, Venezuela')]\n"
     ]
    },
    {
     "data": {
      "text/plain": [
       "10"
      ]
     },
     "execution_count": 7,
     "metadata": {},
     "output_type": "execute_result"
    }
   ],
   "source": [
    "queryString = \"\"\"\n",
    "SELECT ?pname (GROUP_CONCAT(DISTINCT ?loc; SEPARATOR=\", \"))\n",
    "WHERE { \n",
    "    ?p wdt:P31/wdt:P279* wd:Q131569 .\n",
    "    ?p sc:name ?pname .\n",
    "    ?p wdt:P1891 ?l.\n",
    "    ?l sc:name ?loc\n",
    "}\n",
    "GROUP BY ?pname\n",
    "LIMIT 10\n",
    "\"\"\"\n",
    "\n",
    "print(\"Results\")\n",
    "run_query(queryString)"
   ]
  },
  {
   "cell_type": "markdown",
   "id": "7044f4ab-1dac-4fbf-88be-3aad0d3eee10",
   "metadata": {},
   "source": [
    "### 3. How many treaties have been published per year?"
   ]
  },
  {
   "cell_type": "code",
   "execution_count": 8,
   "id": "f65db02d-69d2-48f9-923d-f235d4fe96a7",
   "metadata": {},
   "outputs": [
    {
     "name": "stdout",
     "output_type": "stream",
     "text": [
      "Results\n",
      "[('p', 'http://www.wikidata.org/prop/direct/P1619'), ('pname', 'date of official opening')]\n",
      "[('p', 'http://www.wikidata.org/prop/direct/P577'), ('pname', 'publication date')]\n",
      "[('p', 'http://www.wikidata.org/prop/direct/P7588'), ('pname', 'effective date')]\n",
      "[('p', 'http://www.wikidata.org/prop/direct/P576'), ('pname', 'dissolved, abolished or demolished date')]\n",
      "[('p', 'http://www.wikidata.org/prop/direct/P6949'), ('pname', 'announcement date')]\n",
      "[('p', 'http://www.wikidata.org/prop/direct/P569'), ('pname', 'date of birth')]\n"
     ]
    },
    {
     "data": {
      "text/plain": [
       "6"
      ]
     },
     "execution_count": 8,
     "metadata": {},
     "output_type": "execute_result"
    }
   ],
   "source": [
    "queryString = \"\"\"\n",
    "SELECT DISTINCT ?p ?pname\n",
    "WHERE {\n",
    "    ?sc wdt:P31/wdt:P279* wd:Q131569 ;\n",
    "        ?p ?o . FILTER(isLiteral(?o))\n",
    "    ?p sc:name ?pname .\n",
    "    FILTER(REGEX(?pname, \".*[D|d]ate.*\"))\n",
    "}\n",
    "   \n",
    "\"\"\"\n",
    "\n",
    "print(\"Results\")\n",
    "run_query(queryString)"
   ]
  },
  {
   "cell_type": "code",
   "execution_count": 9,
   "id": "b0d6354f-3ef9-4a06-93d2-40c2181df7f7",
   "metadata": {},
   "outputs": [
    {
     "name": "stdout",
     "output_type": "stream",
     "text": [
      "Results\n",
      "[('callret-0', '1929'), ('callret-1', '20')]\n",
      "[('callret-0', '1926'), ('callret-1', '18')]\n",
      "[('callret-0', '1924'), ('callret-1', '18')]\n",
      "[('callret-0', '1931'), ('callret-1', '17')]\n",
      "[('callret-0', '1932'), ('callret-1', '16')]\n",
      "[('callret-0', '2000'), ('callret-1', '16')]\n",
      "[('callret-0', '1936'), ('callret-1', '13')]\n",
      "[('callret-0', '1927'), ('callret-1', '11')]\n",
      "[('callret-0', '1922'), ('callret-1', '9')]\n",
      "[('callret-0', '1928'), ('callret-1', '9')]\n"
     ]
    },
    {
     "data": {
      "text/plain": [
       "10"
      ]
     },
     "execution_count": 9,
     "metadata": {},
     "output_type": "execute_result"
    }
   ],
   "source": [
    "queryString = \"\"\"\n",
    "\n",
    "SELECT (year(?date)) COUNT(DISTINCT ?p)\n",
    "WHERE { \n",
    "    ?p wdt:P31/wdt:P279* wd:Q131569.\n",
    "    ?p wdt:P577 ?date .\n",
    "} \n",
    "GROUP BY (year(?date))\n",
    "ORDER BY DESC (COUNT(DISTINCT ?p))\n",
    "LIMIT 10\n",
    "\"\"\"\n",
    "\n",
    "print(\"Results\")\n",
    "run_query(queryString)"
   ]
  },
  {
   "cell_type": "markdown",
   "id": "d43e4503-fe84-44e0-b808-80ecbcce5b14",
   "metadata": {},
   "source": [
    "### 4. For how many treaties we know causes or effects?"
   ]
  },
  {
   "cell_type": "code",
   "execution_count": 10,
   "id": "1f954a03-dfac-4932-8226-33142aa48a33",
   "metadata": {},
   "outputs": [
    {
     "name": "stdout",
     "output_type": "stream",
     "text": [
      "Results\n",
      "[('p', 'http://www.wikidata.org/prop/direct/P1542'), ('pname', 'has effect')]\n",
      "[('p', 'http://www.wikidata.org/prop/direct/P828'), ('pname', 'has cause')]\n",
      "[('p', 'http://www.wikidata.org/prop/direct/P1478'), ('pname', 'has immediate cause')]\n"
     ]
    },
    {
     "data": {
      "text/plain": [
       "3"
      ]
     },
     "execution_count": 10,
     "metadata": {},
     "output_type": "execute_result"
    }
   ],
   "source": [
    "queryString = \"\"\"\n",
    "SELECT DISTINCT ?p ?pname\n",
    "WHERE {\n",
    "    ?sc wdt:P31/wdt:P279* wd:Q131569 ;\n",
    "        ?p ?o . FILTER(!isLiteral(?o))\n",
    "    ?p sc:name ?pname .\n",
    "    FILTER(REGEX(?pname, \".*[C|c]ause.*\") || REGEX(?pname, \".*[E|e]ffect.*\"))\n",
    "}\n",
    "   \n",
    "\"\"\"\n",
    "\n",
    "print(\"Results\")\n",
    "run_query(queryString)"
   ]
  },
  {
   "cell_type": "code",
   "execution_count": 11,
   "id": "f73120d6-ccea-4b9c-9b66-6fa08e1af0d9",
   "metadata": {},
   "outputs": [
    {
     "name": "stdout",
     "output_type": "stream",
     "text": [
      "Results\n",
      "[('callret-0', '53')]\n"
     ]
    },
    {
     "data": {
      "text/plain": [
       "1"
      ]
     },
     "execution_count": 11,
     "metadata": {},
     "output_type": "execute_result"
    }
   ],
   "source": [
    "queryString = \"\"\"\n",
    "SELECT COUNT(distinct ?p)\n",
    "WHERE {\n",
    "    {\n",
    "    ?p wdt:P31/wdt:P279* wd:Q131569 .\n",
    "    ?p wdt:P1542 ?e.\n",
    "    }\n",
    "    UNION\n",
    "    {\n",
    "    ?p wdt:P31/wdt:P279* wd:Q131569 .\n",
    "    ?p wdt:P828 ?c.\n",
    "    }\n",
    "}\n",
    "\"\"\"\n",
    "\n",
    "print(\"Results\")\n",
    "run_query(queryString)"
   ]
  },
  {
   "cell_type": "markdown",
   "id": "4e417bbd-ebc4-481d-b6ed-0a04cc23929a",
   "metadata": {},
   "source": [
    "### 5.1 Are there two countries that signed many common treaties?"
   ]
  },
  {
   "cell_type": "markdown",
   "id": "6773c42d-98ed-45ef-a455-68cbe62dcb3e",
   "metadata": {},
   "source": [
    "###  5.2 Which are the treaties with most signatories? Which country signed the most treaties?"
   ]
  },
  {
   "cell_type": "code",
   "execution_count": 12,
   "id": "c274c610-c7d9-46bd-9552-d3f861cfc19b",
   "metadata": {},
   "outputs": [
    {
     "name": "stdout",
     "output_type": "stream",
     "text": [
      "Results\n",
      "[('pname', 'Universal Copyright Convention'), ('callret-1', '97')]\n",
      "[('pname', 'Treaty on the Prohibition of Nuclear Weapons'), ('callret-1', '86')]\n",
      "[('pname', 'Marrakesh Treaty to Facilitate Access to Published Works for Persons Who Are Blind, Visually Impaired or Otherwise Print Disabled'), ('callret-1', '80')]\n",
      "[('pname', 'Beijing Treaty on Audiovisual Performances'), ('callret-1', '74')]\n",
      "[('pname', 'Energy Charter Treaty'), ('callret-1', '54')]\n",
      "[('pname', 'Patent Law Treaty'), ('callret-1', '54')]\n",
      "[('pname', 'Singapore Treaty on the Law of Trademarks'), ('callret-1', '53')]\n",
      "[('pname', 'Trademark Law Treaty'), ('callret-1', '51')]\n",
      "[('pname', 'World Intellectual Property Organization Copyright Treaty'), ('callret-1', '51')]\n",
      "[('pname', 'Convention Establishing the World Intellectual Property Organization'), ('callret-1', '50')]\n"
     ]
    },
    {
     "data": {
      "text/plain": [
       "10"
      ]
     },
     "execution_count": 12,
     "metadata": {},
     "output_type": "execute_result"
    }
   ],
   "source": [
    "queryString = \"\"\"\n",
    "SELECT ?pname COUNT(DISTINCT ?loc)\n",
    "WHERE { \n",
    "    ?p wdt:P31/wdt:P279* wd:Q131569 .\n",
    "    ?p sc:name ?pname .\n",
    "    ?p wdt:P1891 ?l.\n",
    "    ?l sc:name ?loc\n",
    "}\n",
    "GROUP BY ?pname\n",
    "ORDER BY DESC (COUNT(DISTINCT ?loc))\n",
    "LIMIT 10\n",
    "\"\"\"\n",
    "\n",
    "print(\"Results\")\n",
    "run_query(queryString)"
   ]
  },
  {
   "cell_type": "code",
   "execution_count": 13,
   "id": "aec46015-4bb0-4f04-b828-0da04ffcab45",
   "metadata": {},
   "outputs": [
    {
     "name": "stdout",
     "output_type": "stream",
     "text": [
      "Results\n",
      "[('country', 'France'), ('callret-1', '79')]\n",
      "[('country', 'Spain'), ('callret-1', '75')]\n",
      "[('country', 'United States of America'), ('callret-1', '69')]\n",
      "[('country', 'Germany'), ('callret-1', '62')]\n",
      "[('country', 'United Kingdom'), ('callret-1', '51')]\n",
      "[('country', 'Italy'), ('callret-1', '44')]\n",
      "[('country', 'Russian Empire'), ('callret-1', '43')]\n",
      "[('country', 'Austria'), ('callret-1', '42')]\n",
      "[('country', 'Switzerland'), ('callret-1', '42')]\n",
      "[('country', 'Sweden'), ('callret-1', '40')]\n"
     ]
    },
    {
     "data": {
      "text/plain": [
       "10"
      ]
     },
     "execution_count": 13,
     "metadata": {},
     "output_type": "execute_result"
    }
   ],
   "source": [
    "queryString = \"\"\"\n",
    "SELECT ?country COUNT(DISTINCT ?p)\n",
    "WHERE { \n",
    "    ?p wdt:P31/wdt:P279* wd:Q131569 .\n",
    "    ?p sc:name ?pname .\n",
    "    ?p wdt:P1891 ?c.\n",
    "    ?c sc:name ?country\n",
    "}\n",
    "GROUP BY ?country\n",
    "ORDER BY DESC (COUNT(DISTINCT ?p))\n",
    "LIMIT 10\n",
    "\"\"\"\n",
    "\n",
    "print(\"Results\")\n",
    "run_query(queryString)"
   ]
  },
  {
   "cell_type": "markdown",
   "id": "4b3ad5d4-d307-4e30-8fe9-63c9706a0ecb",
   "metadata": {},
   "source": [
    "### 5.3 Are there countries that did not sign a treaty with the U.S. but signed a treaty with Germany?"
   ]
  },
  {
   "cell_type": "code",
   "execution_count": null,
   "id": "a8511119-6d06-4e44-89f7-814064c65986",
   "metadata": {},
   "outputs": [],
   "source": []
  }
 ],
 "metadata": {
  "kernelspec": {
   "display_name": "Python 3",
   "language": "python",
   "name": "python3"
  },
  "language_info": {
   "codemirror_mode": {
    "name": "ipython",
    "version": 3
   },
   "file_extension": ".py",
   "mimetype": "text/x-python",
   "name": "python",
   "nbconvert_exporter": "python",
   "pygments_lexer": "ipython3",
   "version": "3.7.10"
  }
 },
 "nbformat": 4,
 "nbformat_minor": 5
}
