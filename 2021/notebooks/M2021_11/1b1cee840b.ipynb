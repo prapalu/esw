{
 "cells": [
  {
   "cell_type": "markdown",
   "id": "7034c3bf-6eb0-4418-8687-7b9d2a501103",
   "metadata": {},
   "source": [
    "# General instructions\n",
    "\n",
    "The goal of the project is to materialize a set of **exploratory workloads** over a real-world, large-scale,  open-domain KG: [WikiData](https://www.wikidata.org/wiki/Wikidata:Main_Page)\n",
    "\n",
    "An exploratory workload  is composed by a set of queries, where each query is related to the information obtained previously.\n",
    "\n",
    "An exploratory workload starts with a usually vague, open ended question, and does not assume the person issuing the workload has a clear understanding of the data contained in the target database or its structure.\n",
    "\n",
    "Remeber that:\n",
    "\n",
    "1. All the queries must run in the python notebook\n",
    "2. You can use classes and properties only if you find them via a SPARQL query that must be present in the notebook\n",
    "3. You do not delete useless queries. Keep everything that is synthatically valid \n",
    "\n",
    "```\n",
    "?p <http://schema.org/name> ?name .\n",
    "```\n",
    "    \n",
    "is the BGP returning a human-readable name of a property or a class in Wikidata.\n",
    "    \n",
    "    "
   ]
  },
  {
   "cell_type": "code",
   "execution_count": 2,
   "id": "3605c9d5-5371-49a5-be8d-d66e8f417139",
   "metadata": {},
   "outputs": [],
   "source": [
    "## SETUP used later\n",
    "\n",
    "from SPARQLWrapper import SPARQLWrapper, JSON\n",
    "\n",
    "\n",
    "prefixString = \"\"\"\n",
    "##-1b1cee840b-##\n",
    "PREFIX wd: <http://www.wikidata.org/entity/> \n",
    "PREFIX wdt: <http://www.wikidata.org/prop/direct/> \n",
    "PREFIX sc: <http://schema.org/>\n",
    "\"\"\"\n",
    "\n",
    "# select and construct queries\n",
    "def run_query(queryString):\n",
    "    to_run = prefixString + \"\\n\" + queryString\n",
    "\n",
    "    sparql = SPARQLWrapper(\"http://a256-gc1-02.srv.aau.dk:5820/sparql\")\n",
    "    sparql.setTimeout(300)\n",
    "    sparql.setReturnFormat(JSON)\n",
    "    sparql.setQuery(to_run)\n",
    "\n",
    "    try :\n",
    "       results = sparql.query()\n",
    "       json_results = results.convert()\n",
    "       if len(json_results['results']['bindings'])==0:\n",
    "          print(\"Empty\")\n",
    "          return 0\n",
    "    \n",
    "       for bindings in json_results['results']['bindings']:\n",
    "          print( [ (var, value['value'])  for var, value in bindings.items() ] )\n",
    "\n",
    "       return len(json_results['results']['bindings'])\n",
    "\n",
    "    except Exception as e :\n",
    "        print(\"The operation failed\", e)\n",
    "    \n",
    "# ASk queries\n",
    "def run_ask_query(queryString):\n",
    "    to_run = prefixString + \"\\n\" + queryString\n",
    "\n",
    "    sparql = SPARQLWrapper(\"http://a256-gc1-03.srv.aau.dk:5820/sparql\")\n",
    "    sparql.setTimeout(300)\n",
    "    sparql.setReturnFormat(JSON)\n",
    "    sparql.setQuery(to_run)\n",
    "\n",
    "    try :\n",
    "        return sparql.query().convert()\n",
    "\n",
    "    except Exception as e :\n",
    "        print(\"The operation failed\", e)\n"
   ]
  },
  {
   "cell_type": "markdown",
   "id": "d477a59c-a68c-4c8f-9f97-8ca5294d7d27",
   "metadata": {},
   "source": [
    "# GEO Workflow Series (\"European Cathedrals\") \n",
    "\n",
    "Consider the following exploratory information need:\n",
    "\n",
    "> Explore how many cathedrals exists in the U.K., Italy, and France and the information about them"
   ]
  },
  {
   "cell_type": "markdown",
   "id": "4a45c0ba-f79e-441d-bec5-84401b09db70",
   "metadata": {},
   "source": [
    "## Useful URIs for the current workflow\n",
    "\n",
    "\n",
    "The following are given:\n",
    "\n",
    "| IRI           | Description   | Role      |\n",
    "| -----------   | -----------   |-----------|\n",
    "| `wdt:P1647`   | subproperty   | predicate |\n",
    "| `wdt:P31`     | instance of   | predicate |\n",
    "| `wdt:P279`    | subclass      | predicate |\n",
    "| `wdt:P106`    | occupation    | predicate |\n",
    "| `wdt:P17`     | country   | predicate |\n",
    "| `wd:Q2977`    | Cathedral     | node      |\n",
    "| `wd:Q29265`   | Canterbury Cathedral   | node |\n",
    "| `wd:Q38`      | Italy         | node |\n",
    "| `wd:Q142`     | France        | node |\n",
    "| `wd:Q145`     | U.K.          | node |\n",
    "| `wd:Q46261`   | Romanesque architecture | node |\n",
    "\n",
    "\n",
    "Also consider\n",
    "\n",
    "```\n",
    "?p wdt:P17 wd:Q142  . \n",
    "?p wdt:P31 wd:Q2977  . \n",
    "```\n",
    "\n",
    "is the BGP to retrieve all **French cathedrals**"
   ]
  },
  {
   "cell_type": "markdown",
   "id": "7af439fb-96e4-4dbb-a381-f19afab79f86",
   "metadata": {
    "tags": []
   },
   "source": [
    "## Workload Goals\n",
    "\n",
    "1. Identify the BGP to obtain relevant attributes of a cathedral, e.g., the inception or the height\n",
    "\n",
    "2. Identify the BGP that connect each cathedreal to other relevant entities, e.g., architectural style and city\n",
    "\n",
    "3. Which country hosts the largest number of cathedrals?\n",
    "\n",
    "4. Analyze cathedrals across architectural styles in each city\n",
    " \n",
    "   4.1 Which styles exists in each country, and how many cathedrals for each one?\n",
    "   \n",
    "   4.2 where is the largest cathedral, or the oldest?\n",
    "   \n",
    "   4.3 If you had to pick a city or a country to visit some cathedrals? Which one would you choose?  Based on what criteria?\n"
   ]
  },
  {
   "cell_type": "code",
   "execution_count": 24,
   "id": "24a853ab-830c-422c-afd3-e9e015b8b8ed",
   "metadata": {},
   "outputs": [],
   "source": [
    "# start your workflow here"
   ]
  },
  {
   "cell_type": "code",
   "execution_count": 3,
   "id": "ade01416-92e7-4ad7-b9a9-b8fb330750dc",
   "metadata": {},
   "outputs": [
    {
     "name": "stdout",
     "output_type": "stream",
     "text": [
      "Results\n",
      "[('p', 'http://www.wikidata.org/prop/direct/P1626'), ('pname', 'Thai cultural heritage ID')]\n",
      "[('p', 'http://www.wikidata.org/prop/direct/P5611'), ('pname', 'BeWeb church ID')]\n",
      "[('p', 'http://www.wikidata.org/prop/direct/P3449'), ('pname', 'NSW Heritage database ID')]\n",
      "[('p', 'http://www.wikidata.org/prop/direct/P3941'), ('pname', 'Israel Antiquities Authority ID')]\n",
      "[('p', 'http://www.wikidata.org/prop/direct/P2526'), ('pname', 'National Historic Sites of Canada ID')]\n",
      "[('p', 'http://www.wikidata.org/prop/direct/P381'), ('pname', 'PCP reference number')]\n",
      "[('p', 'http://www.wikidata.org/prop/direct/P6776'), ('pname', 'IMTL.org ID')]\n",
      "[('p', 'http://www.wikidata.org/prop/direct/P1453'), ('pname', 'catholic.ru ID')]\n",
      "[('p', 'http://www.wikidata.org/prop/direct/P3371'), ('pname', 'Observatoire du Patrimoine Religieux ID')]\n",
      "[('p', 'http://www.wikidata.org/prop/direct/P9637'), ('pname', 'Erfgoedkaart ID')]\n",
      "[('p', 'http://www.wikidata.org/prop/direct/P1004'), ('pname', 'MusicBrainz place ID')]\n",
      "[('p', 'http://www.wikidata.org/prop/direct/P1017'), ('pname', 'Vatican Library ID (former scheme)')]\n",
      "[('p', 'http://www.wikidata.org/prop/direct/P1082'), ('pname', 'population')]\n",
      "[('p', 'http://www.wikidata.org/prop/direct/P1083'), ('pname', 'maximum capacity')]\n",
      "[('p', 'http://www.wikidata.org/prop/direct/P1249'), ('pname', 'time of earliest written record')]\n",
      "[('p', 'http://www.wikidata.org/prop/direct/P1368'), ('pname', 'LNB ID')]\n",
      "[('p', 'http://www.wikidata.org/prop/direct/P1375'), ('pname', 'NSK ID')]\n",
      "[('p', 'http://www.wikidata.org/prop/direct/P1417'), ('pname', 'Encyclopædia Britannica Online ID')]\n",
      "[('p', 'http://www.wikidata.org/prop/direct/P1545'), ('pname', 'series ordinal')]\n",
      "[('p', 'http://www.wikidata.org/prop/direct/P1566'), ('pname', 'GeoNames ID')]\n",
      "[('p', 'http://www.wikidata.org/prop/direct/P1612'), ('pname', 'Commons Institution page')]\n",
      "[('p', 'http://www.wikidata.org/prop/direct/P1619'), ('pname', 'date of official opening')]\n",
      "[('p', 'http://www.wikidata.org/prop/direct/P1644'), ('pname', 'messes.info Catholic church ID')]\n",
      "[('p', 'http://www.wikidata.org/prop/direct/P1838'), ('pname', 'PSS-archi ID')]\n",
      "[('p', 'http://www.wikidata.org/prop/direct/P1936'), ('pname', 'Digital Atlas of the Roman Empire ID')]\n",
      "[('p', 'http://www.wikidata.org/prop/direct/P2025'), ('pname', 'Find A Grave cemetery ID')]\n",
      "[('p', 'http://www.wikidata.org/prop/direct/P2043'), ('pname', 'length')]\n",
      "[('p', 'http://www.wikidata.org/prop/direct/P2046'), ('pname', 'area')]\n",
      "[('p', 'http://www.wikidata.org/prop/direct/P2048'), ('pname', 'height')]\n",
      "[('p', 'http://www.wikidata.org/prop/direct/P2049'), ('pname', 'width')]\n",
      "[('p', 'http://www.wikidata.org/prop/direct/P2124'), ('pname', 'member count')]\n",
      "[('p', 'http://www.wikidata.org/prop/direct/P213'), ('pname', 'ISNI')]\n",
      "[('p', 'http://www.wikidata.org/prop/direct/P214'), ('pname', 'VIAF ID')]\n",
      "[('p', 'http://www.wikidata.org/prop/direct/P2186'), ('pname', 'Wiki Loves Monuments ID')]\n",
      "[('p', 'http://www.wikidata.org/prop/direct/P227'), ('pname', 'GND ID')]\n",
      "[('p', 'http://www.wikidata.org/prop/direct/P2326'), ('pname', 'GNS Unique Feature ID')]\n",
      "[('p', 'http://www.wikidata.org/prop/direct/P244'), ('pname', 'Library of Congress authority ID')]\n",
      "[('p', 'http://www.wikidata.org/prop/direct/P245'), ('pname', 'Union List of Artist Names ID')]\n",
      "[('p', 'http://www.wikidata.org/prop/direct/P2581'), ('pname', 'BabelNet ID')]\n",
      "[('p', 'http://www.wikidata.org/prop/direct/P2671'), ('pname', 'Google Knowledge Graph ID')]\n",
      "[('p', 'http://www.wikidata.org/prop/direct/P268'), ('pname', 'Bibliothèque nationale de France ID')]\n",
      "[('p', 'http://www.wikidata.org/prop/direct/P269'), ('pname', 'IdRef ID')]\n",
      "[('p', 'http://www.wikidata.org/prop/direct/P281'), ('pname', 'postal code')]\n",
      "[('p', 'http://www.wikidata.org/prop/direct/P2924'), ('pname', 'Great Russian Encyclopedia Online ID')]\n",
      "[('p', 'http://www.wikidata.org/prop/direct/P2971'), ('pname', 'GCatholic church ID')]\n",
      "[('p', 'http://www.wikidata.org/prop/direct/P3029'), ('pname', 'UK National Archives ID')]\n",
      "[('p', 'http://www.wikidata.org/prop/direct/P3134'), ('pname', 'TripAdvisor ID')]\n",
      "[('p', 'http://www.wikidata.org/prop/direct/P3219'), ('pname', 'Encyclopædia Universalis ID')]\n",
      "[('p', 'http://www.wikidata.org/prop/direct/P3241'), ('pname', 'Catholic Encyclopedia ID')]\n",
      "[('p', 'http://www.wikidata.org/prop/direct/P3417'), ('pname', 'Quora topic ID')]\n"
     ]
    },
    {
     "data": {
      "text/plain": [
       "50"
      ]
     },
     "execution_count": 3,
     "metadata": {},
     "output_type": "execute_result"
    }
   ],
   "source": [
    "# search all data properties of a cathedral node\n",
    "queryString = \"\"\"\n",
    "SELECT DISTINCT ?p ?pname\n",
    "WHERE {\n",
    "    ?c wdt:P31 wd:Q2977 ;\n",
    "        ?p ?o . FILTER(isLiteral(?o))\n",
    "    ?p <http://schema.org/name> ?pname .\n",
    "}\n",
    "LIMIT 50\n",
    "   \n",
    "\"\"\"\n",
    "\n",
    "print(\"Results\")\n",
    "run_query(queryString)"
   ]
  },
  {
   "cell_type": "markdown",
   "id": "4a835d97-105b-46a1-be1e-edf6b40d28cb",
   "metadata": {},
   "source": [
    "Here we have all the attributes (data properties)."
   ]
  },
  {
   "cell_type": "code",
   "execution_count": 4,
   "id": "46e442ad-6a29-4015-ab91-fed4be4fcb4b",
   "metadata": {},
   "outputs": [
    {
     "name": "stdout",
     "output_type": "stream",
     "text": [
      "Results\n",
      "[('p', 'http://www.wikidata.org/prop/direct/P8517'), ('pname', 'view')]\n",
      "[('p', 'http://www.wikidata.org/prop/direct/P101'), ('pname', 'field of work')]\n",
      "[('p', 'http://www.wikidata.org/prop/direct/P112'), ('pname', 'founded by')]\n",
      "[('p', 'http://www.wikidata.org/prop/direct/P127'), ('pname', 'owned by')]\n",
      "[('p', 'http://www.wikidata.org/prop/direct/P131'), ('pname', 'located in the administrative territorial entity')]\n",
      "[('p', 'http://www.wikidata.org/prop/direct/P1343'), ('pname', 'described by source')]\n",
      "[('p', 'http://www.wikidata.org/prop/direct/P1366'), ('pname', 'replaced by')]\n",
      "[('p', 'http://www.wikidata.org/prop/direct/P138'), ('pname', 'named after')]\n",
      "[('p', 'http://www.wikidata.org/prop/direct/P140'), ('pname', 'religion')]\n",
      "[('p', 'http://www.wikidata.org/prop/direct/P1435'), ('pname', 'heritage designation')]\n",
      "[('p', 'http://www.wikidata.org/prop/direct/P149'), ('pname', 'architectural style')]\n",
      "[('p', 'http://www.wikidata.org/prop/direct/P1621'), ('pname', 'detail map')]\n",
      "[('p', 'http://www.wikidata.org/prop/direct/P17'), ('pname', 'country')]\n",
      "[('p', 'http://www.wikidata.org/prop/direct/P1791'), ('pname', 'category of people buried here')]\n",
      "[('p', 'http://www.wikidata.org/prop/direct/P18'), ('pname', 'image')]\n",
      "[('p', 'http://www.wikidata.org/prop/direct/P186'), ('pname', 'made from material')]\n",
      "[('p', 'http://www.wikidata.org/prop/direct/P1889'), ('pname', 'different from')]\n",
      "[('p', 'http://www.wikidata.org/prop/direct/P242'), ('pname', 'locator map image')]\n",
      "[('p', 'http://www.wikidata.org/prop/direct/P2614'), ('pname', 'World Heritage criteria')]\n",
      "[('p', 'http://www.wikidata.org/prop/direct/P2713'), ('pname', 'sectional view')]\n",
      "[('p', 'http://www.wikidata.org/prop/direct/P276'), ('pname', 'location')]\n",
      "[('p', 'http://www.wikidata.org/prop/direct/P2936'), ('pname', 'language used')]\n",
      "[('p', 'http://www.wikidata.org/prop/direct/P31'), ('pname', 'instance of')]\n",
      "[('p', 'http://www.wikidata.org/prop/direct/P3311'), ('pname', 'plan view image')]\n",
      "[('p', 'http://www.wikidata.org/prop/direct/P3451'), ('pname', 'nighttime view')]\n",
      "[('p', 'http://www.wikidata.org/prop/direct/P3501'), ('pname', 'Christian liturgical rite')]\n",
      "[('p', 'http://www.wikidata.org/prop/direct/P361'), ('pname', 'part of')]\n",
      "[('p', 'http://www.wikidata.org/prop/direct/P417'), ('pname', 'patron saint')]\n",
      "[('p', 'http://www.wikidata.org/prop/direct/P443'), ('pname', 'pronunciation audio')]\n",
      "[('p', 'http://www.wikidata.org/prop/direct/P488'), ('pname', 'chairperson')]\n",
      "[('p', 'http://www.wikidata.org/prop/direct/P5252'), ('pname', 'winter view')]\n",
      "[('p', 'http://www.wikidata.org/prop/direct/P527'), ('pname', 'has part')]\n",
      "[('p', 'http://www.wikidata.org/prop/direct/P5607'), ('pname', 'located in the ecclesiastical territorial entity')]\n",
      "[('p', 'http://www.wikidata.org/prop/direct/P5775'), ('pname', 'image of interior')]\n",
      "[('p', 'http://www.wikidata.org/prop/direct/P611'), ('pname', 'religious order')]\n",
      "[('p', 'http://www.wikidata.org/prop/direct/P669'), ('pname', 'located on street')]\n",
      "[('p', 'http://www.wikidata.org/prop/direct/P708'), ('pname', 'diocese')]\n",
      "[('p', 'http://www.wikidata.org/prop/direct/P7561'), ('pname', 'category for the interior of the item')]\n",
      "[('p', 'http://www.wikidata.org/prop/direct/P793'), ('pname', 'significant event')]\n",
      "[('p', 'http://www.wikidata.org/prop/direct/P7959'), ('pname', 'historic county')]\n",
      "[('p', 'http://www.wikidata.org/prop/direct/P825'), ('pname', 'dedicated to')]\n",
      "[('p', 'http://www.wikidata.org/prop/direct/P84'), ('pname', 'architect')]\n",
      "[('p', 'http://www.wikidata.org/prop/direct/P856'), ('pname', 'official website')]\n",
      "[('p', 'http://www.wikidata.org/prop/direct/P8592'), ('pname', 'aerial view')]\n",
      "[('p', 'http://www.wikidata.org/prop/direct/P8596'), ('pname', 'category for the exterior of the item')]\n",
      "[('p', 'http://www.wikidata.org/prop/direct/P88'), ('pname', 'commissioned by')]\n",
      "[('p', 'http://www.wikidata.org/prop/direct/P8933'), ('pname', 'category for the view from the item')]\n",
      "[('p', 'http://www.wikidata.org/prop/direct/P910'), ('pname', \"topic's main category\")]\n",
      "[('p', 'http://www.wikidata.org/prop/direct/P941'), ('pname', 'inspired by')]\n",
      "[('p', 'http://www.wikidata.org/prop/direct/P973'), ('pname', 'described at URL')]\n",
      "[('p', 'http://www.wikidata.org/prop/direct/P2817'), ('pname', 'appears in the heritage monument list')]\n",
      "[('p', 'http://www.wikidata.org/prop/direct/P2488'), ('pname', 'page at Belarus Globe website')]\n",
      "[('p', 'http://www.wikidata.org/prop/direct/P3173'), ('pname', 'offers view on')]\n",
      "[('p', 'http://www.wikidata.org/prop/direct/P612'), ('pname', 'mother house')]\n",
      "[('p', 'http://www.wikidata.org/prop/direct/P1299'), ('pname', 'depicted by')]\n",
      "[('p', 'http://www.wikidata.org/prop/direct/P1424'), ('pname', \"topic's main template\")]\n",
      "[('p', 'http://www.wikidata.org/prop/direct/P166'), ('pname', 'award received')]\n",
      "[('p', 'http://www.wikidata.org/prop/direct/P1943'), ('pname', 'location map')]\n",
      "[('p', 'http://www.wikidata.org/prop/direct/P2670'), ('pname', 'has parts of the class')]\n",
      "[('p', 'http://www.wikidata.org/prop/direct/P421'), ('pname', 'located in time zone')]\n",
      "[('p', 'http://www.wikidata.org/prop/direct/P460'), ('pname', 'said to be the same as')]\n",
      "[('p', 'http://www.wikidata.org/prop/direct/P8989'), ('pname', 'category for the view of the item')]\n",
      "[('p', 'http://www.wikidata.org/prop/direct/P5816'), ('pname', 'state of conservation')]\n",
      "[('p', 'http://www.wikidata.org/prop/direct/P1382'), ('pname', 'partially coincident with')]\n",
      "[('p', 'http://www.wikidata.org/prop/direct/P1801'), ('pname', 'commemorative plaque image')]\n",
      "[('p', 'http://www.wikidata.org/prop/direct/P2596'), ('pname', 'culture')]\n",
      "[('p', 'http://www.wikidata.org/prop/direct/P30'), ('pname', 'continent')]\n",
      "[('p', 'http://www.wikidata.org/prop/direct/P366'), ('pname', 'use')]\n",
      "[('p', 'http://www.wikidata.org/prop/direct/P485'), ('pname', 'archives at')]\n",
      "[('p', 'http://www.wikidata.org/prop/direct/P5008'), ('pname', 'on focus list of Wikimedia project')]\n",
      "[('p', 'http://www.wikidata.org/prop/direct/P706'), ('pname', 'located in/on physical feature')]\n",
      "[('p', 'http://www.wikidata.org/prop/direct/P94'), ('pname', 'coat of arms image')]\n",
      "[('p', 'http://www.wikidata.org/prop/direct/P968'), ('pname', 'email address')]\n",
      "[('p', 'http://www.wikidata.org/prop/direct/P167'), ('pname', 'structure replaced by')]\n",
      "[('p', 'http://www.wikidata.org/prop/direct/P1398'), ('pname', 'structure replaces')]\n",
      "[('p', 'http://www.wikidata.org/prop/direct/P1308'), ('pname', 'officeholder')]\n",
      "[('p', 'http://www.wikidata.org/prop/direct/P126'), ('pname', 'maintained by')]\n",
      "[('p', 'http://www.wikidata.org/prop/direct/P135'), ('pname', 'movement')]\n",
      "[('p', 'http://www.wikidata.org/prop/direct/P4330'), ('pname', 'contains')]\n",
      "[('p', 'http://www.wikidata.org/prop/direct/P1365'), ('pname', 'replaces')]\n",
      "[('p', 'http://www.wikidata.org/prop/direct/P4291'), ('pname', 'panoramic view')]\n",
      "[('p', 'http://www.wikidata.org/prop/direct/P462'), ('pname', 'color')]\n",
      "[('p', 'http://www.wikidata.org/prop/direct/P3032'), ('pname', 'adjacent building')]\n",
      "[('p', 'http://www.wikidata.org/prop/direct/P3025'), ('pname', 'open days')]\n",
      "[('p', 'http://www.wikidata.org/prop/direct/P10'), ('pname', 'video')]\n",
      "[('p', 'http://www.wikidata.org/prop/direct/P137'), ('pname', 'operator')]\n",
      "[('p', 'http://www.wikidata.org/prop/direct/P1830'), ('pname', 'owner of')]\n",
      "[('p', 'http://www.wikidata.org/prop/direct/P37'), ('pname', 'official language')]\n",
      "[('p', 'http://www.wikidata.org/prop/direct/P466'), ('pname', 'occupant')]\n",
      "[('p', 'http://www.wikidata.org/prop/direct/P770'), ('pname', 'cause of destruction')]\n",
      "[('p', 'http://www.wikidata.org/prop/direct/P154'), ('pname', 'logo image')]\n",
      "[('p', 'http://www.wikidata.org/prop/direct/P989'), ('pname', 'spoken text audio')]\n",
      "[('p', 'http://www.wikidata.org/prop/direct/P47'), ('pname', 'shares border with')]\n",
      "[('p', 'http://www.wikidata.org/prop/direct/P51'), ('pname', 'audio')]\n",
      "[('p', 'http://www.wikidata.org/prop/direct/P790'), ('pname', 'approved by')]\n",
      "[('p', 'http://www.wikidata.org/prop/direct/P457'), ('pname', 'foundational text')]\n",
      "[('p', 'http://www.wikidata.org/prop/direct/P1598'), ('pname', 'consecrator')]\n",
      "[('p', 'http://www.wikidata.org/prop/direct/P7867'), ('pname', 'category for maps')]\n",
      "[('p', 'http://www.wikidata.org/prop/direct/P159'), ('pname', 'headquarters location')]\n",
      "[('p', 'http://www.wikidata.org/prop/direct/P287'), ('pname', 'designed by')]\n",
      "[('p', 'http://www.wikidata.org/prop/direct/P912'), ('pname', 'has facility')]\n",
      "[('p', 'http://www.wikidata.org/prop/direct/P193'), ('pname', 'main building contractor')]\n",
      "[('p', 'http://www.wikidata.org/prop/direct/P5817'), ('pname', 'state of use')]\n",
      "[('p', 'http://www.wikidata.org/prop/direct/P50'), ('pname', 'author')]\n",
      "[('p', 'http://www.wikidata.org/prop/direct/P279'), ('pname', 'subclass of')]\n",
      "[('p', 'http://www.wikidata.org/prop/direct/P176'), ('pname', 'manufacturer')]\n",
      "[('p', 'http://www.wikidata.org/prop/direct/P1766'), ('pname', 'place name sign')]\n"
     ]
    },
    {
     "data": {
      "text/plain": [
       "107"
      ]
     },
     "execution_count": 4,
     "metadata": {},
     "output_type": "execute_result"
    }
   ],
   "source": [
    "#search all properies that connect cathedral to other nodes\n",
    "queryString = \"\"\"\n",
    "SELECT DISTINCT ?p ?pname\n",
    "WHERE {\n",
    "    ?c wdt:P31 wd:Q2977 ;\n",
    "        ?p ?o . FILTER(!isLiteral(?o))\n",
    "    ?p <http://schema.org/name> ?pname .\n",
    "}\n",
    "LIMIT 200\n",
    "   \n",
    "\"\"\"\n",
    "\n",
    "print(\"Results\")\n",
    "run_query(queryString)"
   ]
  },
  {
   "cell_type": "markdown",
   "id": "9a3453f3-0194-4d0f-bb4b-c1cc360ca77b",
   "metadata": {},
   "source": [
    "Here we have all the object (other entities) connected to a node that is an instance of 'cathedral'."
   ]
  },
  {
   "cell_type": "code",
   "execution_count": 5,
   "id": "db94772f-2049-4334-a255-cafe4d44d709",
   "metadata": {},
   "outputs": [
    {
     "name": "stdout",
     "output_type": "stream",
     "text": [
      "Results\n",
      "[('ch', 'http://www.wikidata.org/entity/Q38251739'), ('coname', 'Greenland')]\n",
      "[('ch', 'http://www.wikidata.org/entity/Q4868422'), ('coname', 'Dominican Republic')]\n",
      "[('ch', 'http://www.wikidata.org/entity/Q20921731'), ('coname', 'Dominican Republic')]\n",
      "[('ch', 'http://www.wikidata.org/entity/Q4868419'), ('coname', 'Dominican Republic')]\n",
      "[('ch', 'http://www.wikidata.org/entity/Q5758519'), ('coname', 'Dominican Republic')]\n",
      "[('ch', 'http://www.wikidata.org/entity/Q16399765'), ('coname', 'Republic of Artsakh')]\n",
      "[('ch', 'http://www.wikidata.org/entity/Q63385248'), ('coname', 'Gabon')]\n",
      "[('ch', 'http://www.wikidata.org/entity/Q63400454'), ('coname', 'Gabon')]\n",
      "[('ch', 'http://www.wikidata.org/entity/Q11466397'), ('coname', 'Gabon')]\n",
      "[('ch', 'http://www.wikidata.org/entity/Q63401277'), ('coname', 'Gabon')]\n",
      "[('ch', 'http://www.wikidata.org/entity/Q63400348'), ('coname', 'Gabon')]\n",
      "[('ch', 'http://www.wikidata.org/entity/Q63385297'), ('coname', 'Gabon')]\n",
      "[('ch', 'http://www.wikidata.org/entity/Q540821'), ('coname', 'The Gambia')]\n",
      "[('ch', 'http://www.wikidata.org/entity/Q21040758'), ('coname', 'Ivory Coast')]\n",
      "[('ch', 'http://www.wikidata.org/entity/Q2942527'), ('coname', 'Ivory Coast')]\n",
      "[('ch', 'http://www.wikidata.org/entity/Q3471723'), ('coname', 'Ivory Coast')]\n",
      "[('ch', 'http://www.wikidata.org/entity/Q2942302'), ('coname', 'Ivory Coast')]\n",
      "[('ch', 'http://www.wikidata.org/entity/Q21008108'), ('coname', 'Ivory Coast')]\n",
      "[('ch', 'http://www.wikidata.org/entity/Q21008110'), ('coname', 'Ivory Coast')]\n",
      "[('ch', 'http://www.wikidata.org/entity/Q2942507'), ('coname', 'Ivory Coast')]\n",
      "[('ch', 'http://www.wikidata.org/entity/Q21008109'), ('coname', 'Ivory Coast')]\n",
      "[('ch', 'http://www.wikidata.org/entity/Q21008114'), ('coname', 'Ivory Coast')]\n",
      "[('ch', 'http://www.wikidata.org/entity/Q21008107'), ('coname', 'Ivory Coast')]\n",
      "[('ch', 'http://www.wikidata.org/entity/Q21008111'), ('coname', 'Ivory Coast')]\n",
      "[('ch', 'http://www.wikidata.org/entity/Q2942291'), ('coname', 'Ivory Coast')]\n",
      "[('ch', 'http://www.wikidata.org/entity/Q3663737'), ('coname', 'Ivory Coast')]\n",
      "[('ch', 'http://www.wikidata.org/entity/Q21008112'), ('coname', 'Ivory Coast')]\n",
      "[('ch', 'http://www.wikidata.org/entity/Q107316479'), ('coname', 'Cameroon')]\n",
      "[('ch', 'http://www.wikidata.org/entity/Q107316537'), ('coname', 'Cameroon')]\n",
      "[('ch', 'http://www.wikidata.org/entity/Q25960637'), ('coname', 'Cameroon')]\n",
      "[('ch', 'http://www.wikidata.org/entity/Q55453752'), ('coname', 'Cape Verde')]\n",
      "[('ch', 'http://www.wikidata.org/entity/Q91373808'), ('coname', 'Cape Verde')]\n",
      "[('ch', 'http://www.wikidata.org/entity/Q56487397'), ('coname', 'Lesotho')]\n",
      "[('ch', 'http://www.wikidata.org/entity/Q773980'), ('coname', 'Libya')]\n",
      "[('ch', 'http://www.wikidata.org/entity/Q64597071'), ('coname', 'Madagascar')]\n",
      "[('ch', 'http://www.wikidata.org/entity/Q16538438'), ('coname', 'Mauritania')]\n",
      "[('ch', 'http://www.wikidata.org/entity/Q25206259'), ('coname', 'Morocco')]\n",
      "[('ch', 'http://www.wikidata.org/entity/Q34068711'), ('coname', 'Mozambique')]\n",
      "[('ch', 'http://www.wikidata.org/entity/Q17624313'), ('coname', 'Mozambique')]\n",
      "[('ch', 'http://www.wikidata.org/entity/Q17624375'), ('coname', 'Mozambique')]\n",
      "[('ch', 'http://www.wikidata.org/entity/Q21036878'), ('coname', 'Namibia')]\n",
      "[('ch', 'http://www.wikidata.org/entity/Q17624308'), ('coname', 'Nigeria')]\n",
      "[('ch', 'http://www.wikidata.org/entity/Q27116917'), ('coname', 'Nigeria')]\n",
      "[('ch', 'http://www.wikidata.org/entity/Q25938086'), ('coname', 'Nigeria')]\n",
      "[('ch', 'http://www.wikidata.org/entity/Q68794636'), ('coname', 'Uganda')]\n",
      "[('ch', 'http://www.wikidata.org/entity/Q16895659'), ('coname', 'Uganda')]\n",
      "[('ch', 'http://www.wikidata.org/entity/Q16627492'), ('coname', 'Seychelles')]\n",
      "[('ch', 'http://www.wikidata.org/entity/Q7588097'), ('coname', 'Sierra Leone')]\n",
      "[('ch', 'http://www.wikidata.org/entity/Q2942235'), ('coname', 'Eswatini')]\n",
      "[('ch', 'http://www.wikidata.org/entity/Q16934542'), ('coname', 'Ethiopia')]\n"
     ]
    },
    {
     "data": {
      "text/plain": [
       "50"
      ]
     },
     "execution_count": 5,
     "metadata": {},
     "output_type": "execute_result"
    }
   ],
   "source": [
    "#search all cathedral with the respective country\n",
    "queryString = \"\"\"\n",
    "SELECT DISTINCT ?ch ?coname\n",
    "WHERE {\n",
    "    ?ch wdt:P31 wd:Q2977.\n",
    "    ?ch wdt:P17 ?co.\n",
    "    ?co <http://schema.org/name> ?coname\n",
    "}\n",
    "LIMIT 50\n",
    "\"\"\"\n",
    "print(\"Results\")\n",
    "run_query(queryString)"
   ]
  },
  {
   "cell_type": "code",
   "execution_count": 6,
   "id": "a092c3c4-c7e6-4cec-8a6e-e922ecda8ea0",
   "metadata": {},
   "outputs": [
    {
     "name": "stdout",
     "output_type": "stream",
     "text": [
      "Results\n",
      "[('howManyChatedrals', '3'), ('coname', 'Mozambique')]\n",
      "[('howManyChatedrals', '2'), ('coname', 'Uganda')]\n",
      "[('howManyChatedrals', '8'), ('coname', 'Slovenia')]\n",
      "[('howManyChatedrals', '10'), ('coname', 'South Korea')]\n",
      "[('howManyChatedrals', '6'), ('coname', 'Burundi')]\n",
      "[('howManyChatedrals', '1'), ('coname', 'Uzbekistan')]\n",
      "[('howManyChatedrals', '2'), ('coname', 'Eritrea')]\n",
      "[('howManyChatedrals', '1'), ('coname', 'Samoa')]\n",
      "[('howManyChatedrals', '1'), ('coname', 'Marshall Islands')]\n",
      "[('howManyChatedrals', '1'), ('coname', 'East Jerusalem')]\n",
      "[('howManyChatedrals', '3'), ('coname', 'Cameroon')]\n",
      "[('howManyChatedrals', '6'), ('coname', 'Czech Republic')]\n",
      "[('howManyChatedrals', '10'), ('coname', 'Cuba')]\n",
      "[('howManyChatedrals', '1'), ('coname', 'Algeria')]\n",
      "[('howManyChatedrals', '35'), ('coname', 'Poland')]\n",
      "[('howManyChatedrals', '24'), ('coname', 'Australia')]\n",
      "[('howManyChatedrals', '7'), ('coname', 'New Zealand')]\n",
      "[('howManyChatedrals', '12'), ('coname', 'Uruguay')]\n",
      "[('howManyChatedrals', '5'), ('coname', 'Mali')]\n",
      "[('howManyChatedrals', '5'), ('coname', 'Norway')]\n",
      "[('howManyChatedrals', '2'), ('coname', 'Estonia')]\n",
      "[('howManyChatedrals', '2'), ('coname', 'Jamaica')]\n",
      "[('howManyChatedrals', '5'), ('coname', 'Iraq')]\n",
      "[('howManyChatedrals', '1'), ('coname', 'Sierra Leone')]\n",
      "[('howManyChatedrals', '87'), ('coname', 'France')]\n",
      "[('howManyChatedrals', '24'), ('coname', 'Chile')]\n",
      "[('howManyChatedrals', '10'), ('coname', 'Turkey')]\n",
      "[('howManyChatedrals', '32'), ('coname', 'Colombia')]\n",
      "[('howManyChatedrals', '3'), ('coname', 'Laos')]\n",
      "[('howManyChatedrals', '64'), ('coname', 'Mexico')]\n",
      "[('howManyChatedrals', '5'), ('coname', 'Benin')]\n",
      "[('howManyChatedrals', '14'), ('coname', 'Burkina Faso')]\n",
      "[('howManyChatedrals', '1'), ('coname', 'Democratic Republic of the Congo')]\n",
      "[('howManyChatedrals', '8'), ('coname', 'Netherlands')]\n",
      "[('howManyChatedrals', '1'), ('coname', 'Lesotho')]\n",
      "[('howManyChatedrals', '1'), ('coname', 'Iceland')]\n",
      "[('howManyChatedrals', '1'), ('coname', 'Jordan')]\n",
      "[('howManyChatedrals', '1'), ('coname', 'Greenland')]\n",
      "[('howManyChatedrals', '5'), ('coname', 'Ethiopia')]\n",
      "[('howManyChatedrals', '52'), ('coname', \"People's Republic of China\")]\n",
      "[('howManyChatedrals', '22'), ('coname', 'Hungary')]\n",
      "[('howManyChatedrals', '27'), ('coname', 'Spain')]\n",
      "[('howManyChatedrals', '9'), ('coname', 'Belgium')]\n",
      "[('howManyChatedrals', '27'), ('coname', 'Greece')]\n",
      "[('howManyChatedrals', '21'), ('coname', 'Peru')]\n",
      "[('howManyChatedrals', '2'), ('coname', 'Cambodia')]\n",
      "[('howManyChatedrals', '17'), ('coname', 'Venezuela')]\n",
      "[('howManyChatedrals', '7'), ('coname', 'Pakistan')]\n",
      "[('howManyChatedrals', '5'), ('coname', 'Taiwan')]\n",
      "[('howManyChatedrals', '11'), ('coname', 'Thailand')]\n",
      "[('howManyChatedrals', '9'), ('coname', 'Serbia')]\n",
      "[('howManyChatedrals', '1'), ('coname', 'Kuwait')]\n",
      "[('howManyChatedrals', '1'), ('coname', 'Curaçao')]\n",
      "[('howManyChatedrals', '1'), ('coname', 'Suriname')]\n",
      "[('howManyChatedrals', '47'), ('coname', 'United Kingdom')]\n",
      "[('howManyChatedrals', '10'), ('coname', 'Belarus')]\n",
      "[('howManyChatedrals', '26'), ('coname', 'Croatia')]\n",
      "[('howManyChatedrals', '8'), ('coname', 'Bosnia and Herzegovina')]\n",
      "[('howManyChatedrals', '7'), ('coname', 'Kazakhstan')]\n",
      "[('howManyChatedrals', '1'), ('coname', 'Barbados')]\n",
      "[('howManyChatedrals', '41'), ('coname', 'India')]\n",
      "[('howManyChatedrals', '1'), ('coname', 'Federated States of Micronesia')]\n",
      "[('howManyChatedrals', '4'), ('coname', 'Paraguay')]\n",
      "[('howManyChatedrals', '5'), ('coname', 'Panama')]\n",
      "[('howManyChatedrals', '7'), ('coname', 'Sri Lanka')]\n",
      "[('howManyChatedrals', '48'), ('coname', 'Philippines')]\n",
      "[('howManyChatedrals', '2'), ('coname', 'Montenegro')]\n",
      "[('howManyChatedrals', '7'), ('coname', 'Finland')]\n",
      "[('howManyChatedrals', '1'), ('coname', 'United Arab Emirates')]\n",
      "[('howManyChatedrals', '1'), ('coname', 'Cook Islands')]\n",
      "[('howManyChatedrals', '1'), ('coname', 'Kyrgyzstan')]\n",
      "[('howManyChatedrals', '4'), ('coname', 'Dominican Republic')]\n",
      "[('howManyChatedrals', '8'), ('coname', 'Soviet Union')]\n",
      "[('howManyChatedrals', '2'), ('coname', 'State of Palestine')]\n",
      "[('howManyChatedrals', '8'), ('coname', 'Russian Empire')]\n",
      "[('howManyChatedrals', '293'), ('coname', 'Italy')]\n",
      "[('howManyChatedrals', '2'), ('coname', 'Bahrain')]\n",
      "[('howManyChatedrals', '1'), ('coname', 'North Korea')]\n",
      "[('howManyChatedrals', '6'), ('coname', 'Guatemala')]\n",
      "[('howManyChatedrals', '4'), ('coname', 'Costa Rica')]\n",
      "[('howManyChatedrals', '18'), ('coname', 'Syria')]\n",
      "[('howManyChatedrals', '11'), ('coname', 'Vietnam')]\n",
      "[('howManyChatedrals', '4'), ('coname', 'Bangladesh')]\n",
      "[('howManyChatedrals', '1'), ('coname', 'Vanuatu')]\n",
      "[('howManyChatedrals', '1'), ('coname', 'Mongolia')]\n",
      "[('howManyChatedrals', '1'), ('coname', 'Saint Vincent and the Grenadines')]\n",
      "[('howManyChatedrals', '1'), ('coname', 'The Gambia')]\n",
      "[('howManyChatedrals', '44'), ('coname', 'Ukraine')]\n",
      "[('howManyChatedrals', '13'), ('coname', 'Slovakia')]\n",
      "[('howManyChatedrals', '7'), ('coname', 'Bulgaria')]\n",
      "[('howManyChatedrals', '3'), ('coname', 'Sweden')]\n",
      "[('howManyChatedrals', '1'), ('coname', 'Guyana')]\n",
      "[('howManyChatedrals', '11'), ('coname', 'Ecuador')]\n",
      "[('howManyChatedrals', '3'), ('coname', 'El Salvador')]\n",
      "[('howManyChatedrals', '3'), ('coname', 'Myanmar')]\n",
      "[('howManyChatedrals', '1'), ('coname', 'Tajikistan')]\n",
      "[('howManyChatedrals', '5'), ('coname', 'Togo')]\n",
      "[('howManyChatedrals', '1'), ('coname', 'Morocco')]\n",
      "[('howManyChatedrals', '2'), ('coname', 'Cape Verde')]\n",
      "[('howManyChatedrals', '1'), ('coname', 'Namibia')]\n"
     ]
    },
    {
     "data": {
      "text/plain": [
       "100"
      ]
     },
     "execution_count": 6,
     "metadata": {},
     "output_type": "execute_result"
    }
   ],
   "source": [
    "#group results for country\n",
    "queryString = \"\"\"\n",
    "SELECT DISTINCT (COUNT(?ch) AS ?howManyChatedrals) ?coname\n",
    "WHERE {\n",
    "    ?ch wdt:P31 wd:Q2977.\n",
    "    ?ch wdt:P17 ?co.\n",
    "    ?co <http://schema.org/name> ?coname\n",
    "}\n",
    "GROUP BY ?coname\n",
    "LIMIT 100\n",
    "\"\"\"\n",
    "print(\"Results\")\n",
    "run_query(queryString)"
   ]
  },
  {
   "cell_type": "code",
   "execution_count": 7,
   "id": "ff7b68e8-8c34-4868-8bd3-d09633da02ce",
   "metadata": {},
   "outputs": [
    {
     "name": "stdout",
     "output_type": "stream",
     "text": [
      "Results\n",
      "[('howManyChatedrals', '293'), ('coname', 'Italy')]\n"
     ]
    },
    {
     "data": {
      "text/plain": [
       "1"
      ]
     },
     "execution_count": 7,
     "metadata": {},
     "output_type": "execute_result"
    }
   ],
   "source": [
    "#select the country with more cathedrals\n",
    "queryString = \"\"\"\n",
    "SELECT DISTINCT (COUNT(?ch) AS ?howManyChatedrals) ?coname\n",
    "WHERE {\n",
    "    ?ch wdt:P31 wd:Q2977.\n",
    "    ?ch wdt:P17 ?co.\n",
    "    ?co <http://schema.org/name> ?coname\n",
    "}\n",
    "GROUP BY ?coname\n",
    "ORDER BY DESC (COUNT(?ch))\n",
    "LIMIT 1\n",
    "\"\"\"\n",
    "print(\"Results\")\n",
    "run_query(queryString)"
   ]
  },
  {
   "cell_type": "markdown",
   "id": "6b40cd74-94d3-43da-b448-3a900d0b6e99",
   "metadata": {},
   "source": [
    "Italy is the country with the highest number of cathedral."
   ]
  },
  {
   "cell_type": "code",
   "execution_count": 8,
   "id": "fbe0b70d-8f11-4640-99e2-47baae57ef7f",
   "metadata": {},
   "outputs": [
    {
     "name": "stdout",
     "output_type": "stream",
     "text": [
      "Results\n",
      "[('country', 'Philippines'), ('style', 'Neoclassical architecture'), ('howManyChatedrals', '3')]\n",
      "[('country', 'Colombia'), ('style', 'Neoclassical architecture'), ('howManyChatedrals', '7')]\n",
      "[('country', 'Germany'), ('style', 'modern architecture'), ('howManyChatedrals', '1')]\n",
      "[('country', 'Slovenia'), ('style', 'Gothic architecture'), ('howManyChatedrals', '2')]\n",
      "[('country', 'France'), ('style', 'Gothic architecture'), ('howManyChatedrals', '21')]\n",
      "[('country', 'The Gambia'), ('style', 'Gothic Revival'), ('howManyChatedrals', '1')]\n",
      "[('country', 'Austria'), ('style', 'Gothic Revival'), ('howManyChatedrals', '1')]\n",
      "[('country', 'Ukraine'), ('style', 'baroque architecture'), ('howManyChatedrals', '3')]\n",
      "[('country', 'Uruguay'), ('style', 'Armenian architecture'), ('howManyChatedrals', '2')]\n",
      "[('country', 'Mexico'), ('style', 'rationalism'), ('howManyChatedrals', '1')]\n",
      "[('country', 'Croatia'), ('style', 'Byzantine architecture'), ('howManyChatedrals', '1')]\n",
      "[('country', 'Italy'), ('style', 'Byzantine architecture'), ('howManyChatedrals', '3')]\n",
      "[('country', 'Canada'), ('style', 'Shed style'), ('howManyChatedrals', '1')]\n",
      "[('country', 'India'), ('style', 'Gothic architecture'), ('howManyChatedrals', '2')]\n",
      "[('country', 'Mexico'), ('style', 'Gothic architecture'), ('howManyChatedrals', '1')]\n",
      "[('country', 'Australia'), ('style', 'Gothic Revival'), ('howManyChatedrals', '10')]\n",
      "[('country', 'Poland'), ('style', 'Romanesque architecture'), ('howManyChatedrals', '2')]\n",
      "[('country', 'Montenegro'), ('style', 'Romanesque architecture'), ('howManyChatedrals', '1')]\n",
      "[('country', 'Netherlands'), ('style', 'Romanesque Revival architecture'), ('howManyChatedrals', '2')]\n",
      "[('country', 'Czech Republic'), ('style', 'baroque architecture'), ('howManyChatedrals', '4')]\n",
      "[('country', 'Slovakia'), ('style', 'Gothic art'), ('howManyChatedrals', '1')]\n",
      "[('country', 'Russian Empire'), ('style', 'Russian architecture'), ('howManyChatedrals', '1')]\n",
      "[('country', 'Russia'), ('style', 'Brick Gothic'), ('howManyChatedrals', '1')]\n",
      "[('country', 'Uruguay'), ('style', 'Renaissance Revival architecture'), ('howManyChatedrals', '1')]\n",
      "[('country', 'North Macedonia'), ('style', 'modern architecture'), ('howManyChatedrals', '1')]\n",
      "[('country', 'Italy'), ('style', 'International Gothic'), ('howManyChatedrals', '2')]\n",
      "[('country', 'Mozambique'), ('style', 'Portuguese colonial architecture'), ('howManyChatedrals', '1')]\n",
      "[('country', 'Uruguay'), ('style', 'neoclassicism'), ('howManyChatedrals', '2')]\n",
      "[('country', 'Bosnia and Herzegovina'), ('style', 'Gothic Revival'), ('howManyChatedrals', '1')]\n",
      "[('country', 'Ukraine'), ('style', 'Gothic Revival'), ('howManyChatedrals', '1')]\n",
      "[('country', 'Vietnam'), ('style', 'Gothic Revival'), ('howManyChatedrals', '2')]\n",
      "[('country', 'Colombia'), ('style', 'Gothic Revival'), ('howManyChatedrals', '2')]\n",
      "[('country', 'Ecuador'), ('style', 'Gothic Revival'), ('howManyChatedrals', '1')]\n",
      "[('country', 'Slovenia'), ('style', 'Romanesque Revival architecture'), ('howManyChatedrals', '1')]\n",
      "[('country', 'Ukraine'), ('style', 'Renaissance'), ('howManyChatedrals', '1')]\n",
      "[('country', 'United Kingdom'), ('style', 'Norman architecture'), ('howManyChatedrals', '1')]\n",
      "[('country', 'India'), ('style', 'Gothic art'), ('howManyChatedrals', '1')]\n",
      "[('country', 'Mexico'), ('style', 'Plateresque'), ('howManyChatedrals', '1')]\n",
      "[('country', 'Hungary'), ('style', 'Baroque Revival architecture'), ('howManyChatedrals', '1')]\n",
      "[('country', 'Ukraine'), ('style', 'Armenian architecture'), ('howManyChatedrals', '1')]\n",
      "[('country', 'Paraguay'), ('style', 'Neoclassical architecture'), ('howManyChatedrals', '1')]\n",
      "[('country', 'Algeria'), ('style', 'Islamic architecture'), ('howManyChatedrals', '1')]\n",
      "[('country', 'Costa Rica'), ('style', 'neoclassicism'), ('howManyChatedrals', '1')]\n",
      "[('country', 'Ecuador'), ('style', 'Baroque'), ('howManyChatedrals', '1')]\n",
      "[('country', 'United States of America'), ('style', 'Art Deco'), ('howManyChatedrals', '1')]\n",
      "[('country', 'Portugal'), ('style', 'baroque architecture'), ('howManyChatedrals', '2')]\n",
      "[('country', 'United Kingdom'), ('style', 'Byzantine Revival architecture'), ('howManyChatedrals', '1')]\n",
      "[('country', 'Romania'), ('style', 'Neoclassical architecture'), ('howManyChatedrals', '1')]\n",
      "[('country', 'Italy'), ('style', 'Neoclassical architecture'), ('howManyChatedrals', '15')]\n",
      "[('country', 'Canada'), ('style', 'Neoclassical architecture'), ('howManyChatedrals', '2')]\n",
      "[('country', 'Nicaragua'), ('style', 'Neoclassical architecture'), ('howManyChatedrals', '2')]\n",
      "[('country', 'Argentina'), ('style', 'Neoclassical architecture'), ('howManyChatedrals', '2')]\n",
      "[('country', \"People's Republic of China\"), ('style', 'Neoclassical architecture'), ('howManyChatedrals', '2')]\n",
      "[('country', 'France'), ('style', 'Romanesque architecture'), ('howManyChatedrals', '28')]\n",
      "[('country', 'Romania'), ('style', 'classicism'), ('howManyChatedrals', '1')]\n",
      "[('country', 'Philippines'), ('style', 'baroque architecture'), ('howManyChatedrals', '7')]\n",
      "[('country', 'Brazil'), ('style', 'Romanesque art'), ('howManyChatedrals', '2')]\n",
      "[('country', 'Russia'), ('style', 'Russian-Byzantine architecture'), ('howManyChatedrals', '3')]\n",
      "[('country', 'Portugal'), ('style', 'Spanish Gothic architecture'), ('howManyChatedrals', '2')]\n",
      "[('country', 'Ukraine'), ('style', 'Neoclassical architecture'), ('howManyChatedrals', '5')]\n",
      "[('country', 'Uruguay'), ('style', 'Neoclassical architecture'), ('howManyChatedrals', '2')]\n",
      "[('country', 'New Zealand'), ('style', 'Palladian architecture'), ('howManyChatedrals', '1')]\n",
      "[('country', 'Ukraine'), ('style', 'Ukrainian Baroque'), ('howManyChatedrals', '4')]\n",
      "[('country', 'Israel'), ('style', 'Gothic architecture'), ('howManyChatedrals', '1')]\n",
      "[('country', 'Brazil'), ('style', 'Gothic Revival'), ('howManyChatedrals', '3')]\n",
      "[('country', 'Indonesia'), ('style', 'Gothic Revival'), ('howManyChatedrals', '2')]\n",
      "[('country', 'Croatia'), ('style', 'Baroque'), ('howManyChatedrals', '1')]\n",
      "[('country', 'Italy'), ('style', 'Pre-Romanesque architecture'), ('howManyChatedrals', '1')]\n",
      "[('country', 'Poland'), ('style', 'Russian Revival architecture'), ('howManyChatedrals', '1')]\n",
      "[('country', 'Serbia'), ('style', 'baroque architecture'), ('howManyChatedrals', '1')]\n",
      "[('country', 'India'), ('style', 'baroque architecture'), ('howManyChatedrals', '1')]\n",
      "[('country', 'Germany'), ('style', 'Brick Gothic'), ('howManyChatedrals', '1')]\n",
      "[('country', 'Spain'), ('style', 'Valencian Gothic'), ('howManyChatedrals', '2')]\n",
      "[('country', 'Bulgaria'), ('style', 'Neoclassical architecture'), ('howManyChatedrals', '1')]\n",
      "[('country', 'Guatemala'), ('style', 'Neoclassical architecture'), ('howManyChatedrals', '1')]\n",
      "[('country', 'Brazil'), ('style', 'modern architecture'), ('howManyChatedrals', '3')]\n",
      "[('country', 'Romania'), ('style', 'modern architecture'), ('howManyChatedrals', '1')]\n",
      "[('country', 'United States of America'), ('style', 'Mediterranean Revival architecture'), ('howManyChatedrals', '1')]\n",
      "[('country', 'Estonia'), ('style', 'Gothic architecture'), ('howManyChatedrals', '1')]\n",
      "[('country', 'Peru'), ('style', 'Gothic Revival'), ('howManyChatedrals', '1')]\n",
      "[('country', 'Austria'), ('style', 'Romanesque architecture'), ('howManyChatedrals', '3')]\n",
      "[('country', 'Ukraine'), ('style', 'Romanesque Revival architecture'), ('howManyChatedrals', '2')]\n",
      "[('country', 'Latvia'), ('style', 'Romanesque Revival architecture'), ('howManyChatedrals', '1')]\n",
      "[('country', 'Sri Lanka'), ('style', 'Renaissance architecture'), ('howManyChatedrals', '1')]\n",
      "[('country', 'Portugal'), ('style', 'Romanesque art'), ('howManyChatedrals', '1')]\n",
      "[('country', 'Sri Lanka'), ('style', 'Baroque Revival architecture'), ('howManyChatedrals', '1')]\n",
      "[('country', 'Soviet Union'), ('style', 'Neoclassical architecture in Russia'), ('howManyChatedrals', '1')]\n",
      "[('country', 'Netherlands'), ('style', 'Brabantine Gothic'), ('howManyChatedrals', '1')]\n",
      "[('country', 'Bosnia and Herzegovina'), ('style', 'modern architecture'), ('howManyChatedrals', '1')]\n",
      "[('country', 'Colombia'), ('style', 'Gothic architecture'), ('howManyChatedrals', '1')]\n",
      "[('country', 'Dominica'), ('style', 'Gothic Revival'), ('howManyChatedrals', '1')]\n",
      "[('country', 'Syria'), ('style', 'Baroque'), ('howManyChatedrals', '1')]\n",
      "[('country', 'Germany'), ('style', 'Baroque'), ('howManyChatedrals', '1')]\n",
      "[('country', 'Japan'), ('style', 'Romanesque Revival architecture'), ('howManyChatedrals', '1')]\n",
      "[('country', 'Colombia'), ('style', 'postmodern architecture'), ('howManyChatedrals', '1')]\n",
      "[('country', 'Belgium'), ('style', 'baroque architecture'), ('howManyChatedrals', '1')]\n",
      "[('country', 'Czech Republic'), ('style', 'Gothic art'), ('howManyChatedrals', '1')]\n",
      "[('country', 'Moldova'), ('style', 'Byzantine Revival architecture'), ('howManyChatedrals', '1')]\n",
      "[('country', 'Bulgaria'), ('style', 'Baroque Revival architecture'), ('howManyChatedrals', '1')]\n",
      "[('country', 'Peru'), ('style', 'Renaissance Revival architecture'), ('howManyChatedrals', '1')]\n"
     ]
    },
    {
     "data": {
      "text/plain": [
       "100"
      ]
     },
     "execution_count": 8,
     "metadata": {},
     "output_type": "execute_result"
    }
   ],
   "source": [
    "queryString = \"\"\"\n",
    "SELECT ?country ?style (COUNT(?ch) AS ?howManyChatedrals)\n",
    "WHERE {\n",
    "    ?ch wdt:P31 wd:Q2977.\n",
    "    ?ch wdt:P17 ?co.\n",
    "    ?ch wdt:P149 ?s.\n",
    "    ?co <http://schema.org/name> ?country.\n",
    "    ?s <http://schema.org/name> ?style.\n",
    "}\n",
    "GROUP BY ?country ?style\n",
    "LIMIT 100\n",
    "\"\"\"\n",
    "print(\"Results\")\n",
    "run_query(queryString)"
   ]
  },
  {
   "cell_type": "markdown",
   "id": "2a7968fe-e19c-452e-9787-81d7ba089415",
   "metadata": {},
   "source": [
    "We found the number of cathedral grouped by country and architectural style. I found the name of the properties I need in the previus point where we seach all the object properties connected to cathedral. In this case the property was 'wdt:P149'(we already have the name of the property 'country')."
   ]
  },
  {
   "cell_type": "code",
   "execution_count": 9,
   "id": "a6fe3efe-b534-4fc1-bc6b-fa555f9e2690",
   "metadata": {},
   "outputs": [
    {
     "name": "stdout",
     "output_type": "stream",
     "text": [
      "Results\n",
      "[('cname', 'Roman Catholic Diocese of Yendi'), ('area', '19160')]\n"
     ]
    },
    {
     "data": {
      "text/plain": [
       "1"
      ]
     },
     "execution_count": 9,
     "metadata": {},
     "output_type": "execute_result"
    }
   ],
   "source": [
    "# search the largest cathedral\n",
    "queryString = \"\"\"\n",
    "SELECT ?cname ?area\n",
    "WHERE {\n",
    "    ?ch wdt:P31 wd:Q2977.\n",
    "    ?ch wdt:P2046 ?area.\n",
    "    ?ch <http://schema.org/name> ?cname.\n",
    "  \n",
    "}\n",
    "ORDER BY DESC (?area)\n",
    "LIMIT 1\n",
    "\"\"\"\n",
    "print(\"Results\")\n",
    "run_query(queryString)"
   ]
  },
  {
   "cell_type": "markdown",
   "id": "12aa678d-4031-4b40-a719-8e3c027f6d37",
   "metadata": {},
   "source": [
    "This cathedral is the largest because we search the one with the greatest area. The property 'area' founded in the previus point where we seach all the data properties connected to cathedral."
   ]
  },
  {
   "cell_type": "code",
   "execution_count": 10,
   "id": "8c23d03a-4c5a-4660-a8ad-4188c352aa47",
   "metadata": {},
   "outputs": [
    {
     "name": "stdout",
     "output_type": "stream",
     "text": [
      "Results\n",
      "[('cname', 'Cathedral of Ani'), ('date', '1001-01-01T00:00:00Z')]\n"
     ]
    },
    {
     "data": {
      "text/plain": [
       "1"
      ]
     },
     "execution_count": 10,
     "metadata": {},
     "output_type": "execute_result"
    }
   ],
   "source": [
    "#search the oldest cathedral\n",
    "queryString = \"\"\"\n",
    "SELECT ?cname ?date\n",
    "WHERE {\n",
    "    ?ch wdt:P31 wd:Q2977.\n",
    "    ?ch wdt:P1619 ?date.\n",
    "    ?ch <http://schema.org/name> ?cname\n",
    "\n",
    "}\n",
    "ORDER BY ASC (?date)\n",
    "LIMIT 1\n",
    "\"\"\"\n",
    "print(\"Results\")\n",
    "run_query(queryString)"
   ]
  },
  {
   "cell_type": "markdown",
   "id": "44a56508-524d-426a-9f45-fc19e671bc21",
   "metadata": {},
   "source": [
    "This is the oldest cathedral in the database."
   ]
  },
  {
   "cell_type": "markdown",
   "id": "2867fb59-94d2-4617-abca-4768ec2f9a02",
   "metadata": {},
   "source": [
    "In italy we already find that there are the highest number of cathedral so if I have to choose a country for visit some cathedral I will choose it."
   ]
  },
  {
   "cell_type": "code",
   "execution_count": 11,
   "id": "ef509528-d0bb-46dd-a8be-f865f78fbd9d",
   "metadata": {},
   "outputs": [
    {
     "name": "stdout",
     "output_type": "stream",
     "text": [
      "Results\n",
      "[('howmanycathedral', '4'), ('cityname', 'Sé')]\n"
     ]
    },
    {
     "data": {
      "text/plain": [
       "1"
      ]
     },
     "execution_count": 11,
     "metadata": {},
     "output_type": "execute_result"
    }
   ],
   "source": [
    "#city with the highest number of cathedral\n",
    "queryString = \"\"\"\n",
    "SELECT (COUNT(?cname) AS ?howmanycathedral) ?cityname\n",
    "WHERE {\n",
    "    ?ch wdt:P31 wd:Q2977.\n",
    "    ?ch wdt:P276 ?city.\n",
    "    ?ch <http://schema.org/name> ?cname.\n",
    "    ?city <http://schema.org/name> ?cityname.\n",
    "}\n",
    "GROUP BY ?cityname\n",
    "ORDER BY DESC (?howmanycathedral)\n",
    "LIMIT 1\n",
    "\"\"\"\n",
    "print(\"Results\")\n",
    "run_query(queryString)"
   ]
  },
  {
   "cell_type": "markdown",
   "id": "2730d13d-0a09-4d3a-b790-974b343d9c4a",
   "metadata": {},
   "source": [
    "So at the end we found that in 'Sè' there are the highest number of cathedral."
   ]
  }
 ],
 "metadata": {
  "kernelspec": {
   "display_name": "Python 3",
   "language": "python",
   "name": "python3"
  },
  "language_info": {
   "codemirror_mode": {
    "name": "ipython",
    "version": 3
   },
   "file_extension": ".py",
   "mimetype": "text/x-python",
   "name": "python",
   "nbconvert_exporter": "python",
   "pygments_lexer": "ipython3",
   "version": "3.7.10"
  }
 },
 "nbformat": 4,
 "nbformat_minor": 5
}
