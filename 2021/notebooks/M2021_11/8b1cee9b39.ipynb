{
 "cells": [
  {
   "cell_type": "markdown",
   "id": "7034c3bf-6eb0-4418-8687-7b9d2a501103",
   "metadata": {},
   "source": [
    "# General instructions\n",
    "\n",
    "The goal of the project is to materialize a set of **exploratory workloads** over a real-world, large-scale,  open-domain KG: [WikiData](https://www.wikidata.org/wiki/Wikidata:Main_Page)\n",
    "\n",
    "An exploratory workload  is composed by a set of queries, where each query is related to the information obtained previously.\n",
    "\n",
    "An exploratory workload starts with a usually vague, open ended question, and does not assume the person issuing the workload has a clear understanding of the data contained in the target database or its structure.\n",
    "\n",
    "Remeber that:\n",
    "\n",
    "1. All the queries must run in the python notebook\n",
    "2. You can use classes and properties only if you find them via a SPARQL query that must be present in the notebook\n",
    "3. You do not delete useless queries. Keep everything that is synthatically valid \n",
    "\n",
    "```\n",
    "?p <http://schema.org/name> ?name .\n",
    "```\n",
    "    \n",
    "    is the BGP returning a human-readable name of a property or a class in Wikidata.\n",
    "    \n",
    "    "
   ]
  },
  {
   "cell_type": "code",
   "execution_count": 2,
   "id": "3605c9d5-5371-49a5-be8d-d66e8f417139",
   "metadata": {},
   "outputs": [],
   "source": [
    "## SETUP used later\n",
    "\n",
    "from SPARQLWrapper import SPARQLWrapper, JSON\n",
    "\n",
    "\n",
    "prefixString = \"\"\"\n",
    "##-8b1cee9b39-##\n",
    "PREFIX wd: <http://www.wikidata.org/entity/> \n",
    "PREFIX wdt: <http://www.wikidata.org/prop/direct/> \n",
    "PREFIX sc: <http://schema.org/>\n",
    "\"\"\"\n",
    "\n",
    "# select and construct queries\n",
    "def run_query(queryString):\n",
    "    to_run = prefixString + \"\\n\" + queryString\n",
    "\n",
    "    sparql = SPARQLWrapper(\"http://a256-gc1-02.srv.aau.dk:5820/sparql\")\n",
    "    sparql.setTimeout(300)\n",
    "    sparql.setReturnFormat(JSON)\n",
    "    sparql.setQuery(to_run)\n",
    "\n",
    "    try :\n",
    "       results = sparql.query()\n",
    "       json_results = results.convert()\n",
    "       if len(json_results['results']['bindings'])==0:\n",
    "          print(\"Empty\")\n",
    "          return 0\n",
    "    \n",
    "       for bindings in json_results['results']['bindings']:\n",
    "          print( [ (var, value['value'])  for var, value in bindings.items() ] )\n",
    "\n",
    "       return len(json_results['results']['bindings'])\n",
    "\n",
    "    except Exception as e :\n",
    "        print(\"The operation failed\", e)\n",
    "    \n",
    "# ASk queries\n",
    "def run_ask_query(queryString):\n",
    "    to_run = prefixString + \"\\n\" + queryString\n",
    "\n",
    "    sparql = SPARQLWrapper(\"http://a256-gc1-03.srv.aau.dk:5820/sparql\")\n",
    "    sparql.setTimeout(300)\n",
    "    sparql.setReturnFormat(JSON)\n",
    "    sparql.setQuery(to_run)\n",
    "\n",
    "    try :\n",
    "        return sparql.query().convert()\n",
    "\n",
    "    except Exception as e :\n",
    "        print(\"The operation failed\", e)"
   ]
  },
  {
   "cell_type": "markdown",
   "id": "d477a59c-a68c-4c8f-9f97-8ca5294d7d27",
   "metadata": {},
   "source": [
    "# Movie Workflow Series (\"The Batman movies explorative search\") \n",
    "\n",
    "Consider the following exploratory scenario:\n",
    "\n",
    "\n",
    "> we are interested in movies about the Batman. We want to investigate the differences between the variuos series of films produced in different decades. \n",
    "\n",
    "\n",
    "## Useful URIs for the current workflow\n",
    "The following are given:\n",
    "\n",
    "| IRI           | Description   | Role      |\n",
    "| -----------   | -----------   |-----------|\n",
    "| `wdt:P1647`   | subproperty   | predicate |\n",
    "| `wdt:P31`     | instance of   | predicate |\n",
    "| `wdt:P279`    | subclass      | predicate |\n",
    "| `wdt:P4969`    | derivative work      | predicate |\n",
    "| `wd:Q2695156` | Batman        | node |\n",
    "| `wd:Q25191` | Christopher Nolan         | node |\n",
    "| `wd:Q12859908'` | The Dark Knight Trilogy | node |\n",
    "\n",
    "\n",
    "\n",
    "Also consider\n",
    "\n",
    "```\n",
    "wd:Q25191 ?p ?obj .\n",
    "```\n",
    "\n",
    "is the BGP to retrieve all **properties of Christopher Nolan**\n",
    "\n",
    "The workload should\n",
    "\n",
    "\n",
    "1. Investigate the works (aka derivative works) related to the Batman and individuate the movies. Return the movies along with the year of production and the director.\n",
    "\n",
    "2. Return the main Batman movie series produced in the last four decades and compare them in terms of length, number of actors involved and costs.\n",
    "\n",
    "3. Investigate what are the workers (writers, actors, etc.) who had a role in more Batman movies so far.\n",
    "\n",
    "4. Compare the ratings of the single movies and of the series. Indentify the movie with highest rating from the critics and the \"best\" series overall\n",
    "\n",
    "5. Return how many actors who are members of the cast of the \"Dark Knight Trilogy\" by Christopher Nolan have [Kavin Bacon number](https://en.wikipedia.org/wiki/Six_Degrees_of_Kevin_Bacon#:~:text=Kevin%20Bacon%20himself%20has%20a,Bacon%20number%20is%20N%2B1.) equal to 2 "
   ]
  },
  {
   "cell_type": "code",
   "execution_count": 1,
   "id": "24a853ab-830c-422c-afd3-e9e015b8b8ed",
   "metadata": {},
   "outputs": [],
   "source": [
    "# start your workflow here"
   ]
  },
  {
   "cell_type": "markdown",
   "id": "51db5e83-3332-4a16-ad8d-5b75012efa29",
   "metadata": {},
   "source": [
    "## Task 1: First of all we search the related works to Batman."
   ]
  },
  {
   "cell_type": "code",
   "execution_count": 10,
   "id": "ade01416-92e7-4ad7-b9a9-b8fb330750dc",
   "metadata": {},
   "outputs": [
    {
     "name": "stdout",
     "output_type": "stream",
     "text": [
      "Results\n",
      "[('worksname', 'Batman: Arkham Origins')]\n",
      "[('worksname', 'Batman: Arkham Origins Blackgate')]\n",
      "[('worksname', 'Batman: Arkham Origins')]\n",
      "[('worksname', 'Batman: Arkham Knight')]\n",
      "[('worksname', 'Batman: The Animated Series')]\n",
      "[('worksname', 'Nite Owl')]\n",
      "[('worksname', 'Batman: Arkham City')]\n",
      "[('worksname', 'Batman Beyond')]\n",
      "[('worksname', 'The Batman')]\n",
      "[('worksname', 'Batman')]\n",
      "[('worksname', 'Batman Forever')]\n",
      "[('worksname', 'Bruce Wayne')]\n",
      "[('worksname', 'Batman: Bad Blood')]\n",
      "[('worksname', 'Batman Returns')]\n",
      "[('worksname', 'Batman')]\n",
      "[('worksname', 'The Dark Knight')]\n",
      "[('worksname', 'Batman: Arkham Asylum')]\n",
      "[('worksname', 'Batman Begins')]\n",
      "[('worksname', 'The Dark Knight Rises')]\n",
      "[('worksname', 'Batman & Robin')]\n",
      "[('worksname', 'The Batman')]\n",
      "[('worksname', 'Batman: Dark Tomorrow')]\n",
      "[('worksname', 'Batman (Earth-Two)')]\n",
      "[('worksname', 'Batman')]\n",
      "[('worksname', 'Batman of Zur-En-Arrh')]\n",
      "[('worksname', 'Bruce Wayne')]\n",
      "[('worksname', 'Batzarro')]\n",
      "[('worksname', 'Batman')]\n",
      "[('worksname', 'Bruce Wayne')]\n",
      "[('worksname', 'Batman')]\n",
      "[('worksname', 'Dark Claw')]\n",
      "[('worksname', 'Batman')]\n"
     ]
    },
    {
     "data": {
      "text/plain": [
       "32"
      ]
     },
     "execution_count": 10,
     "metadata": {},
     "output_type": "execute_result"
    }
   ],
   "source": [
    "queryString = \"\"\"\n",
    "SELECT ?worksname\n",
    "WHERE { \n",
    "\n",
    "    wd:Q2695156 wdt:P4969 ?works .\n",
    "    ?works <http://schema.org/name> ?worksname .\n",
    "} \n",
    "LIMIT 50\n",
    "\"\"\"\n",
    "\n",
    "print(\"Results\")\n",
    "run_query(queryString)"
   ]
  },
  {
   "cell_type": "markdown",
   "id": "fa81040a-2b04-4be2-b51c-59562cda6e57",
   "metadata": {},
   "source": [
    "Now let's see if these are movies or not."
   ]
  },
  {
   "cell_type": "code",
   "execution_count": 13,
   "id": "3c7b76d3-3a99-423e-bda8-fce253d78b0d",
   "metadata": {},
   "outputs": [
    {
     "name": "stdout",
     "output_type": "stream",
     "text": [
      "Results\n",
      "[('fname', 'comics character'), ('f', 'http://www.wikidata.org/entity/Q1114461')]\n",
      "[('fname', 'extraterrestrials in fiction'), ('f', 'http://www.wikidata.org/entity/Q1307329')]\n",
      "[('fname', 'video game character'), ('f', 'http://www.wikidata.org/entity/Q1569167')]\n",
      "[('fname', 'fictional character'), ('f', 'http://www.wikidata.org/entity/Q95074')]\n",
      "[('fname', 'film'), ('f', 'http://www.wikidata.org/entity/Q11424')]\n",
      "[('fname', 'fictional human'), ('f', 'http://www.wikidata.org/entity/Q15632617')]\n",
      "[('fname', 'animated character'), ('f', 'http://www.wikidata.org/entity/Q15711870')]\n",
      "[('fname', 'television character'), ('f', 'http://www.wikidata.org/entity/Q15773317')]\n",
      "[('fname', 'television series'), ('f', 'http://www.wikidata.org/entity/Q5398426')]\n",
      "[('fname', 'animated series'), ('f', 'http://www.wikidata.org/entity/Q581714')]\n",
      "[('fname', 'video game'), ('f', 'http://www.wikidata.org/entity/Q7889')]\n",
      "[('fname', 'superhero film character'), ('f', 'http://www.wikidata.org/entity/Q63998451')]\n",
      "[('fname', 'fictional detective'), ('f', 'http://www.wikidata.org/entity/Q3656924')]\n",
      "[('fname', 'film project'), ('f', 'http://www.wikidata.org/entity/Q18011172')]\n"
     ]
    },
    {
     "data": {
      "text/plain": [
       "14"
      ]
     },
     "execution_count": 13,
     "metadata": {},
     "output_type": "execute_result"
    }
   ],
   "source": [
    "queryString = \"\"\"\n",
    "SELECT DISTINCT ?fname ?f\n",
    "WHERE { \n",
    "\n",
    "    wd:Q2695156 wdt:P4969 ?works .\n",
    "    ?works wdt:P31 ?f .\n",
    "    ?f <http://schema.org/name> ?fname \n",
    "} \n",
    "LIMIT 50\n",
    "\"\"\"\n",
    "print(\"Results\")\n",
    "run_query(queryString)"
   ]
  },
  {
   "cell_type": "markdown",
   "id": "98184164-ac24-4628-be7a-17e71a8d6353",
   "metadata": {},
   "source": [
    "So now we know that the derivative works related to Batman that are movies are the ones that are instance of film (Q11424)."
   ]
  },
  {
   "cell_type": "code",
   "execution_count": 15,
   "id": "0225671e-3596-4b79-a2af-7c371b227317",
   "metadata": {},
   "outputs": [
    {
     "name": "stdout",
     "output_type": "stream",
     "text": [
      "Results\n",
      "[('worksname', 'Batman'), ('works', 'http://www.wikidata.org/entity/Q116852')]\n",
      "[('worksname', 'Batman Forever'), ('works', 'http://www.wikidata.org/entity/Q221345')]\n",
      "[('worksname', 'Batman: Bad Blood'), ('works', 'http://www.wikidata.org/entity/Q21095079')]\n",
      "[('worksname', 'Batman Returns'), ('works', 'http://www.wikidata.org/entity/Q189054')]\n",
      "[('worksname', 'The Dark Knight'), ('works', 'http://www.wikidata.org/entity/Q163872')]\n",
      "[('worksname', 'Batman Begins'), ('works', 'http://www.wikidata.org/entity/Q166262')]\n",
      "[('worksname', 'The Dark Knight Rises'), ('works', 'http://www.wikidata.org/entity/Q189330')]\n",
      "[('worksname', 'Batman & Robin'), ('works', 'http://www.wikidata.org/entity/Q276523')]\n"
     ]
    },
    {
     "data": {
      "text/plain": [
       "8"
      ]
     },
     "execution_count": 15,
     "metadata": {},
     "output_type": "execute_result"
    }
   ],
   "source": [
    "queryString = \"\"\"\n",
    "SELECT ?worksname ?works\n",
    "WHERE { \n",
    "\n",
    "    wd:Q2695156 wdt:P4969 ?works .\n",
    "    ?works wdt:P31 wd:Q11424 .\n",
    "    ?works <http://schema.org/name> ?worksname .\n",
    "} \n",
    "LIMIT 50\n",
    "\"\"\"\n",
    "\n",
    "print(\"Results\")\n",
    "run_query(queryString)"
   ]
  },
  {
   "cell_type": "markdown",
   "id": "55bd8293-6bb1-4365-99f1-38fb386b854d",
   "metadata": {},
   "source": [
    "We have to identify the predicates to get the year of publication of the film and the director."
   ]
  },
  {
   "cell_type": "code",
   "execution_count": 201,
   "id": "ae4751e5-d519-4e99-833b-7d14bdb9b79c",
   "metadata": {},
   "outputs": [
    {
     "name": "stdout",
     "output_type": "stream",
     "text": [
      "Results\n",
      "[('p', 'http://www.wikidata.org/prop/direct/P179'), ('pname', 'part of the series')]\n",
      "[('p', 'http://www.wikidata.org/prop/direct/P2047'), ('pname', 'duration')]\n",
      "[('p', 'http://www.wikidata.org/prop/direct/P2130'), ('pname', 'cost')]\n",
      "[('p', 'http://www.wikidata.org/prop/direct/P2515'), ('pname', 'costume designer')]\n",
      "[('p', 'http://www.wikidata.org/prop/direct/P344'), ('pname', 'director of photography')]\n",
      "[('p', 'http://www.wikidata.org/prop/direct/P57'), ('pname', 'director')]\n",
      "[('p', 'http://www.wikidata.org/prop/direct/P577'), ('pname', 'publication date')]\n"
     ]
    },
    {
     "data": {
      "text/plain": [
       "7"
      ]
     },
     "execution_count": 201,
     "metadata": {},
     "output_type": "execute_result"
    }
   ],
   "source": [
    "queryString = \"\"\"\n",
    "SELECT DISTINCT ?p ?pname\n",
    "WHERE { \n",
    "\n",
    "    wd:Q166262 ?p ?o .\n",
    "    ?p <http://schema.org/name> ?pname .\n",
    "    FILTER REGEX(?pname, 'publ|date|director|cost|lenght|durat|series', 'i')\n",
    "} \n",
    "LIMIT 50\n",
    "\"\"\"\n",
    "\n",
    "print(\"Results\")\n",
    "run_query(queryString)"
   ]
  },
  {
   "cell_type": "markdown",
   "id": "52d5c168-05e9-4ac0-890c-2b95378e7932",
   "metadata": {},
   "source": [
    "Finally we found all the property we need."
   ]
  },
  {
   "cell_type": "code",
   "execution_count": 113,
   "id": "d227171c-c13f-47ec-8627-a4dc4783b0fe",
   "metadata": {},
   "outputs": [
    {
     "name": "stdout",
     "output_type": "stream",
     "text": [
      "Results\n",
      "[('worksname', 'Batman'), ('works', 'http://www.wikidata.org/entity/Q116852'), ('dname', 'Tim Burton'), ('date', '1989-10-26T00:00:00Z')]\n",
      "[('worksname', 'Batman'), ('works', 'http://www.wikidata.org/entity/Q116852'), ('dname', 'Tim Burton'), ('date', '1989-10-20T00:00:00Z')]\n",
      "[('worksname', 'Batman'), ('works', 'http://www.wikidata.org/entity/Q116852'), ('dname', 'Tim Burton'), ('date', '1989-09-13T00:00:00Z')]\n",
      "[('worksname', 'Batman'), ('works', 'http://www.wikidata.org/entity/Q116852'), ('dname', 'Tim Burton'), ('date', '1989-06-23T00:00:00Z')]\n",
      "[('worksname', 'Batman Forever'), ('works', 'http://www.wikidata.org/entity/Q221345'), ('dname', 'Joel Schumacher'), ('date', '1995-08-03T00:00:00Z')]\n",
      "[('worksname', 'Batman Forever'), ('works', 'http://www.wikidata.org/entity/Q221345'), ('dname', 'Joel Schumacher'), ('date', '1995-07-14T00:00:00Z')]\n",
      "[('worksname', 'Batman Forever'), ('works', 'http://www.wikidata.org/entity/Q221345'), ('dname', 'Joel Schumacher'), ('date', '1995-06-16T00:00:00Z')]\n",
      "[('worksname', 'Batman: Bad Blood'), ('works', 'http://www.wikidata.org/entity/Q21095079'), ('dname', 'Jay Oliva'), ('date', '2016-08-04T00:00:00Z')]\n",
      "[('worksname', 'Batman: Bad Blood'), ('works', 'http://www.wikidata.org/entity/Q21095079'), ('dname', 'Jay Oliva'), ('date', '2016-01-01T00:00:00Z')]\n",
      "[('worksname', 'Batman Returns'), ('works', 'http://www.wikidata.org/entity/Q189054'), ('dname', 'Tim Burton'), ('date', '1992-07-16T00:00:00Z')]\n",
      "[('worksname', 'Batman Returns'), ('works', 'http://www.wikidata.org/entity/Q189054'), ('dname', 'Tim Burton'), ('date', '1992-07-31T00:00:00Z')]\n",
      "[('worksname', 'Batman Returns'), ('works', 'http://www.wikidata.org/entity/Q189054'), ('dname', 'Tim Burton'), ('date', '1992-06-19T00:00:00Z')]\n",
      "[('worksname', 'Batman Returns'), ('works', 'http://www.wikidata.org/entity/Q189054'), ('dname', 'Tim Burton'), ('date', '1992-06-16T00:00:00Z')]\n",
      "[('worksname', 'The Dark Knight'), ('works', 'http://www.wikidata.org/entity/Q163872'), ('dname', 'Christopher Nolan'), ('date', '2008-08-21T00:00:00Z')]\n",
      "[('worksname', 'The Dark Knight'), ('works', 'http://www.wikidata.org/entity/Q163872'), ('dname', 'Christopher Nolan'), ('date', '2008-08-13T00:00:00Z')]\n",
      "[('worksname', 'The Dark Knight'), ('works', 'http://www.wikidata.org/entity/Q163872'), ('dname', 'Christopher Nolan'), ('date', '2008-07-25T00:00:00Z')]\n",
      "[('worksname', 'The Dark Knight'), ('works', 'http://www.wikidata.org/entity/Q163872'), ('dname', 'Christopher Nolan'), ('date', '2008-07-18T00:00:00Z')]\n",
      "[('worksname', 'Batman Begins'), ('works', 'http://www.wikidata.org/entity/Q166262'), ('dname', 'Christopher Nolan'), ('date', '2005-06-16T00:00:00Z')]\n",
      "[('worksname', 'Batman Begins'), ('works', 'http://www.wikidata.org/entity/Q166262'), ('dname', 'Christopher Nolan'), ('date', '2005-06-15T00:00:00Z')]\n",
      "[('worksname', 'Batman Begins'), ('works', 'http://www.wikidata.org/entity/Q166262'), ('dname', 'Christopher Nolan'), ('date', '2005-07-27T00:00:00Z')]\n",
      "[('worksname', 'The Dark Knight Rises'), ('works', 'http://www.wikidata.org/entity/Q189330'), ('dname', 'Christopher Nolan'), ('date', '2012-07-25T00:00:00Z')]\n",
      "[('worksname', 'The Dark Knight Rises'), ('works', 'http://www.wikidata.org/entity/Q189330'), ('dname', 'Christopher Nolan'), ('date', '2012-07-20T00:00:00Z')]\n",
      "[('worksname', 'The Dark Knight Rises'), ('works', 'http://www.wikidata.org/entity/Q189330'), ('dname', 'Christopher Nolan'), ('date', '2012-07-26T00:00:00Z')]\n",
      "[('worksname', 'Batman & Robin'), ('works', 'http://www.wikidata.org/entity/Q276523'), ('dname', 'Joel Schumacher'), ('date', '1997-06-26T00:00:00Z')]\n",
      "[('worksname', 'Batman & Robin'), ('works', 'http://www.wikidata.org/entity/Q276523'), ('dname', 'Joel Schumacher'), ('date', '1997-06-20T00:00:00Z')]\n",
      "[('worksname', 'Batman & Robin'), ('works', 'http://www.wikidata.org/entity/Q276523'), ('dname', 'Joel Schumacher'), ('date', '1997-07-04T00:00:00Z')]\n"
     ]
    },
    {
     "data": {
      "text/plain": [
       "26"
      ]
     },
     "execution_count": 113,
     "metadata": {},
     "output_type": "execute_result"
    }
   ],
   "source": [
    "queryString = \"\"\"\n",
    "SELECT DISTINCT ?worksname ?works ?dname ?date\n",
    "WHERE { \n",
    "\n",
    "    wd:Q2695156 wdt:P4969 ?works .\n",
    "    ?works wdt:P31 wd:Q11424 .\n",
    "    ?works <http://schema.org/name> ?worksname .\n",
    "    ?works wdt:P57 ?d .\n",
    "    ?works wdt:P577 ?date .\n",
    "    ?d <http://schema.org/name> ?dname .\n",
    "    \n",
    "} \n",
    "LIMIT 50\n",
    "\"\"\"\n",
    "\n",
    "print(\"Results\")\n",
    "run_query(queryString)"
   ]
  },
  {
   "cell_type": "markdown",
   "id": "8c99415a-bb98-471e-80bd-e949b55fff33",
   "metadata": {},
   "source": [
    "As we can see we have more than one date because probably a film was published in different times in different areas."
   ]
  },
  {
   "cell_type": "markdown",
   "id": "64f4af97-8142-43e0-8601-937917d1c725",
   "metadata": {},
   "source": [
    "## Task 2: First of all we retrieve the movies produced after 1982."
   ]
  },
  {
   "cell_type": "code",
   "execution_count": 45,
   "id": "e655e46f-fd15-4dd7-9339-ed5bf0ca1ab8",
   "metadata": {},
   "outputs": [
    {
     "name": "stdout",
     "output_type": "stream",
     "text": [
      "Results\n",
      "[('movie', 'Batman'), ('date', '1989-09-13T00:00:00Z')]\n",
      "[('movie', 'Batman'), ('date', '1989-10-26T00:00:00Z')]\n",
      "[('movie', 'Batman'), ('date', '1989-06-23T00:00:00Z')]\n",
      "[('movie', 'Batman'), ('date', '1989-10-20T00:00:00Z')]\n",
      "[('movie', 'Batman Forever'), ('date', '1995-07-14T00:00:00Z')]\n",
      "[('movie', 'Batman Forever'), ('date', '1995-08-03T00:00:00Z')]\n",
      "[('movie', 'Batman Forever'), ('date', '1995-06-16T00:00:00Z')]\n",
      "[('movie', 'Batman: Bad Blood'), ('date', '2016-01-01T00:00:00Z')]\n",
      "[('movie', 'Batman: Bad Blood'), ('date', '2016-08-04T00:00:00Z')]\n",
      "[('movie', 'Batman Returns'), ('date', '1992-06-19T00:00:00Z')]\n",
      "[('movie', 'Batman Returns'), ('date', '1992-07-31T00:00:00Z')]\n",
      "[('movie', 'Batman Returns'), ('date', '1992-07-16T00:00:00Z')]\n",
      "[('movie', 'Batman Returns'), ('date', '1992-06-16T00:00:00Z')]\n",
      "[('movie', 'The Dark Knight'), ('date', '2008-08-13T00:00:00Z')]\n",
      "[('movie', 'The Dark Knight'), ('date', '2008-07-18T00:00:00Z')]\n",
      "[('movie', 'The Dark Knight'), ('date', '2008-08-21T00:00:00Z')]\n",
      "[('movie', 'The Dark Knight'), ('date', '2008-07-25T00:00:00Z')]\n",
      "[('movie', 'Batman Begins'), ('date', '2005-06-15T00:00:00Z')]\n",
      "[('movie', 'Batman Begins'), ('date', '2005-07-27T00:00:00Z')]\n",
      "[('movie', 'Batman Begins'), ('date', '2005-06-16T00:00:00Z')]\n",
      "[('movie', 'The Dark Knight Rises'), ('date', '2012-07-20T00:00:00Z')]\n",
      "[('movie', 'The Dark Knight Rises'), ('date', '2012-07-26T00:00:00Z')]\n",
      "[('movie', 'The Dark Knight Rises'), ('date', '2012-07-25T00:00:00Z')]\n",
      "[('movie', 'Batman & Robin'), ('date', '1997-07-04T00:00:00Z')]\n",
      "[('movie', 'Batman & Robin'), ('date', '1997-06-20T00:00:00Z')]\n",
      "[('movie', 'Batman & Robin'), ('date', '1997-06-26T00:00:00Z')]\n"
     ]
    },
    {
     "data": {
      "text/plain": [
       "26"
      ]
     },
     "execution_count": 45,
     "metadata": {},
     "output_type": "execute_result"
    }
   ],
   "source": [
    "queryString = \"\"\"\n",
    "SELECT ?movie ?date\n",
    "WHERE { \n",
    "\n",
    "    wd:Q2695156 wdt:P4969 ?works .\n",
    "    ?works wdt:P31 wd:Q11424 .\n",
    "    ?works <http://schema.org/name> ?movie .\n",
    "    ?works wdt:P577 ?date \n",
    "    FILTER (?date >= 1982-01-01)\n",
    "} \n",
    "LIMIT 50\n",
    "\"\"\"\n",
    "\n",
    "print(\"Results\")\n",
    "run_query(queryString)"
   ]
  },
  {
   "cell_type": "markdown",
   "id": "033d3440-12ab-49df-9e32-ba5b30e9eed9",
   "metadata": {},
   "source": [
    "We need to find the actors that partecipate in a movie so let's find the predicate asoociated."
   ]
  },
  {
   "cell_type": "code",
   "execution_count": 87,
   "id": "c92b5c51-5d54-410f-a6b7-f1e0397545e7",
   "metadata": {},
   "outputs": [
    {
     "name": "stdout",
     "output_type": "stream",
     "text": [
      "Results\n",
      "[('pname', 'cast member'), ('p', 'http://www.wikidata.org/prop/direct/P161')]\n",
      "[('pname', 'characters'), ('p', 'http://www.wikidata.org/prop/direct/P674')]\n"
     ]
    },
    {
     "data": {
      "text/plain": [
       "2"
      ]
     },
     "execution_count": 87,
     "metadata": {},
     "output_type": "execute_result"
    }
   ],
   "source": [
    "queryString = \"\"\"\n",
    "SELECT DISTINCT ?pname ?p \n",
    "WHERE { \n",
    "    wd:Q116852 ?p ?o .\n",
    "    ?p <http://schema.org/name> ?pname \n",
    "    FILTER REGEX(?pname, 'cast|act', 'i')\n",
    "} \n",
    "LIMIT 50\n",
    "\"\"\"\n",
    "\n",
    "print(\"Results\")\n",
    "run_query(queryString)"
   ]
  },
  {
   "cell_type": "markdown",
   "id": "36615c6c-5d8e-43a8-8f15-9655dd16ab05",
   "metadata": {},
   "source": [
    "The predicate called 'cast member' (P161) is the one that relate the principal actors to a movie. We alredy retrive the predicate that we need for the other information."
   ]
  },
  {
   "cell_type": "code",
   "execution_count": 107,
   "id": "bfeeeadf-76fb-4fb2-afbc-53ad2d819638",
   "metadata": {},
   "outputs": [
    {
     "name": "stdout",
     "output_type": "stream",
     "text": [
      "Results\n",
      "[('moviename', 'The Dark Knight Rises'), ('date', '2012-07-25T00:00:00Z'), ('duration', '164'), ('cost', '250000000'), ('howmanyactors', '49')]\n",
      "[('moviename', 'The Dark Knight Rises'), ('date', '2012-07-26T00:00:00Z'), ('duration', '164'), ('cost', '250000000'), ('howmanyactors', '49')]\n",
      "[('moviename', 'The Dark Knight Rises'), ('date', '2012-07-20T00:00:00Z'), ('duration', '164'), ('cost', '250000000'), ('howmanyactors', '49')]\n",
      "[('moviename', 'The Dark Knight'), ('date', '2008-07-25T00:00:00Z'), ('duration', '153'), ('cost', '185000000'), ('howmanyactors', '29')]\n",
      "[('moviename', 'The Dark Knight'), ('date', '2008-08-13T00:00:00Z'), ('duration', '153'), ('cost', '185000000'), ('howmanyactors', '29')]\n",
      "[('moviename', 'The Dark Knight'), ('date', '2008-07-18T00:00:00Z'), ('duration', '153'), ('cost', '185000000'), ('howmanyactors', '29')]\n",
      "[('moviename', 'The Dark Knight'), ('date', '2008-08-21T00:00:00Z'), ('duration', '153'), ('cost', '185000000'), ('howmanyactors', '29')]\n",
      "[('moviename', 'Batman Begins'), ('date', '2005-06-16T00:00:00Z'), ('duration', '140'), ('cost', '150000000'), ('howmanyactors', '33')]\n",
      "[('moviename', 'Batman Begins'), ('date', '2005-06-15T00:00:00Z'), ('duration', '140'), ('cost', '150000000'), ('howmanyactors', '33')]\n",
      "[('moviename', 'Batman Begins'), ('date', '2005-07-27T00:00:00Z'), ('duration', '140'), ('cost', '150000000'), ('howmanyactors', '33')]\n",
      "[('moviename', 'Batman & Robin'), ('date', '1997-06-26T00:00:00Z'), ('duration', '125'), ('cost', '125000000'), ('howmanyactors', '23')]\n",
      "[('moviename', 'Batman & Robin'), ('date', '1997-07-04T00:00:00Z'), ('duration', '125'), ('cost', '125000000'), ('howmanyactors', '23')]\n",
      "[('moviename', 'Batman & Robin'), ('date', '1997-06-20T00:00:00Z'), ('duration', '125'), ('cost', '125000000'), ('howmanyactors', '23')]\n",
      "[('moviename', 'Batman Forever'), ('date', '1995-06-16T00:00:00Z'), ('duration', '117'), ('cost', '100000000'), ('howmanyactors', '21')]\n",
      "[('moviename', 'Batman Forever'), ('date', '1995-07-14T00:00:00Z'), ('duration', '117'), ('cost', '100000000'), ('howmanyactors', '21')]\n",
      "[('moviename', 'Batman Forever'), ('date', '1995-08-03T00:00:00Z'), ('duration', '117'), ('cost', '100000000'), ('howmanyactors', '21')]\n",
      "[('moviename', 'Batman Returns'), ('date', '1992-07-31T00:00:00Z'), ('duration', '126'), ('cost', '80000000'), ('howmanyactors', '28')]\n",
      "[('moviename', 'Batman Returns'), ('date', '1992-07-16T00:00:00Z'), ('duration', '126'), ('cost', '80000000'), ('howmanyactors', '28')]\n",
      "[('moviename', 'Batman Returns'), ('date', '1992-06-19T00:00:00Z'), ('duration', '126'), ('cost', '80000000'), ('howmanyactors', '28')]\n",
      "[('moviename', 'Batman Returns'), ('date', '1992-06-16T00:00:00Z'), ('duration', '126'), ('cost', '80000000'), ('howmanyactors', '28')]\n"
     ]
    },
    {
     "data": {
      "text/plain": [
       "20"
      ]
     },
     "execution_count": 107,
     "metadata": {},
     "output_type": "execute_result"
    }
   ],
   "source": [
    "queryString = \"\"\"\n",
    "SELECT DISTINCT ?moviename ?date ?duration ?cost COUNT(?actname) as ?howmanyactors \n",
    "WHERE { \n",
    "\n",
    "    wd:Q2695156 wdt:P4969 ?movie .\n",
    "    ?movie wdt:P31 wd:Q11424 .\n",
    "    ?movie <http://schema.org/name> ?moviename .\n",
    "    ?movie wdt:P577 ?date .\n",
    "    ?movie wdt:P2047 ?duration .\n",
    "    ?movie wdt:P2130 ?cost .\n",
    "    ?movie wdt:P161 ?act .\n",
    "    ?act <http://schema.org/name> ?actname .\n",
    "    FILTER (?date >= 1982-01-01)\n",
    "} \n",
    "GROUP BY ?moviename ?cost ?date ?duration\n",
    "ORDER BY DESC (?cost)\n",
    "LIMIT 50\n",
    "\"\"\"\n",
    "\n",
    "print(\"Results\")\n",
    "run_query(queryString)"
   ]
  },
  {
   "cell_type": "markdown",
   "id": "66d458eb-9b83-4f8c-9d9f-ba9ed876eb79",
   "metadata": {},
   "source": [
    "## Task 3: We need all the workers related to a film."
   ]
  },
  {
   "cell_type": "code",
   "execution_count": 165,
   "id": "0344391d-8d02-43e3-b98a-edae493affd8",
   "metadata": {},
   "outputs": [
    {
     "name": "stdout",
     "output_type": "stream",
     "text": [
      "Results\n",
      "[('pname', 'film editor'), ('p', 'http://www.wikidata.org/prop/direct/P1040')]\n",
      "[('pname', 'Box Office Mojo film ID (former scheme)'), ('p', 'http://www.wikidata.org/prop/direct/P1237')]\n",
      "[('pname', 'AlloCiné film ID'), ('p', 'http://www.wikidata.org/prop/direct/P1265')]\n",
      "[('pname', 'producer'), ('p', 'http://www.wikidata.org/prop/direct/P162')]\n",
      "[('pname', 'MPAA film rating'), ('p', 'http://www.wikidata.org/prop/direct/P1657')]\n",
      "[('pname', 'DNF film ID'), ('p', 'http://www.wikidata.org/prop/direct/P1804')]\n",
      "[('pname', 'MovieMeter film ID'), ('p', 'http://www.wikidata.org/prop/direct/P1970')]\n",
      "[('pname', 'FSK film rating'), ('p', 'http://www.wikidata.org/prop/direct/P1981')]\n",
      "[('pname', 'Swedish Film Database film ID'), ('p', 'http://www.wikidata.org/prop/direct/P2334')]\n",
      "[('pname', 'Allcinema film ID'), ('p', 'http://www.wikidata.org/prop/direct/P2465')]\n",
      "[('pname', 'KINENOTE film ID'), ('p', 'http://www.wikidata.org/prop/direct/P2508')]\n",
      "[('pname', 'Movie Walker film ID'), ('p', 'http://www.wikidata.org/prop/direct/P2509')]\n",
      "[('pname', 'Scope.dk film ID'), ('p', 'http://www.wikidata.org/prop/direct/P2518')]\n",
      "[('pname', 'ČSFD film ID'), ('p', 'http://www.wikidata.org/prop/direct/P2529')]\n",
      "[('pname', 'Kinopoisk film ID'), ('p', 'http://www.wikidata.org/prop/direct/P2603')]\n",
      "[('pname', 'TCM Movie Database film ID'), ('p', 'http://www.wikidata.org/prop/direct/P2631')]\n",
      "[('pname', 'production company'), ('p', 'http://www.wikidata.org/prop/direct/P272')]\n",
      "[('pname', 'Filmiroda rating'), ('p', 'http://www.wikidata.org/prop/direct/P2747')]\n",
      "[('pname', 'CNC film rating (France)'), ('p', 'http://www.wikidata.org/prop/direct/P2758')]\n",
      "[('pname', 'Cineplex Germany film ID'), ('p', 'http://www.wikidata.org/prop/direct/P3077')]\n",
      "[('pname', 'cine.gr film ID'), ('p', 'http://www.wikidata.org/prop/direct/P3129')]\n",
      "[('pname', 'elCinema film ID'), ('p', 'http://www.wikidata.org/prop/direct/P3135')]\n",
      "[('pname', 'OFDb film ID'), ('p', 'http://www.wikidata.org/prop/direct/P3138')]\n",
      "[('pname', 'EDb film ID'), ('p', 'http://www.wikidata.org/prop/direct/P3141')]\n",
      "[('pname', 'elFilm film ID'), ('p', 'http://www.wikidata.org/prop/direct/P3143')]\n",
      "[('pname', 'Open Media Database film ID'), ('p', 'http://www.wikidata.org/prop/direct/P3302')]\n",
      "[('pname', 'director of photography'), ('p', 'http://www.wikidata.org/prop/direct/P344')]\n",
      "[('pname', 'AFI Catalog of Feature Films ID'), ('p', 'http://www.wikidata.org/prop/direct/P3593')]\n",
      "[('pname', 'original language of film or TV show'), ('p', 'http://www.wikidata.org/prop/direct/P364')]\n",
      "[('pname', 'Deutsche Synchronkartei film ID'), ('p', 'http://www.wikidata.org/prop/direct/P3844')]\n",
      "[('pname', 'Douban film ID'), ('p', 'http://www.wikidata.org/prop/direct/P4529')]\n",
      "[('pname', 'Movieplayer film ID'), ('p', 'http://www.wikidata.org/prop/direct/P4783')]\n",
      "[('pname', 'FilmAffinity ID'), ('p', 'http://www.wikidata.org/prop/direct/P480')]\n",
      "[('pname', 'Filmweb.pl film ID'), ('p', 'http://www.wikidata.org/prop/direct/P5032')]\n",
      "[('pname', 'director'), ('p', 'http://www.wikidata.org/prop/direct/P57')]\n",
      "[('pname', 'Moviepilot.de film ID'), ('p', 'http://www.wikidata.org/prop/direct/P5786')]\n",
      "[('pname', 'screenwriter'), ('p', 'http://www.wikidata.org/prop/direct/P58')]\n",
      "[('pname', 'Letterboxd film ID'), ('p', 'http://www.wikidata.org/prop/direct/P6127')]\n",
      "[('pname', 'Academy Awards Database film ID'), ('p', 'http://www.wikidata.org/prop/direct/P6145')]\n",
      "[('pname', 'composer'), ('p', 'http://www.wikidata.org/prop/direct/P86')]\n",
      "[('pname', 'PORT film ID'), ('p', 'http://www.wikidata.org/prop/direct/P905')]\n",
      "[('pname', 'filming location'), ('p', 'http://www.wikidata.org/prop/direct/P915')]\n",
      "[('pname', 'executive producer'), ('p', 'http://www.wikidata.org/prop/direct/P1431')]\n",
      "[('pname', 'Filmfront film ID'), ('p', 'http://www.wikidata.org/prop/direct/P7975')]\n"
     ]
    },
    {
     "data": {
      "text/plain": [
       "44"
      ]
     },
     "execution_count": 165,
     "metadata": {},
     "output_type": "execute_result"
    }
   ],
   "source": [
    "queryString = \"\"\"\n",
    "SELECT DISTINCT ?pname ?p\n",
    "WHERE { \n",
    "    wd:Q221345 ?p ?o .\n",
    "    ?p <http://schema.org/name> ?pname\n",
    "    FILTER REGEX (?pname, 'film|prod|creat|direct|screen|compose', 'i')\n",
    "} \n",
    "\n",
    "\n",
    "\"\"\"\n",
    "\n",
    "print(\"Results\")\n",
    "run_query(queryString)"
   ]
  },
  {
   "cell_type": "markdown",
   "id": "953b1a3f-2e42-4a88-b36d-d490d0f03c9b",
   "metadata": {},
   "source": [
    "After the previus list of predicate we can use these that connect all the important workers related to a movie."
   ]
  },
  {
   "cell_type": "code",
   "execution_count": 164,
   "id": "9695e921-be81-46bc-80da-5f090e713d1c",
   "metadata": {},
   "outputs": [
    {
     "name": "stdout",
     "output_type": "stream",
     "text": [
      "Results\n",
      "[('title', 'Batman'), ('filmeditorname', 'Ray Lovejoy'), ('producername', 'Peter Guber'), ('directorofphotographyname', 'Roger Pratt'), ('directorname', 'Tim Burton'), ('composername', 'Danny Elfman'), ('screenwritername', 'Bill Finger')]\n",
      "[('title', 'Batman'), ('filmeditorname', 'Ray Lovejoy'), ('producername', 'Peter Guber'), ('directorofphotographyname', 'Roger Pratt'), ('directorname', 'Tim Burton'), ('composername', 'Danny Elfman'), ('screenwritername', 'Sam Hamm')]\n",
      "[('title', 'Batman'), ('filmeditorname', 'Ray Lovejoy'), ('producername', 'Peter Guber'), ('directorofphotographyname', 'Roger Pratt'), ('directorname', 'Tim Burton'), ('composername', 'Danny Elfman'), ('screenwritername', 'Warren Skaaren')]\n",
      "[('title', 'Batman'), ('filmeditorname', 'Ray Lovejoy'), ('producername', 'Jon Peters'), ('directorofphotographyname', 'Roger Pratt'), ('directorname', 'Tim Burton'), ('composername', 'Danny Elfman'), ('screenwritername', 'Bill Finger')]\n",
      "[('title', 'Batman'), ('filmeditorname', 'Ray Lovejoy'), ('producername', 'Jon Peters'), ('directorofphotographyname', 'Roger Pratt'), ('directorname', 'Tim Burton'), ('composername', 'Danny Elfman'), ('screenwritername', 'Sam Hamm')]\n",
      "[('title', 'Batman'), ('filmeditorname', 'Ray Lovejoy'), ('producername', 'Jon Peters'), ('directorofphotographyname', 'Roger Pratt'), ('directorname', 'Tim Burton'), ('composername', 'Danny Elfman'), ('screenwritername', 'Warren Skaaren')]\n",
      "[('title', 'Batman'), ('filmeditorname', 'Ray Lovejoy'), ('producername', 'Michael Uslan'), ('directorofphotographyname', 'Roger Pratt'), ('directorname', 'Tim Burton'), ('composername', 'Danny Elfman'), ('screenwritername', 'Bill Finger')]\n",
      "[('title', 'Batman'), ('filmeditorname', 'Ray Lovejoy'), ('producername', 'Michael Uslan'), ('directorofphotographyname', 'Roger Pratt'), ('directorname', 'Tim Burton'), ('composername', 'Danny Elfman'), ('screenwritername', 'Sam Hamm')]\n",
      "[('title', 'Batman'), ('filmeditorname', 'Ray Lovejoy'), ('producername', 'Michael Uslan'), ('directorofphotographyname', 'Roger Pratt'), ('directorname', 'Tim Burton'), ('composername', 'Danny Elfman'), ('screenwritername', 'Warren Skaaren')]\n",
      "[('title', 'The Dark Knight'), ('filmeditorname', 'Lee Smith'), ('producername', 'Charles Roven'), ('directorofphotographyname', 'Wally Pfister'), ('directorname', 'Christopher Nolan'), ('composername', 'Hans Zimmer'), ('screenwritername', 'David S. Goyer')]\n"
     ]
    },
    {
     "data": {
      "text/plain": [
       "10"
      ]
     },
     "execution_count": 164,
     "metadata": {},
     "output_type": "execute_result"
    }
   ],
   "source": [
    "queryString = \"\"\"\n",
    "SELECT DISTINCT ?title ?filmeditorname ?producername ?directorofphotographyname ?directorname ?composername ?screenwritername\n",
    "WHERE {\n",
    "    wd:Q2695156 wdt:P4969 ?movie .\n",
    "    ?movie wdt:P31 wd:Q11424 .\n",
    "    ?movie <http://schema.org/name> ?title .\n",
    "    OPTIONAL{\n",
    "    ?movie wdt:P1040 ?filmeditor .\n",
    "    ?movie wdt:P162 ?producer .\n",
    "    ?movie wdt:P344 ?directorofphotography .\n",
    "    ?movie wdt:P57 ?director .\n",
    "    ?movie wdt:P58 ?screenwriter .\n",
    "    ?movie wdt:P86 ?composer .\n",
    "    ?filmeditor <http://schema.org/name> ?filmeditorname .\n",
    "    ?producer <http://schema.org/name> ?producername .\n",
    "    ?directorofphotography <http://schema.org/name> ?directorofphotographyname .\n",
    "    ?director <http://schema.org/name> ?directorname .\n",
    "    ?composer <http://schema.org/name> ?composername .\n",
    "    ?screenwriter <http://schema.org/name> ?screenwritername\n",
    "    }   \n",
    "} \n",
    "\n",
    "LIMIT 10\n",
    "\"\"\"\n",
    "\n",
    "print(\"Results\")\n",
    "run_query(queryString)"
   ]
  },
  {
   "cell_type": "markdown",
   "id": "c05211e0-2f32-4440-b9ef-3d7e47013a39",
   "metadata": {},
   "source": [
    "Now we can do a bounch of query to see if someone works in more than one film."
   ]
  },
  {
   "cell_type": "code",
   "execution_count": 162,
   "id": "2d0fe175-d55d-4c84-b8b7-438a5996ccf4",
   "metadata": {},
   "outputs": [
    {
     "name": "stdout",
     "output_type": "stream",
     "text": [
      "Results\n",
      "[('howmanyfilms', '3'), ('filmeditorname', 'Lee Smith')]\n"
     ]
    },
    {
     "data": {
      "text/plain": [
       "1"
      ]
     },
     "execution_count": 162,
     "metadata": {},
     "output_type": "execute_result"
    }
   ],
   "source": [
    "queryString = \"\"\"\n",
    "SELECT DISTINCT COUNT(?title) as ?howmanyfilms ?filmeditorname \n",
    "WHERE {\n",
    "    wd:Q2695156 wdt:P4969 ?movie .\n",
    "    ?movie wdt:P31 wd:Q11424 .\n",
    "    ?movie <http://schema.org/name> ?title .\n",
    "    OPTIONAL{\n",
    "    ?movie wdt:P1040 ?filmeditor .\n",
    "    ?filmeditor <http://schema.org/name> ?filmeditorname .\n",
    "    }\n",
    "} \n",
    "GROUP BY ?filmeditorname\n",
    "HAVING (COUNT(?title)>=2)\n",
    "LIMIT 50\n",
    "\"\"\"\n",
    "\n",
    "print(\"Results\")\n",
    "run_query(queryString)"
   ]
  },
  {
   "cell_type": "code",
   "execution_count": 161,
   "id": "361b36e3-2b8d-4d0d-9ba7-d0563f528c75",
   "metadata": {},
   "outputs": [
    {
     "name": "stdout",
     "output_type": "stream",
     "text": [
      "Results\n",
      "[('howmanyfilms', '3'), ('producername', 'Charles Roven')]\n",
      "[('howmanyfilms', '3'), ('producername', 'Emma Thomas')]\n",
      "[('howmanyfilms', '2'), ('producername', 'Tim Burton')]\n",
      "[('howmanyfilms', '2'), ('producername', 'Christopher Nolan')]\n"
     ]
    },
    {
     "data": {
      "text/plain": [
       "4"
      ]
     },
     "execution_count": 161,
     "metadata": {},
     "output_type": "execute_result"
    }
   ],
   "source": [
    "queryString = \"\"\"\n",
    "SELECT DISTINCT COUNT(?title) as ?howmanyfilms ?producername \n",
    "WHERE {\n",
    "    wd:Q2695156 wdt:P4969 ?movie .\n",
    "    ?movie wdt:P31 wd:Q11424 .\n",
    "    ?movie <http://schema.org/name> ?title .\n",
    "    OPTIONAL{\n",
    "    ?movie wdt:P162 ?producer .\n",
    "    ?producer <http://schema.org/name> ?producername .\n",
    "    }\n",
    "} \n",
    "GROUP BY ?producername\n",
    "HAVING (COUNT(?title)>=2)\n",
    "LIMIT 50\n",
    "\"\"\"\n",
    "\n",
    "print(\"Results\")\n",
    "run_query(queryString)"
   ]
  },
  {
   "cell_type": "code",
   "execution_count": 160,
   "id": "0a16050f-52e1-4441-beca-4ff5574dc59a",
   "metadata": {},
   "outputs": [
    {
     "name": "stdout",
     "output_type": "stream",
     "text": [
      "Results\n",
      "[('howmanyfilms', '2'), ('directorofphotographyname', 'Stephen Goldblatt')]\n",
      "[('howmanyfilms', '3'), ('directorofphotographyname', 'Wally Pfister')]\n"
     ]
    },
    {
     "data": {
      "text/plain": [
       "2"
      ]
     },
     "execution_count": 160,
     "metadata": {},
     "output_type": "execute_result"
    }
   ],
   "source": [
    "queryString = \"\"\"\n",
    "SELECT DISTINCT COUNT(?title) as ?howmanyfilms ?directorofphotographyname \n",
    "WHERE {\n",
    "    wd:Q2695156 wdt:P4969 ?movie .\n",
    "    ?movie wdt:P31 wd:Q11424 .\n",
    "    ?movie <http://schema.org/name> ?title .\n",
    "    OPTIONAL{\n",
    "    ?movie wdt:P344 ?directorofphotography .\n",
    "    ?directorofphotography <http://schema.org/name> ?directorofphotographyname .\n",
    "    }\n",
    "} \n",
    "GROUP BY ?directorofphotographyname\n",
    "HAVING (COUNT(?title)>=2)\n",
    "LIMIT 50\n",
    "\"\"\"\n",
    "\n",
    "print(\"Results\")\n",
    "run_query(queryString)"
   ]
  },
  {
   "cell_type": "code",
   "execution_count": 159,
   "id": "012fbb17-25d0-4535-b7f1-dba1a5513afd",
   "metadata": {},
   "outputs": [
    {
     "name": "stdout",
     "output_type": "stream",
     "text": [
      "Results\n",
      "[('howmanyfilms', '2'), ('directorname', 'Tim Burton')]\n",
      "[('howmanyfilms', '2'), ('directorname', 'Joel Schumacher')]\n",
      "[('howmanyfilms', '3'), ('directorname', 'Christopher Nolan')]\n"
     ]
    },
    {
     "data": {
      "text/plain": [
       "3"
      ]
     },
     "execution_count": 159,
     "metadata": {},
     "output_type": "execute_result"
    }
   ],
   "source": [
    "queryString = \"\"\"\n",
    "SELECT DISTINCT COUNT(?title) as ?howmanyfilms ?directorname \n",
    "WHERE {\n",
    "    wd:Q2695156 wdt:P4969 ?movie .\n",
    "    ?movie wdt:P31 wd:Q11424 .\n",
    "    ?movie <http://schema.org/name> ?title .\n",
    "    OPTIONAL{\n",
    "    ?movie wdt:P57 ?director .\n",
    "    ?director <http://schema.org/name> ?directorname .\n",
    "    }\n",
    "} \n",
    "GROUP BY ?directorname\n",
    "HAVING (COUNT(?title)>=2)\n",
    "LIMIT 50\n",
    "\"\"\"\n",
    "\n",
    "print(\"Results\")\n",
    "run_query(queryString)"
   ]
  },
  {
   "cell_type": "code",
   "execution_count": 158,
   "id": "d91a8c85-7610-4d7c-87eb-49ab1fdd1380",
   "metadata": {},
   "outputs": [
    {
     "name": "stdout",
     "output_type": "stream",
     "text": [
      "Results\n",
      "[('howmanyfilms', '3'), ('screenwritername', 'Bob Kane')]\n",
      "[('howmanyfilms', '3'), ('screenwritername', 'David S. Goyer')]\n",
      "[('howmanyfilms', '2'), ('screenwritername', 'Jonathan Nolan')]\n",
      "[('howmanyfilms', '3'), ('screenwritername', 'Bill Finger')]\n",
      "[('howmanyfilms', '3'), ('screenwritername', 'Christopher Nolan')]\n",
      "[('howmanyfilms', '2'), ('screenwritername', 'Akiva Goldsman')]\n"
     ]
    },
    {
     "data": {
      "text/plain": [
       "6"
      ]
     },
     "execution_count": 158,
     "metadata": {},
     "output_type": "execute_result"
    }
   ],
   "source": [
    "queryString = \"\"\"\n",
    "SELECT DISTINCT COUNT(?title) as ?howmanyfilms ?screenwritername\n",
    "WHERE {\n",
    "    wd:Q2695156 wdt:P4969 ?movie .\n",
    "    ?movie wdt:P31 wd:Q11424 .\n",
    "    ?movie <http://schema.org/name> ?title .\n",
    "    OPTIONAL{\n",
    "    ?movie wdt:P58 ?screenwriter .\n",
    "    ?screenwriter <http://schema.org/name> ?screenwritername\n",
    "    }\n",
    "} \n",
    "GROUP BY ?screenwritername\n",
    "HAVING (COUNT(?title)>=2)\n",
    "LIMIT 50\n",
    "\"\"\"\n",
    "\n",
    "print(\"Results\")\n",
    "run_query(queryString)"
   ]
  },
  {
   "cell_type": "code",
   "execution_count": 157,
   "id": "47f54aca-8fdf-45f2-835e-b353791c5d31",
   "metadata": {},
   "outputs": [
    {
     "name": "stdout",
     "output_type": "stream",
     "text": [
      "Results\n",
      "[('howmanyfilms', '2'), ('composername', 'Elliot Goldenthal')]\n",
      "[('howmanyfilms', '2'), ('composername', 'Danny Elfman')]\n",
      "[('howmanyfilms', '2'), ('composername', 'James Newton Howard')]\n",
      "[('howmanyfilms', '3'), ('composername', 'Hans Zimmer')]\n"
     ]
    },
    {
     "data": {
      "text/plain": [
       "4"
      ]
     },
     "execution_count": 157,
     "metadata": {},
     "output_type": "execute_result"
    }
   ],
   "source": [
    "queryString = \"\"\"\n",
    "SELECT DISTINCT COUNT(?title) as ?howmanyfilms ?composername\n",
    "WHERE {\n",
    "    wd:Q2695156 wdt:P4969 ?movie .\n",
    "    ?movie wdt:P31 wd:Q11424 .\n",
    "    ?movie <http://schema.org/name> ?title .\n",
    "    OPTIONAL{\n",
    "    ?movie wdt:P86 ?composer .\n",
    "    ?composer <http://schema.org/name> ?composername .\n",
    "    }\n",
    "} \n",
    "GROUP BY ?composername\n",
    "HAVING (COUNT(?title)>=2)\n",
    "LIMIT 50\n",
    "\"\"\"\n",
    "\n",
    "print(\"Results\")\n",
    "run_query(queryString)"
   ]
  },
  {
   "cell_type": "markdown",
   "id": "1261f210-721a-4e90-a8bd-0a57e0d87e6b",
   "metadata": {},
   "source": [
    "## Task 4: We have to find the predicates about the critic score."
   ]
  },
  {
   "cell_type": "code",
   "execution_count": 183,
   "id": "dc7f7863-223c-4abf-bc0c-ef4d63571865",
   "metadata": {},
   "outputs": [
    {
     "name": "stdout",
     "output_type": "stream",
     "text": [
      "Results\n",
      "[('p', 'http://www.wikidata.org/prop/direct/P1657'), ('pname', 'MPAA film rating')]\n",
      "[('p', 'http://www.wikidata.org/prop/direct/P1712'), ('pname', 'Metacritic ID')]\n",
      "[('p', 'http://www.wikidata.org/prop/direct/P1981'), ('pname', 'FSK film rating')]\n",
      "[('p', 'http://www.wikidata.org/prop/direct/P2363'), ('pname', 'NMHH film rating')]\n",
      "[('p', 'http://www.wikidata.org/prop/direct/P2629'), ('pname', 'BBFC rating')]\n",
      "[('p', 'http://www.wikidata.org/prop/direct/P2758'), ('pname', 'CNC film rating (France)')]\n",
      "[('p', 'http://www.wikidata.org/prop/direct/P3306'), ('pname', 'ICAA rating')]\n",
      "[('p', 'http://www.wikidata.org/prop/direct/P3402'), ('pname', 'CNC film rating (Romania)')]\n",
      "[('p', 'http://www.wikidata.org/prop/direct/P3650'), ('pname', 'JMK film rating')]\n",
      "[('p', 'http://www.wikidata.org/prop/direct/P3834'), ('pname', 'RTC film rating')]\n",
      "[('p', 'http://www.wikidata.org/prop/direct/P5970'), ('pname', 'Medierådet rating')]\n",
      "[('p', 'http://www.wikidata.org/prop/direct/P2684'), ('pname', 'Kijkwijzer rating')]\n",
      "[('p', 'http://www.wikidata.org/prop/direct/P3216'), ('pname', 'ClassInd rating')]\n",
      "[('p', 'http://www.wikidata.org/prop/direct/P2637'), ('pname', 'RARS rating')]\n",
      "[('p', 'http://www.wikidata.org/prop/direct/P4437'), ('pname', 'FPB rating')]\n",
      "[('p', 'http://www.wikidata.org/prop/direct/P2747'), ('pname', 'Filmiroda rating')]\n",
      "[('p', 'http://www.wikidata.org/prop/direct/P2756'), ('pname', 'EIRIN film rating')]\n",
      "[('p', 'http://www.wikidata.org/prop/direct/P3818'), ('pname', 'KMRB film rating')]\n",
      "[('p', 'http://www.wikidata.org/prop/direct/P8889'), ('pname', 'MTRCB rating')]\n",
      "[('p', 'http://www.wikidata.org/prop/direct/P5201'), ('pname', 'IMDA rating')]\n",
      "[('p', 'http://www.wikidata.org/prop/direct/P7573'), ('pname', 'IFCO rating')]\n",
      "[('p', 'http://www.wikidata.org/prop/direct/P444'), ('pname', 'review score')]\n",
      "[('p', 'http://www.wikidata.org/prop/direct/P3428'), ('pname', 'INCAA film rating')]\n",
      "[('p', 'http://www.wikidata.org/prop/direct/P9086'), ('pname', 'BAMID film rating')]\n",
      "[('p', 'http://www.wikidata.org/prop/direct/P5150'), ('pname', 'IGAC rating')]\n",
      "[('p', 'http://www.wikidata.org/prop/direct/P5152'), ('pname', 'KAVI rating')]\n",
      "[('p', 'http://www.wikidata.org/prop/direct/P8874'), ('pname', 'Hong Kong film rating')]\n",
      "[('p', 'http://www.wikidata.org/prop/direct/P6452'), ('pname', 'CBFC rating')]\n",
      "[('p', 'http://www.wikidata.org/prop/direct/P4271'), ('pname', 'rating')]\n",
      "[('p', 'http://www.wikidata.org/prop/direct/P8652'), ('pname', 'Netflix maturity rating')]\n",
      "[('p', 'http://www.wikidata.org/prop/direct/P447'), ('pname', 'review score by')]\n",
      "[('p', 'http://www.wikidata.org/prop/direct/P306'), ('pname', 'operating system')]\n"
     ]
    },
    {
     "data": {
      "text/plain": [
       "32"
      ]
     },
     "execution_count": 183,
     "metadata": {},
     "output_type": "execute_result"
    }
   ],
   "source": [
    "queryString = \"\"\"\n",
    "SELECT DISTINCT ?p ?pname\n",
    "WHERE {\n",
    "    ?a wdt:P31 wd:Q11424 .\n",
    "    ?a <http://schema.org/name> ?aname .\n",
    "    ?a ?p ?o .\n",
    "    ?p <http://schema.org/name> ?pname .\n",
    "    FILTER REGEX(?pname, 'score|critic|rating', 'i')\n",
    "} \n",
    "\n",
    "LIMIT 200\n",
    "\"\"\"\n",
    "\n",
    "print(\"Results\")\n",
    "run_query(queryString)"
   ]
  },
  {
   "cell_type": "markdown",
   "id": "8fecf57b-fe46-443b-b935-9601a1cfd2a4",
   "metadata": {},
   "source": [
    "Here we can see that we have a lot of predicate for our purpose, but I think that the best are 'rating' (P4271) and 'review score' (P444).\n",
    "After some try I found that 'review' score is the best. "
   ]
  },
  {
   "cell_type": "code",
   "execution_count": 198,
   "id": "60549b20-6feb-48af-bc61-a7eb1af78c3e",
   "metadata": {},
   "outputs": [
    {
     "name": "stdout",
     "output_type": "stream",
     "text": [
      "Results\n",
      "[('aname', 'Citizen Kane'), ('score', '99%')]\n",
      "[('aname', 'Brazil'), ('score', '98%')]\n",
      "[('aname', 'Hamilton'), ('score', '98%')]\n",
      "[('aname', 'Black Panther'), ('score', '96%')]\n",
      "[('aname', 'Nightcrawler'), ('score', '95%')]\n",
      "[('aname', 'The Shawshank Redemption'), ('score', '95%')]\n",
      "[('aname', 'Yojimbo'), ('score', '95%')]\n",
      "[('aname', 'Monty Python’s Life of Brian'), ('score', '95%')]\n",
      "[('aname', 'Lost in Translation'), ('score', '95%')]\n",
      "[('aname', 'A Short Film About Love'), ('score', '95%')]\n",
      "[('aname', 'Visions of Light'), ('score', '95%')]\n",
      "[('aname', 'Iron Man'), ('score', '94%')]\n",
      "[('aname', 'Avengers: Endgame'), ('score', '94%')]\n",
      "[('aname', 'Juno'), ('score', '94%')]\n",
      "[('aname', 'Logan'), ('score', '93%')]\n",
      "[('aname', 'Thor: Ragnarok'), ('score', '93%')]\n",
      "[('aname', 'Fantastic Mr. Fox'), ('score', '93%')]\n",
      "[('aname', 'A Better Tomorrow'), ('score', '93%')]\n",
      "[('aname', 'Dillinger'), ('score', '93%')]\n",
      "[('aname', 'Captain Phillips'), ('score', '93%')]\n",
      "[('aname', 'Disobedience'), ('score', '93%')]\n",
      "[('aname', 'Meadowland'), ('score', '92%')]\n",
      "[('aname', 'Thor: Ragnarok'), ('score', '92%')]\n",
      "[('aname', 'Bridge of Spies'), ('score', '92%')]\n",
      "[('aname', 'The Landlord'), ('score', '92%')]\n",
      "[('aname', 'Star Wars: Episode VIII – The Last Jedi'), ('score', '91%')]\n",
      "[('aname', 'Whale Rider'), ('score', '91%')]\n",
      "[('aname', 'The Ox-Bow Incident'), ('score', '91%')]\n",
      "[('aname', 'Captain America: Civil War'), ('score', '90%')]\n",
      "[('aname', 'Kinsey'), ('score', '90%')]\n",
      "[('aname', 'True Grit'), ('score', '90%')]\n",
      "[('aname', 'Promising Young Woman'), ('score', '90%')]\n",
      "[('aname', 'The Skulls'), ('score', '9%')]\n",
      "[('aname', 'The Ogre'), ('score', '89%')]\n",
      "[('aname', 'The Hunger Games: Catching Fire'), ('score', '89%')]\n",
      "[('aname', 'Baran'), ('score', '89%')]\n",
      "[('aname', 'Dennis Skinner: Nature of the Beast'), ('score', '89%')]\n",
      "[('aname', 'The Matrix'), ('score', '88%')]\n",
      "[('aname', 'Cat Ballou'), ('score', '88%')]\n",
      "[('aname', 'Friend of the World'), ('score', '88%')]\n",
      "[('aname', 'Amarcord'), ('score', '87%')]\n",
      "[('aname', 'Inception'), ('score', '87%')]\n",
      "[('aname', 'American Beauty'), ('score', '87%')]\n",
      "[('aname', 'The Color of Paradise'), ('score', '87%')]\n",
      "[('aname', 'Inside Man'), ('score', '86%')]\n",
      "[('aname', 'Paris Belongs to Us'), ('score', '86%')]\n",
      "[('aname', 'Testament of Orpheus'), ('score', '86%')]\n",
      "[('aname', 'Robot & Frank'), ('score', '86%')]\n",
      "[('aname', \"Monty Python's The Meaning of Life\"), ('score', '85%')]\n",
      "[('aname', 'Top Secret'), ('score', '85%')]\n"
     ]
    },
    {
     "data": {
      "text/plain": [
       "50"
      ]
     },
     "execution_count": 198,
     "metadata": {},
     "output_type": "execute_result"
    }
   ],
   "source": [
    "queryString = \"\"\"\n",
    "SELECT DISTINCT  ?aname ?score\n",
    "WHERE {\n",
    "    ?a wdt:P31 wd:Q11424 .\n",
    "    ?a <http://schema.org/name> ?aname .\n",
    "    ?a wdt:P444 ?score .\n",
    "    FILTER REGEX(?score, '%$', 'i')\n",
    "} \n",
    "ORDER BY DESC(?score)\n",
    "LIMIT 50\n",
    "\"\"\"\n",
    "\n",
    "print(\"Results\")\n",
    "run_query(queryString)"
   ]
  },
  {
   "cell_type": "markdown",
   "id": "991f78d9-7060-4358-8668-a825789ce1a0",
   "metadata": {},
   "source": [
    "Here we have all the series with the average of the score."
   ]
  },
  {
   "cell_type": "code",
   "execution_count": 7,
   "id": "885e2b5e-f5ed-4fe9-a499-cd7afde95d4c",
   "metadata": {},
   "outputs": [
    {
     "name": "stdout",
     "output_type": "stream",
     "text": [
      "Results\n",
      "[('score', '96'), ('seriename', 'Black Panther'), ('serie', 'http://www.wikidata.org/entity/Q76127371')]\n",
      "[('score', '94'), ('seriename', 'Avengers'), ('serie', 'http://www.wikidata.org/entity/Q20021634')]\n",
      "[('score', '94'), ('seriename', 'Iron Man'), ('serie', 'http://www.wikidata.org/entity/Q16642701')]\n",
      "[('score', '93'), ('seriename', 'X-Men'), ('serie', 'http://www.wikidata.org/entity/Q2006869')]\n",
      "[('score', '93'), ('seriename', 'Wolverine trilogy'), ('serie', 'http://www.wikidata.org/entity/Q18286530')]\n",
      "[('score', '91'), ('seriename', 'Star Wars'), ('serie', 'http://www.wikidata.org/entity/Q22092344')]\n",
      "[('score', '91'), ('seriename', 'Star Wars sequel trilogy'), ('serie', 'http://www.wikidata.org/entity/Q6586871')]\n",
      "[('score', '91'), ('seriename', 'Marvel Cinematic Universe Phase Three'), ('serie', 'http://www.wikidata.org/entity/Q51963836')]\n",
      "[('score', '90'), ('seriename', 'Captain America'), ('serie', 'http://www.wikidata.org/entity/Q17385223')]\n",
      "[('score', '89'), ('seriename', 'The Hunger Games'), ('serie', 'http://www.wikidata.org/entity/Q11885031')]\n",
      "[('score', '88'), ('seriename', 'The Matrix trilogy'), ('serie', 'http://www.wikidata.org/entity/Q1210827')]\n",
      "[('score', '87.333333333333333'), ('seriename', 'Thor'), ('serie', 'http://www.wikidata.org/entity/Q88306753')]\n",
      "[('score', '86.5'), ('seriename', 'The Infinity Saga'), ('serie', 'http://www.wikidata.org/entity/Q63405798')]\n",
      "[('score', '86.5'), ('seriename', 'Marvel Cinematic Universe'), ('serie', 'http://www.wikidata.org/entity/Q642878')]\n",
      "[('score', '86'), ('seriename', 'The Orphic Trilogy'), ('serie', 'http://www.wikidata.org/entity/Q7755431')]\n",
      "[('score', '82'), ('seriename', 'Dragon Ball'), ('serie', 'http://www.wikidata.org/entity/Q16515139')]\n",
      "[('score', '81'), ('seriename', 'Ant-Man'), ('serie', 'http://www.wikidata.org/entity/Q55480935')]\n",
      "[('score', '81'), ('seriename', 'Guardians of the Galaxy'), ('serie', 'http://www.wikidata.org/entity/Q29226413')]\n",
      "[('score', '81'), ('seriename', 'Marvel Cinematic Universe Phase Two'), ('serie', 'http://www.wikidata.org/entity/Q51963356')]\n",
      "[('score', '79.333333333333333'), ('seriename', 'Marvel Cinematic Universe Phase One'), ('serie', 'http://www.wikidata.org/entity/Q51963292')]\n",
      "[('score', '76'), ('seriename', 'Kick-Ass'), ('serie', 'http://www.wikidata.org/entity/Q14948573')]\n",
      "[('score', '75'), ('seriename', 'BRD Trilogy'), ('serie', 'http://www.wikidata.org/entity/Q4836348')]\n",
      "[('score', '71'), ('seriename', 'Fast & Furious'), ('serie', 'http://www.wikidata.org/entity/Q1576873')]\n",
      "[('score', '69.5'), ('seriename', 'The Hobbit trilogy'), ('serie', 'http://www.wikidata.org/entity/Q74331')]\n",
      "[('score', '69.5'), ('seriename', \"Peter Jackson's Middle-earth film series\"), ('serie', 'http://www.wikidata.org/entity/Q26214973')]\n",
      "[('score', '30'), ('seriename', 'Rocky'), ('serie', 'http://www.wikidata.org/entity/Q1078084')]\n",
      "[('score', '28'), ('seriename', 'Resident Evil'), ('serie', 'http://www.wikidata.org/entity/Q1276325')]\n",
      "[('score', '16'), ('seriename', 'Pokémon'), ('serie', 'http://www.wikidata.org/entity/Q97138261')]\n",
      "[('score', '15'), ('seriename', 'Dark Universe'), ('serie', 'http://www.wikidata.org/entity/Q27302334')]\n",
      "[('score', '15'), ('seriename', 'The Mummy'), ('serie', 'http://www.wikidata.org/entity/Q3823300')]\n"
     ]
    },
    {
     "data": {
      "text/plain": [
       "30"
      ]
     },
     "execution_count": 7,
     "metadata": {},
     "output_type": "execute_result"
    }
   ],
   "source": [
    "queryString = \"\"\"\n",
    "SELECT DISTINCT  AVG(xsd:integer(SUBSTR(?score, 1,2))) as ?score ?seriename ?serie\n",
    "WHERE {\n",
    "    ?a wdt:P31 wd:Q11424 .\n",
    "    ?a <http://schema.org/name> ?aname .\n",
    "    ?a wdt:P444 ?score .\n",
    "    ?a wdt:P179 ?serie .\n",
    "    ?serie <http://schema.org/name> ?seriename .\n",
    "    FILTER REGEX(?score, '%$', 'i')\n",
    "} \n",
    "GROUP BY ?seriename ?serie\n",
    "ORDER BY DESC(?score)\n",
    "LIMIT 50\n",
    "\"\"\"\n",
    "\n",
    "print(\"Results\")\n",
    "run_query(queryString)"
   ]
  },
  {
   "cell_type": "markdown",
   "id": "a01e6aa9-c316-4544-9c30-9b1cb518249e",
   "metadata": {},
   "source": [
    "I can't do an average of the score per series because the value of the score is not a simple integer or double."
   ]
  },
  {
   "cell_type": "markdown",
   "id": "9e63f45c-fe72-4f96-9cec-64a33ee83389",
   "metadata": {},
   "source": [
    "## Task 5: Here we retrieve all the cast members of 'The Dark Trilogy'."
   ]
  },
  {
   "cell_type": "code",
   "execution_count": 221,
   "id": "8ef09c9b-b6d9-4cd3-ac30-735996e9448a",
   "metadata": {},
   "outputs": [
    {
     "name": "stdout",
     "output_type": "stream",
     "text": [
      "Results\n",
      "[('actorname', 'Christian Bale'), ('actor', 'http://www.wikidata.org/entity/Q45772')]\n",
      "[('actorname', 'Liam Neeson'), ('actor', 'http://www.wikidata.org/entity/Q58444')]\n",
      "[('actorname', 'Katie Holmes'), ('actor', 'http://www.wikidata.org/entity/Q174346')]\n",
      "[('actorname', 'Maggie Gyllenhaal'), ('actor', 'http://www.wikidata.org/entity/Q202381')]\n",
      "[('actorname', 'Gary Oldman'), ('actor', 'http://www.wikidata.org/entity/Q83492')]\n",
      "[('actorname', 'Tom Hardy'), ('actor', 'http://www.wikidata.org/entity/Q208026')]\n",
      "[('actorname', 'Morgan Freeman'), ('actor', 'http://www.wikidata.org/entity/Q48337')]\n",
      "[('actorname', 'Joseph Gordon-Levitt'), ('actor', 'http://www.wikidata.org/entity/Q177311')]\n",
      "[('actorname', 'Anne Hathaway'), ('actor', 'http://www.wikidata.org/entity/Q36301')]\n",
      "[('actorname', 'Marion Cotillard'), ('actor', 'http://www.wikidata.org/entity/Q8927')]\n",
      "[('actorname', 'Heath Ledger'), ('actor', 'http://www.wikidata.org/entity/Q40572')]\n",
      "[('actorname', 'Michael Caine'), ('actor', 'http://www.wikidata.org/entity/Q123351')]\n",
      "[('actorname', 'Aaron Eckhart'), ('actor', 'http://www.wikidata.org/entity/Q192643')]\n",
      "[('actorname', 'Cillian Murphy'), ('actor', 'http://www.wikidata.org/entity/Q202589')]\n"
     ]
    },
    {
     "data": {
      "text/plain": [
       "14"
      ]
     },
     "execution_count": 221,
     "metadata": {},
     "output_type": "execute_result"
    }
   ],
   "source": [
    "queryString = \"\"\"\n",
    "SELECT DISTINCT ?actorname ?actor\n",
    "WHERE {\n",
    "   wd:Q12859908 wdt:P161 ?actor .\n",
    "   ?actor <http://schema.org/name> ?actorname\n",
    "}\n",
    "LIMIT 50\n",
    "\"\"\"\n",
    "\n",
    "print(\"Results\")\n",
    "run_query(queryString)"
   ]
  },
  {
   "cell_type": "markdown",
   "id": "ff514beb-faa9-4e4d-a214-8f0e405a7180",
   "metadata": {},
   "source": [
    "Let's find Kevin Bacon."
   ]
  },
  {
   "cell_type": "code",
   "execution_count": 247,
   "id": "b792a0db-ddf2-46b3-b13a-5a390b5a51fb",
   "metadata": {},
   "outputs": [
    {
     "name": "stdout",
     "output_type": "stream",
     "text": [
      "Results\n",
      "[('actor', 'http://www.wikidata.org/entity/Q3454165'), ('actorname', 'Kevin Bacon')]\n"
     ]
    },
    {
     "data": {
      "text/plain": [
       "1"
      ]
     },
     "execution_count": 247,
     "metadata": {},
     "output_type": "execute_result"
    }
   ],
   "source": [
    "queryString = \"\"\"\n",
    "SELECT DISTINCT ?actor ?actorname\n",
    "WHERE {\n",
    "    ?movie wdt:P161 ?actor .\n",
    "    ?actor <http://schema.org/name> ?actorname .\n",
    "    FILTER REGEX(?actorname, \"Kevin Bacon\", 'i')\n",
    "}\n",
    "LIMIT 50\n",
    "\"\"\"\n",
    "\n",
    "print(\"Results\")\n",
    "run_query(queryString)"
   ]
  },
  {
   "cell_type": "code",
   "execution_count": 252,
   "id": "b951eaa1-e8c7-4a01-bed5-8760ee46014e",
   "metadata": {},
   "outputs": [
    {
     "name": "stdout",
     "output_type": "stream",
     "text": [
      "Results\n",
      "[('actorname', 'Katie Holmes')]\n",
      "[('actorname', 'Morgan Freeman')]\n",
      "[('actorname', 'Cillian Murphy')]\n",
      "[('actorname', 'Gary Oldman')]\n",
      "[('actorname', 'Tom Hardy')]\n",
      "[('actorname', 'Christian Bale')]\n",
      "[('actorname', 'Maggie Gyllenhaal')]\n",
      "[('actorname', 'Aaron Eckhart')]\n",
      "[('actorname', 'Michael Caine')]\n",
      "[('actorname', 'Marion Cotillard')]\n",
      "[('actorname', 'Heath Ledger')]\n",
      "[('actorname', 'Liam Neeson')]\n",
      "[('actorname', 'Joseph Gordon-Levitt')]\n",
      "[('actorname', 'Anne Hathaway')]\n"
     ]
    },
    {
     "data": {
      "text/plain": [
       "14"
      ]
     },
     "execution_count": 252,
     "metadata": {},
     "output_type": "execute_result"
    }
   ],
   "source": [
    "queryString = \"\"\"\n",
    "SELECT DISTINCT ?actorname\n",
    "WHERE {\n",
    "    wd:Q12859908 wdt:P161 ?actor .\n",
    "    ?actor <http://schema.org/name> ?actorname .\n",
    "    ?movies  wdt:P161 ?actor .\n",
    "    ?movies wdt:P161 ?actor1 .\n",
    "    ?movies1 wdt:P161 ?actor1 .\n",
    "    ?movies2 wdt:P161 ?actor1 .\n",
    "    ?movies2 wdt:P161 ?actor2 .\n",
    "    FILTER(?actor2 = wd:Q3454165)\n",
    "}\n",
    "LIMIT 50\n",
    "\"\"\"\n",
    "\n",
    "print(\"Results\")\n",
    "run_query(queryString)"
   ]
  }
 ],
 "metadata": {
  "kernelspec": {
   "display_name": "Python 3",
   "language": "python",
   "name": "python3"
  },
  "language_info": {
   "codemirror_mode": {
    "name": "ipython",
    "version": 3
   },
   "file_extension": ".py",
   "mimetype": "text/x-python",
   "name": "python",
   "nbconvert_exporter": "python",
   "pygments_lexer": "ipython3",
   "version": "3.7.10"
  }
 },
 "nbformat": 4,
 "nbformat_minor": 5
}
