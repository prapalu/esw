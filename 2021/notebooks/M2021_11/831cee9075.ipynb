{
 "cells": [
  {
   "cell_type": "markdown",
   "id": "7034c3bf-6eb0-4418-8687-7b9d2a501103",
   "metadata": {},
   "source": [
    "# General instructions\n",
    "\n",
    "The goal of the project is to materialize a set of **exploratory workloads** over a real-world, large-scale,  open-domain KG: [WikiData](https://www.wikidata.org/wiki/Wikidata:Main_Page)\n",
    "\n",
    "An exploratory workload  is composed by a set of queries, where each query is related to the information obtained previously.\n",
    "\n",
    "An exploratory workload starts with a usually vague, open ended question, and does not assume the person issuing the workload has a clear understanding of the data contained in the target database or its structure.\n",
    "\n",
    "Remeber that:\n",
    "\n",
    "1. All the queries must run in the python notebook\n",
    "2. You can use classes and properties only if you find them via a SPARQL query that must be present in the notebook\n",
    "3. You do not delete useless queries. Keep everything that is synthatically valid \n",
    "\n",
    "```\n",
    "?p <http://schema.org/name> ?name .\n",
    "```\n",
    "    \n",
    "    is the BGP returning a human-readable name of a property or a class in Wikidata.\n",
    "    \n",
    "    "
   ]
  },
  {
   "cell_type": "code",
   "execution_count": 113,
   "id": "3605c9d5-5371-49a5-be8d-d66e8f417139",
   "metadata": {},
   "outputs": [],
   "source": [
    "## SETUP used later\n",
    "\n",
    "from SPARQLWrapper import SPARQLWrapper, JSON\n",
    "\n",
    "\n",
    "prefixString = \"\"\"\n",
    "##-831cee9075-##\n",
    "PREFIX wd: <http://www.wikidata.org/entity/> \n",
    "PREFIX wdt: <http://www.wikidata.org/prop/direct/> \n",
    "PREFIX sc: <http://schema.org/>\n",
    "\"\"\"\n",
    "\n",
    "# select and construct queries\n",
    "def run_query(queryString):\n",
    "    to_run = prefixString + \"\\n\" + queryString\n",
    "\n",
    "    sparql = SPARQLWrapper(\"http://a256-gc1-02.srv.aau.dk:5820/sparql\")\n",
    "    sparql.setTimeout(300)\n",
    "    sparql.setReturnFormat(JSON)\n",
    "    sparql.setQuery(to_run)\n",
    "\n",
    "    try :\n",
    "       results = sparql.query()\n",
    "       json_results = results.convert()\n",
    "       if len(json_results['results']['bindings'])==0:\n",
    "          print(\"Empty\")\n",
    "          return 0\n",
    "    \n",
    "       for bindings in json_results['results']['bindings']:\n",
    "          print( [ (var, value['value'])  for var, value in bindings.items() ] )\n",
    "\n",
    "       return len(json_results['results']['bindings'])\n",
    "\n",
    "    except Exception as e :\n",
    "        print(\"The operation failed\", e)\n",
    "    \n",
    "# ASk queries\n",
    "def run_ask_query(queryString):\n",
    "    to_run = prefixString + \"\\n\" + queryString\n",
    "\n",
    "    sparql = SPARQLWrapper(\"http://a256-gc1-03.srv.aau.dk:5820/sparql\")\n",
    "    sparql.setTimeout(300)\n",
    "    sparql.setReturnFormat(JSON)\n",
    "    sparql.setQuery(to_run)\n",
    "\n",
    "    try :\n",
    "        return sparql.query().convert()\n",
    "\n",
    "    except Exception as e :\n",
    "        print(\"The operation failed\", e)"
   ]
  },
  {
   "cell_type": "markdown",
   "id": "d477a59c-a68c-4c8f-9f97-8ca5294d7d27",
   "metadata": {},
   "source": [
    "# Book Workflow Series (\"Political Magazines explorative search\") \n",
    "\n",
    "Consider the following exploratory scenario:\n",
    "\n",
    "\n",
    ">  Investigate the U.S. Magazines which write about politics and their media presence\n",
    "\n",
    "\n",
    "\n",
    "## Useful URIs for the current workflow\n",
    "The following are given:\n",
    "\n",
    "| IRI           | Description   | Role      |\n",
    "| -----------   | -----------   |-----------|\n",
    "| `wdt:P1647`   | subproperty   | predicate |\n",
    "| `wdt:P31`     | instance of   | predicate |\n",
    "| `wdt:P921`    | main subject  | predicate | \n",
    "| `wdt:P17`     | country       | predicate | \n",
    "| `wdt:P279`    | subclass      | predicate |\n",
    "| `wd:Q41298`   | Magazine      | node |\n",
    "| `wd:Q7163`    | politics      | node |\n",
    "| `wd:Q30`      | U.S.          | node |\n",
    "| `wd:Q217305`  | The New Yorker  | node |\n",
    "\n",
    "\n",
    "\n",
    "\n",
    "\n",
    "\n",
    "\n",
    "Also consider\n",
    "\n",
    "```\n",
    "?p wdt:P17 wd:Q30 .\n",
    "?p wdt:P31/wdt:P279* wd:Q41298  . \n",
    "```\n",
    "\n",
    "is the BGP to retrieve all **type of publications in the U.S.**\n",
    "\n",
    "\n",
    "The workload should\n",
    "\n",
    "\n",
    "1. Identify the BGP for obtaining the US magazines that write about politics\n",
    "\n",
    "2. Compare the number of social media followers and get the top five magazines along with main properties as the place of publication and subfields of work\n",
    "\n",
    "3. Compare the number of followers with the top three US magazines writing mainly about sports\n",
    "\n",
    "4. Get the name of notable employees working for The New Yorker and any other political magazine published in the US. Check if these employees have witten any book and if so get the title.  \n",
    "\n",
    "5. Is any employee of The New Yorker ever been nominated for a prize or award?"
   ]
  },
  {
   "cell_type": "code",
   "execution_count": 114,
   "id": "24a853ab-830c-422c-afd3-e9e015b8b8ed",
   "metadata": {},
   "outputs": [],
   "source": [
    "# start your workflow here"
   ]
  },
  {
   "cell_type": "markdown",
   "id": "baf22e79-78ba-4e0d-856e-53cc2e2481b8",
   "metadata": {},
   "source": [
    "1) Here we retrieve the type of publications with the main subject that contains the word 'politic'. It means that the publication retrived talks about politic."
   ]
  },
  {
   "cell_type": "code",
   "execution_count": 115,
   "id": "ade01416-92e7-4ad7-b9a9-b8fb330750dc",
   "metadata": {},
   "outputs": [
    {
     "name": "stdout",
     "output_type": "stream",
     "text": [
      "Results\n",
      "[('pname', 'Legislative Studies Quarterly'), ('subjectname', 'political science')]\n",
      "[('pname', 'Journal of World-Systems Research'), ('subjectname', 'political science')]\n",
      "[('pname', 'The Good Society'), ('subjectname', 'political science')]\n",
      "[('pname', 'Research & Politics'), ('subjectname', 'political science')]\n",
      "[('pname', 'Bulletin of the Atomic Scientists'), ('subjectname', 'political science')]\n",
      "[('pname', 'Journal of Political Ecology'), ('subjectname', 'political science')]\n",
      "[('pname', 'The Port Folio'), ('subjectname', 'politics')]\n",
      "[('pname', 'The New Yorker'), ('subjectname', 'politics')]\n",
      "[('pname', 'Politico'), ('subjectname', 'politics')]\n",
      "[('pname', 'Commentary'), ('subjectname', 'politics')]\n",
      "[('pname', 'Dissent'), ('subjectname', 'political science')]\n",
      "[('pname', 'Telos'), ('subjectname', 'political science')]\n",
      "[('pname', 'The Politic'), ('subjectname', 'politics of the United States')]\n",
      "[('pname', 'Jacobin'), ('subjectname', 'politics')]\n",
      "[('pname', 'The Liberator'), ('subjectname', 'politics')]\n"
     ]
    },
    {
     "data": {
      "text/plain": [
       "15"
      ]
     },
     "execution_count": 115,
     "metadata": {},
     "output_type": "execute_result"
    }
   ],
   "source": [
    "queryString = \"\"\"\n",
    "SELECT DISTINCT ?pname ?subjectname\n",
    "WHERE { \n",
    "\n",
    "    ?p wdt:P17 wd:Q30 .\n",
    "    ?p wdt:P31/wdt:P279* wd:Q41298  . \n",
    "    ?p <http://schema.org/name> ?pname .\n",
    "    ?p wdt:P921 ?m .\n",
    "    ?m <http://schema.org/name> ?subjectname .\n",
    "    FILTER REGEX(?subjectname, \"politic\", 'i')\n",
    "} \n",
    "\n",
    "\n",
    "\"\"\"\n",
    "\n",
    "print(\"Results\")\n",
    "run_query(queryString)"
   ]
  },
  {
   "cell_type": "markdown",
   "id": "047d58a5-2cfc-4911-895c-5f199b50ac4e",
   "metadata": {},
   "source": [
    "2) First of all let's search all the predicate related to the magazines."
   ]
  },
  {
   "cell_type": "code",
   "execution_count": 116,
   "id": "ee540f36-be84-4e80-951b-1289603224ff",
   "metadata": {},
   "outputs": [
    {
     "name": "stdout",
     "output_type": "stream",
     "text": [
      "Results\n",
      "[('predicatename', 'memoriademadrid publication ID')]\n",
      "[('predicatename', 'Czech National Bibliography book ID')]\n",
      "[('predicatename', 'Periodical ID in a database of the Ministry of Culture of the Czech Republic')]\n",
      "[('predicatename', 'Norwegian Register journal ID')]\n",
      "[('predicatename', 'ERA Journal ID')]\n",
      "[('predicatename', 'CODEN')]\n",
      "[('predicatename', 'ISO 4 abbreviation')]\n",
      "[('predicatename', 'Danish Bibliometric Research Indicator level')]\n",
      "[('predicatename', 'Danish Bibliometric Research Indicator (BFI) SNO/CNO')]\n",
      "[('predicatename', 'JUFO ID')]\n",
      "[('predicatename', 'OpenCitations bibliographic resource ID')]\n",
      "[('predicatename', 'DOI')]\n",
      "[('predicatename', 'UniProt journal ID')]\n",
      "[('predicatename', 'Scilit journal ID')]\n",
      "[('predicatename', 'Crossref journal ID')]\n",
      "[('predicatename', 'Courrier international source ID')]\n",
      "[('predicatename', 'Japanese magazine code')]\n",
      "[('predicatename', 'Directory of Open Access Journals ID')]\n",
      "[('predicatename', 'HathiTrust ID')]\n",
      "[('predicatename', 'bibcode')]\n",
      "[('predicatename', 'Latindex ID')]\n",
      "[('predicatename', 'ERIH PLUS ID')]\n",
      "[('predicatename', 'Springer journal ID')]\n",
      "[('predicatename', 'ZDB ID')]\n",
      "[('predicatename', 'NLM Unique ID')]\n",
      "[('predicatename', 'total produced')]\n",
      "[('predicatename', 'Library of Congress Control Number (LCCN) (bibliographic)')]\n",
      "[('predicatename', 'Scopus source ID')]\n",
      "[('predicatename', 'ISFDB series ID')]\n",
      "[('predicatename', 'Encyclopædia Britannica Online ID')]\n",
      "[('predicatename', 'title')]\n",
      "[('predicatename', 'Alexa rank')]\n",
      "[('predicatename', 'Twitter username')]\n",
      "[('predicatename', 'Instagram username')]\n",
      "[('predicatename', 'Facebook ID')]\n",
      "[('predicatename', 'VIAF ID')]\n",
      "[('predicatename', 'GND ID')]\n",
      "[('predicatename', 'price')]\n",
      "[('predicatename', 'ISSN')]\n",
      "[('predicatename', 'YouTube channel ID')]\n",
      "[('predicatename', 'OCLC control number')]\n",
      "[('predicatename', 'Library of Congress authority ID')]\n",
      "[('predicatename', 'hashtag')]\n",
      "[('predicatename', 'Google Knowledge Graph ID')]\n",
      "[('predicatename', 'Bibliothèque nationale de France ID')]\n",
      "[('predicatename', \"Photographers' Identities Catalog ID\")]\n",
      "[('predicatename', 'publication interval')]\n",
      "[('predicatename', 'Dailymotion channel ID')]\n",
      "[('predicatename', 'lib.reviews ID')]\n",
      "[('predicatename', 'LittleSis organization ID')]\n"
     ]
    },
    {
     "data": {
      "text/plain": [
       "50"
      ]
     },
     "execution_count": 116,
     "metadata": {},
     "output_type": "execute_result"
    }
   ],
   "source": [
    "queryString = \"\"\"\n",
    "SELECT DISTINCT ?predicatename\n",
    "WHERE { \n",
    "    ?p wdt:P31 wd:Q41298 .\n",
    "    ?p ?predicate ?o . FILTER(isLiteral(?o))\n",
    "    ?predicate <http://schema.org/name> ?predicatename .\n",
    "} \n",
    "\n",
    "LIMIT 50\n",
    "\"\"\"\n",
    "\n",
    "print(\"Results\")\n",
    "run_query(queryString)"
   ]
  },
  {
   "cell_type": "markdown",
   "id": "08fb0e7b-939b-4cbc-b722-fd5bc89e7fea",
   "metadata": {},
   "source": [
    "Let's filter for finding the right predicate."
   ]
  },
  {
   "cell_type": "code",
   "execution_count": 118,
   "id": "e2f3b953-7505-4f89-8a8b-613e1d37e4d5",
   "metadata": {},
   "outputs": [
    {
     "name": "stdout",
     "output_type": "stream",
     "text": [
      "Results\n",
      "[('predicatename', 'social media followers'), ('predicate', 'http://www.wikidata.org/prop/direct/P8687')]\n"
     ]
    },
    {
     "data": {
      "text/plain": [
       "1"
      ]
     },
     "execution_count": 118,
     "metadata": {},
     "output_type": "execute_result"
    }
   ],
   "source": [
    "queryString = \"\"\"\n",
    "SELECT DISTINCT ?predicatename ?predicate\n",
    "WHERE { \n",
    "    ?p wdt:P31 wd:Q41298 .\n",
    "    ?p ?predicate ?o . FILTER(isLiteral(?o))\n",
    "    ?predicate <http://schema.org/name> ?predicatename .\n",
    "    FILTER REGEX(?predicatename, 'follower|social', 'i')\n",
    "} \n",
    "\n",
    "LIMIT 50\n",
    "\"\"\"\n",
    "\n",
    "print(\"Results\")\n",
    "run_query(queryString)"
   ]
  },
  {
   "cell_type": "markdown",
   "id": "64ccd6d8-7f4d-4420-a724-2660e67b7b37",
   "metadata": {},
   "source": [
    "So we found a predicate named 'social media followers'. Let's use this for findings the number of followers of the top 5 magazines."
   ]
  },
  {
   "cell_type": "code",
   "execution_count": 119,
   "id": "b7185886-431f-48d5-a2cf-8232c24e30aa",
   "metadata": {},
   "outputs": [
    {
     "name": "stdout",
     "output_type": "stream",
     "text": [
      "Results\n",
      "[('magazines', 'The Economist'), ('followers', '25421540')]\n",
      "[('magazines', 'Time'), ('followers', '17806837')]\n",
      "[('magazines', 'Vogue'), ('followers', '9770000')]\n",
      "[('magazines', 'Veja'), ('followers', '8617912')]\n",
      "[('magazines', 'Muy Interesante'), ('followers', '8404687')]\n"
     ]
    },
    {
     "data": {
      "text/plain": [
       "5"
      ]
     },
     "execution_count": 119,
     "metadata": {},
     "output_type": "execute_result"
    }
   ],
   "source": [
    "queryString = \"\"\"\n",
    "SELECT DISTINCT ?magazines ?followers\n",
    "WHERE { \n",
    "    ?p wdt:P31 wd:Q41298 .\n",
    "    ?p <http://schema.org/name> ?magazines .\n",
    "    ?p wdt:P8687 ?followers\n",
    "} \n",
    "ORDER BY DESC (?followers)\n",
    "LIMIT 5\n",
    "\"\"\"\n",
    "\n",
    "print(\"Results\")\n",
    "run_query(queryString)"
   ]
  },
  {
   "cell_type": "markdown",
   "id": "74d37ee9-4d98-4eea-99bb-04ef57cb1500",
   "metadata": {},
   "source": [
    "Here we search for useful properties of a magazine useful for our objective."
   ]
  },
  {
   "cell_type": "code",
   "execution_count": 120,
   "id": "376143bc-75db-49f8-9dd4-b5af40e0a684",
   "metadata": {},
   "outputs": [
    {
     "name": "stdout",
     "output_type": "stream",
     "text": [
      "Results\n",
      "[('predicatename', 'country'), ('predicate', 'http://www.wikidata.org/prop/direct/P17')]\n",
      "[('predicatename', 'place of publication'), ('predicate', 'http://www.wikidata.org/prop/direct/P291')]\n",
      "[('predicatename', 'language of work or name'), ('predicate', 'http://www.wikidata.org/prop/direct/P407')]\n",
      "[('predicatename', 'country of origin'), ('predicate', 'http://www.wikidata.org/prop/direct/P495')]\n"
     ]
    },
    {
     "data": {
      "text/plain": [
       "4"
      ]
     },
     "execution_count": 120,
     "metadata": {},
     "output_type": "execute_result"
    }
   ],
   "source": [
    "queryString = \"\"\"\n",
    "SELECT DISTINCT ?predicatename ?predicate ?a\n",
    "WHERE { \n",
    "    wd:Q180089 ?predicate ?o .\n",
    "    ?predicate <http://schema.org/name> ?predicatename .\n",
    "    FILTER REGEX(?predicatename, 'work|place|country', 'i')\n",
    "} \n",
    "\n",
    "\n",
    "\"\"\"\n",
    "\n",
    "print(\"Results\")\n",
    "run_query(queryString)"
   ]
  },
  {
   "cell_type": "markdown",
   "id": "440f36fe-9a59-488d-a5a0-c8adaeaea3ff",
   "metadata": {},
   "source": [
    "Add this informations to the previus query and let's see what we can find."
   ]
  },
  {
   "cell_type": "code",
   "execution_count": 121,
   "id": "4e64639a-a30f-4070-b37a-6e98d074333e",
   "metadata": {},
   "outputs": [
    {
     "name": "stdout",
     "output_type": "stream",
     "text": [
      "Results\n",
      "[('magazines', 'The Economist'), ('followers', '25421540'), ('countryname', 'United Kingdom'), ('placeofpublicationsname', 'London')]\n",
      "[('magazines', 'Time'), ('followers', '17806837'), ('fieldofworkname', 'news'), ('countryname', 'United States of America'), ('placeofpublicationsname', 'New York City')]\n",
      "[('magazines', 'Vogue'), ('followers', '9770000'), ('fieldofworkname', 'fashion')]\n",
      "[('magazines', 'Veja'), ('followers', '8617912'), ('countryname', 'Brazil')]\n",
      "[('magazines', 'Muy Interesante'), ('followers', '8404687')]\n"
     ]
    },
    {
     "data": {
      "text/plain": [
       "5"
      ]
     },
     "execution_count": 121,
     "metadata": {},
     "output_type": "execute_result"
    }
   ],
   "source": [
    "queryString = \"\"\"\n",
    "SELECT DISTINCT ?magazines ?followers ?fieldofworkname ?countryname ?placeofpublicationsname\n",
    "WHERE { \n",
    "    ?p wdt:P31 wd:Q41298 ;\n",
    "      <http://schema.org/name> ?magazines ;\n",
    "      wdt:P8687 ?followers .\n",
    "     OPTIONAL{\n",
    "     ?p wdt:P291 ?placeofpublications .\n",
    "     ?placeofpublications <http://schema.org/name> ?placeofpublicationsname \n",
    "     }\n",
    "     OPTIONAL{\n",
    "        ?p wdt:P101 ?fieldofwork .\n",
    "        ?fieldofwork <http://schema.org/name> ?fieldofworkname \n",
    "     }\n",
    "     OPTIONAL{\n",
    "        ?p wdt:P17 ?country .\n",
    "        ?country <http://schema.org/name> ?countryname\n",
    "     }\n",
    "    \n",
    "} \n",
    "ORDER BY DESC (?followers)\n",
    "LIMIT 5\n",
    "\"\"\"\n",
    "\n",
    "print(\"Results\")\n",
    "run_query(queryString)"
   ]
  },
  {
   "cell_type": "markdown",
   "id": "852df603-74ea-44e5-860b-c74e69b49d06",
   "metadata": {},
   "source": [
    "3) Here we search the property that corresponds to main subject about sports."
   ]
  },
  {
   "cell_type": "code",
   "execution_count": 124,
   "id": "1505ea21-58a6-4beb-b2b3-785c861fd93b",
   "metadata": {},
   "outputs": [
    {
     "name": "stdout",
     "output_type": "stream",
     "text": [
      "Results\n",
      "[('subjectname', 'sports medicine'), ('m', 'http://www.wikidata.org/entity/Q840545')]\n",
      "[('subjectname', 'transportation engineering'), ('m', 'http://www.wikidata.org/entity/Q775325')]\n",
      "[('subjectname', 'sports magazine'), ('m', 'http://www.wikidata.org/entity/Q568765')]\n",
      "[('subjectname', 'rail transport in the United States'), ('m', 'http://www.wikidata.org/entity/Q3537832')]\n",
      "[('subjectname', 'sport'), ('m', 'http://www.wikidata.org/entity/Q349')]\n",
      "[('subjectname', 'motorsport'), ('m', 'http://www.wikidata.org/entity/Q5367')]\n",
      "[('subjectname', 'sport psychology'), ('m', 'http://www.wikidata.org/entity/Q632190')]\n"
     ]
    },
    {
     "data": {
      "text/plain": [
       "7"
      ]
     },
     "execution_count": 124,
     "metadata": {},
     "output_type": "execute_result"
    }
   ],
   "source": [
    "queryString = \"\"\"\n",
    "SELECT DISTINCT ?subjectname ?m\n",
    "WHERE { \n",
    "\n",
    "    ?p wdt:P17 wd:Q30 .\n",
    "    ?p wdt:P31/wdt:P279* wd:Q41298  . \n",
    "    ?p <http://schema.org/name> ?pname .\n",
    "    ?p wdt:P921 ?m .\n",
    "    ?m <http://schema.org/name> ?subjectname .\n",
    "    FILTER REGEX(?subjectname, \"sport\", 'i')\n",
    "} \n",
    "LIMIT 50\n",
    "\"\"\"\n",
    "\n",
    "print(\"Results\")\n",
    "run_query(queryString)"
   ]
  },
  {
   "cell_type": "markdown",
   "id": "3bc6cd6d-9433-4ba2-bf47-4952f9aa03e5",
   "metadata": {},
   "source": [
    "We found that the properties we are interested in are 'sports medicine' (Q840545), 'sports magazine' (Q568765), 'sport' (Q349), 'motorsport' (Q5367) and 'sport psychology' (Q632190). Now we can find the 3 top magazines that talkabout sport."
   ]
  },
  {
   "cell_type": "code",
   "execution_count": 143,
   "id": "476e1b99-e91f-45de-a552-81827c45cb40",
   "metadata": {},
   "outputs": [
    {
     "name": "stdout",
     "output_type": "stream",
     "text": [
      "Results\n",
      "[('p', 'http://www.wikidata.org/entity/Q3108681'), ('pname', 'Track & Field News'), ('followers', '144716'), ('subjectname', 'sports magazine')]\n",
      "[('p', 'http://www.wikidata.org/entity/Q1140774'), ('pname', 'The Ring'), ('followers', '104600'), ('subjectname', 'sports magazine')]\n",
      "[('p', 'http://www.wikidata.org/entity/Q22023367'), ('pname', 'National Speed Sport News'), ('followers', '24714'), ('subjectname', 'motorsport')]\n"
     ]
    },
    {
     "data": {
      "text/plain": [
       "3"
      ]
     },
     "execution_count": 143,
     "metadata": {},
     "output_type": "execute_result"
    }
   ],
   "source": [
    "queryString = \"\"\"\n",
    "SELECT DISTINCT ?p ?pname ?followers ?subjectname\n",
    "WHERE {\n",
    "    ?p wdt:P17 wd:Q30 .\n",
    "    ?p wdt:P31/wdt:P279* wd:Q41298  .\n",
    "    ?p wdt:P921 ?m .\n",
    "    ?m <http://schema.org/name> ?subjectname .\n",
    "    ?p wdt:P8687 ?followers .\n",
    "    ?p <http://schema.org/name> ?pname .\n",
    "    ?p wdt:P921 ?subject .\n",
    "    ?subject <http://schema.org/name> ?subjectname .\n",
    "    FILTER(?subject = wd:Q840545 || ?subject = wd:Q568765 || ?subject = wd:Q349 || ?subject = wd:Q5367 || ?subject = wd:Q632190)\n",
    "}\n",
    "ORDER BY DESC (?followers)\n",
    "LIMIT 3\n",
    "\n",
    "\"\"\"\n",
    "\n",
    "print(\"Results\")\n",
    "run_query(queryString)"
   ]
  },
  {
   "cell_type": "markdown",
   "id": "0a91b80e-093b-40e5-a590-3785b91f5a7d",
   "metadata": {},
   "source": [
    "4) We can easily retrive the magazines published in U.S. but we have to find the property that relate a employer to the magazine."
   ]
  },
  {
   "cell_type": "code",
   "execution_count": 164,
   "id": "066e26a9-1331-4e8f-b253-80412af39884",
   "metadata": {},
   "outputs": [
    {
     "name": "stdout",
     "output_type": "stream",
     "text": [
      "Results\n",
      "[('predicate', 'employer'), ('p', 'http://www.wikidata.org/prop/direct/P108')]\n"
     ]
    },
    {
     "data": {
      "text/plain": [
       "1"
      ]
     },
     "execution_count": 164,
     "metadata": {},
     "output_type": "execute_result"
    }
   ],
   "source": [
    "queryString = \"\"\"\n",
    "SELECT DISTINCT ?predicate ?p\n",
    "WHERE {\n",
    "    ?o ?p wd:Q217305.\n",
    "    ?p <http://schema.org/name> ?predicate\n",
    "    FILTER REGEX(?predicate, 'employe', 'i')\n",
    "}\n",
    "\n",
    "\"\"\"\n",
    "\n",
    "print(\"Results\")\n",
    "run_query(queryString)"
   ]
  },
  {
   "cell_type": "markdown",
   "id": "b372fa0f-1225-41c4-90b4-5a73db204a54",
   "metadata": {},
   "source": [
    "Now we search all the employer."
   ]
  },
  {
   "cell_type": "code",
   "execution_count": 176,
   "id": "38bac596-9767-4439-a56f-cce9121a9e01",
   "metadata": {},
   "outputs": [
    {
     "name": "stdout",
     "output_type": "stream",
     "text": [
      "Results\n",
      "[('employer', 'Hyman H. Goldsmith'), ('e', 'http://www.wikidata.org/entity/Q108598571'), ('pname', 'Bulletin of the Atomic Scientists')]\n",
      "[('employer', 'Hannah Arendt'), ('e', 'http://www.wikidata.org/entity/Q60025'), ('pname', 'The New Yorker')]\n",
      "[('employer', 'Saul Steinberg'), ('e', 'http://www.wikidata.org/entity/Q432856'), ('pname', 'The New Yorker')]\n",
      "[('employer', 'Jean-Jacques Sempé'), ('e', 'http://www.wikidata.org/entity/Q354371'), ('pname', 'The New Yorker')]\n",
      "[('employer', 'Alastair Reid'), ('e', 'http://www.wikidata.org/entity/Q4708767'), ('pname', 'The New Yorker')]\n",
      "[('employer', 'Robert Mankoff'), ('e', 'http://www.wikidata.org/entity/Q7347308'), ('pname', 'The New Yorker')]\n",
      "[('employer', 'Françoise Mouly'), ('e', 'http://www.wikidata.org/entity/Q941550'), ('pname', 'The New Yorker')]\n",
      "[('employer', 'Edmund Wilson'), ('e', 'http://www.wikidata.org/entity/Q704931'), ('pname', 'The New Yorker')]\n",
      "[('employer', 'Rea Irvin'), ('e', 'http://www.wikidata.org/entity/Q7300143'), ('pname', 'The New Yorker')]\n",
      "[('employer', 'Mary Lawton'), ('e', 'http://www.wikidata.org/entity/Q61861760'), ('pname', 'The New Yorker')]\n",
      "[('employer', 'Tad Friend'), ('e', 'http://www.wikidata.org/entity/Q7674225'), ('pname', 'The New Yorker')]\n",
      "[('employer', 'Michael Specter'), ('e', 'http://www.wikidata.org/entity/Q2356503'), ('pname', 'The New Yorker')]\n",
      "[('employer', 'Dave Pascal'), ('e', 'http://www.wikidata.org/entity/Q16734223'), ('pname', 'The New Yorker')]\n",
      "[('employer', 'Evan Osnos'), ('e', 'http://www.wikidata.org/entity/Q5415510'), ('pname', 'The New Yorker')]\n",
      "[('employer', 'Jonathan Schell'), ('e', 'http://www.wikidata.org/entity/Q1703300'), ('pname', 'The New Yorker')]\n",
      "[('employer', 'Matt Wuerker'), ('e', 'http://www.wikidata.org/entity/Q6789562'), ('pname', 'Politico')]\n",
      "[('employer', 'Alex Ross'), ('e', 'http://www.wikidata.org/entity/Q952149'), ('pname', 'The New Yorker')]\n",
      "[('employer', 'Adam Gopnik'), ('e', 'http://www.wikidata.org/entity/Q3275728'), ('pname', 'The New Yorker')]\n",
      "[('employer', 'Jane Mayer'), ('e', 'http://www.wikidata.org/entity/Q6152537'), ('pname', 'The New Yorker')]\n",
      "[('employer', 'Alexander Chancellor'), ('e', 'http://www.wikidata.org/entity/Q4718568'), ('pname', 'The New Yorker')]\n"
     ]
    },
    {
     "data": {
      "text/plain": [
       "20"
      ]
     },
     "execution_count": 176,
     "metadata": {},
     "output_type": "execute_result"
    }
   ],
   "source": [
    "queryString = \"\"\"\n",
    "SELECT DISTINCT ?employer ?e ?pname\n",
    "WHERE {\n",
    "    ?p wdt:P17 wd:Q30 .\n",
    "    ?p wdt:P31/wdt:P279* wd:Q41298 .\n",
    "    ?e wdt:P108 ?p.\n",
    "    ?p wdt:P921 ?m .\n",
    "    ?m <http://schema.org/name> ?subjectname .\n",
    "    FILTER REGEX(?subjectname, \"politic\", 'i').\n",
    "    ?e <http://schema.org/name> ?employer .\n",
    "    ?p <http://schema.org/name> ?pname\n",
    "}\n",
    "LIMIT 20\n",
    "\"\"\"\n",
    "\n",
    "print(\"Results\")\n",
    "run_query(queryString)"
   ]
  },
  {
   "cell_type": "markdown",
   "id": "562085c0-8a02-45ac-82fc-14f1cd0bc0cc",
   "metadata": {},
   "source": [
    "Here we have to find the predicate that connect an employer to the books that he write."
   ]
  },
  {
   "cell_type": "code",
   "execution_count": 193,
   "id": "1c346c18-606a-423e-87aa-9cee7b15363b",
   "metadata": {},
   "outputs": [
    {
     "name": "stdout",
     "output_type": "stream",
     "text": [
      "Results\n",
      "[('predicatename', 'field of work'), ('predicate', 'http://www.wikidata.org/prop/direct/P101')]\n",
      "[('predicatename', 'Facebook ID'), ('predicate', 'http://www.wikidata.org/prop/direct/P2013')]\n",
      "[('predicatename', 'work period (start)'), ('predicate', 'http://www.wikidata.org/prop/direct/P2031')]\n",
      "[('predicatename', 'BookBrainz author ID'), ('predicate', 'http://www.wikidata.org/prop/direct/P2607')]\n",
      "[('predicatename', 'CiNii author ID (books)'), ('predicate', 'http://www.wikidata.org/prop/direct/P271')]\n",
      "[('predicatename', 'Prabook ID'), ('predicate', 'http://www.wikidata.org/prop/direct/P3368')]\n",
      "[('predicatename', 'Online Books Page author ID'), ('predicate', 'http://www.wikidata.org/prop/direct/P4629')]\n",
      "[('predicatename', 'Los Angeles Review of Books author ID'), ('predicate', 'http://www.wikidata.org/prop/direct/P5705')]\n",
      "[('predicatename', 'has works in the collection'), ('predicate', 'http://www.wikidata.org/prop/direct/P6379')]\n",
      "[('predicatename', 'notable work'), ('predicate', 'http://www.wikidata.org/prop/direct/P800')]\n",
      "[('predicatename', 'contributed to creative work'), ('predicate', 'http://www.wikidata.org/prop/direct/P3919')]\n",
      "[('predicatename', 'ComicBookDB Creator ID'), ('predicate', 'http://www.wikidata.org/prop/direct/P1392')]\n",
      "[('predicatename', 'National Book Foundation author ID'), ('predicate', 'http://www.wikidata.org/prop/direct/P6579')]\n"
     ]
    },
    {
     "data": {
      "text/plain": [
       "13"
      ]
     },
     "execution_count": 193,
     "metadata": {},
     "output_type": "execute_result"
    }
   ],
   "source": [
    "queryString = \"\"\"\n",
    "SELECT DISTINCT ?predicatename ?predicate\n",
    "WHERE {\n",
    "    ?p wdt:P17 wd:Q30 .\n",
    "    ?p wdt:P31/wdt:P279* wd:Q41298 .\n",
    "    ?p wdt:P921 ?m .\n",
    "    ?m <http://schema.org/name> ?subjectname .\n",
    "    FILTER REGEX(?subjectname, \"politic\", 'i').\n",
    "    ?e wdt:P108 ?p .\n",
    "    ?e ?predicate ?o .\n",
    "    ?predicate <http://schema.org/name> ?predicatename\n",
    "    FILTER REGEX(?predicatename, 'notable|work|book', 'i')\n",
    "}\n",
    "LIMIT 1000\n",
    "\"\"\"\n",
    "\n",
    "print(\"Results\")\n",
    "run_query(queryString)"
   ]
  },
  {
   "cell_type": "markdown",
   "id": "0b5b71f5-071d-44dd-8032-6bd4a190fbda",
   "metadata": {},
   "source": [
    "After some tests we find that the right predicate is the one called 'notable work' (P800)."
   ]
  },
  {
   "cell_type": "code",
   "execution_count": 191,
   "id": "588ce294-4bcc-4e70-bffe-d4969d4989ea",
   "metadata": {},
   "outputs": [
    {
     "name": "stdout",
     "output_type": "stream",
     "text": [
      "Results\n",
      "[('oname', 'Kubuntu')]\n",
      "[('oname', 'Ironfist Chinmi')]\n",
      "[('oname', 'The Hunger Games')]\n",
      "[('oname', 'Estadio Las Gaunas')]\n",
      "[('oname', 'Torre Caja Badajoz')]\n",
      "[('oname', 'Edificio Pirámide, Madrid')]\n",
      "[('oname', 'Edificio Galaxia, Madrid')]\n",
      "[('oname', 'Edificio de viviendas en Paseo de la Castellana 121-123, Madrid')]\n",
      "[('oname', 'Dispensario antituberculoso Victoria Eugenia')]\n",
      "[('oname', 'Torres de Colón')]\n",
      "[('oname', 'Motel El Hidalgo')]\n",
      "[('oname', 'Break Shot')]\n",
      "[('oname', 'Gal Factory')]\n",
      "[('oname', 'Mobile Fighter G Gundam')]\n",
      "[('oname', '15 Park Avenue')]\n",
      "[('oname', 'Amanda Krueger')]\n",
      "[('oname', 'Convent of Santo Domingo, La Guardia de Jaén')]\n",
      "[('oname', 'Casa Consistorial de Valladolid')]\n",
      "[('oname', 'Estació del Nord, Valencia')]\n",
      "[('oname', 'Charlie and Lola')]\n"
     ]
    },
    {
     "data": {
      "text/plain": [
       "20"
      ]
     },
     "execution_count": 191,
     "metadata": {},
     "output_type": "execute_result"
    }
   ],
   "source": [
    "queryString = \"\"\"\n",
    "SELECT DISTINCT ?oname\n",
    "WHERE {\n",
    "    ?e wdt:P800 ?o .\n",
    "    ?o <http://schema.org/name> ?oname\n",
    "}\n",
    "LIMIT 20\n",
    "\n",
    "\"\"\"\n",
    "\n",
    "print(\"Results\")\n",
    "run_query(queryString)"
   ]
  },
  {
   "cell_type": "markdown",
   "id": "5a7cf74a-78cb-4b86-a2b2-9353966d685b",
   "metadata": {},
   "source": [
    "Here we have all the employer of all US magazines that talk about politic and their notable works title."
   ]
  },
  {
   "cell_type": "code",
   "execution_count": 192,
   "id": "64dff412-0310-417f-8dd6-b404cb379632",
   "metadata": {},
   "outputs": [
    {
     "name": "stdout",
     "output_type": "stream",
     "text": [
      "Results\n",
      "[('employer', 'Hannah Arendt'), ('e', 'http://www.wikidata.org/entity/Q60025'), ('pname', 'The New Yorker'), ('oname', 'The Human Condition')]\n",
      "[('employer', 'Hannah Arendt'), ('e', 'http://www.wikidata.org/entity/Q60025'), ('pname', 'The New Yorker'), ('oname', 'The Origins of Totalitarianism')]\n",
      "[('employer', 'Hannah Arendt'), ('e', 'http://www.wikidata.org/entity/Q60025'), ('pname', 'The New Yorker'), ('oname', 'Eichmann in Jerusalem')]\n",
      "[('employer', 'Hannah Arendt'), ('e', 'http://www.wikidata.org/entity/Q60025'), ('pname', 'The New Yorker'), ('oname', 'Rahel Varnhagen')]\n",
      "[('employer', 'Hannah Arendt'), ('e', 'http://www.wikidata.org/entity/Q60025'), ('pname', 'The New Yorker'), ('oname', 'On Revolution')]\n",
      "[('employer', 'Saul Steinberg'), ('e', 'http://www.wikidata.org/entity/Q432856'), ('pname', 'The New Yorker'), ('oname', 'View of the World from 9th Avenue')]\n",
      "[('employer', 'Jean-Jacques Sempé'), ('e', 'http://www.wikidata.org/entity/Q354371'), ('pname', 'The New Yorker'), ('oname', 'Le petit Nicolas')]\n",
      "[('employer', 'Edmund Wilson'), ('e', 'http://www.wikidata.org/entity/Q704931'), ('pname', 'The New Yorker'), ('oname', 'Patriotic Gore')]\n",
      "[('employer', 'Edmund Wilson'), ('e', 'http://www.wikidata.org/entity/Q704931'), ('pname', 'The New Yorker'), ('oname', 'To the Finland Station')]\n",
      "[('employer', 'Jonathan Schell'), ('e', 'http://www.wikidata.org/entity/Q1703300'), ('pname', 'The New Yorker'), ('oname', 'The Fate of the Earth')]\n",
      "[('employer', 'Adam Gopnik'), ('e', 'http://www.wikidata.org/entity/Q3275728'), ('pname', 'The New Yorker'), ('oname', 'A Thousand Small Sanities')]\n",
      "[('employer', 'Dexter Filkins'), ('e', 'http://www.wikidata.org/entity/Q5268400'), ('pname', 'The New Yorker'), ('oname', 'The Forever War')]\n",
      "[('employer', 'Lewis Mumford'), ('e', 'http://www.wikidata.org/entity/Q469888'), ('pname', 'The New Yorker'), ('oname', 'The City in History')]\n",
      "[('employer', 'Lewis Mumford'), ('e', 'http://www.wikidata.org/entity/Q469888'), ('pname', 'The New Yorker'), ('oname', 'The Myth of the Machine')]\n",
      "[('employer', 'Lewis Mumford'), ('e', 'http://www.wikidata.org/entity/Q469888'), ('pname', 'The New Yorker'), ('oname', 'Technics and Civilization')]\n",
      "[('employer', 'Lawrence Wright'), ('e', 'http://www.wikidata.org/entity/Q353893'), ('pname', 'The New Yorker'), ('oname', 'The Looming Tower')]\n",
      "[('employer', 'Jillian Tamaki'), ('e', 'http://www.wikidata.org/entity/Q16221210'), ('pname', 'The New Yorker'), ('oname', '2015 TCAF Butter Tart Map')]\n",
      "[('employer', 'Blake Eskin'), ('e', 'http://www.wikidata.org/entity/Q66433892'), ('pname', 'The New Yorker'), ('oname', 'A life in pieces')]\n",
      "[('employer', 'William Finnegan'), ('e', 'http://www.wikidata.org/entity/Q8009057'), ('pname', 'The New Yorker'), ('oname', 'Barbarian Days: A Surfing Life')]\n",
      "[('employer', 'Steve Coll'), ('e', 'http://www.wikidata.org/entity/Q128771'), ('pname', 'The New Yorker'), ('oname', 'Ghost Wars')]\n"
     ]
    },
    {
     "data": {
      "text/plain": [
       "20"
      ]
     },
     "execution_count": 192,
     "metadata": {},
     "output_type": "execute_result"
    }
   ],
   "source": [
    "queryString = \"\"\"\n",
    "SELECT DISTINCT ?employer ?e ?pname ?oname\n",
    "WHERE {\n",
    "    ?p wdt:P17 wd:Q30 .\n",
    "    ?p wdt:P31/wdt:P279* wd:Q41298 .\n",
    "    ?e wdt:P108 ?p.\n",
    "    ?p wdt:P921 ?m .\n",
    "    ?m <http://schema.org/name> ?subjectname .\n",
    "    FILTER REGEX(?subjectname, \"politic\", 'i').\n",
    "    ?e <http://schema.org/name> ?employer .\n",
    "    ?p <http://schema.org/name> ?pname .\n",
    "    ?e wdt:P800 ?o .\n",
    "    ?o <http://schema.org/name> ?oname\n",
    "}\n",
    "LIMIT 20\n",
    "\"\"\"\n",
    "\n",
    "print(\"Results\")\n",
    "run_query(queryString)"
   ]
  },
  {
   "cell_type": "markdown",
   "id": "96dc03dc-d0a8-4777-975b-877c95d24ccb",
   "metadata": {},
   "source": [
    "5) For the last point we need to find the predicates for our scope. Let's start from the employers of the 'The New Yourker'."
   ]
  },
  {
   "cell_type": "code",
   "execution_count": 201,
   "id": "a4d824fc-9a7c-4690-b97c-c6714dc53b90",
   "metadata": {},
   "outputs": [
    {
     "name": "stdout",
     "output_type": "stream",
     "text": [
      "Results\n",
      "[('predicate', 'nominated for'), ('p', 'http://www.wikidata.org/prop/direct/P1411'), ('ename', 'Hannah Arendt')]\n",
      "[('predicate', 'nominated for'), ('p', 'http://www.wikidata.org/prop/direct/P1411'), ('ename', 'Edmund Wilson')]\n",
      "[('predicate', 'nominated for'), ('p', 'http://www.wikidata.org/prop/direct/P1411'), ('ename', 'Lewis Mumford')]\n",
      "[('predicate', 'nominated for'), ('p', 'http://www.wikidata.org/prop/direct/P1411'), ('ename', 'Lawrence Wright')]\n",
      "[('predicate', 'award received'), ('p', 'http://www.wikidata.org/prop/direct/P166'), ('ename', 'Hannah Arendt')]\n",
      "[('predicate', 'award received'), ('p', 'http://www.wikidata.org/prop/direct/P166'), ('ename', 'Saul Steinberg')]\n",
      "[('predicate', 'award received'), ('p', 'http://www.wikidata.org/prop/direct/P166'), ('ename', 'Jean-Jacques Sempé')]\n",
      "[('predicate', 'award received'), ('p', 'http://www.wikidata.org/prop/direct/P166'), ('ename', 'Alastair Reid')]\n",
      "[('predicate', 'award received'), ('p', 'http://www.wikidata.org/prop/direct/P166'), ('ename', 'Françoise Mouly')]\n",
      "[('predicate', 'award received'), ('p', 'http://www.wikidata.org/prop/direct/P166'), ('ename', 'Edmund Wilson')]\n",
      "[('predicate', 'award received'), ('p', 'http://www.wikidata.org/prop/direct/P166'), ('ename', 'Michael Specter')]\n",
      "[('predicate', 'award received'), ('p', 'http://www.wikidata.org/prop/direct/P166'), ('ename', 'Dave Pascal')]\n",
      "[('predicate', 'award received'), ('p', 'http://www.wikidata.org/prop/direct/P166'), ('ename', 'Evan Osnos')]\n",
      "[('predicate', 'award received'), ('p', 'http://www.wikidata.org/prop/direct/P166'), ('ename', 'Jonathan Schell')]\n",
      "[('predicate', 'award received'), ('p', 'http://www.wikidata.org/prop/direct/P166'), ('ename', 'Alex Ross')]\n",
      "[('predicate', 'award received'), ('p', 'http://www.wikidata.org/prop/direct/P166'), ('ename', 'Adam Gopnik')]\n",
      "[('predicate', 'award received'), ('p', 'http://www.wikidata.org/prop/direct/P166'), ('ename', 'Jane Mayer')]\n",
      "[('predicate', 'award received'), ('p', 'http://www.wikidata.org/prop/direct/P166'), ('ename', 'Alexander Chancellor')]\n",
      "[('predicate', 'award received'), ('p', 'http://www.wikidata.org/prop/direct/P166'), ('ename', 'Ryan Lizza')]\n",
      "[('predicate', 'award received'), ('p', 'http://www.wikidata.org/prop/direct/P166'), ('ename', 'Joshua Yaffa')]\n",
      "[('predicate', 'award received'), ('p', 'http://www.wikidata.org/prop/direct/P166'), ('ename', 'Eliza Griswold')]\n",
      "[('predicate', 'award received'), ('p', 'http://www.wikidata.org/prop/direct/P166'), ('ename', 'Dexter Filkins')]\n",
      "[('predicate', 'award received'), ('p', 'http://www.wikidata.org/prop/direct/P166'), ('ename', 'Lewis Mumford')]\n",
      "[('predicate', 'award received'), ('p', 'http://www.wikidata.org/prop/direct/P166'), ('ename', 'Kathryn Schulz')]\n",
      "[('predicate', 'award received'), ('p', 'http://www.wikidata.org/prop/direct/P166'), ('ename', 'Ronan Farrow')]\n",
      "[('predicate', 'award received'), ('p', 'http://www.wikidata.org/prop/direct/P166'), ('ename', 'Lawrence Wright')]\n",
      "[('predicate', 'Nobel Prize People Nomination ID'), ('p', 'http://www.wikidata.org/prop/direct/P3360'), ('ename', 'Edmund Wilson')]\n",
      "[('predicate', 'nominated for'), ('p', 'http://www.wikidata.org/prop/direct/P1411'), ('ename', 'Steve Coll')]\n",
      "[('predicate', 'award received'), ('p', 'http://www.wikidata.org/prop/direct/P166'), ('ename', 'Pierre Ballouhey')]\n",
      "[('predicate', 'award received'), ('p', 'http://www.wikidata.org/prop/direct/P166'), ('ename', 'Jillian Tamaki')]\n",
      "[('predicate', 'award received'), ('p', 'http://www.wikidata.org/prop/direct/P166'), ('ename', 'Wendell Steavenson')]\n",
      "[('predicate', 'award received'), ('p', 'http://www.wikidata.org/prop/direct/P166'), ('ename', 'Lillian Ross')]\n",
      "[('predicate', 'award received'), ('p', 'http://www.wikidata.org/prop/direct/P166'), ('ename', 'Christopher Weyant')]\n",
      "[('predicate', 'award received'), ('p', 'http://www.wikidata.org/prop/direct/P166'), ('ename', 'James Wood')]\n",
      "[('predicate', 'award received'), ('p', 'http://www.wikidata.org/prop/direct/P166'), ('ename', 'Janet Flanner')]\n",
      "[('predicate', 'award received'), ('p', 'http://www.wikidata.org/prop/direct/P166'), ('ename', 'Lizzie Presser')]\n",
      "[('predicate', 'award received'), ('p', 'http://www.wikidata.org/prop/direct/P166'), ('ename', 'Bernard Lewis')]\n",
      "[('predicate', 'award received'), ('p', 'http://www.wikidata.org/prop/direct/P166'), ('ename', 'Steve Coll')]\n",
      "[('predicate', 'award received'), ('p', 'http://www.wikidata.org/prop/direct/P166'), ('ename', 'Brigitte Lacombe')]\n",
      "[('predicate', 'award received'), ('p', 'http://www.wikidata.org/prop/direct/P166'), ('ename', 'Ben Taub')]\n",
      "[('predicate', 'award received'), ('p', 'http://www.wikidata.org/prop/direct/P166'), ('ename', 'Roland Kelts')]\n"
     ]
    },
    {
     "data": {
      "text/plain": [
       "41"
      ]
     },
     "execution_count": 201,
     "metadata": {},
     "output_type": "execute_result"
    }
   ],
   "source": [
    "queryString = \"\"\"\n",
    "SELECT DISTINCT ?predicate ?p ?ename \n",
    "WHERE {\n",
    "    ?e wdt:P108 wd:Q217305 .\n",
    "    ?e <http://schema.org/name> ?ename .\n",
    "    ?e ?p ?o .\n",
    "    ?p <http://schema.org/name> ?predicate\n",
    "    FILTER REGEX(?predicate, 'prize|award|nominated', 'i')\n",
    "}\n",
    "LIMIT 50\n",
    "\"\"\"\n",
    "\n",
    "print(\"Results\")\n",
    "run_query(queryString)"
   ]
  },
  {
   "cell_type": "markdown",
   "id": "1437db55-e985-49f8-a749-06b1499e9f98",
   "metadata": {},
   "source": [
    "Finally we found all the employer that wins the awards or are nominated for something or wins a Nobel Prize."
   ]
  }
 ],
 "metadata": {
  "kernelspec": {
   "display_name": "Python 3",
   "language": "python",
   "name": "python3"
  },
  "language_info": {
   "codemirror_mode": {
    "name": "ipython",
    "version": 3
   },
   "file_extension": ".py",
   "mimetype": "text/x-python",
   "name": "python",
   "nbconvert_exporter": "python",
   "pygments_lexer": "ipython3",
   "version": "3.7.10"
  }
 },
 "nbformat": 4,
 "nbformat_minor": 5
}
