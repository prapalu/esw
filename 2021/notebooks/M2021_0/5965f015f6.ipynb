{
 "cells": [
  {
   "cell_type": "markdown",
   "id": "17aa39fa-80af-47f3-84ef-c6f086215e3b",
   "metadata": {},
   "source": [
    "# General instructions\n",
    "\n",
    "The goal of the project is to materialize a set of **exploratory workloads** over a real-world, large-scale,  open-domain KG: [WikiData](https://www.wikidata.org/wiki/Wikidata:Main_Page)\n",
    "\n",
    "An exploratory workload  is composed by a set of queries, where each query is related to the information obtained previously.\n",
    "\n",
    "An exploratory workload starts with a usually vague, open ended question, and does not assume the person issuing the workload has a clear understanding of the data contained in the target database or its structure.\n",
    "\n",
    "Remeber that:\n",
    "\n",
    "1. All the queries must run in the python notebook\n",
    "2. You can use classes and properties only if you find them via a SPARQL query that must be present in the notebook\n",
    "3. You do not delete useless queries. Keep everything that is synthatically valid \n",
    "\n",
    "```\n",
    "?p <http://schema.org/name> ?name .\n",
    "```\n",
    "    \n",
    "    is the BGP returning a human-readable name of a property or a class in Wikidata.\n",
    "    \n",
    "    "
   ]
  },
  {
   "cell_type": "code",
   "execution_count": 1,
   "id": "3605c9d5-5371-49a5-be8d-d66e8f417139",
   "metadata": {},
   "outputs": [],
   "source": [
    "## SETUP used later\n",
    "\n",
    "from SPARQLWrapper import SPARQLWrapper, JSON\n",
    "\n",
    "\n",
    "prefixString = \"\"\"\n",
    "##-5965f015f6-##\n",
    "PREFIX wd: <http://www.wikidata.org/entity/> \n",
    "PREFIX wdt: <http://www.wikidata.org/prop/direct/> \n",
    "PREFIX sc: <http://schema.org/>\n",
    "\"\"\"\n",
    "\n",
    "# select and construct queries\n",
    "def run_query(queryString):\n",
    "    to_run = prefixString + \"\\n\" + queryString\n",
    "\n",
    "    sparql = SPARQLWrapper(\"http://a256-gc1-02.srv.aau.dk:5820/sparql\")\n",
    "    sparql.setTimeout(300)\n",
    "    sparql.setReturnFormat(JSON)\n",
    "    sparql.setQuery(to_run)\n",
    "\n",
    "    try :\n",
    "       results = sparql.query()\n",
    "       json_results = results.convert()\n",
    "       if len(json_results['results']['bindings'])==0:\n",
    "          print(\"Empty\")\n",
    "          return 0\n",
    "    \n",
    "       for bindings in json_results['results']['bindings']:\n",
    "          print( [ (var, value['value'])  for var, value in bindings.items() ] )\n",
    "\n",
    "       return len(json_results['results']['bindings'])\n",
    "\n",
    "    except Exception as e :\n",
    "        print(\"The operation failed\", e)\n",
    "    \n",
    "# ASk queries\n",
    "def run_ask_query(queryString):\n",
    "    to_run = prefixString + \"\\n\" + queryString\n",
    "\n",
    "    sparql = SPARQLWrapper(\"http://a256-gc1-02.srv.aau.dk:5820/sparql\")\n",
    "    sparql.setTimeout(300)\n",
    "    sparql.setReturnFormat(JSON)\n",
    "    sparql.setQuery(to_run)\n",
    "\n",
    "    try :\n",
    "        return sparql.query().convert()\n",
    "\n",
    "    except Exception as e :\n",
    "        print(\"The operation failed\", e)"
   ]
  },
  {
   "cell_type": "markdown",
   "id": "d477a59c-a68c-4c8f-9f97-8ca5294d7d27",
   "metadata": {},
   "source": [
    "# Book Workflow Series (\"Author comparison explorative search\") \n",
    "\n",
    "Consider the following exploratory scenario:\n",
    "\n",
    "\n",
    ">  Investigate Italian and French book authors in terms of awards, books published and copyright types\n",
    "\n",
    "\n",
    "\n",
    "## Useful URIs for the current workflow\n",
    "The following are given:\n",
    "\n",
    "| IRI           | Description   | Role      |\n",
    "| -----------   | -----------   |-----------|\n",
    "| `wdt:P1647`   | subproperty   | predicate |\n",
    "| `wdt:P31`     | instance of   | predicate |\n",
    "| `wdt:P279`    | subclass      | predicate |\n",
    "| `wdt:P106`    | occupation    | predicate | \n",
    "| `wdt:P17`     | country       | predicate | \n",
    "| `wdt:P27`     | citizenship   | predicate | \n",
    "| `wd:Q36180`   | writer        | node |\n",
    "| `wd:Q38`      | Italy         | node |\n",
    "| `wd:Q172579`  | Kingdom of Italy        | node |\n",
    "| `wd:Q142`     | France        | node |\n",
    "| `wd:Q37922`   | Nobel Prize literature        | node |\n",
    "| `wd:Q213678`  | Vatican Library        | node |\n",
    "\n",
    "\n",
    "Also consider that\n",
    "\n",
    "```\n",
    "?p wdt:P27 wd:Q142\n",
    "```\n",
    "\n",
    "is the BGP to retrieve all **French citizens**\n",
    "\n",
    "\n",
    "The workload should\n",
    "\n",
    "\n",
    "1. Identify the BGP for obtaining the Italian and French writers who published a book in the last 50 years\n",
    "\n",
    "2. Compare the number of books written by Italian and French writers\n",
    "\n",
    "3. Count how many books written by Italian authors are now released with a \"public domain\" copyright form\n",
    "\n",
    "4. How many Literature Nobel awards won authors from Italy and from the Kingdom of Italy? \n",
    "\n",
    "5. Are there books from Litarature Nobel Award winners which are not present in the Vatican Library? (if so, who is the author with more books not in the Vatical Library)?"
   ]
  },
  {
   "cell_type": "markdown",
   "id": "9d77efe7-f999-46f1-a192-180d291ffd57",
   "metadata": {},
   "source": [
    "#### Example of query"
   ]
  },
  {
   "cell_type": "code",
   "execution_count": 2,
   "id": "ade01416-92e7-4ad7-b9a9-b8fb330750dc",
   "metadata": {
    "tags": []
   },
   "outputs": [
    {
     "name": "stdout",
     "output_type": "stream",
     "text": [
      "Results\n",
      "[('callret-0', '273456')]\n"
     ]
    },
    {
     "data": {
      "text/plain": [
       "1"
      ]
     },
     "execution_count": 2,
     "metadata": {},
     "output_type": "execute_result"
    }
   ],
   "source": [
    "queryString = \"\"\"\n",
    "SELECT COUNT(?p) WHERE { \n",
    "\n",
    "    ?p wdt:P27 wd:Q142 .\n",
    "} \n",
    "\"\"\"\n",
    "\n",
    "print(\"Results\")\n",
    "run_query(queryString)"
   ]
  },
  {
   "cell_type": "markdown",
   "id": "84a07a49-80ab-4ecb-8cf9-1316c7460e6b",
   "metadata": {},
   "source": [
    "### My Workflow\n",
    "\n",
    "#### ***Task 1 :*** Identify the BGP for obtaining the Italian and French writers who published a book in the last 50 years\n",
    "\n",
    "First of all, I need to understand how books are representend in the graph.\n",
    "\n",
    "I retrieve all the object properties that connect instances of ***writer (wd:Q36180)*** with other entities. \n",
    "\n",
    "I hope to find something between writers and books (e.g something like \"published\" or \"wrote\")."
   ]
  },
  {
   "cell_type": "code",
   "execution_count": 3,
   "id": "edda0ff6-2aeb-4e78-b810-04aef4f95314",
   "metadata": {},
   "outputs": [
    {
     "name": "stdout",
     "output_type": "stream",
     "text": [
      "Results\n",
      "[('p', 'http://www.wikidata.org/prop/direct/P102'), ('pName', 'member of political party')]\n",
      "[('p', 'http://www.wikidata.org/prop/direct/P1050'), ('pName', 'medical condition')]\n",
      "[('p', 'http://www.wikidata.org/prop/direct/P106'), ('pName', 'occupation')]\n",
      "[('p', 'http://www.wikidata.org/prop/direct/P1066'), ('pName', 'student of')]\n",
      "[('p', 'http://www.wikidata.org/prop/direct/P108'), ('pName', 'employer')]\n",
      "[('p', 'http://www.wikidata.org/prop/direct/P109'), ('pName', 'signature')]\n",
      "[('p', 'http://www.wikidata.org/prop/direct/P119'), ('pName', 'place of burial')]\n",
      "[('p', 'http://www.wikidata.org/prop/direct/P1196'), ('pName', 'manner of death')]\n",
      "[('p', 'http://www.wikidata.org/prop/direct/P1303'), ('pName', 'instrument')]\n",
      "[('p', 'http://www.wikidata.org/prop/direct/P1343'), ('pName', 'described by source')]\n",
      "[('p', 'http://www.wikidata.org/prop/direct/P1344'), ('pName', 'participant in')]\n",
      "[('p', 'http://www.wikidata.org/prop/direct/P136'), ('pName', 'genre')]\n",
      "[('p', 'http://www.wikidata.org/prop/direct/P140'), ('pName', 'religion')]\n",
      "[('p', 'http://www.wikidata.org/prop/direct/P1411'), ('pName', 'nominated for')]\n",
      "[('p', 'http://www.wikidata.org/prop/direct/P1412'), ('pName', 'languages spoken, written or signed')]\n",
      "[('p', 'http://www.wikidata.org/prop/direct/P166'), ('pName', 'award received')]\n",
      "[('p', 'http://www.wikidata.org/prop/direct/P172'), ('pName', 'ethnic group')]\n",
      "[('p', 'http://www.wikidata.org/prop/direct/P18'), ('pName', 'image')]\n",
      "[('p', 'http://www.wikidata.org/prop/direct/P1889'), ('pName', 'different from')]\n",
      "[('p', 'http://www.wikidata.org/prop/direct/P19'), ('pName', 'place of birth')]\n",
      "[('p', 'http://www.wikidata.org/prop/direct/P1950'), ('pName', 'second family name in Spanish name')]\n",
      "[('p', 'http://www.wikidata.org/prop/direct/P20'), ('pName', 'place of death')]\n",
      "[('p', 'http://www.wikidata.org/prop/direct/P21'), ('pName', 'sex or gender')]\n",
      "[('p', 'http://www.wikidata.org/prop/direct/P22'), ('pName', 'father')]\n",
      "[('p', 'http://www.wikidata.org/prop/direct/P26'), ('pName', 'spouse')]\n",
      "[('p', 'http://www.wikidata.org/prop/direct/P264'), ('pName', 'record label')]\n",
      "[('p', 'http://www.wikidata.org/prop/direct/P27'), ('pName', 'country of citizenship')]\n",
      "[('p', 'http://www.wikidata.org/prop/direct/P2868'), ('pName', 'subject has role')]\n",
      "[('p', 'http://www.wikidata.org/prop/direct/P31'), ('pName', 'instance of')]\n",
      "[('p', 'http://www.wikidata.org/prop/direct/P3373'), ('pName', 'sibling')]\n",
      "[('p', 'http://www.wikidata.org/prop/direct/P358'), ('pName', 'discography')]\n",
      "[('p', 'http://www.wikidata.org/prop/direct/P361'), ('pName', 'part of')]\n",
      "[('p', 'http://www.wikidata.org/prop/direct/P39'), ('pName', 'position held')]\n",
      "[('p', 'http://www.wikidata.org/prop/direct/P40'), ('pName', 'child')]\n",
      "[('p', 'http://www.wikidata.org/prop/direct/P410'), ('pName', 'military rank')]\n",
      "[('p', 'http://www.wikidata.org/prop/direct/P411'), ('pName', 'canonization status')]\n",
      "[('p', 'http://www.wikidata.org/prop/direct/P463'), ('pName', 'member of')]\n",
      "[('p', 'http://www.wikidata.org/prop/direct/P5008'), ('pName', 'on focus list of Wikimedia project')]\n",
      "[('p', 'http://www.wikidata.org/prop/direct/P509'), ('pName', 'cause of death')]\n",
      "[('p', 'http://www.wikidata.org/prop/direct/P53'), ('pName', 'family')]\n",
      "[('p', 'http://www.wikidata.org/prop/direct/P551'), ('pName', 'residence')]\n",
      "[('p', 'http://www.wikidata.org/prop/direct/P570'), ('pName', 'date of death')]\n",
      "[('p', 'http://www.wikidata.org/prop/direct/P611'), ('pName', 'religious order')]\n",
      "[('p', 'http://www.wikidata.org/prop/direct/P6275'), ('pName', 'copyright representative')]\n",
      "[('p', 'http://www.wikidata.org/prop/direct/P6379'), ('pName', 'has works in the collection')]\n",
      "[('p', 'http://www.wikidata.org/prop/direct/P6886'), ('pName', 'writing language')]\n",
      "[('p', 'http://www.wikidata.org/prop/direct/P69'), ('pName', 'educated at')]\n",
      "[('p', 'http://www.wikidata.org/prop/direct/P7084'), ('pName', 'related category')]\n",
      "[('p', 'http://www.wikidata.org/prop/direct/P734'), ('pName', 'family name')]\n",
      "[('p', 'http://www.wikidata.org/prop/direct/P735'), ('pName', 'given name')]\n"
     ]
    },
    {
     "data": {
      "text/plain": [
       "50"
      ]
     },
     "execution_count": 3,
     "metadata": {},
     "output_type": "execute_result"
    }
   ],
   "source": [
    "queryString = \"\"\"\n",
    "SELECT DISTINCT ?p ?pName WHERE {\n",
    "\n",
    "    # Search for propery of Writers\n",
    "    ?writer wdt:P106 wd:Q36180 ;\n",
    "            ?p       ?o        .\n",
    "    \n",
    "    # This returns the labels\n",
    "    ?p <http://schema.org/name> ?pName .\n",
    "    \n",
    "    # Exclude data properties\n",
    "    FILTER(!isLiteral(?o))\n",
    "}\n",
    "LIMIT 50\n",
    "\"\"\"\n",
    "\n",
    "print(\"Results\")\n",
    "run_query(queryString)"
   ]
  },
  {
   "cell_type": "markdown",
   "id": "50ada0e5-1064-44a5-ae05-fe43ec30aef3",
   "metadata": {},
   "source": [
    "Since there are too much properties to actually search for something like \"published\" or \"wrote\", I try a different approach to find the URI for books.\n",
    "\n",
    "I search for all the properties that connect an entity to the ***Vatican Library (wd:Q213678)***."
   ]
  },
  {
   "cell_type": "code",
   "execution_count": 4,
   "id": "128f15b6-4e3a-43b8-b853-98ae7844cf00",
   "metadata": {},
   "outputs": [
    {
     "name": "stdout",
     "output_type": "stream",
     "text": [
      "Results\n",
      "[('p', 'http://www.wikidata.org/prop/direct/P2389'), ('pName', 'organization directed by the office or position')]\n",
      "[('p', 'http://www.wikidata.org/prop/direct/P9419'), ('pName', 'personal library at')]\n",
      "[('p', 'http://www.wikidata.org/prop/direct/P108'), ('pName', 'employer')]\n",
      "[('p', 'http://www.wikidata.org/prop/direct/P127'), ('pName', 'owned by')]\n",
      "[('p', 'http://www.wikidata.org/prop/direct/P137'), ('pName', 'operator')]\n",
      "[('p', 'http://www.wikidata.org/prop/direct/P1416'), ('pName', 'affiliation')]\n",
      "[('p', 'http://www.wikidata.org/prop/direct/P189'), ('pName', 'location of discovery')]\n",
      "[('p', 'http://www.wikidata.org/prop/direct/P195'), ('pName', 'collection')]\n",
      "[('p', 'http://www.wikidata.org/prop/direct/P276'), ('pName', 'location')]\n",
      "[('p', 'http://www.wikidata.org/prop/direct/P301'), ('pName', \"category's main topic\")]\n",
      "[('p', 'http://www.wikidata.org/prop/direct/P361'), ('pName', 'part of')]\n",
      "[('p', 'http://www.wikidata.org/prop/direct/P485'), ('pName', 'archives at')]\n",
      "[('p', 'http://www.wikidata.org/prop/direct/P5869'), ('pName', 'model item')]\n",
      "[('p', 'http://www.wikidata.org/prop/direct/P921'), ('pName', 'main subject')]\n",
      "[('p', 'http://www.wikidata.org/prop/direct/P971'), ('pName', 'category combines topics')]\n",
      "[('p', 'http://www.wikidata.org/prop/direct/P2378'), ('pName', 'issued by')]\n",
      "[('p', 'http://www.wikidata.org/prop/direct/P1629'), ('pName', 'Wikidata item of this property')]\n",
      "[('p', 'http://www.wikidata.org/prop/direct/P1855'), ('pName', 'Wikidata property example')]\n"
     ]
    },
    {
     "data": {
      "text/plain": [
       "18"
      ]
     },
     "execution_count": 4,
     "metadata": {},
     "output_type": "execute_result"
    }
   ],
   "source": [
    "queryString = \"\"\"\n",
    "SELECT DISTINCT ?p ?pName WHERE {\n",
    "\n",
    "    # Anything connected to Vatican Library\n",
    "    ?s ?p wd:Q213678 .\n",
    "\n",
    "    # This returns the labels\n",
    "    ?p <http://schema.org/name> ?pName .\n",
    "\n",
    "}\n",
    "\"\"\"\n",
    "\n",
    "print(\"Results\")\n",
    "run_query(queryString)"
   ]
  },
  {
   "cell_type": "markdown",
   "id": "81108edf-5805-4ef1-a410-7d7d4037fa7e",
   "metadata": {},
   "source": [
    "In my opinion, the property ***location (wdt:P276)***, could be the right one to represent in which library the books are. \n",
    "\n",
    "So, I want to discover what is linked to the ***Vatican Library (wd:Q213678)*** through the property ***location (wdt:P276)***."
   ]
  },
  {
   "cell_type": "code",
   "execution_count": 5,
   "id": "408645b8-0a96-4bc1-b302-2e1ae70d8a9c",
   "metadata": {},
   "outputs": [
    {
     "name": "stdout",
     "output_type": "stream",
     "text": [
      "Results\n",
      "[('s', 'http://www.wikidata.org/entity/Q3592714'), ('sName', 'Barberini Gospels')]\n",
      "[('s', 'http://www.wikidata.org/entity/Q101438843'), ('sName', 'Rossiana Library')]\n",
      "[('s', 'http://www.wikidata.org/entity/Q338714'), ('sName', 'Anjou Legendarium')]\n",
      "[('s', 'http://www.wikidata.org/entity/Q1250195'), ('sName', 'Codex Assemanius')]\n",
      "[('s', 'http://www.wikidata.org/entity/Q1106235'), ('sName', 'Codex Ríos')]\n",
      "[('s', 'http://www.wikidata.org/entity/Q33231619'), ('sName', 'breviary of  Matthias Corvin')]\n",
      "[('s', 'http://www.wikidata.org/entity/Q77463414'), ('sName', 'Apostolic Library Regina 1682')]\n",
      "[('s', 'http://www.wikidata.org/entity/Q77463433'), ('sName', 'Apostolic Library Reg. 1323')]\n",
      "[('s', 'http://www.wikidata.org/entity/Q55831099'), ('sName', 'Codex vaticanus latinus 3199')]\n",
      "[('s', 'http://www.wikidata.org/entity/Q16912485'), ('sName', 'Divine Comedy Illustrated by Botticelli')]\n",
      "[('s', 'http://www.wikidata.org/entity/Q16939517'), ('sName', 'Codex Parisino-petropolitanus')]\n",
      "[('s', 'http://www.wikidata.org/entity/Q744655'), ('sName', 'Chigi codex')]\n",
      "[('s', 'http://www.wikidata.org/entity/Q5140259'), ('sName', 'Codex Vaticanus Latinus 3868')]\n",
      "[('s', 'http://www.wikidata.org/entity/Q2758161'), ('sName', 'Gelasian Sacramentary')]\n",
      "[('s', 'http://www.wikidata.org/entity/Q594213'), ('sName', 'Aldobrandini Wedding')]\n",
      "[('s', 'http://www.wikidata.org/entity/Q2258615'), ('sName', 'Rossi Codex')]\n",
      "[('s', 'http://www.wikidata.org/entity/Q77464627'), ('sName', 'Cod. Palat. lat. 1074')]\n",
      "[('s', 'http://www.wikidata.org/entity/Q3656584'), ('sName', 'Canzoniere Vaticano latino 3793')]\n",
      "[('s', 'http://www.wikidata.org/entity/Q105962278'), ('sName', 'Dante Urbinate 365')]\n",
      "[('s', 'http://www.wikidata.org/entity/Q1180580'), ('sName', 'De arte venandi cum avibus')]\n",
      "[('s', 'http://www.wikidata.org/entity/Q956156'), ('sName', 'Lorsch Bee Blessing')]\n",
      "[('s', 'http://www.wikidata.org/entity/Q12274931'), ('sName', 'Vatican Palimpsest')]\n",
      "[('s', 'http://www.wikidata.org/entity/Q77464743'), ('sName', 'Apostolic Library Reg. 258')]\n",
      "[('s', 'http://www.wikidata.org/entity/Q29366989'), ('sName', 'Missale Gallicanum vetus - BAV Pal.lat.493')]\n"
     ]
    },
    {
     "data": {
      "text/plain": [
       "24"
      ]
     },
     "execution_count": 5,
     "metadata": {},
     "output_type": "execute_result"
    }
   ],
   "source": [
    "queryString = \"\"\"\n",
    "SELECT DISTINCT ?s ?sName WHERE {\n",
    "\n",
    "    # Anything connected to Vatican Library through property location\n",
    "    ?s wdt:P276 wd:Q213678 .\n",
    "\n",
    "    # This returns the labels\n",
    "    ?s <http://schema.org/name> ?sName .  \n",
    "}\n",
    "\"\"\"\n",
    "\n",
    "print(\"Results\")\n",
    "run_query(queryString)"
   ]
  },
  {
   "cell_type": "markdown",
   "id": "2c0e3e47-5690-43a1-8637-00783ad9607a",
   "metadata": {},
   "source": [
    "I use the property ***instanceOf (wdt:P31)*** to discover the classes of the retrieved entities."
   ]
  },
  {
   "cell_type": "code",
   "execution_count": 6,
   "id": "6251a6fa-0f75-407f-9f9d-1562fe8746cb",
   "metadata": {},
   "outputs": [
    {
     "name": "stdout",
     "output_type": "stream",
     "text": [
      "Results\n",
      "[('s', 'http://www.wikidata.org/entity/Q1250195'), ('sName', 'Codex Assemanius'), ('class', 'http://www.wikidata.org/entity/Q1754581'), ('className', 'Evangeliary')]\n",
      "[('s', 'http://www.wikidata.org/entity/Q101438843'), ('sName', 'Rossiana Library'), ('class', 'http://www.wikidata.org/entity/Q3052382'), ('className', 'fonds')]\n",
      "[('s', 'http://www.wikidata.org/entity/Q744655'), ('sName', 'Chigi codex'), ('class', 'http://www.wikidata.org/entity/Q213924'), ('className', 'codex')]\n",
      "[('s', 'http://www.wikidata.org/entity/Q55831099'), ('sName', 'Codex vaticanus latinus 3199'), ('class', 'http://www.wikidata.org/entity/Q213924'), ('className', 'codex')]\n",
      "[('s', 'http://www.wikidata.org/entity/Q77463433'), ('sName', 'Apostolic Library Reg. 1323'), ('class', 'http://www.wikidata.org/entity/Q5292'), ('className', 'encyclopedia')]\n",
      "[('s', 'http://www.wikidata.org/entity/Q77464627'), ('sName', 'Cod. Palat. lat. 1074'), ('class', 'http://www.wikidata.org/entity/Q5292'), ('className', 'encyclopedia')]\n",
      "[('s', 'http://www.wikidata.org/entity/Q77463414'), ('sName', 'Apostolic Library Regina 1682'), ('class', 'http://www.wikidata.org/entity/Q5292'), ('className', 'encyclopedia')]\n",
      "[('s', 'http://www.wikidata.org/entity/Q77464743'), ('sName', 'Apostolic Library Reg. 258'), ('class', 'http://www.wikidata.org/entity/Q5292'), ('className', 'encyclopedia')]\n",
      "[('s', 'http://www.wikidata.org/entity/Q956156'), ('sName', 'Lorsch Bee Blessing'), ('class', 'http://www.wikidata.org/entity/Q7725634'), ('className', 'literary work')]\n",
      "[('s', 'http://www.wikidata.org/entity/Q1180580'), ('sName', 'De arte venandi cum avibus'), ('class', 'http://www.wikidata.org/entity/Q7725634'), ('className', 'literary work')]\n",
      "[('s', 'http://www.wikidata.org/entity/Q77463433'), ('sName', 'Apostolic Library Reg. 1323'), ('class', 'http://www.wikidata.org/entity/Q48498'), ('className', 'illuminated manuscript')]\n",
      "[('s', 'http://www.wikidata.org/entity/Q338714'), ('sName', 'Anjou Legendarium'), ('class', 'http://www.wikidata.org/entity/Q48498'), ('className', 'illuminated manuscript')]\n",
      "[('s', 'http://www.wikidata.org/entity/Q3592714'), ('sName', 'Barberini Gospels'), ('class', 'http://www.wikidata.org/entity/Q48498'), ('className', 'illuminated manuscript')]\n",
      "[('s', 'http://www.wikidata.org/entity/Q5140259'), ('sName', 'Codex Vaticanus Latinus 3868'), ('class', 'http://www.wikidata.org/entity/Q48498'), ('className', 'illuminated manuscript')]\n",
      "[('s', 'http://www.wikidata.org/entity/Q33231619'), ('sName', 'breviary of  Matthias Corvin'), ('class', 'http://www.wikidata.org/entity/Q48498'), ('className', 'illuminated manuscript')]\n",
      "[('s', 'http://www.wikidata.org/entity/Q29366989'), ('sName', 'Missale Gallicanum vetus - BAV Pal.lat.493'), ('class', 'http://www.wikidata.org/entity/Q48498'), ('className', 'illuminated manuscript')]\n",
      "[('s', 'http://www.wikidata.org/entity/Q77464627'), ('sName', 'Cod. Palat. lat. 1074'), ('class', 'http://www.wikidata.org/entity/Q48498'), ('className', 'illuminated manuscript')]\n",
      "[('s', 'http://www.wikidata.org/entity/Q77464743'), ('sName', 'Apostolic Library Reg. 258'), ('class', 'http://www.wikidata.org/entity/Q48498'), ('className', 'illuminated manuscript')]\n",
      "[('s', 'http://www.wikidata.org/entity/Q2758161'), ('sName', 'Gelasian Sacramentary'), ('class', 'http://www.wikidata.org/entity/Q48498'), ('className', 'illuminated manuscript')]\n",
      "[('s', 'http://www.wikidata.org/entity/Q105962278'), ('sName', 'Dante Urbinate 365'), ('class', 'http://www.wikidata.org/entity/Q48498'), ('className', 'illuminated manuscript')]\n",
      "[('s', 'http://www.wikidata.org/entity/Q77463414'), ('sName', 'Apostolic Library Regina 1682'), ('class', 'http://www.wikidata.org/entity/Q48498'), ('className', 'illuminated manuscript')]\n",
      "[('s', 'http://www.wikidata.org/entity/Q16912485'), ('sName', 'Divine Comedy Illustrated by Botticelli'), ('class', 'http://www.wikidata.org/entity/Q48498'), ('className', 'illuminated manuscript')]\n",
      "[('s', 'http://www.wikidata.org/entity/Q744655'), ('sName', 'Chigi codex'), ('class', 'http://www.wikidata.org/entity/Q48498'), ('className', 'illuminated manuscript')]\n",
      "[('s', 'http://www.wikidata.org/entity/Q2258615'), ('sName', 'Rossi Codex'), ('class', 'http://www.wikidata.org/entity/Q87167'), ('className', 'manuscript')]\n",
      "[('s', 'http://www.wikidata.org/entity/Q1106235'), ('sName', 'Codex Ríos'), ('class', 'http://www.wikidata.org/entity/Q87167'), ('className', 'manuscript')]\n",
      "[('s', 'http://www.wikidata.org/entity/Q12274931'), ('sName', 'Vatican Palimpsest'), ('class', 'http://www.wikidata.org/entity/Q87167'), ('className', 'manuscript')]\n",
      "[('s', 'http://www.wikidata.org/entity/Q1250195'), ('sName', 'Codex Assemanius'), ('class', 'http://www.wikidata.org/entity/Q87167'), ('className', 'manuscript')]\n",
      "[('s', 'http://www.wikidata.org/entity/Q3656584'), ('sName', 'Canzoniere Vaticano latino 3793'), ('class', 'http://www.wikidata.org/entity/Q87167'), ('className', 'manuscript')]\n",
      "[('s', 'http://www.wikidata.org/entity/Q594213'), ('sName', 'Aldobrandini Wedding'), ('class', 'http://www.wikidata.org/entity/Q22669139'), ('className', 'fresco')]\n",
      "[('s', 'http://www.wikidata.org/entity/Q16939517'), ('sName', 'Codex Parisino-petropolitanus'), ('class', 'http://www.wikidata.org/entity/Q22948347'), ('className', 'early Quranic manuscript')]\n",
      "[('s', 'http://www.wikidata.org/entity/Q33231619'), ('sName', 'breviary of  Matthias Corvin'), ('class', 'http://www.wikidata.org/entity/Q225672'), ('className', 'breviary')]\n",
      "[('s', 'http://www.wikidata.org/entity/Q77464627'), ('sName', 'Cod. Palat. lat. 1074'), ('class', 'http://www.wikidata.org/entity/Q830560'), ('className', 'bestiary')]\n",
      "[('s', 'http://www.wikidata.org/entity/Q77463414'), ('sName', 'Apostolic Library Regina 1682'), ('class', 'http://www.wikidata.org/entity/Q830560'), ('className', 'bestiary')]\n",
      "[('s', 'http://www.wikidata.org/entity/Q77464743'), ('sName', 'Apostolic Library Reg. 258'), ('class', 'http://www.wikidata.org/entity/Q830560'), ('className', 'bestiary')]\n",
      "[('s', 'http://www.wikidata.org/entity/Q77463433'), ('sName', 'Apostolic Library Reg. 1323'), ('class', 'http://www.wikidata.org/entity/Q830560'), ('className', 'bestiary')]\n",
      "[('s', 'http://www.wikidata.org/entity/Q2758161'), ('sName', 'Gelasian Sacramentary'), ('class', 'http://www.wikidata.org/entity/Q586744'), ('className', 'sacramentary')]\n",
      "[('s', 'http://www.wikidata.org/entity/Q29366989'), ('sName', 'Missale Gallicanum vetus - BAV Pal.lat.493'), ('class', 'http://www.wikidata.org/entity/Q833590'), ('className', 'missal')]\n",
      "[('s', 'http://www.wikidata.org/entity/Q338714'), ('sName', 'Anjou Legendarium'), ('class', 'http://www.wikidata.org/entity/Q1114838'), ('className', 'Legendarium')]\n"
     ]
    },
    {
     "data": {
      "text/plain": [
       "38"
      ]
     },
     "execution_count": 6,
     "metadata": {},
     "output_type": "execute_result"
    }
   ],
   "source": [
    "queryString = \"\"\"\n",
    "SELECT DISTINCT ?s ?sName ?class ?className WHERE {\n",
    "\n",
    "    # Retrieve the class of everything that is connected to Vatican Library through property location\n",
    "    ?s  wdt:P276 wd:Q213678 ;\n",
    "        wdt:P31  ?class     .\n",
    "\n",
    "    # this returns the labels\n",
    "    ?s     <http://schema.org/name> ?sName     .\n",
    "    ?class <http://schema.org/name> ?className .   \n",
    "}\n",
    "\"\"\"\n",
    "\n",
    "print(\"Results\")\n",
    "run_query(queryString)"
   ]
  },
  {
   "cell_type": "markdown",
   "id": "a7adea0d-d237-4b27-97c5-6c64768bb951",
   "metadata": {},
   "source": [
    "Since the classes seems to represent different types of books, I try to use the property ***subclassOf (wdt:P279)*** starting from the first type of book (***Evangeliary (wd:Q1754581)***)."
   ]
  },
  {
   "cell_type": "code",
   "execution_count": 7,
   "id": "189f0a02-04c3-4d42-9f20-5fb3392e2480",
   "metadata": {},
   "outputs": [
    {
     "name": "stdout",
     "output_type": "stream",
     "text": [
      "Results\n",
      "[('class', 'http://www.wikidata.org/entity/Q3831847'), ('className', 'liturgical book')]\n"
     ]
    },
    {
     "data": {
      "text/plain": [
       "1"
      ]
     },
     "execution_count": 7,
     "metadata": {},
     "output_type": "execute_result"
    }
   ],
   "source": [
    "queryString = \"\"\"\n",
    "SELECT DISTINCT ?class ?className WHERE {\n",
    "\n",
    "    # I use the property \"subclassOf\" on the Evangeliary class\n",
    "    wd:Q1754581 wdt:P279 ?class .\n",
    "\n",
    "    # This returns the labels\n",
    "    ?class <http://schema.org/name> ?className . \n",
    "}\n",
    "\"\"\"\n",
    "\n",
    "print(\"Results\")\n",
    "run_query(queryString)"
   ]
  },
  {
   "cell_type": "markdown",
   "id": "b392ac8e-63a2-4898-96b8-00a5ba13e995",
   "metadata": {},
   "source": [
    "I try to use ***subclassOf (wdt:P279)*** one more time on the just retrieved class: ***liturgical book (wd:Q3831847)***."
   ]
  },
  {
   "cell_type": "code",
   "execution_count": 8,
   "id": "cccdf2b0-44e7-42b5-9eb4-921d9ac81a2b",
   "metadata": {},
   "outputs": [
    {
     "name": "stdout",
     "output_type": "stream",
     "text": [
      "Results\n",
      "[('class', 'http://www.wikidata.org/entity/Q12617225'), ('className', 'religious literature')]\n",
      "[('class', 'http://www.wikidata.org/entity/Q571'), ('className', 'book')]\n",
      "[('class', 'http://www.wikidata.org/entity/Q1338914'), ('className', 'handbook')]\n"
     ]
    },
    {
     "data": {
      "text/plain": [
       "3"
      ]
     },
     "execution_count": 8,
     "metadata": {},
     "output_type": "execute_result"
    }
   ],
   "source": [
    "queryString = \"\"\"\n",
    "SELECT DISTINCT ?class ?className WHERE {\n",
    "\n",
    "    # I use the \"subclassOf\" property on the Liturgical Book class\n",
    "    wd:Q3831847 wdt:P279 ?class .\n",
    "\n",
    "    # this returns the labels\n",
    "    ?class <http://schema.org/name> ?className .   \n",
    "}\n",
    "\"\"\"\n",
    "\n",
    "print(\"Results\")\n",
    "run_query(queryString)"
   ]
  },
  {
   "cell_type": "markdown",
   "id": "c62dec99-3e02-43d0-b953-a6d278eb827c",
   "metadata": {},
   "source": [
    "I discovered the class ***book (wd:Q571)***. \n",
    "\n",
    "However to identify a book is not sufficient to use the BGP: ***?book wdt:P31 wd:Q571***, because I can have different types of books that are subclasses of ***book (wd:Q571)***. \n",
    "\n",
    "For example, I can have a ***liturgical book (wd:Q3831847)*** as in the previous query.\n",
    "\n",
    "So, the correct BGP to retrieve entities of books is:\n",
    "```\n",
    "?book wdt:P31/wdt:P279* wd:Q571.\n",
    "```\n",
    "\n",
    "I want to check how books and writers are connected."
   ]
  },
  {
   "cell_type": "code",
   "execution_count": 9,
   "id": "656d7486-5554-4bdf-9d4d-1285b3fbc64c",
   "metadata": {},
   "outputs": [
    {
     "name": "stdout",
     "output_type": "stream",
     "text": [
      "Results\n",
      "[('p', 'http://www.wikidata.org/prop/direct/P110'), ('pName', 'illustrator')]\n",
      "[('p', 'http://www.wikidata.org/prop/direct/P50'), ('pName', 'author')]\n",
      "[('p', 'http://www.wikidata.org/prop/direct/P736'), ('pName', 'cover art by')]\n",
      "[('p', 'http://www.wikidata.org/prop/direct/P170'), ('pName', 'creator')]\n",
      "[('p', 'http://www.wikidata.org/prop/direct/P175'), ('pName', 'performer')]\n",
      "[('p', 'http://www.wikidata.org/prop/direct/P180'), ('pName', 'depicts')]\n",
      "[('p', 'http://www.wikidata.org/prop/direct/P287'), ('pName', 'designed by')]\n",
      "[('p', 'http://www.wikidata.org/prop/direct/P58'), ('pName', 'screenwriter')]\n",
      "[('p', 'http://www.wikidata.org/prop/direct/P1877'), ('pName', 'after a work by')]\n",
      "[('p', 'http://www.wikidata.org/prop/direct/P1891'), ('pName', 'signatory')]\n"
     ]
    },
    {
     "data": {
      "text/plain": [
       "10"
      ]
     },
     "execution_count": 9,
     "metadata": {},
     "output_type": "execute_result"
    }
   ],
   "source": [
    "queryString = \"\"\"\n",
    "SELECT DISTINCT ?p ?pName WHERE {\n",
    "    \n",
    "    # Retrieve istances of book\n",
    "    ?book wdt:P31/wdt:P279* wd:Q571 .\n",
    "\n",
    "    # Search for writers\n",
    "    ?writer wdt:P106 wd:Q36180 .\n",
    "    \n",
    "    # Connection between writer and book\n",
    "    ?book ?p ?writer.\n",
    "    \n",
    "    # This returns the labels\n",
    "    ?p <http://schema.org/name> ?pName.\n",
    "    \n",
    "}\n",
    "LIMIT 10\n",
    "\"\"\"\n",
    "\n",
    "print(\"Results\")\n",
    "run_query(queryString)"
   ]
  },
  {
   "cell_type": "markdown",
   "id": "40027505-f588-47e6-bdab-2ee6af772e05",
   "metadata": {},
   "source": [
    "I can probably use the property ***author (wdt:P50)***. I try to retrieve some examples of pairs [books,author]."
   ]
  },
  {
   "cell_type": "code",
   "execution_count": 10,
   "id": "429e04a9-3bb3-4030-8485-b57951b473dc",
   "metadata": {},
   "outputs": [
    {
     "name": "stdout",
     "output_type": "stream",
     "text": [
      "Results\n",
      "[('bookName', 'Book Girl'), ('writerName', 'Mizuki Nomura')]\n",
      "[('bookName', 'All Star Batman & Robin, the Boy Wonder'), ('writerName', 'Frank Miller')]\n",
      "[('bookName', 'The Dark Knight Strikes Again'), ('writerName', 'Frank Miller')]\n",
      "[('bookName', 'Batwoman: Elegy'), ('writerName', 'Greg Rucka')]\n",
      "[('bookName', 'Kiss of the Spider Woman'), ('writerName', 'Manuel Puig')]\n",
      "[('bookName', 'Giant Days'), ('writerName', 'John Allison')]\n",
      "[('bookName', 'Hapless Child'), ('writerName', 'Edward Gorey')]\n",
      "[('bookName', 'Ore ga Ojousama Gakkou ni \"Shomin Sample\" Toshite Rachirareta Ken'), ('writerName', 'Takafumi Nanatsuki')]\n",
      "[('bookName', 'X-Treme X-Men'), ('writerName', 'Chris Claremont')]\n",
      "[('bookName', 'Wolverine'), ('writerName', 'Chris Claremont')]\n",
      "[('bookName', 'Sex'), ('writerName', 'Madonna')]\n",
      "[('bookName', 'Etymologicum Magnum'), ('writerName', 'anonymous')]\n",
      "[('bookName', 'Black Summer'), ('writerName', 'Warren Ellis')]\n",
      "[('bookName', 'Asterix Conquers Rome'), ('writerName', 'René Goscinny')]\n",
      "[('bookName', 'After the quake'), ('writerName', 'Haruki Murakami')]\n",
      "[('bookName', 'Mirror Image'), ('writerName', 'Sandra Brown')]\n",
      "[('bookName', 'Hakubō no Dendōshi'), ('writerName', 'Gen Urobuchi')]\n",
      "[('bookName', 'Fate/Zero'), ('writerName', 'Gen Urobuchi')]\n",
      "[('bookName', 'Lost Universe'), ('writerName', 'Hajime Kanzaka')]\n",
      "[('bookName', 'Virus'), ('writerName', 'Chuck Pfarrer')]\n",
      "[('bookName', 'The Dark Tower'), ('writerName', 'Peter David')]\n",
      "[('bookName', 'Alien: The Illustrated Story'), ('writerName', 'Archie Goodwin')]\n",
      "[('bookName', 'Advanced Dungeons & Dragons'), ('writerName', 'Dan Mishkin')]\n",
      "[('bookName', 'Flash of Two Worlds'), ('writerName', 'Gardner Fox')]\n",
      "[('bookName', 'The Darkness\\\\Batman'), ('writerName', 'Scott Lobdell')]\n",
      "[('bookName', 'Hitman'), ('writerName', 'Garth Ennis')]\n",
      "[('bookName', 'Crossed'), ('writerName', 'Garth Ennis')]\n",
      "[('bookName', 'Hitman'), ('writerName', 'John McCrea')]\n",
      "[('bookName', 'Das offizielle Wörterbuch: Klingonisch - Deutsch / Deutsch - Klingonisch'), ('writerName', 'Marc Okrand')]\n",
      "[('bookName', 'The Return of the Dancing Master'), ('writerName', 'Henning Mankell')]\n"
     ]
    },
    {
     "data": {
      "text/plain": [
       "30"
      ]
     },
     "execution_count": 10,
     "metadata": {},
     "output_type": "execute_result"
    }
   ],
   "source": [
    "queryString = \"\"\"\n",
    "SELECT DISTINCT ?bookName ?writerName WHERE {\n",
    "    \n",
    "    # Retrieve istances of book and their author\n",
    "    ?book wdt:P31/wdt:P279* wd:Q571 ;\n",
    "          wdt:P50           ?writer .\n",
    "\n",
    "    # Search for writers\n",
    "    ?writer wdt:P106 wd:Q36180 .\n",
    "    \n",
    "    # This returns the labels\n",
    "    ?writer <http://schema.org/name> ?writerName .\n",
    "    ?book   <http://schema.org/name> ?bookName   .   \n",
    "}\n",
    "LIMIT 30\n",
    "\"\"\"\n",
    "\n",
    "print(\"Results\")\n",
    "run_query(queryString)"
   ]
  },
  {
   "cell_type": "markdown",
   "id": "2b5cf77b-782b-45cf-be06-081850ba7739",
   "metadata": {},
   "source": [
    "Now I want to discover the data properties of an entity of ***book (wd:Q571)***."
   ]
  },
  {
   "cell_type": "code",
   "execution_count": 11,
   "id": "d673d539-c955-4e59-bbeb-7c68c414a31f",
   "metadata": {},
   "outputs": [
    {
     "name": "stdout",
     "output_type": "stream",
     "text": [
      "Results\n",
      "[('p', 'http://www.wikidata.org/prop/direct/P478'), ('pname', 'volume')]\n",
      "[('p', 'http://www.wikidata.org/prop/direct/P4480'), ('pname', 'INDUCKS publication ID')]\n",
      "[('p', 'http://www.wikidata.org/prop/direct/P4484'), ('pname', 'INDUCKS issue ID')]\n",
      "[('p', 'http://www.wikidata.org/prop/direct/P4110'), ('pname', 'Crunchyroll ID')]\n",
      "[('p', 'http://www.wikidata.org/prop/direct/P2093'), ('pname', 'author name string')]\n",
      "[('p', 'http://www.wikidata.org/prop/direct/P481'), ('pname', 'Palissy ID')]\n",
      "[('p', 'http://www.wikidata.org/prop/direct/P1014'), ('pname', 'Art & Architecture Thesaurus ID')]\n",
      "[('p', 'http://www.wikidata.org/prop/direct/P1104'), ('pname', 'number of pages')]\n",
      "[('p', 'http://www.wikidata.org/prop/direct/P1113'), ('pname', 'number of episodes')]\n",
      "[('p', 'http://www.wikidata.org/prop/direct/P1235'), ('pname', 'ISFDB series ID')]\n",
      "[('p', 'http://www.wikidata.org/prop/direct/P1267'), ('pname', 'AlloCiné series ID')]\n",
      "[('p', 'http://www.wikidata.org/prop/direct/P1296'), ('pname', 'Gran Enciclopèdia Catalana ID')]\n",
      "[('p', 'http://www.wikidata.org/prop/direct/P1417'), ('pname', 'Encyclopædia Britannica Online ID')]\n",
      "[('p', 'http://www.wikidata.org/prop/direct/P1476'), ('pname', 'title')]\n",
      "[('p', 'http://www.wikidata.org/prop/direct/P1545'), ('pname', 'series ordinal')]\n",
      "[('p', 'http://www.wikidata.org/prop/direct/P1711'), ('pname', 'British Museum person or institution ID')]\n",
      "[('p', 'http://www.wikidata.org/prop/direct/P1874'), ('pname', 'Netflix ID')]\n",
      "[('p', 'http://www.wikidata.org/prop/direct/P2002'), ('pname', 'Twitter username')]\n",
      "[('p', 'http://www.wikidata.org/prop/direct/P2013'), ('pname', 'Facebook ID')]\n",
      "[('p', 'http://www.wikidata.org/prop/direct/P2047'), ('pname', 'duration')]\n",
      "[('p', 'http://www.wikidata.org/prop/direct/P214'), ('pname', 'VIAF ID')]\n",
      "[('p', 'http://www.wikidata.org/prop/direct/P217'), ('pname', 'inventory number')]\n",
      "[('p', 'http://www.wikidata.org/prop/direct/P227'), ('pname', 'GND ID')]\n",
      "[('p', 'http://www.wikidata.org/prop/direct/P236'), ('pname', 'ISSN')]\n",
      "[('p', 'http://www.wikidata.org/prop/direct/P243'), ('pname', 'OCLC control number')]\n",
      "[('p', 'http://www.wikidata.org/prop/direct/P244'), ('pname', 'Library of Congress authority ID')]\n",
      "[('p', 'http://www.wikidata.org/prop/direct/P2465'), ('pname', 'Allcinema film ID')]\n",
      "[('p', 'http://www.wikidata.org/prop/direct/P2603'), ('pname', 'Kinopoisk film ID')]\n",
      "[('p', 'http://www.wikidata.org/prop/direct/P2635'), ('pname', 'number of parts of this work')]\n",
      "[('p', 'http://www.wikidata.org/prop/direct/P2671'), ('pname', 'Google Knowledge Graph ID')]\n",
      "[('p', 'http://www.wikidata.org/prop/direct/P268'), ('pname', 'Bibliothèque nationale de France ID')]\n",
      "[('p', 'http://www.wikidata.org/prop/direct/P269'), ('pname', 'IdRef ID')]\n",
      "[('p', 'http://www.wikidata.org/prop/direct/P2924'), ('pname', 'Great Russian Encyclopedia Online ID')]\n",
      "[('p', 'http://www.wikidata.org/prop/direct/P3138'), ('pname', 'OFDb film ID')]\n",
      "[('p', 'http://www.wikidata.org/prop/direct/P3222'), ('pname', 'NE.se ID')]\n",
      "[('p', 'http://www.wikidata.org/prop/direct/P3365'), ('pname', 'Treccani ID')]\n",
      "[('p', 'http://www.wikidata.org/prop/direct/P3417'), ('pname', 'Quora topic ID')]\n",
      "[('p', 'http://www.wikidata.org/prop/direct/P345'), ('pname', 'IMDb ID')]\n",
      "[('p', 'http://www.wikidata.org/prop/direct/P349'), ('pname', 'National Diet Library ID')]\n",
      "[('p', 'http://www.wikidata.org/prop/direct/P3553'), ('pname', 'Zhihu topic ID')]\n",
      "[('p', 'http://www.wikidata.org/prop/direct/P373'), ('pname', 'Commons category')]\n",
      "[('p', 'http://www.wikidata.org/prop/direct/P4529'), ('pname', 'Douban film ID')]\n",
      "[('p', 'http://www.wikidata.org/prop/direct/P4835'), ('pname', 'TheTVDB.com series ID')]\n",
      "[('p', 'http://www.wikidata.org/prop/direct/P4953'), ('pname', 'Library of Congress Genre/Form Terms ID')]\n",
      "[('p', 'http://www.wikidata.org/prop/direct/P4983'), ('pname', 'TMDb TV series ID')]\n",
      "[('p', 'http://www.wikidata.org/prop/direct/P508'), ('pname', 'BNCF Thesaurus ID')]\n",
      "[('p', 'http://www.wikidata.org/prop/direct/P5327'), ('pname', 'fernsehserien.de ID')]\n",
      "[('p', 'http://www.wikidata.org/prop/direct/P5331'), ('pname', 'OCLC work ID')]\n",
      "[('p', 'http://www.wikidata.org/prop/direct/P5396'), ('pname', 'Online Books Page publication ID')]\n",
      "[('p', 'http://www.wikidata.org/prop/direct/P5587'), ('pname', 'Libris-URI')]\n",
      "[('p', 'http://www.wikidata.org/prop/direct/P571'), ('pname', 'inception')]\n",
      "[('p', 'http://www.wikidata.org/prop/direct/P5732'), ('pname', 'bgm.tv subject ID')]\n",
      "[('p', 'http://www.wikidata.org/prop/direct/P5737'), ('pname', 'Chinese Moegirlpedia ID')]\n",
      "[('p', 'http://www.wikidata.org/prop/direct/P576'), ('pname', 'dissolved, abolished or demolished date')]\n",
      "[('p', 'http://www.wikidata.org/prop/direct/P577'), ('pname', 'publication date')]\n",
      "[('p', 'http://www.wikidata.org/prop/direct/P580'), ('pname', 'start time')]\n",
      "[('p', 'http://www.wikidata.org/prop/direct/P582'), ('pname', 'end time')]\n",
      "[('p', 'http://www.wikidata.org/prop/direct/P5905'), ('pname', 'Comic Vine ID')]\n",
      "[('p', 'http://www.wikidata.org/prop/direct/P6262'), ('pname', 'Fandom article ID')]\n",
      "[('p', 'http://www.wikidata.org/prop/direct/P646'), ('pname', 'Freebase ID')]\n",
      "[('p', 'http://www.wikidata.org/prop/direct/P648'), ('pname', 'Open Library ID')]\n",
      "[('p', 'http://www.wikidata.org/prop/direct/P6839'), ('pname', 'TV Tropes identifier')]\n",
      "[('p', 'http://www.wikidata.org/prop/direct/P7212'), ('pname', 'LyricsTranslate ID')]\n",
      "[('p', 'http://www.wikidata.org/prop/direct/P724'), ('pname', 'Internet Archive ID')]\n",
      "[('p', 'http://www.wikidata.org/prop/direct/P7363'), ('pname', 'ISSN-L')]\n",
      "[('p', 'http://www.wikidata.org/prop/direct/P7886'), ('pname', 'Media Arts Database ID')]\n",
      "[('p', 'http://www.wikidata.org/prop/direct/P8383'), ('pname', 'Goodreads work ID')]\n",
      "[('p', 'http://www.wikidata.org/prop/direct/P8406'), ('pname', 'Grove Art Online ID')]\n",
      "[('p', 'http://www.wikidata.org/prop/direct/P8519'), ('pname', 'RKD thesaurus ID')]\n",
      "[('p', 'http://www.wikidata.org/prop/direct/P8687'), ('pname', 'social media followers')]\n",
      "[('p', 'http://www.wikidata.org/prop/direct/P1274'), ('pname', 'ISFDB title ID')]\n",
      "[('p', 'http://www.wikidata.org/prop/direct/P212'), ('pname', 'ISBN-13')]\n",
      "[('p', 'http://www.wikidata.org/prop/direct/P3589'), ('pname', 'GCD series ID')]\n",
      "[('p', 'http://www.wikidata.org/prop/direct/P4087'), ('pname', 'MyAnimeList manga ID')]\n",
      "[('p', 'http://www.wikidata.org/prop/direct/P4834'), ('pname', 'Deutsche Synchronkartei series ID')]\n",
      "[('p', 'http://www.wikidata.org/prop/direct/P5571'), ('pname', 'NooSFere book ID')]\n",
      "[('p', 'http://www.wikidata.org/prop/direct/P5794'), ('pname', 'Internet Game Database game ID')]\n",
      "[('p', 'http://www.wikidata.org/prop/direct/P6175'), ('pname', 'Bitraga work ID')]\n",
      "[('p', 'http://www.wikidata.org/prop/direct/P6467'), ('pname', 'Hulu series ID')]\n",
      "[('p', 'http://www.wikidata.org/prop/direct/P7439'), ('pname', 'FantLab work ID')]\n",
      "[('p', 'http://www.wikidata.org/prop/direct/P8351'), ('pname', 'vglist video game ID')]\n",
      "[('p', 'http://www.wikidata.org/prop/direct/P8731'), ('pname', 'AniList manga ID')]\n",
      "[('p', 'http://www.wikidata.org/prop/direct/P957'), ('pname', 'ISBN-10')]\n",
      "[('p', 'http://www.wikidata.org/prop/direct/P1984'), ('pname', 'Anime News Network manga ID')]\n",
      "[('p', 'http://www.wikidata.org/prop/direct/P1985'), ('pname', 'Anime News Network anime ID')]\n",
      "[('p', 'http://www.wikidata.org/prop/direct/P2969'), ('pname', 'Goodreads version/edition ID')]\n",
      "[('p', 'http://www.wikidata.org/prop/direct/P4086'), ('pname', 'MyAnimeList anime ID')]\n",
      "[('p', 'http://www.wikidata.org/prop/direct/P4230'), ('pname', 'Sefaria ID')]\n",
      "[('p', 'http://www.wikidata.org/prop/direct/P5646'), ('pname', 'AniDB anime ID')]\n",
      "[('p', 'http://www.wikidata.org/prop/direct/P8070'), ('pname', 'ToposText work ID')]\n",
      "[('p', 'http://www.wikidata.org/prop/direct/P8729'), ('pname', 'AniList anime ID')]\n",
      "[('p', 'http://www.wikidata.org/prop/direct/P9092'), ('pname', 'Art in the Christian Tradition ID')]\n",
      "[('p', 'http://www.wikidata.org/prop/direct/P5733'), ('pname', 'bilibili ID')]\n",
      "[('p', 'http://www.wikidata.org/prop/direct/P1182'), ('pname', 'LIBRIS editions')]\n",
      "[('p', 'http://www.wikidata.org/prop/direct/P2511'), ('pname', 'MSK Gent work PID')]\n",
      "[('p', 'http://www.wikidata.org/prop/direct/P9147'), ('pname', 'Union Catalog of Armenian Continuing Resources ID')]\n",
      "[('p', 'http://www.wikidata.org/prop/direct/P3868'), ('pname', 'MyDramaList title ID')]\n",
      "[('p', 'http://www.wikidata.org/prop/direct/P8619'), ('pname', \"BD Gest' series ID\")]\n",
      "[('p', 'http://www.wikidata.org/prop/direct/P1085'), ('pname', 'LibraryThing work ID')]\n",
      "[('p', 'http://www.wikidata.org/prop/direct/P1451'), ('pname', 'motto text')]\n"
     ]
    },
    {
     "data": {
      "text/plain": [
       "100"
      ]
     },
     "execution_count": 11,
     "metadata": {},
     "output_type": "execute_result"
    }
   ],
   "source": [
    "queryString = \"\"\"\n",
    "SELECT DISTINCT ?p ?pname WHERE {\n",
    "\n",
    "    # Retrieve instances of book\n",
    "    ?book  (wdt:P31 / wdt:P279*) wd:Q571;\n",
    "           ?p ?o.\n",
    "            \n",
    "    # This returns the labels\n",
    "    ?p <http://schema.org/name> ?pname .\n",
    "    \n",
    "    # Only data properties\n",
    "    FILTER(isLiteral(?o))\n",
    "}\n",
    "LIMIT 100\n",
    "\"\"\"\n",
    "\n",
    "print(\"Results\")\n",
    "run_query(queryString)"
   ]
  },
  {
   "cell_type": "markdown",
   "id": "8e7e2dca-aa16-4575-bf03-7ecb48978d90",
   "metadata": {},
   "source": [
    "I have just discovered different data properties that seem to be useful such as:\n",
    "* ***publication date (wdt:P577)***\n",
    "* ***title (wdt:P1476)***\n",
    "* ***edition number (wdt:P393)***\n",
    "* ..."
   ]
  },
  {
   "cell_type": "markdown",
   "id": "eca7ed41-b2cf-4a44-8f6f-73a80b84647e",
   "metadata": {},
   "source": [
    "Now I can finally answer to the first question. I search for Italian and French writers who published a book in the last 50 years."
   ]
  },
  {
   "cell_type": "code",
   "execution_count": 12,
   "id": "67cef4a5-5629-4d69-b4f2-370842dc447d",
   "metadata": {},
   "outputs": [
    {
     "name": "stdout",
     "output_type": "stream",
     "text": [
      "Results\n",
      "[('bookName', 'Quand sort la recluse'), ('writerName', 'Fred Vargas'), ('countryName', 'France'), ('publishDate', '2017-05-10T00:00:00Z')]\n",
      "[('bookName', 'Asterix Conquers Rome'), ('writerName', 'René Goscinny'), ('countryName', 'France'), ('publishDate', '1976-01-01T00:00:00Z')]\n",
      "[('bookName', 'Wojtyla segreto'), ('writerName', 'Giacomo Galeazzi'), ('countryName', 'Italy'), ('publishDate', '2011-01-01T00:00:00Z')]\n",
      "[('bookName', 'La France russe, enquête sur les réseaux Poutine'), ('writerName', 'Nicolas Hénin'), ('countryName', 'France'), ('publishDate', '2016-05-25T00:00:00Z')]\n",
      "[('bookName', 'Reassembling the Social. An introduction to Actor-Network-Theory'), ('writerName', 'Bruno Latour'), ('countryName', 'France'), ('publishDate', '2005-01-01T00:00:00Z')]\n",
      "[('bookName', 'Jihad Academy'), ('writerName', 'Nicolas Hénin'), ('countryName', 'France'), ('publishDate', '2015-11-05T00:00:00Z')]\n",
      "[('bookName', 'Comprendre le terrorisme'), ('writerName', 'Nicolas Hénin'), ('countryName', 'France'), ('publishDate', '2017-10-25T00:00:00Z')]\n",
      "[('bookName', 'Dog'), ('writerName', 'Daniel Pennacchioni'), ('countryName', 'France'), ('publishDate', '1982-01-01T00:00:00Z')]\n",
      "[('bookName', 'The Last Giants'), ('writerName', 'François Place'), ('countryName', 'France'), ('publishDate', '1992-01-01T00:00:00Z')]\n",
      "[('bookName', 'Dictionnaire occitan-français Laus'), ('writerName', 'Christian Laux'), ('countryName', 'France'), ('publishDate', '2001-01-01T00:00:00Z')]\n",
      "[('bookName', 'Leo Africanus'), ('writerName', 'Amin Maalouf'), ('countryName', 'France'), ('publishDate', '1986-01-01T00:00:00Z')]\n",
      "[('bookName', 'Spring Cleaning'), ('writerName', 'Antonio Manzini'), ('countryName', 'Italy'), ('publishDate', '2015-01-01T00:00:00Z')]\n",
      "[('bookName', 'Le Vent de la nuit'), ('writerName', 'Michel del Castillo'), ('countryName', 'France'), ('publishDate', '1972-01-01T00:00:00Z')]\n",
      "[('bookName', 'Black Run'), ('writerName', 'Antonio Manzini'), ('countryName', 'Italy'), ('publishDate', '2013-01-01T00:00:00Z')]\n",
      "[('bookName', 'Out of Season'), ('writerName', 'Antonio Manzini'), ('countryName', 'Italy'), ('publishDate', '2015-01-01T00:00:00Z')]\n",
      "[('bookName', 'Fabrika'), ('writerName', 'Cyril Gély'), ('countryName', 'France'), ('publishDate', '2016-01-01T00:00:00Z')]\n",
      "[('bookName', 'Liar Moon'), ('writerName', 'Ben Pastor'), ('countryName', 'Italy'), ('publishDate', '2001-01-01T00:00:00Z')]\n",
      "[('bookName', 'The Hunter of the Dark'), ('writerName', 'Donato Carrisi'), ('countryName', 'Italy'), ('publishDate', '2014-01-01T00:00:00Z')]\n",
      "[('bookName', 'Terre selvagge'), ('writerName', 'Sebastiano Vassalli'), ('countryName', 'Italy'), ('publishDate', '2014-01-01T00:00:00Z')]\n",
      "[('bookName', 'Voices'), ('writerName', 'Dacia Maraini'), ('countryName', 'Italy'), ('publishDate', '1994-01-01T00:00:00Z')]\n",
      "[('bookName', 'Missing Person'), ('writerName', 'Patrick Modiano'), ('countryName', 'France'), ('publishDate', '1978-01-01T00:00:00Z')]\n",
      "[('bookName', \"Si c'était à refaire\"), ('writerName', 'Marc Levy'), ('countryName', 'France'), ('publishDate', '2012-03-29T00:00:00Z')]\n",
      "[('bookName', 'Paradis'), ('writerName', 'Philippe Sollers'), ('countryName', 'France'), ('publishDate', '1981-01-01T00:00:00Z')]\n",
      "[('bookName', 'Tintin: The Complete Companion'), ('writerName', 'Michael Farr'), ('countryName', 'France'), ('publishDate', '2001-01-01T00:00:00Z')]\n",
      "[('bookName', 'Regards from the Dead Princess'), ('writerName', 'Kenizé Mourad'), ('countryName', 'France'), ('publishDate', '1987-01-01T00:00:00Z')]\n",
      "[('bookName', 'Brink Tales'), ('writerName', 'Ben Pastor'), ('countryName', 'Italy'), ('publishDate', '2002-01-01T00:00:00Z')]\n",
      "[('bookName', 'Master of One Hundred Bones'), ('writerName', 'Ben Pastor'), ('countryName', 'Italy'), ('publishDate', '2011-01-01T00:00:00Z')]\n",
      "[('bookName', 'The Wind Rose Room'), ('writerName', 'Ben Pastor'), ('countryName', 'Italy'), ('publishDate', '2002-01-01T00:00:00Z')]\n",
      "[('bookName', 'The Cave of the Winds'), ('writerName', 'Ben Pastor'), ('countryName', 'Italy'), ('publishDate', '2012-01-01T00:00:00Z')]\n",
      "[('bookName', 'The Stone Virgins'), ('writerName', 'Ben Pastor'), ('countryName', 'Italy'), ('publishDate', '2007-01-01T00:00:00Z')]\n"
     ]
    },
    {
     "data": {
      "text/plain": [
       "30"
      ]
     },
     "execution_count": 12,
     "metadata": {},
     "output_type": "execute_result"
    }
   ],
   "source": [
    "queryString = \"\"\"\n",
    "SELECT DISTINCT ?bookName ?writerName ?countryName ?publishDate WHERE {\n",
    "    \n",
    "    # Retrieve instances of book, publication date and author\n",
    "    ?book (wdt:P31 / wdt:P279*) wd:Q571      ;\n",
    "          wdt:P577              ?publishDate ;\n",
    "          wdt:P50               ?writer      .\n",
    "          \n",
    "    # Retrieve writers and their nationality\n",
    "    ?writer wdt:P106 wd:Q36180 ;\n",
    "            wdt:P27  ?country  .\n",
    "    \n",
    "   \n",
    "    # This returns the labels\n",
    "    ?book    <http://schema.org/name> ?bookName    .\n",
    "    ?writer  <http://schema.org/name> ?writerName  .\n",
    "    ?country <http://schema.org/name> ?countryName .\n",
    "    \n",
    "    # Only Italian and French writers\n",
    "    FILTER (?country = wd:Q38 || ?country = wd:Q142)\n",
    "    \n",
    "    # Only book published in the last 50 years\n",
    "    FILTER (?publishDate > \"1971-01-01T00:00:00Z\"^^xsd:dateTime)     \n",
    "}\n",
    "LIMIT 30\n",
    "\"\"\"\n",
    "\n",
    "print(\"Results\")\n",
    "run_query(queryString)"
   ]
  },
  {
   "cell_type": "markdown",
   "id": "a9cc34d3-955f-4e9b-8e37-663aaca18981",
   "metadata": {},
   "source": [
    "Same as before, but showing only info about the authors."
   ]
  },
  {
   "cell_type": "code",
   "execution_count": 13,
   "id": "baa72430-91aa-4663-a5a9-cf5d78f3c88f",
   "metadata": {},
   "outputs": [
    {
     "name": "stdout",
     "output_type": "stream",
     "text": [
      "Results\n",
      "[('writerName', 'Fred Vargas'), ('countryName', 'France')]\n",
      "[('writerName', 'René Goscinny'), ('countryName', 'France')]\n",
      "[('writerName', 'Giacomo Galeazzi'), ('countryName', 'Italy')]\n",
      "[('writerName', 'Nicolas Hénin'), ('countryName', 'France')]\n",
      "[('writerName', 'Bruno Latour'), ('countryName', 'France')]\n",
      "[('writerName', 'Daniel Pennacchioni'), ('countryName', 'France')]\n",
      "[('writerName', 'François Place'), ('countryName', 'France')]\n",
      "[('writerName', 'Christian Laux'), ('countryName', 'France')]\n",
      "[('writerName', 'Amin Maalouf'), ('countryName', 'France')]\n",
      "[('writerName', 'Antonio Manzini'), ('countryName', 'Italy')]\n",
      "[('writerName', 'Michel del Castillo'), ('countryName', 'France')]\n",
      "[('writerName', 'Cyril Gély'), ('countryName', 'France')]\n",
      "[('writerName', 'Ben Pastor'), ('countryName', 'Italy')]\n",
      "[('writerName', 'Donato Carrisi'), ('countryName', 'Italy')]\n",
      "[('writerName', 'Sebastiano Vassalli'), ('countryName', 'Italy')]\n",
      "[('writerName', 'Dacia Maraini'), ('countryName', 'Italy')]\n",
      "[('writerName', 'Patrick Modiano'), ('countryName', 'France')]\n",
      "[('writerName', 'Marc Levy'), ('countryName', 'France')]\n",
      "[('writerName', 'Philippe Sollers'), ('countryName', 'France')]\n",
      "[('writerName', 'Michael Farr'), ('countryName', 'France')]\n",
      "[('writerName', 'Kenizé Mourad'), ('countryName', 'France')]\n",
      "[('writerName', 'Christian Jacq'), ('countryName', 'France')]\n",
      "[('writerName', 'Aldo Carotenuto'), ('countryName', 'Italy')]\n",
      "[('writerName', 'Gianrico Carofiglio'), ('countryName', 'Italy')]\n",
      "[('writerName', 'Marek Halter'), ('countryName', 'France')]\n",
      "[('writerName', 'Julio Cortázar'), ('countryName', 'France')]\n",
      "[('writerName', 'Karine Tuil'), ('countryName', 'France')]\n",
      "[('writerName', 'Maryse Condé'), ('countryName', 'France')]\n",
      "[('writerName', 'Sandro Veronesi'), ('countryName', 'Italy')]\n",
      "[('writerName', 'Alessandro Piperno'), ('countryName', 'Italy')]\n"
     ]
    },
    {
     "data": {
      "text/plain": [
       "30"
      ]
     },
     "execution_count": 13,
     "metadata": {},
     "output_type": "execute_result"
    }
   ],
   "source": [
    "queryString = \"\"\"\n",
    "SELECT DISTINCT ?writerName ?countryName WHERE {\n",
    "    \n",
    "    # Retrieve instances of book, publication date and author\n",
    "    ?book (wdt:P31 / wdt:P279*) wd:Q571      ;\n",
    "          wdt:P577              ?publishDate ;\n",
    "          wdt:P50               ?writer      .\n",
    "          \n",
    "    # Retrieve writers and their nationality\n",
    "    ?writer wdt:P106 wd:Q36180 ;\n",
    "            wdt:P27  ?country  .\n",
    "    \n",
    "   \n",
    "    # This returns the labels\n",
    "    ?book    <http://schema.org/name> ?bookName    .\n",
    "    ?writer  <http://schema.org/name> ?writerName  .\n",
    "    ?country <http://schema.org/name> ?countryName .\n",
    "    \n",
    "    # Only Italian and French writers\n",
    "    FILTER (?country = wd:Q38 || ?country = wd:Q142)\n",
    "    \n",
    "    # Only book published in the last 50 years\n",
    "    FILTER (?publishDate > \"1971-01-01T00:00:00Z\"^^xsd:dateTime)     \n",
    "}\n",
    "LIMIT 30\n",
    "\"\"\"\n",
    "\n",
    "print(\"Results\")\n",
    "run_query(queryString)"
   ]
  },
  {
   "cell_type": "markdown",
   "id": "6dd217e4-79a8-4935-9a5e-7847ab9ea8d2",
   "metadata": {},
   "source": [
    "#### END TASK 1:\n",
    "The BGP for obtaining the Italian and French writers who published a book in the last 50 years is :\n",
    "```\n",
    "?book (wdt:P31 / wdt:P279*)  wd:Q571      ;\n",
    "       wdt:P577              ?publishDate ;\n",
    "       wdt:P50               ?writer      .\n",
    "          \n",
    "?writer wdt:P106 wd:Q36180 ;\n",
    "        wdt:P27  ?country  .\n",
    "    \n",
    "FILTER (?country = wd:Q38 || ?country = wd:Q142)\n",
    "    \n",
    "FILTER (?publishDate > \"1971-01-01T00:00:00Z\"^^xsd:dateTime) \n",
    "```\n",
    "\n",
    "In particular, I have to useo two ***FILTER***, one for the nationality of the authors and one for the publication date."
   ]
  },
  {
   "cell_type": "markdown",
   "id": "7f2fad8a-3c8c-4454-97d8-d79da02c6cf6",
   "metadata": {},
   "source": [
    "### ***Task 2 :*** Compare the number of books written by Italian and French writers.\n",
    "\n",
    "I can use the property ***author (wdt:P50)*** discovered before."
   ]
  },
  {
   "cell_type": "code",
   "execution_count": 14,
   "id": "de115236-25ed-4a92-9ee0-0219abb1edcd",
   "metadata": {},
   "outputs": [
    {
     "name": "stdout",
     "output_type": "stream",
     "text": [
      "Results\n",
      "[('numBookIT', '767'), ('numBookFR', '1454')]\n"
     ]
    },
    {
     "data": {
      "text/plain": [
       "1"
      ]
     },
     "execution_count": 14,
     "metadata": {},
     "output_type": "execute_result"
    }
   ],
   "source": [
    "queryString = \"\"\"\n",
    "SELECT ?numBookIT ?numBookFR WHERE{\n",
    "\n",
    "    {   # Retrieve numbers of books written by italian authors\n",
    "        SELECT COUNT(DISTINCT ?book) AS ?numBookIT WHERE {\n",
    "        \n",
    "            # Retrieve istances of books and their author\n",
    "            ?book  (wdt:P31 / wdt:P279*) wd:Q571 ;\n",
    "                    wdt:P50              ?writer .\n",
    "\n",
    "            # Retrieve italian writers\n",
    "            ?writer wdt:P106 wd:Q36180 ;\n",
    "                    wdt:P27  wd:Q38    .\n",
    "        }\n",
    "    }\n",
    "    {   # Retrieve numbers of books written by french authors\n",
    "        SELECT COUNT(DISTINCT ?book) AS ?numBookFR WHERE {\n",
    "        \n",
    "            # Retrieve istances of books and their author\n",
    "            ?book  (wdt:P31 / wdt:P279*) wd:Q571 ;\n",
    "                    wdt:P50              ?writer .\n",
    "\n",
    "            # Retirieve french writers\n",
    "            ?writer wdt:P106 wd:Q36180 ;\n",
    "                    wdt:P27  wd:Q142   .\n",
    "        }\n",
    "    }\n",
    "}\n",
    "\"\"\"\n",
    "\n",
    "print(\"Results\")\n",
    "run_query(queryString)"
   ]
  },
  {
   "cell_type": "markdown",
   "id": "56c007f5-5570-4cb4-961e-d38f6ce1b609",
   "metadata": {},
   "source": [
    "#### END TASK 2:\n",
    "I have 1454 books written by French writers and only 767 by Italian writers.\n",
    "\n",
    "### ***Task 3 :*** Count how many books written by Italian authors are now released with a \"public domain\" copyright form.\n",
    "\n",
    "First of all, I have to understand how copyright license are managed.\n",
    "\n",
    "I retrieve the object properties that connect istances of ***book (wd:Q571)*** with other entities. I also use a ***REGEX*** to search properties that contain the word \"copyright\"."
   ]
  },
  {
   "cell_type": "code",
   "execution_count": 15,
   "id": "47ceb036-2f41-4bef-8103-763dabdb1751",
   "metadata": {},
   "outputs": [
    {
     "name": "stdout",
     "output_type": "stream",
     "text": [
      "Results\n",
      "[('p', 'http://www.wikidata.org/prop/direct/P6216'), ('pName', 'copyright status')]\n",
      "[('p', 'http://www.wikidata.org/prop/direct/P3931'), ('pName', 'copyright holder')]\n",
      "[('p', 'http://www.wikidata.org/prop/direct/P275'), ('pName', 'copyright license')]\n",
      "[('p', 'http://www.wikidata.org/prop/direct/P7763'), ('pName', 'copyright status as a creator')]\n"
     ]
    },
    {
     "data": {
      "text/plain": [
       "4"
      ]
     },
     "execution_count": 15,
     "metadata": {},
     "output_type": "execute_result"
    }
   ],
   "source": [
    "queryString = \"\"\"\n",
    "SELECT DISTINCT ?p ?pName WHERE {\n",
    "\n",
    "    # Retrieve instances of book and connect them to other entities\n",
    "    ?book  (wdt:P31 / wdt:P279*) wd:Q571 ;\n",
    "           ?p                    ?o      .\n",
    "            \n",
    "    # This returns the labels\n",
    "    ?p <http://schema.org/name> ?pName .\n",
    "    \n",
    "    # Exclude data properties\n",
    "    FILTER(!isLiteral(?o))\n",
    "    \n",
    "    # Only properties that contain the word copyright\n",
    "    FILTER(REGEX(?pName,\"copyright\"))\n",
    "}\n",
    "\"\"\"\n",
    "\n",
    "print(\"Results\")\n",
    "run_query(queryString)"
   ]
  },
  {
   "cell_type": "markdown",
   "id": "f26226e3-9a78-4e81-b3da-35684d6debeb",
   "metadata": {},
   "source": [
    "I found the property ***copyright license (wdt:P275)***. I search entities connected to istances of ***book (wd:Q571)*** through this property."
   ]
  },
  {
   "cell_type": "code",
   "execution_count": 16,
   "id": "e1906ebb-fce2-4c5c-aadf-2d7d20b5f3db",
   "metadata": {},
   "outputs": [
    {
     "name": "stdout",
     "output_type": "stream",
     "text": [
      "Results\n",
      "[('license', 'http://www.wikidata.org/entity/Q80939351'), ('licenseName', 'Open Licence 2.0')]\n",
      "[('license', 'http://www.wikidata.org/entity/Q14946043'), ('licenseName', 'Creative Commons Attribution-ShareAlike 3.0 Unported')]\n",
      "[('license', 'http://www.wikidata.org/entity/Q20007257'), ('licenseName', 'Creative Commons Attribution 4.0 International')]\n",
      "[('license', 'http://www.wikidata.org/entity/Q178285'), ('licenseName', 'freeware')]\n",
      "[('license', 'http://www.wikidata.org/entity/Q34179348'), ('licenseName', 'Creative Commons Attribution-NonCommercial 4.0 International')]\n",
      "[('license', 'http://www.wikidata.org/entity/Q24082749'), ('licenseName', 'Creative Commons Attribution-NonCommercial-NoDerivs 4.0 International')]\n",
      "[('license', 'http://www.wikidata.org/entity/Q19068204'), ('licenseName', 'Creative Commons Attribution-NonCommercial-NoDerivs 2.5 Generic')]\n",
      "[('license', 'http://www.wikidata.org/entity/Q26259495'), ('licenseName', 'Creative Commons Attribution  3.0 IGO')]\n",
      "[('license', 'http://www.wikidata.org/entity/Q6938433'), ('licenseName', 'CC0')]\n",
      "[('license', 'http://www.wikidata.org/entity/Q10513450'), ('licenseName', 'GNU General Public License, version 2.0')]\n",
      "[('license', 'http://www.wikidata.org/entity/Q6937225'), ('licenseName', 'Creative Commons Attribution-NonCommercial-NoDerivatives')]\n",
      "[('license', 'http://www.wikidata.org/entity/Q15643954'), ('licenseName', 'Creative Commons Attribution-NonCommercial-ShareAlike 3.0 Unported')]\n",
      "[('license', 'http://www.wikidata.org/entity/Q19125117'), ('licenseName', 'Creative Commons Attribution 2.0 Generic')]\n",
      "[('license', 'http://www.wikidata.org/entity/Q6905942'), ('licenseName', 'Creative Commons Attribution-ShareAlike')]\n",
      "[('license', 'http://www.wikidata.org/entity/Q6905323'), ('licenseName', 'Creative Commons Attribution')]\n",
      "[('license', 'http://www.wikidata.org/entity/Q1224853'), ('licenseName', 'Open Database License')]\n",
      "[('license', 'http://www.wikidata.org/entity/Q18810331'), ('licenseName', 'Creative Commons Attribution-NonCommercial 3.0 Unported')]\n",
      "[('license', 'http://www.wikidata.org/entity/Q14947546'), ('licenseName', 'Creative Commons Attribution 3.0 Unported')]\n",
      "[('license', 'http://www.wikidata.org/entity/Q1412537'), ('licenseName', 'Open Publication License')]\n",
      "[('license', 'http://www.wikidata.org/entity/Q18199165'), ('licenseName', 'Creative Commons Attribution-ShareAlike 4.0 International')]\n",
      "[('license', 'http://www.wikidata.org/entity/Q42553662'), ('licenseName', 'Creative Commons Attribution-NonCommercial-ShareAlike 4.0 International')]\n",
      "[('license', 'http://www.wikidata.org/entity/Q27019786'), ('licenseName', 'GNU Free Documentation License, version 1.3 or later')]\n",
      "[('license', 'http://www.wikidata.org/entity/Q99240684'), ('licenseName', 'Creative Commons Attribution-Share Alike 2.5 India')]\n",
      "[('license', 'http://www.wikidata.org/entity/Q19125045'), ('licenseName', 'Creative Commons Attribution-NonCommercial-NoDerivs 3.0 Unported')]\n",
      "[('license', 'http://www.wikidata.org/entity/Q6998997'), ('licenseName', 'Creative Commons Attribution-NonCommercial-ShareAlike')]\n",
      "[('license', 'http://www.wikidata.org/entity/Q334661'), ('licenseName', 'MIT license')]\n",
      "[('license', 'http://www.wikidata.org/entity/Q19113751'), ('licenseName', 'Creative Commons Attribution-ShareAlike 2.5 Generic')]\n",
      "[('license', 'http://www.wikidata.org/entity/Q6936496'), ('licenseName', 'Creative Commons Attribution-NonCommercial')]\n",
      "[('license', 'http://www.wikidata.org/entity/Q3238057'), ('licenseName', 'proprietary license')]\n",
      "[('license', 'http://www.wikidata.org/entity/Q22169'), ('licenseName', 'GNU Free Documentation License')]\n",
      "[('license', 'http://www.wikidata.org/entity/Q1752207'), ('licenseName', 'all rights reserved')]\n",
      "[('license', 'http://www.wikidata.org/entity/Q77143083'), ('licenseName', 'Creative Commons Attribution-ShareAlike 2.0 Germany')]\n",
      "[('license', 'http://www.wikidata.org/entity/Q191307'), ('licenseName', 'BSD licenses')]\n",
      "[('license', 'http://www.wikidata.org/entity/Q7603'), ('licenseName', 'GNU General Public License')]\n",
      "[('license', 'http://www.wikidata.org/entity/Q1752744'), ('licenseName', 'Open Game License v1.0')]\n",
      "[('license', 'http://www.wikidata.org/entity/Q18491847'), ('licenseName', '3-clause BSD License')]\n",
      "[('license', 'http://www.wikidata.org/entity/Q13785927'), ('licenseName', 'Apache Software License, Version 2.0')]\n",
      "[('license', 'http://www.wikidata.org/entity/Q1297822'), ('licenseName', 'copyright')]\n",
      "[('license', 'http://www.wikidata.org/entity/Q192897'), ('licenseName', 'GNU Lesser General Public License')]\n",
      "[('license', 'http://www.wikidata.org/entity/Q10513445'), ('licenseName', 'GNU General Public License, version 3.0')]\n",
      "[('license', 'http://www.wikidata.org/entity/Q152332'), ('licenseName', 'Free Art License')]\n",
      "[('license', 'http://www.wikidata.org/entity/Q386474'), ('licenseName', 'ISC license')]\n",
      "[('license', 'http://www.wikidata.org/entity/Q27016752'), ('licenseName', 'GNU General Public License, version 2.0 or later')]\n",
      "[('license', 'http://www.wikidata.org/entity/Q27016754'), ('licenseName', 'GNU General Public License, version 3.0 or later')]\n"
     ]
    },
    {
     "data": {
      "text/plain": [
       "44"
      ]
     },
     "execution_count": 16,
     "metadata": {},
     "output_type": "execute_result"
    }
   ],
   "source": [
    "queryString = \"\"\"\n",
    "SELECT DISTINCT ?license ?licenseName WHERE {\n",
    "    \n",
    "    # Retrieve instances of book and their copyright license \n",
    "    ?book  (wdt:P31 / wdt:P279*) wd:Q571  ;\n",
    "            wdt:P275             ?license .\n",
    "            \n",
    "    # This returns the labels\n",
    "    ?license <http://schema.org/name> ?licenseName .\n",
    "    \n",
    "}\n",
    "\"\"\"\n",
    "\n",
    "print(\"Results\")\n",
    "run_query(queryString)"
   ]
  },
  {
   "cell_type": "markdown",
   "id": "fefd21a7-75bd-4e2e-9368-b1a8e5c3ac1c",
   "metadata": {},
   "source": [
    "I use the property ***instanceOf (wdt:P31)*** to discover the classes of the just retrieved entities."
   ]
  },
  {
   "cell_type": "code",
   "execution_count": 17,
   "id": "99df90d5-0e2d-4c4f-bec7-a3282de2cff3",
   "metadata": {},
   "outputs": [
    {
     "name": "stdout",
     "output_type": "stream",
     "text": [
      "Results\n",
      "[('class', 'http://www.wikidata.org/entity/Q196294'), ('className', 'free license')]\n",
      "[('class', 'http://www.wikidata.org/entity/Q284742'), ('className', 'Creative Commons license')]\n",
      "[('class', 'http://www.wikidata.org/entity/Q30939938'), ('className', 'Open Definition conformant license')]\n",
      "[('class', 'http://www.wikidata.org/entity/Q79719'), ('className', 'license')]\n",
      "[('class', 'http://www.wikidata.org/entity/Q3238057'), ('className', 'proprietary license')]\n",
      "[('class', 'http://www.wikidata.org/entity/Q1139274'), ('className', 'copyleft license')]\n",
      "[('class', 'http://www.wikidata.org/entity/Q5975031'), ('className', 'copyleft free software license')]\n",
      "[('class', 'http://www.wikidata.org/entity/Q797551'), ('className', 'waiver')]\n",
      "[('class', 'http://www.wikidata.org/entity/Q1156659'), ('className', 'OSI-approved license')]\n",
      "[('class', 'http://www.wikidata.org/entity/Q25047642'), ('className', 'public domain equivalent license')]\n",
      "[('class', 'http://www.wikidata.org/entity/Q51754273'), ('className', 'data copyright license')]\n",
      "[('class', 'http://www.wikidata.org/entity/Q7257461'), ('className', 'public license')]\n",
      "[('class', 'http://www.wikidata.org/entity/Q22169'), ('className', 'GNU Free Documentation License')]\n",
      "[('class', 'http://www.wikidata.org/entity/Q1437937'), ('className', 'permissive free software license')]\n",
      "[('class', 'http://www.wikidata.org/entity/Q77205602'), ('className', 'copyright license')]\n",
      "[('class', 'http://www.wikidata.org/entity/Q386724'), ('className', 'work')]\n",
      "[('class', 'http://www.wikidata.org/entity/Q187931'), ('className', 'phrase')]\n",
      "[('class', 'http://www.wikidata.org/entity/Q3943414'), ('className', 'free software license')]\n",
      "[('class', 'http://www.wikidata.org/entity/Q1146011'), ('className', 'exclusive right')]\n",
      "[('class', 'http://www.wikidata.org/entity/Q191307'), ('className', 'BSD licenses')]\n",
      "[('class', 'http://www.wikidata.org/entity/Q2135465'), ('className', 'legal concept')]\n",
      "[('class', 'http://www.wikidata.org/entity/Q207621'), ('className', 'software license')]\n",
      "[('class', 'http://www.wikidata.org/entity/Q11862829'), ('className', 'academic discipline')]\n",
      "[('class', 'http://www.wikidata.org/entity/Q3331189'), ('className', 'version, edition, or translation')]\n"
     ]
    },
    {
     "data": {
      "text/plain": [
       "24"
      ]
     },
     "execution_count": 17,
     "metadata": {},
     "output_type": "execute_result"
    }
   ],
   "source": [
    "queryString = \"\"\"\n",
    "SELECT DISTINCT ?class ?className WHERE {\n",
    "    \n",
    "    # instances of book with a copyright license property\n",
    "    ?book  (wdt:P31 / wdt:P279*) wd:Q571 ;\n",
    "           wdt:P275              ?license.\n",
    "           \n",
    "    # using the \"instanceOf\" property        \n",
    "    ?license wdt:P31 ?class .\n",
    "    \n",
    "    # this returns the labels\n",
    "    ?class <http://schema.org/name> ?className . \n",
    "}\n",
    "LIMIT 100\n",
    "\"\"\"\n",
    "\n",
    "print(\"Results\")\n",
    "run_query(queryString)"
   ]
  },
  {
   "cell_type": "markdown",
   "id": "4b1ed00b-7a37-4f38-8c54-db61de9d5370",
   "metadata": {},
   "source": [
    "I found the class ***public license (wd:Q7257461)***.\n",
    "\n",
    "To retrieve copyright licenses that are public I can use this BGP: \n",
    "```\n",
    "?copyright wdt:P31/wdt:P279* wd:Q7257461\n",
    "```\n",
    "Now, I can search for books written by Italian authors that are now released with a \"public domain\" copyright form."
   ]
  },
  {
   "cell_type": "code",
   "execution_count": 18,
   "id": "7912bb2b-0004-4e4e-a438-91921fe22e11",
   "metadata": {},
   "outputs": [
    {
     "name": "stdout",
     "output_type": "stream",
     "text": [
      "Results\n",
      "Empty\n"
     ]
    },
    {
     "data": {
      "text/plain": [
       "0"
      ]
     },
     "execution_count": 18,
     "metadata": {},
     "output_type": "execute_result"
    }
   ],
   "source": [
    "queryString = \"\"\"\n",
    "SELECT ?bookName ?writerName WHERE {\n",
    "    \n",
    "    # Retrieve instances of book,their authors and their copyright licenses\n",
    "    ?book (wdt:P31 / wdt:P279*) wd:Q571  ;\n",
    "           wdt:P50              ?writer  ;\n",
    "           wdt:P275             ?license .\n",
    "    \n",
    "    # I want only Public Licenses\n",
    "    ?license wdt:P31/wdt:P279* wd:Q7257461 .\n",
    "    \n",
    "    # Retrieve Italian writers\n",
    "    ?writer wdt:P106 wd:Q36180 ;\n",
    "            wdt:P27  wd:Q38    .\n",
    "\n",
    "    # This returns the labels\n",
    "    ?book    <http://schema.org/name> ?bookName    .\n",
    "    ?writer  <http://schema.org/name> ?writerName  .\n",
    "}\n",
    "\"\"\"\n",
    "\n",
    "print(\"Results\")\n",
    "run_query(queryString)\n"
   ]
  },
  {
   "cell_type": "markdown",
   "id": "6b9b1c98-fad0-49ed-aad3-fb377d492c3a",
   "metadata": {},
   "source": [
    "I found zero books written by Italian authors with a ***public license (wd:Q7257461)*** copyright form. Maybe, Italian authors do not use ***public license (wd:Q7257461)*** copyright licenses.\n",
    "\n",
    "I try to discover which copyright licenses are used by Italian authors using the property ***copyright license (wdt:P275)***."
   ]
  },
  {
   "cell_type": "code",
   "execution_count": 19,
   "id": "d01473ca-7fc9-4e4c-a4cd-c0dd5d96770b",
   "metadata": {},
   "outputs": [
    {
     "name": "stdout",
     "output_type": "stream",
     "text": [
      "Results\n",
      "Empty\n"
     ]
    },
    {
     "data": {
      "text/plain": [
       "0"
      ]
     },
     "execution_count": 19,
     "metadata": {},
     "output_type": "execute_result"
    }
   ],
   "source": [
    "queryString = \"\"\"\n",
    "SELECT DISTINCT ?license ?licenseName WHERE {\n",
    "    \n",
    "    # Retrieve instances of book,their authors and their copyright licenses\n",
    "    ?book (wdt:P31 / wdt:P279*) wd:Q571  ;\n",
    "           wdt:P50              ?writer  ;\n",
    "           wdt:P275             ?license .\n",
    "    \n",
    "    # Retrieve Italian writers\n",
    "    ?writer wdt:P106 wd:Q36180 ;\n",
    "            wdt:P27  wd:Q38    .\n",
    "\n",
    "    # This returns the labels\n",
    "    ?book    <http://schema.org/name> ?bookName    .\n",
    "    ?writer  <http://schema.org/name> ?writerName  .\n",
    "    ?license <http://schema.org/name> ?licenseName .\n",
    "    \n",
    "   \n",
    "}\n",
    "\"\"\"\n",
    "\n",
    "print(\"Results\")\n",
    "run_query(queryString)"
   ]
  },
  {
   "cell_type": "markdown",
   "id": "e6fa7b18-2bb2-4144-b3f4-dbc46cb3930c",
   "metadata": {},
   "source": [
    "Again zero results. I try to use an ***OPTIONAL*** to check if there is any problem with the first part of the query."
   ]
  },
  {
   "cell_type": "code",
   "execution_count": 20,
   "id": "79d7470d-90e9-454e-9f7e-f3a1b7187aa9",
   "metadata": {},
   "outputs": [
    {
     "name": "stdout",
     "output_type": "stream",
     "text": [
      "Results\n",
      "[('book', 'http://www.wikidata.org/entity/Q59920205'), ('bookName', 'Wojtyla segreto'), ('writerName', 'Giacomo Galeazzi')]\n",
      "[('book', 'http://www.wikidata.org/entity/Q15810418'), ('bookName', 'Frederick'), ('writerName', 'Leo Lionni')]\n",
      "[('book', 'http://www.wikidata.org/entity/Q3938022'), ('bookName', 'Revolt Against the Modern World'), ('writerName', 'Julius Evola')]\n",
      "[('book', 'http://www.wikidata.org/entity/Q4015950'), ('bookName', 'Voices'), ('writerName', 'Dacia Maraini')]\n",
      "[('book', 'http://www.wikidata.org/entity/Q22263556'), ('bookName', 'Terre selvagge'), ('writerName', 'Sebastiano Vassalli')]\n",
      "[('book', 'http://www.wikidata.org/entity/Q3874134'), ('bookName', 'Necropolis'), ('writerName', 'Boris Pahor')]\n",
      "[('book', 'http://www.wikidata.org/entity/Q3878628'), ('bookName', 'Nostra Signora dei Turchi'), ('writerName', 'Carmelo Bene')]\n",
      "[('book', 'http://www.wikidata.org/entity/Q3824656'), ('bookName', 'The Cave of the Winds'), ('writerName', 'Ben Pastor')]\n",
      "[('book', 'http://www.wikidata.org/entity/Q3792954'), ('bookName', 'Master of One Hundred Bones'), ('writerName', 'Ben Pastor')]\n",
      "[('book', 'http://www.wikidata.org/entity/Q3828445'), ('bookName', 'The Stone Virgins'), ('writerName', 'Ben Pastor')]\n",
      "[('book', 'http://www.wikidata.org/entity/Q3821547'), ('bookName', 'The Wind Rose Room'), ('writerName', 'Ben Pastor')]\n",
      "[('book', 'http://www.wikidata.org/entity/Q3840634'), ('bookName', 'Liar Moon'), ('writerName', 'Ben Pastor')]\n",
      "[('book', 'http://www.wikidata.org/entity/Q3791041'), ('bookName', 'Brink Tales'), ('writerName', 'Ben Pastor')]\n",
      "[('book', 'http://www.wikidata.org/entity/Q21189997'), ('bookName', 'Spring Cleaning'), ('writerName', 'Antonio Manzini')]\n",
      "[('book', 'http://www.wikidata.org/entity/Q19060498'), ('bookName', 'Out of Season'), ('writerName', 'Antonio Manzini')]\n",
      "[('book', 'http://www.wikidata.org/entity/Q16590849'), ('bookName', 'Black Run'), ('writerName', 'Antonio Manzini')]\n",
      "[('book', 'http://www.wikidata.org/entity/Q19060538'), ('bookName', 'The Hunter of the Dark'), ('writerName', 'Donato Carrisi')]\n",
      "[('book', 'http://www.wikidata.org/entity/Q51208539'), ('bookName', 'A Secret Symmetry: Sabina Spielrein Between Jung and Freud'), ('writerName', 'Aldo Carotenuto')]\n",
      "[('book', 'http://www.wikidata.org/entity/Q30888540'), ('bookName', 'Cold Summer'), ('writerName', 'Gianrico Carofiglio')]\n",
      "[('book', 'http://www.wikidata.org/entity/Q3985235'), ('bookName', 'Involuntary Witness'), ('writerName', 'Gianrico Carofiglio')]\n"
     ]
    },
    {
     "data": {
      "text/plain": [
       "20"
      ]
     },
     "execution_count": 20,
     "metadata": {},
     "output_type": "execute_result"
    }
   ],
   "source": [
    "queryString = \"\"\"\n",
    "SELECT ?book ?bookName ?writerName ?copyright ?copyrightName WHERE {\n",
    "   \n",
    "    # Retrieve instances of book and their authors\n",
    "    ?book (wdt:P31 / wdt:P279*) wd:Q571  ;\n",
    "           wdt:P50              ?writer  .\n",
    "    \n",
    "    # Retrieve Italian writers\n",
    "    ?writer wdt:P106 wd:Q36180 ;\n",
    "            wdt:P27  wd:Q38    .\n",
    "\n",
    "    # This returns the labels\n",
    "    ?book    <http://schema.org/name> ?bookName    .\n",
    "    ?writer  <http://schema.org/name> ?writerName  .\n",
    "    \n",
    "    # Optional: book with a copyright license property\n",
    "    OPTIONAL{\n",
    "    ?book    wdt:P275                 ?license     .\n",
    "    ?license <http://schema.org/name> ?licenseName .\n",
    "    }       \n",
    "}\n",
    "LIMIT 20\n",
    "\"\"\"\n",
    "\n",
    "print(\"Results\")\n",
    "run_query(queryString)"
   ]
  },
  {
   "cell_type": "markdown",
   "id": "0767ca32-fb0b-4e32-9adf-ab6afa29eb29",
   "metadata": {},
   "source": [
    "Istances of ***book (wd:Q571)*** written by Italian authors are correctly retrieved. Maybe the property Italian books do not use the property ***copyright license (wdt:P275)***\n",
    "\n",
    "I want to check this using an ***ASK** query."
   ]
  },
  {
   "cell_type": "code",
   "execution_count": 21,
   "id": "4a64b921-961d-427d-8d6f-67f97641b033",
   "metadata": {},
   "outputs": [
    {
     "name": "stdout",
     "output_type": "stream",
     "text": [
      "Results\n"
     ]
    },
    {
     "data": {
      "text/plain": [
       "{'head': {'link': []}, 'boolean': False}"
      ]
     },
     "execution_count": 21,
     "metadata": {},
     "output_type": "execute_result"
    }
   ],
   "source": [
    "queryString = \"\"\"ASK {\n",
    "\n",
    "    # Retrieve instances of book,their authors and their copyright licenses\n",
    "    ?book (wdt:P31 / wdt:P279*) wd:Q571  ;\n",
    "           wdt:P50              ?writer  ;\n",
    "           wdt:P275             ?license .\n",
    "    \n",
    "    # Retrieve Italian writers\n",
    "    ?writer wdt:P106 wd:Q36180 ;\n",
    "            wdt:P27  wd:Q38    .\n",
    "}\n",
    "\"\"\"\n",
    "\n",
    "print(\"Results\")\n",
    "run_ask_query(queryString)"
   ]
  },
  {
   "cell_type": "markdown",
   "id": "93a50835-afdf-45de-8221-4a961bc59960",
   "metadata": {},
   "source": [
    "Istances of ***book (wd:Q571)*** written by Italian authors  do not use the property ***copyright license (wdt:P275)***. \n",
    "\n",
    "I try to remove the constraint about the nationality. I search for books that are now released with a \"public domain\" copyright form."
   ]
  },
  {
   "cell_type": "code",
   "execution_count": 22,
   "id": "490da4d6-8a4f-414e-832e-27c1dc22ef70",
   "metadata": {},
   "outputs": [
    {
     "name": "stdout",
     "output_type": "stream",
     "text": [
      "Results\n",
      "[('bookName', 'The Cathedral and the Bazaar'), ('writerName', 'Eric S. Raymond')]\n",
      "[('bookName', 'Open Library. Guidelines for libraries on the use of open licenses and open access publishing'), ('writerName', 'Anatoly Tsapenko\\u200e')]\n",
      "[('bookName', 'Wikipedia. Introductory course'), ('writerName', 'Reda Kerbush')]\n",
      "[('bookName', 'The Social Structure of the First Crusade'), ('writerName', 'Conor Kostick')]\n",
      "[('bookName', 'Swarmwise'), ('writerName', 'Rickard Falkvinge')]\n",
      "[('bookName', '\"Roads and Bridges, The Unseen Labor behind Our Digital Structure\"'), ('writerName', 'Nadia Eghbal')]\n"
     ]
    },
    {
     "data": {
      "text/plain": [
       "6"
      ]
     },
     "execution_count": 22,
     "metadata": {},
     "output_type": "execute_result"
    }
   ],
   "source": [
    "queryString = \"\"\"\n",
    "SELECT DISTINCT ?bookName ?writerName WHERE {\n",
    "    \n",
    "    # Retrieve instances of book,their authors and their copyright licenses\n",
    "    ?book (wdt:P31 / wdt:P279*) wd:Q571  ;\n",
    "           wdt:P50              ?writer  ;\n",
    "           wdt:P275             ?license .\n",
    "    \n",
    "    # I want only Public Licenses\n",
    "    ?license wdt:P31/wdt:P279* wd:Q7257461 .\n",
    "    \n",
    "    # Retrieve writers\n",
    "    ?writer wdt:P106 wd:Q36180 .\n",
    "\n",
    "    # This returns the labels\n",
    "    ?book    <http://schema.org/name> ?bookName    .\n",
    "    ?writer  <http://schema.org/name> ?writerName  .\n",
    "}\n",
    "\"\"\"\n",
    "\n",
    "print(\"Results\")\n",
    "run_query(queryString)\n"
   ]
  },
  {
   "cell_type": "markdown",
   "id": "2688d84b-89c3-4437-90a9-9700fad965a2",
   "metadata": {},
   "source": [
    "#### END TASK 3:\n",
    "I was able to find some books released with a \"Public Domain\" copyright form. \n",
    "\n",
    "Hence, the query was correct but on Wikidata books written by Italian authors do not have the property ***copyright license (wdt:P275)***."
   ]
  },
  {
   "cell_type": "markdown",
   "id": "ea7eeb44-c3d3-4d1f-afd5-0599c5bcfe67",
   "metadata": {},
   "source": [
    "### ***Task 4 :*** How many Literature Nobel awards won authors from Italy and from the Kingdom of Italy?\n",
    "\n",
    "First, I have to understand how nobel prizes are managed.\n",
    "\n",
    "Search for all the properties that connect a writer to the ***Literature Nobel Prize (wd:Q37922)***."
   ]
  },
  {
   "cell_type": "code",
   "execution_count": 23,
   "id": "5c7d6255-3c8f-4f8a-a7e5-e219e98147ff",
   "metadata": {},
   "outputs": [
    {
     "name": "stdout",
     "output_type": "stream",
     "text": [
      "Results\n",
      "[('p', 'http://www.wikidata.org/prop/direct/P1411'), ('pName', 'nominated for')]\n",
      "[('p', 'http://www.wikidata.org/prop/direct/P166'), ('pName', 'award received')]\n",
      "[('p', 'http://www.wikidata.org/prop/direct/P793'), ('pName', 'significant event')]\n"
     ]
    },
    {
     "data": {
      "text/plain": [
       "3"
      ]
     },
     "execution_count": 23,
     "metadata": {},
     "output_type": "execute_result"
    }
   ],
   "source": [
    "queryString = \"\"\"\n",
    "SELECT DISTINCT ?p ?pName WHERE {\n",
    "\n",
    "    # Retrieve writers and try to connect them to Literature Nobel Prize\n",
    "    ?writer wdt:P106 wd:Q36180 ;\n",
    "            ?p       wd:Q37922 .\n",
    "\n",
    "    # This returns the labels\n",
    "    ?p <http://schema.org/name> ?pName.\n",
    "    \n",
    "}\n",
    "\"\"\"\n",
    "\n",
    "print(\"Results\")\n",
    "run_query(queryString)"
   ]
  },
  {
   "cell_type": "markdown",
   "id": "dd5d6599-8291-4d04-b5b9-9d63582d19d8",
   "metadata": {},
   "source": [
    "I show some examples of authors that won ***Literature Nobel Prize (wd:Q37922)*** using the property ***award received (wdt:P166)***.  "
   ]
  },
  {
   "cell_type": "code",
   "execution_count": 24,
   "id": "d3896172-ddb4-4adf-9f56-770fe2e9d3f6",
   "metadata": {},
   "outputs": [
    {
     "name": "stdout",
     "output_type": "stream",
     "text": [
      "Results\n",
      "[('writer', 'http://www.wikidata.org/entity/Q159552'), ('writerName', 'Johannes V. Jensen')]\n",
      "[('writer', 'http://www.wikidata.org/entity/Q254032'), ('writerName', 'Olga Tokarczuk')]\n",
      "[('writer', 'http://www.wikidata.org/entity/Q34743'), ('writerName', 'Rudyard Kipling')]\n",
      "[('writer', 'http://www.wikidata.org/entity/Q5878'), ('writerName', 'Gabriel García Márquez')]\n",
      "[('writer', 'http://www.wikidata.org/entity/Q41042'), ('writerName', 'Harold Pinter')]\n",
      "[('writer', 'http://www.wikidata.org/entity/Q57074'), ('writerName', 'Nelly Sachs')]\n",
      "[('writer', 'http://www.wikidata.org/entity/Q42122'), ('writerName', 'Tomas Tranströmer')]\n",
      "[('writer', 'http://www.wikidata.org/entity/Q80900'), ('writerName', 'Pearl S. Buck')]\n",
      "[('writer', 'http://www.wikidata.org/entity/Q33760'), ('writerName', 'Bertrand Russell')]\n",
      "[('writer', 'http://www.wikidata.org/entity/Q7241'), ('writerName', 'Rabindranath Tagore')]\n",
      "[('writer', 'http://www.wikidata.org/entity/Q83184'), ('writerName', 'Jacinto Benavente')]\n",
      "[('writer', 'http://www.wikidata.org/entity/Q93137'), ('writerName', 'Pär Lagerkvist')]\n",
      "[('writer', 'http://www.wikidata.org/entity/Q132723'), ('writerName', 'Frans Eemil Sillanpää')]\n",
      "[('writer', 'http://www.wikidata.org/entity/Q134641'), ('writerName', 'Erik Axel Karlfeldt')]\n",
      "[('writer', 'http://www.wikidata.org/entity/Q93157'), ('writerName', \"Eugene O'Neill\")]\n",
      "[('writer', 'http://www.wikidata.org/entity/Q34670'), ('writerName', 'Antonio carglass')]\n",
      "[('writer', 'http://www.wikidata.org/entity/Q40213'), ('writerName', 'William Butler Yeats')]\n",
      "[('writer', 'http://www.wikidata.org/entity/Q44519'), ('writerName', 'Selma Lagerlöf')]\n",
      "[('writer', 'http://www.wikidata.org/entity/Q45970'), ('writerName', 'Czesław Miłosz')]\n",
      "[('writer', 'http://www.wikidata.org/entity/Q392'), ('writerName', 'Bob Dylan')]\n",
      "[('writer', 'http://www.wikidata.org/entity/Q44593'), ('writerName', 'V. S. Naipaul')]\n",
      "[('writer', 'http://www.wikidata.org/entity/Q241248'), ('writerName', 'Orhan Pamuk')]\n",
      "[('writer', 'http://www.wikidata.org/entity/Q49747'), ('writerName', 'Maurice Maeterlinck')]\n",
      "[('writer', 'http://www.wikidata.org/entity/Q39212'), ('writerName', 'John Steinbeck')]\n",
      "[('writer', 'http://www.wikidata.org/entity/Q42398'), ('writerName', 'Mikhail Sholokhov')]\n",
      "[('writer', 'http://www.wikidata.org/entity/Q40826'), ('writerName', 'Knut Hamsun')]\n",
      "[('writer', 'http://www.wikidata.org/entity/Q129155'), ('writerName', 'Roger Martin du Gard')]\n",
      "[('writer', 'http://www.wikidata.org/entity/Q222944'), ('writerName', 'Patrick Modiano')]\n",
      "[('writer', 'http://www.wikidata.org/entity/Q7176'), ('writerName', 'Najib Mahfouz')]\n",
      "[('writer', 'http://www.wikidata.org/entity/Q121180'), ('writerName', 'Władysław Reymont')]\n"
     ]
    },
    {
     "data": {
      "text/plain": [
       "30"
      ]
     },
     "execution_count": 24,
     "metadata": {},
     "output_type": "execute_result"
    }
   ],
   "source": [
    "queryString = \"\"\"\n",
    "SELECT DISTINCT ?writer ?writerName WHERE {\n",
    "\n",
    "    # Retrieve writers and who won Literature Nobel Prize\n",
    "    ?writer wdt:P106 wd:Q36180 ;\n",
    "            wdt:P166 wd:Q37922 .\n",
    "\n",
    "    # this returns the labels\n",
    "    ?writer <http://schema.org/name> ?writerName.\n",
    "    \n",
    "}\n",
    "LIMIT 30\n",
    "\"\"\"\n",
    "\n",
    "print(\"Results\")\n",
    "run_query(queryString)"
   ]
  },
  {
   "cell_type": "markdown",
   "id": "6bc39a55-1e4d-41d6-aa25-0c866aa3452b",
   "metadata": {},
   "source": [
    "Search Italian authors who won ***Literature Nobel Prize (wd:Q37922)***."
   ]
  },
  {
   "cell_type": "code",
   "execution_count": 25,
   "id": "651c92fb-927c-4366-9b11-1da58616e127",
   "metadata": {},
   "outputs": [
    {
     "name": "stdout",
     "output_type": "stream",
     "text": [
      "Results\n",
      "[('writer', 'http://www.wikidata.org/entity/Q765'), ('writerName', 'Dario Fo')]\n",
      "[('writer', 'http://www.wikidata.org/entity/Q83038'), ('writerName', 'Salvatore Quasimodo')]\n"
     ]
    },
    {
     "data": {
      "text/plain": [
       "2"
      ]
     },
     "execution_count": 25,
     "metadata": {},
     "output_type": "execute_result"
    }
   ],
   "source": [
    "queryString = \"\"\"\n",
    "SELECT DISTINCT ?writer ?writerName WHERE {\n",
    "      \n",
    "    # Retrieve writers from italy who won Literature Nobel Prize\n",
    "    ?writer wdt:P106 wd:Q36180 ;\n",
    "            wdt:P166 wd:Q37922 ;\n",
    "            wdt:P27  wd:Q38    .\n",
    "\n",
    "    # This returns the labels\n",
    "    ?writer <http://schema.org/name> ?writerName .\n",
    "      \n",
    "}\n",
    "\"\"\"\n",
    "\n",
    "print(\"Results\")\n",
    "run_query(queryString)"
   ]
  },
  {
   "cell_type": "markdown",
   "id": "6136bc18-55cc-471d-a008-67dc98482c0f",
   "metadata": {},
   "source": [
    "How many Literature Nobel awards won authors from ***Italy (wd:Q38)*** and from the ***Kingdom of Italy (wd:Q172579)*** ?"
   ]
  },
  {
   "cell_type": "code",
   "execution_count": 26,
   "id": "3eecdfc2-982e-4df0-951c-d8c50eefb761",
   "metadata": {},
   "outputs": [
    {
     "name": "stdout",
     "output_type": "stream",
     "text": [
      "Results\n",
      "[('numAwardedWriters', '5'), ('winners', 'Dario Fo, Giosuè Carducci, Grazia Deledda, Luigi Pirandello, Salvatore Quasimodo')]\n"
     ]
    },
    {
     "data": {
      "text/plain": [
       "1"
      ]
     },
     "execution_count": 26,
     "metadata": {},
     "output_type": "execute_result"
    }
   ],
   "source": [
    "queryString = \"\"\"\n",
    "SELECT (COUNT(DISTINCT ?writer) AS ?numAwardedWriters) (GROUP_CONCAT(DISTINCT ?writerName; separator=\", \") AS ?winners) WHERE {\n",
    "\n",
    "    # writers who won a Literature Nobel Prize and their nationality\n",
    "    ?writer wdt:P106 wd:Q36180 ;\n",
    "            wdt:P166 wd:Q37922 ;\n",
    "            wdt:P27  ?country  .\n",
    "\n",
    "    # This returns the labels\n",
    "    ?writer <http://schema.org/name> ?writerName .\n",
    "\n",
    "    # I want only authors from Italy and Kingdom Of Italy\n",
    "    FILTER (?country = wd:Q38 || ?country = wd:Q172579)      \n",
    "}\n",
    "\"\"\"\n",
    "\n",
    "print(\"Results\")\n",
    "run_query(queryString)"
   ]
  },
  {
   "cell_type": "code",
   "execution_count": 27,
   "id": "05eae49b-0f43-4223-bd03-1c9dfd18633e",
   "metadata": {},
   "outputs": [
    {
     "name": "stdout",
     "output_type": "stream",
     "text": [
      "Results\n",
      "[('writer', 'http://www.wikidata.org/entity/Q7728'), ('writerName', 'Grazia Deledda'), ('countryName', 'Kingdom of Italy')]\n",
      "[('writer', 'http://www.wikidata.org/entity/Q43440'), ('writerName', 'Giosuè Carducci'), ('countryName', 'Kingdom of Italy')]\n",
      "[('writer', 'http://www.wikidata.org/entity/Q1403'), ('writerName', 'Luigi Pirandello'), ('countryName', 'Kingdom of Italy')]\n",
      "[('writer', 'http://www.wikidata.org/entity/Q765'), ('writerName', 'Dario Fo'), ('countryName', 'Italy')]\n",
      "[('writer', 'http://www.wikidata.org/entity/Q83038'), ('writerName', 'Salvatore Quasimodo'), ('countryName', 'Kingdom of Italy')]\n",
      "[('writer', 'http://www.wikidata.org/entity/Q83038'), ('writerName', 'Salvatore Quasimodo'), ('countryName', 'Italy')]\n"
     ]
    },
    {
     "data": {
      "text/plain": [
       "6"
      ]
     },
     "execution_count": 27,
     "metadata": {},
     "output_type": "execute_result"
    }
   ],
   "source": [
    "queryString = \"\"\"\n",
    "SELECT DISTINCT ?writer ?writerName ?countryName WHERE {\n",
    "\n",
    "    # writers who won a Literature Nobel Prize and their nationality\n",
    "    ?writer wdt:P106 wd:Q36180 ;\n",
    "            wdt:P166 wd:Q37922 ;\n",
    "            wdt:P27  ?country  .\n",
    "\n",
    "    # This returns the labels\n",
    "    ?writer  <http://schema.org/name> ?writerName .\n",
    "    ?country <http://schema.org/name> ?countryName .\n",
    "\n",
    "    # I want only authors from Italy and Kingdom Of Italy\n",
    "    FILTER (?country = wd:Q38 || ?country = wd:Q172579)   \n",
    "}\n",
    "\"\"\"\n",
    "\n",
    "print(\"Results\")\n",
    "run_query(queryString)"
   ]
  },
  {
   "cell_type": "markdown",
   "id": "fd104ee3-f773-47de-b139-3078beeb4cb9",
   "metadata": {},
   "source": [
    "***Salvatore Quasimodo (wd:Q83038)*** is showed two times, because he lived during the transition from ***Kingdom of Italy(wd:Q172579)*** to ***Italy (wd:Q38)***."
   ]
  },
  {
   "cell_type": "markdown",
   "id": "ebed03fe-2037-4225-975b-6f3d83b36b3c",
   "metadata": {},
   "source": [
    "#### END TASK 4:\n",
    "I was able to answer to the inital question.\n",
    "\n",
    "In particular, I have a total of 5 distinct authors from ***Italy (wd:Q38)*** and from the ***Kingdom of Italy(wd:Q172579)*** who won a ***Literature Nobel Prize (wd:Q37922)***."
   ]
  },
  {
   "cell_type": "markdown",
   "id": "c5744597-d1e9-42ec-9c3f-91cf98e5d144",
   "metadata": {},
   "source": [
    "### ***Task 5:***  Are there books from Litarature Nobel Award winners which are not present in the Vatican Library? (if so, who is the author with more books not in the Vatican Library)?\n",
    "\n",
    "Search books from authors that won ***Literature Nobel Prize (wd:Q37922)*** which are not present in the ***Vatican Library (wd:Q213678)***.\n",
    "\n",
    "I can use the proerty ***location (wdt:P276)*** discovered in Task 1."
   ]
  },
  {
   "cell_type": "code",
   "execution_count": 28,
   "id": "b967948d-c56d-41a2-8832-e1dbf35a7a17",
   "metadata": {},
   "outputs": [
    {
     "name": "stdout",
     "output_type": "stream",
     "text": [
      "Results\n",
      "[('book', 'http://www.wikidata.org/entity/Q935935'), ('bookName', 'Chronicle of a Death Foretold'), ('writer', 'http://www.wikidata.org/entity/Q5878'), ('writerName', 'Gabriel García Márquez')]\n",
      "[('book', 'http://www.wikidata.org/entity/Q75700865'), ('bookName', 'The Lost Soul'), ('writer', 'http://www.wikidata.org/entity/Q254032'), ('writerName', 'Olga Tokarczuk')]\n",
      "[('book', 'http://www.wikidata.org/entity/Q100552037'), ('bookName', 'Fra Fristaterne'), ('writer', 'http://www.wikidata.org/entity/Q159552'), ('writerName', 'Johannes V. Jensen')]\n",
      "[('book', 'http://www.wikidata.org/entity/Q77012907'), ('bookName', 'Sto roků samoty'), ('writer', 'http://www.wikidata.org/entity/Q5878'), ('writerName', 'Gabriel García Márquez')]\n",
      "[('book', 'http://www.wikidata.org/entity/Q48841223'), ('bookName', 'E.E.'), ('writer', 'http://www.wikidata.org/entity/Q254032'), ('writerName', 'Olga Tokarczuk')]\n",
      "[('book', 'http://www.wikidata.org/entity/Q62092410'), ('bookName', 'Principia Mathematica II'), ('writer', 'http://www.wikidata.org/entity/Q33760'), ('writerName', 'Bertrand Russell')]\n",
      "[('book', 'http://www.wikidata.org/entity/Q21076759'), ('bookName', 'The Books of Jacob'), ('writer', 'http://www.wikidata.org/entity/Q254032'), ('writerName', 'Olga Tokarczuk')]\n",
      "[('book', 'http://www.wikidata.org/entity/Q62092387'), ('bookName', 'Principia Mathematica I'), ('writer', 'http://www.wikidata.org/entity/Q33760'), ('writerName', 'Bertrand Russell')]\n",
      "[('book', 'http://www.wikidata.org/entity/Q30905554'), ('bookName', 'Anna in the Tombs of the World'), ('writer', 'http://www.wikidata.org/entity/Q254032'), ('writerName', 'Olga Tokarczuk')]\n",
      "[('book', 'http://www.wikidata.org/entity/Q1193847'), ('bookName', 'The General in His Labyrinth'), ('writer', 'http://www.wikidata.org/entity/Q5878'), ('writerName', 'Gabriel García Márquez')]\n",
      "[('book', 'http://www.wikidata.org/entity/Q9171173'), ('bookName', 'Flights'), ('writer', 'http://www.wikidata.org/entity/Q254032'), ('writerName', 'Olga Tokarczuk')]\n",
      "[('book', 'http://www.wikidata.org/entity/Q98668943'), ('bookName', 'The New Year'), ('writer', 'http://www.wikidata.org/entity/Q80900'), ('writerName', 'Pearl S. Buck')]\n",
      "[('book', 'http://www.wikidata.org/entity/Q106449855'), ('bookName', 'The Five Nations'), ('writer', 'http://www.wikidata.org/entity/Q34743'), ('writerName', 'Rudyard Kipling')]\n",
      "[('book', 'http://www.wikidata.org/entity/Q19096746'), ('bookName', 'Responsibilities'), ('writer', 'http://www.wikidata.org/entity/Q40213'), ('writerName', 'William Butler Yeats')]\n",
      "[('book', 'http://www.wikidata.org/entity/Q386305'), ('bookName', 'The First Man'), ('writer', 'http://www.wikidata.org/entity/Q34670'), ('writerName', 'Antonio carglass')]\n",
      "[('book', 'http://www.wikidata.org/entity/Q102045783'), ('bookName', \"L'Étranger\"), ('writer', 'http://www.wikidata.org/entity/Q34670'), ('writerName', 'Antonio carglass')]\n",
      "[('book', 'http://www.wikidata.org/entity/Q101515663'), ('bookName', \"L'homme révolté\"), ('writer', 'http://www.wikidata.org/entity/Q34670'), ('writerName', 'Antonio carglass')]\n",
      "[('book', 'http://www.wikidata.org/entity/Q107654142'), ('bookName', 'The Lover of God'), ('writer', 'http://www.wikidata.org/entity/Q7241'), ('writerName', 'Rabindranath Tagore')]\n",
      "[('book', 'http://www.wikidata.org/entity/Q102064369'), ('bookName', 'La Peste'), ('writer', 'http://www.wikidata.org/entity/Q34670'), ('writerName', 'Antonio carglass')]\n",
      "[('book', 'http://www.wikidata.org/entity/Q899334'), ('bookName', 'The Tin Drum'), ('writer', 'http://www.wikidata.org/entity/Q6538'), ('writerName', 'Günter Grass')]\n",
      "[('book', 'http://www.wikidata.org/entity/Q538390'), ('bookName', 'To Have and Have Not'), ('writer', 'http://www.wikidata.org/entity/Q23434'), ('writerName', 'Ernest Hemingway')]\n",
      "[('book', 'http://www.wikidata.org/entity/Q836841'), ('bookName', 'The Glass Bead Game'), ('writer', 'http://www.wikidata.org/entity/Q25973'), ('writerName', 'Hermann Hesse')]\n",
      "[('book', 'http://www.wikidata.org/entity/Q860577'), ('bookName', 'Demian'), ('writer', 'http://www.wikidata.org/entity/Q25973'), ('writerName', 'Hermann Hesse')]\n",
      "[('book', 'http://www.wikidata.org/entity/Q4783380'), ('bookName', 'Arabian Nights and Days'), ('writer', 'http://www.wikidata.org/entity/Q7176'), ('writerName', 'Najib Mahfouz')]\n",
      "[('book', 'http://www.wikidata.org/entity/Q2783135'), ('bookName', 'Dodsworth'), ('writer', 'http://www.wikidata.org/entity/Q123469'), ('writerName', 'Sinclair Lewis')]\n",
      "[('book', 'http://www.wikidata.org/entity/Q3452094'), ('bookName', 'Missing Person'), ('writer', 'http://www.wikidata.org/entity/Q222944'), ('writerName', 'Patrick Modiano')]\n",
      "[('book', 'http://www.wikidata.org/entity/Q102014692'), ('bookName', 'La fin de la nuit'), ('writer', 'http://www.wikidata.org/entity/Q81685'), ('writerName', 'François Mauriac')]\n",
      "[('book', 'http://www.wikidata.org/entity/Q102040963'), ('bookName', 'Joyzelle: pièce en cinq actes'), ('writer', 'http://www.wikidata.org/entity/Q49747'), ('writerName', 'Maurice Maeterlinck')]\n",
      "[('book', 'http://www.wikidata.org/entity/Q102248191'), ('bookName', 'Morbacka: souvenirs'), ('writer', 'http://www.wikidata.org/entity/Q44519'), ('writerName', 'Selma Lagerlöf')]\n",
      "[('book', 'http://www.wikidata.org/entity/Q101437270'), ('bookName', 'Les dieux ont soif'), ('writer', 'http://www.wikidata.org/entity/Q42443'), ('writerName', 'Anatole France')]\n",
      "[('book', 'http://www.wikidata.org/entity/Q102105657'), ('bookName', 'Province'), ('writer', 'http://www.wikidata.org/entity/Q81685'), ('writerName', 'François Mauriac')]\n",
      "[('book', 'http://www.wikidata.org/entity/Q102132052'), ('bookName', 'Monsieur Bergeret a Paris'), ('writer', 'http://www.wikidata.org/entity/Q42443'), ('writerName', 'Anatole France')]\n",
      "[('book', 'http://www.wikidata.org/entity/Q42186603'), ('bookName', 'To Let'), ('writer', 'http://www.wikidata.org/entity/Q82248'), ('writerName', 'John Galsworthy')]\n",
      "[('book', 'http://www.wikidata.org/entity/Q3204276'), ('bookName', 'Intruder in the Dust'), ('writer', 'http://www.wikidata.org/entity/Q38392'), ('writerName', 'William Faulkner')]\n",
      "[('book', 'http://www.wikidata.org/entity/Q763199'), ('bookName', 'The Time of the Hero'), ('writer', 'http://www.wikidata.org/entity/Q39803'), ('writerName', 'Mario Vargas Llosa')]\n",
      "[('book', 'http://www.wikidata.org/entity/Q264451'), ('bookName', 'The Unnamable'), ('writer', 'http://www.wikidata.org/entity/Q37327'), ('writerName', 'Samuel Beckett')]\n",
      "[('book', 'http://www.wikidata.org/entity/Q3139595'), ('bookName', 'Men of Maize'), ('writer', 'http://www.wikidata.org/entity/Q75603'), ('writerName', 'Miguel Ángel Asturias Rosales')]\n",
      "[('book', 'http://www.wikidata.org/entity/Q1062365'), ('bookName', 'Hunger'), ('writer', 'http://www.wikidata.org/entity/Q40826'), ('writerName', 'Knut Hamsun')]\n",
      "[('book', 'http://www.wikidata.org/entity/Q4690699'), ('bookName', 'After the divorce'), ('writer', 'http://www.wikidata.org/entity/Q7728'), ('writerName', 'Grazia Deledda')]\n",
      "[('book', 'http://www.wikidata.org/entity/Q101528691'), ('bookName', \"L'île des pingouins\"), ('writer', 'http://www.wikidata.org/entity/Q42443'), ('writerName', 'Anatole France')]\n",
      "[('book', 'http://www.wikidata.org/entity/Q101541566'), ('bookName', 'En attendant Godot'), ('writer', 'http://www.wikidata.org/entity/Q37327'), ('writerName', 'Samuel Beckett')]\n",
      "[('book', 'http://www.wikidata.org/entity/Q25474980'), ('bookName', 'The Red-Haired Woman'), ('writer', 'http://www.wikidata.org/entity/Q241248'), ('writerName', 'Orhan Pamuk')]\n",
      "[('book', 'http://www.wikidata.org/entity/Q102044987'), ('bookName', 'Le Fleuve de feu'), ('writer', 'http://www.wikidata.org/entity/Q81685'), ('writerName', 'François Mauriac')]\n",
      "[('book', 'http://www.wikidata.org/entity/Q102064178'), ('bookName', 'Jérusalem en terre sainte'), ('writer', 'http://www.wikidata.org/entity/Q44519'), ('writerName', 'Selma Lagerlöf')]\n",
      "[('book', 'http://www.wikidata.org/entity/Q102250874'), ('bookName', 'Si le grain ne meurt'), ('writer', 'http://www.wikidata.org/entity/Q47484'), ('writerName', 'André Gide')]\n",
      "[('book', 'http://www.wikidata.org/entity/Q102272461'), ('bookName', 'Thérese Desqueyroux'), ('writer', 'http://www.wikidata.org/entity/Q81685'), ('writerName', 'François Mauriac')]\n",
      "[('book', 'http://www.wikidata.org/entity/Q4367932'), ('bookName', 'The New Land'), ('writer', 'http://www.wikidata.org/entity/Q42398'), ('writerName', 'Mikhail Sholokhov')]\n",
      "[('book', 'http://www.wikidata.org/entity/Q1107000'), ('bookName', 'Babbitt'), ('writer', 'http://www.wikidata.org/entity/Q123469'), ('writerName', 'Sinclair Lewis')]\n",
      "[('book', 'http://www.wikidata.org/entity/Q743777'), ('bookName', 'Arrowsmith'), ('writer', 'http://www.wikidata.org/entity/Q123469'), ('writerName', 'Sinclair Lewis')]\n",
      "[('book', 'http://www.wikidata.org/entity/Q102108713'), ('bookName', 'Poesie di Giosuè Carducci : 1850-1900'), ('writer', 'http://www.wikidata.org/entity/Q43440'), ('writerName', 'Giosuè Carducci')]\n"
     ]
    },
    {
     "data": {
      "text/plain": [
       "50"
      ]
     },
     "execution_count": 28,
     "metadata": {},
     "output_type": "execute_result"
    }
   ],
   "source": [
    "queryString = \"\"\"\n",
    "SELECT DISTINCT ?book ?bookName ?writer ?writerName WHERE {\n",
    "\n",
    "    # Retrieve instances of book and their authors\n",
    "    ?book (wdt:P31 / wdt:P279*) wd:Q571 ;\n",
    "           wdt:P50              ?writer .\n",
    "    \n",
    "    # Retrieve writers who won a Nobel Prize\n",
    "    ?writer wdt:P106 wd:Q36180 ;\n",
    "            wdt:P166 wd:Q37922 .\n",
    "  \n",
    "    # this returns the labels\n",
    "    ?book   <http://schema.org/name> ?bookName   .\n",
    "    ?writer <http://schema.org/name> ?writerName .\n",
    "    \n",
    "    # The book must be not located in the Vatican Library\n",
    "    FILTER NOT EXISTS {?book wdt:P276 wd:Q213678}\n",
    "}\n",
    "LIMIT 50\n",
    "\"\"\"\n",
    "\n",
    "print(\"Results\")\n",
    "run_query(queryString)"
   ]
  },
  {
   "cell_type": "markdown",
   "id": "6a3086ee-e1c6-463a-9a4e-16d75b212f59",
   "metadata": {},
   "source": [
    "Who is the author who won ***Literature Nobel Prize (wd:Q37922)*** with more books not in the ***Vatican Library (wd:Q213678)***?"
   ]
  },
  {
   "cell_type": "code",
   "execution_count": 29,
   "id": "04c2ae55-e6c3-41ad-944e-f87d1e72e899",
   "metadata": {},
   "outputs": [
    {
     "name": "stdout",
     "output_type": "stream",
     "text": [
      "Results\n",
      "[('writer', 'http://www.wikidata.org/entity/Q81685'), ('writerName', 'François Mauriac'), ('numBooks', '15')]\n"
     ]
    },
    {
     "data": {
      "text/plain": [
       "1"
      ]
     },
     "execution_count": 29,
     "metadata": {},
     "output_type": "execute_result"
    }
   ],
   "source": [
    "queryString = \"\"\"\n",
    "SELECT ?writer ?writerName (COUNT(DISTINCT ?book) AS ?numBooks) WHERE {\n",
    "\n",
    "    # Retrieve instances of book and their authors\n",
    "    ?book (wdt:P31 / wdt:P279*) wd:Q571 ;\n",
    "           wdt:P50              ?writer .\n",
    "\n",
    "    # Retrieve writers who won a Nobel Prize\n",
    "    ?writer wdt:P106 wd:Q36180 ;\n",
    "            wdt:P166 wd:Q37922 .\n",
    "\n",
    "    # This returns the labels\n",
    "    ?book   <http://schema.org/name> ?bookName   .\n",
    "    ?writer <http://schema.org/name> ?writerName .\n",
    "\n",
    "    # The book must be not located in the Vatican Library\n",
    "    FILTER NOT EXISTS { ?book wdt:P276 wd:Q213678 }\n",
    "}\n",
    "GROUP BY ?writer ?writerName\n",
    "ORDER BY DESC(?numBooks)\n",
    "LIMIT 1\n",
    "\"\"\"\n",
    "\n",
    "print(\"Results\")\n",
    "run_query(queryString)"
   ]
  },
  {
   "cell_type": "markdown",
   "id": "0c217263-402f-4ff2-b837-e8a54303d90d",
   "metadata": {},
   "source": [
    "#### END TASK 5:\n",
    "I showed some books from winners of the ***Literature Nobel Prize (wd:Q37922)*** which are not present in the  ***Vatican Library (wd:Q213678)***?\n",
    "\n",
    "The author (winner of ***Literature Nobel Prize (wd:Q37922)***) with more books not in the Vatican Library is ***François Mauriac (wd:Q81685)***\n"
   ]
  },
  {
   "cell_type": "markdown",
   "id": "69897ef1-e414-4484-b424-f19fd0ced360",
   "metadata": {},
   "source": [
    "### Extra analytics query\n",
    "\n",
    "#### On average, how many books are written by authors of the same nationality ?"
   ]
  },
  {
   "cell_type": "code",
   "execution_count": 30,
   "id": "eaa8990d-f41b-4181-90c5-9072da1b8afc",
   "metadata": {},
   "outputs": [
    {
     "name": "stdout",
     "output_type": "stream",
     "text": [
      "Results\n",
      "[('country', 'http://www.wikidata.org/entity/Q1072949'), ('countryName', 'Western Han'), ('avgBookWritten', '88')]\n",
      "[('country', 'http://www.wikidata.org/entity/Q188712'), ('countryName', 'Empire of Japan'), ('avgBookWritten', '11')]\n",
      "[('country', 'http://www.wikidata.org/entity/Q518101'), ('countryName', 'First Republic of Austria'), ('avgBookWritten', '8.666666666666667')]\n",
      "[('country', 'http://www.wikidata.org/entity/Q503623'), ('countryName', 'Gold Coast'), ('avgBookWritten', '8.5')]\n",
      "[('country', 'http://www.wikidata.org/entity/Q31'), ('countryName', 'Belgium'), ('avgBookWritten', '6')]\n",
      "[('country', 'http://www.wikidata.org/entity/Q152750'), ('countryName', 'Protectorate of Bohemia and Moravia'), ('avgBookWritten', '6')]\n",
      "[('country', 'http://www.wikidata.org/entity/Q172579'), ('countryName', 'Kingdom of Italy'), ('avgBookWritten', '4.9125')]\n",
      "[('country', 'http://www.wikidata.org/entity/Q38'), ('countryName', 'Italy'), ('avgBookWritten', '4.642857142857143')]\n",
      "[('country', 'http://www.wikidata.org/entity/Q211'), ('countryName', 'Latvia'), ('avgBookWritten', '4.538461538461538')]\n",
      "[('country', 'http://www.wikidata.org/entity/Q23366230'), ('countryName', 'Republic of Geneva'), ('avgBookWritten', '4.333333333333333')]\n"
     ]
    },
    {
     "data": {
      "text/plain": [
       "10"
      ]
     },
     "execution_count": 30,
     "metadata": {},
     "output_type": "execute_result"
    }
   ],
   "source": [
    "queryString = \"\"\"\n",
    "SELECT ?country ?countryName AVG(?numBook) AS ?avgBookWritten WHERE{\n",
    "\n",
    "    # Retrieve the nationality of the writers\n",
    "    ?writer wdt:P27 ?country.  \n",
    "    \n",
    "    # This returns the labels\n",
    "    ?country <http://schema.org/name> ?countryName .\n",
    "\n",
    "    # Number of books written by each writer\n",
    "    {    SELECT ?writer COUNT(DISTINCT ?book) AS ?numBook WHERE {\n",
    "\n",
    "         # Retrieve instances of books and their authors\n",
    "         ?book (wdt:P31 / wdt:P279*)  wd:Q571 ;\n",
    "                wdt:P50               ?writer .\n",
    "\n",
    "         # Retrieve writers\n",
    "         ?writer wdt:P106 wd:Q36180 .\n",
    "        }\n",
    "        GROUP BY (?writer)\n",
    "     }\n",
    "}\n",
    "GROUP BY ?country ?countryName\n",
    "ORDER BY DESC(?avgBookWritten)\n",
    "LIMIT 10\n",
    "\n",
    "\n",
    "\"\"\"\n",
    "\n",
    "print(\"Results\")\n",
    "run_query(queryString)"
   ]
  },
  {
   "cell_type": "markdown",
   "id": "b88d2944-7095-47b6-b83d-b5d3d094d619",
   "metadata": {},
   "source": [
    "#### How many books have been written by Nobel Award winners?"
   ]
  },
  {
   "cell_type": "code",
   "execution_count": 31,
   "id": "4a73494c-3345-4029-89c2-b0f89cd9974d",
   "metadata": {},
   "outputs": [
    {
     "name": "stdout",
     "output_type": "stream",
     "text": [
      "Results\n",
      "[('writer', 'http://www.wikidata.org/entity/Q81685'), ('writerName', 'François Mauriac'), ('numBook', '15')]\n",
      "[('writer', 'http://www.wikidata.org/entity/Q41488'), ('writerName', 'Wole Soyinka'), ('numBook', '15')]\n",
      "[('writer', 'http://www.wikidata.org/entity/Q43736'), ('writerName', 'Yasunari Kawabata'), ('numBook', '11')]\n",
      "[('writer', 'http://www.wikidata.org/entity/Q47484'), ('writerName', 'André Gide'), ('numBook', '9')]\n",
      "[('writer', 'http://www.wikidata.org/entity/Q42443'), ('writerName', 'Anatole France'), ('numBook', '9')]\n",
      "[('writer', 'http://www.wikidata.org/entity/Q47162'), ('writerName', 'Romain Rolland'), ('numBook', '8')]\n",
      "[('writer', 'http://www.wikidata.org/entity/Q133042'), ('writerName', 'Shmuel Yosef Agnon'), ('numBook', '6')]\n",
      "[('writer', 'http://www.wikidata.org/entity/Q254032'), ('writerName', 'Olga Tokarczuk'), ('numBook', '6')]\n",
      "[('writer', 'http://www.wikidata.org/entity/Q41502'), ('writerName', 'Henryk Sienkiewicz'), ('numBook', '6')]\n",
      "[('writer', 'http://www.wikidata.org/entity/Q49747'), ('writerName', 'Maurice Maeterlinck'), ('numBook', '5')]\n"
     ]
    },
    {
     "data": {
      "text/plain": [
       "10"
      ]
     },
     "execution_count": 31,
     "metadata": {},
     "output_type": "execute_result"
    }
   ],
   "source": [
    "queryString = \"\"\"\n",
    "SELECT ?writer ?writerName COUNT(DISTINCT ?book) AS ?numBook {\n",
    "\n",
    "    # Retrieve instances of books and their authors\n",
    "    ?book (wdt:P31 / wdt:P279*)  wd:Q571 ;\n",
    "           wdt:P50               ?writer .\n",
    "\n",
    "    # Retrieve writers who won a Literature Nobel Prize\n",
    "    ?writer wdt:P106 wd:Q36180 ;\n",
    "            wdt:P166 wd:Q37922 .\n",
    "            \n",
    "    # This returns the labels\n",
    "    ?writer <http://schema.org/name> ?writerName .\n",
    "            \n",
    "}\n",
    "GROUP BY ?writer ?writerName\n",
    "ORDER BY DESC(?numBook)\n",
    "LIMIT 10\n",
    "\"\"\"\n",
    "\n",
    "print(\"Results\")\n",
    "run_query(queryString)"
   ]
  },
  {
   "cell_type": "markdown",
   "id": "db47ba8d-931a-427b-a3d3-07e54af0b450",
   "metadata": {},
   "source": [
    "#### For each country show how many writers won a Nobel Award, and the average number of books written by them."
   ]
  },
  {
   "cell_type": "code",
   "execution_count": 32,
   "id": "7a3237bc-30cc-4f83-95de-85f6d079e6c6",
   "metadata": {},
   "outputs": [
    {
     "name": "stdout",
     "output_type": "stream",
     "text": [
      "Results\n",
      "[('countryName', 'France'), ('numAwardedWriters', '16'), ('avgBookWritten', '6.25')]\n",
      "[('countryName', 'United States of America'), ('numAwardedWriters', '14'), ('avgBookWritten', '1.888888888888889')]\n",
      "[('countryName', 'United Kingdom'), ('numAwardedWriters', '10'), ('avgBookWritten', '2')]\n",
      "[('countryName', 'Sweden'), ('numAwardedWriters', '8'), ('avgBookWritten', '2')]\n",
      "[('countryName', 'Russian Empire'), ('numAwardedWriters', '7'), ('avgBookWritten', '2.333333333333333')]\n",
      "[('countryName', 'Germany'), ('numAwardedWriters', '6'), ('avgBookWritten', '1.5')]\n",
      "[('countryName', 'Spain'), ('numAwardedWriters', '6'), ('avgBookWritten', '2')]\n",
      "[('countryName', 'German Empire'), ('numAwardedWriters', '6'), ('avgBookWritten', '2.75')]\n",
      "[('countryName', 'Soviet Union'), ('numAwardedWriters', '5'), ('avgBookWritten', '1.666666666666667')]\n",
      "[('countryName', 'United Kingdom of Great Britain and Ireland'), ('numAwardedWriters', '5'), ('avgBookWritten', '1.75')]\n"
     ]
    },
    {
     "data": {
      "text/plain": [
       "10"
      ]
     },
     "execution_count": 32,
     "metadata": {},
     "output_type": "execute_result"
    }
   ],
   "source": [
    "queryString = \"\"\"\n",
    "SELECT ?countryName ?numAwardedWriters ?avgBookWritten WHERE{\n",
    "\n",
    "    # This returns the labels\n",
    "    ?country <http://schema.org/name> ?countryName .\n",
    "     \n",
    "    # Number of Nobel winners for each country\n",
    "    {   SELECT ?country (COUNT(DISTINCT ?writer) AS ?numAwardedWriters)  WHERE {\n",
    "\n",
    "        # Retrieve writers who won a Literature Nobel Prize and their nationality\n",
    "        ?writer wdt:P106 wd:Q36180 ;\n",
    "                wdt:P166 wd:Q37922 ;\n",
    "                wdt:P27  ?country .\n",
    "        }\n",
    "        GROUP BY ?country      \n",
    "    }\n",
    "\n",
    "    # Average number of books for writers who won a Literature Nobel Prize of the same nationality\n",
    "    {   SELECT ?country AVG(?numBook) AS ?avgBookWritten WHERE{\n",
    "\n",
    "            # Retrieve the nationality of the writers\n",
    "            ?writer wdt:P27 ?country. \n",
    "\n",
    "            # Number of books for each writer who won a Literature Nobel Prize\n",
    "            {   SELECT ?writer ?writerName COUNT(DISTINCT ?book) AS ?numBook {\n",
    "\n",
    "                # Retrieve instances of books and their authors\n",
    "                ?book (wdt:P31 / wdt:P279*)  wd:Q571 ;\n",
    "                       wdt:P50               ?writer .\n",
    "\n",
    "                # Retrieve writers who won a Literature Nobel Prize\n",
    "                ?writer wdt:P106 wd:Q36180 ;\n",
    "                        wdt:P166 wd:Q37922 .\n",
    "\n",
    "                # This returns the labels\n",
    "                ?writer <http://schema.org/name> ?writerName .\n",
    "            }\n",
    "            GROUP BY ?writer ?writerName\n",
    "            }\n",
    "        }\n",
    "        GROUP BY ?country\n",
    "    }   \n",
    "}\n",
    "ORDER BY DESC(?numAwardedWriters)\n",
    "LIMIT 10\n",
    "\"\"\"\n",
    "\n",
    "print(\"Results\")\n",
    "run_query(queryString)"
   ]
  },
  {
   "cell_type": "markdown",
   "id": "8f292d8e-e7c7-4bb0-82b0-6ee182fbb683",
   "metadata": {},
   "source": [
    "## END"
   ]
  }
 ],
 "metadata": {
  "kernelspec": {
   "display_name": "Python 3",
   "language": "python",
   "name": "python3"
  },
  "language_info": {
   "codemirror_mode": {
    "name": "ipython",
    "version": 3
   },
   "file_extension": ".py",
   "mimetype": "text/x-python",
   "name": "python",
   "nbconvert_exporter": "python",
   "pygments_lexer": "ipython3",
   "version": "3.7.10"
  }
 },
 "nbformat": 4,
 "nbformat_minor": 5
}
