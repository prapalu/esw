{
 "cells": [
  {
   "cell_type": "markdown",
   "id": "7034c3bf-6eb0-4418-8687-7b9d2a501103",
   "metadata": {},
   "source": [
    "# General instructions\n",
    "\n",
    "The goal of the project is to materialize a set of **exploratory workloads** over a real-world, large-scale,  open-domain KG: [WikiData](https://www.wikidata.org/wiki/Wikidata:Main_Page)\n",
    "\n",
    "An exploratory workload  is composed by a set of queries, where each query is related to the information obtained previously.\n",
    "\n",
    "An exploratory workload starts with a usually vague, open ended question, and does not assume the person issuing the workload has a clear understanding of the data contained in the target database or its structure.\n",
    "\n",
    "Remeber that:\n",
    "\n",
    "1. All the queries must run in the python notebook\n",
    "2. You can use classes and properties only if you find them via a SPARQL query that must be present in the notebook\n",
    "3. You do not delete useless queries. Keep everything that is synthatically valid \n",
    "\n",
    "```\n",
    "?p <http://schema.org/name> ?name .\n",
    "```\n",
    "    \n",
    "    is the BGP returning a human-readable name of a property or a class in Wikidata.\n",
    "    \n",
    "    "
   ]
  },
  {
   "cell_type": "code",
   "execution_count": 1,
   "id": "3605c9d5-5371-49a5-be8d-d66e8f417139",
   "metadata": {},
   "outputs": [],
   "source": [
    "## SETUP used later\n",
    "\n",
    "from SPARQLWrapper import SPARQLWrapper, JSON\n",
    "\n",
    "\n",
    "prefixString = \"\"\"\n",
    "##-4244339075-##\n",
    "PREFIX wd: <http://www.wikidata.org/entity/> \n",
    "PREFIX wdt: <http://www.wikidata.org/prop/direct/> \n",
    "PREFIX sc: <http://schema.org/>\n",
    "\"\"\"\n",
    "\n",
    "# select and construct queries\n",
    "def run_query(queryString):\n",
    "    to_run = prefixString + \"\\n\" + queryString\n",
    "\n",
    "    sparql = SPARQLWrapper(\"http://a256-gc1-02.srv.aau.dk:5820/sparql\")\n",
    "    sparql.setTimeout(300)\n",
    "    sparql.setReturnFormat(JSON)\n",
    "    sparql.setQuery(to_run)\n",
    "\n",
    "    try :\n",
    "       results = sparql.query()\n",
    "       json_results = results.convert()\n",
    "       if len(json_results['results']['bindings'])==0:\n",
    "          print(\"Empty\")\n",
    "          return 0\n",
    "    \n",
    "       for bindings in json_results['results']['bindings']:\n",
    "          print( [ (var, value['value'])  for var, value in bindings.items() ] )\n",
    "\n",
    "       return len(json_results['results']['bindings'])\n",
    "\n",
    "    except Exception as e :\n",
    "        print(\"The operation failed\", e)\n",
    "    \n",
    "# ASk queries\n",
    "def run_ask_query(queryString):\n",
    "    to_run = prefixString + \"\\n\" + queryString\n",
    "\n",
    "    sparql = SPARQLWrapper(\"http://a256-gc1-02.srv.aau.dk:5820/sparql\")\n",
    "    sparql.setTimeout(300)\n",
    "    sparql.setReturnFormat(JSON)\n",
    "    sparql.setQuery(to_run)\n",
    "\n",
    "    try :\n",
    "        return sparql.query().convert()\n",
    "\n",
    "    except Exception as e :\n",
    "        print(\"The operation failed\", e)"
   ]
  },
  {
   "cell_type": "markdown",
   "id": "d477a59c-a68c-4c8f-9f97-8ca5294d7d27",
   "metadata": {},
   "source": [
    "# Book Workflow Series (\"Political Magazines explorative search\") \n",
    "\n",
    "Consider the following exploratory scenario:\n",
    "\n",
    "\n",
    ">  Investigate the U.S. Magazines which write about politics and their media presence\n",
    "\n",
    "\n",
    "\n",
    "## Useful URIs for the current workflow\n",
    "The following are given:\n",
    "\n",
    "| IRI           | Description   | Role      |\n",
    "| -----------   | -----------   |-----------|\n",
    "| `wdt:P1647`   | subproperty   | predicate |\n",
    "| `wdt:P31`     | instance of   | predicate |\n",
    "| `wdt:P921`    | main subject  | predicate | \n",
    "| `wdt:P17`     | country       | predicate | \n",
    "| `wdt:P279`    | subclass      | predicate |\n",
    "| `wd:Q41298`   | Magazine      | node |\n",
    "| `wd:Q7163`    | politics      | node |\n",
    "| `wd:Q30`      | U.S.          | node |\n",
    "| `wd:Q217305`  | The New Yorker  | node |\n",
    "\n",
    "\n",
    "\n",
    "\n",
    "\n",
    "\n",
    "\n",
    "Also consider\n",
    "\n",
    "```\n",
    "?p wdt:P17 wd:Q30 .\n",
    "?p wdt:P31/wdt:P279* wd:Q41298  . \n",
    "```\n",
    "\n",
    "is the BGP to retrieve all **type of publications in the U.S.**\n",
    "\n",
    "\n",
    "The workload should\n",
    "\n",
    "\n",
    "1. Identify the BGP for obtaining the US magazines that write about politics\n",
    "\n",
    "2. Compare the number of social media followers and get the top five magazines along with main properties as the place of publication and subfields of work\n",
    "\n",
    "3. Compare the number of followers with the top three US magazines writing mainly about sports\n",
    "\n",
    "4. Get the name of notable employees working for The New Yorker and any other political magazine published in the US. Check if these employees have witten any book and if so get the title.  \n",
    "\n",
    "5. Is any employee of The New Yorker ever been nominated for a prize or award?"
   ]
  },
  {
   "cell_type": "code",
   "execution_count": 2,
   "id": "24a853ab-830c-422c-afd3-e9e015b8b8ed",
   "metadata": {},
   "outputs": [],
   "source": [
    "# start your workflow here"
   ]
  },
  {
   "cell_type": "code",
   "execution_count": 3,
   "id": "ade01416-92e7-4ad7-b9a9-b8fb330750dc",
   "metadata": {},
   "outputs": [
    {
     "name": "stdout",
     "output_type": "stream",
     "text": [
      "Results\n",
      "[('callret-0', '5422')]\n"
     ]
    },
    {
     "data": {
      "text/plain": [
       "1"
      ]
     },
     "execution_count": 3,
     "metadata": {},
     "output_type": "execute_result"
    }
   ],
   "source": [
    "queryString = \"\"\"\n",
    "SELECT COUNT(?p)\n",
    "WHERE { \n",
    "\n",
    "?p wdt:P17 wd:Q30 .\n",
    "?p wdt:P31/wdt:P279* wd:Q41298  . \n",
    "\n",
    "\n",
    "} \n",
    "\"\"\"\n",
    "\n",
    "print(\"Results\")\n",
    "run_query(queryString)"
   ]
  },
  {
   "cell_type": "markdown",
   "id": "fa54dcd1-b88e-4ee7-a52e-7b8b73e6c52a",
   "metadata": {},
   "source": [
    "## Part 1\n",
    "### Identify the BGP for obtaining the US magazines that write about politics"
   ]
  },
  {
   "cell_type": "markdown",
   "id": "2cd470d6-7eed-4858-95b8-1b8422eff822",
   "metadata": {},
   "source": [
    "### Retrieve data about Magazine"
   ]
  },
  {
   "cell_type": "code",
   "execution_count": 4,
   "id": "60924155-260c-45aa-a128-c98ee668552d",
   "metadata": {},
   "outputs": [
    {
     "name": "stdout",
     "output_type": "stream",
     "text": [
      "Results\n",
      "[('p', 'http://www.wikidata.org/prop/direct/P1151'), ('pName', \"topic's main Wikimedia portal\"), ('oName', 'Portal:Periodicals'), ('o', 'http://www.wikidata.org/entity/Q15657033')]\n",
      "[('p', 'http://www.wikidata.org/prop/direct/P1343'), ('pName', 'described by source'), ('oName', 'Armenian Soviet Encyclopedia'), ('o', 'http://www.wikidata.org/entity/Q2657718')]\n",
      "[('p', 'http://www.wikidata.org/prop/direct/P1424'), ('pName', \"topic's main template\"), ('oName', 'Template:Infobox magazine'), ('o', 'http://www.wikidata.org/entity/Q5618602')]\n",
      "[('p', 'http://www.wikidata.org/prop/direct/P1424'), ('pName', \"topic's main template\"), ('oName', 'Template:Infobox journal'), ('o', 'http://www.wikidata.org/entity/Q13256340')]\n",
      "[('p', 'http://www.wikidata.org/prop/direct/P1963'), ('pName', 'properties for this type'), ('oName', 'Research Papers in Economics Series handle'), ('o', 'http://www.wikidata.org/entity/P2761')]\n",
      "[('p', 'http://www.wikidata.org/prop/direct/P279'), ('pName', 'subclass of'), ('oName', 'communication medium'), ('o', 'http://www.wikidata.org/entity/Q340169')]\n",
      "[('p', 'http://www.wikidata.org/prop/direct/P279'), ('pName', 'subclass of'), ('oName', 'type of publication'), ('o', 'http://www.wikidata.org/entity/Q39725049')]\n",
      "[('p', 'http://www.wikidata.org/prop/direct/P279'), ('pName', 'subclass of'), ('oName', 'mass media'), ('o', 'http://www.wikidata.org/entity/Q11033')]\n",
      "[('p', 'http://www.wikidata.org/prop/direct/P279'), ('pName', 'subclass of'), ('oName', 'printed matter'), ('o', 'http://www.wikidata.org/entity/Q1261026')]\n",
      "[('p', 'http://www.wikidata.org/prop/direct/P279'), ('pName', 'subclass of'), ('oName', 'periodical'), ('o', 'http://www.wikidata.org/entity/Q1002697')]\n",
      "[('p', 'http://www.wikidata.org/prop/direct/P460'), ('pName', 'said to be the same as'), ('oName', 'journal'), ('o', 'http://www.wikidata.org/entity/Q49850')]\n",
      "[('p', 'http://www.wikidata.org/prop/direct/P527'), ('pName', 'has part'), ('oName', 'cover'), ('o', 'http://www.wikidata.org/entity/Q44532723')]\n",
      "[('p', 'http://www.wikidata.org/prop/direct/P5869'), ('pName', 'model item'), ('oName', 'El Comité 1973'), ('o', 'http://www.wikidata.org/entity/Q53644712')]\n",
      "[('p', 'http://www.wikidata.org/prop/direct/P6104'), ('pName', 'maintained by WikiProject'), ('oName', 'WikiProject Academic Journals'), ('o', 'http://www.wikidata.org/entity/Q21597731')]\n",
      "[('p', 'http://www.wikidata.org/prop/direct/P910'), ('pName', \"topic's main category\"), ('oName', 'Category:Magazines'), ('o', 'http://www.wikidata.org/entity/Q5645723')]\n",
      "[('p', 'http://www.wikidata.org/prop/direct/P1245'), ('pName', 'OmegaWiki Defined Meaning'), ('o', '413594')]\n",
      "[('p', 'http://www.wikidata.org/prop/direct/P1296'), ('pName', 'Gran Enciclopèdia Catalana ID'), ('o', '0154219')]\n",
      "[('p', 'http://www.wikidata.org/prop/direct/P1368'), ('pName', 'LNB ID'), ('o', '000067008')]\n",
      "[('p', 'http://www.wikidata.org/prop/direct/P1417'), ('pName', 'Encyclopædia Britannica Online ID'), ('o', 'topic/magazine-publishing')]\n",
      "[('p', 'http://www.wikidata.org/prop/direct/P1709'), ('pName', 'equivalent class'), ('o', 'http://dbpedia.org/ontology/Magazine')]\n",
      "[('p', 'http://www.wikidata.org/prop/direct/P18'), ('pName', 'image'), ('o', 'http://commons.wikimedia.org/wiki/Special:FilePath/Jakarta%20Magazines%20Rack.jpg')]\n",
      "[('p', 'http://www.wikidata.org/prop/direct/P227'), ('pName', 'GND ID'), ('o', '4067488-5')]\n",
      "[('p', 'http://www.wikidata.org/prop/direct/P2347'), ('pName', 'YSO ID'), ('o', '1255')]\n",
      "[('p', 'http://www.wikidata.org/prop/direct/P244'), ('pName', 'Library of Congress authority ID'), ('o', 'sh85099890')]\n",
      "[('p', 'http://www.wikidata.org/prop/direct/P2581'), ('pName', 'BabelNet ID'), ('o', '00052671n')]\n",
      "[('p', 'http://www.wikidata.org/prop/direct/P2888'), ('pName', 'exact match'), ('o', 'http://purl.org/coar/resource_type/c_2cd9')]\n",
      "[('p', 'http://www.wikidata.org/prop/direct/P2924'), ('pName', 'Great Russian Encyclopedia Online ID'), ('o', '1984238')]\n",
      "[('p', 'http://www.wikidata.org/prop/direct/P3106'), ('pName', 'Guardian topic ID'), ('o', 'media/magazines')]\n",
      "[('p', 'http://www.wikidata.org/prop/direct/P3221'), ('pName', 'New York Times topic ID'), ('o', 'subject/magazines')]\n",
      "[('p', 'http://www.wikidata.org/prop/direct/P3417'), ('pName', 'Quora topic ID'), ('o', 'Magazines')]\n",
      "[('p', 'http://www.wikidata.org/prop/direct/P349'), ('pName', 'National Diet Library ID'), ('o', '00574582')]\n",
      "[('p', 'http://www.wikidata.org/prop/direct/P3553'), ('pName', 'Zhihu topic ID'), ('o', '19551166')]\n",
      "[('p', 'http://www.wikidata.org/prop/direct/P3553'), ('pName', 'Zhihu topic ID'), ('o', '19882037')]\n",
      "[('p', 'http://www.wikidata.org/prop/direct/P373'), ('pName', 'Commons category'), ('o', 'Magazines')]\n",
      "[('p', 'http://www.wikidata.org/prop/direct/P3827'), ('pName', 'JSTOR topic ID'), ('o', 'magazines')]\n",
      "[('p', 'http://www.wikidata.org/prop/direct/P3832'), ('pName', 'Europeana Fashion Vocabulary ID'), ('o', '10322')]\n",
      "[('p', 'http://www.wikidata.org/prop/direct/P5357'), ('pName', 'The Encyclopedia of Science Fiction ID'), ('o', 'print_magazines')]\n",
      "[('p', 'http://www.wikidata.org/prop/direct/P6200'), ('pName', 'BBC News topic ID'), ('o', 'c9nny52v4q7t')]\n",
      "[('p', 'http://www.wikidata.org/prop/direct/P646'), ('pName', 'Freebase ID'), ('o', '/m/058sv')]\n",
      "[('p', 'http://www.wikidata.org/prop/direct/P691'), ('pName', 'NKCR AUT ID'), ('o', 'fd133947')]\n",
      "[('p', 'http://www.wikidata.org/prop/direct/P7497'), ('pName', 'Wolfram Language entity type'), ('o', 'Periodical')]\n",
      "[('p', 'http://www.wikidata.org/prop/direct/P7749'), ('pName', 'Nomenclature for Museum Cataloging'), ('o', '13799')]\n",
      "[('p', 'http://www.wikidata.org/prop/direct/P7818'), ('pName', 'French Vikidia ID'), ('o', 'Magazine')]\n",
      "[('p', 'http://www.wikidata.org/prop/direct/P8408'), ('pName', 'KBpedia ID'), ('o', 'MagazineCopy')]\n",
      "[('p', 'http://www.w3.org/1999/02/22-rdf-syntax-ns#type'), ('o', 'http://wikiba.se/ontology#Item')]\n",
      "[('p', 'http://www.wikidata.org/prop/direct-normalized/P227'), ('o', 'https://d-nb.info/gnd/4067488-5')]\n",
      "[('p', 'http://www.wikidata.org/prop/direct-normalized/P2347'), ('o', 'http://www.yso.fi/onto/yso/p1255')]\n",
      "[('p', 'http://www.wikidata.org/prop/direct-normalized/P244'), ('o', 'https://id.loc.gov/authorities/names/sh85099890')]\n",
      "[('p', 'http://www.wikidata.org/prop/direct-normalized/P2581'), ('o', 'http://babelnet.org/rdf/s00052671n')]\n",
      "[('p', 'http://www.wikidata.org/prop/direct-normalized/P349'), ('o', 'http://id.ndl.go.jp/auth/ndlna/00574582')]\n",
      "[('p', 'http://www.wikidata.org/prop/direct-normalized/P3832'), ('o', 'http://thesaurus.europeanafashion.eu/thesaurus/10322')]\n",
      "[('p', 'http://www.wikidata.org/prop/direct-normalized/P646'), ('o', 'http://g.co/kg/m/058sv')]\n",
      "[('p', 'http://www.wikidata.org/prop/direct-normalized/P8408'), ('o', 'http://kbpedia.org/kko/rc/MagazineCopy')]\n",
      "[('p', 'http://schema.org/name'), ('o', 'magazine')]\n"
     ]
    },
    {
     "data": {
      "text/plain": [
       "54"
      ]
     },
     "execution_count": 4,
     "metadata": {},
     "output_type": "execute_result"
    }
   ],
   "source": [
    "queryString = \"\"\"\n",
    "SELECT  ?p ?pName ?oName ?o\n",
    "WHERE { \n",
    "\n",
    "    wd:Q41298 ?p ?o .\n",
    "    OPTIONAL { ?p sc:name ?pName}\n",
    "    OPTIONAL { ?o sc:name ?oName}\n",
    "\n",
    "} \n",
    "\"\"\"\n",
    "\n",
    "print(\"Results\")\n",
    "run_query(queryString)"
   ]
  },
  {
   "cell_type": "markdown",
   "id": "11e41e63-1b7f-4357-8482-0ee31210c654",
   "metadata": {},
   "source": [
    "### Retrieve data with property o=magazine in US"
   ]
  },
  {
   "cell_type": "code",
   "execution_count": 5,
   "id": "4a69efab-5e49-4120-a311-d2548b8be5c1",
   "metadata": {},
   "outputs": [
    {
     "name": "stdout",
     "output_type": "stream",
     "text": [
      "Results\n",
      "[('s', 'http://www.wikidata.org/entity/Q100166024'), ('pName', 'archives at'), ('oName', 'University of Maryland Libraries'), ('p', 'http://www.wikidata.org/prop/direct/P485'), ('o', 'http://www.wikidata.org/entity/Q7895690')]\n",
      "[('s', 'http://www.wikidata.org/entity/Q100166024'), ('pName', 'country'), ('oName', 'United States of America'), ('p', 'http://www.wikidata.org/prop/direct/P17'), ('o', 'http://www.wikidata.org/entity/Q30')]\n",
      "[('s', 'http://www.wikidata.org/entity/Q100166024'), ('pName', 'dissolved, abolished or demolished date'), ('p', 'http://www.wikidata.org/prop/direct/P576'), ('o', '1978-01-01T00:00:00Z')]\n",
      "[('s', 'http://www.wikidata.org/entity/Q100166024'), ('pName', 'headquarters location'), ('oName', 'Takoma Park'), ('p', 'http://www.wikidata.org/prop/direct/P159'), ('o', 'http://www.wikidata.org/entity/Q754271')]\n",
      "[('s', 'http://www.wikidata.org/entity/Q100166024'), ('pName', 'inception'), ('p', 'http://www.wikidata.org/prop/direct/P571'), ('o', '1967-01-01T00:00:00Z')]\n",
      "[('s', 'http://www.wikidata.org/entity/Q100166024'), ('pName', 'instance of'), ('oName', 'magazine'), ('p', 'http://www.wikidata.org/prop/direct/P31'), ('o', 'http://www.wikidata.org/entity/Q41298')]\n",
      "[('s', 'http://www.wikidata.org/entity/Q100166024'), ('pName', 'official website'), ('p', 'http://www.wikidata.org/prop/direct/P856'), ('o', 'https://dryadpress.com/about-dryad-press/')]\n",
      "[('s', 'http://www.wikidata.org/entity/Q100166024'), ('pName', 'replaced by'), ('oName', 'Dryad Press'), ('p', 'http://www.wikidata.org/prop/direct/P1366'), ('o', 'http://www.wikidata.org/entity/Q100166044')]\n",
      "[('s', 'http://www.wikidata.org/entity/Q100166024'), ('p', 'http://schema.org/name'), ('o', 'Dryad Magazine')]\n",
      "[('s', 'http://www.wikidata.org/entity/Q100166024'), ('p', 'http://www.w3.org/1999/02/22-rdf-syntax-ns#type'), ('o', 'http://wikiba.se/ontology#Item')]\n",
      "[('s', 'http://www.wikidata.org/entity/Q101252520'), ('pName', 'Commons category'), ('p', 'http://www.wikidata.org/prop/direct/P373'), ('o', '1809 Powder Magazine')]\n",
      "[('s', 'http://www.wikidata.org/entity/Q101252520'), ('pName', 'National Park Service place ID'), ('p', 'http://www.wikidata.org/prop/direct/P8649'), ('o', '1809-powder-magazine-in-fort-moultrie')]\n",
      "[('s', 'http://www.wikidata.org/entity/Q101252520'), ('pName', 'continent'), ('oName', 'North America'), ('p', 'http://www.wikidata.org/prop/direct/P30'), ('o', 'http://www.wikidata.org/entity/Q49')]\n",
      "[('s', 'http://www.wikidata.org/entity/Q101252520'), ('pName', 'country'), ('oName', 'United States of America'), ('p', 'http://www.wikidata.org/prop/direct/P17'), ('o', 'http://www.wikidata.org/entity/Q30')]\n",
      "[('s', 'http://www.wikidata.org/entity/Q101252520'), ('pName', 'image'), ('p', 'http://www.wikidata.org/prop/direct/P18'), ('o', 'http://commons.wikimedia.org/wiki/Special:FilePath/Fort-moultrie-powder-magazine-sc2.jpg')]\n",
      "[('s', 'http://www.wikidata.org/entity/Q101252520'), ('pName', 'image of interior'), ('p', 'http://www.wikidata.org/prop/direct/P5775'), ('o', 'http://commons.wikimedia.org/wiki/Special:FilePath/Fort-moultrie-powder-magazine-sc1.jpg')]\n",
      "[('s', 'http://www.wikidata.org/entity/Q101252520'), ('pName', 'instance of'), ('oName', 'gunpowder magazine'), ('p', 'http://www.wikidata.org/prop/direct/P31'), ('o', 'http://www.wikidata.org/entity/Q17504814')]\n",
      "[('s', 'http://www.wikidata.org/entity/Q101252520'), ('pName', 'located in protected area'), ('oName', 'Fort Sumter and Fort Moultrie National Historical Park'), ('p', 'http://www.wikidata.org/prop/direct/P3018'), ('o', 'http://www.wikidata.org/entity/Q33167494')]\n",
      "[('s', 'http://www.wikidata.org/entity/Q101252520'), ('pName', 'located in the administrative territorial entity'), ('oName', \"Sullivan's Island\"), ('p', 'http://www.wikidata.org/prop/direct/P131'), ('o', 'http://www.wikidata.org/entity/Q1425473')]\n",
      "[('s', 'http://www.wikidata.org/entity/Q101252520'), ('pName', 'located in/on physical feature'), ('oName', \"Sullivan's Island\"), ('p', 'http://www.wikidata.org/prop/direct/P706'), ('o', 'http://www.wikidata.org/entity/Q42310816')]\n",
      "[('s', 'http://www.wikidata.org/entity/Q101252520'), ('pName', 'location'), ('oName', 'Fort Moultrie'), ('p', 'http://www.wikidata.org/prop/direct/P276'), ('o', 'http://www.wikidata.org/entity/Q1438645')]\n",
      "[('s', 'http://www.wikidata.org/entity/Q101252520'), ('p', 'http://schema.org/name'), ('o', '1809 Powder Magazine')]\n",
      "[('s', 'http://www.wikidata.org/entity/Q101252520'), ('p', 'http://www.w3.org/1999/02/22-rdf-syntax-ns#type'), ('o', 'http://wikiba.se/ontology#Item')]\n",
      "[('s', 'http://www.wikidata.org/entity/Q101440936'), ('pName', 'Wikidata property'), ('oName', 'Museum Day ID'), ('p', 'http://www.wikidata.org/prop/direct/P1687'), ('o', 'http://www.wikidata.org/entity/P8831')]\n",
      "[('s', 'http://www.wikidata.org/entity/Q101440936'), ('pName', 'commemorates'), ('oName', 'museum'), ('p', 'http://www.wikidata.org/prop/direct/P547'), ('o', 'http://www.wikidata.org/entity/Q33506')]\n",
      "[('s', 'http://www.wikidata.org/entity/Q101440936'), ('pName', 'country'), ('oName', 'United States of America'), ('p', 'http://www.wikidata.org/prop/direct/P17'), ('o', 'http://www.wikidata.org/entity/Q30')]\n",
      "[('s', 'http://www.wikidata.org/entity/Q101440936'), ('pName', 'instance of'), ('oName', 'calendar awareness event'), ('p', 'http://www.wikidata.org/prop/direct/P31'), ('o', 'http://www.wikidata.org/entity/Q18033462')]\n",
      "[('s', 'http://www.wikidata.org/entity/Q101440936'), ('pName', 'named after'), ('oName', 'Smithsonian'), ('p', 'http://www.wikidata.org/prop/direct/P138'), ('o', 'http://www.wikidata.org/entity/Q3487014')]\n",
      "[('s', 'http://www.wikidata.org/entity/Q101440936'), ('p', 'http://schema.org/name'), ('o', 'Smithsonian Magazine Museum Day')]\n",
      "[('s', 'http://www.wikidata.org/entity/Q101440936'), ('p', 'http://www.w3.org/1999/02/22-rdf-syntax-ns#type'), ('o', 'http://wikiba.se/ontology#Item')]\n",
      "[('s', 'http://www.wikidata.org/entity/Q102963899'), ('pName', 'collection'), ('oName', 'Vanderbilt University Fine Arts Gallery'), ('p', 'http://www.wikidata.org/prop/direct/P195'), ('o', 'http://www.wikidata.org/entity/Q18563658')]\n",
      "[('s', 'http://www.wikidata.org/entity/Q102963899'), ('pName', 'country'), ('oName', 'United States of America'), ('p', 'http://www.wikidata.org/prop/direct/P17'), ('o', 'http://www.wikidata.org/entity/Q30')]\n",
      "[('s', 'http://www.wikidata.org/entity/Q102963899'), ('pName', 'country of origin'), ('oName', 'United States of America'), ('p', 'http://www.wikidata.org/prop/direct/P495'), ('o', 'http://www.wikidata.org/entity/Q30')]\n",
      "[('s', 'http://www.wikidata.org/entity/Q102963899'), ('pName', 'creator'), ('oName', 'Robert Rauschenberg'), ('p', 'http://www.wikidata.org/prop/direct/P170'), ('o', 'http://www.wikidata.org/entity/Q164358')]\n",
      "[('s', 'http://www.wikidata.org/entity/Q102963899'), ('pName', 'height'), ('p', 'http://www.wikidata.org/prop/direct/P2048'), ('o', '12.5')]\n",
      "[('s', 'http://www.wikidata.org/entity/Q102963899'), ('pName', 'inception'), ('p', 'http://www.wikidata.org/prop/direct/P571'), ('o', '1979-01-01T00:00:00Z')]\n",
      "[('s', 'http://www.wikidata.org/entity/Q102963899'), ('pName', 'instance of'), ('oName', 'print'), ('p', 'http://www.wikidata.org/prop/direct/P31'), ('o', 'http://www.wikidata.org/entity/Q11060274')]\n",
      "[('s', 'http://www.wikidata.org/entity/Q102963899'), ('pName', 'inventory number'), ('p', 'http://www.wikidata.org/prop/direct/P217'), ('o', '1980.003')]\n",
      "[('s', 'http://www.wikidata.org/entity/Q102963899'), ('pName', 'location'), ('oName', 'Vanderbilt University Fine Arts Gallery'), ('p', 'http://www.wikidata.org/prop/direct/P276'), ('o', 'http://www.wikidata.org/entity/Q18563658')]\n",
      "[('s', 'http://www.wikidata.org/entity/Q102963899'), ('pName', 'title'), ('p', 'http://www.wikidata.org/prop/direct/P1476'), ('o', 'Cover for magazine of the Miami Herald, Dec. 30, 1979')]\n",
      "[('s', 'http://www.wikidata.org/entity/Q102963899'), ('pName', 'width'), ('p', 'http://www.wikidata.org/prop/direct/P2049'), ('o', '21.5')]\n",
      "[('s', 'http://www.wikidata.org/entity/Q102963899'), ('p', 'http://schema.org/name'), ('o', 'Cover for magazine of the Miami Herald, Dec. 30, 1979')]\n",
      "[('s', 'http://www.wikidata.org/entity/Q102963899'), ('p', 'http://www.w3.org/1999/02/22-rdf-syntax-ns#type'), ('o', 'http://wikiba.se/ontology#Item')]\n",
      "[('s', 'http://www.wikidata.org/entity/Q103312281'), ('pName', 'collection'), ('oName', 'Vanderbilt University Fine Arts Gallery'), ('p', 'http://www.wikidata.org/prop/direct/P195'), ('o', 'http://www.wikidata.org/entity/Q18563658')]\n",
      "[('s', 'http://www.wikidata.org/entity/Q103312281'), ('pName', 'country'), ('oName', 'United States of America'), ('p', 'http://www.wikidata.org/prop/direct/P17'), ('o', 'http://www.wikidata.org/entity/Q30')]\n",
      "[('s', 'http://www.wikidata.org/entity/Q103312281'), ('pName', 'country of origin'), ('oName', 'United States of America'), ('p', 'http://www.wikidata.org/prop/direct/P495'), ('o', 'http://www.wikidata.org/entity/Q30')]\n",
      "[('s', 'http://www.wikidata.org/entity/Q103312281'), ('pName', 'creator'), ('p', 'http://www.wikidata.org/prop/direct/P170'), ('o', 'nodeID://b267146')]\n",
      "[('s', 'http://www.wikidata.org/entity/Q103312281'), ('pName', 'height'), ('p', 'http://www.wikidata.org/prop/direct/P2048'), ('o', '42')]\n",
      "[('s', 'http://www.wikidata.org/entity/Q103312281'), ('pName', 'instance of'), ('oName', 'print'), ('p', 'http://www.wikidata.org/prop/direct/P31'), ('o', 'http://www.wikidata.org/entity/Q11060274')]\n",
      "[('s', 'http://www.wikidata.org/entity/Q103312281'), ('pName', 'inventory number'), ('p', 'http://www.wikidata.org/prop/direct/P217'), ('o', '1979.0472P')]\n",
      "[('s', 'http://www.wikidata.org/entity/Q103312281'), ('pName', 'location'), ('oName', 'Vanderbilt University Fine Arts Gallery'), ('p', 'http://www.wikidata.org/prop/direct/P276'), ('o', 'http://www.wikidata.org/entity/Q18563658')]\n",
      "[('s', 'http://www.wikidata.org/entity/Q103312281'), ('pName', 'title'), ('p', 'http://www.wikidata.org/prop/direct/P1476'), ('o', 'What can you do - Join our Red Cross/Membership including Red Cross magazine $2.00: No field service required')]\n",
      "[('s', 'http://www.wikidata.org/entity/Q103312281'), ('pName', 'width'), ('p', 'http://www.wikidata.org/prop/direct/P2049'), ('o', '28')]\n",
      "[('s', 'http://www.wikidata.org/entity/Q103312281'), ('p', 'http://schema.org/name'), ('o', 'What can you do - Join our Red Cross/Membership including Red Cross magazine $2.00: No field service required')]\n",
      "[('s', 'http://www.wikidata.org/entity/Q103312281'), ('p', 'http://www.w3.org/1999/02/22-rdf-syntax-ns#type'), ('o', 'http://wikiba.se/ontology#Item')]\n",
      "[('s', 'http://www.wikidata.org/entity/Q1039786'), ('pName', 'Freebase ID'), ('p', 'http://www.wikidata.org/prop/direct/P646'), ('o', '/m/09bq6d')]\n",
      "[('s', 'http://www.wikidata.org/entity/Q1039786'), ('pName', 'Quora topic ID'), ('p', 'http://www.wikidata.org/prop/direct/P3417'), ('o', 'Official-PlayStation-Magazine')]\n",
      "[('s', 'http://www.wikidata.org/entity/Q1039786'), ('pName', 'country'), ('oName', 'United States of America'), ('p', 'http://www.wikidata.org/prop/direct/P17'), ('o', 'http://www.wikidata.org/entity/Q30')]\n",
      "[('s', 'http://www.wikidata.org/entity/Q1039786'), ('pName', 'country of origin'), ('oName', 'United States of America'), ('p', 'http://www.wikidata.org/prop/direct/P495'), ('o', 'http://www.wikidata.org/entity/Q30')]\n",
      "[('s', 'http://www.wikidata.org/entity/Q1039786'), ('pName', 'dissolved, abolished or demolished date'), ('p', 'http://www.wikidata.org/prop/direct/P576'), ('o', '2007-01-01T00:00:00Z')]\n",
      "[('s', 'http://www.wikidata.org/entity/Q1039786'), ('pName', 'field of work'), ('oName', 'PlayStation'), ('p', 'http://www.wikidata.org/prop/direct/P101'), ('o', 'http://www.wikidata.org/entity/Q10677')]\n",
      "[('s', 'http://www.wikidata.org/entity/Q1039786'), ('pName', 'genre'), ('oName', 'video game magazine'), ('p', 'http://www.wikidata.org/prop/direct/P136'), ('o', 'http://www.wikidata.org/entity/Q69662460')]\n",
      "[('s', 'http://www.wikidata.org/entity/Q1039786'), ('pName', 'inception'), ('p', 'http://www.wikidata.org/prop/direct/P571'), ('o', '1997-01-01T00:00:00Z')]\n",
      "[('s', 'http://www.wikidata.org/entity/Q1039786'), ('pName', 'instance of'), ('oName', 'magazine'), ('p', 'http://www.wikidata.org/prop/direct/P31'), ('o', 'http://www.wikidata.org/entity/Q41298')]\n",
      "[('s', 'http://www.wikidata.org/entity/Q1039786'), ('pName', 'language of work or name'), ('oName', 'English'), ('p', 'http://www.wikidata.org/prop/direct/P407'), ('o', 'http://www.wikidata.org/entity/Q1860')]\n",
      "[('s', 'http://www.wikidata.org/entity/Q1039786'), ('pName', 'main subject'), ('oName', 'video game'), ('p', 'http://www.wikidata.org/prop/direct/P921'), ('o', 'http://www.wikidata.org/entity/Q7889')]\n",
      "[('s', 'http://www.wikidata.org/entity/Q1039786'), ('pName', 'official website'), ('p', 'http://www.wikidata.org/prop/direct/P856'), ('o', 'http://opm.1up.com')]\n",
      "[('s', 'http://www.wikidata.org/entity/Q1039786'), ('pName', 'publisher'), ('oName', 'Ziff Davis'), ('p', 'http://www.wikidata.org/prop/direct/P123'), ('o', 'http://www.wikidata.org/entity/Q199296')]\n",
      "[('s', 'http://www.wikidata.org/entity/Q1039786'), ('pName', 'title'), ('p', 'http://www.wikidata.org/prop/direct/P1476'), ('o', 'Official U.S. PlayStation Magazine')]\n",
      "[('s', 'http://www.wikidata.org/entity/Q1039786'), ('p', 'http://schema.org/name'), ('o', 'Official U.S. PlayStation Magazine')]\n",
      "[('s', 'http://www.wikidata.org/entity/Q1039786'), ('p', 'http://www.w3.org/1999/02/22-rdf-syntax-ns#type'), ('o', 'http://wikiba.se/ontology#Item')]\n",
      "[('s', 'http://www.wikidata.org/entity/Q1039786'), ('p', 'http://www.wikidata.org/prop/direct-normalized/P646'), ('o', 'http://g.co/kg/m/09bq6d')]\n",
      "[('s', 'http://www.wikidata.org/entity/Q104440019'), ('pName', 'Crunchbase organization ID'), ('p', 'http://www.wikidata.org/prop/direct/P2088'), ('o', 'ethanol-producer-magazine')]\n",
      "[('s', 'http://www.wikidata.org/entity/Q104440019'), ('pName', 'Facebook ID'), ('p', 'http://www.wikidata.org/prop/direct/P2013'), ('o', 'ethanolproducer')]\n",
      "[('s', 'http://www.wikidata.org/entity/Q104440019'), ('pName', 'Twitter username'), ('p', 'http://www.wikidata.org/prop/direct/P2002'), ('o', 'ethanolmagazine')]\n",
      "[('s', 'http://www.wikidata.org/entity/Q104440019'), ('pName', 'YouTube channel ID'), ('p', 'http://www.wikidata.org/prop/direct/P2397'), ('o', 'UCQVmONmZ0p9YF5oDo6AiCFQ')]\n",
      "[('s', 'http://www.wikidata.org/entity/Q104440019'), ('pName', 'country'), ('oName', 'United States of America'), ('p', 'http://www.wikidata.org/prop/direct/P17'), ('o', 'http://www.wikidata.org/entity/Q30')]\n",
      "[('s', 'http://www.wikidata.org/entity/Q104440019'), ('pName', 'described at URL'), ('p', 'http://www.wikidata.org/prop/direct/P973'), ('o', 'https://muckrack.com/media-outlet/ethanolproducer')]\n",
      "[('s', 'http://www.wikidata.org/entity/Q104440019'), ('pName', 'inception'), ('p', 'http://www.wikidata.org/prop/direct/P571'), ('o', '1995-01-01T00:00:00Z')]\n",
      "[('s', 'http://www.wikidata.org/entity/Q104440019'), ('pName', 'instance of'), ('oName', 'trade magazine'), ('p', 'http://www.wikidata.org/prop/direct/P31'), ('o', 'http://www.wikidata.org/entity/Q685935')]\n",
      "[('s', 'http://www.wikidata.org/entity/Q104440019'), ('pName', 'language of work or name'), ('oName', 'English'), ('p', 'http://www.wikidata.org/prop/direct/P407'), ('o', 'http://www.wikidata.org/entity/Q1860')]\n",
      "[('s', 'http://www.wikidata.org/entity/Q104440019'), ('pName', 'official website'), ('p', 'http://www.wikidata.org/prop/direct/P856'), ('o', 'http://www.ethanolproducer.com/')]\n",
      "[('s', 'http://www.wikidata.org/entity/Q104440019'), ('pName', 'social media followers'), ('p', 'http://www.wikidata.org/prop/direct/P8687'), ('o', '7457')]\n",
      "[('s', 'http://www.wikidata.org/entity/Q104440019'), ('p', 'http://schema.org/name'), ('o', 'Ethanol Producer Magazine')]\n",
      "[('s', 'http://www.wikidata.org/entity/Q104440019'), ('p', 'http://www.w3.org/1999/02/22-rdf-syntax-ns#type'), ('o', 'http://wikiba.se/ontology#Item')]\n",
      "[('s', 'http://www.wikidata.org/entity/Q104879554'), ('pName', 'Commons category'), ('p', 'http://www.wikidata.org/prop/direct/P373'), ('o', 'Fort Davis Magazine')]\n",
      "[('s', 'http://www.wikidata.org/entity/Q104879554'), ('pName', 'LoC HABS/HAER/HALS place ID'), ('p', 'http://www.wikidata.org/prop/direct/P8655'), ('o', 'tx0431')]\n",
      "[('s', 'http://www.wikidata.org/entity/Q104879554'), ('pName', 'continent'), ('oName', 'North America'), ('p', 'http://www.wikidata.org/prop/direct/P30'), ('o', 'http://www.wikidata.org/entity/Q49')]\n",
      "[('s', 'http://www.wikidata.org/entity/Q104879554'), ('pName', 'country'), ('oName', 'United States of America'), ('p', 'http://www.wikidata.org/prop/direct/P17'), ('o', 'http://www.wikidata.org/entity/Q30')]\n",
      "[('s', 'http://www.wikidata.org/entity/Q104879554'), ('pName', 'image'), ('p', 'http://www.wikidata.org/prop/direct/P18'), ('o', 'http://commons.wikimedia.org/wiki/Special:FilePath/Fort%20Davis%20seen%20from%20North%20Ridge.jpg')]\n",
      "[('s', 'http://www.wikidata.org/entity/Q104879554'), ('pName', 'instance of'), ('oName', 'gunpowder magazine'), ('p', 'http://www.wikidata.org/prop/direct/P31'), ('o', 'http://www.wikidata.org/entity/Q17504814')]\n",
      "[('s', 'http://www.wikidata.org/entity/Q104879554'), ('pName', 'located in protected area'), ('oName', 'Fort Davis National Historic Site'), ('p', 'http://www.wikidata.org/prop/direct/P3018'), ('o', 'http://www.wikidata.org/entity/Q5471027')]\n",
      "[('s', 'http://www.wikidata.org/entity/Q104879554'), ('pName', 'located in the administrative territorial entity'), ('oName', 'Fort Davis'), ('p', 'http://www.wikidata.org/prop/direct/P131'), ('o', 'http://www.wikidata.org/entity/Q976539')]\n",
      "[('s', 'http://www.wikidata.org/entity/Q104879554'), ('pName', 'location'), ('oName', 'Fort Davis'), ('p', 'http://www.wikidata.org/prop/direct/P276'), ('o', 'http://www.wikidata.org/entity/Q104828437')]\n",
      "[('s', 'http://www.wikidata.org/entity/Q104879554'), ('pName', 'locator map image'), ('p', 'http://www.wikidata.org/prop/direct/P242'), ('o', 'http://commons.wikimedia.org/wiki/Special:FilePath/Fort%20Davis%2C%20Magazine%2C%20Texas%20Route%2017%2C%20Fort%20Davis%2C%20Jeff%20Davis%20County%2C%20TX%20HABS%20TEX%2C122-FODA%2C1C-%20%28sheet%201%20of%202%29.png')]\n",
      "[('s', 'http://www.wikidata.org/entity/Q104879554'), ('pName', 'mountain range'), ('oName', 'Davis Mountains'), ('p', 'http://www.wikidata.org/prop/direct/P4552'), ('o', 'http://www.wikidata.org/entity/Q782359')]\n",
      "[('s', 'http://www.wikidata.org/entity/Q104879554'), ('pName', 'plan view image'), ('p', 'http://www.wikidata.org/prop/direct/P3311'), ('o', 'http://commons.wikimedia.org/wiki/Special:FilePath/Fort%20Davis%2C%20Magazine%2C%20Texas%20Route%2017%2C%20Fort%20Davis%2C%20Jeff%20Davis%20County%2C%20TX%20HABS%20TEX%2C122-FODA%2C1C-%20%28sheet%202%20of%202%29.png')]\n",
      "[('s', 'http://www.wikidata.org/entity/Q104879554'), ('p', 'http://schema.org/name'), ('o', 'Fort Davis Magazine')]\n",
      "[('s', 'http://www.wikidata.org/entity/Q104879554'), ('p', 'http://www.w3.org/1999/02/22-rdf-syntax-ns#type'), ('o', 'http://wikiba.se/ontology#Item')]\n",
      "[('s', 'http://www.wikidata.org/entity/Q104907558'), ('pName', 'Discogs label ID'), ('p', 'http://www.wikidata.org/prop/direct/P1955'), ('o', '1781516')]\n"
     ]
    },
    {
     "data": {
      "text/plain": [
       "100"
      ]
     },
     "execution_count": 5,
     "metadata": {},
     "output_type": "execute_result"
    }
   ],
   "source": [
    "queryString = \"\"\"\n",
    "SELECT ?s ?pName ?oName ?p ?o\n",
    "WHERE { \n",
    "\n",
    "    ?s sc:name ?magazine ;\n",
    "       wdt:P17 wd:Q30 ;\n",
    "       ?p ?o .\n",
    "    OPTIONAL {?p sc:name ?pName .}\n",
    "    OPTIONAL {?o sc:name ?oName }\n",
    "    FILTER regex(?magazine,\".*[Mm]agazine.*\")\n",
    "} GROUP BY ?s\n",
    "ORDER BY ?s ?pName ?oName ?p\n",
    "LIMIT 100\n",
    "  \n",
    "\"\"\"\n",
    "\n",
    "print(\"Results\")\n",
    "run_query(queryString)"
   ]
  },
  {
   "cell_type": "markdown",
   "id": "c05ba8ae-46bc-4276-b9ae-c7960878d781",
   "metadata": {},
   "source": [
    "### Search genre for magazine\n"
   ]
  },
  {
   "cell_type": "code",
   "execution_count": 6,
   "id": "698f3977-034d-4baa-8511-159334cd0aab",
   "metadata": {},
   "outputs": [
    {
     "name": "stdout",
     "output_type": "stream",
     "text": [
      "Results\n",
      "[('genreName', 'Christian devotional literature'), ('genre', 'http://www.wikidata.org/entity/Q1348220')]\n",
      "[('genreName', 'LGBTI+ related media'), ('genre', 'http://www.wikidata.org/entity/Q86463500')]\n",
      "[('genreName', 'academic journal'), ('genre', 'http://www.wikidata.org/entity/Q737498')]\n",
      "[('genreName', 'automobile magazine'), ('genre', 'http://www.wikidata.org/entity/Q3267592')]\n",
      "[('genreName', 'big bust pornography'), ('genre', 'http://www.wikidata.org/entity/Q17379843')]\n",
      "[('genreName', 'company magazine'), ('genre', 'http://www.wikidata.org/entity/Q12016659')]\n",
      "[('genreName', 'computer magazine'), ('genre', 'http://www.wikidata.org/entity/Q3402519')]\n",
      "[('genreName', 'cultural magazine'), ('genre', 'http://www.wikidata.org/entity/Q1791899')]\n",
      "[('genreName', 'erotica'), ('genre', 'http://www.wikidata.org/entity/Q181001')]\n",
      "[('genreName', 'experimental music'), ('genre', 'http://www.wikidata.org/entity/Q1640319')]\n",
      "[('genreName', 'fashion magazine'), ('genre', 'http://www.wikidata.org/entity/Q9397629')]\n",
      "[('genreName', 'feminism'), ('genre', 'http://www.wikidata.org/entity/Q7252')]\n",
      "[('genreName', 'folk music'), ('genre', 'http://www.wikidata.org/entity/Q43343')]\n",
      "[('genreName', 'free jazz'), ('genre', 'http://www.wikidata.org/entity/Q211781')]\n",
      "[('genreName', 'guide book'), ('genre', 'http://www.wikidata.org/entity/Q223638')]\n",
      "[('genreName', 'hip hop music'), ('genre', 'http://www.wikidata.org/entity/Q11401')]\n",
      "[('genreName', 'indie pop'), ('genre', 'http://www.wikidata.org/entity/Q842324')]\n",
      "[('genreName', 'indie rock'), ('genre', 'http://www.wikidata.org/entity/Q183504')]\n",
      "[('genreName', 'lifestyle magazine'), ('genre', 'http://www.wikidata.org/entity/Q6545508')]\n",
      "[('genreName', 'literary magazine'), ('genre', 'http://www.wikidata.org/entity/Q1368848')]\n",
      "[('genreName', 'medical literature'), ('genre', 'http://www.wikidata.org/entity/Q5977147')]\n",
      "[('genreName', \"men's magazine\"), ('genre', 'http://www.wikidata.org/entity/Q21886169')]\n",
      "[('genreName', 'music magazine'), ('genre', 'http://www.wikidata.org/entity/Q1824338')]\n",
      "[('genreName', 'physical fitness'), ('genre', 'http://www.wikidata.org/entity/Q309252')]\n",
      "[('genreName', 'popular science'), ('genre', 'http://www.wikidata.org/entity/Q995600')]\n",
      "[('genreName', 'popular science magazine'), ('genre', 'http://www.wikidata.org/entity/Q1911105')]\n",
      "[('genreName', 'pulp magazine'), ('genre', 'http://www.wikidata.org/entity/Q865585')]\n",
      "[('genreName', 'reference work'), ('genre', 'http://www.wikidata.org/entity/Q13136')]\n",
      "[('genreName', 'rhythm and blues'), ('genre', 'http://www.wikidata.org/entity/Q45981')]\n",
      "[('genreName', 'science fiction'), ('genre', 'http://www.wikidata.org/entity/Q24925')]\n",
      "[('genreName', 'science fiction comic'), ('genre', 'http://www.wikidata.org/entity/Q1782964')]\n",
      "[('genreName', 'scientific literature'), ('genre', 'http://www.wikidata.org/entity/Q17327049')]\n",
      "[('genreName', 'tabletop role-playing game'), ('genre', 'http://www.wikidata.org/entity/Q1643932')]\n",
      "[('genreName', 'teen magazine'), ('genre', 'http://www.wikidata.org/entity/Q1711354')]\n",
      "[('genreName', 'true crime'), ('genre', 'http://www.wikidata.org/entity/Q3541116')]\n",
      "[('genreName', 'video game journalism'), ('genre', 'http://www.wikidata.org/entity/Q1122591')]\n",
      "[('genreName', 'video game magazine'), ('genre', 'http://www.wikidata.org/entity/Q69662460')]\n",
      "[('genreName', 'video game podcast'), ('genre', 'http://www.wikidata.org/entity/Q86833385')]\n",
      "[('genreName', \"women's magazine\"), ('genre', 'http://www.wikidata.org/entity/Q1059863')]\n"
     ]
    },
    {
     "data": {
      "text/plain": [
       "39"
      ]
     },
     "execution_count": 6,
     "metadata": {},
     "output_type": "execute_result"
    }
   ],
   "source": [
    "queryString = \"\"\"\n",
    "SELECT DISTINCT ?genreName ?genre\n",
    "WHERE { \n",
    "    ?s wdt:P17 wd:Q30 .\n",
    "    ?s wdt:P31/wdt:P279* wd:Q41298  . \n",
    "    ?s wdt:P136 ?genre .\n",
    "    OPTIONAL { ?genre sc:name ?genreName . }\n",
    "    \n",
    "} ORDER BY ASC(?genreName)\n",
    "  \n",
    "\"\"\"\n",
    "\n",
    "print(\"Results\")\n",
    "run_query(queryString)"
   ]
  },
  {
   "cell_type": "markdown",
   "id": "ec13600e-1a54-4381-9f4c-b445080abbae",
   "metadata": {},
   "source": [
    "### Search for main subject wdt:P921"
   ]
  },
  {
   "cell_type": "code",
   "execution_count": 7,
   "id": "35818180-27af-477a-a7b1-a2e8835ccb93",
   "metadata": {},
   "outputs": [
    {
     "name": "stdout",
     "output_type": "stream",
     "text": [
      "Results\n",
      "[('subjectName', 'AEC industry'), ('subject', 'http://www.wikidata.org/entity/Q89358787')]\n",
      "[('subjectName', 'African Americans'), ('subject', 'http://www.wikidata.org/entity/Q49085')]\n",
      "[('subjectName', 'American Civil War'), ('subject', 'http://www.wikidata.org/entity/Q8676')]\n",
      "[('subjectName', 'American studies'), ('subject', 'http://www.wikidata.org/entity/Q470125')]\n",
      "[('subjectName', 'Araceae'), ('subject', 'http://www.wikidata.org/entity/Q48227')]\n",
      "[('subjectName', 'Asian American'), ('subject', 'http://www.wikidata.org/entity/Q727928')]\n",
      "[('subjectName', 'BDSM'), ('subject', 'http://www.wikidata.org/entity/Q190845')]\n",
      "[('subjectName', 'Bethesda'), ('subject', 'http://www.wikidata.org/entity/Q584451')]\n",
      "[('subjectName', 'Brigham Young University'), ('subject', 'http://www.wikidata.org/entity/Q332498')]\n",
      "[('subjectName', 'California'), ('subject', 'http://www.wikidata.org/entity/Q99')]\n",
      "[('subjectName', 'Category:Agricultural magazines'), ('subject', 'http://www.wikidata.org/entity/Q24910159')]\n",
      "[('subjectName', 'Category:Computer magazines'), ('subject', 'http://www.wikidata.org/entity/Q7142450')]\n",
      "[('subjectName', 'Category:Entertainment technology magazines'), ('subject', 'http://www.wikidata.org/entity/Q8419190')]\n",
      "[('subjectName', 'Category:Journalism'), ('subject', 'http://www.wikidata.org/entity/Q7077035')]\n",
      "[('subjectName', 'Category:Music magazines published in the United States'), ('subject', 'http://www.wikidata.org/entity/Q7853677')]\n",
      "[('subjectName', 'Category:Online magazines'), ('subject', 'http://www.wikidata.org/entity/Q7452906')]\n",
      "[('subjectName', 'Catholic Church'), ('subject', 'http://www.wikidata.org/entity/Q9592')]\n",
      "[('subjectName', 'Chiropractic'), ('subject', 'http://www.wikidata.org/entity/Q658096')]\n",
      "[('subjectName', 'Christian nationalism'), ('subject', 'http://www.wikidata.org/entity/Q24905525')]\n",
      "[('subjectName', 'Christian theology'), ('subject', 'http://www.wikidata.org/entity/Q216545')]\n",
      "[('subjectName', 'Christianity'), ('subject', 'http://www.wikidata.org/entity/Q5043')]\n",
      "[('subjectName', 'Crustacea'), ('subject', 'http://www.wikidata.org/entity/Q25364')]\n",
      "[('subjectName', 'Do it yourself'), ('subject', 'http://www.wikidata.org/entity/Q26384')]\n",
      "[('subjectName', 'Earth science'), ('subject', 'http://www.wikidata.org/entity/Q8008')]\n",
      "[('subjectName', 'East Asian studies'), ('subject', 'http://www.wikidata.org/entity/Q162817')]\n",
      "[('subjectName', 'East Asians'), ('subject', 'http://www.wikidata.org/entity/Q26764649')]\n",
      "[('subjectName', 'English literature'), ('subject', 'http://www.wikidata.org/entity/Q186579')]\n",
      "[('subjectName', 'Evolution'), ('subject', 'http://www.wikidata.org/entity/Q4038411')]\n",
      "[('subjectName', 'German-language literature'), ('subject', 'http://www.wikidata.org/entity/Q181287')]\n",
      "[('subjectName', 'HIV'), ('subject', 'http://www.wikidata.org/entity/Q15787')]\n",
      "[('subjectName', 'HIV/AIDS'), ('subject', 'http://www.wikidata.org/entity/Q12199')]\n",
      "[('subjectName', 'High-end audio'), ('subject', 'http://www.wikidata.org/entity/Q2348534')]\n",
      "[('subjectName', 'Hispanic and Latino Americans'), ('subject', 'http://www.wikidata.org/entity/Q58669')]\n",
      "[('subjectName', 'Immigrants'), ('subject', 'http://www.wikidata.org/entity/Q56149220')]\n",
      "[('subjectName', 'Industrial and Organizational Psychology'), ('subject', 'http://www.wikidata.org/entity/Q2045692')]\n",
      "[('subjectName', 'Industrial management'), ('subject', 'http://www.wikidata.org/entity/Q8188423')]\n",
      "[('subjectName', 'Italian literature'), ('subject', 'http://www.wikidata.org/entity/Q74217')]\n",
      "[('subjectName', 'Italian studies'), ('subject', 'http://www.wikidata.org/entity/Q515601')]\n",
      "[('subjectName', 'Italy'), ('subject', 'http://www.wikidata.org/entity/Q38')]\n",
      "[('subjectName', 'James Joyce'), ('subject', 'http://www.wikidata.org/entity/Q6882')]\n",
      "[('subjectName', 'Johann Sebastian Bach'), ('subject', 'http://www.wikidata.org/entity/Q1339')]\n",
      "[('subjectName', 'Joyce Carol Oates'), ('subject', 'http://www.wikidata.org/entity/Q217557')]\n",
      "[('subjectName', 'Judaism'), ('subject', 'http://www.wikidata.org/entity/Q9268')]\n",
      "[('subjectName', 'LGBT'), ('subject', 'http://www.wikidata.org/entity/Q17884')]\n",
      "[('subjectName', 'Language and Literature'), ('subject', 'http://www.wikidata.org/entity/Q64687382')]\n",
      "[('subjectName', 'Latin American studies'), ('subject', 'http://www.wikidata.org/entity/Q28617')]\n",
      "[('subjectName', 'Magalog'), ('subject', 'http://www.wikidata.org/entity/Q739714')]\n",
      "[('subjectName', 'Marxism'), ('subject', 'http://www.wikidata.org/entity/Q7264')]\n",
      "[('subjectName', 'Mexican Americans'), ('subject', 'http://www.wikidata.org/entity/Q581921')]\n",
      "[('subjectName', 'Middle Eastern studies'), ('subject', 'http://www.wikidata.org/entity/Q12211529')]\n"
     ]
    },
    {
     "data": {
      "text/plain": [
       "50"
      ]
     },
     "execution_count": 7,
     "metadata": {},
     "output_type": "execute_result"
    }
   ],
   "source": [
    "queryString = \"\"\"\n",
    "SELECT DISTINCT ?subjectName ?subject\n",
    "WHERE { \n",
    "    ?s wdt:P17 wd:Q30 .\n",
    "    ?s wdt:P31/wdt:P279* wd:Q41298  . \n",
    "    ?s wdt:P921 ?subject .\n",
    "    OPTIONAL { ?subject sc:name ?subjectName . }\n",
    "    \n",
    "} ORDER BY ASC(?subjectName)\n",
    "LIMIT 50\n",
    "  \n",
    "\"\"\"\n",
    "\n",
    "print(\"Results\")\n",
    "run_query(queryString)"
   ]
  },
  {
   "cell_type": "markdown",
   "id": "da5d1fff-5c3f-4519-bd91-dda6832a552e",
   "metadata": {},
   "source": [
    "### More specific search for subject"
   ]
  },
  {
   "cell_type": "code",
   "execution_count": 8,
   "id": "f0fa7ee8-9d25-45c5-bab7-f3249c5920fe",
   "metadata": {},
   "outputs": [
    {
     "name": "stdout",
     "output_type": "stream",
     "text": [
      "Results\n",
      "[('subjectName', 'political science'), ('subject', 'http://www.wikidata.org/entity/Q36442')]\n",
      "[('subjectName', 'politics'), ('subject', 'http://www.wikidata.org/entity/Q7163')]\n",
      "[('subjectName', 'politics of the United States'), ('subject', 'http://www.wikidata.org/entity/Q330963')]\n"
     ]
    },
    {
     "data": {
      "text/plain": [
       "3"
      ]
     },
     "execution_count": 8,
     "metadata": {},
     "output_type": "execute_result"
    }
   ],
   "source": [
    "queryString = \"\"\"\n",
    "SELECT DISTINCT ?subjectName ?subject\n",
    "WHERE { \n",
    "    ?s wdt:P17 wd:Q30 .\n",
    "    ?s wdt:P31/wdt:P279* wd:Q41298  . \n",
    "    ?s wdt:P921 ?subject .\n",
    "    OPTIONAL { ?subject sc:name ?subjectName . }\n",
    "    FILTER regex(?subjectName,\".*polit.*\")\n",
    "    \n",
    "} ORDER BY ASC(?subjectName)\n",
    "\n",
    "\"\"\"\n",
    "\n",
    "print(\"Results\")\n",
    "run_query(queryString)"
   ]
  },
  {
   "cell_type": "markdown",
   "id": "f38e86f9-9385-4c9b-bc46-0d7dcdda81db",
   "metadata": {},
   "source": [
    "### More specific search for specific subject (try regex also with capital letter)"
   ]
  },
  {
   "cell_type": "code",
   "execution_count": 9,
   "id": "a5a6e6f4-943a-4e67-85f9-81de1d1618e3",
   "metadata": {},
   "outputs": [
    {
     "name": "stdout",
     "output_type": "stream",
     "text": [
      "Results\n",
      "[('subjectName', 'political science'), ('subject', 'http://www.wikidata.org/entity/Q36442')]\n",
      "[('subjectName', 'politics'), ('subject', 'http://www.wikidata.org/entity/Q7163')]\n",
      "[('subjectName', 'politics of the United States'), ('subject', 'http://www.wikidata.org/entity/Q330963')]\n"
     ]
    },
    {
     "data": {
      "text/plain": [
       "3"
      ]
     },
     "execution_count": 9,
     "metadata": {},
     "output_type": "execute_result"
    }
   ],
   "source": [
    "queryString = \"\"\"\n",
    "SELECT DISTINCT ?subjectName ?subject\n",
    "WHERE { \n",
    "    ?s wdt:P17 wd:Q30 .\n",
    "    ?s wdt:P31/wdt:P279* wd:Q41298  . \n",
    "    ?s wdt:P921 ?subject .\n",
    "    OPTIONAL { ?subject sc:name ?subjectName . }\n",
    "    FILTER regex(?subjectName,\".*[Pp]olit.*\")\n",
    "    \n",
    "} ORDER BY ASC(?subjectName)\n",
    "\n",
    "\"\"\"\n",
    "\n",
    "print(\"Results\")\n",
    "run_query(queryString)"
   ]
  },
  {
   "cell_type": "markdown",
   "id": "a324ffef-d77b-4361-bfd0-56a8dbc551e1",
   "metadata": {},
   "source": [
    "### View title of US magazine about politic subjects"
   ]
  },
  {
   "cell_type": "code",
   "execution_count": 10,
   "id": "22124e5e-9023-4b98-ba00-bf57dc6218d0",
   "metadata": {},
   "outputs": [
    {
     "name": "stdout",
     "output_type": "stream",
     "text": [
      "Results\n",
      "[('subjectName', 'political science'), ('title', 'Legislative Studies Quarterly')]\n",
      "[('subjectName', 'political science'), ('title', 'Journal of World-Systems Research')]\n",
      "[('subjectName', 'political science'), ('title', 'The Good Society')]\n",
      "[('subjectName', 'political science'), ('title', 'Research & politics')]\n",
      "[('subjectName', 'political science'), ('title', 'Bulletin of the atomic scientists')]\n",
      "[('subjectName', 'political science'), ('title', 'Journal of Political Ecology')]\n",
      "[('subjectName', 'political science'), ('title', 'Dissent')]\n",
      "[('subjectName', 'political science'), ('title', 'Telos')]\n",
      "[('subjectName', 'politics'), ('title', 'The Port Folio')]\n",
      "[('subjectName', 'politics'), ('title', 'The New Yorker')]\n",
      "[('subjectName', 'politics'), ('title', 'Politico magazine')]\n",
      "[('subjectName', 'politics'), ('title', 'Commentary')]\n",
      "[('subjectName', 'politics'), ('title', 'Jacobin')]\n",
      "[('subjectName', 'politics'), ('title', 'The Liberator')]\n",
      "[('subjectName', 'politics of the United States'), ('title', 'The Politic')]\n"
     ]
    },
    {
     "data": {
      "text/plain": [
       "15"
      ]
     },
     "execution_count": 10,
     "metadata": {},
     "output_type": "execute_result"
    }
   ],
   "source": [
    "queryString = \"\"\"\n",
    "SELECT DISTINCT ?subjectName ?title\n",
    "WHERE { \n",
    "    ?s wdt:P17 wd:Q30 ;\n",
    "       wdt:P31/wdt:P279* wd:Q41298  ;\n",
    "       wdt:P921 ?subject ;\n",
    "       wdt:P1476 ?title .\n",
    "    \n",
    "    OPTIONAL { ?subject sc:name ?subjectName . }\n",
    "    FILTER regex(?subjectName,\".*polit.*\")\n",
    "    \n",
    "} ORDER BY ASC(?subjectName)\n",
    "\n",
    "\"\"\"\n",
    "\n",
    "print(\"Results\")\n",
    "run_query(queryString)"
   ]
  },
  {
   "cell_type": "markdown",
   "id": "dfad3ca8-a52c-4b36-af89-07e7229c30eb",
   "metadata": {},
   "source": [
    "### Result part 1\n",
    "Found 15 US magazines about political subjects"
   ]
  },
  {
   "cell_type": "markdown",
   "id": "842a6307-901a-4a6c-b396-a75086564f5e",
   "metadata": {},
   "source": [
    "## Part 2\n",
    "### Compare the number of social media followers and get the top five magazines along with main properties as the place of publication and subfields of work"
   ]
  },
  {
   "cell_type": "markdown",
   "id": "1993df58-585a-49d4-9814-cf1896833935",
   "metadata": {},
   "source": [
    "### Find top 5 magazines in U.S.\n",
    "P8687 = social media followers "
   ]
  },
  {
   "cell_type": "code",
   "execution_count": 11,
   "id": "8d368c24-a2a4-47f8-a117-be003e18ec28",
   "metadata": {},
   "outputs": [
    {
     "name": "stdout",
     "output_type": "stream",
     "text": [
      "Results\n",
      "[('title', 'Time'), ('followers', '17806837')]\n",
      "[('title', 'Billboard'), ('followers', '10410725')]\n",
      "[('title', 'Wired'), ('followers', '7900000')]\n",
      "[('title', 'GQ'), ('followers', '6280000')]\n",
      "[('title', 'Apparel Arts'), ('followers', '6280000')]\n"
     ]
    },
    {
     "data": {
      "text/plain": [
       "5"
      ]
     },
     "execution_count": 11,
     "metadata": {},
     "output_type": "execute_result"
    }
   ],
   "source": [
    "queryString = \"\"\"\n",
    "SELECT DISTINCT ?title ?followers\n",
    "WHERE { \n",
    "    ?s wdt:P17 wd:Q30 ;\n",
    "       wdt:P31/wdt:P279* wd:Q41298  ;\n",
    "       wdt:P1476 ?title ;\n",
    "       wdt:P8687 ?followers .\n",
    "       \n",
    "} ORDER BY DESC(?followers)\n",
    " LIMIT 5\n",
    "\n",
    "\"\"\"\n",
    "\n",
    "print(\"Results\")\n",
    "run_query(queryString)"
   ]
  },
  {
   "cell_type": "markdown",
   "id": "7ff44891-0d37-4734-a94a-1479aa712c11",
   "metadata": {},
   "source": [
    "### Find top 5 magazines"
   ]
  },
  {
   "cell_type": "code",
   "execution_count": 12,
   "id": "8eb33c78-26bb-43ca-a137-c100bf13a3f5",
   "metadata": {},
   "outputs": [
    {
     "name": "stdout",
     "output_type": "stream",
     "text": [
      "Results\n",
      "[('title', 'The Economist'), ('followers', '25421540')]\n",
      "[('title', 'Time'), ('followers', '17806837')]\n",
      "[('title', 'Vice'), ('followers', '14500000')]\n",
      "[('title', 'Billboard'), ('followers', '10410725')]\n",
      "[('title', 'Vogue'), ('followers', '9770000')]\n"
     ]
    },
    {
     "data": {
      "text/plain": [
       "5"
      ]
     },
     "execution_count": 12,
     "metadata": {},
     "output_type": "execute_result"
    }
   ],
   "source": [
    "queryString = \"\"\"\n",
    "SELECT DISTINCT ?title ?followers\n",
    "WHERE { \n",
    "    ?s wdt:P31/wdt:P279* wd:Q41298  ;\n",
    "       wdt:P1476 ?title ;\n",
    "       wdt:P8687 ?followers .\n",
    "       \n",
    "} ORDER BY DESC(?followers)\n",
    " LIMIT 5\n",
    "\n",
    "\"\"\"\n",
    "\n",
    "print(\"Results\")\n",
    "run_query(queryString)"
   ]
  },
  {
   "cell_type": "markdown",
   "id": "a382427c-0109-48d4-bfe2-8056aee7323d",
   "metadata": {
    "tags": []
   },
   "source": [
    "### Find top 5 magazines with their location\n",
    "P159 headquarters location\n",
    "\n",
    "P17 country \n",
    "\n",
    "P706 located in/on physical feature"
   ]
  },
  {
   "cell_type": "code",
   "execution_count": 13,
   "id": "b5a1197f-f476-4f53-ae50-7f750d551402",
   "metadata": {},
   "outputs": [
    {
     "name": "stdout",
     "output_type": "stream",
     "text": [
      "Results\n",
      "Empty\n"
     ]
    },
    {
     "data": {
      "text/plain": [
       "0"
      ]
     },
     "execution_count": 13,
     "metadata": {},
     "output_type": "execute_result"
    }
   ],
   "source": [
    "queryString = \"\"\"\n",
    "SELECT DISTINCT ?title ?followers ?contry ?locatedIn ?location\n",
    "WHERE { \n",
    "    ?s wdt:P31/wdt:P279* wd:Q41298  ;\n",
    "       wdt:P1476 ?title ;\n",
    "       wdt:P8687 ?followers ;\n",
    "       wdt:P17 ?countryURI ;\n",
    "       wdt:P159 ?located ;\n",
    "       wdt:P706 ?in .\n",
    "    OPTIONAL{ ?countryURI sc:name ?country . }\n",
    "    OPTIONAL{ ?located sc:name ?locatedIn . }\n",
    "    OPTIONAL{ ?in sc:name ?location . }\n",
    "       \n",
    "} ORDER BY DESC(?followers)\n",
    " LIMIT 5\n",
    "\n",
    "\"\"\"\n",
    "\n",
    "print(\"Results\")\n",
    "run_query(queryString)"
   ]
  },
  {
   "cell_type": "markdown",
   "id": "15a77166-0ac8-43a7-9ece-b5fb7d439cf6",
   "metadata": {
    "tags": []
   },
   "source": [
    "### Find top 5 magazines with their location (removing P706)\n",
    "P159 headquarters location\n",
    "\n",
    "P17 country"
   ]
  },
  {
   "cell_type": "code",
   "execution_count": 14,
   "id": "a798716d-625f-4769-bbe6-2dccd6249fa8",
   "metadata": {},
   "outputs": [
    {
     "name": "stdout",
     "output_type": "stream",
     "text": [
      "Results\n",
      "[('title', 'The Economist'), ('followers', '25421540'), ('country', 'United Kingdom'), ('locatedIn', 'London')]\n",
      "[('title', 'Time'), ('followers', '17806837'), ('country', 'United States of America'), ('locatedIn', 'Manhattan')]\n",
      "[('title', 'Billboard'), ('followers', '10410725'), ('country', 'United States of America'), ('locatedIn', 'New York City')]\n",
      "[('title', 'Wired'), ('followers', '7900000'), ('country', 'United States of America'), ('locatedIn', 'San Francisco')]\n",
      "[('title', 'GQ'), ('followers', '6280000'), ('country', 'United States of America'), ('locatedIn', 'New York City')]\n"
     ]
    },
    {
     "data": {
      "text/plain": [
       "5"
      ]
     },
     "execution_count": 14,
     "metadata": {},
     "output_type": "execute_result"
    }
   ],
   "source": [
    "queryString = \"\"\"\n",
    "SELECT DISTINCT ?title ?followers ?country ?locatedIn\n",
    "WHERE { \n",
    "    ?s wdt:P31/wdt:P279* wd:Q41298  ;\n",
    "       wdt:P1476 ?title ;\n",
    "       wdt:P8687 ?followers ;\n",
    "       wdt:P17 ?countryURI ;\n",
    "       wdt:P159 ?located .\n",
    "    OPTIONAL{ ?countryURI sc:name ?country .}\n",
    "    OPTIONAL{ ?located sc:name ?locatedIn . }\n",
    "       \n",
    "} ORDER BY DESC(?followers)\n",
    " LIMIT 5\n",
    "\n",
    "\"\"\"\n",
    "\n",
    "print(\"Results\")\n",
    "run_query(queryString)"
   ]
  },
  {
   "cell_type": "markdown",
   "id": "993d462b-eb41-4578-b402-48b717fb4dc4",
   "metadata": {},
   "source": [
    "### Find top 5 magazines with their location (adding optional)\n",
    "P159 headquarters location"
   ]
  },
  {
   "cell_type": "code",
   "execution_count": 15,
   "id": "bc233b71-289e-4507-b52e-71c76fd0c11b",
   "metadata": {},
   "outputs": [
    {
     "name": "stdout",
     "output_type": "stream",
     "text": [
      "Results\n",
      "[('s', 'http://www.wikidata.org/entity/Q180089'), ('title', 'The Economist'), ('followers', '25421540'), ('physicalLocations', 'London')]\n",
      "[('s', 'http://www.wikidata.org/entity/Q43297'), ('title', 'Time'), ('followers', '17806837'), ('physicalLocations', 'Manhattan')]\n",
      "[('s', 'http://www.wikidata.org/entity/Q249838'), ('title', 'Vice'), ('followers', '14500000'), ('physicalLocations', 'New York City')]\n",
      "[('s', 'http://www.wikidata.org/entity/Q485240'), ('title', 'Billboard'), ('followers', '10410725'), ('physicalLocations', 'New York City')]\n",
      "[('s', 'http://www.wikidata.org/entity/Q154008'), ('title', 'Vogue'), ('followers', '9770000'), ('physicalLocations', 'Times Square')]\n"
     ]
    },
    {
     "data": {
      "text/plain": [
       "5"
      ]
     },
     "execution_count": 15,
     "metadata": {},
     "output_type": "execute_result"
    }
   ],
   "source": [
    "queryString = \"\"\"\n",
    "SELECT ?s ?title ?followers (GROUP_CONCAT(DISTINCT ?locatedIn; SEPARATOR = \",\" ) AS ?physicalLocations)\n",
    "WHERE { \n",
    "    ?s wdt:P31/wdt:P279* wd:Q41298  ;\n",
    "       wdt:P1476 ?title ;\n",
    "       wdt:P8687 ?followers ;\n",
    "       wdt:P159 ?located .\n",
    "    OPTIONAL{ ?located <http://schema.org/name> ?locatedIn . }\n",
    "    \n",
    "}\n",
    "GROUP BY ?s ?title ?followers\n",
    "ORDER BY DESC(?followers)\n",
    "LIMIT 5\n",
    "\n",
    "\"\"\"\n",
    "\n",
    "print(\"Results\")\n",
    "run_query(queryString)"
   ]
  },
  {
   "cell_type": "markdown",
   "id": "74475c0d-de1f-4e1f-95e0-b31e37c20416",
   "metadata": {},
   "source": [
    "### Search more details for an entity (take the first one)"
   ]
  },
  {
   "cell_type": "code",
   "execution_count": 16,
   "id": "274278e9-4a75-46d5-a636-9b6110c08127",
   "metadata": {
    "collapsed": true,
    "jupyter": {
     "outputs_hidden": true
    },
    "tags": []
   },
   "outputs": [
    {
     "name": "stdout",
     "output_type": "stream",
     "text": [
      "Results\n",
      "[('pName', 'founded by'), ('oName', 'James Wilson'), ('p', 'http://www.wikidata.org/prop/direct/P112'), ('o', 'http://www.wikidata.org/entity/Q94765')]\n",
      "[('pName', 'publisher'), ('oName', 'Economist Group'), ('p', 'http://www.wikidata.org/prop/direct/P123'), ('o', 'http://www.wikidata.org/entity/Q474153')]\n",
      "[('pName', 'owned by'), ('oName', 'Economist Group'), ('p', 'http://www.wikidata.org/prop/direct/P127'), ('o', 'http://www.wikidata.org/entity/Q474153')]\n",
      "[('pName', 'genre'), ('oName', 'print news magazine'), ('p', 'http://www.wikidata.org/prop/direct/P136'), ('o', 'http://www.wikidata.org/entity/Q1684600')]\n",
      "[('pName', 'headquarters location'), ('oName', 'London'), ('p', 'http://www.wikidata.org/prop/direct/P159'), ('o', 'http://www.wikidata.org/entity/Q84')]\n",
      "[('pName', 'country'), ('oName', 'United Kingdom'), ('p', 'http://www.wikidata.org/prop/direct/P17'), ('o', 'http://www.wikidata.org/entity/Q145')]\n",
      "[('pName', 'place of publication'), ('oName', 'London'), ('p', 'http://www.wikidata.org/prop/direct/P291'), ('o', 'http://www.wikidata.org/entity/Q84')]\n",
      "[('pName', 'instance of'), ('oName', 'magazine'), ('p', 'http://www.wikidata.org/prop/direct/P31'), ('o', 'http://www.wikidata.org/entity/Q41298')]\n",
      "[('pName', 'language of work or name'), ('oName', 'English'), ('p', 'http://www.wikidata.org/prop/direct/P407'), ('o', 'http://www.wikidata.org/entity/Q1860')]\n",
      "[('pName', 'industry'), ('oName', 'journalism'), ('p', 'http://www.wikidata.org/prop/direct/P452'), ('o', 'http://www.wikidata.org/entity/Q11030')]\n",
      "[('pName', 'country of origin'), ('oName', 'United Kingdom'), ('p', 'http://www.wikidata.org/prop/direct/P495'), ('o', 'http://www.wikidata.org/entity/Q145')]\n",
      "[('pName', 'editor-in-chief'), ('oName', 'John Micklethwait'), ('p', 'http://www.wikidata.org/prop/direct/P5769'), ('o', 'http://www.wikidata.org/entity/Q6248692')]\n",
      "[('pName', 'editor-in-chief'), ('oName', 'Zanny Minton Beddoes'), ('p', 'http://www.wikidata.org/prop/direct/P5769'), ('o', 'http://www.wikidata.org/entity/Q8066246')]\n",
      "[('pName', 'indexed in bibliographic review'), ('oName', 'Scopus'), ('p', 'http://www.wikidata.org/prop/direct/P8875'), ('o', 'http://www.wikidata.org/entity/Q371467')]\n",
      "[('pName', \"topic's main category\"), ('oName', 'Category:The Economist'), ('p', 'http://www.wikidata.org/prop/direct/P910'), ('o', 'http://www.wikidata.org/entity/Q8847590')]\n",
      "[('pName', 'main subject'), ('oName', 'politics'), ('p', 'http://www.wikidata.org/prop/direct/P921'), ('o', 'http://www.wikidata.org/entity/Q7163')]\n",
      "[('pName', 'main subject'), ('oName', 'economics'), ('p', 'http://www.wikidata.org/prop/direct/P921'), ('o', 'http://www.wikidata.org/entity/Q8134')]\n",
      "[('pName', 'HathiTrust ID'), ('p', 'http://www.wikidata.org/prop/direct/P1844'), ('o', '000496122')]\n",
      "[('pName', 'HathiTrust ID'), ('p', 'http://www.wikidata.org/prop/direct/P1844'), ('o', '004527529')]\n",
      "[('pName', 'HathiTrust ID'), ('p', 'http://www.wikidata.org/prop/direct/P1844'), ('o', '009037453')]\n",
      "[('pName', 'NLM Unique ID'), ('p', 'http://www.wikidata.org/prop/direct/P1055'), ('o', '9887119')]\n",
      "[('pName', 'Scopus source ID'), ('p', 'http://www.wikidata.org/prop/direct/P1156'), ('o', '24915')]\n",
      "[('pName', 'Gran Enciclopèdia Catalana ID'), ('p', 'http://www.wikidata.org/prop/direct/P1296'), ('o', '0023441')]\n",
      "[('pName', 'Encyclopædia Britannica Online ID'), ('p', 'http://www.wikidata.org/prop/direct/P1417'), ('o', 'topic/The-Economist')]\n",
      "[('pName', 'title'), ('p', 'http://www.wikidata.org/prop/direct/P1476'), ('o', 'The Economist')]\n",
      "[('pName', 'logo image'), ('p', 'http://www.wikidata.org/prop/direct/P154'), ('o', 'http://commons.wikimedia.org/wiki/Special:FilePath/The%20Economist%20Logo.svg')]\n",
      "[('pName', 'image'), ('p', 'http://www.wikidata.org/prop/direct/P18'), ('o', 'http://commons.wikimedia.org/wiki/Special:FilePath/%27The%20Economist%27%20cover%20%28September%208%2C%202001%29.png')]\n",
      "[('pName', 'Twitter username'), ('p', 'http://www.wikidata.org/prop/direct/P2002'), ('o', 'TheEconomist')]\n",
      "[('pName', 'Instagram username'), ('p', 'http://www.wikidata.org/prop/direct/P2003'), ('o', 'theeconomist')]\n",
      "[('pName', 'Facebook ID'), ('p', 'http://www.wikidata.org/prop/direct/P2013'), ('o', 'TheEconomist')]\n",
      "[('pName', 'VIAF ID'), ('p', 'http://www.wikidata.org/prop/direct/P214'), ('o', '132236494')]\n",
      "[('pName', 'GND ID'), ('p', 'http://www.wikidata.org/prop/direct/P227'), ('o', '4184996-6')]\n",
      "[('pName', 'ISSN'), ('p', 'http://www.wikidata.org/prop/direct/P236'), ('o', '0013-0613')]\n",
      "[('pName', 'ISSN'), ('p', 'http://www.wikidata.org/prop/direct/P236'), ('o', '1476-8860')]\n",
      "[('pName', 'YouTube channel ID'), ('p', 'http://www.wikidata.org/prop/direct/P2397'), ('o', 'UC0p5jTq6Xx_DosDFxVXnWaQ')]\n",
      "[('pName', 'OCLC control number'), ('p', 'http://www.wikidata.org/prop/direct/P243'), ('o', '531780543')]\n",
      "[('pName', 'Google+ ID'), ('p', 'http://www.wikidata.org/prop/direct/P2847'), ('o', '+TheEconomist')]\n",
      "[('pName', 'publication interval'), ('p', 'http://www.wikidata.org/prop/direct/P2896'), ('o', '1')]\n",
      "[('pName', 'Great Russian Encyclopedia Online ID'), ('p', 'http://www.wikidata.org/prop/direct/P2924'), ('o', '4927057')]\n",
      "[('pName', 'Encyclopædia Universalis ID'), ('p', 'http://www.wikidata.org/prop/direct/P3219'), ('o', 'the-economist')]\n",
      "[('pName', 'Quora topic ID'), ('p', 'http://www.wikidata.org/prop/direct/P3417'), ('o', 'The-Economist-magazine')]\n",
      "[('pName', 'Commons category'), ('p', 'http://www.wikidata.org/prop/direct/P373'), ('o', 'The Economist')]\n",
      "[('pName', 'Pinterest username'), ('p', 'http://www.wikidata.org/prop/direct/P3836'), ('o', 'theeconomist')]\n",
      "[('pName', 'LinkedIn company ID'), ('p', 'http://www.wikidata.org/prop/direct/P4264'), ('o', 'the-economist')]\n",
      "[('pName', 'Online Books Page publication ID'), ('p', 'http://www.wikidata.org/prop/direct/P5396'), ('o', 'economist')]\n",
      "[('pName', 'inception'), ('p', 'http://www.wikidata.org/prop/direct/P571'), ('o', '1843-01-01T00:00:00Z')]\n",
      "[('pName', 'Freebase ID'), ('p', 'http://www.wikidata.org/prop/direct/P646'), ('o', '/m/0dblm')]\n",
      "[('pName', 'TV Tropes identifier'), ('p', 'http://www.wikidata.org/prop/direct/P6839'), ('o', 'Magazine/TheEconomist')]\n",
      "[('pName', 'ISSN-L'), ('p', 'http://www.wikidata.org/prop/direct/P7363'), ('o', '0013-0613')]\n",
      "[('pName', 'WorldCat Identities ID'), ('p', 'http://www.wikidata.org/prop/direct/P7859'), ('o', 'viaf-132236494')]\n",
      "[('pName', 'KBpedia ID'), ('p', 'http://www.wikidata.org/prop/direct/P8408'), ('o', 'TheEconomist-TheMagazine')]\n",
      "[('pName', 'official website'), ('p', 'http://www.wikidata.org/prop/direct/P856'), ('o', 'http://economist.com')]\n",
      "[('pName', 'official website'), ('p', 'http://www.wikidata.org/prop/direct/P856'), ('o', 'https://www.economist.com')]\n",
      "[('pName', 'social media followers'), ('p', 'http://www.wikidata.org/prop/direct/P8687'), ('o', '1970000')]\n",
      "[('pName', 'social media followers'), ('p', 'http://www.wikidata.org/prop/direct/P8687'), ('o', '25421540')]\n",
      "[('pName', 'HAL journal ID'), ('p', 'http://www.wikidata.org/prop/direct/P8903'), ('o', '4490')]\n",
      "[('pName', 'Muck Rack media outlet ID'), ('p', 'http://www.wikidata.org/prop/direct/P9035'), ('o', 'economist')]\n",
      "[('pName', 'GitHub topic'), ('p', 'http://www.wikidata.org/prop/direct/P9100'), ('o', 'the-economist')]\n",
      "[('pName', 'Armeniapedia ID'), ('p', 'http://www.wikidata.org/prop/direct/P9629'), ('o', '16145')]\n",
      "[('pName', 'spoken text audio'), ('p', 'http://www.wikidata.org/prop/direct/P989'), ('o', 'http://commons.wikimedia.org/wiki/Special:FilePath/The%20Economist.ogg')]\n",
      "[('pName', 'Tumblr username'), ('p', 'http://www.wikidata.org/prop/direct/P3943'), ('o', 'theeconomist')]\n",
      "[('pName', 'Mir@bel journal ID'), ('p', 'http://www.wikidata.org/prop/direct/P4730'), ('o', '184')]\n",
      "[('p', 'http://www.w3.org/1999/02/22-rdf-syntax-ns#type'), ('o', 'http://wikiba.se/ontology#Item')]\n",
      "[('p', 'http://www.wikidata.org/prop/direct-normalized/P214'), ('o', 'http://viaf.org/viaf/132236494')]\n",
      "[('p', 'http://www.wikidata.org/prop/direct-normalized/P227'), ('o', 'https://d-nb.info/gnd/4184996-6')]\n",
      "[('p', 'http://www.wikidata.org/prop/direct-normalized/P236'), ('o', 'urn:ISSN:0013-0613')]\n",
      "[('p', 'http://www.wikidata.org/prop/direct-normalized/P236'), ('o', 'urn:ISSN:1476-8860')]\n",
      "[('p', 'http://www.wikidata.org/prop/direct-normalized/P243'), ('o', 'http://www.worldcat.org/oclc/531780543')]\n",
      "[('p', 'http://www.wikidata.org/prop/direct-normalized/P646'), ('o', 'http://g.co/kg/m/0dblm')]\n",
      "[('p', 'http://www.wikidata.org/prop/direct-normalized/P8408'), ('o', 'http://kbpedia.org/kko/rc/TheEconomist-TheMagazine')]\n",
      "[('p', 'http://schema.org/name'), ('o', 'The Economist')]\n"
     ]
    },
    {
     "data": {
      "text/plain": [
       "71"
      ]
     },
     "execution_count": 16,
     "metadata": {},
     "output_type": "execute_result"
    }
   ],
   "source": [
    "queryString = \"\"\"\n",
    "SELECT DISTINCT ?pName ?oName ?p ?o\n",
    "WHERE { \n",
    "    wd:Q180089 ?p ?o\n",
    "    OPTIONAL {?p sc:name ?pName}\n",
    "    OPTIONAL {?o sc:name ?oName}\n",
    "    \n",
    "}\n",
    "\n",
    "\"\"\"\n",
    "\n",
    "print(\"Results\")\n",
    "run_query(queryString)"
   ]
  },
  {
   "cell_type": "markdown",
   "id": "e298dbe3-2691-48e5-95ad-1460a49225d0",
   "metadata": {},
   "source": [
    "### Find top 5 magazines with their physical location and publication place\n",
    "P159 headquarters location\n",
    "\n",
    "P291 publication place"
   ]
  },
  {
   "cell_type": "code",
   "execution_count": 17,
   "id": "1a299f58-688c-40e7-ac5f-1364857bf943",
   "metadata": {},
   "outputs": [
    {
     "name": "stdout",
     "output_type": "stream",
     "text": [
      "Results\n",
      "[('title', 'The Economist'), ('followers', '25421540'), ('physicalLocations', 'London'), ('publicationPlace', 'London')]\n",
      "[('title', 'Time'), ('followers', '17806837'), ('physicalLocations', 'Manhattan'), ('publicationPlace', 'New York City')]\n",
      "[('title', 'GQ'), ('followers', '6280000'), ('physicalLocations', 'New York City'), ('publicationPlace', 'New York City')]\n",
      "[('title', \"Gentlemen's Quarterly\"), ('followers', '6280000'), ('physicalLocations', 'New York City'), ('publicationPlace', 'New York City')]\n",
      "[('title', 'Apparel Arts'), ('followers', '6280000'), ('physicalLocations', 'New York City'), ('publicationPlace', 'New York City')]\n"
     ]
    },
    {
     "data": {
      "text/plain": [
       "5"
      ]
     },
     "execution_count": 17,
     "metadata": {},
     "output_type": "execute_result"
    }
   ],
   "source": [
    "queryString = \"\"\"\n",
    "SELECT ?title ?followers (GROUP_CONCAT(DISTINCT ?locatedIn; SEPARATOR = \",\" ) AS ?physicalLocations) ?publicationPlace\n",
    "WHERE { \n",
    "    ?s wdt:P31/wdt:P279* wd:Q41298  ;\n",
    "       wdt:P1476 ?title ;\n",
    "       wdt:P8687 ?followers ;\n",
    "       wdt:P159 ?located ;\n",
    "       wdt:P291 ?publicationPlaceURI .\n",
    "    OPTIONAL{ ?located <http://schema.org/name> ?locatedIn . }\n",
    "    OPTIONAL{ ?publicationPlaceURI sc:name ?publicationPlace }\n",
    "    \n",
    "}\n",
    "GROUP BY ?s ?title ?followers ?publicationPlace\n",
    "ORDER BY DESC(?followers)\n",
    "LIMIT 5\n",
    "\n",
    "\"\"\"\n",
    "\n",
    "print(\"Results\")\n",
    "run_query(queryString)"
   ]
  },
  {
   "cell_type": "markdown",
   "id": "8b7030dc-bf73-4235-b1ee-e3060a83e44e",
   "metadata": {},
   "source": [
    "### Find top 5 magazines with their physical location and publication place\n",
    "P159 headquarters location\n",
    "\n",
    "P291 publication place\n",
    "\n",
    "P276 location \n",
    "\n",
    "P101 field of works\n",
    "\n",
    "P921 main subject"
   ]
  },
  {
   "cell_type": "code",
   "execution_count": 18,
   "id": "24673857-ad8e-4c6c-91e9-219eea59c7a8",
   "metadata": {},
   "outputs": [
    {
     "name": "stdout",
     "output_type": "stream",
     "text": [
      "Results\n",
      "Empty\n"
     ]
    },
    {
     "data": {
      "text/plain": [
       "0"
      ]
     },
     "execution_count": 18,
     "metadata": {},
     "output_type": "execute_result"
    }
   ],
   "source": [
    "queryString = \"\"\"\n",
    "SELECT ?title ?followers ?location (GROUP_CONCAT(DISTINCT ?locatedIn; SEPARATOR = \",\" ) AS ?physicalLocations) ?publicationPlace\n",
    "WHERE { \n",
    "    ?s wdt:P31/wdt:P279* wd:Q41298  ;\n",
    "       wdt:P1476 ?title ;\n",
    "       wdt:P8687 ?followers ;\n",
    "       wdt:P159 ?located ;\n",
    "       wdt:P276 ?locationURI ;\n",
    "       wdt:P291 ?publicationPlaceURI .\n",
    "    OPTIONAL{ ?located sc:name ?locatedIn . }\n",
    "    OPTIONAL{ ?locationURI sc:name ?location . }\n",
    "    OPTIONAL{ ?publicationPlaceURI sc:name ?publicationPlace }\n",
    "    \n",
    "}\n",
    "GROUP BY ?s ?title ?followers ?publicationPlace ?location\n",
    "ORDER BY DESC(?followers)\n",
    "LIMIT 5\n",
    "\n",
    "\"\"\"\n",
    "\n",
    "print(\"Results\")\n",
    "run_query(queryString)"
   ]
  },
  {
   "cell_type": "markdown",
   "id": "42ad283d-a54d-4279-beaa-6b6348cc2481",
   "metadata": {
    "tags": []
   },
   "source": [
    "### Find top 5 magazines with their physical location and publication place\n",
    "P159 headquarters location\n",
    "\n",
    "P291 publication place\n",
    "\n",
    "P101 field of works\n",
    "\n",
    "P921 main subject"
   ]
  },
  {
   "cell_type": "code",
   "execution_count": 19,
   "id": "61f48e6f-591f-4eb9-bbf6-2cd26e215be3",
   "metadata": {},
   "outputs": [
    {
     "name": "stdout",
     "output_type": "stream",
     "text": [
      "Results\n",
      "[('title', 'Time'), ('followers', '17806837'), ('physicalLocations', 'Manhattan'), ('publicationPlace', 'New York City'), ('mainSubjects', 'news'), ('fields', 'news')]\n",
      "[('title', 'GQ'), ('followers', '6280000'), ('physicalLocations', 'New York City'), ('publicationPlace', 'New York City'), ('mainSubjects', \"list of men's magazines\"), ('fields', 'lifestyle')]\n",
      "[('title', \"Gentlemen's Quarterly\"), ('followers', '6280000'), ('physicalLocations', 'New York City'), ('publicationPlace', 'New York City'), ('mainSubjects', \"list of men's magazines\"), ('fields', 'lifestyle')]\n",
      "[('title', 'Apparel Arts'), ('followers', '6280000'), ('physicalLocations', 'New York City'), ('publicationPlace', 'New York City'), ('mainSubjects', \"list of men's magazines\"), ('fields', 'lifestyle')]\n",
      "[('title', 'Scientific American'), ('followers', '3964337'), ('physicalLocations', 'Los Angeles'), ('publicationPlace', 'New York City'), ('mainSubjects', 'popular science'), ('fields', 'history')]\n"
     ]
    },
    {
     "data": {
      "text/plain": [
       "5"
      ]
     },
     "execution_count": 19,
     "metadata": {},
     "output_type": "execute_result"
    }
   ],
   "source": [
    "queryString = \"\"\"\n",
    "SELECT ?title ?followers ?location (GROUP_CONCAT(DISTINCT ?locatedIn; SEPARATOR = \",\" ) AS ?physicalLocations) ?publicationPlace \n",
    "(GROUP_CONCAT(DISTINCT ?subject; SEPARATOR = \",\" ) AS ?mainSubjects) (GROUP_CONCAT(DISTINCT ?fieldName; SEPARATOR = \",\" ) AS ?fields)\n",
    "WHERE { \n",
    "    ?s wdt:P31/wdt:P279* wd:Q41298  ;\n",
    "       wdt:P1476 ?title ;\n",
    "       wdt:P8687 ?followers ;\n",
    "       wdt:P159 ?located ;\n",
    "       wdt:P291 ?publicationPlaceURI ;\n",
    "       wdt:P921 ?mainSubject ;\n",
    "       wdt:P101 ?field .\n",
    "    OPTIONAL{ ?located sc:name ?locatedIn . }\n",
    "    OPTIONAL{ ?publicationPlaceURI sc:name ?publicationPlace }\n",
    "    OPTIONAL{ ?mainSubject sc:name ?subject }\n",
    "    OPTIONAL{ ?field sc:name ?fieldName }\n",
    "    \n",
    "}\n",
    "GROUP BY ?s ?title ?followers ?publicationPlace ?location\n",
    "ORDER BY DESC(?followers)\n",
    "LIMIT 5\n",
    "\n",
    "\"\"\"\n",
    "\n",
    "print(\"Results\")\n",
    "run_query(queryString)"
   ]
  },
  {
   "cell_type": "markdown",
   "id": "3ef1a63d-3759-4dd7-aaad-0ea68708f206",
   "metadata": {},
   "source": [
    "### Find top 5 magazines with their physical location and publication place\n",
    "P101 field of works"
   ]
  },
  {
   "cell_type": "code",
   "execution_count": 20,
   "id": "c59e83b7-09e7-4d18-8c92-fdae9a4282bb",
   "metadata": {},
   "outputs": [
    {
     "name": "stdout",
     "output_type": "stream",
     "text": [
      "Results\n",
      "[('title', 'Time'), ('followers', '17806837'), ('physicalLocations', 'Manhattan'), ('publicationPlace', 'New York City'), ('fields', 'news')]\n",
      "[('title', 'GQ'), ('followers', '6280000'), ('physicalLocations', 'New York City'), ('publicationPlace', 'New York City'), ('fields', 'lifestyle')]\n",
      "[('title', \"Gentlemen's Quarterly\"), ('followers', '6280000'), ('physicalLocations', 'New York City'), ('publicationPlace', 'New York City'), ('fields', 'lifestyle')]\n",
      "[('title', 'Apparel Arts'), ('followers', '6280000'), ('physicalLocations', 'New York City'), ('publicationPlace', 'New York City'), ('fields', 'lifestyle')]\n",
      "[('title', 'Scientific American'), ('followers', '3964337'), ('physicalLocations', 'Los Angeles'), ('publicationPlace', 'New York City'), ('fields', 'history')]\n"
     ]
    },
    {
     "data": {
      "text/plain": [
       "5"
      ]
     },
     "execution_count": 20,
     "metadata": {},
     "output_type": "execute_result"
    }
   ],
   "source": [
    "queryString = \"\"\"\n",
    "SELECT ?title ?followers ?location (GROUP_CONCAT(DISTINCT ?locatedIn; SEPARATOR = \",\" ) AS ?physicalLocations) ?publicationPlace \n",
    "(GROUP_CONCAT(DISTINCT ?fieldName; SEPARATOR = \",\" ) AS ?fields)\n",
    "WHERE { \n",
    "    ?s wdt:P31/wdt:P279* wd:Q41298  ;\n",
    "       wdt:P1476 ?title ;\n",
    "       wdt:P8687 ?followers ;\n",
    "       wdt:P159 ?located ;\n",
    "       wdt:P291 ?publicationPlaceURI ;\n",
    "       wdt:P101 ?field .\n",
    "    OPTIONAL{ ?located sc:name ?locatedIn . }\n",
    "    OPTIONAL{ ?publicationPlaceURI sc:name ?publicationPlace }\n",
    "    OPTIONAL{ ?field sc:name ?fieldName }\n",
    "    \n",
    "}\n",
    "GROUP BY ?s ?title ?followers ?publicationPlace ?location\n",
    "ORDER BY DESC(?followers)\n",
    "LIMIT 5\n",
    "\n",
    "\"\"\"\n",
    "\n",
    "print(\"Results\")\n",
    "run_query(queryString)"
   ]
  },
  {
   "cell_type": "markdown",
   "id": "4ef8ce35-0401-4065-a7d7-2647c92d510d",
   "metadata": {},
   "source": [
    "### Find top 5 magazines with their physical location and publication place\n",
    "P921 main subject"
   ]
  },
  {
   "cell_type": "code",
   "execution_count": 21,
   "id": "62139ea7-0575-49f8-aeb7-a85911d1a5a1",
   "metadata": {},
   "outputs": [
    {
     "name": "stdout",
     "output_type": "stream",
     "text": [
      "Results\n",
      "[('title', 'The Economist'), ('followers', '25421540'), ('physicalLocations', 'London'), ('publicationPlace', 'London'), ('mainSubjects', 'economics,politics')]\n",
      "[('title', 'Time'), ('followers', '17806837'), ('physicalLocations', 'Manhattan'), ('publicationPlace', 'New York City'), ('mainSubjects', 'news')]\n",
      "[('title', 'GQ'), ('followers', '6280000'), ('physicalLocations', 'New York City'), ('publicationPlace', 'New York City'), ('mainSubjects', \"list of men's magazines\")]\n",
      "[('title', \"Gentlemen's Quarterly\"), ('followers', '6280000'), ('physicalLocations', 'New York City'), ('publicationPlace', 'New York City'), ('mainSubjects', \"list of men's magazines\")]\n",
      "[('title', 'Apparel Arts'), ('followers', '6280000'), ('physicalLocations', 'New York City'), ('publicationPlace', 'New York City'), ('mainSubjects', \"list of men's magazines\")]\n"
     ]
    },
    {
     "data": {
      "text/plain": [
       "5"
      ]
     },
     "execution_count": 21,
     "metadata": {},
     "output_type": "execute_result"
    }
   ],
   "source": [
    "queryString = \"\"\"\n",
    "\n",
    "SELECT ?title ?followers ?location (GROUP_CONCAT(DISTINCT ?locatedIn; SEPARATOR = \",\" ) AS ?physicalLocations) ?publicationPlace \n",
    "(GROUP_CONCAT(DISTINCT ?subject; SEPARATOR = \",\" ) AS ?mainSubjects)\n",
    "WHERE { \n",
    "    ?s wdt:P31/wdt:P279* wd:Q41298  ;\n",
    "       wdt:P1476 ?title ;\n",
    "       wdt:P8687 ?followers ;\n",
    "       wdt:P159 ?located ;\n",
    "       wdt:P291 ?publicationPlaceURI ;\n",
    "       wdt:P921 ?mainSubject .\n",
    "    OPTIONAL{ ?located sc:name ?locatedIn . }\n",
    "    OPTIONAL{ ?publicationPlaceURI sc:name ?publicationPlace }\n",
    "    OPTIONAL{ ?mainSubject sc:name ?subject }\n",
    "    \n",
    "}\n",
    "GROUP BY ?s ?title ?followers ?publicationPlace ?location\n",
    "ORDER BY DESC(?followers)\n",
    "LIMIT 5\n",
    "\n",
    "\"\"\"\n",
    "\n",
    "print(\"Results\")\n",
    "run_query(queryString)"
   ]
  },
  {
   "cell_type": "markdown",
   "id": "3713a1d6-5fc1-4108-a68d-d8705021e03d",
   "metadata": {},
   "source": [
    "### Result part 2\n",
    "In this section we can see that the top 5 magazines are changed in the different queries due to the fact that not all the information for the entities are always available"
   ]
  },
  {
   "cell_type": "markdown",
   "id": "b2fdca2c-3d5b-4eae-aba2-8704612232a3",
   "metadata": {},
   "source": [
    "## Part 3\n",
    "### Compare the number of followers with the top three US magazines writing mainly about sports"
   ]
  },
  {
   "cell_type": "markdown",
   "id": "70593d1c-bb55-4c49-8d21-130066c9bcdc",
   "metadata": {},
   "source": [
    "### Search US magazines and their topics"
   ]
  },
  {
   "cell_type": "code",
   "execution_count": 22,
   "id": "376fb14b-9228-459f-a67c-8fa846dd36b7",
   "metadata": {},
   "outputs": [
    {
     "name": "stdout",
     "output_type": "stream",
     "text": [
      "Results\n",
      "[('title', 'Time'), ('followers', '17806837'), ('arguments', 'news')]\n",
      "[('title', 'Billboard'), ('followers', '10410725'), ('arguments', 'entertainment')]\n",
      "[('title', 'Wired'), ('followers', '7900000'), ('arguments', 'business, computer magazine, cultural magazine, culture, entertainment, information technology, lifestyle, lifestyle magazine, popular science magazine')]\n",
      "[('title', \"Gentlemen's Quarterly\"), ('followers', '6280000'), ('arguments', \"list of men's magazines, men's magazine\")]\n",
      "[('title', 'Apparel Arts'), ('followers', '6280000'), ('arguments', \"list of men's magazines, men's magazine\")]\n",
      "[('title', 'GQ'), ('followers', '6280000'), ('arguments', \"list of men's magazines, men's magazine\")]\n",
      "[('title', 'Harvard Business Review'), ('followers', '5663315'), ('arguments', 'economics')]\n",
      "[('title', 'Life'), ('followers', '4231609'), ('arguments', 'humour')]\n",
      "[('title', 'Game informer magazine'), ('followers', '2334969'), ('arguments', 'video game, video game magazine')]\n",
      "[('title', 'Game Informer'), ('followers', '2334969'), ('arguments', 'video game, video game magazine')]\n",
      "[('title', 'Fortune'), ('followers', '2291040'), ('arguments', 'economics')]\n",
      "[('title', 'The New York Review of Books'), ('followers', '2289660'), ('arguments', 'literature')]\n",
      "[('title', 'PC Gamer'), ('followers', '2172466'), ('arguments', 'video game, video game magazine')]\n",
      "[('title', 'Playboy'), ('followers', '1480000'), ('arguments', \"men's magazine\")]\n",
      "[('title', 'Foreign Policy'), ('followers', '1157673'), ('arguments', 'international relations')]\n",
      "[('title', 'Car and Driver'), ('followers', '1120120'), ('arguments', 'automobile magazine, motor car')]\n",
      "[('title', \"Joe Weider's muscle & fitness\"), ('followers', '1043870'), ('arguments', 'physical fitness')]\n",
      "[('title', 'Muscle & Fitness'), ('followers', '1043870'), ('arguments', 'physical fitness')]\n",
      "[('title', 'The Paris Review'), ('followers', '997409'), ('arguments', 'art')]\n",
      "[('title', 'Adult Video Network'), ('followers', '888493'), ('arguments', 'pornography')]\n"
     ]
    },
    {
     "data": {
      "text/plain": [
       "20"
      ]
     },
     "execution_count": 22,
     "metadata": {},
     "output_type": "execute_result"
    }
   ],
   "source": [
    "queryString = \"\"\"\n",
    "SELECT ?title ?followers (GROUP_CONCAT(DISTINCT ?argumentName; SEPARATOR=\", \")  AS ?arguments)\n",
    "WHERE { \n",
    "    ?s wdt:P17 wd:Q30 ;\n",
    "       wdt:P31/wdt:P279* wd:Q41298  ;\n",
    "       wdt:P1476 ?title ;\n",
    "       wdt:P8687 ?followers ;\n",
    "       (wdt:P136 | wdt:P921 ) ?argument .\n",
    "    ?argument sc:name ?argumentName .\n",
    "       \n",
    "}\n",
    "GROUP BY ?title ?followers\n",
    "ORDER BY DESC(?followers)\n",
    "LIMIT 20\n",
    "\n",
    "\"\"\"\n",
    "\n",
    "print(\"Results\")\n",
    "run_query(queryString)"
   ]
  },
  {
   "cell_type": "markdown",
   "id": "0b35b987-b89a-4e7f-a9da-778b0def85d6",
   "metadata": {},
   "source": [
    "### Search US magazines and their topics\n",
    "Filtering only sports magazinesP101"
   ]
  },
  {
   "cell_type": "code",
   "execution_count": 23,
   "id": "11313624-6712-4c1a-b8b7-ecdb76a0b9dc",
   "metadata": {},
   "outputs": [
    {
     "name": "stdout",
     "output_type": "stream",
     "text": [
      "Results\n",
      "[('s', 'http://www.wikidata.org/entity/Q3108681'), ('title', 'Track & field news'), ('followers', '144716'), ('arguments', 'sports magazine')]\n",
      "[('s', 'http://www.wikidata.org/entity/Q1140774'), ('title', 'The Ring'), ('followers', '104600'), ('arguments', 'sports magazine')]\n"
     ]
    },
    {
     "data": {
      "text/plain": [
       "2"
      ]
     },
     "execution_count": 23,
     "metadata": {},
     "output_type": "execute_result"
    }
   ],
   "source": [
    "queryString = \"\"\"\n",
    "SELECT ?s ?title ?followers (GROUP_CONCAT(DISTINCT ?argumentName; SEPARATOR=\", \")  AS ?arguments)\n",
    "WHERE { \n",
    "    ?s wdt:P17 wd:Q30 ;\n",
    "       wdt:P31/wdt:P279* wd:Q41298  ;\n",
    "       wdt:P1476 ?title ;\n",
    "       wdt:P8687 ?followers ;\n",
    "       (wdt:P136 | wdt:P921 ) ?argument .\n",
    "    ?argument sc:name ?argumentName .\n",
    "    \n",
    "    FILTER regex(?argumentName, \".*[Ss]port.*\")\n",
    "       \n",
    "}\n",
    "GROUP BY ?s ?title ?followers\n",
    "ORDER BY DESC(?followers)\n",
    "\n",
    "\n",
    "\"\"\"\n",
    "\n",
    "print(\"Results\")\n",
    "run_query(queryString)"
   ]
  },
  {
   "cell_type": "markdown",
   "id": "6ccc932c-5270-4dbb-9f6b-660ca80d2f56",
   "metadata": {},
   "source": [
    "### Search US magazines and their topics\n",
    "Filtering only sports magazines\n",
    "\n",
    "Try adding P101 field of work"
   ]
  },
  {
   "cell_type": "code",
   "execution_count": 24,
   "id": "c22c5137-5497-454c-bbb5-8ce878afa0ed",
   "metadata": {},
   "outputs": [
    {
     "name": "stdout",
     "output_type": "stream",
     "text": [
      "Results\n",
      "[('title', 'Track & field news'), ('followers', '144716'), ('arguments', 'sports magazine')]\n",
      "[('title', 'The Ring'), ('followers', '104600'), ('arguments', 'sports magazine')]\n",
      "[('title', 'Journal of Transport and Land Use'), ('arguments', 'transportation engineering')]\n",
      "[('title', 'The orthopaedic journal of sports medicine'), ('arguments', 'sports medicine')]\n",
      "[('title', 'Official Railway Guide'), ('arguments', 'rail transport in the United States')]\n",
      "[('title', 'SPORT'), ('arguments', 'sports magazine')]\n",
      "[('title', 'Orthopaedic journal of sports medicine'), ('arguments', 'sports medicine')]\n",
      "[('title', 'Sport, Exercise, and Performance Psychology'), ('arguments', 'sport psychology')]\n",
      "[('title', 'Soccer America'), ('arguments', 'sport')]\n",
      "[('title', 'USA Today Sports Weekly'), ('arguments', 'sports magazine')]\n",
      "[('title', 'The Official railway guide'), ('arguments', 'rail transport in the United States')]\n"
     ]
    },
    {
     "data": {
      "text/plain": [
       "11"
      ]
     },
     "execution_count": 24,
     "metadata": {},
     "output_type": "execute_result"
    }
   ],
   "source": [
    "queryString = \"\"\"\n",
    "SELECT ?title ?followers (GROUP_CONCAT(DISTINCT ?argumentName; SEPARATOR=\", \")  AS ?arguments)\n",
    "WHERE { \n",
    "    ?s wdt:P17 wd:Q30 ;\n",
    "       wdt:P31/wdt:P279* wd:Q41298  ;\n",
    "       wdt:P1476 ?title ;\n",
    "       (wdt:P136 | wdt:P921 | wdt:P101 ) ?argument .\n",
    "    ?argument sc:name ?argumentName .\n",
    "    \n",
    "    OPTIONAL{ ?s wdt:P8687 ?followers .}\n",
    "    \n",
    "    FILTER regex(?argumentName, \".*[Ss]port.*\")\n",
    "       \n",
    "}\n",
    "GROUP BY ?title ?followers\n",
    "ORDER BY DESC(?followers)\n",
    "\n",
    "\"\"\"\n",
    "\n",
    "print(\"Results\")\n",
    "run_query(queryString)"
   ]
  },
  {
   "cell_type": "markdown",
   "id": "c04e3ef8-47fc-4112-9a19-772a5fb65503",
   "metadata": {},
   "source": [
    "### Adjust regex"
   ]
  },
  {
   "cell_type": "code",
   "execution_count": 25,
   "id": "9dea8db5-c800-48fd-88be-6017c364a776",
   "metadata": {},
   "outputs": [
    {
     "name": "stdout",
     "output_type": "stream",
     "text": [
      "Results\n",
      "[('title', 'The orthopaedic journal of sports medicine'), ('arguments', 'sports medicine')]\n",
      "[('title', 'The Ring'), ('arguments', 'sports magazine')]\n",
      "[('title', 'SPORT'), ('arguments', 'sports magazine')]\n",
      "[('title', 'Orthopaedic journal of sports medicine'), ('arguments', 'sports medicine')]\n",
      "[('title', 'Sport, Exercise, and Performance Psychology'), ('arguments', 'sport psychology')]\n",
      "[('title', 'Soccer America'), ('arguments', 'sport')]\n",
      "[('title', 'Track & field news'), ('arguments', 'sports magazine')]\n",
      "[('title', 'USA Today Sports Weekly'), ('arguments', 'sports magazine')]\n"
     ]
    },
    {
     "data": {
      "text/plain": [
       "8"
      ]
     },
     "execution_count": 25,
     "metadata": {},
     "output_type": "execute_result"
    }
   ],
   "source": [
    "queryString = \"\"\"\n",
    "SELECT ?title (GROUP_CONCAT(DISTINCT ?argumentName; SEPARATOR=\", \")  AS ?arguments)\n",
    "WHERE { \n",
    "    ?s wdt:P17 wd:Q30 ;\n",
    "       wdt:P31/wdt:P279* wd:Q41298  ;\n",
    "       wdt:P1476 ?title ;\n",
    "       (wdt:P136 | wdt:P921 | wdt:P101 ) ?argument .\n",
    "    ?argument sc:name ?argumentName .\n",
    "    \n",
    "    FILTER regex(?argumentName, \"^[Ss]port.*\")\n",
    "       \n",
    "}\n",
    "GROUP BY ?title \n",
    "\n",
    "\"\"\"\n",
    "\n",
    "print(\"Results\")\n",
    "run_query(queryString)"
   ]
  },
  {
   "cell_type": "markdown",
   "id": "ca65c6be-2956-41fe-be81-e6b1ee4cf2a1",
   "metadata": {},
   "source": [
    "### Add followers with OPTIONAL and also title"
   ]
  },
  {
   "cell_type": "code",
   "execution_count": 26,
   "id": "2d81b191-01e5-480b-a87a-3d71170e1d17",
   "metadata": {},
   "outputs": [
    {
     "name": "stdout",
     "output_type": "stream",
     "text": [
      "Results\n",
      "[('title', 'Track & field news'), ('followers', '144716'), ('arguments', 'sports magazine')]\n",
      "[('title', 'The Ring'), ('followers', '104600'), ('arguments', 'sports magazine')]\n",
      "[('title', 'The orthopaedic journal of sports medicine'), ('arguments', 'sports medicine')]\n",
      "[('title', 'SPORT'), ('arguments', 'sports magazine')]\n",
      "[('title', 'Orthopaedic journal of sports medicine'), ('arguments', 'sports medicine')]\n"
     ]
    },
    {
     "data": {
      "text/plain": [
       "5"
      ]
     },
     "execution_count": 26,
     "metadata": {},
     "output_type": "execute_result"
    }
   ],
   "source": [
    "queryString = \"\"\"\n",
    "SELECT ?title ?followers (GROUP_CONCAT(DISTINCT ?argumentName; SEPARATOR=\", \")  AS ?arguments)\n",
    "WHERE { \n",
    "    ?s wdt:P17 wd:Q30 ;\n",
    "       wdt:P31/wdt:P279* wd:Q41298  ;\n",
    "       wdt:P1476 ?title ;\n",
    "       (wdt:P136 | wdt:P921 | wdt:P101) ?argument .\n",
    "    OPTIONAL{?s wdt:P8687 ?followers .}\n",
    "    ?argument sc:name ?argumentName .\n",
    "    \n",
    "    FILTER regex(?argumentName, \"^[Ss]port*\")\n",
    "       \n",
    "}\n",
    "GROUP BY ?title ?followers\n",
    "ORDER BY DESC(?followers)\n",
    "LIMIT 5\n",
    "\"\"\"\n",
    "\n",
    "print(\"Results\")\n",
    "run_query(queryString)"
   ]
  },
  {
   "cell_type": "markdown",
   "id": "cd69c784-9292-4774-a29f-9fc11f39bf10",
   "metadata": {
    "tags": []
   },
   "source": [
    "### Try to reach also other megazine without information  wdt:P136, wdt:P921, wdt:P101"
   ]
  },
  {
   "cell_type": "code",
   "execution_count": 27,
   "id": "7954e28d-5943-4365-a86e-0ddca3a606b5",
   "metadata": {},
   "outputs": [
    {
     "name": "stdout",
     "output_type": "stream",
     "text": [
      "Results\n",
      "[('title', 'The Hollywood Reporter'), ('followers', '3280311')]\n",
      "[('title', 'Inc.'), ('followers', '2799617')]\n",
      "[('title', 'Inc'), ('followers', '2799617')]\n",
      "[('title', 'The Atlantic Monthly'), ('followers', '2079799')]\n",
      "[('title', 'The Atlantic'), ('followers', '2079799')]\n",
      "[('title', 'New York'), ('followers', '1814011')]\n",
      "[('title', 'Allure'), ('followers', '1680000')]\n",
      "[('title', 'The Nation'), ('followers', '1279061')]\n",
      "[('title', 'Golf digest'), ('followers', '897948')]\n",
      "[('title', 'The intercept'), ('followers', '860009')]\n",
      "[('title', 'Publishers Weekly'), ('followers', '804981')]\n",
      "[('title', 'The publishers weekly'), ('followers', '804981')]\n",
      "[('title', 'mental_floss'), ('followers', '775504')]\n",
      "[('title', 'Mental floss'), ('followers', '775504')]\n",
      "[('title', 'High Times'), ('followers', '723587')]\n",
      "[('title', 'Psychology Today'), ('followers', '698339')]\n",
      "[('title', 'Penthouse'), ('followers', '690392')]\n",
      "[('title', 'The FADER'), ('followers', '669320')]\n",
      "[('title', 'The FADER'), ('followers', '651000')]\n",
      "[('title', 'Atlanta'), ('followers', '494112')]\n"
     ]
    },
    {
     "data": {
      "text/plain": [
       "20"
      ]
     },
     "execution_count": 27,
     "metadata": {},
     "output_type": "execute_result"
    }
   ],
   "source": [
    "queryString = \"\"\"\n",
    "SELECT ?title ?followers\n",
    "WHERE { \n",
    "    ?s wdt:P17 wd:Q30 ;\n",
    "       wdt:P31/wdt:P279* wd:Q41298 ;\n",
    "       wdt:P1476 ?title . \n",
    "    OPTIONAL{?s wdt:P8687 ?followers .}\n",
    "    \n",
    "    FILTER NOT EXISTS { ?s (wdt:P136 | wdt:P921 | wdt:P101) ?argument . }\n",
    "}\n",
    "GROUP BY ?title ?followers\n",
    "ORDER BY DESC(?followers)\n",
    "LIMIT 20\n",
    "\"\"\"\n",
    "\n",
    "print(\"Results\")\n",
    "run_query(queryString)"
   ]
  },
  {
   "cell_type": "markdown",
   "id": "88666bd7-c178-444a-a198-54198286a964",
   "metadata": {},
   "source": [
    "### Add filter regex on titles"
   ]
  },
  {
   "cell_type": "code",
   "execution_count": 28,
   "id": "a50c6c3b-2d22-4e2c-97aa-8a13ec692c96",
   "metadata": {},
   "outputs": [
    {
     "name": "stdout",
     "output_type": "stream",
     "text": [
      "Results\n",
      "[('title', 'Sports Illustrated'), ('followers', '357000')]\n",
      "[('title', 'Index to the Sporting news'), ('followers', '225834')]\n",
      "[('title', 'Sporting News'), ('followers', '225834')]\n",
      "[('title', 'Sports illustrated for kids')]\n",
      "[('title', 'Sports Illustrated Kids')]\n"
     ]
    },
    {
     "data": {
      "text/plain": [
       "5"
      ]
     },
     "execution_count": 28,
     "metadata": {},
     "output_type": "execute_result"
    }
   ],
   "source": [
    "queryString = \"\"\"\n",
    "SELECT ?title ?followers\n",
    "WHERE { \n",
    "    ?s wdt:P17 wd:Q30 ;\n",
    "       wdt:P31/wdt:P279* wd:Q41298 ;\n",
    "       wdt:P1476 ?title . \n",
    "    OPTIONAL{?s wdt:P8687 ?followers .}\n",
    "    FILTER regex(?title,\".*[sS]port.*\")\n",
    "    FILTER NOT EXISTS { ?s (wdt:P136 | wdt:P921 | wdt:P101) ?argument . }\n",
    "}\n",
    "GROUP BY ?title ?followers\n",
    "ORDER BY DESC(?followers)\n",
    "LIMIT 20\n",
    "\"\"\"\n",
    "\n",
    "print(\"Results\")\n",
    "run_query(queryString)"
   ]
  },
  {
   "cell_type": "markdown",
   "id": "0952fab8-f3d2-4659-993b-2bf503753484",
   "metadata": {},
   "source": [
    "### Search related entities without sport into the title but probably related"
   ]
  },
  {
   "cell_type": "code",
   "execution_count": 29,
   "id": "e1a9080e-d2c0-46f2-b1c9-52b5a1b4128f",
   "metadata": {},
   "outputs": [
    {
     "name": "stdout",
     "output_type": "stream",
     "text": [
      "Results\n",
      "[('s', 'http://www.wikidata.org/entity/Q61503'), ('title', 'The Hollywood Reporter'), ('followers', '3280311')]\n",
      "[('s', 'http://www.wikidata.org/entity/Q954455'), ('title', 'Inc'), ('followers', '2799617')]\n",
      "[('s', 'http://www.wikidata.org/entity/Q954455'), ('title', 'Inc.'), ('followers', '2799617')]\n",
      "[('s', 'http://www.wikidata.org/entity/Q1542536'), ('title', 'The Atlantic Monthly'), ('followers', '2079799')]\n",
      "[('s', 'http://www.wikidata.org/entity/Q1542536'), ('title', 'The Atlantic'), ('followers', '2079799')]\n",
      "[('s', 'http://www.wikidata.org/entity/Q1507987'), ('title', 'New York'), ('followers', '1814011')]\n",
      "[('s', 'http://www.wikidata.org/entity/Q370099'), ('title', 'Allure'), ('followers', '1680000')]\n",
      "[('s', 'http://www.wikidata.org/entity/Q1897630'), ('title', 'The Nation'), ('followers', '1279061')]\n",
      "[('s', 'http://www.wikidata.org/entity/Q3110173'), ('title', 'Golf digest'), ('followers', '897948')]\n",
      "[('s', 'http://www.wikidata.org/entity/Q15725297'), ('title', 'The intercept'), ('followers', '860009')]\n",
      "[('s', 'http://www.wikidata.org/entity/Q2096635'), ('title', 'The publishers weekly'), ('followers', '804981')]\n",
      "[('s', 'http://www.wikidata.org/entity/Q2096635'), ('title', 'Publishers Weekly'), ('followers', '804981')]\n",
      "[('s', 'http://www.wikidata.org/entity/Q6817459'), ('title', 'mental_floss'), ('followers', '775504')]\n",
      "[('s', 'http://www.wikidata.org/entity/Q6817459'), ('title', 'Mental floss'), ('followers', '775504')]\n",
      "[('s', 'http://www.wikidata.org/entity/Q2706528'), ('title', 'High Times'), ('followers', '723587')]\n",
      "[('s', 'http://www.wikidata.org/entity/Q7256412'), ('title', 'Psychology Today'), ('followers', '698339')]\n",
      "[('s', 'http://www.wikidata.org/entity/Q108515'), ('title', 'Penthouse'), ('followers', '690392')]\n",
      "[('s', 'http://www.wikidata.org/entity/Q3520826'), ('title', 'The FADER'), ('followers', '669320')]\n",
      "[('s', 'http://www.wikidata.org/entity/Q3520826'), ('title', 'The FADER'), ('followers', '651000')]\n",
      "[('s', 'http://www.wikidata.org/entity/Q4815984'), ('title', 'Atlanta'), ('followers', '494112')]\n"
     ]
    },
    {
     "data": {
      "text/plain": [
       "20"
      ]
     },
     "execution_count": 29,
     "metadata": {},
     "output_type": "execute_result"
    }
   ],
   "source": [
    "queryString = \"\"\"\n",
    "SELECT ?s ?title ?followers\n",
    "WHERE { \n",
    "    ?s wdt:P17 wd:Q30 ;\n",
    "       wdt:P31/wdt:P279* wd:Q41298 ;\n",
    "       wdt:P1476 ?title . \n",
    "    OPTIONAL{?s wdt:P8687 ?followers .}\n",
    "\n",
    "    FILTER NOT EXISTS { ?s (wdt:P136 | wdt:P921 | wdt:P101) ?argument . }\n",
    "}\n",
    "GROUP BY ?title ?followers\n",
    "ORDER BY DESC(?followers)\n",
    "LIMIT 20\n",
    "\"\"\"\n",
    "\n",
    "print(\"Results\")\n",
    "run_query(queryString)"
   ]
  },
  {
   "cell_type": "markdown",
   "id": "2b99b512-9400-4e64-a224-47784d2f53aa",
   "metadata": {},
   "source": [
    "### Try to find a way to connect related magazines without wdt:P136, wdt:P921, wdt:P101 and without sport in the title"
   ]
  },
  {
   "cell_type": "code",
   "execution_count": 30,
   "id": "dc3b879d-ea82-4066-8ec3-2a8867f24efa",
   "metadata": {},
   "outputs": [
    {
     "name": "stdout",
     "output_type": "stream",
     "text": [
      "Results\n",
      "[('pName', 'country'), ('oName', 'United States of America'), ('p', 'http://www.wikidata.org/prop/direct/P17'), ('o', 'http://www.wikidata.org/entity/Q30')]\n",
      "[('pName', 'different from'), ('oName', 'Golf digest'), ('p', 'http://www.wikidata.org/prop/direct/P1889'), ('o', 'http://www.wikidata.org/entity/Q56679051')]\n",
      "[('pName', 'title'), ('p', 'http://www.wikidata.org/prop/direct/P1476'), ('o', 'Golf digest')]\n",
      "[('pName', 'Twitter username'), ('p', 'http://www.wikidata.org/prop/direct/P2002'), ('o', 'golfdigest')]\n",
      "[('p', 'http://www.wikidata.org/prop/direct-normalized/P236'), ('o', 'urn:ISSN:0017-176X')]\n",
      "[('p', 'http://www.w3.org/1999/02/22-rdf-syntax-ns#type'), ('o', 'http://wikiba.se/ontology#Item')]\n",
      "[('p', 'http://www.wikidata.org/prop/direct-normalized/P646'), ('o', 'http://g.co/kg/m/07g8_w')]\n",
      "[('pName', 'instance of'), ('oName', 'magazine'), ('p', 'http://www.wikidata.org/prop/direct/P31'), ('o', 'http://www.wikidata.org/entity/Q41298')]\n",
      "[('pName', 'Instagram username'), ('p', 'http://www.wikidata.org/prop/direct/P2003'), ('o', 'golfdigest')]\n",
      "[('pName', 'Facebook ID'), ('p', 'http://www.wikidata.org/prop/direct/P2013'), ('o', 'GolfDigest')]\n",
      "[('pName', 'ISSN'), ('p', 'http://www.wikidata.org/prop/direct/P236'), ('o', '0017-176X')]\n",
      "[('pName', 'YouTube channel ID'), ('p', 'http://www.wikidata.org/prop/direct/P2397'), ('o', 'UCkMOtD7MMYs1H55XH6CkWEw')]\n",
      "[('pName', 'Dailymotion channel ID'), ('p', 'http://www.wikidata.org/prop/direct/P2942'), ('o', 'golfdigestmag')]\n",
      "[('pName', 'language of work or name'), ('oName', 'English'), ('p', 'http://www.wikidata.org/prop/direct/P407'), ('o', 'http://www.wikidata.org/entity/Q1860')]\n",
      "[('pName', 'country of origin'), ('oName', 'United States of America'), ('p', 'http://www.wikidata.org/prop/direct/P495'), ('o', 'http://www.wikidata.org/entity/Q30')]\n",
      "[('pName', 'sport'), ('oName', 'golf'), ('p', 'http://www.wikidata.org/prop/direct/P641'), ('o', 'http://www.wikidata.org/entity/Q5377')]\n",
      "[('pName', 'inception'), ('p', 'http://www.wikidata.org/prop/direct/P571'), ('o', '1950-01-01T00:00:00Z')]\n",
      "[('pName', 'Freebase ID'), ('p', 'http://www.wikidata.org/prop/direct/P646'), ('o', '/m/07g8_w')]\n",
      "[('pName', 'ISSN-L'), ('p', 'http://www.wikidata.org/prop/direct/P7363'), ('o', '0017-176X')]\n",
      "[('pName', 'official website'), ('p', 'http://www.wikidata.org/prop/direct/P856'), ('o', 'http://www.golfdigest.com/')]\n",
      "[('pName', 'social media followers'), ('p', 'http://www.wikidata.org/prop/direct/P8687'), ('o', '897948')]\n",
      "[('pName', 'Muck Rack media outlet ID'), ('p', 'http://www.wikidata.org/prop/direct/P9035'), ('o', 'golfdigest')]\n",
      "[('p', 'http://schema.org/name'), ('o', 'Golf Digest')]\n"
     ]
    },
    {
     "data": {
      "text/plain": [
       "23"
      ]
     },
     "execution_count": 30,
     "metadata": {},
     "output_type": "execute_result"
    }
   ],
   "source": [
    "queryString = \"\"\"\n",
    "SELECT ?pName ?oName ?p ?o\n",
    "WHERE { \n",
    "    wd:Q3110173 wdt:P17 wd:Q30 ;\n",
    "                wdt:P31/wdt:P279* wd:Q41298 ;\n",
    "                wdt:P1476 ?title ;\n",
    "                ?p ?o .\n",
    "    OPTIONAL{ ?p sc:name ?pName . }\n",
    "    OPTIONAL{ ?o sc:name ?oName . }\n",
    "}\n",
    "\n",
    "\"\"\"\n",
    "\n",
    "print(\"Results\")\n",
    "run_query(queryString)"
   ]
  },
  {
   "cell_type": "markdown",
   "id": "84e2c92c-db9b-48db-bbb6-aeeeb4daa173",
   "metadata": {
    "tags": []
   },
   "source": [
    "### Magazines with predicate P641 (sport) "
   ]
  },
  {
   "cell_type": "code",
   "execution_count": 31,
   "id": "cb16d221-d53e-4d4f-aed2-45248fb877c0",
   "metadata": {},
   "outputs": [
    {
     "name": "stdout",
     "output_type": "stream",
     "text": [
      "Results\n",
      "[('s', 'http://www.wikidata.org/entity/Q3110173'), ('title', 'Golf digest'), ('followers', '897948'), ('sportName', 'golf')]\n",
      "[('s', 'http://www.wikidata.org/entity/Q871928'), ('title', 'Baseball America'), ('followers', '278790'), ('sportName', 'baseball')]\n",
      "[('s', 'http://www.wikidata.org/entity/Q951872'), ('title', 'Index to the Sporting news'), ('followers', '225834'), ('sportName', 'baseball')]\n",
      "[('s', 'http://www.wikidata.org/entity/Q951872'), ('title', 'Sporting News'), ('followers', '225834'), ('sportName', 'baseball')]\n",
      "[('s', 'http://www.wikidata.org/entity/Q2603450'), ('title', 'Swimming world and junior swimmer'), ('followers', '94158'), ('sportName', 'swimming')]\n",
      "[('s', 'http://www.wikidata.org/entity/Q2603450'), ('title', 'Swimming World'), ('followers', '94158'), ('sportName', 'swimming')]\n",
      "[('s', 'http://www.wikidata.org/entity/Q921844'), ('title', 'Slam'), ('sportName', 'basketball')]\n",
      "[('s', 'http://www.wikidata.org/entity/Q2785076'), ('title', 'WWE Magazine'), ('sportName', 'professional wrestling')]\n",
      "[('s', 'http://www.wikidata.org/entity/Q2886673'), ('title', 'Baseball Digest'), ('sportName', 'baseball')]\n",
      "[('s', 'http://www.wikidata.org/entity/Q921844'), ('title', 'SLAM Magazine'), ('sportName', 'basketball')]\n",
      "[('s', 'http://www.wikidata.org/entity/Q2785076'), ('title', 'World Wrestling Entertainment raw magazine'), ('sportName', 'professional wrestling')]\n"
     ]
    },
    {
     "data": {
      "text/plain": [
       "11"
      ]
     },
     "execution_count": 31,
     "metadata": {},
     "output_type": "execute_result"
    }
   ],
   "source": [
    "queryString = \"\"\"\n",
    "SELECT ?s ?title ?followers ?sportName\n",
    "WHERE { \n",
    "    ?s wdt:P17 wd:Q30 ;\n",
    "       wdt:P31/wdt:P279* wd:Q41298 ;\n",
    "       wdt:P1476 ?title ; \n",
    "       wdt:P641 ?sport .\n",
    "    OPTIONAL{?s wdt:P8687 ?followers .}\n",
    "    ?sport sc:name ?sportName .\n",
    "    \n",
    "\n",
    "    FILTER NOT EXISTS { ?s (wdt:P136 | wdt:P921 | wdt:P101) ?argument . }\n",
    "}\n",
    "GROUP BY ?title ?followers\n",
    "ORDER BY DESC(?followers)\n",
    "\n",
    "\"\"\"\n",
    "\n",
    "print(\"Results\")\n",
    "run_query(queryString)"
   ]
  },
  {
   "cell_type": "markdown",
   "id": "ed89bf08-d432-4d8b-a087-796e423f05bf",
   "metadata": {
    "tags": []
   },
   "source": [
    "### Union of all the queries"
   ]
  },
  {
   "cell_type": "code",
   "execution_count": 32,
   "id": "3c164747-1879-4897-8751-b153a2f842da",
   "metadata": {},
   "outputs": [
    {
     "name": "stdout",
     "output_type": "stream",
     "text": [
      "Results\n",
      "[('s', 'http://www.wikidata.org/entity/Q3110173'), ('title', 'Golf digest'), ('followers', '897948')]\n",
      "[('s', 'http://www.wikidata.org/entity/Q275837'), ('title', 'Sports Illustrated'), ('followers', '357000')]\n",
      "[('s', 'http://www.wikidata.org/entity/Q871928'), ('title', 'Baseball America'), ('followers', '278790')]\n"
     ]
    },
    {
     "data": {
      "text/plain": [
       "3"
      ]
     },
     "execution_count": 32,
     "metadata": {},
     "output_type": "execute_result"
    }
   ],
   "source": [
    "queryString = \"\"\"\n",
    "SELECT ?s ?title ?followers\n",
    "WHERE {\n",
    "{\n",
    "    ?s wdt:P17 wd:Q30 ;\n",
    "       wdt:P31/wdt:P279* wd:Q41298  ;\n",
    "       wdt:P1476 ?title ;\n",
    "       (wdt:P136 | wdt:P921 ) ?argument .\n",
    "       ?argument sc:name ?argumentName . \n",
    "    OPTIONAL{ ?s wdt:P8687 ?followers .}\n",
    "    \n",
    "    FILTER regex(?argumentName, \".*[Ss]port.*\")\n",
    "}\n",
    "UNION\n",
    "{\n",
    "    ?s wdt:P17 wd:Q30 ;\n",
    "       wdt:P31/wdt:P279* wd:Q41298 ;\n",
    "       wdt:P1476 ?title . \n",
    "    OPTIONAL{?s wdt:P8687 ?followers .}\n",
    "    FILTER regex(?title,\".*[sS]port.*\")\n",
    "    FILTER NOT EXISTS { ?s (wdt:P136 | wdt:P921 | wdt:P101) ?argument . }\n",
    "}\n",
    "UNION\n",
    "{\n",
    "   ?s wdt:P17 wd:Q30 ;\n",
    "       wdt:P31/wdt:P279* wd:Q41298 ;\n",
    "       wdt:P1476 ?title ; \n",
    "       wdt:P641 ?sport .\n",
    "    OPTIONAL{?s wdt:P8687 ?followers .}\n",
    "    FILTER NOT EXISTS { ?s (wdt:P136 | wdt:P921 | wdt:P101) ?argument . }\n",
    "}\n",
    "}\n",
    "ORDER BY DESC(?followers)\n",
    "LIMIT 3\n",
    "\"\"\"\n",
    "\n",
    "print(\"Results\")\n",
    "run_query(queryString)"
   ]
  },
  {
   "cell_type": "markdown",
   "id": "843262bf-4294-4634-9215-a2cadba3e465",
   "metadata": {},
   "source": [
    "### Results part 3\n",
    "It's strange that there is not any magazine about American Football or Basket in the top 3 because they are very followed sport in US... this resut is probabily biased because there are not magazines related to this field or they are not present in our dataset. "
   ]
  },
  {
   "cell_type": "markdown",
   "id": "f296c032-343b-49fd-9982-e52ffa8c6dbd",
   "metadata": {},
   "source": [
    "## Part 4\n",
    "### Get the name of notable employees working for The New Yorker and any other political magazine published in the US. Check if these employees have witten any book and if so get the title."
   ]
  },
  {
   "cell_type": "markdown",
   "id": "506f57ec-b09b-4221-8ffc-44de48518b4e",
   "metadata": {},
   "source": [
    "### Search The New Yorker URI"
   ]
  },
  {
   "cell_type": "code",
   "execution_count": 33,
   "id": "451158b7-2d8e-4a71-8795-b34bfb364777",
   "metadata": {},
   "outputs": [
    {
     "name": "stdout",
     "output_type": "stream",
     "text": [
      "Results\n",
      "[('s', 'http://www.wikidata.org/entity/Q6518264'), ('subjectName', 'political science'), ('title', 'Legislative Studies Quarterly')]\n",
      "[('s', 'http://www.wikidata.org/entity/Q6296059'), ('subjectName', 'political science'), ('title', 'Journal of World-Systems Research')]\n",
      "[('s', 'http://www.wikidata.org/entity/Q7737275'), ('subjectName', 'political science'), ('title', 'The Good Society')]\n",
      "[('s', 'http://www.wikidata.org/entity/Q50815250'), ('subjectName', 'political science'), ('title', 'Research & politics')]\n",
      "[('s', 'http://www.wikidata.org/entity/Q1004412'), ('subjectName', 'political science'), ('title', 'Bulletin of the atomic scientists')]\n",
      "[('s', 'http://www.wikidata.org/entity/Q6295777'), ('subjectName', 'political science'), ('title', 'Journal of Political Ecology')]\n",
      "[('s', 'http://www.wikidata.org/entity/Q2918282'), ('subjectName', 'political science'), ('title', 'Dissent')]\n",
      "[('s', 'http://www.wikidata.org/entity/Q3512091'), ('subjectName', 'political science'), ('title', 'Telos')]\n",
      "[('s', 'http://www.wikidata.org/entity/Q7757800'), ('subjectName', 'politics'), ('title', 'The Port Folio')]\n",
      "[('s', 'http://www.wikidata.org/entity/Q217305'), ('subjectName', 'politics'), ('title', 'The New Yorker')]\n",
      "[('s', 'http://www.wikidata.org/entity/Q3109740'), ('subjectName', 'politics'), ('title', 'Politico magazine')]\n",
      "[('s', 'http://www.wikidata.org/entity/Q1115290'), ('subjectName', 'politics'), ('title', 'Commentary')]\n",
      "[('s', 'http://www.wikidata.org/entity/Q6119666'), ('subjectName', 'politics'), ('title', 'Jacobin')]\n",
      "[('s', 'http://www.wikidata.org/entity/Q7747057'), ('subjectName', 'politics'), ('title', 'The Liberator')]\n",
      "[('s', 'http://www.wikidata.org/entity/Q7757654'), ('subjectName', 'politics of the United States'), ('title', 'The Politic')]\n"
     ]
    },
    {
     "data": {
      "text/plain": [
       "15"
      ]
     },
     "execution_count": 33,
     "metadata": {},
     "output_type": "execute_result"
    }
   ],
   "source": [
    "queryString = \"\"\"\n",
    "SELECT DISTINCT ?s ?subjectName ?title\n",
    "WHERE { \n",
    "    ?s wdt:P17 wd:Q30 ;\n",
    "       wdt:P31/wdt:P279* wd:Q41298 ;\n",
    "       wdt:P921 ?subject ;\n",
    "       wdt:P1476 ?title .\n",
    "    \n",
    "    OPTIONAL { ?subject sc:name ?subjectName . }\n",
    "    FILTER regex(?subjectName,\".*polit.*\")\n",
    "    \n",
    "} ORDER BY ASC(?subjectName)\n",
    "\n",
    "\"\"\"\n",
    "\n",
    "print(\"Results\")\n",
    "run_query(queryString)"
   ]
  },
  {
   "cell_type": "markdown",
   "id": "7fc5bd88-6b03-4d11-96ed-8e7a25b03731",
   "metadata": {},
   "source": [
    "### Find triples related to The New Yorker"
   ]
  },
  {
   "cell_type": "code",
   "execution_count": 34,
   "id": "0bbf223a-d25c-44fa-9cac-001ff02029bd",
   "metadata": {
    "collapsed": true,
    "jupyter": {
     "outputs_hidden": true
    },
    "tags": []
   },
   "outputs": [
    {
     "name": "stdout",
     "output_type": "stream",
     "text": [
      "Results\n",
      "[('p', 'http://www.wikidata.org/prop/direct-normalized/P236'), ('o', 'urn:ISSN:0028-792X')]\n",
      "[('p', 'http://www.wikidata.org/prop/direct-normalized/P214'), ('o', 'http://viaf.org/viaf/261263929')]\n",
      "[('p', 'http://www.w3.org/1999/02/22-rdf-syntax-ns#type'), ('o', 'http://wikiba.se/ontology#Item')]\n",
      "[('p', 'http://www.wikidata.org/prop/direct-normalized/P1042'), ('o', 'http://ld.zdb-services.de/resource/339293-4')]\n",
      "[('p', 'http://www.wikidata.org/prop/direct-normalized/P236'), ('o', 'urn:ISSN:2163-3827')]\n",
      "[('p', 'http://www.wikidata.org/prop/direct-normalized/P1015'), ('o', 'https://livedata.bibsys.no/authority/90374517')]\n",
      "[('p', 'http://www.wikidata.org/prop/direct-normalized/P243'), ('o', 'http://www.worldcat.org/oclc/1760231')]\n",
      "[('pName', 'Portuguese National Library ID'), ('p', 'http://www.wikidata.org/prop/direct/P1005'), ('o', '1695004')]\n",
      "[('p', 'http://www.wikidata.org/prop/direct-normalized/P269'), ('o', 'http://www.idref.fr/118749498/id')]\n",
      "[('p', 'http://www.wikidata.org/prop/direct-normalized/P244'), ('o', 'https://id.loc.gov/authorities/names/no2008154705')]\n",
      "[('p', 'http://www.wikidata.org/prop/direct-normalized/P268'), ('o', 'http://data.bnf.fr/ark:/12148/cb12805168x#about')]\n",
      "[('p', 'http://www.wikidata.org/prop/direct-normalized/P243'), ('o', 'http://www.worldcat.org/oclc/61311198')]\n",
      "[('p', 'http://www.wikidata.org/prop/direct-normalized/P646'), ('o', 'http://g.co/kg/m/07q5n')]\n",
      "[('pName', 'field of work'), ('oName', 'popular culture'), ('p', 'http://www.wikidata.org/prop/direct/P101'), ('o', 'http://www.wikidata.org/entity/Q131265')]\n",
      "[('pName', 'field of work'), ('oName', 'cartoon'), ('p', 'http://www.wikidata.org/prop/direct/P101'), ('o', 'http://www.wikidata.org/entity/Q627603')]\n",
      "[('pName', 'field of work'), ('oName', 'politics'), ('p', 'http://www.wikidata.org/prop/direct/P101'), ('o', 'http://www.wikidata.org/entity/Q7163')]\n",
      "[('pName', 'field of work'), ('oName', 'fiction'), ('p', 'http://www.wikidata.org/prop/direct/P101'), ('o', 'http://www.wikidata.org/entity/Q8253972')]\n",
      "[('pName', 'NORAF ID'), ('p', 'http://www.wikidata.org/prop/direct/P1015'), ('o', '90374517')]\n",
      "[('pName', 'ZDB ID'), ('p', 'http://www.wikidata.org/prop/direct/P1042'), ('o', '339293-4')]\n",
      "[('pName', 'founded by'), ('oName', 'Harold Ross'), ('p', 'http://www.wikidata.org/prop/direct/P112'), ('o', 'http://www.wikidata.org/entity/Q1585917')]\n",
      "[('pName', 'founded by'), ('oName', 'Jane Grant'), ('p', 'http://www.wikidata.org/prop/direct/P112'), ('o', 'http://www.wikidata.org/entity/Q277757')]\n",
      "[('pName', 'publisher'), ('oName', 'Condé Nast'), ('p', 'http://www.wikidata.org/prop/direct/P123'), ('o', 'http://www.wikidata.org/entity/Q605401')]\n",
      "[('pName', 'NLM Unique ID'), ('p', 'http://www.wikidata.org/prop/direct/P1055'), ('o', '9887125')]\n",
      "[('pName', 'Scopus source ID'), ('p', 'http://www.wikidata.org/prop/direct/P1156'), ('o', '28178')]\n",
      "[('pName', 'ISFDB series ID'), ('p', 'http://www.wikidata.org/prop/direct/P1235'), ('o', '26452')]\n",
      "[('pName', 'headquarters location'), ('oName', 'New York City'), ('p', 'http://www.wikidata.org/prop/direct/P159'), ('o', 'http://www.wikidata.org/entity/Q60')]\n",
      "[('pName', 'award received'), ('oName', 'George Polk Award'), ('p', 'http://www.wikidata.org/prop/direct/P166'), ('o', 'http://www.wikidata.org/entity/Q845188')]\n",
      "[('pName', 'Wikidata property'), ('oName', 'The New Yorker contributor ID'), ('p', 'http://www.wikidata.org/prop/direct/P1687'), ('o', 'http://www.wikidata.org/entity/P9772')]\n",
      "[('pName', 'Encyclopædia Britannica Online ID'), ('p', 'http://www.wikidata.org/prop/direct/P1417'), ('o', 'topic/The-New-Yorker')]\n",
      "[('pName', 'title'), ('p', 'http://www.wikidata.org/prop/direct/P1476'), ('o', 'The New Yorker')]\n",
      "[('pName', 'logo image'), ('p', 'http://www.wikidata.org/prop/direct/P154'), ('o', 'http://commons.wikimedia.org/wiki/Special:FilePath/The%20New%20Yorker.svg')]\n",
      "[('pName', 'country'), ('oName', 'United States of America'), ('p', 'http://www.wikidata.org/prop/direct/P17'), ('o', 'http://www.wikidata.org/entity/Q30')]\n",
      "[('pName', 'different from'), ('oName', 'New York Magazine'), ('p', 'http://www.wikidata.org/prop/direct/P1889'), ('o', 'http://www.wikidata.org/entity/Q1507987')]\n",
      "[('pName', 'Twitter username'), ('p', 'http://www.wikidata.org/prop/direct/P2002'), ('o', 'NewYorker')]\n",
      "[('pName', 'Instagram username'), ('p', 'http://www.wikidata.org/prop/direct/P2003'), ('o', 'newyorkermag')]\n",
      "[('pName', 'Facebook ID'), ('p', 'http://www.wikidata.org/prop/direct/P2013'), ('o', 'newyorker')]\n",
      "[('pName', 'VIAF ID'), ('p', 'http://www.wikidata.org/prop/direct/P214'), ('o', '261263929')]\n",
      "[('pName', 'ISSN'), ('p', 'http://www.wikidata.org/prop/direct/P236'), ('o', '2163-3827')]\n",
      "[('pName', 'ISSN'), ('p', 'http://www.wikidata.org/prop/direct/P236'), ('o', '0028-792X')]\n",
      "[('pName', 'YouTube channel ID'), ('p', 'http://www.wikidata.org/prop/direct/P2397'), ('o', 'UCsD-Qms-AkXDrsU962OicLw')]\n",
      "[('pName', 'OCLC control number'), ('p', 'http://www.wikidata.org/prop/direct/P243'), ('o', '1760231')]\n",
      "[('pName', 'OCLC control number'), ('p', 'http://www.wikidata.org/prop/direct/P243'), ('o', '61311198')]\n",
      "[('pName', 'Library of Congress authority ID'), ('p', 'http://www.wikidata.org/prop/direct/P244'), ('o', 'no2008154705')]\n",
      "[('pName', 'place of publication'), ('oName', 'New York City'), ('p', 'http://www.wikidata.org/prop/direct/P291'), ('o', 'http://www.wikidata.org/entity/Q60')]\n",
      "[('pName', 'instance of'), ('oName', 'production team'), ('p', 'http://www.wikidata.org/prop/direct/P31'), ('o', 'http://www.wikidata.org/entity/Q7247847')]\n",
      "[('pName', 'instance of'), ('oName', 'publisher'), ('p', 'http://www.wikidata.org/prop/direct/P31'), ('o', 'http://www.wikidata.org/entity/Q2085381')]\n",
      "[('pName', 'instance of'), ('oName', 'magazine'), ('p', 'http://www.wikidata.org/prop/direct/P31'), ('o', 'http://www.wikidata.org/entity/Q41298')]\n",
      "[('pName', 'Bibliothèque nationale de France ID'), ('p', 'http://www.wikidata.org/prop/direct/P268'), ('o', '12805168x')]\n",
      "[('pName', 'IdRef ID'), ('p', 'http://www.wikidata.org/prop/direct/P269'), ('o', '118749498')]\n",
      "[('pName', 'Dailymotion channel ID'), ('p', 'http://www.wikidata.org/prop/direct/P2942'), ('o', 'newyorker')]\n",
      "[('pName', 'New York Times topic ID'), ('p', 'http://www.wikidata.org/prop/direct/P3221'), ('o', 'organization/the-new-yorker')]\n",
      "[('pName', 'LittleSis organization ID'), ('p', 'http://www.wikidata.org/prop/direct/P3393'), ('o', '34631')]\n",
      "[('pName', 'Quora topic ID'), ('p', 'http://www.wikidata.org/prop/direct/P3417'), ('o', 'The-New-Yorker')]\n",
      "[('pName', 'Commons category'), ('p', 'http://www.wikidata.org/prop/direct/P373'), ('o', 'The New Yorker')]\n",
      "[('pName', 'App Store app ID'), ('p', 'http://www.wikidata.org/prop/direct/P3861'), ('o', '370614765')]\n",
      "[('pName', 'Giphy username'), ('p', 'http://www.wikidata.org/prop/direct/P4013'), ('o', 'newyorker')]\n",
      "[('pName', 'language of work or name'), ('oName', 'English'), ('p', 'http://www.wikidata.org/prop/direct/P407'), ('o', 'http://www.wikidata.org/entity/Q1860')]\n",
      "[('pName', 'language of work or name'), ('oName', 'American English'), ('p', 'http://www.wikidata.org/prop/direct/P407'), ('o', 'http://www.wikidata.org/entity/Q7976')]\n",
      "[('pName', 'category for employees of the organization'), ('oName', 'Category:The New Yorker people'), ('p', 'http://www.wikidata.org/prop/direct/P4195'), ('o', 'http://www.wikidata.org/entity/Q8848995')]\n",
      "[('pName', 'country of origin'), ('oName', 'United States of America'), ('p', 'http://www.wikidata.org/prop/direct/P495'), ('o', 'http://www.wikidata.org/entity/Q30')]\n",
      "[('pName', 'LinkedIn company ID'), ('p', 'http://www.wikidata.org/prop/direct/P4264'), ('o', 'the-new-yorker')]\n",
      "[('pName', 'Store norske leksikon ID'), ('p', 'http://www.wikidata.org/prop/direct/P4342'), ('o', 'The_New_Yorker')]\n",
      "[('pName', 'derivative work'), ('oName', 'The New Yorker Radio Hour'), ('p', 'http://www.wikidata.org/prop/direct/P4969'), ('o', 'http://www.wikidata.org/entity/Q25112046')]\n",
      "[('pName', 'has part'), ('oName', 'The New Yorker, Volume 1'), ('p', 'http://www.wikidata.org/prop/direct/P527'), ('o', 'http://www.wikidata.org/entity/Q104830044')]\n",
      "[('pName', 'The Encyclopedia of Science Fiction ID'), ('p', 'http://www.wikidata.org/prop/direct/P5357'), ('o', 'new_yorker_the')]\n",
      "[('pName', 'Online Books Page publication ID'), ('p', 'http://www.wikidata.org/prop/direct/P5396'), ('o', 'newyorker')]\n",
      "[('pName', 'inception'), ('p', 'http://www.wikidata.org/prop/direct/P571'), ('o', '1925-02-21T00:00:00Z')]\n",
      "[('pName', 'Freebase ID'), ('p', 'http://www.wikidata.org/prop/direct/P646'), ('o', '/m/07q5n')]\n",
      "[('pName', 'parent organization'), ('oName', 'Condé Nast'), ('p', 'http://www.wikidata.org/prop/direct/P749'), ('o', 'http://www.wikidata.org/entity/Q605401')]\n",
      "[('pName', \"Rock's Backpages publication ID\"), ('p', 'http://www.wikidata.org/prop/direct/P6463'), ('o', 'new-yorker-The')]\n",
      "[('pName', 'TV Tropes identifier'), ('p', 'http://www.wikidata.org/prop/direct/P6839'), ('o', 'Magazine/TheNewYorker')]\n",
      "[('pName', 'PLWABN ID'), ('p', 'http://www.wikidata.org/prop/direct/P7293'), ('o', '9810681488805606')]\n",
      "[('pName', 'ISSN-L'), ('p', 'http://www.wikidata.org/prop/direct/P7363'), ('o', '0028-792X')]\n",
      "[('pName', 'WorldCat Identities ID'), ('p', 'http://www.wikidata.org/prop/direct/P7859'), ('o', 'viaf-261263929')]\n",
      "[('pName', 'indexed in bibliographic review'), ('oName', 'Scopus'), ('p', 'http://www.wikidata.org/prop/direct/P8875'), ('o', 'http://www.wikidata.org/entity/Q371467')]\n",
      "[('pName', \"topic's main category\"), ('oName', 'Category:The New Yorker'), ('p', 'http://www.wikidata.org/prop/direct/P910'), ('o', 'http://www.wikidata.org/entity/Q7429193')]\n",
      "[('pName', 'official website'), ('p', 'http://www.wikidata.org/prop/direct/P856'), ('o', 'https://www.newyorker.com')]\n",
      "[('pName', 'social media followers'), ('p', 'http://www.wikidata.org/prop/direct/P8687'), ('o', '636000')]\n",
      "[('pName', 'HAL journal ID'), ('p', 'http://www.wikidata.org/prop/direct/P8903'), ('o', '7450')]\n",
      "[('pName', 'Muck Rack media outlet ID'), ('p', 'http://www.wikidata.org/prop/direct/P9035'), ('o', 'newyorker')]\n",
      "[('pName', 'main subject'), ('oName', 'politics'), ('p', 'http://www.wikidata.org/prop/direct/P921'), ('o', 'http://www.wikidata.org/entity/Q7163')]\n",
      "[('pName', 'editor'), ('oName', 'David Remnick'), ('p', 'http://www.wikidata.org/prop/direct/P98'), ('o', 'http://www.wikidata.org/entity/Q1176307')]\n",
      "[('pName', 'Media Bias/Fact Check ID'), ('p', 'http://www.wikidata.org/prop/direct/P9852'), ('o', 'new-yorker')]\n",
      "[('pName', 'CPPAP ID'), ('p', 'http://www.wikidata.org/prop/direct/P5968'), ('o', '1222 N 06312')]\n",
      "[('pName', 'Unz Review journal ID'), ('p', 'http://www.wikidata.org/prop/direct/P2735'), ('o', 'NewYorker')]\n",
      "[('p', 'http://schema.org/name'), ('o', 'The New Yorker')]\n"
     ]
    },
    {
     "data": {
      "text/plain": [
       "86"
      ]
     },
     "execution_count": 34,
     "metadata": {},
     "output_type": "execute_result"
    }
   ],
   "source": [
    "queryString = \"\"\"\n",
    "SELECT DISTINCT ?pName ?oName ?p ?o\n",
    "WHERE { \n",
    "    wd:Q217305 wdt:P17 wd:Q30 ;\n",
    "               wdt:P31/wdt:P279* wd:Q41298  ;\n",
    "               ?p ?o .\n",
    "               \n",
    "    OPTIONAL { ?p sc:name ?pName . }\n",
    "    OPTIONAL { ?o sc:name ?oName . }\n",
    "    \n",
    "}\n",
    "\n",
    "\"\"\"\n",
    "\n",
    "print(\"Results\")\n",
    "run_query(queryString)"
   ]
  },
  {
   "cell_type": "markdown",
   "id": "3b54554b-012e-4560-bdca-977cee68c439",
   "metadata": {},
   "source": [
    "### Find people"
   ]
  },
  {
   "cell_type": "code",
   "execution_count": 35,
   "id": "b023155b-4375-47b0-a394-74d532f24721",
   "metadata": {},
   "outputs": [
    {
     "name": "stdout",
     "output_type": "stream",
     "text": [
      "Results\n",
      "[('pName', 'Ciudad Vieja'), ('p', 'http://www.wikidata.org/entity/Q1007576'), ('o', 'http://www.wikidata.org/entity/Q486972'), ('oName', 'human settlement')]\n",
      "[('pName', 'Fonsi Nieto'), ('p', 'http://www.wikidata.org/entity/Q1002728'), ('o', 'http://www.wikidata.org/entity/Q5'), ('oName', 'human')]\n",
      "[('pName', 'Lubomír Stoklásek'), ('p', 'http://www.wikidata.org/entity/Q100343342'), ('o', 'http://www.wikidata.org/entity/Q5'), ('oName', 'human')]\n",
      "[('pName', 'Ciudad Vieja'), ('p', 'http://www.wikidata.org/entity/Q1007576'), ('o', 'http://www.wikidata.org/entity/Q16334295'), ('oName', 'group of humans')]\n",
      "[('pName', 'Natuna'), ('p', 'http://www.wikidata.org/entity/Q10100'), ('o', 'http://www.wikidata.org/entity/Q811430'), ('oName', 'human-made geographic feature')]\n",
      "[('pName', 'Natuna'), ('p', 'http://www.wikidata.org/entity/Q10100'), ('o', 'http://www.wikidata.org/entity/Q15642541'), ('oName', 'human-geographic territorial entity')]\n",
      "[('pName', 'Natuna'), ('p', 'http://www.wikidata.org/entity/Q10100'), ('o', 'http://www.wikidata.org/entity/Q35145743'), ('oName', 'human-made landform')]\n",
      "[('pName', 'Võnnu Rural Municipality'), ('p', 'http://www.wikidata.org/entity/Q1018547'), ('o', 'http://www.wikidata.org/entity/Q486972'), ('oName', 'human settlement')]\n",
      "[('pName', 'Kojiro Kobayashi'), ('p', 'http://www.wikidata.org/entity/Q102115260'), ('o', 'http://www.wikidata.org/entity/Q5'), ('oName', 'human')]\n",
      "[('pName', 'Miguel E. M. Herrera'), ('p', 'http://www.wikidata.org/entity/Q102118153'), ('o', 'http://www.wikidata.org/entity/Q5'), ('oName', 'human')]\n"
     ]
    },
    {
     "data": {
      "text/plain": [
       "10"
      ]
     },
     "execution_count": 35,
     "metadata": {},
     "output_type": "execute_result"
    }
   ],
   "source": [
    "queryString = \"\"\"\n",
    "SELECT DISTINCT ?pName ?p ?o ?oName\n",
    "WHERE { \n",
    "    ?p wdt:P31/wdt:P279* ?o .\n",
    "    OPTIONAL{ ?o sc:name ?oName . }\n",
    "    ?p sc:name ?pName .\n",
    "    FILTER (regex(?o, \"[Hh]uman\") || regex(?oName,\"[Hh]uman\"))\n",
    "    \n",
    "}limit 10\n",
    "\n",
    "\"\"\"\n",
    "\n",
    "print(\"Results\")\n",
    "run_query(queryString)"
   ]
  },
  {
   "cell_type": "markdown",
   "id": "f14050f1-5889-4485-a1ee-b84ba9407585",
   "metadata": {},
   "source": [
    "### Try to find people related to The New Yorker"
   ]
  },
  {
   "cell_type": "code",
   "execution_count": 36,
   "id": "4ae3ef60-28d9-4f99-9ba5-4bc4267c3bc0",
   "metadata": {},
   "outputs": [
    {
     "name": "stdout",
     "output_type": "stream",
     "text": [
      "Results\n",
      "[('person', 'http://www.wikidata.org/entity/Q30104171'), ('personName', 'Keeanga-Yamahtta Taylor'), ('works', 'has written for')]\n",
      "[('person', 'http://www.wikidata.org/entity/Q7614979'), ('personName', 'Steven Levitsky'), ('works', 'described by source')]\n",
      "[('person', 'http://www.wikidata.org/entity/Q361617'), ('personName', 'E. B. White'), ('works', 'contributed to creative work')]\n",
      "[('person', 'http://www.wikidata.org/entity/Q3719401'), ('personName', 'Ken Auletta'), ('works', 'has written for')]\n",
      "[('person', 'http://www.wikidata.org/entity/Q5478671'), ('personName', 'Frances Gray Patton'), ('works', 'has written for')]\n",
      "[('person', 'http://www.wikidata.org/entity/Q60025'), ('personName', 'Hannah Arendt'), ('works', 'employer')]\n",
      "[('person', 'http://www.wikidata.org/entity/Q6306480'), ('personName', 'Julia Ioffe'), ('works', 'employer')]\n",
      "[('person', 'http://www.wikidata.org/entity/Q105318410'), ('personName', 'Mansi Choksi'), ('works', 'has written for')]\n",
      "[('person', 'http://www.wikidata.org/entity/Q47465855'), ('personName', 'Susan Glasser'), ('works', 'has written for')]\n",
      "[('person', 'http://www.wikidata.org/entity/Q1176577'), ('personName', 'David Sedaris'), ('works', 'has written for')]\n",
      "[('person', 'http://www.wikidata.org/entity/Q124527'), ('personName', 'James Thurber'), ('works', 'contributed to creative work')]\n",
      "[('person', 'http://www.wikidata.org/entity/Q1070268'), ('personName', 'Peter Hessler'), ('works', 'has written for')]\n",
      "[('person', 'http://www.wikidata.org/entity/Q1703300'), ('personName', 'Jonathan Schell'), ('works', 'employer')]\n",
      "[('person', 'http://www.wikidata.org/entity/Q6548201'), ('personName', 'Lillian Ross'), ('works', 'employer')]\n",
      "[('person', 'http://www.wikidata.org/entity/Q108028292'), ('personName', 'Carolyn Kormann'), ('works', 'has written for')]\n",
      "[('person', 'http://www.wikidata.org/entity/Q520072'), ('personName', 'Andy Borowitz'), ('works', 'has written for')]\n",
      "[('person', 'http://www.wikidata.org/entity/Q6759947'), ('personName', 'Margaret Talbot'), ('works', 'has written for')]\n",
      "[('person', 'http://www.wikidata.org/entity/Q15531308'), ('personName', 'Roger Angell'), ('works', 'has written for')]\n",
      "[('person', 'http://www.wikidata.org/entity/Q2934539'), ('personName', 'Calvin Tomkins'), ('works', 'has written for')]\n",
      "[('person', 'http://www.wikidata.org/entity/Q13563061'), ('personName', 'Katharine Sergeant Angell White'), ('works', 'contributed to creative work')]\n",
      "[('person', 'http://www.wikidata.org/entity/Q43371165'), ('personName', 'Sheelah Kolhatkar'), ('works', 'has written for')]\n",
      "[('person', 'http://www.wikidata.org/entity/Q19539028'), ('personName', 'Richard Brody'), ('works', 'has written for')]\n",
      "[('person', 'http://www.wikidata.org/entity/Q47093130'), ('personName', 'Christina Malman'), ('works', 'contributed to creative work, employer')]\n",
      "[('person', 'http://www.wikidata.org/entity/Q3194102'), ('personName', 'Kathryn Schulz'), ('works', 'employer, has written for')]\n",
      "[('person', 'http://www.wikidata.org/entity/Q110841'), ('personName', 'Christoph Niemann'), ('works', 'has written for')]\n"
     ]
    },
    {
     "data": {
      "text/plain": [
       "25"
      ]
     },
     "execution_count": 36,
     "metadata": {},
     "output_type": "execute_result"
    }
   ],
   "source": [
    "queryString = \"\"\"\n",
    "SELECT ?person ?personName (GROUP_CONCAT(DISTINCT ?pName; SEPARATOR=\", \") AS ?works)\n",
    "WHERE { \n",
    "    ?person ?p wd:Q217305 ;\n",
    "            wdt:P31 wd:Q5 .\n",
    "               \n",
    "    OPTIONAL { ?person sc:name ?personName . }\n",
    "    OPTIONAL { ?p sc:name ?pName . }\n",
    "}\n",
    "GROUP BY (?person) (?personName)\n",
    "LIMIT 25\n",
    "\"\"\"\n",
    "\n",
    "print(\"Results\")\n",
    "run_query(queryString)"
   ]
  },
  {
   "cell_type": "markdown",
   "id": "d435f1f5-9755-4417-9532-1d7850950a56",
   "metadata": {},
   "source": [
    "### Get URI for \"has written for\""
   ]
  },
  {
   "cell_type": "code",
   "execution_count": 37,
   "id": "f24bb847-6d86-4f5a-ab0a-a9de6c5abbf8",
   "metadata": {},
   "outputs": [
    {
     "name": "stdout",
     "output_type": "stream",
     "text": [
      "Results\n",
      "[('person', 'http://www.wikidata.org/entity/Q16199458'), ('personName', 'Amanda Petrusich'), ('pName', 'has written for'), ('p', 'http://www.wikidata.org/prop/direct/P6872')]\n",
      "[('person', 'http://www.wikidata.org/entity/Q22087892'), ('personName', 'Patrick Radden Keefe'), ('pName', 'has written for'), ('p', 'http://www.wikidata.org/prop/direct/P6872')]\n",
      "[('person', 'http://www.wikidata.org/entity/Q548345'), ('personName', \"John O'Hara\"), ('pName', 'contributor to the creative work or subject'), ('p', 'http://www.wikidata.org/prop/direct/P767')]\n",
      "[('person', 'http://www.wikidata.org/entity/Q124527'), ('personName', 'James Thurber'), ('pName', 'contributed to creative work'), ('p', 'http://www.wikidata.org/prop/direct/P3919')]\n",
      "[('person', 'http://www.wikidata.org/entity/Q2550824'), ('personName', 'Mavis Gallant'), ('pName', 'contributed to creative work'), ('p', 'http://www.wikidata.org/prop/direct/P3919')]\n",
      "[('person', 'http://www.wikidata.org/entity/Q60025'), ('personName', 'Hannah Arendt'), ('pName', 'employer'), ('p', 'http://www.wikidata.org/prop/direct/P108')]\n",
      "[('person', 'http://www.wikidata.org/entity/Q61122241'), ('personName', 'Hans O. Hofman'), ('pName', 'contributed to creative work'), ('p', 'http://www.wikidata.org/prop/direct/P3919')]\n",
      "[('person', 'http://www.wikidata.org/entity/Q520072'), ('personName', 'Andy Borowitz'), ('pName', 'has written for'), ('p', 'http://www.wikidata.org/prop/direct/P6872')]\n",
      "[('person', 'http://www.wikidata.org/entity/Q13563061'), ('personName', 'Katharine Sergeant Angell White'), ('pName', 'contributed to creative work'), ('p', 'http://www.wikidata.org/prop/direct/P3919')]\n",
      "[('person', 'http://www.wikidata.org/entity/Q273168'), ('personName', 'Susan Orlean'), ('pName', 'has written for'), ('p', 'http://www.wikidata.org/prop/direct/P6872')]\n"
     ]
    },
    {
     "data": {
      "text/plain": [
       "10"
      ]
     },
     "execution_count": 37,
     "metadata": {},
     "output_type": "execute_result"
    }
   ],
   "source": [
    "queryString = \"\"\"\n",
    "SELECT DISTINCT ?person ?personName ?pName ?p\n",
    "WHERE { \n",
    "    ?person ?p wd:Q217305 ;\n",
    "            wdt:P31 wd:Q5 .\n",
    "               \n",
    "    OPTIONAL { ?person sc:name ?personName . }\n",
    "    OPTIONAL { ?p sc:name ?pName . }\n",
    "}\n",
    "LIMIT 10\n",
    "\"\"\"\n",
    "\n",
    "print(\"Results\")\n",
    "run_query(queryString)"
   ]
  },
  {
   "cell_type": "markdown",
   "id": "9ec39f0c-5751-4c4e-ba5d-ba804dbc7019",
   "metadata": {},
   "source": [
    "### Search authors of The New Yorker "
   ]
  },
  {
   "cell_type": "code",
   "execution_count": 38,
   "id": "4913121e-5ce5-4e07-a381-5c8881210c55",
   "metadata": {},
   "outputs": [
    {
     "name": "stdout",
     "output_type": "stream",
     "text": [
      "Results\n",
      "[('person', 'http://www.wikidata.org/entity/Q16199458'), ('personName', 'Amanda Petrusich')]\n",
      "[('person', 'http://www.wikidata.org/entity/Q22087892'), ('personName', 'Patrick Radden Keefe')]\n",
      "[('person', 'http://www.wikidata.org/entity/Q520072'), ('personName', 'Andy Borowitz')]\n",
      "[('person', 'http://www.wikidata.org/entity/Q273168'), ('personName', 'Susan Orlean')]\n",
      "[('person', 'http://www.wikidata.org/entity/Q1077842'), ('personName', 'Chris Ware')]\n",
      "[('person', 'http://www.wikidata.org/entity/Q2934539'), ('personName', 'Calvin Tomkins')]\n",
      "[('person', 'http://www.wikidata.org/entity/Q5363086'), ('personName', 'Elizabeth Kolbert')]\n",
      "[('person', 'http://www.wikidata.org/entity/Q7375285'), ('personName', 'Roz Chast')]\n",
      "[('person', 'http://www.wikidata.org/entity/Q316607'), ('personName', 'Jonathan Franzen')]\n",
      "[('person', 'http://www.wikidata.org/entity/Q4678940'), ('personName', 'Adam Davidson')]\n"
     ]
    },
    {
     "data": {
      "text/plain": [
       "10"
      ]
     },
     "execution_count": 38,
     "metadata": {},
     "output_type": "execute_result"
    }
   ],
   "source": [
    "queryString = \"\"\"\n",
    "SELECT DISTINCT ?person ?personName\n",
    "WHERE { \n",
    "    ?person wdt:P6872 wd:Q217305 ;\n",
    "            wdt:P31 wd:Q5 .\n",
    "               \n",
    "    OPTIONAL { ?person sc:name ?personName . }\n",
    "} LIMIT 10\n",
    "\"\"\"\n",
    "\n",
    "print(\"Results\")\n",
    "run_query(queryString)"
   ]
  },
  {
   "cell_type": "markdown",
   "id": "4a4d5ab5-111c-4017-a1ef-96e1ebb03e71",
   "metadata": {},
   "source": [
    "### Find relations for the first one"
   ]
  },
  {
   "cell_type": "code",
   "execution_count": 39,
   "id": "3005559e-cda9-4fef-b953-67c9588ca3be",
   "metadata": {},
   "outputs": [
    {
     "name": "stdout",
     "output_type": "stream",
     "text": [
      "Results\n",
      "[('p', 'http://www.w3.org/1999/02/22-rdf-syntax-ns#type'), ('o', 'http://wikiba.se/ontology#Item')]\n",
      "[('p', 'http://www.wikidata.org/prop/direct-normalized/P214'), ('o', 'http://viaf.org/viaf/6846321')]\n",
      "[('p', 'http://www.wikidata.org/prop/direct-normalized/P244'), ('o', 'https://id.loc.gov/authorities/names/n2007060311')]\n",
      "[('p', 'http://www.wikidata.org/prop/direct-normalized/P646'), ('o', 'http://g.co/kg/m/0c3zs78')]\n",
      "[('p', 'http://www.wikidata.org/prop/direct-normalized/P7704'), ('o', 'http://data.europeana.eu/agent/base/141770')]\n",
      "[('p', 'http://schema.org/name'), ('o', 'Amanda Petrusich')]\n",
      "[('p', 'http://www.wikidata.org/prop/direct/P7704'), ('pName', 'Europeana entity'), ('o', 'agent/base/141770')]\n",
      "[('p', 'http://www.wikidata.org/prop/direct/P646'), ('pName', 'Freebase ID'), ('o', '/m/0c3zs78')]\n",
      "[('p', 'http://www.wikidata.org/prop/direct/P6594'), ('pName', 'Guggenheim fellows ID'), ('o', 'amanda-petrusich')]\n",
      "[('p', 'http://www.wikidata.org/prop/direct/P213'), ('pName', 'ISNI'), ('o', '0000 0000 5049 0387')]\n",
      "[('p', 'http://www.wikidata.org/prop/direct/P244'), ('pName', 'Library of Congress authority ID'), ('o', 'n2007060311')]\n",
      "[('p', 'http://www.wikidata.org/prop/direct/P6005'), ('pName', 'Muck Rack journalist ID'), ('o', 'amanda-petrusich')]\n",
      "[('p', 'http://www.wikidata.org/prop/direct/P9743'), ('pName', 'Podchaser creator ID'), ('o', '107a4Yrj8P')]\n",
      "[('p', 'http://www.wikidata.org/prop/direct/P1258'), ('pName', 'Rotten Tomatoes ID'), ('o', 'critic/amanda-petrusich')]\n",
      "[('p', 'http://www.wikidata.org/prop/direct/P9772'), ('pName', 'The New Yorker contributor ID'), ('o', 'amanda-petrusich')]\n",
      "[('p', 'http://www.wikidata.org/prop/direct/P2002'), ('pName', 'Twitter username'), ('o', 'amandapetrusich')]\n",
      "[('p', 'http://www.wikidata.org/prop/direct/P214'), ('pName', 'VIAF ID'), ('o', '6846321')]\n",
      "[('p', 'http://www.wikidata.org/prop/direct/P7859'), ('pName', 'WorldCat Identities ID'), ('o', 'lccn-n2007060311')]\n",
      "[('p', 'http://www.wikidata.org/prop/direct/P27'), ('pName', 'country of citizenship'), ('oName', 'United States of America'), ('o', 'http://www.wikidata.org/entity/Q30')]\n",
      "[('p', 'http://www.wikidata.org/prop/direct/P569'), ('pName', 'date of birth'), ('o', '1901-01-01T00:00:00Z')]\n",
      "[('p', 'http://www.wikidata.org/prop/direct/P69'), ('pName', 'educated at'), ('oName', 'Columbia University School of the Arts'), ('o', 'http://www.wikidata.org/entity/Q5149905')]\n",
      "[('p', 'http://www.wikidata.org/prop/direct/P69'), ('pName', 'educated at'), ('oName', 'Columbia University'), ('o', 'http://www.wikidata.org/entity/Q49088')]\n",
      "[('p', 'http://www.wikidata.org/prop/direct/P69'), ('pName', 'educated at'), ('oName', 'College of William & Mary'), ('o', 'http://www.wikidata.org/entity/Q875637')]\n",
      "[('p', 'http://www.wikidata.org/prop/direct/P108'), ('pName', 'employer'), ('oName', 'New York University'), ('o', 'http://www.wikidata.org/entity/Q49210')]\n",
      "[('p', 'http://www.wikidata.org/prop/direct/P735'), ('pName', 'given name'), ('oName', 'Amanda'), ('o', 'http://www.wikidata.org/entity/Q453722')]\n",
      "[('p', 'http://www.wikidata.org/prop/direct/P6872'), ('pName', 'has written for'), ('oName', 'The New Yorker'), ('o', 'http://www.wikidata.org/entity/Q217305')]\n",
      "[('p', 'http://www.wikidata.org/prop/direct/P31'), ('pName', 'instance of'), ('oName', 'human'), ('o', 'http://www.wikidata.org/entity/Q5')]\n",
      "[('p', 'http://www.wikidata.org/prop/direct/P106'), ('pName', 'occupation'), ('oName', 'music journalist'), ('o', 'http://www.wikidata.org/entity/Q20669622')]\n",
      "[('p', 'http://www.wikidata.org/prop/direct/P106'), ('pName', 'occupation'), ('oName', 'writer'), ('o', 'http://www.wikidata.org/entity/Q36180')]\n",
      "[('p', 'http://www.wikidata.org/prop/direct/P106'), ('pName', 'occupation'), ('oName', 'journalist'), ('o', 'http://www.wikidata.org/entity/Q1930187')]\n",
      "[('p', 'http://www.wikidata.org/prop/direct/P856'), ('pName', 'official website'), ('o', 'http://www.amandapetrusich.com')]\n",
      "[('p', 'http://www.wikidata.org/prop/direct/P21'), ('pName', 'sex or gender'), ('oName', 'female'), ('o', 'http://www.wikidata.org/entity/Q6581072')]\n",
      "[('p', 'http://www.wikidata.org/prop/direct/P8687'), ('pName', 'social media followers'), ('o', '18669')]\n"
     ]
    },
    {
     "data": {
      "text/plain": [
       "33"
      ]
     },
     "execution_count": 39,
     "metadata": {},
     "output_type": "execute_result"
    }
   ],
   "source": [
    "queryString = \"\"\"\n",
    "SELECT DISTINCT ?p ?pName ?oName ?o\n",
    "WHERE { \n",
    "    wd:Q16199458 ?p ?o .\n",
    "    OPTIONAL { ?p sc:name ?pName . }\n",
    "    OPTIONAL { ?o sc:name ?oName . }\n",
    "} ORDER BY ASC(?pName)\n",
    "\"\"\"\n",
    "\n",
    "print(\"Results\")\n",
    "run_query(queryString)"
   ]
  },
  {
   "cell_type": "markdown",
   "id": "6282c2e6-3d16-49c9-89c9-1dc8ef780615",
   "metadata": {},
   "source": [
    "### Find book instance"
   ]
  },
  {
   "cell_type": "code",
   "execution_count": 40,
   "id": "1d514090-4214-41fb-9154-8865978be22d",
   "metadata": {},
   "outputs": [
    {
     "name": "stdout",
     "output_type": "stream",
     "text": [
      "Results\n",
      "[('instance', 'http://www.wikidata.org/entity/Q60520'), ('instanceName', 'sketchbook')]\n",
      "[('instance', 'http://www.wikidata.org/entity/Q22976748'), ('instanceName', 'stamp book')]\n",
      "[('instance', 'http://www.wikidata.org/entity/Q26853769'), ('instanceName', 'workbook')]\n",
      "[('instance', 'http://www.wikidata.org/entity/Q21818614'), ('instanceName', 'liturgical book of the Roman Rite')]\n",
      "[('instance', 'http://www.wikidata.org/entity/Q283057'), ('instanceName', 'list of books of the Bible')]\n",
      "[('instance', 'http://www.wikidata.org/entity/Q2477770'), ('instanceName', 'Ultrabook')]\n",
      "[('instance', 'http://www.wikidata.org/entity/Q22759'), ('instanceName', 'book censorship')]\n",
      "[('instance', 'http://www.wikidata.org/entity/Q538552'), ('instanceName', 'Book Fair')]\n",
      "[('instance', 'http://www.wikidata.org/entity/Q106581242'), ('instanceName', 'booklet')]\n",
      "[('instance', 'http://www.wikidata.org/entity/Q1599788'), ('instanceName', 'phrase book')]\n",
      "[('instance', 'http://www.wikidata.org/entity/Q1027825'), ('instanceName', 'choral book')]\n",
      "[('instance', 'http://www.wikidata.org/entity/Q73501146'), ('instanceName', 'Sune book')]\n",
      "[('instance', 'http://www.wikidata.org/entity/Q64371626'), ('instanceName', 'List of Books')]\n",
      "[('instance', 'http://www.wikidata.org/entity/Q29642842'), ('instanceName', 'e-book reader software')]\n",
      "[('instance', 'http://www.wikidata.org/entity/Q998550'), ('instanceName', 'bookseller')]\n"
     ]
    },
    {
     "data": {
      "text/plain": [
       "15"
      ]
     },
     "execution_count": 40,
     "metadata": {},
     "output_type": "execute_result"
    }
   ],
   "source": [
    "queryString = \"\"\"\n",
    "SELECT DISTINCT ?instance ?instanceName\n",
    "WHERE { \n",
    "\n",
    "    ?s  wdt:P31 ?instance .\n",
    "    ?instance sc:name ?instanceName .\n",
    "    \n",
    "    FILTER regex(?instanceName,\".*[Bb]ook.*\")\n",
    "    \n",
    "}LIMIT 15\n",
    "\"\"\"\n",
    "\n",
    "print(\"Results\")\n",
    "run_query(queryString)"
   ]
  },
  {
   "cell_type": "markdown",
   "id": "c8c0ef65-59aa-429a-ae14-724f736974fe",
   "metadata": {},
   "source": [
    "### Try to connect book and The New Yorker's workers "
   ]
  },
  {
   "cell_type": "code",
   "execution_count": 41,
   "id": "3a177bb5-f557-40de-9b13-165e317416d2",
   "metadata": {},
   "outputs": [
    {
     "name": "stdout",
     "output_type": "stream",
     "text": [
      "Results\n",
      "[('personName', 'Patrick Radden Keefe'), ('book', 'http://www.wikidata.org/entity/Q106808347')]\n",
      "[('personName', 'Chris Ware'), ('book', 'http://www.wikidata.org/entity/Q3179029')]\n",
      "[('personName', 'Chris Ware'), ('book', 'http://www.wikidata.org/entity/Q2823374')]\n",
      "[('personName', 'Chris Ware'), ('book', 'http://www.wikidata.org/entity/Q4986509')]\n",
      "[('personName', 'Ed Yong'), ('book', 'http://www.wikidata.org/entity/Q28934718')]\n",
      "[('personName', 'Alex Ross'), ('book', 'http://www.wikidata.org/entity/Q20875838')]\n",
      "[('personName', 'Ronan Farrow'), ('book', 'http://www.wikidata.org/entity/Q71711397')]\n",
      "[('personName', 'Louis Menand'), ('book', 'http://www.wikidata.org/entity/Q87147658')]\n",
      "[('personName', 'Emily Witt'), ('book', 'http://www.wikidata.org/entity/Q50381841')]\n",
      "[('personName', 'Kevin Young'), ('book', 'http://www.wikidata.org/entity/Q105609120')]\n",
      "[('personName', 'Anna Wiener'), ('book', 'http://www.wikidata.org/entity/Q85811894')]\n"
     ]
    },
    {
     "data": {
      "text/plain": [
       "11"
      ]
     },
     "execution_count": 41,
     "metadata": {},
     "output_type": "execute_result"
    }
   ],
   "source": [
    "queryString = \"\"\"\n",
    "SELECT ?personName ?book\n",
    "WHERE { \n",
    "\n",
    "    ?book  wdt:P31 ?instance .\n",
    "    ?instance sc:name ?instanceName .\n",
    "    FILTER regex(?instanceName,\".*[Bb]ook.*\")\n",
    "    \n",
    "    ?book ?writtenBy ?worker .\n",
    "    \n",
    "    ?worker wdt:P6872 wd:Q217305 ;\n",
    "            wdt:P31 wd:Q5 .  \n",
    "               \n",
    "    OPTIONAL { ?worker sc:name ?personName . }\n",
    "    \n",
    "    \n",
    "}\n",
    "\"\"\"\n",
    "\n",
    "print(\"Results\")\n",
    "run_query(queryString)"
   ]
  },
  {
   "cell_type": "markdown",
   "id": "199b639d-a595-45af-b47b-8489f9212a8b",
   "metadata": {
    "tags": []
   },
   "source": [
    "### See books' name "
   ]
  },
  {
   "cell_type": "code",
   "execution_count": 42,
   "id": "03ec09c7-e3de-4458-b847-af75052c0531",
   "metadata": {},
   "outputs": [
    {
     "name": "stdout",
     "output_type": "stream",
     "text": [
      "Results\n",
      "[('personName', 'Chris Ware'), ('bookTitle', 'Acme Novelty Library')]\n",
      "[('personName', 'Chris Ware'), ('bookTitle', 'Jimmy Corrigan, the Smartest Kid on Earth')]\n",
      "[('personName', 'Alex Ross'), ('bookTitle', 'Spin Alternative Record Guide')]\n",
      "[('personName', 'Chris Ware'), ('bookTitle', 'Building Stories')]\n",
      "[('personName', 'Emily Witt'), ('bookTitle', 'Properly Disposed')]\n",
      "[('personName', 'Louis Menand'), ('bookTitle', 'Discovering Modernism : T. S. Eliot and his context')]\n",
      "[('personName', 'Kevin Young'), ('bookTitle', 'Furious Flower : African American Poetry from the Black Arts Movement to the Present')]\n",
      "[('personName', 'Ed Yong'), ('bookTitle', 'I Contain Multitudes')]\n",
      "[('personName', 'Ronan Farrow'), ('bookTitle', 'Catch and Kill: Lies, Spies, and a Conspiracy to Protect Predators')]\n",
      "[('personName', 'Anna Wiener'), ('bookTitle', 'Uncanny Valley')]\n",
      "[('personName', 'Patrick Radden Keefe'), ('bookTitle', 'Empire of Pain')]\n"
     ]
    },
    {
     "data": {
      "text/plain": [
       "11"
      ]
     },
     "execution_count": 42,
     "metadata": {},
     "output_type": "execute_result"
    }
   ],
   "source": [
    "queryString = \"\"\"\n",
    "SELECT DISTINCT ?personName ?bookTitle\n",
    "WHERE { \n",
    "\n",
    "    ?book  wdt:P31 ?instance ;\n",
    "           ?writtenBy ?worker .\n",
    "    ?instance sc:name ?instanceName .\n",
    "    FILTER regex(?instanceName,\".*[Bb]ook.*\")\n",
    "    OPTIONAL{ ?book sc:name ?bookTitle }\n",
    "    \n",
    "    ?worker wdt:P6872 wd:Q217305 ;\n",
    "            wdt:P31 wd:Q5 .  \n",
    "               \n",
    "    OPTIONAL { ?worker sc:name ?personName . }\n",
    "    \n",
    "    \n",
    "}\n",
    "\"\"\"\n",
    "\n",
    "print(\"Results\")\n",
    "run_query(queryString)"
   ]
  },
  {
   "cell_type": "markdown",
   "id": "b14bfed2-306b-488e-855c-6a8babd8c954",
   "metadata": {},
   "source": [
    "### See all books by authors who works for politc magazines"
   ]
  },
  {
   "cell_type": "code",
   "execution_count": 43,
   "id": "ec21fef5-1fc2-448c-9a20-52d8eccc6bdf",
   "metadata": {},
   "outputs": [
    {
     "name": "stdout",
     "output_type": "stream",
     "text": [
      "Results\n",
      "[('magazineName', 'The New Yorker'), ('personName', 'Ed Yong'), ('books', 'I Contain Multitudes')]\n",
      "[('magazineName', 'The New Yorker'), ('personName', 'Chris Ware'), ('books', 'Acme Novelty Library; Building Stories; Jimmy Corrigan, the Smartest Kid on Earth')]\n",
      "[('magazineName', 'The New Yorker'), ('personName', 'Anna Wiener'), ('books', 'Uncanny Valley')]\n",
      "[('magazineName', 'The New Yorker'), ('personName', 'Patrick Radden Keefe'), ('books', 'Empire of Pain')]\n",
      "[('magazineName', 'The New Yorker'), ('personName', 'Louis Menand'), ('books', 'Discovering Modernism : T. S. Eliot and his context')]\n",
      "[('magazineName', 'The New Yorker'), ('personName', 'Emily Witt'), ('books', 'Properly Disposed')]\n"
     ]
    },
    {
     "data": {
      "text/plain": [
       "6"
      ]
     },
     "execution_count": 43,
     "metadata": {},
     "output_type": "execute_result"
    }
   ],
   "source": [
    "queryString = \"\"\"\n",
    "SELECT DISTINCT ?magazineName ?personName (GROUP_CONCAT(DISTINCT ?bookTitle; separator=\"; \") AS ?books)\n",
    "WHERE { \n",
    "\n",
    "    ?book  wdt:P31 ?instance ;\n",
    "           ?writtenBy ?worker .\n",
    "    ?instance sc:name ?instanceName .\n",
    "    FILTER regex(?instanceName,\".*[Bb]ook.*\")\n",
    "    OPTIONAL{ ?book sc:name ?bookTitle }\n",
    "    \n",
    "    ?worker wdt:P6872 ?magazine ;\n",
    "            wdt:P31 wd:Q5 ;\n",
    "            sc:name ?personName . \n",
    "    \n",
    "    ?magazine wdt:P17 wd:Q30 ;\n",
    "              wdt:P31/wdt:P279* wd:Q41298  ;\n",
    "              wdt:P921 ?subject .\n",
    "    OPTIONAL{ ?magazine wdt:P1476 ?magazineName . }\n",
    "    \n",
    "    OPTIONAL { ?subject sc:name ?subjectName . }\n",
    "    FILTER regex(?subjectName,\".*polit.*\")\n",
    "    \n",
    "} GROUP BY ?magazineName ?personName\n",
    "\"\"\"\n",
    "\n",
    "print(\"Results\")\n",
    "run_query(queryString)"
   ]
  },
  {
   "cell_type": "markdown",
   "id": "62e294e3-d064-4296-a400-9faac96e59f3",
   "metadata": {},
   "source": [
    "### Set not bound predicate for workers"
   ]
  },
  {
   "cell_type": "code",
   "execution_count": 44,
   "id": "988ec873-25f5-4fd9-80b4-38373574907b",
   "metadata": {
    "tags": []
   },
   "outputs": [
    {
     "name": "stdout",
     "output_type": "stream",
     "text": [
      "Results\n",
      "[('magazineName', 'The New Yorker'), ('personName', 'Lewis Mumford'), ('books', 'Herman Melville; Renewal of Life')]\n",
      "[('magazineName', 'The New Yorker'), ('personName', 'Ed Yong'), ('books', 'I Contain Multitudes')]\n",
      "[('magazineName', 'The New Yorker'), ('personName', 'Ronan Farrow'), ('books', 'Catch and Kill: Lies, Spies, and a Conspiracy to Protect Predators')]\n",
      "[('magazineName', 'The New Yorker'), ('personName', 'Blake Eskin'), ('books', 'A life in pieces')]\n",
      "[('magazineName', 'The New Yorker'), ('personName', 'Chris Ware'), ('books', 'Acme Novelty Library; Building Stories; Jimmy Corrigan, the Smartest Kid on Earth')]\n",
      "[('magazineName', 'The New Yorker'), ('personName', 'Anna Wiener'), ('books', 'Uncanny Valley')]\n",
      "[('magazineName', 'The New Yorker'), ('personName', 'Hannah Arendt'), ('books', 'Crises of the Republic; The Three Escapes of Hannah Arendt')]\n",
      "[('magazineName', 'The New Yorker'), ('personName', 'Patrick Radden Keefe'), ('books', 'Empire of Pain')]\n",
      "[('magazineName', 'The New Yorker'), ('personName', 'Louis Menand'), ('books', 'Discovering Modernism : T. S. Eliot and his context')]\n",
      "[('magazineName', 'The New Yorker'), ('personName', 'Emily Witt'), ('books', 'Properly Disposed')]\n",
      "[('magazineName', 'The New Yorker'), ('personName', 'Jillian Tamaki'), ('books', '2015 TCAF Butter Tart Map; This One Summer')]\n",
      "[('magazineName', 'The New Yorker'), ('personName', 'Françoise Mouly'), ('books', 'Raw Books and Graphics')]\n",
      "[('magazineName', 'The New Yorker'), ('personName', 'Alex Ross'), ('books', 'Spin Alternative Record Guide')]\n",
      "[('magazineName', 'The New Yorker'), ('personName', 'Kevin Young'), ('books', 'Furious Flower : African American Poetry from the Black Arts Movement to the Present')]\n",
      "[('magazineName', 'The New Yorker'), ('personName', 'Jean-Jacques Sempé'), ('books', 'Le petit Nicolas')]\n"
     ]
    },
    {
     "data": {
      "text/plain": [
       "15"
      ]
     },
     "execution_count": 44,
     "metadata": {},
     "output_type": "execute_result"
    }
   ],
   "source": [
    "queryString = \"\"\"\n",
    "SELECT DISTINCT ?magazineName ?personName (GROUP_CONCAT(DISTINCT ?bookTitle; separator=\"; \") AS ?books)\n",
    "WHERE { \n",
    "\n",
    "    ?book  wdt:P31 ?instance ;\n",
    "           ?writtenBy ?worker .\n",
    "    ?instance sc:name ?instanceName .\n",
    "    FILTER regex(?instanceName,\".*[Bb]ook.*\")\n",
    "    OPTIONAL{ ?book sc:name ?bookTitle }\n",
    "    \n",
    "    ?worker ?works ?magazine ;\n",
    "            wdt:P31 wd:Q5 ;\n",
    "            sc:name ?personName . \n",
    "    \n",
    "    ?magazine wdt:P17 wd:Q30 ;\n",
    "              wdt:P31/wdt:P279* wd:Q41298  ;\n",
    "              wdt:P921 ?subject .\n",
    "    OPTIONAL{ ?magazine wdt:P1476 ?magazineName . }\n",
    "    \n",
    "    OPTIONAL { ?subject sc:name ?subjectName . }\n",
    "    FILTER regex(?subjectName,\".*polit.*\")\n",
    "    \n",
    "} GROUP BY ?magazineName ?personName\n",
    "\"\"\"\n",
    "\n",
    "print(\"Results\")\n",
    "run_query(queryString)"
   ]
  },
  {
   "cell_type": "markdown",
   "id": "10153569-ae0d-4221-9ac7-d29dd75ed730",
   "metadata": {},
   "source": [
    "### Up to here I assumed that the notable worker are who have written a book\n",
    "It is strange that in the final result, without any restrictions on \"The New Yorker\", we see that the (political field) magazines worker are only belonging from \"The New Yorker\".\n",
    "\n",
    "### New part after the Part 5 results\n",
    "The following queries are done searching notable worker based on their nomination for a prize or award and then search if they wrote books."
   ]
  },
  {
   "cell_type": "code",
   "execution_count": 45,
   "id": "473de064-59f1-44cc-ac27-0c350fc6894b",
   "metadata": {},
   "outputs": [
    {
     "name": "stdout",
     "output_type": "stream",
     "text": [
      "Results\n",
      "[('magazineName', 'The New Yorker'), ('workerName', 'Lewis Mumford'), ('books', 'Herman Melville; Renewal of Life')]\n",
      "[('magazineName', 'The New Yorker'), ('workerName', 'Chris Ware'), ('books', 'Acme Novelty Library; Building Stories; Jimmy Corrigan, the Smartest Kid on Earth')]\n",
      "[('magazineName', 'The New Yorker'), ('workerName', 'Hannah Arendt'), ('books', 'Crises of the Republic; The Three Escapes of Hannah Arendt')]\n"
     ]
    },
    {
     "data": {
      "text/plain": [
       "3"
      ]
     },
     "execution_count": 45,
     "metadata": {},
     "output_type": "execute_result"
    }
   ],
   "source": [
    "queryString = \"\"\"\n",
    "SELECT ?magazineName ?workerName (GROUP_CONCAT(DISTINCT ?bookTitle; separator=\"; \") AS ?books)\n",
    "WHERE { \n",
    "             \n",
    "    ?worker ?works ?magazine ;\n",
    "            wdt:P31 wd:Q5 ;\n",
    "            wdt:P1411 ?price .\n",
    "    OPTIONAL { ?worker sc:name ?workerName . }\n",
    "            \n",
    "    ?magazine wdt:P17 wd:Q30 ;\n",
    "              wdt:P31/wdt:P279* wd:Q41298 ;\n",
    "              wdt:P921 ?subject .\n",
    "    OPTIONAL{ ?magazine wdt:P1476 ?magazineName . }\n",
    "    ?subject sc:name ?subjectName .\n",
    "    FILTER regex(?subjectName,\".*polit.*\")\n",
    "    \n",
    "    ?book  wdt:P31 ?instance ;\n",
    "           ?writtenBy ?worker .\n",
    "    ?instance sc:name ?instanceName .\n",
    "    FILTER regex(?instanceName,\".*[Bb]ook.*\")\n",
    "    OPTIONAL{ ?book sc:name ?bookTitle }\n",
    "    \n",
    "    \n",
    "} GROUP BY ?magazineName ?workerName\n",
    "\"\"\"\n",
    "\n",
    "print(\"Results\")\n",
    "run_query(queryString)"
   ]
  },
  {
   "cell_type": "markdown",
   "id": "ef4aea56-82da-4657-a63b-85be7015dd41",
   "metadata": {},
   "source": [
    "### Final results part 4\n",
    "As in the first part 4 result the notable workers (in this case they have been considerated  belongs to \"The New Yorker\" but in this case they are only 3 and not 15."
   ]
  },
  {
   "cell_type": "markdown",
   "id": "53ab1cae-0a8f-4e7e-be3f-6c793a45d588",
   "metadata": {},
   "source": [
    "## Part 5\n",
    "### Is any employee of The New Yorker ever been nominated for a prize or award?"
   ]
  },
  {
   "cell_type": "markdown",
   "id": "39ebcc37-d434-4aac-9a1d-d7785b3e0624",
   "metadata": {},
   "source": [
    "### Find workers who won a prize or award\n",
    "wdt:P166 = award received"
   ]
  },
  {
   "cell_type": "code",
   "execution_count": 46,
   "id": "a9b5247e-a98b-428a-a1e1-4dd653e4c66a",
   "metadata": {},
   "outputs": [
    {
     "name": "stdout",
     "output_type": "stream",
     "text": [
      "Results\n",
      "[('personName', \"John O'Hara\"), ('worker', 'http://www.wikidata.org/entity/Q548345')]\n",
      "[('personName', 'Mavis Gallant'), ('worker', 'http://www.wikidata.org/entity/Q2550824')]\n",
      "[('personName', 'Hannah Arendt'), ('worker', 'http://www.wikidata.org/entity/Q60025')]\n",
      "[('personName', 'Susan Orlean'), ('worker', 'http://www.wikidata.org/entity/Q273168')]\n",
      "[('personName', 'E. B. White'), ('worker', 'http://www.wikidata.org/entity/Q361617')]\n",
      "[('personName', 'Saul Steinberg'), ('worker', 'http://www.wikidata.org/entity/Q432856')]\n",
      "[('personName', 'Chris Ware'), ('worker', 'http://www.wikidata.org/entity/Q1077842')]\n",
      "[('personName', 'Calvin Tomkins'), ('worker', 'http://www.wikidata.org/entity/Q2934539')]\n",
      "[('personName', 'Jean-Jacques Sempé'), ('worker', 'http://www.wikidata.org/entity/Q354371')]\n",
      "[('personName', 'Elizabeth Kolbert'), ('worker', 'http://www.wikidata.org/entity/Q5363086')]\n"
     ]
    },
    {
     "data": {
      "text/plain": [
       "10"
      ]
     },
     "execution_count": 46,
     "metadata": {},
     "output_type": "execute_result"
    }
   ],
   "source": [
    "queryString = \"\"\"\n",
    "SELECT DISTINCT ?personName ?worker\n",
    "WHERE { \n",
    "    \n",
    "    ?worker ?works wd:Q217305 ;\n",
    "            wdt:P31 wd:Q5 ;\n",
    "            wdt:P166 ?price .\n",
    "               \n",
    "    OPTIONAL { ?worker sc:name ?personName . }\n",
    "    \n",
    "    \n",
    "}\n",
    "LIMIT 10\n",
    "\"\"\"\n",
    "\n",
    "print(\"Results\")\n",
    "run_query(queryString)"
   ]
  },
  {
   "cell_type": "markdown",
   "id": "97d3b40e-e23f-421b-8157-46fe9f94c67a",
   "metadata": {},
   "source": [
    "### See the price names"
   ]
  },
  {
   "cell_type": "code",
   "execution_count": 47,
   "id": "3a77fd66-c14a-4b1c-91a8-16be41fca32f",
   "metadata": {},
   "outputs": [
    {
     "name": "stdout",
     "output_type": "stream",
     "text": [
      "Results\n",
      "[('personName', 'Elizabeth Kolbert'), ('prices', 'Guggenheim Fellowship; Heinz Award; Lannan Literary Awards; Science Journalism Award - Magazine; National Magazine Award')]\n",
      "[('personName', 'Lawrence Wright'), ('prices', 'Lionel Gelber Prize; Lionel Gelber Prize; Pulitzer Prize for General Non-Fiction; Pulitzer Prize for General Non-Fiction; Los Angeles Times Book Prize; Los Angeles Times Book Prize; J. Anthony Lukas Book Prize; J. Anthony Lukas Book Prize; Helen Bernstein Book Award for Excellence in Journalism; Helen Bernstein Book Award for Excellence in Journalism')]\n",
      "[('personName', 'Ryan Lizza'), ('prices', 'Aldo Beckman Memorial Award; Edwin M. Hood Award for Diplomatic Correspondence')]\n",
      "[('personName', 'Bernard Lewis'), ('prices', 'George Polk Award')]\n",
      "[('personName', 'Masha Gessen'), ('prices', 'Leipzig Book Award for European Understanding; National Book Award for Nonfiction; Kurt Tucholsky Prize')]\n",
      "[('personName', 'Lizzie Presser'), ('prices', 'George Polk Award')]\n",
      "[('personName', 'Ronan Farrow'), ('prices', 'Rhodes Scholarship; Rhodes Scholarship; Pulitzer Prize for Public Service; Pulitzer Prize for Public Service; George Polk Award; George Polk Award')]\n",
      "[('personName', 'Susan Orlean'), ('prices', 'Guggenheim Fellowship')]\n",
      "[('personName', 'Hannah Arendt'), ('prices', 'Sigmund Freud Prize; Emerson-Thoreau Medal; Guggenheim Fellowship; honorary doctor of the Princeton University; AAAS Fellow')]\n",
      "[('personName', 'Ben Taub'), ('prices', 'Robert F. Kennedy Journalism Award; Robert F. Kennedy Journalism Award; George Polk Award; George Polk Award; Pulitzer Prize for Feature Writing; Pulitzer Prize for Feature Writing; National Magazine Award; National Magazine Award; Livingston Award; Livingston Award; United Nations Correspondents Association; United Nations Correspondents Association; Overseas Press Club; Overseas Press Club')]\n"
     ]
    },
    {
     "data": {
      "text/plain": [
       "10"
      ]
     },
     "execution_count": 47,
     "metadata": {},
     "output_type": "execute_result"
    }
   ],
   "source": [
    "queryString = \"\"\"\n",
    "SELECT DISTINCT ?personName (GROUP_CONCAT(?priceName; SEPARATOR=\"; \") as ?prices)\n",
    "WHERE { \n",
    "    \n",
    "    ?worker ?works wd:Q217305 ;\n",
    "            wdt:P31 wd:Q5 ;\n",
    "            wdt:P166 ?price .\n",
    "    OPTIONAL { ?price sc:name ?priceName. }\n",
    "               \n",
    "    OPTIONAL { ?worker sc:name ?personName . }\n",
    "    \n",
    "    \n",
    "} GROUP BY ?personName ?worker\n",
    "LIMIT 10\n",
    "\"\"\"\n",
    "\n",
    "print(\"Results\")\n",
    "run_query(queryString)"
   ]
  },
  {
   "cell_type": "markdown",
   "id": "65686f87-c3f7-4a74-9225-8bebbb8ee53a",
   "metadata": {},
   "source": [
    "### Search nominated workers"
   ]
  },
  {
   "cell_type": "code",
   "execution_count": 48,
   "id": "6d75bcca-1c7a-425d-9fab-6f5aaf47c80d",
   "metadata": {},
   "outputs": [
    {
     "name": "stdout",
     "output_type": "stream",
     "text": [
      "Results\n",
      "[('personName', 'James Thurber'), ('pName', 'nominated for'), ('p', 'http://www.wikidata.org/prop/direct/P1411')]\n",
      "[('personName', 'Mavis Gallant'), ('pName', 'nominated for'), ('p', 'http://www.wikidata.org/prop/direct/P1411')]\n",
      "[('personName', 'Hannah Arendt'), ('pName', 'nominated for'), ('p', 'http://www.wikidata.org/prop/direct/P1411')]\n",
      "[('personName', 'Chris Ware'), ('pName', 'nominated for'), ('p', 'http://www.wikidata.org/prop/direct/P1411')]\n",
      "[('personName', 'Atul Gawande'), ('pName', 'nominated for'), ('p', 'http://www.wikidata.org/prop/direct/P1411')]\n",
      "[('personName', 'Edmund Wilson'), ('pName', 'nominated for'), ('p', 'http://www.wikidata.org/prop/direct/P1411')]\n",
      "[('personName', 'Alan Campbell'), ('pName', 'Academy Awards Database nominee ID'), ('p', 'http://www.wikidata.org/prop/direct/P6150')]\n",
      "[('personName', 'Alan Campbell'), ('pName', 'nominated for'), ('p', 'http://www.wikidata.org/prop/direct/P1411')]\n",
      "[('personName', 'Dorothy Parker'), ('pName', 'nominated for'), ('p', 'http://www.wikidata.org/prop/direct/P1411')]\n",
      "[('personName', 'Dorothy Parker'), ('pName', 'Academy Awards Database nominee ID'), ('p', 'http://www.wikidata.org/prop/direct/P6150')]\n",
      "[('personName', 'Lewis Mumford'), ('pName', 'nominated for'), ('p', 'http://www.wikidata.org/prop/direct/P1411')]\n",
      "[('personName', 'Lawrence Wright'), ('pName', 'nominated for'), ('p', 'http://www.wikidata.org/prop/direct/P1411')]\n",
      "[('personName', 'Jill Lepore'), ('pName', 'nominated for'), ('p', 'http://www.wikidata.org/prop/direct/P1411')]\n",
      "[('personName', 'Peter Hessler'), ('pName', 'nominated for'), ('p', 'http://www.wikidata.org/prop/direct/P1411')]\n",
      "[('personName', 'Steve Coll'), ('pName', 'nominated for'), ('p', 'http://www.wikidata.org/prop/direct/P1411')]\n",
      "[('personName', 'David Remnick'), ('pName', 'nominated for'), ('p', 'http://www.wikidata.org/prop/direct/P1411')]\n"
     ]
    },
    {
     "data": {
      "text/plain": [
       "16"
      ]
     },
     "execution_count": 48,
     "metadata": {},
     "output_type": "execute_result"
    }
   ],
   "source": [
    "queryString = \"\"\"\n",
    "SELECT DISTINCT ?personName ?pName ?p\n",
    "WHERE { \n",
    "    \n",
    "    ?worker ?p ?o .\n",
    "    \n",
    "    ?p sc:name ?pName .\n",
    "    \n",
    "    FILTER regex(?pName, \".*nomin.*\")\n",
    "        \n",
    "    {\n",
    "        SELECT DISTINCT ?worker WHERE{\n",
    "        ?worker ?works wd:Q217305 ;\n",
    "                wdt:P31 wd:Q5 .\n",
    "        }           \n",
    "    }\n",
    "    \n",
    "    OPTIONAL { ?worker sc:name ?personName . }  \n",
    "} \n",
    "\"\"\"\n",
    "\n",
    "print(\"Results\")\n",
    "run_query(queryString)"
   ]
  },
  {
   "cell_type": "markdown",
   "id": "da3bf5e7-f4d6-4197-b5c2-3a993e0e2d30",
   "metadata": {},
   "source": [
    "### Price name and nominated wdt:P1411"
   ]
  },
  {
   "cell_type": "code",
   "execution_count": 49,
   "id": "7128e93e-6d65-4815-9473-44e698dd850d",
   "metadata": {},
   "outputs": [
    {
     "name": "stdout",
     "output_type": "stream",
     "text": [
      "Results\n",
      "[('personName', 'Mavis Gallant'), ('nominatedFor', \"Governor General's Award for English-language fiction\")]\n",
      "[('personName', 'David Remnick'), ('nominatedFor', 'Pulitzer Prize for General Non-Fiction; Pulitzer Prize for General Non-Fiction; Pulitzer Prize for International Reporting; Pulitzer Prize for International Reporting')]\n",
      "[('personName', 'James Thurber'), ('nominatedFor', 'Nobel Prize in Literature')]\n",
      "[('personName', 'Edmund Wilson'), ('nominatedFor', 'Nobel Prize in Literature; National Book Award for Nonfiction')]\n",
      "[('personName', 'Dorothy Parker'), ('nominatedFor', 'Academy Award for Best Story; Academy Award for Best Writing, Adapted Screenplay')]\n",
      "[('personName', 'Alan Campbell'), ('nominatedFor', 'Academy Award for Best Writing, Adapted Screenplay')]\n",
      "[('personName', 'Jill Lepore'), ('nominatedFor', 'Pulitzer Prize for History; Pulitzer Prize for History; National Book Award for Nonfiction; National Book Award for Nonfiction')]\n",
      "[('personName', 'Peter Hessler'), ('nominatedFor', 'National Book Award for Nonfiction')]\n",
      "[('personName', 'Steve Coll'), ('nominatedFor', 'Pulitzer Prize for General Non-Fiction; Pulitzer Prize for General Non-Fiction')]\n",
      "[('personName', 'Lawrence Wright'), ('nominatedFor', 'Pulitzer Prize for General Non-Fiction; Pulitzer Prize for General Non-Fiction; National Book Award for Nonfiction; National Book Award for Nonfiction')]\n",
      "[('personName', 'Atul Gawande'), ('nominatedFor', 'National Book Award for Nonfiction')]\n",
      "[('personName', 'Chris Ware'), ('nominatedFor', 'Guardian First Book Award')]\n",
      "[('personName', 'Hannah Arendt'), ('nominatedFor', 'National Book Award for Nonfiction')]\n",
      "[('personName', 'Lewis Mumford'), ('nominatedFor', 'National Book Award for Nonfiction')]\n"
     ]
    },
    {
     "data": {
      "text/plain": [
       "14"
      ]
     },
     "execution_count": 49,
     "metadata": {},
     "output_type": "execute_result"
    }
   ],
   "source": [
    "queryString = \"\"\"\n",
    "SELECT DISTINCT ?personName (GROUP_CONCAT(?priceName; separator=\"; \") AS ?nominatedFor)\n",
    "WHERE { \n",
    "             \n",
    "    ?worker ?works wd:Q217305 ;\n",
    "            wdt:P31 wd:Q5 ;\n",
    "            wdt:P1411 ?price .\n",
    "    \n",
    "    OPTIONAL { ?price sc:name ?priceName .}\n",
    "    OPTIONAL { ?worker sc:name ?personName . }  \n",
    "} \n",
    "\"\"\"\n",
    "\n",
    "print(\"Results\")\n",
    "run_query(queryString)"
   ]
  },
  {
   "cell_type": "code",
   "execution_count": 50,
   "id": "5f211c8c-ecf5-4074-bace-72dd1f5ae673",
   "metadata": {},
   "outputs": [
    {
     "name": "stdout",
     "output_type": "stream",
     "text": [
      "Results\n"
     ]
    },
    {
     "data": {
      "text/plain": [
       "{'head': {'link': []}, 'boolean': True}"
      ]
     },
     "execution_count": 50,
     "metadata": {},
     "output_type": "execute_result"
    }
   ],
   "source": [
    "queryString = \"\"\"\n",
    "ASK WHERE { \n",
    "             \n",
    "    ?worker ?works wd:Q217305 ;\n",
    "            wdt:P31 wd:Q5 ;\n",
    "            wdt:P1411 ?price .\n",
    "} \n",
    "\"\"\"\n",
    "\n",
    "print(\"Results\")\n",
    "run_ask_query(queryString)"
   ]
  },
  {
   "cell_type": "markdown",
   "id": "bc3aa794-9da1-4da4-a9fa-76b8f0827fa7",
   "metadata": {},
   "source": [
    "### Results\n",
    "As we can see from the last query that there is at least one \"The New Yorker\" worker has been nominated for a price or award.\n",
    "\n",
    "In the previous query you can also see their name and the price or award where they has been nominated."
   ]
  },
  {
   "cell_type": "code",
   "execution_count": null,
   "id": "e081a6b3-ab39-47c8-8b7b-8ac22c641a2f",
   "metadata": {},
   "outputs": [],
   "source": []
  }
 ],
 "metadata": {
  "kernelspec": {
   "display_name": "Python 3",
   "language": "python",
   "name": "python3"
  },
  "language_info": {
   "codemirror_mode": {
    "name": "ipython",
    "version": 3
   },
   "file_extension": ".py",
   "mimetype": "text/x-python",
   "name": "python",
   "nbconvert_exporter": "python",
   "pygments_lexer": "ipython3",
   "version": "3.7.10"
  }
 },
 "nbformat": 4,
 "nbformat_minor": 5
}
