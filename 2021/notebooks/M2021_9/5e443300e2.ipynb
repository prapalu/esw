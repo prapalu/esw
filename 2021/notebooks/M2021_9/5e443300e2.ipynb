{
 "cells": [
  {
   "cell_type": "markdown",
   "id": "7034c3bf-6eb0-4418-8687-7b9d2a501103",
   "metadata": {},
   "source": [
    "# General instructions\n",
    "\n",
    "The goal of the project is to materialize a set of **exploratory workloads** over a real-world, large-scale,  open-domain KG: [WikiData](https://www.wikidata.org/wiki/Wikidata:Main_Page)\n",
    "\n",
    "An exploratory workload  is composed by a set of queries, where each query is related to the information obtained previously.\n",
    "\n",
    "An exploratory workload starts with a usually vague, open ended question, and does not assume the person issuing the workload has a clear understanding of the data contained in the target database or its structure.\n",
    "\n",
    "Remeber that:\n",
    "\n",
    "1. All the queries must run in the python notebook\n",
    "2. You can use classes and properties only if you find them via a SPARQL query that must be present in the notebook\n",
    "3. You do not delete useless queries. Keep everything that is synthatically valid \n",
    "\n",
    "```\n",
    "?p <http://schema.org/name> ?name .\n",
    "```\n",
    "    \n",
    "is the BGP returning a human-readable name of a property or a class in Wikidata.\n",
    "    \n",
    "    "
   ]
  },
  {
   "cell_type": "code",
   "execution_count": 1,
   "id": "3605c9d5-5371-49a5-be8d-d66e8f417139",
   "metadata": {},
   "outputs": [],
   "source": [
    "## SETUP used later\n",
    "\n",
    "from SPARQLWrapper import SPARQLWrapper, JSON\n",
    "\n",
    "\n",
    "prefixString = \"\"\"\n",
    "##-5e443300e2-##\n",
    "PREFIX wd: <http://www.wikidata.org/entity/> \n",
    "PREFIX wdt: <http://www.wikidata.org/prop/direct/> \n",
    "PREFIX sc: <http://schema.org/>\n",
    "\"\"\"\n",
    "\n",
    "# select and construct queries\n",
    "def run_query(queryString):\n",
    "    to_run = prefixString + \"\\n\" + queryString\n",
    "\n",
    "    sparql = SPARQLWrapper(\"http://a256-gc1-02.srv.aau.dk:5820/sparql\")\n",
    "    sparql.setTimeout(300)\n",
    "    sparql.setReturnFormat(JSON)\n",
    "    sparql.setQuery(to_run)\n",
    "\n",
    "    try :\n",
    "       results = sparql.query()\n",
    "       json_results = results.convert()\n",
    "       if len(json_results['results']['bindings'])==0:\n",
    "          print(\"Empty\")\n",
    "          return 0\n",
    "    \n",
    "       for bindings in json_results['results']['bindings']:\n",
    "          print( [ (var, value['value'])  for var, value in bindings.items() ] )\n",
    "\n",
    "       return len(json_results['results']['bindings'])\n",
    "\n",
    "    except Exception as e :\n",
    "        print(\"The operation failed\", e)\n",
    "    \n",
    "# ASk queries\n",
    "def run_ask_query(queryString):\n",
    "    to_run = prefixString + \"\\n\" + queryString\n",
    "\n",
    "    sparql = SPARQLWrapper(\"http://a256-gc1-02.srv.aau.dk:5820/sparql\")\n",
    "    sparql.setTimeout(300)\n",
    "    sparql.setReturnFormat(JSON)\n",
    "    sparql.setQuery(to_run)\n",
    "\n",
    "    try :\n",
    "        return sparql.query().convert()\n",
    "\n",
    "    except Exception as e :\n",
    "        print(\"The operation failed\", e)\n"
   ]
  },
  {
   "cell_type": "markdown",
   "id": "d477a59c-a68c-4c8f-9f97-8ca5294d7d27",
   "metadata": {},
   "source": [
    "# Politics Workflow Series (\"International Treaties\") \n",
    "\n",
    "Consider the following exploratory information need:\n",
    "\n",
    "> You investigating existing international treaties"
   ]
  },
  {
   "cell_type": "markdown",
   "id": "4a45c0ba-f79e-441d-bec5-84401b09db70",
   "metadata": {},
   "source": [
    "## Useful URIs for the current workflow\n",
    "\n",
    "\n",
    "The following are given:\n",
    "\n",
    "| IRI           | Description   | Role      |\n",
    "| -----------   | -----------   |-----------|\n",
    "| `wdt:P1647`   | subproperty   | predicate |\n",
    "| `wdt:P31`     | instance of   | predicate |\n",
    "| `wdt:P279`    | subclass      | predicate |\n",
    "| `wdt:P17`     | country       | predicate |\n",
    "| `wdt:P27`     | citizenship   | predicate |\n",
    "| `wdt:P39`     | position held   | predicate |\n",
    "| `wd:Q131569`  | treaty | node      |\n",
    "| `wd:Q46`      | Europe        | node |\n",
    "| `wd:Q38`      | Italy          | node |\n",
    "| `wd:Q21707860` | Paris Agreement           | node |\n",
    "\n",
    "\n",
    "\n",
    "Also consider\n",
    "\n",
    "```\n",
    "?p wdt:P31/wdt:P279* wd:Q131569  . \n",
    "```\n",
    "\n",
    "is the BGP to retrieve all **treaties**"
   ]
  },
  {
   "cell_type": "markdown",
   "id": "532bb33e-dcfa-4e1a-98d6-dbc815b79901",
   "metadata": {
    "tags": []
   },
   "source": [
    "## Workload Goals\n",
    "\n",
    "\n",
    "1. Identify the BGP to retrieve treaties that took place in E.U. countries\n",
    "\n",
    "2. Identify the BGP for obtaining which countries or people signed the treaties\n",
    "\n",
    "3. How many treaties have been published per year?\n",
    "\n",
    "4. For how many treaties we know causes or effects?\n",
    "\n",
    "5. Analyze the number of countries and how many treaties they have signed and their causes\n",
    " \n",
    "   5.1 Are there two countries that signed many common treaties?\n",
    "   \n",
    "   5.2 Which are the treaties with most signatories? Which country signed the most treaties?\n",
    "   \n",
    "   5.3 Are there countries that did not sign a treaty with the U.S. but signed a treaty with Germany?\n"
   ]
  },
  {
   "cell_type": "code",
   "execution_count": 2,
   "id": "24a853ab-830c-422c-afd3-e9e015b8b8ed",
   "metadata": {},
   "outputs": [],
   "source": [
    "# start your workflow here"
   ]
  },
  {
   "cell_type": "code",
   "execution_count": 3,
   "id": "ade01416-92e7-4ad7-b9a9-b8fb330750dc",
   "metadata": {},
   "outputs": [
    {
     "name": "stdout",
     "output_type": "stream",
     "text": [
      "Results\n",
      "[('callret-0', '3962')]\n"
     ]
    },
    {
     "data": {
      "text/plain": [
       "1"
      ]
     },
     "execution_count": 3,
     "metadata": {},
     "output_type": "execute_result"
    }
   ],
   "source": [
    "queryString = \"\"\"\n",
    "SELECT COUNT(*)\n",
    "WHERE { \n",
    "\n",
    "?p wdt:P31/wdt:P279* wd:Q131569  . \n",
    "} \n",
    "\"\"\"\n",
    "\n",
    "print(\"Results\")\n",
    "run_query(queryString)"
   ]
  },
  {
   "cell_type": "markdown",
   "id": "c0f0175b-69d6-4ac5-8fd4-ce402ece013d",
   "metadata": {},
   "source": [
    "## Part 1\n",
    "### Identify the BGP to retrieve treaties that took place in E.U. countries"
   ]
  },
  {
   "cell_type": "markdown",
   "id": "e35d90b0-59e8-4b21-b94f-32154770842f",
   "metadata": {},
   "source": [
    "### Try to reach \"took place\" or similar predicate"
   ]
  },
  {
   "cell_type": "code",
   "execution_count": 4,
   "id": "07995822-7a5c-4a2a-a9e1-356b68bcc5f8",
   "metadata": {},
   "outputs": [
    {
     "name": "stdout",
     "output_type": "stream",
     "text": [
      "Results\n",
      "[('pName', 'located in the administrative territorial entity'), ('p', 'http://www.wikidata.org/prop/direct/P131')]\n",
      "[('pName', 'locator map image'), ('p', 'http://www.wikidata.org/prop/direct/P242')]\n",
      "[('pName', 'location'), ('p', 'http://www.wikidata.org/prop/direct/P276')]\n",
      "[('pName', 'located in/on physical feature'), ('p', 'http://www.wikidata.org/prop/direct/P706')]\n",
      "[('pName', 'replaces'), ('p', 'http://www.wikidata.org/prop/direct/P1365')]\n",
      "[('pName', 'replaced by'), ('p', 'http://www.wikidata.org/prop/direct/P1366')]\n",
      "[('pName', 'place of publication'), ('p', 'http://www.wikidata.org/prop/direct/P291')]\n",
      "[('pName', 'significant place'), ('p', 'http://www.wikidata.org/prop/direct/P7153')]\n",
      "[('pName', 'headquarters location'), ('p', 'http://www.wikidata.org/prop/direct/P159')]\n",
      "[('pName', 'location of formation'), ('p', 'http://www.wikidata.org/prop/direct/P740')]\n",
      "[('pName', 'location of creation'), ('p', 'http://www.wikidata.org/prop/direct/P1071')]\n",
      "[('pName', 'located in time zone'), ('p', 'http://www.wikidata.org/prop/direct/P421')]\n"
     ]
    },
    {
     "data": {
      "text/plain": [
       "12"
      ]
     },
     "execution_count": 4,
     "metadata": {},
     "output_type": "execute_result"
    }
   ],
   "source": [
    "queryString = \"\"\"\n",
    "SELECT DISTINCT ?pName ?p\n",
    "WHERE { \n",
    "\n",
    "    ?s wdt:P31/wdt:P279* wd:Q131569  .\n",
    "    ?s ?p ?o.\n",
    "    OPTIONAL{?p sc:name ?pName}\n",
    "    FILTER (regex(?pName, \".*place.*\")||regex(?pName, \".*loca.*\"))\n",
    "    OPTIONAL{?o sc:name ?oName}\n",
    "} LIMIT 50\n",
    "\"\"\"\n",
    "\n",
    "print(\"Results\")\n",
    "run_query(queryString)"
   ]
  },
  {
   "cell_type": "markdown",
   "id": "34d3d72e-2309-4cf7-8f6e-1a1ac648905f",
   "metadata": {},
   "source": [
    "### See difference of \"location\" wdt:P276 and \"place of pubblication\" wdt:P291"
   ]
  },
  {
   "cell_type": "code",
   "execution_count": 5,
   "id": "88dcb85d-f52e-4059-8b8e-729a80c94a2f",
   "metadata": {},
   "outputs": [
    {
     "name": "stdout",
     "output_type": "stream",
     "text": [
      "Results\n",
      "[('location', 'http://www.wikidata.org/entity/Q71'), ('publ', 'http://www.wikidata.org/entity/Q71')]\n",
      "[('publ', 'http://www.wikidata.org/entity/Q15681')]\n",
      "[('publ', 'http://www.wikidata.org/entity/Q340')]\n",
      "[('publ', 'http://www.wikidata.org/entity/Q20934')]\n",
      "[('publ', 'http://www.wikidata.org/entity/Q98633573')]\n",
      "[('publ', 'http://www.wikidata.org/entity/Q43631')]\n",
      "[('publ', 'http://www.wikidata.org/entity/Q71')]\n",
      "[('publ', 'http://www.wikidata.org/entity/Q1773')]\n",
      "[('location', 'http://www.wikidata.org/entity/Q168057')]\n",
      "[('location', 'http://www.wikidata.org/entity/Q1309')]\n",
      "[('location', 'http://www.wikidata.org/entity/Q60')]\n",
      "[('location', 'http://www.wikidata.org/entity/Q3844')]\n",
      "[('location', 'http://www.wikidata.org/entity/Q1741')]\n",
      "[('location', 'http://www.wikidata.org/entity/Q60')]\n",
      "[('location', 'http://www.wikidata.org/entity/Q5465')]\n",
      "[('location', 'http://www.wikidata.org/entity/Q211818')]\n",
      "[('location', 'http://www.wikidata.org/entity/Q1055')]\n",
      "[('location', 'http://www.wikidata.org/entity/Q84')]\n",
      "[('location', 'http://www.wikidata.org/entity/Q404795')]\n",
      "[('location', 'http://www.wikidata.org/entity/Q1322410')]\n",
      "[('location', 'http://www.wikidata.org/entity/Q1368571')]\n",
      "[('location', 'http://www.wikidata.org/entity/Q2244354')]\n",
      "[('location', 'http://www.wikidata.org/entity/Q1201210')]\n",
      "[('location', 'http://www.wikidata.org/entity/Q61')]\n",
      "[('location', 'http://www.wikidata.org/entity/Q34925')]\n",
      "[('location', 'http://www.wikidata.org/entity/Q199889')]\n",
      "[('location', 'http://www.wikidata.org/entity/Q84')]\n",
      "[('location', 'http://www.wikidata.org/entity/Q571767')]\n",
      "[('location', 'http://www.wikidata.org/entity/Q220')]\n",
      "[('location', 'http://www.wikidata.org/entity/Q60')]\n"
     ]
    },
    {
     "data": {
      "text/plain": [
       "30"
      ]
     },
     "execution_count": 5,
     "metadata": {},
     "output_type": "execute_result"
    }
   ],
   "source": [
    "queryString = \"\"\"\n",
    "SELECT DISTINCT ?location ?publ\n",
    "WHERE { \n",
    "\n",
    "    ?s wdt:P31/wdt:P279* wd:Q131569 .\n",
    "    \n",
    "    OPTIONAL{ ?s wdt:P276 ?location . }\n",
    "    OPTIONAL{ ?s wdt:P291 ?publ . }\n",
    "    \n",
    "} LIMIT 30\n",
    "\"\"\"\n",
    "\n",
    "print(\"Results\")\n",
    "run_query(queryString)"
   ]
  },
  {
   "cell_type": "markdown",
   "id": "368333fc-8530-45f8-9a5e-09f9d8c8f33f",
   "metadata": {},
   "source": [
    "### See how many \"location\" wdt:P276 and \"place of pubblication\" wdt:P291"
   ]
  },
  {
   "cell_type": "code",
   "execution_count": 6,
   "id": "bda24e52-6729-47a8-b668-4150d7cad224",
   "metadata": {},
   "outputs": [
    {
     "name": "stdout",
     "output_type": "stream",
     "text": [
      "Results\n",
      "[('numb1', '732'), ('numb2', '11')]\n"
     ]
    },
    {
     "data": {
      "text/plain": [
       "1"
      ]
     },
     "execution_count": 6,
     "metadata": {},
     "output_type": "execute_result"
    }
   ],
   "source": [
    "queryString = \"\"\"\n",
    "SELECT (COUNT(?location) as ?numb1) (COUNT(?publ) AS ?numb2)\n",
    "WHERE { \n",
    "\n",
    "    ?s wdt:P31/wdt:P279* wd:Q131569 .\n",
    "    \n",
    "    OPTIONAL{ ?s wdt:P276 ?location . }\n",
    "    OPTIONAL{ ?s wdt:P291 ?publ . }\n",
    "    \n",
    "}\n",
    "\"\"\"\n",
    "\n",
    "print(\"Results\")\n",
    "run_query(queryString)"
   ]
  },
  {
   "cell_type": "markdown",
   "id": "948a1d8f-18ab-4bca-9599-b49f7b43151b",
   "metadata": {},
   "source": [
    "### Search for locations"
   ]
  },
  {
   "cell_type": "code",
   "execution_count": 7,
   "id": "d8cda8e2-d4d7-4f01-88e9-3b1019a7b84e",
   "metadata": {},
   "outputs": [
    {
     "name": "stdout",
     "output_type": "stream",
     "text": [
      "Results\n",
      "[('location', 'http://www.wikidata.org/entity/Q1187087'), ('locName', 'Florida Territory')]\n",
      "[('location', 'http://www.wikidata.org/entity/Q464955'), ('locName', 'Windsor')]\n",
      "[('location', 'http://www.wikidata.org/entity/Q246884'), ('locName', 'Lewes')]\n",
      "[('location', 'http://www.wikidata.org/entity/Q583982'), ('locName', 'Anjangaon')]\n",
      "[('location', 'http://www.wikidata.org/entity/Q672990'), ('locName', 'Bilhorod-Dnistrovskyi')]\n",
      "[('location', 'http://www.wikidata.org/entity/Q71279'), ('locName', 'Malbork Castle')]\n",
      "[('location', 'http://www.wikidata.org/entity/Q605984'), ('locName', 'Amapala')]\n",
      "[('location', 'http://www.wikidata.org/entity/Q1663'), ('locName', 'Split')]\n",
      "[('location', 'http://www.wikidata.org/entity/Q393'), ('locName', 'Szczecin')]\n",
      "[('location', 'http://www.wikidata.org/entity/Q4120832'), ('locName', 'Königsberg')]\n",
      "[('location', 'http://www.wikidata.org/entity/Q41795540'), ('locName', 'The Hague')]\n",
      "[('location', 'http://www.wikidata.org/entity/Q56037'), ('locName', 'East Berlin')]\n",
      "[('location', 'http://www.wikidata.org/entity/Q72'), ('locName', 'Zürich')]\n",
      "[('location', 'http://www.wikidata.org/entity/Q254835'), ('locName', 'Bad Gastein')]\n",
      "[('location', 'http://www.wikidata.org/entity/Q52842'), ('locName', 'Kalisz')]\n",
      "[('location', 'http://www.wikidata.org/entity/Q93230'), ('locName', 'Rawalpindi')]\n",
      "[('location', 'http://www.wikidata.org/entity/Q168057'), ('locName', 'Craiova')]\n",
      "[('location', 'http://www.wikidata.org/entity/Q1865'), ('locName', 'Kuala Lumpur')]\n",
      "[('location', 'http://www.wikidata.org/entity/Q199889'), ('locName', 'Kumamoto')]\n",
      "[('location', 'http://www.wikidata.org/entity/Q2324747'), ('locName', 'Niedersächsisches Staatsarchiv')]\n"
     ]
    },
    {
     "data": {
      "text/plain": [
       "20"
      ]
     },
     "execution_count": 7,
     "metadata": {},
     "output_type": "execute_result"
    }
   ],
   "source": [
    "queryString = \"\"\"\n",
    "SELECT DISTINCT ?location ?locName\n",
    "WHERE { \n",
    "\n",
    "    ?s wdt:P31/wdt:P279* wd:Q131569 ;\n",
    "       wdt:P276 ?location .\n",
    "    ?location sc:name ?locName .\n",
    "} LIMIT 20\n",
    "\"\"\"\n",
    "\n",
    "print(\"Results\")\n",
    "run_query(queryString)"
   ]
  },
  {
   "cell_type": "markdown",
   "id": "2c9243b6-4719-4bb5-b8cb-43dd91d4c821",
   "metadata": {},
   "source": [
    "### Search information about the entity Zürich"
   ]
  },
  {
   "cell_type": "code",
   "execution_count": 8,
   "id": "a862116d-b003-49f0-b2a2-0cd81c16f6ea",
   "metadata": {},
   "outputs": [
    {
     "name": "stdout",
     "output_type": "stream",
     "text": [
      "Results\n",
      "[('p', 'http://www.w3.org/1999/02/22-rdf-syntax-ns#type')]\n",
      "[('p', 'http://www.wikidata.org/prop/direct-normalized/P1566')]\n",
      "[('p', 'http://www.wikidata.org/prop/direct-normalized/P1617')]\n",
      "[('p', 'http://www.wikidata.org/prop/direct-normalized/P1667')]\n",
      "[('p', 'http://www.wikidata.org/prop/direct-normalized/P214')]\n",
      "[('p', 'http://www.wikidata.org/prop/direct-normalized/P227')]\n",
      "[('p', 'http://www.wikidata.org/prop/direct-normalized/P2347')]\n",
      "[('p', 'http://www.wikidata.org/prop/direct-normalized/P244')]\n",
      "[('p', 'http://www.wikidata.org/prop/direct-normalized/P2581')]\n",
      "[('p', 'http://www.wikidata.org/prop/direct-normalized/P268')]\n",
      "[('p', 'http://www.wikidata.org/prop/direct-normalized/P269')]\n",
      "[('p', 'http://www.wikidata.org/prop/direct-normalized/P402')]\n",
      "[('p', 'http://www.wikidata.org/prop/direct-normalized/P5063')]\n",
      "[('p', 'http://www.wikidata.org/prop/direct-normalized/P646')]\n",
      "[('p', 'http://www.wikidata.org/prop/direct-normalized/P6821')]\n",
      "[('p', 'http://www.wikidata.org/prop/direct-normalized/P8519')]\n",
      "[('p', 'http://www.wikidata.org/prop/direct-normalized/P982')]\n",
      "[('p', 'http://schema.org/name')]\n",
      "[('p', 'http://www.wikidata.org/prop/direct/P1617'), ('pName', 'BBC Things ID')]\n",
      "[('p', 'http://www.wikidata.org/prop/direct/P9037'), ('pName', 'BHCL UUID')]\n",
      "[('p', 'http://www.wikidata.org/prop/direct/P2581'), ('pName', 'BabelNet ID')]\n",
      "[('p', 'http://www.wikidata.org/prop/direct/P7832'), ('pName', 'Basque Vikidia ID')]\n",
      "[('p', 'http://www.wikidata.org/prop/direct/P268'), ('pName', 'Bibliothèque nationale de France ID')]\n",
      "[('p', 'http://www.wikidata.org/prop/direct/P5019'), ('pName', 'Brockhaus Enzyklopädie online ID')]\n",
      "[('p', 'http://www.wikidata.org/prop/direct/P3241'), ('pName', 'Catholic Encyclopedia ID')]\n",
      "[('p', 'http://www.wikidata.org/prop/direct/P373'), ('pName', 'Commons category')]\n",
      "[('p', 'http://www.wikidata.org/prop/direct/P935'), ('pName', 'Commons gallery')]\n",
      "[('p', 'http://www.wikidata.org/prop/direct/P998'), ('pName', 'Curlie ID')]\n",
      "[('p', 'http://www.wikidata.org/prop/direct/P4672'), ('pName', 'EMLO location ID')]\n",
      "[('p', 'http://www.wikidata.org/prop/direct/P1417'), ('pName', 'Encyclopædia Britannica Online ID')]\n",
      "[('p', 'http://www.wikidata.org/prop/direct/P3219'), ('pName', 'Encyclopædia Universalis ID')]\n",
      "[('p', 'http://www.wikidata.org/prop/direct/P1997'), ('pName', 'Facebook Places ID')]\n",
      "[('p', 'http://www.wikidata.org/prop/direct/P8168'), ('pName', 'FactGrid item ID')]\n",
      "[('p', 'http://www.wikidata.org/prop/direct/P646'), ('pName', 'Freebase ID')]\n",
      "[('p', 'http://www.wikidata.org/prop/direct/P7818'), ('pName', 'French Vikidia ID')]\n",
      "[('p', 'http://www.wikidata.org/prop/direct/P227'), ('pName', 'GND ID')]\n",
      "[('p', 'http://www.wikidata.org/prop/direct/P1566'), ('pName', 'GeoNames ID')]\n",
      "[('p', 'http://www.wikidata.org/prop/direct/P1667'), ('pName', 'Getty Thesaurus of Geographic Names ID')]\n",
      "[('p', 'http://www.wikidata.org/prop/direct/P9100'), ('pName', 'GitHub topic')]\n",
      "[('p', 'http://www.wikidata.org/prop/direct/P1842'), ('pName', 'Global Anabaptist Mennonite Encyclopedia Online ID')]\n",
      "[('p', 'http://www.wikidata.org/prop/direct/P1296'), ('pName', 'Gran Enciclopèdia Catalana ID')]\n",
      "[('p', 'http://www.wikidata.org/prop/direct/P2924'), ('pName', 'Great Russian Encyclopedia Online ID')]\n",
      "[('p', 'http://www.wikidata.org/prop/direct/P8406'), ('pName', 'Grove Art Online ID')]\n",
      "[('p', 'http://www.wikidata.org/prop/direct/P902'), ('pName', 'HDS ID')]\n",
      "[('p', 'http://www.wikidata.org/prop/direct/P213'), ('pName', 'ISNI')]\n",
      "[('p', 'http://www.wikidata.org/prop/direct/P269'), ('pName', 'IdRef ID')]\n",
      "[('p', 'http://www.wikidata.org/prop/direct/P5063'), ('pName', 'Interlingual Index ID')]\n",
      "[('p', 'http://www.wikidata.org/prop/direct/P8590'), ('pName', 'Jewish Encyclopedia ID')]\n",
      "[('p', 'http://www.wikidata.org/prop/direct/P7850'), ('pName', 'Joconde location ID')]\n",
      "[('p', 'http://www.wikidata.org/prop/direct/P6573'), ('pName', 'Klexikon article ID')]\n",
      "[('p', 'http://www.wikidata.org/prop/direct/P244'), ('pName', 'Library of Congress authority ID')]\n",
      "[('p', 'http://www.wikidata.org/prop/direct/P982'), ('pName', 'MusicBrainz area ID')]\n",
      "[('p', 'http://www.wikidata.org/prop/direct/P3222'), ('pName', 'NE.se ID')]\n",
      "[('p', 'http://www.wikidata.org/prop/direct/P691'), ('pName', 'NKCR AUT ID')]\n",
      "[('p', 'http://www.wikidata.org/prop/direct/P949'), ('pName', 'National Library of Israel ID')]\n",
      "[('p', 'http://www.wikidata.org/prop/direct/P1245'), ('pName', 'OmegaWiki Defined Meaning')]\n",
      "[('p', 'http://www.wikidata.org/prop/direct/P402'), ('pName', 'OpenStreetMap relation ID')]\n",
      "[('p', 'http://www.wikidata.org/prop/direct/P4212'), ('pName', 'PACTOLS thesaurus ID')]\n",
      "[('p', 'http://www.wikidata.org/prop/direct/P3417'), ('pName', 'Quora topic ID')]\n",
      "[('p', 'http://www.wikidata.org/prop/direct/P8519'), ('pName', 'RKD thesaurus ID')]\n",
      "[('p', 'http://www.wikidata.org/prop/direct/P3500'), ('pName', 'Ringgold ID')]\n",
      "[('p', 'http://www.wikidata.org/prop/direct/P8974'), ('pName', 'SAPA ID')]\n",
      "[('p', 'http://www.wikidata.org/prop/direct/P771'), ('pName', 'Swiss municipality code')]\n",
      "[('p', 'http://www.wikidata.org/prop/direct/P1225'), ('pName', 'U.S. National Archives Identifier')]\n",
      "[('p', 'http://www.wikidata.org/prop/direct/P1937'), ('pName', 'UN/LOCODE')]\n",
      "[('p', 'http://www.wikidata.org/prop/direct/P6821'), ('pName', 'Uppsala University Alvin ID')]\n",
      "[('p', 'http://www.wikidata.org/prop/direct/P214'), ('pName', 'VIAF ID')]\n",
      "[('p', 'http://www.wikidata.org/prop/direct/P1281'), ('pName', 'WOEID')]\n",
      "[('p', 'http://www.wikidata.org/prop/direct/P6766'), ('pName', \"Who's on First ID\")]\n",
      "[('p', 'http://www.wikidata.org/prop/direct/P7859'), ('pName', 'WorldCat Identities ID')]\n",
      "[('p', 'http://www.wikidata.org/prop/direct/P2347'), ('pName', 'YSO ID')]\n",
      "[('p', 'http://www.wikidata.org/prop/direct/P3553'), ('pName', 'Zhihu topic ID')]\n",
      "[('p', 'http://www.wikidata.org/prop/direct/P5573'), ('pName', 'archINFORM location ID')]\n",
      "[('p', 'http://www.wikidata.org/prop/direct/P2046'), ('pName', 'area')]\n",
      "[('p', 'http://www.wikidata.org/prop/direct/P166'), ('pName', 'award received'), ('oName', 'European City of the Reformation')]\n",
      "[('p', 'http://www.wikidata.org/prop/direct/P1376'), ('pName', 'capital of'), ('oName', 'Canton of Zürich')]\n",
      "[('p', 'http://www.wikidata.org/prop/direct/P1376'), ('pName', 'capital of'), ('oName', 'Zürich District')]\n",
      "[('p', 'http://www.wikidata.org/prop/direct/P1740'), ('pName', 'category for films shot at this location'), ('oName', 'Category:Films shot in Zürich')]\n",
      "[('p', 'http://www.wikidata.org/prop/direct/P7867'), ('pName', 'category for maps'), ('oName', 'Category:Maps of Zürich')]\n",
      "[('p', 'http://www.wikidata.org/prop/direct/P1465'), ('pName', 'category for people who died here'), ('oName', 'Category:Deaths in Zürich')]\n",
      "[('p', 'http://www.wikidata.org/prop/direct/P1464'), ('pName', 'category for people born here'), ('oName', 'Category:Births in Zürich')]\n",
      "[('p', 'http://www.wikidata.org/prop/direct/P1792'), ('pName', 'category of associated people'), ('oName', 'Category:People from Zürich')]\n",
      "[('p', 'http://www.wikidata.org/prop/direct/P1791'), ('pName', 'category of people buried here'), ('oName', 'Category:Burials in Zürich')]\n",
      "[('p', 'http://www.wikidata.org/prop/direct/P94'), ('pName', 'coat of arms image')]\n",
      "[('p', 'http://www.wikidata.org/prop/direct/P150'), ('pName', 'contains administrative territorial entity'), ('oName', 'Aussersihl')]\n",
      "[('p', 'http://www.wikidata.org/prop/direct/P150'), ('pName', 'contains administrative territorial entity'), ('oName', 'Schwamendingen')]\n",
      "[('p', 'http://www.wikidata.org/prop/direct/P150'), ('pName', 'contains administrative territorial entity'), ('oName', 'Altstadt')]\n",
      "[('p', 'http://www.wikidata.org/prop/direct/P150'), ('pName', 'contains administrative territorial entity'), ('oName', 'Wiedikon')]\n",
      "[('p', 'http://www.wikidata.org/prop/direct/P150'), ('pName', 'contains administrative territorial entity'), ('oName', 'District 11')]\n",
      "[('p', 'http://www.wikidata.org/prop/direct/P150'), ('pName', 'contains administrative territorial entity'), ('oName', 'District 7')]\n",
      "[('p', 'http://www.wikidata.org/prop/direct/P150'), ('pName', 'contains administrative territorial entity'), ('oName', 'Riesbach')]\n",
      "[('p', 'http://www.wikidata.org/prop/direct/P150'), ('pName', 'contains administrative territorial entity'), ('oName', 'District 10')]\n",
      "[('p', 'http://www.wikidata.org/prop/direct/P150'), ('pName', 'contains administrative territorial entity'), ('oName', 'District 6')]\n",
      "[('p', 'http://www.wikidata.org/prop/direct/P150'), ('pName', 'contains administrative territorial entity'), ('oName', 'District 9')]\n",
      "[('p', 'http://www.wikidata.org/prop/direct/P150'), ('pName', 'contains administrative territorial entity'), ('oName', 'District 2')]\n",
      "[('p', 'http://www.wikidata.org/prop/direct/P150'), ('pName', 'contains administrative territorial entity'), ('oName', 'Industriequartier')]\n",
      "[('p', 'http://www.wikidata.org/prop/direct/P30'), ('pName', 'continent'), ('oName', 'Europe')]\n",
      "[('p', 'http://www.wikidata.org/prop/direct/P17'), ('pName', 'country'), ('oName', 'Switzerland')]\n",
      "[('p', 'http://www.wikidata.org/prop/direct/P1343'), ('pName', 'described by source'), ('oName', 'Jewish Encyclopedia of Brockhaus and Efron')]\n",
      "[('p', 'http://www.wikidata.org/prop/direct/P1343'), ('pName', 'described by source'), ('oName', 'Granat Encyclopedic Dictionary')]\n",
      "[('p', 'http://www.wikidata.org/prop/direct/P1343'), ('pName', 'described by source'), ('oName', 'Brockhaus and Efron Encyclopedic Dictionary')]\n",
      "[('p', 'http://www.wikidata.org/prop/direct/P1343'), ('pName', 'described by source'), ('oName', 'Historical Dictionary of Switzerland')]\n",
      "[('p', 'http://www.wikidata.org/prop/direct/P1889'), ('pName', 'different from'), ('oName', 'Canton of Zürich')]\n",
      "[('p', 'http://www.wikidata.org/prop/direct/P8744'), ('pName', 'economy of topic'), ('oName', 'economy of Zürich')]\n",
      "[('p', 'http://www.wikidata.org/prop/direct/P2044'), ('pName', 'elevation above sea level')]\n",
      "[('p', 'http://www.wikidata.org/prop/direct/P1325'), ('pName', 'external data available at')]\n",
      "[('p', 'http://www.wikidata.org/prop/direct/P41'), ('pName', 'flag image')]\n",
      "[('p', 'http://www.wikidata.org/prop/direct/P6'), ('pName', 'head of government'), ('oName', 'Corine Mauch')]\n",
      "[('p', 'http://www.wikidata.org/prop/direct/P1435'), ('pName', 'heritage designation'), ('oName', 'Swiss Heritage Site')]\n",
      "[('p', 'http://www.wikidata.org/prop/direct/P2184'), ('pName', 'history of topic'), ('oName', 'history of Zürich')]\n",
      "[('p', 'http://www.wikidata.org/prop/direct/P18'), ('pName', 'image')]\n",
      "[('p', 'http://www.wikidata.org/prop/direct/P571'), ('pName', 'inception')]\n",
      "[('p', 'http://www.wikidata.org/prop/direct/P31'), ('pName', 'instance of'), ('oName', 'college town')]\n",
      "[('p', 'http://www.wikidata.org/prop/direct/P31'), ('pName', 'instance of'), ('oName', 'cantonal capital of Switzerland')]\n",
      "[('p', 'http://www.wikidata.org/prop/direct/P31'), ('pName', 'instance of'), ('oName', 'largest city')]\n",
      "[('p', 'http://www.wikidata.org/prop/direct/P31'), ('pName', 'instance of'), ('oName', 'municipality of Switzerland')]\n",
      "[('p', 'http://www.wikidata.org/prop/direct/P194'), ('pName', 'legislative body'), ('oName', 'Zurich City Council')]\n",
      "[('p', 'http://www.wikidata.org/prop/direct/P395'), ('pName', 'licence plate code')]\n",
      "[('p', 'http://www.wikidata.org/prop/direct/P1456'), ('pName', 'list of monuments'), ('oName', 'list of cultural properties in Zürich')]\n",
      "[('p', 'http://www.wikidata.org/prop/direct/P473'), ('pName', 'local dialing code')]\n",
      "[('p', 'http://www.wikidata.org/prop/direct/P206'), ('pName', 'located in or next to body of water'), ('oName', 'Katzensee')]\n",
      "[('p', 'http://www.wikidata.org/prop/direct/P206'), ('pName', 'located in or next to body of water'), ('oName', 'Limmat')]\n",
      "[('p', 'http://www.wikidata.org/prop/direct/P206'), ('pName', 'located in or next to body of water'), ('oName', 'Lake Zurich')]\n",
      "[('p', 'http://www.wikidata.org/prop/direct/P206'), ('pName', 'located in or next to body of water'), ('oName', 'Sihl')]\n",
      "[('p', 'http://www.wikidata.org/prop/direct/P206'), ('pName', 'located in or next to body of water'), ('oName', 'Glatt')]\n",
      "[('p', 'http://www.wikidata.org/prop/direct/P131'), ('pName', 'located in the administrative territorial entity'), ('oName', 'Zürich District')]\n",
      "[('p', 'http://www.wikidata.org/prop/direct/P421'), ('pName', 'located in time zone'), ('oName', 'UTC+01:00')]\n",
      "[('p', 'http://www.wikidata.org/prop/direct/P421'), ('pName', 'located in time zone'), ('oName', 'UTC+02:00')]\n",
      "[('p', 'http://www.wikidata.org/prop/direct/P242'), ('pName', 'locator map image')]\n",
      "[('p', 'http://www.wikidata.org/prop/direct/P463'), ('pName', 'member of'), ('oName', 'Climate Alliance')]\n",
      "[('p', 'http://www.wikidata.org/prop/direct/P463'), ('pName', 'member of'), ('oName', 'KlimaBündnis-Städte Schweiz')]\n",
      "[('p', 'http://www.wikidata.org/prop/direct/P463'), ('pName', 'member of'), ('oName', 'International Association for Sports and Leisure Facilities')]\n",
      "[('p', 'http://www.wikidata.org/prop/direct/P1313'), ('pName', 'office held by head of government'), ('oName', 'Mayor of Zürich')]\n",
      "[('p', 'http://www.wikidata.org/prop/direct/P37'), ('pName', 'official language'), ('oName', 'German')]\n",
      "[('p', 'http://www.wikidata.org/prop/direct/P856'), ('pName', 'official website')]\n",
      "[('p', 'http://www.wikidata.org/prop/direct/P8402'), ('pName', 'open data portal'), ('oName', 'Open data portal of the City of Zurich')]\n",
      "[('p', 'http://www.wikidata.org/prop/direct/P6144'), ('pName', 'ortsnamen.ch ID')]\n",
      "[('p', 'http://www.wikidata.org/prop/direct/P1830'), ('pName', 'owner of'), ('oName', 'Villa Tobler')]\n",
      "[('p', 'http://www.wikidata.org/prop/direct/P1830'), ('pName', 'owner of'), ('oName', 'Verkehrsbetriebe Zürich')]\n",
      "[('p', 'http://www.wikidata.org/prop/direct/P1830'), ('pName', 'owner of'), ('oName', 'Theater am Neumarkt Zürich')]\n",
      "[('p', 'http://www.wikidata.org/prop/direct/P1830'), ('pName', 'owner of'), ('oName', 'Carolinum Zürich')]\n",
      "[('p', 'http://www.wikidata.org/prop/direct/P948'), ('pName', 'page banner')]\n",
      "[('p', 'http://www.wikidata.org/prop/direct/P361'), ('pName', 'part of'), ('oName', 'Greater Zurich Area')]\n",
      "[('p', 'http://www.wikidata.org/prop/direct/P361'), ('pName', 'part of'), ('oName', 'Zurich metropolitan area')]\n",
      "[('p', 'http://www.wikidata.org/prop/direct/P361'), ('pName', 'part of')]\n",
      "[('p', 'http://www.wikidata.org/prop/direct/P1082'), ('pName', 'population')]\n",
      "[('p', 'http://www.wikidata.org/prop/direct/P281'), ('pName', 'postal code')]\n",
      "[('p', 'http://www.wikidata.org/prop/direct/P1441'), ('pName', 'present in work'), ('oName', 'Civilization V')]\n",
      "[('p', 'http://www.wikidata.org/prop/direct/P443'), ('pName', 'pronunciation audio')]\n",
      "[('p', 'http://www.wikidata.org/prop/direct/P47'), ('pName', 'shares border with'), ('oName', 'Dübendorf')]\n",
      "[('p', 'http://www.wikidata.org/prop/direct/P47'), ('pName', 'shares border with'), ('oName', 'Schlieren')]\n",
      "[('p', 'http://www.wikidata.org/prop/direct/P47'), ('pName', 'shares border with'), ('oName', 'Zollikon')]\n",
      "[('p', 'http://www.wikidata.org/prop/direct/P47'), ('pName', 'shares border with'), ('oName', 'Maur')]\n",
      "[('p', 'http://www.wikidata.org/prop/direct/P47'), ('pName', 'shares border with'), ('oName', 'Stallikon')]\n",
      "[('p', 'http://www.wikidata.org/prop/direct/P47'), ('pName', 'shares border with'), ('oName', 'Kilchberg')]\n",
      "[('p', 'http://www.wikidata.org/prop/direct/P47'), ('pName', 'shares border with'), ('oName', 'Adliswil')]\n",
      "[('p', 'http://www.wikidata.org/prop/direct/P47'), ('pName', 'shares border with'), ('oName', 'Urdorf')]\n",
      "[('p', 'http://www.wikidata.org/prop/direct/P47'), ('pName', 'shares border with'), ('oName', 'Uitikon')]\n",
      "[('p', 'http://www.wikidata.org/prop/direct/P47'), ('pName', 'shares border with'), ('oName', 'Oberengstringen')]\n",
      "[('p', 'http://www.wikidata.org/prop/direct/P47'), ('pName', 'shares border with'), ('oName', 'Opfikon')]\n",
      "[('p', 'http://www.wikidata.org/prop/direct/P47'), ('pName', 'shares border with'), ('oName', 'Rümlang')]\n",
      "[('p', 'http://www.wikidata.org/prop/direct/P47'), ('pName', 'shares border with'), ('oName', 'Regensdorf')]\n",
      "[('p', 'http://www.wikidata.org/prop/direct/P47'), ('pName', 'shares border with'), ('oName', 'Wallisellen')]\n",
      "[('p', 'http://www.wikidata.org/prop/direct/P47'), ('pName', 'shares border with'), ('oName', 'Fällanden')]\n",
      "[('p', 'http://www.wikidata.org/prop/direct/P3984'), ('pName', 'subreddit')]\n",
      "[('p', 'http://www.wikidata.org/prop/direct/P1249'), ('pName', 'time of earliest written record')]\n",
      "[('p', 'http://www.wikidata.org/prop/direct/P1151'), ('pName', \"topic's main Wikimedia portal\"), ('oName', 'Portal:Zürich')]\n",
      "[('p', 'http://www.wikidata.org/prop/direct/P910'), ('pName', \"topic's main category\"), ('oName', 'Category:Zürich')]\n",
      "[('p', 'http://www.wikidata.org/prop/direct/P190'), ('pName', 'twinned administrative body'), ('oName', 'San Francisco')]\n",
      "[('p', 'http://www.wikidata.org/prop/direct/P190'), ('pName', 'twinned administrative body'), ('oName', 'Kunming')]\n",
      "[('p', 'http://www.wikidata.org/prop/direct/P190'), ('pName', 'twinned administrative body'), ('oName', 'Vinnytsia')]\n"
     ]
    },
    {
     "data": {
      "text/plain": [
       "171"
      ]
     },
     "execution_count": 8,
     "metadata": {},
     "output_type": "execute_result"
    }
   ],
   "source": [
    "queryString = \"\"\"\n",
    "SELECT DISTINCT ?p ?pName ?oName\n",
    "WHERE { \n",
    "\n",
    "    wd:Q72 ?p ?o .\n",
    "    OPTIONAL{?p sc:name ?pName}\n",
    "    OPTIONAL{?o sc:name ?oName}\n",
    "    \n",
    "} ORDER BY ?pName\n",
    "\"\"\"\n",
    "\n",
    "print(\"Results\")\n",
    "run_query(queryString)"
   ]
  },
  {
   "cell_type": "markdown",
   "id": "bdb76c55-978d-4375-a209-0ef5fdec3419",
   "metadata": {},
   "source": [
    "### Search information about Italy"
   ]
  },
  {
   "cell_type": "code",
   "execution_count": 9,
   "id": "aa56bf00-6175-429c-a970-69ec05a39239",
   "metadata": {
    "collapsed": true,
    "jupyter": {
     "outputs_hidden": true
    },
    "tags": []
   },
   "outputs": [
    {
     "name": "stdout",
     "output_type": "stream",
     "text": [
      "Results\n",
      "[('p', 'http://www.w3.org/1999/02/22-rdf-syntax-ns#type')]\n",
      "[('p', 'http://www.wikidata.org/prop/direct-normalized/P1566')]\n",
      "[('p', 'http://www.wikidata.org/prop/direct-normalized/P1617')]\n",
      "[('p', 'http://www.wikidata.org/prop/direct-normalized/P1667')]\n",
      "[('p', 'http://www.wikidata.org/prop/direct-normalized/P214')]\n",
      "[('p', 'http://www.wikidata.org/prop/direct-normalized/P2163')]\n",
      "[('p', 'http://www.wikidata.org/prop/direct-normalized/P227')]\n",
      "[('p', 'http://www.wikidata.org/prop/direct-normalized/P2347')]\n",
      "[('p', 'http://www.wikidata.org/prop/direct-normalized/P244')]\n",
      "[('p', 'http://www.wikidata.org/prop/direct-normalized/P2581')]\n",
      "[('p', 'http://www.wikidata.org/prop/direct-normalized/P2950')]\n",
      "[('p', 'http://www.wikidata.org/prop/direct-normalized/P349')]\n",
      "[('p', 'http://www.wikidata.org/prop/direct-normalized/P3911')]\n",
      "[('p', 'http://www.wikidata.org/prop/direct-normalized/P3916')]\n",
      "[('p', 'http://www.wikidata.org/prop/direct-normalized/P402')]\n",
      "[('p', 'http://www.wikidata.org/prop/direct-normalized/P486')]\n",
      "[('p', 'http://www.wikidata.org/prop/direct-normalized/P5063')]\n",
      "[('p', 'http://www.wikidata.org/prop/direct-normalized/P5437')]\n",
      "[('p', 'http://www.wikidata.org/prop/direct-normalized/P5739')]\n",
      "[('p', 'http://www.wikidata.org/prop/direct-normalized/P646')]\n",
      "[('p', 'http://www.wikidata.org/prop/direct-normalized/P8408')]\n",
      "[('p', 'http://www.wikidata.org/prop/direct-normalized/P8519')]\n",
      "[('p', 'http://www.wikidata.org/prop/direct-normalized/P982')]\n",
      "[('p', 'http://schema.org/name')]\n",
      "[('p', 'http://www.wikidata.org/prop/direct/P8061'), ('pName', 'AGROVOC ID')]\n",
      "[('p', 'http://www.wikidata.org/prop/direct/P5198'), ('pName', 'ASC Leiden Thesaurus ID')]\n",
      "[('p', 'http://www.wikidata.org/prop/direct/P6150'), ('pName', 'Academy Awards Database nominee ID')]\n",
      "[('p', 'http://www.wikidata.org/prop/direct/P8895'), ('pName', 'All the Tropes identifier')]\n",
      "[('p', 'http://www.wikidata.org/prop/direct/P7870'), ('pName', 'Analysis & Policy Observatory term ID')]\n",
      "[('p', 'http://www.wikidata.org/prop/direct/P8785'), ('pName', 'AniDB tag ID')]\n",
      "[('p', 'http://www.wikidata.org/prop/direct/P9629'), ('pName', 'Armeniapedia ID')]\n",
      "[('p', 'http://www.wikidata.org/prop/direct/P6200'), ('pName', 'BBC News topic ID')]\n",
      "[('p', 'http://www.wikidata.org/prop/direct/P1617'), ('pName', 'BBC Things ID')]\n",
      "[('p', 'http://www.wikidata.org/prop/direct/P9037'), ('pName', 'BHCL UUID')]\n",
      "[('p', 'http://www.wikidata.org/prop/direct/P2581'), ('pName', 'BabelNet ID')]\n",
      "[('p', 'http://www.wikidata.org/prop/direct/P7832'), ('pName', 'Basque Vikidia ID')]\n",
      "[('p', 'http://www.wikidata.org/prop/direct/P5019'), ('pName', 'Brockhaus Enzyklopädie online ID')]\n",
      "[('p', 'http://www.wikidata.org/prop/direct/P5180'), ('pName', 'CIVICUS Monitor country entry')]\n",
      "[('p', 'http://www.wikidata.org/prop/direct/P9368'), ('pName', 'CNA topic ID')]\n",
      "[('p', 'http://www.wikidata.org/prop/direct/P9123'), ('pName', 'Catalan Vikidia ID')]\n",
      "[('p', 'http://www.wikidata.org/prop/direct/P5905'), ('pName', 'Comic Vine ID')]\n",
      "[('p', 'http://www.wikidata.org/prop/direct/P373'), ('pName', 'Commons category')]\n",
      "[('p', 'http://www.wikidata.org/prop/direct/P935'), ('pName', 'Commons gallery')]\n",
      "[('p', 'http://www.wikidata.org/prop/direct/P998'), ('pName', 'Curlie ID')]\n",
      "[('p', 'http://www.wikidata.org/prop/direct/P6849'), ('pName', 'DR topic ID')]\n",
      "[('p', 'http://www.wikidata.org/prop/direct/P3509'), ('pName', 'Dagens Nyheter topic ID')]\n",
      "[('p', 'http://www.wikidata.org/prop/direct/P1036'), ('pName', 'Dewey Decimal Classification')]\n",
      "[('p', 'http://www.wikidata.org/prop/direct/P4589'), ('pName', 'Dreadnought Project page')]\n",
      "[('p', 'http://www.wikidata.org/prop/direct/P4672'), ('pName', 'EMLO location ID')]\n",
      "[('p', 'http://www.wikidata.org/prop/direct/P9545'), ('pName', 'Encyclopedia of China Online Database ID')]\n",
      "[('p', 'http://www.wikidata.org/prop/direct/P4613'), ('pName', 'Encyclopedia of Modern Ukraine ID')]\n",
      "[('p', 'http://www.wikidata.org/prop/direct/P8935'), ('pName', 'Encyclopedia of the History of Ukraine ID')]\n",
      "[('p', 'http://www.wikidata.org/prop/direct/P8472'), ('pName', 'Encyclopedie berbere keyword ID')]\n",
      "[('p', 'http://www.wikidata.org/prop/direct/P1417'), ('pName', 'Encyclopædia Britannica Online ID')]\n",
      "[('p', 'http://www.wikidata.org/prop/direct/P3219'), ('pName', 'Encyclopædia Universalis ID')]\n",
      "[('p', 'http://www.wikidata.org/prop/direct/P7829'), ('pName', 'English Vikidia ID')]\n",
      "[('p', 'http://www.wikidata.org/prop/direct/P5437'), ('pName', 'EuroVoc ID')]\n",
      "[('p', 'http://www.wikidata.org/prop/direct/P2163'), ('pName', 'FAST ID')]\n",
      "[('p', 'http://www.wikidata.org/prop/direct/P901'), ('pName', 'FIPS 10-4 (countries and regions)')]\n",
      "[('p', 'http://www.wikidata.org/prop/direct/P6262'), ('pName', 'Fandom article ID')]\n",
      "[('p', 'http://www.wikidata.org/prop/direct/P4073'), ('pName', 'Fandom wiki ID')]\n",
      "[('p', 'http://www.wikidata.org/prop/direct/P646'), ('pName', 'Freebase ID')]\n",
      "[('p', 'http://www.wikidata.org/prop/direct/P7818'), ('pName', 'French Vikidia ID')]\n",
      "[('p', 'http://www.wikidata.org/prop/direct/P4427'), ('pName', 'GACS ID')]\n",
      "[('p', 'http://www.wikidata.org/prop/direct/P227'), ('pName', 'GND ID')]\n",
      "[('p', 'http://www.wikidata.org/prop/direct/P3067'), ('pName', 'GS1 country code')]\n",
      "[('p', 'http://www.wikidata.org/prop/direct/P5400'), ('pName', 'GeoNLP ID')]\n",
      "[('p', 'http://www.wikidata.org/prop/direct/P1566'), ('pName', 'GeoNames ID')]\n",
      "[('p', 'http://www.wikidata.org/prop/direct/P1667'), ('pName', 'Getty Thesaurus of Geographic Names ID')]\n",
      "[('p', 'http://www.wikidata.org/prop/direct/P5247'), ('pName', 'Giant Bomb ID')]\n",
      "[('p', 'http://www.wikidata.org/prop/direct/P9100'), ('pName', 'GitHub topic')]\n",
      "[('p', 'http://www.wikidata.org/prop/direct/P1842'), ('pName', 'Global Anabaptist Mennonite Encyclopedia Online ID')]\n",
      "[('p', 'http://www.wikidata.org/prop/direct/P1296'), ('pName', 'Gran Enciclopèdia Catalana ID')]\n",
      "[('p', 'http://www.wikidata.org/prop/direct/P2924'), ('pName', 'Great Russian Encyclopedia Online ID')]\n",
      "[('p', 'http://www.wikidata.org/prop/direct/P7295'), ('pName', 'Gregorian calendar start date')]\n",
      "[('p', 'http://www.wikidata.org/prop/direct/P8406'), ('pName', 'Grove Art Online ID')]\n",
      "[('p', 'http://www.wikidata.org/prop/direct/P3106'), ('pName', 'Guardian topic ID')]\n",
      "[('p', 'http://www.wikidata.org/prop/direct/P5843'), ('pName', 'Gynopedia ID')]\n",
      "[('p', 'http://www.wikidata.org/prop/direct/P902'), ('pName', 'HDS ID')]\n",
      "[('p', 'http://www.wikidata.org/prop/direct/P7982'), ('pName', 'Hrvatska enciklopedija ID')]\n",
      "[('p', 'http://www.wikidata.org/prop/direct/P1081'), ('pName', 'Human Development Index')]\n",
      "[('p', 'http://www.wikidata.org/prop/direct/P5250'), ('pName', 'IAB code')]\n",
      "[('p', 'http://www.wikidata.org/prop/direct/P3422'), ('pName', 'INSEE countries and foreign territories code')]\n",
      "[('p', 'http://www.wikidata.org/prop/direct/P984'), ('pName', 'IOC country code')]\n",
      "[('p', 'http://www.wikidata.org/prop/direct/P898'), ('pName', 'IPA transcription')]\n",
      "[('p', 'http://www.wikidata.org/prop/direct/P3097'), ('pName', 'ISBN identifier group')]\n",
      "[('p', 'http://www.wikidata.org/prop/direct/P213'), ('pName', 'ISNI')]\n",
      "[('p', 'http://www.wikidata.org/prop/direct/P297'), ('pName', 'ISO 3166-1 alpha-2 code')]\n",
      "[('p', 'http://www.wikidata.org/prop/direct/P298'), ('pName', 'ISO 3166-1 alpha-3 code')]\n",
      "[('p', 'http://www.wikidata.org/prop/direct/P299'), ('pName', 'ISO 3166-1 numeric code')]\n",
      "[('p', 'http://www.wikidata.org/prop/direct/P3024'), ('pName', 'ITU letter code')]\n",
      "[('p', 'http://www.wikidata.org/prop/direct/P3743'), ('pName', 'ITU/ISO/IEC object identifier')]\n",
      "[('p', 'http://www.wikidata.org/prop/direct/P5063'), ('pName', 'Interlingual Index ID')]\n",
      "[('p', 'http://www.wikidata.org/prop/direct/P5698'), ('pName', 'Invasive Species Compendium Datasheet ID')]\n",
      "[('p', 'http://www.wikidata.org/prop/direct/P7822'), ('pName', 'Italian Vikidia ID')]\n",
      "[('p', 'http://www.wikidata.org/prop/direct/P6413'), ('pName', 'JORFSearch organization ID')]\n",
      "[('p', 'http://www.wikidata.org/prop/direct/P1438'), ('pName', 'Jewish Encyclopedia ID (Russian)')]\n",
      "[('p', 'http://www.wikidata.org/prop/direct/P7960'), ('pName', 'Joconde discovery ID')]\n",
      "[('p', 'http://www.wikidata.org/prop/direct/P7850'), ('pName', 'Joconde location ID')]\n",
      "[('p', 'http://www.wikidata.org/prop/direct/P8408'), ('pName', 'KBpedia ID')]\n",
      "[('p', 'http://www.wikidata.org/prop/direct/P6573'), ('pName', 'Klexikon article ID')]\n",
      "[('p', 'http://www.wikidata.org/prop/direct/P3612'), ('pName', 'Le Monde diplomatique subject ID')]\n",
      "[('p', 'http://www.wikidata.org/prop/direct/P7208'), ('pName', 'Liber Liber author ID')]\n",
      "[('p', 'http://www.wikidata.org/prop/direct/P244'), ('pName', 'Library of Congress authority ID')]\n",
      "[('p', 'http://www.wikidata.org/prop/direct/P4801'), ('pName', 'LoC and MARC vocabularies ID')]\n",
      "[('p', 'http://www.wikidata.org/prop/direct/P7322'), ('pName', 'Marine Regions Geographic IDentifier (MRGID)')]\n",
      "[('p', 'http://www.wikidata.org/prop/direct/P486'), ('pName', 'MeSH descriptor ID')]\n",
      "[('p', 'http://www.wikidata.org/prop/direct/P982'), ('pName', 'MusicBrainz area ID')]\n",
      "[('p', 'http://www.wikidata.org/prop/direct/P2004'), ('pName', 'NALT ID')]\n",
      "[('p', 'http://www.wikidata.org/prop/direct/P3222'), ('pName', 'NE.se ID')]\n",
      "[('p', 'http://www.wikidata.org/prop/direct/P691'), ('pName', 'NKCR AUT ID')]\n",
      "[('p', 'http://www.wikidata.org/prop/direct/P605'), ('pName', 'NUTS code')]\n",
      "[('p', 'http://www.wikidata.org/prop/direct/P8885'), ('pName', 'Namuwiki ID')]\n",
      "[('p', 'http://www.wikidata.org/prop/direct/P349'), ('pName', 'National Diet Library ID')]\n",
      "[('p', 'http://www.wikidata.org/prop/direct/P949'), ('pName', 'National Library of Israel ID')]\n",
      "[('p', 'http://www.wikidata.org/prop/direct/P3221'), ('pName', 'New York Times topic ID')]\n",
      "[('p', 'http://www.wikidata.org/prop/direct/P2950'), ('pName', 'Nomisma ID')]\n",
      "[('p', 'http://www.wikidata.org/prop/direct/P1245'), ('pName', 'OmegaWiki Defined Meaning')]\n",
      "[('p', 'http://www.wikidata.org/prop/direct/P3479'), ('pName', 'Omni topic ID')]\n",
      "[('p', 'http://www.wikidata.org/prop/direct/P402'), ('pName', 'OpenStreetMap relation ID')]\n",
      "[('p', 'http://www.wikidata.org/prop/direct/P6592'), ('pName', 'OpenStreetMap zoom level')]\n",
      "[('p', 'http://www.wikidata.org/prop/direct/P5002'), ('pName', 'Orthodox Encyclopedia ID')]\n",
      "[('p', 'http://www.wikidata.org/prop/direct/P5739'), ('pName', 'Pontificia Università della Santa Croce ID')]\n",
      "[('p', 'http://www.wikidata.org/prop/direct/P1005'), ('pName', 'Portuguese National Library ID')]\n",
      "[('p', 'http://www.wikidata.org/prop/direct/P8349'), ('pName', 'Proleksis enciklopedija ID')]\n",
      "[('p', 'http://www.wikidata.org/prop/direct/P9223'), ('pName', 'Provenio UUID')]\n",
      "[('p', 'http://www.wikidata.org/prop/direct/P3417'), ('pName', 'Quora topic ID')]\n",
      "[('p', 'http://www.wikidata.org/prop/direct/P8519'), ('pName', 'RKD thesaurus ID')]\n",
      "[('p', 'http://www.wikidata.org/prop/direct/P8974'), ('pName', 'SAPA ID')]\n",
      "[('p', 'http://www.wikidata.org/prop/direct/P3987'), ('pName', 'SHARE Catalogue author ID')]\n",
      "[('p', 'http://www.wikidata.org/prop/direct/P3911'), ('pName', 'STW Thesaurus for Economics ID')]\n",
      "[('p', 'http://www.wikidata.org/prop/direct/P9757'), ('pName', 'Schoenberg Database of Manuscripts place ID')]\n",
      "[('p', 'http://www.wikidata.org/prop/direct/P7827'), ('pName', 'Spanish Vikidia ID')]\n",
      "[('p', 'http://www.wikidata.org/prop/direct/P9122'), ('pName', 'SportsLogos.net team ID')]\n",
      "[('p', 'http://www.wikidata.org/prop/direct/P3175'), ('pName', 'Statoids ID')]\n",
      "[('p', 'http://www.wikidata.org/prop/direct/P4342'), ('pName', 'Store norske leksikon ID')]\n",
      "[('p', 'http://www.wikidata.org/prop/direct/P7314'), ('pName', 'TDV İslam Ansiklopedisi ID')]\n",
      "[('p', 'http://www.wikidata.org/prop/direct/P6839'), ('pName', 'TV Tropes identifier')]\n",
      "[('p', 'http://www.wikidata.org/prop/direct/P5456'), ('pName', 'TasteAtlas ID')]\n",
      "[('p', 'http://www.wikidata.org/prop/direct/P7157'), ('pName', 'The Top Tens ID')]\n",
      "[('p', 'http://www.wikidata.org/prop/direct/P3365'), ('pName', 'Treccani ID')]\n",
      "[('p', 'http://www.wikidata.org/prop/direct/P6404'), ('pName', \"Treccani's Dizionario di Storia ID\")]\n",
      "[('p', 'http://www.wikidata.org/prop/direct/P1225'), ('pName', 'U.S. National Archives Identifier')]\n",
      "[('p', 'http://www.wikidata.org/prop/direct/P2981'), ('pName', 'UIC alphabetical country code')]\n",
      "[('p', 'http://www.wikidata.org/prop/direct/P2982'), ('pName', 'UIC numerical country code')]\n",
      "[('p', 'http://www.wikidata.org/prop/direct/P4527'), ('pName', 'UK Parliament thesaurus ID')]\n",
      "[('p', 'http://www.wikidata.org/prop/direct/P3916'), ('pName', 'UNESCO Thesaurus ID')]\n",
      "[('p', 'http://www.wikidata.org/prop/direct/P487'), ('pName', 'Unicode character')]\n",
      "[('p', 'http://www.wikidata.org/prop/direct/P2855'), ('pName', 'VAT-rate')]\n",
      "[('p', 'http://www.wikidata.org/prop/direct/P214'), ('pName', 'VIAF ID')]\n",
      "[('p', 'http://www.wikidata.org/prop/direct/P3068'), ('pName', 'WIPO ST.3')]\n",
      "[('p', 'http://www.wikidata.org/prop/direct/P6766'), ('pName', \"Who's on First ID\")]\n",
      "[('p', 'http://www.wikidata.org/prop/direct/P5125'), ('pName', 'Wikimedia outline'), ('oName', 'outline of Italy')]\n",
      "[('p', 'http://www.wikidata.org/prop/direct/P8814'), ('pName', 'WordNet 3.1 Synset ID')]\n",
      "[('p', 'http://www.wikidata.org/prop/direct/P7012'), ('pName', 'World Encyclopedia of Puppetry Arts ID')]\n",
      "[('p', 'http://www.wikidata.org/prop/direct/P7859'), ('pName', 'WorldCat Identities ID')]\n",
      "[('p', 'http://www.wikidata.org/prop/direct/P6293'), ('pName', 'YSA ID')]\n",
      "[('p', 'http://www.wikidata.org/prop/direct/P2347'), ('pName', 'YSO ID')]\n",
      "[('p', 'http://www.wikidata.org/prop/direct/P8309'), ('pName', 'Yle topic ID')]\n",
      "[('p', 'http://www.wikidata.org/prop/direct/P3553'), ('pName', 'Zhihu topic ID')]\n",
      "[('p', 'http://www.wikidata.org/prop/direct/P2997'), ('pName', 'age of majority')]\n",
      "[('p', 'http://www.wikidata.org/prop/direct/P85'), ('pName', 'anthem'), ('oName', 'Il Canto degli Italiani')]\n",
      "[('p', 'http://www.wikidata.org/prop/direct/P5573'), ('pName', 'archINFORM location ID')]\n",
      "[('p', 'http://www.wikidata.org/prop/direct/P2046'), ('pName', 'area')]\n",
      "[('p', 'http://www.wikidata.org/prop/direct/P122'), ('pName', 'basic form of government'), ('oName', 'parliamentary republic')]\n",
      "[('p', 'http://www.wikidata.org/prop/direct/P36'), ('pName', 'capital'), ('oName', 'Rome')]\n",
      "[('p', 'http://www.wikidata.org/prop/direct/P1740'), ('pName', 'category for films shot at this location'), ('oName', 'Category:Films shot in Italy')]\n",
      "[('p', 'http://www.wikidata.org/prop/direct/P7867'), ('pName', 'category for maps'), ('oName', 'Category:Maps of Italy')]\n",
      "[('p', 'http://www.wikidata.org/prop/direct/P1465'), ('pName', 'category for people who died here'), ('oName', 'Category:Deaths in Italy')]\n",
      "[('p', 'http://www.wikidata.org/prop/direct/P1464'), ('pName', 'category for people born here'), ('oName', 'Category:Births in Italy')]\n",
      "[('p', 'http://www.wikidata.org/prop/direct/P1792'), ('pName', 'category of associated people'), ('oName', 'Category:Italian people')]\n",
      "[('p', 'http://www.wikidata.org/prop/direct/P1791'), ('pName', 'category of people buried here'), ('oName', 'Category:Burials in Italy')]\n",
      "[('p', 'http://www.wikidata.org/prop/direct/P237'), ('pName', 'coat of arms'), ('oName', 'emblem of Italy')]\n",
      "[('p', 'http://www.wikidata.org/prop/direct/P94'), ('pName', 'coat of arms image')]\n",
      "[('p', 'http://www.wikidata.org/prop/direct/P3271'), ('pName', 'compulsory education (maximum age)')]\n",
      "[('p', 'http://www.wikidata.org/prop/direct/P3270'), ('pName', 'compulsory education (minimum age)')]\n",
      "[('p', 'http://www.wikidata.org/prop/direct/P150'), ('pName', 'contains administrative territorial entity'), ('oName', 'Tuscany')]\n",
      "[('p', 'http://www.wikidata.org/prop/direct/P150'), ('pName', 'contains administrative territorial entity'), ('oName', 'Trentino-South Tyrol')]\n",
      "[('p', 'http://www.wikidata.org/prop/direct/P150'), ('pName', 'contains administrative territorial entity'), ('oName', 'Lombardy')]\n",
      "[('p', 'http://www.wikidata.org/prop/direct/P150'), ('pName', 'contains administrative territorial entity'), ('oName', 'Piedmont')]\n",
      "[('p', 'http://www.wikidata.org/prop/direct/P150'), ('pName', 'contains administrative territorial entity'), ('oName', 'Aosta Valley')]\n",
      "[('p', 'http://www.wikidata.org/prop/direct/P150'), ('pName', 'contains administrative territorial entity'), ('oName', 'Veneto')]\n",
      "[('p', 'http://www.wikidata.org/prop/direct/P150'), ('pName', 'contains administrative territorial entity'), ('oName', 'Emilia-Romagna')]\n",
      "[('p', 'http://www.wikidata.org/prop/direct/P150'), ('pName', 'contains administrative territorial entity'), ('oName', 'Basilicata')]\n",
      "[('p', 'http://www.wikidata.org/prop/direct/P150'), ('pName', 'contains administrative territorial entity'), ('oName', 'Friuli-Venezia Giulia')]\n",
      "[('p', 'http://www.wikidata.org/prop/direct/P150'), ('pName', 'contains administrative territorial entity'), ('oName', 'Marche')]\n",
      "[('p', 'http://www.wikidata.org/prop/direct/P150'), ('pName', 'contains administrative territorial entity'), ('oName', 'Umbria')]\n",
      "[('p', 'http://www.wikidata.org/prop/direct/P150'), ('pName', 'contains administrative territorial entity'), ('oName', 'Abruzzo')]\n",
      "[('p', 'http://www.wikidata.org/prop/direct/P150'), ('pName', 'contains administrative territorial entity'), ('oName', 'Campania')]\n",
      "[('p', 'http://www.wikidata.org/prop/direct/P150'), ('pName', 'contains administrative territorial entity'), ('oName', 'Apulia')]\n",
      "[('p', 'http://www.wikidata.org/prop/direct/P150'), ('pName', 'contains administrative territorial entity'), ('oName', 'Calabria')]\n",
      "[('p', 'http://www.wikidata.org/prop/direct/P150'), ('pName', 'contains administrative territorial entity'), ('oName', 'Sicily')]\n",
      "[('p', 'http://www.wikidata.org/prop/direct/P150'), ('pName', 'contains administrative territorial entity'), ('oName', 'Sardinia')]\n",
      "[('p', 'http://www.wikidata.org/prop/direct/P150'), ('pName', 'contains administrative territorial entity'), ('oName', 'Liguria')]\n",
      "[('p', 'http://www.wikidata.org/prop/direct/P150'), ('pName', 'contains administrative territorial entity'), ('oName', 'Molise')]\n",
      "[('p', 'http://www.wikidata.org/prop/direct/P150'), ('pName', 'contains administrative territorial entity'), ('oName', 'Lazio')]\n",
      "[('p', 'http://www.wikidata.org/prop/direct/P30'), ('pName', 'continent'), ('oName', 'Europe')]\n",
      "[('p', 'http://www.wikidata.org/prop/direct/P17'), ('pName', 'country'), ('oName', 'Italy')]\n",
      "[('p', 'http://www.wikidata.org/prop/direct/P474'), ('pName', 'country calling code')]\n",
      "[('p', 'http://www.wikidata.org/prop/direct/P2596'), ('pName', 'culture'), ('oName', 'culture of Italy')]\n",
      "[('p', 'http://www.wikidata.org/prop/direct/P38'), ('pName', 'currency'), ('oName', 'euro')]\n",
      "[('p', 'http://www.wikidata.org/prop/direct/P9241'), ('pName', 'demographics of topic'), ('oName', 'demographics of Italy')]\n",
      "[('p', 'http://www.wikidata.org/prop/direct/P1549'), ('pName', 'demonym')]\n",
      "[('p', 'http://www.wikidata.org/prop/direct/P1343'), ('pName', 'described by source'), ('oName', 'Small Brockhaus and Efron Encyclopedic Dictionary')]\n",
      "[('p', 'http://www.wikidata.org/prop/direct/P1343'), ('pName', 'described by source'), ('oName', 'Armenian Soviet Encyclopedia')]\n",
      "[('p', 'http://www.wikidata.org/prop/direct/P1343'), ('pName', 'described by source'), ('oName', 'Catholic Encyclopedia')]\n",
      "[('p', 'http://www.wikidata.org/prop/direct/P1343'), ('pName', 'described by source'), ('oName', 'Bible Encyclopedia of Archimandrite Nicephorus')]\n",
      "[('p', 'http://www.wikidata.org/prop/direct/P1343'), ('pName', 'described by source'), ('oName', 'Sytin Military Encyclopedia')]\n",
      "[('p', 'http://www.wikidata.org/prop/direct/P1343'), ('pName', 'described by source'), ('oName', 'Jewish Encyclopedia of Brockhaus and Efron')]\n",
      "[('p', 'http://www.wikidata.org/prop/direct/P1343'), ('pName', 'described by source'), ('oName', 'Brockhaus and Efron Encyclopedic Dictionary')]\n",
      "[('p', 'http://www.wikidata.org/prop/direct/P1343'), ('pName', 'described by source'), ('oName', 'Encyclopædia Britannica 11th edition')]\n",
      "[('p', 'http://www.wikidata.org/prop/direct/P530'), ('pName', 'diplomatic relation'), ('oName', 'Libya')]\n",
      "[('p', 'http://www.wikidata.org/prop/direct/P530'), ('pName', 'diplomatic relation'), ('oName', 'Somalia')]\n",
      "[('p', 'http://www.wikidata.org/prop/direct/P530'), ('pName', 'diplomatic relation'), ('oName', 'Kenya')]\n",
      "[('p', 'http://www.wikidata.org/prop/direct/P530'), ('pName', 'diplomatic relation'), ('oName', 'Ethiopia')]\n",
      "[('p', 'http://www.wikidata.org/prop/direct/P530'), ('pName', 'diplomatic relation'), ('oName', 'Kosovo')]\n",
      "[('p', 'http://www.wikidata.org/prop/direct/P530'), ('pName', 'diplomatic relation'), ('oName', 'France')]\n",
      "[('p', 'http://www.wikidata.org/prop/direct/P530'), ('pName', 'diplomatic relation'), ('oName', 'United Kingdom')]\n",
      "[('p', 'http://www.wikidata.org/prop/direct/P530'), ('pName', 'diplomatic relation'), ('oName', \"People's Republic of China\")]\n",
      "[('p', 'http://www.wikidata.org/prop/direct/P530'), ('pName', 'diplomatic relation'), ('oName', 'Brazil')]\n",
      "[('p', 'http://www.wikidata.org/prop/direct/P530'), ('pName', 'diplomatic relation'), ('oName', 'Russia')]\n",
      "[('p', 'http://www.wikidata.org/prop/direct/P530'), ('pName', 'diplomatic relation'), ('oName', 'Holy See')]\n",
      "[('p', 'http://www.wikidata.org/prop/direct/P530'), ('pName', 'diplomatic relation'), ('oName', 'Canada')]\n",
      "[('p', 'http://www.wikidata.org/prop/direct/P530'), ('pName', 'diplomatic relation'), ('oName', 'Japan')]\n",
      "[('p', 'http://www.wikidata.org/prop/direct/P530'), ('pName', 'diplomatic relation'), ('oName', 'Germany')]\n",
      "[('p', 'http://www.wikidata.org/prop/direct/P530'), ('pName', 'diplomatic relation'), ('oName', 'Belarus')]\n",
      "[('p', 'http://www.wikidata.org/prop/direct/P530'), ('pName', 'diplomatic relation'), ('oName', 'Iceland')]\n",
      "[('p', 'http://www.wikidata.org/prop/direct/P530'), ('pName', 'diplomatic relation'), ('oName', 'Estonia')]\n",
      "[('p', 'http://www.wikidata.org/prop/direct/P530'), ('pName', 'diplomatic relation'), ('oName', 'Norway')]\n",
      "[('p', 'http://www.wikidata.org/prop/direct/P530'), ('pName', 'diplomatic relation'), ('oName', 'Latvia')]\n",
      "[('p', 'http://www.wikidata.org/prop/direct/P530'), ('pName', 'diplomatic relation'), ('oName', 'Ukraine')]\n",
      "[('p', 'http://www.wikidata.org/prop/direct/P530'), ('pName', 'diplomatic relation'), ('oName', 'Czech Republic')]\n",
      "[('p', 'http://www.wikidata.org/prop/direct/P530'), ('pName', 'diplomatic relation'), ('oName', 'Slovakia')]\n",
      "[('p', 'http://www.wikidata.org/prop/direct/P530'), ('pName', 'diplomatic relation'), ('oName', 'Slovenia')]\n",
      "[('p', 'http://www.wikidata.org/prop/direct/P530'), ('pName', 'diplomatic relation'), ('oName', 'Moldova')]\n",
      "[('p', 'http://www.wikidata.org/prop/direct/P530'), ('pName', 'diplomatic relation'), ('oName', 'Romania')]\n",
      "[('p', 'http://www.wikidata.org/prop/direct/P530'), ('pName', 'diplomatic relation'), ('oName', 'Bulgaria')]\n",
      "[('p', 'http://www.wikidata.org/prop/direct/P530'), ('pName', 'diplomatic relation'), ('oName', 'North Macedonia')]\n",
      "[('p', 'http://www.wikidata.org/prop/direct/P530'), ('pName', 'diplomatic relation'), ('oName', 'Albania')]\n",
      "[('p', 'http://www.wikidata.org/prop/direct/P530'), ('pName', 'diplomatic relation'), ('oName', 'Croatia')]\n",
      "[('p', 'http://www.wikidata.org/prop/direct/P530'), ('pName', 'diplomatic relation'), ('oName', 'Bosnia and Herzegovina')]\n",
      "[('p', 'http://www.wikidata.org/prop/direct/P530'), ('pName', 'diplomatic relation'), ('oName', 'Azerbaijan')]\n",
      "[('p', 'http://www.wikidata.org/prop/direct/P530'), ('pName', 'diplomatic relation'), ('oName', 'Andorra')]\n",
      "[('p', 'http://www.wikidata.org/prop/direct/P530'), ('pName', 'diplomatic relation'), ('oName', 'Cyprus')]\n",
      "[('p', 'http://www.wikidata.org/prop/direct/P530'), ('pName', 'diplomatic relation'), ('oName', 'Georgia')]\n",
      "[('p', 'http://www.wikidata.org/prop/direct/P530'), ('pName', 'diplomatic relation'), ('oName', 'Malta')]\n",
      "[('p', 'http://www.wikidata.org/prop/direct/P530'), ('pName', 'diplomatic relation'), ('oName', 'Monaco')]\n",
      "[('p', 'http://www.wikidata.org/prop/direct/P530'), ('pName', 'diplomatic relation'), ('oName', 'Montenegro')]\n",
      "[('p', 'http://www.wikidata.org/prop/direct/P530'), ('pName', 'diplomatic relation'), ('oName', 'San Marino')]\n",
      "[('p', 'http://www.wikidata.org/prop/direct/P530'), ('pName', 'diplomatic relation'), ('oName', 'Indonesia')]\n",
      "[('p', 'http://www.wikidata.org/prop/direct/P530'), ('pName', 'diplomatic relation'), ('oName', 'South Africa')]\n",
      "[('p', 'http://www.wikidata.org/prop/direct/P530'), ('pName', 'diplomatic relation'), ('oName', 'Ireland')]\n",
      "[('p', 'http://www.wikidata.org/prop/direct/P530'), ('pName', 'diplomatic relation'), ('oName', 'Hungary')]\n",
      "[('p', 'http://www.wikidata.org/prop/direct/P530'), ('pName', 'diplomatic relation'), ('oName', 'Spain')]\n",
      "[('p', 'http://www.wikidata.org/prop/direct/P530'), ('pName', 'diplomatic relation'), ('oName', 'Chile')]\n",
      "[('p', 'http://www.wikidata.org/prop/direct/P530'), ('pName', 'diplomatic relation'), ('oName', 'United States of America')]\n",
      "[('p', 'http://www.wikidata.org/prop/direct/P530'), ('pName', 'diplomatic relation'), ('oName', 'Belgium')]\n",
      "[('p', 'http://www.wikidata.org/prop/direct/P530'), ('pName', 'diplomatic relation'), ('oName', 'Luxembourg')]\n",
      "[('p', 'http://www.wikidata.org/prop/direct/P530'), ('pName', 'diplomatic relation'), ('oName', 'Finland')]\n",
      "[('p', 'http://www.wikidata.org/prop/direct/P530'), ('pName', 'diplomatic relation'), ('oName', 'Sweden')]\n",
      "[('p', 'http://www.wikidata.org/prop/direct/P530'), ('pName', 'diplomatic relation'), ('oName', 'Liechtenstein')]\n",
      "[('p', 'http://www.wikidata.org/prop/direct/P530'), ('pName', 'diplomatic relation'), ('oName', 'Denmark')]\n",
      "[('p', 'http://www.wikidata.org/prop/direct/P530'), ('pName', 'diplomatic relation'), ('oName', 'Poland')]\n",
      "[('p', 'http://www.wikidata.org/prop/direct/P530'), ('pName', 'diplomatic relation'), ('oName', 'Yugoslavia')]\n",
      "[('p', 'http://www.wikidata.org/prop/direct/P530'), ('pName', 'diplomatic relation'), ('oName', 'Lithuania')]\n",
      "[('p', 'http://www.wikidata.org/prop/direct/P530'), ('pName', 'diplomatic relation'), ('oName', 'Switzerland')]\n",
      "[('p', 'http://www.wikidata.org/prop/direct/P530'), ('pName', 'diplomatic relation'), ('oName', 'Armenia')]\n",
      "[('p', 'http://www.wikidata.org/prop/direct/P530'), ('pName', 'diplomatic relation'), ('oName', 'Austria')]\n",
      "[('p', 'http://www.wikidata.org/prop/direct/P530'), ('pName', 'diplomatic relation'), ('oName', 'Serbia')]\n",
      "[('p', 'http://www.wikidata.org/prop/direct/P530'), ('pName', 'diplomatic relation'), ('oName', 'Australia')]\n",
      "[('p', 'http://www.wikidata.org/prop/direct/P530'), ('pName', 'diplomatic relation'), ('oName', 'Greece')]\n",
      "[('p', 'http://www.wikidata.org/prop/direct/P530'), ('pName', 'diplomatic relation'), ('oName', 'Argentina')]\n",
      "[('p', 'http://www.wikidata.org/prop/direct/P530'), ('pName', 'diplomatic relation'), ('oName', 'Peru')]\n",
      "[('p', 'http://www.wikidata.org/prop/direct/P530'), ('pName', 'diplomatic relation'), ('oName', 'North Korea')]\n",
      "[('p', 'http://www.wikidata.org/prop/direct/P530'), ('pName', 'diplomatic relation'), ('oName', 'Turkey')]\n",
      "[('p', 'http://www.wikidata.org/prop/direct/P530'), ('pName', 'diplomatic relation'), ('oName', 'Portugal')]\n",
      "[('p', 'http://www.wikidata.org/prop/direct/P530'), ('pName', 'diplomatic relation'), ('oName', 'Netherlands')]\n",
      "[('p', 'http://www.wikidata.org/prop/direct/P530'), ('pName', 'diplomatic relation'), ('oName', 'New Zealand')]\n",
      "[('p', 'http://www.wikidata.org/prop/direct/P530'), ('pName', 'diplomatic relation'), ('oName', 'India')]\n",
      "[('p', 'http://www.wikidata.org/prop/direct/P530'), ('pName', 'diplomatic relation'), ('oName', 'Paraguay')]\n",
      "[('p', 'http://www.wikidata.org/prop/direct/P530'), ('pName', 'diplomatic relation'), ('oName', 'Colombia')]\n",
      "[('p', 'http://www.wikidata.org/prop/direct/P530'), ('pName', 'diplomatic relation'), ('oName', 'Uruguay')]\n",
      "[('p', 'http://www.wikidata.org/prop/direct/P530'), ('pName', 'diplomatic relation'), ('oName', 'Egypt')]\n",
      "[('p', 'http://www.wikidata.org/prop/direct/P530'), ('pName', 'diplomatic relation'), ('oName', 'Iran')]\n",
      "[('p', 'http://www.wikidata.org/prop/direct/P530'), ('pName', 'diplomatic relation'), ('oName', 'Iraq')]\n",
      "[('p', 'http://www.wikidata.org/prop/direct/P530'), ('pName', 'diplomatic relation'), ('oName', 'Israel')]\n",
      "[('p', 'http://www.wikidata.org/prop/direct/P530'), ('pName', 'diplomatic relation'), ('oName', 'Yemen')]\n",
      "[('p', 'http://www.wikidata.org/prop/direct/P530'), ('pName', 'diplomatic relation'), ('oName', 'Lebanon')]\n",
      "[('p', 'http://www.wikidata.org/prop/direct/P530'), ('pName', 'diplomatic relation'), ('oName', 'Pakistan')]\n",
      "[('p', 'http://www.wikidata.org/prop/direct/P530'), ('pName', 'diplomatic relation'), ('oName', 'Taiwan')]\n",
      "[('p', 'http://www.wikidata.org/prop/direct/P530'), ('pName', 'diplomatic relation'), ('oName', 'Thailand')]\n",
      "[('p', 'http://www.wikidata.org/prop/direct/P530'), ('pName', 'diplomatic relation'), ('oName', 'Vietnam')]\n",
      "[('p', 'http://www.wikidata.org/prop/direct/P530'), ('pName', 'diplomatic relation'), ('oName', 'South Korea')]\n",
      "[('p', 'http://www.wikidata.org/prop/direct/P530'), ('pName', 'diplomatic relation'), ('oName', 'Afghanistan')]\n",
      "[('p', 'http://www.wikidata.org/prop/direct/P530'), ('pName', 'diplomatic relation'), ('oName', 'Bangladesh')]\n",
      "[('p', 'http://www.wikidata.org/prop/direct/P530'), ('pName', 'diplomatic relation'), ('oName', 'Philippines')]\n",
      "[('p', 'http://www.wikidata.org/prop/direct/P530'), ('pName', 'diplomatic relation'), ('oName', 'Tunisia')]\n",
      "[('p', 'http://www.wikidata.org/prop/direct/P530'), ('pName', 'diplomatic relation'), ('oName', 'Mexico')]\n",
      "[('p', 'http://www.wikidata.org/prop/direct/P1622'), ('pName', 'driving side'), ('oName', 'right')]\n",
      "[('p', 'http://www.wikidata.org/prop/direct/P8744'), ('pName', 'economy of topic'), ('oName', 'economy of Italy')]\n",
      "[('p', 'http://www.wikidata.org/prop/direct/P8826'), ('pName', 'edition humboldt digital ID')]\n",
      "[('p', 'http://www.wikidata.org/prop/direct/P2853'), ('pName', 'electrical plug type'), ('oName', 'Schuko')]\n",
      "[('p', 'http://www.wikidata.org/prop/direct/P2853'), ('pName', 'electrical plug type'), ('oName', 'Europlug')]\n",
      "[('p', 'http://www.wikidata.org/prop/direct/P2853'), ('pName', 'electrical plug type'), ('oName', 'Type L')]\n",
      "[('p', 'http://www.wikidata.org/prop/direct/P2852'), ('pName', 'emergency telephone number'), ('oName', '112')]\n",
      "[('p', 'http://www.wikidata.org/prop/direct/P2852'), ('pName', 'emergency telephone number'), ('oName', '113')]\n",
      "[('p', 'http://www.wikidata.org/prop/direct/P2852'), ('pName', 'emergency telephone number'), ('oName', '115')]\n",
      "[('p', 'http://www.wikidata.org/prop/direct/P2852'), ('pName', 'emergency telephone number'), ('oName', '118')]\n",
      "[('p', 'http://www.wikidata.org/prop/direct/P208'), ('pName', 'executive body'), ('oName', 'Government of Italy')]\n",
      "[('p', 'http://www.wikidata.org/prop/direct/P163'), ('pName', 'flag'), ('oName', 'flag of Italy')]\n",
      "[('p', 'http://www.wikidata.org/prop/direct/P41'), ('pName', 'flag image')]\n",
      "[('p', 'http://www.wikidata.org/prop/direct/P155'), ('pName', 'follows'), ('oName', 'Kingdom of Italy')]\n",
      "[('p', 'http://www.wikidata.org/prop/direct/P2633'), ('pName', 'geography of topic'), ('oName', 'geography of Italy')]\n",
      "[('p', 'http://www.wikidata.org/prop/direct/P3896'), ('pName', 'geoshape')]\n",
      "[('p', 'http://www.wikidata.org/prop/direct/P1552'), ('pName', 'has quality'), ('oName', 'free country')]\n",
      "[('p', 'http://www.wikidata.org/prop/direct/P6'), ('pName', 'head of government'), ('oName', 'Mario Draghi')]\n",
      "[('p', 'http://www.wikidata.org/prop/direct/P35'), ('pName', 'head of state'), ('oName', 'Sergio Mattarella')]\n",
      "[('p', 'http://www.wikidata.org/prop/direct/P209'), ('pName', 'highest judicial authority'), ('oName', 'Supreme Court of Cassation')]\n",
      "[('p', 'http://www.wikidata.org/prop/direct/P610'), ('pName', 'highest point'), ('oName', 'Mont Blanc')]\n",
      "[('p', 'http://www.wikidata.org/prop/direct/P2184'), ('pName', 'history of topic'), ('oName', 'history of Italy')]\n",
      "[('p', 'http://www.wikidata.org/prop/direct/P8217'), ('pName', 'iDAI.gazetteer ID')]\n",
      "[('p', 'http://www.wikidata.org/prop/direct/P7471'), ('pName', 'iNaturalist place ID')]\n",
      "[('p', 'http://www.wikidata.org/prop/direct/P571'), ('pName', 'inception')]\n",
      "[('p', 'http://www.wikidata.org/prop/direct/P31'), ('pName', 'instance of'), ('oName', 'sovereign state')]\n",
      "[('p', 'http://www.wikidata.org/prop/direct/P31'), ('pName', 'instance of'), ('oName', 'country')]\n",
      "[('p', 'http://www.wikidata.org/prop/direct/P2936'), ('pName', 'language used'), ('oName', 'Sicilian')]\n",
      "[('p', 'http://www.wikidata.org/prop/direct/P2936'), ('pName', 'language used'), ('oName', 'Neapolitan')]\n",
      "[('p', 'http://www.wikidata.org/prop/direct/P2936'), ('pName', 'language used'), ('oName', 'Friulian')]\n",
      "[('p', 'http://www.wikidata.org/prop/direct/P2936'), ('pName', 'language used'), ('oName', 'French')]\n",
      "[('p', 'http://www.wikidata.org/prop/direct/P2936'), ('pName', 'language used'), ('oName', 'German')]\n",
      "[('p', 'http://www.wikidata.org/prop/direct/P2936'), ('pName', 'language used'), ('oName', 'Sardinian')]\n",
      "[('p', 'http://www.wikidata.org/prop/direct/P2936'), ('pName', 'language used'), ('oName', 'Italian')]\n",
      "[('p', 'http://www.wikidata.org/prop/direct/P2936'), ('pName', 'language used'), ('oName', 'Slovene')]\n",
      "[('p', 'http://www.wikidata.org/prop/direct/P2936'), ('pName', 'language used'), ('oName', 'Emilian')]\n",
      "[('p', 'http://www.wikidata.org/prop/direct/P2936'), ('pName', 'language used'), ('oName', 'Occitan')]\n",
      "[('p', 'http://www.wikidata.org/prop/direct/P2936'), ('pName', 'language used'), ('oName', 'Piedmontese')]\n",
      "[('p', 'http://www.wikidata.org/prop/direct/P2936'), ('pName', 'language used'), ('oName', 'Franco-Provençal')]\n",
      "[('p', 'http://www.wikidata.org/prop/direct/P2936'), ('pName', 'language used'), ('oName', 'Venetian')]\n",
      "[('p', 'http://www.wikidata.org/prop/direct/P2936'), ('pName', 'language used'), ('oName', 'Lombard')]\n",
      "[('p', 'http://www.wikidata.org/prop/direct/P2936'), ('pName', 'language used'), ('oName', 'Gallurese')]\n",
      "[('p', 'http://www.wikidata.org/prop/direct/P2936'), ('pName', 'language used'), ('oName', 'Walser German')]\n",
      "[('p', 'http://www.wikidata.org/prop/direct/P2936'), ('pName', 'language used'), ('oName', 'Logudorese')]\n",
      "[('p', 'http://www.wikidata.org/prop/direct/P2936'), ('pName', 'language used'), ('oName', 'International Sign')]\n",
      "[('p', 'http://www.wikidata.org/prop/direct/P2936'), ('pName', 'language used'), ('oName', 'Ligurian')]\n",
      "[('p', 'http://www.wikidata.org/prop/direct/P2936'), ('pName', 'language used'), ('oName', 'Ladin')]\n",
      "[('p', 'http://www.wikidata.org/prop/direct/P2936'), ('pName', 'language used'), ('oName', 'Slavomolisano')]\n",
      "[('p', 'http://www.wikidata.org/prop/direct/P2936'), ('pName', 'language used'), ('oName', 'Cimbrian')]\n",
      "[('p', 'http://www.wikidata.org/prop/direct/P2936'), ('pName', 'language used'), ('oName', 'Corsican')]\n",
      "[('p', 'http://www.wikidata.org/prop/direct/P2936'), ('pName', 'language used'), ('oName', 'Arbëresh')]\n",
      "[('p', 'http://www.wikidata.org/prop/direct/P2936'), ('pName', 'language used'), ('oName', 'Romagnol')]\n",
      "[('p', 'http://www.wikidata.org/prop/direct/P2936'), ('pName', 'language used'), ('oName', 'Campidanese')]\n",
      "[('p', 'http://www.wikidata.org/prop/direct/P2936'), ('pName', 'language used'), ('oName', 'Italian Sign Language')]\n",
      "[('p', 'http://www.wikidata.org/prop/direct/P2936'), ('pName', 'language used'), ('oName', 'Judæo-Italian languages')]\n",
      "[('p', 'http://www.wikidata.org/prop/direct/P2936'), ('pName', 'language used'), ('oName', 'Mòcheno')]\n",
      "[('p', 'http://www.wikidata.org/prop/direct/P2936'), ('pName', 'language used'), ('oName', 'Sassarese')]\n",
      "[('p', 'http://www.wikidata.org/prop/direct/P194'), ('pName', 'legislative body'), ('oName', 'Italian Parliament')]\n",
      "[('p', 'http://www.wikidata.org/prop/direct/P395'), ('pName', 'licence plate code')]\n",
      "[('p', 'http://www.wikidata.org/prop/direct/P2250'), ('pName', 'life expectancy')]\n",
      "[('p', 'http://www.wikidata.org/prop/direct/P206'), ('pName', 'located in or next to body of water'), ('oName', 'Adriatic Sea')]\n",
      "[('p', 'http://www.wikidata.org/prop/direct/P206'), ('pName', 'located in or next to body of water'), ('oName', 'Mediterranean Sea')]\n",
      "[('p', 'http://www.wikidata.org/prop/direct/P206'), ('pName', 'located in or next to body of water'), ('oName', 'Ionian Sea')]\n",
      "[('p', 'http://www.wikidata.org/prop/direct/P206'), ('pName', 'located in or next to body of water'), ('oName', 'Tyrrhenian Sea')]\n",
      "[('p', 'http://www.wikidata.org/prop/direct/P206'), ('pName', 'located in or next to body of water'), ('oName', 'Ligurian Sea')]\n",
      "[('p', 'http://www.wikidata.org/prop/direct/P421'), ('pName', 'located in time zone'), ('oName', 'Europe/Rome')]\n",
      "[('p', 'http://www.wikidata.org/prop/direct/P706'), ('pName', 'located in/on physical feature'), ('oName', 'Southern Europe')]\n",
      "[('p', 'http://www.wikidata.org/prop/direct/P706'), ('pName', 'located in/on physical feature'), ('oName', 'Mediterranean Basin')]\n",
      "[('p', 'http://www.wikidata.org/prop/direct/P242'), ('pName', 'locator map image')]\n",
      "[('p', 'http://www.wikidata.org/prop/direct/P1589'), ('pName', 'lowest point'), ('oName', 'Contane')]\n",
      "[('p', 'http://www.wikidata.org/prop/direct/P92'), ('pName', 'main regulatory text'), ('oName', 'Constitution of Italy')]\n",
      "[('p', 'http://www.wikidata.org/prop/direct/P2884'), ('pName', 'mains voltage')]\n",
      "[('p', 'http://www.wikidata.org/prop/direct/P6104'), ('pName', 'maintained by WikiProject'), ('oName', 'WikiProject Italy')]\n",
      "[('p', 'http://www.wikidata.org/prop/direct/P2979'), ('pName', 'maritime identification digits')]\n",
      "[('p', 'http://www.wikidata.org/prop/direct/P3000'), ('pName', 'marriageable age')]\n",
      "[('p', 'http://www.wikidata.org/prop/direct/P3529'), ('pName', 'median income')]\n",
      "[('p', 'http://www.wikidata.org/prop/direct/P463'), ('pName', 'member of'), ('oName', 'European Bank for Reconstruction and Development')]\n",
      "[('p', 'http://www.wikidata.org/prop/direct/P463'), ('pName', 'member of'), ('oName', 'Inter-American Development Bank')]\n",
      "[('p', 'http://www.wikidata.org/prop/direct/P463'), ('pName', 'member of'), ('oName', 'International Chamber of Commerce')]\n",
      "[('p', 'http://www.wikidata.org/prop/direct/P463'), ('pName', 'member of'), ('oName', 'Multilateral Investment Guarantee Agency')]\n",
      "[('p', 'http://www.wikidata.org/prop/direct/P463'), ('pName', 'member of'), ('oName', 'United Nations')]\n",
      "[('p', 'http://www.wikidata.org/prop/direct/P463'), ('pName', 'member of'), ('oName', 'Missile Technology Control Regime')]\n",
      "[('p', 'http://www.wikidata.org/prop/direct/P463'), ('pName', 'member of'), ('oName', 'Latin Union')]\n",
      "[('p', 'http://www.wikidata.org/prop/direct/P463'), ('pName', 'member of'), ('oName', 'International Civil Aviation Organization')]\n",
      "[('p', 'http://www.wikidata.org/prop/direct/P463'), ('pName', 'member of'), ('oName', 'European Payments Union')]\n",
      "[('p', 'http://www.wikidata.org/prop/direct/P463'), ('pName', 'member of'), ('oName', 'European Air Transport Command')]\n",
      "[('p', 'http://www.wikidata.org/prop/direct/P463'), ('pName', 'member of'), ('oName', 'Nuclear Suppliers Group')]\n",
      "[('p', 'http://www.wikidata.org/prop/direct/P463'), ('pName', 'member of'), ('oName', 'European Southern Observatory')]\n",
      "[('p', 'http://www.wikidata.org/prop/direct/P463'), ('pName', 'member of'), ('oName', 'European Coal and Steel Community')]\n",
      "[('p', 'http://www.wikidata.org/prop/direct/P463'), ('pName', 'member of'), ('oName', 'World Meteorological Organization')]\n",
      "[('p', 'http://www.wikidata.org/prop/direct/P463'), ('pName', 'member of'), ('oName', 'Universal Postal Union')]\n",
      "[('p', 'http://www.wikidata.org/prop/direct/P463'), ('pName', 'member of'), ('oName', 'World Intellectual Property Organization')]\n",
      "[('p', 'http://www.wikidata.org/prop/direct/P463'), ('pName', 'member of'), ('oName', 'Asian Development Bank')]\n",
      "[('p', 'http://www.wikidata.org/prop/direct/P463'), ('pName', 'member of'), ('oName', 'Western European Union')]\n",
      "[('p', 'http://www.wikidata.org/prop/direct/P463'), ('pName', 'member of'), ('oName', 'International Bank for Reconstruction and Development')]\n",
      "[('p', 'http://www.wikidata.org/prop/direct/P463'), ('pName', 'member of'), ('oName', 'Union for the Mediterranean')]\n",
      "[('p', 'http://www.wikidata.org/prop/direct/P463'), ('pName', 'member of'), ('oName', 'Treaty on Open Skies')]\n",
      "[('p', 'http://www.wikidata.org/prop/direct/P463'), ('pName', 'member of'), ('oName', 'Schengen Area')]\n",
      "[('p', 'http://www.wikidata.org/prop/direct/P463'), ('pName', 'member of'), ('oName', 'G20')]\n",
      "[('p', 'http://www.wikidata.org/prop/direct/P463'), ('pName', 'member of'), ('oName', 'International Maritime Organization')]\n",
      "[('p', 'http://www.wikidata.org/prop/direct/P463'), ('pName', 'member of'), ('oName', 'International Hydrographic Organization')]\n",
      "[('p', 'http://www.wikidata.org/prop/direct/P463'), ('pName', 'member of'), ('oName', 'African Development Bank')]\n",
      "[('p', 'http://www.wikidata.org/prop/direct/P463'), ('pName', 'member of'), ('oName', 'G8')]\n",
      "[('p', 'http://www.wikidata.org/prop/direct/P463'), ('pName', 'member of'), ('oName', 'International Telecommunication Union')]\n",
      "[('p', 'http://www.wikidata.org/prop/direct/P463'), ('pName', 'member of'), ('oName', 'Caribbean Development Bank')]\n",
      "[('p', 'http://www.wikidata.org/prop/direct/P463'), ('pName', 'member of'), ('oName', 'United Nations Industrial Development Organization')]\n",
      "[('p', 'http://www.wikidata.org/prop/direct/P463'), ('pName', 'member of'), ('oName', 'Movement Coordination Centre Europe')]\n",
      "[('p', 'http://www.wikidata.org/prop/direct/P463'), ('pName', 'member of'), ('oName', 'Organisation for Economic Cooperation and Development')]\n",
      "[('p', 'http://www.wikidata.org/prop/direct/P463'), ('pName', 'member of'), ('oName', 'International Atomic Energy Agency')]\n",
      "[('p', 'http://www.wikidata.org/prop/direct/P463'), ('pName', 'member of'), ('oName', 'European Space Agency')]\n",
      "[('p', 'http://www.wikidata.org/prop/direct/P463'), ('pName', 'member of'), ('oName', 'CERN')]\n",
      "[('p', 'http://www.wikidata.org/prop/direct/P463'), ('pName', 'member of'), ('oName', 'Visa Waiver Program')]\n",
      "[('p', 'http://www.wikidata.org/prop/direct/P463'), ('pName', 'member of'), ('oName', 'European Union')]\n",
      "[('p', 'http://www.wikidata.org/prop/direct/P463'), ('pName', 'member of'), ('oName', 'International Criminal Court')]\n",
      "[('p', 'http://www.wikidata.org/prop/direct/P463'), ('pName', 'member of'), ('oName', 'Organisation for Joint Armament Cooperation')]\n",
      "[('p', 'http://www.wikidata.org/prop/direct/P463'), ('pName', 'member of'), ('oName', 'International Labour Organization')]\n",
      "[('p', 'http://www.wikidata.org/prop/direct/P463'), ('pName', 'member of'), ('oName', 'Group on Earth Observations')]\n",
      "[('p', 'http://www.wikidata.org/prop/direct/P463'), ('pName', 'member of'), ('oName', 'World Tourism Organization')]\n",
      "[('p', 'http://www.wikidata.org/prop/direct/P463'), ('pName', 'member of'), ('oName', 'International Finance Corporation')]\n",
      "[('p', 'http://www.wikidata.org/prop/direct/P463'), ('pName', 'member of'), ('oName', 'Eurocontrol')]\n",
      "[('p', 'http://www.wikidata.org/prop/direct/P463'), ('pName', 'member of'), ('oName', 'International Fund for Agricultural Development')]\n",
      "[('p', 'http://www.wikidata.org/prop/direct/P463'), ('pName', 'member of'), ('oName', 'NATO')]\n",
      "[('p', 'http://www.wikidata.org/prop/direct/P463'), ('pName', 'member of'), ('oName', 'International Monetary Fund')]\n",
      "[('p', 'http://www.wikidata.org/prop/direct/P463'), ('pName', 'member of'), ('oName', 'UNESCO')]\n",
      "[('p', 'http://www.wikidata.org/prop/direct/P463'), ('pName', 'member of'), ('oName', 'World Health Organization')]\n",
      "[('p', 'http://www.wikidata.org/prop/direct/P463'), ('pName', 'member of'), ('oName', 'World Trade Organization')]\n",
      "[('p', 'http://www.wikidata.org/prop/direct/P463'), ('pName', 'member of'), ('oName', 'Australia Group')]\n",
      "[('p', 'http://www.wikidata.org/prop/direct/P463'), ('pName', 'member of'), ('oName', 'Organization for Security and Co-operation in Europe')]\n",
      "[('p', 'http://www.wikidata.org/prop/direct/P463'), ('pName', 'member of'), ('oName', 'Food and Agriculture Organization')]\n",
      "[('p', 'http://www.wikidata.org/prop/direct/P463'), ('pName', 'member of'), ('oName', 'International Energy Agency')]\n",
      "[('p', 'http://www.wikidata.org/prop/direct/P463'), ('pName', 'member of'), ('oName', 'International Development Association')]\n",
      "[('p', 'http://www.wikidata.org/prop/direct/P463'), ('pName', 'member of'), ('oName', 'Organisation for the Prohibition of Chemical Weapons')]\n",
      "[('p', 'http://www.wikidata.org/prop/direct/P463'), ('pName', 'member of'), ('oName', 'Interpol')]\n",
      "[('p', 'http://www.wikidata.org/prop/direct/P463'), ('pName', 'member of'), ('oName', 'Council of Europe')]\n",
      "[('p', 'http://www.wikidata.org/prop/direct/P463'), ('pName', 'member of'), ('oName', 'International Centre for Settlement of Investment Disputes')]\n",
      "[('p', 'http://www.wikidata.org/prop/direct/P463'), ('pName', 'member of'), ('oName', 'United Nations High Commissioner for Refugees')]\n",
      "[('p', 'http://www.wikidata.org/prop/direct/P463'), ('pName', 'member of'), ('oName', 'United Nations Truce Supervision Organization')]\n",
      "[('p', 'http://www.wikidata.org/prop/direct/P463'), ('pName', 'member of'), ('oName', 'Interparliamentary Union')]\n",
      "[('p', 'http://www.wikidata.org/prop/direct/P463'), ('pName', 'member of'), ('oName', 'United Nations Conference on Trade and Development')]\n",
      "[('p', 'http://www.wikidata.org/prop/direct/P463'), ('pName', 'member of'), ('oName', 'International Red Cross and Red Crescent Movement')]\n",
      "[('p', 'http://www.wikidata.org/prop/direct/P463'), ('pName', 'member of'), ('oName', 'European Economic Community')]\n",
      "[('p', 'http://www.wikidata.org/prop/direct/P463'), ('pName', 'member of'), ('oName', 'World Customs Organization')]\n",
      "[('p', 'http://www.wikidata.org/prop/direct/P463'), ('pName', 'member of'), ('oName', 'International Organization for Migration')]\n",
      "[('p', 'http://www.wikidata.org/prop/direct/P463'), ('pName', 'member of'), ('oName', 'Bank for International Settlements')]\n",
      "[('p', 'http://www.wikidata.org/prop/direct/P463'), ('pName', 'member of'), ('oName', 'Permanent Court of Arbitration')]\n",
      "[('p', 'http://www.wikidata.org/prop/direct/P463'), ('pName', 'member of'), ('oName', 'Euro-Atlantic Partnership Council')]\n",
      "[('p', 'http://www.wikidata.org/prop/direct/P463'), ('pName', 'member of'), ('oName', 'Group of Ten')]\n",
      "[('p', 'http://www.wikidata.org/prop/direct/P463'), ('pName', 'member of'), ('oName', 'International Mobile Satellite Organization')]\n",
      "[('p', 'http://www.wikidata.org/prop/direct/P463'), ('pName', 'member of'), ('oName', 'Procurement G6')]\n",
      "[('p', 'http://www.wikidata.org/prop/direct/P7422'), ('pName', 'minimum temperature record')]\n",
      "[('p', 'http://www.wikidata.org/prop/direct/P2258'), ('pName', 'mobile country code')]\n",
      "[('p', 'http://www.wikidata.org/prop/direct/P1451'), ('pName', 'motto text')]\n",
      "[('p', 'http://www.wikidata.org/prop/direct/P1120'), ('pName', 'number of deaths')]\n",
      "[('p', 'http://www.wikidata.org/prop/direct/P2573'), ('pName', 'number of out-of-school children')]\n",
      "[('p', 'http://www.wikidata.org/prop/direct/P1906'), ('pName', 'office held by head of state'), ('oName', 'President of Italy')]\n",
      "[('p', 'http://www.wikidata.org/prop/direct/P1313'), ('pName', 'office held by head of government'), ('oName', 'Prime Minister of Italy')]\n",
      "[('p', 'http://www.wikidata.org/prop/direct/P37'), ('pName', 'official language'), ('oName', 'Italian')]\n",
      "[('p', 'http://www.wikidata.org/prop/direct/P856'), ('pName', 'official website')]\n",
      "[('p', 'http://www.wikidata.org/prop/direct/P5008'), ('pName', 'on focus list of Wikimedia project'), ('oName', 'WikiProject Zika Corpus')]\n",
      "[('p', 'http://www.wikidata.org/prop/direct/P5008'), ('pName', 'on focus list of Wikimedia project'), ('oName', 'Wikipedia:Vital articles')]\n",
      "[('p', 'http://www.wikidata.org/prop/direct/P8402'), ('pName', 'open data portal'), ('oName', 'Open Data Portal Italy')]\n",
      "[('p', 'http://www.wikidata.org/prop/direct/P948'), ('pName', 'page banner')]\n",
      "[('p', 'http://www.wikidata.org/prop/direct/P361'), ('pName', 'part of'), ('oName', 'Europe')]\n",
      "[('p', 'http://www.wikidata.org/prop/direct/P417'), ('pName', 'patron saint'), ('oName', 'Francis of Assisi')]\n",
      "[('p', 'http://www.wikidata.org/prop/direct/P417'), ('pName', 'patron saint'), ('oName', 'Catherine of Siena')]\n",
      "[('p', 'http://www.wikidata.org/prop/direct/P2959'), ('pName', 'permanent duplicated item')]\n",
      "[('p', 'http://www.wikidata.org/prop/direct/P1082'), ('pName', 'population')]\n",
      "[('p', 'http://www.wikidata.org/prop/direct/P443'), ('pName', 'pronunciation audio')]\n",
      "[('p', 'http://www.wikidata.org/prop/direct/P832'), ('pName', 'public holiday'), ('oName', \"New Year's Day\")]\n",
      "[('p', 'http://www.wikidata.org/prop/direct/P832'), ('pName', 'public holiday'), ('oName', 'Christmas')]\n",
      "[('p', 'http://www.wikidata.org/prop/direct/P832'), ('pName', 'public holiday'), ('oName', 'Easter Monday')]\n",
      "[('p', 'http://www.wikidata.org/prop/direct/P832'), ('pName', 'public holiday'), ('oName', \"International Workers' Day\")]\n",
      "[('p', 'http://www.wikidata.org/prop/direct/P832'), ('pName', 'public holiday'), ('oName', \"All Saints' Day\")]\n",
      "[('p', 'http://www.wikidata.org/prop/direct/P832'), ('pName', 'public holiday'), ('oName', 'Easter')]\n",
      "[('p', 'http://www.wikidata.org/prop/direct/P832'), ('pName', 'public holiday'), ('oName', 'Epiphany')]\n",
      "[('p', 'http://www.wikidata.org/prop/direct/P832'), ('pName', 'public holiday'), ('oName', \"St. Stephen's Day\")]\n",
      "[('p', 'http://www.wikidata.org/prop/direct/P832'), ('pName', 'public holiday'), ('oName', 'Feast of the Immaculate Conception')]\n",
      "[('p', 'http://www.wikidata.org/prop/direct/P832'), ('pName', 'public holiday'), ('oName', 'Ferragosto')]\n",
      "[('p', 'http://www.wikidata.org/prop/direct/P832'), ('pName', 'public holiday'), ('oName', 'Anniversary of the liberation of Italy')]\n",
      "[('p', 'http://www.wikidata.org/prop/direct/P832'), ('pName', 'public holiday'), ('oName', 'Festa della Repubblica')]\n",
      "[('p', 'http://www.wikidata.org/prop/direct/P5658'), ('pName', 'railway traffic side'), ('oName', 'left')]\n",
      "[('p', 'http://www.wikidata.org/prop/direct/P1365'), ('pName', 'replaces'), ('oName', 'Kingdom of Italy')]\n",
      "[('p', 'http://www.wikidata.org/prop/direct/P1419'), ('pName', 'shape'), ('oName', 'boot')]\n",
      "[('p', 'http://www.wikidata.org/prop/direct/P47'), ('pName', 'shares border with'), ('oName', 'France')]\n",
      "[('p', 'http://www.wikidata.org/prop/direct/P47'), ('pName', 'shares border with'), ('oName', 'Slovenia')]\n",
      "[('p', 'http://www.wikidata.org/prop/direct/P47'), ('pName', 'shares border with'), ('oName', 'Malta')]\n",
      "[('p', 'http://www.wikidata.org/prop/direct/P47'), ('pName', 'shares border with'), ('oName', 'Vatican City')]\n",
      "[('p', 'http://www.wikidata.org/prop/direct/P47'), ('pName', 'shares border with'), ('oName', 'San Marino')]\n",
      "[('p', 'http://www.wikidata.org/prop/direct/P47'), ('pName', 'shares border with'), ('oName', 'Switzerland')]\n",
      "[('p', 'http://www.wikidata.org/prop/direct/P47'), ('pName', 'shares border with'), ('oName', 'Austria')]\n",
      "[('p', 'http://www.wikidata.org/prop/direct/P3984'), ('pName', 'subreddit')]\n",
      "[('p', 'http://www.wikidata.org/prop/direct/P78'), ('pName', 'top-level Internet domain'), ('oName', '.it')]\n",
      "[('p', 'http://www.wikidata.org/prop/direct/P1151'), ('pName', \"topic's main Wikimedia portal\"), ('oName', 'Portal:Italy')]\n",
      "[('p', 'http://www.wikidata.org/prop/direct/P910'), ('pName', \"topic's main category\"), ('oName', 'Category:Italy')]\n",
      "[('p', 'http://www.wikidata.org/prop/direct/P4841'), ('pName', 'total fertility rate')]\n",
      "[('p', 'http://www.wikidata.org/prop/direct/P1198'), ('pName', 'unemployment rate')]\n",
      "[('p', 'http://www.wikidata.org/prop/direct/P2436'), ('pName', 'voltage')]\n",
      "[('p', 'http://www.wikidata.org/prop/direct/P9318'), ('pName', 'Ávvir topic ID')]\n",
      "[('p', 'http://www.wikidata.org/prop/direct/P8432'), ('pName', 'Österreichisches Musiklexikon Online ID')]\n"
     ]
    },
    {
     "data": {
      "text/plain": [
       "497"
      ]
     },
     "execution_count": 9,
     "metadata": {},
     "output_type": "execute_result"
    }
   ],
   "source": [
    "queryString = \"\"\"\n",
    "SELECT DISTINCT ?p ?pName ?oName\n",
    "WHERE { \n",
    "\n",
    "    wd:Q38 ?p ?o .\n",
    "    OPTIONAL{?p sc:name ?pName}\n",
    "    OPTIONAL{?o sc:name ?oName}\n",
    "    \n",
    "} ORDER BY ?pName\n",
    "\"\"\"\n",
    "\n",
    "print(\"Results\")\n",
    "run_query(queryString)"
   ]
  },
  {
   "cell_type": "markdown",
   "id": "c4349ae4-0cb0-4851-bc7b-da686ca453ee",
   "metadata": {},
   "source": [
    "### Retrieve also  European Union URI"
   ]
  },
  {
   "cell_type": "code",
   "execution_count": 10,
   "id": "c27b507d-2481-4e97-b927-c23c3c538465",
   "metadata": {},
   "outputs": [
    {
     "name": "stdout",
     "output_type": "stream",
     "text": [
      "Results\n",
      "[('oName', 'European Union'), ('o', 'http://www.wikidata.org/entity/Q458')]\n"
     ]
    },
    {
     "data": {
      "text/plain": [
       "1"
      ]
     },
     "execution_count": 10,
     "metadata": {},
     "output_type": "execute_result"
    }
   ],
   "source": [
    "queryString = \"\"\"\n",
    "SELECT DISTINCT ?oName ?o\n",
    "WHERE { \n",
    "\n",
    "    wd:Q38 wdt:P463 ?o .\n",
    "    OPTIONAL{?o sc:name ?oName .}\n",
    "    FILTER regex(?oName,\"^European Union\")\n",
    "    \n",
    "} ORDER BY ?pName\n",
    "\"\"\"\n",
    "\n",
    "print(\"Results\")\n",
    "run_query(queryString)"
   ]
  },
  {
   "cell_type": "markdown",
   "id": "b4a254dd-18c2-47cf-8e41-263d115fb8b2",
   "metadata": {},
   "source": [
    "### Retrieve treaties that took place in E.U. countries"
   ]
  },
  {
   "cell_type": "code",
   "execution_count": 11,
   "id": "6e013acf-bb40-4cfb-8dc5-230dfcb81cad",
   "metadata": {},
   "outputs": [
    {
     "name": "stdout",
     "output_type": "stream",
     "text": [
      "Results\n",
      "[('countryName', 'Sweden'), ('treaties', 'Convention Establishing the World Intellectual Property Organization; Peace of Lund; Second Treaty of Brömsebro; Stockholm Convention on Persistent Organic Pollutants; Treaty of Orebro')]\n",
      "[('countryName', 'Czech Republic'), ('treaties', 'New START; Peace of Olomouc; Peace of Prague; Reichstadt Agreement; peace of Prague')]\n",
      "[('countryName', 'Portugal'), ('treaties', 'Convention of Sintra; Faro Convention; Iberian Pact; Lisbon Protocol; Methuen Treaty; Treaty of Alcáçovas; Treaty of Lisbon')]\n",
      "[('countryName', 'Lithuania'), ('treaties', 'Treaty of Kėdainiai; Truce of Vilna')]\n",
      "[('countryName', 'Greece'), ('treaties', 'Prespa agreement; Protocol of Corfu; Salonika Agreement; Treaty of Accession 1979; Treaty of Accession 2003')]\n",
      "[('countryName', 'Bulgaria'), ('treaties', 'Treaty of Küçük Kaynarca')]\n",
      "[('countryName', 'United Kingdom'), ('treaties', 'Agreement Concerning the Shipwrecked Vessel RMS Titanic; Agreement on German External Debts; Anglo-Dutch Gold Coast Treaty; Anglo-Dutch Treaty of 1824; Anglo-Egyptian treaty of 1936; Anglo-German Naval Agreement; Anglo-Irish Agreement; Anglo-Irish Treaty; Convention of London; Intercursus Magnus; International Convention on Load Lines; International Convention on Tonnage Measurement of Ships; Jarnac Convention; Jay Treaty; London Convention; London Naval Treaty; Masserano Declaration; Mise of Lewes; Outer Space Treaty; Second London Naval Treaty; Sikorski–Mayski agreement; Treaty of 1818; Treaty of Berwick; Treaty of Canterbury; Treaty of Durham; Treaty of Greenwich; Treaty of London; Treaty of Montgomery; Treaty of Perth; Treaty of Westminster; Treaty of Windsor; Treaty of indiends; Westminster Convention')]\n",
      "[('countryName', 'Poland'), ('treaties', '2005 Warsaw Convention; Belavezha Accords; Council of Europe Convention on the Prevention of Terrorism; German–Polish Border Treaty; Peace of Brześć Kujawski; Second Peace of Thorn (1466); Suwałki Agreement; Treaty of Altranstädt; Treaty of Bartenstein; Treaty of Breslau; Treaty of Bromberg; Treaty of Kalisz; Treaty of Kraków; Treaty of Marienburg; Treaty of Melno; Treaty of Namslau; Treaty of Oliva; Treaty of Rinsk; Treaty of Stettin; Treaty of Thorn; Treaty of Warsaw; Truce of Altmark; Warsaw Convention; Warsaw Treaty; treaty of Bärwalde')]\n",
      "[('countryName', 'Croatia'), ('treaties', 'Agreement on Friendship and Cooperation between Bosnia and Herzegovina and Croatia; Brioni Agreement; Erdut Agreement; Split Agreement; Treaty of Vis')]\n",
      "[('countryName', 'Spain'), ('treaties', 'Convention for the Protection of Human Rights and Dignity of the Human Being with regard to the Application of Biology and Medicine; Council of Europe Convention against Trafficking in Human Organs; Council of Europe Convention on the Protection of Children against Sexual Exploitation and Sexual Abuse; First Treaty of San Ildefonso; Madrid system; Treaty of Accession 1985; Treaty of Barcelona; Treaty of El Pardo; Treaty of Fontainebleau; Treaty of Madrid; Treaty of San Ildefonso; Treaty of Tordesillas; Treaty of Tudilén; Treaty of Villafáfila; treaty of the Pyrenees')]\n",
      "[('countryName', 'Luxembourg'), ('treaties', '1990 Schengen Convention; Budgetary treaties of the European Communities; Reparations Agreement between Israel and West Germany; Schengen Agreement of 1985; Single European Act; Treaty of Accession 2005')]\n",
      "[('countryName', 'Denmark'), ('treaties', 'Treaty of Frederiksborg; Treaty of Roskilde')]\n",
      "[('countryName', 'Romania'), ('treaties', 'Treaty of Bucharest; Treaty of Craiova; Treaty of Jassy; Treaty of the Pruth')]\n",
      "[('countryName', 'Austria'), ('treaties', 'Austrian State Treaty; Congress of Vienna; Convention on Assistance in the Case of a Nuclear Accident or Radiological Emergency; Convention on Early Notification of a Nuclear Accident; Convention on Nuclear Safety; Convention on Psychotropic Substances; Convention on the issue of multilingual extracts from civil status records; Convention on the recognition of decisions recording a sex reassignment; First Vienna Award; Gastein Convention; Peace Treaty of Wiener Neustadt; Second Vienna Award; Treaty of Linz; Treaty of Pusarnitz; Treaty of Schönbrunn; Treaty of Vienna; US–Austrian Peace Treaty; United Nations Convention Against Illicit Traffic in Narcotic Drugs and Psychotropic Substances; United Nations Convention on Contracts for the International Sale of Goods; Vienna Convention on Diplomatic Relations; Vienna Convention on Road Signs and Signals; Vienna Convention on Road Traffic; Vienna Convention on Succession of States in respect of Treaties')]\n",
      "[('countryName', 'Hungary'), ('treaties', 'Budapest Memorandum on Security Assurances; Convention on Cybercrime; Peace Treaty of Wiener Neustadt; Peace treaty in Győr in 1442; Treaty of Eger; Treaty of Schönbrunn; US–Hungarian Peace Treaty')]\n",
      "[('countryName', 'Kingdom of the Netherlands'), ('treaties', 'Amsterdam Treaty')]\n",
      "[('countryName', 'Finland'), ('treaties', 'Treaty of Nystad; Treaty of Värälä; Treaty of Åbo; Treaty on Open Skies')]\n",
      "[('countryName', 'Slovakia'), ('treaties', 'Peace of Pressburg; Treaty of Trentschin; Treaty of Ófalu')]\n",
      "[('countryName', 'France'), ('treaties', '1991 Paris Peace Accords; Agreement on the Transfer of Corpses; CINA Convention; Capitulation of Narbonne; Concordat of 1801; Congress of Arras; Convention for the Protection of Submarine Telegraph Cables; Convention on Laundering, Search, Seizure and Confiscation of the Proceeds from Crime; Convention on the Protection and Promotion of the Diversity of Cultural Expressions; Council of Europe Convention on the Avoidance of Statelessness in Relation to State Succession; Covenant of the League of Nations; European Convention on Establishment; European Convention on Extradition; European Cultural Convention; France–Saint Lucia Delimitation Agreement; Franco-Dutch treaty on Saint Martin border controls; Franco-Soviet Treaty of Mutual Assistance; German Instrument of Surrender; Gruber–De Gasperi Agreement; Kellogg-Briand pact; Louvre Accord; Mannheimer Akte; Mise of Amiens; Paris Agreement; Paris Agreements; Paris Declaration Respecting Maritime Law; Paris Economy Pact; Paris Peace Accords; Paris Peace Treaties; Peace of Etaples; Peace of Paris (1783); Peace of Vervins; Persian embassy to Louis XIV; Soviet-French non-aggression pact (1932); Svalbard Treaty; The ITER Agreement; Traité de Saint-Julien; Treaty of Amiens; Treaty of Bergerac; Treaty of Brétigny; Treaty of Cateau-Cambrésis; Treaty of Compiègne; Treaty of Corbeil; Treaty of Crépy; Treaty of Cusset; Treaty of Fontainebleau; Treaty of Lunéville; Treaty of Neuilly-sur-Seine; Treaty of Nice; Treaty of Paris; Treaty of Paris (1817); Treaty of Peace with Italy; Treaty of Pont-à-Vendin; Treaty of Péronne; Treaty of Saint-Germain-en-Laye; Treaty of Saint-Omer; Treaty of Sèvres; Treaty of Trianon; Treaty of Troyes; Treaty of Valençay; Treaty of Verdun; Treaty of Versailles; United Nations Convention to Combat Desertification; Vienne treaty; treaty of Montmirail; treaty of the Pyrenees; Élysée Treaty; Évian Accords')]\n",
      "[('countryName', 'Belgium'), ('treaties', 'Brussels Agreement; Brussels Sugar Convention; Budgetary treaties of the European Communities; Convention of Kontich; Convention on the association of the Netherlands Antilles with the European Economic Community; Greenland Treaty; Merger Treaty; Treaty of Accession 1972; Treaty of Accession 1994; Treaty of Accession 2011; Treaty of Brussels; Treaty of Ghent; Ukraine–European Union Association Agreement')]\n",
      "[('countryName', 'Germany'), ('treaties', 'Agreement on the Conservation of Gorillas and Their Habitats; Bonn Convention; Convention on the recognition of registered partnerships; Einigungsvertrag; European Patent Convention; German-Finnish Transit Agreement (1940); German–Estonian Non-Aggression Pact; German–Latvian Non-Aggression Pact; German–Soviet Credit Agreement; Heligoland–Zanzibar Treaty; Jade Treaty; Mannheimer Akte; Morocco–Congo Treaty; Munich agreement; Peace of Augsburg; Peace of Bautzen; Peace of Constance; Peace of Passau; Peace of Travendal; Peace of Westphalia; Potsdam Conference; Prüm Convention; Reinsurance Treaty; Treaty of Aachen; Treaty of Altranstädt; Treaty of Aquisqranum (798); Treaty of Berlin (1926); Treaty of Berlin of 1878; Treaty of Dresden; Treaty of Füssen; Treaty of Hamburg; Treaty of Heiligen; Treaty of Hubertusburg; Treaty of Lübeck; Treaty of Münster; Treaty of Rastatt; Treaty of Schwedt; Treaty of Stralsund; Treaty of Weingarten; Treaty of Xanten; Verdrag van Stadtilm; Vertrag von Nymphenburg; transit of German troops through Finland and Sweden; treaty of Osnabrück')]\n",
      "[('countryName', 'Italy'), ('treaties', 'Armistice of Cassibile; Concordat of Bologna; Convention against Transnational Organized Crime; Convention of Alessandria; Declaration of the World Food Summit: five years later; European Convention on Human Rights; European Landscape Convention; Franco-Italian Armistice; International Plant Protection Convention; Italo-Soviet Pact; Pact of Genoa; Rome Declaration on World Food Security; Rome General Peace Accords; Rome Statute of the International Criminal Court; Treaties of Rome (1941); Treaty of Gaeta; Treaty of Lodi; Treaty of Osimo; Treaty of Rapallo; Treaty of Rome; Treaty of Villafranca; Treaty on the Functioning of the European Union; UNIDROIT Convention on Stolen or Illegally Exported Cultural Objects; Universal Declaration on the Eradication of Hunger and Malnutrition')]\n",
      "[('countryName', 'Latvia'), ('treaties', 'Peace of Riga (1921)')]\n",
      "[('countryName', 'Estonia'), ('treaties', 'Treaty of Narva; Treaty of Tartu')]\n"
     ]
    },
    {
     "data": {
      "text/plain": [
       "24"
      ]
     },
     "execution_count": 11,
     "metadata": {},
     "output_type": "execute_result"
    }
   ],
   "source": [
    "queryString = \"\"\"\n",
    "SELECT ?countryName (GROUP_CONCAT(DISTINCT ?treatyName; SEPARATOR=\"; \") AS ?treaties)\n",
    "WHERE { \n",
    "\n",
    "    ?treaty wdt:P31/wdt:P279* wd:Q131569 ;\n",
    "       wdt:P276 ?location ;\n",
    "       sc:name ?treatyName .\n",
    "    ?location wdt:P17 ?country .\n",
    "    ?country wdt:P463 wd:Q458 ;\n",
    "        sc:name ?countryName .\n",
    "} GROUP BY ?countryName\n",
    "\"\"\"\n",
    "\n",
    "print(\"Results\")\n",
    "run_query(queryString)"
   ]
  },
  {
   "cell_type": "markdown",
   "id": "1803e6b7-bf83-4e85-ab64-72b3c3f7da01",
   "metadata": {},
   "source": [
    "### Results part 1\n",
    "All the treaties done in E.U. contry have been retrieved and grouped by the country where they are located"
   ]
  },
  {
   "cell_type": "markdown",
   "id": "2db96d2c-b3fc-423d-97ce-56e481397618",
   "metadata": {},
   "source": [
    "## Part 2\n",
    "### Identify the BGP for obtaining which countries or people signed the treaties"
   ]
  },
  {
   "cell_type": "markdown",
   "id": "78441f1b-b5ff-48e9-9dd3-d206d3a715c3",
   "metadata": {},
   "source": [
    "### Try to identify predicate who signed the treaties"
   ]
  },
  {
   "cell_type": "code",
   "execution_count": 12,
   "id": "8a0ed8d7-076c-4afc-bbd5-58e1d95ff9ed",
   "metadata": {},
   "outputs": [
    {
     "name": "stdout",
     "output_type": "stream",
     "text": [
      "Results\n",
      "[('pName', 'organization directed by the office or position'), ('p', 'http://www.wikidata.org/prop/direct/P2389')]\n",
      "[('pName', 'repealed by'), ('p', 'http://www.wikidata.org/prop/direct/P2568')]\n",
      "[('pName', 'objective of project or action'), ('p', 'http://www.wikidata.org/prop/direct/P3712')]\n",
      "[('pName', 'amended by'), ('p', 'http://www.wikidata.org/prop/direct/P2567')]\n",
      "[('pName', 'cites work'), ('p', 'http://www.wikidata.org/prop/direct/P2860')]\n",
      "[('pName', 'advertises'), ('p', 'http://www.wikidata.org/prop/direct/P6291')]\n",
      "[('pName', 'applies to jurisdiction'), ('p', 'http://www.wikidata.org/prop/direct/P1001')]\n",
      "[('pName', 'field of work'), ('p', 'http://www.wikidata.org/prop/direct/P101')]\n",
      "[('pName', 'product or material produced'), ('p', 'http://www.wikidata.org/prop/direct/P1056')]\n",
      "[('pName', 'employer'), ('p', 'http://www.wikidata.org/prop/direct/P108')]\n",
      "[('pName', 'founded by'), ('p', 'http://www.wikidata.org/prop/direct/P112')]\n",
      "[('pName', 'political ideology'), ('p', 'http://www.wikidata.org/prop/direct/P1142')]\n",
      "[('pName', 'facet of'), ('p', 'http://www.wikidata.org/prop/direct/P1269')]\n",
      "[('pName', 'located in the administrative territorial entity'), ('p', 'http://www.wikidata.org/prop/direct/P131')]\n",
      "[('pName', 'described by source'), ('p', 'http://www.wikidata.org/prop/direct/P1343')]\n",
      "[('pName', 'participant in'), ('p', 'http://www.wikidata.org/prop/direct/P1344')]\n",
      "[('pName', 'replaces'), ('p', 'http://www.wikidata.org/prop/direct/P1365')]\n",
      "[('pName', 'replaced by'), ('p', 'http://www.wikidata.org/prop/direct/P1366')]\n",
      "[('pName', 'named after'), ('p', 'http://www.wikidata.org/prop/direct/P138')]\n",
      "[('pName', 'affiliation'), ('p', 'http://www.wikidata.org/prop/direct/P1416')]\n",
      "[('pName', 'based on'), ('p', 'http://www.wikidata.org/prop/direct/P144')]\n",
      "[('pName', 'has effect'), ('p', 'http://www.wikidata.org/prop/direct/P1542')]\n",
      "[('pName', 'follows'), ('p', 'http://www.wikidata.org/prop/direct/P155')]\n",
      "[('pName', 'followed by'), ('p', 'http://www.wikidata.org/prop/direct/P156')]\n",
      "[('pName', 'this taxon is source of'), ('p', 'http://www.wikidata.org/prop/direct/P1672')]\n",
      "[('pName', 'country'), ('p', 'http://www.wikidata.org/prop/direct/P17')]\n",
      "[('pName', 'depicts'), ('p', 'http://www.wikidata.org/prop/direct/P180')]\n",
      "[('pName', 'different from'), ('p', 'http://www.wikidata.org/prop/direct/P1889')]\n",
      "[('pName', 'place of birth'), ('p', 'http://www.wikidata.org/prop/direct/P19')]\n",
      "[('pName', 'drug or therapy used for treatment'), ('p', 'http://www.wikidata.org/prop/direct/P2176')]\n",
      "[('pName', 'studies'), ('p', 'http://www.wikidata.org/prop/direct/P2578')]\n",
      "[('pName', 'subclass of'), ('p', 'http://www.wikidata.org/prop/direct/P279')]\n",
      "[('pName', 'permanent duplicated item'), ('p', 'http://www.wikidata.org/prop/direct/P2959')]\n",
      "[('pName', \"category's main topic\"), ('p', 'http://www.wikidata.org/prop/direct/P301')]\n",
      "[('pName', 'instance of'), ('p', 'http://www.wikidata.org/prop/direct/P31')]\n",
      "[('pName', 'part of'), ('p', 'http://www.wikidata.org/prop/direct/P361')]\n",
      "[('pName', 'foundational text'), ('p', 'http://www.wikidata.org/prop/direct/P457')]\n",
      "[('pName', 'said to be the same as'), ('p', 'http://www.wikidata.org/prop/direct/P460')]\n",
      "[('pName', 'member of'), ('p', 'http://www.wikidata.org/prop/direct/P463')]\n",
      "[('pName', 'has part'), ('p', 'http://www.wikidata.org/prop/direct/P527')]\n",
      "[('pName', 'commemorates'), ('p', 'http://www.wikidata.org/prop/direct/P547')]\n",
      "[('pName', 'conflict'), ('p', 'http://www.wikidata.org/prop/direct/P607')]\n",
      "[('pName', 'participant'), ('p', 'http://www.wikidata.org/prop/direct/P710')]\n",
      "[('pName', 'influenced by'), ('p', 'http://www.wikidata.org/prop/direct/P737')]\n",
      "[('pName', 'has edition or translation'), ('p', 'http://www.wikidata.org/prop/direct/P747')]\n",
      "[('pName', 'significant event'), ('p', 'http://www.wikidata.org/prop/direct/P793')]\n",
      "[('pName', 'notable work'), ('p', 'http://www.wikidata.org/prop/direct/P800')]\n",
      "[('pName', 'dedicated to'), ('p', 'http://www.wikidata.org/prop/direct/P825')]\n",
      "[('pName', 'has cause'), ('p', 'http://www.wikidata.org/prop/direct/P828')]\n",
      "[('pName', 'main regulatory text'), ('p', 'http://www.wikidata.org/prop/direct/P92')]\n",
      "[('pName', 'main subject'), ('p', 'http://www.wikidata.org/prop/direct/P921')]\n",
      "[('pName', 'work location'), ('p', 'http://www.wikidata.org/prop/direct/P937')]\n",
      "[('pName', 'category combines topics'), ('p', 'http://www.wikidata.org/prop/direct/P971')]\n",
      "[('p', 'http://www.w3.org/2002/07/owl#sameAs')]\n",
      "[('p', 'http://schema.org/about')]\n",
      "[('pName', 'published in'), ('p', 'http://www.wikidata.org/prop/direct/P1433')]\n",
      "[('pName', 'implementation of'), ('p', 'http://www.wikidata.org/prop/direct/P4428')]\n",
      "[('pName', 'conferred by'), ('p', 'http://www.wikidata.org/prop/direct/P1027')]\n",
      "[('pName', 'edition or translation of'), ('p', 'http://www.wikidata.org/prop/direct/P629')]\n",
      "[('pName', 'laws applied'), ('p', 'http://www.wikidata.org/prop/direct/P3014')]\n",
      "[('pName', 'has immediate cause'), ('p', 'http://www.wikidata.org/prop/direct/P1478')]\n",
      "[('pName', 'has contributing factor'), ('p', 'http://www.wikidata.org/prop/direct/P1479')]\n",
      "[('pName', 'repeals'), ('p', 'http://www.wikidata.org/prop/direct/P3148')]\n",
      "[('pName', 'statement supported by'), ('p', 'http://www.wikidata.org/prop/direct/P3680')]\n",
      "[('pName', 'Wikidata item of this property'), ('p', 'http://www.wikidata.org/prop/direct/P1629')]\n",
      "[('pName', 'Wikidata property example'), ('p', 'http://www.wikidata.org/prop/direct/P1855')]\n",
      "[('pName', \"applicable 'stated in' value\"), ('p', 'http://www.wikidata.org/prop/direct/P9073')]\n",
      "[('pName', 'addressee'), ('p', 'http://www.wikidata.org/prop/direct/P1817')]\n",
      "[('pName', 'end cause'), ('p', 'http://www.wikidata.org/prop/direct/P1534')]\n",
      "[('pName', 'has parts of the class'), ('p', 'http://www.wikidata.org/prop/direct/P2670')]\n",
      "[('pName', 'authority'), ('p', 'http://www.wikidata.org/prop/direct/P797')]\n",
      "[('pName', 'immediate cause of'), ('p', 'http://www.wikidata.org/prop/direct/P1536')]\n",
      "[('pName', 'stated in'), ('p', 'http://www.wikidata.org/prop/direct/P248')]\n",
      "[('pName', 'dissertation submitted to'), ('p', 'http://www.wikidata.org/prop/direct/P4101')]\n",
      "[('pName', 'regulated by'), ('p', 'http://www.wikidata.org/prop/direct/P3719')]\n",
      "[('pName', 'template has topic'), ('p', 'http://www.wikidata.org/prop/direct/P1423')]\n",
      "[('pName', 'in opposition to'), ('p', 'http://www.wikidata.org/prop/direct/P5004')]\n",
      "[('pName', 'heritage designation'), ('p', 'http://www.wikidata.org/prop/direct/P1435')]\n",
      "[('pName', 'place of death'), ('p', 'http://www.wikidata.org/prop/direct/P20')]\n",
      "[('pName', 'time period'), ('p', 'http://www.wikidata.org/prop/direct/P2348')]\n",
      "[('pName', 'operating area'), ('p', 'http://www.wikidata.org/prop/direct/P2541')]\n",
      "[('pName', 'location'), ('p', 'http://www.wikidata.org/prop/direct/P276')]\n",
      "[('pName', 'connects with'), ('p', 'http://www.wikidata.org/prop/direct/P2789')]\n",
      "[('pName', 'author'), ('p', 'http://www.wikidata.org/prop/direct/P50')]\n",
      "[('pName', 'terminus'), ('p', 'http://www.wikidata.org/prop/direct/P559')]\n",
      "[('pName', 'place served by transport hub'), ('p', 'http://www.wikidata.org/prop/direct/P931')]\n",
      "[('pName', 'inspired by'), ('p', 'http://www.wikidata.org/prop/direct/P941')]\n",
      "[('pName', 'cause of destruction'), ('p', 'http://www.wikidata.org/prop/direct/P770')]\n",
      "[('pName', 'nominated by'), ('p', 'http://www.wikidata.org/prop/direct/P4353')]\n"
     ]
    },
    {
     "data": {
      "text/plain": [
       "89"
      ]
     },
     "execution_count": 12,
     "metadata": {},
     "output_type": "execute_result"
    }
   ],
   "source": [
    "queryString = \"\"\"\n",
    "SELECT DISTINCT ?pName ?p\n",
    "WHERE { \n",
    "\n",
    "    ?treaty wdt:P31/wdt:P279* wd:Q131569 .\n",
    "    ?s ?p ?treaty .  \n",
    "    OPTIONAL{ ?p sc:name ?pName .}  \n",
    "} \n",
    "\"\"\"\n",
    "\n",
    "print(\"Results\")\n",
    "run_query(queryString)"
   ]
  },
  {
   "cell_type": "markdown",
   "id": "38077196-bbc9-474c-95c7-1cb5bc265a56",
   "metadata": {},
   "source": [
    "### Try another way to reach the previous goal"
   ]
  },
  {
   "cell_type": "code",
   "execution_count": 13,
   "id": "011e2caa-d099-4530-a307-abc027368c24",
   "metadata": {},
   "outputs": [
    {
     "name": "stdout",
     "output_type": "stream",
     "text": [
      "Results\n",
      "[('pName', 'depositor'), ('p', 'http://www.wikidata.org/prop/direct/P2058')]\n",
      "[('pName', 'repealed by'), ('p', 'http://www.wikidata.org/prop/direct/P2568')]\n",
      "[('pName', 'gesetze-im-internet.de ID'), ('p', 'http://www.wikidata.org/prop/direct/P7677')]\n",
      "[('pName', 'AustLII ID'), ('p', 'http://www.wikidata.org/prop/direct/P5799')]\n",
      "[('pName', 'China Treaty Database ID'), ('p', 'http://www.wikidata.org/prop/direct/P8609')]\n",
      "[('pName', 'amended by'), ('p', 'http://www.wikidata.org/prop/direct/P2567')]\n",
      "[('pName', 'prohibits'), ('p', 'http://www.wikidata.org/prop/direct/P8739')]\n",
      "[('pName', 'Politiklexikon ID'), ('p', 'http://www.wikidata.org/prop/direct/P9437')]\n",
      "[('pName', 'United Nations Treaty Series Registration Number'), ('p', 'http://www.wikidata.org/prop/direct/P4231')]\n",
      "[('pName', 'CELEX number'), ('p', 'http://www.wikidata.org/prop/direct/P476')]\n",
      "[('pName', 'applies to jurisdiction'), ('p', 'http://www.wikidata.org/prop/direct/P1001')]\n",
      "[('pName', 'number of participants'), ('p', 'http://www.wikidata.org/prop/direct/P1132')]\n",
      "[('pName', 'U.S. National Archives Identifier'), ('p', 'http://www.wikidata.org/prop/direct/P1225')]\n",
      "[('pName', 'facet of'), ('p', 'http://www.wikidata.org/prop/direct/P1269')]\n",
      "[('pName', 'Gran Enciclopèdia Catalana ID'), ('p', 'http://www.wikidata.org/prop/direct/P1296')]\n",
      "[('pName', 'located in the administrative territorial entity'), ('p', 'http://www.wikidata.org/prop/direct/P131')]\n",
      "[('pName', 'NLA Trove ID'), ('p', 'http://www.wikidata.org/prop/direct/P1315')]\n",
      "[('pName', 'described by source'), ('p', 'http://www.wikidata.org/prop/direct/P1343')]\n",
      "[('pName', 'replaces'), ('p', 'http://www.wikidata.org/prop/direct/P1365')]\n",
      "[('pName', 'replaced by'), ('p', 'http://www.wikidata.org/prop/direct/P1366')]\n",
      "[('pName', 'named after'), ('p', 'http://www.wikidata.org/prop/direct/P138')]\n",
      "[('pName', 'Encyclopædia Britannica Online ID'), ('p', 'http://www.wikidata.org/prop/direct/P1417')]\n",
      "[('pName', 'official name'), ('p', 'http://www.wikidata.org/prop/direct/P1448')]\n",
      "[('pName', 'title'), ('p', 'http://www.wikidata.org/prop/direct/P1476')]\n",
      "[('pName', 'contributing factor of'), ('p', 'http://www.wikidata.org/prop/direct/P1537')]\n",
      "[('pName', 'logo image'), ('p', 'http://www.wikidata.org/prop/direct/P154')]\n",
      "[('pName', 'has effect'), ('p', 'http://www.wikidata.org/prop/direct/P1542')]\n",
      "[('pName', 'follows'), ('p', 'http://www.wikidata.org/prop/direct/P155')]\n",
      "[('pName', 'followed by'), ('p', 'http://www.wikidata.org/prop/direct/P156')]\n",
      "[('pName', 'date of official opening'), ('p', 'http://www.wikidata.org/prop/direct/P1619')]\n",
      "[('pName', 'Canadiana Authorities ID (former scheme)'), ('p', 'http://www.wikidata.org/prop/direct/P1670')]\n",
      "[('pName', 'country'), ('p', 'http://www.wikidata.org/prop/direct/P17')]\n",
      "[('pName', 'native label'), ('p', 'http://www.wikidata.org/prop/direct/P1705')]\n",
      "[('pName', 'image'), ('p', 'http://www.wikidata.org/prop/direct/P18')]\n",
      "[('pName', 'short name'), ('p', 'http://www.wikidata.org/prop/direct/P1813')]\n",
      "[('pName', 'different from'), ('p', 'http://www.wikidata.org/prop/direct/P1889')]\n",
      "[('pName', 'McCune-Reischauer romanization'), ('p', 'http://www.wikidata.org/prop/direct/P1942')]\n",
      "[('pName', 'collection'), ('p', 'http://www.wikidata.org/prop/direct/P195')]\n",
      "[('pName', 'Revised Romanization'), ('p', 'http://www.wikidata.org/prop/direct/P2001')]\n",
      "[('pName', 'Twitter username'), ('p', 'http://www.wikidata.org/prop/direct/P2002')]\n",
      "[('pName', 'Facebook ID'), ('p', 'http://www.wikidata.org/prop/direct/P2013')]\n",
      "[('pName', 'ISNI'), ('p', 'http://www.wikidata.org/prop/direct/P213')]\n",
      "[('pName', 'VIAF ID'), ('p', 'http://www.wikidata.org/prop/direct/P214')]\n",
      "[('pName', 'FAST ID'), ('p', 'http://www.wikidata.org/prop/direct/P2163')]\n",
      "[('pName', 'GND ID'), ('p', 'http://www.wikidata.org/prop/direct/P227')]\n",
      "[('pName', 'YSO ID'), ('p', 'http://www.wikidata.org/prop/direct/P2347')]\n",
      "[('pName', 'time period'), ('p', 'http://www.wikidata.org/prop/direct/P2348')]\n",
      "[('pName', 'office held by head of the organization'), ('p', 'http://www.wikidata.org/prop/direct/P2388')]\n",
      "[('pName', 'locator map image'), ('p', 'http://www.wikidata.org/prop/direct/P242')]\n",
      "[('pName', 'Library of Congress authority ID'), ('p', 'http://www.wikidata.org/prop/direct/P244')]\n",
      "[('pName', 'BabelNet ID'), ('p', 'http://www.wikidata.org/prop/direct/P2581')]\n",
      "[('pName', 'Google Knowledge Graph ID'), ('p', 'http://www.wikidata.org/prop/direct/P2671')]\n",
      "[('pName', 'Bibliothèque nationale de France ID'), ('p', 'http://www.wikidata.org/prop/direct/P268')]\n",
      "[('pName', 'IdRef ID'), ('p', 'http://www.wikidata.org/prop/direct/P269')]\n",
      "[('pName', 'location'), ('p', 'http://www.wikidata.org/prop/direct/P276')]\n",
      "[('pName', 'subclass of'), ('p', 'http://www.wikidata.org/prop/direct/P279')]\n",
      "[('pName', 'place of publication'), ('p', 'http://www.wikidata.org/prop/direct/P291')]\n",
      "[('pName', 'Great Russian Encyclopedia Online ID'), ('p', 'http://www.wikidata.org/prop/direct/P2924')]\n",
      "[('pName', 'permanent duplicated item'), ('p', 'http://www.wikidata.org/prop/direct/P2959')]\n",
      "[('pName', 'continent'), ('p', 'http://www.wikidata.org/prop/direct/P30')]\n",
      "[('pName', 'instance of'), ('p', 'http://www.wikidata.org/prop/direct/P31')]\n",
      "[('pName', 'Encyclopædia Universalis ID'), ('p', 'http://www.wikidata.org/prop/direct/P3219')]\n",
      "[('pName', 'NE.se ID'), ('p', 'http://www.wikidata.org/prop/direct/P3222')]\n",
      "[('pName', 'BAnQ author ID'), ('p', 'http://www.wikidata.org/prop/direct/P3280')]\n",
      "[('pName', 'National Library of Greece ID'), ('p', 'http://www.wikidata.org/prop/direct/P3348')]\n",
      "[('pName', 'Treccani ID'), ('p', 'http://www.wikidata.org/prop/direct/P3365')]\n",
      "[('pName', 'Quora topic ID'), ('p', 'http://www.wikidata.org/prop/direct/P3417')]\n",
      "[('pName', 'SNAC ARK ID'), ('p', 'http://www.wikidata.org/prop/direct/P3430')]\n",
      "[('pName', 'National Diet Library ID'), ('p', 'http://www.wikidata.org/prop/direct/P349')]\n",
      "[('pName', 'Ringgold ID'), ('p', 'http://www.wikidata.org/prop/direct/P3500')]\n",
      "[('pName', 'Cultureel Woordenboek ID'), ('p', 'http://www.wikidata.org/prop/direct/P3569')]\n",
      "[('pName', 'part of'), ('p', 'http://www.wikidata.org/prop/direct/P361')]\n",
      "[('pName', 'Le Monde diplomatique subject ID'), ('p', 'http://www.wikidata.org/prop/direct/P3612')]\n",
      "[('pName', 'official language'), ('p', 'http://www.wikidata.org/prop/direct/P37')]\n",
      "[('pName', 'Commons category'), ('p', 'http://www.wikidata.org/prop/direct/P373')]\n",
      "[('pName', 'JSTOR topic ID'), ('p', 'http://www.wikidata.org/prop/direct/P3827')]\n",
      "[('pName', 'Open Library subject ID'), ('p', 'http://www.wikidata.org/prop/direct/P3847')]\n",
      "[('pName', 'SHARE Catalogue author ID'), ('p', 'http://www.wikidata.org/prop/direct/P3987')]\n",
      "[('pName', 'language of work or name'), ('p', 'http://www.wikidata.org/prop/direct/P407')]\n",
      "[('pName', \"Treccani's Enciclopedia Italiana ID\"), ('p', 'http://www.wikidata.org/prop/direct/P4223')]\n",
      "[('pName', 'Store norske leksikon ID'), ('p', 'http://www.wikidata.org/prop/direct/P4342')]\n",
      "[('pName', 'UK Parliament thesaurus ID'), ('p', 'http://www.wikidata.org/prop/direct/P4527')]\n",
      "[('pName', 'foundational text'), ('p', 'http://www.wikidata.org/prop/direct/P457')]\n",
      "[('pName', 'said to be the same as'), ('p', 'http://www.wikidata.org/prop/direct/P460')]\n",
      "[('pName', 'Encyclopedia of Modern Ukraine ID'), ('p', 'http://www.wikidata.org/prop/direct/P4613')]\n",
      "[('pName', 'C-SPAN organization ID'), ('p', 'http://www.wikidata.org/prop/direct/P4725')]\n",
      "[('pName', 'Elhuyar ZTH ID'), ('p', 'http://www.wikidata.org/prop/direct/P4746')]\n",
      "[('pName', 'Wolfram Language entity code'), ('p', 'http://www.wikidata.org/prop/direct/P4839')]\n",
      "[('pName', 'author'), ('p', 'http://www.wikidata.org/prop/direct/P50')]\n",
      "[('pName', 'on focus list of Wikimedia project'), ('p', 'http://www.wikidata.org/prop/direct/P5008')]\n",
      "[('pName', 'Brockhaus Enzyklopädie online ID'), ('p', 'http://www.wikidata.org/prop/direct/P5019')]\n",
      "[('pName', 'Interlingual Index ID'), ('p', 'http://www.wikidata.org/prop/direct/P5063')]\n",
      "[('pName', 'ASC Leiden Thesaurus ID'), ('p', 'http://www.wikidata.org/prop/direct/P5198')]\n",
      "[('pName', 'has part'), ('p', 'http://www.wikidata.org/prop/direct/P527')]\n",
      "[('pName', 'BNB person ID'), ('p', 'http://www.wikidata.org/prop/direct/P5361')]\n",
      "[('pName', 'Canadian Encyclopedia article ID'), ('p', 'http://www.wikidata.org/prop/direct/P5395')]\n",
      "[('pName', 'EuroVoc ID'), ('p', 'http://www.wikidata.org/prop/direct/P5437')]\n",
      "[('pName', 'inception'), ('p', 'http://www.wikidata.org/prop/direct/P571')]\n",
      "[('pName', 'publication date'), ('p', 'http://www.wikidata.org/prop/direct/P577')]\n",
      "[('pName', 'start time'), ('p', 'http://www.wikidata.org/prop/direct/P580')]\n",
      "[('pName', 'end time'), ('p', 'http://www.wikidata.org/prop/direct/P582')]\n",
      "[('pName', 'point in time'), ('p', 'http://www.wikidata.org/prop/direct/P585')]\n",
      "[('pName', 'Larousse ID'), ('p', 'http://www.wikidata.org/prop/direct/P6058')]\n",
      "[('pName', 'conflict'), ('p', 'http://www.wikidata.org/prop/direct/P607')]\n",
      "[('pName', 'maintained by WikiProject'), ('p', 'http://www.wikidata.org/prop/direct/P6104')]\n",
      "[('pName', 'Microsoft Academic ID'), ('p', 'http://www.wikidata.org/prop/direct/P6366')]\n",
      "[('pName', \"Treccani's Dizionario di Storia ID\"), ('p', 'http://www.wikidata.org/prop/direct/P6404')]\n",
      "[('pName', 'Freebase ID'), ('p', 'http://www.wikidata.org/prop/direct/P646')]\n",
      "[('pName', 'Open Library ID'), ('p', 'http://www.wikidata.org/prop/direct/P648')]\n",
      "[('pName', 'Klexikon article ID'), ('p', 'http://www.wikidata.org/prop/direct/P6573')]\n",
      "[('pName', 'Alexander Turnbull Library ID'), ('p', 'http://www.wikidata.org/prop/direct/P6683')]\n",
      "[('pName', 'related image'), ('p', 'http://www.wikidata.org/prop/direct/P6802')]\n",
      "[('pName', 'SVT Play ID'), ('p', 'http://www.wikidata.org/prop/direct/P6817')]\n",
      "[('pName', 'NicoNicoPedia ID'), ('p', 'http://www.wikidata.org/prop/direct/P6900')]\n",
      "[('pName', 'NKCR AUT ID'), ('p', 'http://www.wikidata.org/prop/direct/P691')]\n",
      "[('pName', 'located in/on physical feature'), ('p', 'http://www.wikidata.org/prop/direct/P706')]\n",
      "[('pName', 'participant'), ('p', 'http://www.wikidata.org/prop/direct/P710')]\n",
      "[('pName', 'München Wiki article ID'), ('p', 'http://www.wikidata.org/prop/direct/P7140')]\n",
      "[('pName', 'PLWABN ID'), ('p', 'http://www.wikidata.org/prop/direct/P7293')]\n",
      "[('pName', 'Online PWN Encyclopedia ID'), ('p', 'http://www.wikidata.org/prop/direct/P7305')]\n",
      "[('pName', 'has edition or translation'), ('p', 'http://www.wikidata.org/prop/direct/P747')]\n",
      "[('pName', 'category for the interior of the item'), ('p', 'http://www.wikidata.org/prop/direct/P7561')]\n",
      "[('pName', 'French Vikidia ID'), ('p', 'http://www.wikidata.org/prop/direct/P7818')]\n",
      "[('pName', 'Spanish Vikidia ID'), ('p', 'http://www.wikidata.org/prop/direct/P7827')]\n",
      "[('pName', 'English Vikidia ID'), ('p', 'http://www.wikidata.org/prop/direct/P7829')]\n",
      "[('pName', 'WorldCat Identities ID'), ('p', 'http://www.wikidata.org/prop/direct/P7859')]\n",
      "[('pName', 'word in DPEJ of RAE ID'), ('p', 'http://www.wikidata.org/prop/direct/P7860')]\n",
      "[('pName', 'significant event'), ('p', 'http://www.wikidata.org/prop/direct/P793')]\n",
      "[('pName', 'authority'), ('p', 'http://www.wikidata.org/prop/direct/P797')]\n",
      "[('pName', 'Hrvatska enciklopedija ID'), ('p', 'http://www.wikidata.org/prop/direct/P7982')]\n",
      "[('pName', 'FactGrid item ID'), ('p', 'http://www.wikidata.org/prop/direct/P8168')]\n",
      "[('pName', 'Canadiana NCF ID'), ('p', 'http://www.wikidata.org/prop/direct/P8179')]\n",
      "[('pName', 'has cause'), ('p', 'http://www.wikidata.org/prop/direct/P828')]\n",
      "[('pName', 'Proleksis enciklopedija ID'), ('p', 'http://www.wikidata.org/prop/direct/P8349')]\n",
      "[('pName', 'KBpedia ID'), ('p', 'http://www.wikidata.org/prop/direct/P8408')]\n",
      "[('pName', 'official website'), ('p', 'http://www.wikidata.org/prop/direct/P856')]\n",
      "[('pName', 'sponsor'), ('p', 'http://www.wikidata.org/prop/direct/P859')]\n",
      "[('pName', 'category for the exterior of the item'), ('p', 'http://www.wikidata.org/prop/direct/P8596')]\n",
      "[('pName', 'social media followers'), ('p', 'http://www.wikidata.org/prop/direct/P8687')]\n",
      "[('pName', 'WordNet 3.1 Synset ID'), ('p', 'http://www.wikidata.org/prop/direct/P8814')]\n",
      "[('pName', 'HDS ID'), ('p', 'http://www.wikidata.org/prop/direct/P902')]\n",
      "[('pName', 'BHCL UUID'), ('p', 'http://www.wikidata.org/prop/direct/P9037')]\n",
      "[('pName', 'SELIBR ID'), ('p', 'http://www.wikidata.org/prop/direct/P906')]\n",
      "[('pName', \"topic's main category\"), ('p', 'http://www.wikidata.org/prop/direct/P910')]\n",
      "[('pName', 'main subject'), ('p', 'http://www.wikidata.org/prop/direct/P921')]\n",
      "[('pName', 'Cyprus Bibliography ID'), ('p', 'http://www.wikidata.org/prop/direct/P9287')]\n",
      "[('pName', 'Commons gallery'), ('p', 'http://www.wikidata.org/prop/direct/P935')]\n",
      "[('pName', 'Europalexikon ID'), ('p', 'http://www.wikidata.org/prop/direct/P9438')]\n",
      "[('pName', 'Biblioteca Nacional de España ID'), ('p', 'http://www.wikidata.org/prop/direct/P950')]\n",
      "[('pName', 'full work available at URL'), ('p', 'http://www.wikidata.org/prop/direct/P953')]\n",
      "[('p', 'http://www.w3.org/1999/02/22-rdf-syntax-ns#type')]\n",
      "[('p', 'http://www.wikidata.org/prop/direct-normalized/P214')]\n",
      "[('p', 'http://www.wikidata.org/prop/direct-normalized/P2163')]\n",
      "[('p', 'http://www.wikidata.org/prop/direct-normalized/P227')]\n",
      "[('p', 'http://www.wikidata.org/prop/direct-normalized/P2347')]\n",
      "[('p', 'http://www.wikidata.org/prop/direct-normalized/P244')]\n",
      "[('p', 'http://www.wikidata.org/prop/direct-normalized/P2581')]\n",
      "[('p', 'http://www.wikidata.org/prop/direct-normalized/P2671')]\n",
      "[('p', 'http://www.wikidata.org/prop/direct-normalized/P268')]\n",
      "[('p', 'http://www.wikidata.org/prop/direct-normalized/P269')]\n",
      "[('p', 'http://www.wikidata.org/prop/direct-normalized/P3348')]\n",
      "[('p', 'http://www.wikidata.org/prop/direct-normalized/P349')]\n",
      "[('p', 'http://www.wikidata.org/prop/direct-normalized/P5063')]\n",
      "[('p', 'http://www.wikidata.org/prop/direct-normalized/P5361')]\n",
      "[('p', 'http://www.wikidata.org/prop/direct-normalized/P5437')]\n",
      "[('p', 'http://www.wikidata.org/prop/direct-normalized/P6366')]\n",
      "[('p', 'http://www.wikidata.org/prop/direct-normalized/P646')]\n",
      "[('p', 'http://www.wikidata.org/prop/direct-normalized/P648')]\n",
      "[('p', 'http://www.wikidata.org/prop/direct-normalized/P8408')]\n",
      "[('p', 'http://www.wikidata.org/prop/direct-normalized/P906')]\n",
      "[('p', 'http://www.wikidata.org/prop/direct-normalized/P950')]\n",
      "[('pName', 'Encyclopedia of China Online Database ID'), ('p', 'http://www.wikidata.org/prop/direct/P9545')]\n",
      "[('pName', 'described at URL'), ('p', 'http://www.wikidata.org/prop/direct/P973')]\n",
      "[('pName', 'spoken text audio'), ('p', 'http://www.wikidata.org/prop/direct/P989')]\n",
      "[('pName', 'document file on Wikimedia Commons'), ('p', 'http://www.wikidata.org/prop/direct/P996')]\n",
      "[('pName', 'published in'), ('p', 'http://www.wikidata.org/prop/direct/P1433')]\n",
      "[('pName', 'edition or translation of'), ('p', 'http://www.wikidata.org/prop/direct/P629')]\n",
      "[('pName', 'UN document symbol'), ('p', 'http://www.wikidata.org/prop/direct/P3069')]\n",
      "[('pName', 'signatory'), ('p', 'http://www.wikidata.org/prop/direct/P1891')]\n",
      "[('pName', 'Swiss Federal Archives ID'), ('p', 'http://www.wikidata.org/prop/direct/P3889')]\n",
      "[('pName', 'CETS number'), ('p', 'http://www.wikidata.org/prop/direct/P3968')]\n",
      "[('pName', 'legal citation of this text'), ('p', 'http://www.wikidata.org/prop/direct/P1031')]\n",
      "[('pName', 'effective date'), ('p', 'http://www.wikidata.org/prop/direct/P7588')]\n",
      "[('pName', 'repeals'), ('p', 'http://www.wikidata.org/prop/direct/P3148')]\n",
      "[('pName', 'ratified by'), ('p', 'http://www.wikidata.org/prop/direct/P6193')]\n",
      "[('pName', 'including'), ('p', 'http://www.wikidata.org/prop/direct/P1012')]\n",
      "[('p', 'http://schema.org/name')]\n",
      "[('pName', 'NORAF ID'), ('p', 'http://www.wikidata.org/prop/direct/P1015')]\n",
      "[('pName', 'founded by'), ('p', 'http://www.wikidata.org/prop/direct/P112')]\n",
      "[('pName', 'Great Aragonese Encyclopedia ID'), ('p', 'http://www.wikidata.org/prop/direct/P1807')]\n",
      "[('pName', 'made from material'), ('p', 'http://www.wikidata.org/prop/direct/P186')]\n",
      "[('pName', 'height'), ('p', 'http://www.wikidata.org/prop/direct/P2048')]\n",
      "[('pName', 'width'), ('p', 'http://www.wikidata.org/prop/direct/P2049')]\n",
      "[('pName', 'inventory number'), ('p', 'http://www.wikidata.org/prop/direct/P217')]\n",
      "[('pName', 'operating area'), ('p', 'http://www.wikidata.org/prop/direct/P2541')]\n",
      "[('pName', 'number of parts of this work'), ('p', 'http://www.wikidata.org/prop/direct/P2635')]\n",
      "[('pName', 'subject has role'), ('p', 'http://www.wikidata.org/prop/direct/P2868')]\n",
      "[('pName', 'exact match'), ('p', 'http://www.wikidata.org/prop/direct/P2888')]\n",
      "[('pName', \"category's main topic\"), ('p', 'http://www.wikidata.org/prop/direct/P301')]\n",
      "[('pName', 'New York Times topic ID'), ('p', 'http://www.wikidata.org/prop/direct/P3221')]\n",
      "[('pName', 'PM20 folder ID'), ('p', 'http://www.wikidata.org/prop/direct/P4293')]\n",
      "[('pName', 'industry'), ('p', 'http://www.wikidata.org/prop/direct/P452')]\n",
      "[('pName', 'legislated by'), ('p', 'http://www.wikidata.org/prop/direct/P467')]\n",
      "[('pName', 'archives at'), ('p', 'http://www.wikidata.org/prop/direct/P485')]\n",
      "[('pName', 'MeSH descriptor ID'), ('p', 'http://www.wikidata.org/prop/direct/P486')]\n",
      "[('pName', 'dissolved, abolished or demolished date'), ('p', 'http://www.wikidata.org/prop/direct/P576')]\n",
      "[('pName', 'MedlinePlus ID'), ('p', 'http://www.wikidata.org/prop/direct/P604')]\n",
      "[('pName', 'copyright status'), ('p', 'http://www.wikidata.org/prop/direct/P6216')]\n",
      "[('pName', 'YSA ID'), ('p', 'http://www.wikidata.org/prop/direct/P6293')]\n",
      "[('pName', 'WordLift URL'), ('p', 'http://www.wikidata.org/prop/direct/P6363')]\n",
      "[('pName', 'translator'), ('p', 'http://www.wikidata.org/prop/direct/P655')]\n",
      "[('pName', 'De Agostini ID'), ('p', 'http://www.wikidata.org/prop/direct/P6706')]\n",
      "[('pName', 'MeSH tree code'), ('p', 'http://www.wikidata.org/prop/direct/P672')]\n",
      "[('pName', 'Yle topic ID'), ('p', 'http://www.wikidata.org/prop/direct/P8309')]\n",
      "[('pName', 'main regulatory text'), ('p', 'http://www.wikidata.org/prop/direct/P92')]\n",
      "[('pName', 'Ávvir topic ID'), ('p', 'http://www.wikidata.org/prop/direct/P9318')]\n",
      "[('p', 'http://www.wikidata.org/prop/direct-normalized/P1015')]\n",
      "[('p', 'http://www.wikidata.org/prop/direct-normalized/P486')]\n",
      "[('p', 'http://www.wikidata.org/prop/direct-normalized/P672')]\n",
      "[('pName', 'natural product of taxon'), ('p', 'http://www.wikidata.org/prop/direct/P1582')]\n",
      "[('pName', 'HistoryLink essay number'), ('p', 'http://www.wikidata.org/prop/direct/P9470')]\n",
      "[('pName', 'level of description'), ('p', 'http://www.wikidata.org/prop/direct/P6224')]\n",
      "[('pName', 'objective of project or action'), ('p', 'http://www.wikidata.org/prop/direct/P3712')]\n",
      "[('pName', 'ODLIS ID'), ('p', 'http://www.wikidata.org/prop/direct/P9374')]\n",
      "[('pName', 'BBC Things ID'), ('p', 'http://www.wikidata.org/prop/direct/P1617')]\n",
      "[('pName', 'Alexa rank'), ('p', 'http://www.wikidata.org/prop/direct/P1661')]\n",
      "[('pName', 'creator'), ('p', 'http://www.wikidata.org/prop/direct/P170')]\n",
      "[('pName', 'name in kana'), ('p', 'http://www.wikidata.org/prop/direct/P1814')]\n",
      "[('pName', 'has parts of the class'), ('p', 'http://www.wikidata.org/prop/direct/P2670')]\n",
      "[('pName', 'RERO ID'), ('p', 'http://www.wikidata.org/prop/direct/P3065')]\n",
      "[('pName', 'Guardian topic ID'), ('p', 'http://www.wikidata.org/prop/direct/P3106')]\n",
      "[('pName', 'use'), ('p', 'http://www.wikidata.org/prop/direct/P366')]\n",
      "[('pName', 'pronunciation audio'), ('p', 'http://www.wikidata.org/prop/direct/P443')]\n",
      "[('pName', 'Google News topics ID'), ('p', 'http://www.wikidata.org/prop/direct/P5337')]\n",
      "[('pName', 'Handbook of Texas ID'), ('p', 'http://www.wikidata.org/prop/direct/P6015')]\n",
      "[('pName', 'BBC News topic ID'), ('p', 'http://www.wikidata.org/prop/direct/P6200')]\n",
      "[('pName', 'RegiowikiAT ID'), ('p', 'http://www.wikidata.org/prop/direct/P6228')]\n",
      "[('pName', 'Fandom article ID'), ('p', 'http://www.wikidata.org/prop/direct/P6262')]\n",
      "[('pName', 'The Independent topic ID'), ('p', 'http://www.wikidata.org/prop/direct/P7284')]\n",
      "[('pName', 'Encyclopedia of the Great Plains ID'), ('p', 'http://www.wikidata.org/prop/direct/P7686')]\n",
      "[('pName', 'The Encyclopedia of Oklahoma History and Culture ID'), ('p', 'http://www.wikidata.org/prop/direct/P7723')]\n",
      "[('pName', 'Internet Encyclopedia of Ukraine ID'), ('p', 'http://www.wikidata.org/prop/direct/P9070')]\n",
      "[('pName', 'Armeniapedia ID'), ('p', 'http://www.wikidata.org/prop/direct/P9629')]\n",
      "[('p', 'http://www.wikidata.org/prop/direct-normalized/P1617')]\n",
      "[('pName', 'ISBN-13'), ('p', 'http://www.wikidata.org/prop/direct/P212')]\n",
      "[('pName', 'significant place'), ('p', 'http://www.wikidata.org/prop/direct/P7153')]\n",
      "[('p', 'http://www.wikidata.org/prop/direct-normalized/P212')]\n",
      "[('pName', 'number of subscribers'), ('p', 'http://www.wikidata.org/prop/direct/P3744')]\n",
      "[('pName', 'publisher'), ('p', 'http://www.wikidata.org/prop/direct/P123')]\n",
      "[('pName', 'has quality'), ('p', 'http://www.wikidata.org/prop/direct/P1552')]\n",
      "[('pName', 'GeoNames ID'), ('p', 'http://www.wikidata.org/prop/direct/P1566')]\n",
      "[('pName', 'headquarters location'), ('p', 'http://www.wikidata.org/prop/direct/P159')]\n",
      "[('pName', 'Zhihu topic ID'), ('p', 'http://www.wikidata.org/prop/direct/P3553')]\n",
      "[('pName', 'country of origin'), ('p', 'http://www.wikidata.org/prop/direct/P495')]\n",
      "[('pName', 'Pontificia Università della Santa Croce ID'), ('p', 'http://www.wikidata.org/prop/direct/P5739')]\n",
      "[('pName', 'RIA Novosti reference'), ('p', 'http://www.wikidata.org/prop/direct/P6081')]\n",
      "[('pName', 'DIZIE ID'), ('p', 'http://www.wikidata.org/prop/direct/P6414')]\n",
      "[('pName', 'TDV İslam Ansiklopedisi ID'), ('p', 'http://www.wikidata.org/prop/direct/P7314')]\n",
      "[('pName', 'influenced by'), ('p', 'http://www.wikidata.org/prop/direct/P737')]\n",
      "[('pName', 'category for maps'), ('p', 'http://www.wikidata.org/prop/direct/P7867')]\n",
      "[('p', 'http://www.wikidata.org/prop/direct-normalized/P1566')]\n",
      "[('p', 'http://www.wikidata.org/prop/direct-normalized/P5739')]\n",
      "[('pName', 'has immediate cause'), ('p', 'http://www.wikidata.org/prop/direct/P1478')]\n",
      "[('pName', 'Colorado Encyclopedia ID'), ('p', 'http://www.wikidata.org/prop/direct/P7680')]\n",
      "[('pName', 'source website for the property'), ('p', 'http://www.wikidata.org/prop/direct/P1896')]\n",
      "[('pName', 'issued by'), ('p', 'http://www.wikidata.org/prop/direct/P2378')]\n",
      "[('pName', 'URL'), ('p', 'http://www.wikidata.org/prop/direct/P2699')]\n",
      "[('pName', 'heritage designation'), ('p', 'http://www.wikidata.org/prop/direct/P1435')]\n",
      "[('pName', 'detail map'), ('p', 'http://www.wikidata.org/prop/direct/P1621')]\n",
      "[('pName', 'Wikidata property'), ('p', 'http://www.wikidata.org/prop/direct/P1687')]\n",
      "[('pName', 'IETF language tag'), ('p', 'http://www.wikidata.org/prop/direct/P305')]\n",
      "[('pName', 'currency'), ('p', 'http://www.wikidata.org/prop/direct/P38')]\n",
      "[('pName', 'Wikimedia language code'), ('p', 'http://www.wikidata.org/prop/direct/P424')]\n",
      "[('pName', 'LinkedIn company ID'), ('p', 'http://www.wikidata.org/prop/direct/P4264')]\n",
      "[('pName', 'member of'), ('p', 'http://www.wikidata.org/prop/direct/P463')]\n",
      "[('pName', 'BNCF Thesaurus ID'), ('p', 'http://www.wikidata.org/prop/direct/P508')]\n",
      "[('pName', 'Getty Iconography Authority ID'), ('p', 'http://www.wikidata.org/prop/direct/P5986')]\n",
      "[('pName', 'organizer'), ('p', 'http://www.wikidata.org/prop/direct/P664')]\n",
      "[('pName', 'Internet Archive ID'), ('p', 'http://www.wikidata.org/prop/direct/P724')]\n",
      "[('pName', 'location of formation'), ('p', 'http://www.wikidata.org/prop/direct/P740')]\n",
      "[('pName', 'Namuwiki ID'), ('p', 'http://www.wikidata.org/prop/direct/P8885')]\n",
      "[('pName', 'Enzyklopädie des europäischen Ostens ID'), ('p', 'http://www.wikidata.org/prop/direct/P9498')]\n",
      "[('pName', 'editor'), ('p', 'http://www.wikidata.org/prop/direct/P98')]\n",
      "[('p', 'http://www.wikidata.org/prop/direct-normalized/P508')]\n",
      "[('pName', 'Google Books ID'), ('p', 'http://www.wikidata.org/prop/direct/P675')]\n",
      "[('pName', 'reviewed by'), ('p', 'http://www.wikidata.org/prop/direct/P4032')]\n",
      "[('pName', 'BND ID'), ('p', 'http://www.wikidata.org/prop/direct/P5691')]\n",
      "[('pName', 'statement is subject of'), ('p', 'http://www.wikidata.org/prop/direct/P805')]\n",
      "[('pName', 'field of work'), ('p', 'http://www.wikidata.org/prop/direct/P101')]\n",
      "[('pName', 'number of pages'), ('p', 'http://www.wikidata.org/prop/direct/P1104')]\n",
      "[('pName', 'Wikisource index page URL'), ('p', 'http://www.wikidata.org/prop/direct/P1957')]\n",
      "[('pName', 'MNopedia ID'), ('p', 'http://www.wikidata.org/prop/direct/P6283')]\n",
      "[('pName', 'Maine: An Encyclopedia ID'), ('p', 'http://www.wikidata.org/prop/direct/P7697')]\n",
      "[('pName', 'Norwegian historical lexicon ID'), ('p', 'http://www.wikidata.org/prop/direct/P5169')]\n",
      "[('pName', 'page(s)'), ('p', 'http://www.wikidata.org/prop/direct/P304')]\n",
      "[('pName', 'applies to part'), ('p', 'http://www.wikidata.org/prop/direct/P518')]\n",
      "[('pName', 'quantity'), ('p', 'http://www.wikidata.org/prop/direct/P1114')]\n",
      "[('pName', 'political ideology'), ('p', 'http://www.wikidata.org/prop/direct/P1142')]\n",
      "[('pName', 'owned by'), ('p', 'http://www.wikidata.org/prop/direct/P127')]\n",
      "[('pName', 'writing system'), ('p', 'http://www.wikidata.org/prop/direct/P282')]\n",
      "[('pName', 'National Library of Israel ID'), ('p', 'http://www.wikidata.org/prop/direct/P949')]\n",
      "[('pName', 'catalog'), ('p', 'http://www.wikidata.org/prop/direct/P972')]\n",
      "[('pName', 'subtitle'), ('p', 'http://www.wikidata.org/prop/direct/P1680')]\n",
      "[('pName', 'issue'), ('p', 'http://www.wikidata.org/prop/direct/P433')]\n",
      "[('pName', 'Project Gutenberg ebook ID'), ('p', 'http://www.wikidata.org/prop/direct/P2034')]\n",
      "[('p', 'http://www.wikidata.org/prop/direct-normalized/P2034')]\n",
      "[('pName', 'regulated by'), ('p', 'http://www.wikidata.org/prop/direct/P3719')]\n",
      "[('pName', 'languages spoken, written or signed'), ('p', 'http://www.wikidata.org/prop/direct/P1412')]\n",
      "[('pName', 'series ordinal'), ('p', 'http://www.wikidata.org/prop/direct/P1545')]\n",
      "[('pName', 'Getty Thesaurus of Geographic Names ID'), ('p', 'http://www.wikidata.org/prop/direct/P1667')]\n",
      "[('pName', 'writing language'), ('p', 'http://www.wikidata.org/prop/direct/P6886')]\n",
      "[('pName', 'Singapore Infopedia ID'), ('p', 'http://www.wikidata.org/prop/direct/P8350')]\n",
      "[('p', 'http://www.wikidata.org/prop/direct-normalized/P1667')]\n",
      "[('pName', 'proxy'), ('p', 'http://www.wikidata.org/prop/direct/P1393')]\n",
      "[('pName', 'population'), ('p', 'http://www.wikidata.org/prop/direct/P1082')]\n",
      "[('pName', 'basic form of government'), ('p', 'http://www.wikidata.org/prop/direct/P122')]\n",
      "[('pName', 'Pleiades ID'), ('p', 'http://www.wikidata.org/prop/direct/P1584')]\n",
      "[('pName', 'area'), ('p', 'http://www.wikidata.org/prop/direct/P2046')]\n",
      "[('pName', 'Ballotpedia ID'), ('p', 'http://www.wikidata.org/prop/direct/P2390')]\n",
      "[('pName', 'Catholic Encyclopedia ID'), ('p', 'http://www.wikidata.org/prop/direct/P3241')]\n",
      "[('pName', 'capital'), ('p', 'http://www.wikidata.org/prop/direct/P36')]\n",
      "[('pName', 'STW Thesaurus for Economics ID'), ('p', 'http://www.wikidata.org/prop/direct/P3911')]\n",
      "[('pName', 'OpenStreetMap relation ID'), ('p', 'http://www.wikidata.org/prop/direct/P402')]\n",
      "[('pName', 'PACTOLS thesaurus ID'), ('p', 'http://www.wikidata.org/prop/direct/P4212')]\n",
      "[('pName', 'Uppslagsverket Finland ID'), ('p', 'http://www.wikidata.org/prop/direct/P4854')]\n",
      "[('pName', 'TASS reference'), ('p', 'http://www.wikidata.org/prop/direct/P6219')]\n",
      "[('p', 'http://www.wikidata.org/prop/direct-normalized/P1584')]\n",
      "[('p', 'http://www.wikidata.org/prop/direct-normalized/P3911')]\n",
      "[('p', 'http://www.wikidata.org/prop/direct-normalized/P402')]\n",
      "[('pName', 'Australian War Memorial ID'), ('p', 'http://www.wikidata.org/prop/direct/P6713')]\n",
      "[('pName', 'parent organization'), ('p', 'http://www.wikidata.org/prop/direct/P749')]\n",
      "[('pName', 'Visuotinė lietuvių enciklopedija ID'), ('p', 'http://www.wikidata.org/prop/direct/P7666')]\n",
      "[('pName', 'Den Store Danske ID'), ('p', 'http://www.wikidata.org/prop/direct/P8313')]\n",
      "[('pName', 'Encyclopedie berbere keyword ID'), ('p', 'http://www.wikidata.org/prop/direct/P8472')]\n",
      "[('pName', 'Encyclopaedia Beliana ID'), ('p', 'http://www.wikidata.org/prop/direct/P8669')]\n",
      "[('pName', 'Stadtlexikon Karlsruhe ID'), ('p', 'http://www.wikidata.org/prop/direct/P9285')]\n",
      "[('pName', 'page banner'), ('p', 'http://www.wikidata.org/prop/direct/P948')]\n",
      "[('pName', 'location of creation'), ('p', 'http://www.wikidata.org/prop/direct/P1071')]\n",
      "[('pName', 'United States Statutes at Large citation'), ('p', 'http://www.wikidata.org/prop/direct/P3825')]\n",
      "[('pName', 'BVMC work ID'), ('p', 'http://www.wikidata.org/prop/direct/P3976')]\n",
      "[('pName', 'Heritage Gazetteer of Libya ID'), ('p', 'http://www.wikidata.org/prop/direct/P6751')]\n",
      "[('pName', 'addressee'), ('p', 'http://www.wikidata.org/prop/direct/P1817')]\n",
      "[('p', 'http://www.wikidata.org/prop/direct-normalized/P3976')]\n",
      "[('pName', 'K10plus PPN ID'), ('p', 'http://www.wikidata.org/prop/direct/P6721')]\n",
      "[('pName', 'Library of Congress Classification'), ('p', 'http://www.wikidata.org/prop/direct/P1149')]\n",
      "[('pName', 'Swedish Open Cultural Heritage URI'), ('p', 'http://www.wikidata.org/prop/direct/P1260')]\n",
      "[('pName', \"topic's main template\"), ('p', 'http://www.wikidata.org/prop/direct/P1424')]\n",
      "[('pName', 'Global Anabaptist Mennonite Encyclopedia Online ID'), ('p', 'http://www.wikidata.org/prop/direct/P1842')]\n",
      "[('pName', 'significant person'), ('p', 'http://www.wikidata.org/prop/direct/P3342')]\n",
      "[('pName', 'WikiSkripta ID'), ('p', 'http://www.wikidata.org/prop/direct/P3471')]\n",
      "[('pName', 'Dagens Nyheter topic ID'), ('p', 'http://www.wikidata.org/prop/direct/P3509')]\n",
      "[('pName', 'Legislation of Ukraine ID'), ('p', 'http://www.wikidata.org/prop/direct/P4051')]\n",
      "[('pName', 'audio'), ('p', 'http://www.wikidata.org/prop/direct/P51')]\n",
      "[('pName', 'Latvian National Encyclopedia Online ID'), ('p', 'http://www.wikidata.org/prop/direct/P6870')]\n",
      "[('pName', 'National Library of Israel J9U ID'), ('p', 'http://www.wikidata.org/prop/direct/P8189')]\n",
      "[('pName', '1914-1918-Online ID'), ('p', 'http://www.wikidata.org/prop/direct/P8992')]\n",
      "[('pName', 'France24 topic ID (French)'), ('p', 'http://www.wikidata.org/prop/direct/P9346')]\n",
      "[('p', 'http://www.wikidata.org/prop/direct-normalized/P6721')]\n",
      "[('p', 'http://www.wikidata.org/prop/direct-normalized/P1149')]\n",
      "[('p', 'http://www.wikidata.org/prop/direct-normalized/P1260')]\n",
      "[('pName', 'CANTIC ID'), ('p', 'http://www.wikidata.org/prop/direct/P1273')]\n",
      "[('pName', 'first line'), ('p', 'http://www.wikidata.org/prop/direct/P1922')]\n",
      "[('pName', 'culture'), ('p', 'http://www.wikidata.org/prop/direct/P2596')]\n",
      "[('pName', 'Iranica ID'), ('p', 'http://www.wikidata.org/prop/direct/P3021')]\n",
      "[('pName', 'secretary general'), ('p', 'http://www.wikidata.org/prop/direct/P3975')]\n",
      "[('pName', 'Libraries Australia ID'), ('p', 'http://www.wikidata.org/prop/direct/P409')]\n",
      "[('pName', 'service entry'), ('p', 'http://www.wikidata.org/prop/direct/P729')]\n",
      "[('pName', 'Naver Encyclopedia ID'), ('p', 'http://www.wikidata.org/prop/direct/P7506')]\n",
      "[('pName', 'day in year for periodic occurrence'), ('p', 'http://www.wikidata.org/prop/direct/P837')]\n",
      "[('pName', 'Österreichisches Musiklexikon Online ID'), ('p', 'http://www.wikidata.org/prop/direct/P8432')]\n",
      "[('pName', 'announcement date'), ('p', 'http://www.wikidata.org/prop/direct/P6949')]\n",
      "[('pName', 'ISBN-10'), ('p', 'http://www.wikidata.org/prop/direct/P957')]\n",
      "[('p', 'http://www.wikidata.org/prop/direct-normalized/P957')]\n",
      "[('pName', 'commemorative plaque image'), ('p', 'http://www.wikidata.org/prop/direct/P1801')]\n",
      "[('pName', 'located in time zone'), ('p', 'http://www.wikidata.org/prop/direct/P421')]\n",
      "[('pName', 'date of birth'), ('p', 'http://www.wikidata.org/prop/direct/P569')]\n",
      "[('pName', 'BlackPast.org ID'), ('p', 'http://www.wikidata.org/prop/direct/P6723')]\n",
      "[('pName', 'World History Encyclopedia ID'), ('p', 'http://www.wikidata.org/prop/direct/P9000')]\n",
      "[('pName', 'Oxford Classical Dictionary ID'), ('p', 'http://www.wikidata.org/prop/direct/P9106')]\n",
      "[('pName', 'Polignosi ID'), ('p', 'http://www.wikidata.org/prop/direct/P9407')]\n",
      "[('pName', 'ballots cast'), ('p', 'http://www.wikidata.org/prop/direct/P1868')]\n",
      "[('pName', 'AGORHA event identifier'), ('p', 'http://www.wikidata.org/prop/direct/P2345')]\n",
      "[('pName', 'Library of Congress Control Number (LCCN) (bibliographic)'), ('p', 'http://www.wikidata.org/prop/direct/P1144')]\n",
      "[('pName', 'Jewish Encyclopedia ID (Russian)'), ('p', 'http://www.wikidata.org/prop/direct/P1438')]\n",
      "[('pName', 'based on'), ('p', 'http://www.wikidata.org/prop/direct/P144')]\n",
      "[('pName', 'duration'), ('p', 'http://www.wikidata.org/prop/direct/P2047')]\n",
      "[('pName', 'Biblioteca Nacional de México ID'), ('p', 'http://www.wikidata.org/prop/direct/P4440')]\n",
      "[('pName', 'catalog code'), ('p', 'http://www.wikidata.org/prop/direct/P528')]\n",
      "[('pName', 'maintained by'), ('p', 'http://www.wikidata.org/prop/direct/P126')]\n",
      "[('pName', 'Great Encyclopedia of Navarre ID'), ('p', 'http://www.wikidata.org/prop/direct/P7388')]\n",
      "[('pName', 'Encyclopedia of Melbourne ID'), ('p', 'http://www.wikidata.org/prop/direct/P9304')]\n",
      "[('pName', 'National Historic Sites of Canada ID'), ('p', 'http://www.wikidata.org/prop/direct/P2526')]\n",
      "[('pName', 'Bengali Banglapedia ID'), ('p', 'http://www.wikidata.org/prop/direct/P4254')]\n"
     ]
    },
    {
     "data": {
      "text/plain": [
       "393"
      ]
     },
     "execution_count": 13,
     "metadata": {},
     "output_type": "execute_result"
    }
   ],
   "source": [
    "queryString = \"\"\"\n",
    "SELECT DISTINCT ?pName ?p\n",
    "WHERE { \n",
    "\n",
    "    ?treaty wdt:P31/wdt:P279* wd:Q131569 ;\n",
    "        ?p ?o .\n",
    "    OPTIONAL{ ?p sc:name ?pName .}  \n",
    "} \n",
    "\"\"\"\n",
    "\n",
    "print(\"Results\")\n",
    "run_query(queryString)"
   ]
  },
  {
   "cell_type": "markdown",
   "id": "f8907ea8-8bdd-4ceb-a1c1-67b77980a1a3",
   "metadata": {},
   "source": [
    "### Find treaties signatory wdt:P1891"
   ]
  },
  {
   "cell_type": "code",
   "execution_count": 14,
   "id": "93f053e8-a744-44f4-96e4-57e7b5c3f595",
   "metadata": {},
   "outputs": [
    {
     "name": "stdout",
     "output_type": "stream",
     "text": [
      "Results\n",
      "[('treatyName', 'Chanyuan Treaty'), ('signatories', 'Liao dynasty; Northern Song Dynasty')]\n",
      "[('treatyName', 'Treaty of Athis-sur-Orge'), ('signatories', 'County of Flanders')]\n",
      "[('treatyName', 'Treaty of Melno'), ('signatories', 'Grand Duchy of Lithuania; Kingdom of Poland; Teutonic Order')]\n",
      "[('treatyName', 'British-Brazilian Treaty of 1826'), ('signatories', 'Empire of Brazil; United Kingdom of Great Britain and Ireland')]\n",
      "[('treatyName', 'Nice Agreement Concerning the International Classification of Goods and Services for the Purposes of the Registration of Marks'), ('signatories', 'Austria; Belgium; Denmark; France; Germany; Hungary; Italy; Lebanon; Liechtenstein; Luxembourg; Monaco; Morocco; Netherlands; Norway; Portugal; Romania; Spain; Sweden; Switzerland; Tunisia; Turkey; United Kingdom')]\n",
      "[('treatyName', 'General Security Agreement between the United Kingdom of Great Britain and Northern Ireland and the Kingdom of Spain concerning the protection of classified information exchanged between the two countries'), ('signatories', 'Spain; United Kingdom')]\n",
      "[('treatyName', 'Treaty of Huế'), ('signatories', 'Jules Patenôtre des Noyers; Nguyen Van Tuong; Phạm Thận Duật')]\n",
      "[('treatyName', 'Anglo-Soviet Agreement'), ('signatories', 'Soviet Union; United Kingdom')]\n",
      "[('treatyName', 'Westminster Convention'), ('signatories', 'Great Britain; Kingdom of Prussia')]\n",
      "[('treatyName', 'Inter-American Convention on International Trade Arbitration'), ('signatories', 'Argentina; Bolivia; Brazil; Chile; Colombia; Costa Rica; Dominican Republic; Ecuador; El Salvador; Guatemala; Honduras; Mexico; Nicaragua; Panama; Paraguay; Peru; United States of America; Uruguay; Venezuela')]\n",
      "[('treatyName', 'Security Agreement between Romania and the Kingdom of Spain on the reciprocal protection of classified information'), ('signatories', 'Romania; Spain')]\n",
      "[('treatyName', 'Treaty of Labiau'), ('signatories', 'House of Hohenzollern; Swedish Empire')]\n",
      "[('treatyName', 'Treaty on the Final Settlement with Respect to Germany'), ('signatories', 'Douglas Hurd; Eduard Shevardnadze; Hans-Dietrich Genscher; James Baker; Lothar de Maizière; Roland Dumas')]\n",
      "[('treatyName', 'Agreement on the protection of classified information related to defence projects'), ('signatories', 'Belgium; Sweden')]\n",
      "[('treatyName', 'Convention of Kanagawa'), ('signatories', 'Anton L. C. Portman; Hayashi Akira; Ido Satohiro; Izawa Masayoshi; Matsuzaki Ryūrō; Matthew C. Perry; Moriyama Einosuke; Samuel Wells Williams; Udono Kyūō')]\n",
      "[('treatyName', 'Agreement between the Government of the Republic of Finland and the Government of the Grand-Duchy of Luxembourg concerning the mutual protection and exchange of classified information'), ('signatories', 'Finland; Luxembourg')]\n",
      "[('treatyName', 'Agreement between the Government of the Republic of Lithuania and the Government of the Republic of Bulgaria on mutual protection of classified information'), ('signatories', 'Bulgaria; Lithuania')]\n",
      "[('treatyName', 'Treaty of Kurakchay'), ('signatories', 'Karabakh Khanate; Russian Empire')]\n",
      "[('treatyName', 'Trans-Pacific Partnership'), ('signatories', 'Australia; Brunei; Canada; Chile; Japan; Malaysia; Mexico; New Zealand; Peru; Singapore; Vietnam')]\n",
      "[('treatyName', 'Franco-Italian Armistice'), ('signatories', 'French Third Republic; Kingdom of Italy')]\n",
      "[('treatyName', 'Treaty of 1818'), ('signatories', 'British Empire; United States of America')]\n",
      "[('treatyName', 'Truce of Jam Zapolski'), ('signatories', 'Polish–Lithuanian Commonwealth; Tsardom of Russia')]\n",
      "[('treatyName', 'Convention for the Protection of Producers of Phonograms Against Unauthorized Duplication of Their Phonograms'), ('signatories', 'Austria; Bosnia and Herzegovina; Brazil; Canada; Colombia; Denmark; Ecuador; Finland; France; Germany; Holy See; India; Iran; Israel; Italy; Japan; Kenya; Liechtenstein; Luxembourg; Mexico; Monaco; Nicaragua; Norway; Panama; Philippines; Serbia; Spain; Sweden; Switzerland; United Kingdom; United States of America; Uruguay')]\n",
      "[('treatyName', 'German Instrument of Surrender'), ('signatories', 'France; Nazi Germany; Soviet Union; United Kingdom; United States of America')]\n",
      "[('treatyName', 'Treaty of friendship and alliance between the Government of Mongolia and Tibet'), ('signatories', 'Agvan Dorzhiev; Ravdan')]\n"
     ]
    },
    {
     "data": {
      "text/plain": [
       "25"
      ]
     },
     "execution_count": 14,
     "metadata": {},
     "output_type": "execute_result"
    }
   ],
   "source": [
    "queryString = \"\"\"\n",
    "SELECT ?treatyName (GROUP_CONCAT(DISTINCT ?signatoryName; SEPARATOR=\"; \") AS ?signatories)\n",
    "WHERE { \n",
    "\n",
    "    ?treaty wdt:P31/wdt:P279* wd:Q131569 ;\n",
    "       wdt:P1891 ?signatory ;\n",
    "       sc:name ?treatyName .\n",
    "    ?signatory sc:name ?signatoryName\n",
    "    \n",
    "} GROUP BY ?treatyName\n",
    "LIMIT 25\n",
    "\"\"\"\n",
    "\n",
    "print(\"Results\")\n",
    "run_query(queryString)"
   ]
  },
  {
   "cell_type": "markdown",
   "id": "29d5429d-75fb-4f78-af9a-7e1c25074ae0",
   "metadata": {},
   "source": [
    "### Results part 2\n",
    "Found all people/country signed the treaties and grouped by treaty. Limit the returned treaties to 25."
   ]
  },
  {
   "cell_type": "markdown",
   "id": "b0d3f399-6fc4-43ac-abd2-89d9590de2b0",
   "metadata": {},
   "source": [
    "## Part 3\n",
    "### How many treaties have been published per year?"
   ]
  },
  {
   "cell_type": "markdown",
   "id": "0324e2e9-9120-4dbb-91d4-2eac209557f9",
   "metadata": {},
   "source": [
    "### Try to retrieve date of treaties\n",
    "[('pName', 'publication date'), ('p', 'http://www.wikidata.org/prop/direct/P577')]"
   ]
  },
  {
   "cell_type": "code",
   "execution_count": 15,
   "id": "4c268ba3-46ba-4edf-a664-89cc5a8a9b77",
   "metadata": {},
   "outputs": [
    {
     "name": "stdout",
     "output_type": "stream",
     "text": [
      "Results\n",
      "[('treatyName', 'Treaty on the Adoption of the Republic of Crimea to Russia'), ('date', '2014-03-18T00:00:00Z')]\n",
      "[('treatyName', 'Convention on the Political Rights of Women'), ('date', '1952-12-20T00:00:00Z')]\n",
      "[('treatyName', '1991 Sino-Soviet Border Agreement'), ('date', '1991-05-16T00:00:00Z')]\n",
      "[('treatyName', 'Sino-Soviet Treaty of Friendship, Alliance and Mutual Assistance'), ('date', '1950-02-14T00:00:00Z')]\n",
      "[('treatyName', 'Paris Peace Accords'), ('date', '1973-01-27T00:00:00Z')]\n",
      "[('treatyName', 'Lahore Declaration'), ('date', '1999-02-21T00:00:00Z')]\n",
      "[('treatyName', 'Secret Additional Protocol to the Molotov–Ribbentrop Pact'), ('date', '1939-08-23T00:00:00Z')]\n",
      "[('treatyName', 'Convention on the Elimination of All Forms of Discrimination against Women'), ('date', '1979-12-18T00:00:00Z')]\n",
      "[('treatyName', 'Agreement Concerning the Shipwrecked Vessel RMS Titanic'), ('date', '2003-01-01T00:00:00Z')]\n",
      "[('treatyName', 'International convention regading cholera'), ('date', '1894-04-26T00:00:00Z')]\n",
      "[('treatyName', 'North Pacific Fur Seal Convention of 1911'), ('date', '1911-01-01T00:00:00Z')]\n",
      "[('treatyName', 'Treaty of Verdun'), ('date', '0843-08-01T00:00:00Z')]\n",
      "[('treatyName', 'Treaty of Nanjing'), ('date', '1842-08-29T00:00:00Z')]\n",
      "[('treatyName', 'Declaration recognising the Right to a Flag of States having no Sea-coast'), ('date', '1921-01-01T00:00:00Z')]\n",
      "[('treatyName', 'Joint Declaration on the Question of Macau'), ('date', '1987-04-13T00:00:00Z')]\n",
      "[('treatyName', 'Treaty of London (1871)'), ('date', '1871-06-02T00:00:00Z')]\n",
      "[('treatyName', 'Rome Statute of the International Criminal Court'), ('date', '1998-07-17T00:00:00Z')]\n",
      "[('treatyName', 'First Geneva Convention'), ('date', '1949-08-12T00:00:00Z')]\n",
      "[('treatyName', 'international yard and pound agreement'), ('date', '1959-07-01T00:00:00Z')]\n",
      "[('treatyName', 'Anzus'), ('date', '1951-09-01T00:00:00Z')]\n",
      "[('treatyName', 'Paris Agreement'), ('date', '2015-12-12T00:00:00Z')]\n",
      "[('treatyName', 'Convention to suppress the slave trade and slavery (1926)'), ('date', '1926-09-25T00:00:00Z')]\n",
      "[('treatyName', 'International Covenant on Civil and Political Rights'), ('date', '1966-12-16T00:00:00Z')]\n",
      "[('treatyName', 'Arms Trade Treaty'), ('date', '2013-03-28T00:00:00Z')]\n",
      "[('treatyName', '1946 Lake Success Protocol'), ('date', '1946-12-11T00:00:00Z')]\n"
     ]
    },
    {
     "data": {
      "text/plain": [
       "25"
      ]
     },
     "execution_count": 15,
     "metadata": {},
     "output_type": "execute_result"
    }
   ],
   "source": [
    "queryString = \"\"\"\n",
    "SELECT ?treatyName ?date\n",
    "WHERE { \n",
    "\n",
    "    ?treaty wdt:P31/wdt:P279* wd:Q131569 ;\n",
    "       wdt:P577 ?date ;\n",
    "       sc:name ?treatyName .\n",
    "\n",
    "    \n",
    "} GROUP BY ?treatyName\n",
    "LIMIT 25\n",
    "\"\"\"\n",
    "\n",
    "print(\"Results\")\n",
    "run_query(queryString)\n"
   ]
  },
  {
   "cell_type": "markdown",
   "id": "ddb42854-37a1-44e0-a7ff-adc606b682c5",
   "metadata": {},
   "source": [
    "### Check if date is stored as literal"
   ]
  },
  {
   "cell_type": "code",
   "execution_count": 16,
   "id": "ff5b10ef-25f9-47ef-a296-627e271379e9",
   "metadata": {},
   "outputs": [
    {
     "name": "stdout",
     "output_type": "stream",
     "text": [
      "Results\n"
     ]
    },
    {
     "data": {
      "text/plain": [
       "{'head': {'link': []}, 'boolean': True}"
      ]
     },
     "execution_count": 16,
     "metadata": {},
     "output_type": "execute_result"
    }
   ],
   "source": [
    "queryString = \"\"\"\n",
    "ASK WHERE { \n",
    "\n",
    "    FILTER isLiteral(?date)\n",
    "    \n",
    "    {\n",
    "        SELECT ?date WHERE{\n",
    "        ?treaty wdt:P31/wdt:P279* wd:Q131569 ;\n",
    "           wdt:P577 ?date ;\n",
    "           sc:name ?treatyName .\n",
    "        }\n",
    "    }\n",
    "    \n",
    "} \n",
    "\"\"\"\n",
    "\n",
    "print(\"Results\")\n",
    "run_ask_query(queryString)\n"
   ]
  },
  {
   "cell_type": "markdown",
   "id": "3e3b366e-ebd4-436e-9831-3ba835418a22",
   "metadata": {},
   "source": [
    "### Group treaties by year"
   ]
  },
  {
   "cell_type": "code",
   "execution_count": 17,
   "id": "2054bf2d-8035-43d8-93bb-077dbb693b59",
   "metadata": {},
   "outputs": [
    {
     "name": "stdout",
     "output_type": "stream",
     "text": [
      "Results\n",
      "[('year', '1929'), ('treatyNumb', '20')]\n",
      "[('year', '1926'), ('treatyNumb', '18')]\n",
      "[('year', '1924'), ('treatyNumb', '18')]\n",
      "[('year', '1931'), ('treatyNumb', '17')]\n",
      "[('year', '2000'), ('treatyNumb', '16')]\n",
      "[('year', '1932'), ('treatyNumb', '16')]\n",
      "[('year', '1936'), ('treatyNumb', '13')]\n",
      "[('year', '1927'), ('treatyNumb', '11')]\n",
      "[('year', '1928'), ('treatyNumb', '9')]\n",
      "[('year', '1922'), ('treatyNumb', '9')]\n",
      "[('year', '1938'), ('treatyNumb', '8')]\n",
      "[('year', '1933'), ('treatyNumb', '8')]\n",
      "[('year', '1999'), ('treatyNumb', '7')]\n",
      "[('year', '1998'), ('treatyNumb', '7')]\n",
      "[('year', '1935'), ('treatyNumb', '7')]\n"
     ]
    },
    {
     "data": {
      "text/plain": [
       "15"
      ]
     },
     "execution_count": 17,
     "metadata": {},
     "output_type": "execute_result"
    }
   ],
   "source": [
    "queryString = \"\"\"\n",
    "\n",
    "SELECT ?year (COUNT(DISTINCT ?treaty) AS ?treatyNumb)\n",
    "WHERE { \n",
    "    ?treaty wdt:P31/wdt:P279* wd:Q131569 ;\n",
    "       wdt:P577 ?date .\n",
    "    BIND (year(xsd:dateTime(?date)) as ?year)\n",
    "    \n",
    "} GROUP BY ?year\n",
    "ORDER BY DESC(?treatyNumb) DESC(?year)\n",
    "LIMIT 15\n",
    "\"\"\"\n",
    "\n",
    "print(\"Results\")\n",
    "run_query(queryString)"
   ]
  },
  {
   "cell_type": "markdown",
   "id": "3a2e4295-5e75-42f1-9fe5-d4ec4760a100",
   "metadata": {},
   "source": [
    "### Results part 3\n",
    "Treaties grouped by year and counted.\n",
    "We can see that (in our database) the largest number of treaties were made during the 20th century."
   ]
  },
  {
   "cell_type": "markdown",
   "id": "6ebd420e-c9fb-4915-a3d8-474330adc0eb",
   "metadata": {},
   "source": [
    "## Part 4\n",
    "For how many treaties we know causes or effects?"
   ]
  },
  {
   "cell_type": "markdown",
   "id": "58baa4e7-8a00-4417-8608-10c85287dfaa",
   "metadata": {},
   "source": [
    "### Search effects or causes predicates"
   ]
  },
  {
   "cell_type": "code",
   "execution_count": 18,
   "id": "542145ea-63f5-4931-9383-8c49fe61fc53",
   "metadata": {},
   "outputs": [
    {
     "name": "stdout",
     "output_type": "stream",
     "text": [
      "Results\n",
      "[('pName', 'has effect'), ('p', 'http://www.wikidata.org/prop/direct/P1542')]\n",
      "[('pName', 'has cause'), ('p', 'http://www.wikidata.org/prop/direct/P828')]\n",
      "[('pName', 'effective date'), ('p', 'http://www.wikidata.org/prop/direct/P7588')]\n",
      "[('pName', 'has immediate cause'), ('p', 'http://www.wikidata.org/prop/direct/P1478')]\n"
     ]
    },
    {
     "data": {
      "text/plain": [
       "4"
      ]
     },
     "execution_count": 18,
     "metadata": {},
     "output_type": "execute_result"
    }
   ],
   "source": [
    "queryString = \"\"\"\n",
    "\n",
    "SELECT DISTINCT ?pName ?p\n",
    "WHERE { \n",
    "    ?treaty wdt:P31/wdt:P279* wd:Q131569 ;\n",
    "       ?p ?o .\n",
    "    ?p sc:name ?pName .\n",
    "    filter (regex(?pName, \".*[Cc]ause.*\")||regex(?pName, \".*[Ee]ffect.*\"))\n",
    "}\n",
    "\"\"\"\n",
    "\n",
    "print(\"Results\")\n",
    "run_query(queryString)"
   ]
  },
  {
   "cell_type": "markdown",
   "id": "dd225111-d043-483a-9af0-309a19c0bb7b",
   "metadata": {},
   "source": [
    "### Count how many treaties we know the couses or effects"
   ]
  },
  {
   "cell_type": "code",
   "execution_count": 19,
   "id": "74c702df-57a1-4d91-9475-317c58dfd5ad",
   "metadata": {},
   "outputs": [
    {
     "name": "stdout",
     "output_type": "stream",
     "text": [
      "Results\n",
      "[('callret-0', '53')]\n"
     ]
    },
    {
     "data": {
      "text/plain": [
       "1"
      ]
     },
     "execution_count": 19,
     "metadata": {},
     "output_type": "execute_result"
    }
   ],
   "source": [
    "queryString = \"\"\"\n",
    "\n",
    "SELECT COUNT(DISTINCT ?treaty)\n",
    "WHERE { \n",
    "\n",
    "    ?treaty wdt:P31/wdt:P279* wd:Q131569 ;\n",
    "            (wdt:P1542|wdt:P828) ?event .\n",
    "}\n",
    "\"\"\"\n",
    "\n",
    "print(\"Results\")\n",
    "run_query(queryString)"
   ]
  },
  {
   "cell_type": "markdown",
   "id": "e483a3f2-55c7-40f9-a51e-c5137572dd78",
   "metadata": {},
   "source": [
    "### Not required: see couses or effects (collected together)"
   ]
  },
  {
   "cell_type": "code",
   "execution_count": 20,
   "id": "59f4bcec-0c53-41dd-a58d-8d1ea222e16e",
   "metadata": {},
   "outputs": [
    {
     "name": "stdout",
     "output_type": "stream",
     "text": [
      "Results\n",
      "[('treatyName', 'Congress of Vienna'), ('eventsName', 'Border Kingdom of Saxony-Kingdom of Prussia 1815; borderstones Belgium-Prussia')]\n",
      "[('treatyName', 'Chapter VII of the United Nations Charter'), ('eventsName', 'peace enforcement')]\n",
      "[('treatyName', 'Treaty of Trianon'), ('eventsName', 'Paris Peace Conference')]\n",
      "[('treatyName', 'Munich agreement'), ('eventsName', 'Realpolitik; Sudeten Crisis')]\n",
      "[('treatyName', 'Treaty of Saint-Germain-en-Laye'), ('eventsName', 'Paris Peace Conference')]\n",
      "[('treatyName', 'Treaty of Sèvres'), ('eventsName', 'Paris Peace Conference')]\n",
      "[('treatyName', 'Molotov–Ribbentrop Pact'), ('eventsName', 'Soviet invasion of Poland; Winter War')]\n",
      "[('treatyName', 'Brioni Agreement'), ('eventsName', 'Ten-Day War')]\n",
      "[('treatyName', 'Boundary Treaty of 1866 between Chile and Bolivia'), ('eventsName', 'Lindsay-Corral agreement')]\n",
      "[('treatyName', 'Treaty of Hubertusburg'), ('eventsName', 'Seven Years War')]\n",
      "[('treatyName', 'Anglo-Russian Entente'), ('eventsName', 'British-Russian Convention')]\n",
      "[('treatyName', 'Hague Conventions of 1899 and 1907'), ('eventsName', 'Hague Convention')]\n",
      "[('treatyName', 'Treaty of Paris'), ('eventsName', 'American Revolutionary War; Borders of the United States; Congress of Paris; Crimean War; Seven Years War; Spanish–American War; War of the Second Coalition')]\n",
      "[('treatyName', 'Warsaw Treaty'), ('eventsName', 'Warsaw Pact')]\n",
      "[('treatyName', 'Tripartite Accord'), ('eventsName', 'South African Border War')]\n",
      "[('treatyName', 'British-Russian Convention'), ('eventsName', 'Anglo-Russian Entente')]\n",
      "[('treatyName', 'Convention on the International Maritime Organization'), ('eventsName', 'International Maritime Organization')]\n",
      "[('treatyName', 'Act of Algeciras'), ('eventsName', 'Algeciras Conference')]\n",
      "[('treatyName', 'Peace of Paris (1783)'), ('eventsName', 'American Revolutionary War')]\n",
      "[('treatyName', 'Egypt–Israel Peace Treaty'), ('eventsName', 'Camp David Accords')]\n",
      "[('treatyName', 'Instrument of Surrender'), ('eventsName', 'Indo-Pakistani War of 1971')]\n",
      "[('treatyName', 'Treaty of Versailles'), ('eventsName', 'Paris Peace Conference; World War II')]\n",
      "[('treatyName', 'Treaty of Barcelona'), ('eventsName', 'Battle of Landriano')]\n",
      "[('treatyName', 'Treaty of Verdun'), ('eventsName', 'end')]\n",
      "[('treatyName', 'Covenant for the formation of Rajasthan'), ('eventsName', 'United State of Rajasthan')]\n",
      "[('treatyName', 'Treaty of Jassy'), ('eventsName', 'Russo-Turkish War (1787–1792)')]\n",
      "[('treatyName', 'London Declaration'), ('eventsName', 'Constitution of India; Head of the Commonwealth; Republics in the Commonwealth of Nations')]\n",
      "[('treatyName', 'Treaty of Baden'), ('eventsName', 'War of the Spanish Succession')]\n",
      "[('treatyName', 'Arusha Accords'), ('eventsName', 'Rwandan Civil War')]\n",
      "[('treatyName', 'Partitio terrarum imperii Romaniae'), ('eventsName', 'Fourth Crusade')]\n",
      "[('treatyName', 'Cusco Declaration'), ('eventsName', '2004 South American Summit')]\n",
      "[('treatyName', 'Treaty of Fontainebleau'), ('eventsName', 'French and Indian War')]\n",
      "[('treatyName', 'BRICS Contingent Reserve Arrangement'), ('eventsName', '6th BRICS summit')]\n",
      "[('treatyName', 'The ITER Agreement'), ('eventsName', 'The ITER Organization')]\n",
      "[('treatyName', 'Pact of Genoa'), ('eventsName', 'War of the Spanish Succession')]\n",
      "[('treatyName', 'Japan–Korea Treaty of 1907'), ('eventsName', 'dissolution of the military of the Korean Empire')]\n",
      "[('treatyName', 'Charter of the United Nations'), ('eventsName', 'United Nations Conference on International Organization')]\n",
      "[('treatyName', 'Paris Agreement'), ('eventsName', 'United States withdrawal from the Paris Agreement; climate change')]\n",
      "[('treatyName', 'Traité de Saint-Julien'), ('eventsName', \"L'Escalade\")]\n",
      "[('treatyName', 'Évian Accords'), ('eventsName', 'Algerian self-determination referendum; French Évian Accords referendum; cease-fire of March 19, 1962')]\n",
      "[('treatyName', 'Vertrag von Nymphenburg'), ('eventsName', 'War of the Austrian Succession')]\n",
      "[('treatyName', 'Treaty of Neuilly-sur-Seine'), ('eventsName', 'Paris Peace Conference')]\n",
      "[('treatyName', 'Rome Statute of the International Criminal Court'), ('eventsName', 'International Criminal Court')]\n"
     ]
    },
    {
     "data": {
      "text/plain": [
       "43"
      ]
     },
     "execution_count": 20,
     "metadata": {},
     "output_type": "execute_result"
    }
   ],
   "source": [
    "queryString = \"\"\"\n",
    "\n",
    "SELECT ?treatyName (GROUP_CONCAT(DISTINCT ?eventName; SEPARATOR=\"; \") AS ?eventsName)\n",
    "WHERE { \n",
    "\n",
    "    ?treaty wdt:P31/wdt:P279* wd:Q131569 ;\n",
    "            (wdt:P1542|wdt:P828) ?event ;\n",
    "            sc:name ?treatyName.\n",
    "    ?event sc:name ?eventName .\n",
    "} GROUP BY ?treatyName\n",
    "\"\"\"\n",
    "\n",
    "print(\"Results\")\n",
    "run_query(queryString)"
   ]
  },
  {
   "cell_type": "markdown",
   "id": "b61b3967-695b-478b-a20a-c77e6c3e708f",
   "metadata": {},
   "source": [
    "### Results part 4\n",
    "In our database there are only 53 treaties with known causes or effects. When I decided to retreive also the eventsName we noticed that the event is known but not its name. In particular I retrieved only 43 treaties probably because in the database some treaties names are missing."
   ]
  },
  {
   "cell_type": "markdown",
   "id": "b6573777-3af1-404f-81c5-bae311fde537",
   "metadata": {},
   "source": [
    "## Part 5\n",
    "\n",
    "Analyze the number of countries and how many treaties they have signed and their causes"
   ]
  },
  {
   "cell_type": "markdown",
   "id": "4e54995d-ceba-4ffe-bb38-6034923b9f8c",
   "metadata": {},
   "source": [
    "### Part 5.1\n",
    "Are there two countries that signed many common treaties?"
   ]
  },
  {
   "cell_type": "code",
   "execution_count": 21,
   "id": "fbb14b7d-6beb-4166-85ca-9f1e5b87b05f",
   "metadata": {
    "tags": []
   },
   "outputs": [
    {
     "name": "stdout",
     "output_type": "stream",
     "text": [
      "Results\n",
      "[('sign1Name', 'Canada'), ('sign2Name', 'Australia'), ('numbCommonTreaties', '3')]\n",
      "[('sign1Name', 'United Kingdom'), ('sign2Name', 'United States of America'), ('numbCommonTreaties', '3')]\n",
      "[('sign1Name', 'Australia'), ('sign2Name', 'Canada'), ('numbCommonTreaties', '3')]\n",
      "[('sign1Name', 'United States of America'), ('sign2Name', 'United Kingdom'), ('numbCommonTreaties', '3')]\n",
      "[('sign1Name', 'Australia'), ('sign2Name', 'Russia'), ('numbCommonTreaties', '2')]\n",
      "[('sign1Name', 'Panama'), ('sign2Name', 'Nicaragua'), ('numbCommonTreaties', '2')]\n",
      "[('sign1Name', 'Ireland'), ('sign2Name', 'Philippines'), ('numbCommonTreaties', '2')]\n",
      "[('sign1Name', 'Fiji'), ('sign2Name', 'Brazil'), ('numbCommonTreaties', '2')]\n",
      "[('sign1Name', 'Trinidad and Tobago'), ('sign2Name', 'Nigeria'), ('numbCommonTreaties', '2')]\n",
      "[('sign1Name', 'Fiji'), ('sign2Name', 'Kazakhstan'), ('numbCommonTreaties', '2')]\n",
      "[('sign1Name', 'Liechtenstein'), ('sign2Name', 'Zambia'), ('numbCommonTreaties', '2')]\n",
      "[('sign1Name', 'France'), ('sign2Name', 'Venezuela'), ('numbCommonTreaties', '2')]\n",
      "[('sign1Name', 'Uruguay'), ('sign2Name', 'Niger'), ('numbCommonTreaties', '2')]\n",
      "[('sign1Name', 'Paraguay'), ('sign2Name', 'Trinidad and Tobago'), ('numbCommonTreaties', '2')]\n",
      "[('sign1Name', 'Niger'), ('sign2Name', 'Trinidad and Tobago'), ('numbCommonTreaties', '2')]\n",
      "[('sign1Name', 'Algeria'), ('sign2Name', 'Ghana'), ('numbCommonTreaties', '2')]\n",
      "[('sign1Name', 'Liechtenstein'), ('sign2Name', 'Fiji'), ('numbCommonTreaties', '2')]\n",
      "[('sign1Name', 'Tunisia'), ('sign2Name', 'Germany'), ('numbCommonTreaties', '2')]\n",
      "[('sign1Name', 'Algeria'), ('sign2Name', 'Nicaragua'), ('numbCommonTreaties', '2')]\n",
      "[('sign1Name', 'Holy See'), ('sign2Name', 'Nigeria'), ('numbCommonTreaties', '2')]\n",
      "[('sign1Name', 'Panama'), ('sign2Name', 'Mexico'), ('numbCommonTreaties', '2')]\n",
      "[('sign1Name', 'El Salvador'), ('sign2Name', 'Liechtenstein'), ('numbCommonTreaties', '2')]\n",
      "[('sign1Name', 'Venezuela'), ('sign2Name', 'Nicaragua'), ('numbCommonTreaties', '2')]\n",
      "[('sign1Name', 'Dominican Republic'), ('sign2Name', 'Venezuela'), ('numbCommonTreaties', '2')]\n",
      "[('sign1Name', 'Mexico'), ('sign2Name', 'New Zealand'), ('numbCommonTreaties', '2')]\n"
     ]
    },
    {
     "data": {
      "text/plain": [
       "25"
      ]
     },
     "execution_count": 21,
     "metadata": {},
     "output_type": "execute_result"
    }
   ],
   "source": [
    "queryString = \"\"\"\n",
    "\n",
    "SELECT DISTINCT ?sign1Name ?sign2Name (COUNT(DISTINCT ?treaty) AS ?numbCommonTreaties)\n",
    "WHERE { \n",
    "\n",
    "    ?treaty wdt:P31/wdt:P279* wd:Q131569 ;\n",
    "       wdt:P577 ?date ;\n",
    "       sc:name ?treatyName ;\n",
    "       wdt:P1891 ?signatory1 .\n",
    "    ?signatory1 sc:name ?sign1Name .\n",
    "    \n",
    "    ?treaty wdt:P31/wdt:P279* wd:Q131569 ;\n",
    "       wdt:P577 ?date ;\n",
    "       sc:name ?treatyName ;\n",
    "       wdt:P1891 ?signatory2 .\n",
    "     ?signatory2 sc:name ?sign2Name .\n",
    "    \n",
    "    FILTER (?signatory1 != ?signatory2)\n",
    "    \n",
    "} GROUP BY ?sign1Name ?sign2Name\n",
    "ORDER BY DESC(?numbCommonTreaties)\n",
    "LIMIT 25\n",
    "\"\"\"\n",
    "\n",
    "print(\"Results\")\n",
    "run_query(queryString)"
   ]
  },
  {
   "cell_type": "markdown",
   "id": "5a828908-5243-43f8-a55d-41a04fc929ec",
   "metadata": {},
   "source": [
    "### Try to remove duplicate pair"
   ]
  },
  {
   "cell_type": "code",
   "execution_count": 22,
   "id": "aa7d3294-aec5-47ea-82c2-83d0501bb53d",
   "metadata": {},
   "outputs": [
    {
     "name": "stdout",
     "output_type": "stream",
     "text": [
      "Results\n",
      "[('sign1Name', 'United Kingdom'), ('sign2Name', 'United States of America'), ('numbCommonTreaties', '3')]\n",
      "[('sign1Name', 'Canada'), ('sign2Name', 'Australia'), ('numbCommonTreaties', '3')]\n",
      "[('sign1Name', 'Kazakhstan'), ('sign2Name', 'Ireland'), ('numbCommonTreaties', '2')]\n",
      "[('sign1Name', 'Austria'), ('sign2Name', 'Ecuador'), ('numbCommonTreaties', '2')]\n",
      "[('sign1Name', 'Holy See'), ('sign2Name', 'El Salvador'), ('numbCommonTreaties', '2')]\n",
      "[('sign1Name', 'Venezuela'), ('sign2Name', 'Bangladesh'), ('numbCommonTreaties', '2')]\n",
      "[('sign1Name', 'Venezuela'), ('sign2Name', 'Philippines'), ('numbCommonTreaties', '2')]\n",
      "[('sign1Name', 'France'), ('sign2Name', 'Bolivia'), ('numbCommonTreaties', '2')]\n",
      "[('sign1Name', 'Bolivia'), ('sign2Name', 'Saint Vincent and the Grenadines'), ('numbCommonTreaties', '2')]\n",
      "[('sign1Name', 'Malta'), ('sign2Name', 'Panama'), ('numbCommonTreaties', '2')]\n",
      "[('sign1Name', 'France'), ('sign2Name', 'Ireland'), ('numbCommonTreaties', '2')]\n",
      "[('sign1Name', 'Liechtenstein'), ('sign2Name', 'Mexico'), ('numbCommonTreaties', '2')]\n",
      "[('sign1Name', 'Niger'), ('sign2Name', 'Zambia'), ('numbCommonTreaties', '2')]\n",
      "[('sign1Name', 'Costa Rica'), ('sign2Name', 'Panama'), ('numbCommonTreaties', '2')]\n",
      "[('sign1Name', 'Canada'), ('sign2Name', 'India'), ('numbCommonTreaties', '2')]\n",
      "[('sign1Name', 'Cambodia'), ('sign2Name', 'Dominican Republic'), ('numbCommonTreaties', '2')]\n",
      "[('sign1Name', 'Holy See'), ('sign2Name', 'Trinidad and Tobago'), ('numbCommonTreaties', '2')]\n",
      "[('sign1Name', 'France'), ('sign2Name', 'Paraguay'), ('numbCommonTreaties', '2')]\n",
      "[('sign1Name', 'Malawi'), ('sign2Name', 'Nicaragua'), ('numbCommonTreaties', '2')]\n",
      "[('sign1Name', 'Peru'), ('sign2Name', 'Bangladesh'), ('numbCommonTreaties', '2')]\n",
      "[('sign1Name', 'Ghana'), ('sign2Name', 'Mexico'), ('numbCommonTreaties', '2')]\n",
      "[('sign1Name', 'Niger'), ('sign2Name', 'Laos'), ('numbCommonTreaties', '2')]\n",
      "[('sign1Name', 'India'), ('sign2Name', 'Tunisia'), ('numbCommonTreaties', '2')]\n",
      "[('sign1Name', 'Venezuela'), ('sign2Name', 'El Salvador'), ('numbCommonTreaties', '2')]\n",
      "[('sign1Name', 'Belize'), ('sign2Name', 'Fiji'), ('numbCommonTreaties', '2')]\n"
     ]
    },
    {
     "data": {
      "text/plain": [
       "25"
      ]
     },
     "execution_count": 22,
     "metadata": {},
     "output_type": "execute_result"
    }
   ],
   "source": [
    "queryString = \"\"\"\n",
    "\n",
    "SELECT DISTINCT ?sign1Name ?sign2Name (COUNT(DISTINCT ?treaty) AS ?numbCommonTreaties)\n",
    "WHERE { \n",
    "\n",
    "    ?treaty wdt:P31/wdt:P279* wd:Q131569 ;\n",
    "       wdt:P577 ?date ;\n",
    "       sc:name ?treatyName ;\n",
    "       wdt:P1891 ?signatory1 .\n",
    "    ?signatory1 sc:name ?sign1Name .\n",
    "    \n",
    "    ?treaty wdt:P31/wdt:P279* wd:Q131569 ;\n",
    "       wdt:P577 ?date ;\n",
    "       sc:name ?treatyName ;\n",
    "       wdt:P1891 ?signatory2 .\n",
    "     ?signatory2 sc:name ?sign2Name .\n",
    "    \n",
    "    FILTER (str(?signatory1) < str(?signatory2))\n",
    "    \n",
    "} GROUP BY ?sign1Name ?sign2Name\n",
    "ORDER BY DESC(?numbCommonTreaties)\n",
    "LIMIT 25\n",
    "\"\"\"\n",
    "\n",
    "print(\"Results\")\n",
    "run_query(queryString)"
   ]
  },
  {
   "cell_type": "markdown",
   "id": "f71f1846-fd69-463c-b2e6-02e95587aa00",
   "metadata": {},
   "source": [
    "### Result part 5.1\n",
    "Finally I have found (unique) pair of country taht signed common treaties. "
   ]
  },
  {
   "cell_type": "markdown",
   "id": "b80918dc-b19a-4cda-93fc-493afa086b4e",
   "metadata": {},
   "source": [
    "### Part 5.2"
   ]
  },
  {
   "cell_type": "markdown",
   "id": "98bd06dd-5881-4e5f-8187-4bcfaf7a1798",
   "metadata": {},
   "source": [
    "#### Which are the treaties with most signatories?"
   ]
  },
  {
   "cell_type": "code",
   "execution_count": 23,
   "id": "c2ac13e8-7141-444e-9ea0-2d70ef69c3e0",
   "metadata": {},
   "outputs": [
    {
     "name": "stdout",
     "output_type": "stream",
     "text": [
      "Results\n",
      "[('treatyName', 'Universal Copyright Convention'), ('signatoryNumb', '97')]\n",
      "[('treatyName', 'Treaty on the Prohibition of Nuclear Weapons'), ('signatoryNumb', '86')]\n",
      "[('treatyName', 'North Atlantic Treaty'), ('signatoryNumb', '23')]\n",
      "[('treatyName', 'Paris Agreement'), ('signatoryNumb', '14')]\n",
      "[('treatyName', 'International convention regading cholera'), ('signatoryNumb', '11')]\n",
      "[('treatyName', 'Grenelle agreements'), ('signatoryNumb', '8')]\n",
      "[('treatyName', 'Anzus'), ('signatoryNumb', '6')]\n",
      "[('treatyName', 'international yard and pound agreement'), ('signatoryNumb', '6')]\n",
      "[('treatyName', 'Treaty of Brest-Litovsk'), ('signatoryNumb', '5')]\n",
      "[('treatyName', 'Munich agreement'), ('signatoryNumb', '4')]\n",
      "[('treatyName', 'North Pacific Fur Seal Convention of 1911'), ('signatoryNumb', '4')]\n",
      "[('treatyName', 'EU–UK Trade and Cooperation Agreement'), ('signatoryNumb', '3')]\n",
      "[('treatyName', 'Treaty of Vienna'), ('signatoryNumb', '3')]\n",
      "[('treatyName', 'Korean Armistice Agreement'), ('signatoryNumb', '3')]\n",
      "[('treatyName', 'Treaty of Verdun'), ('signatoryNumb', '3')]\n"
     ]
    },
    {
     "data": {
      "text/plain": [
       "15"
      ]
     },
     "execution_count": 23,
     "metadata": {},
     "output_type": "execute_result"
    }
   ],
   "source": [
    "queryString = \"\"\"\n",
    "\n",
    "SELECT ?treatyName (COUNT(DISTINCT ?signatory) AS ?signatoryNumb)\n",
    "WHERE { \n",
    "\n",
    "    ?treaty wdt:P31/wdt:P279* wd:Q131569 ;\n",
    "       wdt:P577 ?date ;\n",
    "       sc:name ?treatyName ;\n",
    "       wdt:P1891 ?signatory .\n",
    "    \n",
    "} GROUP BY ?treatyName\n",
    "ORDER BY DESC(?signatoryNumb) \n",
    "LIMIT 15\n",
    "\"\"\"\n",
    "\n",
    "print(\"Results\")\n",
    "run_query(queryString)"
   ]
  },
  {
   "cell_type": "markdown",
   "id": "95fe00e5-e729-4a1f-9601-e22fbfe027c5",
   "metadata": {},
   "source": [
    "#### Which country signed the most treaties?"
   ]
  },
  {
   "cell_type": "code",
   "execution_count": 24,
   "id": "ba8ef4c6-c25d-4fd3-8f92-c7906e7c24c7",
   "metadata": {},
   "outputs": [
    {
     "name": "stdout",
     "output_type": "stream",
     "text": [
      "Results\n",
      "Empty\n"
     ]
    },
    {
     "data": {
      "text/plain": [
       "0"
      ]
     },
     "execution_count": 24,
     "metadata": {},
     "output_type": "execute_result"
    }
   ],
   "source": [
    "queryString = \"\"\"\n",
    "\n",
    "SELECT ?signatoryName (COUNT(DISTINCT ?treaty) AS ?treatyNumb)\n",
    "WHERE { \n",
    "\n",
    "    ?treaty wdt:P31/wdt:P279* wd:Q131569 ;\n",
    "       wdt:P577 ?date ;\n",
    "       sc:name ?treatyName ;\n",
    "       wdt:P1891 ?signatory .\n",
    "    \n",
    "    ?signatory sc:name ?signatoryName ;\n",
    "               wdt:P31 wdt:P17 .\n",
    "    \n",
    "} GROUP BY ?signatoryName\n",
    "ORDER BY DESC(?treatyNumb) \n",
    "LIMIT 15\n",
    "\"\"\"\n",
    "\n",
    "print(\"Results\")\n",
    "run_query(queryString)"
   ]
  },
  {
   "cell_type": "markdown",
   "id": "c555d588-4477-446f-9edc-9c17e2f7ffe9",
   "metadata": {},
   "source": [
    "### Adjust the previous query (signatory triples)"
   ]
  },
  {
   "cell_type": "code",
   "execution_count": 25,
   "id": "f9b542ed-58c1-4910-917a-ce9194aa76cb",
   "metadata": {},
   "outputs": [
    {
     "name": "stdout",
     "output_type": "stream",
     "text": [
      "Results\n",
      "[('signatoryName', 'United Kingdom'), ('treatyNumb', '5')]\n",
      "[('signatoryName', 'United States of America'), ('treatyNumb', '5')]\n",
      "[('signatoryName', 'France'), ('treatyNumb', '4')]\n",
      "[('signatoryName', 'India'), ('treatyNumb', '3')]\n",
      "[('signatoryName', 'Canada'), ('treatyNumb', '3')]\n",
      "[('signatoryName', 'Australia'), ('treatyNumb', '3')]\n",
      "[('signatoryName', 'Russia'), ('treatyNumb', '3')]\n",
      "[('signatoryName', 'Soviet Union'), ('treatyNumb', '3')]\n",
      "[('signatoryName', 'New Zealand'), ('treatyNumb', '3')]\n",
      "[('signatoryName', 'South Africa'), ('treatyNumb', '2')]\n",
      "[('signatoryName', 'Czech Republic'), ('treatyNumb', '2')]\n",
      "[('signatoryName', 'Panama'), ('treatyNumb', '2')]\n",
      "[('signatoryName', 'Philippines'), ('treatyNumb', '2')]\n",
      "[('signatoryName', 'Brazil'), ('treatyNumb', '2')]\n",
      "[('signatoryName', 'South Korea'), ('treatyNumb', '2')]\n"
     ]
    },
    {
     "data": {
      "text/plain": [
       "15"
      ]
     },
     "execution_count": 25,
     "metadata": {},
     "output_type": "execute_result"
    }
   ],
   "source": [
    "queryString = \"\"\"\n",
    "\n",
    "SELECT ?signatoryName (COUNT(DISTINCT ?treaty) AS ?treatyNumb)\n",
    "WHERE { \n",
    "\n",
    "    ?treaty wdt:P31/wdt:P279* wd:Q131569 ;\n",
    "       wdt:P577 ?date ;\n",
    "       sc:name ?treatyName ;\n",
    "       wdt:P1891 ?signatory .\n",
    "    \n",
    "    ?signatory sc:name ?signatoryName ;\n",
    "        wdt:P17 ?signatory .\n",
    "    \n",
    "} GROUP BY ?signatoryName \n",
    "ORDER BY DESC(?treatyNumb) \n",
    "LIMIT 15\n",
    "\"\"\"\n",
    "\n",
    "print(\"Results\")\n",
    "run_query(queryString)"
   ]
  },
  {
   "cell_type": "markdown",
   "id": "717f493d-07d3-4401-8e5c-06dfcb276a4e",
   "metadata": {},
   "source": [
    "### Result part 5.2\n",
    "We can see from the above results that the UK and US are the country with the most number of signed treaties"
   ]
  },
  {
   "cell_type": "markdown",
   "id": "032b85aa-cf53-424d-9719-b96d2d3d6d59",
   "metadata": {},
   "source": [
    "### Part 5.3\n",
    "#### Are there countries that did not sign a treaty with the U.S. but signed a treaty with Germany?"
   ]
  },
  {
   "cell_type": "markdown",
   "id": "2bfc7bc8-c1f0-4e31-afef-6d2d11e9a58d",
   "metadata": {},
   "source": [
    "### Search country URI"
   ]
  },
  {
   "cell_type": "code",
   "execution_count": 26,
   "id": "2e67cbc1-306f-419f-8c13-3a4054bf4d2c",
   "metadata": {},
   "outputs": [
    {
     "name": "stdout",
     "output_type": "stream",
     "text": [
      "Results\n",
      "[('country', 'http://www.wikidata.org/entity/Q183'), ('countryName', 'Germany')]\n",
      "[('country', 'http://www.wikidata.org/entity/Q30'), ('countryName', 'United States of America')]\n",
      "[('country', 'http://www.wikidata.org/entity/Q81931'), ('countryName', 'Confederate States of America')]\n",
      "[('country', 'http://www.wikidata.org/entity/Q19971019'), ('countryName', 'United States of America')]\n",
      "[('country', 'http://www.wikidata.org/entity/Q99281400'), ('countryName', 'United States of America')]\n"
     ]
    },
    {
     "data": {
      "text/plain": [
       "5"
      ]
     },
     "execution_count": 26,
     "metadata": {},
     "output_type": "execute_result"
    }
   ],
   "source": [
    "queryString = \"\"\"\n",
    "\n",
    "SELECT DISTINCT ?country ?countryName\n",
    "WHERE { \n",
    "\n",
    "    ?s wdt:P17 ?country .\n",
    "    ?country sc:name ?countryName .\n",
    "    \n",
    "    FILTER (regex(?countryName,\"^[Gg]ermany\")||regex(?countryName,\".*[Ss]tates.*[Aa]merica.*\"))\n",
    "       \n",
    "} LIMIT 25\n",
    "\"\"\"\n",
    "\n",
    "print(\"Results\")\n",
    "run_query(queryString)"
   ]
  },
  {
   "cell_type": "code",
   "execution_count": 27,
   "id": "c560110b-eca7-40c4-9aa4-50f05204a8c3",
   "metadata": {
    "tags": []
   },
   "outputs": [
    {
     "name": "stdout",
     "output_type": "stream",
     "text": [
      "Results\n",
      "[('pName', \"topic's main Wikimedia portal\"), ('oName', 'Portal:United States'), ('p', 'http://www.wikidata.org/prop/direct/P1151'), ('o', 'http://www.wikidata.org/entity/Q5365167')]\n",
      "[('pName', 'basic form of government'), ('oName', 'presidential régime'), ('p', 'http://www.wikidata.org/prop/direct/P122'), ('o', 'http://www.wikidata.org/entity/Q49892')]\n",
      "[('pName', 'basic form of government'), ('oName', 'federal republic'), ('p', 'http://www.wikidata.org/prop/direct/P122'), ('o', 'http://www.wikidata.org/entity/Q512187')]\n",
      "[('pName', 'central bank'), ('oName', 'Federal Reserve System'), ('p', 'http://www.wikidata.org/prop/direct/P1304'), ('o', 'http://www.wikidata.org/entity/Q53536')]\n",
      "[('pName', 'office held by head of government'), ('oName', 'President of the United States'), ('p', 'http://www.wikidata.org/prop/direct/P1313'), ('o', 'http://www.wikidata.org/entity/Q11696')]\n",
      "[('pName', 'described by source'), ('oName', '1922 Encyclopædia Britannica'), ('p', 'http://www.wikidata.org/prop/direct/P1343'), ('o', 'http://www.wikidata.org/entity/Q15987490')]\n",
      "[('pName', 'described by source'), ('oName', 'Small Brockhaus and Efron Encyclopedic Dictionary'), ('p', 'http://www.wikidata.org/prop/direct/P1343'), ('o', 'http://www.wikidata.org/entity/Q19180675')]\n",
      "[('pName', 'described by source'), ('oName', 'Encyclopædia Britannica Ninth Edition'), ('p', 'http://www.wikidata.org/prop/direct/P1343'), ('o', 'http://www.wikidata.org/entity/Q20096917')]\n",
      "[('pName', 'described by source'), ('oName', 'Jewish Encyclopedia of Brockhaus and Efron'), ('p', 'http://www.wikidata.org/prop/direct/P1343'), ('o', 'http://www.wikidata.org/entity/Q4173137')]\n",
      "[('pName', 'described by source'), ('oName', 'Granat Encyclopedic Dictionary'), ('p', 'http://www.wikidata.org/prop/direct/P1343'), ('o', 'http://www.wikidata.org/entity/Q4532138')]\n"
     ]
    },
    {
     "data": {
      "text/plain": [
       "10"
      ]
     },
     "execution_count": 27,
     "metadata": {},
     "output_type": "execute_result"
    }
   ],
   "source": [
    "queryString = \"\"\"\n",
    "\n",
    "SELECT DISTINCT ?pName ?oName ?p ?o\n",
    "WHERE { \n",
    "\n",
    "    wd:Q30 sc:name ?countryName ;\n",
    "        ?p ?o .\n",
    "    OPTIONAL{?p sc:name ?pName .}\n",
    "    OPTIONAL{?o sc:name ?oName .}\n",
    "       \n",
    "} LIMIT 10\n",
    "\"\"\"\n",
    "\n",
    "print(\"Results\")\n",
    "run_query(queryString)"
   ]
  },
  {
   "cell_type": "markdown",
   "id": "21be214b-6fd7-4ae8-bd02-a8bdacbb86e5",
   "metadata": {},
   "source": [
    "### Use \"istance of\" predicate"
   ]
  },
  {
   "cell_type": "code",
   "execution_count": 28,
   "id": "21366a98-63eb-4b12-9944-eac6e1d66c53",
   "metadata": {},
   "outputs": [
    {
     "name": "stdout",
     "output_type": "stream",
     "text": [
      "Results\n",
      "[('country', 'http://www.wikidata.org/entity/Q30'), ('countryName', 'United States of America'), ('oName', 'superpower'), ('o', 'http://www.wikidata.org/entity/Q1489259')]\n",
      "[('country', 'http://www.wikidata.org/entity/Q30'), ('countryName', 'United States of America'), ('oName', 'historical unrecognized state'), ('o', 'http://www.wikidata.org/entity/Q99541706')]\n",
      "[('country', 'http://www.wikidata.org/entity/Q30'), ('countryName', 'United States of America'), ('oName', 'constitutional republic'), ('o', 'http://www.wikidata.org/entity/Q1520223')]\n",
      "[('country', 'http://www.wikidata.org/entity/Q30'), ('countryName', 'United States of America'), ('oName', 'sovereign state'), ('o', 'http://www.wikidata.org/entity/Q3624078')]\n",
      "[('country', 'http://www.wikidata.org/entity/Q30'), ('countryName', 'United States of America'), ('oName', 'federal republic'), ('o', 'http://www.wikidata.org/entity/Q512187')]\n",
      "[('country', 'http://www.wikidata.org/entity/Q30'), ('countryName', 'United States of America'), ('oName', 'democratic republic'), ('o', 'http://www.wikidata.org/entity/Q5255892')]\n",
      "[('country', 'http://www.wikidata.org/entity/Q30'), ('countryName', 'United States of America'), ('oName', 'country'), ('o', 'http://www.wikidata.org/entity/Q6256')]\n",
      "[('country', 'http://www.wikidata.org/entity/Q81931'), ('countryName', 'Confederate States of America'), ('oName', 'historical country'), ('o', 'http://www.wikidata.org/entity/Q3024240')]\n",
      "[('country', 'http://www.wikidata.org/entity/Q19971019'), ('countryName', 'United States of America'), ('oName', 'Wikimedia disambiguation page'), ('o', 'http://www.wikidata.org/entity/Q4167410')]\n",
      "[('country', 'http://www.wikidata.org/entity/Q99281400'), ('countryName', 'United States of America'), ('oName', 'Star Trek location'), ('o', 'http://www.wikidata.org/entity/Q99281788')]\n",
      "[('country', 'http://www.wikidata.org/entity/Q99281400'), ('countryName', 'United States of America'), ('oName', 'real country in a fictional universe'), ('o', 'http://www.wikidata.org/entity/Q57663042')]\n"
     ]
    },
    {
     "data": {
      "text/plain": [
       "11"
      ]
     },
     "execution_count": 28,
     "metadata": {},
     "output_type": "execute_result"
    }
   ],
   "source": [
    "queryString = \"\"\"\n",
    "\n",
    "SELECT DISTINCT ?country ?countryName ?oName ?o\n",
    "WHERE { \n",
    "\n",
    "    ?s wdt:P17 ?country .\n",
    "    ?country sc:name ?countryName ;\n",
    "            wdt:P31 ?o .\n",
    "    OPTIONAL{?o sc:name ?oName .}\n",
    "    \n",
    "    FILTER (regex(?countryName,\".*[Ss]tates.*[Aa]merica.*\"))\n",
    "       \n",
    "}\n",
    "\"\"\"\n",
    "\n",
    "print(\"Results\")\n",
    "run_query(queryString)"
   ]
  },
  {
   "cell_type": "markdown",
   "id": "736c0c27-0b7b-45c8-bad0-11c1e344dd62",
   "metadata": {},
   "source": [
    "### Treaties not signed by U.S. but signed by Germany"
   ]
  },
  {
   "cell_type": "code",
   "execution_count": 29,
   "id": "188e1f87-0502-441a-95e4-4e609f29e69b",
   "metadata": {},
   "outputs": [
    {
     "name": "stdout",
     "output_type": "stream",
     "text": [
      "Results\n",
      "[('treatyName', 'Paris Agreement')]\n",
      "[('treatyName', 'Kyoto Protocol')]\n"
     ]
    },
    {
     "data": {
      "text/plain": [
       "2"
      ]
     },
     "execution_count": 29,
     "metadata": {},
     "output_type": "execute_result"
    }
   ],
   "source": [
    "queryString = \"\"\"\n",
    "\n",
    "SELECT DISTINCT ?treatyName\n",
    "WHERE { \n",
    "\n",
    "    ?treaty wdt:P31/wdt:P279* wd:Q131569 ;\n",
    "       wdt:P577 ?date ;\n",
    "       sc:name ?treatyName ;\n",
    "       wdt:P1891 ?signatory .\n",
    "    \n",
    "    FILTER EXISTS {?treaty wdt:P1891 wd:Q183 .}\n",
    "    FILTER NOT EXISTS {?treaty wdt:P1891 wd:Q30 .}\n",
    "    \n",
    "} GROUP BY ?signatoryName \n",
    "ORDER BY DESC(?treatyNumb) \n",
    "LIMIT 15\n",
    "\"\"\"\n",
    "\n",
    "print(\"Results\")\n",
    "run_query(queryString)"
   ]
  },
  {
   "cell_type": "markdown",
   "id": "33d4ec63-c414-47ce-a9b5-7df6efaacb40",
   "metadata": {},
   "source": [
    "### Countries that signed the above treaties"
   ]
  },
  {
   "cell_type": "code",
   "execution_count": 30,
   "id": "a580040e-5bdb-4dc5-990e-cd545ccb6f70",
   "metadata": {},
   "outputs": [
    {
     "name": "stdout",
     "output_type": "stream",
     "text": [
      "Results\n",
      "[('signatoryName', 'Guinea')]\n",
      "[('signatoryName', 'Niger')]\n",
      "[('signatoryName', 'Seychelles')]\n",
      "[('signatoryName', 'France')]\n",
      "[('signatoryName', \"People's Republic of China\")]\n",
      "[('signatoryName', 'Brazil')]\n",
      "[('signatoryName', 'Russia')]\n",
      "[('signatoryName', 'Canada')]\n",
      "[('signatoryName', 'Japan')]\n",
      "[('signatoryName', 'Germany')]\n",
      "[('signatoryName', 'Estonia')]\n",
      "[('signatoryName', 'Norway')]\n",
      "[('signatoryName', 'Latvia')]\n",
      "[('signatoryName', 'Ukraine')]\n",
      "[('signatoryName', 'Czech Republic')]\n",
      "[('signatoryName', 'Slovakia')]\n",
      "[('signatoryName', 'Romania')]\n",
      "[('signatoryName', 'Bulgaria')]\n",
      "[('signatoryName', 'Croatia')]\n",
      "[('signatoryName', 'Andorra')]\n",
      "[('signatoryName', 'Kazakhstan')]\n",
      "[('signatoryName', 'Malta')]\n",
      "[('signatoryName', 'Monaco')]\n",
      "[('signatoryName', 'Indonesia')]\n",
      "[('signatoryName', 'Uzbekistan')]\n",
      "[('signatoryName', 'Ireland')]\n",
      "[('signatoryName', 'Spain')]\n",
      "[('signatoryName', 'Chile')]\n",
      "[('signatoryName', 'Kingdom of the Netherlands')]\n",
      "[('signatoryName', 'Belgium')]\n",
      "[('signatoryName', 'Luxembourg')]\n",
      "[('signatoryName', 'Finland')]\n",
      "[('signatoryName', 'Sweden')]\n",
      "[('signatoryName', 'Niue')]\n",
      "[('signatoryName', 'Liechtenstein')]\n",
      "[('signatoryName', 'Denmark')]\n",
      "[('signatoryName', 'Poland')]\n",
      "[('signatoryName', 'Lithuania')]\n",
      "[('signatoryName', 'Italy')]\n",
      "[('signatoryName', 'Switzerland')]\n",
      "[('signatoryName', 'Austria')]\n",
      "[('signatoryName', 'Australia')]\n",
      "[('signatoryName', 'Greece')]\n",
      "[('signatoryName', 'Argentina')]\n",
      "[('signatoryName', 'Turkey')]\n",
      "[('signatoryName', 'Portugal')]\n",
      "[('signatoryName', 'European Union')]\n"
     ]
    },
    {
     "data": {
      "text/plain": [
       "47"
      ]
     },
     "execution_count": 30,
     "metadata": {},
     "output_type": "execute_result"
    }
   ],
   "source": [
    "queryString = \"\"\"\n",
    "\n",
    "SELECT DISTINCT ?signatoryName\n",
    "WHERE { \n",
    "\n",
    "    ?treaty wdt:P31/wdt:P279* wd:Q131569 ;\n",
    "       wdt:P577 ?date ;\n",
    "       sc:name ?treatyName ;\n",
    "       wdt:P1891 ?signatory .\n",
    "       \n",
    "    ?signatory sc:name ?signatoryName\n",
    "    \n",
    "    FILTER EXISTS {?treaty wdt:P1891 wd:Q183 .}\n",
    "    FILTER NOT EXISTS {?treaty wdt:P1891 wd:Q30 .}\n",
    "    \n",
    "}\n",
    "\"\"\"\n",
    "\n",
    "print(\"Results\")\n",
    "run_query(queryString)"
   ]
  },
  {
   "cell_type": "markdown",
   "id": "1882e14d-92a7-44b4-88cb-605456947b55",
   "metadata": {},
   "source": [
    "### Countries that did not sign a treaty with the U.S. but signed a treaty with Germany"
   ]
  },
  {
   "cell_type": "code",
   "execution_count": 31,
   "id": "61c55dcf-1d86-4f96-9cf0-047b1f97894a",
   "metadata": {},
   "outputs": [
    {
     "name": "stdout",
     "output_type": "stream",
     "text": [
      "Results\n",
      "[('signatoryName', 'Seychelles')]\n",
      "[('signatoryName', 'Japan')]\n",
      "[('signatoryName', 'Romania')]\n",
      "[('signatoryName', 'Indonesia')]\n",
      "[('signatoryName', 'Kingdom of the Netherlands')]\n",
      "[('signatoryName', 'Niue')]\n",
      "[('signatoryName', 'Greece')]\n",
      "[('signatoryName', 'Turkey')]\n",
      "[('signatoryName', 'Tuvalu')]\n",
      "[('signatoryName', 'Federated States of Micronesia')]\n",
      "[('signatoryName', 'Marshall Islands')]\n",
      "[('signatoryName', 'Saint Lucia')]\n",
      "[('signatoryName', 'Antigua and Barbuda')]\n",
      "[('signatoryName', 'Honduras')]\n",
      "[('signatoryName', 'Nicaragua')]\n",
      "[('signatoryName', 'Maldives')]\n",
      "[('signatoryName', 'Thailand')]\n",
      "[('signatoryName', 'Vietnam')]\n",
      "[('signatoryName', 'Bangladesh')]\n",
      "[('signatoryName', 'Mali')]\n"
     ]
    },
    {
     "data": {
      "text/plain": [
       "20"
      ]
     },
     "execution_count": 31,
     "metadata": {},
     "output_type": "execute_result"
    }
   ],
   "source": [
    "queryString = \"\"\"\n",
    "\n",
    "SELECT DISTINCT ?signatoryName\n",
    "WHERE { \n",
    "\n",
    "    {\n",
    "        SELECT ?signatoryName\n",
    "        WHERE{\n",
    "            ?treaty wdt:P31/wdt:P279* wd:Q131569 ;\n",
    "               wdt:P577 ?date ;\n",
    "               sc:name ?treatyName ;\n",
    "               wdt:P1891 ?signatory .\n",
    "            ?signatory sc:name ?signatoryName\n",
    "            FILTER EXISTS {?treaty wdt:P1891 wd:Q183 .}\n",
    "        }\n",
    "    }\n",
    "    MINUS\n",
    "    {\n",
    "        SELECT ?signatoryName\n",
    "        WHERE{\n",
    "            ?treaty wdt:P31/wdt:P279* wd:Q131569 ;\n",
    "               wdt:P577 ?date ;\n",
    "               sc:name ?treatyName ;\n",
    "               wdt:P1891 ?signatory .\n",
    "            ?signatory sc:name ?signatoryName\n",
    "            FILTER EXISTS {?treaty wdt:P1891 wd:Q30 .}\n",
    "        }\n",
    "    }\n",
    "}\n",
    "\"\"\"\n",
    "\n",
    "print(\"Results\")\n",
    "run_query(queryString)"
   ]
  },
  {
   "cell_type": "markdown",
   "id": "ef15ae47-1057-4228-af7a-8ee4be4155c4",
   "metadata": {},
   "source": [
    "### Result part 5.3\n",
    "We can conclude that 20 country never signed a treaty with U.S. (at least in our database) but the signed at least a treaty with Germany"
   ]
  },
  {
   "cell_type": "code",
   "execution_count": null,
   "id": "3cb66eb7-f901-4d36-a22c-b5bc6b017760",
   "metadata": {},
   "outputs": [],
   "source": []
  }
 ],
 "metadata": {
  "kernelspec": {
   "display_name": "Python 3",
   "language": "python",
   "name": "python3"
  },
  "language_info": {
   "codemirror_mode": {
    "name": "ipython",
    "version": 3
   },
   "file_extension": ".py",
   "mimetype": "text/x-python",
   "name": "python",
   "nbconvert_exporter": "python",
   "pygments_lexer": "ipython3",
   "version": "3.7.10"
  }
 },
 "nbformat": 4,
 "nbformat_minor": 5
}
