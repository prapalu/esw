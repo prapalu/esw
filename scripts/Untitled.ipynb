{
 "cells": [
  {
   "cell_type": "code",
   "execution_count": 20,
   "id": "10a949fd",
   "metadata": {},
   "outputs": [],
   "source": [
    "import os\n",
    "import json\n",
    "import csv"
   ]
  },
  {
   "cell_type": "code",
   "execution_count": 11,
   "id": "365afd98",
   "metadata": {},
   "outputs": [],
   "source": [
    "## Copy all JSON files both noteboks and gts in a single directory"
   ]
  },
  {
   "cell_type": "code",
   "execution_count": 3,
   "id": "ba86286a",
   "metadata": {},
   "outputs": [],
   "source": [
    "main='/locale/data/jupyter/prando/wd-project/'\n",
    "savePath = main+'json_resources'\n",
    "if not os.path.exists(savePath):\n",
    "    os.makedirs(savePath)"
   ]
  },
  {
   "cell_type": "code",
   "execution_count": 10,
   "id": "d44d9b15",
   "metadata": {},
   "outputs": [],
   "source": [
    "def copy_files(source, destination):\n",
    "    for folder in os.listdir(source):\n",
    "        subdir = source + os.sep + folder\n",
    "        for file in os.listdir(subdir):\n",
    "            filepath = subdir + os.sep + file\n",
    "            if filepath.endswith(\".json\"):\n",
    "                command = 'cp '+filepath+' '+destination\n",
    "                os.system(command)\n",
    "                \n",
    "def copy_gt(source, destination):\n",
    "    for file in os.listdir(source):\n",
    "        filepath = source + os.sep + file\n",
    "        if filepath.endswith(\".json\"):\n",
    "            command = 'cp '+filepath+' '+destination\n",
    "            os.system(command)\n",
    "                \n",
    "copy_files(main+'2022/notebooks_evaluated',savePath)\n",
    "copy_files(main+'2021/notebooks_evaluated',savePath)\n",
    "copy_gt(main+'2021/ground_truths/gt_json',savePath)\n",
    "copy_gt(main+'2022/ground_truths/gt_json',savePath)\n"
   ]
  },
  {
   "cell_type": "code",
   "execution_count": 12,
   "id": "6ce9adfe",
   "metadata": {},
   "outputs": [],
   "source": [
    "## create the map between topic and gt"
   ]
  },
  {
   "cell_type": "code",
   "execution_count": 22,
   "id": "9670d7bf",
   "metadata": {},
   "outputs": [
    {
     "name": "stdout",
     "output_type": "stream",
     "text": [
      "dict_keys(['gt', 'topic'])\n",
      "dict_keys(['gt', 'topic'])\n",
      "dict_keys(['gt', 'topic'])\n",
      "dict_keys(['gt', 'topic'])\n",
      "dict_keys(['gt', 'topic'])\n",
      "dict_keys(['gt', 'topic'])\n",
      "dict_keys(['gt', 'topic'])\n",
      "dict_keys(['gt', 'topic'])\n",
      "dict_keys(['gt', 'topic'])\n",
      "dict_keys(['gt', 'topic'])\n",
      "dict_keys(['gt', 'topic'])\n",
      "dict_keys(['gt', 'topic'])\n",
      "dict_keys(['gt', 'topic'])\n",
      "dict_keys(['gt', 'topic'])\n",
      "dict_keys(['gt', 'topic'])\n",
      "dict_keys(['gt', 'topic'])\n",
      "dict_keys(['gt', 'topic'])\n",
      "dict_keys(['gt', 'topic'])\n",
      "dict_keys(['gt', 'topic'])\n",
      "dict_keys(['gt', 'topic'])\n",
      "dict_keys(['gt', 'topic'])\n",
      "dict_keys(['gt', 'topic'])\n",
      "dict_keys(['gt', 'topic'])\n",
      "dict_keys(['gt', 'topic'])\n",
      "dict_keys(['gt', 'topic'])\n"
     ]
    },
    {
     "ename": "ValueError",
     "evalue": "dict contains fields not in fieldnames: 'topic', 'gt'",
     "output_type": "error",
     "traceback": [
      "\u001b[0;31m---------------------------------------------------------------------------\u001b[0m",
      "\u001b[0;31mValueError\u001b[0m                                Traceback (most recent call last)",
      "Cell \u001b[0;32mIn[22], line 33\u001b[0m\n\u001b[1;32m     31\u001b[0m writer \u001b[38;5;241m=\u001b[39m csv\u001b[38;5;241m.\u001b[39mDictWriter(csvfile, fieldnames \u001b[38;5;241m=\u001b[39m [\u001b[38;5;124m'\u001b[39m\u001b[38;5;124mgt,topic\u001b[39m\u001b[38;5;124m'\u001b[39m])\n\u001b[1;32m     32\u001b[0m writer\u001b[38;5;241m.\u001b[39mwriteheader()\n\u001b[0;32m---> 33\u001b[0m \u001b[43mwriter\u001b[49m\u001b[38;5;241;43m.\u001b[39;49m\u001b[43mwriterows\u001b[49m\u001b[43m(\u001b[49m\u001b[43mmapp\u001b[49m\u001b[43m)\u001b[49m\n",
      "File \u001b[0;32m/locale/data/anaconda3/envs/jupyter_wikidata/lib/python3.9/csv.py:157\u001b[0m, in \u001b[0;36mDictWriter.writerows\u001b[0;34m(self, rowdicts)\u001b[0m\n\u001b[1;32m    156\u001b[0m \u001b[38;5;28;01mdef\u001b[39;00m \u001b[38;5;21mwriterows\u001b[39m(\u001b[38;5;28mself\u001b[39m, rowdicts):\n\u001b[0;32m--> 157\u001b[0m     \u001b[38;5;28;01mreturn\u001b[39;00m \u001b[38;5;28;43mself\u001b[39;49m\u001b[38;5;241;43m.\u001b[39;49m\u001b[43mwriter\u001b[49m\u001b[38;5;241;43m.\u001b[39;49m\u001b[43mwriterows\u001b[49m\u001b[43m(\u001b[49m\u001b[38;5;28;43mmap\u001b[39;49m\u001b[43m(\u001b[49m\u001b[38;5;28;43mself\u001b[39;49m\u001b[38;5;241;43m.\u001b[39;49m\u001b[43m_dict_to_list\u001b[49m\u001b[43m,\u001b[49m\u001b[43m \u001b[49m\u001b[43mrowdicts\u001b[49m\u001b[43m)\u001b[49m\u001b[43m)\u001b[49m\n",
      "File \u001b[0;32m/locale/data/anaconda3/envs/jupyter_wikidata/lib/python3.9/csv.py:149\u001b[0m, in \u001b[0;36mDictWriter._dict_to_list\u001b[0;34m(self, rowdict)\u001b[0m\n\u001b[1;32m    147\u001b[0m     wrong_fields \u001b[38;5;241m=\u001b[39m rowdict\u001b[38;5;241m.\u001b[39mkeys() \u001b[38;5;241m-\u001b[39m \u001b[38;5;28mself\u001b[39m\u001b[38;5;241m.\u001b[39mfieldnames\n\u001b[1;32m    148\u001b[0m     \u001b[38;5;28;01mif\u001b[39;00m wrong_fields:\n\u001b[0;32m--> 149\u001b[0m         \u001b[38;5;28;01mraise\u001b[39;00m \u001b[38;5;167;01mValueError\u001b[39;00m(\u001b[38;5;124m\"\u001b[39m\u001b[38;5;124mdict contains fields not in fieldnames: \u001b[39m\u001b[38;5;124m\"\u001b[39m\n\u001b[1;32m    150\u001b[0m                          \u001b[38;5;241m+\u001b[39m \u001b[38;5;124m\"\u001b[39m\u001b[38;5;124m, \u001b[39m\u001b[38;5;124m\"\u001b[39m\u001b[38;5;241m.\u001b[39mjoin([\u001b[38;5;28mrepr\u001b[39m(x) \u001b[38;5;28;01mfor\u001b[39;00m x \u001b[38;5;129;01min\u001b[39;00m wrong_fields]))\n\u001b[1;32m    151\u001b[0m \u001b[38;5;28;01mreturn\u001b[39;00m (rowdict\u001b[38;5;241m.\u001b[39mget(key, \u001b[38;5;28mself\u001b[39m\u001b[38;5;241m.\u001b[39mrestval) \u001b[38;5;28;01mfor\u001b[39;00m key \u001b[38;5;129;01min\u001b[39;00m \u001b[38;5;28mself\u001b[39m\u001b[38;5;241m.\u001b[39mfieldnames)\n",
      "\u001b[0;31mValueError\u001b[0m: dict contains fields not in fieldnames: 'topic', 'gt'"
     ]
    }
   ],
   "source": [
    "def load_ground_truths(gt_dir, verbose = False):\n",
    "    #popolate people_dir list\n",
    "    ground_truth={}\n",
    "    for file in os.listdir(gt_dir):\n",
    "        filepath = gt_dir + os.sep + file\n",
    "        if filepath.endswith(\".json\"):\n",
    "            gt = json.load(open(filepath))\n",
    "            description = gt['description'].replace(\"Workflow's name:\",\"\").strip()\n",
    "            ground_truth[description] = gt['results']\n",
    "            ground_truth[description]['file'] = filepath\n",
    "    if verbose:\n",
    "        string = \"Successfully load the json ground truths from the folder \"+str(gt_dir)+\":\\n\"\n",
    "        string += \"--> Original number of ground truths: \"+str(len(os.listdir(gt_dir)))+\"\\n\"\n",
    "        string += \"--> Actual number of ground truths: \"+str(len(ground_truth))\n",
    "        print(string)\n",
    "    return ground_truth\n",
    "\n",
    "mapp = []\n",
    "\n",
    "ground_truth = load_ground_truths(main+'2022/ground_truths/gt_json')\n",
    "for gt in ground_truth:\n",
    "    mapp.append({'gt':ground_truth[gt]['file'].split(\"/\")[-1] , 'topic':gt})\n",
    "ground_truth = load_ground_truths(main+'2021/ground_truths/gt_json')\n",
    "for gt in ground_truth:\n",
    "    mapp.append({'gt':ground_truth[gt]['file'].split(\"/\")[-1] , 'topic':gt})\n",
    "    \n",
    "for m in mapp:\n",
    "    print(m.keys())\n",
    "    \n",
    "with open('../gt_map.csv', 'w') as csvfile:\n",
    "    writer = csv.DictWriter(csvfile, fieldnames = ['gt,topic'])\n",
    "    writer.writeheader()\n",
    "    writer.writerows(mapp)"
   ]
  },
  {
   "cell_type": "code",
   "execution_count": null,
   "id": "05799610",
   "metadata": {},
   "outputs": [],
   "source": []
  }
 ],
 "metadata": {
  "kernelspec": {
   "display_name": "Python 3 (ipykernel)",
   "language": "python",
   "name": "python3"
  },
  "language_info": {
   "codemirror_mode": {
    "name": "ipython",
    "version": 3
   },
   "file_extension": ".py",
   "mimetype": "text/x-python",
   "name": "python",
   "nbconvert_exporter": "python",
   "pygments_lexer": "ipython3",
   "version": "3.9.16"
  }
 },
 "nbformat": 4,
 "nbformat_minor": 5
}
