{
 "cells": [
  {
   "cell_type": "markdown",
   "id": "6fa74087",
   "metadata": {},
   "source": [
    "# General instructions\n",
    "\n",
    "The goal of the project is to materialize a set of **exploratory workloads** over a real-world, large-scale,  open-domain KG: [WikiData](https://www.wikidata.org/wiki/Wikidata:Main_Page)\n",
    "\n",
    "An exploratory workload  is composed by a set of queries, where each query is related to the information obtained previously.\n",
    "\n",
    "An exploratory workload starts with a usually vague, open ended question, and does not assume the person issuing the workload has a clear understanding of the data contained in the target database or its structure.\n",
    "\n",
    "Remeber that:\n",
    "\n",
    "1. All the queries must run in the python notebook\n",
    "2. You can use classes and properties only if you find them via a SPARQL query that must be present in the notebook\n",
    "3. You do not delete useless queries. Keep everything that is synthatically valid \n",
    "\n",
    "```\n",
    "?p <http://schema.org/name> ?name .\n",
    "```\n",
    "    \n",
    "    is the BGP returning a human-readable name of a property or a class in Wikidata."
   ]
  },
  {
   "cell_type": "code",
   "execution_count": 1,
   "id": "1b238e93",
   "metadata": {},
   "outputs": [],
   "source": [
    "## SETUP used later\n",
    "\n",
    "from SPARQLWrapper import SPARQLWrapper, JSON\n",
    "\n",
    "\n",
    "prefixString = \"\"\"\n",
    "##-4bb8191b56-##\n",
    "PREFIX wd: <http://www.wikidata.org/entity/> \n",
    "PREFIX wdt: <http://www.wikidata.org/prop/direct/> \n",
    "PREFIX sc: <http://schema.org/>\n",
    "\"\"\"\n",
    "\n",
    "# select and construct queries\n",
    "def run_query(queryString,verbose = True):\n",
    "    to_run = prefixString + \"\\n\" + queryString\n",
    "\n",
    "    sparql = SPARQLWrapper(\"http://a256-gc1-03.srv.aau.dk:5820/sparql\")\n",
    "    sparql.setTimeout(300)\n",
    "    sparql.setReturnFormat(JSON)\n",
    "    sparql.setQuery(to_run)\n",
    "\n",
    "    try :\n",
    "        results = sparql.query()\n",
    "        json_results = results.convert()\n",
    "        if len(json_results['results']['bindings'])==0:\n",
    "            print(\"Empty\")\n",
    "            return []\n",
    "        array = []\n",
    "        for bindings in json_results['results']['bindings']:\n",
    "            app =  [ (var, value['value'])  for var, value in bindings.items() ] \n",
    "            if verbose:\n",
    "                print( app)\n",
    "            array.append(app)\n",
    "        if verbose:\n",
    "            print(len(array))\n",
    "        return array\n",
    "\n",
    "    except Exception as e :\n",
    "        print(\"The operation failed\", e)\n",
    "    \n",
    "# ASk queries\n",
    "def run_ask_query(queryString):\n",
    "    to_run = prefixString + \"\\n\" + queryString\n",
    "\n",
    "    sparql = SPARQLWrapper(\"http://a256-gc1-03.srv.aau.dk:5820/sparql\")\n",
    "    sparql.setTimeout(300)\n",
    "    sparql.setReturnFormat(JSON)\n",
    "    sparql.setQuery(to_run)\n",
    "\n",
    "    try :\n",
    "        return sparql.query().convert()\n",
    "\n",
    "    except Exception as e :\n",
    "        print(\"The operation failed\", e)"
   ]
  },
  {
   "cell_type": "markdown",
   "id": "1b27d655",
   "metadata": {},
   "source": [
    "# History Workflow Series (\"Ancient Civilization explorative search\") \n",
    "\n",
    "Consider the following exploratory information need:\n",
    "\n",
    "> Investigate the Ancient Egypt and the related archeological explorations and findings."
   ]
  },
  {
   "cell_type": "markdown",
   "id": "679edd84",
   "metadata": {},
   "source": [
    "## Useful URIs for the current workflow\n",
    "The following are given:\n",
    "\n",
    "| IRI           | Description   | Role      |\n",
    "| -----------   | -----------   |-----------|\n",
    "| `wdt:P1647`   | subproperty   | predicate |\n",
    "| `wdt:P31`     | instance of   | predicate |\n",
    "| `wdt:P106`    | occupation    | predicate | \n",
    "| `wdt:P279`    | subclass      | predicate |\n",
    "| `wdt:P27`     | nationality   | predicate |\n",
    "| `wd:Q5`| Human       | node |\n",
    "| `wd:Q13444093`| Meidum Pyramid    | node |\n",
    "| `wd:Q41127`| Poseidon   | node |\n"
   ]
  },
  {
   "cell_type": "markdown",
   "id": "ffaf0ef2",
   "metadata": {},
   "source": [
    "\n",
    "\n",
    "\n",
    "Also consider\n",
    "\n",
    "```\n",
    "wd:Q13444093 ?p ?obj .\n",
    "```\n",
    "\n",
    "is the BGP to retrieve all **properties of Meidum Pyramid**\n",
    "\n",
    "Please consider that when you return a resource, you should return the IRI and the label of the resource. In particular, when the task require you to identify a BGP the result set must always be a list of couples IRI - label.\n",
    "\n",
    "\n",
    "\n",
    "The workload should:\n",
    "\n",
    "\n",
    "1. Identify the BGP for Ancient Egypt\n",
    "\n",
    "2. Find the Ancient Egypt pharaohs born between 1500 BCE and 1000 BCE who had more than 8 child (the result set must be a list of triples pharaoh IRI,label and #children).\n",
    "\n",
    "3. Find all the ancient civilizations. Return the IRI and name of the civilization and also their duration (in number of years) if it is available.\n",
    "\n",
    "4. Identify the BGP for archeologist.\n",
    "\n",
    "5. For each ancient civilization find the number of archeologists who worked on it (return also the civilizations with no archeologists) (the result set must be triples of civilization IRI, label and #archeologist).\n",
    "\n",
    "6. Find the BGP for deity.\n",
    "\n",
    "7. List all the twelve olympian greek deities (the result set must a list of 12 elements of couples of deity IRI and label).\n",
    "\n",
    "8. Compare ancient Greece with ancient Egypt and find how many deities each one has.\n"
   ]
  },
  {
   "cell_type": "markdown",
   "id": "60975cb6",
   "metadata": {},
   "source": [
    "## Task 1\n",
    "Identify the BGP for Ancient Egypt"
   ]
  },
  {
   "cell_type": "code",
   "execution_count": 43,
   "id": "94a1b1dc",
   "metadata": {},
   "outputs": [
    {
     "name": "stdout",
     "output_type": "stream",
     "text": [
      "Results\n",
      "[('p', 'http://www.wikidata.org/prop/direct/P131'), ('name', 'located in the administrative territorial entity')]\n",
      "[('p', 'http://www.wikidata.org/prop/direct/P138'), ('name', 'named after')]\n",
      "[('p', 'http://www.wikidata.org/prop/direct/P1481'), ('name', 'vici.org ID')]\n",
      "[('p', 'http://www.wikidata.org/prop/direct/P1566'), ('name', 'GeoNames ID')]\n",
      "[('p', 'http://www.wikidata.org/prop/direct/P17'), ('name', 'country')]\n",
      "[('p', 'http://www.wikidata.org/prop/direct/P18'), ('name', 'image')]\n",
      "[('p', 'http://www.wikidata.org/prop/direct/P186'), ('name', 'made from material')]\n",
      "[('p', 'http://www.wikidata.org/prop/direct/P2044'), ('name', 'elevation above sea level')]\n",
      "[('p', 'http://www.wikidata.org/prop/direct/P2048'), ('name', 'height')]\n",
      "[('p', 'http://www.wikidata.org/prop/direct/P214'), ('name', 'VIAF ID')]\n",
      "[('p', 'http://www.wikidata.org/prop/direct/P227'), ('name', 'GND ID')]\n",
      "[('p', 'http://www.wikidata.org/prop/direct/P2326'), ('name', 'GNS Unique Feature ID')]\n",
      "[('p', 'http://www.wikidata.org/prop/direct/P2671'), ('name', 'Google Knowledge Graph ID')]\n",
      "[('p', 'http://www.wikidata.org/prop/direct/P276'), ('name', 'location')]\n",
      "[('p', 'http://www.wikidata.org/prop/direct/P2924'), ('name', 'Great Russian Encyclopedia Online ID')]\n",
      "[('p', 'http://www.wikidata.org/prop/direct/P31'), ('name', 'instance of')]\n",
      "[('p', 'http://www.wikidata.org/prop/direct/P366'), ('name', 'use')]\n",
      "[('p', 'http://www.wikidata.org/prop/direct/P373'), ('name', 'Commons category')]\n",
      "[('p', 'http://www.wikidata.org/prop/direct/P5008'), ('name', 'on focus list of Wikimedia project')]\n",
      "[('p', 'http://www.wikidata.org/prop/direct/P571'), ('name', 'inception')]\n",
      "[('p', 'http://www.wikidata.org/prop/direct/P7561'), ('name', 'category for the interior of the item')]\n",
      "[('p', 'http://www.wikidata.org/prop/direct/P88'), ('name', 'commissioned by')]\n",
      "22\n"
     ]
    }
   ],
   "source": [
    "# return the properties for Meidum Pyramid (wd:Q13444093)\n",
    "queryString = \"\"\"\n",
    "SELECT DISTINCT ?p ?name\n",
    "WHERE {\n",
    "   # bind something\n",
    "   wd:Q13444093 ?p ?obj .\n",
    "   # get the label\n",
    "   ?p sc:name ?name.\n",
    "}\n",
    "LIMIT 100\n",
    "\"\"\"\n",
    "\n",
    "print(\"Results\")\n",
    "x=run_query(queryString)"
   ]
  },
  {
   "cell_type": "code",
   "execution_count": 23,
   "id": "cc1f77ec-2b47-4864-95e4-c80d3c1e5ff6",
   "metadata": {},
   "outputs": [
    {
     "name": "stdout",
     "output_type": "stream",
     "text": [
      "Results\n",
      "[('obj', 'http://www.wikidata.org/entity/Q68074438'), ('name', 'WikiProject Livius')]\n",
      "[('obj', 'http://www.wikidata.org/entity/Q189371'), ('name', 'Sneferu')]\n",
      "[('obj', 'http://www.wikidata.org/entity/Q1066424'), ('name', 'Meidum')]\n",
      "[('obj', 'http://www.wikidata.org/entity/Q220240'), ('name', 'Huni')]\n",
      "[('obj', 'http://www.wikidata.org/entity/Q23757'), ('name', 'limestone')]\n",
      "[('obj', 'http://www.wikidata.org/entity/Q79'), ('name', 'Egypt')]\n",
      "[('obj', 'http://www.wikidata.org/entity/Q321053'), ('name', 'cenotaph')]\n",
      "[('obj', 'http://www.wikidata.org/entity/Q1456099'), ('name', 'step pyramid')]\n",
      "[('obj', 'http://www.wikidata.org/entity/Q30683'), ('name', 'Beni Suef Governorate')]\n",
      "[('obj', 'http://www.wikidata.org/entity/Q75129112'), ('name', 'Category:Interior of Meidum Pyramid')]\n",
      "10\n"
     ]
    }
   ],
   "source": [
    "# return the properties of Meidum Pyramid (wd:Q13444093)\n",
    "queryString = \"\"\"\n",
    "SELECT DISTINCT ?obj ?objectName\n",
    "WHERE {\n",
    "   wd:Q13444093 ?p ?obj .\n",
    "   # get the label\n",
    "   ?obj sc:name ?objectName.\n",
    "}\n",
    "LIMIT 30\n",
    "\"\"\"\n",
    "\n",
    "print(\"Results\")\n",
    "x=run_query(queryString)"
   ]
  },
  {
   "cell_type": "code",
   "execution_count": 44,
   "id": "f993cdfb-3290-470c-b75e-beaee07e128a",
   "metadata": {},
   "outputs": [
    {
     "name": "stdout",
     "output_type": "stream",
     "text": [
      "Results\n",
      "[('obj', 'http://www.wikidata.org/entity/Q1456099'), ('instanceName', 'step pyramid')]\n",
      "1\n"
     ]
    }
   ],
   "source": [
    "# return the instance (P31) of Meidum Pyramid\n",
    "queryString = \"\"\"\n",
    "SELECT DISTINCT ?obj ?instanceName\n",
    "WHERE {\n",
    "   wd:Q13444093 wdt:P31 ?obj .\n",
    "   ?obj sc:name ?instanceName.\n",
    "}\n",
    "LIMIT 20\n",
    "\"\"\"\n",
    "\n",
    "print(\"Results\")\n",
    "x=run_query(queryString)"
   ]
  },
  {
   "cell_type": "code",
   "execution_count": 45,
   "id": "520d9ce2-a90a-4f18-a8cd-47ddd1b93a5e",
   "metadata": {},
   "outputs": [
    {
     "name": "stdout",
     "output_type": "stream",
     "text": [
      "Results\n",
      "[('location', 'http://www.wikidata.org/entity/Q1066424'), ('locationName', 'Meidum')]\n",
      "1\n"
     ]
    }
   ],
   "source": [
    "# return the location (P276) of Meidum Pyramid (wd:Q13444093)\n",
    "queryString = \"\"\"\n",
    "SELECT DISTINCT ?location ?locationName\n",
    "WHERE {\n",
    "   wd:Q13444093 wdt:P276 ?location .\n",
    "   ?location sc:name ?locationName.\n",
    "}\n",
    "LIMIT 20\n",
    "\"\"\"\n",
    "\n",
    "print(\"Results\")\n",
    "x=run_query(queryString)"
   ]
  },
  {
   "cell_type": "code",
   "execution_count": 57,
   "id": "c4aaaca2-cbd9-4cf2-8f26-6d293303a50a",
   "metadata": {},
   "outputs": [
    {
     "name": "stdout",
     "output_type": "stream",
     "text": [
      "Results\n",
      "Empty\n"
     ]
    }
   ],
   "source": [
    "# return the subproperty (P1647) of Meidum Pyramid (wd:Q13444093)\n",
    "queryString = \"\"\"\n",
    "SELECT DISTINCT ?subproperty ?subpropertynName\n",
    "WHERE {\n",
    "   wd:Q13444093 wdt:P1647 ?subproperty .\n",
    "   ?subproperty sc:name ?subpropertynName .\n",
    "}\n",
    "LIMIT 20\n",
    "\"\"\"\n",
    "\n",
    "print(\"Results\")\n",
    "x=run_query(queryString)"
   ]
  },
  {
   "cell_type": "code",
   "execution_count": 58,
   "id": "983357f1-9cf5-4dbf-95ad-7e90e62f9b91",
   "metadata": {},
   "outputs": [
    {
     "name": "stdout",
     "output_type": "stream",
     "text": [
      "Results\n",
      "Empty\n"
     ]
    }
   ],
   "source": [
    "# return the occupation (P106) of Meidum Pyramid (wd:Q13444093)\n",
    "queryString = \"\"\"\n",
    "SELECT DISTINCT ?occupation ?occupationName\n",
    "WHERE {\n",
    "   wd:Q13444093 wdt:P106 ?occupation .\n",
    "   ?occupation sc:name ?occupationName .\n",
    "}\n",
    "LIMIT 20\n",
    "\"\"\"\n",
    "\n",
    "print(\"Results\")\n",
    "x=run_query(queryString)"
   ]
  },
  {
   "cell_type": "code",
   "execution_count": 59,
   "id": "0d47c80a-f99b-4580-9490-e69f5ab8dd5d",
   "metadata": {},
   "outputs": [
    {
     "name": "stdout",
     "output_type": "stream",
     "text": [
      "Results\n",
      "Empty\n"
     ]
    }
   ],
   "source": [
    "# return the nationality (P27) of Meidum Pyramid (wd:Q13444093)\n",
    "queryString = \"\"\"\n",
    "SELECT DISTINCT ?nationality ?nationalityName\n",
    "WHERE {\n",
    "   wd:Q13444093 wdt:P27 ?nationality .\n",
    "   ?nationality sc:name ?nationalityName .\n",
    "}\n",
    "LIMIT 20\n",
    "\"\"\"\n",
    "\n",
    "print(\"Results\")\n",
    "x=run_query(queryString)"
   ]
  },
  {
   "cell_type": "code",
   "execution_count": 31,
   "id": "418124b9-9b86-4015-8a83-6d55c018af42",
   "metadata": {},
   "outputs": [
    {
     "name": "stdout",
     "output_type": "stream",
     "text": [
      "Results\n",
      "Empty\n"
     ]
    }
   ],
   "source": [
    "# return the subclass (P279) of Meidum Pyramid (wd:Q13444093)\n",
    "queryString = \"\"\"\n",
    "SELECT DISTINCT ?subclass ?subclassName\n",
    "WHERE {\n",
    "   wd:Q13444093 wdt:P279 ?subclass .\n",
    "   ?subclass sc:name ?subclassName .\n",
    "}\n",
    "LIMIT 20\n",
    "\"\"\"\n",
    "\n",
    "print(\"Results\")\n",
    "x=run_query(queryString)"
   ]
  },
  {
   "cell_type": "code",
   "execution_count": 61,
   "id": "24b208f3-bf70-4574-b4ed-a9dd3f226c99",
   "metadata": {},
   "outputs": [
    {
     "name": "stdout",
     "output_type": "stream",
     "text": [
      "Results\n",
      "[('country', 'http://www.wikidata.org/entity/Q79'), ('countryName', 'Egypt')]\n",
      "1\n"
     ]
    }
   ],
   "source": [
    "# return the country (P17) of Meidum Pyramid (wd:Q13444093)\n",
    "queryString = \"\"\"\n",
    "SELECT DISTINCT ?country ?countryName\n",
    "WHERE {\n",
    "   wd:Q13444093 wdt:P17 ?country .\n",
    "   ?country sc:name ?countryName .\n",
    "}\n",
    "LIMIT 20\n",
    "\"\"\"\n",
    "\n",
    "print(\"Results\")\n",
    "x=run_query(queryString)"
   ]
  },
  {
   "cell_type": "code",
   "execution_count": 62,
   "id": "6d911468",
   "metadata": {},
   "outputs": [
    {
     "name": "stdout",
     "output_type": "stream",
     "text": [
      "Results\n",
      "Empty\n"
     ]
    }
   ],
   "source": [
    "# return the GeoNames ID (P1566) of Meidum Pyramid (wd:Q13444093)\n",
    "queryString = \"\"\"\n",
    "SELECT DISTINCT ?GeoNames ?GeoNamesID\n",
    "WHERE {\n",
    "   wd:Q13444093 wdt:P1566 ?GeoNames .\n",
    "   ?GeoNames sc:name ?GeoNamesID .\n",
    "}\n",
    "LIMIT 20\n",
    "\"\"\"\n",
    "\n",
    "print(\"Results\")\n",
    "x=run_query(queryString)"
   ]
  },
  {
   "cell_type": "code",
   "execution_count": 63,
   "id": "aced382a-56ea-4c77-918f-913390eb4162",
   "metadata": {},
   "outputs": [
    {
     "name": "stdout",
     "output_type": "stream",
     "text": [
      "Results\n",
      "[('namedafter', 'http://www.wikidata.org/entity/Q1066424'), ('namedafterName', 'Meidum')]\n",
      "1\n"
     ]
    }
   ],
   "source": [
    "# return the named after (P138) of Meidum Pyramid (wd:Q13444093)\n",
    "queryString = \"\"\"\n",
    "SELECT DISTINCT ?namedafter ?namedafterName\n",
    "WHERE {\n",
    "   wd:Q13444093 wdt:P138 ?namedafter .\n",
    "   ?namedafter sc:name ?namedafterName .\n",
    "}\n",
    "LIMIT 20\n",
    "\"\"\"\n",
    "\n",
    "print(\"Results\")\n",
    "x=run_query(queryString)"
   ]
  },
  {
   "cell_type": "code",
   "execution_count": 64,
   "id": "a1216e19-6c5c-4c89-b3d0-5c1743a1a613",
   "metadata": {},
   "outputs": [
    {
     "name": "stdout",
     "output_type": "stream",
     "text": [
      "Results\n",
      "[('category', 'http://www.wikidata.org/entity/Q75129112'), ('categoryName', 'Category:Interior of Meidum Pyramid')]\n",
      "1\n"
     ]
    }
   ],
   "source": [
    "# return the named after (P7561) of Meidum Pyramid (wd:Q13444093)\n",
    "queryString = \"\"\"\n",
    "SELECT DISTINCT ?category ?categoryName\n",
    "WHERE {\n",
    "   wd:Q13444093 wdt:P7561 ?category .\n",
    "   ?category sc:name ?categoryName .\n",
    "}\n",
    "LIMIT 20\n",
    "\"\"\"\n",
    "\n",
    "print(\"Results\")\n",
    "x=run_query(queryString)"
   ]
  },
  {
   "cell_type": "code",
   "execution_count": 2,
   "id": "755a1b36-695b-4289-be90-ee57c3ec9a9a",
   "metadata": {},
   "outputs": [
    {
     "name": "stdout",
     "output_type": "stream",
     "text": [
      "Results\n",
      "[('p', 'http://www.wikidata.org/prop/direct/P31'), ('pName', 'instance of'), ('obj', 'http://www.wikidata.org/entity/Q28171280'), ('objName', 'ancient civilization')]\n",
      "[('p', 'http://www.wikidata.org/prop/direct/P2184'), ('pName', 'history of topic'), ('obj', 'http://www.wikidata.org/entity/Q766876'), ('objName', 'history of ancient Egypt')]\n",
      "[('p', 'http://www.wikidata.org/prop/direct/P155'), ('pName', 'follows'), ('obj', 'http://www.wikidata.org/entity/Q714601'), ('objName', 'Predynastic Period of Egypt')]\n",
      "[('p', 'http://www.wikidata.org/prop/direct/P1343'), ('pName', 'described by source'), ('obj', 'http://www.wikidata.org/entity/Q1138524'), ('objName', 'Paulys Realenzyklopädie der klassischen Altertumswissenschaft')]\n",
      "[('p', 'http://www.wikidata.org/prop/direct/P30'), ('pName', 'continent'), ('obj', 'http://www.wikidata.org/entity/Q15'), ('objName', 'Africa')]\n",
      "[('p', 'http://www.wikidata.org/prop/direct/P1343'), ('pName', 'described by source'), ('obj', 'http://www.wikidata.org/entity/Q17378135'), ('objName', 'Great Soviet Encyclopedia (1969–1978)')]\n",
      "[('p', 'http://www.wikidata.org/prop/direct/P6885'), ('pName', 'historical region'), ('obj', 'http://www.wikidata.org/entity/Q269678'), ('objName', 'ancient Near East')]\n",
      "[('p', 'http://www.wikidata.org/prop/direct/P31'), ('pName', 'instance of'), ('obj', 'http://www.wikidata.org/entity/Q3024240'), ('objName', 'historical country')]\n",
      "[('p', 'http://www.wikidata.org/prop/direct/P31'), ('pName', 'instance of'), ('obj', 'http://www.wikidata.org/entity/Q3502482'), ('objName', 'cultural region')]\n",
      "[('p', 'http://www.wikidata.org/prop/direct/P1343'), ('pName', 'described by source'), ('obj', 'http://www.wikidata.org/entity/Q4173137'), ('objName', 'Jewish Encyclopedia of Brockhaus and Efron')]\n",
      "[('p', 'http://www.wikidata.org/prop/direct/P5008'), ('pName', 'on focus list of Wikimedia project'), ('obj', 'http://www.wikidata.org/entity/Q5460604'), ('objName', 'Wikipedia:Vital articles')]\n",
      "[('p', 'http://www.wikidata.org/prop/direct/P31'), ('pName', 'instance of'), ('obj', 'http://www.wikidata.org/entity/Q1620908'), ('objName', 'historical region')]\n",
      "[('p', 'http://www.wikidata.org/prop/direct/P155'), ('pName', 'follows'), ('obj', 'http://www.wikidata.org/entity/Q208520'), ('objName', 'Prehistoric Egypt')]\n",
      "[('p', 'http://www.wikidata.org/prop/direct/P2579'), ('pName', 'studied by'), ('obj', 'http://www.wikidata.org/entity/Q4752891'), ('objName', 'ancient Near Eastern studies')]\n",
      "[('p', 'http://www.wikidata.org/prop/direct/P2633'), ('pName', 'geography of topic'), ('obj', 'http://www.wikidata.org/entity/Q2487803'), ('objName', 'geography of Ancient Egypt')]\n",
      "[('p', 'http://www.wikidata.org/prop/direct/P8744'), ('pName', 'economy of topic'), ('obj', 'http://www.wikidata.org/entity/Q24734962'), ('objName', 'economy of Ancient Egypt')]\n",
      "[('p', 'http://www.wikidata.org/prop/direct/P910'), ('pName', \"topic's main category\"), ('obj', 'http://www.wikidata.org/entity/Q7213740'), ('objName', 'Category:Ancient Egypt')]\n",
      "[('p', 'http://www.wikidata.org/prop/direct/P5125'), ('pName', 'Wikimedia outline'), ('obj', 'http://www.wikidata.org/entity/Q7112549'), ('objName', 'outline of ancient Egypt')]\n",
      "[('p', 'http://www.wikidata.org/prop/direct/P7867'), ('pName', 'category for maps'), ('obj', 'http://www.wikidata.org/entity/Q84019702'), ('objName', 'Category:Maps of Ancient Egypt')]\n",
      "[('p', 'http://www.wikidata.org/prop/direct/P6885'), ('pName', 'historical region'), ('obj', 'http://www.wikidata.org/entity/Q11041351'), ('objName', 'Nile Valley Civilizations')]\n",
      "[('p', 'http://www.wikidata.org/prop/direct/P1151'), ('pName', \"topic's main Wikimedia portal\"), ('obj', 'http://www.wikidata.org/entity/Q8440998'), ('objName', 'Portal:Ancient Egypt')]\n",
      "21\n"
     ]
    }
   ],
   "source": [
    "\n",
    "queryString = \"\"\"\n",
    "SELECT DISTINCT ?p ?pName ?obj ?objName \n",
    "WHERE {\n",
    "   wd:Q11768 ?p ?obj .\n",
    "    ?p sc:name ?pName .\n",
    "   ?obj sc:name ?objName .\n",
    "}\n",
    "LIMIT 40\n",
    "\"\"\"\n",
    "\n",
    "print(\"Results\")\n",
    "x=run_query(queryString)"
   ]
  },
  {
   "cell_type": "code",
   "execution_count": 5,
   "id": "1deabf62-f78c-4b44-9a44-d71416db9e4d",
   "metadata": {},
   "outputs": [
    {
     "name": "stdout",
     "output_type": "stream",
     "text": [
      "Results\n",
      "[('p', 'http://www.wikidata.org/prop/direct/P279'), ('pName', 'subclass of'), ('obj', 'http://www.wikidata.org/entity/Q41493'), ('objName', 'ancient history')]\n",
      "[('p', 'http://www.wikidata.org/prop/direct/P527'), ('pName', 'has part'), ('obj', 'http://www.wikidata.org/entity/Q1546344'), ('objName', 'History of Ptolemaic Egypt')]\n",
      "[('p', 'http://www.wikidata.org/prop/direct/P2348'), ('pName', 'time period'), ('obj', 'http://www.wikidata.org/entity/Q11768'), ('objName', 'Ancient Egypt')]\n",
      "[('p', 'http://www.wikidata.org/prop/direct/P1269'), ('pName', 'facet of'), ('obj', 'http://www.wikidata.org/entity/Q11768'), ('objName', 'Ancient Egypt')]\n",
      "[('p', 'http://www.wikidata.org/prop/direct/P31'), ('pName', 'instance of'), ('obj', 'http://www.wikidata.org/entity/Q17524420'), ('objName', 'aspect of history')]\n",
      "[('p', 'http://www.wikidata.org/prop/direct/P527'), ('pName', 'has part'), ('obj', 'http://www.wikidata.org/entity/Q191324'), ('objName', 'Middle Kingdom of Egypt')]\n",
      "[('p', 'http://www.wikidata.org/prop/direct/P361'), ('pName', 'part of'), ('obj', 'http://www.wikidata.org/entity/Q185301'), ('objName', 'history of Egypt')]\n",
      "[('p', 'http://www.wikidata.org/prop/direct/P910'), ('pName', \"topic's main category\"), ('obj', 'http://www.wikidata.org/entity/Q8578992'), ('objName', 'Category:History of ancient Egypt')]\n",
      "[('p', 'http://www.wikidata.org/prop/direct/P1424'), ('pName', \"topic's main template\"), ('obj', 'http://www.wikidata.org/entity/Q11010502'), ('objName', 'Template:Ancient Egypt dynasties sidebar')]\n",
      "9\n"
     ]
    }
   ],
   "source": [
    "# Q766876 history of ancient Egypt\n",
    "queryString = \"\"\"\n",
    "SELECT DISTINCT ?p ?pName ?obj ?objName \n",
    "WHERE {\n",
    "   wd:Q766876 ?p ?obj .\n",
    "    ?p sc:name ?pName .\n",
    "   ?obj sc:name ?objName .\n",
    "}\n",
    "LIMIT 40\n",
    "\"\"\"\n",
    "\n",
    "print(\"Results\")\n",
    "x=run_query(queryString)"
   ]
  },
  {
   "cell_type": "markdown",
   "id": "2a636d76-8a0b-454b-b40f-f3544c49a658",
   "metadata": {},
   "source": [
    "Final query for this task"
   ]
  },
  {
   "cell_type": "code",
   "execution_count": 7,
   "id": "07d8efbe-b4bf-4178-bcea-bdfede4edad7",
   "metadata": {},
   "outputs": [
    {
     "name": "stdout",
     "output_type": "stream",
     "text": [
      "Results\n",
      "[('ancientegypt', 'http://www.wikidata.org/entity/Q11768'), ('ancientegyptName', 'Ancient Egypt')]\n",
      "1\n"
     ]
    }
   ],
   "source": [
    "#Q11768 Ancient Egypt\n",
    "#P2348 time period\n",
    "# Q766876 history of ancient Egypt\n",
    "queryString = \"\"\"\n",
    "SELECT DISTINCT ?ancientegypt ?ancientegyptName\n",
    "WHERE {\n",
    "   wd:Q766876 wdt:P2348 ?ancientegypt .\n",
    "   ?ancientegypt sc:name ?ancientegyptName .\n",
    "}\n",
    "LIMIT 40\n",
    "\"\"\"\n",
    "\n",
    "print(\"Results\")\n",
    "x=run_query(queryString)"
   ]
  },
  {
   "cell_type": "markdown",
   "id": "92e83633",
   "metadata": {},
   "source": [
    "## Task 2\n",
    "Find the Ancient Egypt pharaohs born between 1500 BCE and 1000 BCE who had more than 8 child (the result set must be a list of triples pharaoh IRI,label and #children)."
   ]
  },
  {
   "cell_type": "code",
   "execution_count": 69,
   "id": "3e9a4d64",
   "metadata": {},
   "outputs": [
    {
     "name": "stdout",
     "output_type": "stream",
     "text": [
      "Results\n",
      "[('p', 'http://www.wikidata.org/prop/direct/P1082'), ('name', 'population')]\n",
      "[('p', 'http://www.wikidata.org/prop/direct/P131'), ('name', 'located in the administrative territorial entity')]\n",
      "[('p', 'http://www.wikidata.org/prop/direct/P1417'), ('name', 'Encyclopædia Britannica Online ID')]\n",
      "[('p', 'http://www.wikidata.org/prop/direct/P1481'), ('name', 'vici.org ID')]\n",
      "[('p', 'http://www.wikidata.org/prop/direct/P17'), ('name', 'country')]\n",
      "[('p', 'http://www.wikidata.org/prop/direct/P18'), ('name', 'image')]\n",
      "[('p', 'http://www.wikidata.org/prop/direct/P1936'), ('name', 'Digital Atlas of the Roman Empire ID')]\n",
      "[('p', 'http://www.wikidata.org/prop/direct/P1958'), ('name', 'Trismegistos Geo ID')]\n",
      "[('p', 'http://www.wikidata.org/prop/direct/P214'), ('name', 'VIAF ID')]\n",
      "[('p', 'http://www.wikidata.org/prop/direct/P227'), ('name', 'GND ID')]\n",
      "[('p', 'http://www.wikidata.org/prop/direct/P244'), ('name', 'Library of Congress authority ID')]\n",
      "[('p', 'http://www.wikidata.org/prop/direct/P2596'), ('name', 'culture')]\n",
      "[('p', 'http://www.wikidata.org/prop/direct/P31'), ('name', 'instance of')]\n",
      "[('p', 'http://www.wikidata.org/prop/direct/P373'), ('name', 'Commons category')]\n",
      "[('p', 'http://www.wikidata.org/prop/direct/P421'), ('name', 'located in time zone')]\n",
      "[('p', 'http://www.wikidata.org/prop/direct/P646'), ('name', 'Freebase ID')]\n",
      "[('p', 'http://www.wikidata.org/prop/direct/P7818'), ('name', 'French Vikidia ID')]\n",
      "[('p', 'http://www.wikidata.org/prop/direct/P8406'), ('name', 'Grove Art Online ID')]\n",
      "18\n"
     ]
    }
   ],
   "source": [
    "# write your queries\n",
    "#obj Q1066424 Meidum\n",
    "\n",
    "queryString = \"\"\"\n",
    "SELECT DISTINCT ?p ?name\n",
    "WHERE {\n",
    "   # bind something\n",
    "   wd:Q1066424 ?p ?obj .\n",
    "   # get the label\n",
    "   ?p sc:name ?name.\n",
    "}\n",
    "LIMIT 100\n",
    "\"\"\"\n",
    "\n",
    "print(\"Results\")\n",
    "x=run_query(queryString)"
   ]
  },
  {
   "cell_type": "code",
   "execution_count": 70,
   "id": "ccd4c351-60db-46b8-a7a0-4de6903d8e06",
   "metadata": {},
   "outputs": [
    {
     "name": "stdout",
     "output_type": "stream",
     "text": [
      "Results\n",
      "[('p', 'http://www.wikidata.org/prop/direct/P106'), ('name', 'occupation')]\n",
      "[('p', 'http://www.wikidata.org/prop/direct/P119'), ('name', 'place of burial')]\n",
      "[('p', 'http://www.wikidata.org/prop/direct/P1263'), ('name', 'NNDB people ID')]\n",
      "[('p', 'http://www.wikidata.org/prop/direct/P1296'), ('name', 'Gran Enciclopèdia Catalana ID')]\n",
      "[('p', 'http://www.wikidata.org/prop/direct/P1309'), ('name', 'EGAXA ID')]\n",
      "[('p', 'http://www.wikidata.org/prop/direct/P1343'), ('name', 'described by source')]\n",
      "[('p', 'http://www.wikidata.org/prop/direct/P1417'), ('name', 'Encyclopædia Britannica Online ID')]\n",
      "[('p', 'http://www.wikidata.org/prop/direct/P1711'), ('name', 'British Museum person or institution ID')]\n",
      "[('p', 'http://www.wikidata.org/prop/direct/P18'), ('name', 'image')]\n",
      "[('p', 'http://www.wikidata.org/prop/direct/P19'), ('name', 'place of birth')]\n",
      "[('p', 'http://www.wikidata.org/prop/direct/P20'), ('name', 'place of death')]\n",
      "[('p', 'http://www.wikidata.org/prop/direct/P21'), ('name', 'sex or gender')]\n",
      "[('p', 'http://www.wikidata.org/prop/direct/P213'), ('name', 'ISNI')]\n",
      "[('p', 'http://www.wikidata.org/prop/direct/P214'), ('name', 'VIAF ID')]\n",
      "[('p', 'http://www.wikidata.org/prop/direct/P2163'), ('name', 'FAST ID')]\n",
      "[('p', 'http://www.wikidata.org/prop/direct/P22'), ('name', 'father')]\n",
      "[('p', 'http://www.wikidata.org/prop/direct/P227'), ('name', 'GND ID')]\n",
      "[('p', 'http://www.wikidata.org/prop/direct/P2348'), ('name', 'time period')]\n",
      "[('p', 'http://www.wikidata.org/prop/direct/P244'), ('name', 'Library of Congress authority ID')]\n",
      "[('p', 'http://www.wikidata.org/prop/direct/P25'), ('name', 'mother')]\n",
      "[('p', 'http://www.wikidata.org/prop/direct/P26'), ('name', 'spouse')]\n",
      "[('p', 'http://www.wikidata.org/prop/direct/P27'), ('name', 'country of citizenship')]\n",
      "[('p', 'http://www.wikidata.org/prop/direct/P2924'), ('name', 'Great Russian Encyclopedia Online ID')]\n",
      "[('p', 'http://www.wikidata.org/prop/direct/P31'), ('name', 'instance of')]\n",
      "[('p', 'http://www.wikidata.org/prop/direct/P3219'), ('name', 'Encyclopædia Universalis ID')]\n",
      "[('p', 'http://www.wikidata.org/prop/direct/P3222'), ('name', 'NE.se ID')]\n",
      "[('p', 'http://www.wikidata.org/prop/direct/P3373'), ('name', 'sibling')]\n",
      "[('p', 'http://www.wikidata.org/prop/direct/P373'), ('name', 'Commons category')]\n",
      "[('p', 'http://www.wikidata.org/prop/direct/P39'), ('name', 'position held')]\n",
      "[('p', 'http://www.wikidata.org/prop/direct/P40'), ('name', 'child')]\n",
      "[('p', 'http://www.wikidata.org/prop/direct/P4212'), ('name', 'PACTOLS thesaurus ID')]\n",
      "[('p', 'http://www.wikidata.org/prop/direct/P5019'), ('name', 'Brockhaus Enzyklopädie online ID')]\n",
      "[('p', 'http://www.wikidata.org/prop/direct/P53'), ('name', 'family')]\n",
      "[('p', 'http://www.wikidata.org/prop/direct/P535'), ('name', 'Find A Grave memorial ID')]\n",
      "[('p', 'http://www.wikidata.org/prop/direct/P569'), ('name', 'date of birth')]\n",
      "[('p', 'http://www.wikidata.org/prop/direct/P570'), ('name', 'date of death')]\n",
      "[('p', 'http://www.wikidata.org/prop/direct/P6404'), ('name', \"Treccani's Dizionario di Storia ID\")]\n",
      "[('p', 'http://www.wikidata.org/prop/direct/P646'), ('name', 'Freebase ID')]\n",
      "[('p', 'http://www.wikidata.org/prop/direct/P6656'), ('name', 'BHCL ID (former scheme)')]\n",
      "[('p', 'http://www.wikidata.org/prop/direct/P7859'), ('name', 'WorldCat Identities ID')]\n",
      "[('p', 'http://www.wikidata.org/prop/direct/P9037'), ('name', 'BHCL UUID')]\n",
      "[('p', 'http://www.wikidata.org/prop/direct/P910'), ('name', \"topic's main category\")]\n",
      "[('p', 'http://www.wikidata.org/prop/direct/P97'), ('name', 'noble title')]\n",
      "43\n"
     ]
    }
   ],
   "source": [
    "#obj Q189371 Sneferu\n",
    "queryString = \"\"\"\n",
    "SELECT DISTINCT ?p ?name\n",
    "WHERE {\n",
    "   wd:Q189371 ?p ?obj .\n",
    "   ?p sc:name ?name.\n",
    "}\n",
    "LIMIT 100\n",
    "\"\"\"\n",
    "\n",
    "print(\"Results\")\n",
    "x=run_query(queryString)"
   ]
  },
  {
   "cell_type": "code",
   "execution_count": 2,
   "id": "b04fc638-3c34-4e6b-9537-d49323137e43",
   "metadata": {},
   "outputs": [
    {
     "name": "stdout",
     "output_type": "stream",
     "text": [
      "Results\n",
      "[('timeperiod', 'http://www.wikidata.org/entity/Q177819'), ('timeperiodName', 'Old Kingdom of Egypt')]\n",
      "[('timeperiod', 'http://www.wikidata.org/entity/Q11768'), ('timeperiodName', 'Ancient Egypt')]\n",
      "2\n"
     ]
    }
   ],
   "source": [
    "#Q189371 Sneferu\n",
    "#P2348 time period\n",
    "queryString = \"\"\"\n",
    "SELECT DISTINCT ?timeperiod ?timeperiodName\n",
    "WHERE {\n",
    "   wd:Q189371 wdt:P2348 ?timeperiod .\n",
    "   ?timeperiod sc:name ?timeperiodName.\n",
    "}\n",
    "LIMIT 20\n",
    "\"\"\"\n",
    "\n",
    "print(\"Results\")\n",
    "x=run_query(queryString)"
   ]
  },
  {
   "cell_type": "code",
   "execution_count": 4,
   "id": "8040d5bc-1155-48b2-b830-3e449a53b34e",
   "metadata": {},
   "outputs": [
    {
     "name": "stdout",
     "output_type": "stream",
     "text": [
      "Results\n",
      "[('sName', 'Nitocris'), ('pName', 'time period')]\n",
      "[('sName', 'Sneferu'), ('pName', 'time period')]\n",
      "[('sName', 'Djedefre'), ('pName', 'time period')]\n",
      "[('sName', 'Sanakht'), ('pName', 'time period')]\n",
      "[('sName', 'Khaba'), ('pName', 'time period')]\n",
      "[('sName', 'Shepseskaf'), ('pName', 'time period')]\n",
      "[('sName', 'Duaenre'), ('pName', 'time period')]\n",
      "[('sName', 'Nyuserre Ini'), ('pName', 'time period')]\n",
      "[('sName', 'Sekhemkhet'), ('pName', 'time period')]\n",
      "[('sName', 'Unas'), ('pName', 'time period')]\n",
      "10\n"
     ]
    }
   ],
   "source": [
    "#Q189371 Sneferu\n",
    "#P2348 time period\n",
    "queryString = \"\"\"\n",
    "SELECT DISTINCT ?sName ?pName\n",
    "WHERE {\n",
    "   ?s ?p wd:Q177819 .\n",
    "   ?s ?p wd:Q11768 .\n",
    "   ?s sc:name ?sName .\n",
    "   ?p sc:name ?pName .\n",
    "}\n",
    "LIMIT 20\n",
    "\"\"\"\n",
    "\n",
    "print(\"Results\")\n",
    "x=run_query(queryString)"
   ]
  },
  {
   "cell_type": "code",
   "execution_count": 141,
   "id": "f24c7975-02bf-48f4-839b-10931d3e76de",
   "metadata": {},
   "outputs": [
    {
     "name": "stdout",
     "output_type": "stream",
     "text": [
      "Results\n",
      "[('occupation', 'http://www.wikidata.org/entity/Q372436'), ('occupationName', 'statesperson')]\n",
      "1\n"
     ]
    }
   ],
   "source": [
    "#obj Q189371 Sneferu\n",
    "#p P106 occupation\n",
    "queryString = \"\"\"\n",
    "SELECT DISTINCT ?occupation ?occupationName\n",
    "WHERE {\n",
    "   wd:Q189371 wdt:P106 ?occupation .\n",
    "   ?occupation sc:name ?occupationName.\n",
    "}\n",
    "LIMIT 20\n",
    "\"\"\"\n",
    "\n",
    "print(\"Results\")\n",
    "x=run_query(queryString)"
   ]
  },
  {
   "cell_type": "code",
   "execution_count": 86,
   "id": "8b9f81e4-4ac7-4c13-bda8-21dab3cc685e",
   "metadata": {},
   "outputs": [
    {
     "name": "stdout",
     "output_type": "stream",
     "text": [
      "Results\n",
      "[('p', 'http://www.wikidata.org/prop/direct/P40'), ('predicate', 'child'), ('obj', 'http://www.wikidata.org/entity/Q122426'), ('objName', 'Henutsen')]\n",
      "[('p', 'http://www.wikidata.org/prop/direct/P40'), ('predicate', 'child'), ('obj', 'http://www.wikidata.org/entity/Q161904'), ('objName', 'Khufu')]\n",
      "[('p', 'http://www.wikidata.org/prop/direct/P2348'), ('predicate', 'time period'), ('obj', 'http://www.wikidata.org/entity/Q177819'), ('objName', 'Old Kingdom of Egypt')]\n",
      "[('p', 'http://www.wikidata.org/prop/direct/P53'), ('predicate', 'family'), ('obj', 'http://www.wikidata.org/entity/Q211001'), ('objName', 'Fourth Dynasty of Egypt')]\n",
      "[('p', 'http://www.wikidata.org/prop/direct/P26'), ('predicate', 'spouse'), ('obj', 'http://www.wikidata.org/entity/Q256515'), ('objName', 'Hetepheres I')]\n",
      "[('p', 'http://www.wikidata.org/prop/direct/P3373'), ('predicate', 'sibling'), ('obj', 'http://www.wikidata.org/entity/Q256515'), ('objName', 'Hetepheres I')]\n",
      "[('p', 'http://www.wikidata.org/prop/direct/P40'), ('predicate', 'child'), ('obj', 'http://www.wikidata.org/entity/Q387014'), ('objName', 'Ankhhaf')]\n",
      "[('p', 'http://www.wikidata.org/prop/direct/P40'), ('predicate', 'child'), ('obj', 'http://www.wikidata.org/entity/Q453219'), ('objName', 'Nefertkau I')]\n",
      "[('p', 'http://www.wikidata.org/prop/direct/P40'), ('predicate', 'child'), ('obj', 'http://www.wikidata.org/entity/Q464954'), ('objName', 'Meritites I')]\n",
      "[('p', 'http://www.wikidata.org/prop/direct/P40'), ('predicate', 'child'), ('obj', 'http://www.wikidata.org/entity/Q471584'), ('objName', 'Nefermaat')]\n",
      "[('p', 'http://www.wikidata.org/prop/direct/P40'), ('predicate', 'child'), ('obj', 'http://www.wikidata.org/entity/Q7244639'), ('objName', 'Princess Hetepheres')]\n",
      "[('p', 'http://www.wikidata.org/prop/direct/P40'), ('predicate', 'child'), ('obj', 'http://www.wikidata.org/entity/Q746710'), ('objName', 'Prince Rahotep')]\n",
      "[('p', 'http://www.wikidata.org/prop/direct/P40'), ('predicate', 'child'), ('obj', 'http://www.wikidata.org/entity/Q760610'), ('objName', 'Ranefer')]\n",
      "[('p', 'http://www.wikidata.org/prop/direct/P40'), ('predicate', 'child'), ('obj', 'http://www.wikidata.org/entity/Q760621'), ('objName', 'Kanefer')]\n",
      "[('p', 'http://www.wikidata.org/prop/direct/P22'), ('predicate', 'father'), ('obj', 'http://www.wikidata.org/entity/Q220240'), ('objName', 'Huni')]\n",
      "[('p', 'http://www.wikidata.org/prop/direct/P25'), ('predicate', 'mother'), ('obj', 'http://www.wikidata.org/entity/Q271665'), ('objName', 'Meresankh I')]\n",
      "[('p', 'http://www.wikidata.org/prop/direct/P3373'), ('predicate', 'sibling'), ('obj', 'http://www.wikidata.org/entity/Q271665'), ('objName', 'Meresankh I')]\n",
      "[('p', 'http://www.wikidata.org/prop/direct/P27'), ('predicate', 'country of citizenship'), ('obj', 'http://www.wikidata.org/entity/Q11768'), ('objName', 'Ancient Egypt')]\n",
      "[('p', 'http://www.wikidata.org/prop/direct/P2348'), ('predicate', 'time period'), ('obj', 'http://www.wikidata.org/entity/Q11768'), ('objName', 'Ancient Egypt')]\n",
      "[('p', 'http://www.wikidata.org/prop/direct/P97'), ('predicate', 'noble title'), ('obj', 'http://www.wikidata.org/entity/Q37110'), ('objName', 'pharaoh')]\n",
      "20\n"
     ]
    }
   ],
   "source": [
    "#obj Q189371 Sneferu\n",
    "#p P106 occupation\n",
    "queryString = \"\"\"\n",
    "SELECT DISTINCT ?p ?predicate ?obj ?objName \n",
    "WHERE {\n",
    "   wd:Q189371 ?p ?obj .\n",
    "   ?p sc:name ?predicate .\n",
    "   ?obj sc:name ?objName .\n",
    "   \n",
    "}\n",
    "LIMIT 20\n",
    "\"\"\"\n",
    "\n",
    "print(\"Results\")\n",
    "x=run_query(queryString)"
   ]
  },
  {
   "cell_type": "code",
   "execution_count": 87,
   "id": "d270611d-8a37-4b59-afbd-4d9910257fe3",
   "metadata": {},
   "outputs": [
    {
     "name": "stdout",
     "output_type": "stream",
     "text": [
      "Results\n",
      "[('s', 'http://www.wikidata.org/entity/Q151828'), ('name', 'Djet')]\n",
      "[('s', 'http://www.wikidata.org/entity/Q152375'), ('name', 'Djer')]\n",
      "[('s', 'http://www.wikidata.org/entity/Q19248'), ('name', 'Senusret III')]\n",
      "[('s', 'http://www.wikidata.org/entity/Q230774'), ('name', 'Nitocris')]\n",
      "[('s', 'http://www.wikidata.org/entity/Q263218'), ('name', 'Djedkhonsuefankh')]\n",
      "[('s', 'http://www.wikidata.org/entity/Q269265'), ('name', 'Pepi I Meryre')]\n",
      "[('s', 'http://www.wikidata.org/entity/Q320908'), ('name', 'Merenre Nemtyemsaf II')]\n",
      "[('s', 'http://www.wikidata.org/entity/Q336395'), ('name', 'Smendes')]\n",
      "[('s', 'http://www.wikidata.org/entity/Q380676'), ('name', 'Psusennes I')]\n",
      "[('s', 'http://www.wikidata.org/entity/Q428633'), ('name', 'Piankh')]\n",
      "[('s', 'http://www.wikidata.org/entity/Q434877'), ('name', 'Amenemnisu')]\n",
      "[('s', 'http://www.wikidata.org/entity/Q440496'), ('name', 'Khyan')]\n",
      "[('s', 'http://www.wikidata.org/entity/Q6198'), ('name', 'Pepi II')]\n",
      "[('s', 'http://www.wikidata.org/entity/Q705367'), ('name', 'Menkheperre')]\n",
      "[('s', 'http://www.wikidata.org/entity/Q19327'), ('name', 'Kamose')]\n",
      "[('s', 'http://www.wikidata.org/entity/Q269285'), ('name', 'Teti')]\n",
      "[('s', 'http://www.wikidata.org/entity/Q537588'), ('name', 'H...')]\n",
      "[('s', 'http://www.wikidata.org/entity/Q551453'), ('name', 'Neferkare Neby')]\n",
      "[('s', 'http://www.wikidata.org/entity/Q551466'), ('name', 'Neferkahor')]\n",
      "[('s', 'http://www.wikidata.org/entity/Q889883'), ('name', 'Djehuti')]\n",
      "[('s', 'http://www.wikidata.org/entity/Q548570'), ('name', 'Pedubast I')]\n",
      "[('s', 'http://www.wikidata.org/entity/Q592925'), ('name', 'Wahkare Khety I')]\n",
      "[('s', 'http://www.wikidata.org/entity/Q596489'), ('name', 'Iuput I')]\n",
      "[('s', 'http://www.wikidata.org/entity/Q602454'), ('name', 'Djehutyemhat')]\n",
      "[('s', 'http://www.wikidata.org/entity/Q657532'), ('name', 'Nebsenra')]\n",
      "[('s', 'http://www.wikidata.org/entity/Q673027'), ('name', 'Khéty IV')]\n",
      "[('s', 'http://www.wikidata.org/entity/Q2004727'), ('name', 'Weni the Elder')]\n",
      "[('s', 'http://www.wikidata.org/entity/Q434547'), ('name', 'Shebitku')]\n",
      "[('s', 'http://www.wikidata.org/entity/Q459153'), ('name', 'Osorkon II')]\n",
      "[('s', 'http://www.wikidata.org/entity/Q125102'), ('name', 'Necho II')]\n",
      "[('s', 'http://www.wikidata.org/entity/Q129165'), ('name', 'Xerxes I')]\n",
      "[('s', 'http://www.wikidata.org/entity/Q243692'), ('name', 'Sahure')]\n",
      "[('s', 'http://www.wikidata.org/entity/Q328763'), ('name', 'Psamtik I')]\n",
      "[('s', 'http://www.wikidata.org/entity/Q373521'), ('name', 'Psamtik II')]\n",
      "[('s', 'http://www.wikidata.org/entity/Q44387'), ('name', 'Darius I of Persia')]\n",
      "[('s', 'http://www.wikidata.org/entity/Q161904'), ('name', 'Khufu')]\n",
      "[('s', 'http://www.wikidata.org/entity/Q168261'), ('name', 'Ptolemy I Soter')]\n",
      "[('s', 'http://www.wikidata.org/entity/Q176607'), ('name', 'Horbaef')]\n",
      "[('s', 'http://www.wikidata.org/entity/Q189371'), ('name', 'Sneferu')]\n",
      "[('s', 'http://www.wikidata.org/entity/Q199861'), ('name', 'Khafra')]\n",
      "40\n"
     ]
    }
   ],
   "source": [
    "#p P97 noble title\n",
    "#obj Q37110 pharaoh\n",
    "queryString = \"\"\"\n",
    "SELECT DISTINCT ?s ?name\n",
    "WHERE {\n",
    "    ?s wdt:P97 wd:Q37110 .\n",
    "   ?s sc:name ?name.\n",
    "}\n",
    "LIMIT 40\n",
    "\"\"\"\n",
    "\n",
    "print(\"Results\")\n",
    "x=run_query(queryString)"
   ]
  },
  {
   "cell_type": "code",
   "execution_count": 93,
   "id": "c05bf781-f9f8-403d-9f92-cc25adca84ef",
   "metadata": {},
   "outputs": [
    {
     "name": "stdout",
     "output_type": "stream",
     "text": [
      "Results\n",
      "[('p', 'http://www.wikidata.org/prop/direct/P25'), ('pName', 'mother'), ('obj', 'http://www.wikidata.org/entity/Q122426'), ('objName', 'Henutsen')]\n",
      "[('p', 'http://www.wikidata.org/prop/direct/P22'), ('pName', 'father'), ('obj', 'http://www.wikidata.org/entity/Q161904'), ('objName', 'Khufu')]\n",
      "[('p', 'http://www.wikidata.org/prop/direct/P2348'), ('pName', 'time period'), ('obj', 'http://www.wikidata.org/entity/Q177819'), ('objName', 'Old Kingdom of Egypt')]\n",
      "[('p', 'http://www.wikidata.org/prop/direct/P53'), ('pName', 'family'), ('obj', 'http://www.wikidata.org/entity/Q211001'), ('objName', 'Fourth Dynasty of Egypt')]\n",
      "[('p', 'http://www.wikidata.org/prop/direct/P26'), ('pName', 'spouse'), ('obj', 'http://www.wikidata.org/entity/Q456487'), ('objName', 'Khamerernebty I')]\n",
      "[('p', 'http://www.wikidata.org/prop/direct/P3373'), ('pName', 'sibling'), ('obj', 'http://www.wikidata.org/entity/Q542742'), ('objName', 'Djedefhor')]\n",
      "[('p', 'http://www.wikidata.org/prop/direct/P119'), ('pName', 'place of burial'), ('obj', 'http://www.wikidata.org/entity/Q208358'), ('objName', 'Pyramid of Khafre')]\n",
      "[('p', 'http://www.wikidata.org/prop/direct/P1343'), ('pName', 'described by source'), ('obj', 'http://www.wikidata.org/entity/Q1138524'), ('objName', 'Paulys Realenzyklopädie der klassischen Altertumswissenschaft')]\n",
      "[('p', 'http://www.wikidata.org/prop/direct/P27'), ('pName', 'country of citizenship'), ('obj', 'http://www.wikidata.org/entity/Q11768'), ('objName', 'Ancient Egypt')]\n",
      "[('p', 'http://www.wikidata.org/prop/direct/P106'), ('pName', 'occupation'), ('obj', 'http://www.wikidata.org/entity/Q2304859'), ('objName', 'sovereign')]\n",
      "[('p', 'http://www.wikidata.org/prop/direct/P1343'), ('pName', 'described by source'), ('obj', 'http://www.wikidata.org/entity/Q3181656'), ('objName', 'The Nuttall Encyclopædia')]\n",
      "[('p', 'http://www.wikidata.org/prop/direct/P97'), ('pName', 'noble title'), ('obj', 'http://www.wikidata.org/entity/Q37110'), ('objName', 'pharaoh')]\n",
      "[('p', 'http://www.wikidata.org/prop/direct/P39'), ('pName', 'position held'), ('obj', 'http://www.wikidata.org/entity/Q37110'), ('objName', 'pharaoh')]\n",
      "[('p', 'http://www.wikidata.org/prop/direct/P1343'), ('pName', 'described by source'), ('obj', 'http://www.wikidata.org/entity/Q46002746'), ('objName', 'Dictionary of African Biography')]\n",
      "[('p', 'http://www.wikidata.org/prop/direct/P31'), ('pName', 'instance of'), ('obj', 'http://www.wikidata.org/entity/Q5'), ('objName', 'human')]\n",
      "[('p', 'http://www.wikidata.org/prop/direct/P1343'), ('pName', 'described by source'), ('obj', 'http://www.wikidata.org/entity/Q602358'), ('objName', 'Brockhaus and Efron Encyclopedic Dictionary')]\n",
      "[('p', 'http://www.wikidata.org/prop/direct/P21'), ('pName', 'sex or gender'), ('obj', 'http://www.wikidata.org/entity/Q6581097'), ('objName', 'male')]\n",
      "[('p', 'http://www.wikidata.org/prop/direct/P26'), ('pName', 'spouse'), ('obj', 'http://www.wikidata.org/entity/Q469182'), ('objName', 'Hekenuhedjet')]\n",
      "[('p', 'http://www.wikidata.org/prop/direct/P40'), ('pName', 'child'), ('obj', 'http://www.wikidata.org/entity/Q200986'), ('objName', 'Menkaure')]\n",
      "[('p', 'http://www.wikidata.org/prop/direct/P40'), ('pName', 'child'), ('obj', 'http://www.wikidata.org/entity/Q456700'), ('objName', 'Khamerernebty II')]\n",
      "[('p', 'http://www.wikidata.org/prop/direct/P40'), ('pName', 'child'), ('obj', 'http://www.wikidata.org/entity/Q1250015'), ('objName', 'Duaenre')]\n",
      "[('p', 'http://www.wikidata.org/prop/direct/P26'), ('pName', 'spouse'), ('obj', 'http://www.wikidata.org/entity/Q267589'), ('objName', 'Meresankh III')]\n",
      "[('p', 'http://www.wikidata.org/prop/direct/P40'), ('pName', 'child'), ('obj', 'http://www.wikidata.org/entity/Q6095558'), ('objName', 'Iunre')]\n",
      "[('p', 'http://www.wikidata.org/prop/direct/P40'), ('pName', 'child'), ('obj', 'http://www.wikidata.org/entity/Q769482'), ('objName', 'Nebemakhet')]\n",
      "[('p', 'http://www.wikidata.org/prop/direct/P40'), ('pName', 'child'), ('obj', 'http://www.wikidata.org/entity/Q84959355'), ('objName', 'Shepsetkau')]\n",
      "[('p', 'http://www.wikidata.org/prop/direct/P40'), ('pName', 'child'), ('obj', 'http://www.wikidata.org/entity/Q364562'), ('objName', 'Iunmin I')]\n",
      "[('p', 'http://www.wikidata.org/prop/direct/P40'), ('pName', 'child'), ('obj', 'http://www.wikidata.org/entity/Q204235'), ('objName', 'Nikaure')]\n",
      "[('p', 'http://www.wikidata.org/prop/direct/P26'), ('pName', 'spouse'), ('obj', 'http://www.wikidata.org/entity/Q299470'), ('objName', 'Persenet')]\n",
      "[('p', 'http://www.wikidata.org/prop/direct/P40'), ('pName', 'child'), ('obj', 'http://www.wikidata.org/entity/Q3577093'), ('objName', 'Ankhmare')]\n",
      "[('p', 'http://www.wikidata.org/prop/direct/P910'), ('pName', \"topic's main category\"), ('obj', 'http://www.wikidata.org/entity/Q6265280'), ('objName', 'Category:Khafra')]\n",
      "30\n"
     ]
    }
   ],
   "source": [
    "#p P106 occupation\n",
    "#p P97 noble title\n",
    "#obj Q37110 pharaoh\n",
    "#p Q199861 Khafra\n",
    "queryString = \"\"\"\n",
    "SELECT DISTINCT ?p ?pName ?obj ?objName\n",
    "WHERE {\n",
    "    wd:Q199861 ?p ?obj .\n",
    "   ?p sc:name ?pName.    \n",
    "   ?obj sc:name ?objName.\n",
    "}\n",
    "LIMIT 40\n",
    "\"\"\"\n",
    "\n",
    "print(\"Results\")\n",
    "x=run_query(queryString)"
   ]
  },
  {
   "cell_type": "code",
   "execution_count": 133,
   "id": "e7516e51-483e-41f3-b754-56c41f831790",
   "metadata": {},
   "outputs": [
    {
     "name": "stdout",
     "output_type": "stream",
     "text": [
      "Results\n",
      "[('p', 'http://www.wikidata.org/prop/direct/P25'), ('pName', 'mother'), ('obj', 'http://www.wikidata.org/entity/Q1216110'), ('objName', 'Nodjmet')]\n",
      "[('p', 'http://www.wikidata.org/prop/direct/P40'), ('pName', 'child'), ('obj', 'http://www.wikidata.org/entity/Q434877'), ('objName', 'Amenemnisu')]\n",
      "[('p', 'http://www.wikidata.org/prop/direct/P27'), ('pName', 'country of citizenship'), ('obj', 'http://www.wikidata.org/entity/Q11768'), ('objName', 'Ancient Egypt')]\n",
      "[('p', 'http://www.wikidata.org/prop/direct/P39'), ('pName', 'position held'), ('obj', 'http://www.wikidata.org/entity/Q37110'), ('objName', 'pharaoh')]\n",
      "[('p', 'http://www.wikidata.org/prop/direct/P97'), ('pName', 'noble title'), ('obj', 'http://www.wikidata.org/entity/Q37110'), ('objName', 'pharaoh')]\n",
      "[('p', 'http://www.wikidata.org/prop/direct/P106'), ('pName', 'occupation'), ('obj', 'http://www.wikidata.org/entity/Q372436'), ('objName', 'statesperson')]\n",
      "[('p', 'http://www.wikidata.org/prop/direct/P31'), ('pName', 'instance of'), ('obj', 'http://www.wikidata.org/entity/Q5'), ('objName', 'human')]\n",
      "[('p', 'http://www.wikidata.org/prop/direct/P21'), ('pName', 'sex or gender'), ('obj', 'http://www.wikidata.org/entity/Q6581097'), ('objName', 'male')]\n",
      "[('p', 'http://www.wikidata.org/prop/direct/P53'), ('pName', 'family'), ('obj', 'http://www.wikidata.org/entity/Q748151'), ('objName', 'Twenty-first Dynasty of Egypt')]\n",
      "[('p', 'http://www.wikidata.org/prop/direct/P119'), ('pName', 'place of burial'), ('obj', 'http://www.wikidata.org/entity/Q210598'), ('objName', 'Tanis')]\n",
      "[('p', 'http://www.wikidata.org/prop/direct/P26'), ('pName', 'spouse'), ('obj', 'http://www.wikidata.org/entity/Q1318171'), ('objName', 'Tentamun')]\n",
      "[('p', 'http://www.wikidata.org/prop/direct/P22'), ('pName', 'father'), ('obj', 'http://www.wikidata.org/entity/Q558433'), ('objName', 'Herihor')]\n",
      "12\n"
     ]
    }
   ],
   "source": [
    "#P106 occupation\n",
    "#P97 noble title\n",
    "#Q37110 pharaoh\n",
    "#Q199861 Khafra\n",
    "#Q336395 Smendes\n",
    "queryString = \"\"\"\n",
    "SELECT DISTINCT ?p ?pName ?obj ?objName\n",
    "WHERE {\n",
    "    wd:Q336395 ?p ?obj .\n",
    "   ?p sc:name ?pName.    \n",
    "   ?obj sc:name ?objName.\n",
    "}\n",
    "LIMIT 40\n",
    "\"\"\"\n",
    "\n",
    "print(\"Results\")\n",
    "x=run_query(queryString)"
   ]
  },
  {
   "cell_type": "code",
   "execution_count": 167,
   "id": "53442666-7068-4d47-8125-199bb997e21d",
   "metadata": {},
   "outputs": [
    {
     "name": "stdout",
     "output_type": "stream",
     "text": [
      "Results\n",
      "[('pharaohName', 'Sneferu'), ('numofchild', '13')]\n",
      "[('pharaohName', 'Darius I of Persia'), ('numofchild', '9')]\n",
      "[('pharaohName', 'Seqenenre Tao'), ('numofchild', '9')]\n",
      "[('pharaohName', 'Ptolemy I Soter'), ('numofchild', '9')]\n",
      "4\n"
     ]
    }
   ],
   "source": [
    "#children number of pharaohs > 8\n",
    "# Q11768 Ancient Egypt\n",
    "\n",
    "\n",
    "queryString = \"\"\"\n",
    "SELECT ?pharaohName  (COUNT(?childName) AS ?numofchild)\n",
    "WHERE {\n",
    "    ?pharaoh wdt:P97 wd:Q37110 ;\n",
    "        sc:name ?pharaohName ;\n",
    "        wdt:P2348 wd:Q11768 ;\n",
    "        wdt:P40 ?childName .\n",
    "\n",
    "}\n",
    "GROUP BY ?pharaohName \n",
    "HAVING (COUNT(?childName) > 8)\n",
    "ORDER BY DESC (?numofchild)\n",
    "\n",
    "LIMIT 20\n",
    "\"\"\"\n",
    "\n",
    "print(\"Results\")\n",
    "x=run_query(queryString)"
   ]
  },
  {
   "cell_type": "code",
   "execution_count": 175,
   "id": "e55bf7a0-15fb-487e-8460-d29b687b51a5",
   "metadata": {},
   "outputs": [
    {
     "name": "stdout",
     "output_type": "stream",
     "text": [
      "Results\n",
      "[('pName', 'instance of'), ('objName', 'ancient civilization')]\n",
      "[('pName', 'history of topic'), ('objName', 'history of ancient Egypt')]\n",
      "[('pName', 'follows'), ('objName', 'Predynastic Period of Egypt')]\n",
      "[('pName', 'described by source'), ('objName', 'Paulys Realenzyklopädie der klassischen Altertumswissenschaft')]\n",
      "[('pName', 'continent'), ('objName', 'Africa')]\n",
      "[('pName', 'described by source'), ('objName', 'Great Soviet Encyclopedia (1969–1978)')]\n",
      "[('pName', 'historical region'), ('objName', 'ancient Near East')]\n",
      "[('pName', 'instance of'), ('objName', 'historical country')]\n",
      "[('pName', 'instance of'), ('objName', 'cultural region')]\n",
      "[('pName', 'described by source'), ('objName', 'Jewish Encyclopedia of Brockhaus and Efron')]\n",
      "[('pName', 'on focus list of Wikimedia project'), ('objName', 'Wikipedia:Vital articles')]\n",
      "[('pName', 'instance of'), ('objName', 'historical region')]\n",
      "[('pName', 'follows'), ('objName', 'Prehistoric Egypt')]\n",
      "[('pName', 'studied by'), ('objName', 'ancient Near Eastern studies')]\n",
      "[('pName', 'geography of topic'), ('objName', 'geography of Ancient Egypt')]\n",
      "[('pName', 'economy of topic'), ('objName', 'economy of Ancient Egypt')]\n",
      "[('pName', \"topic's main category\"), ('objName', 'Category:Ancient Egypt')]\n",
      "[('pName', 'Wikimedia outline'), ('objName', 'outline of ancient Egypt')]\n",
      "[('pName', 'category for maps'), ('objName', 'Category:Maps of Ancient Egypt')]\n",
      "[('pName', 'historical region'), ('objName', 'Nile Valley Civilizations')]\n",
      "20\n"
     ]
    }
   ],
   "source": [
    "#Q11768 Ancient Egypt\n",
    "\n",
    "queryString = \"\"\"\n",
    "SELECT DISTINCT ?pName ?objName\n",
    "WHERE {\n",
    "    wd:Q11768 ?p ?obj .\n",
    "    ?p sc:name ?pName.\n",
    "   ?obj sc:name ?objName.\n",
    "}\n",
    "LIMIT 20\n",
    "\"\"\"\n",
    "\n",
    "print(\"Results\")\n",
    "x=run_query(queryString)"
   ]
  },
  {
   "cell_type": "code",
   "execution_count": 177,
   "id": "1672a36c-5bfd-4d5d-bc36-cb4ff7841261",
   "metadata": {},
   "outputs": [
    {
     "name": "stdout",
     "output_type": "stream",
     "text": [
      "Results\n",
      "[('sName', 'mumia'), ('pName', 'source of material')]\n",
      "[('sName', 'nomarch'), ('pName', 'applies to jurisdiction')]\n",
      "[('sName', 'pharaoh'), ('pName', 'applies to jurisdiction')]\n",
      "[('sName', 'Dioiketes'), ('pName', 'applies to jurisdiction')]\n",
      "[('sName', 'Armenian Egyptology Centre'), ('pName', 'field of work')]\n",
      "[('sName', 'Eugene Cruz-Uribe'), ('pName', 'field of work')]\n",
      "[('sName', 'Gratien-Michel Ollivier-Beauregard'), ('pName', 'field of work')]\n",
      "[('sName', 'Nikephoros'), ('pName', 'field of work')]\n",
      "[('sName', 'Roger Rémondon'), ('pName', 'field of work')]\n",
      "[('sName', 'Amum-Her-Khepesh-Ef'), ('pName', 'place of burial')]\n",
      "[('sName', 'Magic in Ancient Egypt'), ('pName', 'facet of')]\n",
      "[('sName', 'history of ancient Egypt'), ('pName', 'facet of')]\n",
      "[('sName', 'geography of Ancient Egypt'), ('pName', 'facet of')]\n",
      "[('sName', 'art of ancient Egypt'), ('pName', 'facet of')]\n",
      "[('sName', 'Ancient Egyptian philosophy'), ('pName', 'facet of')]\n",
      "[('sName', 'Tutmania'), ('pName', 'facet of')]\n",
      "[('sName', 'Egyptomania'), ('pName', 'facet of')]\n",
      "[('sName', 'beauty and cosmetics in Ancient Egypt'), ('pName', 'facet of')]\n",
      "[('sName', 'Ancient Egyptian race controversy'), ('pName', 'facet of')]\n",
      "[('sName', 'Egyptian geometry'), ('pName', 'facet of')]\n",
      "20\n"
     ]
    }
   ],
   "source": [
    "#Q11768 Ancient Egypt\n",
    "\n",
    "queryString = \"\"\"\n",
    "SELECT DISTINCT ?sName ?pName\n",
    "WHERE {\n",
    "    ?s ?p wd:Q11768 .\n",
    "    ?s sc:name ?sName.\n",
    "   ?p sc:name ?pName.\n",
    "}\n",
    "LIMIT 20\n",
    "\"\"\"\n",
    "\n",
    "print(\"Results\")\n",
    "x=run_query(queryString)"
   ]
  },
  {
   "cell_type": "code",
   "execution_count": 174,
   "id": "9b131b78-9498-460e-9696-221d111b8b9e",
   "metadata": {},
   "outputs": [
    {
     "name": "stdout",
     "output_type": "stream",
     "text": [
      "Results\n",
      "Empty\n"
     ]
    }
   ],
   "source": [
    "#p P569 date of birth\n",
    "#p P106 occupation\n",
    "#p P97 noble title\n",
    "#obj Q37110 pharaoh\n",
    "\n",
    "queryString = \"\"\"\n",
    "SELECT ?birthdate\n",
    "WHERE {\n",
    "    wd:Q44387 wdt:P569 ?dateofbirth .\n",
    "   ?dateofbirth sc:name ?birthdate.\n",
    "}\n",
    "LIMIT 40\n",
    "\"\"\"\n",
    "\n",
    "print(\"Results\")\n",
    "x=run_query(queryString)\n"
   ]
  },
  {
   "cell_type": "code",
   "execution_count": 9,
   "id": "1ba799a1-65d1-4851-87de-fb24403dc0ee",
   "metadata": {},
   "outputs": [
    {
     "name": "stdout",
     "output_type": "stream",
     "text": [
      "Results\n",
      "[('pharaohName', 'Neferkahor'), ('timeperiod', 'http://www.wikidata.org/entity/Q232211'), ('timeperiodName', 'First Intermediate Period of Egypt')]\n",
      "[('pharaohName', 'Djehutyemhat'), ('timeperiod', 'http://www.wikidata.org/entity/Q748170'), ('timeperiodName', 'Twenty-third Dynasty of Egypt')]\n",
      "[('pharaohName', 'Nimlot of Hermopolis'), ('timeperiod', 'http://www.wikidata.org/entity/Q748170'), ('timeperiodName', 'Twenty-third Dynasty of Egypt')]\n",
      "[('pharaohName', 'Necho II'), ('timeperiod', 'http://www.wikidata.org/entity/Q621917'), ('timeperiodName', 'Late Period of ancient Egypt')]\n",
      "[('pharaohName', 'Nitocris'), ('timeperiod', 'http://www.wikidata.org/entity/Q177819'), ('timeperiodName', 'Old Kingdom of Egypt')]\n",
      "[('pharaohName', 'Pepi I Meryre'), ('timeperiod', 'http://www.wikidata.org/entity/Q177819'), ('timeperiodName', 'Old Kingdom of Egypt')]\n",
      "[('pharaohName', 'Merenre Nemtyemsaf II'), ('timeperiod', 'http://www.wikidata.org/entity/Q177819'), ('timeperiodName', 'Old Kingdom of Egypt')]\n",
      "[('pharaohName', 'Pepi II'), ('timeperiod', 'http://www.wikidata.org/entity/Q177819'), ('timeperiodName', 'Old Kingdom of Egypt')]\n",
      "[('pharaohName', 'Khufu'), ('timeperiod', 'http://www.wikidata.org/entity/Q177819'), ('timeperiodName', 'Old Kingdom of Egypt')]\n",
      "[('pharaohName', 'Sneferu'), ('timeperiod', 'http://www.wikidata.org/entity/Q177819'), ('timeperiodName', 'Old Kingdom of Egypt')]\n",
      "[('pharaohName', 'Khafra'), ('timeperiod', 'http://www.wikidata.org/entity/Q177819'), ('timeperiodName', 'Old Kingdom of Egypt')]\n",
      "[('pharaohName', 'Djedefre'), ('timeperiod', 'http://www.wikidata.org/entity/Q177819'), ('timeperiodName', 'Old Kingdom of Egypt')]\n",
      "[('pharaohName', 'Sanakht'), ('timeperiod', 'http://www.wikidata.org/entity/Q177819'), ('timeperiodName', 'Old Kingdom of Egypt')]\n",
      "[('pharaohName', 'Khaba'), ('timeperiod', 'http://www.wikidata.org/entity/Q177819'), ('timeperiodName', 'Old Kingdom of Egypt')]\n",
      "[('pharaohName', 'Djoser'), ('timeperiod', 'http://www.wikidata.org/entity/Q177819'), ('timeperiodName', 'Old Kingdom of Egypt')]\n",
      "[('pharaohName', 'Menkaure'), ('timeperiod', 'http://www.wikidata.org/entity/Q177819'), ('timeperiodName', 'Old Kingdom of Egypt')]\n",
      "[('pharaohName', 'Shepseskaf'), ('timeperiod', 'http://www.wikidata.org/entity/Q177819'), ('timeperiodName', 'Old Kingdom of Egypt')]\n",
      "[('pharaohName', 'Merenre Nemtyemsaf I'), ('timeperiod', 'http://www.wikidata.org/entity/Q177819'), ('timeperiodName', 'Old Kingdom of Egypt')]\n",
      "[('pharaohName', 'Nyuserre Ini'), ('timeperiod', 'http://www.wikidata.org/entity/Q177819'), ('timeperiodName', 'Old Kingdom of Egypt')]\n",
      "[('pharaohName', 'Userkaf'), ('timeperiod', 'http://www.wikidata.org/entity/Q177819'), ('timeperiodName', 'Old Kingdom of Egypt')]\n",
      "20\n"
     ]
    }
   ],
   "source": [
    "\n",
    "queryString = \"\"\"\n",
    "SELECT DISTINCT ?pharaohName ?timeperiod ?timeperiodName\n",
    "WHERE {\n",
    "    ?pharaoh wdt:P97 wd:Q37110 ;\n",
    "        wdt:P2348 ?timeperiod ;\n",
    "        sc:name ?pharaohName .\n",
    "   ?timeperiod sc:name ?timeperiodName .\n",
    "}\n",
    "LIMIT 20\n",
    "\"\"\"\n",
    "\n",
    "print(\"Results\")\n",
    "x=run_query(queryString)"
   ]
  },
  {
   "cell_type": "code",
   "execution_count": 12,
   "id": "b40216e9-5b30-409e-bf72-c13794412b20",
   "metadata": {},
   "outputs": [
    {
     "name": "stdout",
     "output_type": "stream",
     "text": [
      "Results\n",
      "[('s', 'http://www.wikidata.org/entity/Q191324'), ('sName', 'Middle Kingdom of Egypt'), ('p', 'http://www.wikidata.org/prop/direct/P155'), ('pName', 'follows')]\n",
      "[('s', 'http://www.wikidata.org/entity/Q177819'), ('sName', 'Old Kingdom of Egypt'), ('p', 'http://www.wikidata.org/prop/direct/P156'), ('pName', 'followed by')]\n",
      "[('s', 'http://www.wikidata.org/entity/Q429981'), ('sName', 'Tenth Dynasty of Egypt'), ('p', 'http://www.wikidata.org/prop/direct/P17'), ('pName', 'country')]\n",
      "[('s', 'http://www.wikidata.org/entity/Q64211842'), ('sName', 'Funerary stele of Djefi-015197'), ('p', 'http://www.wikidata.org/prop/direct/P2348'), ('pName', 'time period')]\n",
      "[('s', 'http://www.wikidata.org/entity/Q551466'), ('sName', 'Neferkahor'), ('p', 'http://www.wikidata.org/prop/direct/P2348'), ('pName', 'time period')]\n",
      "[('s', 'http://www.wikidata.org/entity/Q447117'), ('sName', 'Old Egyptian'), ('p', 'http://www.wikidata.org/prop/direct/P2596'), ('pName', 'culture')]\n",
      "[('s', 'http://www.wikidata.org/entity/Q8949162'), ('sName', 'Category:First Intermediate Period of Egypt'), ('p', 'http://www.wikidata.org/prop/direct/P301'), ('pName', \"category's main topic\")]\n",
      "7\n"
     ]
    }
   ],
   "source": [
    "#Q232211 First Intermediate Period of Egypt\n",
    "\n",
    "queryString = \"\"\"\n",
    "SELECT DISTINCT ?s ?sName ?p ?pName\n",
    "WHERE {\n",
    "    ?s ?p wd:Q232211 .\n",
    "    ?s sc:name ?sName .\n",
    "    ?p sc:name ?pName .\n",
    "}\n",
    "LIMIT 20\n",
    "\"\"\"\n",
    "\n",
    "print(\"Results\")\n",
    "x=run_query(queryString)"
   ]
  },
  {
   "cell_type": "code",
   "execution_count": 13,
   "id": "973ae7d4-04d2-4555-9f15-7e4eb72a37c6",
   "metadata": {},
   "outputs": [
    {
     "name": "stdout",
     "output_type": "stream",
     "text": [
      "Results\n",
      "[('p', 'http://www.wikidata.org/prop/direct/P155'), ('pName', 'follows'), ('obj', 'http://www.wikidata.org/entity/Q177819'), ('objName', 'Old Kingdom of Egypt')]\n",
      "[('p', 'http://www.wikidata.org/prop/direct/P361'), ('pName', 'part of'), ('obj', 'http://www.wikidata.org/entity/Q766876'), ('objName', 'history of ancient Egypt')]\n",
      "[('p', 'http://www.wikidata.org/prop/direct/P31'), ('pName', 'instance of'), ('obj', 'http://www.wikidata.org/entity/Q11514315'), ('objName', 'historical period')]\n",
      "[('p', 'http://www.wikidata.org/prop/direct/P156'), ('pName', 'followed by'), ('obj', 'http://www.wikidata.org/entity/Q191324'), ('objName', 'Middle Kingdom of Egypt')]\n",
      "[('p', 'http://www.wikidata.org/prop/direct/P910'), ('pName', \"topic's main category\"), ('obj', 'http://www.wikidata.org/entity/Q8949162'), ('objName', 'Category:First Intermediate Period of Egypt')]\n",
      "5\n"
     ]
    }
   ],
   "source": [
    "#Q232211 First Intermediate Period of Egypt\n",
    "\n",
    "queryString = \"\"\"\n",
    "SELECT DISTINCT ?p ?pName ?obj ?objName \n",
    "WHERE {\n",
    "    wd:Q232211 ?p  ?obj.\n",
    "    ?p sc:name ?pName .\n",
    "    ?obj sc:name ?objName .\n",
    "}\n",
    "LIMIT 20\n",
    "\"\"\"\n",
    "\n",
    "print(\"Results\")\n",
    "x=run_query(queryString)"
   ]
  },
  {
   "cell_type": "code",
   "execution_count": 25,
   "id": "ec327c73-0bf9-4a8d-a7c5-58941bd9af90",
   "metadata": {},
   "outputs": [
    {
     "name": "stdout",
     "output_type": "stream",
     "text": [
      "Results\n",
      "[('obj', 'http://www.wikidata.org/entity/Q191324'), ('objName', 'Middle Kingdom of Egypt')]\n",
      "1\n"
     ]
    }
   ],
   "source": [
    "#Q232211 First Intermediate Period of Egypt followed by\n",
    "queryString = \"\"\"\n",
    "SELECT DISTINCT ?obj ?objName \n",
    "WHERE {\n",
    "    wd:Q232211 wdt:P156  ?obj.\n",
    "    ?obj sc:name ?objName .\n",
    "}\n",
    "LIMIT 20\n",
    "\"\"\"\n",
    "\n",
    "print(\"Results\")\n",
    "x=run_query(queryString)"
   ]
  },
  {
   "cell_type": "code",
   "execution_count": 17,
   "id": "a3a13a53-02a8-45a2-817f-9209263e8108",
   "metadata": {},
   "outputs": [
    {
     "name": "stdout",
     "output_type": "stream",
     "text": [
      "Results\n",
      "[('obj', 'http://www.wikidata.org/entity/Q206715'), ('objName', 'Second Intermediate Period of Egypt')]\n",
      "1\n"
     ]
    }
   ],
   "source": [
    "#Q191324 Middle Kingdom of Egypt followed by\n",
    "\n",
    "queryString = \"\"\"\n",
    "SELECT DISTINCT ?obj ?objName \n",
    "WHERE {\n",
    "    wd:Q191324 wdt:P156  ?obj.\n",
    "    ?obj sc:name ?objName .\n",
    "}\n",
    "LIMIT 20\n",
    "\"\"\"\n",
    "\n",
    "print(\"Results\")\n",
    "x=run_query(queryString)"
   ]
  },
  {
   "cell_type": "code",
   "execution_count": 18,
   "id": "f4429248-b82b-4c7a-b2a9-f5a68989a3b9",
   "metadata": {},
   "outputs": [
    {
     "name": "stdout",
     "output_type": "stream",
     "text": [
      "Results\n",
      "[('obj', 'http://www.wikidata.org/entity/Q180568'), ('objName', 'New Kingdom of Egypt')]\n",
      "1\n"
     ]
    }
   ],
   "source": [
    "#Q206715 Second Intermediate Period of Egypt followed by\n",
    "\n",
    "queryString = \"\"\"\n",
    "SELECT DISTINCT ?obj ?objName \n",
    "WHERE {\n",
    "    wd:Q206715 wdt:P156  ?obj.\n",
    "    ?obj sc:name ?objName .\n",
    "}\n",
    "LIMIT 20\n",
    "\"\"\"\n",
    "\n",
    "print(\"Results\")\n",
    "x=run_query(queryString)"
   ]
  },
  {
   "cell_type": "code",
   "execution_count": 24,
   "id": "345794af-a573-4d20-9da0-2be6f88f8e23",
   "metadata": {},
   "outputs": [
    {
     "name": "stdout",
     "output_type": "stream",
     "text": [
      "Results\n",
      "[('pharaohName', 'Ay'), ('p', 'http://www.wikidata.org/prop/direct/P2348'), ('pName', 'time period'), ('childName', 'http://www.wikidata.org/entity/Q40930')]\n",
      "[('pharaohName', 'Ay'), ('p', 'http://www.wikidata.org/prop/direct/P2348'), ('pName', 'time period'), ('childName', 'http://www.wikidata.org/entity/Q273979')]\n",
      "[('pharaohName', 'Thutmose II'), ('p', 'http://www.wikidata.org/prop/direct/P2348'), ('pName', 'time period'), ('childName', 'http://www.wikidata.org/entity/Q157899')]\n",
      "[('pharaohName', 'Thutmose II'), ('p', 'http://www.wikidata.org/prop/direct/P2348'), ('pName', 'time period'), ('childName', 'http://www.wikidata.org/entity/Q242405')]\n",
      "[('pharaohName', 'Thutmose I'), ('p', 'http://www.wikidata.org/prop/direct/P2348'), ('pName', 'time period'), ('childName', 'http://www.wikidata.org/entity/Q158025')]\n",
      "[('pharaohName', 'Thutmose I'), ('p', 'http://www.wikidata.org/prop/direct/P2348'), ('pName', 'time period'), ('childName', 'http://www.wikidata.org/entity/Q129234')]\n",
      "[('pharaohName', 'Thutmose I'), ('p', 'http://www.wikidata.org/prop/direct/P2348'), ('pName', 'time period'), ('childName', 'http://www.wikidata.org/entity/Q329321')]\n",
      "[('pharaohName', 'Thutmose I'), ('p', 'http://www.wikidata.org/prop/direct/P2348'), ('pName', 'time period'), ('childName', 'http://www.wikidata.org/entity/Q432688')]\n",
      "[('pharaohName', 'Thutmose I'), ('p', 'http://www.wikidata.org/prop/direct/P2348'), ('pName', 'time period'), ('childName', 'http://www.wikidata.org/entity/Q442247')]\n",
      "9\n"
     ]
    }
   ],
   "source": [
    "#Q180568 New Kingdom of Egypt\n",
    "#pharaoh during New Kingdom of Egypt and their child\n",
    "\n",
    "queryString = \"\"\"\n",
    "SELECT DISTINCT ?pharaohName ?p ?pName ?childName\n",
    "WHERE {\n",
    "    ?pharaoh wdt:P97 wd:Q37110 ;\n",
    "        sc:name ?pharaohName ;\n",
    "        ?p wd:Q180568 ;\n",
    "        wdt:P40 ?childName .\n",
    "    ?p sc:name ?pName .\n",
    "}\n",
    "LIMIT 20\n",
    "\"\"\"\n",
    "\n",
    "print(\"Results\")\n",
    "x=run_query(queryString)"
   ]
  },
  {
   "cell_type": "code",
   "execution_count": 10,
   "id": "f7fab537-ee35-4e5d-a10c-540df1d51e50",
   "metadata": {},
   "outputs": [
    {
     "name": "stdout",
     "output_type": "stream",
     "text": [
      "Results\n",
      "Empty\n"
     ]
    }
   ],
   "source": [
    "queryString = \"\"\"\n",
    "SELECT ?pharaohName ?pName ?oName\n",
    "WHERE {\n",
    "    ?pharaoh wdt:P97 wd:Q37110 ;\n",
    "        sc:name ?pharaohName ;\n",
    "        ?p ?o ;\n",
    "        wdt:P40 ?child .\n",
    "    ?p sc:name ?pName .\n",
    "    ?o sc:name ?oName .\n",
    "    ?child sc:name ?childName .\n",
    "    FILTER (datatype(?oName) = xsd:dateTime)\n",
    "}\n",
    "LIMIT 20\n",
    "\"\"\"\n",
    "\n",
    "print(\"Results\")\n",
    "x=run_query(queryString)"
   ]
  },
  {
   "cell_type": "code",
   "execution_count": 19,
   "id": "f6fc3e10-7224-4777-8944-967acd2b0b0e",
   "metadata": {},
   "outputs": [
    {
     "name": "stdout",
     "output_type": "stream",
     "text": [
      "Results\n",
      "[('pharaohName', 'Ramesses II'), ('birthdate', '-1302-01-01T00:00:00Z'), ('numchild', '18')]\n",
      "[('pharaohName', 'Khufu'), ('birthdate', '-2700-01-01T00:00:00Z'), ('numchild', '14')]\n",
      "[('pharaohName', 'Sneferu'), ('birthdate', '-2700-01-01T00:00:00Z'), ('numchild', '13')]\n",
      "[('pharaohName', 'Amenhotep III'), ('birthdate', '-1403-01-01T00:00:00Z'), ('numchild', '10')]\n",
      "[('pharaohName', 'Ramesses III'), ('birthdate', '-1216-01-01T00:00:00Z'), ('numchild', '10')]\n",
      "[('pharaohName', 'Akhenaten'), ('birthdate', '-1400-01-01T00:00:00Z'), ('numchild', '9')]\n",
      "[('pharaohName', 'Darius I of Persia'), ('birthdate', '-549-01-01T00:00:00Z'), ('numchild', '9')]\n",
      "[('pharaohName', 'Khafra'), ('birthdate', '-2550-01-01T00:00:00Z'), ('numchild', '9')]\n",
      "[('pharaohName', 'Ahmose I'), ('birthdate', '-1560-01-01T00:00:00Z'), ('numchild', '9')]\n",
      "[('pharaohName', 'Seqenenre Tao'), ('birthdate', '-1600-01-01T00:00:00Z'), ('numchild', '9')]\n",
      "[('pharaohName', 'Ptolemy I Soter'), ('birthdate', '-365-01-01T00:00:00Z'), ('numchild', '9')]\n",
      "[('pharaohName', 'Thutmose III'), ('birthdate', '-1480-01-01T00:00:00Z'), ('numchild', '8')]\n",
      "[('pharaohName', 'Amenhotep II'), ('birthdate', '-1401-01-01T00:00:00Z'), ('numchild', '8')]\n",
      "[('pharaohName', 'Pinedjem I'), ('birthdate', '-1200-01-01T00:00:00Z'), ('numchild', '8')]\n",
      "[('pharaohName', 'Ptolemy VIII Physcon'), ('birthdate', '-181-01-01T00:00:00Z'), ('numchild', '7')]\n",
      "[('pharaohName', 'Xerxes I'), ('birthdate', '-518-01-01T00:00:00Z'), ('numchild', '6')]\n",
      "[('pharaohName', 'Thutmose IV'), ('birthdate', '-1500-01-01T00:00:00Z'), ('numchild', '6')]\n",
      "[('pharaohName', 'Ptolemy XII Auletes'), ('birthdate', '-116-01-01T00:00:00Z'), ('numchild', '6')]\n",
      "[('pharaohName', 'Menkheperre'), ('birthdate', '-1100-01-01T00:00:00Z'), ('numchild', '6')]\n",
      "[('pharaohName', 'Artaxerxes II of Persia'), ('birthdate', '-435-01-01T00:00:00Z'), ('numchild', '6')]\n",
      "20\n"
     ]
    }
   ],
   "source": [
    "# wdt:P569 date of birth \n",
    "#\n",
    "queryString = \"\"\"\n",
    "SELECT ?pharaohName ?birthdate (COUNT(?childName) AS ?numchild)\n",
    "WHERE {\n",
    "    ?pharaoh wdt:P97 wd:Q37110 ;\n",
    "        sc:name ?pharaohName ;\n",
    "        wdt:P569 ?birthdate ;\n",
    "        wdt:P40 ?child .\n",
    "    ?child sc:name ?childName .\n",
    "    FILTER (datatype(?birthdate) = xsd:dateTime)\n",
    "}\n",
    "GROUP BY ?pharaohName ?birthdate\n",
    "ORDER BY DESC (?numchild)\n",
    "\n",
    "LIMIT 20\n",
    "\"\"\"\n",
    "\n",
    "print(\"Results\")\n",
    "x=run_query(queryString)"
   ]
  },
  {
   "cell_type": "code",
   "execution_count": 20,
   "id": "810d5c2a-24e9-478c-87b7-3bf0fa13f771",
   "metadata": {},
   "outputs": [
    {
     "name": "stdout",
     "output_type": "stream",
     "text": [
      "Results\n",
      "[('pharaohName', 'Ramesses II'), ('birthdate', '-1302-01-01T00:00:00Z'), ('numchild', '18')]\n",
      "[('pharaohName', 'Khufu'), ('birthdate', '-2700-01-01T00:00:00Z'), ('numchild', '14')]\n",
      "[('pharaohName', 'Sneferu'), ('birthdate', '-2700-01-01T00:00:00Z'), ('numchild', '13')]\n",
      "[('pharaohName', 'Amenhotep III'), ('birthdate', '-1403-01-01T00:00:00Z'), ('numchild', '10')]\n",
      "[('pharaohName', 'Ramesses III'), ('birthdate', '-1216-01-01T00:00:00Z'), ('numchild', '10')]\n",
      "[('pharaohName', 'Akhenaten'), ('birthdate', '-1400-01-01T00:00:00Z'), ('numchild', '9')]\n",
      "[('pharaohName', 'Darius I of Persia'), ('birthdate', '-549-01-01T00:00:00Z'), ('numchild', '9')]\n",
      "[('pharaohName', 'Khafra'), ('birthdate', '-2550-01-01T00:00:00Z'), ('numchild', '9')]\n",
      "[('pharaohName', 'Ahmose I'), ('birthdate', '-1560-01-01T00:00:00Z'), ('numchild', '9')]\n",
      "[('pharaohName', 'Seqenenre Tao'), ('birthdate', '-1600-01-01T00:00:00Z'), ('numchild', '9')]\n",
      "[('pharaohName', 'Ptolemy I Soter'), ('birthdate', '-365-01-01T00:00:00Z'), ('numchild', '9')]\n",
      "11\n"
     ]
    }
   ],
   "source": [
    "queryString = \"\"\"\n",
    "SELECT ?pharaohName ?birthdate (COUNT(?childName) AS ?numchild)\n",
    "WHERE {\n",
    "    ?pharaoh wdt:P97 wd:Q37110 ;\n",
    "        sc:name ?pharaohName ;\n",
    "        wdt:P569 ?birthdate ;\n",
    "        wdt:P40 ?child .\n",
    "    ?child sc:name ?childName .\n",
    "    FILTER (datatype(?birthdate) = xsd:dateTime)\n",
    "}\n",
    "GROUP BY ?pharaohName ?birthdate\n",
    "HAVING (COUNT(?childName) > 8)\n",
    "ORDER BY DESC (?numchild)\n",
    "\n",
    "LIMIT 20\n",
    "\"\"\"\n",
    "\n",
    "print(\"Results\")\n",
    "x=run_query(queryString)"
   ]
  },
  {
   "cell_type": "markdown",
   "id": "aecdf432",
   "metadata": {},
   "source": [
    "Final query for this task"
   ]
  },
  {
   "cell_type": "code",
   "execution_count": 23,
   "id": "4dc91395",
   "metadata": {},
   "outputs": [
    {
     "name": "stdout",
     "output_type": "stream",
     "text": [
      "Results\n",
      "[('pharaoh', 'http://www.wikidata.org/entity/Q1523'), ('pharaohName', 'Ramesses II'), ('numchild', '18')]\n",
      "[('pharaoh', 'http://www.wikidata.org/entity/Q1528'), ('pharaohName', 'Ramesses III'), ('numchild', '10')]\n",
      "[('pharaoh', 'http://www.wikidata.org/entity/Q42606'), ('pharaohName', 'Amenhotep III'), ('numchild', '10')]\n",
      "[('pharaoh', 'http://www.wikidata.org/entity/Q81794'), ('pharaohName', 'Akhenaten'), ('numchild', '9')]\n",
      "4\n"
     ]
    }
   ],
   "source": [
    "#Find the Ancient Egypt pharaohs born between 1500 BCE and 1000 BCE who had more than 8 child (the result set must be a list of triples pharaoh IRI,label and #children).\n",
    "# write your final query\n",
    "queryString = \"\"\"\n",
    "SELECT ?pharaoh ?pharaohName (COUNT(?childName) AS ?numchild)\n",
    "WHERE {\n",
    "    ?pharaoh wdt:P97 wd:Q37110 ;\n",
    "        sc:name ?pharaohName ;\n",
    "        wdt:P569 ?birthdate ;\n",
    "        wdt:P40 ?child .\n",
    "    ?child sc:name ?childName .\n",
    "    FILTER (?birthdate >= \"-1500-01-01T00:00:00Z\"^^xsd:dateTime && ?birthdate <= \"-1000-01-01T00:00:00Z\"^^xsd:dateTime)\n",
    "    \n",
    "}\n",
    "GROUP BY ?pharaoh ?pharaohName\n",
    "HAVING (COUNT(?childName) > 8)\n",
    "ORDER BY DESC (?numchild)\n",
    "\n",
    "LIMIT 20\n",
    "\"\"\"\n",
    "\n",
    "print(\"Results\")\n",
    "x=run_query(queryString)"
   ]
  },
  {
   "cell_type": "markdown",
   "id": "43f0a07f",
   "metadata": {},
   "source": [
    "## Task 3\n",
    "Find all the ancient civilizations. Return the IRI and name of the civilization and also their duration (in number of years) if it is available."
   ]
  },
  {
   "cell_type": "code",
   "execution_count": 38,
   "id": "dc722abc",
   "metadata": {},
   "outputs": [
    {
     "name": "stdout",
     "output_type": "stream",
     "text": [
      "Results\n",
      "[('s', 'http://www.wikidata.org/entity/Q35355'), ('sName', 'Sumer')]\n",
      "[('s', 'http://www.wikidata.org/entity/Q25558247'), ('sName', 'Chinese civilization')]\n",
      "[('s', 'http://www.wikidata.org/entity/Q38060'), ('sName', 'Gaul')]\n",
      "[('s', 'http://www.wikidata.org/entity/Q134178'), ('sName', 'Minoan civilization')]\n",
      "[('s', 'http://www.wikidata.org/entity/Q173082'), ('sName', 'Dacia')]\n",
      "[('s', 'http://www.wikidata.org/entity/Q2429397'), ('sName', 'Ancient Carthage')]\n",
      "[('s', 'http://www.wikidata.org/entity/Q3327860'), ('sName', 'Celtic kingdom of Ireland')]\n",
      "[('s', 'http://www.wikidata.org/entity/Q193748'), ('sName', 'history of ancient Israel and Judah')]\n",
      "[('s', 'http://www.wikidata.org/entity/Q11768'), ('sName', 'Ancient Egypt')]\n",
      "[('s', 'http://www.wikidata.org/entity/Q11772'), ('sName', 'Ancient Greece')]\n",
      "[('s', 'http://www.wikidata.org/entity/Q41741'), ('sName', 'Thrace')]\n",
      "[('s', 'http://www.wikidata.org/entity/Q128904'), ('sName', 'Elam')]\n",
      "[('s', 'http://www.wikidata.org/entity/Q185068'), ('sName', 'Urartu')]\n",
      "[('s', 'http://www.wikidata.org/entity/Q32047'), ('sName', 'Illyria')]\n",
      "[('s', 'http://www.wikidata.org/entity/Q28567'), ('sName', 'Maya civilization')]\n",
      "[('s', 'http://www.wikidata.org/entity/Q11767'), ('sName', 'Mesopotamia')]\n",
      "[('s', 'http://www.wikidata.org/entity/Q8735'), ('sName', 'Medes')]\n",
      "[('s', 'http://www.wikidata.org/entity/Q1364601'), ('sName', 'Gallo-Roman culture')]\n",
      "[('s', 'http://www.wikidata.org/entity/Q42534'), ('sName', 'Indus Valley Civilization')]\n",
      "[('s', 'http://www.wikidata.org/entity/Q28405'), ('sName', 'Gojoseon')]\n",
      "[('s', 'http://www.wikidata.org/entity/Q244762'), ('sName', 'Mari')]\n",
      "[('s', 'http://www.wikidata.org/entity/Q768212'), ('sName', 'Turco-Mongol')]\n",
      "[('s', 'http://www.wikidata.org/entity/Q1551054'), ('sName', 'Israelite period')]\n",
      "[('s', 'http://www.wikidata.org/entity/Q4752820'), ('sName', 'Ancient Crete')]\n",
      "[('s', 'http://www.wikidata.org/entity/Q99304188'), ('sName', 'Thracian')]\n",
      "25\n"
     ]
    }
   ],
   "source": [
    "# write your queries\n",
    "#P31 instance of\n",
    "#Q28171280 ancient civilization\n",
    "\n",
    "queryString = \"\"\"\n",
    "SELECT DISTINCT ?s ?sName\n",
    "WHERE {\n",
    "    ?s wdt:P31 wd:Q28171280 ;\n",
    "        sc:name ?sName .\n",
    "}\n",
    "LIMIT 50\n",
    "\"\"\"\n",
    "\n",
    "print(\"Results\")\n",
    "x=run_query(queryString)"
   ]
  },
  {
   "cell_type": "code",
   "execution_count": 41,
   "id": "0fa12111-d5ff-43e1-9a7a-698a923d34f7",
   "metadata": {},
   "outputs": [
    {
     "name": "stdout",
     "output_type": "stream",
     "text": [
      "Results\n",
      "[('p', 'http://www.wikidata.org/prop/direct/P8744'), ('pName', 'economy of topic'), ('obj', 'http://www.wikidata.org/entity/Q2736823'), ('objName', 'economy of ancient Greece')]\n",
      "[('p', 'http://www.wikidata.org/prop/direct/P2579'), ('pName', 'studied by'), ('obj', 'http://www.wikidata.org/entity/Q841090'), ('objName', 'classics')]\n",
      "[('p', 'http://www.wikidata.org/prop/direct/P31'), ('pName', 'instance of'), ('obj', 'http://www.wikidata.org/entity/Q28171280'), ('objName', 'ancient civilization')]\n",
      "[('p', 'http://www.wikidata.org/prop/direct/P2184'), ('pName', 'history of topic'), ('obj', 'http://www.wikidata.org/entity/Q7798'), ('objName', 'history of ancient Greece')]\n",
      "[('p', 'http://www.wikidata.org/prop/direct/P910'), ('pName', \"topic's main category\"), ('obj', 'http://www.wikidata.org/entity/Q7215882'), ('objName', 'Category:Ancient Greece')]\n",
      "[('p', 'http://www.wikidata.org/prop/direct/P31'), ('pName', 'instance of'), ('obj', 'http://www.wikidata.org/entity/Q11042'), ('objName', 'culture')]\n",
      "[('p', 'http://www.wikidata.org/prop/direct/P31'), ('pName', 'instance of'), ('obj', 'http://www.wikidata.org/entity/Q1292119'), ('objName', 'style')]\n",
      "[('p', 'http://www.wikidata.org/prop/direct/P1343'), ('pName', 'described by source'), ('obj', 'http://www.wikidata.org/entity/Q3181656'), ('objName', 'The Nuttall Encyclopædia')]\n",
      "[('p', 'http://www.wikidata.org/prop/direct/P31'), ('pName', 'instance of'), ('obj', 'http://www.wikidata.org/entity/Q3502482'), ('objName', 'cultural region')]\n",
      "[('p', 'http://www.wikidata.org/prop/direct/P2341'), ('pName', 'indigenous to'), ('obj', 'http://www.wikidata.org/entity/Q41'), ('objName', 'Greece')]\n",
      "[('p', 'http://www.wikidata.org/prop/direct/P30'), ('pName', 'continent'), ('obj', 'http://www.wikidata.org/entity/Q46'), ('objName', 'Europe')]\n",
      "[('p', 'http://www.wikidata.org/prop/direct/P30'), ('pName', 'continent'), ('obj', 'http://www.wikidata.org/entity/Q48'), ('objName', 'Asia')]\n",
      "[('p', 'http://www.wikidata.org/prop/direct/P5008'), ('pName', 'on focus list of Wikimedia project'), ('obj', 'http://www.wikidata.org/entity/Q5460604'), ('objName', 'Wikipedia:Vital articles')]\n",
      "[('p', 'http://www.wikidata.org/prop/direct/P47'), ('pName', 'shares border with'), ('obj', 'http://www.wikidata.org/entity/Q83311'), ('objName', 'Persian Empire')]\n",
      "[('p', 'http://www.wikidata.org/prop/direct/P31'), ('pName', 'instance of'), ('obj', 'http://www.wikidata.org/entity/Q1620908'), ('objName', 'historical region')]\n",
      "[('p', 'http://www.wikidata.org/prop/direct/P47'), ('pName', 'shares border with'), ('obj', 'http://www.wikidata.org/entity/Q32047'), ('objName', 'Illyria')]\n",
      "[('p', 'http://www.wikidata.org/prop/direct/P47'), ('pName', 'shares border with'), ('obj', 'http://www.wikidata.org/entity/Q83958'), ('objName', 'Macedonia')]\n",
      "[('p', 'http://www.wikidata.org/prop/direct/P2579'), ('pName', 'studied by'), ('obj', 'http://www.wikidata.org/entity/Q435608'), ('objName', 'ancient history')]\n",
      "[('p', 'http://www.wikidata.org/prop/direct/P361'), ('pName', 'part of'), ('obj', 'http://www.wikidata.org/entity/Q7794'), ('objName', 'history of Greece')]\n",
      "[('p', 'http://www.wikidata.org/prop/direct/P2579'), ('pName', 'studied by'), ('obj', 'http://www.wikidata.org/entity/Q16267481'), ('objName', 'Greek studies')]\n",
      "[('p', 'http://www.wikidata.org/prop/direct/P1424'), ('pName', \"topic's main template\"), ('obj', 'http://www.wikidata.org/entity/Q6054993'), ('objName', 'Template:Ancient Greece topics')]\n",
      "[('p', 'http://www.wikidata.org/prop/direct/P1151'), ('pName', \"topic's main Wikimedia portal\"), ('obj', 'http://www.wikidata.org/entity/Q10566332'), ('objName', 'Portal:Ancient Greece')]\n",
      "[('p', 'http://www.wikidata.org/prop/direct/P1792'), ('pName', 'category of associated people'), ('obj', 'http://www.wikidata.org/entity/Q6692116'), ('objName', 'Category:Ancient Greeks')]\n",
      "[('p', 'http://www.wikidata.org/prop/direct/P5125'), ('pName', 'Wikimedia outline'), ('obj', 'http://www.wikidata.org/entity/Q7112550'), ('objName', 'outline of ancient Greece')]\n",
      "24\n"
     ]
    }
   ],
   "source": [
    "# write your queries\n",
    "#Q35355 Ancient Greece\n",
    "\n",
    "queryString = \"\"\"\n",
    "SELECT DISTINCT ?p ?pName ?obj ?objName\n",
    "WHERE {\n",
    "    wd:Q11772 ?p ?obj .\n",
    "      ?p sc:name ?pName .\n",
    "      ?obj sc:name ?objName .\n",
    "}\n",
    "LIMIT 50\n",
    "\"\"\"\n",
    "\n",
    "print(\"Results\")\n",
    "x=run_query(queryString)"
   ]
  },
  {
   "cell_type": "code",
   "execution_count": 25,
   "id": "e1a8a5e4-5f27-40fe-9f05-ccf860158417",
   "metadata": {},
   "outputs": [
    {
     "name": "stdout",
     "output_type": "stream",
     "text": [
      "Results\n",
      "[('p', 'http://www.wikidata.org/prop/direct/P910'), ('pName', \"topic's main category\")]\n",
      "[('p', 'http://www.wikidata.org/prop/direct/P31'), ('pName', 'instance of')]\n",
      "[('p', 'http://www.wikidata.org/prop/direct/P1343'), ('pName', 'described by source')]\n",
      "[('p', 'http://www.wikidata.org/prop/direct/P17'), ('pName', 'country')]\n",
      "[('p', 'http://www.wikidata.org/prop/direct/P361'), ('pName', 'part of')]\n",
      "[('p', 'http://www.wikidata.org/prop/direct/P2579'), ('pName', 'studied by')]\n",
      "6\n"
     ]
    }
   ],
   "source": [
    "#Q41741 Thrace\n",
    "\n",
    "queryString = \"\"\"\n",
    "SELECT DISTINCT ?p ?pName #?o ?oName\n",
    "WHERE {\n",
    "    wd:Q41741 ?p ?o .\n",
    "      ?p sc:name ?pName .\n",
    "      ?o sc:name ?oName .\n",
    "}\n",
    "LIMIT 50\n",
    "\"\"\"\n",
    "\n",
    "print(\"Results\")\n",
    "x=run_query(queryString)"
   ]
  },
  {
   "cell_type": "code",
   "execution_count": 28,
   "id": "31979019-ecf8-44af-b5dc-0f9c4ca3138f",
   "metadata": {},
   "outputs": [
    {
     "name": "stdout",
     "output_type": "stream",
     "text": [
      "Results\n",
      "[('p', 'http://www.wikidata.org/prop/direct/P31'), ('pName', 'instance of')]\n",
      "[('p', 'http://www.wikidata.org/prop/direct/P276'), ('pName', 'location')]\n",
      "[('p', 'http://www.wikidata.org/prop/direct/P17'), ('pName', 'country')]\n",
      "[('p', 'http://www.wikidata.org/prop/direct/P910'), ('pName', \"topic's main category\")]\n",
      "4\n"
     ]
    }
   ],
   "source": [
    "#Q4752820 Ancient Crete\n",
    "\n",
    "queryString = \"\"\"\n",
    "SELECT DISTINCT ?p ?pName \n",
    "WHERE {\n",
    "    wd:Q4752820 ?p ?o .\n",
    "      ?p sc:name ?pName .\n",
    "      ?o sc:name ?oName .\n",
    "}\n",
    "LIMIT 50\n",
    "\"\"\"\n",
    "\n",
    "print(\"Results\")\n",
    "x=run_query(queryString)"
   ]
  },
  {
   "cell_type": "code",
   "execution_count": 26,
   "id": "78e720fb-876d-400f-9e73-433bce5e797a",
   "metadata": {},
   "outputs": [
    {
     "name": "stdout",
     "output_type": "stream",
     "text": [
      "Results\n",
      "[('p', 'http://www.wikidata.org/prop/direct/P31'), ('pName', 'instance of'), ('obj', 'http://www.wikidata.org/entity/Q1620908'), ('objName', 'historical region')]\n",
      "[('p', 'http://www.wikidata.org/prop/direct/P706'), ('pName', 'located in/on physical feature'), ('obj', 'http://www.wikidata.org/entity/Q48214'), ('objName', 'Near East')]\n",
      "[('p', 'http://www.wikidata.org/prop/direct/P2579'), ('pName', 'studied by'), ('obj', 'http://www.wikidata.org/entity/Q4752891'), ('objName', 'ancient Near Eastern studies')]\n",
      "[('p', 'http://www.wikidata.org/prop/direct/P910'), ('pName', \"topic's main category\"), ('obj', 'http://www.wikidata.org/entity/Q8251167'), ('objName', 'Category:Ancient Near East')]\n",
      "[('p', 'http://www.wikidata.org/prop/direct/P156'), ('pName', 'followed by'), ('obj', 'http://www.wikidata.org/entity/Q100243350'), ('objName', 'medieval Near East')]\n",
      "[('p', 'http://www.wikidata.org/prop/direct/P155'), ('pName', 'follows'), ('obj', 'http://www.wikidata.org/entity/Q61737253'), ('objName', 'prehistory of the Middle East')]\n",
      "[('p', 'http://www.wikidata.org/prop/direct/P1151'), ('pName', \"topic's main Wikimedia portal\"), ('obj', 'http://www.wikidata.org/entity/Q10976588'), ('objName', 'Portal:Ancient Near East')]\n",
      "7\n"
     ]
    }
   ],
   "source": [
    "# P2348 time period \n",
    "#Q269678 ancient Near East\n",
    "\n",
    "queryString = \"\"\"\n",
    "SELECT DISTINCT ?p ?pName ?obj ?objName\n",
    "WHERE {\n",
    "    wd:Q269678 ?p ?obj .\n",
    "      ?p sc:name ?pName .\n",
    "      ?obj sc:name ?objName .\n",
    "}\n",
    "LIMIT 50\n",
    "\"\"\"\n",
    "\n",
    "print(\"Results\")\n",
    "x=run_query(queryString)"
   ]
  },
  {
   "cell_type": "code",
   "execution_count": 42,
   "id": "980e9c95-e605-4684-b226-76a0834905aa",
   "metadata": {},
   "outputs": [
    {
     "name": "stdout",
     "output_type": "stream",
     "text": [
      "Results\n",
      "[('p', 'http://www.wikidata.org/prop/direct/P1269'), ('pName', 'facet of'), ('obj', 'http://www.wikidata.org/entity/Q11772'), ('objName', 'Ancient Greece')]\n",
      "[('p', 'http://www.wikidata.org/prop/direct/P31'), ('pName', 'instance of'), ('obj', 'http://www.wikidata.org/entity/Q17544377'), ('objName', 'history of a country or state')]\n",
      "[('p', 'http://www.wikidata.org/prop/direct/P910'), ('pName', \"topic's main category\"), ('obj', 'http://www.wikidata.org/entity/Q6594815'), ('objName', 'Category:History of Greek Antiquity by period')]\n",
      "3\n"
     ]
    }
   ],
   "source": [
    "# Q7798 history of ancient Greece\n",
    "\n",
    "queryString = \"\"\"\n",
    "SELECT DISTINCT ?p ?pName ?obj ?objName\n",
    "WHERE {\n",
    "    wd:Q7798 ?p ?obj .\n",
    "      ?p sc:name ?pName .\n",
    "      ?obj sc:name ?objName .\n",
    "}\n",
    "LIMIT 50\n",
    "\"\"\"\n",
    "\n",
    "print(\"Results\")\n",
    "x=run_query(queryString)"
   ]
  },
  {
   "cell_type": "code",
   "execution_count": 44,
   "id": "be71eaa9-e71b-44d8-8855-54ea59b951a9",
   "metadata": {},
   "outputs": [
    {
     "name": "stdout",
     "output_type": "stream",
     "text": [
      "Results\n",
      "[('p', 'http://www.wikidata.org/prop/direct/P301'), ('pName', \"category's main topic\"), ('obj', 'http://www.wikidata.org/entity/Q7798'), ('objName', 'history of ancient Greece')]\n",
      "[('p', 'http://www.wikidata.org/prop/direct/P31'), ('pName', 'instance of'), ('obj', 'http://www.wikidata.org/entity/Q59541917'), ('objName', 'Wikimedia topic category')]\n",
      "2\n"
     ]
    }
   ],
   "source": [
    "#Q6594815 Category:History of Greek Antiquity by period\n",
    "\n",
    "queryString = \"\"\"\n",
    "SELECT DISTINCT ?p ?pName ?obj ?objName\n",
    "WHERE {\n",
    "    wd:Q6594815 ?p ?obj .\n",
    "      ?p sc:name ?pName .\n",
    "      ?obj sc:name ?objName .\n",
    "}\n",
    "LIMIT 50\n",
    "\"\"\"\n",
    "\n",
    "print(\"Results\")\n",
    "x=run_query(queryString)"
   ]
  },
  {
   "cell_type": "code",
   "execution_count": 45,
   "id": "1e44250f-cbe7-4510-9388-b8ad1ddfefbb",
   "metadata": {},
   "outputs": [
    {
     "name": "stdout",
     "output_type": "stream",
     "text": [
      "Results\n",
      "[('p', 'http://www.wikidata.org/prop/direct/P31'), ('pName', 'instance of'), ('obj', 'http://www.wikidata.org/entity/Q26884324'), ('objName', 'Wikimedia outline article')]\n",
      "1\n"
     ]
    }
   ],
   "source": [
    "# Q7112550 outline of ancient Greece\n",
    "\n",
    "queryString = \"\"\"\n",
    "SELECT DISTINCT ?p ?pName ?obj ?objName\n",
    "WHERE {\n",
    "    wd:Q7112550 ?p ?obj .\n",
    "      ?p sc:name ?pName .\n",
    "      ?obj sc:name ?objName .\n",
    "}\n",
    "LIMIT 50\n",
    "\"\"\"\n",
    "\n",
    "print(\"Results\")\n",
    "x=run_query(queryString)\n"
   ]
  },
  {
   "cell_type": "code",
   "execution_count": 102,
   "id": "7861d0dc-741e-43aa-8a55-e42ee60c32db",
   "metadata": {},
   "outputs": [
    {
     "name": "stdout",
     "output_type": "stream",
     "text": [
      "Results\n",
      "The operation failed timed out\n"
     ]
    }
   ],
   "source": [
    "#Q435608 ancient history\n",
    "queryString = \"\"\"\n",
    "SELECT DISTINCT ?p ?pName ?obj ?objName\n",
    "WHERE {\n",
    "    wd:Q435608 ?p ?obj .\n",
    "      ?p sc:name ?pName .\n",
    "      ?obj sc:name ?objName .\n",
    "}\n",
    "LIMIT 50\n",
    "\"\"\"\n",
    "\n",
    "print(\"Results\")\n",
    "x=run_query(queryString)"
   ]
  },
  {
   "cell_type": "code",
   "execution_count": 31,
   "id": "4c1ac0de-1755-4eb1-8cca-5aa9e22b3225",
   "metadata": {},
   "outputs": [
    {
     "name": "stdout",
     "output_type": "stream",
     "text": [
      "Results\n",
      "[('p', 'http://www.wikidata.org/prop/direct/P2348'), ('pName', 'time period')]\n",
      "[('p', 'http://www.wikidata.org/prop/direct/P575'), ('pName', 'time of discovery or invention')]\n",
      "[('p', 'http://www.wikidata.org/prop/direct/P580'), ('pName', 'start time')]\n",
      "[('p', 'http://www.wikidata.org/prop/direct/P582'), ('pName', 'end time')]\n",
      "4\n"
     ]
    }
   ],
   "source": [
    "# write your queries\n",
    "#P31 instance of\n",
    "#Q28171280 ancient civilization\n",
    "\n",
    "queryString = \"\"\"\n",
    "SELECT DISTINCT ?p ?pName\n",
    "WHERE {\n",
    "    ?ancientcivil wdt:P31 wd:Q28171280 ;\n",
    "        ?p ?o ; \n",
    "        sc:name ?ancientcivilName .\n",
    "    ?p sc:name ?pName .\n",
    "    FILTER REGEX(?pName, 'time*')\n",
    "}\n",
    "LIMIT 150\n",
    "\"\"\"\n",
    "\n",
    "print(\"Results\")\n",
    "x=run_query(queryString)"
   ]
  },
  {
   "cell_type": "code",
   "execution_count": 33,
   "id": "c224b089-4959-474b-a24f-888ce46af631",
   "metadata": {},
   "outputs": [
    {
     "name": "stdout",
     "output_type": "stream",
     "text": [
      "Results\n",
      "[('ancientcivilName', 'Minoan civilization'), ('starttime', '-3299-01-01T00:00:00Z'), ('endtime', '-1099-01-01T00:00:00Z')]\n",
      "[('ancientcivilName', 'Minoan civilization'), ('starttime', '-2000-01-01T00:00:00Z'), ('endtime', '-1099-01-01T00:00:00Z')]\n",
      "[('ancientcivilName', 'Ancient Egypt'), ('starttime', '-4000-01-01T00:00:00Z'), ('endtime', '0395-01-01T00:00:00Z')]\n",
      "[('ancientcivilName', 'Ancient Greece'), ('starttime', '-1200-01-01T00:00:00Z'), ('endtime', '0600-01-01T00:00:00Z')]\n",
      "[('ancientcivilName', 'Indus Valley Civilization'), ('starttime', '-2999-01-01T00:00:00Z'), ('endtime', '-1799-01-01T00:00:00Z')]\n",
      "[('ancientcivilName', 'Israelite period'), ('starttime', '-1199-01-01T00:00:00Z'), ('endtime', '-585-01-01T00:00:00Z')]\n",
      "6\n"
     ]
    }
   ],
   "source": [
    "#P31 instance of\n",
    "#Q28171280 ancient civilization\n",
    "\n",
    "queryString = \"\"\"\n",
    "SELECT DISTINCT ?ancientcivilName ?starttime ?endtime\n",
    "WHERE {\n",
    "    ?ancientcivil wdt:P31 wd:Q28171280 ;\n",
    "        wdt:P580 ?starttime ;\n",
    "        wdt:P582 ?endtime ;\n",
    "        sc:name ?ancientcivilName .\n",
    "}\n",
    "LIMIT 50\n",
    "\"\"\"\n",
    "\n",
    "print(\"Results\")\n",
    "x=run_query(queryString)"
   ]
  },
  {
   "cell_type": "code",
   "execution_count": 45,
   "id": "5c277a87-bb81-4233-94ab-2497ac36abc8",
   "metadata": {},
   "outputs": [
    {
     "name": "stdout",
     "output_type": "stream",
     "text": [
      "Results\n",
      "[('ancientcivilName', 'Minoan civilization'), ('starttime', '-2000-01-01T00:00:00Z'), ('endtime', '-1099-01-01T00:00:00Z'), ('numyears', '901')]\n",
      "[('ancientcivilName', 'Minoan civilization'), ('starttime', '-3299-01-01T00:00:00Z'), ('endtime', '-1099-01-01T00:00:00Z'), ('numyears', '2200')]\n",
      "[('ancientcivilName', 'Ancient Egypt'), ('starttime', '-4000-01-01T00:00:00Z'), ('endtime', '0395-01-01T00:00:00Z'), ('numyears', '4395')]\n",
      "[('ancientcivilName', 'Ancient Greece'), ('starttime', '-1200-01-01T00:00:00Z'), ('endtime', '0600-01-01T00:00:00Z'), ('numyears', '1800')]\n",
      "[('ancientcivilName', 'Indus Valley Civilization'), ('starttime', '-2999-01-01T00:00:00Z'), ('endtime', '-1799-01-01T00:00:00Z'), ('numyears', '1200')]\n",
      "[('ancientcivilName', 'Israelite period'), ('starttime', '-1199-01-01T00:00:00Z'), ('endtime', '-585-01-01T00:00:00Z'), ('numyears', '614')]\n",
      "[('ancientcivilName', 'Sumer')]\n",
      "[('ancientcivilName', 'Chinese civilization')]\n",
      "[('ancientcivilName', 'Gaul')]\n",
      "[('ancientcivilName', 'Dacia')]\n",
      "[('ancientcivilName', 'Ancient Carthage')]\n",
      "[('ancientcivilName', 'Celtic kingdom of Ireland')]\n",
      "[('ancientcivilName', 'history of ancient Israel and Judah')]\n",
      "[('ancientcivilName', 'Thrace')]\n",
      "[('ancientcivilName', 'Elam')]\n",
      "[('ancientcivilName', 'Urartu')]\n",
      "[('ancientcivilName', 'Illyria')]\n",
      "[('ancientcivilName', 'Maya civilization')]\n",
      "[('ancientcivilName', 'Mesopotamia')]\n",
      "[('ancientcivilName', 'Medes')]\n",
      "[('ancientcivilName', 'Gallo-Roman culture')]\n",
      "[('ancientcivilName', 'Gojoseon')]\n",
      "[('ancientcivilName', 'Mari')]\n",
      "[('ancientcivilName', 'Turco-Mongol')]\n",
      "[('ancientcivilName', 'Ancient Crete')]\n",
      "[('ancientcivilName', 'Thracian')]\n",
      "26\n"
     ]
    }
   ],
   "source": [
    "#P31 instance of\n",
    "#Q28171280 ancient civilization\n",
    "\n",
    "queryString = \"\"\"\n",
    "SELECT DISTINCT ?ancientcivilName ?starttime ?endtime ?numyears\n",
    "WHERE {\n",
    "    ?ancientcivil wdt:P31 wd:Q28171280 ;\n",
    "        sc:name ?ancientcivilName .\n",
    "        \n",
    "    OPTIONAL{\n",
    "    ?ancientcivil wdt:P580 ?starttime ;\n",
    "        wdt:P582 ?endtime .\n",
    "        BIND(year(?endtime) - year(?starttime) AS ?numyears)\n",
    "    }\n",
    "}\n",
    "LIMIT 50\n",
    "\"\"\"\n",
    "\n",
    "print(\"Results\")\n",
    "x=run_query(queryString)"
   ]
  },
  {
   "cell_type": "markdown",
   "id": "4c62049d",
   "metadata": {},
   "source": [
    "Final query for this task"
   ]
  },
  {
   "cell_type": "code",
   "execution_count": 46,
   "id": "22631a25",
   "metadata": {},
   "outputs": [
    {
     "name": "stdout",
     "output_type": "stream",
     "text": [
      "Results\n",
      "[('ancientcivil', 'http://www.wikidata.org/entity/Q134178'), ('ancientcivilName', 'Minoan civilization'), ('numyears', '901')]\n",
      "[('ancientcivil', 'http://www.wikidata.org/entity/Q134178'), ('ancientcivilName', 'Minoan civilization'), ('numyears', '2200')]\n",
      "[('ancientcivil', 'http://www.wikidata.org/entity/Q11768'), ('ancientcivilName', 'Ancient Egypt'), ('numyears', '4395')]\n",
      "[('ancientcivil', 'http://www.wikidata.org/entity/Q11772'), ('ancientcivilName', 'Ancient Greece'), ('numyears', '1800')]\n",
      "[('ancientcivil', 'http://www.wikidata.org/entity/Q42534'), ('ancientcivilName', 'Indus Valley Civilization'), ('numyears', '1200')]\n",
      "[('ancientcivil', 'http://www.wikidata.org/entity/Q1551054'), ('ancientcivilName', 'Israelite period'), ('numyears', '614')]\n",
      "[('ancientcivil', 'http://www.wikidata.org/entity/Q35355'), ('ancientcivilName', 'Sumer')]\n",
      "[('ancientcivil', 'http://www.wikidata.org/entity/Q25558247'), ('ancientcivilName', 'Chinese civilization')]\n",
      "[('ancientcivil', 'http://www.wikidata.org/entity/Q38060'), ('ancientcivilName', 'Gaul')]\n",
      "[('ancientcivil', 'http://www.wikidata.org/entity/Q173082'), ('ancientcivilName', 'Dacia')]\n",
      "[('ancientcivil', 'http://www.wikidata.org/entity/Q2429397'), ('ancientcivilName', 'Ancient Carthage')]\n",
      "[('ancientcivil', 'http://www.wikidata.org/entity/Q3327860'), ('ancientcivilName', 'Celtic kingdom of Ireland')]\n",
      "[('ancientcivil', 'http://www.wikidata.org/entity/Q193748'), ('ancientcivilName', 'history of ancient Israel and Judah')]\n",
      "[('ancientcivil', 'http://www.wikidata.org/entity/Q41741'), ('ancientcivilName', 'Thrace')]\n",
      "[('ancientcivil', 'http://www.wikidata.org/entity/Q128904'), ('ancientcivilName', 'Elam')]\n",
      "[('ancientcivil', 'http://www.wikidata.org/entity/Q185068'), ('ancientcivilName', 'Urartu')]\n",
      "[('ancientcivil', 'http://www.wikidata.org/entity/Q32047'), ('ancientcivilName', 'Illyria')]\n",
      "[('ancientcivil', 'http://www.wikidata.org/entity/Q28567'), ('ancientcivilName', 'Maya civilization')]\n",
      "[('ancientcivil', 'http://www.wikidata.org/entity/Q11767'), ('ancientcivilName', 'Mesopotamia')]\n",
      "[('ancientcivil', 'http://www.wikidata.org/entity/Q8735'), ('ancientcivilName', 'Medes')]\n",
      "[('ancientcivil', 'http://www.wikidata.org/entity/Q1364601'), ('ancientcivilName', 'Gallo-Roman culture')]\n",
      "[('ancientcivil', 'http://www.wikidata.org/entity/Q28405'), ('ancientcivilName', 'Gojoseon')]\n",
      "[('ancientcivil', 'http://www.wikidata.org/entity/Q244762'), ('ancientcivilName', 'Mari')]\n",
      "[('ancientcivil', 'http://www.wikidata.org/entity/Q768212'), ('ancientcivilName', 'Turco-Mongol')]\n",
      "[('ancientcivil', 'http://www.wikidata.org/entity/Q4752820'), ('ancientcivilName', 'Ancient Crete')]\n",
      "[('ancientcivil', 'http://www.wikidata.org/entity/Q99304188'), ('ancientcivilName', 'Thracian')]\n",
      "26\n"
     ]
    }
   ],
   "source": [
    "# write your final query\n",
    "#P31 instance of\n",
    "#Q28171280 ancient civilization\n",
    "#ind all the ancient civilizations. Return the IRI and name of the civilization and also their duration (in number of years) if it is available.\n",
    "\n",
    "queryString = \"\"\"\n",
    "SELECT ?ancientcivil ?ancientcivilName ?numyears\n",
    "WHERE {\n",
    "    ?ancientcivil wdt:P31 wd:Q28171280 ;\n",
    "        sc:name ?ancientcivilName .\n",
    "        \n",
    "    OPTIONAL{\n",
    "    ?ancientcivil wdt:P580 ?starttime ;\n",
    "        wdt:P582 ?endtime .\n",
    "        BIND(year(?endtime) - year(?starttime) AS ?numyears)\n",
    "    }\n",
    "}\n",
    "LIMIT 50\n",
    "\"\"\"\n",
    "\n",
    "print(\"Results\")\n",
    "x=run_query(queryString)"
   ]
  },
  {
   "cell_type": "markdown",
   "id": "46f51536",
   "metadata": {},
   "source": [
    "## Task 4\n",
    "Identify the BGP for archeologist."
   ]
  },
  {
   "cell_type": "code",
   "execution_count": 50,
   "id": "a8dfd317",
   "metadata": {},
   "outputs": [
    {
     "name": "stdout",
     "output_type": "stream",
     "text": [
      "Results\n",
      "[('obj', 'http://www.wikidata.org/entity/Q23757'), ('objName', 'limestone')]\n",
      "1\n"
     ]
    }
   ],
   "source": [
    "# write your queries\n",
    "\n",
    "#P373 Commons category\n",
    "#P186 made from material\n",
    "#Meidum Pyramid (wd:Q13444093)\n",
    "\n",
    "queryString = \"\"\"\n",
    "SELECT DISTINCT ?obj ?objName\n",
    "WHERE {\n",
    "   wd:Q13444093 wdt:P186 ?obj .\n",
    "   ?obj sc:name ?objName .\n",
    "}\n",
    "LIMIT 50\n",
    "\"\"\"\n",
    "\n",
    "print(\"Results\")\n",
    "x=run_query(queryString)"
   ]
  },
  {
   "cell_type": "code",
   "execution_count": 51,
   "id": "dc83dde3-fe4e-4d96-99aa-1ebbfff45838",
   "metadata": {},
   "outputs": [
    {
     "name": "stdout",
     "output_type": "stream",
     "text": [
      "Results\n",
      "Empty\n"
     ]
    }
   ],
   "source": [
    "\n",
    "#P373 Commons category\n",
    "#Meidum Pyramid (wd:Q13444093)\n",
    "\n",
    "queryString = \"\"\"\n",
    "SELECT DISTINCT ?obj ?objName\n",
    "WHERE {\n",
    "   wd:Q13444093 wdt:P373 ?obj .\n",
    "   ?obj sc:name ?objName .\n",
    "}\n",
    "LIMIT 50\n",
    "\"\"\"\n",
    "\n",
    "print(\"Results\")\n",
    "x=run_query(queryString)"
   ]
  },
  {
   "cell_type": "code",
   "execution_count": 52,
   "id": "046330e4-e327-4f19-bc9c-5c4f2950d2ec",
   "metadata": {},
   "outputs": [
    {
     "name": "stdout",
     "output_type": "stream",
     "text": [
      "Results\n",
      "[('obj', 'http://www.wikidata.org/entity/Q1456099'), ('objName', 'step pyramid')]\n",
      "1\n"
     ]
    }
   ],
   "source": [
    "queryString = \"\"\"\n",
    "SELECT DISTINCT ?obj ?objName\n",
    "WHERE {\n",
    "   wd:Q13444093 wdt:P31 ?obj .\n",
    "   ?obj sc:name ?objName .\n",
    "}\n",
    "LIMIT 50\n",
    "\"\"\"\n",
    "\n",
    "print(\"Results\")\n",
    "x=run_query(queryString)"
   ]
  },
  {
   "cell_type": "code",
   "execution_count": 54,
   "id": "5beabe00-69fd-4014-bbca-e87a15c45bd1",
   "metadata": {},
   "outputs": [
    {
     "name": "stdout",
     "output_type": "stream",
     "text": [
      "Results\n",
      "[('obj', 'http://www.wikidata.org/entity/Q4363262'), ('objName', 'smooth-sided pyramid')]\n",
      "[('obj', 'http://www.wikidata.org/entity/Q12516'), ('objName', 'pyramid')]\n",
      "2\n"
     ]
    }
   ],
   "source": [
    "#Q1456099 step pyramid\n",
    "queryString = \"\"\"\n",
    "SELECT DISTINCT ?obj ?objName\n",
    "WHERE {\n",
    "   wd:Q1456099 ?p ?obj .\n",
    "   ?obj sc:name ?objName .\n",
    "}\n",
    "LIMIT 50\n",
    "\"\"\"\n",
    "\n",
    "print(\"Results\")\n",
    "x=run_query(queryString)"
   ]
  },
  {
   "cell_type": "code",
   "execution_count": 55,
   "id": "db586283-468e-43e3-b019-9b13223e0160",
   "metadata": {},
   "outputs": [
    {
     "name": "stdout",
     "output_type": "stream",
     "text": [
      "Results\n",
      "[('obj', 'http://www.wikidata.org/entity/Q106727050'), ('objName', 'Metropolitan Museum of Art Tagging Vocabulary')]\n",
      "[('obj', 'http://www.wikidata.org/entity/Q3181656'), ('objName', 'The Nuttall Encyclopædia')]\n",
      "[('obj', 'http://www.wikidata.org/entity/Q39297'), ('objName', 'volume')]\n",
      "[('obj', 'http://www.wikidata.org/entity/Q5460604'), ('objName', 'Wikipedia:Vital articles')]\n",
      "[('obj', 'http://www.wikidata.org/entity/Q867541'), ('objName', 'Encyclopædia Britannica 11th edition')]\n",
      "[('obj', 'http://www.wikidata.org/entity/Q41176'), ('objName', 'building')]\n",
      "[('obj', 'http://www.wikidata.org/entity/Q11818429'), ('objName', 'Piramida')]\n",
      "[('obj', 'http://www.wikidata.org/entity/Q7237020'), ('objName', 'Category:Pyramids')]\n",
      "[('obj', 'http://www.wikidata.org/entity/Q3358290'), ('objName', 'pyramid')]\n",
      "[('obj', 'http://www.wikidata.org/entity/Q13361861'), ('objName', 'Template:Infobox pyramid')]\n",
      "10\n"
     ]
    }
   ],
   "source": [
    "#Q12516 pyramid\n",
    "queryString = \"\"\"\n",
    "SELECT DISTINCT ?obj ?objName\n",
    "WHERE {\n",
    "   wd:Q12516 ?p ?obj .\n",
    "   ?obj sc:name ?objName .\n",
    "}\n",
    "LIMIT 50\n",
    "\"\"\"\n",
    "\n",
    "print(\"Results\")\n",
    "x=run_query(queryString)"
   ]
  },
  {
   "cell_type": "code",
   "execution_count": 56,
   "id": "07784ac0-7978-40b3-ac5a-83a36d6c7a01",
   "metadata": {},
   "outputs": [
    {
     "name": "stdout",
     "output_type": "stream",
     "text": [
      "Results\n",
      "[('obj', 'http://www.wikidata.org/entity/Q35473'), ('objName', 'window')]\n",
      "[('obj', 'http://www.wikidata.org/entity/P580'), ('objName', 'start time')]\n",
      "[('obj', 'http://www.wikidata.org/entity/P582'), ('objName', 'end time')]\n",
      "[('obj', 'http://www.wikidata.org/entity/Q13226383'), ('objName', 'facility')]\n",
      "[('obj', 'http://www.wikidata.org/entity/Q217164'), ('objName', 'floor')]\n",
      "[('obj', 'http://www.wikidata.org/entity/Q221706'), ('objName', 'ceiling')]\n",
      "[('obj', 'http://www.wikidata.org/entity/P631'), ('objName', 'structural engineer')]\n",
      "[('obj', 'http://www.wikidata.org/entity/P3032'), ('objName', 'adjacent building')]\n",
      "[('obj', 'http://www.wikidata.org/entity/P466'), ('objName', 'occupant')]\n",
      "[('obj', 'http://www.wikidata.org/entity/P17'), ('objName', 'country')]\n",
      "[('obj', 'http://www.wikidata.org/entity/Q101314624'), ('objName', 'Lean Logic: A Dictionary for the Future and How to Survive It')]\n",
      "[('obj', 'http://www.wikidata.org/entity/Q106727050'), ('objName', 'Metropolitan Museum of Art Tagging Vocabulary')]\n",
      "[('obj', 'http://www.wikidata.org/entity/Q811979'), ('objName', 'architectural structure')]\n",
      "[('obj', 'http://www.wikidata.org/entity/P131'), ('objName', 'located in the administrative territorial entity')]\n",
      "[('obj', 'http://www.wikidata.org/entity/P149'), ('objName', 'architectural style')]\n",
      "[('obj', 'http://www.wikidata.org/entity/P527'), ('objName', 'has part')]\n",
      "[('obj', 'http://www.wikidata.org/entity/P625'), ('objName', 'coordinate location')]\n",
      "[('obj', 'http://www.wikidata.org/entity/P6375'), ('objName', 'street address')]\n",
      "[('obj', 'http://www.wikidata.org/entity/P84'), ('objName', 'architect')]\n",
      "[('obj', 'http://www.wikidata.org/entity/P856'), ('objName', 'official website')]\n",
      "[('obj', 'http://www.wikidata.org/entity/Q36794'), ('objName', 'door')]\n",
      "[('obj', 'http://www.wikidata.org/entity/P669'), ('objName', 'located on street')]\n",
      "[('obj', 'http://www.wikidata.org/entity/Q811430'), ('objName', 'human-made geographic feature')]\n",
      "[('obj', 'http://www.wikidata.org/entity/P186'), ('objName', 'made from material')]\n",
      "[('obj', 'http://www.wikidata.org/entity/Q42948'), ('objName', 'wall')]\n",
      "[('obj', 'http://www.wikidata.org/entity/Q183061'), ('objName', 'facade')]\n",
      "[('obj', 'http://www.wikidata.org/entity/Q170552'), ('objName', 'balcony')]\n",
      "[('obj', 'http://www.wikidata.org/entity/Q83180'), ('objName', 'roof')]\n",
      "[('obj', 'http://www.wikidata.org/entity/P5817'), ('objName', 'state of use')]\n",
      "[('obj', 'http://www.wikidata.org/entity/P193'), ('objName', 'main building contractor')]\n",
      "[('obj', 'http://www.wikidata.org/entity/P281'), ('objName', 'postal code')]\n",
      "[('obj', 'http://www.wikidata.org/entity/Q234852'), ('objName', 'basement')]\n",
      "[('obj', 'http://www.wikidata.org/entity/Q24698748'), ('objName', 'ground floor')]\n",
      "[('obj', 'http://www.wikidata.org/entity/Q831691'), ('objName', 'storey')]\n",
      "[('obj', 'http://www.wikidata.org/entity/P454'), ('objName', 'Structurae structure ID')]\n",
      "[('obj', 'http://www.wikidata.org/entity/Q5906647'), ('objName', 'Template:Infobox building')]\n",
      "[('obj', 'http://www.wikidata.org/entity/P5816'), ('objName', 'state of conservation')]\n",
      "[('obj', 'http://www.wikidata.org/entity/Q16685719'), ('objName', 'structural support')]\n",
      "[('obj', 'http://www.wikidata.org/entity/P1419'), ('objName', 'shape')]\n",
      "[('obj', 'http://www.wikidata.org/entity/P462'), ('objName', 'color')]\n",
      "[('obj', 'http://www.wikidata.org/entity/P1101'), ('objName', 'floors above ground')]\n",
      "[('obj', 'http://www.wikidata.org/entity/P1139'), ('objName', 'floors below ground')]\n",
      "[('obj', 'http://www.wikidata.org/entity/Q7480121'), ('objName', 'Category:Wikipedia categories named after buildings and structures')]\n",
      "[('obj', 'http://www.wikidata.org/entity/P455'), ('objName', 'Emporis building ID')]\n",
      "[('obj', 'http://www.wikidata.org/entity/P1398'), ('objName', 'structure replaces')]\n",
      "[('obj', 'http://www.wikidata.org/entity/P3113'), ('objName', 'does not have part')]\n",
      "[('obj', 'http://www.wikidata.org/entity/P167'), ('objName', 'structure replaced by')]\n",
      "[('obj', 'http://www.wikidata.org/entity/Q8963787'), ('objName', 'Category:Building')]\n",
      "48\n"
     ]
    }
   ],
   "source": [
    "#Q41176 building\n",
    "queryString = \"\"\"\n",
    "SELECT DISTINCT ?obj ?objName\n",
    "WHERE {\n",
    "   wd:Q41176 ?p ?obj .\n",
    "   ?obj sc:name ?objName .\n",
    "}\n",
    "LIMIT 50\n",
    "\"\"\"\n",
    "\n",
    "print(\"Results\")\n",
    "x=run_query(queryString)"
   ]
  },
  {
   "cell_type": "code",
   "execution_count": 57,
   "id": "dd20ffde-b9e8-4035-87de-84e76145c119",
   "metadata": {},
   "outputs": [
    {
     "name": "stdout",
     "output_type": "stream",
     "text": [
      "Results\n",
      "[('obj', 'http://www.wikidata.org/entity/Q4387609'), ('objName', 'architectural firm')]\n",
      "[('obj', 'http://www.wikidata.org/entity/Q43831109'), ('objName', 'Wikidata property related to architecture')]\n",
      "[('obj', 'http://www.wikidata.org/entity/P287'), ('objName', 'designed by')]\n",
      "[('obj', 'http://www.wikidata.org/entity/Q42973'), ('objName', 'architect')]\n",
      "[('obj', 'http://www.wikidata.org/prop/direct/P84'), ('objName', 'architect')]\n",
      "[('obj', 'http://www.wikidata.org/entity/Q11235'), ('objName', 'World Trade Center')]\n",
      "[('obj', 'http://www.wikidata.org/entity/P193'), ('objName', 'main building contractor')]\n",
      "[('obj', 'http://www.wikidata.org/entity/Q18618644'), ('objName', 'Wikidata property for items about works')]\n",
      "[('obj', 'http://www.wikidata.org/entity/Q21502838'), ('objName', 'conflicts-with constraint')]\n",
      "[('obj', 'http://www.wikidata.org/entity/Q21503247'), ('objName', 'item-requires-statement constraint')]\n",
      "[('obj', 'http://www.wikidata.org/entity/Q21503250'), ('objName', 'type constraint')]\n",
      "[('obj', 'http://www.wikidata.org/entity/Q21510865'), ('objName', 'value-type constraint')]\n",
      "[('obj', 'http://www.wikidata.org/entity/Q7459144'), ('objName', 'Seymour Centre')]\n",
      "[('obj', 'http://www.wikidata.org/entity/P7514'), ('objName', 'landscape architect')]\n",
      "[('obj', 'http://www.wikidata.org/entity/Q838297'), ('objName', 'Copenhagen Opera House')]\n",
      "[('obj', 'http://www.wikidata.org/entity/Q66004561'), ('objName', 'has designed')]\n",
      "[('obj', 'http://www.wikidata.org/entity/Q20116979'), ('objName', 'Category:Pages using Wikidata property P84')]\n",
      "17\n"
     ]
    }
   ],
   "source": [
    "#P84 architect\n",
    "queryString = \"\"\"\n",
    "SELECT DISTINCT ?obj ?objName\n",
    "WHERE {\n",
    "   wd:P84 ?p ?obj .\n",
    "   ?obj sc:name ?objName .\n",
    "}\n",
    "LIMIT 50\n",
    "\"\"\"\n",
    "\n",
    "print(\"Results\")\n",
    "x=run_query(queryString)"
   ]
  },
  {
   "cell_type": "code",
   "execution_count": 59,
   "id": "56cf8bfd-2a55-4965-98b4-411abca39746",
   "metadata": {},
   "outputs": [
    {
     "name": "stdout",
     "output_type": "stream",
     "text": [
      "Results\n",
      "[('p', 'http://www.wikidata.org/prop/direct/P417'), ('pName', 'patron saint'), ('obj', 'http://www.wikidata.org/entity/Q43669'), ('objName', 'Thomas the Apostle')]\n",
      "[('p', 'http://www.wikidata.org/prop/direct/P417'), ('pName', 'patron saint'), ('obj', 'http://www.wikidata.org/entity/Q192816'), ('objName', 'Saint Barbara')]\n",
      "[('p', 'http://www.wikidata.org/prop/direct/P417'), ('pName', 'patron saint'), ('obj', 'http://www.wikidata.org/entity/Q44265'), ('objName', 'Benedict of Nursia')]\n",
      "[('p', 'http://www.wikidata.org/prop/direct/P910'), ('pName', \"topic's main category\"), ('obj', 'http://www.wikidata.org/entity/Q6875304'), ('objName', 'Category:Architects')]\n",
      "[('p', 'http://www.wikidata.org/prop/direct/P1343'), ('pName', 'described by source'), ('obj', 'http://www.wikidata.org/entity/Q106727050'), ('objName', 'Metropolitan Museum of Art Tagging Vocabulary')]\n",
      "[('p', 'http://www.wikidata.org/prop/direct/P31'), ('pName', 'instance of'), ('obj', 'http://www.wikidata.org/entity/Q12737077'), ('objName', 'occupation')]\n",
      "[('p', 'http://www.wikidata.org/prop/direct/P31'), ('pName', 'instance of'), ('obj', 'http://www.wikidata.org/entity/Q28640'), ('objName', 'profession')]\n",
      "[('p', 'http://www.wikidata.org/prop/direct/P425'), ('pName', 'field of this occupation'), ('obj', 'http://www.wikidata.org/entity/Q385378'), ('objName', 'construction')]\n",
      "[('p', 'http://www.wikidata.org/prop/direct/P279'), ('pName', 'subclass of'), ('obj', 'http://www.wikidata.org/entity/Q5322166'), ('objName', 'designer')]\n",
      "[('p', 'http://www.wikidata.org/prop/direct/P1687'), ('pName', 'Wikidata property'), ('obj', 'http://www.wikidata.org/entity/P84'), ('objName', 'architect')]\n",
      "[('p', 'http://www.wikidata.org/prop/direct/P425'), ('pName', 'field of this occupation'), ('obj', 'http://www.wikidata.org/entity/Q12271'), ('objName', 'architecture')]\n",
      "[('p', 'http://www.wikidata.org/prop/direct/P279'), ('pName', 'subclass of'), ('obj', 'http://www.wikidata.org/entity/Q255274'), ('objName', 'white-collar worker')]\n",
      "[('p', 'http://www.wikidata.org/prop/direct/P279'), ('pName', 'subclass of'), ('obj', 'http://www.wikidata.org/entity/Q3391743'), ('objName', 'visual artist')]\n",
      "[('p', 'http://www.wikidata.org/prop/direct/P31'), ('pName', 'instance of'), ('obj', 'http://www.wikidata.org/entity/Q11488158'), ('objName', 'corporate title')]\n",
      "[('p', 'http://www.wikidata.org/prop/direct/P425'), ('pName', 'field of this occupation'), ('obj', 'http://www.wikidata.org/entity/Q323611'), ('objName', 'building design')]\n",
      "[('p', 'http://www.wikidata.org/prop/direct/P1424'), ('pName', \"topic's main template\"), ('obj', 'http://www.wikidata.org/entity/Q10973090'), ('objName', 'Template:Infobox architect')]\n",
      "[('p', 'http://www.wikidata.org/prop/direct/P1963'), ('pName', 'properties for this type'), ('obj', 'http://www.wikidata.org/entity/P5745'), ('objName', 'Pacific Coast Architecture Database person ID')]\n",
      "[('p', 'http://www.wikidata.org/prop/direct/P1963'), ('pName', 'properties for this type'), ('obj', 'http://www.wikidata.org/entity/P4488'), ('objName', 'COAM architect ID')]\n",
      "[('p', 'http://www.wikidata.org/prop/direct/P1963'), ('pName', 'properties for this type'), ('obj', 'http://www.wikidata.org/entity/P5308'), ('objName', 'Dictionary of Scottish Architects ID')]\n",
      "[('p', 'http://www.wikidata.org/prop/direct/P1963'), ('pName', 'properties for this type'), ('obj', 'http://www.wikidata.org/entity/P2418'), ('objName', 'Structurae person ID')]\n",
      "[('p', 'http://www.wikidata.org/prop/direct/P1963'), ('pName', 'properties for this type'), ('obj', 'http://www.wikidata.org/entity/P2194'), ('objName', 'PSS-archi architect ID')]\n",
      "[('p', 'http://www.wikidata.org/prop/direct/P2283'), ('pName', 'uses'), ('obj', 'http://www.wikidata.org/entity/Q66747539'), ('objName', 'architectural terminology')]\n",
      "[('p', 'http://www.wikidata.org/prop/direct/P1963'), ('pName', 'properties for this type'), ('obj', 'http://www.wikidata.org/entity/P3058'), ('objName', 'Architectuurgids architect ID')]\n",
      "[('p', 'http://www.wikidata.org/prop/direct/P1963'), ('pName', 'properties for this type'), ('obj', 'http://www.wikidata.org/entity/P2385'), ('objName', 'French diocesan architects ID')]\n",
      "[('p', 'http://www.wikidata.org/prop/direct/P6186'), ('pName', 'category for eponymous categories'), ('obj', 'http://www.wikidata.org/entity/Q8105488'), ('objName', 'Category:Wikipedia categories named after architects')]\n",
      "[('p', 'http://www.wikidata.org/prop/direct/P1963'), ('pName', 'properties for this type'), ('obj', 'http://www.wikidata.org/entity/P5508'), ('objName', 'archINFORM person or group ID')]\n",
      "[('p', 'http://www.wikidata.org/prop/direct/P425'), ('pName', 'field of this occupation'), ('obj', 'http://www.wikidata.org/entity/Q106195621'), ('objName', 'computational design')]\n",
      "[('p', 'http://www.wikidata.org/prop/direct/P1963'), ('pName', 'properties for this type'), ('obj', 'http://www.wikidata.org/entity/P4694'), ('objName', 'Arquivo Arq ID')]\n",
      "[('p', 'http://www.wikidata.org/prop/direct/P1963'), ('pName', 'properties for this type'), ('obj', 'http://www.wikidata.org/entity/P4534'), ('objName', 'EUTA person ID')]\n",
      "29\n"
     ]
    }
   ],
   "source": [
    "#Q42973 architect\n",
    "queryString = \"\"\"\n",
    "SELECT DISTINCT ?p ?pName ?obj ?objName\n",
    "WHERE {\n",
    "   wd:Q42973 ?p ?obj .\n",
    "   ?p sc:name ?pName .\n",
    "   ?obj sc:name ?objName .\n",
    "}\n",
    "LIMIT 50\n",
    "\"\"\"\n",
    "\n",
    "print(\"Results\")\n",
    "x=run_query(queryString)"
   ]
  },
  {
   "cell_type": "code",
   "execution_count": 60,
   "id": "50e3f2e3-b081-4746-9df3-b37648cc0781",
   "metadata": {},
   "outputs": [
    {
     "name": "stdout",
     "output_type": "stream",
     "text": [
      "Results\n",
      "[('p', 'http://www.wikidata.org/prop/direct/P279'), ('pName', 'subclass of'), ('obj', 'http://www.wikidata.org/entity/Q2245405'), ('objName', 'key event')]\n",
      "[('p', 'http://www.wikidata.org/prop/direct/P31'), ('pName', 'instance of'), ('obj', 'http://www.wikidata.org/entity/Q309100'), ('objName', 'planning')]\n",
      "[('p', 'http://www.wikidata.org/prop/direct/P3095'), ('pName', 'practiced by'), ('obj', 'http://www.wikidata.org/entity/Q14623005'), ('objName', 'draftsperson')]\n",
      "[('p', 'http://www.wikidata.org/prop/direct/P3095'), ('pName', 'practiced by'), ('obj', 'http://www.wikidata.org/entity/Q42973'), ('objName', 'architect')]\n",
      "[('p', 'http://www.wikidata.org/prop/direct/P156'), ('pName', 'followed by'), ('obj', 'http://www.wikidata.org/entity/Q836900'), ('objName', 'construction permit')]\n",
      "[('p', 'http://www.wikidata.org/prop/direct/P3095'), ('pName', 'practiced by'), ('obj', 'http://www.wikidata.org/entity/Q21778977'), ('objName', 'building engineer')]\n",
      "[('p', 'http://www.wikidata.org/prop/direct/P361'), ('pName', 'part of'), ('obj', 'http://www.wikidata.org/entity/Q811686'), ('objName', 'building process')]\n",
      "[('p', 'http://www.wikidata.org/prop/direct/P2579'), ('pName', 'studied by'), ('obj', 'http://www.wikidata.org/entity/Q3741966'), ('objName', 'building science')]\n",
      "8\n"
     ]
    }
   ],
   "source": [
    "#Q323611 building design\n",
    "queryString = \"\"\"\n",
    "SELECT DISTINCT ?p ?pName ?obj ?objName\n",
    "WHERE {\n",
    "   wd:Q323611 ?p ?obj .\n",
    "   ?p sc:name ?pName .\n",
    "   ?obj sc:name ?objName .\n",
    "}\n",
    "LIMIT 50\n",
    "\"\"\"\n",
    "\n",
    "print(\"Results\")\n",
    "x=run_query(queryString)"
   ]
  },
  {
   "cell_type": "code",
   "execution_count": 61,
   "id": "7bc7c2d3-ee73-48ed-9611-bdac5439c3ed",
   "metadata": {},
   "outputs": [
    {
     "name": "stdout",
     "output_type": "stream",
     "text": [
      "Results\n",
      "[('p', 'http://www.wikidata.org/prop/direct/P1889'), ('pName', 'different from'), ('obj', 'http://www.wikidata.org/entity/Q1090219'), ('objName', 'building manager')]\n",
      "[('p', 'http://www.wikidata.org/prop/direct/P31'), ('pName', 'instance of'), ('obj', 'http://www.wikidata.org/entity/Q28640'), ('objName', 'profession')]\n",
      "[('p', 'http://www.wikidata.org/prop/direct/P425'), ('pName', 'field of this occupation'), ('obj', 'http://www.wikidata.org/entity/Q385378'), ('objName', 'construction')]\n",
      "[('p', 'http://www.wikidata.org/prop/direct/P279'), ('pName', 'subclass of'), ('obj', 'http://www.wikidata.org/entity/Q81096'), ('objName', 'engineer')]\n",
      "[('p', 'http://www.wikidata.org/prop/direct/P425'), ('pName', 'field of this occupation'), ('obj', 'http://www.wikidata.org/entity/Q150737'), ('objName', 'architectural engineering')]\n",
      "[('p', 'http://www.wikidata.org/prop/direct/P31'), ('pName', 'instance of'), ('obj', 'http://www.wikidata.org/entity/Q108300140'), ('objName', 'occupation group according to ISCO')]\n",
      "[('p', 'http://www.wikidata.org/prop/direct/P425'), ('pName', 'field of this occupation'), ('obj', 'http://www.wikidata.org/entity/Q323611'), ('objName', 'building design')]\n",
      "[('p', 'http://www.wikidata.org/prop/direct/P1889'), ('pName', 'different from'), ('obj', 'http://www.wikidata.org/entity/Q811459'), ('objName', 'construction manager')]\n",
      "[('p', 'http://www.wikidata.org/prop/direct/P279'), ('pName', 'subclass of'), ('obj', 'http://www.wikidata.org/entity/Q108289369'), ('objName', 'manufacturing, mining, construction and distribution managers')]\n",
      "[('p', 'http://www.wikidata.org/prop/direct/P4968'), ('pName', 'relevant qualification'), ('obj', 'http://www.wikidata.org/entity/Q3666805'), ('objName', 'Chartered Engineer')]\n",
      "[('p', 'http://www.wikidata.org/prop/direct/P4968'), ('pName', 'relevant qualification'), ('obj', 'http://www.wikidata.org/entity/Q106518281'), ('objName', 'Chartered Building Engineer')]\n",
      "[('p', 'http://www.wikidata.org/prop/direct/P4968'), ('pName', 'relevant qualification'), ('obj', 'http://www.wikidata.org/entity/Q3797789'), ('objName', 'Incorporated Engineer')]\n",
      "[('p', 'http://www.wikidata.org/prop/direct/P4968'), ('pName', 'relevant qualification'), ('obj', 'http://www.wikidata.org/entity/Q16978142'), ('objName', 'Chartered Construction Manager')]\n",
      "13\n"
     ]
    }
   ],
   "source": [
    "#Q21778977 building engineer\n",
    "queryString = \"\"\"\n",
    "SELECT DISTINCT ?p ?pName ?obj ?objName\n",
    "WHERE {\n",
    "   wd:Q21778977 ?p ?obj .\n",
    "   ?p sc:name ?pName .\n",
    "   ?obj sc:name ?objName .\n",
    "}\n",
    "LIMIT 50\n",
    "\"\"\"\n",
    "\n",
    "print(\"Results\")\n",
    "x=run_query(queryString)"
   ]
  },
  {
   "cell_type": "code",
   "execution_count": 63,
   "id": "08cec2c9-79cb-4f92-9939-9c19847dfcf5",
   "metadata": {},
   "outputs": [
    {
     "name": "stdout",
     "output_type": "stream",
     "text": [
      "Results\n",
      "[('p', 'http://www.wikidata.org/prop/direct/P3095'), ('pName', 'practiced by'), ('obj', 'http://www.wikidata.org/entity/Q3151019'), ('objName', 'architectural engineer')]\n",
      "[('p', 'http://www.wikidata.org/prop/direct/P361'), ('pName', 'part of'), ('obj', 'http://www.wikidata.org/entity/Q11023'), ('objName', 'engineering')]\n",
      "[('p', 'http://www.wikidata.org/prop/direct/P1889'), ('pName', 'different from'), ('obj', 'http://www.wikidata.org/entity/Q12271'), ('objName', 'architecture')]\n",
      "[('p', 'http://www.wikidata.org/prop/direct/P361'), ('pName', 'part of'), ('obj', 'http://www.wikidata.org/entity/Q12271'), ('objName', 'architecture')]\n",
      "[('p', 'http://www.wikidata.org/prop/direct/P279'), ('pName', 'subclass of'), ('obj', 'http://www.wikidata.org/entity/Q12271'), ('objName', 'architecture')]\n",
      "[('p', 'http://www.wikidata.org/prop/direct/P527'), ('pName', 'has part'), ('obj', 'http://www.wikidata.org/entity/Q1924856'), ('objName', 'metal construction')]\n",
      "[('p', 'http://www.wikidata.org/prop/direct/P31'), ('pName', 'instance of'), ('obj', 'http://www.wikidata.org/entity/Q12015335'), ('objName', 'branch of engineering')]\n",
      "[('p', 'http://www.wikidata.org/prop/direct/P527'), ('pName', 'has part'), ('obj', 'http://www.wikidata.org/entity/Q4986607'), ('objName', 'building services engineering')]\n",
      "[('p', 'http://www.wikidata.org/prop/direct/P910'), ('pName', \"topic's main category\"), ('obj', 'http://www.wikidata.org/entity/Q6777802'), ('objName', 'Category:Building engineering')]\n",
      "[('p', 'http://www.wikidata.org/prop/direct/P3095'), ('pName', 'practiced by'), ('obj', 'http://www.wikidata.org/entity/Q21778977'), ('objName', 'building engineer')]\n",
      "10\n"
     ]
    }
   ],
   "source": [
    "#Q150737 architectural engineering\n",
    "queryString = \"\"\"\n",
    "SELECT DISTINCT ?p ?pName ?obj ?objName\n",
    "WHERE {\n",
    "   wd:Q150737 ?p ?obj .\n",
    "   ?p sc:name ?pName .\n",
    "   ?obj sc:name ?objName .\n",
    "}\n",
    "LIMIT 50\n",
    "\"\"\"\n",
    "\n",
    "print(\"Results\")\n",
    "x=run_query(queryString)"
   ]
  },
  {
   "cell_type": "code",
   "execution_count": 64,
   "id": "52778401-440f-4f60-80d0-d5b615ed2908",
   "metadata": {},
   "outputs": [
    {
     "name": "stdout",
     "output_type": "stream",
     "text": [
      "Results\n",
      "[('s', 'http://www.wikidata.org/entity/Q8204876'), ('sName', 'prehistoric architecture')]\n",
      "[('s', 'http://www.wikidata.org/entity/Q12079348'), ('sName', 'Architecture of Belarus')]\n",
      "[('s', 'http://www.wikidata.org/entity/Q30134612'), ('sName', 'water architecture')]\n",
      "[('s', 'http://www.wikidata.org/entity/Q1856130'), ('sName', 'Mycenaan grave architecture')]\n",
      "[('s', 'http://www.wikidata.org/entity/Q47848'), ('sName', 'sacred architecture')]\n",
      "[('s', 'http://www.wikidata.org/entity/Q13724255'), ('sName', 'rock-cut architecture')]\n",
      "[('s', 'http://www.wikidata.org/entity/Q47844'), ('sName', 'landscape architecture')]\n",
      "[('s', 'http://www.wikidata.org/entity/Q1501585'), ('sName', 'Iranian architecture')]\n",
      "[('s', 'http://www.wikidata.org/entity/Q212940'), ('sName', 'Islamic architecture')]\n",
      "[('s', 'http://www.wikidata.org/entity/Q1477476'), ('sName', 'industrial architecture')]\n",
      "[('s', 'http://www.wikidata.org/entity/Q957904'), ('sName', 'Chinese architecture')]\n",
      "[('s', 'http://www.wikidata.org/entity/Q635238'), ('sName', 'Architecture of Düsseldorf')]\n",
      "[('s', 'http://www.wikidata.org/entity/Q21129596'), ('sName', 'Avant-garde architecture')]\n",
      "[('s', 'http://www.wikidata.org/entity/Q176483'), ('sName', 'Gothic architecture')]\n",
      "[('s', 'http://www.wikidata.org/entity/Q930314'), ('sName', 'vernacular architecture')]\n",
      "[('s', 'http://www.wikidata.org/entity/Q150737'), ('sName', 'architectural engineering')]\n",
      "[('s', 'http://www.wikidata.org/entity/Q1295040'), ('sName', 'Art Nouveau architecture')]\n",
      "[('s', 'http://www.wikidata.org/entity/Q41955438'), ('sName', 'brick building')]\n",
      "[('s', 'http://www.wikidata.org/entity/Q4787177'), ('sName', 'Architecture of Portland, Oregon')]\n",
      "[('s', 'http://www.wikidata.org/entity/Q4787188'), ('sName', 'Architecture of Scotland in the Prehistoric era')]\n",
      "[('s', 'http://www.wikidata.org/entity/Q4787209'), ('sName', 'Architecture of ancient Sri Lanka')]\n",
      "[('s', 'http://www.wikidata.org/entity/Q4787210'), ('sName', 'Architecture of the Republic of Macedonia')]\n",
      "[('s', 'http://www.wikidata.org/entity/Q4198718'), ('sName', 'classical architecture')]\n",
      "[('s', 'http://www.wikidata.org/entity/Q2654404'), ('sName', 'Spa architecture')]\n",
      "[('s', 'http://www.wikidata.org/entity/Q548879'), ('sName', 'novelty architecture')]\n",
      "[('s', 'http://www.wikidata.org/entity/Q2427263'), ('sName', 'Architecture of Azerbaijan')]\n",
      "[('s', 'http://www.wikidata.org/entity/Q1329946'), ('sName', 'interior architecture')]\n",
      "[('s', 'http://www.wikidata.org/entity/Q2580046'), ('sName', 'architecture of Portugal')]\n",
      "[('s', 'http://www.wikidata.org/entity/Q3621571'), ('sName', 'Opensource Architecture')]\n",
      "[('s', 'http://www.wikidata.org/entity/Q2712488'), ('sName', 'architecture of Spain')]\n",
      "[('s', 'http://www.wikidata.org/entity/Q12079351'), ('sName', 'architecture of Madrid')]\n",
      "[('s', 'http://www.wikidata.org/entity/Q7312462'), ('sName', 'Renaissance architecture in Eastern Europe')]\n",
      "[('s', 'http://www.wikidata.org/entity/Q16821738'), ('sName', 'architecture of England')]\n",
      "[('s', 'http://www.wikidata.org/entity/Q171309'), ('sName', 'Dravidian architecture')]\n",
      "[('s', 'http://www.wikidata.org/entity/Q3533669'), ('sName', 'Vijayanagara architecture')]\n",
      "[('s', 'http://www.wikidata.org/entity/Q2860334'), ('sName', 'church architecture')]\n",
      "[('s', 'http://www.wikidata.org/entity/Q5808379'), ('sName', 'architectural design')]\n",
      "[('s', 'http://www.wikidata.org/entity/Q5317261'), ('sName', 'Dutch Colonial architecture')]\n",
      "[('s', 'http://www.wikidata.org/entity/Q2304178'), ('sName', 'architecture of the United States')]\n",
      "[('s', 'http://www.wikidata.org/entity/Q1136352'), ('sName', 'naval architecture')]\n",
      "[('s', 'http://www.wikidata.org/entity/Q1566104'), ('sName', 'Architecture of Bosnia and Herzegovina')]\n",
      "[('s', 'http://www.wikidata.org/entity/Q635254'), ('sName', 'Architecture of North Rhine-Westphalia')]\n",
      "[('s', 'http://www.wikidata.org/entity/Q6756656'), ('sName', 'Eretz Israel style')]\n",
      "[('s', 'http://www.wikidata.org/entity/Q30056315'), ('sName', 'military architecture')]\n",
      "[('s', 'http://www.wikidata.org/entity/Q4426604'), ('sName', 'wooden architecture')]\n",
      "[('s', 'http://www.wikidata.org/entity/Q19874566'), ('sName', 'indigenous architecture')]\n",
      "[('s', 'http://www.wikidata.org/entity/Q65064227'), ('sName', 'architecture of the United Arab Emirates')]\n",
      "[('s', 'http://www.wikidata.org/entity/Q2003901'), ('sName', 'architecture in Tibet')]\n",
      "[('s', 'http://www.wikidata.org/entity/Q673699'), ('sName', 'arcology')]\n",
      "[('s', 'http://www.wikidata.org/entity/Q185035'), ('sName', 'sustainable architecture')]\n",
      "50\n"
     ]
    }
   ],
   "source": [
    "#P279 subclass of\n",
    "#Q12271 architecture\n",
    "\n",
    "queryString = \"\"\"\n",
    "SELECT DISTINCT ?s ?sName\n",
    "WHERE {\n",
    "   ?s wdt:P279 wd:Q12271 .\n",
    "   ?s sc:name ?sName .\n",
    "}\n",
    "LIMIT 50\n",
    "\"\"\"\n",
    "\n",
    "print(\"Results\")\n",
    "x=run_query(queryString)"
   ]
  },
  {
   "cell_type": "code",
   "execution_count": 65,
   "id": "f2388694-826d-4880-a167-94071595f841",
   "metadata": {},
   "outputs": [
    {
     "name": "stdout",
     "output_type": "stream",
     "text": [
      "Results\n",
      "[('obj', 'http://www.wikidata.org/entity/Q2796470'), ('objName', 'timeline of architecture')]\n",
      "[('obj', 'http://www.wikidata.org/entity/Q56055944'), ('objName', 'art form')]\n",
      "[('obj', 'http://www.wikidata.org/entity/Q6204331'), ('objName', 'Category:Architecture')]\n",
      "[('obj', 'http://www.wikidata.org/entity/Q106727050'), ('objName', 'Metropolitan Museum of Art Tagging Vocabulary')]\n",
      "[('obj', 'http://www.wikidata.org/entity/Q11862829'), ('objName', 'academic discipline')]\n",
      "[('obj', 'http://www.wikidata.org/entity/Q19180675'), ('objName', 'Small Brockhaus and Efron Encyclopedic Dictionary')]\n",
      "[('obj', 'http://www.wikidata.org/entity/Q1970746'), ('objName', 'Explanatory Dictionary of the Living Great Russian Language')]\n",
      "[('obj', 'http://www.wikidata.org/entity/Q385378'), ('objName', 'construction')]\n",
      "[('obj', 'http://www.wikidata.org/entity/Q4173137'), ('objName', 'Jewish Encyclopedia of Brockhaus and Efron')]\n",
      "[('obj', 'http://www.wikidata.org/entity/Q42973'), ('objName', 'architect')]\n",
      "[('obj', 'http://www.wikidata.org/entity/Q5460604'), ('objName', 'Wikipedia:Vital articles')]\n",
      "[('obj', 'http://www.wikidata.org/entity/Q602358'), ('objName', 'Brockhaus and Efron Encyclopedic Dictionary')]\n",
      "[('obj', 'http://www.wikidata.org/entity/Q811979'), ('objName', 'architectural structure')]\n",
      "[('obj', 'http://www.wikidata.org/entity/Q867541'), ('objName', 'Encyclopædia Britannica 11th edition')]\n",
      "[('obj', 'http://www.wikidata.org/entity/Q8148'), ('objName', 'industry')]\n",
      "[('obj', 'http://www.wikidata.org/entity/Q32880'), ('objName', 'architectural style')]\n",
      "[('obj', 'http://www.wikidata.org/entity/Q150737'), ('objName', 'architectural engineering')]\n",
      "[('obj', 'http://www.wikidata.org/entity/Q8180985'), ('objName', 'history of architecture')]\n",
      "[('obj', 'http://www.wikidata.org/entity/Q1580166'), ('objName', 'dictionary entry')]\n",
      "[('obj', 'http://www.wikidata.org/entity/Q10389811'), ('objName', 'reference work entry')]\n",
      "[('obj', 'http://www.wikidata.org/entity/Q47537'), ('objName', 'architectural theory')]\n",
      "[('obj', 'http://www.wikidata.org/entity/Q19430752'), ('objName', 'Diccionario de Arquitectura Civil')]\n",
      "[('obj', 'http://www.wikidata.org/entity/Q3248428'), ('objName', 'Portal:Architecture')]\n",
      "[('obj', 'http://www.wikidata.org/entity/Q89358787'), ('objName', 'AEC industry')]\n",
      "[('obj', 'http://www.wikidata.org/entity/Q12079357'), ('objName', 'architectural activity')]\n",
      "[('obj', 'http://www.wikidata.org/entity/Q7112558'), ('objName', 'outline of architecture')]\n",
      "26\n"
     ]
    }
   ],
   "source": [
    "#Q12271 architecture\n",
    "\n",
    "queryString = \"\"\"\n",
    "SELECT DISTINCT ?obj ?objName\n",
    "WHERE {\n",
    "   wd:Q12271 ?p ?obj .\n",
    "   ?obj sc:name ?objName .\n",
    "}\n",
    "LIMIT 50\n",
    "\"\"\"\n",
    "\n",
    "print(\"Results\")\n",
    "x=run_query(queryString)"
   ]
  },
  {
   "cell_type": "code",
   "execution_count": 71,
   "id": "e6bd43fa-9250-491b-8d5b-7afc887d3f0e",
   "metadata": {},
   "outputs": [
    {
     "name": "stdout",
     "output_type": "stream",
     "text": [
      "Results\n",
      "[('obj', 'http://www.wikidata.org/entity/Q1090219'), ('objName', 'building manager')]\n",
      "[('obj', 'http://www.wikidata.org/entity/Q28640'), ('objName', 'profession')]\n",
      "[('obj', 'http://www.wikidata.org/entity/Q385378'), ('objName', 'construction')]\n",
      "[('obj', 'http://www.wikidata.org/entity/Q81096'), ('objName', 'engineer')]\n",
      "[('obj', 'http://www.wikidata.org/entity/Q150737'), ('objName', 'architectural engineering')]\n",
      "[('obj', 'http://www.wikidata.org/entity/Q108300140'), ('objName', 'occupation group according to ISCO')]\n",
      "[('obj', 'http://www.wikidata.org/entity/Q323611'), ('objName', 'building design')]\n",
      "[('obj', 'http://www.wikidata.org/entity/Q811459'), ('objName', 'construction manager')]\n",
      "[('obj', 'http://www.wikidata.org/entity/Q108289369'), ('objName', 'manufacturing, mining, construction and distribution managers')]\n",
      "[('obj', 'http://www.wikidata.org/entity/Q3666805'), ('objName', 'Chartered Engineer')]\n",
      "[('obj', 'http://www.wikidata.org/entity/Q106518281'), ('objName', 'Chartered Building Engineer')]\n",
      "[('obj', 'http://www.wikidata.org/entity/Q3797789'), ('objName', 'Incorporated Engineer')]\n",
      "[('obj', 'http://www.wikidata.org/entity/Q16978142'), ('objName', 'Chartered Construction Manager')]\n",
      "13\n"
     ]
    }
   ],
   "source": [
    "#Q21778977 building engineer\n",
    "#Q3741966 building science\n",
    "queryString = \"\"\"\n",
    "SELECT DISTINCT ?obj ?objName\n",
    "WHERE {\n",
    "   wd:Q21778977 ?p ?obj .\n",
    "   ?obj sc:name ?objName .\n",
    "}\n",
    "LIMIT 50\n",
    "\"\"\"\n",
    "\n",
    "print(\"Results\")\n",
    "x=run_query(queryString)"
   ]
  },
  {
   "cell_type": "code",
   "execution_count": 68,
   "id": "d837d493-ded7-49f1-9aae-03dc4d97ce43",
   "metadata": {},
   "outputs": [
    {
     "name": "stdout",
     "output_type": "stream",
     "text": [
      "Results\n",
      "[('s', 'http://www.wikidata.org/entity/Q385378'), ('sName', 'construction')]\n",
      "[('s', 'http://www.wikidata.org/entity/Q323611'), ('sName', 'building design')]\n",
      "[('s', 'http://www.wikidata.org/entity/Q2656128'), ('sName', 'seismic analysis')]\n",
      "[('s', 'http://www.wikidata.org/entity/Q17131184'), ('sName', 'settlement')]\n",
      "[('s', 'http://www.wikidata.org/entity/Q16751046'), ('sName', 'Stephen Selkowitz')]\n",
      "[('s', 'http://www.wikidata.org/entity/Q7997511'), ('sName', 'Whole Building Design Guide')]\n",
      "6\n"
     ]
    }
   ],
   "source": [
    "#Q21778977 building engineer\n",
    "#Q3741966 building science\n",
    "queryString = \"\"\"\n",
    "SELECT DISTINCT ?s ?sName\n",
    "WHERE {\n",
    "    ?s ?p wd:Q3741966 .\n",
    "   ?s sc:name ?sName .\n",
    "}\n",
    "LIMIT 50\n",
    "\"\"\"\n",
    "\n",
    "print(\"Results\")\n",
    "x=run_query(queryString)"
   ]
  },
  {
   "cell_type": "code",
   "execution_count": 77,
   "id": "5425a26e-21b4-46a3-9d5d-a4307c82f60c",
   "metadata": {},
   "outputs": [
    {
     "name": "stdout",
     "output_type": "stream",
     "text": [
      "Results\n",
      "[('p', 'http://www.wikidata.org/prop/direct/P460'), ('pName', 'said to be the same as'), ('obj', 'http://www.wikidata.org/entity/Q84312746'), ('objName', 'janitor')]\n",
      "[('p', 'http://www.wikidata.org/prop/direct/P1889'), ('pName', 'different from'), ('obj', 'http://www.wikidata.org/entity/Q21778977'), ('objName', 'building engineer')]\n",
      "[('p', 'http://www.wikidata.org/prop/direct/P460'), ('pName', 'said to be the same as'), ('obj', 'http://www.wikidata.org/entity/Q2664461'), ('objName', 'concierge')]\n",
      "[('p', 'http://www.wikidata.org/prop/direct/P1889'), ('pName', 'different from'), ('obj', 'http://www.wikidata.org/entity/Q811459'), ('objName', 'construction manager')]\n",
      "[('p', 'http://www.wikidata.org/prop/direct/P279'), ('pName', 'subclass of'), ('obj', 'http://www.wikidata.org/entity/Q63930359'), ('objName', 'maintenance worker')]\n",
      "[('p', 'http://www.wikidata.org/prop/direct/P31'), ('pName', 'instance of'), ('obj', 'http://www.wikidata.org/entity/Q84313594'), ('objName', 'service profession')]\n",
      "6\n"
     ]
    }
   ],
   "source": [
    "#Q1090219 building manager\n",
    "queryString = \"\"\"\n",
    "SELECT DISTINCT ?p ?pName ?obj ?objName\n",
    "WHERE {\n",
    "   wd:Q1090219 ?p ?obj .\n",
    "   ?p sc:name ?pName .\n",
    "   ?obj sc:name ?objName .\n",
    "}\n",
    "LIMIT 50\n",
    "\"\"\"\n",
    "\n",
    "print(\"Results\")\n",
    "x=run_query(queryString)"
   ]
  },
  {
   "cell_type": "code",
   "execution_count": 80,
   "id": "29f2283c-b8ce-4c82-b10d-1379fd7845c6",
   "metadata": {},
   "outputs": [
    {
     "name": "stdout",
     "output_type": "stream",
     "text": [
      "Results\n",
      "[('p', 'http://www.wikidata.org/prop/direct/P279'), ('pName', 'subclass of'), ('obj', 'http://www.wikidata.org/entity/Q2245405'), ('objName', 'key event')]\n",
      "[('p', 'http://www.wikidata.org/prop/direct/P31'), ('pName', 'instance of'), ('obj', 'http://www.wikidata.org/entity/Q309100'), ('objName', 'planning')]\n",
      "[('p', 'http://www.wikidata.org/prop/direct/P3095'), ('pName', 'practiced by'), ('obj', 'http://www.wikidata.org/entity/Q14623005'), ('objName', 'draftsperson')]\n",
      "[('p', 'http://www.wikidata.org/prop/direct/P3095'), ('pName', 'practiced by'), ('obj', 'http://www.wikidata.org/entity/Q42973'), ('objName', 'architect')]\n",
      "[('p', 'http://www.wikidata.org/prop/direct/P156'), ('pName', 'followed by'), ('obj', 'http://www.wikidata.org/entity/Q836900'), ('objName', 'construction permit')]\n",
      "[('p', 'http://www.wikidata.org/prop/direct/P3095'), ('pName', 'practiced by'), ('obj', 'http://www.wikidata.org/entity/Q21778977'), ('objName', 'building engineer')]\n",
      "[('p', 'http://www.wikidata.org/prop/direct/P361'), ('pName', 'part of'), ('obj', 'http://www.wikidata.org/entity/Q811686'), ('objName', 'building process')]\n",
      "[('p', 'http://www.wikidata.org/prop/direct/P2579'), ('pName', 'studied by'), ('obj', 'http://www.wikidata.org/entity/Q3741966'), ('objName', 'building science')]\n",
      "8\n"
     ]
    }
   ],
   "source": [
    "#Q323611 building design\n",
    "queryString = \"\"\"\n",
    "SELECT DISTINCT ?p ?pName ?obj ?objName\n",
    "WHERE {\n",
    "   wd:Q323611 ?p ?obj .\n",
    "   ?p sc:name ?pName .\n",
    "   ?obj sc:name ?objName .\n",
    "}\n",
    "LIMIT 50\n",
    "\"\"\"\n",
    "\n",
    "print(\"Results\")\n",
    "x=run_query(queryString)"
   ]
  },
  {
   "cell_type": "code",
   "execution_count": 81,
   "id": "60f2113d-5336-4944-985d-fdd473ed718a",
   "metadata": {},
   "outputs": [
    {
     "name": "stdout",
     "output_type": "stream",
     "text": [
      "Results\n",
      "[('s', 'http://www.wikidata.org/entity/Q106425407'), ('sName', 'Lokesh Masania'), ('p', 'http://www.wikidata.org/prop/direct/P101'), ('pName', 'field of work')]\n",
      "[('s', 'http://www.wikidata.org/entity/Q811683'), ('sName', 'proposed building or structure'), ('p', 'http://www.wikidata.org/prop/direct/P1269'), ('pName', 'facet of')]\n",
      "[('s', 'http://www.wikidata.org/entity/Q3150682'), ('sName', 'thermal mass'), ('p', 'http://www.wikidata.org/prop/direct/P1269'), ('pName', 'facet of')]\n",
      "[('s', 'http://www.wikidata.org/entity/Q836900'), ('sName', 'construction permit'), ('p', 'http://www.wikidata.org/prop/direct/P155'), ('pName', 'follows')]\n",
      "[('s', 'http://www.wikidata.org/entity/Q1404946'), ('sName', 'Service phases according to HOAI'), ('p', 'http://www.wikidata.org/prop/direct/P361'), ('pName', 'part of')]\n",
      "[('s', 'http://www.wikidata.org/entity/Q1501477'), ('sName', 'Approval planning'), ('p', 'http://www.wikidata.org/prop/direct/P361'), ('pName', 'part of')]\n",
      "[('s', 'http://www.wikidata.org/entity/Q3962376'), ('sName', 'site planning'), ('p', 'http://www.wikidata.org/prop/direct/P361'), ('pName', 'part of')]\n",
      "[('s', 'http://www.wikidata.org/entity/Q778554'), ('sName', 'Implementation planning'), ('p', 'http://www.wikidata.org/prop/direct/P361'), ('pName', 'part of')]\n",
      "[('s', 'http://www.wikidata.org/entity/Q100254821'), ('sName', 'Sonata'), ('p', 'http://www.wikidata.org/prop/direct/P366'), ('pName', 'use')]\n",
      "[('s', 'http://www.wikidata.org/entity/Q4691670'), ('sName', 'AgcXML'), ('p', 'http://www.wikidata.org/prop/direct/P366'), ('pName', 'use')]\n",
      "[('s', 'http://www.wikidata.org/entity/Q89356160'), ('sName', 'whole building design'), ('p', 'http://www.wikidata.org/prop/direct/P366'), ('pName', 'use')]\n",
      "[('s', 'http://www.wikidata.org/entity/Q21778977'), ('sName', 'building engineer'), ('p', 'http://www.wikidata.org/prop/direct/P425'), ('pName', 'field of this occupation')]\n",
      "[('s', 'http://www.wikidata.org/entity/Q14623005'), ('sName', 'draftsperson'), ('p', 'http://www.wikidata.org/prop/direct/P425'), ('pName', 'field of this occupation')]\n",
      "[('s', 'http://www.wikidata.org/entity/Q4787068'), ('sName', 'architectural technologist'), ('p', 'http://www.wikidata.org/prop/direct/P425'), ('pName', 'field of this occupation')]\n",
      "[('s', 'http://www.wikidata.org/entity/Q42973'), ('sName', 'architect'), ('p', 'http://www.wikidata.org/prop/direct/P425'), ('pName', 'field of this occupation')]\n",
      "[('s', 'http://www.wikidata.org/entity/Q98005107'), ('sName', 'Antivirus-built environment: Lessons learned from Covid-19 pandemic'), ('p', 'http://www.wikidata.org/prop/direct/P921'), ('pName', 'main subject')]\n",
      "16\n"
     ]
    }
   ],
   "source": [
    "#Q323611 building design\n",
    "queryString = \"\"\"\n",
    "SELECT DISTINCT ?s ?sName ?p ?pName\n",
    "WHERE {\n",
    "   ?s ?p wd:Q323611 .\n",
    "   ?s sc:name ?sName .\n",
    "   ?p sc:name ?pName .\n",
    "}\n",
    "LIMIT 50\n",
    "\"\"\"\n",
    "\n",
    "print(\"Results\")\n",
    "x=run_query(queryString)"
   ]
  },
  {
   "cell_type": "code",
   "execution_count": 83,
   "id": "b60ae058-10a6-48f4-8b0f-05e986a388a2",
   "metadata": {},
   "outputs": [
    {
     "name": "stdout",
     "output_type": "stream",
     "text": [
      "Results\n",
      "[('s', 'http://www.wikidata.org/entity/Q10973090'), ('sName', 'Template:Infobox architect'), ('p', 'http://www.wikidata.org/prop/direct/P1423'), ('pName', 'template has topic')]\n",
      "[('s', 'http://www.wikidata.org/entity/Q17650601'), ('sName', 'Czesław Świałkowski'), ('p', 'http://www.wikidata.org/prop/direct/P101'), ('pName', 'field of work')]\n",
      "[('s', 'http://www.wikidata.org/entity/Q19826268'), ('sName', 'Andrzej Urban'), ('p', 'http://www.wikidata.org/prop/direct/P101'), ('pName', 'field of work')]\n",
      "[('s', 'http://www.wikidata.org/entity/Q69384'), ('sName', 'Martin Gropius'), ('p', 'http://www.wikidata.org/prop/direct/P101'), ('pName', 'field of work')]\n",
      "[('s', 'http://www.wikidata.org/entity/Q2628666'), ('sName', 'Elissa Aalto'), ('p', 'http://www.wikidata.org/prop/direct/P101'), ('pName', 'field of work')]\n",
      "[('s', 'http://www.wikidata.org/entity/Q273511'), ('sName', 'Aino Aalto'), ('p', 'http://www.wikidata.org/prop/direct/P101'), ('pName', 'field of work')]\n",
      "[('s', 'http://www.wikidata.org/entity/Q9152846'), ('sName', 'Andrzej Marek Chołdzyński'), ('p', 'http://www.wikidata.org/prop/direct/P101'), ('pName', 'field of work')]\n",
      "[('s', 'http://www.wikidata.org/entity/Q9250635'), ('sName', 'Eduard Titz'), ('p', 'http://www.wikidata.org/prop/direct/P101'), ('pName', 'field of work')]\n",
      "[('s', 'http://www.wikidata.org/entity/Q6110586'), ('sName', 'Jacek Krenz'), ('p', 'http://www.wikidata.org/prop/direct/P101'), ('pName', 'field of work')]\n",
      "[('s', 'http://www.wikidata.org/entity/Q113014'), ('sName', 'Ferdinand Fellner'), ('p', 'http://www.wikidata.org/prop/direct/P101'), ('pName', 'field of work')]\n",
      "[('s', 'http://www.wikidata.org/entity/Q4865502'), ('sName', 'Bartolomeo Avanzini'), ('p', 'http://www.wikidata.org/prop/direct/P101'), ('pName', 'field of work')]\n",
      "[('s', 'http://www.wikidata.org/entity/Q4281274'), ('sName', 'Abram Marder'), ('p', 'http://www.wikidata.org/prop/direct/P101'), ('pName', 'field of work')]\n",
      "[('s', 'http://www.wikidata.org/entity/Q11711350'), ('sName', 'Ignacy Stebelski'), ('p', 'http://www.wikidata.org/prop/direct/P101'), ('pName', 'field of work')]\n",
      "[('s', 'http://www.wikidata.org/entity/Q7159418'), ('sName', 'Pedro Adolfo de Castro'), ('p', 'http://www.wikidata.org/prop/direct/P101'), ('pName', 'field of work')]\n",
      "[('s', 'http://www.wikidata.org/entity/Q8865976'), ('sName', 'Łukasz Wolski'), ('p', 'http://www.wikidata.org/prop/direct/P101'), ('pName', 'field of work')]\n",
      "[('s', 'http://www.wikidata.org/entity/Q9184585'), ('sName', 'Carl Meyer'), ('p', 'http://www.wikidata.org/prop/direct/P101'), ('pName', 'field of work')]\n",
      "[('s', 'http://www.wikidata.org/entity/Q9374487'), ('sName', 'Wilhelm Lincke'), ('p', 'http://www.wikidata.org/prop/direct/P101'), ('pName', 'field of work')]\n",
      "[('s', 'http://www.wikidata.org/entity/Q28653958'), ('sName', 'Zbigniew Wolski'), ('p', 'http://www.wikidata.org/prop/direct/P101'), ('pName', 'field of work')]\n",
      "[('s', 'http://www.wikidata.org/entity/Q69473'), ('sName', 'Wilhelm Kreis'), ('p', 'http://www.wikidata.org/prop/direct/P101'), ('pName', 'field of work')]\n",
      "[('s', 'http://www.wikidata.org/entity/Q107292'), ('sName', 'Frank Meisler'), ('p', 'http://www.wikidata.org/prop/direct/P101'), ('pName', 'field of work')]\n",
      "[('s', 'http://www.wikidata.org/entity/Q7599230'), ('sName', 'Stanisław Staszewski'), ('p', 'http://www.wikidata.org/prop/direct/P101'), ('pName', 'field of work')]\n",
      "[('s', 'http://www.wikidata.org/entity/Q338824'), ('sName', 'Imre Makovecz'), ('p', 'http://www.wikidata.org/prop/direct/P101'), ('pName', 'field of work')]\n",
      "[('s', 'http://www.wikidata.org/entity/Q1611273'), ('sName', 'Mikayil Huseynov'), ('p', 'http://www.wikidata.org/prop/direct/P101'), ('pName', 'field of work')]\n",
      "[('s', 'http://www.wikidata.org/entity/Q102289'), ('sName', 'Buckminster Fuller'), ('p', 'http://www.wikidata.org/prop/direct/P101'), ('pName', 'field of work')]\n",
      "[('s', 'http://www.wikidata.org/entity/Q9258668'), ('sName', 'Feliks Księżarski'), ('p', 'http://www.wikidata.org/prop/direct/P101'), ('pName', 'field of work')]\n",
      "[('s', 'http://www.wikidata.org/entity/Q3184680'), ('sName', 'Joseph Bukiet'), ('p', 'http://www.wikidata.org/prop/direct/P101'), ('pName', 'field of work')]\n",
      "[('s', 'http://www.wikidata.org/entity/Q113775'), ('sName', 'Frederick John Kiesler'), ('p', 'http://www.wikidata.org/prop/direct/P101'), ('pName', 'field of work')]\n",
      "[('s', 'http://www.wikidata.org/entity/Q7945875'), ('sName', 'Ignacy Tłoczek'), ('p', 'http://www.wikidata.org/prop/direct/P101'), ('pName', 'field of work')]\n",
      "[('s', 'http://www.wikidata.org/entity/Q9294826'), ('sName', 'Hugo Pill'), ('p', 'http://www.wikidata.org/prop/direct/P101'), ('pName', 'field of work')]\n",
      "[('s', 'http://www.wikidata.org/entity/Q9343347'), ('sName', 'Stanisław Witold Ziołowski'), ('p', 'http://www.wikidata.org/prop/direct/P101'), ('pName', 'field of work')]\n",
      "[('s', 'http://www.wikidata.org/entity/Q9354077'), ('sName', 'Tadeusz Biesiekierski'), ('p', 'http://www.wikidata.org/prop/direct/P101'), ('pName', 'field of work')]\n",
      "[('s', 'http://www.wikidata.org/entity/Q9392968'), ('sName', 'Zygmunt Kędzierski'), ('p', 'http://www.wikidata.org/prop/direct/P101'), ('pName', 'field of work')]\n",
      "[('s', 'http://www.wikidata.org/entity/Q11817330'), ('sName', 'Piotr Brukalski'), ('p', 'http://www.wikidata.org/prop/direct/P101'), ('pName', 'field of work')]\n",
      "[('s', 'http://www.wikidata.org/entity/Q78792'), ('sName', 'Heinrich von Ferstel'), ('p', 'http://www.wikidata.org/prop/direct/P101'), ('pName', 'field of work')]\n",
      "[('s', 'http://www.wikidata.org/entity/Q552472'), ('sName', 'Stefan Szyller'), ('p', 'http://www.wikidata.org/prop/direct/P101'), ('pName', 'field of work')]\n",
      "[('s', 'http://www.wikidata.org/entity/Q18747811'), ('sName', 'Sławomir Czajkowski'), ('p', 'http://www.wikidata.org/prop/direct/P101'), ('pName', 'field of work')]\n",
      "[('s', 'http://www.wikidata.org/entity/Q25413316'), ('sName', 'Andrzej Grzybowski'), ('p', 'http://www.wikidata.org/prop/direct/P101'), ('pName', 'field of work')]\n",
      "[('s', 'http://www.wikidata.org/entity/Q2999996'), ('sName', 'Daniël Stalpaert'), ('p', 'http://www.wikidata.org/prop/direct/P101'), ('pName', 'field of work')]\n",
      "[('s', 'http://www.wikidata.org/entity/Q11108691'), ('sName', 'Franciszek Mączyński'), ('p', 'http://www.wikidata.org/prop/direct/P101'), ('pName', 'field of work')]\n",
      "[('s', 'http://www.wikidata.org/entity/Q11738427'), ('sName', 'Kazimierz Ulatowski'), ('p', 'http://www.wikidata.org/prop/direct/P101'), ('pName', 'field of work')]\n",
      "[('s', 'http://www.wikidata.org/entity/Q11754982'), ('sName', 'Leszek Karczewski'), ('p', 'http://www.wikidata.org/prop/direct/P101'), ('pName', 'field of work')]\n",
      "[('s', 'http://www.wikidata.org/entity/Q6959454'), ('sName', 'Nahum Zolotov'), ('p', 'http://www.wikidata.org/prop/direct/P101'), ('pName', 'field of work')]\n",
      "[('s', 'http://www.wikidata.org/entity/Q15966315'), ('sName', 'Zbigniew Bielak'), ('p', 'http://www.wikidata.org/prop/direct/P101'), ('pName', 'field of work')]\n",
      "[('s', 'http://www.wikidata.org/entity/Q316227'), ('sName', 'Nicolas de Pigage'), ('p', 'http://www.wikidata.org/prop/direct/P101'), ('pName', 'field of work')]\n",
      "[('s', 'http://www.wikidata.org/entity/Q18954442'), ('sName', 'Marian Pepler'), ('p', 'http://www.wikidata.org/prop/direct/P101'), ('pName', 'field of work')]\n",
      "[('s', 'http://www.wikidata.org/entity/Q8863746'), ('sName', 'Stanisław Niewiadomski'), ('p', 'http://www.wikidata.org/prop/direct/P101'), ('pName', 'field of work')]\n",
      "[('s', 'http://www.wikidata.org/entity/Q18747806'), ('sName', 'Jan Krug'), ('p', 'http://www.wikidata.org/prop/direct/P101'), ('pName', 'field of work')]\n",
      "[('s', 'http://www.wikidata.org/entity/Q11753535'), ('sName', 'Lech Sternal'), ('p', 'http://www.wikidata.org/prop/direct/P101'), ('pName', 'field of work')]\n",
      "[('s', 'http://www.wikidata.org/entity/Q16615967'), ('sName', 'Wojciech Piotrowski'), ('p', 'http://www.wikidata.org/prop/direct/P101'), ('pName', 'field of work')]\n",
      "[('s', 'http://www.wikidata.org/entity/Q11835265'), ('sName', 'Roman Piotrowski'), ('p', 'http://www.wikidata.org/prop/direct/P101'), ('pName', 'field of work')]\n",
      "50\n"
     ]
    }
   ],
   "source": [
    "#Q42973 architect\n",
    "queryString = \"\"\"\n",
    "SELECT DISTINCT ?s ?sName ?p ?pName\n",
    "WHERE {\n",
    "   ?s ?p wd:Q42973 .\n",
    "   ?s sc:name ?sName .\n",
    "   ?p sc:name ?pName .\n",
    "}\n",
    "LIMIT 50\n",
    "\"\"\"\n",
    "\n",
    "print(\"Results\")\n",
    "x=run_query(queryString)"
   ]
  },
  {
   "cell_type": "code",
   "execution_count": 92,
   "id": "d31bad64-6344-440f-aa33-0b5551f71bfb",
   "metadata": {},
   "outputs": [
    {
     "name": "stdout",
     "output_type": "stream",
     "text": [
      "Results\n",
      "[('p', 'http://www.wikidata.org/prop/direct/P101'), ('pName', 'field of work'), ('o', 'http://www.wikidata.org/entity/Q42973'), ('oName', 'architect')]\n",
      "[('p', 'http://www.wikidata.org/prop/direct/P106'), ('pName', 'occupation'), ('o', 'http://www.wikidata.org/entity/Q42973'), ('oName', 'architect')]\n",
      "[('p', 'http://www.wikidata.org/prop/direct/P119'), ('pName', 'place of burial'), ('o', 'http://www.wikidata.org/entity/Q4981891'), ('oName', 'Bródno Cemetery')]\n",
      "[('p', 'http://www.wikidata.org/prop/direct/P1412'), ('pName', 'languages spoken, written or signed'), ('o', 'http://www.wikidata.org/entity/Q809'), ('oName', 'Polish')]\n",
      "[('p', 'http://www.wikidata.org/prop/direct/P20'), ('pName', 'place of death'), ('o', 'http://www.wikidata.org/entity/Q270'), ('oName', 'Warsaw')]\n",
      "[('p', 'http://www.wikidata.org/prop/direct/P21'), ('pName', 'sex or gender'), ('o', 'http://www.wikidata.org/entity/Q6581097'), ('oName', 'male')]\n",
      "[('p', 'http://www.wikidata.org/prop/direct/P27'), ('pName', 'country of citizenship'), ('o', 'http://www.wikidata.org/entity/Q36'), ('oName', 'Poland')]\n",
      "[('p', 'http://www.wikidata.org/prop/direct/P31'), ('pName', 'instance of'), ('o', 'http://www.wikidata.org/entity/Q5'), ('oName', 'human')]\n",
      "[('p', 'http://www.wikidata.org/prop/direct/P69'), ('pName', 'educated at'), ('o', 'http://www.wikidata.org/entity/Q11838080'), ('oName', 'Faculty of Architecture of the Silesian University of Technology')]\n",
      "[('p', 'http://www.wikidata.org/prop/direct/P734'), ('pName', 'family name'), ('o', 'http://www.wikidata.org/entity/Q11878943'), ('oName', 'Urban')]\n",
      "[('p', 'http://www.wikidata.org/prop/direct/P735'), ('pName', 'given name'), ('o', 'http://www.wikidata.org/entity/Q14941830'), ('oName', 'Andrzej')]\n",
      "11\n"
     ]
    }
   ],
   "source": [
    "# Q19826268 Andrzej Urban\n",
    "queryString = \"\"\"\n",
    "SELECT DISTINCT ?p ?pName ?o ?oName\n",
    "WHERE {\n",
    "   wd:Q19826268 ?p ?o.\n",
    "   ?o sc:name ?oName .\n",
    "   ?p sc:name ?pName .\n",
    "}\n",
    "LIMIT 50\n",
    "\"\"\"\n",
    "\n",
    "print(\"Results\")\n",
    "x=run_query(queryString)"
   ]
  },
  {
   "cell_type": "code",
   "execution_count": 85,
   "id": "32a748b7-8abd-405f-ab64-a5af7e91280c",
   "metadata": {},
   "outputs": [
    {
     "name": "stdout",
     "output_type": "stream",
     "text": [
      "Results\n",
      "[('pName', 'patron saint'), ('o', 'http://www.wikidata.org/entity/Q43669'), ('oName', 'Thomas the Apostle')]\n",
      "[('pName', 'patron saint'), ('o', 'http://www.wikidata.org/entity/Q192816'), ('oName', 'Saint Barbara')]\n",
      "[('pName', 'patron saint'), ('o', 'http://www.wikidata.org/entity/Q44265'), ('oName', 'Benedict of Nursia')]\n",
      "[('pName', \"topic's main category\"), ('o', 'http://www.wikidata.org/entity/Q6875304'), ('oName', 'Category:Architects')]\n",
      "[('pName', 'described by source'), ('o', 'http://www.wikidata.org/entity/Q106727050'), ('oName', 'Metropolitan Museum of Art Tagging Vocabulary')]\n",
      "[('pName', 'instance of'), ('o', 'http://www.wikidata.org/entity/Q12737077'), ('oName', 'occupation')]\n",
      "[('pName', 'instance of'), ('o', 'http://www.wikidata.org/entity/Q28640'), ('oName', 'profession')]\n",
      "[('pName', 'field of this occupation'), ('o', 'http://www.wikidata.org/entity/Q385378'), ('oName', 'construction')]\n",
      "[('pName', 'subclass of'), ('o', 'http://www.wikidata.org/entity/Q5322166'), ('oName', 'designer')]\n",
      "[('pName', 'Wikidata property'), ('o', 'http://www.wikidata.org/entity/P84'), ('oName', 'architect')]\n",
      "[('pName', 'field of this occupation'), ('o', 'http://www.wikidata.org/entity/Q12271'), ('oName', 'architecture')]\n",
      "[('pName', 'subclass of'), ('o', 'http://www.wikidata.org/entity/Q255274'), ('oName', 'white-collar worker')]\n",
      "[('pName', 'subclass of'), ('o', 'http://www.wikidata.org/entity/Q3391743'), ('oName', 'visual artist')]\n",
      "[('pName', 'instance of'), ('o', 'http://www.wikidata.org/entity/Q11488158'), ('oName', 'corporate title')]\n",
      "[('pName', 'field of this occupation'), ('o', 'http://www.wikidata.org/entity/Q323611'), ('oName', 'building design')]\n",
      "[('pName', \"topic's main template\"), ('o', 'http://www.wikidata.org/entity/Q10973090'), ('oName', 'Template:Infobox architect')]\n",
      "[('pName', 'properties for this type'), ('o', 'http://www.wikidata.org/entity/P5745'), ('oName', 'Pacific Coast Architecture Database person ID')]\n",
      "[('pName', 'properties for this type'), ('o', 'http://www.wikidata.org/entity/P4488'), ('oName', 'COAM architect ID')]\n",
      "[('pName', 'properties for this type'), ('o', 'http://www.wikidata.org/entity/P5308'), ('oName', 'Dictionary of Scottish Architects ID')]\n",
      "[('pName', 'properties for this type'), ('o', 'http://www.wikidata.org/entity/P2418'), ('oName', 'Structurae person ID')]\n",
      "[('pName', 'properties for this type'), ('o', 'http://www.wikidata.org/entity/P2194'), ('oName', 'PSS-archi architect ID')]\n",
      "[('pName', 'uses'), ('o', 'http://www.wikidata.org/entity/Q66747539'), ('oName', 'architectural terminology')]\n",
      "[('pName', 'properties for this type'), ('o', 'http://www.wikidata.org/entity/P3058'), ('oName', 'Architectuurgids architect ID')]\n",
      "[('pName', 'properties for this type'), ('o', 'http://www.wikidata.org/entity/P2385'), ('oName', 'French diocesan architects ID')]\n",
      "[('pName', 'category for eponymous categories'), ('o', 'http://www.wikidata.org/entity/Q8105488'), ('oName', 'Category:Wikipedia categories named after architects')]\n",
      "[('pName', 'properties for this type'), ('o', 'http://www.wikidata.org/entity/P5508'), ('oName', 'archINFORM person or group ID')]\n",
      "[('pName', 'field of this occupation'), ('o', 'http://www.wikidata.org/entity/Q106195621'), ('oName', 'computational design')]\n",
      "[('pName', 'properties for this type'), ('o', 'http://www.wikidata.org/entity/P4694'), ('oName', 'Arquivo Arq ID')]\n",
      "[('pName', 'properties for this type'), ('o', 'http://www.wikidata.org/entity/P4534'), ('oName', 'EUTA person ID')]\n",
      "29\n"
     ]
    }
   ],
   "source": [
    "#Q42973 architect\n",
    "queryString = \"\"\"\n",
    "SELECT DISTINCT ?pName ?o ?oName\n",
    "WHERE {\n",
    "    wd:Q42973 ?p ?o.\n",
    "   ?p sc:name ?pName .\n",
    "   ?o sc:name ?oName .\n",
    "}\n",
    "LIMIT 50\n",
    "\"\"\"\n",
    "\n",
    "print(\"Results\")\n",
    "x=run_query(queryString)\n"
   ]
  },
  {
   "cell_type": "code",
   "execution_count": 86,
   "id": "3f2737d6-bdb0-43c4-a64d-4091cede066a",
   "metadata": {},
   "outputs": [
    {
     "name": "stdout",
     "output_type": "stream",
     "text": [
      "Results\n",
      "[('pName', \"topic's main category\"), ('o', 'http://www.wikidata.org/entity/Q4048530'), ('oName', 'Category:Occupations')]\n",
      "[('pName', 'instance of'), ('o', 'http://www.wikidata.org/entity/Q151885'), ('oName', 'concept')]\n",
      "[('pName', 'different from'), ('o', 'http://www.wikidata.org/entity/Q28640'), ('oName', 'profession')]\n",
      "[('pName', 'different from'), ('o', 'http://www.wikidata.org/entity/Q4164871'), ('oName', 'position')]\n",
      "[('pName', 'instance of'), ('o', 'http://www.wikidata.org/entity/Q24017414'), ('oName', 'second-order class')]\n",
      "[('pName', 'subclass of'), ('o', 'http://www.wikidata.org/entity/Q1807498'), ('oName', 'social position')]\n",
      "[('pName', 'Wikidata property'), ('o', 'http://www.wikidata.org/entity/P106'), ('oName', 'occupation')]\n",
      "[('pName', 'properties for this type'), ('o', 'http://www.wikidata.org/entity/P3095'), ('oName', 'practiced by')]\n",
      "[('pName', 'Wikidata property'), ('o', 'http://www.wikidata.org/entity/P425'), ('oName', 'field of this occupation')]\n",
      "[('pName', 'properties for this type'), ('o', 'http://www.wikidata.org/entity/P425'), ('oName', 'field of this occupation')]\n",
      "10\n"
     ]
    }
   ],
   "source": [
    "#Q12737077 occupation\n",
    "queryString = \"\"\"\n",
    "SELECT DISTINCT ?pName ?o ?oName\n",
    "WHERE {\n",
    "    wd:Q12737077 ?p ?o.\n",
    "   ?p sc:name ?pName .\n",
    "   ?o sc:name ?oName .\n",
    "}\n",
    "LIMIT 50\n",
    "\"\"\"\n",
    "\n",
    "print(\"Results\")\n",
    "x=run_query(queryString)"
   ]
  },
  {
   "cell_type": "code",
   "execution_count": 88,
   "id": "1cf5f0a8-4b36-4eb1-946b-8bae130a19b4",
   "metadata": {},
   "outputs": [
    {
     "name": "stdout",
     "output_type": "stream",
     "text": [
      "Results\n",
      "[('pName', 'Wikidata property example'), ('o', 'http://www.wikidata.org/entity/Q83338'), ('oName', 'Robin Williams')]\n",
      "[('pName', 'see also'), ('o', 'http://www.wikidata.org/entity/P101'), ('oName', 'field of work')]\n",
      "[('pName', 'see also'), ('o', 'http://www.wikidata.org/entity/P2650'), ('oName', 'interested in')]\n",
      "[('pName', 'Wikidata item of this property'), ('o', 'http://www.wikidata.org/entity/Q12737077'), ('oName', 'occupation')]\n",
      "[('pName', 'Wikidata item of this property'), ('o', 'http://www.wikidata.org/entity/Q28640'), ('oName', 'profession')]\n",
      "[('pName', 'see also'), ('o', 'http://www.wikidata.org/entity/P39'), ('oName', 'position held')]\n",
      "[('pName', 'instance of'), ('o', 'http://www.wikidata.org/entity/Q70564278'), ('oName', 'Wikidata property used as \"depicts\" (P180) qualifier on Commons')]\n",
      "[('pName', 'Wikidata property example'), ('o', 'http://www.wikidata.org/entity/Q7327'), ('oName', 'Yuri Gagarin')]\n",
      "[('pName', 'Wikidata property example'), ('o', 'http://www.wikidata.org/entity/Q42037'), ('oName', 'Jean-Marie Gustave Le Clézio')]\n",
      "[('pName', 'value hierarchy property'), ('o', 'http://www.wikidata.org/entity/P279'), ('oName', 'subclass of')]\n",
      "[('pName', 'instance of'), ('o', 'http://www.wikidata.org/entity/Q66309381'), ('oName', 'Wikidata property for items about fictional characters')]\n",
      "[('pName', 'Wikidata property example'), ('o', 'http://www.wikidata.org/entity/Q42402'), ('oName', 'Andrea Bocelli')]\n",
      "[('pName', 'instance of'), ('o', 'http://www.wikidata.org/entity/Q18608871'), ('oName', 'Wikidata property for items about people')]\n",
      "[('pName', 'property constraint'), ('o', 'http://www.wikidata.org/entity/Q21502838'), ('oName', 'conflicts-with constraint')]\n",
      "[('pName', 'property constraint'), ('o', 'http://www.wikidata.org/entity/Q21503247'), ('oName', 'item-requires-statement constraint')]\n",
      "[('pName', 'property constraint'), ('o', 'http://www.wikidata.org/entity/Q21503250'), ('oName', 'type constraint')]\n",
      "[('pName', 'property constraint'), ('o', 'http://www.wikidata.org/entity/Q21510865'), ('oName', 'value-type constraint')]\n",
      "[('pName', 'property constraint'), ('o', 'http://www.wikidata.org/entity/Q25796498'), ('oName', 'contemporary constraint')]\n",
      "[('pName', 'living people protection class'), ('o', 'http://www.wikidata.org/entity/Q44601380'), ('oName', 'property that may violate privacy')]\n",
      "[('pName', 'property constraint'), ('o', 'http://www.wikidata.org/entity/Q52004125'), ('oName', 'allowed entity types constraint')]\n",
      "[('pName', 'property constraint'), ('o', 'http://www.wikidata.org/entity/Q52558054'), ('oName', 'none-of constraint')]\n",
      "[('pName', 'property constraint'), ('o', 'http://www.wikidata.org/entity/Q53869507'), ('oName', 'property scope constraint')]\n",
      "[('pName', 'Wikidata item of this property'), ('o', 'http://www.wikidata.org/entity/Q55984204'), ('oName', 'by occupation or profession')]\n",
      "[('pName', 'see also'), ('o', 'http://www.wikidata.org/entity/P8258'), ('oName', 'field of training')]\n",
      "[('pName', 'see also'), ('o', 'http://www.wikidata.org/entity/P3618'), ('oName', 'base salary')]\n",
      "[('pName', 'see also'), ('o', 'http://www.wikidata.org/entity/P4968'), ('oName', 'relevant qualification')]\n",
      "[('pName', 'property usage tracking category'), ('o', 'http://www.wikidata.org/entity/Q20116994'), ('oName', 'Category:Pages using Wikidata property P106')]\n",
      "[('pName', 'category for value not in Wikidata'), ('o', 'http://www.wikidata.org/entity/Q24047802'), ('oName', 'Category:Articles with Template:Bio and occupation (politician) not in Wikidata, but available on Wikipedia')]\n",
      "[('pName', 'category for value not in Wikidata'), ('o', 'http://www.wikidata.org/entity/Q28858515'), ('oName', 'Category:Articles with Template:Bio and occupation (actor) not in Wikidata, but available on Wikipedia')]\n",
      "[('pName', 'category for value not in Wikidata'), ('o', 'http://www.wikidata.org/entity/Q28858517'), ('oName', 'Category:Articles with Template:Bio and ocupation (association football player) not in Wikidata, but available on Wikipedia')]\n",
      "[('pName', 'inverse label item'), ('o', 'http://www.wikidata.org/entity/Q66507814'), ('oName', 'occupation of')]\n",
      "[('pName', 'see also'), ('o', 'http://www.wikidata.org/entity/P3989'), ('oName', 'members have occupation')]\n",
      "32\n"
     ]
    }
   ],
   "source": [
    "#P106 occupation\n",
    "queryString = \"\"\"\n",
    "SELECT DISTINCT ?pName ?o ?oName\n",
    "WHERE {\n",
    "    wd:P106 ?p ?o.\n",
    "   ?p sc:name ?pName .\n",
    "   ?o sc:name ?oName .\n",
    "}\n",
    "LIMIT 50\n",
    "\"\"\"\n",
    "\n",
    "print(\"Results\")\n",
    "x=run_query(queryString)"
   ]
  },
  {
   "cell_type": "code",
   "execution_count": 87,
   "id": "ce8bfaa2-a6ef-4d8d-a6b8-9fc51a33422b",
   "metadata": {},
   "outputs": [
    {
     "name": "stdout",
     "output_type": "stream",
     "text": [
      "Results\n",
      "[('pName', \"category's main topic\"), ('oName', 'occupation')]\n",
      "[('pName', 'instance of'), ('oName', 'Wikimedia category')]\n",
      "[('pName', 'different from'), ('oName', 'Category:Professions')]\n",
      "3\n"
     ]
    }
   ],
   "source": [
    "#Q4048530 Category:Occupations\n",
    "queryString = \"\"\"\n",
    "SELECT DISTINCT ?pName ?oName\n",
    "WHERE {\n",
    "    wd:Q4048530 ?p ?o.\n",
    "   ?p sc:name ?pName .\n",
    "   ?o sc:name ?oName .\n",
    "}\n",
    "LIMIT 50\n",
    "\"\"\"\n",
    "\n",
    "print(\"Results\")\n",
    "x=run_query(queryString)"
   ]
  },
  {
   "cell_type": "code",
   "execution_count": 79,
   "id": "f1096de4-7819-48f1-bfa9-c99eb2db9bd2",
   "metadata": {},
   "outputs": [
    {
     "name": "stdout",
     "output_type": "stream",
     "text": [
      "Results\n",
      "[('s', 'http://www.wikidata.org/entity/Q84313124'), ('sName', 'building superintendent')]\n",
      "[('s', 'http://www.wikidata.org/entity/Q84314029'), ('sName', 'kyrkvaktmästare')]\n",
      "2\n"
     ]
    }
   ],
   "source": [
    "#P279 subclass of\n",
    "#Q1090219 building manager\n",
    "queryString = \"\"\"\n",
    "SELECT DISTINCT ?s ?sName\n",
    "WHERE {\n",
    "   ?s wdt:P279 wd:Q1090219 .\n",
    "   ?s sc:name ?sName .\n",
    "\n",
    "}\n",
    "LIMIT 50\n",
    "\"\"\"\n",
    "\n",
    "print(\"Results\")\n",
    "x=run_query(queryString)"
   ]
  },
  {
   "cell_type": "code",
   "execution_count": 70,
   "id": "7f5ccfa0-590d-41e8-995c-dec231521b62",
   "metadata": {},
   "outputs": [
    {
     "name": "stdout",
     "output_type": "stream",
     "text": [
      "Results\n",
      "[('o', 'http://www.wikidata.org/entity/Q1133630'), ('oName', 'Lawrence Berkeley National Laboratory')]\n",
      "[('o', 'http://www.wikidata.org/entity/Q100'), ('oName', 'Boston')]\n",
      "[('o', 'http://www.wikidata.org/entity/Q13371'), ('oName', 'Harvard University')]\n",
      "[('o', 'http://www.wikidata.org/entity/Q4927100'), ('oName', 'Stephen')]\n",
      "[('o', 'http://www.wikidata.org/entity/Q5'), ('oName', 'human')]\n",
      "[('o', 'http://www.wikidata.org/entity/Q6581097'), ('oName', 'male')]\n",
      "[('o', 'http://www.wikidata.org/entity/Q81096'), ('oName', 'engineer')]\n",
      "[('o', 'http://www.wikidata.org/entity/Q1026827'), ('oName', 'California Institute of the Arts')]\n",
      "[('o', 'http://www.wikidata.org/entity/Q102289'), ('oName', 'Buckminster Fuller')]\n",
      "[('o', 'http://www.wikidata.org/entity/Q3741966'), ('oName', 'building science')]\n",
      "10\n"
     ]
    }
   ],
   "source": [
    "#Q16751046 Stephen Selkowitz\n",
    "queryString = \"\"\"\n",
    "SELECT DISTINCT ?o ?oName\n",
    "WHERE {\n",
    "    wd:Q16751046 ?p ?o .\n",
    "   ?o sc:name ?oName .\n",
    "}\n",
    "LIMIT 50\n",
    "\"\"\"\n",
    "\n",
    "print(\"Results\")\n",
    "x=run_query(queryString)"
   ]
  },
  {
   "cell_type": "code",
   "execution_count": 51,
   "id": "9bd16719-933e-4d2f-bbe2-2629bc641560",
   "metadata": {},
   "outputs": [
    {
     "name": "stdout",
     "output_type": "stream",
     "text": [
      "Results\n",
      "[('p', 'http://www.wikidata.org/prop/direct/P8744'), ('pName', 'economy of topic'), ('o', 'http://www.wikidata.org/entity/Q2736823'), ('oName', 'economy of ancient Greece')]\n",
      "[('p', 'http://www.wikidata.org/prop/direct/P2579'), ('pName', 'studied by'), ('o', 'http://www.wikidata.org/entity/Q841090'), ('oName', 'classics')]\n",
      "[('p', 'http://www.wikidata.org/prop/direct/P31'), ('pName', 'instance of'), ('o', 'http://www.wikidata.org/entity/Q28171280'), ('oName', 'ancient civilization')]\n",
      "[('p', 'http://www.wikidata.org/prop/direct/P2184'), ('pName', 'history of topic'), ('o', 'http://www.wikidata.org/entity/Q7798'), ('oName', 'history of ancient Greece')]\n",
      "[('p', 'http://www.wikidata.org/prop/direct/P910'), ('pName', \"topic's main category\"), ('o', 'http://www.wikidata.org/entity/Q7215882'), ('oName', 'Category:Ancient Greece')]\n",
      "[('p', 'http://www.wikidata.org/prop/direct/P31'), ('pName', 'instance of'), ('o', 'http://www.wikidata.org/entity/Q11042'), ('oName', 'culture')]\n",
      "[('p', 'http://www.wikidata.org/prop/direct/P31'), ('pName', 'instance of'), ('o', 'http://www.wikidata.org/entity/Q1292119'), ('oName', 'style')]\n",
      "[('p', 'http://www.wikidata.org/prop/direct/P1343'), ('pName', 'described by source'), ('o', 'http://www.wikidata.org/entity/Q3181656'), ('oName', 'The Nuttall Encyclopædia')]\n",
      "[('p', 'http://www.wikidata.org/prop/direct/P31'), ('pName', 'instance of'), ('o', 'http://www.wikidata.org/entity/Q3502482'), ('oName', 'cultural region')]\n",
      "[('p', 'http://www.wikidata.org/prop/direct/P2341'), ('pName', 'indigenous to'), ('o', 'http://www.wikidata.org/entity/Q41'), ('oName', 'Greece')]\n",
      "[('p', 'http://www.wikidata.org/prop/direct/P30'), ('pName', 'continent'), ('o', 'http://www.wikidata.org/entity/Q46'), ('oName', 'Europe')]\n",
      "[('p', 'http://www.wikidata.org/prop/direct/P30'), ('pName', 'continent'), ('o', 'http://www.wikidata.org/entity/Q48'), ('oName', 'Asia')]\n",
      "[('p', 'http://www.wikidata.org/prop/direct/P5008'), ('pName', 'on focus list of Wikimedia project'), ('o', 'http://www.wikidata.org/entity/Q5460604'), ('oName', 'Wikipedia:Vital articles')]\n",
      "[('p', 'http://www.wikidata.org/prop/direct/P47'), ('pName', 'shares border with'), ('o', 'http://www.wikidata.org/entity/Q83311'), ('oName', 'Persian Empire')]\n",
      "[('p', 'http://www.wikidata.org/prop/direct/P31'), ('pName', 'instance of'), ('o', 'http://www.wikidata.org/entity/Q1620908'), ('oName', 'historical region')]\n",
      "[('p', 'http://www.wikidata.org/prop/direct/P47'), ('pName', 'shares border with'), ('o', 'http://www.wikidata.org/entity/Q32047'), ('oName', 'Illyria')]\n",
      "[('p', 'http://www.wikidata.org/prop/direct/P47'), ('pName', 'shares border with'), ('o', 'http://www.wikidata.org/entity/Q83958'), ('oName', 'Macedonia')]\n",
      "[('p', 'http://www.wikidata.org/prop/direct/P2579'), ('pName', 'studied by'), ('o', 'http://www.wikidata.org/entity/Q435608'), ('oName', 'ancient history')]\n",
      "[('p', 'http://www.wikidata.org/prop/direct/P361'), ('pName', 'part of'), ('o', 'http://www.wikidata.org/entity/Q7794'), ('oName', 'history of Greece')]\n",
      "[('p', 'http://www.wikidata.org/prop/direct/P2579'), ('pName', 'studied by'), ('o', 'http://www.wikidata.org/entity/Q16267481'), ('oName', 'Greek studies')]\n",
      "[('p', 'http://www.wikidata.org/prop/direct/P1424'), ('pName', \"topic's main template\"), ('o', 'http://www.wikidata.org/entity/Q6054993'), ('oName', 'Template:Ancient Greece topics')]\n",
      "[('p', 'http://www.wikidata.org/prop/direct/P1151'), ('pName', \"topic's main Wikimedia portal\"), ('o', 'http://www.wikidata.org/entity/Q10566332'), ('oName', 'Portal:Ancient Greece')]\n",
      "[('p', 'http://www.wikidata.org/prop/direct/P1792'), ('pName', 'category of associated people'), ('o', 'http://www.wikidata.org/entity/Q6692116'), ('oName', 'Category:Ancient Greeks')]\n",
      "[('p', 'http://www.wikidata.org/prop/direct/P5125'), ('pName', 'Wikimedia outline'), ('o', 'http://www.wikidata.org/entity/Q7112550'), ('oName', 'outline of ancient Greece')]\n",
      "24\n"
     ]
    }
   ],
   "source": [
    "#Q11768 Ancient Egypt\n",
    "#Q11772 Ancient Greece\n",
    "queryString = \"\"\"\n",
    "SELECT DISTINCT ?p ?pName ?o ?oName\n",
    "WHERE {\n",
    "    #wd:Q11768 ?p ?o .\n",
    "    wd:Q11772 ?p ?o .\n",
    "    ?p sc:name ?pName .\n",
    "   ?o sc:name ?oName .\n",
    "}\n",
    "LIMIT 50\n",
    "\"\"\"\n",
    "\n",
    "print(\"Results\")\n",
    "x=run_query(queryString)"
   ]
  },
  {
   "cell_type": "code",
   "execution_count": 52,
   "id": "fc6b7e5f-804d-4422-a80e-f03a1df3240a",
   "metadata": {},
   "outputs": [
    {
     "name": "stdout",
     "output_type": "stream",
     "text": [
      "Results\n",
      "[('p', 'http://www.wikidata.org/prop/direct/P3095'), ('pName', 'practiced by'), ('oName', 'historian of classical antiquity')]\n",
      "[('p', 'http://www.wikidata.org/prop/direct/P31'), ('pName', 'instance of'), ('oName', 'classical studies')]\n",
      "[('p', 'http://www.wikidata.org/prop/direct/P279'), ('pName', 'subclass of'), ('oName', 'study of history')]\n",
      "[('p', 'http://www.wikidata.org/prop/direct/P2578'), ('pName', 'studies'), ('oName', 'Ancient Greece')]\n",
      "[('p', 'http://www.wikidata.org/prop/direct/P31'), ('pName', 'instance of'), ('oName', 'academic discipline')]\n",
      "[('p', 'http://www.wikidata.org/prop/direct/P2578'), ('pName', 'studies'), ('oName', 'Ancient Rome')]\n",
      "[('p', 'http://www.wikidata.org/prop/direct/P31'), ('pName', 'instance of'), ('oName', 'aspect of history')]\n",
      "[('p', 'http://www.wikidata.org/prop/direct/P31'), ('pName', 'instance of'), ('oName', 'specialty')]\n",
      "[('p', 'http://www.wikidata.org/prop/direct/P31'), ('pName', 'instance of'), ('oName', 'field of study')]\n",
      "[('p', 'http://www.wikidata.org/prop/direct/P910'), ('pName', \"topic's main category\"), ('oName', 'Category:History of the Ancient Age')]\n",
      "10\n"
     ]
    }
   ],
   "source": [
    "#Q435608 ancient history\n",
    "queryString = \"\"\"\n",
    "SELECT DISTINCT ?p ?pName ?oName\n",
    "WHERE {\n",
    "\n",
    "    wd:Q435608 ?p ?o .\n",
    "    ?p sc:name ?pName .\n",
    "   ?o sc:name ?oName .\n",
    "}\n",
    "LIMIT 50\n",
    "\"\"\"\n",
    "\n",
    "print(\"Results\")\n",
    "x=run_query(queryString)"
   ]
  },
  {
   "cell_type": "code",
   "execution_count": 60,
   "id": "7dd644f1-3dfc-4338-8c58-cfe62ce38bc3",
   "metadata": {},
   "outputs": [
    {
     "name": "stdout",
     "output_type": "stream",
     "text": [
      "Results\n",
      "[('s', 'http://www.wikidata.org/entity/Q23498'), ('sName', 'archaeology'), ('oName', 'archaeological site')]\n",
      "[('s', 'http://www.wikidata.org/entity/Q7007095'), ('sName', 'Land of Israel studies'), ('oName', 'archaeology of Israel')]\n",
      "[('s', 'http://www.wikidata.org/entity/Q259209'), ('sName', 'industrial archaeology'), ('oName', 'industrial archaeology site')]\n",
      "[('s', 'http://www.wikidata.org/entity/Q93439036'), ('sName', 'Heritage Conservation Studies'), ('oName', 'buildings archaeology')]\n",
      "4\n"
     ]
    }
   ],
   "source": [
    "#P2578 studies\n",
    "queryString = \"\"\"\n",
    "SELECT DISTINCT ?s ?sName ?oName\n",
    "WHERE {\n",
    "\n",
    "    ?s wdt:P2578 ?o .\n",
    "    ?s sc:name ?sName .\n",
    "   ?o sc:name ?oName .\n",
    "   #FILTER REGEX(?sName , '[Aa]rchae*')\n",
    "   FILTER REGEX(?oName , '[Aa]rchae*')\n",
    "}\n",
    "LIMIT 50\n",
    "\"\"\"\n",
    "\n",
    "print(\"Results\")\n",
    "x=run_query(queryString)"
   ]
  },
  {
   "cell_type": "code",
   "execution_count": 63,
   "id": "a7f28bb1-6d76-4751-bd15-3918b9119971",
   "metadata": {},
   "outputs": [
    {
     "name": "stdout",
     "output_type": "stream",
     "text": [
      "Results\n",
      "[('p', 'http://www.wikidata.org/prop/direct/P279'), ('pName', 'subclass of'), ('o', 'http://www.wikidata.org/entity/Q1066186'), ('oName', 'study of history')]\n",
      "[('p', 'http://www.wikidata.org/prop/direct/P31'), ('pName', 'instance of'), ('o', 'http://www.wikidata.org/entity/Q11862829'), ('oName', 'academic discipline')]\n",
      "[('p', 'http://www.wikidata.org/prop/direct/P1343'), ('pName', 'described by source'), ('o', 'http://www.wikidata.org/entity/Q19180675'), ('oName', 'Small Brockhaus and Efron Encyclopedic Dictionary')]\n",
      "[('p', 'http://www.wikidata.org/prop/direct/P1343'), ('pName', 'described by source'), ('o', 'http://www.wikidata.org/entity/Q19211082'), ('oName', 'Orthodox Theological Encyclopedia')]\n",
      "[('p', 'http://www.wikidata.org/prop/direct/P1343'), ('pName', 'described by source'), ('o', 'http://www.wikidata.org/entity/Q2657718'), ('oName', 'Armenian Soviet Encyclopedia')]\n",
      "[('p', 'http://www.wikidata.org/prop/direct/P1343'), ('pName', 'described by source'), ('o', 'http://www.wikidata.org/entity/Q3181656'), ('oName', 'The Nuttall Encyclopædia')]\n",
      "[('p', 'http://www.wikidata.org/prop/direct/P279'), ('pName', 'subclass of'), ('o', 'http://www.wikidata.org/entity/Q34749'), ('oName', 'social science')]\n",
      "[('p', 'http://www.wikidata.org/prop/direct/P1343'), ('pName', 'described by source'), ('o', 'http://www.wikidata.org/entity/Q4114391'), ('oName', 'Sytin Military Encyclopedia')]\n",
      "[('p', 'http://www.wikidata.org/prop/direct/P1343'), ('pName', 'described by source'), ('o', 'http://www.wikidata.org/entity/Q4173137'), ('oName', 'Jewish Encyclopedia of Brockhaus and Efron')]\n",
      "[('p', 'http://www.wikidata.org/prop/direct/P31'), ('pName', 'instance of'), ('o', 'http://www.wikidata.org/entity/Q4671286'), ('oName', 'academic major')]\n",
      "[('p', 'http://www.wikidata.org/prop/direct/P1343'), ('pName', 'described by source'), ('o', 'http://www.wikidata.org/entity/Q602358'), ('oName', 'Brockhaus and Efron Encyclopedic Dictionary')]\n",
      "[('p', 'http://www.wikidata.org/prop/direct/P527'), ('pName', 'has part'), ('o', 'http://www.wikidata.org/entity/Q819121'), ('oName', 'osteology')]\n",
      "[('p', 'http://www.wikidata.org/prop/direct/P2578'), ('pName', 'studies'), ('o', 'http://www.wikidata.org/entity/Q839954'), ('oName', 'archaeological site')]\n",
      "[('p', 'http://www.wikidata.org/prop/direct/P3095'), ('pName', 'practiced by'), ('o', 'http://www.wikidata.org/entity/Q3621491'), ('oName', 'archaeologist')]\n",
      "[('p', 'http://www.wikidata.org/prop/direct/P527'), ('pName', 'has part'), ('o', 'http://www.wikidata.org/entity/Q145903'), ('oName', 'egyptology')]\n",
      "[('p', 'http://www.wikidata.org/prop/direct/P1343'), ('pName', 'described by source'), ('o', 'http://www.wikidata.org/entity/Q29551022'), ('oName', 'Dictionnaire du patrimoine rennais')]\n",
      "[('p', 'http://www.wikidata.org/prop/direct/P910'), ('pName', \"topic's main category\"), ('o', 'http://www.wikidata.org/entity/Q7215366'), ('oName', 'Category:Archaeology')]\n",
      "[('p', 'http://www.wikidata.org/prop/direct/P1889'), ('pName', 'different from'), ('o', 'http://www.wikidata.org/entity/Q21071559'), ('oName', 'archology')]\n",
      "[('p', 'http://www.wikidata.org/prop/direct/P527'), ('pName', 'has part'), ('o', 'http://www.wikidata.org/entity/Q637284'), ('oName', 'archaeological science')]\n",
      "[('p', 'http://www.wikidata.org/prop/direct/P1151'), ('pName', \"topic's main Wikimedia portal\"), ('o', 'http://www.wikidata.org/entity/Q7076022'), ('oName', 'Portal:Archaeology')]\n",
      "[('p', 'http://www.wikidata.org/prop/direct/P2354'), ('pName', 'has list'), ('o', 'http://www.wikidata.org/entity/Q7112557'), ('oName', 'outline of archaeology')]\n",
      "[('p', 'http://www.wikidata.org/prop/direct/P5125'), ('pName', 'Wikimedia outline'), ('o', 'http://www.wikidata.org/entity/Q7112557'), ('oName', 'outline of archaeology')]\n",
      "22\n"
     ]
    }
   ],
   "source": [
    "#Q23498 archaeology\n",
    "queryString = \"\"\"\n",
    "SELECT DISTINCT ?p ?pName ?o ?oName\n",
    "WHERE {\n",
    "\n",
    "    wd:Q23498 ?p ?o .\n",
    "    ?p sc:name ?pName .\n",
    "   ?o sc:name ?oName .\n",
    "   #FILTER REGEX(?sName , '[Aa]rchae*')\n",
    "   #FILTER REGEX(?oName , '[Aa]rchae*')\n",
    "}\n",
    "LIMIT 50\n",
    "\"\"\"\n",
    "\n",
    "print(\"Results\")\n",
    "x=run_query(queryString)"
   ]
  },
  {
   "cell_type": "markdown",
   "id": "60fd9ead",
   "metadata": {},
   "source": [
    "Final query for this task"
   ]
  },
  {
   "cell_type": "code",
   "execution_count": 64,
   "id": "2a75dc64",
   "metadata": {},
   "outputs": [
    {
     "name": "stdout",
     "output_type": "stream",
     "text": [
      "Results\n",
      "[('o', 'http://www.wikidata.org/entity/Q3621491'), ('oName', 'archaeologist')]\n",
      "1\n"
     ]
    }
   ],
   "source": [
    "# write your final query\n",
    "#Identify the BGP for archeologist.\n",
    "#P3095 practiced by\n",
    "#Q23498 archaeology\n",
    "queryString = \"\"\"\n",
    "SELECT DISTINCT ?o ?oName\n",
    "WHERE {\n",
    "\n",
    "    wd:Q23498 wdt:P3095 ?o .\n",
    "   ?o sc:name ?oName .\n",
    "}\n",
    "LIMIT 50\n",
    "\"\"\"\n",
    "\n",
    "print(\"Results\")\n",
    "x=run_query(queryString)"
   ]
  },
  {
   "cell_type": "markdown",
   "id": "443a0805",
   "metadata": {},
   "source": [
    "## Task 5\n",
    "For each ancient civilization find the number of archeologists who worked on it (return also the civilizations with no archeologists) (the result set must be triples of civilization IRI, label and #archeologist)."
   ]
  },
  {
   "cell_type": "code",
   "execution_count": 96,
   "id": "fff9c3fa",
   "metadata": {},
   "outputs": [
    {
     "name": "stdout",
     "output_type": "stream",
     "text": [
      "Results\n",
      "[('ancientcivilizations', 'http://www.wikidata.org/entity/Q35355'), ('ancientcivilizationsName', 'Sumer')]\n",
      "[('ancientcivilizations', 'http://www.wikidata.org/entity/Q25558247'), ('ancientcivilizationsName', 'Chinese civilization')]\n",
      "[('ancientcivilizations', 'http://www.wikidata.org/entity/Q38060'), ('ancientcivilizationsName', 'Gaul')]\n",
      "[('ancientcivilizations', 'http://www.wikidata.org/entity/Q134178'), ('ancientcivilizationsName', 'Minoan civilization')]\n",
      "[('ancientcivilizations', 'http://www.wikidata.org/entity/Q173082'), ('ancientcivilizationsName', 'Dacia')]\n",
      "[('ancientcivilizations', 'http://www.wikidata.org/entity/Q2429397'), ('ancientcivilizationsName', 'Ancient Carthage')]\n",
      "[('ancientcivilizations', 'http://www.wikidata.org/entity/Q3327860'), ('ancientcivilizationsName', 'Celtic kingdom of Ireland')]\n",
      "[('ancientcivilizations', 'http://www.wikidata.org/entity/Q193748'), ('ancientcivilizationsName', 'history of ancient Israel and Judah')]\n",
      "[('ancientcivilizations', 'http://www.wikidata.org/entity/Q11768'), ('ancientcivilizationsName', 'Ancient Egypt')]\n",
      "[('ancientcivilizations', 'http://www.wikidata.org/entity/Q11772'), ('ancientcivilizationsName', 'Ancient Greece')]\n",
      "[('ancientcivilizations', 'http://www.wikidata.org/entity/Q41741'), ('ancientcivilizationsName', 'Thrace')]\n",
      "[('ancientcivilizations', 'http://www.wikidata.org/entity/Q128904'), ('ancientcivilizationsName', 'Elam')]\n",
      "[('ancientcivilizations', 'http://www.wikidata.org/entity/Q185068'), ('ancientcivilizationsName', 'Urartu')]\n",
      "[('ancientcivilizations', 'http://www.wikidata.org/entity/Q32047'), ('ancientcivilizationsName', 'Illyria')]\n",
      "[('ancientcivilizations', 'http://www.wikidata.org/entity/Q28567'), ('ancientcivilizationsName', 'Maya civilization')]\n",
      "[('ancientcivilizations', 'http://www.wikidata.org/entity/Q11767'), ('ancientcivilizationsName', 'Mesopotamia')]\n",
      "[('ancientcivilizations', 'http://www.wikidata.org/entity/Q8735'), ('ancientcivilizationsName', 'Medes')]\n",
      "[('ancientcivilizations', 'http://www.wikidata.org/entity/Q1364601'), ('ancientcivilizationsName', 'Gallo-Roman culture')]\n",
      "[('ancientcivilizations', 'http://www.wikidata.org/entity/Q42534'), ('ancientcivilizationsName', 'Indus Valley Civilization')]\n",
      "[('ancientcivilizations', 'http://www.wikidata.org/entity/Q28405'), ('ancientcivilizationsName', 'Gojoseon')]\n",
      "[('ancientcivilizations', 'http://www.wikidata.org/entity/Q244762'), ('ancientcivilizationsName', 'Mari')]\n",
      "[('ancientcivilizations', 'http://www.wikidata.org/entity/Q768212'), ('ancientcivilizationsName', 'Turco-Mongol')]\n",
      "[('ancientcivilizations', 'http://www.wikidata.org/entity/Q1551054'), ('ancientcivilizationsName', 'Israelite period')]\n",
      "[('ancientcivilizations', 'http://www.wikidata.org/entity/Q4752820'), ('ancientcivilizationsName', 'Ancient Crete')]\n",
      "[('ancientcivilizations', 'http://www.wikidata.org/entity/Q99304188'), ('ancientcivilizationsName', 'Thracian')]\n",
      "25\n"
     ]
    }
   ],
   "source": [
    "# write your queries\n",
    "#Q28171280 ancient civilization\n",
    "\n",
    "queryString = \"\"\"\n",
    "SELECT DISTINCT ?ancientcivilizations ?ancientcivilizationsName\n",
    "WHERE {\n",
    "    ?ancientcivilizations wdt:P31 wd:Q28171280 ;\n",
    "        sc:name ?ancientcivilizationsName .\n",
    "}\n",
    "LIMIT 50\n",
    "\"\"\"\n",
    "\n",
    "print(\"Results\")\n",
    "x=run_query(queryString)"
   ]
  },
  {
   "cell_type": "code",
   "execution_count": 98,
   "id": "6f763f5e-5eb6-4339-a20f-2b1779988347",
   "metadata": {},
   "outputs": [
    {
     "name": "stdout",
     "output_type": "stream",
     "text": [
      "Results\n",
      "[('pName', 'instance of'), ('oName', 'ancient civilization')]\n",
      "[('pName', 'partially coincident with'), ('oName', 'China')]\n",
      "[('pName', 'different from'), ('oName', 'Chinese culture')]\n",
      "[('pName', 'history of topic'), ('oName', 'history of China')]\n",
      "[('pName', 'different from'), ('oName', 'Chinese civilization')]\n",
      "5\n"
     ]
    }
   ],
   "source": [
    "#Q25558247 Chinese civilization\n",
    "queryString = \"\"\"\n",
    "SELECT DISTINCT ?pName ?oName\n",
    "WHERE {\n",
    "    wd:Q25558247 ?p ?o .\n",
    "    ?p sc:name ?pName .\n",
    "    ?o sc:name ?oName .\n",
    "}\n",
    "LIMIT 50\n",
    "\"\"\"\n",
    "\n",
    "print(\"Results\")\n",
    "x=run_query(queryString)"
   ]
  },
  {
   "cell_type": "code",
   "execution_count": 101,
   "id": "fe521868-17b7-4681-af00-df18d7e02bdb",
   "metadata": {},
   "outputs": [
    {
     "name": "stdout",
     "output_type": "stream",
     "text": [
      "Results\n",
      "[('sName', 'China'), ('pName', 'partially coincident with')]\n",
      "[('sName', 'history of China'), ('pName', 'facet of')]\n",
      "[('sName', 'Cao Wei'), ('pName', 'part of')]\n",
      "[('sName', 'jinshi'), ('pName', 'culture')]\n",
      "[('sName', 'Chinese mythology'), ('pName', 'culture')]\n",
      "[('sName', 'Chinese civilization'), ('pName', 'different from')]\n",
      "[('sName', 'chain whip'), ('pName', 'culture')]\n",
      "7\n"
     ]
    }
   ],
   "source": [
    "#Q25558247 Chinese civilization\n",
    "queryString = \"\"\"\n",
    "SELECT DISTINCT ?sName ?pName\n",
    "WHERE {\n",
    "    ?s ?p wd:Q25558247 .\n",
    "    ?p sc:name ?pName .\n",
    "    ?s sc:name ?sName .\n",
    "}\n",
    "LIMIT 50\n",
    "\"\"\"\n",
    "\n",
    "print(\"Results\")\n",
    "x=run_query(queryString)"
   ]
  },
  {
   "cell_type": "code",
   "execution_count": 65,
   "id": "ab3f3274-6243-42a5-9125-f75b4f4f44c1",
   "metadata": {},
   "outputs": [
    {
     "name": "stdout",
     "output_type": "stream",
     "text": [
      "Results\n",
      "[('ancientcivilizations', 'http://www.wikidata.org/entity/Q35355'), ('ancientcivilizationsName', 'Sumer')]\n",
      "[('ancientcivilizations', 'http://www.wikidata.org/entity/Q25558247'), ('ancientcivilizationsName', 'Chinese civilization')]\n",
      "[('ancientcivilizations', 'http://www.wikidata.org/entity/Q38060'), ('ancientcivilizationsName', 'Gaul')]\n",
      "[('ancientcivilizations', 'http://www.wikidata.org/entity/Q134178'), ('ancientcivilizationsName', 'Minoan civilization')]\n",
      "[('ancientcivilizations', 'http://www.wikidata.org/entity/Q173082'), ('ancientcivilizationsName', 'Dacia')]\n",
      "[('ancientcivilizations', 'http://www.wikidata.org/entity/Q2429397'), ('ancientcivilizationsName', 'Ancient Carthage')]\n",
      "[('ancientcivilizations', 'http://www.wikidata.org/entity/Q3327860'), ('ancientcivilizationsName', 'Celtic kingdom of Ireland')]\n",
      "[('ancientcivilizations', 'http://www.wikidata.org/entity/Q193748'), ('ancientcivilizationsName', 'history of ancient Israel and Judah')]\n",
      "[('ancientcivilizations', 'http://www.wikidata.org/entity/Q11768'), ('ancientcivilizationsName', 'Ancient Egypt')]\n",
      "[('ancientcivilizations', 'http://www.wikidata.org/entity/Q11772'), ('ancientcivilizationsName', 'Ancient Greece')]\n",
      "[('ancientcivilizations', 'http://www.wikidata.org/entity/Q41741'), ('ancientcivilizationsName', 'Thrace')]\n",
      "[('ancientcivilizations', 'http://www.wikidata.org/entity/Q128904'), ('ancientcivilizationsName', 'Elam')]\n",
      "[('ancientcivilizations', 'http://www.wikidata.org/entity/Q185068'), ('ancientcivilizationsName', 'Urartu')]\n",
      "[('ancientcivilizations', 'http://www.wikidata.org/entity/Q32047'), ('ancientcivilizationsName', 'Illyria')]\n",
      "[('ancientcivilizations', 'http://www.wikidata.org/entity/Q28567'), ('ancientcivilizationsName', 'Maya civilization')]\n",
      "[('ancientcivilizations', 'http://www.wikidata.org/entity/Q11767'), ('ancientcivilizationsName', 'Mesopotamia')]\n",
      "[('ancientcivilizations', 'http://www.wikidata.org/entity/Q8735'), ('ancientcivilizationsName', 'Medes')]\n",
      "[('ancientcivilizations', 'http://www.wikidata.org/entity/Q1364601'), ('ancientcivilizationsName', 'Gallo-Roman culture')]\n",
      "[('ancientcivilizations', 'http://www.wikidata.org/entity/Q42534'), ('ancientcivilizationsName', 'Indus Valley Civilization')]\n",
      "[('ancientcivilizations', 'http://www.wikidata.org/entity/Q28405'), ('ancientcivilizationsName', 'Gojoseon')]\n",
      "[('ancientcivilizations', 'http://www.wikidata.org/entity/Q244762'), ('ancientcivilizationsName', 'Mari')]\n",
      "[('ancientcivilizations', 'http://www.wikidata.org/entity/Q768212'), ('ancientcivilizationsName', 'Turco-Mongol')]\n",
      "[('ancientcivilizations', 'http://www.wikidata.org/entity/Q1551054'), ('ancientcivilizationsName', 'Israelite period')]\n",
      "[('ancientcivilizations', 'http://www.wikidata.org/entity/Q4752820'), ('ancientcivilizationsName', 'Ancient Crete')]\n",
      "[('ancientcivilizations', 'http://www.wikidata.org/entity/Q99304188'), ('ancientcivilizationsName', 'Thracian')]\n",
      "25\n"
     ]
    }
   ],
   "source": [
    "#Q28171280 ancient civilization\n",
    "\n",
    "queryString = \"\"\"\n",
    "SELECT DISTINCT ?ancientcivilizations ?ancientcivilizationsName\n",
    "WHERE {\n",
    "    ?ancientcivilizations wdt:P31 wd:Q28171280 ;\n",
    "        sc:name ?ancientcivilizationsName .\n",
    "}\n",
    "LIMIT 50\n",
    "\"\"\"\n",
    "\n",
    "print(\"Results\")\n",
    "x=run_query(queryString)"
   ]
  },
  {
   "cell_type": "code",
   "execution_count": 74,
   "id": "1627d93a-e9ac-4f7c-bf76-db75942a4501",
   "metadata": {},
   "outputs": [
    {
     "name": "stdout",
     "output_type": "stream",
     "text": [
      "Results\n",
      "[('archaeologist', 'archaeologist'), ('pName', 'has list'), ('oName', 'list of archaeologists')]\n",
      "[('archaeologist', 'archaeologist'), ('pName', 'subclass of'), ('oName', 'cultural studies scholar')]\n",
      "[('archaeologist', 'archaeologist'), ('pName', 'subclass of'), ('oName', 'social scientist')]\n",
      "[('archaeologist', 'archaeologist'), ('pName', 'instance of'), ('oName', 'profession')]\n",
      "[('archaeologist', 'archaeologist'), ('pName', 'instance of'), ('oName', 'occupation')]\n",
      "[('archaeologist', 'archaeologist'), ('pName', 'patron saint'), ('oName', 'Helena Augusta')]\n",
      "[('archaeologist', 'archaeologist'), ('pName', 'patron saint'), ('oName', 'Jerome')]\n",
      "[('archaeologist', 'archaeologist'), ('pName', 'patron saint'), ('oName', 'Damasus I')]\n",
      "[('archaeologist', 'archaeologist'), ('pName', 'field of this occupation'), ('oName', 'archaeology')]\n",
      "[('archaeologist', 'archaeologist'), ('pName', \"topic's main category\"), ('oName', 'Category:Archaeologists')]\n",
      "10\n"
     ]
    }
   ],
   "source": [
    "#Q3621491 archaeologist\n",
    "queryString = \"\"\"\n",
    "SELECT ?archaeologist ?pName ?oName\n",
    "WHERE {\n",
    "    wd:Q3621491 ?p ?o ; #archaeologist \n",
    "         sc:name ?archaeologist .\n",
    "    ?p sc:name ?pName .\n",
    "     ?o sc:name ?oName .\n",
    "     \n",
    "}\n",
    "LIMIT 50\n",
    "\"\"\"\n",
    "\n",
    "print(\"Results\")\n",
    "x=run_query(queryString)"
   ]
  },
  {
   "cell_type": "code",
   "execution_count": 82,
   "id": "64b6f2f6-23b7-48bc-aa61-6acac5a14592",
   "metadata": {},
   "outputs": [
    {
     "name": "stdout",
     "output_type": "stream",
     "text": [
      "Results\n",
      "[('p', 'http://www.wikidata.org/prop/direct/P106'), ('pName', 'occupation')]\n",
      "[('p', 'http://www.wikidata.org/prop/direct/P101'), ('pName', 'field of work')]\n",
      "[('p', 'http://www.wikidata.org/prop/direct/P971'), ('pName', 'category combines topics')]\n",
      "[('p', 'http://www.wikidata.org/prop/direct/P279'), ('pName', 'subclass of')]\n",
      "[('p', 'http://www.wikidata.org/prop/direct/P3989'), ('pName', 'members have occupation')]\n",
      "[('p', 'http://www.wikidata.org/prop/direct/P2925'), ('pName', 'domain of saint or deity')]\n",
      "[('p', 'http://www.wikidata.org/prop/direct/P3095'), ('pName', 'practiced by')]\n",
      "[('p', 'http://www.wikidata.org/prop/direct/P31'), ('pName', 'instance of')]\n",
      "[('p', 'http://www.wikidata.org/prop/direct/P361'), ('pName', 'part of')]\n",
      "[('p', 'http://www.wikidata.org/prop/direct/P360'), ('pName', 'is a list of')]\n",
      "[('p', 'http://www.wikidata.org/prop/direct/P301'), ('pName', \"category's main topic\")]\n",
      "[('p', 'http://www.wikidata.org/prop/direct/P39'), ('pName', 'position held')]\n",
      "12\n"
     ]
    }
   ],
   "source": [
    "#Q3621491 archaeologist\n",
    "queryString = \"\"\"\n",
    "SELECT DISTINCT ?p ?pName\n",
    "WHERE {\n",
    "    ?s ?p wd:Q3621491 ; #archaeologist \n",
    "         sc:name ?archaeologist .\n",
    "    ?p sc:name ?pName .\n",
    "     ?s sc:name ?sName .\n",
    "     \n",
    "}\n",
    "LIMIT 50\n",
    "\"\"\"\n",
    "\n",
    "print(\"Results\")\n",
    "x=run_query(queryString)"
   ]
  },
  {
   "cell_type": "code",
   "execution_count": 84,
   "id": "7294ad89-661f-4273-a31f-81a8057e11b9",
   "metadata": {},
   "outputs": [
    {
     "name": "stdout",
     "output_type": "stream",
     "text": [
      "Results\n",
      "[('o', 'http://www.wikidata.org/entity/Q1747689'), ('oName', 'Ancient Rome')]\n",
      "[('o', 'http://www.wikidata.org/entity/Q269678'), ('oName', 'ancient Near East')]\n",
      "[('o', 'http://www.wikidata.org/entity/Q7798'), ('oName', 'history of ancient Greece')]\n",
      "[('o', 'http://www.wikidata.org/entity/Q4246634'), ('oName', 'Ancient Greek culture')]\n",
      "[('o', 'http://www.wikidata.org/entity/Q11772'), ('oName', 'Ancient Greece')]\n",
      "[('o', 'http://www.wikidata.org/entity/Q41493'), ('oName', 'ancient history')]\n",
      "[('o', 'http://www.wikidata.org/entity/Q2429397'), ('oName', 'Ancient Carthage')]\n",
      "[('o', 'http://www.wikidata.org/entity/Q4752916'), ('oName', 'Ancient Roman pottery')]\n",
      "[('o', 'http://www.wikidata.org/entity/Q337547'), ('oName', 'ancient Roman religion')]\n",
      "[('o', 'http://www.wikidata.org/entity/Q435608'), ('oName', 'ancient history')]\n",
      "[('o', 'http://www.wikidata.org/entity/Q35966'), ('oName', 'Ancient Celts')]\n",
      "[('o', 'http://www.wikidata.org/entity/Q738680'), ('oName', 'pottery of ancient Greece')]\n",
      "[('o', 'http://www.wikidata.org/entity/Q855270'), ('oName', 'religion in ancient Greece')]\n",
      "[('o', 'http://www.wikidata.org/entity/Q1747618'), ('oName', 'ancient Greek art')]\n",
      "[('o', 'http://www.wikidata.org/entity/Q16656368'), ('oName', 'history of Ancient Rus')]\n",
      "[('o', 'http://www.wikidata.org/entity/Q193748'), ('oName', 'history of ancient Israel and Judah')]\n",
      "[('o', 'http://www.wikidata.org/entity/Q617793'), ('oName', 'ancient Greek sculpture')]\n",
      "[('o', 'http://www.wikidata.org/entity/Q5706708'), ('oName', 'Ancient Roman art in Spain')]\n",
      "[('o', 'http://www.wikidata.org/entity/Q107013169'), ('oName', 'religion in ancient Rome')]\n",
      "[('o', 'http://www.wikidata.org/entity/Q2277510'), ('oName', 'ancient art')]\n",
      "20\n"
     ]
    }
   ],
   "source": [
    "#Q3621491 archaeologist\n",
    "#P101 field of work\n",
    "queryString = \"\"\"\n",
    "SELECT DISTINCT ?o ?oName\n",
    "WHERE {\n",
    "    ?archaeologist ?p wd:Q3621491 ; #archaeologist \n",
    "         sc:name ?archaeologistName .\n",
    "    ?archaeologist wdt:P101 ?o .\n",
    "    ?o sc:name ?oName .\n",
    "     FILTER REGEX(?oName, '[Aa]ncient*' )\n",
    "}\n",
    "LIMIT 50\n",
    "\"\"\"\n",
    "\n",
    "print(\"Results\")\n",
    "x=run_query(queryString)"
   ]
  },
  {
   "cell_type": "code",
   "execution_count": 78,
   "id": "cb5b6f55-da93-4b2a-8167-23ea96405c3f",
   "metadata": {},
   "outputs": [
    {
     "name": "stdout",
     "output_type": "stream",
     "text": [
      "Results\n",
      "[('p', 'http://www.wikidata.org/prop/direct/P22'), ('pName', 'father'), ('o', 'http://www.wikidata.org/entity/Q10923207'), ('oName', 'Yanliu Shang')]\n",
      "[('p', 'http://www.wikidata.org/prop/direct/P108'), ('pName', 'employer'), ('o', 'http://www.wikidata.org/entity/Q32751'), ('oName', 'National Sun Yat-sen University')]\n",
      "[('p', 'http://www.wikidata.org/prop/direct/P31'), ('pName', 'instance of'), ('o', 'http://www.wikidata.org/entity/Q5'), ('oName', 'human')]\n",
      "[('p', 'http://www.wikidata.org/prop/direct/P21'), ('pName', 'sex or gender'), ('o', 'http://www.wikidata.org/entity/Q6581097'), ('oName', 'male')]\n",
      "[('p', 'http://www.wikidata.org/prop/direct/P19'), ('pName', 'place of birth'), ('o', 'http://www.wikidata.org/entity/Q16572'), ('oName', 'Guangzhou')]\n",
      "[('p', 'http://www.wikidata.org/prop/direct/P69'), ('pName', 'educated at'), ('o', 'http://www.wikidata.org/entity/Q16952'), ('oName', 'Peking University')]\n",
      "[('p', 'http://www.wikidata.org/prop/direct/P106'), ('pName', 'occupation'), ('o', 'http://www.wikidata.org/entity/Q3621491'), ('oName', 'archaeologist')]\n",
      "[('p', 'http://www.wikidata.org/prop/direct/P734'), ('pName', 'family name'), ('o', 'http://www.wikidata.org/entity/Q4519999'), ('oName', 'Shang')]\n",
      "8\n"
     ]
    }
   ],
   "source": [
    "#Q8463726 Chengzuo Shang\n",
    "queryString = \"\"\"\n",
    "SELECT ?p ?pName ?o ?oName \n",
    "WHERE {\n",
    "    wd:Q8463726 ?p ?o .\n",
    "    ?p sc:name ?pName .\n",
    "     ?o sc:name ?oName .\n",
    "     \n",
    "}\n",
    "LIMIT 50\n",
    "\"\"\"\n",
    "\n",
    "print(\"Results\")\n",
    "x=run_query(queryString)"
   ]
  },
  {
   "cell_type": "code",
   "execution_count": 80,
   "id": "c0d0b490-585c-4970-950a-66bb47dc0e75",
   "metadata": {},
   "outputs": [
    {
     "name": "stdout",
     "output_type": "stream",
     "text": [
      "Results\n",
      "[('p', 'http://www.wikidata.org/prop/direct/P22'), ('pName', 'father'), ('o', 'http://www.wikidata.org/entity/Q10923207'), ('oName', 'Yanliu Shang')]\n",
      "[('p', 'http://www.wikidata.org/prop/direct/P19'), ('pName', 'place of birth'), ('o', 'http://www.wikidata.org/entity/Q18397302'), ('oName', 'Laach')]\n",
      "[('p', 'http://www.wikidata.org/prop/direct/P1038'), ('pName', 'relative'), ('o', 'http://www.wikidata.org/entity/Q3839667'), ('oName', 'Luigi Gaetano Marini')]\n",
      "[('p', 'http://www.wikidata.org/prop/direct/P1889'), ('pName', 'different from'), ('o', 'http://www.wikidata.org/entity/Q15876247'), ('oName', 'Henry Balfour')]\n",
      "[('p', 'http://www.wikidata.org/prop/direct/P734'), ('pName', 'family name'), ('o', 'http://www.wikidata.org/entity/Q36871867'), ('oName', 'Stubbings')]\n",
      "[('p', 'http://www.wikidata.org/prop/direct/P734'), ('pName', 'family name'), ('o', 'http://www.wikidata.org/entity/Q106264490'), ('oName', 'Rebuffat')]\n",
      "[('p', 'http://www.wikidata.org/prop/direct/P185'), ('pName', 'doctoral student'), ('o', 'http://www.wikidata.org/entity/Q16038601'), ('oName', 'Michel Reddé')]\n",
      "[('p', 'http://www.wikidata.org/prop/direct/P184'), ('pName', 'doctoral advisor'), ('o', 'http://www.wikidata.org/entity/Q16038607'), ('oName', 'René Rebuffat')]\n",
      "[('p', 'http://www.wikidata.org/prop/direct/P734'), ('pName', 'family name'), ('o', 'http://www.wikidata.org/entity/Q27207809'), ('oName', 'Genicot')]\n",
      "[('p', 'http://www.wikidata.org/prop/direct/P22'), ('pName', 'father'), ('o', 'http://www.wikidata.org/entity/Q3271808'), ('oName', 'Léopold Genicot')]\n",
      "[('p', 'http://www.wikidata.org/prop/direct/P734'), ('pName', 'family name'), ('o', 'http://www.wikidata.org/entity/Q16870306'), ('oName', 'Grieg')]\n",
      "[('p', 'http://www.wikidata.org/prop/direct/P40'), ('pName', 'child'), ('o', 'http://www.wikidata.org/entity/Q17065902'), ('oName', 'John Egil Grieg')]\n",
      "[('p', 'http://www.wikidata.org/prop/direct/P734'), ('pName', 'family name'), ('o', 'http://www.wikidata.org/entity/Q47239848'), ('oName', 'Glørstad')]\n",
      "[('p', 'http://www.wikidata.org/prop/direct/P734'), ('pName', 'family name'), ('o', 'http://www.wikidata.org/entity/Q47240416'), ('oName', 'Gansum')]\n",
      "[('p', 'http://www.wikidata.org/prop/direct/P734'), ('pName', 'family name'), ('o', 'http://www.wikidata.org/entity/Q39263273'), ('oName', 'Melheim')]\n",
      "[('p', 'http://www.wikidata.org/prop/direct/P735'), ('pName', 'given name'), ('o', 'http://www.wikidata.org/entity/Q64503873'), ('oName', 'Knowles')]\n",
      "[('p', 'http://www.wikidata.org/prop/direct/P108'), ('pName', 'employer'), ('o', 'http://www.wikidata.org/entity/Q6965235'), ('oName', 'Nara College of Arts')]\n",
      "[('p', 'http://www.wikidata.org/prop/direct/P40'), ('pName', 'child'), ('o', 'http://www.wikidata.org/entity/Q16062062'), ('oName', 'Aristeides Rizos Rangavis')]\n",
      "[('p', 'http://www.wikidata.org/prop/direct/P40'), ('pName', 'child'), ('o', 'http://www.wikidata.org/entity/Q17484939'), ('oName', 'Eugenios Rizos Rangavis')]\n",
      "[('p', 'http://www.wikidata.org/prop/direct/P40'), ('pName', 'child'), ('o', 'http://www.wikidata.org/entity/Q6063172'), ('oName', 'Kleon Rizos Rangavis')]\n",
      "[('p', 'http://www.wikidata.org/prop/direct/P26'), ('pName', 'spouse'), ('o', 'http://www.wikidata.org/entity/Q64666679'), ('oName', 'Caroline Christian Skene')]\n",
      "[('p', 'http://www.wikidata.org/prop/direct/P40'), ('pName', 'child'), ('o', 'http://www.wikidata.org/entity/Q64666716'), ('oName', 'Othon Rizos Rangavis')]\n",
      "[('p', 'http://www.wikidata.org/prop/direct/P40'), ('pName', 'child'), ('o', 'http://www.wikidata.org/entity/Q64666725'), ('oName', 'Emilios Rizos Rangavis')]\n",
      "[('p', 'http://www.wikidata.org/prop/direct/P40'), ('pName', 'child'), ('o', 'http://www.wikidata.org/entity/Q64667021'), ('oName', 'Aristion Rizos Rangavis')]\n",
      "[('p', 'http://www.wikidata.org/prop/direct/P40'), ('pName', 'child'), ('o', 'http://www.wikidata.org/entity/Q64667040'), ('oName', 'Charicles Rizos Rangavis')]\n",
      "[('p', 'http://www.wikidata.org/prop/direct/P40'), ('pName', 'child'), ('o', 'http://www.wikidata.org/entity/Q64667051'), ('oName', 'Alexios Rizos Rangavis')]\n",
      "[('p', 'http://www.wikidata.org/prop/direct/P40'), ('pName', 'child'), ('o', 'http://www.wikidata.org/entity/Q64667069'), ('oName', 'Zoe Rizos Rangavis')]\n",
      "[('p', 'http://www.wikidata.org/prop/direct/P40'), ('pName', 'child'), ('o', 'http://www.wikidata.org/entity/Q64667133'), ('oName', 'Amalia Rizos Rangavis')]\n",
      "[('p', 'http://www.wikidata.org/prop/direct/P40'), ('pName', 'child'), ('o', 'http://www.wikidata.org/entity/Q64667176'), ('oName', 'Eleni Rizos Rangavis')]\n",
      "[('p', 'http://www.wikidata.org/prop/direct/P40'), ('pName', 'child'), ('o', 'http://www.wikidata.org/entity/Q64667177'), ('oName', 'Charikleia Rizo-Rangabé')]\n",
      "[('p', 'http://www.wikidata.org/prop/direct/P22'), ('pName', 'father'), ('o', 'http://www.wikidata.org/entity/Q707904'), ('oName', 'Jean-Jules-Antoine Lecomte du Nouÿ')]\n",
      "[('p', 'http://www.wikidata.org/prop/direct/P734'), ('pName', 'family name'), ('o', 'http://www.wikidata.org/entity/Q104540536'), ('oName', 'Messelière')]\n",
      "[('p', 'http://www.wikidata.org/prop/direct/P40'), ('pName', 'child'), ('o', 'http://www.wikidata.org/entity/Q16260396'), ('oName', 'René de La Coste-Messelière')]\n",
      "[('p', 'http://www.wikidata.org/prop/direct/P1066'), ('pName', 'student of'), ('o', 'http://www.wikidata.org/entity/Q1754118'), ('oName', 'Älfrit Xaliqof')]\n",
      "[('p', 'http://www.wikidata.org/prop/direct/P26'), ('pName', 'spouse'), ('o', 'http://www.wikidata.org/entity/Q17625106'), ('oName', 'Pilar Acosta Martínez')]\n",
      "[('p', 'http://www.wikidata.org/prop/direct/P25'), ('pName', 'mother'), ('o', 'http://www.wikidata.org/entity/Q17651187'), ('oName', 'Caroline Evrard')]\n",
      "[('p', 'http://www.wikidata.org/prop/direct/P26'), ('pName', 'spouse'), ('o', 'http://www.wikidata.org/entity/Q17995706'), ('oName', 'Manuel Pellicer Catalán')]\n",
      "[('p', 'http://www.wikidata.org/prop/direct/P734'), ('pName', 'family name'), ('o', 'http://www.wikidata.org/entity/Q4245486'), ('oName', 'Kuzminykh')]\n",
      "[('p', 'http://www.wikidata.org/prop/direct/P1066'), ('pName', 'student of'), ('o', 'http://www.wikidata.org/entity/Q4514244'), ('oName', 'Yevgeny Chernykh')]\n",
      "[('p', 'http://www.wikidata.org/prop/direct/P184'), ('pName', 'doctoral advisor'), ('o', 'http://www.wikidata.org/entity/Q4514244'), ('oName', 'Yevgeny Chernykh')]\n",
      "[('p', 'http://www.wikidata.org/prop/direct/P22'), ('pName', 'father'), ('o', 'http://www.wikidata.org/entity/Q20002712'), ('oName', 'Gonzalo del Castillo Alonso')]\n",
      "[('p', 'http://www.wikidata.org/prop/direct/P3373'), ('pName', 'sibling'), ('o', 'http://www.wikidata.org/entity/Q12383059'), ('oName', 'Antonio Concheiro Coello')]\n",
      "[('p', 'http://www.wikidata.org/prop/direct/P3373'), ('pName', 'sibling'), ('o', 'http://www.wikidata.org/entity/Q20987124'), ('oName', 'Gonzalo Concheiro')]\n",
      "[('p', 'http://www.wikidata.org/prop/direct/P3373'), ('pName', 'sibling'), ('o', 'http://www.wikidata.org/entity/Q2624092'), ('oName', 'Eustachy Tyszkiewicz')]\n",
      "[('p', 'http://www.wikidata.org/prop/direct/P3373'), ('pName', 'sibling'), ('o', 'http://www.wikidata.org/entity/Q2978590'), ('oName', 'Konstanty Tyszkiewicz')]\n",
      "[('p', 'http://www.wikidata.org/prop/direct/P734'), ('pName', 'family name'), ('o', 'http://www.wikidata.org/entity/Q16479772'), ('oName', 'Balfour')]\n",
      "[('p', 'http://www.wikidata.org/prop/direct/P69'), ('pName', 'educated at'), ('o', 'http://www.wikidata.org/entity/Q1987282'), ('oName', 'University of Rennes')]\n",
      "[('p', 'http://www.wikidata.org/prop/direct/P19'), ('pName', 'place of birth'), ('o', 'http://www.wikidata.org/entity/Q2213391'), ('oName', 'Croydon')]\n",
      "[('p', 'http://www.wikidata.org/prop/direct/P735'), ('pName', 'given name'), ('o', 'http://www.wikidata.org/entity/Q11074303'), ('oName', 'Terje')]\n",
      "[('p', 'http://www.wikidata.org/prop/direct/P512'), ('pName', 'academic degree'), ('o', 'http://www.wikidata.org/entity/Q18523811'), ('oName', 'Candidate of Historical Sciences')]\n",
      "[('p', 'http://www.wikidata.org/prop/direct/P19'), ('pName', 'place of birth'), ('o', 'http://www.wikidata.org/entity/Q496588'), ('oName', 'Oñati')]\n",
      "[('p', 'http://www.wikidata.org/prop/direct/P108'), ('pName', 'employer'), ('o', 'http://www.wikidata.org/entity/Q546118'), ('oName', 'Paris-Sorbonne University - Paris IV')]\n",
      "[('p', 'http://www.wikidata.org/prop/direct/P19'), ('pName', 'place of birth'), ('o', 'http://www.wikidata.org/entity/Q969200'), ('oName', 'Artesa de Segre')]\n",
      "[('p', 'http://www.wikidata.org/prop/direct/P20'), ('pName', 'place of death'), ('o', 'http://www.wikidata.org/entity/Q969200'), ('oName', 'Artesa de Segre')]\n",
      "[('p', 'http://www.wikidata.org/prop/direct/P166'), ('pName', 'award received'), ('o', 'http://www.wikidata.org/entity/Q14900497'), ('oName', 'Knight of the Order of Leopold')]\n",
      "[('p', 'http://www.wikidata.org/prop/direct/P735'), ('pName', 'given name'), ('o', 'http://www.wikidata.org/entity/Q60556737'), ('oName', 'Frank Henry')]\n",
      "[('p', 'http://www.wikidata.org/prop/direct/P19'), ('pName', 'place of birth'), ('o', 'http://www.wikidata.org/entity/Q652802'), ('oName', 'Câmpulung Moldovenesc')]\n",
      "[('p', 'http://www.wikidata.org/prop/direct/P31'), ('pName', 'instance of'), ('o', 'http://www.wikidata.org/entity/Q30167070'), ('oName', 'winged horse in fiction')]\n",
      "[('p', 'http://www.wikidata.org/prop/direct/P19'), ('pName', 'place of birth'), ('o', 'http://www.wikidata.org/entity/Q2746097'), ('oName', 'Fana')]\n",
      "[('p', 'http://www.wikidata.org/prop/direct/P1343'), ('pName', 'described by source'), ('o', 'http://www.wikidata.org/entity/Q105655456'), ('oName', 'WHO IS WHO in Czech Slavonic Studies')]\n",
      "[('p', 'http://www.wikidata.org/prop/direct/P40'), ('pName', 'child'), ('o', 'http://www.wikidata.org/entity/Q1346136'), ('oName', 'Aleksey Uvarov')]\n",
      "[('p', 'http://www.wikidata.org/prop/direct/P735'), ('pName', 'given name'), ('o', 'http://www.wikidata.org/entity/Q153957'), ('oName', 'Barbara')]\n",
      "[('p', 'http://www.wikidata.org/prop/direct/P108'), ('pName', 'employer'), ('o', 'http://www.wikidata.org/entity/Q156737'), ('oName', 'University of Kiel')]\n",
      "[('p', 'http://www.wikidata.org/prop/direct/P106'), ('pName', 'occupation'), ('o', 'http://www.wikidata.org/entity/Q15983985'), ('oName', 'classical archaeologist')]\n",
      "[('p', 'http://www.wikidata.org/prop/direct/P106'), ('pName', 'occupation'), ('o', 'http://www.wikidata.org/entity/Q15983985'), ('oName', 'classical archaeologist')]\n",
      "[('p', 'http://www.wikidata.org/prop/direct/P106'), ('pName', 'occupation'), ('o', 'http://www.wikidata.org/entity/Q15983985'), ('oName', 'classical archaeologist')]\n",
      "[('p', 'http://www.wikidata.org/prop/direct/P106'), ('pName', 'occupation'), ('o', 'http://www.wikidata.org/entity/Q15983985'), ('oName', 'classical archaeologist')]\n",
      "[('p', 'http://www.wikidata.org/prop/direct/P106'), ('pName', 'occupation'), ('o', 'http://www.wikidata.org/entity/Q16267607'), ('oName', 'classical philologist')]\n",
      "[('p', 'http://www.wikidata.org/prop/direct/P106'), ('pName', 'occupation'), ('o', 'http://www.wikidata.org/entity/Q16267607'), ('oName', 'classical philologist')]\n",
      "[('p', 'http://www.wikidata.org/prop/direct/P735'), ('pName', 'given name'), ('o', 'http://www.wikidata.org/entity/Q16424000'), ('oName', 'Rafael')]\n",
      "[('p', 'http://www.wikidata.org/prop/direct/P106'), ('pName', 'occupation'), ('o', 'http://www.wikidata.org/entity/Q17488316'), ('oName', 'prehistorian')]\n",
      "[('p', 'http://www.wikidata.org/prop/direct/P106'), ('pName', 'occupation'), ('o', 'http://www.wikidata.org/entity/Q17488316'), ('oName', 'prehistorian')]\n",
      "[('p', 'http://www.wikidata.org/prop/direct/P1343'), ('pName', 'described by source'), ('o', 'http://www.wikidata.org/entity/Q18908018'), ('oName', 'Ensayo de un catálogo de periodistas españoles del siglo XIX (1903)')]\n",
      "[('p', 'http://www.wikidata.org/prop/direct/P39'), ('pName', 'position held'), ('o', 'http://www.wikidata.org/entity/Q18915989'), ('oName', 'Member of the Hellenic Parliament')]\n",
      "[('p', 'http://www.wikidata.org/prop/direct/P69'), ('pName', 'educated at'), ('o', 'http://www.wikidata.org/entity/Q20266330'), ('oName', 'Frederick William University')]\n",
      "[('p', 'http://www.wikidata.org/prop/direct/P734'), ('pName', 'family name'), ('o', 'http://www.wikidata.org/entity/Q21501831'), ('oName', 'Schäfer')]\n",
      "[('p', 'http://www.wikidata.org/prop/direct/P39'), ('pName', 'position held'), ('o', 'http://www.wikidata.org/entity/Q22132694'), ('oName', 'museum director')]\n",
      "[('p', 'http://www.wikidata.org/prop/direct/P735'), ('pName', 'given name'), ('o', 'http://www.wikidata.org/entity/Q2624417'), ('oName', 'René')]\n",
      "[('p', 'http://www.wikidata.org/prop/direct/P108'), ('pName', 'employer'), ('o', 'http://www.wikidata.org/entity/Q315658'), ('oName', 'University of Wrocław')]\n",
      "[('p', 'http://www.wikidata.org/prop/direct/P463'), ('pName', 'member of'), ('o', 'http://www.wikidata.org/entity/Q337580'), ('oName', 'Royal Academy of Science, Letters and Fine Arts of Belgium')]\n",
      "[('p', 'http://www.wikidata.org/prop/direct/P20'), ('pName', 'place of death'), ('o', 'http://www.wikidata.org/entity/Q384'), ('oName', 'Skopje')]\n",
      "[('p', 'http://www.wikidata.org/prop/direct/P20'), ('pName', 'place of death'), ('o', 'http://www.wikidata.org/entity/Q4120832'), ('oName', 'Königsberg')]\n",
      "[('p', 'http://www.wikidata.org/prop/direct/P19'), ('pName', 'place of birth'), ('o', 'http://www.wikidata.org/entity/Q48687'), ('oName', 'Tjøme')]\n",
      "[('p', 'http://www.wikidata.org/prop/direct/P19'), ('pName', 'place of birth'), ('o', 'http://www.wikidata.org/entity/Q64010'), ('oName', 'Caspe')]\n",
      "[('p', 'http://www.wikidata.org/prop/direct/P108'), ('pName', 'employer'), ('o', 'http://www.wikidata.org/entity/Q672420'), ('oName', 'University of Königsberg')]\n",
      "[('p', 'http://www.wikidata.org/prop/direct/P463'), ('pName', 'member of'), ('o', 'http://www.wikidata.org/entity/Q695302'), ('oName', 'German Archaeological Institute')]\n",
      "[('p', 'http://www.wikidata.org/prop/direct/P463'), ('pName', 'member of'), ('o', 'http://www.wikidata.org/entity/Q695302'), ('oName', 'German Archaeological Institute')]\n",
      "[('p', 'http://www.wikidata.org/prop/direct/P463'), ('pName', 'member of'), ('o', 'http://www.wikidata.org/entity/Q695302'), ('oName', 'German Archaeological Institute')]\n",
      "[('p', 'http://www.wikidata.org/prop/direct/P463'), ('pName', 'member of'), ('o', 'http://www.wikidata.org/entity/Q695302'), ('oName', 'German Archaeological Institute')]\n",
      "[('p', 'http://www.wikidata.org/prop/direct/P463'), ('pName', 'member of'), ('o', 'http://www.wikidata.org/entity/Q695302'), ('oName', 'German Archaeological Institute')]\n",
      "[('p', 'http://www.wikidata.org/prop/direct/P463'), ('pName', 'member of'), ('o', 'http://www.wikidata.org/entity/Q695302'), ('oName', 'German Archaeological Institute')]\n",
      "[('p', 'http://www.wikidata.org/prop/direct/P463'), ('pName', 'member of'), ('o', 'http://www.wikidata.org/entity/Q695302'), ('oName', 'German Archaeological Institute')]\n",
      "[('p', 'http://www.wikidata.org/prop/direct/P19'), ('pName', 'place of birth'), ('o', 'http://www.wikidata.org/entity/Q72'), ('oName', 'Zürich')]\n",
      "[('p', 'http://www.wikidata.org/prop/direct/P6379'), ('pName', 'has works in the collection'), ('o', 'http://www.wikidata.org/entity/Q99346823'), ('oName', 'CODA Museum')]\n",
      "[('p', 'http://www.wikidata.org/prop/direct/P735'), ('pName', 'given name'), ('o', 'http://www.wikidata.org/entity/Q1157241'), ('oName', 'Dagmar')]\n",
      "[('p', 'http://www.wikidata.org/prop/direct/P734'), ('pName', 'family name'), ('o', 'http://www.wikidata.org/entity/Q21502354'), ('oName', 'Hirschfeld')]\n",
      "[('p', 'http://www.wikidata.org/prop/direct/P69'), ('pName', 'educated at'), ('o', 'http://www.wikidata.org/entity/Q492467'), ('oName', 'University of Auckland')]\n",
      "[('p', 'http://www.wikidata.org/prop/direct/P485'), ('pName', 'archives at'), ('o', 'http://www.wikidata.org/entity/Q1456119'), ('oName', 'Pitt Rivers Museum')]\n",
      "[('p', 'http://www.wikidata.org/prop/direct/P69'), ('pName', 'educated at'), ('o', 'http://www.wikidata.org/entity/Q1473677'), ('oName', 'University of Santiago de Compostela')]\n",
      "[('p', 'http://www.wikidata.org/prop/direct/P734'), ('pName', 'family name'), ('o', 'http://www.wikidata.org/entity/Q16881317'), ('oName', 'Pollard')]\n",
      "[('p', 'http://www.wikidata.org/prop/direct/P735'), ('pName', 'given name'), ('o', 'http://www.wikidata.org/entity/Q3480175'), ('oName', 'Frans')]\n",
      "[('p', 'http://www.wikidata.org/prop/direct/P6379'), ('pName', 'has works in the collection'), ('o', 'http://www.wikidata.org/entity/Q574961'), ('oName', 'Frans Hals Museum')]\n",
      "[('p', 'http://www.wikidata.org/prop/direct/P69'), ('pName', 'educated at'), ('o', 'http://www.wikidata.org/entity/Q113788'), ('oName', 'Kazan Federal University')]\n",
      "[('p', 'http://www.wikidata.org/prop/direct/P20'), ('pName', 'place of death'), ('o', 'http://www.wikidata.org/entity/Q134121'), ('oName', 'Namur')]\n",
      "[('p', 'http://www.wikidata.org/prop/direct/P6379'), ('pName', 'has works in the collection'), ('o', 'http://www.wikidata.org/entity/Q1954426'), ('oName', 'Museum Catharijneconvent')]\n",
      "[('p', 'http://www.wikidata.org/prop/direct/P19'), ('pName', 'place of birth'), ('o', 'http://www.wikidata.org/entity/Q259203'), ('oName', 'Le Raincy')]\n",
      "[('p', 'http://www.wikidata.org/prop/direct/P166'), ('pName', 'award received'), ('o', 'http://www.wikidata.org/entity/Q3332287'), ('oName', 'CNRS silver medal')]\n",
      "[('p', 'http://www.wikidata.org/prop/direct/P166'), ('pName', 'award received'), ('o', 'http://www.wikidata.org/entity/Q609158'), ('oName', 'Fastenrath award')]\n",
      "[('p', 'http://www.wikidata.org/prop/direct/P108'), ('pName', 'employer'), ('o', 'http://www.wikidata.org/entity/Q866012'), ('oName', 'University of Queensland')]\n",
      "[('p', 'http://www.wikidata.org/prop/direct/P106'), ('pName', 'occupation'), ('o', 'http://www.wikidata.org/entity/Q21993562'), ('oName', 'cultural activist')]\n",
      "[('p', 'http://www.wikidata.org/prop/direct/P175'), ('pName', 'performer'), ('o', 'http://www.wikidata.org/entity/Q3306432'), ('oName', 'Chiara Zanni')]\n",
      "[('p', 'http://www.wikidata.org/prop/direct/P39'), ('pName', 'position held'), ('o', 'http://www.wikidata.org/entity/Q4018482'), ('oName', 'education minister')]\n",
      "[('p', 'http://www.wikidata.org/prop/direct/P734'), ('pName', 'family name'), ('o', 'http://www.wikidata.org/entity/Q16855455'), ('oName', 'Orlandi')]\n",
      "[('p', 'http://www.wikidata.org/prop/direct/P735'), ('pName', 'given name'), ('o', 'http://www.wikidata.org/entity/Q2605655'), ('oName', 'Ángel')]\n",
      "[('p', 'http://www.wikidata.org/prop/direct/P108'), ('pName', 'employer'), ('o', 'http://www.wikidata.org/entity/Q633561'), ('oName', 'University of Zaragoza')]\n",
      "[('p', 'http://www.wikidata.org/prop/direct/P69'), ('pName', 'educated at'), ('o', 'http://www.wikidata.org/entity/Q633561'), ('oName', 'University of Zaragoza')]\n",
      "[('p', 'http://www.wikidata.org/prop/direct/P69'), ('pName', 'educated at'), ('o', 'http://www.wikidata.org/entity/Q73079'), ('oName', 'Trinity College')]\n",
      "[('p', 'http://www.wikidata.org/prop/direct/P119'), ('pName', 'place of burial'), ('o', 'http://www.wikidata.org/entity/Q1362125'), ('oName', 'First Cemetery of Athens')]\n",
      "[('p', 'http://www.wikidata.org/prop/direct/P735'), ('pName', 'given name'), ('o', 'http://www.wikidata.org/entity/Q19828977'), ('oName', 'Alexandros')]\n",
      "[('p', 'http://www.wikidata.org/prop/direct/P463'), ('pName', 'member of'), ('o', 'http://www.wikidata.org/entity/Q617290'), ('oName', 'Council of Five Hundred')]\n",
      "[('p', 'http://www.wikidata.org/prop/direct/P735'), ('pName', 'given name'), ('o', 'http://www.wikidata.org/entity/Q18115086'), ('oName', 'Joaquim')]\n",
      "[('p', 'http://www.wikidata.org/prop/direct/P735'), ('pName', 'given name'), ('o', 'http://www.wikidata.org/entity/Q19768172'), ('oName', 'Marino')]\n",
      "[('p', 'http://www.wikidata.org/prop/direct/P108'), ('pName', 'employer'), ('o', 'http://www.wikidata.org/entity/Q1229996'), ('oName', 'University of Seville')]\n",
      "[('p', 'http://www.wikidata.org/prop/direct/P108'), ('pName', 'employer'), ('o', 'http://www.wikidata.org/entity/Q1229996'), ('oName', 'University of Seville')]\n",
      "[('p', 'http://www.wikidata.org/prop/direct/P735'), ('pName', 'given name'), ('o', 'http://www.wikidata.org/entity/Q19819790'), ('oName', 'Orazio')]\n",
      "[('p', 'http://www.wikidata.org/prop/direct/P119'), ('pName', 'place of burial'), ('o', 'http://www.wikidata.org/entity/Q340065'), ('oName', 'Rasos Cemetery')]\n",
      "[('p', 'http://www.wikidata.org/prop/direct/P463'), ('pName', 'member of'), ('o', 'http://www.wikidata.org/entity/Q35854422'), ('oName', 'Cuerpo Facultativo de Archiveros, Bibliotecarios y Arqueólogos')]\n",
      "[('p', 'http://www.wikidata.org/prop/direct/P166'), ('pName', 'award received'), ('o', 'http://www.wikidata.org/entity/Q30456287'), ('oName', 'Fellow of the Royal Society Te Apārangi')]\n",
      "[('p', 'http://www.wikidata.org/prop/direct/P19'), ('pName', 'place of birth'), ('o', 'http://www.wikidata.org/entity/Q631644'), ('oName', 'Saint-Génard')]\n",
      "[('p', 'http://www.wikidata.org/prop/direct/P20'), ('pName', 'place of death'), ('o', 'http://www.wikidata.org/entity/Q631644'), ('oName', 'Saint-Génard')]\n",
      "[('p', 'http://www.wikidata.org/prop/direct/P735'), ('pName', 'given name'), ('o', 'http://www.wikidata.org/entity/Q20087914'), ('oName', 'Konstanty')]\n",
      "[('p', 'http://www.wikidata.org/prop/direct/P108'), ('pName', 'employer'), ('o', 'http://www.wikidata.org/entity/Q32751'), ('oName', 'National Sun Yat-sen University')]\n",
      "[('p', 'http://www.wikidata.org/prop/direct/P108'), ('pName', 'employer'), ('o', 'http://www.wikidata.org/entity/Q4201410'), ('oName', 'Institute of Archaeology')]\n",
      "[('p', 'http://www.wikidata.org/prop/direct/P734'), ('pName', 'family name'), ('o', 'http://www.wikidata.org/entity/Q104814549'), ('oName', 'de Quincy')]\n",
      "[('p', 'http://www.wikidata.org/prop/direct/P144'), ('pName', 'based on'), ('o', 'http://www.wikidata.org/entity/Q148659'), ('oName', 'Indiana Jones')]\n",
      "[('p', 'http://www.wikidata.org/prop/direct/P106'), ('pName', 'occupation'), ('o', 'http://www.wikidata.org/entity/Q1028181'), ('oName', 'painter')]\n",
      "[('p', 'http://www.wikidata.org/prop/direct/P106'), ('pName', 'occupation'), ('o', 'http://www.wikidata.org/entity/Q1028181'), ('oName', 'painter')]\n",
      "[('p', 'http://www.wikidata.org/prop/direct/P5008'), ('pName', 'on focus list of Wikimedia project'), ('o', 'http://www.wikidata.org/entity/Q104694359'), ('oName', 'WikiProject PCC Wikidata Pilot/Frick Art Reference Library')]\n",
      "[('p', 'http://www.wikidata.org/prop/direct/P166'), ('pName', 'award received'), ('o', 'http://www.wikidata.org/entity/Q10762848'), ('oName', 'Officer of the Order of the British Empire')]\n",
      "[('p', 'http://www.wikidata.org/prop/direct/P20'), ('pName', 'place of death'), ('o', 'http://www.wikidata.org/entity/Q1085'), ('oName', 'Prague')]\n",
      "[('p', 'http://www.wikidata.org/prop/direct/P166'), ('pName', 'award received'), ('o', 'http://www.wikidata.org/entity/Q1126563'), ('oName', 'Order of St. Andrew')]\n",
      "[('p', 'http://www.wikidata.org/prop/direct/P106'), ('pName', 'occupation'), ('o', 'http://www.wikidata.org/entity/Q11569986'), ('oName', 'printmaker')]\n",
      "[('p', 'http://www.wikidata.org/prop/direct/P106'), ('pName', 'occupation'), ('o', 'http://www.wikidata.org/entity/Q11774202'), ('oName', 'essayist')]\n",
      "[('p', 'http://www.wikidata.org/prop/direct/P106'), ('pName', 'occupation'), ('o', 'http://www.wikidata.org/entity/Q121594'), ('oName', 'professor')]\n",
      "[('p', 'http://www.wikidata.org/prop/direct/P106'), ('pName', 'occupation'), ('o', 'http://www.wikidata.org/entity/Q121594'), ('oName', 'professor')]\n",
      "[('p', 'http://www.wikidata.org/prop/direct/P39'), ('pName', 'position held'), ('o', 'http://www.wikidata.org/entity/Q121594'), ('oName', 'professor')]\n",
      "[('p', 'http://www.wikidata.org/prop/direct/P509'), ('pName', 'cause of death'), ('o', 'http://www.wikidata.org/entity/Q12192'), ('oName', 'pneumonia')]\n",
      "[('p', 'http://www.wikidata.org/prop/direct/P39'), ('pName', 'position held'), ('o', 'http://www.wikidata.org/entity/Q121998'), ('oName', 'ambassador')]\n",
      "[('p', 'http://www.wikidata.org/prop/direct/P166'), ('pName', 'award received'), ('o', 'http://www.wikidata.org/entity/Q12201526'), ('oName', 'Member of the Order of the British Empire')]\n",
      "[('p', 'http://www.wikidata.org/prop/direct/P463'), ('pName', 'member of'), ('o', 'http://www.wikidata.org/entity/Q123885'), ('oName', 'Royal Society')]\n",
      "150\n"
     ]
    }
   ],
   "source": [
    "queryString = \"\"\"\n",
    "SELECT ?p ?pName ?o ?oName \n",
    "WHERE {\n",
    "    ?archaeologist wdt:P106 wd:Q3621491 ; #archaeologist  \n",
    "             ?p ?o .\n",
    "    ?p sc:name ?pName .\n",
    "     ?o sc:name ?oName .\n",
    "     \n",
    "}\n",
    "LIMIT 150\n",
    "\"\"\"\n",
    "\n",
    "print(\"Results\")\n",
    "x=run_query(queryString)"
   ]
  },
  {
   "cell_type": "code",
   "execution_count": 81,
   "id": "b2193827-11fe-4d5c-bb0a-3e3756ae4237",
   "metadata": {},
   "outputs": [
    {
     "name": "stdout",
     "output_type": "stream",
     "text": [
      "Results\n",
      "[('s', 'http://www.wikidata.org/entity/Q10923207'), ('sName', 'Yanliu Shang'), ('p', 'http://www.wikidata.org/prop/direct/P40'), ('pName', 'child')]\n",
      "[('s', 'http://www.wikidata.org/entity/Q15274985'), ('sName', \"Dominique-Vivant Denon: l'oeil de Napoléon\"), ('p', 'http://www.wikidata.org/prop/direct/P138'), ('pName', 'named after')]\n",
      "[('s', 'http://www.wikidata.org/entity/Q15729291'), ('sName', 'Marino Marini'), ('p', 'http://www.wikidata.org/prop/direct/P1038'), ('pName', 'relative')]\n",
      "[('s', 'http://www.wikidata.org/entity/Q15733244'), ('sName', 'Daring Do'), ('p', 'http://www.wikidata.org/prop/direct/P144'), ('pName', 'based on')]\n",
      "[('s', 'http://www.wikidata.org/entity/Q15876247'), ('sName', 'Henry Balfour'), ('p', 'http://www.wikidata.org/prop/direct/P1889'), ('pName', 'different from')]\n",
      "[('s', 'http://www.wikidata.org/entity/Q15892068'), ('sName', 'Ἀγχίσου λιμήν (Pauly-Wissowa)'), ('p', 'http://www.wikidata.org/prop/direct/P50'), ('pName', 'author')]\n",
      "[('s', 'http://www.wikidata.org/entity/Q15892071'), ('sName', 'Anchisiades 2 (Pauly-Wissowa)'), ('p', 'http://www.wikidata.org/prop/direct/P50'), ('pName', 'author')]\n",
      "[('s', 'http://www.wikidata.org/entity/Q15892072'), ('sName', 'Anchisiades 1 (Pauly-Wissowa)'), ('p', 'http://www.wikidata.org/prop/direct/P50'), ('pName', 'author')]\n",
      "[('s', 'http://www.wikidata.org/entity/Q15892074'), ('sName', 'Anchisiades (Pauly-Wissowa)'), ('p', 'http://www.wikidata.org/prop/direct/P50'), ('pName', 'author')]\n",
      "[('s', 'http://www.wikidata.org/entity/Q704501'), ('sName', 'Sergey Uvarov'), ('p', 'http://www.wikidata.org/prop/direct/P40'), ('pName', 'child')]\n",
      "[('s', 'http://www.wikidata.org/entity/Q16038601'), ('sName', 'Michel Reddé'), ('p', 'http://www.wikidata.org/prop/direct/P184'), ('pName', 'doctoral advisor')]\n",
      "[('s', 'http://www.wikidata.org/entity/Q16038607'), ('sName', 'René Rebuffat'), ('p', 'http://www.wikidata.org/prop/direct/P185'), ('pName', 'doctoral student')]\n",
      "[('s', 'http://www.wikidata.org/entity/Q16063760'), ('sName', 'Category:Stanisław Kostka Potocki'), ('p', 'http://www.wikidata.org/prop/direct/P301'), ('pName', \"category's main topic\")]\n",
      "[('s', 'http://www.wikidata.org/entity/Q3271808'), ('sName', 'Léopold Genicot'), ('p', 'http://www.wikidata.org/prop/direct/P40'), ('pName', 'child')]\n",
      "[('s', 'http://www.wikidata.org/entity/Q884924'), ('sName', 'German School of Athens'), ('p', 'http://www.wikidata.org/prop/direct/P112'), ('pName', 'founded by')]\n",
      "[('s', 'http://www.wikidata.org/entity/Q884924'), ('sName', 'German School of Athens'), ('p', 'http://www.wikidata.org/prop/direct/P138'), ('pName', 'named after')]\n",
      "[('s', 'http://www.wikidata.org/entity/Q17065902'), ('sName', 'John Egil Grieg'), ('p', 'http://www.wikidata.org/prop/direct/P22'), ('pName', 'father')]\n",
      "[('s', 'http://www.wikidata.org/entity/Q3101812'), ('sName', 'George Oprescu'), ('p', 'http://www.wikidata.org/prop/direct/P1066'), ('pName', 'student of')]\n",
      "[('s', 'http://www.wikidata.org/entity/Q16062062'), ('sName', 'Aristeides Rizos Rangavis'), ('p', 'http://www.wikidata.org/prop/direct/P22'), ('pName', 'father')]\n",
      "[('s', 'http://www.wikidata.org/entity/Q17484939'), ('sName', 'Eugenios Rizos Rangavis'), ('p', 'http://www.wikidata.org/prop/direct/P22'), ('pName', 'father')]\n",
      "[('s', 'http://www.wikidata.org/entity/Q6063172'), ('sName', 'Kleon Rizos Rangavis'), ('p', 'http://www.wikidata.org/prop/direct/P22'), ('pName', 'father')]\n",
      "[('s', 'http://www.wikidata.org/entity/Q64666679'), ('sName', 'Caroline Christian Skene'), ('p', 'http://www.wikidata.org/prop/direct/P26'), ('pName', 'spouse')]\n",
      "[('s', 'http://www.wikidata.org/entity/Q64666716'), ('sName', 'Othon Rizos Rangavis'), ('p', 'http://www.wikidata.org/prop/direct/P22'), ('pName', 'father')]\n",
      "[('s', 'http://www.wikidata.org/entity/Q64666725'), ('sName', 'Emilios Rizos Rangavis'), ('p', 'http://www.wikidata.org/prop/direct/P22'), ('pName', 'father')]\n",
      "[('s', 'http://www.wikidata.org/entity/Q64667021'), ('sName', 'Aristion Rizos Rangavis'), ('p', 'http://www.wikidata.org/prop/direct/P22'), ('pName', 'father')]\n",
      "[('s', 'http://www.wikidata.org/entity/Q64667040'), ('sName', 'Charicles Rizos Rangavis'), ('p', 'http://www.wikidata.org/prop/direct/P22'), ('pName', 'father')]\n",
      "[('s', 'http://www.wikidata.org/entity/Q64667051'), ('sName', 'Alexios Rizos Rangavis'), ('p', 'http://www.wikidata.org/prop/direct/P22'), ('pName', 'father')]\n",
      "[('s', 'http://www.wikidata.org/entity/Q64667069'), ('sName', 'Zoe Rizos Rangavis'), ('p', 'http://www.wikidata.org/prop/direct/P22'), ('pName', 'father')]\n",
      "[('s', 'http://www.wikidata.org/entity/Q64667133'), ('sName', 'Amalia Rizos Rangavis'), ('p', 'http://www.wikidata.org/prop/direct/P22'), ('pName', 'father')]\n",
      "[('s', 'http://www.wikidata.org/entity/Q64667176'), ('sName', 'Eleni Rizos Rangavis'), ('p', 'http://www.wikidata.org/prop/direct/P22'), ('pName', 'father')]\n",
      "[('s', 'http://www.wikidata.org/entity/Q64667177'), ('sName', 'Charikleia Rizo-Rangabé'), ('p', 'http://www.wikidata.org/prop/direct/P22'), ('pName', 'father')]\n",
      "[('s', 'http://www.wikidata.org/entity/Q707904'), ('sName', 'Jean-Jules-Antoine Lecomte du Nouÿ'), ('p', 'http://www.wikidata.org/prop/direct/P40'), ('pName', 'child')]\n",
      "[('s', 'http://www.wikidata.org/entity/Q16260396'), ('sName', 'René de La Coste-Messelière'), ('p', 'http://www.wikidata.org/prop/direct/P22'), ('pName', 'father')]\n",
      "[('s', 'http://www.wikidata.org/entity/Q17625106'), ('sName', 'Pilar Acosta Martínez'), ('p', 'http://www.wikidata.org/prop/direct/P26'), ('pName', 'spouse')]\n",
      "[('s', 'http://www.wikidata.org/entity/Q17647794'), ('sName', 'High Peak camp, Sidmouth'), ('p', 'http://www.wikidata.org/prop/direct/P4345'), ('pName', 'director of archaeological fieldwork')]\n",
      "[('s', 'http://www.wikidata.org/entity/Q17651187'), ('sName', 'Caroline Evrard'), ('p', 'http://www.wikidata.org/prop/direct/P40'), ('pName', 'child')]\n",
      "[('s', 'http://www.wikidata.org/entity/Q17995706'), ('sName', 'Manuel Pellicer Catalán'), ('p', 'http://www.wikidata.org/prop/direct/P26'), ('pName', 'spouse')]\n",
      "[('s', 'http://www.wikidata.org/entity/Q4514244'), ('sName', 'Yevgeny Chernykh'), ('p', 'http://www.wikidata.org/prop/direct/P185'), ('pName', 'doctoral student')]\n",
      "[('s', 'http://www.wikidata.org/entity/Q17774328'), ('sName', 'Sedum alberti'), ('p', 'http://www.wikidata.org/prop/direct/P138'), ('pName', 'named after')]\n",
      "[('s', 'http://www.wikidata.org/entity/Q17791122'), ('sName', 'The Apothecary'), ('p', 'http://www.wikidata.org/prop/direct/P170'), ('pName', 'creator')]\n",
      "[('s', 'http://www.wikidata.org/entity/Q20002712'), ('sName', 'Gonzalo del Castillo Alonso'), ('p', 'http://www.wikidata.org/prop/direct/P40'), ('pName', 'child')]\n",
      "[('s', 'http://www.wikidata.org/entity/Q333839'), ('sName', 'William Tyssen-Amherst, 1st Baron Amherst of Hackney'), ('p', 'http://www.wikidata.org/prop/direct/P40'), ('pName', 'child')]\n",
      "[('s', 'http://www.wikidata.org/entity/Q75326093'), ('sName', 'Margaret Susan Mitford'), ('p', 'http://www.wikidata.org/prop/direct/P40'), ('pName', 'child')]\n",
      "[('s', 'http://www.wikidata.org/entity/Q12383059'), ('sName', 'Antonio Concheiro Coello'), ('p', 'http://www.wikidata.org/prop/direct/P3373'), ('pName', 'sibling')]\n",
      "[('s', 'http://www.wikidata.org/entity/Q20965724'), ('sName', 'Arnai (Pauly-Wissowa)'), ('p', 'http://www.wikidata.org/prop/direct/P50'), ('pName', 'author')]\n",
      "[('s', 'http://www.wikidata.org/entity/Q20967038'), ('sName', 'Arnissa 1 (Pauly-Wissowa)'), ('p', 'http://www.wikidata.org/prop/direct/P50'), ('pName', 'author')]\n",
      "[('s', 'http://www.wikidata.org/entity/Q20967056'), ('sName', 'Aros (Pauly-Wissowa)'), ('p', 'http://www.wikidata.org/prop/direct/P50'), ('pName', 'author')]\n",
      "[('s', 'http://www.wikidata.org/entity/Q20971271'), ('sName', 'Ἀρτέμιδος ναός (Pauly-Wissowa)'), ('p', 'http://www.wikidata.org/prop/direct/P50'), ('pName', 'author')]\n",
      "[('s', 'http://www.wikidata.org/entity/Q20987124'), ('sName', 'Gonzalo Concheiro'), ('p', 'http://www.wikidata.org/prop/direct/P3373'), ('pName', 'sibling')]\n",
      "[('s', 'http://www.wikidata.org/entity/Q2624092'), ('sName', 'Eustachy Tyszkiewicz'), ('p', 'http://www.wikidata.org/prop/direct/P3373'), ('pName', 'sibling')]\n",
      "[('s', 'http://www.wikidata.org/entity/Q2978590'), ('sName', 'Konstanty Tyszkiewicz'), ('p', 'http://www.wikidata.org/prop/direct/P3373'), ('pName', 'sibling')]\n",
      "[('s', 'http://www.wikidata.org/entity/Q21674985'), ('sName', 'A Baptism in Flanders in the 18th Century'), ('p', 'http://www.wikidata.org/prop/direct/P170'), ('pName', 'creator')]\n",
      "[('s', 'http://www.wikidata.org/entity/Q21932489'), ('sName', 'Øivind Lunde'), ('p', 'http://www.wikidata.org/prop/direct/P1889'), ('pName', 'different from')]\n",
      "[('s', 'http://www.wikidata.org/entity/Q21968175'), ('sName', 'Antiquarium Forense'), ('p', 'http://www.wikidata.org/prop/direct/P112'), ('pName', 'founded by')]\n",
      "[('s', 'http://www.wikidata.org/entity/Q22046562'), ('sName', 'Flora Blanchon'), ('p', 'http://www.wikidata.org/prop/direct/P185'), ('pName', 'doctoral student')]\n",
      "[('s', 'http://www.wikidata.org/entity/Q22231634'), ('sName', 'Eduard Fett'), ('p', 'http://www.wikidata.org/prop/direct/P40'), ('pName', 'child')]\n",
      "[('s', 'http://www.wikidata.org/entity/Q1351912'), ('sName', 'Erich B. Cahn'), ('p', 'http://www.wikidata.org/prop/direct/P1038'), ('pName', 'relative')]\n",
      "[('s', 'http://www.wikidata.org/entity/Q23305040'), ('sName', 'John Francis Amherst Cecil'), ('p', 'http://www.wikidata.org/prop/direct/P25'), ('pName', 'mother')]\n",
      "[('s', 'http://www.wikidata.org/entity/Q23310997'), ('sName', 'Adolph E. Cahn'), ('p', 'http://www.wikidata.org/prop/direct/P1038'), ('pName', 'relative')]\n",
      "[('s', 'http://www.wikidata.org/entity/Q6680023'), ('sName', 'Lord William Cecil'), ('p', 'http://www.wikidata.org/prop/direct/P26'), ('pName', 'spouse')]\n",
      "[('s', 'http://www.wikidata.org/entity/Q2851315'), ('sName', 'Anne Victor Denis Hurault de Vibraye'), ('p', 'http://www.wikidata.org/prop/direct/P40'), ('pName', 'child')]\n",
      "[('s', 'http://www.wikidata.org/entity/Q3266131'), ('sName', 'Ludovic Hurault de Vibraye'), ('p', 'http://www.wikidata.org/prop/direct/P22'), ('pName', 'father')]\n",
      "[('s', 'http://www.wikidata.org/entity/Q42306013'), ('sName', 'Katerina Douka'), ('p', 'http://www.wikidata.org/prop/direct/P184'), ('pName', 'doctoral advisor')]\n",
      "[('s', 'http://www.wikidata.org/entity/Q27048632'), ('sName', 'Eric Boëda'), ('p', 'http://www.wikidata.org/prop/direct/P184'), ('pName', 'doctoral advisor')]\n",
      "[('s', 'http://www.wikidata.org/entity/Q27062828'), ('sName', 'Villa Blanc'), ('p', 'http://www.wikidata.org/prop/direct/P287'), ('pName', 'designed by')]\n",
      "[('s', 'http://www.wikidata.org/entity/Q27229297'), ('sName', 'Hildi Hess'), ('p', 'http://www.wikidata.org/prop/direct/P22'), ('pName', 'father')]\n",
      "[('s', 'http://www.wikidata.org/entity/Q29349685'), ('sName', 'Werner Heinz'), ('p', 'http://www.wikidata.org/prop/direct/P1889'), ('pName', 'different from')]\n",
      "[('s', 'http://www.wikidata.org/entity/Q43456886'), ('sName', 'Kollárova'), ('p', 'http://www.wikidata.org/prop/direct/P138'), ('pName', 'named after')]\n",
      "[('s', 'http://www.wikidata.org/entity/Q435584'), ('sName', 'Samuil Marshak'), ('p', 'http://www.wikidata.org/prop/direct/P1889'), ('pName', 'different from')]\n",
      "[('s', 'http://www.wikidata.org/entity/Q450598'), ('sName', 'Lee Rogers Berger'), ('p', 'http://www.wikidata.org/prop/direct/P184'), ('pName', 'doctoral advisor')]\n",
      "[('s', 'http://www.wikidata.org/entity/Q473961'), ('sName', 'Alfred II. zu Windisch-Grätz'), ('p', 'http://www.wikidata.org/prop/direct/P40'), ('pName', 'child')]\n",
      "[('s', 'http://www.wikidata.org/entity/Q982125'), ('sName', 'Phillip V. Tobias'), ('p', 'http://www.wikidata.org/prop/direct/P185'), ('pName', 'doctoral student')]\n",
      "[('s', 'http://www.wikidata.org/entity/Q106357217'), ('sName', 'Yekaterina Mordvinova'), ('p', 'http://www.wikidata.org/prop/direct/P26'), ('pName', 'spouse')]\n",
      "[('s', 'http://www.wikidata.org/entity/Q106685699'), ('sName', 'Petronella Nicolette Holwerda-Jentink'), ('p', 'http://www.wikidata.org/prop/direct/P26'), ('pName', 'spouse')]\n",
      "[('s', 'http://www.wikidata.org/entity/Q1444034'), ('sName', 'Miles Copeland, Jr.'), ('p', 'http://www.wikidata.org/prop/direct/P26'), ('pName', 'spouse')]\n",
      "[('s', 'http://www.wikidata.org/entity/Q1484376'), ('sName', 'Ian Copeland'), ('p', 'http://www.wikidata.org/prop/direct/P25'), ('pName', 'mother')]\n",
      "[('s', 'http://www.wikidata.org/entity/Q16066130'), ('sName', 'George Soane'), ('p', 'http://www.wikidata.org/prop/direct/P22'), ('pName', 'father')]\n",
      "[('s', 'http://www.wikidata.org/entity/Q2060860'), ('sName', \"Sir John Soane's Museum\"), ('p', 'http://www.wikidata.org/prop/direct/P127'), ('pName', 'owned by')]\n",
      "[('s', 'http://www.wikidata.org/entity/Q2097388'), ('sName', 'Pitzhanger Manor'), ('p', 'http://www.wikidata.org/prop/direct/P127'), ('pName', 'owned by')]\n",
      "[('s', 'http://www.wikidata.org/entity/Q2111311'), ('sName', 'Antonie Ewoud Jan Holwerda'), ('p', 'http://www.wikidata.org/prop/direct/P40'), ('pName', 'child')]\n",
      "[('s', 'http://www.wikidata.org/entity/Q2150850'), ('sName', 'Richard Waddington'), ('p', 'http://www.wikidata.org/prop/direct/P3373'), ('pName', 'sibling')]\n",
      "[('s', 'http://www.wikidata.org/entity/Q260'), ('sName', 'Jean-François Champollion'), ('p', 'http://www.wikidata.org/prop/direct/P3373'), ('pName', 'sibling')]\n",
      "[('s', 'http://www.wikidata.org/entity/Q3140198'), ('sName', 'Honoré-Hugues Berriat'), ('p', 'http://www.wikidata.org/prop/direct/P1038'), ('pName', 'relative')]\n",
      "[('s', 'http://www.wikidata.org/entity/Q346235'), ('sName', 'Miles Copeland III'), ('p', 'http://www.wikidata.org/prop/direct/P25'), ('pName', 'mother')]\n",
      "[('s', 'http://www.wikidata.org/entity/Q532699'), ('sName', '2473 Heyerdahl'), ('p', 'http://www.wikidata.org/prop/direct/P138'), ('pName', 'named after')]\n",
      "[('s', 'http://www.wikidata.org/entity/Q543081'), ('sName', 'Heinrich Leberecht Fleischer'), ('p', 'http://www.wikidata.org/prop/direct/P185'), ('pName', 'doctoral student')]\n",
      "[('s', 'http://www.wikidata.org/entity/Q543666'), ('sName', 'Jan Hendrik Holwerda'), ('p', 'http://www.wikidata.org/prop/direct/P22'), ('pName', 'father')]\n",
      "[('s', 'http://www.wikidata.org/entity/Q545912'), ('sName', 'Nikolay Muravyov-Amursky'), ('p', 'http://www.wikidata.org/prop/direct/P22'), ('pName', 'father')]\n",
      "[('s', 'http://www.wikidata.org/entity/Q55305746'), ('sName', 'Category:Jacques-Joseph Champollion'), ('p', 'http://www.wikidata.org/prop/direct/P301'), ('pName', \"category's main topic\")]\n",
      "[('s', 'http://www.wikidata.org/entity/Q55305939'), ('sName', 'Category:John Soane'), ('p', 'http://www.wikidata.org/prop/direct/P301'), ('pName', \"category's main topic\")]\n",
      "[('s', 'http://www.wikidata.org/entity/Q555693'), ('sName', 'Timofey Granovsky'), ('p', 'http://www.wikidata.org/prop/direct/P185'), ('pName', 'doctoral student')]\n",
      "[('s', 'http://www.wikidata.org/entity/Q55836907'), ('sName', 'Aimé Champollion-Figeac'), ('p', 'http://www.wikidata.org/prop/direct/P22'), ('pName', 'father')]\n",
      "[('s', 'http://www.wikidata.org/entity/Q66305686'), ('sName', 'Thérèse Champollion'), ('p', 'http://www.wikidata.org/prop/direct/P3373'), ('pName', 'sibling')]\n",
      "[('s', 'http://www.wikidata.org/entity/Q66305710'), ('sName', 'Jacques Champollion'), ('p', 'http://www.wikidata.org/prop/direct/P40'), ('pName', 'child')]\n",
      "[('s', 'http://www.wikidata.org/entity/Q66305737'), ('sName', 'Marie Champollion'), ('p', 'http://www.wikidata.org/prop/direct/P3373'), ('pName', 'sibling')]\n",
      "[('s', 'http://www.wikidata.org/entity/Q6778829'), ('sName', 'Mary Alsop King Waddington'), ('p', 'http://www.wikidata.org/prop/direct/P26'), ('pName', 'spouse')]\n",
      "[('s', 'http://www.wikidata.org/entity/Q96086842'), ('sName', 'Anna Rennie'), ('p', 'http://www.wikidata.org/prop/direct/P26'), ('pName', 'spouse')]\n",
      "[('s', 'http://www.wikidata.org/entity/Q2362791'), ('sName', 'Alexandre de Laborde'), ('p', 'http://www.wikidata.org/prop/direct/P1889'), ('pName', 'different from')]\n",
      "[('s', 'http://www.wikidata.org/entity/Q2362791'), ('sName', 'Alexandre de Laborde'), ('p', 'http://www.wikidata.org/prop/direct/P40'), ('pName', 'child')]\n",
      "[('s', 'http://www.wikidata.org/entity/Q3009728'), ('sName', 'Cécile Delessert'), ('p', 'http://www.wikidata.org/prop/direct/P3373'), ('pName', 'sibling')]\n",
      "[('s', 'http://www.wikidata.org/entity/Q3093700'), ('sName', 'Gabriel Delessert'), ('p', 'http://www.wikidata.org/prop/direct/P40'), ('pName', 'child')]\n",
      "[('s', 'http://www.wikidata.org/entity/Q3269422'), ('sName', 'Léon de Laborde'), ('p', 'http://www.wikidata.org/prop/direct/P22'), ('pName', 'father')]\n",
      "[('s', 'http://www.wikidata.org/entity/Q3816'), ('sName', 'George Sand'), ('p', 'http://www.wikidata.org/prop/direct/P451'), ('pName', 'unmarried partner')]\n",
      "[('s', 'http://www.wikidata.org/entity/Q591375'), ('sName', 'Valentine de Laborde'), ('p', 'http://www.wikidata.org/prop/direct/P22'), ('pName', 'father')]\n",
      "[('s', 'http://www.wikidata.org/entity/Q591375'), ('sName', 'Valentine de Laborde'), ('p', 'http://www.wikidata.org/prop/direct/P3373'), ('pName', 'sibling')]\n",
      "[('s', 'http://www.wikidata.org/entity/Q591375'), ('sName', 'Valentine de Laborde'), ('p', 'http://www.wikidata.org/prop/direct/P40'), ('pName', 'child')]\n",
      "[('s', 'http://www.wikidata.org/entity/Q606558'), ('sName', 'Antonius Aemilius'), ('p', 'http://www.wikidata.org/prop/direct/P1066'), ('pName', 'student of')]\n",
      "[('s', 'http://www.wikidata.org/entity/Q613410'), ('sName', 'Villum Kann Rasmussen'), ('p', 'http://www.wikidata.org/prop/direct/P40'), ('pName', 'child')]\n",
      "[('s', 'http://www.wikidata.org/entity/Q1276053'), ('sName', 'Oriental Institute'), ('p', 'http://www.wikidata.org/prop/direct/P112'), ('pName', 'founded by')]\n",
      "[('s', 'http://www.wikidata.org/entity/Q172161'), ('sName', 'Joseph Reinach'), ('p', 'http://www.wikidata.org/prop/direct/P3373'), ('pName', 'sibling')]\n",
      "[('s', 'http://www.wikidata.org/entity/Q172161'), ('sName', 'Joseph Reinach'), ('p', 'http://www.wikidata.org/prop/direct/P3373'), ('pName', 'sibling')]\n",
      "[('s', 'http://www.wikidata.org/entity/Q18329769'), ('sName', 'Category:François Bordes'), ('p', 'http://www.wikidata.org/prop/direct/P301'), ('pName', \"category's main topic\")]\n",
      "[('s', 'http://www.wikidata.org/entity/Q202790'), ('sName', 'Théodore Reinach'), ('p', 'http://www.wikidata.org/prop/direct/P3373'), ('pName', 'sibling')]\n",
      "[('s', 'http://www.wikidata.org/entity/Q3023106'), ('sName', 'Denise de Sonneville-Bordes'), ('p', 'http://www.wikidata.org/prop/direct/P26'), ('pName', 'spouse')]\n",
      "[('s', 'http://www.wikidata.org/entity/Q659722'), ('sName', 'Salomon Reinach'), ('p', 'http://www.wikidata.org/prop/direct/P3373'), ('pName', 'sibling')]\n",
      "[('s', 'http://www.wikidata.org/entity/Q662744'), ('sName', 'KV45'), ('p', 'http://www.wikidata.org/prop/direct/P4345'), ('pName', 'director of archaeological fieldwork')]\n",
      "[('s', 'http://www.wikidata.org/entity/Q666795'), ('sName', 'François Bordes'), ('p', 'http://www.wikidata.org/prop/direct/P26'), ('pName', 'spouse')]\n",
      "[('s', 'http://www.wikidata.org/entity/Q1765094'), ('sName', 'Ted Kord'), ('p', 'http://www.wikidata.org/prop/direct/P155'), ('pName', 'follows')]\n",
      "[('s', 'http://www.wikidata.org/entity/Q125644'), ('sName', 'Friedrich Ranke'), ('p', 'http://www.wikidata.org/prop/direct/P3373'), ('pName', 'sibling')]\n",
      "[('s', 'http://www.wikidata.org/entity/Q1819648'), ('sName', 'Friedrich Ranke'), ('p', 'http://www.wikidata.org/prop/direct/P40'), ('pName', 'child')]\n",
      "[('s', 'http://www.wikidata.org/entity/Q1862822'), ('sName', 'Roberta'), ('p', 'http://www.wikidata.org/prop/direct/P1040'), ('pName', 'film editor')]\n",
      "[('s', 'http://www.wikidata.org/entity/Q1870143'), ('sName', 'Lyminge'), ('p', 'http://www.wikidata.org/prop/direct/P4345'), ('pName', 'director of archaeological fieldwork')]\n",
      "[('s', 'http://www.wikidata.org/entity/Q20820556'), ('sName', 'Otto Ranke'), ('p', 'http://www.wikidata.org/prop/direct/P3373'), ('pName', 'sibling')]\n",
      "[('s', 'http://www.wikidata.org/entity/Q2267730'), ('sName', 'Johan Hendrik Kern'), ('p', 'http://www.wikidata.org/prop/direct/P22'), ('pName', 'father')]\n",
      "[('s', 'http://www.wikidata.org/entity/Q2291320'), ('sName', 'University of Nijmegen (1665-1680)'), ('p', 'http://www.wikidata.org/prop/direct/P112'), ('pName', 'founded by')]\n",
      "[('s', 'http://www.wikidata.org/entity/Q2294364'), ('sName', 'Slobodan Ćurčić'), ('p', 'http://www.wikidata.org/prop/direct/P185'), ('pName', 'doctoral student')]\n",
      "[('s', 'http://www.wikidata.org/entity/Q2544868'), ('sName', 'Charles Spencer, 6th Earl Spencer'), ('p', 'http://www.wikidata.org/prop/direct/P40'), ('pName', 'child')]\n",
      "[('s', 'http://www.wikidata.org/entity/Q2557534'), ('sName', 'Johannes Diderik van der Waals jr.'), ('p', 'http://www.wikidata.org/prop/direct/P1889'), ('pName', 'different from')]\n",
      "[('s', 'http://www.wikidata.org/entity/Q9028774'), ('sName', 'Margaret Baring'), ('p', 'http://www.wikidata.org/prop/direct/P40'), ('pName', 'child')]\n",
      "[('s', 'http://www.wikidata.org/entity/Q15407401'), ('sName', 'Alfred Muzzolini'), ('p', 'http://www.wikidata.org/prop/direct/P184'), ('pName', 'doctoral advisor')]\n",
      "[('s', 'http://www.wikidata.org/entity/Q2749266'), ('sName', 'Portrait of Count Stanislas Potocki'), ('p', 'http://www.wikidata.org/prop/direct/P180'), ('pName', 'depicts')]\n",
      "[('s', 'http://www.wikidata.org/entity/Q106538305'), ('sName', 'Paul de Farcy de La Villedubois'), ('p', 'http://www.wikidata.org/prop/direct/P1889'), ('pName', 'different from')]\n",
      "[('s', 'http://www.wikidata.org/entity/Q20535733'), ('sName', 'Xosé Carlos Valle Pérez'), ('p', 'http://www.wikidata.org/prop/direct/P1066'), ('pName', 'student of')]\n",
      "[('s', 'http://www.wikidata.org/entity/Q3263440'), ('sName', 'Louis de Farcy'), ('p', 'http://www.wikidata.org/prop/direct/P3373'), ('pName', 'sibling')]\n",
      "[('s', 'http://www.wikidata.org/entity/Q3360251'), ('sName', 'Hartvig Caspar Christie'), ('p', 'http://www.wikidata.org/prop/direct/P40'), ('pName', 'child')]\n",
      "[('s', 'http://www.wikidata.org/entity/Q3371659'), ('sName', 'Paul Lebaudy'), ('p', 'http://www.wikidata.org/prop/direct/P40'), ('pName', 'child')]\n",
      "[('s', 'http://www.wikidata.org/entity/Q57198058'), ('sName', 'Araceli Filgueira Iglesias'), ('p', 'http://www.wikidata.org/prop/direct/P22'), ('pName', 'father')]\n",
      "[('s', 'http://www.wikidata.org/entity/Q15720537'), ('sName', 'Jessica Mann'), ('p', 'http://www.wikidata.org/prop/direct/P26'), ('pName', 'spouse')]\n",
      "[('s', 'http://www.wikidata.org/entity/Q75913573'), ('sName', 'Martin Nicholas Caleb Thomas'), ('p', 'http://www.wikidata.org/prop/direct/P22'), ('pName', 'father')]\n",
      "[('s', 'http://www.wikidata.org/entity/Q13099865'), ('sName', 'Adolph Fischer'), ('p', 'http://www.wikidata.org/prop/direct/P40'), ('pName', 'child')]\n",
      "[('s', 'http://www.wikidata.org/entity/Q17677442'), ('sName', 'Chapel Hill Motte, Arkholme'), ('p', 'http://www.wikidata.org/prop/direct/P4345'), ('pName', 'director of archaeological fieldwork')]\n",
      "[('s', 'http://www.wikidata.org/entity/Q17677442'), ('sName', 'Chapel Hill Motte, Arkholme'), ('p', 'http://www.wikidata.org/prop/direct/P4345'), ('pName', 'director of archaeological fieldwork')]\n",
      "[('s', 'http://www.wikidata.org/entity/Q62765'), ('sName', 'Georg Ebers'), ('p', 'http://www.wikidata.org/prop/direct/P185'), ('pName', 'doctoral student')]\n",
      "[('s', 'http://www.wikidata.org/entity/Q19817909'), ('sName', 'Teodora Monczuńska'), ('p', 'http://www.wikidata.org/prop/direct/P22'), ('pName', 'father')]\n",
      "[('s', 'http://www.wikidata.org/entity/Q19840750'), ('sName', 'Wilhelm von Gonzenbach'), ('p', 'http://www.wikidata.org/prop/direct/P40'), ('pName', 'child')]\n",
      "[('s', 'http://www.wikidata.org/entity/Q19905230'), ('sName', 'Portrait of Johann Joachim Winckelmann (1717–1768)'), ('p', 'http://www.wikidata.org/prop/direct/P180'), ('pName', 'depicts')]\n",
      "[('s', 'http://www.wikidata.org/entity/Q19911777'), ('sName', 'The Sibyl'), ('p', 'http://www.wikidata.org/prop/direct/P127'), ('pName', 'owned by')]\n",
      "[('s', 'http://www.wikidata.org/entity/Q19931415'), ('sName', 'Theseus and the Minotaur'), ('p', 'http://www.wikidata.org/prop/direct/P127'), ('pName', 'owned by')]\n",
      "[('s', 'http://www.wikidata.org/entity/Q2831134'), ('sName', 'Albert Dumont'), ('p', 'http://www.wikidata.org/prop/direct/P1889'), ('pName', 'different from')]\n",
      "[('s', 'http://www.wikidata.org/entity/Q22330928'), ('sName', 'Franziska Liebreich'), ('p', 'http://www.wikidata.org/prop/direct/P40'), ('pName', 'child')]\n",
      "150\n"
     ]
    }
   ],
   "source": [
    "queryString = \"\"\"\n",
    "SELECT ?s ?sName ?p ?pName\n",
    "WHERE {\n",
    "    ?archaeologist wdt:P106 wd:Q3621491 . #archaeologist  \n",
    "    ?s ?p ?archaeologist .\n",
    "    ?p sc:name ?pName .\n",
    "     ?s sc:name ?sName .\n",
    "     \n",
    "}\n",
    "LIMIT 150\n",
    "\"\"\"\n",
    "\n",
    "print(\"Results\")\n",
    "x=run_query(queryString)"
   ]
  },
  {
   "cell_type": "code",
   "execution_count": 87,
   "id": "6d27a6e9-20ba-4d4c-b3e9-568cf7f60899",
   "metadata": {},
   "outputs": [
    {
     "name": "stdout",
     "output_type": "stream",
     "text": [
      "Results\n",
      "[('ancientcivilizationsName', 'Gaul')]\n",
      "[('ancientcivilizationsName', 'Ancient Greece')]\n",
      "[('ancientcivilizationsName', 'Ancient Carthage')]\n",
      "[('ancientcivilizationsName', 'Ancient Greece')]\n",
      "[('ancientcivilizationsName', 'Ancient Greece')]\n",
      "[('ancientcivilizationsName', 'Ancient Greece')]\n",
      "[('ancientcivilizationsName', 'Ancient Carthage')]\n",
      "[('ancientcivilizationsName', 'Ancient Carthage')]\n",
      "[('ancientcivilizationsName', 'Ancient Greece')]\n",
      "[('ancientcivilizationsName', 'Ancient Greece')]\n",
      "[('ancientcivilizationsName', 'Ancient Carthage')]\n",
      "[('ancientcivilizationsName', 'Gaul')]\n",
      "[('ancientcivilizationsName', 'Gaul')]\n",
      "[('ancientcivilizationsName', 'Ancient Carthage')]\n",
      "[('ancientcivilizationsName', 'Mesopotamia')]\n",
      "[('ancientcivilizationsName', 'Ancient Carthage')]\n",
      "[('ancientcivilizationsName', 'Israelite period')]\n",
      "[('ancientcivilizationsName', 'history of ancient Israel and Judah')]\n",
      "[('ancientcivilizationsName', 'Ancient Greece')]\n",
      "[('ancientcivilizationsName', 'Thrace')]\n",
      "[('ancientcivilizationsName', 'Israelite period')]\n",
      "[('ancientcivilizationsName', 'Ancient Carthage')]\n",
      "[('ancientcivilizationsName', 'Maya civilization')]\n",
      "23\n"
     ]
    }
   ],
   "source": [
    "#Q3621491 archaeologist\n",
    "#P101 field of work\n",
    "queryString = \"\"\"\n",
    "SELECT ?ancientcivilizationsName\n",
    "WHERE {\n",
    "    ?archaeologist ?p wd:Q3621491 ; #archaeologist \n",
    "         sc:name ?archaeologistName .\n",
    "    ?archaeologist wdt:P101 ?ancientcivilizations . #archaeologist name\n",
    "    ?ancientcivilizations wdt:P31 wd:Q28171280 ; #instance of ancient civilization\n",
    "        sc:name ?ancientcivilizationsName .\n",
    "}\n",
    "LIMIT 50\n",
    "\"\"\"\n",
    "\n",
    "print(\"Results\")\n",
    "x=run_query(queryString)"
   ]
  },
  {
   "cell_type": "code",
   "execution_count": 92,
   "id": "809950f5-8b28-4071-aac3-a549f37a0762",
   "metadata": {},
   "outputs": [
    {
     "name": "stdout",
     "output_type": "stream",
     "text": [
      "Results\n",
      "[('p1Name', 'occupation'), ('p2Name', 'field of work'), ('ancientcivilizationsName', 'Gaul')]\n",
      "[('p1Name', 'occupation'), ('p2Name', 'field of work'), ('ancientcivilizationsName', 'Ancient Greece')]\n",
      "[('p1Name', 'occupation'), ('p2Name', 'field of work'), ('ancientcivilizationsName', 'Ancient Carthage')]\n",
      "[('p1Name', 'occupation'), ('p2Name', 'field of work'), ('ancientcivilizationsName', 'Mesopotamia')]\n",
      "[('p1Name', 'occupation'), ('p2Name', 'field of work'), ('ancientcivilizationsName', 'Israelite period')]\n",
      "[('p1Name', 'occupation'), ('p2Name', 'field of work'), ('ancientcivilizationsName', 'history of ancient Israel and Judah')]\n",
      "[('p1Name', 'occupation'), ('p2Name', 'field of work'), ('ancientcivilizationsName', 'Thrace')]\n",
      "[('p1Name', 'occupation'), ('p2Name', 'field of work'), ('ancientcivilizationsName', 'Maya civilization')]\n",
      "8\n"
     ]
    }
   ],
   "source": [
    "#Q3621491 archaeologist\n",
    "#P106 occupation\n",
    "#P31 instance of #Q28171280 ancient civilization\n",
    "queryString = \"\"\"\n",
    "SELECT DISTINCT ?p1Name ?p2Name ?ancientcivilizationsName\n",
    "WHERE {\n",
    "    ?archaeologist ?p1 wd:Q3621491 ; #archaeologist \n",
    "         sc:name ?archaeologistName .\n",
    "    ?archaeologist ?p2 ?ancientcivilizations . #archaeologist name\n",
    "    ?ancientcivilizations wdt:P31 wd:Q28171280 ; #instance of ancient civilization\n",
    "        sc:name ?ancientcivilizationsName .\n",
    "    ?p1 sc:name ?p1Name .\n",
    "    ?p2 sc:name ?p2Name .\n",
    "\n",
    "}\n",
    "LIMIT 50\n",
    "\"\"\"\n",
    "\n",
    "print(\"Results\")\n",
    "x=run_query(queryString)"
   ]
  },
  {
   "cell_type": "markdown",
   "id": "cd31ae3e",
   "metadata": {},
   "source": [
    "Final query for this task"
   ]
  },
  {
   "cell_type": "code",
   "execution_count": 101,
   "id": "e33ceec9",
   "metadata": {},
   "outputs": [
    {
     "name": "stdout",
     "output_type": "stream",
     "text": [
      "Results\n",
      "[('ancientcivilizations', 'http://www.wikidata.org/entity/Q11772'), ('ancientcivilizationsName', 'Ancient Greece'), ('numarchaeologist', '7')]\n",
      "[('ancientcivilizations', 'http://www.wikidata.org/entity/Q2429397'), ('ancientcivilizationsName', 'Ancient Carthage'), ('numarchaeologist', '7')]\n",
      "[('ancientcivilizations', 'http://www.wikidata.org/entity/Q38060'), ('ancientcivilizationsName', 'Gaul'), ('numarchaeologist', '3')]\n",
      "[('ancientcivilizations', 'http://www.wikidata.org/entity/Q1551054'), ('ancientcivilizationsName', 'Israelite period'), ('numarchaeologist', '2')]\n",
      "[('ancientcivilizations', 'http://www.wikidata.org/entity/Q11767'), ('ancientcivilizationsName', 'Mesopotamia'), ('numarchaeologist', '1')]\n",
      "[('ancientcivilizations', 'http://www.wikidata.org/entity/Q193748'), ('ancientcivilizationsName', 'history of ancient Israel and Judah'), ('numarchaeologist', '1')]\n",
      "[('ancientcivilizations', 'http://www.wikidata.org/entity/Q41741'), ('ancientcivilizationsName', 'Thrace'), ('numarchaeologist', '1')]\n",
      "[('ancientcivilizations', 'http://www.wikidata.org/entity/Q28567'), ('ancientcivilizationsName', 'Maya civilization'), ('numarchaeologist', '1')]\n",
      "[('ancientcivilizations', 'http://www.wikidata.org/entity/Q173082'), ('ancientcivilizationsName', 'Dacia'), ('numarchaeologist', '0')]\n",
      "[('ancientcivilizations', 'http://www.wikidata.org/entity/Q1364601'), ('ancientcivilizationsName', 'Gallo-Roman culture'), ('numarchaeologist', '0')]\n",
      "[('ancientcivilizations', 'http://www.wikidata.org/entity/Q768212'), ('ancientcivilizationsName', 'Turco-Mongol'), ('numarchaeologist', '0')]\n",
      "[('ancientcivilizations', 'http://www.wikidata.org/entity/Q28405'), ('ancientcivilizationsName', 'Gojoseon'), ('numarchaeologist', '0')]\n",
      "[('ancientcivilizations', 'http://www.wikidata.org/entity/Q185068'), ('ancientcivilizationsName', 'Urartu'), ('numarchaeologist', '0')]\n",
      "[('ancientcivilizations', 'http://www.wikidata.org/entity/Q8735'), ('ancientcivilizationsName', 'Medes'), ('numarchaeologist', '0')]\n",
      "[('ancientcivilizations', 'http://www.wikidata.org/entity/Q99304188'), ('ancientcivilizationsName', 'Thracian'), ('numarchaeologist', '0')]\n",
      "[('ancientcivilizations', 'http://www.wikidata.org/entity/Q11768'), ('ancientcivilizationsName', 'Ancient Egypt'), ('numarchaeologist', '0')]\n",
      "[('ancientcivilizations', 'http://www.wikidata.org/entity/Q35355'), ('ancientcivilizationsName', 'Sumer'), ('numarchaeologist', '0')]\n",
      "[('ancientcivilizations', 'http://www.wikidata.org/entity/Q128904'), ('ancientcivilizationsName', 'Elam'), ('numarchaeologist', '0')]\n",
      "[('ancientcivilizations', 'http://www.wikidata.org/entity/Q42534'), ('ancientcivilizationsName', 'Indus Valley Civilization'), ('numarchaeologist', '0')]\n",
      "[('ancientcivilizations', 'http://www.wikidata.org/entity/Q244762'), ('ancientcivilizationsName', 'Mari'), ('numarchaeologist', '0')]\n",
      "[('ancientcivilizations', 'http://www.wikidata.org/entity/Q25558247'), ('ancientcivilizationsName', 'Chinese civilization'), ('numarchaeologist', '0')]\n",
      "[('ancientcivilizations', 'http://www.wikidata.org/entity/Q134178'), ('ancientcivilizationsName', 'Minoan civilization'), ('numarchaeologist', '0')]\n",
      "[('ancientcivilizations', 'http://www.wikidata.org/entity/Q3327860'), ('ancientcivilizationsName', 'Celtic kingdom of Ireland'), ('numarchaeologist', '0')]\n",
      "[('ancientcivilizations', 'http://www.wikidata.org/entity/Q32047'), ('ancientcivilizationsName', 'Illyria'), ('numarchaeologist', '0')]\n",
      "[('ancientcivilizations', 'http://www.wikidata.org/entity/Q4752820'), ('ancientcivilizationsName', 'Ancient Crete'), ('numarchaeologist', '0')]\n",
      "25\n"
     ]
    }
   ],
   "source": [
    "# write your final query\n",
    "#For each ancient civilization find the number of archeologists who worked on it\n",
    "#Q3621491 archaeologist\n",
    "#P106 occupation\n",
    "#P31 instance of #Q28171280 ancient civilization\n",
    "queryString = \"\"\"\n",
    "SELECT ?ancientcivilizations ?ancientcivilizationsName  (COUNT(?archaeologistName) AS ?numarchaeologist)\n",
    "WHERE {\n",
    "\n",
    "    ?ancientcivilizations wdt:P31 wd:Q28171280 ; #instance of ancient civilization\n",
    "        sc:name ?ancientcivilizationsName .\n",
    "    OPTIONAL\n",
    "    {\n",
    "    ?archaeologist wdt:P106 wd:Q3621491 ;\n",
    "         sc:name ?archaeologistName . #archaeologist name\n",
    "    ?archaeologist wdt:P101 ?ancientcivilizations . #archaeologist works on ancient civilization\n",
    "    }\n",
    "\n",
    "}\n",
    "GROUP BY ?ancientcivilizations ?ancientcivilizationsName \n",
    "ORDER BY DESC (?numarchaeologist)\n",
    "LIMIT 50\n",
    "\"\"\"\n",
    "\n",
    "print(\"Results\")\n",
    "x=run_query(queryString)"
   ]
  },
  {
   "cell_type": "markdown",
   "id": "f781939c",
   "metadata": {},
   "source": [
    "## Task 6\n",
    "Find the BGP for deity."
   ]
  },
  {
   "cell_type": "code",
   "execution_count": 103,
   "id": "a7e524ab",
   "metadata": {},
   "outputs": [
    {
     "name": "stdout",
     "output_type": "stream",
     "text": [
      "Results\n",
      "[('p', 'http://www.wikidata.org/prop/direct/P31'), ('pName', 'instance of'), ('o', 'http://www.wikidata.org/entity/Q1916821'), ('oName', 'water deity')]\n",
      "[('p', 'http://www.wikidata.org/prop/direct/P31'), ('pName', 'instance of'), ('o', 'http://www.wikidata.org/entity/Q22989102'), ('oName', 'Greek deity')]\n",
      "[('p', 'http://www.wikidata.org/prop/direct/P2925'), ('pName', 'domain of saint or deity'), ('o', 'http://www.wikidata.org/entity/Q165'), ('oName', 'sea')]\n",
      "[('p', 'http://www.wikidata.org/prop/direct/P2925'), ('pName', 'domain of saint or deity'), ('o', 'http://www.wikidata.org/entity/Q7944'), ('oName', 'earthquake')]\n",
      "[('p', 'http://www.wikidata.org/prop/direct/P2925'), ('pName', 'domain of saint or deity'), ('o', 'http://www.wikidata.org/entity/Q1265288'), ('oName', 'horse breeding')]\n",
      "5\n"
     ]
    }
   ],
   "source": [
    "# write your queries\n",
    "# wd:Q41127 Poseidon\n",
    "queryString = \"\"\"\n",
    "SELECT ?p ?pName ?o ?oName\n",
    "WHERE {\n",
    "    wd:Q41127 ?p ?o .\n",
    "    ?p sc:name ?pName .\n",
    "     ?o sc:name ?oName .\n",
    "     \n",
    "     FILTER (REGEX(?pName , \"[Dd]eity*\") || REGEX(?oName, \"[Dd]eity*\"))\n",
    "}\n",
    "LIMIT 50\n",
    "\"\"\"\n",
    "\n",
    "print(\"Results\")\n",
    "x=run_query(queryString)"
   ]
  },
  {
   "cell_type": "code",
   "execution_count": 104,
   "id": "6bf69795-d3d2-4086-a78d-469499f4df9d",
   "metadata": {},
   "outputs": [
    {
     "name": "stdout",
     "output_type": "stream",
     "text": [
      "Results\n",
      "[('p', 'http://www.wikidata.org/prop/direct/P279'), ('pName', 'subclass of'), ('o', 'http://www.wikidata.org/entity/Q13405593'), ('oName', 'nature deity')]\n",
      "[('p', 'http://www.wikidata.org/prop/direct/P2925'), ('pName', 'domain of saint or deity'), ('o', 'http://www.wikidata.org/entity/Q283'), ('oName', 'water')]\n",
      "[('p', 'http://www.wikidata.org/prop/direct/P279'), ('pName', 'subclass of'), ('o', 'http://www.wikidata.org/entity/Q1936706'), ('oName', 'water sprite')]\n",
      "[('p', 'http://www.wikidata.org/prop/direct/P910'), ('pName', \"topic's main category\"), ('o', 'http://www.wikidata.org/entity/Q8163944'), ('oName', 'Category:Water deities')]\n",
      "4\n"
     ]
    }
   ],
   "source": [
    "#Q1916821 water deity\n",
    "queryString = \"\"\"\n",
    "SELECT ?p ?pName ?o ?oName\n",
    "WHERE {\n",
    "    wd:Q1916821 ?p ?o .\n",
    "    ?p sc:name ?pName .\n",
    "     ?o sc:name ?oName .\n",
    "     \n",
    "}\n",
    "LIMIT 50\n",
    "\"\"\"\n",
    "\n",
    "print(\"Results\")\n",
    "x=run_query(queryString)"
   ]
  },
  {
   "cell_type": "code",
   "execution_count": 105,
   "id": "531a4370-b098-4fc0-a5a9-d9905aa4192f",
   "metadata": {},
   "outputs": [
    {
     "name": "stdout",
     "output_type": "stream",
     "text": [
      "Results\n",
      "[('s', 'http://www.wikidata.org/entity/Q2736992'), ('sName', 'Sumayyah bint Khayyat'), ('o', 'http://www.wikidata.org/entity/Q643638'), ('oName', 'Shahid')]\n",
      "[('s', 'http://www.wikidata.org/entity/Q3074497'), ('sName', 'Fluonia'), ('o', 'http://www.wikidata.org/entity/Q12171'), ('oName', 'menstruation')]\n",
      "[('s', 'http://www.wikidata.org/entity/Q444050'), ('sName', 'Bartolomea Capitanio'), ('o', 'http://www.wikidata.org/entity/Q2366933'), ('oName', 'Sisters of Charity of Saints Bartolomea Capitanio and Vincenza Gerosa (SCCG)')]\n",
      "[('s', 'http://www.wikidata.org/entity/Q5791704'), ('sName', 'Christ of the Good Death'), ('o', 'http://www.wikidata.org/entity/Q93470005'), ('oName', 'spanish legionary')]\n",
      "[('s', 'http://www.wikidata.org/entity/Q444050'), ('sName', 'Bartolomea Capitanio'), ('o', 'http://www.wikidata.org/entity/Q101202'), ('oName', 'Lovere')]\n",
      "[('s', 'http://www.wikidata.org/entity/Q452435'), ('sName', 'Bona of Pisa'), ('o', 'http://www.wikidata.org/entity/Q101539'), ('oName', 'flight attendant')]\n",
      "[('s', 'http://www.wikidata.org/entity/Q455195'), ('sName', 'Blandina'), ('o', 'http://www.wikidata.org/entity/Q107013'), ('oName', 'Christian martyr')]\n",
      "[('s', 'http://www.wikidata.org/entity/Q272987'), ('sName', 'Saint Susanna'), ('o', 'http://www.wikidata.org/entity/Q107013'), ('oName', 'Christian martyr')]\n",
      "[('s', 'http://www.wikidata.org/entity/Q1714244'), ('sName', 'Justin the Confessor'), ('o', 'http://www.wikidata.org/entity/Q107013'), ('oName', 'Christian martyr')]\n",
      "[('s', 'http://www.wikidata.org/entity/Q3173602'), ('sName', 'Jean Morel'), ('o', 'http://www.wikidata.org/entity/Q107013'), ('oName', 'Christian martyr')]\n",
      "[('s', 'http://www.wikidata.org/entity/Q11780832'), ('sName', 'Nicolás María Alberca y Torres'), ('o', 'http://www.wikidata.org/entity/Q107013'), ('oName', 'Christian martyr')]\n",
      "[('s', 'http://www.wikidata.org/entity/Q3190300'), ('sName', 'Just de Bretenières'), ('o', 'http://www.wikidata.org/entity/Q107013'), ('oName', 'Christian martyr')]\n",
      "[('s', 'http://www.wikidata.org/entity/Q16629566'), ('sName', \"Dode d'Astarac\"), ('o', 'http://www.wikidata.org/entity/Q107013'), ('oName', 'Christian martyr')]\n",
      "[('s', 'http://www.wikidata.org/entity/Q106139111'), ('sName', 'Alcibiade'), ('o', 'http://www.wikidata.org/entity/Q107013'), ('oName', 'Christian martyr')]\n",
      "[('s', 'http://www.wikidata.org/entity/Q11739626'), ('sName', 'Clara Ezcurra Urrutia'), ('o', 'http://www.wikidata.org/entity/Q107013'), ('oName', 'Christian martyr')]\n",
      "[('s', 'http://www.wikidata.org/entity/Q452435'), ('sName', 'Bona of Pisa'), ('o', 'http://www.wikidata.org/entity/Q542704'), ('oName', 'pilgrim')]\n",
      "[('s', 'http://www.wikidata.org/entity/Q452435'), ('sName', 'Bona of Pisa'), ('o', 'http://www.wikidata.org/entity/Q848466'), ('oName', 'courier')]\n",
      "[('s', 'http://www.wikidata.org/entity/Q1365927'), ('sName', 'Oizys'), ('o', 'http://www.wikidata.org/entity/Q2809148'), ('oName', 'sorrow')]\n",
      "[('s', 'http://www.wikidata.org/entity/Q44384'), ('sName', 'Hephaestus'), ('o', 'http://www.wikidata.org/entity/Q3196'), ('oName', 'fire')]\n",
      "[('s', 'http://www.wikidata.org/entity/Q41419'), ('sName', 'Hestia'), ('o', 'http://www.wikidata.org/entity/Q3196'), ('oName', 'fire')]\n",
      "[('s', 'http://www.wikidata.org/entity/Q79335000'), ('sName', 'fire deity'), ('o', 'http://www.wikidata.org/entity/Q3196'), ('oName', 'fire')]\n",
      "[('s', 'http://www.wikidata.org/entity/Q1133063'), ('sName', 'Pele'), ('o', 'http://www.wikidata.org/entity/Q3196'), ('oName', 'fire')]\n",
      "[('s', 'http://www.wikidata.org/entity/Q198249'), ('sName', 'Zhurong'), ('o', 'http://www.wikidata.org/entity/Q3196'), ('oName', 'fire')]\n",
      "[('s', 'http://www.wikidata.org/entity/Q1365927'), ('sName', 'Oizys'), ('o', 'http://www.wikidata.org/entity/Q154430'), ('oName', 'anxiety')]\n",
      "[('s', 'http://www.wikidata.org/entity/Q596131'), ('sName', 'Ezequiel Moreno'), ('o', 'http://www.wikidata.org/entity/Q181600'), ('oName', 'patient')]\n",
      "[('s', 'http://www.wikidata.org/entity/Q2617668'), ('sName', 'Saint Cunera'), ('o', 'http://www.wikidata.org/entity/Q9190427'), ('oName', 'animal disease')]\n",
      "[('s', 'http://www.wikidata.org/entity/Q107344119'), ('sName', 'Prosclystius'), ('o', 'http://www.wikidata.org/entity/Q8070'), ('oName', 'tsunami')]\n",
      "[('s', 'http://www.wikidata.org/entity/Q170164'), ('sName', 'Helena Augusta'), ('o', 'http://www.wikidata.org/entity/Q904756'), ('oName', 'religious conversion')]\n",
      "[('s', 'http://www.wikidata.org/entity/Q107264083'), ('sName', 'Horcius'), ('o', 'http://www.wikidata.org/entity/Q381045'), ('oName', 'oath')]\n",
      "[('s', 'http://www.wikidata.org/entity/Q43982'), ('sName', 'Bartholomew the Apostle'), ('o', 'http://www.wikidata.org/entity/Q742057'), ('oName', 'Roman Catholic Diocese of Patti')]\n",
      "[('s', 'http://www.wikidata.org/entity/Q911084'), ('sName', 'Alpheus'), ('o', 'http://www.wikidata.org/entity/Q941745'), ('oName', 'Alfeios')]\n",
      "[('s', 'http://www.wikidata.org/entity/Q2617668'), ('sName', 'Saint Cunera'), ('o', 'http://www.wikidata.org/entity/Q33475264'), ('oName', 'Rhenen')]\n",
      "[('s', 'http://www.wikidata.org/entity/Q106800538'), ('sName', 'Ececheiria'), ('o', 'http://www.wikidata.org/entity/Q208383'), ('oName', 'ceasefire')]\n",
      "[('s', 'http://www.wikidata.org/entity/Q3463121'), ('sName', 'Epicurius'), ('o', 'http://www.wikidata.org/entity/Q178197'), ('oName', 'mercenary')]\n",
      "[('s', 'http://www.wikidata.org/entity/Q43999'), ('sName', 'St. James the Elder, Apostle'), ('o', 'http://www.wikidata.org/entity/Q202883'), ('oName', 'veterinarian')]\n",
      "[('s', 'http://www.wikidata.org/entity/Q21532387'), ('sName', 'Our Lady of Lourdes'), ('o', 'http://www.wikidata.org/entity/Q20927'), ('oName', 'Daegu')]\n",
      "[('s', 'http://www.wikidata.org/entity/Q93870581'), ('sName', 'Saint Cristanziano'), ('o', 'http://www.wikidata.org/entity/Q221126'), ('oName', 'Agnone')]\n",
      "[('s', 'http://www.wikidata.org/entity/Q452435'), ('sName', 'Bona of Pisa'), ('o', 'http://www.wikidata.org/entity/Q22813352'), ('oName', 'traveler')]\n",
      "[('s', 'http://www.wikidata.org/entity/Q41484'), ('sName', 'Hermes'), ('o', 'http://www.wikidata.org/entity/Q22813352'), ('oName', 'traveler')]\n",
      "[('s', 'http://www.wikidata.org/entity/Q43982'), ('sName', 'Bartholomew the Apostle'), ('o', 'http://www.wikidata.org/entity/Q241758'), ('oName', 'Arsoli')]\n",
      "[('s', 'http://www.wikidata.org/entity/Q191107'), ('sName', 'Clare of Assisi'), ('o', 'http://www.wikidata.org/entity/Q289'), ('oName', 'television')]\n",
      "[('s', 'http://www.wikidata.org/entity/Q41484'), ('sName', 'Hermes'), ('o', 'http://www.wikidata.org/entity/Q3562775'), ('oName', 'thief')]\n",
      "[('s', 'http://www.wikidata.org/entity/Q25412594'), ('sName', 'Aletes'), ('o', 'http://www.wikidata.org/entity/Q44497'), ('oName', 'mining')]\n",
      "[('s', 'http://www.wikidata.org/entity/Q43982'), ('sName', 'Bartholomew the Apostle'), ('o', 'http://www.wikidata.org/entity/Q51351'), ('oName', 'Carpineto della Nora')]\n",
      "[('s', 'http://www.wikidata.org/entity/Q3887342'), ('sName', 'Ottone Frangipane'), ('o', 'http://www.wikidata.org/entity/Q55000'), ('oName', 'Ariano Irpino')]\n",
      "[('s', 'http://www.wikidata.org/entity/Q1074596'), ('sName', 'Our Lady of La Salette'), ('o', 'http://www.wikidata.org/entity/Q63110'), ('oName', 'Silang')]\n",
      "[('s', 'http://www.wikidata.org/entity/Q21532387'), ('sName', 'Our Lady of Lourdes'), ('o', 'http://www.wikidata.org/entity/Q63154'), ('oName', 'Tagaytay')]\n",
      "[('s', 'http://www.wikidata.org/entity/Q131575'), ('sName', 'Hecate'), ('o', 'http://www.wikidata.org/entity/Q81741'), ('oName', 'magic')]\n",
      "[('s', 'http://www.wikidata.org/entity/Q1101132'), ('sName', 'Atago Gongen'), ('o', 'http://www.wikidata.org/entity/Q8473'), ('oName', 'military')]\n",
      "[('s', 'http://www.wikidata.org/entity/Q10564482'), ('sName', 'Five Sisters of Long Life'), ('o', 'http://www.wikidata.org/entity/Q103459'), ('oName', 'livestock')]\n",
      "50\n"
     ]
    }
   ],
   "source": [
    "#P2925 domain of saint or deity\n",
    "queryString = \"\"\"\n",
    "SELECT ?s ?sName ?o ?oName\n",
    "WHERE {\n",
    "    ?s wdt:P2925 ?o .\n",
    "    ?s sc:name ?sName .\n",
    "     ?o sc:name ?oName .\n",
    "     \n",
    "}\n",
    "LIMIT 50\n",
    "\"\"\"\n",
    "\n",
    "print(\"Results\")\n",
    "x=run_query(queryString)"
   ]
  },
  {
   "cell_type": "code",
   "execution_count": 106,
   "id": "01c82489-6fad-4f8b-8a75-adeebc8dbb89",
   "metadata": {},
   "outputs": [
    {
     "name": "stdout",
     "output_type": "stream",
     "text": [
      "Results\n",
      "[('p', 'http://www.wikidata.org/prop/direct/P527'), ('pName', 'has part'), ('o', 'http://www.wikidata.org/entity/Q1916821'), ('oName', 'water deity')]\n",
      "[('p', 'http://www.wikidata.org/prop/direct/P279'), ('pName', 'subclass of'), ('o', 'http://www.wikidata.org/entity/Q20828805'), ('oName', 'sprite')]\n",
      "[('p', 'http://www.wikidata.org/prop/direct/P279'), ('pName', 'subclass of'), ('o', 'http://www.wikidata.org/entity/Q178885'), ('oName', 'deity')]\n",
      "[('p', 'http://www.wikidata.org/prop/direct/P460'), ('pName', 'said to be the same as'), ('o', 'http://www.wikidata.org/entity/Q739737'), ('oName', 'Cernunnos')]\n",
      "[('p', 'http://www.wikidata.org/prop/direct/P2354'), ('pName', 'has list'), ('o', 'http://www.wikidata.org/entity/Q6630292'), ('oName', 'list of nature deities')]\n",
      "[('p', 'http://www.wikidata.org/prop/direct/P910'), ('pName', \"topic's main category\"), ('o', 'http://www.wikidata.org/entity/Q7721989'), ('oName', 'Category:Nature deities')]\n",
      "[('p', 'http://www.wikidata.org/prop/direct/P460'), ('pName', 'said to be the same as'), ('o', 'http://www.wikidata.org/entity/Q1786347'), ('oName', 'elemental')]\n",
      "[('p', 'http://www.wikidata.org/prop/direct/P527'), ('pName', 'has part'), ('o', 'http://www.wikidata.org/entity/Q79335000'), ('oName', 'fire deity')]\n",
      "8\n"
     ]
    }
   ],
   "source": [
    "# Q13405593 nature deity\n",
    "queryString = \"\"\"\n",
    "SELECT ?p ?pName ?o ?oName\n",
    "WHERE {\n",
    "    wd:Q13405593 ?p ?o .\n",
    "    ?p sc:name ?pName .\n",
    "     ?o sc:name ?oName .\n",
    "     \n",
    "}\n",
    "LIMIT 50\n",
    "\"\"\"\n",
    "\n",
    "print(\"Results\")\n",
    "x=run_query(queryString)"
   ]
  },
  {
   "cell_type": "markdown",
   "id": "3a041ad9",
   "metadata": {},
   "source": [
    "Final query for this task"
   ]
  },
  {
   "cell_type": "code",
   "execution_count": 108,
   "id": "5f6039bc",
   "metadata": {},
   "outputs": [
    {
     "name": "stdout",
     "output_type": "stream",
     "text": [
      "Results\n",
      "[('deity', 'http://www.wikidata.org/entity/Q178885'), ('deityName', 'deity')]\n",
      "1\n"
     ]
    }
   ],
   "source": [
    "# write your final query\n",
    "# Q13405593 nature deity\n",
    "#P279 subclass of\n",
    "queryString = \"\"\"\n",
    "SELECT ?deity ?deityName\n",
    "WHERE {\n",
    "    wd:Q13405593 wdt:P279 ?deity .\n",
    "     ?deity sc:name ?deityName .\n",
    "     FILTER REGEX(?deityName , 'deity')\n",
    "}\n",
    "LIMIT 50\n",
    "\"\"\"\n",
    "\n",
    "print(\"Results\")\n",
    "x=run_query(queryString)"
   ]
  },
  {
   "cell_type": "markdown",
   "id": "31689254",
   "metadata": {},
   "source": [
    "## Task 7\n",
    "List all the twelve olympian greek deities (the result set must a list of 12 elements of couples of deity IRI and label)."
   ]
  },
  {
   "cell_type": "code",
   "execution_count": 109,
   "id": "f6bd9df5",
   "metadata": {},
   "outputs": [
    {
     "name": "stdout",
     "output_type": "stream",
     "text": [
      "Results\n",
      "[('p', 'http://www.wikidata.org/prop/direct/P279'), ('pName', 'subclass of'), ('s', 'http://www.wikidata.org/entity/Q95074'), ('sName', 'fictional character')]\n",
      "[('p', 'http://www.wikidata.org/prop/direct/P2596'), ('pName', 'culture'), ('s', 'http://www.wikidata.org/entity/Q11772'), ('sName', 'Ancient Greece')]\n",
      "[('p', 'http://www.wikidata.org/prop/direct/P279'), ('pName', 'subclass of'), ('s', 'http://www.wikidata.org/entity/Q22988604'), ('sName', 'mythological Greek character')]\n",
      "[('p', 'http://www.wikidata.org/prop/direct/P279'), ('pName', 'subclass of'), ('s', 'http://www.wikidata.org/entity/Q178885'), ('sName', 'deity')]\n",
      "[('p', 'http://www.wikidata.org/prop/direct/P361'), ('pName', 'part of'), ('s', 'http://www.wikidata.org/entity/Q34726'), ('sName', 'Greek mythology')]\n",
      "[('p', 'http://www.wikidata.org/prop/direct/P361'), ('pName', 'part of'), ('s', 'http://www.wikidata.org/entity/Q855270'), ('sName', 'religion in ancient Greece')]\n",
      "[('p', 'http://www.wikidata.org/prop/direct/P910'), ('pName', \"topic's main category\"), ('s', 'http://www.wikidata.org/entity/Q5825693'), ('sName', 'Category:Greek deities')]\n",
      "7\n"
     ]
    }
   ],
   "source": [
    "# write your queries\n",
    "# Q22989102 Greek deity\n",
    "queryString = \"\"\"\n",
    "SELECT ?p ?pName ?s ?sName \n",
    "WHERE {\n",
    "    wd:Q22989102 ?p ?s .\n",
    "     ?p sc:name ?pName .\n",
    "     ?s sc:name ?sName .\n",
    "}\n",
    "LIMIT 50\n",
    "\"\"\"\n",
    "\n",
    "print(\"Results\")\n",
    "x=run_query(queryString)"
   ]
  },
  {
   "cell_type": "code",
   "execution_count": 112,
   "id": "2f4d8c11-4fde-46bb-92f4-ba3d16ff57f5",
   "metadata": {},
   "outputs": [
    {
     "name": "stdout",
     "output_type": "stream",
     "text": [
      "Results\n",
      "[('p', 'http://www.wikidata.org/prop/direct/P1343'), ('pName', 'described by source'), ('o', 'http://www.wikidata.org/entity/Q106727050'), ('oName', 'Metropolitan Museum of Art Tagging Vocabulary')]\n",
      "[('p', 'http://www.wikidata.org/prop/direct/P1343'), ('pName', 'described by source'), ('o', 'http://www.wikidata.org/entity/Q1138524'), ('oName', 'Paulys Realenzyklopädie der klassischen Altertumswissenschaft')]\n",
      "[('p', 'http://www.wikidata.org/prop/direct/P1343'), ('pName', 'described by source'), ('o', 'http://www.wikidata.org/entity/Q19180675'), ('oName', 'Small Brockhaus and Efron Encyclopedic Dictionary')]\n",
      "[('p', 'http://www.wikidata.org/prop/direct/P1343'), ('pName', 'described by source'), ('o', 'http://www.wikidata.org/entity/Q602358'), ('oName', 'Brockhaus and Efron Encyclopedic Dictionary')]\n",
      "[('p', 'http://www.wikidata.org/prop/direct/P361'), ('pName', 'part of'), ('o', 'http://www.wikidata.org/entity/Q1367434'), ('oName', 'classical mythology')]\n",
      "[('p', 'http://www.wikidata.org/prop/direct/P527'), ('pName', 'has part'), ('o', 'http://www.wikidata.org/entity/Q1521549'), ('oName', 'Greek underworld')]\n",
      "[('p', 'http://www.wikidata.org/prop/direct/P527'), ('pName', 'has part'), ('o', 'http://www.wikidata.org/entity/Q22989102'), ('oName', 'Greek deity')]\n",
      "[('p', 'http://www.wikidata.org/prop/direct/P910'), ('pName', \"topic's main category\"), ('o', 'http://www.wikidata.org/entity/Q7214271'), ('oName', 'Category:Greek mythology')]\n",
      "[('p', 'http://www.wikidata.org/prop/direct/P7867'), ('pName', 'category for maps'), ('o', 'http://www.wikidata.org/entity/Q84046885'), ('oName', 'Category:Maps of Greek mythology')]\n",
      "[('p', 'http://www.wikidata.org/prop/direct/P31'), ('pName', 'instance of'), ('o', 'http://www.wikidata.org/entity/Q9134'), ('oName', 'mythology')]\n",
      "10\n"
     ]
    }
   ],
   "source": [
    "# Q34726 Greek mythology\n",
    "queryString = \"\"\"\n",
    "SELECT ?p ?pName ?o ?oName \n",
    "WHERE {\n",
    "    wd:Q34726 ?p ?o .\n",
    "     ?p sc:name ?pName .\n",
    "     ?o sc:name ?oName .\n",
    "}\n",
    "LIMIT 50\n",
    "\"\"\"\n",
    "\n",
    "print(\"Results\")\n",
    "x=run_query(queryString)"
   ]
  },
  {
   "cell_type": "code",
   "execution_count": 111,
   "id": "c6a19c78-6835-4659-b89b-03d9136f2d84",
   "metadata": {},
   "outputs": [
    {
     "name": "stdout",
     "output_type": "stream",
     "text": [
      "Results\n",
      "[('p', 'http://www.wikidata.org/prop/direct/P279'), ('pName', 'subclass of'), ('s', 'http://www.wikidata.org/entity/Q95074'), ('sName', 'fictional character')]\n",
      "[('p', 'http://www.wikidata.org/prop/direct/P361'), ('pName', 'part of'), ('s', 'http://www.wikidata.org/entity/Q34726'), ('sName', 'Greek mythology')]\n",
      "[('p', 'http://www.wikidata.org/prop/direct/P279'), ('pName', 'subclass of'), ('s', 'http://www.wikidata.org/entity/Q4271324'), ('sName', 'mythical character')]\n",
      "[('p', 'http://www.wikidata.org/prop/direct/P910'), ('pName', \"topic's main category\"), ('s', 'http://www.wikidata.org/entity/Q8500207'), ('sName', 'Category:Characters in Greek mythology')]\n",
      "[('p', 'http://www.wikidata.org/prop/direct/P2354'), ('pName', 'has list'), ('s', 'http://www.wikidata.org/entity/Q20059824'), ('sName', 'list of mythological Greek characters')]\n",
      "5\n"
     ]
    }
   ],
   "source": [
    "# Q22988604 mythological Greek character\n",
    "queryString = \"\"\"\n",
    "SELECT ?p ?pName ?s ?sName \n",
    "WHERE {\n",
    "    wd:Q22988604 ?p ?s .\n",
    "     ?p sc:name ?pName .\n",
    "     ?s sc:name ?sName .\n",
    "}\n",
    "LIMIT 50\n",
    "\"\"\"\n",
    "\n",
    "print(\"Results\")\n",
    "x=run_query(queryString)"
   ]
  },
  {
   "cell_type": "code",
   "execution_count": 117,
   "id": "d8b34246-b924-4222-93e7-eb223f412902",
   "metadata": {},
   "outputs": [
    {
     "name": "stdout",
     "output_type": "stream",
     "text": [
      "Results\n",
      "[('s', 'http://www.wikidata.org/entity/Q5081127'), ('sName', 'Acmon'), ('p', 'http://www.wikidata.org/prop/direct/P31'), ('pName', 'instance of')]\n",
      "[('s', 'http://www.wikidata.org/entity/Q366533'), ('sName', 'Adranus'), ('p', 'http://www.wikidata.org/prop/direct/P31'), ('pName', 'instance of')]\n",
      "[('s', 'http://www.wikidata.org/entity/Q3362052'), ('sName', 'Pandora'), ('p', 'http://www.wikidata.org/prop/direct/P31'), ('pName', 'instance of')]\n",
      "[('s', 'http://www.wikidata.org/entity/Q6612'), ('sName', 'Charon'), ('p', 'http://www.wikidata.org/prop/direct/P31'), ('pName', 'instance of')]\n",
      "[('s', 'http://www.wikidata.org/entity/Q2144233'), ('sName', 'Pheme'), ('p', 'http://www.wikidata.org/prop/direct/P31'), ('pName', 'instance of')]\n",
      "[('s', 'http://www.wikidata.org/entity/Q1120723'), ('sName', 'Pheme'), ('p', 'http://www.wikidata.org/prop/direct/P31'), ('pName', 'instance of')]\n",
      "[('s', 'http://www.wikidata.org/entity/Q1862189'), ('sName', 'Paean'), ('p', 'http://www.wikidata.org/prop/direct/P31'), ('pName', 'instance of')]\n",
      "[('s', 'http://www.wikidata.org/entity/Q1775444'), ('sName', 'Phosphorus'), ('p', 'http://www.wikidata.org/prop/direct/P31'), ('pName', 'instance of')]\n",
      "[('s', 'http://www.wikidata.org/entity/Q178417'), ('sName', 'Eos'), ('p', 'http://www.wikidata.org/prop/direct/P31'), ('pName', 'instance of')]\n",
      "[('s', 'http://www.wikidata.org/entity/Q59697'), ('sName', 'Hesperus'), ('p', 'http://www.wikidata.org/prop/direct/P31'), ('pName', 'instance of')]\n",
      "[('s', 'http://www.wikidata.org/entity/Q1084868'), ('sName', 'Lyssa'), ('p', 'http://www.wikidata.org/prop/direct/P31'), ('pName', 'instance of')]\n",
      "[('s', 'http://www.wikidata.org/entity/Q1134605'), ('sName', 'Telchines'), ('p', 'http://www.wikidata.org/prop/direct/P279'), ('pName', 'subclass of')]\n",
      "[('s', 'http://www.wikidata.org/entity/Q1294659'), ('sName', 'Telesphorus'), ('p', 'http://www.wikidata.org/prop/direct/P31'), ('pName', 'instance of')]\n",
      "[('s', 'http://www.wikidata.org/entity/Q18423351'), ('sName', 'Basileia'), ('p', 'http://www.wikidata.org/prop/direct/P31'), ('pName', 'instance of')]\n",
      "[('s', 'http://www.wikidata.org/entity/Q185670'), ('sName', 'Echidna'), ('p', 'http://www.wikidata.org/prop/direct/P31'), ('pName', 'instance of')]\n",
      "[('s', 'http://www.wikidata.org/entity/Q37340'), ('sName', 'Apollo'), ('p', 'http://www.wikidata.org/prop/direct/P31'), ('pName', 'instance of')]\n",
      "[('s', 'http://www.wikidata.org/entity/Q83223'), ('sName', 'Asclepius'), ('p', 'http://www.wikidata.org/prop/direct/P31'), ('pName', 'instance of')]\n",
      "[('s', 'http://www.wikidata.org/entity/Q850227'), ('sName', 'Panacea'), ('p', 'http://www.wikidata.org/prop/direct/P31'), ('pName', 'instance of')]\n",
      "[('s', 'http://www.wikidata.org/entity/Q1073827'), ('sName', 'Pandia'), ('p', 'http://www.wikidata.org/prop/direct/P31'), ('pName', 'instance of')]\n",
      "[('s', 'http://www.wikidata.org/entity/Q131585'), ('sName', 'Selene'), ('p', 'http://www.wikidata.org/prop/direct/P31'), ('pName', 'instance of')]\n",
      "[('s', 'http://www.wikidata.org/entity/Q134270'), ('sName', 'Helios'), ('p', 'http://www.wikidata.org/prop/direct/P31'), ('pName', 'instance of')]\n",
      "[('s', 'http://www.wikidata.org/entity/Q1977078'), ('sName', 'Nemea'), ('p', 'http://www.wikidata.org/prop/direct/P31'), ('pName', 'instance of')]\n",
      "[('s', 'http://www.wikidata.org/entity/Q37122'), ('sName', 'Athena'), ('p', 'http://www.wikidata.org/prop/direct/P31'), ('pName', 'instance of')]\n",
      "[('s', 'http://www.wikidata.org/entity/Q38012'), ('sName', 'Hera'), ('p', 'http://www.wikidata.org/prop/direct/P31'), ('pName', 'instance of')]\n",
      "[('s', 'http://www.wikidata.org/entity/Q39503'), ('sName', 'Artemis'), ('p', 'http://www.wikidata.org/prop/direct/P31'), ('pName', 'instance of')]\n",
      "[('s', 'http://www.wikidata.org/entity/Q44384'), ('sName', 'Hephaestus'), ('p', 'http://www.wikidata.org/prop/direct/P31'), ('pName', 'instance of')]\n",
      "[('s', 'http://www.wikidata.org/entity/Q10514702'), ('sName', 'Limos'), ('p', 'http://www.wikidata.org/prop/direct/P31'), ('pName', 'instance of')]\n",
      "[('s', 'http://www.wikidata.org/entity/Q140001'), ('sName', 'Eris'), ('p', 'http://www.wikidata.org/prop/direct/P31'), ('pName', 'instance of')]\n",
      "[('s', 'http://www.wikidata.org/entity/Q174190'), ('sName', 'Ponos'), ('p', 'http://www.wikidata.org/prop/direct/P31'), ('pName', 'instance of')]\n",
      "[('s', 'http://www.wikidata.org/entity/Q3320210'), ('sName', 'Algos'), ('p', 'http://www.wikidata.org/prop/direct/P31'), ('pName', 'instance of')]\n",
      "[('s', 'http://www.wikidata.org/entity/Q132582'), ('sName', 'Pan'), ('p', 'http://www.wikidata.org/prop/direct/P31'), ('pName', 'instance of')]\n",
      "[('s', 'http://www.wikidata.org/entity/Q391553'), ('sName', 'agathodaemon'), ('p', 'http://www.wikidata.org/prop/direct/P31'), ('pName', 'instance of')]\n",
      "[('s', 'http://www.wikidata.org/entity/Q392435'), ('sName', 'Aristaeus'), ('p', 'http://www.wikidata.org/prop/direct/P31'), ('pName', 'instance of')]\n",
      "[('s', 'http://www.wikidata.org/entity/Q41484'), ('sName', 'Hermes'), ('p', 'http://www.wikidata.org/prop/direct/P31'), ('pName', 'instance of')]\n",
      "[('s', 'http://www.wikidata.org/entity/Q164846'), ('sName', 'Aion'), ('p', 'http://www.wikidata.org/prop/direct/P31'), ('pName', 'instance of')]\n",
      "[('s', 'http://www.wikidata.org/entity/Q247617'), ('sName', 'Curetes'), ('p', 'http://www.wikidata.org/prop/direct/P279'), ('pName', 'subclass of')]\n",
      "[('s', 'http://www.wikidata.org/entity/Q28919351'), ('sName', 'Gods'), ('p', 'http://www.wikidata.org/prop/direct/P2670'), ('pName', 'has parts of the class')]\n",
      "[('s', 'http://www.wikidata.org/entity/Q3346693'), ('sName', 'Greek nymph'), ('p', 'http://www.wikidata.org/prop/direct/P279'), ('pName', 'subclass of')]\n",
      "[('s', 'http://www.wikidata.org/entity/Q617977'), ('sName', 'Apate'), ('p', 'http://www.wikidata.org/prop/direct/P31'), ('pName', 'instance of')]\n",
      "[('s', 'http://www.wikidata.org/entity/Q3178796'), ('sName', 'Melinoe'), ('p', 'http://www.wikidata.org/prop/direct/P31'), ('pName', 'instance of')]\n",
      "[('s', 'http://www.wikidata.org/entity/Q3274055'), ('sName', 'Macaria'), ('p', 'http://www.wikidata.org/prop/direct/P31'), ('pName', 'instance of')]\n",
      "[('s', 'http://www.wikidata.org/entity/Q2046854'), ('sName', 'Palaemon'), ('p', 'http://www.wikidata.org/prop/direct/P31'), ('pName', 'instance of')]\n",
      "[('s', 'http://www.wikidata.org/entity/Q4862163'), ('sName', 'Penthus'), ('p', 'http://www.wikidata.org/prop/direct/P31'), ('pName', 'instance of')]\n",
      "[('s', 'http://www.wikidata.org/entity/Q625051'), ('sName', 'Krotos'), ('p', 'http://www.wikidata.org/prop/direct/P31'), ('pName', 'instance of')]\n",
      "[('s', 'http://www.wikidata.org/entity/Q742680'), ('sName', 'Astraea'), ('p', 'http://www.wikidata.org/prop/direct/P31'), ('pName', 'instance of')]\n",
      "[('s', 'http://www.wikidata.org/entity/Q1128685'), ('sName', 'Philomelus'), ('p', 'http://www.wikidata.org/prop/direct/P31'), ('pName', 'instance of')]\n",
      "[('s', 'http://www.wikidata.org/entity/Q180222'), ('sName', 'Amphitrite'), ('p', 'http://www.wikidata.org/prop/direct/P31'), ('pName', 'instance of')]\n",
      "[('s', 'http://www.wikidata.org/entity/Q201261'), ('sName', 'Orion'), ('p', 'http://www.wikidata.org/prop/direct/P31'), ('pName', 'instance of')]\n",
      "[('s', 'http://www.wikidata.org/entity/Q202257'), ('sName', 'Hygieia'), ('p', 'http://www.wikidata.org/prop/direct/P31'), ('pName', 'instance of')]\n",
      "[('s', 'http://www.wikidata.org/entity/Q41127'), ('sName', 'Poseidon'), ('p', 'http://www.wikidata.org/prop/direct/P31'), ('pName', 'instance of')]\n",
      "50\n"
     ]
    }
   ],
   "source": [
    "# Q22989102 Greek deity\n",
    "queryString = \"\"\"\n",
    "SELECT DISTINCT ?s ?sName ?p ?pName \n",
    "WHERE {\n",
    "    ?s ?p wd:Q22989102 .\n",
    "     ?p sc:name ?pName .\n",
    "     ?s sc:name ?sName .\n",
    "}\n",
    "LIMIT 50\n",
    "\"\"\"\n",
    "\n",
    "print(\"Results\")\n",
    "x=run_query(queryString)"
   ]
  },
  {
   "cell_type": "code",
   "execution_count": 129,
   "id": "1c99f14f-b9a6-4878-b8d4-409465d355ba",
   "metadata": {},
   "outputs": [
    {
     "name": "stdout",
     "output_type": "stream",
     "text": [
      "Results\n",
      "[('greekdeity', 'http://www.wikidata.org/entity/Q37122'), ('greekdeityName', 'Athena'), ('p2', 'http://www.wikidata.org/prop/direct/P1299'), ('p2Name', 'depicted by'), ('o2', 'http://www.wikidata.org/entity/Q107043631'), ('o2Name', 'Athena statue at Olympia')]\n",
      "[('greekdeity', 'http://www.wikidata.org/entity/Q37340'), ('greekdeityName', 'Apollo'), ('p2', 'http://www.wikidata.org/prop/direct/P1299'), ('p2Name', 'depicted by'), ('o2', 'http://www.wikidata.org/entity/Q107043625'), ('o2Name', 'Apollo statue in Sicyonian treasury, Olympia')]\n",
      "[('greekdeity', 'http://www.wikidata.org/entity/Q34201'), ('greekdeityName', 'Zeus'), ('p2', 'http://www.wikidata.org/prop/direct/P1299'), ('p2Name', 'depicted by'), ('o2', 'http://www.wikidata.org/entity/Q107043626'), ('o2Name', 'Zeus statue in Sicyonian treasury, Olympia')]\n",
      "[('greekdeity', 'http://www.wikidata.org/entity/Q38012'), ('greekdeityName', 'Hera'), ('p2', 'http://www.wikidata.org/prop/direct/P361'), ('p2Name', 'part of'), ('o2', 'http://www.wikidata.org/entity/Q101609'), ('o2Name', 'Twelve Olympians')]\n",
      "[('greekdeity', 'http://www.wikidata.org/entity/Q41127'), ('greekdeityName', 'Poseidon'), ('p2', 'http://www.wikidata.org/prop/direct/P361'), ('p2Name', 'part of'), ('o2', 'http://www.wikidata.org/entity/Q101609'), ('o2Name', 'Twelve Olympians')]\n",
      "[('greekdeity', 'http://www.wikidata.org/entity/Q44384'), ('greekdeityName', 'Hephaestus'), ('p2', 'http://www.wikidata.org/prop/direct/P361'), ('p2Name', 'part of'), ('o2', 'http://www.wikidata.org/entity/Q101609'), ('o2Name', 'Twelve Olympians')]\n",
      "[('greekdeity', 'http://www.wikidata.org/entity/Q37340'), ('greekdeityName', 'Apollo'), ('p2', 'http://www.wikidata.org/prop/direct/P361'), ('p2Name', 'part of'), ('o2', 'http://www.wikidata.org/entity/Q101609'), ('o2Name', 'Twelve Olympians')]\n",
      "[('greekdeity', 'http://www.wikidata.org/entity/Q41484'), ('greekdeityName', 'Hermes'), ('p2', 'http://www.wikidata.org/prop/direct/P361'), ('p2Name', 'part of'), ('o2', 'http://www.wikidata.org/entity/Q101609'), ('o2Name', 'Twelve Olympians')]\n",
      "[('greekdeity', 'http://www.wikidata.org/entity/Q37122'), ('greekdeityName', 'Athena'), ('p2', 'http://www.wikidata.org/prop/direct/P361'), ('p2Name', 'part of'), ('o2', 'http://www.wikidata.org/entity/Q101609'), ('o2Name', 'Twelve Olympians')]\n",
      "[('greekdeity', 'http://www.wikidata.org/entity/Q41419'), ('greekdeityName', 'Hestia'), ('p2', 'http://www.wikidata.org/prop/direct/P361'), ('p2Name', 'part of'), ('o2', 'http://www.wikidata.org/entity/Q101609'), ('o2Name', 'Twelve Olympians')]\n",
      "[('greekdeity', 'http://www.wikidata.org/entity/Q39503'), ('greekdeityName', 'Artemis'), ('p2', 'http://www.wikidata.org/prop/direct/P361'), ('p2Name', 'part of'), ('o2', 'http://www.wikidata.org/entity/Q101609'), ('o2Name', 'Twelve Olympians')]\n",
      "[('greekdeity', 'http://www.wikidata.org/entity/Q41127'), ('greekdeityName', 'Poseidon'), ('p2', 'http://www.wikidata.org/prop/direct/P40'), ('p2Name', 'child'), ('o2', 'http://www.wikidata.org/entity/Q771241'), ('o2Name', 'Polydectes')]\n",
      "[('greekdeity', 'http://www.wikidata.org/entity/Q37340'), ('greekdeityName', 'Apollo'), ('p2', 'http://www.wikidata.org/prop/direct/P40'), ('p2Name', 'child'), ('o2', 'http://www.wikidata.org/entity/Q14601959'), ('o2Name', 'Polypoetes')]\n",
      "[('greekdeity', 'http://www.wikidata.org/entity/Q41127'), ('greekdeityName', 'Poseidon'), ('p2', 'http://www.wikidata.org/prop/direct/P40'), ('p2Name', 'child'), ('o2', 'http://www.wikidata.org/entity/Q193567'), ('o2Name', 'Polyphemus')]\n",
      "[('greekdeity', 'http://www.wikidata.org/entity/Q41484'), ('greekdeityName', 'Hermes'), ('p2', 'http://www.wikidata.org/prop/direct/P40'), ('p2Name', 'child'), ('o2', 'http://www.wikidata.org/entity/Q463107'), ('o2Name', 'Autolycus')]\n",
      "[('greekdeity', 'http://www.wikidata.org/entity/Q41484'), ('greekdeityName', 'Hermes'), ('p2', 'http://www.wikidata.org/prop/direct/P40'), ('p2Name', 'child'), ('o2', 'http://www.wikidata.org/entity/Q3545323'), ('o2Name', 'Polybus of Sicyon')]\n",
      "[('greekdeity', 'http://www.wikidata.org/entity/Q978079'), ('greekdeityName', 'Harmonia'), ('p2', 'http://www.wikidata.org/prop/direct/P40'), ('p2Name', 'child'), ('o2', 'http://www.wikidata.org/entity/Q1061554'), ('o2Name', 'Polydorus')]\n",
      "[('greekdeity', 'http://www.wikidata.org/entity/Q37340'), ('greekdeityName', 'Apollo'), ('p2', 'http://www.wikidata.org/prop/direct/P551'), ('p2Name', 'residence'), ('o2', 'http://www.wikidata.org/entity/Q80344'), ('o2Name', 'Mount Olympus')]\n",
      "[('greekdeity', 'http://www.wikidata.org/entity/Q37122'), ('greekdeityName', 'Athena'), ('p2', 'http://www.wikidata.org/prop/direct/P551'), ('p2Name', 'residence'), ('o2', 'http://www.wikidata.org/entity/Q80344'), ('o2Name', 'Mount Olympus')]\n",
      "[('greekdeity', 'http://www.wikidata.org/entity/Q101609'), ('greekdeityName', 'Twelve Olympians'), ('p2', 'http://www.wikidata.org/prop/direct/P910'), ('p2Name', \"topic's main category\"), ('o2', 'http://www.wikidata.org/entity/Q7452446'), ('o2Name', 'Category:Twelve Olympians')]\n",
      "[('greekdeity', 'http://www.wikidata.org/entity/Q41419'), ('greekdeityName', 'Hestia'), ('p2', 'http://www.wikidata.org/prop/direct/P263'), ('p2Name', 'official residence'), ('o2', 'http://www.wikidata.org/entity/Q80344'), ('o2Name', 'Mount Olympus')]\n",
      "[('greekdeity', 'http://www.wikidata.org/entity/Q37122'), ('greekdeityName', 'Athena'), ('p2', 'http://www.wikidata.org/prop/direct/P263'), ('p2Name', 'official residence'), ('o2', 'http://www.wikidata.org/entity/Q80344'), ('o2Name', 'Mount Olympus')]\n",
      "[('greekdeity', 'http://www.wikidata.org/entity/Q38012'), ('greekdeityName', 'Hera'), ('p2', 'http://www.wikidata.org/prop/direct/P263'), ('p2Name', 'official residence'), ('o2', 'http://www.wikidata.org/entity/Q80344'), ('o2Name', 'Mount Olympus')]\n",
      "[('greekdeity', 'http://www.wikidata.org/entity/Q40730'), ('greekdeityName', 'Demeter'), ('p2', 'http://www.wikidata.org/prop/direct/P1299'), ('p2Name', 'depicted by'), ('o2', 'http://www.wikidata.org/entity/Q107043633'), ('o2Name', 'Demeter and Kore statues at Olympia')]\n",
      "[('greekdeity', 'http://www.wikidata.org/entity/Q41680'), ('greekdeityName', 'Dionysus'), ('p2', 'http://www.wikidata.org/prop/direct/P1299'), ('p2Name', 'depicted by'), ('o2', 'http://www.wikidata.org/entity/Q107043629'), ('o2Name', 'Dionysos statue at Olympia')]\n",
      "[('greekdeity', 'http://www.wikidata.org/entity/Q2029543'), ('greekdeityName', 'Oreius'), ('p2', 'http://www.wikidata.org/prop/direct/P25'), ('p2Name', 'mother'), ('o2', 'http://www.wikidata.org/entity/Q1781668'), ('o2Name', 'Polyphonte')]\n",
      "[('greekdeity', 'http://www.wikidata.org/entity/Q41680'), ('greekdeityName', 'Dionysus'), ('p2', 'http://www.wikidata.org/prop/direct/P31'), ('p2Name', 'instance of'), ('o2', 'http://www.wikidata.org/entity/Q101609'), ('o2Name', 'Twelve Olympians')]\n",
      "[('greekdeity', 'http://www.wikidata.org/entity/Q103968'), ('greekdeityName', 'Clio'), ('p2', 'http://www.wikidata.org/prop/direct/P3373'), ('p2Name', 'sibling'), ('o2', 'http://www.wikidata.org/entity/Q104425'), ('o2Name', 'Polyhymnia')]\n",
      "[('greekdeity', 'http://www.wikidata.org/entity/Q35500'), ('greekdeityName', 'Aphrodite'), ('p2', 'http://www.wikidata.org/prop/direct/P361'), ('p2Name', 'part of'), ('o2', 'http://www.wikidata.org/entity/Q101609'), ('o2Name', 'Twelve Olympians')]\n",
      "[('greekdeity', 'http://www.wikidata.org/entity/Q40901'), ('greekdeityName', 'Ares'), ('p2', 'http://www.wikidata.org/prop/direct/P361'), ('p2Name', 'part of'), ('o2', 'http://www.wikidata.org/entity/Q101609'), ('o2Name', 'Twelve Olympians')]\n",
      "[('greekdeity', 'http://www.wikidata.org/entity/Q40730'), ('greekdeityName', 'Demeter'), ('p2', 'http://www.wikidata.org/prop/direct/P361'), ('p2Name', 'part of'), ('o2', 'http://www.wikidata.org/entity/Q101609'), ('o2Name', 'Twelve Olympians')]\n",
      "[('greekdeity', 'http://www.wikidata.org/entity/Q34201'), ('greekdeityName', 'Zeus'), ('p2', 'http://www.wikidata.org/prop/direct/P361'), ('p2Name', 'part of'), ('o2', 'http://www.wikidata.org/entity/Q101609'), ('o2Name', 'Twelve Olympians')]\n",
      "[('greekdeity', 'http://www.wikidata.org/entity/Q35500'), ('greekdeityName', 'Aphrodite'), ('p2', 'http://www.wikidata.org/prop/direct/P40'), ('p2Name', 'child'), ('o2', 'http://www.wikidata.org/entity/Q2102874'), ('o2Name', 'Polycaon')]\n",
      "[('greekdeity', 'http://www.wikidata.org/entity/Q34201'), ('greekdeityName', 'Zeus'), ('p2', 'http://www.wikidata.org/prop/direct/P40'), ('p2Name', 'child'), ('o2', 'http://www.wikidata.org/entity/Q104425'), ('o2Name', 'Polyhymnia')]\n",
      "[('greekdeity', 'http://www.wikidata.org/entity/Q40901'), ('greekdeityName', 'Ares'), ('p2', 'http://www.wikidata.org/prop/direct/P40'), ('p2Name', 'child'), ('o2', 'http://www.wikidata.org/entity/Q210303'), ('o2Name', 'Hippolyta')]\n",
      "[('greekdeity', 'http://www.wikidata.org/entity/Q172549'), ('greekdeityName', 'Aeolus'), ('p2', 'http://www.wikidata.org/prop/direct/P40'), ('p2Name', 'child'), ('o2', 'http://www.wikidata.org/entity/Q3395650'), ('o2Name', 'Polymele')]\n",
      "[('greekdeity', 'http://www.wikidata.org/entity/Q34201'), ('greekdeityName', 'Zeus'), ('p2', 'http://www.wikidata.org/prop/direct/P40'), ('p2Name', 'child'), ('o2', 'http://www.wikidata.org/entity/Q7559062'), ('o2Name', 'Solymus')]\n",
      "[('greekdeity', 'http://www.wikidata.org/entity/Q66016'), ('greekdeityName', 'Muses'), ('p2', 'http://www.wikidata.org/prop/direct/P527'), ('p2Name', 'has part'), ('o2', 'http://www.wikidata.org/entity/Q104425'), ('o2Name', 'Polyhymnia')]\n",
      "[('greekdeity', 'http://www.wikidata.org/entity/Q35500'), ('greekdeityName', 'Aphrodite'), ('p2', 'http://www.wikidata.org/prop/direct/P551'), ('p2Name', 'residence'), ('o2', 'http://www.wikidata.org/entity/Q80344'), ('o2Name', 'Mount Olympus')]\n",
      "[('greekdeity', 'http://www.wikidata.org/entity/Q40730'), ('greekdeityName', 'Demeter'), ('p2', 'http://www.wikidata.org/prop/direct/P263'), ('p2Name', 'official residence'), ('o2', 'http://www.wikidata.org/entity/Q80344'), ('o2Name', 'Mount Olympus')]\n",
      "[('greekdeity', 'http://www.wikidata.org/entity/Q34201'), ('greekdeityName', 'Zeus'), ('p2', 'http://www.wikidata.org/prop/direct/P263'), ('p2Name', 'official residence'), ('o2', 'http://www.wikidata.org/entity/Q80344'), ('o2Name', 'Mount Olympus')]\n",
      "[('greekdeity', 'http://www.wikidata.org/entity/Q35500'), ('greekdeityName', 'Aphrodite'), ('p2', 'http://www.wikidata.org/prop/direct/P263'), ('p2Name', 'official residence'), ('o2', 'http://www.wikidata.org/entity/Q80344'), ('o2Name', 'Mount Olympus')]\n",
      "[('greekdeity', 'http://www.wikidata.org/entity/Q1477143'), ('greekdeityName', 'Keltos'), ('p2', 'http://www.wikidata.org/prop/direct/P22'), ('p2Name', 'father'), ('o2', 'http://www.wikidata.org/entity/Q193567'), ('o2Name', 'Polyphemus')]\n",
      "[('greekdeity', 'http://www.wikidata.org/entity/Q747657'), ('greekdeityName', 'Enyo'), ('p2', 'http://www.wikidata.org/prop/direct/P551'), ('p2Name', 'residence'), ('o2', 'http://www.wikidata.org/entity/Q80344'), ('o2Name', 'Mount Olympus')]\n",
      "44\n"
     ]
    }
   ],
   "source": [
    "# Q5081127 Acmon\n",
    "queryString = \"\"\"\n",
    "SELECT DISTINCT ?greekdeity ?greekdeityName ?p2 ?p2Name ?o2?o2Name\n",
    "WHERE {\n",
    "    ?greekdeity ?p1 wd:Q22989102 ;\n",
    "         sc:name ?greekdeityName ;\n",
    "         ?p2 ?o2.\n",
    "     ?p1 sc:name ?p1Name .\n",
    "     ?p2 sc:name ?p2Name .\n",
    "     ?o2 sc:name ?o2Name .\n",
    "     \n",
    "     FILTER REGEX(?o2Name , \"[Oo]lym*\")\n",
    "     \n",
    "}\n",
    "LIMIT 100\n",
    "\"\"\"\n",
    "\n",
    "print(\"Results\")\n",
    "x=run_query(queryString)"
   ]
  },
  {
   "cell_type": "code",
   "execution_count": 130,
   "id": "0770206a-2059-4b40-9ec8-12cf2d22aa51",
   "metadata": {},
   "outputs": [
    {
     "name": "stdout",
     "output_type": "stream",
     "text": [
      "Results\n",
      "[('twelveolympiansName', 'Apollo')]\n",
      "[('twelveolympiansName', 'Athena')]\n",
      "[('twelveolympiansName', 'Hera')]\n",
      "[('twelveolympiansName', 'Artemis')]\n",
      "[('twelveolympiansName', 'Hephaestus')]\n",
      "[('twelveolympiansName', 'Hermes')]\n",
      "[('twelveolympiansName', 'Poseidon')]\n",
      "[('twelveolympiansName', 'Hestia')]\n",
      "[('twelveolympiansName', 'Zeus')]\n",
      "[('twelveolympiansName', 'Aphrodite')]\n",
      "[('twelveolympiansName', 'Demeter')]\n",
      "[('twelveolympiansName', 'Ares')]\n",
      "12\n"
     ]
    }
   ],
   "source": [
    "#Q101609 Twelve Olympians\n",
    "#P361 part of\n",
    "queryString = \"\"\"\n",
    "SELECT DISTINCT ?twelveolympiansName\n",
    "WHERE {\n",
    "    ?twelveolympians wdt:P361 wd:Q101609 .\n",
    "     ?twelveolympians sc:name ?twelveolympiansName .\n",
    "}\n",
    "LIMIT 100\n",
    "\"\"\"\n",
    "\n",
    "print(\"Results\")\n",
    "x=run_query(queryString)"
   ]
  },
  {
   "cell_type": "markdown",
   "id": "534ff176",
   "metadata": {},
   "source": [
    "Final query for this task"
   ]
  },
  {
   "cell_type": "code",
   "execution_count": 131,
   "id": "af878fdb",
   "metadata": {},
   "outputs": [
    {
     "name": "stdout",
     "output_type": "stream",
     "text": [
      "Results\n",
      "[('twelveolympians', 'http://www.wikidata.org/entity/Q37340'), ('twelveolympiansName', 'Apollo')]\n",
      "[('twelveolympians', 'http://www.wikidata.org/entity/Q37122'), ('twelveolympiansName', 'Athena')]\n",
      "[('twelveolympians', 'http://www.wikidata.org/entity/Q38012'), ('twelveolympiansName', 'Hera')]\n",
      "[('twelveolympians', 'http://www.wikidata.org/entity/Q39503'), ('twelveolympiansName', 'Artemis')]\n",
      "[('twelveolympians', 'http://www.wikidata.org/entity/Q44384'), ('twelveolympiansName', 'Hephaestus')]\n",
      "[('twelveolympians', 'http://www.wikidata.org/entity/Q41484'), ('twelveolympiansName', 'Hermes')]\n",
      "[('twelveolympians', 'http://www.wikidata.org/entity/Q41127'), ('twelveolympiansName', 'Poseidon')]\n",
      "[('twelveolympians', 'http://www.wikidata.org/entity/Q41419'), ('twelveolympiansName', 'Hestia')]\n",
      "[('twelveolympians', 'http://www.wikidata.org/entity/Q34201'), ('twelveolympiansName', 'Zeus')]\n",
      "[('twelveolympians', 'http://www.wikidata.org/entity/Q35500'), ('twelveolympiansName', 'Aphrodite')]\n",
      "[('twelveolympians', 'http://www.wikidata.org/entity/Q40730'), ('twelveolympiansName', 'Demeter')]\n",
      "[('twelveolympians', 'http://www.wikidata.org/entity/Q40901'), ('twelveolympiansName', 'Ares')]\n",
      "12\n"
     ]
    }
   ],
   "source": [
    "# write your final query\n",
    "#Q101609 Twelve Olympians\n",
    "#P361 part of\n",
    "queryString = \"\"\"\n",
    "SELECT DISTINCT ?twelveolympians ?twelveolympiansName\n",
    "WHERE {\n",
    "    ?twelveolympians wdt:P361 wd:Q101609 .\n",
    "     ?twelveolympians sc:name ?twelveolympiansName .\n",
    "}\n",
    "LIMIT 100\n",
    "\"\"\"\n",
    "\n",
    "print(\"Results\")\n",
    "x=run_query(queryString)"
   ]
  },
  {
   "cell_type": "markdown",
   "id": "c185455d",
   "metadata": {},
   "source": [
    "## Task 8\n",
    "Compare ancient Egypt with ancient Egypt and find how many deities each one has."
   ]
  },
  {
   "cell_type": "code",
   "execution_count": 132,
   "id": "f903d80f",
   "metadata": {},
   "outputs": [
    {
     "name": "stdout",
     "output_type": "stream",
     "text": [
      "Results\n",
      "[('pName', 'economy of topic'), ('sName', 'economy of ancient Greece')]\n",
      "[('pName', 'studied by'), ('sName', 'classics')]\n",
      "[('pName', 'instance of'), ('sName', 'ancient civilization')]\n",
      "[('pName', 'history of topic'), ('sName', 'history of ancient Greece')]\n",
      "[('pName', \"topic's main category\"), ('sName', 'Category:Ancient Greece')]\n",
      "[('pName', 'instance of'), ('sName', 'culture')]\n",
      "[('pName', 'instance of'), ('sName', 'style')]\n",
      "[('pName', 'described by source'), ('sName', 'The Nuttall Encyclopædia')]\n",
      "[('pName', 'instance of'), ('sName', 'cultural region')]\n",
      "[('pName', 'indigenous to'), ('sName', 'Greece')]\n",
      "[('pName', 'continent'), ('sName', 'Europe')]\n",
      "[('pName', 'continent'), ('sName', 'Asia')]\n",
      "[('pName', 'on focus list of Wikimedia project'), ('sName', 'Wikipedia:Vital articles')]\n",
      "[('pName', 'shares border with'), ('sName', 'Persian Empire')]\n",
      "[('pName', 'instance of'), ('sName', 'historical region')]\n",
      "[('pName', 'shares border with'), ('sName', 'Illyria')]\n",
      "[('pName', 'shares border with'), ('sName', 'Macedonia')]\n",
      "[('pName', 'studied by'), ('sName', 'ancient history')]\n",
      "[('pName', 'part of'), ('sName', 'history of Greece')]\n",
      "[('pName', 'studied by'), ('sName', 'Greek studies')]\n",
      "[('pName', \"topic's main template\"), ('sName', 'Template:Ancient Greece topics')]\n",
      "[('pName', \"topic's main Wikimedia portal\"), ('sName', 'Portal:Ancient Greece')]\n",
      "[('pName', 'category of associated people'), ('sName', 'Category:Ancient Greeks')]\n",
      "[('pName', 'Wikimedia outline'), ('sName', 'outline of ancient Greece')]\n",
      "24\n"
     ]
    }
   ],
   "source": [
    "# write your queries\n",
    "#Q22989102 Greek deity\n",
    "#Q11772 Ancient Greece\n",
    "#Q11768 Ancient Egypt\n",
    "queryString = \"\"\"\n",
    "SELECT DISTINCT ?pName ?sName\n",
    "WHERE {\n",
    "    wd:Q11772 ?p ?s .\n",
    "     ?p sc:name ?pName .\n",
    "     ?s sc:name ?sName .\n",
    "}\n",
    "LIMIT 100\n",
    "\"\"\"\n",
    "\n",
    "print(\"Results\")\n",
    "x=run_query(queryString)"
   ]
  },
  {
   "cell_type": "code",
   "execution_count": 134,
   "id": "c559a563-caf2-4cc7-a923-22de197e503f",
   "metadata": {},
   "outputs": [
    {
     "name": "stdout",
     "output_type": "stream",
     "text": [
      "Results\n",
      "[('s', 'http://www.wikidata.org/entity/Q5081127'), ('sName', 'Acmon')]\n",
      "[('s', 'http://www.wikidata.org/entity/Q366533'), ('sName', 'Adranus')]\n",
      "[('s', 'http://www.wikidata.org/entity/Q3362052'), ('sName', 'Pandora')]\n",
      "[('s', 'http://www.wikidata.org/entity/Q6612'), ('sName', 'Charon')]\n",
      "[('s', 'http://www.wikidata.org/entity/Q2144233'), ('sName', 'Pheme')]\n",
      "[('s', 'http://www.wikidata.org/entity/Q1120723'), ('sName', 'Pheme')]\n",
      "[('s', 'http://www.wikidata.org/entity/Q1862189'), ('sName', 'Paean')]\n",
      "[('s', 'http://www.wikidata.org/entity/Q1775444'), ('sName', 'Phosphorus')]\n",
      "[('s', 'http://www.wikidata.org/entity/Q178417'), ('sName', 'Eos')]\n",
      "[('s', 'http://www.wikidata.org/entity/Q59697'), ('sName', 'Hesperus')]\n",
      "[('s', 'http://www.wikidata.org/entity/Q1084868'), ('sName', 'Lyssa')]\n",
      "[('s', 'http://www.wikidata.org/entity/Q1294659'), ('sName', 'Telesphorus')]\n",
      "[('s', 'http://www.wikidata.org/entity/Q18423351'), ('sName', 'Basileia')]\n",
      "[('s', 'http://www.wikidata.org/entity/Q185670'), ('sName', 'Echidna')]\n",
      "[('s', 'http://www.wikidata.org/entity/Q37340'), ('sName', 'Apollo')]\n",
      "[('s', 'http://www.wikidata.org/entity/Q83223'), ('sName', 'Asclepius')]\n",
      "[('s', 'http://www.wikidata.org/entity/Q850227'), ('sName', 'Panacea')]\n",
      "[('s', 'http://www.wikidata.org/entity/Q1073827'), ('sName', 'Pandia')]\n",
      "[('s', 'http://www.wikidata.org/entity/Q131585'), ('sName', 'Selene')]\n",
      "[('s', 'http://www.wikidata.org/entity/Q134270'), ('sName', 'Helios')]\n",
      "[('s', 'http://www.wikidata.org/entity/Q1977078'), ('sName', 'Nemea')]\n",
      "[('s', 'http://www.wikidata.org/entity/Q37122'), ('sName', 'Athena')]\n",
      "[('s', 'http://www.wikidata.org/entity/Q38012'), ('sName', 'Hera')]\n",
      "[('s', 'http://www.wikidata.org/entity/Q39503'), ('sName', 'Artemis')]\n",
      "[('s', 'http://www.wikidata.org/entity/Q44384'), ('sName', 'Hephaestus')]\n",
      "[('s', 'http://www.wikidata.org/entity/Q10514702'), ('sName', 'Limos')]\n",
      "[('s', 'http://www.wikidata.org/entity/Q140001'), ('sName', 'Eris')]\n",
      "[('s', 'http://www.wikidata.org/entity/Q174190'), ('sName', 'Ponos')]\n",
      "[('s', 'http://www.wikidata.org/entity/Q3320210'), ('sName', 'Algos')]\n",
      "[('s', 'http://www.wikidata.org/entity/Q132582'), ('sName', 'Pan')]\n",
      "[('s', 'http://www.wikidata.org/entity/Q391553'), ('sName', 'agathodaemon')]\n",
      "[('s', 'http://www.wikidata.org/entity/Q392435'), ('sName', 'Aristaeus')]\n",
      "[('s', 'http://www.wikidata.org/entity/Q41484'), ('sName', 'Hermes')]\n",
      "[('s', 'http://www.wikidata.org/entity/Q164846'), ('sName', 'Aion')]\n",
      "[('s', 'http://www.wikidata.org/entity/Q617977'), ('sName', 'Apate')]\n",
      "[('s', 'http://www.wikidata.org/entity/Q3178796'), ('sName', 'Melinoe')]\n",
      "[('s', 'http://www.wikidata.org/entity/Q3274055'), ('sName', 'Macaria')]\n",
      "[('s', 'http://www.wikidata.org/entity/Q2046854'), ('sName', 'Palaemon')]\n",
      "[('s', 'http://www.wikidata.org/entity/Q4862163'), ('sName', 'Penthus')]\n",
      "[('s', 'http://www.wikidata.org/entity/Q625051'), ('sName', 'Krotos')]\n",
      "[('s', 'http://www.wikidata.org/entity/Q742680'), ('sName', 'Astraea')]\n",
      "[('s', 'http://www.wikidata.org/entity/Q1128685'), ('sName', 'Philomelus')]\n",
      "[('s', 'http://www.wikidata.org/entity/Q180222'), ('sName', 'Amphitrite')]\n",
      "[('s', 'http://www.wikidata.org/entity/Q201261'), ('sName', 'Orion')]\n",
      "[('s', 'http://www.wikidata.org/entity/Q202257'), ('sName', 'Hygieia')]\n",
      "[('s', 'http://www.wikidata.org/entity/Q41127'), ('sName', 'Poseidon')]\n",
      "[('s', 'http://www.wikidata.org/entity/Q131575'), ('sName', 'Hecate')]\n",
      "[('s', 'http://www.wikidata.org/entity/Q404208'), ('sName', 'Aegaeon')]\n",
      "[('s', 'http://www.wikidata.org/entity/Q978079'), ('sName', 'Harmonia')]\n",
      "[('s', 'http://www.wikidata.org/entity/Q188236'), ('sName', 'Cybele')]\n",
      "50\n"
     ]
    }
   ],
   "source": [
    "# Q22989102 Greek deity\n",
    "queryString = \"\"\"\n",
    "SELECT DISTINCT ?s ?sName \n",
    "WHERE {\n",
    "    ?s wdt:P31 wd:Q22989102 .\n",
    "     ?s sc:name ?sName .\n",
    "}\n",
    "LIMIT 50\n",
    "\"\"\"\n",
    "\n",
    "print(\"Results\")\n",
    "x=run_query(queryString)"
   ]
  },
  {
   "cell_type": "code",
   "execution_count": 138,
   "id": "dc81350d-a71e-4930-9e91-e10b7ee1d45a",
   "metadata": {},
   "outputs": [
    {
     "name": "stdout",
     "output_type": "stream",
     "text": [
      "Results\n",
      "[('s', 'http://www.wikidata.org/entity/Q145915'), ('sName', 'Nekhbet'), ('o', 'http://www.wikidata.org/entity/Q146083'), ('oName', 'Ancient Egyptian deity')]\n",
      "[('s', 'http://www.wikidata.org/entity/Q58373'), ('sName', 'Amun'), ('o', 'http://www.wikidata.org/entity/Q146083'), ('oName', 'Ancient Egyptian deity')]\n",
      "[('s', 'http://www.wikidata.org/entity/Q2620491'), ('sName', 'Werethekau'), ('o', 'http://www.wikidata.org/entity/Q146083'), ('oName', 'Ancient Egyptian deity')]\n",
      "[('s', 'http://www.wikidata.org/entity/Q170569'), ('sName', 'Atum'), ('o', 'http://www.wikidata.org/entity/Q146083'), ('oName', 'Ancient Egyptian deity')]\n",
      "[('s', 'http://www.wikidata.org/entity/Q211611'), ('sName', 'Anuket'), ('o', 'http://www.wikidata.org/entity/Q146083'), ('oName', 'Ancient Egyptian deity')]\n",
      "[('s', 'http://www.wikidata.org/entity/Q146313'), ('sName', 'Sobek'), ('o', 'http://www.wikidata.org/entity/Q146083'), ('oName', 'Ancient Egyptian deity')]\n",
      "[('s', 'http://www.wikidata.org/entity/Q1252904'), ('sName', 'Ra'), ('o', 'http://www.wikidata.org/entity/Q146083'), ('oName', 'Ancient Egyptian deity')]\n",
      "[('s', 'http://www.wikidata.org/entity/Q130227'), ('sName', 'Aten'), ('o', 'http://www.wikidata.org/entity/Q146083'), ('oName', 'Ancient Egyptian deity')]\n",
      "[('s', 'http://www.wikidata.org/entity/Q133343'), ('sName', 'Hathor'), ('o', 'http://www.wikidata.org/entity/Q146083'), ('oName', 'Ancient Egyptian deity')]\n",
      "[('s', 'http://www.wikidata.org/entity/Q845614'), ('sName', 'Maahes'), ('o', 'http://www.wikidata.org/entity/Q146083'), ('oName', 'Ancient Egyptian deity')]\n",
      "[('s', 'http://www.wikidata.org/entity/Q116273'), ('sName', 'Tefnut'), ('o', 'http://www.wikidata.org/entity/Q146083'), ('oName', 'Ancient Egyptian deity')]\n",
      "[('s', 'http://www.wikidata.org/entity/Q1936121'), ('sName', 'Min-Kamutef'), ('o', 'http://www.wikidata.org/entity/Q146083'), ('oName', 'Ancient Egyptian deity')]\n",
      "[('s', 'http://www.wikidata.org/entity/Q1627813'), ('sName', 'Horus the Child'), ('o', 'http://www.wikidata.org/entity/Q146083'), ('oName', 'Ancient Egyptian deity')]\n",
      "[('s', 'http://www.wikidata.org/entity/Q790000'), ('sName', 'Banebdjedet'), ('o', 'http://www.wikidata.org/entity/Q146083'), ('oName', 'Ancient Egyptian deity')]\n",
      "[('s', 'http://www.wikidata.org/entity/Q146321'), ('sName', 'Ptah'), ('o', 'http://www.wikidata.org/entity/Q146083'), ('oName', 'Ancient Egyptian deity')]\n",
      "[('s', 'http://www.wikidata.org/entity/Q1126848'), ('sName', 'Huh'), ('o', 'http://www.wikidata.org/entity/Q146083'), ('oName', 'Ancient Egyptian deity')]\n",
      "[('s', 'http://www.wikidata.org/entity/Q29409'), ('sName', 'Mut'), ('o', 'http://www.wikidata.org/entity/Q146083'), ('oName', 'Ancient Egyptian deity')]\n",
      "[('s', 'http://www.wikidata.org/entity/Q590467'), ('sName', 'Baʿal'), ('o', 'http://www.wikidata.org/entity/Q146083'), ('oName', 'Ancient Egyptian deity')]\n",
      "[('s', 'http://www.wikidata.org/entity/Q620863'), ('sName', 'Khenti-Amentiu'), ('o', 'http://www.wikidata.org/entity/Q146083'), ('oName', 'Ancient Egyptian deity')]\n",
      "[('s', 'http://www.wikidata.org/entity/Q464227'), ('sName', 'Nefertem'), ('o', 'http://www.wikidata.org/entity/Q146083'), ('oName', 'Ancient Egyptian deity')]\n",
      "[('s', 'http://www.wikidata.org/entity/Q1141220'), ('sName', 'Hapi (Son of Horus)'), ('o', 'http://www.wikidata.org/entity/Q146083'), ('oName', 'Ancient Egyptian deity')]\n",
      "[('s', 'http://www.wikidata.org/entity/Q1353960'), ('sName', 'Kebehet'), ('o', 'http://www.wikidata.org/entity/Q146083'), ('oName', 'Ancient Egyptian deity')]\n",
      "[('s', 'http://www.wikidata.org/entity/Q46491'), ('sName', 'Osiris'), ('o', 'http://www.wikidata.org/entity/Q146083'), ('oName', 'Ancient Egyptian deity')]\n",
      "[('s', 'http://www.wikidata.org/entity/Q47534'), ('sName', 'Anubis'), ('o', 'http://www.wikidata.org/entity/Q146083'), ('oName', 'Ancient Egyptian deity')]\n",
      "[('s', 'http://www.wikidata.org/entity/Q168444'), ('sName', 'Geb'), ('o', 'http://www.wikidata.org/entity/Q146083'), ('oName', 'Ancient Egyptian deity')]\n",
      "[('s', 'http://www.wikidata.org/entity/Q192322'), ('sName', 'Min'), ('o', 'http://www.wikidata.org/entity/Q146083'), ('oName', 'Ancient Egyptian deity')]\n",
      "[('s', 'http://www.wikidata.org/entity/Q214554'), ('sName', 'Serapis'), ('o', 'http://www.wikidata.org/entity/Q146083'), ('oName', 'Ancient Egyptian deity')]\n",
      "[('s', 'http://www.wikidata.org/entity/Q79876'), ('sName', 'Isis'), ('o', 'http://www.wikidata.org/entity/Q146083'), ('oName', 'Ancient Egyptian deity')]\n",
      "[('s', 'http://www.wikidata.org/entity/Q946657'), ('sName', 'Iah'), ('o', 'http://www.wikidata.org/entity/Q146083'), ('oName', 'Ancient Egyptian deity')]\n",
      "[('s', 'http://www.wikidata.org/entity/Q1413385'), ('sName', 'Iunit'), ('o', 'http://www.wikidata.org/entity/Q146083'), ('oName', 'Ancient Egyptian deity')]\n",
      "[('s', 'http://www.wikidata.org/entity/Q1518117'), ('sName', 'Hemsut'), ('o', 'http://www.wikidata.org/entity/Q146083'), ('oName', 'Ancient Egyptian deity')]\n",
      "[('s', 'http://www.wikidata.org/entity/Q170471'), ('sName', \"Ma'at\"), ('o', 'http://www.wikidata.org/entity/Q146083'), ('oName', 'Ancient Egyptian deity')]\n",
      "[('s', 'http://www.wikidata.org/entity/Q2389033'), ('sName', 'Tayet'), ('o', 'http://www.wikidata.org/entity/Q146083'), ('oName', 'Ancient Egyptian deity')]\n",
      "[('s', 'http://www.wikidata.org/entity/Q1418931'), ('sName', 'Ra-Horakhty'), ('o', 'http://www.wikidata.org/entity/Q146083'), ('oName', 'Ancient Egyptian deity')]\n",
      "[('s', 'http://www.wikidata.org/entity/Q810595'), ('sName', 'Basty'), ('o', 'http://www.wikidata.org/entity/Q146083'), ('oName', 'Ancient Egyptian deity')]\n",
      "[('s', 'http://www.wikidata.org/entity/Q810687'), ('sName', 'Bat'), ('o', 'http://www.wikidata.org/entity/Q146083'), ('oName', 'Ancient Egyptian deity')]\n",
      "[('s', 'http://www.wikidata.org/entity/Q1978616'), ('sName', 'Akhty'), ('o', 'http://www.wikidata.org/entity/Q146083'), ('oName', 'Ancient Egyptian deity')]\n",
      "[('s', 'http://www.wikidata.org/entity/Q1986464'), ('sName', 'Tenenet'), ('o', 'http://www.wikidata.org/entity/Q146083'), ('oName', 'Ancient Egyptian deity')]\n",
      "[('s', 'http://www.wikidata.org/entity/Q1723406'), ('sName', 'Kamutef'), ('o', 'http://www.wikidata.org/entity/Q146083'), ('oName', 'Ancient Egyptian deity')]\n",
      "[('s', 'http://www.wikidata.org/entity/Q846288'), ('sName', 'Meretseger'), ('o', 'http://www.wikidata.org/entity/Q146083'), ('oName', 'Ancient Egyptian deity')]\n",
      "[('s', 'http://www.wikidata.org/entity/Q11959424'), ('sName', 'Astennu'), ('o', 'http://www.wikidata.org/entity/Q146083'), ('oName', 'Ancient Egyptian deity')]\n",
      "[('s', 'http://www.wikidata.org/entity/Q146104'), ('sName', 'Sekhmet'), ('o', 'http://www.wikidata.org/entity/Q146083'), ('oName', 'Ancient Egyptian deity')]\n",
      "[('s', 'http://www.wikidata.org/entity/Q3575327'), ('sName', 'Zeus Ammon'), ('o', 'http://www.wikidata.org/entity/Q146083'), ('oName', 'Ancient Egyptian deity')]\n",
      "[('s', 'http://www.wikidata.org/entity/Q188931'), ('sName', 'Bes'), ('o', 'http://www.wikidata.org/entity/Q146083'), ('oName', 'Ancient Egyptian deity')]\n",
      "[('s', 'http://www.wikidata.org/entity/Q1598263'), ('sName', 'Amon-Min'), ('o', 'http://www.wikidata.org/entity/Q146083'), ('oName', 'Ancient Egyptian deity')]\n",
      "[('s', 'http://www.wikidata.org/entity/Q190511'), ('sName', 'Apep'), ('o', 'http://www.wikidata.org/entity/Q146083'), ('oName', 'Ancient Egyptian deity')]\n",
      "[('s', 'http://www.wikidata.org/entity/Q626032'), ('sName', 'Monthu'), ('o', 'http://www.wikidata.org/entity/Q146083'), ('oName', 'Ancient Egyptian deity')]\n",
      "[('s', 'http://www.wikidata.org/entity/Q146007'), ('sName', 'Wadjet'), ('o', 'http://www.wikidata.org/entity/Q146083'), ('oName', 'Ancient Egyptian deity')]\n",
      "[('s', 'http://www.wikidata.org/entity/Q146921'), ('sName', 'Thoth'), ('o', 'http://www.wikidata.org/entity/Q146083'), ('oName', 'Ancient Egyptian deity')]\n",
      "[('s', 'http://www.wikidata.org/entity/Q478490'), ('sName', 'Seshat'), ('o', 'http://www.wikidata.org/entity/Q146083'), ('oName', 'Ancient Egyptian deity')]\n",
      "50\n"
     ]
    }
   ],
   "source": [
    "\n",
    "queryString = \"\"\"\n",
    "SELECT DISTINCT ?s ?sName ?o ?oName \n",
    "WHERE {\n",
    "    ?s wdt:P31 ?o .\n",
    "     ?s sc:name ?sName .\n",
    "     ?o sc:name ?oName .\n",
    "     FILTER REGEX(?oName , '[Ee]gypt*')\n",
    "     FILTER REGEX(?oName , 'deity*')\n",
    "}\n",
    "LIMIT 50\n",
    "\"\"\"\n",
    "\n",
    "print(\"Results\")\n",
    "x=run_query(queryString)"
   ]
  },
  {
   "cell_type": "code",
   "execution_count": 139,
   "id": "051cdfde-7115-41f7-bbde-e65a8200f269",
   "metadata": {},
   "outputs": [
    {
     "name": "stdout",
     "output_type": "stream",
     "text": [
      "Results\n",
      "[('s', 'http://www.wikidata.org/entity/Q145915'), ('sName', 'Nekhbet')]\n",
      "[('s', 'http://www.wikidata.org/entity/Q58373'), ('sName', 'Amun')]\n",
      "[('s', 'http://www.wikidata.org/entity/Q2620491'), ('sName', 'Werethekau')]\n",
      "[('s', 'http://www.wikidata.org/entity/Q170569'), ('sName', 'Atum')]\n",
      "[('s', 'http://www.wikidata.org/entity/Q211611'), ('sName', 'Anuket')]\n",
      "[('s', 'http://www.wikidata.org/entity/Q146313'), ('sName', 'Sobek')]\n",
      "[('s', 'http://www.wikidata.org/entity/Q1252904'), ('sName', 'Ra')]\n",
      "[('s', 'http://www.wikidata.org/entity/Q130227'), ('sName', 'Aten')]\n",
      "[('s', 'http://www.wikidata.org/entity/Q133343'), ('sName', 'Hathor')]\n",
      "[('s', 'http://www.wikidata.org/entity/Q845614'), ('sName', 'Maahes')]\n",
      "[('s', 'http://www.wikidata.org/entity/Q116273'), ('sName', 'Tefnut')]\n",
      "[('s', 'http://www.wikidata.org/entity/Q1936121'), ('sName', 'Min-Kamutef')]\n",
      "[('s', 'http://www.wikidata.org/entity/Q1627813'), ('sName', 'Horus the Child')]\n",
      "[('s', 'http://www.wikidata.org/entity/Q790000'), ('sName', 'Banebdjedet')]\n",
      "[('s', 'http://www.wikidata.org/entity/Q146321'), ('sName', 'Ptah')]\n",
      "[('s', 'http://www.wikidata.org/entity/Q1126848'), ('sName', 'Huh')]\n",
      "[('s', 'http://www.wikidata.org/entity/Q29409'), ('sName', 'Mut')]\n",
      "[('s', 'http://www.wikidata.org/entity/Q590467'), ('sName', 'Baʿal')]\n",
      "[('s', 'http://www.wikidata.org/entity/Q620863'), ('sName', 'Khenti-Amentiu')]\n",
      "[('s', 'http://www.wikidata.org/entity/Q464227'), ('sName', 'Nefertem')]\n",
      "[('s', 'http://www.wikidata.org/entity/Q1141220'), ('sName', 'Hapi (Son of Horus)')]\n",
      "[('s', 'http://www.wikidata.org/entity/Q1353960'), ('sName', 'Kebehet')]\n",
      "[('s', 'http://www.wikidata.org/entity/Q46491'), ('sName', 'Osiris')]\n",
      "[('s', 'http://www.wikidata.org/entity/Q47534'), ('sName', 'Anubis')]\n",
      "[('s', 'http://www.wikidata.org/entity/Q168444'), ('sName', 'Geb')]\n",
      "[('s', 'http://www.wikidata.org/entity/Q192322'), ('sName', 'Min')]\n",
      "[('s', 'http://www.wikidata.org/entity/Q214554'), ('sName', 'Serapis')]\n",
      "[('s', 'http://www.wikidata.org/entity/Q79876'), ('sName', 'Isis')]\n",
      "[('s', 'http://www.wikidata.org/entity/Q946657'), ('sName', 'Iah')]\n",
      "[('s', 'http://www.wikidata.org/entity/Q1413385'), ('sName', 'Iunit')]\n",
      "[('s', 'http://www.wikidata.org/entity/Q1518117'), ('sName', 'Hemsut')]\n",
      "[('s', 'http://www.wikidata.org/entity/Q170471'), ('sName', \"Ma'at\")]\n",
      "[('s', 'http://www.wikidata.org/entity/Q2389033'), ('sName', 'Tayet')]\n",
      "[('s', 'http://www.wikidata.org/entity/Q1418931'), ('sName', 'Ra-Horakhty')]\n",
      "[('s', 'http://www.wikidata.org/entity/Q810595'), ('sName', 'Basty')]\n",
      "[('s', 'http://www.wikidata.org/entity/Q810687'), ('sName', 'Bat')]\n",
      "[('s', 'http://www.wikidata.org/entity/Q1978616'), ('sName', 'Akhty')]\n",
      "[('s', 'http://www.wikidata.org/entity/Q1986464'), ('sName', 'Tenenet')]\n",
      "[('s', 'http://www.wikidata.org/entity/Q1723406'), ('sName', 'Kamutef')]\n",
      "[('s', 'http://www.wikidata.org/entity/Q846288'), ('sName', 'Meretseger')]\n",
      "[('s', 'http://www.wikidata.org/entity/Q11959424'), ('sName', 'Astennu')]\n",
      "[('s', 'http://www.wikidata.org/entity/Q146104'), ('sName', 'Sekhmet')]\n",
      "[('s', 'http://www.wikidata.org/entity/Q3575327'), ('sName', 'Zeus Ammon')]\n",
      "[('s', 'http://www.wikidata.org/entity/Q188931'), ('sName', 'Bes')]\n",
      "[('s', 'http://www.wikidata.org/entity/Q1598263'), ('sName', 'Amon-Min')]\n",
      "[('s', 'http://www.wikidata.org/entity/Q190511'), ('sName', 'Apep')]\n",
      "[('s', 'http://www.wikidata.org/entity/Q626032'), ('sName', 'Monthu')]\n",
      "[('s', 'http://www.wikidata.org/entity/Q146007'), ('sName', 'Wadjet')]\n",
      "[('s', 'http://www.wikidata.org/entity/Q146921'), ('sName', 'Thoth')]\n",
      "[('s', 'http://www.wikidata.org/entity/Q478490'), ('sName', 'Seshat')]\n",
      "50\n"
     ]
    }
   ],
   "source": [
    "#Q146083 Ancient Egyptian deity\n",
    "queryString = \"\"\"\n",
    "SELECT DISTINCT ?s ?sName \n",
    "WHERE {\n",
    "    ?s wdt:P31 wd:Q146083 .\n",
    "     ?s sc:name ?sName .\n",
    "}\n",
    "LIMIT 50\n",
    "\"\"\"\n",
    "\n",
    "print(\"Results\")\n",
    "x=run_query(queryString)"
   ]
  },
  {
   "cell_type": "code",
   "execution_count": 142,
   "id": "2c7f09b2-ff1d-45d9-97f1-86d0f98acebb",
   "metadata": {},
   "outputs": [
    {
     "name": "stdout",
     "output_type": "stream",
     "text": [
      "Results\n",
      "[('callret-0', '156')]\n",
      "1\n"
     ]
    }
   ],
   "source": [
    "#Q146083 Ancient Egyptian deity\n",
    "queryString = \"\"\"\n",
    "SELECT DISTINCT COUNT((?sName) AS ?num)\n",
    "WHERE {\n",
    "    ?s wdt:P31 wd:Q146083 .\n",
    "     ?s sc:name ?sName .\n",
    "}\n",
    "LIMIT 50\n",
    "\"\"\"\n",
    "\n",
    "print(\"Results\")\n",
    "x=run_query(queryString)"
   ]
  },
  {
   "cell_type": "code",
   "execution_count": 143,
   "id": "07fc0190-3782-4e01-af85-40be9a5218a2",
   "metadata": {},
   "outputs": [
    {
     "name": "stdout",
     "output_type": "stream",
     "text": [
      "Results\n",
      "[('callret-0', '241')]\n",
      "1\n"
     ]
    }
   ],
   "source": [
    "# Q22989102 Greek deity\n",
    "queryString = \"\"\"\n",
    "SELECT DISTINCT COUNT((?sName) AS ?num)\n",
    "WHERE {\n",
    "    ?s wdt:P31 wd:Q22989102 .\n",
    "     ?s sc:name ?sName .\n",
    "}\n",
    "LIMIT 50\n",
    "\"\"\"\n",
    "\n",
    "print(\"Results\")\n",
    "x=run_query(queryString)"
   ]
  },
  {
   "cell_type": "markdown",
   "id": "0182aef5",
   "metadata": {},
   "source": [
    "Final query for this task"
   ]
  },
  {
   "cell_type": "code",
   "execution_count": 149,
   "id": "7638ca89",
   "metadata": {},
   "outputs": [
    {
     "name": "stdout",
     "output_type": "stream",
     "text": [
      "Results\n",
      "[('egyptianName', 'Ancient Egyptian deity'), ('callret-1', '156'), ('greekName', 'Greek deity'), ('callret-3', '241')]\n",
      "1\n"
     ]
    }
   ],
   "source": [
    "# write your final query\n",
    "#Q146083 Ancient Egyptian deity\n",
    "# Q22989102 Greek deity\n",
    "queryString = \"\"\"\n",
    "SELECT ?egyptianName COUNT(DISTINCT(?egyptiandeity) AS ?numegyptiandeity) ?greekName COUNT(DISTINCT(?greekdeity) AS ?numgreekdeity)\n",
    "WHERE {\n",
    "    wd:Q146083 sc:name ?egyptianName .\n",
    "    wd:Q22989102 sc:name ?greekName .\n",
    "    \n",
    "    ?egyptiandeity wdt:P31 wd:Q146083 ;\n",
    "       sc:name ?egyptiandeityName .\n",
    "\n",
    "    ?greekdeity wdt:P31 wd:Q22989102 ;\n",
    "           sc:name ?greekdeityName .\n",
    "\n",
    "}\n",
    "LIMIT 50\n",
    "\"\"\"\n",
    "\n",
    "print(\"Results\")\n",
    "x=run_query(queryString)"
   ]
  },
  {
   "cell_type": "code",
   "execution_count": null,
   "id": "7af2011b-2880-437b-bd1c-79a44ee4df3b",
   "metadata": {},
   "outputs": [],
   "source": []
  }
 ],
 "metadata": {
  "kernelspec": {
   "display_name": "Python 3",
   "language": "python",
   "name": "python3"
  },
  "language_info": {
   "codemirror_mode": {
    "name": "ipython",
    "version": 3
   },
   "file_extension": ".py",
   "mimetype": "text/x-python",
   "name": "python",
   "nbconvert_exporter": "python",
   "pygments_lexer": "ipython3",
   "version": "3.7.10"
  }
 },
 "nbformat": 4,
 "nbformat_minor": 5
}
