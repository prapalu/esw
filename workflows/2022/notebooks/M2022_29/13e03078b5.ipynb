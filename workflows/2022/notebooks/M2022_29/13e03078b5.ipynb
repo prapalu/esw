{
 "cells": [
  {
   "cell_type": "markdown",
   "id": "07015180",
   "metadata": {},
   "source": [
    "# General instructions\n",
    "\n",
    "The goal of the project is to materialize a set of **exploratory workloads** over a real-world, large-scale,  open-domain KG: [WikiData](https://www.wikidata.org/wiki/Wikidata:Main_Page)\n",
    "\n",
    "An exploratory workload  is composed by a set of queries, where each query is related to the information obtained previously.\n",
    "\n",
    "An exploratory workload starts with a usually vague, open ended question, and does not assume the person issuing the workload has a clear understanding of the data contained in the target database or its structure.\n",
    "\n",
    "Remeber that:\n",
    "\n",
    "1. All the queries must run in the python notebook\n",
    "2. You can use classes and properties only if you find them via a SPARQL query that must be present in the notebook\n",
    "3. You do not delete useless queries. Keep everything that is synthatically valid \n",
    "\n",
    "```\n",
    "?p <http://schema.org/name> ?name .\n",
    "```\n",
    "    \n",
    "    is the BGP returning a human-readable name of a property or a class in Wikidata."
   ]
  },
  {
   "cell_type": "code",
   "execution_count": 1,
   "id": "07f998d0",
   "metadata": {},
   "outputs": [],
   "source": [
    "## SETUP used later\n",
    "\n",
    "from SPARQLWrapper import SPARQLWrapper, JSON\n",
    "\n",
    "\n",
    "prefixString = \"\"\"\n",
    "##-13e03078b5-##\n",
    "PREFIX wd: <http://www.wikidata.org/entity/> \n",
    "PREFIX wdt: <http://www.wikidata.org/prop/direct/> \n",
    "PREFIX sc: <http://schema.org/>\n",
    "\"\"\"\n",
    "\n",
    "# select and construct queries\n",
    "def run_query(queryString,verbose = True):\n",
    "    to_run = prefixString + \"\\n\" + queryString\n",
    "\n",
    "    sparql = SPARQLWrapper(\"http://a256-gc1-03.srv.aau.dk:5820/sparql\")\n",
    "    sparql.setTimeout(300)\n",
    "    sparql.setReturnFormat(JSON)\n",
    "    sparql.setQuery(to_run)\n",
    "\n",
    "    try :\n",
    "        results = sparql.query()\n",
    "        json_results = results.convert()\n",
    "        if len(json_results['results']['bindings'])==0:\n",
    "            print(\"Empty\")\n",
    "            return []\n",
    "        array = []\n",
    "        for bindings in json_results['results']['bindings']:\n",
    "            app =  [ (var, value['value'])  for var, value in bindings.items() ] \n",
    "            if verbose:\n",
    "                print( app)\n",
    "            array.append(app)\n",
    "        if verbose:\n",
    "            print(len(array))\n",
    "        return array\n",
    "\n",
    "    except Exception as e :\n",
    "        print(\"The operation failed\", e)\n",
    "    \n",
    "# ASk queries\n",
    "def run_ask_query(queryString):\n",
    "    to_run = prefixString + \"\\n\" + queryString\n",
    "\n",
    "    sparql = SPARQLWrapper(\"http://a256-gc1-03.srv.aau.dk:5820/sparql\")\n",
    "    sparql.setTimeout(300)\n",
    "    sparql.setReturnFormat(JSON)\n",
    "    sparql.setQuery(to_run)\n",
    "\n",
    "    try :\n",
    "        return sparql.query().convert()\n",
    "\n",
    "    except Exception as e :\n",
    "        print(\"The operation failed\", e)"
   ]
  },
  {
   "cell_type": "markdown",
   "id": "b72b0cd5",
   "metadata": {},
   "source": [
    "# History Workflow Series (\"World Wide Web\") \n",
    "\n",
    "Consider the following exploratory information need:\n",
    "\n",
    "> Investigate the origins of the World Wide Web and related academic activities and scientists."
   ]
  },
  {
   "cell_type": "markdown",
   "id": "c2e91abd",
   "metadata": {},
   "source": [
    "## Useful URIs for the current workflow\n",
    "The following are given:\n",
    "\n",
    "| IRI           | Description   | Role      |\n",
    "| -----------   | -----------   |-----------|\n",
    "| `wdt:P1647`   | subproperty   | predicate |\n",
    "| `wdt:P31`     | instance of   | predicate |\n",
    "| `wdt:P106`    | occupation    | predicate | \n",
    "| `wdt:P279`    | subclass      | predicate |\n",
    "| `wdt:P27`     | nationality   | predicate |\n",
    "| `wdt:P3342`     | Significant person       | predicate |\n",
    "| `wd:Q5`| Human       | node |\n",
    "| `wd:Q466`| World Wide Web      | node |\n"
   ]
  },
  {
   "cell_type": "markdown",
   "id": "d159166f",
   "metadata": {},
   "source": [
    "\n",
    "\n",
    "\n",
    "Also consider\n",
    "\n",
    "```\n",
    "wd:Q466 ?p ?obj .\n",
    "```\n",
    "\n",
    "is the BGP to retrieve all **properties of World Wide Web**\n",
    "\n",
    "Please consider that when you return a resource, you should return the IRI and the label of the resource. In particular, when the task require you to identify a BGP the result set must always be a list of couples IRI - label.\n",
    "\n",
    "The workload should:\n",
    "\n",
    "1. Find the inventors of World Wide Web (return IRI and name).\n",
    "\n",
    "2. Identify the BGP for hypertext system.\n",
    "\n",
    "3. Find all the hypertext systems born before the 1980 (return the IRI and name of the system and the inception date).\n",
    "\n",
    "4. Identify the BGP for computer scientist\n",
    "\n",
    "5. Find how many computer scientists there are for each continent (consider their citizenship). Return the IRI and name of the continent and the number of scientists for each continent. \n",
    "\n",
    "6. Find all the computer scientists who thaught at the University of Cambridge (return IRI and name)\n",
    "\n",
    "7. Find all the computer scientists who wrote at least 5 books (please consider only the instances of book, exclude \"literary work\" or other type of work related to books). Return the IRI and name of the computer scientist and the number of books. "
   ]
  },
  {
   "cell_type": "markdown",
   "id": "f4cf06d7",
   "metadata": {
    "tags": []
   },
   "source": [
    "## Task 1\n",
    "Find the inventors of World Wide Web (return IRI and name)."
   ]
  },
  {
   "cell_type": "code",
   "execution_count": 2,
   "id": "9bd34454",
   "metadata": {},
   "outputs": [
    {
     "name": "stdout",
     "output_type": "stream",
     "text": [
      "Results\n",
      "[('p', 'http://www.wikidata.org/prop/direct/P1051'), ('pname', 'PSH ID')]\n",
      "[('p', 'http://www.wikidata.org/prop/direct/P1225'), ('pname', 'U.S. National Archives Identifier')]\n",
      "[('p', 'http://www.wikidata.org/prop/direct/P1417'), ('pname', 'Encyclopædia Britannica Online ID')]\n",
      "[('p', 'http://www.wikidata.org/prop/direct/P1430'), ('pname', 'OpenPlaques subject ID')]\n",
      "[('p', 'http://www.wikidata.org/prop/direct/P1482'), ('pname', 'Stack Exchange tag')]\n",
      "[('p', 'http://www.wikidata.org/prop/direct/P1542'), ('pname', 'has effect')]\n",
      "[('p', 'http://www.wikidata.org/prop/direct/P1813'), ('pname', 'short name')]\n",
      "[('p', 'http://www.wikidata.org/prop/direct/P1889'), ('pname', 'different from')]\n",
      "[('p', 'http://www.wikidata.org/prop/direct/P2004'), ('pname', 'NALT ID')]\n",
      "[('p', 'http://www.wikidata.org/prop/direct/P2163'), ('pname', 'FAST ID')]\n",
      "[('p', 'http://www.wikidata.org/prop/direct/P2184'), ('pname', 'history of topic')]\n",
      "[('p', 'http://www.wikidata.org/prop/direct/P227'), ('pname', 'GND ID')]\n",
      "[('p', 'http://www.wikidata.org/prop/direct/P2347'), ('pname', 'YSO ID')]\n",
      "[('p', 'http://www.wikidata.org/prop/direct/P244'), ('pname', 'Library of Congress authority ID')]\n",
      "[('p', 'http://www.wikidata.org/prop/direct/P2581'), ('pname', 'BabelNet ID')]\n",
      "[('p', 'http://www.wikidata.org/prop/direct/P2612'), ('pname', 'TED topic ID')]\n",
      "[('p', 'http://www.wikidata.org/prop/direct/P268'), ('pname', 'Bibliothèque nationale de France ID')]\n",
      "[('p', 'http://www.wikidata.org/prop/direct/P279'), ('pname', 'subclass of')]\n",
      "[('p', 'http://www.wikidata.org/prop/direct/P2959'), ('pname', 'permanent duplicated item')]\n",
      "[('p', 'http://www.wikidata.org/prop/direct/P31'), ('pname', 'instance of')]\n",
      "[('p', 'http://www.wikidata.org/prop/direct/P3222'), ('pname', 'NE.se ID')]\n",
      "[('p', 'http://www.wikidata.org/prop/direct/P3381'), ('pname', 'File Format Wiki page ID')]\n",
      "[('p', 'http://www.wikidata.org/prop/direct/P3417'), ('pname', 'Quora topic ID')]\n",
      "[('p', 'http://www.wikidata.org/prop/direct/P3553'), ('pname', 'Zhihu topic ID')]\n",
      "[('p', 'http://www.wikidata.org/prop/direct/P373'), ('pname', 'Commons category')]\n",
      "[('p', 'http://www.wikidata.org/prop/direct/P3827'), ('pname', 'JSTOR topic ID')]\n",
      "[('p', 'http://www.wikidata.org/prop/direct/P3847'), ('pname', 'Open Library subject ID')]\n",
      "[('p', 'http://www.wikidata.org/prop/direct/P4342'), ('pname', 'Store norske leksikon ID')]\n",
      "[('p', 'http://www.wikidata.org/prop/direct/P5008'), ('pname', 'on focus list of Wikimedia project')]\n",
      "[('p', 'http://www.wikidata.org/prop/direct/P5019'), ('pname', 'Brockhaus Enzyklopädie online ID')]\n",
      "[('p', 'http://www.wikidata.org/prop/direct/P508'), ('pname', 'BNCF Thesaurus ID')]\n",
      "[('p', 'http://www.wikidata.org/prop/direct/P527'), ('pname', 'has part')]\n",
      "[('p', 'http://www.wikidata.org/prop/direct/P5398'), ('pname', 'TDKIV term ID')]\n",
      "[('p', 'http://www.wikidata.org/prop/direct/P571'), ('pname', 'inception')]\n",
      "[('p', 'http://www.wikidata.org/prop/direct/P575'), ('pname', 'time of discovery or invention')]\n",
      "[('p', 'http://www.wikidata.org/prop/direct/P61'), ('pname', 'discoverer or inventor')]\n",
      "[('p', 'http://www.wikidata.org/prop/direct/P6366'), ('pname', 'Microsoft Academic ID')]\n",
      "[('p', 'http://www.wikidata.org/prop/direct/P646'), ('pname', 'Freebase ID')]\n",
      "[('p', 'http://www.wikidata.org/prop/direct/P6611'), ('pname', 'Semantic Scholar topic ID')]\n",
      "[('p', 'http://www.wikidata.org/prop/direct/P7033'), ('pname', 'Australian Educational Vocabulary ID')]\n",
      "40\n"
     ]
    }
   ],
   "source": [
    "# query example\n",
    "# I find inventor wdt:P61\n",
    "queryString = \"\"\"\n",
    "SELECT DISTINCT ?p ?pname\n",
    "WHERE {\n",
    "   # bind something\n",
    "   wd:Q466 ?p ?o.\n",
    "   # get the label\n",
    "   ?p sc:name ?pname.\n",
    "}\n",
    "LIMIT 40\n",
    "\"\"\"\n",
    "\n",
    "print(\"Results\")\n",
    "x=run_query(queryString)"
   ]
  },
  {
   "cell_type": "markdown",
   "id": "482cb8f5",
   "metadata": {},
   "source": [
    "Final query for this task"
   ]
  },
  {
   "cell_type": "code",
   "execution_count": 3,
   "id": "597d458a",
   "metadata": {},
   "outputs": [
    {
     "name": "stdout",
     "output_type": "stream",
     "text": [
      "Results\n",
      "[('name', 'Tim Berners-Lee')]\n",
      "[('name', 'Robert Cailliau')]\n",
      "2\n"
     ]
    }
   ],
   "source": [
    "# write your final query\n",
    "#i find name of inventors\n",
    "queryString = \"\"\"\n",
    "SELECT DISTINCT ?p ?name\n",
    "WHERE {\n",
    "   # bind something\n",
    "   wd:Q466 wdt:P61 ?inventor.\n",
    "   # get the label\n",
    "   ?inventor sc:name ?name.\n",
    "}\n",
    "LIMIT 10\n",
    "\"\"\"\n",
    "\n",
    "print(\"Results\")\n",
    "x=run_query(queryString)"
   ]
  },
  {
   "cell_type": "markdown",
   "id": "46ecc6ed",
   "metadata": {
    "tags": []
   },
   "source": [
    "## Task 2\n",
    "Identify the BGP for hypertext system."
   ]
  },
  {
   "cell_type": "code",
   "execution_count": 15,
   "id": "12efb947",
   "metadata": {},
   "outputs": [
    {
     "name": "stdout",
     "output_type": "stream",
     "text": [
      "Results\n",
      "[('hypertext', 'http://www.wikidata.org/entity/Q65966993'), ('hypertext_name', 'hypertext system')]\n",
      "1\n"
     ]
    }
   ],
   "source": [
    "# write your queries\n",
    "\n",
    "\n",
    "queryString = \"\"\"\n",
    "SELECT DISTINCT ?hypertext ?hypertext_name\n",
    "WHERE {\n",
    " \n",
    "   # bind something\n",
    "   wd:Q466 ?p ?hypertext.\n",
    "   # get the label\n",
    "   ?hypertext sc:name ?hypertext_name.\n",
    "   FILTER REGEX(?hypertext_name, 'hypertext')\n",
    "\n",
    "}\n",
    "\n",
    "LIMIT 20\n",
    "\"\"\"\n",
    "\n",
    "print(\"Results\")\n",
    "x=run_query(queryString)"
   ]
  },
  {
   "cell_type": "markdown",
   "id": "b6a1f1a6",
   "metadata": {},
   "source": [
    "Final query for this task"
   ]
  },
  {
   "cell_type": "code",
   "execution_count": 4,
   "id": "e6d30015-7715-49b4-a3d0-eedcb1bb0979",
   "metadata": {},
   "outputs": [
    {
     "name": "stdout",
     "output_type": "stream",
     "text": [
      "Results\n",
      "[('o', 'http://www.wikidata.org/entity/Q131093'), ('oname', 'content management system'), ('p', 'http://www.wikidata.org/prop/direct/P279'), ('pname', 'subclass of')]\n",
      "[('o', 'http://www.wikidata.org/entity/Q17155032'), ('oname', 'software category'), ('p', 'http://www.wikidata.org/prop/direct/P31'), ('pname', 'instance of')]\n",
      "2\n"
     ]
    }
   ],
   "source": [
    "# write your final query\n",
    "# hypertext is subject and we need to find object and predicate\n",
    "\n",
    "\n",
    "queryString = \"\"\"\n",
    "SELECT DISTINCT ?o  ?oname ?p ?pname\n",
    "WHERE {\n",
    " \n",
    "   # bind something\n",
    "   wd:Q65966993 ?p ?o.\n",
    "   # get the label\n",
    "   ?o sc:name ?oname.\n",
    "   ?p sc:name ?pname.\n",
    "\n",
    "}\n",
    "LIMIT 20\n",
    "\n",
    "\"\"\"\n",
    "\n",
    "print(\"Results\")\n",
    "x=run_query(queryString)"
   ]
  },
  {
   "cell_type": "code",
   "execution_count": 17,
   "id": "b53a4860-716e-450c-8825-92a77907675d",
   "metadata": {},
   "outputs": [
    {
     "name": "stdout",
     "output_type": "stream",
     "text": [
      "Results\n",
      "[('s', 'http://www.wikidata.org/entity/Q6686945'), ('sname', 'wiki software'), ('p', 'http://www.wikidata.org/prop/direct/P279'), ('pname', 'subclass of')]\n",
      "[('s', 'http://www.wikidata.org/entity/Q7246937'), ('sname', 'Problem-Oriented Medical Information System'), ('p', 'http://www.wikidata.org/prop/direct/P279'), ('pname', 'subclass of')]\n",
      "[('s', 'http://www.wikidata.org/entity/Q466'), ('sname', 'World Wide Web'), ('p', 'http://www.wikidata.org/prop/direct/P31'), ('pname', 'instance of')]\n",
      "[('s', 'http://www.wikidata.org/entity/Q370979'), ('sname', 'Amigaguide'), ('p', 'http://www.wikidata.org/prop/direct/P31'), ('pname', 'instance of')]\n",
      "[('s', 'http://www.wikidata.org/entity/Q2385520'), ('sname', 'ENQUIRE'), ('p', 'http://www.wikidata.org/prop/direct/P31'), ('pname', 'instance of')]\n",
      "[('s', 'http://www.wikidata.org/entity/Q4994212'), ('sname', 'Hypertext Editing System'), ('p', 'http://www.wikidata.org/prop/direct/P31'), ('pname', 'instance of')]\n",
      "[('s', 'http://www.wikidata.org/entity/Q5448331'), ('sname', 'File Retrieval and Editing System'), ('p', 'http://www.wikidata.org/prop/direct/P31'), ('pname', 'instance of')]\n",
      "[('s', 'http://www.wikidata.org/entity/Q785345'), ('sname', 'Project Xanadu'), ('p', 'http://www.wikidata.org/prop/direct/P31'), ('pname', 'instance of')]\n",
      "[('s', 'http://www.wikidata.org/entity/Q1799609'), ('sname', 'HyTime'), ('p', 'http://www.wikidata.org/prop/direct/P31'), ('pname', 'instance of')]\n",
      "[('s', 'http://www.wikidata.org/entity/Q7742259'), ('sname', 'The Interactive Encyclopedia System'), ('p', 'http://www.wikidata.org/prop/direct/P31'), ('pname', 'instance of')]\n",
      "10\n"
     ]
    }
   ],
   "source": [
    "# write your final query\n",
    "\n",
    "\n",
    "queryString = \"\"\"\n",
    "SELECT DISTINCT  ?s ?sname ?p ?pname \n",
    "WHERE {\n",
    " \n",
    "   # bind something\n",
    "    ?s ?p wd:Q65966993.\n",
    "   # get the label\n",
    "   ?s sc:name ?sname.\n",
    "   ?p sc:name ?pname.\n",
    "\n",
    "}\n",
    "\n",
    "LIMIT 10\n",
    "\"\"\"\n",
    "\n",
    "print(\"Results\")\n",
    "x=run_query(queryString)"
   ]
  },
  {
   "cell_type": "markdown",
   "id": "667f69b6",
   "metadata": {},
   "source": [
    "## Task 3\n",
    "Find all the hypertext systems born before the 1980 (return the IRI and name of the system and the inception date)."
   ]
  },
  {
   "cell_type": "code",
   "execution_count": 82,
   "id": "3de20e07-e43d-4c95-ad5d-e17ad784a7f7",
   "metadata": {},
   "outputs": [
    {
     "name": "stdout",
     "output_type": "stream",
     "text": [
      "Results\n",
      "[('p', 'http://www.wikidata.org/prop/direct/P31'), ('pname', 'instance of')]\n",
      "1\n"
     ]
    }
   ],
   "source": [
    "# write your final query\n",
    "# I want to know relation between world wide web and hypertext system how they are connected\n",
    "\n",
    "queryString = \"\"\"\n",
    "SELECT DISTINCT ?p   ?pname \n",
    "WHERE {\n",
    " \n",
    "   # bind something\n",
    "   wd:Q466 ?p wd:Q65966993.\n",
    "   # get the label\n",
    "   ?p sc:name ?pname.\n",
    "\n",
    "}\n",
    "\n",
    "LIMIT 15\n",
    "\"\"\"\n",
    "\n",
    "print(\"Results\")\n",
    "x=run_query(queryString)"
   ]
  },
  {
   "cell_type": "code",
   "execution_count": 18,
   "id": "08c3cc66-d14d-4509-8e43-c738f7050b26",
   "metadata": {},
   "outputs": [
    {
     "name": "stdout",
     "output_type": "stream",
     "text": [
      "Results\n",
      "[('p', 'http://www.wikidata.org/prop/direct/P1051'), ('pname', 'PSH ID')]\n",
      "[('p', 'http://www.wikidata.org/prop/direct/P1225'), ('pname', 'U.S. National Archives Identifier')]\n",
      "[('p', 'http://www.wikidata.org/prop/direct/P1417'), ('pname', 'Encyclopædia Britannica Online ID')]\n",
      "[('p', 'http://www.wikidata.org/prop/direct/P1430'), ('pname', 'OpenPlaques subject ID')]\n",
      "[('p', 'http://www.wikidata.org/prop/direct/P1482'), ('pname', 'Stack Exchange tag')]\n",
      "[('p', 'http://www.wikidata.org/prop/direct/P1542'), ('pname', 'has effect')]\n",
      "[('p', 'http://www.wikidata.org/prop/direct/P1813'), ('pname', 'short name')]\n",
      "[('p', 'http://www.wikidata.org/prop/direct/P1889'), ('pname', 'different from')]\n",
      "[('p', 'http://www.wikidata.org/prop/direct/P2004'), ('pname', 'NALT ID')]\n",
      "[('p', 'http://www.wikidata.org/prop/direct/P2163'), ('pname', 'FAST ID')]\n",
      "10\n"
     ]
    }
   ],
   "source": [
    "# query example\n",
    "# I want to find bgp world wide web in order to determine predicate for born and its value \n",
    "# here I find P571 for born  \n",
    "queryString = \"\"\"\n",
    "SELECT DISTINCT ?p ?pname\n",
    "WHERE {\n",
    "   # bind something\n",
    "   wd:Q466 ?p ?o.\n",
    "   # get the label\n",
    "   ?p sc:name ?pname.\n",
    "}\n",
    "LIMIT 10\n",
    "\"\"\"\n",
    "\n",
    "print(\"Results\")\n",
    "x=run_query(queryString)"
   ]
  },
  {
   "cell_type": "code",
   "execution_count": 113,
   "id": "abcb6f4f",
   "metadata": {},
   "outputs": [
    {
     "name": "stdout",
     "output_type": "stream",
     "text": [
      "Results\n",
      "[('name_of_instance', 'Aspen Movie Map'), ('date', '1978')]\n",
      "[('name_of_instance', 'Electronic Document System'), ('date', '1978')]\n",
      "[('name_of_instance', 'ZOG'), ('date', '1977')]\n",
      "[('name_of_instance', 'File Retrieval and Editing System'), ('date', '1968')]\n",
      "[('name_of_instance', 'Hypertext Editing System'), ('date', '1967')]\n",
      "[('name_of_instance', 'oNLine System'), ('date', '1962')]\n",
      "[('name_of_instance', 'Project Xanadu'), ('date', '1960')]\n",
      "[('name_of_instance', 'Memex'), ('date', '1939')]\n",
      "8\n"
     ]
    }
   ],
   "source": [
    "# write your final query\n",
    "# I find all instance of hyper text which are created before 1980\n",
    "\n",
    "queryString = \"\"\"\n",
    "SELECT DISTINCT  ?name_of_instance (YEAR(?when) as ?date) \n",
    "WHERE {\n",
    " \n",
    "    # bind something\n",
    "    ?instance_of_hypertext wdt:P31 wd:Q65966993;\n",
    "                          wdt:P571  ?when.\n",
    "    # get the label\n",
    "    ?instance_of_hypertext sc:name ?name_of_instance.\n",
    " \n",
    "     FILTER(YEAR(?when) < 1980)\n",
    "}\n",
    "order by desc (?when)\n",
    "LIMIT 15\n",
    "\"\"\"\n",
    "\n",
    "print(\"Results\")\n",
    "x=run_query(queryString)"
   ]
  },
  {
   "cell_type": "markdown",
   "id": "40528811",
   "metadata": {},
   "source": [
    "Final query for this task"
   ]
  },
  {
   "cell_type": "markdown",
   "id": "36a0163b",
   "metadata": {},
   "source": [
    "## Task 4\n",
    "Identify the BGP for computer scientist"
   ]
  },
  {
   "cell_type": "code",
   "execution_count": 23,
   "id": "76b83084",
   "metadata": {},
   "outputs": [
    {
     "name": "stdout",
     "output_type": "stream",
     "text": [
      "Results\n",
      "[('job', 'http://www.wikidata.org/entity/Q82594'), ('job_name', 'computer scientist')]\n",
      "1\n"
     ]
    }
   ],
   "source": [
    "# write your queries\n",
    "# i find computer scientisit wd:Q82594\n",
    "\n",
    "queryString = \"\"\"\n",
    "SELECT DISTINCT ?job ?job_name\n",
    "WHERE {\n",
    " \n",
    "   # bind something\n",
    "   ?s wdt:P106 ?job;\n",
    "      wdt:P31  wd:Q5.\n",
    "   # get the label\n",
    "   ?s sc:name ?sname.\n",
    "   ?job sc:name ?job_name.\n",
    "   FILTER REGEX(?job_name,'computer scientist')\n",
    "}\n",
    "\n",
    "LIMIT 1\n",
    "\"\"\"\n",
    "\n",
    "print(\"Results\")\n",
    "x=run_query(queryString)"
   ]
  },
  {
   "cell_type": "markdown",
   "id": "b32a9978",
   "metadata": {},
   "source": [
    "Final query for this task"
   ]
  },
  {
   "cell_type": "code",
   "execution_count": 24,
   "id": "f28d4d5b-55cd-4c3d-91d2-cb24c0be6c4e",
   "metadata": {},
   "outputs": [
    {
     "name": "stdout",
     "output_type": "stream",
     "text": [
      "Results\n",
      "[('p', 'http://www.wikidata.org/prop/direct/P1014'), ('pname', 'Art & Architecture Thesaurus ID')]\n",
      "[('p', 'http://www.wikidata.org/prop/direct/P1036'), ('pname', 'Dewey Decimal Classification')]\n",
      "[('p', 'http://www.wikidata.org/prop/direct/P1245'), ('pname', 'OmegaWiki Defined Meaning')]\n",
      "[('p', 'http://www.wikidata.org/prop/direct/P1296'), ('pname', 'Gran Enciclopèdia Catalana ID')]\n",
      "[('p', 'http://www.wikidata.org/prop/direct/P18'), ('pname', 'image')]\n",
      "[('p', 'http://www.wikidata.org/prop/direct/P1889'), ('pname', 'different from')]\n",
      "[('p', 'http://www.wikidata.org/prop/direct/P227'), ('pname', 'GND ID')]\n",
      "[('p', 'http://www.wikidata.org/prop/direct/P2283'), ('pname', 'uses')]\n",
      "[('p', 'http://www.wikidata.org/prop/direct/P2354'), ('pname', 'has list')]\n",
      "[('p', 'http://www.wikidata.org/prop/direct/P244'), ('pname', 'Library of Congress authority ID')]\n",
      "10\n"
     ]
    }
   ],
   "source": [
    "# write your queries\n",
    "#I find bgp of computer scientist\n",
    "\n",
    "\n",
    "queryString = \"\"\"\n",
    "SELECT DISTINCT ?p   ?pname ?o ?oname\n",
    "WHERE {\n",
    " \n",
    "   # bind something\n",
    "   wd:Q82594 ?p  ?o.\n",
    "   # get the label\n",
    "   ?p sc:name ?pname.\n",
    "   ?o sc:name ?oname.\n",
    "\n",
    "}\n",
    "\n",
    "LIMIT 10\n",
    "\"\"\"\n",
    "\n",
    "print(\"Results\")\n",
    "x=run_query(queryString)"
   ]
  },
  {
   "cell_type": "markdown",
   "id": "dd1d2552",
   "metadata": {},
   "source": [
    "## Task 5\n",
    "Find how many computer scientists there are for each continent (consider their citizenship). Return the IRI and name of the continent and the number of scientists for each continent."
   ]
  },
  {
   "cell_type": "markdown",
   "id": "6633f276",
   "metadata": {},
   "source": [
    "Final query for this task"
   ]
  },
  {
   "cell_type": "code",
   "execution_count": 27,
   "id": "8f3f97aa-16d0-436a-93d5-88cda4490b82",
   "metadata": {},
   "outputs": [
    {
     "name": "stdout",
     "output_type": "stream",
     "text": [
      "Results\n",
      "[('person', 'http://www.wikidata.org/entity/Q8190500'), ('pname', 'Seinosuke Toda'), ('nationality', 'http://www.wikidata.org/entity/Q17'), ('nname', 'Japan')]\n",
      "[('person', 'http://www.wikidata.org/entity/Q603999'), ('pname', 'Kevin Poulsen'), ('nationality', 'http://www.wikidata.org/entity/Q30'), ('nname', 'United States of America')]\n",
      "[('person', 'http://www.wikidata.org/entity/Q11109023'), ('pname', 'Michael Barr'), ('nationality', 'http://www.wikidata.org/entity/Q16'), ('nname', 'Canada')]\n",
      "[('person', 'http://www.wikidata.org/entity/Q20731777'), ('pname', 'Valeria de Paiva'), ('nationality', 'http://www.wikidata.org/entity/Q155'), ('nname', 'Brazil')]\n",
      "[('person', 'http://www.wikidata.org/entity/Q20731777'), ('pname', 'Valeria de Paiva'), ('nationality', 'http://www.wikidata.org/entity/Q145'), ('nname', 'United Kingdom')]\n",
      "[('person', 'http://www.wikidata.org/entity/Q24901829'), ('pname', 'Ernesto Damiani'), ('nationality', 'http://www.wikidata.org/entity/Q38'), ('nname', 'Italy')]\n",
      "[('person', 'http://www.wikidata.org/entity/Q6539960'), ('pname', 'Liang-Jie Zhang'), ('nationality', 'http://www.wikidata.org/entity/Q30'), ('nname', 'United States of America')]\n",
      "[('person', 'http://www.wikidata.org/entity/Q92669'), ('pname', 'Jeffrey Shallit'), ('nationality', 'http://www.wikidata.org/entity/Q30'), ('nname', 'United States of America')]\n",
      "[('person', 'http://www.wikidata.org/entity/Q15842362'), ('pname', 'Richard Clippinger'), ('nationality', 'http://www.wikidata.org/entity/Q30'), ('nname', 'United States of America')]\n",
      "[('person', 'http://www.wikidata.org/entity/Q15858435'), ('pname', 'Hardo Bourguignon'), ('nationality', 'http://www.wikidata.org/entity/Q29999'), ('nname', 'Kingdom of the Netherlands')]\n",
      "[('person', 'http://www.wikidata.org/entity/Q15917430'), ('pname', 'A. Ollongren'), ('nationality', 'http://www.wikidata.org/entity/Q29999'), ('nname', 'Kingdom of the Netherlands')]\n",
      "[('person', 'http://www.wikidata.org/entity/Q16018928'), ('pname', 'Jim Thomas'), ('nationality', 'http://www.wikidata.org/entity/Q30'), ('nname', 'United States of America')]\n",
      "[('person', 'http://www.wikidata.org/entity/Q241735'), ('pname', 'Robert Noyce'), ('nationality', 'http://www.wikidata.org/entity/Q30'), ('nname', 'United States of America')]\n",
      "[('person', 'http://www.wikidata.org/entity/Q7312654'), ('pname', 'Renato M. E. Sabbatini'), ('nationality', 'http://www.wikidata.org/entity/Q155'), ('nname', 'Brazil')]\n",
      "[('person', 'http://www.wikidata.org/entity/Q16174254'), ('pname', 'Drude Berntsen'), ('nationality', 'http://www.wikidata.org/entity/Q20'), ('nname', 'Norway')]\n",
      "15\n"
     ]
    }
   ],
   "source": [
    "# show the nationality and person names \n",
    "# we should find the person with job is P106 and his/her nationality P27\n",
    "\n",
    "\n",
    "queryString = \"\"\"\n",
    "SELECT DISTINCT ?person ?pname ?nationality ?nname\n",
    "WHERE {\n",
    "      # bind something\n",
    "      ?person wdt:P106  wd:Q82594;\n",
    "              wdt:P27 ?nationality.\n",
    "      # get the label\n",
    "      ?person sc:name ?pname.\n",
    "      ?nationality sc:name ?nname.\n",
    "   \n",
    " \n",
    "}\n",
    "\n",
    "LIMIT 15\n",
    "\"\"\"\n",
    "\n",
    "print(\"Results\")\n",
    "x=run_query(queryString)"
   ]
  },
  {
   "cell_type": "code",
   "execution_count": 32,
   "id": "a02b262b-a4f6-41e3-b985-048ea8972f14",
   "metadata": {},
   "outputs": [
    {
     "name": "stdout",
     "output_type": "stream",
     "text": [
      "Results\n",
      "[('p', 'http://www.wikidata.org/prop/direct/P30'), ('pname', 'continent'), ('cname', 'North America')]\n",
      "[('p', 'http://www.wikidata.org/prop/direct/P30'), ('pname', 'continent'), ('cname', 'Insular Oceania')]\n",
      "2\n"
     ]
    }
   ],
   "source": [
    "# from the last query I find that the USA is Q30 so we need to find relation between USA and its continent\n",
    "#here we find continent is P30\n",
    "queryString = \"\"\"\n",
    "SELECT DISTINCT ?p ?pname ?cname\n",
    "WHERE {\n",
    "    # bind something\n",
    "     wd:Q30 ?p ?continent.\n",
    "    # get the label\n",
    "    ?continent sc:name ?cname.\n",
    "    ?p sc:name ?pname.\n",
    "    Filter regex(?pname,'continent','i')\n",
    "\n",
    "}\n",
    "\n",
    "\n",
    "LIMIT 15\n",
    "\"\"\"\n",
    "\n",
    "print(\"Results\")\n",
    "x=run_query(queryString)"
   ]
  },
  {
   "cell_type": "code",
   "execution_count": 61,
   "id": "4584f8a3-2298-4ad0-b3e5-21ed24b7b3dc",
   "metadata": {},
   "outputs": [
    {
     "name": "stdout",
     "output_type": "stream",
     "text": [
      "Results\n",
      "[('continent', 'http://www.wikidata.org/entity/Q5401'), ('cname', 'Eurasia'), ('howmany', '23')]\n",
      "[('continent', 'http://www.wikidata.org/entity/Q46'), ('cname', 'Europe'), ('howmany', '3487')]\n",
      "[('continent', 'http://www.wikidata.org/entity/Q538'), ('cname', 'Insular Oceania'), ('howmany', '2482')]\n",
      "[('continent', 'http://www.wikidata.org/entity/Q48'), ('cname', 'Asia'), ('howmany', '953')]\n",
      "[('continent', 'http://www.wikidata.org/entity/Q15'), ('cname', 'Africa'), ('howmany', '76')]\n",
      "[('continent', 'http://www.wikidata.org/entity/Q18'), ('cname', 'South America'), ('howmany', '92')]\n",
      "[('continent', 'http://www.wikidata.org/entity/Q49'), ('cname', 'North America'), ('howmany', '2785')]\n",
      "7\n"
     ]
    }
   ],
   "source": [
    "\n",
    "\n",
    "queryString = \"\"\"\n",
    "SELECT DISTINCT  ?continent   ?cname (count(?person) as ?howmany)\n",
    "WHERE {\n",
    "    # bind something\n",
    "    ?person wdt:P106  wd:Q82594;\n",
    "            wdt:P27 ?nationality.\n",
    "    ?nationality wdt:P30 ?continent.\n",
    "    # get the label\n",
    "    ?continent sc:name ?cname.\n",
    "\n",
    "}\n",
    "#group by (?cname)\n",
    "\n",
    "\"\"\"\n",
    "\n",
    "print(\"Results\")\n",
    "x=run_query(queryString)"
   ]
  },
  {
   "cell_type": "code",
   "execution_count": 62,
   "id": "4431302c-a3e8-4be2-9e68-c70be6768d7e",
   "metadata": {},
   "outputs": [
    {
     "name": "stdout",
     "output_type": "stream",
     "text": [
      "Results\n",
      "[('continent', 'http://www.wikidata.org/entity/Q5401'), ('continent_name', 'Eurasia'), ('howmany', '23')]\n",
      "[('continent', 'http://www.wikidata.org/entity/Q46'), ('continent_name', 'Europe'), ('howmany', '3487')]\n",
      "[('continent', 'http://www.wikidata.org/entity/Q538'), ('continent_name', 'Insular Oceania'), ('howmany', '2482')]\n",
      "[('continent', 'http://www.wikidata.org/entity/Q48'), ('continent_name', 'Asia'), ('howmany', '953')]\n",
      "[('continent', 'http://www.wikidata.org/entity/Q15'), ('continent_name', 'Africa'), ('howmany', '76')]\n",
      "[('continent', 'http://www.wikidata.org/entity/Q18'), ('continent_name', 'South America'), ('howmany', '92')]\n",
      "[('continent', 'http://www.wikidata.org/entity/Q49'), ('continent_name', 'North America'), ('howmany', '2785')]\n",
      "7\n"
     ]
    }
   ],
   "source": [
    "\n",
    "\n",
    "queryString = \"\"\"\n",
    "SELECT ?continent  ?continent_name (count(?country) as ?howmany)\n",
    "WHERE {\n",
    "?country wdt:P30 ?continent.\n",
    "?continent sc:name ?continent_name\n",
    "filter(?nationality=?country)\n",
    "    {SELECT  ?nationality\n",
    "    WHERE {\n",
    "        # bind something\n",
    "        ?person wdt:P106  wd:Q82594;\n",
    "                wdt:P27 ?nationality.\n",
    "\n",
    "    }}}\n",
    "#group by (?continent)\n",
    "\n",
    "\"\"\"\n",
    "\n",
    "print(\"Results\")\n",
    "x=run_query(queryString)"
   ]
  },
  {
   "cell_type": "markdown",
   "id": "6d6b2bca",
   "metadata": {},
   "source": [
    "## Task 6\n",
    "Find all the computer scientists who thaught at the University of Cambridge (return IRI and name)"
   ]
  },
  {
   "cell_type": "code",
   "execution_count": 69,
   "id": "90573494",
   "metadata": {},
   "outputs": [
    {
     "name": "stdout",
     "output_type": "stream",
     "text": [
      "Results\n",
      "[('p', 'http://www.wikidata.org/prop/direct/P69'), ('pname', 'educated at'), ('o', 'http://www.wikidata.org/entity/Q35794'), ('oname', 'University of Cambridge')]\n",
      "[('p', 'http://www.wikidata.org/prop/direct/P108'), ('pname', 'employer'), ('o', 'http://www.wikidata.org/entity/Q35794'), ('oname', 'University of Cambridge')]\n",
      "[('p', 'http://www.wikidata.org/prop/direct/P166'), ('pname', 'award received'), ('o', 'http://www.wikidata.org/entity/Q41795465'), ('oname', 'honorary doctor of the University of Cambridge')]\n",
      "3\n"
     ]
    }
   ],
   "source": [
    "# write your queries\n",
    "# we find  university cambridge is Q35794 and each person relation to university of cambridge  \n",
    "queryString = \"\"\"\n",
    "SELECT DISTINCT  ?p  ?pname ?o ?oname\n",
    "WHERE {\n",
    " \n",
    "   # bind something\n",
    "   ?person wdt:P106 wd:Q82594;\n",
    "           wdt:P31  wd:Q5;\n",
    "           ?p ?o.\n",
    "    \n",
    "   # get the label\n",
    "   ?p sc:name ?pname.\n",
    "   ?o sc:name ?oname.\n",
    "   filter regex(?oname,\"University of Cambridge\")\n",
    "  \n",
    "}\n",
    "\n",
    "limit 10\n",
    "\"\"\"\n",
    "\n",
    "print(\"Results\")\n",
    "x=run_query(queryString)"
   ]
  },
  {
   "cell_type": "markdown",
   "id": "4cfcfdbf",
   "metadata": {},
   "source": [
    "Final query for this task"
   ]
  },
  {
   "cell_type": "code",
   "execution_count": 72,
   "id": "def1f862-d0fc-4f8a-bf14-be578df94376",
   "metadata": {},
   "outputs": [
    {
     "name": "stdout",
     "output_type": "stream",
     "text": [
      "Results\n",
      "[('s', 'http://www.wikidata.org/entity/Q92944'), ('sname', 'David Wheeler')]\n",
      "[('s', 'http://www.wikidata.org/entity/Q7251'), ('sname', 'Alan Turing')]\n",
      "[('s', 'http://www.wikidata.org/entity/Q365578'), ('sname', 'Nathan Myhrvold')]\n",
      "[('s', 'http://www.wikidata.org/entity/Q446862'), ('sname', 'David J. C. MacKay')]\n",
      "[('s', 'http://www.wikidata.org/entity/Q92431724'), ('sname', 'Andrew Pitts')]\n",
      "[('s', 'http://www.wikidata.org/entity/Q46633'), ('sname', 'Charles Babbage')]\n",
      "[('s', 'http://www.wikidata.org/entity/Q7259'), ('sname', 'Ada Lovelace')]\n",
      "[('s', 'http://www.wikidata.org/entity/Q62857'), ('sname', 'Maurice Wilkes')]\n",
      "[('s', 'http://www.wikidata.org/entity/Q7176624'), ('sname', 'Peter Robinson')]\n",
      "[('s', 'http://www.wikidata.org/entity/Q451770'), ('sname', 'Douglas Hartree')]\n",
      "[('s', 'http://www.wikidata.org/entity/Q6135125'), ('sname', 'James H. Davenport')]\n",
      "[('s', 'http://www.wikidata.org/entity/Q4707402'), ('sname', 'Alan Mycroft')]\n",
      "[('s', 'http://www.wikidata.org/entity/Q10348961'), ('sname', 'Peter Russell')]\n",
      "[('s', 'http://www.wikidata.org/entity/Q63126308'), ('sname', 'Peter Földiák')]\n",
      "[('s', 'http://www.wikidata.org/entity/Q216811'), ('sname', 'John Venn')]\n",
      "[('s', 'http://www.wikidata.org/entity/Q5538146'), ('sname', 'George Coulouris')]\n",
      "[('s', 'http://www.wikidata.org/entity/Q6504468'), ('sname', 'Lawrence Paulson')]\n",
      "[('s', 'http://www.wikidata.org/entity/Q15989962'), ('sname', 'Neil Dodgson')]\n",
      "[('s', 'http://www.wikidata.org/entity/Q62036851'), ('sname', 'Mateja Jamnik')]\n",
      "[('s', 'http://www.wikidata.org/entity/Q62004384'), ('sname', 'Heidi Howard')]\n",
      "20\n"
     ]
    }
   ],
   "source": [
    "# wd:Q35794 university of cambridge\n",
    "# wdt:P108 employer\n",
    "queryString = \"\"\"\n",
    "SELECT DISTINCT ?s  ?sname \n",
    "WHERE {\n",
    " \n",
    "    # bind something\n",
    "    ?s wdt:P106 wd:Q82594;\n",
    "       wdt:P108 wd:Q35794.\n",
    "    # get the label\n",
    "    ?s sc:name ?sname.\n",
    "\n",
    "}\n",
    "\n",
    "LIMIT 20\n",
    "\"\"\"\n",
    "\n",
    "print(\"Results\")\n",
    "x=run_query(queryString)"
   ]
  },
  {
   "cell_type": "markdown",
   "id": "614a09fa",
   "metadata": {
    "tags": []
   },
   "source": [
    "## Task 7\n",
    "Find all the computer scientists who wrote at least 5 books (please consider only the instances of book, exclude \"literary work\" or other type of work related to books). Return the IRI and name of the computer scientist and the number of books."
   ]
  },
  {
   "cell_type": "code",
   "execution_count": 74,
   "id": "84cfef55",
   "metadata": {},
   "outputs": [
    {
     "name": "stdout",
     "output_type": "stream",
     "text": [
      "Results\n",
      "[('p', 'http://www.wikidata.org/prop/direct/P3314'), ('pname', '365chess player ID')]\n",
      "[('p', 'http://www.wikidata.org/prop/direct/P2179'), ('pname', 'ACM Classification Code (2012)')]\n",
      "[('p', 'http://www.wikidata.org/prop/direct/P864'), ('pname', 'ACM Digital Library author ID')]\n",
      "[('p', 'http://www.wikidata.org/prop/direct/P3332'), ('pname', 'ACM Digital Library citation ID')]\n",
      "[('p', 'http://www.wikidata.org/prop/direct/P3901'), ('pname', 'ADAGP artist ID')]\n",
      "[('p', 'http://www.wikidata.org/prop/direct/P4114'), ('pname', 'ADK member ID')]\n",
      "[('p', 'http://www.wikidata.org/prop/direct/P5463'), ('pname', 'AE member ID')]\n",
      "[('p', 'http://www.wikidata.org/prop/direct/P4432'), ('pname', 'AKL Online artist ID')]\n",
      "[('p', 'http://www.wikidata.org/prop/direct/P9226'), ('pname', 'ARAE ID')]\n",
      "[('p', 'http://www.wikidata.org/prop/direct/P9795'), ('pname', 'ARPI author ID')]\n",
      "10\n"
     ]
    }
   ],
   "source": [
    "# write your queries\n",
    "# i find author is wdt:P50 from bgp of computer scientists\n",
    "queryString = \"\"\"\n",
    "SELECT DISTINCT  ?p ?pname\n",
    "WHERE {\n",
    " \n",
    "   # bind something\n",
    "   ?person wdt:P106 wd:Q82594;\n",
    "            ?p ?o.\n",
    "   # get the label\n",
    "   ?p sc:name ?pname.\n",
    "  \n",
    "}\n",
    "order by ?pname\n",
    "limit 10\n",
    "\n",
    "\"\"\"\n",
    "\n",
    "print(\"Results\")\n",
    "x=run_query(queryString)"
   ]
  },
  {
   "cell_type": "code",
   "execution_count": 87,
   "id": "669a87d5-0a9b-4776-9e54-1c9a295007cc",
   "metadata": {},
   "outputs": [
    {
     "name": "stdout",
     "output_type": "stream",
     "text": [
      "Results\n",
      "[('instance_of_book_name', 'scientific book'), ('person', 'http://www.wikidata.org/entity/Q20492519'), ('person_name', 'Olatz Arbelaitz'), ('booknumber', '12')]\n",
      "[('instance_of_book_name', 'scientific book'), ('person', 'http://www.wikidata.org/entity/Q16517758'), ('person_name', 'Iñaki Alegria'), ('booknumber', '11')]\n",
      "[('instance_of_book_name', 'scientific book'), ('person', 'http://www.wikidata.org/entity/Q50177430'), ('person_name', 'Kepa Sarasola Gabiola'), ('booknumber', '7')]\n",
      "[('instance_of_book_name', 'scientific book'), ('person', 'http://www.wikidata.org/entity/Q12253843'), ('person_name', 'Arantza Diaz de Ilarraza Sanchez'), ('booknumber', '3')]\n",
      "[('instance_of_book_name', 'scientific book'), ('person', 'http://www.wikidata.org/entity/Q46633'), ('person_name', 'Charles Babbage'), ('booknumber', '2')]\n",
      "[('instance_of_book_name', 'scientific book'), ('person', 'http://www.wikidata.org/entity/Q105467898'), ('person_name', 'Aitzol Astigarraga'), ('booknumber', '2')]\n",
      "[('instance_of_book_name', 'scientific book'), ('person', 'http://www.wikidata.org/entity/Q20492609'), ('person_name', 'Txelo Ruiz-Vazquez'), ('booknumber', '2')]\n",
      "[('instance_of_book_name', 'scientific book'), ('person', 'http://www.wikidata.org/entity/Q20492393'), ('person_name', 'Montse Maritxalar Anglada'), ('booknumber', '2')]\n",
      "[('instance_of_book_name', 'scientific book'), ('person', 'http://www.wikidata.org/entity/Q57083968'), ('person_name', 'Xabier Arregi Iparragirre'), ('booknumber', '2')]\n",
      "[('instance_of_book_name', 'scientific book'), ('person', 'http://www.wikidata.org/entity/Q15964868'), ('person_name', 'Elena Lazkano'), ('booknumber', '1')]\n",
      "[('instance_of_book_name', 'photo-book'), ('person', 'http://www.wikidata.org/entity/Q106784933'), ('person_name', 'Hervé Texier'), ('booknumber', '1')]\n",
      "[('instance_of_book_name', 'e-book reader software'), ('person', 'http://www.wikidata.org/entity/Q298341'), ('person_name', 'Raymond Kurzweil'), ('booknumber', '1')]\n",
      "[('instance_of_book_name', 'textbook'), ('person', 'http://www.wikidata.org/entity/Q5277478'), ('person_name', 'Dimitri Bertsekas'), ('booknumber', '1')]\n",
      "[('instance_of_book_name', 'scientific book'), ('person', 'http://www.wikidata.org/entity/Q63845182'), ('person_name', 'Olatz Perez-de-Viñaspre'), ('booknumber', '1')]\n",
      "[('instance_of_book_name', 'textbook'), ('person', 'http://www.wikidata.org/entity/Q11763'), ('person_name', 'Monica S. Lam'), ('booknumber', '1')]\n",
      "15\n"
     ]
    }
   ],
   "source": [
    "# write your queries\n",
    "\n",
    "queryString = \"\"\"\n",
    "SELECT DISTINCT ?instance_of_book_name ?person ?person_name  (count(?book) as ?booknumber) \n",
    "WHERE {\n",
    " \n",
    "  # bind something\n",
    "  ?person wdt:P106 wd:Q82594.\n",
    "  ?book   wdt:P50 ?person;\n",
    "          wdt:P31 ?instance_of_book.\n",
    "  # get the label\n",
    "  ?person sc:name ?person_name.\n",
    "  ?book   sc:name ?book_name.\n",
    "  ?instance_of_book  sc:name ?instance_of_book_name.\n",
    "  filter regex (?instance_of_book_name ,\".book\")\n",
    "  #filter (day(?booknumber)<\"5\"^^xsd:int)\n",
    "\n",
    "}\n",
    "order by desc(?booknumber)\n",
    "limit 15\n",
    "\n",
    "\"\"\"\n",
    "\n",
    "print(\"Results\")\n",
    "x=run_query(queryString)"
   ]
  },
  {
   "cell_type": "markdown",
   "id": "1d68f54c",
   "metadata": {},
   "source": [
    "Final query for this task"
   ]
  },
  {
   "cell_type": "code",
   "execution_count": null,
   "id": "b3c85e2f",
   "metadata": {},
   "outputs": [],
   "source": [
    "# write your final query"
   ]
  }
 ],
 "metadata": {
  "kernelspec": {
   "display_name": "Python 3",
   "language": "python",
   "name": "python3"
  },
  "language_info": {
   "codemirror_mode": {
    "name": "ipython",
    "version": 3
   },
   "file_extension": ".py",
   "mimetype": "text/x-python",
   "name": "python",
   "nbconvert_exporter": "python",
   "pygments_lexer": "ipython3",
   "version": "3.7.10"
  }
 },
 "nbformat": 4,
 "nbformat_minor": 5
}
