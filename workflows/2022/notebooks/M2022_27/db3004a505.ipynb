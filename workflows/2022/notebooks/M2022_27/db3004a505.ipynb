{
 "cells": [
  {
   "cell_type": "markdown",
   "id": "6e9410f7",
   "metadata": {},
   "source": [
    "# General instructions\n",
    "\n",
    "The goal of the project is to materialize a set of **exploratory workloads** over a real-world, large-scale,  open-domain KG: [WikiData](https://www.wikidata.org/wiki/Wikidata:Main_Page)\n",
    "\n",
    "An exploratory workload  is composed by a set of queries, where each query is related to the information obtained previously.\n",
    "\n",
    "An exploratory workload starts with a usually vague, open ended question, and does not assume the person issuing the workload has a clear understanding of the data contained in the target database or its structure.\n",
    "\n",
    "Remeber that:\n",
    "\n",
    "1. All the queries must run in the python notebook\n",
    "2. You can use classes and properties only if you find them via a SPARQL query that must be present in the notebook\n",
    "3. You do not delete useless queries. Keep everything that is synthatically valid \n",
    "\n",
    "```\n",
    "?p <http://schema.org/name> ?name .\n",
    "```\n",
    "    \n",
    "    is the BGP returning a human-readable name of a property or a class in Wikidata."
   ]
  },
  {
   "cell_type": "code",
   "execution_count": 1,
   "id": "f0af9ccd",
   "metadata": {},
   "outputs": [],
   "source": [
    "## SETUP used later\n",
    "\n",
    "from SPARQLWrapper import SPARQLWrapper, JSON\n",
    "\n",
    "\n",
    "prefixString = \"\"\"\n",
    "##-db3004a505-##\n",
    "PREFIX wd: <http://www.wikidata.org/entity/> \n",
    "PREFIX wdt: <http://www.wikidata.org/prop/direct/> \n",
    "PREFIX sc: <http://schema.org/>\n",
    "PREFIX p: <http://www.wikidata.org/prop/>\n",
    "PREFIX ps: <http://www.wikidata.org/prop/statement/>\n",
    "PREFIX pq: <http://www.wikidata.org/prop/qualifier/>\n",
    "\"\"\"\n",
    "\n",
    "# select and construct queries\n",
    "def run_query(queryString,verbose = True):\n",
    "    to_run = prefixString + \"\\n\" + queryString\n",
    "\n",
    "    sparql = SPARQLWrapper(\"http://a256-gc1-03.srv.aau.dk:5820/sparql\")\n",
    "    sparql.setTimeout(300)\n",
    "    sparql.setReturnFormat(JSON)\n",
    "    sparql.setQuery(to_run)\n",
    "\n",
    "    try :\n",
    "        results = sparql.query()\n",
    "        json_results = results.convert()\n",
    "        if len(json_results['results']['bindings'])==0:\n",
    "            print(\"Empty\")\n",
    "            return []\n",
    "        array = []\n",
    "        for bindings in json_results['results']['bindings']:\n",
    "            app =  [ (var, value['value'])  for var, value in bindings.items() ] \n",
    "            if verbose:\n",
    "                print( app)\n",
    "            array.append(app)\n",
    "        if verbose:\n",
    "            print(len(array))\n",
    "        return array\n",
    "\n",
    "    except Exception as e :\n",
    "        print(\"The operation failed\", e)\n",
    "    \n",
    "# ASk queries\n",
    "def run_ask_query(queryString):\n",
    "    to_run = prefixString + \"\\n\" + queryString\n",
    "\n",
    "    sparql = SPARQLWrapper(\"http://a256-gc1-03.srv.aau.dk:5820/sparql\")\n",
    "    sparql.setTimeout(300)\n",
    "    sparql.setReturnFormat(JSON)\n",
    "    sparql.setQuery(to_run)\n",
    "\n",
    "    try :\n",
    "        return sparql.query().convert()\n",
    "\n",
    "    except Exception as e :\n",
    "        print(\"The operation failed\", e)"
   ]
  },
  {
   "cell_type": "markdown",
   "id": "a339b71c",
   "metadata": {},
   "source": [
    "# Sport Workflow Series (Basketball and NBA finals explorative search\") \n",
    "\n",
    "Consider the following exploratory information need:\n",
    "\n",
    "> investigate the world of basketball. Compare italian teams and US teams, country of citizenship of NBA players, and teams which won NBA finals."
   ]
  },
  {
   "cell_type": "markdown",
   "id": "66122075",
   "metadata": {},
   "source": [
    "## Useful URIs for the current workflow\n",
    "The following are given:\n",
    "\n",
    "| IRI           | Description   | Role      |\n",
    "| -----------   | -----------   |-----------|\n",
    "| `wdt:P1647`   | subproperty   | predicate |\n",
    "| `wdt:P31`     | instance of   | predicate |\n",
    "| `wdt:P106`    | profession    | predicate | \n",
    "| `wdt:P279`    | subclass      | predicate |\n",
    "| `wdt:P27`     | nationality   | predicate |\n",
    "| `wd:Q5`| Human       | node |\n",
    "| `wd:Q36159`| Lebron James      | node |\n",
    "| `wd:Q29545`| Kevin Durant      | node |\n"
   ]
  },
  {
   "cell_type": "markdown",
   "id": "ef19bcf5",
   "metadata": {},
   "source": [
    "\n",
    "\n",
    "\n",
    "Also consider\n",
    "\n",
    "```\n",
    "wd:Q36159 ?p ?obj .\n",
    "```\n",
    "\n",
    "is the BGP to retrieve all **properties of Lebron James**\n",
    "\n",
    "Please consider that when you return a resource, you should return the IRI and the label of the resource. In particular, when the task require you to identify a BGP the result set must always be a list of couples IRI - label.\n",
    "\n",
    "\n",
    "The workload should:\n",
    "\n",
    "\n",
    "1. Identify the BGP for basketball player.\n",
    "\n",
    "2. Identify the BGP for basketball.\n",
    "\n",
    "3. Identify the BGP for basketball team.\n",
    "\n",
    "4. Return all italian basketball teams born before 1945 (the result set must be a list of triples basketball team IRI, label and year of inception).\n",
    "\n",
    "5. Identify the BGP for NBA finals\n",
    "\n",
    "6. Consider only the basketball teams which Kevin Durant and Lebron James played. Return the number of NBA finals won by these teams (the result set must be a list of triples basketball team IRI, label and #victories. Return a number for each basketball team).\n",
    "\n",
    "7. Consider only NBA (National Basketball Association) basketball teams and all basketball players who played in one of these teams at least once. Also consider the country of citizenship of the players with the related continent. Return for each continent the number of players who played in an NBA basketball teams. (the result set must be triples of continent IRI, labels and #players)\n",
    "\n",
    "8. Identify the BGP for the NBA Most Valuable Player Award (MVP) (see https://en.wikipedia.org/wiki/NBA_Most_Valuable_Player_Award)\n",
    "\n",
    "9. Consider the players who won the NBA Most Valuable Player Award. Return for these players the number of NBA Most Valuable Player Award won in their career (the result set must be triples of player IRI, label and #victories)\n",
    "\n"
   ]
  },
  {
   "cell_type": "markdown",
   "id": "c7886955",
   "metadata": {},
   "source": [
    "## Task 1\n",
    "Identify the BGP for basketball player."
   ]
  },
  {
   "cell_type": "code",
   "execution_count": 2,
   "id": "17f723f3",
   "metadata": {},
   "outputs": [
    {
     "name": "stdout",
     "output_type": "stream",
     "text": [
      "Results\n",
      "[('p', 'http://www.wikidata.org/prop/direct/P106'), ('name', 'occupation')]\n",
      "[('p', 'http://www.wikidata.org/prop/direct/P118'), ('name', 'league')]\n",
      "[('p', 'http://www.wikidata.org/prop/direct/P1207'), ('name', 'NUKAT ID')]\n",
      "[('p', 'http://www.wikidata.org/prop/direct/P1263'), ('name', 'NNDB people ID')]\n",
      "[('p', 'http://www.wikidata.org/prop/direct/P1280'), ('name', 'CONOR.SI ID')]\n",
      "[('p', 'http://www.wikidata.org/prop/direct/P1285'), ('name', 'Munzinger Sport number')]\n",
      "[('p', 'http://www.wikidata.org/prop/direct/P1344'), ('name', 'participant in')]\n",
      "[('p', 'http://www.wikidata.org/prop/direct/P1411'), ('name', 'nominated for')]\n",
      "[('p', 'http://www.wikidata.org/prop/direct/P1412'), ('name', 'languages spoken, written or signed')]\n",
      "[('p', 'http://www.wikidata.org/prop/direct/P1417'), ('name', 'Encyclopædia Britannica Online ID')]\n",
      "[('p', 'http://www.wikidata.org/prop/direct/P1447'), ('name', 'Sports-Reference.com Olympic athlete ID')]\n",
      "[('p', 'http://www.wikidata.org/prop/direct/P1532'), ('name', 'country for sport')]\n",
      "[('p', 'http://www.wikidata.org/prop/direct/P1559'), ('name', 'name in native language')]\n",
      "[('p', 'http://www.wikidata.org/prop/direct/P1618'), ('name', 'sport number')]\n",
      "[('p', 'http://www.wikidata.org/prop/direct/P166'), ('name', 'award received')]\n",
      "[('p', 'http://www.wikidata.org/prop/direct/P172'), ('name', 'ethnic group')]\n",
      "[('p', 'http://www.wikidata.org/prop/direct/P1741'), ('name', 'GTAA ID')]\n",
      "[('p', 'http://www.wikidata.org/prop/direct/P18'), ('name', 'image')]\n",
      "[('p', 'http://www.wikidata.org/prop/direct/P19'), ('name', 'place of birth')]\n",
      "[('p', 'http://www.wikidata.org/prop/direct/P1953'), ('name', 'Discogs artist ID')]\n",
      "20\n"
     ]
    }
   ],
   "source": [
    "#return properties for Lebron\n",
    "queryString = \"\"\"\n",
    "SELECT DISTINCT ?p ?name\n",
    "WHERE {\n",
    "   # bind something\n",
    "   wd:Q36159 ?p ?obj .\n",
    "   # get the label\n",
    "   ?p sc:name ?name.\n",
    "}\n",
    "LIMIT 20\n",
    "\"\"\"\n",
    "\n",
    "print(\"Results\")\n",
    "x=run_query(queryString)"
   ]
  },
  {
   "cell_type": "code",
   "execution_count": 3,
   "id": "93f164d8-65a5-41de-807c-97322b7a0f8a",
   "metadata": {},
   "outputs": [
    {
     "name": "stdout",
     "output_type": "stream",
     "text": [
      "Results\n",
      "[('o', 'http://www.wikidata.org/entity/Q10798782'), ('name', 'television actor')]\n",
      "[('o', 'http://www.wikidata.org/entity/Q28389'), ('name', 'screenwriter')]\n",
      "[('o', 'http://www.wikidata.org/entity/Q3665646'), ('name', 'basketball player')]\n",
      "3\n"
     ]
    }
   ],
   "source": [
    "#return Lebron's occupation\n",
    "queryString = \"\"\"\n",
    "SELECT DISTINCT ?o ?name\n",
    "WHERE {\n",
    "   # bind something\n",
    "   wd:Q36159 wdt:P106 ?o .\n",
    "   # get the label\n",
    "   ?o sc:name ?name.\n",
    "}\n",
    "LIMIT 20\n",
    "\"\"\"\n",
    "\n",
    "print(\"Results\")\n",
    "x=run_query(queryString)"
   ]
  },
  {
   "cell_type": "markdown",
   "id": "9e854ca3",
   "metadata": {},
   "source": [
    "Final query for this task"
   ]
  },
  {
   "cell_type": "code",
   "execution_count": 2,
   "id": "c6769877",
   "metadata": {},
   "outputs": [
    {
     "name": "stdout",
     "output_type": "stream",
     "text": [
      "Results\n",
      "[('o', 'http://www.wikidata.org/entity/Q10798782'), ('name', 'television actor')]\n",
      "[('o', 'http://www.wikidata.org/entity/Q28389'), ('name', 'screenwriter')]\n",
      "[('o', 'http://www.wikidata.org/entity/Q3665646'), ('name', 'basketball player')]\n",
      "3\n"
     ]
    }
   ],
   "source": [
    "#Identify the BGP for basketball player.\n",
    "# write your final query\n",
    "queryString = \"\"\"\n",
    "SELECT DISTINCT ?o ?name\n",
    "WHERE {\n",
    "   # bind something\n",
    "   wd:Q36159 wdt:P106 ?o .\n",
    "   # get the label\n",
    "   ?o sc:name ?name.\n",
    "}\n",
    "LIMIT 20\n",
    "\"\"\"\n",
    "\n",
    "print(\"Results\")\n",
    "x=run_query(queryString)"
   ]
  },
  {
   "cell_type": "markdown",
   "id": "93390d3b",
   "metadata": {},
   "source": [
    "## Task 2\n",
    "Identify the BGP for basketball."
   ]
  },
  {
   "cell_type": "code",
   "execution_count": 5,
   "id": "2db33af4",
   "metadata": {},
   "outputs": [
    {
     "name": "stdout",
     "output_type": "stream",
     "text": [
      "Results\n",
      "[('p', 'http://www.wikidata.org/prop/direct/P1014'), ('name', 'Art & Architecture Thesaurus ID')]\n",
      "[('p', 'http://www.wikidata.org/prop/direct/P1036'), ('name', 'Dewey Decimal Classification')]\n",
      "[('p', 'http://www.wikidata.org/prop/direct/P1296'), ('name', 'Gran Enciclopèdia Catalana ID')]\n",
      "[('p', 'http://www.wikidata.org/prop/direct/P1424'), ('name', \"topic's main template\")]\n",
      "[('p', 'http://www.wikidata.org/prop/direct/P1709'), ('name', 'equivalent class')]\n",
      "[('p', 'http://www.wikidata.org/prop/direct/P1963'), ('name', 'properties for this type')]\n",
      "[('p', 'http://www.wikidata.org/prop/direct/P227'), ('name', 'GND ID')]\n",
      "[('p', 'http://www.wikidata.org/prop/direct/P2347'), ('name', 'YSO ID')]\n",
      "[('p', 'http://www.wikidata.org/prop/direct/P244'), ('name', 'Library of Congress authority ID')]\n",
      "[('p', 'http://www.wikidata.org/prop/direct/P268'), ('name', 'Bibliothèque nationale de France ID')]\n",
      "[('p', 'http://www.wikidata.org/prop/direct/P279'), ('name', 'subclass of')]\n",
      "[('p', 'http://www.wikidata.org/prop/direct/P2888'), ('name', 'exact match')]\n",
      "[('p', 'http://www.wikidata.org/prop/direct/P31'), ('name', 'instance of')]\n",
      "[('p', 'http://www.wikidata.org/prop/direct/P361'), ('name', 'part of')]\n",
      "[('p', 'http://www.wikidata.org/prop/direct/P373'), ('name', 'Commons category')]\n",
      "[('p', 'http://www.wikidata.org/prop/direct/P425'), ('name', 'field of this occupation')]\n",
      "[('p', 'http://www.wikidata.org/prop/direct/P4839'), ('name', 'Wolfram Language entity code')]\n",
      "[('p', 'http://www.wikidata.org/prop/direct/P4946'), ('name', 'Library of Congress Demographic Group Terms ID')]\n",
      "[('p', 'http://www.wikidata.org/prop/direct/P641'), ('name', 'sport')]\n",
      "[('p', 'http://www.wikidata.org/prop/direct/P646'), ('name', 'Freebase ID')]\n",
      "20\n"
     ]
    }
   ],
   "source": [
    "#return properties for basketball player\n",
    "queryString = \"\"\"\n",
    "SELECT DISTINCT ?p ?name\n",
    "WHERE {\n",
    "   # bind something\n",
    "   wd:Q3665646 ?p ?o .\n",
    "   # get the label\n",
    "   ?p sc:name ?name.\n",
    "}\n",
    "LIMIT 20\n",
    "\"\"\"\n",
    "\n",
    "print(\"Results\")\n",
    "x=run_query(queryString)"
   ]
  },
  {
   "cell_type": "code",
   "execution_count": 6,
   "id": "7fb7e853-f7c6-49f3-b7ed-cd7e857da3db",
   "metadata": {},
   "outputs": [
    {
     "name": "stdout",
     "output_type": "stream",
     "text": [
      "Results\n",
      "[('o', 'http://www.wikidata.org/entity/Q5372'), ('name', 'basketball')]\n",
      "1\n"
     ]
    }
   ],
   "source": [
    "#return sport for a basketball player\n",
    "queryString = \"\"\"\n",
    "SELECT DISTINCT ?o ?name\n",
    "WHERE {\n",
    "   # bind something\n",
    "   wd:Q3665646 wdt:P641 ?o .\n",
    "   # get the label\n",
    "   ?o sc:name ?name.\n",
    "}\n",
    "LIMIT 20\n",
    "\"\"\"\n",
    "\n",
    "print(\"Results\")\n",
    "x=run_query(queryString)"
   ]
  },
  {
   "cell_type": "markdown",
   "id": "d969b339",
   "metadata": {},
   "source": [
    "Final query for this task"
   ]
  },
  {
   "cell_type": "code",
   "execution_count": 3,
   "id": "e9b69a55",
   "metadata": {},
   "outputs": [
    {
     "name": "stdout",
     "output_type": "stream",
     "text": [
      "Results\n",
      "[('o', 'http://www.wikidata.org/entity/Q5372'), ('name', 'basketball')]\n",
      "1\n"
     ]
    }
   ],
   "source": [
    "#Identify the BGP for basketball.\n",
    "# write your final query\n",
    "queryString = \"\"\"\n",
    "SELECT DISTINCT ?o ?name\n",
    "WHERE {\n",
    "   # bind something\n",
    "   wd:Q3665646 wdt:P641 ?o .\n",
    "   # get the label\n",
    "   ?o sc:name ?name.\n",
    "}\n",
    "LIMIT 20\n",
    "\"\"\"\n",
    "\n",
    "print(\"Results\")\n",
    "x=run_query(queryString)"
   ]
  },
  {
   "cell_type": "markdown",
   "id": "3011fbff",
   "metadata": {},
   "source": [
    "## Task 3\n",
    "Identify the BGP for basketball team."
   ]
  },
  {
   "cell_type": "code",
   "execution_count": 8,
   "id": "8ed97a58",
   "metadata": {},
   "outputs": [
    {
     "name": "stdout",
     "output_type": "stream",
     "text": [
      "Results\n",
      "[('p', 'http://www.wikidata.org/prop/direct/P1014'), ('name', 'Art & Architecture Thesaurus ID')]\n",
      "[('p', 'http://www.wikidata.org/prop/direct/P1036'), ('name', 'Dewey Decimal Classification')]\n",
      "[('p', 'http://www.wikidata.org/prop/direct/P1296'), ('name', 'Gran Enciclopèdia Catalana ID')]\n",
      "[('p', 'http://www.wikidata.org/prop/direct/P1424'), ('name', \"topic's main template\")]\n",
      "[('p', 'http://www.wikidata.org/prop/direct/P1709'), ('name', 'equivalent class')]\n",
      "[('p', 'http://www.wikidata.org/prop/direct/P1963'), ('name', 'properties for this type')]\n",
      "[('p', 'http://www.wikidata.org/prop/direct/P227'), ('name', 'GND ID')]\n",
      "[('p', 'http://www.wikidata.org/prop/direct/P2347'), ('name', 'YSO ID')]\n",
      "[('p', 'http://www.wikidata.org/prop/direct/P244'), ('name', 'Library of Congress authority ID')]\n",
      "[('p', 'http://www.wikidata.org/prop/direct/P268'), ('name', 'Bibliothèque nationale de France ID')]\n",
      "[('p', 'http://www.wikidata.org/prop/direct/P279'), ('name', 'subclass of')]\n",
      "[('p', 'http://www.wikidata.org/prop/direct/P2888'), ('name', 'exact match')]\n",
      "[('p', 'http://www.wikidata.org/prop/direct/P31'), ('name', 'instance of')]\n",
      "[('p', 'http://www.wikidata.org/prop/direct/P361'), ('name', 'part of')]\n",
      "[('p', 'http://www.wikidata.org/prop/direct/P373'), ('name', 'Commons category')]\n",
      "[('p', 'http://www.wikidata.org/prop/direct/P425'), ('name', 'field of this occupation')]\n",
      "[('p', 'http://www.wikidata.org/prop/direct/P4839'), ('name', 'Wolfram Language entity code')]\n",
      "[('p', 'http://www.wikidata.org/prop/direct/P4946'), ('name', 'Library of Congress Demographic Group Terms ID')]\n",
      "[('p', 'http://www.wikidata.org/prop/direct/P641'), ('name', 'sport')]\n",
      "[('p', 'http://www.wikidata.org/prop/direct/P646'), ('name', 'Freebase ID')]\n",
      "[('p', 'http://www.wikidata.org/prop/direct/P8408'), ('name', 'KBpedia ID')]\n",
      "[('p', 'http://www.wikidata.org/prop/direct/P8814'), ('name', 'WordNet 3.1 Synset ID')]\n",
      "[('p', 'http://www.wikidata.org/prop/direct/P910'), ('name', \"topic's main category\")]\n",
      "23\n"
     ]
    }
   ],
   "source": [
    "#return more properties for basketball player\n",
    "queryString = \"\"\"\n",
    "SELECT DISTINCT ?p ?name\n",
    "WHERE {\n",
    "   # bind something\n",
    "   wd:Q3665646 ?p ?o .\n",
    "   # get the label\n",
    "   ?p sc:name ?name.\n",
    "}\n",
    "LIMIT 50\n",
    "\"\"\"\n",
    "\n",
    "print(\"Results\")\n",
    "x=run_query(queryString)"
   ]
  },
  {
   "cell_type": "code",
   "execution_count": 9,
   "id": "2839829c-50ba-4de1-bcfd-2d255bfa5c1c",
   "metadata": {},
   "outputs": [
    {
     "name": "stdout",
     "output_type": "stream",
     "text": [
      "Results\n",
      "[('o', 'http://www.wikidata.org/entity/Q13393265'), ('name', 'basketball team')]\n",
      "1\n"
     ]
    }
   ],
   "source": [
    "#return what a basketball player is part of\n",
    "queryString = \"\"\"\n",
    "SELECT DISTINCT ?o ?name\n",
    "WHERE {\n",
    "   # bind something\n",
    "   wd:Q3665646 wdt:P361 ?o .\n",
    "   # get the label\n",
    "   ?o sc:name ?name.\n",
    "}\n",
    "LIMIT 50\n",
    "\"\"\"\n",
    "\n",
    "print(\"Results\")\n",
    "x=run_query(queryString)"
   ]
  },
  {
   "cell_type": "markdown",
   "id": "dadb85d5",
   "metadata": {},
   "source": [
    "Final query for this task"
   ]
  },
  {
   "cell_type": "code",
   "execution_count": 4,
   "id": "2117197e",
   "metadata": {},
   "outputs": [
    {
     "name": "stdout",
     "output_type": "stream",
     "text": [
      "Results\n",
      "[('o', 'http://www.wikidata.org/entity/Q13393265'), ('name', 'basketball team')]\n",
      "1\n"
     ]
    }
   ],
   "source": [
    "#Identify the BGP for basketball team.\n",
    "# write your final query\n",
    "queryString = \"\"\"\n",
    "SELECT DISTINCT ?o ?name\n",
    "WHERE {\n",
    "   # bind something\n",
    "   wd:Q3665646 wdt:P361 ?o .\n",
    "   # get the label\n",
    "   ?o sc:name ?name.\n",
    "}\n",
    "LIMIT 50\n",
    "\"\"\"\n",
    "\n",
    "print(\"Results\")\n",
    "x=run_query(queryString)"
   ]
  },
  {
   "cell_type": "markdown",
   "id": "3263fdc3",
   "metadata": {},
   "source": [
    "## Task 4\n",
    "Return all italian basketball teams born before 1945 (the result set must be a list of triples basketball team IRI, label and year of inception)."
   ]
  },
  {
   "cell_type": "code",
   "execution_count": 11,
   "id": "a6ff5fab",
   "metadata": {},
   "outputs": [
    {
     "name": "stdout",
     "output_type": "stream",
     "text": [
      "Results\n",
      "[('p', 'http://www.wikidata.org/prop/direct/P1424'), ('name', \"topic's main template\")]\n",
      "[('p', 'http://www.wikidata.org/prop/direct/P279'), ('name', 'subclass of')]\n",
      "[('p', 'http://www.wikidata.org/prop/direct/P3417'), ('name', 'Quora topic ID')]\n",
      "[('p', 'http://www.wikidata.org/prop/direct/P373'), ('name', 'Commons category')]\n",
      "[('p', 'http://www.wikidata.org/prop/direct/P527'), ('name', 'has part')]\n",
      "[('p', 'http://www.wikidata.org/prop/direct/P641'), ('name', 'sport')]\n",
      "[('p', 'http://www.wikidata.org/prop/direct/P8408'), ('name', 'KBpedia ID')]\n",
      "[('p', 'http://www.wikidata.org/prop/direct/P910'), ('name', \"topic's main category\")]\n",
      "8\n"
     ]
    }
   ],
   "source": [
    "#return properties for basketball team\n",
    "queryString = \"\"\"\n",
    "SELECT DISTINCT ?p ?name\n",
    "WHERE {\n",
    "   # bind something\n",
    "   wd:Q13393265 ?p ?o .\n",
    "   # get the label\n",
    "   ?p sc:name ?name.\n",
    "}\n",
    "LIMIT 50\n",
    "\"\"\"\n",
    "\n",
    "print(\"Results\")\n",
    "x=run_query(queryString)"
   ]
  },
  {
   "cell_type": "code",
   "execution_count": 12,
   "id": "2763e0f5-496b-40db-880d-0623d76d7d46",
   "metadata": {},
   "outputs": [
    {
     "name": "stdout",
     "output_type": "stream",
     "text": [
      "Results\n",
      "[('o', 'http://www.wikidata.org/entity/Q51747567'), ('name', 'squad')]\n",
      "[('o', 'http://www.wikidata.org/entity/Q3665646'), ('name', 'basketball player')]\n",
      "[('o', 'http://www.wikidata.org/entity/Q5372'), ('name', 'basketball')]\n",
      "[('o', 'http://www.wikidata.org/entity/Q5137571'), ('name', 'basketball coach')]\n",
      "[('o', 'http://www.wikidata.org/entity/Q847017'), ('name', 'sports club')]\n",
      "[('o', 'http://www.wikidata.org/entity/Q12973014'), ('name', 'sports team')]\n",
      "[('o', 'http://www.wikidata.org/entity/Q5648512'), ('name', 'Template:Infobox basketball club')]\n",
      "[('o', 'http://www.wikidata.org/entity/Q5647277'), ('name', 'Category:Basketball teams')]\n",
      "8\n"
     ]
    }
   ],
   "source": [
    "#return objects linked by those properties\n",
    "queryString = \"\"\"\n",
    "SELECT DISTINCT ?o ?name\n",
    "WHERE {\n",
    "   # bind something\n",
    "   wd:Q13393265 ?p ?o .\n",
    "   # get the label\n",
    "   ?o sc:name ?name.\n",
    "}\n",
    "LIMIT 50\n",
    "\"\"\"\n",
    "\n",
    "print(\"Results\")\n",
    "x=run_query(queryString)"
   ]
  },
  {
   "cell_type": "code",
   "execution_count": 13,
   "id": "623a58be-7d55-4dca-af3e-07caabe7f6b6",
   "metadata": {},
   "outputs": [
    {
     "name": "stdout",
     "output_type": "stream",
     "text": [
      "Results\n",
      "[('p', 'http://www.wikidata.org/prop/direct/P279'), ('name', 'subclass of')]\n",
      "[('p', 'http://www.wikidata.org/prop/direct/P31'), ('name', 'instance of')]\n",
      "[('p', 'http://www.wikidata.org/prop/direct/P361'), ('name', 'part of')]\n",
      "[('p', 'http://www.wikidata.org/prop/direct/P527'), ('name', 'has part')]\n",
      "4\n"
     ]
    }
   ],
   "source": [
    "#return properties for squad\n",
    "queryString = \"\"\"\n",
    "SELECT DISTINCT ?p ?name\n",
    "WHERE {\n",
    "   # bind something\n",
    "   wd:Q51747567 ?p ?o .\n",
    "   # get the label\n",
    "   ?p sc:name ?name.\n",
    "}\n",
    "LIMIT 50\n",
    "\"\"\"\n",
    "\n",
    "print(\"Results\")\n",
    "x=run_query(queryString)"
   ]
  },
  {
   "cell_type": "code",
   "execution_count": 14,
   "id": "c0493257-c331-48b5-a056-353896eee548",
   "metadata": {},
   "outputs": [
    {
     "name": "stdout",
     "output_type": "stream",
     "text": [
      "Results\n",
      "[('p', 'http://www.wikidata.org/prop/direct/P527'), ('name', 'has part'), ('o', 'http://www.wikidata.org/entity/Q18536342'), ('oName', 'competitive player')]\n",
      "[('p', 'http://www.wikidata.org/prop/direct/P31'), ('name', 'instance of'), ('o', 'http://www.wikidata.org/entity/Q16334295'), ('oName', 'group of humans')]\n",
      "[('p', 'http://www.wikidata.org/prop/direct/P279'), ('name', 'subclass of'), ('o', 'http://www.wikidata.org/entity/Q327245'), ('oName', 'team')]\n",
      "[('p', 'http://www.wikidata.org/prop/direct/P361'), ('name', 'part of'), ('o', 'http://www.wikidata.org/entity/Q847017'), ('oName', 'sports club')]\n",
      "[('p', 'http://www.wikidata.org/prop/direct/P527'), ('name', 'has part'), ('o', 'http://www.wikidata.org/entity/Q2066131'), ('oName', 'athlete')]\n",
      "5\n"
     ]
    }
   ],
   "source": [
    "#return properties and objects for squad\n",
    "queryString = \"\"\"\n",
    "SELECT DISTINCT ?p ?name ?o ?oName\n",
    "WHERE {\n",
    "   # bind something\n",
    "   wd:Q51747567 ?p ?o .\n",
    "   # get the label\n",
    "   ?p sc:name ?name.\n",
    "   ?o sc:name ?oName.\n",
    "}\n",
    "LIMIT 50\n",
    "\"\"\"\n",
    "\n",
    "print(\"Results\")\n",
    "x=run_query(queryString)"
   ]
  },
  {
   "cell_type": "code",
   "execution_count": 15,
   "id": "8d6cba4e-0c3f-4e87-a095-f3c2c1800369",
   "metadata": {},
   "outputs": [
    {
     "name": "stdout",
     "output_type": "stream",
     "text": [
      "Results\n",
      "[('p', 'http://www.wikidata.org/prop/direct/P2670'), ('name', 'has parts of the class'), ('o', 'http://www.wikidata.org/entity/Q51747567'), ('oName', 'squad')]\n",
      "[('p', 'http://www.wikidata.org/prop/direct/P279'), ('name', 'subclass of'), ('o', 'http://www.wikidata.org/entity/Q43229'), ('oName', 'organization')]\n",
      "[('p', 'http://www.wikidata.org/prop/direct/P279'), ('name', 'subclass of'), ('o', 'http://www.wikidata.org/entity/Q16334295'), ('oName', 'group of humans')]\n",
      "[('p', 'http://www.wikidata.org/prop/direct/P461'), ('name', 'opposite of'), ('o', 'http://www.wikidata.org/entity/Q71690273'), ('oName', 'nonteam')]\n",
      "4\n"
     ]
    }
   ],
   "source": [
    "#return properties for team\n",
    "queryString = \"\"\"\n",
    "SELECT DISTINCT ?p ?name ?o ?oName\n",
    "WHERE {\n",
    "   # bind something\n",
    "   wd:Q327245 ?p ?o .\n",
    "   # get the label\n",
    "   ?p sc:name ?name.\n",
    "   ?o sc:name ?oName.\n",
    "}\n",
    "LIMIT 50\n",
    "\"\"\"\n",
    "\n",
    "print(\"Results\")\n",
    "x=run_query(queryString)"
   ]
  },
  {
   "cell_type": "code",
   "execution_count": 16,
   "id": "bdb0fa0c-617f-4979-9ab5-41ea60f27744",
   "metadata": {},
   "outputs": [
    {
     "name": "stdout",
     "output_type": "stream",
     "text": [
      "Results\n",
      "[('p', 'http://www.wikidata.org/prop/direct/P31'), ('name', 'instance of'), ('o', 'http://www.wikidata.org/entity/Q19887878'), ('oName', 'Wikimedia infobox template')]\n",
      "[('p', 'http://www.wikidata.org/prop/direct/P1423'), ('name', 'template has topic'), ('o', 'http://www.wikidata.org/entity/Q13393265'), ('oName', 'basketball team')]\n",
      "[('p', 'http://www.wikidata.org/prop/direct/P279'), ('name', 'subclass of'), ('o', 'http://www.wikidata.org/entity/Q13361807'), ('oName', 'Template:Infobox sport governing body')]\n",
      "3\n"
     ]
    }
   ],
   "source": [
    "#return properties for Template:Infobox basketball club\n",
    "queryString = \"\"\"\n",
    "SELECT DISTINCT ?p ?name ?o ?oName\n",
    "WHERE {\n",
    "   # bind something\n",
    "   wd:Q5648512 ?p ?o .\n",
    "   # get the label\n",
    "   ?p sc:name ?name.\n",
    "   ?o sc:name ?oName.\n",
    "}\n",
    "LIMIT 50\n",
    "\"\"\"\n",
    "\n",
    "print(\"Results\")\n",
    "x=run_query(queryString)"
   ]
  },
  {
   "cell_type": "code",
   "execution_count": 17,
   "id": "10580dbe-7f5a-4e19-8c45-3f2942375d00",
   "metadata": {},
   "outputs": [
    {
     "name": "stdout",
     "output_type": "stream",
     "text": [
      "Results\n",
      "[('p', 'http://www.wikidata.org/prop/direct/P2670'), ('name', 'has parts of the class'), ('o', 'http://www.wikidata.org/entity/Q51747567'), ('oName', 'squad')]\n",
      "[('p', 'http://www.wikidata.org/prop/direct/P1343'), ('name', 'described by source'), ('o', 'http://www.wikidata.org/entity/Q2657718'), ('oName', 'Armenian Soviet Encyclopedia')]\n",
      "[('p', 'http://www.wikidata.org/prop/direct/P279'), ('name', 'subclass of'), ('o', 'http://www.wikidata.org/entity/Q4438121'), ('oName', 'sports organization')]\n",
      "[('p', 'http://www.wikidata.org/prop/direct/P1424'), ('name', \"topic's main template\"), ('o', 'http://www.wikidata.org/entity/Q19467997'), ('oName', 'Template:Infobox athletics club')]\n",
      "[('p', 'http://www.wikidata.org/prop/direct/P1889'), ('name', 'different from'), ('o', 'http://www.wikidata.org/entity/Q12973014'), ('oName', 'sports team')]\n",
      "[('p', 'http://www.wikidata.org/prop/direct/P279'), ('name', 'subclass of'), ('o', 'http://www.wikidata.org/entity/Q988108'), ('oName', 'club')]\n",
      "[('p', 'http://www.wikidata.org/prop/direct/P910'), ('name', \"topic's main category\"), ('o', 'http://www.wikidata.org/entity/Q9717774'), ('oName', 'Category:Sports clubs')]\n",
      "[('p', 'http://www.wikidata.org/prop/direct/P1424'), ('name', \"topic's main template\"), ('o', 'http://www.wikidata.org/entity/Q10730006'), ('oName', 'Template:Infobox sports team')]\n",
      "[('p', 'http://www.wikidata.org/prop/direct/P1687'), ('name', 'Wikidata property'), ('o', 'http://www.wikidata.org/entity/P4999'), ('oName', 'number of clubs')]\n",
      "9\n"
     ]
    }
   ],
   "source": [
    "#return properties and objects for sports club \n",
    "queryString = \"\"\"\n",
    "SELECT DISTINCT ?p ?name ?o ?oName\n",
    "WHERE {\n",
    "   # bind something\n",
    "   wd:Q847017 ?p ?o .\n",
    "   # get the label\n",
    "   ?p sc:name ?name.\n",
    "   ?o sc:name ?oName.\n",
    "}\n",
    "LIMIT 50\n",
    "\"\"\"\n",
    "\n",
    "print(\"Results\")\n",
    "x=run_query(queryString)"
   ]
  },
  {
   "cell_type": "code",
   "execution_count": 18,
   "id": "225630b7-db73-4718-a97a-9e7144740bc5",
   "metadata": {},
   "outputs": [
    {
     "name": "stdout",
     "output_type": "stream",
     "text": [
      "Results\n",
      "[('p', 'http://www.wikidata.org/prop/direct/P527'), ('name', 'has part'), ('o', 'http://www.wikidata.org/entity/Q18536342'), ('oName', 'competitive player')]\n",
      "[('p', 'http://www.wikidata.org/prop/direct/P31'), ('name', 'instance of'), ('o', 'http://www.wikidata.org/entity/Q16334295'), ('oName', 'group of humans')]\n",
      "[('p', 'http://www.wikidata.org/prop/direct/P279'), ('name', 'subclass of'), ('o', 'http://www.wikidata.org/entity/Q327245'), ('oName', 'team')]\n",
      "[('p', 'http://www.wikidata.org/prop/direct/P361'), ('name', 'part of'), ('o', 'http://www.wikidata.org/entity/Q847017'), ('oName', 'sports club')]\n",
      "[('p', 'http://www.wikidata.org/prop/direct/P527'), ('name', 'has part'), ('o', 'http://www.wikidata.org/entity/Q2066131'), ('oName', 'athlete')]\n",
      "5\n"
     ]
    }
   ],
   "source": [
    "#return properties and objects for squad \n",
    "queryString = \"\"\"\n",
    "SELECT DISTINCT ?p ?name ?o ?oName\n",
    "WHERE {\n",
    "   # bind something\n",
    "   wd:Q51747567 ?p ?o .\n",
    "   # get the label\n",
    "   ?p sc:name ?name.\n",
    "   ?o sc:name ?oName.\n",
    "}\n",
    "LIMIT 50\n",
    "\"\"\"\n",
    "\n",
    "print(\"Results\")\n",
    "x=run_query(queryString)"
   ]
  },
  {
   "cell_type": "code",
   "execution_count": 19,
   "id": "0526cbfa-6591-4c2c-91c5-248c257e8a07",
   "metadata": {},
   "outputs": [
    {
     "name": "stdout",
     "output_type": "stream",
     "text": [
      "Results\n",
      "[('p', 'http://www.wikidata.org/prop/direct/P2670'), ('name', 'has parts of the class'), ('o', 'http://www.wikidata.org/entity/Q51747567'), ('oName', 'squad')]\n",
      "[('p', 'http://www.wikidata.org/prop/direct/P279'), ('name', 'subclass of'), ('o', 'http://www.wikidata.org/entity/Q43229'), ('oName', 'organization')]\n",
      "[('p', 'http://www.wikidata.org/prop/direct/P279'), ('name', 'subclass of'), ('o', 'http://www.wikidata.org/entity/Q16334295'), ('oName', 'group of humans')]\n",
      "[('p', 'http://www.wikidata.org/prop/direct/P461'), ('name', 'opposite of'), ('o', 'http://www.wikidata.org/entity/Q71690273'), ('oName', 'nonteam')]\n",
      "4\n"
     ]
    }
   ],
   "source": [
    "#return properties and objects for team\n",
    "queryString = \"\"\"\n",
    "SELECT DISTINCT ?p ?name ?o ?oName\n",
    "WHERE {\n",
    "   # bind something\n",
    "   wd:Q327245 ?p ?o .\n",
    "   # get the label\n",
    "   ?p sc:name ?name.\n",
    "   ?o sc:name ?oName.\n",
    "}\n",
    "LIMIT 50\n",
    "\"\"\"\n",
    "\n",
    "print(\"Results\")\n",
    "x=run_query(queryString)"
   ]
  },
  {
   "cell_type": "code",
   "execution_count": 20,
   "id": "45c4ab76-2b82-4910-b19d-d3f502efe918",
   "metadata": {},
   "outputs": [
    {
     "name": "stdout",
     "output_type": "stream",
     "text": [
      "Results\n",
      "[('p', 'http://www.wikidata.org/prop/direct/P2670'), ('name', 'has parts of the class'), ('o', 'http://www.wikidata.org/entity/Q51747567'), ('oName', 'squad')]\n",
      "[('p', 'http://www.wikidata.org/prop/direct/P1343'), ('name', 'described by source'), ('o', 'http://www.wikidata.org/entity/Q2657718'), ('oName', 'Armenian Soviet Encyclopedia')]\n",
      "[('p', 'http://www.wikidata.org/prop/direct/P279'), ('name', 'subclass of'), ('o', 'http://www.wikidata.org/entity/Q4438121'), ('oName', 'sports organization')]\n",
      "[('p', 'http://www.wikidata.org/prop/direct/P1424'), ('name', \"topic's main template\"), ('o', 'http://www.wikidata.org/entity/Q19467997'), ('oName', 'Template:Infobox athletics club')]\n",
      "[('p', 'http://www.wikidata.org/prop/direct/P1889'), ('name', 'different from'), ('o', 'http://www.wikidata.org/entity/Q12973014'), ('oName', 'sports team')]\n",
      "[('p', 'http://www.wikidata.org/prop/direct/P279'), ('name', 'subclass of'), ('o', 'http://www.wikidata.org/entity/Q988108'), ('oName', 'club')]\n",
      "[('p', 'http://www.wikidata.org/prop/direct/P910'), ('name', \"topic's main category\"), ('o', 'http://www.wikidata.org/entity/Q9717774'), ('oName', 'Category:Sports clubs')]\n",
      "[('p', 'http://www.wikidata.org/prop/direct/P1424'), ('name', \"topic's main template\"), ('o', 'http://www.wikidata.org/entity/Q10730006'), ('oName', 'Template:Infobox sports team')]\n",
      "[('p', 'http://www.wikidata.org/prop/direct/P1687'), ('name', 'Wikidata property'), ('o', 'http://www.wikidata.org/entity/P4999'), ('oName', 'number of clubs')]\n",
      "9\n"
     ]
    }
   ],
   "source": [
    "#return properties and objects for sports club \n",
    "queryString = \"\"\"\n",
    "SELECT DISTINCT ?p ?name ?o ?oName\n",
    "WHERE {\n",
    "   # bind something\n",
    "   wd:Q847017 ?p ?o .\n",
    "   # get the label\n",
    "   ?p sc:name ?name.\n",
    "   ?o sc:name ?oName.\n",
    "}\n",
    "LIMIT 50\n",
    "\"\"\"\n",
    "\n",
    "print(\"Results\")\n",
    "x=run_query(queryString)"
   ]
  },
  {
   "cell_type": "code",
   "execution_count": 21,
   "id": "6c5ccf5e-22e7-4f9c-823e-74f82d475027",
   "metadata": {},
   "outputs": [
    {
     "name": "stdout",
     "output_type": "stream",
     "text": [
      "Results\n",
      "[('p', 'http://www.wikidata.org/prop/direct/P279'), ('name', 'subclass of'), ('o', 'http://www.wikidata.org/entity/Q12047392'), ('oName', 'legal form')]\n",
      "[('p', 'http://www.wikidata.org/prop/direct/P1343'), ('name', 'described by source'), ('o', 'http://www.wikidata.org/entity/Q2657718'), ('oName', 'Armenian Soviet Encyclopedia')]\n",
      "[('p', 'http://www.wikidata.org/prop/direct/P279'), ('name', 'subclass of'), ('o', 'http://www.wikidata.org/entity/Q43229'), ('oName', 'organization')]\n",
      "[('p', 'http://www.wikidata.org/prop/direct/P527'), ('name', 'has part'), ('o', 'http://www.wikidata.org/entity/Q16334295'), ('oName', 'group of humans')]\n",
      "[('p', 'http://www.wikidata.org/prop/direct/P1889'), ('name', 'different from'), ('o', 'http://www.wikidata.org/entity/Q622425'), ('oName', 'nightclub')]\n",
      "[('p', 'http://www.wikidata.org/prop/direct/P279'), ('name', 'subclass of'), ('o', 'http://www.wikidata.org/entity/Q48204'), ('oName', 'voluntary organization')]\n",
      "[('p', 'http://www.wikidata.org/prop/direct/P279'), ('name', 'subclass of'), ('o', 'http://www.wikidata.org/entity/Q155076'), ('oName', 'juridical person')]\n",
      "7\n"
     ]
    }
   ],
   "source": [
    "#return properties and objects for club\n",
    "queryString = \"\"\"\n",
    "SELECT DISTINCT ?p ?name ?o ?oName\n",
    "WHERE {\n",
    "   # bind something\n",
    "   wd:Q988108 ?p ?o .\n",
    "   # get the label\n",
    "   ?p sc:name ?name.\n",
    "   ?o sc:name ?oName.\n",
    "}\n",
    "LIMIT 50\n",
    "\"\"\"\n",
    "\n",
    "print(\"Results\")\n",
    "x=run_query(queryString)"
   ]
  },
  {
   "cell_type": "code",
   "execution_count": 22,
   "id": "e984fadd-edb7-46e0-9f6c-fb5c97adf142",
   "metadata": {},
   "outputs": [
    {
     "name": "stdout",
     "output_type": "stream",
     "text": [
      "Results\n",
      "[('p', 'http://www.wikidata.org/prop/direct/P1963'), ('name', 'properties for this type'), ('o', 'http://www.wikidata.org/entity/P3500'), ('oName', 'Ringgold ID')]\n",
      "[('p', 'http://www.wikidata.org/prop/direct/P1963'), ('name', 'properties for this type'), ('o', 'http://www.wikidata.org/entity/P213'), ('oName', 'ISNI')]\n",
      "[('p', 'http://www.wikidata.org/prop/direct/P1963'), ('name', 'properties for this type'), ('o', 'http://www.wikidata.org/entity/P1705'), ('oName', 'native label')]\n",
      "[('p', 'http://www.wikidata.org/prop/direct/P1963'), ('name', 'properties for this type'), ('o', 'http://www.wikidata.org/entity/P3549'), ('oName', 'Australian Company Number')]\n",
      "[('p', 'http://www.wikidata.org/prop/direct/P1963'), ('name', 'properties for this type'), ('o', 'http://www.wikidata.org/entity/P1278'), ('oName', 'Legal Entity Identifier')]\n",
      "[('p', 'http://www.wikidata.org/prop/direct/P1963'), ('name', 'properties for this type'), ('o', 'http://www.wikidata.org/entity/P1320'), ('oName', 'OpenCorporates ID')]\n",
      "[('p', 'http://www.wikidata.org/prop/direct/P1889'), ('name', 'different from'), ('o', 'http://www.wikidata.org/entity/Q36993249'), ('oName', 'arranging')]\n",
      "[('p', 'http://www.wikidata.org/prop/direct/P1963'), ('name', 'properties for this type'), ('o', 'http://www.wikidata.org/entity/P1056'), ('oName', 'product or material produced')]\n",
      "[('p', 'http://www.wikidata.org/prop/direct/P1963'), ('name', 'properties for this type'), ('o', 'http://www.wikidata.org/entity/P1329'), ('oName', 'phone number')]\n",
      "[('p', 'http://www.wikidata.org/prop/direct/P1552'), ('name', 'has quality'), ('o', 'http://www.wikidata.org/entity/Q3535173'), ('oName', 'organizational life cycle')]\n",
      "[('p', 'http://www.wikidata.org/prop/direct/P279'), ('name', 'subclass of'), ('o', 'http://www.wikidata.org/entity/Q6671777'), ('oName', 'structure')]\n",
      "[('p', 'http://www.wikidata.org/prop/direct/P1963'), ('name', 'properties for this type'), ('o', 'http://www.wikidata.org/entity/P159'), ('oName', 'headquarters location')]\n",
      "[('p', 'http://www.wikidata.org/prop/direct/P1552'), ('name', 'has quality'), ('o', 'http://www.wikidata.org/entity/Q17197366'), ('oName', 'type of organisation')]\n",
      "[('p', 'http://www.wikidata.org/prop/direct/P527'), ('name', 'has part'), ('o', 'http://www.wikidata.org/entity/Q10756188'), ('oName', 'treasury')]\n",
      "[('p', 'http://www.wikidata.org/prop/direct/P1963'), ('name', 'properties for this type'), ('o', 'http://www.wikidata.org/entity/P2657'), ('oName', 'EU Transparency Register ID')]\n",
      "[('p', 'http://www.wikidata.org/prop/direct/P1552'), ('name', 'has quality'), ('o', 'http://www.wikidata.org/entity/Q730573'), ('oName', 'organizational culture')]\n",
      "[('p', 'http://www.wikidata.org/prop/direct/P1963'), ('name', 'properties for this type'), ('o', 'http://www.wikidata.org/entity/P17'), ('oName', 'country')]\n",
      "[('p', 'http://www.wikidata.org/prop/direct/P1963'), ('name', 'properties for this type'), ('o', 'http://www.wikidata.org/entity/P112'), ('oName', 'founded by')]\n",
      "[('p', 'http://www.wikidata.org/prop/direct/P1963'), ('name', 'properties for this type'), ('o', 'http://www.wikidata.org/entity/P571'), ('oName', 'inception')]\n",
      "[('p', 'http://www.wikidata.org/prop/direct/P1963'), ('name', 'properties for this type'), ('o', 'http://www.wikidata.org/entity/P1128'), ('oName', 'employees')]\n",
      "[('p', 'http://www.wikidata.org/prop/direct/P1963'), ('name', 'properties for this type'), ('o', 'http://www.wikidata.org/entity/P131'), ('oName', 'located in the administrative territorial entity')]\n",
      "[('p', 'http://www.wikidata.org/prop/direct/P1963'), ('name', 'properties for this type'), ('o', 'http://www.wikidata.org/entity/P527'), ('oName', 'has part')]\n",
      "[('p', 'http://www.wikidata.org/prop/direct/P1963'), ('name', 'properties for this type'), ('o', 'http://www.wikidata.org/entity/P856'), ('oName', 'official website')]\n",
      "[('p', 'http://www.wikidata.org/prop/direct/P279'), ('name', 'subclass of'), ('o', 'http://www.wikidata.org/entity/Q16334295'), ('oName', 'group of humans')]\n",
      "[('p', 'http://www.wikidata.org/prop/direct/P1552'), ('name', 'has quality'), ('o', 'http://www.wikidata.org/entity/Q852998'), ('oName', 'stakeholder')]\n",
      "[('p', 'http://www.wikidata.org/prop/direct/P1963'), ('name', 'properties for this type'), ('o', 'http://www.wikidata.org/entity/P355'), ('oName', 'subsidiary')]\n",
      "[('p', 'http://www.wikidata.org/prop/direct/P1963'), ('name', 'properties for this type'), ('o', 'http://www.wikidata.org/entity/P740'), ('oName', 'location of formation')]\n",
      "[('p', 'http://www.wikidata.org/prop/direct/P1552'), ('name', 'has quality'), ('o', 'http://www.wikidata.org/entity/Q3738275'), ('oName', 'adaptive capacity')]\n",
      "[('p', 'http://www.wikidata.org/prop/direct/P1963'), ('name', 'properties for this type'), ('o', 'http://www.wikidata.org/entity/P1813'), ('oName', 'short name')]\n",
      "[('p', 'http://www.wikidata.org/prop/direct/P1963'), ('name', 'properties for this type'), ('o', 'http://www.wikidata.org/entity/P1616'), ('oName', 'SIREN number')]\n",
      "[('p', 'http://www.wikidata.org/prop/direct/P1963'), ('name', 'properties for this type'), ('o', 'http://www.wikidata.org/entity/P3215'), ('oName', 'SIRET number')]\n",
      "[('p', 'http://www.wikidata.org/prop/direct/P1424'), ('name', \"topic's main template\"), ('o', 'http://www.wikidata.org/entity/Q6190581'), ('oName', 'Template:Infobox organization')]\n",
      "[('p', 'http://www.wikidata.org/prop/direct/P1424'), ('name', \"topic's main template\"), ('o', 'http://www.wikidata.org/entity/Q6688962'), ('oName', 'Template:Aspects of organizations')]\n",
      "[('p', 'http://www.wikidata.org/prop/direct/P1963'), ('name', 'properties for this type'), ('o', 'http://www.wikidata.org/entity/P1830'), ('oName', 'owner of')]\n",
      "[('p', 'http://www.wikidata.org/prop/direct/P1963'), ('name', 'properties for this type'), ('o', 'http://www.wikidata.org/entity/P749'), ('oName', 'parent organization')]\n",
      "[('p', 'http://www.wikidata.org/prop/direct/P1963'), ('name', 'properties for this type'), ('o', 'http://www.wikidata.org/entity/P1297'), ('oName', 'IRS Employer Identification Number')]\n",
      "[('p', 'http://www.wikidata.org/prop/direct/P1963'), ('name', 'properties for this type'), ('o', 'http://www.wikidata.org/entity/P2541'), ('oName', 'operating area')]\n",
      "[('p', 'http://www.wikidata.org/prop/direct/P1963'), ('name', 'properties for this type'), ('o', 'http://www.wikidata.org/entity/P452'), ('oName', 'industry')]\n",
      "[('p', 'http://www.wikidata.org/prop/direct/P1963'), ('name', 'properties for this type'), ('o', 'http://www.wikidata.org/entity/P463'), ('oName', 'member of')]\n",
      "[('p', 'http://www.wikidata.org/prop/direct/P1687'), ('name', 'Wikidata property'), ('o', 'http://www.wikidata.org/entity/P1268'), ('oName', 'represents')]\n",
      "[('p', 'http://www.wikidata.org/prop/direct/P1963'), ('name', 'properties for this type'), ('o', 'http://www.wikidata.org/entity/P1961'), ('oName', 'CTHS society ID')]\n",
      "[('p', 'http://www.wikidata.org/prop/direct/P1963'), ('name', 'properties for this type'), ('o', 'http://www.wikidata.org/entity/P169'), ('oName', 'chief executive officer')]\n",
      "[('p', 'http://www.wikidata.org/prop/direct/P1552'), ('name', 'has quality'), ('o', 'http://www.wikidata.org/entity/Q1430172'), ('oName', 'organizational learning')]\n",
      "[('p', 'http://www.wikidata.org/prop/direct/P1552'), ('name', 'has quality'), ('o', 'http://www.wikidata.org/entity/Q53281408'), ('oName', \"organisation's goals\")]\n",
      "[('p', 'http://www.wikidata.org/prop/direct/P1552'), ('name', 'has quality'), ('o', 'http://www.wikidata.org/entity/Q759524'), ('oName', 'organizational structure')]\n",
      "[('p', 'http://www.wikidata.org/prop/direct/P1552'), ('name', 'has quality'), ('o', 'http://www.wikidata.org/entity/Q19483216'), ('oName', 'organizational behavior')]\n",
      "[('p', 'http://www.wikidata.org/prop/direct/P1963'), ('name', 'properties for this type'), ('o', 'http://www.wikidata.org/entity/P1454'), ('oName', 'legal form')]\n",
      "[('p', 'http://www.wikidata.org/prop/direct/P1963'), ('name', 'properties for this type'), ('o', 'http://www.wikidata.org/entity/P807'), ('oName', 'separated from')]\n",
      "[('p', 'http://www.wikidata.org/prop/direct/P1963'), ('name', 'properties for this type'), ('o', 'http://www.wikidata.org/entity/P4290'), ('oName', 'official app')]\n",
      "[('p', 'http://www.wikidata.org/prop/direct/P1963'), ('name', 'properties for this type'), ('o', 'http://www.wikidata.org/entity/P154'), ('oName', 'logo image')]\n",
      "50\n"
     ]
    }
   ],
   "source": [
    "#return properties and objects for organization\n",
    "queryString = \"\"\"\n",
    "SELECT DISTINCT ?p ?name ?o ?oName\n",
    "WHERE {\n",
    "   wd:Q43229 ?p ?o .\n",
    "   # get the label\n",
    "   ?p sc:name ?name.\n",
    "   ?o sc:name ?oName.\n",
    "}\n",
    "LIMIT 50\n",
    "\"\"\"\n",
    "\n",
    "print(\"Results\")\n",
    "x=run_query(queryString)"
   ]
  },
  {
   "cell_type": "code",
   "execution_count": 23,
   "id": "6ec9824d-84cb-4382-8d7a-22b3aa5d2b19",
   "metadata": {},
   "outputs": [
    {
     "name": "stdout",
     "output_type": "stream",
     "text": [
      "Results\n",
      "[('p', 'http://www.wikidata.org/prop/direct/P1050'), ('name', 'medical condition')]\n",
      "[('p', 'http://www.wikidata.org/prop/direct/P106'), ('name', 'occupation')]\n",
      "[('p', 'http://www.wikidata.org/prop/direct/P118'), ('name', 'league')]\n",
      "[('p', 'http://www.wikidata.org/prop/direct/P1263'), ('name', 'NNDB people ID')]\n",
      "[('p', 'http://www.wikidata.org/prop/direct/P1285'), ('name', 'Munzinger Sport number')]\n",
      "[('p', 'http://www.wikidata.org/prop/direct/P1344'), ('name', 'participant in')]\n",
      "[('p', 'http://www.wikidata.org/prop/direct/P1411'), ('name', 'nominated for')]\n",
      "[('p', 'http://www.wikidata.org/prop/direct/P1417'), ('name', 'Encyclopædia Britannica Online ID')]\n",
      "[('p', 'http://www.wikidata.org/prop/direct/P1447'), ('name', 'Sports-Reference.com Olympic athlete ID')]\n",
      "[('p', 'http://www.wikidata.org/prop/direct/P1532'), ('name', 'country for sport')]\n",
      "[('p', 'http://www.wikidata.org/prop/direct/P1559'), ('name', 'name in native language')]\n",
      "[('p', 'http://www.wikidata.org/prop/direct/P1618'), ('name', 'sport number')]\n",
      "[('p', 'http://www.wikidata.org/prop/direct/P166'), ('name', 'award received')]\n",
      "[('p', 'http://www.wikidata.org/prop/direct/P172'), ('name', 'ethnic group')]\n",
      "[('p', 'http://www.wikidata.org/prop/direct/P18'), ('name', 'image')]\n",
      "[('p', 'http://www.wikidata.org/prop/direct/P1889'), ('name', 'different from')]\n",
      "[('p', 'http://www.wikidata.org/prop/direct/P19'), ('name', 'place of birth')]\n",
      "[('p', 'http://www.wikidata.org/prop/direct/P2002'), ('name', 'Twitter username')]\n",
      "[('p', 'http://www.wikidata.org/prop/direct/P2031'), ('name', 'work period (start)')]\n",
      "[('p', 'http://www.wikidata.org/prop/direct/P2048'), ('name', 'height')]\n",
      "20\n"
     ]
    }
   ],
   "source": [
    "#return properties for Kevin Durant\n",
    "queryString = \"\"\"\n",
    "SELECT DISTINCT ?p ?name\n",
    "WHERE {\n",
    "   wd:Q29545 ?p ?o .\n",
    "   # get the label\n",
    "   ?p sc:name ?name.\n",
    "}\n",
    "LIMIT 20\n",
    "\"\"\"\n",
    "\n",
    "print(\"Results\")\n",
    "x=run_query(queryString)"
   ]
  },
  {
   "cell_type": "code",
   "execution_count": 24,
   "id": "acd14320-2b17-4310-b527-933a3acfd41d",
   "metadata": {},
   "outputs": [
    {
     "name": "stdout",
     "output_type": "stream",
     "text": [
      "Results\n",
      "[('o', 'http://www.wikidata.org/entity/Q94861615'), ('name', \"NCAA Division I men's basketball\")]\n",
      "[('o', 'http://www.wikidata.org/entity/Q155223'), ('name', 'National Basketball Association')]\n",
      "2\n"
     ]
    }
   ],
   "source": [
    "#return Kevin Durant league\n",
    "queryString = \"\"\"\n",
    "SELECT DISTINCT ?o ?name\n",
    "WHERE {\n",
    "   wd:Q29545 wdt:P118 ?o .\n",
    "   # get the label\n",
    "   ?o sc:name ?name.\n",
    "}\n",
    "LIMIT 20\n",
    "\"\"\"\n",
    "\n",
    "print(\"Results\")\n",
    "x=run_query(queryString)"
   ]
  },
  {
   "cell_type": "code",
   "execution_count": 25,
   "id": "7cf0cbc1-9131-45a7-bab4-5558435616ea",
   "metadata": {},
   "outputs": [
    {
     "name": "stdout",
     "output_type": "stream",
     "text": [
      "Results\n",
      "[('o', 'http://www.wikidata.org/entity/Q18536323'), ('name', 'basketball league')]\n",
      "[('o', 'http://www.wikidata.org/entity/Q15986354'), ('name', 'basketball association')]\n",
      "[('o', 'http://www.wikidata.org/entity/Q15991290'), ('name', 'professional sports league')]\n",
      "[('o', 'http://www.wikidata.org/entity/Q7094076'), ('name', 'online database')]\n",
      "4\n"
     ]
    }
   ],
   "source": [
    "#return what NBA is instance of\n",
    "queryString = \"\"\"\n",
    "SELECT DISTINCT ?o ?name\n",
    "WHERE {\n",
    "   wd:Q155223 wdt:P31 ?o .\n",
    "   ?o sc:name ?name.\n",
    "}\n",
    "LIMIT 20\n",
    "\"\"\"\n",
    "\n",
    "print(\"Results\")\n",
    "x=run_query(queryString)"
   ]
  },
  {
   "cell_type": "code",
   "execution_count": 26,
   "id": "e73d20b0-59fc-490d-ae73-944502aefdb4",
   "metadata": {},
   "outputs": [
    {
     "name": "stdout",
     "output_type": "stream",
     "text": [
      "Results\n",
      "[('p', 'http://www.wikidata.org/prop/direct/P1424'), ('name', \"topic's main template\")]\n",
      "[('p', 'http://www.wikidata.org/prop/direct/P279'), ('name', 'subclass of')]\n",
      "[('p', 'http://www.wikidata.org/prop/direct/P641'), ('name', 'sport')]\n",
      "[('p', 'http://www.wikidata.org/prop/direct/P8408'), ('name', 'KBpedia ID')]\n",
      "[('p', 'http://www.wikidata.org/prop/direct/P910'), ('name', \"topic's main category\")]\n",
      "5\n"
     ]
    }
   ],
   "source": [
    "#return properties for basketball league\n",
    "queryString = \"\"\"\n",
    "SELECT DISTINCT ?p ?name\n",
    "WHERE {\n",
    "   wd:Q18536323 ?p ?o .\n",
    "   ?p sc:name ?name.\n",
    "}\n",
    "LIMIT 20\n",
    "\"\"\"\n",
    "\n",
    "print(\"Results\")\n",
    "x=run_query(queryString)"
   ]
  },
  {
   "cell_type": "code",
   "execution_count": 27,
   "id": "7c71bf5e-6e2c-4aad-b853-c1552b3ff1bb",
   "metadata": {},
   "outputs": [
    {
     "name": "stdout",
     "output_type": "stream",
     "text": [
      "Results\n",
      "[('p', 'http://www.wikidata.org/prop/direct/P279'), ('name', 'subclass of')]\n",
      "[('p', 'http://www.wikidata.org/prop/direct/P3417'), ('name', 'Quora topic ID')]\n",
      "2\n"
     ]
    }
   ],
   "source": [
    "#return properties for basketball association\n",
    "queryString = \"\"\"\n",
    "SELECT DISTINCT ?p ?name\n",
    "WHERE {\n",
    "   wd:Q15986354 ?p ?o .\n",
    "   ?p sc:name ?name.\n",
    "}\n",
    "LIMIT 20\n",
    "\"\"\"\n",
    "\n",
    "print(\"Results\")\n",
    "x=run_query(queryString)"
   ]
  },
  {
   "cell_type": "code",
   "execution_count": 28,
   "id": "daf890b7-2320-4417-b6fc-1d42122726d7",
   "metadata": {},
   "outputs": [
    {
     "name": "stdout",
     "output_type": "stream",
     "text": [
      "Results\n",
      "[('p', 'http://www.wikidata.org/prop/direct/P279'), ('name', 'subclass of')]\n",
      "[('p', 'http://www.wikidata.org/prop/direct/P31'), ('name', 'instance of')]\n",
      "[('p', 'http://www.wikidata.org/prop/direct/P646'), ('name', 'Freebase ID')]\n",
      "[('p', 'http://www.wikidata.org/prop/direct/P8408'), ('name', 'KBpedia ID')]\n",
      "[('p', 'http://www.wikidata.org/prop/direct/P910'), ('name', \"topic's main category\")]\n",
      "5\n"
     ]
    }
   ],
   "source": [
    "#return properties for professional sports league\n",
    "queryString = \"\"\"\n",
    "SELECT DISTINCT ?p ?name\n",
    "WHERE {\n",
    "   wd:Q15991290 ?p ?o .\n",
    "   ?p sc:name ?name.\n",
    "}\n",
    "LIMIT 20\n",
    "\"\"\"\n",
    "\n",
    "print(\"Results\")\n",
    "x=run_query(queryString)"
   ]
  },
  {
   "cell_type": "code",
   "execution_count": 29,
   "id": "d37f3861-7a79-447a-ac82-a6f6093cc984",
   "metadata": {},
   "outputs": [
    {
     "name": "stdout",
     "output_type": "stream",
     "text": [
      "Results\n",
      "[('o', 'http://www.wikidata.org/entity/Q113619'), ('name', '2012–13 NBA season')]\n",
      "[('o', 'http://www.wikidata.org/entity/Q16191100'), ('name', '2014-15 NBA season')]\n",
      "[('o', 'http://www.wikidata.org/entity/Q19862716'), ('name', '2015–16 NBA season')]\n",
      "[('o', 'http://www.wikidata.org/entity/Q39080780'), ('name', \"basketball at the 2020 Summer Olympics – men's tournament\")]\n",
      "[('o', 'http://www.wikidata.org/entity/Q18416654'), ('name', \"basketball at the 2016 Summer Olympics – men's tournament\")]\n",
      "[('o', 'http://www.wikidata.org/entity/Q749036'), ('name', \"basketball at the 2012 Summer Olympics – men's tournament\")]\n",
      "[('o', 'http://www.wikidata.org/entity/Q8577'), ('name', '2012 Summer Olympics')]\n",
      "[('o', 'http://www.wikidata.org/entity/Q8613'), ('name', '2016 Summer Olympics')]\n",
      "[('o', 'http://www.wikidata.org/entity/Q211438'), ('name', '2010 FIBA World Championship')]\n",
      "[('o', 'http://www.wikidata.org/entity/Q52702755'), ('name', '2018–19 NBA season')]\n",
      "[('o', 'http://www.wikidata.org/entity/Q1121549'), ('name', '2007–08 NBA season')]\n",
      "[('o', 'http://www.wikidata.org/entity/Q29098111'), ('name', '2017–18 NBA season')]\n",
      "[('o', 'http://www.wikidata.org/entity/Q1255750'), ('name', '2011–12 NBA season')]\n",
      "[('o', 'http://www.wikidata.org/entity/Q11144228'), ('name', '2013–14 NBA season')]\n",
      "[('o', 'http://www.wikidata.org/entity/Q96083208'), ('name', '2020–21 NBA season')]\n",
      "[('o', 'http://www.wikidata.org/entity/Q1130071'), ('name', '2009–10 NBA season')]\n",
      "[('o', 'http://www.wikidata.org/entity/Q1130082'), ('name', '2008–09 NBA season')]\n",
      "[('o', 'http://www.wikidata.org/entity/Q1143957'), ('name', '2010–11 NBA season')]\n",
      "[('o', 'http://www.wikidata.org/entity/Q23939796'), ('name', '2016–17 NBA season')]\n",
      "19\n"
     ]
    }
   ],
   "source": [
    "#return what is Durant participant in\n",
    "queryString = \"\"\"\n",
    "SELECT DISTINCT ?o ?name\n",
    "WHERE {\n",
    "   wd:Q29545 wdt:P1344 ?o .\n",
    "   ?o sc:name ?name.\n",
    "}\n",
    "LIMIT 20\n",
    "\"\"\"\n",
    "\n",
    "print(\"Results\")\n",
    "x=run_query(queryString)"
   ]
  },
  {
   "cell_type": "code",
   "execution_count": 30,
   "id": "d23d901b-3db4-46ea-9513-c20546dd3a74",
   "metadata": {},
   "outputs": [
    {
     "name": "stdout",
     "output_type": "stream",
     "text": [
      "Results\n",
      "[('p', 'http://www.wikidata.org/prop/direct/P1423'), ('name', 'template has topic')]\n",
      "[('p', 'http://www.wikidata.org/prop/direct/P279'), ('name', 'subclass of')]\n",
      "[('p', 'http://www.wikidata.org/prop/direct/P301'), ('name', \"category's main topic\")]\n",
      "[('p', 'http://www.wikidata.org/prop/direct/P31'), ('name', 'instance of')]\n",
      "[('p', 'http://www.wikidata.org/prop/direct/P360'), ('name', 'is a list of')]\n",
      "[('p', 'http://www.wikidata.org/prop/direct/P361'), ('name', 'part of')]\n",
      "[('p', 'http://www.wikidata.org/prop/direct/P4224'), ('name', 'category contains')]\n",
      "[('p', 'http://www.wikidata.org/prop/direct/P710'), ('name', 'participant')]\n",
      "[('p', 'http://www.wikidata.org/prop/direct/P971'), ('name', 'category combines topics')]\n",
      "9\n"
     ]
    }
   ],
   "source": [
    "#return properties having basketball team as object\n",
    "queryString = \"\"\"\n",
    "SELECT DISTINCT ?p ?name\n",
    "WHERE {\n",
    "   ?s ?p wd:Q13393265 .\n",
    "   ?p sc:name ?name.\n",
    "}\n",
    "LIMIT 50\n",
    "\"\"\"\n",
    "\n",
    "print(\"Results\")\n",
    "x=run_query(queryString)"
   ]
  },
  {
   "cell_type": "code",
   "execution_count": 31,
   "id": "3a66db63-2525-4e5c-ae11-b6d9390dabb3",
   "metadata": {},
   "outputs": [
    {
     "name": "stdout",
     "output_type": "stream",
     "text": [
      "Results\n",
      "[('s', 'http://www.wikidata.org/entity/Q8206968'), ('sName', 'Hebraica y Macabi'), ('p', 'http://www.wikidata.org/prop/direct/P31'), ('name', 'instance of')]\n",
      "[('s', 'http://www.wikidata.org/entity/Q5144784'), ('sName', \"Colgate Raiders men's basketball\"), ('p', 'http://www.wikidata.org/prop/direct/P31'), ('name', 'instance of')]\n",
      "[('s', 'http://www.wikidata.org/entity/Q7051115'), ('sName', \"Norfolk State Spartans men's basketball\"), ('p', 'http://www.wikidata.org/prop/direct/P31'), ('name', 'instance of')]\n",
      "[('s', 'http://www.wikidata.org/entity/Q7397248'), ('sName', \"Sacred Heart Pioneers men's basketball\"), ('p', 'http://www.wikidata.org/prop/direct/P31'), ('name', 'instance of')]\n",
      "[('s', 'http://www.wikidata.org/entity/Q15725839'), ('sName', 'A.S. Kentavros Neas Kallikrateias'), ('p', 'http://www.wikidata.org/prop/direct/P31'), ('name', 'instance of')]\n",
      "[('s', 'http://www.wikidata.org/entity/Q107876527'), ('sName', \"Iowa Western Reivers men's basketball\"), ('p', 'http://www.wikidata.org/prop/direct/P31'), ('name', 'instance of')]\n",
      "[('s', 'http://www.wikidata.org/entity/Q15927936'), ('sName', 'Westchester Knicks'), ('p', 'http://www.wikidata.org/prop/direct/P31'), ('name', 'instance of')]\n",
      "[('s', 'http://www.wikidata.org/entity/Q810271'), ('sName', 'BC Zepter Vienna'), ('p', 'http://www.wikidata.org/prop/direct/P31'), ('name', 'instance of')]\n",
      "[('s', 'http://www.wikidata.org/entity/Q100320348'), ('sName', \"East Central Tigers men's basketball\"), ('p', 'http://www.wikidata.org/prop/direct/P31'), ('name', 'instance of')]\n",
      "[('s', 'http://www.wikidata.org/entity/Q16201949'), ('sName', \"DePaul Blue Demons women's basketball\"), ('p', 'http://www.wikidata.org/prop/direct/P31'), ('name', 'instance of')]\n",
      "[('s', 'http://www.wikidata.org/entity/Q16969750'), ('sName', 'Jackson State Tigers basketball'), ('p', 'http://www.wikidata.org/prop/direct/P31'), ('name', 'instance of')]\n",
      "[('s', 'http://www.wikidata.org/entity/Q16982503'), ('sName', 'Grand Rapids Drive'), ('p', 'http://www.wikidata.org/prop/direct/P31'), ('name', 'instance of')]\n",
      "[('s', 'http://www.wikidata.org/entity/Q4025635'), ('sName', 'İstanbul Teknik Üniversitesi B.K.'), ('p', 'http://www.wikidata.org/prop/direct/P31'), ('name', 'instance of')]\n",
      "[('s', 'http://www.wikidata.org/entity/Q4705333'), ('sName', \"Alabama State Hornets men's basketball\"), ('p', 'http://www.wikidata.org/prop/direct/P31'), ('name', 'instance of')]\n",
      "[('s', 'http://www.wikidata.org/entity/Q923137'), ('sName', 'Wellington Saints'), ('p', 'http://www.wikidata.org/prop/direct/P31'), ('name', 'instance of')]\n",
      "[('s', 'http://www.wikidata.org/entity/Q17022966'), ('sName', 'ŽKK Srbobran'), ('p', 'http://www.wikidata.org/prop/direct/P31'), ('name', 'instance of')]\n",
      "[('s', 'http://www.wikidata.org/entity/Q17023856'), ('sName', 'Anhui Wenyi'), ('p', 'http://www.wikidata.org/prop/direct/P31'), ('name', 'instance of')]\n",
      "[('s', 'http://www.wikidata.org/entity/Q17064173'), ('sName', 'Blackwater Elite'), ('p', 'http://www.wikidata.org/prop/direct/P31'), ('name', 'instance of')]\n",
      "[('s', 'http://www.wikidata.org/entity/Q5974122'), ('sName', 'Levharti Chomutov'), ('p', 'http://www.wikidata.org/prop/direct/P31'), ('name', 'instance of')]\n",
      "[('s', 'http://www.wikidata.org/entity/Q107876648'), ('sName', \"Calvin Knights men's basketball\"), ('p', 'http://www.wikidata.org/prop/direct/P31'), ('name', 'instance of')]\n",
      "[('s', 'http://www.wikidata.org/entity/Q20537231'), ('sName', 'Raptors 905'), ('p', 'http://www.wikidata.org/prop/direct/P31'), ('name', 'instance of')]\n",
      "[('s', 'http://www.wikidata.org/entity/Q7496291'), ('sName', 'Shiga Lakestars'), ('p', 'http://www.wikidata.org/prop/direct/P31'), ('name', 'instance of')]\n",
      "[('s', 'http://www.wikidata.org/entity/Q3833194'), ('sName', 'Lions de Genève'), ('p', 'http://www.wikidata.org/prop/direct/P31'), ('name', 'instance of')]\n",
      "[('s', 'http://www.wikidata.org/entity/Q3905889'), ('sName', 'Pittsburgh Piranhas'), ('p', 'http://www.wikidata.org/prop/direct/P31'), ('name', 'instance of')]\n",
      "[('s', 'http://www.wikidata.org/entity/Q3930226'), ('sName', 'Rapla KK'), ('p', 'http://www.wikidata.org/prop/direct/P31'), ('name', 'instance of')]\n",
      "[('s', 'http://www.wikidata.org/entity/Q16531388'), ('sName', 'Virtus Basket Ariano'), ('p', 'http://www.wikidata.org/prop/direct/P31'), ('name', 'instance of')]\n",
      "[('s', 'http://www.wikidata.org/entity/Q16586535'), ('sName', 'Pallacanestro Brindisi'), ('p', 'http://www.wikidata.org/prop/direct/P31'), ('name', 'instance of')]\n",
      "[('s', 'http://www.wikidata.org/entity/Q17628455'), ('sName', 'Cóndores de Cundinamarca'), ('p', 'http://www.wikidata.org/prop/direct/P31'), ('name', 'instance of')]\n",
      "[('s', 'http://www.wikidata.org/entity/Q18286220'), ('sName', 'Metros de Santiago'), ('p', 'http://www.wikidata.org/prop/direct/P31'), ('name', 'instance of')]\n",
      "[('s', 'http://www.wikidata.org/entity/Q5506768'), ('sName', 'Frøya Ambassadors'), ('p', 'http://www.wikidata.org/prop/direct/P31'), ('name', 'instance of')]\n",
      "[('s', 'http://www.wikidata.org/entity/Q15784291'), ('sName', 'Melco Ieper'), ('p', 'http://www.wikidata.org/prop/direct/P31'), ('name', 'instance of')]\n",
      "[('s', 'http://www.wikidata.org/entity/Q18126454'), ('sName', 'Leeds Force'), ('p', 'http://www.wikidata.org/prop/direct/P31'), ('name', 'instance of')]\n",
      "[('s', 'http://www.wikidata.org/entity/Q7058420'), ('sName', \"Northern Illinois Huskies women's basketball\"), ('p', 'http://www.wikidata.org/prop/direct/P31'), ('name', 'instance of')]\n",
      "[('s', 'http://www.wikidata.org/entity/Q1466375'), ('sName', 'Zalakeramia-ZTE KK'), ('p', 'http://www.wikidata.org/prop/direct/P31'), ('name', 'instance of')]\n",
      "[('s', 'http://www.wikidata.org/entity/Q12816085'), ('sName', 'Soproni KC'), ('p', 'http://www.wikidata.org/prop/direct/P31'), ('name', 'instance of')]\n",
      "[('s', 'http://www.wikidata.org/entity/Q18379744'), ('sName', 'Cafe France Bakers'), ('p', 'http://www.wikidata.org/prop/direct/P31'), ('name', 'instance of')]\n",
      "[('s', 'http://www.wikidata.org/entity/Q20988430'), ('sName', 'Hatay Büyükşehir Belediye Gençlik ve Spor Kulübü'), ('p', 'http://www.wikidata.org/prop/direct/P31'), ('name', 'instance of')]\n",
      "[('s', 'http://www.wikidata.org/entity/Q21019222'), ('sName', 'Tokyo Hachioji Trains'), ('p', 'http://www.wikidata.org/prop/direct/P31'), ('name', 'instance of')]\n",
      "[('s', 'http://www.wikidata.org/entity/Q21451950'), ('sName', 'Halifax Hurricanes'), ('p', 'http://www.wikidata.org/prop/direct/P31'), ('name', 'instance of')]\n",
      "[('s', 'http://www.wikidata.org/entity/Q26160627'), ('sName', 'Club Deportivo Hispano Americano'), ('p', 'http://www.wikidata.org/prop/direct/P31'), ('name', 'instance of')]\n",
      "[('s', 'http://www.wikidata.org/entity/Q3786822'), ('sName', 'Horsens IC'), ('p', 'http://www.wikidata.org/prop/direct/P31'), ('name', 'instance of')]\n",
      "[('s', 'http://www.wikidata.org/entity/Q4705232'), ('sName', \"Alabama Crimson Tide women's basketball\"), ('p', 'http://www.wikidata.org/prop/direct/P31'), ('name', 'instance of')]\n",
      "[('s', 'http://www.wikidata.org/entity/Q6378703'), ('sName', 'Kauhajoen Karhu'), ('p', 'http://www.wikidata.org/prop/direct/P31'), ('name', 'instance of')]\n",
      "[('s', 'http://www.wikidata.org/entity/Q19577197'), ('sName', 'KK Karpoš Sokoli'), ('p', 'http://www.wikidata.org/prop/direct/P31'), ('name', 'instance of')]\n",
      "[('s', 'http://www.wikidata.org/entity/Q5009372'), ('sName', 'Club de Baloncesto Bahía San Agustín'), ('p', 'http://www.wikidata.org/prop/direct/P31'), ('name', 'instance of')]\n",
      "[('s', 'http://www.wikidata.org/entity/Q22080113'), ('sName', 'CB Ciudad de Valladolid'), ('p', 'http://www.wikidata.org/prop/direct/P31'), ('name', 'instance of')]\n",
      "[('s', 'http://www.wikidata.org/entity/Q22199661'), ('sName', \"RFM-Swift's\"), ('p', 'http://www.wikidata.org/prop/direct/P31'), ('name', 'instance of')]\n",
      "[('s', 'http://www.wikidata.org/entity/Q22935676'), ('sName', \"Al-Mina'a\"), ('p', 'http://www.wikidata.org/prop/direct/P31'), ('name', 'instance of')]\n",
      "[('s', 'http://www.wikidata.org/entity/Q22949008'), ('sName', 'Louaize Club'), ('p', 'http://www.wikidata.org/prop/direct/P31'), ('name', 'instance of')]\n",
      "[('s', 'http://www.wikidata.org/entity/Q7396990'), ('sName', 'California Heatwave'), ('p', 'http://www.wikidata.org/prop/direct/P31'), ('name', 'instance of')]\n",
      "50\n"
     ]
    }
   ],
   "source": [
    "#return also the subject \n",
    "queryString = \"\"\"\n",
    "SELECT DISTINCT ?s ?sName ?p ?name \n",
    "WHERE {\n",
    "   ?s ?p wd:Q13393265 .\n",
    "   ?p sc:name ?name.\n",
    "   ?s sc:name ?sName.\n",
    "}\n",
    "LIMIT 50\n",
    "\"\"\"\n",
    "\n",
    "print(\"Results\")\n",
    "x=run_query(queryString)"
   ]
  },
  {
   "cell_type": "code",
   "execution_count": 32,
   "id": "ab48cba0-9e18-4f1e-bc1b-2a2ec786b927",
   "metadata": {},
   "outputs": [
    {
     "name": "stdout",
     "output_type": "stream",
     "text": [
      "Results\n",
      "[('p', 'http://www.wikidata.org/prop/direct/P159'), ('name', 'headquarters location'), ('o', 'http://www.wikidata.org/entity/Q1741'), ('oName', 'Vienna')]\n",
      "[('p', 'http://www.wikidata.org/prop/direct/P17'), ('name', 'country'), ('o', 'http://www.wikidata.org/entity/Q40'), ('oName', 'Austria')]\n",
      "[('p', 'http://www.wikidata.org/prop/direct/P641'), ('name', 'sport'), ('o', 'http://www.wikidata.org/entity/Q5372'), ('oName', 'basketball')]\n",
      "[('p', 'http://www.wikidata.org/prop/direct/P31'), ('name', 'instance of'), ('o', 'http://www.wikidata.org/entity/Q13393265'), ('oName', 'basketball team')]\n",
      "[('p', 'http://www.wikidata.org/prop/direct/P6112'), ('name', 'category for members of a team'), ('o', 'http://www.wikidata.org/entity/Q18710411'), ('oName', 'Category:BC Zepter Vienna players')]\n",
      "5\n"
     ]
    }
   ],
   "source": [
    "#return properties for BC Zepter Vienna\n",
    "queryString = \"\"\"\n",
    "SELECT DISTINCT ?p ?name ?o ?oName\n",
    "WHERE {\n",
    "   wd:Q810271 ?p ?o.\n",
    "   ?p sc:name ?name.\n",
    "   ?o sc:name ?oName.\n",
    "}\n",
    "LIMIT 50\n",
    "\"\"\"\n",
    "\n",
    "print(\"Results\")\n",
    "x=run_query(queryString)"
   ]
  },
  {
   "cell_type": "code",
   "execution_count": 33,
   "id": "926b2895-9a52-4b27-a930-04b41d3686bc",
   "metadata": {},
   "outputs": [
    {
     "name": "stdout",
     "output_type": "stream",
     "text": [
      "Results\n",
      "[('country', 'http://www.wikidata.org/entity/Q786'), ('name', 'Dominican Republic')]\n",
      "[('country', 'http://www.wikidata.org/entity/Q1028'), ('name', 'Morocco')]\n",
      "[('country', 'http://www.wikidata.org/entity/Q1029'), ('name', 'Mozambique')]\n",
      "[('country', 'http://www.wikidata.org/entity/Q1037'), ('name', 'Rwanda')]\n",
      "[('country', 'http://www.wikidata.org/entity/Q1246'), ('name', 'Kosovo')]\n",
      "[('country', 'http://www.wikidata.org/entity/Q142'), ('name', 'France')]\n",
      "[('country', 'http://www.wikidata.org/entity/Q145'), ('name', 'United Kingdom')]\n",
      "[('country', 'http://www.wikidata.org/entity/Q148'), ('name', \"People's Republic of China\")]\n",
      "[('country', 'http://www.wikidata.org/entity/Q155'), ('name', 'Brazil')]\n",
      "[('country', 'http://www.wikidata.org/entity/Q159'), ('name', 'Russia')]\n",
      "[('country', 'http://www.wikidata.org/entity/Q16'), ('name', 'Canada')]\n",
      "[('country', 'http://www.wikidata.org/entity/Q17'), ('name', 'Japan')]\n",
      "[('country', 'http://www.wikidata.org/entity/Q183'), ('name', 'Germany')]\n",
      "[('country', 'http://www.wikidata.org/entity/Q184'), ('name', 'Belarus')]\n",
      "[('country', 'http://www.wikidata.org/entity/Q189'), ('name', 'Iceland')]\n",
      "[('country', 'http://www.wikidata.org/entity/Q191'), ('name', 'Estonia')]\n",
      "[('country', 'http://www.wikidata.org/entity/Q20'), ('name', 'Norway')]\n",
      "[('country', 'http://www.wikidata.org/entity/Q211'), ('name', 'Latvia')]\n",
      "[('country', 'http://www.wikidata.org/entity/Q212'), ('name', 'Ukraine')]\n",
      "[('country', 'http://www.wikidata.org/entity/Q213'), ('name', 'Czech Republic')]\n",
      "[('country', 'http://www.wikidata.org/entity/Q214'), ('name', 'Slovakia')]\n",
      "[('country', 'http://www.wikidata.org/entity/Q215'), ('name', 'Slovenia')]\n",
      "[('country', 'http://www.wikidata.org/entity/Q218'), ('name', 'Romania')]\n",
      "[('country', 'http://www.wikidata.org/entity/Q219'), ('name', 'Bulgaria')]\n",
      "[('country', 'http://www.wikidata.org/entity/Q221'), ('name', 'North Macedonia')]\n",
      "[('country', 'http://www.wikidata.org/entity/Q222'), ('name', 'Albania')]\n",
      "[('country', 'http://www.wikidata.org/entity/Q224'), ('name', 'Croatia')]\n",
      "[('country', 'http://www.wikidata.org/entity/Q225'), ('name', 'Bosnia and Herzegovina')]\n",
      "[('country', 'http://www.wikidata.org/entity/Q228'), ('name', 'Andorra')]\n",
      "[('country', 'http://www.wikidata.org/entity/Q229'), ('name', 'Cyprus')]\n",
      "[('country', 'http://www.wikidata.org/entity/Q230'), ('name', 'Georgia')]\n",
      "[('country', 'http://www.wikidata.org/entity/Q232'), ('name', 'Kazakhstan')]\n",
      "[('country', 'http://www.wikidata.org/entity/Q236'), ('name', 'Montenegro')]\n",
      "[('country', 'http://www.wikidata.org/entity/Q252'), ('name', 'Indonesia')]\n",
      "[('country', 'http://www.wikidata.org/entity/Q262'), ('name', 'Algeria')]\n",
      "[('country', 'http://www.wikidata.org/entity/Q27'), ('name', 'Ireland')]\n",
      "[('country', 'http://www.wikidata.org/entity/Q28'), ('name', 'Hungary')]\n",
      "[('country', 'http://www.wikidata.org/entity/Q29'), ('name', 'Spain')]\n",
      "[('country', 'http://www.wikidata.org/entity/Q298'), ('name', 'Chile')]\n",
      "[('country', 'http://www.wikidata.org/entity/Q30'), ('name', 'United States of America')]\n",
      "[('country', 'http://www.wikidata.org/entity/Q31'), ('name', 'Belgium')]\n",
      "[('country', 'http://www.wikidata.org/entity/Q33'), ('name', 'Finland')]\n",
      "[('country', 'http://www.wikidata.org/entity/Q34'), ('name', 'Sweden')]\n",
      "[('country', 'http://www.wikidata.org/entity/Q35'), ('name', 'Denmark')]\n",
      "[('country', 'http://www.wikidata.org/entity/Q36'), ('name', 'Poland')]\n",
      "[('country', 'http://www.wikidata.org/entity/Q37'), ('name', 'Lithuania')]\n",
      "[('country', 'http://www.wikidata.org/entity/Q38'), ('name', 'Italy')]\n",
      "[('country', 'http://www.wikidata.org/entity/Q39'), ('name', 'Switzerland')]\n",
      "[('country', 'http://www.wikidata.org/entity/Q398'), ('name', 'Bahrain')]\n",
      "[('country', 'http://www.wikidata.org/entity/Q40'), ('name', 'Austria')]\n",
      "50\n"
     ]
    }
   ],
   "source": [
    "#return countries for nodes instances of basketball team \n",
    "queryString = \"\"\"\n",
    "SELECT DISTINCT ?country ?name \n",
    "WHERE {\n",
    "   ?team wdt:P31 wd:Q13393265.\n",
    "   ?team wdt:P17 ?country.\n",
    "   ?country sc:name ?name.\n",
    "}\n",
    "LIMIT 50\n",
    "\"\"\"\n",
    "\n",
    "print(\"Results\")\n",
    "x=run_query(queryString)"
   ]
  },
  {
   "cell_type": "code",
   "execution_count": 34,
   "id": "fe9c7c5c-68fa-4cdd-9f63-73762ccc9d4f",
   "metadata": {},
   "outputs": [
    {
     "name": "stdout",
     "output_type": "stream",
     "text": [
      "Results\n",
      "[('team', 'http://www.wikidata.org/entity/Q16531388'), ('name', 'Virtus Basket Ariano')]\n",
      "[('team', 'http://www.wikidata.org/entity/Q16586535'), ('name', 'Pallacanestro Brindisi')]\n",
      "[('team', 'http://www.wikidata.org/entity/Q3891951'), ('name', 'Pallacanestro Livorno')]\n",
      "[('team', 'http://www.wikidata.org/entity/Q3093425'), ('name', 'Libertas Trogylos Basket')]\n",
      "[('team', 'http://www.wikidata.org/entity/Q3515600'), ('name', 'Taranto Cras Basket')]\n",
      "[('team', 'http://www.wikidata.org/entity/Q36231'), ('name', 'S.S. Felice Scandone')]\n",
      "[('team', 'http://www.wikidata.org/entity/Q36251'), ('name', 'Pallacanestro Biella')]\n",
      "[('team', 'http://www.wikidata.org/entity/Q36419'), ('name', 'Pallacanestro Reggiana')]\n",
      "[('team', 'http://www.wikidata.org/entity/Q3967121'), ('name', 'RB Montecatini Terme')]\n",
      "[('team', 'http://www.wikidata.org/entity/Q48969'), ('name', 'Scaligera Basket Verona')]\n",
      "[('team', 'http://www.wikidata.org/entity/Q50196'), ('name', 'Andrea Costa Imola')]\n",
      "[('team', 'http://www.wikidata.org/entity/Q50884'), ('name', 'Pallacanestro Trieste')]\n",
      "[('team', 'http://www.wikidata.org/entity/Q94444'), ('name', 'Roseto Sharks')]\n",
      "[('team', 'http://www.wikidata.org/entity/Q1132514'), ('name', 'Fabriano Basket')]\n",
      "[('team', 'http://www.wikidata.org/entity/Q2708666'), ('name', 'Nuova AMG Sebastiani Basket Napoli')]\n",
      "[('team', 'http://www.wikidata.org/entity/Q36391'), ('name', 'Sutor Basket Montegranaro')]\n",
      "[('team', 'http://www.wikidata.org/entity/Q3891980'), ('name', 'Nuova Pallacanestro Pavia')]\n",
      "[('team', 'http://www.wikidata.org/entity/Q4004859'), ('name', 'U.C.C.')]\n",
      "[('team', 'http://www.wikidata.org/entity/Q50200'), ('name', 'Basket Ferentino')]\n",
      "[('team', 'http://www.wikidata.org/entity/Q36462'), ('name', 'Pallacanestro Virtus Roma')]\n",
      "[('team', 'http://www.wikidata.org/entity/Q36551'), ('name', 'Pallacanestro Varese')]\n",
      "[('team', 'http://www.wikidata.org/entity/Q745603'), ('name', 'Viola Reggio Calabria')]\n",
      "[('team', 'http://www.wikidata.org/entity/Q1139737'), ('name', 'Fortitudo Pallacanestro Bologna')]\n",
      "[('team', 'http://www.wikidata.org/entity/Q24942205'), ('name', 'Pallacanestro Piacentina')]\n",
      "[('team', 'http://www.wikidata.org/entity/Q36482'), ('name', 'Polisportiva Dinamo')]\n",
      "[('team', 'http://www.wikidata.org/entity/Q51142'), ('name', 'Fulgor Libertas Forlì')]\n",
      "[('team', 'http://www.wikidata.org/entity/Q654461'), ('name', 'Basket Livorno')]\n",
      "[('team', 'http://www.wikidata.org/entity/Q3891961'), ('name', 'Pallacanestro Messina')]\n",
      "[('team', 'http://www.wikidata.org/entity/Q51211'), ('name', 'Orlandina Basket')]\n",
      "[('team', 'http://www.wikidata.org/entity/Q36277'), ('name', 'New Basket Brindisi')]\n",
      "[('team', 'http://www.wikidata.org/entity/Q42437'), ('name', 'Pistoia Basket 2000')]\n",
      "[('team', 'http://www.wikidata.org/entity/Q36362'), ('name', 'Olimpia Milano')]\n",
      "[('team', 'http://www.wikidata.org/entity/Q36500'), ('name', 'Mens Sana Basket')]\n",
      "[('team', 'http://www.wikidata.org/entity/Q810281'), ('name', 'Basket Napoli')]\n",
      "[('team', 'http://www.wikidata.org/entity/Q277016'), ('name', 'Teramo Basket')]\n",
      "[('team', 'http://www.wikidata.org/entity/Q2819414'), ('name', 'Basket Parma')]\n",
      "[('team', 'http://www.wikidata.org/entity/Q3831706'), ('name', 'Libertas Basket Bologna')]\n",
      "[('team', 'http://www.wikidata.org/entity/Q3939329'), ('name', 'Robur et Fides Varese')]\n",
      "[('team', 'http://www.wikidata.org/entity/Q36264'), ('name', 'Virtus Pallacanestro Bologna')]\n",
      "[('team', 'http://www.wikidata.org/entity/Q36311'), ('name', 'Pallacanestro Cantù')]\n",
      "[('team', 'http://www.wikidata.org/entity/Q36326'), ('name', 'Juvecaserta Basket')]\n",
      "[('team', 'http://www.wikidata.org/entity/Q42474'), ('name', 'Societa Veroli Basket')]\n",
      "[('team', 'http://www.wikidata.org/entity/Q42454'), ('name', 'Scafati Basket')]\n",
      "[('team', 'http://www.wikidata.org/entity/Q766443'), ('name', 'Pallacanestro Treviso')]\n",
      "[('team', 'http://www.wikidata.org/entity/Q2048000'), ('name', 'Pallalcesto Amatori Udine')]\n",
      "[('team', 'http://www.wikidata.org/entity/Q36406'), ('name', 'Victoria Libertas Pesaro')]\n",
      "[('team', 'http://www.wikidata.org/entity/Q810279'), ('name', 'Rinascita Basket Rimini')]\n",
      "[('team', 'http://www.wikidata.org/entity/Q3831719'), ('name', 'Libertas Livorno')]\n",
      "[('team', 'http://www.wikidata.org/entity/Q7127695'), ('name', 'Pallacanestro Pavia')]\n",
      "[('team', 'http://www.wikidata.org/entity/Q3754192'), ('name', 'Fulgor Omegna')]\n",
      "50\n"
     ]
    }
   ],
   "source": [
    "#return what is instance of basketball team and has Italy linked by country Italy\n",
    "queryString = \"\"\"\n",
    "SELECT DISTINCT ?team ?name \n",
    "WHERE {\n",
    "   ?team wdt:P31 wd:Q13393265.\n",
    "   ?team wdt:P17 wd:Q38.\n",
    "   ?team sc:name ?name.\n",
    "}\n",
    "LIMIT 50\n",
    "\"\"\"\n",
    "\n",
    "print(\"Results\")\n",
    "x=run_query(queryString)"
   ]
  },
  {
   "cell_type": "code",
   "execution_count": 35,
   "id": "f9e95185-84d9-4631-bdae-67d0abd949aa",
   "metadata": {},
   "outputs": [
    {
     "name": "stdout",
     "output_type": "stream",
     "text": [
      "Results\n",
      "[('p', 'http://www.wikidata.org/prop/direct/P5995'), ('name', 'kit supplier'), ('o', 'http://www.wikidata.org/entity/Q161906'), ('oName', 'Oakley, Inc.')]\n",
      "[('p', 'http://www.wikidata.org/prop/direct/P17'), ('name', 'country'), ('o', 'http://www.wikidata.org/entity/Q38'), ('oName', 'Italy')]\n",
      "[('p', 'http://www.wikidata.org/prop/direct/P159'), ('name', 'headquarters location'), ('o', 'http://www.wikidata.org/entity/Q490'), ('oName', 'Milan')]\n",
      "[('p', 'http://www.wikidata.org/prop/direct/P276'), ('name', 'location'), ('o', 'http://www.wikidata.org/entity/Q490'), ('oName', 'Milan')]\n",
      "[('p', 'http://www.wikidata.org/prop/direct/P641'), ('name', 'sport'), ('o', 'http://www.wikidata.org/entity/Q5372'), ('oName', 'basketball')]\n",
      "[('p', 'http://www.wikidata.org/prop/direct/P115'), ('name', 'home venue'), ('o', 'http://www.wikidata.org/entity/Q604681'), ('oName', 'Mediolanum Forum')]\n",
      "[('p', 'http://www.wikidata.org/prop/direct/P31'), ('name', 'instance of'), ('o', 'http://www.wikidata.org/entity/Q13393265'), ('oName', 'basketball team')]\n",
      "[('p', 'http://www.wikidata.org/prop/direct/P118'), ('name', 'league'), ('o', 'http://www.wikidata.org/entity/Q929124'), ('oName', 'Lega Basket Serie A')]\n",
      "[('p', 'http://www.wikidata.org/prop/direct/P910'), ('name', \"topic's main category\"), ('o', 'http://www.wikidata.org/entity/Q9231284'), ('oName', 'Category:Pallacanestro Olimpia Milano')]\n",
      "[('p', 'http://www.wikidata.org/prop/direct/P127'), ('name', 'owned by'), ('o', 'http://www.wikidata.org/entity/Q157054'), ('oName', 'Giorgio Armani')]\n",
      "[('p', 'http://www.wikidata.org/prop/direct/P166'), ('name', 'award received'), ('o', 'http://www.wikidata.org/entity/Q3972928'), ('oName', 'Star of Sports Merit')]\n",
      "[('p', 'http://www.wikidata.org/prop/direct/P286'), ('name', 'head coach'), ('o', 'http://www.wikidata.org/entity/Q523626'), ('oName', 'Ettore Messina')]\n",
      "12\n"
     ]
    }
   ],
   "source": [
    "#all properties for Olimpia Milano\n",
    "queryString = \"\"\"\n",
    "SELECT DISTINCT ?p ?name ?o ?oName\n",
    "WHERE {\n",
    "   wd:Q36362 ?p ?o.\n",
    "   ?p sc:name ?name.\n",
    "   ?o sc:name ?oName.\n",
    "}\n",
    "LIMIT 50\n",
    "\"\"\"\n",
    "\n",
    "print(\"Results\")\n",
    "x=run_query(queryString)"
   ]
  },
  {
   "cell_type": "code",
   "execution_count": 36,
   "id": "43cb8f97-854c-4f59-931e-91ac2280fcc7",
   "metadata": {},
   "outputs": [
    {
     "name": "stdout",
     "output_type": "stream",
     "text": [
      "Results\n",
      "[('p', 'http://www.wikidata.org/prop/direct/P1424'), ('name', \"topic's main template\")]\n",
      "[('p', 'http://www.wikidata.org/prop/direct/P279'), ('name', 'subclass of')]\n",
      "[('p', 'http://www.wikidata.org/prop/direct/P3417'), ('name', 'Quora topic ID')]\n",
      "[('p', 'http://www.wikidata.org/prop/direct/P373'), ('name', 'Commons category')]\n",
      "[('p', 'http://www.wikidata.org/prop/direct/P527'), ('name', 'has part')]\n",
      "[('p', 'http://www.wikidata.org/prop/direct/P641'), ('name', 'sport')]\n",
      "[('p', 'http://www.wikidata.org/prop/direct/P8408'), ('name', 'KBpedia ID')]\n",
      "[('p', 'http://www.wikidata.org/prop/direct/P910'), ('name', \"topic's main category\")]\n",
      "8\n"
     ]
    }
   ],
   "source": [
    "#all properties for basketball team\n",
    "queryString = \"\"\"\n",
    "SELECT DISTINCT ?p ?name \n",
    "WHERE {\n",
    "   wd:Q13393265 ?p ?o.\n",
    "   ?p sc:name ?name.\n",
    "}\n",
    "LIMIT 50\n",
    "\"\"\"\n",
    "\n",
    "print(\"Results\")\n",
    "x=run_query(queryString)"
   ]
  },
  {
   "cell_type": "code",
   "execution_count": 37,
   "id": "19746f0c-b842-489e-a6e8-f3aaee6e027c",
   "metadata": {},
   "outputs": [
    {
     "name": "stdout",
     "output_type": "stream",
     "text": [
      "Results\n",
      "[('p', 'http://www.wikidata.org/prop/direct/P527'), ('name', 'has part'), ('o', 'http://www.wikidata.org/entity/Q51747567'), ('oName', 'squad')]\n",
      "[('p', 'http://www.wikidata.org/prop/direct/P527'), ('name', 'has part'), ('o', 'http://www.wikidata.org/entity/Q3665646'), ('oName', 'basketball player')]\n",
      "[('p', 'http://www.wikidata.org/prop/direct/P641'), ('name', 'sport'), ('o', 'http://www.wikidata.org/entity/Q5372'), ('oName', 'basketball')]\n",
      "[('p', 'http://www.wikidata.org/prop/direct/P527'), ('name', 'has part'), ('o', 'http://www.wikidata.org/entity/Q5137571'), ('oName', 'basketball coach')]\n",
      "[('p', 'http://www.wikidata.org/prop/direct/P279'), ('name', 'subclass of'), ('o', 'http://www.wikidata.org/entity/Q847017'), ('oName', 'sports club')]\n",
      "[('p', 'http://www.wikidata.org/prop/direct/P279'), ('name', 'subclass of'), ('o', 'http://www.wikidata.org/entity/Q12973014'), ('oName', 'sports team')]\n",
      "[('p', 'http://www.wikidata.org/prop/direct/P1424'), ('name', \"topic's main template\"), ('o', 'http://www.wikidata.org/entity/Q5648512'), ('oName', 'Template:Infobox basketball club')]\n",
      "[('p', 'http://www.wikidata.org/prop/direct/P910'), ('name', \"topic's main category\"), ('o', 'http://www.wikidata.org/entity/Q5647277'), ('oName', 'Category:Basketball teams')]\n",
      "8\n"
     ]
    }
   ],
   "source": [
    "#all properties and objects for basketball team\n",
    "queryString = \"\"\"\n",
    "SELECT DISTINCT ?p ?name ?o ?oName\n",
    "WHERE {\n",
    "   wd:Q13393265 ?p ?o.\n",
    "   ?p sc:name ?name.\n",
    "   ?o sc:name ?oName.\n",
    "}\n",
    "LIMIT 50\n",
    "\"\"\"\n",
    "\n",
    "print(\"Results\")\n",
    "x=run_query(queryString)"
   ]
  },
  {
   "cell_type": "code",
   "execution_count": 38,
   "id": "167028fd-7cb6-4fca-989f-0bce6329cef9",
   "metadata": {},
   "outputs": [
    {
     "name": "stdout",
     "output_type": "stream",
     "text": [
      "Results\n",
      "[('p', 'http://www.wikidata.org/prop/direct/P2670'), ('name', 'has parts of the class'), ('o', 'http://www.wikidata.org/entity/Q51747567'), ('oName', 'squad')]\n",
      "[('p', 'http://www.wikidata.org/prop/direct/P1343'), ('name', 'described by source'), ('o', 'http://www.wikidata.org/entity/Q2657718'), ('oName', 'Armenian Soviet Encyclopedia')]\n",
      "[('p', 'http://www.wikidata.org/prop/direct/P279'), ('name', 'subclass of'), ('o', 'http://www.wikidata.org/entity/Q4438121'), ('oName', 'sports organization')]\n",
      "[('p', 'http://www.wikidata.org/prop/direct/P1424'), ('name', \"topic's main template\"), ('o', 'http://www.wikidata.org/entity/Q19467997'), ('oName', 'Template:Infobox athletics club')]\n",
      "[('p', 'http://www.wikidata.org/prop/direct/P1889'), ('name', 'different from'), ('o', 'http://www.wikidata.org/entity/Q12973014'), ('oName', 'sports team')]\n",
      "[('p', 'http://www.wikidata.org/prop/direct/P279'), ('name', 'subclass of'), ('o', 'http://www.wikidata.org/entity/Q988108'), ('oName', 'club')]\n",
      "[('p', 'http://www.wikidata.org/prop/direct/P910'), ('name', \"topic's main category\"), ('o', 'http://www.wikidata.org/entity/Q9717774'), ('oName', 'Category:Sports clubs')]\n",
      "[('p', 'http://www.wikidata.org/prop/direct/P1424'), ('name', \"topic's main template\"), ('o', 'http://www.wikidata.org/entity/Q10730006'), ('oName', 'Template:Infobox sports team')]\n",
      "[('p', 'http://www.wikidata.org/prop/direct/P1687'), ('name', 'Wikidata property'), ('o', 'http://www.wikidata.org/entity/P4999'), ('oName', 'number of clubs')]\n",
      "9\n"
     ]
    }
   ],
   "source": [
    "#all properties and objects for sports club\n",
    "queryString = \"\"\"\n",
    "SELECT DISTINCT ?p ?name ?o ?oName\n",
    "WHERE {\n",
    "   wd:Q847017 ?p ?o.\n",
    "   ?p sc:name ?name.\n",
    "   ?o sc:name ?oName.\n",
    "}\n",
    "LIMIT 50\n",
    "\"\"\"\n",
    "\n",
    "print(\"Results\")\n",
    "x=run_query(queryString)"
   ]
  },
  {
   "cell_type": "code",
   "execution_count": 39,
   "id": "d6d901c9-b421-4866-8977-cefe52a8aa6a",
   "metadata": {},
   "outputs": [
    {
     "name": "stdout",
     "output_type": "stream",
     "text": [
      "Results\n",
      "[('p', 'http://www.wikidata.org/prop/direct/P279'), ('name', 'subclass of'), ('o', 'http://www.wikidata.org/entity/Q12047392'), ('oName', 'legal form')]\n",
      "[('p', 'http://www.wikidata.org/prop/direct/P1343'), ('name', 'described by source'), ('o', 'http://www.wikidata.org/entity/Q2657718'), ('oName', 'Armenian Soviet Encyclopedia')]\n",
      "[('p', 'http://www.wikidata.org/prop/direct/P279'), ('name', 'subclass of'), ('o', 'http://www.wikidata.org/entity/Q43229'), ('oName', 'organization')]\n",
      "[('p', 'http://www.wikidata.org/prop/direct/P527'), ('name', 'has part'), ('o', 'http://www.wikidata.org/entity/Q16334295'), ('oName', 'group of humans')]\n",
      "[('p', 'http://www.wikidata.org/prop/direct/P1889'), ('name', 'different from'), ('o', 'http://www.wikidata.org/entity/Q622425'), ('oName', 'nightclub')]\n",
      "[('p', 'http://www.wikidata.org/prop/direct/P279'), ('name', 'subclass of'), ('o', 'http://www.wikidata.org/entity/Q48204'), ('oName', 'voluntary organization')]\n",
      "[('p', 'http://www.wikidata.org/prop/direct/P279'), ('name', 'subclass of'), ('o', 'http://www.wikidata.org/entity/Q155076'), ('oName', 'juridical person')]\n",
      "7\n"
     ]
    }
   ],
   "source": [
    "#all properties and objects for club\n",
    "queryString = \"\"\"\n",
    "SELECT DISTINCT ?p ?name ?o ?oName\n",
    "WHERE {\n",
    "   wd:Q988108 ?p ?o.\n",
    "   ?p sc:name ?name.\n",
    "   ?o sc:name ?oName.\n",
    "}\n",
    "LIMIT 50\n",
    "\"\"\"\n",
    "\n",
    "print(\"Results\")\n",
    "x=run_query(queryString)"
   ]
  },
  {
   "cell_type": "code",
   "execution_count": 40,
   "id": "8f77db1e-208d-4364-9dfd-d74d06f08216",
   "metadata": {},
   "outputs": [
    {
     "name": "stdout",
     "output_type": "stream",
     "text": [
      "Results\n",
      "[('p', 'http://www.wikidata.org/prop/direct/P1963'), ('name', 'properties for this type'), ('o', 'http://www.wikidata.org/entity/P3500'), ('oName', 'Ringgold ID')]\n",
      "[('p', 'http://www.wikidata.org/prop/direct/P1963'), ('name', 'properties for this type'), ('o', 'http://www.wikidata.org/entity/P213'), ('oName', 'ISNI')]\n",
      "[('p', 'http://www.wikidata.org/prop/direct/P1963'), ('name', 'properties for this type'), ('o', 'http://www.wikidata.org/entity/P1705'), ('oName', 'native label')]\n",
      "[('p', 'http://www.wikidata.org/prop/direct/P1963'), ('name', 'properties for this type'), ('o', 'http://www.wikidata.org/entity/P3549'), ('oName', 'Australian Company Number')]\n",
      "[('p', 'http://www.wikidata.org/prop/direct/P1963'), ('name', 'properties for this type'), ('o', 'http://www.wikidata.org/entity/P1278'), ('oName', 'Legal Entity Identifier')]\n",
      "[('p', 'http://www.wikidata.org/prop/direct/P1963'), ('name', 'properties for this type'), ('o', 'http://www.wikidata.org/entity/P1320'), ('oName', 'OpenCorporates ID')]\n",
      "[('p', 'http://www.wikidata.org/prop/direct/P1889'), ('name', 'different from'), ('o', 'http://www.wikidata.org/entity/Q36993249'), ('oName', 'arranging')]\n",
      "[('p', 'http://www.wikidata.org/prop/direct/P1963'), ('name', 'properties for this type'), ('o', 'http://www.wikidata.org/entity/P1056'), ('oName', 'product or material produced')]\n",
      "[('p', 'http://www.wikidata.org/prop/direct/P1963'), ('name', 'properties for this type'), ('o', 'http://www.wikidata.org/entity/P1329'), ('oName', 'phone number')]\n",
      "[('p', 'http://www.wikidata.org/prop/direct/P1552'), ('name', 'has quality'), ('o', 'http://www.wikidata.org/entity/Q3535173'), ('oName', 'organizational life cycle')]\n",
      "[('p', 'http://www.wikidata.org/prop/direct/P279'), ('name', 'subclass of'), ('o', 'http://www.wikidata.org/entity/Q6671777'), ('oName', 'structure')]\n",
      "[('p', 'http://www.wikidata.org/prop/direct/P1963'), ('name', 'properties for this type'), ('o', 'http://www.wikidata.org/entity/P159'), ('oName', 'headquarters location')]\n",
      "[('p', 'http://www.wikidata.org/prop/direct/P1552'), ('name', 'has quality'), ('o', 'http://www.wikidata.org/entity/Q17197366'), ('oName', 'type of organisation')]\n",
      "[('p', 'http://www.wikidata.org/prop/direct/P527'), ('name', 'has part'), ('o', 'http://www.wikidata.org/entity/Q10756188'), ('oName', 'treasury')]\n",
      "[('p', 'http://www.wikidata.org/prop/direct/P1963'), ('name', 'properties for this type'), ('o', 'http://www.wikidata.org/entity/P2657'), ('oName', 'EU Transparency Register ID')]\n",
      "[('p', 'http://www.wikidata.org/prop/direct/P1552'), ('name', 'has quality'), ('o', 'http://www.wikidata.org/entity/Q730573'), ('oName', 'organizational culture')]\n",
      "[('p', 'http://www.wikidata.org/prop/direct/P1963'), ('name', 'properties for this type'), ('o', 'http://www.wikidata.org/entity/P17'), ('oName', 'country')]\n",
      "[('p', 'http://www.wikidata.org/prop/direct/P1963'), ('name', 'properties for this type'), ('o', 'http://www.wikidata.org/entity/P112'), ('oName', 'founded by')]\n",
      "[('p', 'http://www.wikidata.org/prop/direct/P1963'), ('name', 'properties for this type'), ('o', 'http://www.wikidata.org/entity/P571'), ('oName', 'inception')]\n",
      "[('p', 'http://www.wikidata.org/prop/direct/P1963'), ('name', 'properties for this type'), ('o', 'http://www.wikidata.org/entity/P1128'), ('oName', 'employees')]\n",
      "[('p', 'http://www.wikidata.org/prop/direct/P1963'), ('name', 'properties for this type'), ('o', 'http://www.wikidata.org/entity/P131'), ('oName', 'located in the administrative territorial entity')]\n",
      "[('p', 'http://www.wikidata.org/prop/direct/P1963'), ('name', 'properties for this type'), ('o', 'http://www.wikidata.org/entity/P527'), ('oName', 'has part')]\n",
      "[('p', 'http://www.wikidata.org/prop/direct/P1963'), ('name', 'properties for this type'), ('o', 'http://www.wikidata.org/entity/P856'), ('oName', 'official website')]\n",
      "[('p', 'http://www.wikidata.org/prop/direct/P279'), ('name', 'subclass of'), ('o', 'http://www.wikidata.org/entity/Q16334295'), ('oName', 'group of humans')]\n",
      "[('p', 'http://www.wikidata.org/prop/direct/P1552'), ('name', 'has quality'), ('o', 'http://www.wikidata.org/entity/Q852998'), ('oName', 'stakeholder')]\n",
      "[('p', 'http://www.wikidata.org/prop/direct/P1963'), ('name', 'properties for this type'), ('o', 'http://www.wikidata.org/entity/P355'), ('oName', 'subsidiary')]\n",
      "[('p', 'http://www.wikidata.org/prop/direct/P1963'), ('name', 'properties for this type'), ('o', 'http://www.wikidata.org/entity/P740'), ('oName', 'location of formation')]\n",
      "[('p', 'http://www.wikidata.org/prop/direct/P1552'), ('name', 'has quality'), ('o', 'http://www.wikidata.org/entity/Q3738275'), ('oName', 'adaptive capacity')]\n",
      "[('p', 'http://www.wikidata.org/prop/direct/P1963'), ('name', 'properties for this type'), ('o', 'http://www.wikidata.org/entity/P1813'), ('oName', 'short name')]\n",
      "[('p', 'http://www.wikidata.org/prop/direct/P1963'), ('name', 'properties for this type'), ('o', 'http://www.wikidata.org/entity/P1616'), ('oName', 'SIREN number')]\n",
      "[('p', 'http://www.wikidata.org/prop/direct/P1963'), ('name', 'properties for this type'), ('o', 'http://www.wikidata.org/entity/P3215'), ('oName', 'SIRET number')]\n",
      "[('p', 'http://www.wikidata.org/prop/direct/P1424'), ('name', \"topic's main template\"), ('o', 'http://www.wikidata.org/entity/Q6190581'), ('oName', 'Template:Infobox organization')]\n",
      "[('p', 'http://www.wikidata.org/prop/direct/P1424'), ('name', \"topic's main template\"), ('o', 'http://www.wikidata.org/entity/Q6688962'), ('oName', 'Template:Aspects of organizations')]\n",
      "[('p', 'http://www.wikidata.org/prop/direct/P1963'), ('name', 'properties for this type'), ('o', 'http://www.wikidata.org/entity/P1830'), ('oName', 'owner of')]\n",
      "[('p', 'http://www.wikidata.org/prop/direct/P1963'), ('name', 'properties for this type'), ('o', 'http://www.wikidata.org/entity/P749'), ('oName', 'parent organization')]\n",
      "[('p', 'http://www.wikidata.org/prop/direct/P1963'), ('name', 'properties for this type'), ('o', 'http://www.wikidata.org/entity/P1297'), ('oName', 'IRS Employer Identification Number')]\n",
      "[('p', 'http://www.wikidata.org/prop/direct/P1963'), ('name', 'properties for this type'), ('o', 'http://www.wikidata.org/entity/P2541'), ('oName', 'operating area')]\n",
      "[('p', 'http://www.wikidata.org/prop/direct/P1963'), ('name', 'properties for this type'), ('o', 'http://www.wikidata.org/entity/P452'), ('oName', 'industry')]\n",
      "[('p', 'http://www.wikidata.org/prop/direct/P1963'), ('name', 'properties for this type'), ('o', 'http://www.wikidata.org/entity/P463'), ('oName', 'member of')]\n",
      "[('p', 'http://www.wikidata.org/prop/direct/P1687'), ('name', 'Wikidata property'), ('o', 'http://www.wikidata.org/entity/P1268'), ('oName', 'represents')]\n",
      "[('p', 'http://www.wikidata.org/prop/direct/P1963'), ('name', 'properties for this type'), ('o', 'http://www.wikidata.org/entity/P1961'), ('oName', 'CTHS society ID')]\n",
      "[('p', 'http://www.wikidata.org/prop/direct/P1963'), ('name', 'properties for this type'), ('o', 'http://www.wikidata.org/entity/P169'), ('oName', 'chief executive officer')]\n",
      "[('p', 'http://www.wikidata.org/prop/direct/P1552'), ('name', 'has quality'), ('o', 'http://www.wikidata.org/entity/Q1430172'), ('oName', 'organizational learning')]\n",
      "[('p', 'http://www.wikidata.org/prop/direct/P1552'), ('name', 'has quality'), ('o', 'http://www.wikidata.org/entity/Q53281408'), ('oName', \"organisation's goals\")]\n",
      "[('p', 'http://www.wikidata.org/prop/direct/P1552'), ('name', 'has quality'), ('o', 'http://www.wikidata.org/entity/Q759524'), ('oName', 'organizational structure')]\n",
      "[('p', 'http://www.wikidata.org/prop/direct/P1552'), ('name', 'has quality'), ('o', 'http://www.wikidata.org/entity/Q19483216'), ('oName', 'organizational behavior')]\n",
      "[('p', 'http://www.wikidata.org/prop/direct/P1963'), ('name', 'properties for this type'), ('o', 'http://www.wikidata.org/entity/P1454'), ('oName', 'legal form')]\n",
      "[('p', 'http://www.wikidata.org/prop/direct/P1963'), ('name', 'properties for this type'), ('o', 'http://www.wikidata.org/entity/P807'), ('oName', 'separated from')]\n",
      "[('p', 'http://www.wikidata.org/prop/direct/P1963'), ('name', 'properties for this type'), ('o', 'http://www.wikidata.org/entity/P4290'), ('oName', 'official app')]\n",
      "[('p', 'http://www.wikidata.org/prop/direct/P1963'), ('name', 'properties for this type'), ('o', 'http://www.wikidata.org/entity/P154'), ('oName', 'logo image')]\n",
      "50\n"
     ]
    }
   ],
   "source": [
    "#all properties and objects for organization\n",
    "queryString = \"\"\"\n",
    "SELECT DISTINCT ?p ?name ?o ?oName\n",
    "WHERE {\n",
    "   wd:Q43229 ?p ?o.\n",
    "   ?p sc:name ?name.\n",
    "   ?o sc:name ?oName.\n",
    "}\n",
    "LIMIT 50\n",
    "\"\"\"\n",
    "\n",
    "print(\"Results\")\n",
    "x=run_query(queryString)"
   ]
  },
  {
   "cell_type": "code",
   "execution_count": 41,
   "id": "d3d487ee-6608-46d2-b561-ea3fea021c26",
   "metadata": {},
   "outputs": [
    {
     "name": "stdout",
     "output_type": "stream",
     "text": [
      "Results\n",
      "[('p', 'http://www.wikidata.org/prop/direct/P1963'), ('name', 'properties for this type'), ('o', 'http://www.wikidata.org/entity/P3500'), ('oName', 'Ringgold ID')]\n",
      "[('p', 'http://www.wikidata.org/prop/direct/P1963'), ('name', 'properties for this type'), ('o', 'http://www.wikidata.org/entity/P213'), ('oName', 'ISNI')]\n",
      "[('p', 'http://www.wikidata.org/prop/direct/P1963'), ('name', 'properties for this type'), ('o', 'http://www.wikidata.org/entity/P1705'), ('oName', 'native label')]\n",
      "[('p', 'http://www.wikidata.org/prop/direct/P1963'), ('name', 'properties for this type'), ('o', 'http://www.wikidata.org/entity/P3549'), ('oName', 'Australian Company Number')]\n",
      "[('p', 'http://www.wikidata.org/prop/direct/P1963'), ('name', 'properties for this type'), ('o', 'http://www.wikidata.org/entity/P1278'), ('oName', 'Legal Entity Identifier')]\n",
      "[('p', 'http://www.wikidata.org/prop/direct/P1963'), ('name', 'properties for this type'), ('o', 'http://www.wikidata.org/entity/P1320'), ('oName', 'OpenCorporates ID')]\n",
      "[('p', 'http://www.wikidata.org/prop/direct/P1889'), ('name', 'different from'), ('o', 'http://www.wikidata.org/entity/Q36993249'), ('oName', 'arranging')]\n",
      "[('p', 'http://www.wikidata.org/prop/direct/P1963'), ('name', 'properties for this type'), ('o', 'http://www.wikidata.org/entity/P1056'), ('oName', 'product or material produced')]\n",
      "[('p', 'http://www.wikidata.org/prop/direct/P1963'), ('name', 'properties for this type'), ('o', 'http://www.wikidata.org/entity/P1329'), ('oName', 'phone number')]\n",
      "[('p', 'http://www.wikidata.org/prop/direct/P1552'), ('name', 'has quality'), ('o', 'http://www.wikidata.org/entity/Q3535173'), ('oName', 'organizational life cycle')]\n",
      "[('p', 'http://www.wikidata.org/prop/direct/P279'), ('name', 'subclass of'), ('o', 'http://www.wikidata.org/entity/Q6671777'), ('oName', 'structure')]\n",
      "[('p', 'http://www.wikidata.org/prop/direct/P1963'), ('name', 'properties for this type'), ('o', 'http://www.wikidata.org/entity/P159'), ('oName', 'headquarters location')]\n",
      "[('p', 'http://www.wikidata.org/prop/direct/P1552'), ('name', 'has quality'), ('o', 'http://www.wikidata.org/entity/Q17197366'), ('oName', 'type of organisation')]\n",
      "[('p', 'http://www.wikidata.org/prop/direct/P527'), ('name', 'has part'), ('o', 'http://www.wikidata.org/entity/Q10756188'), ('oName', 'treasury')]\n",
      "[('p', 'http://www.wikidata.org/prop/direct/P1963'), ('name', 'properties for this type'), ('o', 'http://www.wikidata.org/entity/P2657'), ('oName', 'EU Transparency Register ID')]\n",
      "[('p', 'http://www.wikidata.org/prop/direct/P1552'), ('name', 'has quality'), ('o', 'http://www.wikidata.org/entity/Q730573'), ('oName', 'organizational culture')]\n",
      "[('p', 'http://www.wikidata.org/prop/direct/P1963'), ('name', 'properties for this type'), ('o', 'http://www.wikidata.org/entity/P17'), ('oName', 'country')]\n",
      "[('p', 'http://www.wikidata.org/prop/direct/P1963'), ('name', 'properties for this type'), ('o', 'http://www.wikidata.org/entity/P112'), ('oName', 'founded by')]\n",
      "[('p', 'http://www.wikidata.org/prop/direct/P1963'), ('name', 'properties for this type'), ('o', 'http://www.wikidata.org/entity/P571'), ('oName', 'inception')]\n",
      "[('p', 'http://www.wikidata.org/prop/direct/P1963'), ('name', 'properties for this type'), ('o', 'http://www.wikidata.org/entity/P1128'), ('oName', 'employees')]\n",
      "[('p', 'http://www.wikidata.org/prop/direct/P1963'), ('name', 'properties for this type'), ('o', 'http://www.wikidata.org/entity/P131'), ('oName', 'located in the administrative territorial entity')]\n",
      "[('p', 'http://www.wikidata.org/prop/direct/P1963'), ('name', 'properties for this type'), ('o', 'http://www.wikidata.org/entity/P527'), ('oName', 'has part')]\n",
      "[('p', 'http://www.wikidata.org/prop/direct/P1963'), ('name', 'properties for this type'), ('o', 'http://www.wikidata.org/entity/P856'), ('oName', 'official website')]\n",
      "[('p', 'http://www.wikidata.org/prop/direct/P279'), ('name', 'subclass of'), ('o', 'http://www.wikidata.org/entity/Q16334295'), ('oName', 'group of humans')]\n",
      "[('p', 'http://www.wikidata.org/prop/direct/P1552'), ('name', 'has quality'), ('o', 'http://www.wikidata.org/entity/Q852998'), ('oName', 'stakeholder')]\n",
      "[('p', 'http://www.wikidata.org/prop/direct/P1963'), ('name', 'properties for this type'), ('o', 'http://www.wikidata.org/entity/P355'), ('oName', 'subsidiary')]\n",
      "[('p', 'http://www.wikidata.org/prop/direct/P1963'), ('name', 'properties for this type'), ('o', 'http://www.wikidata.org/entity/P740'), ('oName', 'location of formation')]\n",
      "[('p', 'http://www.wikidata.org/prop/direct/P1552'), ('name', 'has quality'), ('o', 'http://www.wikidata.org/entity/Q3738275'), ('oName', 'adaptive capacity')]\n",
      "[('p', 'http://www.wikidata.org/prop/direct/P1963'), ('name', 'properties for this type'), ('o', 'http://www.wikidata.org/entity/P1813'), ('oName', 'short name')]\n",
      "[('p', 'http://www.wikidata.org/prop/direct/P1963'), ('name', 'properties for this type'), ('o', 'http://www.wikidata.org/entity/P1616'), ('oName', 'SIREN number')]\n",
      "[('p', 'http://www.wikidata.org/prop/direct/P1963'), ('name', 'properties for this type'), ('o', 'http://www.wikidata.org/entity/P3215'), ('oName', 'SIRET number')]\n",
      "[('p', 'http://www.wikidata.org/prop/direct/P1424'), ('name', \"topic's main template\"), ('o', 'http://www.wikidata.org/entity/Q6190581'), ('oName', 'Template:Infobox organization')]\n",
      "[('p', 'http://www.wikidata.org/prop/direct/P1424'), ('name', \"topic's main template\"), ('o', 'http://www.wikidata.org/entity/Q6688962'), ('oName', 'Template:Aspects of organizations')]\n",
      "[('p', 'http://www.wikidata.org/prop/direct/P1963'), ('name', 'properties for this type'), ('o', 'http://www.wikidata.org/entity/P1830'), ('oName', 'owner of')]\n",
      "[('p', 'http://www.wikidata.org/prop/direct/P1963'), ('name', 'properties for this type'), ('o', 'http://www.wikidata.org/entity/P749'), ('oName', 'parent organization')]\n",
      "[('p', 'http://www.wikidata.org/prop/direct/P1963'), ('name', 'properties for this type'), ('o', 'http://www.wikidata.org/entity/P1297'), ('oName', 'IRS Employer Identification Number')]\n",
      "[('p', 'http://www.wikidata.org/prop/direct/P1963'), ('name', 'properties for this type'), ('o', 'http://www.wikidata.org/entity/P2541'), ('oName', 'operating area')]\n",
      "[('p', 'http://www.wikidata.org/prop/direct/P1963'), ('name', 'properties for this type'), ('o', 'http://www.wikidata.org/entity/P452'), ('oName', 'industry')]\n",
      "[('p', 'http://www.wikidata.org/prop/direct/P1963'), ('name', 'properties for this type'), ('o', 'http://www.wikidata.org/entity/P463'), ('oName', 'member of')]\n",
      "[('p', 'http://www.wikidata.org/prop/direct/P1687'), ('name', 'Wikidata property'), ('o', 'http://www.wikidata.org/entity/P1268'), ('oName', 'represents')]\n",
      "[('p', 'http://www.wikidata.org/prop/direct/P1963'), ('name', 'properties for this type'), ('o', 'http://www.wikidata.org/entity/P1961'), ('oName', 'CTHS society ID')]\n",
      "[('p', 'http://www.wikidata.org/prop/direct/P1963'), ('name', 'properties for this type'), ('o', 'http://www.wikidata.org/entity/P169'), ('oName', 'chief executive officer')]\n",
      "[('p', 'http://www.wikidata.org/prop/direct/P1552'), ('name', 'has quality'), ('o', 'http://www.wikidata.org/entity/Q1430172'), ('oName', 'organizational learning')]\n",
      "[('p', 'http://www.wikidata.org/prop/direct/P1552'), ('name', 'has quality'), ('o', 'http://www.wikidata.org/entity/Q53281408'), ('oName', \"organisation's goals\")]\n",
      "[('p', 'http://www.wikidata.org/prop/direct/P1552'), ('name', 'has quality'), ('o', 'http://www.wikidata.org/entity/Q759524'), ('oName', 'organizational structure')]\n",
      "[('p', 'http://www.wikidata.org/prop/direct/P1552'), ('name', 'has quality'), ('o', 'http://www.wikidata.org/entity/Q19483216'), ('oName', 'organizational behavior')]\n",
      "[('p', 'http://www.wikidata.org/prop/direct/P1963'), ('name', 'properties for this type'), ('o', 'http://www.wikidata.org/entity/P1454'), ('oName', 'legal form')]\n",
      "[('p', 'http://www.wikidata.org/prop/direct/P1963'), ('name', 'properties for this type'), ('o', 'http://www.wikidata.org/entity/P807'), ('oName', 'separated from')]\n",
      "[('p', 'http://www.wikidata.org/prop/direct/P1963'), ('name', 'properties for this type'), ('o', 'http://www.wikidata.org/entity/P4290'), ('oName', 'official app')]\n",
      "[('p', 'http://www.wikidata.org/prop/direct/P1963'), ('name', 'properties for this type'), ('o', 'http://www.wikidata.org/entity/P154'), ('oName', 'logo image')]\n",
      "[('p', 'http://www.wikidata.org/prop/direct/P910'), ('name', \"topic's main category\"), ('o', 'http://www.wikidata.org/entity/Q5613113'), ('oName', 'Category:Organizations')]\n",
      "[('p', 'http://www.wikidata.org/prop/direct/P1963'), ('name', 'properties for this type'), ('o', 'http://www.wikidata.org/entity/P2189'), ('oName', 'BiblioNet publisher ID')]\n",
      "[('p', 'http://www.wikidata.org/prop/direct/P1963'), ('name', 'properties for this type'), ('o', 'http://www.wikidata.org/entity/P3163'), ('oName', 'Scottish Charity number')]\n",
      "[('p', 'http://www.wikidata.org/prop/direct/P1963'), ('name', 'properties for this type'), ('o', 'http://www.wikidata.org/entity/P3273'), ('oName', 'Actorenregister ID')]\n",
      "[('p', 'http://www.wikidata.org/prop/direct/P1963'), ('name', 'properties for this type'), ('o', 'http://www.wikidata.org/entity/P3534'), ('oName', 'Australian Government Organisations Register ID')]\n",
      "[('p', 'http://www.wikidata.org/prop/direct/P1963'), ('name', 'properties for this type'), ('o', 'http://www.wikidata.org/entity/P3642'), ('oName', 'ARCHON code')]\n",
      "[('p', 'http://www.wikidata.org/prop/direct/P279'), ('name', 'subclass of'), ('o', 'http://www.wikidata.org/entity/Q106559804'), ('oName', 'person or organization')]\n",
      "[('p', 'http://www.wikidata.org/prop/direct/P1963'), ('name', 'properties for this type'), ('o', 'http://www.wikidata.org/entity/P2900'), ('oName', 'fax number')]\n",
      "[('p', 'http://www.wikidata.org/prop/direct/P1963'), ('name', 'properties for this type'), ('o', 'http://www.wikidata.org/entity/P2813'), ('oName', 'house publication')]\n",
      "[('p', 'http://www.wikidata.org/prop/direct/P1963'), ('name', 'properties for this type'), ('o', 'http://www.wikidata.org/entity/P3393'), ('oName', 'LittleSis organization ID')]\n",
      "[('p', 'http://www.wikidata.org/prop/direct/P1963'), ('name', 'properties for this type'), ('o', 'http://www.wikidata.org/entity/P2088'), ('oName', 'Crunchbase organization ID')]\n",
      "[('p', 'http://www.wikidata.org/prop/direct/P1552'), ('name', 'has quality'), ('o', 'http://www.wikidata.org/entity/Q7102013'), ('oName', 'workplace conflict')]\n",
      "[('p', 'http://www.wikidata.org/prop/direct/P6186'), ('name', 'category for eponymous categories'), ('o', 'http://www.wikidata.org/entity/Q8103926'), ('oName', 'Category:Wikipedia categories named after organizations')]\n",
      "[('p', 'http://www.wikidata.org/prop/direct/P1552'), ('name', 'has quality'), ('o', 'http://www.wikidata.org/entity/Q1937189'), ('oName', 'organizational communication')]\n",
      "[('p', 'http://www.wikidata.org/prop/direct/P1963'), ('name', 'properties for this type'), ('o', 'http://www.wikidata.org/entity/P2388'), ('oName', 'office held by head of the organization')]\n",
      "[('p', 'http://www.wikidata.org/prop/direct/P1963'), ('name', 'properties for this type'), ('o', 'http://www.wikidata.org/entity/P1546'), ('oName', 'motto')]\n",
      "[('p', 'http://www.wikidata.org/prop/direct/P1552'), ('name', 'has quality'), ('o', 'http://www.wikidata.org/entity/Q25048163'), ('oName', 'organizational identity')]\n",
      "[('p', 'http://www.wikidata.org/prop/direct/P1963'), ('name', 'properties for this type'), ('o', 'http://www.wikidata.org/entity/P1662'), ('oName', 'DOI prefix')]\n",
      "[('p', 'http://www.wikidata.org/prop/direct/P1963'), ('name', 'properties for this type'), ('o', 'http://www.wikidata.org/entity/P2740'), ('oName', 'ResearchGate institute ID')]\n",
      "[('p', 'http://www.wikidata.org/prop/direct/P1963'), ('name', 'properties for this type'), ('o', 'http://www.wikidata.org/entity/P2391'), ('oName', 'OKPO ID')]\n",
      "[('p', 'http://www.wikidata.org/prop/direct/P1963'), ('name', 'properties for this type'), ('o', 'http://www.wikidata.org/entity/P1789'), ('oName', 'chief operating officer')]\n",
      "[('p', 'http://www.wikidata.org/prop/direct/P1963'), ('name', 'properties for this type'), ('o', 'http://www.wikidata.org/entity/P3797'), ('oName', 'autonomous system number')]\n",
      "[('p', 'http://www.wikidata.org/prop/direct/P1963'), ('name', 'properties for this type'), ('o', 'http://www.wikidata.org/entity/P3914'), ('oName', 'GuideStar Israel organization ID')]\n",
      "[('p', 'http://www.wikidata.org/prop/direct/P1424'), ('name', \"topic's main template\"), ('o', 'http://www.wikidata.org/entity/Q57971242'), ('oName', 'Template:Infobox organization/Wikidata')]\n",
      "[('p', 'http://www.wikidata.org/prop/direct/P1963'), ('name', 'properties for this type'), ('o', 'http://www.wikidata.org/entity/P4090'), ('oName', 'Biodiversity Repository ID')]\n",
      "[('p', 'http://www.wikidata.org/prop/direct/P1963'), ('name', 'properties for this type'), ('o', 'http://www.wikidata.org/entity/P3220'), ('oName', 'KvK company ID')]\n",
      "[('p', 'http://www.wikidata.org/prop/direct/P1552'), ('name', 'has quality'), ('o', 'http://www.wikidata.org/entity/Q2727939'), ('oName', 'organizational memory')]\n",
      "77\n"
     ]
    }
   ],
   "source": [
    "#all properties and objects for organization limit increased\n",
    "queryString = \"\"\"\n",
    "SELECT DISTINCT ?p ?name ?o ?oName\n",
    "WHERE {\n",
    "   wd:Q43229 ?p ?o.\n",
    "   ?p sc:name ?name.\n",
    "   ?o sc:name ?oName.\n",
    "}\n",
    "LIMIT 100\n",
    "\"\"\"\n",
    "\n",
    "print(\"Results\")\n",
    "x=run_query(queryString)"
   ]
  },
  {
   "cell_type": "code",
   "execution_count": 42,
   "id": "07cba9f9-3f65-4533-b2e4-0f1c2eac3433",
   "metadata": {},
   "outputs": [
    {
     "name": "stdout",
     "output_type": "stream",
     "text": [
      "Results\n",
      "[('p', 'http://www.wikidata.org/prop/direct/P115'), ('name', 'home venue'), ('o', 'http://www.wikidata.org/entity/Q119882'), ('oName', 'Palazzo dello Sport')]\n",
      "[('p', 'http://www.wikidata.org/prop/direct/P276'), ('name', 'location'), ('o', 'http://www.wikidata.org/entity/Q220'), ('oName', 'Rome')]\n",
      "[('p', 'http://www.wikidata.org/prop/direct/P159'), ('name', 'headquarters location'), ('o', 'http://www.wikidata.org/entity/Q220'), ('oName', 'Rome')]\n",
      "[('p', 'http://www.wikidata.org/prop/direct/P17'), ('name', 'country'), ('o', 'http://www.wikidata.org/entity/Q38'), ('oName', 'Italy')]\n",
      "[('p', 'http://www.wikidata.org/prop/direct/P641'), ('name', 'sport'), ('o', 'http://www.wikidata.org/entity/Q5372'), ('oName', 'basketball')]\n",
      "[('p', 'http://www.wikidata.org/prop/direct/P31'), ('name', 'instance of'), ('o', 'http://www.wikidata.org/entity/Q13393265'), ('oName', 'basketball team')]\n",
      "[('p', 'http://www.wikidata.org/prop/direct/P118'), ('name', 'league'), ('o', 'http://www.wikidata.org/entity/Q17652315'), ('oName', 'Serie A2 Basket')]\n",
      "[('p', 'http://www.wikidata.org/prop/direct/P286'), ('name', 'head coach'), ('o', 'http://www.wikidata.org/entity/Q3903182'), ('oName', 'Piero Bucchi')]\n",
      "[('p', 'http://www.wikidata.org/prop/direct/P127'), ('name', 'owned by'), ('o', 'http://www.wikidata.org/entity/Q61413101'), ('oName', 'Claudio Toti')]\n",
      "[('p', 'http://www.wikidata.org/prop/direct/P910'), ('name', \"topic's main category\"), ('o', 'http://www.wikidata.org/entity/Q9315007'), ('oName', 'Category:Pallacanestro Virtus Roma')]\n",
      "10\n"
     ]
    }
   ],
   "source": [
    "#all properties and objects for Virtus Roma\n",
    "queryString = \"\"\"\n",
    "SELECT DISTINCT ?p ?name ?o ?oName\n",
    "WHERE {\n",
    "   wd:Q36462 ?p ?o.\n",
    "   ?p sc:name ?name.\n",
    "   ?o sc:name ?oName.\n",
    "}\n",
    "LIMIT 50\n",
    "\"\"\"\n",
    "\n",
    "print(\"Results\")\n",
    "x=run_query(queryString)"
   ]
  },
  {
   "cell_type": "code",
   "execution_count": 43,
   "id": "59d9357a-fa07-48b2-9b66-902703f3c228",
   "metadata": {},
   "outputs": [
    {
     "name": "stdout",
     "output_type": "stream",
     "text": [
      "Results\n",
      "[('p', 'http://www.wikidata.org/prop/direct/P4794'), ('name', 'season starts'), ('o', 'http://www.wikidata.org/entity/Q124'), ('oName', 'October')]\n",
      "[('p', 'http://www.wikidata.org/prop/direct/P17'), ('name', 'country'), ('o', 'http://www.wikidata.org/entity/Q38'), ('oName', 'Italy')]\n",
      "[('p', 'http://www.wikidata.org/prop/direct/P641'), ('name', 'sport'), ('o', 'http://www.wikidata.org/entity/Q5372'), ('oName', 'basketball')]\n",
      "[('p', 'http://www.wikidata.org/prop/direct/P279'), ('name', 'subclass of'), ('o', 'http://www.wikidata.org/entity/Q3270632'), ('oName', 'national championship')]\n",
      "[('p', 'http://www.wikidata.org/prop/direct/P31'), ('name', 'instance of'), ('o', 'http://www.wikidata.org/entity/Q623109'), ('oName', 'sports league')]\n",
      "[('p', 'http://www.wikidata.org/prop/direct/P2499'), ('name', 'league level above'), ('o', 'http://www.wikidata.org/entity/Q185982'), ('oName', 'EuroLeague')]\n",
      "[('p', 'http://www.wikidata.org/prop/direct/P664'), ('name', 'organizer'), ('o', 'http://www.wikidata.org/entity/Q1107166'), ('oName', 'Italian Basketball Federation')]\n",
      "[('p', 'http://www.wikidata.org/prop/direct/P2500'), ('name', 'league level below'), ('o', 'http://www.wikidata.org/entity/Q17652315'), ('oName', 'Serie A2 Basket')]\n",
      "[('p', 'http://www.wikidata.org/prop/direct/P6587'), ('name', 'league system'), ('o', 'http://www.wikidata.org/entity/Q16987658'), ('oName', 'Italian basketball league system')]\n",
      "[('p', 'http://www.wikidata.org/prop/direct/P910'), ('name', \"topic's main category\"), ('o', 'http://www.wikidata.org/entity/Q8586596'), ('oName', 'Category:Lega Basket Serie A')]\n",
      "10\n"
     ]
    }
   ],
   "source": [
    "#all properties and objects for lega Basket serie A\n",
    "queryString = \"\"\"\n",
    "SELECT DISTINCT ?p ?name ?o ?oName\n",
    "WHERE {\n",
    "   wd:Q929124 ?p ?o.\n",
    "   ?p sc:name ?name.\n",
    "   ?o sc:name ?oName.\n",
    "}\n",
    "LIMIT 50\n",
    "\"\"\"\n",
    "\n",
    "print(\"Results\")\n",
    "x=run_query(queryString)"
   ]
  },
  {
   "cell_type": "code",
   "execution_count": 44,
   "id": "047bca59-7707-4601-b1dd-2d9535b92770",
   "metadata": {},
   "outputs": [
    {
     "name": "stdout",
     "output_type": "stream",
     "text": [
      "Results\n",
      "[('p', 'http://www.wikidata.org/prop/direct/P17'), ('name', 'country'), ('o', 'http://www.wikidata.org/entity/Q38'), ('oName', 'Italy')]\n",
      "[('p', 'http://www.wikidata.org/prop/direct/P641'), ('name', 'sport'), ('o', 'http://www.wikidata.org/entity/Q5372'), ('oName', 'basketball')]\n",
      "[('p', 'http://www.wikidata.org/prop/direct/P31'), ('name', 'instance of'), ('o', 'http://www.wikidata.org/entity/Q1756477'), ('oName', 'league system')]\n",
      "3\n"
     ]
    }
   ],
   "source": [
    "#all properties and objects for Italian basketball league system\n",
    "queryString = \"\"\"\n",
    "SELECT DISTINCT ?p ?name ?o ?oName\n",
    "WHERE {\n",
    "   wd:Q16987658 ?p ?o.\n",
    "   ?p sc:name ?name.\n",
    "   ?o sc:name ?oName.\n",
    "}\n",
    "LIMIT 50\n",
    "\"\"\"\n",
    "\n",
    "print(\"Results\")\n",
    "x=run_query(queryString)"
   ]
  },
  {
   "cell_type": "code",
   "execution_count": 45,
   "id": "0aeafaec-fd8c-4f9d-833a-118e78550c29",
   "metadata": {},
   "outputs": [
    {
     "name": "stdout",
     "output_type": "stream",
     "text": [
      "Results\n",
      "[('p', 'http://www.wikidata.org/prop/direct/P31'), ('name', 'instance of'), ('o', 'http://www.wikidata.org/entity/Q2485448'), ('oName', 'sports governing body')]\n",
      "[('p', 'http://www.wikidata.org/prop/direct/P1416'), ('name', 'affiliation'), ('o', 'http://www.wikidata.org/entity/Q164836'), ('oName', 'FIBA Europe')]\n",
      "[('p', 'http://www.wikidata.org/prop/direct/P1416'), ('name', 'affiliation'), ('o', 'http://www.wikidata.org/entity/Q46199'), ('oName', 'FIBA')]\n",
      "[('p', 'http://www.wikidata.org/prop/direct/P159'), ('name', 'headquarters location'), ('o', 'http://www.wikidata.org/entity/Q220'), ('oName', 'Rome')]\n",
      "[('p', 'http://www.wikidata.org/prop/direct/P17'), ('name', 'country'), ('o', 'http://www.wikidata.org/entity/Q38'), ('oName', 'Italy')]\n",
      "[('p', 'http://www.wikidata.org/prop/direct/P2541'), ('name', 'operating area'), ('o', 'http://www.wikidata.org/entity/Q38'), ('oName', 'Italy')]\n",
      "[('p', 'http://www.wikidata.org/prop/direct/P740'), ('name', 'location of formation'), ('o', 'http://www.wikidata.org/entity/Q490'), ('oName', 'Milan')]\n",
      "[('p', 'http://www.wikidata.org/prop/direct/P641'), ('name', 'sport'), ('o', 'http://www.wikidata.org/entity/Q5372'), ('oName', 'basketball')]\n",
      "[('p', 'http://www.wikidata.org/prop/direct/P488'), ('name', 'chairperson'), ('o', 'http://www.wikidata.org/entity/Q1110125'), ('oName', 'Gianni Petrucci')]\n",
      "9\n"
     ]
    }
   ],
   "source": [
    "#all properties and objects for Italian basketball league system\n",
    "queryString = \"\"\"\n",
    "SELECT DISTINCT ?p ?name ?o ?oName\n",
    "WHERE {\n",
    "   wd:Q1107166 ?p ?o.\n",
    "   ?p sc:name ?name.\n",
    "   ?o sc:name ?oName.\n",
    "}\n",
    "LIMIT 50\n",
    "\"\"\"\n",
    "\n",
    "print(\"Results\")\n",
    "x=run_query(queryString)"
   ]
  },
  {
   "cell_type": "code",
   "execution_count": 46,
   "id": "034664aa-bd96-438f-a59e-ba06cd5836d8",
   "metadata": {},
   "outputs": [
    {
     "name": "stdout",
     "output_type": "stream",
     "text": [
      "Results\n",
      "[('p', 'http://www.wikidata.org/prop/direct/P159'), ('name', 'headquarters location'), ('o', 'http://www.wikidata.org/entity/Q69329'), ('oName', 'Mies')]\n",
      "[('p', 'http://www.wikidata.org/prop/direct/P131'), ('name', 'located in the administrative territorial entity'), ('o', 'http://www.wikidata.org/entity/Q69329'), ('oName', 'Mies')]\n",
      "[('p', 'http://www.wikidata.org/prop/direct/P1889'), ('name', 'different from'), ('o', 'http://www.wikidata.org/entity/Q253414'), ('oName', 'FIFA')]\n",
      "[('p', 'http://www.wikidata.org/prop/direct/P31'), ('name', 'instance of'), ('o', 'http://www.wikidata.org/entity/Q11422536'), ('oName', 'international sport governing body')]\n",
      "[('p', 'http://www.wikidata.org/prop/direct/P463'), ('name', 'member of'), ('o', 'http://www.wikidata.org/entity/Q1067053'), ('oName', 'Global Association of International Sports Federations')]\n",
      "[('p', 'http://www.wikidata.org/prop/direct/P31'), ('name', 'instance of'), ('o', 'http://www.wikidata.org/entity/Q15986354'), ('oName', 'basketball association')]\n",
      "[('p', 'http://www.wikidata.org/prop/direct/P112'), ('name', 'founded by'), ('o', 'http://www.wikidata.org/entity/Q3091543'), ('oName', 'Swiss Basketball')]\n",
      "[('p', 'http://www.wikidata.org/prop/direct/P641'), ('name', 'sport'), ('o', 'http://www.wikidata.org/entity/Q5372'), ('oName', 'basketball')]\n",
      "[('p', 'http://www.wikidata.org/prop/direct/P2541'), ('name', 'operating area'), ('o', 'http://www.wikidata.org/entity/Q13780930'), ('oName', 'worldwide')]\n",
      "[('p', 'http://www.wikidata.org/prop/direct/P112'), ('name', 'founded by'), ('o', 'http://www.wikidata.org/entity/Q1605869'), ('oName', 'Hellenic Basketball Federation')]\n",
      "[('p', 'http://www.wikidata.org/prop/direct/P112'), ('name', 'founded by'), ('o', 'http://www.wikidata.org/entity/Q1605956'), ('oName', 'Latvia Basketball Association')]\n",
      "[('p', 'http://www.wikidata.org/prop/direct/P112'), ('name', 'founded by'), ('o', 'http://www.wikidata.org/entity/Q1323194'), ('oName', 'Portuguese Basketball Federation')]\n",
      "[('p', 'http://www.wikidata.org/prop/direct/P112'), ('name', 'founded by'), ('o', 'http://www.wikidata.org/entity/Q1107166'), ('oName', 'Italian Basketball Federation')]\n",
      "[('p', 'http://www.wikidata.org/prop/direct/P910'), ('name', \"topic's main category\"), ('o', 'http://www.wikidata.org/entity/Q6906729'), ('oName', 'Category:FIBA')]\n",
      "[('p', 'http://www.wikidata.org/prop/direct/P463'), ('name', 'member of'), ('o', 'http://www.wikidata.org/entity/Q2420112'), ('oName', 'Association of Summer Olympic International Federations')]\n",
      "[('p', 'http://www.wikidata.org/prop/direct/P1687'), ('name', 'Wikidata property'), ('o', 'http://www.wikidata.org/entity/P3542'), ('oName', 'FIBA player ID')]\n",
      "[('p', 'http://www.wikidata.org/prop/direct/P112'), ('name', 'founded by'), ('o', 'http://www.wikidata.org/entity/Q1124822'), ('oName', 'Argentine Basketball Federation')]\n",
      "[('p', 'http://www.wikidata.org/prop/direct/P112'), ('name', 'founded by'), ('o', 'http://www.wikidata.org/entity/Q15712835'), ('oName', 'Czechoslovak  Basketball Federation')]\n",
      "[('p', 'http://www.wikidata.org/prop/direct/P155'), ('name', 'follows'), ('o', 'http://www.wikidata.org/entity/Q1666318'), ('oName', 'International Amateur Handball Federation')]\n",
      "[('p', 'http://www.wikidata.org/prop/direct/P1424'), ('name', \"topic's main template\"), ('o', 'http://www.wikidata.org/entity/Q53987950'), ('oName', 'Template:FIBA profile')]\n",
      "[('p', 'http://www.wikidata.org/prop/direct/P112'), ('name', 'founded by'), ('o', 'http://www.wikidata.org/entity/Q3741222'), ('oName', 'Romanian Basketball Federation')]\n",
      "21\n"
     ]
    }
   ],
   "source": [
    "#all properties and objects for fiba\n",
    "queryString = \"\"\"\n",
    "SELECT DISTINCT ?p ?name ?o ?oName\n",
    "WHERE {\n",
    "   wd:Q46199 ?p ?o.\n",
    "   ?p sc:name ?name.\n",
    "   ?o sc:name ?oName.\n",
    "}\n",
    "LIMIT 50\n",
    "\"\"\"\n",
    "\n",
    "print(\"Results\")\n",
    "x=run_query(queryString)"
   ]
  },
  {
   "cell_type": "code",
   "execution_count": 47,
   "id": "121f5dbc-085d-4eb4-96e2-eb4aebc79895",
   "metadata": {},
   "outputs": [
    {
     "name": "stdout",
     "output_type": "stream",
     "text": [
      "Results\n",
      "[('p', 'http://www.wikidata.org/prop/direct/P31'), ('name', 'instance of'), ('o', 'http://www.wikidata.org/entity/Q2485448'), ('oName', 'sports governing body')]\n",
      "[('p', 'http://www.wikidata.org/prop/direct/P1416'), ('name', 'affiliation'), ('o', 'http://www.wikidata.org/entity/Q164836'), ('oName', 'FIBA Europe')]\n",
      "[('p', 'http://www.wikidata.org/prop/direct/P1416'), ('name', 'affiliation'), ('o', 'http://www.wikidata.org/entity/Q46199'), ('oName', 'FIBA')]\n",
      "[('p', 'http://www.wikidata.org/prop/direct/P159'), ('name', 'headquarters location'), ('o', 'http://www.wikidata.org/entity/Q220'), ('oName', 'Rome')]\n",
      "[('p', 'http://www.wikidata.org/prop/direct/P17'), ('name', 'country'), ('o', 'http://www.wikidata.org/entity/Q38'), ('oName', 'Italy')]\n",
      "[('p', 'http://www.wikidata.org/prop/direct/P2541'), ('name', 'operating area'), ('o', 'http://www.wikidata.org/entity/Q38'), ('oName', 'Italy')]\n",
      "[('p', 'http://www.wikidata.org/prop/direct/P740'), ('name', 'location of formation'), ('o', 'http://www.wikidata.org/entity/Q490'), ('oName', 'Milan')]\n",
      "[('p', 'http://www.wikidata.org/prop/direct/P641'), ('name', 'sport'), ('o', 'http://www.wikidata.org/entity/Q5372'), ('oName', 'basketball')]\n",
      "[('p', 'http://www.wikidata.org/prop/direct/P488'), ('name', 'chairperson'), ('o', 'http://www.wikidata.org/entity/Q1110125'), ('oName', 'Gianni Petrucci')]\n",
      "9\n"
     ]
    }
   ],
   "source": [
    "#all properties and objects for Italian Basketball Federation\n",
    "queryString = \"\"\"\n",
    "SELECT DISTINCT ?p ?name ?o ?oName\n",
    "WHERE {\n",
    "   wd:Q1107166 ?p ?o.\n",
    "   ?p sc:name ?name.\n",
    "   ?o sc:name ?oName.\n",
    "}\n",
    "LIMIT 50\n",
    "\"\"\"\n",
    "\n",
    "print(\"Results\")\n",
    "x=run_query(queryString)"
   ]
  },
  {
   "cell_type": "code",
   "execution_count": 48,
   "id": "ae259c52-870e-4e31-915c-47cfd32a19cf",
   "metadata": {},
   "outputs": [
    {
     "name": "stdout",
     "output_type": "stream",
     "text": [
      "Results\n",
      "[('s', 'http://www.wikidata.org/entity/Q557954'), ('name', 'Dino Meneghin'), ('p', 'http://www.wikidata.org/prop/direct/P108'), ('pName', 'employer')]\n",
      "[('s', 'http://www.wikidata.org/entity/Q3691740'), ('name', '1992–93 FIBA Korać Cup'), ('p', 'http://www.wikidata.org/prop/direct/P1346'), ('pName', 'winner')]\n",
      "[('s', 'http://www.wikidata.org/entity/Q15067056'), ('name', 'Lega Basket Serie A 2013–14'), ('p', 'http://www.wikidata.org/prop/direct/P1346'), ('pName', 'winner')]\n",
      "[('s', 'http://www.wikidata.org/entity/Q3559305'), ('name', \"1970–71 FIBA European Cup Winner's Cup\"), ('p', 'http://www.wikidata.org/prop/direct/P1346'), ('pName', 'winner')]\n",
      "[('s', 'http://www.wikidata.org/entity/Q30594476'), ('name', '2017–18 LBA season'), ('p', 'http://www.wikidata.org/prop/direct/P1346'), ('pName', 'winner')]\n",
      "[('s', 'http://www.wikidata.org/entity/Q12879867'), ('name', \"1975–76 FIBA European Cup Winner's Cup\"), ('p', 'http://www.wikidata.org/prop/direct/P1346'), ('pName', 'winner')]\n",
      "[('s', 'http://www.wikidata.org/entity/Q20730101'), ('name', '2015–16 Lega Basket Serie A'), ('p', 'http://www.wikidata.org/prop/direct/P1346'), ('pName', 'winner')]\n",
      "[('s', 'http://www.wikidata.org/entity/Q1149504'), ('name', '1987 Intercontinental Cup'), ('p', 'http://www.wikidata.org/prop/direct/P1346'), ('pName', 'winner')]\n",
      "[('s', 'http://www.wikidata.org/entity/Q23021987'), ('name', '2016 Italian Basketball Cup'), ('p', 'http://www.wikidata.org/prop/direct/P1346'), ('pName', 'winner')]\n",
      "[('s', 'http://www.wikidata.org/entity/Q2787353'), ('name', '1986–87 FIBA European Champions Cup'), ('p', 'http://www.wikidata.org/prop/direct/P1346'), ('pName', 'winner')]\n",
      "[('s', 'http://www.wikidata.org/entity/Q2070852'), ('name', \"1971–72 FIBA European Cup Winner's Cup\"), ('p', 'http://www.wikidata.org/prop/direct/P1346'), ('pName', 'winner')]\n",
      "[('s', 'http://www.wikidata.org/entity/Q28128209'), ('name', '2017 Italian Basketball Cup'), ('p', 'http://www.wikidata.org/prop/direct/P1346'), ('pName', 'winner')]\n",
      "[('s', 'http://www.wikidata.org/entity/Q3957438'), ('name', '1971–72 Serie A'), ('p', 'http://www.wikidata.org/prop/direct/P1346'), ('pName', 'winner')]\n",
      "[('s', 'http://www.wikidata.org/entity/Q3691732'), ('name', '1984–85 FIBA Korać Cup'), ('p', 'http://www.wikidata.org/prop/direct/P1346'), ('pName', 'winner')]\n",
      "[('s', 'http://www.wikidata.org/entity/Q2787356'), ('name', '1987–88 FIBA European Champions Cup'), ('p', 'http://www.wikidata.org/prop/direct/P1346'), ('pName', 'winner')]\n",
      "[('s', 'http://www.wikidata.org/entity/Q48838703'), ('name', '1966 Latin Cup'), ('p', 'http://www.wikidata.org/prop/direct/P1346'), ('pName', 'winner')]\n",
      "[('s', 'http://www.wikidata.org/entity/Q1984464'), ('name', '1965–66 FIBA European Champions Cup'), ('p', 'http://www.wikidata.org/prop/direct/P1346'), ('pName', 'winner')]\n",
      "[('s', 'http://www.wikidata.org/entity/Q9231284'), ('name', 'Category:Pallacanestro Olimpia Milano'), ('p', 'http://www.wikidata.org/prop/direct/P301'), ('pName', \"category's main topic\")]\n",
      "[('s', 'http://www.wikidata.org/entity/Q604681'), ('name', 'Mediolanum Forum'), ('p', 'http://www.wikidata.org/prop/direct/P466'), ('pName', 'occupant')]\n",
      "[('s', 'http://www.wikidata.org/entity/Q3889169'), ('name', 'PalaSharp'), ('p', 'http://www.wikidata.org/prop/direct/P466'), ('pName', 'occupant')]\n",
      "[('s', 'http://www.wikidata.org/entity/Q3889354'), ('name', 'PalaLido'), ('p', 'http://www.wikidata.org/prop/direct/P466'), ('pName', 'occupant')]\n",
      "[('s', 'http://www.wikidata.org/entity/Q971463'), ('name', 'Omar Cook'), ('p', 'http://www.wikidata.org/prop/direct/P54'), ('pName', 'member of sports team')]\n",
      "[('s', 'http://www.wikidata.org/entity/Q504025'), ('name', 'Bill Bradley'), ('p', 'http://www.wikidata.org/prop/direct/P54'), ('pName', 'member of sports team')]\n",
      "[('s', 'http://www.wikidata.org/entity/Q586425'), ('name', 'Nikola Lončar'), ('p', 'http://www.wikidata.org/prop/direct/P54'), ('pName', 'member of sports team')]\n",
      "[('s', 'http://www.wikidata.org/entity/Q2567162'), ('name', 'Jay Vincent'), ('p', 'http://www.wikidata.org/prop/direct/P54'), ('pName', 'member of sports team')]\n",
      "[('s', 'http://www.wikidata.org/entity/Q2256654'), ('name', 'Sandro Gamba'), ('p', 'http://www.wikidata.org/prop/direct/P54'), ('pName', 'member of sports team')]\n",
      "[('s', 'http://www.wikidata.org/entity/Q2552896'), ('name', 'Coby Karl'), ('p', 'http://www.wikidata.org/prop/direct/P54'), ('pName', 'member of sports team')]\n",
      "[('s', 'http://www.wikidata.org/entity/Q2011732'), ('name', 'Žan Tabak'), ('p', 'http://www.wikidata.org/prop/direct/P54'), ('pName', 'member of sports team')]\n",
      "[('s', 'http://www.wikidata.org/entity/Q60118'), ('name', 'Danilo Gallinari'), ('p', 'http://www.wikidata.org/prop/direct/P54'), ('pName', 'member of sports team')]\n",
      "[('s', 'http://www.wikidata.org/entity/Q125060'), ('name', 'Sergio Rodríguez'), ('p', 'http://www.wikidata.org/prop/direct/P54'), ('pName', 'member of sports team')]\n",
      "[('s', 'http://www.wikidata.org/entity/Q163754'), ('name', 'Johnny Rogers'), ('p', 'http://www.wikidata.org/prop/direct/P54'), ('pName', 'member of sports team')]\n",
      "[('s', 'http://www.wikidata.org/entity/Q174067'), ('name', 'Marijonas Petravičius'), ('p', 'http://www.wikidata.org/prop/direct/P54'), ('pName', 'member of sports team')]\n",
      "[('s', 'http://www.wikidata.org/entity/Q718825'), ('name', 'Sergio Scariolo'), ('p', 'http://www.wikidata.org/prop/direct/P54'), ('pName', 'member of sports team')]\n",
      "[('s', 'http://www.wikidata.org/entity/Q366766'), ('name', 'Sani Bečirović'), ('p', 'http://www.wikidata.org/prop/direct/P54'), ('pName', 'member of sports team')]\n",
      "[('s', 'http://www.wikidata.org/entity/Q2846321'), ('name', 'Andrea Cinciarini'), ('p', 'http://www.wikidata.org/prop/direct/P54'), ('pName', 'member of sports team')]\n",
      "[('s', 'http://www.wikidata.org/entity/Q1752926'), ('name', 'Malik Hairston'), ('p', 'http://www.wikidata.org/prop/direct/P54'), ('pName', 'member of sports team')]\n",
      "[('s', 'http://www.wikidata.org/entity/Q24410'), ('name', 'Jonas Mačiulis'), ('p', 'http://www.wikidata.org/prop/direct/P54'), ('pName', 'member of sports team')]\n",
      "[('s', 'http://www.wikidata.org/entity/Q280376'), ('name', 'Rolando Blackman'), ('p', 'http://www.wikidata.org/prop/direct/P54'), ('pName', 'member of sports team')]\n",
      "[('s', 'http://www.wikidata.org/entity/Q527780'), ('name', 'Antoine Carr'), ('p', 'http://www.wikidata.org/prop/direct/P54'), ('pName', 'member of sports team')]\n",
      "[('s', 'http://www.wikidata.org/entity/Q47720614'), ('name', 'Matteo Laganà'), ('p', 'http://www.wikidata.org/prop/direct/P54'), ('pName', 'member of sports team')]\n",
      "[('s', 'http://www.wikidata.org/entity/Q380033'), ('name', 'Aleksandar Đorđević'), ('p', 'http://www.wikidata.org/prop/direct/P54'), ('pName', 'member of sports team')]\n",
      "[('s', 'http://www.wikidata.org/entity/Q1639693'), ('name', 'Shawn Respert'), ('p', 'http://www.wikidata.org/prop/direct/P54'), ('pName', 'member of sports team')]\n",
      "[('s', 'http://www.wikidata.org/entity/Q1653956'), ('name', 'Nicolò Melli'), ('p', 'http://www.wikidata.org/prop/direct/P54'), ('pName', 'member of sports team')]\n",
      "[('s', 'http://www.wikidata.org/entity/Q2344636'), ('name', 'Mike Sylvester'), ('p', 'http://www.wikidata.org/prop/direct/P54'), ('pName', 'member of sports team')]\n",
      "[('s', 'http://www.wikidata.org/entity/Q3696465'), ('name', 'Craig Raymond'), ('p', 'http://www.wikidata.org/prop/direct/P54'), ('pName', 'member of sports team')]\n",
      "[('s', 'http://www.wikidata.org/entity/Q3746515'), ('name', 'Flavio Portaluppi'), ('p', 'http://www.wikidata.org/prop/direct/P54'), ('pName', 'member of sports team')]\n",
      "[('s', 'http://www.wikidata.org/entity/Q740318'), ('name', 'Tomas Van Den Spiegel'), ('p', 'http://www.wikidata.org/prop/direct/P54'), ('pName', 'member of sports team')]\n",
      "[('s', 'http://www.wikidata.org/entity/Q3457143'), ('name', 'Sergio Paganella'), ('p', 'http://www.wikidata.org/prop/direct/P54'), ('pName', 'member of sports team')]\n",
      "[('s', 'http://www.wikidata.org/entity/Q3564861'), ('name', 'Nate Green'), ('p', 'http://www.wikidata.org/prop/direct/P54'), ('pName', 'member of sports team')]\n",
      "[('s', 'http://www.wikidata.org/entity/Q3665569'), ('name', 'Cesare Volpato'), ('p', 'http://www.wikidata.org/prop/direct/P54'), ('pName', 'member of sports team')]\n",
      "[('s', 'http://www.wikidata.org/entity/Q3666431'), ('name', 'C. J. Kupec'), ('p', 'http://www.wikidata.org/prop/direct/P54'), ('pName', 'member of sports team')]\n",
      "[('s', 'http://www.wikidata.org/entity/Q3675625'), ('name', 'Christian Burns'), ('p', 'http://www.wikidata.org/prop/direct/P54'), ('pName', 'member of sports team')]\n",
      "[('s', 'http://www.wikidata.org/entity/Q3680267'), ('name', 'Claudio Velluti'), ('p', 'http://www.wikidata.org/prop/direct/P54'), ('pName', 'member of sports team')]\n",
      "[('s', 'http://www.wikidata.org/entity/Q3749531'), ('name', 'Francesco Anchisi'), ('p', 'http://www.wikidata.org/prop/direct/P54'), ('pName', 'member of sports team')]\n",
      "[('s', 'http://www.wikidata.org/entity/Q3763070'), ('name', 'Gianfranco Fantin'), ('p', 'http://www.wikidata.org/prop/direct/P54'), ('pName', 'member of sports team')]\n",
      "[('s', 'http://www.wikidata.org/entity/Q30350311'), ('name', 'Davide Moretti'), ('p', 'http://www.wikidata.org/prop/direct/P54'), ('pName', 'member of sports team')]\n",
      "[('s', 'http://www.wikidata.org/entity/Q3851050'), ('name', 'Massimiliano Monti'), ('p', 'http://www.wikidata.org/prop/direct/P54'), ('pName', 'member of sports team')]\n",
      "[('s', 'http://www.wikidata.org/entity/Q4013684'), ('name', 'Vinicio Mossali'), ('p', 'http://www.wikidata.org/prop/direct/P54'), ('pName', 'member of sports team')]\n",
      "[('s', 'http://www.wikidata.org/entity/Q1378121'), ('name', 'Keith Langford'), ('p', 'http://www.wikidata.org/prop/direct/P54'), ('pName', 'member of sports team')]\n",
      "[('s', 'http://www.wikidata.org/entity/Q2326029'), ('name', 'DeMarco Johnson'), ('p', 'http://www.wikidata.org/prop/direct/P54'), ('pName', 'member of sports team')]\n",
      "[('s', 'http://www.wikidata.org/entity/Q1110961'), ('name', 'Ezio Riva'), ('p', 'http://www.wikidata.org/prop/direct/P54'), ('pName', 'member of sports team')]\n",
      "[('s', 'http://www.wikidata.org/entity/Q2309134'), ('name', 'Lee Nailon'), ('p', 'http://www.wikidata.org/prop/direct/P54'), ('pName', 'member of sports team')]\n",
      "[('s', 'http://www.wikidata.org/entity/Q6351871'), ('name', 'Kaleb Tarczewski'), ('p', 'http://www.wikidata.org/prop/direct/P54'), ('pName', 'member of sports team')]\n",
      "[('s', 'http://www.wikidata.org/entity/Q1193237'), ('name', 'J. R. Bremer'), ('p', 'http://www.wikidata.org/prop/direct/P54'), ('pName', 'member of sports team')]\n",
      "[('s', 'http://www.wikidata.org/entity/Q2331753'), ('name', 'Earl Cureton'), ('p', 'http://www.wikidata.org/prop/direct/P54'), ('pName', 'member of sports team')]\n",
      "[('s', 'http://www.wikidata.org/entity/Q520526'), ('name', 'Marlon Garnett'), ('p', 'http://www.wikidata.org/prop/direct/P54'), ('pName', 'member of sports team')]\n",
      "[('s', 'http://www.wikidata.org/entity/Q983955'), ('name', 'Hugo Sconochini'), ('p', 'http://www.wikidata.org/prop/direct/P54'), ('pName', 'member of sports team')]\n",
      "[('s', 'http://www.wikidata.org/entity/Q2308737'), ('name', 'Veljko Mršić'), ('p', 'http://www.wikidata.org/prop/direct/P54'), ('pName', 'member of sports team')]\n",
      "[('s', 'http://www.wikidata.org/entity/Q1054344'), ('name', 'Dan Peterson'), ('p', 'http://www.wikidata.org/prop/direct/P54'), ('pName', 'member of sports team')]\n",
      "[('s', 'http://www.wikidata.org/entity/Q944705'), ('name', 'Daniel Hackett'), ('p', 'http://www.wikidata.org/prop/direct/P54'), ('pName', 'member of sports team')]\n",
      "[('s', 'http://www.wikidata.org/entity/Q553232'), ('name', 'Bob McAdoo'), ('p', 'http://www.wikidata.org/prop/direct/P54'), ('pName', 'member of sports team')]\n",
      "[('s', 'http://www.wikidata.org/entity/Q741278'), ('name', 'Yannis Bourousis'), ('p', 'http://www.wikidata.org/prop/direct/P54'), ('pName', 'member of sports team')]\n",
      "[('s', 'http://www.wikidata.org/entity/Q2560815'), ('name', 'Jamie Arnold'), ('p', 'http://www.wikidata.org/prop/direct/P54'), ('pName', 'member of sports team')]\n",
      "[('s', 'http://www.wikidata.org/entity/Q557954'), ('name', 'Dino Meneghin'), ('p', 'http://www.wikidata.org/prop/direct/P54'), ('pName', 'member of sports team')]\n",
      "[('s', 'http://www.wikidata.org/entity/Q2252684'), ('name', 'Mason Rocca'), ('p', 'http://www.wikidata.org/prop/direct/P54'), ('pName', 'member of sports team')]\n",
      "[('s', 'http://www.wikidata.org/entity/Q2944377'), ('name', 'Morris Finley'), ('p', 'http://www.wikidata.org/prop/direct/P54'), ('pName', 'member of sports team')]\n",
      "[('s', 'http://www.wikidata.org/entity/Q3848871'), ('name', 'Mario Novelli'), ('p', 'http://www.wikidata.org/prop/direct/P54'), ('pName', 'member of sports team')]\n",
      "[('s', 'http://www.wikidata.org/entity/Q3622553'), ('name', 'Ariel Filloy'), ('p', 'http://www.wikidata.org/prop/direct/P54'), ('pName', 'member of sports team')]\n",
      "[('s', 'http://www.wikidata.org/entity/Q3659182'), ('name', 'Carlo Cerioni'), ('p', 'http://www.wikidata.org/prop/direct/P54'), ('pName', 'member of sports team')]\n",
      "[('s', 'http://www.wikidata.org/entity/Q3665371'), ('name', 'Cesare Canetta'), ('p', 'http://www.wikidata.org/prop/direct/P54'), ('pName', 'member of sports team')]\n",
      "[('s', 'http://www.wikidata.org/entity/Q3259259'), ('name', 'Lonnie Cooper'), ('p', 'http://www.wikidata.org/prop/direct/P54'), ('pName', 'member of sports team')]\n",
      "[('s', 'http://www.wikidata.org/entity/Q3848657'), ('name', 'Mario Governa'), ('p', 'http://www.wikidata.org/prop/direct/P54'), ('pName', 'member of sports team')]\n",
      "[('s', 'http://www.wikidata.org/entity/Q4007736'), ('name', 'Valentino Battisti'), ('p', 'http://www.wikidata.org/prop/direct/P54'), ('pName', 'member of sports team')]\n",
      "[('s', 'http://www.wikidata.org/entity/Q1112174'), ('name', 'Mino Pasquini'), ('p', 'http://www.wikidata.org/prop/direct/P54'), ('pName', 'member of sports team')]\n",
      "[('s', 'http://www.wikidata.org/entity/Q1621778'), ('name', 'Will Conroy'), ('p', 'http://www.wikidata.org/prop/direct/P54'), ('pName', 'member of sports team')]\n",
      "[('s', 'http://www.wikidata.org/entity/Q1469707'), ('name', 'Joe Barry Carroll'), ('p', 'http://www.wikidata.org/prop/direct/P54'), ('pName', 'member of sports team')]\n",
      "[('s', 'http://www.wikidata.org/entity/Q2732441'), ('name', 'Milenko Topić'), ('p', 'http://www.wikidata.org/prop/direct/P54'), ('pName', 'member of sports team')]\n",
      "[('s', 'http://www.wikidata.org/entity/Q718794'), ('name', 'Drew Nicholas'), ('p', 'http://www.wikidata.org/prop/direct/P54'), ('pName', 'member of sports team')]\n",
      "[('s', 'http://www.wikidata.org/entity/Q516837'), ('name', 'Ed Stokes'), ('p', 'http://www.wikidata.org/prop/direct/P54'), ('pName', 'member of sports team')]\n",
      "[('s', 'http://www.wikidata.org/entity/Q570415'), ('name', 'Ansu Sesay'), ('p', 'http://www.wikidata.org/prop/direct/P54'), ('pName', 'member of sports team')]\n",
      "[('s', 'http://www.wikidata.org/entity/Q1635555'), ('name', 'Lars Hansen'), ('p', 'http://www.wikidata.org/prop/direct/P54'), ('pName', 'member of sports team')]\n",
      "[('s', 'http://www.wikidata.org/entity/Q2600980'), ('name', 'Anthony Bowie'), ('p', 'http://www.wikidata.org/prop/direct/P54'), ('pName', 'member of sports team')]\n",
      "[('s', 'http://www.wikidata.org/entity/Q3608060'), ('name', 'Albert King'), ('p', 'http://www.wikidata.org/prop/direct/P54'), ('pName', 'member of sports team')]\n",
      "[('s', 'http://www.wikidata.org/entity/Q3610101'), ('name', 'Alessandro Mamoli'), ('p', 'http://www.wikidata.org/prop/direct/P54'), ('pName', 'member of sports team')]\n",
      "[('s', 'http://www.wikidata.org/entity/Q3763006'), ('name', 'Giandomenico Ongaro'), ('p', 'http://www.wikidata.org/prop/direct/P54'), ('pName', 'member of sports team')]\n",
      "[('s', 'http://www.wikidata.org/entity/Q1661518'), ('name', 'Thurl Bailey'), ('p', 'http://www.wikidata.org/prop/direct/P54'), ('pName', 'member of sports team')]\n",
      "[('s', 'http://www.wikidata.org/entity/Q1053971'), ('name', 'Casey Shaw'), ('p', 'http://www.wikidata.org/prop/direct/P54'), ('pName', 'member of sports team')]\n",
      "[('s', 'http://www.wikidata.org/entity/Q313622'), ('name', 'Dejan Bodiroga'), ('p', 'http://www.wikidata.org/prop/direct/P54'), ('pName', 'member of sports team')]\n",
      "[('s', 'http://www.wikidata.org/entity/Q314071'), ('name', 'Luis Scola'), ('p', 'http://www.wikidata.org/prop/direct/P54'), ('pName', 'member of sports team')]\n",
      "[('s', 'http://www.wikidata.org/entity/Q2017543'), ('name', 'Leon Radošević'), ('p', 'http://www.wikidata.org/prop/direct/P54'), ('pName', 'member of sports team')]\n",
      "100\n"
     ]
    }
   ],
   "source": [
    "#all subjects and properties linked to Olimpia Milano\n",
    "queryString = \"\"\"\n",
    "SELECT DISTINCT ?s ?name ?p ?pName\n",
    "WHERE {\n",
    "   ?s ?p wd:Q36362.\n",
    "   ?s sc:name ?name.\n",
    "   ?p sc:name ?pName.\n",
    "}\n",
    "LIMIT 100\n",
    "\"\"\"\n",
    "\n",
    "print(\"Results\")\n",
    "x=run_query(queryString)"
   ]
  },
  {
   "cell_type": "code",
   "execution_count": 49,
   "id": "33c7692c-788a-4b6b-aaa8-1df8ea5d3525",
   "metadata": {},
   "outputs": [
    {
     "name": "stdout",
     "output_type": "stream",
     "text": [
      "Results\n",
      "[('p', 'http://www.wikidata.org/prop/direct/P108'), ('pName', 'employer')]\n",
      "[('p', 'http://www.wikidata.org/prop/direct/P1346'), ('pName', 'winner')]\n",
      "[('p', 'http://www.wikidata.org/prop/direct/P301'), ('pName', \"category's main topic\")]\n",
      "[('p', 'http://www.wikidata.org/prop/direct/P466'), ('pName', 'occupant')]\n",
      "[('p', 'http://www.wikidata.org/prop/direct/P54'), ('pName', 'member of sports team')]\n",
      "[('p', 'http://www.wikidata.org/prop/direct/P6087'), ('pName', 'coach of sports team')]\n",
      "[('p', 'http://www.wikidata.org/prop/direct/P710'), ('pName', 'participant')]\n",
      "[('p', 'http://www.wikidata.org/prop/direct/P5138'), ('pName', 'season of club or team')]\n",
      "8\n"
     ]
    }
   ],
   "source": [
    "#all properties linked to Olimpia Milano\n",
    "queryString = \"\"\"\n",
    "SELECT DISTINCT ?p ?pName\n",
    "WHERE {\n",
    "   ?s ?p wd:Q36362.\n",
    "   ?p sc:name ?pName.\n",
    "}\n",
    "LIMIT 100\n",
    "\"\"\"\n",
    "\n",
    "print(\"Results\")\n",
    "x=run_query(queryString)"
   ]
  },
  {
   "cell_type": "code",
   "execution_count": 50,
   "id": "d47dbdc7-68a9-4146-bc17-768f4c93130c",
   "metadata": {},
   "outputs": [
    {
     "name": "stdout",
     "output_type": "stream",
     "text": [
      "Results\n",
      "[('s', 'http://www.wikidata.org/entity/Q16499714'), ('name', '2014–15 Euroleague')]\n",
      "1\n"
     ]
    }
   ],
   "source": [
    "#return nodes participant in Olimpia Milano\n",
    "queryString = \"\"\"\n",
    "SELECT DISTINCT ?s ?name\n",
    "WHERE {\n",
    "   ?s wdt:P710 wd:Q36362.\n",
    "   ?s sc:name ?name.\n",
    "}\n",
    "LIMIT 100\n",
    "\"\"\"\n",
    "\n",
    "print(\"Results\")\n",
    "x=run_query(queryString)"
   ]
  },
  {
   "cell_type": "code",
   "execution_count": 51,
   "id": "82f0f748-f33a-4464-829a-9720fd4ef221",
   "metadata": {},
   "outputs": [
    {
     "name": "stdout",
     "output_type": "stream",
     "text": [
      "Results\n",
      "[('s', 'http://www.wikidata.org/entity/Q17637379'), ('name', '2013–14 Olimpia Milano season')]\n",
      "[('s', 'http://www.wikidata.org/entity/Q18224258'), ('name', '2014–15 Olimpia Milano season')]\n",
      "[('s', 'http://www.wikidata.org/entity/Q26898785'), ('name', '2015–16 Olimpia Milano season')]\n",
      "[('s', 'http://www.wikidata.org/entity/Q27188921'), ('name', '1969–70 Olimpia Milano season')]\n",
      "[('s', 'http://www.wikidata.org/entity/Q3881675'), ('name', '1957–58 Olimpia Milano season')]\n",
      "[('s', 'http://www.wikidata.org/entity/Q3881676'), ('name', '1958–59 Olimpia Milano season')]\n",
      "[('s', 'http://www.wikidata.org/entity/Q3881677'), ('name', '1959–60 Olimpia Milano season')]\n",
      "[('s', 'http://www.wikidata.org/entity/Q3881683'), ('name', '1970–71 Olimpia Milano season')]\n",
      "[('s', 'http://www.wikidata.org/entity/Q3881684'), ('name', '1971–72 Olimpia Milano season')]\n",
      "[('s', 'http://www.wikidata.org/entity/Q3881685'), ('name', '1972–73 Olimpia Milano season')]\n",
      "[('s', 'http://www.wikidata.org/entity/Q3881688'), ('name', '1977–78 Olimpia Milano season')]\n",
      "[('s', 'http://www.wikidata.org/entity/Q3881689'), ('name', '1978–79 Olimpia Milano season')]\n",
      "[('s', 'http://www.wikidata.org/entity/Q3881690'), ('name', '1979–80 Olimpia Milano season')]\n",
      "[('s', 'http://www.wikidata.org/entity/Q3881702'), ('name', '1991–92 Olimpia Milano season')]\n",
      "[('s', 'http://www.wikidata.org/entity/Q3881703'), ('name', '1992–93 Olimpia Milano season')]\n",
      "[('s', 'http://www.wikidata.org/entity/Q3881704'), ('name', '1993–94 Olimpia Milano season')]\n",
      "[('s', 'http://www.wikidata.org/entity/Q3881709'), ('name', '1998–99 Olimpia Milano season')]\n",
      "[('s', 'http://www.wikidata.org/entity/Q3881710'), ('name', '1999–00 Olimpia Milano season')]\n",
      "[('s', 'http://www.wikidata.org/entity/Q3881711'), ('name', '2000–01 Olimpia Milano season')]\n",
      "[('s', 'http://www.wikidata.org/entity/Q3881712'), ('name', '2001–02 Olimpia Milano season')]\n",
      "[('s', 'http://www.wikidata.org/entity/Q3881713'), ('name', '2002–03 Olimpia Milano season')]\n",
      "[('s', 'http://www.wikidata.org/entity/Q3881714'), ('name', '2003–04 Olimpia Milano season')]\n",
      "[('s', 'http://www.wikidata.org/entity/Q3881715'), ('name', '2004–05 Olimpia Milano season')]\n",
      "[('s', 'http://www.wikidata.org/entity/Q3881716'), ('name', '2005–06 Olimpia Milano season')]\n",
      "[('s', 'http://www.wikidata.org/entity/Q3881717'), ('name', '2006–07 Olimpia Milano season')]\n",
      "[('s', 'http://www.wikidata.org/entity/Q28448337'), ('name', '2016–17 Olimpia Milano season')]\n",
      "[('s', 'http://www.wikidata.org/entity/Q27188926'), ('name', '1968–69 Olimpia Milano season')]\n",
      "[('s', 'http://www.wikidata.org/entity/Q27188931'), ('name', '1967–68 Olimpia Milano season')]\n",
      "[('s', 'http://www.wikidata.org/entity/Q3881678'), ('name', '1961–62 Olimpia Milano season')]\n",
      "[('s', 'http://www.wikidata.org/entity/Q16161139'), ('name', '2012–13 Olimpia Milano season')]\n",
      "[('s', 'http://www.wikidata.org/entity/Q3881722'), ('name', '2011–12 Olimpia Milano season')]\n",
      "[('s', 'http://www.wikidata.org/entity/Q27188946'), ('name', '1960–61 Olimpia Milano season')]\n",
      "[('s', 'http://www.wikidata.org/entity/Q27188958'), ('name', '1950–51 Olimpia Milano season')]\n",
      "[('s', 'http://www.wikidata.org/entity/Q3881669'), ('name', '1949–50 Olimpia Milano season')]\n",
      "[('s', 'http://www.wikidata.org/entity/Q3881670'), ('name', '1951–52 Olimpia Milano season')]\n",
      "[('s', 'http://www.wikidata.org/entity/Q3881671'), ('name', '1952–53 Olimpia Milano season')]\n",
      "[('s', 'http://www.wikidata.org/entity/Q3881673'), ('name', '1955–56 Olimpia Milano season')]\n",
      "[('s', 'http://www.wikidata.org/entity/Q3881674'), ('name', '1956–57 Olimpia Milano season')]\n",
      "[('s', 'http://www.wikidata.org/entity/Q3881686'), ('name', '1975–76 Olimpia Milano season')]\n",
      "[('s', 'http://www.wikidata.org/entity/Q3881687'), ('name', '1976–77 Olimpia Milano season')]\n",
      "[('s', 'http://www.wikidata.org/entity/Q3642644'), ('name', 'Borletti Milano 1935-1936')]\n",
      "[('s', 'http://www.wikidata.org/entity/Q3642645'), ('name', 'Borletti Milano 1936-1937')]\n",
      "[('s', 'http://www.wikidata.org/entity/Q3642646'), ('name', 'Borletti Milano 1937-1938')]\n",
      "[('s', 'http://www.wikidata.org/entity/Q27188912'), ('name', '1973–74 Olimpia Milano season')]\n",
      "[('s', 'http://www.wikidata.org/entity/Q27188951'), ('name', '1954–55 Olimpia Milano season')]\n",
      "[('s', 'http://www.wikidata.org/entity/Q3881672'), ('name', '1953–54 Olimpia Milano season')]\n",
      "[('s', 'http://www.wikidata.org/entity/Q3881680'), ('name', '1964–65 Olimpia Milano season')]\n",
      "[('s', 'http://www.wikidata.org/entity/Q3881681'), ('name', '1965–66 Olimpia Milano season')]\n",
      "[('s', 'http://www.wikidata.org/entity/Q3881682'), ('name', '1966–67 Olimpia Milano season')]\n",
      "[('s', 'http://www.wikidata.org/entity/Q3881691'), ('name', '1980–81 Olimpia Milano season')]\n",
      "[('s', 'http://www.wikidata.org/entity/Q3881692'), ('name', '1981–82 Olimpia Milano season')]\n",
      "[('s', 'http://www.wikidata.org/entity/Q3881693'), ('name', '1982–83 Olimpia Milano season')]\n",
      "[('s', 'http://www.wikidata.org/entity/Q3881694'), ('name', '1983–84 Olimpia Milano season')]\n",
      "[('s', 'http://www.wikidata.org/entity/Q3881695'), ('name', '1984–85 Olimpia Milano season')]\n",
      "[('s', 'http://www.wikidata.org/entity/Q3881701'), ('name', '1990–91 Olimpia Milano season')]\n",
      "[('s', 'http://www.wikidata.org/entity/Q3881705'), ('name', '1994–95 Olimpia Milano season')]\n",
      "[('s', 'http://www.wikidata.org/entity/Q3881706'), ('name', '1996–97 Olimpia Milano season')]\n",
      "[('s', 'http://www.wikidata.org/entity/Q3881707'), ('name', '1995–96 Olimpia Milano season')]\n",
      "[('s', 'http://www.wikidata.org/entity/Q3881708'), ('name', '1997–98 Olimpia Milano season')]\n",
      "[('s', 'http://www.wikidata.org/entity/Q26967027'), ('name', '1974–75 Olimpia Milano season')]\n",
      "[('s', 'http://www.wikidata.org/entity/Q27188936'), ('name', '1963–64 Olimpia Milano season')]\n",
      "[('s', 'http://www.wikidata.org/entity/Q3881679'), ('name', '1962–63 Olimpia Milano season')]\n",
      "[('s', 'http://www.wikidata.org/entity/Q3881699'), ('name', '1989–90 Olimpia Milano season')]\n",
      "[('s', 'http://www.wikidata.org/entity/Q3881718'), ('name', '2008–09 Olimpia Milano season')]\n",
      "[('s', 'http://www.wikidata.org/entity/Q3881719'), ('name', '2007–08 Olimpia Milano season')]\n",
      "[('s', 'http://www.wikidata.org/entity/Q28034629'), ('name', '1939–40 Olimpia Milano season')]\n",
      "[('s', 'http://www.wikidata.org/entity/Q28034631'), ('name', '1940–41 Olimpia Milano season')]\n",
      "[('s', 'http://www.wikidata.org/entity/Q3881698'), ('name', '1987–88 Olimpia Milano season')]\n",
      "[('s', 'http://www.wikidata.org/entity/Q3881700'), ('name', '1988–89 Olimpia Milano season')]\n",
      "[('s', 'http://www.wikidata.org/entity/Q3642647'), ('name', 'Borletti Milano 1938-1939')]\n",
      "[('s', 'http://www.wikidata.org/entity/Q3881696'), ('name', '1985–86 Olimpia Milano season')]\n",
      "[('s', 'http://www.wikidata.org/entity/Q3881697'), ('name', '1986–87 Olimpia Milano season')]\n",
      "[('s', 'http://www.wikidata.org/entity/Q3881720'), ('name', '2009–10 Olimpia Milano season')]\n",
      "[('s', 'http://www.wikidata.org/entity/Q3881721'), ('name', '2010–11 Olimpia Milano season')]\n",
      "74\n"
     ]
    }
   ],
   "source": [
    "#return season of club or team of Olimpia Milano\n",
    "queryString = \"\"\"\n",
    "SELECT DISTINCT ?s ?name\n",
    "WHERE {\n",
    "   ?s wdt:P5138 wd:Q36362.\n",
    "   ?s sc:name ?name.\n",
    "}\n",
    "LIMIT 100\n",
    "\"\"\"\n",
    "\n",
    "print(\"Results\")\n",
    "x=run_query(queryString)"
   ]
  },
  {
   "cell_type": "code",
   "execution_count": 52,
   "id": "f7dffd61-5f4d-4b63-af1b-bd3e407320ae",
   "metadata": {},
   "outputs": [
    {
     "name": "stdout",
     "output_type": "stream",
     "text": [
      "Results\n",
      "[('p', 'http://www.wikidata.org/prop/direct/P115'), ('name', 'home venue')]\n",
      "[('p', 'http://www.wikidata.org/prop/direct/P118'), ('name', 'league')]\n",
      "[('p', 'http://www.wikidata.org/prop/direct/P127'), ('name', 'owned by')]\n",
      "[('p', 'http://www.wikidata.org/prop/direct/P154'), ('name', 'logo image')]\n",
      "[('p', 'http://www.wikidata.org/prop/direct/P159'), ('name', 'headquarters location')]\n",
      "[('p', 'http://www.wikidata.org/prop/direct/P166'), ('name', 'award received')]\n",
      "[('p', 'http://www.wikidata.org/prop/direct/P17'), ('name', 'country')]\n",
      "[('p', 'http://www.wikidata.org/prop/direct/P2002'), ('name', 'Twitter username')]\n",
      "[('p', 'http://www.wikidata.org/prop/direct/P2003'), ('name', 'Instagram username')]\n",
      "[('p', 'http://www.wikidata.org/prop/direct/P2013'), ('name', 'Facebook ID')]\n",
      "[('p', 'http://www.wikidata.org/prop/direct/P2397'), ('name', 'YouTube channel ID')]\n",
      "[('p', 'http://www.wikidata.org/prop/direct/P2522'), ('name', 'victory')]\n",
      "[('p', 'http://www.wikidata.org/prop/direct/P276'), ('name', 'location')]\n",
      "[('p', 'http://www.wikidata.org/prop/direct/P286'), ('name', 'head coach')]\n",
      "[('p', 'http://www.wikidata.org/prop/direct/P31'), ('name', 'instance of')]\n",
      "[('p', 'http://www.wikidata.org/prop/direct/P373'), ('name', 'Commons category')]\n",
      "[('p', 'http://www.wikidata.org/prop/direct/P571'), ('name', 'inception')]\n",
      "[('p', 'http://www.wikidata.org/prop/direct/P5995'), ('name', 'kit supplier')]\n",
      "[('p', 'http://www.wikidata.org/prop/direct/P641'), ('name', 'sport')]\n",
      "[('p', 'http://www.wikidata.org/prop/direct/P646'), ('name', 'Freebase ID')]\n",
      "[('p', 'http://www.wikidata.org/prop/direct/P856'), ('name', 'official website')]\n",
      "[('p', 'http://www.wikidata.org/prop/direct/P8687'), ('name', 'social media followers')]\n",
      "[('p', 'http://www.wikidata.org/prop/direct/P910'), ('name', \"topic's main category\")]\n",
      "23\n"
     ]
    }
   ],
   "source": [
    "#all properties of Olimpia Milano\n",
    "queryString = \"\"\"\n",
    "SELECT DISTINCT ?p ?name\n",
    "WHERE {\n",
    "   wd:Q36362 ?p ?o.\n",
    "   ?p sc:name ?name.\n",
    "}\n",
    "LIMIT 50\n",
    "\"\"\"\n",
    "\n",
    "print(\"Results\")\n",
    "x=run_query(queryString)"
   ]
  },
  {
   "cell_type": "code",
   "execution_count": 53,
   "id": "89435d47-7a47-4480-8b92-c07c0dea1173",
   "metadata": {},
   "outputs": [
    {
     "name": "stdout",
     "output_type": "stream",
     "text": [
      "Results\n",
      "Empty\n"
     ]
    }
   ],
   "source": [
    "#return object linking Olimpia Milano inception\n",
    "queryString = \"\"\"\n",
    "SELECT DISTINCT ?o ?name\n",
    "WHERE {\n",
    "   wd:Q36362 wdt:P571 ?o.\n",
    "   ?o sc:name ?name.\n",
    "}\n",
    "LIMIT 50\n",
    "\"\"\"\n",
    "\n",
    "print(\"Results\")\n",
    "x=run_query(queryString)"
   ]
  },
  {
   "cell_type": "code",
   "execution_count": 54,
   "id": "29c636f7-ca35-47c5-b58e-918215b8fcdf",
   "metadata": {},
   "outputs": [
    {
     "name": "stdout",
     "output_type": "stream",
     "text": [
      "Results\n",
      "[('o', '1936-01-01T00:00:00Z')]\n",
      "1\n"
     ]
    }
   ],
   "source": [
    "#return literal linking Olimpia Milano inception without name\n",
    "queryString = \"\"\"\n",
    "SELECT DISTINCT ?o \n",
    "WHERE {\n",
    "   wd:Q36362 wdt:P571 ?o.\n",
    "   \n",
    "}\n",
    "LIMIT 50\n",
    "\"\"\"\n",
    "\n",
    "print(\"Results\")\n",
    "x=run_query(queryString)"
   ]
  },
  {
   "cell_type": "code",
   "execution_count": 55,
   "id": "90547037-4672-4b05-9f35-04155ba08f6e",
   "metadata": {},
   "outputs": [
    {
     "name": "stdout",
     "output_type": "stream",
     "text": [
      "Results\n",
      "[('o', '1936-01-01T00:00:00Z'), ('callret-1', 'http://www.w3.org/2001/XMLSchema#dateTime')]\n",
      "1\n"
     ]
    }
   ],
   "source": [
    "#return datatype of the literal found\n",
    "queryString = \"\"\"\n",
    "SELECT DISTINCT ?o datatype(?o)\n",
    "WHERE {\n",
    "   wd:Q36362 wdt:P571 ?o.\n",
    "   \n",
    "}\n",
    "LIMIT 50\n",
    "\"\"\"\n",
    "\n",
    "print(\"Results\")\n",
    "x=run_query(queryString)"
   ]
  },
  {
   "cell_type": "code",
   "execution_count": 56,
   "id": "30a68632-ddaf-406f-adfe-43aab3bccfed",
   "metadata": {},
   "outputs": [
    {
     "name": "stdout",
     "output_type": "stream",
     "text": [
      "Results\n",
      "[('o', '1936-01-01T00:00:00Z'), ('callret-1', '1936-01-01Z')]\n",
      "1\n"
     ]
    }
   ],
   "source": [
    "#cast to gYear\n",
    "queryString = \"\"\"\n",
    "SELECT DISTINCT ?o xsd:gYear(?o)\n",
    "WHERE {\n",
    "   wd:Q36362 wdt:P571 ?o.\n",
    "   \n",
    "}\n",
    "LIMIT 50\n",
    "\"\"\"\n",
    "\n",
    "print(\"Results\")\n",
    "x=run_query(queryString)"
   ]
  },
  {
   "cell_type": "code",
   "execution_count": 57,
   "id": "cdc94eb6-7e20-4880-905d-cf2c76dd9e01",
   "metadata": {},
   "outputs": [
    {
     "name": "stdout",
     "output_type": "stream",
     "text": [
      "Results\n",
      "[('o', '1936-01-01T00:00:00Z'), ('foundationYear', '1936')]\n",
      "1\n"
     ]
    }
   ],
   "source": [
    "#cast with year()\n",
    "queryString = \"\"\"\n",
    "SELECT DISTINCT ?o (year(?o) as ?foundationYear)\n",
    "WHERE {\n",
    "   wd:Q36362 wdt:P571 ?o.\n",
    "   \n",
    "}\n",
    "LIMIT 50\n",
    "\"\"\"\n",
    "\n",
    "print(\"Results\")\n",
    "x=run_query(queryString)"
   ]
  },
  {
   "cell_type": "code",
   "execution_count": 58,
   "id": "68e61e6e-c30b-4b13-8650-4fed2c1572b3",
   "metadata": {},
   "outputs": [
    {
     "name": "stdout",
     "output_type": "stream",
     "text": [
      "Results\n",
      "[('team', 'http://www.wikidata.org/entity/Q3891980'), ('name', 'Nuova Pallacanestro Pavia'), ('inceptionYear', '1943')]\n",
      "[('team', 'http://www.wikidata.org/entity/Q1139737'), ('name', 'Fortitudo Pallacanestro Bologna'), ('inceptionYear', '1932')]\n",
      "[('team', 'http://www.wikidata.org/entity/Q36362'), ('name', 'Olimpia Milano'), ('inceptionYear', '1936')]\n",
      "[('team', 'http://www.wikidata.org/entity/Q36500'), ('name', 'Mens Sana Basket'), ('inceptionYear', '1861')]\n",
      "[('team', 'http://www.wikidata.org/entity/Q36264'), ('name', 'Virtus Pallacanestro Bologna'), ('inceptionYear', '1927')]\n",
      "[('team', 'http://www.wikidata.org/entity/Q36311'), ('name', 'Pallacanestro Cantù'), ('inceptionYear', '1936')]\n",
      "[('team', 'http://www.wikidata.org/entity/Q7127695'), ('name', 'Pallacanestro Pavia'), ('inceptionYear', '1943')]\n",
      "[('team', 'http://www.wikidata.org/entity/Q3754192'), ('name', 'Fulgor Omegna'), ('inceptionYear', '1937')]\n",
      "[('team', 'http://www.wikidata.org/entity/Q36572'), ('name', 'Reyer Venezia Mestre'), ('inceptionYear', '1925')]\n",
      "[('team', 'http://www.wikidata.org/entity/Q961782'), ('name', 'Pallacanestro Petrarca Padova'), ('inceptionYear', '1934')]\n",
      "[('team', 'http://www.wikidata.org/entity/Q3972903'), ('name', 'Stella Azzurra Roma'), ('inceptionYear', '1938')]\n",
      "[('team', 'http://www.wikidata.org/entity/Q3747654'), ('name', 'F.C. Internazionale Milano (basketball)'), ('inceptionYear', '1908')]\n",
      "12\n"
     ]
    }
   ],
   "source": [
    "#return team instances of basketball team with country Italy with inception year before 1945\n",
    "queryString = \"\"\"\n",
    "SELECT DISTINCT ?team ?name ?inceptionYear\n",
    "WHERE {\n",
    "   ?team wdt:P31 wd:Q13393265.\n",
    "   ?team wdt:P17 wd:Q38.\n",
    "   ?team wdt:P571 ?inceptionDate.\n",
    "   BIND(year(?inceptionDate) as ?inceptionYear)\n",
    "   FILTER(?inceptionYear < 1945)\n",
    "   ?team sc:name ?name.\n",
    "}\n",
    "LIMIT 50\n",
    "\"\"\"\n",
    "\n",
    "print(\"Results\")\n",
    "x=run_query(queryString)"
   ]
  },
  {
   "cell_type": "markdown",
   "id": "794f47bc-b0a0-4354-9dfc-4497bca7d4dd",
   "metadata": {},
   "source": [
    "Final query for this task"
   ]
  },
  {
   "cell_type": "code",
   "execution_count": 59,
   "id": "1e5a6c9c",
   "metadata": {},
   "outputs": [
    {
     "name": "stdout",
     "output_type": "stream",
     "text": [
      "Results\n",
      "[('team', 'http://www.wikidata.org/entity/Q3891980'), ('name', 'Nuova Pallacanestro Pavia'), ('inceptionYear', '1943')]\n",
      "[('team', 'http://www.wikidata.org/entity/Q1139737'), ('name', 'Fortitudo Pallacanestro Bologna'), ('inceptionYear', '1932')]\n",
      "[('team', 'http://www.wikidata.org/entity/Q36362'), ('name', 'Olimpia Milano'), ('inceptionYear', '1936')]\n",
      "[('team', 'http://www.wikidata.org/entity/Q36500'), ('name', 'Mens Sana Basket'), ('inceptionYear', '1861')]\n",
      "[('team', 'http://www.wikidata.org/entity/Q36264'), ('name', 'Virtus Pallacanestro Bologna'), ('inceptionYear', '1927')]\n",
      "[('team', 'http://www.wikidata.org/entity/Q36311'), ('name', 'Pallacanestro Cantù'), ('inceptionYear', '1936')]\n",
      "[('team', 'http://www.wikidata.org/entity/Q7127695'), ('name', 'Pallacanestro Pavia'), ('inceptionYear', '1943')]\n",
      "[('team', 'http://www.wikidata.org/entity/Q3754192'), ('name', 'Fulgor Omegna'), ('inceptionYear', '1937')]\n",
      "[('team', 'http://www.wikidata.org/entity/Q36572'), ('name', 'Reyer Venezia Mestre'), ('inceptionYear', '1925')]\n",
      "[('team', 'http://www.wikidata.org/entity/Q961782'), ('name', 'Pallacanestro Petrarca Padova'), ('inceptionYear', '1934')]\n",
      "[('team', 'http://www.wikidata.org/entity/Q3972903'), ('name', 'Stella Azzurra Roma'), ('inceptionYear', '1938')]\n",
      "[('team', 'http://www.wikidata.org/entity/Q3747654'), ('name', 'F.C. Internazionale Milano (basketball)'), ('inceptionYear', '1908')]\n",
      "12\n"
     ]
    }
   ],
   "source": [
    "# Return all italian basketball teams born before 1945 \n",
    "#(the result set must be a list of triples basketball team IRI, label and year of inception).\n",
    "# write your final query\n",
    "queryString = \"\"\"\n",
    "SELECT DISTINCT ?team ?name ?inceptionYear\n",
    "WHERE {\n",
    "   ?team wdt:P31 wd:Q13393265.\n",
    "   ?team wdt:P17 wd:Q38.\n",
    "   ?team wdt:P571 ?inceptionDate.\n",
    "   BIND(year(?inceptionDate) as ?inceptionYear)\n",
    "   FILTER(?inceptionYear < 1945)\n",
    "   ?team sc:name ?name.\n",
    "}\n",
    "LIMIT 50\n",
    "\"\"\"\n",
    "\n",
    "print(\"Results\")\n",
    "x=run_query(queryString)"
   ]
  },
  {
   "cell_type": "markdown",
   "id": "12666243",
   "metadata": {},
   "source": [
    "## Task 5\n",
    "Identify the BGP for NBA finals"
   ]
  },
  {
   "cell_type": "code",
   "execution_count": 60,
   "id": "0de83938",
   "metadata": {},
   "outputs": [],
   "source": [
    "# write your queries"
   ]
  },
  {
   "cell_type": "code",
   "execution_count": 61,
   "id": "a9a8be7a-a4bd-4eb1-81f6-c65033b57b1f",
   "metadata": {},
   "outputs": [
    {
     "name": "stdout",
     "output_type": "stream",
     "text": [
      "Results\n",
      "[('p', 'http://www.wikidata.org/prop/direct/P6118'), ('name', 'season ends')]\n",
      "[('p', 'http://www.wikidata.org/prop/direct/P1132'), ('name', 'number of participants')]\n",
      "[('p', 'http://www.wikidata.org/prop/direct/P1273'), ('name', 'CANTIC ID')]\n",
      "[('p', 'http://www.wikidata.org/prop/direct/P1346'), ('name', 'winner')]\n",
      "[('p', 'http://www.wikidata.org/prop/direct/P1365'), ('name', 'replaces')]\n",
      "[('p', 'http://www.wikidata.org/prop/direct/P1417'), ('name', 'Encyclopædia Britannica Online ID')]\n",
      "[('p', 'http://www.wikidata.org/prop/direct/P1424'), ('name', \"topic's main template\")]\n",
      "[('p', 'http://www.wikidata.org/prop/direct/P154'), ('name', 'logo image')]\n",
      "[('p', 'http://www.wikidata.org/prop/direct/P1687'), ('name', 'Wikidata property')]\n",
      "[('p', 'http://www.wikidata.org/prop/direct/P17'), ('name', 'country')]\n",
      "[('p', 'http://www.wikidata.org/prop/direct/P18'), ('name', 'image')]\n",
      "[('p', 'http://www.wikidata.org/prop/direct/P1830'), ('name', 'owner of')]\n",
      "[('p', 'http://www.wikidata.org/prop/direct/P2002'), ('name', 'Twitter username')]\n",
      "[('p', 'http://www.wikidata.org/prop/direct/P2003'), ('name', 'Instagram username')]\n",
      "[('p', 'http://www.wikidata.org/prop/direct/P2013'), ('name', 'Facebook ID')]\n",
      "[('p', 'http://www.wikidata.org/prop/direct/P2088'), ('name', 'Crunchbase organization ID')]\n",
      "[('p', 'http://www.wikidata.org/prop/direct/P2094'), ('name', 'competition class')]\n",
      "[('p', 'http://www.wikidata.org/prop/direct/P213'), ('name', 'ISNI')]\n",
      "[('p', 'http://www.wikidata.org/prop/direct/P214'), ('name', 'VIAF ID')]\n",
      "[('p', 'http://www.wikidata.org/prop/direct/P2184'), ('name', 'history of topic')]\n",
      "[('p', 'http://www.wikidata.org/prop/direct/P2257'), ('name', 'event interval')]\n",
      "[('p', 'http://www.wikidata.org/prop/direct/P227'), ('name', 'GND ID')]\n",
      "[('p', 'http://www.wikidata.org/prop/direct/P2397'), ('name', 'YouTube channel ID')]\n",
      "[('p', 'http://www.wikidata.org/prop/direct/P244'), ('name', 'Library of Congress authority ID')]\n",
      "[('p', 'http://www.wikidata.org/prop/direct/P2500'), ('name', 'league level below')]\n",
      "[('p', 'http://www.wikidata.org/prop/direct/P268'), ('name', 'Bibliothèque nationale de France ID')]\n",
      "[('p', 'http://www.wikidata.org/prop/direct/P269'), ('name', 'IdRef ID')]\n",
      "[('p', 'http://www.wikidata.org/prop/direct/P2924'), ('name', 'Great Russian Encyclopedia Online ID')]\n",
      "[('p', 'http://www.wikidata.org/prop/direct/P31'), ('name', 'instance of')]\n",
      "[('p', 'http://www.wikidata.org/prop/direct/P3219'), ('name', 'Encyclopædia Universalis ID')]\n",
      "[('p', 'http://www.wikidata.org/prop/direct/P3221'), ('name', 'New York Times topic ID')]\n",
      "[('p', 'http://www.wikidata.org/prop/direct/P3417'), ('name', 'Quora topic ID')]\n",
      "[('p', 'http://www.wikidata.org/prop/direct/P3500'), ('name', 'Ringgold ID')]\n",
      "[('p', 'http://www.wikidata.org/prop/direct/P3553'), ('name', 'Zhihu topic ID')]\n",
      "[('p', 'http://www.wikidata.org/prop/direct/P373'), ('name', 'Commons category')]\n",
      "[('p', 'http://www.wikidata.org/prop/direct/P3984'), ('name', 'subreddit')]\n",
      "[('p', 'http://www.wikidata.org/prop/direct/P4013'), ('name', 'Giphy username')]\n",
      "[('p', 'http://www.wikidata.org/prop/direct/P434'), ('name', 'MusicBrainz artist ID')]\n",
      "[('p', 'http://www.wikidata.org/prop/direct/P4794'), ('name', 'season starts')]\n",
      "[('p', 'http://www.wikidata.org/prop/direct/P527'), ('name', 'has part')]\n",
      "[('p', 'http://www.wikidata.org/prop/direct/P571'), ('name', 'inception')]\n",
      "[('p', 'http://www.wikidata.org/prop/direct/P641'), ('name', 'sport')]\n",
      "[('p', 'http://www.wikidata.org/prop/direct/P646'), ('name', 'Freebase ID')]\n",
      "[('p', 'http://www.wikidata.org/prop/direct/P691'), ('name', 'NKCR AUT ID')]\n",
      "[('p', 'http://www.wikidata.org/prop/direct/P7085'), ('name', 'TikTok username')]\n",
      "[('p', 'http://www.wikidata.org/prop/direct/P7859'), ('name', 'WorldCat Identities ID')]\n",
      "[('p', 'http://www.wikidata.org/prop/direct/P8309'), ('name', 'Yle topic ID')]\n",
      "[('p', 'http://www.wikidata.org/prop/direct/P8408'), ('name', 'KBpedia ID')]\n",
      "[('p', 'http://www.wikidata.org/prop/direct/P856'), ('name', 'official website')]\n",
      "[('p', 'http://www.wikidata.org/prop/direct/P8672'), ('name', 'Twitter topic ID')]\n",
      "50\n"
     ]
    }
   ],
   "source": [
    "#return properties for NBA \n",
    "queryString = \"\"\"\n",
    "SELECT DISTINCT ?p ?name\n",
    "WHERE {\n",
    "   wd:Q155223 ?p ?o.\n",
    "   ?p sc:name ?name.\n",
    "}\n",
    "LIMIT 50\n",
    "\"\"\"\n",
    "\n",
    "print(\"Results\")\n",
    "x=run_query(queryString)"
   ]
  },
  {
   "cell_type": "code",
   "execution_count": 62,
   "id": "3ffa0ea2-c4e8-45d4-a519-285e58951922",
   "metadata": {},
   "outputs": [
    {
     "name": "stdout",
     "output_type": "stream",
     "text": [
      "Results\n",
      "[('p', 'http://www.wikidata.org/prop/direct/P6118'), ('name', 'season ends')]\n",
      "[('p', 'http://www.wikidata.org/prop/direct/P1132'), ('name', 'number of participants')]\n",
      "[('p', 'http://www.wikidata.org/prop/direct/P1273'), ('name', 'CANTIC ID')]\n",
      "[('p', 'http://www.wikidata.org/prop/direct/P1346'), ('name', 'winner')]\n",
      "[('p', 'http://www.wikidata.org/prop/direct/P1365'), ('name', 'replaces')]\n",
      "[('p', 'http://www.wikidata.org/prop/direct/P1417'), ('name', 'Encyclopædia Britannica Online ID')]\n",
      "[('p', 'http://www.wikidata.org/prop/direct/P1424'), ('name', \"topic's main template\")]\n",
      "[('p', 'http://www.wikidata.org/prop/direct/P154'), ('name', 'logo image')]\n",
      "[('p', 'http://www.wikidata.org/prop/direct/P1687'), ('name', 'Wikidata property')]\n",
      "[('p', 'http://www.wikidata.org/prop/direct/P17'), ('name', 'country')]\n",
      "[('p', 'http://www.wikidata.org/prop/direct/P18'), ('name', 'image')]\n",
      "[('p', 'http://www.wikidata.org/prop/direct/P1830'), ('name', 'owner of')]\n",
      "[('p', 'http://www.wikidata.org/prop/direct/P2002'), ('name', 'Twitter username')]\n",
      "[('p', 'http://www.wikidata.org/prop/direct/P2003'), ('name', 'Instagram username')]\n",
      "[('p', 'http://www.wikidata.org/prop/direct/P2013'), ('name', 'Facebook ID')]\n",
      "[('p', 'http://www.wikidata.org/prop/direct/P2088'), ('name', 'Crunchbase organization ID')]\n",
      "[('p', 'http://www.wikidata.org/prop/direct/P2094'), ('name', 'competition class')]\n",
      "[('p', 'http://www.wikidata.org/prop/direct/P213'), ('name', 'ISNI')]\n",
      "[('p', 'http://www.wikidata.org/prop/direct/P214'), ('name', 'VIAF ID')]\n",
      "[('p', 'http://www.wikidata.org/prop/direct/P2184'), ('name', 'history of topic')]\n",
      "[('p', 'http://www.wikidata.org/prop/direct/P2257'), ('name', 'event interval')]\n",
      "[('p', 'http://www.wikidata.org/prop/direct/P227'), ('name', 'GND ID')]\n",
      "[('p', 'http://www.wikidata.org/prop/direct/P2397'), ('name', 'YouTube channel ID')]\n",
      "[('p', 'http://www.wikidata.org/prop/direct/P244'), ('name', 'Library of Congress authority ID')]\n",
      "[('p', 'http://www.wikidata.org/prop/direct/P2500'), ('name', 'league level below')]\n",
      "[('p', 'http://www.wikidata.org/prop/direct/P268'), ('name', 'Bibliothèque nationale de France ID')]\n",
      "[('p', 'http://www.wikidata.org/prop/direct/P269'), ('name', 'IdRef ID')]\n",
      "[('p', 'http://www.wikidata.org/prop/direct/P2924'), ('name', 'Great Russian Encyclopedia Online ID')]\n",
      "[('p', 'http://www.wikidata.org/prop/direct/P31'), ('name', 'instance of')]\n",
      "[('p', 'http://www.wikidata.org/prop/direct/P3219'), ('name', 'Encyclopædia Universalis ID')]\n",
      "[('p', 'http://www.wikidata.org/prop/direct/P3221'), ('name', 'New York Times topic ID')]\n",
      "[('p', 'http://www.wikidata.org/prop/direct/P3417'), ('name', 'Quora topic ID')]\n",
      "[('p', 'http://www.wikidata.org/prop/direct/P3500'), ('name', 'Ringgold ID')]\n",
      "[('p', 'http://www.wikidata.org/prop/direct/P3553'), ('name', 'Zhihu topic ID')]\n",
      "[('p', 'http://www.wikidata.org/prop/direct/P373'), ('name', 'Commons category')]\n",
      "[('p', 'http://www.wikidata.org/prop/direct/P3984'), ('name', 'subreddit')]\n",
      "[('p', 'http://www.wikidata.org/prop/direct/P4013'), ('name', 'Giphy username')]\n",
      "[('p', 'http://www.wikidata.org/prop/direct/P434'), ('name', 'MusicBrainz artist ID')]\n",
      "[('p', 'http://www.wikidata.org/prop/direct/P4794'), ('name', 'season starts')]\n",
      "[('p', 'http://www.wikidata.org/prop/direct/P527'), ('name', 'has part')]\n",
      "[('p', 'http://www.wikidata.org/prop/direct/P571'), ('name', 'inception')]\n",
      "[('p', 'http://www.wikidata.org/prop/direct/P641'), ('name', 'sport')]\n",
      "[('p', 'http://www.wikidata.org/prop/direct/P646'), ('name', 'Freebase ID')]\n",
      "[('p', 'http://www.wikidata.org/prop/direct/P691'), ('name', 'NKCR AUT ID')]\n",
      "[('p', 'http://www.wikidata.org/prop/direct/P7085'), ('name', 'TikTok username')]\n",
      "[('p', 'http://www.wikidata.org/prop/direct/P7859'), ('name', 'WorldCat Identities ID')]\n",
      "[('p', 'http://www.wikidata.org/prop/direct/P8309'), ('name', 'Yle topic ID')]\n",
      "[('p', 'http://www.wikidata.org/prop/direct/P8408'), ('name', 'KBpedia ID')]\n",
      "[('p', 'http://www.wikidata.org/prop/direct/P856'), ('name', 'official website')]\n",
      "[('p', 'http://www.wikidata.org/prop/direct/P8672'), ('name', 'Twitter topic ID')]\n",
      "[('p', 'http://www.wikidata.org/prop/direct/P8687'), ('name', 'social media followers')]\n",
      "[('p', 'http://www.wikidata.org/prop/direct/P9035'), ('name', 'Muck Rack media outlet ID')]\n",
      "[('p', 'http://www.wikidata.org/prop/direct/P910'), ('name', \"topic's main category\")]\n",
      "[('p', 'http://www.wikidata.org/prop/direct/P9346'), ('name', 'France24 topic ID (French)')]\n",
      "[('p', 'http://www.wikidata.org/prop/direct/P9368'), ('name', 'CNA topic ID')]\n",
      "[('p', 'http://www.wikidata.org/prop/direct/P3579'), ('name', 'Sina Weibo user ID')]\n",
      "56\n"
     ]
    }
   ],
   "source": [
    "#return properties for NBA increased limit\n",
    "queryString = \"\"\"\n",
    "SELECT DISTINCT ?p ?name\n",
    "WHERE {\n",
    "   wd:Q155223 ?p ?o.\n",
    "   ?p sc:name ?name.\n",
    "}\n",
    "LIMIT 100\n",
    "\"\"\"\n",
    "\n",
    "print(\"Results\")\n",
    "x=run_query(queryString)"
   ]
  },
  {
   "cell_type": "code",
   "execution_count": 63,
   "id": "8cea7fec-edfd-4658-b7a4-b60f9e8a0e95",
   "metadata": {},
   "outputs": [
    {
     "name": "stdout",
     "output_type": "stream",
     "text": [
      "Results\n",
      "[('p', 'http://www.wikidata.org/prop/direct/P31'), ('name', 'instance of'), ('o', 'http://www.wikidata.org/entity/Q18536323'), ('oName', 'basketball league')]\n",
      "[('p', 'http://www.wikidata.org/prop/direct/P31'), ('name', 'instance of'), ('o', 'http://www.wikidata.org/entity/Q15986354'), ('oName', 'basketball association')]\n",
      "[('p', 'http://www.wikidata.org/prop/direct/P527'), ('name', 'has part'), ('o', 'http://www.wikidata.org/entity/Q238240'), ('oName', 'Eastern Conference')]\n",
      "[('p', 'http://www.wikidata.org/prop/direct/P1830'), ('name', 'owner of'), ('o', 'http://www.wikidata.org/entity/Q2455323'), ('oName', 'NBA TV')]\n",
      "[('p', 'http://www.wikidata.org/prop/direct/P1365'), ('name', 'replaces'), ('o', 'http://www.wikidata.org/entity/Q810343'), ('oName', 'Basketball Association of America')]\n",
      "[('p', 'http://www.wikidata.org/prop/direct/P6118'), ('name', 'season ends'), ('o', 'http://www.wikidata.org/entity/Q118'), ('oName', 'April')]\n",
      "[('p', 'http://www.wikidata.org/prop/direct/P4794'), ('name', 'season starts'), ('o', 'http://www.wikidata.org/entity/Q124'), ('oName', 'October')]\n",
      "[('p', 'http://www.wikidata.org/prop/direct/P31'), ('name', 'instance of'), ('o', 'http://www.wikidata.org/entity/Q15991290'), ('oName', 'professional sports league')]\n",
      "[('p', 'http://www.wikidata.org/prop/direct/P17'), ('name', 'country'), ('o', 'http://www.wikidata.org/entity/Q16'), ('oName', 'Canada')]\n",
      "[('p', 'http://www.wikidata.org/prop/direct/P17'), ('name', 'country'), ('o', 'http://www.wikidata.org/entity/Q30'), ('oName', 'United States of America')]\n",
      "[('p', 'http://www.wikidata.org/prop/direct/P2094'), ('name', 'competition class'), ('o', 'http://www.wikidata.org/entity/Q46343203'), ('oName', \"men's basketball\")]\n",
      "[('p', 'http://www.wikidata.org/prop/direct/P641'), ('name', 'sport'), ('o', 'http://www.wikidata.org/entity/Q5372'), ('oName', 'basketball')]\n",
      "[('p', 'http://www.wikidata.org/prop/direct/P31'), ('name', 'instance of'), ('o', 'http://www.wikidata.org/entity/Q7094076'), ('oName', 'online database')]\n",
      "[('p', 'http://www.wikidata.org/prop/direct/P2500'), ('name', 'league level below'), ('o', 'http://www.wikidata.org/entity/Q842793'), ('oName', 'NBA G League')]\n",
      "[('p', 'http://www.wikidata.org/prop/direct/P1687'), ('name', 'Wikidata property'), ('o', 'http://www.wikidata.org/entity/P3647'), ('oName', 'NBA.com player ID')]\n",
      "[('p', 'http://www.wikidata.org/prop/direct/P1346'), ('name', 'winner'), ('o', 'http://www.wikidata.org/entity/Q121783'), ('oName', 'Los Angeles Lakers')]\n",
      "[('p', 'http://www.wikidata.org/prop/direct/P1830'), ('name', 'owner of'), ('o', 'http://www.wikidata.org/entity/Q6952699'), ('oName', 'NBA Store')]\n",
      "[('p', 'http://www.wikidata.org/prop/direct/P527'), ('name', 'has part'), ('o', 'http://www.wikidata.org/entity/Q318389'), ('oName', 'Western Conference')]\n",
      "[('p', 'http://www.wikidata.org/prop/direct/P910'), ('name', \"topic's main category\"), ('o', 'http://www.wikidata.org/entity/Q8663448'), ('oName', 'Category:National Basketball Association')]\n",
      "[('p', 'http://www.wikidata.org/prop/direct/P2500'), ('name', 'league level below'), ('o', 'http://www.wikidata.org/entity/Q1287605'), ('oName', 'NBA Summer League')]\n",
      "[('p', 'http://www.wikidata.org/prop/direct/P1424'), ('name', \"topic's main template\"), ('o', 'http://www.wikidata.org/entity/Q10950388'), ('oName', 'Template:NBA seasons')]\n",
      "[('p', 'http://www.wikidata.org/prop/direct/P1830'), ('name', 'owner of'), ('o', 'http://www.wikidata.org/entity/Q1470803'), ('oName', 'Three-Point Contest')]\n",
      "22\n"
     ]
    }
   ],
   "source": [
    "#return also objects\n",
    "queryString = \"\"\"\n",
    "SELECT DISTINCT ?p ?name ?o ?oName\n",
    "WHERE {\n",
    "   wd:Q155223 ?p ?o.\n",
    "   ?p sc:name ?name.\n",
    "   ?o sc:name ?oName.\n",
    "}\n",
    "LIMIT 100\n",
    "\"\"\"\n",
    "\n",
    "print(\"Results\")\n",
    "x=run_query(queryString)"
   ]
  },
  {
   "cell_type": "code",
   "execution_count": 64,
   "id": "62747852-bdd2-4821-a1d3-d89e3d46d884",
   "metadata": {},
   "outputs": [
    {
     "name": "stdout",
     "output_type": "stream",
     "text": [
      "Results\n",
      "[('p', 'http://www.wikidata.org/prop/direct/P115'), ('name', 'home venue')]\n",
      "[('p', 'http://www.wikidata.org/prop/direct/P118'), ('name', 'league')]\n",
      "[('p', 'http://www.wikidata.org/prop/direct/P127'), ('name', 'owned by')]\n",
      "[('p', 'http://www.wikidata.org/prop/direct/P1417'), ('name', 'Encyclopædia Britannica Online ID')]\n",
      "[('p', 'http://www.wikidata.org/prop/direct/P154'), ('name', 'logo image')]\n",
      "[('p', 'http://www.wikidata.org/prop/direct/P159'), ('name', 'headquarters location')]\n",
      "[('p', 'http://www.wikidata.org/prop/direct/P17'), ('name', 'country')]\n",
      "[('p', 'http://www.wikidata.org/prop/direct/P1830'), ('name', 'owner of')]\n",
      "[('p', 'http://www.wikidata.org/prop/direct/P1889'), ('name', 'different from')]\n",
      "[('p', 'http://www.wikidata.org/prop/direct/P2002'), ('name', 'Twitter username')]\n",
      "[('p', 'http://www.wikidata.org/prop/direct/P2003'), ('name', 'Instagram username')]\n",
      "[('p', 'http://www.wikidata.org/prop/direct/P2013'), ('name', 'Facebook ID')]\n",
      "[('p', 'http://www.wikidata.org/prop/direct/P214'), ('name', 'VIAF ID')]\n",
      "[('p', 'http://www.wikidata.org/prop/direct/P2397'), ('name', 'YouTube channel ID')]\n",
      "[('p', 'http://www.wikidata.org/prop/direct/P244'), ('name', 'Library of Congress authority ID')]\n",
      "[('p', 'http://www.wikidata.org/prop/direct/P286'), ('name', 'head coach')]\n",
      "[('p', 'http://www.wikidata.org/prop/direct/P2924'), ('name', 'Great Russian Encyclopedia Online ID')]\n",
      "[('p', 'http://www.wikidata.org/prop/direct/P31'), ('name', 'instance of')]\n",
      "[('p', 'http://www.wikidata.org/prop/direct/P3221'), ('name', 'New York Times topic ID')]\n",
      "[('p', 'http://www.wikidata.org/prop/direct/P3417'), ('name', 'Quora topic ID')]\n",
      "[('p', 'http://www.wikidata.org/prop/direct/P3553'), ('name', 'Zhihu topic ID')]\n",
      "[('p', 'http://www.wikidata.org/prop/direct/P361'), ('name', 'part of')]\n",
      "[('p', 'http://www.wikidata.org/prop/direct/P373'), ('name', 'Commons category')]\n",
      "[('p', 'http://www.wikidata.org/prop/direct/P3984'), ('name', 'subreddit')]\n",
      "[('p', 'http://www.wikidata.org/prop/direct/P571'), ('name', 'inception')]\n",
      "[('p', 'http://www.wikidata.org/prop/direct/P641'), ('name', 'sport')]\n",
      "[('p', 'http://www.wikidata.org/prop/direct/P646'), ('name', 'Freebase ID')]\n",
      "[('p', 'http://www.wikidata.org/prop/direct/P7859'), ('name', 'WorldCat Identities ID')]\n",
      "[('p', 'http://www.wikidata.org/prop/direct/P856'), ('name', 'official website')]\n",
      "[('p', 'http://www.wikidata.org/prop/direct/P8672'), ('name', 'Twitter topic ID')]\n",
      "[('p', 'http://www.wikidata.org/prop/direct/P8687'), ('name', 'social media followers')]\n",
      "[('p', 'http://www.wikidata.org/prop/direct/P910'), ('name', \"topic's main category\")]\n",
      "[('p', 'http://www.wikidata.org/prop/direct/P9629'), ('name', 'Armeniapedia ID')]\n",
      "33\n"
     ]
    }
   ],
   "source": [
    "#return properties for Lakers\n",
    "queryString = \"\"\"\n",
    "SELECT DISTINCT ?p ?name \n",
    "WHERE {\n",
    "   wd:Q121783 ?p ?o.\n",
    "   ?p sc:name ?name.\n",
    "}\n",
    "LIMIT 100\n",
    "\"\"\"\n",
    "\n",
    "print(\"Results\")\n",
    "x=run_query(queryString)"
   ]
  },
  {
   "cell_type": "code",
   "execution_count": 65,
   "id": "2ab181da-067e-48a9-a3c9-2e73636bb73e",
   "metadata": {},
   "outputs": [
    {
     "name": "stdout",
     "output_type": "stream",
     "text": [
      "Results\n",
      "[('o', 'http://www.wikidata.org/entity/Q121783'), ('name', 'Los Angeles Lakers')]\n",
      "1\n"
     ]
    }
   ],
   "source": [
    "#return NBA winner\n",
    "queryString = \"\"\"\n",
    "SELECT DISTINCT ?o ?name\n",
    "WHERE {\n",
    "   wd:Q155223 wdt:P1346 ?o.\n",
    "   ?o sc:name ?name.\n",
    "}\n",
    "LIMIT 100\n",
    "\"\"\"\n",
    "\n",
    "print(\"Results\")\n",
    "x=run_query(queryString)"
   ]
  },
  {
   "cell_type": "code",
   "execution_count": 66,
   "id": "fc955025-ff03-4d8d-8061-bd4ae4b45e63",
   "metadata": {},
   "outputs": [
    {
     "name": "stdout",
     "output_type": "stream",
     "text": [
      "Results\n",
      "[('p', 'http://www.wikidata.org/prop/direct/P1591'), ('name', 'defendant')]\n",
      "[('p', 'http://www.wikidata.org/prop/direct/P1423'), ('name', 'template has topic')]\n",
      "[('p', 'http://www.wikidata.org/prop/direct/P101'), ('name', 'field of work')]\n",
      "[('p', 'http://www.wikidata.org/prop/direct/P108'), ('name', 'employer')]\n",
      "[('p', 'http://www.wikidata.org/prop/direct/P118'), ('name', 'league')]\n",
      "[('p', 'http://www.wikidata.org/prop/direct/P1269'), ('name', 'facet of')]\n",
      "[('p', 'http://www.wikidata.org/prop/direct/P127'), ('name', 'owned by')]\n",
      "[('p', 'http://www.wikidata.org/prop/direct/P1343'), ('name', 'described by source')]\n",
      "[('p', 'http://www.wikidata.org/prop/direct/P1366'), ('name', 'replaced by')]\n",
      "[('p', 'http://www.wikidata.org/prop/direct/P137'), ('name', 'operator')]\n",
      "[('p', 'http://www.wikidata.org/prop/direct/P264'), ('name', 'record label')]\n",
      "[('p', 'http://www.wikidata.org/prop/direct/P301'), ('name', \"category's main topic\")]\n",
      "[('p', 'http://www.wikidata.org/prop/direct/P3450'), ('name', 'sports season of league or competition')]\n",
      "[('p', 'http://www.wikidata.org/prop/direct/P361'), ('name', 'part of')]\n",
      "[('p', 'http://www.wikidata.org/prop/direct/P466'), ('name', 'occupant')]\n",
      "[('p', 'http://www.wikidata.org/prop/direct/P664'), ('name', 'organizer')]\n",
      "[('p', 'http://www.wikidata.org/prop/direct/P710'), ('name', 'participant')]\n",
      "[('p', 'http://www.wikidata.org/prop/direct/P921'), ('name', 'main subject')]\n",
      "[('p', 'http://www.wikidata.org/prop/direct/P971'), ('name', 'category combines topics')]\n",
      "[('p', 'http://www.wikidata.org/prop/direct/P1027'), ('name', 'conferred by')]\n",
      "[('p', 'http://www.wikidata.org/prop/direct/P2499'), ('name', 'league level above')]\n",
      "[('p', 'http://www.wikidata.org/prop/direct/P1629'), ('name', 'Wikidata item of this property')]\n",
      "[('p', 'http://www.wikidata.org/prop/direct/P1855'), ('name', 'Wikidata property example')]\n",
      "[('p', 'http://www.wikidata.org/prop/direct/P9073'), ('name', \"applicable 'stated in' value\")]\n",
      "24\n"
     ]
    }
   ],
   "source": [
    "#return properties pointing to NBA \n",
    "queryString = \"\"\"\n",
    "SELECT DISTINCT ?p ?name\n",
    "WHERE {\n",
    "   ?s ?p wd:Q155223.\n",
    "   ?p sc:name ?name.\n",
    "}\n",
    "LIMIT 100\n",
    "\"\"\"\n",
    "\n",
    "print(\"Results\")\n",
    "x=run_query(queryString)"
   ]
  },
  {
   "cell_type": "code",
   "execution_count": 67,
   "id": "d59b7a54-4295-4c33-bd8c-aa28056996f2",
   "metadata": {},
   "outputs": [
    {
     "name": "stdout",
     "output_type": "stream",
     "text": [
      "Results\n",
      "[('s', 'http://www.wikidata.org/entity/Q15908865'), ('sName', 'Jordan Adams'), ('p', 'http://www.wikidata.org/prop/direct/P118'), ('name', 'league')]\n",
      "[('s', 'http://www.wikidata.org/entity/Q16227014'), ('sName', 'Tyler Ennis'), ('p', 'http://www.wikidata.org/prop/direct/P118'), ('name', 'league')]\n",
      "[('s', 'http://www.wikidata.org/entity/Q16233299'), ('sName', 'Sean Kilpatrick'), ('p', 'http://www.wikidata.org/prop/direct/P118'), ('name', 'league')]\n",
      "[('s', 'http://www.wikidata.org/entity/Q16236541'), ('sName', 'Sindarius Thornwell'), ('p', 'http://www.wikidata.org/prop/direct/P118'), ('name', 'league')]\n",
      "[('s', 'http://www.wikidata.org/entity/Q17623132'), ('sName', 'C. J. Williams'), ('p', 'http://www.wikidata.org/prop/direct/P118'), ('name', 'league')]\n",
      "[('s', 'http://www.wikidata.org/entity/Q498348'), ('sName', 'Jimmy Butler'), ('p', 'http://www.wikidata.org/prop/direct/P118'), ('name', 'league')]\n",
      "[('s', 'http://www.wikidata.org/entity/Q23302736'), ('sName', 'Joel Bolomboy'), ('p', 'http://www.wikidata.org/prop/direct/P118'), ('name', 'league')]\n",
      "[('s', 'http://www.wikidata.org/entity/Q29166745'), ('sName', 'P. J. Dozier'), ('p', 'http://www.wikidata.org/prop/direct/P118'), ('name', 'league')]\n",
      "[('s', 'http://www.wikidata.org/entity/Q127125'), ('sName', 'Mark Price'), ('p', 'http://www.wikidata.org/prop/direct/P118'), ('name', 'league')]\n",
      "[('s', 'http://www.wikidata.org/entity/Q2351523'), ('sName', 'Mitchell Wiggins'), ('p', 'http://www.wikidata.org/prop/direct/P118'), ('name', 'league')]\n",
      "[('s', 'http://www.wikidata.org/entity/Q442623'), ('sName', 'Al Jefferson'), ('p', 'http://www.wikidata.org/prop/direct/P118'), ('name', 'league')]\n",
      "[('s', 'http://www.wikidata.org/entity/Q443724'), ('sName', 'Marco Belinelli'), ('p', 'http://www.wikidata.org/prop/direct/P118'), ('name', 'league')]\n",
      "[('s', 'http://www.wikidata.org/entity/Q448245'), ('sName', 'Alvan Adams'), ('p', 'http://www.wikidata.org/prop/direct/P118'), ('name', 'league')]\n",
      "[('s', 'http://www.wikidata.org/entity/Q504025'), ('sName', 'Bill Bradley'), ('p', 'http://www.wikidata.org/prop/direct/P118'), ('name', 'league')]\n",
      "[('s', 'http://www.wikidata.org/entity/Q705738'), ('sName', 'Chuck Connors'), ('p', 'http://www.wikidata.org/prop/direct/P118'), ('name', 'league')]\n",
      "[('s', 'http://www.wikidata.org/entity/Q177928'), ('sName', 'Sidney Moncrief'), ('p', 'http://www.wikidata.org/prop/direct/P118'), ('name', 'league')]\n",
      "[('s', 'http://www.wikidata.org/entity/Q319336'), ('sName', 'Stephon Marbury'), ('p', 'http://www.wikidata.org/prop/direct/P118'), ('name', 'league')]\n",
      "[('s', 'http://www.wikidata.org/entity/Q3508880'), ('sName', 'Jamel Thomas'), ('p', 'http://www.wikidata.org/prop/direct/P118'), ('name', 'league')]\n",
      "[('s', 'http://www.wikidata.org/entity/Q3856917'), ('sName', 'Mickey Johnson'), ('p', 'http://www.wikidata.org/prop/direct/P118'), ('name', 'league')]\n",
      "[('s', 'http://www.wikidata.org/entity/Q542256'), ('sName', 'Allan Bristow'), ('p', 'http://www.wikidata.org/prop/direct/P118'), ('name', 'league')]\n",
      "[('s', 'http://www.wikidata.org/entity/Q543566'), ('sName', 'DerMarr Johnson'), ('p', 'http://www.wikidata.org/prop/direct/P118'), ('name', 'league')]\n",
      "[('s', 'http://www.wikidata.org/entity/Q547217'), ('sName', 'Sebastian Telfair'), ('p', 'http://www.wikidata.org/prop/direct/P118'), ('name', 'league')]\n",
      "[('s', 'http://www.wikidata.org/entity/Q548382'), ('sName', 'Rod Foster'), ('p', 'http://www.wikidata.org/prop/direct/P118'), ('name', 'league')]\n",
      "[('s', 'http://www.wikidata.org/entity/Q553063'), ('sName', 'Steve Blake'), ('p', 'http://www.wikidata.org/prop/direct/P118'), ('name', 'league')]\n",
      "[('s', 'http://www.wikidata.org/entity/Q554866'), ('sName', 'Nando de Colo'), ('p', 'http://www.wikidata.org/prop/direct/P118'), ('name', 'league')]\n",
      "[('s', 'http://www.wikidata.org/entity/Q555100'), ('sName', 'Cedric Maxwell'), ('p', 'http://www.wikidata.org/prop/direct/P118'), ('name', 'league')]\n",
      "[('s', 'http://www.wikidata.org/entity/Q555411'), ('sName', 'Reggie Lewis'), ('p', 'http://www.wikidata.org/prop/direct/P118'), ('name', 'league')]\n",
      "[('s', 'http://www.wikidata.org/entity/Q1266392'), ('sName', 'Alphonso Ford'), ('p', 'http://www.wikidata.org/prop/direct/P118'), ('name', 'league')]\n",
      "[('s', 'http://www.wikidata.org/entity/Q1364009'), ('sName', 'Tadija Dragićević'), ('p', 'http://www.wikidata.org/prop/direct/P118'), ('name', 'league')]\n",
      "[('s', 'http://www.wikidata.org/entity/Q597939'), ('sName', 'Art Collins'), ('p', 'http://www.wikidata.org/prop/direct/P118'), ('name', 'league')]\n",
      "[('s', 'http://www.wikidata.org/entity/Q599161'), ('sName', 'Ben Coleman'), ('p', 'http://www.wikidata.org/prop/direct/P118'), ('name', 'league')]\n",
      "[('s', 'http://www.wikidata.org/entity/Q600960'), ('sName', 'Peter Verhoeven'), ('p', 'http://www.wikidata.org/prop/direct/P118'), ('name', 'league')]\n",
      "[('s', 'http://www.wikidata.org/entity/Q611871'), ('sName', 'Matt Walsh'), ('p', 'http://www.wikidata.org/prop/direct/P118'), ('name', 'league')]\n",
      "[('s', 'http://www.wikidata.org/entity/Q657378'), ('sName', 'Dave Twardzik'), ('p', 'http://www.wikidata.org/prop/direct/P118'), ('name', 'league')]\n",
      "[('s', 'http://www.wikidata.org/entity/Q1745862'), ('sName', 'Ricky Pierce'), ('p', 'http://www.wikidata.org/prop/direct/P118'), ('name', 'league')]\n",
      "[('s', 'http://www.wikidata.org/entity/Q1747703'), ('sName', 'Robert Hite'), ('p', 'http://www.wikidata.org/prop/direct/P118'), ('name', 'league')]\n",
      "[('s', 'http://www.wikidata.org/entity/Q1749533'), ('sName', 'Billy Thomas'), ('p', 'http://www.wikidata.org/prop/direct/P118'), ('name', 'league')]\n",
      "[('s', 'http://www.wikidata.org/entity/Q221341'), ('sName', 'Jason Kidd'), ('p', 'http://www.wikidata.org/prop/direct/P118'), ('name', 'league')]\n",
      "[('s', 'http://www.wikidata.org/entity/Q2567162'), ('sName', 'Jay Vincent'), ('p', 'http://www.wikidata.org/prop/direct/P118'), ('name', 'league')]\n",
      "[('s', 'http://www.wikidata.org/entity/Q2573637'), ('sName', 'John Thomas'), ('p', 'http://www.wikidata.org/prop/direct/P118'), ('name', 'league')]\n",
      "[('s', 'http://www.wikidata.org/entity/Q5255286'), ('sName', 'Demetrius Calip'), ('p', 'http://www.wikidata.org/prop/direct/P118'), ('name', 'league')]\n",
      "[('s', 'http://www.wikidata.org/entity/Q1842302'), ('sName', 'Brandon Hunter'), ('p', 'http://www.wikidata.org/prop/direct/P118'), ('name', 'league')]\n",
      "[('s', 'http://www.wikidata.org/entity/Q1848493'), ('sName', 'Joffrey Lauvergne'), ('p', 'http://www.wikidata.org/prop/direct/P118'), ('name', 'league')]\n",
      "[('s', 'http://www.wikidata.org/entity/Q1862004'), ('sName', 'Robert Traylor'), ('p', 'http://www.wikidata.org/prop/direct/P118'), ('name', 'league')]\n",
      "[('s', 'http://www.wikidata.org/entity/Q2275193'), ('sName', 'Mel Counts'), ('p', 'http://www.wikidata.org/prop/direct/P118'), ('name', 'league')]\n",
      "[('s', 'http://www.wikidata.org/entity/Q2291089'), ('sName', 'Uroš Slokar'), ('p', 'http://www.wikidata.org/prop/direct/P118'), ('name', 'league')]\n",
      "[('s', 'http://www.wikidata.org/entity/Q2552896'), ('sName', 'Coby Karl'), ('p', 'http://www.wikidata.org/prop/direct/P118'), ('name', 'league')]\n",
      "[('s', 'http://www.wikidata.org/entity/Q2556861'), ('sName', 'Radisav Ćurčić'), ('p', 'http://www.wikidata.org/prop/direct/P118'), ('name', 'league')]\n",
      "[('s', 'http://www.wikidata.org/entity/Q2557595'), ('sName', 'Bruno Šundov'), ('p', 'http://www.wikidata.org/prop/direct/P118'), ('name', 'league')]\n",
      "[('s', 'http://www.wikidata.org/entity/Q2561832'), ('sName', 'Reggie Evans'), ('p', 'http://www.wikidata.org/prop/direct/P118'), ('name', 'league')]\n",
      "[('s', 'http://www.wikidata.org/entity/Q2562137'), ('sName', 'Joe Kleine'), ('p', 'http://www.wikidata.org/prop/direct/P118'), ('name', 'league')]\n",
      "[('s', 'http://www.wikidata.org/entity/Q2562179'), ('sName', 'Gene Shue'), ('p', 'http://www.wikidata.org/prop/direct/P118'), ('name', 'league')]\n",
      "[('s', 'http://www.wikidata.org/entity/Q2563053'), ('sName', 'Norm Van Lier'), ('p', 'http://www.wikidata.org/prop/direct/P118'), ('name', 'league')]\n",
      "[('s', 'http://www.wikidata.org/entity/Q2564695'), ('sName', 'Wayne Embry'), ('p', 'http://www.wikidata.org/prop/direct/P118'), ('name', 'league')]\n",
      "[('s', 'http://www.wikidata.org/entity/Q2565049'), ('sName', 'Zelmo Beaty'), ('p', 'http://www.wikidata.org/prop/direct/P118'), ('name', 'league')]\n",
      "[('s', 'http://www.wikidata.org/entity/Q2565541'), ('sName', 'Elmore Smith'), ('p', 'http://www.wikidata.org/prop/direct/P118'), ('name', 'league')]\n",
      "[('s', 'http://www.wikidata.org/entity/Q2565934'), ('sName', 'Ernie Grunfeld'), ('p', 'http://www.wikidata.org/prop/direct/P118'), ('name', 'league')]\n",
      "[('s', 'http://www.wikidata.org/entity/Q6112600'), ('sName', 'Steve Javie'), ('p', 'http://www.wikidata.org/prop/direct/P118'), ('name', 'league')]\n",
      "[('s', 'http://www.wikidata.org/entity/Q930865'), ('sName', 'George Karl'), ('p', 'http://www.wikidata.org/prop/direct/P118'), ('name', 'league')]\n",
      "[('s', 'http://www.wikidata.org/entity/Q2779315'), ('sName', 'Kevin Ollie'), ('p', 'http://www.wikidata.org/prop/direct/P118'), ('name', 'league')]\n",
      "[('s', 'http://www.wikidata.org/entity/Q2784995'), ('sName', 'John Mills'), ('p', 'http://www.wikidata.org/prop/direct/P118'), ('name', 'league')]\n",
      "[('s', 'http://www.wikidata.org/entity/Q3808315'), ('sName', 'Jim Burns'), ('p', 'http://www.wikidata.org/prop/direct/P118'), ('name', 'league')]\n",
      "[('s', 'http://www.wikidata.org/entity/Q703908'), ('sName', 'Nick Young'), ('p', 'http://www.wikidata.org/prop/direct/P118'), ('name', 'league')]\n",
      "[('s', 'http://www.wikidata.org/entity/Q16971081'), ('sName', '1942–43 Fort Wayne Pistons season'), ('p', 'http://www.wikidata.org/prop/direct/P118'), ('name', 'league')]\n",
      "[('s', 'http://www.wikidata.org/entity/Q16971127'), ('sName', '1946–47 Fort Wayne Pistons season'), ('p', 'http://www.wikidata.org/prop/direct/P118'), ('name', 'league')]\n",
      "[('s', 'http://www.wikidata.org/entity/Q3706307'), ('sName', 'Devin Gray'), ('p', 'http://www.wikidata.org/prop/direct/P118'), ('name', 'league')]\n",
      "[('s', 'http://www.wikidata.org/entity/Q16910147'), ('sName', 'Emmanuel Mudiay'), ('p', 'http://www.wikidata.org/prop/direct/P118'), ('name', 'league')]\n",
      "[('s', 'http://www.wikidata.org/entity/Q19968886'), ('sName', 'Luis David Monteró'), ('p', 'http://www.wikidata.org/prop/direct/P118'), ('name', 'league')]\n",
      "[('s', 'http://www.wikidata.org/entity/Q19972620'), ('sName', 'Malik Newman'), ('p', 'http://www.wikidata.org/prop/direct/P118'), ('name', 'league')]\n",
      "[('s', 'http://www.wikidata.org/entity/Q2567451'), ('sName', 'Hersey Hawkins'), ('p', 'http://www.wikidata.org/prop/direct/P118'), ('name', 'league')]\n",
      "[('s', 'http://www.wikidata.org/entity/Q1618075'), ('sName', 'James Bailey'), ('p', 'http://www.wikidata.org/prop/direct/P118'), ('name', 'league')]\n",
      "[('s', 'http://www.wikidata.org/entity/Q24452154'), ('sName', 'Ben Bentil'), ('p', 'http://www.wikidata.org/prop/direct/P118'), ('name', 'league')]\n",
      "[('s', 'http://www.wikidata.org/entity/Q28105058'), ('sName', 'Vincent Poirier'), ('p', 'http://www.wikidata.org/prop/direct/P118'), ('name', 'league')]\n",
      "[('s', 'http://www.wikidata.org/entity/Q36777259'), ('sName', 'Juan Toscano-Anderson'), ('p', 'http://www.wikidata.org/prop/direct/P118'), ('name', 'league')]\n",
      "[('s', 'http://www.wikidata.org/entity/Q131364'), ('sName', 'New York Knicks'), ('p', 'http://www.wikidata.org/prop/direct/P118'), ('name', 'league')]\n",
      "[('s', 'http://www.wikidata.org/entity/Q162954'), ('sName', 'Denver Nuggets'), ('p', 'http://www.wikidata.org/prop/direct/P118'), ('name', 'league')]\n",
      "[('s', 'http://www.wikidata.org/entity/Q167253'), ('sName', 'Portland Trail Blazers'), ('p', 'http://www.wikidata.org/prop/direct/P118'), ('name', 'league')]\n",
      "[('s', 'http://www.wikidata.org/entity/Q180950'), ('sName', 'Oklahoma City Thunder'), ('p', 'http://www.wikidata.org/prop/direct/P118'), ('name', 'league')]\n",
      "[('s', 'http://www.wikidata.org/entity/Q2011732'), ('sName', 'Žan Tabak'), ('p', 'http://www.wikidata.org/prop/direct/P118'), ('name', 'league')]\n",
      "[('s', 'http://www.wikidata.org/entity/Q48842'), ('sName', 'Festus Ezeli'), ('p', 'http://www.wikidata.org/prop/direct/P118'), ('name', 'league')]\n",
      "[('s', 'http://www.wikidata.org/entity/Q60118'), ('sName', 'Danilo Gallinari'), ('p', 'http://www.wikidata.org/prop/direct/P118'), ('name', 'league')]\n",
      "[('s', 'http://www.wikidata.org/entity/Q976396'), ('sName', 'Los Angeles Clippers'), ('p', 'http://www.wikidata.org/prop/direct/P118'), ('name', 'league')]\n",
      "[('s', 'http://www.wikidata.org/entity/Q166105'), ('sName', 'Sacramento Kings'), ('p', 'http://www.wikidata.org/prop/direct/P118'), ('name', 'league')]\n",
      "[('s', 'http://www.wikidata.org/entity/Q170649'), ('sName', 'Utah Jazz'), ('p', 'http://www.wikidata.org/prop/direct/P118'), ('name', 'league')]\n",
      "[('s', 'http://www.wikidata.org/entity/Q60485339'), ('sName', 'NBA Expansion Draft'), ('p', 'http://www.wikidata.org/prop/direct/P118'), ('name', 'league')]\n",
      "[('s', 'http://www.wikidata.org/entity/Q93735'), ('sName', '1961 NBA Expansion Draft'), ('p', 'http://www.wikidata.org/prop/direct/P118'), ('name', 'league')]\n",
      "[('s', 'http://www.wikidata.org/entity/Q1111167'), ('sName', 'Tim James'), ('p', 'http://www.wikidata.org/prop/direct/P118'), ('name', 'league')]\n",
      "[('s', 'http://www.wikidata.org/entity/Q125060'), ('sName', 'Sergio Rodríguez'), ('p', 'http://www.wikidata.org/prop/direct/P118'), ('name', 'league')]\n",
      "[('s', 'http://www.wikidata.org/entity/Q131942'), ('sName', 'Kendrick Perkins'), ('p', 'http://www.wikidata.org/prop/direct/P118'), ('name', 'league')]\n",
      "[('s', 'http://www.wikidata.org/entity/Q138089'), ('sName', 'Philadelphia 76ers'), ('p', 'http://www.wikidata.org/prop/direct/P118'), ('name', 'league')]\n",
      "[('s', 'http://www.wikidata.org/entity/Q161345'), ('sName', 'Houston Rockets'), ('p', 'http://www.wikidata.org/prop/direct/P118'), ('name', 'league')]\n",
      "[('s', 'http://www.wikidata.org/entity/Q1638664'), ('sName', 'Ervin Johnson'), ('p', 'http://www.wikidata.org/prop/direct/P118'), ('name', 'league')]\n",
      "[('s', 'http://www.wikidata.org/entity/Q164177'), ('sName', 'Phoenix Suns'), ('p', 'http://www.wikidata.org/prop/direct/P118'), ('name', 'league')]\n",
      "[('s', 'http://www.wikidata.org/entity/Q172339'), ('sName', 'New Orleans Pelicans'), ('p', 'http://www.wikidata.org/prop/direct/P118'), ('name', 'league')]\n",
      "[('s', 'http://www.wikidata.org/entity/Q2331010'), ('sName', 'Terry Duerod'), ('p', 'http://www.wikidata.org/prop/direct/P118'), ('name', 'league')]\n",
      "[('s', 'http://www.wikidata.org/entity/Q2343352'), ('sName', 'Edgar Jones'), ('p', 'http://www.wikidata.org/prop/direct/P118'), ('name', 'league')]\n",
      "[('s', 'http://www.wikidata.org/entity/Q3257523'), ('sName', 'Lloyd Daniels'), ('p', 'http://www.wikidata.org/prop/direct/P118'), ('name', 'league')]\n",
      "[('s', 'http://www.wikidata.org/entity/Q352162'), ('sName', 'Dennis Johnson'), ('p', 'http://www.wikidata.org/prop/direct/P118'), ('name', 'league')]\n",
      "[('s', 'http://www.wikidata.org/entity/Q161337'), ('sName', 'Orlando Magic'), ('p', 'http://www.wikidata.org/prop/direct/P118'), ('name', 'league')]\n",
      "[('s', 'http://www.wikidata.org/entity/Q163754'), ('sName', 'Johnny Rogers'), ('p', 'http://www.wikidata.org/prop/direct/P118'), ('name', 'league')]\n",
      "100\n"
     ]
    }
   ],
   "source": [
    "#return also subjects\n",
    "queryString = \"\"\"\n",
    "SELECT DISTINCT ?s ?sName ?p ?name\n",
    "WHERE {\n",
    "   ?s ?p wd:Q155223.\n",
    "   ?p sc:name ?name.\n",
    "   ?s sc:name ?sName.\n",
    "}\n",
    "LIMIT 100\n",
    "\"\"\"\n",
    "\n",
    "print(\"Results\")\n",
    "x=run_query(queryString)"
   ]
  },
  {
   "cell_type": "code",
   "execution_count": 68,
   "id": "106443db-5ba2-40c9-83a4-197e0ba79bd8",
   "metadata": {},
   "outputs": [
    {
     "name": "stdout",
     "output_type": "stream",
     "text": [
      "Results\n",
      "[('s', 'http://www.wikidata.org/entity/Q238240'), ('name', 'Eastern Conference')]\n",
      "[('s', 'http://www.wikidata.org/entity/Q318389'), ('name', 'Western Conference')]\n",
      "2\n"
     ]
    }
   ],
   "source": [
    "#return nodes part of NBA\n",
    "queryString = \"\"\"\n",
    "SELECT DISTINCT ?s ?name\n",
    "WHERE {\n",
    "   ?s wdt:P361 wd:Q155223.\n",
    "   ?s sc:name ?name.\n",
    "}\n",
    "LIMIT 100\n",
    "\"\"\"\n",
    "\n",
    "print(\"Results\")\n",
    "x=run_query(queryString)"
   ]
  },
  {
   "cell_type": "code",
   "execution_count": 69,
   "id": "fc43e62b-b10c-4e10-95b8-7426be171363",
   "metadata": {},
   "outputs": [
    {
     "name": "stdout",
     "output_type": "stream",
     "text": [
      "Results\n",
      "[('s', 'http://www.wikidata.org/entity/Q15908865'), ('name', 'Jordan Adams')]\n",
      "[('s', 'http://www.wikidata.org/entity/Q16227014'), ('name', 'Tyler Ennis')]\n",
      "[('s', 'http://www.wikidata.org/entity/Q16233299'), ('name', 'Sean Kilpatrick')]\n",
      "[('s', 'http://www.wikidata.org/entity/Q16236541'), ('name', 'Sindarius Thornwell')]\n",
      "[('s', 'http://www.wikidata.org/entity/Q17623132'), ('name', 'C. J. Williams')]\n",
      "[('s', 'http://www.wikidata.org/entity/Q498348'), ('name', 'Jimmy Butler')]\n",
      "[('s', 'http://www.wikidata.org/entity/Q23302736'), ('name', 'Joel Bolomboy')]\n",
      "[('s', 'http://www.wikidata.org/entity/Q29166745'), ('name', 'P. J. Dozier')]\n",
      "[('s', 'http://www.wikidata.org/entity/Q127125'), ('name', 'Mark Price')]\n",
      "[('s', 'http://www.wikidata.org/entity/Q2351523'), ('name', 'Mitchell Wiggins')]\n",
      "[('s', 'http://www.wikidata.org/entity/Q442623'), ('name', 'Al Jefferson')]\n",
      "[('s', 'http://www.wikidata.org/entity/Q443724'), ('name', 'Marco Belinelli')]\n",
      "[('s', 'http://www.wikidata.org/entity/Q448245'), ('name', 'Alvan Adams')]\n",
      "[('s', 'http://www.wikidata.org/entity/Q504025'), ('name', 'Bill Bradley')]\n",
      "[('s', 'http://www.wikidata.org/entity/Q705738'), ('name', 'Chuck Connors')]\n",
      "[('s', 'http://www.wikidata.org/entity/Q177928'), ('name', 'Sidney Moncrief')]\n",
      "[('s', 'http://www.wikidata.org/entity/Q319336'), ('name', 'Stephon Marbury')]\n",
      "[('s', 'http://www.wikidata.org/entity/Q3508880'), ('name', 'Jamel Thomas')]\n",
      "[('s', 'http://www.wikidata.org/entity/Q3856917'), ('name', 'Mickey Johnson')]\n",
      "[('s', 'http://www.wikidata.org/entity/Q542256'), ('name', 'Allan Bristow')]\n",
      "[('s', 'http://www.wikidata.org/entity/Q543566'), ('name', 'DerMarr Johnson')]\n",
      "[('s', 'http://www.wikidata.org/entity/Q547217'), ('name', 'Sebastian Telfair')]\n",
      "[('s', 'http://www.wikidata.org/entity/Q548382'), ('name', 'Rod Foster')]\n",
      "[('s', 'http://www.wikidata.org/entity/Q553063'), ('name', 'Steve Blake')]\n",
      "[('s', 'http://www.wikidata.org/entity/Q554866'), ('name', 'Nando de Colo')]\n",
      "[('s', 'http://www.wikidata.org/entity/Q555100'), ('name', 'Cedric Maxwell')]\n",
      "[('s', 'http://www.wikidata.org/entity/Q555411'), ('name', 'Reggie Lewis')]\n",
      "[('s', 'http://www.wikidata.org/entity/Q1266392'), ('name', 'Alphonso Ford')]\n",
      "[('s', 'http://www.wikidata.org/entity/Q1364009'), ('name', 'Tadija Dragićević')]\n",
      "[('s', 'http://www.wikidata.org/entity/Q597939'), ('name', 'Art Collins')]\n",
      "[('s', 'http://www.wikidata.org/entity/Q599161'), ('name', 'Ben Coleman')]\n",
      "[('s', 'http://www.wikidata.org/entity/Q600960'), ('name', 'Peter Verhoeven')]\n",
      "[('s', 'http://www.wikidata.org/entity/Q611871'), ('name', 'Matt Walsh')]\n",
      "[('s', 'http://www.wikidata.org/entity/Q657378'), ('name', 'Dave Twardzik')]\n",
      "[('s', 'http://www.wikidata.org/entity/Q1745862'), ('name', 'Ricky Pierce')]\n",
      "[('s', 'http://www.wikidata.org/entity/Q1747703'), ('name', 'Robert Hite')]\n",
      "[('s', 'http://www.wikidata.org/entity/Q1749533'), ('name', 'Billy Thomas')]\n",
      "[('s', 'http://www.wikidata.org/entity/Q221341'), ('name', 'Jason Kidd')]\n",
      "[('s', 'http://www.wikidata.org/entity/Q2567162'), ('name', 'Jay Vincent')]\n",
      "[('s', 'http://www.wikidata.org/entity/Q2573637'), ('name', 'John Thomas')]\n",
      "[('s', 'http://www.wikidata.org/entity/Q5255286'), ('name', 'Demetrius Calip')]\n",
      "[('s', 'http://www.wikidata.org/entity/Q1842302'), ('name', 'Brandon Hunter')]\n",
      "[('s', 'http://www.wikidata.org/entity/Q1848493'), ('name', 'Joffrey Lauvergne')]\n",
      "[('s', 'http://www.wikidata.org/entity/Q1862004'), ('name', 'Robert Traylor')]\n",
      "[('s', 'http://www.wikidata.org/entity/Q2275193'), ('name', 'Mel Counts')]\n",
      "[('s', 'http://www.wikidata.org/entity/Q2291089'), ('name', 'Uroš Slokar')]\n",
      "[('s', 'http://www.wikidata.org/entity/Q2552896'), ('name', 'Coby Karl')]\n",
      "[('s', 'http://www.wikidata.org/entity/Q2556861'), ('name', 'Radisav Ćurčić')]\n",
      "[('s', 'http://www.wikidata.org/entity/Q2557595'), ('name', 'Bruno Šundov')]\n",
      "[('s', 'http://www.wikidata.org/entity/Q2561832'), ('name', 'Reggie Evans')]\n",
      "[('s', 'http://www.wikidata.org/entity/Q2562137'), ('name', 'Joe Kleine')]\n",
      "[('s', 'http://www.wikidata.org/entity/Q2562179'), ('name', 'Gene Shue')]\n",
      "[('s', 'http://www.wikidata.org/entity/Q2563053'), ('name', 'Norm Van Lier')]\n",
      "[('s', 'http://www.wikidata.org/entity/Q2564695'), ('name', 'Wayne Embry')]\n",
      "[('s', 'http://www.wikidata.org/entity/Q2565049'), ('name', 'Zelmo Beaty')]\n",
      "[('s', 'http://www.wikidata.org/entity/Q2565541'), ('name', 'Elmore Smith')]\n",
      "[('s', 'http://www.wikidata.org/entity/Q2565934'), ('name', 'Ernie Grunfeld')]\n",
      "[('s', 'http://www.wikidata.org/entity/Q6112600'), ('name', 'Steve Javie')]\n",
      "[('s', 'http://www.wikidata.org/entity/Q930865'), ('name', 'George Karl')]\n",
      "[('s', 'http://www.wikidata.org/entity/Q2779315'), ('name', 'Kevin Ollie')]\n",
      "[('s', 'http://www.wikidata.org/entity/Q2784995'), ('name', 'John Mills')]\n",
      "[('s', 'http://www.wikidata.org/entity/Q3808315'), ('name', 'Jim Burns')]\n",
      "[('s', 'http://www.wikidata.org/entity/Q703908'), ('name', 'Nick Young')]\n",
      "[('s', 'http://www.wikidata.org/entity/Q16971081'), ('name', '1942–43 Fort Wayne Pistons season')]\n",
      "[('s', 'http://www.wikidata.org/entity/Q16971127'), ('name', '1946–47 Fort Wayne Pistons season')]\n",
      "[('s', 'http://www.wikidata.org/entity/Q3706307'), ('name', 'Devin Gray')]\n",
      "[('s', 'http://www.wikidata.org/entity/Q16910147'), ('name', 'Emmanuel Mudiay')]\n",
      "[('s', 'http://www.wikidata.org/entity/Q19968886'), ('name', 'Luis David Monteró')]\n",
      "[('s', 'http://www.wikidata.org/entity/Q19972620'), ('name', 'Malik Newman')]\n",
      "[('s', 'http://www.wikidata.org/entity/Q2567451'), ('name', 'Hersey Hawkins')]\n",
      "[('s', 'http://www.wikidata.org/entity/Q1618075'), ('name', 'James Bailey')]\n",
      "[('s', 'http://www.wikidata.org/entity/Q24452154'), ('name', 'Ben Bentil')]\n",
      "[('s', 'http://www.wikidata.org/entity/Q28105058'), ('name', 'Vincent Poirier')]\n",
      "[('s', 'http://www.wikidata.org/entity/Q36777259'), ('name', 'Juan Toscano-Anderson')]\n",
      "[('s', 'http://www.wikidata.org/entity/Q131364'), ('name', 'New York Knicks')]\n",
      "[('s', 'http://www.wikidata.org/entity/Q162954'), ('name', 'Denver Nuggets')]\n",
      "[('s', 'http://www.wikidata.org/entity/Q167253'), ('name', 'Portland Trail Blazers')]\n",
      "[('s', 'http://www.wikidata.org/entity/Q180950'), ('name', 'Oklahoma City Thunder')]\n",
      "[('s', 'http://www.wikidata.org/entity/Q2011732'), ('name', 'Žan Tabak')]\n",
      "[('s', 'http://www.wikidata.org/entity/Q48842'), ('name', 'Festus Ezeli')]\n",
      "[('s', 'http://www.wikidata.org/entity/Q60118'), ('name', 'Danilo Gallinari')]\n",
      "[('s', 'http://www.wikidata.org/entity/Q976396'), ('name', 'Los Angeles Clippers')]\n",
      "[('s', 'http://www.wikidata.org/entity/Q166105'), ('name', 'Sacramento Kings')]\n",
      "[('s', 'http://www.wikidata.org/entity/Q170649'), ('name', 'Utah Jazz')]\n",
      "[('s', 'http://www.wikidata.org/entity/Q60485339'), ('name', 'NBA Expansion Draft')]\n",
      "[('s', 'http://www.wikidata.org/entity/Q93735'), ('name', '1961 NBA Expansion Draft')]\n",
      "[('s', 'http://www.wikidata.org/entity/Q1111167'), ('name', 'Tim James')]\n",
      "[('s', 'http://www.wikidata.org/entity/Q125060'), ('name', 'Sergio Rodríguez')]\n",
      "[('s', 'http://www.wikidata.org/entity/Q131942'), ('name', 'Kendrick Perkins')]\n",
      "[('s', 'http://www.wikidata.org/entity/Q138089'), ('name', 'Philadelphia 76ers')]\n",
      "[('s', 'http://www.wikidata.org/entity/Q161345'), ('name', 'Houston Rockets')]\n",
      "[('s', 'http://www.wikidata.org/entity/Q1638664'), ('name', 'Ervin Johnson')]\n",
      "[('s', 'http://www.wikidata.org/entity/Q164177'), ('name', 'Phoenix Suns')]\n",
      "[('s', 'http://www.wikidata.org/entity/Q172339'), ('name', 'New Orleans Pelicans')]\n",
      "[('s', 'http://www.wikidata.org/entity/Q2331010'), ('name', 'Terry Duerod')]\n",
      "[('s', 'http://www.wikidata.org/entity/Q2343352'), ('name', 'Edgar Jones')]\n",
      "[('s', 'http://www.wikidata.org/entity/Q3257523'), ('name', 'Lloyd Daniels')]\n",
      "[('s', 'http://www.wikidata.org/entity/Q352162'), ('name', 'Dennis Johnson')]\n",
      "[('s', 'http://www.wikidata.org/entity/Q161337'), ('name', 'Orlando Magic')]\n",
      "[('s', 'http://www.wikidata.org/entity/Q163754'), ('name', 'Johnny Rogers')]\n",
      "100\n"
     ]
    }
   ],
   "source": [
    "#return nodes having league NBA\n",
    "queryString = \"\"\"\n",
    "SELECT DISTINCT ?s ?name\n",
    "WHERE {\n",
    "   ?s wdt:P118 wd:Q155223.\n",
    "   ?s sc:name ?name.\n",
    "}\n",
    "LIMIT 100\n",
    "\"\"\"\n",
    "\n",
    "print(\"Results\")\n",
    "x=run_query(queryString)"
   ]
  },
  {
   "cell_type": "code",
   "execution_count": 70,
   "id": "9a68e65c-3723-46da-a305-21ddcc68c063",
   "metadata": {},
   "outputs": [
    {
     "name": "stdout",
     "output_type": "stream",
     "text": [
      "Results\n",
      "[('p', 'http://www.wikidata.org/prop/direct/P106'), ('name', 'occupation')]\n",
      "[('p', 'http://www.wikidata.org/prop/direct/P118'), ('name', 'league')]\n",
      "[('p', 'http://www.wikidata.org/prop/direct/P1207'), ('name', 'NUKAT ID')]\n",
      "[('p', 'http://www.wikidata.org/prop/direct/P1263'), ('name', 'NNDB people ID')]\n",
      "[('p', 'http://www.wikidata.org/prop/direct/P1280'), ('name', 'CONOR.SI ID')]\n",
      "[('p', 'http://www.wikidata.org/prop/direct/P1285'), ('name', 'Munzinger Sport number')]\n",
      "[('p', 'http://www.wikidata.org/prop/direct/P1344'), ('name', 'participant in')]\n",
      "[('p', 'http://www.wikidata.org/prop/direct/P1411'), ('name', 'nominated for')]\n",
      "[('p', 'http://www.wikidata.org/prop/direct/P1412'), ('name', 'languages spoken, written or signed')]\n",
      "[('p', 'http://www.wikidata.org/prop/direct/P1417'), ('name', 'Encyclopædia Britannica Online ID')]\n",
      "[('p', 'http://www.wikidata.org/prop/direct/P1447'), ('name', 'Sports-Reference.com Olympic athlete ID')]\n",
      "[('p', 'http://www.wikidata.org/prop/direct/P1532'), ('name', 'country for sport')]\n",
      "[('p', 'http://www.wikidata.org/prop/direct/P1559'), ('name', 'name in native language')]\n",
      "[('p', 'http://www.wikidata.org/prop/direct/P1618'), ('name', 'sport number')]\n",
      "[('p', 'http://www.wikidata.org/prop/direct/P166'), ('name', 'award received')]\n",
      "[('p', 'http://www.wikidata.org/prop/direct/P172'), ('name', 'ethnic group')]\n",
      "[('p', 'http://www.wikidata.org/prop/direct/P1741'), ('name', 'GTAA ID')]\n",
      "[('p', 'http://www.wikidata.org/prop/direct/P18'), ('name', 'image')]\n",
      "[('p', 'http://www.wikidata.org/prop/direct/P19'), ('name', 'place of birth')]\n",
      "[('p', 'http://www.wikidata.org/prop/direct/P1953'), ('name', 'Discogs artist ID')]\n",
      "[('p', 'http://www.wikidata.org/prop/direct/P2002'), ('name', 'Twitter username')]\n",
      "[('p', 'http://www.wikidata.org/prop/direct/P2003'), ('name', 'Instagram username')]\n",
      "[('p', 'http://www.wikidata.org/prop/direct/P2013'), ('name', 'Facebook ID')]\n",
      "[('p', 'http://www.wikidata.org/prop/direct/P2031'), ('name', 'work period (start)')]\n",
      "[('p', 'http://www.wikidata.org/prop/direct/P2048'), ('name', 'height')]\n",
      "[('p', 'http://www.wikidata.org/prop/direct/P2067'), ('name', 'mass')]\n",
      "[('p', 'http://www.wikidata.org/prop/direct/P2094'), ('name', 'competition class')]\n",
      "[('p', 'http://www.wikidata.org/prop/direct/P21'), ('name', 'sex or gender')]\n",
      "[('p', 'http://www.wikidata.org/prop/direct/P214'), ('name', 'VIAF ID')]\n",
      "[('p', 'http://www.wikidata.org/prop/direct/P2163'), ('name', 'FAST ID')]\n",
      "[('p', 'http://www.wikidata.org/prop/direct/P2373'), ('name', 'Genius artist ID')]\n",
      "[('p', 'http://www.wikidata.org/prop/direct/P244'), ('name', 'Library of Congress authority ID')]\n",
      "[('p', 'http://www.wikidata.org/prop/direct/P26'), ('name', 'spouse')]\n",
      "[('p', 'http://www.wikidata.org/prop/direct/P2600'), ('name', 'Geni.com profile ID')]\n",
      "[('p', 'http://www.wikidata.org/prop/direct/P2605'), ('name', 'ČSFD person ID')]\n",
      "[('p', 'http://www.wikidata.org/prop/direct/P2638'), ('name', 'TV.com ID')]\n",
      "[('p', 'http://www.wikidata.org/prop/direct/P27'), ('name', 'country of citizenship')]\n",
      "[('p', 'http://www.wikidata.org/prop/direct/P2924'), ('name', 'Great Russian Encyclopedia Online ID')]\n",
      "[('p', 'http://www.wikidata.org/prop/direct/P31'), ('name', 'instance of')]\n",
      "[('p', 'http://www.wikidata.org/prop/direct/P3171'), ('name', 'Olympic.org athlete ID (archived version)')]\n",
      "[('p', 'http://www.wikidata.org/prop/direct/P3219'), ('name', 'Encyclopædia Universalis ID')]\n",
      "[('p', 'http://www.wikidata.org/prop/direct/P3221'), ('name', 'New York Times topic ID')]\n",
      "[('p', 'http://www.wikidata.org/prop/direct/P3222'), ('name', 'NE.se ID')]\n",
      "[('p', 'http://www.wikidata.org/prop/direct/P3388'), ('name', 'LittleSis people ID')]\n",
      "[('p', 'http://www.wikidata.org/prop/direct/P3417'), ('name', 'Quora topic ID')]\n",
      "[('p', 'http://www.wikidata.org/prop/direct/P345'), ('name', 'IMDb ID')]\n",
      "[('p', 'http://www.wikidata.org/prop/direct/P3527'), ('name', 'Eurobasket.com player ID')]\n",
      "[('p', 'http://www.wikidata.org/prop/direct/P3542'), ('name', 'FIBA player ID')]\n",
      "[('p', 'http://www.wikidata.org/prop/direct/P3553'), ('name', 'Zhihu topic ID')]\n",
      "[('p', 'http://www.wikidata.org/prop/direct/P373'), ('name', 'Commons category')]\n",
      "[('p', 'http://www.wikidata.org/prop/direct/P3762'), ('name', 'openMLOL author ID')]\n",
      "[('p', 'http://www.wikidata.org/prop/direct/P3957'), ('name', 'RealGM basketball player ID')]\n",
      "[('p', 'http://www.wikidata.org/prop/direct/P40'), ('name', 'child')]\n",
      "[('p', 'http://www.wikidata.org/prop/direct/P4063'), ('name', 'United States Olympic & Paralympic Committee athlete ID')]\n",
      "[('p', 'http://www.wikidata.org/prop/direct/P413'), ('name', 'position played on team / speciality')]\n",
      "[('p', 'http://www.wikidata.org/prop/direct/P434'), ('name', 'MusicBrainz artist ID')]\n",
      "[('p', 'http://www.wikidata.org/prop/direct/P4342'), ('name', 'Store norske leksikon ID')]\n",
      "[('p', 'http://www.wikidata.org/prop/direct/P4657'), ('name', 'The Numbers person ID')]\n",
      "[('p', 'http://www.wikidata.org/prop/direct/P4666'), ('name', 'CineMagia person ID')]\n",
      "[('p', 'http://www.wikidata.org/prop/direct/P4790'), ('name', 'Basketball-Reference.com international player ID')]\n",
      "[('p', 'http://www.wikidata.org/prop/direct/P4985'), ('name', 'TMDb person ID')]\n",
      "[('p', 'http://www.wikidata.org/prop/direct/P5007'), ('name', 'Behind The Voice Actors person ID')]\n",
      "[('p', 'http://www.wikidata.org/prop/direct/P5008'), ('name', 'on focus list of Wikimedia project')]\n",
      "[('p', 'http://www.wikidata.org/prop/direct/P54'), ('name', 'member of sports team')]\n",
      "[('p', 'http://www.wikidata.org/prop/direct/P5421'), ('name', 'Trading Card Database person ID')]\n",
      "[('p', 'http://www.wikidata.org/prop/direct/P551'), ('name', 'residence')]\n",
      "[('p', 'http://www.wikidata.org/prop/direct/P5617'), ('name', 'Evene ID')]\n",
      "[('p', 'http://www.wikidata.org/prop/direct/P569'), ('name', 'date of birth')]\n",
      "[('p', 'http://www.wikidata.org/prop/direct/P5815'), ('name', 'Olympics.com athlete ID')]\n",
      "[('p', 'http://www.wikidata.org/prop/direct/P5882'), ('name', 'Muziekweb performer ID')]\n",
      "[('p', 'http://www.wikidata.org/prop/direct/P6327'), ('name', 'Goodreads character ID')]\n",
      "[('p', 'http://www.wikidata.org/prop/direct/P641'), ('name', 'sport')]\n",
      "[('p', 'http://www.wikidata.org/prop/direct/P646'), ('name', 'Freebase ID')]\n",
      "[('p', 'http://www.wikidata.org/prop/direct/P6517'), ('name', 'WhoSampled artist ID')]\n",
      "[('p', 'http://www.wikidata.org/prop/direct/P6723'), ('name', 'BlackPast.org ID')]\n",
      "[('p', 'http://www.wikidata.org/prop/direct/P6868'), ('name', 'Hoopla artist ID')]\n",
      "[('p', 'http://www.wikidata.org/prop/direct/P69'), ('name', 'educated at')]\n",
      "[('p', 'http://www.wikidata.org/prop/direct/P7293'), ('name', 'PLWABN ID')]\n",
      "[('p', 'http://www.wikidata.org/prop/direct/P734'), ('name', 'family name')]\n",
      "[('p', 'http://www.wikidata.org/prop/direct/P735'), ('name', 'given name')]\n",
      "[('p', 'http://www.wikidata.org/prop/direct/P7644'), ('name', 'Encyclopedia of Cleveland History ID')]\n",
      "[('p', 'http://www.wikidata.org/prop/direct/P7818'), ('name', 'French Vikidia ID')]\n",
      "[('p', 'http://www.wikidata.org/prop/direct/P7832'), ('name', 'Basque Vikidia ID')]\n",
      "[('p', 'http://www.wikidata.org/prop/direct/P7859'), ('name', 'WorldCat Identities ID')]\n",
      "[('p', 'http://www.wikidata.org/prop/direct/P8125'), ('name', 'Fandango person ID')]\n",
      "[('p', 'http://www.wikidata.org/prop/direct/P8286'), ('name', 'Olympedia people ID')]\n",
      "[('p', 'http://www.wikidata.org/prop/direct/P8548'), ('name', 'Proballers ID')]\n",
      "[('p', 'http://www.wikidata.org/prop/direct/P856'), ('name', 'official website')]\n",
      "[('p', 'http://www.wikidata.org/prop/direct/P8672'), ('name', 'Twitter topic ID')]\n",
      "[('p', 'http://www.wikidata.org/prop/direct/P8687'), ('name', 'social media followers')]\n",
      "[('p', 'http://www.wikidata.org/prop/direct/P910'), ('name', \"topic's main category\")]\n",
      "[('p', 'http://www.wikidata.org/prop/direct/P935'), ('name', 'Commons gallery')]\n",
      "[('p', 'http://www.wikidata.org/prop/direct/P950'), ('name', 'Biblioteca Nacional de España ID')]\n",
      "[('p', 'http://www.wikidata.org/prop/direct/P9743'), ('name', 'Podchaser creator ID')]\n",
      "[('p', 'http://www.wikidata.org/prop/direct/P2685'), ('name', 'Basketball Reference NBA player ID')]\n",
      "[('p', 'http://www.wikidata.org/prop/direct/P3533'), ('name', 'DraftExpress ID')]\n",
      "[('p', 'http://www.wikidata.org/prop/direct/P3647'), ('name', 'NBA.com player ID')]\n",
      "[('p', 'http://www.wikidata.org/prop/direct/P3685'), ('name', 'ESPN.com NBA player ID')]\n",
      "[('p', 'http://www.wikidata.org/prop/direct/P647'), ('name', 'drafted by')]\n",
      "[('p', 'http://www.wikidata.org/prop/direct/P7339'), ('name', 'Rivals.com ID')]\n",
      "100\n"
     ]
    }
   ],
   "source": [
    "#return properties for Lebron\n",
    "queryString = \"\"\"\n",
    "SELECT DISTINCT ?p ?name\n",
    "WHERE {\n",
    "   wd:Q36159 ?p ?obj .\n",
    "   ?p sc:name ?name.\n",
    "}\n",
    "LIMIT 100\n",
    "\"\"\"\n",
    "\n",
    "print(\"Results\")\n",
    "x=run_query(queryString)"
   ]
  },
  {
   "cell_type": "code",
   "execution_count": 71,
   "id": "422e97e5-62a1-40f4-bf4d-e6dafdb1f849",
   "metadata": {},
   "outputs": [
    {
     "name": "stdout",
     "output_type": "stream",
     "text": [
      "Results\n",
      "[('obj', 'http://www.wikidata.org/entity/Q241329'), ('name', '2006 FIBA World Championship')]\n",
      "[('obj', 'http://www.wikidata.org/entity/Q178595'), ('name', '2007 FIBA Americas Championship')]\n",
      "[('obj', 'http://www.wikidata.org/entity/Q8558'), ('name', '2004 Summer Olympics')]\n",
      "[('obj', 'http://www.wikidata.org/entity/Q8567'), ('name', '2008 Summer Olympics')]\n",
      "[('obj', 'http://www.wikidata.org/entity/Q8577'), ('name', '2012 Summer Olympics')]\n",
      "5\n"
     ]
    }
   ],
   "source": [
    "#return what is Lebron participant in \n",
    "queryString = \"\"\"\n",
    "SELECT DISTINCT ?obj ?name\n",
    "WHERE {\n",
    "   wd:Q36159 wdt:P1344 ?obj .\n",
    "   ?obj sc:name ?name.\n",
    "}\n",
    "LIMIT 100\n",
    "\"\"\"\n",
    "\n",
    "print(\"Results\")\n",
    "x=run_query(queryString)"
   ]
  },
  {
   "cell_type": "code",
   "execution_count": 72,
   "id": "b69b1119-2107-476e-b4ea-f81d3b34b3d7",
   "metadata": {},
   "outputs": [
    {
     "name": "stdout",
     "output_type": "stream",
     "text": [
      "Results\n",
      "[('obj', 'http://www.wikidata.org/entity/Q27020041'), ('name', 'sports season')]\n",
      "1\n"
     ]
    }
   ],
   "source": [
    "#return what 2007 FIBA Americas Championship is instance of\n",
    "queryString = \"\"\"\n",
    "SELECT DISTINCT ?obj ?name\n",
    "WHERE {\n",
    "   wd:Q178595 wdt:P31 ?obj .\n",
    "   ?obj sc:name ?name.\n",
    "}\n",
    "LIMIT 100\n",
    "\"\"\"\n",
    "\n",
    "print(\"Results\")\n",
    "x=run_query(queryString)"
   ]
  },
  {
   "cell_type": "code",
   "execution_count": 73,
   "id": "753dc8b6-e935-4c8e-8f75-00eb7be1d5dd",
   "metadata": {},
   "outputs": [
    {
     "name": "stdout",
     "output_type": "stream",
     "text": [
      "Results\n",
      "[('s', 'http://www.wikidata.org/entity/Q7700500'), ('name', 'tennis tour')]\n",
      "[('s', 'http://www.wikidata.org/entity/Q105445345'), ('name', 'edition of the Six Nations Championship')]\n",
      "[('s', 'http://www.wikidata.org/entity/Q106644070'), ('name', 'edition of the Rugby Europe International Championship')]\n",
      "[('s', 'http://www.wikidata.org/entity/Q106978496'), ('name', 'edition of the World Rugby Nations Cup')]\n",
      "[('s', 'http://www.wikidata.org/entity/Q47358534'), ('name', 'tennis tour edition')]\n",
      "[('s', 'http://www.wikidata.org/entity/Q106043413'), ('name', 'edition of the Rugby World Cup')]\n",
      "[('s', 'http://www.wikidata.org/entity/Q47403752'), ('name', 'tennis tournament edition by gender')]\n",
      "[('s', 'http://www.wikidata.org/entity/Q10509145'), ('name', 'regular season')]\n",
      "[('s', 'http://www.wikidata.org/entity/Q5290181'), ('name', 'domestic association football season')]\n",
      "[('s', 'http://www.wikidata.org/entity/Q47345468'), ('name', 'tennis tournament edition')]\n",
      "[('s', 'http://www.wikidata.org/entity/Q107540719'), ('name', 'edition of the UEFA European Championship')]\n",
      "[('s', 'http://www.wikidata.org/entity/Q53945096'), ('name', 'group during sports competition')]\n",
      "[('s', 'http://www.wikidata.org/entity/Q1661524'), ('name', 'National Football League regular season')]\n",
      "[('s', 'http://www.wikidata.org/entity/Q26897352'), ('name', 'football league season')]\n",
      "[('s', 'http://www.wikidata.org/entity/Q1539532'), ('name', 'sports season of a sports club')]\n",
      "[('s', 'http://www.wikidata.org/entity/Q107118086'), ('name', 'edition of the rugby union Asian championship')]\n",
      "[('s', 'http://www.wikidata.org/entity/Q98562826'), ('name', 'Rugby World Cup final')]\n",
      "[('s', 'http://www.wikidata.org/entity/Q101246533'), ('name', 'rally edition')]\n",
      "[('s', 'http://www.wikidata.org/entity/Q106232233'), ('name', \"edition of Women's Six Nations Championship\")]\n",
      "[('s', 'http://www.wikidata.org/entity/Q5448077'), ('name', 'figure skating season')]\n",
      "[('s', 'http://www.wikidata.org/entity/Q47465437'), ('name', 'player season')]\n",
      "[('s', 'http://www.wikidata.org/entity/Q107009735'), ('name', \"edition of the UEFA Women's Championship\")]\n",
      "[('s', 'http://www.wikidata.org/entity/Q76941636'), ('name', 'college football season')]\n",
      "[('s', 'http://www.wikidata.org/entity/Q618254'), ('name', 'Apertura and Clausura')]\n",
      "[('s', 'http://www.wikidata.org/entity/Q63874701'), ('name', 'badminton tournament series')]\n",
      "[('s', 'http://www.wikidata.org/entity/Q104538110'), ('name', 'dodgeball league season')]\n",
      "[('s', 'http://www.wikidata.org/entity/Q49870668'), ('name', 'Rugby union internationals')]\n",
      "[('s', 'http://www.wikidata.org/entity/Q22833318'), ('name', 'international championship season')]\n",
      "[('s', 'http://www.wikidata.org/entity/Q106562461'), ('name', 'Top 14 season')]\n",
      "[('s', 'http://www.wikidata.org/entity/Q2108803'), ('name', 'pre-season')]\n",
      "[('s', 'http://www.wikidata.org/entity/Q7542322'), ('name', 'slump')]\n",
      "31\n"
     ]
    }
   ],
   "source": [
    "#return sports season's subclasses\n",
    "queryString = \"\"\"\n",
    "SELECT DISTINCT ?s ?name\n",
    "WHERE {\n",
    "   ?s wdt:P279 wd:Q27020041 .\n",
    "   ?s sc:name ?name.\n",
    "}\n",
    "LIMIT 100\n",
    "\"\"\"\n",
    "\n",
    "print(\"Results\")\n",
    "x=run_query(queryString)"
   ]
  },
  {
   "cell_type": "code",
   "execution_count": 74,
   "id": "082b2b9c-971f-4304-b662-d8f527a5e14f",
   "metadata": {},
   "outputs": [
    {
     "name": "stdout",
     "output_type": "stream",
     "text": [
      "Results\n",
      "[('o', 'http://www.wikidata.org/entity/Q680221'), ('name', 'Laureus World Sports Award for Breakthrough of the Year')]\n",
      "[('o', 'http://www.wikidata.org/entity/Q4896605'), ('name', 'Best Championship Performance ESPY Award')]\n",
      "[('o', 'http://www.wikidata.org/entity/Q4896598'), ('name', 'Best Breakthrough Athlete ESPY Award')]\n",
      "[('o', 'http://www.wikidata.org/entity/Q1808301'), ('name', 'Laureus World Sports Award for Sportsman of the Year')]\n",
      "[('o', 'http://www.wikidata.org/entity/Q4835465'), ('name', 'BET Award for Athlete of the Century')]\n",
      "[('o', 'http://www.wikidata.org/entity/Q4896724'), ('name', 'Best Male Athlete ESPY Award')]\n",
      "[('o', 'http://www.wikidata.org/entity/Q943106'), ('name', 'Best NBA Player ESPY Award')]\n",
      "[('o', 'http://www.wikidata.org/entity/Q4896782'), ('name', 'Best Play ESPY Award')]\n",
      "8\n"
     ]
    }
   ],
   "source": [
    "#return what is Lebron nominated for\n",
    "queryString = \"\"\"\n",
    "SELECT DISTINCT ?o ?name\n",
    "WHERE {\n",
    "   wd:Q36159 wdt:P1411 ?o .\n",
    "   ?o sc:name ?name.\n",
    "}\n",
    "LIMIT 100\n",
    "\"\"\"\n",
    "\n",
    "print(\"Results\")\n",
    "x=run_query(queryString)"
   ]
  },
  {
   "cell_type": "code",
   "execution_count": 75,
   "id": "6d1503b5-d250-49bc-8a74-a4aa1032acf5",
   "metadata": {},
   "outputs": [
    {
     "name": "stdout",
     "output_type": "stream",
     "text": [
      "Results\n",
      "[('p', 'http://www.wikidata.org/prop/direct/P106'), ('name', 'occupation')]\n",
      "[('p', 'http://www.wikidata.org/prop/direct/P118'), ('name', 'league')]\n",
      "[('p', 'http://www.wikidata.org/prop/direct/P1207'), ('name', 'NUKAT ID')]\n",
      "[('p', 'http://www.wikidata.org/prop/direct/P1263'), ('name', 'NNDB people ID')]\n",
      "[('p', 'http://www.wikidata.org/prop/direct/P1280'), ('name', 'CONOR.SI ID')]\n",
      "[('p', 'http://www.wikidata.org/prop/direct/P1285'), ('name', 'Munzinger Sport number')]\n",
      "[('p', 'http://www.wikidata.org/prop/direct/P1344'), ('name', 'participant in')]\n",
      "[('p', 'http://www.wikidata.org/prop/direct/P1411'), ('name', 'nominated for')]\n",
      "[('p', 'http://www.wikidata.org/prop/direct/P1412'), ('name', 'languages spoken, written or signed')]\n",
      "[('p', 'http://www.wikidata.org/prop/direct/P1417'), ('name', 'Encyclopædia Britannica Online ID')]\n",
      "[('p', 'http://www.wikidata.org/prop/direct/P1447'), ('name', 'Sports-Reference.com Olympic athlete ID')]\n",
      "[('p', 'http://www.wikidata.org/prop/direct/P1532'), ('name', 'country for sport')]\n",
      "[('p', 'http://www.wikidata.org/prop/direct/P1559'), ('name', 'name in native language')]\n",
      "[('p', 'http://www.wikidata.org/prop/direct/P1618'), ('name', 'sport number')]\n",
      "[('p', 'http://www.wikidata.org/prop/direct/P166'), ('name', 'award received')]\n",
      "[('p', 'http://www.wikidata.org/prop/direct/P172'), ('name', 'ethnic group')]\n",
      "[('p', 'http://www.wikidata.org/prop/direct/P1741'), ('name', 'GTAA ID')]\n",
      "[('p', 'http://www.wikidata.org/prop/direct/P18'), ('name', 'image')]\n",
      "[('p', 'http://www.wikidata.org/prop/direct/P19'), ('name', 'place of birth')]\n",
      "[('p', 'http://www.wikidata.org/prop/direct/P1953'), ('name', 'Discogs artist ID')]\n",
      "[('p', 'http://www.wikidata.org/prop/direct/P2002'), ('name', 'Twitter username')]\n",
      "[('p', 'http://www.wikidata.org/prop/direct/P2003'), ('name', 'Instagram username')]\n",
      "[('p', 'http://www.wikidata.org/prop/direct/P2013'), ('name', 'Facebook ID')]\n",
      "[('p', 'http://www.wikidata.org/prop/direct/P2031'), ('name', 'work period (start)')]\n",
      "[('p', 'http://www.wikidata.org/prop/direct/P2048'), ('name', 'height')]\n",
      "[('p', 'http://www.wikidata.org/prop/direct/P2067'), ('name', 'mass')]\n",
      "[('p', 'http://www.wikidata.org/prop/direct/P2094'), ('name', 'competition class')]\n",
      "[('p', 'http://www.wikidata.org/prop/direct/P21'), ('name', 'sex or gender')]\n",
      "[('p', 'http://www.wikidata.org/prop/direct/P214'), ('name', 'VIAF ID')]\n",
      "[('p', 'http://www.wikidata.org/prop/direct/P2163'), ('name', 'FAST ID')]\n",
      "[('p', 'http://www.wikidata.org/prop/direct/P2373'), ('name', 'Genius artist ID')]\n",
      "[('p', 'http://www.wikidata.org/prop/direct/P244'), ('name', 'Library of Congress authority ID')]\n",
      "[('p', 'http://www.wikidata.org/prop/direct/P26'), ('name', 'spouse')]\n",
      "[('p', 'http://www.wikidata.org/prop/direct/P2600'), ('name', 'Geni.com profile ID')]\n",
      "[('p', 'http://www.wikidata.org/prop/direct/P2605'), ('name', 'ČSFD person ID')]\n",
      "[('p', 'http://www.wikidata.org/prop/direct/P2638'), ('name', 'TV.com ID')]\n",
      "[('p', 'http://www.wikidata.org/prop/direct/P27'), ('name', 'country of citizenship')]\n",
      "[('p', 'http://www.wikidata.org/prop/direct/P2924'), ('name', 'Great Russian Encyclopedia Online ID')]\n",
      "[('p', 'http://www.wikidata.org/prop/direct/P31'), ('name', 'instance of')]\n",
      "[('p', 'http://www.wikidata.org/prop/direct/P3171'), ('name', 'Olympic.org athlete ID (archived version)')]\n",
      "[('p', 'http://www.wikidata.org/prop/direct/P3219'), ('name', 'Encyclopædia Universalis ID')]\n",
      "[('p', 'http://www.wikidata.org/prop/direct/P3221'), ('name', 'New York Times topic ID')]\n",
      "[('p', 'http://www.wikidata.org/prop/direct/P3222'), ('name', 'NE.se ID')]\n",
      "[('p', 'http://www.wikidata.org/prop/direct/P3388'), ('name', 'LittleSis people ID')]\n",
      "[('p', 'http://www.wikidata.org/prop/direct/P3417'), ('name', 'Quora topic ID')]\n",
      "[('p', 'http://www.wikidata.org/prop/direct/P345'), ('name', 'IMDb ID')]\n",
      "[('p', 'http://www.wikidata.org/prop/direct/P3527'), ('name', 'Eurobasket.com player ID')]\n",
      "[('p', 'http://www.wikidata.org/prop/direct/P3542'), ('name', 'FIBA player ID')]\n",
      "[('p', 'http://www.wikidata.org/prop/direct/P3553'), ('name', 'Zhihu topic ID')]\n",
      "[('p', 'http://www.wikidata.org/prop/direct/P373'), ('name', 'Commons category')]\n",
      "[('p', 'http://www.wikidata.org/prop/direct/P3762'), ('name', 'openMLOL author ID')]\n",
      "[('p', 'http://www.wikidata.org/prop/direct/P3957'), ('name', 'RealGM basketball player ID')]\n",
      "[('p', 'http://www.wikidata.org/prop/direct/P40'), ('name', 'child')]\n",
      "[('p', 'http://www.wikidata.org/prop/direct/P4063'), ('name', 'United States Olympic & Paralympic Committee athlete ID')]\n",
      "[('p', 'http://www.wikidata.org/prop/direct/P413'), ('name', 'position played on team / speciality')]\n",
      "[('p', 'http://www.wikidata.org/prop/direct/P434'), ('name', 'MusicBrainz artist ID')]\n",
      "[('p', 'http://www.wikidata.org/prop/direct/P4342'), ('name', 'Store norske leksikon ID')]\n",
      "[('p', 'http://www.wikidata.org/prop/direct/P4657'), ('name', 'The Numbers person ID')]\n",
      "[('p', 'http://www.wikidata.org/prop/direct/P4666'), ('name', 'CineMagia person ID')]\n",
      "[('p', 'http://www.wikidata.org/prop/direct/P4790'), ('name', 'Basketball-Reference.com international player ID')]\n",
      "[('p', 'http://www.wikidata.org/prop/direct/P4985'), ('name', 'TMDb person ID')]\n",
      "[('p', 'http://www.wikidata.org/prop/direct/P5007'), ('name', 'Behind The Voice Actors person ID')]\n",
      "[('p', 'http://www.wikidata.org/prop/direct/P5008'), ('name', 'on focus list of Wikimedia project')]\n",
      "[('p', 'http://www.wikidata.org/prop/direct/P54'), ('name', 'member of sports team')]\n",
      "[('p', 'http://www.wikidata.org/prop/direct/P5421'), ('name', 'Trading Card Database person ID')]\n",
      "[('p', 'http://www.wikidata.org/prop/direct/P551'), ('name', 'residence')]\n",
      "[('p', 'http://www.wikidata.org/prop/direct/P5617'), ('name', 'Evene ID')]\n",
      "[('p', 'http://www.wikidata.org/prop/direct/P569'), ('name', 'date of birth')]\n",
      "[('p', 'http://www.wikidata.org/prop/direct/P5815'), ('name', 'Olympics.com athlete ID')]\n",
      "[('p', 'http://www.wikidata.org/prop/direct/P5882'), ('name', 'Muziekweb performer ID')]\n",
      "[('p', 'http://www.wikidata.org/prop/direct/P6327'), ('name', 'Goodreads character ID')]\n",
      "[('p', 'http://www.wikidata.org/prop/direct/P641'), ('name', 'sport')]\n",
      "[('p', 'http://www.wikidata.org/prop/direct/P646'), ('name', 'Freebase ID')]\n",
      "[('p', 'http://www.wikidata.org/prop/direct/P6517'), ('name', 'WhoSampled artist ID')]\n",
      "[('p', 'http://www.wikidata.org/prop/direct/P6723'), ('name', 'BlackPast.org ID')]\n",
      "[('p', 'http://www.wikidata.org/prop/direct/P6868'), ('name', 'Hoopla artist ID')]\n",
      "[('p', 'http://www.wikidata.org/prop/direct/P69'), ('name', 'educated at')]\n",
      "[('p', 'http://www.wikidata.org/prop/direct/P7293'), ('name', 'PLWABN ID')]\n",
      "[('p', 'http://www.wikidata.org/prop/direct/P734'), ('name', 'family name')]\n",
      "[('p', 'http://www.wikidata.org/prop/direct/P735'), ('name', 'given name')]\n",
      "[('p', 'http://www.wikidata.org/prop/direct/P7644'), ('name', 'Encyclopedia of Cleveland History ID')]\n",
      "[('p', 'http://www.wikidata.org/prop/direct/P7818'), ('name', 'French Vikidia ID')]\n",
      "[('p', 'http://www.wikidata.org/prop/direct/P7832'), ('name', 'Basque Vikidia ID')]\n",
      "[('p', 'http://www.wikidata.org/prop/direct/P7859'), ('name', 'WorldCat Identities ID')]\n",
      "[('p', 'http://www.wikidata.org/prop/direct/P8125'), ('name', 'Fandango person ID')]\n",
      "[('p', 'http://www.wikidata.org/prop/direct/P8286'), ('name', 'Olympedia people ID')]\n",
      "[('p', 'http://www.wikidata.org/prop/direct/P8548'), ('name', 'Proballers ID')]\n",
      "[('p', 'http://www.wikidata.org/prop/direct/P856'), ('name', 'official website')]\n",
      "[('p', 'http://www.wikidata.org/prop/direct/P8672'), ('name', 'Twitter topic ID')]\n",
      "[('p', 'http://www.wikidata.org/prop/direct/P8687'), ('name', 'social media followers')]\n",
      "[('p', 'http://www.wikidata.org/prop/direct/P910'), ('name', \"topic's main category\")]\n",
      "[('p', 'http://www.wikidata.org/prop/direct/P935'), ('name', 'Commons gallery')]\n",
      "[('p', 'http://www.wikidata.org/prop/direct/P950'), ('name', 'Biblioteca Nacional de España ID')]\n",
      "[('p', 'http://www.wikidata.org/prop/direct/P9743'), ('name', 'Podchaser creator ID')]\n",
      "[('p', 'http://www.wikidata.org/prop/direct/P2685'), ('name', 'Basketball Reference NBA player ID')]\n",
      "[('p', 'http://www.wikidata.org/prop/direct/P3533'), ('name', 'DraftExpress ID')]\n",
      "[('p', 'http://www.wikidata.org/prop/direct/P3647'), ('name', 'NBA.com player ID')]\n",
      "[('p', 'http://www.wikidata.org/prop/direct/P3685'), ('name', 'ESPN.com NBA player ID')]\n",
      "[('p', 'http://www.wikidata.org/prop/direct/P647'), ('name', 'drafted by')]\n",
      "[('p', 'http://www.wikidata.org/prop/direct/P7339'), ('name', 'Rivals.com ID')]\n",
      "[('p', 'http://www.wikidata.org/prop/direct/P7397'), ('name', '247Sports ID')]\n",
      "101\n"
     ]
    }
   ],
   "source": [
    "#return properties for Lebron\n",
    "queryString = \"\"\"\n",
    "SELECT DISTINCT ?p ?name\n",
    "WHERE {\n",
    "   wd:Q36159 ?p ?obj .\n",
    "   ?p sc:name ?name.\n",
    "}\n",
    "LIMIT 200\n",
    "\"\"\"\n",
    "\n",
    "print(\"Results\")\n",
    "x=run_query(queryString)"
   ]
  },
  {
   "cell_type": "code",
   "execution_count": 76,
   "id": "724bd30b-0a72-471c-8e24-ed9c67322286",
   "metadata": {},
   "outputs": [
    {
     "name": "stdout",
     "output_type": "stream",
     "text": [
      "Results\n",
      "[('o', 'http://www.wikidata.org/entity/Q5'), ('name', 'human')]\n",
      "1\n"
     ]
    }
   ],
   "source": [
    "#return what Lebron is instance of\n",
    "queryString = \"\"\"\n",
    "SELECT DISTINCT ?o ?name\n",
    "WHERE {\n",
    "   wd:Q36159 wdt:P31 ?o .\n",
    "   ?o sc:name ?name.\n",
    "}\n",
    "LIMIT 200\n",
    "\"\"\"\n",
    "\n",
    "print(\"Results\")\n",
    "x=run_query(queryString)"
   ]
  },
  {
   "cell_type": "code",
   "execution_count": 77,
   "id": "994e5980-fa8d-4462-b20c-d95f0bc2d2b2",
   "metadata": {},
   "outputs": [
    {
     "name": "stdout",
     "output_type": "stream",
     "text": [
      "Results\n",
      "[('o', 'http://www.wikidata.org/entity/Q10798782'), ('name', 'television actor')]\n",
      "[('o', 'http://www.wikidata.org/entity/Q28389'), ('name', 'screenwriter')]\n",
      "[('o', 'http://www.wikidata.org/entity/Q3665646'), ('name', 'basketball player')]\n",
      "3\n"
     ]
    }
   ],
   "source": [
    "#return Lebron occupation\n",
    "queryString = \"\"\"\n",
    "SELECT DISTINCT ?o ?name\n",
    "WHERE {\n",
    "   wd:Q36159 wdt:P106 ?o .\n",
    "   ?o sc:name ?name.\n",
    "}\n",
    "LIMIT 200\n",
    "\"\"\"\n",
    "\n",
    "print(\"Results\")\n",
    "x=run_query(queryString)"
   ]
  },
  {
   "cell_type": "code",
   "execution_count": 78,
   "id": "fb9d3224-a731-4d3a-a0ae-e6380c163c28",
   "metadata": {},
   "outputs": [
    {
     "name": "stdout",
     "output_type": "stream",
     "text": [
      "Results\n",
      "[('o', 'http://www.wikidata.org/entity/Q10798782'), ('name', 'television actor')]\n",
      "[('o', 'http://www.wikidata.org/entity/Q28389'), ('name', 'screenwriter')]\n",
      "[('o', 'http://www.wikidata.org/entity/Q3665646'), ('name', 'basketball player')]\n",
      "3\n"
     ]
    }
   ],
   "source": [
    "#return properties for basketball player\n",
    "ueryString = \"\"\"\n",
    "SELECT DISTINCT ?p ?name\n",
    "WHERE {\n",
    "   wd:Q3665646 ?p ?o .\n",
    "   ?p sc:name ?name.\n",
    "}\n",
    "LIMIT 200\n",
    "\"\"\"\n",
    "\n",
    "print(\"Results\")\n",
    "x=run_query(queryString)"
   ]
  },
  {
   "cell_type": "code",
   "execution_count": 79,
   "id": "2024a1bd-e508-47c6-8810-fdbd0f5acfe2",
   "metadata": {},
   "outputs": [
    {
     "name": "stdout",
     "output_type": "stream",
     "text": [
      "Results\n",
      "[('obj', 'http://www.wikidata.org/entity/Q162990'), ('name', 'Cleveland Cavaliers')]\n",
      "1\n"
     ]
    }
   ],
   "source": [
    "#return who drafted Lebron\n",
    "queryString = \"\"\"\n",
    "SELECT DISTINCT ?obj ?name\n",
    "WHERE {\n",
    "   wd:Q36159 wdt:P647 ?obj .\n",
    "   ?obj sc:name ?name.\n",
    "}\n",
    "LIMIT 200\n",
    "\"\"\"\n",
    "\n",
    "print(\"Results\")\n",
    "x=run_query(queryString)"
   ]
  },
  {
   "cell_type": "code",
   "execution_count": 80,
   "id": "f39d2683-266a-4484-8ca2-740d7e50f7b2",
   "metadata": {},
   "outputs": [
    {
     "name": "stdout",
     "output_type": "stream",
     "text": [
      "Results\n",
      "[('p', 'http://www.wikidata.org/prop/direct/P115'), ('name', 'home venue')]\n",
      "[('p', 'http://www.wikidata.org/prop/direct/P118'), ('name', 'league')]\n",
      "[('p', 'http://www.wikidata.org/prop/direct/P127'), ('name', 'owned by')]\n",
      "[('p', 'http://www.wikidata.org/prop/direct/P1417'), ('name', 'Encyclopædia Britannica Online ID')]\n",
      "[('p', 'http://www.wikidata.org/prop/direct/P154'), ('name', 'logo image')]\n",
      "[('p', 'http://www.wikidata.org/prop/direct/P159'), ('name', 'headquarters location')]\n",
      "[('p', 'http://www.wikidata.org/prop/direct/P17'), ('name', 'country')]\n",
      "[('p', 'http://www.wikidata.org/prop/direct/P18'), ('name', 'image')]\n",
      "[('p', 'http://www.wikidata.org/prop/direct/P2002'), ('name', 'Twitter username')]\n",
      "[('p', 'http://www.wikidata.org/prop/direct/P214'), ('name', 'VIAF ID')]\n",
      "[('p', 'http://www.wikidata.org/prop/direct/P244'), ('name', 'Library of Congress authority ID')]\n",
      "[('p', 'http://www.wikidata.org/prop/direct/P286'), ('name', 'head coach')]\n",
      "[('p', 'http://www.wikidata.org/prop/direct/P31'), ('name', 'instance of')]\n",
      "[('p', 'http://www.wikidata.org/prop/direct/P3221'), ('name', 'New York Times topic ID')]\n",
      "[('p', 'http://www.wikidata.org/prop/direct/P3417'), ('name', 'Quora topic ID')]\n",
      "[('p', 'http://www.wikidata.org/prop/direct/P361'), ('name', 'part of')]\n",
      "[('p', 'http://www.wikidata.org/prop/direct/P373'), ('name', 'Commons category')]\n",
      "[('p', 'http://www.wikidata.org/prop/direct/P571'), ('name', 'inception')]\n",
      "[('p', 'http://www.wikidata.org/prop/direct/P641'), ('name', 'sport')]\n",
      "[('p', 'http://www.wikidata.org/prop/direct/P646'), ('name', 'Freebase ID')]\n",
      "[('p', 'http://www.wikidata.org/prop/direct/P7644'), ('name', 'Encyclopedia of Cleveland History ID')]\n",
      "[('p', 'http://www.wikidata.org/prop/direct/P7859'), ('name', 'WorldCat Identities ID')]\n",
      "[('p', 'http://www.wikidata.org/prop/direct/P822'), ('name', 'mascot')]\n",
      "[('p', 'http://www.wikidata.org/prop/direct/P856'), ('name', 'official website')]\n",
      "[('p', 'http://www.wikidata.org/prop/direct/P8672'), ('name', 'Twitter topic ID')]\n",
      "[('p', 'http://www.wikidata.org/prop/direct/P8687'), ('name', 'social media followers')]\n",
      "[('p', 'http://www.wikidata.org/prop/direct/P910'), ('name', \"topic's main category\")]\n",
      "27\n"
     ]
    }
   ],
   "source": [
    "#return properties for Cleveland Cavaliers\n",
    "queryString = \"\"\"\n",
    "SELECT DISTINCT ?p ?name\n",
    "WHERE {\n",
    "   wd:Q162990 ?p ?obj .\n",
    "   ?p sc:name ?name.\n",
    "}\n",
    "LIMIT 200\n",
    "\"\"\"\n",
    "\n",
    "print(\"Results\")\n",
    "x=run_query(queryString)"
   ]
  },
  {
   "cell_type": "code",
   "execution_count": 81,
   "id": "eae17097-084f-49b0-9291-9c609313914b",
   "metadata": {},
   "outputs": [
    {
     "name": "stdout",
     "output_type": "stream",
     "text": [
      "Results\n",
      "[('p', 'http://www.wikidata.org/prop/direct/P6291'), ('name', 'advertises')]\n",
      "[('p', 'http://www.wikidata.org/prop/direct/P108'), ('name', 'employer')]\n",
      "[('p', 'http://www.wikidata.org/prop/direct/P127'), ('name', 'owned by')]\n",
      "[('p', 'http://www.wikidata.org/prop/direct/P1346'), ('name', 'winner')]\n",
      "[('p', 'http://www.wikidata.org/prop/direct/P137'), ('name', 'operator')]\n",
      "[('p', 'http://www.wikidata.org/prop/direct/P301'), ('name', \"category's main topic\")]\n",
      "[('p', 'http://www.wikidata.org/prop/direct/P463'), ('name', 'member of')]\n",
      "[('p', 'http://www.wikidata.org/prop/direct/P466'), ('name', 'occupant')]\n",
      "[('p', 'http://www.wikidata.org/prop/direct/P527'), ('name', 'has part')]\n",
      "[('p', 'http://www.wikidata.org/prop/direct/P54'), ('name', 'member of sports team')]\n",
      "[('p', 'http://www.wikidata.org/prop/direct/P6087'), ('name', 'coach of sports team')]\n",
      "[('p', 'http://www.wikidata.org/prop/direct/P710'), ('name', 'participant')]\n",
      "[('p', 'http://www.wikidata.org/prop/direct/P971'), ('name', 'category combines topics')]\n",
      "[('p', 'http://www.wikidata.org/prop/direct/P1923'), ('name', 'participating team')]\n",
      "[('p', 'http://www.wikidata.org/prop/direct/P5138'), ('name', 'season of club or team')]\n",
      "[('p', 'http://www.wikidata.org/prop/direct/P6758'), ('name', 'supported sports team')]\n",
      "[('p', 'http://www.wikidata.org/prop/direct/P647'), ('name', 'drafted by')]\n",
      "17\n"
     ]
    }
   ],
   "source": [
    "#return properties pointing to Lakers\n",
    "queryString = \"\"\"\n",
    "SELECT DISTINCT ?p ?name\n",
    "WHERE {\n",
    "   ?s ?p wd:Q121783 .\n",
    "   ?p sc:name ?name.\n",
    "}\n",
    "LIMIT 100\n",
    "\"\"\"\n",
    "\n",
    "print(\"Results\")\n",
    "x=run_query(queryString)"
   ]
  },
  {
   "cell_type": "code",
   "execution_count": 82,
   "id": "3f07ebae-bb37-40a7-bfc7-be3fcee94ae7",
   "metadata": {},
   "outputs": [
    {
     "name": "stdout",
     "output_type": "stream",
     "text": [
      "Results\n",
      "[('s', 'http://www.wikidata.org/entity/Q2294127'), ('name', '1971–72 NBA season')]\n",
      "[('s', 'http://www.wikidata.org/entity/Q631240'), ('name', '1979–80 NBA season')]\n",
      "[('s', 'http://www.wikidata.org/entity/Q155223'), ('name', 'National Basketball Association')]\n",
      "[('s', 'http://www.wikidata.org/entity/Q4566514'), ('name', '1949 BAA World Championship Series')]\n",
      "[('s', 'http://www.wikidata.org/entity/Q4566866'), ('name', '1950 NBA World Championship Series')]\n",
      "[('s', 'http://www.wikidata.org/entity/Q4575074'), ('name', '1972 NBA World Championship Series')]\n",
      "[('s', 'http://www.wikidata.org/entity/Q4586947'), ('name', \"1991 McDonald's Championship\")]\n",
      "[('s', 'http://www.wikidata.org/entity/Q4598928'), ('name', '2001 NBA Finals')]\n",
      "[('s', 'http://www.wikidata.org/entity/Q281094'), ('name', '1949–50 NBA season')]\n",
      "[('s', 'http://www.wikidata.org/entity/Q3072478'), ('name', '1985 NBA World Championship Series')]\n",
      "[('s', 'http://www.wikidata.org/entity/Q3072482'), ('name', '1987 NBA World Championship Series')]\n",
      "[('s', 'http://www.wikidata.org/entity/Q1132622'), ('name', '2001–02 NBA season')]\n",
      "[('s', 'http://www.wikidata.org/entity/Q1132641'), ('name', '1999–2000 NBA season')]\n",
      "[('s', 'http://www.wikidata.org/entity/Q1132667'), ('name', '2000–01 NBA season')]\n",
      "[('s', 'http://www.wikidata.org/entity/Q7113054'), ('name', 'Outstanding Team ESPY Award')]\n",
      "[('s', 'http://www.wikidata.org/entity/Q1999389'), ('name', '1952–53 NBA season')]\n",
      "[('s', 'http://www.wikidata.org/entity/Q4579314'), ('name', '1980 NBA World Championship Series')]\n",
      "[('s', 'http://www.wikidata.org/entity/Q63637259'), ('name', '2019–20 NBA season')]\n",
      "[('s', 'http://www.wikidata.org/entity/Q4567490'), ('name', '1952 NBA World Championship Series')]\n",
      "[('s', 'http://www.wikidata.org/entity/Q4567780'), ('name', '1953 NBA World Championship Series')]\n",
      "[('s', 'http://www.wikidata.org/entity/Q4568101'), ('name', '1954 NBA World Championship Series')]\n",
      "[('s', 'http://www.wikidata.org/entity/Q1130071'), ('name', '2009–10 NBA season')]\n",
      "[('s', 'http://www.wikidata.org/entity/Q1130082'), ('name', '2008–09 NBA season')]\n",
      "[('s', 'http://www.wikidata.org/entity/Q4600307'), ('name', '2002 NBA Finals')]\n",
      "[('s', 'http://www.wikidata.org/entity/Q795353'), ('name', '1948–49 BAA season')]\n",
      "[('s', 'http://www.wikidata.org/entity/Q4584557'), ('name', '1988 NBA Finals')]\n",
      "[('s', 'http://www.wikidata.org/entity/Q2069838'), ('name', '1986–87 NBA season')]\n",
      "[('s', 'http://www.wikidata.org/entity/Q2001832'), ('name', '1951–52 NBA season')]\n",
      "[('s', 'http://www.wikidata.org/entity/Q1959941'), ('name', '2009 NBA Finals')]\n",
      "[('s', 'http://www.wikidata.org/entity/Q1986458'), ('name', '1987–88 NBA season')]\n",
      "[('s', 'http://www.wikidata.org/entity/Q1986727'), ('name', '1984–85 NBA season')]\n",
      "[('s', 'http://www.wikidata.org/entity/Q1999399'), ('name', '1953–54 NBA season')]\n",
      "[('s', 'http://www.wikidata.org/entity/Q2069861'), ('name', '1981–82 NBA season')]\n",
      "[('s', 'http://www.wikidata.org/entity/Q4580529'), ('name', '1982 NBA World Championship Series')]\n",
      "[('s', 'http://www.wikidata.org/entity/Q4597667'), ('name', '2000 NBA Finals')]\n",
      "[('s', 'http://www.wikidata.org/entity/Q644353'), ('name', '2010 NBA Finals')]\n",
      "36\n"
     ]
    }
   ],
   "source": [
    "#return subject having property winner object lakers\n",
    "queryString = \"\"\"\n",
    "SELECT DISTINCT ?s ?name\n",
    "WHERE {\n",
    "   ?s wdt:P1346 wd:Q121783 .\n",
    "   ?s sc:name ?name.\n",
    "}\n",
    "LIMIT 100\n",
    "\"\"\"\n",
    "\n",
    "print(\"Results\")\n",
    "x=run_query(queryString)"
   ]
  },
  {
   "cell_type": "code",
   "execution_count": 83,
   "id": "919c9675-d5fb-4f8a-a767-eadb29a6a32f",
   "metadata": {},
   "outputs": [
    {
     "name": "stdout",
     "output_type": "stream",
     "text": [
      "Results\n",
      "[('o', 'http://www.wikidata.org/entity/Q842375'), ('name', 'NBA Finals')]\n",
      "1\n"
     ]
    }
   ],
   "source": [
    "#return what 2000 NBA Finals is instance of\n",
    "queryString = \"\"\"\n",
    "SELECT DISTINCT ?o ?name\n",
    "WHERE {\n",
    "   wd:Q4597667 wdt:P31 ?o.\n",
    "   ?o sc:name ?name.\n",
    "}\n",
    "LIMIT 100\n",
    "\"\"\"\n",
    "\n",
    "print(\"Results\")\n",
    "x=run_query(queryString)"
   ]
  },
  {
   "cell_type": "markdown",
   "id": "09edc7af-6565-46d3-bcd7-8b9f10b5a5a5",
   "metadata": {},
   "source": [
    "Final query for this task"
   ]
  },
  {
   "cell_type": "code",
   "execution_count": 155,
   "id": "61956644-7da1-4bed-a2ad-e5a42534bf0b",
   "metadata": {},
   "outputs": [
    {
     "name": "stdout",
     "output_type": "stream",
     "text": [
      "Results\n",
      "[('o', 'http://www.wikidata.org/entity/Q842375'), ('name', 'NBA Finals')]\n",
      "1\n"
     ]
    }
   ],
   "source": [
    "#Identify the BGP for NBA finals\n",
    "# write your final query\n",
    "queryString = \"\"\"\n",
    "SELECT DISTINCT ?o ?name\n",
    "WHERE {\n",
    "   wd:Q4597667 wdt:P31 ?o.\n",
    "   ?o sc:name ?name.\n",
    "}\n",
    "LIMIT 100\n",
    "\"\"\"\n",
    "\n",
    "print(\"Results\")\n",
    "x=run_query(queryString)"
   ]
  },
  {
   "cell_type": "markdown",
   "id": "a4dd6607-d2db-4f67-9529-e89b8b072f8b",
   "metadata": {},
   "source": [
    "## Task 6\n",
    "Consider only the basketball teams which Kevin Durant and Lebron James played. Return the number of NBA finals won by these teams (the result set must be a list of triples basketball team IRI, label and #victories. Return a number for each basketball team)."
   ]
  },
  {
   "cell_type": "code",
   "execution_count": 85,
   "id": "2f191a14-a6b3-4dc5-9e75-a1d74a24fc57",
   "metadata": {},
   "outputs": [
    {
     "name": "stdout",
     "output_type": "stream",
     "text": [
      "Results\n",
      "Empty\n"
     ]
    }
   ],
   "source": [
    "#return team instances of basketball team having Lebron linked by some property\n",
    "queryString = \"\"\"\n",
    "SELECT DISTINCT ?p ?name\n",
    "WHERE {\n",
    "   ?s wdt:P31 wd:13393265.\n",
    "   wd:Q36159 ?p ?s.\n",
    "   ?p sc:name ?name\n",
    "}\n",
    "LIMIT 100\n",
    "\"\"\"\n",
    "\n",
    "print(\"Results\")\n",
    "x=run_query(queryString)"
   ]
  },
  {
   "cell_type": "code",
   "execution_count": 86,
   "id": "ae3eddec-d2f8-4a68-871c-1a79ab0f6dc7",
   "metadata": {},
   "outputs": [
    {
     "name": "stdout",
     "output_type": "stream",
     "text": [
      "Results\n",
      "Empty\n"
     ]
    }
   ],
   "source": [
    "#return team instances of basketball team having Lebron linked by some property\n",
    "queryString = \"\"\"\n",
    "SELECT DISTINCT ?p ?name\n",
    "WHERE {\n",
    "   ?s wdt:P31 wd:13393265.\n",
    "   ?s ?p wd:Q36159.\n",
    "   ?p sc:name ?name\n",
    "}\n",
    "LIMIT 100\n",
    "\"\"\"\n",
    "\n",
    "print(\"Results\")\n",
    "x=run_query(queryString)"
   ]
  },
  {
   "cell_type": "code",
   "execution_count": 87,
   "id": "6aee3ff5-66da-4cee-8ce9-829e67962eb7",
   "metadata": {},
   "outputs": [
    {
     "name": "stdout",
     "output_type": "stream",
     "text": [
      "Results\n",
      "Empty\n"
     ]
    }
   ],
   "source": [
    "#return team instances of basketball team having Lebron linked by some property\n",
    "queryString = \"\"\"\n",
    "SELECT DISTINCT ?s ?name\n",
    "WHERE {\n",
    "   ?s wdt:P31 wd:13393265.\n",
    "   ?s ?p wd:Q36159.\n",
    "   ?s sc:name ?name\n",
    "}\n",
    "LIMIT 100\n",
    "\"\"\"\n",
    "\n",
    "print(\"Results\")\n",
    "x=run_query(queryString)"
   ]
  },
  {
   "cell_type": "code",
   "execution_count": 88,
   "id": "762167fd-58dc-4f8a-86c7-62009ceda5bc",
   "metadata": {},
   "outputs": [
    {
     "name": "stdout",
     "output_type": "stream",
     "text": [
      "Results\n",
      "Empty\n"
     ]
    }
   ],
   "source": [
    "#return team instances of basketball team having Lebron linked by some property\n",
    "queryString = \"\"\"\n",
    "SELECT DISTINCT ?s ?name\n",
    "WHERE {\n",
    "   ?s wdt:P31 wd:Q13393265.\n",
    "   ?s ?p wd:Q36159.\n",
    "   ?s sc:name ?name\n",
    "}\n",
    "LIMIT 100\n",
    "\"\"\"\n",
    "\n",
    "print(\"Results\")\n",
    "x=run_query(queryString)"
   ]
  },
  {
   "cell_type": "code",
   "execution_count": 89,
   "id": "18b8a0f3-8430-4a60-94a6-3a7f535af110",
   "metadata": {},
   "outputs": [
    {
     "name": "stdout",
     "output_type": "stream",
     "text": [
      "Results\n",
      "Empty\n"
     ]
    }
   ],
   "source": [
    "#return team instances of basketball team having Lebron linked by some property\n",
    "queryString = \"\"\"\n",
    "SELECT DISTINCT ?p ?name\n",
    "WHERE {\n",
    "   ?s wdt:P31 wd:Q13393265.\n",
    "   ?s ?p wd:Q36159.\n",
    "   ?p sc:name ?name\n",
    "}\n",
    "LIMIT 100\n",
    "\"\"\"\n",
    "\n",
    "print(\"Results\")\n",
    "x=run_query(queryString)"
   ]
  },
  {
   "cell_type": "code",
   "execution_count": 90,
   "id": "b0610eae-c76d-46ec-a1d7-c225c995bc6b",
   "metadata": {},
   "outputs": [
    {
     "name": "stdout",
     "output_type": "stream",
     "text": [
      "Results\n",
      "[('s', 'http://www.wikidata.org/entity/Q8206968'), ('name', 'Hebraica y Macabi')]\n",
      "[('s', 'http://www.wikidata.org/entity/Q5144784'), ('name', \"Colgate Raiders men's basketball\")]\n",
      "[('s', 'http://www.wikidata.org/entity/Q7051115'), ('name', \"Norfolk State Spartans men's basketball\")]\n",
      "[('s', 'http://www.wikidata.org/entity/Q7397248'), ('name', \"Sacred Heart Pioneers men's basketball\")]\n",
      "[('s', 'http://www.wikidata.org/entity/Q15725839'), ('name', 'A.S. Kentavros Neas Kallikrateias')]\n",
      "[('s', 'http://www.wikidata.org/entity/Q107876527'), ('name', \"Iowa Western Reivers men's basketball\")]\n",
      "[('s', 'http://www.wikidata.org/entity/Q15927936'), ('name', 'Westchester Knicks')]\n",
      "[('s', 'http://www.wikidata.org/entity/Q810271'), ('name', 'BC Zepter Vienna')]\n",
      "[('s', 'http://www.wikidata.org/entity/Q100320348'), ('name', \"East Central Tigers men's basketball\")]\n",
      "[('s', 'http://www.wikidata.org/entity/Q16201949'), ('name', \"DePaul Blue Demons women's basketball\")]\n",
      "[('s', 'http://www.wikidata.org/entity/Q16969750'), ('name', 'Jackson State Tigers basketball')]\n",
      "[('s', 'http://www.wikidata.org/entity/Q16982503'), ('name', 'Grand Rapids Drive')]\n",
      "[('s', 'http://www.wikidata.org/entity/Q4025635'), ('name', 'İstanbul Teknik Üniversitesi B.K.')]\n",
      "[('s', 'http://www.wikidata.org/entity/Q4705333'), ('name', \"Alabama State Hornets men's basketball\")]\n",
      "[('s', 'http://www.wikidata.org/entity/Q923137'), ('name', 'Wellington Saints')]\n",
      "[('s', 'http://www.wikidata.org/entity/Q17022966'), ('name', 'ŽKK Srbobran')]\n",
      "[('s', 'http://www.wikidata.org/entity/Q17023856'), ('name', 'Anhui Wenyi')]\n",
      "[('s', 'http://www.wikidata.org/entity/Q17064173'), ('name', 'Blackwater Elite')]\n",
      "[('s', 'http://www.wikidata.org/entity/Q5974122'), ('name', 'Levharti Chomutov')]\n",
      "[('s', 'http://www.wikidata.org/entity/Q107876648'), ('name', \"Calvin Knights men's basketball\")]\n",
      "[('s', 'http://www.wikidata.org/entity/Q20537231'), ('name', 'Raptors 905')]\n",
      "[('s', 'http://www.wikidata.org/entity/Q7496291'), ('name', 'Shiga Lakestars')]\n",
      "[('s', 'http://www.wikidata.org/entity/Q3833194'), ('name', 'Lions de Genève')]\n",
      "[('s', 'http://www.wikidata.org/entity/Q3905889'), ('name', 'Pittsburgh Piranhas')]\n",
      "[('s', 'http://www.wikidata.org/entity/Q3930226'), ('name', 'Rapla KK')]\n",
      "[('s', 'http://www.wikidata.org/entity/Q16531388'), ('name', 'Virtus Basket Ariano')]\n",
      "[('s', 'http://www.wikidata.org/entity/Q16586535'), ('name', 'Pallacanestro Brindisi')]\n",
      "[('s', 'http://www.wikidata.org/entity/Q17628455'), ('name', 'Cóndores de Cundinamarca')]\n",
      "[('s', 'http://www.wikidata.org/entity/Q18286220'), ('name', 'Metros de Santiago')]\n",
      "[('s', 'http://www.wikidata.org/entity/Q5506768'), ('name', 'Frøya Ambassadors')]\n",
      "[('s', 'http://www.wikidata.org/entity/Q15784291'), ('name', 'Melco Ieper')]\n",
      "[('s', 'http://www.wikidata.org/entity/Q18126454'), ('name', 'Leeds Force')]\n",
      "[('s', 'http://www.wikidata.org/entity/Q7058420'), ('name', \"Northern Illinois Huskies women's basketball\")]\n",
      "[('s', 'http://www.wikidata.org/entity/Q1466375'), ('name', 'Zalakeramia-ZTE KK')]\n",
      "[('s', 'http://www.wikidata.org/entity/Q12816085'), ('name', 'Soproni KC')]\n",
      "[('s', 'http://www.wikidata.org/entity/Q18379744'), ('name', 'Cafe France Bakers')]\n",
      "[('s', 'http://www.wikidata.org/entity/Q20988430'), ('name', 'Hatay Büyükşehir Belediye Gençlik ve Spor Kulübü')]\n",
      "[('s', 'http://www.wikidata.org/entity/Q21019222'), ('name', 'Tokyo Hachioji Trains')]\n",
      "[('s', 'http://www.wikidata.org/entity/Q21451950'), ('name', 'Halifax Hurricanes')]\n",
      "[('s', 'http://www.wikidata.org/entity/Q26160627'), ('name', 'Club Deportivo Hispano Americano')]\n",
      "[('s', 'http://www.wikidata.org/entity/Q3786822'), ('name', 'Horsens IC')]\n",
      "[('s', 'http://www.wikidata.org/entity/Q4705232'), ('name', \"Alabama Crimson Tide women's basketball\")]\n",
      "[('s', 'http://www.wikidata.org/entity/Q6378703'), ('name', 'Kauhajoen Karhu')]\n",
      "[('s', 'http://www.wikidata.org/entity/Q19577197'), ('name', 'KK Karpoš Sokoli')]\n",
      "[('s', 'http://www.wikidata.org/entity/Q5009372'), ('name', 'Club de Baloncesto Bahía San Agustín')]\n",
      "[('s', 'http://www.wikidata.org/entity/Q22080113'), ('name', 'CB Ciudad de Valladolid')]\n",
      "[('s', 'http://www.wikidata.org/entity/Q22199661'), ('name', \"RFM-Swift's\")]\n",
      "[('s', 'http://www.wikidata.org/entity/Q22935676'), ('name', \"Al-Mina'a\")]\n",
      "[('s', 'http://www.wikidata.org/entity/Q22949008'), ('name', 'Louaize Club')]\n",
      "[('s', 'http://www.wikidata.org/entity/Q7396990'), ('name', 'California Heatwave')]\n",
      "[('s', 'http://www.wikidata.org/entity/Q23302448'), ('name', \"UNC Wilmington Seahawks men's basketball\")]\n",
      "[('s', 'http://www.wikidata.org/entity/Q676815'), ('name', 'Starwings Basket Regio Basel')]\n",
      "[('s', 'http://www.wikidata.org/entity/Q85746459'), ('name', \"Bellarmine Knights men's basketball\")]\n",
      "[('s', 'http://www.wikidata.org/entity/Q26840607'), ('name', 'CB Agustinos Eras')]\n",
      "[('s', 'http://www.wikidata.org/entity/Q16328558'), ('name', 'Faros Keratsiniou B.C.')]\n",
      "[('s', 'http://www.wikidata.org/entity/Q27206254'), ('name', \"Aias Evosmou (women's basketball)\")]\n",
      "[('s', 'http://www.wikidata.org/entity/Q30325815'), ('name', \"Illinois State Redbirds women's basketball\")]\n",
      "[('s', 'http://www.wikidata.org/entity/Q30325821'), ('name', \"Idaho Vandals women's basketball\")]\n",
      "[('s', 'http://www.wikidata.org/entity/Q30325830'), ('name', \"Coastal Carolina Chanticleers women's basketball\")]\n",
      "[('s', 'http://www.wikidata.org/entity/Q30325916'), ('name', \"Furman Paladins women's basketball\")]\n",
      "[('s', 'http://www.wikidata.org/entity/Q30325921'), ('name', \"Wichita State Shockers women's basketball\")]\n",
      "[('s', 'http://www.wikidata.org/entity/Q30484057'), ('name', 'Capital City Go-Go')]\n",
      "[('s', 'http://www.wikidata.org/entity/Q30668302'), ('name', 'ÍS')]\n",
      "[('s', 'http://www.wikidata.org/entity/Q3891951'), ('name', 'Pallacanestro Livorno')]\n",
      "[('s', 'http://www.wikidata.org/entity/Q14947971'), ('name', 'Columbus Quest')]\n",
      "[('s', 'http://www.wikidata.org/entity/Q1541588'), ('name', 'Sacramento Monarchs')]\n",
      "[('s', 'http://www.wikidata.org/entity/Q19863871'), ('name', \"Auburn Tigers women's basketball\")]\n",
      "[('s', 'http://www.wikidata.org/entity/Q266588'), ('name', 'Ratiopharm Ulm')]\n",
      "[('s', 'http://www.wikidata.org/entity/Q28444632'), ('name', \"Marshall Thundering Herd women's basketball\")]\n",
      "[('s', 'http://www.wikidata.org/entity/Q3376166'), ('name', 'Perth Lynx')]\n",
      "[('s', 'http://www.wikidata.org/entity/Q3547347'), ('name', 'ZVVZ USK Prague')]\n",
      "[('s', 'http://www.wikidata.org/entity/Q3615392'), ('name', \"UCLA Bruins men's basketball\")]\n",
      "[('s', 'http://www.wikidata.org/entity/Q5330566'), ('name', \"Eastern Washington Eagles men's basketball\")]\n",
      "[('s', 'http://www.wikidata.org/entity/Q7080913'), ('name', \"Ohio State Buckeyes women's basketball\")]\n",
      "[('s', 'http://www.wikidata.org/entity/Q7082332'), ('name', \"Oklahoma Sooners men's basketball\")]\n",
      "[('s', 'http://www.wikidata.org/entity/Q910444'), ('name', 'Club Ferro Carril Oeste')]\n",
      "[('s', 'http://www.wikidata.org/entity/Q297826'), ('name', 'ASK Riga')]\n",
      "[('s', 'http://www.wikidata.org/entity/Q484762'), ('name', 'Changwon LG Sakers')]\n",
      "[('s', 'http://www.wikidata.org/entity/Q6141541'), ('name', 'Tenerife AB')]\n",
      "[('s', 'http://www.wikidata.org/entity/Q660650'), ('name', 'BC Krasnye Krylia')]\n",
      "[('s', 'http://www.wikidata.org/entity/Q7055048'), ('name', \"North Dakota State Bison men's basketball\")]\n",
      "[('s', 'http://www.wikidata.org/entity/Q7245013'), ('name', \"Princeton Tigers men's basketball\")]\n",
      "[('s', 'http://www.wikidata.org/entity/Q795707'), ('name', 'BCM Gravelines')]\n",
      "[('s', 'http://www.wikidata.org/entity/Q952819'), ('name', 'Mersey Tigers')]\n",
      "[('s', 'http://www.wikidata.org/entity/Q1033853'), ('name', 'Canton Charge')]\n",
      "[('s', 'http://www.wikidata.org/entity/Q1075934'), ('name', 'Cholet Basket')]\n",
      "[('s', 'http://www.wikidata.org/entity/Q1441137'), ('name', 'KK Šibenik')]\n",
      "[('s', 'http://www.wikidata.org/entity/Q15055268'), ('name', \"Maryland Terrapins men's basketball\")]\n",
      "[('s', 'http://www.wikidata.org/entity/Q16969608'), ('name', \"Marshall Thundering Herd men's basketball\")]\n",
      "[('s', 'http://www.wikidata.org/entity/Q16969659'), ('name', \"Saint Louis Billikens men's basketball\")]\n",
      "[('s', 'http://www.wikidata.org/entity/Q2725675'), ('name', 'Akron Wingfoots')]\n",
      "[('s', 'http://www.wikidata.org/entity/Q2979993'), ('name', 'CSM Târgoviște')]\n",
      "[('s', 'http://www.wikidata.org/entity/Q3093425'), ('name', 'Libertas Trogylos Basket')]\n",
      "[('s', 'http://www.wikidata.org/entity/Q3515600'), ('name', 'Taranto Cras Basket')]\n",
      "[('s', 'http://www.wikidata.org/entity/Q3702'), ('name', 'Bandırma B.K.')]\n",
      "[('s', 'http://www.wikidata.org/entity/Q4791430'), ('name', \"Arizona State Sun Devils men's basketball\")]\n",
      "[('s', 'http://www.wikidata.org/entity/Q4976050'), ('name', \"Brown Bears men's basketball\")]\n",
      "[('s', 'http://www.wikidata.org/entity/Q5085814'), ('name', \"Charlotte 49ers men's basketball\")]\n",
      "[('s', 'http://www.wikidata.org/entity/Q5120215'), ('name', \"Cincinnati Bearcats men's basketball\")]\n",
      "[('s', 'http://www.wikidata.org/entity/Q532269'), ('name', 'Phantoms Braunschweig')]\n",
      "100\n"
     ]
    }
   ],
   "source": [
    "#return team instances of basketball team\n",
    "queryString = \"\"\"\n",
    "SELECT DISTINCT ?s ?name\n",
    "WHERE {\n",
    "   ?s wdt:P31 wd:Q13393265.\n",
    "   ?s sc:name ?name\n",
    "}\n",
    "LIMIT 100\n",
    "\"\"\"\n",
    "\n",
    "print(\"Results\")\n",
    "x=run_query(queryString)"
   ]
  },
  {
   "cell_type": "code",
   "execution_count": 91,
   "id": "3f11bb9d-c880-4d81-9602-a0236d739796",
   "metadata": {},
   "outputs": [
    {
     "name": "stdout",
     "output_type": "stream",
     "text": [
      "Results\n",
      "[('p', 'http://www.wikidata.org/prop/direct/P1424'), ('name', \"topic's main template\")]\n",
      "[('p', 'http://www.wikidata.org/prop/direct/P1448'), ('name', 'official name')]\n",
      "[('p', 'http://www.wikidata.org/prop/direct/P154'), ('name', 'logo image')]\n",
      "[('p', 'http://www.wikidata.org/prop/direct/P17'), ('name', 'country')]\n",
      "[('p', 'http://www.wikidata.org/prop/direct/P1813'), ('name', 'short name')]\n",
      "[('p', 'http://www.wikidata.org/prop/direct/P279'), ('name', 'subclass of')]\n",
      "[('p', 'http://www.wikidata.org/prop/direct/P2922'), ('name', 'month of the year')]\n",
      "[('p', 'http://www.wikidata.org/prop/direct/P31'), ('name', 'instance of')]\n",
      "[('p', 'http://www.wikidata.org/prop/direct/P3417'), ('name', 'Quora topic ID')]\n",
      "[('p', 'http://www.wikidata.org/prop/direct/P373'), ('name', 'Commons category')]\n",
      "[('p', 'http://www.wikidata.org/prop/direct/P571'), ('name', 'inception')]\n",
      "[('p', 'http://www.wikidata.org/prop/direct/P641'), ('name', 'sport')]\n",
      "[('p', 'http://www.wikidata.org/prop/direct/P646'), ('name', 'Freebase ID')]\n",
      "[('p', 'http://www.wikidata.org/prop/direct/P910'), ('name', \"topic's main category\")]\n",
      "14\n"
     ]
    }
   ],
   "source": [
    "#return properties for NBA finals\n",
    "queryString = \"\"\"\n",
    "SELECT DISTINCT ?p ?name\n",
    "WHERE {\n",
    "   wd:Q842375 ?p ?o .\n",
    "   ?p sc:name ?name\n",
    "}\n",
    "LIMIT 100\n",
    "\"\"\"\n",
    "\n",
    "print(\"Results\")\n",
    "x=run_query(queryString)"
   ]
  },
  {
   "cell_type": "code",
   "execution_count": 92,
   "id": "e15424c2-a5f4-4f5c-b219-2c964406a703",
   "metadata": {},
   "outputs": [
    {
     "name": "stdout",
     "output_type": "stream",
     "text": [
      "Results\n",
      "[('p', 'http://www.wikidata.org/prop/direct/P1423'), ('name', 'template has topic')]\n",
      "[('p', 'http://www.wikidata.org/prop/direct/P301'), ('name', \"category's main topic\")]\n",
      "[('p', 'http://www.wikidata.org/prop/direct/P31'), ('name', 'instance of')]\n",
      "3\n"
     ]
    }
   ],
   "source": [
    "#return properties pointing to NBA finals\n",
    "queryString = \"\"\"\n",
    "SELECT DISTINCT ?p ?name\n",
    "WHERE {\n",
    "   ?s ?p wd:Q842375.\n",
    "   ?p sc:name ?name\n",
    "}\n",
    "LIMIT 100\n",
    "\"\"\"\n",
    "\n",
    "print(\"Results\")\n",
    "x=run_query(queryString)"
   ]
  },
  {
   "cell_type": "code",
   "execution_count": 93,
   "id": "3f952e7a-456d-43ca-a6c2-fe2cff8c2407",
   "metadata": {},
   "outputs": [
    {
     "name": "stdout",
     "output_type": "stream",
     "text": [
      "Results\n",
      "[('s', 'http://www.wikidata.org/entity/Q24264147'), ('name', '2016 NBA Finals')]\n",
      "[('s', 'http://www.wikidata.org/entity/Q29096468'), ('name', '2017 NBA Finals')]\n",
      "[('s', 'http://www.wikidata.org/entity/Q4566514'), ('name', '1949 BAA World Championship Series')]\n",
      "[('s', 'http://www.wikidata.org/entity/Q4566866'), ('name', '1950 NBA World Championship Series')]\n",
      "[('s', 'http://www.wikidata.org/entity/Q4575074'), ('name', '1972 NBA World Championship Series')]\n",
      "[('s', 'http://www.wikidata.org/entity/Q4588662'), ('name', '1993 NBA Finals')]\n",
      "[('s', 'http://www.wikidata.org/entity/Q4598928'), ('name', '2001 NBA Finals')]\n",
      "[('s', 'http://www.wikidata.org/entity/Q3072443'), ('name', '1947 BAA World Championship Series')]\n",
      "[('s', 'http://www.wikidata.org/entity/Q3072451'), ('name', '1960 NBA World Championship Series')]\n",
      "[('s', 'http://www.wikidata.org/entity/Q3072455'), ('name', '1961 NBA World Championship Series')]\n",
      "[('s', 'http://www.wikidata.org/entity/Q3072460'), ('name', '1962 NBA World Championship Series')]\n",
      "[('s', 'http://www.wikidata.org/entity/Q3072461'), ('name', '1963 NBA World Championship Series')]\n",
      "[('s', 'http://www.wikidata.org/entity/Q3072477'), ('name', '1984 NBA World Championship Series')]\n",
      "[('s', 'http://www.wikidata.org/entity/Q3072478'), ('name', '1985 NBA World Championship Series')]\n",
      "[('s', 'http://www.wikidata.org/entity/Q3072479'), ('name', '1986 NBA World Championship Series')]\n",
      "[('s', 'http://www.wikidata.org/entity/Q3072482'), ('name', '1987 NBA World Championship Series')]\n",
      "[('s', 'http://www.wikidata.org/entity/Q4566218'), ('name', '1948 BAA World Championship Series')]\n",
      "[('s', 'http://www.wikidata.org/entity/Q4579314'), ('name', '1980 NBA World Championship Series')]\n",
      "[('s', 'http://www.wikidata.org/entity/Q4567490'), ('name', '1952 NBA World Championship Series')]\n",
      "[('s', 'http://www.wikidata.org/entity/Q4567780'), ('name', '1953 NBA World Championship Series')]\n",
      "[('s', 'http://www.wikidata.org/entity/Q4568101'), ('name', '1954 NBA World Championship Series')]\n",
      "[('s', 'http://www.wikidata.org/entity/Q4575625'), ('name', '1973 NBA World Championship Series')]\n",
      "[('s', 'http://www.wikidata.org/entity/Q4578767'), ('name', '1979 NBA World Championship Series')]\n",
      "[('s', 'http://www.wikidata.org/entity/Q4589592'), ('name', '1994 NBA Finals')]\n",
      "[('s', 'http://www.wikidata.org/entity/Q4590500'), ('name', '1995 NBA Finals')]\n",
      "[('s', 'http://www.wikidata.org/entity/Q2036161'), ('name', '2008 NBA Finals')]\n",
      "[('s', 'http://www.wikidata.org/entity/Q170590'), ('name', '2006 NBA Finals')]\n",
      "[('s', 'http://www.wikidata.org/entity/Q4600307'), ('name', '2002 NBA Finals')]\n",
      "[('s', 'http://www.wikidata.org/entity/Q2552745'), ('name', '2007 NBA Finals')]\n",
      "[('s', 'http://www.wikidata.org/entity/Q2886405'), ('name', '1983 NBA World Championship Series')]\n",
      "[('s', 'http://www.wikidata.org/entity/Q3072474'), ('name', '1976 NBA World Championship Series')]\n",
      "[('s', 'http://www.wikidata.org/entity/Q4577721'), ('name', '1977 NBA World Championship Series')]\n",
      "[('s', 'http://www.wikidata.org/entity/Q4584557'), ('name', '1988 NBA Finals')]\n",
      "[('s', 'http://www.wikidata.org/entity/Q4587787'), ('name', '1992 NBA Finals')]\n",
      "[('s', 'http://www.wikidata.org/entity/Q4592651'), ('name', '1997 NBA Finals')]\n",
      "[('s', 'http://www.wikidata.org/entity/Q19877916'), ('name', '2015 NBA Finals')]\n",
      "[('s', 'http://www.wikidata.org/entity/Q4586134'), ('name', '1990 NBA Finals')]\n",
      "[('s', 'http://www.wikidata.org/entity/Q4604623'), ('name', '2005 NBA Finals')]\n",
      "[('s', 'http://www.wikidata.org/entity/Q4593827'), ('name', '1998 NBA Finals')]\n",
      "[('s', 'http://www.wikidata.org/entity/Q3072450'), ('name', '1959 NBA World Championship Series')]\n",
      "[('s', 'http://www.wikidata.org/entity/Q4586976'), ('name', '1991 NBA Finals')]\n",
      "[('s', 'http://www.wikidata.org/entity/Q1959941'), ('name', '2009 NBA Finals')]\n",
      "[('s', 'http://www.wikidata.org/entity/Q4568407'), ('name', '1955 NBA World Championship Series')]\n",
      "[('s', 'http://www.wikidata.org/entity/Q4568729'), ('name', '1956 NBA World Championship Series')]\n",
      "[('s', 'http://www.wikidata.org/entity/Q4574574'), ('name', '1971 NBA World Championship Series')]\n",
      "[('s', 'http://www.wikidata.org/entity/Q4576696'), ('name', '1975 NBA World Championship Series')]\n",
      "[('s', 'http://www.wikidata.org/entity/Q4591549'), ('name', '1996 NBA Finals')]\n",
      "[('s', 'http://www.wikidata.org/entity/Q1006129'), ('name', '2003 NBA Finals')]\n",
      "[('s', 'http://www.wikidata.org/entity/Q16481622'), ('name', '2014 NBA Finals')]\n",
      "[('s', 'http://www.wikidata.org/entity/Q3072447'), ('name', '1958 NBA World Championship Series')]\n",
      "[('s', 'http://www.wikidata.org/entity/Q3072448'), ('name', '1957 NBA World Championship Series')]\n",
      "[('s', 'http://www.wikidata.org/entity/Q3072463'), ('name', '1964 NBA World Championship Series')]\n",
      "[('s', 'http://www.wikidata.org/entity/Q3072464'), ('name', '1965 NBA World Championship Series')]\n",
      "[('s', 'http://www.wikidata.org/entity/Q4578222'), ('name', '1978 NBA World Championship Series')]\n",
      "[('s', 'http://www.wikidata.org/entity/Q2628013'), ('name', '2012 NBA Finals')]\n",
      "[('s', 'http://www.wikidata.org/entity/Q3072466'), ('name', '1966 NBA World Championship Series')]\n",
      "[('s', 'http://www.wikidata.org/entity/Q3072468'), ('name', '1968 NBA World Championship Series')]\n",
      "[('s', 'http://www.wikidata.org/entity/Q3072470'), ('name', '1969 NBA World Championship Series')]\n",
      "[('s', 'http://www.wikidata.org/entity/Q3072475'), ('name', '1981 NBA World Championship Series')]\n",
      "[('s', 'http://www.wikidata.org/entity/Q63940565'), ('name', '2019 NBA Finals')]\n",
      "[('s', 'http://www.wikidata.org/entity/Q1022085'), ('name', '2004 NBA Finals')]\n",
      "[('s', 'http://www.wikidata.org/entity/Q99624227'), ('name', '2020 NBA Finals')]\n",
      "[('s', 'http://www.wikidata.org/entity/Q4574079'), ('name', '1970 NBA World Championship Series')]\n",
      "[('s', 'http://www.wikidata.org/entity/Q4580529'), ('name', '1982 NBA World Championship Series')]\n",
      "[('s', 'http://www.wikidata.org/entity/Q4594932'), ('name', '1999 NBA Finals')]\n",
      "[('s', 'http://www.wikidata.org/entity/Q4597667'), ('name', '2000 NBA Finals')]\n",
      "[('s', 'http://www.wikidata.org/entity/Q8961710'), ('name', '1967 NBA World Championship Series')]\n",
      "[('s', 'http://www.wikidata.org/entity/Q4567168'), ('name', '1951 NBA World Championship Series')]\n",
      "[('s', 'http://www.wikidata.org/entity/Q3072473'), ('name', '1974 NBA Finals')]\n",
      "[('s', 'http://www.wikidata.org/entity/Q107377340'), ('name', '2021 NBA Finals')]\n",
      "[('s', 'http://www.wikidata.org/entity/Q644353'), ('name', '2010 NBA Finals')]\n",
      "[('s', 'http://www.wikidata.org/entity/Q4585299'), ('name', '1989 NBA Finals')]\n",
      "[('s', 'http://www.wikidata.org/entity/Q1320332'), ('name', '2011 NBA Finals')]\n",
      "73\n"
     ]
    }
   ],
   "source": [
    "#return instances of NBA finals\n",
    "queryString = \"\"\"\n",
    "SELECT DISTINCT ?s ?name\n",
    "WHERE {\n",
    "   ?s wdt:P31 wd:Q842375.\n",
    "   ?s sc:name ?name\n",
    "}\n",
    "LIMIT 100\n",
    "\"\"\"\n",
    "\n",
    "print(\"Results\")\n",
    "x=run_query(queryString)"
   ]
  },
  {
   "cell_type": "code",
   "execution_count": 94,
   "id": "71be852b-df09-474a-aec6-5521247a1049",
   "metadata": {},
   "outputs": [
    {
     "name": "stdout",
     "output_type": "stream",
     "text": [
      "Results\n",
      "[('p', 'http://www.wikidata.org/prop/direct/P155'), ('name', 'follows')]\n",
      "[('p', 'http://www.wikidata.org/prop/direct/P156'), ('name', 'followed by')]\n",
      "2\n"
     ]
    }
   ],
   "source": [
    "#return properties pointing to 2016 NBA Final\n",
    "queryString = \"\"\"\n",
    "SELECT DISTINCT ?p ?name\n",
    "WHERE {\n",
    "   ?s ?p wd:Q24264147.\n",
    "   ?p sc:name ?name\n",
    "}\n",
    "LIMIT 100\n",
    "\"\"\"\n",
    "\n",
    "print(\"Results\")\n",
    "x=run_query(queryString)"
   ]
  },
  {
   "cell_type": "code",
   "execution_count": 95,
   "id": "011bdf41-f19b-47f7-bb84-b1fdb15ad9c9",
   "metadata": {},
   "outputs": [
    {
     "name": "stdout",
     "output_type": "stream",
     "text": [
      "Results\n",
      "[('s', 'http://www.wikidata.org/entity/Q29096468'), ('sName', '2017 NBA Finals'), ('p', 'http://www.wikidata.org/prop/direct/P155'), ('name', 'follows')]\n",
      "[('s', 'http://www.wikidata.org/entity/Q19877916'), ('sName', '2015 NBA Finals'), ('p', 'http://www.wikidata.org/prop/direct/P156'), ('name', 'followed by')]\n",
      "2\n"
     ]
    }
   ],
   "source": [
    "#return also subjects\n",
    "queryString = \"\"\"\n",
    "SELECT DISTINCT ?s ?sName ?p ?name \n",
    "WHERE {\n",
    "   ?s ?p wd:Q24264147.\n",
    "   ?p sc:name ?name.\n",
    "   ?s sc:name ?sName\n",
    "}\n",
    "LIMIT 100\n",
    "\"\"\"\n",
    "\n",
    "print(\"Results\")\n",
    "x=run_query(queryString)"
   ]
  },
  {
   "cell_type": "code",
   "execution_count": 96,
   "id": "43fe97ce-def4-44de-b7eb-6232c1ce3887",
   "metadata": {},
   "outputs": [
    {
     "name": "stdout",
     "output_type": "stream",
     "text": [
      "Results\n",
      "[('p', 'http://www.wikidata.org/prop/direct/P155'), ('name', 'follows')]\n",
      "[('p', 'http://www.wikidata.org/prop/direct/P156'), ('name', 'followed by')]\n",
      "[('p', 'http://www.wikidata.org/prop/direct/P17'), ('name', 'country')]\n",
      "[('p', 'http://www.wikidata.org/prop/direct/P2671'), ('name', 'Google Knowledge Graph ID')]\n",
      "[('p', 'http://www.wikidata.org/prop/direct/P31'), ('name', 'instance of')]\n",
      "[('p', 'http://www.wikidata.org/prop/direct/P3417'), ('name', 'Quora topic ID')]\n",
      "[('p', 'http://www.wikidata.org/prop/direct/P373'), ('name', 'Commons category')]\n",
      "[('p', 'http://www.wikidata.org/prop/direct/P585'), ('name', 'point in time')]\n",
      "[('p', 'http://www.wikidata.org/prop/direct/P641'), ('name', 'sport')]\n",
      "[('p', 'http://www.wikidata.org/prop/direct/P6760'), ('name', 'Know Your Meme ID')]\n",
      "10\n"
     ]
    }
   ],
   "source": [
    "#return properties for 2016 NBA Final\n",
    "queryString = \"\"\"\n",
    "SELECT DISTINCT ?p ?name\n",
    "WHERE {\n",
    "   wd:Q24264147 ?p ?s .\n",
    "   ?p sc:name ?name\n",
    "}\n",
    "LIMIT 100\n",
    "\"\"\"\n",
    "\n",
    "print(\"Results\")\n",
    "x=run_query(queryString)"
   ]
  },
  {
   "cell_type": "code",
   "execution_count": 97,
   "id": "1352ee1b-063f-417e-9521-79d9fb247571",
   "metadata": {},
   "outputs": [
    {
     "name": "stdout",
     "output_type": "stream",
     "text": [
      "Results\n",
      "[('o', 'http://www.wikidata.org/entity/Q15275719'), ('name', 'recurring event')]\n",
      "1\n"
     ]
    }
   ],
   "source": [
    "#return what NBA Final is instance of\n",
    "queryString = \"\"\"\n",
    "SELECT DISTINCT ?o ?name\n",
    "WHERE {\n",
    "   wd:Q842375 wdt:P31 ?o .\n",
    "   ?o sc:name ?name\n",
    "}\n",
    "LIMIT 100\n",
    "\"\"\"\n",
    "\n",
    "print(\"Results\")\n",
    "x=run_query(queryString)"
   ]
  },
  {
   "cell_type": "code",
   "execution_count": 98,
   "id": "49142993-ebd4-4122-9544-9fd37ef99119",
   "metadata": {},
   "outputs": [
    {
     "name": "stdout",
     "output_type": "stream",
     "text": [
      "Results\n",
      "[('o', 'http://www.wikidata.org/entity/Q1366722'), ('name', 'final')]\n",
      "1\n"
     ]
    }
   ],
   "source": [
    "#return what NBA Final is subclass of\n",
    "queryString = \"\"\"\n",
    "SELECT DISTINCT ?o ?name\n",
    "WHERE {\n",
    "   wd:Q842375 wdt:P279 ?o .\n",
    "   ?o sc:name ?name\n",
    "}\n",
    "LIMIT 100\n",
    "\"\"\"\n",
    "\n",
    "print(\"Results\")\n",
    "x=run_query(queryString)"
   ]
  },
  {
   "cell_type": "code",
   "execution_count": 99,
   "id": "0b67fdd5-6e08-45fe-8d1a-d0e8cd58e6ff",
   "metadata": {},
   "outputs": [
    {
     "name": "stdout",
     "output_type": "stream",
     "text": [
      "Results\n",
      "[('o', 'http://www.wikidata.org/entity/Q106635272'), ('name', 'competition stage')]\n",
      "[('o', 'http://www.wikidata.org/entity/Q16510064'), ('name', 'sporting event')]\n",
      "[('o', 'http://www.wikidata.org/entity/Q476300'), ('name', 'competition')]\n",
      "[('o', 'http://www.wikidata.org/entity/Q61685689'), ('name', 'tournament system')]\n",
      "[('o', 'http://www.wikidata.org/entity/Q30013662'), ('name', 'last')]\n",
      "5\n"
     ]
    }
   ],
   "source": [
    "#return what Final is subclass of\n",
    "queryString = \"\"\"\n",
    "SELECT DISTINCT ?o ?name\n",
    "WHERE {\n",
    "   wd:Q1366722 wdt:P279 ?o .\n",
    "   ?o sc:name ?name\n",
    "}\n",
    "LIMIT 100\n",
    "\"\"\"\n",
    "\n",
    "print(\"Results\")\n",
    "x=run_query(queryString)"
   ]
  },
  {
   "cell_type": "code",
   "execution_count": 100,
   "id": "26a66ef2-70e2-4525-9d66-b629f6dcb631",
   "metadata": {},
   "outputs": [
    {
     "name": "stdout",
     "output_type": "stream",
     "text": [
      "Results\n",
      "[('p', 'http://www.wikidata.org/prop/direct/P1269'), ('name', 'facet of')]\n",
      "[('p', 'http://www.wikidata.org/prop/direct/P1424'), ('name', \"topic's main template\")]\n",
      "[('p', 'http://www.wikidata.org/prop/direct/P1889'), ('name', 'different from')]\n",
      "[('p', 'http://www.wikidata.org/prop/direct/P1963'), ('name', 'properties for this type')]\n",
      "[('p', 'http://www.wikidata.org/prop/direct/P2671'), ('name', 'Google Knowledge Graph ID')]\n",
      "[('p', 'http://www.wikidata.org/prop/direct/P279'), ('name', 'subclass of')]\n",
      "[('p', 'http://www.wikidata.org/prop/direct/P3417'), ('name', 'Quora topic ID')]\n",
      "[('p', 'http://www.wikidata.org/prop/direct/P361'), ('name', 'part of')]\n",
      "[('p', 'http://www.wikidata.org/prop/direct/P373'), ('name', 'Commons category')]\n",
      "[('p', 'http://www.wikidata.org/prop/direct/P3827'), ('name', 'JSTOR topic ID')]\n",
      "[('p', 'http://www.wikidata.org/prop/direct/P3911'), ('name', 'STW Thesaurus for Economics ID')]\n",
      "[('p', 'http://www.wikidata.org/prop/direct/P5250'), ('name', 'IAB code')]\n",
      "[('p', 'http://www.wikidata.org/prop/direct/P5437'), ('name', 'EuroVoc ID')]\n",
      "[('p', 'http://www.wikidata.org/prop/direct/P6186'), ('name', 'category for eponymous categories')]\n",
      "[('p', 'http://www.wikidata.org/prop/direct/P7329'), ('name', 'ICD-11 ID (MMS)')]\n",
      "[('p', 'http://www.wikidata.org/prop/direct/P7807'), ('name', 'ICD-11 (foundation)')]\n",
      "[('p', 'http://www.wikidata.org/prop/direct/P8408'), ('name', 'KBpedia ID')]\n",
      "[('p', 'http://www.wikidata.org/prop/direct/P910'), ('name', \"topic's main category\")]\n",
      "18\n"
     ]
    }
   ],
   "source": [
    "#return properties for sporting event\n",
    "queryString = \"\"\"\n",
    "SELECT DISTINCT ?p ?name\n",
    "WHERE {\n",
    "   wd:Q16510064 ?p ?o .\n",
    "   ?p sc:name ?name\n",
    "}\n",
    "LIMIT 100\n",
    "\"\"\"\n",
    "\n",
    "print(\"Results\")\n",
    "x=run_query(queryString)"
   ]
  },
  {
   "cell_type": "code",
   "execution_count": 101,
   "id": "0d7e2f7f-dd75-47c5-9932-250b27b7067c",
   "metadata": {},
   "outputs": [
    {
     "name": "stdout",
     "output_type": "stream",
     "text": [
      "Results\n",
      "[('p', 'http://www.wikidata.org/prop/direct/P1423'), ('name', 'template has topic')]\n",
      "[('p', 'http://www.wikidata.org/prop/direct/P102'), ('name', 'member of political party')]\n",
      "[('p', 'http://www.wikidata.org/prop/direct/P1269'), ('name', 'facet of')]\n",
      "[('p', 'http://www.wikidata.org/prop/direct/P136'), ('name', 'genre')]\n",
      "[('p', 'http://www.wikidata.org/prop/direct/P180'), ('name', 'depicts')]\n",
      "[('p', 'http://www.wikidata.org/prop/direct/P1889'), ('name', 'different from')]\n",
      "[('p', 'http://www.wikidata.org/prop/direct/P2670'), ('name', 'has parts of the class')]\n",
      "[('p', 'http://www.wikidata.org/prop/direct/P279'), ('name', 'subclass of')]\n",
      "[('p', 'http://www.wikidata.org/prop/direct/P301'), ('name', \"category's main topic\")]\n",
      "[('p', 'http://www.wikidata.org/prop/direct/P31'), ('name', 'instance of')]\n",
      "[('p', 'http://www.wikidata.org/prop/direct/P360'), ('name', 'is a list of')]\n",
      "[('p', 'http://www.wikidata.org/prop/direct/P361'), ('name', 'part of')]\n",
      "[('p', 'http://www.wikidata.org/prop/direct/P4224'), ('name', 'category contains')]\n",
      "[('p', 'http://www.wikidata.org/prop/direct/P425'), ('name', 'field of this occupation')]\n",
      "[('p', 'http://www.wikidata.org/prop/direct/P793'), ('name', 'significant event')]\n",
      "[('p', 'http://www.wikidata.org/prop/direct/P921'), ('name', 'main subject')]\n",
      "[('p', 'http://www.wikidata.org/prop/direct/P971'), ('name', 'category combines topics')]\n",
      "17\n"
     ]
    }
   ],
   "source": [
    "#return properties pointing to sporting event\n",
    "queryString = \"\"\"\n",
    "SELECT DISTINCT ?p ?name\n",
    "WHERE {\n",
    "   ?s ?p wd:Q16510064.\n",
    "   ?p sc:name ?name\n",
    "}\n",
    "LIMIT 100\n",
    "\"\"\"\n",
    "\n",
    "print(\"Results\")\n",
    "x=run_query(queryString)"
   ]
  },
  {
   "cell_type": "code",
   "execution_count": 102,
   "id": "baaf1164-5b2f-46ca-9abd-eb93ed23ffb7",
   "metadata": {},
   "outputs": [
    {
     "name": "stdout",
     "output_type": "stream",
     "text": [
      "Results\n",
      "[('p', 'http://www.wikidata.org/prop/direct/P155'), ('name', 'follows')]\n",
      "[('p', 'http://www.wikidata.org/prop/direct/P156'), ('name', 'followed by')]\n",
      "2\n"
     ]
    }
   ],
   "source": [
    "#return properties pointing to 2016 NBA Finals\n",
    "queryString = \"\"\"\n",
    "SELECT DISTINCT ?p ?name\n",
    "WHERE {\n",
    "    ?s ?p wd:Q24264147.\n",
    "   ?p sc:name ?name\n",
    "}\n",
    "LIMIT 100\n",
    "\"\"\"\n",
    "\n",
    "print(\"Results\")\n",
    "x=run_query(queryString)"
   ]
  },
  {
   "cell_type": "code",
   "execution_count": 103,
   "id": "8812a048-516a-4a73-b993-351de25b4563",
   "metadata": {},
   "outputs": [
    {
     "name": "stdout",
     "output_type": "stream",
     "text": [
      "Results\n",
      "[('p', 'http://www.wikidata.org/prop/direct/P1346'), ('name', 'winner')]\n",
      "[('p', 'http://www.wikidata.org/prop/direct/P17'), ('name', 'country')]\n",
      "[('p', 'http://www.wikidata.org/prop/direct/P31'), ('name', 'instance of')]\n",
      "[('p', 'http://www.wikidata.org/prop/direct/P3417'), ('name', 'Quora topic ID')]\n",
      "[('p', 'http://www.wikidata.org/prop/direct/P585'), ('name', 'point in time')]\n",
      "[('p', 'http://www.wikidata.org/prop/direct/P641'), ('name', 'sport')]\n",
      "[('p', 'http://www.wikidata.org/prop/direct/P646'), ('name', 'Freebase ID')]\n",
      "7\n"
     ]
    }
   ],
   "source": [
    "#return properties for 2011 NBA Finals\n",
    "queryString = \"\"\"\n",
    "SELECT DISTINCT ?p ?name\n",
    "WHERE {\n",
    "   wd:Q1320332 ?p ?o .\n",
    "   ?p sc:name ?name\n",
    "}\n",
    "LIMIT 100\n",
    "\"\"\"\n",
    "\n",
    "print(\"Results\")\n",
    "x=run_query(queryString)"
   ]
  },
  {
   "cell_type": "code",
   "execution_count": 104,
   "id": "9f3c0c86-7fea-468b-852e-bc0523e4f647",
   "metadata": {},
   "outputs": [
    {
     "name": "stdout",
     "output_type": "stream",
     "text": [
      "Results\n",
      "[('o', 'http://www.wikidata.org/entity/Q132893'), ('name', 'Dallas Mavericks')]\n",
      "1\n"
     ]
    }
   ],
   "source": [
    "#return 2011 NBA Finals' winner\n",
    "queryString = \"\"\"\n",
    "SELECT DISTINCT ?o ?name\n",
    "WHERE {\n",
    "   wd:Q1320332 wdt:P1346 ?o .\n",
    "   ?o sc:name ?name\n",
    "}\n",
    "LIMIT 100\n",
    "\"\"\"\n",
    "\n",
    "print(\"Results\")\n",
    "x=run_query(queryString)"
   ]
  },
  {
   "cell_type": "code",
   "execution_count": 105,
   "id": "137b2832",
   "metadata": {},
   "outputs": [
    {
     "name": "stdout",
     "output_type": "stream",
     "text": [
      "Results\n",
      "[('p', 'http://www.wikidata.org/prop/direct/P1346'), ('name', 'winner')]\n",
      "[('p', 'http://www.wikidata.org/prop/direct/P161'), ('name', 'cast member')]\n",
      "[('p', 'http://www.wikidata.org/prop/direct/P1889'), ('name', 'different from')]\n",
      "[('p', 'http://www.wikidata.org/prop/direct/P527'), ('name', 'has part')]\n",
      "[('p', 'http://www.wikidata.org/prop/direct/P859'), ('name', 'sponsor')]\n",
      "[('p', 'http://www.wikidata.org/prop/direct/P3279'), ('name', 'statistical leader')]\n",
      "6\n"
     ]
    }
   ],
   "source": [
    "#return properties pointing to Durant\n",
    "queryString = \"\"\"\n",
    "SELECT DISTINCT ?p ?name\n",
    "WHERE {\n",
    "   ?s ?p wd:Q29545.\n",
    "   ?p sc:name ?name\n",
    "}\n",
    "LIMIT 100\n",
    "\"\"\"\n",
    "\n",
    "print(\"Results\")\n",
    "x=run_query(queryString)"
   ]
  },
  {
   "cell_type": "code",
   "execution_count": 106,
   "id": "526d0a26-e7ce-4c34-92a2-3f100cb73110",
   "metadata": {},
   "outputs": [
    {
     "name": "stdout",
     "output_type": "stream",
     "text": [
      "Results\n",
      "[('s', 'http://www.wikidata.org/entity/Q1959927'), ('sName', '2012 NBA All-Star Game'), ('p', 'http://www.wikidata.org/prop/direct/P3279'), ('name', 'statistical leader')]\n",
      "[('s', 'http://www.wikidata.org/entity/Q1641970'), ('sName', 'John R. Wooden Award'), ('p', 'http://www.wikidata.org/prop/direct/P1346'), ('name', 'winner')]\n",
      "[('s', 'http://www.wikidata.org/entity/Q189240'), ('sName', 'Kevin Garnett'), ('p', 'http://www.wikidata.org/prop/direct/P1889'), ('name', 'different from')]\n",
      "[('s', 'http://www.wikidata.org/entity/Q222047'), ('sName', 'NBA Most Valuable Player Award'), ('p', 'http://www.wikidata.org/prop/direct/P1346'), ('name', 'winner')]\n",
      "[('s', 'http://www.wikidata.org/entity/Q31391'), ('sName', 'NBA All-Star Game Kobe Bryant Most Valuable Player Award'), ('p', 'http://www.wikidata.org/prop/direct/P1346'), ('name', 'winner')]\n",
      "[('s', 'http://www.wikidata.org/entity/Q4896724'), ('sName', 'Best Male Athlete ESPY Award'), ('p', 'http://www.wikidata.org/prop/direct/P1346'), ('name', 'winner')]\n",
      "[('s', 'http://www.wikidata.org/entity/Q644357'), ('sName', 'NBA Rookie of the Year Award'), ('p', 'http://www.wikidata.org/prop/direct/P1346'), ('name', 'winner')]\n",
      "[('s', 'http://www.wikidata.org/entity/Q739499'), ('sName', 'Bill Russell NBA Finals Most Valuable Player Award'), ('p', 'http://www.wikidata.org/prop/direct/P1346'), ('name', 'winner')]\n",
      "[('s', 'http://www.wikidata.org/entity/Q4896727'), ('sName', 'Best Male College Athlete ESPY Award'), ('p', 'http://www.wikidata.org/prop/direct/P1346'), ('name', 'winner')]\n",
      "[('s', 'http://www.wikidata.org/entity/Q1255750'), ('sName', '2011–12 NBA season'), ('p', 'http://www.wikidata.org/prop/direct/P3279'), ('name', 'statistical leader')]\n",
      "[('s', 'http://www.wikidata.org/entity/Q11144228'), ('sName', '2013–14 NBA season'), ('p', 'http://www.wikidata.org/prop/direct/P3279'), ('name', 'statistical leader')]\n",
      "[('s', 'http://www.wikidata.org/entity/Q1130071'), ('sName', '2009–10 NBA season'), ('p', 'http://www.wikidata.org/prop/direct/P3279'), ('name', 'statistical leader')]\n",
      "[('s', 'http://www.wikidata.org/entity/Q1143957'), ('sName', '2010–11 NBA season'), ('p', 'http://www.wikidata.org/prop/direct/P3279'), ('name', 'statistical leader')]\n",
      "[('s', 'http://www.wikidata.org/entity/Q1424397'), ('sName', 'Kendall Gill'), ('p', 'http://www.wikidata.org/prop/direct/P1889'), ('name', 'different from')]\n",
      "[('s', 'http://www.wikidata.org/entity/Q1628192'), ('sName', 'Devin Durrant'), ('p', 'http://www.wikidata.org/prop/direct/P1889'), ('name', 'different from')]\n",
      "[('s', 'http://www.wikidata.org/entity/Q30682425'), ('sName', 'Death Lineup'), ('p', 'http://www.wikidata.org/prop/direct/P527'), ('name', 'has part')]\n",
      "[('s', 'http://www.wikidata.org/entity/Q30633679'), ('sName', '2019 NBA All-Star Game'), ('p', 'http://www.wikidata.org/prop/direct/P3279'), ('name', 'statistical leader')]\n",
      "[('s', 'http://www.wikidata.org/entity/Q7799182'), ('sName', 'Thunderstruck'), ('p', 'http://www.wikidata.org/prop/direct/P161'), ('name', 'cast member')]\n",
      "[('s', 'http://www.wikidata.org/entity/Q49559237'), ('sName', 'Seat Pleasant Activity Center'), ('p', 'http://www.wikidata.org/prop/direct/P859'), ('name', 'sponsor')]\n",
      "19\n"
     ]
    }
   ],
   "source": [
    "#return also subjects\n",
    "queryString = \"\"\"\n",
    "SELECT DISTINCT ?s ?sName ?p ?name\n",
    "WHERE {\n",
    "   ?s ?p wd:Q29545.\n",
    "   ?p sc:name ?name.\n",
    "   ?s sc:name ?sName.\n",
    "}\n",
    "LIMIT 100\n",
    "\"\"\"\n",
    "\n",
    "print(\"Results\")\n",
    "x=run_query(queryString)"
   ]
  },
  {
   "cell_type": "code",
   "execution_count": 107,
   "id": "3dabe5d8-0a68-450e-a6f2-77e4d2e31705",
   "metadata": {},
   "outputs": [
    {
     "name": "stdout",
     "output_type": "stream",
     "text": [
      "Results\n",
      "[('p', 'http://www.wikidata.org/prop/direct/P1344'), ('name', 'participant in'), ('o', 'http://www.wikidata.org/entity/Q113619'), ('oName', '2012–13 NBA season')]\n",
      "[('p', 'http://www.wikidata.org/prop/direct/P1344'), ('name', 'participant in'), ('o', 'http://www.wikidata.org/entity/Q16191100'), ('oName', '2014-15 NBA season')]\n",
      "[('p', 'http://www.wikidata.org/prop/direct/P54'), ('name', 'member of sports team'), ('o', 'http://www.wikidata.org/entity/Q180950'), ('oName', 'Oklahoma City Thunder')]\n",
      "[('p', 'http://www.wikidata.org/prop/direct/P1344'), ('name', 'participant in'), ('o', 'http://www.wikidata.org/entity/Q19862716'), ('oName', '2015–16 NBA season')]\n",
      "[('p', 'http://www.wikidata.org/prop/direct/P1889'), ('name', 'different from'), ('o', 'http://www.wikidata.org/entity/Q320084'), ('oName', 'Kevin Durand')]\n",
      "[('p', 'http://www.wikidata.org/prop/direct/P1344'), ('name', 'participant in'), ('o', 'http://www.wikidata.org/entity/Q39080780'), ('oName', \"basketball at the 2020 Summer Olympics – men's tournament\")]\n",
      "[('p', 'http://www.wikidata.org/prop/direct/P69'), ('name', 'educated at'), ('o', 'http://www.wikidata.org/entity/Q49213'), ('oName', 'University of Texas at Austin')]\n",
      "[('p', 'http://www.wikidata.org/prop/direct/P1344'), ('name', 'participant in'), ('o', 'http://www.wikidata.org/entity/Q18416654'), ('oName', \"basketball at the 2016 Summer Olympics – men's tournament\")]\n",
      "[('p', 'http://www.wikidata.org/prop/direct/P1344'), ('name', 'participant in'), ('o', 'http://www.wikidata.org/entity/Q749036'), ('oName', \"basketball at the 2012 Summer Olympics – men's tournament\")]\n",
      "[('p', 'http://www.wikidata.org/prop/direct/P166'), ('name', 'award received'), ('o', 'http://www.wikidata.org/entity/Q7865896'), ('oName', 'USBWA National Freshman of the Year')]\n",
      "[('p', 'http://www.wikidata.org/prop/direct/P54'), ('name', 'member of sports team'), ('o', 'http://www.wikidata.org/entity/Q235326'), ('oName', 'Seattle SuperSonics')]\n",
      "[('p', 'http://www.wikidata.org/prop/direct/P647'), ('name', 'drafted by'), ('o', 'http://www.wikidata.org/entity/Q235326'), ('oName', 'Seattle SuperSonics')]\n",
      "[('p', 'http://www.wikidata.org/prop/direct/P54'), ('name', 'member of sports team'), ('o', 'http://www.wikidata.org/entity/Q572134'), ('oName', 'Brooklyn Nets')]\n",
      "[('p', 'http://www.wikidata.org/prop/direct/P1411'), ('name', 'nominated for'), ('o', 'http://www.wikidata.org/entity/Q4896598'), ('oName', 'Best Breakthrough Athlete ESPY Award')]\n",
      "[('p', 'http://www.wikidata.org/prop/direct/P1532'), ('name', 'country for sport'), ('o', 'http://www.wikidata.org/entity/Q30'), ('oName', 'United States of America')]\n",
      "[('p', 'http://www.wikidata.org/prop/direct/P27'), ('name', 'country of citizenship'), ('o', 'http://www.wikidata.org/entity/Q30'), ('oName', 'United States of America')]\n",
      "[('p', 'http://www.wikidata.org/prop/direct/P106'), ('name', 'occupation'), ('o', 'http://www.wikidata.org/entity/Q3665646'), ('oName', 'basketball player')]\n",
      "[('p', 'http://www.wikidata.org/prop/direct/P2094'), ('name', 'competition class'), ('o', 'http://www.wikidata.org/entity/Q46343203'), ('oName', \"men's basketball\")]\n",
      "[('p', 'http://www.wikidata.org/prop/direct/P172'), ('name', 'ethnic group'), ('o', 'http://www.wikidata.org/entity/Q49085'), ('oName', 'African Americans')]\n",
      "[('p', 'http://www.wikidata.org/prop/direct/P31'), ('name', 'instance of'), ('o', 'http://www.wikidata.org/entity/Q5'), ('oName', 'human')]\n",
      "[('p', 'http://www.wikidata.org/prop/direct/P641'), ('name', 'sport'), ('o', 'http://www.wikidata.org/entity/Q5372'), ('oName', 'basketball')]\n",
      "[('p', 'http://www.wikidata.org/prop/direct/P551'), ('name', 'residence'), ('o', 'http://www.wikidata.org/entity/Q61'), ('oName', 'Washington, D.C.')]\n",
      "[('p', 'http://www.wikidata.org/prop/direct/P21'), ('name', 'sex or gender'), ('o', 'http://www.wikidata.org/entity/Q6581097'), ('oName', 'male')]\n",
      "[('p', 'http://www.wikidata.org/prop/direct/P1050'), ('name', 'medical condition'), ('o', 'http://www.wikidata.org/entity/Q84263196'), ('oName', 'COVID-19')]\n",
      "[('p', 'http://www.wikidata.org/prop/direct/P1344'), ('name', 'participant in'), ('o', 'http://www.wikidata.org/entity/Q8577'), ('oName', '2012 Summer Olympics')]\n",
      "[('p', 'http://www.wikidata.org/prop/direct/P1344'), ('name', 'participant in'), ('o', 'http://www.wikidata.org/entity/Q8613'), ('oName', '2016 Summer Olympics')]\n",
      "[('p', 'http://www.wikidata.org/prop/direct/P118'), ('name', 'league'), ('o', 'http://www.wikidata.org/entity/Q94861615'), ('oName', \"NCAA Division I men's basketball\")]\n",
      "[('p', 'http://www.wikidata.org/prop/direct/P118'), ('name', 'league'), ('o', 'http://www.wikidata.org/entity/Q155223'), ('oName', 'National Basketball Association')]\n",
      "[('p', 'http://www.wikidata.org/prop/direct/P1344'), ('name', 'participant in'), ('o', 'http://www.wikidata.org/entity/Q211438'), ('oName', '2010 FIBA World Championship')]\n",
      "[('p', 'http://www.wikidata.org/prop/direct/P413'), ('name', 'position played on team / speciality'), ('o', 'http://www.wikidata.org/entity/Q308879'), ('oName', 'small forward')]\n",
      "[('p', 'http://www.wikidata.org/prop/direct/P413'), ('name', 'position played on team / speciality'), ('o', 'http://www.wikidata.org/entity/Q462471'), ('oName', 'power forward')]\n",
      "[('p', 'http://www.wikidata.org/prop/direct/P735'), ('name', 'given name'), ('o', 'http://www.wikidata.org/entity/Q605834'), ('oName', 'Kevin')]\n",
      "[('p', 'http://www.wikidata.org/prop/direct/P54'), ('name', 'member of sports team'), ('o', 'http://www.wikidata.org/entity/Q7707830'), ('oName', \"Texas Longhorns men's basketball\")]\n",
      "[('p', 'http://www.wikidata.org/prop/direct/P19'), ('name', 'place of birth'), ('o', 'http://www.wikidata.org/entity/Q3886817'), ('oName', 'Suitland')]\n",
      "[('p', 'http://www.wikidata.org/prop/direct/P54'), ('name', 'member of sports team'), ('o', 'http://www.wikidata.org/entity/Q244847'), ('oName', \"United States men's national basketball team\")]\n",
      "[('p', 'http://www.wikidata.org/prop/direct/P551'), ('name', 'residence'), ('o', 'http://www.wikidata.org/entity/Q1391'), ('oName', 'Maryland')]\n",
      "[('p', 'http://www.wikidata.org/prop/direct/P166'), ('name', 'award received'), ('o', 'http://www.wikidata.org/entity/Q1418009'), ('oName', 'NBA All-Rookie Team')]\n",
      "[('p', 'http://www.wikidata.org/prop/direct/P54'), ('name', 'member of sports team'), ('o', 'http://www.wikidata.org/entity/Q157376'), ('oName', 'Golden State Warriors')]\n",
      "[('p', 'http://www.wikidata.org/prop/direct/P166'), ('name', 'award received'), ('o', 'http://www.wikidata.org/entity/Q1641970'), ('oName', 'John R. Wooden Award')]\n",
      "[('p', 'http://www.wikidata.org/prop/direct/P1889'), ('name', 'different from'), ('o', 'http://www.wikidata.org/entity/Q189240'), ('oName', 'Kevin Garnett')]\n",
      "[('p', 'http://www.wikidata.org/prop/direct/P166'), ('name', 'award received'), ('o', 'http://www.wikidata.org/entity/Q222047'), ('oName', 'NBA Most Valuable Player Award')]\n",
      "[('p', 'http://www.wikidata.org/prop/direct/P166'), ('name', 'award received'), ('o', 'http://www.wikidata.org/entity/Q31391'), ('oName', 'NBA All-Star Game Kobe Bryant Most Valuable Player Award')]\n",
      "[('p', 'http://www.wikidata.org/prop/direct/P551'), ('name', 'residence'), ('o', 'http://www.wikidata.org/entity/Q34863'), ('oName', 'Oklahoma City')]\n",
      "[('p', 'http://www.wikidata.org/prop/direct/P1411'), ('name', 'nominated for'), ('o', 'http://www.wikidata.org/entity/Q4835465'), ('oName', 'BET Award for Athlete of the Century')]\n",
      "[('p', 'http://www.wikidata.org/prop/direct/P166'), ('name', 'award received'), ('o', 'http://www.wikidata.org/entity/Q4835465'), ('oName', 'BET Award for Athlete of the Century')]\n",
      "[('p', 'http://www.wikidata.org/prop/direct/P1411'), ('name', 'nominated for'), ('o', 'http://www.wikidata.org/entity/Q4896724'), ('oName', 'Best Male Athlete ESPY Award')]\n",
      "[('p', 'http://www.wikidata.org/prop/direct/P166'), ('name', 'award received'), ('o', 'http://www.wikidata.org/entity/Q4896724'), ('oName', 'Best Male Athlete ESPY Award')]\n",
      "[('p', 'http://www.wikidata.org/prop/direct/P1344'), ('name', 'participant in'), ('o', 'http://www.wikidata.org/entity/Q52702755'), ('oName', '2018–19 NBA season')]\n",
      "[('p', 'http://www.wikidata.org/prop/direct/P166'), ('name', 'award received'), ('o', 'http://www.wikidata.org/entity/Q644357'), ('oName', 'NBA Rookie of the Year Award')]\n",
      "[('p', 'http://www.wikidata.org/prop/direct/P166'), ('name', 'award received'), ('o', 'http://www.wikidata.org/entity/Q674359'), ('oName', 'All-NBA Team')]\n",
      "[('p', 'http://www.wikidata.org/prop/direct/P1411'), ('name', 'nominated for'), ('o', 'http://www.wikidata.org/entity/Q943106'), ('oName', 'Best NBA Player ESPY Award')]\n",
      "[('p', 'http://www.wikidata.org/prop/direct/P166'), ('name', 'award received'), ('o', 'http://www.wikidata.org/entity/Q943106'), ('oName', 'Best NBA Player ESPY Award')]\n",
      "[('p', 'http://www.wikidata.org/prop/direct/P1344'), ('name', 'participant in'), ('o', 'http://www.wikidata.org/entity/Q1121549'), ('oName', '2007–08 NBA season')]\n",
      "[('p', 'http://www.wikidata.org/prop/direct/P734'), ('name', 'family name'), ('o', 'http://www.wikidata.org/entity/Q16869728'), ('oName', 'Durant')]\n",
      "[('p', 'http://www.wikidata.org/prop/direct/P1344'), ('name', 'participant in'), ('o', 'http://www.wikidata.org/entity/Q29098111'), ('oName', '2017–18 NBA season')]\n",
      "[('p', 'http://www.wikidata.org/prop/direct/P166'), ('name', 'award received'), ('o', 'http://www.wikidata.org/entity/Q4896727'), ('oName', 'Best Male College Athlete ESPY Award')]\n",
      "[('p', 'http://www.wikidata.org/prop/direct/P69'), ('name', 'educated at'), ('o', 'http://www.wikidata.org/entity/Q7073561'), ('oName', 'Oak Hill Academy')]\n",
      "[('p', 'http://www.wikidata.org/prop/direct/P1344'), ('name', 'participant in'), ('o', 'http://www.wikidata.org/entity/Q1255750'), ('oName', '2011–12 NBA season')]\n",
      "[('p', 'http://www.wikidata.org/prop/direct/P1344'), ('name', 'participant in'), ('o', 'http://www.wikidata.org/entity/Q11144228'), ('oName', '2013–14 NBA season')]\n",
      "[('p', 'http://www.wikidata.org/prop/direct/P69'), ('name', 'educated at'), ('o', 'http://www.wikidata.org/entity/Q6906477'), ('oName', 'Montrose Christian School')]\n",
      "[('p', 'http://www.wikidata.org/prop/direct/P166'), ('name', 'award received'), ('o', 'http://www.wikidata.org/entity/Q4904894'), ('oName', \"Big 12 Conference Men's Basketball Player of the Year\")]\n",
      "[('p', 'http://www.wikidata.org/prop/direct/P1344'), ('name', 'participant in'), ('o', 'http://www.wikidata.org/entity/Q96083208'), ('oName', '2020–21 NBA season')]\n",
      "[('p', 'http://www.wikidata.org/prop/direct/P1344'), ('name', 'participant in'), ('o', 'http://www.wikidata.org/entity/Q1130071'), ('oName', '2009–10 NBA season')]\n",
      "[('p', 'http://www.wikidata.org/prop/direct/P1344'), ('name', 'participant in'), ('o', 'http://www.wikidata.org/entity/Q1130082'), ('oName', '2008–09 NBA season')]\n",
      "[('p', 'http://www.wikidata.org/prop/direct/P1344'), ('name', 'participant in'), ('o', 'http://www.wikidata.org/entity/Q1143957'), ('oName', '2010–11 NBA season')]\n",
      "[('p', 'http://www.wikidata.org/prop/direct/P1889'), ('name', 'different from'), ('o', 'http://www.wikidata.org/entity/Q1424397'), ('oName', 'Kendall Gill')]\n",
      "[('p', 'http://www.wikidata.org/prop/direct/P1889'), ('name', 'different from'), ('o', 'http://www.wikidata.org/entity/Q1628192'), ('oName', 'Devin Durrant')]\n",
      "[('p', 'http://www.wikidata.org/prop/direct/P1344'), ('name', 'participant in'), ('o', 'http://www.wikidata.org/entity/Q23939796'), ('oName', '2016–17 NBA season')]\n",
      "[('p', 'http://www.wikidata.org/prop/direct/P361'), ('name', 'part of'), ('o', 'http://www.wikidata.org/entity/Q30682425'), ('oName', 'Death Lineup')]\n",
      "[('p', 'http://www.wikidata.org/prop/direct/P1411'), ('name', 'nominated for'), ('o', 'http://www.wikidata.org/entity/Q4896742'), ('oName', 'Best Moment ESPY Award')]\n",
      "70\n"
     ]
    }
   ],
   "source": [
    "#return properties and objects for Durant\n",
    "queryString = \"\"\"\n",
    "SELECT DISTINCT ?p ?name ?o ?oName\n",
    "WHERE {\n",
    "   wd:Q29545 ?p ?o .\n",
    "   ?p sc:name ?name.\n",
    "   ?o sc:name ?oName.\n",
    "}\n",
    "LIMIT 100\n",
    "\"\"\"\n",
    "\n",
    "print(\"Results\")\n",
    "x=run_query(queryString)"
   ]
  },
  {
   "cell_type": "code",
   "execution_count": 108,
   "id": "1ef2d5f5-2160-45c5-9a2a-a7f74b151096",
   "metadata": {},
   "outputs": [
    {
     "name": "stdout",
     "output_type": "stream",
     "text": [
      "Results\n",
      "[('o', 'http://www.wikidata.org/entity/Q180950'), ('name', 'Oklahoma City Thunder')]\n",
      "[('o', 'http://www.wikidata.org/entity/Q235326'), ('name', 'Seattle SuperSonics')]\n",
      "[('o', 'http://www.wikidata.org/entity/Q572134'), ('name', 'Brooklyn Nets')]\n",
      "[('o', 'http://www.wikidata.org/entity/Q7707830'), ('name', \"Texas Longhorns men's basketball\")]\n",
      "[('o', 'http://www.wikidata.org/entity/Q244847'), ('name', \"United States men's national basketball team\")]\n",
      "[('o', 'http://www.wikidata.org/entity/Q157376'), ('name', 'Golden State Warriors')]\n",
      "6\n"
     ]
    }
   ],
   "source": [
    "#return teams having Durant as member\n",
    "queryString = \"\"\"\n",
    "SELECT DISTINCT ?o ?name \n",
    "WHERE {\n",
    "   wd:Q29545 wdt:P54 ?o .\n",
    "   ?o sc:name ?name.\n",
    "}\n",
    "LIMIT 100\n",
    "\"\"\"\n",
    "\n",
    "print(\"Results\")\n",
    "x=run_query(queryString)"
   ]
  },
  {
   "cell_type": "code",
   "execution_count": 156,
   "id": "bd5259ce-2183-43d7-99dc-01b4d749083d",
   "metadata": {},
   "outputs": [
    {
     "name": "stdout",
     "output_type": "stream",
     "text": [
      "Results\n",
      "[('o', 'http://www.wikidata.org/entity/Q169138'), ('name', 'Miami Heat')]\n",
      "[('o', 'http://www.wikidata.org/entity/Q121783'), ('name', 'Los Angeles Lakers')]\n",
      "[('o', 'http://www.wikidata.org/entity/Q162990'), ('name', 'Cleveland Cavaliers')]\n",
      "3\n"
     ]
    }
   ],
   "source": [
    "#return teams having Lebron as member\n",
    "queryString = \"\"\"\n",
    "SELECT DISTINCT ?o ?name \n",
    "WHERE {\n",
    "   wd:Q36159 wdt:P54 ?o .\n",
    "   ?o sc:name ?name.\n",
    "}\n",
    "LIMIT 100\n",
    "\"\"\"\n",
    "\n",
    "print(\"Results\")\n",
    "x=run_query(queryString)"
   ]
  },
  {
   "cell_type": "code",
   "execution_count": 109,
   "id": "bf5b7f76-cf80-4a51-84b2-5069f428ab3b",
   "metadata": {},
   "outputs": [
    {
     "name": "stdout",
     "output_type": "stream",
     "text": [
      "Results\n",
      "[('team', 'http://www.wikidata.org/entity/Q180950'), ('teamName', 'Oklahoma City Thunder')]\n",
      "[('team', 'http://www.wikidata.org/entity/Q235326'), ('teamName', 'Seattle SuperSonics')]\n",
      "[('team', 'http://www.wikidata.org/entity/Q572134'), ('teamName', 'Brooklyn Nets')]\n",
      "[('team', 'http://www.wikidata.org/entity/Q7707830'), ('teamName', \"Texas Longhorns men's basketball\")]\n",
      "[('team', 'http://www.wikidata.org/entity/Q244847'), ('teamName', \"United States men's national basketball team\")]\n",
      "[('team', 'http://www.wikidata.org/entity/Q157376'), ('teamName', 'Golden State Warriors')]\n",
      "[('team', 'http://www.wikidata.org/entity/Q180950'), ('teamName', 'Oklahoma City Thunder')]\n",
      "[('team', 'http://www.wikidata.org/entity/Q235326'), ('teamName', 'Seattle SuperSonics')]\n",
      "[('team', 'http://www.wikidata.org/entity/Q572134'), ('teamName', 'Brooklyn Nets')]\n",
      "[('team', 'http://www.wikidata.org/entity/Q7707830'), ('teamName', \"Texas Longhorns men's basketball\")]\n",
      "[('team', 'http://www.wikidata.org/entity/Q244847'), ('teamName', \"United States men's national basketball team\")]\n",
      "[('team', 'http://www.wikidata.org/entity/Q157376'), ('teamName', 'Golden State Warriors')]\n",
      "12\n"
     ]
    }
   ],
   "source": [
    "#return teams having Durant or Lebron as member  \n",
    "queryString = \"\"\"\n",
    "SELECT ?team ?teamName WHERE {\n",
    "{\n",
    "    SELECT DISTINCT ?team ?teamName \n",
    "    WHERE {\n",
    "       wd:Q29545 wdt:P54 ?team .\n",
    "       ?team sc:name ?teamName.\n",
    "    }\n",
    "}\n",
    "UNION\n",
    "{\n",
    "    SELECT DISTINCT ?team ?teamName \n",
    "    WHERE {\n",
    "       wd:Q29545 wdt:P54 ?team .\n",
    "       ?team sc:name ?teamName.\n",
    "    }\n",
    "}\n",
    "}\n",
    "\"\"\"\n",
    "\n",
    "print(\"Results\")\n",
    "x=run_query(queryString)"
   ]
  },
  {
   "cell_type": "code",
   "execution_count": 110,
   "id": "a0c4c690-c6a8-4143-a5e0-511581d0176c",
   "metadata": {},
   "outputs": [
    {
     "name": "stdout",
     "output_type": "stream",
     "text": [
      "Results\n",
      "[('team', 'http://www.wikidata.org/entity/Q180950'), ('teamName', 'Oklahoma City Thunder')]\n",
      "[('team', 'http://www.wikidata.org/entity/Q235326'), ('teamName', 'Seattle SuperSonics')]\n",
      "[('team', 'http://www.wikidata.org/entity/Q572134'), ('teamName', 'Brooklyn Nets')]\n",
      "[('team', 'http://www.wikidata.org/entity/Q7707830'), ('teamName', \"Texas Longhorns men's basketball\")]\n",
      "[('team', 'http://www.wikidata.org/entity/Q244847'), ('teamName', \"United States men's national basketball team\")]\n",
      "[('team', 'http://www.wikidata.org/entity/Q157376'), ('teamName', 'Golden State Warriors')]\n",
      "6\n"
     ]
    }
   ],
   "source": [
    "#return distinct teams having Durant or Lebron as member  \n",
    "queryString = \"\"\"\n",
    "SELECT DISTINCT ?team ?teamName WHERE {\n",
    "{\n",
    "    SELECT DISTINCT ?team ?teamName \n",
    "    WHERE {\n",
    "       wd:Q29545 wdt:P54 ?team .\n",
    "       ?team sc:name ?teamName.\n",
    "    }\n",
    "}\n",
    "UNION\n",
    "{\n",
    "    SELECT DISTINCT ?team ?teamName \n",
    "    WHERE {\n",
    "       wd:Q29545 wdt:P54 ?team .\n",
    "       ?team sc:name ?teamName.\n",
    "    }\n",
    "}\n",
    "}\n",
    "\"\"\"\n",
    "\n",
    "print(\"Results\")\n",
    "x=run_query(queryString)"
   ]
  },
  {
   "cell_type": "code",
   "execution_count": 111,
   "id": "3bb27161-1916-42bc-aebc-0d7a7e727ea5",
   "metadata": {},
   "outputs": [
    {
     "name": "stdout",
     "output_type": "stream",
     "text": [
      "Results\n",
      "[('team', 'http://www.wikidata.org/entity/Q169138'), ('teamName', 'Miami Heat')]\n",
      "[('team', 'http://www.wikidata.org/entity/Q121783'), ('teamName', 'Los Angeles Lakers')]\n",
      "[('team', 'http://www.wikidata.org/entity/Q162990'), ('teamName', 'Cleveland Cavaliers')]\n",
      "[('team', 'http://www.wikidata.org/entity/Q180950'), ('teamName', 'Oklahoma City Thunder')]\n",
      "[('team', 'http://www.wikidata.org/entity/Q235326'), ('teamName', 'Seattle SuperSonics')]\n",
      "[('team', 'http://www.wikidata.org/entity/Q572134'), ('teamName', 'Brooklyn Nets')]\n",
      "[('team', 'http://www.wikidata.org/entity/Q7707830'), ('teamName', \"Texas Longhorns men's basketball\")]\n",
      "[('team', 'http://www.wikidata.org/entity/Q244847'), ('teamName', \"United States men's national basketball team\")]\n",
      "[('team', 'http://www.wikidata.org/entity/Q157376'), ('teamName', 'Golden State Warriors')]\n",
      "9\n"
     ]
    }
   ],
   "source": [
    "#CORRECT\n",
    "queryString = \"\"\"\n",
    "SELECT DISTINCT ?team ?teamName WHERE {\n",
    "{\n",
    "    SELECT DISTINCT ?team ?teamName \n",
    "    WHERE {\n",
    "       wd:Q36159 wdt:P54 ?team .\n",
    "       ?team sc:name ?teamName.\n",
    "    }\n",
    "}\n",
    "UNION\n",
    "{\n",
    "    SELECT DISTINCT ?team ?teamName \n",
    "    WHERE {\n",
    "       wd:Q29545 wdt:P54 ?team .\n",
    "       ?team sc:name ?teamName.\n",
    "    }\n",
    "}\n",
    "}\n",
    "\"\"\"\n",
    "\n",
    "print(\"Results\")\n",
    "x=run_query(queryString)"
   ]
  },
  {
   "cell_type": "code",
   "execution_count": 112,
   "id": "f49d2c95-6244-4cc5-97ae-51cb7c85ad72",
   "metadata": {},
   "outputs": [
    {
     "name": "stdout",
     "output_type": "stream",
     "text": [
      "Results\n",
      "Empty\n"
     ]
    }
   ],
   "source": [
    "#return teams having Durant or Lebron as member  and how many NBA finals they won\n",
    "queryString = \"\"\"\n",
    "SELECT DISTINCT ?team ?teamName (COUNT(?final) AS ?totalFinals) WHERE {\n",
    "    ?team wdt:P1346 ?final.\n",
    "    ?final wdt:P31 wd:Q842375.\n",
    "    {\n",
    "        SELECT DISTINCT ?team ?teamName \n",
    "        WHERE {\n",
    "           wd:Q36159 wdt:P54 ?team .\n",
    "           ?team sc:name ?teamName.\n",
    "        }\n",
    "    }\n",
    "    UNION\n",
    "    {\n",
    "        SELECT DISTINCT ?team ?teamName \n",
    "        WHERE {\n",
    "           wd:Q29545 wdt:P54 ?team .\n",
    "           ?team sc:name ?teamName.\n",
    "        }\n",
    "    }\n",
    "}\n",
    "\"\"\"\n",
    "\n",
    "print(\"Results\")\n",
    "x=run_query(queryString)"
   ]
  },
  {
   "cell_type": "code",
   "execution_count": 158,
   "id": "a6af6c64-3737-417c-90df-13a932863efa",
   "metadata": {},
   "outputs": [
    {
     "name": "stdout",
     "output_type": "stream",
     "text": [
      "Results\n",
      "[('team', 'http://www.wikidata.org/entity/Q157376'), ('teamName', 'Golden State Warriors'), ('totalFinals', '4')]\n",
      "[('team', 'http://www.wikidata.org/entity/Q121783'), ('teamName', 'Los Angeles Lakers'), ('totalFinals', '16')]\n",
      "[('team', 'http://www.wikidata.org/entity/Q235326'), ('teamName', 'Seattle SuperSonics'), ('totalFinals', '1')]\n",
      "[('team', 'http://www.wikidata.org/entity/Q169138'), ('teamName', 'Miami Heat'), ('totalFinals', '2')]\n",
      "4\n"
     ]
    }
   ],
   "source": [
    "#return teams having Durant or Lebron as member  and how many NBA finals they won\n",
    "queryString = \"\"\"\n",
    "SELECT ?team ?teamName (COUNT(?final) AS ?totalFinals) WHERE {\n",
    "    ?final wdt:P1346 ?team .\n",
    "    ?final wdt:P31 wd:Q842375.\n",
    "    {\n",
    "        SELECT DISTINCT ?team ?teamName \n",
    "        WHERE {\n",
    "           wd:Q36159 wdt:P54 ?team .\n",
    "           ?team sc:name ?teamName.\n",
    "        }\n",
    "    }\n",
    "    UNION\n",
    "    {\n",
    "        SELECT DISTINCT ?team ?teamName \n",
    "        WHERE {\n",
    "           wd:Q29545 wdt:P54 ?team .\n",
    "           ?team sc:name ?teamName.\n",
    "        }\n",
    "    }\n",
    "}\n",
    "\"\"\"\n",
    "\n",
    "print(\"Results\")\n",
    "x=run_query(queryString)"
   ]
  },
  {
   "cell_type": "markdown",
   "id": "ef43ffe1",
   "metadata": {},
   "source": [
    "Final query for this task"
   ]
  },
  {
   "cell_type": "code",
   "execution_count": 159,
   "id": "5532e7fa",
   "metadata": {},
   "outputs": [
    {
     "name": "stdout",
     "output_type": "stream",
     "text": [
      "Results\n",
      "[('team', 'http://www.wikidata.org/entity/Q157376'), ('teamName', 'Golden State Warriors'), ('totalFinals', '4')]\n",
      "[('team', 'http://www.wikidata.org/entity/Q121783'), ('teamName', 'Los Angeles Lakers'), ('totalFinals', '16')]\n",
      "[('team', 'http://www.wikidata.org/entity/Q235326'), ('teamName', 'Seattle SuperSonics'), ('totalFinals', '1')]\n",
      "[('team', 'http://www.wikidata.org/entity/Q169138'), ('teamName', 'Miami Heat'), ('totalFinals', '2')]\n",
      "4\n"
     ]
    }
   ],
   "source": [
    "# Consider only the basketball teams which Kevin Durant and Lebron James played. Return the number of NBA finals \n",
    "# won by these teams (the result set must be a list of triples basketball team IRI, label and #victories. Return \n",
    "# a number for each basketball team).\n",
    "# write your final query\n",
    "queryString = \"\"\"\n",
    "SELECT ?team ?teamName (COUNT(?final) AS ?totalFinals) WHERE {\n",
    "    ?final wdt:P1346 ?team .\n",
    "    ?final wdt:P31 wd:Q842375.\n",
    "    {\n",
    "        SELECT DISTINCT ?team ?teamName \n",
    "        WHERE {\n",
    "           wd:Q36159 wdt:P54 ?team .\n",
    "           ?team sc:name ?teamName.\n",
    "        }\n",
    "    }\n",
    "    UNION\n",
    "    {\n",
    "        SELECT DISTINCT ?team ?teamName \n",
    "        WHERE {\n",
    "           wd:Q29545 wdt:P54 ?team .\n",
    "           ?team sc:name ?teamName.\n",
    "        }\n",
    "    }\n",
    "}\n",
    "\"\"\"\n",
    "\n",
    "print(\"Results\")\n",
    "x=run_query(queryString)"
   ]
  },
  {
   "cell_type": "markdown",
   "id": "1560faec",
   "metadata": {},
   "source": [
    "## Task 7\n",
    "Consider only NBA (National Basketball Association) basketball teams and all basketball players who played in one of these teams at least once. Also consider the country of citizenship of the players with the related continent. Return for each continent the number of players who played in an NBA basketball teams. (the result set must be triples of continent IRI, labels and #players)"
   ]
  },
  {
   "cell_type": "code",
   "execution_count": 115,
   "id": "d039613f",
   "metadata": {},
   "outputs": [
    {
     "name": "stdout",
     "output_type": "stream",
     "text": [
      "Results\n",
      "[('s', 'http://www.wikidata.org/entity/Q504025'), ('name', 'Bill Bradley')]\n",
      "[('s', 'http://www.wikidata.org/entity/Q319336'), ('name', 'Stephon Marbury')]\n",
      "[('s', 'http://www.wikidata.org/entity/Q543566'), ('name', 'DerMarr Johnson')]\n",
      "[('s', 'http://www.wikidata.org/entity/Q221341'), ('name', 'Jason Kidd')]\n",
      "[('s', 'http://www.wikidata.org/entity/Q2557595'), ('name', 'Bruno Šundov')]\n",
      "[('s', 'http://www.wikidata.org/entity/Q2562179'), ('name', 'Gene Shue')]\n",
      "[('s', 'http://www.wikidata.org/entity/Q2565934'), ('name', 'Ernie Grunfeld')]\n",
      "[('s', 'http://www.wikidata.org/entity/Q16910147'), ('name', 'Emmanuel Mudiay')]\n",
      "[('s', 'http://www.wikidata.org/entity/Q1618075'), ('name', 'James Bailey')]\n",
      "[('s', 'http://www.wikidata.org/entity/Q60118'), ('name', 'Danilo Gallinari')]\n",
      "[('s', 'http://www.wikidata.org/entity/Q125060'), ('name', 'Sergio Rodríguez')]\n",
      "[('s', 'http://www.wikidata.org/entity/Q129041'), ('name', 'Carmelo Anthony')]\n",
      "[('s', 'http://www.wikidata.org/entity/Q731502'), ('name', 'Scott Brooks')]\n",
      "[('s', 'http://www.wikidata.org/entity/Q2063085'), ('name', 'Paul Westphal')]\n",
      "[('s', 'http://www.wikidata.org/entity/Q271933'), ('name', 'Patrick Ewing')]\n",
      "[('s', 'http://www.wikidata.org/entity/Q2724813'), ('name', 'Derek Harper')]\n",
      "[('s', 'http://www.wikidata.org/entity/Q463635'), ('name', 'Larry Johnson')]\n",
      "[('s', 'http://www.wikidata.org/entity/Q547758'), ('name', 'Bill Walker')]\n",
      "[('s', 'http://www.wikidata.org/entity/Q608514'), ('name', 'Charles Oakley')]\n",
      "[('s', 'http://www.wikidata.org/entity/Q1342300'), ('name', 'Mark Jackson')]\n",
      "[('s', 'http://www.wikidata.org/entity/Q315104'), ('name', 'Nate Robinson')]\n",
      "[('s', 'http://www.wikidata.org/entity/Q316106'), ('name', 'José Manuel Calderón')]\n",
      "[('s', 'http://www.wikidata.org/entity/Q348734'), ('name', 'Taj Gibson')]\n",
      "[('s', 'http://www.wikidata.org/entity/Q557194'), ('name', 'Quincy Acy')]\n",
      "[('s', 'http://www.wikidata.org/entity/Q573036'), ('name', 'Wayne Ellington')]\n",
      "[('s', 'http://www.wikidata.org/entity/Q681243'), ('name', 'Jared Jeffries')]\n",
      "[('s', 'http://www.wikidata.org/entity/Q681735'), ('name', 'Louis Amundson')]\n",
      "[('s', 'http://www.wikidata.org/entity/Q1619365'), ('name', 'Tom McMillen')]\n",
      "[('s', 'http://www.wikidata.org/entity/Q2318756'), ('name', 'Kenny Walker')]\n",
      "[('s', 'http://www.wikidata.org/entity/Q2566498'), ('name', 'Darrell Walker')]\n",
      "[('s', 'http://www.wikidata.org/entity/Q706180'), ('name', 'Nazr Mohammed')]\n",
      "[('s', 'http://www.wikidata.org/entity/Q716081'), ('name', 'Iman Shumpert')]\n",
      "[('s', 'http://www.wikidata.org/entity/Q352093'), ('name', 'Doc Rivers')]\n",
      "[('s', 'http://www.wikidata.org/entity/Q763614'), ('name', 'Kelvin Cato')]\n",
      "[('s', 'http://www.wikidata.org/entity/Q280376'), ('name', 'Rolando Blackman')]\n",
      "[('s', 'http://www.wikidata.org/entity/Q914125'), ('name', 'Renaldo Balkman')]\n",
      "[('s', 'http://www.wikidata.org/entity/Q921511'), ('name', 'Jason Smith')]\n",
      "[('s', 'http://www.wikidata.org/entity/Q970093'), ('name', 'Butch Carter')]\n",
      "[('s', 'http://www.wikidata.org/entity/Q2032738'), ('name', 'Willie Anderson')]\n",
      "[('s', 'http://www.wikidata.org/entity/Q3791955'), ('name', 'Dick Shrider')]\n",
      "[('s', 'http://www.wikidata.org/entity/Q3805672'), ('name', 'Jack Turner')]\n",
      "[('s', 'http://www.wikidata.org/entity/Q3808022'), ('name', 'Jerry Harkness')]\n",
      "[('s', 'http://www.wikidata.org/entity/Q3808369'), ('name', 'Jim Palmer')]\n",
      "[('s', 'http://www.wikidata.org/entity/Q48835'), ('name', 'Butch van Breda Kolff')]\n",
      "[('s', 'http://www.wikidata.org/entity/Q3929805'), ('name', 'Ralph Polson')]\n",
      "[('s', 'http://www.wikidata.org/entity/Q3731452'), ('name', 'Eric Anderson')]\n",
      "[('s', 'http://www.wikidata.org/entity/Q1815125'), ('name', 'Randy Smith')]\n",
      "[('s', 'http://www.wikidata.org/entity/Q2325739'), ('name', 'Mike Riordan')]\n",
      "[('s', 'http://www.wikidata.org/entity/Q298512'), ('name', 'Isiah Thomas')]\n",
      "[('s', 'http://www.wikidata.org/entity/Q316161'), ('name', 'Lenny Wilkens')]\n",
      "[('s', 'http://www.wikidata.org/entity/Q316246'), ('name', 'Phil Jackson')]\n",
      "[('s', 'http://www.wikidata.org/entity/Q348696'), ('name', 'Walt Frazier')]\n",
      "[('s', 'http://www.wikidata.org/entity/Q361178'), ('name', 'Glen Rice')]\n",
      "[('s', 'http://www.wikidata.org/entity/Q366505'), ('name', 'Jerry Lucas')]\n",
      "[('s', 'http://www.wikidata.org/entity/Q380515'), ('name', 'Willis Reed')]\n",
      "[('s', 'http://www.wikidata.org/entity/Q463212'), ('name', 'David Lee')]\n",
      "[('s', 'http://www.wikidata.org/entity/Q935758'), ('name', 'Gary Bergen')]\n",
      "[('s', 'http://www.wikidata.org/entity/Q937398'), ('name', 'Glen Gondrezick')]\n",
      "[('s', 'http://www.wikidata.org/entity/Q1189516'), ('name', 'Dennis Scott')]\n",
      "[('s', 'http://www.wikidata.org/entity/Q10516040'), ('name', 'Trey Burke')]\n",
      "[('s', 'http://www.wikidata.org/entity/Q1610282'), ('name', 'George Kaftan')]\n",
      "[('s', 'http://www.wikidata.org/entity/Q361134'), ('name', 'Marcus Camby')]\n",
      "[('s', 'http://www.wikidata.org/entity/Q362214'), ('name', 'Kenyon Martin')]\n",
      "[('s', 'http://www.wikidata.org/entity/Q553318'), ('name', 'Jimmer Fredette')]\n",
      "[('s', 'http://www.wikidata.org/entity/Q2346518'), ('name', 'Bevo Nordmann')]\n",
      "[('s', 'http://www.wikidata.org/entity/Q2347822'), ('name', 'Eric Fernsten')]\n",
      "[('s', 'http://www.wikidata.org/entity/Q2413046'), ('name', 'Marcus Landry')]\n",
      "[('s', 'http://www.wikidata.org/entity/Q295322'), ('name', 'Metta Sandiford-Artest')]\n",
      "[('s', 'http://www.wikidata.org/entity/Q2476169'), ('name', 'Gerald Henderson')]\n",
      "[('s', 'http://www.wikidata.org/entity/Q3718942'), ('name', 'Eddie Lee Wilkins')]\n",
      "[('s', 'http://www.wikidata.org/entity/Q3729034'), ('name', 'Moochie Norris')]\n",
      "[('s', 'http://www.wikidata.org/entity/Q3731636'), ('name', 'Erick Strickland')]\n",
      "[('s', 'http://www.wikidata.org/entity/Q2327261'), ('name', 'James Donaldson')]\n",
      "[('s', 'http://www.wikidata.org/entity/Q7045462'), ('name', 'Noah Vonleh')]\n",
      "[('s', 'http://www.wikidata.org/entity/Q1461043'), ('name', 'Tom Gola')]\n",
      "[('s', 'http://www.wikidata.org/entity/Q7829051'), ('name', 'Toure Murry')]\n",
      "[('s', 'http://www.wikidata.org/entity/Q2256877'), ('name', 'Charles Smith')]\n",
      "[('s', 'http://www.wikidata.org/entity/Q729281'), ('name', 'Latrell Sprewell')]\n",
      "[('s', 'http://www.wikidata.org/entity/Q1364214'), ('name', 'Andy Rautins')]\n",
      "[('s', 'http://www.wikidata.org/entity/Q2504822'), ('name', 'Mike Woodson')]\n",
      "[('s', 'http://www.wikidata.org/entity/Q32786169'), ('name', 'RJ Barrett')]\n",
      "[('s', 'http://www.wikidata.org/entity/Q3637930'), ('name', 'Ben Davis')]\n",
      "[('s', 'http://www.wikidata.org/entity/Q3776407'), ('name', 'Greg Fillmore')]\n",
      "[('s', 'http://www.wikidata.org/entity/Q3786300'), ('name', 'Hollis Copeland')]\n",
      "[('s', 'http://www.wikidata.org/entity/Q3900801'), ('name', 'Pete Myers')]\n",
      "[('s', 'http://www.wikidata.org/entity/Q3901340'), ('name', 'Phil Rollins')]\n",
      "[('s', 'http://www.wikidata.org/entity/Q3968117'), ('name', 'Stanley Stutz')]\n",
      "[('s', 'http://www.wikidata.org/entity/Q3982512'), ('name', 'Ted Manakas')]\n",
      "[('s', 'http://www.wikidata.org/entity/Q3992442'), ('name', 'Tom Barker')]\n",
      "[('s', 'http://www.wikidata.org/entity/Q4400961'), ('name', 'Bill Smith')]\n",
      "[('s', 'http://www.wikidata.org/entity/Q5316027'), ('name', 'Etdrick Bohannon')]\n",
      "[('s', 'http://www.wikidata.org/entity/Q2326029'), ('name', 'DeMarco Johnson')]\n",
      "[('s', 'http://www.wikidata.org/entity/Q22096387'), ('name', 'Calvin Thompson')]\n",
      "[('s', 'http://www.wikidata.org/entity/Q961660'), ('name', 'Red Holzman')]\n",
      "[('s', 'http://www.wikidata.org/entity/Q971211'), ('name', 'Chris Hunter')]\n",
      "[('s', 'http://www.wikidata.org/entity/Q975550'), ('name', 'Jamison Brewer')]\n",
      "[('s', 'http://www.wikidata.org/entity/Q1027929'), ('name', 'Dick Van Arsdale')]\n",
      "[('s', 'http://www.wikidata.org/entity/Q2308083'), ('name', 'Greg Kite')]\n",
      "[('s', 'http://www.wikidata.org/entity/Q2309134'), ('name', 'Lee Nailon')]\n",
      "[('s', 'http://www.wikidata.org/entity/Q2309475'), ('name', 'Clarence Weatherspoon')]\n",
      "100\n"
     ]
    }
   ],
   "source": [
    "# return NBA team's members \n",
    "queryString = \"\"\"\n",
    "SELECT DISTINCT ?s ?name \n",
    "WHERE {\n",
    "   ?s wdt:P54 ?team.\n",
    "   ?team wdt:P118 wd:Q155223.\n",
    "   ?s sc:name ?name.\n",
    "}\n",
    "LIMIT 100\n",
    "\"\"\"\n",
    "\n",
    "print(\"Results\")\n",
    "x=run_query(queryString)"
   ]
  },
  {
   "cell_type": "code",
   "execution_count": 116,
   "id": "91f42fd6-968b-47bb-934f-01b6c65bf9ad",
   "metadata": {},
   "outputs": [
    {
     "name": "stdout",
     "output_type": "stream",
     "text": [
      "Results\n",
      "[('country', 'http://www.wikidata.org/entity/Q30'), ('name', 'United States of America')]\n",
      "1\n"
     ]
    }
   ],
   "source": [
    "# return Durant's country of citizenship\n",
    "queryString = \"\"\"\n",
    "SELECT DISTINCT ?country ?name \n",
    "WHERE {\n",
    "   wd:Q29545 wdt:P27 ?country.\n",
    "   ?country sc:name ?name.\n",
    "}\n",
    "LIMIT 100\n",
    "\"\"\"\n",
    "\n",
    "print(\"Results\")\n",
    "x=run_query(queryString)"
   ]
  },
  {
   "cell_type": "code",
   "execution_count": 117,
   "id": "9119f47f-dc6a-4f73-87fc-b7f49904bc91",
   "metadata": {},
   "outputs": [
    {
     "name": "stdout",
     "output_type": "stream",
     "text": [
      "Results\n",
      "[('o', 'http://www.wikidata.org/entity/Q1489259'), ('name', 'superpower')]\n",
      "[('o', 'http://www.wikidata.org/entity/Q99541706'), ('name', 'historical unrecognized state')]\n",
      "[('o', 'http://www.wikidata.org/entity/Q1520223'), ('name', 'constitutional republic')]\n",
      "[('o', 'http://www.wikidata.org/entity/Q3624078'), ('name', 'sovereign state')]\n",
      "[('o', 'http://www.wikidata.org/entity/Q512187'), ('name', 'federal republic')]\n",
      "[('o', 'http://www.wikidata.org/entity/Q5255892'), ('name', 'democratic republic')]\n",
      "[('o', 'http://www.wikidata.org/entity/Q6256'), ('name', 'country')]\n",
      "7\n"
     ]
    }
   ],
   "source": [
    "#return what United States of America is instance of\n",
    "queryString = \"\"\"\n",
    "SELECT DISTINCT ?o ?name \n",
    "WHERE {\n",
    "   wd:Q30 wdt:P31 ?o.\n",
    "   ?o sc:name ?name.\n",
    "}\n",
    "LIMIT 100\n",
    "\"\"\"\n",
    "\n",
    "print(\"Results\")\n",
    "\n",
    "x=run_query(queryString)"
   ]
  },
  {
   "cell_type": "code",
   "execution_count": 118,
   "id": "753c2c21-acad-428c-8ce4-ffd34d2400ca",
   "metadata": {},
   "outputs": [
    {
     "name": "stdout",
     "output_type": "stream",
     "text": [
      "Results\n",
      "[('p', 'http://www.wikidata.org/prop/direct/P1014'), ('name', 'Art & Architecture Thesaurus ID')]\n",
      "[('p', 'http://www.wikidata.org/prop/direct/P1036'), ('name', 'Dewey Decimal Classification')]\n",
      "[('p', 'http://www.wikidata.org/prop/direct/P1051'), ('name', 'PSH ID')]\n",
      "[('p', 'http://www.wikidata.org/prop/direct/P1151'), ('name', \"topic's main Wikimedia portal\")]\n",
      "[('p', 'http://www.wikidata.org/prop/direct/P1245'), ('name', 'OmegaWiki Defined Meaning')]\n",
      "[('p', 'http://www.wikidata.org/prop/direct/P1282'), ('name', 'OpenStreetMap tag or key')]\n",
      "[('p', 'http://www.wikidata.org/prop/direct/P1417'), ('name', 'Encyclopædia Britannica Online ID')]\n",
      "[('p', 'http://www.wikidata.org/prop/direct/P1424'), ('name', \"topic's main template\")]\n",
      "[('p', 'http://www.wikidata.org/prop/direct/P150'), ('name', 'contains administrative territorial entity')]\n",
      "[('p', 'http://www.wikidata.org/prop/direct/P1687'), ('name', 'Wikidata property')]\n",
      "[('p', 'http://www.wikidata.org/prop/direct/P1709'), ('name', 'equivalent class')]\n",
      "[('p', 'http://www.wikidata.org/prop/direct/P18'), ('name', 'image')]\n",
      "[('p', 'http://www.wikidata.org/prop/direct/P1889'), ('name', 'different from')]\n",
      "[('p', 'http://www.wikidata.org/prop/direct/P1963'), ('name', 'properties for this type')]\n",
      "[('p', 'http://www.wikidata.org/prop/direct/P227'), ('name', 'GND ID')]\n",
      "[('p', 'http://www.wikidata.org/prop/direct/P2347'), ('name', 'YSO ID')]\n",
      "[('p', 'http://www.wikidata.org/prop/direct/P2452'), ('name', 'GeoNames feature code')]\n",
      "[('p', 'http://www.wikidata.org/prop/direct/P2581'), ('name', 'BabelNet ID')]\n",
      "[('p', 'http://www.wikidata.org/prop/direct/P2670'), ('name', 'has parts of the class')]\n",
      "[('p', 'http://www.wikidata.org/prop/direct/P279'), ('name', 'subclass of')]\n",
      "[('p', 'http://www.wikidata.org/prop/direct/P2888'), ('name', 'exact match')]\n",
      "[('p', 'http://www.wikidata.org/prop/direct/P2959'), ('name', 'permanent duplicated item')]\n",
      "[('p', 'http://www.wikidata.org/prop/direct/P31'), ('name', 'instance of')]\n",
      "[('p', 'http://www.wikidata.org/prop/direct/P3219'), ('name', 'Encyclopædia Universalis ID')]\n",
      "[('p', 'http://www.wikidata.org/prop/direct/P3417'), ('name', 'Quora topic ID')]\n",
      "[('p', 'http://www.wikidata.org/prop/direct/P3553'), ('name', 'Zhihu topic ID')]\n",
      "[('p', 'http://www.wikidata.org/prop/direct/P373'), ('name', 'Commons category')]\n",
      "[('p', 'http://www.wikidata.org/prop/direct/P3827'), ('name', 'JSTOR topic ID')]\n",
      "[('p', 'http://www.wikidata.org/prop/direct/P3896'), ('name', 'geoshape')]\n",
      "[('p', 'http://www.wikidata.org/prop/direct/P443'), ('name', 'pronunciation audio')]\n",
      "[('p', 'http://www.wikidata.org/prop/direct/P4527'), ('name', 'UK Parliament thesaurus ID')]\n",
      "[('p', 'http://www.wikidata.org/prop/direct/P460'), ('name', 'said to be the same as')]\n",
      "[('p', 'http://www.wikidata.org/prop/direct/P5008'), ('name', 'on focus list of Wikimedia project')]\n",
      "[('p', 'http://www.wikidata.org/prop/direct/P5250'), ('name', 'IAB code')]\n",
      "[('p', 'http://www.wikidata.org/prop/direct/P527'), ('name', 'has part')]\n",
      "[('p', 'http://www.wikidata.org/prop/direct/P5869'), ('name', 'model item')]\n",
      "[('p', 'http://www.wikidata.org/prop/direct/P6104'), ('name', 'maintained by WikiProject')]\n",
      "[('p', 'http://www.wikidata.org/prop/direct/P6186'), ('name', 'category for eponymous categories')]\n",
      "[('p', 'http://www.wikidata.org/prop/direct/P646'), ('name', 'Freebase ID')]\n",
      "[('p', 'http://www.wikidata.org/prop/direct/P7033'), ('name', 'Australian Educational Vocabulary ID')]\n",
      "[('p', 'http://www.wikidata.org/prop/direct/P7497'), ('name', 'Wolfram Language entity type')]\n",
      "[('p', 'http://www.wikidata.org/prop/direct/P7502'), ('name', 'Golden ID')]\n",
      "[('p', 'http://www.wikidata.org/prop/direct/P7771'), ('name', 'PersonalData.IO ID')]\n",
      "[('p', 'http://www.wikidata.org/prop/direct/P7818'), ('name', 'French Vikidia ID')]\n",
      "[('p', 'http://www.wikidata.org/prop/direct/P7827'), ('name', 'Spanish Vikidia ID')]\n",
      "[('p', 'http://www.wikidata.org/prop/direct/P8408'), ('name', 'KBpedia ID')]\n",
      "[('p', 'http://www.wikidata.org/prop/direct/P8834'), ('name', 'MetaSat ID')]\n",
      "[('p', 'http://www.wikidata.org/prop/direct/P910'), ('name', \"topic's main category\")]\n",
      "[('p', 'http://www.wikidata.org/prop/direct/P973'), ('name', 'described at URL')]\n",
      "49\n"
     ]
    }
   ],
   "source": [
    "#return properties for country\n",
    "queryString = \"\"\"\n",
    "SELECT DISTINCT ?p ?name \n",
    "WHERE {\n",
    "   wd:Q6256 ?p ?o.\n",
    "   ?p sc:name ?name.\n",
    "}\n",
    "LIMIT 100\n",
    "\"\"\"\n",
    "\n",
    "print(\"Results\")\n",
    "x=run_query(queryString)"
   ]
  },
  {
   "cell_type": "code",
   "execution_count": 119,
   "id": "fd3f1e67-0b10-43d2-91fe-72ac59df12a0",
   "metadata": {},
   "outputs": [
    {
     "name": "stdout",
     "output_type": "stream",
     "text": [
      "Results\n",
      "[('p', 'http://www.wikidata.org/prop/direct/P1005'), ('name', 'Portuguese National Library ID')]\n",
      "[('p', 'http://www.wikidata.org/prop/direct/P1017'), ('name', 'Vatican Library ID (former scheme)')]\n",
      "[('p', 'http://www.wikidata.org/prop/direct/P1036'), ('name', 'Dewey Decimal Classification')]\n",
      "[('p', 'http://www.wikidata.org/prop/direct/P1081'), ('name', 'Human Development Index')]\n",
      "[('p', 'http://www.wikidata.org/prop/direct/P1082'), ('name', 'population')]\n",
      "[('p', 'http://www.wikidata.org/prop/direct/P1125'), ('name', 'Gini coefficient')]\n",
      "[('p', 'http://www.wikidata.org/prop/direct/P1151'), ('name', \"topic's main Wikimedia portal\")]\n",
      "[('p', 'http://www.wikidata.org/prop/direct/P1188'), ('name', 'Dharma Drum Institute of Liberal Arts place ID')]\n",
      "[('p', 'http://www.wikidata.org/prop/direct/P1198'), ('name', 'unemployment rate')]\n",
      "[('p', 'http://www.wikidata.org/prop/direct/P122'), ('name', 'basic form of government')]\n",
      "[('p', 'http://www.wikidata.org/prop/direct/P1225'), ('name', 'U.S. National Archives Identifier')]\n",
      "[('p', 'http://www.wikidata.org/prop/direct/P1245'), ('name', 'OmegaWiki Defined Meaning')]\n",
      "[('p', 'http://www.wikidata.org/prop/direct/P1273'), ('name', 'CANTIC ID')]\n",
      "[('p', 'http://www.wikidata.org/prop/direct/P1280'), ('name', 'CONOR.SI ID')]\n",
      "[('p', 'http://www.wikidata.org/prop/direct/P1281'), ('name', 'WOEID')]\n",
      "[('p', 'http://www.wikidata.org/prop/direct/P1296'), ('name', 'Gran Enciclopèdia Catalana ID')]\n",
      "[('p', 'http://www.wikidata.org/prop/direct/P1304'), ('name', 'central bank')]\n",
      "[('p', 'http://www.wikidata.org/prop/direct/P1313'), ('name', 'office held by head of government')]\n",
      "[('p', 'http://www.wikidata.org/prop/direct/P1315'), ('name', 'NLA Trove ID')]\n",
      "[('p', 'http://www.wikidata.org/prop/direct/P1325'), ('name', 'external data available at')]\n",
      "[('p', 'http://www.wikidata.org/prop/direct/P1343'), ('name', 'described by source')]\n",
      "[('p', 'http://www.wikidata.org/prop/direct/P1344'), ('name', 'participant in')]\n",
      "[('p', 'http://www.wikidata.org/prop/direct/P1365'), ('name', 'replaces')]\n",
      "[('p', 'http://www.wikidata.org/prop/direct/P138'), ('name', 'named after')]\n",
      "[('p', 'http://www.wikidata.org/prop/direct/P1417'), ('name', 'Encyclopædia Britannica Online ID')]\n",
      "[('p', 'http://www.wikidata.org/prop/direct/P1424'), ('name', \"topic's main template\")]\n",
      "[('p', 'http://www.wikidata.org/prop/direct/P1438'), ('name', 'Jewish Encyclopedia ID (Russian)')]\n",
      "[('p', 'http://www.wikidata.org/prop/direct/P1441'), ('name', 'present in work')]\n",
      "[('p', 'http://www.wikidata.org/prop/direct/P1448'), ('name', 'official name')]\n",
      "[('p', 'http://www.wikidata.org/prop/direct/P1451'), ('name', 'motto text')]\n",
      "[('p', 'http://www.wikidata.org/prop/direct/P1464'), ('name', 'category for people born here')]\n",
      "[('p', 'http://www.wikidata.org/prop/direct/P1465'), ('name', 'category for people who died here')]\n",
      "[('p', 'http://www.wikidata.org/prop/direct/P1482'), ('name', 'Stack Exchange tag')]\n",
      "[('p', 'http://www.wikidata.org/prop/direct/P150'), ('name', 'contains administrative territorial entity')]\n",
      "[('p', 'http://www.wikidata.org/prop/direct/P1546'), ('name', 'motto')]\n",
      "[('p', 'http://www.wikidata.org/prop/direct/P1549'), ('name', 'demonym')]\n",
      "[('p', 'http://www.wikidata.org/prop/direct/P1552'), ('name', 'has quality')]\n",
      "[('p', 'http://www.wikidata.org/prop/direct/P1566'), ('name', 'GeoNames ID')]\n",
      "[('p', 'http://www.wikidata.org/prop/direct/P158'), ('name', 'seal image')]\n",
      "[('p', 'http://www.wikidata.org/prop/direct/P1589'), ('name', 'lowest point')]\n",
      "[('p', 'http://www.wikidata.org/prop/direct/P1617'), ('name', 'BBC Things ID')]\n",
      "[('p', 'http://www.wikidata.org/prop/direct/P1622'), ('name', 'driving side')]\n",
      "[('p', 'http://www.wikidata.org/prop/direct/P163'), ('name', 'flag')]\n",
      "[('p', 'http://www.wikidata.org/prop/direct/P1667'), ('name', 'Getty Thesaurus of Geographic Names ID')]\n",
      "[('p', 'http://www.wikidata.org/prop/direct/P17'), ('name', 'country')]\n",
      "[('p', 'http://www.wikidata.org/prop/direct/P1705'), ('name', 'native label')]\n",
      "[('p', 'http://www.wikidata.org/prop/direct/P172'), ('name', 'ethnic group')]\n",
      "[('p', 'http://www.wikidata.org/prop/direct/P1740'), ('name', 'category for films shot at this location')]\n",
      "[('p', 'http://www.wikidata.org/prop/direct/P1791'), ('name', 'category of people buried here')]\n",
      "[('p', 'http://www.wikidata.org/prop/direct/P1792'), ('name', 'category of associated people')]\n",
      "[('p', 'http://www.wikidata.org/prop/direct/P1813'), ('name', 'short name')]\n",
      "[('p', 'http://www.wikidata.org/prop/direct/P1830'), ('name', 'owner of')]\n",
      "[('p', 'http://www.wikidata.org/prop/direct/P1842'), ('name', 'Global Anabaptist Mennonite Encyclopedia Online ID')]\n",
      "[('p', 'http://www.wikidata.org/prop/direct/P1889'), ('name', 'different from')]\n",
      "[('p', 'http://www.wikidata.org/prop/direct/P1906'), ('name', 'office held by head of state')]\n",
      "[('p', 'http://www.wikidata.org/prop/direct/P194'), ('name', 'legislative body')]\n",
      "[('p', 'http://www.wikidata.org/prop/direct/P1943'), ('name', 'location map')]\n",
      "[('p', 'http://www.wikidata.org/prop/direct/P1944'), ('name', 'relief location map')]\n",
      "[('p', 'http://www.wikidata.org/prop/direct/P1968'), ('name', 'Foursquare venue ID')]\n",
      "[('p', 'http://www.wikidata.org/prop/direct/P2002'), ('name', 'Twitter username')]\n",
      "[('p', 'http://www.wikidata.org/prop/direct/P2003'), ('name', 'Instagram username')]\n",
      "[('p', 'http://www.wikidata.org/prop/direct/P2004'), ('name', 'NALT ID')]\n",
      "[('p', 'http://www.wikidata.org/prop/direct/P2046'), ('name', 'area')]\n",
      "[('p', 'http://www.wikidata.org/prop/direct/P206'), ('name', 'located in or next to body of water')]\n",
      "[('p', 'http://www.wikidata.org/prop/direct/P208'), ('name', 'executive body')]\n",
      "[('p', 'http://www.wikidata.org/prop/direct/P2082'), ('name', 'M.49 code')]\n",
      "[('p', 'http://www.wikidata.org/prop/direct/P209'), ('name', 'highest judicial authority')]\n",
      "[('p', 'http://www.wikidata.org/prop/direct/P213'), ('name', 'ISNI')]\n",
      "[('p', 'http://www.wikidata.org/prop/direct/P214'), ('name', 'VIAF ID')]\n",
      "[('p', 'http://www.wikidata.org/prop/direct/P2163'), ('name', 'FAST ID')]\n",
      "[('p', 'http://www.wikidata.org/prop/direct/P2184'), ('name', 'history of topic')]\n",
      "[('p', 'http://www.wikidata.org/prop/direct/P2238'), ('name', 'official symbol')]\n",
      "[('p', 'http://www.wikidata.org/prop/direct/P2250'), ('name', 'life expectancy')]\n",
      "[('p', 'http://www.wikidata.org/prop/direct/P2258'), ('name', 'mobile country code')]\n",
      "[('p', 'http://www.wikidata.org/prop/direct/P227'), ('name', 'GND ID')]\n",
      "[('p', 'http://www.wikidata.org/prop/direct/P2347'), ('name', 'YSO ID')]\n",
      "[('p', 'http://www.wikidata.org/prop/direct/P237'), ('name', 'coat of arms')]\n",
      "[('p', 'http://www.wikidata.org/prop/direct/P242'), ('name', 'locator map image')]\n",
      "[('p', 'http://www.wikidata.org/prop/direct/P244'), ('name', 'Library of Congress authority ID')]\n",
      "[('p', 'http://www.wikidata.org/prop/direct/P2573'), ('name', 'number of out-of-school children')]\n",
      "[('p', 'http://www.wikidata.org/prop/direct/P2579'), ('name', 'studied by')]\n",
      "[('p', 'http://www.wikidata.org/prop/direct/P2581'), ('name', 'BabelNet ID')]\n",
      "[('p', 'http://www.wikidata.org/prop/direct/P2596'), ('name', 'culture')]\n",
      "[('p', 'http://www.wikidata.org/prop/direct/P2612'), ('name', 'TED topic ID')]\n",
      "[('p', 'http://www.wikidata.org/prop/direct/P2633'), ('name', 'geography of topic')]\n",
      "[('p', 'http://www.wikidata.org/prop/direct/P268'), ('name', 'Bibliothèque nationale de France ID')]\n",
      "[('p', 'http://www.wikidata.org/prop/direct/P269'), ('name', 'IdRef ID')]\n",
      "[('p', 'http://www.wikidata.org/prop/direct/P2852'), ('name', 'emergency telephone number')]\n",
      "[('p', 'http://www.wikidata.org/prop/direct/P2853'), ('name', 'electrical plug type')]\n",
      "[('p', 'http://www.wikidata.org/prop/direct/P2884'), ('name', 'mains voltage')]\n",
      "[('p', 'http://www.wikidata.org/prop/direct/P2924'), ('name', 'Great Russian Encyclopedia Online ID')]\n",
      "[('p', 'http://www.wikidata.org/prop/direct/P2936'), ('name', 'language used')]\n",
      "[('p', 'http://www.wikidata.org/prop/direct/P2959'), ('name', 'permanent duplicated item')]\n",
      "[('p', 'http://www.wikidata.org/prop/direct/P297'), ('name', 'ISO 3166-1 alpha-2 code')]\n",
      "[('p', 'http://www.wikidata.org/prop/direct/P2979'), ('name', 'maritime identification digits')]\n",
      "[('p', 'http://www.wikidata.org/prop/direct/P298'), ('name', 'ISO 3166-1 alpha-3 code')]\n",
      "[('p', 'http://www.wikidata.org/prop/direct/P299'), ('name', 'ISO 3166-1 numeric code')]\n",
      "[('p', 'http://www.wikidata.org/prop/direct/P2997'), ('name', 'age of majority')]\n",
      "[('p', 'http://www.wikidata.org/prop/direct/P30'), ('name', 'continent')]\n",
      "[('p', 'http://www.wikidata.org/prop/direct/P3001'), ('name', 'retirement age')]\n",
      "100\n"
     ]
    }
   ],
   "source": [
    "#return properties for United States of America\n",
    "queryString = \"\"\"\n",
    "SELECT DISTINCT ?p ?name \n",
    "WHERE {\n",
    "   wd:Q30 ?p ?o.\n",
    "   ?p sc:name ?name.\n",
    "}\n",
    "LIMIT 100\n",
    "\"\"\"\n",
    "\n",
    "print(\"Results\")\n",
    "x=run_query(queryString)"
   ]
  },
  {
   "cell_type": "code",
   "execution_count": 120,
   "id": "7a0d19e7-f3bf-417b-8aad-2f21f0738f08",
   "metadata": {},
   "outputs": [
    {
     "name": "stdout",
     "output_type": "stream",
     "text": [
      "Results\n",
      "[('o', 'http://www.wikidata.org/entity/Q49'), ('name', 'North America')]\n",
      "[('o', 'http://www.wikidata.org/entity/Q538'), ('name', 'Insular Oceania')]\n",
      "2\n"
     ]
    }
   ],
   "source": [
    "#return United States of America's continent\n",
    "queryString = \"\"\"\n",
    "SELECT DISTINCT ?o ?name \n",
    "WHERE {\n",
    "   wd:Q30 wdt:P30 ?o.\n",
    "   ?o sc:name ?name.\n",
    "}\n",
    "LIMIT 100\n",
    "\"\"\"\n",
    "\n",
    "print(\"Results\")\n",
    "x=run_query(queryString)"
   ]
  },
  {
   "cell_type": "code",
   "execution_count": 121,
   "id": "b96f730a-d42d-4410-baa6-c123fd80d26d",
   "metadata": {},
   "outputs": [
    {
     "name": "stdout",
     "output_type": "stream",
     "text": [
      "Results\n",
      "[('continent', 'http://www.wikidata.org/entity/Q5401'), ('name', 'Eurasia'), ('totPlayers', '45')]\n",
      "[('continent', 'http://www.wikidata.org/entity/Q46'), ('name', 'Europe'), ('totPlayers', '796')]\n",
      "[('continent', 'http://www.wikidata.org/entity/Q538'), ('name', 'Insular Oceania'), ('totPlayers', '9381')]\n",
      "[('continent', 'http://www.wikidata.org/entity/Q15'), ('name', 'Africa'), ('totPlayers', '132')]\n",
      "[('continent', 'http://www.wikidata.org/entity/Q18'), ('name', 'South America'), ('totPlayers', '80')]\n",
      "[('continent', 'http://www.wikidata.org/entity/Q48'), ('name', 'Asia'), ('totPlayers', '178')]\n",
      "[('continent', 'http://www.wikidata.org/entity/Q49'), ('name', 'North America'), ('totPlayers', '9550')]\n",
      "7\n"
     ]
    }
   ],
   "source": [
    "# return for each continent how many NBA players there are \n",
    "queryString = \"\"\"\n",
    "SELECT DISTINCT ?continent ?name (COUNT(?player) AS ?totPlayers)\n",
    "WHERE {\n",
    "   ?player wdt:P54 ?team;\n",
    "       wdt:P27 ?country.\n",
    "   ?country wdt:P30 ?continent.\n",
    "   ?team wdt:P118 wd:Q155223.\n",
    "   ?continent sc:name ?name.\n",
    "}\n",
    "LIMIT 100\n",
    "\"\"\"\n",
    "\n",
    "print(\"Results\")\n",
    "x=run_query(queryString)"
   ]
  },
  {
   "cell_type": "code",
   "execution_count": 122,
   "id": "94c82024-49db-4a00-a9c6-dda892ac9074",
   "metadata": {},
   "outputs": [
    {
     "name": "stdout",
     "output_type": "stream",
     "text": [
      "Results\n",
      "[('o', 'http://www.wikidata.org/entity/Q5107'), ('name', 'continent')]\n",
      "[('o', 'http://www.wikidata.org/entity/Q2418896'), ('name', 'part of the world')]\n",
      "2\n"
     ]
    }
   ],
   "source": [
    "#return what Europe is instance of\n",
    "queryString = \"\"\"\n",
    "SELECT DISTINCT ?o ?name \n",
    "WHERE {\n",
    "   wd:Q46 wdt:P31 ?o.\n",
    "   ?o sc:name ?name.\n",
    "}\n",
    "LIMIT 100\n",
    "\"\"\"\n",
    "\n",
    "print(\"Results\")\n",
    "x=run_query(queryString)"
   ]
  },
  {
   "cell_type": "code",
   "execution_count": 123,
   "id": "d1d1c703-2532-4a79-8114-62d25aa9a236",
   "metadata": {},
   "outputs": [
    {
     "name": "stdout",
     "output_type": "stream",
     "text": [
      "Results\n",
      "[('continent', 'http://www.wikidata.org/entity/Q46'), ('name', 'Europe'), ('totPlayers', '796')]\n",
      "[('continent', 'http://www.wikidata.org/entity/Q538'), ('name', 'Insular Oceania'), ('totPlayers', '9381')]\n",
      "[('continent', 'http://www.wikidata.org/entity/Q15'), ('name', 'Africa'), ('totPlayers', '132')]\n",
      "[('continent', 'http://www.wikidata.org/entity/Q18'), ('name', 'South America'), ('totPlayers', '80')]\n",
      "[('continent', 'http://www.wikidata.org/entity/Q48'), ('name', 'Asia'), ('totPlayers', '178')]\n",
      "[('continent', 'http://www.wikidata.org/entity/Q49'), ('name', 'North America'), ('totPlayers', '9550')]\n",
      "6\n"
     ]
    }
   ],
   "source": [
    "# return for each continent how many NBA players there are \n",
    "queryString = \"\"\"\n",
    "SELECT DISTINCT ?continent ?name (COUNT(?player) AS ?totPlayers)\n",
    "WHERE {\n",
    "   ?player wdt:P54 ?team;\n",
    "       wdt:P27 ?country.\n",
    "   ?country wdt:P30 ?continent.\n",
    "   ?continent wdt:P31 wd:Q5107.\n",
    "   ?team wdt:P118 wd:Q155223.\n",
    "   ?continent sc:name ?name.\n",
    "}\n",
    "LIMIT 100\n",
    "\"\"\"\n",
    "\n",
    "print(\"Results\")\n",
    "x=run_query(queryString)"
   ]
  },
  {
   "cell_type": "markdown",
   "id": "0a24fad9",
   "metadata": {},
   "source": [
    "Final query for this task"
   ]
  },
  {
   "cell_type": "code",
   "execution_count": 124,
   "id": "6d375321",
   "metadata": {},
   "outputs": [
    {
     "name": "stdout",
     "output_type": "stream",
     "text": [
      "Results\n",
      "[('continent', 'http://www.wikidata.org/entity/Q46'), ('name', 'Europe'), ('totPlayers', '796')]\n",
      "[('continent', 'http://www.wikidata.org/entity/Q538'), ('name', 'Insular Oceania'), ('totPlayers', '9381')]\n",
      "[('continent', 'http://www.wikidata.org/entity/Q15'), ('name', 'Africa'), ('totPlayers', '132')]\n",
      "[('continent', 'http://www.wikidata.org/entity/Q18'), ('name', 'South America'), ('totPlayers', '80')]\n",
      "[('continent', 'http://www.wikidata.org/entity/Q48'), ('name', 'Asia'), ('totPlayers', '178')]\n",
      "[('continent', 'http://www.wikidata.org/entity/Q49'), ('name', 'North America'), ('totPlayers', '9550')]\n",
      "6\n"
     ]
    }
   ],
   "source": [
    "# write your final query\n",
    "#Consider only NBA (National Basketball Association) basketball teams and all basketball players who played in one \n",
    "#of these teams at least once. Also consider the country of citizenship of the players with the related continent. \n",
    "#Return for each continent the number of players who played in an NBA basketball teams. (the result set must be triples \n",
    "#of continent IRI, labels and #players)\n",
    "queryString = \"\"\"\n",
    "SELECT DISTINCT ?continent ?name (COUNT(?player) AS ?totPlayers)\n",
    "WHERE {\n",
    "   ?player wdt:P54 ?team;\n",
    "       wdt:P27 ?country.\n",
    "   ?country wdt:P30 ?continent.\n",
    "   ?continent wdt:P31 wd:Q5107.\n",
    "   ?team wdt:P118 wd:Q155223.\n",
    "   ?continent sc:name ?name.\n",
    "}\n",
    "LIMIT 100\n",
    "\"\"\"\n",
    "\n",
    "print(\"Results\")\n",
    "x=run_query(queryString)"
   ]
  },
  {
   "cell_type": "markdown",
   "id": "019c1a23",
   "metadata": {},
   "source": [
    "## Task 8\n",
    "Identify the BGP for the NBA Most Valuable Player Award (MVP) (see https://en.wikipedia.org/wiki/NBA_Most_Valuable_Player_Award)"
   ]
  },
  {
   "cell_type": "code",
   "execution_count": 125,
   "id": "9f41f6cf",
   "metadata": {},
   "outputs": [],
   "source": [
    "# write your queries"
   ]
  },
  {
   "cell_type": "code",
   "execution_count": 126,
   "id": "2185a47c-d6de-4d28-a223-b01559c0c0b5",
   "metadata": {},
   "outputs": [
    {
     "name": "stdout",
     "output_type": "stream",
     "text": [
      "Results\n",
      "[('o', 'http://www.wikidata.org/entity/Q7865896'), ('name', 'USBWA National Freshman of the Year')]\n",
      "[('o', 'http://www.wikidata.org/entity/Q1418009'), ('name', 'NBA All-Rookie Team')]\n",
      "[('o', 'http://www.wikidata.org/entity/Q1641970'), ('name', 'John R. Wooden Award')]\n",
      "[('o', 'http://www.wikidata.org/entity/Q222047'), ('name', 'NBA Most Valuable Player Award')]\n",
      "[('o', 'http://www.wikidata.org/entity/Q31391'), ('name', 'NBA All-Star Game Kobe Bryant Most Valuable Player Award')]\n",
      "[('o', 'http://www.wikidata.org/entity/Q4835465'), ('name', 'BET Award for Athlete of the Century')]\n",
      "[('o', 'http://www.wikidata.org/entity/Q4896724'), ('name', 'Best Male Athlete ESPY Award')]\n",
      "[('o', 'http://www.wikidata.org/entity/Q644357'), ('name', 'NBA Rookie of the Year Award')]\n",
      "[('o', 'http://www.wikidata.org/entity/Q674359'), ('name', 'All-NBA Team')]\n",
      "[('o', 'http://www.wikidata.org/entity/Q943106'), ('name', 'Best NBA Player ESPY Award')]\n",
      "[('o', 'http://www.wikidata.org/entity/Q4896727'), ('name', 'Best Male College Athlete ESPY Award')]\n",
      "[('o', 'http://www.wikidata.org/entity/Q4904894'), ('name', \"Big 12 Conference Men's Basketball Player of the Year\")]\n",
      "12\n"
     ]
    }
   ],
   "source": [
    "#return Durant's award received\n",
    "queryString = \"\"\"\n",
    "SELECT DISTINCT ?o ?name\n",
    "WHERE {\n",
    "   wd:Q29545 wdt:P166 ?o .\n",
    "   ?o sc:name ?name\n",
    "}\n",
    "LIMIT 100\n",
    "\"\"\"\n",
    "\n",
    "print(\"Results\")\n",
    "x=run_query(queryString)"
   ]
  },
  {
   "cell_type": "markdown",
   "id": "131a8c68",
   "metadata": {},
   "source": [
    "Final query for this task"
   ]
  },
  {
   "cell_type": "code",
   "execution_count": 160,
   "id": "04b95388",
   "metadata": {},
   "outputs": [
    {
     "name": "stdout",
     "output_type": "stream",
     "text": [
      "Results\n",
      "[('o', 'http://www.wikidata.org/entity/Q7865896'), ('name', 'USBWA National Freshman of the Year')]\n",
      "[('o', 'http://www.wikidata.org/entity/Q1418009'), ('name', 'NBA All-Rookie Team')]\n",
      "[('o', 'http://www.wikidata.org/entity/Q1641970'), ('name', 'John R. Wooden Award')]\n",
      "[('o', 'http://www.wikidata.org/entity/Q222047'), ('name', 'NBA Most Valuable Player Award')]\n",
      "[('o', 'http://www.wikidata.org/entity/Q31391'), ('name', 'NBA All-Star Game Kobe Bryant Most Valuable Player Award')]\n",
      "[('o', 'http://www.wikidata.org/entity/Q4835465'), ('name', 'BET Award for Athlete of the Century')]\n",
      "[('o', 'http://www.wikidata.org/entity/Q4896724'), ('name', 'Best Male Athlete ESPY Award')]\n",
      "[('o', 'http://www.wikidata.org/entity/Q644357'), ('name', 'NBA Rookie of the Year Award')]\n",
      "[('o', 'http://www.wikidata.org/entity/Q674359'), ('name', 'All-NBA Team')]\n",
      "[('o', 'http://www.wikidata.org/entity/Q943106'), ('name', 'Best NBA Player ESPY Award')]\n",
      "[('o', 'http://www.wikidata.org/entity/Q4896727'), ('name', 'Best Male College Athlete ESPY Award')]\n",
      "[('o', 'http://www.wikidata.org/entity/Q4904894'), ('name', \"Big 12 Conference Men's Basketball Player of the Year\")]\n",
      "12\n"
     ]
    }
   ],
   "source": [
    "#Identify the BGP for the NBA Most Valuable Player Award (MVP) (see https://en.wikipedia.org/wiki/NBA_Most_Valuable_Player_Award)\n",
    "# write your final query\n",
    "queryString = \"\"\"\n",
    "SELECT DISTINCT ?o ?name\n",
    "WHERE {\n",
    "   wd:Q29545 wdt:P166 ?o .\n",
    "   ?o sc:name ?name\n",
    "}\n",
    "LIMIT 100\n",
    "\"\"\"\n",
    "\n",
    "print(\"Results\")\n",
    "x=run_query(queryString)"
   ]
  },
  {
   "cell_type": "markdown",
   "id": "072208f4",
   "metadata": {},
   "source": [
    "## Task 9\n",
    "Consider the players who won the NBA Most Valuable Player Award. Return for these players the number of NBA Most Valuable Player Award won in their career (the result set must be triples of player IRI, label and #victories)"
   ]
  },
  {
   "cell_type": "code",
   "execution_count": 128,
   "id": "211b542a-95af-4563-b2c8-f5c699408e36",
   "metadata": {},
   "outputs": [
    {
     "name": "stdout",
     "output_type": "stream",
     "text": [
      "Results\n",
      "Empty\n"
     ]
    }
   ],
   "source": [
    "#return nodes instances of NBA Most Valuable Player Award\n",
    "queryString = \"\"\"\n",
    "SELECT DISTINCT ?s ?name\n",
    "WHERE {\n",
    "   ?s wdt:P31 wd:Q222047.\n",
    "   \n",
    "   ?s sc:name ?name\n",
    "}\n",
    "LIMIT 100\n",
    "\"\"\"\n",
    "\n",
    "print(\"Results\")\n",
    "x=run_query(queryString)"
   ]
  },
  {
   "cell_type": "code",
   "execution_count": 129,
   "id": "69c796a6-9751-4e6d-8538-9482a406aa4a",
   "metadata": {},
   "outputs": [
    {
     "name": "stdout",
     "output_type": "stream",
     "text": [
      "Results\n",
      "[('s', 'http://www.wikidata.org/entity/Q179051'), ('name', 'Kareem Abdul-Jabbar')]\n",
      "[('s', 'http://www.wikidata.org/entity/Q134183'), ('name', 'Magic Johnson')]\n",
      "[('s', 'http://www.wikidata.org/entity/Q169452'), ('name', \"Shaquille O'Neal\")]\n",
      "[('s', 'http://www.wikidata.org/entity/Q17717'), ('name', 'Oscar Robertson')]\n",
      "[('s', 'http://www.wikidata.org/entity/Q182455'), ('name', 'Wilt Chamberlain')]\n",
      "[('s', 'http://www.wikidata.org/entity/Q189240'), ('name', 'Kevin Garnett')]\n",
      "[('s', 'http://www.wikidata.org/entity/Q190094'), ('name', 'Allen Iverson')]\n",
      "[('s', 'http://www.wikidata.org/entity/Q190152'), ('name', 'Larry Bird')]\n",
      "[('s', 'http://www.wikidata.org/entity/Q192707'), ('name', 'Charles Barkley')]\n",
      "[('s', 'http://www.wikidata.org/entity/Q193020'), ('name', 'Tim Duncan')]\n",
      "[('s', 'http://www.wikidata.org/entity/Q196185'), ('name', 'Russell Westbrook')]\n",
      "[('s', 'http://www.wikidata.org/entity/Q199896'), ('name', 'Karl Malone')]\n",
      "[('s', 'http://www.wikidata.org/entity/Q209921'), ('name', 'Julius Erving')]\n",
      "[('s', 'http://www.wikidata.org/entity/Q242185'), ('name', 'Bill Russell')]\n",
      "[('s', 'http://www.wikidata.org/entity/Q25369'), ('name', 'Kobe Bryant')]\n",
      "[('s', 'http://www.wikidata.org/entity/Q264393'), ('name', 'Dave Cowens')]\n",
      "[('s', 'http://www.wikidata.org/entity/Q29545'), ('name', 'Kevin Durant')]\n",
      "[('s', 'http://www.wikidata.org/entity/Q312643'), ('name', 'Bob Cousy')]\n",
      "[('s', 'http://www.wikidata.org/entity/Q36159'), ('name', 'LeBron James')]\n",
      "[('s', 'http://www.wikidata.org/entity/Q368561'), ('name', 'Bob Pettit')]\n",
      "[('s', 'http://www.wikidata.org/entity/Q380515'), ('name', 'Willis Reed')]\n",
      "[('s', 'http://www.wikidata.org/entity/Q41421'), ('name', 'Michael Jordan')]\n",
      "[('s', 'http://www.wikidata.org/entity/Q44068'), ('name', 'Dirk Nowitzki')]\n",
      "[('s', 'http://www.wikidata.org/entity/Q273256'), ('name', 'Hakeem Olajuwon')]\n",
      "[('s', 'http://www.wikidata.org/entity/Q211876'), ('name', 'David Robinson')]\n",
      "[('s', 'http://www.wikidata.org/entity/Q192955'), ('name', 'Steve Nash')]\n",
      "[('s', 'http://www.wikidata.org/entity/Q363246'), ('name', 'Bill Walton')]\n",
      "[('s', 'http://www.wikidata.org/entity/Q456776'), ('name', 'Wes Unseld')]\n",
      "[('s', 'http://www.wikidata.org/entity/Q553232'), ('name', 'Bob McAdoo')]\n",
      "[('s', 'http://www.wikidata.org/entity/Q8991894'), ('name', 'Giannis Antetokounmpo')]\n",
      "[('s', 'http://www.wikidata.org/entity/Q136678'), ('name', 'James Harden')]\n",
      "[('s', 'http://www.wikidata.org/entity/Q316179'), ('name', 'Moses Malone')]\n",
      "[('s', 'http://www.wikidata.org/entity/Q352159'), ('name', 'Stephen Curry')]\n",
      "[('s', 'http://www.wikidata.org/entity/Q17281073'), ('name', 'Nikola Jokić')]\n",
      "[('s', 'http://www.wikidata.org/entity/Q205326'), ('name', 'Derrick Rose')]\n",
      "35\n"
     ]
    }
   ],
   "source": [
    "#return who have a link award received pointing to NBA Most Valuable Player Award\n",
    "queryString = \"\"\"\n",
    "SELECT DISTINCT ?s ?name\n",
    "WHERE {\n",
    "   ?s wdt:P166 wd:Q222047.\n",
    "   \n",
    "   ?s sc:name ?name\n",
    "}\n",
    "LIMIT 100\n",
    "\"\"\"\n",
    "\n",
    "print(\"Results\")\n",
    "x=run_query(queryString)"
   ]
  },
  {
   "cell_type": "code",
   "execution_count": 130,
   "id": "3a139f01-031c-4f7d-b4b7-17793471f875",
   "metadata": {},
   "outputs": [
    {
     "name": "stdout",
     "output_type": "stream",
     "text": [
      "Results\n",
      "[('s', 'http://www.wikidata.org/entity/Q179051'), ('name', 'Kareem Abdul-Jabbar')]\n",
      "[('s', 'http://www.wikidata.org/entity/Q134183'), ('name', 'Magic Johnson')]\n",
      "[('s', 'http://www.wikidata.org/entity/Q169452'), ('name', \"Shaquille O'Neal\")]\n",
      "[('s', 'http://www.wikidata.org/entity/Q17717'), ('name', 'Oscar Robertson')]\n",
      "[('s', 'http://www.wikidata.org/entity/Q182455'), ('name', 'Wilt Chamberlain')]\n",
      "[('s', 'http://www.wikidata.org/entity/Q189240'), ('name', 'Kevin Garnett')]\n",
      "[('s', 'http://www.wikidata.org/entity/Q190094'), ('name', 'Allen Iverson')]\n",
      "[('s', 'http://www.wikidata.org/entity/Q190152'), ('name', 'Larry Bird')]\n",
      "[('s', 'http://www.wikidata.org/entity/Q192707'), ('name', 'Charles Barkley')]\n",
      "[('s', 'http://www.wikidata.org/entity/Q193020'), ('name', 'Tim Duncan')]\n",
      "[('s', 'http://www.wikidata.org/entity/Q196185'), ('name', 'Russell Westbrook')]\n",
      "[('s', 'http://www.wikidata.org/entity/Q199896'), ('name', 'Karl Malone')]\n",
      "[('s', 'http://www.wikidata.org/entity/Q209921'), ('name', 'Julius Erving')]\n",
      "[('s', 'http://www.wikidata.org/entity/Q242185'), ('name', 'Bill Russell')]\n",
      "[('s', 'http://www.wikidata.org/entity/Q25369'), ('name', 'Kobe Bryant')]\n",
      "[('s', 'http://www.wikidata.org/entity/Q264393'), ('name', 'Dave Cowens')]\n",
      "[('s', 'http://www.wikidata.org/entity/Q29545'), ('name', 'Kevin Durant')]\n",
      "[('s', 'http://www.wikidata.org/entity/Q312643'), ('name', 'Bob Cousy')]\n",
      "[('s', 'http://www.wikidata.org/entity/Q36159'), ('name', 'LeBron James')]\n",
      "[('s', 'http://www.wikidata.org/entity/Q368561'), ('name', 'Bob Pettit')]\n",
      "[('s', 'http://www.wikidata.org/entity/Q380515'), ('name', 'Willis Reed')]\n",
      "[('s', 'http://www.wikidata.org/entity/Q41421'), ('name', 'Michael Jordan')]\n",
      "[('s', 'http://www.wikidata.org/entity/Q44068'), ('name', 'Dirk Nowitzki')]\n",
      "[('s', 'http://www.wikidata.org/entity/Q273256'), ('name', 'Hakeem Olajuwon')]\n",
      "[('s', 'http://www.wikidata.org/entity/Q211876'), ('name', 'David Robinson')]\n",
      "[('s', 'http://www.wikidata.org/entity/Q192955'), ('name', 'Steve Nash')]\n",
      "[('s', 'http://www.wikidata.org/entity/Q363246'), ('name', 'Bill Walton')]\n",
      "[('s', 'http://www.wikidata.org/entity/Q456776'), ('name', 'Wes Unseld')]\n",
      "[('s', 'http://www.wikidata.org/entity/Q553232'), ('name', 'Bob McAdoo')]\n",
      "[('s', 'http://www.wikidata.org/entity/Q8991894'), ('name', 'Giannis Antetokounmpo')]\n",
      "[('s', 'http://www.wikidata.org/entity/Q136678'), ('name', 'James Harden')]\n",
      "[('s', 'http://www.wikidata.org/entity/Q316179'), ('name', 'Moses Malone')]\n",
      "[('s', 'http://www.wikidata.org/entity/Q352159'), ('name', 'Stephen Curry')]\n",
      "[('s', 'http://www.wikidata.org/entity/Q17281073'), ('name', 'Nikola Jokić')]\n",
      "[('s', 'http://www.wikidata.org/entity/Q205326'), ('name', 'Derrick Rose')]\n",
      "35\n"
     ]
    }
   ],
   "source": [
    "#return who have a link award received pointing to NBA Most Valuable Player Award without distinct\n",
    "queryString = \"\"\"\n",
    "SELECT ?s ?name\n",
    "WHERE {\n",
    "   ?s wdt:P166 wd:Q222047.\n",
    "   \n",
    "   ?s sc:name ?name\n",
    "}\n",
    "LIMIT 100\n",
    "\"\"\"\n",
    "\n",
    "print(\"Results\")\n",
    "x=run_query(queryString)"
   ]
  },
  {
   "cell_type": "code",
   "execution_count": 131,
   "id": "6930f934-3501-4bcb-860c-14d7f04005db",
   "metadata": {},
   "outputs": [
    {
     "name": "stdout",
     "output_type": "stream",
     "text": [
      "Results\n",
      "[('p', 'http://www.wikidata.org/prop/direct/P1346'), ('name', 'winner')]\n",
      "[('p', 'http://www.wikidata.org/prop/direct/P1346'), ('name', 'winner')]\n",
      "[('p', 'http://www.wikidata.org/prop/direct/P1346'), ('name', 'winner')]\n",
      "[('p', 'http://www.wikidata.org/prop/direct/P1346'), ('name', 'winner')]\n",
      "[('p', 'http://www.wikidata.org/prop/direct/P1346'), ('name', 'winner')]\n",
      "[('p', 'http://www.wikidata.org/prop/direct/P1346'), ('name', 'winner')]\n",
      "[('p', 'http://www.wikidata.org/prop/direct/P1346'), ('name', 'winner')]\n",
      "[('p', 'http://www.wikidata.org/prop/direct/P1346'), ('name', 'winner')]\n",
      "[('p', 'http://www.wikidata.org/prop/direct/P1346'), ('name', 'winner')]\n",
      "[('p', 'http://www.wikidata.org/prop/direct/P1346'), ('name', 'winner')]\n",
      "[('p', 'http://www.wikidata.org/prop/direct/P1346'), ('name', 'winner')]\n",
      "[('p', 'http://www.wikidata.org/prop/direct/P1346'), ('name', 'winner')]\n",
      "[('p', 'http://www.wikidata.org/prop/direct/P1346'), ('name', 'winner')]\n",
      "[('p', 'http://www.wikidata.org/prop/direct/P1346'), ('name', 'winner')]\n",
      "[('p', 'http://www.wikidata.org/prop/direct/P1346'), ('name', 'winner')]\n",
      "[('p', 'http://www.wikidata.org/prop/direct/P1346'), ('name', 'winner')]\n",
      "[('p', 'http://www.wikidata.org/prop/direct/P1346'), ('name', 'winner')]\n",
      "[('p', 'http://www.wikidata.org/prop/direct/P1346'), ('name', 'winner')]\n",
      "[('p', 'http://www.wikidata.org/prop/direct/P1346'), ('name', 'winner')]\n",
      "[('p', 'http://www.wikidata.org/prop/direct/P1346'), ('name', 'winner')]\n",
      "[('p', 'http://www.wikidata.org/prop/direct/P1346'), ('name', 'winner')]\n",
      "[('p', 'http://www.wikidata.org/prop/direct/P1346'), ('name', 'winner')]\n",
      "[('p', 'http://www.wikidata.org/prop/direct/P1346'), ('name', 'winner')]\n",
      "[('p', 'http://www.wikidata.org/prop/direct/P1346'), ('name', 'winner')]\n",
      "[('p', 'http://www.wikidata.org/prop/direct/P1346'), ('name', 'winner')]\n",
      "[('p', 'http://www.wikidata.org/prop/direct/P1346'), ('name', 'winner')]\n",
      "[('p', 'http://www.wikidata.org/prop/direct/P1346'), ('name', 'winner')]\n",
      "[('p', 'http://www.wikidata.org/prop/direct/P1346'), ('name', 'winner')]\n",
      "[('p', 'http://www.wikidata.org/prop/direct/P1346'), ('name', 'winner')]\n",
      "[('p', 'http://www.wikidata.org/prop/direct/P1346'), ('name', 'winner')]\n",
      "[('p', 'http://www.wikidata.org/prop/direct/P1346'), ('name', 'winner')]\n",
      "[('p', 'http://www.wikidata.org/prop/direct/P1346'), ('name', 'winner')]\n",
      "[('p', 'http://www.wikidata.org/prop/direct/P1346'), ('name', 'winner')]\n",
      "[('p', 'http://www.wikidata.org/prop/direct/P1346'), ('name', 'winner')]\n",
      "[('p', 'http://www.wikidata.org/prop/direct/P1346'), ('name', 'winner')]\n",
      "[('p', 'http://www.wikidata.org/prop/direct/P17'), ('name', 'country')]\n",
      "[('p', 'http://www.wikidata.org/prop/direct/P1814'), ('name', 'name in kana')]\n",
      "[('p', 'http://www.wikidata.org/prop/direct/P31'), ('name', 'instance of')]\n",
      "[('p', 'http://www.wikidata.org/prop/direct/P571'), ('name', 'inception')]\n",
      "[('p', 'http://www.wikidata.org/prop/direct/P641'), ('name', 'sport')]\n",
      "[('p', 'http://www.wikidata.org/prop/direct/P646'), ('name', 'Freebase ID')]\n",
      "[('p', 'http://www.wikidata.org/prop/direct/P910'), ('name', \"topic's main category\")]\n",
      "42\n"
     ]
    }
   ],
   "source": [
    "#return properties for NBA Most Valuable Player Award\n",
    "queryString = \"\"\"\n",
    "SELECT ?p ?name\n",
    "WHERE {\n",
    "   wd:Q222047 ?p ?o.\n",
    "   \n",
    "   ?p sc:name ?name\n",
    "}\n",
    "LIMIT 100\n",
    "\"\"\"\n",
    "\n",
    "print(\"Results\")\n",
    "x=run_query(queryString)"
   ]
  },
  {
   "cell_type": "code",
   "execution_count": 132,
   "id": "21a475d4-08f7-4dc4-ac74-9f7111268bd3",
   "metadata": {},
   "outputs": [
    {
     "name": "stdout",
     "output_type": "stream",
     "text": [
      "Results\n",
      "[('o', 'http://www.wikidata.org/entity/Q7865896'), ('name', 'USBWA National Freshman of the Year')]\n",
      "[('o', 'http://www.wikidata.org/entity/Q1418009'), ('name', 'NBA All-Rookie Team')]\n",
      "[('o', 'http://www.wikidata.org/entity/Q1641970'), ('name', 'John R. Wooden Award')]\n",
      "[('o', 'http://www.wikidata.org/entity/Q222047'), ('name', 'NBA Most Valuable Player Award')]\n",
      "[('o', 'http://www.wikidata.org/entity/Q31391'), ('name', 'NBA All-Star Game Kobe Bryant Most Valuable Player Award')]\n",
      "[('o', 'http://www.wikidata.org/entity/Q4835465'), ('name', 'BET Award for Athlete of the Century')]\n",
      "[('o', 'http://www.wikidata.org/entity/Q4896724'), ('name', 'Best Male Athlete ESPY Award')]\n",
      "[('o', 'http://www.wikidata.org/entity/Q644357'), ('name', 'NBA Rookie of the Year Award')]\n",
      "[('o', 'http://www.wikidata.org/entity/Q674359'), ('name', 'All-NBA Team')]\n",
      "[('o', 'http://www.wikidata.org/entity/Q943106'), ('name', 'Best NBA Player ESPY Award')]\n",
      "[('o', 'http://www.wikidata.org/entity/Q4896727'), ('name', 'Best Male College Athlete ESPY Award')]\n",
      "[('o', 'http://www.wikidata.org/entity/Q4904894'), ('name', \"Big 12 Conference Men's Basketball Player of the Year\")]\n",
      "12\n"
     ]
    }
   ],
   "source": [
    "#return Durant' awards received \n",
    "queryString = \"\"\"\n",
    "SELECT ?o ?name\n",
    "WHERE {\n",
    "   wd:Q29545 wdt:P166 ?o .\n",
    "   ?o sc:name ?name\n",
    "}\n",
    "LIMIT 100\n",
    "\"\"\"\n",
    "\n",
    "print(\"Results\")\n",
    "x=run_query(queryString)"
   ]
  },
  {
   "cell_type": "code",
   "execution_count": 13,
   "id": "6c3e9409-2c7c-4314-ba36-cb48a1e8cbba",
   "metadata": {},
   "outputs": [
    {
     "name": "stdout",
     "output_type": "stream",
     "text": [
      "Results\n",
      "[('p', 'http://www.wikidata.org/prop/direct/P1346'), ('name', 'winner'), ('o', 'http://www.wikidata.org/entity/Q179051'), ('oName', 'Kareem Abdul-Jabbar')]\n",
      "[('p', 'http://www.wikidata.org/prop/direct/P17'), ('name', 'country'), ('o', 'http://www.wikidata.org/entity/Q30'), ('oName', 'United States of America')]\n",
      "[('p', 'http://www.wikidata.org/prop/direct/P641'), ('name', 'sport'), ('o', 'http://www.wikidata.org/entity/Q5372'), ('oName', 'basketball')]\n",
      "[('p', 'http://www.wikidata.org/prop/direct/P1346'), ('name', 'winner'), ('o', 'http://www.wikidata.org/entity/Q134183'), ('oName', 'Magic Johnson')]\n",
      "[('p', 'http://www.wikidata.org/prop/direct/P1346'), ('name', 'winner'), ('o', 'http://www.wikidata.org/entity/Q17717'), ('oName', 'Oscar Robertson')]\n",
      "[('p', 'http://www.wikidata.org/prop/direct/P1346'), ('name', 'winner'), ('o', 'http://www.wikidata.org/entity/Q182455'), ('oName', 'Wilt Chamberlain')]\n",
      "[('p', 'http://www.wikidata.org/prop/direct/P1346'), ('name', 'winner'), ('o', 'http://www.wikidata.org/entity/Q189240'), ('oName', 'Kevin Garnett')]\n",
      "[('p', 'http://www.wikidata.org/prop/direct/P1346'), ('name', 'winner'), ('o', 'http://www.wikidata.org/entity/Q190094'), ('oName', 'Allen Iverson')]\n",
      "[('p', 'http://www.wikidata.org/prop/direct/P1346'), ('name', 'winner'), ('o', 'http://www.wikidata.org/entity/Q190152'), ('oName', 'Larry Bird')]\n",
      "[('p', 'http://www.wikidata.org/prop/direct/P1346'), ('name', 'winner'), ('o', 'http://www.wikidata.org/entity/Q192707'), ('oName', 'Charles Barkley')]\n",
      "[('p', 'http://www.wikidata.org/prop/direct/P1346'), ('name', 'winner'), ('o', 'http://www.wikidata.org/entity/Q193020'), ('oName', 'Tim Duncan')]\n",
      "[('p', 'http://www.wikidata.org/prop/direct/P1346'), ('name', 'winner'), ('o', 'http://www.wikidata.org/entity/Q196185'), ('oName', 'Russell Westbrook')]\n",
      "[('p', 'http://www.wikidata.org/prop/direct/P1346'), ('name', 'winner'), ('o', 'http://www.wikidata.org/entity/Q199896'), ('oName', 'Karl Malone')]\n",
      "[('p', 'http://www.wikidata.org/prop/direct/P1346'), ('name', 'winner'), ('o', 'http://www.wikidata.org/entity/Q209921'), ('oName', 'Julius Erving')]\n",
      "[('p', 'http://www.wikidata.org/prop/direct/P1346'), ('name', 'winner'), ('o', 'http://www.wikidata.org/entity/Q242185'), ('oName', 'Bill Russell')]\n",
      "[('p', 'http://www.wikidata.org/prop/direct/P1346'), ('name', 'winner'), ('o', 'http://www.wikidata.org/entity/Q25369'), ('oName', 'Kobe Bryant')]\n",
      "[('p', 'http://www.wikidata.org/prop/direct/P1346'), ('name', 'winner'), ('o', 'http://www.wikidata.org/entity/Q264393'), ('oName', 'Dave Cowens')]\n",
      "[('p', 'http://www.wikidata.org/prop/direct/P1346'), ('name', 'winner'), ('o', 'http://www.wikidata.org/entity/Q29545'), ('oName', 'Kevin Durant')]\n",
      "[('p', 'http://www.wikidata.org/prop/direct/P1346'), ('name', 'winner'), ('o', 'http://www.wikidata.org/entity/Q312643'), ('oName', 'Bob Cousy')]\n",
      "[('p', 'http://www.wikidata.org/prop/direct/P1346'), ('name', 'winner'), ('o', 'http://www.wikidata.org/entity/Q36159'), ('oName', 'LeBron James')]\n",
      "[('p', 'http://www.wikidata.org/prop/direct/P1346'), ('name', 'winner'), ('o', 'http://www.wikidata.org/entity/Q368561'), ('oName', 'Bob Pettit')]\n",
      "[('p', 'http://www.wikidata.org/prop/direct/P1346'), ('name', 'winner'), ('o', 'http://www.wikidata.org/entity/Q380515'), ('oName', 'Willis Reed')]\n",
      "[('p', 'http://www.wikidata.org/prop/direct/P1346'), ('name', 'winner'), ('o', 'http://www.wikidata.org/entity/Q41421'), ('oName', 'Michael Jordan')]\n",
      "[('p', 'http://www.wikidata.org/prop/direct/P31'), ('name', 'instance of'), ('o', 'http://www.wikidata.org/entity/Q652965'), ('oName', 'most valuable player award')]\n",
      "[('p', 'http://www.wikidata.org/prop/direct/P1346'), ('name', 'winner'), ('o', 'http://www.wikidata.org/entity/Q44068'), ('oName', 'Dirk Nowitzki')]\n",
      "[('p', 'http://www.wikidata.org/prop/direct/P1346'), ('name', 'winner'), ('o', 'http://www.wikidata.org/entity/Q273256'), ('oName', 'Hakeem Olajuwon')]\n",
      "[('p', 'http://www.wikidata.org/prop/direct/P1346'), ('name', 'winner'), ('o', 'http://www.wikidata.org/entity/Q211876'), ('oName', 'David Robinson')]\n",
      "[('p', 'http://www.wikidata.org/prop/direct/P1346'), ('name', 'winner'), ('o', 'http://www.wikidata.org/entity/Q192955'), ('oName', 'Steve Nash')]\n",
      "[('p', 'http://www.wikidata.org/prop/direct/P1346'), ('name', 'winner'), ('o', 'http://www.wikidata.org/entity/Q363246'), ('oName', 'Bill Walton')]\n",
      "[('p', 'http://www.wikidata.org/prop/direct/P1346'), ('name', 'winner'), ('o', 'http://www.wikidata.org/entity/Q456776'), ('oName', 'Wes Unseld')]\n",
      "[('p', 'http://www.wikidata.org/prop/direct/P1346'), ('name', 'winner'), ('o', 'http://www.wikidata.org/entity/Q553232'), ('oName', 'Bob McAdoo')]\n",
      "[('p', 'http://www.wikidata.org/prop/direct/P1346'), ('name', 'winner'), ('o', 'http://www.wikidata.org/entity/Q8991894'), ('oName', 'Giannis Antetokounmpo')]\n",
      "[('p', 'http://www.wikidata.org/prop/direct/P1346'), ('name', 'winner'), ('o', 'http://www.wikidata.org/entity/Q136678'), ('oName', 'James Harden')]\n",
      "[('p', 'http://www.wikidata.org/prop/direct/P1346'), ('name', 'winner'), ('o', 'http://www.wikidata.org/entity/Q316179'), ('oName', 'Moses Malone')]\n",
      "[('p', 'http://www.wikidata.org/prop/direct/P1346'), ('name', 'winner'), ('o', 'http://www.wikidata.org/entity/Q352159'), ('oName', 'Stephen Curry')]\n",
      "[('p', 'http://www.wikidata.org/prop/direct/P1346'), ('name', 'winner'), ('o', 'http://www.wikidata.org/entity/Q205326'), ('oName', 'Derrick Rose')]\n",
      "[('p', 'http://www.wikidata.org/prop/direct/P1346'), ('name', 'winner'), ('o', 'http://www.wikidata.org/entity/Q27662581'), ('oName', 'Alex Caruso')]\n",
      "[('p', 'http://www.wikidata.org/prop/direct/P1346'), ('name', 'winner'), ('o', 'http://www.wikidata.org/entity/Q647516'), ('oName', 'Zach Brown')]\n",
      "38\n"
     ]
    }
   ],
   "source": [
    "#return properties and objects for NBA Most Valuable Player Award\n",
    "queryString = \"\"\"\n",
    "SELECT ?p ?name ?o ?oName\n",
    "WHERE {\n",
    "   wd:Q222047 ?p ?o.\n",
    "   \n",
    "   ?p sc:name ?name.\n",
    "   ?o sc:name ?oName.\n",
    "}\n",
    "LIMIT 100\n",
    "\"\"\"\n",
    "\n",
    "print(\"Results\")\n",
    "x=run_query(queryString)"
   ]
  },
  {
   "cell_type": "code",
   "execution_count": 134,
   "id": "0b46cd0b-d199-4855-94f1-48addeccee2a",
   "metadata": {},
   "outputs": [
    {
     "name": "stdout",
     "output_type": "stream",
     "text": [
      "Results\n",
      "[('p', 'http://www.wikidata.org/prop/direct/P4560'), ('name', 'National Collegiate Basketball Hall of Fame ID')]\n",
      "[('p', 'http://www.wikidata.org/prop/direct/P4718'), ('name', 'Basketball-Reference.com NBA coach ID')]\n",
      "[('p', 'http://www.wikidata.org/prop/direct/P1050'), ('name', 'medical condition')]\n",
      "[('p', 'http://www.wikidata.org/prop/direct/P106'), ('name', 'occupation')]\n",
      "[('p', 'http://www.wikidata.org/prop/direct/P106'), ('name', 'occupation')]\n",
      "[('p', 'http://www.wikidata.org/prop/direct/P106'), ('name', 'occupation')]\n",
      "[('p', 'http://www.wikidata.org/prop/direct/P106'), ('name', 'occupation')]\n",
      "[('p', 'http://www.wikidata.org/prop/direct/P118'), ('name', 'league')]\n",
      "[('p', 'http://www.wikidata.org/prop/direct/P118'), ('name', 'league')]\n",
      "[('p', 'http://www.wikidata.org/prop/direct/P1263'), ('name', 'NNDB people ID')]\n",
      "[('p', 'http://www.wikidata.org/prop/direct/P1315'), ('name', 'NLA Trove ID')]\n",
      "[('p', 'http://www.wikidata.org/prop/direct/P1344'), ('name', 'participant in')]\n",
      "[('p', 'http://www.wikidata.org/prop/direct/P1417'), ('name', 'Encyclopædia Britannica Online ID')]\n",
      "[('p', 'http://www.wikidata.org/prop/direct/P1447'), ('name', 'Sports-Reference.com Olympic athlete ID')]\n",
      "[('p', 'http://www.wikidata.org/prop/direct/P1477'), ('name', 'birth name')]\n",
      "[('p', 'http://www.wikidata.org/prop/direct/P1532'), ('name', 'country for sport')]\n",
      "[('p', 'http://www.wikidata.org/prop/direct/P166'), ('name', 'award received')]\n",
      "[('p', 'http://www.wikidata.org/prop/direct/P166'), ('name', 'award received')]\n",
      "[('p', 'http://www.wikidata.org/prop/direct/P166'), ('name', 'award received')]\n",
      "[('p', 'http://www.wikidata.org/prop/direct/P166'), ('name', 'award received')]\n",
      "[('p', 'http://www.wikidata.org/prop/direct/P166'), ('name', 'award received')]\n",
      "[('p', 'http://www.wikidata.org/prop/direct/P166'), ('name', 'award received')]\n",
      "[('p', 'http://www.wikidata.org/prop/direct/P166'), ('name', 'award received')]\n",
      "[('p', 'http://www.wikidata.org/prop/direct/P172'), ('name', 'ethnic group')]\n",
      "[('p', 'http://www.wikidata.org/prop/direct/P18'), ('name', 'image')]\n",
      "[('p', 'http://www.wikidata.org/prop/direct/P19'), ('name', 'place of birth')]\n",
      "[('p', 'http://www.wikidata.org/prop/direct/P2031'), ('name', 'work period (start)')]\n",
      "[('p', 'http://www.wikidata.org/prop/direct/P2032'), ('name', 'work period (end)')]\n",
      "[('p', 'http://www.wikidata.org/prop/direct/P2048'), ('name', 'height')]\n",
      "[('p', 'http://www.wikidata.org/prop/direct/P2067'), ('name', 'mass')]\n",
      "[('p', 'http://www.wikidata.org/prop/direct/P2094'), ('name', 'competition class')]\n",
      "[('p', 'http://www.wikidata.org/prop/direct/P21'), ('name', 'sex or gender')]\n",
      "[('p', 'http://www.wikidata.org/prop/direct/P213'), ('name', 'ISNI')]\n",
      "[('p', 'http://www.wikidata.org/prop/direct/P214'), ('name', 'VIAF ID')]\n",
      "[('p', 'http://www.wikidata.org/prop/direct/P2163'), ('name', 'FAST ID')]\n",
      "[('p', 'http://www.wikidata.org/prop/direct/P227'), ('name', 'GND ID')]\n",
      "[('p', 'http://www.wikidata.org/prop/direct/P2435'), ('name', 'PORT person ID')]\n",
      "[('p', 'http://www.wikidata.org/prop/direct/P244'), ('name', 'Library of Congress authority ID')]\n",
      "[('p', 'http://www.wikidata.org/prop/direct/P26'), ('name', 'spouse')]\n",
      "[('p', 'http://www.wikidata.org/prop/direct/P2638'), ('name', 'TV.com ID')]\n",
      "[('p', 'http://www.wikidata.org/prop/direct/P27'), ('name', 'country of citizenship')]\n",
      "[('p', 'http://www.wikidata.org/prop/direct/P2924'), ('name', 'Great Russian Encyclopedia Online ID')]\n",
      "[('p', 'http://www.wikidata.org/prop/direct/P31'), ('name', 'instance of')]\n",
      "[('p', 'http://www.wikidata.org/prop/direct/P3219'), ('name', 'Encyclopædia Universalis ID')]\n",
      "[('p', 'http://www.wikidata.org/prop/direct/P3373'), ('name', 'sibling')]\n",
      "[('p', 'http://www.wikidata.org/prop/direct/P3417'), ('name', 'Quora topic ID')]\n",
      "[('p', 'http://www.wikidata.org/prop/direct/P345'), ('name', 'IMDb ID')]\n",
      "[('p', 'http://www.wikidata.org/prop/direct/P3542'), ('name', 'FIBA player ID')]\n",
      "[('p', 'http://www.wikidata.org/prop/direct/P3696'), ('name', 'Sports-Reference.com college basketball player ID')]\n",
      "[('p', 'http://www.wikidata.org/prop/direct/P373'), ('name', 'Commons category')]\n",
      "[('p', 'http://www.wikidata.org/prop/direct/P3957'), ('name', 'RealGM basketball player ID')]\n",
      "[('p', 'http://www.wikidata.org/prop/direct/P409'), ('name', 'Libraries Australia ID')]\n",
      "[('p', 'http://www.wikidata.org/prop/direct/P413'), ('name', 'position played on team / speciality')]\n",
      "[('p', 'http://www.wikidata.org/prop/direct/P4342'), ('name', 'Store norske leksikon ID')]\n",
      "[('p', 'http://www.wikidata.org/prop/direct/P463'), ('name', 'member of')]\n",
      "[('p', 'http://www.wikidata.org/prop/direct/P4790'), ('name', 'Basketball-Reference.com international player ID')]\n",
      "[('p', 'http://www.wikidata.org/prop/direct/P4985'), ('name', 'TMDb person ID')]\n",
      "[('p', 'http://www.wikidata.org/prop/direct/P54'), ('name', 'member of sports team')]\n",
      "[('p', 'http://www.wikidata.org/prop/direct/P54'), ('name', 'member of sports team')]\n",
      "[('p', 'http://www.wikidata.org/prop/direct/P54'), ('name', 'member of sports team')]\n",
      "[('p', 'http://www.wikidata.org/prop/direct/P54'), ('name', 'member of sports team')]\n",
      "[('p', 'http://www.wikidata.org/prop/direct/P5421'), ('name', 'Trading Card Database person ID')]\n",
      "[('p', 'http://www.wikidata.org/prop/direct/P551'), ('name', 'residence')]\n",
      "[('p', 'http://www.wikidata.org/prop/direct/P551'), ('name', 'residence')]\n",
      "[('p', 'http://www.wikidata.org/prop/direct/P551'), ('name', 'residence')]\n",
      "[('p', 'http://www.wikidata.org/prop/direct/P551'), ('name', 'residence')]\n",
      "[('p', 'http://www.wikidata.org/prop/direct/P551'), ('name', 'residence')]\n",
      "[('p', 'http://www.wikidata.org/prop/direct/P569'), ('name', 'date of birth')]\n",
      "[('p', 'http://www.wikidata.org/prop/direct/P641'), ('name', 'sport')]\n",
      "[('p', 'http://www.wikidata.org/prop/direct/P646'), ('name', 'Freebase ID')]\n",
      "[('p', 'http://www.wikidata.org/prop/direct/P6723'), ('name', 'BlackPast.org ID')]\n",
      "[('p', 'http://www.wikidata.org/prop/direct/P69'), ('name', 'educated at')]\n",
      "[('p', 'http://www.wikidata.org/prop/direct/P69'), ('name', 'educated at')]\n",
      "[('p', 'http://www.wikidata.org/prop/direct/P734'), ('name', 'family name')]\n",
      "[('p', 'http://www.wikidata.org/prop/direct/P735'), ('name', 'given name')]\n",
      "[('p', 'http://www.wikidata.org/prop/direct/P735'), ('name', 'given name')]\n",
      "[('p', 'http://www.wikidata.org/prop/direct/P7859'), ('name', 'WorldCat Identities ID')]\n",
      "[('p', 'http://www.wikidata.org/prop/direct/P8286'), ('name', 'Olympedia people ID')]\n",
      "[('p', 'http://www.wikidata.org/prop/direct/P8548'), ('name', 'Proballers ID')]\n",
      "[('p', 'http://www.wikidata.org/prop/direct/P2685'), ('name', 'Basketball Reference NBA player ID')]\n",
      "[('p', 'http://www.wikidata.org/prop/direct/P3646'), ('name', 'Naismith Memorial Basketball Hall of Fame ID')]\n",
      "[('p', 'http://www.wikidata.org/prop/direct/P3647'), ('name', 'NBA.com player ID')]\n",
      "[('p', 'http://www.wikidata.org/prop/direct/P647'), ('name', 'drafted by')]\n",
      "83\n"
     ]
    }
   ],
   "source": [
    "#return properties for Bill Russell\n",
    "queryString = \"\"\"\n",
    "SELECT ?p ?name\n",
    "WHERE {\n",
    "   wd:Q242185 ?p ?o .\n",
    "   ?p sc:name ?name\n",
    "}\n",
    "LIMIT 100\n",
    "\"\"\"\n",
    "\n",
    "print(\"Results\")\n",
    "x=run_query(queryString)"
   ]
  },
  {
   "cell_type": "code",
   "execution_count": 135,
   "id": "546212f8-5b26-49ce-94ef-a0025b7d766a",
   "metadata": {},
   "outputs": [
    {
     "name": "stdout",
     "output_type": "stream",
     "text": [
      "Results\n",
      "[('p', 'http://www.w3.org/1999/02/22-rdf-syntax-ns#type')]\n",
      "[('p', 'http://www.wikidata.org/prop/direct/P4560')]\n",
      "[('p', 'http://www.wikidata.org/prop/direct/P4718')]\n",
      "[('p', 'http://www.wikidata.org/prop/direct-normalized/P214')]\n",
      "[('p', 'http://www.wikidata.org/prop/direct-normalized/P2163')]\n",
      "[('p', 'http://www.wikidata.org/prop/direct-normalized/P227')]\n",
      "[('p', 'http://www.wikidata.org/prop/direct-normalized/P244')]\n",
      "[('p', 'http://www.wikidata.org/prop/direct-normalized/P646')]\n",
      "[('p', 'http://www.wikidata.org/prop/direct/P1050')]\n",
      "[('p', 'http://www.wikidata.org/prop/direct/P106')]\n",
      "[('p', 'http://www.wikidata.org/prop/direct/P106')]\n",
      "[('p', 'http://www.wikidata.org/prop/direct/P106')]\n",
      "[('p', 'http://www.wikidata.org/prop/direct/P106')]\n",
      "[('p', 'http://www.wikidata.org/prop/direct/P118')]\n",
      "[('p', 'http://www.wikidata.org/prop/direct/P118')]\n",
      "[('p', 'http://www.wikidata.org/prop/direct/P1263')]\n",
      "[('p', 'http://www.wikidata.org/prop/direct/P1315')]\n",
      "[('p', 'http://www.wikidata.org/prop/direct/P1344')]\n",
      "[('p', 'http://www.wikidata.org/prop/direct/P1417')]\n",
      "[('p', 'http://www.wikidata.org/prop/direct/P1447')]\n",
      "[('p', 'http://www.wikidata.org/prop/direct/P1477')]\n",
      "[('p', 'http://www.wikidata.org/prop/direct/P1532')]\n",
      "[('p', 'http://www.wikidata.org/prop/direct/P166')]\n",
      "[('p', 'http://www.wikidata.org/prop/direct/P166')]\n",
      "[('p', 'http://www.wikidata.org/prop/direct/P166')]\n",
      "[('p', 'http://www.wikidata.org/prop/direct/P166')]\n",
      "[('p', 'http://www.wikidata.org/prop/direct/P166')]\n",
      "[('p', 'http://www.wikidata.org/prop/direct/P166')]\n",
      "[('p', 'http://www.wikidata.org/prop/direct/P166')]\n",
      "[('p', 'http://www.wikidata.org/prop/direct/P172')]\n",
      "[('p', 'http://www.wikidata.org/prop/direct/P18')]\n",
      "[('p', 'http://www.wikidata.org/prop/direct/P19')]\n",
      "[('p', 'http://www.wikidata.org/prop/direct/P2031')]\n",
      "[('p', 'http://www.wikidata.org/prop/direct/P2032')]\n",
      "[('p', 'http://www.wikidata.org/prop/direct/P2048')]\n",
      "[('p', 'http://www.wikidata.org/prop/direct/P2067')]\n",
      "[('p', 'http://www.wikidata.org/prop/direct/P2094')]\n",
      "[('p', 'http://www.wikidata.org/prop/direct/P21')]\n",
      "[('p', 'http://www.wikidata.org/prop/direct/P213')]\n",
      "[('p', 'http://www.wikidata.org/prop/direct/P214')]\n",
      "[('p', 'http://www.wikidata.org/prop/direct/P2163')]\n",
      "[('p', 'http://www.wikidata.org/prop/direct/P227')]\n",
      "[('p', 'http://www.wikidata.org/prop/direct/P2435')]\n",
      "[('p', 'http://www.wikidata.org/prop/direct/P244')]\n",
      "[('p', 'http://www.wikidata.org/prop/direct/P26')]\n",
      "[('p', 'http://www.wikidata.org/prop/direct/P2638')]\n",
      "[('p', 'http://www.wikidata.org/prop/direct/P27')]\n",
      "[('p', 'http://www.wikidata.org/prop/direct/P2924')]\n",
      "[('p', 'http://www.wikidata.org/prop/direct/P31')]\n",
      "[('p', 'http://www.wikidata.org/prop/direct/P3219')]\n",
      "[('p', 'http://www.wikidata.org/prop/direct/P3373')]\n",
      "[('p', 'http://www.wikidata.org/prop/direct/P3417')]\n",
      "[('p', 'http://www.wikidata.org/prop/direct/P345')]\n",
      "[('p', 'http://www.wikidata.org/prop/direct/P3542')]\n",
      "[('p', 'http://www.wikidata.org/prop/direct/P3696')]\n",
      "[('p', 'http://www.wikidata.org/prop/direct/P373')]\n",
      "[('p', 'http://www.wikidata.org/prop/direct/P3957')]\n",
      "[('p', 'http://www.wikidata.org/prop/direct/P409')]\n",
      "[('p', 'http://www.wikidata.org/prop/direct/P413')]\n",
      "[('p', 'http://www.wikidata.org/prop/direct/P4342')]\n",
      "[('p', 'http://www.wikidata.org/prop/direct/P463')]\n",
      "[('p', 'http://www.wikidata.org/prop/direct/P4790')]\n",
      "[('p', 'http://www.wikidata.org/prop/direct/P4985')]\n",
      "[('p', 'http://www.wikidata.org/prop/direct/P54')]\n",
      "[('p', 'http://www.wikidata.org/prop/direct/P54')]\n",
      "[('p', 'http://www.wikidata.org/prop/direct/P54')]\n",
      "[('p', 'http://www.wikidata.org/prop/direct/P54')]\n",
      "[('p', 'http://www.wikidata.org/prop/direct/P5421')]\n",
      "[('p', 'http://www.wikidata.org/prop/direct/P551')]\n",
      "[('p', 'http://www.wikidata.org/prop/direct/P551')]\n",
      "[('p', 'http://www.wikidata.org/prop/direct/P551')]\n",
      "[('p', 'http://www.wikidata.org/prop/direct/P551')]\n",
      "[('p', 'http://www.wikidata.org/prop/direct/P551')]\n",
      "[('p', 'http://www.wikidata.org/prop/direct/P569')]\n",
      "[('p', 'http://www.wikidata.org/prop/direct/P641')]\n",
      "[('p', 'http://www.wikidata.org/prop/direct/P646')]\n",
      "[('p', 'http://www.wikidata.org/prop/direct/P6723')]\n",
      "[('p', 'http://www.wikidata.org/prop/direct/P69')]\n",
      "[('p', 'http://www.wikidata.org/prop/direct/P69')]\n",
      "[('p', 'http://www.wikidata.org/prop/direct/P734')]\n",
      "[('p', 'http://www.wikidata.org/prop/direct/P735')]\n",
      "[('p', 'http://www.wikidata.org/prop/direct/P735')]\n",
      "[('p', 'http://www.wikidata.org/prop/direct/P7859')]\n",
      "[('p', 'http://www.wikidata.org/prop/direct/P8286')]\n",
      "[('p', 'http://www.wikidata.org/prop/direct/P8548')]\n",
      "[('p', 'http://schema.org/name')]\n",
      "[('p', 'http://www.wikidata.org/prop/direct/P2685')]\n",
      "[('p', 'http://www.wikidata.org/prop/direct/P3646')]\n",
      "[('p', 'http://www.wikidata.org/prop/direct/P3647')]\n",
      "[('p', 'http://www.wikidata.org/prop/direct/P647')]\n",
      "90\n"
     ]
    }
   ],
   "source": [
    "#return #return properties for Bill Russell\n",
    "queryString = \"\"\"\n",
    "SELECT ?p ?name\n",
    "WHERE {\n",
    "   wd:Q242185 ?p ?o .\n",
    "}\n",
    "LIMIT 100\n",
    "\"\"\"\n",
    "\n",
    "print(\"Results\")\n",
    "x=run_query(queryString)"
   ]
  },
  {
   "cell_type": "code",
   "execution_count": 136,
   "id": "0608d1c6-4c91-4595-8768-285978e5e63b",
   "metadata": {},
   "outputs": [
    {
     "name": "stdout",
     "output_type": "stream",
     "text": [
      "Results\n",
      "[('p', 'http://www.wikidata.org/prop/direct/P1346'), ('name', 'winner')]\n",
      "1\n"
     ]
    }
   ],
   "source": [
    "#return properties linking NBA Most Valuable Player Award and Lebron \n",
    "queryString = \"\"\"\n",
    "SELECT ?p ?name\n",
    "WHERE {\n",
    "   wd:Q222047 ?p wd:Q36159.\n",
    "   \n",
    "   ?p sc:name ?name\n",
    "}\n",
    "LIMIT 100\n",
    "\"\"\"\n",
    "\n",
    "print(\"Results\")\n",
    "x=run_query(queryString)"
   ]
  },
  {
   "cell_type": "code",
   "execution_count": 137,
   "id": "2553099d-ec3f-4ac9-9449-bcd7e6849548",
   "metadata": {},
   "outputs": [
    {
     "name": "stdout",
     "output_type": "stream",
     "text": [
      "Results\n",
      "Empty\n"
     ]
    }
   ],
   "source": [
    "#return subproperties for winner\n",
    "queryString = \"\"\"\n",
    "SELECT ?s ?name\n",
    "WHERE {\n",
    "   ?s wdt:P1647 wdt:P1346.\n",
    "   \n",
    "   ?s sc:name ?name\n",
    "}\n",
    "LIMIT 100\n",
    "\"\"\"\n",
    "\n",
    "print(\"Results\")\n",
    "x=run_query(queryString)"
   ]
  },
  {
   "cell_type": "code",
   "execution_count": 138,
   "id": "cff839a9-3e0f-48ad-9b28-67228c43a7f5",
   "metadata": {},
   "outputs": [
    {
     "name": "stdout",
     "output_type": "stream",
     "text": [
      "Results\n",
      "Empty\n"
     ]
    }
   ],
   "source": [
    "#return subproperties for winner\n",
    "queryString = \"\"\"\n",
    "SELECT ?o ?name\n",
    "WHERE {\n",
    "   wdt:P1346 wdt:P1647 ?o.\n",
    "   \n",
    "   ?o sc:name ?name\n",
    "}\n",
    "LIMIT 100\n",
    "\"\"\"\n",
    "\n",
    "print(\"Results\")\n",
    "x=run_query(queryString)"
   ]
  },
  {
   "cell_type": "code",
   "execution_count": 139,
   "id": "63f3a6b7-8893-4715-a6ed-d8bd7717413b",
   "metadata": {},
   "outputs": [
    {
     "name": "stdout",
     "output_type": "stream",
     "text": [
      "Results\n",
      "Empty\n"
     ]
    }
   ],
   "source": [
    "#return subproperties for NBA Most Valuable Player Award\n",
    "queryString = \"\"\"\n",
    "SELECT ?o ?name\n",
    "WHERE {\n",
    "   wd:Q222047 wdt:P1647 ?o.\n",
    "   \n",
    "   ?o sc:name ?name\n",
    "}\n",
    "LIMIT 100\n",
    "\"\"\"\n",
    "\n",
    "print(\"Results\")\n",
    "x=run_query(queryString)"
   ]
  },
  {
   "cell_type": "code",
   "execution_count": 140,
   "id": "cd02edf5-dbd3-45a1-86f5-45ade5acccfa",
   "metadata": {},
   "outputs": [
    {
     "name": "stdout",
     "output_type": "stream",
     "text": [
      "Results\n",
      "Empty\n"
     ]
    }
   ],
   "source": [
    "#return properties for winner\n",
    "queryString = \"\"\"\n",
    "SELECT ?p ?name\n",
    "WHERE {\n",
    "   wdt:P1346 ?p ?o.\n",
    "   \n",
    "   ?p sc:name ?name\n",
    "}\n",
    "LIMIT 100\n",
    "\"\"\"\n",
    "\n",
    "print(\"Results\")\n",
    "x=run_query(queryString)"
   ]
  },
  {
   "cell_type": "code",
   "execution_count": 141,
   "id": "ce06bbee-5406-4b03-a691-9abc1f1384aa",
   "metadata": {},
   "outputs": [
    {
     "name": "stdout",
     "output_type": "stream",
     "text": [
      "Results\n",
      "Empty\n"
     ]
    }
   ],
   "source": [
    "#return properties pointing to winner\n",
    "queryString = \"\"\"\n",
    "SELECT ?p ?name\n",
    "WHERE {\n",
    "    ?s ?p wdt:P1346.\n",
    "   \n",
    "   ?p sc:name ?name\n",
    "}\n",
    "LIMIT 100\n",
    "\"\"\"\n",
    "\n",
    "print(\"Results\")\n",
    "x=run_query(queryString)"
   ]
  },
  {
   "cell_type": "code",
   "execution_count": 142,
   "id": "5902c2eb-e606-4f49-94e5-ff2ae580d107",
   "metadata": {},
   "outputs": [
    {
     "name": "stdout",
     "output_type": "stream",
     "text": [
      "Results\n",
      "[('p', 'http://www.wikidata.org/prop/direct/P1346'), ('name', 'winner')]\n",
      "[('p', 'http://www.wikidata.org/prop/direct/P138'), ('name', 'named after')]\n",
      "[('p', 'http://www.wikidata.org/prop/direct/P17'), ('name', 'country')]\n",
      "[('p', 'http://www.wikidata.org/prop/direct/P1814'), ('name', 'name in kana')]\n",
      "[('p', 'http://www.wikidata.org/prop/direct/P276'), ('name', 'location')]\n",
      "[('p', 'http://www.wikidata.org/prop/direct/P279'), ('name', 'subclass of')]\n",
      "[('p', 'http://www.wikidata.org/prop/direct/P31'), ('name', 'instance of')]\n",
      "[('p', 'http://www.wikidata.org/prop/direct/P360'), ('name', 'is a list of')]\n",
      "[('p', 'http://www.wikidata.org/prop/direct/P361'), ('name', 'part of')]\n",
      "[('p', 'http://www.wikidata.org/prop/direct/P5008'), ('name', 'on focus list of Wikimedia project')]\n",
      "[('p', 'http://www.wikidata.org/prop/direct/P571'), ('name', 'inception')]\n",
      "[('p', 'http://www.wikidata.org/prop/direct/P641'), ('name', 'sport')]\n",
      "[('p', 'http://www.wikidata.org/prop/direct/P646'), ('name', 'Freebase ID')]\n",
      "[('p', 'http://www.wikidata.org/prop/direct/P856'), ('name', 'official website')]\n",
      "[('p', 'http://www.wikidata.org/prop/direct/P910'), ('name', \"topic's main category\")]\n",
      "[('p', 'http://www.wikidata.org/prop/direct/P973'), ('name', 'described at URL')]\n",
      "[('p', 'http://www.wikidata.org/prop/direct/P1027'), ('name', 'conferred by')]\n",
      "17\n"
     ]
    }
   ],
   "source": [
    "#return Lebron award received and properties for these awards\n",
    "queryString = \"\"\"\n",
    "SELECT DISTINCT ?p ?name\n",
    "WHERE {\n",
    "    wd:Q36159 wdt:P166 ?o.\n",
    "   ?o ?p ?something.\n",
    "   ?p sc:name ?name.\n",
    "}\n",
    "LIMIT 100\n",
    "\"\"\"\n",
    "\n",
    "print(\"Results\")\n",
    "x=run_query(queryString)"
   ]
  },
  {
   "cell_type": "code",
   "execution_count": 143,
   "id": "8e6401e8-15e4-4211-8993-16a9a97e9da2",
   "metadata": {},
   "outputs": [
    {
     "name": "stdout",
     "output_type": "stream",
     "text": [
      "Results\n",
      "Empty\n"
     ]
    }
   ],
   "source": [
    "#return Lebron award won and properties for these awards\n",
    "queryString = \"\"\"\n",
    "SELECT DISTINCT ?p ?name\n",
    "WHERE {\n",
    "    wd:Q36159 wdt:P1346 ?o.\n",
    "   ?o ?p ?something.\n",
    "   ?p sc:name ?name.\n",
    "}\n",
    "LIMIT 100\n",
    "\"\"\"\n",
    "\n",
    "print(\"Results\")\n",
    "x=run_query(queryString)"
   ]
  },
  {
   "cell_type": "code",
   "execution_count": 144,
   "id": "e8330f17-267f-4d53-b867-0a33cde04b02",
   "metadata": {},
   "outputs": [
    {
     "name": "stdout",
     "output_type": "stream",
     "text": [
      "Results\n",
      "[('p', 'http://www.wikidata.org/prop/direct/P4557'), ('name', 'Indiana Basketball Hall of Fame ID')]\n",
      "[('p', 'http://www.wikidata.org/prop/direct/P4507'), ('name', 'California Sports Hall of Fame athlete ID')]\n",
      "[('p', 'http://www.wikidata.org/prop/direct/P4560'), ('name', 'National Collegiate Basketball Hall of Fame ID')]\n",
      "[('p', 'http://www.wikidata.org/prop/direct/P4718'), ('name', 'Basketball-Reference.com NBA coach ID')]\n",
      "[('p', 'http://www.wikidata.org/prop/direct/P4367'), ('name', 'Louisiana Sports Hall of Fame ID')]\n",
      "[('p', 'http://www.wikidata.org/prop/direct/P4751'), ('name', 'Sports-Reference.com college basketball coach ID')]\n",
      "[('p', 'http://www.wikidata.org/prop/direct/P8777'), ('name', 'NCAA Statistics coach ID')]\n",
      "[('p', 'http://www.wikidata.org/prop/direct/P4720'), ('name', 'Basketball-Reference.com WNBA coach ID')]\n",
      "[('p', 'http://www.wikidata.org/prop/direct/P1006'), ('name', 'Nationale Thesaurus voor Auteurs ID')]\n",
      "[('p', 'http://www.wikidata.org/prop/direct/P1015'), ('name', 'NORAF ID')]\n",
      "[('p', 'http://www.wikidata.org/prop/direct/P102'), ('name', 'member of political party')]\n",
      "[('p', 'http://www.wikidata.org/prop/direct/P103'), ('name', 'native language')]\n",
      "[('p', 'http://www.wikidata.org/prop/direct/P1038'), ('name', 'relative')]\n",
      "[('p', 'http://www.wikidata.org/prop/direct/P1048'), ('name', 'NCL ID')]\n",
      "[('p', 'http://www.wikidata.org/prop/direct/P1050'), ('name', 'medical condition')]\n",
      "[('p', 'http://www.wikidata.org/prop/direct/P106'), ('name', 'occupation')]\n",
      "[('p', 'http://www.wikidata.org/prop/direct/P109'), ('name', 'signature')]\n",
      "[('p', 'http://www.wikidata.org/prop/direct/P1146'), ('name', 'World Athletics athlete ID')]\n",
      "[('p', 'http://www.wikidata.org/prop/direct/P118'), ('name', 'league')]\n",
      "[('p', 'http://www.wikidata.org/prop/direct/P119'), ('name', 'place of burial')]\n",
      "[('p', 'http://www.wikidata.org/prop/direct/P1196'), ('name', 'manner of death')]\n",
      "[('p', 'http://www.wikidata.org/prop/direct/P1207'), ('name', 'NUKAT ID')]\n",
      "[('p', 'http://www.wikidata.org/prop/direct/P1220'), ('name', 'Internet Broadway Database person ID')]\n",
      "[('p', 'http://www.wikidata.org/prop/direct/P1225'), ('name', 'U.S. National Archives Identifier')]\n",
      "[('p', 'http://www.wikidata.org/prop/direct/P1258'), ('name', 'Rotten Tomatoes ID')]\n",
      "[('p', 'http://www.wikidata.org/prop/direct/P1263'), ('name', 'NNDB people ID')]\n",
      "[('p', 'http://www.wikidata.org/prop/direct/P1266'), ('name', 'AlloCiné person ID')]\n",
      "[('p', 'http://www.wikidata.org/prop/direct/P1273'), ('name', 'CANTIC ID')]\n",
      "[('p', 'http://www.wikidata.org/prop/direct/P1280'), ('name', 'CONOR.SI ID')]\n",
      "[('p', 'http://www.wikidata.org/prop/direct/P1285'), ('name', 'Munzinger Sport number')]\n",
      "[('p', 'http://www.wikidata.org/prop/direct/P1296'), ('name', 'Gran Enciclopèdia Catalana ID')]\n",
      "[('p', 'http://www.wikidata.org/prop/direct/P1315'), ('name', 'NLA Trove ID')]\n",
      "[('p', 'http://www.wikidata.org/prop/direct/P1340'), ('name', 'eye color')]\n",
      "[('p', 'http://www.wikidata.org/prop/direct/P1343'), ('name', 'described by source')]\n",
      "[('p', 'http://www.wikidata.org/prop/direct/P1344'), ('name', 'participant in')]\n",
      "[('p', 'http://www.wikidata.org/prop/direct/P136'), ('name', 'genre')]\n",
      "[('p', 'http://www.wikidata.org/prop/direct/P1368'), ('name', 'LNB ID')]\n",
      "[('p', 'http://www.wikidata.org/prop/direct/P1375'), ('name', 'NSK ID')]\n",
      "[('p', 'http://www.wikidata.org/prop/direct/P140'), ('name', 'religion')]\n",
      "[('p', 'http://www.wikidata.org/prop/direct/P1411'), ('name', 'nominated for')]\n",
      "[('p', 'http://www.wikidata.org/prop/direct/P1412'), ('name', 'languages spoken, written or signed')]\n",
      "[('p', 'http://www.wikidata.org/prop/direct/P1417'), ('name', 'Encyclopædia Britannica Online ID')]\n",
      "[('p', 'http://www.wikidata.org/prop/direct/P1424'), ('name', \"topic's main template\")]\n",
      "[('p', 'http://www.wikidata.org/prop/direct/P1447'), ('name', 'Sports-Reference.com Olympic athlete ID')]\n",
      "[('p', 'http://www.wikidata.org/prop/direct/P1449'), ('name', 'nickname')]\n",
      "[('p', 'http://www.wikidata.org/prop/direct/P1477'), ('name', 'birth name')]\n",
      "[('p', 'http://www.wikidata.org/prop/direct/P1532'), ('name', 'country for sport')]\n",
      "[('p', 'http://www.wikidata.org/prop/direct/P1553'), ('name', 'Yandex Music artist ID')]\n",
      "[('p', 'http://www.wikidata.org/prop/direct/P1559'), ('name', 'name in native language')]\n",
      "[('p', 'http://www.wikidata.org/prop/direct/P1617'), ('name', 'BBC Things ID')]\n",
      "[('p', 'http://www.wikidata.org/prop/direct/P1618'), ('name', 'sport number')]\n",
      "[('p', 'http://www.wikidata.org/prop/direct/P166'), ('name', 'award received')]\n",
      "[('p', 'http://www.wikidata.org/prop/direct/P1670'), ('name', 'Canadiana Authorities ID (former scheme)')]\n",
      "[('p', 'http://www.wikidata.org/prop/direct/P1695'), ('name', 'NLP ID (unique)')]\n",
      "[('p', 'http://www.wikidata.org/prop/direct/P1712'), ('name', 'Metacritic ID')]\n",
      "[('p', 'http://www.wikidata.org/prop/direct/P172'), ('name', 'ethnic group')]\n",
      "[('p', 'http://www.wikidata.org/prop/direct/P1728'), ('name', 'AllMusic artist ID')]\n",
      "[('p', 'http://www.wikidata.org/prop/direct/P1741'), ('name', 'GTAA ID')]\n",
      "[('p', 'http://www.wikidata.org/prop/direct/P18'), ('name', 'image')]\n",
      "[('p', 'http://www.wikidata.org/prop/direct/P1819'), ('name', 'genealogics.org person ID')]\n",
      "[('p', 'http://www.wikidata.org/prop/direct/P1828'), ('name', 'IPI name number')]\n",
      "[('p', 'http://www.wikidata.org/prop/direct/P1830'), ('name', 'owner of')]\n",
      "[('p', 'http://www.wikidata.org/prop/direct/P1884'), ('name', 'hair color')]\n",
      "[('p', 'http://www.wikidata.org/prop/direct/P1889'), ('name', 'different from')]\n",
      "[('p', 'http://www.wikidata.org/prop/direct/P1890'), ('name', 'CCAB ID')]\n",
      "[('p', 'http://www.wikidata.org/prop/direct/P19'), ('name', 'place of birth')]\n",
      "[('p', 'http://www.wikidata.org/prop/direct/P1902'), ('name', 'Spotify artist ID')]\n",
      "[('p', 'http://www.wikidata.org/prop/direct/P1953'), ('name', 'Discogs artist ID')]\n",
      "[('p', 'http://www.wikidata.org/prop/direct/P1971'), ('name', 'number of children')]\n",
      "[('p', 'http://www.wikidata.org/prop/direct/P20'), ('name', 'place of death')]\n",
      "[('p', 'http://www.wikidata.org/prop/direct/P2002'), ('name', 'Twitter username')]\n",
      "[('p', 'http://www.wikidata.org/prop/direct/P2003'), ('name', 'Instagram username')]\n",
      "[('p', 'http://www.wikidata.org/prop/direct/P2013'), ('name', 'Facebook ID')]\n",
      "[('p', 'http://www.wikidata.org/prop/direct/P2019'), ('name', 'AllMovie person ID')]\n",
      "[('p', 'http://www.wikidata.org/prop/direct/P2031'), ('name', 'work period (start)')]\n",
      "[('p', 'http://www.wikidata.org/prop/direct/P2032'), ('name', 'work period (end)')]\n",
      "[('p', 'http://www.wikidata.org/prop/direct/P2048'), ('name', 'height')]\n",
      "[('p', 'http://www.wikidata.org/prop/direct/P2067'), ('name', 'mass')]\n",
      "[('p', 'http://www.wikidata.org/prop/direct/P2087'), ('name', 'Crunchbase person ID')]\n",
      "[('p', 'http://www.wikidata.org/prop/direct/P2094'), ('name', 'competition class')]\n",
      "[('p', 'http://www.wikidata.org/prop/direct/P21'), ('name', 'sex or gender')]\n",
      "[('p', 'http://www.wikidata.org/prop/direct/P213'), ('name', 'ISNI')]\n",
      "[('p', 'http://www.wikidata.org/prop/direct/P214'), ('name', 'VIAF ID')]\n",
      "[('p', 'http://www.wikidata.org/prop/direct/P2163'), ('name', 'FAST ID')]\n",
      "[('p', 'http://www.wikidata.org/prop/direct/P2168'), ('name', 'Swedish Film Database person ID')]\n",
      "[('p', 'http://www.wikidata.org/prop/direct/P2190'), ('name', 'C-SPAN person ID')]\n",
      "[('p', 'http://www.wikidata.org/prop/direct/P22'), ('name', 'father')]\n",
      "[('p', 'http://www.wikidata.org/prop/direct/P2267'), ('name', 'PolitiFact people and groups ID')]\n",
      "[('p', 'http://www.wikidata.org/prop/direct/P227'), ('name', 'GND ID')]\n",
      "[('p', 'http://www.wikidata.org/prop/direct/P2283'), ('name', 'uses')]\n",
      "[('p', 'http://www.wikidata.org/prop/direct/P2373'), ('name', 'Genius artist ID')]\n",
      "[('p', 'http://www.wikidata.org/prop/direct/P2387'), ('name', 'Elonet person ID')]\n",
      "[('p', 'http://www.wikidata.org/prop/direct/P2397'), ('name', 'YouTube channel ID')]\n",
      "[('p', 'http://www.wikidata.org/prop/direct/P2435'), ('name', 'PORT person ID')]\n",
      "[('p', 'http://www.wikidata.org/prop/direct/P244'), ('name', 'Library of Congress authority ID')]\n",
      "[('p', 'http://www.wikidata.org/prop/direct/P25'), ('name', 'mother')]\n",
      "[('p', 'http://www.wikidata.org/prop/direct/P2519'), ('name', 'Scope.dk person ID')]\n",
      "[('p', 'http://www.wikidata.org/prop/direct/P2561'), ('name', 'name')]\n",
      "[('p', 'http://www.wikidata.org/prop/direct/P2581'), ('name', 'BabelNet ID')]\n",
      "[('p', 'http://www.wikidata.org/prop/direct/P26'), ('name', 'spouse')]\n",
      "100\n"
     ]
    }
   ],
   "source": [
    "#return properties for the winner of NBA MVP\n",
    "queryString = \"\"\"\n",
    "SELECT DISTINCT ?p ?name\n",
    "WHERE {\n",
    "    wd:Q222047 wdt:P1346 ?o.\n",
    "   ?o ?p ?something.\n",
    "   ?p sc:name ?name.\n",
    "}\n",
    "LIMIT 100\n",
    "\"\"\"\n",
    "\n",
    "print(\"Results\")\n",
    "x=run_query(queryString)"
   ]
  },
  {
   "cell_type": "code",
   "execution_count": 145,
   "id": "351ff7f3-edb3-45ee-8816-8d65c468860a",
   "metadata": {},
   "outputs": [
    {
     "name": "stdout",
     "output_type": "stream",
     "text": [
      "Results\n",
      "Empty\n"
     ]
    }
   ],
   "source": [
    "#trying to see if it works\n",
    "queryString = \"\"\"\n",
    "SELECT DISTINCT ?subject ?name\n",
    "WHERE {\n",
    "   ?subject ?s wd:Q222047.\n",
    "   ?subject ?p wd:P1346.\n",
    "   ?subject ?o wd:Q36159.\n",
    "   ?subject sc:name ?name.\n",
    "}\n",
    "LIMIT 100\n",
    "\"\"\"\n",
    "\n",
    "print(\"Results\")\n",
    "x=run_query(queryString)"
   ]
  },
  {
   "cell_type": "code",
   "execution_count": null,
   "id": "ced4f2be-ce40-4898-9261-59bf7820922d",
   "metadata": {},
   "outputs": [],
   "source": []
  },
  {
   "cell_type": "code",
   "execution_count": null,
   "id": "3d932f88-df82-41ad-b781-d54b908f43fd",
   "metadata": {},
   "outputs": [],
   "source": []
  },
  {
   "cell_type": "code",
   "execution_count": null,
   "id": "03c360b1-3ae5-4ea4-af0d-4044bc52c4e5",
   "metadata": {},
   "outputs": [],
   "source": []
  },
  {
   "cell_type": "code",
   "execution_count": 146,
   "id": "cf4e9bdf-fc0f-43c0-83ba-973984d076a3",
   "metadata": {
    "tags": []
   },
   "outputs": [
    {
     "name": "stdout",
     "output_type": "stream",
     "text": [
      "Results\n",
      "[('s', 'http://www.wikidata.org/entity/Q97254286'), ('name', 'An Komasawa'), ('totMvpAward', '0')]\n",
      "[('s', 'http://www.wikidata.org/entity/Q16567223'), ('name', 'Jefimija Karakašević'), ('totMvpAward', '0')]\n",
      "2\n"
     ]
    }
   ],
   "source": [
    "#wrong used instance of instead of occupation for basketball player\n",
    "queryString = \"\"\"\n",
    "SELECT DISTINCT ?s ?name (COUNT( ?mvpAward) AS ?totMvpAward)\n",
    "WHERE {\n",
    "   ?s wdt:P31 wd:Q3665646.\n",
    "   \n",
    "   ?s sc:name ?name\n",
    "}\n",
    "LIMIT 100\n",
    "\"\"\"\n",
    "\n",
    "print(\"Results\")\n",
    "x=run_query(queryString)"
   ]
  },
  {
   "cell_type": "code",
   "execution_count": 6,
   "id": "1a29ad45-92ed-4e0d-ad57-79f3da3eea17",
   "metadata": {},
   "outputs": [
    {
     "name": "stdout",
     "output_type": "stream",
     "text": [
      "Results\n",
      "[('s', 'http://www.wikidata.org/entity/Q264393'), ('name', 'Dave Cowens'), ('totMvpAward', '1')]\n",
      "[('s', 'http://www.wikidata.org/entity/Q380515'), ('name', 'Willis Reed'), ('totMvpAward', '1')]\n",
      "[('s', 'http://www.wikidata.org/entity/Q192955'), ('name', 'Steve Nash'), ('totMvpAward', '1')]\n",
      "[('s', 'http://www.wikidata.org/entity/Q136678'), ('name', 'James Harden'), ('totMvpAward', '1')]\n",
      "[('s', 'http://www.wikidata.org/entity/Q179051'), ('name', 'Kareem Abdul-Jabbar'), ('totMvpAward', '1')]\n",
      "[('s', 'http://www.wikidata.org/entity/Q25369'), ('name', 'Kobe Bryant'), ('totMvpAward', '1')]\n",
      "[('s', 'http://www.wikidata.org/entity/Q36159'), ('name', 'LeBron James'), ('totMvpAward', '1')]\n",
      "[('s', 'http://www.wikidata.org/entity/Q41421'), ('name', 'Michael Jordan'), ('totMvpAward', '1')]\n",
      "[('s', 'http://www.wikidata.org/entity/Q196185'), ('name', 'Russell Westbrook'), ('totMvpAward', '1')]\n",
      "[('s', 'http://www.wikidata.org/entity/Q205326'), ('name', 'Derrick Rose'), ('totMvpAward', '1')]\n",
      "[('s', 'http://www.wikidata.org/entity/Q190152'), ('name', 'Larry Bird'), ('totMvpAward', '1')]\n",
      "[('s', 'http://www.wikidata.org/entity/Q193020'), ('name', 'Tim Duncan'), ('totMvpAward', '1')]\n",
      "[('s', 'http://www.wikidata.org/entity/Q312643'), ('name', 'Bob Cousy'), ('totMvpAward', '1')]\n",
      "[('s', 'http://www.wikidata.org/entity/Q352159'), ('name', 'Stephen Curry'), ('totMvpAward', '1')]\n",
      "[('s', 'http://www.wikidata.org/entity/Q363246'), ('name', 'Bill Walton'), ('totMvpAward', '1')]\n",
      "[('s', 'http://www.wikidata.org/entity/Q17281073'), ('name', 'Nikola Jokić'), ('totMvpAward', '1')]\n",
      "[('s', 'http://www.wikidata.org/entity/Q199896'), ('name', 'Karl Malone'), ('totMvpAward', '1')]\n",
      "[('s', 'http://www.wikidata.org/entity/Q368561'), ('name', 'Bob Pettit'), ('totMvpAward', '1')]\n",
      "[('s', 'http://www.wikidata.org/entity/Q211876'), ('name', 'David Robinson'), ('totMvpAward', '1')]\n",
      "[('s', 'http://www.wikidata.org/entity/Q8991894'), ('name', 'Giannis Antetokounmpo'), ('totMvpAward', '1')]\n",
      "[('s', 'http://www.wikidata.org/entity/Q169452'), ('name', \"Shaquille O'Neal\"), ('totMvpAward', '1')]\n",
      "[('s', 'http://www.wikidata.org/entity/Q17717'), ('name', 'Oscar Robertson'), ('totMvpAward', '1')]\n",
      "[('s', 'http://www.wikidata.org/entity/Q190094'), ('name', 'Allen Iverson'), ('totMvpAward', '1')]\n",
      "[('s', 'http://www.wikidata.org/entity/Q134183'), ('name', 'Magic Johnson'), ('totMvpAward', '1')]\n",
      "[('s', 'http://www.wikidata.org/entity/Q192707'), ('name', 'Charles Barkley'), ('totMvpAward', '1')]\n",
      "[('s', 'http://www.wikidata.org/entity/Q29545'), ('name', 'Kevin Durant'), ('totMvpAward', '1')]\n",
      "[('s', 'http://www.wikidata.org/entity/Q316179'), ('name', 'Moses Malone'), ('totMvpAward', '1')]\n",
      "[('s', 'http://www.wikidata.org/entity/Q182455'), ('name', 'Wilt Chamberlain'), ('totMvpAward', '1')]\n",
      "[('s', 'http://www.wikidata.org/entity/Q209921'), ('name', 'Julius Erving'), ('totMvpAward', '1')]\n",
      "[('s', 'http://www.wikidata.org/entity/Q44068'), ('name', 'Dirk Nowitzki'), ('totMvpAward', '1')]\n",
      "[('s', 'http://www.wikidata.org/entity/Q273256'), ('name', 'Hakeem Olajuwon'), ('totMvpAward', '1')]\n",
      "[('s', 'http://www.wikidata.org/entity/Q456776'), ('name', 'Wes Unseld'), ('totMvpAward', '1')]\n",
      "[('s', 'http://www.wikidata.org/entity/Q189240'), ('name', 'Kevin Garnett'), ('totMvpAward', '1')]\n",
      "[('s', 'http://www.wikidata.org/entity/Q242185'), ('name', 'Bill Russell'), ('totMvpAward', '1')]\n",
      "[('s', 'http://www.wikidata.org/entity/Q553232'), ('name', 'Bob McAdoo'), ('totMvpAward', '1')]\n",
      "35\n"
     ]
    }
   ],
   "source": [
    "#return all subj with occupation basketball player who received an mvp award and count how many mvp award they received\n",
    "queryString = \"\"\"\n",
    "SELECT DISTINCT ?s ?name (COUNT(?s) AS ?totMvpAward)\n",
    "WHERE {\n",
    "   ?s wdt:P106 wd:Q3665646.\n",
    "   ?s wdt:P166 wd:Q222047.\n",
    "   ?s sc:name ?name\n",
    "}\n",
    "GROUP BY ?s ?name\n",
    "LIMIT 100\n",
    "\"\"\"\n",
    "\n",
    "print(\"Results\")\n",
    "x=run_query(queryString)"
   ]
  },
  {
   "cell_type": "code",
   "execution_count": 149,
   "id": "2b0bc36c-c2af-4445-82da-c6188d426372",
   "metadata": {},
   "outputs": [
    {
     "name": "stdout",
     "output_type": "stream",
     "text": [
      "Results\n",
      "Empty\n"
     ]
    }
   ],
   "source": [
    "queryString = \"\"\"\n",
    "SELECT DISTINCT ?s #?name ?date #(COUNT(?date) AS ?totMvpAward)\n",
    "WHERE {\n",
    "   #?s wdt:P106 wd:Q3665646.\n",
    "   \n",
    "   #wd:Q222047 p:P1346 ?statement1.\n",
    "   #?statement1 ps:P1346 ?s.\n",
    "   ?s p:P585 ?date.\n",
    "   #?s sc:name ?name\n",
    "}\n",
    "#GROUP BY ?s ?name\n",
    "LIMIT 100\n",
    "\"\"\"\n",
    "\n",
    "print(\"Results\")\n",
    "x=run_query(queryString)"
   ]
  },
  {
   "cell_type": "code",
   "execution_count": 150,
   "id": "b47517b9-d10a-4ee5-be80-f28eba238c0f",
   "metadata": {},
   "outputs": [
    {
     "name": "stdout",
     "output_type": "stream",
     "text": [
      "Results\n",
      "[('o', 'http://www.wikidata.org/entity/Q1501719')]\n",
      "[('o', 'http://www.wikidata.org/entity/Q4896605')]\n",
      "[('o', 'http://www.wikidata.org/entity/Q4896598')]\n",
      "[('o', 'http://www.wikidata.org/entity/Q743122')]\n",
      "[('o', 'http://www.wikidata.org/entity/Q1418009')]\n",
      "[('o', 'http://www.wikidata.org/entity/Q1465181')]\n",
      "[('o', 'http://www.wikidata.org/entity/Q1653207')]\n",
      "[('o', 'http://www.wikidata.org/entity/Q222047')]\n",
      "[('o', 'http://www.wikidata.org/entity/Q31391')]\n",
      "[('o', 'http://www.wikidata.org/entity/Q4835465')]\n",
      "[('o', 'http://www.wikidata.org/entity/Q4896724')]\n",
      "[('o', 'http://www.wikidata.org/entity/Q644357')]\n",
      "[('o', 'http://www.wikidata.org/entity/Q674359')]\n",
      "[('o', 'http://www.wikidata.org/entity/Q739499')]\n",
      "[('o', 'http://www.wikidata.org/entity/Q943106')]\n",
      "[('o', 'http://www.wikidata.org/entity/Q7080855')]\n",
      "[('o', 'http://www.wikidata.org/entity/Q2282428')]\n",
      "17\n"
     ]
    }
   ],
   "source": [
    "# P1346 winner P585 point in time P166 award received\n",
    "queryString = \"\"\"\n",
    "SELECT ?o  #(COUNT(?date) AS ?totMvpAward) ?s ?name\n",
    "WHERE {\n",
    "   wd:Q36159 wdt:P166 ?o. #wd:Q222047.\n",
    "   \n",
    "}\n",
    "#GROUP BY ?s ?name\n",
    "LIMIT 100\n",
    "\"\"\"\n",
    "\n",
    "print(\"Results\")\n",
    "x=run_query(queryString)"
   ]
  },
  {
   "cell_type": "code",
   "execution_count": 151,
   "id": "655e8268-0435-4868-a91f-834f022ea5bf",
   "metadata": {},
   "outputs": [
    {
     "name": "stdout",
     "output_type": "stream",
     "text": [
      "Results\n",
      "Empty\n"
     ]
    }
   ],
   "source": [
    "# return what is instance of MVP Award\n",
    "queryString = \"\"\"\n",
    "SELECT ?s  \n",
    "WHERE {\n",
    "   ?s wdt:P31 wd:Q25408040.\n",
    "   \n",
    "}\n",
    "LIMIT 100\n",
    "\"\"\"\n",
    "\n",
    "print(\"Results\")\n",
    "x=run_query(queryString)"
   ]
  },
  {
   "cell_type": "code",
   "execution_count": 9,
   "id": "e782dc41-98a6-4693-8de6-cf1da64a4de1",
   "metadata": {},
   "outputs": [
    {
     "name": "stdout",
     "output_type": "stream",
     "text": [
      "Results\n",
      "Empty\n"
     ]
    }
   ],
   "source": [
    "# P1346 winner P585 point in time P166 award received\n",
    "#return all the mvp award won by lebron with wikidata qualifiers \n",
    "queryString = \"\"\"\n",
    "PREFIX ps: <http://www.wikidata.org/prop/statement/>\n",
    "PREFIX pq: <http://www.wikidata.org/prop/qualifier/>\n",
    "PREFIX p: <http://www.wikidata.org/prop/>\n",
    "\n",
    "SELECT DISTINCT ?date\n",
    "WHERE {\n",
    "   wd:Q36159 wdt:P106 wd:Q222047;\n",
    "           p:P166 ?awardStat.\n",
    "   ?awardStat pq:P585 ?date;\n",
    "              ps:P166 wd:Q36159.\n",
    "}\n",
    "#GROUP BY ?s ?name\n",
    "LIMIT 100\n",
    "\"\"\"\n",
    "\n",
    "print(\"Results\")\n",
    "x=run_query(queryString)"
   ]
  },
  {
   "cell_type": "code",
   "execution_count": 10,
   "id": "d0514fd1-849e-404b-bce2-93760a4b6684",
   "metadata": {},
   "outputs": [
    {
     "name": "stdout",
     "output_type": "stream",
     "text": [
      "Results\n",
      "Empty\n"
     ]
    }
   ],
   "source": [
    "# P1346 winner P585 point in time P166 award received\n",
    "#try again with different sintax\n",
    "queryString = \"\"\"\n",
    "PREFIX ps: <http://www.wikidata.org/prop/statement/>\n",
    "PREFIX pq: <http://www.wikidata.org/prop/qualifier/>\n",
    "PREFIX p: <http://www.wikidata.org/prop/>\n",
    "SELECT DISTINCT ?item\n",
    "WHERE {\n",
    "   ?item wdt:P106 wd:Q3665646; #wd:Q222047.\n",
    "         p:P166 ?awardStat.\n",
    "   ?awardStat ?p ?o .#ps:P166 wd:Q222047.\n",
    "   #           ps:P166 wd:Q103360.\n",
    "   #?award wdt:P585 ?time.\n",
    "}\n",
    "#GROUP BY ?s ?name\n",
    "LIMIT 200\n",
    "\"\"\"\n",
    "\n",
    "print(\"Results\")\n",
    "x=run_query(queryString)"
   ]
  },
  {
   "cell_type": "code",
   "execution_count": 2,
   "id": "864157df-c5bc-45ca-bade-2864ab53da0b",
   "metadata": {},
   "outputs": [
    {
     "name": "stdout",
     "output_type": "stream",
     "text": [
      "Results\n",
      "[('o', 'http://www.wikidata.org/entity/Q241329'), ('name', '2006 FIBA World Championship')]\n",
      "[('o', 'http://www.wikidata.org/entity/Q178595'), ('name', '2007 FIBA Americas Championship')]\n",
      "[('o', 'http://www.wikidata.org/entity/Q8558'), ('name', '2004 Summer Olympics')]\n",
      "[('o', 'http://www.wikidata.org/entity/Q8567'), ('name', '2008 Summer Olympics')]\n",
      "[('o', 'http://www.wikidata.org/entity/Q8577'), ('name', '2012 Summer Olympics')]\n",
      "5\n"
     ]
    }
   ],
   "source": [
    "#return what is Lebron participant in\n",
    "queryString = \"\"\"\n",
    "SELECT DISTINCT ?o ?name\n",
    "WHERE {\n",
    "   wd:Q36159 wdt:P1344 ?o .\n",
    "   ?o sc:name ?name.\n",
    "}\n",
    "LIMIT 20\n",
    "\"\"\"\n",
    "\n",
    "print(\"Results\")\n",
    "x=run_query(queryString)"
   ]
  },
  {
   "cell_type": "code",
   "execution_count": 3,
   "id": "2e5c3e8f-64a6-4198-9ed9-cd740c64c85b",
   "metadata": {},
   "outputs": [
    {
     "name": "stdout",
     "output_type": "stream",
     "text": [
      "Results\n",
      "[('o', 'http://www.wikidata.org/entity/Q113619'), ('name', '2012–13 NBA season')]\n",
      "[('o', 'http://www.wikidata.org/entity/Q16191100'), ('name', '2014-15 NBA season')]\n",
      "[('o', 'http://www.wikidata.org/entity/Q19862716'), ('name', '2015–16 NBA season')]\n",
      "[('o', 'http://www.wikidata.org/entity/Q39080780'), ('name', \"basketball at the 2020 Summer Olympics – men's tournament\")]\n",
      "[('o', 'http://www.wikidata.org/entity/Q18416654'), ('name', \"basketball at the 2016 Summer Olympics – men's tournament\")]\n",
      "[('o', 'http://www.wikidata.org/entity/Q749036'), ('name', \"basketball at the 2012 Summer Olympics – men's tournament\")]\n",
      "[('o', 'http://www.wikidata.org/entity/Q8577'), ('name', '2012 Summer Olympics')]\n",
      "[('o', 'http://www.wikidata.org/entity/Q8613'), ('name', '2016 Summer Olympics')]\n",
      "[('o', 'http://www.wikidata.org/entity/Q211438'), ('name', '2010 FIBA World Championship')]\n",
      "[('o', 'http://www.wikidata.org/entity/Q52702755'), ('name', '2018–19 NBA season')]\n",
      "[('o', 'http://www.wikidata.org/entity/Q1121549'), ('name', '2007–08 NBA season')]\n",
      "[('o', 'http://www.wikidata.org/entity/Q29098111'), ('name', '2017–18 NBA season')]\n",
      "[('o', 'http://www.wikidata.org/entity/Q1255750'), ('name', '2011–12 NBA season')]\n",
      "[('o', 'http://www.wikidata.org/entity/Q11144228'), ('name', '2013–14 NBA season')]\n",
      "[('o', 'http://www.wikidata.org/entity/Q96083208'), ('name', '2020–21 NBA season')]\n",
      "[('o', 'http://www.wikidata.org/entity/Q1130071'), ('name', '2009–10 NBA season')]\n",
      "[('o', 'http://www.wikidata.org/entity/Q1130082'), ('name', '2008–09 NBA season')]\n",
      "[('o', 'http://www.wikidata.org/entity/Q1143957'), ('name', '2010–11 NBA season')]\n",
      "[('o', 'http://www.wikidata.org/entity/Q23939796'), ('name', '2016–17 NBA season')]\n",
      "19\n"
     ]
    }
   ],
   "source": [
    "#return what is Durant participant in\n",
    "queryString = \"\"\"\n",
    "SELECT DISTINCT ?o ?name\n",
    "WHERE {\n",
    "   wd:Q29545 wdt:P1344 ?o .\n",
    "   ?o sc:name ?name.\n",
    "}\n",
    "LIMIT 20\n",
    "\"\"\"\n",
    "\n",
    "print(\"Results\")\n",
    "x=run_query(queryString)"
   ]
  },
  {
   "cell_type": "code",
   "execution_count": 4,
   "id": "ce2b82ae-74a2-4e5e-baf5-103b16037dd8",
   "metadata": {},
   "outputs": [
    {
     "name": "stdout",
     "output_type": "stream",
     "text": [
      "Results\n"
     ]
    }
   ],
   "source": [
    "#return property for 2012–13 NBA season\n",
    "queryString = \"\"\"\n",
    "SELECT DISTINCT ?p ?name ?o ?oName\n",
    "WHERE {\n",
    "   wd:Q113619 ?p ?o .\n",
    "   ?p sc:name ?name.\n",
    "   ?o sc:name ?oName.\n",
    "}\n",
    "LIMIT 20\n",
    "\"\"\"\n",
    "\n",
    "print(\"Results\")"
   ]
  },
  {
   "cell_type": "markdown",
   "id": "bafaba2f",
   "metadata": {},
   "source": [
    "Final query for this task"
   ]
  },
  {
   "cell_type": "code",
   "execution_count": 11,
   "id": "69c6ddd9",
   "metadata": {},
   "outputs": [
    {
     "name": "stdout",
     "output_type": "stream",
     "text": [
      "Results\n",
      "[('s', 'http://www.wikidata.org/entity/Q264393'), ('name', 'Dave Cowens'), ('totMvpAward', '1')]\n",
      "[('s', 'http://www.wikidata.org/entity/Q380515'), ('name', 'Willis Reed'), ('totMvpAward', '1')]\n",
      "[('s', 'http://www.wikidata.org/entity/Q192955'), ('name', 'Steve Nash'), ('totMvpAward', '1')]\n",
      "[('s', 'http://www.wikidata.org/entity/Q136678'), ('name', 'James Harden'), ('totMvpAward', '1')]\n",
      "[('s', 'http://www.wikidata.org/entity/Q179051'), ('name', 'Kareem Abdul-Jabbar'), ('totMvpAward', '1')]\n",
      "[('s', 'http://www.wikidata.org/entity/Q25369'), ('name', 'Kobe Bryant'), ('totMvpAward', '1')]\n",
      "[('s', 'http://www.wikidata.org/entity/Q36159'), ('name', 'LeBron James'), ('totMvpAward', '1')]\n",
      "[('s', 'http://www.wikidata.org/entity/Q41421'), ('name', 'Michael Jordan'), ('totMvpAward', '1')]\n",
      "[('s', 'http://www.wikidata.org/entity/Q196185'), ('name', 'Russell Westbrook'), ('totMvpAward', '1')]\n",
      "[('s', 'http://www.wikidata.org/entity/Q205326'), ('name', 'Derrick Rose'), ('totMvpAward', '1')]\n",
      "[('s', 'http://www.wikidata.org/entity/Q190152'), ('name', 'Larry Bird'), ('totMvpAward', '1')]\n",
      "[('s', 'http://www.wikidata.org/entity/Q193020'), ('name', 'Tim Duncan'), ('totMvpAward', '1')]\n",
      "[('s', 'http://www.wikidata.org/entity/Q312643'), ('name', 'Bob Cousy'), ('totMvpAward', '1')]\n",
      "[('s', 'http://www.wikidata.org/entity/Q352159'), ('name', 'Stephen Curry'), ('totMvpAward', '1')]\n",
      "[('s', 'http://www.wikidata.org/entity/Q363246'), ('name', 'Bill Walton'), ('totMvpAward', '1')]\n",
      "[('s', 'http://www.wikidata.org/entity/Q17281073'), ('name', 'Nikola Jokić'), ('totMvpAward', '1')]\n",
      "[('s', 'http://www.wikidata.org/entity/Q199896'), ('name', 'Karl Malone'), ('totMvpAward', '1')]\n",
      "[('s', 'http://www.wikidata.org/entity/Q368561'), ('name', 'Bob Pettit'), ('totMvpAward', '1')]\n",
      "[('s', 'http://www.wikidata.org/entity/Q211876'), ('name', 'David Robinson'), ('totMvpAward', '1')]\n",
      "[('s', 'http://www.wikidata.org/entity/Q8991894'), ('name', 'Giannis Antetokounmpo'), ('totMvpAward', '1')]\n",
      "[('s', 'http://www.wikidata.org/entity/Q169452'), ('name', \"Shaquille O'Neal\"), ('totMvpAward', '1')]\n",
      "[('s', 'http://www.wikidata.org/entity/Q17717'), ('name', 'Oscar Robertson'), ('totMvpAward', '1')]\n",
      "[('s', 'http://www.wikidata.org/entity/Q190094'), ('name', 'Allen Iverson'), ('totMvpAward', '1')]\n",
      "[('s', 'http://www.wikidata.org/entity/Q134183'), ('name', 'Magic Johnson'), ('totMvpAward', '1')]\n",
      "[('s', 'http://www.wikidata.org/entity/Q192707'), ('name', 'Charles Barkley'), ('totMvpAward', '1')]\n",
      "[('s', 'http://www.wikidata.org/entity/Q29545'), ('name', 'Kevin Durant'), ('totMvpAward', '1')]\n",
      "[('s', 'http://www.wikidata.org/entity/Q316179'), ('name', 'Moses Malone'), ('totMvpAward', '1')]\n",
      "[('s', 'http://www.wikidata.org/entity/Q182455'), ('name', 'Wilt Chamberlain'), ('totMvpAward', '1')]\n",
      "[('s', 'http://www.wikidata.org/entity/Q209921'), ('name', 'Julius Erving'), ('totMvpAward', '1')]\n",
      "[('s', 'http://www.wikidata.org/entity/Q44068'), ('name', 'Dirk Nowitzki'), ('totMvpAward', '1')]\n",
      "[('s', 'http://www.wikidata.org/entity/Q273256'), ('name', 'Hakeem Olajuwon'), ('totMvpAward', '1')]\n",
      "[('s', 'http://www.wikidata.org/entity/Q456776'), ('name', 'Wes Unseld'), ('totMvpAward', '1')]\n",
      "[('s', 'http://www.wikidata.org/entity/Q189240'), ('name', 'Kevin Garnett'), ('totMvpAward', '1')]\n",
      "[('s', 'http://www.wikidata.org/entity/Q242185'), ('name', 'Bill Russell'), ('totMvpAward', '1')]\n",
      "[('s', 'http://www.wikidata.org/entity/Q553232'), ('name', 'Bob McAdoo'), ('totMvpAward', '1')]\n",
      "35\n"
     ]
    }
   ],
   "source": [
    "# write your final query\n",
    "# Consider the players who won the NBA Most Valuable Player Award. Return for these players the number of NBA \n",
    "# Most Valuable Player Award won in their career (the result set must be triples of player IRI, label and #victories)\n",
    "queryString = \"\"\"\n",
    "SELECT DISTINCT ?s ?name (COUNT(?s) AS ?totMvpAward)\n",
    "WHERE {\n",
    "   ?s wdt:P106 wd:Q3665646.\n",
    "   ?s wdt:P166 wd:Q222047.\n",
    "   ?s sc:name ?name\n",
    "}\n",
    "GROUP BY ?s ?name\n",
    "LIMIT 100\n",
    "\"\"\"\n",
    "\n",
    "print(\"Results\")\n",
    "x=run_query(queryString)"
   ]
  },
  {
   "cell_type": "code",
   "execution_count": null,
   "id": "231632b9-9624-403e-b5d8-360500e1806b",
   "metadata": {},
   "outputs": [],
   "source": []
  }
 ],
 "metadata": {
  "kernelspec": {
   "display_name": "Python 3",
   "language": "python",
   "name": "python3"
  },
  "language_info": {
   "codemirror_mode": {
    "name": "ipython",
    "version": 3
   },
   "file_extension": ".py",
   "mimetype": "text/x-python",
   "name": "python",
   "nbconvert_exporter": "python",
   "pygments_lexer": "ipython3",
   "version": "3.7.10"
  }
 },
 "nbformat": 4,
 "nbformat_minor": 5
}
