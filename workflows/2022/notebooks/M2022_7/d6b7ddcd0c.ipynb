{
 "cells": [
  {
   "cell_type": "markdown",
   "id": "4e7bed5d",
   "metadata": {},
   "source": [
    "# General instructions\n",
    "\n",
    "The goal of the project is to materialize a set of **exploratory workloads** over a real-world, large-scale,  open-domain KG: [WikiData](https://www.wikidata.org/wiki/Wikidata:Main_Page)\n",
    "\n",
    "An exploratory workload  is composed by a set of queries, where each query is related to the information obtained previously.\n",
    "\n",
    "An exploratory workload starts with a usually vague, open ended question, and does not assume the person issuing the workload has a clear understanding of the data contained in the target database or its structure.\n",
    "\n",
    "Remeber that:\n",
    "\n",
    "1. All the queries must run in the python notebook\n",
    "2. You can use classes and properties only if you find them via a SPARQL query that must be present in the notebook\n",
    "3. You do not delete useless queries. Keep everything that is synthatically valid \n",
    "\n",
    "```\n",
    "?p <http://schema.org/name> ?name .\n",
    "```\n",
    "    \n",
    "    is the BGP returning a human-readable name of a property or a class in Wikidata."
   ]
  },
  {
   "cell_type": "code",
   "execution_count": null,
   "id": "6cfc0b02",
   "metadata": {},
   "outputs": [],
   "source": [
    "## SETUP used later\n",
    "\n",
    "from SPARQLWrapper import SPARQLWrapper, JSON\n",
    "\n",
    "\n",
    "prefixString = \"\"\"\n",
    "##-d6b7ddcd0c-##\n",
    "PREFIX wd: <http://www.wikidata.org/entity/> \n",
    "PREFIX wdt: <http://www.wikidata.org/prop/direct/> \n",
    "PREFIX sc: <http://schema.org/>\n",
    "\"\"\"\n",
    "\n",
    "# select and construct queries\n",
    "def run_query(queryString,verbose = True):\n",
    "    to_run = prefixString + \"\\n\" + queryString\n",
    "\n",
    "    sparql = SPARQLWrapper(\"http://a256-gc1-03.srv.aau.dk:5820/sparql\")\n",
    "    sparql.setTimeout(300)\n",
    "    sparql.setReturnFormat(JSON)\n",
    "    sparql.setQuery(to_run)\n",
    "\n",
    "    try :\n",
    "        results = sparql.query()\n",
    "        json_results = results.convert()\n",
    "        if len(json_results['results']['bindings'])==0:\n",
    "            print(\"Empty\")\n",
    "            return []\n",
    "        array = []\n",
    "        for bindings in json_results['results']['bindings']:\n",
    "            app =  [ (var, value['value'])  for var, value in bindings.items() ] \n",
    "            if verbose:\n",
    "                print( app)\n",
    "            array.append(app)\n",
    "        if verbose:\n",
    "            print(len(array))\n",
    "        return array\n",
    "\n",
    "    except Exception as e :\n",
    "        print(\"The operation failed\", e)\n",
    "    \n",
    "# ASk queries\n",
    "def run_ask_query(queryString):\n",
    "    to_run = prefixString + \"\\n\" + queryString\n",
    "\n",
    "    sparql = SPARQLWrapper(\"http://a256-gc1-03.srv.aau.dk:5820/sparql\")\n",
    "    sparql.setTimeout(300)\n",
    "    sparql.setReturnFormat(JSON)\n",
    "    sparql.setQuery(to_run)\n",
    "\n",
    "    try :\n",
    "        return sparql.query().convert()\n",
    "\n",
    "    except Exception as e :\n",
    "        print(\"The operation failed\", e)"
   ]
  },
  {
   "cell_type": "markdown",
   "id": "214d8763",
   "metadata": {},
   "source": [
    "# Sport Workflow Series (\"Running explorative search\") \n",
    "\n",
    "Consider the following exploratory information need:\n",
    "\n",
    "> investigate the association football players and find the main BGPs related to this sports. Compare awards and participation in the competitions of the players"
   ]
  },
  {
   "cell_type": "markdown",
   "id": "4ad57283",
   "metadata": {},
   "source": [
    "## Useful URIs for the current workflow\n",
    "The following are given:\n",
    "\n",
    "| IRI           | Description   | Role      |\n",
    "| -----------   | -----------   |-----------|\n",
    "| `wdt:P1647`   | subproperty   | predicate |\n",
    "| `wdt:P31`     | instance of   | predicate |\n",
    "| `wdt:P106`    | profession    | predicate | \n",
    "| `wdt:P279`    | subclass      | predicate |\n",
    "| `wdt:P27`     | nationality   | predicate |\n",
    "| `wd:Q5`       | Human         | node      |\n",
    "| `wd:Q9124`    | Eliud Kipchoge| node      |\n",
    "| `wd:Q853003`| athletics at the 2008 Summer Olympics – men's 200 metres |node|\n"
   ]
  },
  {
   "cell_type": "markdown",
   "id": "cc510d74",
   "metadata": {},
   "source": [
    "\n",
    "\n",
    "\n",
    "Also consider\n",
    "\n",
    "```\n",
    "wd:Q9124 ?p ?obj .\n",
    "```\n",
    "\n",
    "is the BGP to retrieve all **properties of Eliud Kipchoge**\n",
    "\n",
    "\n",
    "Please consider that when you return a resource, you should return the IRI and the label of the resource. In particular, when the task require you to identify a BGP the result set must always be a list of couples IRI - label.\n",
    "\n",
    "\n",
    "The workload should:\n",
    "\n",
    "\n",
    "1. Identify the BGP for runner\n",
    "\n",
    "2. Identify the BGP for long distance running\n",
    "\n",
    "3. Return the disciplines of the long distance running (e.g. marathon) (the result set must be a list of couples discipline IRI and label).\n",
    "\n",
    "4. Consider marathons ran in Europe. Return the number of different runners who won a marathon group by their country of citizenship (the result set must be a triples of country IRI, label and #different runners).\n",
    "\n",
    "5. Identify the BGP for Olympic Games\n",
    "\n",
    "6. Consider only the summer olympic games of 2004-2008-2012-2016. Return the number of marathon runners who had partecipated to all these editions group by their country of citizenship (if the runner partecipated in more than one edition of the game, consider him/her only once) (the result set must be a list of country IRI, label and #marathon runners)\n",
    "\n",
    "7. For each disciplines of the long distance running find who hold the World Record (the result set must be a list of elements with discipline IRI, label and athlete IRI and label)."
   ]
  },
  {
   "cell_type": "markdown",
   "id": "c60e4596",
   "metadata": {},
   "source": [
    "## Task 1\n",
    "Identify the BGP for runner"
   ]
  },
  {
   "cell_type": "code",
   "execution_count": 220,
   "id": "4ac2804d",
   "metadata": {},
   "outputs": [
    {
     "name": "stdout",
     "output_type": "stream",
     "text": [
      "Results\n",
      "[('p', 'http://www.wikidata.org/prop/direct/P1000'), ('name', 'record held')]\n",
      "[('p', 'http://www.wikidata.org/prop/direct/P106'), ('name', 'occupation')]\n",
      "[('p', 'http://www.wikidata.org/prop/direct/P1146'), ('name', 'World Athletics athlete ID')]\n",
      "[('p', 'http://www.wikidata.org/prop/direct/P1344'), ('name', 'participant in')]\n",
      "[('p', 'http://www.wikidata.org/prop/direct/P1412'), ('name', 'languages spoken, written or signed')]\n",
      "[('p', 'http://www.wikidata.org/prop/direct/P1447'), ('name', 'Sports-Reference.com Olympic athlete ID')]\n",
      "[('p', 'http://www.wikidata.org/prop/direct/P1532'), ('name', 'country for sport')]\n",
      "[('p', 'http://www.wikidata.org/prop/direct/P1559'), ('name', 'name in native language')]\n",
      "[('p', 'http://www.wikidata.org/prop/direct/P172'), ('name', 'ethnic group')]\n",
      "[('p', 'http://www.wikidata.org/prop/direct/P1741'), ('name', 'GTAA ID')]\n",
      "[('p', 'http://www.wikidata.org/prop/direct/P18'), ('name', 'image')]\n",
      "[('p', 'http://www.wikidata.org/prop/direct/P19'), ('name', 'place of birth')]\n",
      "[('p', 'http://www.wikidata.org/prop/direct/P2002'), ('name', 'Twitter username')]\n",
      "[('p', 'http://www.wikidata.org/prop/direct/P2003'), ('name', 'Instagram username')]\n",
      "[('p', 'http://www.wikidata.org/prop/direct/P2013'), ('name', 'Facebook ID')]\n",
      "[('p', 'http://www.wikidata.org/prop/direct/P2048'), ('name', 'height')]\n",
      "[('p', 'http://www.wikidata.org/prop/direct/P2067'), ('name', 'mass')]\n",
      "[('p', 'http://www.wikidata.org/prop/direct/P21'), ('name', 'sex or gender')]\n",
      "[('p', 'http://www.wikidata.org/prop/direct/P214'), ('name', 'VIAF ID')]\n",
      "[('p', 'http://www.wikidata.org/prop/direct/P227'), ('name', 'GND ID')]\n",
      "20\n"
     ]
    }
   ],
   "source": [
    "# retrieve all properties of Eliud Kipchoge\n",
    "\n",
    "queryString = \"\"\"\n",
    "SELECT DISTINCT ?p ?name\n",
    "WHERE {\n",
    "   # bind something\n",
    "   wd:Q9124 ?p ?obj.\n",
    "   # get the label\n",
    "   ?p sc:name ?name.\n",
    "}\n",
    "LIMIT 20\n",
    "\"\"\"\n",
    "\n",
    "print(\"Results\")\n",
    "x=run_query(queryString)"
   ]
  },
  {
   "cell_type": "code",
   "execution_count": 11,
   "id": "06773bf5-e72e-4b1d-a71e-4175dd946a9b",
   "metadata": {},
   "outputs": [
    {
     "name": "stdout",
     "output_type": "stream",
     "text": [
      "Results\n",
      "[('obj', 'http://www.wikidata.org/entity/Q13382460'), ('name', 'marathon runner')]\n",
      "[('obj', 'http://www.wikidata.org/entity/Q11513337'), ('name', 'athletics competitor')]\n",
      "[('obj', 'http://www.wikidata.org/entity/Q4439155'), ('name', 'long-distance runner')]\n",
      "3\n"
     ]
    }
   ],
   "source": [
    "# look at the occupation of Eliud Kipchoge\n",
    "queryString = \"\"\"\n",
    "SELECT DISTINCT ?obj ?name\n",
    "WHERE {\n",
    "   # bind something\n",
    "   wd:Q9124 wdt:P106 ?obj.\n",
    "   # get the label\n",
    "   ?obj sc:name ?name.\n",
    "}\n",
    "LIMIT 20\n",
    "\"\"\"\n",
    "\n",
    "print(\"Results\")\n",
    "x=run_query(queryString)"
   ]
  },
  {
   "cell_type": "markdown",
   "id": "af5fe12f",
   "metadata": {},
   "source": [
    "Final query for this task"
   ]
  },
  {
   "cell_type": "code",
   "execution_count": 19,
   "id": "735212b4-efaf-4b48-a500-90fdfefc61f7",
   "metadata": {},
   "outputs": [
    {
     "name": "stdout",
     "output_type": "stream",
     "text": [
      "Results\n",
      "[('obj', 'http://www.wikidata.org/entity/Q12803959'), ('name', 'runner')]\n",
      "1\n"
     ]
    }
   ],
   "source": [
    "# look at the subclasses of 'long-distance runner' \n",
    "# wdt:P279 subclass\n",
    "# wd:Q4439155 'long-distance runner'\n",
    "\n",
    "queryString = \"\"\"\n",
    "SELECT DISTINCT ?obj ?name\n",
    "WHERE {\n",
    "   # bind something\n",
    "   wd:Q4439155 wdt:P279 ?obj.\n",
    "   # get the label\n",
    "   ?obj sc:name ?name.\n",
    "}\n",
    "LIMIT 20\n",
    "\"\"\"\n",
    "\n",
    "print(\"Results\")\n",
    "x=run_query(queryString)\n",
    "\n"
   ]
  },
  {
   "cell_type": "markdown",
   "id": "659df1cd",
   "metadata": {},
   "source": [
    "## Task 2\n",
    "Identify the BGP for long distance running"
   ]
  },
  {
   "cell_type": "code",
   "execution_count": null,
   "id": "a18f5de8",
   "metadata": {},
   "outputs": [],
   "source": [
    "# we already obtained the 'long-distance runner' entity earlier when looking at occupations of Eliud Kipchoge, let's use it to find out the BGP for long distance running"
   ]
  },
  {
   "cell_type": "markdown",
   "id": "405f87bf",
   "metadata": {},
   "source": [
    "Final query for this task"
   ]
  },
  {
   "cell_type": "code",
   "execution_count": 44,
   "id": "2ef6246c",
   "metadata": {},
   "outputs": [
    {
     "name": "stdout",
     "output_type": "stream",
     "text": [
      "Results\n",
      "[('obj', 'http://www.wikidata.org/entity/Q8928097'), ('name', 'Category:Long-distance runners')]\n",
      "[('obj', 'http://www.wikidata.org/entity/Q13382608'), ('name', 'cross-country skier')]\n",
      "[('obj', 'http://www.wikidata.org/entity/Q28640'), ('name', 'profession')]\n",
      "[('obj', 'http://www.wikidata.org/entity/Q917206'), ('name', 'long-distance running')]\n",
      "[('obj', 'http://www.wikidata.org/entity/Q12803959'), ('name', 'runner')]\n",
      "5\n"
     ]
    }
   ],
   "source": [
    "# look at entities related to 'long-distance runner'\n",
    "\n",
    "queryString = \"\"\"\n",
    "SELECT DISTINCT ?obj ?name\n",
    "WHERE {\n",
    "   # bind something\n",
    "   wd:Q4439155 ?p ?obj.\n",
    "   # get the label\n",
    "   ?obj sc:name ?name.\n",
    "}\n",
    "LIMIT 20\n",
    "\"\"\"\n",
    "\n",
    "print(\"Results\")\n",
    "x=run_query(queryString)"
   ]
  },
  {
   "cell_type": "markdown",
   "id": "61e79e58",
   "metadata": {},
   "source": [
    "## Task 3\n",
    "Return the disciplines of the long distance running (e.g. marathon) (the result set must be a list of couples discipline IRI and label)."
   ]
  },
  {
   "cell_type": "markdown",
   "id": "97351e58",
   "metadata": {},
   "source": [
    "Final query for this task"
   ]
  },
  {
   "cell_type": "code",
   "execution_count": 57,
   "id": "a33013d0",
   "metadata": {},
   "outputs": [
    {
     "name": "stdout",
     "output_type": "stream",
     "text": [
      "Results\n",
      "[('obj', 'http://www.wikidata.org/entity/Q26844379'), ('name', 'one-hour run')]\n",
      "[('obj', 'http://www.wikidata.org/entity/Q2815830'), ('name', '2 miles run')]\n",
      "[('obj', 'http://www.wikidata.org/entity/Q215677'), ('name', 'half marathon')]\n",
      "[('obj', 'http://www.wikidata.org/entity/Q163892'), ('name', '10,000 metres')]\n",
      "[('obj', 'http://www.wikidata.org/entity/Q240500'), ('name', '5000 metres')]\n",
      "[('obj', 'http://www.wikidata.org/entity/Q40244'), ('name', 'marathon')]\n",
      "[('obj', 'http://www.wikidata.org/entity/Q2774730'), ('name', '10K run')]\n",
      "[('obj', 'http://www.wikidata.org/entity/Q500050'), ('name', 'cross country running')]\n",
      "[('obj', 'http://www.wikidata.org/entity/Q26303'), ('name', 'ultramarathon')]\n",
      "[('obj', 'http://www.wikidata.org/entity/Q2164200'), ('name', 'one hour run')]\n",
      "[('obj', 'http://www.wikidata.org/entity/Q19767716'), ('name', '15K run')]\n",
      "[('obj', 'http://www.wikidata.org/entity/Q19827858'), ('name', '20 kilometres')]\n",
      "[('obj', 'http://www.wikidata.org/entity/Q2538895'), ('name', 'Waffenlauf')]\n",
      "13\n"
     ]
    }
   ],
   "source": [
    "# look at entities that have'long-distance running' as a subclass\n",
    "# wdt:P279 -- subclass\n",
    "# wd:Q917206 -- 'long-distance running'\n",
    "\n",
    "queryString = \"\"\"\n",
    "SELECT DISTINCT ?obj ?name\n",
    "WHERE {\n",
    "   # bind something\n",
    "   ?obj wdt:P279 wd:Q917206.\n",
    "   # get the label\n",
    "   ?obj sc:name ?name.\n",
    "}\n",
    "LIMIT 20\n",
    "\"\"\"\n",
    "\n",
    "print(\"Results\")\n",
    "x=run_query(queryString)"
   ]
  },
  {
   "cell_type": "markdown",
   "id": "ee38845e",
   "metadata": {
    "tags": []
   },
   "source": [
    "## Task 4\n",
    "Consider marathons ran in Europe. Return the number of different runners who won a marathon group by their country of citizenship (the result set must be a triples of country IRI, label and #different runners)."
   ]
  },
  {
   "cell_type": "code",
   "execution_count": 61,
   "id": "a5fb9c49",
   "metadata": {},
   "outputs": [
    {
     "name": "stdout",
     "output_type": "stream",
     "text": [
      "Results\n",
      "[('obj', 'http://www.wikidata.org/entity/Q13382460'), ('name', 'marathon runner')]\n",
      "[('obj', 'http://www.wikidata.org/entity/Q20078554'), ('name', 'Great Soviet Encyclopedia (1926–1947)')]\n",
      "[('obj', 'http://www.wikidata.org/entity/Q2312410'), ('name', 'sports discipline')]\n",
      "[('obj', 'http://www.wikidata.org/entity/Q2657718'), ('name', 'Armenian Soviet Encyclopedia')]\n",
      "[('obj', 'http://www.wikidata.org/entity/Q542'), ('name', 'athletics')]\n",
      "[('obj', 'http://www.wikidata.org/entity/Q878123'), ('name', 'racing')]\n",
      "[('obj', 'http://www.wikidata.org/entity/Q917206'), ('name', 'long-distance running')]\n",
      "[('obj', 'http://www.wikidata.org/entity/Q9124'), ('name', 'Eliud Kipchoge')]\n",
      "[('obj', 'http://www.wikidata.org/entity/Q31900'), ('name', 'Battle of Marathon')]\n",
      "[('obj', 'http://www.wikidata.org/entity/Q63223'), ('name', 'Dennis Kipruto Kimetto')]\n",
      "[('obj', 'http://www.wikidata.org/entity/Q5866964'), ('name', 'Category:Marathons')]\n",
      "[('obj', 'http://www.wikidata.org/entity/Q10088591'), ('name', 'Category:Marathon running')]\n",
      "12\n"
     ]
    }
   ],
   "source": [
    "# let's have a look at entities related to marathon\n",
    "\n",
    "queryString = \"\"\"\n",
    "SELECT DISTINCT ?obj ?name\n",
    "WHERE {\n",
    "   # bind something\n",
    "   wd:Q40244 ?p ?obj.\n",
    "   # get the label\n",
    "   ?obj sc:name ?name.\n",
    "}\n",
    "LIMIT 20\n",
    "\"\"\"\n",
    "\n",
    "print(\"Results\")\n",
    "x=run_query(queryString)"
   ]
  },
  {
   "cell_type": "code",
   "execution_count": 95,
   "id": "e3520c4e-1a94-4241-b524-5e2cd40a6cba",
   "metadata": {},
   "outputs": [
    {
     "name": "stdout",
     "output_type": "stream",
     "text": [
      "Results\n",
      "[('p', 'http://www.wikidata.org/prop/direct/P1000'), ('name', 'record held')]\n",
      "[('p', 'http://www.wikidata.org/prop/direct/P1225'), ('name', 'U.S. National Archives Identifier')]\n",
      "[('p', 'http://www.wikidata.org/prop/direct/P1245'), ('name', 'OmegaWiki Defined Meaning')]\n",
      "[('p', 'http://www.wikidata.org/prop/direct/P1296'), ('name', 'Gran Enciclopèdia Catalana ID')]\n",
      "[('p', 'http://www.wikidata.org/prop/direct/P1343'), ('name', 'described by source')]\n",
      "[('p', 'http://www.wikidata.org/prop/direct/P138'), ('name', 'named after')]\n",
      "[('p', 'http://www.wikidata.org/prop/direct/P1417'), ('name', 'Encyclopædia Britannica Online ID')]\n",
      "[('p', 'http://www.wikidata.org/prop/direct/P18'), ('name', 'image')]\n",
      "[('p', 'http://www.wikidata.org/prop/direct/P227'), ('name', 'GND ID')]\n",
      "[('p', 'http://www.wikidata.org/prop/direct/P2347'), ('name', 'YSO ID')]\n",
      "[('p', 'http://www.wikidata.org/prop/direct/P244'), ('name', 'Library of Congress authority ID')]\n",
      "[('p', 'http://www.wikidata.org/prop/direct/P2581'), ('name', 'BabelNet ID')]\n",
      "[('p', 'http://www.wikidata.org/prop/direct/P268'), ('name', 'Bibliothèque nationale de France ID')]\n",
      "[('p', 'http://www.wikidata.org/prop/direct/P279'), ('name', 'subclass of')]\n",
      "[('p', 'http://www.wikidata.org/prop/direct/P2924'), ('name', 'Great Russian Encyclopedia Online ID')]\n",
      "[('p', 'http://www.wikidata.org/prop/direct/P3095'), ('name', 'practiced by')]\n",
      "[('p', 'http://www.wikidata.org/prop/direct/P31'), ('name', 'instance of')]\n",
      "[('p', 'http://www.wikidata.org/prop/direct/P3157'), ('name', 'event distance')]\n",
      "[('p', 'http://www.wikidata.org/prop/direct/P3219'), ('name', 'Encyclopædia Universalis ID')]\n",
      "[('p', 'http://www.wikidata.org/prop/direct/P3221'), ('name', 'New York Times topic ID')]\n",
      "[('p', 'http://www.wikidata.org/prop/direct/P3417'), ('name', 'Quora topic ID')]\n",
      "[('p', 'http://www.wikidata.org/prop/direct/P349'), ('name', 'National Diet Library ID')]\n",
      "[('p', 'http://www.wikidata.org/prop/direct/P3553'), ('name', 'Zhihu topic ID')]\n",
      "[('p', 'http://www.wikidata.org/prop/direct/P3827'), ('name', 'JSTOR topic ID')]\n",
      "[('p', 'http://www.wikidata.org/prop/direct/P4613'), ('name', 'Encyclopedia of Modern Ukraine ID')]\n",
      "[('p', 'http://www.wikidata.org/prop/direct/P508'), ('name', 'BNCF Thesaurus ID')]\n",
      "[('p', 'http://www.wikidata.org/prop/direct/P5429'), ('name', 'IPTC NewsCode')]\n",
      "[('p', 'http://www.wikidata.org/prop/direct/P5513'), ('name', \"Enciclopèdia de l'Esport Català ID\")]\n",
      "[('p', 'http://www.wikidata.org/prop/direct/P641'), ('name', 'sport')]\n",
      "[('p', 'http://www.wikidata.org/prop/direct/P646'), ('name', 'Freebase ID')]\n",
      "[('p', 'http://www.wikidata.org/prop/direct/P6573'), ('name', 'Klexikon article ID')]\n",
      "[('p', 'http://www.wikidata.org/prop/direct/P7818'), ('name', 'French Vikidia ID')]\n",
      "[('p', 'http://www.wikidata.org/prop/direct/P8408'), ('name', 'KBpedia ID')]\n",
      "[('p', 'http://www.wikidata.org/prop/direct/P8672'), ('name', 'Twitter topic ID')]\n",
      "[('p', 'http://www.wikidata.org/prop/direct/P910'), ('name', \"topic's main category\")]\n",
      "[('p', 'http://www.wikidata.org/prop/direct/P948'), ('name', 'page banner')]\n",
      "[('p', 'http://www.wikidata.org/prop/direct/P9873'), ('name', 'Enciclopedia dello Sport ID')]\n",
      "37\n"
     ]
    }
   ],
   "source": [
    "# let's have a look at properties related to marathon\n",
    "\n",
    "queryString = \"\"\"\n",
    "SELECT DISTINCT ?p ?name\n",
    "WHERE {\n",
    "   # bind something\n",
    "   wd:Q40244 ?p ?obj.\n",
    "   # get the label\n",
    "   ?p sc:name ?name.\n",
    "}\n",
    "#LIMIT 20\n",
    "\"\"\"\n",
    "\n",
    "print(\"Results\")\n",
    "x=run_query(queryString)"
   ]
  },
  {
   "cell_type": "code",
   "execution_count": null,
   "id": "f77f3076-59b2-4d44-9613-a48eb83f5d78",
   "metadata": {},
   "outputs": [],
   "source": [
    "# inspecting both entities and properties related to 'marathon' we can't get any useful data for our query"
   ]
  },
  {
   "cell_type": "code",
   "execution_count": 120,
   "id": "830616a2-2227-4e7a-bcd6-3d346cdb40b4",
   "metadata": {
    "tags": []
   },
   "outputs": [
    {
     "name": "stdout",
     "output_type": "stream",
     "text": [
      "Results\n",
      "[('runner', 'http://www.wikidata.org/entity/Q1701191'), ('name', 'John Nada Saya')]\n",
      "[('runner', 'http://www.wikidata.org/entity/Q16006623'), ('name', 'Harry Payne')]\n",
      "[('runner', 'http://www.wikidata.org/entity/Q16007889'), ('name', 'John Tarrant')]\n",
      "[('runner', 'http://www.wikidata.org/entity/Q16008400'), ('name', 'Waldemar Karlsson')]\n",
      "[('runner', 'http://www.wikidata.org/entity/Q16011969'), ('name', 'John J. Reynolds')]\n",
      "[('runner', 'http://www.wikidata.org/entity/Q1602744'), ('name', 'Hellen Mugo')]\n",
      "[('runner', 'http://www.wikidata.org/entity/Q16185418'), ('name', 'Jerry Kiernan')]\n",
      "[('runner', 'http://www.wikidata.org/entity/Q16186777'), ('name', 'George Malley')]\n",
      "[('runner', 'http://www.wikidata.org/entity/Q16210841'), ('name', 'Elva Dryer')]\n",
      "[('runner', 'http://www.wikidata.org/entity/Q16212704'), ('name', 'José Alejandro Semprún')]\n",
      "10\n"
     ]
    }
   ],
   "source": [
    "# get all the marathon runners\n",
    "queryString = \"\"\"\n",
    "SELECT DISTINCT ?runner ?name\n",
    "WHERE {\n",
    "   # bind something\n",
    "   ?runner wdt:P106 wd:Q13382460;\n",
    "        wdt:P31 wd:Q5.\n",
    "   # get the label\n",
    "   ?runner sc:name ?name.\n",
    "}\n",
    "LIMIT 10\n",
    "\"\"\"\n",
    "\n",
    "print(\"Results\")\n",
    "x=run_query(queryString)\n"
   ]
  },
  {
   "cell_type": "code",
   "execution_count": 84,
   "id": "d618ce66-28ef-49f5-89aa-5218e833b041",
   "metadata": {
    "collapsed": true,
    "jupyter": {
     "outputs_hidden": true
    },
    "tags": []
   },
   "outputs": [
    {
     "name": "stdout",
     "output_type": "stream",
     "text": [
      "Results\n",
      "[('obj', 'http://www.wikidata.org/prop/direct/P2162'), ('name', 'Deutsche Ultramarathon-Vereinigung ID')]\n",
      "[('obj', 'http://www.wikidata.org/prop/direct/P2323'), ('name', 'Swedish Olympic Committee athlete ID')]\n",
      "[('obj', 'http://www.wikidata.org/prop/direct/P3653'), ('name', 'ARRS runner ID')]\n",
      "[('obj', 'http://www.wikidata.org/prop/direct/P3881'), ('name', 'National Track & Field Hall of Fame athlete ID')]\n",
      "[('obj', 'http://www.wikidata.org/prop/direct/P4069'), ('name', 'Italian National Olympic Committee athlete ID')]\n",
      "[('obj', 'http://www.wikidata.org/prop/direct/P4050'), ('name', 'French Olympic Committee athlete ID')]\n",
      "[('obj', 'http://www.wikidata.org/prop/direct/P3767'), ('name', 'French Athletics Federation athlete ID')]\n",
      "[('obj', 'http://www.wikidata.org/prop/direct/P6421'), ('name', 'infosport.ru person ID')]\n",
      "[('obj', 'http://www.wikidata.org/prop/direct/P1005'), ('name', 'Portuguese National Library ID')]\n",
      "[('obj', 'http://www.wikidata.org/prop/direct/P1006'), ('name', 'Nationale Thesaurus voor Auteurs ID')]\n",
      "[('obj', 'http://www.wikidata.org/prop/direct/P1015'), ('name', 'NORAF ID')]\n",
      "[('obj', 'http://www.wikidata.org/prop/direct/P103'), ('name', 'native language')]\n",
      "[('obj', 'http://www.wikidata.org/prop/direct/P1038'), ('name', 'relative')]\n",
      "[('obj', 'http://www.wikidata.org/prop/direct/P106'), ('name', 'occupation')]\n",
      "[('obj', 'http://www.wikidata.org/prop/direct/P108'), ('name', 'employer')]\n",
      "[('obj', 'http://www.wikidata.org/prop/direct/P1146'), ('name', 'World Athletics athlete ID')]\n",
      "[('obj', 'http://www.wikidata.org/prop/direct/P119'), ('name', 'place of burial')]\n",
      "[('obj', 'http://www.wikidata.org/prop/direct/P1196'), ('name', 'manner of death')]\n",
      "[('obj', 'http://www.wikidata.org/prop/direct/P1207'), ('name', 'NUKAT ID')]\n",
      "[('obj', 'http://www.wikidata.org/prop/direct/P1284'), ('name', 'Munzinger person ID')]\n",
      "[('obj', 'http://www.wikidata.org/prop/direct/P1285'), ('name', 'Munzinger Sport number')]\n",
      "[('obj', 'http://www.wikidata.org/prop/direct/P1299'), ('name', 'depicted by')]\n",
      "[('obj', 'http://www.wikidata.org/prop/direct/P1344'), ('name', 'participant in')]\n",
      "[('obj', 'http://www.wikidata.org/prop/direct/P1412'), ('name', 'languages spoken, written or signed')]\n",
      "[('obj', 'http://www.wikidata.org/prop/direct/P1417'), ('name', 'Encyclopædia Britannica Online ID')]\n",
      "[('obj', 'http://www.wikidata.org/prop/direct/P1447'), ('name', 'Sports-Reference.com Olympic athlete ID')]\n",
      "[('obj', 'http://www.wikidata.org/prop/direct/P1477'), ('name', 'birth name')]\n",
      "[('obj', 'http://www.wikidata.org/prop/direct/P1532'), ('name', 'country for sport')]\n",
      "[('obj', 'http://www.wikidata.org/prop/direct/P1559'), ('name', 'name in native language')]\n",
      "[('obj', 'http://www.wikidata.org/prop/direct/P166'), ('name', 'award received')]\n",
      "[('obj', 'http://www.wikidata.org/prop/direct/P172'), ('name', 'ethnic group')]\n",
      "[('obj', 'http://www.wikidata.org/prop/direct/P1741'), ('name', 'GTAA ID')]\n",
      "[('obj', 'http://www.wikidata.org/prop/direct/P18'), ('name', 'image')]\n",
      "[('obj', 'http://www.wikidata.org/prop/direct/P1814'), ('name', 'name in kana')]\n",
      "[('obj', 'http://www.wikidata.org/prop/direct/P1816'), ('name', 'National Portrait Gallery (London) person ID')]\n",
      "[('obj', 'http://www.wikidata.org/prop/direct/P1889'), ('name', 'different from')]\n",
      "[('obj', 'http://www.wikidata.org/prop/direct/P19'), ('name', 'place of birth')]\n",
      "[('obj', 'http://www.wikidata.org/prop/direct/P1942'), ('name', 'McCune-Reischauer romanization')]\n",
      "[('obj', 'http://www.wikidata.org/prop/direct/P1950'), ('name', 'second family name in Spanish name')]\n",
      "[('obj', 'http://www.wikidata.org/prop/direct/P20'), ('name', 'place of death')]\n",
      "[('obj', 'http://www.wikidata.org/prop/direct/P2001'), ('name', 'Revised Romanization')]\n",
      "[('obj', 'http://www.wikidata.org/prop/direct/P2002'), ('name', 'Twitter username')]\n",
      "[('obj', 'http://www.wikidata.org/prop/direct/P2013'), ('name', 'Facebook ID')]\n",
      "[('obj', 'http://www.wikidata.org/prop/direct/P2031'), ('name', 'work period (start)')]\n",
      "[('obj', 'http://www.wikidata.org/prop/direct/P2048'), ('name', 'height')]\n",
      "[('obj', 'http://www.wikidata.org/prop/direct/P2067'), ('name', 'mass')]\n",
      "[('obj', 'http://www.wikidata.org/prop/direct/P2094'), ('name', 'competition class')]\n",
      "[('obj', 'http://www.wikidata.org/prop/direct/P21'), ('name', 'sex or gender')]\n",
      "[('obj', 'http://www.wikidata.org/prop/direct/P213'), ('name', 'ISNI')]\n",
      "[('obj', 'http://www.wikidata.org/prop/direct/P214'), ('name', 'VIAF ID')]\n",
      "[('obj', 'http://www.wikidata.org/prop/direct/P2163'), ('name', 'FAST ID')]\n",
      "[('obj', 'http://www.wikidata.org/prop/direct/P227'), ('name', 'GND ID')]\n",
      "[('obj', 'http://www.wikidata.org/prop/direct/P2397'), ('name', 'YouTube channel ID')]\n",
      "[('obj', 'http://www.wikidata.org/prop/direct/P241'), ('name', 'military branch')]\n",
      "[('obj', 'http://www.wikidata.org/prop/direct/P2416'), ('name', 'sports discipline competed in')]\n",
      "[('obj', 'http://www.wikidata.org/prop/direct/P244'), ('name', 'Library of Congress authority ID')]\n",
      "[('obj', 'http://www.wikidata.org/prop/direct/P26'), ('name', 'spouse')]\n",
      "[('obj', 'http://www.wikidata.org/prop/direct/P2671'), ('name', 'Google Knowledge Graph ID')]\n",
      "[('obj', 'http://www.wikidata.org/prop/direct/P268'), ('name', 'Bibliothèque nationale de France ID')]\n",
      "[('obj', 'http://www.wikidata.org/prop/direct/P269'), ('name', 'IdRef ID')]\n",
      "[('obj', 'http://www.wikidata.org/prop/direct/P27'), ('name', 'country of citizenship')]\n",
      "[('obj', 'http://www.wikidata.org/prop/direct/P2730'), ('name', 'ISSF athlete ID')]\n",
      "[('obj', 'http://www.wikidata.org/prop/direct/P286'), ('name', 'head coach')]\n",
      "[('obj', 'http://www.wikidata.org/prop/direct/P2924'), ('name', 'Great Russian Encyclopedia Online ID')]\n",
      "[('obj', 'http://www.wikidata.org/prop/direct/P2949'), ('name', 'WikiTree person ID')]\n",
      "[('obj', 'http://www.wikidata.org/prop/direct/P2966'), ('name', 'National Library of Wales Authority ID')]\n",
      "[('obj', 'http://www.wikidata.org/prop/direct/P31'), ('name', 'instance of')]\n",
      "[('obj', 'http://www.wikidata.org/prop/direct/P3171'), ('name', 'Olympic.org athlete ID (archived version)')]\n",
      "[('obj', 'http://www.wikidata.org/prop/direct/P3185'), ('name', 'VK ID')]\n",
      "[('obj', 'http://www.wikidata.org/prop/direct/P3219'), ('name', 'Encyclopædia Universalis ID')]\n",
      "[('obj', 'http://www.wikidata.org/prop/direct/P3222'), ('name', 'NE.se ID')]\n",
      "[('obj', 'http://www.wikidata.org/prop/direct/P3373'), ('name', 'sibling')]\n",
      "[('obj', 'http://www.wikidata.org/prop/direct/P345'), ('name', 'IMDb ID')]\n",
      "[('obj', 'http://www.wikidata.org/prop/direct/P349'), ('name', 'National Diet Library ID')]\n",
      "[('obj', 'http://www.wikidata.org/prop/direct/P3520'), ('name', 'databaseOlympics.com athlete ID')]\n",
      "[('obj', 'http://www.wikidata.org/prop/direct/P373'), ('name', 'Commons category')]\n",
      "[('obj', 'http://www.wikidata.org/prop/direct/P3765'), ('name', 'All-Athletics.com ID')]\n",
      "[('obj', 'http://www.wikidata.org/prop/direct/P3766'), ('name', 'European Athletics ID')]\n",
      "[('obj', 'http://www.wikidata.org/prop/direct/P3882'), ('name', 'Tilastopaja female athlete ID')]\n",
      "[('obj', 'http://www.wikidata.org/prop/direct/P3884'), ('name', 'Tilastopaja male athlete ID')]\n",
      "[('obj', 'http://www.wikidata.org/prop/direct/P39'), ('name', 'position held')]\n",
      "[('obj', 'http://www.wikidata.org/prop/direct/P3923'), ('name', 'Diamond League athlete ID')]\n",
      "[('obj', 'http://www.wikidata.org/prop/direct/P3924'), ('name', 'Track and Field Statistics female athlete ID')]\n",
      "[('obj', 'http://www.wikidata.org/prop/direct/P3925'), ('name', 'Track and Field Statistics male athlete ID')]\n",
      "[('obj', 'http://www.wikidata.org/prop/direct/P3987'), ('name', 'SHARE Catalogue author ID')]\n",
      "[('obj', 'http://www.wikidata.org/prop/direct/P4056'), ('name', 'New Zealand Olympic Committee athlete ID')]\n",
      "[('obj', 'http://www.wikidata.org/prop/direct/P4063'), ('name', 'United States Olympic & Paralympic Committee athlete ID')]\n",
      "[('obj', 'http://www.wikidata.org/prop/direct/P410'), ('name', 'military rank')]\n",
      "[('obj', 'http://www.wikidata.org/prop/direct/P4124'), ('name', \"Who's Who in France biography ID\")]\n",
      "[('obj', 'http://www.wikidata.org/prop/direct/P4342'), ('name', 'Store norske leksikon ID')]\n",
      "[('obj', 'http://www.wikidata.org/prop/direct/P4391'), ('name', 'The-Sports.org athlete ID')]\n",
      "[('obj', 'http://www.wikidata.org/prop/direct/P4418'), ('name', 'New Zealand Sports Hall of Fame ID')]\n",
      "[('obj', 'http://www.wikidata.org/prop/direct/P443'), ('name', 'pronunciation audio')]\n",
      "[('obj', 'http://www.wikidata.org/prop/direct/P4490'), ('name', 'British Olympic Association athlete ID')]\n",
      "[('obj', 'http://www.wikidata.org/prop/direct/P4548'), ('name', 'Commonwealth Games Federation athlete ID')]\n",
      "[('obj', 'http://www.wikidata.org/prop/direct/P463'), ('name', 'member of')]\n",
      "[('obj', 'http://www.wikidata.org/prop/direct/P5080'), ('name', 'Norsk biografisk leksikon ID')]\n",
      "[('obj', 'http://www.wikidata.org/prop/direct/P535'), ('name', 'Find A Grave memorial ID')]\n",
      "[('obj', 'http://www.wikidata.org/prop/direct/P5361'), ('name', 'BNB person ID')]\n",
      "[('obj', 'http://www.wikidata.org/prop/direct/P5421'), ('name', 'Trading Card Database person ID')]\n",
      "[('obj', 'http://www.wikidata.org/prop/direct/P551'), ('name', 'residence')]\n",
      "[('obj', 'http://www.wikidata.org/prop/direct/P5617'), ('name', 'Evene ID')]\n",
      "[('obj', 'http://www.wikidata.org/prop/direct/P569'), ('name', 'date of birth')]\n",
      "[('obj', 'http://www.wikidata.org/prop/direct/P570'), ('name', 'date of death')]\n",
      "[('obj', 'http://www.wikidata.org/prop/direct/P5815'), ('name', 'Olympics.com athlete ID')]\n",
      "[('obj', 'http://www.wikidata.org/prop/direct/P607'), ('name', 'conflict')]\n",
      "[('obj', 'http://www.wikidata.org/prop/direct/P641'), ('name', 'sport')]\n",
      "[('obj', 'http://www.wikidata.org/prop/direct/P646'), ('name', 'Freebase ID')]\n",
      "[('obj', 'http://www.wikidata.org/prop/direct/P648'), ('name', 'Open Library ID')]\n",
      "[('obj', 'http://www.wikidata.org/prop/direct/P69'), ('name', 'educated at')]\n",
      "[('obj', 'http://www.wikidata.org/prop/direct/P7293'), ('name', 'PLWABN ID')]\n",
      "[('obj', 'http://www.wikidata.org/prop/direct/P734'), ('name', 'family name')]\n",
      "[('obj', 'http://www.wikidata.org/prop/direct/P7349'), ('name', 'Gazetteer for Scotland person ID')]\n",
      "[('obj', 'http://www.wikidata.org/prop/direct/P735'), ('name', 'given name')]\n",
      "[('obj', 'http://www.wikidata.org/prop/direct/P7686'), ('name', 'Encyclopedia of the Great Plains ID')]\n",
      "[('obj', 'http://www.wikidata.org/prop/direct/P7859'), ('name', 'WorldCat Identities ID')]\n",
      "[('obj', 'http://www.wikidata.org/prop/direct/P7929'), ('name', 'Roglo person ID')]\n",
      "[('obj', 'http://www.wikidata.org/prop/direct/P8286'), ('name', 'Olympedia people ID')]\n",
      "[('obj', 'http://www.wikidata.org/prop/direct/P856'), ('name', 'official website')]\n",
      "[('obj', 'http://www.wikidata.org/prop/direct/P8687'), ('name', 'social media followers')]\n",
      "[('obj', 'http://www.wikidata.org/prop/direct/P9371'), ('name', 'FranceArchives agent ID')]\n",
      "[('obj', 'http://www.wikidata.org/prop/direct/P4366'), ('name', 'Kansas Sports Hall of Fame ID')]\n",
      "[('obj', 'http://www.wikidata.org/prop/direct/P2090'), ('name', 'Power of 10 athlete ID')]\n",
      "[('obj', 'http://www.wikidata.org/prop/direct/P3446'), ('name', 'FIDAL athlete ID')]\n",
      "[('obj', 'http://www.wikidata.org/prop/direct/P4318'), ('name', 'Scottish Sports Hall of Fame athlete ID')]\n",
      "[('obj', 'http://www.wikidata.org/prop/direct/P3584'), ('name', 'ITRA runner ID')]\n",
      "[('obj', 'http://www.wikidata.org/prop/direct/P4364'), ('name', 'Georgia Sports Hall of Fame ID')]\n",
      "[('obj', 'http://www.wikidata.org/prop/direct/P8161'), ('name', 'CONI honoured ID')]\n",
      "[('obj', 'http://www.wikidata.org/prop/direct/P4377'), ('name', \"Women's Sports Foundation ID\")]\n",
      "[('obj', 'http://www.wikidata.org/prop/direct/P1000'), ('name', 'record held')]\n",
      "[('obj', 'http://www.wikidata.org/prop/direct/P101'), ('name', 'field of work')]\n",
      "[('obj', 'http://www.wikidata.org/prop/direct/P102'), ('name', 'member of political party')]\n",
      "[('obj', 'http://www.wikidata.org/prop/direct/P1233'), ('name', 'Internet Speculative Fiction Database author ID')]\n",
      "[('obj', 'http://www.wikidata.org/prop/direct/P1263'), ('name', 'NNDB people ID')]\n",
      "[('obj', 'http://www.wikidata.org/prop/direct/P1273'), ('name', 'CANTIC ID')]\n",
      "[('obj', 'http://www.wikidata.org/prop/direct/P1280'), ('name', 'CONOR.SI ID')]\n",
      "[('obj', 'http://www.wikidata.org/prop/direct/P1296'), ('name', 'Gran Enciclopèdia Catalana ID')]\n",
      "[('obj', 'http://www.wikidata.org/prop/direct/P1303'), ('name', 'instrument')]\n",
      "[('obj', 'http://www.wikidata.org/prop/direct/P1315'), ('name', 'NLA Trove ID')]\n",
      "[('obj', 'http://www.wikidata.org/prop/direct/P1343'), ('name', 'described by source')]\n",
      "[('obj', 'http://www.wikidata.org/prop/direct/P140'), ('name', 'religion')]\n",
      "[('obj', 'http://www.wikidata.org/prop/direct/P1411'), ('name', 'nominated for')]\n",
      "[('obj', 'http://www.wikidata.org/prop/direct/P1576'), ('name', 'lifestyle')]\n",
      "[('obj', 'http://www.wikidata.org/prop/direct/P1695'), ('name', 'NLP ID (unique)')]\n",
      "[('obj', 'http://www.wikidata.org/prop/direct/P1711'), ('name', 'British Museum person or institution ID')]\n",
      "[('obj', 'http://www.wikidata.org/prop/direct/P1819'), ('name', 'genealogics.org person ID')]\n",
      "[('obj', 'http://www.wikidata.org/prop/direct/P1853'), ('name', 'blood type')]\n",
      "[('obj', 'http://www.wikidata.org/prop/direct/P2003'), ('name', 'Instagram username')]\n",
      "[('obj', 'http://www.wikidata.org/prop/direct/P2180'), ('name', 'Kansallisbiografia ID')]\n",
      "[('obj', 'http://www.wikidata.org/prop/direct/P2387'), ('name', 'Elonet person ID')]\n",
      "[('obj', 'http://www.wikidata.org/prop/direct/P2522'), ('name', 'victory')]\n",
      "[('obj', 'http://www.wikidata.org/prop/direct/P2600'), ('name', 'Geni.com profile ID')]\n",
      "[('obj', 'http://www.wikidata.org/prop/direct/P2626'), ('name', 'Danish National Filmography person ID')]\n",
      "[('obj', 'http://www.wikidata.org/prop/direct/P2639'), ('name', 'Filmportal ID')]\n",
      "[('obj', 'http://www.wikidata.org/prop/direct/P2889'), ('name', 'FamilySearch person ID')]\n",
      "[('obj', 'http://www.wikidata.org/prop/direct/P3154'), ('name', 'Runeberg author ID')]\n",
      "[('obj', 'http://www.wikidata.org/prop/direct/P3417'), ('name', 'Quora topic ID')]\n",
      "[('obj', 'http://www.wikidata.org/prop/direct/P3430'), ('name', 'SNAC ARK ID')]\n",
      "[('obj', 'http://www.wikidata.org/prop/direct/P3595'), ('name', 'Biografiskt Lexikon för Finland ID')]\n",
      "[('obj', 'http://www.wikidata.org/prop/direct/P3682'), ('name', 'Australian Olympic Committee athlete ID')]\n",
      "[('obj', 'http://www.wikidata.org/prop/direct/P3901'), ('name', 'ADAGP artist ID')]\n",
      "[('obj', 'http://www.wikidata.org/prop/direct/P40'), ('name', 'child')]\n",
      "[('obj', 'http://www.wikidata.org/prop/direct/P4347'), ('name', 'Florida Sports Hall of Fame athlete ID')]\n",
      "[('obj', 'http://www.wikidata.org/prop/direct/P4359'), ('name', 'gravsted.dk ID')]\n",
      "[('obj', 'http://www.wikidata.org/prop/direct/P4539'), ('name', 'Collective Biographies of Women ID')]\n",
      "[('obj', 'http://www.wikidata.org/prop/direct/P4789'), ('name', \"Who's Who UK ID\")]\n",
      "[('obj', 'http://www.wikidata.org/prop/direct/P4854'), ('name', 'Uppslagsverket Finland ID')]\n",
      "[('obj', 'http://www.wikidata.org/prop/direct/P4985'), ('name', 'TMDb person ID')]\n",
      "[('obj', 'http://www.wikidata.org/prop/direct/P5019'), ('name', 'Brockhaus Enzyklopädie online ID')]\n",
      "[('obj', 'http://www.wikidata.org/prop/direct/P5034'), ('name', 'National Library of Korea ID')]\n",
      "[('obj', 'http://www.wikidata.org/prop/direct/P509'), ('name', 'cause of death')]\n",
      "[('obj', 'http://www.wikidata.org/prop/direct/P54'), ('name', 'member of sports team')]\n",
      "[('obj', 'http://www.wikidata.org/prop/direct/P599'), ('name', 'ITF player ID')]\n",
      "[('obj', 'http://www.wikidata.org/prop/direct/P6275'), ('name', 'copyright representative')]\n",
      "[('obj', 'http://www.wikidata.org/prop/direct/P6394'), ('name', 'ELNET ID')]\n",
      "[('obj', 'http://www.wikidata.org/prop/direct/P6634'), ('name', 'LinkedIn personal profile ID')]\n",
      "[('obj', 'http://www.wikidata.org/prop/direct/P6706'), ('name', 'De Agostini ID')]\n",
      "[('obj', 'http://www.wikidata.org/prop/direct/P6723'), ('name', 'BlackPast.org ID')]\n",
      "[('obj', 'http://www.wikidata.org/prop/direct/P691'), ('name', 'NKCR AUT ID')]\n",
      "[('obj', 'http://www.wikidata.org/prop/direct/P7085'), ('name', 'TikTok username')]\n",
      "[('obj', 'http://www.wikidata.org/prop/direct/P742'), ('name', 'pseudonym')]\n",
      "[('obj', 'http://www.wikidata.org/prop/direct/P7763'), ('name', 'copyright status as a creator')]\n",
      "[('obj', 'http://www.wikidata.org/prop/direct/P7902'), ('name', 'Deutsche Biographie (GND) ID')]\n",
      "[('obj', 'http://www.wikidata.org/prop/direct/P7982'), ('name', 'Hrvatska enciklopedija ID')]\n",
      "[('obj', 'http://www.wikidata.org/prop/direct/P859'), ('name', 'sponsor')]\n",
      "[('obj', 'http://www.wikidata.org/prop/direct/P8618'), ('name', 'ITF player ID 2020')]\n",
      "[('obj', 'http://www.wikidata.org/prop/direct/P8980'), ('name', 'KANTO ID')]\n",
      "[('obj', 'http://www.wikidata.org/prop/direct/P910'), ('name', \"topic's main category\")]\n",
      "[('obj', 'http://www.wikidata.org/prop/direct/P9113'), ('name', 'Patrinum ID')]\n",
      "[('obj', 'http://www.wikidata.org/prop/direct/P9304'), ('name', 'Encyclopedia of Melbourne ID')]\n",
      "[('obj', 'http://www.wikidata.org/prop/direct/P9324'), ('name', 'BiographySampo person ID')]\n",
      "[('obj', 'http://www.wikidata.org/prop/direct/P935'), ('name', 'Commons gallery')]\n",
      "[('obj', 'http://www.wikidata.org/prop/direct/P9352'), ('name', 'Portrait Archive ID')]\n",
      "[('obj', 'http://www.wikidata.org/prop/direct/P950'), ('name', 'Biblioteca Nacional de España ID')]\n",
      "[('obj', 'http://www.wikidata.org/prop/direct/P1907'), ('name', 'Australian Dictionary of Biography ID')]\n",
      "[('obj', 'http://www.wikidata.org/prop/direct/P3857'), ('name', 'Cinenacional.com person ID')]\n",
      "[('obj', 'http://www.wikidata.org/prop/direct/P6758'), ('name', 'supported sports team')]\n",
      "[('obj', 'http://www.wikidata.org/prop/direct/P4397'), ('name', 'IPC.infostradasports.com sportsperson ID')]\n",
      "[('obj', 'http://www.wikidata.org/prop/direct/P7550'), ('name', 'Paralympic.org athlete ID')]\n",
      "[('obj', 'http://www.wikidata.org/prop/direct/P4415'), ('name', 'Sport Australia Hall of Fame inductee ID')]\n",
      "[('obj', 'http://www.wikidata.org/prop/direct/P3915'), ('name', 'Australian Athletics Historical Results athlete ID')]\n",
      "[('obj', 'http://www.wikidata.org/prop/direct/P3585'), ('name', 'UltraSignup runner ID')]\n",
      "[('obj', 'http://www.wikidata.org/prop/direct/P2778'), ('name', 'IAT triathlete ID')]\n",
      "[('obj', 'http://www.wikidata.org/prop/direct/P3604'), ('name', 'World Triathlon triathlete ID')]\n",
      "[('obj', 'http://www.wikidata.org/prop/direct/P4398'), ('name', \"Canada's Sports Hall of Fame athlete ID\")]\n",
      "[('obj', 'http://www.wikidata.org/prop/direct/P6071'), ('name', 'Polish Olympic Committee athlete ID')]\n",
      "[('obj', 'http://www.wikidata.org/prop/direct/P1050'), ('name', 'medical condition')]\n",
      "[('obj', 'http://www.wikidata.org/prop/direct/P1449'), ('name', 'nickname')]\n",
      "[('obj', 'http://www.wikidata.org/prop/direct/P1807'), ('name', 'Great Aragonese Encyclopedia ID')]\n",
      "[('obj', 'http://www.wikidata.org/prop/direct/P22'), ('name', 'father')]\n",
      "[('obj', 'http://www.wikidata.org/prop/direct/P25'), ('name', 'mother')]\n",
      "[('obj', 'http://www.wikidata.org/prop/direct/P2963'), ('name', 'Goodreads author ID')]\n",
      "[('obj', 'http://www.wikidata.org/prop/direct/P3065'), ('name', 'RERO ID')]\n",
      "[('obj', 'http://www.wikidata.org/prop/direct/P3630'), ('name', 'Babelio author ID')]\n",
      "[('obj', 'http://www.wikidata.org/prop/direct/P3846'), ('name', 'DBC author ID')]\n",
      "[('obj', 'http://www.wikidata.org/prop/direct/P3926'), ('name', 'USA Track & Field athlete ID')]\n",
      "[('obj', 'http://www.wikidata.org/prop/direct/P3988'), ('name', 'National Library Board Singapore ID')]\n",
      "[('obj', 'http://www.wikidata.org/prop/direct/P413'), ('name', 'position played on team / speciality')]\n",
      "[('obj', 'http://www.wikidata.org/prop/direct/P4619'), ('name', 'National Library of Brazil ID')]\n",
      "[('obj', 'http://www.wikidata.org/prop/direct/P4638'), ('name', 'The Peerage person ID')]\n",
      "[('obj', 'http://www.wikidata.org/prop/direct/P5008'), ('name', 'on focus list of Wikimedia project')]\n",
      "[('obj', 'http://www.wikidata.org/prop/direct/P5297'), ('name', 'Companies House officer ID')]\n",
      "[('obj', 'http://www.wikidata.org/prop/direct/P793'), ('name', 'significant event')]\n",
      "[('obj', 'http://www.wikidata.org/prop/direct/P8094'), ('name', 'GeneaStar person ID')]\n",
      "[('obj', 'http://www.wikidata.org/prop/direct/P8179'), ('name', 'Canadiana NCF ID')]\n",
      "[('obj', 'http://www.wikidata.org/prop/direct/P8189'), ('name', 'National Library of Israel J9U ID')]\n",
      "[('obj', 'http://www.wikidata.org/prop/direct/P866'), ('name', 'Perlentaucher ID')]\n",
      "[('obj', 'http://www.wikidata.org/prop/direct/P97'), ('name', 'noble title')]\n",
      "[('obj', 'http://www.wikidata.org/prop/direct/P9743'), ('name', 'Podchaser creator ID')]\n",
      "[('obj', 'http://www.wikidata.org/prop/direct/P1409'), ('name', 'Cycling Archives cyclist ID')]\n",
      "[('obj', 'http://www.wikidata.org/prop/direct/P1663'), ('name', 'ProCyclingStats cyclist ID')]\n",
      "[('obj', 'http://www.wikidata.org/prop/direct/P2415'), ('name', 'personal best')]\n",
      "[('obj', 'http://www.wikidata.org/prop/direct/P4061'), ('name', 'Lithuanian National Olympic Committee athlete ID')]\n",
      "[('obj', 'http://www.wikidata.org/prop/direct/P4508'), ('name', 'CycleBase cyclist ID')]\n",
      "[('obj', 'http://www.wikidata.org/prop/direct/P511'), ('name', 'honorific prefix')]\n",
      "[('obj', 'http://www.wikidata.org/prop/direct/P2709'), ('name', 'CQ Ranking female cyclist ID')]\n",
      "[('obj', 'http://www.wikidata.org/prop/direct/P6199'), ('name', 'member of the Portuguese parliament ID')]\n",
      "[('obj', 'http://www.wikidata.org/prop/direct/P2459'), ('name', 'IBU biathlete ID')]\n",
      "[('obj', 'http://www.wikidata.org/prop/direct/P4015'), ('name', 'Vimeo identifier')]\n",
      "[('obj', 'http://www.wikidata.org/prop/direct/P2029'), ('name', 'Dictionary of Ulster Biography ID')]\n",
      "[('obj', 'http://www.wikidata.org/prop/direct/P2976'), ('name', 'patronym or matronym for this name')]\n",
      "[('obj', 'http://www.wikidata.org/prop/direct/P1340'), ('name', 'eye color')]\n",
      "[('obj', 'http://www.wikidata.org/prop/direct/P1884'), ('name', 'hair color')]\n",
      "[('obj', 'http://www.wikidata.org/prop/direct/P2032'), ('name', 'work period (end)')]\n",
      "[('obj', 'http://www.wikidata.org/prop/direct/P271'), ('name', 'CiNii author ID (books)')]\n",
      "[('obj', 'http://www.wikidata.org/prop/direct/P2847'), ('name', 'Google+ ID')]\n",
      "[('obj', 'http://www.wikidata.org/prop/direct/P3789'), ('name', 'Telegram username')]\n",
      "[('obj', 'http://www.wikidata.org/prop/direct/P3836'), ('name', 'Pinterest username')]\n",
      "[('obj', 'http://www.wikidata.org/prop/direct/P4174'), ('name', 'Wikimedia username')]\n",
      "[('obj', 'http://www.wikidata.org/prop/direct/P4431'), ('name', 'Google Doodle')]\n",
      "[('obj', 'http://www.wikidata.org/prop/direct/P5056'), ('name', 'patronym or matronym for this person')]\n",
      "[('obj', 'http://www.wikidata.org/prop/direct/P5513'), ('name', \"Enciclopèdia de l'Esport Català ID\")]\n",
      "[('obj', 'http://www.wikidata.org/prop/direct/P552'), ('name', 'handedness')]\n",
      "[('obj', 'http://www.wikidata.org/prop/direct/P5587'), ('name', 'Libris-URI')]\n",
      "[('obj', 'http://www.wikidata.org/prop/direct/P6520'), ('name', 'Lokalhistoriewiki.no ID')]\n",
      "[('obj', 'http://www.wikidata.org/prop/direct/P6683'), ('name', 'Alexander Turnbull Library ID')]\n",
      "[('obj', 'http://www.wikidata.org/prop/direct/P6722'), ('name', 'FemBio ID')]\n",
      "[('obj', 'http://www.wikidata.org/prop/direct/P906'), ('name', 'SELIBR ID')]\n",
      "[('obj', 'http://www.wikidata.org/prop/direct/P937'), ('name', 'work location')]\n",
      "[('obj', 'http://www.wikidata.org/prop/direct/P3258'), ('name', 'LiveJournal ID')]\n",
      "[('obj', 'http://www.wikidata.org/prop/direct/P3943'), ('name', 'Tumblr username')]\n",
      "[('obj', 'http://www.wikidata.org/prop/direct/P6829'), ('name', 'Dictionary of Irish Biography ID')]\n",
      "[('obj', 'http://www.wikidata.org/prop/direct/P5797'), ('name', 'Twitch channel ID')]\n",
      "[('obj', 'http://www.wikidata.org/prop/direct/P6192'), ('name', 'Hembygdsportalen ID')]\n",
      "[('obj', 'http://www.wikidata.org/prop/direct/P5163'), ('name', 'Odnoklassniki ID')]\n",
      "[('obj', 'http://www.wikidata.org/prop/direct/P5283'), ('name', 'Strava ID of a professional sport person')]\n",
      "[('obj', 'http://www.wikidata.org/prop/direct/P2893'), ('name', 'Skype username')]\n",
      "[('obj', 'http://www.wikidata.org/prop/direct/P4067'), ('name', 'Romanian Olympic and Sports Committee athlete ID')]\n",
      "[('obj', 'http://www.wikidata.org/prop/direct/P9139'), ('name', 'first family name in Portuguese name')]\n",
      "[('obj', 'http://www.wikidata.org/prop/direct/P4823'), ('name', 'American National Biography ID')]\n",
      "[('obj', 'http://www.wikidata.org/prop/direct/P1599'), ('name', 'Cambridge Alumni Database ID')]\n",
      "[('obj', 'http://www.wikidata.org/prop/direct/P3218'), ('name', 'Auñamendi ID')]\n",
      "[('obj', 'http://www.wikidata.org/prop/direct/P2593'), ('name', 'Latvian Olympic Committee athlete ID')]\n",
      "[('obj', 'http://www.wikidata.org/prop/direct/P1220'), ('name', 'Internet Broadway Database person ID')]\n",
      "[('obj', 'http://www.wikidata.org/prop/direct/P2605'), ('name', 'ČSFD person ID')]\n",
      "[('obj', 'http://www.wikidata.org/prop/direct/P4062'), ('name', 'Czech Olympic Committee athlete ID')]\n",
      "[('obj', 'http://www.wikidata.org/prop/direct/P485'), ('name', 'archives at')]\n",
      "[('obj', 'http://www.wikidata.org/prop/direct/P6327'), ('name', 'Goodreads character ID')]\n",
      "[('obj', 'http://www.wikidata.org/prop/direct/P6656'), ('name', 'BHCL ID (former scheme)')]\n",
      "[('obj', 'http://www.wikidata.org/prop/direct/P7666'), ('name', 'Visuotinė lietuvių enciklopedija ID')]\n",
      "[('obj', 'http://www.wikidata.org/prop/direct/P7685'), ('name', 'CALS Encyclopedia of Arkansas ID')]\n",
      "[('obj', 'http://www.wikidata.org/prop/direct/P8081'), ('name', 'WBIS ID')]\n",
      "[('obj', 'http://www.wikidata.org/prop/direct/P812'), ('name', 'academic major')]\n",
      "[('obj', 'http://www.wikidata.org/prop/direct/P8349'), ('name', 'Proleksis enciklopedija ID')]\n",
      "[('obj', 'http://www.wikidata.org/prop/direct/P9037'), ('name', 'BHCL UUID')]\n",
      "[('obj', 'http://www.wikidata.org/prop/direct/P4060'), ('name', 'Brazilian Olympic Committee athlete ID')]\n",
      "[('obj', 'http://www.wikidata.org/prop/direct/P9430'), ('name', 'Encyclopedia of Jewish Women ID')]\n",
      "[('obj', 'http://www.wikidata.org/prop/direct/P5073'), ('name', 'JAAF athlete ID')]\n",
      "[('obj', 'http://www.wikidata.org/prop/direct/P118'), ('name', 'league')]\n",
      "[('obj', 'http://www.wikidata.org/prop/direct/P1442'), ('name', 'image of grave')]\n",
      "[('obj', 'http://www.wikidata.org/prop/direct/P1971'), ('name', 'number of children')]\n",
      "[('obj', 'http://www.wikidata.org/prop/direct/P3696'), ('name', 'Sports-Reference.com college basketball player ID')]\n",
      "[('obj', 'http://www.wikidata.org/prop/direct/P710'), ('name', 'participant')]\n",
      "[('obj', 'http://www.wikidata.org/prop/direct/P9058'), ('name', 'Fichier des personnes décédées ID (matchID)')]\n",
      "[('obj', 'http://www.wikidata.org/prop/direct/P973'), ('name', 'described at URL')]\n",
      "[('obj', 'http://www.wikidata.org/prop/direct/P3973'), ('name', 'PIM authority ID')]\n",
      "[('obj', 'http://www.wikidata.org/prop/direct/P7939'), ('name', 'Dansk kvindebiografisk leksikon ID')]\n",
      "[('obj', 'http://www.wikidata.org/prop/direct/P5120'), ('name', 'TFRRS athlete ID')]\n",
      "[('obj', 'http://www.wikidata.org/prop/direct/P4042'), ('name', 'ESBL athlete ID')]\n",
      "[('obj', 'http://www.wikidata.org/prop/direct/P4186'), ('name', \"Australian Women's Register ID\")]\n",
      "[('obj', 'http://www.wikidata.org/prop/direct/P5716'), ('name', '2006 Commonwealth Games athlete ID')]\n",
      "[('obj', 'http://www.wikidata.org/prop/direct/P2774'), ('name', 'FIS freestyle skier ID')]\n",
      "[('obj', 'http://www.wikidata.org/prop/direct/P1607'), ('name', 'Dialnet author ID')]\n",
      "[('obj', 'http://www.wikidata.org/prop/direct/P3348'), ('name', 'National Library of Greece ID')]\n",
      "[('obj', 'http://www.wikidata.org/prop/direct/P5395'), ('name', 'Canadian Encyclopedia article ID')]\n",
      "[('obj', 'http://www.wikidata.org/prop/direct/P9251'), ('name', 'Cyprus University of Technology ID')]\n",
      "[('obj', 'http://www.wikidata.org/prop/direct/P9322'), ('name', 'SVKKL authority ID')]\n",
      "[('obj', 'http://www.wikidata.org/prop/direct/P4489'), ('name', 'Hellenic Olympic Committee athlete ID')]\n",
      "[('obj', 'http://www.wikidata.org/prop/direct/P4406'), ('name', 'Nova Scotia Sport Hall of Fame ID')]\n",
      "[('obj', 'http://www.wikidata.org/prop/direct/P8421'), ('name', 'Spanish Olympic Committee athlete ID')]\n",
      "[('obj', 'http://www.wikidata.org/prop/direct/P4605'), ('name', 'South Dakota Sports Hall of Fame ID')]\n",
      "[('obj', 'http://www.wikidata.org/prop/direct/P1953'), ('name', 'Discogs artist ID')]\n",
      "[('obj', 'http://www.wikidata.org/prop/direct/P2868'), ('name', 'subject has role')]\n",
      "[('obj', 'http://www.wikidata.org/prop/direct/P4527'), ('name', 'UK Parliament thesaurus ID')]\n",
      "[('obj', 'http://www.wikidata.org/prop/direct/P4819'), ('name', 'Swedish Portrait Archive ID')]\n",
      "[('obj', 'http://www.wikidata.org/prop/direct/P495'), ('name', 'country of origin')]\n",
      "[('obj', 'http://www.wikidata.org/prop/direct/P7842'), ('name', 'Vienna History Wiki ID')]\n",
      "[('obj', 'http://www.wikidata.org/prop/direct/P4547'), ('name', 'Serbian Olympic Committee athlete ID')]\n",
      "[('obj', 'http://www.wikidata.org/prop/direct/P1967'), ('name', 'BoxRec boxer ID')]\n",
      "[('obj', 'http://www.wikidata.org/prop/direct/P1986'), ('name', 'Biographical Dictionary of Italian People ID')]\n",
      "[('obj', 'http://www.wikidata.org/prop/direct/P4053'), ('name', 'team Deutschland ID')]\n",
      "[('obj', 'http://www.wikidata.org/prop/direct/P9807'), ('name', 'SNK ID')]\n",
      "[('obj', 'http://www.wikidata.org/prop/direct/P4571'), ('name', 'West Australian Football League player ID')]\n",
      "[('obj', 'http://www.wikidata.org/prop/direct/P4615'), ('name', 'WAFL FootyFacts ID')]\n",
      "[('obj', 'http://www.wikidata.org/prop/direct/P6988'), ('name', 'Hungarian National Namespace person ID')]\n",
      "[('obj', 'http://www.wikidata.org/prop/direct/P112'), ('name', 'founded by')]\n",
      "[('obj', 'http://www.wikidata.org/prop/direct/P1415'), ('name', 'Oxford Dictionary of National Biography ID')]\n",
      "[('obj', 'http://www.wikidata.org/prop/direct/P512'), ('name', 'academic degree')]\n",
      "[('obj', 'http://www.wikidata.org/prop/direct/P5442'), ('name', 'Library of Congress of Chile person ID')]\n",
      "[('obj', 'http://www.wikidata.org/prop/direct/P6262'), ('name', 'Fandom article ID')]\n",
      "[('obj', 'http://www.wikidata.org/prop/direct/P4066'), ('name', 'Hungarian Olympic Committee athlete ID')]\n",
      "[('obj', 'http://www.wikidata.org/prop/direct/P8998'), ('name', 'Magyar életrajzi lexikon ID')]\n",
      "[('obj', 'http://www.wikidata.org/prop/direct/P5249'), ('name', 'sports competition competed at')]\n",
      "[('obj', 'http://www.wikidata.org/prop/direct/P2087'), ('name', 'Crunchbase person ID')]\n",
      "[('obj', 'http://www.wikidata.org/prop/direct/P5715'), ('name', 'Academia.edu profile URL')]\n",
      "[('obj', 'http://www.wikidata.org/prop/direct/P3546'), ('name', 'AustralianFootball.com ID')]\n",
      "[('obj', 'http://www.wikidata.org/prop/direct/P3547'), ('name', 'AFL Tables player ID')]\n",
      "[('obj', 'http://www.wikidata.org/prop/direct/P245'), ('name', 'Union List of Artist Names ID')]\n",
      "[('obj', 'http://www.wikidata.org/prop/direct/P2581'), ('name', 'BabelNet ID')]\n",
      "[('obj', 'http://www.wikidata.org/prop/direct/P5184'), ('name', 'Daum Encyclopedia ID')]\n",
      "[('obj', 'http://www.wikidata.org/prop/direct/P611'), ('name', 'religious order')]\n",
      "[('obj', 'http://www.wikidata.org/prop/direct/P6886'), ('name', 'writing language')]\n",
      "[('obj', 'http://www.wikidata.org/prop/direct/P6900'), ('name', 'NicoNicoPedia ID')]\n",
      "[('obj', 'http://www.wikidata.org/prop/direct/P3284'), ('name', 'Yahoo! Japan Talent Database ID')]\n",
      "[('obj', 'http://www.wikidata.org/prop/direct/P3477'), ('name', 'Nihon Tarento Meikan ID')]\n",
      "[('obj', 'http://www.wikidata.org/prop/direct/P3502'), ('name', 'Ameblo username')]\n",
      "[('obj', 'http://www.wikidata.org/prop/direct/P4054'), ('name', 'Canadian Olympic Committee athlete ID')]\n",
      "[('obj', 'http://www.wikidata.org/prop/direct/P4523'), ('name', 'Vermont Sports Hall of Fame athlete ID')]\n",
      "[('obj', 'http://www.wikidata.org/prop/direct/P1347'), ('name', 'military casualty classification')]\n",
      "[('obj', 'http://www.wikidata.org/prop/direct/P1581'), ('name', 'official blog')]\n",
      "[('obj', 'http://www.wikidata.org/prop/direct/P2773'), ('name', 'FIS cross-country skier ID')]\n",
      "[('obj', 'http://www.wikidata.org/prop/direct/P3843'), ('name', 'German Athletics Association athlete ID')]\n",
      "[('obj', 'http://www.wikidata.org/prop/direct/P396'), ('name', 'SBN author ID')]\n",
      "[('obj', 'http://www.wikidata.org/prop/direct/P4613'), ('name', 'Encyclopedia of Modern Ukraine ID')]\n",
      "[('obj', 'http://www.wikidata.org/prop/direct/P2944'), ('name', 'Plarr ID')]\n",
      "[('obj', 'http://www.wikidata.org/prop/direct/P248'), ('name', 'stated in')]\n",
      "[('obj', 'http://www.wikidata.org/prop/direct/P4065'), ('name', 'Argentine Olympic Committee athlete ID')]\n",
      "[('obj', 'http://www.wikidata.org/prop/direct/P2562'), ('name', 'married name')]\n",
      "[('obj', 'http://www.wikidata.org/prop/direct/P6488'), ('name', 'Enciclopedia delle donne ID')]\n",
      "[('obj', 'http://www.wikidata.org/prop/direct/P9669'), ('name', 'Olympic Committee of Israel athlete ID')]\n",
      "[('obj', 'http://www.wikidata.org/prop/direct/P6005'), ('name', 'Muck Rack journalist ID')]\n",
      "[('obj', 'http://www.wikidata.org/prop/direct/P4363'), ('name', 'DSMHOF athlete ID')]\n",
      "[('obj', 'http://www.wikidata.org/prop/direct/P1399'), ('name', 'convicted of')]\n",
      "[('obj', 'http://www.wikidata.org/prop/direct/P3883'), ('name', 'Red Bull athlete ID')]\n",
      "[('obj', 'http://www.wikidata.org/prop/direct/P4432'), ('name', 'AKL Online artist ID')]\n",
      "[('obj', 'http://www.wikidata.org/prop/direct/P651'), ('name', 'Biografisch Portaal van Nederland ID')]\n",
      "[('obj', 'http://www.wikidata.org/prop/direct/P3133'), ('name', 'NSZL name authority ID')]\n",
      "[('obj', 'http://www.wikidata.org/prop/direct/P951'), ('name', 'NSZL (VIAF) ID')]\n",
      "[('obj', 'http://www.wikidata.org/prop/direct/P1788'), ('name', 'DVN ID')]\n",
      "[('obj', 'http://www.wikidata.org/prop/direct/P4068'), ('name', 'Chinese Olympic Committee athlete ID')]\n",
      "[('obj', 'http://www.wikidata.org/prop/direct/P4374'), ('name', 'New Mexico Sports Hall of Fame ID')]\n",
      "[('obj', 'http://www.wikidata.org/prop/direct/P9399'), ('name', 'athletics.lv athlete ID')]\n",
      "[('obj', 'http://www.wikidata.org/prop/direct/P4574'), ('name', 'Norwegian historical register of persons ID')]\n",
      "[('obj', 'http://www.wikidata.org/prop/direct/P1472'), ('name', 'Commons Creator page')]\n",
      "[('obj', 'http://www.wikidata.org/prop/direct/P3782'), ('name', 'Artnet artist ID')]\n",
      "[('obj', 'http://www.wikidata.org/prop/direct/P6821'), ('name', 'Uppsala University Alvin ID')]\n",
      "[('obj', 'http://www.wikidata.org/prop/direct/P8899'), ('name', 'Swedish National Library Arken ID')]\n",
      "[('obj', 'http://www.wikidata.org/prop/direct/P6416'), ('name', 'sport-strana.ru article ID')]\n",
      "378\n"
     ]
    }
   ],
   "source": [
    "# let's have a look of properties related to marathon runners\n",
    "queryString = \"\"\"\n",
    "SELECT DISTINCT ?obj ?name\n",
    "WHERE {\n",
    "   # bind something\n",
    "   ?runner ?p wd:Q13382460;\n",
    "        wdt:P31 wd:Q5.\n",
    "   ?runner ?obj ?a.\n",
    "   # get the label\n",
    "   ?obj sc:name ?name.\n",
    "}\n",
    "#LIMIT 100\n",
    "\"\"\"\n",
    "\n",
    "print(\"Results\")\n",
    "x=run_query(queryString)\n"
   ]
  },
  {
   "cell_type": "code",
   "execution_count": null,
   "id": "971f9d89-204a-4da9-af6a-45075e869769",
   "metadata": {},
   "outputs": [],
   "source": [
    "# we get the following useful results\n",
    "# P1532 country for sport\n",
    "# P166 award received\n",
    "# [('obj', 'http://www.wikidata.org/prop/direct/P3766'), ('name', 'European Athletics ID')]"
   ]
  },
  {
   "cell_type": "code",
   "execution_count": 102,
   "id": "bc4c51ec-490b-4aff-a930-4fde0cc4e39c",
   "metadata": {},
   "outputs": [
    {
     "name": "stdout",
     "output_type": "stream",
     "text": [
      "Results\n",
      "[('obj', 'http://www.wikidata.org/entity/Q133525'), ('name', 'Beijing National Stadium')]\n",
      "[('obj', 'http://www.wikidata.org/entity/Q148'), ('name', \"People's Republic of China\")]\n",
      "[('obj', 'http://www.wikidata.org/entity/Q18536594'), ('name', 'Olympic sporting event')]\n",
      "[('obj', 'http://www.wikidata.org/entity/Q40970'), ('name', 'International Olympic Committee')]\n",
      "[('obj', 'http://www.wikidata.org/entity/Q542'), ('name', 'athletics')]\n",
      "[('obj', 'http://www.wikidata.org/entity/Q11783626'), ('name', 'athletics meeting')]\n",
      "[('obj', 'http://www.wikidata.org/entity/Q1189'), ('name', 'Usain Bolt')]\n",
      "[('obj', 'http://www.wikidata.org/entity/Q1649415'), ('name', \"athletics at the 2012 Summer Olympics – men's 200 metres\")]\n",
      "[('obj', 'http://www.wikidata.org/entity/Q2313564'), ('name', \"athletics at the 2004 Summer Olympics – men's 200 metres\")]\n",
      "[('obj', 'http://www.wikidata.org/entity/Q55243755'), ('name', \"men's 200 metres\")]\n",
      "[('obj', 'http://www.wikidata.org/entity/Q189941'), ('name', 'athletics at the 2008 Summer Olympics')]\n",
      "11\n"
     ]
    }
   ],
   "source": [
    "# analizing the wd:Q853003 athletics at the 2008 Summer Olympics – men's 200 metres we get more datas that could be useful \n",
    "\n",
    "queryString = \"\"\"\n",
    "SELECT DISTINCT ?obj ?name\n",
    "WHERE {\n",
    "   # bind something\n",
    "   wd:Q853003 ?p ?obj.\n",
    "   # get the label\n",
    "   ?obj sc:name ?name.\n",
    "}\n",
    "#LIMIT 100\n",
    "\"\"\"\n",
    "\n",
    "print(\"Results\")\n",
    "x=run_query(queryString)"
   ]
  },
  {
   "cell_type": "code",
   "execution_count": 91,
   "id": "b6c600c9-d7ef-4686-aaba-c278a2ef19fa",
   "metadata": {},
   "outputs": [
    {
     "name": "stdout",
     "output_type": "stream",
     "text": [
      "Results\n",
      "[('obj', 'http://www.wikidata.org/entity/Q1061233'), ('name', \"L'Équipe Champion of Champions\")]\n",
      "[('obj', 'http://www.wikidata.org/entity/Q11961165'), ('name', 'Bislett medal')]\n",
      "[('obj', 'http://www.wikidata.org/entity/Q1808301'), ('name', 'Laureus World Sports Award for Sportsman of the Year')]\n",
      "[('obj', 'http://www.wikidata.org/entity/Q14606194'), ('name', 'Commander of the Order of Distinction')]\n",
      "[('obj', 'http://www.wikidata.org/entity/Q4896696'), ('name', 'Best International Athlete ESPY Award')]\n",
      "[('obj', 'http://www.wikidata.org/entity/Q14606267'), ('name', 'Member of the Order of Jamaica')]\n",
      "6\n"
     ]
    }
   ],
   "source": [
    "#let's check is wdt:P166 is a correct way to retrieve winners\n",
    "queryString = \"\"\"\n",
    "SELECT DISTINCT ?obj ?name\n",
    "WHERE {\n",
    "   # bind something\n",
    "   wd:Q1189 wdt:P166 ?obj.\n",
    "   # get the label\n",
    "   ?obj sc:name ?name.\n",
    "}\n",
    "#LIMIT 100\n",
    "\"\"\"\n",
    "\n",
    "print(\"Results\")\n",
    "x=run_query(queryString)\n"
   ]
  },
  {
   "cell_type": "code",
   "execution_count": null,
   "id": "06d08ae4-26c9-4545-8243-d311ab3d651f",
   "metadata": {},
   "outputs": [],
   "source": [
    "# wdt:P166 'award received' property is not correct, let's try different"
   ]
  },
  {
   "cell_type": "code",
   "execution_count": 93,
   "id": "355d3c5a-ba68-45ff-9ebf-5c4b73a539ff",
   "metadata": {
    "collapsed": true,
    "jupyter": {
     "outputs_hidden": true
    },
    "tags": []
   },
   "outputs": [
    {
     "name": "stdout",
     "output_type": "stream",
     "text": [
      "Results\n",
      "[('p', 'http://www.wikidata.org/prop/direct/P1000'), ('name', 'record held')]\n",
      "[('p', 'http://www.wikidata.org/prop/direct/P1006'), ('name', 'Nationale Thesaurus voor Auteurs ID')]\n",
      "[('p', 'http://www.wikidata.org/prop/direct/P1015'), ('name', 'NORAF ID')]\n",
      "[('p', 'http://www.wikidata.org/prop/direct/P1050'), ('name', 'medical condition')]\n",
      "[('p', 'http://www.wikidata.org/prop/direct/P106'), ('name', 'occupation')]\n",
      "[('p', 'http://www.wikidata.org/prop/direct/P1146'), ('name', 'World Athletics athlete ID')]\n",
      "[('p', 'http://www.wikidata.org/prop/direct/P1207'), ('name', 'NUKAT ID')]\n",
      "[('p', 'http://www.wikidata.org/prop/direct/P1263'), ('name', 'NNDB people ID')]\n",
      "[('p', 'http://www.wikidata.org/prop/direct/P1280'), ('name', 'CONOR.SI ID')]\n",
      "[('p', 'http://www.wikidata.org/prop/direct/P1285'), ('name', 'Munzinger Sport number')]\n",
      "[('p', 'http://www.wikidata.org/prop/direct/P1296'), ('name', 'Gran Enciclopèdia Catalana ID')]\n",
      "[('p', 'http://www.wikidata.org/prop/direct/P1343'), ('name', 'described by source')]\n",
      "[('p', 'http://www.wikidata.org/prop/direct/P1344'), ('name', 'participant in')]\n",
      "[('p', 'http://www.wikidata.org/prop/direct/P1412'), ('name', 'languages spoken, written or signed')]\n",
      "[('p', 'http://www.wikidata.org/prop/direct/P1417'), ('name', 'Encyclopædia Britannica Online ID')]\n",
      "[('p', 'http://www.wikidata.org/prop/direct/P1447'), ('name', 'Sports-Reference.com Olympic athlete ID')]\n",
      "[('p', 'http://www.wikidata.org/prop/direct/P1477'), ('name', 'birth name')]\n",
      "[('p', 'http://www.wikidata.org/prop/direct/P1532'), ('name', 'country for sport')]\n",
      "[('p', 'http://www.wikidata.org/prop/direct/P166'), ('name', 'award received')]\n",
      "[('p', 'http://www.wikidata.org/prop/direct/P1695'), ('name', 'NLP ID (unique)')]\n",
      "[('p', 'http://www.wikidata.org/prop/direct/P1711'), ('name', 'British Museum person or institution ID')]\n",
      "[('p', 'http://www.wikidata.org/prop/direct/P1741'), ('name', 'GTAA ID')]\n",
      "[('p', 'http://www.wikidata.org/prop/direct/P18'), ('name', 'image')]\n",
      "[('p', 'http://www.wikidata.org/prop/direct/P1813'), ('name', 'short name')]\n",
      "[('p', 'http://www.wikidata.org/prop/direct/P19'), ('name', 'place of birth')]\n",
      "[('p', 'http://www.wikidata.org/prop/direct/P2002'), ('name', 'Twitter username')]\n",
      "[('p', 'http://www.wikidata.org/prop/direct/P2003'), ('name', 'Instagram username')]\n",
      "[('p', 'http://www.wikidata.org/prop/direct/P2013'), ('name', 'Facebook ID')]\n",
      "[('p', 'http://www.wikidata.org/prop/direct/P2031'), ('name', 'work period (start)')]\n",
      "[('p', 'http://www.wikidata.org/prop/direct/P2032'), ('name', 'work period (end)')]\n",
      "[('p', 'http://www.wikidata.org/prop/direct/P2048'), ('name', 'height')]\n",
      "[('p', 'http://www.wikidata.org/prop/direct/P2067'), ('name', 'mass')]\n",
      "[('p', 'http://www.wikidata.org/prop/direct/P21'), ('name', 'sex or gender')]\n",
      "[('p', 'http://www.wikidata.org/prop/direct/P213'), ('name', 'ISNI')]\n",
      "[('p', 'http://www.wikidata.org/prop/direct/P214'), ('name', 'VIAF ID')]\n",
      "[('p', 'http://www.wikidata.org/prop/direct/P2163'), ('name', 'FAST ID')]\n",
      "[('p', 'http://www.wikidata.org/prop/direct/P2267'), ('name', 'PolitiFact people and groups ID')]\n",
      "[('p', 'http://www.wikidata.org/prop/direct/P227'), ('name', 'GND ID')]\n",
      "[('p', 'http://www.wikidata.org/prop/direct/P2416'), ('name', 'sports discipline competed in')]\n",
      "[('p', 'http://www.wikidata.org/prop/direct/P244'), ('name', 'Library of Congress authority ID')]\n",
      "[('p', 'http://www.wikidata.org/prop/direct/P2446'), ('name', 'Transfermarkt player ID')]\n",
      "[('p', 'http://www.wikidata.org/prop/direct/P2605'), ('name', 'ČSFD person ID')]\n",
      "[('p', 'http://www.wikidata.org/prop/direct/P268'), ('name', 'Bibliothèque nationale de France ID')]\n",
      "[('p', 'http://www.wikidata.org/prop/direct/P269'), ('name', 'IdRef ID')]\n",
      "[('p', 'http://www.wikidata.org/prop/direct/P27'), ('name', 'country of citizenship')]\n",
      "[('p', 'http://www.wikidata.org/prop/direct/P286'), ('name', 'head coach')]\n",
      "[('p', 'http://www.wikidata.org/prop/direct/P2924'), ('name', 'Great Russian Encyclopedia Online ID')]\n",
      "[('p', 'http://www.wikidata.org/prop/direct/P2949'), ('name', 'WikiTree person ID')]\n",
      "[('p', 'http://www.wikidata.org/prop/direct/P31'), ('name', 'instance of')]\n",
      "[('p', 'http://www.wikidata.org/prop/direct/P3171'), ('name', 'Olympic.org athlete ID (archived version)')]\n",
      "[('p', 'http://www.wikidata.org/prop/direct/P3219'), ('name', 'Encyclopædia Universalis ID')]\n",
      "[('p', 'http://www.wikidata.org/prop/direct/P3221'), ('name', 'New York Times topic ID')]\n",
      "[('p', 'http://www.wikidata.org/prop/direct/P3365'), ('name', 'Treccani ID')]\n",
      "[('p', 'http://www.wikidata.org/prop/direct/P3417'), ('name', 'Quora topic ID')]\n",
      "[('p', 'http://www.wikidata.org/prop/direct/P345'), ('name', 'IMDb ID')]\n",
      "[('p', 'http://www.wikidata.org/prop/direct/P349'), ('name', 'National Diet Library ID')]\n",
      "[('p', 'http://www.wikidata.org/prop/direct/P3509'), ('name', 'Dagens Nyheter topic ID')]\n",
      "[('p', 'http://www.wikidata.org/prop/direct/P3630'), ('name', 'Babelio author ID')]\n",
      "[('p', 'http://www.wikidata.org/prop/direct/P373'), ('name', 'Commons category')]\n",
      "[('p', 'http://www.wikidata.org/prop/direct/P3765'), ('name', 'All-Athletics.com ID')]\n",
      "[('p', 'http://www.wikidata.org/prop/direct/P3884'), ('name', 'Tilastopaja male athlete ID')]\n",
      "[('p', 'http://www.wikidata.org/prop/direct/P3923'), ('name', 'Diamond League athlete ID')]\n",
      "[('p', 'http://www.wikidata.org/prop/direct/P3925'), ('name', 'Track and Field Statistics male athlete ID')]\n",
      "[('p', 'http://www.wikidata.org/prop/direct/P4342'), ('name', 'Store norske leksikon ID')]\n",
      "[('p', 'http://www.wikidata.org/prop/direct/P4666'), ('name', 'CineMagia person ID')]\n",
      "[('p', 'http://www.wikidata.org/prop/direct/P4985'), ('name', 'TMDb person ID')]\n",
      "[('p', 'http://www.wikidata.org/prop/direct/P5019'), ('name', 'Brockhaus Enzyklopädie online ID')]\n",
      "[('p', 'http://www.wikidata.org/prop/direct/P54'), ('name', 'member of sports team')]\n",
      "[('p', 'http://www.wikidata.org/prop/direct/P5421'), ('name', 'Trading Card Database person ID')]\n",
      "[('p', 'http://www.wikidata.org/prop/direct/P551'), ('name', 'residence')]\n",
      "[('p', 'http://www.wikidata.org/prop/direct/P5587'), ('name', 'Libris-URI')]\n",
      "[('p', 'http://www.wikidata.org/prop/direct/P5617'), ('name', 'Evene ID')]\n",
      "[('p', 'http://www.wikidata.org/prop/direct/P569'), ('name', 'date of birth')]\n",
      "[('p', 'http://www.wikidata.org/prop/direct/P5815'), ('name', 'Olympics.com athlete ID')]\n",
      "[('p', 'http://www.wikidata.org/prop/direct/P641'), ('name', 'sport')]\n",
      "[('p', 'http://www.wikidata.org/prop/direct/P646'), ('name', 'Freebase ID')]\n",
      "[('p', 'http://www.wikidata.org/prop/direct/P6683'), ('name', 'Alexander Turnbull Library ID')]\n",
      "[('p', 'http://www.wikidata.org/prop/direct/P6723'), ('name', 'BlackPast.org ID')]\n",
      "[('p', 'http://www.wikidata.org/prop/direct/P691'), ('name', 'NKCR AUT ID')]\n",
      "[('p', 'http://www.wikidata.org/prop/direct/P710'), ('name', 'participant')]\n",
      "[('p', 'http://www.wikidata.org/prop/direct/P7293'), ('name', 'PLWABN ID')]\n",
      "[('p', 'http://www.wikidata.org/prop/direct/P734'), ('name', 'family name')]\n",
      "[('p', 'http://www.wikidata.org/prop/direct/P735'), ('name', 'given name')]\n",
      "[('p', 'http://www.wikidata.org/prop/direct/P7818'), ('name', 'French Vikidia ID')]\n",
      "[('p', 'http://www.wikidata.org/prop/direct/P7859'), ('name', 'WorldCat Identities ID')]\n",
      "[('p', 'http://www.wikidata.org/prop/direct/P793'), ('name', 'significant event')]\n",
      "[('p', 'http://www.wikidata.org/prop/direct/P8286'), ('name', 'Olympedia people ID')]\n",
      "[('p', 'http://www.wikidata.org/prop/direct/P856'), ('name', 'official website')]\n",
      "[('p', 'http://www.wikidata.org/prop/direct/P8687'), ('name', 'social media followers')]\n",
      "[('p', 'http://www.wikidata.org/prop/direct/P906'), ('name', 'SELIBR ID')]\n",
      "[('p', 'http://www.wikidata.org/prop/direct/P910'), ('name', \"topic's main category\")]\n",
      "[('p', 'http://www.wikidata.org/prop/direct/P935'), ('name', 'Commons gallery')]\n",
      "[('p', 'http://www.wikidata.org/prop/direct/P9743'), ('name', 'Podchaser creator ID')]\n",
      "[('p', 'http://www.wikidata.org/prop/direct/P2415'), ('name', 'personal best')]\n",
      "[('p', 'http://www.wikidata.org/prop/direct/P3579'), ('name', 'Sina Weibo user ID')]\n",
      "[('p', 'http://www.wikidata.org/prop/direct/P511'), ('name', 'honorific prefix')]\n",
      "[('p', 'http://www.wikidata.org/prop/direct/P6953'), ('name', '2014 Commonwealth Games athlete ID')]\n",
      "97\n"
     ]
    }
   ],
   "source": [
    "# let's check if we can get a property for inspecting something else than 'marathon runner' for example let's try using the entity Q1189 that stands for Usain Bolt\n",
    "\n",
    "queryString = \"\"\"\n",
    "SELECT DISTINCT ?p ?name\n",
    "WHERE {\n",
    "   # bind something\n",
    "   wd:Q1189 ?p ?obj.\n",
    "   # get the label\n",
    "   ?p sc:name ?name.\n",
    "}\n",
    "#LIMIT 100\n",
    "\"\"\"\n",
    "\n",
    "print(\"Results\")\n",
    "x=run_query(queryString)\n"
   ]
  },
  {
   "cell_type": "code",
   "execution_count": null,
   "id": "48ad0924-41cd-4a77-8e66-2f192eb3b5ef",
   "metadata": {},
   "outputs": [],
   "source": [
    "# even inspecting properties related to 'Usain Bolt' there's no way to retrieve the winner for a race"
   ]
  },
  {
   "cell_type": "code",
   "execution_count": null,
   "id": "83353359-10c7-4a4b-af6a-52424e2f1e81",
   "metadata": {},
   "outputs": [],
   "source": [
    "# let's try inspecting events instead of runners"
   ]
  },
  {
   "cell_type": "code",
   "execution_count": 97,
   "id": "458303ac-2254-4ade-9177-94532a036326",
   "metadata": {},
   "outputs": [
    {
     "name": "stdout",
     "output_type": "stream",
     "text": [
      "Results\n",
      "[('p', 'http://www.wikidata.org/prop/direct/P1132'), ('name', 'number of participants')]\n",
      "[('p', 'http://www.wikidata.org/prop/direct/P1346'), ('name', 'winner')]\n",
      "[('p', 'http://www.wikidata.org/prop/direct/P155'), ('name', 'follows')]\n",
      "[('p', 'http://www.wikidata.org/prop/direct/P156'), ('name', 'followed by')]\n",
      "[('p', 'http://www.wikidata.org/prop/direct/P17'), ('name', 'country')]\n",
      "[('p', 'http://www.wikidata.org/prop/direct/P2094'), ('name', 'competition class')]\n",
      "[('p', 'http://www.wikidata.org/prop/direct/P276'), ('name', 'location')]\n",
      "[('p', 'http://www.wikidata.org/prop/direct/P31'), ('name', 'instance of')]\n",
      "[('p', 'http://www.wikidata.org/prop/direct/P361'), ('name', 'part of')]\n",
      "[('p', 'http://www.wikidata.org/prop/direct/P585'), ('name', 'point in time')]\n",
      "[('p', 'http://www.wikidata.org/prop/direct/P641'), ('name', 'sport')]\n",
      "[('p', 'http://www.wikidata.org/prop/direct/P646'), ('name', 'Freebase ID')]\n",
      "[('p', 'http://www.wikidata.org/prop/direct/P664'), ('name', 'organizer')]\n",
      "[('p', 'http://www.wikidata.org/prop/direct/P710'), ('name', 'participant')]\n",
      "[('p', 'http://www.wikidata.org/prop/direct/P9055'), ('name', 'Olympedia event ID')]\n",
      "15\n"
     ]
    }
   ],
   "source": [
    "# retrieve all the properties related to wd:Q853003 athletics at the 2008 Summer Olympics – men's 200 metres\n",
    "\n",
    "queryString = \"\"\"\n",
    "SELECT DISTINCT ?p ?name\n",
    "WHERE {\n",
    "   # bind something\n",
    "   wd:Q853003 ?p ?obj.\n",
    "   # get the label\n",
    "   ?p sc:name ?name.\n",
    "}\n",
    "#LIMIT 100\n",
    "\"\"\"\n",
    "\n",
    "print(\"Results\")\n",
    "x=run_query(queryString)"
   ]
  },
  {
   "cell_type": "code",
   "execution_count": null,
   "id": "ce777e99-6e8f-412b-8601-caad5e9759e3",
   "metadata": {},
   "outputs": [],
   "source": [
    "# from the previous query we get the property P1346 which returns the winner of the event"
   ]
  },
  {
   "cell_type": "code",
   "execution_count": 122,
   "id": "bff754da-09d9-42ac-9965-7dd0a73b222c",
   "metadata": {},
   "outputs": [
    {
     "name": "stdout",
     "output_type": "stream",
     "text": [
      "Results\n",
      "Empty\n"
     ]
    }
   ],
   "source": [
    "# let's inspect marathon runners that are also winners\n",
    "\n",
    "queryString = \"\"\"\n",
    "SELECT DISTINCT ?runner ?name\n",
    "WHERE {\n",
    "   # bind something\n",
    "   ?runner wdt:P106 wd:Q13382460;\n",
    "           wdt:P31 wd:Q5;\n",
    "           wdt:P1346 ?winner.\n",
    "   # get the label\n",
    "   ?runner sc:name ?name.\n",
    "}\n",
    "#LIMIT 100\n",
    "\"\"\"\n",
    "\n",
    "print(\"Results\")\n",
    "x=run_query(queryString)"
   ]
  },
  {
   "cell_type": "code",
   "execution_count": null,
   "id": "9b405fb2-cdc0-4fea-9077-506b30f7166b",
   "metadata": {},
   "outputs": [],
   "source": [
    "# inspecting marathon runners that are also winners doesn't give us any result"
   ]
  },
  {
   "cell_type": "code",
   "execution_count": 125,
   "id": "d6594900-494a-44b1-b3d9-e2612e7990de",
   "metadata": {
    "collapsed": true,
    "jupyter": {
     "outputs_hidden": true
    },
    "tags": []
   },
   "outputs": [
    {
     "name": "stdout",
     "output_type": "stream",
     "text": [
      "Results\n",
      "[('runner', 'http://www.wikidata.org/entity/Q7067552'), ('name', 'Nse Ikpe Etim')]\n",
      "[('runner', 'http://www.wikidata.org/entity/Q17624314'), ('name', 'Mayu Mukaida')]\n",
      "[('runner', 'http://www.wikidata.org/entity/Q87872'), ('name', 'Hellmuth Hirth')]\n",
      "[('runner', 'http://www.wikidata.org/entity/Q10556987'), ('name', 'Wendy Gebauer')]\n",
      "[('runner', 'http://www.wikidata.org/entity/Q523046'), ('name', 'Torbjörn Blomdahl')]\n",
      "[('runner', 'http://www.wikidata.org/entity/Q3459336'), ('name', 'Joe Taslim')]\n",
      "[('runner', 'http://www.wikidata.org/entity/Q7934379'), ('name', 'Virginia Leng')]\n",
      "[('runner', 'http://www.wikidata.org/entity/Q10552391'), ('name', 'Julie Ertz')]\n",
      "[('runner', 'http://www.wikidata.org/entity/Q20739132'), ('name', 'Carlo Bazzi')]\n",
      "[('runner', 'http://www.wikidata.org/entity/Q1362169'), ('name', 'Agnez Mo')]\n",
      "10\n"
     ]
    }
   ],
   "source": [
    "# let's check if winner property return any data at all \n",
    "\n",
    "queryString = \"\"\"\n",
    "SELECT DISTINCT ?runner ?name\n",
    "WHERE {\n",
    "   # bind something\n",
    "   ?runner #wdt:P106 wd:Q13382460;\n",
    "           wdt:P31 wd:Q5;\n",
    "           wdt:P1346 ?winner.\n",
    "   # get the label\n",
    "   ?runner sc:name ?name.\n",
    "}\n",
    "LIMIT 10\n",
    "\"\"\"\n",
    "\n",
    "print(\"Results\")\n",
    "x=run_query(queryString)"
   ]
  },
  {
   "cell_type": "code",
   "execution_count": null,
   "id": "3d47c69c-9f45-4189-9e42-902e616b2c39",
   "metadata": {},
   "outputs": [],
   "source": [
    "# when inspecting winners without including the 'marathon runner' property we get valid results, we still can't find a way to get a marathon runner winner"
   ]
  },
  {
   "cell_type": "code",
   "execution_count": 35,
   "id": "55a94b30",
   "metadata": {},
   "outputs": [],
   "source": [
    "# let's go back to inspecting events instead of runners, let's see if there's a way to get marathon events first of all"
   ]
  },
  {
   "cell_type": "code",
   "execution_count": 136,
   "id": "a62a37a4-6b1c-4500-8c71-7991c900d43c",
   "metadata": {
    "collapsed": true,
    "jupyter": {
     "outputs_hidden": true
    },
    "tags": []
   },
   "outputs": [
    {
     "name": "stdout",
     "output_type": "stream",
     "text": [
      "Results\n",
      "[('EUrunner', 'http://www.wikidata.org/entity/Q27070232'), ('name', 'Michele Fanelli')]\n",
      "[('EUrunner', 'http://www.wikidata.org/entity/Q450367'), ('name', 'Alyson Dixon')]\n",
      "[('EUrunner', 'http://www.wikidata.org/entity/Q256770'), ('name', 'Ingrid Kristiansen')]\n",
      "[('EUrunner', 'http://www.wikidata.org/entity/Q271607'), ('name', 'Alina Ivanova')]\n",
      "[('EUrunner', 'http://www.wikidata.org/entity/Q471602'), ('name', 'Viktor Röthlin')]\n",
      "[('EUrunner', 'http://www.wikidata.org/entity/Q472410'), ('name', 'Luís Novo')]\n",
      "[('EUrunner', 'http://www.wikidata.org/entity/Q517647'), ('name', 'Charlotte Purdue')]\n",
      "[('EUrunner', 'http://www.wikidata.org/entity/Q1067015'), ('name', 'Charlie Spedding')]\n",
      "[('EUrunner', 'http://www.wikidata.org/entity/Q20895412'), ('name', 'Filomena Costa')]\n",
      "[('EUrunner', 'http://www.wikidata.org/entity/Q1065207'), ('name', 'Tom Richards')]\n",
      "[('EUrunner', 'http://www.wikidata.org/entity/Q920828'), ('name', 'Aleksey Sokolov')]\n",
      "[('EUrunner', 'http://www.wikidata.org/entity/Q1671'), ('name', 'Mo Farah')]\n",
      "[('EUrunner', 'http://www.wikidata.org/entity/Q543026'), ('name', 'Helena Javornik')]\n",
      "[('EUrunner', 'http://www.wikidata.org/entity/Q2678788'), ('name', 'Thore Enochsson')]\n",
      "[('EUrunner', 'http://www.wikidata.org/entity/Q372231'), ('name', 'Dionísio Castro')]\n",
      "[('EUrunner', 'http://www.wikidata.org/entity/Q684259'), ('name', 'Domingos Castro')]\n",
      "[('EUrunner', 'http://www.wikidata.org/entity/Q947288'), ('name', 'José Manuel Martínez')]\n",
      "[('EUrunner', 'http://www.wikidata.org/entity/Q158262'), ('name', 'Waldemar Cierpinski')]\n",
      "[('EUrunner', 'http://www.wikidata.org/entity/Q1407110'), ('name', 'Jørgen Jensen')]\n",
      "[('EUrunner', 'http://www.wikidata.org/entity/Q6757606'), ('name', 'Marco Marchei')]\n",
      "20\n"
     ]
    }
   ],
   "source": [
    "# get all the marathon runners that have a 'European Athletics ID' (P3766)\n",
    "queryString = \"\"\"\n",
    "SELECT DISTINCT ?EUrunner ?name\n",
    "WHERE {\n",
    "   # bind something\n",
    "   ?EUrunner wdt:P106 wd:Q13382460;\n",
    "           wdt:P31 wd:Q5;\n",
    "           wdt:P3766 ?obj.\n",
    "   # get the label\n",
    "   ?EUrunner sc:name ?name.\n",
    "}\n",
    "LIMIT 20\n",
    "\"\"\"\n",
    "\n",
    "print(\"Results\")\n",
    "x=run_query(queryString)\n"
   ]
  },
  {
   "cell_type": "code",
   "execution_count": 199,
   "id": "82340292-cdf9-4c77-b96b-101f8856a9f7",
   "metadata": {},
   "outputs": [
    {
     "name": "stdout",
     "output_type": "stream",
     "text": [
      "Results\n",
      "[('obj', 'http://www.wikidata.org/entity/Q1473381'), ('name', 'Fukuoka International Marathon')]\n",
      "[('obj', 'http://www.wikidata.org/entity/Q1191380'), ('name', 'Tokyo Marathon')]\n",
      "[('obj', 'http://www.wikidata.org/entity/Q253394'), ('name', 'Honolulu Marathon')]\n",
      "[('obj', 'http://www.wikidata.org/entity/Q175125'), ('name', 'Tiberias Marathon')]\n",
      "[('obj', 'http://www.wikidata.org/entity/Q161222'), ('name', 'Berlin Marathon')]\n",
      "[('obj', 'http://www.wikidata.org/entity/Q528634'), ('name', 'Frankfurt Marathon')]\n",
      "[('obj', 'http://www.wikidata.org/entity/Q1071285'), ('name', 'Paris Marathon')]\n",
      "[('obj', 'http://www.wikidata.org/entity/Q1631470'), ('name', 'Houston Marathon')]\n",
      "[('obj', 'http://www.wikidata.org/entity/Q679106'), ('name', 'Madrid Marathon')]\n",
      "[('obj', 'http://www.wikidata.org/entity/Q807910'), ('name', 'Barcelona Marathon')]\n",
      "[('obj', 'http://www.wikidata.org/entity/Q752138'), ('name', 'New York City Marathon')]\n",
      "[('obj', 'http://www.wikidata.org/entity/Q1202167'), ('name', 'ekiden')]\n",
      "[('obj', 'http://www.wikidata.org/entity/Q842293'), ('name', 'Hong Kong Marathon')]\n",
      "[('obj', 'http://www.wikidata.org/entity/Q1980764'), ('name', 'Neujahrsmarathon Zürich')]\n",
      "[('obj', 'http://www.wikidata.org/entity/Q578794'), ('name', 'London Marathon')]\n",
      "[('obj', 'http://www.wikidata.org/entity/Q837910'), ('name', 'Turin Marathon')]\n",
      "[('obj', 'http://www.wikidata.org/entity/Q1534720'), ('name', 'Los Angeles Marathon')]\n",
      "[('obj', 'http://www.wikidata.org/entity/Q18405099'), ('name', 'Moscow Marathon')]\n",
      "[('obj', 'http://www.wikidata.org/entity/Q10223197'), ('name', 'Guangzhou Marathon')]\n",
      "[('obj', 'http://www.wikidata.org/entity/Q11234342'), ('name', 'NAHA Marathon')]\n",
      "[('obj', 'http://www.wikidata.org/entity/Q1187515'), ('name', 'Dubai Marathon')]\n",
      "[('obj', 'http://www.wikidata.org/entity/Q1258425'), ('name', 'Dresden Marathon')]\n",
      "[('obj', 'http://www.wikidata.org/entity/Q1071822'), ('name', 'Chicago Marathon')]\n",
      "[('obj', 'http://www.wikidata.org/entity/Q1963627'), ('name', \"Nagoya Women's Marathon\")]\n",
      "[('obj', 'http://www.wikidata.org/entity/Q748757'), ('name', 'Rome Marathon')]\n",
      "[('obj', 'http://www.wikidata.org/entity/Q1460484'), ('name', 'Tokyo International Marathon')]\n",
      "[('obj', 'http://www.wikidata.org/entity/Q67105178'), ('name', 'Samara International Marathon')]\n",
      "[('obj', 'http://www.wikidata.org/entity/Q3287504'), ('name', 'Marathon du beaujolais')]\n",
      "[('obj', 'http://www.wikidata.org/entity/Q1513658'), ('name', 'Xiamen International Marathon')]\n",
      "[('obj', 'http://www.wikidata.org/entity/Q11259947'), ('name', 'Ibigawa marathon')]\n",
      "[('obj', 'http://www.wikidata.org/entity/Q60851124'), ('name', 'Kazan Marathon')]\n",
      "[('obj', 'http://www.wikidata.org/entity/Q11374825'), ('name', 'Kyoto Marathon')]\n",
      "[('obj', 'http://www.wikidata.org/entity/Q1892219'), ('name', 'Marabana')]\n",
      "[('obj', 'http://www.wikidata.org/entity/Q1477977'), ('name', 'Stockholm Marathon')]\n",
      "[('obj', 'http://www.wikidata.org/entity/Q1000616'), ('name', 'Budapest Marathon')]\n",
      "[('obj', 'http://www.wikidata.org/entity/Q5150074'), ('name', 'Columbus Marathon')]\n",
      "[('obj', 'http://www.wikidata.org/entity/Q67102580'), ('name', 'Ufa International Marathon')]\n",
      "[('obj', 'http://www.wikidata.org/entity/Q106514710'), ('name', 'İzmir Marathon')]\n",
      "[('obj', 'http://www.wikidata.org/entity/Q7405868'), ('name', 'Salt Lake City Marathon')]\n",
      "[('obj', 'http://www.wikidata.org/entity/Q179845'), ('name', 'Gold Coast Marathon')]\n",
      "[('obj', 'http://www.wikidata.org/entity/Q24869424'), ('name', 'Kagoshima Marathon')]\n",
      "[('obj', 'http://www.wikidata.org/entity/Q5995293'), ('name', 'Mexico City Marathon')]\n",
      "[('obj', 'http://www.wikidata.org/entity/Q5407485'), ('name', 'Eugene Marathon')]\n",
      "[('obj', 'http://www.wikidata.org/entity/Q11346175'), ('name', 'Yoron marathon')]\n",
      "[('obj', 'http://www.wikidata.org/entity/Q385385'), ('name', 'Ohme marathon')]\n",
      "[('obj', 'http://www.wikidata.org/entity/Q67107586'), ('name', 'Chelyabinsk Marathon')]\n",
      "[('obj', 'http://www.wikidata.org/entity/Q11369595'), ('name', 'Kumejima marathon')]\n",
      "[('obj', 'http://www.wikidata.org/entity/Q67104570'), ('name', 'Perm International Marathon')]\n",
      "48\n"
     ]
    }
   ],
   "source": [
    "# let's get all the marathon events\n",
    "\n",
    "queryString = \"\"\"\n",
    "SELECT DISTINCT ?obj ?name\n",
    "WHERE {\n",
    "   # bind something\n",
    "   ?obj wdt:P279 wd:Q40244.\n",
    "   # get the label\n",
    "   ?obj sc:name ?name.\n",
    "}\n",
    "LIMIT 50\n",
    "\"\"\"\n",
    "\n",
    "print(\"Results\")\n",
    "x=run_query(queryString)"
   ]
  },
  {
   "cell_type": "code",
   "execution_count": 8,
   "id": "3ab93d77-1a02-4c4f-a75c-382e540d07a7",
   "metadata": {},
   "outputs": [
    {
     "name": "stdout",
     "output_type": "stream",
     "text": [
      "Results\n",
      "Empty\n"
     ]
    }
   ],
   "source": [
    "# let's try to filter marathons that only took place in Europe\n",
    "\n",
    "queryString = \"\"\"\n",
    "SELECT DISTINCT ?marathon ?name\n",
    "WHERE {\n",
    "   # bind something\n",
    "   ?marathon wdt:P279 wd:Q40244;\n",
    "        wdt:P3766 ?obj.\n",
    "   # get the label\n",
    "   ?marathon sc:name ?name.\n",
    "}\n",
    "LIMIT 20\n",
    "\"\"\"\n",
    "\n",
    "print(\"Results\")\n",
    "x=run_query(queryString)"
   ]
  },
  {
   "cell_type": "code",
   "execution_count": 7,
   "id": "e40ed5cc-54c4-48ec-ab0d-08b07ac89ff2",
   "metadata": {
    "collapsed": true,
    "jupyter": {
     "outputs_hidden": true
    },
    "tags": []
   },
   "outputs": [
    {
     "name": "stdout",
     "output_type": "stream",
     "text": [
      "Results\n",
      "[('p', 'http://www.wikidata.org/prop/direct/P131'), ('name', 'located in the administrative territorial entity')]\n",
      "[('p', 'http://www.wikidata.org/prop/direct/P1417'), ('name', 'Encyclopædia Britannica Online ID')]\n",
      "[('p', 'http://www.wikidata.org/prop/direct/P17'), ('name', 'country')]\n",
      "[('p', 'http://www.wikidata.org/prop/direct/P18'), ('name', 'image')]\n",
      "[('p', 'http://www.wikidata.org/prop/direct/P2002'), ('name', 'Twitter username')]\n",
      "[('p', 'http://www.wikidata.org/prop/direct/P2031'), ('name', 'work period (start)')]\n",
      "[('p', 'http://www.wikidata.org/prop/direct/P214'), ('name', 'VIAF ID')]\n",
      "[('p', 'http://www.wikidata.org/prop/direct/P227'), ('name', 'GND ID')]\n",
      "[('p', 'http://www.wikidata.org/prop/direct/P276'), ('name', 'location')]\n",
      "[('p', 'http://www.wikidata.org/prop/direct/P279'), ('name', 'subclass of')]\n",
      "[('p', 'http://www.wikidata.org/prop/direct/P2922'), ('name', 'month of the year')]\n",
      "[('p', 'http://www.wikidata.org/prop/direct/P31'), ('name', 'instance of')]\n",
      "[('p', 'http://www.wikidata.org/prop/direct/P3417'), ('name', 'Quora topic ID')]\n",
      "[('p', 'http://www.wikidata.org/prop/direct/P373'), ('name', 'Commons category')]\n",
      "[('p', 'http://www.wikidata.org/prop/direct/P571'), ('name', 'inception')]\n",
      "[('p', 'http://www.wikidata.org/prop/direct/P641'), ('name', 'sport')]\n",
      "[('p', 'http://www.wikidata.org/prop/direct/P646'), ('name', 'Freebase ID')]\n",
      "[('p', 'http://www.wikidata.org/prop/direct/P856'), ('name', 'official website')]\n",
      "[('p', 'http://www.wikidata.org/prop/direct/P859'), ('name', 'sponsor')]\n",
      "[('p', 'http://www.wikidata.org/prop/direct/P8687'), ('name', 'social media followers')]\n",
      "[('p', 'http://www.wikidata.org/prop/direct/P910'), ('name', \"topic's main category\")]\n",
      "21\n"
     ]
    }
   ],
   "source": [
    "# let's look if there's any useful property to filter the continent Europe analizing 'Berlin Marathon'\n",
    "\n",
    "queryString = \"\"\"\n",
    "SELECT DISTINCT ?p ?name\n",
    "WHERE {\n",
    "   # bind something\n",
    "   wd:Q161222 ?p ?obj.\n",
    "   # get the label\n",
    "   ?p sc:name ?name.\n",
    "}\n",
    "#LIMIT 20\n",
    "\"\"\"\n",
    "\n",
    "print(\"Results\")\n",
    "x=run_query(queryString)"
   ]
  },
  {
   "cell_type": "code",
   "execution_count": null,
   "id": "138ab683-944c-470a-9c18-fd8f9a11a53e",
   "metadata": {},
   "outputs": [],
   "source": [
    "# there's no property assigning Europe as a country but there are country and location properties that could be useful"
   ]
  },
  {
   "cell_type": "code",
   "execution_count": 6,
   "id": "5e921848-2150-45f8-a4b1-126be15e67a8",
   "metadata": {},
   "outputs": [
    {
     "name": "stdout",
     "output_type": "stream",
     "text": [
      "Results\n",
      "[('country', 'http://www.wikidata.org/entity/Q183'), ('name', 'Germany')]\n",
      "1\n"
     ]
    }
   ],
   "source": [
    "queryString = \"\"\"\n",
    "SELECT DISTINCT ?country ?name\n",
    "WHERE {\n",
    "   # bind something\n",
    "   #wd:Q161222 wdt:P276 ?location.\n",
    "   wd:Q161222 wdt:P17 ?country.\n",
    "   # get the label\n",
    "   ?country sc:name ?name.\n",
    "}\n",
    "#LIMIT 20\n",
    "\"\"\"\n",
    "\n",
    "print(\"Results\")\n",
    "x=run_query(queryString)"
   ]
  },
  {
   "cell_type": "code",
   "execution_count": 4,
   "id": "931258fc-6aec-4eb7-8d5c-45674f3ed29c",
   "metadata": {},
   "outputs": [
    {
     "name": "stdout",
     "output_type": "stream",
     "text": [
      "Results\n",
      "[('location', 'http://www.wikidata.org/entity/Q64'), ('name', 'Berlin')]\n",
      "1\n"
     ]
    }
   ],
   "source": [
    "queryString = \"\"\"\n",
    "SELECT DISTINCT ?location ?name\n",
    "WHERE {\n",
    "   # bind something\n",
    "   wd:Q161222 wdt:P276 ?location.\n",
    "   #wd:Q161222 wdt:P17 ?country.\n",
    "   # get the label\n",
    "   ?location sc:name ?name.\n",
    "}\n",
    "#LIMIT 20\n",
    "\"\"\"\n",
    "\n",
    "print(\"Results\")\n",
    "x=run_query(queryString)"
   ]
  },
  {
   "cell_type": "code",
   "execution_count": null,
   "id": "30d2141e-eda2-4e4f-a127-253efb9ddc11",
   "metadata": {},
   "outputs": [],
   "source": [
    "# analizing location and country we get to the point that's better to use country rather than location "
   ]
  },
  {
   "cell_type": "code",
   "execution_count": 137,
   "id": "35ca4b44-b591-43dd-8977-15b646189814",
   "metadata": {},
   "outputs": [
    {
     "name": "stdout",
     "output_type": "stream",
     "text": [
      "Results\n",
      "[('obj', 'http://www.wikidata.org/entity/Q161222'), ('name', 'Berlin Marathon')]\n",
      "[('obj', 'http://www.wikidata.org/entity/Q528634'), ('name', 'Frankfurt Marathon')]\n",
      "[('obj', 'http://www.wikidata.org/entity/Q1258425'), ('name', 'Dresden Marathon')]\n",
      "3\n"
     ]
    }
   ],
   "source": [
    "# let's try to filter marathons that took place in Eurore using this method (first try with only one country)\n",
    "\n",
    "queryString = \"\"\"\n",
    "SELECT DISTINCT ?obj ?name\n",
    "WHERE {\n",
    "   # bind something\n",
    "   VALUES ?country {wd:Q183}\n",
    "   ?obj wdt:P279 wd:Q40244;\n",
    "        wdt:P17 ?country.\n",
    "   \n",
    "   # get the label\n",
    "   ?obj sc:name ?name.\n",
    "   #FILTER(?country = \"Germany\"^^xsd:string).\n",
    "}\n",
    "LIMIT 20\n",
    "\"\"\"\n",
    "\n",
    "print(\"Results\")\n",
    "x=run_query(queryString)"
   ]
  },
  {
   "cell_type": "code",
   "execution_count": null,
   "id": "75944e88-aa6b-481d-b8d1-0ba7f47da2c8",
   "metadata": {},
   "outputs": [],
   "source": [
    "# the results are all the marathons that took place in Germany, now let's get all the marathons that took place in Europe"
   ]
  },
  {
   "cell_type": "code",
   "execution_count": 152,
   "id": "40a57bbf-4783-4f19-8fb4-c62660a86328",
   "metadata": {
    "collapsed": true,
    "jupyter": {
     "outputs_hidden": true
    },
    "tags": []
   },
   "outputs": [
    {
     "name": "stdout",
     "output_type": "stream",
     "text": [
      "Results\n",
      "[('p', 'http://www.wikidata.org/prop/direct/P1081'), ('name', 'Human Development Index')]\n",
      "[('p', 'http://www.wikidata.org/prop/direct/P1082'), ('name', 'population')]\n",
      "[('p', 'http://www.wikidata.org/prop/direct/P1151'), ('name', \"topic's main Wikimedia portal\")]\n",
      "[('p', 'http://www.wikidata.org/prop/direct/P1198'), ('name', 'unemployment rate')]\n",
      "[('p', 'http://www.wikidata.org/prop/direct/P122'), ('name', 'basic form of government')]\n",
      "[('p', 'http://www.wikidata.org/prop/direct/P1225'), ('name', 'U.S. National Archives Identifier')]\n",
      "[('p', 'http://www.wikidata.org/prop/direct/P1245'), ('name', 'OmegaWiki Defined Meaning')]\n",
      "[('p', 'http://www.wikidata.org/prop/direct/P1249'), ('name', 'time of earliest written record')]\n",
      "[('p', 'http://www.wikidata.org/prop/direct/P1273'), ('name', 'CANTIC ID')]\n",
      "[('p', 'http://www.wikidata.org/prop/direct/P1280'), ('name', 'CONOR.SI ID')]\n",
      "[('p', 'http://www.wikidata.org/prop/direct/P1281'), ('name', 'WOEID')]\n",
      "[('p', 'http://www.wikidata.org/prop/direct/P1296'), ('name', 'Gran Enciclopèdia Catalana ID')]\n",
      "[('p', 'http://www.wikidata.org/prop/direct/P1313'), ('name', 'office held by head of government')]\n",
      "[('p', 'http://www.wikidata.org/prop/direct/P1332'), ('name', 'coordinates of northernmost point')]\n",
      "[('p', 'http://www.wikidata.org/prop/direct/P1333'), ('name', 'coordinates of southernmost point')]\n",
      "[('p', 'http://www.wikidata.org/prop/direct/P1334'), ('name', 'coordinates of easternmost point')]\n",
      "[('p', 'http://www.wikidata.org/prop/direct/P1335'), ('name', 'coordinates of westernmost point')]\n",
      "[('p', 'http://www.wikidata.org/prop/direct/P1343'), ('name', 'described by source')]\n",
      "[('p', 'http://www.wikidata.org/prop/direct/P1344'), ('name', 'participant in')]\n",
      "[('p', 'http://www.wikidata.org/prop/direct/P1365'), ('name', 'replaces')]\n",
      "20\n"
     ]
    }
   ],
   "source": [
    "# let's have a look at Germany properties trying to search something that can lead us to the 'Europe' entity\n",
    "\n",
    "queryString = \"\"\"\n",
    "SELECT DISTINCT ?p ?name\n",
    "WHERE {\n",
    "   # bind something\n",
    "   wd:Q183 ?p ?obj.\n",
    "   # get the label\n",
    "   ?p sc:name ?name.\n",
    "}\n",
    "LIMIT 20\n",
    "\"\"\"\n",
    "\n",
    "print(\"Results\")\n",
    "x=run_query(queryString)"
   ]
  },
  {
   "cell_type": "code",
   "execution_count": null,
   "id": "e8e5bfca-47ea-4a4d-9639-b4ed81fa6a9c",
   "metadata": {},
   "outputs": [],
   "source": [
    "# [('p', 'http://www.wikidata.org/prop/direct/P30'), ('name', 'continent')]"
   ]
  },
  {
   "cell_type": "code",
   "execution_count": 153,
   "id": "b6f5d8de-7911-4a9d-8e88-a8614103e373",
   "metadata": {},
   "outputs": [
    {
     "name": "stdout",
     "output_type": "stream",
     "text": [
      "Results\n",
      "[('obj', 'http://www.wikidata.org/entity/Q46'), ('name', 'Europe')]\n",
      "1\n"
     ]
    }
   ],
   "source": [
    "# let's get the Entity for Europe\n",
    "\n",
    "queryString = \"\"\"\n",
    "SELECT DISTINCT ?obj ?name\n",
    "WHERE {\n",
    "   # bind something\n",
    "   wd:Q183 wdt:P30 ?obj.\n",
    "   # get the label\n",
    "   ?obj sc:name ?name.\n",
    "}\n",
    "LIMIT 20\n",
    "\"\"\"\n",
    "\n",
    "print(\"Results\")\n",
    "x=run_query(queryString)"
   ]
  },
  {
   "cell_type": "code",
   "execution_count": 158,
   "id": "1c86c024-f903-4f8d-a4fa-62ab64cba0df",
   "metadata": {
    "tags": []
   },
   "outputs": [
    {
     "name": "stdout",
     "output_type": "stream",
     "text": [
      "Results\n",
      "[('p', 'http://www.wikidata.org/prop/direct/P7607'), ('name', 'WikiTree category or space')]\n",
      "[('p', 'http://www.wikidata.org/prop/direct/P1036'), ('name', 'Dewey Decimal Classification')]\n",
      "[('p', 'http://www.wikidata.org/prop/direct/P1082'), ('name', 'population')]\n",
      "[('p', 'http://www.wikidata.org/prop/direct/P1151'), ('name', \"topic's main Wikimedia portal\")]\n",
      "[('p', 'http://www.wikidata.org/prop/direct/P1225'), ('name', 'U.S. National Archives Identifier')]\n",
      "[('p', 'http://www.wikidata.org/prop/direct/P1245'), ('name', 'OmegaWiki Defined Meaning')]\n",
      "[('p', 'http://www.wikidata.org/prop/direct/P1281'), ('name', 'WOEID')]\n",
      "[('p', 'http://www.wikidata.org/prop/direct/P1296'), ('name', 'Gran Enciclopèdia Catalana ID')]\n",
      "[('p', 'http://www.wikidata.org/prop/direct/P1343'), ('name', 'described by source')]\n",
      "[('p', 'http://www.wikidata.org/prop/direct/P138'), ('name', 'named after')]\n",
      "[('p', 'http://www.wikidata.org/prop/direct/P1417'), ('name', 'Encyclopædia Britannica Online ID')]\n",
      "[('p', 'http://www.wikidata.org/prop/direct/P1424'), ('name', \"topic's main template\")]\n",
      "[('p', 'http://www.wikidata.org/prop/direct/P1449'), ('name', 'nickname')]\n",
      "[('p', 'http://www.wikidata.org/prop/direct/P1464'), ('name', 'category for people born here')]\n",
      "[('p', 'http://www.wikidata.org/prop/direct/P1465'), ('name', 'category for people who died here')]\n",
      "[('p', 'http://www.wikidata.org/prop/direct/P1482'), ('name', 'Stack Exchange tag')]\n",
      "[('p', 'http://www.wikidata.org/prop/direct/P1549'), ('name', 'demonym')]\n",
      "[('p', 'http://www.wikidata.org/prop/direct/P1566'), ('name', 'GeoNames ID')]\n",
      "[('p', 'http://www.wikidata.org/prop/direct/P1584'), ('name', 'Pleiades ID')]\n",
      "[('p', 'http://www.wikidata.org/prop/direct/P1621'), ('name', 'detail map')]\n",
      "20\n"
     ]
    }
   ],
   "source": [
    "# now that we have the entity code for Europe let's try to get all the countries located in Europe\n",
    "\n",
    "queryString = \"\"\"\n",
    "SELECT DISTINCT ?p ?name\n",
    "WHERE {\n",
    "   # bind something\n",
    "   wd:Q46 ?p ?obj.\n",
    "   # get the label\n",
    "   ?p sc:name ?name.\n",
    "}\n",
    "LIMIT 20\n",
    "\"\"\"\n",
    "\n",
    "print(\"Results\")\n",
    "x=run_query(queryString)"
   ]
  },
  {
   "cell_type": "code",
   "execution_count": null,
   "id": "9ddc75de-e34a-443d-887f-fcc533eae7a3",
   "metadata": {},
   "outputs": [],
   "source": [
    "# there's no property returning all countries of Europe"
   ]
  },
  {
   "cell_type": "code",
   "execution_count": null,
   "id": "60df4738-49a5-4622-8cce-0e97f67e33e0",
   "metadata": {},
   "outputs": [],
   "source": [
    "# let's have a look at Europe's related entities"
   ]
  },
  {
   "cell_type": "code",
   "execution_count": 175,
   "id": "592b6c44-1a58-43f4-a036-46477cad494d",
   "metadata": {
    "collapsed": true,
    "jupyter": {
     "outputs_hidden": true
    },
    "tags": []
   },
   "outputs": [
    {
     "name": "stdout",
     "output_type": "stream",
     "text": [
      "Results\n",
      "[('obj', 'http://www.wikidata.org/entity/Q4997598'), ('name', 'Portal:Europe')]\n",
      "[('obj', 'http://www.wikidata.org/entity/Q345567'), ('name', 'Europe')]\n",
      "[('obj', 'http://www.wikidata.org/entity/Q43105'), ('name', 'Mount Elbrus')]\n",
      "[('obj', 'http://www.wikidata.org/entity/Q1377029'), ('name', 'European studies')]\n",
      "[('obj', 'http://www.wikidata.org/entity/Q119716'), ('name', 'geography of Europe')]\n",
      "[('obj', 'http://www.wikidata.org/entity/Q263686'), ('name', 'Southeast Europe')]\n",
      "[('obj', 'http://www.wikidata.org/entity/Q4587662'), ('name', 'Category:Europe')]\n",
      "[('obj', 'http://www.wikidata.org/entity/Q122482'), ('name', 'European flag')]\n",
      "[('obj', 'http://www.wikidata.org/entity/Q19180675'), ('name', 'Small Brockhaus and Efron Encyclopedic Dictionary')]\n",
      "[('obj', 'http://www.wikidata.org/entity/Q2'), ('name', 'Earth')]\n",
      "[('obj', 'http://www.wikidata.org/entity/Q2226947'), ('name', 'economy of Europe')]\n",
      "[('obj', 'http://www.wikidata.org/entity/Q2356448'), ('name', 'Kaliningrad Time')]\n",
      "[('obj', 'http://www.wikidata.org/entity/Q27468'), ('name', 'Eastern Europe')]\n",
      "[('obj', 'http://www.wikidata.org/entity/Q27496'), ('name', 'Western Europe')]\n",
      "[('obj', 'http://www.wikidata.org/entity/Q27509'), ('name', 'Central Europe')]\n",
      "[('obj', 'http://www.wikidata.org/entity/Q30059240'), ('name', \"Real'nyj slovar' klassicheskih drevnostej po Ljubkeru\")]\n",
      "[('obj', 'http://www.wikidata.org/entity/Q302556'), ('name', 'Catholic Encyclopedia')]\n",
      "[('obj', 'http://www.wikidata.org/entity/Q3181656'), ('name', 'The Nuttall Encyclopædia')]\n",
      "[('obj', 'http://www.wikidata.org/entity/Q4114391'), ('name', 'Sytin Military Encyclopedia')]\n",
      "[('obj', 'http://www.wikidata.org/entity/Q4173137'), ('name', 'Jewish Encyclopedia of Brockhaus and Efron')]\n",
      "[('obj', 'http://www.wikidata.org/entity/Q48'), ('name', 'Asia')]\n",
      "[('obj', 'http://www.wikidata.org/entity/Q50807777'), ('name', 'Southwestern Europe')]\n",
      "[('obj', 'http://www.wikidata.org/entity/Q5107'), ('name', 'continent')]\n",
      "[('obj', 'http://www.wikidata.org/entity/Q5401'), ('name', 'Eurasia')]\n",
      "[('obj', 'http://www.wikidata.org/entity/Q5412099'), ('name', 'Europe/Brussels')]\n",
      "[('obj', 'http://www.wikidata.org/entity/Q54439832'), ('name', 'WikiProject Zika Corpus')]\n",
      "[('obj', 'http://www.wikidata.org/entity/Q5460604'), ('name', 'Wikipedia:Vital articles')]\n",
      "[('obj', 'http://www.wikidata.org/entity/Q602358'), ('name', 'Brockhaus and Efron Encyclopedic Dictionary')]\n",
      "[('obj', 'http://www.wikidata.org/entity/Q7787'), ('name', 'history of Europe')]\n",
      "[('obj', 'http://www.wikidata.org/entity/Q867541'), ('name', 'Encyclopædia Britannica 11th edition')]\n",
      "[('obj', 'http://www.wikidata.org/entity/Q27449'), ('name', 'Southern Europe')]\n",
      "[('obj', 'http://www.wikidata.org/entity/Q27479'), ('name', 'Northern Europe')]\n",
      "[('obj', 'http://www.wikidata.org/entity/Q1067887'), ('name', 'demographics of Europe')]\n",
      "[('obj', 'http://www.wikidata.org/entity/Q39061'), ('name', 'Northern Hemisphere')]\n",
      "[('obj', 'http://www.wikidata.org/entity/Q165170'), ('name', 'Europa')]\n",
      "[('obj', 'http://www.wikidata.org/entity/Q6468813'), ('name', 'Category:Deaths in Europe')]\n",
      "[('obj', 'http://www.wikidata.org/entity/Q2035462'), ('name', 'Ostfeste')]\n",
      "[('obj', 'http://www.wikidata.org/entity/Q2418896'), ('name', 'part of the world')]\n",
      "[('obj', 'http://www.wikidata.org/entity/Q5412117'), ('name', 'Europe/Moscow')]\n",
      "[('obj', 'http://www.wikidata.org/entity/Q741380'), ('name', 'Europa')]\n",
      "[('obj', 'http://www.wikidata.org/entity/Q7237186'), ('name', 'Category:Films shot in Europe')]\n",
      "[('obj', 'http://www.wikidata.org/entity/Q1998497'), ('name', 'North Eastern Europe')]\n",
      "[('obj', 'http://www.wikidata.org/entity/Q16894228'), ('name', 'Europe/London')]\n",
      "[('obj', 'http://www.wikidata.org/entity/Q8053315'), ('name', 'Category:Births in Europe')]\n",
      "[('obj', 'http://www.wikidata.org/entity/Q7112259'), ('name', 'outline of Europe')]\n",
      "[('obj', 'http://www.wikidata.org/entity/Q18915272'), ('name', 'Category:Burials in Europe')]\n",
      "[('obj', 'http://www.wikidata.org/entity/Q6984392'), ('name', 'Template:Europe topic')]\n",
      "[('obj', 'http://www.wikidata.org/entity/Q5412093'), ('name', 'Europe/Athens')]\n",
      "[('obj', 'http://www.wikidata.org/entity/Q1414323'), ('name', 'Northwestern Europe')]\n",
      "[('obj', 'http://www.wikidata.org/entity/Q7449991'), ('name', 'Category:Maps of Europe')]\n",
      "50\n"
     ]
    }
   ],
   "source": [
    "# Q46 -- Europe\n",
    "\n",
    "queryString = \"\"\"\n",
    "SELECT DISTINCT ?obj ?name\n",
    "WHERE {\n",
    "   # bind something\n",
    "   wd:Q46 ?p ?obj.\n",
    "   # get the label\n",
    "   ?obj sc:name ?name.\n",
    "}\n",
    "LIMIT 50\n",
    "\"\"\"\n",
    "\n",
    "print(\"Results\")\n",
    "x=run_query(queryString)"
   ]
  },
  {
   "cell_type": "code",
   "execution_count": null,
   "id": "879dcf27-4767-491d-b322-c4062f905ac4",
   "metadata": {},
   "outputs": [],
   "source": [
    "# we see that Europe has subclasses named :'Eastern Europe', 'Western Europe', 'Central Europe'\n",
    "# let's use those entities to retrieve all countries in Europe"
   ]
  },
  {
   "cell_type": "code",
   "execution_count": 185,
   "id": "db61bd53-3b49-4003-99bf-b641ed9c4480",
   "metadata": {
    "collapsed": true,
    "jupyter": {
     "outputs_hidden": true
    },
    "tags": []
   },
   "outputs": [
    {
     "name": "stdout",
     "output_type": "stream",
     "text": [
      "Results\n",
      "[('p', 'http://www.wikidata.org/prop/direct/P1151'), ('name', \"topic's main Wikimedia portal\")]\n",
      "[('p', 'http://www.wikidata.org/prop/direct/P1225'), ('name', 'U.S. National Archives Identifier')]\n",
      "[('p', 'http://www.wikidata.org/prop/direct/P1245'), ('name', 'OmegaWiki Defined Meaning')]\n",
      "[('p', 'http://www.wikidata.org/prop/direct/P1566'), ('name', 'GeoNames ID')]\n",
      "[('p', 'http://www.wikidata.org/prop/direct/P1889'), ('name', 'different from')]\n",
      "[('p', 'http://www.wikidata.org/prop/direct/P2082'), ('name', 'M.49 code')]\n",
      "[('p', 'http://www.wikidata.org/prop/direct/P214'), ('name', 'VIAF ID')]\n",
      "[('p', 'http://www.wikidata.org/prop/direct/P2184'), ('name', 'history of topic')]\n",
      "[('p', 'http://www.wikidata.org/prop/direct/P227'), ('name', 'GND ID')]\n",
      "[('p', 'http://www.wikidata.org/prop/direct/P2347'), ('name', 'YSO ID')]\n",
      "[('p', 'http://www.wikidata.org/prop/direct/P242'), ('name', 'locator map image')]\n",
      "[('p', 'http://www.wikidata.org/prop/direct/P244'), ('name', 'Library of Congress authority ID')]\n",
      "[('p', 'http://www.wikidata.org/prop/direct/P2579'), ('name', 'studied by')]\n",
      "[('p', 'http://www.wikidata.org/prop/direct/P2581'), ('name', 'BabelNet ID')]\n",
      "[('p', 'http://www.wikidata.org/prop/direct/P31'), ('name', 'instance of')]\n",
      "[('p', 'http://www.wikidata.org/prop/direct/P3417'), ('name', 'Quora topic ID')]\n",
      "[('p', 'http://www.wikidata.org/prop/direct/P3553'), ('name', 'Zhihu topic ID')]\n",
      "[('p', 'http://www.wikidata.org/prop/direct/P361'), ('name', 'part of')]\n",
      "[('p', 'http://www.wikidata.org/prop/direct/P3612'), ('name', 'Le Monde diplomatique subject ID')]\n",
      "[('p', 'http://www.wikidata.org/prop/direct/P373'), ('name', 'Commons category')]\n",
      "[('p', 'http://www.wikidata.org/prop/direct/P3911'), ('name', 'STW Thesaurus for Economics ID')]\n",
      "[('p', 'http://www.wikidata.org/prop/direct/P3916'), ('name', 'UNESCO Thesaurus ID')]\n",
      "[('p', 'http://www.wikidata.org/prop/direct/P4342'), ('name', 'Store norske leksikon ID')]\n",
      "[('p', 'http://www.wikidata.org/prop/direct/P4427'), ('name', 'GACS ID')]\n",
      "[('p', 'http://www.wikidata.org/prop/direct/P4527'), ('name', 'UK Parliament thesaurus ID')]\n",
      "[('p', 'http://www.wikidata.org/prop/direct/P486'), ('name', 'MeSH descriptor ID')]\n",
      "[('p', 'http://www.wikidata.org/prop/direct/P5198'), ('name', 'ASC Leiden Thesaurus ID')]\n",
      "[('p', 'http://www.wikidata.org/prop/direct/P527'), ('name', 'has part')]\n",
      "[('p', 'http://www.wikidata.org/prop/direct/P5437'), ('name', 'EuroVoc ID')]\n",
      "[('p', 'http://www.wikidata.org/prop/direct/P5587'), ('name', 'Libris-URI')]\n",
      "[('p', 'http://www.wikidata.org/prop/direct/P5748'), ('name', 'Basisklassifikation')]\n",
      "[('p', 'http://www.wikidata.org/prop/direct/P646'), ('name', 'Freebase ID')]\n",
      "[('p', 'http://www.wikidata.org/prop/direct/P691'), ('name', 'NKCR AUT ID')]\n",
      "[('p', 'http://www.wikidata.org/prop/direct/P7818'), ('name', 'French Vikidia ID')]\n",
      "[('p', 'http://www.wikidata.org/prop/direct/P7832'), ('name', 'Basque Vikidia ID')]\n",
      "[('p', 'http://www.wikidata.org/prop/direct/P7859'), ('name', 'WorldCat Identities ID')]\n",
      "[('p', 'http://www.wikidata.org/prop/direct/P7867'), ('name', 'category for maps')]\n",
      "[('p', 'http://www.wikidata.org/prop/direct/P8217'), ('name', 'iDAI.gazetteer ID')]\n",
      "[('p', 'http://www.wikidata.org/prop/direct/P8408'), ('name', 'KBpedia ID')]\n",
      "[('p', 'http://www.wikidata.org/prop/direct/P8483'), ('name', 'PM20 geo code')]\n",
      "[('p', 'http://www.wikidata.org/prop/direct/P8826'), ('name', 'edition humboldt digital ID')]\n",
      "[('p', 'http://www.wikidata.org/prop/direct/P9037'), ('name', 'BHCL UUID')]\n",
      "[('p', 'http://www.wikidata.org/prop/direct/P906'), ('name', 'SELIBR ID')]\n",
      "[('p', 'http://www.wikidata.org/prop/direct/P910'), ('name', \"topic's main category\")]\n",
      "[('p', 'http://www.wikidata.org/prop/direct/P948'), ('name', 'page banner')]\n",
      "[('p', 'http://www.wikidata.org/prop/direct/P3635'), ('name', 'Peakbagger area ID')]\n",
      "46\n"
     ]
    }
   ],
   "source": [
    "# let's have a look at properties of the subregions\n",
    "\n",
    "queryString = \"\"\"\n",
    "SELECT DISTINCT ?p ?name\n",
    "WHERE {\n",
    "   # bind something\n",
    "   wd:Q27468 ?p ?obj.\n",
    "   # get the label\n",
    "   ?p sc:name ?name.\n",
    "}\n",
    "#LIMIT 20\n",
    "\"\"\"\n",
    "\n",
    "print(\"Results\")\n",
    "x=run_query(queryString)"
   ]
  },
  {
   "cell_type": "code",
   "execution_count": null,
   "id": "932a3a4b-17a1-4c33-bf0a-af6e85f6ef87",
   "metadata": {},
   "outputs": [],
   "source": [
    "# there's no way of accessing all of Europe contries and save them together, so we'll have to access separetely every European region (Eastern Europe, Western Europe and Central Europe etc..) and \n",
    "# look at entities for country in each region"
   ]
  },
  {
   "cell_type": "code",
   "execution_count": null,
   "id": "16a05e83-dc6d-4a11-a3f0-0e69e031c886",
   "metadata": {
    "collapsed": true,
    "jupyter": {
     "outputs_hidden": true
    },
    "tags": []
   },
   "outputs": [
    {
     "name": "stdout",
     "output_type": "stream",
     "text": [
      "Results\n",
      "[('obj', 'http://www.wikidata.org/entity/Q184'), ('name', 'Belarus')]\n",
      "[('obj', 'http://www.wikidata.org/entity/Q212'), ('name', 'Ukraine')]\n",
      "[('obj', 'http://www.wikidata.org/entity/Q213'), ('name', 'Czech Republic')]\n",
      "[('obj', 'http://www.wikidata.org/entity/Q214'), ('name', 'Slovakia')]\n",
      "[('obj', 'http://www.wikidata.org/entity/Q217'), ('name', 'Moldova')]\n",
      "[('obj', 'http://www.wikidata.org/entity/Q218'), ('name', 'Romania')]\n",
      "[('obj', 'http://www.wikidata.org/entity/Q219'), ('name', 'Bulgaria')]\n",
      "[('obj', 'http://www.wikidata.org/entity/Q28'), ('name', 'Hungary')]\n",
      "[('obj', 'http://www.wikidata.org/entity/Q36'), ('name', 'Poland')]\n",
      "[('obj', 'http://www.wikidata.org/entity/Q46'), ('name', 'Europe')]\n",
      "[('obj', 'http://www.wikidata.org/entity/Q82794'), ('name', 'geographic region')]\n",
      "[('obj', 'http://www.wikidata.org/entity/Q875134'), ('name', 'European Russia')]\n",
      "[('obj', 'http://www.wikidata.org/entity/Q1413113'), ('name', 'Eastern European studies')]\n",
      "[('obj', 'http://www.wikidata.org/entity/Q64147925'), ('name', 'Portal:Eastern Europe')]\n",
      "[('obj', 'http://www.wikidata.org/entity/Q1641744'), ('name', 'history of Eastern Europe')]\n",
      "[('obj', 'http://www.wikidata.org/entity/Q6581403'), ('name', 'Category:Eastern Europe')]\n",
      "[('obj', 'http://www.wikidata.org/entity/Q19715270'), ('name', 'European Kazakhstan')]\n",
      "[('obj', 'http://www.wikidata.org/entity/Q8607348'), ('name', 'Category:Maps of Eastern Europe')]\n",
      "18\n"
     ]
    }
   ],
   "source": [
    "# Looking at countries located in Eastern Europe\n",
    "\n",
    "queryString = \"\"\"\n",
    "SELECT DISTINCT ?obj ?name\n",
    "WHERE {\n",
    "   # bind something\n",
    "   wd:Q27468 ?p ?obj.\n",
    "   # get the label\n",
    "   ?obj sc:name ?name.\n",
    "}\n",
    "LIMIT 20\n",
    "\"\"\"\n",
    "\n",
    "print(\"Results\")\n",
    "x=run_query(queryString)"
   ]
  },
  {
   "cell_type": "code",
   "execution_count": 172,
   "id": "5617ee0d-8159-4b7e-9772-e4b93ea5019b",
   "metadata": {
    "collapsed": true,
    "jupyter": {
     "outputs_hidden": true
    },
    "tags": []
   },
   "outputs": [
    {
     "name": "stdout",
     "output_type": "stream",
     "text": [
      "Results\n",
      "[('obj', 'http://www.wikidata.org/entity/Q160381'), ('name', 'Western world')]\n",
      "[('obj', 'http://www.wikidata.org/entity/Q142'), ('name', 'France')]\n",
      "[('obj', 'http://www.wikidata.org/entity/Q183'), ('name', 'Germany')]\n",
      "[('obj', 'http://www.wikidata.org/entity/Q235'), ('name', 'Monaco')]\n",
      "[('obj', 'http://www.wikidata.org/entity/Q31'), ('name', 'Belgium')]\n",
      "[('obj', 'http://www.wikidata.org/entity/Q32'), ('name', 'Luxembourg')]\n",
      "[('obj', 'http://www.wikidata.org/entity/Q39'), ('name', 'Switzerland')]\n",
      "[('obj', 'http://www.wikidata.org/entity/Q40'), ('name', 'Austria')]\n",
      "[('obj', 'http://www.wikidata.org/entity/Q46'), ('name', 'Europe')]\n",
      "[('obj', 'http://www.wikidata.org/entity/Q55'), ('name', 'Netherlands')]\n",
      "[('obj', 'http://www.wikidata.org/entity/Q82794'), ('name', 'geographic region')]\n",
      "[('obj', 'http://www.wikidata.org/entity/Q64147921'), ('name', 'Portal:Western Europe')]\n",
      "[('obj', 'http://www.wikidata.org/entity/Q86344423'), ('name', 'Category:Western European people')]\n",
      "[('obj', 'http://www.wikidata.org/entity/Q7453273'), ('name', 'Category:Western Europe')]\n",
      "[('obj', 'http://www.wikidata.org/entity/Q104600089'), ('name', 'Category:Views of western europe')]\n",
      "[('obj', 'http://www.wikidata.org/entity/Q84096801'), ('name', 'Category:Maps of Western Europe')]\n",
      "16\n"
     ]
    }
   ],
   "source": [
    "# Looking at countries located in Western Europe\n",
    "\n",
    "queryString = \"\"\"\n",
    "SELECT DISTINCT ?obj ?name\n",
    "WHERE {\n",
    "   # bind something\n",
    "   wd:Q27496 ?p ?obj.\n",
    "   # get the label\n",
    "   ?obj sc:name ?name.\n",
    "}\n",
    "LIMIT 20\n",
    "\"\"\"\n",
    "\n",
    "print(\"Results\")\n",
    "x=run_query(queryString)"
   ]
  },
  {
   "cell_type": "code",
   "execution_count": 174,
   "id": "ea28df24-70bb-4b56-b291-b636db6a6116",
   "metadata": {
    "collapsed": true,
    "jupyter": {
     "outputs_hidden": true
    },
    "tags": []
   },
   "outputs": [
    {
     "name": "stdout",
     "output_type": "stream",
     "text": [
      "Results\n",
      "[('obj', 'http://www.wikidata.org/entity/Q142'), ('name', 'France')]\n",
      "[('obj', 'http://www.wikidata.org/entity/Q145'), ('name', 'United Kingdom')]\n",
      "[('obj', 'http://www.wikidata.org/entity/Q183'), ('name', 'Germany')]\n",
      "[('obj', 'http://www.wikidata.org/entity/Q213'), ('name', 'Czech Republic')]\n",
      "[('obj', 'http://www.wikidata.org/entity/Q214'), ('name', 'Slovakia')]\n",
      "[('obj', 'http://www.wikidata.org/entity/Q27'), ('name', 'Ireland')]\n",
      "[('obj', 'http://www.wikidata.org/entity/Q28'), ('name', 'Hungary')]\n",
      "[('obj', 'http://www.wikidata.org/entity/Q31'), ('name', 'Belgium')]\n",
      "[('obj', 'http://www.wikidata.org/entity/Q32'), ('name', 'Luxembourg')]\n",
      "[('obj', 'http://www.wikidata.org/entity/Q347'), ('name', 'Liechtenstein')]\n",
      "[('obj', 'http://www.wikidata.org/entity/Q35'), ('name', 'Denmark')]\n",
      "[('obj', 'http://www.wikidata.org/entity/Q36'), ('name', 'Poland')]\n",
      "[('obj', 'http://www.wikidata.org/entity/Q39'), ('name', 'Switzerland')]\n",
      "[('obj', 'http://www.wikidata.org/entity/Q40'), ('name', 'Austria')]\n",
      "[('obj', 'http://www.wikidata.org/entity/Q46'), ('name', 'Europe')]\n",
      "[('obj', 'http://www.wikidata.org/entity/Q55'), ('name', 'Netherlands')]\n",
      "[('obj', 'http://www.wikidata.org/entity/Q82794'), ('name', 'geographic region')]\n",
      "[('obj', 'http://www.wikidata.org/entity/Q8937945'), ('name', 'Category:Central Europe')]\n",
      "[('obj', 'http://www.wikidata.org/entity/Q86311716'), ('name', 'Category:Central European people')]\n",
      "[('obj', 'http://www.wikidata.org/entity/Q64147919'), ('name', 'Portal:Central Europe')]\n",
      "[('obj', 'http://www.wikidata.org/entity/Q8607334'), ('name', 'Category:Maps of Central Europe')]\n",
      "21\n"
     ]
    }
   ],
   "source": [
    "# Looking at countries located in Central Europe\n",
    "\n",
    "queryString = \"\"\"\n",
    "SELECT DISTINCT ?obj ?name\n",
    "WHERE {\n",
    "   # bind something\n",
    "   wd:Q27509 ?p ?obj.\n",
    "   # get the label\n",
    "   ?obj sc:name ?name.\n",
    "}\n",
    "LIMIT 50\n",
    "\"\"\"\n",
    "\n",
    "print(\"Results\")\n",
    "x=run_query(queryString)"
   ]
  },
  {
   "cell_type": "code",
   "execution_count": 178,
   "id": "e9f4e537-a219-4126-a862-bc83071acae6",
   "metadata": {
    "collapsed": true,
    "jupyter": {
     "outputs_hidden": true
    },
    "tags": []
   },
   "outputs": [
    {
     "name": "stdout",
     "output_type": "stream",
     "text": [
      "Results\n",
      "[('obj', 'http://www.wikidata.org/entity/Q1410'), ('name', 'Gibraltar')]\n",
      "[('obj', 'http://www.wikidata.org/entity/Q215'), ('name', 'Slovenia')]\n",
      "[('obj', 'http://www.wikidata.org/entity/Q221'), ('name', 'North Macedonia')]\n",
      "[('obj', 'http://www.wikidata.org/entity/Q222'), ('name', 'Albania')]\n",
      "[('obj', 'http://www.wikidata.org/entity/Q224'), ('name', 'Croatia')]\n",
      "[('obj', 'http://www.wikidata.org/entity/Q225'), ('name', 'Bosnia and Herzegovina')]\n",
      "[('obj', 'http://www.wikidata.org/entity/Q228'), ('name', 'Andorra')]\n",
      "[('obj', 'http://www.wikidata.org/entity/Q233'), ('name', 'Malta')]\n",
      "[('obj', 'http://www.wikidata.org/entity/Q236'), ('name', 'Montenegro')]\n",
      "[('obj', 'http://www.wikidata.org/entity/Q237'), ('name', 'Vatican City')]\n",
      "[('obj', 'http://www.wikidata.org/entity/Q238'), ('name', 'San Marino')]\n",
      "[('obj', 'http://www.wikidata.org/entity/Q29'), ('name', 'Spain')]\n",
      "[('obj', 'http://www.wikidata.org/entity/Q38'), ('name', 'Italy')]\n",
      "[('obj', 'http://www.wikidata.org/entity/Q403'), ('name', 'Serbia')]\n",
      "[('obj', 'http://www.wikidata.org/entity/Q41'), ('name', 'Greece')]\n",
      "[('obj', 'http://www.wikidata.org/entity/Q45'), ('name', 'Portugal')]\n",
      "[('obj', 'http://www.wikidata.org/entity/Q46'), ('name', 'Europe')]\n",
      "[('obj', 'http://www.wikidata.org/entity/Q82794'), ('name', 'geographic region')]\n",
      "[('obj', 'http://www.wikidata.org/entity/Q64147923'), ('name', 'Portal:Southern Europe')]\n",
      "[('obj', 'http://www.wikidata.org/entity/Q7453281'), ('name', 'Category:Southern Europe')]\n",
      "[('obj', 'http://www.wikidata.org/entity/Q84054041'), ('name', 'Category:Maps of Southern Europe')]\n",
      "21\n"
     ]
    }
   ],
   "source": [
    "# Looking at countries located in Southern Europe\n",
    "\n",
    "queryString = \"\"\"\n",
    "SELECT DISTINCT ?obj ?name\n",
    "WHERE {\n",
    "   # bind something\n",
    "   wd:Q27449 ?p ?obj.\n",
    "   # get the label\n",
    "   ?obj sc:name ?name.\n",
    "}\n",
    "LIMIT 50\n",
    "\"\"\"\n",
    "\n",
    "print(\"Results\")\n",
    "x=run_query(queryString)"
   ]
  },
  {
   "cell_type": "code",
   "execution_count": 183,
   "id": "cc8c4870-4f6c-4360-ae49-555b3a88af05",
   "metadata": {
    "collapsed": true,
    "jupyter": {
     "outputs_hidden": true
    },
    "tags": []
   },
   "outputs": [
    {
     "name": "stdout",
     "output_type": "stream",
     "text": [
      "Results\n",
      "[('obj', 'http://www.wikidata.org/entity/Q145'), ('name', 'United Kingdom')]\n",
      "[('obj', 'http://www.wikidata.org/entity/Q189'), ('name', 'Iceland')]\n",
      "[('obj', 'http://www.wikidata.org/entity/Q191'), ('name', 'Estonia')]\n",
      "[('obj', 'http://www.wikidata.org/entity/Q20'), ('name', 'Norway')]\n",
      "[('obj', 'http://www.wikidata.org/entity/Q211'), ('name', 'Latvia')]\n",
      "[('obj', 'http://www.wikidata.org/entity/Q25230'), ('name', 'Guernsey')]\n",
      "[('obj', 'http://www.wikidata.org/entity/Q33'), ('name', 'Finland')]\n",
      "[('obj', 'http://www.wikidata.org/entity/Q34'), ('name', 'Sweden')]\n",
      "[('obj', 'http://www.wikidata.org/entity/Q35'), ('name', 'Denmark')]\n",
      "[('obj', 'http://www.wikidata.org/entity/Q37'), ('name', 'Lithuania')]\n",
      "[('obj', 'http://www.wikidata.org/entity/Q46'), ('name', 'Europe')]\n",
      "[('obj', 'http://www.wikidata.org/entity/Q4628'), ('name', 'Faroe Islands')]\n",
      "[('obj', 'http://www.wikidata.org/entity/Q785'), ('name', 'Jersey')]\n",
      "[('obj', 'http://www.wikidata.org/entity/Q82794'), ('name', 'geographic region')]\n",
      "[('obj', 'http://www.wikidata.org/entity/Q9676'), ('name', 'Isle of Man')]\n",
      "[('obj', 'http://www.wikidata.org/entity/Q203942'), ('name', 'Galdhøpiggen')]\n",
      "[('obj', 'http://www.wikidata.org/entity/Q3405693'), ('name', 'Sark')]\n",
      "[('obj', 'http://www.wikidata.org/entity/Q52062'), ('name', 'Nordic countries')]\n",
      "[('obj', 'http://www.wikidata.org/entity/Q5689'), ('name', 'Åland')]\n",
      "[('obj', 'http://www.wikidata.org/entity/Q64147918'), ('name', 'Portal:Northern Europe')]\n",
      "[('obj', 'http://www.wikidata.org/entity/Q7237956'), ('name', 'Category:Northern Europe')]\n",
      "[('obj', 'http://www.wikidata.org/entity/Q84077165'), ('name', 'Category:Maps of Northern Europe')]\n",
      "[('obj', 'http://www.wikidata.org/entity/Q842829'), ('name', 'Svalbard and Jan Mayen')]\n",
      "23\n"
     ]
    }
   ],
   "source": [
    "# Looking at countries located in Northern Europe\n",
    "\n",
    "queryString = \"\"\"\n",
    "SELECT DISTINCT ?obj ?name\n",
    "WHERE {\n",
    "   # bind something\n",
    "   wd:Q27479 ?p ?obj.\n",
    "   # get the label\n",
    "   ?obj sc:name ?name.\n",
    "}\n",
    "LIMIT 50\n",
    "\"\"\"\n",
    "\n",
    "print(\"Results\")\n",
    "x=run_query(queryString)"
   ]
  },
  {
   "cell_type": "code",
   "execution_count": 184,
   "id": "524f2751-440a-4c99-8edd-eddb9f7cb64a",
   "metadata": {
    "tags": []
   },
   "outputs": [
    {
     "name": "stdout",
     "output_type": "stream",
     "text": [
      "Results\n",
      "[('obj', 'http://www.wikidata.org/entity/Q10815257'), ('name', 'Portal:Southeastern Europe')]\n",
      "[('obj', 'http://www.wikidata.org/entity/Q84076816'), ('name', 'Category:Maps of Southeastern Europe')]\n",
      "[('obj', 'http://www.wikidata.org/entity/Q9811465'), ('name', 'Category:Southeastern Europe')]\n",
      "[('obj', 'http://www.wikidata.org/entity/Q46'), ('name', 'Europe')]\n",
      "[('obj', 'http://www.wikidata.org/entity/Q82794'), ('name', 'geographic region')]\n",
      "5\n"
     ]
    }
   ],
   "source": [
    "# Looking at countries located in Southeast Europe\n",
    "\n",
    "queryString = \"\"\"\n",
    "SELECT DISTINCT ?obj ?name\n",
    "WHERE {\n",
    "   # bind something\n",
    "   wd:Q263686 ?p ?obj.\n",
    "   # get the label\n",
    "   ?obj sc:name ?name.\n",
    "}\n",
    "LIMIT 50\n",
    "\"\"\"\n",
    "\n",
    "print(\"Results\")\n",
    "x=run_query(queryString)"
   ]
  },
  {
   "cell_type": "code",
   "execution_count": 186,
   "id": "fc002409-976d-4fd3-afd6-e4072d39baeb",
   "metadata": {
    "collapsed": true,
    "jupyter": {
     "outputs_hidden": true
    },
    "tags": []
   },
   "outputs": [
    {
     "name": "stdout",
     "output_type": "stream",
     "text": [
      "Results\n",
      "[('obj', 'http://www.wikidata.org/entity/Q46'), ('name', 'Europe')]\n",
      "[('obj', 'http://www.wikidata.org/entity/Q82794'), ('name', 'geographic region')]\n",
      "2\n"
     ]
    }
   ],
   "source": [
    "# Looking at countries located in Southwestern Europe\n",
    "\n",
    "queryString = \"\"\"\n",
    "SELECT DISTINCT ?obj ?name\n",
    "WHERE {\n",
    "   # bind something\n",
    "   wd:Q50807777 ?p ?obj.\n",
    "   # get the label\n",
    "   ?obj sc:name ?name.\n",
    "}\n",
    "LIMIT 50\n",
    "\"\"\"\n",
    "\n",
    "print(\"Results\")\n",
    "x=run_query(queryString)"
   ]
  },
  {
   "cell_type": "code",
   "execution_count": 187,
   "id": "b2732249-fa7d-4bf9-8620-1138e8104e31",
   "metadata": {
    "collapsed": true,
    "jupyter": {
     "outputs_hidden": true
    },
    "tags": []
   },
   "outputs": [
    {
     "name": "stdout",
     "output_type": "stream",
     "text": [
      "Results\n",
      "[('obj', 'http://www.wikidata.org/entity/Q27468'), ('name', 'Eastern Europe')]\n",
      "[('obj', 'http://www.wikidata.org/entity/Q46'), ('name', 'Europe')]\n",
      "[('obj', 'http://www.wikidata.org/entity/Q82794'), ('name', 'geographic region')]\n",
      "3\n"
     ]
    }
   ],
   "source": [
    "# Looking at countries located in North Eastern Europe\n",
    "\n",
    "queryString = \"\"\"\n",
    "SELECT DISTINCT ?obj ?name\n",
    "WHERE {\n",
    "   # bind something\n",
    "   wd:Q1998497 ?p ?obj.\n",
    "   # get the label\n",
    "   ?obj sc:name ?name.\n",
    "}\n",
    "LIMIT 50\n",
    "\"\"\"\n",
    "\n",
    "print(\"Results\")\n",
    "x=run_query(queryString)"
   ]
  },
  {
   "cell_type": "code",
   "execution_count": 188,
   "id": "9721e18d-cf4d-424d-9b4b-e57a3569c0b6",
   "metadata": {
    "collapsed": true,
    "jupyter": {
     "outputs_hidden": true
    },
    "tags": []
   },
   "outputs": [
    {
     "name": "stdout",
     "output_type": "stream",
     "text": [
      "Results\n",
      "[('obj', 'http://www.wikidata.org/entity/Q46'), ('name', 'Europe')]\n",
      "[('obj', 'http://www.wikidata.org/entity/Q82794'), ('name', 'geographic region')]\n",
      "2\n"
     ]
    }
   ],
   "source": [
    "# Looking at countries located in Northwestern Europe\n",
    "\n",
    "queryString = \"\"\"\n",
    "SELECT DISTINCT ?obj ?name\n",
    "WHERE {\n",
    "   # bind something\n",
    "   wd:Q1414323 ?p ?obj.\n",
    "   # get the label\n",
    "   ?obj sc:name ?name.\n",
    "}\n",
    "LIMIT 50\n",
    "\"\"\"\n",
    "\n",
    "print(\"Results\")\n",
    "x=run_query(queryString)"
   ]
  },
  {
   "cell_type": "code",
   "execution_count": 189,
   "id": "00b5e5d3-1e3e-4fa6-9bd8-e6f900446e48",
   "metadata": {
    "collapsed": true,
    "jupyter": {
     "outputs_hidden": true
    },
    "tags": []
   },
   "outputs": [
    {
     "name": "stdout",
     "output_type": "stream",
     "text": [
      "Results\n",
      "[('obj', 'http://www.wikidata.org/entity/Q1324222'), ('name', 'Eurasianism')]\n",
      "[('obj', 'http://www.wikidata.org/entity/Q15'), ('name', 'Africa')]\n",
      "[('obj', 'http://www.wikidata.org/entity/Q19180675'), ('name', 'Small Brockhaus and Efron Encyclopedic Dictionary')]\n",
      "[('obj', 'http://www.wikidata.org/entity/Q20078554'), ('name', 'Great Soviet Encyclopedia (1926–1947)')]\n",
      "[('obj', 'http://www.wikidata.org/entity/Q46'), ('name', 'Europe')]\n",
      "[('obj', 'http://www.wikidata.org/entity/Q48'), ('name', 'Asia')]\n",
      "[('obj', 'http://www.wikidata.org/entity/Q49'), ('name', 'North America')]\n",
      "[('obj', 'http://www.wikidata.org/entity/Q513'), ('name', 'Mount Everest')]\n",
      "[('obj', 'http://www.wikidata.org/entity/Q5460604'), ('name', 'Wikipedia:Vital articles')]\n",
      "[('obj', 'http://www.wikidata.org/entity/Q602358'), ('name', 'Brockhaus and Efron Encyclopedic Dictionary')]\n",
      "[('obj', 'http://www.wikidata.org/entity/Q82794'), ('name', 'geographic region')]\n",
      "[('obj', 'http://www.wikidata.org/entity/Q3960'), ('name', 'Australia')]\n",
      "[('obj', 'http://www.wikidata.org/entity/Q1949625'), ('name', 'history of Eurasia')]\n",
      "[('obj', 'http://www.wikidata.org/entity/Q2624777'), ('name', 'languages of Asia')]\n",
      "[('obj', 'http://www.wikidata.org/entity/Q27527'), ('name', 'Afro-Eurasia')]\n",
      "[('obj', 'http://www.wikidata.org/entity/Q55833'), ('name', 'supercontinent')]\n",
      "[('obj', 'http://www.wikidata.org/entity/Q7453435'), ('name', 'Category:Eurasia')]\n",
      "[('obj', 'http://www.wikidata.org/entity/Q174807'), ('name', 'Old World')]\n",
      "[('obj', 'http://www.wikidata.org/entity/Q23019171'), ('name', 'Eurasian studies')]\n",
      "[('obj', 'http://www.wikidata.org/entity/Q84044534'), ('name', 'Category:Maps of Eurasia')]\n",
      "[('obj', 'http://www.wikidata.org/entity/Q18015525'), ('name', 'Portal:Eurasia')]\n",
      "21\n"
     ]
    }
   ],
   "source": [
    "# Looking at countries located in Eurasia\n",
    "\n",
    "queryString = \"\"\"\n",
    "SELECT DISTINCT ?obj ?name\n",
    "WHERE {\n",
    "   # bind something\n",
    "   wd:Q5401 ?p ?obj.\n",
    "   # get the label\n",
    "   ?obj sc:name ?name.\n",
    "}\n",
    "LIMIT 50\n",
    "\"\"\"\n",
    "\n",
    "print(\"Results\")\n",
    "x=run_query(queryString)"
   ]
  },
  {
   "cell_type": "code",
   "execution_count": null,
   "id": "15d175a1-0b32-4cb8-a922-283cdac5f95d",
   "metadata": {},
   "outputs": [],
   "source": [
    "# There aren't useful European countries in Southeast Europe, Southwestern Europe, North Eastern Europe, Northwestern Europe, Eurasia"
   ]
  },
  {
   "cell_type": "code",
   "execution_count": null,
   "id": "ca370eaa-f01a-41e8-8fd0-54aa243f43e1",
   "metadata": {},
   "outputs": [],
   "source": [
    "# this method isn't really efficient because, if a new country is inserted in the Europe, the programmer will have to add manually its code in the values for countries\n",
    "# looking at Europe properties it seems really strange that there's no way of getting all of its countries but also checking on the Wikidata server the only method is to use Europe subregions."
   ]
  },
  {
   "cell_type": "code",
   "execution_count": null,
   "id": "d494d6ad-86b3-4e40-b9d1-456cc2f1bded",
   "metadata": {},
   "outputs": [],
   "source": [
    "# if instead it's the marathon the data added to the database, the query will update its result, if the marathon has the country property"
   ]
  },
  {
   "cell_type": "code",
   "execution_count": null,
   "id": "3c36c733-7e46-4e5c-b2d5-ef3a46814d27",
   "metadata": {},
   "outputs": [],
   "source": [
    "# Q184 Belarus, Q212 Ukraine, Q213 Czech Republic, Q214 Slovakia, Q217 Moldova, Q218 Romania, Q219 Bulgaria, Q28 Hungary, Q36 Poland, Q142 France, Q183 Germany, Q235 Monaco, Q31 Belgium, \n",
    "# Q32 Luxembourg, Q39 Switzerland, Q40 Austria, Q55 Netherlands, Q145 United Kingdom, Q27 Ireland, Q347 Liechtenstein, Q35 Denmark, Q1410 Gibraltar,\n",
    "# Q215 Slovenia, Q221 North Macedonia, Q222 Albania, Q224 Croatia, Q225 Bosnia and Herzegovina, Q228 Andorra, Q233 Malta, Q236 Montenegro, Q237 Vatican City, Q238 San Marino,\n",
    "# Q29 Spain, Q38 Italy, Q403 Serbia, Q41 Greece, Q45 Portugal, Q189 Iceland, Q191 Estonia, Q20 Norway, Q211 Latvia, Q25230 Guernsey, Q33 Finland, Q34 Sweden, Q37 Lithuania, Q4628 Faroe Islands,\n",
    "# Q785 Jersey, Q9676 Isle of Man, Q203942 Galdhøpiggen, Q3405693 Sark"
   ]
  },
  {
   "cell_type": "code",
   "execution_count": 210,
   "id": "c16616b6-0a19-4e32-a2f4-983b1903feb5",
   "metadata": {},
   "outputs": [
    {
     "name": "stdout",
     "output_type": "stream",
     "text": [
      "Results\n",
      "[('obj', 'http://www.wikidata.org/entity/Q161222'), ('name', 'Berlin Marathon')]\n",
      "[('obj', 'http://www.wikidata.org/entity/Q528634'), ('name', 'Frankfurt Marathon')]\n",
      "[('obj', 'http://www.wikidata.org/entity/Q1071285'), ('name', 'Paris Marathon')]\n",
      "[('obj', 'http://www.wikidata.org/entity/Q679106'), ('name', 'Madrid Marathon')]\n",
      "[('obj', 'http://www.wikidata.org/entity/Q807910'), ('name', 'Barcelona Marathon')]\n",
      "[('obj', 'http://www.wikidata.org/entity/Q1980764'), ('name', 'Neujahrsmarathon Zürich')]\n",
      "[('obj', 'http://www.wikidata.org/entity/Q578794'), ('name', 'London Marathon')]\n",
      "[('obj', 'http://www.wikidata.org/entity/Q837910'), ('name', 'Turin Marathon')]\n",
      "[('obj', 'http://www.wikidata.org/entity/Q1258425'), ('name', 'Dresden Marathon')]\n",
      "[('obj', 'http://www.wikidata.org/entity/Q748757'), ('name', 'Rome Marathon')]\n",
      "[('obj', 'http://www.wikidata.org/entity/Q3287504'), ('name', 'Marathon du beaujolais')]\n",
      "[('obj', 'http://www.wikidata.org/entity/Q1477977'), ('name', 'Stockholm Marathon')]\n",
      "[('obj', 'http://www.wikidata.org/entity/Q1000616'), ('name', 'Budapest Marathon')]\n",
      "13\n"
     ]
    }
   ],
   "source": [
    "# let's now get all the marathons that took place in Eurore\n",
    "\n",
    "queryString = \"\"\"\n",
    "SELECT DISTINCT ?obj ?name\n",
    "WHERE {\n",
    "   # bind something\n",
    "   VALUES ?country {wd:Q183 wd:Q184 wd:Q212 wd:Q213 wd:Q214 wd:Q217 wd:Q218 wd:Q219 wd:Q28 wd:Q36 wd:Q142 wd:Q183 wd:Q235 wd:Q31 wd:Q32 wd:Q39 wd:Q40 wd:Q55 wd:Q145 wd:Q27 wd:Q347 wd:Q35 wd:Q1410\n",
    "                    wd:Q215 wd:Q221 wd:Q222 wd:Q224 wd:Q225 wd:Q228 wd:Q233 wd:Q236 wd:Q237 wd:Q238 wd:Q29 wd:Q38 wd:Q403 wd:Q41 wd:Q45 wd:Q189 wd:Q191 wd:Q20 wd:Q211 wd:Q25230 wd:Q33 wd:Q34 wd:Q37\n",
    "                    wd:Q4628}\n",
    "   ?obj wdt:P279 wd:Q40244;\n",
    "        wdt:P17 ?country.\n",
    "   # get the label\n",
    "   ?obj sc:name ?name.\n",
    "}\n",
    "LIMIT 20\n",
    "\"\"\"\n",
    "\n",
    "print(\"Results\")\n",
    "x=run_query(queryString)"
   ]
  },
  {
   "cell_type": "code",
   "execution_count": null,
   "id": "2dd6e140-8f88-4b5a-af5c-e4649c9581c1",
   "metadata": {},
   "outputs": [],
   "source": [
    "# we had discovered the winner property for the 2008 Summer Olympics – men's 200 metres: wdt:P1346 -- winner\n",
    "# it's not assured that the property is available also for marathons event. Let's check that"
   ]
  },
  {
   "cell_type": "code",
   "execution_count": 218,
   "id": "53e64b05-af20-4d89-8f03-076d4007a2d0",
   "metadata": {},
   "outputs": [
    {
     "name": "stdout",
     "output_type": "stream",
     "text": [
      "Results\n",
      "[('p', 'http://www.wikidata.org/prop/direct/P131'), ('name', 'located in the administrative territorial entity')]\n",
      "[('p', 'http://www.wikidata.org/prop/direct/P1417'), ('name', 'Encyclopædia Britannica Online ID')]\n",
      "[('p', 'http://www.wikidata.org/prop/direct/P17'), ('name', 'country')]\n",
      "[('p', 'http://www.wikidata.org/prop/direct/P18'), ('name', 'image')]\n",
      "[('p', 'http://www.wikidata.org/prop/direct/P2002'), ('name', 'Twitter username')]\n",
      "[('p', 'http://www.wikidata.org/prop/direct/P2031'), ('name', 'work period (start)')]\n",
      "[('p', 'http://www.wikidata.org/prop/direct/P214'), ('name', 'VIAF ID')]\n",
      "[('p', 'http://www.wikidata.org/prop/direct/P227'), ('name', 'GND ID')]\n",
      "[('p', 'http://www.wikidata.org/prop/direct/P276'), ('name', 'location')]\n",
      "[('p', 'http://www.wikidata.org/prop/direct/P279'), ('name', 'subclass of')]\n",
      "[('p', 'http://www.wikidata.org/prop/direct/P2922'), ('name', 'month of the year')]\n",
      "[('p', 'http://www.wikidata.org/prop/direct/P31'), ('name', 'instance of')]\n",
      "[('p', 'http://www.wikidata.org/prop/direct/P3417'), ('name', 'Quora topic ID')]\n",
      "[('p', 'http://www.wikidata.org/prop/direct/P373'), ('name', 'Commons category')]\n",
      "[('p', 'http://www.wikidata.org/prop/direct/P571'), ('name', 'inception')]\n",
      "[('p', 'http://www.wikidata.org/prop/direct/P641'), ('name', 'sport')]\n",
      "[('p', 'http://www.wikidata.org/prop/direct/P646'), ('name', 'Freebase ID')]\n",
      "[('p', 'http://www.wikidata.org/prop/direct/P856'), ('name', 'official website')]\n",
      "[('p', 'http://www.wikidata.org/prop/direct/P859'), ('name', 'sponsor')]\n",
      "[('p', 'http://www.wikidata.org/prop/direct/P8687'), ('name', 'social media followers')]\n",
      "[('p', 'http://www.wikidata.org/prop/direct/P910'), ('name', \"topic's main category\")]\n",
      "21\n"
     ]
    }
   ],
   "source": [
    "queryString = \"\"\"\n",
    "SELECT DISTINCT ?p ?name\n",
    "WHERE {\n",
    "   # bind something\n",
    "   wd:Q161222 ?p ?runner.\n",
    "   # get the label\n",
    "   ?p sc:name ?name.\n",
    "}\n",
    "#LIMIT 20\n",
    "\"\"\"\n",
    "\n",
    "print(\"Results\")\n",
    "x=run_query(queryString)"
   ]
  },
  {
   "cell_type": "code",
   "execution_count": null,
   "id": "f74220c5-7b1a-49ae-8cd9-6a2b83e48631",
   "metadata": {},
   "outputs": [],
   "source": [
    "# we still can't find a way to get marathon winners"
   ]
  },
  {
   "cell_type": "code",
   "execution_count": null,
   "id": "8b11490e-dbb3-4240-8ba6-68ae57ee3c3b",
   "metadata": {},
   "outputs": [],
   "source": [
    "# now that we have all marathons that took place in Europe we can proceed to the final query"
   ]
  },
  {
   "cell_type": "markdown",
   "id": "15c45343",
   "metadata": {},
   "source": [
    "Final query for this task"
   ]
  },
  {
   "cell_type": "code",
   "execution_count": 213,
   "id": "779d34d8",
   "metadata": {},
   "outputs": [
    {
     "name": "stdout",
     "output_type": "stream",
     "text": [
      "Results\n",
      "Empty\n"
     ]
    }
   ],
   "source": [
    "# Consider marathons ran in Europe. Return the number of different runners who won a marathon group by their country of citizenship \n",
    "# (the result set must be a triples of country IRI, label and #different runners)\n",
    "# ???? -- marathon winner\n",
    "# wdt:P279 -- subclass of \n",
    "# wdt:Q40244 -- marathon\n",
    "# wdt:P17 -- country\n",
    "\n",
    "# wdt:P27 -- country of citizenship\n",
    "\n",
    "queryString = \"\"\"\n",
    "SELECT DISTINCT ?country ?name (COUNT(?citizenship) AS ?differentRunners)\n",
    "WHERE {\n",
    "   # bind something\n",
    "   VALUES ?country {wd:Q183 wd:Q184 wd:Q212 wd:Q213 wd:Q214 wd:Q217 wd:Q218 wd:Q219 wd:Q28 wd:Q36 wd:Q142 wd:Q183 wd:Q235 wd:Q31 wd:Q32 wd:Q39 wd:Q40 wd:Q55 wd:Q145 wd:Q27 wd:Q347 wd:Q35 wd:Q1410\n",
    "                    wd:Q215 wd:Q221 wd:Q222 wd:Q224 wd:Q225 wd:Q228 wd:Q233 wd:Q236 wd:Q237 wd:Q238 wd:Q29 wd:Q38 wd:Q403 wd:Q41 wd:Q45 wd:Q189 wd:Q191 wd:Q20 wd:Q211 wd:Q25230 wd:Q33 wd:Q34 wd:Q37\n",
    "                    wd:Q4628}\n",
    "   ?obj wdt:P279 wd:Q40244;\n",
    "        wdt:P17 ?country.\n",
    "   ?obj (marathon winner) ?runner.\n",
    "   ?runner wdt:P27 ?citizenship.\n",
    "   # get the label\n",
    "   ?country sc:name ?name.\n",
    "}\n",
    "LIMIT 20\n",
    "\"\"\"\n",
    "\n",
    "print(\"Results\")\n",
    "x=run_query(queryString)"
   ]
  },
  {
   "cell_type": "markdown",
   "id": "e5d6552f",
   "metadata": {},
   "source": [
    "## Task 5\n",
    "Identify the BGP for Olympic Games"
   ]
  },
  {
   "cell_type": "code",
   "execution_count": 36,
   "id": "63208f87-250d-4414-b6ac-9526dd36d01c",
   "metadata": {},
   "outputs": [
    {
     "name": "stdout",
     "output_type": "stream",
     "text": [
      "Results\n",
      "[('obj', 'http://www.wikidata.org/entity/Q18536594'), ('name', 'Olympic sporting event')]\n",
      "[('obj', 'http://www.wikidata.org/entity/Q11783626'), ('name', 'athletics meeting')]\n",
      "2\n"
     ]
    }
   ],
   "source": [
    "# let's analize an evenet of olimpic games \n",
    "\n",
    "queryString = \"\"\"\n",
    "SELECT DISTINCT ?obj ?name\n",
    "WHERE {\n",
    "   # bind something\n",
    "   wd:Q1649415 wdt:P31 ?obj.\n",
    "   # get the label\n",
    "   ?obj sc:name ?name.\n",
    "}\n",
    "#LIMIT 20\n",
    "\"\"\"\n",
    "\n",
    "print(\"Results\")\n",
    "x=run_query(queryString)"
   ]
  },
  {
   "cell_type": "code",
   "execution_count": 32,
   "id": "b675a0d1-9bf5-4e69-9502-965edea6966e",
   "metadata": {},
   "outputs": [
    {
     "name": "stdout",
     "output_type": "stream",
     "text": [
      "Results\n",
      "[('obj', 'http://www.wikidata.org/entity/Q16510064'), ('name', 'sporting event')]\n",
      "[('obj', 'http://www.wikidata.org/entity/Q212434'), ('name', 'Olympic sport')]\n",
      "[('obj', 'http://www.wikidata.org/entity/Q26132862'), ('name', 'Olympic sports discipline event')]\n",
      "[('obj', 'http://www.wikidata.org/entity/Q50393057'), ('name', 'Paralympic sporting event')]\n",
      "[('obj', 'http://www.wikidata.org/entity/Q84491920'), ('name', 'Youth Olympic sporting event')]\n",
      "[('obj', 'http://www.wikidata.org/entity/Q5852808'), ('name', 'Template:Infobox Olympic event')]\n",
      "6\n"
     ]
    }
   ],
   "source": [
    "# let's get entities related to 'Olympic sporting event'\n",
    "\n",
    "queryString = \"\"\"\n",
    "SELECT DISTINCT ?obj ?name\n",
    "WHERE {\n",
    "   # bind something\n",
    "   wd:Q18536594 ?p ?obj.\n",
    "   # get the label\n",
    "   ?obj sc:name ?name.\n",
    "}\n",
    "#LIMIT 20\n",
    "\"\"\"\n",
    "\n",
    "print(\"Results\")\n",
    "x=run_query(queryString)"
   ]
  },
  {
   "cell_type": "markdown",
   "id": "3de7dfbe",
   "metadata": {},
   "source": [
    "Final query for this task"
   ]
  },
  {
   "cell_type": "code",
   "execution_count": 53,
   "id": "3ab068a7",
   "metadata": {
    "collapsed": true,
    "jupyter": {
     "outputs_hidden": true
    },
    "tags": []
   },
   "outputs": [
    {
     "name": "stdout",
     "output_type": "stream",
     "text": [
      "Results\n",
      "[('obj', 'http://www.wikidata.org/entity/Q51031626'), ('name', 'sport competition at a multi-sport event')]\n",
      "[('obj', 'http://www.wikidata.org/entity/Q18536594'), ('name', 'Olympic sporting event')]\n",
      "[('obj', 'http://www.wikidata.org/entity/Q26132862'), ('name', 'Olympic sports discipline event')]\n",
      "[('obj', 'http://www.wikidata.org/entity/Q31629'), ('name', 'type of sport')]\n",
      "[('obj', 'http://www.wikidata.org/entity/Q349'), ('name', 'sport')]\n",
      "[('obj', 'http://www.wikidata.org/entity/Q5389'), ('name', 'Olympic Games')]\n",
      "[('obj', 'http://www.wikidata.org/entity/Q589184'), ('name', 'paralympic sports')]\n",
      "[('obj', 'http://www.wikidata.org/entity/Q58825429'), ('name', 'Olympic competitor')]\n",
      "[('obj', 'http://www.wikidata.org/entity/Q7024248'), ('name', 'Category:Olympic sports')]\n",
      "[('obj', 'http://www.wikidata.org/entity/Q5917548'), ('name', 'Template:Sports at the Olympics')]\n",
      "10\n"
     ]
    }
   ],
   "source": [
    "# let's get entities related to Olympic sport'\n",
    "\n",
    "queryString = \"\"\"\n",
    "SELECT DISTINCT ?obj ?name\n",
    "WHERE {\n",
    "   # bind something\n",
    "   wd:Q212434 ?p ?obj.\n",
    "   # get the label\n",
    "   ?obj sc:name ?name.\n",
    "}\n",
    "#LIMIT 20\n",
    "\"\"\"\n",
    "\n",
    "print(\"Results\")\n",
    "x=run_query(queryString)"
   ]
  },
  {
   "cell_type": "code",
   "execution_count": null,
   "id": "a90c9f9e-d5ae-4e3d-bbfc-2f1c4757199c",
   "metadata": {},
   "outputs": [],
   "source": [
    "#[('obj', 'http://www.wikidata.org/entity/Q5389'), ('name', 'Olympic Games')]"
   ]
  },
  {
   "cell_type": "markdown",
   "id": "8da87ee1",
   "metadata": {},
   "source": [
    "## Task 6\n",
    "Consider only the summer olympic games of 2004-2008-2012-2016. Return the number of marathon runners who had partecipated to all these editions group by their country of citizenship (if the runner partecipated in more than one edition of the game, consider him/her only once) (the result set must be a list of country IRI, label and #marathon runners)"
   ]
  },
  {
   "cell_type": "code",
   "execution_count": null,
   "id": "ea6e9fb7",
   "metadata": {},
   "outputs": [],
   "source": [
    "# let's start getting the entities for summer olympic games of 2004-2008-2012-2016"
   ]
  },
  {
   "cell_type": "code",
   "execution_count": null,
   "id": "954588bd-4e24-4079-9652-3c52cfd939b8",
   "metadata": {},
   "outputs": [],
   "source": [
    "# from a previous query : [('obj', 'http://www.wikidata.org/entity/Q1649415'), ('name', \"athletics at the 2012 Summer Olympics – men's 200 metres\")]"
   ]
  },
  {
   "cell_type": "code",
   "execution_count": 63,
   "id": "693ad70a-d052-4581-8ab5-75313b3ed7a1",
   "metadata": {},
   "outputs": [
    {
     "name": "stdout",
     "output_type": "stream",
     "text": [
      "Results\n",
      "[('obj', 'http://www.wikidata.org/entity/Q172190'), ('name', 'London Stadium')]\n",
      "[('obj', 'http://www.wikidata.org/entity/Q145'), ('name', 'United Kingdom')]\n",
      "[('obj', 'http://www.wikidata.org/entity/Q185262'), ('name', 'athletics at the 2012 Summer Olympics')]\n",
      "[('obj', 'http://www.wikidata.org/entity/Q18536594'), ('name', 'Olympic sporting event')]\n",
      "[('obj', 'http://www.wikidata.org/entity/Q40970'), ('name', 'International Olympic Committee')]\n",
      "[('obj', 'http://www.wikidata.org/entity/Q542'), ('name', 'athletics')]\n",
      "[('obj', 'http://www.wikidata.org/entity/Q11783626'), ('name', 'athletics meeting')]\n",
      "[('obj', 'http://www.wikidata.org/entity/Q1189'), ('name', 'Usain Bolt')]\n",
      "[('obj', 'http://www.wikidata.org/entity/Q55243755'), ('name', \"men's 200 metres\")]\n",
      "[('obj', 'http://www.wikidata.org/entity/Q853003'), ('name', \"athletics at the 2008 Summer Olympics – men's 200 metres\")]\n",
      "[('obj', 'http://www.wikidata.org/entity/Q26219856'), ('name', \"athletics at the 2016 Summer Olympics – men's 200 metres\")]\n",
      "11\n"
     ]
    }
   ],
   "source": [
    "# let's get entities related to 'athletics at the 2012 Summer Olympics – men's 200 metres'\n",
    "\n",
    "queryString = \"\"\"\n",
    "SELECT DISTINCT ?obj ?name\n",
    "WHERE {\n",
    "   # bind something\n",
    "   wd:Q1649415 ?p ?obj.\n",
    "   # get the label\n",
    "   ?obj sc:name ?name.\n",
    "}\n",
    "#LIMIT 20\n",
    "\"\"\"\n",
    "\n",
    "print(\"Results\")\n",
    "x=run_query(queryString)"
   ]
  },
  {
   "cell_type": "code",
   "execution_count": 71,
   "id": "dd2a0b47-c20d-4b71-b4d0-081aa40b1576",
   "metadata": {},
   "outputs": [
    {
     "name": "stdout",
     "output_type": "stream",
     "text": [
      "Results\n",
      "[('obj', 'http://www.wikidata.org/entity/Q26132862'), ('name', 'Olympic sports discipline event')]\n",
      "[('obj', 'http://www.wikidata.org/entity/Q715044'), ('name', 'athletics at the Summer Olympics')]\n",
      "2\n"
     ]
    }
   ],
   "source": [
    "# let's use the 'instance of' (wdt:P31) with 'athletics at the 2012 Summer Olympics' (wd:Q185262)\n",
    "\n",
    "queryString = \"\"\"\n",
    "SELECT DISTINCT ?obj ?name\n",
    "WHERE {\n",
    "   # bind something\n",
    "   wd:Q185262 wdt:P31 ?obj.\n",
    "   # get the label\n",
    "   ?obj sc:name ?name.\n",
    "}\n",
    "LIMIT 20\n",
    "\"\"\"\n",
    "\n",
    "print(\"Results\")\n",
    "x=run_query(queryString)"
   ]
  },
  {
   "cell_type": "code",
   "execution_count": 73,
   "id": "55aa30a5-a1a2-4ae4-822d-ad6666532868",
   "metadata": {},
   "outputs": [
    {
     "name": "stdout",
     "output_type": "stream",
     "text": [
      "Results\n",
      "[('obj', 'http://www.wikidata.org/entity/Q159821'), ('name', 'Summer Olympic Games')]\n",
      "[('obj', 'http://www.wikidata.org/entity/Q18608583'), ('name', 'recurring sporting event')]\n",
      "[('obj', 'http://www.wikidata.org/entity/Q26132862'), ('name', 'Olympic sports discipline event')]\n",
      "[('obj', 'http://www.wikidata.org/entity/Q40970'), ('name', 'International Olympic Committee')]\n",
      "[('obj', 'http://www.wikidata.org/entity/Q542'), ('name', 'athletics')]\n",
      "[('obj', 'http://www.wikidata.org/entity/Q8274356'), ('name', 'Category:Athletics at the Summer Olympics')]\n",
      "6\n"
     ]
    }
   ],
   "source": [
    "# let's get entities related to 'athletics at the Summer Olympics'\n",
    "\n",
    "queryString = \"\"\"\n",
    "SELECT DISTINCT ?obj ?name\n",
    "WHERE {\n",
    "   # bind something\n",
    "   wd:Q715044 ?p ?obj.\n",
    "   # get the label\n",
    "   ?obj sc:name ?name.\n",
    "}\n",
    "LIMIT 20\n",
    "\"\"\"\n",
    "\n",
    "print(\"Results\")\n",
    "x=run_query(queryString)"
   ]
  },
  {
   "cell_type": "code",
   "execution_count": 81,
   "id": "8a9f4437-76ce-46df-9eee-cc8ce2013d08",
   "metadata": {
    "collapsed": true,
    "jupyter": {
     "outputs_hidden": true
    },
    "tags": []
   },
   "outputs": [
    {
     "name": "stdout",
     "output_type": "stream",
     "text": [
      "Results\n",
      "[('obj', 'http://www.wikidata.org/entity/Q8098'), ('name', '1904 Summer Olympics')]\n",
      "[('obj', 'http://www.wikidata.org/entity/Q8150'), ('name', '1936 Summer Olympics')]\n",
      "[('obj', 'http://www.wikidata.org/entity/Q8415'), ('name', '1960 Summer Olympics')]\n",
      "[('obj', 'http://www.wikidata.org/entity/Q181278'), ('name', '2020 Summer Olympics')]\n",
      "[('obj', 'http://www.wikidata.org/entity/Q18608583'), ('name', 'recurring sporting event')]\n",
      "[('obj', 'http://www.wikidata.org/entity/Q40970'), ('name', 'International Olympic Committee')]\n",
      "[('obj', 'http://www.wikidata.org/entity/Q5389'), ('name', 'Olympic Games')]\n",
      "[('obj', 'http://www.wikidata.org/entity/Q8088'), ('name', '1900 Summer Olympics')]\n",
      "[('obj', 'http://www.wikidata.org/entity/Q82414'), ('name', 'Winter Olympic Games')]\n",
      "[('obj', 'http://www.wikidata.org/entity/Q8438'), ('name', '1972 Summer Olympics')]\n",
      "[('obj', 'http://www.wikidata.org/entity/Q8444'), ('name', '1976 Summer Olympics')]\n",
      "[('obj', 'http://www.wikidata.org/entity/Q8470'), ('name', '1988 Summer Olympics')]\n",
      "[('obj', 'http://www.wikidata.org/entity/Q8488'), ('name', '1992 Summer Olympics')]\n",
      "[('obj', 'http://www.wikidata.org/entity/Q8531'), ('name', '1996 Summer Olympics')]\n",
      "[('obj', 'http://www.wikidata.org/entity/Q8544'), ('name', '2000 Summer Olympics')]\n",
      "[('obj', 'http://www.wikidata.org/entity/Q8558'), ('name', '2004 Summer Olympics')]\n",
      "[('obj', 'http://www.wikidata.org/entity/Q8567'), ('name', '2008 Summer Olympics')]\n",
      "[('obj', 'http://www.wikidata.org/entity/Q8577'), ('name', '2012 Summer Olympics')]\n",
      "[('obj', 'http://www.wikidata.org/entity/Q8613'), ('name', '2016 Summer Olympics')]\n",
      "[('obj', 'http://www.wikidata.org/entity/Q99413897'), ('name', 'Medvik')]\n",
      "20\n"
     ]
    }
   ],
   "source": [
    "# let's get entities related to 'Summer Olympic Games'\n",
    "\n",
    "queryString = \"\"\"\n",
    "SELECT DISTINCT ?obj ?name\n",
    "WHERE {\n",
    "   # bind something\n",
    "   wd:Q159821 ?p ?obj.\n",
    "   # get the label\n",
    "   ?obj sc:name ?name.\n",
    "}\n",
    "LIMIT 20\n",
    "\"\"\"\n",
    "\n",
    "print(\"Results\")\n",
    "x=run_query(queryString)"
   ]
  },
  {
   "cell_type": "code",
   "execution_count": 75,
   "id": "a9dc2e36-d969-4abf-b809-2a43cf29f037",
   "metadata": {},
   "outputs": [],
   "source": [
    "# we finally get the entities wanted\n",
    "\n",
    "#[('obj', 'http://www.wikidata.org/entity/Q8558'), ('name', '2004 Summer Olympics')]\n",
    "#[('obj', 'http://www.wikidata.org/entity/Q8567'), ('name', '2008 Summer Olympics')]\n",
    "#[('obj', 'http://www.wikidata.org/entity/Q8577'), ('name', '2012 Summer Olympics')]\n",
    "#[('obj', 'http://www.wikidata.org/entity/Q8613'), ('name', '2016 Summer Olympics')]"
   ]
  },
  {
   "cell_type": "code",
   "execution_count": 82,
   "id": "d27a9b02-9bb2-49bd-80bb-202632b42984",
   "metadata": {},
   "outputs": [
    {
     "name": "stdout",
     "output_type": "stream",
     "text": [
      "Results\n",
      "[('obj', 'http://www.wikidata.org/entity/Q118446'), ('name', 'rowing at the 2004 Summer Olympics')]\n",
      "[('obj', 'http://www.wikidata.org/entity/Q1347166'), ('name', 'Lazaros Voreadis')]\n",
      "[('obj', 'http://www.wikidata.org/entity/Q141340'), ('name', 'Kiribati at the 2004 Summer Olympics')]\n",
      "[('obj', 'http://www.wikidata.org/entity/Q1524'), ('name', 'Athens')]\n",
      "[('obj', 'http://www.wikidata.org/entity/Q15637418'), ('name', 'artistic gymnastics at the 2004 Summer Olympics')]\n",
      "[('obj', 'http://www.wikidata.org/entity/Q159821'), ('name', 'Summer Olympic Games')]\n",
      "[('obj', 'http://www.wikidata.org/entity/Q1602350'), ('name', 'rhythmic gymnastics at the 2004 Summer Olympics')]\n",
      "[('obj', 'http://www.wikidata.org/entity/Q18536594'), ('name', 'Olympic sporting event')]\n",
      "[('obj', 'http://www.wikidata.org/entity/Q189663'), ('name', 'Olympic Stadium of Athens')]\n",
      "[('obj', 'http://www.wikidata.org/entity/Q2022374'), ('name', 'trampoline gymnastics at the 2004 Summer Olympics')]\n",
      "[('obj', 'http://www.wikidata.org/entity/Q206421'), ('name', 'Konstantinos Stephanopoulos')]\n",
      "[('obj', 'http://www.wikidata.org/entity/Q218409'), ('name', 'Zoi Dimoschaki')]\n",
      "[('obj', 'http://www.wikidata.org/entity/Q220886'), ('name', 'swimming at the 2004 Summer Olympics')]\n",
      "[('obj', 'http://www.wikidata.org/entity/Q230865'), ('name', 'Homare Sawa')]\n",
      "[('obj', 'http://www.wikidata.org/entity/Q233112'), ('name', 'Abby Wambach')]\n",
      "[('obj', 'http://www.wikidata.org/entity/Q262255'), ('name', 'taekwondo at the 2004 Summer Olympics')]\n",
      "[('obj', 'http://www.wikidata.org/entity/Q263332'), ('name', 'gymnastics at the 2004 Summer Olympics')]\n",
      "[('obj', 'http://www.wikidata.org/entity/Q286270'), ('name', 'judo at the 2004 Summer Olympics')]\n",
      "[('obj', 'http://www.wikidata.org/entity/Q339283'), ('name', 'athletics at the 2004 Summer Olympics')]\n",
      "[('obj', 'http://www.wikidata.org/entity/Q371708'), ('name', 'football at the 2004 Summer Olympics')]\n",
      "20\n"
     ]
    }
   ],
   "source": [
    "# let's get entities related to '2004 Summer Olympics'\n",
    "\n",
    "queryString = \"\"\"\n",
    "SELECT DISTINCT ?obj ?name\n",
    "WHERE {\n",
    "   # bind something\n",
    "   wd:Q8558 ?p ?obj.\n",
    "   # get the label\n",
    "   ?obj sc:name ?name.\n",
    "}\n",
    "LIMIT 20\n",
    "\"\"\"\n",
    "\n",
    "print(\"Results\")\n",
    "x=run_query(queryString)"
   ]
  },
  {
   "cell_type": "code",
   "execution_count": 83,
   "id": "1fbe7276-a05c-4f20-a1aa-7bdba7a704df",
   "metadata": {},
   "outputs": [
    {
     "name": "stdout",
     "output_type": "stream",
     "text": [
      "Results\n",
      "[('runner', 'http://www.wikidata.org/entity/Q1701191'), ('name', 'John Nada Saya')]\n",
      "[('runner', 'http://www.wikidata.org/entity/Q16006623'), ('name', 'Harry Payne')]\n",
      "[('runner', 'http://www.wikidata.org/entity/Q16007889'), ('name', 'John Tarrant')]\n",
      "[('runner', 'http://www.wikidata.org/entity/Q16008400'), ('name', 'Waldemar Karlsson')]\n",
      "[('runner', 'http://www.wikidata.org/entity/Q16011969'), ('name', 'John J. Reynolds')]\n",
      "[('runner', 'http://www.wikidata.org/entity/Q1602744'), ('name', 'Hellen Mugo')]\n",
      "[('runner', 'http://www.wikidata.org/entity/Q16185418'), ('name', 'Jerry Kiernan')]\n",
      "[('runner', 'http://www.wikidata.org/entity/Q16186777'), ('name', 'George Malley')]\n",
      "[('runner', 'http://www.wikidata.org/entity/Q16210841'), ('name', 'Elva Dryer')]\n",
      "[('runner', 'http://www.wikidata.org/entity/Q16212704'), ('name', 'José Alejandro Semprún')]\n",
      "10\n"
     ]
    }
   ],
   "source": [
    "# get all the marathon runners\n",
    "queryString = \"\"\"\n",
    "SELECT DISTINCT ?runner ?name\n",
    "WHERE {\n",
    "   # bind something\n",
    "   ?runner wdt:P106 wd:Q13382460;\n",
    "        wdt:P31 wd:Q5.\n",
    "   # get the label\n",
    "   ?runner sc:name ?name.\n",
    "}\n",
    "LIMIT 10\n",
    "\"\"\"\n",
    "\n",
    "print(\"Results\")\n",
    "x=run_query(queryString)"
   ]
  },
  {
   "cell_type": "code",
   "execution_count": null,
   "id": "4d655bfd-6925-49c0-9678-a792c8493989",
   "metadata": {},
   "outputs": [
    {
     "name": "stdout",
     "output_type": "stream",
     "text": [
      "Results\n",
      "[('p', 'http://www.wikidata.org/prop/direct/P103'), ('name', 'native language')]\n",
      "[('p', 'http://www.wikidata.org/prop/direct/P106'), ('name', 'occupation')]\n",
      "[('p', 'http://www.wikidata.org/prop/direct/P1146'), ('name', 'World Athletics athlete ID')]\n",
      "[('p', 'http://www.wikidata.org/prop/direct/P1344'), ('name', 'participant in')]\n",
      "[('p', 'http://www.wikidata.org/prop/direct/P1412'), ('name', 'languages spoken, written or signed')]\n",
      "[('p', 'http://www.wikidata.org/prop/direct/P1447'), ('name', 'Sports-Reference.com Olympic athlete ID')]\n",
      "[('p', 'http://www.wikidata.org/prop/direct/P19'), ('name', 'place of birth')]\n",
      "[('p', 'http://www.wikidata.org/prop/direct/P21'), ('name', 'sex or gender')]\n",
      "[('p', 'http://www.wikidata.org/prop/direct/P2416'), ('name', 'sports discipline competed in')]\n",
      "[('p', 'http://www.wikidata.org/prop/direct/P27'), ('name', 'country of citizenship')]\n",
      "[('p', 'http://www.wikidata.org/prop/direct/P31'), ('name', 'instance of')]\n",
      "[('p', 'http://www.wikidata.org/prop/direct/P3925'), ('name', 'Track and Field Statistics male athlete ID')]\n",
      "[('p', 'http://www.wikidata.org/prop/direct/P569'), ('name', 'date of birth')]\n",
      "[('p', 'http://www.wikidata.org/prop/direct/P570'), ('name', 'date of death')]\n",
      "[('p', 'http://www.wikidata.org/prop/direct/P641'), ('name', 'sport')]\n",
      "[('p', 'http://www.wikidata.org/prop/direct/P646'), ('name', 'Freebase ID')]\n",
      "[('p', 'http://www.wikidata.org/prop/direct/P735'), ('name', 'given name')]\n",
      "[('p', 'http://www.wikidata.org/prop/direct/P8286'), ('name', 'Olympedia people ID')]\n",
      "18\n"
     ]
    }
   ],
   "source": [
    "# let's look at properties of a specific runner to see if we get a property that says \"attended in\"\n",
    "\n",
    "queryString = \"\"\"\n",
    "SELECT DISTINCT ?p ?name\n",
    "WHERE {\n",
    "   # bind something\n",
    "   wd:Q1701191 ?p ?runner.\n",
    "   # get the label\n",
    "   ?p sc:name ?name.\n",
    "}\n",
    "LIMIT 20\n",
    "\"\"\"\n",
    "\n",
    "print(\"Results\")\n",
    "x=run_query(queryString)"
   ]
  },
  {
   "cell_type": "code",
   "execution_count": null,
   "id": "49ba496c-33d2-441e-9b72-795e4ecb0fe9",
   "metadata": {},
   "outputs": [],
   "source": [
    "# [('p', 'http://www.wikidata.org/prop/direct/P1344'), ('name', 'participant in')]"
   ]
  },
  {
   "cell_type": "code",
   "execution_count": null,
   "id": "99860c9c-2366-4a9d-9079-1a3939d672cc",
   "metadata": {},
   "outputs": [],
   "source": [
    "# our goal is to return the number of marathon runners who had partecipated to all these editions group by their country of citizenship"
   ]
  },
  {
   "cell_type": "code",
   "execution_count": 93,
   "id": "e5293f08-8272-498d-98a2-8baf5b6bb971",
   "metadata": {
    "collapsed": true,
    "jupyter": {
     "outputs_hidden": true
    },
    "tags": []
   },
   "outputs": [
    {
     "name": "stdout",
     "output_type": "stream",
     "text": [
      "Results\n",
      "[('country', 'http://www.wikidata.org/entity/Q1036'), ('name', 'Uganda'), ('countries', '1')]\n",
      "[('country', 'http://www.wikidata.org/entity/Q398'), ('name', 'Bahrain'), ('countries', '1')]\n",
      "[('country', 'http://www.wikidata.org/entity/Q191'), ('name', 'Estonia'), ('countries', '2')]\n",
      "[('country', 'http://www.wikidata.org/entity/Q159'), ('name', 'Russia'), ('countries', '7')]\n",
      "[('country', 'http://www.wikidata.org/entity/Q45'), ('name', 'Portugal'), ('countries', '4')]\n",
      "[('country', 'http://www.wikidata.org/entity/Q664'), ('name', 'New Zealand'), ('countries', '1')]\n",
      "[('country', 'http://www.wikidata.org/entity/Q865'), ('name', 'Taiwan'), ('countries', '1')]\n",
      "[('country', 'http://www.wikidata.org/entity/Q739'), ('name', 'Colombia'), ('countries', '2')]\n",
      "[('country', 'http://www.wikidata.org/entity/Q211'), ('name', 'Latvia'), ('countries', '1')]\n",
      "[('country', 'http://www.wikidata.org/entity/Q717'), ('name', 'Venezuela'), ('countries', '1')]\n",
      "[('country', 'http://www.wikidata.org/entity/Q39'), ('name', 'Switzerland'), ('countries', '1')]\n",
      "[('country', 'http://www.wikidata.org/entity/Q27'), ('name', 'Ireland'), ('countries', '1')]\n",
      "[('country', 'http://www.wikidata.org/entity/Q403'), ('name', 'Serbia'), ('countries', '1')]\n",
      "[('country', 'http://www.wikidata.org/entity/Q408'), ('name', 'Australia'), ('countries', '1')]\n",
      "[('country', 'http://www.wikidata.org/entity/Q16'), ('name', 'Canada'), ('countries', '1')]\n",
      "[('country', 'http://www.wikidata.org/entity/Q20'), ('name', 'Norway'), ('countries', '1')]\n",
      "[('country', 'http://www.wikidata.org/entity/Q215'), ('name', 'Slovenia'), ('countries', '2')]\n",
      "[('country', 'http://www.wikidata.org/entity/Q30'), ('name', 'United States of America'), ('countries', '12')]\n",
      "[('country', 'http://www.wikidata.org/entity/Q258'), ('name', 'South Africa'), ('countries', '2')]\n",
      "[('country', 'http://www.wikidata.org/entity/Q711'), ('name', 'Mongolia'), ('countries', '1')]\n",
      "[('country', 'http://www.wikidata.org/entity/Q28'), ('name', 'Hungary'), ('countries', '1')]\n",
      "[('country', 'http://www.wikidata.org/entity/Q96'), ('name', 'Mexico'), ('countries', '2')]\n",
      "[('country', 'http://www.wikidata.org/entity/Q114'), ('name', 'Kenya'), ('countries', '9')]\n",
      "[('country', 'http://www.wikidata.org/entity/Q884'), ('name', 'South Korea'), ('countries', '3')]\n",
      "[('country', 'http://www.wikidata.org/entity/Q218'), ('name', 'Romania'), ('countries', '1')]\n",
      "[('country', 'http://www.wikidata.org/entity/Q43'), ('name', 'Turkey'), ('countries', '1')]\n",
      "[('country', 'http://www.wikidata.org/entity/Q1045'), ('name', 'Somalia'), ('countries', '2')]\n",
      "[('country', 'http://www.wikidata.org/entity/Q36'), ('name', 'Poland'), ('countries', '3')]\n",
      "[('country', 'http://www.wikidata.org/entity/Q40'), ('name', 'Austria'), ('countries', '1')]\n",
      "[('country', 'http://www.wikidata.org/entity/Q414'), ('name', 'Argentina'), ('countries', '2')]\n",
      "[('country', 'http://www.wikidata.org/entity/Q213'), ('name', 'Czech Republic'), ('countries', '1')]\n",
      "[('country', 'http://www.wikidata.org/entity/Q967'), ('name', 'Burundi'), ('countries', '1')]\n",
      "[('country', 'http://www.wikidata.org/entity/Q963'), ('name', 'Botswana'), ('countries', '1')]\n",
      "[('country', 'http://www.wikidata.org/entity/Q298'), ('name', 'Chile'), ('countries', '1')]\n",
      "[('country', 'http://www.wikidata.org/entity/Q228'), ('name', 'Andorra'), ('countries', '1')]\n",
      "[('country', 'http://www.wikidata.org/entity/Q37'), ('name', 'Lithuania'), ('countries', '1')]\n",
      "[('country', 'http://www.wikidata.org/entity/Q1028'), ('name', 'Morocco'), ('countries', '4')]\n",
      "[('country', 'http://www.wikidata.org/entity/Q83286'), ('name', 'Socialist Federal Republic of Yugoslavia'), ('countries', '2')]\n",
      "[('country', 'http://www.wikidata.org/entity/Q15180'), ('name', 'Soviet Union'), ('countries', '1')]\n",
      "[('country', 'http://www.wikidata.org/entity/Q1037'), ('name', 'Rwanda'), ('countries', '1')]\n",
      "[('country', 'http://www.wikidata.org/entity/Q33'), ('name', 'Finland'), ('countries', '2')]\n",
      "[('country', 'http://www.wikidata.org/entity/Q148'), ('name', \"People's Republic of China\"), ('countries', '4')]\n",
      "[('country', 'http://www.wikidata.org/entity/Q241'), ('name', 'Cuba'), ('countries', '2')]\n",
      "[('country', 'http://www.wikidata.org/entity/Q736'), ('name', 'Ecuador'), ('countries', '3')]\n",
      "[('country', 'http://www.wikidata.org/entity/Q38'), ('name', 'Italy'), ('countries', '3')]\n",
      "[('country', 'http://www.wikidata.org/entity/Q419'), ('name', 'Peru'), ('countries', '1')]\n",
      "[('country', 'http://www.wikidata.org/entity/Q217'), ('name', 'Moldova'), ('countries', '2')]\n",
      "[('country', 'http://www.wikidata.org/entity/Q145'), ('name', 'United Kingdom'), ('countries', '5')]\n",
      "[('country', 'http://www.wikidata.org/entity/Q183'), ('name', 'Germany'), ('countries', '3')]\n",
      "[('country', 'http://www.wikidata.org/entity/Q29999'), ('name', 'Kingdom of the Netherlands'), ('countries', '1')]\n",
      "[('country', 'http://www.wikidata.org/entity/Q115'), ('name', 'Ethiopia'), ('countries', '8')]\n",
      "[('country', 'http://www.wikidata.org/entity/Q142'), ('name', 'France'), ('countries', '1')]\n",
      "[('country', 'http://www.wikidata.org/entity/Q17'), ('name', 'Japan'), ('countries', '3')]\n",
      "[('country', 'http://www.wikidata.org/entity/Q29'), ('name', 'Spain'), ('countries', '4')]\n",
      "[('country', 'http://www.wikidata.org/entity/Q34'), ('name', 'Sweden'), ('countries', '1')]\n",
      "[('country', 'http://www.wikidata.org/entity/Q924'), ('name', 'Tanzania'), ('countries', '6')]\n",
      "[('country', 'http://www.wikidata.org/entity/Q986'), ('name', 'Eritrea'), ('countries', '4')]\n",
      "[('country', 'http://www.wikidata.org/entity/Q262'), ('name', 'Algeria'), ('countries', '2')]\n",
      "[('country', 'http://www.wikidata.org/entity/Q929'), ('name', 'Central African Republic'), ('countries', '1')]\n",
      "[('country', 'http://www.wikidata.org/entity/Q212'), ('name', 'Ukraine'), ('countries', '1')]\n",
      "[('country', 'http://www.wikidata.org/entity/Q774'), ('name', 'Guatemala'), ('countries', '2')]\n",
      "61\n"
     ]
    }
   ],
   "source": [
    "# let's first try to do it for the 2004 edition\n",
    "\n",
    "queryString = \"\"\"\n",
    "SELECT DISTINCT ?country ?name (COUNT (?country) AS ?countries)\n",
    "WHERE {\n",
    "   # bind something\n",
    "   ?runner1 wdt:P106 wd:Q13382460;\n",
    "        wdt:P1344 wd:Q8558;\n",
    "        #wdt:P1344 wd:Q8567;\n",
    "        #wdt:P1344 wd:Q8577;\n",
    "        #wdt:P1344 wd:Q8613;\n",
    "        wdt:P31 wd:Q5;\n",
    "        wdt:P27 ?country.\n",
    "   # get the label\n",
    "   ?country sc:name ?name.\n",
    "}\n",
    "LIMIT 100\n",
    "\"\"\"\n",
    "\n",
    "print(\"Results\")\n",
    "x=run_query(queryString)"
   ]
  },
  {
   "cell_type": "code",
   "execution_count": 134,
   "id": "b02d7f6f-8e9f-4231-aa95-e3e347ea2d3e",
   "metadata": {},
   "outputs": [
    {
     "name": "stdout",
     "output_type": "stream",
     "text": [
      "Results\n",
      "The operation failed timed out\n"
     ]
    }
   ],
   "source": [
    "#test\n",
    "\n",
    "queryString = \"\"\"\n",
    "SELECT DISTINCT ?country ?name ?event ?eventName (COUNT (?country) AS ?countries)\n",
    "WHERE {\n",
    "   # bind something\n",
    "   VALUES ?runner1 {wd:Q9124}.\n",
    "   ?runner1 wdt:P106 wd:Q13382460;\n",
    "        wdt:P1344 ?event;\n",
    "        #wdt:P1344 {wd:Q8558, wd:Q8567};\n",
    "        #wdt:P1344 wd:Q8567;\n",
    "        #wdt:P1344 wd:Q8577;\n",
    "        #wdt:P1344 wd:Q8613;\n",
    "        wdt:P31 wd:Q5;\n",
    "        wdt:P27 ?country.\n",
    "   # get the label\n",
    "   ?country sc:name ?name.\n",
    "   ?event sc:name ?eventName.\n",
    "}\n",
    "LIMIT 100\n",
    "\"\"\"\n",
    "\n",
    "print(\"Results\")\n",
    "x=run_query(queryString)"
   ]
  },
  {
   "cell_type": "markdown",
   "id": "fa6b6c54",
   "metadata": {},
   "source": [
    "Final query for this task"
   ]
  },
  {
   "cell_type": "code",
   "execution_count": 133,
   "id": "d781107e",
   "metadata": {},
   "outputs": [
    {
     "name": "stdout",
     "output_type": "stream",
     "text": [
      "Results\n",
      "[('country', 'http://www.wikidata.org/entity/Q1036'), ('name', 'Uganda'), ('marathonRunners', '4')]\n",
      "[('country', 'http://www.wikidata.org/entity/Q191'), ('name', 'Estonia'), ('marathonRunners', '2')]\n",
      "[('country', 'http://www.wikidata.org/entity/Q398'), ('name', 'Bahrain'), ('marathonRunners', '2')]\n",
      "[('country', 'http://www.wikidata.org/entity/Q668'), ('name', 'India'), ('marathonRunners', '1')]\n",
      "[('country', 'http://www.wikidata.org/entity/Q189'), ('name', 'Iceland'), ('marathonRunners', '1')]\n",
      "[('country', 'http://www.wikidata.org/entity/Q159'), ('name', 'Russia'), ('marathonRunners', '13')]\n",
      "[('country', 'http://www.wikidata.org/entity/Q211'), ('name', 'Latvia'), ('marathonRunners', '2')]\n",
      "[('country', 'http://www.wikidata.org/entity/Q45'), ('name', 'Portugal'), ('marathonRunners', '9')]\n",
      "[('country', 'http://www.wikidata.org/entity/Q664'), ('name', 'New Zealand'), ('marathonRunners', '2')]\n",
      "[('country', 'http://www.wikidata.org/entity/Q717'), ('name', 'Venezuela'), ('marathonRunners', '3')]\n",
      "10\n"
     ]
    }
   ],
   "source": [
    "#Return the number of marathon runners who had partecipated to all these editions (2004-2008-2012-2016) group by their country of citizenship \n",
    "#(if the runner partecipated in more than one edition of the game, consider him/her only once) (the result set must be a list of country IRI, label and #marathon runners)\n",
    "\n",
    "queryString = \"\"\"\n",
    "SELECT DISTINCT ?country ?name (COUNT (?country) AS ?marathonRunners)\n",
    "WHERE {\n",
    "   # bind something\n",
    "   VALUES ?event {wd:Q8558 wd:PQ8567 wd:Q8577 wd:Q8613}.\n",
    "   ?runner1 wdt:P106 wd:Q13382460;\n",
    "        wdt:P1344 ?event;\n",
    "        #wdt:P1344 {wd:Q8558, wd:Q8567};\n",
    "        #wdt:P1344 wd:Q8567;\n",
    "        #wdt:P1344 wd:Q8577;\n",
    "        #wdt:P1344 wd:Q8613;\n",
    "        wdt:P31 wd:Q5;\n",
    "        wdt:P27 ?country.\n",
    "   # get the label\n",
    "   ?country sc:name ?name.\n",
    "}\n",
    "LIMIT 10\n",
    "\"\"\"\n",
    "\n",
    "print(\"Results\")\n",
    "x=run_query(queryString)"
   ]
  },
  {
   "cell_type": "markdown",
   "id": "73aa2dc4",
   "metadata": {},
   "source": [
    "## Task 7\n",
    "For each disciplines of the long distance running find who hold the World Record (the result set must be a list of elements with discipline IRI, label and athlete IRI and label)."
   ]
  },
  {
   "cell_type": "code",
   "execution_count": null,
   "id": "bf7ca6e1",
   "metadata": {},
   "outputs": [],
   "source": [
    "# look at entities that have'long-distance running' as a subclass\n",
    "# wdt:P279 -- subclass\n",
    "# wd:Q917206 -- 'long-distance running'\n",
    "\n",
    "queryString = \"\"\"\n",
    "SELECT DISTINCT ?obj ?name\n",
    "WHERE {\n",
    "   # bind something\n",
    "   ?obj wdt:P279 wd:Q917206.\n",
    "   # get the label\n",
    "   ?obj sc:name ?name.\n",
    "}\n",
    "LIMIT 20\n",
    "\"\"\"\n",
    "\n",
    "print(\"Results\")\n",
    "x=run_query(queryString)"
   ]
  },
  {
   "cell_type": "code",
   "execution_count": 39,
   "id": "4e44a81a-511c-41b3-a0b7-dfe5c37ab977",
   "metadata": {
    "collapsed": true,
    "jupyter": {
     "outputs_hidden": true
    },
    "tags": []
   },
   "outputs": [
    {
     "name": "stdout",
     "output_type": "stream",
     "text": [
      "Results\n",
      "[('obj', 'http://www.wikidata.org/prop/direct/P1000'), ('name', 'record held')]\n",
      "[('obj', 'http://www.wikidata.org/prop/direct/P1225'), ('name', 'U.S. National Archives Identifier')]\n",
      "[('obj', 'http://www.wikidata.org/prop/direct/P1245'), ('name', 'OmegaWiki Defined Meaning')]\n",
      "[('obj', 'http://www.wikidata.org/prop/direct/P1296'), ('name', 'Gran Enciclopèdia Catalana ID')]\n",
      "[('obj', 'http://www.wikidata.org/prop/direct/P1343'), ('name', 'described by source')]\n",
      "[('obj', 'http://www.wikidata.org/prop/direct/P138'), ('name', 'named after')]\n",
      "[('obj', 'http://www.wikidata.org/prop/direct/P1417'), ('name', 'Encyclopædia Britannica Online ID')]\n",
      "[('obj', 'http://www.wikidata.org/prop/direct/P18'), ('name', 'image')]\n",
      "[('obj', 'http://www.wikidata.org/prop/direct/P227'), ('name', 'GND ID')]\n",
      "[('obj', 'http://www.wikidata.org/prop/direct/P2347'), ('name', 'YSO ID')]\n",
      "[('obj', 'http://www.wikidata.org/prop/direct/P244'), ('name', 'Library of Congress authority ID')]\n",
      "[('obj', 'http://www.wikidata.org/prop/direct/P2581'), ('name', 'BabelNet ID')]\n",
      "[('obj', 'http://www.wikidata.org/prop/direct/P268'), ('name', 'Bibliothèque nationale de France ID')]\n",
      "[('obj', 'http://www.wikidata.org/prop/direct/P279'), ('name', 'subclass of')]\n",
      "[('obj', 'http://www.wikidata.org/prop/direct/P2924'), ('name', 'Great Russian Encyclopedia Online ID')]\n",
      "[('obj', 'http://www.wikidata.org/prop/direct/P3095'), ('name', 'practiced by')]\n",
      "[('obj', 'http://www.wikidata.org/prop/direct/P31'), ('name', 'instance of')]\n",
      "[('obj', 'http://www.wikidata.org/prop/direct/P3157'), ('name', 'event distance')]\n",
      "[('obj', 'http://www.wikidata.org/prop/direct/P3219'), ('name', 'Encyclopædia Universalis ID')]\n",
      "[('obj', 'http://www.wikidata.org/prop/direct/P3221'), ('name', 'New York Times topic ID')]\n",
      "20\n"
     ]
    }
   ],
   "source": [
    "# let's find out the property for 'record held'\n",
    "\n",
    "queryString = \"\"\"\n",
    "SELECT DISTINCT ?obj ?name\n",
    "WHERE {\n",
    "   # bind something\n",
    "   wd:Q40244 ?obj ?p.\n",
    "   # get the label\n",
    "   ?obj sc:name ?name.\n",
    "}\n",
    "LIMIT 20\n",
    "\"\"\"\n",
    "\n",
    "print(\"Results\")\n",
    "x=run_query(queryString)"
   ]
  },
  {
   "cell_type": "markdown",
   "id": "f994d154",
   "metadata": {},
   "source": [
    "Final query for this task"
   ]
  },
  {
   "cell_type": "code",
   "execution_count": 77,
   "id": "2feb5da6",
   "metadata": {},
   "outputs": [
    {
     "name": "stdout",
     "output_type": "stream",
     "text": [
      "Results\n",
      "[('discipline', 'http://www.wikidata.org/entity/Q163892'), ('name', '10,000 metres'), ('runner', 'http://www.wikidata.org/entity/Q9009157'), ('fullName', 'Inés Melchor')]\n",
      "[('discipline', 'http://www.wikidata.org/entity/Q163892'), ('name', '10,000 metres'), ('runner', 'http://www.wikidata.org/entity/Q5930934'), ('fullName', 'Jhon Cusi Huaman')]\n",
      "[('discipline', 'http://www.wikidata.org/entity/Q240500'), ('name', '5000 metres'), ('runner', 'http://www.wikidata.org/entity/Q98780335'), ('fullName', 'Mike Foppen')]\n",
      "[('discipline', 'http://www.wikidata.org/entity/Q240500'), ('name', '5000 metres'), ('runner', 'http://www.wikidata.org/entity/Q9119'), ('fullName', 'Kenenisa Bekele Beyecha')]\n",
      "[('discipline', 'http://www.wikidata.org/entity/Q2164200'), ('name', 'one hour run'), ('runner', 'http://www.wikidata.org/entity/Q171500'), ('fullName', 'Gebrselassie Haile')]\n",
      "5\n"
     ]
    }
   ],
   "source": [
    "# find out who hold the World Record for each disciplines of the long distance running\n",
    "\n",
    "# wdt:P279 -- subclass\n",
    "# wd:Q917206 -- 'long-distance running'\n",
    "# wdt:P1000 -- record held\n",
    "\n",
    "queryString = \"\"\"\n",
    "SELECT DISTINCT ?discipline ?name ?runner ?fullName\n",
    "WHERE {\n",
    "   # bind something\n",
    "   ?discipline wdt:P279 wd:Q917206.\n",
    "   ?runner wdt:P1000 ?discipline.\n",
    "   # get the label\n",
    "   ?discipline sc:name ?name.\n",
    "   ?runner sc:name ?fullName.\n",
    "   \n",
    "}\n",
    "LIMIT 20\n",
    "\"\"\"\n",
    "\n",
    "print(\"Results\")\n",
    "x=run_query(queryString)"
   ]
  },
  {
   "cell_type": "code",
   "execution_count": null,
   "id": "e10f78c0-923e-4cdc-9cdd-d028dd47df7f",
   "metadata": {},
   "outputs": [],
   "source": [
    "# due to the lack of datas in the snapshot the query doesn't show the record of each discipline."
   ]
  }
 ],
 "metadata": {
  "kernelspec": {
   "display_name": "Python 3",
   "language": "python",
   "name": "python3"
  },
  "language_info": {
   "codemirror_mode": {
    "name": "ipython",
    "version": 3
   },
   "file_extension": ".py",
   "mimetype": "text/x-python",
   "name": "python",
   "nbconvert_exporter": "python",
   "pygments_lexer": "ipython3",
   "version": "3.7.10"
  }
 },
 "nbformat": 4,
 "nbformat_minor": 5
}
