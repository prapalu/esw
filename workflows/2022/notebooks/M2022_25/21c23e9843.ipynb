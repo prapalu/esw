{
 "cells": [
  {
   "cell_type": "markdown",
   "id": "acf1ecee",
   "metadata": {},
   "source": [
    "# General instructions\n",
    "\n",
    "The goal of the project is to materialize a set of **exploratory workloads** over a real-world, large-scale,  open-domain KG: [WikiData](https://www.wikidata.org/wiki/Wikidata:Main_Page)\n",
    "\n",
    "An exploratory workload  is composed by a set of queries, where each query is related to the information obtained previously.\n",
    "\n",
    "An exploratory workload starts with a usually vague, open ended question, and does not assume the person issuing the workload has a clear understanding of the data contained in the target database or its structure.\n",
    "\n",
    "Remeber that:\n",
    "\n",
    "1. All the queries must run in the python notebook\n",
    "2. You can use classes and properties only if you find them via a SPARQL query that must be present in the notebook\n",
    "3. You do not delete useless queries. Keep everything that is synthatically valid \n",
    "\n",
    "```\n",
    "?p <http://schema.org/name> ?name .\n",
    "```\n",
    "    \n",
    "    is the BGP returning a human-readable name of a property or a class in Wikidata."
   ]
  },
  {
   "cell_type": "code",
   "execution_count": 2,
   "id": "a4fafd74",
   "metadata": {},
   "outputs": [],
   "source": [
    "## SETUP used later\n",
    "\n",
    "from SPARQLWrapper import SPARQLWrapper, JSON\n",
    "\n",
    "\n",
    "prefixString = \"\"\"\n",
    "##-21c23e9843-##\n",
    "PREFIX wd: <http://www.wikidata.org/entity/> \n",
    "PREFIX wdt: <http://www.wikidata.org/prop/direct/> \n",
    "PREFIX sc: <http://schema.org/>\n",
    "\"\"\"\n",
    "\n",
    "# select and construct queries\n",
    "def run_query(queryString,verbose = True):\n",
    "    to_run = prefixString + \"\\n\" + queryString\n",
    "\n",
    "    sparql = SPARQLWrapper(\"http://a256-gc1-03.srv.aau.dk:5820/sparql\")\n",
    "    sparql.setTimeout(300)\n",
    "    sparql.setReturnFormat(JSON)\n",
    "    sparql.setQuery(to_run)\n",
    "\n",
    "    try :\n",
    "        results = sparql.query()\n",
    "        json_results = results.convert()\n",
    "        if len(json_results['results']['bindings'])==0:\n",
    "            print(\"Empty\")\n",
    "            return []\n",
    "        array = []\n",
    "        for bindings in json_results['results']['bindings']:\n",
    "            app =  [ (var, value['value'])  for var, value in bindings.items() ] \n",
    "            if verbose:\n",
    "                print( app)\n",
    "            array.append(app)\n",
    "        if verbose:\n",
    "            print(len(array))\n",
    "        return array\n",
    "\n",
    "    except Exception as e :\n",
    "        print(\"The operation failed\", e)\n",
    "    \n",
    "# ASk queries\n",
    "def run_ask_query(queryString):\n",
    "    to_run = prefixString + \"\\n\" + queryString\n",
    "\n",
    "    sparql = SPARQLWrapper(\"http://a256-gc1-03.srv.aau.dk:5820/sparql\")\n",
    "    sparql.setTimeout(300)\n",
    "    sparql.setReturnFormat(JSON)\n",
    "    sparql.setQuery(to_run)\n",
    "\n",
    "    try :\n",
    "        return sparql.query().convert()\n",
    "\n",
    "    except Exception as e :\n",
    "        print(\"The operation failed\", e)"
   ]
  },
  {
   "cell_type": "markdown",
   "id": "0104c52f",
   "metadata": {},
   "source": [
    "# History Workflow Series (\"Ancient Civilization explorative search\") \n",
    "\n",
    "Consider the following exploratory information need:\n",
    "\n",
    "> Investigate the Ancient Egypt and the related archeological explorations and findings."
   ]
  },
  {
   "cell_type": "markdown",
   "id": "a57fd13e",
   "metadata": {},
   "source": [
    "## Useful URIs for the current workflow\n",
    "The following are given:\n",
    "\n",
    "| IRI           | Description   | Role      |\n",
    "| -----------   | -----------   |-----------|\n",
    "| `wdt:P1647`   | subproperty   | predicate |\n",
    "| `wdt:P31`     | instance of   | predicate |\n",
    "| `wdt:P106`    | occupation    | predicate | \n",
    "| `wdt:P279`    | subclass      | predicate |\n",
    "| `wdt:P27`     | nationality   | predicate |\n",
    "| `wd:Q5`| Human       | node |\n",
    "| `wd:Q13444093`| Meidum Pyramid    | node |\n",
    "| `wd:Q41127`| Poseidon   | node |\n"
   ]
  },
  {
   "cell_type": "markdown",
   "id": "e9c285cf",
   "metadata": {},
   "source": [
    "\n",
    "\n",
    "\n",
    "Also consider\n",
    "\n",
    "```\n",
    "wd:Q13444093 ?p ?obj .\n",
    "```\n",
    "\n",
    "is the BGP to retrieve all **properties of Meidum Pyramid**\n",
    "\n",
    "Please consider that when you return a resource, you should return the IRI and the label of the resource. In particular, when the task require you to identify a BGP the result set must always be a list of couples IRI - label.\n",
    "\n",
    "\n",
    "\n",
    "The workload should:\n",
    "\n",
    "\n",
    "1. Identify the BGP for Ancient Egypt\n",
    "\n",
    "2. Find the Ancient Egypt pharaohs born between 1500 BCE and 1000 BCE who had more than 8 child (the result set must be a list of triples pharaoh IRI,label and #children).\n",
    "\n",
    "3. Find all the ancient civilizations. Return the IRI and name of the civilization and also their duration (in number of years) if it is available.\n",
    "\n",
    "4. Identify the BGP for archeologist.\n",
    "\n",
    "5. For each ancient civilization find the number of archeologists who worked on it (return also the civilizations with no archeologists) (the result set must be triples of civilization IRI, label and #archeologist).\n",
    "\n",
    "6. Find the BGP for deity.\n",
    "\n",
    "7. List all the twelve olympian greek deities (the result set must a list of 12 elements of couples of deity IRI and label).\n",
    "\n",
    "8. Compare ancient Greece with ancient Egypt and find how many deities each one has.\n"
   ]
  },
  {
   "cell_type": "markdown",
   "id": "6f9542af",
   "metadata": {
    "tags": []
   },
   "source": [
    "## Task 1\n",
    "Identify the BGP for Ancient Egypt"
   ]
  },
  {
   "cell_type": "code",
   "execution_count": 3,
   "id": "a7206db7",
   "metadata": {},
   "outputs": [
    {
     "name": "stdout",
     "output_type": "stream",
     "text": [
      "Results\n",
      "[('p', 'http://www.wikidata.org/prop/direct/P5008'), ('Pname', 'on focus list of Wikimedia project'), ('obj', 'http://www.wikidata.org/entity/Q68074438'), ('Oname', 'WikiProject Livius')]\n",
      "[('p', 'http://www.wikidata.org/prop/direct/P88'), ('Pname', 'commissioned by'), ('obj', 'http://www.wikidata.org/entity/Q189371'), ('Oname', 'Sneferu')]\n",
      "[('p', 'http://www.wikidata.org/prop/direct/P276'), ('Pname', 'location'), ('obj', 'http://www.wikidata.org/entity/Q1066424'), ('Oname', 'Meidum')]\n",
      "[('p', 'http://www.wikidata.org/prop/direct/P138'), ('Pname', 'named after'), ('obj', 'http://www.wikidata.org/entity/Q1066424'), ('Oname', 'Meidum')]\n",
      "[('p', 'http://www.wikidata.org/prop/direct/P88'), ('Pname', 'commissioned by'), ('obj', 'http://www.wikidata.org/entity/Q220240'), ('Oname', 'Huni')]\n",
      "[('p', 'http://www.wikidata.org/prop/direct/P186'), ('Pname', 'made from material'), ('obj', 'http://www.wikidata.org/entity/Q23757'), ('Oname', 'limestone')]\n",
      "[('p', 'http://www.wikidata.org/prop/direct/P17'), ('Pname', 'country'), ('obj', 'http://www.wikidata.org/entity/Q79'), ('Oname', 'Egypt')]\n",
      "[('p', 'http://www.wikidata.org/prop/direct/P366'), ('Pname', 'use'), ('obj', 'http://www.wikidata.org/entity/Q321053'), ('Oname', 'cenotaph')]\n",
      "[('p', 'http://www.wikidata.org/prop/direct/P31'), ('Pname', 'instance of'), ('obj', 'http://www.wikidata.org/entity/Q1456099'), ('Oname', 'step pyramid')]\n",
      "[('p', 'http://www.wikidata.org/prop/direct/P131'), ('Pname', 'located in the administrative territorial entity'), ('obj', 'http://www.wikidata.org/entity/Q30683'), ('Oname', 'Beni Suef Governorate')]\n",
      "[('p', 'http://www.wikidata.org/prop/direct/P7561'), ('Pname', 'category for the interior of the item'), ('obj', 'http://www.wikidata.org/entity/Q75129112'), ('Oname', 'Category:Interior of Meidum Pyramid')]\n",
      "11\n"
     ]
    }
   ],
   "source": [
    "# Let's get all properties and related object linked to Meidum Pyramid\n",
    "\n",
    "queryString = \"\"\"\n",
    "SELECT DISTINCT ?p ?Pname ?obj ?Oname\n",
    "WHERE {\n",
    "   wd:Q13444093 ?p ?obj. #MeidumPyramid\n",
    "\n",
    "   ?p sc:name ?Pname.\n",
    "   ?obj sc:name ?Oname.\n",
    "\n",
    "}\n",
    "LIMIT 50\n",
    "\"\"\"\n",
    "\n",
    "print(\"Results\")\n",
    "x=run_query(queryString)"
   ]
  },
  {
   "cell_type": "code",
   "execution_count": 4,
   "id": "db307edd-e437-43ed-af88-9b7c76cb9481",
   "metadata": {},
   "outputs": [
    {
     "name": "stdout",
     "output_type": "stream",
     "text": [
      "Results\n",
      "[('Otype', 'http://www.wikidata.org/entity/Q6256'), ('Oname', 'country'), ('count', '1')]\n",
      "[('Otype', 'http://www.wikidata.org/entity/Q3624078'), ('Oname', 'sovereign state'), ('count', '1')]\n",
      "[('Otype', 'http://www.wikidata.org/entity/Q839954'), ('Oname', 'archaeological site'), ('count', '2')]\n",
      "[('Otype', 'http://www.wikidata.org/entity/Q5'), ('Oname', 'human'), ('count', '2')]\n",
      "[('Otype', 'http://www.wikidata.org/entity/Q1323642'), ('Oname', 'transcontinental country'), ('count', '1')]\n",
      "[('Otype', 'http://www.wikidata.org/entity/Q204910'), ('Oname', 'governorate of Egypt'), ('count', '1')]\n",
      "[('Otype', 'http://www.wikidata.org/entity/Q51576574'), ('Oname', 'Mediterranean country'), ('count', '1')]\n",
      "[('Otype', 'http://www.wikidata.org/entity/Q532'), ('Oname', 'village'), ('count', '2')]\n",
      "[('Otype', 'http://www.wikidata.org/entity/Q16695773'), ('Oname', 'WikiProject'), ('count', '1')]\n",
      "[('Otype', 'http://www.wikidata.org/entity/Q4167836'), ('Oname', 'Wikimedia category'), ('count', '1')]\n",
      "10\n"
     ]
    }
   ],
   "source": [
    "# Let's now get objects type names that are related to Meidum Pyramid, through one of the above found properties\n",
    "\n",
    "queryString = \"\"\"\n",
    "SELECT DISTINCT ?Otype ?Oname count(*) as ?count\n",
    "WHERE {\n",
    "   wd:Q13444093 ?p ?o . #MeidumPyramid\n",
    "   ?o wdt:P31 ?Otype .\n",
    "   \n",
    "   ?Otype sc:name ?Oname.\n",
    "}\n",
    "\n",
    "LIMIT 50\n",
    "\"\"\"\n",
    "\n",
    "print(\"Results\")\n",
    "x=run_query(queryString)"
   ]
  },
  {
   "cell_type": "code",
   "execution_count": 5,
   "id": "1b5da50b-44d4-4540-842b-78d97f3b5624",
   "metadata": {},
   "outputs": [
    {
     "name": "stdout",
     "output_type": "stream",
     "text": [
      "Results\n",
      "[('country', 'http://www.wikidata.org/entity/Q79'), ('countryName', 'Egypt')]\n",
      "1\n"
     ]
    }
   ],
   "source": [
    "#Let's get Egypt URI, could be useful for later\n",
    "\n",
    "queryString = \"\"\"\n",
    "SELECT DISTINCT ?country ?countryName\n",
    "WHERE {\n",
    "    wd:Q13444093 wdt:P17 ?country. #MeidumPyramid country\n",
    "\n",
    "    ?country sc:name ?countryName.\n",
    "}\n",
    "LIMIT 50\n",
    "\"\"\"\n",
    "\n",
    "print(\"Results\")\n",
    "x=run_query(queryString)"
   ]
  },
  {
   "cell_type": "code",
   "execution_count": 6,
   "id": "01f69be1-34da-4992-9f82-6fc69b2df664",
   "metadata": {},
   "outputs": [
    {
     "name": "stdout",
     "output_type": "stream",
     "text": [
      "Results\n",
      "[('Otype', 'http://www.wikidata.org/entity/Q645883'), ('Oname', 'military operation'), ('p', 'http://www.wikidata.org/prop/direct/P463'), ('Pname', 'member of')]\n",
      "[('Otype', 'http://www.wikidata.org/entity/Q99541706'), ('Oname', 'historical unrecognized state'), ('p', 'http://www.wikidata.org/prop/direct/P530'), ('Pname', 'diplomatic relation')]\n",
      "[('Otype', 'http://www.wikidata.org/entity/Q3024240'), ('Oname', 'historical country'), ('p', 'http://www.wikidata.org/prop/direct/P1365'), ('Pname', 'replaces')]\n",
      "[('Otype', 'http://www.wikidata.org/entity/Q3502482'), ('Oname', 'cultural region'), ('p', 'http://www.wikidata.org/prop/direct/P361'), ('Pname', 'part of')]\n",
      "[('Otype', 'http://www.wikidata.org/entity/Q43702'), ('Oname', 'federation'), ('p', 'http://www.wikidata.org/prop/direct/P530'), ('Pname', 'diplomatic relation')]\n",
      "[('Otype', 'http://www.wikidata.org/entity/Q512187'), ('Oname', 'federal republic'), ('p', 'http://www.wikidata.org/prop/direct/P530'), ('Pname', 'diplomatic relation')]\n",
      "[('Otype', 'http://www.wikidata.org/entity/Q7725634'), ('Oname', 'literary work'), ('p', 'http://www.wikidata.org/prop/direct/P1343'), ('Pname', 'described by source')]\n",
      "[('Otype', 'http://www.wikidata.org/entity/Q17544377'), ('Oname', 'history of a country or state'), ('p', 'http://www.wikidata.org/prop/direct/P2184'), ('Pname', 'history of topic')]\n",
      "[('Otype', 'http://www.wikidata.org/entity/Q19958368'), ('Oname', 'culture of an area'), ('p', 'http://www.wikidata.org/prop/direct/P2596'), ('Pname', 'culture')]\n",
      "[('Otype', 'http://www.wikidata.org/entity/Q37002670'), ('Oname', 'unicameral legislature'), ('p', 'http://www.wikidata.org/prop/direct/P194'), ('Pname', 'legislative body')]\n",
      "10\n"
     ]
    }
   ],
   "source": [
    "# Let's get objects related to Egypt and filter the classes names intuitively with regex\n",
    "\n",
    "queryString = \"\"\"\n",
    "SELECT DISTINCT ?Otype ?Oname ?p ?Pname\n",
    "WHERE {\n",
    "   \n",
    "   wd:Q79 ?p ?o . #Egypt\n",
    "   ?o wdt:P31 ?Otype . #a\n",
    "   \n",
    "   ?Otype sc:name ?Oname.\n",
    "   ?p sc:name ?Pname.\n",
    "   FILTER(REGEX(?Oname,\"(period|era|histor|cultur|civiliz)\"))\n",
    "}\n",
    "\n",
    "LIMIT 50\n",
    "\"\"\"\n",
    "\n",
    "print(\"Results\")\n",
    "x=run_query(queryString)"
   ]
  },
  {
   "cell_type": "code",
   "execution_count": 7,
   "id": "9d0a5826-7346-4012-8941-aa205b40cf7f",
   "metadata": {},
   "outputs": [
    {
     "name": "stdout",
     "output_type": "stream",
     "text": [
      "Results\n",
      "[('histC', 'http://www.wikidata.org/entity/Q124943'), ('Hname', 'Kingdom of Egypt')]\n",
      "[('histC', 'http://www.wikidata.org/entity/Q2051582'), ('Hname', 'All-Palestine Government')]\n",
      "2\n"
     ]
    }
   ],
   "source": [
    "#\"historical country\" looks interesting\n",
    "#Let's see what are the historical countries replaced by Egypt\n",
    "\n",
    "queryString = \"\"\"\n",
    "SELECT DISTINCT ?histC ?Hname\n",
    "WHERE {\n",
    "    wd:Q13444093 ?p ?obj . #MeidumPyramid\n",
    "    ?obj wdt:P17 wd:Q79; #country Egypt\n",
    "         wdt:P1365 ?histC. #replaces\n",
    "         \n",
    "    ?histC sc:name ?Hname.\n",
    "}\n",
    "\n",
    "LIMIT 50\n",
    "\"\"\"\n",
    "\n",
    "print(\"Results\")\n",
    "x=run_query(queryString)"
   ]
  },
  {
   "cell_type": "code",
   "execution_count": 8,
   "id": "da1ac1fa-93d6-4be6-bf41-ff29b34e365d",
   "metadata": {},
   "outputs": [
    {
     "name": "stdout",
     "output_type": "stream",
     "text": [
      "Results\n",
      "[('histC', 'http://www.wikidata.org/entity/Q127861'), ('histCname', 'Khedivate of Egypt')]\n",
      "[('histC', 'http://www.wikidata.org/entity/Q177819'), ('histCname', 'Old Kingdom of Egypt')]\n",
      "[('histC', 'http://www.wikidata.org/entity/Q124943'), ('histCname', 'Kingdom of Egypt')]\n",
      "[('histC', 'http://www.wikidata.org/entity/Q3087763'), ('histCname', 'Republic of Egypt (1953–1958)')]\n",
      "[('histC', 'http://www.wikidata.org/entity/Q11768'), ('histCname', 'Ancient Egypt')]\n",
      "[('histC', 'http://www.wikidata.org/entity/Q541455'), ('histCname', 'Anglo-Egyptian Sudan')]\n",
      "[('histC', 'http://www.wikidata.org/entity/Q180568'), ('histCname', 'New Kingdom of Egypt')]\n",
      "[('histC', 'http://www.wikidata.org/entity/Q191324'), ('histCname', 'Middle Kingdom of Egypt')]\n",
      "[('histC', 'http://www.wikidata.org/entity/Q187979'), ('histCname', 'Early Dynastic Period of Egypt')]\n",
      "9\n"
     ]
    }
   ],
   "source": [
    "#Not promising result.\n",
    "# Let's check if the historical country class has Ancient Egypt as an instance\n",
    "\n",
    "queryString = \"\"\"\n",
    "SELECT DISTINCT ?histC ?histCname\n",
    "WHERE {\n",
    "\n",
    "    ?histC wdt:P31 wd:Q3024240 . #a HistoricalCountry\n",
    "\n",
    "    ?histC sc:name ?histCname.\n",
    "    FILTER(REGEX(?histCname,\"Egypt\"))\n",
    "}\n",
    "\n",
    "LIMIT 50\n",
    "\"\"\"\n",
    "\n",
    "print(\"Results\")\n",
    "x=run_query(queryString)\n",
    "\n",
    "#It does, but it looks difficult to access it starting from the MeidumPyramid BGP\n",
    "#As I don't know if it is a valid solution, I will try to access it directly from MeidumPyramid BGP"
   ]
  },
  {
   "cell_type": "code",
   "execution_count": 9,
   "id": "364b4757-1c8c-4524-adb9-e362d63efbe2",
   "metadata": {},
   "outputs": [
    {
     "name": "stdout",
     "output_type": "stream",
     "text": [
      "Results\n",
      "[('obj', 'http://www.wikidata.org/entity/Q372436'), ('Oname', 'statesperson'), ('p', 'http://www.wikidata.org/prop/direct/P106'), ('Pname', 'occupation')]\n",
      "[('obj', 'http://www.wikidata.org/entity/Q135332'), ('Oname', 'Red Pyramid'), ('p', 'http://www.wikidata.org/prop/direct/P119'), ('Pname', 'place of burial')]\n",
      "[('obj', 'http://www.wikidata.org/entity/Q602358'), ('Oname', 'Brockhaus and Efron Encyclopedic Dictionary'), ('p', 'http://www.wikidata.org/prop/direct/P1343'), ('Pname', 'described by source')]\n",
      "[('obj', 'http://www.wikidata.org/entity/Q46002746'), ('Oname', 'Dictionary of African Biography'), ('p', 'http://www.wikidata.org/prop/direct/P1343'), ('Pname', 'described by source')]\n",
      "[('obj', 'http://www.wikidata.org/entity/Q79'), ('Oname', 'Egypt'), ('p', 'http://www.wikidata.org/prop/direct/P19'), ('Pname', 'place of birth')]\n",
      "[('obj', 'http://www.wikidata.org/entity/Q79'), ('Oname', 'Egypt'), ('p', 'http://www.wikidata.org/prop/direct/P20'), ('Pname', 'place of death')]\n",
      "[('obj', 'http://www.wikidata.org/entity/Q6581097'), ('Oname', 'male'), ('p', 'http://www.wikidata.org/prop/direct/P21'), ('Pname', 'sex or gender')]\n",
      "[('obj', 'http://www.wikidata.org/entity/Q220240'), ('Oname', 'Huni'), ('p', 'http://www.wikidata.org/prop/direct/P22'), ('Pname', 'father')]\n",
      "[('obj', 'http://www.wikidata.org/entity/Q177819'), ('Oname', 'Old Kingdom of Egypt'), ('p', 'http://www.wikidata.org/prop/direct/P2348'), ('Pname', 'time period')]\n",
      "[('obj', 'http://www.wikidata.org/entity/Q11768'), ('Oname', 'Ancient Egypt'), ('p', 'http://www.wikidata.org/prop/direct/P2348'), ('Pname', 'time period')]\n",
      "[('obj', 'http://www.wikidata.org/entity/Q271665'), ('Oname', 'Meresankh I'), ('p', 'http://www.wikidata.org/prop/direct/P25'), ('Pname', 'mother')]\n",
      "[('obj', 'http://www.wikidata.org/entity/Q256515'), ('Oname', 'Hetepheres I'), ('p', 'http://www.wikidata.org/prop/direct/P26'), ('Pname', 'spouse')]\n",
      "[('obj', 'http://www.wikidata.org/entity/Q11768'), ('Oname', 'Ancient Egypt'), ('p', 'http://www.wikidata.org/prop/direct/P27'), ('Pname', 'country of citizenship')]\n",
      "[('obj', 'http://www.wikidata.org/entity/Q5'), ('Oname', 'human'), ('p', 'http://www.wikidata.org/prop/direct/P31'), ('Pname', 'instance of')]\n",
      "[('obj', 'http://www.wikidata.org/entity/Q256515'), ('Oname', 'Hetepheres I'), ('p', 'http://www.wikidata.org/prop/direct/P3373'), ('Pname', 'sibling')]\n",
      "[('obj', 'http://www.wikidata.org/entity/Q271665'), ('Oname', 'Meresankh I'), ('p', 'http://www.wikidata.org/prop/direct/P3373'), ('Pname', 'sibling')]\n",
      "[('obj', 'http://www.wikidata.org/entity/Q37110'), ('Oname', 'pharaoh'), ('p', 'http://www.wikidata.org/prop/direct/P39'), ('Pname', 'position held')]\n",
      "[('obj', 'http://www.wikidata.org/entity/Q471584'), ('Oname', 'Nefermaat'), ('p', 'http://www.wikidata.org/prop/direct/P40'), ('Pname', 'child')]\n",
      "[('obj', 'http://www.wikidata.org/entity/Q760621'), ('Oname', 'Kanefer'), ('p', 'http://www.wikidata.org/prop/direct/P40'), ('Pname', 'child')]\n",
      "[('obj', 'http://www.wikidata.org/entity/Q122426'), ('Oname', 'Henutsen'), ('p', 'http://www.wikidata.org/prop/direct/P40'), ('Pname', 'child')]\n",
      "[('obj', 'http://www.wikidata.org/entity/Q6987026'), ('Oname', 'Nefertnesu'), ('p', 'http://www.wikidata.org/prop/direct/P40'), ('Pname', 'child')]\n",
      "[('obj', 'http://www.wikidata.org/entity/Q453219'), ('Oname', 'Nefertkau I'), ('p', 'http://www.wikidata.org/prop/direct/P40'), ('Pname', 'child')]\n",
      "[('obj', 'http://www.wikidata.org/entity/Q746710'), ('Oname', 'Prince Rahotep'), ('p', 'http://www.wikidata.org/prop/direct/P40'), ('Pname', 'child')]\n",
      "[('obj', 'http://www.wikidata.org/entity/Q760604'), ('Oname', 'Netjeraperef'), ('p', 'http://www.wikidata.org/prop/direct/P40'), ('Pname', 'child')]\n",
      "[('obj', 'http://www.wikidata.org/entity/Q760610'), ('Oname', 'Ranefer'), ('p', 'http://www.wikidata.org/prop/direct/P40'), ('Pname', 'child')]\n",
      "[('obj', 'http://www.wikidata.org/entity/Q464954'), ('Oname', 'Meritites I'), ('p', 'http://www.wikidata.org/prop/direct/P40'), ('Pname', 'child')]\n",
      "[('obj', 'http://www.wikidata.org/entity/Q13638694'), ('Oname', 'Iynefer I'), ('p', 'http://www.wikidata.org/prop/direct/P40'), ('Pname', 'child')]\n",
      "[('obj', 'http://www.wikidata.org/entity/Q161904'), ('Oname', 'Khufu'), ('p', 'http://www.wikidata.org/prop/direct/P40'), ('Pname', 'child')]\n",
      "[('obj', 'http://www.wikidata.org/entity/Q387014'), ('Oname', 'Ankhhaf'), ('p', 'http://www.wikidata.org/prop/direct/P40'), ('Pname', 'child')]\n",
      "[('obj', 'http://www.wikidata.org/entity/Q7244639'), ('Oname', 'Princess Hetepheres'), ('p', 'http://www.wikidata.org/prop/direct/P40'), ('Pname', 'child')]\n",
      "[('obj', 'http://www.wikidata.org/entity/Q211001'), ('Oname', 'Fourth Dynasty of Egypt'), ('p', 'http://www.wikidata.org/prop/direct/P53'), ('Pname', 'family')]\n",
      "[('obj', 'http://www.wikidata.org/entity/Q18698807'), ('Oname', 'Category:Sneferu'), ('p', 'http://www.wikidata.org/prop/direct/P910'), ('Pname', \"topic's main category\")]\n",
      "[('obj', 'http://www.wikidata.org/entity/Q37110'), ('Oname', 'pharaoh'), ('p', 'http://www.wikidata.org/prop/direct/P97'), ('Pname', 'noble title')]\n",
      "33\n"
     ]
    }
   ],
   "source": [
    "#SECOND INVESTIGATION: Let's take use this previous query result :\n",
    "#[('p', 'http://www.wikidata.org/prop/direct/P88'), ('Pname', 'commissioned by'), ('obj', 'http://www.wikidata.org/entity/Q189371'), ('Oname', 'Sneferu')]\n",
    "\n",
    "queryString = \"\"\"\n",
    "SELECT DISTINCT ?obj ?Oname ?p ?Pname\n",
    "WHERE {\n",
    "    wd:Q189371 ?p ?obj. #Sneferu(pharaoh)\n",
    "    \n",
    "   ?obj sc:name ?Oname.\n",
    "   ?p sc:name ?Pname.\n",
    "}\n",
    "\n",
    "LIMIT 50\n",
    "\"\"\"\n",
    "\n",
    "print(\"Results\")\n",
    "x=run_query(queryString)\n",
    "\n",
    "# We see Ancient Egypt linked to \"country of citizenship\" property"
   ]
  },
  {
   "cell_type": "code",
   "execution_count": 10,
   "id": "9ff22f0b-f08f-4210-9e41-a477fd186bda",
   "metadata": {},
   "outputs": [
    {
     "name": "stdout",
     "output_type": "stream",
     "text": [
      "Results\n",
      "[('comissioner', 'http://www.wikidata.org/entity/Q5'), ('Cname', 'human')]\n",
      "1\n"
     ]
    }
   ],
   "source": [
    "#Let's check the type of the node related to the \"commissioned by\" property\n",
    "\n",
    "queryString = \"\"\"\n",
    "SELECT DISTINCT ?comissioner ?Cname\n",
    "WHERE {\n",
    "   wd:Q189371 wdt:P31 ?comissioner. #Sneferu a\n",
    "\n",
    "   ?comissioner sc:name ?Cname.\n",
    "}\n",
    "\n",
    "LIMIT 50\n",
    "\"\"\"\n",
    "\n",
    "print(\"Results\")\n",
    "x=run_query(queryString)"
   ]
  },
  {
   "cell_type": "code",
   "execution_count": 11,
   "id": "3a1f98ee-3a42-4ba5-9777-79e7b5f8a118",
   "metadata": {},
   "outputs": [
    {
     "name": "stdout",
     "output_type": "stream",
     "text": [
      "Results\n",
      "[('country', 'http://www.wikidata.org/entity/Q11768'), ('Cname', 'Ancient Egypt')]\n",
      "1\n"
     ]
    }
   ],
   "source": [
    "#We can finally build the final query, knowing the comissioners are human and knowing their country of citizenship :\n",
    "\n",
    "queryString = \"\"\"\n",
    "SELECT DISTINCT ?country ?Cname\n",
    "WHERE {\n",
    "   wd:Q13444093 ?p ?obj . #MeidumPyramid\n",
    "   ?obj wdt:P31 wd:Q5; #a human\n",
    "        wdt:P27 ?country. #countryofcitizenship\n",
    "        \n",
    "   ?country sc:name ?Cname.\n",
    "}\n",
    "GROUP BY ?p\n",
    "LIMIT 50\n",
    "\"\"\"\n",
    "\n",
    "print(\"Results\")\n",
    "x=run_query(queryString)"
   ]
  },
  {
   "cell_type": "markdown",
   "id": "67306d59",
   "metadata": {},
   "source": [
    "Final query for this task"
   ]
  },
  {
   "cell_type": "code",
   "execution_count": 12,
   "id": "a891f112",
   "metadata": {},
   "outputs": [
    {
     "name": "stdout",
     "output_type": "stream",
     "text": [
      "Results\n",
      "[('country', 'http://www.wikidata.org/entity/Q11768'), ('Cname', 'Ancient Egypt')]\n",
      "1\n"
     ]
    }
   ],
   "source": [
    "# Final query\n",
    "\n",
    "queryString = \"\"\"\n",
    "SELECT DISTINCT ?country ?Cname\n",
    "WHERE {\n",
    "   wd:Q13444093 ?p ?obj . #MeidumPyramid\n",
    "   ?obj wdt:P31 wd:Q5; #a human\n",
    "        wdt:P27 ?country. #countryofcitizenship\n",
    "        \n",
    "   ?country sc:name ?Cname.\n",
    "}\n",
    "GROUP BY ?p\n",
    "LIMIT 50\n",
    "\"\"\"\n",
    "\n",
    "print(\"Results\")\n",
    "x=run_query(queryString)\n",
    "\n",
    "#BGP found: [('histC', 'http://www.wikidata.org/entity/Q11768'), ('histCname', 'Ancient Egypt')]"
   ]
  },
  {
   "cell_type": "markdown",
   "id": "04600b08",
   "metadata": {
    "tags": []
   },
   "source": [
    "## Task 2\n",
    "Find the Ancient Egypt pharaohs born between 1500 BCE and 1000 BCE who had more than 8 child (the result set must be a list of triples pharaoh IRI,label and #children)."
   ]
  },
  {
   "cell_type": "code",
   "execution_count": 6,
   "id": "e1fc1235-10c4-4957-82b5-eddc899ca075",
   "metadata": {},
   "outputs": [
    {
     "name": "stdout",
     "output_type": "stream",
     "text": [
      "Results\n",
      "[('obj', 'http://www.wikidata.org/entity/Q372436'), ('Oname', 'statesperson'), ('p', 'http://www.wikidata.org/prop/direct/P106'), ('Pname', 'occupation')]\n",
      "[('obj', 'http://www.wikidata.org/entity/Q135332'), ('Oname', 'Red Pyramid'), ('p', 'http://www.wikidata.org/prop/direct/P119'), ('Pname', 'place of burial')]\n",
      "[('obj', 'http://www.wikidata.org/entity/Q602358'), ('Oname', 'Brockhaus and Efron Encyclopedic Dictionary'), ('p', 'http://www.wikidata.org/prop/direct/P1343'), ('Pname', 'described by source')]\n",
      "[('obj', 'http://www.wikidata.org/entity/Q46002746'), ('Oname', 'Dictionary of African Biography'), ('p', 'http://www.wikidata.org/prop/direct/P1343'), ('Pname', 'described by source')]\n",
      "[('obj', 'http://www.wikidata.org/entity/Q79'), ('Oname', 'Egypt'), ('p', 'http://www.wikidata.org/prop/direct/P19'), ('Pname', 'place of birth')]\n",
      "[('obj', 'http://www.wikidata.org/entity/Q79'), ('Oname', 'Egypt'), ('p', 'http://www.wikidata.org/prop/direct/P20'), ('Pname', 'place of death')]\n",
      "[('obj', 'http://www.wikidata.org/entity/Q6581097'), ('Oname', 'male'), ('p', 'http://www.wikidata.org/prop/direct/P21'), ('Pname', 'sex or gender')]\n",
      "[('obj', 'http://www.wikidata.org/entity/Q220240'), ('Oname', 'Huni'), ('p', 'http://www.wikidata.org/prop/direct/P22'), ('Pname', 'father')]\n",
      "[('obj', 'http://www.wikidata.org/entity/Q177819'), ('Oname', 'Old Kingdom of Egypt'), ('p', 'http://www.wikidata.org/prop/direct/P2348'), ('Pname', 'time period')]\n",
      "[('obj', 'http://www.wikidata.org/entity/Q11768'), ('Oname', 'Ancient Egypt'), ('p', 'http://www.wikidata.org/prop/direct/P2348'), ('Pname', 'time period')]\n",
      "[('obj', 'http://www.wikidata.org/entity/Q271665'), ('Oname', 'Meresankh I'), ('p', 'http://www.wikidata.org/prop/direct/P25'), ('Pname', 'mother')]\n",
      "[('obj', 'http://www.wikidata.org/entity/Q256515'), ('Oname', 'Hetepheres I'), ('p', 'http://www.wikidata.org/prop/direct/P26'), ('Pname', 'spouse')]\n",
      "[('obj', 'http://www.wikidata.org/entity/Q11768'), ('Oname', 'Ancient Egypt'), ('p', 'http://www.wikidata.org/prop/direct/P27'), ('Pname', 'country of citizenship')]\n",
      "[('obj', 'http://www.wikidata.org/entity/Q5'), ('Oname', 'human'), ('p', 'http://www.wikidata.org/prop/direct/P31'), ('Pname', 'instance of')]\n",
      "[('obj', 'http://www.wikidata.org/entity/Q256515'), ('Oname', 'Hetepheres I'), ('p', 'http://www.wikidata.org/prop/direct/P3373'), ('Pname', 'sibling')]\n",
      "[('obj', 'http://www.wikidata.org/entity/Q271665'), ('Oname', 'Meresankh I'), ('p', 'http://www.wikidata.org/prop/direct/P3373'), ('Pname', 'sibling')]\n",
      "[('obj', 'http://www.wikidata.org/entity/Q37110'), ('Oname', 'pharaoh'), ('p', 'http://www.wikidata.org/prop/direct/P39'), ('Pname', 'position held')]\n",
      "[('obj', 'http://www.wikidata.org/entity/Q471584'), ('Oname', 'Nefermaat'), ('p', 'http://www.wikidata.org/prop/direct/P40'), ('Pname', 'child')]\n",
      "[('obj', 'http://www.wikidata.org/entity/Q760621'), ('Oname', 'Kanefer'), ('p', 'http://www.wikidata.org/prop/direct/P40'), ('Pname', 'child')]\n",
      "[('obj', 'http://www.wikidata.org/entity/Q122426'), ('Oname', 'Henutsen'), ('p', 'http://www.wikidata.org/prop/direct/P40'), ('Pname', 'child')]\n",
      "[('obj', 'http://www.wikidata.org/entity/Q6987026'), ('Oname', 'Nefertnesu'), ('p', 'http://www.wikidata.org/prop/direct/P40'), ('Pname', 'child')]\n",
      "[('obj', 'http://www.wikidata.org/entity/Q453219'), ('Oname', 'Nefertkau I'), ('p', 'http://www.wikidata.org/prop/direct/P40'), ('Pname', 'child')]\n",
      "[('obj', 'http://www.wikidata.org/entity/Q746710'), ('Oname', 'Prince Rahotep'), ('p', 'http://www.wikidata.org/prop/direct/P40'), ('Pname', 'child')]\n",
      "[('obj', 'http://www.wikidata.org/entity/Q760604'), ('Oname', 'Netjeraperef'), ('p', 'http://www.wikidata.org/prop/direct/P40'), ('Pname', 'child')]\n",
      "[('obj', 'http://www.wikidata.org/entity/Q760610'), ('Oname', 'Ranefer'), ('p', 'http://www.wikidata.org/prop/direct/P40'), ('Pname', 'child')]\n",
      "[('obj', 'http://www.wikidata.org/entity/Q464954'), ('Oname', 'Meritites I'), ('p', 'http://www.wikidata.org/prop/direct/P40'), ('Pname', 'child')]\n",
      "[('obj', 'http://www.wikidata.org/entity/Q13638694'), ('Oname', 'Iynefer I'), ('p', 'http://www.wikidata.org/prop/direct/P40'), ('Pname', 'child')]\n",
      "[('obj', 'http://www.wikidata.org/entity/Q161904'), ('Oname', 'Khufu'), ('p', 'http://www.wikidata.org/prop/direct/P40'), ('Pname', 'child')]\n",
      "[('obj', 'http://www.wikidata.org/entity/Q387014'), ('Oname', 'Ankhhaf'), ('p', 'http://www.wikidata.org/prop/direct/P40'), ('Pname', 'child')]\n",
      "[('obj', 'http://www.wikidata.org/entity/Q7244639'), ('Oname', 'Princess Hetepheres'), ('p', 'http://www.wikidata.org/prop/direct/P40'), ('Pname', 'child')]\n",
      "[('obj', 'http://www.wikidata.org/entity/Q211001'), ('Oname', 'Fourth Dynasty of Egypt'), ('p', 'http://www.wikidata.org/prop/direct/P53'), ('Pname', 'family')]\n",
      "[('obj', 'http://www.wikidata.org/entity/Q18698807'), ('Oname', 'Category:Sneferu'), ('p', 'http://www.wikidata.org/prop/direct/P910'), ('Pname', \"topic's main category\")]\n",
      "[('obj', 'http://www.wikidata.org/entity/Q37110'), ('Oname', 'pharaoh'), ('p', 'http://www.wikidata.org/prop/direct/P97'), ('Pname', 'noble title')]\n",
      "33\n"
     ]
    }
   ],
   "source": [
    "#Thanks to this previous query, we got the BGP of pharaos which intuitively should be useful\n",
    "\n",
    "queryString = \"\"\"\n",
    "SELECT DISTINCT ?obj ?Oname ?p ?Pname\n",
    "WHERE {\n",
    "    wd:Q189371 ?p ?obj. #Sneferu (pharaoh)\n",
    "    \n",
    "   ?obj sc:name ?Oname.\n",
    "   ?p sc:name ?Pname.\n",
    "}\n",
    "\n",
    "LIMIT 50\n",
    "\"\"\"\n",
    "\n",
    "print(\"Results\")\n",
    "x=run_query(queryString)\n",
    "\n",
    "# [('obj', 'http://www.wikidata.org/entity/Q37110'), ('Oname', 'pharaoh'), ('p', 'http://www.wikidata.org/prop/direct/P39'), ('Pname', 'position held')]"
   ]
  },
  {
   "cell_type": "code",
   "execution_count": 12,
   "id": "0d5cfc01-7273-4a8b-be68-fc356c0a0c92",
   "metadata": {},
   "outputs": [
    {
     "name": "stdout",
     "output_type": "stream",
     "text": [
      "Results\n",
      "[('p', 'http://www.wikidata.org/prop/direct/P1424'), ('Pname', \"topic's main template\"), ('obj', 'http://www.wikidata.org/entity/Q17534637'), ('Oname', 'Template:Infobox person/Wikidata')]\n",
      "[('p', 'http://www.wikidata.org/prop/direct/P1963'), ('Pname', 'properties for this type'), ('obj', 'http://www.wikidata.org/entity/P40'), ('Oname', 'child')]\n",
      "[('p', 'http://www.wikidata.org/prop/direct/P1963'), ('Pname', 'properties for this type'), ('obj', 'http://www.wikidata.org/entity/P19'), ('Oname', 'place of birth')]\n",
      "[('p', 'http://www.wikidata.org/prop/direct/P1963'), ('Pname', 'properties for this type'), ('obj', 'http://www.wikidata.org/entity/P1636'), ('Oname', 'date of baptism in early childhood')]\n",
      "[('p', 'http://www.wikidata.org/prop/direct/P1963'), ('Pname', 'properties for this type'), ('obj', 'http://www.wikidata.org/entity/P1477'), ('Oname', 'birth name')]\n",
      "[('p', 'http://www.wikidata.org/prop/direct/P1963'), ('Pname', 'properties for this type'), ('obj', 'http://www.wikidata.org/entity/P734'), ('Oname', 'family name')]\n",
      "[('p', 'http://www.wikidata.org/prop/direct/P1963'), ('Pname', 'properties for this type'), ('obj', 'http://www.wikidata.org/entity/P569'), ('Oname', 'date of birth')]\n",
      "7\n"
     ]
    }
   ],
   "source": [
    "#We also have seen previously that Comissioners are Human, so pharaohs are also human. \n",
    "#Let's look at human properties to see if there is some related to date of birth and/or family\n",
    "\n",
    "queryString = \"\"\"\n",
    "SELECT DISTINCT ?p ?Pname ?obj ?Oname\n",
    "WHERE {\n",
    "   wd:Q5 ?p ?obj. #Human\n",
    "\n",
    "   ?p sc:name ?Pname.\n",
    "   ?obj sc:name ?Oname.\n",
    "   FILTER(REGEX(?Oname,\"(birth|born|child|kid|parent|family)\"))\n",
    "\n",
    "}\n",
    "LIMIT 50\n",
    "\"\"\"\n",
    "\n",
    "print(\"Results\")\n",
    "x=run_query(queryString)\n",
    "\n",
    "#We get here the date of birth :('obj', 'http://www.wikidata.org/entity/P569'), ('Oname', 'date of birth')]\n",
    "#And the child property : ('obj', 'http://www.wikidata.org/entity/P40'), ('Oname', 'child')]"
   ]
  },
  {
   "cell_type": "code",
   "execution_count": 13,
   "id": "86e64fd3-01c0-4a70-ab5d-06d529feea9a",
   "metadata": {},
   "outputs": [
    {
     "name": "stdout",
     "output_type": "stream",
     "text": [
      "Results\n",
      "[('bdate', '-2700-01-01T00:00:00Z')]\n",
      "1\n"
     ]
    }
   ],
   "source": [
    "#Let's check at the date of birth format of our known pharaoh (comissioner)\n",
    "\n",
    "queryString = \"\"\"\n",
    "SELECT ?bdate\n",
    "WHERE {\n",
    "   wd:Q189371 wdt:P569 ?bdate. #Sneferu dateofbirth\n",
    "}\n",
    "\n",
    "\"\"\"\n",
    "\n",
    "print(\"Results\")\n",
    "x=run_query(queryString)"
   ]
  },
  {
   "cell_type": "code",
   "execution_count": 13,
   "id": "da2694a4-5cab-428f-999e-c9d6059a8cd4",
   "metadata": {},
   "outputs": [
    {
     "name": "stdout",
     "output_type": "stream",
     "text": [
      "Results\n",
      "[('s', 'http://www.wikidata.org/entity/Q5664519'), ('human', 'Aldonza Martínez de Silva'), ('bdate', 'nodeID://b325171')]\n",
      "[('s', 'http://www.wikidata.org/entity/Q4285745'), ('human', 'Mahmud Tarabi'), ('bdate', 'nodeID://b272909')]\n",
      "[('s', 'http://www.wikidata.org/entity/Q11265554'), ('human', 'I Noi wang'), ('bdate', 'nodeID://b326627')]\n",
      "[('s', 'http://www.wikidata.org/entity/Q2881314'), ('human', 'Echo'), ('bdate', 'nodeID://b324033')]\n",
      "[('s', 'http://www.wikidata.org/entity/Q6378167'), ('human', 'Katsunuma Nobutomo'), ('bdate', 'nodeID://b325431')]\n",
      "5\n"
     ]
    }
   ],
   "source": [
    "#Let's try the Filter function on this date format\n",
    "\n",
    "queryString = \"\"\"\n",
    "SELECT ?s ?human ?bdate\n",
    "WHERE {\n",
    "   ?s wdt:P31 wd:Q5; #a Human\n",
    "      wdt:P569 ?bdate. #dateofbirth\n",
    "      \n",
    "      ?s sc:name ?human.\n",
    "      FILTER(?bdate < \"1000-01-01T00:00:00Z\")\n",
    "}\n",
    "LIMIT 5\n",
    "\"\"\"\n",
    "\n",
    "print(\"Results\")\n",
    "x=run_query(queryString)"
   ]
  },
  {
   "cell_type": "code",
   "execution_count": 14,
   "id": "3e8cf2aa-706b-487f-bee5-5d0147990195",
   "metadata": {},
   "outputs": [
    {
     "name": "stdout",
     "output_type": "stream",
     "text": [
      "Results\n",
      "[('s', 'http://www.wikidata.org/entity/Q1280296'), ('human', 'Deng Yu'), ('bdate', '0002-01-01T00:00:00Z')]\n",
      "[('s', 'http://www.wikidata.org/entity/Q16078406'), ('human', 'Deng Xun'), ('bdate', '0050-01-01T00:00:00Z')]\n",
      "[('s', 'http://www.wikidata.org/entity/Q167480'), ('human', 'Empress Deng Sui'), ('bdate', '0081-01-01T00:00:00Z')]\n",
      "[('s', 'http://www.wikidata.org/entity/Q12506564'), ('human', 'Pseudo-Apollodorus'), ('bdate', '0050-01-01T00:00:00Z')]\n",
      "[('s', 'http://www.wikidata.org/entity/Q193800'), ('human', 'Juvenal'), ('bdate', '0055-01-01T00:00:00Z')]\n",
      "5\n"
     ]
    }
   ],
   "source": [
    "#birthdates are not printing and filters are wrong (manual verification), let's convert it to xsd:dateTime\n",
    "\n",
    "queryString = \"\"\"\n",
    "SELECT ?s ?human ?bdate\n",
    "WHERE {\n",
    "   ?s wdt:P31 wd:Q5; #a Human\n",
    "      wdt:P569 ?bdate; #dateofbirth\n",
    "      \n",
    "      sc:name ?human.\n",
    "      FILTER(?bdate < \"1000-01-01T00:00:00Z\"^^xsd:dateTime)\n",
    "}\n",
    "LIMIT 5\n",
    "\"\"\"\n",
    "\n",
    "print(\"Results\")\n",
    "x=run_query(queryString)"
   ]
  },
  {
   "cell_type": "code",
   "execution_count": 15,
   "id": "e4058c3c-4d95-4bb5-aef9-5a1b3723602f",
   "metadata": {},
   "outputs": [
    {
     "name": "stdout",
     "output_type": "stream",
     "text": [
      "Results\n",
      "[('child', 'http://www.wikidata.org/entity/Q122426'), ('Cname', 'Henutsen')]\n",
      "[('child', 'http://www.wikidata.org/entity/Q161904'), ('Cname', 'Khufu')]\n",
      "[('child', 'http://www.wikidata.org/entity/Q387014'), ('Cname', 'Ankhhaf')]\n",
      "[('child', 'http://www.wikidata.org/entity/Q453219'), ('Cname', 'Nefertkau I')]\n",
      "[('child', 'http://www.wikidata.org/entity/Q464954'), ('Cname', 'Meritites I')]\n",
      "[('child', 'http://www.wikidata.org/entity/Q471584'), ('Cname', 'Nefermaat')]\n",
      "[('child', 'http://www.wikidata.org/entity/Q7244639'), ('Cname', 'Princess Hetepheres')]\n",
      "[('child', 'http://www.wikidata.org/entity/Q746710'), ('Cname', 'Prince Rahotep')]\n",
      "[('child', 'http://www.wikidata.org/entity/Q760610'), ('Cname', 'Ranefer')]\n",
      "[('child', 'http://www.wikidata.org/entity/Q760621'), ('Cname', 'Kanefer')]\n",
      "[('child', 'http://www.wikidata.org/entity/Q6987026'), ('Cname', 'Nefertnesu')]\n",
      "[('child', 'http://www.wikidata.org/entity/Q13638694'), ('Cname', 'Iynefer I')]\n",
      "[('child', 'http://www.wikidata.org/entity/Q760604'), ('Cname', 'Netjeraperef')]\n",
      "13\n"
     ]
    }
   ],
   "source": [
    "#We now know how to handle birth dates, let's check now if the pharaoh comissioner has some child with the property we found\n",
    "\n",
    "queryString = \"\"\"\n",
    "SELECT ?child ?Cname\n",
    "WHERE {\n",
    "   wd:Q189371 wdt:P40 ?child. #Sneferu hasChild\n",
    "   ?child sc:name ?Cname\n",
    "}\n",
    "LIMIT 50\n",
    "\"\"\"\n",
    "\n",
    "print(\"Results\")\n",
    "x=run_query(queryString)"
   ]
  },
  {
   "cell_type": "code",
   "execution_count": 16,
   "id": "cad6d1c2-50a2-4d4b-972c-61dec502030a",
   "metadata": {},
   "outputs": [
    {
     "name": "stdout",
     "output_type": "stream",
     "text": [
      "Results\n",
      "[('pharaoh', 'http://www.wikidata.org/entity/Q4009'), ('Pname', 'Ramesses IX'), ('bdate', '-1150-01-01T00:00:00Z'), ('count', '2')]\n",
      "[('pharaoh', 'http://www.wikidata.org/entity/Q158043'), ('Pname', 'Merneptah'), ('bdate', '-1300-01-01T00:00:00Z'), ('count', '4')]\n",
      "[('pharaoh', 'http://www.wikidata.org/entity/Q444965'), ('Pname', 'Pinedjem I'), ('bdate', '-1200-01-01T00:00:00Z'), ('count', '8')]\n",
      "[('pharaoh', 'http://www.wikidata.org/entity/Q42606'), ('Pname', 'Amenhotep III'), ('bdate', '-1403-01-01T00:00:00Z'), ('count', '10')]\n",
      "[('pharaoh', 'http://www.wikidata.org/entity/Q313121'), ('Pname', 'Ramesses XI'), ('bdate', '-1200-01-01T00:00:00Z'), ('count', '3')]\n",
      "[('pharaoh', 'http://www.wikidata.org/entity/Q705367'), ('Pname', 'Menkheperre'), ('bdate', '-1100-01-01T00:00:00Z'), ('count', '6')]\n",
      "[('pharaoh', 'http://www.wikidata.org/entity/Q153344'), ('Pname', 'Meritaten'), ('bdate', '-1400-01-01T00:00:00Z'), ('count', '1')]\n",
      "[('pharaoh', 'http://www.wikidata.org/entity/Q40930'), ('Pname', 'Nefertiti'), ('bdate', '-1400-01-01T00:00:00Z'), ('count', '6')]\n",
      "[('pharaoh', 'http://www.wikidata.org/entity/Q558433'), ('Pname', 'Herihor'), ('bdate', '-1200-01-01T00:00:00Z'), ('count', '1')]\n",
      "[('pharaoh', 'http://www.wikidata.org/entity/Q462448'), ('Pname', 'Amenemope'), ('bdate', '-1001-01-01T00:00:00Z'), ('count', '1')]\n",
      "[('pharaoh', 'http://www.wikidata.org/entity/Q146029'), ('Pname', 'Ay'), ('bdate', '-1400-01-01T00:00:00Z'), ('count', '2')]\n",
      "[('pharaoh', 'http://www.wikidata.org/entity/Q152230'), ('Pname', 'Tiye'), ('bdate', '-1397-01-01T00:00:00Z'), ('count', '9')]\n",
      "[('pharaoh', 'http://www.wikidata.org/entity/Q157918'), ('Pname', 'Seti I'), ('bdate', '-1322-01-01T00:00:00Z'), ('count', '5')]\n",
      "[('pharaoh', 'http://www.wikidata.org/entity/Q1523'), ('Pname', 'Ramesses II'), ('bdate', '-1302-01-01T00:00:00Z'), ('count', '18')]\n",
      "[('pharaoh', 'http://www.wikidata.org/entity/Q380676'), ('Pname', 'Psusennes I'), ('bdate', '-1100-01-01T00:00:00Z'), ('count', '1')]\n",
      "[('pharaoh', 'http://www.wikidata.org/entity/Q4026'), ('Pname', 'Ramesses X'), ('bdate', '-1150-01-01T00:00:00Z'), ('count', '1')]\n",
      "[('pharaoh', 'http://www.wikidata.org/entity/Q157899'), ('Pname', 'Thutmose III'), ('bdate', '-1480-01-01T00:00:00Z'), ('count', '8')]\n",
      "[('pharaoh', 'http://www.wikidata.org/entity/Q165989'), ('Pname', 'Psusennes II'), ('bdate', '-1100-01-01T00:00:00Z'), ('count', '1')]\n",
      "[('pharaoh', 'http://www.wikidata.org/entity/Q158052'), ('Pname', 'Amenhotep II'), ('bdate', '-1401-01-01T00:00:00Z'), ('count', '8')]\n",
      "[('pharaoh', 'http://www.wikidata.org/entity/Q158065'), ('Pname', 'Amenmesse'), ('bdate', '-1250-01-01T00:00:00Z'), ('count', '1')]\n",
      "[('pharaoh', 'http://www.wikidata.org/entity/Q1528'), ('Pname', 'Ramesses III'), ('bdate', '-1216-01-01T00:00:00Z'), ('count', '10')]\n",
      "[('pharaoh', 'http://www.wikidata.org/entity/Q1526'), ('Pname', 'Ramesses I'), ('bdate', '-1300-01-01T00:00:00Z'), ('count', '1')]\n",
      "[('pharaoh', 'http://www.wikidata.org/entity/Q312402'), ('Pname', 'Setnakhte'), ('bdate', '-1300-01-01T00:00:00Z'), ('count', '2')]\n",
      "[('pharaoh', 'http://www.wikidata.org/entity/Q12154'), ('Pname', 'Tutankhamon'), ('bdate', '-1340-01-01T00:00:00Z'), ('count', '2')]\n",
      "[('pharaoh', 'http://www.wikidata.org/entity/Q336395'), ('Pname', 'Smendes'), ('bdate', '-1200-01-01T00:00:00Z'), ('count', '1')]\n",
      "[('pharaoh', 'http://www.wikidata.org/entity/Q1532'), ('Pname', 'Ramesses IV'), ('bdate', '-1200-01-01T00:00:00Z'), ('count', '1')]\n",
      "[('pharaoh', 'http://www.wikidata.org/entity/Q158003'), ('Pname', 'Smenkhkare'), ('bdate', '-1400-01-01T00:00:00Z'), ('count', '1')]\n",
      "[('pharaoh', 'http://www.wikidata.org/entity/Q81794'), ('Pname', 'Akhenaten'), ('bdate', '-1400-01-01T00:00:00Z'), ('count', '9')]\n",
      "[('pharaoh', 'http://www.wikidata.org/entity/Q5167'), ('Pname', 'Ramesses VI'), ('bdate', '-1175-01-01T00:00:00Z'), ('count', '3')]\n",
      "29\n"
     ]
    }
   ],
   "source": [
    "#Try #1 with all the collected above info: in order: ?s a pharaoh, ?s from Ancient Egypt, ?s has ?children, ?s has ?bdate\n",
    "#result should be Pharao URI / Pharao name / #Children but i keep bdate for now to check results\n",
    "\n",
    "queryString = \"\"\"\n",
    "SELECT DISTINCT ?pharaoh ?Pname ?bdate count(?children) as ?count\n",
    "WHERE {\n",
    "  ?pharaoh wdt:P39 wd:Q37110; #PositionHeld Pharaoh\n",
    "           wdt:P27 wd:Q11768; #Nationality AncientEgypt\n",
    "           wdt:P40 ?children; #hasChild\n",
    "           wdt:P569 ?bdate; #dateofbirth\n",
    "           \n",
    "           sc:name ?Pname.\n",
    "           \n",
    "    FILTER(?bdate > \"-1500-01-01T00:00:00Z\"^^xsd:dateTime && ?bdate < \"-1000-01-01T00:00:00Z\"^^xsd:dateTime).\n",
    "}\n",
    "LIMIT 50\n",
    "\"\"\"\n",
    "\n",
    "print(\"Results\")\n",
    "x=run_query(queryString)\n",
    "\n",
    "#Dates ok"
   ]
  },
  {
   "cell_type": "code",
   "execution_count": 17,
   "id": "92ba60d4-dbd7-4229-a093-fd0ba94c60ee",
   "metadata": {},
   "outputs": [
    {
     "name": "stdout",
     "output_type": "stream",
     "text": [
      "Results\n",
      "[('pharaoh', 'http://www.wikidata.org/entity/Q81794')]\n",
      "[('pharaoh', 'http://www.wikidata.org/entity/Q42606')]\n",
      "[('pharaoh', 'http://www.wikidata.org/entity/Q1528')]\n",
      "[('pharaoh', 'http://www.wikidata.org/entity/Q152230')]\n",
      "[('pharaoh', 'http://www.wikidata.org/entity/Q1523')]\n",
      "5\n"
     ]
    }
   ],
   "source": [
    "#Query working but not required result format \n",
    "\n",
    "queryString = \"\"\"\n",
    "SELECT ?pharaoh \n",
    "WHERE {\n",
    "  ?pharaoh wdt:P39 wd:Q37110; #PositionHeld Pharaoh\n",
    "           wdt:P27 wd:Q11768; #Nationality AncientEgypt\n",
    "           wdt:P40 ?children; #hasChild\n",
    "           wdt:P569 ?bdate; #dateofbirth\n",
    "           \n",
    "           sc:name ?Pname.   \n",
    "           FILTER(?bdate > \"-1500-01-01T00:00:00Z\"^^xsd:dateTime && ?bdate < \"-1000-01-01T00:00:00Z\"^^xsd:dateTime).\n",
    "\n",
    "           }\n",
    "GROUP BY ?pharaoh \n",
    "HAVING (count(?children) > 8)\n",
    "LIMIT 50\n",
    "\"\"\"\n",
    "\n",
    "print(\"Results\")\n",
    "x=run_query(queryString)"
   ]
  },
  {
   "cell_type": "code",
   "execution_count": 18,
   "id": "3e39ea1d-83f9-42f8-9eba-8e36f6419e81",
   "metadata": {},
   "outputs": [
    {
     "name": "stdout",
     "output_type": "stream",
     "text": [
      "Results\n",
      "[('pharaoh', 'http://www.wikidata.org/entity/Q1528'), ('Pname', 'Ramesses III'), ('count', '10')]\n",
      "[('pharaoh', 'http://www.wikidata.org/entity/Q1523'), ('Pname', 'Ramesses II'), ('count', '18')]\n",
      "[('pharaoh', 'http://www.wikidata.org/entity/Q42606'), ('Pname', 'Amenhotep III'), ('count', '10')]\n",
      "[('pharaoh', 'http://www.wikidata.org/entity/Q152230'), ('Pname', 'Tiye'), ('count', '9')]\n",
      "[('pharaoh', 'http://www.wikidata.org/entity/Q81794'), ('Pname', 'Akhenaten'), ('count', '9')]\n",
      "5\n"
     ]
    }
   ],
   "source": [
    "queryString = \"\"\"\n",
    "SELECT DISTINCT ?pharaoh ?Pname (count(?pharaoh) as ?count)\n",
    "WHERE {\n",
    "  ?pharaoh wdt:P39 wd:Q37110; #PositionHeld Pharaoh\n",
    "           wdt:P27 wd:Q11768; #Nationality AncientEgypt\n",
    "           wdt:P40 ?children; #hasChild\n",
    "           wdt:P569 ?bdate; #dateofbirth\n",
    "           \n",
    "           sc:name ?Pname.\n",
    "           \n",
    "    FILTER(?bdate > \"-1500-01-01T00:00:00Z\"^^xsd:dateTime && ?bdate < \"-1000-01-01T00:00:00Z\"^^xsd:dateTime).\n",
    "}\n",
    "GROUP BY ?pharaoh ?Pname\n",
    "HAVING(COUNT(?children) > 8)\n",
    "LIMIT 50\n",
    "\"\"\"\n",
    "\n",
    "print(\"Results\")\n",
    "x=run_query(queryString)"
   ]
  },
  {
   "cell_type": "markdown",
   "id": "034b24ef",
   "metadata": {},
   "source": [
    "Final query for this task"
   ]
  },
  {
   "cell_type": "code",
   "execution_count": 19,
   "id": "324fa38b",
   "metadata": {},
   "outputs": [
    {
     "name": "stdout",
     "output_type": "stream",
     "text": [
      "Results\n",
      "[('pharaoh', 'http://www.wikidata.org/entity/Q1528'), ('Pname', 'Ramesses III'), ('count', '10')]\n",
      "[('pharaoh', 'http://www.wikidata.org/entity/Q1523'), ('Pname', 'Ramesses II'), ('count', '18')]\n",
      "[('pharaoh', 'http://www.wikidata.org/entity/Q42606'), ('Pname', 'Amenhotep III'), ('count', '10')]\n",
      "[('pharaoh', 'http://www.wikidata.org/entity/Q152230'), ('Pname', 'Tiye'), ('count', '9')]\n",
      "[('pharaoh', 'http://www.wikidata.org/entity/Q81794'), ('Pname', 'Akhenaten'), ('count', '9')]\n",
      "5\n"
     ]
    }
   ],
   "source": [
    "# Final query \n",
    "\n",
    "queryString = \"\"\"\n",
    "SELECT DISTINCT ?pharaoh ?Pname (count(?pharaoh) as ?count)\n",
    "WHERE {\n",
    "  ?pharaoh wdt:P39 wd:Q37110; #PositionHeld Pharaoh\n",
    "           wdt:P27 wd:Q11768; #Nationality AncientEgypt\n",
    "           wdt:P40 ?children; #hasChild\n",
    "           wdt:P569 ?bdate; #dateofbirth\n",
    "           \n",
    "           sc:name ?Pname.\n",
    "           \n",
    "    FILTER(?bdate > \"-1500-01-01T00:00:00Z\"^^xsd:dateTime && ?bdate < \"-1000-01-01T00:00:00Z\"^^xsd:dateTime).\n",
    "}\n",
    "GROUP BY ?pharaoh ?Pname\n",
    "HAVING(COUNT(?children) > 8)\n",
    "LIMIT 50\n",
    "\"\"\"\n",
    "\n",
    "print(\"Results\")\n",
    "x=run_query(queryString)"
   ]
  },
  {
   "cell_type": "markdown",
   "id": "bc7e8ea8",
   "metadata": {
    "tags": []
   },
   "source": [
    "## Task 3\n",
    "Find all the ancient civilizations. Return the IRI and name of the civilization and also their duration (in number of years) if it is available."
   ]
  },
  {
   "cell_type": "code",
   "execution_count": 20,
   "id": "08986dda-0d16-4ef2-a155-c1e1b437eedd",
   "metadata": {},
   "outputs": [
    {
     "name": "stdout",
     "output_type": "stream",
     "text": [
      "Results\n",
      "[('Period', 'http://www.wikidata.org/entity/Q28171280'), ('PeriodType', 'ancient civilization')]\n",
      "[('Period', 'http://www.wikidata.org/entity/Q3024240'), ('PeriodType', 'historical country')]\n",
      "[('Period', 'http://www.wikidata.org/entity/Q3502482'), ('PeriodType', 'cultural region')]\n",
      "[('Period', 'http://www.wikidata.org/entity/Q1620908'), ('PeriodType', 'historical region')]\n",
      "4\n"
     ]
    }
   ],
   "source": [
    "#Let's check what Ancient Egypt is instance of (thanks to the BGP found in task 1)\n",
    "\n",
    "queryString = \"\"\"\n",
    "SELECT DISTINCT ?Period ?PeriodType\n",
    "WHERE {\n",
    "   wd:Q11768 wdt:P31 ?Period. #AncientEgypt a\n",
    "\n",
    "   ?Period sc:name ?PeriodType.\n",
    "}\n",
    "\"\"\"\n",
    "\n",
    "print(\"Results\")\n",
    "x=run_query(queryString)"
   ]
  },
  {
   "cell_type": "code",
   "execution_count": 21,
   "id": "ba0e3d5e-36c5-454b-9b3e-4efb00947280",
   "metadata": {},
   "outputs": [
    {
     "name": "stdout",
     "output_type": "stream",
     "text": [
      "Results\n",
      "[('s', 'http://www.wikidata.org/entity/Q35355'), ('CountryName', 'Sumer')]\n",
      "[('s', 'http://www.wikidata.org/entity/Q25558247'), ('CountryName', 'Chinese civilization')]\n",
      "[('s', 'http://www.wikidata.org/entity/Q38060'), ('CountryName', 'Gaul')]\n",
      "[('s', 'http://www.wikidata.org/entity/Q134178'), ('CountryName', 'Minoan civilization')]\n",
      "[('s', 'http://www.wikidata.org/entity/Q173082'), ('CountryName', 'Dacia')]\n",
      "[('s', 'http://www.wikidata.org/entity/Q2429397'), ('CountryName', 'Ancient Carthage')]\n",
      "[('s', 'http://www.wikidata.org/entity/Q3327860'), ('CountryName', 'Celtic kingdom of Ireland')]\n",
      "[('s', 'http://www.wikidata.org/entity/Q193748'), ('CountryName', 'history of ancient Israel and Judah')]\n",
      "[('s', 'http://www.wikidata.org/entity/Q11768'), ('CountryName', 'Ancient Egypt')]\n",
      "[('s', 'http://www.wikidata.org/entity/Q11772'), ('CountryName', 'Ancient Greece')]\n",
      "[('s', 'http://www.wikidata.org/entity/Q41741'), ('CountryName', 'Thrace')]\n",
      "[('s', 'http://www.wikidata.org/entity/Q128904'), ('CountryName', 'Elam')]\n",
      "[('s', 'http://www.wikidata.org/entity/Q185068'), ('CountryName', 'Urartu')]\n",
      "[('s', 'http://www.wikidata.org/entity/Q32047'), ('CountryName', 'Illyria')]\n",
      "[('s', 'http://www.wikidata.org/entity/Q28567'), ('CountryName', 'Maya civilization')]\n",
      "[('s', 'http://www.wikidata.org/entity/Q11767'), ('CountryName', 'Mesopotamia')]\n",
      "[('s', 'http://www.wikidata.org/entity/Q8735'), ('CountryName', 'Medes')]\n",
      "[('s', 'http://www.wikidata.org/entity/Q1364601'), ('CountryName', 'Gallo-Roman culture')]\n",
      "[('s', 'http://www.wikidata.org/entity/Q42534'), ('CountryName', 'Indus Valley Civilization')]\n",
      "[('s', 'http://www.wikidata.org/entity/Q28405'), ('CountryName', 'Gojoseon')]\n",
      "[('s', 'http://www.wikidata.org/entity/Q244762'), ('CountryName', 'Mari')]\n",
      "[('s', 'http://www.wikidata.org/entity/Q768212'), ('CountryName', 'Turco-Mongol')]\n",
      "[('s', 'http://www.wikidata.org/entity/Q1551054'), ('CountryName', 'Israelite period')]\n",
      "[('s', 'http://www.wikidata.org/entity/Q4752820'), ('CountryName', 'Ancient Crete')]\n",
      "[('s', 'http://www.wikidata.org/entity/Q99304188'), ('CountryName', 'Thracian')]\n",
      "25\n"
     ]
    }
   ],
   "source": [
    "#We obtained the ancient civilization URI, we can get its instances :\n",
    "\n",
    "queryString = \"\"\"\n",
    "SELECT DISTINCT ?s ?CountryName\n",
    "WHERE {\n",
    "   ?s wdt:P31 wd:Q28171280 . #a ancientCivilization\n",
    "   \n",
    "   ?s sc:name ?CountryName.\n",
    "}\n",
    "LIMIT 50\n",
    "\"\"\"\n",
    "\n",
    "print(\"Results\")\n",
    "x=run_query(queryString)"
   ]
  },
  {
   "cell_type": "code",
   "execution_count": 22,
   "id": "b49089d9-904c-4691-a8fd-beb9250bfb7b",
   "metadata": {},
   "outputs": [
    {
     "name": "stdout",
     "output_type": "stream",
     "text": [
      "Results\n",
      "[('obj', 'http://www.wikidata.org/entity/Q8432'), ('Oname', 'civilization')]\n",
      "1\n"
     ]
    }
   ],
   "source": [
    "#We are required to have their duration, let's if we have them (lloking at related obj/prop)\n",
    "\n",
    "queryString = \"\"\"\n",
    "SELECT DISTINCT ?obj ?Oname\n",
    "WHERE {\n",
    "   wd:Q28171280 ?p ?obj. #AncientCivilization\n",
    "\n",
    "   ?p sc:name ?Pname.\n",
    "   ?obj sc:name ?Oname.\n",
    "\n",
    "}\n",
    "LIMIT 50\n",
    "\"\"\"\n",
    "\n",
    "print(\"Results\")\n",
    "x=run_query(queryString)"
   ]
  },
  {
   "cell_type": "code",
   "execution_count": 23,
   "id": "e96f4554-7a7e-409f-81f7-e1691bcc45f8",
   "metadata": {},
   "outputs": [
    {
     "name": "stdout",
     "output_type": "stream",
     "text": [
      "Results\n",
      "[('obj', 'http://www.wikidata.org/entity/Q8425'), ('Oname', 'society')]\n",
      "[('obj', 'http://www.wikidata.org/entity/Q2041543'), ('Oname', 'Ottův slovník naučný')]\n",
      "[('obj', 'http://www.wikidata.org/entity/Q5460604'), ('Oname', 'Wikipedia:Vital articles')]\n",
      "[('obj', 'http://www.wikidata.org/entity/Q1868663'), ('Oname', 'Civilization')]\n",
      "[('obj', 'http://www.wikidata.org/entity/Q1156970'), ('Oname', 'humanity')]\n",
      "[('obj', 'http://www.wikidata.org/entity/Q83781188'), ('Oname', 'primitive culture')]\n",
      "[('obj', 'http://www.wikidata.org/entity/Q6576454'), ('Oname', 'Category:Civilizations')]\n",
      "[('obj', 'http://www.wikidata.org/entity/Q8036557'), ('Oname', 'world community')]\n",
      "8\n"
     ]
    }
   ],
   "source": [
    "#Same as above but for the \"civilization\" object (related obj)\n",
    "\n",
    "queryString = \"\"\"\n",
    "SELECT DISTINCT ?obj ?Oname\n",
    "WHERE {\n",
    "   wd:Q8432 ?p ?obj. #Civilization\n",
    "\n",
    "   ?obj sc:name ?Oname.\n",
    "\n",
    "}\n",
    "LIMIT 50\n",
    "\"\"\"\n",
    "\n",
    "print(\"Results\")\n",
    "x=run_query(queryString)"
   ]
  },
  {
   "cell_type": "code",
   "execution_count": 24,
   "id": "94f3fec8-35d5-4e05-aff7-cf89fb64a2d1",
   "metadata": {},
   "outputs": [
    {
     "name": "stdout",
     "output_type": "stream",
     "text": [
      "Results\n",
      "[('obj', 'http://www.wikidata.org/entity/Q28864179'), ('Oname', 'proposed country')]\n",
      "[('obj', 'http://www.wikidata.org/entity/Q19953632'), ('Oname', 'former administrative territorial entity')]\n",
      "[('obj', 'http://www.wikidata.org/entity/P580'), ('Oname', 'start time')]\n",
      "[('obj', 'http://www.wikidata.org/entity/P582'), ('Oname', 'end time')]\n",
      "[('obj', 'http://www.wikidata.org/entity/P576'), ('Oname', 'dissolved, abolished or demolished date')]\n",
      "[('obj', 'http://www.wikidata.org/entity/P17'), ('Oname', 'country')]\n",
      "[('obj', 'http://www.wikidata.org/entity/P571'), ('Oname', 'inception')]\n",
      "[('obj', 'http://www.wikidata.org/entity/P36'), ('Oname', 'capital')]\n",
      "[('obj', 'http://www.wikidata.org/entity/P1365'), ('Oname', 'replaces')]\n",
      "[('obj', 'http://www.wikidata.org/entity/P1366'), ('Oname', 'replaced by')]\n",
      "[('obj', 'http://www.wikidata.org/entity/P3842'), ('Oname', 'located in present-day administrative territorial entity')]\n",
      "[('obj', 'http://www.wikidata.org/entity/Q6036853'), ('Oname', 'Template:Infobox former country')]\n",
      "[('obj', 'http://www.wikidata.org/entity/Q7238252'), ('Oname', 'Category:Former countries')]\n",
      "[('obj', 'http://www.wikidata.org/entity/Q96196009'), ('Oname', 'state (former or current)')]\n",
      "14\n"
     ]
    }
   ],
   "source": [
    "#Let's do the same check check for historical country\n",
    "\n",
    "queryString = \"\"\"\n",
    "SELECT DISTINCT ?obj ?Oname\n",
    "WHERE {\n",
    "   wd:Q3024240 ?p ?obj. #HistoricalCountry\n",
    "\n",
    "   ?obj sc:name ?Oname.\n",
    "\n",
    "}\n",
    "LIMIT 50\n",
    "\"\"\"\n",
    "\n",
    "print(\"Results\")\n",
    "x=run_query(queryString)"
   ]
  },
  {
   "cell_type": "code",
   "execution_count": 25,
   "id": "54f711f5-1b9a-4e5c-9fa3-a505fdc680fb",
   "metadata": {},
   "outputs": [
    {
     "name": "stdout",
     "output_type": "stream",
     "text": [
      "Results\n",
      "[('start', '-4000-01-01T00:00:00Z'), ('end', '0395-01-01T00:00:00Z'), ('duration', '4395')]\n",
      "1\n"
     ]
    }
   ],
   "source": [
    "#We have start time and endtime, let's check the format for the individual AncientEgypt, and how we can get the duration\n",
    "\n",
    "queryString = \"\"\"\n",
    "SELECT DISTINCT ?start ?end (year(?end)-year(?start) as ?duration)\n",
    "WHERE {\n",
    "   wd:Q11768 wdt:P580 ?start; #AncientEgypt startTime\n",
    "             wdt:P582 ?end.\n",
    "             \n",
    "}\n",
    "\"\"\"\n",
    "\n",
    "print(\"Results\")\n",
    "x=run_query(queryString)"
   ]
  },
  {
   "cell_type": "code",
   "execution_count": 26,
   "id": "95a14812-1abe-4190-8ab6-565390e8fbcf",
   "metadata": {},
   "outputs": [
    {
     "name": "stdout",
     "output_type": "stream",
     "text": [
      "Results\n",
      "[('s', 'http://www.wikidata.org/entity/Q134178'), ('countryName', 'Minoan civilization'), ('start', '-3299-01-01T00:00:00Z'), ('end', '-1099-01-01T00:00:00Z')]\n",
      "[('s', 'http://www.wikidata.org/entity/Q134178'), ('countryName', 'Minoan civilization'), ('start', '-2000-01-01T00:00:00Z'), ('end', '-1099-01-01T00:00:00Z')]\n",
      "[('s', 'http://www.wikidata.org/entity/Q11768'), ('countryName', 'Ancient Egypt'), ('start', '-4000-01-01T00:00:00Z'), ('end', '0395-01-01T00:00:00Z')]\n",
      "[('s', 'http://www.wikidata.org/entity/Q11772'), ('countryName', 'Ancient Greece'), ('start', '-1200-01-01T00:00:00Z'), ('end', '0600-01-01T00:00:00Z')]\n",
      "[('s', 'http://www.wikidata.org/entity/Q42534'), ('countryName', 'Indus Valley Civilization'), ('start', '-2999-01-01T00:00:00Z'), ('end', '-1799-01-01T00:00:00Z')]\n",
      "[('s', 'http://www.wikidata.org/entity/Q1551054'), ('countryName', 'Israelite period'), ('start', '-1199-01-01T00:00:00Z'), ('end', '-585-01-01T00:00:00Z')]\n",
      "[('s', 'http://www.wikidata.org/entity/Q3327860'), ('countryName', 'Celtic kingdom of Ireland'), ('end', '1542-01-01T00:00:00Z')]\n",
      "[('s', 'http://www.wikidata.org/entity/Q35355'), ('countryName', 'Sumer')]\n",
      "[('s', 'http://www.wikidata.org/entity/Q25558247'), ('countryName', 'Chinese civilization')]\n",
      "[('s', 'http://www.wikidata.org/entity/Q38060'), ('countryName', 'Gaul')]\n",
      "[('s', 'http://www.wikidata.org/entity/Q173082'), ('countryName', 'Dacia')]\n",
      "[('s', 'http://www.wikidata.org/entity/Q2429397'), ('countryName', 'Ancient Carthage')]\n",
      "[('s', 'http://www.wikidata.org/entity/Q193748'), ('countryName', 'history of ancient Israel and Judah')]\n",
      "[('s', 'http://www.wikidata.org/entity/Q41741'), ('countryName', 'Thrace')]\n",
      "[('s', 'http://www.wikidata.org/entity/Q128904'), ('countryName', 'Elam')]\n",
      "[('s', 'http://www.wikidata.org/entity/Q185068'), ('countryName', 'Urartu')]\n",
      "[('s', 'http://www.wikidata.org/entity/Q32047'), ('countryName', 'Illyria')]\n",
      "[('s', 'http://www.wikidata.org/entity/Q28567'), ('countryName', 'Maya civilization')]\n",
      "[('s', 'http://www.wikidata.org/entity/Q11767'), ('countryName', 'Mesopotamia')]\n",
      "[('s', 'http://www.wikidata.org/entity/Q8735'), ('countryName', 'Medes')]\n",
      "[('s', 'http://www.wikidata.org/entity/Q1364601'), ('countryName', 'Gallo-Roman culture')]\n",
      "[('s', 'http://www.wikidata.org/entity/Q28405'), ('countryName', 'Gojoseon')]\n",
      "[('s', 'http://www.wikidata.org/entity/Q244762'), ('countryName', 'Mari')]\n",
      "[('s', 'http://www.wikidata.org/entity/Q768212'), ('countryName', 'Turco-Mongol')]\n",
      "[('s', 'http://www.wikidata.org/entity/Q4752820'), ('countryName', 'Ancient Crete')]\n",
      "[('s', 'http://www.wikidata.org/entity/Q99304188'), ('countryName', 'Thracian')]\n",
      "26\n"
     ]
    }
   ],
   "source": [
    "#Query with the optional applied on start and end :\n",
    "\n",
    "queryString = \"\"\"\n",
    "SELECT DISTINCT ?s ?countryName ?start ?end \n",
    "WHERE {\n",
    "    ?s wdt:P31 wd:Q28171280. #AncientCivilization\n",
    "    OPTIONAL { ?s wdt:P580 ?start }. #hasStart\n",
    "    OPTIONAL { ?s wdt:P582 ?end }. #hasEnd\n",
    "       \n",
    "    ?s sc:name ?countryName.\n",
    "}\n",
    "\"\"\"\n",
    "\n",
    "print(\"Results\")\n",
    "x=run_query(queryString)"
   ]
  },
  {
   "cell_type": "code",
   "execution_count": 27,
   "id": "44e2f367-177f-441d-a503-d1ea625db1ca",
   "metadata": {},
   "outputs": [
    {
     "name": "stdout",
     "output_type": "stream",
     "text": [
      "Results\n",
      "[('s', 'http://www.wikidata.org/entity/Q134178'), ('countryName', 'Minoan civilization'), ('duration', '2200')]\n",
      "[('s', 'http://www.wikidata.org/entity/Q134178'), ('countryName', 'Minoan civilization'), ('duration', '901')]\n",
      "[('s', 'http://www.wikidata.org/entity/Q11768'), ('countryName', 'Ancient Egypt'), ('duration', '4395')]\n",
      "[('s', 'http://www.wikidata.org/entity/Q11772'), ('countryName', 'Ancient Greece'), ('duration', '1800')]\n",
      "[('s', 'http://www.wikidata.org/entity/Q42534'), ('countryName', 'Indus Valley Civilization'), ('duration', '1200')]\n",
      "[('s', 'http://www.wikidata.org/entity/Q1551054'), ('countryName', 'Israelite period'), ('duration', '614')]\n",
      "[('s', 'http://www.wikidata.org/entity/Q3327860'), ('countryName', 'Celtic kingdom of Ireland')]\n",
      "[('s', 'http://www.wikidata.org/entity/Q35355'), ('countryName', 'Sumer')]\n",
      "[('s', 'http://www.wikidata.org/entity/Q25558247'), ('countryName', 'Chinese civilization')]\n",
      "[('s', 'http://www.wikidata.org/entity/Q38060'), ('countryName', 'Gaul')]\n",
      "[('s', 'http://www.wikidata.org/entity/Q173082'), ('countryName', 'Dacia')]\n",
      "[('s', 'http://www.wikidata.org/entity/Q2429397'), ('countryName', 'Ancient Carthage')]\n",
      "[('s', 'http://www.wikidata.org/entity/Q193748'), ('countryName', 'history of ancient Israel and Judah')]\n",
      "[('s', 'http://www.wikidata.org/entity/Q41741'), ('countryName', 'Thrace')]\n",
      "[('s', 'http://www.wikidata.org/entity/Q128904'), ('countryName', 'Elam')]\n",
      "[('s', 'http://www.wikidata.org/entity/Q185068'), ('countryName', 'Urartu')]\n",
      "[('s', 'http://www.wikidata.org/entity/Q32047'), ('countryName', 'Illyria')]\n",
      "[('s', 'http://www.wikidata.org/entity/Q28567'), ('countryName', 'Maya civilization')]\n",
      "[('s', 'http://www.wikidata.org/entity/Q11767'), ('countryName', 'Mesopotamia')]\n",
      "[('s', 'http://www.wikidata.org/entity/Q8735'), ('countryName', 'Medes')]\n",
      "[('s', 'http://www.wikidata.org/entity/Q1364601'), ('countryName', 'Gallo-Roman culture')]\n",
      "[('s', 'http://www.wikidata.org/entity/Q28405'), ('countryName', 'Gojoseon')]\n",
      "[('s', 'http://www.wikidata.org/entity/Q244762'), ('countryName', 'Mari')]\n",
      "[('s', 'http://www.wikidata.org/entity/Q768212'), ('countryName', 'Turco-Mongol')]\n",
      "[('s', 'http://www.wikidata.org/entity/Q4752820'), ('countryName', 'Ancient Crete')]\n",
      "[('s', 'http://www.wikidata.org/entity/Q99304188'), ('countryName', 'Thracian')]\n",
      "26\n"
     ]
    }
   ],
   "source": [
    "#For the final query, we need to check if start and end or bound, otherwise it throws an error (because we would be calculating duration on null values)\n",
    "#To do so, we need an if statement if(bool, do if bool=True, do if bool=False)\n",
    "\n",
    "queryString = \"\"\"\n",
    "SELECT DISTINCT ?s ?countryName (IF(BOUND(?end) && BOUND(?start), year(?end)-year(?start), ?null) as ?duration)\n",
    "WHERE {\n",
    "    ?s wdt:P31 wd:Q28171280. #AncientCivilization\n",
    "    OPTIONAL { ?s wdt:P580 ?start }. #hasStart\n",
    "    OPTIONAL { ?s wdt:P582 ?end }. #hasEnd\n",
    "       \n",
    "    ?s sc:name ?countryName.\n",
    "}\n",
    "\"\"\"\n",
    "\n",
    "print(\"Results\")\n",
    "x=run_query(queryString)\n",
    "#Note that Minoan civilization has 2 start dates in wikidata (is it an error?), so 2 rows are returned here"
   ]
  },
  {
   "cell_type": "markdown",
   "id": "ff150f35",
   "metadata": {},
   "source": [
    "Final query for this task"
   ]
  },
  {
   "cell_type": "code",
   "execution_count": 28,
   "id": "c53ee903",
   "metadata": {},
   "outputs": [
    {
     "name": "stdout",
     "output_type": "stream",
     "text": [
      "Results\n",
      "[('s', 'http://www.wikidata.org/entity/Q134178'), ('countryName', 'Minoan civilization'), ('duration', '2200')]\n",
      "[('s', 'http://www.wikidata.org/entity/Q134178'), ('countryName', 'Minoan civilization'), ('duration', '901')]\n",
      "[('s', 'http://www.wikidata.org/entity/Q11768'), ('countryName', 'Ancient Egypt'), ('duration', '4395')]\n",
      "[('s', 'http://www.wikidata.org/entity/Q11772'), ('countryName', 'Ancient Greece'), ('duration', '1800')]\n",
      "[('s', 'http://www.wikidata.org/entity/Q42534'), ('countryName', 'Indus Valley Civilization'), ('duration', '1200')]\n",
      "[('s', 'http://www.wikidata.org/entity/Q1551054'), ('countryName', 'Israelite period'), ('duration', '614')]\n",
      "[('s', 'http://www.wikidata.org/entity/Q3327860'), ('countryName', 'Celtic kingdom of Ireland')]\n",
      "[('s', 'http://www.wikidata.org/entity/Q35355'), ('countryName', 'Sumer')]\n",
      "[('s', 'http://www.wikidata.org/entity/Q25558247'), ('countryName', 'Chinese civilization')]\n",
      "[('s', 'http://www.wikidata.org/entity/Q38060'), ('countryName', 'Gaul')]\n",
      "[('s', 'http://www.wikidata.org/entity/Q173082'), ('countryName', 'Dacia')]\n",
      "[('s', 'http://www.wikidata.org/entity/Q2429397'), ('countryName', 'Ancient Carthage')]\n",
      "[('s', 'http://www.wikidata.org/entity/Q193748'), ('countryName', 'history of ancient Israel and Judah')]\n",
      "[('s', 'http://www.wikidata.org/entity/Q41741'), ('countryName', 'Thrace')]\n",
      "[('s', 'http://www.wikidata.org/entity/Q128904'), ('countryName', 'Elam')]\n",
      "[('s', 'http://www.wikidata.org/entity/Q185068'), ('countryName', 'Urartu')]\n",
      "[('s', 'http://www.wikidata.org/entity/Q32047'), ('countryName', 'Illyria')]\n",
      "[('s', 'http://www.wikidata.org/entity/Q28567'), ('countryName', 'Maya civilization')]\n",
      "[('s', 'http://www.wikidata.org/entity/Q11767'), ('countryName', 'Mesopotamia')]\n",
      "[('s', 'http://www.wikidata.org/entity/Q8735'), ('countryName', 'Medes')]\n",
      "[('s', 'http://www.wikidata.org/entity/Q1364601'), ('countryName', 'Gallo-Roman culture')]\n",
      "[('s', 'http://www.wikidata.org/entity/Q28405'), ('countryName', 'Gojoseon')]\n",
      "[('s', 'http://www.wikidata.org/entity/Q244762'), ('countryName', 'Mari')]\n",
      "[('s', 'http://www.wikidata.org/entity/Q768212'), ('countryName', 'Turco-Mongol')]\n",
      "[('s', 'http://www.wikidata.org/entity/Q4752820'), ('countryName', 'Ancient Crete')]\n",
      "[('s', 'http://www.wikidata.org/entity/Q99304188'), ('countryName', 'Thracian')]\n",
      "26\n"
     ]
    }
   ],
   "source": [
    "# Final query\n",
    "\n",
    "queryString = \"\"\"\n",
    "SELECT DISTINCT ?s ?countryName (IF(BOUND(?end) && BOUND(?start), year(?end)-year(?start), ?null) as ?duration)\n",
    "WHERE {\n",
    "    ?s wdt:P31 wd:Q28171280. #AncientCivilization\n",
    "    OPTIONAL { ?s wdt:P580 ?start }. #hasStart\n",
    "    OPTIONAL { ?s wdt:P582 ?end }. #hasEnd\n",
    "       \n",
    "    ?s sc:name ?countryName.\n",
    "}\n",
    "\"\"\"\n",
    "\n",
    "print(\"Results\")\n",
    "x=run_query(queryString)\n",
    "\n",
    "#Note that Minoan civilization has 2 start dates in wikidata (is it an error?), so 2 rows are returned here"
   ]
  },
  {
   "cell_type": "markdown",
   "id": "04d89926",
   "metadata": {
    "tags": []
   },
   "source": [
    "## Task 4\n",
    "Identify the BGP for archeologist."
   ]
  },
  {
   "cell_type": "code",
   "execution_count": 3,
   "id": "4e04a2bc-4779-47d6-91dc-1211999965fe",
   "metadata": {},
   "outputs": [
    {
     "name": "stdout",
     "output_type": "stream",
     "text": [
      "Results\n",
      "[('p', 'http://www.wikidata.org/prop/direct/P1343'), ('Pname', 'described by source'), ('obj', 'http://www.wikidata.org/entity/Q2657718'), ('Oname', 'Armenian Soviet Encyclopedia')]\n",
      "[('p', 'http://www.wikidata.org/prop/direct/P1269'), ('Pname', 'facet of'), ('obj', 'http://www.wikidata.org/entity/Q210272'), ('Oname', 'cultural heritage')]\n",
      "[('p', 'http://www.wikidata.org/prop/direct/P1343'), ('Pname', 'described by source'), ('obj', 'http://www.wikidata.org/entity/Q103892210'), ('Oname', 'Green Map Icons')]\n",
      "[('p', 'http://www.wikidata.org/prop/direct/P2579'), ('Pname', 'studied by'), ('obj', 'http://www.wikidata.org/entity/Q23498'), ('Oname', 'archaeology')]\n",
      "[('p', 'http://www.wikidata.org/prop/direct/P1687'), ('Pname', 'Wikidata property'), ('obj', 'http://www.wikidata.org/entity/P9047'), ('Oname', 'archaeological site of')]\n",
      "[('p', 'http://www.wikidata.org/prop/direct/P1424'), ('Pname', \"topic's main template\"), ('obj', 'http://www.wikidata.org/entity/Q11705134'), ('Oname', 'Template:Infobox ancient site')]\n",
      "[('p', 'http://www.wikidata.org/prop/direct/P1424'), ('Pname', \"topic's main template\"), ('obj', 'http://www.wikidata.org/entity/Q12857484'), ('Oname', 'Template:Infobox historic site')]\n",
      "[('p', 'http://www.wikidata.org/prop/direct/P279'), ('Pname', 'subclass of'), ('obj', 'http://www.wikidata.org/entity/Q1291195'), ('Oname', 'find spot')]\n",
      "[('p', 'http://www.wikidata.org/prop/direct/P6104'), ('Pname', 'maintained by WikiProject'), ('obj', 'http://www.wikidata.org/entity/Q60003595'), ('Oname', 'WikiProject Historical Place')]\n",
      "[('p', 'http://www.wikidata.org/prop/direct/P910'), ('Pname', \"topic's main category\"), ('obj', 'http://www.wikidata.org/entity/Q7215362'), ('Oname', 'Category:Archaeological sites')]\n",
      "[('p', 'http://www.wikidata.org/prop/direct/P279'), ('Pname', 'subclass of'), ('obj', 'http://www.wikidata.org/entity/Q15642541'), ('Oname', 'human-geographic territorial entity')]\n",
      "11\n"
     ]
    }
   ],
   "source": [
    "#In a query of task 1, we managed to find the archaeological site BGP : [('Otype', 'http://www.wikidata.org/entity/Q839954'), ('Oname', 'archaeological site')\n",
    "#Let's check the related properties\n",
    "\n",
    "queryString = \"\"\"\n",
    "SELECT DISTINCT ?p ?Pname ?obj ?Oname\n",
    "WHERE {\n",
    "   wd:Q839954 ?p ?obj. #ArchaeologicalSite\n",
    "\n",
    "   ?p sc:name ?Pname.\n",
    "   ?obj sc:name ?Oname.\n",
    "\n",
    "}\n",
    "LIMIT 50\n",
    "\"\"\"\n",
    "\n",
    "print(\"Results\")\n",
    "x=run_query(queryString)"
   ]
  },
  {
   "cell_type": "code",
   "execution_count": 39,
   "id": "def75c8d-290f-40a1-a786-7603ea537126",
   "metadata": {},
   "outputs": [
    {
     "name": "stdout",
     "output_type": "stream",
     "text": [
      "Results\n",
      "The history saving thread hit an unexpected error (OperationalError('attempt to write a readonly database')).History will not be written to the database.\n",
      "[('p', 'http://www.wikidata.org/prop/direct/P279'), ('Pname', 'subclass of'), ('obj', 'http://www.wikidata.org/entity/Q1066186'), ('Oname', 'study of history')]\n",
      "[('p', 'http://www.wikidata.org/prop/direct/P31'), ('Pname', 'instance of'), ('obj', 'http://www.wikidata.org/entity/Q11862829'), ('Oname', 'academic discipline')]\n",
      "[('p', 'http://www.wikidata.org/prop/direct/P1343'), ('Pname', 'described by source'), ('obj', 'http://www.wikidata.org/entity/Q19180675'), ('Oname', 'Small Brockhaus and Efron Encyclopedic Dictionary')]\n",
      "[('p', 'http://www.wikidata.org/prop/direct/P1343'), ('Pname', 'described by source'), ('obj', 'http://www.wikidata.org/entity/Q19211082'), ('Oname', 'Orthodox Theological Encyclopedia')]\n",
      "[('p', 'http://www.wikidata.org/prop/direct/P1343'), ('Pname', 'described by source'), ('obj', 'http://www.wikidata.org/entity/Q2657718'), ('Oname', 'Armenian Soviet Encyclopedia')]\n",
      "[('p', 'http://www.wikidata.org/prop/direct/P1343'), ('Pname', 'described by source'), ('obj', 'http://www.wikidata.org/entity/Q3181656'), ('Oname', 'The Nuttall Encyclopædia')]\n",
      "[('p', 'http://www.wikidata.org/prop/direct/P279'), ('Pname', 'subclass of'), ('obj', 'http://www.wikidata.org/entity/Q34749'), ('Oname', 'social science')]\n",
      "[('p', 'http://www.wikidata.org/prop/direct/P1343'), ('Pname', 'described by source'), ('obj', 'http://www.wikidata.org/entity/Q4114391'), ('Oname', 'Sytin Military Encyclopedia')]\n",
      "[('p', 'http://www.wikidata.org/prop/direct/P1343'), ('Pname', 'described by source'), ('obj', 'http://www.wikidata.org/entity/Q4173137'), ('Oname', 'Jewish Encyclopedia of Brockhaus and Efron')]\n",
      "[('p', 'http://www.wikidata.org/prop/direct/P31'), ('Pname', 'instance of'), ('obj', 'http://www.wikidata.org/entity/Q4671286'), ('Oname', 'academic major')]\n",
      "[('p', 'http://www.wikidata.org/prop/direct/P1343'), ('Pname', 'described by source'), ('obj', 'http://www.wikidata.org/entity/Q602358'), ('Oname', 'Brockhaus and Efron Encyclopedic Dictionary')]\n",
      "[('p', 'http://www.wikidata.org/prop/direct/P527'), ('Pname', 'has part'), ('obj', 'http://www.wikidata.org/entity/Q819121'), ('Oname', 'osteology')]\n",
      "[('p', 'http://www.wikidata.org/prop/direct/P2578'), ('Pname', 'studies'), ('obj', 'http://www.wikidata.org/entity/Q839954'), ('Oname', 'archaeological site')]\n",
      "[('p', 'http://www.wikidata.org/prop/direct/P3095'), ('Pname', 'practiced by'), ('obj', 'http://www.wikidata.org/entity/Q3621491'), ('Oname', 'archaeologist')]\n",
      "[('p', 'http://www.wikidata.org/prop/direct/P527'), ('Pname', 'has part'), ('obj', 'http://www.wikidata.org/entity/Q145903'), ('Oname', 'egyptology')]\n",
      "[('p', 'http://www.wikidata.org/prop/direct/P1343'), ('Pname', 'described by source'), ('obj', 'http://www.wikidata.org/entity/Q29551022'), ('Oname', 'Dictionnaire du patrimoine rennais')]\n",
      "[('p', 'http://www.wikidata.org/prop/direct/P910'), ('Pname', \"topic's main category\"), ('obj', 'http://www.wikidata.org/entity/Q7215366'), ('Oname', 'Category:Archaeology')]\n",
      "[('p', 'http://www.wikidata.org/prop/direct/P1889'), ('Pname', 'different from'), ('obj', 'http://www.wikidata.org/entity/Q21071559'), ('Oname', 'archology')]\n",
      "[('p', 'http://www.wikidata.org/prop/direct/P527'), ('Pname', 'has part'), ('obj', 'http://www.wikidata.org/entity/Q637284'), ('Oname', 'archaeological science')]\n",
      "[('p', 'http://www.wikidata.org/prop/direct/P1151'), ('Pname', \"topic's main Wikimedia portal\"), ('obj', 'http://www.wikidata.org/entity/Q7076022'), ('Oname', 'Portal:Archaeology')]\n",
      "[('p', 'http://www.wikidata.org/prop/direct/P2354'), ('Pname', 'has list'), ('obj', 'http://www.wikidata.org/entity/Q7112557'), ('Oname', 'outline of archaeology')]\n",
      "[('p', 'http://www.wikidata.org/prop/direct/P5125'), ('Pname', 'Wikimedia outline'), ('obj', 'http://www.wikidata.org/entity/Q7112557'), ('Oname', 'outline of archaeology')]\n",
      "22\n"
     ]
    }
   ],
   "source": [
    "#We see the property studied by bound to archaeology, let's see their properties/objects\n",
    "\n",
    "queryString = \"\"\"\n",
    "SELECT DISTINCT ?p ?Pname ?obj ?Oname\n",
    "WHERE {\n",
    "   wd:Q23498 ?p ?obj. #Archaeology\n",
    "\n",
    "   ?p sc:name ?Pname.\n",
    "   ?obj sc:name ?Oname.\n",
    "\n",
    "}\n",
    "LIMIT 50\n",
    "\"\"\"\n",
    "\n",
    "print(\"Results\")\n",
    "x=run_query(queryString)\n",
    "\n",
    "#We end up finding the BGP for archaeologist, bound to the property practiced by : ('obj', 'http://www.wikidata.org/entity/Q3621491'), ('Oname', 'archaeologist'))"
   ]
  },
  {
   "cell_type": "markdown",
   "id": "52fd18c7",
   "metadata": {},
   "source": [
    "Final query for this task"
   ]
  },
  {
   "cell_type": "code",
   "execution_count": 3,
   "id": "7325b3f9",
   "metadata": {},
   "outputs": [
    {
     "name": "stdout",
     "output_type": "stream",
     "text": [
      "Results\n",
      "[('obj', 'http://www.wikidata.org/entity/Q1066186'), ('Oname', 'study of history')]\n",
      "[('obj', 'http://www.wikidata.org/entity/Q11862829'), ('Oname', 'academic discipline')]\n",
      "[('obj', 'http://www.wikidata.org/entity/Q19180675'), ('Oname', 'Small Brockhaus and Efron Encyclopedic Dictionary')]\n",
      "[('obj', 'http://www.wikidata.org/entity/Q19211082'), ('Oname', 'Orthodox Theological Encyclopedia')]\n",
      "[('obj', 'http://www.wikidata.org/entity/Q2657718'), ('Oname', 'Armenian Soviet Encyclopedia')]\n",
      "[('obj', 'http://www.wikidata.org/entity/Q3181656'), ('Oname', 'The Nuttall Encyclopædia')]\n",
      "[('obj', 'http://www.wikidata.org/entity/Q34749'), ('Oname', 'social science')]\n",
      "[('obj', 'http://www.wikidata.org/entity/Q4114391'), ('Oname', 'Sytin Military Encyclopedia')]\n",
      "[('obj', 'http://www.wikidata.org/entity/Q4173137'), ('Oname', 'Jewish Encyclopedia of Brockhaus and Efron')]\n",
      "[('obj', 'http://www.wikidata.org/entity/Q4671286'), ('Oname', 'academic major')]\n",
      "[('obj', 'http://www.wikidata.org/entity/Q602358'), ('Oname', 'Brockhaus and Efron Encyclopedic Dictionary')]\n",
      "[('obj', 'http://www.wikidata.org/entity/Q819121'), ('Oname', 'osteology')]\n",
      "[('obj', 'http://www.wikidata.org/entity/Q839954'), ('Oname', 'archaeological site')]\n",
      "[('obj', 'http://www.wikidata.org/entity/Q3621491'), ('Oname', 'archaeologist')]\n",
      "[('obj', 'http://www.wikidata.org/entity/Q145903'), ('Oname', 'egyptology')]\n",
      "[('obj', 'http://www.wikidata.org/entity/Q29551022'), ('Oname', 'Dictionnaire du patrimoine rennais')]\n",
      "[('obj', 'http://www.wikidata.org/entity/Q7215366'), ('Oname', 'Category:Archaeology')]\n",
      "[('obj', 'http://www.wikidata.org/entity/Q21071559'), ('Oname', 'archology')]\n",
      "[('obj', 'http://www.wikidata.org/entity/Q637284'), ('Oname', 'archaeological science')]\n",
      "[('obj', 'http://www.wikidata.org/entity/Q7076022'), ('Oname', 'Portal:Archaeology')]\n",
      "[('obj', 'http://www.wikidata.org/entity/Q7112557'), ('Oname', 'outline of archaeology')]\n",
      "21\n"
     ]
    }
   ],
   "source": [
    "# Final query\n",
    "\n",
    "queryString = \"\"\"\n",
    "SELECT DISTINCT ?obj ?Oname\n",
    "WHERE {\n",
    "   wd:Q23498 ?p ?obj. #Archaeology\n",
    "   \n",
    "   ?obj sc:name ?Oname.\n",
    "}\n",
    "LIMIT 50\n",
    "\"\"\"\n",
    "\n",
    "print(\"Results\")\n",
    "x=run_query(queryString)\n",
    "\n",
    "# [('obj', 'http://www.wikidata.org/entity/Q3621491'), ('Oname', 'archaeologist')]"
   ]
  },
  {
   "cell_type": "markdown",
   "id": "f01ed8c6",
   "metadata": {
    "tags": []
   },
   "source": [
    "## Task 5\n",
    "For each ancient civilization find the number of archeologists who worked on it (return also the civilizations with no archeologists) (the result set must be triples of civilization IRI, label and #archeologist)."
   ]
  },
  {
   "cell_type": "code",
   "execution_count": 5,
   "id": "0d3cad0d",
   "metadata": {},
   "outputs": [
    {
     "name": "stdout",
     "output_type": "stream",
     "text": [
      "Results\n",
      "[('civ', 'http://www.wikidata.org/entity/Q35355'), ('CivName', 'Sumer')]\n",
      "[('civ', 'http://www.wikidata.org/entity/Q25558247'), ('CivName', 'Chinese civilization')]\n",
      "[('civ', 'http://www.wikidata.org/entity/Q38060'), ('CivName', 'Gaul')]\n",
      "[('civ', 'http://www.wikidata.org/entity/Q134178'), ('CivName', 'Minoan civilization')]\n",
      "[('civ', 'http://www.wikidata.org/entity/Q173082'), ('CivName', 'Dacia')]\n",
      "[('civ', 'http://www.wikidata.org/entity/Q2429397'), ('CivName', 'Ancient Carthage')]\n",
      "[('civ', 'http://www.wikidata.org/entity/Q3327860'), ('CivName', 'Celtic kingdom of Ireland')]\n",
      "[('civ', 'http://www.wikidata.org/entity/Q193748'), ('CivName', 'history of ancient Israel and Judah')]\n",
      "[('civ', 'http://www.wikidata.org/entity/Q11768'), ('CivName', 'Ancient Egypt')]\n",
      "[('civ', 'http://www.wikidata.org/entity/Q11772'), ('CivName', 'Ancient Greece')]\n",
      "[('civ', 'http://www.wikidata.org/entity/Q41741'), ('CivName', 'Thrace')]\n",
      "[('civ', 'http://www.wikidata.org/entity/Q128904'), ('CivName', 'Elam')]\n",
      "[('civ', 'http://www.wikidata.org/entity/Q185068'), ('CivName', 'Urartu')]\n",
      "[('civ', 'http://www.wikidata.org/entity/Q32047'), ('CivName', 'Illyria')]\n",
      "[('civ', 'http://www.wikidata.org/entity/Q28567'), ('CivName', 'Maya civilization')]\n",
      "[('civ', 'http://www.wikidata.org/entity/Q11767'), ('CivName', 'Mesopotamia')]\n",
      "[('civ', 'http://www.wikidata.org/entity/Q8735'), ('CivName', 'Medes')]\n",
      "[('civ', 'http://www.wikidata.org/entity/Q1364601'), ('CivName', 'Gallo-Roman culture')]\n",
      "[('civ', 'http://www.wikidata.org/entity/Q42534'), ('CivName', 'Indus Valley Civilization')]\n",
      "[('civ', 'http://www.wikidata.org/entity/Q28405'), ('CivName', 'Gojoseon')]\n",
      "[('civ', 'http://www.wikidata.org/entity/Q244762'), ('CivName', 'Mari')]\n",
      "[('civ', 'http://www.wikidata.org/entity/Q768212'), ('CivName', 'Turco-Mongol')]\n",
      "[('civ', 'http://www.wikidata.org/entity/Q1551054'), ('CivName', 'Israelite period')]\n",
      "[('civ', 'http://www.wikidata.org/entity/Q4752820'), ('CivName', 'Ancient Crete')]\n",
      "[('civ', 'http://www.wikidata.org/entity/Q99304188'), ('CivName', 'Thracian')]\n",
      "25\n"
     ]
    }
   ],
   "source": [
    "#Let's get back to our list of ancient civilizations\n",
    "\n",
    "queryString = \"\"\"\n",
    "SELECT DISTINCT ?civ ?CivName\n",
    "WHERE {\n",
    "   ?civ wdt:P31 wd:Q28171280 . #a ancientCivilization\n",
    "   \n",
    "   ?civ sc:name ?CivName.\n",
    "}\n",
    "LIMIT 50\n",
    "\"\"\"\n",
    "\n",
    "print(\"Results\")\n",
    "x=run_query(queryString)"
   ]
  },
  {
   "cell_type": "code",
   "execution_count": 17,
   "id": "c94cf1c7-2b93-4d00-8369-1a2c5e600873",
   "metadata": {},
   "outputs": [
    {
     "name": "stdout",
     "output_type": "stream",
     "text": [
      "Results\n",
      "[('natio', 'http://www.wikidata.org/entity/Q11768'), ('Nname', 'Ancient Egypt')]\n",
      "1\n"
     ]
    }
   ],
   "source": [
    "#Let's check if the nationality corresponds to the ancient civilization name, taking Sneferu pharaoh\n",
    "\n",
    "queryString = \"\"\"\n",
    "SELECT DISTINCT ?natio ?Nname\n",
    "WHERE { \n",
    "   wd:Q189371 wdt:P27 ?natio. #Sneferu nationality\n",
    "   \n",
    "   ?natio sc:name ?Nname.\n",
    "}\n",
    "LIMIT 50\n",
    "\"\"\"\n",
    "\n",
    "print(\"Results\")\n",
    "x=run_query(queryString)"
   ]
  },
  {
   "cell_type": "code",
   "execution_count": 43,
   "id": "542b8ada-1238-4613-a050-cb7509f2268f",
   "metadata": {},
   "outputs": [
    {
     "name": "stdout",
     "output_type": "stream",
     "text": [
      "Results\n",
      "Empty\n"
     ]
    }
   ],
   "source": [
    "#The property wdt:P106 is given in the beginning of the workflow, let's use it by assuming Ancient Egypt has at least one archaeologist and get their name/number :\n",
    "\n",
    "queryString = \"\"\"\n",
    "SELECT DISTINCT ?arch ?Aname\n",
    "WHERE { \n",
    "   ?arch wdt:P31 wd:Q5; #a human\n",
    "         wdt:P106 wd:Q3621491; #occupation archaeologist\n",
    "         wdt:P27 wd:Q11768. #natio AncientEgypt\n",
    "   \n",
    "   ?arch sc:name ?Aname.\n",
    "}\n",
    "LIMIT 10\n",
    "\"\"\"\n",
    "\n",
    "print(\"Results\")\n",
    "x=run_query(queryString)"
   ]
  },
  {
   "cell_type": "code",
   "execution_count": 44,
   "id": "c04b1eb7-ef1a-4ea9-ba13-9d1d6ab7703f",
   "metadata": {},
   "outputs": [
    {
     "name": "stdout",
     "output_type": "stream",
     "text": [
      "Results\n",
      "[('arch', 'http://www.wikidata.org/entity/Q1216110'), ('Aname', 'Nodjmet')]\n",
      "[('arch', 'http://www.wikidata.org/entity/Q151828'), ('Aname', 'Djet')]\n",
      "[('arch', 'http://www.wikidata.org/entity/Q152375'), ('Aname', 'Djer')]\n",
      "[('arch', 'http://www.wikidata.org/entity/Q19248'), ('Aname', 'Senusret III')]\n",
      "[('arch', 'http://www.wikidata.org/entity/Q263218'), ('Aname', 'Djedkhonsuefankh')]\n",
      "[('arch', 'http://www.wikidata.org/entity/Q269265'), ('Aname', 'Pepi I Meryre')]\n",
      "[('arch', 'http://www.wikidata.org/entity/Q320908'), ('Aname', 'Merenre Nemtyemsaf II')]\n",
      "[('arch', 'http://www.wikidata.org/entity/Q336395'), ('Aname', 'Smendes')]\n",
      "[('arch', 'http://www.wikidata.org/entity/Q380676'), ('Aname', 'Psusennes I')]\n",
      "[('arch', 'http://www.wikidata.org/entity/Q428633'), ('Aname', 'Piankh')]\n",
      "10\n"
     ]
    }
   ],
   "source": [
    "#Above query returns empty, let's see if the problem is the \"occupation\" property\n",
    "\n",
    "queryString = \"\"\"\n",
    "SELECT DISTINCT ?arch ?Aname\n",
    "WHERE { \n",
    "   ?arch wdt:P31 wd:Q5; #a human\n",
    "         #wdt:P106 wd:Q3621491; #occupation archaeologist\n",
    "         wdt:P27 wd:Q11768. #natio AncientEgypt\n",
    "   \n",
    "   ?arch sc:name ?Aname.\n",
    "}\n",
    "LIMIT 10\n",
    "\"\"\"\n",
    "\n",
    "print(\"Results\")\n",
    "x=run_query(queryString)"
   ]
  },
  {
   "cell_type": "code",
   "execution_count": 49,
   "id": "749287ca-1439-4769-a8dc-1290b7d984d9",
   "metadata": {},
   "outputs": [
    {
     "name": "stdout",
     "output_type": "stream",
     "text": [
      "Results\n",
      "[('arch', 'http://www.wikidata.org/entity/Q8463726'), ('Aname', 'Chengzuo Shang')]\n",
      "[('arch', 'http://www.wikidata.org/entity/Q13638340'), ('Aname', 'Dagmar Jelínková')]\n",
      "[('arch', 'http://www.wikidata.org/entity/Q15466790'), ('Aname', 'Josef Poppelreuter')]\n",
      "[('arch', 'http://www.wikidata.org/entity/Q15729291'), ('Aname', 'Marino Marini')]\n",
      "[('arch', 'http://www.wikidata.org/entity/Q15730811'), ('Aname', 'Hartmut Schäfer')]\n",
      "[('arch', 'http://www.wikidata.org/entity/Q15731701'), ('Aname', 'Pietro Tessieri')]\n",
      "[('arch', 'http://www.wikidata.org/entity/Q3839667'), ('Aname', 'Luigi Gaetano Marini')]\n",
      "[('arch', 'http://www.wikidata.org/entity/Q104327'), ('Aname', 'Otto Rossbach')]\n",
      "[('arch', 'http://www.wikidata.org/entity/Q15906413'), ('Aname', 'Frank Henry Stubbings')]\n",
      "[('arch', 'http://www.wikidata.org/entity/Q5717733'), ('Aname', 'Henry Balfour')]\n",
      "10\n"
     ]
    }
   ],
   "source": [
    "queryString = \"\"\"\n",
    "SELECT DISTINCT ?arch ?Aname\n",
    "WHERE { \n",
    "   ?arch wdt:P31 wd:Q5; #a human\n",
    "         wdt:P106 wd:Q3621491. #occupation archaeologist\n",
    "   \n",
    "   ?arch sc:name ?Aname.\n",
    "}\n",
    "LIMIT 10\n",
    "\"\"\"\n",
    "\n",
    "print(\"Results\")\n",
    "x=run_query(queryString)\n",
    "\n",
    "#The problem might then be the nationality "
   ]
  },
  {
   "cell_type": "code",
   "execution_count": 74,
   "id": "8e8fd03b-88a7-46df-aa57-fd986e920edb",
   "metadata": {},
   "outputs": [
    {
     "name": "stdout",
     "output_type": "stream",
     "text": [
      "Results\n",
      "[('p', 'http://www.wikidata.org/prop/direct/P101'), ('PName', 'field of work')]\n",
      "[('p', 'http://www.wikidata.org/prop/direct/P106'), ('PName', 'occupation')]\n",
      "[('p', 'http://www.wikidata.org/prop/direct/P180'), ('PName', 'depicts')]\n",
      "[('p', 'http://www.wikidata.org/prop/direct/P279'), ('PName', 'subclass of')]\n",
      "[('p', 'http://www.wikidata.org/prop/direct/P301'), ('PName', \"category's main topic\")]\n",
      "[('p', 'http://www.wikidata.org/prop/direct/P3095'), ('PName', 'practiced by')]\n",
      "[('p', 'http://www.wikidata.org/prop/direct/P31'), ('PName', 'instance of')]\n",
      "[('p', 'http://www.wikidata.org/prop/direct/P360'), ('PName', 'is a list of')]\n",
      "[('p', 'http://www.wikidata.org/prop/direct/P361'), ('PName', 'part of')]\n",
      "[('p', 'http://www.wikidata.org/prop/direct/P39'), ('PName', 'position held')]\n",
      "[('p', 'http://www.wikidata.org/prop/direct/P3989'), ('PName', 'members have occupation')]\n",
      "[('p', 'http://www.wikidata.org/prop/direct/P921'), ('PName', 'main subject')]\n",
      "[('p', 'http://www.wikidata.org/prop/direct/P971'), ('PName', 'category combines topics')]\n",
      "[('p', 'http://www.wikidata.org/prop/direct/P2925'), ('PName', 'domain of saint or deity')]\n",
      "14\n"
     ]
    }
   ],
   "source": [
    "#I just found out I misread the question, I was looking for archaeologist FROM ancient civilizations, not archaeologist who WORKED ON ancient civilizations\n",
    "#We need to find a property like \"subjectOfStudy\" or \"fieldOfStudy\" that could link an archaeologist and ancient civ \n",
    "#Let's explore prop/objects linked to archaeologist\n",
    "\n",
    "queryString = \"\"\"\n",
    "SELECT DISTINCT ?p ?PName\n",
    "WHERE {\n",
    "   ?s ?p wd:Q3621491. #archaeologist\n",
    "   \n",
    "   ?p sc:name ?PName.\n",
    "}\n",
    "LIMIT 50\n",
    "\"\"\"\n",
    "\n",
    "print(\"Results\")\n",
    "x=run_query(queryString)\n",
    "\n",
    "#Maybe main subject property is interesting"
   ]
  },
  {
   "cell_type": "code",
   "execution_count": 80,
   "id": "f673f5a2-c12f-49c4-bc56-8a5e7a16158e",
   "metadata": {},
   "outputs": [
    {
     "name": "stdout",
     "output_type": "stream",
     "text": [
      "Results\n",
      "[('OType', 'http://www.wikidata.org/entity/Q7315155'), ('OName', 'research center')]\n",
      "[('OType', 'http://www.wikidata.org/entity/Q5'), ('OName', 'human')]\n",
      "[('OType', 'http://www.wikidata.org/entity/Q5633421'), ('OName', 'scientific journal')]\n",
      "3\n"
     ]
    }
   ],
   "source": [
    "#Let's check the type of Things that have \"Ancient Egypt\" as field of work\n",
    "\n",
    "queryString = \"\"\"\n",
    "SELECT DISTINCT ?OType ?OName\n",
    "WHERE {\n",
    "   ?obj wdt:P101 wd:Q11768. #field AncientEgypt\n",
    "   ?obj wdt:P31 ?OType. #a\n",
    "   \n",
    "   ?OType sc:name ?OName.\n",
    "}\n",
    "LIMIT 50\n",
    "\"\"\"\n",
    "\n",
    "print(\"Results\")\n",
    "x=run_query(queryString)"
   ]
  },
  {
   "cell_type": "code",
   "execution_count": 98,
   "id": "70d33ad9-c359-4798-9447-ffd08947715c",
   "metadata": {},
   "outputs": [
    {
     "name": "stdout",
     "output_type": "stream",
     "text": [
      "Results\n",
      "[('arch', 'http://www.wikidata.org/entity/Q2342814'), ('archName', 'Alexandre Bertrand'), ('theme', 'http://www.wikidata.org/entity/Q38060'), ('themeName', 'Gaul')]\n",
      "[('arch', 'http://www.wikidata.org/entity/Q1985476'), ('archName', 'Charles Thomas Newton'), ('theme', 'http://www.wikidata.org/entity/Q11772'), ('themeName', 'Ancient Greece')]\n",
      "[('arch', 'http://www.wikidata.org/entity/Q1523942'), ('archName', 'Gilbert Charles-Picard'), ('theme', 'http://www.wikidata.org/entity/Q2429397'), ('themeName', 'Ancient Carthage')]\n",
      "[('arch', 'http://www.wikidata.org/entity/Q64563606'), ('archName', \"Vincent Robin d'Arba Desborough\"), ('theme', 'http://www.wikidata.org/entity/Q11772'), ('themeName', 'Ancient Greece')]\n",
      "[('arch', 'http://www.wikidata.org/entity/Q2959998'), ('archName', 'Charles Picard'), ('theme', 'http://www.wikidata.org/entity/Q11772'), ('themeName', 'Ancient Greece')]\n",
      "[('arch', 'http://www.wikidata.org/entity/Q107185282'), ('archName', 'Orlando Cerasuolo'), ('theme', 'http://www.wikidata.org/entity/Q11772'), ('themeName', 'Ancient Greece')]\n",
      "[('arch', 'http://www.wikidata.org/entity/Q938573'), ('archName', 'Sabatino Moscati'), ('theme', 'http://www.wikidata.org/entity/Q2429397'), ('themeName', 'Ancient Carthage')]\n",
      "[('arch', 'http://www.wikidata.org/entity/Q12228275'), ('archName', 'Ammar Mahjoubi'), ('theme', 'http://www.wikidata.org/entity/Q2429397'), ('themeName', 'Ancient Carthage')]\n",
      "[('arch', 'http://www.wikidata.org/entity/Q14193776'), ('archName', 'Jean-Claude Poursat'), ('theme', 'http://www.wikidata.org/entity/Q11772'), ('themeName', 'Ancient Greece')]\n",
      "[('arch', 'http://www.wikidata.org/entity/Q2337565'), ('archName', 'Stefan Schmidt'), ('theme', 'http://www.wikidata.org/entity/Q11772'), ('themeName', 'Ancient Greece')]\n",
      "[('arch', 'http://www.wikidata.org/entity/Q3575342'), ('archName', 'Zeineb Benzina'), ('theme', 'http://www.wikidata.org/entity/Q2429397'), ('themeName', 'Ancient Carthage')]\n",
      "[('arch', 'http://www.wikidata.org/entity/Q3035177'), ('archName', 'Dominique Garcia'), ('theme', 'http://www.wikidata.org/entity/Q38060'), ('themeName', 'Gaul')]\n",
      "[('arch', 'http://www.wikidata.org/entity/Q346765'), ('archName', 'Albert Grenier'), ('theme', 'http://www.wikidata.org/entity/Q38060'), ('themeName', 'Gaul')]\n",
      "[('arch', 'http://www.wikidata.org/entity/Q3384443'), ('archName', 'Pierre Cintas'), ('theme', 'http://www.wikidata.org/entity/Q2429397'), ('themeName', 'Ancient Carthage')]\n",
      "[('arch', 'http://www.wikidata.org/entity/Q98969651'), ('archName', 'Alexander Nagel'), ('theme', 'http://www.wikidata.org/entity/Q11767'), ('themeName', 'Mesopotamia')]\n",
      "[('arch', 'http://www.wikidata.org/entity/Q16038552'), ('archName', 'Naïdé Ferchiou'), ('theme', 'http://www.wikidata.org/entity/Q2429397'), ('themeName', 'Ancient Carthage')]\n",
      "[('arch', 'http://www.wikidata.org/entity/Q101163496'), ('archName', 'Aaron A. Burke'), ('theme', 'http://www.wikidata.org/entity/Q1551054'), ('themeName', 'Israelite period')]\n",
      "[('arch', 'http://www.wikidata.org/entity/Q6835809'), ('archName', 'Yigal Shiloh'), ('theme', 'http://www.wikidata.org/entity/Q193748'), ('themeName', 'history of ancient Israel and Judah')]\n",
      "[('arch', 'http://www.wikidata.org/entity/Q323506'), ('archName', 'Richard Chandler'), ('theme', 'http://www.wikidata.org/entity/Q11772'), ('themeName', 'Ancient Greece')]\n",
      "[('arch', 'http://www.wikidata.org/entity/Q25480608'), ('archName', 'Lyuba Ognenova-Marinova'), ('theme', 'http://www.wikidata.org/entity/Q41741'), ('themeName', 'Thrace')]\n",
      "[('arch', 'http://www.wikidata.org/entity/Q27378'), ('archName', 'Joseph Levin Saalschütz'), ('theme', 'http://www.wikidata.org/entity/Q1551054'), ('themeName', 'Israelite period')]\n",
      "[('arch', 'http://www.wikidata.org/entity/Q3479393'), ('archName', 'Serge Lancel'), ('theme', 'http://www.wikidata.org/entity/Q2429397'), ('themeName', 'Ancient Carthage')]\n",
      "[('arch', 'http://www.wikidata.org/entity/Q48306177'), ('archName', 'Alfonso Lacadena García-Gallo'), ('theme', 'http://www.wikidata.org/entity/Q28567'), ('themeName', 'Maya civilization')]\n",
      "23\n"
     ]
    }
   ],
   "source": [
    "#Let's start building the query \n",
    "\n",
    "queryString = \"\"\"\n",
    "SELECT DISTINCT ?arch ?archName ?theme ?themeName\n",
    "WHERE { \n",
    "   ?arch wdt:P31 wd:Q5; #a human \n",
    "         wdt:P106 wd:Q3621491; #occupation archaeologist\n",
    "         wdt:P101 ?theme. #fieldOfWork\n",
    "    ?theme wdt:P31 wd:Q28171280.  #a AncientCiv\n",
    "      \n",
    "   ?arch sc:name ?archName.\n",
    "   ?theme sc:name ?themeName\n",
    "}\n",
    "LIMIT 50\n",
    "\"\"\"\n",
    "\n",
    "print(\"Results\")\n",
    "x=run_query(queryString)"
   ]
  },
  {
   "cell_type": "code",
   "execution_count": 29,
   "id": "b22fd1e3-a933-42a3-819c-72b82f018100",
   "metadata": {},
   "outputs": [
    {
     "name": "stdout",
     "output_type": "stream",
     "text": [
      "Results\n",
      "[('theme', 'http://www.wikidata.org/entity/Q11767'), ('themeName', 'Mesopotamia'), ('count', '1')]\n",
      "[('theme', 'http://www.wikidata.org/entity/Q193748'), ('themeName', 'history of ancient Israel and Judah'), ('count', '1')]\n",
      "[('theme', 'http://www.wikidata.org/entity/Q11772'), ('themeName', 'Ancient Greece'), ('count', '7')]\n",
      "[('theme', 'http://www.wikidata.org/entity/Q1551054'), ('themeName', 'Israelite period'), ('count', '2')]\n",
      "[('theme', 'http://www.wikidata.org/entity/Q2429397'), ('themeName', 'Ancient Carthage'), ('count', '7')]\n",
      "[('theme', 'http://www.wikidata.org/entity/Q41741'), ('themeName', 'Thrace'), ('count', '1')]\n",
      "[('theme', 'http://www.wikidata.org/entity/Q38060'), ('themeName', 'Gaul'), ('count', '3')]\n",
      "[('theme', 'http://www.wikidata.org/entity/Q28567'), ('themeName', 'Maya civilization'), ('count', '1')]\n",
      "8\n"
     ]
    }
   ],
   "source": [
    "#Adding the aggregation\n",
    "\n",
    "queryString = \"\"\"\n",
    "SELECT DISTINCT ?theme ?themeName (count(*) as ?count)\n",
    "WHERE { \n",
    "   ?arch wdt:P31 wd:Q5; #a human \n",
    "         wdt:P106 wd:Q3621491; #occupation archaeologist\n",
    "         wdt:P101 ?theme. #fieldOfWork\n",
    "    ?theme wdt:P31 wd:Q28171280.  #a AncientCiv\n",
    "      \n",
    "   ?arch sc:name ?archName.\n",
    "   ?theme sc:name ?themeName\n",
    "}\n",
    "GROUP BY ?theme ?themeName\n",
    "LIMIT 50\n",
    "\"\"\"\n",
    "\n",
    "print(\"Results\")\n",
    "x=run_query(queryString)"
   ]
  },
  {
   "cell_type": "code",
   "execution_count": 112,
   "id": "590b77d8-1f8a-4e88-82e8-c040f97a47c6",
   "metadata": {},
   "outputs": [
    {
     "name": "stdout",
     "output_type": "stream",
     "text": [
      "Results\n",
      "The operation failed timed out\n"
     ]
    }
   ],
   "source": [
    "#We also need the civilizations with No Archaeologists :\n",
    "\n",
    "queryString = \"\"\"\n",
    "SELECT DISTINCT ?civ ?CivName\n",
    "WHERE {\n",
    "   ?civ wdt:P31 wd:Q28171280. #a ancientCivilization\n",
    "   \n",
    "   OPTIONAL { ?arch wdt:P31 wd:Q5 }. #a human \n",
    "   OPTIONAL { ?arch wdt:P106 wd:Q3621491 }. #occupation archaeologist\n",
    "   OPTIONAL { ?arch wdt:P101 ?civ }. #mainSubject\n",
    "                    \n",
    "   ?civ sc:name ?CivName.\n",
    "}\n",
    "LIMIT 10\n",
    "\"\"\"\n",
    "\n",
    "print(\"Results\")\n",
    "x=run_query(queryString)"
   ]
  },
  {
   "cell_type": "code",
   "execution_count": 30,
   "id": "705237fa-2539-4a7b-bf93-8e06901ee07c",
   "metadata": {},
   "outputs": [
    {
     "name": "stdout",
     "output_type": "stream",
     "text": [
      "Results\n",
      "[('civ', 'http://www.wikidata.org/entity/Q11767'), ('CivName', 'Mesopotamia'), ('count', '1')]\n",
      "[('civ', 'http://www.wikidata.org/entity/Q193748'), ('CivName', 'history of ancient Israel and Judah'), ('count', '1')]\n",
      "[('civ', 'http://www.wikidata.org/entity/Q11772'), ('CivName', 'Ancient Greece'), ('count', '7')]\n",
      "[('civ', 'http://www.wikidata.org/entity/Q173082'), ('CivName', 'Dacia'), ('count', '0')]\n",
      "[('civ', 'http://www.wikidata.org/entity/Q1364601'), ('CivName', 'Gallo-Roman culture'), ('count', '0')]\n",
      "[('civ', 'http://www.wikidata.org/entity/Q768212'), ('CivName', 'Turco-Mongol'), ('count', '0')]\n",
      "[('civ', 'http://www.wikidata.org/entity/Q1551054'), ('CivName', 'Israelite period'), ('count', '2')]\n",
      "[('civ', 'http://www.wikidata.org/entity/Q28405'), ('CivName', 'Gojoseon'), ('count', '0')]\n",
      "[('civ', 'http://www.wikidata.org/entity/Q2429397'), ('CivName', 'Ancient Carthage'), ('count', '7')]\n",
      "[('civ', 'http://www.wikidata.org/entity/Q185068'), ('CivName', 'Urartu'), ('count', '0')]\n",
      "[('civ', 'http://www.wikidata.org/entity/Q8735'), ('CivName', 'Medes'), ('count', '0')]\n",
      "[('civ', 'http://www.wikidata.org/entity/Q99304188'), ('CivName', 'Thracian'), ('count', '0')]\n",
      "[('civ', 'http://www.wikidata.org/entity/Q41741'), ('CivName', 'Thrace'), ('count', '1')]\n",
      "[('civ', 'http://www.wikidata.org/entity/Q11768'), ('CivName', 'Ancient Egypt'), ('count', '0')]\n",
      "[('civ', 'http://www.wikidata.org/entity/Q35355'), ('CivName', 'Sumer'), ('count', '0')]\n",
      "[('civ', 'http://www.wikidata.org/entity/Q128904'), ('CivName', 'Elam'), ('count', '0')]\n",
      "[('civ', 'http://www.wikidata.org/entity/Q38060'), ('CivName', 'Gaul'), ('count', '3')]\n",
      "[('civ', 'http://www.wikidata.org/entity/Q42534'), ('CivName', 'Indus Valley Civilization'), ('count', '0')]\n",
      "[('civ', 'http://www.wikidata.org/entity/Q244762'), ('CivName', 'Mari'), ('count', '0')]\n",
      "[('civ', 'http://www.wikidata.org/entity/Q28567'), ('CivName', 'Maya civilization'), ('count', '2')]\n",
      "[('civ', 'http://www.wikidata.org/entity/Q25558247'), ('CivName', 'Chinese civilization'), ('count', '0')]\n",
      "[('civ', 'http://www.wikidata.org/entity/Q134178'), ('CivName', 'Minoan civilization'), ('count', '0')]\n",
      "[('civ', 'http://www.wikidata.org/entity/Q3327860'), ('CivName', 'Celtic kingdom of Ireland'), ('count', '0')]\n",
      "[('civ', 'http://www.wikidata.org/entity/Q32047'), ('CivName', 'Illyria'), ('count', '0')]\n",
      "[('civ', 'http://www.wikidata.org/entity/Q4752820'), ('CivName', 'Ancient Crete'), ('count', '0')]\n",
      "25\n"
     ]
    }
   ],
   "source": [
    "#One optional \n",
    "\n",
    "queryString = \"\"\"\n",
    "SELECT DISTINCT ?civ ?CivName (count(?arch) as ?count)\n",
    "WHERE {\n",
    "   ?civ wdt:P31 wd:Q28171280. #a ancientCivilization\n",
    "   \n",
    "   OPTIONAL { ?arch wdt:P31 wd:Q5; \n",
    "                    wdt:P106 wd:Q3621491; \n",
    "                    wdt:P101 ?civ. } \n",
    "                    \n",
    "   ?civ sc:name ?CivName.\n",
    "}\n",
    "GROUP BY ?civ ?CivName\n",
    "LIMIT 30\n",
    "\"\"\"\n",
    "\n",
    "print(\"Results\")\n",
    "x=run_query(queryString)"
   ]
  },
  {
   "cell_type": "code",
   "execution_count": 31,
   "id": "7c18bf37-6d48-4072-af0d-367a2b5ef3eb",
   "metadata": {},
   "outputs": [
    {
     "name": "stdout",
     "output_type": "stream",
     "text": [
      "Results\n",
      "[('did', 'http://www.wikidata.org/prop/direct/P101'), ('didName', 'field of work')]\n",
      "1\n"
     ]
    }
   ],
   "source": [
    "#I think the previous query result is incomplete, let's check if other properties link archaeologists and ancient civilizations :\n",
    "\n",
    "queryString = \"\"\"\n",
    "SELECT DISTINCT ?did ?didName\n",
    "WHERE {\n",
    "     ?arch wdt:P31 wd:Q5; #a human \n",
    "         wdt:P106 wd:Q3621491; #occupation archaeologist\n",
    "         ?did ?something.\n",
    "         \n",
    "  ?something wdt:P31 wd:Q28171280. #a AncientCiv\n",
    "  \n",
    "  ?did sc:name ?didName\n",
    "\n",
    "}\n",
    "LIMIT 20\n",
    "\"\"\"\n",
    "\n",
    "print(\"Results\")\n",
    "x=run_query(queryString)"
   ]
  },
  {
   "cell_type": "code",
   "execution_count": 32,
   "id": "f57df7b1-749c-46ae-8ff2-e93e05251037",
   "metadata": {},
   "outputs": [
    {
     "name": "stdout",
     "output_type": "stream",
     "text": [
      "Results\n",
      "[('field', 'http://www.wikidata.org/entity/Q145903'), ('fieldName', 'egyptology')]\n",
      "1\n"
     ]
    }
   ],
   "source": [
    "#Then the problem may be that archaeologists do work related to ancient civilizations, but not \"directly\".\n",
    "#For example \"Egyptology\" is about Ancient Egypt but I'm not taking it into account in my previous answer attempt.\n",
    "#Let's explore a property found in a previous result : [('p', 'http://www.wikidata.org/prop/direct/P2578'), ('Pname', 'studies') \n",
    "#applied to subclasses of archaeology\n",
    "\n",
    "queryString = \"\"\"\n",
    "SELECT DISTINCT ?field ?fieldName\n",
    "WHERE {\n",
    "    ?civ wdt:P31 wd:Q28171280. #AncientCiv\n",
    "    ?field wdt:P279 wd:Q23498; #subclassOf archaeology\n",
    "          wdt:P2578 ?civ. #studies\n",
    "          \n",
    "   ?field sc:name ?fieldName\n",
    "  }\n",
    "LIMIT 100\n",
    "\"\"\"\n",
    "\n",
    "print(\"Results\")\n",
    "x=run_query(queryString)"
   ]
  },
  {
   "cell_type": "code",
   "execution_count": 33,
   "id": "23fa0a15-1a3f-4cd3-81e6-028a847c6ad7",
   "metadata": {},
   "outputs": [
    {
     "name": "stdout",
     "output_type": "stream",
     "text": [
      "Results\n",
      "[('civ', 'http://www.wikidata.org/entity/Q11768'), ('civName', 'Ancient Egypt'), ('ArchCount', '38')]\n",
      "1\n"
     ]
    }
   ],
   "source": [
    "#See if there are archaeologists related to the field\n",
    "\n",
    "queryString = \"\"\"\n",
    "SELECT DISTINCT ?civ ?civName (count(distinct ?arch) as ?ArchCount)\n",
    "WHERE {\n",
    "   ?civ wdt:P31 wd:Q28171280. #a ancientCivilization\n",
    "   ?field wdt:P279 wd:Q23498; #subclassOf archaeology\n",
    "          wdt:P2578 ?civ.     #studies\n",
    "  \n",
    "     ?arch wdt:P31 wd:Q5;       #a human \n",
    "         wdt:P106 wd:Q3621491;  #occupation archaeologist\n",
    "         wdt:P101 ?field.       #mainSubject\n",
    "\n",
    "   ?civ sc:name ?civName.\n",
    "}\n",
    "GROUP BY ?civ ?civName\n",
    "LIMIT 20\n",
    "\"\"\"\n",
    "\n",
    "print(\"Results\")\n",
    "x=run_query(queryString)\n",
    "\n",
    "#We know now that there are 38 archaeologists that study Ancient Egypt."
   ]
  },
  {
   "cell_type": "code",
   "execution_count": 52,
   "id": "cd29301d-73ad-4d08-873e-f986a2ce6c36",
   "metadata": {},
   "outputs": [
    {
     "name": "stdout",
     "output_type": "stream",
     "text": [
      "Results\n",
      "[('civ', 'http://www.wikidata.org/entity/Q11767'), ('civName', 'Mesopotamia'), ('ArchCount', '1')]\n",
      "[('civ', 'http://www.wikidata.org/entity/Q193748'), ('civName', 'history of ancient Israel and Judah'), ('ArchCount', '1')]\n",
      "[('civ', 'http://www.wikidata.org/entity/Q11772'), ('civName', 'Ancient Greece'), ('ArchCount', '7')]\n",
      "[('civ', 'http://www.wikidata.org/entity/Q173082'), ('civName', 'Dacia'), ('ArchCount', '0')]\n",
      "[('civ', 'http://www.wikidata.org/entity/Q1364601'), ('civName', 'Gallo-Roman culture'), ('ArchCount', '0')]\n",
      "[('civ', 'http://www.wikidata.org/entity/Q768212'), ('civName', 'Turco-Mongol'), ('ArchCount', '0')]\n",
      "[('civ', 'http://www.wikidata.org/entity/Q1551054'), ('civName', 'Israelite period'), ('ArchCount', '2')]\n",
      "[('civ', 'http://www.wikidata.org/entity/Q28405'), ('civName', 'Gojoseon'), ('ArchCount', '0')]\n",
      "[('civ', 'http://www.wikidata.org/entity/Q2429397'), ('civName', 'Ancient Carthage'), ('ArchCount', '7')]\n",
      "[('civ', 'http://www.wikidata.org/entity/Q185068'), ('civName', 'Urartu'), ('ArchCount', '0')]\n",
      "[('civ', 'http://www.wikidata.org/entity/Q8735'), ('civName', 'Medes'), ('ArchCount', '0')]\n",
      "[('civ', 'http://www.wikidata.org/entity/Q99304188'), ('civName', 'Thracian'), ('ArchCount', '0')]\n",
      "[('civ', 'http://www.wikidata.org/entity/Q11768'), ('civName', 'Ancient Egypt'), ('ArchCount', '38')]\n",
      "[('civ', 'http://www.wikidata.org/entity/Q41741'), ('civName', 'Thrace'), ('ArchCount', '1')]\n",
      "[('civ', 'http://www.wikidata.org/entity/Q35355'), ('civName', 'Sumer'), ('ArchCount', '0')]\n",
      "[('civ', 'http://www.wikidata.org/entity/Q128904'), ('civName', 'Elam'), ('ArchCount', '0')]\n",
      "[('civ', 'http://www.wikidata.org/entity/Q38060'), ('civName', 'Gaul'), ('ArchCount', '3')]\n",
      "[('civ', 'http://www.wikidata.org/entity/Q42534'), ('civName', 'Indus Valley Civilization'), ('ArchCount', '0')]\n",
      "[('civ', 'http://www.wikidata.org/entity/Q244762'), ('civName', 'Mari'), ('ArchCount', '0')]\n",
      "[('civ', 'http://www.wikidata.org/entity/Q28567'), ('civName', 'Maya civilization'), ('ArchCount', '2')]\n",
      "[('civ', 'http://www.wikidata.org/entity/Q25558247'), ('civName', 'Chinese civilization'), ('ArchCount', '0')]\n",
      "[('civ', 'http://www.wikidata.org/entity/Q134178'), ('civName', 'Minoan civilization'), ('ArchCount', '0')]\n",
      "[('civ', 'http://www.wikidata.org/entity/Q3327860'), ('civName', 'Celtic kingdom of Ireland'), ('ArchCount', '0')]\n",
      "[('civ', 'http://www.wikidata.org/entity/Q32047'), ('civName', 'Illyria'), ('ArchCount', '0')]\n",
      "[('civ', 'http://www.wikidata.org/entity/Q4752820'), ('civName', 'Ancient Crete'), ('ArchCount', '0')]\n",
      "25\n"
     ]
    }
   ],
   "source": [
    "#Let's try now to do the union of both results :\n",
    "\n",
    "queryString = \"\"\"\n",
    "SELECT DISTINCT ?civ ?civName (count(?arch) as ?ArchCount)\n",
    "WHERE \n",
    "{\n",
    "    {\n",
    "        {\n",
    "           SELECT DISTINCT ?arch ?civ ?civName WHERE \n",
    "           {\n",
    "                   ?civ wdt:P31 wd:Q28171280. #a ancientCivilization\n",
    "                   ?field wdt:P279 wd:Q23498; #subclassOf archaeology\n",
    "                          wdt:P2578 ?civ.     #studies    \n",
    "\n",
    "                     ?arch wdt:P31 wd:Q5; #a human \n",
    "                           wdt:P106 wd:Q3621491; #occupation archaeologist\n",
    "                           wdt:P101 ?field. #mainSubject\n",
    "\n",
    "                     ?civ sc:name ?civName.\n",
    "            }   \n",
    "        }\n",
    "        UNION\n",
    "        {\n",
    "            SELECT DISTINCT ?arch ?civ ?civName WHERE \n",
    "            {\n",
    "                   ?civ wdt:P31 wd:Q28171280. #a ancientCivilization\n",
    "\n",
    "                   OPTIONAL { ?arch wdt:P31 wd:Q5; \n",
    "                                    wdt:P106 wd:Q3621491; \n",
    "                                    wdt:P101 ?civ. }  #A human  #occupation archaeo  #MainSubject\n",
    "\n",
    "                   ?civ sc:name ?civName.\n",
    "            }\n",
    "        }\n",
    "    }\n",
    "}\n",
    "GROUP BY ?civ ?civName\n",
    "\"\"\"\n",
    "\n",
    "print(\"Results\")\n",
    "x=run_query(queryString)"
   ]
  },
  {
   "cell_type": "markdown",
   "id": "36d80ea2",
   "metadata": {},
   "source": [
    "Final query for this task"
   ]
  },
  {
   "cell_type": "code",
   "execution_count": 57,
   "id": "54de969a-3625-44dd-b392-a24224c5ddbf",
   "metadata": {},
   "outputs": [
    {
     "name": "stdout",
     "output_type": "stream",
     "text": [
      "Results\n",
      "[('civ', 'http://www.wikidata.org/entity/Q11768'), ('civName', 'Ancient Egypt'), ('ArchCount', '38')]\n",
      "[('civ', 'http://www.wikidata.org/entity/Q11772'), ('civName', 'Ancient Greece'), ('ArchCount', '7')]\n",
      "[('civ', 'http://www.wikidata.org/entity/Q2429397'), ('civName', 'Ancient Carthage'), ('ArchCount', '7')]\n",
      "[('civ', 'http://www.wikidata.org/entity/Q38060'), ('civName', 'Gaul'), ('ArchCount', '3')]\n",
      "[('civ', 'http://www.wikidata.org/entity/Q1551054'), ('civName', 'Israelite period'), ('ArchCount', '2')]\n",
      "[('civ', 'http://www.wikidata.org/entity/Q28567'), ('civName', 'Maya civilization'), ('ArchCount', '2')]\n",
      "[('civ', 'http://www.wikidata.org/entity/Q11767'), ('civName', 'Mesopotamia'), ('ArchCount', '1')]\n",
      "[('civ', 'http://www.wikidata.org/entity/Q193748'), ('civName', 'history of ancient Israel and Judah'), ('ArchCount', '1')]\n",
      "[('civ', 'http://www.wikidata.org/entity/Q41741'), ('civName', 'Thrace'), ('ArchCount', '1')]\n",
      "[('civ', 'http://www.wikidata.org/entity/Q173082'), ('civName', 'Dacia'), ('ArchCount', '0')]\n",
      "[('civ', 'http://www.wikidata.org/entity/Q1364601'), ('civName', 'Gallo-Roman culture'), ('ArchCount', '0')]\n",
      "[('civ', 'http://www.wikidata.org/entity/Q768212'), ('civName', 'Turco-Mongol'), ('ArchCount', '0')]\n",
      "[('civ', 'http://www.wikidata.org/entity/Q28405'), ('civName', 'Gojoseon'), ('ArchCount', '0')]\n",
      "[('civ', 'http://www.wikidata.org/entity/Q185068'), ('civName', 'Urartu'), ('ArchCount', '0')]\n",
      "[('civ', 'http://www.wikidata.org/entity/Q8735'), ('civName', 'Medes'), ('ArchCount', '0')]\n",
      "[('civ', 'http://www.wikidata.org/entity/Q99304188'), ('civName', 'Thracian'), ('ArchCount', '0')]\n",
      "[('civ', 'http://www.wikidata.org/entity/Q35355'), ('civName', 'Sumer'), ('ArchCount', '0')]\n",
      "[('civ', 'http://www.wikidata.org/entity/Q128904'), ('civName', 'Elam'), ('ArchCount', '0')]\n",
      "[('civ', 'http://www.wikidata.org/entity/Q42534'), ('civName', 'Indus Valley Civilization'), ('ArchCount', '0')]\n",
      "[('civ', 'http://www.wikidata.org/entity/Q244762'), ('civName', 'Mari'), ('ArchCount', '0')]\n",
      "[('civ', 'http://www.wikidata.org/entity/Q25558247'), ('civName', 'Chinese civilization'), ('ArchCount', '0')]\n",
      "[('civ', 'http://www.wikidata.org/entity/Q134178'), ('civName', 'Minoan civilization'), ('ArchCount', '0')]\n",
      "[('civ', 'http://www.wikidata.org/entity/Q3327860'), ('civName', 'Celtic kingdom of Ireland'), ('ArchCount', '0')]\n",
      "[('civ', 'http://www.wikidata.org/entity/Q32047'), ('civName', 'Illyria'), ('ArchCount', '0')]\n",
      "[('civ', 'http://www.wikidata.org/entity/Q4752820'), ('civName', 'Ancient Crete'), ('ArchCount', '0')]\n",
      "25\n"
     ]
    }
   ],
   "source": [
    "#Final query\n",
    "#Explanation: I only found 2 ways to link ancient civilizations and archaeologists.\n",
    "#The first one (corresponding to first subquery) is an \"indirect link\" :\n",
    "#I look for archaeologists who STUDY A SUBJECT RELATED TO the ancient civilization, like egyptology. \n",
    "#The second one (second subquery) is a \"direct link\": I look for archaeologists whose MAIN SUBJECT IS the ancient civilization.\n",
    "\n",
    "queryString = \"\"\"\n",
    "SELECT DISTINCT ?civ ?civName (count(?arch) as ?ArchCount)\n",
    "WHERE \n",
    "{\n",
    "    {\n",
    "        {\n",
    "           SELECT DISTINCT ?arch ?civ ?civName WHERE \n",
    "           {\n",
    "                   ?civ wdt:P31 wd:Q28171280. #a ancientCivilization\n",
    "                   ?field wdt:P279 wd:Q23498; #subclassOf archaeology\n",
    "                          wdt:P2578 ?civ.     #studies    \n",
    "\n",
    "                     ?arch wdt:P31 wd:Q5; #a human \n",
    "                           wdt:P106 wd:Q3621491; #occupation archaeologist\n",
    "                           wdt:P101 ?field. #mainSubject\n",
    "\n",
    "                     ?civ sc:name ?civName.\n",
    "            }   \n",
    "        }\n",
    "        UNION\n",
    "        {\n",
    "            SELECT DISTINCT ?arch ?civ ?civName WHERE \n",
    "            {\n",
    "                   ?civ wdt:P31 wd:Q28171280. #a ancientCivilization\n",
    "\n",
    "                   OPTIONAL { ?arch wdt:P31 wd:Q5; \n",
    "                                    wdt:P106 wd:Q3621491; \n",
    "                                    wdt:P101 ?civ. }  #A human  #occupation archaeo  #MainSubject\n",
    "\n",
    "                   ?civ sc:name ?civName.\n",
    "            }\n",
    "        }\n",
    "    }\n",
    "}\n",
    "GROUP BY ?civ ?civName\n",
    "ORDER BY DESC (?ArchCount)\n",
    "\"\"\"\n",
    "\n",
    "print(\"Results\")\n",
    "x=run_query(queryString)"
   ]
  },
  {
   "cell_type": "markdown",
   "id": "a4292643",
   "metadata": {
    "tags": []
   },
   "source": [
    "## Task 6\n",
    "Find the BGP for deity."
   ]
  },
  {
   "cell_type": "code",
   "execution_count": 58,
   "id": "e986c3d3",
   "metadata": {},
   "outputs": [
    {
     "name": "stdout",
     "output_type": "stream",
     "text": [
      "Results\n",
      "[('type', 'http://www.wikidata.org/entity/Q1916821'), ('typeName', 'water deity')]\n",
      "[('type', 'http://www.wikidata.org/entity/Q22989102'), ('typeName', 'Greek deity')]\n",
      "2\n"
     ]
    }
   ],
   "source": [
    "# We are given in the first array the BGP of Poseidon: wd:Q41127`| Poseidon | node \n",
    "#Let's see what Poseidon is instance of\n",
    "\n",
    "queryString = \"\"\"\n",
    "SELECT DISTINCT ?type ?typeName\n",
    "WHERE {\n",
    "   wd:Q41127 wdt:P31 ?type. #Poseidon a\n",
    "\n",
    "   ?type sc:name ?typeName.\n",
    "}\n",
    "\"\"\"\n",
    "\n",
    "print(\"Results\")\n",
    "x=run_query(queryString)"
   ]
  },
  {
   "cell_type": "code",
   "execution_count": 59,
   "id": "79bc61fd-53c9-48e3-839d-a4fa0954a630",
   "metadata": {},
   "outputs": [
    {
     "name": "stdout",
     "output_type": "stream",
     "text": [
      "Results\n",
      "[('subclass', 'http://www.wikidata.org/entity/Q95074'), ('subclassName', 'fictional character')]\n",
      "[('subclass', 'http://www.wikidata.org/entity/Q13405593'), ('subclassName', 'nature deity')]\n",
      "[('subclass', 'http://www.wikidata.org/entity/Q22988604'), ('subclassName', 'mythological Greek character')]\n",
      "[('subclass', 'http://www.wikidata.org/entity/Q1936706'), ('subclassName', 'water sprite')]\n",
      "[('subclass', 'http://www.wikidata.org/entity/Q178885'), ('subclassName', 'deity')]\n",
      "5\n"
     ]
    }
   ],
   "source": [
    "#Let's check subclasses\n",
    "\n",
    "queryString = \"\"\"\n",
    "SELECT DISTINCT ?subclass ?subclassName\n",
    "WHERE {\n",
    "   wd:Q41127 wdt:P31 ?type. #Poseidon a\n",
    "   ?type wdt:P279 ?subclass. #subclass\n",
    "   \n",
    "   ?subclass sc:name ?subclassName\n",
    "}\n",
    "\"\"\"\n",
    "\n",
    "print(\"Results\")\n",
    "x=run_query(queryString)"
   ]
  },
  {
   "cell_type": "markdown",
   "id": "5b495390",
   "metadata": {},
   "source": [
    "Final query for this task"
   ]
  },
  {
   "cell_type": "code",
   "execution_count": 60,
   "id": "f3b5ab00",
   "metadata": {},
   "outputs": [
    {
     "name": "stdout",
     "output_type": "stream",
     "text": [
      "Results\n",
      "[('subclass', 'http://www.wikidata.org/entity/Q95074'), ('subclassName', 'fictional character')]\n",
      "[('subclass', 'http://www.wikidata.org/entity/Q13405593'), ('subclassName', 'nature deity')]\n",
      "[('subclass', 'http://www.wikidata.org/entity/Q22988604'), ('subclassName', 'mythological Greek character')]\n",
      "[('subclass', 'http://www.wikidata.org/entity/Q1936706'), ('subclassName', 'water sprite')]\n",
      "[('subclass', 'http://www.wikidata.org/entity/Q178885'), ('subclassName', 'deity')]\n",
      "5\n"
     ]
    }
   ],
   "source": [
    "#Final query\n",
    "\n",
    "queryString = \"\"\"\n",
    "SELECT DISTINCT ?subclass ?subclassName\n",
    "WHERE {\n",
    "   wd:Q41127 wdt:P31 ?type. #Poseidon a\n",
    "   ?type wdt:P279 ?subclass. #subclass\n",
    "   \n",
    "   ?subclass sc:name ?subclassName\n",
    "}\n",
    "\"\"\"\n",
    "\n",
    "print(\"Results\")\n",
    "x=run_query(queryString)\n",
    "\n",
    "#BGP : [('subclass', 'http://www.wikidata.org/entity/Q178885'), ('subclassName', 'deity')]"
   ]
  },
  {
   "cell_type": "markdown",
   "id": "560052b5",
   "metadata": {
    "tags": []
   },
   "source": [
    "## Task 7\n",
    "List all the twelve olympian greek deities (the result set must a list of 12 elements of couples of deity IRI and label)."
   ]
  },
  {
   "cell_type": "code",
   "execution_count": 38,
   "id": "98155f09",
   "metadata": {},
   "outputs": [
    {
     "name": "stdout",
     "output_type": "stream",
     "text": [
      "Results\n",
      "[('s', 'http://www.wikidata.org/entity/Q5081127'), ('SName', 'Acmon')]\n",
      "[('s', 'http://www.wikidata.org/entity/Q366533'), ('SName', 'Adranus')]\n",
      "[('s', 'http://www.wikidata.org/entity/Q3362052'), ('SName', 'Pandora')]\n",
      "[('s', 'http://www.wikidata.org/entity/Q6612'), ('SName', 'Charon')]\n",
      "[('s', 'http://www.wikidata.org/entity/Q2144233'), ('SName', 'Pheme')]\n",
      "[('s', 'http://www.wikidata.org/entity/Q1120723'), ('SName', 'Pheme')]\n",
      "[('s', 'http://www.wikidata.org/entity/Q1862189'), ('SName', 'Paean')]\n",
      "[('s', 'http://www.wikidata.org/entity/Q1775444'), ('SName', 'Phosphorus')]\n",
      "[('s', 'http://www.wikidata.org/entity/Q178417'), ('SName', 'Eos')]\n",
      "[('s', 'http://www.wikidata.org/entity/Q59697'), ('SName', 'Hesperus')]\n",
      "[('s', 'http://www.wikidata.org/entity/Q1084868'), ('SName', 'Lyssa')]\n",
      "[('s', 'http://www.wikidata.org/entity/Q1294659'), ('SName', 'Telesphorus')]\n",
      "[('s', 'http://www.wikidata.org/entity/Q18423351'), ('SName', 'Basileia')]\n",
      "[('s', 'http://www.wikidata.org/entity/Q185670'), ('SName', 'Echidna')]\n",
      "[('s', 'http://www.wikidata.org/entity/Q37340'), ('SName', 'Apollo')]\n",
      "[('s', 'http://www.wikidata.org/entity/Q83223'), ('SName', 'Asclepius')]\n",
      "[('s', 'http://www.wikidata.org/entity/Q850227'), ('SName', 'Panacea')]\n",
      "[('s', 'http://www.wikidata.org/entity/Q1073827'), ('SName', 'Pandia')]\n",
      "[('s', 'http://www.wikidata.org/entity/Q131585'), ('SName', 'Selene')]\n",
      "[('s', 'http://www.wikidata.org/entity/Q134270'), ('SName', 'Helios')]\n",
      "20\n"
     ]
    }
   ],
   "source": [
    "#In a previous query we got the following bgp: [('type', 'http://www.wikidata.org/entity/Q22989102'), ('typeName', 'Greek deity')]\n",
    "#Let's check the instances of Greek gods\n",
    "\n",
    "queryString = \"\"\"\n",
    "SELECT DISTINCT ?s ?SName\n",
    "WHERE {\n",
    "   ?s wdt:P31 wd:Q22989102. #Poseidon a\n",
    "   \n",
    "   ?s sc:name ?SName\n",
    "}\n",
    "LIMIT 20\n",
    "\"\"\"\n",
    "\n",
    "\n",
    "print(\"Results\")\n",
    "x=run_query(queryString)"
   ]
  },
  {
   "cell_type": "code",
   "execution_count": 6,
   "id": "02a56902-cde3-4978-9bd9-1146d1492dd0",
   "metadata": {},
   "outputs": [
    {
     "name": "stdout",
     "output_type": "stream",
     "text": [
      "Results\n",
      "[('s', 'http://www.wikidata.org/entity/Q1134605'), ('SName', 'Telchines')]\n",
      "[('s', 'http://www.wikidata.org/entity/Q247617'), ('SName', 'Curetes')]\n",
      "[('s', 'http://www.wikidata.org/entity/Q3346693'), ('SName', 'Greek nymph')]\n",
      "[('s', 'http://www.wikidata.org/entity/Q45713'), ('SName', 'titan')]\n",
      "[('s', 'http://www.wikidata.org/entity/Q1157625'), ('SName', 'daemon')]\n",
      "[('s', 'http://www.wikidata.org/entity/Q201411'), ('SName', 'Horae')]\n",
      "[('s', 'http://www.wikidata.org/entity/Q101609'), ('SName', 'Twelve Olympians')]\n",
      "[('s', 'http://www.wikidata.org/entity/Q184353'), ('SName', 'Charites')]\n",
      "[('s', 'http://www.wikidata.org/entity/Q878099'), ('SName', 'Greek primordial deity')]\n",
      "[('s', 'http://www.wikidata.org/entity/Q66016'), ('SName', 'Muses')]\n",
      "[('s', 'http://www.wikidata.org/entity/Q180287'), ('SName', 'Moirae')]\n",
      "[('s', 'http://www.wikidata.org/entity/Q191192'), ('SName', 'Giants')]\n",
      "[('s', 'http://www.wikidata.org/entity/Q578584'), ('SName', 'Oneiroi')]\n",
      "[('s', 'http://www.wikidata.org/entity/Q180262'), ('SName', 'Erinyes')]\n",
      "[('s', 'http://www.wikidata.org/entity/Q3059255'), ('SName', 'Greek sea god')]\n",
      "[('s', 'http://www.wikidata.org/entity/Q23015925'), ('SName', 'demigod of Greek mythology')]\n",
      "[('s', 'http://www.wikidata.org/entity/Q611361'), ('SName', 'chthonic gods')]\n",
      "[('s', 'http://www.wikidata.org/entity/Q4251777'), ('SName', 'Amphilogiai')]\n",
      "[('s', 'http://www.wikidata.org/entity/Q476682'), ('SName', 'Anemoi')]\n",
      "[('s', 'http://www.wikidata.org/entity/Q5709717'), ('SName', 'Astra Planeta')]\n",
      "[('s', 'http://www.wikidata.org/entity/Q4759471'), ('SName', 'Androktasiai')]\n",
      "[('s', 'http://www.wikidata.org/entity/Q7187284'), ('SName', 'Phonoi')]\n",
      "[('s', 'http://www.wikidata.org/entity/Q2714842'), ('SName', 'Oenotropae')]\n",
      "[('s', 'http://www.wikidata.org/entity/Q12481383'), ('SName', 'Greek underworld deities')]\n",
      "[('s', 'http://www.wikidata.org/entity/Q10405146'), ('SName', 'Algea')]\n",
      "[('s', 'http://www.wikidata.org/entity/Q403964'), ('SName', 'Keres')]\n",
      "[('s', 'http://www.wikidata.org/entity/Q11985103'), ('SName', 'Eumenides')]\n",
      "[('s', 'http://www.wikidata.org/entity/Q6019476'), ('SName', 'Furies')]\n",
      "[('s', 'http://www.wikidata.org/entity/Q47730356'), ('SName', 'Anemoi Thuellai')]\n",
      "[('s', 'http://www.wikidata.org/entity/Q30025797'), ('SName', 'Eleusinian goddesses')]\n",
      "[('s', 'http://www.wikidata.org/entity/Q5962290'), ('SName', 'Hysminai')]\n",
      "[('s', 'http://www.wikidata.org/entity/Q21707266'), ('SName', 'Antithei')]\n",
      "[('s', 'http://www.wikidata.org/entity/Q61640774'), ('SName', 'Fontes')]\n",
      "[('s', 'http://www.wikidata.org/entity/Q25338401'), ('SName', 'Apotropaei')]\n",
      "[('s', 'http://www.wikidata.org/entity/Q5834803'), ('SName', 'Epidotai')]\n",
      "[('s', 'http://www.wikidata.org/entity/Q11905703'), ('SName', 'Anthelioi')]\n",
      "36\n"
     ]
    }
   ],
   "source": [
    "#Let's now check if olympian deity is a subclass of greek deity\n",
    "\n",
    "queryString = \"\"\"\n",
    "SELECT DISTINCT ?s ?SName\n",
    "WHERE {\n",
    "   ?s wdt:P279 wd:Q22989102. #subclassOf GreekDeity\n",
    "   \n",
    "   ?s sc:name ?SName\n",
    "}\n",
    "LIMIT 50\n",
    "\"\"\"\n",
    "\n",
    "print(\"Results\")\n",
    "x=run_query(queryString)"
   ]
  },
  {
   "cell_type": "code",
   "execution_count": 9,
   "id": "a605fc72-8e8f-4b30-a36b-0475a0ca7c79",
   "metadata": {},
   "outputs": [
    {
     "name": "stdout",
     "output_type": "stream",
     "text": [
      "Results\n",
      "[('s', 'http://www.wikidata.org/entity/Q41680'), ('SName', 'Dionysus')]\n",
      "1\n"
     ]
    }
   ],
   "source": [
    "#Let's explore the instances of the above found \"twelve olympians\" class\n",
    "\n",
    "queryString = \"\"\"\n",
    "SELECT DISTINCT ?s ?SName\n",
    "WHERE {\n",
    "   ?s wdt:P31 wd:Q101609. #a TwelveOlympians\n",
    "   \n",
    "   ?s sc:name ?SName\n",
    "}\n",
    "LIMIT 50\n",
    "\"\"\"\n",
    "\n",
    "print(\"Results\")\n",
    "x=run_query(queryString)"
   ]
  },
  {
   "cell_type": "code",
   "execution_count": 11,
   "id": "dff3e3b0-6aaa-478c-bc1c-977328a2c584",
   "metadata": {},
   "outputs": [
    {
     "name": "stdout",
     "output_type": "stream",
     "text": [
      "Results\n",
      "[('p', 'http://www.wikidata.org/prop/direct/P31'), ('Pname', 'instance of'), ('obj', 'http://www.wikidata.org/entity/Q20830276'), ('Oname', 'group of mythical characters')]\n",
      "[('p', 'http://www.wikidata.org/prop/direct/P527'), ('Pname', 'has part'), ('obj', 'http://www.wikidata.org/entity/Q37340'), ('Oname', 'Apollo')]\n",
      "[('p', 'http://www.wikidata.org/prop/direct/P527'), ('Pname', 'has part'), ('obj', 'http://www.wikidata.org/entity/Q37122'), ('Oname', 'Athena')]\n",
      "[('p', 'http://www.wikidata.org/prop/direct/P527'), ('Pname', 'has part'), ('obj', 'http://www.wikidata.org/entity/Q38012'), ('Oname', 'Hera')]\n",
      "[('p', 'http://www.wikidata.org/prop/direct/P527'), ('Pname', 'has part'), ('obj', 'http://www.wikidata.org/entity/Q39503'), ('Oname', 'Artemis')]\n",
      "[('p', 'http://www.wikidata.org/prop/direct/P527'), ('Pname', 'has part'), ('obj', 'http://www.wikidata.org/entity/Q44384'), ('Oname', 'Hephaestus')]\n",
      "[('p', 'http://www.wikidata.org/prop/direct/P527'), ('Pname', 'has part'), ('obj', 'http://www.wikidata.org/entity/Q41484'), ('Oname', 'Hermes')]\n",
      "[('p', 'http://www.wikidata.org/prop/direct/P910'), ('Pname', \"topic's main category\"), ('obj', 'http://www.wikidata.org/entity/Q7452446'), ('Oname', 'Category:Twelve Olympians')]\n",
      "[('p', 'http://www.wikidata.org/prop/direct/P1343'), ('Pname', 'described by source'), ('obj', 'http://www.wikidata.org/entity/Q30059240'), ('Oname', \"Real'nyj slovar' klassicheskih drevnostej po Ljubkeru\")]\n",
      "[('p', 'http://www.wikidata.org/prop/direct/P527'), ('Pname', 'has part'), ('obj', 'http://www.wikidata.org/entity/Q41127'), ('Oname', 'Poseidon')]\n",
      "[('p', 'http://www.wikidata.org/prop/direct/P527'), ('Pname', 'has part'), ('obj', 'http://www.wikidata.org/entity/Q41419'), ('Oname', 'Hestia')]\n",
      "[('p', 'http://www.wikidata.org/prop/direct/P279'), ('Pname', 'subclass of'), ('obj', 'http://www.wikidata.org/entity/Q22989102'), ('Oname', 'Greek deity')]\n",
      "[('p', 'http://www.wikidata.org/prop/direct/P527'), ('Pname', 'has part'), ('obj', 'http://www.wikidata.org/entity/Q34201'), ('Oname', 'Zeus')]\n",
      "[('p', 'http://www.wikidata.org/prop/direct/P527'), ('Pname', 'has part'), ('obj', 'http://www.wikidata.org/entity/Q35500'), ('Oname', 'Aphrodite')]\n",
      "[('p', 'http://www.wikidata.org/prop/direct/P527'), ('Pname', 'has part'), ('obj', 'http://www.wikidata.org/entity/Q40730'), ('Oname', 'Demeter')]\n",
      "[('p', 'http://www.wikidata.org/prop/direct/P527'), ('Pname', 'has part'), ('obj', 'http://www.wikidata.org/entity/Q40901'), ('Oname', 'Ares')]\n",
      "16\n"
     ]
    }
   ],
   "source": [
    "#Weird result above (should be 12 instances, not 1), let's check properties/objects related to twelve olympians\n",
    "\n",
    "queryString = \"\"\"\n",
    "SELECT DISTINCT ?p ?Pname ?obj ?Oname\n",
    "WHERE {\n",
    "   wd:Q101609 ?p ?obj. #TwelveOlympians\n",
    "\n",
    "   ?p sc:name ?Pname.\n",
    "   ?obj sc:name ?Oname.\n",
    "\n",
    "}\n",
    "LIMIT 50\n",
    "\"\"\"\n",
    "print(\"Results\")\n",
    "x=run_query(queryString)"
   ]
  },
  {
   "cell_type": "code",
   "execution_count": 61,
   "id": "b1951952-75b7-4b86-80b1-3d47d2d742b0",
   "metadata": {},
   "outputs": [
    {
     "name": "stdout",
     "output_type": "stream",
     "text": [
      "Results\n",
      "[('Olympian', 'http://www.wikidata.org/entity/Q37340'), ('Oname', 'Apollo')]\n",
      "[('Olympian', 'http://www.wikidata.org/entity/Q37122'), ('Oname', 'Athena')]\n",
      "[('Olympian', 'http://www.wikidata.org/entity/Q38012'), ('Oname', 'Hera')]\n",
      "[('Olympian', 'http://www.wikidata.org/entity/Q39503'), ('Oname', 'Artemis')]\n",
      "[('Olympian', 'http://www.wikidata.org/entity/Q44384'), ('Oname', 'Hephaestus')]\n",
      "[('Olympian', 'http://www.wikidata.org/entity/Q41484'), ('Oname', 'Hermes')]\n",
      "[('Olympian', 'http://www.wikidata.org/entity/Q41127'), ('Oname', 'Poseidon')]\n",
      "[('Olympian', 'http://www.wikidata.org/entity/Q41419'), ('Oname', 'Hestia')]\n",
      "[('Olympian', 'http://www.wikidata.org/entity/Q34201'), ('Oname', 'Zeus')]\n",
      "[('Olympian', 'http://www.wikidata.org/entity/Q35500'), ('Oname', 'Aphrodite')]\n",
      "[('Olympian', 'http://www.wikidata.org/entity/Q40730'), ('Oname', 'Demeter')]\n",
      "[('Olympian', 'http://www.wikidata.org/entity/Q40901'), ('Oname', 'Ares')]\n",
      "12\n"
     ]
    }
   ],
   "source": [
    "#We see that we can access them thanks to the haspart property\n",
    "\n",
    "queryString = \"\"\"\n",
    "SELECT DISTINCT ?Olympian ?Oname\n",
    "WHERE {\n",
    "   wd:Q101609 wdt:P527 ?Olympian. #TwelveOlympians hasPart\n",
    "   \n",
    "   ?Olympian sc:name ?Oname. \n",
    "\n",
    "}\n",
    "LIMIT 50\n",
    "\"\"\"\n",
    "print(\"Results\")\n",
    "x=run_query(queryString)"
   ]
  },
  {
   "cell_type": "markdown",
   "id": "87d41a9c",
   "metadata": {},
   "source": [
    "Final query for this task"
   ]
  },
  {
   "cell_type": "code",
   "execution_count": 62,
   "id": "6ab53e4d",
   "metadata": {},
   "outputs": [
    {
     "name": "stdout",
     "output_type": "stream",
     "text": [
      "Results\n",
      "[('Olympian', 'http://www.wikidata.org/entity/Q37340'), ('Oname', 'Apollo')]\n",
      "[('Olympian', 'http://www.wikidata.org/entity/Q37122'), ('Oname', 'Athena')]\n",
      "[('Olympian', 'http://www.wikidata.org/entity/Q38012'), ('Oname', 'Hera')]\n",
      "[('Olympian', 'http://www.wikidata.org/entity/Q39503'), ('Oname', 'Artemis')]\n",
      "[('Olympian', 'http://www.wikidata.org/entity/Q44384'), ('Oname', 'Hephaestus')]\n",
      "[('Olympian', 'http://www.wikidata.org/entity/Q41484'), ('Oname', 'Hermes')]\n",
      "[('Olympian', 'http://www.wikidata.org/entity/Q41127'), ('Oname', 'Poseidon')]\n",
      "[('Olympian', 'http://www.wikidata.org/entity/Q41419'), ('Oname', 'Hestia')]\n",
      "[('Olympian', 'http://www.wikidata.org/entity/Q34201'), ('Oname', 'Zeus')]\n",
      "[('Olympian', 'http://www.wikidata.org/entity/Q35500'), ('Oname', 'Aphrodite')]\n",
      "[('Olympian', 'http://www.wikidata.org/entity/Q40730'), ('Oname', 'Demeter')]\n",
      "[('Olympian', 'http://www.wikidata.org/entity/Q40901'), ('Oname', 'Ares')]\n",
      "12\n"
     ]
    }
   ],
   "source": [
    "# Final Query\n",
    "\n",
    "queryString = \"\"\"\n",
    "SELECT DISTINCT ?Olympian ?Oname\n",
    "WHERE {\n",
    "   wd:Q101609 wdt:P527 ?Olympian. #TwelveOlympians hasPart\n",
    "   \n",
    "   ?Olympian sc:name ?Oname. \n",
    "\n",
    "}\n",
    "LIMIT 50\n",
    "\"\"\"\n",
    "print(\"Results\")\n",
    "x=run_query(queryString)\n",
    "\n",
    "#We can note that the only instance of Twelve Olympians found above (Dionysus) is not in the list. \n",
    "#There's indeed a debate about who is the 12th olympian, between Dionysus and Hestia "
   ]
  },
  {
   "cell_type": "markdown",
   "id": "3f1d6b3d",
   "metadata": {
    "tags": []
   },
   "source": [
    "# Task 8\n",
    "Compare ancient Greece with ancient Egypt and find how many deities each one has."
   ]
  },
  {
   "cell_type": "code",
   "execution_count": 4,
   "id": "b558bda3",
   "metadata": {},
   "outputs": [
    {
     "name": "stdout",
     "output_type": "stream",
     "text": [
      "Results\n",
      "[('obj', 'http://www.wikidata.org/entity/Q5648972'), ('Oname', 'Category:Deities')]\n",
      "[('obj', 'http://www.wikidata.org/entity/Q106727050'), ('Oname', 'Metropolitan Museum of Art Tagging Vocabulary')]\n",
      "[('obj', 'http://www.wikidata.org/entity/Q190'), ('Oname', 'God')]\n",
      "[('obj', 'http://www.wikidata.org/entity/Q105890973'), ('Oname', 'supernatural realm')]\n",
      "[('obj', 'http://www.wikidata.org/entity/Q17624054'), ('Oname', 'fictional deity')]\n",
      "[('obj', 'http://www.wikidata.org/entity/Q4271324'), ('Oname', 'mythical character')]\n",
      "[('obj', 'http://www.wikidata.org/entity/Q15619164'), ('Oname', 'abstract being')]\n",
      "[('obj', 'http://www.wikidata.org/entity/Q28855038'), ('Oname', 'supernatural being')]\n",
      "[('obj', 'http://www.wikidata.org/entity/P551'), ('Oname', 'residence')]\n",
      "[('obj', 'http://www.wikidata.org/entity/P460'), ('Oname', 'said to be the same as')]\n",
      "[('obj', 'http://www.wikidata.org/entity/Q1379405'), ('Oname', 'divinity')]\n",
      "[('obj', 'http://www.wikidata.org/entity/Q10809670'), ('Oname', 'Template:Infobox deity')]\n",
      "[('obj', 'http://www.wikidata.org/entity/Q17398299'), ('Oname', '’ilāh')]\n",
      "[('obj', 'http://www.wikidata.org/entity/P1049'), ('Oname', 'worshipped by')]\n",
      "[('obj', 'http://www.wikidata.org/entity/P2925'), ('Oname', 'domain of saint or deity')]\n",
      "[('obj', 'http://www.wikidata.org/entity/P4185'), ('Oname', 'iconographic symbol')]\n",
      "[('obj', 'http://www.wikidata.org/entity/P4675'), ('Oname', 'appears in the form of')]\n",
      "[('obj', 'http://www.wikidata.org/entity/Q13397408'), ('Oname', 'Božstvo')]\n",
      "[('obj', 'http://www.wikidata.org/entity/Q614503'), ('Oname', 'list of deities')]\n",
      "19\n"
     ]
    }
   ],
   "source": [
    "#We need to find a way to link deities and ancient civilizations\n",
    "#Let's see the properties/objects related to deities\n",
    "\n",
    "queryString = \"\"\"\n",
    "SELECT DISTINCT ?obj ?Oname\n",
    "WHERE {\n",
    "   wd:Q178885 ?p ?obj. #deity\n",
    "\n",
    "   ?obj sc:name ?Oname.\n",
    "\n",
    "}\n",
    "LIMIT 50\n",
    "\"\"\"\n",
    "\n",
    "print(\"Results\")\n",
    "x=run_query(queryString)"
   ]
  },
  {
   "cell_type": "code",
   "execution_count": 13,
   "id": "dd2bcdeb-b7a8-4f45-83f6-2d4d47badbd7",
   "metadata": {},
   "outputs": [
    {
     "name": "stdout",
     "output_type": "stream",
     "text": [
      "Results\n",
      "[('worshType', 'http://www.wikidata.org/entity/Q1189816'), ('Wname', 'ethnic religion')]\n",
      "[('worshType', 'http://www.wikidata.org/entity/Q24286894'), ('Wname', 'fictional humanoid species')]\n",
      "[('worshType', 'http://www.wikidata.org/entity/Q2590445'), ('Wname', 'fictional ethnic group')]\n",
      "[('worshType', 'http://www.wikidata.org/entity/Q73756872'), ('Wname', 'Star Trek species')]\n",
      "[('worshType', 'http://www.wikidata.org/entity/Q1649443'), ('Wname', 'national Church')]\n",
      "[('worshType', 'http://www.wikidata.org/entity/Q2325038'), ('Wname', 'state church')]\n",
      "[('worshType', 'http://www.wikidata.org/entity/Q32090'), ('Wname', 'lifestyle')]\n",
      "[('worshType', 'http://www.wikidata.org/entity/Q3586152'), ('Wname', 'Episcopal Church')]\n",
      "[('worshType', 'http://www.wikidata.org/entity/Q2728698'), ('Wname', 'religious belief')]\n",
      "[('worshType', 'http://www.wikidata.org/entity/Q28171280'), ('Wname', 'ancient civilization')]\n",
      "[('worshType', 'http://www.wikidata.org/entity/Q879146'), ('Wname', 'Christian denomination')]\n",
      "[('worshType', 'http://www.wikidata.org/entity/Q2630741'), ('Wname', 'community')]\n",
      "[('worshType', 'http://www.wikidata.org/entity/Q861184'), ('Wname', 'region of Peru')]\n",
      "[('worshType', 'http://www.wikidata.org/entity/Q10742'), ('Wname', 'autonomous community of Spain')]\n",
      "[('worshType', 'http://www.wikidata.org/entity/Q11042'), ('Wname', 'culture')]\n",
      "[('worshType', 'http://www.wikidata.org/entity/Q11197007'), ('Wname', 'ethnoreligious group')]\n",
      "[('worshType', 'http://www.wikidata.org/entity/Q11862829'), ('Wname', 'academic discipline')]\n",
      "[('worshType', 'http://www.wikidata.org/entity/Q1288568'), ('Wname', 'modern language')]\n",
      "[('worshType', 'http://www.wikidata.org/entity/Q1292119'), ('Wname', 'style')]\n",
      "[('worshType', 'http://www.wikidata.org/entity/Q13414953'), ('Wname', 'religious denomination')]\n",
      "20\n"
     ]
    }
   ],
   "source": [
    "#let's see the type of the objects linked to \"worshipped by\" property\n",
    "\n",
    "queryString = \"\"\"\n",
    "SELECT DISTINCT ?worshType ?Wname\n",
    "WHERE {\n",
    "   ?s wdt:P1049 ?worshipper. #worshippedBy\n",
    "   ?worshipper wdt:P31 ?worshType. #a\n",
    "\n",
    "   ?worshType sc:name ?Wname.\n",
    "\n",
    "}\n",
    "LIMIT 20\n",
    "\"\"\"\n",
    "\n",
    "print(\"Results\")\n",
    "x=run_query(queryString)"
   ]
  },
  {
   "cell_type": "code",
   "execution_count": 11,
   "id": "35c133ad-5f65-4dbd-875c-c3529aaa2c92",
   "metadata": {},
   "outputs": [
    {
     "name": "stdout",
     "output_type": "stream",
     "text": [
      "Results\n",
      "[('c', 'http://www.wikidata.org/entity/Q11768'), ('Cname', 'Ancient Egypt'), ('deity', 'http://www.wikidata.org/entity/Q129106'), ('Dname', 'Bastet')]\n",
      "[('c', 'http://www.wikidata.org/entity/Q11768'), ('Cname', 'Ancient Egypt'), ('deity', 'http://www.wikidata.org/entity/Q146921'), ('Dname', 'Thoth')]\n",
      "[('c', 'http://www.wikidata.org/entity/Q11772'), ('Cname', 'Ancient Greece'), ('deity', 'http://www.wikidata.org/entity/Q214987'), ('Dname', 'Eirene')]\n",
      "[('c', 'http://www.wikidata.org/entity/Q11768'), ('Cname', 'Ancient Egypt'), ('deity', 'http://www.wikidata.org/entity/Q4066410'), ('Dname', 'Anit')]\n",
      "4\n"
     ]
    }
   ],
   "source": [
    "#Note that we already found Ancient greece BGP while getting instances of ancient civilizations: [('s', 'http://www.wikidata.org/entity/Q11772'), ('CountryName', 'Ancient Greece')]\n",
    "#Let's check if worshipped by returns everything for our 2 desired civilizations :\n",
    "\n",
    "queryString = \"\"\"\n",
    "SELECT DISTINCT ?c ?Cname ?deity ?Dname\n",
    "WHERE {\n",
    "    VALUES ?c {wd:Q11772 wd:Q11768} #AncientGreece AncientEgypt\n",
    "    \n",
    "    ?deity wdt:P1049 ?c. #worshippedBy\n",
    "\n",
    "   ?c sc:name ?Cname.\n",
    "   ?deity sc:name ?Dname.\n",
    "}\n",
    "LIMIT 20\n",
    "\"\"\"\n",
    "\n",
    "print(\"Results\")\n",
    "x=run_query(queryString)"
   ]
  },
  {
   "cell_type": "code",
   "execution_count": 15,
   "id": "1314a0b1-9146-43cd-aca0-0f3d8181371a",
   "metadata": {},
   "outputs": [
    {
     "name": "stdout",
     "output_type": "stream",
     "text": [
      "Results\n",
      "[('c', 'http://www.wikidata.org/entity/Q34726'), ('Cname', 'Greek mythology'), ('deity', 'http://www.wikidata.org/entity/Q41127'), ('Dname', 'Poseidon')]\n",
      "1\n"
     ]
    }
   ],
   "source": [
    "#It seems very incomplete, let's change the strategy\n",
    "#Let's see who worships Poseidon (bgp is given)\n",
    "\n",
    "queryString = \"\"\"\n",
    "SELECT DISTINCT ?c ?Cname ?deity ?Dname\n",
    "WHERE {\n",
    "    VALUES ?deity {wd:Q41127} #Poseidon\n",
    "    \n",
    "    ?deity wdt:P1049 ?c. #worshippedBy\n",
    "\n",
    "   ?c sc:name ?Cname.\n",
    "   ?deity sc:name ?Dname.\n",
    "}\n",
    "LIMIT 20\n",
    "\"\"\"\n",
    "\n",
    "print(\"Results\")\n",
    "x=run_query(queryString)\n",
    "#It is Greek mytology and not Ancient Greece."
   ]
  },
  {
   "cell_type": "code",
   "execution_count": 21,
   "id": "49a8b56c-8902-45ac-a492-62558ce044fc",
   "metadata": {},
   "outputs": [
    {
     "name": "stdout",
     "output_type": "stream",
     "text": [
      "Results\n",
      "[('p', 'http://www.wikidata.org/prop/direct/P31'), ('Pname', 'instance of'), ('obj', 'http://www.wikidata.org/entity/Q28171280'), ('Oname', 'ancient civilization')]\n",
      "[('p', 'http://www.wikidata.org/prop/direct/P2184'), ('Pname', 'history of topic'), ('obj', 'http://www.wikidata.org/entity/Q766876'), ('Oname', 'history of ancient Egypt')]\n",
      "[('p', 'http://www.wikidata.org/prop/direct/P155'), ('Pname', 'follows'), ('obj', 'http://www.wikidata.org/entity/Q714601'), ('Oname', 'Predynastic Period of Egypt')]\n",
      "[('p', 'http://www.wikidata.org/prop/direct/P1343'), ('Pname', 'described by source'), ('obj', 'http://www.wikidata.org/entity/Q1138524'), ('Oname', 'Paulys Realenzyklopädie der klassischen Altertumswissenschaft')]\n",
      "[('p', 'http://www.wikidata.org/prop/direct/P30'), ('Pname', 'continent'), ('obj', 'http://www.wikidata.org/entity/Q15'), ('Oname', 'Africa')]\n",
      "[('p', 'http://www.wikidata.org/prop/direct/P1343'), ('Pname', 'described by source'), ('obj', 'http://www.wikidata.org/entity/Q17378135'), ('Oname', 'Great Soviet Encyclopedia (1969–1978)')]\n",
      "[('p', 'http://www.wikidata.org/prop/direct/P6885'), ('Pname', 'historical region'), ('obj', 'http://www.wikidata.org/entity/Q269678'), ('Oname', 'ancient Near East')]\n",
      "[('p', 'http://www.wikidata.org/prop/direct/P31'), ('Pname', 'instance of'), ('obj', 'http://www.wikidata.org/entity/Q3024240'), ('Oname', 'historical country')]\n",
      "[('p', 'http://www.wikidata.org/prop/direct/P31'), ('Pname', 'instance of'), ('obj', 'http://www.wikidata.org/entity/Q3502482'), ('Oname', 'cultural region')]\n",
      "[('p', 'http://www.wikidata.org/prop/direct/P1343'), ('Pname', 'described by source'), ('obj', 'http://www.wikidata.org/entity/Q4173137'), ('Oname', 'Jewish Encyclopedia of Brockhaus and Efron')]\n",
      "[('p', 'http://www.wikidata.org/prop/direct/P5008'), ('Pname', 'on focus list of Wikimedia project'), ('obj', 'http://www.wikidata.org/entity/Q5460604'), ('Oname', 'Wikipedia:Vital articles')]\n",
      "[('p', 'http://www.wikidata.org/prop/direct/P31'), ('Pname', 'instance of'), ('obj', 'http://www.wikidata.org/entity/Q1620908'), ('Oname', 'historical region')]\n",
      "[('p', 'http://www.wikidata.org/prop/direct/P155'), ('Pname', 'follows'), ('obj', 'http://www.wikidata.org/entity/Q208520'), ('Oname', 'Prehistoric Egypt')]\n",
      "[('p', 'http://www.wikidata.org/prop/direct/P2579'), ('Pname', 'studied by'), ('obj', 'http://www.wikidata.org/entity/Q4752891'), ('Oname', 'ancient Near Eastern studies')]\n",
      "[('p', 'http://www.wikidata.org/prop/direct/P2633'), ('Pname', 'geography of topic'), ('obj', 'http://www.wikidata.org/entity/Q2487803'), ('Oname', 'geography of Ancient Egypt')]\n",
      "[('p', 'http://www.wikidata.org/prop/direct/P8744'), ('Pname', 'economy of topic'), ('obj', 'http://www.wikidata.org/entity/Q24734962'), ('Oname', 'economy of Ancient Egypt')]\n",
      "[('p', 'http://www.wikidata.org/prop/direct/P910'), ('Pname', \"topic's main category\"), ('obj', 'http://www.wikidata.org/entity/Q7213740'), ('Oname', 'Category:Ancient Egypt')]\n",
      "[('p', 'http://www.wikidata.org/prop/direct/P5125'), ('Pname', 'Wikimedia outline'), ('obj', 'http://www.wikidata.org/entity/Q7112549'), ('Oname', 'outline of ancient Egypt')]\n",
      "[('p', 'http://www.wikidata.org/prop/direct/P7867'), ('Pname', 'category for maps'), ('obj', 'http://www.wikidata.org/entity/Q84019702'), ('Oname', 'Category:Maps of Ancient Egypt')]\n",
      "[('p', 'http://www.wikidata.org/prop/direct/P6885'), ('Pname', 'historical region'), ('obj', 'http://www.wikidata.org/entity/Q11041351'), ('Oname', 'Nile Valley Civilizations')]\n",
      "[('p', 'http://www.wikidata.org/prop/direct/P1151'), ('Pname', \"topic's main Wikimedia portal\"), ('obj', 'http://www.wikidata.org/entity/Q8440998'), ('Oname', 'Portal:Ancient Egypt')]\n",
      "21\n"
     ]
    }
   ],
   "source": [
    "#Let's find out if there is an equivalent for Ancient Egypt (like egyptian mythology or Ancient egypt mythology)\n",
    "#To do so, we have to find an ancient Egypt deity\n",
    "#Let's get back to Ancient Egypt properties/objects\n",
    "\n",
    "queryString = \"\"\"\n",
    "SELECT DISTINCT ?p ?Pname ?obj ?Oname\n",
    "WHERE {\n",
    "   wd:Q11768 ?p ?obj. #AncientEgypt\n",
    "\n",
    "   ?p sc:name ?Pname.\n",
    "   ?obj sc:name ?Oname.\n",
    "\n",
    "}\n",
    "LIMIT 50\n",
    "\"\"\"\n",
    "\n",
    "print(\"Results\")\n",
    "x=run_query(queryString)\n"
   ]
  },
  {
   "cell_type": "code",
   "execution_count": 22,
   "id": "b0081d03-abf9-42d0-bf81-a0260df8ea13",
   "metadata": {},
   "outputs": [
    {
     "name": "stdout",
     "output_type": "stream",
     "text": [
      "Results\n",
      "[('p', 'http://www.wikidata.org/prop/direct/P2578'), ('Pname', 'studies'), ('obj', 'http://www.wikidata.org/entity/Q11768'), ('Oname', 'Ancient Egypt')]\n",
      "[('p', 'http://www.wikidata.org/prop/direct/P31'), ('Pname', 'instance of'), ('obj', 'http://www.wikidata.org/entity/Q11862829'), ('Oname', 'academic discipline')]\n",
      "[('p', 'http://www.wikidata.org/prop/direct/P1343'), ('Pname', 'described by source'), ('obj', 'http://www.wikidata.org/entity/Q19180675'), ('Oname', 'Small Brockhaus and Efron Encyclopedic Dictionary')]\n",
      "[('p', 'http://www.wikidata.org/prop/direct/P1343'), ('Pname', 'described by source'), ('obj', 'http://www.wikidata.org/entity/Q2657718'), ('Oname', 'Armenian Soviet Encyclopedia')]\n",
      "[('p', 'http://www.wikidata.org/prop/direct/P1343'), ('Pname', 'described by source'), ('obj', 'http://www.wikidata.org/entity/Q3181656'), ('Oname', 'The Nuttall Encyclopædia')]\n",
      "[('p', 'http://www.wikidata.org/prop/direct/P31'), ('Pname', 'instance of'), ('obj', 'http://www.wikidata.org/entity/Q4671286'), ('Oname', 'academic major')]\n",
      "[('p', 'http://www.wikidata.org/prop/direct/P1343'), ('Pname', 'described by source'), ('obj', 'http://www.wikidata.org/entity/Q602358'), ('Oname', 'Brockhaus and Efron Encyclopedic Dictionary')]\n",
      "[('p', 'http://www.wikidata.org/prop/direct/P361'), ('Pname', 'part of'), ('obj', 'http://www.wikidata.org/entity/Q23498'), ('Oname', 'archaeology')]\n",
      "[('p', 'http://www.wikidata.org/prop/direct/P279'), ('Pname', 'subclass of'), ('obj', 'http://www.wikidata.org/entity/Q23498'), ('Oname', 'archaeology')]\n",
      "[('p', 'http://www.wikidata.org/prop/direct/P527'), ('Pname', 'has part'), ('obj', 'http://www.wikidata.org/entity/Q205740'), ('Oname', 'Egyptian mythology')]\n",
      "[('p', 'http://www.wikidata.org/prop/direct/P3095'), ('Pname', 'practiced by'), ('obj', 'http://www.wikidata.org/entity/Q1350189'), ('Oname', 'egyptologist')]\n",
      "[('p', 'http://www.wikidata.org/prop/direct/P2578'), ('Pname', 'studies'), ('obj', 'http://www.wikidata.org/entity/Q135028'), ('Oname', 'Nubia')]\n",
      "[('p', 'http://www.wikidata.org/prop/direct/P361'), ('Pname', 'part of'), ('obj', 'http://www.wikidata.org/entity/Q4752891'), ('Oname', 'ancient Near Eastern studies')]\n",
      "[('p', 'http://www.wikidata.org/prop/direct/P279'), ('Pname', 'subclass of'), ('obj', 'http://www.wikidata.org/entity/Q4752891'), ('Oname', 'ancient Near Eastern studies')]\n",
      "[('p', 'http://www.wikidata.org/prop/direct/P910'), ('Pname', \"topic's main category\"), ('obj', 'http://www.wikidata.org/entity/Q6436420'), ('Oname', 'Category:Egyptology')]\n",
      "15\n"
     ]
    }
   ],
   "source": [
    "#Nothing promissing, let's use a result from a previous query : [('obj', 'http://www.wikidata.org/entity/Q145903'), ('Oname', 'egyptology')]\n",
    "#Checking properties/objects linked\n",
    "\n",
    "queryString = \"\"\"\n",
    "SELECT DISTINCT ?p ?Pname ?obj ?Oname\n",
    "WHERE {\n",
    "   wd:Q145903 ?p ?obj. #egyptology\n",
    "\n",
    "   ?p sc:name ?Pname.\n",
    "   ?obj sc:name ?Oname.\n",
    "\n",
    "}\n",
    "LIMIT 50\n",
    "\"\"\"\n",
    "\n",
    "print(\"Results\")\n",
    "x=run_query(queryString)"
   ]
  },
  {
   "cell_type": "code",
   "execution_count": 24,
   "id": "1159fbeb-ed15-44a4-9367-91aae8f592f3",
   "metadata": {},
   "outputs": [
    {
     "name": "stdout",
     "output_type": "stream",
     "text": [
      "Results\n",
      "[('p', 'http://www.wikidata.org/prop/direct/P527'), ('Pname', 'has part'), ('obj', 'http://www.wikidata.org/entity/Q145915'), ('Oname', 'Nekhbet')]\n",
      "[('p', 'http://www.wikidata.org/prop/direct/P279'), ('Pname', 'subclass of'), ('obj', 'http://www.wikidata.org/entity/Q9174'), ('Oname', 'religion')]\n",
      "[('p', 'http://www.wikidata.org/prop/direct/P31'), ('Pname', 'instance of'), ('obj', 'http://www.wikidata.org/entity/Q1047113'), ('Oname', 'specialty')]\n",
      "[('p', 'http://www.wikidata.org/prop/direct/P361'), ('Pname', 'part of'), ('obj', 'http://www.wikidata.org/entity/Q447131'), ('Oname', 'religion of ancient Egypt')]\n",
      "[('p', 'http://www.wikidata.org/prop/direct/P31'), ('Pname', 'instance of'), ('obj', 'http://www.wikidata.org/entity/Q9134'), ('Oname', 'mythology')]\n",
      "[('p', 'http://www.wikidata.org/prop/direct/P279'), ('Pname', 'subclass of'), ('obj', 'http://www.wikidata.org/entity/Q9134'), ('Oname', 'mythology')]\n",
      "[('p', 'http://www.wikidata.org/prop/direct/P361'), ('Pname', 'part of'), ('obj', 'http://www.wikidata.org/entity/Q145903'), ('Oname', 'egyptology')]\n",
      "[('p', 'http://www.wikidata.org/prop/direct/P527'), ('Pname', 'has part'), ('obj', 'http://www.wikidata.org/entity/Q262099'), ('Oname', 'Imentet')]\n",
      "[('p', 'http://www.wikidata.org/prop/direct/P527'), ('Pname', 'has part'), ('obj', 'http://www.wikidata.org/entity/Q25203206'), ('Oname', 'Medjed')]\n",
      "[('p', 'http://www.wikidata.org/prop/direct/P910'), ('Pname', \"topic's main category\"), ('obj', 'http://www.wikidata.org/entity/Q8408959'), ('Oname', 'Category:Egyptian mythology')]\n",
      "[('p', 'http://www.wikidata.org/prop/direct/P527'), ('Pname', 'has part'), ('obj', 'http://www.wikidata.org/entity/Q918104'), ('Oname', 'Pakhet')]\n",
      "11\n"
     ]
    }
   ],
   "source": [
    "#We found the Bgp for Egyptian Mythology. ('obj', 'http://www.wikidata.org/entity/Q205740'), ('Oname', 'Egyptian mythology')]\n",
    "#Let's explore it\n",
    "\n",
    "queryString = \"\"\"\n",
    "SELECT DISTINCT ?p ?Pname ?obj ?Oname\n",
    "WHERE {\n",
    "   wd:Q205740 ?p ?obj. #EgyptianMythology\n",
    "\n",
    "   ?p sc:name ?Pname.\n",
    "   ?obj sc:name ?Oname.\n",
    "\n",
    "}\n",
    "LIMIT 50\n",
    "\"\"\"\n",
    "\n",
    "print(\"Results\")\n",
    "x=run_query(queryString)"
   ]
  },
  {
   "cell_type": "code",
   "execution_count": 27,
   "id": "e59e39bd-fe06-4f39-848e-107044350d2e",
   "metadata": {},
   "outputs": [
    {
     "name": "stdout",
     "output_type": "stream",
     "text": [
      "Results\n",
      "[('p', 'http://www.wikidata.org/prop/direct/P1343'), ('Pname', 'described by source'), ('obj', 'http://www.wikidata.org/entity/Q106727050'), ('Oname', 'Metropolitan Museum of Art Tagging Vocabulary')]\n",
      "[('p', 'http://www.wikidata.org/prop/direct/P1343'), ('Pname', 'described by source'), ('obj', 'http://www.wikidata.org/entity/Q1138524'), ('Oname', 'Paulys Realenzyklopädie der klassischen Altertumswissenschaft')]\n",
      "[('p', 'http://www.wikidata.org/prop/direct/P1343'), ('Pname', 'described by source'), ('obj', 'http://www.wikidata.org/entity/Q19180675'), ('Oname', 'Small Brockhaus and Efron Encyclopedic Dictionary')]\n",
      "[('p', 'http://www.wikidata.org/prop/direct/P1343'), ('Pname', 'described by source'), ('obj', 'http://www.wikidata.org/entity/Q602358'), ('Oname', 'Brockhaus and Efron Encyclopedic Dictionary')]\n",
      "[('p', 'http://www.wikidata.org/prop/direct/P361'), ('Pname', 'part of'), ('obj', 'http://www.wikidata.org/entity/Q1367434'), ('Oname', 'classical mythology')]\n",
      "[('p', 'http://www.wikidata.org/prop/direct/P527'), ('Pname', 'has part'), ('obj', 'http://www.wikidata.org/entity/Q1521549'), ('Oname', 'Greek underworld')]\n",
      "[('p', 'http://www.wikidata.org/prop/direct/P527'), ('Pname', 'has part'), ('obj', 'http://www.wikidata.org/entity/Q22989102'), ('Oname', 'Greek deity')]\n",
      "[('p', 'http://www.wikidata.org/prop/direct/P910'), ('Pname', \"topic's main category\"), ('obj', 'http://www.wikidata.org/entity/Q7214271'), ('Oname', 'Category:Greek mythology')]\n",
      "[('p', 'http://www.wikidata.org/prop/direct/P7867'), ('Pname', 'category for maps'), ('obj', 'http://www.wikidata.org/entity/Q84046885'), ('Oname', 'Category:Maps of Greek mythology')]\n",
      "[('p', 'http://www.wikidata.org/prop/direct/P31'), ('Pname', 'instance of'), ('obj', 'http://www.wikidata.org/entity/Q9134'), ('Oname', 'mythology')]\n",
      "10\n"
     ]
    }
   ],
   "source": [
    "#I forgot to explore greek mythology :\n",
    "\n",
    "queryString = \"\"\"\n",
    "SELECT DISTINCT ?p ?Pname ?obj ?Oname\n",
    "WHERE {\n",
    "   wd:Q34726 ?p ?obj. #GreekMythology\n",
    "\n",
    "   ?p sc:name ?Pname.\n",
    "   ?obj sc:name ?Oname.\n",
    "\n",
    "}\n",
    "LIMIT 50\n",
    "\"\"\"\n",
    "\n",
    "print(\"Results\")\n",
    "x=run_query(queryString)"
   ]
  },
  {
   "cell_type": "code",
   "execution_count": 63,
   "id": "657cd5d5-fd4e-450b-b8c0-e8f3ce94571a",
   "metadata": {},
   "outputs": [
    {
     "name": "stdout",
     "output_type": "stream",
     "text": [
      "Results\n",
      "[('c', 'http://www.wikidata.org/entity/Q34726'), ('Cname', 'Greek mythology'), ('deity', 'http://www.wikidata.org/entity/Q180325'), ('Dname', 'Ersa')]\n",
      "[('c', 'http://www.wikidata.org/entity/Q34726'), ('Cname', 'Greek mythology'), ('deity', 'http://www.wikidata.org/entity/Q193115'), ('Dname', 'Scylla')]\n",
      "[('c', 'http://www.wikidata.org/entity/Q34726'), ('Cname', 'Greek mythology'), ('deity', 'http://www.wikidata.org/entity/Q183417'), ('Dname', 'Chiron')]\n",
      "[('c', 'http://www.wikidata.org/entity/Q34726'), ('Cname', 'Greek mythology'), ('deity', 'http://www.wikidata.org/entity/Q192407'), ('Dname', 'Orestes')]\n",
      "[('c', 'http://www.wikidata.org/entity/Q34726'), ('Cname', 'Greek mythology'), ('deity', 'http://www.wikidata.org/entity/Q617977'), ('Dname', 'Apate')]\n",
      "[('c', 'http://www.wikidata.org/entity/Q34726'), ('Cname', 'Greek mythology'), ('deity', 'http://www.wikidata.org/entity/Q1235379'), ('Dname', 'Pasithea')]\n",
      "[('c', 'http://www.wikidata.org/entity/Q34726'), ('Cname', 'Greek mythology'), ('deity', 'http://www.wikidata.org/entity/Q272918'), ('Dname', 'Chronos')]\n",
      "[('c', 'http://www.wikidata.org/entity/Q34726'), ('Cname', 'Greek mythology'), ('deity', 'http://www.wikidata.org/entity/Q3314298'), ('Dname', 'Euthenia')]\n",
      "[('c', 'http://www.wikidata.org/entity/Q34726'), ('Cname', 'Greek mythology'), ('deity', 'http://www.wikidata.org/entity/Q172725'), ('Dname', 'Ajax the Great')]\n",
      "[('c', 'http://www.wikidata.org/entity/Q34726'), ('Cname', 'Greek mythology'), ('deity', 'http://www.wikidata.org/entity/Q391089'), ('Dname', 'Alala')]\n",
      "[('c', 'http://www.wikidata.org/entity/Q34726'), ('Cname', 'Greek mythology'), ('deity', 'http://www.wikidata.org/entity/Q1119537'), ('Dname', 'Phaethusa')]\n",
      "[('c', 'http://www.wikidata.org/entity/Q34726'), ('Cname', 'Greek mythology'), ('deity', 'http://www.wikidata.org/entity/Q2803572'), ('Dname', 'Tisamenus')]\n",
      "[('c', 'http://www.wikidata.org/entity/Q205740'), ('Cname', 'Egyptian mythology'), ('deity', 'http://www.wikidata.org/entity/Q1128502'), ('Dname', 'Imset')]\n",
      "[('c', 'http://www.wikidata.org/entity/Q205740'), ('Cname', 'Egyptian mythology'), ('deity', 'http://www.wikidata.org/entity/Q6157241'), ('Dname', 'Unty')]\n",
      "[('c', 'http://www.wikidata.org/entity/Q34726'), ('Cname', 'Greek mythology'), ('deity', 'http://www.wikidata.org/entity/Q463107'), ('Dname', 'Autolycus')]\n",
      "[('c', 'http://www.wikidata.org/entity/Q34726'), ('Cname', 'Greek mythology'), ('deity', 'http://www.wikidata.org/entity/Q15077045'), ('Dname', 'Chione')]\n",
      "[('c', 'http://www.wikidata.org/entity/Q205740'), ('Cname', 'Egyptian mythology'), ('deity', 'http://www.wikidata.org/entity/Q918104'), ('Dname', 'Pakhet')]\n",
      "[('c', 'http://www.wikidata.org/entity/Q34726'), ('Cname', 'Greek mythology'), ('deity', 'http://www.wikidata.org/entity/Q44204'), ('Dname', 'Cronus')]\n",
      "[('c', 'http://www.wikidata.org/entity/Q34726'), ('Cname', 'Greek mythology'), ('deity', 'http://www.wikidata.org/entity/Q174353'), ('Dname', 'Orpheus')]\n",
      "[('c', 'http://www.wikidata.org/entity/Q205740'), ('Cname', 'Egyptian mythology'), ('deity', 'http://www.wikidata.org/entity/Q946657'), ('Dname', 'Iah')]\n",
      "[('c', 'http://www.wikidata.org/entity/Q205740'), ('Cname', 'Egyptian mythology'), ('deity', 'http://www.wikidata.org/entity/Q190511'), ('Dname', 'Apep')]\n",
      "[('c', 'http://www.wikidata.org/entity/Q34726'), ('Cname', 'Greek mythology'), ('deity', 'http://www.wikidata.org/entity/Q1378306'), ('Dname', 'Eurotas')]\n",
      "[('c', 'http://www.wikidata.org/entity/Q34726'), ('Cname', 'Greek mythology'), ('deity', 'http://www.wikidata.org/entity/Q205251'), ('Dname', 'Plutus')]\n",
      "[('c', 'http://www.wikidata.org/entity/Q34726'), ('Cname', 'Greek mythology'), ('deity', 'http://www.wikidata.org/entity/Q180287'), ('Dname', 'Moirae')]\n",
      "[('c', 'http://www.wikidata.org/entity/Q34726'), ('Cname', 'Greek mythology'), ('deity', 'http://www.wikidata.org/entity/Q1057384'), ('Dname', 'Pandarus')]\n",
      "[('c', 'http://www.wikidata.org/entity/Q34726'), ('Cname', 'Greek mythology'), ('deity', 'http://www.wikidata.org/entity/Q975581'), ('Dname', 'Philotes')]\n",
      "[('c', 'http://www.wikidata.org/entity/Q205740'), ('Cname', 'Egyptian mythology'), ('deity', 'http://www.wikidata.org/entity/Q10665160'), ('Dname', 'Sehem')]\n",
      "[('c', 'http://www.wikidata.org/entity/Q34726'), ('Cname', 'Greek mythology'), ('deity', 'http://www.wikidata.org/entity/Q159168'), ('Dname', 'Themis')]\n",
      "[('c', 'http://www.wikidata.org/entity/Q34726'), ('Cname', 'Greek mythology'), ('deity', 'http://www.wikidata.org/entity/Q161582'), ('Dname', 'Andromeda')]\n",
      "[('c', 'http://www.wikidata.org/entity/Q34726'), ('Cname', 'Greek mythology'), ('deity', 'http://www.wikidata.org/entity/Q774101'), ('Dname', 'Aura')]\n",
      "30\n"
     ]
    }
   ],
   "source": [
    "#We can list all deities worshipped by both mythologies now (using the Values keyword)\n",
    "\n",
    "queryString = \"\"\"\n",
    "SELECT DISTINCT ?c ?Cname ?deity ?Dname\n",
    "WHERE {\n",
    "    VALUES ?c {wd:Q34726 wd:Q205740} #GreekMyth EgyptianMyth\n",
    "    \n",
    "    ?deity wdt:P1049 ?c. #worshippedBy\n",
    "\n",
    "   ?c sc:name ?Cname.\n",
    "   ?deity sc:name ?Dname.\n",
    "}\n",
    "GROUP BY ?c ?Cname ?deity ?Dname\n",
    "LIMIT 30\n",
    "\"\"\"\n",
    "\n",
    "print(\"Results\")\n",
    "x=run_query(queryString)"
   ]
  },
  {
   "cell_type": "code",
   "execution_count": 64,
   "id": "49be24f3-3988-43ee-b948-d5b3c37fd6be",
   "metadata": {},
   "outputs": [
    {
     "name": "stdout",
     "output_type": "stream",
     "text": [
      "Results\n",
      "[('Cname', 'Egyptian mythology'), ('count', '19')]\n",
      "[('Cname', 'Greek mythology'), ('count', '99')]\n",
      "2\n"
     ]
    }
   ],
   "source": [
    "#Attempt 1 : adding the aggregate\n",
    "\n",
    "queryString = \"\"\"\n",
    "SELECT DISTINCT ?Cname (count(?deity) as ?count)\n",
    "WHERE {\n",
    "    VALUES ?c {wd:Q34726 wd:Q205740} #GreekMyth EgyptianMyth\n",
    "    \n",
    "    ?deity wdt:P1049 ?c. #worshippedBy\n",
    "\n",
    "   ?c sc:name ?Cname.\n",
    "   ?deity sc:name ?Dname.\n",
    "}\n",
    "GROUP BY ?Cname\n",
    "LIMIT 30\n",
    "\"\"\"\n",
    "\n",
    "print(\"Results\")\n",
    "x=run_query(queryString)"
   ]
  },
  {
   "cell_type": "code",
   "execution_count": 7,
   "id": "76c603ae-8d18-4534-90d3-770d94a05292",
   "metadata": {},
   "outputs": [
    {
     "name": "stdout",
     "output_type": "stream",
     "text": [
      "Results\n",
      "[('deities', 'http://www.wikidata.org/entity/Q146083'), ('Dname', 'Ancient Egyptian deity')]\n",
      "[('deities', 'http://www.wikidata.org/entity/Q22989102'), ('Dname', 'Greek deity')]\n",
      "2\n"
     ]
    }
   ],
   "source": [
    "#19 egyptian deities seems to be a low amount\n",
    "#Let's try another approach to see if we get similar result\n",
    "#We know greek deity is a subclass of deity, let's see if there is an equivalent for ancient egypt deities using regex\n",
    "\n",
    "queryString = \"\"\"\n",
    "SELECT DISTINCT ?deities ?Dname\n",
    "WHERE {\n",
    "\n",
    "    ?deities wdt:P279 wd:Q178885 . #subclassOf deity\n",
    "\n",
    "    ?deities sc:name ?Dname.\n",
    "    FILTER(REGEX(?Dname,\"([Ee]gypt|[Gg]ree)\"))\n",
    "}\n",
    "\"\"\"\n",
    "\n",
    "print(\"Results\")\n",
    "x=run_query(queryString)"
   ]
  },
  {
   "cell_type": "code",
   "execution_count": 25,
   "id": "308d18ad-2699-4b91-939d-44e6f4628f52",
   "metadata": {},
   "outputs": [
    {
     "name": "stdout",
     "output_type": "stream",
     "text": [
      "Results\n",
      "[('AncienEgyptDeities', '281'), ('AncientGreeceDeities', '252')]\n",
      "1\n"
     ]
    }
   ],
   "source": [
    "#Let's use the two bgp found above and count their instances\n",
    "\n",
    "queryString = \"\"\"\n",
    "SELECT (count(distinct ?egyptianDeity) as ?AncienEgyptDeities) (count(distinct ?greekDeity) as ?AncientGreeceDeities) \n",
    "WHERE {\n",
    "    ?egyptianDeity wdt:P31 wd:Q146083. #AncientEgyptDeity\n",
    "    ?greekDeity wdt:P31 wd:Q22989102. #GreekDeity\n",
    "}\n",
    "\"\"\"\n",
    "\n",
    "print(\"Results\")\n",
    "x=run_query(queryString)\n",
    "\n",
    "#This result seem more appropriate than the first one, let's keep it as the final answer"
   ]
  },
  {
   "cell_type": "markdown",
   "id": "abb118a1",
   "metadata": {},
   "source": [
    "Final query for this task"
   ]
  },
  {
   "cell_type": "code",
   "execution_count": 26,
   "id": "536f5892",
   "metadata": {},
   "outputs": [
    {
     "name": "stdout",
     "output_type": "stream",
     "text": [
      "Results\n",
      "[('AncienEgyptDeities', '281'), ('AncientGreeceDeities', '252')]\n",
      "1\n"
     ]
    }
   ],
   "source": [
    "# Final query\n",
    "\n",
    "queryString = \"\"\"\n",
    "SELECT (count(distinct ?egyptianDeity) as ?AncienEgyptDeities) (count(distinct ?greekDeity) as ?AncientGreeceDeities) \n",
    "WHERE {\n",
    "    ?egyptianDeity wdt:P31 wd:Q146083. #a AncientEgyptDeity\n",
    "    ?greekDeity wdt:P31 wd:Q22989102. #a GreekDeity\n",
    "}\n",
    "\"\"\"\n",
    "\n",
    "print(\"Results\")\n",
    "x=run_query(queryString)"
   ]
  }
 ],
 "metadata": {
  "kernelspec": {
   "display_name": "Python 3",
   "language": "python",
   "name": "python3"
  },
  "language_info": {
   "codemirror_mode": {
    "name": "ipython",
    "version": 3
   },
   "file_extension": ".py",
   "mimetype": "text/x-python",
   "name": "python",
   "nbconvert_exporter": "python",
   "pygments_lexer": "ipython3",
   "version": "3.7.10"
  }
 },
 "nbformat": 4,
 "nbformat_minor": 5
}
