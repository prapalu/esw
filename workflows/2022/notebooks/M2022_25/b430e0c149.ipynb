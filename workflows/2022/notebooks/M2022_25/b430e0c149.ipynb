{
 "cells": [
  {
   "cell_type": "markdown",
   "id": "28839677",
   "metadata": {},
   "source": [
    "# General instructions\n",
    "\n",
    "The goal of the project is to materialize a set of **exploratory workloads** over a real-world, large-scale,  open-domain KG: [WikiData](https://www.wikidata.org/wiki/Wikidata:Main_Page)\n",
    "\n",
    "An exploratory workload  is composed by a set of queries, where each query is related to the information obtained previously.\n",
    "\n",
    "An exploratory workload starts with a usually vague, open ended question, and does not assume the person issuing the workload has a clear understanding of the data contained in the target database or its structure.\n",
    "\n",
    "Remeber that:\n",
    "\n",
    "1. All the queries must run in the python notebook\n",
    "2. You can use classes and properties only if you find them via a SPARQL query that must be present in the notebook\n",
    "3. You do not delete useless queries. Keep everything that is synthatically valid \n",
    "\n",
    "```\n",
    "?p <http://schema.org/name> ?name .\n",
    "```\n",
    "    \n",
    "    is the BGP returning a human-readable name of a property or a class in Wikidata."
   ]
  },
  {
   "cell_type": "code",
   "execution_count": 2,
   "id": "cf13196b",
   "metadata": {},
   "outputs": [],
   "source": [
    "## SETUP used later\n",
    "\n",
    "from SPARQLWrapper import SPARQLWrapper, JSON\n",
    "\n",
    "\n",
    "prefixString = \"\"\"\n",
    "##-b430e0c149-##\n",
    "PREFIX wd: <http://www.wikidata.org/entity/> \n",
    "PREFIX wdt: <http://www.wikidata.org/prop/direct/> \n",
    "PREFIX sc: <http://schema.org/>\n",
    "\"\"\"\n",
    "\n",
    "# select and construct queries\n",
    "def run_query(queryString,verbose = True):\n",
    "    to_run = prefixString + \"\\n\" + queryString\n",
    "\n",
    "    sparql = SPARQLWrapper(\"http://a256-gc1-03.srv.aau.dk:5820/sparql\")\n",
    "    sparql.setTimeout(300)\n",
    "    sparql.setReturnFormat(JSON)\n",
    "    sparql.setQuery(to_run)\n",
    "\n",
    "    try :\n",
    "        results = sparql.query()\n",
    "        json_results = results.convert()\n",
    "        if len(json_results['results']['bindings'])==0:\n",
    "            print(\"Empty\")\n",
    "            return []\n",
    "        array = []\n",
    "        for bindings in json_results['results']['bindings']:\n",
    "            app =  [ (var, value['value'])  for var, value in bindings.items() ] \n",
    "            if verbose:\n",
    "                print( app)\n",
    "            array.append(app)\n",
    "        if verbose:\n",
    "            print(len(array))\n",
    "        return array\n",
    "\n",
    "    except Exception as e :\n",
    "        print(\"The operation failed\", e)\n",
    "    \n",
    "# ASk queries\n",
    "def run_ask_query(queryString):\n",
    "    to_run = prefixString + \"\\n\" + queryString\n",
    "\n",
    "    sparql = SPARQLWrapper(\"http://a256-gc1-03.srv.aau.dk:5820/sparql\")\n",
    "    sparql.setTimeout(300)\n",
    "    sparql.setReturnFormat(JSON)\n",
    "    sparql.setQuery(to_run)\n",
    "\n",
    "    try :\n",
    "        return sparql.query().convert()\n",
    "\n",
    "    except Exception as e :\n",
    "        print(\"The operation failed\", e)"
   ]
  },
  {
   "cell_type": "markdown",
   "id": "2e0a6f58",
   "metadata": {},
   "source": [
    "# Sport Workflow Series (Tennis explorative search\") \n",
    "\n",
    "Consider the following exploratory information need:\n",
    "\n",
    "> investigate tennis and find the main BGPs related to this sport. Compare players per countries, awards of the players and tournament."
   ]
  },
  {
   "cell_type": "markdown",
   "id": "93ca1be3",
   "metadata": {},
   "source": [
    "## Useful URIs for the current workflow\n",
    "The following are given:\n",
    "\n",
    "| IRI           | Description   | Role      |\n",
    "| -----------   | -----------   |-----------|\n",
    "| `wdt:P1647`   | subproperty   | predicate |\n",
    "| `wdt:P31`     | instance of   | predicate |\n",
    "| `wdt:P106`    | profession    | predicate | \n",
    "| `wdt:P279`    | subclass      | predicate |\n",
    "| `wdt:P27`     | nationality   | predicate |\n",
    "| `wd:Q5`| Human       | node |\n",
    "| `wd:Q1426`| Roger Federer       | node |\n",
    "| `wd:Q11459`| Serena Williams       | node |\n"
   ]
  },
  {
   "cell_type": "markdown",
   "id": "53c1e842",
   "metadata": {},
   "source": [
    "\n",
    "\n",
    "\n",
    "Also consider\n",
    "\n",
    "```\n",
    "wd:Q1426 ?p ?obj .\n",
    "```\n",
    "\n",
    "is the BGP to retrieve all **properties of Roger Federer**\n",
    "\n",
    "Please consider that when you return a resource, you should return the IRI and the label of the resource. In particular, when the task require you to identify a BGP the result set must always be a list of couples IRI - label.\n",
    "\n",
    "\n",
    "\n",
    "The workload should:\n",
    "\n",
    "\n",
    "1. Identify the BGP for tennis player\n",
    "\n",
    "2. Identify the BGP for tennis tournament\n",
    "\n",
    "3. Return the four Grand Slam of tennis (hint: One of these four is Wimbledon) (the result set must be a list of four couples Grand Slam IRI and label).\n",
    "\n",
    "4. Find the three different type of possible surfaces in a tennis court (the result set must be a list of three couples surface IRI and label).\n",
    "\n",
    "5. Return the tournaments played in the 2018 Wimbledon Championships edition with the related winners (hint: men and women do not play together, there are two distinct tournament ) (the result set must be a list of elements with tournament IRI and label, and winner IRI and label).\n",
    "\n",
    "6. Consider the tennis players born after 1975, return who won more Grand Slams and cut the result to the top-10 (the result set must be a list of triples player IRI, label and #victories).\n",
    "\n",
    "7. Consider the country for sport property of the tennis player (NO Country of citizenship). Return the countries with at least one player who won at least one edition of each Grand Slam (the result set must be a list of country IRI and label).\n",
    "\n",
    "8. Consider the country for sport property of the tennis player (NO Country of citizenship). Return the countries with at least one player who was ranked 1 in the tennis ranking  (the result set must be a list of country IRI and label)."
   ]
  },
  {
   "cell_type": "markdown",
   "id": "111612de",
   "metadata": {
    "tags": []
   },
   "source": [
    "## Task 1\n",
    "Identify the BGP for tennis player"
   ]
  },
  {
   "cell_type": "code",
   "execution_count": 2,
   "id": "91887d2e",
   "metadata": {},
   "outputs": [
    {
     "name": "stdout",
     "output_type": "stream",
     "text": [
      "Results\n",
      "[('p', 'http://www.wikidata.org/prop/direct/P1006'), ('name', 'Nationale Thesaurus voor Auteurs ID')]\n",
      "[('p', 'http://www.wikidata.org/prop/direct/P103'), ('name', 'native language')]\n",
      "[('p', 'http://www.wikidata.org/prop/direct/P106'), ('name', 'occupation')]\n",
      "[('p', 'http://www.wikidata.org/prop/direct/P108'), ('name', 'employer')]\n",
      "[('p', 'http://www.wikidata.org/prop/direct/P1263'), ('name', 'NNDB people ID')]\n",
      "[('p', 'http://www.wikidata.org/prop/direct/P1280'), ('name', 'CONOR.SI ID')]\n",
      "[('p', 'http://www.wikidata.org/prop/direct/P1284'), ('name', 'Munzinger person ID')]\n",
      "[('p', 'http://www.wikidata.org/prop/direct/P1285'), ('name', 'Munzinger Sport number')]\n",
      "[('p', 'http://www.wikidata.org/prop/direct/P1296'), ('name', 'Gran Enciclopèdia Catalana ID')]\n",
      "[('p', 'http://www.wikidata.org/prop/direct/P1343'), ('name', 'described by source')]\n",
      "[('p', 'http://www.wikidata.org/prop/direct/P1344'), ('name', 'participant in')]\n",
      "[('p', 'http://www.wikidata.org/prop/direct/P1352'), ('name', 'ranking')]\n",
      "[('p', 'http://www.wikidata.org/prop/direct/P140'), ('name', 'religion')]\n",
      "[('p', 'http://www.wikidata.org/prop/direct/P1412'), ('name', 'languages spoken, written or signed')]\n",
      "[('p', 'http://www.wikidata.org/prop/direct/P1417'), ('name', 'Encyclopædia Britannica Online ID')]\n",
      "[('p', 'http://www.wikidata.org/prop/direct/P1447'), ('name', 'Sports-Reference.com Olympic athlete ID')]\n",
      "[('p', 'http://www.wikidata.org/prop/direct/P1532'), ('name', 'country for sport')]\n",
      "[('p', 'http://www.wikidata.org/prop/direct/P166'), ('name', 'award received')]\n",
      "[('p', 'http://www.wikidata.org/prop/direct/P1695'), ('name', 'NLP ID (unique)')]\n",
      "[('p', 'http://www.wikidata.org/prop/direct/P1741'), ('name', 'GTAA ID')]\n",
      "20\n"
     ]
    }
   ],
   "source": [
    "# query example\n",
    "queryString = \"\"\"\n",
    "SELECT DISTINCT ?p ?name\n",
    "WHERE {\n",
    "   # bind something\n",
    "   wd:Q1426 ?p ?obj . #Federer\n",
    "   # get the label\n",
    "   ?p sc:name ?name.\n",
    "}\n",
    "LIMIT 20\n",
    "\"\"\"\n",
    "\n",
    "print(\"Results\")\n",
    "x=run_query(queryString)"
   ]
  },
  {
   "cell_type": "code",
   "execution_count": 3,
   "id": "88d4c3d4-3a77-408b-861d-69634ce1d4d5",
   "metadata": {},
   "outputs": [
    {
     "name": "stdout",
     "output_type": "stream",
     "text": [
      "Results\n",
      "[('type', 'http://www.wikidata.org/entity/Q5'), ('Tname', 'human')]\n",
      "1\n"
     ]
    }
   ],
   "source": [
    "#We need to find the BGP of tennis player and we already have the one of roger federer. \n",
    "#Let's check what Roger Federer is instance of\n",
    "\n",
    "queryString = \"\"\"\n",
    "SELECT DISTINCT ?type ?Tname\n",
    "WHERE {\n",
    "   wd:Q1426 wdt:P31 ?type . #Federer a\n",
    "   \n",
    "   ?type sc:name ?Tname.\n",
    "}\n",
    "LIMIT 20\n",
    "\"\"\"\n",
    "\n",
    "print(\"Results\")\n",
    "x=run_query(queryString)"
   ]
  },
  {
   "cell_type": "code",
   "execution_count": 4,
   "id": "2d90096b-1e8d-484a-8f50-6221f11dfc48",
   "metadata": {},
   "outputs": [
    {
     "name": "stdout",
     "output_type": "stream",
     "text": [
      "Results\n",
      "[('occupation', 'http://www.wikidata.org/entity/Q10833314'), ('Oname', 'tennis player')]\n",
      "1\n"
     ]
    }
   ],
   "source": [
    "#He is not instance of tennis player, let's check his occupations (we got the property within the first query result)\n",
    "\n",
    "queryString = \"\"\"\n",
    "SELECT DISTINCT ?occupation ?Oname\n",
    "WHERE {\n",
    "   wd:Q1426 wdt:P106 ?occupation . #Federer occupation\n",
    "   \n",
    "   ?occupation sc:name ?Oname.\n",
    "}\n",
    "LIMIT 20\n",
    "\"\"\"\n",
    "\n",
    "print(\"Results\")\n",
    "x=run_query(queryString)"
   ]
  },
  {
   "cell_type": "markdown",
   "id": "63e9309a",
   "metadata": {},
   "source": [
    "Final query for this task"
   ]
  },
  {
   "cell_type": "code",
   "execution_count": 6,
   "id": "df5aede6",
   "metadata": {},
   "outputs": [
    {
     "name": "stdout",
     "output_type": "stream",
     "text": [
      "Results\n",
      "[('occupation', 'http://www.wikidata.org/entity/Q10833314'), ('Oname', 'tennis player')]\n",
      "1\n"
     ]
    }
   ],
   "source": [
    "# Final query\n",
    "\n",
    "queryString = \"\"\"\n",
    "SELECT DISTINCT ?occupation ?Oname\n",
    "WHERE {\n",
    "   wd:Q1426 wdt:P106 ?occupation . #Federer occupation\n",
    "   \n",
    "   ?occupation sc:name ?Oname.\n",
    "}\n",
    "LIMIT 20\n",
    "\"\"\"\n",
    "\n",
    "print(\"Results\")\n",
    "x=run_query(queryString)\n",
    "\n",
    "#[('occupation', 'http://www.wikidata.org/entity/Q10833314'), ('Oname', 'tennis player')]"
   ]
  },
  {
   "cell_type": "markdown",
   "id": "8cf39b4a",
   "metadata": {
    "tags": []
   },
   "source": [
    "## Task 2\n",
    "Identify the BGP for tennis tournament"
   ]
  },
  {
   "cell_type": "code",
   "execution_count": 7,
   "id": "fb8bfaa7",
   "metadata": {},
   "outputs": [
    {
     "name": "stdout",
     "output_type": "stream",
     "text": [
      "Results\n",
      "[('participation', 'http://www.wikidata.org/entity/Q589310'), ('Pname', \"tennis at the 2000 Summer Olympics – men's singles\")]\n",
      "[('participation', 'http://www.wikidata.org/entity/Q8544'), ('Pname', '2000 Summer Olympics')]\n",
      "[('participation', 'http://www.wikidata.org/entity/Q8558'), ('Pname', '2004 Summer Olympics')]\n",
      "[('participation', 'http://www.wikidata.org/entity/Q581788'), ('Pname', \"tennis at the 2012 Summer Olympics – men's singles\")]\n",
      "[('participation', 'http://www.wikidata.org/entity/Q757054'), ('Pname', \"tennis at the 2008 Summer Olympics – men's doubles\")]\n",
      "5\n"
     ]
    }
   ],
   "source": [
    "#In the first query, we got the \"participated in\" property, let's explore it\n",
    "\n",
    "queryString = \"\"\"\n",
    "SELECT DISTINCT ?participation ?Pname\n",
    "WHERE {\n",
    "   wd:Q1426 wdt:P1344 ?participation . #Federer participantIn\n",
    "   \n",
    "   ?participation sc:name ?Pname.\n",
    "}\n",
    "LIMIT 20\n",
    "\"\"\"\n",
    "\n",
    "print(\"Results\")\n",
    "x=run_query(queryString)"
   ]
  },
  {
   "cell_type": "code",
   "execution_count": 8,
   "id": "efda2089-a8c4-41a1-9932-29a778ac5b16",
   "metadata": {},
   "outputs": [
    {
     "name": "stdout",
     "output_type": "stream",
     "text": [
      "Results\n",
      "[('participationType', 'http://www.wikidata.org/entity/Q159821'), ('Pname', 'Summer Olympic Games')]\n",
      "[('participationType', 'http://www.wikidata.org/entity/Q18536594'), ('Pname', 'Olympic sporting event')]\n",
      "[('participationType', 'http://www.wikidata.org/entity/Q46190676'), ('Pname', 'tennis event')]\n",
      "3\n"
     ]
    }
   ],
   "source": [
    "#Let's take one of the results and check their type, which could be tennis tournament\n",
    "\n",
    "queryString = \"\"\"\n",
    "SELECT DISTINCT ?participationType ?Pname\n",
    "WHERE {\n",
    "   wd:Q1426 wdt:P1344 ?participation . #Federer participantIn\n",
    "   ?participation wdt:P31 ?participationType. #a\n",
    "   \n",
    "   ?participationType sc:name ?Pname.\n",
    "}\n",
    "LIMIT 20\n",
    "\"\"\"\n",
    "\n",
    "print(\"Results\")\n",
    "x=run_query(queryString)"
   ]
  },
  {
   "cell_type": "code",
   "execution_count": 16,
   "id": "56697bd0-fd66-4fab-bd9d-9ecbd5894dc0",
   "metadata": {},
   "outputs": [
    {
     "name": "stdout",
     "output_type": "stream",
     "text": [
      "Results\n",
      "Empty\n"
     ]
    }
   ],
   "source": [
    "#Intuitively, \"tennis event\" looks interesting, let's see what it is instance of\n",
    "\n",
    "queryString = \"\"\"\n",
    "SELECT DISTINCT ?obj ?Oname\n",
    "WHERE {\n",
    "\n",
    "   wd:Q46190676 wdt:P31 ?obj .\n",
    "\n",
    "   ?obj sc:name ?Oname\n",
    "}\n",
    "LIMIT 20\n",
    "\"\"\"\n",
    "\n",
    "print(\"Results\")\n",
    "x=run_query(queryString)"
   ]
  },
  {
   "cell_type": "code",
   "execution_count": 20,
   "id": "053fb9be-3823-4127-8aee-d33b7210dfa7",
   "metadata": {},
   "outputs": [
    {
     "name": "stdout",
     "output_type": "stream",
     "text": [
      "Results\n",
      "[('tennisThing', 'http://www.wikidata.org/entity/Q21170330'), ('Tname', 'tennis qualification event')]\n",
      "[('tennisThing', 'http://www.wikidata.org/entity/Q50843310'), ('Tname', 'tennis team event')]\n",
      "2\n"
     ]
    }
   ],
   "source": [
    "#Let's check its subclasses \n",
    "\n",
    "queryString = \"\"\"\n",
    "SELECT DISTINCT ?tennisThing ?Tname\n",
    "WHERE {\n",
    "\n",
    "   ?tennisThing wdt:P279 wd:Q46190676. #subclassOf tennisEvent \n",
    "\n",
    "   ?tennisThing sc:name ?Tname.\n",
    "}\n",
    "LIMIT 20\n",
    "\"\"\"\n",
    "\n",
    "print(\"Results\")\n",
    "x=run_query(queryString)"
   ]
  },
  {
   "cell_type": "code",
   "execution_count": 17,
   "id": "40753581-d411-4536-b1b0-30f79339b1c4",
   "metadata": {},
   "outputs": [
    {
     "name": "stdout",
     "output_type": "stream",
     "text": [
      "Results\n",
      "[('p', 'http://www.wikidata.org/prop/direct/P1552'), ('Pname', 'has quality'), ('obj', 'http://www.wikidata.org/entity/Q1967745'), ('Oname', 'type of tennis match')]\n",
      "[('p', 'http://www.wikidata.org/prop/direct/P1963'), ('Pname', 'properties for this type'), ('obj', 'http://www.wikidata.org/entity/P710'), ('Oname', 'participant')]\n",
      "[('p', 'http://www.wikidata.org/prop/direct/P1963'), ('Pname', 'properties for this type'), ('obj', 'http://www.wikidata.org/entity/P641'), ('Oname', 'sport')]\n",
      "[('p', 'http://www.wikidata.org/prop/direct/P1963'), ('Pname', 'properties for this type'), ('obj', 'http://www.wikidata.org/entity/P361'), ('Oname', 'part of')]\n",
      "[('p', 'http://www.wikidata.org/prop/direct/P1963'), ('Pname', 'properties for this type'), ('obj', 'http://www.wikidata.org/entity/P2094'), ('Oname', 'competition class')]\n",
      "[('p', 'http://www.wikidata.org/prop/direct/P1963'), ('Pname', 'properties for this type'), ('obj', 'http://www.wikidata.org/entity/P1346'), ('Oname', 'winner')]\n",
      "[('p', 'http://www.wikidata.org/prop/direct/P2670'), ('Pname', 'has parts of the class'), ('obj', 'http://www.wikidata.org/entity/Q47459169'), ('Oname', 'tennis match')]\n",
      "[('p', 'http://www.wikidata.org/prop/direct/P2670'), ('Pname', 'has parts of the class'), ('obj', 'http://www.wikidata.org/entity/Q21170330'), ('Oname', 'tennis qualification event')]\n",
      "[('p', 'http://www.wikidata.org/prop/direct/P279'), ('Pname', 'subclass of'), ('obj', 'http://www.wikidata.org/entity/Q16510064'), ('Oname', 'sporting event')]\n",
      "[('p', 'http://www.wikidata.org/prop/direct/P361'), ('Pname', 'part of'), ('obj', 'http://www.wikidata.org/entity/Q47345468'), ('Oname', 'tennis tournament edition')]\n",
      "[('p', 'http://www.wikidata.org/prop/direct/P641'), ('Pname', 'sport'), ('obj', 'http://www.wikidata.org/entity/Q847'), ('Oname', 'tennis')]\n",
      "11\n"
     ]
    }
   ],
   "source": [
    "#Let's see all the related prop/obj to tennis event\n",
    "\n",
    "queryString = \"\"\"\n",
    "SELECT DISTINCT ?p ?Pname ?obj ?Oname \n",
    "WHERE {\n",
    "\n",
    "   wd:Q46190676 ?p ?obj . #tennisEvent\n",
    "\n",
    "   ?obj sc:name ?Oname.\n",
    "   ?p sc:name ?Pname\n",
    "}\n",
    "LIMIT 20\n",
    "\"\"\"\n",
    "\n",
    "print(\"Results\")\n",
    "x=run_query(queryString)"
   ]
  },
  {
   "cell_type": "code",
   "execution_count": 18,
   "id": "2e2e182d-95a0-4419-9272-43de7f4a6310",
   "metadata": {},
   "outputs": [
    {
     "name": "stdout",
     "output_type": "stream",
     "text": [
      "Results\n",
      "[('p', 'http://www.wikidata.org/prop/direct/P1963'), ('Pname', 'properties for this type'), ('obj', 'http://www.wikidata.org/entity/P527'), ('Oname', 'has part')]\n",
      "[('p', 'http://www.wikidata.org/prop/direct/P1963'), ('Pname', 'properties for this type'), ('obj', 'http://www.wikidata.org/entity/P276'), ('Oname', 'location')]\n",
      "[('p', 'http://www.wikidata.org/prop/direct/P1963'), ('Pname', 'properties for this type'), ('obj', 'http://www.wikidata.org/entity/P582'), ('Oname', 'end time')]\n",
      "[('p', 'http://www.wikidata.org/prop/direct/P1963'), ('Pname', 'properties for this type'), ('obj', 'http://www.wikidata.org/entity/P641'), ('Oname', 'sport')]\n",
      "[('p', 'http://www.wikidata.org/prop/direct/P1963'), ('Pname', 'properties for this type'), ('obj', 'http://www.wikidata.org/entity/P393'), ('Oname', 'edition number')]\n",
      "[('p', 'http://www.wikidata.org/prop/direct/P1963'), ('Pname', 'properties for this type'), ('obj', 'http://www.wikidata.org/entity/P580'), ('Oname', 'start time')]\n",
      "[('p', 'http://www.wikidata.org/prop/direct/P1963'), ('Pname', 'properties for this type'), ('obj', 'http://www.wikidata.org/entity/P585'), ('Oname', 'point in time')]\n",
      "[('p', 'http://www.wikidata.org/prop/direct/P1963'), ('Pname', 'properties for this type'), ('obj', 'http://www.wikidata.org/entity/P17'), ('Oname', 'country')]\n",
      "[('p', 'http://www.wikidata.org/prop/direct/P2670'), ('Pname', 'has parts of the class'), ('obj', 'http://www.wikidata.org/entity/Q46190676'), ('Oname', 'tennis event')]\n",
      "[('p', 'http://www.wikidata.org/prop/direct/P2670'), ('Pname', 'has parts of the class'), ('obj', 'http://www.wikidata.org/entity/Q47382471'), ('Oname', 'day-by-day summary')]\n",
      "[('p', 'http://www.wikidata.org/prop/direct/P279'), ('Pname', 'subclass of'), ('obj', 'http://www.wikidata.org/entity/Q27968055'), ('Oname', 'recurrent event edition')]\n",
      "[('p', 'http://www.wikidata.org/prop/direct/P279'), ('Pname', 'subclass of'), ('obj', 'http://www.wikidata.org/entity/Q27020041'), ('Oname', 'sports season')]\n",
      "[('p', 'http://www.wikidata.org/prop/direct/P361'), ('Pname', 'part of'), ('obj', 'http://www.wikidata.org/entity/Q47358534'), ('Oname', 'tennis tour edition')]\n",
      "[('p', 'http://www.wikidata.org/prop/direct/P361'), ('Pname', 'part of'), ('obj', 'http://www.wikidata.org/entity/Q13219666'), ('Oname', 'tennis tournament')]\n",
      "[('p', 'http://www.wikidata.org/prop/direct/P641'), ('Pname', 'sport'), ('obj', 'http://www.wikidata.org/entity/Q847'), ('Oname', 'tennis')]\n",
      "15\n"
     ]
    }
   ],
   "source": [
    "#Same query as above but for the \"tennis tournament edition\" class\n",
    "\n",
    "queryString = \"\"\"\n",
    "SELECT DISTINCT ?p ?Pname ?obj ?Oname \n",
    "WHERE {\n",
    "\n",
    "   wd:Q47345468 ?p ?obj . #tennisTournamentEdition\n",
    "\n",
    "   ?obj sc:name ?Oname.\n",
    "   ?p sc:name ?Pname\n",
    "}\n",
    "LIMIT 20\n",
    "\"\"\"\n",
    "\n",
    "print(\"Results\")\n",
    "x=run_query(queryString)"
   ]
  },
  {
   "cell_type": "markdown",
   "id": "31daf69b",
   "metadata": {},
   "source": [
    "Final query for this task"
   ]
  },
  {
   "cell_type": "code",
   "execution_count": 62,
   "id": "a869155a",
   "metadata": {},
   "outputs": [
    {
     "name": "stdout",
     "output_type": "stream",
     "text": [
      "Results\n",
      "[('p', 'http://www.wikidata.org/prop/direct/P1963'), ('Pname', 'properties for this type'), ('obj', 'http://www.wikidata.org/entity/P527'), ('Oname', 'has part')]\n",
      "[('p', 'http://www.wikidata.org/prop/direct/P1963'), ('Pname', 'properties for this type'), ('obj', 'http://www.wikidata.org/entity/P276'), ('Oname', 'location')]\n",
      "[('p', 'http://www.wikidata.org/prop/direct/P1963'), ('Pname', 'properties for this type'), ('obj', 'http://www.wikidata.org/entity/P582'), ('Oname', 'end time')]\n",
      "[('p', 'http://www.wikidata.org/prop/direct/P1963'), ('Pname', 'properties for this type'), ('obj', 'http://www.wikidata.org/entity/P641'), ('Oname', 'sport')]\n",
      "[('p', 'http://www.wikidata.org/prop/direct/P1963'), ('Pname', 'properties for this type'), ('obj', 'http://www.wikidata.org/entity/P393'), ('Oname', 'edition number')]\n",
      "[('p', 'http://www.wikidata.org/prop/direct/P1963'), ('Pname', 'properties for this type'), ('obj', 'http://www.wikidata.org/entity/P580'), ('Oname', 'start time')]\n",
      "[('p', 'http://www.wikidata.org/prop/direct/P1963'), ('Pname', 'properties for this type'), ('obj', 'http://www.wikidata.org/entity/P585'), ('Oname', 'point in time')]\n",
      "[('p', 'http://www.wikidata.org/prop/direct/P1963'), ('Pname', 'properties for this type'), ('obj', 'http://www.wikidata.org/entity/P17'), ('Oname', 'country')]\n",
      "[('p', 'http://www.wikidata.org/prop/direct/P2670'), ('Pname', 'has parts of the class'), ('obj', 'http://www.wikidata.org/entity/Q46190676'), ('Oname', 'tennis event')]\n",
      "[('p', 'http://www.wikidata.org/prop/direct/P2670'), ('Pname', 'has parts of the class'), ('obj', 'http://www.wikidata.org/entity/Q47382471'), ('Oname', 'day-by-day summary')]\n",
      "[('p', 'http://www.wikidata.org/prop/direct/P279'), ('Pname', 'subclass of'), ('obj', 'http://www.wikidata.org/entity/Q27968055'), ('Oname', 'recurrent event edition')]\n",
      "[('p', 'http://www.wikidata.org/prop/direct/P279'), ('Pname', 'subclass of'), ('obj', 'http://www.wikidata.org/entity/Q27020041'), ('Oname', 'sports season')]\n",
      "[('p', 'http://www.wikidata.org/prop/direct/P361'), ('Pname', 'part of'), ('obj', 'http://www.wikidata.org/entity/Q47358534'), ('Oname', 'tennis tour edition')]\n",
      "[('p', 'http://www.wikidata.org/prop/direct/P361'), ('Pname', 'part of'), ('obj', 'http://www.wikidata.org/entity/Q13219666'), ('Oname', 'tennis tournament')]\n",
      "[('p', 'http://www.wikidata.org/prop/direct/P641'), ('Pname', 'sport'), ('obj', 'http://www.wikidata.org/entity/Q847'), ('Oname', 'tennis')]\n",
      "15\n"
     ]
    }
   ],
   "source": [
    "# Final query\n",
    "\n",
    "queryString = \"\"\"\n",
    "SELECT DISTINCT ?p ?Pname ?obj ?Oname \n",
    "WHERE {\n",
    "\n",
    "   wd:Q47345468 ?p ?obj . #tennisTournamentEdition\n",
    "\n",
    "   ?obj sc:name ?Oname.\n",
    "   ?p sc:name ?Pname\n",
    "}\n",
    "LIMIT 20\n",
    "\"\"\"\n",
    "\n",
    "print(\"Results\")\n",
    "x=run_query(queryString)\n",
    "\n",
    "#('obj', 'http://www.wikidata.org/entity/Q13219666'), ('Oname', 'tennis tournament')]"
   ]
  },
  {
   "cell_type": "markdown",
   "id": "98280af9",
   "metadata": {},
   "source": [
    "## Task 3\n",
    "Return the four Grand Slam of tennis (hint: One of these four is Wimbledon) (the result set must be a list of four couples Grand Slam IRI and label)."
   ]
  },
  {
   "cell_type": "code",
   "execution_count": 7,
   "id": "9517e163",
   "metadata": {},
   "outputs": [
    {
     "name": "stdout",
     "output_type": "stream",
     "text": [
      "Results\n",
      "Empty\n"
     ]
    }
   ],
   "source": [
    "# We previously got the bgp of tennis tournament, and we are given here the name of one of the grand slams, let's try to exploit it with regex and see instances\n",
    "\n",
    "queryString = \"\"\"\n",
    "SELECT DISTINCT ?tournament ?Tname \n",
    "WHERE {\n",
    "\n",
    "   ?tournament wdt:P31 wd:Q13219666. #tennisTournament a\n",
    "   \n",
    "   ?tournament sc:name ?Tname.\n",
    "   FILTER(REGEX(?Tname, \"[Ww]imbledon\"))\n",
    "}\n",
    "LIMIT 20\n",
    "\"\"\"\n",
    "\n",
    "print(\"Results\")\n",
    "x=run_query(queryString)"
   ]
  },
  {
   "cell_type": "code",
   "execution_count": 8,
   "id": "76f27935-b925-400a-9785-f4d63c09f3ce",
   "metadata": {},
   "outputs": [
    {
     "name": "stdout",
     "output_type": "stream",
     "text": [
      "Results\n",
      "[('tournament', 'http://www.wikidata.org/entity/Q41520'), ('Tname', 'Wimbledon Championships')]\n",
      "[('tournament', 'http://www.wikidata.org/entity/Q12776'), ('Tname', 'Wimbledon Plate')]\n",
      "2\n"
     ]
    }
   ],
   "source": [
    "#Previous query but larger approach (including all prop)\n",
    "\n",
    "queryString = \"\"\"\n",
    "SELECT DISTINCT ?tournament ?Tname \n",
    "WHERE {\n",
    "\n",
    "   ?tournament ?p wd:Q13219666. #tennisTournament a\n",
    "   \n",
    "   ?tournament sc:name ?Tname.\n",
    "   FILTER(REGEX(?Tname, \"[Ww]imbledon\"))\n",
    "}\n",
    "LIMIT 20\n",
    "\"\"\"\n",
    "\n",
    "print(\"Results\")\n",
    "x=run_query(queryString)"
   ]
  },
  {
   "cell_type": "code",
   "execution_count": 11,
   "id": "d621e2bc-8306-4f7c-89a8-2509e7db8c18",
   "metadata": {},
   "outputs": [
    {
     "name": "stdout",
     "output_type": "stream",
     "text": [
      "Results\n",
      "[('type', 'http://www.wikidata.org/entity/Q18608583'), ('Tname', 'recurring sporting event')]\n",
      "1\n"
     ]
    }
   ],
   "source": [
    "#Let's see what \"Wimbledon Championship\" is instance of \n",
    "\n",
    "queryString = \"\"\"\n",
    "SELECT DISTINCT ?type ?Tname\n",
    "WHERE {\n",
    "   wd:Q41520 wdt:P31 ?type . #WimbledonChampionships a\n",
    "   \n",
    "   ?type sc:name ?Tname.\n",
    "}\n",
    "LIMIT 20\n",
    "\"\"\"\n",
    "\n",
    "print(\"Results\")\n",
    "x=run_query(queryString)"
   ]
  },
  {
   "cell_type": "code",
   "execution_count": 12,
   "id": "022c7854-7d01-47e0-a54c-1f2f7d271805",
   "metadata": {},
   "outputs": [
    {
     "name": "stdout",
     "output_type": "stream",
     "text": [
      "Results\n",
      "[('p', 'http://www.wikidata.org/prop/direct/P131'), ('Pname', 'located in the administrative territorial entity'), ('obj', 'http://www.wikidata.org/entity/Q736742'), ('Oname', 'Wimbledon')]\n",
      "[('p', 'http://www.wikidata.org/prop/direct/P1424'), ('Pname', \"topic's main template\"), ('obj', 'http://www.wikidata.org/entity/Q43323825'), ('Oname', 'Template:Wimbledon player')]\n",
      "[('p', 'http://www.wikidata.org/prop/direct/P1687'), ('Pname', 'Wikidata property'), ('obj', 'http://www.wikidata.org/entity/P4503'), ('Oname', 'Wimbledon player ID')]\n",
      "[('p', 'http://www.wikidata.org/prop/direct/P17'), ('Pname', 'country'), ('obj', 'http://www.wikidata.org/entity/Q145'), ('Oname', 'United Kingdom')]\n",
      "[('p', 'http://www.wikidata.org/prop/direct/P1889'), ('Pname', 'different from'), ('obj', 'http://www.wikidata.org/entity/Q206375'), ('Oname', 'Wimbledon')]\n",
      "[('p', 'http://www.wikidata.org/prop/direct/P2354'), ('Pname', 'has list'), ('obj', 'http://www.wikidata.org/entity/Q6585893'), ('Oname', 'list of Wimbledon singles finalists during the open era')]\n",
      "[('p', 'http://www.wikidata.org/prop/direct/P276'), ('Pname', 'location'), ('obj', 'http://www.wikidata.org/entity/Q815369'), ('Oname', 'All England Lawn Tennis and Croquet Club')]\n",
      "[('p', 'http://www.wikidata.org/prop/direct/P279'), ('Pname', 'subclass of'), ('obj', 'http://www.wikidata.org/entity/Q13219666'), ('Oname', 'tennis tournament')]\n",
      "[('p', 'http://www.wikidata.org/prop/direct/P31'), ('Pname', 'instance of'), ('obj', 'http://www.wikidata.org/entity/Q18608583'), ('Oname', 'recurring sporting event')]\n",
      "[('p', 'http://www.wikidata.org/prop/direct/P361'), ('Pname', 'part of'), ('obj', 'http://www.wikidata.org/entity/Q102113'), ('Oname', 'Grand Slam of tennis')]\n",
      "[('p', 'http://www.wikidata.org/prop/direct/P4622'), ('Pname', 'trophy awarded'), ('obj', 'http://www.wikidata.org/entity/Q7920608'), ('Oname', 'Venus Rosewater Dish')]\n",
      "[('p', 'http://www.wikidata.org/prop/direct/P641'), ('Pname', 'sport'), ('obj', 'http://www.wikidata.org/entity/Q847'), ('Oname', 'tennis')]\n",
      "[('p', 'http://www.wikidata.org/prop/direct/P664'), ('Pname', 'organizer'), ('obj', 'http://www.wikidata.org/entity/Q223041'), ('Oname', 'International Tennis Federation')]\n",
      "[('p', 'http://www.wikidata.org/prop/direct/P664'), ('Pname', 'organizer'), ('obj', 'http://www.wikidata.org/entity/Q815369'), ('Oname', 'All England Lawn Tennis and Croquet Club')]\n",
      "[('p', 'http://www.wikidata.org/prop/direct/P664'), ('Pname', 'organizer'), ('obj', 'http://www.wikidata.org/entity/Q1337913'), ('Oname', 'Lawn Tennis Association')]\n",
      "[('p', 'http://www.wikidata.org/prop/direct/P765'), ('Pname', 'surface played on'), ('obj', 'http://www.wikidata.org/entity/Q1151291'), ('Oname', 'grass court')]\n",
      "[('p', 'http://www.wikidata.org/prop/direct/P7959'), ('Pname', 'historic county'), ('obj', 'http://www.wikidata.org/entity/Q67443130'), ('Oname', 'Surrey')]\n",
      "[('p', 'http://www.wikidata.org/prop/direct/P910'), ('Pname', \"topic's main category\"), ('obj', 'http://www.wikidata.org/entity/Q5326534'), ('Oname', 'Category:The Championships, Wimbledon')]\n",
      "18\n"
     ]
    }
   ],
   "source": [
    "#Let's see related obj/prop\n",
    "\n",
    "queryString = \"\"\"\n",
    "SELECT DISTINCT ?p ?Pname ?obj ?Oname \n",
    "WHERE {\n",
    "\n",
    "   wd:Q41520 ?p ?obj . #WimbledonChampionships\n",
    "\n",
    "   ?obj sc:name ?Oname.\n",
    "   ?p sc:name ?Pname\n",
    "}\n",
    "LIMIT 20\n",
    "\"\"\"\n",
    "\n",
    "print(\"Results\")\n",
    "x=run_query(queryString)\n",
    "\n",
    "#We found the bgp of Grand slam, related to Wimbledon through the property \"part of\""
   ]
  },
  {
   "cell_type": "code",
   "execution_count": 65,
   "id": "585a1298-8347-466f-957f-3cc01641bcb9",
   "metadata": {},
   "outputs": [
    {
     "name": "stdout",
     "output_type": "stream",
     "text": [
      "Results\n",
      "[('slam', 'http://www.wikidata.org/entity/Q43605'), ('slamName', 'French Open')]\n",
      "[('slam', 'http://www.wikidata.org/entity/Q123577'), ('slamName', 'US Open')]\n",
      "[('slam', 'http://www.wikidata.org/entity/Q41520'), ('slamName', 'Wimbledon Championships')]\n",
      "[('slam', 'http://www.wikidata.org/entity/Q60874'), ('slamName', 'Australian Open')]\n",
      "4\n"
     ]
    }
   ],
   "source": [
    "#We found the bgp of Grand slam, related to Wimbledon through the property \"part of\"\n",
    "#Let's see if we can get the 3 others the same way\n",
    "\n",
    "queryString = \"\"\"\n",
    "SELECT DISTINCT ?slam ?slamName\n",
    "WHERE {\n",
    "\n",
    "   ?slam wdt:P361 wd:Q102113 ; #partOf GranSlams\n",
    "         sc:name ?slamName\n",
    "}\n",
    "LIMIT 20\n",
    "\"\"\"\n",
    "\n",
    "print(\"Results\")\n",
    "x=run_query(queryString)"
   ]
  },
  {
   "cell_type": "markdown",
   "id": "c8d4cc9d",
   "metadata": {},
   "source": [
    "Final query for this task"
   ]
  },
  {
   "cell_type": "code",
   "execution_count": 66,
   "id": "85bca676",
   "metadata": {},
   "outputs": [
    {
     "name": "stdout",
     "output_type": "stream",
     "text": [
      "Results\n",
      "[('slam', 'http://www.wikidata.org/entity/Q43605'), ('slamName', 'French Open')]\n",
      "[('slam', 'http://www.wikidata.org/entity/Q123577'), ('slamName', 'US Open')]\n",
      "[('slam', 'http://www.wikidata.org/entity/Q41520'), ('slamName', 'Wimbledon Championships')]\n",
      "[('slam', 'http://www.wikidata.org/entity/Q60874'), ('slamName', 'Australian Open')]\n",
      "4\n"
     ]
    }
   ],
   "source": [
    "# Final query\n",
    "\n",
    "queryString = \"\"\"\n",
    "SELECT DISTINCT ?slam ?slamName\n",
    "WHERE {\n",
    "\n",
    "   ?slam wdt:P361 wd:Q102113 ; #partOf GranSlams\n",
    "         sc:name ?slamName\n",
    "}\n",
    "LIMIT 20\n",
    "\"\"\"\n",
    "\n",
    "print(\"Results\")\n",
    "x=run_query(queryString)"
   ]
  },
  {
   "cell_type": "markdown",
   "id": "1796bb37-4dff-4fb6-ab2b-3b1fd7c1af8d",
   "metadata": {},
   "source": [
    "## Task 4\n",
    "Find the three different type of possible surfaces in a tennis court (the result set must be a list of three couples surface IRI and label)."
   ]
  },
  {
   "cell_type": "code",
   "execution_count": 15,
   "id": "f2b8ede3",
   "metadata": {},
   "outputs": [
    {
     "name": "stdout",
     "output_type": "stream",
     "text": [
      "Results\n",
      "[('Sname', 'Virginia Slims of Detroit'), ('Oname', 'carpet')]\n",
      "[('Sname', '2000 Open Gaz de France'), ('Oname', 'carpet')]\n",
      "[('Sname', '2000 Toray Pan Pacific Open'), ('Oname', 'carpet')]\n",
      "[('Sname', '2003 Toray Pan Pacific Open'), ('Oname', 'carpet')]\n",
      "[('Sname', '1992 Volkswagen Cup Damen Grand Prix'), ('Oname', 'carpet')]\n",
      "[('Sname', '1993 Volkswagen Card Cup'), ('Oname', 'carpet')]\n",
      "[('Sname', '2001 Sparkassen Cup'), ('Oname', 'carpet')]\n",
      "[('Sname', '2003 Sparkassen Cup'), ('Oname', 'carpet')]\n",
      "[('Sname', '2002 Sparkassen Cup'), ('Oname', 'carpet')]\n",
      "[('Sname', '2001 Toray Pan Pacific Open'), ('Oname', 'carpet')]\n",
      "[('Sname', '1996 Sparkassen Cup'), ('Oname', 'carpet')]\n",
      "[('Sname', 'Sparkassen Cup'), ('Oname', 'carpet')]\n",
      "[('Sname', '1991 Volkswagen Cup'), ('Oname', 'carpet')]\n",
      "[('Sname', '2014 Rally Azores'), ('Oname', 'gravel')]\n",
      "[('Sname', '2013 Rally Australia'), ('Oname', 'gravel')]\n",
      "[('Sname', '2014 Rally Australia'), ('Oname', 'gravel')]\n",
      "[('Sname', '2015 Rally Australia'), ('Oname', 'gravel')]\n",
      "[('Sname', '2006 Rally México'), ('Oname', 'gravel')]\n",
      "[('Sname', '2016 Wales Rally GB'), ('Oname', 'gravel')]\n",
      "[('Sname', '2005 Cyprus Rally'), ('Oname', 'gravel')]\n",
      "20\n"
     ]
    }
   ],
   "source": [
    "# We can re-use the result of the query above :\n",
    "#[('p', 'http://www.wikidata.org/prop/direct/P765'), ('Pname', 'surface played on'), ('obj', 'http://www.wikidata.org/entity/Q1151291'), ('Oname', 'grass court')]\n",
    "\n",
    "#Let's check subjects and objects related to the property \"surface played on\"\n",
    "\n",
    "\n",
    "queryString = \"\"\"\n",
    "SELECT DISTINCT ?Sname ?Oname \n",
    "WHERE {\n",
    "\n",
    "   ?subj wdt:P765 ?obj.\n",
    "   \n",
    "   ?subj sc:name ?Sname.\n",
    "   ?obj sc:name ?Oname\n",
    "}\n",
    "LIMIT 20\n",
    "\"\"\"\n",
    "\n",
    "print(\"Results\")\n",
    "x=run_query(queryString)"
   ]
  },
  {
   "cell_type": "code",
   "execution_count": 18,
   "id": "c8cd28ed-97e0-4b2c-be78-cd4c893b540b",
   "metadata": {},
   "outputs": [
    {
     "name": "stdout",
     "output_type": "stream",
     "text": [
      "Results\n",
      "[('p', 'http://www.wikidata.org/prop/direct/P2283'), ('Pname', 'uses'), ('obj', 'http://www.wikidata.org/entity/Q47678177'), ('Oname', 'grass')]\n",
      "[('p', 'http://www.wikidata.org/prop/direct/P2283'), ('Pname', 'uses'), ('obj', 'http://www.wikidata.org/entity/Q47769255'), ('Oname', 'outdoor grass')]\n",
      "[('p', 'http://www.wikidata.org/prop/direct/P279'), ('Pname', 'subclass of'), ('obj', 'http://www.wikidata.org/entity/Q47677460'), ('Oname', 'tennis playing surface')]\n",
      "[('p', 'http://www.wikidata.org/prop/direct/P641'), ('Pname', 'sport'), ('obj', 'http://www.wikidata.org/entity/Q847'), ('Oname', 'tennis')]\n",
      "4\n"
     ]
    }
   ],
   "source": [
    "#Let's change approach and use the \"grass court\" bgp \n",
    "#Related obj and prop\n",
    "\n",
    "queryString = \"\"\"\n",
    "SELECT DISTINCT ?p ?Pname ?obj ?Oname \n",
    "WHERE {\n",
    "\n",
    "   wd:Q1151291 ?p ?obj . #GrassCourt\n",
    "\n",
    "   ?obj sc:name ?Oname.\n",
    "   ?p sc:name ?Pname\n",
    "}\n",
    "LIMIT 20\n",
    "\"\"\"\n",
    "\n",
    "print(\"Results\")\n",
    "x=run_query(queryString)"
   ]
  },
  {
   "cell_type": "code",
   "execution_count": 24,
   "id": "8211b94d-9dfb-43d0-a750-6df4c39eac43",
   "metadata": {},
   "outputs": [
    {
     "name": "stdout",
     "output_type": "stream",
     "text": [
      "Results\n",
      "[('surface', 'http://www.wikidata.org/entity/Q47677214'), ('Sname', 'carpet')]\n",
      "[('surface', 'http://www.wikidata.org/entity/Q47676928'), ('Sname', 'clay')]\n",
      "[('surface', 'http://www.wikidata.org/entity/Q1151291'), ('Sname', 'grass court')]\n",
      "[('surface', 'http://www.wikidata.org/entity/Q47678177'), ('Sname', 'grass')]\n",
      "[('surface', 'http://www.wikidata.org/entity/Q47769232'), ('Sname', 'indoor hard')]\n",
      "[('surface', 'http://www.wikidata.org/entity/Q47769271'), ('Sname', 'outdoor hard')]\n",
      "[('surface', 'http://www.wikidata.org/entity/Q47777555'), ('Sname', 'hardcourt surface')]\n",
      "[('surface', 'http://www.wikidata.org/entity/Q47769216'), ('Sname', 'indoor carpet')]\n",
      "[('surface', 'http://www.wikidata.org/entity/Q47769202'), ('Sname', 'indoor')]\n",
      "[('surface', 'http://www.wikidata.org/entity/Q47769177'), ('Sname', 'asphalt')]\n",
      "[('surface', 'http://www.wikidata.org/entity/Q47769149'), ('Sname', 'acrylic')]\n",
      "[('surface', 'http://www.wikidata.org/entity/Q47769166'), ('Sname', 'artificial grass')]\n",
      "[('surface', 'http://www.wikidata.org/entity/Q47769242'), ('Sname', 'outdoor')]\n",
      "[('surface', 'http://www.wikidata.org/entity/Q47769249'), ('Sname', 'outdoor clay')]\n",
      "[('surface', 'http://www.wikidata.org/entity/Q47769157'), ('Sname', 'artificial clay')]\n",
      "[('surface', 'http://www.wikidata.org/entity/Q47769193'), ('Sname', 'concrete')]\n",
      "[('surface', 'http://www.wikidata.org/entity/Q47769225'), ('Sname', 'indoor clay')]\n",
      "[('surface', 'http://www.wikidata.org/entity/Q47769255'), ('Sname', 'outdoor grass')]\n",
      "[('surface', 'http://www.wikidata.org/entity/Q47769283'), ('Sname', 'tiles')]\n",
      "19\n"
     ]
    }
   ],
   "source": [
    "#Previous query shows that grass court is subclassOf \"tennis playing surface\", let's see all the subclasses :\n",
    "\n",
    "queryString = \"\"\"\n",
    "SELECT DISTINCT ?surface ?Sname\n",
    "WHERE {\n",
    "\n",
    "   ?surface wdt:P279 wd:Q47677460. #subclassOf tennisPlayingSurface \n",
    "\n",
    "   ?surface sc:name ?Sname.\n",
    "}\n",
    "LIMIT 20\n",
    "\"\"\"\n",
    "\n",
    "print(\"Results\")\n",
    "x=run_query(queryString)\n",
    "\n",
    "#The question asks for 3, not 19, let's assume we want the 3 \"main ones\" from the Gran Slams "
   ]
  },
  {
   "cell_type": "code",
   "execution_count": 31,
   "id": "e27fac81-c301-4ab5-a9f4-c8257e13a85b",
   "metadata": {},
   "outputs": [
    {
     "name": "stdout",
     "output_type": "stream",
     "text": [
      "Results\n",
      "[('Slamname', 'French Open'), ('Surfname', 'clay court')]\n",
      "[('Slamname', 'US Open'), ('Surfname', 'hardcourt')]\n",
      "[('Slamname', 'Wimbledon Championships'), ('Surfname', 'grass court')]\n",
      "[('Slamname', 'Australian Open'), ('Surfname', 'hardcourt')]\n",
      "[('Slamname', 'Australian Open'), ('Surfname', 'grass court')]\n",
      "5\n"
     ]
    }
   ],
   "source": [
    "#The question asks for 3, not 19, let's assume we want the 3 \"main ones\" from the Gran Slams \n",
    "#To do so, let's reuse \"surfacePlayedOn\" but only for gran slams\n",
    "\n",
    "queryString = \"\"\"\n",
    "SELECT DISTINCT ?Slamname ?Surfname \n",
    "WHERE {\n",
    "   ?Slam ?p wd:Q102113; #GranSlam\n",
    "         wdt:P765 ?surface. #surfacePlayedOn\n",
    "   \n",
    "    ?surface sc:name ?Surfname.\n",
    "    ?Slam sc:name ?Slamname\n",
    "\n",
    "}\n",
    "LIMIT 20\n",
    "\"\"\"\n",
    "\n",
    "print(\"Results\")\n",
    "x=run_query(queryString)"
   ]
  },
  {
   "cell_type": "code",
   "execution_count": 32,
   "id": "c813843a-3940-477c-93af-3da9ec8a61a3",
   "metadata": {},
   "outputs": [
    {
     "name": "stdout",
     "output_type": "stream",
     "text": [
      "Results\n",
      "[('surface', 'http://www.wikidata.org/entity/Q198718'), ('Sname', 'clay court')]\n",
      "[('surface', 'http://www.wikidata.org/entity/Q1330871'), ('Sname', 'hardcourt')]\n",
      "[('surface', 'http://www.wikidata.org/entity/Q1151291'), ('Sname', 'grass court')]\n",
      "3\n"
     ]
    }
   ],
   "source": [
    "#Let's adjust the result s format\n",
    "\n",
    "queryString = \"\"\"\n",
    "SELECT DISTINCT ?surface ?Sname \n",
    "WHERE {\n",
    "   ?Slam ?p wd:Q102113; #GranSlam\n",
    "         wdt:P765 ?surface. #surfacePlayedOn\n",
    "   \n",
    "    ?surface sc:name ?Sname.\n",
    "}\n",
    "LIMIT 20\n",
    "\"\"\"\n",
    "\n",
    "print(\"Results\")\n",
    "x=run_query(queryString)"
   ]
  },
  {
   "cell_type": "markdown",
   "id": "7be6eba8",
   "metadata": {},
   "source": [
    "Final query for this task"
   ]
  },
  {
   "cell_type": "code",
   "execution_count": 33,
   "id": "b097c4a1",
   "metadata": {},
   "outputs": [
    {
     "name": "stdout",
     "output_type": "stream",
     "text": [
      "Results\n",
      "[('surface', 'http://www.wikidata.org/entity/Q198718'), ('Sname', 'clay court')]\n",
      "[('surface', 'http://www.wikidata.org/entity/Q1330871'), ('Sname', 'hardcourt')]\n",
      "[('surface', 'http://www.wikidata.org/entity/Q1151291'), ('Sname', 'grass court')]\n",
      "3\n"
     ]
    }
   ],
   "source": [
    "# Final query\n",
    "\n",
    "queryString = \"\"\"\n",
    "SELECT DISTINCT ?surface ?Sname \n",
    "WHERE {\n",
    "   ?Slam ?p wd:Q102113; #GranSlam\n",
    "         wdt:P765 ?surface. #surfacePlayedOn\n",
    "   \n",
    "    ?surface sc:name ?Sname.\n",
    "}\n",
    "LIMIT 20\n",
    "\"\"\"\n",
    "\n",
    "print(\"Results\")\n",
    "x=run_query(queryString)"
   ]
  },
  {
   "cell_type": "markdown",
   "id": "4df6a34d",
   "metadata": {},
   "source": [
    "## Task 5\n",
    "Return the tournaments played in the 2018 Wimbledon Championships edition with the related winners (hint: men and women do not play together, there are two distinct tournament ) (the result set must be a list of elements with tournament IRI and label, and winner IRI and label)."
   ]
  },
  {
   "cell_type": "code",
   "execution_count": 41,
   "id": "8d0b6721-6bbb-4861-96dc-98f70e5f1f5e",
   "metadata": {},
   "outputs": [
    {
     "name": "stdout",
     "output_type": "stream",
     "text": [
      "Results\n",
      "[('p', 'http://www.wikidata.org/prop/direct/P131'), ('Pname', 'located in the administrative territorial entity'), ('obj', 'http://www.wikidata.org/entity/Q736742'), ('Oname', 'Wimbledon')]\n",
      "[('p', 'http://www.wikidata.org/prop/direct/P1424'), ('Pname', \"topic's main template\"), ('obj', 'http://www.wikidata.org/entity/Q43323825'), ('Oname', 'Template:Wimbledon player')]\n",
      "[('p', 'http://www.wikidata.org/prop/direct/P1687'), ('Pname', 'Wikidata property'), ('obj', 'http://www.wikidata.org/entity/P4503'), ('Oname', 'Wimbledon player ID')]\n",
      "[('p', 'http://www.wikidata.org/prop/direct/P17'), ('Pname', 'country'), ('obj', 'http://www.wikidata.org/entity/Q145'), ('Oname', 'United Kingdom')]\n",
      "[('p', 'http://www.wikidata.org/prop/direct/P1889'), ('Pname', 'different from'), ('obj', 'http://www.wikidata.org/entity/Q206375'), ('Oname', 'Wimbledon')]\n",
      "[('p', 'http://www.wikidata.org/prop/direct/P2354'), ('Pname', 'has list'), ('obj', 'http://www.wikidata.org/entity/Q6585893'), ('Oname', 'list of Wimbledon singles finalists during the open era')]\n",
      "[('p', 'http://www.wikidata.org/prop/direct/P276'), ('Pname', 'location'), ('obj', 'http://www.wikidata.org/entity/Q815369'), ('Oname', 'All England Lawn Tennis and Croquet Club')]\n",
      "[('p', 'http://www.wikidata.org/prop/direct/P279'), ('Pname', 'subclass of'), ('obj', 'http://www.wikidata.org/entity/Q13219666'), ('Oname', 'tennis tournament')]\n",
      "[('p', 'http://www.wikidata.org/prop/direct/P31'), ('Pname', 'instance of'), ('obj', 'http://www.wikidata.org/entity/Q18608583'), ('Oname', 'recurring sporting event')]\n",
      "[('p', 'http://www.wikidata.org/prop/direct/P361'), ('Pname', 'part of'), ('obj', 'http://www.wikidata.org/entity/Q102113'), ('Oname', 'Grand Slam of tennis')]\n",
      "[('p', 'http://www.wikidata.org/prop/direct/P4622'), ('Pname', 'trophy awarded'), ('obj', 'http://www.wikidata.org/entity/Q7920608'), ('Oname', 'Venus Rosewater Dish')]\n",
      "[('p', 'http://www.wikidata.org/prop/direct/P641'), ('Pname', 'sport'), ('obj', 'http://www.wikidata.org/entity/Q847'), ('Oname', 'tennis')]\n",
      "[('p', 'http://www.wikidata.org/prop/direct/P664'), ('Pname', 'organizer'), ('obj', 'http://www.wikidata.org/entity/Q223041'), ('Oname', 'International Tennis Federation')]\n",
      "[('p', 'http://www.wikidata.org/prop/direct/P664'), ('Pname', 'organizer'), ('obj', 'http://www.wikidata.org/entity/Q815369'), ('Oname', 'All England Lawn Tennis and Croquet Club')]\n",
      "[('p', 'http://www.wikidata.org/prop/direct/P664'), ('Pname', 'organizer'), ('obj', 'http://www.wikidata.org/entity/Q1337913'), ('Oname', 'Lawn Tennis Association')]\n",
      "[('p', 'http://www.wikidata.org/prop/direct/P765'), ('Pname', 'surface played on'), ('obj', 'http://www.wikidata.org/entity/Q1151291'), ('Oname', 'grass court')]\n",
      "[('p', 'http://www.wikidata.org/prop/direct/P7959'), ('Pname', 'historic county'), ('obj', 'http://www.wikidata.org/entity/Q67443130'), ('Oname', 'Surrey')]\n",
      "[('p', 'http://www.wikidata.org/prop/direct/P910'), ('Pname', \"topic's main category\"), ('obj', 'http://www.wikidata.org/entity/Q5326534'), ('Oname', 'Category:The Championships, Wimbledon')]\n",
      "18\n"
     ]
    }
   ],
   "source": [
    "# A previous query result was : [('tournament', 'http://www.wikidata.org/entity/Q41520'), ('Tname', 'Wimbledon Championships')]\n",
    "#Let's see if the year is a data property \n",
    "\n",
    "queryString = \"\"\"\n",
    "SELECT DISTINCT ?p ?Pname ?obj ?Oname \n",
    "WHERE {\n",
    "\n",
    "   wd:Q41520 ?p ?obj . #Wimbledon\n",
    "\n",
    "   ?obj sc:name ?Oname.\n",
    "   ?p sc:name ?Pname\n",
    "}\n",
    "LIMIT 20\n",
    "\"\"\"\n",
    "\n",
    "print(\"Results\")\n",
    "x=run_query(queryString)"
   ]
  },
  {
   "cell_type": "code",
   "execution_count": 40,
   "id": "af95f096-6e47-4f69-95f2-076027447284",
   "metadata": {},
   "outputs": [
    {
     "name": "stdout",
     "output_type": "stream",
     "text": [
      "Results\n",
      "[('instance', 'http://www.wikidata.org/entity/Q268871'), ('Iname', '2004 Wimbledon Championships')]\n",
      "[('instance', 'http://www.wikidata.org/entity/Q173961'), ('Iname', '1978 Wimbledon Championships')]\n",
      "[('instance', 'http://www.wikidata.org/entity/Q925026'), ('Iname', '1971 Wimbledon Championships')]\n",
      "[('instance', 'http://www.wikidata.org/entity/Q15854765'), ('Iname', '2014 Wimbledon Championships')]\n",
      "[('instance', 'http://www.wikidata.org/entity/Q30085309'), ('Iname', '2018 Wimbledon Championships')]\n",
      "[('instance', 'http://www.wikidata.org/entity/Q745901'), ('Iname', '1974 Wimbledon Championships')]\n",
      "[('instance', 'http://www.wikidata.org/entity/Q655368'), ('Iname', '1955 Wimbledon Championships')]\n",
      "[('instance', 'http://www.wikidata.org/entity/Q655378'), ('Iname', '1956 Wimbledon Championships')]\n",
      "[('instance', 'http://www.wikidata.org/entity/Q657950'), ('Iname', '1957 Wimbledon Championships')]\n",
      "[('instance', 'http://www.wikidata.org/entity/Q657962'), ('Iname', '1958 Wimbledon Championships')]\n",
      "[('instance', 'http://www.wikidata.org/entity/Q2296335'), ('Iname', '1881 Wimbledon Championship')]\n",
      "[('instance', 'http://www.wikidata.org/entity/Q2297185'), ('Iname', '1882 Wimbledon Championship')]\n",
      "[('instance', 'http://www.wikidata.org/entity/Q522860'), ('Iname', '1883 Wimbledon Championship')]\n",
      "[('instance', 'http://www.wikidata.org/entity/Q20127632'), ('Iname', '2016 Wimbledon Championships')]\n",
      "[('instance', 'http://www.wikidata.org/entity/Q934978'), ('Iname', '1988 Wimbledon Championships')]\n",
      "[('instance', 'http://www.wikidata.org/entity/Q388312'), ('Iname', '2008 Wimbledon Championships')]\n",
      "[('instance', 'http://www.wikidata.org/entity/Q1049018'), ('Iname', '1980 Wimbledon Championships')]\n",
      "[('instance', 'http://www.wikidata.org/entity/Q404337'), ('Iname', '1929 Wimbledon Championships')]\n",
      "[('instance', 'http://www.wikidata.org/entity/Q404437'), ('Iname', '1930 Wimbledon Championships')]\n",
      "[('instance', 'http://www.wikidata.org/entity/Q404791'), ('Iname', '1933 Wimbledon Championships')]\n",
      "20\n"
     ]
    }
   ],
   "source": [
    "#Let's check now instances of Wimbledon\n",
    "\n",
    "queryString = \"\"\"\n",
    "SELECT DISTINCT ?instance ?Iname\n",
    "WHERE {\n",
    "\n",
    "   ?instance wdt:P31 wd:Q41520. #a WimbledonChampionship\n",
    "\n",
    "   ?instance sc:name ?Iname.\n",
    "}\n",
    "LIMIT 20\n",
    "\"\"\"\n",
    "\n",
    "print(\"Results\")\n",
    "x=run_query(queryString)"
   ]
  },
  {
   "cell_type": "code",
   "execution_count": 45,
   "id": "ae2fc4b6-da30-44f7-bf0f-2afda1eb80cb",
   "metadata": {},
   "outputs": [
    {
     "name": "stdout",
     "output_type": "stream",
     "text": [
      "Results\n",
      "[('instance', 'http://www.wikidata.org/entity/Q30085309'), ('Iname', '2018 Wimbledon Championships')]\n",
      "1\n"
     ]
    }
   ],
   "source": [
    "#Let's get the 2018 Wim Champ bgp\n",
    "\n",
    "queryString = \"\"\"\n",
    "SELECT DISTINCT ?instance ?Iname\n",
    "WHERE {\n",
    "\n",
    "   ?instance wdt:P31 wd:Q41520. #a WimbledonChampionship\n",
    "\n",
    "   ?instance sc:name ?Iname.\n",
    "   FILTER(REGEX(?Iname,\"2018\"))\n",
    "}\n",
    "LIMIT 20\n",
    "\"\"\"\n",
    "\n",
    "print(\"Results\")\n",
    "x=run_query(queryString)"
   ]
  },
  {
   "cell_type": "code",
   "execution_count": 3,
   "id": "64283c0f-a717-463a-bb5e-5d4dbdf2b684",
   "metadata": {},
   "outputs": [
    {
     "name": "stdout",
     "output_type": "stream",
     "text": [
      "Results\n",
      "[('p', 'http://www.wikidata.org/prop/direct/P131'), ('Pname', 'located in the administrative territorial entity'), ('obj', 'http://www.wikidata.org/entity/Q736742'), ('Oname', 'Wimbledon')]\n",
      "[('p', 'http://www.wikidata.org/prop/direct/P155'), ('Pname', 'follows'), ('obj', 'http://www.wikidata.org/entity/Q25344121'), ('Oname', '2017 Wimbledon Championships')]\n",
      "[('p', 'http://www.wikidata.org/prop/direct/P156'), ('Pname', 'followed by'), ('obj', 'http://www.wikidata.org/entity/Q54093953'), ('Oname', '2019 Wimbledon Championships')]\n",
      "[('p', 'http://www.wikidata.org/prop/direct/P17'), ('Pname', 'country'), ('obj', 'http://www.wikidata.org/entity/Q145'), ('Oname', 'United Kingdom')]\n",
      "[('p', 'http://www.wikidata.org/prop/direct/P276'), ('Pname', 'location'), ('obj', 'http://www.wikidata.org/entity/Q84'), ('Oname', 'London')]\n",
      "[('p', 'http://www.wikidata.org/prop/direct/P31'), ('Pname', 'instance of'), ('obj', 'http://www.wikidata.org/entity/Q41520'), ('Oname', 'Wimbledon Championships')]\n",
      "[('p', 'http://www.wikidata.org/prop/direct/P31'), ('Pname', 'instance of'), ('obj', 'http://www.wikidata.org/entity/Q47345468'), ('Oname', 'tennis tournament edition')]\n",
      "[('p', 'http://www.wikidata.org/prop/direct/P527'), ('Pname', 'has part'), ('obj', 'http://www.wikidata.org/entity/Q55455423'), ('Oname', \"2018 Wimbledon Championships – Wheelchair Women's Doubles\")]\n",
      "[('p', 'http://www.wikidata.org/prop/direct/P527'), ('Pname', 'has part'), ('obj', 'http://www.wikidata.org/entity/Q55410290'), ('Oname', \"2018 Wimbledon Championships – Girls' Doubles\")]\n",
      "[('p', 'http://www.wikidata.org/prop/direct/P527'), ('Pname', 'has part'), ('obj', 'http://www.wikidata.org/entity/Q55381839'), ('Oname', \"2018 Wimbledon Championships – Girls' Singles\")]\n",
      "[('p', 'http://www.wikidata.org/prop/direct/P527'), ('Pname', 'has part'), ('obj', 'http://www.wikidata.org/entity/Q55455404'), ('Oname', \"2018 Wimbledon Championships – Wheelchair Women's Singles\")]\n",
      "[('p', 'http://www.wikidata.org/prop/direct/P527'), ('Pname', 'has part'), ('obj', 'http://www.wikidata.org/entity/Q30098268'), ('Oname', \"2018 Wimbledon Championships – Women's Singles\")]\n",
      "[('p', 'http://www.wikidata.org/prop/direct/P527'), ('Pname', 'has part'), ('obj', 'http://www.wikidata.org/entity/Q32356704'), ('Oname', \"2018 Wimbledon Championships – Women's Doubles\")]\n",
      "[('p', 'http://www.wikidata.org/prop/direct/P527'), ('Pname', 'has part'), ('obj', 'http://www.wikidata.org/entity/Q55410361'), ('Oname', \"2018 Wimbledon Championships – Boys' Doubles\")]\n",
      "[('p', 'http://www.wikidata.org/prop/direct/P527'), ('Pname', 'has part'), ('obj', 'http://www.wikidata.org/entity/Q32358401'), ('Oname', '2018 Wimbledon Championships – Mixed Doubles')]\n",
      "[('p', 'http://www.wikidata.org/prop/direct/P527'), ('Pname', 'has part'), ('obj', 'http://www.wikidata.org/entity/Q55381833'), ('Oname', \"2018 Wimbledon Championships – Boys' Singles\")]\n",
      "[('p', 'http://www.wikidata.org/prop/direct/P527'), ('Pname', 'has part'), ('obj', 'http://www.wikidata.org/entity/Q32357790'), ('Oname', \"2018 Wimbledon Championships – Men's Doubles\")]\n",
      "[('p', 'http://www.wikidata.org/prop/direct/P527'), ('Pname', 'has part'), ('obj', 'http://www.wikidata.org/entity/Q54961494'), ('Oname', \"2018 Wimbledon Championships – Men's Singles\")]\n",
      "[('p', 'http://www.wikidata.org/prop/direct/P641'), ('Pname', 'sport'), ('obj', 'http://www.wikidata.org/entity/Q847'), ('Oname', 'tennis')]\n",
      "[('p', 'http://www.wikidata.org/prop/direct/P910'), ('Pname', \"topic's main category\"), ('obj', 'http://www.wikidata.org/entity/Q53582240'), ('Oname', 'Category:2018 Wimbledon Championships')]\n",
      "20\n"
     ]
    }
   ],
   "source": [
    "#Let's explore now related obj/prop\n",
    "\n",
    "queryString = \"\"\"\n",
    "SELECT DISTINCT ?p ?Pname ?obj ?Oname \n",
    "WHERE {\n",
    "\n",
    "   wd:Q30085309 ?p ?obj . #2018Wimbledon\n",
    "\n",
    "   ?obj sc:name ?Oname.\n",
    "   ?p sc:name ?Pname\n",
    "}\n",
    "LIMIT 20\n",
    "\"\"\"\n",
    "\n",
    "print(\"Results\")\n",
    "x=run_query(queryString)"
   ]
  },
  {
   "cell_type": "code",
   "execution_count": 4,
   "id": "3037f0ce-62be-411e-9a96-5c86dda33ba5",
   "metadata": {},
   "outputs": [
    {
     "name": "stdout",
     "output_type": "stream",
     "text": [
      "Results\n",
      "[('p', 'http://www.wikidata.org/prop/direct/P1346'), ('Pname', 'winner'), ('obj', 'http://www.wikidata.org/entity/Q77178'), ('Oname', 'Angelique Kerber')]\n",
      "[('p', 'http://www.wikidata.org/prop/direct/P155'), ('Pname', 'follows'), ('obj', 'http://www.wikidata.org/entity/Q25344122'), ('Oname', \"2017 Wimbledon Championships – Women's Singles\")]\n",
      "[('p', 'http://www.wikidata.org/prop/direct/P156'), ('Pname', 'followed by'), ('obj', 'http://www.wikidata.org/entity/Q55749169'), ('Oname', \"2019 Wimbledon Championships – Women's Singles\")]\n",
      "[('p', 'http://www.wikidata.org/prop/direct/P2094'), ('Pname', 'competition class'), ('obj', 'http://www.wikidata.org/entity/Q16893403'), ('Oname', \"women's singles\")]\n",
      "[('p', 'http://www.wikidata.org/prop/direct/P31'), ('Pname', 'instance of'), ('obj', 'http://www.wikidata.org/entity/Q46190676'), ('Oname', 'tennis event')]\n",
      "[('p', 'http://www.wikidata.org/prop/direct/P361'), ('Pname', 'part of'), ('obj', 'http://www.wikidata.org/entity/Q30085309'), ('Oname', '2018 Wimbledon Championships')]\n",
      "[('p', 'http://www.wikidata.org/prop/direct/P641'), ('Pname', 'sport'), ('obj', 'http://www.wikidata.org/entity/Q847'), ('Oname', 'tennis')]\n",
      "7\n"
     ]
    }
   ],
   "source": [
    "#We see that the property \"hasPart\" links the main event to all its \"subtournament\", which are what we are looking for\n",
    "#Now that we have the tournaments, we must find how to get the winners, let's take one subtournament randomly and explore related obj/prop\n",
    "\n",
    "#Let's explore now related obj/prop\n",
    "\n",
    "queryString = \"\"\"\n",
    "SELECT DISTINCT ?p ?Pname ?obj ?Oname \n",
    "WHERE {\n",
    "\n",
    "   wd:Q30098268 ?p ?obj . #2018WimbledonWomenSingles\n",
    "\n",
    "   ?obj sc:name ?Oname.\n",
    "   ?p sc:name ?Pname\n",
    "}\n",
    "LIMIT 20\n",
    "\"\"\"\n",
    "\n",
    "print(\"Results\")\n",
    "x=run_query(queryString)"
   ]
  },
  {
   "cell_type": "code",
   "execution_count": 10,
   "id": "d38f1dd3-68fe-477a-ba16-7ef33e03d15a",
   "metadata": {},
   "outputs": [
    {
     "name": "stdout",
     "output_type": "stream",
     "text": [
      "Results\n",
      "[('tournament', 'http://www.wikidata.org/entity/Q32357790'), ('Tname', \"2018 Wimbledon Championships – Men's Doubles\"), ('winner', 'http://www.wikidata.org/entity/Q53342'), ('Wname', 'Mike Bryan')]\n",
      "[('tournament', 'http://www.wikidata.org/entity/Q54961494'), ('Tname', \"2018 Wimbledon Championships – Men's Singles\"), ('winner', 'http://www.wikidata.org/entity/Q5812'), ('Wname', 'Novak Djokovic')]\n",
      "[('tournament', 'http://www.wikidata.org/entity/Q30098268'), ('Tname', \"2018 Wimbledon Championships – Women's Singles\"), ('winner', 'http://www.wikidata.org/entity/Q77178'), ('Wname', 'Angelique Kerber')]\n",
      "[('tournament', 'http://www.wikidata.org/entity/Q32356704'), ('Tname', \"2018 Wimbledon Championships – Women's Doubles\"), ('winner', 'http://www.wikidata.org/entity/Q11052500'), ('Wname', 'Barbora Krejčíková')]\n",
      "[('tournament', 'http://www.wikidata.org/entity/Q55455423'), ('Tname', \"2018 Wimbledon Championships – Wheelchair Women's Doubles\"), ('winner', 'http://www.wikidata.org/entity/Q16224602'), ('Wname', 'Yui Kamiji')]\n",
      "[('tournament', 'http://www.wikidata.org/entity/Q55381839'), ('Tname', \"2018 Wimbledon Championships – Girls' Singles\"), ('winner', 'http://www.wikidata.org/entity/Q26840238'), ('Wname', 'Iga Świątek')]\n",
      "[('tournament', 'http://www.wikidata.org/entity/Q55455404'), ('Tname', \"2018 Wimbledon Championships – Wheelchair Women's Singles\"), ('winner', 'http://www.wikidata.org/entity/Q24574661'), ('Wname', 'Diede de Groot')]\n",
      "[('tournament', 'http://www.wikidata.org/entity/Q55455423'), ('Tname', \"2018 Wimbledon Championships – Wheelchair Women's Doubles\"), ('winner', 'http://www.wikidata.org/entity/Q24574661'), ('Wname', 'Diede de Groot')]\n",
      "[('tournament', 'http://www.wikidata.org/entity/Q32356704'), ('Tname', \"2018 Wimbledon Championships – Women's Doubles\"), ('winner', 'http://www.wikidata.org/entity/Q3720044'), ('Wname', 'Kateřina Siniaková')]\n",
      "[('tournament', 'http://www.wikidata.org/entity/Q32358401'), ('Tname', '2018 Wimbledon Championships – Mixed Doubles'), ('winner', 'http://www.wikidata.org/entity/Q2216368'), ('Wname', 'Nicole Melichar-Martinez')]\n",
      "[('tournament', 'http://www.wikidata.org/entity/Q32358401'), ('Tname', '2018 Wimbledon Championships – Mixed Doubles'), ('winner', 'http://www.wikidata.org/entity/Q457476'), ('Wname', 'Alexander Peya')]\n",
      "[('tournament', 'http://www.wikidata.org/entity/Q55410361'), ('Tname', \"2018 Wimbledon Championships – Boys' Doubles\"), ('winner', 'http://www.wikidata.org/entity/Q55569239'), ('Wname', 'Yankı Erel')]\n",
      "[('tournament', 'http://www.wikidata.org/entity/Q55410290'), ('Tname', \"2018 Wimbledon Championships – Girls' Doubles\"), ('winner', 'http://www.wikidata.org/entity/Q44465805'), ('Wname', 'Wang Xinyu')]\n",
      "[('tournament', 'http://www.wikidata.org/entity/Q55410290'), ('Tname', \"2018 Wimbledon Championships – Girls' Doubles\"), ('winner', 'http://www.wikidata.org/entity/Q41799108'), ('Wname', 'Wang Xiyu')]\n",
      "[('tournament', 'http://www.wikidata.org/entity/Q55381833'), ('Tname', \"2018 Wimbledon Championships – Boys' Singles\"), ('winner', 'http://www.wikidata.org/entity/Q47516746'), ('Wname', 'Tseng Chun-hsin')]\n",
      "15\n"
     ]
    }
   ],
   "source": [
    "#We see that there is indeed a property winner, so we can start building the query :\n",
    "\n",
    "queryString = \"\"\"\n",
    "SELECT DISTINCT ?tournament ?Tname ?winner ?Wname \n",
    "WHERE {\n",
    "\n",
    "   wd:Q30085309 wdt:P527 ?tournament . #2018Wimbledon hasPart\n",
    "   ?tournament wdt:P1346 ?winner. #winner\n",
    "   \n",
    "   ?tournament sc:name ?Tname.\n",
    "   ?winner sc:name ?Wname.\n",
    "}\n",
    "LIMIT 20\n",
    "\"\"\"\n",
    "\n",
    "print(\"Results\")\n",
    "x=run_query(queryString)"
   ]
  },
  {
   "cell_type": "code",
   "execution_count": 13,
   "id": "bd0e6ea4-90f2-4c5d-a231-11c5f16e4d9d",
   "metadata": {},
   "outputs": [
    {
     "name": "stdout",
     "output_type": "stream",
     "text": [
      "Results\n",
      "[('winner', 'http://www.wikidata.org/entity/Q53342'), ('Wname', 'Mike Bryan')]\n",
      "1\n"
     ]
    }
   ],
   "source": [
    "#Men's double tournament only returns one person, but it should return 2, let's double check 2018 men's doubles winner.\n",
    "\n",
    "queryString = \"\"\"\n",
    "SELECT DISTINCT ?winner ?Wname \n",
    "WHERE {\n",
    "\n",
    "   wd:Q32357790 wdt:P1346 ?winner. #2018WibledonMensDouble winner\n",
    "\n",
    "    ?winner sc:name ?Wname.\n",
    "}\n",
    "LIMIT 20\n",
    "\"\"\"\n",
    "\n",
    "print(\"Results\")\n",
    "x=run_query(queryString)"
   ]
  },
  {
   "cell_type": "code",
   "execution_count": 28,
   "id": "10d75d4d-bb09-463a-b9e2-f3ffe11c375b",
   "metadata": {},
   "outputs": [
    {
     "name": "stdout",
     "output_type": "stream",
     "text": [
      "Results\n",
      "[('p', 'http://www.wikidata.org/prop/direct/P361'), ('Pname', 'part of'), ('s', 'http://www.wikidata.org/entity/Q30085309'), ('Sname', '2018 Wimbledon Championships')]\n",
      "[('p', 'http://www.wikidata.org/prop/direct/P17'), ('Pname', 'country'), ('s', 'http://www.wikidata.org/entity/Q145'), ('Sname', 'United Kingdom')]\n",
      "[('p', 'http://www.wikidata.org/prop/direct/P641'), ('Pname', 'sport'), ('s', 'http://www.wikidata.org/entity/Q847'), ('Sname', 'tennis')]\n",
      "[('p', 'http://www.wikidata.org/prop/direct/P1346'), ('Pname', 'winner'), ('s', 'http://www.wikidata.org/entity/Q53342'), ('Sname', 'Mike Bryan')]\n",
      "[('p', 'http://www.wikidata.org/prop/direct/P31'), ('Pname', 'instance of'), ('s', 'http://www.wikidata.org/entity/Q46190676'), ('Sname', 'tennis event')]\n",
      "[('p', 'http://www.wikidata.org/prop/direct/P2094'), ('Pname', 'competition class'), ('s', 'http://www.wikidata.org/entity/Q17299700'), ('Sname', \"men's doubles\")]\n",
      "[('p', 'http://www.wikidata.org/prop/direct/P156'), ('Pname', 'followed by'), ('s', 'http://www.wikidata.org/entity/Q64859037'), ('Sname', \"2019 Wimbledon Championships – Men's Doubles\")]\n",
      "[('p', 'http://www.wikidata.org/prop/direct/P155'), ('Pname', 'follows'), ('s', 'http://www.wikidata.org/entity/Q25476670'), ('Sname', \"2017 Wimbledon Championships – Men's Doubles\")]\n",
      "8\n"
     ]
    }
   ],
   "source": [
    "#Let's see all related props/obj\n",
    "\n",
    "queryString = \"\"\"\n",
    "SELECT DISTINCT ?p ?Pname ?s ?Sname \n",
    "WHERE {\n",
    "\n",
    "   wd:Q32357790 ?p ?s. #2018WibledonMensDouble\n",
    "\n",
    "    ?p sc:name ?Pname.\n",
    "    ?s sc:name ?Sname.\n",
    "}\n",
    "LIMIT 20\n",
    "\"\"\"\n",
    "\n",
    "print(\"Results\")\n",
    "x=run_query(queryString)"
   ]
  },
  {
   "cell_type": "code",
   "execution_count": 39,
   "id": "ba3cc7c4-bc4f-4758-bf01-1aa03a41fba0",
   "metadata": {},
   "outputs": [
    {
     "name": "stdout",
     "output_type": "stream",
     "text": [
      "Results\n",
      "[('p', 'http://www.wikidata.org/entity/P710'), ('Pname', 'participant')]\n",
      "1\n"
     ]
    }
   ],
   "source": [
    "#Let's see if there is a winner subproperty to get the other one \n",
    "\n",
    "queryString = \"\"\"\n",
    "SELECT DISTINCT ?p ?Pname \n",
    "WHERE {\n",
    "    wd:P1346 wdt:P1647 ?p. #Winner subproperty\n",
    "    \n",
    "    ?p sc:name ?Pname.\n",
    "}\n",
    "LIMIT 20\n",
    "\"\"\"\n",
    "\n",
    "print(\"Results\")\n",
    "x=run_query(queryString)"
   ]
  },
  {
   "cell_type": "markdown",
   "id": "6d0e8740",
   "metadata": {},
   "source": [
    "Final query for this task"
   ]
  },
  {
   "cell_type": "code",
   "execution_count": 59,
   "id": "3fb7f388",
   "metadata": {},
   "outputs": [
    {
     "name": "stdout",
     "output_type": "stream",
     "text": [
      "Results\n",
      "[('tournament', 'http://www.wikidata.org/entity/Q32357790'), ('Tname', \"2018 Wimbledon Championships – Men's Doubles\"), ('winner', 'http://www.wikidata.org/entity/Q53342'), ('Wname', 'Mike Bryan')]\n",
      "[('tournament', 'http://www.wikidata.org/entity/Q54961494'), ('Tname', \"2018 Wimbledon Championships – Men's Singles\"), ('winner', 'http://www.wikidata.org/entity/Q5812'), ('Wname', 'Novak Djokovic')]\n",
      "[('tournament', 'http://www.wikidata.org/entity/Q30098268'), ('Tname', \"2018 Wimbledon Championships – Women's Singles\"), ('winner', 'http://www.wikidata.org/entity/Q77178'), ('Wname', 'Angelique Kerber')]\n",
      "[('tournament', 'http://www.wikidata.org/entity/Q32356704'), ('Tname', \"2018 Wimbledon Championships – Women's Doubles\"), ('winner', 'http://www.wikidata.org/entity/Q11052500'), ('Wname', 'Barbora Krejčíková')]\n",
      "[('tournament', 'http://www.wikidata.org/entity/Q55455423'), ('Tname', \"2018 Wimbledon Championships – Wheelchair Women's Doubles\"), ('winner', 'http://www.wikidata.org/entity/Q16224602'), ('Wname', 'Yui Kamiji')]\n",
      "[('tournament', 'http://www.wikidata.org/entity/Q55381839'), ('Tname', \"2018 Wimbledon Championships – Girls' Singles\"), ('winner', 'http://www.wikidata.org/entity/Q26840238'), ('Wname', 'Iga Świątek')]\n",
      "[('tournament', 'http://www.wikidata.org/entity/Q55455404'), ('Tname', \"2018 Wimbledon Championships – Wheelchair Women's Singles\"), ('winner', 'http://www.wikidata.org/entity/Q24574661'), ('Wname', 'Diede de Groot')]\n",
      "[('tournament', 'http://www.wikidata.org/entity/Q55455423'), ('Tname', \"2018 Wimbledon Championships – Wheelchair Women's Doubles\"), ('winner', 'http://www.wikidata.org/entity/Q24574661'), ('Wname', 'Diede de Groot')]\n",
      "[('tournament', 'http://www.wikidata.org/entity/Q32356704'), ('Tname', \"2018 Wimbledon Championships – Women's Doubles\"), ('winner', 'http://www.wikidata.org/entity/Q3720044'), ('Wname', 'Kateřina Siniaková')]\n",
      "[('tournament', 'http://www.wikidata.org/entity/Q32358401'), ('Tname', '2018 Wimbledon Championships – Mixed Doubles'), ('winner', 'http://www.wikidata.org/entity/Q2216368'), ('Wname', 'Nicole Melichar-Martinez')]\n",
      "[('tournament', 'http://www.wikidata.org/entity/Q32358401'), ('Tname', '2018 Wimbledon Championships – Mixed Doubles'), ('winner', 'http://www.wikidata.org/entity/Q457476'), ('Wname', 'Alexander Peya')]\n",
      "[('tournament', 'http://www.wikidata.org/entity/Q55410361'), ('Tname', \"2018 Wimbledon Championships – Boys' Doubles\"), ('winner', 'http://www.wikidata.org/entity/Q55569239'), ('Wname', 'Yankı Erel')]\n",
      "[('tournament', 'http://www.wikidata.org/entity/Q55410290'), ('Tname', \"2018 Wimbledon Championships – Girls' Doubles\"), ('winner', 'http://www.wikidata.org/entity/Q44465805'), ('Wname', 'Wang Xinyu')]\n",
      "[('tournament', 'http://www.wikidata.org/entity/Q55410290'), ('Tname', \"2018 Wimbledon Championships – Girls' Doubles\"), ('winner', 'http://www.wikidata.org/entity/Q41799108'), ('Wname', 'Wang Xiyu')]\n",
      "[('tournament', 'http://www.wikidata.org/entity/Q55381833'), ('Tname', \"2018 Wimbledon Championships – Boys' Singles\"), ('winner', 'http://www.wikidata.org/entity/Q47516746'), ('Wname', 'Tseng Chun-hsin')]\n",
      "15\n"
     ]
    }
   ],
   "source": [
    "# Final query\n",
    "\n",
    "queryString = \"\"\"\n",
    "SELECT DISTINCT ?tournament ?Tname ?winner ?Wname \n",
    "WHERE {\n",
    "\n",
    "   wd:Q30085309 wdt:P527 ?tournament . #2018Wimbledon hasPart\n",
    "   ?tournament wdt:P1346 ?winner. #winner\n",
    "   \n",
    "   ?tournament sc:name ?Tname.\n",
    "   ?winner sc:name ?Wname.\n",
    "}\n",
    "LIMIT 20\n",
    "\"\"\"\n",
    "\n",
    "print(\"Results\")\n",
    "x=run_query(queryString)\n",
    "\n",
    "#Men's double has only one winner displayed here"
   ]
  },
  {
   "cell_type": "markdown",
   "id": "f9357b39",
   "metadata": {},
   "source": [
    "## Task 6\n",
    "Consider the tennis players born after 1975, return who won more Grand Slams and cut the result to the top-10 (the result set must be a list of triples player IRI, label and #victories)."
   ]
  },
  {
   "cell_type": "code",
   "execution_count": 61,
   "id": "fd9ca7a4",
   "metadata": {},
   "outputs": [
    {
     "name": "stdout",
     "output_type": "stream",
     "text": [
      "Results\n",
      "[('p', 'http://www.wikidata.org/prop/direct/P1963'), ('Pname', 'properties for this type'), ('obj', 'http://www.wikidata.org/entity/P570'), ('Oname', 'date of death')]\n",
      "[('p', 'http://www.wikidata.org/prop/direct/P1963'), ('Pname', 'properties for this type'), ('obj', 'http://www.wikidata.org/entity/P19'), ('Oname', 'place of birth')]\n",
      "[('p', 'http://www.wikidata.org/prop/direct/P1963'), ('Pname', 'properties for this type'), ('obj', 'http://www.wikidata.org/entity/P1636'), ('Oname', 'date of baptism in early childhood')]\n",
      "[('p', 'http://www.wikidata.org/prop/direct/P1963'), ('Pname', 'properties for this type'), ('obj', 'http://www.wikidata.org/entity/P1477'), ('Oname', 'birth name')]\n",
      "[('p', 'http://www.wikidata.org/prop/direct/P1963'), ('Pname', 'properties for this type'), ('obj', 'http://www.wikidata.org/entity/P4602'), ('Oname', 'date of burial or cremation')]\n",
      "[('p', 'http://www.wikidata.org/prop/direct/P1963'), ('Pname', 'properties for this type'), ('obj', 'http://www.wikidata.org/entity/P569'), ('Oname', 'date of birth')]\n",
      "6\n"
     ]
    }
   ],
   "source": [
    "# For this query, we need bgp of Grand slam (hasPart and partOf), tennis player, winner, birth date. The only one missing is birth date, let's find it\n",
    "#Let's also note that we assume the question refers to all tournaments of Gran Slams (so we include Doubles and so on)\n",
    "\n",
    "queryString = \"\"\"\n",
    "SELECT DISTINCT ?p ?Pname ?obj ?Oname\n",
    "WHERE {\n",
    "   wd:Q5 ?p ?obj. #Human\n",
    "\n",
    "   ?p sc:name ?Pname.\n",
    "   ?obj sc:name ?Oname.\n",
    "   FILTER(REGEX(?Oname,\"(birth|born|date)\"))\n",
    "\n",
    "}\n",
    "LIMIT 50\n",
    "\"\"\"\n",
    "\n",
    "print(\"Results\")\n",
    "x=run_query(queryString)\n",
    "\n",
    "#we got date of birth P569"
   ]
  },
  {
   "cell_type": "code",
   "execution_count": 78,
   "id": "a842209a-9b31-4090-8134-4bb9faa0e2d4",
   "metadata": {},
   "outputs": [
    {
     "name": "stdout",
     "output_type": "stream",
     "text": [
      "Results\n",
      "[('bdate', '1957-07-24T00:00:00Z')]\n",
      "[('bdate', '1994-09-13T00:00:00Z')]\n",
      "[('bdate', '1989-04-17T00:00:00Z')]\n",
      "[('bdate', '1941-09-13T00:00:00Z')]\n",
      "[('bdate', '1930-01-01T00:00:00Z')]\n",
      "[('bdate', '1995-07-08T00:00:00Z')]\n",
      "[('bdate', '1981-09-19T00:00:00Z')]\n",
      "[('bdate', '1994-09-01T00:00:00Z')]\n",
      "[('bdate', '1928-02-02T00:00:00Z')]\n",
      "[('bdate', '1899-11-04T00:00:00Z')]\n",
      "10\n"
     ]
    }
   ],
   "source": [
    "#tennis player : Q10833314\n",
    "#gran slam : Q102113\n",
    "#winner : P1346 bdate: P569\n",
    "\n",
    "#Let's try to build the query (bgp for profession is given), first checking if birth dates are returned\n",
    "\n",
    "queryString = \"\"\"\n",
    "SELECT DISTINCT ?bdate\n",
    "WHERE {\n",
    "   ?player wdt:P31 wd:Q5;            #a Human\n",
    "           wdt:P106 wd:Q10833314;    #profession TennisPlayer\n",
    "           wdt:P569 ?bdate.          #birthdate\n",
    "\n",
    "}\n",
    "LIMIT 10\n",
    "\"\"\"\n",
    "\n",
    "print(\"Results\")\n",
    "x=run_query(queryString)"
   ]
  },
  {
   "cell_type": "code",
   "execution_count": 80,
   "id": "45ce3834-3ab8-4edf-887e-4725a34e25c6",
   "metadata": {},
   "outputs": [
    {
     "name": "stdout",
     "output_type": "stream",
     "text": [
      "Results\n",
      "Empty\n"
     ]
    }
   ],
   "source": [
    "queryString = \"\"\"\n",
    "SELECT DISTINCT ?player ?Pname\n",
    "WHERE {\n",
    "   ?player wdt:P31 wd:Q5;            #a Human\n",
    "           wdt:P106 wd:Q10833314;    #profession TennisPlayer\n",
    "           wdt:P569 ?bdate.          #birthdate\n",
    "           \n",
    "   ?tournament wdt:P31 wd:Q102113; #a GranSlam\n",
    "               wdt:P1346 ?player. #winner\n",
    "   \n",
    "   ?player sc:name ?Pname.\n",
    "\n",
    "}\n",
    "LIMIT 10\n",
    "\"\"\"\n",
    "\n",
    "print(\"Results\")\n",
    "x=run_query(queryString)"
   ]
  },
  {
   "cell_type": "code",
   "execution_count": 93,
   "id": "48fcd56a-01cf-48de-90fa-d1d0d9343692",
   "metadata": {},
   "outputs": [
    {
     "name": "stdout",
     "output_type": "stream",
     "text": [
      "Results\n",
      "[('tournament', 'http://www.wikidata.org/entity/Q268871'), ('TName', '2004 Wimbledon Championships')]\n",
      "[('tournament', 'http://www.wikidata.org/entity/Q602116'), ('TName', '1969 Australian Open')]\n",
      "[('tournament', 'http://www.wikidata.org/entity/Q643498'), ('TName', '2000 US Open')]\n",
      "[('tournament', 'http://www.wikidata.org/entity/Q660527'), ('TName', '1983 French Open')]\n",
      "[('tournament', 'http://www.wikidata.org/entity/Q840907'), ('TName', '2004 US Open')]\n",
      "[('tournament', 'http://www.wikidata.org/entity/Q846695'), ('TName', '2000 French Open')]\n",
      "[('tournament', 'http://www.wikidata.org/entity/Q173961'), ('TName', '1978 Wimbledon Championships')]\n",
      "[('tournament', 'http://www.wikidata.org/entity/Q925026'), ('TName', '1971 Wimbledon Championships')]\n",
      "[('tournament', 'http://www.wikidata.org/entity/Q776766'), ('TName', '1928 French Championships')]\n",
      "[('tournament', 'http://www.wikidata.org/entity/Q15854765'), ('TName', '2014 Wimbledon Championships')]\n",
      "10\n"
     ]
    }
   ],
   "source": [
    "#We are not accessing slams right. Let's try do display them all :\n",
    "\n",
    "queryString = \"\"\"\n",
    "SELECT DISTINCT ?tournament ?TName\n",
    "WHERE {\n",
    "           \n",
    "    ?tournament wdt:P31 ?granSlam. #a\n",
    "    ?granSlam wdt:P361 wd:Q102113. #partOf GranSlams\n",
    "    \n",
    "    ?tournament sc:name ?TName\n",
    "\n",
    "}\n",
    "LIMIT 10\n",
    "\"\"\"\n",
    "\n",
    "print(\"Results\")\n",
    "x=run_query(queryString)"
   ]
  },
  {
   "cell_type": "code",
   "execution_count": 96,
   "id": "76038e00-7518-40f1-9130-632bf6aaf32a",
   "metadata": {},
   "outputs": [
    {
     "name": "stdout",
     "output_type": "stream",
     "text": [
      "Results\n",
      "[('parts', 'http://www.wikidata.org/entity/Q15854755'), ('PName', \"1978 Wimbledon Championships – Men's Doubles\")]\n",
      "[('parts', 'http://www.wikidata.org/entity/Q20895284'), ('PName', '2015 US Open – Mixed Doubles')]\n",
      "[('parts', 'http://www.wikidata.org/entity/Q15854758'), ('PName', \"1982 Wimbledon Championships – Men's Doubles\")]\n",
      "[('parts', 'http://www.wikidata.org/entity/Q22231236'), ('PName', \"2016 Australian Open – Boys' Doubles\")]\n",
      "[('parts', 'http://www.wikidata.org/entity/Q22956224'), ('PName', \"2017 Australian Open – Men's Singles\")]\n",
      "[('parts', 'http://www.wikidata.org/entity/Q25344122'), ('PName', \"2017 Wimbledon Championships – Women's Singles\")]\n",
      "[('parts', 'http://www.wikidata.org/entity/Q30098268'), ('PName', \"2018 Wimbledon Championships – Women's Singles\")]\n",
      "[('parts', 'http://www.wikidata.org/entity/Q1455356'), ('PName', \"1980 French Open – Women's Doubles\")]\n",
      "[('parts', 'http://www.wikidata.org/entity/Q1751593'), ('PName', \"1958 Australian Championships – Men's Singles\")]\n",
      "[('parts', 'http://www.wikidata.org/entity/Q2311386'), ('PName', \"1980 French Open – Men's Singles\")]\n",
      "10\n"
     ]
    }
   ],
   "source": [
    "#And if we want to access the different tournaments of all slams :\n",
    "\n",
    "queryString = \"\"\"\n",
    "SELECT DISTINCT ?parts ?PName\n",
    "WHERE {\n",
    "    \n",
    "    ?granSlam wdt:P361 wd:Q102113. #partOf GranSlams\n",
    "    ?tournament wdt:P31 ?granSlam; #a\n",
    "                wdt:P527 ?parts. #hasPart\n",
    "    ?parts sc:name ?PName\n",
    "\n",
    "}\n",
    "LIMIT 10\n",
    "\"\"\"\n",
    "\n",
    "print(\"Results\")\n",
    "x=run_query(queryString)"
   ]
  },
  {
   "cell_type": "code",
   "execution_count": 98,
   "id": "3fe7e2e2-db56-435f-8472-ea8410231ca1",
   "metadata": {},
   "outputs": [
    {
     "name": "stdout",
     "output_type": "stream",
     "text": [
      "Results\n",
      "[('player', 'http://www.wikidata.org/entity/Q299959'), ('Pname', 'Eileen Bennett Whittingstall')]\n",
      "[('player', 'http://www.wikidata.org/entity/Q18918709'), ('Pname', 'Markéta Vondroušová')]\n",
      "[('player', 'http://www.wikidata.org/entity/Q193661'), ('Pname', 'Stan Wawrinka')]\n",
      "[('player', 'http://www.wikidata.org/entity/Q54546'), ('Pname', 'Nancy Richey')]\n",
      "[('player', 'http://www.wikidata.org/entity/Q14905846'), ('Pname', 'Borna Ćorić')]\n",
      "[('player', 'http://www.wikidata.org/entity/Q207352'), ('Pname', 'Agnieszka Radwańska')]\n",
      "[('player', 'http://www.wikidata.org/entity/Q22958938'), ('Pname', 'Alex de Minaur')]\n",
      "[('player', 'http://www.wikidata.org/entity/Q22959065'), ('Pname', 'Blake Ellis')]\n",
      "[('player', 'http://www.wikidata.org/entity/Q239758'), ('Pname', 'Arantxa Rus')]\n",
      "[('player', 'http://www.wikidata.org/entity/Q435255'), ('Pname', 'Shirley Brasher')]\n",
      "10\n"
     ]
    }
   ],
   "source": [
    "#Let's get back to the query and assemble everything and display gran slams winners :\n",
    "\n",
    "queryString = \"\"\"\n",
    "SELECT DISTINCT ?player ?Pname\n",
    "WHERE {\n",
    "   ?player wdt:P31 wd:Q5;            #a Human\n",
    "           wdt:P106 wd:Q10833314;    #profession TennisPlayer\n",
    "           wdt:P569 ?bdate.          #birthdate\n",
    "           \n",
    "    ?granSlam wdt:P361 wd:Q102113. #partOf GranSlams\n",
    "    ?tournament wdt:P31 ?granSlam; #a\n",
    "                wdt:P527 ?parts. #hasPart\n",
    "                \n",
    "    ?parts wdt:P1346 ?player.\n",
    "    ?player sc:name ?Pname.\n",
    "\n",
    "}\n",
    "LIMIT 10\n",
    "\"\"\"\n",
    "\n",
    "print(\"Results\")\n",
    "x=run_query(queryString)"
   ]
  },
  {
   "cell_type": "code",
   "execution_count": 101,
   "id": "091bcaa2-336b-4af0-9a94-75f690c8caeb",
   "metadata": {},
   "outputs": [
    {
     "name": "stdout",
     "output_type": "stream",
     "text": [
      "Results\n",
      "[('player', 'http://www.wikidata.org/entity/Q11459'), ('Pname', 'Serena Williams'), ('countWin', '36')]\n",
      "[('player', 'http://www.wikidata.org/entity/Q134720'), ('Pname', 'Martina Hingis'), ('countWin', '23')]\n",
      "[('player', 'http://www.wikidata.org/entity/Q11578'), ('Pname', 'Venus Williams'), ('countWin', '19')]\n",
      "[('player', 'http://www.wikidata.org/entity/Q10132'), ('Pname', 'Rafael Nadal'), ('countWin', '19')]\n",
      "[('player', 'http://www.wikidata.org/entity/Q5812'), ('Pname', 'Novak Djokovic'), ('countWin', '19')]\n",
      "[('player', 'http://www.wikidata.org/entity/Q1426'), ('Pname', 'Roger Federer'), ('countWin', '17')]\n",
      "[('player', 'http://www.wikidata.org/entity/Q53340'), ('Pname', 'Bob Bryan'), ('countWin', '14')]\n",
      "[('player', 'http://www.wikidata.org/entity/Q53342'), ('Pname', 'Mike Bryan'), ('countWin', '11')]\n",
      "[('player', 'http://www.wikidata.org/entity/Q229128'), ('Pname', 'Cara Black'), ('countWin', '10')]\n",
      "[('player', 'http://www.wikidata.org/entity/Q54537'), ('Pname', 'Bethanie Mattek-Sands'), ('countWin', '9')]\n",
      "10\n"
     ]
    }
   ],
   "source": [
    "queryString = \"\"\"\n",
    "SELECT DISTINCT ?player ?Pname  (count(*) as ?countWin)\n",
    "WHERE {\n",
    "   ?player wdt:P31 wd:Q5;            #a Human\n",
    "           wdt:P106 wd:Q10833314;    #profession TennisPlayer\n",
    "           wdt:P569 ?bdate.          #birthdate\n",
    "           \n",
    "    ?granSlam wdt:P361 wd:Q102113. #partOf GranSlams\n",
    "    ?tournament wdt:P31 ?granSlam; #a\n",
    "                wdt:P527 ?parts. #hasPart\n",
    "                \n",
    "    ?parts wdt:P1346 ?player. #winner\n",
    "    ?player sc:name ?Pname.\n",
    "    \n",
    "    FILTER(?bdate > \"1975\"^^xsd:gYear)\n",
    "\n",
    "}\n",
    "GROUP BY ?player ?Pname \n",
    "ORDER BY DESC(?countWin)\n",
    "LIMIT 10\n",
    "\"\"\"\n",
    "\n",
    "print(\"Results\")\n",
    "x=run_query(queryString)"
   ]
  },
  {
   "cell_type": "markdown",
   "id": "48668348",
   "metadata": {},
   "source": [
    "Final query for this task"
   ]
  },
  {
   "cell_type": "code",
   "execution_count": 2,
   "id": "1b78485f",
   "metadata": {},
   "outputs": [
    {
     "name": "stdout",
     "output_type": "stream",
     "text": [
      "Results\n",
      "[('player', 'http://www.wikidata.org/entity/Q11459'), ('Pname', 'Serena Williams'), ('countWin', '36')]\n",
      "[('player', 'http://www.wikidata.org/entity/Q134720'), ('Pname', 'Martina Hingis'), ('countWin', '23')]\n",
      "[('player', 'http://www.wikidata.org/entity/Q11578'), ('Pname', 'Venus Williams'), ('countWin', '19')]\n",
      "[('player', 'http://www.wikidata.org/entity/Q10132'), ('Pname', 'Rafael Nadal'), ('countWin', '19')]\n",
      "[('player', 'http://www.wikidata.org/entity/Q5812'), ('Pname', 'Novak Djokovic'), ('countWin', '19')]\n",
      "[('player', 'http://www.wikidata.org/entity/Q1426'), ('Pname', 'Roger Federer'), ('countWin', '17')]\n",
      "[('player', 'http://www.wikidata.org/entity/Q53340'), ('Pname', 'Bob Bryan'), ('countWin', '14')]\n",
      "[('player', 'http://www.wikidata.org/entity/Q53342'), ('Pname', 'Mike Bryan'), ('countWin', '11')]\n",
      "[('player', 'http://www.wikidata.org/entity/Q229128'), ('Pname', 'Cara Black'), ('countWin', '10')]\n",
      "[('player', 'http://www.wikidata.org/entity/Q54537'), ('Pname', 'Bethanie Mattek-Sands'), ('countWin', '9')]\n",
      "10\n"
     ]
    }
   ],
   "source": [
    "# Final query :\n",
    "\n",
    "queryString = \"\"\"\n",
    "SELECT DISTINCT ?player ?Pname  (count(*) as ?countWin)\n",
    "WHERE {\n",
    "   ?player wdt:P31 wd:Q5;            #a Human\n",
    "           wdt:P106 wd:Q10833314;    #profession TennisPlayer\n",
    "           wdt:P569 ?bdate.          #birthdate\n",
    "           \n",
    "    ?granSlam wdt:P361 wd:Q102113. #partOf GranSlams\n",
    "    ?tournament wdt:P31 ?granSlam; #a\n",
    "                wdt:P527 ?parts. #hasPart\n",
    "                \n",
    "    ?parts wdt:P1346 ?player. #winner\n",
    "    ?player sc:name ?Pname.\n",
    "    \n",
    "    FILTER(?bdate > \"1975\"^^xsd:gYear)\n",
    "\n",
    "}\n",
    "GROUP BY ?player ?Pname \n",
    "ORDER BY DESC(?countWin)\n",
    "LIMIT 10\n",
    "\"\"\"\n",
    "\n",
    "print(\"Results\")\n",
    "x=run_query(queryString)"
   ]
  },
  {
   "cell_type": "markdown",
   "id": "53cbd249",
   "metadata": {},
   "source": [
    "## Task 7\n",
    "Consider the country for sport property of the tennis player (NO Country of citizenship). Return the countries with at least one player who won at least one edition of each Grand Slam (the result set must be a list of country IRI and label)."
   ]
  },
  {
   "cell_type": "code",
   "execution_count": 11,
   "id": "4eeb0dfa",
   "metadata": {},
   "outputs": [
    {
     "name": "stdout",
     "output_type": "stream",
     "text": [
      "Results\n",
      "[('p', 'http://www.wikidata.org/prop/direct/P1532'), ('Pname', 'country for sport')]\n",
      "[('p', 'http://www.wikidata.org/prop/direct/P27'), ('Pname', 'country of citizenship')]\n",
      "2\n"
     ]
    }
   ],
   "source": [
    "# Let's find the so called \"country for sport property\" for tennis players\n",
    "\n",
    "queryString = \"\"\"\n",
    "SELECT DISTINCT ?p ?Pname \n",
    "WHERE {\n",
    "   ?player wdt:P31 wd:Q5;            #a Human\n",
    "           wdt:P106 wd:Q10833314;    #profession TennisPlayer\n",
    "           ?p ?obj.\n",
    "           \n",
    "    ?p sc:name ?Pname.\n",
    "    \n",
    "    FILTER(REGEX(?Pname, \"[Cc]ountry\"))\n",
    "\n",
    "}\n",
    "LIMIT 20\n",
    "\"\"\"\n",
    "\n",
    "print(\"Results\")\n",
    "x=run_query(queryString)\n"
   ]
  },
  {
   "cell_type": "code",
   "execution_count": 12,
   "id": "c7c102ce-1c72-4b07-8ed5-bea13d5c7074",
   "metadata": {},
   "outputs": [
    {
     "name": "stdout",
     "output_type": "stream",
     "text": [
      "Results\n",
      "[('country', 'http://www.wikidata.org/entity/Q216923'), ('Cname', 'Chinese Taipei')]\n",
      "[('country', 'http://www.wikidata.org/entity/Q1019'), ('Cname', 'Madagascar')]\n",
      "[('country', 'http://www.wikidata.org/entity/Q129286'), ('Cname', 'British India')]\n",
      "[('country', 'http://www.wikidata.org/entity/Q142'), ('Cname', 'France')]\n",
      "[('country', 'http://www.wikidata.org/entity/Q145'), ('Cname', 'United Kingdom')]\n",
      "[('country', 'http://www.wikidata.org/entity/Q148'), ('Cname', \"People's Republic of China\")]\n",
      "[('country', 'http://www.wikidata.org/entity/Q15180'), ('Cname', 'Soviet Union')]\n",
      "[('country', 'http://www.wikidata.org/entity/Q155'), ('Cname', 'Brazil')]\n",
      "[('country', 'http://www.wikidata.org/entity/Q159'), ('Cname', 'Russia')]\n",
      "[('country', 'http://www.wikidata.org/entity/Q16'), ('Cname', 'Canada')]\n",
      "10\n"
     ]
    }
   ],
   "source": [
    "#[('p', 'http://www.wikidata.org/prop/direct/P1532'), ('Pname', 'country for sport')]\n",
    "#Let's check if it returns well the countries\n",
    "\n",
    "queryString = \"\"\"\n",
    "SELECT DISTINCT ?country ?Cname\n",
    "WHERE {\n",
    "   ?player wdt:P31 wd:Q5;            #a Human\n",
    "           wdt:P106 wd:Q10833314;    #profession TennisPlayer\n",
    "           wdt:P1532 ?country.       #countryForSport\n",
    "           \n",
    "    ?country sc:name ?Cname.\n",
    "}\n",
    "LIMIT 10\n",
    "\"\"\"\n",
    "\n",
    "print(\"Results\")\n",
    "x=run_query(queryString)"
   ]
  },
  {
   "cell_type": "code",
   "execution_count": 13,
   "id": "c5f99623-9cdc-4f54-989d-3380b61932ed",
   "metadata": {},
   "outputs": [
    {
     "name": "stdout",
     "output_type": "stream",
     "text": [
      "Results\n",
      "[('Pname', 'Eileen Bennett Whittingstall'), ('country', 'http://www.wikidata.org/entity/Q145'), ('Cname', 'United Kingdom')]\n",
      "[('Pname', 'Markéta Vondroušová'), ('country', 'http://www.wikidata.org/entity/Q213'), ('Cname', 'Czech Republic')]\n",
      "[('Pname', 'Stan Wawrinka'), ('country', 'http://www.wikidata.org/entity/Q39'), ('Cname', 'Switzerland')]\n",
      "[('Pname', 'Nancy Richey'), ('country', 'http://www.wikidata.org/entity/Q30'), ('Cname', 'United States of America')]\n",
      "[('Pname', 'Borna Ćorić'), ('country', 'http://www.wikidata.org/entity/Q224'), ('Cname', 'Croatia')]\n",
      "[('Pname', 'Agnieszka Radwańska'), ('country', 'http://www.wikidata.org/entity/Q36'), ('Cname', 'Poland')]\n",
      "[('Pname', 'Shirley Brasher'), ('country', 'http://www.wikidata.org/entity/Q145'), ('Cname', 'United Kingdom')]\n",
      "[('Pname', 'Marcelo Melo'), ('country', 'http://www.wikidata.org/entity/Q155'), ('Cname', 'Brazil')]\n",
      "[('Pname', 'Manuel Santana'), ('country', 'http://www.wikidata.org/entity/Q29'), ('Cname', 'Spain')]\n",
      "[('Pname', 'Anders Järryd'), ('country', 'http://www.wikidata.org/entity/Q34'), ('Cname', 'Sweden')]\n",
      "10\n"
     ]
    }
   ],
   "source": [
    "#Let's return players (and countries) who won one slam (not each one)\n",
    "\n",
    "queryString = \"\"\"\n",
    "SELECT DISTINCT ?Pname ?country ?Cname\n",
    "WHERE {\n",
    "   ?player wdt:P31 wd:Q5;            #a Human\n",
    "           wdt:P106 wd:Q10833314;    #profession TennisPlayer\n",
    "           wdt:P1532 ?country.       #countryForSport\n",
    "           \n",
    "           \n",
    "    ?granSlam wdt:P361 wd:Q102113. #partOf GranSlams\n",
    "    ?tournament wdt:P31 ?granSlam; #a\n",
    "                wdt:P527 ?parts. #hasPart\n",
    "                \n",
    "    ?parts wdt:P1346 ?player. #winner\n",
    "    \n",
    "    ?player sc:name ?Pname.\n",
    "    ?country sc:name ?Cname.\n",
    "}\n",
    "LIMIT 10\n",
    "\"\"\"\n",
    "\n",
    "print(\"Results\")\n",
    "x=run_query(queryString)"
   ]
  },
  {
   "cell_type": "code",
   "execution_count": 22,
   "id": "3e5e6744-60e3-4644-b89a-5a4fb30f590d",
   "metadata": {},
   "outputs": [
    {
     "name": "stdout",
     "output_type": "stream",
     "text": [
      "Results\n",
      "[('Pname', 'Eileen Bennett Whittingstall'), ('country', 'http://www.wikidata.org/entity/Q145'), ('Cname', 'United Kingdom')]\n",
      "[('Pname', 'Stan Wawrinka'), ('country', 'http://www.wikidata.org/entity/Q39'), ('Cname', 'Switzerland')]\n",
      "[('Pname', 'Nancy Richey'), ('country', 'http://www.wikidata.org/entity/Q30'), ('Cname', 'United States of America')]\n",
      "[('Pname', 'Agnieszka Radwańska'), ('country', 'http://www.wikidata.org/entity/Q36'), ('Cname', 'Poland')]\n",
      "[('Pname', 'Shirley Brasher'), ('country', 'http://www.wikidata.org/entity/Q145'), ('Cname', 'United Kingdom')]\n",
      "[('Pname', 'Marcelo Melo'), ('country', 'http://www.wikidata.org/entity/Q155'), ('Cname', 'Brazil')]\n",
      "[('Pname', 'Manuel Santana'), ('country', 'http://www.wikidata.org/entity/Q29'), ('Cname', 'Spain')]\n",
      "[('Pname', 'Anders Järryd'), ('country', 'http://www.wikidata.org/entity/Q34'), ('Cname', 'Sweden')]\n",
      "[('Pname', 'Rika Hiraki'), ('country', 'http://www.wikidata.org/entity/Q17'), ('Cname', 'Japan')]\n",
      "[('Pname', 'Victoria Azarenka'), ('country', 'http://www.wikidata.org/entity/Q184'), ('Cname', 'Belarus')]\n",
      "10\n"
     ]
    }
   ],
   "source": [
    "#We have the bgp for each gran slam, my first guess is to make an intersection thanks to the word VALUES by filtering distinct counts = 4\n",
    "#Let's first try to access winners of any subtournament of the French Open\n",
    "\n",
    "queryString = \"\"\"\n",
    "SELECT DISTINCT ?Pname ?country ?Cname\n",
    "WHERE {\n",
    "   \n",
    "   ?player wdt:P31 wd:Q5;            #a Human\n",
    "           wdt:P106 wd:Q10833314;    #profession TennisPlayer\n",
    "           wdt:P1532 ?country.       #countryForSport\n",
    "           \n",
    "    ?yearlyFrenchOpen wdt:P31 wd:Q43605; #instanceOf FrenchOpen\n",
    "                      wdt:P527 ?parts. #hasPart\n",
    "                      \n",
    "    ?parts wdt:P1346 ?player. #winner\n",
    "    \n",
    "    ?player sc:name ?Pname.\n",
    "    ?country sc:name ?Cname.\n",
    "}\n",
    "LIMIT 10\n",
    "\"\"\"\n",
    "\n",
    "print(\"Results\")\n",
    "x=run_query(queryString)"
   ]
  },
  {
   "cell_type": "code",
   "execution_count": 25,
   "id": "a45f635b-f9eb-473c-a58e-4a881783da57",
   "metadata": {},
   "outputs": [
    {
     "name": "stdout",
     "output_type": "stream",
     "text": [
      "Results\n",
      "[('Pname', 'Eileen Bennett Whittingstall'), ('country', 'http://www.wikidata.org/entity/Q145'), ('Cname', 'United Kingdom')]\n",
      "[('Pname', 'Markéta Vondroušová'), ('country', 'http://www.wikidata.org/entity/Q213'), ('Cname', 'Czech Republic')]\n",
      "[('Pname', 'Stan Wawrinka'), ('country', 'http://www.wikidata.org/entity/Q39'), ('Cname', 'Switzerland')]\n",
      "[('Pname', 'Nancy Richey'), ('country', 'http://www.wikidata.org/entity/Q30'), ('Cname', 'United States of America')]\n",
      "[('Pname', 'Borna Ćorić'), ('country', 'http://www.wikidata.org/entity/Q224'), ('Cname', 'Croatia')]\n",
      "[('Pname', 'Agnieszka Radwańska'), ('country', 'http://www.wikidata.org/entity/Q36'), ('Cname', 'Poland')]\n",
      "[('Pname', 'Shirley Brasher'), ('country', 'http://www.wikidata.org/entity/Q145'), ('Cname', 'United Kingdom')]\n",
      "[('Pname', 'Marcelo Melo'), ('country', 'http://www.wikidata.org/entity/Q155'), ('Cname', 'Brazil')]\n",
      "[('Pname', 'Manuel Santana'), ('country', 'http://www.wikidata.org/entity/Q29'), ('Cname', 'Spain')]\n",
      "[('Pname', 'Anders Järryd'), ('country', 'http://www.wikidata.org/entity/Q34'), ('Cname', 'Sweden')]\n",
      "10\n"
     ]
    }
   ],
   "source": [
    "#Let's see if the keyword values work : (note we are doing an union here, not intersection)\n",
    "\n",
    "#[('slam', 'http://www.wikidata.org/entity/Q43605'), ('slamName', 'French Open')]\n",
    "#[('slam', 'http://www.wikidata.org/entity/Q123577'), ('slamName', 'US Open')]\n",
    "#[('slam', 'http://www.wikidata.org/entity/Q41520'), ('slamName', 'Wimbledon Championships')]\n",
    "#[('slam', 'http://www.wikidata.org/entity/Q60874'), ('slamName', 'Australian Open')]\n",
    "\n",
    "\n",
    "queryString = \"\"\"\n",
    "SELECT DISTINCT ?Pname ?country ?Cname\n",
    "WHERE {\n",
    "   \n",
    "   ?player wdt:P31 wd:Q5;            #a Human\n",
    "           wdt:P106 wd:Q10833314;    #profession TennisPlayer\n",
    "           wdt:P1532 ?country.       #countryForSport\n",
    "    \n",
    "    VALUES ?GrandSlam { wd:Q43605 wd:Q123577 wd:Q41520 wd:Q60874 } #FrenchOpen USOpen Wimbledon AustralianOpen\n",
    "\n",
    "    ?yearlyGrandSlam wdt:P31 ?GrandSlam; #instanceOf \n",
    "                      wdt:P527 ?parts. #hasPart\n",
    "                      \n",
    "    ?parts wdt:P1346 ?player. #winner\n",
    "    \n",
    "    ?player sc:name ?Pname.\n",
    "    ?country sc:name ?Cname.\n",
    "}\n",
    "LIMIT 10\n",
    "\"\"\"\n",
    "\n",
    "print(\"Results\")\n",
    "x=run_query(queryString)"
   ]
  },
  {
   "cell_type": "code",
   "execution_count": 33,
   "id": "99ac93ec-e632-4c1b-9f8d-6a44e5468f2f",
   "metadata": {},
   "outputs": [
    {
     "name": "stdout",
     "output_type": "stream",
     "text": [
      "Results\n",
      "[('country', 'http://www.wikidata.org/entity/Q159'), ('Cname', 'Russia')]\n",
      "[('country', 'http://www.wikidata.org/entity/Q148'), ('Cname', \"People's Republic of China\")]\n",
      "[('country', 'http://www.wikidata.org/entity/Q29'), ('Cname', 'Spain')]\n",
      "[('country', 'http://www.wikidata.org/entity/Q183'), ('Cname', 'Germany')]\n",
      "[('country', 'http://www.wikidata.org/entity/Q39'), ('Cname', 'Switzerland')]\n",
      "[('country', 'http://www.wikidata.org/entity/Q31'), ('Cname', 'Belgium')]\n",
      "[('country', 'http://www.wikidata.org/entity/Q142'), ('Cname', 'France')]\n",
      "[('country', 'http://www.wikidata.org/entity/Q668'), ('Cname', 'India')]\n",
      "[('country', 'http://www.wikidata.org/entity/Q38'), ('Cname', 'Italy')]\n",
      "[('country', 'http://www.wikidata.org/entity/Q29999'), ('Cname', 'Kingdom of the Netherlands')]\n",
      "[('country', 'http://www.wikidata.org/entity/Q36'), ('Cname', 'Poland')]\n",
      "[('country', 'http://www.wikidata.org/entity/Q211'), ('Cname', 'Latvia')]\n",
      "[('country', 'http://www.wikidata.org/entity/Q33946'), ('Cname', 'Czechoslovakia')]\n",
      "[('country', 'http://www.wikidata.org/entity/Q216923'), ('Cname', 'Chinese Taipei')]\n",
      "[('country', 'http://www.wikidata.org/entity/Q16'), ('Cname', 'Canada')]\n",
      "[('country', 'http://www.wikidata.org/entity/Q30'), ('Cname', 'United States of America')]\n",
      "[('country', 'http://www.wikidata.org/entity/Q184'), ('Cname', 'Belarus')]\n",
      "[('country', 'http://www.wikidata.org/entity/Q408'), ('Cname', 'Australia')]\n",
      "[('country', 'http://www.wikidata.org/entity/Q34'), ('Cname', 'Sweden')]\n",
      "[('country', 'http://www.wikidata.org/entity/Q155'), ('Cname', 'Brazil')]\n",
      "[('country', 'http://www.wikidata.org/entity/Q403'), ('Cname', 'Serbia')]\n",
      "[('country', 'http://www.wikidata.org/entity/Q40'), ('Cname', 'Austria')]\n",
      "[('country', 'http://www.wikidata.org/entity/Q213'), ('Cname', 'Czech Republic')]\n",
      "[('country', 'http://www.wikidata.org/entity/Q17'), ('Cname', 'Japan')]\n",
      "[('country', 'http://www.wikidata.org/entity/Q224'), ('Cname', 'Croatia')]\n",
      "[('country', 'http://www.wikidata.org/entity/Q145'), ('Cname', 'United Kingdom')]\n",
      "26\n"
     ]
    }
   ],
   "source": [
    "#Let's try now the intersection, by filtering the count of distinct slams found equal to the number of different values : 4\n",
    "\n",
    "queryString = \"\"\"\n",
    "SELECT DISTINCT ?country ?Cname\n",
    "WHERE {\n",
    "   \n",
    "   ?player wdt:P31 wd:Q5;            #a Human\n",
    "           wdt:P106 wd:Q10833314;    #profession TennisPlayer\n",
    "           wdt:P1532 ?country.       #countryForSport\n",
    "    \n",
    "    VALUES ?GrandSlam { wd:Q43605 wd:Q123577 wd:Q41520 wd:Q60874 } #FrenchOpen USOpen Wimbledon AustralianOpen\n",
    "\n",
    "    ?yearlyGrandSlam wdt:P31 ?GrandSlam; #instanceOf \n",
    "                      wdt:P527 ?parts. #hasPart\n",
    "                      \n",
    "    ?parts wdt:P1346 ?player. #winner\n",
    "    \n",
    "    ?player sc:name ?Pname.\n",
    "    ?country sc:name ?Cname.\n",
    "}\n",
    "GROUP BY ?country ?Cname \n",
    "HAVING (COUNT(DISTINCT ?GrandSlam) = 4) \n",
    "LIMIT 50\n",
    "\"\"\"\n",
    "\n",
    "print(\"Results\")\n",
    "x=run_query(queryString)"
   ]
  },
  {
   "cell_type": "markdown",
   "id": "fd543254",
   "metadata": {},
   "source": [
    "Final query for this task"
   ]
  },
  {
   "cell_type": "code",
   "execution_count": 2,
   "id": "d0b02ddc",
   "metadata": {},
   "outputs": [
    {
     "name": "stdout",
     "output_type": "stream",
     "text": [
      "Results\n",
      "[('country', 'http://www.wikidata.org/entity/Q159'), ('Cname', 'Russia')]\n",
      "[('country', 'http://www.wikidata.org/entity/Q148'), ('Cname', \"People's Republic of China\")]\n",
      "[('country', 'http://www.wikidata.org/entity/Q29'), ('Cname', 'Spain')]\n",
      "[('country', 'http://www.wikidata.org/entity/Q183'), ('Cname', 'Germany')]\n",
      "[('country', 'http://www.wikidata.org/entity/Q39'), ('Cname', 'Switzerland')]\n",
      "[('country', 'http://www.wikidata.org/entity/Q31'), ('Cname', 'Belgium')]\n",
      "[('country', 'http://www.wikidata.org/entity/Q142'), ('Cname', 'France')]\n",
      "[('country', 'http://www.wikidata.org/entity/Q668'), ('Cname', 'India')]\n",
      "[('country', 'http://www.wikidata.org/entity/Q38'), ('Cname', 'Italy')]\n",
      "[('country', 'http://www.wikidata.org/entity/Q29999'), ('Cname', 'Kingdom of the Netherlands')]\n",
      "[('country', 'http://www.wikidata.org/entity/Q36'), ('Cname', 'Poland')]\n",
      "[('country', 'http://www.wikidata.org/entity/Q211'), ('Cname', 'Latvia')]\n",
      "[('country', 'http://www.wikidata.org/entity/Q33946'), ('Cname', 'Czechoslovakia')]\n",
      "[('country', 'http://www.wikidata.org/entity/Q216923'), ('Cname', 'Chinese Taipei')]\n",
      "[('country', 'http://www.wikidata.org/entity/Q16'), ('Cname', 'Canada')]\n",
      "[('country', 'http://www.wikidata.org/entity/Q30'), ('Cname', 'United States of America')]\n",
      "[('country', 'http://www.wikidata.org/entity/Q184'), ('Cname', 'Belarus')]\n",
      "[('country', 'http://www.wikidata.org/entity/Q408'), ('Cname', 'Australia')]\n",
      "[('country', 'http://www.wikidata.org/entity/Q34'), ('Cname', 'Sweden')]\n",
      "[('country', 'http://www.wikidata.org/entity/Q155'), ('Cname', 'Brazil')]\n",
      "[('country', 'http://www.wikidata.org/entity/Q403'), ('Cname', 'Serbia')]\n",
      "[('country', 'http://www.wikidata.org/entity/Q40'), ('Cname', 'Austria')]\n",
      "[('country', 'http://www.wikidata.org/entity/Q213'), ('Cname', 'Czech Republic')]\n",
      "[('country', 'http://www.wikidata.org/entity/Q17'), ('Cname', 'Japan')]\n",
      "[('country', 'http://www.wikidata.org/entity/Q224'), ('Cname', 'Croatia')]\n",
      "[('country', 'http://www.wikidata.org/entity/Q145'), ('Cname', 'United Kingdom')]\n",
      "26\n"
     ]
    }
   ],
   "source": [
    "# Final Query\n",
    "\n",
    "queryString = \"\"\"\n",
    "SELECT DISTINCT ?country ?Cname\n",
    "WHERE {\n",
    "   \n",
    "   ?player wdt:P31 wd:Q5;            #a Human\n",
    "           wdt:P106 wd:Q10833314;    #profession TennisPlayer\n",
    "           wdt:P1532 ?country.       #countryForSport\n",
    "    \n",
    "    VALUES ?GrandSlam { wd:Q43605 wd:Q123577 wd:Q41520 wd:Q60874 } #FrenchOpen USOpen Wimbledon AustralianOpen\n",
    "\n",
    "    ?yearlyGrandSlam wdt:P31 ?GrandSlam; #instanceOf \n",
    "                      wdt:P527 ?parts. #hasPart\n",
    "                      \n",
    "    ?parts wdt:P1346 ?player. #winner\n",
    "    \n",
    "    ?player sc:name ?Pname.\n",
    "    ?country sc:name ?Cname.\n",
    "}\n",
    "GROUP BY ?country ?Cname \n",
    "HAVING (COUNT(DISTINCT ?GrandSlam) = 4) \n",
    "LIMIT 50\n",
    "\"\"\"\n",
    "\n",
    "print(\"Results\")\n",
    "x=run_query(queryString)"
   ]
  },
  {
   "cell_type": "markdown",
   "id": "00c4b035",
   "metadata": {},
   "source": [
    "## Task 8\n",
    "Consider the country for sport property of the tennis player (NO Country of citizenship). Return the countries with at least one player who was ranked 1 in the tennis ranking  (the result set must be a list of country IRI and label)."
   ]
  },
  {
   "cell_type": "code",
   "execution_count": 8,
   "id": "9a5861d9",
   "metadata": {},
   "outputs": [
    {
     "name": "stdout",
     "output_type": "stream",
     "text": [
      "Results\n",
      "[('p', 'http://www.wikidata.org/prop/direct/P1006'), ('Pname', 'Nationale Thesaurus voor Auteurs ID')]\n",
      "[('p', 'http://www.wikidata.org/prop/direct/P103'), ('Pname', 'native language')]\n",
      "[('p', 'http://www.wikidata.org/prop/direct/P106'), ('Pname', 'occupation')]\n",
      "[('p', 'http://www.wikidata.org/prop/direct/P108'), ('Pname', 'employer')]\n",
      "[('p', 'http://www.wikidata.org/prop/direct/P1263'), ('Pname', 'NNDB people ID')]\n",
      "[('p', 'http://www.wikidata.org/prop/direct/P1280'), ('Pname', 'CONOR.SI ID')]\n",
      "[('p', 'http://www.wikidata.org/prop/direct/P1284'), ('Pname', 'Munzinger person ID')]\n",
      "[('p', 'http://www.wikidata.org/prop/direct/P1285'), ('Pname', 'Munzinger Sport number')]\n",
      "[('p', 'http://www.wikidata.org/prop/direct/P1296'), ('Pname', 'Gran Enciclopèdia Catalana ID')]\n",
      "[('p', 'http://www.wikidata.org/prop/direct/P1343'), ('Pname', 'described by source')]\n",
      "[('p', 'http://www.wikidata.org/prop/direct/P1344'), ('Pname', 'participant in')]\n",
      "[('p', 'http://www.wikidata.org/prop/direct/P1352'), ('Pname', 'ranking')]\n",
      "[('p', 'http://www.wikidata.org/prop/direct/P140'), ('Pname', 'religion')]\n",
      "[('p', 'http://www.wikidata.org/prop/direct/P1412'), ('Pname', 'languages spoken, written or signed')]\n",
      "[('p', 'http://www.wikidata.org/prop/direct/P1417'), ('Pname', 'Encyclopædia Britannica Online ID')]\n",
      "[('p', 'http://www.wikidata.org/prop/direct/P1447'), ('Pname', 'Sports-Reference.com Olympic athlete ID')]\n",
      "[('p', 'http://www.wikidata.org/prop/direct/P1532'), ('Pname', 'country for sport')]\n",
      "[('p', 'http://www.wikidata.org/prop/direct/P166'), ('Pname', 'award received')]\n",
      "[('p', 'http://www.wikidata.org/prop/direct/P1695'), ('Pname', 'NLP ID (unique)')]\n",
      "[('p', 'http://www.wikidata.org/prop/direct/P1741'), ('Pname', 'GTAA ID')]\n",
      "20\n"
     ]
    }
   ],
   "source": [
    "# We have all bgp required except the \"ranking\" one, let's look for it.\n",
    "# We can start seeing properties related to Roger Federer \n",
    "\n",
    "queryString = \"\"\"\n",
    "SELECT DISTINCT ?p ?Pname \n",
    "WHERE {\n",
    "   wd:Q1426 ?p ?obj . #Federer\n",
    "   ?p sc:name ?Pname.\n",
    "}\n",
    "LIMIT 20\n",
    "\"\"\"\n",
    "\n",
    "print(\"Results\")\n",
    "x=run_query(queryString)"
   ]
  },
  {
   "cell_type": "code",
   "execution_count": 14,
   "id": "62debe4f-6e3e-4dff-ae0d-c3628061ba51",
   "metadata": {},
   "outputs": [
    {
     "name": "stdout",
     "output_type": "stream",
     "text": [
      "Results\n",
      "[('ranking', '1')]\n",
      "[('ranking', '24')]\n",
      "2\n"
     ]
    }
   ],
   "source": [
    "#[('p', 'http://www.wikidata.org/prop/direct/P1352'), ('Pname', 'ranking')]\n",
    "#Let's check its format\n",
    "\n",
    "queryString = \"\"\"\n",
    "SELECT DISTINCT ?ranking\n",
    "WHERE {\n",
    "   wd:Q1426 wdt:P1352 ?ranking. #Federer ranking\n",
    "   }\n",
    "LIMIT 20\n",
    "\"\"\"\n",
    "\n",
    "print(\"Results\")\n",
    "x=run_query(queryString)"
   ]
  },
  {
   "cell_type": "code",
   "execution_count": 15,
   "id": "032f4695-b386-4cda-a04c-7925dc6fc913",
   "metadata": {},
   "outputs": [
    {
     "name": "stdout",
     "output_type": "stream",
     "text": [
      "Results\n",
      "[('ranking', '1')]\n",
      "1\n"
     ]
    }
   ],
   "source": [
    "#So rankings are a list of values, let's see if the filtering players that have been once 1 works (like Federer who has 2 rankings)\n",
    "\n",
    "queryString = \"\"\"\n",
    "SELECT DISTINCT ?ranking\n",
    "WHERE {\n",
    "   wd:Q1426 wdt:P1352 ?ranking. #Federer ranking\n",
    "    FILTER(?ranking = 1 )\n",
    "   }\n",
    "LIMIT 20\n",
    "\"\"\"\n",
    "\n",
    "print(\"Results\")\n",
    "x=run_query(queryString)"
   ]
  },
  {
   "cell_type": "code",
   "execution_count": 3,
   "id": "285cbc37-9868-4ee2-8871-77cbc85604f4",
   "metadata": {},
   "outputs": [
    {
     "name": "stdout",
     "output_type": "stream",
     "text": [
      "Results\n",
      "[('PlayerName', 'Anna Karolína Schmiedlová'), ('ranking', '26')]\n",
      "[('PlayerName', 'Wesley Koolhof'), ('ranking', '5')]\n",
      "[('PlayerName', 'Wesley Koolhof'), ('ranking', '462')]\n",
      "[('PlayerName', 'Rika Fujiwara'), ('ranking', '13')]\n",
      "[('PlayerName', 'Rika Fujiwara'), ('ranking', '84')]\n",
      "[('PlayerName', 'Margarita Gasparyan'), ('ranking', '25')]\n",
      "[('PlayerName', 'Radu Albot'), ('ranking', '56')]\n",
      "[('PlayerName', 'Radu Albot'), ('ranking', '108')]\n",
      "[('PlayerName', 'Markéta Vondroušová'), ('ranking', '14')]\n",
      "[('PlayerName', 'Kim Jones'), ('ranking', '25')]\n",
      "[('PlayerName', 'Sviatlana Pirazhenka'), ('ranking', '371')]\n",
      "[('PlayerName', 'Stan Wawrinka'), ('ranking', '3')]\n",
      "[('PlayerName', 'Stan Wawrinka'), ('ranking', '19')]\n",
      "[('PlayerName', 'Stan Wawrinka'), ('ranking', '88')]\n",
      "[('PlayerName', 'Stan Wawrinka'), ('ranking', '287')]\n",
      "[('PlayerName', 'Sabine Lisicki'), ('ranking', '12')]\n",
      "[('PlayerName', 'Sabine Lisicki'), ('ranking', '35')]\n",
      "[('PlayerName', 'Sabine Lisicki'), ('ranking', '92')]\n",
      "[('PlayerName', 'Roberto Bautista Agut'), ('ranking', '17')]\n",
      "[('PlayerName', 'Roberto Bautista Agut'), ('ranking', '169')]\n",
      "20\n"
     ]
    }
   ],
   "source": [
    "#Now let's see if we can access the rank of all tennis players \n",
    "\n",
    "queryString = \"\"\"\n",
    "SELECT DISTINCT ?PlayerName ?ranking\n",
    "WHERE {\n",
    "   \n",
    "   ?player wdt:P31 wd:Q5;            #a Human\n",
    "           wdt:P106 wd:Q10833314;    #profession TennisPlayer\n",
    "           wdt:P1352 ?ranking.\n",
    "           \n",
    "    ?player sc:name ?PlayerName\n",
    "   }\n",
    "   \n",
    "LIMIT 20\n",
    "\"\"\"\n",
    "\n",
    "print(\"Results\")\n",
    "x=run_query(queryString)"
   ]
  },
  {
   "cell_type": "code",
   "execution_count": 8,
   "id": "78e47796-0d06-496c-baaf-e7a4b4bfd3ff",
   "metadata": {},
   "outputs": [
    {
     "name": "stdout",
     "output_type": "stream",
     "text": [
      "Results\n",
      "[('PlayerName', 'Agnieszka Radwańska'), ('ranking', '1')]\n",
      "[('PlayerName', 'Anders Järryd'), ('ranking', '1')]\n",
      "[('PlayerName', 'Tom Okker'), ('ranking', '1')]\n",
      "[('PlayerName', 'Nenad Zimonjić'), ('ranking', '1')]\n",
      "[('PlayerName', 'Jimmy Connors'), ('ranking', '1')]\n",
      "[('PlayerName', 'Victoria Azarenka'), ('ranking', '1')]\n",
      "[('PlayerName', 'Henri Kontinen'), ('ranking', '1')]\n",
      "[('PlayerName', 'Robert Seguso'), ('ranking', '1')]\n",
      "[('PlayerName', 'Stefan Edberg'), ('ranking', '1')]\n",
      "[('PlayerName', 'Hsieh Su-wei'), ('ranking', '1')]\n",
      "10\n"
     ]
    }
   ],
   "source": [
    "#Let's try now to filter by those who have been 1.\n",
    "\n",
    "queryString = \"\"\"\n",
    "SELECT DISTINCT ?PlayerName ?ranking\n",
    "WHERE {\n",
    "   \n",
    "   ?player wdt:P31 wd:Q5;            #a Human\n",
    "           wdt:P106 wd:Q10833314;    #profession TennisPlayer\n",
    "           wdt:P1352 ?ranking.\n",
    "           \n",
    "    ?player sc:name ?PlayerName.\n",
    "    FILTER(?ranking = 1).\n",
    "   }\n",
    "LIMIT 10\n",
    "\"\"\"\n",
    "\n",
    "print(\"Results\")\n",
    "x=run_query(queryString)"
   ]
  },
  {
   "cell_type": "code",
   "execution_count": 11,
   "id": "5e0b69a0-f447-47fe-990c-d7387357425a",
   "metadata": {},
   "outputs": [
    {
     "name": "stdout",
     "output_type": "stream",
     "text": [
      "Results\n",
      "[('country', 'http://www.wikidata.org/entity/Q216923'), ('countryName', 'Chinese Taipei')]\n",
      "[('country', 'http://www.wikidata.org/entity/Q142'), ('countryName', 'France')]\n",
      "[('country', 'http://www.wikidata.org/entity/Q145'), ('countryName', 'United Kingdom')]\n",
      "[('country', 'http://www.wikidata.org/entity/Q148'), ('countryName', \"People's Republic of China\")]\n",
      "[('country', 'http://www.wikidata.org/entity/Q15180'), ('countryName', 'Soviet Union')]\n",
      "[('country', 'http://www.wikidata.org/entity/Q155'), ('countryName', 'Brazil')]\n",
      "[('country', 'http://www.wikidata.org/entity/Q159'), ('countryName', 'Russia')]\n",
      "[('country', 'http://www.wikidata.org/entity/Q16'), ('countryName', 'Canada')]\n",
      "[('country', 'http://www.wikidata.org/entity/Q17'), ('countryName', 'Japan')]\n",
      "[('country', 'http://www.wikidata.org/entity/Q183'), ('countryName', 'Germany')]\n",
      "[('country', 'http://www.wikidata.org/entity/Q184'), ('countryName', 'Belarus')]\n",
      "[('country', 'http://www.wikidata.org/entity/Q191'), ('countryName', 'Estonia')]\n",
      "[('country', 'http://www.wikidata.org/entity/Q211'), ('countryName', 'Latvia')]\n",
      "[('country', 'http://www.wikidata.org/entity/Q212'), ('countryName', 'Ukraine')]\n",
      "[('country', 'http://www.wikidata.org/entity/Q213'), ('countryName', 'Czech Republic')]\n",
      "[('country', 'http://www.wikidata.org/entity/Q215'), ('countryName', 'Slovenia')]\n",
      "[('country', 'http://www.wikidata.org/entity/Q218'), ('countryName', 'Romania')]\n",
      "[('country', 'http://www.wikidata.org/entity/Q224'), ('countryName', 'Croatia')]\n",
      "[('country', 'http://www.wikidata.org/entity/Q29'), ('countryName', 'Spain')]\n",
      "[('country', 'http://www.wikidata.org/entity/Q29999'), ('countryName', 'Kingdom of the Netherlands')]\n",
      "[('country', 'http://www.wikidata.org/entity/Q30'), ('countryName', 'United States of America')]\n",
      "[('country', 'http://www.wikidata.org/entity/Q31'), ('countryName', 'Belgium')]\n",
      "[('country', 'http://www.wikidata.org/entity/Q33'), ('countryName', 'Finland')]\n",
      "[('country', 'http://www.wikidata.org/entity/Q34'), ('countryName', 'Sweden')]\n",
      "[('country', 'http://www.wikidata.org/entity/Q35'), ('countryName', 'Denmark')]\n",
      "[('country', 'http://www.wikidata.org/entity/Q36'), ('countryName', 'Poland')]\n",
      "[('country', 'http://www.wikidata.org/entity/Q38'), ('countryName', 'Italy')]\n",
      "[('country', 'http://www.wikidata.org/entity/Q39'), ('countryName', 'Switzerland')]\n",
      "[('country', 'http://www.wikidata.org/entity/Q403'), ('countryName', 'Serbia')]\n",
      "[('country', 'http://www.wikidata.org/entity/Q408'), ('countryName', 'Australia')]\n",
      "[('country', 'http://www.wikidata.org/entity/Q668'), ('countryName', 'India')]\n",
      "[('country', 'http://www.wikidata.org/entity/Q739'), ('countryName', 'Colombia')]\n",
      "[('country', 'http://www.wikidata.org/entity/Q83286'), ('countryName', 'Socialist Federal Republic of Yugoslavia')]\n",
      "[('country', 'http://www.wikidata.org/entity/Q33946'), ('countryName', 'Czechoslovakia')]\n",
      "34\n"
     ]
    }
   ],
   "source": [
    "#We can now build the answer in the required format :\n",
    "\n",
    "queryString = \"\"\"\n",
    "SELECT DISTINCT ?country ?countryName\n",
    "WHERE {\n",
    "   \n",
    "   ?player wdt:P31 wd:Q5;            #a Human\n",
    "           wdt:P106 wd:Q10833314;    #profession TennisPlayer\n",
    "           wdt:P1352 ?ranking;       #ranking\n",
    "           wdt:P1532 ?country.       #countryForSport   \n",
    "           \n",
    "    ?country sc:name ?countryName.\n",
    "    FILTER(?ranking = 1).\n",
    "   }\n",
    "   \n",
    "LIMIT 50\n",
    "\"\"\"\n",
    "\n",
    "print(\"Results\")\n",
    "x=run_query(queryString)"
   ]
  },
  {
   "cell_type": "markdown",
   "id": "76ec7f51",
   "metadata": {},
   "source": [
    "Final query for this task"
   ]
  },
  {
   "cell_type": "code",
   "execution_count": 12,
   "id": "c37382de",
   "metadata": {},
   "outputs": [
    {
     "name": "stdout",
     "output_type": "stream",
     "text": [
      "Results\n",
      "[('country', 'http://www.wikidata.org/entity/Q216923'), ('countryName', 'Chinese Taipei')]\n",
      "[('country', 'http://www.wikidata.org/entity/Q142'), ('countryName', 'France')]\n",
      "[('country', 'http://www.wikidata.org/entity/Q145'), ('countryName', 'United Kingdom')]\n",
      "[('country', 'http://www.wikidata.org/entity/Q148'), ('countryName', \"People's Republic of China\")]\n",
      "[('country', 'http://www.wikidata.org/entity/Q15180'), ('countryName', 'Soviet Union')]\n",
      "[('country', 'http://www.wikidata.org/entity/Q155'), ('countryName', 'Brazil')]\n",
      "[('country', 'http://www.wikidata.org/entity/Q159'), ('countryName', 'Russia')]\n",
      "[('country', 'http://www.wikidata.org/entity/Q16'), ('countryName', 'Canada')]\n",
      "[('country', 'http://www.wikidata.org/entity/Q17'), ('countryName', 'Japan')]\n",
      "[('country', 'http://www.wikidata.org/entity/Q183'), ('countryName', 'Germany')]\n",
      "[('country', 'http://www.wikidata.org/entity/Q184'), ('countryName', 'Belarus')]\n",
      "[('country', 'http://www.wikidata.org/entity/Q191'), ('countryName', 'Estonia')]\n",
      "[('country', 'http://www.wikidata.org/entity/Q211'), ('countryName', 'Latvia')]\n",
      "[('country', 'http://www.wikidata.org/entity/Q212'), ('countryName', 'Ukraine')]\n",
      "[('country', 'http://www.wikidata.org/entity/Q213'), ('countryName', 'Czech Republic')]\n",
      "[('country', 'http://www.wikidata.org/entity/Q215'), ('countryName', 'Slovenia')]\n",
      "[('country', 'http://www.wikidata.org/entity/Q218'), ('countryName', 'Romania')]\n",
      "[('country', 'http://www.wikidata.org/entity/Q224'), ('countryName', 'Croatia')]\n",
      "[('country', 'http://www.wikidata.org/entity/Q29'), ('countryName', 'Spain')]\n",
      "[('country', 'http://www.wikidata.org/entity/Q29999'), ('countryName', 'Kingdom of the Netherlands')]\n",
      "[('country', 'http://www.wikidata.org/entity/Q30'), ('countryName', 'United States of America')]\n",
      "[('country', 'http://www.wikidata.org/entity/Q31'), ('countryName', 'Belgium')]\n",
      "[('country', 'http://www.wikidata.org/entity/Q33'), ('countryName', 'Finland')]\n",
      "[('country', 'http://www.wikidata.org/entity/Q34'), ('countryName', 'Sweden')]\n",
      "[('country', 'http://www.wikidata.org/entity/Q35'), ('countryName', 'Denmark')]\n",
      "[('country', 'http://www.wikidata.org/entity/Q36'), ('countryName', 'Poland')]\n",
      "[('country', 'http://www.wikidata.org/entity/Q38'), ('countryName', 'Italy')]\n",
      "[('country', 'http://www.wikidata.org/entity/Q39'), ('countryName', 'Switzerland')]\n",
      "[('country', 'http://www.wikidata.org/entity/Q403'), ('countryName', 'Serbia')]\n",
      "[('country', 'http://www.wikidata.org/entity/Q408'), ('countryName', 'Australia')]\n",
      "[('country', 'http://www.wikidata.org/entity/Q668'), ('countryName', 'India')]\n",
      "[('country', 'http://www.wikidata.org/entity/Q739'), ('countryName', 'Colombia')]\n",
      "[('country', 'http://www.wikidata.org/entity/Q83286'), ('countryName', 'Socialist Federal Republic of Yugoslavia')]\n",
      "[('country', 'http://www.wikidata.org/entity/Q33946'), ('countryName', 'Czechoslovakia')]\n",
      "34\n"
     ]
    }
   ],
   "source": [
    "# Final query\n",
    "\n",
    "queryString = \"\"\"\n",
    "SELECT DISTINCT ?country ?countryName\n",
    "WHERE {\n",
    "   \n",
    "   ?player wdt:P31 wd:Q5;            #a Human\n",
    "           wdt:P106 wd:Q10833314;    #profession TennisPlayer\n",
    "           wdt:P1352 ?ranking;       #ranking\n",
    "           wdt:P1532 ?country.       #countryForSport   \n",
    "           \n",
    "    ?country sc:name ?countryName.\n",
    "    FILTER(?ranking = 1).\n",
    "   }\n",
    "   \n",
    "LIMIT 50\n",
    "\"\"\"\n",
    "\n",
    "print(\"Results\")\n",
    "x=run_query(queryString)"
   ]
  }
 ],
 "metadata": {
  "kernelspec": {
   "display_name": "Python 3 (ipykernel)",
   "language": "python",
   "name": "python3"
  },
  "language_info": {
   "codemirror_mode": {
    "name": "ipython",
    "version": 3
   },
   "file_extension": ".py",
   "mimetype": "text/x-python",
   "name": "python",
   "nbconvert_exporter": "python",
   "pygments_lexer": "ipython3",
   "version": "3.9.16"
  }
 },
 "nbformat": 4,
 "nbformat_minor": 5
}
