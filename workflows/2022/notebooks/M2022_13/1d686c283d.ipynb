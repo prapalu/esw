{
 "cells": [
  {
   "cell_type": "markdown",
   "id": "b8dfcb63",
   "metadata": {},
   "source": [
    "# General instructions\n",
    "\n",
    "The goal of the project is to materialize a set of **exploratory workloads** over a real-world, large-scale,  open-domain KG: [WikiData](https://www.wikidata.org/wiki/Wikidata:Main_Page)\n",
    "\n",
    "An exploratory workload  is composed by a set of queries, where each query is related to the information obtained previously.\n",
    "\n",
    "An exploratory workload starts with a usually vague, open ended question, and does not assume the person issuing the workload has a clear understanding of the data contained in the target database or its structure.\n",
    "\n",
    "Remeber that:\n",
    "\n",
    "1. All the queries must run in the python notebook\n",
    "2. You can use classes and properties only if you find them via a SPARQL query that must be present in the notebook\n",
    "3. You do not delete useless queries. Keep everything that is synthatically valid \n",
    "\n",
    "```\n",
    "?p <http://schema.org/name> ?name .\n",
    "```\n",
    "    \n",
    "    is the BGP returning a human-readable name of a property or a class in Wikidata."
   ]
  },
  {
   "cell_type": "code",
   "execution_count": 1,
   "id": "72f8a7b6",
   "metadata": {},
   "outputs": [],
   "source": [
    "## SETUP used later\n",
    "\n",
    "from SPARQLWrapper import SPARQLWrapper, JSON\n",
    "\n",
    "\n",
    "prefixString = \"\"\"\n",
    "##-1d686c283d-##\n",
    "PREFIX wd: <http://www.wikidata.org/entity/> \n",
    "PREFIX wdt: <http://www.wikidata.org/prop/direct/> \n",
    "PREFIX sc: <http://schema.org/>\n",
    "\"\"\"\n",
    "\n",
    "# select and construct queries\n",
    "def run_query(queryString,verbose = True):\n",
    "    to_run = prefixString + \"\\n\" + queryString\n",
    "\n",
    "    sparql = SPARQLWrapper(\"http://a256-gc1-03.srv.aau.dk:5820/sparql\")\n",
    "    sparql.setTimeout(300)\n",
    "    sparql.setReturnFormat(JSON)\n",
    "    sparql.setQuery(to_run)\n",
    "\n",
    "    try :\n",
    "        results = sparql.query()\n",
    "        json_results = results.convert()\n",
    "        if len(json_results['results']['bindings'])==0:\n",
    "            print(\"Empty\")\n",
    "            return []\n",
    "        array = []\n",
    "        for bindings in json_results['results']['bindings']:\n",
    "            app =  [ (var, value['value'])  for var, value in bindings.items() ] \n",
    "            if verbose:\n",
    "                print( app)\n",
    "            array.append(app)\n",
    "        if verbose:\n",
    "            print(len(array))\n",
    "        return array\n",
    "\n",
    "    except Exception as e :\n",
    "        print(\"The operation failed\", e)\n",
    "    \n",
    "# ASk queries\n",
    "def run_ask_query(queryString):\n",
    "    to_run = prefixString + \"\\n\" + queryString\n",
    "\n",
    "    sparql = SPARQLWrapper(\"http://a256-gc1-03.srv.aau.dk:5820/sparql\")\n",
    "    sparql.setTimeout(300)\n",
    "    sparql.setReturnFormat(JSON)\n",
    "    sparql.setQuery(to_run)\n",
    "\n",
    "    try :\n",
    "        return sparql.query().convert()\n",
    "\n",
    "    except Exception as e :\n",
    "        print(\"The operation failed\", e)"
   ]
  },
  {
   "cell_type": "markdown",
   "id": "34e39742",
   "metadata": {},
   "source": [
    "# Sport Workflow Series (Basketball and NBA seasons explorative search\") \n",
    "\n",
    "Consider the following exploratory information need:\n",
    "\n",
    ">  investigate the world of basketball. Compare french teams and US teams, country of citizenship of NBA players, and teams which won NBA seasons."
   ]
  },
  {
   "cell_type": "markdown",
   "id": "55f96449",
   "metadata": {},
   "source": [
    "## Useful URIs for the current workflow\n",
    "The following are given:\n",
    "\n",
    "| IRI           | Description   | Role      |\n",
    "| -----------   | -----------   |-----------|\n",
    "| `wdt:P1647`   | subproperty   | predicate |\n",
    "| `wdt:P31`     | instance of   | predicate |\n",
    "| `wdt:P106`    | profession    | predicate | \n",
    "| `wdt:P279`    | subclass      | predicate |\n",
    "| `wdt:P27`     | nationality   | predicate |\n",
    "| `wd:Q5`| Human       | node |\n",
    "| `wd:Q41421`| Michael Jordan     | node |\n",
    "| `wd:Q25369`| Kobe Bryant     | node |\n"
   ]
  },
  {
   "cell_type": "markdown",
   "id": "888c3ce0",
   "metadata": {},
   "source": [
    "\n",
    "\n",
    "\n",
    "Also consider\n",
    "\n",
    "```\n",
    "wd:Q41421 ?p ?obj .\n",
    "```\n",
    "\n",
    "is the BGP to retrieve all **properties of Michael Jordan**\n",
    "\n",
    "Please consider that when you return a resource, you should return the IRI and the label of the resource. In particular, when the task require you to identify a BGP the result set must always be a list of couples IRI - label.\n",
    "\n",
    "\n",
    "\n",
    "The workload should:\n",
    "\n",
    "\n",
    "1. Identify the BGP for basketball player.\n",
    "\n",
    "2. Identify the BGP for basketball.\n",
    "\n",
    "3. Identify the BGP for basketball team.\n",
    "\n",
    "4. Return all french basketball teams born before 1930 (the result set must be a list of triples basketball team IRI, label and year of inception).\n",
    "\n",
    "5. Return all the NBA season (the result set must be a list of couples NBA season IRI, label)\n",
    "\n",
    "6. Consider only the basketball teams which Michael Jordan and Kobe Bryant played. Return the number of NBA seasons won by these teams (the result set must be a list of triples basketball team IRI, label and #victories. Return a number for each basketball team even if they never won a season).\n",
    "\n",
    "7. Consider only NBA (National Basketball Association) basketball teams and all basketball players who played in one of these teams at least once. Also consider the country of citizenship of the players with the related continent. Return for each continent the number of players who played in an NBA basketball teams. (the result set must be triples of continent IRI, label and #players)\n",
    "\n",
    "8. Identify the BGP for the NBA Defensive Player of the Year Award (see https://en.wikipedia.org/wiki/NBA_Defensive_Player_of_the_Year_Award)\n",
    "\n",
    "9. Consider the players who won the NBA Defensive Player of the Year Award. Return for these players the number of NBA Defensive Player of the Year Award won in their career (the result set must be triples of player IRI, label and #victories)\n"
   ]
  },
  {
   "cell_type": "markdown",
   "id": "1ba59d96",
   "metadata": {},
   "source": [
    "## Task 1\n",
    "Identify the BGP for basketball player."
   ]
  },
  {
   "cell_type": "code",
   "execution_count": 39,
   "id": "6b6a9795",
   "metadata": {},
   "outputs": [
    {
     "name": "stdout",
     "output_type": "stream",
     "text": [
      "Results\n",
      "[('p', 'http://www.wikidata.org/prop/direct/P1006'), ('name', 'Nationale Thesaurus voor Auteurs ID')]\n",
      "[('p', 'http://www.wikidata.org/prop/direct/P1015'), ('name', 'NORAF ID')]\n",
      "[('p', 'http://www.wikidata.org/prop/direct/P1048'), ('name', 'NCL ID')]\n",
      "[('p', 'http://www.wikidata.org/prop/direct/P106'), ('name', 'occupation')]\n",
      "[('p', 'http://www.wikidata.org/prop/direct/P118'), ('name', 'league')]\n",
      "[('p', 'http://www.wikidata.org/prop/direct/P1207'), ('name', 'NUKAT ID')]\n",
      "[('p', 'http://www.wikidata.org/prop/direct/P1258'), ('name', 'Rotten Tomatoes ID')]\n",
      "[('p', 'http://www.wikidata.org/prop/direct/P1263'), ('name', 'NNDB people ID')]\n",
      "[('p', 'http://www.wikidata.org/prop/direct/P1266'), ('name', 'AlloCiné person ID')]\n",
      "[('p', 'http://www.wikidata.org/prop/direct/P1280'), ('name', 'CONOR.SI ID')]\n",
      "[('p', 'http://www.wikidata.org/prop/direct/P1285'), ('name', 'Munzinger Sport number')]\n",
      "[('p', 'http://www.wikidata.org/prop/direct/P1296'), ('name', 'Gran Enciclopèdia Catalana ID')]\n",
      "[('p', 'http://www.wikidata.org/prop/direct/P1315'), ('name', 'NLA Trove ID')]\n",
      "[('p', 'http://www.wikidata.org/prop/direct/P1343'), ('name', 'described by source')]\n",
      "[('p', 'http://www.wikidata.org/prop/direct/P1344'), ('name', 'participant in')]\n",
      "[('p', 'http://www.wikidata.org/prop/direct/P1368'), ('name', 'LNB ID')]\n",
      "[('p', 'http://www.wikidata.org/prop/direct/P1375'), ('name', 'NSK ID')]\n",
      "[('p', 'http://www.wikidata.org/prop/direct/P1411'), ('name', 'nominated for')]\n",
      "[('p', 'http://www.wikidata.org/prop/direct/P1412'), ('name', 'languages spoken, written or signed')]\n",
      "[('p', 'http://www.wikidata.org/prop/direct/P1417'), ('name', 'Encyclopædia Britannica Online ID')]\n",
      "20\n"
     ]
    }
   ],
   "source": [
    "# query example\n",
    "queryString = \"\"\"\n",
    "SELECT DISTINCT ?p ?name \n",
    "WHERE {\n",
    "   # bind something\n",
    "   wd:Q41421 ?p ?obj .\n",
    "   # get the label\n",
    "   ?p sc:name ?name.\n",
    "}\n",
    "LIMIT 20\n",
    "\"\"\"\n",
    "\n",
    "print(\"Results\")\n",
    "x=run_query(queryString)\n",
    "\n"
   ]
  },
  {
   "cell_type": "code",
   "execution_count": 7,
   "id": "14ab25ee-255c-4f4a-8475-c05ded140835",
   "metadata": {},
   "outputs": [
    {
     "name": "stdout",
     "output_type": "stream",
     "text": [
      "[('name', \"L'Équipe Champion of Champions\"), ('o', 'http://www.wikidata.org/entity/Q1061233')]\n",
      "[('name', 'entrepreneur'), ('o', 'http://www.wikidata.org/entity/Q131524')]\n",
      "[('name', 'WikiProject African diaspora'), ('o', 'http://www.wikidata.org/entity/Q15304953')]\n",
      "[('name', 'Presidential Medal of Freedom'), ('o', 'http://www.wikidata.org/entity/Q17144')]\n",
      "[('name', 'English'), ('o', 'http://www.wikidata.org/entity/Q1860')]\n",
      "[('name', 'autobiographer'), ('o', 'http://www.wikidata.org/entity/Q18814623')]\n",
      "[('name', 'United States of America'), ('o', 'http://www.wikidata.org/entity/Q30')]\n",
      "[('name', 'right-handedness'), ('o', 'http://www.wikidata.org/entity/Q3039938')]\n",
      "[('name', 'actor'), ('o', 'http://www.wikidata.org/entity/Q33999')]\n",
      "[('name', 'basketball player'), ('o', 'http://www.wikidata.org/entity/Q3665646')]\n",
      "[('name', 'African Americans'), ('o', 'http://www.wikidata.org/entity/Q49085')]\n",
      "[('name', 'Michael'), ('o', 'http://www.wikidata.org/entity/Q4927524')]\n",
      "[('name', 'human'), ('o', 'http://www.wikidata.org/entity/Q5')]\n",
      "[('name', 'baseball'), ('o', 'http://www.wikidata.org/entity/Q5369')]\n",
      "[('name', 'basketball'), ('o', 'http://www.wikidata.org/entity/Q5372')]\n",
      "[('name', 'male'), ('o', 'http://www.wikidata.org/entity/Q6581097')]\n",
      "[('name', 'Obalky knih.cz'), ('o', 'http://www.wikidata.org/entity/Q67311526')]\n",
      "[('name', '1992 Summer Olympics'), ('o', 'http://www.wikidata.org/entity/Q8488')]\n",
      "[('name', 'Laureus World Sports Award for Comeback of the Year'), ('o', 'http://www.wikidata.org/entity/Q918534')]\n",
      "[('name', \"NCAA Division I men's basketball\"), ('o', 'http://www.wikidata.org/entity/Q94861615')]\n",
      "20\n"
     ]
    }
   ],
   "source": [
    "queryString = \"\"\"\n",
    "SELECT DISTINCT ?name ?o\n",
    "WHERE {\n",
    "   # bind something\n",
    "   wd:Q41421 ?p ?o .\n",
    "   # get the label\n",
    "   ?o sc:name ?name.\n",
    "}\n",
    "LIMIT 20\n",
    "\"\"\"\n",
    "x=run_query(queryString)"
   ]
  },
  {
   "cell_type": "code",
   "execution_count": 13,
   "id": "4c152871-14f2-499b-a437-d955cc390713",
   "metadata": {},
   "outputs": [
    {
     "name": "stdout",
     "output_type": "stream",
     "text": [
      "[('name', 'entrepreneur'), ('o', 'http://www.wikidata.org/entity/Q131524')]\n",
      "[('name', 'autobiographer'), ('o', 'http://www.wikidata.org/entity/Q18814623')]\n",
      "[('name', 'actor'), ('o', 'http://www.wikidata.org/entity/Q33999')]\n",
      "[('name', 'basketball player'), ('o', 'http://www.wikidata.org/entity/Q3665646')]\n",
      "[('name', 'baseball player'), ('o', 'http://www.wikidata.org/entity/Q10871364')]\n",
      "[('name', 'spokesperson'), ('o', 'http://www.wikidata.org/entity/Q17221')]\n",
      "6\n"
     ]
    }
   ],
   "source": [
    "#query the occupation(s) of Michael Jordan\n",
    "queryString = \"\"\"\n",
    "SELECT DISTINCT ?name ?o\n",
    "WHERE {\n",
    "   # bind something\n",
    "   wd:Q41421 wdt:P106 ?o .\n",
    "   # get the label\n",
    "   ?o sc:name ?name.\n",
    "}\n",
    "LIMIT 20\n",
    "\"\"\"\n",
    "x=run_query(queryString)"
   ]
  },
  {
   "cell_type": "markdown",
   "id": "a46f5562",
   "metadata": {},
   "source": [
    "Final query for this task"
   ]
  },
  {
   "cell_type": "code",
   "execution_count": 3,
   "id": "1b30d861",
   "metadata": {},
   "outputs": [
    {
     "name": "stdout",
     "output_type": "stream",
     "text": [
      "[('name', 'basketball player'), ('o', 'http://www.wikidata.org/entity/Q3665646')]\n",
      "1\n"
     ]
    }
   ],
   "source": [
    "# write your final query\n",
    "#Michael Jordan had more than one occupation, so I asked for the occupation(s) shared by Michael Jordan and Kobe Bryant. Hopefully they only have in common the one I'm interested in\n",
    "queryString = \"\"\"\n",
    "SELECT DISTINCT ?name ?o\n",
    "WHERE {\n",
    "   # bind something\n",
    "   wd:Q25369 wdt:P106 ?o .\n",
    "   wd:Q41421 wdt:P106 ?o .\n",
    "   # get the label\n",
    "   ?o sc:name ?name.\n",
    "}\n",
    "LIMIT 20\n",
    "\"\"\"\n",
    "x=run_query(queryString)"
   ]
  },
  {
   "cell_type": "markdown",
   "id": "4c512e5c",
   "metadata": {},
   "source": [
    "## Task 2\n",
    "Identify the BGP for basketball."
   ]
  },
  {
   "cell_type": "code",
   "execution_count": 9,
   "id": "0a7c0799",
   "metadata": {},
   "outputs": [
    {
     "name": "stdout",
     "output_type": "stream",
     "text": [
      "[('name', '1992 Summer Olympics'), ('o', 'http://www.wikidata.org/entity/Q8488')]\n",
      "[('name', '1992 Tournament of the Americas'), ('o', 'http://www.wikidata.org/entity/Q1985121')]\n",
      "[('name', '1984 Summer Olympics'), ('o', 'http://www.wikidata.org/entity/Q8456')]\n",
      "3\n"
     ]
    }
   ],
   "source": [
    "# write your queries\n",
    "# looking at what the property \"participant\" return us for Michael Jordan\n",
    "queryString = \"\"\"\n",
    "SELECT DISTINCT ?name ?o\n",
    "WHERE {\n",
    "   # bind something\n",
    "   wd:Q41421 wdt:P1344 ?o .\n",
    "   # get the label\n",
    "   ?o sc:name ?name.\n",
    "}\n",
    "LIMIT 20\n",
    "\"\"\"\n",
    "x=run_query(queryString)"
   ]
  },
  {
   "cell_type": "code",
   "execution_count": 7,
   "id": "29fd48fd-df8d-4bd2-9e77-c8d172c1e355",
   "metadata": {},
   "outputs": [
    {
     "name": "stdout",
     "output_type": "stream",
     "text": [
      "[('name', 'basketball player'), ('o', 'http://www.wikidata.org/entity/Q3665646'), ('namep', 'occupation'), ('p', 'http://www.wikidata.org/prop/direct/P106')]\n",
      "[('name', '2009 Mediterranean Games'), ('o', 'http://www.wikidata.org/entity/Q500288'), ('namep', 'participant in'), ('p', 'http://www.wikidata.org/prop/direct/P1344')]\n",
      "[('name', 'Serbian'), ('o', 'http://www.wikidata.org/entity/Q9299'), ('namep', 'languages spoken, written or signed'), ('p', 'http://www.wikidata.org/prop/direct/P1412')]\n",
      "[('name', 'Senta'), ('o', 'http://www.wikidata.org/entity/Q571136'), ('namep', 'place of birth'), ('p', 'http://www.wikidata.org/prop/direct/P19')]\n",
      "[('name', \"women's basketball\"), ('o', 'http://www.wikidata.org/entity/Q2887217'), ('namep', 'competition class'), ('p', 'http://www.wikidata.org/prop/direct/P2094')]\n",
      "[('name', 'female'), ('o', 'http://www.wikidata.org/entity/Q6581072'), ('namep', 'sex or gender'), ('p', 'http://www.wikidata.org/prop/direct/P21')]\n",
      "[('name', 'Serbia'), ('o', 'http://www.wikidata.org/entity/Q403'), ('namep', 'country of citizenship'), ('p', 'http://www.wikidata.org/prop/direct/P27')]\n",
      "[('name', 'basketball player'), ('o', 'http://www.wikidata.org/entity/Q3665646'), ('namep', 'instance of'), ('p', 'http://www.wikidata.org/prop/direct/P31')]\n",
      "[('name', 'human'), ('o', 'http://www.wikidata.org/entity/Q5'), ('namep', 'instance of'), ('p', 'http://www.wikidata.org/prop/direct/P31')]\n",
      "[('name', 'power forward'), ('o', 'http://www.wikidata.org/entity/Q462471'), ('namep', 'position played on team / speciality'), ('p', 'http://www.wikidata.org/prop/direct/P413')]\n",
      "[('name', 'ŽKK Vojvodina'), ('o', 'http://www.wikidata.org/entity/Q3594430'), ('namep', 'member of sports team'), ('p', 'http://www.wikidata.org/prop/direct/P54')]\n",
      "[('name', 'basketball'), ('o', 'http://www.wikidata.org/entity/Q5372'), ('namep', 'sport'), ('p', 'http://www.wikidata.org/prop/direct/P641')]\n",
      "12\n"
     ]
    }
   ],
   "source": [
    "queryString = \"\"\"\n",
    "SELECT DISTINCT ?name ?o ?namep ?p\n",
    "WHERE {\n",
    "   # bind something\n",
    "   ?player wdt:P31 wd:Q3665646 ;\n",
    "        ?p ?o .\n",
    "   # get the label\n",
    "   ?o sc:name ?name .\n",
    "   ?p sc:name ?namep .\n",
    "}\n",
    "LIMIT 20\n",
    "\"\"\"\n",
    "x=run_query(queryString)"
   ]
  },
  {
   "cell_type": "markdown",
   "id": "55c050db",
   "metadata": {},
   "source": [
    "Final query for this task"
   ]
  },
  {
   "cell_type": "code",
   "execution_count": null,
   "id": "a3adf58b-b45e-4e3b-95d3-aee11bfababc",
   "metadata": {
    "jupyter": {
     "source_hidden": true
    },
    "tags": []
   },
   "outputs": [],
   "source": []
  },
  {
   "cell_type": "code",
   "execution_count": 9,
   "id": "3f1fea96",
   "metadata": {},
   "outputs": [
    {
     "name": "stdout",
     "output_type": "stream",
     "text": [
      "[('name', 'basketball'), ('o', 'http://www.wikidata.org/entity/Q5372')]\n",
      "1\n"
     ]
    }
   ],
   "source": [
    "# write your final query\n",
    "queryString = \"\"\"\n",
    "SELECT DISTINCT ?name ?o\n",
    "WHERE {\n",
    "   # bind something\n",
    "   ?player wdt:P31 wd:Q3665646 ;\n",
    "        wdt:P641 ?o .\n",
    "   # get the label\n",
    "   ?o sc:name ?name .\n",
    "}\n",
    "LIMIT 20\n",
    "\"\"\"\n",
    "x=run_query(queryString)"
   ]
  },
  {
   "cell_type": "markdown",
   "id": "fc7f15cd",
   "metadata": {},
   "source": [
    "## Task 3\n",
    "Identify the BGP for basketball team."
   ]
  },
  {
   "cell_type": "code",
   "execution_count": 10,
   "id": "d8b3101a",
   "metadata": {},
   "outputs": [
    {
     "name": "stdout",
     "output_type": "stream",
     "text": [
      "[('name', 'power forward'), ('o', 'http://www.wikidata.org/entity/Q462471')]\n",
      "1\n"
     ]
    }
   ],
   "source": [
    "# write your queries\n",
    "queryString = \"\"\"\n",
    "SELECT DISTINCT ?name ?o\n",
    "WHERE {\n",
    "   # bind something\n",
    "   ?player wdt:P31 wd:Q3665646 ;\n",
    "        wdt:P413 ?o .\n",
    "   # get the label\n",
    "   ?o sc:name ?name .\n",
    "}\n",
    "LIMIT 20\n",
    "\"\"\"\n",
    "x=run_query(queryString)"
   ]
  },
  {
   "cell_type": "code",
   "execution_count": 11,
   "id": "3cf76fdd-9f63-4158-bd86-4ebbcc4acde0",
   "metadata": {},
   "outputs": [
    {
     "name": "stdout",
     "output_type": "stream",
     "text": [
      "[('name', 'Louisville Gardens'), ('o', 'http://www.wikidata.org/entity/Q6689481'), ('namep', 'home venue'), ('p', 'http://www.wikidata.org/prop/direct/P115')]\n",
      "[('name', 'SRC Kale'), ('o', 'http://www.wikidata.org/entity/Q7392801'), ('namep', 'home venue'), ('p', 'http://www.wikidata.org/prop/direct/P115')]\n",
      "[('name', 'Louisville'), ('o', 'http://www.wikidata.org/entity/Q43668'), ('namep', 'headquarters location'), ('p', 'http://www.wikidata.org/prop/direct/P159')]\n",
      "[('name', 'Skopje'), ('o', 'http://www.wikidata.org/entity/Q384'), ('namep', 'headquarters location'), ('p', 'http://www.wikidata.org/prop/direct/P159')]\n",
      "[('name', 'United States of America'), ('o', 'http://www.wikidata.org/entity/Q30'), ('namep', 'country'), ('p', 'http://www.wikidata.org/prop/direct/P17')]\n",
      "[('name', 'North Macedonia'), ('o', 'http://www.wikidata.org/entity/Q221'), ('namep', 'country'), ('p', 'http://www.wikidata.org/prop/direct/P17')]\n",
      "[('name', 'Kentucky Colonels'), ('o', 'http://www.wikidata.org/entity/Q1739074'), ('namep', 'different from'), ('p', 'http://www.wikidata.org/prop/direct/P1889')]\n",
      "[('name', 'A Kentucky Colonel'), ('o', 'http://www.wikidata.org/entity/Q106159002'), ('namep', 'different from'), ('p', 'http://www.wikidata.org/prop/direct/P1889')]\n",
      "[('name', 'Kentucky Colonel'), ('o', 'http://www.wikidata.org/entity/Q632482'), ('namep', 'different from'), ('p', 'http://www.wikidata.org/prop/direct/P1889')]\n",
      "[('name', 'Kentucky Colonelcy'), ('o', 'http://www.wikidata.org/entity/Q105753951'), ('namep', 'different from'), ('p', 'http://www.wikidata.org/prop/direct/P1889')]\n",
      "[('name', 'The Kentucky Colonel'), ('o', 'http://www.wikidata.org/entity/Q3987794'), ('namep', 'different from'), ('p', 'http://www.wikidata.org/prop/direct/P1889')]\n",
      "[('name', 'Honorable Order of Kentucky Colonels'), ('o', 'http://www.wikidata.org/entity/Q105821444'), ('namep', 'different from'), ('p', 'http://www.wikidata.org/prop/direct/P1889')]\n",
      "[('name', 'Kentucky Colonels'), ('o', 'http://www.wikidata.org/entity/Q6392200'), ('namep', 'different from'), ('p', 'http://www.wikidata.org/prop/direct/P1889')]\n",
      "[('name', 'Kentucky Colonels'), ('o', 'http://www.wikidata.org/entity/Q1452779'), ('namep', 'different from'), ('p', 'http://www.wikidata.org/prop/direct/P1889')]\n",
      "[('name', 'basketball'), ('o', 'http://www.wikidata.org/entity/Q5372'), ('namep', 'subclass of'), ('p', 'http://www.wikidata.org/prop/direct/P279')]\n",
      "[('name', 'basketball'), ('o', 'http://www.wikidata.org/entity/Q5372'), ('namep', 'instance of'), ('p', 'http://www.wikidata.org/prop/direct/P31')]\n",
      "[('name', 'basketball team'), ('o', 'http://www.wikidata.org/entity/Q13393265'), ('namep', 'instance of'), ('p', 'http://www.wikidata.org/prop/direct/P31')]\n",
      "[('name', 'basketball'), ('o', 'http://www.wikidata.org/entity/Q5372'), ('namep', 'sport'), ('p', 'http://www.wikidata.org/prop/direct/P641')]\n",
      "[('name', 'Category:Kentucky Colonels'), ('o', 'http://www.wikidata.org/entity/Q7784056'), ('namep', \"topic's main category\"), ('p', 'http://www.wikidata.org/prop/direct/P910')]\n",
      "19\n"
     ]
    }
   ],
   "source": [
    "queryString = \"\"\"\n",
    "SELECT DISTINCT ?name ?o ?namep ?p\n",
    "WHERE {\n",
    "   # bind something\n",
    "   ?sport wdt:P31 wd:Q5372 ;\n",
    "        ?p ?o .\n",
    "   # get the label\n",
    "   ?o sc:name ?name .\n",
    "   ?p sc:name ?namep .\n",
    "}\n",
    "LIMIT 20\n",
    "\"\"\"\n",
    "x=run_query(queryString)"
   ]
  },
  {
   "cell_type": "markdown",
   "id": "19636c22",
   "metadata": {},
   "source": [
    "Final query for this task"
   ]
  },
  {
   "cell_type": "code",
   "execution_count": 18,
   "id": "b9e16a84",
   "metadata": {},
   "outputs": [
    {
     "name": "stdout",
     "output_type": "stream",
     "text": [
      "[('name', 'basketball'), ('o', 'http://www.wikidata.org/entity/Q5372')]\n",
      "[('name', 'basketball team'), ('o', 'http://www.wikidata.org/entity/Q13393265')]\n",
      "2\n"
     ]
    }
   ],
   "source": [
    "# write your final query\n",
    "queryString = \"\"\"\n",
    "SELECT DISTINCT ?name ?o\n",
    "WHERE {\n",
    "   # bind something\n",
    "   ?sport wdt:P31 wd:Q5372 ;\n",
    "        wdt:P31 ?o .\n",
    "   # get the label\n",
    "   ?o sc:name ?name .\n",
    "}\n",
    "LIMIT 20\n",
    "\"\"\"\n",
    "x=run_query(queryString)"
   ]
  },
  {
   "cell_type": "markdown",
   "id": "ec3f4e9a",
   "metadata": {},
   "source": [
    "## Task 4\n",
    "Return all french basketball teams born before 1930 (the result set must be a list of triples basketball team IRI, label and year of inception)."
   ]
  },
  {
   "cell_type": "code",
   "execution_count": 8,
   "id": "2fd13f34",
   "metadata": {},
   "outputs": [
    {
     "name": "stdout",
     "output_type": "stream",
     "text": [
      "[('nationality', 'http://www.wikidata.org/entity/Q148'), ('name', \"People's Republic of China\")]\n",
      "1\n"
     ]
    }
   ],
   "source": [
    "# write your queries\n",
    "#get all the nationality of the teams, only one result, maybe it's not what we are looking for\n",
    "queryString = \"\"\"\n",
    "SELECT DISTINCT ?nationality ?name\n",
    "WHERE {\n",
    "   # bind something\n",
    "    ?s wdt:P31 wd:Q13393265 ;\n",
    "     wdt:P27 ?nationality .\n",
    "    ?nationality sc:name ?name .\n",
    "}\n",
    "LIMIT 20\n",
    "\"\"\"\n",
    "x=run_query(queryString)"
   ]
  },
  {
   "cell_type": "code",
   "execution_count": 10,
   "id": "5ccf3fcf-28a3-4e37-9e65-8c352b361999",
   "metadata": {},
   "outputs": [
    {
     "name": "stdout",
     "output_type": "stream",
     "text": [
      "Results\n",
      "[('p', 'http://www.wikidata.org/prop/direct/P4003'), ('name', 'Facebook page ID')]\n",
      "[('p', 'http://www.wikidata.org/prop/direct/P1268'), ('name', 'represents')]\n",
      "[('p', 'http://www.wikidata.org/prop/direct/P4507'), ('name', 'California Sports Hall of Fame athlete ID')]\n",
      "[('p', 'http://www.wikidata.org/prop/direct/P6518'), ('name', 'Business Registry code (Estonia)')]\n",
      "[('p', 'http://www.wikidata.org/prop/direct/P9321'), ('name', 'Inforegister ID')]\n",
      "[('p', 'http://www.wikidata.org/prop/direct/P115'), ('name', 'home venue')]\n",
      "[('p', 'http://www.wikidata.org/prop/direct/P118'), ('name', 'league')]\n",
      "[('p', 'http://www.wikidata.org/prop/direct/P127'), ('name', 'owned by')]\n",
      "[('p', 'http://www.wikidata.org/prop/direct/P131'), ('name', 'located in the administrative territorial entity')]\n",
      "[('p', 'http://www.wikidata.org/prop/direct/P1320'), ('name', 'OpenCorporates ID')]\n",
      "[('p', 'http://www.wikidata.org/prop/direct/P1344'), ('name', 'participant in')]\n",
      "[('p', 'http://www.wikidata.org/prop/direct/P138'), ('name', 'named after')]\n",
      "[('p', 'http://www.wikidata.org/prop/direct/P1416'), ('name', 'affiliation')]\n",
      "[('p', 'http://www.wikidata.org/prop/direct/P1417'), ('name', 'Encyclopædia Britannica Online ID')]\n",
      "[('p', 'http://www.wikidata.org/prop/direct/P1424'), ('name', \"topic's main template\")]\n",
      "[('p', 'http://www.wikidata.org/prop/direct/P1449'), ('name', 'nickname')]\n",
      "[('p', 'http://www.wikidata.org/prop/direct/P1454'), ('name', 'legal form')]\n",
      "[('p', 'http://www.wikidata.org/prop/direct/P154'), ('name', 'logo image')]\n",
      "[('p', 'http://www.wikidata.org/prop/direct/P159'), ('name', 'headquarters location')]\n",
      "[('p', 'http://www.wikidata.org/prop/direct/P17'), ('name', 'country')]\n",
      "[('p', 'http://www.wikidata.org/prop/direct/P18'), ('name', 'image')]\n",
      "[('p', 'http://www.wikidata.org/prop/direct/P1807'), ('name', 'Great Aragonese Encyclopedia ID')]\n",
      "[('p', 'http://www.wikidata.org/prop/direct/P2002'), ('name', 'Twitter username')]\n",
      "[('p', 'http://www.wikidata.org/prop/direct/P2003'), ('name', 'Instagram username')]\n",
      "[('p', 'http://www.wikidata.org/prop/direct/P2013'), ('name', 'Facebook ID')]\n",
      "[('p', 'http://www.wikidata.org/prop/direct/P2094'), ('name', 'competition class')]\n",
      "[('p', 'http://www.wikidata.org/prop/direct/P214'), ('name', 'VIAF ID')]\n",
      "[('p', 'http://www.wikidata.org/prop/direct/P2163'), ('name', 'FAST ID')]\n",
      "[('p', 'http://www.wikidata.org/prop/direct/P2354'), ('name', 'has list')]\n",
      "[('p', 'http://www.wikidata.org/prop/direct/P2397'), ('name', 'YouTube channel ID')]\n",
      "[('p', 'http://www.wikidata.org/prop/direct/P244'), ('name', 'Library of Congress authority ID')]\n",
      "[('p', 'http://www.wikidata.org/prop/direct/P2581'), ('name', 'BabelNet ID')]\n",
      "[('p', 'http://www.wikidata.org/prop/direct/P2671'), ('name', 'Google Knowledge Graph ID')]\n",
      "[('p', 'http://www.wikidata.org/prop/direct/P276'), ('name', 'location')]\n",
      "[('p', 'http://www.wikidata.org/prop/direct/P281'), ('name', 'postal code')]\n",
      "[('p', 'http://www.wikidata.org/prop/direct/P2847'), ('name', 'Google+ ID')]\n",
      "[('p', 'http://www.wikidata.org/prop/direct/P286'), ('name', 'head coach')]\n",
      "[('p', 'http://www.wikidata.org/prop/direct/P2888'), ('name', 'exact match')]\n",
      "[('p', 'http://www.wikidata.org/prop/direct/P31'), ('name', 'instance of')]\n",
      "[('p', 'http://www.wikidata.org/prop/direct/P3185'), ('name', 'VK ID')]\n",
      "[('p', 'http://www.wikidata.org/prop/direct/P3225'), ('name', 'Corporate Number (Japan)')]\n",
      "[('p', 'http://www.wikidata.org/prop/direct/P3430'), ('name', 'SNAC ARK ID')]\n",
      "[('p', 'http://www.wikidata.org/prop/direct/P3608'), ('name', 'EU VAT number')]\n",
      "[('p', 'http://www.wikidata.org/prop/direct/P361'), ('name', 'part of')]\n",
      "[('p', 'http://www.wikidata.org/prop/direct/P373'), ('name', 'Commons category')]\n",
      "[('p', 'http://www.wikidata.org/prop/direct/P3847'), ('name', 'Open Library subject ID')]\n",
      "[('p', 'http://www.wikidata.org/prop/direct/P462'), ('name', 'color')]\n",
      "[('p', 'http://www.wikidata.org/prop/direct/P463'), ('name', 'member of')]\n",
      "[('p', 'http://www.wikidata.org/prop/direct/P488'), ('name', 'chairperson')]\n",
      "[('p', 'http://www.wikidata.org/prop/direct/P5337'), ('name', 'Google News topics ID')]\n",
      "[('p', 'http://www.wikidata.org/prop/direct/P571'), ('name', 'inception')]\n",
      "[('p', 'http://www.wikidata.org/prop/direct/P576'), ('name', 'dissolved, abolished or demolished date')]\n",
      "[('p', 'http://www.wikidata.org/prop/direct/P6112'), ('name', 'category for members of a team')]\n",
      "[('p', 'http://www.wikidata.org/prop/direct/P6364'), ('name', 'official color(s)')]\n",
      "[('p', 'http://www.wikidata.org/prop/direct/P641'), ('name', 'sport')]\n",
      "[('p', 'http://www.wikidata.org/prop/direct/P646'), ('name', 'Freebase ID')]\n",
      "[('p', 'http://www.wikidata.org/prop/direct/P740'), ('name', 'location of formation')]\n",
      "[('p', 'http://www.wikidata.org/prop/direct/P7502'), ('name', 'Golden ID')]\n",
      "[('p', 'http://www.wikidata.org/prop/direct/P7859'), ('name', 'WorldCat Identities ID')]\n",
      "[('p', 'http://www.wikidata.org/prop/direct/P831'), ('name', 'parent club')]\n",
      "60\n"
     ]
    }
   ],
   "source": [
    "#we are taking a look to the properties of \"basketball team\" and we find one that interest us : country.\n",
    "#we extend the filter to find also the inception property\n",
    "#we also obtained the \n",
    "queryString = \"\"\"\n",
    "SELECT DISTINCT ?p ?name\n",
    "WHERE {\n",
    "   # bind something\n",
    "   ?s wdt:P31 wd:Q13393265 ;\n",
    "        ?p ?obj .\n",
    "   # get the label\n",
    "   ?p sc:name ?name.\n",
    "}\n",
    "LIMIT 60\n",
    "\"\"\"\n",
    "\n",
    "print(\"Results\")\n",
    "x=run_query(queryString)\n"
   ]
  },
  {
   "cell_type": "code",
   "execution_count": 6,
   "id": "19fe61e9-dd70-43cf-885d-9cadacf409ac",
   "metadata": {},
   "outputs": [
    {
     "name": "stdout",
     "output_type": "stream",
     "text": [
      "Results\n",
      "[('o', 'http://www.wikidata.org/entity/Q786'), ('name', 'Dominican Republic')]\n",
      "[('o', 'http://www.wikidata.org/entity/Q1028'), ('name', 'Morocco')]\n",
      "[('o', 'http://www.wikidata.org/entity/Q1029'), ('name', 'Mozambique')]\n",
      "[('o', 'http://www.wikidata.org/entity/Q1037'), ('name', 'Rwanda')]\n",
      "[('o', 'http://www.wikidata.org/entity/Q1246'), ('name', 'Kosovo')]\n",
      "[('o', 'http://www.wikidata.org/entity/Q142'), ('name', 'France')]\n",
      "[('o', 'http://www.wikidata.org/entity/Q145'), ('name', 'United Kingdom')]\n",
      "[('o', 'http://www.wikidata.org/entity/Q148'), ('name', \"People's Republic of China\")]\n",
      "[('o', 'http://www.wikidata.org/entity/Q155'), ('name', 'Brazil')]\n",
      "[('o', 'http://www.wikidata.org/entity/Q159'), ('name', 'Russia')]\n",
      "[('o', 'http://www.wikidata.org/entity/Q16'), ('name', 'Canada')]\n",
      "[('o', 'http://www.wikidata.org/entity/Q17'), ('name', 'Japan')]\n",
      "[('o', 'http://www.wikidata.org/entity/Q183'), ('name', 'Germany')]\n",
      "[('o', 'http://www.wikidata.org/entity/Q184'), ('name', 'Belarus')]\n",
      "[('o', 'http://www.wikidata.org/entity/Q189'), ('name', 'Iceland')]\n",
      "[('o', 'http://www.wikidata.org/entity/Q191'), ('name', 'Estonia')]\n",
      "[('o', 'http://www.wikidata.org/entity/Q20'), ('name', 'Norway')]\n",
      "[('o', 'http://www.wikidata.org/entity/Q211'), ('name', 'Latvia')]\n",
      "[('o', 'http://www.wikidata.org/entity/Q212'), ('name', 'Ukraine')]\n",
      "[('o', 'http://www.wikidata.org/entity/Q213'), ('name', 'Czech Republic')]\n",
      "20\n"
     ]
    }
   ],
   "source": [
    "#We are now looking for the IRI of France \n",
    "queryString = \"\"\"\n",
    "SELECT DISTINCT ?o ?name\n",
    "WHERE {\n",
    "   # bind something\n",
    "   ?s wdt:P31 wd:Q13393265 ;\n",
    "        wdt:P17 ?o .\n",
    "   # get the label\n",
    "   ?o sc:name ?name.\n",
    "}\n",
    "LIMIT 20\n",
    "\"\"\"\n",
    "\n",
    "print(\"Results\")\n",
    "x=run_query(queryString)"
   ]
  },
  {
   "cell_type": "markdown",
   "id": "bf96342b",
   "metadata": {},
   "source": [
    "Final query for this task"
   ]
  },
  {
   "cell_type": "code",
   "execution_count": 4,
   "id": "59bb072c",
   "metadata": {},
   "outputs": [
    {
     "name": "stdout",
     "output_type": "stream",
     "text": [
      "Results\n",
      "[('team', 'http://www.wikidata.org/entity/Q1682230'), ('name', 'JDA Dijon Basket'), ('dateOfInception', '1880-01-01T00:00:00Z')]\n",
      "[('team', 'http://www.wikidata.org/entity/Q3496108'), ('name', 'Stade Français'), ('dateOfInception', '1883-01-01T00:00:00Z')]\n",
      "[('team', 'http://www.wikidata.org/entity/Q3134233'), ('name', 'Hermine de Nantes Atlantique'), ('dateOfInception', '1891-01-01T00:00:00Z')]\n",
      "[('team', 'http://www.wikidata.org/entity/Q1630255'), ('name', 'SPO Rouen Basket'), ('dateOfInception', '1892-01-01T00:00:00Z')]\n",
      "[('team', 'http://www.wikidata.org/entity/Q2892731'), ('name', 'Paris Université Club'), ('dateOfInception', '1906-01-01T00:00:00Z')]\n",
      "[('team', 'http://www.wikidata.org/entity/Q2955800'), ('name', 'Championnet Sports'), ('dateOfInception', '1907-01-01T00:00:00Z')]\n",
      "[('team', 'http://www.wikidata.org/entity/Q783067'), ('name', 'Alsace de Bagnolet'), ('dateOfInception', '1908-01-01T00:00:00Z')]\n",
      "[('team', 'http://www.wikidata.org/entity/Q1630650'), ('name', 'JL Bourg-en-Bresse'), ('dateOfInception', '1910-01-01T00:00:00Z')]\n",
      "[('team', 'http://www.wikidata.org/entity/Q3076509'), ('name', 'FC Grenoble'), ('dateOfInception', '1911-01-01T00:00:00Z')]\n",
      "[('team', 'http://www.wikidata.org/entity/Q3459221'), ('name', 'Stade Auto Lyon'), ('dateOfInception', '1916-01-01T00:00:00Z')]\n",
      "[('team', 'http://www.wikidata.org/entity/Q2930983'), ('name', 'CAUFA Reims'), ('dateOfInception', '1919-01-01T00:00:00Z')]\n",
      "[('team', 'http://www.wikidata.org/entity/Q3592481'), ('name', 'Étoile de Charleville-Mézières'), ('dateOfInception', '1921-01-01T00:00:00Z')]\n",
      "[('team', 'http://www.wikidata.org/entity/Q1415460'), ('name', 'Clermont UC'), ('dateOfInception', '1921-01-01T00:00:00Z')]\n",
      "[('team', 'http://www.wikidata.org/entity/Q2887216'), ('name', 'BC Orchies'), ('dateOfInception', '1922-01-01T00:00:00Z')]\n",
      "[('team', 'http://www.wikidata.org/entity/Q638938'), ('name', 'Paris Basket Racing'), ('dateOfInception', '1922-01-01T00:00:00Z')]\n",
      "[('team', 'http://www.wikidata.org/entity/Q3550518'), ('name', 'Union Sportive Valenciennes Olympic'), ('dateOfInception', '1923-01-01T00:00:00Z')]\n",
      "[('team', 'http://www.wikidata.org/entity/Q404421'), ('name', 'STB Le Havre'), ('dateOfInception', '1924-01-01T00:00:00Z')]\n",
      "[('team', 'http://www.wikidata.org/entity/Q2868091'), ('name', 'AS Monaco Basket'), ('dateOfInception', '1924-01-01T00:00:00Z')]\n",
      "[('team', 'http://www.wikidata.org/entity/Q3351710'), ('name', 'Olympique Lille Basket'), ('dateOfInception', '1924-01-01T00:00:00Z')]\n",
      "[('team', 'http://www.wikidata.org/entity/Q2868120'), ('name', 'Union Tours Basket Métropole'), ('dateOfInception', '1925-01-01T00:00:00Z')]\n",
      "[('team', 'http://www.wikidata.org/entity/Q2931972'), ('name', 'Basket CRO Lyon'), ('dateOfInception', '1927-01-01T00:00:00Z')]\n",
      "[('team', 'http://www.wikidata.org/entity/Q1630671'), ('name', 'Nanterre 92'), ('dateOfInception', '1927-01-01T00:00:00Z')]\n",
      "[('team', 'http://www.wikidata.org/entity/Q2737338'), ('name', 'SIG Basket'), ('dateOfInception', '1928-01-01T00:00:00Z')]\n",
      "[('team', 'http://www.wikidata.org/entity/Q3547512'), ('name', 'US Métro'), ('dateOfInception', '1928-01-01T00:00:00Z')]\n",
      "[('team', 'http://www.wikidata.org/entity/Q1419876'), ('name', 'Limoges CSP'), ('dateOfInception', '1929-01-01T00:00:00Z')]\n",
      "[('team', 'http://www.wikidata.org/entity/Q303321'), ('name', 'Berck BC'), ('dateOfInception', '1929-01-01T00:00:00Z')]\n",
      "26\n"
     ]
    }
   ],
   "source": [
    "# write your final query\n",
    "queryString = \"\"\"\n",
    "SELECT DISTINCT ?team ?name ?dateOfInception\n",
    "WHERE {\n",
    "   ?team wdt:P31 wd:Q13393265 ;        #?team a basketball team\n",
    "        wdt:P17 wd:Q142;               #from France\n",
    "        wdt:P571 ?dateOfInception;     \n",
    "        sc:name ?name .\n",
    "    FILTER (?dateOfInception < \"1930\"^^xsd:gYear) .\n",
    "}\n",
    "LIMIT 100\n",
    "\"\"\"\n",
    "\n",
    "print(\"Results\")\n",
    "x=run_query(queryString)\n"
   ]
  },
  {
   "cell_type": "markdown",
   "id": "abbd1a23",
   "metadata": {},
   "source": [
    "## Task 5\n",
    "Return all the NBA season (the result set must be a list of couples NBA season IRI, label)"
   ]
  },
  {
   "cell_type": "code",
   "execution_count": 8,
   "id": "609530d4",
   "metadata": {},
   "outputs": [
    {
     "name": "stdout",
     "output_type": "stream",
     "text": [
      "Results\n",
      "[('o', 'http://www.wikidata.org/entity/Q204348'), ('name', 'Continental Basketball Association')]\n",
      "[('o', 'http://www.wikidata.org/entity/Q1125149'), ('name', 'Conference USA')]\n",
      "[('o', 'http://www.wikidata.org/entity/Q963227'), ('name', 'Southeastern Conference')]\n",
      "[('o', 'http://www.wikidata.org/entity/Q2593221'), ('name', \"Women's National Basketball Association\")]\n",
      "[('o', 'http://www.wikidata.org/entity/Q7312525'), ('name', 'American Athletic Conference')]\n",
      "[('o', 'http://www.wikidata.org/entity/Q859280'), ('name', 'Big Sky Conference')]\n",
      "[('o', 'http://www.wikidata.org/entity/Q94861615'), ('name', \"NCAA Division I men's basketball\")]\n",
      "[('o', 'http://www.wikidata.org/entity/Q842793'), ('name', 'NBA G League')]\n",
      "[('o', 'http://www.wikidata.org/entity/Q7820700'), ('name', 'Big East Conference')]\n",
      "[('o', 'http://www.wikidata.org/entity/Q858430'), ('name', 'Big 12 Conference')]\n",
      "[('o', 'http://www.wikidata.org/entity/Q729478'), ('name', 'Big Ten Conference')]\n",
      "[('o', 'http://www.wikidata.org/entity/Q1536131'), ('name', 'Sun Belt Conference')]\n",
      "[('o', 'http://www.wikidata.org/entity/Q384864'), ('name', 'United States Basketball League')]\n",
      "[('o', 'http://www.wikidata.org/entity/Q463481'), ('name', 'American Basketball Association')]\n",
      "[('o', 'http://www.wikidata.org/entity/Q1536057'), ('name', 'Missouri Valley Conference')]\n",
      "[('o', 'http://www.wikidata.org/entity/Q941898'), ('name', 'Southern Conference')]\n",
      "[('o', 'http://www.wikidata.org/entity/Q1373755'), ('name', 'Mid-American Conference')]\n",
      "[('o', 'http://www.wikidata.org/entity/Q1325744'), ('name', 'Metro Atlantic Athletic Conference')]\n",
      "[('o', 'http://www.wikidata.org/entity/Q756355'), ('name', 'Atlantic Coast Conference')]\n",
      "[('o', 'http://www.wikidata.org/entity/Q204186'), ('name', 'West Coast Conference')]\n",
      "[('o', 'http://www.wikidata.org/entity/Q128471'), ('name', 'Pac-12 Conference')]\n",
      "[('o', 'http://www.wikidata.org/entity/Q155223'), ('name', 'National Basketball Association')]\n",
      "[('o', 'http://www.wikidata.org/entity/Q1429493'), ('name', 'National Basketball League')]\n",
      "[('o', 'http://www.wikidata.org/entity/Q724525'), ('name', 'Colonial Athletic Association')]\n",
      "[('o', 'http://www.wikidata.org/entity/Q463524'), ('name', 'American Basketball League')]\n",
      "[('o', 'http://www.wikidata.org/entity/Q1546274'), ('name', 'Patriot League')]\n",
      "[('o', 'http://www.wikidata.org/entity/Q810343'), ('name', 'Basketball Association of America')]\n",
      "[('o', 'http://www.wikidata.org/entity/Q49113'), ('name', 'Ivy League')]\n",
      "[('o', 'http://www.wikidata.org/entity/Q32472'), ('name', 'Atlantic 10 Conference')]\n",
      "[('o', 'http://www.wikidata.org/entity/Q463486'), ('name', 'American Basketball Association')]\n",
      "[('o', 'http://www.wikidata.org/entity/Q941010'), ('name', 'Mid-Eastern Athletic Conference')]\n",
      "[('o', 'http://www.wikidata.org/entity/Q39047955'), ('name', 'The Basketball League')]\n",
      "[('o', 'http://www.wikidata.org/entity/Q1400411'), ('name', 'Summit League')]\n",
      "[('o', 'http://www.wikidata.org/entity/Q859500'), ('name', 'Big West Conference')]\n",
      "[('o', 'http://www.wikidata.org/entity/Q1786588'), ('name', 'Mountain West Conference')]\n",
      "[('o', 'http://www.wikidata.org/entity/Q945871'), ('name', 'Horizon League')]\n",
      "[('o', 'http://www.wikidata.org/entity/Q426958'), ('name', 'Big South Conference')]\n",
      "[('o', 'http://www.wikidata.org/entity/Q463118'), ('name', 'America East Conference')]\n",
      "[('o', 'http://www.wikidata.org/entity/Q2000938'), ('name', 'Northeast Conference')]\n",
      "[('o', 'http://www.wikidata.org/entity/Q1749929'), ('name', 'International Basketball League')]\n",
      "[('o', 'http://www.wikidata.org/entity/Q6837573'), ('name', 'Michigan Intercollegiate Athletic Association')]\n",
      "[('o', 'http://www.wikidata.org/entity/Q951748'), ('name', 'Ohio Valley Conference')]\n",
      "[('o', 'http://www.wikidata.org/entity/Q102045917'), ('name', \"NCAA Division III men's basketball\")]\n",
      "[('o', 'http://www.wikidata.org/entity/Q102045920'), ('name', \"NCAA Division II men's basketball\")]\n",
      "[('o', 'http://www.wikidata.org/entity/Q5765688'), ('name', 'Greater Catholic League')]\n",
      "[('o', 'http://www.wikidata.org/entity/Q870454'), ('name', 'Premier Basketball League')]\n",
      "[('o', 'http://www.wikidata.org/entity/Q2304770'), ('name', 'Southland Conference')]\n",
      "47\n"
     ]
    }
   ],
   "source": [
    "# write your queries\n",
    "#retrieve the leagues of United States basketball teams and we find the IRI of the NBA under the label \"National Basketball Association\"\n",
    "queryString = \"\"\"\n",
    "SELECT DISTINCT ?o ?name\n",
    "WHERE {\n",
    "    ?team wdt:P31 wd:Q13393265 ;\n",
    "        wdt:P17 wd:Q30 ;\n",
    "        wdt:P118 ?o .      \n",
    "    ?o sc:name ?name .    \n",
    "}\n",
    "LIMIT 50\n",
    "\"\"\"\n",
    "\n",
    "print(\"Results\")\n",
    "x=run_query(queryString)\n"
   ]
  },
  {
   "cell_type": "code",
   "execution_count": 6,
   "id": "35b69327-d12a-4112-accf-076ef45bece6",
   "metadata": {},
   "outputs": [
    {
     "name": "stdout",
     "output_type": "stream",
     "text": [
      "Results\n",
      "[('p', 'http://www.wikidata.org/prop/direct/P31'), ('name', 'instance of'), ('o', 'http://www.wikidata.org/entity/Q18536323'), ('nameo', 'basketball league')]\n",
      "[('p', 'http://www.wikidata.org/prop/direct/P31'), ('name', 'instance of'), ('o', 'http://www.wikidata.org/entity/Q15986354'), ('nameo', 'basketball association')]\n",
      "[('p', 'http://www.wikidata.org/prop/direct/P527'), ('name', 'has part'), ('o', 'http://www.wikidata.org/entity/Q238240'), ('nameo', 'Eastern Conference')]\n",
      "[('p', 'http://www.wikidata.org/prop/direct/P1830'), ('name', 'owner of'), ('o', 'http://www.wikidata.org/entity/Q2455323'), ('nameo', 'NBA TV')]\n",
      "[('p', 'http://www.wikidata.org/prop/direct/P1365'), ('name', 'replaces'), ('o', 'http://www.wikidata.org/entity/Q810343'), ('nameo', 'Basketball Association of America')]\n",
      "[('p', 'http://www.wikidata.org/prop/direct/P6118'), ('name', 'season ends'), ('o', 'http://www.wikidata.org/entity/Q118'), ('nameo', 'April')]\n",
      "[('p', 'http://www.wikidata.org/prop/direct/P4794'), ('name', 'season starts'), ('o', 'http://www.wikidata.org/entity/Q124'), ('nameo', 'October')]\n",
      "[('p', 'http://www.wikidata.org/prop/direct/P31'), ('name', 'instance of'), ('o', 'http://www.wikidata.org/entity/Q15991290'), ('nameo', 'professional sports league')]\n",
      "[('p', 'http://www.wikidata.org/prop/direct/P17'), ('name', 'country'), ('o', 'http://www.wikidata.org/entity/Q16'), ('nameo', 'Canada')]\n",
      "[('p', 'http://www.wikidata.org/prop/direct/P17'), ('name', 'country'), ('o', 'http://www.wikidata.org/entity/Q30'), ('nameo', 'United States of America')]\n",
      "[('p', 'http://www.wikidata.org/prop/direct/P2094'), ('name', 'competition class'), ('o', 'http://www.wikidata.org/entity/Q46343203'), ('nameo', \"men's basketball\")]\n",
      "[('p', 'http://www.wikidata.org/prop/direct/P641'), ('name', 'sport'), ('o', 'http://www.wikidata.org/entity/Q5372'), ('nameo', 'basketball')]\n",
      "[('p', 'http://www.wikidata.org/prop/direct/P31'), ('name', 'instance of'), ('o', 'http://www.wikidata.org/entity/Q7094076'), ('nameo', 'online database')]\n",
      "[('p', 'http://www.wikidata.org/prop/direct/P2500'), ('name', 'league level below'), ('o', 'http://www.wikidata.org/entity/Q842793'), ('nameo', 'NBA G League')]\n",
      "[('p', 'http://www.wikidata.org/prop/direct/P1687'), ('name', 'Wikidata property'), ('o', 'http://www.wikidata.org/entity/P3647'), ('nameo', 'NBA.com player ID')]\n",
      "[('p', 'http://www.wikidata.org/prop/direct/P1346'), ('name', 'winner'), ('o', 'http://www.wikidata.org/entity/Q121783'), ('nameo', 'Los Angeles Lakers')]\n",
      "[('p', 'http://www.wikidata.org/prop/direct/P1830'), ('name', 'owner of'), ('o', 'http://www.wikidata.org/entity/Q6952699'), ('nameo', 'NBA Store')]\n",
      "[('p', 'http://www.wikidata.org/prop/direct/P527'), ('name', 'has part'), ('o', 'http://www.wikidata.org/entity/Q318389'), ('nameo', 'Western Conference')]\n",
      "[('p', 'http://www.wikidata.org/prop/direct/P910'), ('name', \"topic's main category\"), ('o', 'http://www.wikidata.org/entity/Q8663448'), ('nameo', 'Category:National Basketball Association')]\n",
      "[('p', 'http://www.wikidata.org/prop/direct/P2500'), ('name', 'league level below'), ('o', 'http://www.wikidata.org/entity/Q1287605'), ('nameo', 'NBA Summer League')]\n",
      "[('p', 'http://www.wikidata.org/prop/direct/P1424'), ('name', \"topic's main template\"), ('o', 'http://www.wikidata.org/entity/Q10950388'), ('nameo', 'Template:NBA seasons')]\n",
      "[('p', 'http://www.wikidata.org/prop/direct/P1830'), ('name', 'owner of'), ('o', 'http://www.wikidata.org/entity/Q1470803'), ('nameo', 'Three-Point Contest')]\n",
      "22\n"
     ]
    }
   ],
   "source": [
    "#retrieve all properties from NBA\n",
    "# we find the properties season ends and season start\n",
    "queryString = \"\"\"\n",
    "SELECT DISTINCT ?p ?name ?o ?nameo\n",
    "WHERE {\n",
    "    wd:Q155223 ?p ?o .        \n",
    "    ?p sc:name ?name .\n",
    "    ?o sc:name ?nameo .\n",
    "}\n",
    "LIMIT 100\n",
    "\"\"\"\n",
    "\n",
    "print(\"Results\")\n",
    "x=run_query(queryString)\n"
   ]
  },
  {
   "cell_type": "code",
   "execution_count": 2,
   "id": "0ea6ce33-68c4-40fd-acb4-029968bb9b40",
   "metadata": {},
   "outputs": [
    {
     "name": "stdout",
     "output_type": "stream",
     "text": [
      "Results\n",
      "[('s', 'http://www.wikidata.org/entity/Q2062651'), ('name', 'Volta de Ciclismo Internacional do Estado de São Paulo')]\n",
      "[('s', 'http://www.wikidata.org/entity/Q299931'), ('name', 'Chile Open')]\n",
      "[('s', 'http://www.wikidata.org/entity/Q652498'), ('name', \"EHF Women's Champions League\")]\n",
      "[('s', 'http://www.wikidata.org/entity/Q15141004'), ('name', 'Nationalliga A')]\n",
      "[('s', 'http://www.wikidata.org/entity/Q4288190'), ('name', 'MŽRKL')]\n",
      "[('s', 'http://www.wikidata.org/entity/Q3009575'), ('name', 'Czech Cycling Tour')]\n",
      "[('s', 'http://www.wikidata.org/entity/Q1587013'), ('name', 'Ronde van Overijssel')]\n",
      "[('s', 'http://www.wikidata.org/entity/Q24016079'), ('name', 'Tour of Chongming Island World Cup')]\n",
      "[('s', 'http://www.wikidata.org/entity/Q685390'), ('name', 'Armenian Supercup')]\n",
      "[('s', 'http://www.wikidata.org/entity/Q2169635'), ('name', 'Tacx Pro Classic')]\n",
      "[('s', 'http://www.wikidata.org/entity/Q338901'), ('name', 'Croatian Supercup')]\n",
      "[('s', 'http://www.wikidata.org/entity/Q508867'), ('name', 'Tro Bro Leon')]\n",
      "[('s', 'http://www.wikidata.org/entity/Q18120935'), ('name', \"OFC President's Cup\")]\n",
      "[('s', 'http://www.wikidata.org/entity/Q1519966'), ('name', 'Kampioenschap van Vlaanderen')]\n",
      "[('s', 'http://www.wikidata.org/entity/Q1716680'), ('name', 'Cyclo-cross Superprestige')]\n",
      "[('s', 'http://www.wikidata.org/entity/Q3113739'), ('name', 'GP Impanis-Van Petegem')]\n",
      "[('s', 'http://www.wikidata.org/entity/Q794754'), ('name', 'Israel Super Cup')]\n",
      "[('s', 'http://www.wikidata.org/entity/Q27537207'), ('name', 'Volleyball Thailand League')]\n",
      "[('s', 'http://www.wikidata.org/entity/Q3545232'), ('name', 'FFA Cup')]\n",
      "[('s', 'http://www.wikidata.org/entity/Q611623'), ('name', 'Grand Prix Rouwmoer')]\n",
      "20\n"
     ]
    }
   ],
   "source": [
    "#retrieve the subjects of the property \"season starts\"\n",
    "#not going anywhere\n",
    "queryString = \"\"\"\n",
    "SELECT DISTINCT ?s ?name\n",
    "WHERE {\n",
    "   ?s wdt:P4794 ?o .        \n",
    "    ?s  sc:name ?name .\n",
    "}\n",
    "LIMIT 20\n",
    "\"\"\"\n",
    "\n",
    "print(\"Results\")\n",
    "x=run_query(queryString)\n"
   ]
  },
  {
   "cell_type": "code",
   "execution_count": 3,
   "id": "e388bc23-4758-4d63-863c-9d9868f5f784",
   "metadata": {},
   "outputs": [
    {
     "name": "stdout",
     "output_type": "stream",
     "text": [
      "Results\n",
      "[('team', 'http://www.wikidata.org/entity/Q121783'), ('name', 'Los Angeles Lakers')]\n",
      "1\n"
     ]
    }
   ],
   "source": [
    "#maybe trying to find all the winners?\n",
    "#nop\n",
    "queryString = \"\"\"\n",
    "SELECT DISTINCT ?team ?name\n",
    "WHERE {\n",
    "    wd:Q155223 wdt:P1346 ?team .        \n",
    "    ?team sc:name ?name .\n",
    "}\n",
    "LIMIT 20\n",
    "\"\"\"\n",
    "\n",
    "print(\"Results\")\n",
    "x=run_query(queryString)"
   ]
  },
  {
   "cell_type": "code",
   "execution_count": 13,
   "id": "dbe8a13c-78ad-4e1f-a52a-cb6588c57e35",
   "metadata": {},
   "outputs": [
    {
     "name": "stdout",
     "output_type": "stream",
     "text": [
      "Results\n",
      "[('o', 'http://www.wikidata.org/entity/Q30'), ('name', 'United States of America')]\n",
      "[('o', 'http://www.wikidata.org/entity/Q5372'), ('name', 'basketball')]\n",
      "[('o', 'http://www.wikidata.org/entity/Q65'), ('name', 'Los Angeles')]\n",
      "[('o', 'http://www.wikidata.org/entity/Q155223'), ('name', 'National Basketball Association')]\n",
      "[('o', 'http://www.wikidata.org/entity/Q1781055'), ('name', 'South Bay Lakers')]\n",
      "[('o', 'http://www.wikidata.org/entity/Q186080'), ('name', 'Staples Center')]\n",
      "[('o', 'http://www.wikidata.org/entity/Q13393265'), ('name', 'basketball team')]\n",
      "[('o', 'http://www.wikidata.org/entity/Q668549'), ('name', 'Rapperswil-Jona Lakers')]\n",
      "[('o', 'http://www.wikidata.org/entity/Q206201'), ('name', 'Pacific Division')]\n",
      "[('o', 'http://www.wikidata.org/entity/Q2456047'), ('name', 'Frank Vogel')]\n",
      "[('o', 'http://www.wikidata.org/entity/Q4417414'), ('name', 'Category:Los Angeles Lakers')]\n",
      "[('o', 'http://www.wikidata.org/entity/Q5127792'), ('name', 'Jeanie Buss')]\n",
      "12\n"
     ]
    }
   ],
   "source": [
    "# The Los Angeles Lakers are indicated as the winner of NBA so they must have won the last season so we are trying to find all the objects linked to this team\n",
    "queryString = \"\"\"\n",
    "SELECT DISTINCT ?o ?name\n",
    "WHERE {\n",
    "    wd:Q121783 ?p ?o .        \n",
    "    ?o sc:name ?name.\n",
    "}\n",
    "LIMIT 20\n",
    "\"\"\"\n",
    "\n",
    "print(\"Results\")\n",
    "x=run_query(queryString)"
   ]
  },
  {
   "cell_type": "code",
   "execution_count": 8,
   "id": "7a9ea1d9-ab94-4e3e-bde3-d6566a71bd6e",
   "metadata": {},
   "outputs": [
    {
     "name": "stdout",
     "output_type": "stream",
     "text": [
      "Results\n",
      "[('s', 'http://www.wikidata.org/entity/Q17060534'), ('name', '1947–48 Minneapolis Lakers season')]\n",
      "[('s', 'http://www.wikidata.org/entity/Q538009'), ('name', 'Byron Scott')]\n",
      "[('s', 'http://www.wikidata.org/entity/Q553063'), ('name', 'Steve Blake')]\n",
      "[('s', 'http://www.wikidata.org/entity/Q6932895'), ('name', 'Steve Hamilton')]\n",
      "[('s', 'http://www.wikidata.org/entity/Q2567162'), ('name', 'Jay Vincent')]\n",
      "[('s', 'http://www.wikidata.org/entity/Q5255286'), ('name', 'Demetrius Calip')]\n",
      "[('s', 'http://www.wikidata.org/entity/Q2275193'), ('name', 'Mel Counts')]\n",
      "[('s', 'http://www.wikidata.org/entity/Q2294127'), ('name', '1971–72 NBA season')]\n",
      "[('s', 'http://www.wikidata.org/entity/Q2552896'), ('name', 'Coby Karl')]\n",
      "[('s', 'http://www.wikidata.org/entity/Q2562137'), ('name', 'Joe Kleine')]\n",
      "[('s', 'http://www.wikidata.org/entity/Q2565049'), ('name', 'Zelmo Beaty')]\n",
      "[('s', 'http://www.wikidata.org/entity/Q2565541'), ('name', 'Elmore Smith')]\n",
      "[('s', 'http://www.wikidata.org/entity/Q703908'), ('name', 'Nick Young')]\n",
      "[('s', 'http://www.wikidata.org/entity/Q976396'), ('name', 'Los Angeles Clippers')]\n",
      "[('s', 'http://www.wikidata.org/entity/Q129041'), ('name', 'Carmelo Anthony')]\n",
      "[('s', 'http://www.wikidata.org/entity/Q3257523'), ('name', 'Lloyd Daniels')]\n",
      "[('s', 'http://www.wikidata.org/entity/Q179051'), ('name', 'Kareem Abdul-Jabbar')]\n",
      "[('s', 'http://www.wikidata.org/entity/Q2724813'), ('name', 'Derek Harper')]\n",
      "[('s', 'http://www.wikidata.org/entity/Q278594'), ('name', 'A. C. Green')]\n",
      "[('s', 'http://www.wikidata.org/entity/Q3618516'), ('name', 'Anthony Miller')]\n",
      "20\n"
     ]
    }
   ],
   "source": [
    "#Nop, maybe doing the other way around\n",
    "queryString = \"\"\"\n",
    "SELECT DISTINCT ?s ?name\n",
    "WHERE {\n",
    "    ?s ?p wd:Q121783 ;      \n",
    "        sc:name ?name .\n",
    "}\n",
    "LIMIT 20\n",
    "\"\"\"\n",
    "\n",
    "print(\"Results\")\n",
    "x=run_query(queryString)"
   ]
  },
  {
   "cell_type": "code",
   "execution_count": 11,
   "id": "4980e918-e277-4cb7-9df7-ed8715cd293f",
   "metadata": {},
   "outputs": [
    {
     "name": "stdout",
     "output_type": "stream",
     "text": [
      "Results\n",
      "[('p', 'http://www.wikidata.org/prop/direct/P910'), ('namep', \"topic's main category\"), ('o', 'http://www.wikidata.org/entity/Q16772427'), ('name', 'Category:1971–72 NBA season')]\n",
      "[('p', 'http://www.wikidata.org/prop/direct/P3279'), ('namep', 'statistical leader'), ('o', 'http://www.wikidata.org/entity/Q179051'), ('name', 'Kareem Abdul-Jabbar')]\n",
      "[('p', 'http://www.wikidata.org/prop/direct/P2348'), ('namep', 'time period'), ('o', 'http://www.wikidata.org/entity/Q53385194'), ('name', '1971-1972 one-year-period')]\n",
      "[('p', 'http://www.wikidata.org/prop/direct/P31'), ('namep', 'instance of'), ('o', 'http://www.wikidata.org/entity/Q27020041'), ('name', 'sports season')]\n",
      "[('p', 'http://www.wikidata.org/prop/direct/P17'), ('namep', 'country'), ('o', 'http://www.wikidata.org/entity/Q30'), ('name', 'United States of America')]\n",
      "[('p', 'http://www.wikidata.org/prop/direct/P2094'), ('namep', 'competition class'), ('o', 'http://www.wikidata.org/entity/Q46343203'), ('name', \"men's basketball\")]\n",
      "[('p', 'http://www.wikidata.org/prop/direct/P641'), ('namep', 'sport'), ('o', 'http://www.wikidata.org/entity/Q5372'), ('name', 'basketball')]\n",
      "[('p', 'http://www.wikidata.org/prop/direct/P664'), ('namep', 'organizer'), ('o', 'http://www.wikidata.org/entity/Q155223'), ('name', 'National Basketball Association')]\n",
      "[('p', 'http://www.wikidata.org/prop/direct/P3450'), ('namep', 'sports season of league or competition'), ('o', 'http://www.wikidata.org/entity/Q155223'), ('name', 'National Basketball Association')]\n",
      "[('p', 'http://www.wikidata.org/prop/direct/P1346'), ('namep', 'winner'), ('o', 'http://www.wikidata.org/entity/Q121783'), ('name', 'Los Angeles Lakers')]\n",
      "10\n"
     ]
    }
   ],
   "source": [
    "#there we are, we've finally found the 1971-1972 NBA season.\n",
    "queryString = \"\"\"\n",
    "SELECT DISTINCT ?p ?namep ?o ?name\n",
    "WHERE {\n",
    "    wd:Q2294127 ?p ?o .\n",
    "    ?p sc:name ?namep .\n",
    "    ?o sc:name ?name .\n",
    "}\n",
    "LIMIT 20\n",
    "\"\"\"\n",
    "\n",
    "print(\"Results\")\n",
    "x=run_query(queryString)"
   ]
  },
  {
   "cell_type": "markdown",
   "id": "07ff5037",
   "metadata": {},
   "source": [
    "Final query for this task"
   ]
  },
  {
   "cell_type": "code",
   "execution_count": 12,
   "id": "a5890bc9",
   "metadata": {},
   "outputs": [
    {
     "name": "stdout",
     "output_type": "stream",
     "text": [
      "Results\n",
      "[('season', 'http://www.wikidata.org/entity/Q600389'), ('name', '1990–91 NBA season')]\n",
      "[('season', 'http://www.wikidata.org/entity/Q2264531'), ('name', '1967–68 NBA season')]\n",
      "[('season', 'http://www.wikidata.org/entity/Q241834'), ('name', '1989–90 NBA season')]\n",
      "[('season', 'http://www.wikidata.org/entity/Q81513156'), ('name', '2019–20 NBA G League season')]\n",
      "[('season', 'http://www.wikidata.org/entity/Q602553'), ('name', '1969–70 NBA season')]\n",
      "[('season', 'http://www.wikidata.org/entity/Q2294127'), ('name', '1971–72 NBA season')]\n",
      "[('season', 'http://www.wikidata.org/entity/Q113619'), ('name', '2012–13 NBA season')]\n",
      "[('season', 'http://www.wikidata.org/entity/Q16191100'), ('name', '2014-15 NBA season')]\n",
      "[('season', 'http://www.wikidata.org/entity/Q19862716'), ('name', '2015–16 NBA season')]\n",
      "[('season', 'http://www.wikidata.org/entity/Q631240'), ('name', '1979–80 NBA season')]\n",
      "[('season', 'http://www.wikidata.org/entity/Q1142320'), ('name', '2005–06 NBA season')]\n",
      "[('season', 'http://www.wikidata.org/entity/Q281094'), ('name', '1949–50 NBA season')]\n",
      "[('season', 'http://www.wikidata.org/entity/Q52702755'), ('name', '2018–19 NBA season')]\n",
      "[('season', 'http://www.wikidata.org/entity/Q1121549'), ('name', '2007–08 NBA season')]\n",
      "[('season', 'http://www.wikidata.org/entity/Q2264502'), ('name', '1961–62 NBA season')]\n",
      "[('season', 'http://www.wikidata.org/entity/Q2069853'), ('name', '1983–84 NBA season')]\n",
      "[('season', 'http://www.wikidata.org/entity/Q2264540'), ('name', '1975–76 NBA season')]\n",
      "[('season', 'http://www.wikidata.org/entity/Q548783'), ('name', '1977–78 NBA season')]\n",
      "[('season', 'http://www.wikidata.org/entity/Q29098111'), ('name', '2017–18 NBA season')]\n",
      "[('season', 'http://www.wikidata.org/entity/Q1255750'), ('name', '2011–12 NBA season')]\n",
      "20\n"
     ]
    }
   ],
   "source": [
    "# write your final query\n",
    "# we've found there two interesting things. The PGB of organizer and the fact that the season is an instance of sports season.\n",
    "queryString = \"\"\"\n",
    "SELECT DISTINCT ?season ?name \n",
    "\n",
    "WHERE {\n",
    "    ?season wdt:P31 wd:Q27020041 ; #a sport season\n",
    "        wdt:P664 wd:Q155223 ;      #organized by the NBA         \n",
    "        sc:name ?name .\n",
    "}\n",
    "LIMIT 20\n",
    "\"\"\"\n",
    "\n",
    "print(\"Results\")\n",
    "x=run_query(queryString)\n"
   ]
  },
  {
   "cell_type": "markdown",
   "id": "453d9969",
   "metadata": {},
   "source": [
    "## Task 6\n",
    "Consider only the basketball teams which Michael Jordan and Kobe Bryant played. Return the number of NBA seasons won by these teams (the result set must be a list of triples basketball team IRI, label and #victories. Return a number for each basketball team even if they never won a season)."
   ]
  },
  {
   "cell_type": "code",
   "execution_count": 2,
   "id": "d7409d14",
   "metadata": {},
   "outputs": [
    {
     "name": "stdout",
     "output_type": "stream",
     "text": [
      "Results\n",
      "[('p', 'http://www.wikidata.org/prop/direct/P361'), ('name', 'part of')]\n",
      "1\n"
     ]
    }
   ],
   "source": [
    "# write your queries\n",
    "#looking at what property links a basketball player to a basketball team\n",
    "queryString = \"\"\"\n",
    "SELECT DISTINCT ?p ?name\n",
    "\n",
    "WHERE {  \n",
    "    wd:Q3665646 ?p wd:Q13393265 .\n",
    "    ?p sc:name ?name.\n",
    "}\n",
    "LIMIT 20\n",
    "\"\"\"\n",
    "\n",
    "print(\"Results\")\n",
    "x=run_query(queryString)\n"
   ]
  },
  {
   "cell_type": "code",
   "execution_count": 22,
   "id": "9fe6e427-3fcf-4bc1-97d3-5a6f3e1e7a0d",
   "metadata": {},
   "outputs": [
    {
     "name": "stdout",
     "output_type": "stream",
     "text": [
      "Results\n",
      "Empty\n"
     ]
    }
   ],
   "source": [
    "#we're separating the queries to verify that everything is working well \n",
    "#apparently not\n",
    "queryString = \"\"\"\n",
    "SELECT DISTINCT ?team ?name WHERE{\n",
    "            wd:Q3665646 wdt:P361 ?team .\n",
    "            ?team wdt:P31 wd:Q13393265 ;\n",
    "                  sc:name ?name.\n",
    "            #FILTER (?player = wd:Q41421 || ?player = wd:Q25369) .\n",
    "}\n",
    "LIMIT 20\n",
    "\"\"\"\n",
    "\n",
    "print(\"Results\")\n",
    "x=run_query(queryString)"
   ]
  },
  {
   "cell_type": "code",
   "execution_count": 3,
   "id": "7718f659-79ed-492f-8c28-72c8c67b17d8",
   "metadata": {},
   "outputs": [
    {
     "name": "stdout",
     "output_type": "stream",
     "text": [
      "Results\n",
      "[('team', 'http://www.wikidata.org/entity/Q11310897'), ('name', 'Jordan Rules')]\n",
      "1\n"
     ]
    }
   ],
   "source": [
    "#the property part of doesn't seem to be the one we are looking for.\n",
    "queryString = \"\"\"\n",
    "SELECT DISTINCT ?team ?name WHERE{\n",
    "            wd:Q41421 wdt:P361 ?team .\n",
    "            ?team sc:name ?name.\n",
    "}\n",
    "LIMIT 20\n",
    "\"\"\"\n",
    "\n",
    "print(\"Results\")\n",
    "x=run_query(queryString)"
   ]
  },
  {
   "cell_type": "code",
   "execution_count": 27,
   "id": "4d3cf466-bd3e-46e8-b69a-fcd282ffd65a",
   "metadata": {},
   "outputs": [
    {
     "name": "stdout",
     "output_type": "stream",
     "text": [
      "Results\n",
      "[('p', 'http://www.wikidata.org/prop/direct/P527'), ('name', 'has part')]\n",
      "1\n"
     ]
    }
   ],
   "source": [
    "#this time, looking at what property links a basketball team to a basketball player\n",
    "queryString = \"\"\"\n",
    "SELECT DISTINCT ?p ?name\n",
    "\n",
    "WHERE {  \n",
    "    wd:Q13393265 ?p wd:Q3665646 .\n",
    "    ?p sc:name ?name.\n",
    "}\n",
    "LIMIT 20\n",
    "\"\"\"\n",
    "\n",
    "print(\"Results\")\n",
    "x=run_query(queryString)\n"
   ]
  },
  {
   "cell_type": "code",
   "execution_count": 32,
   "id": "e346d451-2b13-460d-8067-d7f75711afef",
   "metadata": {},
   "outputs": [
    {
     "name": "stdout",
     "output_type": "stream",
     "text": [
      "Results\n",
      "[('team', 'http://www.wikidata.org/entity/Q369529'), ('name', \"1992 United States men's Olympic basketball team\")]\n",
      "1\n"
     ]
    }
   ],
   "source": [
    "#still not what we are looking for\n",
    "queryString = \"\"\"\n",
    "SELECT DISTINCT ?team ?name WHERE{\n",
    "            ?team wdt:P31 wd:Q13393265 ;\n",
    "                wdt:P527 wd:Q41421 ;\n",
    "                sc:name ?name.\n",
    "            #FILTER (?player = wd:Q41421 || ?player = wd:Q25369) .\n",
    "}\n",
    "LIMIT 20\n",
    "\"\"\"\n",
    "\n",
    "print(\"Results\")\n",
    "x=run_query(queryString)"
   ]
  },
  {
   "cell_type": "code",
   "execution_count": 4,
   "id": "898f1eb8-6c60-415b-b021-3d6b80ec43a1",
   "metadata": {},
   "outputs": [
    {
     "name": "stdout",
     "output_type": "stream",
     "text": [
      "Results\n",
      "[('o', 'http://www.wikidata.org/entity/Q51747567'), ('name', 'squad')]\n",
      "[('o', 'http://www.wikidata.org/entity/Q3665646'), ('name', 'basketball player')]\n",
      "[('o', 'http://www.wikidata.org/entity/Q5137571'), ('name', 'basketball coach')]\n",
      "3\n"
     ]
    }
   ],
   "source": [
    "#we're gonna retrieve what the propriety has part gives us\n",
    "#Team and squad aren't the same thing ?\n",
    "queryString = \"\"\"\n",
    "SELECT DISTINCT ?o ?name WHERE{\n",
    "    wd:Q13393265 wdt:P527 ?o .\n",
    "    ?o sc:name ?name.\n",
    "}\n",
    "LIMIT 20\n",
    "\"\"\"\n",
    "\n",
    "print(\"Results\")\n",
    "x=run_query(queryString)"
   ]
  },
  {
   "cell_type": "code",
   "execution_count": 38,
   "id": "e8c8a231-e73e-4e05-bc92-0bd0d8946413",
   "metadata": {},
   "outputs": [
    {
     "name": "stdout",
     "output_type": "stream",
     "text": [
      "Results\n",
      "[('p', 'http://www.wikidata.org/prop/direct/P527'), ('namep', 'has part'), ('o', 'http://www.wikidata.org/entity/Q18536342'), ('name', 'competitive player')]\n",
      "[('p', 'http://www.wikidata.org/prop/direct/P31'), ('namep', 'instance of'), ('o', 'http://www.wikidata.org/entity/Q16334295'), ('name', 'group of humans')]\n",
      "[('p', 'http://www.wikidata.org/prop/direct/P279'), ('namep', 'subclass of'), ('o', 'http://www.wikidata.org/entity/Q327245'), ('name', 'team')]\n",
      "[('p', 'http://www.wikidata.org/prop/direct/P361'), ('namep', 'part of'), ('o', 'http://www.wikidata.org/entity/Q847017'), ('name', 'sports club')]\n",
      "[('p', 'http://www.wikidata.org/prop/direct/P527'), ('namep', 'has part'), ('o', 'http://www.wikidata.org/entity/Q2066131'), ('name', 'athlete')]\n",
      "5\n"
     ]
    }
   ],
   "source": [
    "#we're gonna look at what there is in the squad object\n",
    "queryString = \"\"\"\n",
    "SELECT DISTINCT ?p ?namep ?o ?name WHERE{\n",
    "    wd:Q51747567 ?p ?o .\n",
    "    ?p sc:name ?namep .\n",
    "    ?o sc:name ?name.\n",
    "}\n",
    "LIMIT 20\n",
    "\"\"\"\n",
    "\n",
    "print(\"Results\")\n",
    "x=run_query(queryString)"
   ]
  },
  {
   "cell_type": "code",
   "execution_count": 5,
   "id": "42874b19-a355-46f7-a7fb-3cb02f01acb3",
   "metadata": {},
   "outputs": [
    {
     "name": "stdout",
     "output_type": "stream",
     "text": [
      "Results\n",
      "[('club', 'http://www.wikidata.org/entity/Q8558'), ('name', '2004 Summer Olympics')]\n",
      "[('club', 'http://www.wikidata.org/entity/Q8567'), ('name', '2008 Summer Olympics')]\n",
      "[('club', 'http://www.wikidata.org/entity/Q102720'), ('name', 'Hertha BSC')]\n",
      "[('club', 'http://www.wikidata.org/entity/Q81274'), ('name', 'FIBA EuroBasket 2009')]\n",
      "[('club', 'http://www.wikidata.org/entity/Q1316347'), ('name', '2017 Africa Cup of Nations')]\n",
      "[('club', 'http://www.wikidata.org/entity/Q740936'), ('name', \"handball at the 2004 Summer Olympics – men's tournament\")]\n",
      "[('club', 'http://www.wikidata.org/entity/Q24091451'), ('name', \"2018 AFC Women's Asian Cup\")]\n",
      "[('club', 'http://www.wikidata.org/entity/Q18851388'), ('name', \"2015 King's Cup\")]\n",
      "8\n"
     ]
    }
   ],
   "source": [
    "#not going anywhere\n",
    "queryString = \"\"\"\n",
    "SELECT DISTINCT ?club ?name WHERE{\n",
    "    ?squad wdt:P31 wd:Q51747567 ;\n",
    "            wdt:P361 ?club .\n",
    "    ?club sc:name ?name .\n",
    "}\n",
    "LIMIT 20\n",
    "\"\"\"\n",
    "\n",
    "print(\"Results\")\n",
    "x=run_query(queryString)"
   ]
  },
  {
   "cell_type": "code",
   "execution_count": 8,
   "id": "917b436e-a6b0-4295-ae84-94d50d6adaee",
   "metadata": {},
   "outputs": [
    {
     "name": "stdout",
     "output_type": "stream",
     "text": [
      "Results\n",
      "[('p', 'http://www.wikidata.org/prop/direct/P54'), ('name', 'member of sports team')]\n",
      "1\n"
     ]
    }
   ],
   "source": [
    "#maybe we can restart from the Lakers and one of the people who were indicated as subject of the properties, like Byron Scott to see what relation there is between them\n",
    "#yes finally something interesting.\n",
    "queryString = \"\"\"\n",
    "SELECT DISTINCT ?p ?name\n",
    "WHERE {\n",
    "    wd:Q538009 ?p wd:Q121783 .     \n",
    "    ?p sc:name ?name .\n",
    "}\n",
    "LIMIT 20\n",
    "\"\"\"\n",
    "\n",
    "print(\"Results\")\n",
    "x=run_query(queryString)"
   ]
  },
  {
   "cell_type": "code",
   "execution_count": 10,
   "id": "49c37ced-91c3-4f6f-abdb-060e4e4c99f2",
   "metadata": {},
   "outputs": [
    {
     "name": "stdout",
     "output_type": "stream",
     "text": [
      "Results\n",
      "[('team', 'http://www.wikidata.org/entity/Q121783'), ('name', 'Los Angeles Lakers')]\n",
      "[('team', 'http://www.wikidata.org/entity/Q128109'), ('name', 'Chicago Bulls')]\n",
      "[('team', 'http://www.wikidata.org/entity/Q169165'), ('name', 'Washington Wizards')]\n",
      "[('team', 'http://www.wikidata.org/entity/Q4412061'), ('name', \"North Carolina Tar Heels men's basketball\")]\n",
      "4\n"
     ]
    }
   ],
   "source": [
    "#verifying separately again\n",
    "queryString = \"\"\"\n",
    "SELECT DISTINCT ?team ?name WHERE{\n",
    "            ?player wdt:P106 wd:Q3665646 ;\n",
    "                wdt:P54 ?team .\n",
    "            ?team wdt:P31 wd:Q13393265 ;\n",
    "                  sc:name ?name.\n",
    "            FILTER (?player = wd:Q41421 || ?player = wd:Q25369) .\n",
    "}\n",
    "LIMIT 20\n",
    "\"\"\"\n",
    "\n",
    "print(\"Results\")\n",
    "x=run_query(queryString)"
   ]
  },
  {
   "cell_type": "code",
   "execution_count": 20,
   "id": "a7d5beb1-7b24-4708-82fc-ac1d7f64a55a",
   "metadata": {},
   "outputs": [
    {
     "name": "stdout",
     "output_type": "stream",
     "text": [
      "Results\n",
      "[('name', 'Los Angeles Lakers'), ('victories', '17')]\n",
      "[('name', 'Boston Celtics'), ('victories', '17')]\n",
      "[('name', 'Chicago Bulls'), ('victories', '6')]\n",
      "[('name', 'Golden State Warriors'), ('victories', '6')]\n",
      "[('name', 'San Antonio Spurs'), ('victories', '5')]\n",
      "[('name', 'Miami Heat'), ('victories', '3')]\n",
      "[('name', 'Philadelphia 76ers'), ('victories', '3')]\n",
      "[('name', 'Milwaukee Bucks'), ('victories', '2')]\n",
      "[('name', 'New York Knicks'), ('victories', '2')]\n",
      "[('name', 'Houston Rockets'), ('victories', '2')]\n",
      "[('name', 'Detroit Pistons'), ('victories', '2')]\n",
      "[('name', 'Portland Trail Blazers'), ('victories', '1')]\n",
      "[('name', 'Sacramento Kings'), ('victories', '1')]\n",
      "[('name', 'Atlanta Hawks'), ('victories', '1')]\n",
      "[('name', 'Cleveland Cavaliers'), ('victories', '1')]\n",
      "[('name', 'Washington Wizards'), ('victories', '1')]\n",
      "[('name', 'Lakeland Magic'), ('victories', '1')]\n",
      "[('name', 'Baltimore Bullets'), ('victories', '1')]\n",
      "[('name', 'Toronto Raptors'), ('victories', '1')]\n",
      "[('name', 'Dallas Mavericks'), ('victories', '1')]\n",
      "20\n"
     ]
    }
   ],
   "source": [
    "queryString = \"\"\"\n",
    "SELECT DISTINCT ?name (COUNT(?team) as ?victories)\n",
    "WHERE {\n",
    "    ?team wdt:P31 wd:Q13393265 ;\n",
    "        sc:name ?name .    \n",
    "    ?season wdt:P31 wd:Q27020041 ; #a sport season\n",
    "        wdt:P664 wd:Q155223 ;      #organized by the NBA         \n",
    "        wdt:P1346 ?team. \n",
    "} GROUP BY ?name\n",
    "ORDER BY DESC(?victories)\n",
    "LIMIT 20\n",
    "\"\"\"\n",
    "\n",
    "print(\"Results\")\n",
    "x=run_query(queryString)"
   ]
  },
  {
   "cell_type": "code",
   "execution_count": 30,
   "id": "86e7cf47-f7cd-4c72-b39d-0c5f8a1b44bb",
   "metadata": {},
   "outputs": [
    {
     "name": "stdout",
     "output_type": "stream",
     "text": [
      "Results\n",
      "[('team2', 'http://www.wikidata.org/entity/Q121783'), ('name2', 'Los Angeles Lakers'), ('victories', '17')]\n",
      "[('team2', 'http://www.wikidata.org/entity/Q128109'), ('name2', 'Chicago Bulls'), ('victories', '6')]\n",
      "[('team2', 'http://www.wikidata.org/entity/Q169165'), ('name2', 'Washington Wizards'), ('victories', '1')]\n",
      "3\n"
     ]
    }
   ],
   "source": [
    "#we see that one team is missing, surely cause it didn't win\n",
    "queryString = \"\"\"\n",
    "SELECT DISTINCT ?team2 ?name2 (COUNT(?team2) as ?victories)\n",
    "\n",
    "WHERE {\n",
    "    ?team2 wdt:P31 wd:Q13393265 ;\n",
    "        sc:name ?name2 .\n",
    "    ?season wdt:P31 wd:Q27020041 ; #a sport season\n",
    "    wdt:P664 wd:Q155223 ;      #organized by the NBA         \n",
    "    wdt:P1346 ?team2.\n",
    "\n",
    "\n",
    "    {\n",
    "        SELECT DISTINCT ?team ?name WHERE{\n",
    "            ?player wdt:P106 wd:Q3665646 ;\n",
    "                wdt:P54 ?team .\n",
    "            ?team wdt:P31 wd:Q13393265 ;\n",
    "                  sc:name ?name.\n",
    "            FILTER (?player = wd:Q41421 || ?player = wd:Q25369)\n",
    "        }\n",
    "    } FILTER(?team2 = ?team)\n",
    "} GROUP BY ?team2 ?name2\n",
    "ORDER BY DESC(?victories)\n",
    "LIMIT 20\n",
    "\"\"\"\n",
    "\n",
    "print(\"Results\")\n",
    "x=run_query(queryString)"
   ]
  },
  {
   "cell_type": "code",
   "execution_count": 32,
   "id": "e748f7ff-021d-49ba-a055-b0362512381a",
   "metadata": {},
   "outputs": [
    {
     "name": "stdout",
     "output_type": "stream",
     "text": [
      "Results\n",
      "[('team2', 'http://www.wikidata.org/entity/Q121783'), ('name2', 'Los Angeles Lakers'), ('victories', '17')]\n",
      "[('team2', 'http://www.wikidata.org/entity/Q128109'), ('name2', 'Chicago Bulls'), ('victories', '6')]\n",
      "[('team2', 'http://www.wikidata.org/entity/Q169165'), ('name2', 'Washington Wizards'), ('victories', '1')]\n",
      "[('team2', 'http://www.wikidata.org/entity/Q4412061'), ('name2', \"North Carolina Tar Heels men's basketball\"), ('victories', '1')]\n",
      "4\n"
     ]
    }
   ],
   "source": [
    "#We're then adding optional to see the last one. Problem, as it has created one row for the Tar Heels the COUNT take it in account and put 1 as the number of victories\n",
    "queryString = \"\"\"\n",
    "SELECT DISTINCT ?team2 ?name2 (COUNT(?team2) as ?victories)\n",
    "\n",
    "WHERE {\n",
    "    ?team2 wdt:P31 wd:Q13393265 ;\n",
    "        sc:name ?name2 .\n",
    "    OPTIONAL{\n",
    "        ?season wdt:P31 wd:Q27020041 ; #a sport season\n",
    "        wdt:P664 wd:Q155223 ;      #organized by the NBA         \n",
    "        wdt:P1346 ?team2.\n",
    "        } \n",
    "\n",
    "    {\n",
    "        SELECT DISTINCT ?team ?name WHERE{\n",
    "            ?player wdt:P106 wd:Q3665646 ;\n",
    "                wdt:P54 ?team .\n",
    "            ?team wdt:P31 wd:Q13393265 ;\n",
    "                  sc:name ?name.\n",
    "            FILTER (?player = wd:Q41421 || ?player = wd:Q25369)\n",
    "        }\n",
    "    } FILTER(?team2 = ?team)\n",
    "} GROUP BY ?team2 ?name2\n",
    "ORDER BY DESC(?victories)\n",
    "LIMIT 20\n",
    "\"\"\"\n",
    "\n",
    "print(\"Results\")\n",
    "x=run_query(queryString)"
   ]
  },
  {
   "cell_type": "markdown",
   "id": "2497921f",
   "metadata": {},
   "source": [
    "Final query for this task"
   ]
  },
  {
   "cell_type": "code",
   "execution_count": 33,
   "id": "a46f5fbe",
   "metadata": {},
   "outputs": [
    {
     "name": "stdout",
     "output_type": "stream",
     "text": [
      "Results\n",
      "[('team2', 'http://www.wikidata.org/entity/Q121783'), ('name2', 'Los Angeles Lakers'), ('victories', '17')]\n",
      "[('team2', 'http://www.wikidata.org/entity/Q128109'), ('name2', 'Chicago Bulls'), ('victories', '6')]\n",
      "[('team2', 'http://www.wikidata.org/entity/Q169165'), ('name2', 'Washington Wizards'), ('victories', '1')]\n",
      "[('team2', 'http://www.wikidata.org/entity/Q4412061'), ('name2', \"North Carolina Tar Heels men's basketball\"), ('victories', '0')]\n",
      "4\n"
     ]
    }
   ],
   "source": [
    "# write your final query\n",
    "#problem finally solved, we'll remember this query all my life\n",
    "\n",
    "queryString = \"\"\"\n",
    "SELECT DISTINCT ?team2 ?name2 (SUM (IF(?team2 = ?winner, 1, 0)) as ?victories) \n",
    "\n",
    "WHERE {\n",
    "    ?team2 wdt:P31 wd:Q13393265 ;\n",
    "        sc:name ?name2 .\n",
    "\n",
    "    ?season wdt:P31 wd:Q27020041 ; #a sport season\n",
    "        wdt:P664 wd:Q155223 ;      #organized by the NBA         \n",
    "        wdt:P1346 ?winner.\n",
    "        \n",
    "    {\n",
    "        SELECT DISTINCT ?team ?name WHERE{\n",
    "            ?player wdt:P106 wd:Q3665646 ;\n",
    "                wdt:P54 ?team .\n",
    "            ?team wdt:P31 wd:Q13393265 ;\n",
    "                  sc:name ?name.\n",
    "            FILTER (?player = wd:Q41421 || ?player = wd:Q25369)\n",
    "        }\n",
    "    } FILTER(?team2 = ?team)\n",
    "} GROUP BY ?team2 ?name2 \n",
    "ORDER BY DESC(?victories)\n",
    "LIMIT 20\n",
    "\"\"\"\n",
    "\n",
    "print(\"Results\")\n",
    "x=run_query(queryString)"
   ]
  },
  {
   "cell_type": "markdown",
   "id": "6c95b304",
   "metadata": {},
   "source": [
    "## Task 7\n",
    "Consider only NBA (National Basketball Association) basketball teams and all basketball players who played in one of these teams at least once. Also consider the country of citizenship of the players with the related continent. Return for each continent the number of players who played in an NBA basketball teams. (the result set must be triples of continent IRI, label and #players)"
   ]
  },
  {
   "cell_type": "code",
   "execution_count": 31,
   "id": "df361e07",
   "metadata": {},
   "outputs": [
    {
     "name": "stdout",
     "output_type": "stream",
     "text": [
      "Results\n",
      "[('p', 'http://www.wikidata.org/prop/direct/P1151'), ('name', \"topic's main Wikimedia portal\")]\n",
      "[('p', 'http://www.wikidata.org/prop/direct/P122'), ('name', 'basic form of government')]\n",
      "[('p', 'http://www.wikidata.org/prop/direct/P1313'), ('name', 'office held by head of government')]\n",
      "[('p', 'http://www.wikidata.org/prop/direct/P1325'), ('name', 'external data available at')]\n",
      "[('p', 'http://www.wikidata.org/prop/direct/P1343'), ('name', 'described by source')]\n",
      "[('p', 'http://www.wikidata.org/prop/direct/P1344'), ('name', 'participant in')]\n",
      "[('p', 'http://www.wikidata.org/prop/direct/P1365'), ('name', 'replaces')]\n",
      "[('p', 'http://www.wikidata.org/prop/direct/P138'), ('name', 'named after')]\n",
      "[('p', 'http://www.wikidata.org/prop/direct/P1464'), ('name', 'category for people born here')]\n",
      "[('p', 'http://www.wikidata.org/prop/direct/P1465'), ('name', 'category for people who died here')]\n",
      "[('p', 'http://www.wikidata.org/prop/direct/P1482'), ('name', 'Stack Exchange tag')]\n",
      "[('p', 'http://www.wikidata.org/prop/direct/P150'), ('name', 'contains administrative territorial entity')]\n",
      "[('p', 'http://www.wikidata.org/prop/direct/P1546'), ('name', 'motto')]\n",
      "[('p', 'http://www.wikidata.org/prop/direct/P1552'), ('name', 'has quality')]\n",
      "[('p', 'http://www.wikidata.org/prop/direct/P158'), ('name', 'seal image')]\n",
      "[('p', 'http://www.wikidata.org/prop/direct/P1589'), ('name', 'lowest point')]\n",
      "[('p', 'http://www.wikidata.org/prop/direct/P1622'), ('name', 'driving side')]\n",
      "[('p', 'http://www.wikidata.org/prop/direct/P163'), ('name', 'flag')]\n",
      "[('p', 'http://www.wikidata.org/prop/direct/P166'), ('name', 'award received')]\n",
      "[('p', 'http://www.wikidata.org/prop/direct/P17'), ('name', 'country')]\n",
      "[('p', 'http://www.wikidata.org/prop/direct/P1740'), ('name', 'category for films shot at this location')]\n",
      "[('p', 'http://www.wikidata.org/prop/direct/P1791'), ('name', 'category of people buried here')]\n",
      "[('p', 'http://www.wikidata.org/prop/direct/P1792'), ('name', 'category of associated people')]\n",
      "[('p', 'http://www.wikidata.org/prop/direct/P1906'), ('name', 'office held by head of state')]\n",
      "[('p', 'http://www.wikidata.org/prop/direct/P194'), ('name', 'legislative body')]\n",
      "[('p', 'http://www.wikidata.org/prop/direct/P1943'), ('name', 'location map')]\n",
      "[('p', 'http://www.wikidata.org/prop/direct/P1944'), ('name', 'relief location map')]\n",
      "[('p', 'http://www.wikidata.org/prop/direct/P206'), ('name', 'located in or next to body of water')]\n",
      "[('p', 'http://www.wikidata.org/prop/direct/P208'), ('name', 'executive body')]\n",
      "[('p', 'http://www.wikidata.org/prop/direct/P209'), ('name', 'highest judicial authority')]\n",
      "[('p', 'http://www.wikidata.org/prop/direct/P2184'), ('name', 'history of topic')]\n",
      "[('p', 'http://www.wikidata.org/prop/direct/P237'), ('name', 'coat of arms')]\n",
      "[('p', 'http://www.wikidata.org/prop/direct/P242'), ('name', 'locator map image')]\n",
      "[('p', 'http://www.wikidata.org/prop/direct/P2579'), ('name', 'studied by')]\n",
      "[('p', 'http://www.wikidata.org/prop/direct/P2596'), ('name', 'culture')]\n",
      "[('p', 'http://www.wikidata.org/prop/direct/P2633'), ('name', 'geography of topic')]\n",
      "[('p', 'http://www.wikidata.org/prop/direct/P2746'), ('name', 'production statistics')]\n",
      "[('p', 'http://www.wikidata.org/prop/direct/P2852'), ('name', 'emergency telephone number')]\n",
      "[('p', 'http://www.wikidata.org/prop/direct/P2853'), ('name', 'electrical plug type')]\n",
      "[('p', 'http://www.wikidata.org/prop/direct/P2936'), ('name', 'language used')]\n",
      "[('p', 'http://www.wikidata.org/prop/direct/P2959'), ('name', 'permanent duplicated item')]\n",
      "[('p', 'http://www.wikidata.org/prop/direct/P30'), ('name', 'continent')]\n",
      "[('p', 'http://www.wikidata.org/prop/direct/P31'), ('name', 'instance of')]\n",
      "[('p', 'http://www.wikidata.org/prop/direct/P3403'), ('name', 'coextensive with')]\n",
      "[('p', 'http://www.wikidata.org/prop/direct/P35'), ('name', 'head of state')]\n",
      "[('p', 'http://www.wikidata.org/prop/direct/P36'), ('name', 'capital')]\n",
      "[('p', 'http://www.wikidata.org/prop/direct/P361'), ('name', 'part of')]\n",
      "[('p', 'http://www.wikidata.org/prop/direct/P37'), ('name', 'official language')]\n",
      "[('p', 'http://www.wikidata.org/prop/direct/P38'), ('name', 'currency')]\n",
      "[('p', 'http://www.wikidata.org/prop/direct/P3896'), ('name', 'geoshape')]\n",
      "50\n"
     ]
    }
   ],
   "source": [
    "# write your queries\n",
    "#we don't seem to know the property linking a country to a continent. So we're trying to obtain it retrieving the property of France\n",
    "queryString = \"\"\"\n",
    "SELECT DISTINCT ?p ?name\n",
    "\n",
    "WHERE {\n",
    "    wd:Q142 ?p ?o.\n",
    "    ?p sc:name ?name.\n",
    "    FILTER(!isLiteral(?o))\n",
    "}\n",
    "LIMIT 50\n",
    "\"\"\"\n",
    "\n",
    "print(\"Results\")\n",
    "x=run_query(queryString)\n",
    "\n"
   ]
  },
  {
   "cell_type": "code",
   "execution_count": 27,
   "id": "9c140847-ceb2-422f-9690-86e2ea4ff3dd",
   "metadata": {},
   "outputs": [
    {
     "name": "stdout",
     "output_type": "stream",
     "text": [
      "Results\n",
      "[('country', 'http://www.wikidata.org/entity/Q30'), ('name', 'United States of America'), ('nbplayers', '9302')]\n",
      "[('country', 'http://www.wikidata.org/entity/Q16'), ('name', 'Canada'), ('nbplayers', '86')]\n",
      "[('country', 'http://www.wikidata.org/entity/Q142'), ('name', 'France'), ('nbplayers', '68')]\n",
      "[('country', 'http://www.wikidata.org/entity/Q403'), ('name', 'Serbia'), ('nbplayers', '59')]\n",
      "[('country', 'http://www.wikidata.org/entity/Q29'), ('name', 'Spain'), ('nbplayers', '51')]\n",
      "[('country', 'http://www.wikidata.org/entity/Q224'), ('name', 'Croatia'), ('nbplayers', '50')]\n",
      "[('country', 'http://www.wikidata.org/entity/Q1033'), ('name', 'Nigeria'), ('nbplayers', '49')]\n",
      "[('country', 'http://www.wikidata.org/entity/Q38'), ('name', 'Italy'), ('nbplayers', '46')]\n",
      "[('country', 'http://www.wikidata.org/entity/Q408'), ('name', 'Australia'), ('nbplayers', '46')]\n",
      "[('country', 'http://www.wikidata.org/entity/Q43'), ('name', 'Turkey'), ('nbplayers', '45')]\n",
      "[('country', 'http://www.wikidata.org/entity/Q230'), ('name', 'Georgia'), ('nbplayers', '38')]\n",
      "[('country', 'http://www.wikidata.org/entity/Q37024'), ('name', 'Serbia and Montenegro'), ('nbplayers', '34')]\n",
      "[('country', 'http://www.wikidata.org/entity/Q36704'), ('name', 'Yugoslavia'), ('nbplayers', '34')]\n",
      "[('country', 'http://www.wikidata.org/entity/Q215'), ('name', 'Slovenia'), ('nbplayers', '33')]\n",
      "[('country', 'http://www.wikidata.org/entity/Q155'), ('name', 'Brazil'), ('nbplayers', '32')]\n",
      "[('country', 'http://www.wikidata.org/entity/Q145'), ('name', 'United Kingdom'), ('nbplayers', '32')]\n",
      "[('country', 'http://www.wikidata.org/entity/Q183'), ('name', 'Germany'), ('nbplayers', '31')]\n",
      "[('country', 'http://www.wikidata.org/entity/Q41'), ('name', 'Greece'), ('nbplayers', '30')]\n",
      "[('country', 'http://www.wikidata.org/entity/Q36'), ('name', 'Poland'), ('nbplayers', '25')]\n",
      "[('country', 'http://www.wikidata.org/entity/Q414'), ('name', 'Argentina'), ('nbplayers', '24')]\n",
      "20\n"
     ]
    }
   ],
   "source": [
    "#prequerie to verify step by step\n",
    "queryString = \"\"\"\n",
    "SELECT DISTINCT ?country ?name (COUNT(?player) as ?nbplayers) WHERE {\n",
    "    ?player wdt:P106 wd:Q3665646 ; \n",
    "            wdt:P54 ?team ;\n",
    "            wdt:P27 ?country . \n",
    "            \n",
    "   ?team wdt:P31 wd:Q13393265 ; #a basketball team\n",
    "        wdt:P118 wd:Q155223 .            #has league NBA\n",
    "    ?country sc:name ?name.\n",
    "} GROUP BY ?country ?name\n",
    "ORDER BY DESC(?nbplayers)\n",
    "LIMIT 20\n",
    "\"\"\"\n",
    "\n",
    "print(\"Results\")\n",
    "x=run_query(queryString)"
   ]
  },
  {
   "cell_type": "markdown",
   "id": "6be39c02",
   "metadata": {},
   "source": [
    "Final query for this task"
   ]
  },
  {
   "cell_type": "code",
   "execution_count": 28,
   "id": "31785ea9",
   "metadata": {},
   "outputs": [
    {
     "name": "stdout",
     "output_type": "stream",
     "text": [
      "Results\n",
      "[('continent', 'http://www.wikidata.org/entity/Q49'), ('name', 'North America'), ('nbplayers', '9521')]\n",
      "[('continent', 'http://www.wikidata.org/entity/Q538'), ('name', 'Insular Oceania'), ('nbplayers', '9352')]\n",
      "[('continent', 'http://www.wikidata.org/entity/Q46'), ('name', 'Europe'), ('nbplayers', '792')]\n",
      "[('continent', 'http://www.wikidata.org/entity/Q48'), ('name', 'Asia'), ('nbplayers', '178')]\n",
      "[('continent', 'http://www.wikidata.org/entity/Q15'), ('name', 'Africa'), ('nbplayers', '131')]\n",
      "[('continent', 'http://www.wikidata.org/entity/Q18'), ('name', 'South America'), ('nbplayers', '80')]\n",
      "[('continent', 'http://www.wikidata.org/entity/Q5401'), ('name', 'Eurasia'), ('nbplayers', '45')]\n",
      "7\n"
     ]
    }
   ],
   "source": [
    "# write your final query\n",
    "#doing it with the continent instead of the countries, still without the team thing.\n",
    "queryString = \"\"\"\n",
    "SELECT DISTINCT ?continent ?name (COUNT(?player) as ?nbplayers) WHERE {\n",
    "    ?player wdt:P106 wd:Q3665646 ; \n",
    "            wdt:P54 ?team ;\n",
    "            wdt:P27 ?country .   \n",
    "    ?team wdt:P31 wd:Q13393265 ; #a basketball team\n",
    "        wdt:P118 wd:Q155223 .            #has league NBA\n",
    "    ?country wdt:P30 ?continent.\n",
    "    ?continent sc:name ?name.\n",
    "} GROUP BY ?continent ?name\n",
    "ORDER BY DESC(?nbplayers)\n",
    "LIMIT 20\n",
    "\"\"\"\n",
    "\n",
    "print(\"Results\")\n",
    "x=run_query(queryString)\n"
   ]
  },
  {
   "cell_type": "markdown",
   "id": "85ff9589",
   "metadata": {},
   "source": [
    "## Task 8\n",
    "Identify the BGP for the NBA Defensive Player of the Year Award (see https://en.wikipedia.org/wiki/NBA_Defensive_Player_of_the_Year_Award)"
   ]
  },
  {
   "cell_type": "code",
   "execution_count": 34,
   "id": "4b4b3811",
   "metadata": {},
   "outputs": [
    {
     "name": "stdout",
     "output_type": "stream",
     "text": [
      "Results\n",
      "[('o', 'http://www.wikidata.org/entity/Q671622'), ('name', 'Arjuna Award')]\n",
      "[('o', 'http://www.wikidata.org/entity/Q5044310'), ('name', 'Carol Eckman Award')]\n",
      "[('o', 'http://www.wikidata.org/entity/Q913910'), ('name', 'Order of the Three Stars')]\n",
      "[('o', 'http://www.wikidata.org/entity/Q7569437'), ('name', \"Southeastern Conference Men's Basketball Player of the Year\")]\n",
      "[('o', 'http://www.wikidata.org/entity/Q16998141'), ('name', 'Kay Yow Award')]\n",
      "[('o', 'http://www.wikidata.org/entity/Q3304648'), ('name', \"Atlantic Coast Conference Men's Basketball Player of the Year\")]\n",
      "[('o', 'http://www.wikidata.org/entity/Q586458'), ('name', 'FIBA Hall of Fame')]\n",
      "[('o', 'http://www.wikidata.org/entity/Q644357'), ('name', 'NBA Rookie of the Year Award')]\n",
      "[('o', 'http://www.wikidata.org/entity/Q3869345'), ('name', 'NABC Defensive Player of the Year')]\n",
      "[('o', 'http://www.wikidata.org/entity/Q24915026'), ('name', 'WBCA Defensive Player of the Year')]\n",
      "[('o', 'http://www.wikidata.org/entity/Q18156668'), ('name', 'NBA Championship ring')]\n",
      "[('o', 'http://www.wikidata.org/entity/Q17017621'), ('name', \"list of Women's Basketball Academic All-America Team Members of the Year\")]\n",
      "[('o', 'http://www.wikidata.org/entity/Q30599288'), ('name', 'Honda Sports Award for Basketball')]\n",
      "[('o', 'http://www.wikidata.org/entity/Q4896643'), ('name', 'Best Female College Basketball Player ESPY Award')]\n",
      "[('o', 'http://www.wikidata.org/entity/Q4905619'), ('name', \"Big East Conference Women's Basketball Player of the Year\")]\n",
      "[('o', 'http://www.wikidata.org/entity/Q5892712'), ('name', 'Honda Sports Award')]\n",
      "[('o', 'http://www.wikidata.org/entity/Q28950956'), ('name', 'Horatio Alger Award')]\n",
      "[('o', 'http://www.wikidata.org/entity/Q1518653'), ('name', 'WNBA Finals Most Valuable Player Award')]\n",
      "[('o', 'http://www.wikidata.org/entity/Q2038865'), ('name', \"Women's Basketball Hall of Fame\")]\n",
      "[('o', 'http://www.wikidata.org/entity/Q5949350'), ('name', 'Huskies of Honor')]\n",
      "[('o', 'http://www.wikidata.org/entity/Q7781991'), ('name', 'Theodore Roosevelt Award')]\n",
      "[('o', 'http://www.wikidata.org/entity/Q5020532'), ('name', 'California Hall of Fame')]\n",
      "[('o', 'http://www.wikidata.org/entity/Q743122'), ('name', 'Associated Press Athlete of the Year')]\n",
      "[('o', 'http://www.wikidata.org/entity/Q5161648'), ('name', \"Connecticut Women's Hall of Fame\")]\n",
      "[('o', 'http://www.wikidata.org/entity/Q1629561'), ('name', 'Wade Trophy')]\n",
      "[('o', 'http://www.wikidata.org/entity/Q1741563'), ('name', 'Kim Perrot Sportsmanship Award')]\n",
      "[('o', 'http://www.wikidata.org/entity/Q29023922'), ('name', 'Honoured Coach of Russia')]\n",
      "[('o', 'http://www.wikidata.org/entity/Q3304681'), ('name', \"WNBA's Top 15 Team\")]\n",
      "[('o', 'http://www.wikidata.org/entity/Q592296'), ('name', 'Master of Sport of the USSR, International Class')]\n",
      "[('o', 'http://www.wikidata.org/entity/Q1204346'), ('name', 'Rhodes Scholarship')]\n",
      "[('o', 'http://www.wikidata.org/entity/Q14705795'), ('name', 'New Jersey Hall of Fame')]\n",
      "[('o', 'http://www.wikidata.org/entity/Q17985761'), ('name', 'star on Hollywood Walk of Fame')]\n",
      "[('o', 'http://www.wikidata.org/entity/Q5282987'), ('name', 'Distinguished Eagle Scout Award')]\n",
      "[('o', 'http://www.wikidata.org/entity/Q9387384'), ('name', 'Merited Master of Sports of the USSR')]\n",
      "[('o', 'http://www.wikidata.org/entity/Q1465181'), ('name', 'NBA All-Defensive Team')]\n",
      "[('o', 'http://www.wikidata.org/entity/Q674359'), ('name', 'All-NBA Team')]\n",
      "[('o', 'http://www.wikidata.org/entity/Q845884'), ('name', 'NBA Defensive Player of the Year Award')]\n",
      "[('o', 'http://www.wikidata.org/entity/Q29051287'), ('name', 'Honoured coach of the RSFSR')]\n",
      "[('o', 'http://www.wikidata.org/entity/Q25005193'), ('name', 'WBCA National Coach of the Year Award')]\n",
      "[('o', 'http://www.wikidata.org/entity/Q7934524'), ('name', 'Virginia Sports Hall of Fame and Museum')]\n",
      "[('o', 'http://www.wikidata.org/entity/Q918054'), ('name', 'NBA Coach of the Year Award')]\n",
      "[('o', 'http://www.wikidata.org/entity/Q1418009'), ('name', 'NBA All-Rookie Team')]\n",
      "[('o', 'http://www.wikidata.org/entity/Q1653207'), ('name', 'Sports Illustrated Sportsperson of the Year')]\n",
      "[('o', 'http://www.wikidata.org/entity/Q19030089'), ('name', 'Medal of the Order \"For Merit to the Fatherland\" II\\xa0class')]\n",
      "[('o', 'http://www.wikidata.org/entity/Q52454'), ('name', 'International Tennis Hall of Fame')]\n",
      "[('o', 'http://www.wikidata.org/entity/Q7865896'), ('name', 'USBWA National Freshman of the Year')]\n",
      "[('o', 'http://www.wikidata.org/entity/Q1418596'), ('name', 'NBA Sportsmanship Award')]\n",
      "[('o', 'http://www.wikidata.org/entity/Q3804134'), ('name', 'Italian Basketball Hall of Fame')]\n",
      "[('o', 'http://www.wikidata.org/entity/Q960966'), ('name', 'Order of the Badge of Honour')]\n",
      "[('o', 'http://www.wikidata.org/entity/Q2359180'), ('name', 'Medal \"For Labour Valour\"')]\n",
      "50\n"
     ]
    }
   ],
   "source": [
    "# write your queries\n",
    "# we found P166 \"award received\" when looking at the property of France we're gonna use that\n",
    "queryString = \"\"\"\n",
    "SELECT DISTINCT ?o ?name\n",
    "\n",
    "WHERE {\n",
    "    ?player wdt:P106 wd:Q3665646 ;\n",
    "            wdt:P166 ?o .\n",
    "    ?o sc:name ?name .\n",
    "}\n",
    "LIMIT 50\n",
    "\"\"\"\n",
    "\n",
    "print(\"Results\")\n",
    "x=run_query(queryString)\n"
   ]
  },
  {
   "cell_type": "markdown",
   "id": "d4bf5217",
   "metadata": {},
   "source": [
    "Final query for this task"
   ]
  },
  {
   "cell_type": "code",
   "execution_count": 3,
   "id": "9c2196f6",
   "metadata": {},
   "outputs": [
    {
     "name": "stdout",
     "output_type": "stream",
     "text": [
      "Results\n",
      "[('o', 'http://www.wikidata.org/entity/Q644357'), ('name', 'NBA Rookie of the Year Award')]\n",
      "[('o', 'http://www.wikidata.org/entity/Q18156668'), ('name', 'NBA Championship ring')]\n",
      "[('o', 'http://www.wikidata.org/entity/Q1465181'), ('name', 'NBA All-Defensive Team')]\n",
      "[('o', 'http://www.wikidata.org/entity/Q845884'), ('name', 'NBA Defensive Player of the Year Award')]\n",
      "[('o', 'http://www.wikidata.org/entity/Q918054'), ('name', 'NBA Coach of the Year Award')]\n",
      "[('o', 'http://www.wikidata.org/entity/Q1418009'), ('name', 'NBA All-Rookie Team')]\n",
      "[('o', 'http://www.wikidata.org/entity/Q1418596'), ('name', 'NBA Sportsmanship Award')]\n",
      "[('o', 'http://www.wikidata.org/entity/Q388970'), ('name', 'NBA Executive of the Year Award')]\n",
      "[('o', 'http://www.wikidata.org/entity/Q222047'), ('name', 'NBA Most Valuable Player Award')]\n",
      "[('o', 'http://www.wikidata.org/entity/Q1125399'), ('name', 'NBA Most Improved Player Award')]\n",
      "[('o', 'http://www.wikidata.org/entity/Q137341'), ('name', 'NBA All-Star Game')]\n",
      "[('o', 'http://www.wikidata.org/entity/Q31391'), ('name', 'NBA All-Star Game Kobe Bryant Most Valuable Player Award')]\n",
      "[('o', 'http://www.wikidata.org/entity/Q17182534'), ('name', 'NBA Development League All-Star Game Most Valuable Player Award')]\n",
      "[('o', 'http://www.wikidata.org/entity/Q844517'), ('name', 'NBA Sixth Man of the Year Award')]\n",
      "[('o', 'http://www.wikidata.org/entity/Q17062168'), ('name', 'NBA')]\n",
      "[('o', 'http://www.wikidata.org/entity/Q24895583'), ('name', 'NBA Development League Basketball Executive of the Year Award')]\n",
      "16\n"
     ]
    }
   ],
   "source": [
    "# write your final query\n",
    "queryString = \"\"\"\n",
    "SELECT DISTINCT ?o ?name\n",
    "\n",
    "WHERE {\n",
    "    ?player wdt:P106 wd:Q3665646 ;\n",
    "            wdt:P166 ?o .\n",
    "    ?o sc:name ?name .\n",
    "    FILTER REGEX(?name, \"^NBA.*\")\n",
    "}\n",
    "LIMIT 20\n",
    "\"\"\"\n",
    "\n",
    "print(\"Results\")\n",
    "x=run_query(queryString)\n"
   ]
  },
  {
   "cell_type": "markdown",
   "id": "645c4905",
   "metadata": {},
   "source": [
    "## Task 9\n",
    "Consider the players who won the NBA Defensive Player of the Year Award. Return for these players the number of NBA Defensive Player of the Year Award won in their career (the result set must be triples of player IRI, label and #victories)"
   ]
  },
  {
   "cell_type": "code",
   "execution_count": 13,
   "id": "00d78e23",
   "metadata": {},
   "outputs": [
    {
     "name": "stdout",
     "output_type": "stream",
     "text": [
      "Results\n",
      "[('player', 'http://www.wikidata.org/entity/Q177928'), ('name', 'Sidney Moncrief')]\n",
      "[('player', 'http://www.wikidata.org/entity/Q310968'), ('name', 'Alonzo Mourning')]\n",
      "[('player', 'http://www.wikidata.org/entity/Q971538'), ('name', 'Michael Cooper')]\n",
      "[('player', 'http://www.wikidata.org/entity/Q189240'), ('name', 'Kevin Garnett')]\n",
      "[('player', 'http://www.wikidata.org/entity/Q41421'), ('name', 'Michael Jordan')]\n",
      "[('player', 'http://www.wikidata.org/entity/Q273256'), ('name', 'Hakeem Olajuwon')]\n",
      "[('player', 'http://www.wikidata.org/entity/Q211876'), ('name', 'David Robinson')]\n",
      "[('player', 'http://www.wikidata.org/entity/Q361134'), ('name', 'Marcus Camby')]\n",
      "[('player', 'http://www.wikidata.org/entity/Q295322'), ('name', 'Metta Sandiford-Artest')]\n",
      "[('player', 'http://www.wikidata.org/entity/Q926248'), ('name', 'Kawhi Leonard')]\n",
      "[('player', 'http://www.wikidata.org/entity/Q311735'), ('name', 'Joakim Noah')]\n",
      "[('player', 'http://www.wikidata.org/entity/Q449245'), ('name', 'Alvin Robertson')]\n",
      "[('player', 'http://www.wikidata.org/entity/Q201608'), ('name', 'Dennis Rodman')]\n",
      "[('player', 'http://www.wikidata.org/entity/Q25278'), ('name', 'Dwight Howard')]\n",
      "[('player', 'http://www.wikidata.org/entity/Q275889'), ('name', 'Marc Gasol')]\n",
      "[('player', 'http://www.wikidata.org/entity/Q295364'), ('name', 'Ben Wallace')]\n",
      "[('player', 'http://www.wikidata.org/entity/Q309872'), ('name', 'Gary Payton')]\n",
      "[('player', 'http://www.wikidata.org/entity/Q313481'), ('name', 'Dikembe Mutombo')]\n",
      "[('player', 'http://www.wikidata.org/entity/Q357757'), ('name', 'Mark Eaton')]\n",
      "[('player', 'http://www.wikidata.org/entity/Q8991894'), ('name', 'Giannis Antetokounmpo')]\n",
      "[('player', 'http://www.wikidata.org/entity/Q297146'), ('name', 'Tyson Chandler')]\n",
      "[('player', 'http://www.wikidata.org/entity/Q3446792'), ('name', 'Rudy Gobert')]\n",
      "22\n"
     ]
    }
   ],
   "source": [
    "# write your queries\n",
    "# it seems that there is noone who win this award more than one time in the data given(which is strange since according to wikipedia, some people won it multiple times)\n",
    "queryString = \"\"\"\n",
    "SELECT DISTINCT ?player ?name\n",
    "\n",
    "WHERE {\n",
    "    ?player wdt:P106 wd:Q3665646 ;\n",
    "            wdt:P166 wd:Q845884 ;\n",
    "            sc:name ?name.\n",
    "}\n",
    "LIMIT 50\n",
    "\"\"\"\n",
    "\n",
    "print(\"Results\")\n",
    "x=run_query(queryString)"
   ]
  },
  {
   "cell_type": "code",
   "execution_count": 12,
   "id": "7015a6fe-802e-4e30-a11c-b812ced98d7d",
   "metadata": {},
   "outputs": [
    {
     "name": "stdout",
     "output_type": "stream",
     "text": [
      "Results\n",
      "[('p', 'http://www.wikidata.org/prop/direct/P1346'), ('name', 'winner'), ('o', 'http://www.wikidata.org/entity/Q177928'), ('nameo', 'Sidney Moncrief')]\n",
      "[('p', 'http://www.wikidata.org/prop/direct/P31'), ('name', 'instance of'), ('o', 'http://www.wikidata.org/entity/Q618779'), ('nameo', 'award')]\n",
      "[('p', 'http://www.wikidata.org/prop/direct/P1346'), ('name', 'winner'), ('o', 'http://www.wikidata.org/entity/Q310968'), ('nameo', 'Alonzo Mourning')]\n",
      "[('p', 'http://www.wikidata.org/prop/direct/P641'), ('name', 'sport'), ('o', 'http://www.wikidata.org/entity/Q5372'), ('nameo', 'basketball')]\n",
      "[('p', 'http://www.wikidata.org/prop/direct/P1346'), ('name', 'winner'), ('o', 'http://www.wikidata.org/entity/Q971538'), ('nameo', 'Michael Cooper')]\n",
      "[('p', 'http://www.wikidata.org/prop/direct/P1346'), ('name', 'winner'), ('o', 'http://www.wikidata.org/entity/Q189240'), ('nameo', 'Kevin Garnett')]\n",
      "[('p', 'http://www.wikidata.org/prop/direct/P1346'), ('name', 'winner'), ('o', 'http://www.wikidata.org/entity/Q41421'), ('nameo', 'Michael Jordan')]\n",
      "[('p', 'http://www.wikidata.org/prop/direct/P31'), ('name', 'instance of'), ('o', 'http://www.wikidata.org/entity/Q38033430'), ('nameo', 'class of award')]\n",
      "[('p', 'http://www.wikidata.org/prop/direct/P1346'), ('name', 'winner'), ('o', 'http://www.wikidata.org/entity/Q273256'), ('nameo', 'Hakeem Olajuwon')]\n",
      "[('p', 'http://www.wikidata.org/prop/direct/P1346'), ('name', 'winner'), ('o', 'http://www.wikidata.org/entity/Q211876'), ('nameo', 'David Robinson')]\n",
      "[('p', 'http://www.wikidata.org/prop/direct/P1346'), ('name', 'winner'), ('o', 'http://www.wikidata.org/entity/Q361134'), ('nameo', 'Marcus Camby')]\n",
      "[('p', 'http://www.wikidata.org/prop/direct/P1346'), ('name', 'winner'), ('o', 'http://www.wikidata.org/entity/Q295322'), ('nameo', 'Metta Sandiford-Artest')]\n",
      "[('p', 'http://www.wikidata.org/prop/direct/P31'), ('name', 'instance of'), ('o', 'http://www.wikidata.org/entity/Q15623926'), ('nameo', 'Wikimedia set index article')]\n",
      "[('p', 'http://www.wikidata.org/prop/direct/P1346'), ('name', 'winner'), ('o', 'http://www.wikidata.org/entity/Q926248'), ('nameo', 'Kawhi Leonard')]\n",
      "[('p', 'http://www.wikidata.org/prop/direct/P1346'), ('name', 'winner'), ('o', 'http://www.wikidata.org/entity/Q311735'), ('nameo', 'Joakim Noah')]\n",
      "[('p', 'http://www.wikidata.org/prop/direct/P1346'), ('name', 'winner'), ('o', 'http://www.wikidata.org/entity/Q449245'), ('nameo', 'Alvin Robertson')]\n",
      "[('p', 'http://www.wikidata.org/prop/direct/P1346'), ('name', 'winner'), ('o', 'http://www.wikidata.org/entity/Q201608'), ('nameo', 'Dennis Rodman')]\n",
      "[('p', 'http://www.wikidata.org/prop/direct/P1346'), ('name', 'winner'), ('o', 'http://www.wikidata.org/entity/Q25278'), ('nameo', 'Dwight Howard')]\n",
      "[('p', 'http://www.wikidata.org/prop/direct/P1346'), ('name', 'winner'), ('o', 'http://www.wikidata.org/entity/Q275889'), ('nameo', 'Marc Gasol')]\n",
      "[('p', 'http://www.wikidata.org/prop/direct/P1346'), ('name', 'winner'), ('o', 'http://www.wikidata.org/entity/Q295364'), ('nameo', 'Ben Wallace')]\n",
      "[('p', 'http://www.wikidata.org/prop/direct/P1346'), ('name', 'winner'), ('o', 'http://www.wikidata.org/entity/Q309872'), ('nameo', 'Gary Payton')]\n",
      "[('p', 'http://www.wikidata.org/prop/direct/P1346'), ('name', 'winner'), ('o', 'http://www.wikidata.org/entity/Q313481'), ('nameo', 'Dikembe Mutombo')]\n",
      "[('p', 'http://www.wikidata.org/prop/direct/P1346'), ('name', 'winner'), ('o', 'http://www.wikidata.org/entity/Q357757'), ('nameo', 'Mark Eaton')]\n",
      "[('p', 'http://www.wikidata.org/prop/direct/P1346'), ('name', 'winner'), ('o', 'http://www.wikidata.org/entity/Q297146'), ('nameo', 'Tyson Chandler')]\n",
      "24\n"
     ]
    }
   ],
   "source": [
    "queryString = \"\"\"\n",
    "SELECT DISTINCT ?p ?name ?o ?nameo\n",
    "\n",
    "WHERE {\n",
    "    wd:Q845884 ?p ?o.\n",
    "    ?p sc:name ?name.\n",
    "    ?o sc:name ?nameo.\n",
    "}\n",
    "LIMIT 50\n",
    "\"\"\"\n",
    "\n",
    "print(\"Results\")\n",
    "x=run_query(queryString)"
   ]
  },
  {
   "cell_type": "markdown",
   "id": "4b014f26",
   "metadata": {},
   "source": [
    "Final query for this task"
   ]
  },
  {
   "cell_type": "code",
   "execution_count": 9,
   "id": "cd15a989",
   "metadata": {},
   "outputs": [
    {
     "name": "stdout",
     "output_type": "stream",
     "text": [
      "Results\n",
      "[('player', 'http://www.wikidata.org/entity/Q41421'), ('name', 'Michael Jordan'), ('victory', '1')]\n",
      "[('player', 'http://www.wikidata.org/entity/Q311735'), ('name', 'Joakim Noah'), ('victory', '1')]\n",
      "[('player', 'http://www.wikidata.org/entity/Q926248'), ('name', 'Kawhi Leonard'), ('victory', '1')]\n",
      "[('player', 'http://www.wikidata.org/entity/Q8991894'), ('name', 'Giannis Antetokounmpo'), ('victory', '1')]\n",
      "[('player', 'http://www.wikidata.org/entity/Q25278'), ('name', 'Dwight Howard'), ('victory', '1')]\n",
      "[('player', 'http://www.wikidata.org/entity/Q295364'), ('name', 'Ben Wallace'), ('victory', '1')]\n",
      "[('player', 'http://www.wikidata.org/entity/Q971538'), ('name', 'Michael Cooper'), ('victory', '1')]\n",
      "[('player', 'http://www.wikidata.org/entity/Q3446792'), ('name', 'Rudy Gobert'), ('victory', '1')]\n",
      "[('player', 'http://www.wikidata.org/entity/Q310968'), ('name', 'Alonzo Mourning'), ('victory', '1')]\n",
      "[('player', 'http://www.wikidata.org/entity/Q361134'), ('name', 'Marcus Camby'), ('victory', '1')]\n",
      "[('player', 'http://www.wikidata.org/entity/Q297146'), ('name', 'Tyson Chandler'), ('victory', '1')]\n",
      "[('player', 'http://www.wikidata.org/entity/Q273256'), ('name', 'Hakeem Olajuwon'), ('victory', '1')]\n",
      "[('player', 'http://www.wikidata.org/entity/Q449245'), ('name', 'Alvin Robertson'), ('victory', '1')]\n",
      "[('player', 'http://www.wikidata.org/entity/Q275889'), ('name', 'Marc Gasol'), ('victory', '1')]\n",
      "[('player', 'http://www.wikidata.org/entity/Q357757'), ('name', 'Mark Eaton'), ('victory', '1')]\n",
      "[('player', 'http://www.wikidata.org/entity/Q211876'), ('name', 'David Robinson'), ('victory', '1')]\n",
      "[('player', 'http://www.wikidata.org/entity/Q309872'), ('name', 'Gary Payton'), ('victory', '1')]\n",
      "[('player', 'http://www.wikidata.org/entity/Q189240'), ('name', 'Kevin Garnett'), ('victory', '1')]\n",
      "[('player', 'http://www.wikidata.org/entity/Q201608'), ('name', 'Dennis Rodman'), ('victory', '1')]\n",
      "[('player', 'http://www.wikidata.org/entity/Q313481'), ('name', 'Dikembe Mutombo'), ('victory', '1')]\n",
      "[('player', 'http://www.wikidata.org/entity/Q177928'), ('name', 'Sidney Moncrief'), ('victory', '1')]\n",
      "[('player', 'http://www.wikidata.org/entity/Q295322'), ('name', 'Metta Sandiford-Artest'), ('victory', '1')]\n",
      "22\n"
     ]
    }
   ],
   "source": [
    "# write your final query\n",
    "queryString = \"\"\"\n",
    "SELECT DISTINCT ?player ?name (COUNT(?player) as ?victory)\n",
    "\n",
    "WHERE {\n",
    "    ?player wdt:P106 wd:Q3665646 ;\n",
    "            wdt:P166 wd:Q845884 ;\n",
    "            sc:name ?name.\n",
    "}\n",
    "LIMIT 50\n",
    "\"\"\"\n",
    "\n",
    "print(\"Results\")\n",
    "x=run_query(queryString)"
   ]
  }
 ],
 "metadata": {
  "kernelspec": {
   "display_name": "Python 3 (ipykernel)",
   "language": "python",
   "name": "python3"
  },
  "language_info": {
   "codemirror_mode": {
    "name": "ipython",
    "version": 3
   },
   "file_extension": ".py",
   "mimetype": "text/x-python",
   "name": "python",
   "nbconvert_exporter": "python",
   "pygments_lexer": "ipython3",
   "version": "3.7.10"
  }
 },
 "nbformat": 4,
 "nbformat_minor": 5
}
