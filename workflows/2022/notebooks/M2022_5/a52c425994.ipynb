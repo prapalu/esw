{
 "cells": [
  {
   "cell_type": "markdown",
   "id": "aae3948a-4d2e-4634-a875-753591b92205",
   "metadata": {},
   "source": [
    "# General instructions\n",
    "\n",
    "The goal of the project is to materialize a set of **exploratory workloads** over a real-world, large-scale,  open-domain KG: [WikiData](https://www.wikidata.org/wiki/Wikidata:Main_Page)\n",
    "\n",
    "An exploratory workload  is composed by a set of queries, where each query is related to the information obtained previously.\n",
    "\n",
    "An exploratory workload starts with a usually vague, open ended question, and does not assume the person issuing the workload has a clear understanding of the data contained in the target database or its structure.\n",
    "\n",
    "Remeber that:\n",
    "\n",
    "1. All the queries must run in the python notebook\n",
    "2. You can use classes and properties only if you find them via a SPARQL query that must be present in the notebook\n",
    "3. You do not delete useless queries. Keep everything that is synthatically valid \n",
    "\n",
    "```\n",
    "?p <http://schema.org/name> ?name .\n",
    "```\n",
    "    \n",
    "    is the BGP returning a human-readable name of a property or a class in Wikidata."
   ]
  },
  {
   "cell_type": "code",
   "execution_count": 1,
   "id": "e332f8d0",
   "metadata": {},
   "outputs": [],
   "source": [
    "## SETUP used later\n",
    "\n",
    "from SPARQLWrapper import SPARQLWrapper, JSON\n",
    "\n",
    "\n",
    "prefixString = \"\"\"\n",
    "##-a52c425994-##\n",
    "PREFIX wd: <http://www.wikidata.org/entity/> \n",
    "PREFIX wdt: <http://www.wikidata.org/prop/direct/> \n",
    "PREFIX sc: <http://schema.org/>\n",
    "\"\"\"\n",
    "\n",
    "# select and construct queries\n",
    "def run_query(queryString,verbose = True):\n",
    "    to_run = prefixString + \"\\n\" + queryString\n",
    "\n",
    "    sparql = SPARQLWrapper(\"http://a256-gc1-03.srv.aau.dk:5820/sparql\")\n",
    "    sparql.setTimeout(300)\n",
    "    sparql.setReturnFormat(JSON)\n",
    "    sparql.setQuery(to_run)\n",
    "\n",
    "    try :\n",
    "        results = sparql.query()\n",
    "        json_results = results.convert()\n",
    "        if len(json_results['results']['bindings'])==0:\n",
    "            print(\"Empty\")\n",
    "            return []\n",
    "        array = []\n",
    "        for bindings in json_results['results']['bindings']:\n",
    "            app =  [ (var, value['value'])  for var, value in bindings.items() ] \n",
    "            if verbose:\n",
    "                print( app)\n",
    "            array.append(app)\n",
    "        if verbose:\n",
    "            print(len(array))\n",
    "        return array\n",
    "\n",
    "    except Exception as e :\n",
    "        print(\"The operation failed\", e)\n",
    "    \n",
    "# ASk queries\n",
    "def run_ask_query(queryString):\n",
    "    to_run = prefixString + \"\\n\" + queryString\n",
    "\n",
    "    sparql = SPARQLWrapper(\"http://a256-gc1-03.srv.aau.dk:5820/sparql\")\n",
    "    sparql.setTimeout(300)\n",
    "    sparql.setReturnFormat(JSON)\n",
    "    sparql.setQuery(to_run)\n",
    "\n",
    "    try :\n",
    "        return sparql.query().convert()\n",
    "\n",
    "    except Exception as e :\n",
    "        print(\"The operation failed\", e)"
   ]
  },
  {
   "cell_type": "markdown",
   "id": "b425a1ee",
   "metadata": {},
   "source": [
    "# History Workflow Series (\"Literary Movements and Divine Comedy explorative search\") \n",
    "\n",
    "Consider the following exploratory information need:\n",
    "\n",
    "> investigate the literary movements and the poets. In particular, compare some italian poets in terms of place of birth, number of literary works and education."
   ]
  },
  {
   "cell_type": "markdown",
   "id": "5a3b27d3",
   "metadata": {},
   "source": [
    "## Useful URIs for the current workflow\n",
    "The following are given:\n",
    "\n",
    "| IRI           | Description   | Role      |\n",
    "| -----------   | -----------   |-----------|\n",
    "| `wdt:P1647`   | subproperty   | predicate |\n",
    "| `wdt:P31`     | instance of   | predicate |\n",
    "| `wdt:P106`    | occupation    | predicate | \n",
    "| `wdt:P279`    | subclass      | predicate |\n",
    "| `wdt:P27`     | nationality   | predicate |\n",
    "| `wdt:P3342`     | Significant person       | predicate |\n",
    "| `wd:Q5`| Human       | node |\n",
    "| `wd:Q40185`| The Divine Comedy  | node |\n"
   ]
  },
  {
   "cell_type": "markdown",
   "id": "e056170b",
   "metadata": {},
   "source": [
    "\n",
    "\n",
    "\n",
    "Also consider\n",
    "\n",
    "```\n",
    "wd:Q40185 ?p ?obj .\n",
    "```\n",
    "\n",
    "is the BGP to retrieve all **properties of The Divine Comedy**\n",
    "\n",
    "Please consider that when you return a resource, you should return the IRI and the label of the resource. In particular, when the task require you to identify a BGP the result set must always be a list of couples IRI - label.\n",
    "\n",
    "The workload should:\n",
    "\n",
    "1. Who wrote The Divine Comedy? (return the IRI and the label of the author)\n",
    "\n",
    "2. Identify the BGP for poet\n",
    "\n",
    "3. Identify the BGP for literary movement\n",
    "\n",
    "4. Return the poets born in the same place of the author of The Divine Comedy who are born between 1300 and 1500 (1300 and 1500 included) (the result set must be a list of couples poets IRI and label).\n",
    "\n",
    "5. Identify the BGP for literary work\n",
    "\n",
    "6. Compare the author of The Divine Comedy with Giovanni Boccaccio. Return for these poets the number of literary work they wrote (the result set must be two triples -one for each author- author IRI, label and #literary work).\n",
    "\n",
    "7. Consider italian poets, their place of birth (the city) and their university education. Return for each city the number of poets who born there and who was educated there (the result set must be a list of triples city IRI, label and #poets).\n",
    "\n",
    "8. Return the italian poets who won the Nobel Prize in Literature (the result set must be poet IRI and label). "
   ]
  },
  {
   "cell_type": "markdown",
   "id": "700ddc14",
   "metadata": {},
   "source": [
    "## Task 1\n",
    "Who wrote The Divine Comedy? (return the IRI and the label of the author)"
   ]
  },
  {
   "cell_type": "code",
   "execution_count": 3,
   "id": "a96a27ea",
   "metadata": {},
   "outputs": [
    {
     "name": "stdout",
     "output_type": "stream",
     "text": [
      "Results\n",
      "[('p', 'http://www.wikidata.org/prop/direct/P2551'), ('name', 'used metre')]\n",
      "[('p', 'http://www.wikidata.org/prop/direct/P1273'), ('name', 'CANTIC ID')]\n",
      "[('p', 'http://www.wikidata.org/prop/direct/P1296'), ('name', 'Gran Enciclopèdia Catalana ID')]\n",
      "[('p', 'http://www.wikidata.org/prop/direct/P1343'), ('name', 'described by source')]\n",
      "[('p', 'http://www.wikidata.org/prop/direct/P136'), ('name', 'genre')]\n",
      "[('p', 'http://www.wikidata.org/prop/direct/P1417'), ('name', 'Encyclopædia Britannica Online ID')]\n",
      "[('p', 'http://www.wikidata.org/prop/direct/P18'), ('name', 'image')]\n",
      "[('p', 'http://www.wikidata.org/prop/direct/P1889'), ('name', 'different from')]\n",
      "[('p', 'http://www.wikidata.org/prop/direct/P214'), ('name', 'VIAF ID')]\n",
      "[('p', 'http://www.wikidata.org/prop/direct/P227'), ('name', 'GND ID')]\n",
      "[('p', 'http://www.wikidata.org/prop/direct/P244'), ('name', 'Library of Congress authority ID')]\n",
      "[('p', 'http://www.wikidata.org/prop/direct/P268'), ('name', 'Bibliothèque nationale de France ID')]\n",
      "[('p', 'http://www.wikidata.org/prop/direct/P269'), ('name', 'IdRef ID')]\n",
      "[('p', 'http://www.wikidata.org/prop/direct/P31'), ('name', 'instance of')]\n",
      "[('p', 'http://www.wikidata.org/prop/direct/P3219'), ('name', 'Encyclopædia Universalis ID')]\n",
      "[('p', 'http://www.wikidata.org/prop/direct/P3417'), ('name', 'Quora topic ID')]\n",
      "[('p', 'http://www.wikidata.org/prop/direct/P373'), ('name', 'Commons category')]\n",
      "[('p', 'http://www.wikidata.org/prop/direct/P407'), ('name', 'language of work or name')]\n",
      "[('p', 'http://www.wikidata.org/prop/direct/P409'), ('name', 'Libraries Australia ID')]\n",
      "[('p', 'http://www.wikidata.org/prop/direct/P435'), ('name', 'MusicBrainz work ID')]\n",
      "[('p', 'http://www.wikidata.org/prop/direct/P50'), ('name', 'author')]\n",
      "[('p', 'http://www.wikidata.org/prop/direct/P5063'), ('name', 'Interlingual Index ID')]\n",
      "[('p', 'http://www.wikidata.org/prop/direct/P527'), ('name', 'has part')]\n",
      "[('p', 'http://www.wikidata.org/prop/direct/P571'), ('name', 'inception')]\n",
      "[('p', 'http://www.wikidata.org/prop/direct/P5986'), ('name', 'Getty Iconography Authority ID')]\n",
      "[('p', 'http://www.wikidata.org/prop/direct/P646'), ('name', 'Freebase ID')]\n",
      "[('p', 'http://www.wikidata.org/prop/direct/P674'), ('name', 'characters')]\n",
      "[('p', 'http://www.wikidata.org/prop/direct/P6839'), ('name', 'TV Tropes identifier')]\n",
      "[('p', 'http://www.wikidata.org/prop/direct/P691'), ('name', 'NKCR AUT ID')]\n",
      "[('p', 'http://www.wikidata.org/prop/direct/P7314'), ('name', 'TDV İslam Ansiklopedisi ID')]\n",
      "[('p', 'http://www.wikidata.org/prop/direct/P747'), ('name', 'has edition or translation')]\n",
      "[('p', 'http://www.wikidata.org/prop/direct/P8189'), ('name', 'National Library of Israel J9U ID')]\n",
      "[('p', 'http://www.wikidata.org/prop/direct/P8248'), ('name', 'Colon Classification')]\n",
      "[('p', 'http://www.wikidata.org/prop/direct/P8408'), ('name', 'KBpedia ID')]\n",
      "[('p', 'http://www.wikidata.org/prop/direct/P8885'), ('name', 'Namuwiki ID')]\n",
      "[('p', 'http://www.wikidata.org/prop/direct/P906'), ('name', 'SELIBR ID')]\n",
      "[('p', 'http://www.wikidata.org/prop/direct/P910'), ('name', \"topic's main category\")]\n",
      "[('p', 'http://www.wikidata.org/prop/direct/P9223'), ('name', 'Provenio UUID')]\n",
      "[('p', 'http://www.wikidata.org/prop/direct/P9322'), ('name', 'SVKKL authority ID')]\n",
      "[('p', 'http://www.wikidata.org/prop/direct/P949'), ('name', 'National Library of Israel ID')]\n",
      "[('p', 'http://www.wikidata.org/prop/direct/P950'), ('name', 'Biblioteca Nacional de España ID')]\n",
      "[('p', 'http://www.wikidata.org/prop/direct/P1274'), ('name', 'ISFDB title ID')]\n",
      "[('p', 'http://www.wikidata.org/prop/direct/P6175'), ('name', 'Bitraga work ID')]\n",
      "[('p', 'http://www.wikidata.org/prop/direct/P8359'), ('name', 'Dewey Decimal Classification (works and editions)')]\n",
      "[('p', 'http://www.wikidata.org/prop/direct/P2034'), ('name', 'Project Gutenberg ebook ID')]\n",
      "[('p', 'http://www.wikidata.org/prop/direct/P3976'), ('name', 'BVMC work ID')]\n",
      "46\n"
     ]
    }
   ],
   "source": [
    "# query example\n",
    "queryString = \"\"\"\n",
    "SELECT DISTINCT ?p ?name\n",
    "WHERE {\n",
    "   # bind something\n",
    "   wd:Q40185 ?p ?obj .\n",
    "   # get the label\n",
    "   ?p sc:name ?name.\n",
    "}\n",
    "LIMIT 50\n",
    "\"\"\"\n",
    "\n",
    "print(\"Results\")\n",
    "x=run_query(queryString)"
   ]
  },
  {
   "cell_type": "markdown",
   "id": "1c363e9c",
   "metadata": {},
   "source": [
    "Final query for this task"
   ]
  },
  {
   "cell_type": "code",
   "execution_count": 116,
   "id": "19ebdd9e",
   "metadata": {},
   "outputs": [
    {
     "name": "stdout",
     "output_type": "stream",
     "text": [
      "Results\n",
      "[('obj', 'http://www.wikidata.org/entity/Q1067'), ('name', 'Dante Alighieri')]\n",
      "1\n"
     ]
    }
   ],
   "source": [
    "queryString = \"\"\"\n",
    "SELECT ?obj ?name\n",
    "WHERE {\n",
    "\n",
    "   # Get the author of The Divine Comedy\n",
    "   wd:Q40185 wdt:P50 ?obj .\n",
    "   ?obj sc:name ?name.\n",
    "}\n",
    "LIMIT 50\n",
    "\"\"\"\n",
    "\n",
    "print(\"Results\")\n",
    "x=run_query(queryString)"
   ]
  },
  {
   "cell_type": "markdown",
   "id": "56e420da",
   "metadata": {},
   "source": [
    "## Task 2\n",
    "Identify the BGP for poet"
   ]
  },
  {
   "cell_type": "code",
   "execution_count": 4,
   "id": "5be1d185",
   "metadata": {},
   "outputs": [
    {
     "name": "stdout",
     "output_type": "stream",
     "text": [
      "Results\n",
      "[('obj', 'http://www.wikidata.org/entity/Q1398'), ('name', 'Virgil')]\n",
      "[('obj', 'http://www.wikidata.org/entity/Q9438'), ('name', 'Thomas Aquinas')]\n",
      "[('obj', 'http://www.wikidata.org/entity/Q24633474'), ('name', 'audio podcast')]\n",
      "[('obj', 'http://www.wikidata.org/entity/Q728592'), ('name', \"Cecco d'Ascoli\")]\n",
      "[('obj', 'http://www.wikidata.org/entity/Q18084'), ('name', 'Vita Nuova')]\n",
      "[('obj', 'http://www.wikidata.org/entity/Q102851'), ('name', 'Boethius')]\n",
      "[('obj', 'http://www.wikidata.org/entity/Q12144794'), ('name', 'prosaist')]\n",
      "[('obj', 'http://www.wikidata.org/entity/Q148540'), ('name', 'Republic of Florence')]\n",
      "[('obj', 'http://www.wikidata.org/entity/Q15994177'), ('name', 'political theorist')]\n",
      "[('obj', 'http://www.wikidata.org/entity/Q1700481'), ('name', 'Minneapolis Institute of Art')]\n",
      "[('obj', 'http://www.wikidata.org/entity/Q1841'), ('name', 'Catholicism')]\n",
      "[('obj', 'http://www.wikidata.org/entity/Q19180675'), ('name', 'Small Brockhaus and Efron Encyclopedic Dictionary')]\n",
      "[('obj', 'http://www.wikidata.org/entity/Q20078554'), ('name', 'Great Soviet Encyclopedia (1926–1947)')]\n",
      "[('obj', 'http://www.wikidata.org/entity/Q2041543'), ('name', 'Ottův slovník naučný')]\n",
      "[('obj', 'http://www.wikidata.org/entity/Q2044'), ('name', 'Florence')]\n",
      "[('obj', 'http://www.wikidata.org/entity/Q2044'), ('name', 'Florence')]\n",
      "[('obj', 'http://www.wikidata.org/entity/Q20743760'), ('name', 'Encyclopedia of Political Theory (2010 ed.)')]\n",
      "[('obj', 'http://www.wikidata.org/entity/Q214867'), ('name', 'National Gallery of Art')]\n",
      "[('obj', 'http://www.wikidata.org/entity/Q302556'), ('name', 'Catholic Encyclopedia')]\n",
      "[('obj', 'http://www.wikidata.org/entity/Q3181656'), ('name', 'The Nuttall Encyclopædia')]\n",
      "[('obj', 'http://www.wikidata.org/entity/Q34943'), ('name', 'Ptolemy')]\n",
      "[('obj', 'http://www.wikidata.org/entity/Q36180'), ('name', 'writer')]\n",
      "[('obj', 'http://www.wikidata.org/entity/Q3739104'), ('name', 'natural causes')]\n",
      "[('obj', 'http://www.wikidata.org/entity/Q397'), ('name', 'Latin')]\n",
      "[('obj', 'http://www.wikidata.org/entity/Q397'), ('name', 'Latin')]\n",
      "[('obj', 'http://www.wikidata.org/entity/Q40185'), ('name', 'The Divine Comedy')]\n",
      "[('obj', 'http://www.wikidata.org/entity/Q4173137'), ('name', 'Jewish Encyclopedia of Brockhaus and Efron')]\n",
      "[('obj', 'http://www.wikidata.org/entity/Q482'), ('name', 'poetry')]\n",
      "[('obj', 'http://www.wikidata.org/entity/Q482980'), ('name', 'author')]\n",
      "[('obj', 'http://www.wikidata.org/entity/Q4964182'), ('name', 'philosopher')]\n",
      "[('obj', 'http://www.wikidata.org/entity/Q49757'), ('name', 'poet')]\n",
      "[('obj', 'http://www.wikidata.org/entity/Q5'), ('name', 'human')]\n",
      "[('obj', 'http://www.wikidata.org/entity/Q50001'), ('name', 'Italians')]\n",
      "[('obj', 'http://www.wikidata.org/entity/Q51955019'), ('name', 'BEIC Digital Library')]\n",
      "[('obj', 'http://www.wikidata.org/entity/Q5460604'), ('name', 'Wikipedia:Vital articles')]\n",
      "[('obj', 'http://www.wikidata.org/entity/Q602358'), ('name', 'Brockhaus and Efron Encyclopedic Dictionary')]\n",
      "[('obj', 'http://www.wikidata.org/entity/Q652'), ('name', 'Italian')]\n",
      "[('obj', 'http://www.wikidata.org/entity/Q652'), ('name', 'Italian')]\n",
      "[('obj', 'http://www.wikidata.org/entity/Q652'), ('name', 'Italian')]\n",
      "[('obj', 'http://www.wikidata.org/entity/Q6581097'), ('name', 'male')]\n",
      "[('obj', 'http://www.wikidata.org/entity/Q6691'), ('name', 'Homer')]\n",
      "[('obj', 'http://www.wikidata.org/entity/Q67311526'), ('name', 'Obalky knih.cz')]\n",
      "[('obj', 'http://www.wikidata.org/entity/Q71887839'), ('name', 'copyrights on works have expired')]\n",
      "[('obj', 'http://www.wikidata.org/entity/Q7198'), ('name', 'Ovid')]\n",
      "[('obj', 'http://www.wikidata.org/entity/Q822146'), ('name', 'lyricist')]\n",
      "[('obj', 'http://www.wikidata.org/entity/Q82955'), ('name', 'politician')]\n",
      "[('obj', 'http://www.wikidata.org/entity/Q867541'), ('name', 'Encyclopædia Britannica 11th edition')]\n",
      "[('obj', 'http://www.wikidata.org/entity/Q868'), ('name', 'Aristotle')]\n",
      "[('obj', 'http://www.wikidata.org/entity/Q58968'), ('name', 'intellectual')]\n",
      "[('obj', 'http://www.wikidata.org/entity/Q366328'), ('name', 'Brunetto Latini')]\n",
      "50\n"
     ]
    }
   ],
   "source": [
    "queryString = \"\"\"\n",
    "SELECT ?obj ?name\n",
    "WHERE {\n",
    "   \n",
    "   wd:Q1067 ?p ?obj .\n",
    "   ?obj sc:name ?name.\n",
    "}\n",
    "LIMIT 50\n",
    "\"\"\"\n",
    "\n",
    "print(\"Results\")\n",
    "x=run_query(queryString)"
   ]
  },
  {
   "cell_type": "markdown",
   "id": "fc21507c",
   "metadata": {},
   "source": [
    "Final query for this task"
   ]
  },
  {
   "cell_type": "code",
   "execution_count": 112,
   "id": "c8a25651",
   "metadata": {},
   "outputs": [
    {
     "name": "stdout",
     "output_type": "stream",
     "text": [
      "Results\n",
      "[('p', 'http://www.wikidata.org/prop/direct/P1014'), ('property', 'Art & Architecture Thesaurus ID')]\n",
      "[('p', 'http://www.wikidata.org/prop/direct/P1296'), ('property', 'Gran Enciclopèdia Catalana ID')]\n",
      "[('p', 'http://www.wikidata.org/prop/direct/P1343'), ('property', 'described by source')]\n",
      "[('p', 'http://www.wikidata.org/prop/direct/P1709'), ('property', 'equivalent class')]\n",
      "[('p', 'http://www.wikidata.org/prop/direct/P1889'), ('property', 'different from')]\n",
      "[('p', 'http://www.wikidata.org/prop/direct/P1963'), ('property', 'properties for this type')]\n",
      "[('p', 'http://www.wikidata.org/prop/direct/P1963'), ('property', 'properties for this type')]\n",
      "[('p', 'http://www.wikidata.org/prop/direct/P1963'), ('property', 'properties for this type')]\n",
      "[('p', 'http://www.wikidata.org/prop/direct/P1963'), ('property', 'properties for this type')]\n",
      "[('p', 'http://www.wikidata.org/prop/direct/P1963'), ('property', 'properties for this type')]\n",
      "[('p', 'http://www.wikidata.org/prop/direct/P1963'), ('property', 'properties for this type')]\n",
      "[('p', 'http://www.wikidata.org/prop/direct/P1963'), ('property', 'properties for this type')]\n",
      "[('p', 'http://www.wikidata.org/prop/direct/P1963'), ('property', 'properties for this type')]\n",
      "[('p', 'http://www.wikidata.org/prop/direct/P1963'), ('property', 'properties for this type')]\n",
      "[('p', 'http://www.wikidata.org/prop/direct/P1963'), ('property', 'properties for this type')]\n",
      "[('p', 'http://www.wikidata.org/prop/direct/P1963'), ('property', 'properties for this type')]\n",
      "[('p', 'http://www.wikidata.org/prop/direct/P1963'), ('property', 'properties for this type')]\n",
      "[('p', 'http://www.wikidata.org/prop/direct/P1963'), ('property', 'properties for this type')]\n",
      "[('p', 'http://www.wikidata.org/prop/direct/P1963'), ('property', 'properties for this type')]\n",
      "[('p', 'http://www.wikidata.org/prop/direct/P1963'), ('property', 'properties for this type')]\n",
      "[('p', 'http://www.wikidata.org/prop/direct/P1963'), ('property', 'properties for this type')]\n",
      "[('p', 'http://www.wikidata.org/prop/direct/P227'), ('property', 'GND ID')]\n",
      "[('p', 'http://www.wikidata.org/prop/direct/P227'), ('property', 'GND ID')]\n",
      "[('p', 'http://www.wikidata.org/prop/direct/P227'), ('property', 'GND ID')]\n",
      "[('p', 'http://www.wikidata.org/prop/direct/P244'), ('property', 'Library of Congress authority ID')]\n",
      "[('p', 'http://www.wikidata.org/prop/direct/P2581'), ('property', 'BabelNet ID')]\n",
      "[('p', 'http://www.wikidata.org/prop/direct/P268'), ('property', 'Bibliothèque nationale de France ID')]\n",
      "[('p', 'http://www.wikidata.org/prop/direct/P279'), ('property', 'subclass of')]\n",
      "[('p', 'http://www.wikidata.org/prop/direct/P31'), ('property', 'instance of')]\n",
      "[('p', 'http://www.wikidata.org/prop/direct/P3417'), ('property', 'Quora topic ID')]\n",
      "[('p', 'http://www.wikidata.org/prop/direct/P3417'), ('property', 'Quora topic ID')]\n",
      "[('p', 'http://www.wikidata.org/prop/direct/P349'), ('property', 'National Diet Library ID')]\n",
      "[('p', 'http://www.wikidata.org/prop/direct/P3553'), ('property', 'Zhihu topic ID')]\n",
      "[('p', 'http://www.wikidata.org/prop/direct/P373'), ('property', 'Commons category')]\n",
      "[('p', 'http://www.wikidata.org/prop/direct/P3916'), ('property', 'UNESCO Thesaurus ID')]\n",
      "[('p', 'http://www.wikidata.org/prop/direct/P4212'), ('property', 'PACTOLS thesaurus ID')]\n",
      "[('p', 'http://www.wikidata.org/prop/direct/P4212'), ('property', 'PACTOLS thesaurus ID')]\n",
      "[('p', 'http://www.wikidata.org/prop/direct/P425'), ('property', 'field of this occupation')]\n",
      "[('p', 'http://www.wikidata.org/prop/direct/P460'), ('property', 'said to be the same as')]\n",
      "[('p', 'http://www.wikidata.org/prop/direct/P508'), ('property', 'BNCF Thesaurus ID')]\n",
      "[('p', 'http://www.wikidata.org/prop/direct/P5160'), ('property', 'Thesaurus for Graphic Materials ID')]\n",
      "[('p', 'http://www.wikidata.org/prop/direct/P6186'), ('property', 'category for eponymous categories')]\n",
      "[('p', 'http://www.wikidata.org/prop/direct/P6262'), ('property', 'Fandom article ID')]\n",
      "[('p', 'http://www.wikidata.org/prop/direct/P646'), ('property', 'Freebase ID')]\n",
      "[('p', 'http://www.wikidata.org/prop/direct/P7033'), ('property', 'Australian Educational Vocabulary ID')]\n",
      "[('p', 'http://www.wikidata.org/prop/direct/P8408'), ('property', 'KBpedia ID')]\n",
      "[('p', 'http://www.wikidata.org/prop/direct/P8519'), ('property', 'RKD thesaurus ID')]\n",
      "[('p', 'http://www.wikidata.org/prop/direct/P8814'), ('property', 'WordNet 3.1 Synset ID')]\n",
      "[('p', 'http://www.wikidata.org/prop/direct/P910'), ('property', \"topic's main category\")]\n",
      "[('p', 'http://www.wikidata.org/prop/direct/P950'), ('property', 'Biblioteca Nacional de España ID')]\n",
      "50\n"
     ]
    }
   ],
   "source": [
    "queryString = \"\"\"\n",
    "SELECT ?p ?property\n",
    "WHERE {\n",
    "   \n",
    "   #BGP for poet\n",
    "   wd:Q49757 ?p ?obj .\n",
    "   ?p sc:name ?property.\n",
    "}\n",
    "LIMIT 50\n",
    "\"\"\"\n",
    "\n",
    "print(\"Results\")\n",
    "x=run_query(queryString)"
   ]
  },
  {
   "cell_type": "markdown",
   "id": "f27cd3a0",
   "metadata": {},
   "source": [
    "## Task 3\n",
    "Identify the BGP for literary movement"
   ]
  },
  {
   "cell_type": "code",
   "execution_count": 56,
   "id": "b2c9d4d6",
   "metadata": {},
   "outputs": [
    {
     "name": "stdout",
     "output_type": "stream",
     "text": [
      "Results\n",
      "[('p', 'http://www.wikidata.org/prop/direct/P495'), ('obj', 'http://www.wikidata.org/entity/Q38'), ('name', 'Italy')]\n",
      "[('p', 'http://www.wikidata.org/prop/direct/P31'), ('obj', 'http://www.wikidata.org/entity/Q3326717'), ('name', 'literary movement')]\n",
      "2\n"
     ]
    }
   ],
   "source": [
    "queryString = \"\"\"\n",
    "SELECT ?p ?obj ?name\n",
    "WHERE {\n",
    "\n",
    "  #wd:Q1067 ?p ?o.\n",
    "  #?p sc:name ?name.\n",
    "  \n",
    "  wd:Q1067 wdt:P135 ?o.\n",
    "  ?o ?p ?obj.\n",
    "  ?obj sc:name ?name.\n",
    "   \n",
    "} ORDER BY ?year\n",
    "LIMIT 50\n",
    "\"\"\"\n",
    "\n",
    "print(\"Results\")\n",
    "x=run_query(queryString)"
   ]
  },
  {
   "cell_type": "markdown",
   "id": "e53e272e",
   "metadata": {},
   "source": [
    "Final query for this task"
   ]
  },
  {
   "cell_type": "code",
   "execution_count": 114,
   "id": "487314c1",
   "metadata": {},
   "outputs": [
    {
     "name": "stdout",
     "output_type": "stream",
     "text": [
      "Results\n",
      "[('p', 'http://www.wikidata.org/prop/direct/P1014'), ('property', 'Art & Architecture Thesaurus ID')]\n",
      "[('p', 'http://www.wikidata.org/prop/direct/P1343'), ('property', 'described by source')]\n",
      "[('p', 'http://www.wikidata.org/prop/direct/P1889'), ('property', 'different from')]\n",
      "[('p', 'http://www.wikidata.org/prop/direct/P2671'), ('property', 'Google Knowledge Graph ID')]\n",
      "[('p', 'http://www.wikidata.org/prop/direct/P279'), ('property', 'subclass of')]\n",
      "[('p', 'http://www.wikidata.org/prop/direct/P3553'), ('property', 'Zhihu topic ID')]\n",
      "[('p', 'http://www.wikidata.org/prop/direct/P373'), ('property', 'Commons category')]\n",
      "[('p', 'http://www.wikidata.org/prop/direct/P910'), ('property', \"topic's main category\")]\n",
      "8\n"
     ]
    }
   ],
   "source": [
    "queryString = \"\"\"\n",
    "SELECT ?p ?property\n",
    "WHERE {\n",
    "\n",
    "  #BGP for literary movement\n",
    "  wd:Q3326717 ?p ?obj.\n",
    "  ?p sc:name ?property.\n",
    "   \n",
    "}\n",
    "LIMIT 50\n",
    "\"\"\"\n",
    "\n",
    "print(\"Results\")\n",
    "x=run_query(queryString)"
   ]
  },
  {
   "cell_type": "markdown",
   "id": "b85d5115",
   "metadata": {},
   "source": [
    "## Task 4\n",
    "Return the poets born in the same place of the author of The Divine Comedy who are born between 1300 and 1500 (1300 and 1500 included) (the result set must be a list of couples poets IRI and label)."
   ]
  },
  {
   "cell_type": "code",
   "execution_count": 105,
   "id": "26cb9846",
   "metadata": {},
   "outputs": [
    {
     "name": "stdout",
     "output_type": "stream",
     "text": [
      "Results\n",
      "[('s', 'http://www.wikidata.org/entity/Q62055718'), ('poet', \"Lippo Pasci de' Bardi\"), ('year', '1300')]\n",
      "[('s', 'http://www.wikidata.org/entity/Q1149308'), ('poet', 'Rustico Filippi'), ('year', '1300')]\n",
      "[('s', 'http://www.wikidata.org/entity/Q3827021'), ('poet', 'Lapo Gianni'), ('year', '1300')]\n",
      "[('s', 'http://www.wikidata.org/entity/Q1402'), ('poet', 'Giovanni Boccaccio'), ('year', '1313')]\n",
      "[('s', 'http://www.wikidata.org/entity/Q50399164'), ('poet', \"Dolcibene de' Tori\"), ('year', '1332')]\n",
      "[('s', 'http://www.wikidata.org/entity/Q659093'), ('poet', 'Benedetto Dei'), ('year', '1418')]\n",
      "[('s', 'http://www.wikidata.org/entity/Q1113645'), ('poet', 'Lucrezia Tornabuoni'), ('year', '1427')]\n",
      "[('s', 'http://www.wikidata.org/entity/Q192374'), ('poet', 'Marsilio Ficino'), ('year', '1433')]\n",
      "[('s', 'http://www.wikidata.org/entity/Q13570581'), ('poet', 'Bartolomeo della Fonte'), ('year', '1445')]\n",
      "[('s', 'http://www.wikidata.org/entity/Q13570581'), ('poet', 'Bartolomeo della Fonte'), ('year', '1446')]\n",
      "[('s', 'http://www.wikidata.org/entity/Q177854'), ('poet', \"Lorenzo de' Medici\"), ('year', '1449')]\n",
      "[('s', 'http://www.wikidata.org/entity/Q762'), ('poet', 'Leonardo da Vinci'), ('year', '1452')]\n",
      "[('s', 'http://www.wikidata.org/entity/Q250414'), ('poet', 'Poliziano'), ('year', '1454')]\n",
      "[('s', 'http://www.wikidata.org/entity/Q1399'), ('poet', 'Niccolò Machiavelli'), ('year', '1469')]\n",
      "[('s', 'http://www.wikidata.org/entity/Q1248954'), ('poet', 'Giovanni di Bernardo Rucellai'), ('year', '1475')]\n",
      "[('s', 'http://www.wikidata.org/entity/Q5592'), ('poet', 'Michelangelo'), ('year', '1475')]\n",
      "[('s', 'http://www.wikidata.org/entity/Q66809563'), ('poet', \"Alessandro Pazzi de' Medici\"), ('year', '1483')]\n",
      "17\n"
     ]
    }
   ],
   "source": [
    "queryString = \"\"\"\n",
    "SELECT ?s ?poet\n",
    "WHERE {\n",
    "\n",
    "   ?s wdt:P106 wd:Q49757.\n",
    "   ?s sc:name ?poet.\n",
    "   \n",
    "   ?s wdt:P27 ?o1.\n",
    "   ?o1 sc:name ?country1.\n",
    "   \n",
    "   ?s wdt:P569 ?born.\n",
    "   \n",
    "   BIND(STRBEFORE(str(?born), \"-\") AS ?year)\n",
    "   \n",
    "   wd:Q1067 wdt:P27 ?o .\n",
    "   ?o sc:name ?country.\n",
    "   \n",
    "   FILTER(?country1 = ?country).\n",
    "   FILTER(str(?year)>= \"1300\" && str(?year)<= \"1500\").\n",
    "   \n",
    "} \n",
    "LIMIT 50\n",
    "\"\"\"\n",
    "\n",
    "print(\"Results\")\n",
    "x=run_query(queryString)"
   ]
  },
  {
   "cell_type": "markdown",
   "id": "2d43d35e",
   "metadata": {},
   "source": [
    "Final query for this task"
   ]
  },
  {
   "cell_type": "code",
   "execution_count": 119,
   "id": "61744f9a",
   "metadata": {},
   "outputs": [
    {
     "name": "stdout",
     "output_type": "stream",
     "text": [
      "Results\n",
      "The operation failed timed out\n"
     ]
    }
   ],
   "source": [
    "queryString = \"\"\"\n",
    "SELECT ?s ?poet ?year\n",
    "WHERE {\n",
    "\n",
    "   # Get the name of all poets by occupation\n",
    "   ?s wdt:P106 wd:Q49757.\n",
    "   ?s sc:name ?poet.\n",
    "   \n",
    "   # Get the citizenship of all poets\n",
    "   ?s wdt:P27 ?o1.\n",
    "   ?o1 sc:name ?country1.\n",
    "   \n",
    "   # Get the date of birth year of all poets\n",
    "   ?s wdt:P569 ?born.\n",
    "   \n",
    "   BIND(STRBEFORE(str(?born), \"-\") AS ?year)\n",
    "   \n",
    "   # Get the citizenship of the author of The Divine Comedy\n",
    "   wd:Q1067 wdt:P27 ?o .\n",
    "   ?o sc:name ?country.\n",
    "   \n",
    "   # Filter by country and year\n",
    "   FILTER(?country1 = ?country).\n",
    "   FILTER(str(?year)>= \"1300\" && str(?year)<= \"1500\").\n",
    "   \n",
    "} ORDER BY ?year\n",
    "LIMIT 50\n",
    "\"\"\"\n",
    "\n",
    "print(\"Results\")\n",
    "x=run_query(queryString)"
   ]
  },
  {
   "cell_type": "markdown",
   "id": "b3cc07fa",
   "metadata": {},
   "source": [
    "## Task 5\n",
    "Identify the BGP for literary work"
   ]
  },
  {
   "cell_type": "code",
   "execution_count": 46,
   "id": "2e68ea28",
   "metadata": {},
   "outputs": [
    {
     "name": "stdout",
     "output_type": "stream",
     "text": [
      "Results\n",
      "[('p', 'http://www.wikidata.org/prop/direct/P674'), ('obj', 'http://www.wikidata.org/entity/Q754686'), ('name2', 'Cacus')]\n",
      "[('p', 'http://www.wikidata.org/prop/direct/P674'), ('obj', 'http://www.wikidata.org/entity/Q258369'), ('name2', 'Peter Damian')]\n",
      "[('p', 'http://www.wikidata.org/prop/direct/P674'), ('obj', 'http://www.wikidata.org/entity/Q706003'), ('name2', 'Ugolino della Gherardesca')]\n",
      "[('p', 'http://www.wikidata.org/prop/direct/P674'), ('obj', 'http://www.wikidata.org/entity/Q129866'), ('name2', 'Minotaur')]\n",
      "[('p', 'http://www.wikidata.org/prop/direct/P674'), ('obj', 'http://www.wikidata.org/entity/Q647496'), ('name2', 'Linus')]\n",
      "[('p', 'http://www.wikidata.org/prop/direct/P674'), ('obj', 'http://www.wikidata.org/entity/Q272006'), ('name2', 'Antaeus')]\n",
      "[('p', 'http://www.wikidata.org/prop/direct/P527'), ('obj', 'http://www.wikidata.org/entity/Q2713307'), ('name2', 'Paradiso')]\n",
      "[('p', 'http://www.wikidata.org/prop/direct/P527'), ('obj', 'http://www.wikidata.org/entity/Q4509219'), ('name2', 'Inferno')]\n",
      "[('p', 'http://www.wikidata.org/prop/direct/P674'), ('obj', 'http://www.wikidata.org/entity/Q652232'), ('name2', 'Ciacco')]\n",
      "[('p', 'http://www.wikidata.org/prop/direct/P674'), ('obj', 'http://www.wikidata.org/entity/Q663792'), ('name2', 'Sinon')]\n",
      "[('p', 'http://www.wikidata.org/prop/direct/P674'), ('obj', 'http://www.wikidata.org/entity/Q6612'), ('name2', 'Charon')]\n",
      "[('p', 'http://www.wikidata.org/prop/direct/P747'), ('obj', 'http://www.wikidata.org/entity/Q19183108'), ('name2', 'La Divine Comédie')]\n",
      "[('p', 'http://www.wikidata.org/prop/direct/P674'), ('obj', 'http://www.wikidata.org/entity/Q118081'), ('name2', 'Celestine V')]\n",
      "[('p', 'http://www.wikidata.org/prop/direct/P674'), ('obj', 'http://www.wikidata.org/entity/Q1398'), ('name2', 'Virgil')]\n",
      "[('p', 'http://www.wikidata.org/prop/direct/P674'), ('obj', 'http://www.wikidata.org/entity/Q59180'), ('name2', 'Diogenes of Sinope')]\n",
      "[('p', 'http://www.wikidata.org/prop/direct/P674'), ('obj', 'http://www.wikidata.org/entity/Q81018'), ('name2', 'Judas Iscariot')]\n",
      "[('p', 'http://www.wikidata.org/prop/direct/P674'), ('obj', 'http://www.wikidata.org/entity/Q9438'), ('name2', 'Thomas Aquinas')]\n",
      "[('p', 'http://www.wikidata.org/prop/direct/P674'), ('obj', 'http://www.wikidata.org/entity/Q1643451'), ('name2', 'Alecto')]\n",
      "[('p', 'http://www.wikidata.org/prop/direct/P674'), ('obj', 'http://www.wikidata.org/entity/Q371545'), ('name2', 'Megaera')]\n",
      "[('p', 'http://www.wikidata.org/prop/direct/P674'), ('obj', 'http://www.wikidata.org/entity/Q3991817'), ('name2', 'Tisiphone')]\n",
      "[('p', 'http://www.wikidata.org/prop/direct/P674'), ('obj', 'http://www.wikidata.org/entity/Q83041'), ('name2', 'Anaxagoras')]\n",
      "[('p', 'http://www.wikidata.org/prop/direct/P674'), ('obj', 'http://www.wikidata.org/entity/Q83375'), ('name2', 'Empedocles')]\n",
      "[('p', 'http://www.wikidata.org/prop/direct/P674'), ('obj', 'http://www.wikidata.org/entity/Q83496'), ('name2', 'Cerberus')]\n",
      "[('p', 'http://www.wikidata.org/prop/direct/P674'), ('obj', 'http://www.wikidata.org/entity/Q849647'), ('name2', 'Briareus')]\n",
      "[('p', 'http://www.wikidata.org/prop/direct/P674'), ('obj', 'http://www.wikidata.org/entity/Q86805'), ('name2', 'Geryon')]\n",
      "[('p', 'http://www.wikidata.org/prop/direct/P674'), ('obj', 'http://www.wikidata.org/entity/Q134646'), ('name2', 'Boniface VIII')]\n",
      "[('p', 'http://www.wikidata.org/prop/direct/P674'), ('obj', 'http://www.wikidata.org/entity/Q192673'), ('name2', 'Iphigenia')]\n",
      "[('p', 'http://www.wikidata.org/prop/direct/P674'), ('obj', 'http://www.wikidata.org/entity/Q334817'), ('name2', 'Polynices')]\n",
      "[('p', 'http://www.wikidata.org/prop/direct/P674'), ('obj', 'http://www.wikidata.org/entity/Q506550'), ('name2', 'Eteocles')]\n",
      "[('p', 'http://www.wikidata.org/prop/direct/P674'), ('obj', 'http://www.wikidata.org/entity/Q130221'), ('name2', 'Frederick II, Holy Roman Emperor')]\n",
      "[('p', 'http://www.wikidata.org/prop/direct/P674'), ('obj', 'http://www.wikidata.org/entity/Q170859'), ('name2', 'Nicholas III')]\n",
      "[('p', 'http://www.wikidata.org/prop/direct/P674'), ('obj', 'http://www.wikidata.org/entity/Q8409'), ('name2', 'Alexander the Great')]\n",
      "[('p', 'http://www.wikidata.org/prop/direct/P674'), ('obj', 'http://www.wikidata.org/entity/Q8778'), ('name2', 'Galen')]\n",
      "[('p', 'http://www.wikidata.org/prop/direct/P674'), ('obj', 'http://www.wikidata.org/entity/Q183417'), ('name2', 'Chiron')]\n",
      "[('p', 'http://www.wikidata.org/prop/direct/P674'), ('obj', 'http://www.wikidata.org/entity/Q359237'), ('name2', 'Charles Martel of Anjou')]\n",
      "[('p', 'http://www.wikidata.org/prop/direct/P674'), ('obj', 'http://www.wikidata.org/entity/Q36303'), ('name2', 'Thales')]\n",
      "[('p', 'http://www.wikidata.org/prop/direct/P674'), ('obj', 'http://www.wikidata.org/entity/Q41370'), ('name2', 'David')]\n",
      "[('p', 'http://www.wikidata.org/prop/direct/P50'), ('obj', 'http://www.wikidata.org/entity/Q1067'), ('name2', 'Dante Alighieri')]\n",
      "[('p', 'http://www.wikidata.org/prop/direct/P674'), ('obj', 'http://www.wikidata.org/entity/Q1067'), ('name2', 'Dante Alighieri')]\n",
      "[('p', 'http://www.wikidata.org/prop/direct/P674'), ('obj', 'http://www.wikidata.org/entity/Q44265'), ('name2', 'Benedict of Nursia')]\n",
      "[('p', 'http://www.wikidata.org/prop/direct/P674'), ('obj', 'http://www.wikidata.org/entity/Q234533'), ('name2', 'Cornelia')]\n",
      "[('p', 'http://www.wikidata.org/prop/direct/P674'), ('obj', 'http://www.wikidata.org/entity/Q315347'), ('name2', 'Peter Lombard')]\n",
      "[('p', 'http://www.wikidata.org/prop/direct/P674'), ('obj', 'http://www.wikidata.org/entity/Q36724'), ('name2', 'Attila')]\n",
      "[('p', 'http://www.wikidata.org/prop/direct/P674'), ('obj', 'http://www.wikidata.org/entity/Q367387'), ('name2', 'William II of Sicily')]\n",
      "[('p', 'http://www.wikidata.org/prop/direct/P674'), ('obj', 'http://www.wikidata.org/entity/Q60059'), ('name2', 'Albertus Magnus')]\n",
      "[('p', 'http://www.wikidata.org/prop/direct/P674'), ('obj', 'http://www.wikidata.org/entity/Q128176'), ('name2', 'Agamemnon')]\n",
      "[('p', 'http://www.wikidata.org/prop/direct/P674'), ('obj', 'http://www.wikidata.org/entity/Q131651'), ('name2', 'Elektra')]\n",
      "[('p', 'http://www.wikidata.org/prop/direct/P674'), ('obj', 'http://www.wikidata.org/entity/Q176758'), ('name2', 'Jason')]\n",
      "[('p', 'http://www.wikidata.org/prop/direct/P674'), ('obj', 'http://www.wikidata.org/entity/Q571969'), ('name2', 'Antenor')]\n",
      "[('p', 'http://www.wikidata.org/prop/direct/P674'), ('obj', 'http://www.wikidata.org/entity/Q160441'), ('name2', 'Rabanus Maurus')]\n",
      "50\n"
     ]
    }
   ],
   "source": [
    "queryString = \"\"\"\n",
    "SELECT ?p ?name ?obj ?name2\n",
    "WHERE {\n",
    "\n",
    "   wd:Q40185 ?p ?obj.\n",
    "   ?p sc:name ?name1.\n",
    "   ?obj sc:name ?name2.\n",
    "   \n",
    "} \n",
    "LIMIT 50\n",
    "\"\"\"\n",
    "\n",
    "print(\"Results\")\n",
    "x=run_query(queryString)"
   ]
  },
  {
   "cell_type": "markdown",
   "id": "750b6248",
   "metadata": {},
   "source": [
    "Final query for this task"
   ]
  },
  {
   "cell_type": "code",
   "execution_count": 115,
   "id": "f41c0dd1",
   "metadata": {},
   "outputs": [
    {
     "name": "stdout",
     "output_type": "stream",
     "text": [
      "Results\n",
      "[('p', 'http://www.wikidata.org/prop/direct/P1051'), ('property', 'PSH ID')]\n",
      "[('p', 'http://www.wikidata.org/prop/direct/P1424'), ('property', \"topic's main template\")]\n",
      "[('p', 'http://www.wikidata.org/prop/direct/P1889'), ('property', 'different from')]\n",
      "[('p', 'http://www.wikidata.org/prop/direct/P1889'), ('property', 'different from')]\n",
      "[('p', 'http://www.wikidata.org/prop/direct/P1963'), ('property', 'properties for this type')]\n",
      "[('p', 'http://www.wikidata.org/prop/direct/P1963'), ('property', 'properties for this type')]\n",
      "[('p', 'http://www.wikidata.org/prop/direct/P1963'), ('property', 'properties for this type')]\n",
      "[('p', 'http://www.wikidata.org/prop/direct/P1963'), ('property', 'properties for this type')]\n",
      "[('p', 'http://www.wikidata.org/prop/direct/P1963'), ('property', 'properties for this type')]\n",
      "[('p', 'http://www.wikidata.org/prop/direct/P1963'), ('property', 'properties for this type')]\n",
      "[('p', 'http://www.wikidata.org/prop/direct/P1963'), ('property', 'properties for this type')]\n",
      "[('p', 'http://www.wikidata.org/prop/direct/P1963'), ('property', 'properties for this type')]\n",
      "[('p', 'http://www.wikidata.org/prop/direct/P1963'), ('property', 'properties for this type')]\n",
      "[('p', 'http://www.wikidata.org/prop/direct/P1963'), ('property', 'properties for this type')]\n",
      "[('p', 'http://www.wikidata.org/prop/direct/P1963'), ('property', 'properties for this type')]\n",
      "[('p', 'http://www.wikidata.org/prop/direct/P1963'), ('property', 'properties for this type')]\n",
      "[('p', 'http://www.wikidata.org/prop/direct/P1963'), ('property', 'properties for this type')]\n",
      "[('p', 'http://www.wikidata.org/prop/direct/P1963'), ('property', 'properties for this type')]\n",
      "[('p', 'http://www.wikidata.org/prop/direct/P1963'), ('property', 'properties for this type')]\n",
      "[('p', 'http://www.wikidata.org/prop/direct/P1963'), ('property', 'properties for this type')]\n",
      "[('p', 'http://www.wikidata.org/prop/direct/P2079'), ('property', 'fabrication method')]\n",
      "[('p', 'http://www.wikidata.org/prop/direct/P2347'), ('property', 'YSO ID')]\n",
      "[('p', 'http://www.wikidata.org/prop/direct/P2354'), ('property', 'has list')]\n",
      "[('p', 'http://www.wikidata.org/prop/direct/P2671'), ('property', 'Google Knowledge Graph ID')]\n",
      "[('p', 'http://www.wikidata.org/prop/direct/P2671'), ('property', 'Google Knowledge Graph ID')]\n",
      "[('p', 'http://www.wikidata.org/prop/direct/P279'), ('property', 'subclass of')]\n",
      "[('p', 'http://www.wikidata.org/prop/direct/P279'), ('property', 'subclass of')]\n",
      "[('p', 'http://www.wikidata.org/prop/direct/P3222'), ('property', 'NE.se ID')]\n",
      "[('p', 'http://www.wikidata.org/prop/direct/P3417'), ('property', 'Quora topic ID')]\n",
      "[('p', 'http://www.wikidata.org/prop/direct/P361'), ('property', 'part of')]\n",
      "[('p', 'http://www.wikidata.org/prop/direct/P373'), ('property', 'Commons category')]\n",
      "[('p', 'http://www.wikidata.org/prop/direct/P527'), ('property', 'has part')]\n",
      "[('p', 'http://www.wikidata.org/prop/direct/P6104'), ('property', 'maintained by WikiProject')]\n",
      "[('p', 'http://www.wikidata.org/prop/direct/P6186'), ('property', 'category for eponymous categories')]\n",
      "[('p', 'http://www.wikidata.org/prop/direct/P7749'), ('property', 'Nomenclature for Museum Cataloging')]\n",
      "[('p', 'http://www.wikidata.org/prop/direct/P8408'), ('property', 'KBpedia ID')]\n",
      "[('p', 'http://www.wikidata.org/prop/direct/P910'), ('property', \"topic's main category\")]\n",
      "37\n"
     ]
    }
   ],
   "source": [
    "queryString = \"\"\"\n",
    "SELECT ?p ?property\n",
    "WHERE {\n",
    "\n",
    "  #BGP for literary work\n",
    "  wd:Q7725634 ?p ?obj.\n",
    "  ?p sc:name ?property.\n",
    "   \n",
    "}\n",
    "LIMIT 50\n",
    "\"\"\"\n",
    "\n",
    "print(\"Results\")\n",
    "x=run_query(queryString)"
   ]
  },
  {
   "cell_type": "markdown",
   "id": "f46ba823",
   "metadata": {},
   "source": [
    "## Task 6\n",
    "Compare the author of The Divine Comedy with Giovanni Boccaccio. Return for these poets the number of literary work they wrote (the result set must be two triples -one for each author- author IRI, label and #literary work)."
   ]
  },
  {
   "cell_type": "code",
   "execution_count": 73,
   "id": "debc3667",
   "metadata": {},
   "outputs": [
    {
     "name": "stdout",
     "output_type": "stream",
     "text": [
      "Results\n",
      "[('p', 'http://www.wikidata.org/prop/direct/P110'), ('name', 'illustrator')]\n",
      "[('p', 'http://www.wikidata.org/prop/direct/P136'), ('name', 'genre')]\n",
      "[('p', 'http://www.wikidata.org/prop/direct/P179'), ('name', 'part of the series')]\n",
      "[('p', 'http://www.wikidata.org/prop/direct/P2671'), ('name', 'Google Knowledge Graph ID')]\n",
      "[('p', 'http://www.wikidata.org/prop/direct/P31'), ('name', 'instance of')]\n",
      "[('p', 'http://www.wikidata.org/prop/direct/P407'), ('name', 'language of work or name')]\n",
      "[('p', 'http://www.wikidata.org/prop/direct/P495'), ('name', 'country of origin')]\n",
      "[('p', 'http://www.wikidata.org/prop/direct/P50'), ('name', 'author')]\n",
      "[('p', 'http://www.wikidata.org/prop/direct/P577'), ('name', 'publication date')]\n",
      "[('p', 'http://www.wikidata.org/prop/direct/P840'), ('name', 'narrative location')]\n",
      "10\n"
     ]
    }
   ],
   "source": [
    "queryString = \"\"\"\n",
    "SELECT ?p ?name\n",
    "WHERE {\n",
    "\n",
    "   wd:Q8351202 ?p ?o.\n",
    "   ?p sc:name ?name.\n",
    "   \n",
    "\n",
    "} \n",
    "LIMIT 50\n",
    "\"\"\"\n",
    "\n",
    "print(\"Results\")\n",
    "x=run_query(queryString)"
   ]
  },
  {
   "cell_type": "markdown",
   "id": "ba1384b8",
   "metadata": {},
   "source": [
    "Final query for this task"
   ]
  },
  {
   "cell_type": "code",
   "execution_count": 71,
   "id": "c556e216",
   "metadata": {},
   "outputs": [
    {
     "name": "stdout",
     "output_type": "stream",
     "text": [
      "Results\n",
      "[('name', 'http://www.wikidata.org/entity/Q1402'), ('author', 'Giovanni Boccaccio'), ('literaryWork', '9')]\n",
      "[('name', 'http://www.wikidata.org/entity/Q1067'), ('author', 'Dante Alighieri'), ('literaryWork', '12')]\n",
      "2\n"
     ]
    }
   ],
   "source": [
    "queryString = \"\"\"\n",
    "SELECT ?name ?author (count(?work) AS ?literaryWork) \n",
    "WHERE {\n",
    "\n",
    "   # Get all the literary work \n",
    "   ?s wdt:P31 wd:Q7725634.\n",
    "   ?s sc:name ?work.\n",
    "   \n",
    "   # Get the author of all the literary work\n",
    "   ?s wdt:P50 ?name.\n",
    "   ?name sc:name ?author.\n",
    "   \n",
    "   # Filter the authors\n",
    "   FILTER(str(?author) = \"Giovanni Boccaccio\" || str(?author) = \"Dante Alighieri\").\n",
    "   \n",
    "} GROUP BY ?name ?author\n",
    "LIMIT 50\n",
    "\"\"\"\n",
    "\n",
    "print(\"Results\")\n",
    "x=run_query(queryString)"
   ]
  },
  {
   "cell_type": "markdown",
   "id": "bc7edd58",
   "metadata": {},
   "source": [
    "## Task 7\n",
    "Consider italian poets, their place of birth (the city) and their university education. Return for each city the number of poets who born there and who was educated there (the result set must be a list of triples city IRI, label and #poets)."
   ]
  },
  {
   "cell_type": "code",
   "execution_count": 93,
   "id": "07b326ba",
   "metadata": {},
   "outputs": [
    {
     "name": "stdout",
     "output_type": "stream",
     "text": [
      "Results\n",
      "[('place', 'http://www.wikidata.org/entity/Q13367'), ('city', 'Forlì'), ('numPoet', '11')]\n",
      "[('place', 'http://www.wikidata.org/entity/Q220'), ('city', 'Rome'), ('numPoet', '79')]\n",
      "[('place', 'http://www.wikidata.org/entity/Q13395'), ('city', 'Viterbo'), ('numPoet', '6')]\n",
      "[('place', 'http://www.wikidata.org/entity/Q13396'), ('city', 'Rieti'), ('numPoet', '7')]\n",
      "[('place', 'http://www.wikidata.org/entity/Q1449'), ('city', 'Genoa'), ('numPoet', '16')]\n",
      "[('place', 'http://www.wikidata.org/entity/Q111954'), ('city', 'Santarcangelo di Romagna'), ('numPoet', '7')]\n",
      "[('place', 'http://www.wikidata.org/entity/Q54650'), ('city', 'San Luca'), ('numPoet', '9')]\n",
      "[('place', 'http://www.wikidata.org/entity/Q2634'), ('city', 'Naples'), ('numPoet', '5')]\n",
      "[('place', 'http://www.wikidata.org/entity/Q39981'), ('city', 'Voghera'), ('numPoet', '3')]\n",
      "[('place', 'http://www.wikidata.org/entity/Q284040'), ('city', 'Guasila'), ('numPoet', '6')]\n",
      "[('place', 'http://www.wikidata.org/entity/Q391035'), ('city', 'Nughedu San Nicolò'), ('numPoet', '2')]\n",
      "[('place', 'http://www.wikidata.org/entity/Q53892'), ('city', 'Lappano'), ('numPoet', '12')]\n",
      "[('place', 'http://www.wikidata.org/entity/Q1897'), ('city', 'Cagliari'), ('numPoet', '5')]\n",
      "[('place', 'http://www.wikidata.org/entity/Q1486'), ('city', 'Buenos Aires'), ('numPoet', '3')]\n",
      "[('place', 'http://www.wikidata.org/entity/Q103883'), ('city', 'Cellatica'), ('numPoet', '1')]\n",
      "[('place', 'http://www.wikidata.org/entity/Q984280'), ('city', 'Viserba'), ('numPoet', '4')]\n",
      "[('place', 'http://www.wikidata.org/entity/Q29371'), ('city', 'Asolo'), ('numPoet', '4')]\n",
      "[('place', 'http://www.wikidata.org/entity/Q6606'), ('city', 'Pordenone'), ('numPoet', '2')]\n",
      "[('place', 'http://www.wikidata.org/entity/Q282380'), ('city', 'Jedwabne'), ('numPoet', '4')]\n",
      "[('place', 'http://www.wikidata.org/entity/Q52153'), ('city', 'Maglie'), ('numPoet', '4')]\n",
      "[('place', 'http://www.wikidata.org/entity/Q13138'), ('city', 'Chieti'), ('numPoet', '54')]\n",
      "[('place', 'http://www.wikidata.org/entity/Q6558'), ('city', 'Belluno'), ('numPoet', '14')]\n",
      "[('place', 'http://www.wikidata.org/entity/Q253989'), ('city', 'Pachino'), ('numPoet', '5')]\n",
      "[('place', 'http://www.wikidata.org/entity/Q52119'), ('city', 'Campi Salentina'), ('numPoet', '6')]\n",
      "[('place', 'http://www.wikidata.org/entity/Q38'), ('city', 'Italy'), ('numPoet', '2')]\n",
      "[('place', 'http://www.wikidata.org/entity/Q492980'), ('city', 'San Piero Patti'), ('numPoet', '2')]\n",
      "[('place', 'http://www.wikidata.org/entity/Q326339'), ('city', 'Üsküdar'), ('numPoet', '4')]\n",
      "[('place', 'http://www.wikidata.org/entity/Q13145'), ('city', 'Fabriano'), ('numPoet', '2')]\n",
      "[('place', 'http://www.wikidata.org/entity/Q9284'), ('city', 'Cirié'), ('numPoet', '2')]\n",
      "[('place', 'http://www.wikidata.org/entity/Q54497'), ('city', 'Carfizzi'), ('numPoet', '2')]\n",
      "[('place', 'http://www.wikidata.org/entity/Q2719870'), ('city', 'Studina'), ('numPoet', '2')]\n",
      "[('place', 'http://www.wikidata.org/entity/Q935135'), ('city', 'Črni Vrh, Idrija'), ('numPoet', '5')]\n",
      "[('place', 'http://www.wikidata.org/entity/Q3543'), ('city', 'Potenza'), ('numPoet', '2')]\n",
      "[('place', 'http://www.wikidata.org/entity/Q51835'), ('city', 'Monopoli'), ('numPoet', '13')]\n",
      "[('place', 'http://www.wikidata.org/entity/Q55057'), ('city', 'Montefalcione'), ('numPoet', '3')]\n",
      "[('place', 'http://www.wikidata.org/entity/Q18177'), ('city', 'Trivero'), ('numPoet', '5')]\n",
      "[('place', 'http://www.wikidata.org/entity/Q502657'), ('city', 'Polizzi Generosa'), ('numPoet', '14')]\n",
      "[('place', 'http://www.wikidata.org/entity/Q42782'), ('city', 'Legnano'), ('numPoet', '4')]\n",
      "[('place', 'http://www.wikidata.org/entity/Q2628639'), ('city', 'Coderno'), ('numPoet', '4')]\n",
      "[('place', 'http://www.wikidata.org/entity/Q16600217'), ('city', \"Sant' Andrea\"), ('numPoet', '6')]\n",
      "[('place', 'http://www.wikidata.org/entity/Q73489'), ('city', 'Camerino'), ('numPoet', '4')]\n",
      "[('place', 'http://www.wikidata.org/entity/Q51878'), ('city', 'San Vito dei Normanni'), ('numPoet', '4')]\n",
      "[('place', 'http://www.wikidata.org/entity/Q8611'), ('city', 'La Spezia'), ('numPoet', '3')]\n",
      "[('place', 'http://www.wikidata.org/entity/Q188315'), ('city', 'Porto Venere'), ('numPoet', '4')]\n",
      "[('place', 'http://www.wikidata.org/entity/Q6716'), ('city', 'Grosseto'), ('numPoet', '4')]\n",
      "[('place', 'http://www.wikidata.org/entity/Q2044'), ('city', 'Florence'), ('numPoet', '37')]\n",
      "[('place', 'http://www.wikidata.org/entity/Q47614'), ('city', 'Villafranca di Verona'), ('numPoet', '1')]\n",
      "[('place', 'http://www.wikidata.org/entity/Q490'), ('city', 'Milan'), ('numPoet', '63')]\n",
      "[('place', 'http://www.wikidata.org/entity/Q117032'), ('city', 'Pico, Lazio'), ('numPoet', '7')]\n",
      "[('place', 'http://www.wikidata.org/entity/Q3828404'), ('city', 'Le Piastre'), ('numPoet', '1')]\n",
      "50\n"
     ]
    }
   ],
   "source": [
    "queryString = \"\"\"\n",
    "SELECT ?place ?city (count(?poet) AS ?numPoet)\n",
    "WHERE {\n",
    "\n",
    "   ?poet wdt:P106 wd:Q49757.\n",
    "   ?poet sc:name ?poetName.\n",
    "   \n",
    "   ?poet wdt:P106 ?occu.\n",
    "   ?occu sc:name ?occup.\n",
    "   \n",
    "   ?poet wdt:P19 ?place.\n",
    "   ?place sc:name ?city.\n",
    "   \n",
    "   ?poet wdt:P27 ?obj.\n",
    "   ?obj sc:name ?country.\n",
    "   \n",
    "   ?poet wdt:P69 ?edu.\n",
    "   ?edu sc:name ?uni.\n",
    "   \n",
    "   \n",
    "   \n",
    "   FILTER REGEX(str(?country), \"^Italy\").\n",
    "   \n",
    "} GROUP BY ?place ?city\n",
    "LIMIT 50\n",
    "\"\"\"\n",
    "\n",
    "print(\"Results\")\n",
    "x=run_query(queryString)"
   ]
  },
  {
   "cell_type": "markdown",
   "id": "6ab42008",
   "metadata": {},
   "source": [
    "Final query for this task"
   ]
  },
  {
   "cell_type": "code",
   "execution_count": 108,
   "id": "3a656877",
   "metadata": {},
   "outputs": [
    {
     "name": "stdout",
     "output_type": "stream",
     "text": [
      "Results\n",
      "[('place', 'http://www.wikidata.org/entity/Q6606'), ('city', 'Pordenone'), ('numPoet', '2')]\n",
      "[('place', 'http://www.wikidata.org/entity/Q13367'), ('city', 'Forlì'), ('numPoet', '11')]\n",
      "[('place', 'http://www.wikidata.org/entity/Q220'), ('city', 'Rome'), ('numPoet', '79')]\n",
      "[('place', 'http://www.wikidata.org/entity/Q13395'), ('city', 'Viterbo'), ('numPoet', '6')]\n",
      "[('place', 'http://www.wikidata.org/entity/Q13396'), ('city', 'Rieti'), ('numPoet', '7')]\n",
      "[('place', 'http://www.wikidata.org/entity/Q1449'), ('city', 'Genoa'), ('numPoet', '16')]\n",
      "[('place', 'http://www.wikidata.org/entity/Q111954'), ('city', 'Santarcangelo di Romagna'), ('numPoet', '7')]\n",
      "[('place', 'http://www.wikidata.org/entity/Q54650'), ('city', 'San Luca'), ('numPoet', '9')]\n",
      "[('place', 'http://www.wikidata.org/entity/Q2634'), ('city', 'Naples'), ('numPoet', '5')]\n",
      "[('place', 'http://www.wikidata.org/entity/Q39981'), ('city', 'Voghera'), ('numPoet', '3')]\n",
      "[('place', 'http://www.wikidata.org/entity/Q284040'), ('city', 'Guasila'), ('numPoet', '6')]\n",
      "[('place', 'http://www.wikidata.org/entity/Q391035'), ('city', 'Nughedu San Nicolò'), ('numPoet', '2')]\n",
      "[('place', 'http://www.wikidata.org/entity/Q53892'), ('city', 'Lappano'), ('numPoet', '12')]\n",
      "[('place', 'http://www.wikidata.org/entity/Q1897'), ('city', 'Cagliari'), ('numPoet', '5')]\n",
      "[('place', 'http://www.wikidata.org/entity/Q1486'), ('city', 'Buenos Aires'), ('numPoet', '3')]\n",
      "[('place', 'http://www.wikidata.org/entity/Q103883'), ('city', 'Cellatica'), ('numPoet', '1')]\n",
      "[('place', 'http://www.wikidata.org/entity/Q984280'), ('city', 'Viserba'), ('numPoet', '4')]\n",
      "[('place', 'http://www.wikidata.org/entity/Q29371'), ('city', 'Asolo'), ('numPoet', '4')]\n",
      "[('place', 'http://www.wikidata.org/entity/Q282380'), ('city', 'Jedwabne'), ('numPoet', '4')]\n",
      "[('place', 'http://www.wikidata.org/entity/Q52153'), ('city', 'Maglie'), ('numPoet', '4')]\n",
      "20\n"
     ]
    }
   ],
   "source": [
    "queryString = \"\"\"\n",
    "SELECT ?place ?city (count(?poet) AS ?numPoet)\n",
    "WHERE {\n",
    "\n",
    "   # Get all the poets\n",
    "   ?poet wdt:P106 wd:Q49757.\n",
    "   ?poet sc:name ?poetName.\n",
    "   \n",
    "   # Get the occupation \n",
    "   ?poet wdt:P106 ?occu.\n",
    "   ?occu sc:name ?occup.\n",
    "   \n",
    "   # Get the place of birth of all poets\n",
    "   ?poet wdt:P19 ?place.\n",
    "   ?place sc:name ?city.\n",
    "   \n",
    "   # Get the country of citizenship \n",
    "   ?poet wdt:P27 ?obj.\n",
    "   ?obj sc:name ?country.\n",
    "   \n",
    "    Get the educational institution\n",
    "   ?poet wdt:P69 ?edu.\n",
    "   ?edu sc:name ?uni.\n",
    "   \n",
    "   \n",
    "   FILTER REGEX(str(?country), \"^Italy\").\n",
    "   \n",
    "} GROUP BY ?place ?city\n",
    "LIMIT 20\n",
    "\"\"\"\n",
    "\n",
    "print(\"Results\")\n",
    "x=run_query(queryString)"
   ]
  },
  {
   "cell_type": "markdown",
   "id": "80cabf4a",
   "metadata": {},
   "source": [
    "## Task 8\n",
    "Return the italian poets who won the Nobel Prize in Literature (the result set must be poet IRI and label)."
   ]
  },
  {
   "cell_type": "code",
   "execution_count": 102,
   "id": "120d4cb7",
   "metadata": {},
   "outputs": [
    {
     "name": "stdout",
     "output_type": "stream",
     "text": [
      "Results\n",
      "[('poetName', 'Dario Fo'), ('prize', 'Nobel Prize in Literature')]\n",
      "[('poetName', 'Salvatore Quasimodo'), ('prize', 'Nobel Prize in Literature')]\n",
      "[('poetName', 'Eugenio Montale'), ('prize', 'Nobel Prize in Literature')]\n",
      "3\n"
     ]
    }
   ],
   "source": [
    "queryString = \"\"\"\n",
    "SELECT ?poetName ?prize\n",
    "WHERE {\n",
    "\n",
    "   ?poet wdt:P106 wd:Q49757.\n",
    "   ?poet sc:name ?poetName.\n",
    "   \n",
    "   ?poet wdt:P27 ?obj.\n",
    "   ?obj sc:name ?country.\n",
    "   \n",
    "   ?poet wdt:P166 ?award.\n",
    "   ?award sc:name ?prize.\n",
    "   \n",
    "   \n",
    "   FILTER REGEX(str(?country), \"^Italy\").\n",
    "   FILTER REGEX(str(?prize), \"^Nobel\")\n",
    "   \n",
    "}\n",
    "LIMIT 50\n",
    "\"\"\"\n",
    "\n",
    "print(\"Results\")\n",
    "x=run_query(queryString)"
   ]
  },
  {
   "cell_type": "markdown",
   "id": "5f2b3340",
   "metadata": {},
   "source": [
    "Final query for this task"
   ]
  },
  {
   "cell_type": "code",
   "execution_count": 111,
   "id": "d283fa9c",
   "metadata": {},
   "outputs": [
    {
     "name": "stdout",
     "output_type": "stream",
     "text": [
      "Results\n",
      "[('poet', 'http://www.wikidata.org/entity/Q765'), ('poetName', 'Dario Fo')]\n",
      "[('poet', 'http://www.wikidata.org/entity/Q83038'), ('poetName', 'Salvatore Quasimodo')]\n",
      "[('poet', 'http://www.wikidata.org/entity/Q83174'), ('poetName', 'Eugenio Montale')]\n",
      "3\n"
     ]
    }
   ],
   "source": [
    "queryString = \"\"\"\n",
    "SELECT ?poet ?poetName\n",
    "WHERE {\n",
    "\n",
    "   # Get all the poets\n",
    "   ?poet wdt:P106 wd:Q49757.\n",
    "   ?poet sc:name ?poetName.\n",
    "   \n",
    "   # get the citizenship of all poets\n",
    "   ?poet wdt:P27 ?obj.\n",
    "   ?obj sc:name ?country.\n",
    "   \n",
    "   # Get the award received by all poets\n",
    "   ?poet wdt:P166 ?award.\n",
    "   ?award sc:name ?prize.\n",
    "   \n",
    "   # Filter country and award\n",
    "   FILTER REGEX(str(?country), \"^Italy\").\n",
    "   FILTER REGEX(str(?prize), \"^Nobel\")\n",
    "   \n",
    "}\n",
    "LIMIT 50\n",
    "\"\"\"\n",
    "\n",
    "print(\"Results\")\n",
    "x=run_query(queryString)"
   ]
  },
  {
   "cell_type": "code",
   "execution_count": null,
   "id": "080e338f-df63-4535-a27c-bc69f965a10e",
   "metadata": {},
   "outputs": [],
   "source": []
  }
 ],
 "metadata": {
  "kernelspec": {
   "display_name": "Python 3 (ipykernel)",
   "language": "python",
   "name": "python3"
  },
  "language_info": {
   "codemirror_mode": {
    "name": "ipython",
    "version": 3
   },
   "file_extension": ".py",
   "mimetype": "text/x-python",
   "name": "python",
   "nbconvert_exporter": "python",
   "pygments_lexer": "ipython3",
   "version": "3.7.10"
  }
 },
 "nbformat": 4,
 "nbformat_minor": 5
}
