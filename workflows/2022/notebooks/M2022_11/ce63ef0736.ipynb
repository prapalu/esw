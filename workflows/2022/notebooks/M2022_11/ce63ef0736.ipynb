{
 "cells": [
  {
   "cell_type": "markdown",
   "id": "4dbd0759",
   "metadata": {},
   "source": [
    "# General instructions\n",
    "\n",
    "The goal of the project is to materialize a set of **exploratory workloads** over a real-world, large-scale,  open-domain KG: [WikiData](https://www.wikidata.org/wiki/Wikidata:Main_Page)\n",
    "\n",
    "An exploratory workload  is composed by a set of queries, where each query is related to the information obtained previously.\n",
    "\n",
    "An exploratory workload starts with a usually vague, open ended question, and does not assume the person issuing the workload has a clear understanding of the data contained in the target database or its structure.\n",
    "\n",
    "Remeber that:\n",
    "\n",
    "1. All the queries must run in the python notebook\n",
    "2. You can use classes and properties only if you find them via a SPARQL query that must be present in the notebook\n",
    "3. You do not delete useless queries. Keep everything that is synthatically valid \n",
    "\n",
    "```\n",
    "?p <http://schema.org/name> ?name .\n",
    "```\n",
    "    \n",
    "    is the BGP returning a human-readable name of a property or a class in Wikidata."
   ]
  },
  {
   "cell_type": "code",
   "execution_count": 1,
   "id": "3e11e1f7",
   "metadata": {},
   "outputs": [],
   "source": [
    "## SETUP used later\n",
    "\n",
    "from SPARQLWrapper import SPARQLWrapper, JSON\n",
    "\n",
    "\n",
    "prefixString = \"\"\"\n",
    "##-ce63ef0736-##\n",
    "PREFIX wd: <http://www.wikidata.org/entity/> \n",
    "PREFIX wdt: <http://www.wikidata.org/prop/direct/> \n",
    "PREFIX sc: <http://schema.org/>\n",
    "\"\"\"\n",
    "\n",
    "# select and construct queries\n",
    "def run_query(queryString,verbose = True):\n",
    "    to_run = prefixString + \"\\n\" + queryString\n",
    "\n",
    "    sparql = SPARQLWrapper(\"http://a256-gc1-03.srv.aau.dk:5820/sparql\")\n",
    "    sparql.setTimeout(300)\n",
    "    sparql.setReturnFormat(JSON)\n",
    "    sparql.setQuery(to_run)\n",
    "\n",
    "    try :\n",
    "        results = sparql.query()\n",
    "        json_results = results.convert()\n",
    "        if len(json_results['results']['bindings'])==0:\n",
    "            print(\"Empty\")\n",
    "            return []\n",
    "        array = []\n",
    "        for bindings in json_results['results']['bindings']:\n",
    "            app =  [ (var, value['value'])  for var, value in bindings.items() ] \n",
    "            if verbose:\n",
    "                print( app)\n",
    "            array.append(app)\n",
    "        if verbose:\n",
    "            print(len(array))\n",
    "        return array\n",
    "\n",
    "    except Exception as e :\n",
    "        print(\"The operation failed\", e)\n",
    "    \n",
    "# ASk queries\n",
    "def run_ask_query(queryString):\n",
    "    to_run = prefixString + \"\\n\" + queryString\n",
    "\n",
    "    sparql = SPARQLWrapper(\"http://a256-gc1-03.srv.aau.dk:5820/sparql\")\n",
    "    sparql.setTimeout(300)\n",
    "    sparql.setReturnFormat(JSON)\n",
    "    sparql.setQuery(to_run)\n",
    "\n",
    "    try :\n",
    "        return sparql.query().convert()\n",
    "\n",
    "    except Exception as e :\n",
    "        print(\"The operation failed\", e)"
   ]
  },
  {
   "cell_type": "markdown",
   "id": "c2dbdb09",
   "metadata": {},
   "source": [
    "# Sport Workflow Series (\"Olympic Games explorative search\") \n",
    "\n",
    "Consider the following exploratory information need:\n",
    "\n",
    "> investigate the Olympic Games and find the main BGPs related to these events. Find all the editions of the Summer and Winter Games, compare the sports and disciplines that belong to the games, records and countries."
   ]
  },
  {
   "cell_type": "markdown",
   "id": "a9a7854b",
   "metadata": {
    "tags": []
   },
   "source": [
    "## Useful URIs for the current workflow\n",
    "The following are given:\n",
    "\n",
    "| IRI           | Description   | Role      |\n",
    "| -----------   | -----------   |-----------|\n",
    "| `wdt:P1647`   | subproperty   | predicate |\n",
    "| `wdt:P31`     | instance of   | predicate |\n",
    "| `wdt:P106`    | profession    | predicate | \n",
    "| `wdt:P279`    | subclass      | predicate |\n",
    "| `wdt:P27`     | nationality   | predicate |\n",
    "| `wd:Q5`       | Human         | node      |\n",
    "| `wd:Q1189`    | Usain Bolt    | node      |\n"
   ]
  },
  {
   "cell_type": "markdown",
   "id": "81f4546c",
   "metadata": {},
   "source": [
    "\n",
    "\n",
    "\n",
    "Also consider\n",
    "\n",
    "```\n",
    "wd:Q1189 ?p ?obj .\n",
    "```\n",
    "\n",
    "is the BGP to retrieve all **properties of Usain Bolt**\n",
    "\n",
    "Please consider that when you return a resource, you should return the IRI and the label of the resource. In particular, when the task require you to identify a BGP the result set must always be a list of couples IRI - label.\n",
    "\n",
    "\n",
    "The workload should:\n",
    "\n",
    "\n",
    "1. Identify the BGP for Olympic Games\n",
    "\n",
    "2. Return all the editions of the Summer Olympic Games (do not consider future Olympic Games) with the country where they were played (the result set must be a list of elements with edition IRI and label, and country IRI and label).\n",
    "\n",
    "3. Find the countries which held more than 2 Olympic Games (both Summer and Winter Games, do not consider future Olympic Games) (the result set must be a list of triples country IRI, label and #edition held).\n",
    "\n",
    "4. Consider the 2008 Summer Olympic Games. Identify all the sports played in this edition (the result set must be a list of couples sport IRI and label).\n",
    "\n",
    "5. Consider the 2008 Summer Olympic Games. For each sport return the number of different disciplines (the result set must be a list of triples sport IRI, label and #disciplines).\n",
    "\n",
    "6. Consider the 2008 Summer Olympic Games. Find the top-10 people who won more gold medals (the result set must be a list of triples athlete IRI, label and #gold medal).\n",
    "\n",
    "7. Find athletes who won at least one gold medal in 4 different editions of the Summer Olympic Games (the result set must be a list of triples athlete IRI, label and #edition).\n",
    "\n",
    "8. Consider all the edition of the Summer Olympic Games. For each sport return the athlete who won more gold medal (the result set must be a list of elements with sport IRI and label, athlete IRI and label, and #gold medal). "
   ]
  },
  {
   "cell_type": "markdown",
   "id": "2e761c68",
   "metadata": {},
   "source": [
    "## Task 1\n",
    "Identify the BGP for Olympic Games"
   ]
  },
  {
   "cell_type": "code",
   "execution_count": 17,
   "id": "484b0159",
   "metadata": {},
   "outputs": [
    {
     "name": "stdout",
     "output_type": "stream",
     "text": [
      "Results\n",
      "[('obj', 'http://www.wikidata.org/entity/Q5389'), ('name', 'Olympic Games')]\n",
      "1\n"
     ]
    }
   ],
   "source": [
    "# query example\n",
    "queryString = \"\"\"\n",
    "SELECT DISTINCT ?obj ?name\n",
    "WHERE {\n",
    "   # bind something\n",
    "   #wd:Q1189 ?p ?obj . #we get Usain Bolt data\n",
    "   #wd:Q8567 ?p ?obj. #we get 2008 \"Summer Olympic\" by \"Usain Bolt\"-\"participant\" relation.\n",
    "   #wd:Q159821 ?p ?obj. #we get \"Summer Olympic Games\" by \"Summer Olympic\"-\"instance of\" relation.\n",
    "   wd:Q159821 wdt:P279 ?obj.\n",
    "   \n",
    "   # get the label\n",
    "   ?obj sc:name ?name.\n",
    "}\n",
    "\"\"\"\n",
    "\n",
    "print(\"Results\")\n",
    "x=run_query(queryString)"
   ]
  },
  {
   "cell_type": "markdown",
   "id": "032ee86f",
   "metadata": {},
   "source": [
    "Final query for this task"
   ]
  },
  {
   "cell_type": "code",
   "execution_count": 18,
   "id": "8fe9282e",
   "metadata": {},
   "outputs": [
    {
     "name": "stdout",
     "output_type": "stream",
     "text": [
      "Results\n",
      "[('p', 'http://www.wikidata.org/prop/direct/P1051'), ('name', 'PSH ID')]\n",
      "[('p', 'http://www.wikidata.org/prop/direct/P1151'), ('name', \"topic's main Wikimedia portal\")]\n",
      "[('p', 'http://www.wikidata.org/prop/direct/P1225'), ('name', 'U.S. National Archives Identifier')]\n",
      "[('p', 'http://www.wikidata.org/prop/direct/P1245'), ('name', 'OmegaWiki Defined Meaning')]\n",
      "[('p', 'http://www.wikidata.org/prop/direct/P1296'), ('name', 'Gran Enciclopèdia Catalana ID')]\n",
      "[('p', 'http://www.wikidata.org/prop/direct/P1343'), ('name', 'described by source')]\n",
      "[('p', 'http://www.wikidata.org/prop/direct/P1417'), ('name', 'Encyclopædia Britannica Online ID')]\n",
      "[('p', 'http://www.wikidata.org/prop/direct/P1424'), ('name', \"topic's main template\")]\n",
      "[('p', 'http://www.wikidata.org/prop/direct/P1546'), ('name', 'motto')]\n",
      "[('p', 'http://www.wikidata.org/prop/direct/P163'), ('name', 'flag')]\n",
      "[('p', 'http://www.wikidata.org/prop/direct/P18'), ('name', 'image')]\n",
      "[('p', 'http://www.wikidata.org/prop/direct/P1807'), ('name', 'Great Aragonese Encyclopedia ID')]\n",
      "[('p', 'http://www.wikidata.org/prop/direct/P1889'), ('name', 'different from')]\n",
      "[('p', 'http://www.wikidata.org/prop/direct/P2002'), ('name', 'Twitter username')]\n",
      "[('p', 'http://www.wikidata.org/prop/direct/P214'), ('name', 'VIAF ID')]\n",
      "[('p', 'http://www.wikidata.org/prop/direct/P2257'), ('name', 'event interval')]\n",
      "[('p', 'http://www.wikidata.org/prop/direct/P227'), ('name', 'GND ID')]\n",
      "[('p', 'http://www.wikidata.org/prop/direct/P2347'), ('name', 'YSO ID')]\n",
      "[('p', 'http://www.wikidata.org/prop/direct/P2397'), ('name', 'YouTube channel ID')]\n",
      "[('p', 'http://www.wikidata.org/prop/direct/P244'), ('name', 'Library of Congress authority ID')]\n",
      "20\n"
     ]
    }
   ],
   "source": [
    "# write your final query\n",
    "queryString = \"\"\"\n",
    "SELECT DISTINCT ?p ?name\n",
    "WHERE {\n",
    "   # bind something\n",
    "   wd:Q5389 ?p ?obj.\n",
    "   # get the label\n",
    "   ?p sc:name ?name.\n",
    "}limit 20\n",
    "\"\"\"\n",
    "\n",
    "print(\"Results\")\n",
    "x=run_query(queryString)"
   ]
  },
  {
   "cell_type": "markdown",
   "id": "214e0ae7",
   "metadata": {},
   "source": [
    "## Task 2\n",
    "Return all the editions of the Summer Olympic Games (do not consider future Olympic Games) with the country where they were played (the result set must be a list of elements with edition IRI and label, and country IRI and label)."
   ]
  },
  {
   "cell_type": "code",
   "execution_count": 20,
   "id": "4ec3ee08",
   "metadata": {},
   "outputs": [
    {
     "name": "stdout",
     "output_type": "stream",
     "text": [
      "Results\n",
      "[('countries', 'http://www.wikidata.org/entity/Q1206012'), ('name', 'German Reich')]\n",
      "[('countries', 'http://www.wikidata.org/entity/Q142'), ('name', 'France')]\n",
      "[('countries', 'http://www.wikidata.org/entity/Q145'), ('name', 'United Kingdom')]\n",
      "[('countries', 'http://www.wikidata.org/entity/Q148'), ('name', \"People's Republic of China\")]\n",
      "[('countries', 'http://www.wikidata.org/entity/Q15180'), ('name', 'Soviet Union')]\n",
      "[('countries', 'http://www.wikidata.org/entity/Q155'), ('name', 'Brazil')]\n",
      "[('countries', 'http://www.wikidata.org/entity/Q16'), ('name', 'Canada')]\n",
      "[('countries', 'http://www.wikidata.org/entity/Q17'), ('name', 'Japan')]\n",
      "[('countries', 'http://www.wikidata.org/entity/Q174193'), ('name', 'United Kingdom of Great Britain and Ireland')]\n",
      "[('countries', 'http://www.wikidata.org/entity/Q183'), ('name', 'Germany')]\n",
      "[('countries', 'http://www.wikidata.org/entity/Q29'), ('name', 'Spain')]\n",
      "[('countries', 'http://www.wikidata.org/entity/Q30'), ('name', 'United States of America')]\n",
      "[('countries', 'http://www.wikidata.org/entity/Q31'), ('name', 'Belgium')]\n",
      "[('countries', 'http://www.wikidata.org/entity/Q33'), ('name', 'Finland')]\n",
      "[('countries', 'http://www.wikidata.org/entity/Q34'), ('name', 'Sweden')]\n",
      "[('countries', 'http://www.wikidata.org/entity/Q408'), ('name', 'Australia')]\n",
      "[('countries', 'http://www.wikidata.org/entity/Q41'), ('name', 'Greece')]\n",
      "[('countries', 'http://www.wikidata.org/entity/Q55'), ('name', 'Netherlands')]\n",
      "[('countries', 'http://www.wikidata.org/entity/Q884'), ('name', 'South Korea')]\n",
      "[('countries', 'http://www.wikidata.org/entity/Q96'), ('name', 'Mexico')]\n",
      "20\n"
     ]
    }
   ],
   "source": [
    "# write your queries\n",
    "#we have the \"Summer Olympic Games\" data from previous code\n",
    "queryString = \"\"\"\n",
    "SELECT DISTINCT ?countries ?name\n",
    "WHERE {\n",
    "   # bind something\n",
    "   #wd:Q159821 ?p ?obj. #getting \"Summer Olympic Games\" data\n",
    "   wd:Q159821 wdt:P527 ?obj. #getting all the editions of the Summer Olympic Games by \"Summer Olympic Games\"-\"has parts\" relation.\n",
    "   ?obj wdt:P17 ?countries. #getting country data of the games for each edition of summer olympic games.  \n",
    "   # get the label\n",
    "   ?countries sc:name ?name.\n",
    "}limit 20\n",
    "\"\"\"\n",
    "\n",
    "print(\"Results\")\n",
    "x=run_query(queryString)\n"
   ]
  },
  {
   "cell_type": "markdown",
   "id": "9af4a813",
   "metadata": {},
   "source": [
    "Final query for this task"
   ]
  },
  {
   "cell_type": "code",
   "execution_count": 21,
   "id": "3a403294",
   "metadata": {},
   "outputs": [
    {
     "name": "stdout",
     "output_type": "stream",
     "text": [
      "Results\n",
      "[('countries', 'http://www.wikidata.org/entity/Q1206012'), ('label', 'http://www.wikidata.org/entity/Q8123'), ('nameLabel', '1916 Summer Olympics'), ('nameCountry', 'German Reich')]\n",
      "[('countries', 'http://www.wikidata.org/entity/Q1206012'), ('label', 'http://www.wikidata.org/entity/Q8150'), ('nameLabel', '1936 Summer Olympics'), ('nameCountry', 'German Reich')]\n",
      "[('countries', 'http://www.wikidata.org/entity/Q142'), ('label', 'http://www.wikidata.org/entity/Q995653'), ('nameLabel', '2024 Summer Olympics'), ('nameCountry', 'France')]\n",
      "[('countries', 'http://www.wikidata.org/entity/Q142'), ('label', 'http://www.wikidata.org/entity/Q8088'), ('nameLabel', '1900 Summer Olympics'), ('nameCountry', 'France')]\n",
      "[('countries', 'http://www.wikidata.org/entity/Q142'), ('label', 'http://www.wikidata.org/entity/Q8132'), ('nameLabel', '1924 Summer Olympics'), ('nameCountry', 'France')]\n",
      "[('countries', 'http://www.wikidata.org/entity/Q145'), ('label', 'http://www.wikidata.org/entity/Q8376'), ('nameLabel', '1944 Summer Olympics'), ('nameCountry', 'United Kingdom')]\n",
      "[('countries', 'http://www.wikidata.org/entity/Q145'), ('label', 'http://www.wikidata.org/entity/Q8577'), ('nameLabel', '2012 Summer Olympics'), ('nameCountry', 'United Kingdom')]\n",
      "[('countries', 'http://www.wikidata.org/entity/Q145'), ('label', 'http://www.wikidata.org/entity/Q8403'), ('nameLabel', '1948 Summer Olympics'), ('nameCountry', 'United Kingdom')]\n",
      "[('countries', 'http://www.wikidata.org/entity/Q148'), ('label', 'http://www.wikidata.org/entity/Q8567'), ('nameLabel', '2008 Summer Olympics'), ('nameCountry', \"People's Republic of China\")]\n",
      "[('countries', 'http://www.wikidata.org/entity/Q15180'), ('label', 'http://www.wikidata.org/entity/Q8450'), ('nameLabel', '1980 Summer Olympics'), ('nameCountry', 'Soviet Union')]\n",
      "[('countries', 'http://www.wikidata.org/entity/Q155'), ('label', 'http://www.wikidata.org/entity/Q8531'), ('nameLabel', '1996 Summer Olympics'), ('nameCountry', 'Brazil')]\n",
      "[('countries', 'http://www.wikidata.org/entity/Q155'), ('label', 'http://www.wikidata.org/entity/Q8613'), ('nameLabel', '2016 Summer Olympics'), ('nameCountry', 'Brazil')]\n",
      "[('countries', 'http://www.wikidata.org/entity/Q16'), ('label', 'http://www.wikidata.org/entity/Q8444'), ('nameLabel', '1976 Summer Olympics'), ('nameCountry', 'Canada')]\n",
      "[('countries', 'http://www.wikidata.org/entity/Q17'), ('label', 'http://www.wikidata.org/entity/Q8368'), ('nameLabel', '1940 Summer Olympics'), ('nameCountry', 'Japan')]\n",
      "[('countries', 'http://www.wikidata.org/entity/Q17'), ('label', 'http://www.wikidata.org/entity/Q181278'), ('nameLabel', '2020 Summer Olympics'), ('nameCountry', 'Japan')]\n",
      "[('countries', 'http://www.wikidata.org/entity/Q17'), ('label', 'http://www.wikidata.org/entity/Q8420'), ('nameLabel', '1964 Summer Olympics'), ('nameCountry', 'Japan')]\n",
      "[('countries', 'http://www.wikidata.org/entity/Q174193'), ('label', 'http://www.wikidata.org/entity/Q8111'), ('nameLabel', '1908 Summer Olympics'), ('nameCountry', 'United Kingdom of Great Britain and Ireland')]\n",
      "[('countries', 'http://www.wikidata.org/entity/Q183'), ('label', 'http://www.wikidata.org/entity/Q8438'), ('nameLabel', '1972 Summer Olympics'), ('nameCountry', 'Germany')]\n",
      "[('countries', 'http://www.wikidata.org/entity/Q29'), ('label', 'http://www.wikidata.org/entity/Q8488'), ('nameLabel', '1992 Summer Olympics'), ('nameCountry', 'Spain')]\n",
      "[('countries', 'http://www.wikidata.org/entity/Q30'), ('label', 'http://www.wikidata.org/entity/Q1451505'), ('nameLabel', '2028 Summer Olympics'), ('nameCountry', 'United States of America')]\n",
      "20\n"
     ]
    }
   ],
   "source": [
    "# write your final query# \n",
    "queryString = \"\"\"\n",
    "SELECT DISTINCT ?countries ?label ?nameLabel ?nameCountry\n",
    "WHERE {\n",
    "   wd:Q159821 wdt:P527 ?label. #getting all the editions of the Summer Olympic Games by \"Summer Olympic Games\"-\"has parts\" relation.\n",
    "   ?label wdt:P17 ?countries. #getting country data of the games for each edition of summer olympic games.  \n",
    "   # get the label\n",
    "   ?label sc:name ?nameLabel.\n",
    "   ?countries sc:name ?nameCountry.\n",
    "}limit 20\n",
    "\"\"\"\n",
    "\n",
    "print(\"Results\")\n",
    "x=run_query(queryString)\n"
   ]
  },
  {
   "cell_type": "markdown",
   "id": "922244fb",
   "metadata": {},
   "source": [
    "## Task 3\n",
    "Find the countries which held more than 2 Olympic Games (both Summer and Winter Games, do not consider future Olympic Games) (the result set must be a list of triples country IRI, label and #edition held)."
   ]
  },
  {
   "cell_type": "code",
   "execution_count": 96,
   "id": "1ecb3dc4",
   "metadata": {},
   "outputs": [
    {
     "name": "stdout",
     "output_type": "stream",
     "text": [
      "Results\n",
      "[('country', 'http://www.wikidata.org/entity/Q16'), ('countryname', 'Canada'), ('numberOfGames', '3')]\n",
      "[('country', 'http://www.wikidata.org/entity/Q38'), ('countryname', 'Italy'), ('numberOfGames', '3')]\n",
      "[('country', 'http://www.wikidata.org/entity/Q155'), ('countryname', 'Brazil'), ('numberOfGames', '2')]\n",
      "[('country', 'http://www.wikidata.org/entity/Q148'), ('countryname', \"People's Republic of China\"), ('numberOfGames', '2')]\n",
      "[('country', 'http://www.wikidata.org/entity/Q142'), ('countryname', 'France'), ('numberOfGames', '6')]\n",
      "[('country', 'http://www.wikidata.org/entity/Q40'), ('countryname', 'Austria'), ('numberOfGames', '2')]\n",
      "[('country', 'http://www.wikidata.org/entity/Q1206012'), ('countryname', 'German Reich'), ('numberOfGames', '3')]\n",
      "[('country', 'http://www.wikidata.org/entity/Q884'), ('countryname', 'South Korea'), ('numberOfGames', '2')]\n",
      "[('country', 'http://www.wikidata.org/entity/Q17'), ('countryname', 'Japan'), ('numberOfGames', '6')]\n",
      "[('country', 'http://www.wikidata.org/entity/Q20'), ('countryname', 'Norway'), ('numberOfGames', '2')]\n",
      "[('country', 'http://www.wikidata.org/entity/Q30'), ('countryname', 'United States of America'), ('numberOfGames', '8')]\n",
      "[('country', 'http://www.wikidata.org/entity/Q408'), ('countryname', 'Australia'), ('numberOfGames', '3')]\n",
      "[('country', 'http://www.wikidata.org/entity/Q145'), ('countryname', 'United Kingdom'), ('numberOfGames', '3')]\n",
      "[('country', 'http://www.wikidata.org/entity/Q39'), ('countryname', 'Switzerland'), ('numberOfGames', '2')]\n",
      "[('country', 'http://www.wikidata.org/entity/Q96'), ('countryname', 'Mexico'), ('numberOfGames', '2')]\n",
      "15\n"
     ]
    }
   ],
   "source": [
    "# write your queries \n",
    "queryString = \"\"\"\n",
    "SELECT DISTINCT  ?country ?countryname  (count(?g) as ?numberOfGames)\n",
    "WHERE {\n",
    "  ?game wdt:P279 wd:Q5389. #getting all the games which are subclass of \"Olympic Games\"\n",
    "  ?g wdt:P31 ?game. #getting the game edditions by \"instance of\"-\"games\" relation\n",
    "  ?g wdt:P17 ?country. #getting the countries\n",
    "  filter regex (str(?gname),  '(Summer|Winter)' ). #filtering the games to get only Winter and Summer games.\n",
    "  \n",
    "  ?g sc:name ?gname.\n",
    "  ?country sc:name ?countryname.\n",
    "  \n",
    "}group by ?country ?countryname\n",
    "having (count(?g) >= 2)\n",
    "limit 20\n",
    "\"\"\"\n",
    "\n",
    "print(\"Results\")\n",
    "x=run_query(queryString)\n"
   ]
  },
  {
   "cell_type": "markdown",
   "id": "845b3834",
   "metadata": {},
   "source": [
    "Final query for this task"
   ]
  },
  {
   "cell_type": "code",
   "execution_count": 97,
   "id": "14909acc",
   "metadata": {},
   "outputs": [
    {
     "name": "stdout",
     "output_type": "stream",
     "text": [
      "Results\n",
      "[('country', 'http://www.wikidata.org/entity/Q16'), ('countryname', 'Canada'), ('numberOfGames', '3')]\n",
      "[('country', 'http://www.wikidata.org/entity/Q38'), ('countryname', 'Italy'), ('numberOfGames', '3')]\n",
      "[('country', 'http://www.wikidata.org/entity/Q155'), ('countryname', 'Brazil'), ('numberOfGames', '2')]\n",
      "[('country', 'http://www.wikidata.org/entity/Q148'), ('countryname', \"People's Republic of China\"), ('numberOfGames', '2')]\n",
      "[('country', 'http://www.wikidata.org/entity/Q142'), ('countryname', 'France'), ('numberOfGames', '6')]\n",
      "[('country', 'http://www.wikidata.org/entity/Q40'), ('countryname', 'Austria'), ('numberOfGames', '2')]\n",
      "[('country', 'http://www.wikidata.org/entity/Q1206012'), ('countryname', 'German Reich'), ('numberOfGames', '3')]\n",
      "[('country', 'http://www.wikidata.org/entity/Q884'), ('countryname', 'South Korea'), ('numberOfGames', '2')]\n",
      "[('country', 'http://www.wikidata.org/entity/Q17'), ('countryname', 'Japan'), ('numberOfGames', '6')]\n",
      "[('country', 'http://www.wikidata.org/entity/Q20'), ('countryname', 'Norway'), ('numberOfGames', '2')]\n",
      "[('country', 'http://www.wikidata.org/entity/Q30'), ('countryname', 'United States of America'), ('numberOfGames', '8')]\n",
      "[('country', 'http://www.wikidata.org/entity/Q408'), ('countryname', 'Australia'), ('numberOfGames', '3')]\n",
      "[('country', 'http://www.wikidata.org/entity/Q145'), ('countryname', 'United Kingdom'), ('numberOfGames', '3')]\n",
      "[('country', 'http://www.wikidata.org/entity/Q39'), ('countryname', 'Switzerland'), ('numberOfGames', '2')]\n",
      "[('country', 'http://www.wikidata.org/entity/Q96'), ('countryname', 'Mexico'), ('numberOfGames', '2')]\n",
      "15\n"
     ]
    }
   ],
   "source": [
    "# write your final query\n",
    "queryString = \"\"\"\n",
    "SELECT DISTINCT  ?country ?countryname  (count(?g) as ?numberOfGames)\n",
    "WHERE {\n",
    "  ?game wdt:P279 wd:Q5389. #getting all the games which are subclass of \"Olympic Games\"\n",
    "  ?g wdt:P31 ?game. #getting the game edditions by \"instance of\"-\"games\" relation\n",
    "  ?g wdt:P17 ?country. #getting the countries\n",
    "  filter regex (str(?gname),  '(Summer|Winter)' ). #filtering the games to get only Winter and Summer games.\n",
    "  \n",
    "  ?g sc:name ?gname.\n",
    "  ?country sc:name ?countryname.\n",
    "  \n",
    "}group by ?country ?countryname\n",
    "having (count(?g) >= 2)\n",
    "limit 20\n",
    "\"\"\"\n",
    "\n",
    "print(\"Results\")\n",
    "x=run_query(queryString)\n"
   ]
  },
  {
   "cell_type": "markdown",
   "id": "2caa366a",
   "metadata": {},
   "source": [
    "## Task 4\n",
    "Consider the 2008 Summer Olympic Games. Identify all the sports played in this edition (the result set must be a list of couples sport IRI and label)."
   ]
  },
  {
   "cell_type": "code",
   "execution_count": 98,
   "id": "1c1eb5a8",
   "metadata": {},
   "outputs": [
    {
     "name": "stdout",
     "output_type": "stream",
     "text": [
      "Results\n",
      "[('playedGames', 'http://www.wikidata.org/entity/Q221132'), ('gameNames', 'field hockey at the 2008 Summer Olympics')]\n",
      "[('playedGames', 'http://www.wikidata.org/entity/Q387526'), ('gameNames', 'table tennis at the 2008 Summer Olympics')]\n",
      "[('playedGames', 'http://www.wikidata.org/entity/Q220654'), ('gameNames', 'wrestling at the 2008 Summer Olympics')]\n",
      "[('playedGames', 'http://www.wikidata.org/entity/Q204844'), ('gameNames', 'swimming at the 2008 Summer Olympics')]\n",
      "[('playedGames', 'http://www.wikidata.org/entity/Q220942'), ('gameNames', 'water polo at the 2008 Summer Olympics')]\n",
      "[('playedGames', 'http://www.wikidata.org/entity/Q212887'), ('gameNames', 'weightlifting at the 2008 Summer Olympics')]\n",
      "[('playedGames', 'http://www.wikidata.org/entity/Q220930'), ('gameNames', 'boxing at the 2008 Summer Olympics')]\n",
      "[('playedGames', 'http://www.wikidata.org/entity/Q189816'), ('gameNames', 'basketball at the 2008 Summer Olympics')]\n",
      "[('playedGames', 'http://www.wikidata.org/entity/Q2022469'), ('gameNames', 'trampoline gymnastics at the 2008 Summer Olympics')]\n",
      "[('playedGames', 'http://www.wikidata.org/entity/Q207004'), ('gameNames', 'badminton at the 2008 Summer Olympics')]\n",
      "[('playedGames', 'http://www.wikidata.org/entity/Q697280'), ('gameNames', 'artistic gymnastics at the 2008 Summer Olympics')]\n",
      "[('playedGames', 'http://www.wikidata.org/entity/Q207439'), ('gameNames', 'cycling at the 2008 Summer Olympics')]\n",
      "[('playedGames', 'http://www.wikidata.org/entity/Q318197'), ('gameNames', 'canoeing at the 2008 Summer Olympics')]\n",
      "[('playedGames', 'http://www.wikidata.org/entity/Q316781'), ('gameNames', 'shooting at the 2008 Summer Olympics')]\n",
      "[('playedGames', 'http://www.wikidata.org/entity/Q497648'), ('gameNames', 'diving at the 2008 Summer Olympics')]\n",
      "[('playedGames', 'http://www.wikidata.org/entity/Q1479475'), ('gameNames', 'rhythmic gymnastics at the 2008 Summer Olympics')]\n",
      "[('playedGames', 'http://www.wikidata.org/entity/Q194246'), ('gameNames', 'tennis at the 2008 Summer Olympics')]\n",
      "[('playedGames', 'http://www.wikidata.org/entity/Q191948'), ('gameNames', 'football at the 2008 Summer Olympics')]\n",
      "[('playedGames', 'http://www.wikidata.org/entity/Q189941'), ('gameNames', 'athletics at the 2008 Summer Olympics')]\n",
      "[('playedGames', 'http://www.wikidata.org/entity/Q318205'), ('gameNames', 'fencing at the 2008 Summer Olympics')]\n",
      "20\n"
     ]
    }
   ],
   "source": [
    "# write your queries\n",
    "#2008 Summer Olympic Games data was found in previous codes\n",
    "queryString = \"\"\"\n",
    "SELECT DISTINCT  ?playedGames ?gameNames\n",
    "WHERE {\n",
    "  wd:Q8567 wdt:P527 ?playedGames. #finding the games that was played by \"2008 Summer Olympic Games\"-\"has parts\" relation.\n",
    "  ?playedGames sc:name ?gameNames.\n",
    "  ?gameNames ?p ?obj. #we see the game datas so we can collect the regular name of the sport\n",
    "}\n",
    "limit 20\n",
    "\"\"\"\n",
    "\n",
    "print(\"Results\")\n",
    "x=run_query(queryString)\n"
   ]
  },
  {
   "cell_type": "markdown",
   "id": "ab8f0638",
   "metadata": {},
   "source": [
    "Final query for this task"
   ]
  },
  {
   "cell_type": "code",
   "execution_count": 99,
   "id": "73fd7900",
   "metadata": {},
   "outputs": [
    {
     "name": "stdout",
     "output_type": "stream",
     "text": [
      "Results\n",
      "[('name', 'http://www.wikidata.org/entity/Q10980'), ('gameNames', 'triathlon')]\n",
      "[('name', 'http://www.wikidata.org/entity/Q213934'), ('gameNames', 'canoeing and kayaking')]\n",
      "[('name', 'http://www.wikidata.org/entity/Q326827'), ('gameNames', 'artistic gymnastics')]\n",
      "[('name', 'http://www.wikidata.org/entity/Q180692'), ('gameNames', 'synchronized swimming')]\n",
      "[('name', 'http://www.wikidata.org/entity/Q465014'), ('gameNames', 'trampolining')]\n",
      "[('name', 'http://www.wikidata.org/entity/Q1455'), ('gameNames', 'field hockey')]\n",
      "[('name', 'http://www.wikidata.org/entity/Q1734'), ('gameNames', 'volleyball')]\n",
      "[('name', 'http://www.wikidata.org/entity/Q206989'), ('gameNames', 'shooting sport')]\n",
      "[('name', 'http://www.wikidata.org/entity/Q2736'), ('gameNames', 'association football')]\n",
      "[('name', 'http://www.wikidata.org/entity/Q31920'), ('gameNames', 'swimming')]\n",
      "[('name', 'http://www.wikidata.org/entity/Q32112'), ('gameNames', 'boxing')]\n",
      "[('name', 'http://www.wikidata.org/entity/Q4543'), ('gameNames', 'beach volleyball')]\n",
      "[('name', 'http://www.wikidata.org/entity/Q5369'), ('gameNames', 'baseball')]\n",
      "[('name', 'http://www.wikidata.org/entity/Q5372'), ('gameNames', 'basketball')]\n",
      "[('name', 'http://www.wikidata.org/entity/Q542'), ('gameNames', 'athletics')]\n",
      "[('name', 'http://www.wikidata.org/entity/Q61465'), ('gameNames', 'rhythmic gymnastics')]\n",
      "[('name', 'http://www.wikidata.org/entity/Q7707'), ('gameNames', 'water polo')]\n",
      "[('name', 'http://www.wikidata.org/entity/Q847'), ('gameNames', 'tennis')]\n",
      "[('name', 'http://www.wikidata.org/entity/Q11420'), ('gameNames', 'judo')]\n",
      "[('name', 'http://www.wikidata.org/entity/Q108429'), ('gameNames', 'archery')]\n",
      "20\n"
     ]
    }
   ],
   "source": [
    "# write your final query\n",
    "#2008 Summer Olympic Games data was found in previous codes\n",
    "queryString = \"\"\"\n",
    "SELECT DISTINCT  ?name ?gameNames\n",
    "WHERE {\n",
    "  wd:Q8567 wdt:P527 ?playedGames. #finding the games that was played by \"2008 Summer Olympic Games\"-\"has parts\" relation.\n",
    "  ?playedGames wdt:P641 ?name.\n",
    "  ?name sc:name ?gameNames.\n",
    "  \n",
    "}\n",
    "limit 20\n",
    "\"\"\"\n",
    "\n",
    "print(\"Results\")\n",
    "x=run_query(queryString)\n"
   ]
  },
  {
   "cell_type": "markdown",
   "id": "161f73dd",
   "metadata": {},
   "source": [
    "## Task 5\n",
    "Consider the 2008 Summer Olympic Games. For each sport return the number of different disciplines (the result set must be a list of triples sport IRI, label and #disciplines)."
   ]
  },
  {
   "cell_type": "code",
   "execution_count": 109,
   "id": "e9924d86",
   "metadata": {},
   "outputs": [
    {
     "name": "stdout",
     "output_type": "stream",
     "text": [
      "Results\n",
      "[('disciplineNum', '4'), ('name', 'http://www.wikidata.org/entity/Q1734'), ('sportname', 'volleyball')]\n",
      "[('disciplineNum', '6'), ('name', 'http://www.wikidata.org/entity/Q43450'), ('sportname', 'gymnastics')]\n",
      "[('disciplineNum', '2'), ('name', 'http://www.wikidata.org/entity/Q32112'), ('sportname', 'boxing')]\n",
      "[('disciplineNum', '1'), ('name', 'http://www.wikidata.org/entity/Q5369'), ('sportname', 'baseball')]\n",
      "[('disciplineNum', '2'), ('name', 'http://www.wikidata.org/entity/Q213934'), ('sportname', 'canoeing and kayaking')]\n",
      "[('disciplineNum', '8'), ('name', 'http://www.wikidata.org/entity/Q542'), ('sportname', 'athletics')]\n",
      "[('disciplineNum', '3'), ('name', 'http://www.wikidata.org/entity/Q10980'), ('sportname', 'triathlon')]\n",
      "[('disciplineNum', '5'), ('name', 'http://www.wikidata.org/entity/Q32485'), ('sportname', 'modern pentathlon')]\n",
      "8\n"
     ]
    }
   ],
   "source": [
    "#2008 Summer Olympic Games data was found in previous codes\n",
    "queryString = \"\"\"\n",
    "SELECT DISTINCT  (count(?disc) as ?disciplineNum) ?name ?sportname\n",
    "WHERE {\n",
    "  wd:Q8567 wdt:P527 ?playedGames. #finding the games that was played by \"2008 Summer Olympic Games\"-\"has parts\" relation.\n",
    "  ?playedGames wdt:P641 ?name.\n",
    "  ?name wdt:P527 ?disc.  #after finding the names of the games we find the related disciplines by using sports name-\"has parts\" relation\n",
    "  ?name sc:name ?sportname.\n",
    "  \n",
    "}group by ?name ?sportname\n",
    "limit 20\n",
    "\"\"\"\n",
    "\n",
    "print(\"Results\")\n",
    "x=run_query(queryString)\n"
   ]
  },
  {
   "cell_type": "markdown",
   "id": "fdb9afa2",
   "metadata": {},
   "source": [
    "Final query for this task"
   ]
  },
  {
   "cell_type": "code",
   "execution_count": null,
   "id": "02f881c5",
   "metadata": {},
   "outputs": [],
   "source": [
    "# write your final query\n",
    "queryString = \"\"\"\n",
    "SELECT DISTINCT  (count(?disc) as ?disciplineNum) ?name ?sportname\n",
    "WHERE {\n",
    "  wd:Q8567 wdt:P527 ?playedGames. #finding the games that was played by \"2008 Summer Olympic Games\"-\"has parts\" relation.\n",
    "  ?playedGames wdt:P641 ?name.\n",
    "  ?name wdt:P527 ?disc.  #after finding the names of the games we find the related disciplines by using sports name-\"has parts\" relation\n",
    "  ?name sc:name ?sportname.\n",
    "  \n",
    "}group by ?name ?sportname\n",
    "limit 20\n",
    "\"\"\"\n",
    "\n",
    "print(\"Results\")\n",
    "x=run_query(queryString)\n"
   ]
  },
  {
   "cell_type": "markdown",
   "id": "50748ea3",
   "metadata": {},
   "source": [
    "## Task 6\n",
    "Consider the 2008 Summer Olympic Games. Find the top-10 people who won more gold medals (the result set must be a list of triples athlete IRI, label and #gold medal)."
   ]
  },
  {
   "cell_type": "code",
   "execution_count": 204,
   "id": "1ca4e42b",
   "metadata": {},
   "outputs": [
    {
     "name": "stdout",
     "output_type": "stream",
     "text": [
      "Results\n",
      "Empty\n"
     ]
    }
   ],
   "source": [
    "queryString = \"\"\" #first we find all the people who participated in \"2008 Summer Olympic Games\"\n",
    "SELECT DISTINCT   ?o ?objname\n",
    "WHERE {\n",
    "\n",
    "    #wd:Q8567 wdt:P710 ?participants . #all the participants who was in \"2008 Summer Olympic Games\"\n",
    "    ?participants wdt:P1344 wd:Q8567. \n",
    "    #?participants wdt:P1346 wd:Q15243387.\n",
    "    \n",
    "    wd:1346 wdt:1855 ?o.\n",
    "    #?s ?p wd:Q15243387.\n",
    "\n",
    "    #?editions wdt:P166 ?obj. #we see all the awards by \"participated in\"-\"awarded\" relation.\n",
    "    #?athlete wdt:P1344 ?editions . \n",
    "    #?edition wdt:P1344 wdt:P166 wd:Q15243387.\n",
    "    \n",
    "    #?s sc:name ?athletename .\n",
    "    ?o sc:name ?objname.\n",
    "} limit 20\n",
    "\n",
    "\"\"\"\n",
    "\n",
    "print(\"Results\")\n",
    "x=run_query(queryString)\n"
   ]
  },
  {
   "cell_type": "markdown",
   "id": "57c9ca05",
   "metadata": {},
   "source": [
    "Final query for this task"
   ]
  },
  {
   "cell_type": "code",
   "execution_count": 140,
   "id": "24dc8dba",
   "metadata": {},
   "outputs": [
    {
     "name": "stdout",
     "output_type": "stream",
     "text": [
      "Results\n",
      "[('s', 'http://www.wikidata.org/entity/Q126119'), ('name', 'Michał Jeliński')]\n",
      "[('s', 'http://www.wikidata.org/entity/Q10058'), ('name', 'Justine Smethurst')]\n",
      "[('s', 'http://www.wikidata.org/entity/Q119562'), ('name', 'Sergio Agüero')]\n",
      "[('s', 'http://www.wikidata.org/entity/Q1150190'), ('name', 'Cédric Burdet')]\n",
      "[('s', 'http://www.wikidata.org/entity/Q1094035'), ('name', 'Gemma Beadsworth')]\n",
      "[('s', 'http://www.wikidata.org/entity/Q1283673'), ('name', 'Steve Williams')]\n",
      "[('s', 'http://www.wikidata.org/entity/Q1042890'), ('name', 'Carlos Espínola')]\n",
      "[('s', 'http://www.wikidata.org/entity/Q1281809'), ('name', 'Slobodan Soro')]\n",
      "[('s', 'http://www.wikidata.org/entity/Q1267138'), ('name', 'Ruslan Tumenbaev')]\n",
      "[('s', 'http://www.wikidata.org/entity/Q1174097'), ('name', 'David Crawshay')]\n",
      "[('s', 'http://www.wikidata.org/entity/Q1097044'), ('name', 'Claude Onesta')]\n",
      "[('s', 'http://www.wikidata.org/entity/Q127132'), ('name', 'Paddy Barnes')]\n",
      "[('s', 'http://www.wikidata.org/entity/Q1232757'), ('name', 'Dmitry Klokov')]\n",
      "[('s', 'http://www.wikidata.org/entity/Q1167606'), ('name', 'Márcio Araújo')]\n",
      "[('s', 'http://www.wikidata.org/entity/Q1258722'), ('name', 'Drew Ginn')]\n",
      "[('s', 'http://www.wikidata.org/entity/Q1048599'), ('name', 'Yordenis Ugás')]\n",
      "[('s', 'http://www.wikidata.org/entity/Q1061938'), ('name', 'Chang Yongxiang')]\n",
      "[('s', 'http://www.wikidata.org/entity/Q1174177'), ('name', 'David Davis')]\n",
      "[('s', 'http://www.wikidata.org/entity/Q1081275'), ('name', 'Dénes Varga')]\n",
      "[('s', 'http://www.wikidata.org/entity/Q10062'), ('name', 'Laura Berg')]\n",
      "[('s', 'http://www.wikidata.org/entity/Q125826'), ('name', 'Alina Dumitru')]\n",
      "[('s', 'http://www.wikidata.org/entity/Q124327'), ('name', 'Dante Amaral')]\n",
      "[('s', 'http://www.wikidata.org/entity/Q1189365'), ('name', 'Dmitriy Dobroskok')]\n",
      "[('s', 'http://www.wikidata.org/entity/Q1273290'), ('name', 'Jason Turner')]\n",
      "[('s', 'http://www.wikidata.org/entity/Q1099283'), ('name', 'Clayton Fredericks')]\n",
      "[('s', 'http://www.wikidata.org/entity/Q1204639'), ('name', 'Oleksandr Petriv')]\n",
      "[('s', 'http://www.wikidata.org/entity/Q1187717'), ('name', 'Denis Šefik')]\n",
      "[('s', 'http://www.wikidata.org/entity/Q1059871'), ('name', 'Yana Uskova')]\n",
      "[('s', 'http://www.wikidata.org/entity/Q1072603'), ('name', 'Chika Chukwumerije')]\n",
      "[('s', 'http://www.wikidata.org/entity/Q117703'), ('name', 'Ludwig Paischer')]\n",
      "[('s', 'http://www.wikidata.org/entity/Q1046140'), ('name', 'Taylor Teagarden')]\n",
      "[('s', 'http://www.wikidata.org/entity/Q1274732'), ('name', 'Filip Filipović')]\n",
      "[('s', 'http://www.wikidata.org/entity/Q1150266'), ('name', 'Cédric Paty')]\n",
      "[('s', 'http://www.wikidata.org/entity/Q1165461'), ('name', 'Daouda Sow')]\n",
      "[('s', 'http://www.wikidata.org/entity/Q1174439'), ('name', 'David Florence')]\n",
      "[('s', 'http://www.wikidata.org/entity/Q1151335'), ('name', 'Fofão')]\n",
      "[('s', 'http://www.wikidata.org/entity/Q1282399'), ('name', 'Živko Gocić')]\n",
      "[('s', 'http://www.wikidata.org/entity/Q11728184'), ('name', 'Jonathan Glanfield')]\n",
      "[('s', 'http://www.wikidata.org/entity/Q1094040'), ('name', 'Suzie Fraser')]\n",
      "[('s', 'http://www.wikidata.org/entity/Q11156528'), ('name', 'Matthew Wells')]\n",
      "[('s', 'http://www.wikidata.org/entity/Q1265388'), ('name', 'Duncan Free')]\n",
      "[('s', 'http://www.wikidata.org/entity/Q1057639'), ('name', 'Lou Marson')]\n",
      "42\n"
     ]
    }
   ],
   "source": [
    "# write your final query\n",
    "\n",
    "# write your queries\n",
    "\n",
    "\n",
    "queryString = \"\"\"\n",
    "SELECT DISTINCT   ?s ?name\n",
    "WHERE {\n",
    "   ?s wdt:P2522 wd:Q8567.\n",
    "  ?s sc:name ?name.\n",
    "  \n",
    "}limit 300\n",
    "\"\"\"\n",
    "\n",
    "print(\"Results\")\n",
    "x=run_query(queryString)\n"
   ]
  },
  {
   "cell_type": "markdown",
   "id": "545c66cf",
   "metadata": {},
   "source": [
    "## Task 7\n",
    "Find athletes who won at least one gold medal in 4 different editions of the Summer Olympic Games (the result set must be a list of triples athlete IRI, label and #edition)."
   ]
  },
  {
   "cell_type": "code",
   "execution_count": 199,
   "id": "a25bdf47",
   "metadata": {},
   "outputs": [
    {
     "name": "stdout",
     "output_type": "stream",
     "text": [
      "Results\n",
      "[('athlete', 'http://www.wikidata.org/entity/Q13639919'), ('athletename', 'Joseph Goubert')]\n",
      "[('athlete', 'http://www.wikidata.org/entity/Q313195'), ('athletename', 'Archie Hahn')]\n",
      "[('athlete', 'http://www.wikidata.org/entity/Q15870814'), ('athletename', 'Josef Klíma')]\n",
      "[('athlete', 'http://www.wikidata.org/entity/Q16011595'), ('athletename', 'Jarl Johnsen')]\n",
      "[('athlete', 'http://www.wikidata.org/entity/Q16013566'), ('athletename', 'Nancy Archibald')]\n",
      "[('athlete', 'http://www.wikidata.org/entity/Q16014208'), ('athletename', 'Jan Vrolijk')]\n",
      "[('athlete', 'http://www.wikidata.org/entity/Q16065294'), ('athletename', 'Vincens Grandjean')]\n",
      "[('athlete', 'http://www.wikidata.org/entity/Q20852710'), ('athletename', 'Hans Spiegel')]\n",
      "[('athlete', 'http://www.wikidata.org/entity/Q4063472'), ('athletename', 'Teodoro Alcalde')]\n",
      "[('athlete', 'http://www.wikidata.org/entity/Q16204467'), ('athletename', 'Andrew Drew')]\n",
      "10\n",
      "Results\n",
      "[('editions', 'http://www.wikidata.org/entity/Q8098'), ('athletename', '1904 Summer Olympics')]\n",
      "[('editions', 'http://www.wikidata.org/entity/Q8150'), ('athletename', '1936 Summer Olympics')]\n",
      "[('editions', 'http://www.wikidata.org/entity/Q8415'), ('athletename', '1960 Summer Olympics')]\n",
      "[('editions', 'http://www.wikidata.org/entity/Q181278'), ('athletename', '2020 Summer Olympics')]\n",
      "[('editions', 'http://www.wikidata.org/entity/Q8088'), ('athletename', '1900 Summer Olympics')]\n",
      "[('editions', 'http://www.wikidata.org/entity/Q8438'), ('athletename', '1972 Summer Olympics')]\n",
      "[('editions', 'http://www.wikidata.org/entity/Q8444'), ('athletename', '1976 Summer Olympics')]\n",
      "[('editions', 'http://www.wikidata.org/entity/Q8470'), ('athletename', '1988 Summer Olympics')]\n",
      "[('editions', 'http://www.wikidata.org/entity/Q8488'), ('athletename', '1992 Summer Olympics')]\n",
      "[('editions', 'http://www.wikidata.org/entity/Q8531'), ('athletename', '1996 Summer Olympics')]\n",
      "[('editions', 'http://www.wikidata.org/entity/Q8544'), ('athletename', '2000 Summer Olympics')]\n",
      "[('editions', 'http://www.wikidata.org/entity/Q8558'), ('athletename', '2004 Summer Olympics')]\n",
      "[('editions', 'http://www.wikidata.org/entity/Q8567'), ('athletename', '2008 Summer Olympics')]\n",
      "[('editions', 'http://www.wikidata.org/entity/Q8577'), ('athletename', '2012 Summer Olympics')]\n",
      "[('editions', 'http://www.wikidata.org/entity/Q8613'), ('athletename', '2016 Summer Olympics')]\n",
      "[('editions', 'http://www.wikidata.org/entity/Q8128'), ('athletename', '1920 Summer Olympics')]\n",
      "[('editions', 'http://www.wikidata.org/entity/Q8132'), ('athletename', '1924 Summer Olympics')]\n",
      "[('editions', 'http://www.wikidata.org/entity/Q8138'), ('athletename', '1928 Summer Olympics')]\n",
      "[('editions', 'http://www.wikidata.org/entity/Q8143'), ('athletename', '1932 Summer Olympics')]\n",
      "[('editions', 'http://www.wikidata.org/entity/Q8420'), ('athletename', '1964 Summer Olympics')]\n",
      "20\n"
     ]
    }
   ],
   "source": [
    "queryString = \"\"\"\n",
    "SELECT DISTINCT  ?athlete ?athletename\n",
    "WHERE {\n",
    "\n",
    "    ?solympıcs wdt:P279 wd:Q5389.\n",
    "    ?solympıcs sc:name ?name .\n",
    "    FILTER REGEX(STR(?name), 'Summer')\n",
    "    ?edıtıons wdt:P31 ?solympıcs .\n",
    "    ?athlete wdt:P1344 ?edıtıons .\n",
    "    ?athlete sc:name ?athletename .\n",
    "    \n",
    "\n",
    "}limit 10\n",
    "\"\"\"\n",
    "\n",
    "print(\"Results\")\n",
    "x=run_query(queryString)\n",
    "\n",
    "\n",
    "\n",
    "\n",
    "queryString = \"\"\" #first we find all the people who participated in \"2008 Summer Olympic Games\"\n",
    "SELECT DISTINCT   ?editions ?athletename \n",
    "WHERE {\n",
    "\n",
    "    ?solympics wdt:P279 wd:Q5389.\n",
    "    ?solympics sc:name ?name .\n",
    "    FILTER REGEX(STR(?name), 'Summer')\n",
    "    ?editions wdt:P31 ?solympics .\n",
    "\n",
    "    #?editions wdt:P166 ?obj. #we see all the awards by \"participated in\"-\"awarded\" relation.\n",
    "    #?athlete wdt:P1344 ?editions . \n",
    "    #?edition wdt:P166 wd:Q15243387.\n",
    "    \n",
    "    ?editions sc:name ?athletename .\n",
    "}\n",
    "limit 20\n",
    "\"\"\"\n",
    "\n",
    "print(\"Results\")\n",
    "x=run_query(queryString)\n"
   ]
  },
  {
   "cell_type": "markdown",
   "id": "82defdff",
   "metadata": {},
   "source": [
    "Final query for this task"
   ]
  },
  {
   "cell_type": "code",
   "execution_count": null,
   "id": "eb85a496",
   "metadata": {},
   "outputs": [],
   "source": [
    "# write your final query"
   ]
  },
  {
   "cell_type": "markdown",
   "id": "466157f7",
   "metadata": {},
   "source": [
    "## Task 8\n",
    "Consider all the edition of the Summer Olympic Games. For each sport return the athlete who won more gold medal (the result set must be a list of elements with sport IRI and label, athlete IRI and label, and #gold medal)."
   ]
  },
  {
   "cell_type": "code",
   "execution_count": null,
   "id": "036f75e8",
   "metadata": {},
   "outputs": [],
   "source": [
    "# write your queries"
   ]
  },
  {
   "cell_type": "markdown",
   "id": "716bc596",
   "metadata": {},
   "source": [
    "Final query for this task"
   ]
  },
  {
   "cell_type": "code",
   "execution_count": 197,
   "id": "c91a163a",
   "metadata": {},
   "outputs": [
    {
     "name": "stdout",
     "output_type": "stream",
     "text": [
      "Results\n",
      "[('s', 'http://www.wikidata.org/entity/Q16034582'), ('p', 'http://www.wikidata.org/prop/direct/P166'), ('name', 'Parfums Millot'), ('pname', 'award received')]\n",
      "[('s', 'http://www.wikidata.org/entity/Q125409'), ('p', 'http://www.wikidata.org/prop/direct/P166'), ('name', 'Charles Jacque'), ('pname', 'award received')]\n",
      "[('s', 'http://www.wikidata.org/entity/Q2512767'), ('p', 'http://www.wikidata.org/prop/direct/P166'), ('name', 'Wessel Couzijn'), ('pname', 'award received')]\n",
      "[('s', 'http://www.wikidata.org/entity/Q19819372'), ('p', 'http://www.wikidata.org/prop/direct/P166'), ('name', 'Claude Trèves'), ('pname', 'award received')]\n",
      "[('s', 'http://www.wikidata.org/entity/Q28464981'), ('p', 'http://www.wikidata.org/prop/direct/P166'), ('name', 'Shelley Gautier'), ('pname', 'award received')]\n",
      "[('s', 'http://www.wikidata.org/entity/Q311374'), ('p', 'http://www.wikidata.org/prop/direct/P166'), ('name', 'Alexander Ovechkin'), ('pname', 'award received')]\n",
      "[('s', 'http://www.wikidata.org/entity/Q331884'), ('p', 'http://www.wikidata.org/prop/direct/P166'), ('name', 'Jean-Victor Bertin'), ('pname', 'award received')]\n",
      "[('s', 'http://www.wikidata.org/entity/Q384078'), ('p', 'http://www.wikidata.org/prop/direct/P166'), ('name', 'Tony Robert-Fleury'), ('pname', 'award received')]\n",
      "[('s', 'http://www.wikidata.org/entity/Q60453820'), ('p', 'http://www.wikidata.org/prop/direct/P166'), ('name', 'Suzanne Morel-Montreuil'), ('pname', 'award received')]\n",
      "[('s', 'http://www.wikidata.org/entity/Q321419'), ('p', 'http://www.wikidata.org/prop/direct/P166'), ('name', 'John Boydell'), ('pname', 'award received')]\n",
      "10\n"
     ]
    }
   ],
   "source": [
    "# write your final query\n",
    "\n",
    "# write your final query\n",
    "\n",
    "# write your queries\n",
    "\n",
    "\n",
    "queryString = \"\"\"\n",
    "SELECT DISTINCT   ?s ?p ?name ?pname\n",
    "WHERE {\n",
    "   ?s ?p wd:Q406039.\n",
    "   ?s sc:name ?name.\n",
    "   ?p sc:name ?pname.\n",
    "  \n",
    "}limit 10\n",
    "\"\"\"\n",
    "\n",
    "print(\"Results\")\n",
    "x=run_query(queryString)\n"
   ]
  },
  {
   "cell_type": "code",
   "execution_count": null,
   "id": "c3999c9e-0d8a-453a-a166-232dcf2ac97b",
   "metadata": {},
   "outputs": [],
   "source": []
  }
 ],
 "metadata": {
  "kernelspec": {
   "display_name": "Python 3 (ipykernel)",
   "language": "python",
   "name": "python3"
  },
  "language_info": {
   "codemirror_mode": {
    "name": "ipython",
    "version": 3
   },
   "file_extension": ".py",
   "mimetype": "text/x-python",
   "name": "python",
   "nbconvert_exporter": "python",
   "pygments_lexer": "ipython3",
   "version": "3.7.10"
  }
 },
 "nbformat": 4,
 "nbformat_minor": 5
}
