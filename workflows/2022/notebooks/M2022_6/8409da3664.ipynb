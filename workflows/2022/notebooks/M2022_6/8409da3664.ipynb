{
 "cells": [
  {
   "cell_type": "markdown",
   "id": "573049dd",
   "metadata": {},
   "source": [
    "# General instructions\n",
    "\n",
    "The goal of the project is to materialize a set of **exploratory workloads** over a real-world, large-scale,  open-domain KG: [WikiData](https://www.wikidata.org/wiki/Wikidata:Main_Page)\n",
    "\n",
    "An exploratory workload  is composed by a set of queries, where each query is related to the information obtained previously.\n",
    "\n",
    "An exploratory workload starts with a usually vague, open ended question, and does not assume the person issuing the workload has a clear understanding of the data contained in the target database or its structure.\n",
    "\n",
    "Remeber that:\n",
    "\n",
    "1. All the queries must run in the python notebook\n",
    "2. You can use classes and properties only if you find them via a SPARQL query that must be present in the notebook\n",
    "3. You do not delete useless queries. Keep everything that is synthatically valid \n",
    "\n",
    "```\n",
    "?p <http://schema.org/name> ?name .\n",
    "```\n",
    "    \n",
    "    is the BGP returning a human-readable name of a property or a class in Wikidata."
   ]
  },
  {
   "cell_type": "code",
   "execution_count": 2,
   "id": "105ce5c8",
   "metadata": {},
   "outputs": [],
   "source": [
    "## SETUP used later\n",
    "\n",
    "from SPARQLWrapper import SPARQLWrapper, JSON\n",
    "\n",
    "\n",
    "prefixString = \"\"\"\n",
    "##-8409da3664-##\n",
    "PREFIX wd: <http://www.wikidata.org/entity/> \n",
    "PREFIX wdt: <http://www.wikidata.org/prop/direct/> \n",
    "PREFIX sc: <http://schema.org/>\n",
    "\"\"\"\n",
    "\n",
    "# select and construct queries\n",
    "def run_query(queryString,verbose = True):\n",
    "    to_run = prefixString + \"\\n\" + queryString\n",
    "\n",
    "    sparql = SPARQLWrapper(\"http://a256-gc1-03.srv.aau.dk:5820/sparql\")\n",
    "    sparql.setTimeout(300)\n",
    "    sparql.setReturnFormat(JSON)\n",
    "    sparql.setQuery(to_run)\n",
    "\n",
    "    try :\n",
    "        results = sparql.query()\n",
    "        json_results = results.convert()\n",
    "        if len(json_results['results']['bindings'])==0:\n",
    "            print(\"Empty\")\n",
    "            return []\n",
    "        array = []\n",
    "        for bindings in json_results['results']['bindings']:\n",
    "            app =  [ (var, value['value'])  for var, value in bindings.items() ] \n",
    "            if verbose:\n",
    "                print( app)\n",
    "            array.append(app)\n",
    "        if verbose:\n",
    "            print(len(array))\n",
    "        return array\n",
    "\n",
    "    except Exception as e :\n",
    "        print(\"The operation failed\", e)\n",
    "    \n",
    "# ASk queries\n",
    "def run_ask_query(queryString):\n",
    "    to_run = prefixString + \"\\n\" + queryString\n",
    "\n",
    "    sparql = SPARQLWrapper(\"http://a256-gc1-03.srv.aau.dk:5820/sparql\")\n",
    "    sparql.setTimeout(300)\n",
    "    sparql.setReturnFormat(JSON)\n",
    "    sparql.setQuery(to_run)\n",
    "\n",
    "    try :\n",
    "        return sparql.query().convert()\n",
    "\n",
    "    except Exception as e :\n",
    "        print(\"The operation failed\", e)"
   ]
  },
  {
   "cell_type": "markdown",
   "id": "69ee725d",
   "metadata": {
    "tags": []
   },
   "source": [
    "# History Workflow Series (\"Literary Movements and Divine Comedy explorative search\") \n",
    "\n",
    "Consider the following exploratory information need:\n",
    "\n",
    "> investigate the literary movements and the poets. In particular, compare some italian poets in terms of place of birth, number of literary works and education."
   ]
  },
  {
   "cell_type": "markdown",
   "id": "664358d8",
   "metadata": {},
   "source": [
    "## Useful URIs for the current workflow\n",
    "The following are given:\n",
    "\n",
    "| IRI           | Description   | Role      |\n",
    "| -----------   | -----------   |-----------|\n",
    "| `wdt:P1647`   | subproperty   | predicate |\n",
    "| `wdt:P31`     | instance of   | predicate |\n",
    "| `wdt:P106`    | occupation    | predicate | \n",
    "| `wdt:P279`    | subclass      | predicate |\n",
    "| `wdt:P27`     | nationality   | predicate |\n",
    "| `wdt:P3342`     | Significant person       | predicate |\n",
    "| `wd:Q5`| Human       | node |\n",
    "| `wd:Q40185`| The Divine Comedy  | node |\n"
   ]
  },
  {
   "cell_type": "markdown",
   "id": "d3f34324",
   "metadata": {},
   "source": [
    "\n",
    "\n",
    "\n",
    "Also consider\n",
    "\n",
    "```\n",
    "wd:Q40185 ?p ?obj .\n",
    "```\n",
    "\n",
    "is the BGP to retrieve all **properties of The Divine Comedy**\n",
    "\n",
    "Please consider that when you return a resource, you should return the IRI and the label of the resource. In particular, when the task require you to identify a BGP the result set must always be a list of couples IRI - label.\n",
    "\n",
    "The workload should:\n",
    "\n",
    "1. Who wrote The Divine Comedy? (return the IRI and the label of the author)\n",
    "\n",
    "2. Identify the BGP for poet\n",
    "\n",
    "3. Identify the BGP for literary movement\n",
    "\n",
    "4. Return the poets born in the same place of the author of The Divine Comedy who are born between 1300 and 1500 (1300 and 1500 included) (the result set must be a list of couples poets IRI and label).\n",
    "\n",
    "5. Identify the BGP for literary work\n",
    "\n",
    "6. Compare the author of The Divine Comedy with Giovanni Boccaccio. Return for these poets the number of literary work they wrote (the result set must be two triples -one for each author- author IRI, label and #literary work).\n",
    "\n",
    "7. Consider italian poets, their place of birth (the city) and their university education. Return for each city the number of poets who born there and who was educated there (the result set must be a list of triples city IRI, label and #poets).\n",
    "\n",
    "8. Return the italian poets who won the Nobel Prize in Literature (the result set must be poet IRI and label). "
   ]
  },
  {
   "cell_type": "markdown",
   "id": "203da1dc",
   "metadata": {},
   "source": [
    "## Task 1\n",
    "Who wrote The Divine Comedy? (return the IRI and the label of the author)"
   ]
  },
  {
   "cell_type": "markdown",
   "id": "22a45eef-f062-478f-8c95-4ccfd66322dc",
   "metadata": {
    "tags": []
   },
   "source": [
    "### Get all data property of \"The Divine Comedy\" (wd:Q40185)"
   ]
  },
  {
   "cell_type": "code",
   "execution_count": 4,
   "id": "38be02d6-85f6-4c6c-8a6a-e8af2bb0b0ec",
   "metadata": {},
   "outputs": [
    {
     "name": "stdout",
     "output_type": "stream",
     "text": [
      "Results\n",
      "[('property', 'http://www.wikidata.org/prop/direct/P1273'), ('label', 'CANTIC ID')]\n",
      "[('property', 'http://www.wikidata.org/prop/direct/P1296'), ('label', 'Gran Enciclopèdia Catalana ID')]\n",
      "[('property', 'http://www.wikidata.org/prop/direct/P1417'), ('label', 'Encyclopædia Britannica Online ID')]\n",
      "[('property', 'http://www.wikidata.org/prop/direct/P214'), ('label', 'VIAF ID')]\n",
      "[('property', 'http://www.wikidata.org/prop/direct/P227'), ('label', 'GND ID')]\n",
      "[('property', 'http://www.wikidata.org/prop/direct/P244'), ('label', 'Library of Congress authority ID')]\n",
      "[('property', 'http://www.wikidata.org/prop/direct/P268'), ('label', 'Bibliothèque nationale de France ID')]\n",
      "[('property', 'http://www.wikidata.org/prop/direct/P269'), ('label', 'IdRef ID')]\n",
      "[('property', 'http://www.wikidata.org/prop/direct/P3219'), ('label', 'Encyclopædia Universalis ID')]\n",
      "[('property', 'http://www.wikidata.org/prop/direct/P3417'), ('label', 'Quora topic ID')]\n",
      "[('property', 'http://www.wikidata.org/prop/direct/P373'), ('label', 'Commons category')]\n",
      "[('property', 'http://www.wikidata.org/prop/direct/P409'), ('label', 'Libraries Australia ID')]\n",
      "[('property', 'http://www.wikidata.org/prop/direct/P435'), ('label', 'MusicBrainz work ID')]\n",
      "[('property', 'http://www.wikidata.org/prop/direct/P5063'), ('label', 'Interlingual Index ID')]\n",
      "[('property', 'http://www.wikidata.org/prop/direct/P571'), ('label', 'inception')]\n",
      "[('property', 'http://www.wikidata.org/prop/direct/P5986'), ('label', 'Getty Iconography Authority ID')]\n",
      "[('property', 'http://www.wikidata.org/prop/direct/P646'), ('label', 'Freebase ID')]\n",
      "[('property', 'http://www.wikidata.org/prop/direct/P6839'), ('label', 'TV Tropes identifier')]\n",
      "[('property', 'http://www.wikidata.org/prop/direct/P691'), ('label', 'NKCR AUT ID')]\n",
      "[('property', 'http://www.wikidata.org/prop/direct/P7314'), ('label', 'TDV İslam Ansiklopedisi ID')]\n",
      "[('property', 'http://www.wikidata.org/prop/direct/P8189'), ('label', 'National Library of Israel J9U ID')]\n",
      "[('property', 'http://www.wikidata.org/prop/direct/P8248'), ('label', 'Colon Classification')]\n",
      "[('property', 'http://www.wikidata.org/prop/direct/P8408'), ('label', 'KBpedia ID')]\n",
      "[('property', 'http://www.wikidata.org/prop/direct/P8885'), ('label', 'Namuwiki ID')]\n",
      "[('property', 'http://www.wikidata.org/prop/direct/P906'), ('label', 'SELIBR ID')]\n",
      "[('property', 'http://www.wikidata.org/prop/direct/P9223'), ('label', 'Provenio UUID')]\n",
      "[('property', 'http://www.wikidata.org/prop/direct/P9322'), ('label', 'SVKKL authority ID')]\n",
      "[('property', 'http://www.wikidata.org/prop/direct/P949'), ('label', 'National Library of Israel ID')]\n",
      "[('property', 'http://www.wikidata.org/prop/direct/P950'), ('label', 'Biblioteca Nacional de España ID')]\n",
      "[('property', 'http://www.wikidata.org/prop/direct/P1274'), ('label', 'ISFDB title ID')]\n",
      "[('property', 'http://www.wikidata.org/prop/direct/P6175'), ('label', 'Bitraga work ID')]\n",
      "[('property', 'http://www.wikidata.org/prop/direct/P8359'), ('label', 'Dewey Decimal Classification (works and editions)')]\n",
      "[('property', 'http://www.wikidata.org/prop/direct/P2034'), ('label', 'Project Gutenberg ebook ID')]\n",
      "[('property', 'http://www.wikidata.org/prop/direct/P3976'), ('label', 'BVMC work ID')]\n",
      "34\n"
     ]
    }
   ],
   "source": [
    "queryString = \"\"\"\n",
    "SELECT DISTINCT ?property ?label\n",
    "WHERE {   \n",
    "   wd:Q40185 ?property ?object .\n",
    "   ?property sc:name ?label .\n",
    "   FILTER(isLiteral(?object)) .   \n",
    "}\n",
    "\"\"\"\n",
    "\n",
    "print(\"Results\")\n",
    "x=run_query(queryString)"
   ]
  },
  {
   "cell_type": "markdown",
   "id": "cc3cee74-970f-4369-90a5-a12c9ab1e063",
   "metadata": {
    "tags": []
   },
   "source": [
    "### Get all data property of \"The Divine Comedy\" (wd:Q40185) that do not contain ID"
   ]
  },
  {
   "cell_type": "code",
   "execution_count": 6,
   "id": "a1ba0251-a12b-49be-a351-7df4e7d08616",
   "metadata": {},
   "outputs": [
    {
     "name": "stdout",
     "output_type": "stream",
     "text": [
      "Results\n",
      "[('property', 'http://www.wikidata.org/prop/direct/P373'), ('label', 'Commons category')]\n",
      "[('property', 'http://www.wikidata.org/prop/direct/P571'), ('label', 'inception')]\n",
      "[('property', 'http://www.wikidata.org/prop/direct/P6839'), ('label', 'TV Tropes identifier')]\n",
      "[('property', 'http://www.wikidata.org/prop/direct/P8248'), ('label', 'Colon Classification')]\n",
      "[('property', 'http://www.wikidata.org/prop/direct/P8359'), ('label', 'Dewey Decimal Classification (works and editions)')]\n",
      "5\n"
     ]
    }
   ],
   "source": [
    "queryString = \"\"\"\n",
    "SELECT DISTINCT ?property ?label\n",
    "WHERE {   \n",
    "   wd:Q40185 ?property ?object .\n",
    "   ?property sc:name ?label .\n",
    "   FILTER(isLiteral(?object)) .\n",
    "   FILTER REGEX(?label, \"^((?!ID).)*$\") . \n",
    "}\n",
    "\"\"\"\n",
    "\n",
    "print(\"Results\")\n",
    "x=run_query(queryString)"
   ]
  },
  {
   "cell_type": "markdown",
   "id": "e5299a16-e309-4817-bbcb-a4bb31e04498",
   "metadata": {
    "tags": []
   },
   "source": [
    "### Get the class of \"The Divine Comedy\" (wd:Q40185)"
   ]
  },
  {
   "cell_type": "code",
   "execution_count": 51,
   "id": "5bdfe987-c0c7-4740-ae1d-88e38de00684",
   "metadata": {},
   "outputs": [
    {
     "name": "stdout",
     "output_type": "stream",
     "text": [
      "Results\n",
      "[('class', 'http://www.wikidata.org/entity/Q47461344'), ('label', 'written work')]\n",
      "1\n"
     ]
    }
   ],
   "source": [
    "queryString = \"\"\"\n",
    "SELECT DISTINCT ?class ?label\n",
    "WHERE {   \n",
    "   wd:Q40185 wdt:P31 ?class .\n",
    "   ?class sc:name ?label .     \n",
    "}\n",
    "\"\"\"\n",
    "print(\"Results\")\n",
    "x=run_query(queryString)\n"
   ]
  },
  {
   "cell_type": "markdown",
   "id": "bc54cdf8-9aa6-4be0-b22c-055485099802",
   "metadata": {
    "tags": []
   },
   "source": [
    "### Get all object properties of \"The Divine Comedy\" (wd:Q40185) "
   ]
  },
  {
   "cell_type": "code",
   "execution_count": 7,
   "id": "8b0ac4d4-77dc-4886-a002-5769f08587cd",
   "metadata": {},
   "outputs": [
    {
     "name": "stdout",
     "output_type": "stream",
     "text": [
      "Results\n",
      "[('property', 'http://www.wikidata.org/prop/direct/P2551'), ('label', 'used metre')]\n",
      "[('property', 'http://www.wikidata.org/prop/direct/P1343'), ('label', 'described by source')]\n",
      "[('property', 'http://www.wikidata.org/prop/direct/P136'), ('label', 'genre')]\n",
      "[('property', 'http://www.wikidata.org/prop/direct/P18'), ('label', 'image')]\n",
      "[('property', 'http://www.wikidata.org/prop/direct/P1889'), ('label', 'different from')]\n",
      "[('property', 'http://www.wikidata.org/prop/direct/P31'), ('label', 'instance of')]\n",
      "[('property', 'http://www.wikidata.org/prop/direct/P407'), ('label', 'language of work or name')]\n",
      "[('property', 'http://www.wikidata.org/prop/direct/P50'), ('label', 'author')]\n",
      "[('property', 'http://www.wikidata.org/prop/direct/P527'), ('label', 'has part')]\n",
      "[('property', 'http://www.wikidata.org/prop/direct/P674'), ('label', 'characters')]\n",
      "[('property', 'http://www.wikidata.org/prop/direct/P747'), ('label', 'has edition or translation')]\n",
      "[('property', 'http://www.wikidata.org/prop/direct/P910'), ('label', \"topic's main category\")]\n",
      "12\n"
     ]
    }
   ],
   "source": [
    "queryString = \"\"\"\n",
    "SELECT DISTINCT ?property ?label\n",
    "WHERE {   \n",
    "   wd:Q40185 ?property ?object .\n",
    "   ?property sc:name ?label .\n",
    "   FILTER(!isLiteral(?object)) .   \n",
    "}\n",
    "\"\"\"\n",
    "\n",
    "print(\"Results\")\n",
    "x=run_query(queryString)"
   ]
  },
  {
   "cell_type": "markdown",
   "id": "49b10841-86bd-4356-b538-3637f91157dd",
   "metadata": {
    "tags": []
   },
   "source": [
    "### Get all the classes connected to \"The Divine Comedy\" (wd:Q40185)"
   ]
  },
  {
   "cell_type": "code",
   "execution_count": 11,
   "id": "5a86be79-659f-4039-9229-1c476b56d07c",
   "metadata": {},
   "outputs": [
    {
     "name": "stdout",
     "output_type": "stream",
     "text": [
      "Results\n",
      "[('objectClass', 'http://www.wikidata.org/entity/Q581450'), ('label', 'fallen angel')]\n",
      "[('objectClass', 'http://www.wikidata.org/entity/Q20830276'), ('label', 'group of mythical characters')]\n",
      "[('objectClass', 'http://www.wikidata.org/entity/Q20902363'), ('label', 'mythical human-animal hybrid')]\n",
      "[('objectClass', 'http://www.wikidata.org/entity/Q2280977'), ('label', 'Hellhound')]\n",
      "[('objectClass', 'http://www.wikidata.org/entity/Q83203'), ('label', 'centaur')]\n",
      "[('objectClass', 'http://www.wikidata.org/entity/Q4349921'), ('label', 'first human')]\n",
      "[('objectClass', 'http://www.wikidata.org/entity/Q213924'), ('label', 'codex')]\n",
      "[('objectClass', 'http://www.wikidata.org/entity/Q7553'), ('label', 'translation')]\n",
      "[('objectClass', 'http://www.wikidata.org/entity/Q1751626'), ('label', 'theatre festival')]\n",
      "[('objectClass', 'http://www.wikidata.org/entity/Q16326794'), ('label', 'mythological serpent')]\n",
      "[('objectClass', 'http://www.wikidata.org/entity/Q2572794'), ('label', 'forme fixe')]\n",
      "[('objectClass', 'http://www.wikidata.org/entity/Q11688446'), ('label', 'Roman deity')]\n",
      "[('objectClass', 'http://www.wikidata.org/entity/Q1288568'), ('label', 'modern language')]\n",
      "[('objectClass', 'http://www.wikidata.org/entity/Q15632617'), ('label', 'fictional human')]\n",
      "[('objectClass', 'http://www.wikidata.org/entity/Q277759'), ('label', 'book series')]\n",
      "[('objectClass', 'http://www.wikidata.org/entity/Q34770'), ('label', 'language')]\n",
      "[('objectClass', 'http://www.wikidata.org/entity/Q3658341'), ('label', 'literary character')]\n",
      "[('objectClass', 'http://www.wikidata.org/entity/Q4167836'), ('label', 'Wikimedia category')]\n",
      "[('objectClass', 'http://www.wikidata.org/entity/Q47461344'), ('label', 'written work')]\n",
      "[('objectClass', 'http://www.wikidata.org/entity/Q5'), ('label', 'human')]\n",
      "[('objectClass', 'http://www.wikidata.org/entity/Q5292'), ('label', 'encyclopedia')]\n",
      "[('objectClass', 'http://www.wikidata.org/entity/Q7725634'), ('label', 'literary work')]\n",
      "[('objectClass', 'http://www.wikidata.org/entity/Q20643955'), ('label', 'human biblical figure')]\n",
      "[('objectClass', 'http://www.wikidata.org/entity/Q223393'), ('label', 'literary genre')]\n",
      "[('objectClass', 'http://www.wikidata.org/entity/Q22988604'), ('label', 'mythological Greek character')]\n",
      "[('objectClass', 'http://www.wikidata.org/entity/Q3331189'), ('label', 'version, edition, or translation')]\n",
      "[('objectClass', 'http://www.wikidata.org/entity/Q10822464'), ('label', 'angel in Christianity')]\n",
      "[('objectClass', 'http://www.wikidata.org/entity/Q13002315'), ('label', 'legendary figure')]\n",
      "[('objectClass', 'http://www.wikidata.org/entity/Q178885'), ('label', 'deity')]\n",
      "[('objectClass', 'http://www.wikidata.org/entity/Q21070568'), ('label', 'human who may be fictional')]\n",
      "[('objectClass', 'http://www.wikidata.org/entity/Q22989102'), ('label', 'Greek deity')]\n",
      "[('objectClass', 'http://www.wikidata.org/entity/Q24434794'), ('label', 'king in Greek mythology')]\n",
      "[('objectClass', 'http://www.wikidata.org/entity/Q2803758'), ('label', 'death deity')]\n",
      "[('objectClass', 'http://www.wikidata.org/entity/Q3707571'), ('label', 'giant')]\n",
      "[('objectClass', 'http://www.wikidata.org/entity/Q4271324'), ('label', 'mythical character')]\n",
      "[('objectClass', 'http://www.wikidata.org/entity/Q48498'), ('label', 'illuminated manuscript')]\n",
      "[('objectClass', 'http://www.wikidata.org/entity/Q5185279'), ('label', 'poem')]\n",
      "[('objectClass', 'http://www.wikidata.org/entity/Q690175'), ('label', 'angel in Judaism')]\n",
      "[('objectClass', 'http://www.wikidata.org/entity/Q1208380'), ('label', 'dialect group')]\n",
      "[('objectClass', 'http://www.wikidata.org/entity/Q28061975'), ('label', 'group of Greek mythical characters')]\n",
      "[('objectClass', 'http://www.wikidata.org/entity/Q87167'), ('label', 'manuscript')]\n",
      "[('objectClass', 'http://www.wikidata.org/entity/Q39811647'), ('label', 'translated work')]\n",
      "[('objectClass', 'http://www.wikidata.org/entity/Q64520857'), ('label', 'fictional human formerly considered to be historical')]\n",
      "[('objectClass', 'http://www.wikidata.org/entity/Q180262'), ('label', 'Erinyes')]\n",
      "[('objectClass', 'http://www.wikidata.org/entity/Q11022340'), ('label', 'canto')]\n",
      "[('objectClass', 'http://www.wikidata.org/entity/Q3375719'), ('label', 'conceptual character')]\n",
      "[('objectClass', 'http://www.wikidata.org/entity/Q18563360'), ('label', 'Quranic character')]\n",
      "[('objectClass', 'http://www.wikidata.org/entity/Q661936'), ('label', 'pro-drop language')]\n",
      "[('objectClass', 'http://www.wikidata.org/entity/Q175255'), ('label', 'Hecatoncheires')]\n",
      "49\n"
     ]
    }
   ],
   "source": [
    "queryString = \"\"\"\n",
    "SELECT DISTINCT ?objectClass ?label\n",
    "WHERE {   \n",
    "   wd:Q40185 ?property ?object .\n",
    "   ?object wdt:P31 ?objectClass .\n",
    "   ?objectClass sc:name ?label .\n",
    "   FILTER(!isLiteral(?object)) .   \n",
    "}LIMIT 50\n",
    "\"\"\"\n",
    "\n",
    "print(\"Results\")\n",
    "x=run_query(queryString)"
   ]
  },
  {
   "cell_type": "markdown",
   "id": "c0fa55d2-c94b-4052-9870-4f4d21243666",
   "metadata": {
    "tags": []
   },
   "source": [
    "### Get all the couples (object property - list of the classes of the objects that are connected to \"The Divine Comedy\"  (wd:Q40185) through that object property)"
   ]
  },
  {
   "cell_type": "code",
   "execution_count": 53,
   "id": "7fd19b0f-3531-4e23-80a4-d916353d987e",
   "metadata": {},
   "outputs": [
    {
     "name": "stdout",
     "output_type": "stream",
     "text": [
      "Results\n",
      "[('property', 'http://www.wikidata.org/prop/direct/P527'), ('labelProperty', 'has part'), ('objectsClasses', 'http://www.wikidata.org/entity/Q47461344,http://www.wikidata.org/entity/Q47461344,http://www.wikidata.org/entity/Q47461344,http://www.wikidata.org/entity/Q7725634'), ('labelsObjectsClasses', 'written work,written work,written work,literary work')]\n",
      "[('property', 'http://www.wikidata.org/prop/direct/P136'), ('labelProperty', 'genre'), ('objectsClasses', 'http://www.wikidata.org/entity/Q223393'), ('labelsObjectsClasses', 'literary genre')]\n",
      "[('property', 'http://www.wikidata.org/prop/direct/P407'), ('labelProperty', 'language of work or name'), ('objectsClasses', 'http://www.wikidata.org/entity/Q1288568,http://www.wikidata.org/entity/Q34770,http://www.wikidata.org/entity/Q1208380,http://www.wikidata.org/entity/Q661936'), ('labelsObjectsClasses', 'modern language,language,dialect group,pro-drop language')]\n",
      "[('property', 'http://www.wikidata.org/prop/direct/P1889'), ('labelProperty', 'different from'), ('objectsClasses', 'http://www.wikidata.org/entity/Q1751626'), ('labelsObjectsClasses', 'theatre festival')]\n",
      "[('property', 'http://www.wikidata.org/prop/direct/P50'), ('labelProperty', 'author'), ('objectsClasses', 'http://www.wikidata.org/entity/Q5'), ('labelsObjectsClasses', 'human')]\n",
      "[('property', 'http://www.wikidata.org/prop/direct/P910'), ('labelProperty', \"topic's main category\"), ('objectsClasses', 'http://www.wikidata.org/entity/Q4167836'), ('labelsObjectsClasses', 'Wikimedia category')]\n",
      "[('property', 'http://www.wikidata.org/prop/direct/P1343'), ('labelProperty', 'described by source'), ('objectsClasses', 'http://www.wikidata.org/entity/Q5292,http://www.wikidata.org/entity/Q7725634,http://www.wikidata.org/entity/Q3331189'), ('labelsObjectsClasses', 'encyclopedia,literary work,version, edition, or translation')]\n",
      "[('property', 'http://www.wikidata.org/prop/direct/P2551'), ('labelProperty', 'used metre'), ('objectsClasses', 'http://www.wikidata.org/entity/Q2572794'), ('labelsObjectsClasses', 'forme fixe')]\n",
      "[('property', 'http://www.wikidata.org/prop/direct/P674'), ('labelProperty', 'characters'), ('objectsClasses', 'http://www.wikidata.org/entity/Q581450,http://www.wikidata.org/entity/Q20830276,http://www.wikidata.org/entity/Q20902363,http://www.wikidata.org/entity/Q2280977,http://www.wikidata.org/entity/Q83203,http://www.wikidata.org/entity/Q83203,http://www.wikidata.org/entity/Q4349921,http://www.wikidata.org/entity/Q16326794,http://www.wikidata.org/entity/Q16326794,http://www.wikidata.org/entity/Q11688446,http://www.wikidata.org/entity/Q15632617,http://www.wikidata.org/entity/Q15632617,http://www.wikidata.org/entity/Q15632617,http://www.wikidata.org/entity/Q3658341,http://www.wikidata.org/entity/Q5,http://www.wikidata.org/entity/Q5,http://www.wikidata.org/entity/Q5,http://www.wikidata.org/entity/Q5,http://www.wikidata.org/entity/Q5,http://www.wikidata.org/entity/Q5,http://www.wikidata.org/entity/Q5,http://www.wikidata.org/entity/Q5,http://www.wikidata.org/entity/Q5,http://www.wikidata.org/entity/Q5,http://www.wikidata.org/entity/Q5,http://www.wikidata.org/entity/Q5,http://www.wikidata.org/entity/Q5,http://www.wikidata.org/entity/Q5,http://www.wikidata.org/entity/Q5,http://www.wikidata.org/entity/Q5,http://www.wikidata.org/entity/Q5,http://www.wikidata.org/entity/Q5,http://www.wikidata.org/entity/Q5,http://www.wikidata.org/entity/Q5,http://www.wikidata.org/entity/Q5,http://www.wikidata.org/entity/Q5,http://www.wikidata.org/entity/Q5,http://www.wikidata.org/entity/Q5,http://www.wikidata.org/entity/Q5,http://www.wikidata.org/entity/Q5,http://www.wikidata.org/entity/Q5,http://www.wikidata.org/entity/Q5,http://www.wikidata.org/entity/Q5,http://www.wikidata.org/entity/Q5,http://www.wikidata.org/entity/Q5,http://www.wikidata.org/entity/Q5,http://www.wikidata.org/entity/Q5,http://www.wikidata.org/entity/Q5,http://www.wikidata.org/entity/Q5,http://www.wikidata.org/entity/Q5,http://www.wikidata.org/entity/Q5,http://www.wikidata.org/entity/Q5,http://www.wikidata.org/entity/Q5,http://www.wikidata.org/entity/Q5,http://www.wikidata.org/entity/Q5,http://www.wikidata.org/entity/Q5,http://www.wikidata.org/entity/Q5,http://www.wikidata.org/entity/Q5,http://www.wikidata.org/entity/Q5,http://www.wikidata.org/entity/Q5,http://www.wikidata.org/entity/Q5,http://www.wikidata.org/entity/Q5,http://www.wikidata.org/entity/Q5,http://www.wikidata.org/entity/Q5,http://www.wikidata.org/entity/Q5,http://www.wikidata.org/entity/Q5,http://www.wikidata.org/entity/Q5,http://www.wikidata.org/entity/Q5,http://www.wikidata.org/entity/Q5,http://www.wikidata.org/entity/Q5,http://www.wikidata.org/entity/Q5,http://www.wikidata.org/entity/Q5,http://www.wikidata.org/entity/Q5,http://www.wikidata.org/entity/Q5,http://www.wikidata.org/entity/Q5,http://www.wikidata.org/entity/Q5,http://www.wikidata.org/entity/Q5,http://www.wikidata.org/entity/Q5,http://www.wikidata.org/entity/Q5,http://www.wikidata.org/entity/Q5,http://www.wikidata.org/entity/Q5,http://www.wikidata.org/entity/Q5,http://www.wikidata.org/entity/Q5,http://www.wikidata.org/entity/Q5,http://www.wikidata.org/entity/Q5,http://www.wikidata.org/entity/Q5,http://www.wikidata.org/entity/Q5,http://www.wikidata.org/entity/Q5,http://www.wikidata.org/entity/Q5,http://www.wikidata.org/entity/Q5,http://www.wikidata.org/entity/Q5,http://www.wikidata.org/entity/Q5,http://www.wikidata.org/entity/Q5,http://www.wikidata.org/entity/Q5,http://www.wikidata.org/entity/Q5,http://www.wikidata.org/entity/Q5,http://www.wikidata.org/entity/Q5,http://www.wikidata.org/entity/Q5,http://www.wikidata.org/entity/Q5,http://www.wikidata.org/entity/Q5,http://www.wikidata.org/entity/Q5,http://www.wikidata.org/entity/Q5,http://www.wikidata.org/entity/Q5,http://www.wikidata.org/entity/Q5,http://www.wikidata.org/entity/Q5,http://www.wikidata.org/entity/Q5,http://www.wikidata.org/entity/Q5,http://www.wikidata.org/entity/Q5,http://www.wikidata.org/entity/Q5,http://www.wikidata.org/entity/Q5,http://www.wikidata.org/entity/Q5,http://www.wikidata.org/entity/Q5,http://www.wikidata.org/entity/Q5,http://www.wikidata.org/entity/Q5,http://www.wikidata.org/entity/Q5,http://www.wikidata.org/entity/Q5,http://www.wikidata.org/entity/Q5,http://www.wikidata.org/entity/Q5,http://www.wikidata.org/entity/Q20643955,http://www.wikidata.org/entity/Q20643955,http://www.wikidata.org/entity/Q20643955,http://www.wikidata.org/entity/Q20643955,http://www.wikidata.org/entity/Q20643955,http://www.wikidata.org/entity/Q20643955,http://www.wikidata.org/entity/Q20643955,http://www.wikidata.org/entity/Q20643955,http://www.wikidata.org/entity/Q20643955,http://www.wikidata.org/entity/Q20643955,http://www.wikidata.org/entity/Q20643955,http://www.wikidata.org/entity/Q20643955,http://www.wikidata.org/entity/Q20643955,http://www.wikidata.org/entity/Q20643955,http://www.wikidata.org/entity/Q22988604,http://www.wikidata.org/entity/Q22988604,http://www.wikidata.org/entity/Q22988604,http://www.wikidata.org/entity/Q22988604,http://www.wikidata.org/entity/Q22988604,http://www.wikidata.org/entity/Q22988604,http://www.wikidata.org/entity/Q22988604,http://www.wikidata.org/entity/Q22988604,http://www.wikidata.org/entity/Q22988604,http://www.wikidata.org/entity/Q22988604,http://www.wikidata.org/entity/Q22988604,http://www.wikidata.org/entity/Q22988604,http://www.wikidata.org/entity/Q22988604,http://www.wikidata.org/entity/Q22988604,http://www.wikidata.org/entity/Q22988604,http://www.wikidata.org/entity/Q22988604,http://www.wikidata.org/entity/Q22988604,http://www.wikidata.org/entity/Q22988604,http://www.wikidata.org/entity/Q22988604,http://www.wikidata.org/entity/Q22988604,http://www.wikidata.org/entity/Q22988604,http://www.wikidata.org/entity/Q22988604,http://www.wikidata.org/entity/Q22988604,http://www.wikidata.org/entity/Q22988604,http://www.wikidata.org/entity/Q22988604,http://www.wikidata.org/entity/Q22988604,http://www.wikidata.org/entity/Q22988604,http://www.wikidata.org/entity/Q22988604,http://www.wikidata.org/entity/Q22988604,http://www.wikidata.org/entity/Q22988604,http://www.wikidata.org/entity/Q22988604,http://www.wikidata.org/entity/Q10822464,http://www.wikidata.org/entity/Q13002315,http://www.wikidata.org/entity/Q178885,http://www.wikidata.org/entity/Q21070568,http://www.wikidata.org/entity/Q21070568,http://www.wikidata.org/entity/Q21070568,http://www.wikidata.org/entity/Q21070568,http://www.wikidata.org/entity/Q21070568,http://www.wikidata.org/entity/Q21070568,http://www.wikidata.org/entity/Q21070568,http://www.wikidata.org/entity/Q21070568,http://www.wikidata.org/entity/Q21070568,http://www.wikidata.org/entity/Q21070568,http://www.wikidata.org/entity/Q21070568,http://www.wikidata.org/entity/Q21070568,http://www.wikidata.org/entity/Q21070568,http://www.wikidata.org/entity/Q21070568,http://www.wikidata.org/entity/Q21070568,http://www.wikidata.org/entity/Q22989102,http://www.wikidata.org/entity/Q22989102,http://www.wikidata.org/entity/Q22989102,http://www.wikidata.org/entity/Q24434794,http://www.wikidata.org/entity/Q24434794,http://www.wikidata.org/entity/Q24434794,http://www.wikidata.org/entity/Q24434794,http://www.wikidata.org/entity/Q2803758,http://www.wikidata.org/entity/Q2803758,http://www.wikidata.org/entity/Q3707571,http://www.wikidata.org/entity/Q4271324,http://www.wikidata.org/entity/Q4271324,http://www.wikidata.org/entity/Q690175,http://www.wikidata.org/entity/Q28061975,http://www.wikidata.org/entity/Q28061975,http://www.wikidata.org/entity/Q64520857,http://www.wikidata.org/entity/Q180262,http://www.wikidata.org/entity/Q180262,http://www.wikidata.org/entity/Q180262,http://www.wikidata.org/entity/Q3375719,http://www.wikidata.org/entity/Q18563360,http://www.wikidata.org/entity/Q175255'), ('labelsObjectsClasses', 'fallen angel,group of mythical characters,mythical human-animal hybrid,Hellhound,centaur,centaur,first human,mythological serpent,mythological serpent,Roman deity,fictional human,fictional human,fictional human,literary character,human,human,human,human,human,human,human,human,human,human,human,human,human,human,human,human,human,human,human,human,human,human,human,human,human,human,human,human,human,human,human,human,human,human,human,human,human,human,human,human,human,human,human,human,human,human,human,human,human,human,human,human,human,human,human,human,human,human,human,human,human,human,human,human,human,human,human,human,human,human,human,human,human,human,human,human,human,human,human,human,human,human,human,human,human,human,human,human,human,human,human,human,human,human,human,human,human,human,human,human,human,human,human,human,human biblical figure,human biblical figure,human biblical figure,human biblical figure,human biblical figure,human biblical figure,human biblical figure,human biblical figure,human biblical figure,human biblical figure,human biblical figure,human biblical figure,human biblical figure,human biblical figure,mythological Greek character,mythological Greek character,mythological Greek character,mythological Greek character,mythological Greek character,mythological Greek character,mythological Greek character,mythological Greek character,mythological Greek character,mythological Greek character,mythological Greek character,mythological Greek character,mythological Greek character,mythological Greek character,mythological Greek character,mythological Greek character,mythological Greek character,mythological Greek character,mythological Greek character,mythological Greek character,mythological Greek character,mythological Greek character,mythological Greek character,mythological Greek character,mythological Greek character,mythological Greek character,mythological Greek character,mythological Greek character,mythological Greek character,mythological Greek character,mythological Greek character,angel in Christianity,legendary figure,deity,human who may be fictional,human who may be fictional,human who may be fictional,human who may be fictional,human who may be fictional,human who may be fictional,human who may be fictional,human who may be fictional,human who may be fictional,human who may be fictional,human who may be fictional,human who may be fictional,human who may be fictional,human who may be fictional,human who may be fictional,Greek deity,Greek deity,Greek deity,king in Greek mythology,king in Greek mythology,king in Greek mythology,king in Greek mythology,death deity,death deity,giant,mythical character,mythical character,angel in Judaism,group of Greek mythical characters,group of Greek mythical characters,fictional human formerly considered to be historical,Erinyes,Erinyes,Erinyes,conceptual character,Quranic character,Hecatoncheires')]\n",
      "[('property', 'http://www.wikidata.org/prop/direct/P747'), ('labelProperty', 'has edition or translation'), ('objectsClasses', 'http://www.wikidata.org/entity/Q213924,http://www.wikidata.org/entity/Q213924,http://www.wikidata.org/entity/Q213924,http://www.wikidata.org/entity/Q213924,http://www.wikidata.org/entity/Q213924,http://www.wikidata.org/entity/Q213924,http://www.wikidata.org/entity/Q7553,http://www.wikidata.org/entity/Q277759,http://www.wikidata.org/entity/Q7725634,http://www.wikidata.org/entity/Q3331189,http://www.wikidata.org/entity/Q3331189,http://www.wikidata.org/entity/Q3331189,http://www.wikidata.org/entity/Q3331189,http://www.wikidata.org/entity/Q3331189,http://www.wikidata.org/entity/Q3331189,http://www.wikidata.org/entity/Q3331189,http://www.wikidata.org/entity/Q3331189,http://www.wikidata.org/entity/Q3331189,http://www.wikidata.org/entity/Q3331189,http://www.wikidata.org/entity/Q3331189,http://www.wikidata.org/entity/Q3331189,http://www.wikidata.org/entity/Q3331189,http://www.wikidata.org/entity/Q3331189,http://www.wikidata.org/entity/Q3331189,http://www.wikidata.org/entity/Q3331189,http://www.wikidata.org/entity/Q3331189,http://www.wikidata.org/entity/Q3331189,http://www.wikidata.org/entity/Q3331189,http://www.wikidata.org/entity/Q3331189,http://www.wikidata.org/entity/Q3331189,http://www.wikidata.org/entity/Q3331189,http://www.wikidata.org/entity/Q3331189,http://www.wikidata.org/entity/Q3331189,http://www.wikidata.org/entity/Q3331189,http://www.wikidata.org/entity/Q3331189,http://www.wikidata.org/entity/Q48498,http://www.wikidata.org/entity/Q48498,http://www.wikidata.org/entity/Q5185279,http://www.wikidata.org/entity/Q87167,http://www.wikidata.org/entity/Q39811647,http://www.wikidata.org/entity/Q39811647,http://www.wikidata.org/entity/Q11022340'), ('labelsObjectsClasses', 'codex,codex,codex,codex,codex,codex,translation,book series,literary work,version, edition, or translation,version, edition, or translation,version, edition, or translation,version, edition, or translation,version, edition, or translation,version, edition, or translation,version, edition, or translation,version, edition, or translation,version, edition, or translation,version, edition, or translation,version, edition, or translation,version, edition, or translation,version, edition, or translation,version, edition, or translation,version, edition, or translation,version, edition, or translation,version, edition, or translation,version, edition, or translation,version, edition, or translation,version, edition, or translation,version, edition, or translation,version, edition, or translation,version, edition, or translation,version, edition, or translation,version, edition, or translation,version, edition, or translation,illuminated manuscript,illuminated manuscript,poem,manuscript,translated work,translated work,canto')]\n",
      "10\n"
     ]
    }
   ],
   "source": [
    "queryString = \"\"\"\n",
    "SELECT DISTINCT ?property ?labelProperty (GROUP_CONCAT(?objectClass ; separator = \",\")  AS ?objectsClasses) (GROUP_CONCAT(?labelObjectClass ; separator = \",\")  AS ?labelsObjectsClasses)\n",
    "WHERE \n",
    "{   \n",
    "   wd:Q40185 ?property ?object .  \n",
    "   ?object wdt:P31 ?objectClass .\n",
    "   \n",
    "   # Labels\n",
    "   ?property sc:name ?labelProperty .      \n",
    "   ?objectClass sc:name ?labelObjectClass .\n",
    "   \n",
    "   FILTER(!isLiteral(?object)) .   \n",
    "}GROUP BY ?property ?labelProperty\n",
    "LIMIT 50\n",
    "\"\"\"\n",
    "print(\"Results\")\n",
    "x=run_query(queryString)"
   ]
  },
  {
   "cell_type": "markdown",
   "id": "56630aae-89b9-44d6-921e-a86c2bf9b194",
   "metadata": {
    "tags": []
   },
   "source": [
    "### Get all the couples (object property - list of the  objects that are connected to \"The Divine Comedy\"  (wd:Q40185) through that object property)"
   ]
  },
  {
   "cell_type": "code",
   "execution_count": 55,
   "id": "99d1edde-b092-473e-91a3-d91c26a427c2",
   "metadata": {},
   "outputs": [
    {
     "name": "stdout",
     "output_type": "stream",
     "text": [
      "Results\n",
      "[('property', 'http://www.wikidata.org/prop/direct/P527'), ('labelProperty', 'has part'), ('objects', 'http://www.wikidata.org/entity/Q2713307,http://www.wikidata.org/entity/Q4509219,http://www.wikidata.org/entity/Q605018'), ('labelsObjects', 'Paradiso,Inferno,Purgatorio')]\n",
      "[('property', 'http://www.wikidata.org/prop/direct/P136'), ('labelProperty', 'genre'), ('objects', 'http://www.wikidata.org/entity/Q37484'), ('labelsObjects', 'epic poem')]\n",
      "[('property', 'http://www.wikidata.org/prop/direct/P407'), ('labelProperty', 'language of work or name'), ('objects', 'http://www.wikidata.org/entity/Q652,http://www.wikidata.org/entity/Q1990745'), ('labelsObjects', 'Italian,Tuscan')]\n",
      "[('property', 'http://www.wikidata.org/prop/direct/P50'), ('labelProperty', 'author'), ('objects', 'http://www.wikidata.org/entity/Q1067'), ('labelsObjects', 'Dante Alighieri')]\n",
      "[('property', 'http://www.wikidata.org/prop/direct/P31'), ('labelProperty', 'instance of'), ('objects', 'http://www.wikidata.org/entity/Q47461344'), ('labelsObjects', 'written work')]\n",
      "[('property', 'http://www.wikidata.org/prop/direct/P910'), ('labelProperty', \"topic's main category\"), ('objects', 'http://www.wikidata.org/entity/Q7288011'), ('labelsObjects', 'Category:Divine Comedy')]\n",
      "[('property', 'http://www.wikidata.org/prop/direct/P1343'), ('labelProperty', 'described by source'), ('objects', 'http://www.wikidata.org/entity/Q2041543,http://www.wikidata.org/entity/Q3181656'), ('labelsObjects', 'Ottův slovník naučný,The Nuttall Encyclopædia')]\n",
      "[('property', 'http://www.wikidata.org/prop/direct/P2551'), ('labelProperty', 'used metre'), ('objects', 'http://www.wikidata.org/entity/Q968679'), ('labelsObjects', 'Terza rima')]\n",
      "[('property', 'http://www.wikidata.org/prop/direct/P674'), ('labelProperty', 'characters'), ('objects', 'http://www.wikidata.org/entity/Q754686,http://www.wikidata.org/entity/Q258369,http://www.wikidata.org/entity/Q706003,http://www.wikidata.org/entity/Q129866,http://www.wikidata.org/entity/Q647496,http://www.wikidata.org/entity/Q272006,http://www.wikidata.org/entity/Q652232,http://www.wikidata.org/entity/Q663792,http://www.wikidata.org/entity/Q6612,http://www.wikidata.org/entity/Q118081,http://www.wikidata.org/entity/Q1398,http://www.wikidata.org/entity/Q59180,http://www.wikidata.org/entity/Q81018,http://www.wikidata.org/entity/Q9438,http://www.wikidata.org/entity/Q1643451,http://www.wikidata.org/entity/Q371545,http://www.wikidata.org/entity/Q3991817,http://www.wikidata.org/entity/Q83041,http://www.wikidata.org/entity/Q83375,http://www.wikidata.org/entity/Q83496,http://www.wikidata.org/entity/Q849647,http://www.wikidata.org/entity/Q86805,http://www.wikidata.org/entity/Q134646,http://www.wikidata.org/entity/Q192673,http://www.wikidata.org/entity/Q334817,http://www.wikidata.org/entity/Q506550,http://www.wikidata.org/entity/Q130221,http://www.wikidata.org/entity/Q170859,http://www.wikidata.org/entity/Q8409,http://www.wikidata.org/entity/Q8778,http://www.wikidata.org/entity/Q183417,http://www.wikidata.org/entity/Q359237,http://www.wikidata.org/entity/Q36303,http://www.wikidata.org/entity/Q41370,http://www.wikidata.org/entity/Q1067,http://www.wikidata.org/entity/Q44265,http://www.wikidata.org/entity/Q234533,http://www.wikidata.org/entity/Q315347,http://www.wikidata.org/entity/Q36724,http://www.wikidata.org/entity/Q367387,http://www.wikidata.org/entity/Q60059,http://www.wikidata.org/entity/Q128176,http://www.wikidata.org/entity/Q131651,http://www.wikidata.org/entity/Q176758,http://www.wikidata.org/entity/Q571969,http://www.wikidata.org/entity/Q160441,http://www.wikidata.org/entity/Q203792,http://www.wikidata.org/entity/Q207535,http://www.wikidata.org/entity/Q232913,http://www.wikidata.org/entity/Q330584,http://www.wikidata.org/entity/Q102851,http://www.wikidata.org/entity/Q1048,http://www.wikidata.org/entity/Q188411,http://www.wikidata.org/entity/Q302,http://www.wikidata.org/entity/Q345,http://www.wikidata.org/entity/Q34943,http://www.wikidata.org/entity/Q40662,http://www.wikidata.org/entity/Q41155,http://www.wikidata.org/entity/Q6691,http://www.wikidata.org/entity/Q70899,http://www.wikidata.org/entity/Q7198,http://www.wikidata.org/entity/Q8018,http://www.wikidata.org/entity/Q859,http://www.wikidata.org/entity/Q868,http://www.wikidata.org/entity/Q913,http://www.wikidata.org/entity/Q9458,http://www.wikidata.org/entity/Q33923,http://www.wikidata.org/entity/Q676555,http://www.wikidata.org/entity/Q1334087,http://www.wikidata.org/entity/Q208256,http://www.wikidata.org/entity/Q1133523,http://www.wikidata.org/entity/Q170335,http://www.wikidata.org/entity/Q172353,http://www.wikidata.org/entity/Q132157,http://www.wikidata.org/entity/Q159666,http://www.wikidata.org/entity/Q164061,http://www.wikidata.org/entity/Q167646,http://www.wikidata.org/entity/Q379828,http://www.wikidata.org/entity/Q41746,http://www.wikidata.org/entity/Q41980,http://www.wikidata.org/entity/Q431387,http://www.wikidata.org/entity/Q5264,http://www.wikidata.org/entity/Q111559,http://www.wikidata.org/entity/Q131463,http://www.wikidata.org/entity/Q205365,http://www.wikidata.org/entity/Q23168,http://www.wikidata.org/entity/Q41410,http://www.wikidata.org/entity/Q47231,http://www.wikidata.org/entity/Q48305,http://www.wikidata.org/entity/Q8747,http://www.wikidata.org/entity/Q174353,http://www.wikidata.org/entity/Q181360,http://www.wikidata.org/entity/Q188646,http://www.wikidata.org/entity/Q2054,http://www.wikidata.org/entity/Q244912,http://www.wikidata.org/entity/Q270591,http://www.wikidata.org/entity/Q1541,http://www.wikidata.org/entity/Q831583,http://www.wikidata.org/entity/Q8581,http://www.wikidata.org/entity/Q332750,http://www.wikidata.org/entity/Q43939,http://www.wikidata.org/entity/Q833806,http://www.wikidata.org/entity/Q41866,http://www.wikidata.org/entity/Q43706,http://www.wikidata.org/entity/Q7814,http://www.wikidata.org/entity/Q223440,http://www.wikidata.org/entity/Q6197,http://www.wikidata.org/entity/Q5254,http://www.wikidata.org/entity/Q1425,http://www.wikidata.org/entity/Q771366,http://www.wikidata.org/entity/Q8347121,http://www.wikidata.org/entity/Q243203,http://www.wikidata.org/entity/Q199991,http://www.wikidata.org/entity/Q267733,http://www.wikidata.org/entity/Q905162,http://www.wikidata.org/entity/Q180262,http://www.wikidata.org/entity/Q635,http://www.wikidata.org/entity/Q82732,http://www.wikidata.org/entity/Q229432,http://www.wikidata.org/entity/Q103960,http://www.wikidata.org/entity/Q1137364,http://www.wikidata.org/entity/Q2707233,http://www.wikidata.org/entity/Q466048,http://www.wikidata.org/entity/Q39837,http://www.wikidata.org/entity/Q8011,http://www.wikidata.org/entity/Q2755054,http://www.wikidata.org/entity/Q43746,http://www.wikidata.org/entity/Q9077,http://www.wikidata.org/entity/Q7734,http://www.wikidata.org/entity/Q211246,http://www.wikidata.org/entity/Q185498,http://www.wikidata.org/entity/Q152717,http://www.wikidata.org/entity/Q172916,http://www.wikidata.org/entity/Q250506,http://www.wikidata.org/entity/Q172248,http://www.wikidata.org/entity/Q466866,http://www.wikidata.org/entity/Q366270,http://www.wikidata.org/entity/Q725527,http://www.wikidata.org/entity/Q76721,http://www.wikidata.org/entity/Q166876,http://www.wikidata.org/entity/Q4344,http://www.wikidata.org/entity/Q154938,http://www.wikidata.org/entity/Q317554,http://www.wikidata.org/entity/Q2254800,http://www.wikidata.org/entity/Q310686,http://www.wikidata.org/entity/Q1135632,http://www.wikidata.org/entity/Q549041,http://www.wikidata.org/entity/Q426862,http://www.wikidata.org/entity/Q785250,http://www.wikidata.org/entity/Q779406,http://www.wikidata.org/entity/Q2721219,http://www.wikidata.org/entity/Q297776,http://www.wikidata.org/entity/Q207370,http://www.wikidata.org/entity/Q1093574,http://www.wikidata.org/entity/Q235087,http://www.wikidata.org/entity/Q132786,http://www.wikidata.org/entity/Q1093213,http://www.wikidata.org/entity/Q451516,http://www.wikidata.org/entity/Q247137,http://www.wikidata.org/entity/Q311456,http://www.wikidata.org/entity/Q2251638,http://www.wikidata.org/entity/Q448586,http://www.wikidata.org/entity/Q474962,http://www.wikidata.org/entity/Q2521377,http://www.wikidata.org/entity/Q535107,http://www.wikidata.org/entity/Q205251,http://www.wikidata.org/entity/Q3982577,http://www.wikidata.org/entity/Q2261730,http://www.wikidata.org/entity/Q355903,http://www.wikidata.org/entity/Q58351947,http://www.wikidata.org/entity/Q466375,http://www.wikidata.org/entity/Q665165'), ('labelsObjects', \"Cacus,Peter Damian,Ugolino della Gherardesca,Minotaur,Linus,Antaeus,Ciacco,Sinon,Charon,Celestine V,Virgil,Diogenes of Sinope,Judas Iscariot,Thomas Aquinas,Alecto,Megaera,Tisiphone,Anaxagoras,Empedocles,Cerberus,Briareus,Geryon,Boniface VIII,Iphigenia,Polynices,Eteocles,Frederick II, Holy Roman Emperor,Nicholas III,Alexander the Great,Galen,Chiron,Charles Martel of Anjou,Thales,David,Dante Alighieri,Benedict of Nursia,Cornelia,Peter Lombard,Attila,William II of Sicily,Albertus Magnus,Agamemnon,Elektra,Jason,Antenor,Rabanus Maurus,Robert Guiscard,Roland,Beatrice Portinari,Amphiaraus,Boethius,Julius Caesar,Bernard of Clairvaux,Jesus,Virgin Mary,Ptolemy,John the Baptist,Heraclitus,Homer,Adam,Ovid,Augustine of Hippo,Plato,Aristotle,Socrates,Muhammad,Peter,Francis of Assisi,Phyllis,Diomedes,Jephthah,Constance,Pyrrhus,Zeno of Elea,Hector,Helen of Troy,Paris,Penthesilea,Achilles,Democritus,Deidamia,Hippocrates,Judah Maccabee,Clement V,Cain,Minos,Hades,Odysseus,Euripides,Euclid,Orpheus,harpies,Lucan,Seneca,Hezekiah,Marcia,Cicero,Phlegyas,Saladin,Dionysius I of Syracuse,Anselm of Canterbury,Capaneus,Justinian I,John Chrysostom,Giotto,Lucius Junius Brutus,Horace,Folquet de Marselha,Trajan,Myrrha,jaculus,Publius Papinius Statius,Joachim of Fiore,Thaïs,Dido,Erinyes,Cleopatra,Aeneas,Lucretia,Semiramis,Lavinia,Paolo Malatesta,Francesca da Rimini,Averroes,Avicenna,Guido I da Montefeltro,Bonaventure,Moses,Joshua,Caiaphas,Lucifer,Henry VII, Holy Roman Emperor,John XXI,Tydeus,Marcus Junius Brutus,Nessus,Guido Guinizelli,Calchas,Godfrey of Bouillon,Isidore of Seville,Arnaut Daniel,Bede,Hugh of Saint Victor,Cunizza da Romano,Dionysius the Areopagite,Rahab,Gratian,Guido Bonatti,Petrus Comestor,Latinus,Farinata degli Uberti,Pedanius Dioscorides,Gaius Cassius Longinus,Ruggieri degli Ubaldini,Julia,Anastasius II,Piccarda,Gaius Scribonius Curio,Aelius Donatus,Orosius,Cavalcante de' Cavalcanti,Fra Dolcino,amphisbaena,Ottaviano degli Ubaldini,Camilla,Plutus,Tegghiaio Aldobrandi,Iacopo Rusticucci,Siger of Brabant,Tristan and Iseult,Pierre de La Broce,Sordello\")]\n",
      "[('property', 'http://www.wikidata.org/prop/direct/P747'), ('labelProperty', 'has edition or translation'), ('objects', 'http://www.wikidata.org/entity/Q19183108,http://www.wikidata.org/entity/Q3798521,http://www.wikidata.org/entity/Q21190973,http://www.wikidata.org/entity/Q21191014,http://www.wikidata.org/entity/Q19183110,http://www.wikidata.org/entity/Q21235319,http://www.wikidata.org/entity/Q19128930,http://www.wikidata.org/entity/Q21191013,http://www.wikidata.org/entity/Q21190993,http://www.wikidata.org/entity/Q55831099,http://www.wikidata.org/entity/Q50328784,http://www.wikidata.org/entity/Q21191064,http://www.wikidata.org/entity/Q21191066,http://www.wikidata.org/entity/Q21191058,http://www.wikidata.org/entity/Q21190966,http://www.wikidata.org/entity/Q48813347,http://www.wikidata.org/entity/Q19126932,http://www.wikidata.org/entity/Q30889650,http://www.wikidata.org/entity/Q56323523,http://www.wikidata.org/entity/Q21190964,http://www.wikidata.org/entity/Q21190996,http://www.wikidata.org/entity/Q21191022,http://www.wikidata.org/entity/Q89046108,http://www.wikidata.org/entity/Q105962278,http://www.wikidata.org/entity/Q19178937,http://www.wikidata.org/entity/Q21191003,http://www.wikidata.org/entity/Q21191070,http://www.wikidata.org/entity/Q48812366,http://www.wikidata.org/entity/Q56323522,http://www.wikidata.org/entity/Q56482998'), ('labelsObjects', 'La Divine Comédie,The Divine Comedy/Inferno/Canto VI,La comedia (1878, Febrer),Divina Commedia,La Divine Comédie (Montor),Codex Landianus,Boska Komedia,Comedìa,The Divine Comedy,Codex vaticanus latinus 3199,Božská komedie,Divina Comedie (Coșbuc),Божественная комедия (1855, Минъ),Boska Komedia (Porębowicz),Göttliche Komödie (1876, Streckfuß),Yates Thompson MS 36,Commedia (1866, Lana),codex palatinus 313,Dante Estense,A Divina Comédia (Pinheiro),La Divina Comedia,Commedia (1858, Buti),Proemio: comento di Christophoro Landino fiorentino sopra la Comedia di Danthe Alighieri poeta fiorentino,Dante Urbinate 365,L’Enfer (1867, Rivarol),La Divine Comédie,Božanska komedija (Debevec),Trivulziano Codex 1080,Codex Laurentianus plut. 90.125,Divina Commedia')]\n",
      "10\n"
     ]
    }
   ],
   "source": [
    "queryString = \"\"\"\n",
    "SELECT DISTINCT ?property ?labelProperty (GROUP_CONCAT(?object ; separator = \",\")  AS ?objects) (GROUP_CONCAT(?labelObject; separator = \",\")  AS ?labelsObjects)\n",
    "WHERE \n",
    "{   \n",
    "   wd:Q40185 ?property ?object .  \n",
    " \n",
    "   # Labels\n",
    "   ?property sc:name ?labelProperty .      \n",
    "   ?object sc:name ?labelObject\n",
    "   \n",
    "   FILTER(!isLiteral(?object)) .   \n",
    "}GROUP BY ?property ?labelProperty\n",
    "LIMIT 50\n",
    "\"\"\"\n",
    "print(\"Results\")\n",
    "x=run_query(queryString)"
   ]
  },
  {
   "cell_type": "markdown",
   "id": "a85b0123-3253-4f72-8944-a8743d185927",
   "metadata": {
    "tags": []
   },
   "source": [
    "### Final Query"
   ]
  },
  {
   "cell_type": "markdown",
   "id": "60772bfa",
   "metadata": {},
   "source": [
    "Final query for this task"
   ]
  },
  {
   "cell_type": "code",
   "execution_count": 54,
   "id": "d7d8a9d5",
   "metadata": {},
   "outputs": [
    {
     "name": "stdout",
     "output_type": "stream",
     "text": [
      "Results\n",
      "[('author', 'http://www.wikidata.org/entity/Q1067'), ('label', 'Dante Alighieri')]\n",
      "1\n"
     ]
    }
   ],
   "source": [
    "queryString = \"\"\"\n",
    "SELECT DISTINCT ?author ?label\n",
    "WHERE \n",
    "{   \n",
    "   wd:Q40185 wdt:P50 ?author .\n",
    "   ?author sc:name ?label .\n",
    "}\n",
    "LIMIT 50\n",
    "\"\"\"\n",
    "print(\"Results\")\n",
    "x=run_query(queryString)"
   ]
  },
  {
   "cell_type": "markdown",
   "id": "b491dcf3",
   "metadata": {
    "tags": []
   },
   "source": [
    "## Task 2\n",
    "Identify the BGP for poet"
   ]
  },
  {
   "cell_type": "markdown",
   "id": "522c18a6-0a22-41ff-bf63-7f0f5a2b43d9",
   "metadata": {
    "tags": []
   },
   "source": [
    "### Get all data property of \"Dante Alighieri\" (wd:Q1067)"
   ]
  },
  {
   "cell_type": "code",
   "execution_count": 23,
   "id": "dd9e828f-f8a3-4ed6-8d6f-b712786b40d0",
   "metadata": {},
   "outputs": [
    {
     "name": "stdout",
     "output_type": "stream",
     "text": [
      "Results\n",
      "[('property', 'http://www.wikidata.org/prop/direct/P7992'), ('label', \"Poeti d'Italia in lingua latina author ID\")]\n",
      "[('property', 'http://www.wikidata.org/prop/direct/P1005'), ('label', 'Portuguese National Library ID')]\n",
      "[('property', 'http://www.wikidata.org/prop/direct/P1006'), ('label', 'Nationale Thesaurus voor Auteurs ID')]\n",
      "[('property', 'http://www.wikidata.org/prop/direct/P1015'), ('label', 'NORAF ID')]\n",
      "[('property', 'http://www.wikidata.org/prop/direct/P1017'), ('label', 'Vatican Library ID (former scheme)')]\n",
      "[('property', 'http://www.wikidata.org/prop/direct/P1036'), ('label', 'Dewey Decimal Classification')]\n",
      "[('property', 'http://www.wikidata.org/prop/direct/P1150'), ('label', 'Regensburg Classification')]\n",
      "[('property', 'http://www.wikidata.org/prop/direct/P1207'), ('label', 'NUKAT ID')]\n",
      "[('property', 'http://www.wikidata.org/prop/direct/P1233'), ('label', 'Internet Speculative Fiction Database author ID')]\n",
      "[('property', 'http://www.wikidata.org/prop/direct/P1256'), ('label', 'Iconclass notation')]\n",
      "[('property', 'http://www.wikidata.org/prop/direct/P1263'), ('label', 'NNDB people ID')]\n",
      "[('property', 'http://www.wikidata.org/prop/direct/P1273'), ('label', 'CANTIC ID')]\n",
      "[('property', 'http://www.wikidata.org/prop/direct/P1280'), ('label', 'CONOR.SI ID')]\n",
      "[('property', 'http://www.wikidata.org/prop/direct/P1296'), ('label', 'Gran Enciclopèdia Catalana ID')]\n",
      "[('property', 'http://www.wikidata.org/prop/direct/P1309'), ('label', 'EGAXA ID')]\n",
      "[('property', 'http://www.wikidata.org/prop/direct/P1315'), ('label', 'NLA Trove ID')]\n",
      "[('property', 'http://www.wikidata.org/prop/direct/P1368'), ('label', 'LNB ID')]\n",
      "[('property', 'http://www.wikidata.org/prop/direct/P1375'), ('label', 'NSK ID')]\n",
      "[('property', 'http://www.wikidata.org/prop/direct/P1417'), ('label', 'Encyclopædia Britannica Online ID')]\n",
      "[('property', 'http://www.wikidata.org/prop/direct/P1422'), ('label', 'Sandrart.net person ID')]\n",
      "[('property', 'http://www.wikidata.org/prop/direct/P1472'), ('label', 'Commons Creator page')]\n",
      "[('property', 'http://www.wikidata.org/prop/direct/P1580'), ('label', 'University of Barcelona authority ID')]\n",
      "[('property', 'http://www.wikidata.org/prop/direct/P1670'), ('label', 'Canadiana Authorities ID (former scheme)')]\n",
      "[('property', 'http://www.wikidata.org/prop/direct/P1695'), ('label', 'NLP ID (unique)')]\n",
      "[('property', 'http://www.wikidata.org/prop/direct/P1711'), ('label', 'British Museum person or institution ID')]\n",
      "[('property', 'http://www.wikidata.org/prop/direct/P1728'), ('label', 'AllMusic artist ID')]\n",
      "[('property', 'http://www.wikidata.org/prop/direct/P1741'), ('label', 'GTAA ID')]\n",
      "[('property', 'http://www.wikidata.org/prop/direct/P1871'), ('label', 'CERL Thesaurus ID')]\n",
      "[('property', 'http://www.wikidata.org/prop/direct/P1890'), ('label', 'CCAB ID')]\n",
      "[('property', 'http://www.wikidata.org/prop/direct/P1899'), ('label', 'LibriVox author ID')]\n",
      "[('property', 'http://www.wikidata.org/prop/direct/P1938'), ('label', 'Project Gutenberg author ID')]\n",
      "[('property', 'http://www.wikidata.org/prop/direct/P1953'), ('label', 'Discogs artist ID')]\n",
      "[('property', 'http://www.wikidata.org/prop/direct/P1977'), ('label', 'Les Archives du Spectacle Person ID')]\n",
      "[('property', 'http://www.wikidata.org/prop/direct/P1986'), ('label', 'Biographical Dictionary of Italian People ID')]\n",
      "[('property', 'http://www.wikidata.org/prop/direct/P2031'), ('label', 'work period (start)')]\n",
      "[('property', 'http://www.wikidata.org/prop/direct/P213'), ('label', 'ISNI')]\n",
      "[('property', 'http://www.wikidata.org/prop/direct/P214'), ('label', 'VIAF ID')]\n",
      "[('property', 'http://www.wikidata.org/prop/direct/P2163'), ('label', 'FAST ID')]\n",
      "[('property', 'http://www.wikidata.org/prop/direct/P2188'), ('label', 'BiblioNet author ID')]\n",
      "[('property', 'http://www.wikidata.org/prop/direct/P2252'), ('label', 'National Gallery of Art artist ID')]\n",
      "[('property', 'http://www.wikidata.org/prop/direct/P227'), ('label', 'GND ID')]\n",
      "[('property', 'http://www.wikidata.org/prop/direct/P2342'), ('label', 'AGORHA person/institution ID')]\n",
      "[('property', 'http://www.wikidata.org/prop/direct/P244'), ('label', 'Library of Congress authority ID')]\n",
      "[('property', 'http://www.wikidata.org/prop/direct/P245'), ('label', 'Union List of Artist Names ID')]\n",
      "[('property', 'http://www.wikidata.org/prop/direct/P2510'), ('label', 'National Discography of Italian Song artist/group ID')]\n",
      "[('property', 'http://www.wikidata.org/prop/direct/P2533'), ('label', 'WomenWriters ID')]\n",
      "[('property', 'http://www.wikidata.org/prop/direct/P2581'), ('label', 'BabelNet ID')]\n",
      "[('property', 'http://www.wikidata.org/prop/direct/P2600'), ('label', 'Geni.com profile ID')]\n",
      "[('property', 'http://www.wikidata.org/prop/direct/P2639'), ('label', 'Filmportal ID')]\n",
      "[('property', 'http://www.wikidata.org/prop/direct/P268'), ('label', 'Bibliothèque nationale de France ID')]\n",
      "[('property', 'http://www.wikidata.org/prop/direct/P269'), ('label', 'IdRef ID')]\n",
      "[('property', 'http://www.wikidata.org/prop/direct/P271'), ('label', 'CiNii author ID (books)')]\n",
      "[('property', 'http://www.wikidata.org/prop/direct/P2734'), ('label', 'Unz Review author ID')]\n",
      "[('property', 'http://www.wikidata.org/prop/direct/P2799'), ('label', 'BVMC person ID')]\n",
      "[('property', 'http://www.wikidata.org/prop/direct/P2924'), ('label', 'Great Russian Encyclopedia Online ID')]\n",
      "[('property', 'http://www.wikidata.org/prop/direct/P2949'), ('label', 'WikiTree person ID')]\n",
      "[('property', 'http://www.wikidata.org/prop/direct/P2966'), ('label', 'National Library of Wales Authority ID')]\n",
      "[('property', 'http://www.wikidata.org/prop/direct/P2977'), ('label', 'LBT person ID')]\n",
      "[('property', 'http://www.wikidata.org/prop/direct/P3065'), ('label', 'RERO ID')]\n",
      "[('property', 'http://www.wikidata.org/prop/direct/P3123'), ('label', 'Stanford Encyclopedia of Philosophy ID')]\n",
      "[('property', 'http://www.wikidata.org/prop/direct/P3126'), ('label', 'ALCUIN ID')]\n",
      "[('property', 'http://www.wikidata.org/prop/direct/P3154'), ('label', 'Runeberg author ID')]\n",
      "[('property', 'http://www.wikidata.org/prop/direct/P3192'), ('label', 'Last.fm ID')]\n",
      "[('property', 'http://www.wikidata.org/prop/direct/P3219'), ('label', 'Encyclopædia Universalis ID')]\n",
      "[('property', 'http://www.wikidata.org/prop/direct/P3222'), ('label', 'NE.se ID')]\n",
      "[('property', 'http://www.wikidata.org/prop/direct/P3241'), ('label', 'Catholic Encyclopedia ID')]\n",
      "[('property', 'http://www.wikidata.org/prop/direct/P3280'), ('label', 'BAnQ author ID')]\n",
      "[('property', 'http://www.wikidata.org/prop/direct/P3348'), ('label', 'National Library of Greece ID')]\n",
      "[('property', 'http://www.wikidata.org/prop/direct/P3365'), ('label', 'Treccani ID')]\n",
      "[('property', 'http://www.wikidata.org/prop/direct/P3417'), ('label', 'Quora topic ID')]\n",
      "[('property', 'http://www.wikidata.org/prop/direct/P3430'), ('label', 'SNAC ARK ID')]\n",
      "[('property', 'http://www.wikidata.org/prop/direct/P345'), ('label', 'IMDb ID')]\n",
      "[('property', 'http://www.wikidata.org/prop/direct/P349'), ('label', 'National Diet Library ID')]\n",
      "[('property', 'http://www.wikidata.org/prop/direct/P3544'), ('label', 'Te Papa agent ID')]\n",
      "[('property', 'http://www.wikidata.org/prop/direct/P3553'), ('label', 'Zhihu topic ID')]\n",
      "[('property', 'http://www.wikidata.org/prop/direct/P3569'), ('label', 'Cultureel Woordenboek ID')]\n",
      "[('property', 'http://www.wikidata.org/prop/direct/P3603'), ('label', 'Minneapolis Institute of Art constituent ID')]\n",
      "[('property', 'http://www.wikidata.org/prop/direct/P3630'), ('label', 'Babelio author ID')]\n",
      "[('property', 'http://www.wikidata.org/prop/direct/P373'), ('label', 'Commons category')]\n",
      "[('property', 'http://www.wikidata.org/prop/direct/P3762'), ('label', 'openMLOL author ID')]\n",
      "[('property', 'http://www.wikidata.org/prop/direct/P3788'), ('label', 'BNMM authority ID')]\n",
      "[('property', 'http://www.wikidata.org/prop/direct/P3846'), ('label', 'DBC author ID')]\n",
      "[('property', 'http://www.wikidata.org/prop/direct/P396'), ('label', 'SBN author ID')]\n",
      "[('property', 'http://www.wikidata.org/prop/direct/P3965'), ('label', 'Bridgeman artist ID')]\n",
      "[('property', 'http://www.wikidata.org/prop/direct/P3987'), ('label', 'SHARE Catalogue author ID')]\n",
      "[('property', 'http://www.wikidata.org/prop/direct/P4084'), ('label', 'MyAnimeList people ID')]\n",
      "[('property', 'http://www.wikidata.org/prop/direct/P409'), ('label', 'Libraries Australia ID')]\n",
      "[('property', 'http://www.wikidata.org/prop/direct/P4104'), ('label', 'Carnegie Hall agent ID')]\n",
      "[('property', 'http://www.wikidata.org/prop/direct/P4145'), ('label', 'Athenaeum person ID')]\n",
      "[('property', 'http://www.wikidata.org/prop/direct/P4200'), ('label', \"Christie's creator ID\")]\n",
      "[('property', 'http://www.wikidata.org/prop/direct/P4223'), ('label', \"Treccani's Enciclopedia Italiana ID\")]\n",
      "[('property', 'http://www.wikidata.org/prop/direct/P434'), ('label', 'MusicBrainz artist ID')]\n",
      "[('property', 'http://www.wikidata.org/prop/direct/P4342'), ('label', 'Store norske leksikon ID')]\n",
      "[('property', 'http://www.wikidata.org/prop/direct/P4359'), ('label', 'gravsted.dk ID')]\n",
      "[('property', 'http://www.wikidata.org/prop/direct/P4399'), ('label', 'Itaú Cultural ID')]\n",
      "[('property', 'http://www.wikidata.org/prop/direct/P4457'), ('label', 'DAHR artist ID')]\n",
      "[('property', 'http://www.wikidata.org/prop/direct/P4491'), ('label', 'Isidore scholar ID')]\n",
      "[('property', 'http://www.wikidata.org/prop/direct/P4539'), ('label', 'Collective Biographies of Women ID')]\n",
      "[('property', 'http://www.wikidata.org/prop/direct/P4549'), ('label', 'ARLIMA ID')]\n",
      "[('property', 'http://www.wikidata.org/prop/direct/P4553'), ('label', 'RA Collections ID')]\n",
      "[('property', 'http://www.wikidata.org/prop/direct/P4619'), ('label', 'National Library of Brazil ID')]\n",
      "[('property', 'http://www.wikidata.org/prop/direct/P4629'), ('label', 'Online Books Page author ID')]\n",
      "[('property', 'http://www.wikidata.org/prop/direct/P4808'), ('label', 'Royal Academy new identifier')]\n",
      "[('property', 'http://www.wikidata.org/prop/direct/P4985'), ('label', 'TMDb person ID')]\n",
      "[('property', 'http://www.wikidata.org/prop/direct/P5002'), ('label', 'Orthodox Encyclopedia ID')]\n",
      "[('property', 'http://www.wikidata.org/prop/direct/P5019'), ('label', 'Brockhaus Enzyklopädie online ID')]\n",
      "[('property', 'http://www.wikidata.org/prop/direct/P5034'), ('label', 'National Library of Korea ID')]\n",
      "[('property', 'http://www.wikidata.org/prop/direct/P5063'), ('label', 'Interlingual Index ID')]\n",
      "[('property', 'http://www.wikidata.org/prop/direct/P5068'), ('label', 'Flanders Arts Institute person ID')]\n",
      "[('property', 'http://www.wikidata.org/prop/direct/P5101'), ('label', 'Swedish Literature Bank Author ID')]\n",
      "[('property', 'http://www.wikidata.org/prop/direct/P5341'), ('label', 'Poetry Foundation ID')]\n",
      "[('property', 'http://www.wikidata.org/prop/direct/P5343'), ('label', 'Poets.org poet ID')]\n",
      "[('property', 'http://www.wikidata.org/prop/direct/P5344'), ('label', 'Printemps des poètes poet ID')]\n",
      "[('property', 'http://www.wikidata.org/prop/direct/P535'), ('label', 'Find A Grave memorial ID')]\n",
      "[('property', 'http://www.wikidata.org/prop/direct/P5357'), ('label', 'The Encyclopedia of Science Fiction ID')]\n",
      "[('property', 'http://www.wikidata.org/prop/direct/P5361'), ('label', 'BNB person ID')]\n",
      "[('property', 'http://www.wikidata.org/prop/direct/P5365'), ('label', 'Internet Book Database of Fiction writer ID')]\n",
      "[('property', 'http://www.wikidata.org/prop/direct/P5375'), ('label', 'BIU Santé person ID')]\n",
      "[('property', 'http://www.wikidata.org/prop/direct/P5421'), ('label', 'Trading Card Database person ID')]\n",
      "[('property', 'http://www.wikidata.org/prop/direct/P5491'), ('label', \"BD Gest' author ID\")]\n",
      "[('property', 'http://www.wikidata.org/prop/direct/P5492'), ('label', 'EDIT16 catalogue author ID')]\n",
      "[('property', 'http://www.wikidata.org/prop/direct/P5503'), ('label', 'Poetry Society of America poet ID')]\n",
      "[('property', 'http://www.wikidata.org/prop/direct/P5504'), ('label', 'RISM ID')]\n",
      "[('property', 'http://www.wikidata.org/prop/direct/P5587'), ('label', 'Libris-URI')]\n",
      "[('property', 'http://www.wikidata.org/prop/direct/P5613'), ('label', 'Bibliothèque de la Pléiade ID')]\n",
      "[('property', 'http://www.wikidata.org/prop/direct/P569'), ('label', 'date of birth')]\n",
      "[('property', 'http://www.wikidata.org/prop/direct/P570'), ('label', 'date of death')]\n",
      "[('property', 'http://www.wikidata.org/prop/direct/P5731'), ('label', 'Angelicum ID')]\n",
      "[('property', 'http://www.wikidata.org/prop/direct/P5739'), ('label', 'Pontificia Università della Santa Croce ID')]\n",
      "[('property', 'http://www.wikidata.org/prop/direct/P5821'), ('label', 'ArhivX LOD')]\n",
      "[('property', 'http://www.wikidata.org/prop/direct/P5905'), ('label', 'Comic Vine ID')]\n",
      "[('property', 'http://www.wikidata.org/prop/direct/P6058'), ('label', 'Larousse ID')]\n",
      "[('property', 'http://www.wikidata.org/prop/direct/P6173'), ('label', 'Bitraga author ID')]\n",
      "[('property', 'http://www.wikidata.org/prop/direct/P6300'), ('label', 'Hymnary author ID')]\n",
      "[('property', 'http://www.wikidata.org/prop/direct/P6327'), ('label', 'Goodreads character ID')]\n",
      "[('property', 'http://www.wikidata.org/prop/direct/P6394'), ('label', 'ELNET ID')]\n",
      "[('property', 'http://www.wikidata.org/prop/direct/P6403'), ('label', 'TheatreOnline ID')]\n",
      "[('property', 'http://www.wikidata.org/prop/direct/P6404'), ('label', \"Treccani's Dizionario di Storia ID\")]\n",
      "[('property', 'http://www.wikidata.org/prop/direct/P6412'), ('label', 'Gran Enciclopèdia de la Música ID')]\n",
      "[('property', 'http://www.wikidata.org/prop/direct/P646'), ('label', 'Freebase ID')]\n",
      "[('property', 'http://www.wikidata.org/prop/direct/P648'), ('label', 'Open Library ID')]\n",
      "[('property', 'http://www.wikidata.org/prop/direct/P650'), ('label', 'RKDartists ID')]\n",
      "[('property', 'http://www.wikidata.org/prop/direct/P6573'), ('label', 'Klexikon article ID')]\n",
      "[('property', 'http://www.wikidata.org/prop/direct/P6578'), ('label', 'MutualArt artist ID')]\n",
      "[('property', 'http://www.wikidata.org/prop/direct/P6656'), ('label', 'BHCL ID (former scheme)')]\n",
      "[('property', 'http://www.wikidata.org/prop/direct/P6683'), ('label', 'Alexander Turnbull Library ID')]\n",
      "[('property', 'http://www.wikidata.org/prop/direct/P6745'), ('label', 'Orlando author ID')]\n",
      "[('property', 'http://www.wikidata.org/prop/direct/P6764'), ('label', 'V&A person ID')]\n",
      "[('property', 'http://www.wikidata.org/prop/direct/P6821'), ('label', 'Uppsala University Alvin ID')]\n",
      "[('property', 'http://www.wikidata.org/prop/direct/P6844'), ('label', 'abART person ID')]\n",
      "[('property', 'http://www.wikidata.org/prop/direct/P6873'), ('label', 'IntraText author ID')]\n",
      "[('property', 'http://www.wikidata.org/prop/direct/P691'), ('label', 'NKCR AUT ID')]\n",
      "[('property', 'http://www.wikidata.org/prop/direct/P7024'), ('label', 'Flemish Public Libraries ID')]\n",
      "[('property', 'http://www.wikidata.org/prop/direct/P7026'), ('label', 'Lebanese National Library ID')]\n",
      "[('property', 'http://www.wikidata.org/prop/direct/P7029'), ('label', 'National Library of Russia ID')]\n",
      "[('property', 'http://www.wikidata.org/prop/direct/P7039'), ('label', 'National Library of Iceland ID')]\n",
      "[('property', 'http://www.wikidata.org/prop/direct/P7041'), ('label', 'Perseus author ID')]\n",
      "[('property', 'http://www.wikidata.org/prop/direct/P7042'), ('label', 'The Latin Library author ID')]\n",
      "[('property', 'http://www.wikidata.org/prop/direct/P7208'), ('label', 'Liber Liber author ID')]\n",
      "[('property', 'http://www.wikidata.org/prop/direct/P7212'), ('label', 'LyricsTranslate ID')]\n",
      "[('property', 'http://www.wikidata.org/prop/direct/P723'), ('label', 'Digitale Bibliotheek voor de Nederlandse Letteren author ID')]\n",
      "[('property', 'http://www.wikidata.org/prop/direct/P7293'), ('label', 'PLWABN ID')]\n",
      "[('property', 'http://www.wikidata.org/prop/direct/P7311'), ('label', 'Aozora Bunko author ID')]\n",
      "[('property', 'http://www.wikidata.org/prop/direct/P7369'), ('label', 'National Library of Chile ID')]\n",
      "[('property', 'http://www.wikidata.org/prop/direct/P7388'), ('label', 'Great Encyclopedia of Navarre ID')]\n",
      "[('property', 'http://www.wikidata.org/prop/direct/P7400'), ('label', 'LibraryThing author ID')]\n",
      "[('property', 'http://www.wikidata.org/prop/direct/P7433'), ('label', 'FantLab author ID')]\n",
      "[('property', 'http://www.wikidata.org/prop/direct/P7444'), ('label', 'Rijksmuseum Research Library authority ID')]\n",
      "[('property', 'http://www.wikidata.org/prop/direct/P7507'), ('label', 'Ben Yehuda author ID')]\n",
      "[('property', 'http://www.wikidata.org/prop/direct/P7666'), ('label', 'Visuotinė lietuvių enciklopedija ID')]\n",
      "[('property', 'http://www.wikidata.org/prop/direct/P7699'), ('label', 'National Library of Lithuania ID')]\n",
      "[('property', 'http://www.wikidata.org/prop/direct/P7700'), ('label', 'Slovak National Library ID (VIAF)')]\n",
      "[('property', 'http://www.wikidata.org/prop/direct/P7704'), ('label', 'Europeana entity')]\n",
      "[('property', 'http://www.wikidata.org/prop/direct/P7711'), ('label', 'Joconde author ID')]\n",
      "[('property', 'http://www.wikidata.org/prop/direct/P7744'), ('label', 'Mille Anni di Scienza in Italia ID')]\n",
      "[('property', 'http://www.wikidata.org/prop/direct/P7753'), ('label', 'Projekt Gutenberg-DE ID')]\n",
      "[('property', 'http://www.wikidata.org/prop/direct/P7796'), ('label', 'BeWeb person ID')]\n",
      "[('property', 'http://www.wikidata.org/prop/direct/P7818'), ('label', 'French Vikidia ID')]\n",
      "[('property', 'http://www.wikidata.org/prop/direct/P7822'), ('label', 'Italian Vikidia ID')]\n",
      "[('property', 'http://www.wikidata.org/prop/direct/P7859'), ('label', 'WorldCat Identities ID')]\n",
      "[('property', 'http://www.wikidata.org/prop/direct/P7865'), ('label', 'CoBiS author ID')]\n",
      "[('property', 'http://www.wikidata.org/prop/direct/P7902'), ('label', 'Deutsche Biographie (GND) ID')]\n",
      "[('property', 'http://www.wikidata.org/prop/direct/P7929'), ('label', 'Roglo person ID')]\n",
      "[('property', 'http://www.wikidata.org/prop/direct/P7935'), ('label', 'Corpus Corporum author ID')]\n",
      "[('property', 'http://www.wikidata.org/prop/direct/P7982'), ('label', 'Hrvatska enciklopedija ID')]\n",
      "[('property', 'http://www.wikidata.org/prop/direct/P7986'), ('label', 'Mirabile author ID')]\n",
      "[('property', 'http://www.wikidata.org/prop/direct/P7993'), ('label', \"Treccani's Dizionario di Filosofia ID\")]\n",
      "[('property', 'http://www.wikidata.org/prop/direct/P8034'), ('label', 'Vatican Library VcBA ID')]\n",
      "[('property', 'http://www.wikidata.org/prop/direct/P8122'), ('label', 'DLL Catalog author ID')]\n",
      "[('property', 'http://www.wikidata.org/prop/direct/P8179'), ('label', 'Canadiana NCF ID')]\n",
      "[('property', 'http://www.wikidata.org/prop/direct/P8189'), ('label', 'National Library of Israel J9U ID')]\n",
      "[('property', 'http://www.wikidata.org/prop/direct/P8234'), ('label', 'LiederNet author ID')]\n",
      "[('property', 'http://www.wikidata.org/prop/direct/P8248'), ('label', 'Colon Classification')]\n",
      "[('property', 'http://www.wikidata.org/prop/direct/P8287'), ('label', 'Worlds Without End author ID')]\n",
      "[('property', 'http://www.wikidata.org/prop/direct/P8290'), ('label', 'Archivio Storico Ricordi person ID')]\n",
      "[('property', 'http://www.wikidata.org/prop/direct/P8334'), ('label', 'MuseScore artist ID')]\n",
      "[('property', 'http://www.wikidata.org/prop/direct/P8349'), ('label', 'Proleksis enciklopedija ID')]\n",
      "[('property', 'http://www.wikidata.org/prop/direct/P8385'), ('label', 'IDU person ID')]\n",
      "[('property', 'http://www.wikidata.org/prop/direct/P839'), ('label', 'IMSLP ID')]\n",
      "[('property', 'http://www.wikidata.org/prop/direct/P8406'), ('label', 'Grove Art Online ID')]\n",
      "[('property', 'http://www.wikidata.org/prop/direct/P8440'), ('label', 'Personendatenbank Germania Sacra ID')]\n",
      "[('property', 'http://www.wikidata.org/prop/direct/P8496'), ('label', 'Archive Site Trinity College Cambridge ID')]\n",
      "[('property', 'http://www.wikidata.org/prop/direct/P8547'), ('label', 'BHF author ID')]\n",
      "[('property', 'http://www.wikidata.org/prop/direct/P8568'), ('label', 'Jewish Virtual Library ID')]\n",
      "[('property', 'http://www.wikidata.org/prop/direct/P863'), ('label', 'InPhO ID')]\n",
      "[('property', 'http://www.wikidata.org/prop/direct/P8636'), ('label', 'McClintock and Strong Biblical Cyclopedia ID')]\n",
      "[('property', 'http://www.wikidata.org/prop/direct/P866'), ('label', 'Perlentaucher ID')]\n",
      "[('property', 'http://www.wikidata.org/prop/direct/P8750'), ('label', 'Unione Romana Biblioteche Scientifiche ID')]\n",
      "[('property', 'http://www.wikidata.org/prop/direct/P8795'), ('label', 'General Diamond Catalogue ID')]\n",
      "[('property', 'http://www.wikidata.org/prop/direct/P8805'), ('label', 'LIMIS person ID')]\n",
      "[('property', 'http://www.wikidata.org/prop/direct/P8814'), ('label', 'WordNet 3.1 Synset ID')]\n",
      "[('property', 'http://www.wikidata.org/prop/direct/P8826'), ('label', 'edition humboldt digital ID')]\n",
      "[('property', 'http://www.wikidata.org/prop/direct/P8833'), ('label', 'Union Catalog of Armenian Libraries authority ID')]\n",
      "[('property', 'http://www.wikidata.org/prop/direct/P8848'), ('label', 'CONOR.AL ID')]\n",
      "[('property', 'http://www.wikidata.org/prop/direct/P8849'), ('label', 'CONOR.BG ID')]\n",
      "[('property', 'http://www.wikidata.org/prop/direct/P8851'), ('label', 'CONOR.SR ID')]\n",
      "[('property', 'http://www.wikidata.org/prop/direct/P8885'), ('label', 'Namuwiki ID')]\n",
      "[('property', 'http://www.wikidata.org/prop/direct/P8899'), ('label', 'Swedish National Library Arken ID')]\n",
      "[('property', 'http://www.wikidata.org/prop/direct/P8902'), ('label', 'Archives at Yale names ID')]\n",
      "[('property', 'http://www.wikidata.org/prop/direct/P8947'), ('label', 'Museo Galileo authority ID')]\n",
      "[('property', 'http://www.wikidata.org/prop/direct/P8974'), ('label', 'SAPA ID')]\n",
      "[('property', 'http://www.wikidata.org/prop/direct/P8980'), ('label', 'KANTO ID')]\n",
      "[('property', 'http://www.wikidata.org/prop/direct/P9000'), ('label', 'World History Encyclopedia ID')]\n",
      "[('property', 'http://www.wikidata.org/prop/direct/P9017'), ('label', 'Medieval Manuscripts in Oxford Libraries person ID')]\n",
      "[('property', 'http://www.wikidata.org/prop/direct/P9037'), ('label', 'BHCL UUID')]\n",
      "[('property', 'http://www.wikidata.org/prop/direct/P906'), ('label', 'SELIBR ID')]\n",
      "[('property', 'http://www.wikidata.org/prop/direct/P9081'), ('label', 'SEARCH on line catalogue ID')]\n",
      "[('property', 'http://www.wikidata.org/prop/direct/P9141'), ('label', 'Portal da Literatura ID')]\n",
      "[('property', 'http://www.wikidata.org/prop/direct/P9164'), ('label', 'Svenska Institutet i Rom ID')]\n",
      "[('property', 'http://www.wikidata.org/prop/direct/P9171'), ('label', 'RILM ID')]\n",
      "[('property', 'http://www.wikidata.org/prop/direct/P9178'), ('label', 'Biblioteca Franco Serantini ID')]\n",
      "[('property', 'http://www.wikidata.org/prop/direct/P9179'), ('label', 'Biblioteca Iglesia Nacional Española en Roma ID')]\n",
      "[('property', 'http://www.wikidata.org/prop/direct/P9223'), ('label', 'Provenio UUID')]\n",
      "[('property', 'http://www.wikidata.org/prop/direct/P9226'), ('label', 'ARAE ID')]\n",
      "[('property', 'http://www.wikidata.org/prop/direct/P9251'), ('label', 'Cyprus University of Technology ID')]\n",
      "[('property', 'http://www.wikidata.org/prop/direct/P9282'), ('label', 'Catalogue of the Capitular Library of Verona author ID')]\n",
      "[('property', 'http://www.wikidata.org/prop/direct/P935'), ('label', 'Commons gallery')]\n",
      "[('property', 'http://www.wikidata.org/prop/direct/P9407'), ('label', 'Polignosi ID')]\n",
      "[('property', 'http://www.wikidata.org/prop/direct/P949'), ('label', 'National Library of Israel ID')]\n",
      "[('property', 'http://www.wikidata.org/prop/direct/P950'), ('label', 'Biblioteca Nacional de España ID')]\n",
      "[('property', 'http://www.wikidata.org/prop/direct/P9507'), ('label', 'NBM authority ID')]\n",
      "[('property', 'http://www.wikidata.org/prop/direct/P9522'), ('label', 'Biblioteca di Santa Sabina ID')]\n",
      "[('property', 'http://www.wikidata.org/prop/direct/P9534'), ('label', 'Biblioteche della Custodia di Terra Santa a Gerusalemme ID')]\n",
      "[('property', 'http://www.wikidata.org/prop/direct/P9536'), ('label', 'SAIA authority ID')]\n",
      "[('property', 'http://www.wikidata.org/prop/direct/P9563'), ('label', 'Encyclopedia of Renaissance Philosophy ID')]\n",
      "[('property', 'http://www.wikidata.org/prop/direct/P9626'), ('label', 'Biographical Encyclopedia of Astronomers ID')]\n",
      "[('property', 'http://www.wikidata.org/prop/direct/P9653'), ('label', 'Bod-Inc Online author ID')]\n",
      "[('property', 'http://www.wikidata.org/prop/direct/P9661'), ('label', 'EBAF authority ID')]\n",
      "[('property', 'http://www.wikidata.org/prop/direct/P9678'), ('label', 'Franciscan Center of Christian Oriental Studies ID')]\n",
      "[('property', 'http://www.wikidata.org/prop/direct/P9756'), ('label', 'Schoenberg Database of Manuscripts name ID')]\n",
      "[('property', 'http://www.wikidata.org/prop/direct/P9807'), ('label', 'SNK ID')]\n",
      "[('property', 'http://www.wikidata.org/prop/direct/P4440'), ('label', 'Biblioteca Nacional de México ID')]\n",
      "[('property', 'http://www.wikidata.org/prop/direct/P7331'), ('label', 'Letteraturaitaliana.net author ID')]\n",
      "[('property', 'http://www.wikidata.org/prop/direct/P9575'), ('label', 'Australian Music Centre artist ID')]\n",
      "[('property', 'http://www.wikidata.org/prop/direct/P8603'), ('label', 'Istrapedia ID')]\n",
      "[('property', 'http://www.wikidata.org/prop/direct/P9041'), ('label', 'DiVo person ID')]\n",
      "[('property', 'http://www.wikidata.org/prop/direct/P9642'), ('label', 'Olschki author ID')]\n",
      "[('property', 'http://www.wikidata.org/prop/direct/P6583'), ('label', 'Lucerna person ID')]\n",
      "258\n"
     ]
    }
   ],
   "source": [
    "queryString = \"\"\"\n",
    "SELECT DISTINCT ?property ?label\n",
    "WHERE {   \n",
    "   wd:Q1067 ?property ?object .\n",
    "   ?property sc:name ?label .\n",
    "   FILTER(isLiteral(?object)) .   \n",
    "}\n",
    "\"\"\"\n",
    "\n",
    "print(\"Results\")\n",
    "x=run_query(queryString)"
   ]
  },
  {
   "cell_type": "markdown",
   "id": "ba668ef6-f038-4150-8a11-cdcc939af917",
   "metadata": {
    "tags": []
   },
   "source": [
    "### Get all data property of \"Dante Alighieri\" (wd:Q1067) that do not contain ID"
   ]
  },
  {
   "cell_type": "code",
   "execution_count": 25,
   "id": "e5619bc3-be45-4b69-8928-beee0b8d4626",
   "metadata": {},
   "outputs": [
    {
     "name": "stdout",
     "output_type": "stream",
     "text": [
      "Results\n",
      "[('property', 'http://www.wikidata.org/prop/direct/P1036'), ('label', 'Dewey Decimal Classification')]\n",
      "[('property', 'http://www.wikidata.org/prop/direct/P1150'), ('label', 'Regensburg Classification')]\n",
      "[('property', 'http://www.wikidata.org/prop/direct/P1256'), ('label', 'Iconclass notation')]\n",
      "[('property', 'http://www.wikidata.org/prop/direct/P1472'), ('label', 'Commons Creator page')]\n",
      "[('property', 'http://www.wikidata.org/prop/direct/P2031'), ('label', 'work period (start)')]\n",
      "[('property', 'http://www.wikidata.org/prop/direct/P213'), ('label', 'ISNI')]\n",
      "[('property', 'http://www.wikidata.org/prop/direct/P373'), ('label', 'Commons category')]\n",
      "[('property', 'http://www.wikidata.org/prop/direct/P4808'), ('label', 'Royal Academy new identifier')]\n",
      "[('property', 'http://www.wikidata.org/prop/direct/P5587'), ('label', 'Libris-URI')]\n",
      "[('property', 'http://www.wikidata.org/prop/direct/P569'), ('label', 'date of birth')]\n",
      "[('property', 'http://www.wikidata.org/prop/direct/P570'), ('label', 'date of death')]\n",
      "[('property', 'http://www.wikidata.org/prop/direct/P5821'), ('label', 'ArhivX LOD')]\n",
      "[('property', 'http://www.wikidata.org/prop/direct/P7704'), ('label', 'Europeana entity')]\n",
      "[('property', 'http://www.wikidata.org/prop/direct/P8248'), ('label', 'Colon Classification')]\n",
      "[('property', 'http://www.wikidata.org/prop/direct/P935'), ('label', 'Commons gallery')]\n",
      "15\n"
     ]
    }
   ],
   "source": [
    "queryString = \"\"\"\n",
    "SELECT DISTINCT ?property ?label\n",
    "WHERE {   \n",
    "   wd:Q1067 ?property ?object .\n",
    "   ?property sc:name ?label .\n",
    "   FILTER(isLiteral(?object)) .\n",
    "   FILTER REGEX(?label, \"^((?!ID).)*$\") . \n",
    "}\n",
    "\"\"\"\n",
    "\n",
    "print(\"Results\")\n",
    "x=run_query(queryString)"
   ]
  },
  {
   "cell_type": "markdown",
   "id": "c6e2e6f2-b1c8-481e-8980-dba8552732f1",
   "metadata": {
    "tags": []
   },
   "source": [
    "### Get the class of \"Dante Alighieri\" (wd:Q1067)"
   ]
  },
  {
   "cell_type": "code",
   "execution_count": 26,
   "id": "aabe4ae9",
   "metadata": {},
   "outputs": [
    {
     "name": "stdout",
     "output_type": "stream",
     "text": [
      "Results\n",
      "[('class', 'http://www.wikidata.org/entity/Q5'), ('label', 'human')]\n",
      "1\n"
     ]
    }
   ],
   "source": [
    "queryString = \"\"\"\n",
    "SELECT DISTINCT ?class ?label\n",
    "WHERE {   \n",
    "   wd:Q1067 wdt:P31 ?class .\n",
    "   ?class sc:name ?label .     \n",
    "}\n",
    "\"\"\"\n",
    "print(\"Results\")\n",
    "x=run_query(queryString)"
   ]
  },
  {
   "cell_type": "markdown",
   "id": "d37d0edc-798b-49f3-8b03-44ca9b8e02ae",
   "metadata": {
    "tags": []
   },
   "source": [
    "### Get all object properties of \"Dante Alighieri\" (wd:Q1067)"
   ]
  },
  {
   "cell_type": "code",
   "execution_count": 27,
   "id": "35ce4340-c287-4c0e-afad-50d17d9d58d4",
   "metadata": {},
   "outputs": [
    {
     "name": "stdout",
     "output_type": "stream",
     "text": [
      "Results\n",
      "[('property', 'http://www.wikidata.org/prop/direct/P101'), ('label', 'field of work')]\n",
      "[('property', 'http://www.wikidata.org/prop/direct/P103'), ('label', 'native language')]\n",
      "[('property', 'http://www.wikidata.org/prop/direct/P106'), ('label', 'occupation')]\n",
      "[('property', 'http://www.wikidata.org/prop/direct/P1066'), ('label', 'student of')]\n",
      "[('property', 'http://www.wikidata.org/prop/direct/P119'), ('label', 'place of burial')]\n",
      "[('property', 'http://www.wikidata.org/prop/direct/P1196'), ('label', 'manner of death')]\n",
      "[('property', 'http://www.wikidata.org/prop/direct/P1299'), ('label', 'depicted by')]\n",
      "[('property', 'http://www.wikidata.org/prop/direct/P1343'), ('label', 'described by source')]\n",
      "[('property', 'http://www.wikidata.org/prop/direct/P135'), ('label', 'movement')]\n",
      "[('property', 'http://www.wikidata.org/prop/direct/P140'), ('label', 'religion')]\n",
      "[('property', 'http://www.wikidata.org/prop/direct/P1412'), ('label', 'languages spoken, written or signed')]\n",
      "[('property', 'http://www.wikidata.org/prop/direct/P172'), ('label', 'ethnic group')]\n",
      "[('property', 'http://www.wikidata.org/prop/direct/P18'), ('label', 'image')]\n",
      "[('property', 'http://www.wikidata.org/prop/direct/P19'), ('label', 'place of birth')]\n",
      "[('property', 'http://www.wikidata.org/prop/direct/P20'), ('label', 'place of death')]\n",
      "[('property', 'http://www.wikidata.org/prop/direct/P21'), ('label', 'sex or gender')]\n",
      "[('property', 'http://www.wikidata.org/prop/direct/P22'), ('label', 'father')]\n",
      "[('property', 'http://www.wikidata.org/prop/direct/P25'), ('label', 'mother')]\n",
      "[('property', 'http://www.wikidata.org/prop/direct/P26'), ('label', 'spouse')]\n",
      "[('property', 'http://www.wikidata.org/prop/direct/P27'), ('label', 'country of citizenship')]\n",
      "[('property', 'http://www.wikidata.org/prop/direct/P31'), ('label', 'instance of')]\n",
      "[('property', 'http://www.wikidata.org/prop/direct/P3373'), ('label', 'sibling')]\n",
      "[('property', 'http://www.wikidata.org/prop/direct/P40'), ('label', 'child')]\n",
      "[('property', 'http://www.wikidata.org/prop/direct/P437'), ('label', 'distribution format')]\n",
      "[('property', 'http://www.wikidata.org/prop/direct/P463'), ('label', 'member of')]\n",
      "[('property', 'http://www.wikidata.org/prop/direct/P5008'), ('label', 'on focus list of Wikimedia project')]\n",
      "[('property', 'http://www.wikidata.org/prop/direct/P509'), ('label', 'cause of death')]\n",
      "[('property', 'http://www.wikidata.org/prop/direct/P53'), ('label', 'family')]\n",
      "[('property', 'http://www.wikidata.org/prop/direct/P551'), ('label', 'residence')]\n",
      "[('property', 'http://www.wikidata.org/prop/direct/P607'), ('label', 'conflict')]\n",
      "[('property', 'http://www.wikidata.org/prop/direct/P611'), ('label', 'religious order')]\n",
      "[('property', 'http://www.wikidata.org/prop/direct/P6379'), ('label', 'has works in the collection')]\n",
      "[('property', 'http://www.wikidata.org/prop/direct/P6886'), ('label', 'writing language')]\n",
      "[('property', 'http://www.wikidata.org/prop/direct/P734'), ('label', 'family name')]\n",
      "[('property', 'http://www.wikidata.org/prop/direct/P735'), ('label', 'given name')]\n",
      "[('property', 'http://www.wikidata.org/prop/direct/P737'), ('label', 'influenced by')]\n",
      "[('property', 'http://www.wikidata.org/prop/direct/P7763'), ('label', 'copyright status as a creator')]\n",
      "[('property', 'http://www.wikidata.org/prop/direct/P800'), ('label', 'notable work')]\n",
      "[('property', 'http://www.wikidata.org/prop/direct/P8625'), ('label', 'bibliography')]\n",
      "[('property', 'http://www.wikidata.org/prop/direct/P910'), ('label', \"topic's main category\")]\n",
      "40\n"
     ]
    }
   ],
   "source": [
    "queryString = \"\"\"\n",
    "SELECT DISTINCT ?property ?label\n",
    "WHERE {   \n",
    "   wd:Q1067 ?property ?object .\n",
    "   ?property sc:name ?label .\n",
    "   FILTER(!isLiteral(?object)) .   \n",
    "}\n",
    "\"\"\"\n",
    "\n",
    "print(\"Results\")\n",
    "x=run_query(queryString)"
   ]
  },
  {
   "cell_type": "markdown",
   "id": "3ad2bdf0-1979-4267-8777-7dd1cdfc2603",
   "metadata": {
    "tags": []
   },
   "source": [
    "### Get all the classes connected to \"Dante Alighieri\" (wd:Q1067)"
   ]
  },
  {
   "cell_type": "code",
   "execution_count": 29,
   "id": "4d466193-7ad8-46af-8d6b-c823dfacede5",
   "metadata": {},
   "outputs": [
    {
     "name": "stdout",
     "output_type": "stream",
     "text": [
      "Results\n",
      "[('objectClass', 'http://www.wikidata.org/entity/Q16695773'), ('label', 'WikiProject')]\n",
      "[('objectClass', 'http://www.wikidata.org/entity/Q186165'), ('label', 'web portal')]\n",
      "[('objectClass', 'http://www.wikidata.org/entity/Q28653'), ('label', 'mendicant order')]\n",
      "[('objectClass', 'http://www.wikidata.org/entity/Q15893266'), ('label', 'former entity')]\n",
      "[('objectClass', 'http://www.wikidata.org/entity/Q170161'), ('label', 'guild')]\n",
      "[('objectClass', 'http://www.wikidata.org/entity/Q879146'), ('label', 'Christian denomination')]\n",
      "[('objectClass', 'http://www.wikidata.org/entity/Q48264'), ('label', 'gender identity')]\n",
      "[('objectClass', 'http://www.wikidata.org/entity/Q56165908'), ('label', 'Jewish encyclopedia')]\n",
      "[('objectClass', 'http://www.wikidata.org/entity/Q12737077'), ('label', 'occupation')]\n",
      "[('objectClass', 'http://www.wikidata.org/entity/Q1288568'), ('label', 'modern language')]\n",
      "[('objectClass', 'http://www.wikidata.org/entity/Q13406463'), ('label', 'Wikimedia list article')]\n",
      "[('objectClass', 'http://www.wikidata.org/entity/Q1549591'), ('label', 'big city')]\n",
      "[('objectClass', 'http://www.wikidata.org/entity/Q178561'), ('label', 'battle')]\n",
      "[('objectClass', 'http://www.wikidata.org/entity/Q207694'), ('label', 'art museum')]\n",
      "[('objectClass', 'http://www.wikidata.org/entity/Q28640'), ('label', 'profession')]\n",
      "[('objectClass', 'http://www.wikidata.org/entity/Q3024240'), ('label', 'historical country')]\n",
      "[('objectClass', 'http://www.wikidata.org/entity/Q33829'), ('label', 'human population')]\n",
      "[('objectClass', 'http://www.wikidata.org/entity/Q34770'), ('label', 'language')]\n",
      "[('objectClass', 'http://www.wikidata.org/entity/Q35127'), ('label', 'website')]\n",
      "[('objectClass', 'http://www.wikidata.org/entity/Q4164871'), ('label', 'position')]\n",
      "[('objectClass', 'http://www.wikidata.org/entity/Q4167836'), ('label', 'Wikimedia category')]\n",
      "[('objectClass', 'http://www.wikidata.org/entity/Q4263830'), ('label', 'literary form')]\n",
      "[('objectClass', 'http://www.wikidata.org/entity/Q47461344'), ('label', 'written work')]\n",
      "[('objectClass', 'http://www.wikidata.org/entity/Q5'), ('label', 'human')]\n",
      "[('objectClass', 'http://www.wikidata.org/entity/Q515'), ('label', 'city')]\n",
      "[('objectClass', 'http://www.wikidata.org/entity/Q5292'), ('label', 'encyclopedia')]\n",
      "[('objectClass', 'http://www.wikidata.org/entity/Q55983715'), ('label', 'organisms known by a particular common name')]\n",
      "[('objectClass', 'http://www.wikidata.org/entity/Q6266'), ('label', 'nation')]\n",
      "[('objectClass', 'http://www.wikidata.org/entity/Q747074'), ('label', 'comune of Italy')]\n",
      "[('objectClass', 'http://www.wikidata.org/entity/Q7725634'), ('label', 'literary work')]\n",
      "[('objectClass', 'http://www.wikidata.org/entity/Q8434'), ('label', 'education')]\n",
      "[('objectClass', 'http://www.wikidata.org/entity/Q12308941'), ('label', 'male given name')]\n",
      "[('objectClass', 'http://www.wikidata.org/entity/Q14204246'), ('label', 'Wikimedia project page')]\n",
      "[('objectClass', 'http://www.wikidata.org/entity/Q223393'), ('label', 'literary genre')]\n",
      "[('objectClass', 'http://www.wikidata.org/entity/Q2352616'), ('label', 'catalogue')]\n",
      "[('objectClass', 'http://www.wikidata.org/entity/Q3305213'), ('label', 'painting')]\n",
      "[('objectClass', 'http://www.wikidata.org/entity/Q3331189'), ('label', 'version, edition, or translation')]\n",
      "[('objectClass', 'http://www.wikidata.org/entity/Q66715801'), ('label', 'musical profession')]\n",
      "[('objectClass', 'http://www.wikidata.org/entity/Q101352'), ('label', 'family name')]\n",
      "[('objectClass', 'http://www.wikidata.org/entity/Q13417114'), ('label', 'noble family')]\n",
      "[('objectClass', 'http://www.wikidata.org/entity/Q162875'), ('label', 'mausoleum')]\n",
      "[('objectClass', 'http://www.wikidata.org/entity/Q21070568'), ('label', 'human who may be fictional')]\n",
      "[('objectClass', 'http://www.wikidata.org/entity/Q436240'), ('label', 'ancient language')]\n",
      "[('objectClass', 'http://www.wikidata.org/entity/Q45762'), ('label', 'dead language')]\n",
      "[('objectClass', 'http://www.wikidata.org/entity/Q839470'), ('label', 'sacred language')]\n",
      "[('objectClass', 'http://www.wikidata.org/entity/Q1631107'), ('label', 'bibliography')]\n",
      "[('objectClass', 'http://www.wikidata.org/entity/Q3326717'), ('label', 'literary movement')]\n",
      "[('objectClass', 'http://www.wikidata.org/entity/Q89362829'), ('label', 'non-music')]\n",
      "[('objectClass', 'http://www.wikidata.org/entity/Q1151067'), ('label', 'rule')]\n",
      "[('objectClass', 'http://www.wikidata.org/entity/Q212805'), ('label', 'digital library')]\n",
      "[('objectClass', 'http://www.wikidata.org/entity/Q22669139'), ('label', 'fresco')]\n",
      "[('objectClass', 'http://www.wikidata.org/entity/Q383092'), ('label', 'art school')]\n",
      "[('objectClass', 'http://www.wikidata.org/entity/Q4369513'), ('label', 'sex of humans')]\n",
      "[('objectClass', 'http://www.wikidata.org/entity/Q975413'), ('label', 'encyclopedic dictionary')]\n",
      "[('objectClass', 'http://www.wikidata.org/entity/Q12038942'), ('label', 'multimedia database')]\n",
      "[('objectClass', 'http://www.wikidata.org/entity/Q2438541'), ('label', 'manner of death')]\n",
      "[('objectClass', 'http://www.wikidata.org/entity/Q506680'), ('label', 'endemic disease')]\n",
      "[('objectClass', 'http://www.wikidata.org/entity/Q3375719'), ('label', 'conceptual character')]\n",
      "[('objectClass', 'http://www.wikidata.org/entity/Q661936'), ('label', 'pro-drop language')]\n",
      "[('objectClass', 'http://www.wikidata.org/entity/Q73568642'), ('label', 'copyright status of works')]\n",
      "60\n"
     ]
    }
   ],
   "source": [
    "queryString = \"\"\"\n",
    "SELECT DISTINCT ?objectClass ?label\n",
    "WHERE {   \n",
    "   wd:Q1067 ?property ?object .\n",
    "   ?object wdt:P31 ?objectClass .\n",
    "   ?objectClass sc:name ?label .\n",
    "   FILTER(!isLiteral(?object)) .   \n",
    "}\n",
    "\"\"\"\n",
    "print(\"Results\")\n",
    "x=run_query(queryString)"
   ]
  },
  {
   "cell_type": "markdown",
   "id": "ef40f0fd-2492-4522-ac56-bb70ce784a11",
   "metadata": {
    "tags": []
   },
   "source": [
    "### Get all the couples (object property - list of the classes of the objects that are connected to \"Dante Alighieri\" (wd:Q1067) through that object property)"
   ]
  },
  {
   "cell_type": "code",
   "execution_count": 5,
   "id": "a7b8b746-190b-452f-96aa-987d5c33befd",
   "metadata": {},
   "outputs": [
    {
     "name": "stdout",
     "output_type": "stream",
     "text": [
      "Results\n",
      "[('property', 'http://www.wikidata.org/prop/direct/P735'), ('labelProperty', 'given name'), ('objectsClasses', 'http://www.wikidata.org/entity/Q12308941'), ('labelsObjectsClasses', 'male given name')]\n",
      "[('property', 'http://www.wikidata.org/prop/direct/P135'), ('labelProperty', 'movement'), ('objectsClasses', 'http://www.wikidata.org/entity/Q3326717'), ('labelsObjectsClasses', 'literary movement')]\n",
      "[('property', 'http://www.wikidata.org/prop/direct/P106'), ('labelProperty', 'occupation'), ('objectsClasses', 'http://www.wikidata.org/entity/Q12737077,http://www.wikidata.org/entity/Q12737077,http://www.wikidata.org/entity/Q12737077,http://www.wikidata.org/entity/Q28640,http://www.wikidata.org/entity/Q28640,http://www.wikidata.org/entity/Q28640,http://www.wikidata.org/entity/Q28640,http://www.wikidata.org/entity/Q28640,http://www.wikidata.org/entity/Q28640,http://www.wikidata.org/entity/Q28640,http://www.wikidata.org/entity/Q4164871,http://www.wikidata.org/entity/Q8434,http://www.wikidata.org/entity/Q66715801'), ('labelsObjectsClasses', 'occupation,occupation,occupation,profession,profession,profession,profession,profession,profession,profession,position,education,musical profession')]\n",
      "[('property', 'http://www.wikidata.org/prop/direct/P1196'), ('labelProperty', 'manner of death'), ('objectsClasses', 'http://www.wikidata.org/entity/Q2438541'), ('labelsObjectsClasses', 'manner of death')]\n",
      "[('property', 'http://www.wikidata.org/prop/direct/P21'), ('labelProperty', 'sex or gender'), ('objectsClasses', 'http://www.wikidata.org/entity/Q48264,http://www.wikidata.org/entity/Q4369513'), ('labelsObjectsClasses', 'gender identity,sex of humans')]\n",
      "[('property', 'http://www.wikidata.org/prop/direct/P5008'), ('labelProperty', 'on focus list of Wikimedia project'), ('objectsClasses', 'http://www.wikidata.org/entity/Q16695773,http://www.wikidata.org/entity/Q13406463,http://www.wikidata.org/entity/Q14204246'), ('labelsObjectsClasses', 'WikiProject,Wikimedia list article,Wikimedia project page')]\n",
      "[('property', 'http://www.wikidata.org/prop/direct/P172'), ('labelProperty', 'ethnic group'), ('objectsClasses', 'http://www.wikidata.org/entity/Q33829,http://www.wikidata.org/entity/Q6266'), ('labelsObjectsClasses', 'human population,nation')]\n",
      "[('property', 'http://www.wikidata.org/prop/direct/P6379'), ('labelProperty', 'has works in the collection'), ('objectsClasses', 'http://www.wikidata.org/entity/Q207694,http://www.wikidata.org/entity/Q207694,http://www.wikidata.org/entity/Q383092'), ('labelsObjectsClasses', 'art museum,art museum,art school')]\n",
      "[('property', 'http://www.wikidata.org/prop/direct/P1412'), ('labelProperty', 'languages spoken, written or signed'), ('objectsClasses', 'http://www.wikidata.org/entity/Q1288568,http://www.wikidata.org/entity/Q34770,http://www.wikidata.org/entity/Q34770,http://www.wikidata.org/entity/Q436240,http://www.wikidata.org/entity/Q45762,http://www.wikidata.org/entity/Q839470,http://www.wikidata.org/entity/Q661936'), ('labelsObjectsClasses', 'modern language,language,language,ancient language,dead language,sacred language,pro-drop language')]\n",
      "[('property', 'http://www.wikidata.org/prop/direct/P800'), ('labelProperty', 'notable work'), ('objectsClasses', 'http://www.wikidata.org/entity/Q47461344,http://www.wikidata.org/entity/Q7725634,http://www.wikidata.org/entity/Q7725634,http://www.wikidata.org/entity/Q7725634,http://www.wikidata.org/entity/Q7725634'), ('labelsObjectsClasses', 'written work,literary work,literary work,literary work,literary work')]\n",
      "[('property', 'http://www.wikidata.org/prop/direct/P26'), ('labelProperty', 'spouse'), ('objectsClasses', 'http://www.wikidata.org/entity/Q5'), ('labelsObjectsClasses', 'human')]\n",
      "[('property', 'http://www.wikidata.org/prop/direct/P509'), ('labelProperty', 'cause of death'), ('objectsClasses', 'http://www.wikidata.org/entity/Q506680'), ('labelsObjectsClasses', 'endemic disease')]\n",
      "[('property', 'http://www.wikidata.org/prop/direct/P607'), ('labelProperty', 'conflict'), ('objectsClasses', 'http://www.wikidata.org/entity/Q178561'), ('labelsObjectsClasses', 'battle')]\n",
      "[('property', 'http://www.wikidata.org/prop/direct/P22'), ('labelProperty', 'father'), ('objectsClasses', 'http://www.wikidata.org/entity/Q5'), ('labelsObjectsClasses', 'human')]\n",
      "[('property', 'http://www.wikidata.org/prop/direct/P1299'), ('labelProperty', 'depicted by'), ('objectsClasses', 'http://www.wikidata.org/entity/Q3305213,http://www.wikidata.org/entity/Q3305213,http://www.wikidata.org/entity/Q22669139'), ('labelsObjectsClasses', 'painting,painting,fresco')]\n",
      "[('property', 'http://www.wikidata.org/prop/direct/P103'), ('labelProperty', 'native language'), ('objectsClasses', 'http://www.wikidata.org/entity/Q1288568,http://www.wikidata.org/entity/Q34770,http://www.wikidata.org/entity/Q661936'), ('labelsObjectsClasses', 'modern language,language,pro-drop language')]\n",
      "[('property', 'http://www.wikidata.org/prop/direct/P140'), ('labelProperty', 'religion'), ('objectsClasses', 'http://www.wikidata.org/entity/Q879146'), ('labelsObjectsClasses', 'Christian denomination')]\n",
      "[('property', 'http://www.wikidata.org/prop/direct/P551'), ('labelProperty', 'residence'), ('objectsClasses', 'http://www.wikidata.org/entity/Q1549591,http://www.wikidata.org/entity/Q515,http://www.wikidata.org/entity/Q747074'), ('labelsObjectsClasses', 'big city,city,comune of Italy')]\n",
      "[('property', 'http://www.wikidata.org/prop/direct/P3373'), ('labelProperty', 'sibling'), ('objectsClasses', 'http://www.wikidata.org/entity/Q5'), ('labelsObjectsClasses', 'human')]\n",
      "[('property', 'http://www.wikidata.org/prop/direct/P20'), ('labelProperty', 'place of death'), ('objectsClasses', 'http://www.wikidata.org/entity/Q1549591,http://www.wikidata.org/entity/Q515,http://www.wikidata.org/entity/Q747074'), ('labelsObjectsClasses', 'big city,city,comune of Italy')]\n",
      "[('property', 'http://www.wikidata.org/prop/direct/P734'), ('labelProperty', 'family name'), ('objectsClasses', 'http://www.wikidata.org/entity/Q101352'), ('labelsObjectsClasses', 'family name')]\n",
      "[('property', 'http://www.wikidata.org/prop/direct/P737'), ('labelProperty', 'influenced by'), ('objectsClasses', 'http://www.wikidata.org/entity/Q5,http://www.wikidata.org/entity/Q5,http://www.wikidata.org/entity/Q5,http://www.wikidata.org/entity/Q5,http://www.wikidata.org/entity/Q5,http://www.wikidata.org/entity/Q5,http://www.wikidata.org/entity/Q5,http://www.wikidata.org/entity/Q21070568,http://www.wikidata.org/entity/Q3375719'), ('labelsObjectsClasses', 'human,human,human,human,human,human,human,human who may be fictional,conceptual character')]\n",
      "[('property', 'http://www.wikidata.org/prop/direct/P119'), ('labelProperty', 'place of burial'), ('objectsClasses', 'http://www.wikidata.org/entity/Q162875'), ('labelsObjectsClasses', 'mausoleum')]\n",
      "[('property', 'http://www.wikidata.org/prop/direct/P27'), ('labelProperty', 'country of citizenship'), ('objectsClasses', 'http://www.wikidata.org/entity/Q3024240'), ('labelsObjectsClasses', 'historical country')]\n",
      "[('property', 'http://www.wikidata.org/prop/direct/P19'), ('labelProperty', 'place of birth'), ('objectsClasses', 'http://www.wikidata.org/entity/Q1549591,http://www.wikidata.org/entity/Q515,http://www.wikidata.org/entity/Q747074'), ('labelsObjectsClasses', 'big city,city,comune of Italy')]\n",
      "[('property', 'http://www.wikidata.org/prop/direct/P31'), ('labelProperty', 'instance of'), ('objectsClasses', 'http://www.wikidata.org/entity/Q55983715'), ('labelsObjectsClasses', 'organisms known by a particular common name')]\n",
      "[('property', 'http://www.wikidata.org/prop/direct/P910'), ('labelProperty', \"topic's main category\"), ('objectsClasses', 'http://www.wikidata.org/entity/Q4167836'), ('labelsObjectsClasses', 'Wikimedia category')]\n",
      "[('property', 'http://www.wikidata.org/prop/direct/P1343'), ('labelProperty', 'described by source'), ('objectsClasses', 'http://www.wikidata.org/entity/Q186165,http://www.wikidata.org/entity/Q56165908,http://www.wikidata.org/entity/Q35127,http://www.wikidata.org/entity/Q47461344,http://www.wikidata.org/entity/Q5292,http://www.wikidata.org/entity/Q5292,http://www.wikidata.org/entity/Q5292,http://www.wikidata.org/entity/Q5292,http://www.wikidata.org/entity/Q5292,http://www.wikidata.org/entity/Q7725634,http://www.wikidata.org/entity/Q2352616,http://www.wikidata.org/entity/Q3331189,http://www.wikidata.org/entity/Q3331189,http://www.wikidata.org/entity/Q3331189,http://www.wikidata.org/entity/Q3331189,http://www.wikidata.org/entity/Q212805,http://www.wikidata.org/entity/Q975413,http://www.wikidata.org/entity/Q975413,http://www.wikidata.org/entity/Q12038942'), ('labelsObjectsClasses', 'web portal,Jewish encyclopedia,website,written work,encyclopedia,encyclopedia,encyclopedia,encyclopedia,encyclopedia,literary work,catalogue,version, edition, or translation,version, edition, or translation,version, edition, or translation,version, edition, or translation,digital library,encyclopedic dictionary,encyclopedic dictionary,multimedia database')]\n",
      "[('property', 'http://www.wikidata.org/prop/direct/P25'), ('labelProperty', 'mother'), ('objectsClasses', 'http://www.wikidata.org/entity/Q5'), ('labelsObjectsClasses', 'human')]\n",
      "[('property', 'http://www.wikidata.org/prop/direct/P437'), ('labelProperty', 'distribution format'), ('objectsClasses', 'http://www.wikidata.org/entity/Q89362829'), ('labelsObjectsClasses', 'non-music')]\n",
      "[('property', 'http://www.wikidata.org/prop/direct/P8625'), ('labelProperty', 'bibliography'), ('objectsClasses', 'http://www.wikidata.org/entity/Q1631107'), ('labelsObjectsClasses', 'bibliography')]\n",
      "[('property', 'http://www.wikidata.org/prop/direct/P101'), ('labelProperty', 'field of work'), ('objectsClasses', 'http://www.wikidata.org/entity/Q4263830,http://www.wikidata.org/entity/Q223393'), ('labelsObjectsClasses', 'literary form,literary genre')]\n",
      "[('property', 'http://www.wikidata.org/prop/direct/P40'), ('labelProperty', 'child'), ('objectsClasses', 'http://www.wikidata.org/entity/Q5,http://www.wikidata.org/entity/Q5,http://www.wikidata.org/entity/Q5'), ('labelsObjectsClasses', 'human,human,human')]\n",
      "[('property', 'http://www.wikidata.org/prop/direct/P6886'), ('labelProperty', 'writing language'), ('objectsClasses', 'http://www.wikidata.org/entity/Q1288568,http://www.wikidata.org/entity/Q34770,http://www.wikidata.org/entity/Q34770,http://www.wikidata.org/entity/Q436240,http://www.wikidata.org/entity/Q45762,http://www.wikidata.org/entity/Q839470,http://www.wikidata.org/entity/Q661936'), ('labelsObjectsClasses', 'modern language,language,language,ancient language,dead language,sacred language,pro-drop language')]\n",
      "[('property', 'http://www.wikidata.org/prop/direct/P1066'), ('labelProperty', 'student of'), ('objectsClasses', 'http://www.wikidata.org/entity/Q5,http://www.wikidata.org/entity/Q5,http://www.wikidata.org/entity/Q5'), ('labelsObjectsClasses', 'human,human,human')]\n",
      "[('property', 'http://www.wikidata.org/prop/direct/P7763'), ('labelProperty', 'copyright status as a creator'), ('objectsClasses', 'http://www.wikidata.org/entity/Q1151067,http://www.wikidata.org/entity/Q73568642'), ('labelsObjectsClasses', 'rule,copyright status of works')]\n",
      "[('property', 'http://www.wikidata.org/prop/direct/P463'), ('labelProperty', 'member of'), ('objectsClasses', 'http://www.wikidata.org/entity/Q170161'), ('labelsObjectsClasses', 'guild')]\n",
      "[('property', 'http://www.wikidata.org/prop/direct/P611'), ('labelProperty', 'religious order'), ('objectsClasses', 'http://www.wikidata.org/entity/Q28653,http://www.wikidata.org/entity/Q15893266'), ('labelsObjectsClasses', 'mendicant order,former entity')]\n",
      "[('property', 'http://www.wikidata.org/prop/direct/P53'), ('labelProperty', 'family'), ('objectsClasses', 'http://www.wikidata.org/entity/Q13417114'), ('labelsObjectsClasses', 'noble family')]\n",
      "39\n"
     ]
    }
   ],
   "source": [
    "queryString = \"\"\"\n",
    "SELECT DISTINCT ?property ?labelProperty (GROUP_CONCAT(?objectClass ; separator = \",\")  AS ?objectsClasses) (GROUP_CONCAT(?labelObjectClass ; separator = \",\")  AS ?labelsObjectsClasses)\n",
    "WHERE \n",
    "{   \n",
    "   wd:Q1067 ?property ?object .  \n",
    "   ?object wdt:P31 ?objectClass .\n",
    "   \n",
    "   # Labels\n",
    "   ?property sc:name ?labelProperty .      \n",
    "   ?objectClass sc:name ?labelObjectClass .\n",
    "   \n",
    "   FILTER(!isLiteral(?object)) .   \n",
    "}GROUP BY ?property ?labelProperty\n",
    "LIMIT 50\n",
    "\"\"\"\n",
    "print(\"Results\")\n",
    "x=run_query(queryString)"
   ]
  },
  {
   "cell_type": "markdown",
   "id": "5006ec08-bf99-4177-962e-9f0975a855bd",
   "metadata": {
    "tags": []
   },
   "source": [
    "### Get all the couples (object property - list of the  objects that are connected to \"Dante Alighieri\"  (wd:Q1067) through that object property)"
   ]
  },
  {
   "cell_type": "code",
   "execution_count": 56,
   "id": "ed2184d9-40f6-4dcc-8d7a-0956eea304dc",
   "metadata": {},
   "outputs": [
    {
     "name": "stdout",
     "output_type": "stream",
     "text": [
      "Results\n",
      "[('property', 'http://www.wikidata.org/prop/direct/P735'), ('labelProperty', 'given name'), ('objects', 'http://www.wikidata.org/entity/Q18182706'), ('labelsObjects', 'Dante')]\n",
      "[('property', 'http://www.wikidata.org/prop/direct/P135'), ('labelProperty', 'movement'), ('objects', 'http://www.wikidata.org/entity/Q542036'), ('labelsObjects', 'Dolce Stil Novo')]\n",
      "[('property', 'http://www.wikidata.org/prop/direct/P106'), ('labelProperty', 'occupation'), ('objects', 'http://www.wikidata.org/entity/Q12144794,http://www.wikidata.org/entity/Q15994177,http://www.wikidata.org/entity/Q36180,http://www.wikidata.org/entity/Q482980,http://www.wikidata.org/entity/Q4964182,http://www.wikidata.org/entity/Q49757,http://www.wikidata.org/entity/Q822146,http://www.wikidata.org/entity/Q82955,http://www.wikidata.org/entity/Q58968'), ('labelsObjects', 'prosaist,political theorist,writer,author,philosopher,poet,lyricist,politician,intellectual')]\n",
      "[('property', 'http://www.wikidata.org/prop/direct/P1196'), ('labelProperty', 'manner of death'), ('objects', 'http://www.wikidata.org/entity/Q3739104'), ('labelsObjects', 'natural causes')]\n",
      "[('property', 'http://www.wikidata.org/prop/direct/P21'), ('labelProperty', 'sex or gender'), ('objects', 'http://www.wikidata.org/entity/Q6581097'), ('labelsObjects', 'male')]\n",
      "[('property', 'http://www.wikidata.org/prop/direct/P5008'), ('labelProperty', 'on focus list of Wikimedia project'), ('objects', 'http://www.wikidata.org/entity/Q5460604'), ('labelsObjects', 'Wikipedia:Vital articles')]\n",
      "[('property', 'http://www.wikidata.org/prop/direct/P172'), ('labelProperty', 'ethnic group'), ('objects', 'http://www.wikidata.org/entity/Q50001'), ('labelsObjects', 'Italians')]\n",
      "[('property', 'http://www.wikidata.org/prop/direct/P6379'), ('labelProperty', 'has works in the collection'), ('objects', 'http://www.wikidata.org/entity/Q1700481,http://www.wikidata.org/entity/Q214867'), ('labelsObjects', 'Minneapolis Institute of Art,National Gallery of Art')]\n",
      "[('property', 'http://www.wikidata.org/prop/direct/P1412'), ('labelProperty', 'languages spoken, written or signed'), ('objects', 'http://www.wikidata.org/entity/Q397,http://www.wikidata.org/entity/Q652'), ('labelsObjects', 'Latin,Italian')]\n",
      "[('property', 'http://www.wikidata.org/prop/direct/P800'), ('labelProperty', 'notable work'), ('objects', 'http://www.wikidata.org/entity/Q18084,http://www.wikidata.org/entity/Q40185,http://www.wikidata.org/entity/Q134221,http://www.wikidata.org/entity/Q18081,http://www.wikidata.org/entity/Q666014'), ('labelsObjects', 'Vita Nuova,The Divine Comedy,De Monarchia,De vulgari eloquentia,Convivio')]\n",
      "[('property', 'http://www.wikidata.org/prop/direct/P26'), ('labelProperty', 'spouse'), ('objects', 'http://www.wikidata.org/entity/Q3759380'), ('labelsObjects', 'Gemma Donati')]\n",
      "[('property', 'http://www.wikidata.org/prop/direct/P509'), ('labelProperty', 'cause of death'), ('objects', 'http://www.wikidata.org/entity/Q12156'), ('labelsObjects', 'malaria')]\n",
      "[('property', 'http://www.wikidata.org/prop/direct/P607'), ('labelProperty', 'conflict'), ('objects', 'http://www.wikidata.org/entity/Q2888241'), ('labelsObjects', 'Battle of Campaldino')]\n",
      "[('property', 'http://www.wikidata.org/prop/direct/P1299'), ('labelProperty', 'depicted by'), ('objects', 'http://www.wikidata.org/entity/Q28497200,http://www.wikidata.org/entity/Q61748797,http://www.wikidata.org/entity/Q104560265'), ('labelsObjects', 'Portrait of Dante,Portrait of Dante Alighieri,Dante Alighieri presenting Giotto to Guido da Polenta')]\n",
      "[('property', 'http://www.wikidata.org/prop/direct/P22'), ('labelProperty', 'father'), ('objects', 'http://www.wikidata.org/entity/Q3611787'), ('labelsObjects', 'Alighiero di Bellincione')]\n",
      "[('property', 'http://www.wikidata.org/prop/direct/P103'), ('labelProperty', 'native language'), ('objects', 'http://www.wikidata.org/entity/Q652'), ('labelsObjects', 'Italian')]\n",
      "[('property', 'http://www.wikidata.org/prop/direct/P140'), ('labelProperty', 'religion'), ('objects', 'http://www.wikidata.org/entity/Q1841'), ('labelsObjects', 'Catholicism')]\n",
      "[('property', 'http://www.wikidata.org/prop/direct/P551'), ('labelProperty', 'residence'), ('objects', 'http://www.wikidata.org/entity/Q2044'), ('labelsObjects', 'Florence')]\n",
      "[('property', 'http://www.wikidata.org/prop/direct/P3373'), ('labelProperty', 'sibling'), ('objects', 'http://www.wikidata.org/entity/Q3749520'), ('labelsObjects', 'Francesco Alighieri')]\n",
      "[('property', 'http://www.wikidata.org/prop/direct/P20'), ('labelProperty', 'place of death'), ('objects', 'http://www.wikidata.org/entity/Q13364'), ('labelsObjects', 'Ravenna')]\n",
      "[('property', 'http://www.wikidata.org/prop/direct/P734'), ('labelProperty', 'family name'), ('objects', 'http://www.wikidata.org/entity/Q15782426'), ('labelsObjects', 'Alighieri')]\n",
      "[('property', 'http://www.wikidata.org/prop/direct/P737'), ('labelProperty', 'influenced by'), ('objects', 'http://www.wikidata.org/entity/Q1398,http://www.wikidata.org/entity/Q9438,http://www.wikidata.org/entity/Q102851,http://www.wikidata.org/entity/Q34943,http://www.wikidata.org/entity/Q6691,http://www.wikidata.org/entity/Q7198,http://www.wikidata.org/entity/Q868'), ('labelsObjects', 'Virgil,Thomas Aquinas,Boethius,Ptolemy,Homer,Ovid,Aristotle')]\n",
      "[('property', 'http://www.wikidata.org/prop/direct/P119'), ('labelProperty', 'place of burial'), ('objects', 'http://www.wikidata.org/entity/Q1138006'), ('labelsObjects', \"Dante Alighieri's tomb\")]\n",
      "[('property', 'http://www.wikidata.org/prop/direct/P27'), ('labelProperty', 'country of citizenship'), ('objects', 'http://www.wikidata.org/entity/Q148540'), ('labelsObjects', 'Republic of Florence')]\n",
      "[('property', 'http://www.wikidata.org/prop/direct/P19'), ('labelProperty', 'place of birth'), ('objects', 'http://www.wikidata.org/entity/Q2044'), ('labelsObjects', 'Florence')]\n",
      "[('property', 'http://www.wikidata.org/prop/direct/P31'), ('labelProperty', 'instance of'), ('objects', 'http://www.wikidata.org/entity/Q5'), ('labelsObjects', 'human')]\n",
      "[('property', 'http://www.wikidata.org/prop/direct/P910'), ('labelProperty', \"topic's main category\"), ('objects', 'http://www.wikidata.org/entity/Q8363115'), ('labelsObjects', 'Category:Dante Alighieri')]\n",
      "[('property', 'http://www.wikidata.org/prop/direct/P1343'), ('labelProperty', 'described by source'), ('objects', 'http://www.wikidata.org/entity/Q19180675,http://www.wikidata.org/entity/Q20078554,http://www.wikidata.org/entity/Q2041543,http://www.wikidata.org/entity/Q20743760,http://www.wikidata.org/entity/Q302556,http://www.wikidata.org/entity/Q3181656,http://www.wikidata.org/entity/Q4173137,http://www.wikidata.org/entity/Q51955019,http://www.wikidata.org/entity/Q602358,http://www.wikidata.org/entity/Q67311526,http://www.wikidata.org/entity/Q867541,http://www.wikidata.org/entity/Q5375442'), ('labelsObjects', 'Small Brockhaus and Efron Encyclopedic Dictionary,Great Soviet Encyclopedia (1926–1947),Ottův slovník naučný,Encyclopedia of Political Theory (2010 ed.),Catholic Encyclopedia,The Nuttall Encyclopædia,Jewish Encyclopedia of Brockhaus and Efron,BEIC Digital Library,Brockhaus and Efron Encyclopedic Dictionary,Obalky knih.cz,Encyclopædia Britannica 11th edition,Enciclopedia Dantesca')]\n",
      "[('property', 'http://www.wikidata.org/prop/direct/P25'), ('labelProperty', 'mother'), ('objects', 'http://www.wikidata.org/entity/Q3637724'), ('labelsObjects', 'Bella degli Abati')]\n",
      "[('property', 'http://www.wikidata.org/prop/direct/P437'), ('labelProperty', 'distribution format'), ('objects', 'http://www.wikidata.org/entity/Q24633474'), ('labelsObjects', 'audio podcast')]\n",
      "[('property', 'http://www.wikidata.org/prop/direct/P8625'), ('labelProperty', 'bibliography'), ('objects', 'http://www.wikidata.org/entity/Q3639515'), ('labelsObjects', 'bibliography on Dante Alighieri')]\n",
      "[('property', 'http://www.wikidata.org/prop/direct/P101'), ('labelProperty', 'field of work'), ('objects', 'http://www.wikidata.org/entity/Q482'), ('labelsObjects', 'poetry')]\n",
      "[('property', 'http://www.wikidata.org/prop/direct/P40'), ('labelProperty', 'child'), ('objects', 'http://www.wikidata.org/entity/Q1161153,http://www.wikidata.org/entity/Q15533953,http://www.wikidata.org/entity/Q3903630'), ('labelsObjects', 'Jacopo Alighieri,Antonia Alighieri,Pietro Alighieri')]\n",
      "[('property', 'http://www.wikidata.org/prop/direct/P6886'), ('labelProperty', 'writing language'), ('objects', 'http://www.wikidata.org/entity/Q397,http://www.wikidata.org/entity/Q652'), ('labelsObjects', 'Latin,Italian')]\n",
      "[('property', 'http://www.wikidata.org/prop/direct/P1066'), ('labelProperty', 'student of'), ('objects', 'http://www.wikidata.org/entity/Q728592,http://www.wikidata.org/entity/Q366328,http://www.wikidata.org/entity/Q1636083'), ('labelsObjects', \"Cecco d'Ascoli,Brunetto Latini,Remigio dei Girolami\")]\n",
      "[('property', 'http://www.wikidata.org/prop/direct/P7763'), ('labelProperty', 'copyright status as a creator'), ('objects', 'http://www.wikidata.org/entity/Q71887839'), ('labelsObjects', 'copyrights on works have expired')]\n",
      "[('property', 'http://www.wikidata.org/prop/direct/P463'), ('labelProperty', 'member of'), ('objects', 'http://www.wikidata.org/entity/Q526004'), ('labelsObjects', 'Arte dei Medici e Speziali')]\n",
      "[('property', 'http://www.wikidata.org/prop/direct/P611'), ('labelProperty', 'religious order'), ('objects', 'http://www.wikidata.org/entity/Q165005'), ('labelsObjects', 'Franciscans')]\n",
      "[('property', 'http://www.wikidata.org/prop/direct/P53'), ('labelProperty', 'family'), ('objects', 'http://www.wikidata.org/entity/Q3611786'), ('labelsObjects', 'Alighieri')]\n",
      "39\n"
     ]
    }
   ],
   "source": [
    "queryString = \"\"\"\n",
    "SELECT DISTINCT ?property ?labelProperty (GROUP_CONCAT(?object ; separator = \",\")  AS ?objects) (GROUP_CONCAT(?labelObject; separator = \",\")  AS ?labelsObjects)\n",
    "WHERE \n",
    "{   \n",
    "   wd:Q1067 ?property ?object .  \n",
    " \n",
    "   # Labels\n",
    "   ?property sc:name ?labelProperty .      \n",
    "   ?object sc:name ?labelObject\n",
    "   \n",
    "   FILTER(!isLiteral(?object)) .   \n",
    "}GROUP BY ?property ?labelProperty\n",
    "LIMIT 50\n",
    "\"\"\"\n",
    "print(\"Results\")\n",
    "x=run_query(queryString)"
   ]
  },
  {
   "cell_type": "markdown",
   "id": "79380f73-89a1-4858-8613-dc1fbffcba06",
   "metadata": {
    "tags": []
   },
   "source": [
    "### Final Query"
   ]
  },
  {
   "cell_type": "markdown",
   "id": "19fe0e0d",
   "metadata": {},
   "source": [
    "Final query for this task"
   ]
  },
  {
   "cell_type": "code",
   "execution_count": 31,
   "id": "b165d0cd-bd2e-412e-870a-d636e9260bd3",
   "metadata": {},
   "outputs": [
    {
     "name": "stdout",
     "output_type": "stream",
     "text": [
      "Results\n",
      "[('occupation', 'http://www.wikidata.org/entity/Q12144794'), ('label', 'prosaist')]\n",
      "[('occupation', 'http://www.wikidata.org/entity/Q15994177'), ('label', 'political theorist')]\n",
      "[('occupation', 'http://www.wikidata.org/entity/Q36180'), ('label', 'writer')]\n",
      "[('occupation', 'http://www.wikidata.org/entity/Q482980'), ('label', 'author')]\n",
      "[('occupation', 'http://www.wikidata.org/entity/Q4964182'), ('label', 'philosopher')]\n",
      "[('occupation', 'http://www.wikidata.org/entity/Q49757'), ('label', 'poet')]\n",
      "[('occupation', 'http://www.wikidata.org/entity/Q822146'), ('label', 'lyricist')]\n",
      "[('occupation', 'http://www.wikidata.org/entity/Q82955'), ('label', 'politician')]\n",
      "[('occupation', 'http://www.wikidata.org/entity/Q58968'), ('label', 'intellectual')]\n",
      "9\n"
     ]
    }
   ],
   "source": [
    "queryString = \"\"\"\n",
    "SELECT DISTINCT ?occupation ?label\n",
    "WHERE {   \n",
    "   wd:Q1067 wdt:P106 ?occupation .\n",
    "   ?occupation sc:name ?label .\n",
    "}\n",
    "\"\"\"\n",
    "print(\"Results\")\n",
    "x=run_query(queryString)"
   ]
  },
  {
   "cell_type": "markdown",
   "id": "9cd58e05",
   "metadata": {},
   "source": [
    "## Task 3\n",
    "Identify the BGP for literary movement"
   ]
  },
  {
   "cell_type": "markdown",
   "id": "65116c90-0f30-440a-aad8-5c46f9a2351c",
   "metadata": {
    "tags": []
   },
   "source": [
    "### Get all data property of \"poet\" (wd:Q49757)"
   ]
  },
  {
   "cell_type": "code",
   "execution_count": 32,
   "id": "77b92b90-b579-49d5-a0c7-4abdf73587f4",
   "metadata": {},
   "outputs": [
    {
     "name": "stdout",
     "output_type": "stream",
     "text": [
      "Results\n",
      "[('property', 'http://www.wikidata.org/prop/direct/P1014'), ('label', 'Art & Architecture Thesaurus ID')]\n",
      "[('property', 'http://www.wikidata.org/prop/direct/P1296'), ('label', 'Gran Enciclopèdia Catalana ID')]\n",
      "[('property', 'http://www.wikidata.org/prop/direct/P227'), ('label', 'GND ID')]\n",
      "[('property', 'http://www.wikidata.org/prop/direct/P244'), ('label', 'Library of Congress authority ID')]\n",
      "[('property', 'http://www.wikidata.org/prop/direct/P2581'), ('label', 'BabelNet ID')]\n",
      "[('property', 'http://www.wikidata.org/prop/direct/P268'), ('label', 'Bibliothèque nationale de France ID')]\n",
      "[('property', 'http://www.wikidata.org/prop/direct/P3417'), ('label', 'Quora topic ID')]\n",
      "[('property', 'http://www.wikidata.org/prop/direct/P349'), ('label', 'National Diet Library ID')]\n",
      "[('property', 'http://www.wikidata.org/prop/direct/P3553'), ('label', 'Zhihu topic ID')]\n",
      "[('property', 'http://www.wikidata.org/prop/direct/P373'), ('label', 'Commons category')]\n",
      "[('property', 'http://www.wikidata.org/prop/direct/P3916'), ('label', 'UNESCO Thesaurus ID')]\n",
      "[('property', 'http://www.wikidata.org/prop/direct/P4212'), ('label', 'PACTOLS thesaurus ID')]\n",
      "[('property', 'http://www.wikidata.org/prop/direct/P508'), ('label', 'BNCF Thesaurus ID')]\n",
      "[('property', 'http://www.wikidata.org/prop/direct/P5160'), ('label', 'Thesaurus for Graphic Materials ID')]\n",
      "[('property', 'http://www.wikidata.org/prop/direct/P6262'), ('label', 'Fandom article ID')]\n",
      "[('property', 'http://www.wikidata.org/prop/direct/P646'), ('label', 'Freebase ID')]\n",
      "[('property', 'http://www.wikidata.org/prop/direct/P7033'), ('label', 'Australian Educational Vocabulary ID')]\n",
      "[('property', 'http://www.wikidata.org/prop/direct/P8408'), ('label', 'KBpedia ID')]\n",
      "[('property', 'http://www.wikidata.org/prop/direct/P8519'), ('label', 'RKD thesaurus ID')]\n",
      "[('property', 'http://www.wikidata.org/prop/direct/P8814'), ('label', 'WordNet 3.1 Synset ID')]\n",
      "[('property', 'http://www.wikidata.org/prop/direct/P950'), ('label', 'Biblioteca Nacional de España ID')]\n",
      "[('property', 'http://www.wikidata.org/prop/direct/P867'), ('label', 'ROME Occupation Code (v3)')]\n",
      "22\n"
     ]
    }
   ],
   "source": [
    "queryString = \"\"\"\n",
    "SELECT DISTINCT ?property ?label\n",
    "WHERE {   \n",
    "   wd:Q49757 ?property ?object .\n",
    "   ?property sc:name ?label .\n",
    "   FILTER(isLiteral(?object)) .   \n",
    "}\n",
    "\"\"\"\n",
    "\n",
    "print(\"Results\")\n",
    "x=run_query(queryString)"
   ]
  },
  {
   "cell_type": "markdown",
   "id": "d36f265e-3882-44a4-a7df-0bff17087abe",
   "metadata": {
    "tags": []
   },
   "source": [
    "### Get all data property of \"poet\" (wd:Q49757) that do not contain ID"
   ]
  },
  {
   "cell_type": "code",
   "execution_count": 33,
   "id": "6928d1dc-1b55-4d0e-84df-cf0300c03798",
   "metadata": {},
   "outputs": [
    {
     "name": "stdout",
     "output_type": "stream",
     "text": [
      "Results\n",
      "[('property', 'http://www.wikidata.org/prop/direct/P373'), ('label', 'Commons category')]\n",
      "[('property', 'http://www.wikidata.org/prop/direct/P867'), ('label', 'ROME Occupation Code (v3)')]\n",
      "2\n"
     ]
    }
   ],
   "source": [
    "queryString = \"\"\"\n",
    "SELECT DISTINCT ?property ?label\n",
    "WHERE {   \n",
    "   wd:Q49757 ?property ?object .\n",
    "   ?property sc:name ?label .\n",
    "   FILTER(isLiteral(?object)) .\n",
    "   FILTER REGEX(?label, \"^((?!ID).)*$\") . \n",
    "}\n",
    "\"\"\"\n",
    "\n",
    "print(\"Results\")\n",
    "x=run_query(queryString)"
   ]
  },
  {
   "cell_type": "markdown",
   "id": "f760ffff-a5a5-4732-a0b8-1f133e532818",
   "metadata": {
    "tags": []
   },
   "source": [
    "### Get the class of \"poet\" (wd:Q49757)"
   ]
  },
  {
   "cell_type": "code",
   "execution_count": 17,
   "id": "3fa49475-b82b-4215-8dd3-e01a516a0d0b",
   "metadata": {},
   "outputs": [
    {
     "name": "stdout",
     "output_type": "stream",
     "text": [
      "Results\n",
      "[('class', 'http://www.wikidata.org/entity/Q28640'), ('label', 'profession')]\n",
      "1\n"
     ]
    }
   ],
   "source": [
    "queryString = \"\"\"\n",
    "SELECT DISTINCT ?class ?label\n",
    "WHERE {   \n",
    "   wd:Q49757 wdt:P31 ?class .\n",
    "   ?class sc:name ?label .     \n",
    "}\n",
    "\"\"\"\n",
    "print(\"Results\")\n",
    "x=run_query(queryString)"
   ]
  },
  {
   "cell_type": "markdown",
   "id": "764f13b7-67e2-4fb2-9733-98a593c7f926",
   "metadata": {
    "tags": []
   },
   "source": [
    "### Get all object properties of \"poet\" (wd:Q49757)"
   ]
  },
  {
   "cell_type": "code",
   "execution_count": 34,
   "id": "638da454-7359-4e23-bb74-65dfb9448a76",
   "metadata": {},
   "outputs": [
    {
     "name": "stdout",
     "output_type": "stream",
     "text": [
      "Results\n",
      "[('property', 'http://www.wikidata.org/prop/direct/P1343'), ('label', 'described by source')]\n",
      "[('property', 'http://www.wikidata.org/prop/direct/P1709'), ('label', 'equivalent class')]\n",
      "[('property', 'http://www.wikidata.org/prop/direct/P1889'), ('label', 'different from')]\n",
      "[('property', 'http://www.wikidata.org/prop/direct/P1963'), ('label', 'properties for this type')]\n",
      "[('property', 'http://www.wikidata.org/prop/direct/P279'), ('label', 'subclass of')]\n",
      "[('property', 'http://www.wikidata.org/prop/direct/P31'), ('label', 'instance of')]\n",
      "[('property', 'http://www.wikidata.org/prop/direct/P425'), ('label', 'field of this occupation')]\n",
      "[('property', 'http://www.wikidata.org/prop/direct/P460'), ('label', 'said to be the same as')]\n",
      "[('property', 'http://www.wikidata.org/prop/direct/P6186'), ('label', 'category for eponymous categories')]\n",
      "[('property', 'http://www.wikidata.org/prop/direct/P910'), ('label', \"topic's main category\")]\n",
      "10\n"
     ]
    }
   ],
   "source": [
    "queryString = \"\"\"\n",
    "SELECT DISTINCT ?property ?label\n",
    "WHERE {   \n",
    "   wd:Q49757 ?property ?object .\n",
    "   ?property sc:name ?label .\n",
    "   FILTER(!isLiteral(?object)) .   \n",
    "}\n",
    "\"\"\"\n",
    "\n",
    "print(\"Results\")\n",
    "x=run_query(queryString)"
   ]
  },
  {
   "cell_type": "markdown",
   "id": "c419872f-9d1b-418a-ae1b-f14337efd11a",
   "metadata": {
    "tags": []
   },
   "source": [
    "### Get all the classes connected to \"poet\" (wd:Q49757)"
   ]
  },
  {
   "cell_type": "code",
   "execution_count": 4,
   "id": "d0baca36-7a6d-4e5e-a4a7-67e576416b30",
   "metadata": {},
   "outputs": [
    {
     "name": "stdout",
     "output_type": "stream",
     "text": [
      "Results\n",
      "[('objectClass', 'http://www.wikidata.org/entity/Q12737077'), ('label', 'occupation')]\n",
      "[('objectClass', 'http://www.wikidata.org/entity/Q28640'), ('label', 'profession')]\n",
      "[('objectClass', 'http://www.wikidata.org/entity/Q30432511'), ('label', 'metacategory in Wikimedia projects')]\n",
      "[('objectClass', 'http://www.wikidata.org/entity/Q4164871'), ('label', 'position')]\n",
      "[('objectClass', 'http://www.wikidata.org/entity/Q4167836'), ('label', 'Wikimedia category')]\n",
      "[('objectClass', 'http://www.wikidata.org/entity/Q4263830'), ('label', 'literary form')]\n",
      "[('objectClass', 'http://www.wikidata.org/entity/Q7094076'), ('label', 'online database')]\n",
      "[('objectClass', 'http://www.wikidata.org/entity/Q223393'), ('label', 'literary genre')]\n",
      "[('objectClass', 'http://www.wikidata.org/entity/Q24017414'), ('label', 'second-order class')]\n",
      "[('objectClass', 'http://www.wikidata.org/entity/Q1469824'), ('label', 'controlled vocabulary')]\n",
      "[('objectClass', 'http://www.wikidata.org/entity/Q5185279'), ('label', 'poem')]\n",
      "[('objectClass', 'http://www.wikidata.org/entity/Q19361238'), ('label', 'Wikidata metaclass')]\n",
      "[('objectClass', 'http://www.wikidata.org/entity/Q17152639'), ('label', 'thesaurus')]\n",
      "[('objectClass', 'http://www.wikidata.org/entity/Q62589316'), ('label', 'Wikidata property for an identifier that suggests notability')]\n",
      "[('objectClass', 'http://www.wikidata.org/entity/Q19595382'), ('label', 'Wikidata property for authority control for people')]\n",
      "[('objectClass', 'http://www.wikidata.org/entity/Q55650689'), ('label', 'Wikidata property for authority control for writers')]\n",
      "[('objectClass', 'http://www.wikidata.org/entity/Q55116891'), ('label', 'Wikidata property related to poetry')]\n",
      "17\n"
     ]
    }
   ],
   "source": [
    "queryString = \"\"\"\n",
    "SELECT DISTINCT ?objectClass ?label\n",
    "WHERE {   \n",
    "   wd:Q49757 ?property ?object .\n",
    "   ?object wdt:P31 ?objectClass .\n",
    "   ?objectClass sc:name ?label .\n",
    "   FILTER(!isLiteral(?object)) .   \n",
    "}\n",
    "\"\"\"\n",
    "print(\"Results\")\n",
    "x=run_query(queryString)"
   ]
  },
  {
   "cell_type": "markdown",
   "id": "5c23bd2c-227b-44a2-9e38-197974eb7ced",
   "metadata": {
    "tags": []
   },
   "source": [
    "### Get all the couples (object property - list of the classes of the objects that are connected to \"poet\" (wd:Q49757) through that object property)"
   ]
  },
  {
   "cell_type": "code",
   "execution_count": 6,
   "id": "0e26008b-eff5-4a33-9850-03e9f6586827",
   "metadata": {},
   "outputs": [
    {
     "name": "stdout",
     "output_type": "stream",
     "text": [
      "Results\n",
      "[('property', 'http://www.wikidata.org/prop/direct/P6186'), ('labelProperty', 'category for eponymous categories'), ('objectsClasses', 'http://www.wikidata.org/entity/Q30432511'), ('labelsObjectsClasses', 'metacategory in Wikimedia projects')]\n",
      "[('property', 'http://www.wikidata.org/prop/direct/P425'), ('labelProperty', 'field of this occupation'), ('objectsClasses', 'http://www.wikidata.org/entity/Q4263830,http://www.wikidata.org/entity/Q223393'), ('labelsObjectsClasses', 'literary form,literary genre')]\n",
      "[('property', 'http://www.wikidata.org/prop/direct/P460'), ('labelProperty', 'said to be the same as'), ('objectsClasses', 'http://www.wikidata.org/entity/Q28640'), ('labelsObjectsClasses', 'profession')]\n",
      "[('property', 'http://www.wikidata.org/prop/direct/P1889'), ('labelProperty', 'different from'), ('objectsClasses', 'http://www.wikidata.org/entity/Q5185279'), ('labelsObjectsClasses', 'poem')]\n",
      "[('property', 'http://www.wikidata.org/prop/direct/P1963'), ('labelProperty', 'properties for this type'), ('objectsClasses', 'http://www.wikidata.org/entity/Q62589316,http://www.wikidata.org/entity/Q62589316,http://www.wikidata.org/entity/Q62589316,http://www.wikidata.org/entity/Q62589316,http://www.wikidata.org/entity/Q62589316,http://www.wikidata.org/entity/Q62589316,http://www.wikidata.org/entity/Q62589316,http://www.wikidata.org/entity/Q62589316,http://www.wikidata.org/entity/Q19595382,http://www.wikidata.org/entity/Q19595382,http://www.wikidata.org/entity/Q55650689,http://www.wikidata.org/entity/Q55650689,http://www.wikidata.org/entity/Q55650689,http://www.wikidata.org/entity/Q55650689,http://www.wikidata.org/entity/Q55650689,http://www.wikidata.org/entity/Q55650689,http://www.wikidata.org/entity/Q55650689,http://www.wikidata.org/entity/Q55650689,http://www.wikidata.org/entity/Q55650689,http://www.wikidata.org/entity/Q55650689,http://www.wikidata.org/entity/Q55650689,http://www.wikidata.org/entity/Q55650689,http://www.wikidata.org/entity/Q55650689,http://www.wikidata.org/entity/Q55650689,http://www.wikidata.org/entity/Q55116891,http://www.wikidata.org/entity/Q55116891,http://www.wikidata.org/entity/Q55116891,http://www.wikidata.org/entity/Q55116891,http://www.wikidata.org/entity/Q55116891,http://www.wikidata.org/entity/Q55116891,http://www.wikidata.org/entity/Q55116891,http://www.wikidata.org/entity/Q55116891,http://www.wikidata.org/entity/Q55116891,http://www.wikidata.org/entity/Q55116891,http://www.wikidata.org/entity/Q55116891,http://www.wikidata.org/entity/Q55116891,http://www.wikidata.org/entity/Q55116891,http://www.wikidata.org/entity/Q55116891,http://www.wikidata.org/entity/Q55116891,http://www.wikidata.org/entity/Q55116891'), ('labelsObjectsClasses', 'Wikidata property for an identifier that suggests notability,Wikidata property for an identifier that suggests notability,Wikidata property for an identifier that suggests notability,Wikidata property for an identifier that suggests notability,Wikidata property for an identifier that suggests notability,Wikidata property for an identifier that suggests notability,Wikidata property for an identifier that suggests notability,Wikidata property for an identifier that suggests notability,Wikidata property for authority control for people,Wikidata property for authority control for people,Wikidata property for authority control for writers,Wikidata property for authority control for writers,Wikidata property for authority control for writers,Wikidata property for authority control for writers,Wikidata property for authority control for writers,Wikidata property for authority control for writers,Wikidata property for authority control for writers,Wikidata property for authority control for writers,Wikidata property for authority control for writers,Wikidata property for authority control for writers,Wikidata property for authority control for writers,Wikidata property for authority control for writers,Wikidata property for authority control for writers,Wikidata property for authority control for writers,Wikidata property related to poetry,Wikidata property related to poetry,Wikidata property related to poetry,Wikidata property related to poetry,Wikidata property related to poetry,Wikidata property related to poetry,Wikidata property related to poetry,Wikidata property related to poetry,Wikidata property related to poetry,Wikidata property related to poetry,Wikidata property related to poetry,Wikidata property related to poetry,Wikidata property related to poetry,Wikidata property related to poetry,Wikidata property related to poetry,Wikidata property related to poetry')]\n",
      "[('property', 'http://www.wikidata.org/prop/direct/P31'), ('labelProperty', 'instance of'), ('objectsClasses', 'http://www.wikidata.org/entity/Q24017414,http://www.wikidata.org/entity/Q19361238'), ('labelsObjectsClasses', 'second-order class,Wikidata metaclass')]\n",
      "[('property', 'http://www.wikidata.org/prop/direct/P910'), ('labelProperty', \"topic's main category\"), ('objectsClasses', 'http://www.wikidata.org/entity/Q4167836'), ('labelsObjectsClasses', 'Wikimedia category')]\n",
      "[('property', 'http://www.wikidata.org/prop/direct/P1343'), ('labelProperty', 'described by source'), ('objectsClasses', 'http://www.wikidata.org/entity/Q7094076,http://www.wikidata.org/entity/Q1469824,http://www.wikidata.org/entity/Q17152639'), ('labelsObjectsClasses', 'online database,controlled vocabulary,thesaurus')]\n",
      "[('property', 'http://www.wikidata.org/prop/direct/P279'), ('labelProperty', 'subclass of'), ('objectsClasses', 'http://www.wikidata.org/entity/Q12737077,http://www.wikidata.org/entity/Q28640,http://www.wikidata.org/entity/Q4164871'), ('labelsObjectsClasses', 'occupation,profession,position')]\n",
      "9\n"
     ]
    }
   ],
   "source": [
    "queryString = \"\"\"\n",
    "SELECT DISTINCT ?property ?labelProperty (GROUP_CONCAT(?objectClass ; separator = \",\")  AS ?objectsClasses) (GROUP_CONCAT(?labelObjectClass ; separator = \",\")  AS ?labelsObjectsClasses)\n",
    "WHERE \n",
    "{   \n",
    "   wd:Q49757 ?property ?object .  \n",
    "   ?object wdt:P31 ?objectClass .\n",
    "   \n",
    "   # Labels\n",
    "   ?property sc:name ?labelProperty .      \n",
    "   ?objectClass sc:name ?labelObjectClass .\n",
    "   \n",
    "   FILTER(!isLiteral(?object)) .   \n",
    "}GROUP BY ?property ?labelProperty\n",
    "LIMIT 50\n",
    "\"\"\"\n",
    "print(\"Results\")\n",
    "x=run_query(queryString)"
   ]
  },
  {
   "cell_type": "markdown",
   "id": "d0766158-f943-4f7b-8002-6380abbd85f9",
   "metadata": {
    "tags": []
   },
   "source": [
    "### Get all the couples (object property - list of the  objects that are connected to \"poet\" (wd:Q49757) through that object property)"
   ]
  },
  {
   "cell_type": "code",
   "execution_count": 57,
   "id": "24234817-ec97-472f-8903-1241647b35ec",
   "metadata": {},
   "outputs": [
    {
     "name": "stdout",
     "output_type": "stream",
     "text": [
      "Results\n",
      "[('property', 'http://www.wikidata.org/prop/direct/P6186'), ('labelProperty', 'category for eponymous categories'), ('objects', 'http://www.wikidata.org/entity/Q9579555'), ('labelsObjects', 'Category:Wikipedia categories named after poets')]\n",
      "[('property', 'http://www.wikidata.org/prop/direct/P425'), ('labelProperty', 'field of this occupation'), ('objects', 'http://www.wikidata.org/entity/Q482'), ('labelsObjects', 'poetry')]\n",
      "[('property', 'http://www.wikidata.org/prop/direct/P460'), ('labelProperty', 'said to be the same as'), ('objects', 'http://www.wikidata.org/entity/Q1293108'), ('labelsObjects', 'Dichter')]\n",
      "[('property', 'http://www.wikidata.org/prop/direct/P1963'), ('labelProperty', 'properties for this type'), ('objects', 'http://www.wikidata.org/entity/P5509,http://www.wikidata.org/entity/P5477,http://www.wikidata.org/entity/P5506,http://www.wikidata.org/entity/P5710,http://www.wikidata.org/entity/P5430,http://www.wikidata.org/entity/P5343,http://www.wikidata.org/entity/P5609,http://www.wikidata.org/entity/P5503,http://www.wikidata.org/entity/P5344,http://www.wikidata.org/entity/P5393,http://www.wikidata.org/entity/P5394,http://www.wikidata.org/entity/P5465,http://www.wikidata.org/entity/P5341,http://www.wikidata.org/entity/P5392,http://www.wikidata.org/entity/P5470,http://www.wikidata.org/entity/P5478'), ('labelsObjects', 'MAPS poet ID,Les Voix de la poésie poet ID,Poetry In Voice poet ID,Recours au poème ID,Poetry International Web poet ID,Poets.org poet ID,Split This Rock poet ID,Poetry Society of America poet ID,Printemps des poètes poet ID,cipM poet ID,Poets & Writers author ID,Australian Poetry Library poet ID,Poetry Foundation ID,Poetry Archive poet ID,Scottish Poetry Library poet ID,RPO poet ID')]\n",
      "[('property', 'http://www.wikidata.org/prop/direct/P31'), ('labelProperty', 'instance of'), ('objects', 'http://www.wikidata.org/entity/Q28640'), ('labelsObjects', 'profession')]\n",
      "[('property', 'http://www.wikidata.org/prop/direct/P910'), ('labelProperty', \"topic's main category\"), ('objects', 'http://www.wikidata.org/entity/Q6487149'), ('labelsObjects', 'Category:Poets')]\n",
      "[('property', 'http://www.wikidata.org/prop/direct/P1343'), ('labelProperty', 'described by source'), ('objects', 'http://www.wikidata.org/entity/Q106727050'), ('labelsObjects', 'Metropolitan Museum of Art Tagging Vocabulary')]\n",
      "[('property', 'http://www.wikidata.org/prop/direct/P279'), ('labelProperty', 'subclass of'), ('objects', 'http://www.wikidata.org/entity/Q36180'), ('labelsObjects', 'writer')]\n",
      "8\n"
     ]
    }
   ],
   "source": [
    "queryString = \"\"\"\n",
    "SELECT DISTINCT ?property ?labelProperty (GROUP_CONCAT(?object ; separator = \",\")  AS ?objects) (GROUP_CONCAT(?labelObject; separator = \",\")  AS ?labelsObjects)\n",
    "WHERE \n",
    "{   \n",
    "   wd:Q49757 ?property ?object .  \n",
    " \n",
    "   # Labels\n",
    "   ?property sc:name ?labelProperty .      \n",
    "   ?object sc:name ?labelObject\n",
    "   \n",
    "   FILTER(!isLiteral(?object)) .   \n",
    "}GROUP BY ?property ?labelProperty\n",
    "LIMIT 50\n",
    "\"\"\"\n",
    "print(\"Results\")\n",
    "x=run_query(queryString)"
   ]
  },
  {
   "cell_type": "markdown",
   "id": "9ede8210-e1d7-4880-bb02-cc21c6f89458",
   "metadata": {
    "tags": []
   },
   "source": [
    "### Final Query"
   ]
  },
  {
   "cell_type": "markdown",
   "id": "4efec1d3",
   "metadata": {},
   "source": [
    "Final query for this task"
   ]
  },
  {
   "cell_type": "code",
   "execution_count": 58,
   "id": "d8dc120e-316a-4365-833c-544b98e32f00",
   "metadata": {},
   "outputs": [
    {
     "name": "stdout",
     "output_type": "stream",
     "text": [
      "Results\n",
      "[('objectClass', 'http://www.wikidata.org/entity/Q3326717'), ('labelobjectClass', 'literary movement')]\n",
      "1\n"
     ]
    }
   ],
   "source": [
    "queryString = \"\"\"\n",
    "SELECT DISTINCT ?objectClass ?labelobjectClass\n",
    "WHERE {   \n",
    "   wd:Q1067 wdt:P135 ?object .\n",
    "   ?object wdt:P31 ?objectClass .\n",
    "   ?objectClass sc:name ?labelobjectClass .\n",
    "}LIMIT 50\n",
    "\"\"\"\n",
    "print(\"Results\")\n",
    "x=run_query(queryString)"
   ]
  },
  {
   "cell_type": "markdown",
   "id": "c851cca8",
   "metadata": {},
   "source": [
    "## Task 4\n",
    "Return the poets born in the same place of the author of The Divine Comedy who are born between 1300 and 1500 (1300 and 1500 included) (the result set must be a list of couples poets IRI and label)."
   ]
  },
  {
   "cell_type": "markdown",
   "id": "af7bb32c-3990-4894-bc88-0dfae9c5f138",
   "metadata": {
    "tags": []
   },
   "source": [
    "### Get the first 25 \"date of birth\" (wdt:P569) of all persons whose occupation (wdt:P106) is poet (wd:Q49757)"
   ]
  },
  {
   "cell_type": "code",
   "execution_count": 69,
   "id": "d07aea2a-c192-4945-b867-dac5206f34c4",
   "metadata": {},
   "outputs": [
    {
     "name": "stdout",
     "output_type": "stream",
     "text": [
      "Results\n",
      "[('poet', 'http://www.wikidata.org/entity/Q1373516'), ('labelPoet', 'Eugénio de Castro'), ('dateOfBirth', '1869-03-04T00:00:00Z')]\n",
      "[('poet', 'http://www.wikidata.org/entity/Q589406'), ('labelPoet', 'Empress Xiaoquancheng'), ('dateOfBirth', '1808-03-24T00:00:00Z')]\n",
      "[('poet', 'http://www.wikidata.org/entity/Q610608'), ('labelPoet', 'António Aleixo'), ('dateOfBirth', '1899-02-18T00:00:00Z')]\n",
      "[('poet', 'http://www.wikidata.org/entity/Q710504'), ('labelPoet', 'Bohuslav Balbín'), ('dateOfBirth', '1621-12-03T00:00:00Z')]\n",
      "[('poet', 'http://www.wikidata.org/entity/Q8188119'), ('labelPoet', 'Adelina Lopes Vieira'), ('dateOfBirth', '1850-09-20T00:00:00Z')]\n",
      "[('poet', 'http://www.wikidata.org/entity/Q8201526'), ('labelPoet', 'Antonio Márquez Salas'), ('dateOfBirth', '1919-07-06T00:00:00Z')]\n",
      "[('poet', 'http://www.wikidata.org/entity/Q8201629'), ('labelPoet', 'Antonio Rendic'), ('dateOfBirth', '1896-12-20T00:00:00Z')]\n",
      "[('poet', 'http://www.wikidata.org/entity/Q8202094'), ('labelPoet', 'Antônio de Castro Assumpção'), ('dateOfBirth', '1922-03-28T00:00:00Z')]\n",
      "[('poet', 'http://www.wikidata.org/entity/Q8246828'), ('labelPoet', 'Bernat Català de Valleriola'), ('dateOfBirth', '1568-10-26T00:00:00Z')]\n",
      "[('poet', 'http://www.wikidata.org/entity/Q1191225'), ('labelPoet', 'Tan Sitong'), ('dateOfBirth', '1865-03-10T00:00:00Z')]\n",
      "[('poet', 'http://www.wikidata.org/entity/Q4790571'), ('labelPoet', 'Arifin C. Noer'), ('dateOfBirth', '1941-03-10T00:00:00Z')]\n",
      "[('poet', 'http://www.wikidata.org/entity/Q57257'), ('labelPoet', 'Peter Cornelius'), ('dateOfBirth', '1824-12-24T00:00:00Z')]\n",
      "[('poet', 'http://www.wikidata.org/entity/Q6143494'), ('labelPoet', 'Lin Xu'), ('dateOfBirth', '1875-01-01T00:00:00Z')]\n",
      "[('poet', 'http://www.wikidata.org/entity/Q8353951'), ('labelPoet', 'Darío Herrera Peo'), ('dateOfBirth', '1870-07-18T00:00:00Z')]\n",
      "[('poet', 'http://www.wikidata.org/entity/Q8447800'), ('labelPoet', 'Xavier Rodríguez Barrio'), ('dateOfBirth', '1954-01-01T00:00:00Z')]\n",
      "[('poet', 'http://www.wikidata.org/entity/Q8462536'), ('labelPoet', 'Hsu Fang'), ('dateOfBirth', '1912-10-05T00:00:00Z')]\n",
      "[('poet', 'http://www.wikidata.org/entity/Q8463086'), ('labelPoet', \"Chang Ch'ung-ho\"), ('dateOfBirth', '1914-05-17T00:00:00Z')]\n",
      "[('poet', 'http://www.wikidata.org/entity/Q159967'), ('labelPoet', 'Augusto Roa Bastos'), ('dateOfBirth', '1917-06-13T00:00:00Z')]\n",
      "[('poet', 'http://www.wikidata.org/entity/Q219862'), ('labelPoet', 'Raymond Carver'), ('dateOfBirth', '1938-05-25T00:00:00Z')]\n",
      "[('poet', 'http://www.wikidata.org/entity/Q231708'), ('labelPoet', 'Edith Nesbit'), ('dateOfBirth', '1858-08-15T00:00:00Z')]\n",
      "[('poet', 'http://www.wikidata.org/entity/Q504698'), ('labelPoet', 'James Welch'), ('dateOfBirth', '1940-11-18T00:00:00Z')]\n",
      "[('poet', 'http://www.wikidata.org/entity/Q676223'), ('labelPoet', 'Sage Francis'), ('dateOfBirth', '1976-11-18T00:00:00Z')]\n",
      "[('poet', 'http://www.wikidata.org/entity/Q13639581'), ('labelPoet', 'John Ceiriog Hughes'), ('dateOfBirth', '1832-09-25T00:00:00Z')]\n",
      "[('poet', 'http://www.wikidata.org/entity/Q13710031'), ('labelPoet', 'Qi Junzao'), ('dateOfBirth', '1793-01-01T00:00:00Z')]\n",
      "[('poet', 'http://www.wikidata.org/entity/Q12349830'), ('labelPoet', 'Jenő Szentimrei'), ('dateOfBirth', '1891-12-14T00:00:00Z')]\n",
      "25\n"
     ]
    }
   ],
   "source": [
    "queryString = \"\"\"\n",
    "SELECT DISTINCT ?poet ?labelPoet ?dateOfBirth\n",
    "WHERE {   \n",
    "    ?poet wdt:P106 wd:Q49757 ;\n",
    "          wdt:P569 ?dateOfBirth ;\n",
    "          sc:name ?labelPoet .\n",
    "}LIMIT 25\n",
    "\"\"\"\n",
    "print(\"Results\")\n",
    "x=run_query(queryString)"
   ]
  },
  {
   "cell_type": "markdown",
   "id": "16ea0af7-c066-400f-8c24-94730968cb00",
   "metadata": {
    "tags": []
   },
   "source": [
    "### Get the first 25 persons whose occupation (wdt:P106) is poet (wd:Q49757) and has \"date of birth\" (wdt:P569) between 1300 and 1500 "
   ]
  },
  {
   "cell_type": "code",
   "execution_count": 78,
   "id": "9939252d-86ba-4e1f-b5be-e52aa24d02ce",
   "metadata": {},
   "outputs": [
    {
     "name": "stdout",
     "output_type": "stream",
     "text": [
      "Results\n",
      "[('poet', 'http://www.wikidata.org/entity/Q16075667'), ('labelPoet', 'Du Mu'), ('yearOfBirth', '1458')]\n",
      "[('poet', 'http://www.wikidata.org/entity/Q16039483'), ('labelPoet', 'Arias Barbosa'), ('yearOfBirth', '1450')]\n",
      "[('poet', 'http://www.wikidata.org/entity/Q16039483'), ('labelPoet', 'Arias Barbosa'), ('yearOfBirth', '1470')]\n",
      "[('poet', 'http://www.wikidata.org/entity/Q562300'), ('labelPoet', 'Gilles Joye'), ('yearOfBirth', '1424')]\n",
      "[('poet', 'http://www.wikidata.org/entity/Q655618'), ('labelPoet', 'Francesco Berni'), ('yearOfBirth', '1497')]\n",
      "[('poet', 'http://www.wikidata.org/entity/Q296272'), ('labelPoet', 'Pietro Aretino'), ('yearOfBirth', '1492')]\n",
      "[('poet', 'http://www.wikidata.org/entity/Q5880389'), ('labelPoet', 'Girolamo Casio'), ('yearOfBirth', '1464')]\n",
      "[('poet', 'http://www.wikidata.org/entity/Q21003797'), ('labelPoet', 'Michel Verin'), ('yearOfBirth', '1468')]\n",
      "[('poet', 'http://www.wikidata.org/entity/Q22586308'), ('labelPoet', 'Domenico da Prato'), ('yearOfBirth', '1389')]\n",
      "[('poet', 'http://www.wikidata.org/entity/Q790956'), ('labelPoet', 'Avigdor Kara'), ('yearOfBirth', '1350')]\n",
      "[('poet', 'http://www.wikidata.org/entity/Q7141661'), ('labelPoet', 'Kakimon-in'), ('yearOfBirth', '1350')]\n",
      "[('poet', 'http://www.wikidata.org/entity/Q498626'), ('labelPoet', 'Nam Gon'), ('yearOfBirth', '1471')]\n",
      "[('poet', 'http://www.wikidata.org/entity/Q553193'), ('labelPoet', 'Muhammad Shaybani'), ('yearOfBirth', '1451')]\n",
      "[('poet', 'http://www.wikidata.org/entity/Q610622'), ('labelPoet', 'Narcís Vinyoles'), ('yearOfBirth', '1440')]\n",
      "[('poet', 'http://www.wikidata.org/entity/Q670805'), ('labelPoet', 'Niklaus Manuel'), ('yearOfBirth', '1484')]\n",
      "[('poet', 'http://www.wikidata.org/entity/Q1851906'), ('labelPoet', 'Paul of Burgos'), ('yearOfBirth', '1350')]\n",
      "[('poet', 'http://www.wikidata.org/entity/Q2337208'), ('labelPoet', 'Alfonso de Palencia'), ('yearOfBirth', '1423')]\n",
      "[('poet', 'http://www.wikidata.org/entity/Q2260338'), ('labelPoet', 'Scipione Capece'), ('yearOfBirth', '1480')]\n",
      "[('poet', 'http://www.wikidata.org/entity/Q2564714'), ('labelPoet', 'Andrea da Barberino'), ('yearOfBirth', '1370')]\n",
      "[('poet', 'http://www.wikidata.org/entity/Q310146'), ('labelPoet', 'Charles, Duke of Orléans'), ('yearOfBirth', '1394')]\n",
      "[('poet', 'http://www.wikidata.org/entity/Q172308'), ('labelPoet', 'Andrea Navagero'), ('yearOfBirth', '1483')]\n",
      "[('poet', 'http://www.wikidata.org/entity/Q2561764'), ('labelPoet', 'Qasem-e Anvar'), ('yearOfBirth', '1356')]\n",
      "[('poet', 'http://www.wikidata.org/entity/Q2757511'), ('labelPoet', \"Eloy d'Amerval\"), ('yearOfBirth', '1455')]\n",
      "[('poet', 'http://www.wikidata.org/entity/Q2781577'), ('labelPoet', \"Nicolò d'Arco\"), ('yearOfBirth', '1492')]\n",
      "[('poet', 'http://www.wikidata.org/entity/Q3296224'), ('labelPoet', 'Muhammad ibn Mahmud Amuli'), ('yearOfBirth', '1300')]\n",
      "25\n"
     ]
    }
   ],
   "source": [
    "queryString = \"\"\"\n",
    "SELECT DISTINCT ?poet ?labelPoet ?yearOfBirth\n",
    "WHERE {   \n",
    "    ?poet wdt:P106 wd:Q49757 ;\n",
    "          wdt:P569 ?dateOfBirth ;\n",
    "          sc:name ?labelPoet .\n",
    "    BIND(SUBSTR(STR(?dateOfBirth),0,4) AS ?yearOfBirth)\n",
    "    FILTER (?yearOfBirth >= \"1300\" && ?yearOfBirth <= \"1500\")\n",
    "}LIMIT 25\n",
    "\"\"\"\n",
    "print(\"Results\")\n",
    "x=run_query(queryString)"
   ]
  },
  {
   "cell_type": "markdown",
   "id": "80df1050-b8d1-4149-b72f-13ffa5a5e922",
   "metadata": {
    "tags": []
   },
   "source": [
    "### Final Query"
   ]
  },
  {
   "cell_type": "markdown",
   "id": "2d01206f",
   "metadata": {},
   "source": [
    "Final query for this task"
   ]
  },
  {
   "cell_type": "code",
   "execution_count": 81,
   "id": "1da4cf25",
   "metadata": {},
   "outputs": [
    {
     "name": "stdout",
     "output_type": "stream",
     "text": [
      "Results\n",
      "[('poet', 'http://www.wikidata.org/entity/Q21003797'), ('labelPoet', 'Michel Verin')]\n",
      "[('poet', 'http://www.wikidata.org/entity/Q1248954'), ('labelPoet', 'Giovanni di Bernardo Rucellai')]\n",
      "[('poet', 'http://www.wikidata.org/entity/Q177854'), ('labelPoet', \"Lorenzo de' Medici\")]\n",
      "[('poet', 'http://www.wikidata.org/entity/Q328117'), ('labelPoet', 'Girolamo Benivieni')]\n",
      "[('poet', 'http://www.wikidata.org/entity/Q721846'), ('labelPoet', 'Luigi Alamanni')]\n",
      "[('poet', 'http://www.wikidata.org/entity/Q1399'), ('labelPoet', 'Niccolò Machiavelli')]\n",
      "[('poet', 'http://www.wikidata.org/entity/Q366499'), ('labelPoet', 'Orcagna')]\n",
      "[('poet', 'http://www.wikidata.org/entity/Q1402'), ('labelPoet', 'Giovanni Boccaccio')]\n",
      "[('poet', 'http://www.wikidata.org/entity/Q631635'), ('labelPoet', 'Luigi Pulci')]\n",
      "[('poet', 'http://www.wikidata.org/entity/Q2857170'), ('labelPoet', 'Antonio Alamanni')]\n",
      "[('poet', 'http://www.wikidata.org/entity/Q1527917'), ('labelPoet', 'Giuliano Dati')]\n",
      "[('poet', 'http://www.wikidata.org/entity/Q45539848'), ('labelPoet', 'Niccolò Tinucci')]\n",
      "[('poet', 'http://www.wikidata.org/entity/Q1113645'), ('labelPoet', 'Lucrezia Tornabuoni')]\n",
      "[('poet', 'http://www.wikidata.org/entity/Q711964'), ('labelPoet', 'Cristoforo Landino')]\n",
      "[('poet', 'http://www.wikidata.org/entity/Q741841'), ('labelPoet', 'Ugolino di Vieri')]\n",
      "[('poet', 'http://www.wikidata.org/entity/Q3677259'), ('labelPoet', 'Cino Rinuccini')]\n",
      "[('poet', 'http://www.wikidata.org/entity/Q640594'), ('labelPoet', 'John Dominici')]\n",
      "[('poet', 'http://www.wikidata.org/entity/Q781511'), ('labelPoet', 'Aurelio Lippo Brandolini')]\n",
      "[('poet', 'http://www.wikidata.org/entity/Q13570581'), ('labelPoet', 'Bartolomeo della Fonte')]\n",
      "[('poet', 'http://www.wikidata.org/entity/Q302218'), ('labelPoet', 'Agnolo Firenzuola')]\n",
      "[('poet', 'http://www.wikidata.org/entity/Q62055718'), ('labelPoet', \"Lippo Pasci de' Bardi\")]\n",
      "[('poet', 'http://www.wikidata.org/entity/Q19357719'), ('labelPoet', 'Lodovico Martelli')]\n",
      "[('poet', 'http://www.wikidata.org/entity/Q425969'), ('labelPoet', 'Bernardo Bellincioni')]\n",
      "[('poet', 'http://www.wikidata.org/entity/Q1229872'), ('labelPoet', 'Matteo Palmieri')]\n",
      "[('poet', 'http://www.wikidata.org/entity/Q589545'), ('labelPoet', 'Bernardo Pulci')]\n",
      "25\n"
     ]
    }
   ],
   "source": [
    "queryString = \"\"\"\n",
    "SELECT DISTINCT ?poet ?labelPoet\n",
    "WHERE {   \n",
    "    #Dante place of birth\n",
    "    wd:Q1067 wdt:P19 ?placeOfBirthDante .\n",
    "    \n",
    "    #All poets born between 1300 and 1500\n",
    "    ?poet wdt:P106 wd:Q49757 ;\n",
    "          wdt:P569 ?dateOfBirth ;\n",
    "          wdt:P19 ?placeOfBirth ;\n",
    "          sc:name ?labelPoet .\n",
    "    BIND(SUBSTR(STR(?dateOfBirth),0,4) AS ?yearOfBirth) .\n",
    "    FILTER (?yearOfBirth >= \"1300\" && ?yearOfBirth <= \"1500\" && ?placeOfBirth = ?placeOfBirthDante)\n",
    "}LIMIT 25\n",
    "\"\"\"\n",
    "print(\"Results\")\n",
    "x=run_query(queryString)"
   ]
  },
  {
   "cell_type": "markdown",
   "id": "a3ece18e",
   "metadata": {},
   "source": [
    "## Task 5\n",
    "Identify the BGP for literary work"
   ]
  },
  {
   "cell_type": "markdown",
   "id": "a8a9ce69-156d-47a2-8cd8-4f91017f87a9",
   "metadata": {
    "tags": []
   },
   "source": [
    "### Get the objects connected to \"Dante Alighieri\" (wd:Q1067) with \"described by source\" (wdt:P1343) property"
   ]
  },
  {
   "cell_type": "code",
   "execution_count": 18,
   "id": "e64e811f-da92-4ca2-9b55-530fcf7ba881",
   "metadata": {},
   "outputs": [
    {
     "name": "stdout",
     "output_type": "stream",
     "text": [
      "Results\n",
      "[('object', 'http://www.wikidata.org/entity/Q19180675'), ('label', 'Small Brockhaus and Efron Encyclopedic Dictionary')]\n",
      "[('object', 'http://www.wikidata.org/entity/Q20078554'), ('label', 'Great Soviet Encyclopedia (1926–1947)')]\n",
      "[('object', 'http://www.wikidata.org/entity/Q2041543'), ('label', 'Ottův slovník naučný')]\n",
      "[('object', 'http://www.wikidata.org/entity/Q20743760'), ('label', 'Encyclopedia of Political Theory (2010 ed.)')]\n",
      "[('object', 'http://www.wikidata.org/entity/Q302556'), ('label', 'Catholic Encyclopedia')]\n",
      "[('object', 'http://www.wikidata.org/entity/Q3181656'), ('label', 'The Nuttall Encyclopædia')]\n",
      "[('object', 'http://www.wikidata.org/entity/Q4173137'), ('label', 'Jewish Encyclopedia of Brockhaus and Efron')]\n",
      "[('object', 'http://www.wikidata.org/entity/Q51955019'), ('label', 'BEIC Digital Library')]\n",
      "[('object', 'http://www.wikidata.org/entity/Q602358'), ('label', 'Brockhaus and Efron Encyclopedic Dictionary')]\n",
      "[('object', 'http://www.wikidata.org/entity/Q67311526'), ('label', 'Obalky knih.cz')]\n",
      "[('object', 'http://www.wikidata.org/entity/Q867541'), ('label', 'Encyclopædia Britannica 11th edition')]\n",
      "[('object', 'http://www.wikidata.org/entity/Q5375442'), ('label', 'Enciclopedia Dantesca')]\n",
      "12\n"
     ]
    }
   ],
   "source": [
    "queryString = \"\"\"\n",
    "SELECT DISTINCT ?object ?label\n",
    "WHERE {   \n",
    "   wd:Q1067 wdt:P1343 ?object .\n",
    "   ?object sc:name ?label .\n",
    "}LIMIT 50\n",
    "\"\"\"\n",
    "print(\"Results\")\n",
    "x=run_query(queryString)"
   ]
  },
  {
   "cell_type": "markdown",
   "id": "ae808e20-f8ed-468d-bb8d-d99274f3305f",
   "metadata": {
    "tags": []
   },
   "source": [
    "### Get the objects connected to \"Dante Alighieri\" (wd:Q1067) with \"notable work\" (wdt:P800) property"
   ]
  },
  {
   "cell_type": "code",
   "execution_count": 19,
   "id": "e9a11b8a",
   "metadata": {},
   "outputs": [
    {
     "name": "stdout",
     "output_type": "stream",
     "text": [
      "Results\n",
      "[('object', 'http://www.wikidata.org/entity/Q18084'), ('label', 'Vita Nuova')]\n",
      "[('object', 'http://www.wikidata.org/entity/Q40185'), ('label', 'The Divine Comedy')]\n",
      "[('object', 'http://www.wikidata.org/entity/Q134221'), ('label', 'De Monarchia')]\n",
      "[('object', 'http://www.wikidata.org/entity/Q18081'), ('label', 'De vulgari eloquentia')]\n",
      "[('object', 'http://www.wikidata.org/entity/Q666014'), ('label', 'Convivio')]\n",
      "5\n"
     ]
    }
   ],
   "source": [
    "queryString = \"\"\"\n",
    "SELECT DISTINCT ?object ?label\n",
    "WHERE {   \n",
    "   wd:Q1067 wdt:P800 ?object .\n",
    "   ?object sc:name ?label .\n",
    "}LIMIT 50\n",
    "\"\"\"\n",
    "print(\"Results\")\n",
    "x=run_query(queryString)"
   ]
  },
  {
   "cell_type": "markdown",
   "id": "76ade482-cf63-441d-a50e-3c2142156226",
   "metadata": {
    "tags": []
   },
   "source": [
    "### Final Query"
   ]
  },
  {
   "cell_type": "markdown",
   "id": "6c45efea",
   "metadata": {},
   "source": [
    "Final query for this task"
   ]
  },
  {
   "cell_type": "code",
   "execution_count": 20,
   "id": "f0e467ca",
   "metadata": {},
   "outputs": [
    {
     "name": "stdout",
     "output_type": "stream",
     "text": [
      "Results\n",
      "[('objectClass', 'http://www.wikidata.org/entity/Q47461344'), ('labelObjectClass', 'written work')]\n",
      "[('objectClass', 'http://www.wikidata.org/entity/Q7725634'), ('labelObjectClass', 'literary work')]\n",
      "2\n"
     ]
    }
   ],
   "source": [
    "queryString = \"\"\"\n",
    "SELECT DISTINCT ?objectClass ?labelObjectClass\n",
    "WHERE {   \n",
    "   wd:Q1067 wdt:P800 ?object .\n",
    "   ?object wdt:P31 ?objectClass .\n",
    "   ?objectClass sc:name ?labelObjectClass .\n",
    "}LIMIT 50\n",
    "\"\"\"\n",
    "print(\"Results\")\n",
    "x=run_query(queryString)"
   ]
  },
  {
   "cell_type": "markdown",
   "id": "78b3029c",
   "metadata": {},
   "source": [
    "## Task 6\n",
    "Compare the author of The Divine Comedy with Giovanni Boccaccio. Return for these poets the number of literary work they wrote (the result set must be two triples -one for each author- author IRI, label and #literary work)."
   ]
  },
  {
   "cell_type": "markdown",
   "id": "571d44d2-1d71-432f-8980-a72dbde0efa8",
   "metadata": {
    "tags": []
   },
   "source": [
    "### Get \"given name\" (wdt:P735) and \"family name\" (wdt:P734) of \"Dante Alighieri\" (wd:Q1067)"
   ]
  },
  {
   "cell_type": "code",
   "execution_count": 101,
   "id": "4634e037-dcd3-42dd-9015-9591ab24ddc6",
   "metadata": {},
   "outputs": [
    {
     "name": "stdout",
     "output_type": "stream",
     "text": [
      "Results\n",
      "[('labelDante', 'Dante Alighieri'), ('givenNameDante', 'http://www.wikidata.org/entity/Q18182706'), ('labelGivenNameDante', 'Dante'), ('familyNameDante', 'http://www.wikidata.org/entity/Q15782426'), ('labelFamilyNameDante', 'Alighieri')]\n",
      "1\n"
     ]
    }
   ],
   "source": [
    "queryString = \"\"\"\n",
    "SELECT DISTINCT ?labelDante ?givenNameDante ?labelGivenNameDante ?familyNameDante ?labelFamilyNameDante\n",
    "WHERE {   \n",
    "    wd:Q1067 wdt:P735 ?givenNameDante ;\n",
    "            wdt:P734 ?familyNameDante ;\n",
    "            sc:name ?labelDante .\n",
    "    ?givenNameDante sc:name ?labelGivenNameDante .\n",
    "    ?familyNameDante sc:name ?labelFamilyNameDante .    \n",
    "}LIMIT 25\n",
    "\"\"\"\n",
    "print(\"Results\")\n",
    "x=run_query(queryString)"
   ]
  },
  {
   "cell_type": "markdown",
   "id": "be445a6a-fe70-425c-a6af-8ea340383a78",
   "metadata": {
    "tags": []
   },
   "source": [
    "### Get the URI of \"Giovanni Boccaccio\""
   ]
  },
  {
   "cell_type": "code",
   "execution_count": 102,
   "id": "bcfd32f6-a920-4343-bf8c-98931719c3ee",
   "metadata": {},
   "outputs": [
    {
     "name": "stdout",
     "output_type": "stream",
     "text": [
      "Results\n",
      "[('poet', 'http://www.wikidata.org/entity/Q1402'), ('labelHuman', 'Giovanni Boccaccio')]\n",
      "1\n"
     ]
    }
   ],
   "source": [
    "queryString = \"\"\"\n",
    "SELECT DISTINCT ?poet ?labelHuman \n",
    "WHERE {   \n",
    "    ?poet  wdt:P106 wd:Q49757 ;\n",
    "           sc:name ?labelHuman .   \n",
    "    FILTER (STR(?labelHuman) = \"Giovanni Boccaccio\") .\n",
    "}LIMIT 25\n",
    "\"\"\"\n",
    "print(\"Results\")\n",
    "x=run_query(queryString)"
   ]
  },
  {
   "cell_type": "markdown",
   "id": "4667837c-698e-48c6-859c-3f750d020262",
   "metadata": {
    "tags": []
   },
   "source": [
    "### Get all \"literary work\" (wd:Q7725634) of \"Dante Alighieri\" (wd:Q1067)"
   ]
  },
  {
   "cell_type": "code",
   "execution_count": 107,
   "id": "a680203c-1a53-44d1-b99e-42830c0ea361",
   "metadata": {},
   "outputs": [
    {
     "name": "stdout",
     "output_type": "stream",
     "text": [
      "Results\n",
      "[('literaryWork', 'http://www.wikidata.org/entity/Q18084'), ('labelLiteraryWork', 'Vita Nuova')]\n",
      "[('literaryWork', 'http://www.wikidata.org/entity/Q134221'), ('labelLiteraryWork', 'De Monarchia')]\n",
      "[('literaryWork', 'http://www.wikidata.org/entity/Q18081'), ('labelLiteraryWork', 'De vulgari eloquentia')]\n",
      "[('literaryWork', 'http://www.wikidata.org/entity/Q666014'), ('labelLiteraryWork', 'Convivio')]\n",
      "4\n"
     ]
    }
   ],
   "source": [
    "queryString = \"\"\"\n",
    "SELECT DISTINCT ?literaryWork ?labelLiteraryWork\n",
    "WHERE {       \n",
    "    wd:Q1067 wdt:P800 ?literaryWork .\n",
    "    ?literaryWork wdt:P31 wd:Q7725634 ;\n",
    "                  sc:name ?labelLiteraryWork .        \n",
    "}LIMIT 25\n",
    "\"\"\"\n",
    "print(\"Results\")\n",
    "x=run_query(queryString)"
   ]
  },
  {
   "cell_type": "markdown",
   "id": "fbd8377b-3359-4405-a83a-c6e142d023ac",
   "metadata": {
    "tags": []
   },
   "source": [
    "### Final Query"
   ]
  },
  {
   "cell_type": "markdown",
   "id": "b1b61756",
   "metadata": {},
   "source": [
    "Final query for this task"
   ]
  },
  {
   "cell_type": "code",
   "execution_count": 110,
   "id": "2a95b1c7",
   "metadata": {},
   "outputs": [
    {
     "name": "stdout",
     "output_type": "stream",
     "text": [
      "Results\n",
      "[('author', 'http://www.wikidata.org/entity/Q1402'), ('labelAuthor', 'Giovanni Boccaccio'), ('numberOfLiteraryWorks', '2')]\n",
      "[('author', 'http://www.wikidata.org/entity/Q1067'), ('labelAuthor', 'Dante Alighieri'), ('numberOfLiteraryWorks', '4')]\n",
      "2\n"
     ]
    }
   ],
   "source": [
    "queryString = \"\"\"\n",
    "SELECT ?author ?labelAuthor (COUNT (DISTINCT ?literaryWork) AS ?numberOfLiteraryWorks)\n",
    "WHERE { \n",
    "    ?author wdt:P800 ?literaryWork ;\n",
    "            sc:name ?labelAuthor .\n",
    "    ?literaryWork wdt:P31 wd:Q7725634  . \n",
    "    FILTER (?author = wd:Q1067 || ?author = wd:Q1402)            \n",
    "}GROUP BY ?author ?labelAuthor\n",
    "\"\"\"\n",
    "print(\"Results\")\n",
    "x=run_query(queryString)"
   ]
  },
  {
   "cell_type": "markdown",
   "id": "c8414115",
   "metadata": {},
   "source": [
    "## Task 7\n",
    "Consider italian poets, their place of birth (the city) and their university education. Return for each city the number of poets who born there and who was educated there (the result set must be a list of triples city IRI, label and #poets)."
   ]
  },
  {
   "cell_type": "markdown",
   "id": "acf7e3c3-4321-48e2-8708-a4058f6abfe0",
   "metadata": {
    "tags": []
   },
   "source": [
    "### Get all poet (wd:Q49757) with year of \"date of birth\" (wdt:P569) grater than 1850"
   ]
  },
  {
   "cell_type": "code",
   "execution_count": 114,
   "id": "ba0c9a99-35d5-40d3-a3ab-7546781d651c",
   "metadata": {},
   "outputs": [
    {
     "name": "stdout",
     "output_type": "stream",
     "text": [
      "Results\n",
      "[('poet', 'http://www.wikidata.org/entity/Q1373516'), ('labelPoet', 'Eugénio de Castro'), ('yearOfBirth', '1869')]\n",
      "[('poet', 'http://www.wikidata.org/entity/Q610608'), ('labelPoet', 'António Aleixo'), ('yearOfBirth', '1899')]\n",
      "[('poet', 'http://www.wikidata.org/entity/Q8188119'), ('labelPoet', 'Adelina Lopes Vieira'), ('yearOfBirth', '1850')]\n",
      "[('poet', 'http://www.wikidata.org/entity/Q8201526'), ('labelPoet', 'Antonio Márquez Salas'), ('yearOfBirth', '1919')]\n",
      "[('poet', 'http://www.wikidata.org/entity/Q8201629'), ('labelPoet', 'Antonio Rendic'), ('yearOfBirth', '1896')]\n",
      "[('poet', 'http://www.wikidata.org/entity/Q8202094'), ('labelPoet', 'Antônio de Castro Assumpção'), ('yearOfBirth', '1922')]\n",
      "[('poet', 'http://www.wikidata.org/entity/Q1191225'), ('labelPoet', 'Tan Sitong'), ('yearOfBirth', '1865')]\n",
      "[('poet', 'http://www.wikidata.org/entity/Q4790571'), ('labelPoet', 'Arifin C. Noer'), ('yearOfBirth', '1941')]\n",
      "[('poet', 'http://www.wikidata.org/entity/Q6143494'), ('labelPoet', 'Lin Xu'), ('yearOfBirth', '1875')]\n",
      "[('poet', 'http://www.wikidata.org/entity/Q8353951'), ('labelPoet', 'Darío Herrera Peo'), ('yearOfBirth', '1870')]\n",
      "[('poet', 'http://www.wikidata.org/entity/Q8447800'), ('labelPoet', 'Xavier Rodríguez Barrio'), ('yearOfBirth', '1954')]\n",
      "[('poet', 'http://www.wikidata.org/entity/Q8462536'), ('labelPoet', 'Hsu Fang'), ('yearOfBirth', '1912')]\n",
      "[('poet', 'http://www.wikidata.org/entity/Q8463086'), ('labelPoet', \"Chang Ch'ung-ho\"), ('yearOfBirth', '1914')]\n",
      "[('poet', 'http://www.wikidata.org/entity/Q159967'), ('labelPoet', 'Augusto Roa Bastos'), ('yearOfBirth', '1917')]\n",
      "[('poet', 'http://www.wikidata.org/entity/Q219862'), ('labelPoet', 'Raymond Carver'), ('yearOfBirth', '1938')]\n",
      "[('poet', 'http://www.wikidata.org/entity/Q231708'), ('labelPoet', 'Edith Nesbit'), ('yearOfBirth', '1858')]\n",
      "[('poet', 'http://www.wikidata.org/entity/Q504698'), ('labelPoet', 'James Welch'), ('yearOfBirth', '1940')]\n",
      "[('poet', 'http://www.wikidata.org/entity/Q676223'), ('labelPoet', 'Sage Francis'), ('yearOfBirth', '1976')]\n",
      "[('poet', 'http://www.wikidata.org/entity/Q12349830'), ('labelPoet', 'Jenő Szentimrei'), ('yearOfBirth', '1891')]\n",
      "[('poet', 'http://www.wikidata.org/entity/Q15457424'), ('labelPoet', 'Joyce Carol Thomas'), ('yearOfBirth', '1938')]\n",
      "[('poet', 'http://www.wikidata.org/entity/Q15457786'), ('labelPoet', 'Tato Laviera'), ('yearOfBirth', '1950')]\n",
      "[('poet', 'http://www.wikidata.org/entity/Q15458333'), ('labelPoet', 'Swami Paramananda'), ('yearOfBirth', '1884')]\n",
      "[('poet', 'http://www.wikidata.org/entity/Q15460120'), ('labelPoet', 'T. Harri Jones'), ('yearOfBirth', '1921')]\n",
      "[('poet', 'http://www.wikidata.org/entity/Q15460603'), ('labelPoet', 'Ira Sadoff'), ('yearOfBirth', '1945')]\n",
      "[('poet', 'http://www.wikidata.org/entity/Q15463391'), ('labelPoet', 'David Ray'), ('yearOfBirth', '1932')]\n",
      "25\n"
     ]
    }
   ],
   "source": [
    "queryString = \"\"\"\n",
    "SELECT ?poet ?labelPoet ?yearOfBirth\n",
    "WHERE { \n",
    "    ?poet wdt:P106 wd:Q49757 ;\n",
    "          wdt:P569 ?dateOfBirth ;\n",
    "          sc:name ?labelPoet .\n",
    "    BIND(SUBSTR(STR(?dateOfBirth),0,4) AS ?yearOfBirth) .\n",
    "    FILTER (?yearOfBirth >= \"1850\")\n",
    "}LIMIT 25\n",
    "\"\"\"\n",
    "print(\"Results\")\n",
    "x=run_query(queryString)"
   ]
  },
  {
   "cell_type": "markdown",
   "id": "f8df8b24-501b-4253-8e76-4f1237a353da",
   "metadata": {
    "tags": []
   },
   "source": [
    "### Get all data property of \"Eugénio de Castro\" (wd:Q1373516)"
   ]
  },
  {
   "cell_type": "code",
   "execution_count": 116,
   "id": "233822fd-f6ed-466c-a7ea-418af7221ae3",
   "metadata": {},
   "outputs": [
    {
     "name": "stdout",
     "output_type": "stream",
     "text": [
      "Results\n",
      "[('property', 'http://www.wikidata.org/prop/direct/P9053'), ('label', 'Projecto Vercial author ID')]\n",
      "[('property', 'http://www.wikidata.org/prop/direct/P1005'), ('label', 'Portuguese National Library ID')]\n",
      "[('property', 'http://www.wikidata.org/prop/direct/P1006'), ('label', 'Nationale Thesaurus voor Auteurs ID')]\n",
      "[('property', 'http://www.wikidata.org/prop/direct/P1273'), ('label', 'CANTIC ID')]\n",
      "[('property', 'http://www.wikidata.org/prop/direct/P1296'), ('label', 'Gran Enciclopèdia Catalana ID')]\n",
      "[('property', 'http://www.wikidata.org/prop/direct/P1417'), ('label', 'Encyclopædia Britannica Online ID')]\n",
      "[('property', 'http://www.wikidata.org/prop/direct/P1580'), ('label', 'University of Barcelona authority ID')]\n",
      "[('property', 'http://www.wikidata.org/prop/direct/P213'), ('label', 'ISNI')]\n",
      "[('property', 'http://www.wikidata.org/prop/direct/P214'), ('label', 'VIAF ID')]\n",
      "[('property', 'http://www.wikidata.org/prop/direct/P2163'), ('label', 'FAST ID')]\n",
      "[('property', 'http://www.wikidata.org/prop/direct/P227'), ('label', 'GND ID')]\n",
      "[('property', 'http://www.wikidata.org/prop/direct/P244'), ('label', 'Library of Congress authority ID')]\n",
      "[('property', 'http://www.wikidata.org/prop/direct/P2600'), ('label', 'Geni.com profile ID')]\n",
      "[('property', 'http://www.wikidata.org/prop/direct/P268'), ('label', 'Bibliothèque nationale de France ID')]\n",
      "[('property', 'http://www.wikidata.org/prop/direct/P269'), ('label', 'IdRef ID')]\n",
      "[('property', 'http://www.wikidata.org/prop/direct/P2949'), ('label', 'WikiTree person ID')]\n",
      "[('property', 'http://www.wikidata.org/prop/direct/P3430'), ('label', 'SNAC ARK ID')]\n",
      "[('property', 'http://www.wikidata.org/prop/direct/P373'), ('label', 'Commons category')]\n",
      "[('property', 'http://www.wikidata.org/prop/direct/P4342'), ('label', 'Store norske leksikon ID')]\n",
      "[('property', 'http://www.wikidata.org/prop/direct/P5019'), ('label', 'Brockhaus Enzyklopädie online ID')]\n",
      "[('property', 'http://www.wikidata.org/prop/direct/P569'), ('label', 'date of birth')]\n",
      "[('property', 'http://www.wikidata.org/prop/direct/P570'), ('label', 'date of death')]\n",
      "[('property', 'http://www.wikidata.org/prop/direct/P646'), ('label', 'Freebase ID')]\n",
      "[('property', 'http://www.wikidata.org/prop/direct/P648'), ('label', 'Open Library ID')]\n",
      "[('property', 'http://www.wikidata.org/prop/direct/P6656'), ('label', 'BHCL ID (former scheme)')]\n",
      "[('property', 'http://www.wikidata.org/prop/direct/P691'), ('label', 'NKCR AUT ID')]\n",
      "[('property', 'http://www.wikidata.org/prop/direct/P7859'), ('label', 'WorldCat Identities ID')]\n",
      "[('property', 'http://www.wikidata.org/prop/direct/P7902'), ('label', 'Deutsche Biographie (GND) ID')]\n",
      "[('property', 'http://www.wikidata.org/prop/direct/P7982'), ('label', 'Hrvatska enciklopedija ID')]\n",
      "[('property', 'http://www.wikidata.org/prop/direct/P8349'), ('label', 'Proleksis enciklopedija ID')]\n",
      "[('property', 'http://www.wikidata.org/prop/direct/P9037'), ('label', 'BHCL UUID')]\n",
      "[('property', 'http://www.wikidata.org/prop/direct/P9081'), ('label', 'SEARCH on line catalogue ID')]\n",
      "[('property', 'http://www.wikidata.org/prop/direct/P9141'), ('label', 'Portal da Literatura ID')]\n",
      "[('property', 'http://www.wikidata.org/prop/direct/P9226'), ('label', 'ARAE ID')]\n",
      "[('property', 'http://www.wikidata.org/prop/direct/P950'), ('label', 'Biblioteca Nacional de España ID')]\n",
      "[('property', 'http://www.wikidata.org/prop/direct/P1473'), ('label', 'BLPL author ID')]\n",
      "[('property', 'http://www.wikidata.org/prop/direct/P6226'), ('label', 'ARLLFB member ID')]\n",
      "37\n"
     ]
    }
   ],
   "source": [
    "queryString = \"\"\"\n",
    "SELECT DISTINCT ?property ?label\n",
    "WHERE {   \n",
    "   wd:Q1373516 ?property ?object .\n",
    "   ?property sc:name ?label .\n",
    "   FILTER(isLiteral(?object)) .   \n",
    "}\n",
    "\"\"\"\n",
    "print(\"Results\")\n",
    "x=run_query(queryString)"
   ]
  },
  {
   "cell_type": "markdown",
   "id": "c1e30cd9-fe3b-48b9-b6eb-a3c52d1a1de9",
   "metadata": {
    "tags": []
   },
   "source": [
    "### Get all data property of \"Eugénio de Castro\"  (wd:Q1373516) that do not contain ID"
   ]
  },
  {
   "cell_type": "code",
   "execution_count": 117,
   "id": "2a0bea4d-b15e-453d-9035-cb8dd3290630",
   "metadata": {},
   "outputs": [
    {
     "name": "stdout",
     "output_type": "stream",
     "text": [
      "Results\n",
      "[('property', 'http://www.wikidata.org/prop/direct/P213'), ('label', 'ISNI')]\n",
      "[('property', 'http://www.wikidata.org/prop/direct/P373'), ('label', 'Commons category')]\n",
      "[('property', 'http://www.wikidata.org/prop/direct/P569'), ('label', 'date of birth')]\n",
      "[('property', 'http://www.wikidata.org/prop/direct/P570'), ('label', 'date of death')]\n",
      "4\n"
     ]
    }
   ],
   "source": [
    "queryString = \"\"\"\n",
    "SELECT DISTINCT ?property ?label\n",
    "WHERE {   \n",
    "   wd:Q1373516 ?property ?object .\n",
    "   ?property sc:name ?label .\n",
    "   FILTER(isLiteral(?object)) .\n",
    "   FILTER REGEX(?label, \"^((?!ID).)*$\") . \n",
    "}\n",
    "\"\"\"\n",
    "print(\"Results\")\n",
    "x=run_query(queryString)"
   ]
  },
  {
   "cell_type": "markdown",
   "id": "56ff1af4-eee2-4388-ad76-6c903c1db9ed",
   "metadata": {
    "tags": []
   },
   "source": [
    "### Get the class of \"Eugénio de Castro\" (wd:Q1373516)"
   ]
  },
  {
   "cell_type": "code",
   "execution_count": 119,
   "id": "830c2485-a914-4795-a3a7-37bf05e5a400",
   "metadata": {},
   "outputs": [
    {
     "name": "stdout",
     "output_type": "stream",
     "text": [
      "Results\n",
      "[('class', 'http://www.wikidata.org/entity/Q5'), ('label', 'human')]\n",
      "1\n"
     ]
    }
   ],
   "source": [
    "queryString = \"\"\"\n",
    "SELECT DISTINCT ?class ?label\n",
    "WHERE {   \n",
    "   wd:Q1373516 wdt:P31 ?class .\n",
    "   ?class sc:name ?label .     \n",
    "}\n",
    "\"\"\"\n",
    "print(\"Results\")\n",
    "x=run_query(queryString)"
   ]
  },
  {
   "cell_type": "markdown",
   "id": "ca2f85c4-b54d-4d49-b418-d1b7a59af539",
   "metadata": {
    "tags": []
   },
   "source": [
    "### Get all object properties of \"Eugénio de Castro\"  (wd:Q1373516)"
   ]
  },
  {
   "cell_type": "code",
   "execution_count": 120,
   "id": "4b112b95-fc6e-4db3-bc78-94a5539325e4",
   "metadata": {},
   "outputs": [
    {
     "name": "stdout",
     "output_type": "stream",
     "text": [
      "Results\n",
      "[('property', 'http://www.wikidata.org/prop/direct/P106'), ('label', 'occupation')]\n",
      "[('property', 'http://www.wikidata.org/prop/direct/P1343'), ('label', 'described by source')]\n",
      "[('property', 'http://www.wikidata.org/prop/direct/P1412'), ('label', 'languages spoken, written or signed')]\n",
      "[('property', 'http://www.wikidata.org/prop/direct/P166'), ('label', 'award received')]\n",
      "[('property', 'http://www.wikidata.org/prop/direct/P18'), ('label', 'image')]\n",
      "[('property', 'http://www.wikidata.org/prop/direct/P19'), ('label', 'place of birth')]\n",
      "[('property', 'http://www.wikidata.org/prop/direct/P20'), ('label', 'place of death')]\n",
      "[('property', 'http://www.wikidata.org/prop/direct/P21'), ('label', 'sex or gender')]\n",
      "[('property', 'http://www.wikidata.org/prop/direct/P27'), ('label', 'country of citizenship')]\n",
      "[('property', 'http://www.wikidata.org/prop/direct/P31'), ('label', 'instance of')]\n",
      "[('property', 'http://www.wikidata.org/prop/direct/P463'), ('label', 'member of')]\n",
      "[('property', 'http://www.wikidata.org/prop/direct/P69'), ('label', 'educated at')]\n",
      "[('property', 'http://www.wikidata.org/prop/direct/P735'), ('label', 'given name')]\n",
      "[('property', 'http://www.wikidata.org/prop/direct/P973'), ('label', 'described at URL')]\n",
      "14\n"
     ]
    }
   ],
   "source": [
    "queryString = \"\"\"\n",
    "SELECT DISTINCT ?property ?label\n",
    "WHERE {   \n",
    "   wd:Q1373516 ?property ?object .\n",
    "   ?property sc:name ?label .\n",
    "   FILTER(!isLiteral(?object)) .   \n",
    "}\n",
    "\"\"\"\n",
    "\n",
    "print(\"Results\")\n",
    "x=run_query(queryString)"
   ]
  },
  {
   "cell_type": "markdown",
   "id": "bdb73fce-3f39-44d3-bbff-e8b44c9846e9",
   "metadata": {
    "tags": []
   },
   "source": [
    "### Get all the classes connected to \"Eugénio de Castro\"  (wd:Q1373516)"
   ]
  },
  {
   "cell_type": "code",
   "execution_count": 121,
   "id": "35f42a90-3bad-4cac-9700-a24b73586b8e",
   "metadata": {},
   "outputs": [
    {
     "name": "stdout",
     "output_type": "stream",
     "text": [
      "Results\n",
      "[('objectClass', 'http://www.wikidata.org/entity/Q186165'), ('label', 'web portal')]\n",
      "[('objectClass', 'http://www.wikidata.org/entity/Q1966910'), ('label', 'national academy')]\n",
      "[('objectClass', 'http://www.wikidata.org/entity/Q48264'), ('label', 'gender identity')]\n",
      "[('objectClass', 'http://www.wikidata.org/entity/Q12737077'), ('label', 'occupation')]\n",
      "[('objectClass', 'http://www.wikidata.org/entity/Q1288568'), ('label', 'modern language')]\n",
      "[('objectClass', 'http://www.wikidata.org/entity/Q13217644'), ('label', 'municipality of Portugal')]\n",
      "[('objectClass', 'http://www.wikidata.org/entity/Q1549591'), ('label', 'big city')]\n",
      "[('objectClass', 'http://www.wikidata.org/entity/Q15647906'), ('label', 'city of Portugal')]\n",
      "[('objectClass', 'http://www.wikidata.org/entity/Q20181813'), ('label', 'colonial power')]\n",
      "[('objectClass', 'http://www.wikidata.org/entity/Q28640'), ('label', 'profession')]\n",
      "[('objectClass', 'http://www.wikidata.org/entity/Q34770'), ('label', 'language')]\n",
      "[('objectClass', 'http://www.wikidata.org/entity/Q3624078'), ('label', 'sovereign state')]\n",
      "[('objectClass', 'http://www.wikidata.org/entity/Q4164871'), ('label', 'position')]\n",
      "[('objectClass', 'http://www.wikidata.org/entity/Q45400320'), ('label', 'open-access publisher')]\n",
      "[('objectClass', 'http://www.wikidata.org/entity/Q55983715'), ('label', 'organisms known by a particular common name')]\n",
      "[('objectClass', 'http://www.wikidata.org/entity/Q6256'), ('label', 'country')]\n",
      "[('objectClass', 'http://www.wikidata.org/entity/Q12308941'), ('label', 'male given name')]\n",
      "[('objectClass', 'http://www.wikidata.org/entity/Q875538'), ('label', 'public university')]\n",
      "[('objectClass', 'http://www.wikidata.org/entity/Q60754876'), ('label', 'grade of an order')]\n",
      "[('objectClass', 'http://www.wikidata.org/entity/Q4369513'), ('label', 'sex of humans')]\n",
      "[('objectClass', 'http://www.wikidata.org/entity/Q12038942'), ('label', 'multimedia database')]\n",
      "21\n"
     ]
    }
   ],
   "source": [
    "queryString = \"\"\"\n",
    "SELECT DISTINCT ?objectClass ?label\n",
    "WHERE {   \n",
    "   wd:Q1373516 ?property ?object .\n",
    "   ?object wdt:P31 ?objectClass .\n",
    "   ?objectClass sc:name ?label .\n",
    "   FILTER(!isLiteral(?object)) .   \n",
    "}\n",
    "\"\"\"\n",
    "print(\"Results\")\n",
    "x=run_query(queryString)"
   ]
  },
  {
   "cell_type": "markdown",
   "id": "17830130-b12a-4ee8-9e47-5b1f2825ef96",
   "metadata": {
    "tags": []
   },
   "source": [
    "### Get all the couples (object property - list of the classes of the objects that are connected to \"Eugénio de Castro\"  (wd:Q1373516) through that object property)"
   ]
  },
  {
   "cell_type": "code",
   "execution_count": 122,
   "id": "c2ce5a6b-4ba6-46d5-afe1-f6d0145c762d",
   "metadata": {},
   "outputs": [
    {
     "name": "stdout",
     "output_type": "stream",
     "text": [
      "Results\n",
      "[('property', 'http://www.wikidata.org/prop/direct/P735'), ('labelProperty', 'given name'), ('objectsClasses', 'http://www.wikidata.org/entity/Q12308941'), ('labelsObjectsClasses', 'male given name')]\n",
      "[('property', 'http://www.wikidata.org/prop/direct/P106'), ('labelProperty', 'occupation'), ('objectsClasses', 'http://www.wikidata.org/entity/Q12737077,http://www.wikidata.org/entity/Q28640,http://www.wikidata.org/entity/Q28640,http://www.wikidata.org/entity/Q28640,http://www.wikidata.org/entity/Q4164871'), ('labelsObjectsClasses', 'occupation,profession,profession,profession,position')]\n",
      "[('property', 'http://www.wikidata.org/prop/direct/P69'), ('labelProperty', 'educated at'), ('objectsClasses', 'http://www.wikidata.org/entity/Q45400320,http://www.wikidata.org/entity/Q875538'), ('labelsObjectsClasses', 'open-access publisher,public university')]\n",
      "[('property', 'http://www.wikidata.org/prop/direct/P21'), ('labelProperty', 'sex or gender'), ('objectsClasses', 'http://www.wikidata.org/entity/Q48264,http://www.wikidata.org/entity/Q4369513'), ('labelsObjectsClasses', 'gender identity,sex of humans')]\n",
      "[('property', 'http://www.wikidata.org/prop/direct/P1412'), ('labelProperty', 'languages spoken, written or signed'), ('objectsClasses', 'http://www.wikidata.org/entity/Q1288568,http://www.wikidata.org/entity/Q34770'), ('labelsObjectsClasses', 'modern language,language')]\n",
      "[('property', 'http://www.wikidata.org/prop/direct/P166'), ('labelProperty', 'award received'), ('objectsClasses', 'http://www.wikidata.org/entity/Q60754876'), ('labelsObjectsClasses', 'grade of an order')]\n",
      "[('property', 'http://www.wikidata.org/prop/direct/P20'), ('labelProperty', 'place of death'), ('objectsClasses', 'http://www.wikidata.org/entity/Q13217644,http://www.wikidata.org/entity/Q1549591,http://www.wikidata.org/entity/Q15647906'), ('labelsObjectsClasses', 'municipality of Portugal,big city,city of Portugal')]\n",
      "[('property', 'http://www.wikidata.org/prop/direct/P27'), ('labelProperty', 'country of citizenship'), ('objectsClasses', 'http://www.wikidata.org/entity/Q20181813,http://www.wikidata.org/entity/Q3624078,http://www.wikidata.org/entity/Q6256'), ('labelsObjectsClasses', 'colonial power,sovereign state,country')]\n",
      "[('property', 'http://www.wikidata.org/prop/direct/P19'), ('labelProperty', 'place of birth'), ('objectsClasses', 'http://www.wikidata.org/entity/Q13217644,http://www.wikidata.org/entity/Q1549591,http://www.wikidata.org/entity/Q15647906'), ('labelsObjectsClasses', 'municipality of Portugal,big city,city of Portugal')]\n",
      "[('property', 'http://www.wikidata.org/prop/direct/P31'), ('labelProperty', 'instance of'), ('objectsClasses', 'http://www.wikidata.org/entity/Q55983715'), ('labelsObjectsClasses', 'organisms known by a particular common name')]\n",
      "[('property', 'http://www.wikidata.org/prop/direct/P1343'), ('labelProperty', 'described by source'), ('objectsClasses', 'http://www.wikidata.org/entity/Q186165,http://www.wikidata.org/entity/Q12038942'), ('labelsObjectsClasses', 'web portal,multimedia database')]\n",
      "[('property', 'http://www.wikidata.org/prop/direct/P463'), ('labelProperty', 'member of'), ('objectsClasses', 'http://www.wikidata.org/entity/Q1966910'), ('labelsObjectsClasses', 'national academy')]\n",
      "12\n"
     ]
    }
   ],
   "source": [
    "queryString = \"\"\"\n",
    "SELECT DISTINCT ?property ?labelProperty (GROUP_CONCAT(?objectClass ; separator = \",\")  AS ?objectsClasses) (GROUP_CONCAT(?labelObjectClass ; separator = \",\")  AS ?labelsObjectsClasses)\n",
    "WHERE \n",
    "{   \n",
    "   wd:Q1373516 ?property ?object .  \n",
    "   ?object wdt:P31 ?objectClass .\n",
    "   \n",
    "   # Labels\n",
    "   ?property sc:name ?labelProperty .      \n",
    "   ?objectClass sc:name ?labelObjectClass .\n",
    "   \n",
    "   FILTER(!isLiteral(?object)) .   \n",
    "}GROUP BY ?property ?labelProperty\n",
    "LIMIT 50\n",
    "\"\"\"\n",
    "print(\"Results\")\n",
    "x=run_query(queryString)"
   ]
  },
  {
   "cell_type": "markdown",
   "id": "1aa2eae1-9e4c-45b0-8136-21555e4d5f00",
   "metadata": {
    "tags": []
   },
   "source": [
    "### Get all the couples (object property - list of the  objects that are connected to \"Eugénio de Castro\" (wd:Q1373516) through that object property)"
   ]
  },
  {
   "cell_type": "code",
   "execution_count": 115,
   "id": "321b6e2e-b978-4fd2-9e88-20c29b61aa4f",
   "metadata": {},
   "outputs": [
    {
     "name": "stdout",
     "output_type": "stream",
     "text": [
      "Results\n",
      "[('property', 'http://www.wikidata.org/prop/direct/P735'), ('labelProperty', 'given name'), ('objects', 'http://www.wikidata.org/entity/Q21286216'), ('labelsObjects', 'Eugénio')]\n",
      "[('property', 'http://www.wikidata.org/prop/direct/P106'), ('labelProperty', 'occupation'), ('objects', 'http://www.wikidata.org/entity/Q1231865,http://www.wikidata.org/entity/Q36180,http://www.wikidata.org/entity/Q49757'), ('labelsObjects', 'pedagogue,writer,poet')]\n",
      "[('property', 'http://www.wikidata.org/prop/direct/P69'), ('labelProperty', 'educated at'), ('objects', 'http://www.wikidata.org/entity/Q368643'), ('labelsObjects', 'University of Coimbra')]\n",
      "[('property', 'http://www.wikidata.org/prop/direct/P21'), ('labelProperty', 'sex or gender'), ('objects', 'http://www.wikidata.org/entity/Q6581097'), ('labelsObjects', 'male')]\n",
      "[('property', 'http://www.wikidata.org/prop/direct/P1412'), ('labelProperty', 'languages spoken, written or signed'), ('objects', 'http://www.wikidata.org/entity/Q5146'), ('labelsObjects', 'Portuguese')]\n",
      "[('property', 'http://www.wikidata.org/prop/direct/P166'), ('labelProperty', 'award received'), ('objects', 'http://www.wikidata.org/entity/Q20886648'), ('labelsObjects', 'Grand Cross of the Military Order of Saint James of the Sword')]\n",
      "[('property', 'http://www.wikidata.org/prop/direct/P20'), ('labelProperty', 'place of death'), ('objects', 'http://www.wikidata.org/entity/Q45412'), ('labelsObjects', 'Coimbra')]\n",
      "[('property', 'http://www.wikidata.org/prop/direct/P27'), ('labelProperty', 'country of citizenship'), ('objects', 'http://www.wikidata.org/entity/Q45'), ('labelsObjects', 'Portugal')]\n",
      "[('property', 'http://www.wikidata.org/prop/direct/P19'), ('labelProperty', 'place of birth'), ('objects', 'http://www.wikidata.org/entity/Q45412'), ('labelsObjects', 'Coimbra')]\n",
      "[('property', 'http://www.wikidata.org/prop/direct/P31'), ('labelProperty', 'instance of'), ('objects', 'http://www.wikidata.org/entity/Q5'), ('labelsObjects', 'human')]\n",
      "[('property', 'http://www.wikidata.org/prop/direct/P1343'), ('labelProperty', 'described by source'), ('objects', 'http://www.wikidata.org/entity/Q67311526'), ('labelsObjects', 'Obalky knih.cz')]\n",
      "[('property', 'http://www.wikidata.org/prop/direct/P463'), ('labelProperty', 'member of'), ('objects', 'http://www.wikidata.org/entity/Q2166029'), ('labelsObjects', 'Belgium Royal Academy of French language and literature')]\n",
      "12\n"
     ]
    }
   ],
   "source": [
    "queryString = \"\"\"\n",
    "SELECT DISTINCT ?property ?labelProperty (GROUP_CONCAT(?object ; separator = \",\")  AS ?objects) (GROUP_CONCAT(?labelObject; separator = \",\")  AS ?labelsObjects)\n",
    "WHERE \n",
    "{   \n",
    "   wd:Q1373516 ?property ?object .  \n",
    " \n",
    "   # Labels\n",
    "   ?property sc:name ?labelProperty .      \n",
    "   ?object sc:name ?labelObject\n",
    "   \n",
    "   FILTER(!isLiteral(?object)) .   \n",
    "}GROUP BY ?property ?labelProperty\n",
    "LIMIT 50\n",
    "\"\"\"\n",
    "print(\"Results\")\n",
    "x=run_query(queryString)"
   ]
  },
  {
   "cell_type": "markdown",
   "id": "82c1a392-b2f5-4cd1-a435-70c3ca902c55",
   "metadata": {
    "tags": []
   },
   "source": [
    "### Get the superclass of \"public university\" (wd:Q875538)"
   ]
  },
  {
   "cell_type": "code",
   "execution_count": 123,
   "id": "cf926b96-fae7-4950-a97c-27a33f5bdb28",
   "metadata": {},
   "outputs": [
    {
     "name": "stdout",
     "output_type": "stream",
     "text": [
      "Results\n",
      "[('superClass', 'http://www.wikidata.org/entity/Q23002037'), ('labelSuperClass', 'public educational institution')]\n",
      "[('superClass', 'http://www.wikidata.org/entity/Q3918'), ('labelSuperClass', 'university')]\n",
      "2\n"
     ]
    }
   ],
   "source": [
    "queryString = \"\"\"\n",
    "SELECT ?superClass ?labelSuperClass\n",
    "WHERE \n",
    "{   \n",
    "    wd:Q875538 wdt:P279 ?superClass .\n",
    "    ?superClass sc:name ?labelSuperClass .      \n",
    "}\n",
    "LIMIT 50\n",
    "\"\"\"\n",
    "print(\"Results\")\n",
    "x=run_query(queryString)"
   ]
  },
  {
   "cell_type": "markdown",
   "id": "2a81a126-c606-4b96-b4f2-a755b4ea9add",
   "metadata": {
    "tags": []
   },
   "source": [
    "### Get all data property of \"University of Coimbra\" (wd:Q368643)"
   ]
  },
  {
   "cell_type": "code",
   "execution_count": 125,
   "id": "b6446572-b3ac-4714-be73-97798083a7a9",
   "metadata": {},
   "outputs": [
    {
     "name": "stdout",
     "output_type": "stream",
     "text": [
      "Results\n",
      "[('property', 'http://www.wikidata.org/prop/direct/P1417'), ('label', 'Encyclopædia Britannica Online ID')]\n",
      "[('property', 'http://www.wikidata.org/prop/direct/P1612'), ('label', 'Commons Institution page')]\n",
      "[('property', 'http://www.wikidata.org/prop/direct/P2002'), ('label', 'Twitter username')]\n",
      "[('property', 'http://www.wikidata.org/prop/direct/P2003'), ('label', 'Instagram username')]\n",
      "[('property', 'http://www.wikidata.org/prop/direct/P2013'), ('label', 'Facebook ID')]\n",
      "[('property', 'http://www.wikidata.org/prop/direct/P213'), ('label', 'ISNI')]\n",
      "[('property', 'http://www.wikidata.org/prop/direct/P214'), ('label', 'VIAF ID')]\n",
      "[('property', 'http://www.wikidata.org/prop/direct/P2174'), ('label', 'Museum of Modern Art artist ID')]\n",
      "[('property', 'http://www.wikidata.org/prop/direct/P227'), ('label', 'GND ID')]\n",
      "[('property', 'http://www.wikidata.org/prop/direct/P2427'), ('label', 'GRID ID')]\n",
      "[('property', 'http://www.wikidata.org/prop/direct/P244'), ('label', 'Library of Congress authority ID')]\n",
      "[('property', 'http://www.wikidata.org/prop/direct/P2657'), ('label', 'EU Transparency Register ID')]\n",
      "[('property', 'http://www.wikidata.org/prop/direct/P268'), ('label', 'Bibliothèque nationale de France ID')]\n",
      "[('property', 'http://www.wikidata.org/prop/direct/P269'), ('label', 'IdRef ID')]\n",
      "[('property', 'http://www.wikidata.org/prop/direct/P3153'), ('label', 'Crossref funder ID')]\n",
      "[('property', 'http://www.wikidata.org/prop/direct/P3417'), ('label', 'Quora topic ID')]\n",
      "[('property', 'http://www.wikidata.org/prop/direct/P3500'), ('label', 'Ringgold ID')]\n",
      "[('property', 'http://www.wikidata.org/prop/direct/P3608'), ('label', 'EU VAT number')]\n",
      "[('property', 'http://www.wikidata.org/prop/direct/P373'), ('label', 'Commons category')]\n",
      "[('property', 'http://www.wikidata.org/prop/direct/P3749'), ('label', 'Google Maps Customer ID')]\n",
      "[('property', 'http://www.wikidata.org/prop/direct/P3762'), ('label', 'openMLOL author ID')]\n",
      "[('property', 'http://www.wikidata.org/prop/direct/P3793'), ('label', 'IPv6 routing prefix')]\n",
      "[('property', 'http://www.wikidata.org/prop/direct/P3987'), ('label', 'SHARE Catalogue author ID')]\n",
      "[('property', 'http://www.wikidata.org/prop/direct/P5242'), ('label', 'ARWU university ID')]\n",
      "[('property', 'http://www.wikidata.org/prop/direct/P5584'), ('label', 'QS World University ID')]\n",
      "[('property', 'http://www.wikidata.org/prop/direct/P5586'), ('label', 'Times Higher Education World University ID')]\n",
      "[('property', 'http://www.wikidata.org/prop/direct/P5600'), ('label', 'U-Multirank university ID')]\n",
      "[('property', 'http://www.wikidata.org/prop/direct/P571'), ('label', 'inception')]\n",
      "[('property', 'http://www.wikidata.org/prop/direct/P5785'), ('label', 'EU Research participant ID')]\n",
      "[('property', 'http://www.wikidata.org/prop/direct/P6366'), ('label', 'Microsoft Academic ID')]\n",
      "[('property', 'http://www.wikidata.org/prop/direct/P646'), ('label', 'Freebase ID')]\n",
      "[('property', 'http://www.wikidata.org/prop/direct/P6773'), ('label', 'HAL structure ID')]\n",
      "[('property', 'http://www.wikidata.org/prop/direct/P6782'), ('label', 'ROR ID')]\n",
      "[('property', 'http://www.wikidata.org/prop/direct/P691'), ('label', 'NKCR AUT ID')]\n",
      "[('property', 'http://www.wikidata.org/prop/direct/P7859'), ('label', 'WorldCat Identities ID')]\n",
      "[('property', 'http://www.wikidata.org/prop/direct/P8687'), ('label', 'social media followers')]\n",
      "[('property', 'http://www.wikidata.org/prop/direct/P9226'), ('label', 'ARAE ID')]\n",
      "37\n"
     ]
    }
   ],
   "source": [
    "queryString = \"\"\"\n",
    "SELECT DISTINCT ?property ?label\n",
    "WHERE {   \n",
    "   wd:Q368643 ?property ?object .\n",
    "   ?property sc:name ?label .\n",
    "   FILTER(isLiteral(?object)) .   \n",
    "}\n",
    "\"\"\"\n",
    "print(\"Results\")\n",
    "x=run_query(queryString)"
   ]
  },
  {
   "cell_type": "markdown",
   "id": "04e1ca97-2bb1-4a80-894c-338ae23abff1",
   "metadata": {
    "tags": []
   },
   "source": [
    "### Get all data property of \"University of Coimbra\"  (wd:Q368643) that do not contain ID"
   ]
  },
  {
   "cell_type": "code",
   "execution_count": 126,
   "id": "46a0232e-9103-4a3d-b566-ab20bfe8d353",
   "metadata": {},
   "outputs": [
    {
     "name": "stdout",
     "output_type": "stream",
     "text": [
      "Results\n",
      "[('property', 'http://www.wikidata.org/prop/direct/P1612'), ('label', 'Commons Institution page')]\n",
      "[('property', 'http://www.wikidata.org/prop/direct/P2002'), ('label', 'Twitter username')]\n",
      "[('property', 'http://www.wikidata.org/prop/direct/P2003'), ('label', 'Instagram username')]\n",
      "[('property', 'http://www.wikidata.org/prop/direct/P213'), ('label', 'ISNI')]\n",
      "[('property', 'http://www.wikidata.org/prop/direct/P3608'), ('label', 'EU VAT number')]\n",
      "[('property', 'http://www.wikidata.org/prop/direct/P373'), ('label', 'Commons category')]\n",
      "[('property', 'http://www.wikidata.org/prop/direct/P3793'), ('label', 'IPv6 routing prefix')]\n",
      "[('property', 'http://www.wikidata.org/prop/direct/P571'), ('label', 'inception')]\n",
      "[('property', 'http://www.wikidata.org/prop/direct/P8687'), ('label', 'social media followers')]\n",
      "9\n"
     ]
    }
   ],
   "source": [
    "queryString = \"\"\"\n",
    "SELECT DISTINCT ?property ?label\n",
    "WHERE {   \n",
    "   wd:Q368643 ?property ?object .\n",
    "   ?property sc:name ?label .\n",
    "   FILTER(isLiteral(?object)) .\n",
    "   FILTER REGEX(?label, \"^((?!ID).)*$\") . \n",
    "}\n",
    "\"\"\"\n",
    "print(\"Results\")\n",
    "x=run_query(queryString)"
   ]
  },
  {
   "cell_type": "markdown",
   "id": "c1c1b7a7-589c-42ec-8ec2-5d17bbd2f164",
   "metadata": {
    "tags": []
   },
   "source": [
    "### Get the class of \"University of Coimbra\" (wd:Q368643)"
   ]
  },
  {
   "cell_type": "code",
   "execution_count": 127,
   "id": "b5ae7cf2-b1d2-4b5f-9f93-49adc657a0c3",
   "metadata": {},
   "outputs": [
    {
     "name": "stdout",
     "output_type": "stream",
     "text": [
      "Results\n",
      "[('class', 'http://www.wikidata.org/entity/Q45400320'), ('label', 'open-access publisher')]\n",
      "[('class', 'http://www.wikidata.org/entity/Q875538'), ('label', 'public university')]\n",
      "2\n"
     ]
    }
   ],
   "source": [
    "queryString = \"\"\"\n",
    "SELECT DISTINCT ?class ?label\n",
    "WHERE {   \n",
    "   wd:Q368643 wdt:P31 ?class .\n",
    "   ?class sc:name ?label .     \n",
    "}\n",
    "\"\"\"\n",
    "print(\"Results\")\n",
    "x=run_query(queryString)"
   ]
  },
  {
   "cell_type": "markdown",
   "id": "797da22c-028c-4c2f-a35a-b7eb76c63dd1",
   "metadata": {
    "tags": []
   },
   "source": [
    "### Get all object properties of \"University of Coimbra\"  (wd:Q368643)"
   ]
  },
  {
   "cell_type": "code",
   "execution_count": 128,
   "id": "76fcee85-c196-48b5-bd28-5ae3844341e6",
   "metadata": {},
   "outputs": [
    {
     "name": "stdout",
     "output_type": "stream",
     "text": [
      "Results\n",
      "[('property', 'http://www.wikidata.org/prop/direct/P112'), ('label', 'founded by')]\n",
      "[('property', 'http://www.wikidata.org/prop/direct/P131'), ('label', 'located in the administrative territorial entity')]\n",
      "[('property', 'http://www.wikidata.org/prop/direct/P1416'), ('label', 'affiliation')]\n",
      "[('property', 'http://www.wikidata.org/prop/direct/P154'), ('label', 'logo image')]\n",
      "[('property', 'http://www.wikidata.org/prop/direct/P159'), ('label', 'headquarters location')]\n",
      "[('property', 'http://www.wikidata.org/prop/direct/P166'), ('label', 'award received')]\n",
      "[('property', 'http://www.wikidata.org/prop/direct/P17'), ('label', 'country')]\n",
      "[('property', 'http://www.wikidata.org/prop/direct/P18'), ('label', 'image')]\n",
      "[('property', 'http://www.wikidata.org/prop/direct/P27'), ('label', 'country of citizenship')]\n",
      "[('property', 'http://www.wikidata.org/prop/direct/P2936'), ('label', 'language used')]\n",
      "[('property', 'http://www.wikidata.org/prop/direct/P31'), ('label', 'instance of')]\n",
      "[('property', 'http://www.wikidata.org/prop/direct/P355'), ('label', 'subsidiary')]\n",
      "[('property', 'http://www.wikidata.org/prop/direct/P3876'), ('label', 'category for alumni of educational institution')]\n",
      "[('property', 'http://www.wikidata.org/prop/direct/P4195'), ('label', 'category for employees of the organization')]\n",
      "[('property', 'http://www.wikidata.org/prop/direct/P463'), ('label', 'member of')]\n",
      "[('property', 'http://www.wikidata.org/prop/direct/P6269'), ('label', 'API endpoint')]\n",
      "[('property', 'http://www.wikidata.org/prop/direct/P856'), ('label', 'official website')]\n",
      "[('property', 'http://www.wikidata.org/prop/direct/P8933'), ('label', 'category for the view from the item')]\n",
      "[('property', 'http://www.wikidata.org/prop/direct/P8989'), ('label', 'category for the view of the item')]\n",
      "[('property', 'http://www.wikidata.org/prop/direct/P910'), ('label', \"topic's main category\")]\n",
      "20\n"
     ]
    }
   ],
   "source": [
    "queryString = \"\"\"\n",
    "SELECT DISTINCT ?property ?label\n",
    "WHERE {   \n",
    "   wd:Q368643 ?property ?object .\n",
    "   ?property sc:name ?label .\n",
    "   FILTER(!isLiteral(?object)) .   \n",
    "}\n",
    "\"\"\"\n",
    "\n",
    "print(\"Results\")\n",
    "x=run_query(queryString)"
   ]
  },
  {
   "cell_type": "markdown",
   "id": "b45f5695-bde1-4583-a74a-3940e89c0357",
   "metadata": {
    "tags": []
   },
   "source": [
    "### Get all the classes connected to \"University of Coimbra\"  (wd:Q368643)"
   ]
  },
  {
   "cell_type": "code",
   "execution_count": 129,
   "id": "d9d3397e-eb10-47c8-9a6c-88c6453ffc75",
   "metadata": {},
   "outputs": [
    {
     "name": "stdout",
     "output_type": "stream",
     "text": [
      "Results\n",
      "[('objectClass', 'http://www.wikidata.org/entity/Q3457065'), ('label', 'university network')]\n",
      "[('objectClass', 'http://www.wikidata.org/entity/Q19844914'), ('label', 'university building')]\n",
      "[('objectClass', 'http://www.wikidata.org/entity/Q4671277'), ('label', 'academic institution')]\n",
      "[('objectClass', 'http://www.wikidata.org/entity/Q618779'), ('label', 'award')]\n",
      "[('objectClass', 'http://www.wikidata.org/entity/Q13226383'), ('label', 'facility')]\n",
      "[('objectClass', 'http://www.wikidata.org/entity/Q1288568'), ('label', 'modern language')]\n",
      "[('objectClass', 'http://www.wikidata.org/entity/Q13217644'), ('label', 'municipality of Portugal')]\n",
      "[('objectClass', 'http://www.wikidata.org/entity/Q1549591'), ('label', 'big city')]\n",
      "[('objectClass', 'http://www.wikidata.org/entity/Q15647906'), ('label', 'city of Portugal')]\n",
      "[('objectClass', 'http://www.wikidata.org/entity/Q20181813'), ('label', 'colonial power')]\n",
      "[('objectClass', 'http://www.wikidata.org/entity/Q34770'), ('label', 'language')]\n",
      "[('objectClass', 'http://www.wikidata.org/entity/Q3624078'), ('label', 'sovereign state')]\n",
      "[('objectClass', 'http://www.wikidata.org/entity/Q4167836'), ('label', 'Wikimedia category')]\n",
      "[('objectClass', 'http://www.wikidata.org/entity/Q43229'), ('label', 'organization')]\n",
      "[('objectClass', 'http://www.wikidata.org/entity/Q5'), ('label', 'human')]\n",
      "[('objectClass', 'http://www.wikidata.org/entity/Q6256'), ('label', 'country')]\n",
      "[('objectClass', 'http://www.wikidata.org/entity/Q210272'), ('label', 'cultural heritage')]\n",
      "[('objectClass', 'http://www.wikidata.org/entity/Q180958'), ('label', 'faculty')]\n",
      "[('objectClass', 'http://www.wikidata.org/entity/Q60754876'), ('label', 'grade of an order')]\n",
      "[('objectClass', 'http://www.wikidata.org/entity/Q62091513'), ('label', 'faculty of science')]\n",
      "[('objectClass', 'http://www.wikidata.org/entity/Q57314035'), ('label', 'faculty of medicine')]\n",
      "[('objectClass', 'http://www.wikidata.org/entity/Q3053337'), ('label', 'employer')]\n",
      "[('objectClass', 'http://www.wikidata.org/entity/Q105627182'), ('label', 'European University')]\n",
      "23\n"
     ]
    }
   ],
   "source": [
    "queryString = \"\"\"\n",
    "SELECT DISTINCT ?objectClass ?label\n",
    "WHERE {   \n",
    "   wd:Q368643 ?property ?object .\n",
    "   ?object wdt:P31 ?objectClass .\n",
    "   ?objectClass sc:name ?label .\n",
    "   FILTER(!isLiteral(?object)) .   \n",
    "}\n",
    "\"\"\"\n",
    "print(\"Results\")\n",
    "x=run_query(queryString)"
   ]
  },
  {
   "cell_type": "markdown",
   "id": "299a5393-5ff7-4f12-9cf9-c577a712f405",
   "metadata": {
    "tags": []
   },
   "source": [
    "### Get all the couples (object property - list of the classes of the objects that are connected to \"University of Coimbra\"  (wd:Q368643) through that object property)"
   ]
  },
  {
   "cell_type": "code",
   "execution_count": 130,
   "id": "4b809111-8acf-4a44-a89d-52ee6e1b0ea6",
   "metadata": {},
   "outputs": [
    {
     "name": "stdout",
     "output_type": "stream",
     "text": [
      "Results\n",
      "[('property', 'http://www.wikidata.org/prop/direct/P17'), ('labelProperty', 'country'), ('objectsClasses', 'http://www.wikidata.org/entity/Q20181813,http://www.wikidata.org/entity/Q3624078,http://www.wikidata.org/entity/Q6256'), ('labelsObjectsClasses', 'colonial power,sovereign state,country')]\n",
      "[('property', 'http://www.wikidata.org/prop/direct/P166'), ('labelProperty', 'award received'), ('objectsClasses', 'http://www.wikidata.org/entity/Q618779,http://www.wikidata.org/entity/Q60754876'), ('labelsObjectsClasses', 'award,grade of an order')]\n",
      "[('property', 'http://www.wikidata.org/prop/direct/P8989'), ('labelProperty', 'category for the view of the item'), ('objectsClasses', 'http://www.wikidata.org/entity/Q4167836'), ('labelsObjectsClasses', 'Wikimedia category')]\n",
      "[('property', 'http://www.wikidata.org/prop/direct/P8933'), ('labelProperty', 'category for the view from the item'), ('objectsClasses', 'http://www.wikidata.org/entity/Q4167836'), ('labelsObjectsClasses', 'Wikimedia category')]\n",
      "[('property', 'http://www.wikidata.org/prop/direct/P131'), ('labelProperty', 'located in the administrative territorial entity'), ('objectsClasses', 'http://www.wikidata.org/entity/Q13217644,http://www.wikidata.org/entity/Q1549591,http://www.wikidata.org/entity/Q15647906'), ('labelsObjectsClasses', 'municipality of Portugal,big city,city of Portugal')]\n",
      "[('property', 'http://www.wikidata.org/prop/direct/P4195'), ('labelProperty', 'category for employees of the organization'), ('objectsClasses', 'http://www.wikidata.org/entity/Q4167836'), ('labelsObjectsClasses', 'Wikimedia category')]\n",
      "[('property', 'http://www.wikidata.org/prop/direct/P112'), ('labelProperty', 'founded by'), ('objectsClasses', 'http://www.wikidata.org/entity/Q5'), ('labelsObjectsClasses', 'human')]\n",
      "[('property', 'http://www.wikidata.org/prop/direct/P2936'), ('labelProperty', 'language used'), ('objectsClasses', 'http://www.wikidata.org/entity/Q1288568,http://www.wikidata.org/entity/Q34770'), ('labelsObjectsClasses', 'modern language,language')]\n",
      "[('property', 'http://www.wikidata.org/prop/direct/P355'), ('labelProperty', 'subsidiary'), ('objectsClasses', 'http://www.wikidata.org/entity/Q19844914,http://www.wikidata.org/entity/Q4671277,http://www.wikidata.org/entity/Q13226383,http://www.wikidata.org/entity/Q43229,http://www.wikidata.org/entity/Q210272,http://www.wikidata.org/entity/Q180958,http://www.wikidata.org/entity/Q62091513,http://www.wikidata.org/entity/Q57314035,http://www.wikidata.org/entity/Q3053337'), ('labelsObjectsClasses', 'university building,academic institution,facility,organization,cultural heritage,faculty,faculty of science,faculty of medicine,employer')]\n",
      "[('property', 'http://www.wikidata.org/prop/direct/P27'), ('labelProperty', 'country of citizenship'), ('objectsClasses', 'http://www.wikidata.org/entity/Q20181813,http://www.wikidata.org/entity/Q3624078,http://www.wikidata.org/entity/Q6256'), ('labelsObjectsClasses', 'colonial power,sovereign state,country')]\n",
      "[('property', 'http://www.wikidata.org/prop/direct/P1416'), ('labelProperty', 'affiliation'), ('objectsClasses', 'http://www.wikidata.org/entity/Q3457065'), ('labelsObjectsClasses', 'university network')]\n",
      "[('property', 'http://www.wikidata.org/prop/direct/P910'), ('labelProperty', \"topic's main category\"), ('objectsClasses', 'http://www.wikidata.org/entity/Q4167836'), ('labelsObjectsClasses', 'Wikimedia category')]\n",
      "[('property', 'http://www.wikidata.org/prop/direct/P463'), ('labelProperty', 'member of'), ('objectsClasses', 'http://www.wikidata.org/entity/Q3457065,http://www.wikidata.org/entity/Q3457065,http://www.wikidata.org/entity/Q3457065,http://www.wikidata.org/entity/Q105627182'), ('labelsObjectsClasses', 'university network,university network,university network,European University')]\n",
      "[('property', 'http://www.wikidata.org/prop/direct/P3876'), ('labelProperty', 'category for alumni of educational institution'), ('objectsClasses', 'http://www.wikidata.org/entity/Q4167836'), ('labelsObjectsClasses', 'Wikimedia category')]\n",
      "[('property', 'http://www.wikidata.org/prop/direct/P159'), ('labelProperty', 'headquarters location'), ('objectsClasses', 'http://www.wikidata.org/entity/Q13217644,http://www.wikidata.org/entity/Q1549591,http://www.wikidata.org/entity/Q15647906'), ('labelsObjectsClasses', 'municipality of Portugal,big city,city of Portugal')]\n",
      "15\n"
     ]
    }
   ],
   "source": [
    "queryString = \"\"\"\n",
    "SELECT DISTINCT ?property ?labelProperty (GROUP_CONCAT(?objectClass ; separator = \",\")  AS ?objectsClasses) (GROUP_CONCAT(?labelObjectClass ; separator = \",\")  AS ?labelsObjectsClasses)\n",
    "WHERE \n",
    "{   \n",
    "   wd:Q368643 ?property ?object .  \n",
    "   ?object wdt:P31 ?objectClass .\n",
    "   \n",
    "   # Labels\n",
    "   ?property sc:name ?labelProperty .      \n",
    "   ?objectClass sc:name ?labelObjectClass .\n",
    "   \n",
    "   FILTER(!isLiteral(?object)) .   \n",
    "}GROUP BY ?property ?labelProperty\n",
    "LIMIT 50\n",
    "\"\"\"\n",
    "print(\"Results\")\n",
    "x=run_query(queryString)"
   ]
  },
  {
   "cell_type": "markdown",
   "id": "21c33e36-ce86-4184-a3cb-0cdb9a02fce9",
   "metadata": {
    "tags": []
   },
   "source": [
    "### Get all the couples (object property - list of the objects that are connected to \"University of Coimbra\" (wd:Q368643) through that object property)"
   ]
  },
  {
   "cell_type": "code",
   "execution_count": 124,
   "id": "e0cdeade-4cd3-4885-9203-8f0900de613d",
   "metadata": {},
   "outputs": [
    {
     "name": "stdout",
     "output_type": "stream",
     "text": [
      "Results\n",
      "[('property', 'http://www.wikidata.org/prop/direct/P17'), ('labelProperty', 'country'), ('objects', 'http://www.wikidata.org/entity/Q45'), ('labelsObjects', 'Portugal')]\n",
      "[('property', 'http://www.wikidata.org/prop/direct/P166'), ('labelProperty', 'award received'), ('objects', 'http://www.wikidata.org/entity/Q20886648,http://www.wikidata.org/entity/Q3321940'), ('labelsObjects', 'Grand Cross of the Military Order of Saint James of the Sword,Princess of Asturias Award for International Cooperation')]\n",
      "[('property', 'http://www.wikidata.org/prop/direct/P8989'), ('labelProperty', 'category for the view of the item'), ('objects', 'http://www.wikidata.org/entity/Q104600561'), ('labelsObjects', 'Category:Views of Universidade de Coimbra')]\n",
      "[('property', 'http://www.wikidata.org/prop/direct/P8933'), ('labelProperty', 'category for the view from the item'), ('objects', 'http://www.wikidata.org/entity/Q104235388'), ('labelsObjects', 'Category:Views from Universidade de Coimbra')]\n",
      "[('property', 'http://www.wikidata.org/prop/direct/P131'), ('labelProperty', 'located in the administrative territorial entity'), ('objects', 'http://www.wikidata.org/entity/Q45412'), ('labelsObjects', 'Coimbra')]\n",
      "[('property', 'http://www.wikidata.org/prop/direct/P4195'), ('labelProperty', 'category for employees of the organization'), ('objects', 'http://www.wikidata.org/entity/Q8883023'), ('labelsObjects', 'Category:University of Coimbra faculty')]\n",
      "[('property', 'http://www.wikidata.org/prop/direct/P112'), ('labelProperty', 'founded by'), ('objects', 'http://www.wikidata.org/entity/Q212890'), ('labelsObjects', 'Denis I of Portugal')]\n",
      "[('property', 'http://www.wikidata.org/prop/direct/P2936'), ('labelProperty', 'language used'), ('objects', 'http://www.wikidata.org/entity/Q5146'), ('labelsObjects', 'Portuguese')]\n",
      "[('property', 'http://www.wikidata.org/prop/direct/P355'), ('labelProperty', 'subsidiary'), ('objects', 'http://www.wikidata.org/entity/Q10279530,http://www.wikidata.org/entity/Q10279395,http://www.wikidata.org/entity/Q30283242,http://www.wikidata.org/entity/Q28678341,http://www.wikidata.org/entity/Q45133960'), ('labelsObjects', 'Faculdade de Medicina da Universidade de Coimbra,FCTUC,Centro em Rede de Investigação em Antropologia,Colégio das Ordens Militares,Centre for Mathematics, University of Coimbra')]\n",
      "[('property', 'http://www.wikidata.org/prop/direct/P27'), ('labelProperty', 'country of citizenship'), ('objects', 'http://www.wikidata.org/entity/Q45'), ('labelsObjects', 'Portugal')]\n",
      "[('property', 'http://www.wikidata.org/prop/direct/P31'), ('labelProperty', 'instance of'), ('objects', 'http://www.wikidata.org/entity/Q45400320,http://www.wikidata.org/entity/Q875538'), ('labelsObjects', 'open-access publisher,public university')]\n",
      "[('property', 'http://www.wikidata.org/prop/direct/P1416'), ('labelProperty', 'affiliation'), ('objects', 'http://www.wikidata.org/entity/Q868940'), ('labelsObjects', 'European University Association')]\n",
      "[('property', 'http://www.wikidata.org/prop/direct/P910'), ('labelProperty', \"topic's main category\"), ('objects', 'http://www.wikidata.org/entity/Q8952315'), ('labelsObjects', 'Category:University of Coimbra')]\n",
      "[('property', 'http://www.wikidata.org/prop/direct/P463'), ('labelProperty', 'member of'), ('objects', 'http://www.wikidata.org/entity/Q868940,http://www.wikidata.org/entity/Q211620,http://www.wikidata.org/entity/Q39129,http://www.wikidata.org/entity/Q105627243'), ('labelsObjects', 'European University Association,Coimbra Group,Utrecht Network,European Campus of City‑Universities')]\n",
      "[('property', 'http://www.wikidata.org/prop/direct/P3876'), ('labelProperty', 'category for alumni of educational institution'), ('objects', 'http://www.wikidata.org/entity/Q9407868'), ('labelsObjects', 'Category:University of Coimbra alumni')]\n",
      "[('property', 'http://www.wikidata.org/prop/direct/P159'), ('labelProperty', 'headquarters location'), ('objects', 'http://www.wikidata.org/entity/Q45412'), ('labelsObjects', 'Coimbra')]\n",
      "16\n"
     ]
    }
   ],
   "source": [
    "queryString = \"\"\"\n",
    "SELECT DISTINCT ?property ?labelProperty (GROUP_CONCAT(?object ; separator = \",\")  AS ?objects) (GROUP_CONCAT(?labelObject; separator = \",\")  AS ?labelsObjects)\n",
    "WHERE \n",
    "{   \n",
    "   wd:Q368643 ?property ?object .  \n",
    " \n",
    "   # Labels\n",
    "   ?property sc:name ?labelProperty .      \n",
    "   ?object sc:name ?labelObject\n",
    "   \n",
    "   FILTER(!isLiteral(?object)) .   \n",
    "}GROUP BY ?property ?labelProperty\n",
    "LIMIT 50\n",
    "\"\"\"\n",
    "print(\"Results\")\n",
    "x=run_query(queryString)"
   ]
  },
  {
   "cell_type": "markdown",
   "id": "7f973b87-9057-4b48-8fc4-bc5cf3781a65",
   "metadata": {
    "tags": []
   },
   "source": [
    "### Get URI of \"Italy\""
   ]
  },
  {
   "cell_type": "code",
   "execution_count": 131,
   "id": "026a578f-4271-4973-acec-24d39bec814a",
   "metadata": {},
   "outputs": [
    {
     "name": "stdout",
     "output_type": "stream",
     "text": [
      "Results\n",
      "[('nation', 'http://www.wikidata.org/entity/Q172579'), ('labelNation', 'Kingdom of Italy')]\n",
      "[('nation', 'http://www.wikidata.org/entity/Q38'), ('labelNation', 'Italy')]\n",
      "[('nation', 'http://www.wikidata.org/entity/Q223936'), ('labelNation', 'Kingdom of Italy')]\n",
      "[('nation', 'http://www.wikidata.org/entity/Q2268597'), ('labelNation', 'United Provinces of Central Italy')]\n",
      "[('nation', 'http://www.wikidata.org/entity/Q838931'), ('labelNation', 'Kingdom of Italy')]\n",
      "[('nation', 'http://www.wikidata.org/entity/Q1098499'), ('labelNation', 'Kingdom of Italy')]\n",
      "[('nation', 'http://www.wikidata.org/entity/Q207989'), ('labelNation', 'Southern Italy')]\n",
      "[('nation', 'http://www.wikidata.org/entity/Q913582'), ('labelNation', 'Roman Italy')]\n",
      "[('nation', 'http://www.wikidata.org/entity/Q48742118'), ('labelNation', 'Kingdom of Italy under Fascism')]\n",
      "[('nation', 'http://www.wikidata.org/entity/Q66477411'), ('labelNation', 'Italy')]\n",
      "[('nation', 'http://www.wikidata.org/entity/Q2643575'), ('labelNation', 'history of the Kingdom of Italy')]\n",
      "[('nation', 'http://www.wikidata.org/entity/Q3155864'), ('labelNation', 'Geographical region of Italy')]\n",
      "12\n"
     ]
    }
   ],
   "source": [
    "queryString = \"\"\"\n",
    "SELECT DISTINCT ?nation ?labelNation\n",
    "WHERE \n",
    "{   \n",
    "    ?sbj wdt:P27 ?nation ;\n",
    "         wdt:P31 wd:Q5 .\n",
    "    ?nation sc:name ?labelNation .\n",
    "    FILTER CONTAINS(?labelNation, \"Italy\") .\n",
    "}\n",
    "LIMIT 50\n",
    "\"\"\"\n",
    "print(\"Results\")\n",
    "x=run_query(queryString)"
   ]
  },
  {
   "cell_type": "markdown",
   "id": "14cd1e6e-8aa0-4445-8916-ac2527cf59b8",
   "metadata": {
    "tags": []
   },
   "source": [
    "### Get all data property of \"Florence\" (wd:Q2044)"
   ]
  },
  {
   "cell_type": "code",
   "execution_count": 5,
   "id": "15a364ff-3109-4bdb-9e2a-296606478ad2",
   "metadata": {},
   "outputs": [
    {
     "name": "stdout",
     "output_type": "stream",
     "text": [
      "Results\n",
      "[('property', 'http://www.wikidata.org/prop/direct/P1036'), ('label', 'Dewey Decimal Classification')]\n",
      "[('property', 'http://www.wikidata.org/prop/direct/P1082'), ('label', 'population')]\n",
      "[('property', 'http://www.wikidata.org/prop/direct/P1225'), ('label', 'U.S. National Archives Identifier')]\n",
      "[('property', 'http://www.wikidata.org/prop/direct/P1245'), ('label', 'OmegaWiki Defined Meaning')]\n",
      "[('property', 'http://www.wikidata.org/prop/direct/P1296'), ('label', 'Gran Enciclopèdia Catalana ID')]\n",
      "[('property', 'http://www.wikidata.org/prop/direct/P1417'), ('label', 'Encyclopædia Britannica Online ID')]\n",
      "[('property', 'http://www.wikidata.org/prop/direct/P1438'), ('label', 'Jewish Encyclopedia ID (Russian)')]\n",
      "[('property', 'http://www.wikidata.org/prop/direct/P1449'), ('label', 'nickname')]\n",
      "[('property', 'http://www.wikidata.org/prop/direct/P1566'), ('label', 'GeoNames ID')]\n",
      "[('property', 'http://www.wikidata.org/prop/direct/P1667'), ('label', 'Getty Thesaurus of Geographic Names ID')]\n",
      "[('property', 'http://www.wikidata.org/prop/direct/P1937'), ('label', 'UN/LOCODE')]\n",
      "[('property', 'http://www.wikidata.org/prop/direct/P1997'), ('label', 'Facebook Places ID')]\n",
      "[('property', 'http://www.wikidata.org/prop/direct/P2013'), ('label', 'Facebook ID')]\n",
      "[('property', 'http://www.wikidata.org/prop/direct/P2044'), ('label', 'elevation above sea level')]\n",
      "[('property', 'http://www.wikidata.org/prop/direct/P2046'), ('label', 'area')]\n",
      "[('property', 'http://www.wikidata.org/prop/direct/P214'), ('label', 'VIAF ID')]\n",
      "[('property', 'http://www.wikidata.org/prop/direct/P2186'), ('label', 'Wiki Loves Monuments ID')]\n",
      "[('property', 'http://www.wikidata.org/prop/direct/P227'), ('label', 'GND ID')]\n",
      "[('property', 'http://www.wikidata.org/prop/direct/P2347'), ('label', 'YSO ID')]\n",
      "[('property', 'http://www.wikidata.org/prop/direct/P244'), ('label', 'Library of Congress authority ID')]\n",
      "[('property', 'http://www.wikidata.org/prop/direct/P268'), ('label', 'Bibliothèque nationale de France ID')]\n",
      "[('property', 'http://www.wikidata.org/prop/direct/P281'), ('label', 'postal code')]\n",
      "[('property', 'http://www.wikidata.org/prop/direct/P2924'), ('label', 'Great Russian Encyclopedia Online ID')]\n",
      "[('property', 'http://www.wikidata.org/prop/direct/P3222'), ('label', 'NE.se ID')]\n",
      "[('property', 'http://www.wikidata.org/prop/direct/P3241'), ('label', 'Catholic Encyclopedia ID')]\n",
      "[('property', 'http://www.wikidata.org/prop/direct/P3417'), ('label', 'Quora topic ID')]\n",
      "[('property', 'http://www.wikidata.org/prop/direct/P349'), ('label', 'National Diet Library ID')]\n",
      "[('property', 'http://www.wikidata.org/prop/direct/P3553'), ('label', 'Zhihu topic ID')]\n",
      "[('property', 'http://www.wikidata.org/prop/direct/P373'), ('label', 'Commons category')]\n",
      "[('property', 'http://www.wikidata.org/prop/direct/P395'), ('label', 'licence plate code')]\n",
      "[('property', 'http://www.wikidata.org/prop/direct/P402'), ('label', 'OpenStreetMap relation ID')]\n",
      "[('property', 'http://www.wikidata.org/prop/direct/P4212'), ('label', 'PACTOLS thesaurus ID')]\n",
      "[('property', 'http://www.wikidata.org/prop/direct/P4342'), ('label', 'Store norske leksikon ID')]\n",
      "[('property', 'http://www.wikidata.org/prop/direct/P4672'), ('label', 'EMLO location ID')]\n",
      "[('property', 'http://www.wikidata.org/prop/direct/P473'), ('label', 'local dialing code')]\n",
      "[('property', 'http://www.wikidata.org/prop/direct/P5063'), ('label', 'Interlingual Index ID')]\n",
      "[('property', 'http://www.wikidata.org/prop/direct/P5573'), ('label', 'archINFORM location ID')]\n",
      "[('property', 'http://www.wikidata.org/prop/direct/P5587'), ('label', 'Libris-URI')]\n",
      "[('property', 'http://www.wikidata.org/prop/direct/P5843'), ('label', 'Gynopedia ID')]\n",
      "[('property', 'http://www.wikidata.org/prop/direct/P5905'), ('label', 'Comic Vine ID')]\n",
      "[('property', 'http://www.wikidata.org/prop/direct/P605'), ('label', 'NUTS code')]\n",
      "[('property', 'http://www.wikidata.org/prop/direct/P635'), ('label', 'ISTAT ID')]\n",
      "[('property', 'http://www.wikidata.org/prop/direct/P6404'), ('label', \"Treccani's Dizionario di Storia ID\")]\n",
      "[('property', 'http://www.wikidata.org/prop/direct/P646'), ('label', 'Freebase ID')]\n",
      "[('property', 'http://www.wikidata.org/prop/direct/P6573'), ('label', 'Klexikon article ID')]\n",
      "[('property', 'http://www.wikidata.org/prop/direct/P6766'), ('label', \"Who's on First ID\")]\n",
      "[('property', 'http://www.wikidata.org/prop/direct/P6821'), ('label', 'Uppsala University Alvin ID')]\n",
      "[('property', 'http://www.wikidata.org/prop/direct/P6832'), ('label', 'IndicePA ID')]\n",
      "[('property', 'http://www.wikidata.org/prop/direct/P691'), ('label', 'NKCR AUT ID')]\n",
      "[('property', 'http://www.wikidata.org/prop/direct/P7818'), ('label', 'French Vikidia ID')]\n",
      "[('property', 'http://www.wikidata.org/prop/direct/P7822'), ('label', 'Italian Vikidia ID')]\n",
      "[('property', 'http://www.wikidata.org/prop/direct/P7827'), ('label', 'Spanish Vikidia ID')]\n",
      "[('property', 'http://www.wikidata.org/prop/direct/P7850'), ('label', 'Joconde location ID')]\n",
      "[('property', 'http://www.wikidata.org/prop/direct/P7859'), ('label', 'WorldCat Identities ID')]\n",
      "[('property', 'http://www.wikidata.org/prop/direct/P7960'), ('label', 'Joconde discovery ID')]\n",
      "[('property', 'http://www.wikidata.org/prop/direct/P7982'), ('label', 'Hrvatska enciklopedija ID')]\n",
      "[('property', 'http://www.wikidata.org/prop/direct/P806'), ('label', 'Italian cadastre code (municipality)')]\n",
      "[('property', 'http://www.wikidata.org/prop/direct/P8168'), ('label', 'FactGrid item ID')]\n",
      "[('property', 'http://www.wikidata.org/prop/direct/P8406'), ('label', 'Grove Art Online ID')]\n",
      "[('property', 'http://www.wikidata.org/prop/direct/P8432'), ('label', 'Österreichisches Musiklexikon Online ID')]\n",
      "[('property', 'http://www.wikidata.org/prop/direct/P8519'), ('label', 'RKD thesaurus ID')]\n",
      "[('property', 'http://www.wikidata.org/prop/direct/P8590'), ('label', 'Jewish Encyclopedia ID')]\n",
      "[('property', 'http://www.wikidata.org/prop/direct/P8814'), ('label', 'WordNet 3.1 Synset ID')]\n",
      "[('property', 'http://www.wikidata.org/prop/direct/P8974'), ('label', 'SAPA ID')]\n",
      "[('property', 'http://www.wikidata.org/prop/direct/P902'), ('label', 'HDS ID')]\n",
      "[('property', 'http://www.wikidata.org/prop/direct/P9037'), ('label', 'BHCL UUID')]\n",
      "[('property', 'http://www.wikidata.org/prop/direct/P9223'), ('label', 'Provenio UUID')]\n",
      "[('property', 'http://www.wikidata.org/prop/direct/P9314'), ('label', 'Latin Place Names ID')]\n",
      "[('property', 'http://www.wikidata.org/prop/direct/P935'), ('label', 'Commons gallery')]\n",
      "[('property', 'http://www.wikidata.org/prop/direct/P9757'), ('label', 'Schoenberg Database of Manuscripts place ID')]\n",
      "[('property', 'http://www.wikidata.org/prop/direct/P982'), ('label', 'MusicBrainz area ID')]\n",
      "[('property', 'http://www.wikidata.org/prop/direct/P9886'), ('label', 'TermCymru ID')]\n",
      "[('property', 'http://www.wikidata.org/prop/direct/P998'), ('label', 'Curlie ID')]\n",
      "73\n"
     ]
    }
   ],
   "source": [
    "queryString = \"\"\"\n",
    "SELECT DISTINCT ?property ?label\n",
    "WHERE {   \n",
    "   wd:Q2044 ?property ?object .\n",
    "   ?property sc:name ?label .\n",
    "   FILTER(isLiteral(?object)) .   \n",
    "}\n",
    "\"\"\"\n",
    "print(\"Results\")\n",
    "x=run_query(queryString)"
   ]
  },
  {
   "cell_type": "markdown",
   "id": "38cc589c-2056-47a9-a42e-586d68e2a9ad",
   "metadata": {
    "tags": []
   },
   "source": [
    "### Get all data property of \"Florence\"  (wd:Q2044) that do not contain ID"
   ]
  },
  {
   "cell_type": "code",
   "execution_count": 6,
   "id": "a781bc19-7fb6-44b3-a40e-3fbd2829f350",
   "metadata": {},
   "outputs": [
    {
     "name": "stdout",
     "output_type": "stream",
     "text": [
      "Results\n",
      "[('property', 'http://www.wikidata.org/prop/direct/P1036'), ('label', 'Dewey Decimal Classification')]\n",
      "[('property', 'http://www.wikidata.org/prop/direct/P1082'), ('label', 'population')]\n",
      "[('property', 'http://www.wikidata.org/prop/direct/P1225'), ('label', 'U.S. National Archives Identifier')]\n",
      "[('property', 'http://www.wikidata.org/prop/direct/P1245'), ('label', 'OmegaWiki Defined Meaning')]\n",
      "[('property', 'http://www.wikidata.org/prop/direct/P1449'), ('label', 'nickname')]\n",
      "[('property', 'http://www.wikidata.org/prop/direct/P1937'), ('label', 'UN/LOCODE')]\n",
      "[('property', 'http://www.wikidata.org/prop/direct/P2044'), ('label', 'elevation above sea level')]\n",
      "[('property', 'http://www.wikidata.org/prop/direct/P2046'), ('label', 'area')]\n",
      "[('property', 'http://www.wikidata.org/prop/direct/P281'), ('label', 'postal code')]\n",
      "[('property', 'http://www.wikidata.org/prop/direct/P373'), ('label', 'Commons category')]\n",
      "[('property', 'http://www.wikidata.org/prop/direct/P395'), ('label', 'licence plate code')]\n",
      "[('property', 'http://www.wikidata.org/prop/direct/P473'), ('label', 'local dialing code')]\n",
      "[('property', 'http://www.wikidata.org/prop/direct/P5587'), ('label', 'Libris-URI')]\n",
      "[('property', 'http://www.wikidata.org/prop/direct/P605'), ('label', 'NUTS code')]\n",
      "[('property', 'http://www.wikidata.org/prop/direct/P806'), ('label', 'Italian cadastre code (municipality)')]\n",
      "[('property', 'http://www.wikidata.org/prop/direct/P935'), ('label', 'Commons gallery')]\n",
      "16\n"
     ]
    }
   ],
   "source": [
    "queryString = \"\"\"\n",
    "SELECT DISTINCT ?property ?label\n",
    "WHERE {   \n",
    "   wd:Q2044 ?property ?object .\n",
    "   ?property sc:name ?label .\n",
    "   FILTER(isLiteral(?object)) .\n",
    "   FILTER REGEX(?label, \"^((?!ID).)*$\") . \n",
    "}\n",
    "\"\"\"\n",
    "print(\"Results\")\n",
    "x=run_query(queryString)"
   ]
  },
  {
   "cell_type": "markdown",
   "id": "18f7f72d-3da1-4094-9cbc-827a73746255",
   "metadata": {
    "tags": []
   },
   "source": [
    "### Get the class of \"Florence\" (wd:Q2044)"
   ]
  },
  {
   "cell_type": "code",
   "execution_count": 7,
   "id": "49c381f4-cd88-4269-97a9-1b20c1aff845",
   "metadata": {},
   "outputs": [
    {
     "name": "stdout",
     "output_type": "stream",
     "text": [
      "Results\n",
      "[('class', 'http://www.wikidata.org/entity/Q1549591'), ('label', 'big city')]\n",
      "[('class', 'http://www.wikidata.org/entity/Q515'), ('label', 'city')]\n",
      "[('class', 'http://www.wikidata.org/entity/Q747074'), ('label', 'comune of Italy')]\n",
      "3\n"
     ]
    }
   ],
   "source": [
    "queryString = \"\"\"\n",
    "SELECT DISTINCT ?class ?label\n",
    "WHERE {   \n",
    "   wd:Q2044 wdt:P31 ?class .\n",
    "   ?class sc:name ?label .     \n",
    "}\n",
    "\"\"\"\n",
    "print(\"Results\")\n",
    "x=run_query(queryString)"
   ]
  },
  {
   "cell_type": "markdown",
   "id": "a3f6334a-0086-447f-b5a7-5a294a9ea85d",
   "metadata": {
    "tags": []
   },
   "source": [
    "### Get all object properties of \"Florence\"  (wd:Q2044)"
   ]
  },
  {
   "cell_type": "code",
   "execution_count": 8,
   "id": "d7915530-eedf-4502-9c82-68076fdabb37",
   "metadata": {},
   "outputs": [
    {
     "name": "stdout",
     "output_type": "stream",
     "text": [
      "Results\n",
      "[('property', 'http://www.wikidata.org/prop/direct/P1151'), ('label', \"topic's main Wikimedia portal\")]\n",
      "[('property', 'http://www.wikidata.org/prop/direct/P131'), ('label', 'located in the administrative territorial entity')]\n",
      "[('property', 'http://www.wikidata.org/prop/direct/P1313'), ('label', 'office held by head of government')]\n",
      "[('property', 'http://www.wikidata.org/prop/direct/P1343'), ('label', 'described by source')]\n",
      "[('property', 'http://www.wikidata.org/prop/direct/P1376'), ('label', 'capital of')]\n",
      "[('property', 'http://www.wikidata.org/prop/direct/P1441'), ('label', 'present in work')]\n",
      "[('property', 'http://www.wikidata.org/prop/direct/P1464'), ('label', 'category for people born here')]\n",
      "[('property', 'http://www.wikidata.org/prop/direct/P1465'), ('label', 'category for people who died here')]\n",
      "[('property', 'http://www.wikidata.org/prop/direct/P150'), ('label', 'contains administrative territorial entity')]\n",
      "[('property', 'http://www.wikidata.org/prop/direct/P166'), ('label', 'award received')]\n",
      "[('property', 'http://www.wikidata.org/prop/direct/P17'), ('label', 'country')]\n",
      "[('property', 'http://www.wikidata.org/prop/direct/P1740'), ('label', 'category for films shot at this location')]\n",
      "[('property', 'http://www.wikidata.org/prop/direct/P1791'), ('label', 'category of people buried here')]\n",
      "[('property', 'http://www.wikidata.org/prop/direct/P1792'), ('label', 'category of associated people')]\n",
      "[('property', 'http://www.wikidata.org/prop/direct/P18'), ('label', 'image')]\n",
      "[('property', 'http://www.wikidata.org/prop/direct/P1889'), ('label', 'different from')]\n",
      "[('property', 'http://www.wikidata.org/prop/direct/P190'), ('label', 'twinned administrative body')]\n",
      "[('property', 'http://www.wikidata.org/prop/direct/P194'), ('label', 'legislative body')]\n",
      "[('property', 'http://www.wikidata.org/prop/direct/P206'), ('label', 'located in or next to body of water')]\n",
      "[('property', 'http://www.wikidata.org/prop/direct/P208'), ('label', 'executive body')]\n",
      "[('property', 'http://www.wikidata.org/prop/direct/P2184'), ('label', 'history of topic')]\n",
      "[('property', 'http://www.wikidata.org/prop/direct/P242'), ('label', 'locator map image')]\n",
      "[('property', 'http://www.wikidata.org/prop/direct/P2716'), ('label', 'collage image')]\n",
      "[('property', 'http://www.wikidata.org/prop/direct/P30'), ('label', 'continent')]\n",
      "[('property', 'http://www.wikidata.org/prop/direct/P31'), ('label', 'instance of')]\n",
      "[('property', 'http://www.wikidata.org/prop/direct/P37'), ('label', 'official language')]\n",
      "[('property', 'http://www.wikidata.org/prop/direct/P41'), ('label', 'flag image')]\n",
      "[('property', 'http://www.wikidata.org/prop/direct/P417'), ('label', 'patron saint')]\n",
      "[('property', 'http://www.wikidata.org/prop/direct/P421'), ('label', 'located in time zone')]\n",
      "[('property', 'http://www.wikidata.org/prop/direct/P443'), ('label', 'pronunciation audio')]\n",
      "[('property', 'http://www.wikidata.org/prop/direct/P47'), ('label', 'shares border with')]\n",
      "[('property', 'http://www.wikidata.org/prop/direct/P527'), ('label', 'has part')]\n",
      "[('property', 'http://www.wikidata.org/prop/direct/P6'), ('label', 'head of government')]\n",
      "[('property', 'http://www.wikidata.org/prop/direct/P7867'), ('label', 'category for maps')]\n",
      "[('property', 'http://www.wikidata.org/prop/direct/P793'), ('label', 'significant event')]\n",
      "[('property', 'http://www.wikidata.org/prop/direct/P8402'), ('label', 'open data portal')]\n",
      "[('property', 'http://www.wikidata.org/prop/direct/P856'), ('label', 'official website')]\n",
      "[('property', 'http://www.wikidata.org/prop/direct/P8592'), ('label', 'aerial view')]\n",
      "[('property', 'http://www.wikidata.org/prop/direct/P8744'), ('label', 'economy of topic')]\n",
      "[('property', 'http://www.wikidata.org/prop/direct/P910'), ('label', \"topic's main category\")]\n",
      "[('property', 'http://www.wikidata.org/prop/direct/P94'), ('label', 'coat of arms image')]\n",
      "[('property', 'http://www.wikidata.org/prop/direct/P948'), ('label', 'page banner')]\n",
      "[('property', 'http://www.wikidata.org/prop/direct/P963'), ('label', 'streaming media URL')]\n",
      "43\n"
     ]
    }
   ],
   "source": [
    "queryString = \"\"\"\n",
    "SELECT DISTINCT ?property ?label\n",
    "WHERE {   \n",
    "   wd:Q2044 ?property ?object .\n",
    "   ?property sc:name ?label .\n",
    "   FILTER(!isLiteral(?object)) .   \n",
    "}\n",
    "\"\"\"\n",
    "\n",
    "print(\"Results\")\n",
    "x=run_query(queryString)"
   ]
  },
  {
   "cell_type": "markdown",
   "id": "a02a5b4a-3783-44c0-8877-1428af4745f7",
   "metadata": {
    "tags": []
   },
   "source": [
    "### Get all the classes connected to \"Florence\"  (wd:Q2044)"
   ]
  },
  {
   "cell_type": "code",
   "execution_count": 9,
   "id": "8cef968a-fdea-4b86-8b54-78b2a1db59a3",
   "metadata": {},
   "outputs": [
    {
     "name": "stdout",
     "output_type": "stream",
     "text": [
      "Results\n",
      "[('objectClass', 'http://www.wikidata.org/entity/Q20724701'), ('label', 'city or town in Armenia')]\n",
      "[('objectClass', 'http://www.wikidata.org/entity/Q56557504'), ('label', 'city of Iran')]\n",
      "[('objectClass', 'http://www.wikidata.org/entity/Q59542487'), ('label', 'Wikimedia set category')]\n",
      "[('objectClass', 'http://www.wikidata.org/entity/Q1147395'), ('label', 'district of Turkey')]\n",
      "[('objectClass', 'http://www.wikidata.org/entity/Q202435'), ('label', 'lieutenancy area of Scotland')]\n",
      "[('objectClass', 'http://www.wikidata.org/entity/Q13218690'), ('label', 'town in Hungary')]\n",
      "[('objectClass', 'http://www.wikidata.org/entity/Q8068'), ('label', 'flood')]\n",
      "[('objectClass', 'http://www.wikidata.org/entity/Q27554677'), ('label', 'former capital')]\n",
      "[('objectClass', 'http://www.wikidata.org/entity/Q12143'), ('label', 'time zone')]\n",
      "[('objectClass', 'http://www.wikidata.org/entity/Q21010817'), ('label', 'city of Pennsylvania')]\n",
      "[('objectClass', 'http://www.wikidata.org/entity/Q56165908'), ('label', 'Jewish encyclopedia')]\n",
      "[('objectClass', 'http://www.wikidata.org/entity/Q10864048'), ('label', 'first-level administrative country subdivision')]\n",
      "[('objectClass', 'http://www.wikidata.org/entity/Q1093829'), ('label', 'city of the United States')]\n",
      "[('objectClass', 'http://www.wikidata.org/entity/Q1180262'), ('label', 'residenz')]\n",
      "[('objectClass', 'http://www.wikidata.org/entity/Q1187811'), ('label', 'college town')]\n",
      "[('objectClass', 'http://www.wikidata.org/entity/Q1288568'), ('label', 'modern language')]\n",
      "[('objectClass', 'http://www.wikidata.org/entity/Q134626'), ('label', 'district capital')]\n",
      "[('objectClass', 'http://www.wikidata.org/entity/Q14784328'), ('label', 'state capital in Germany')]\n",
      "[('objectClass', 'http://www.wikidata.org/entity/Q1549591'), ('label', 'big city')]\n",
      "[('objectClass', 'http://www.wikidata.org/entity/Q1637706'), ('label', 'million city')]\n",
      "[('objectClass', 'http://www.wikidata.org/entity/Q17272482'), ('label', 'time zone named for a UTC offset')]\n",
      "[('objectClass', 'http://www.wikidata.org/entity/Q200250'), ('label', 'metropolis')]\n",
      "[('objectClass', 'http://www.wikidata.org/entity/Q20202352'), ('label', 'locality of Mexico')]\n",
      "[('objectClass', 'http://www.wikidata.org/entity/Q2264924'), ('label', 'port settlement')]\n",
      "[('objectClass', 'http://www.wikidata.org/entity/Q250811'), ('label', 'sub-province-level division')]\n",
      "[('objectClass', 'http://www.wikidata.org/entity/Q253030'), ('label', 'major regional center')]\n",
      "[('objectClass', 'http://www.wikidata.org/entity/Q28747937'), ('label', 'history of a city')]\n",
      "[('objectClass', 'http://www.wikidata.org/entity/Q3024240'), ('label', 'historical country')]\n",
      "[('objectClass', 'http://www.wikidata.org/entity/Q3199141'), ('label', 'city of Indonesia')]\n",
      "[('objectClass', 'http://www.wikidata.org/entity/Q34770'), ('label', 'language')]\n",
      "[('objectClass', 'http://www.wikidata.org/entity/Q3624078'), ('label', 'sovereign state')]\n",
      "[('objectClass', 'http://www.wikidata.org/entity/Q4167410'), ('label', 'Wikimedia disambiguation page')]\n",
      "[('objectClass', 'http://www.wikidata.org/entity/Q4167836'), ('label', 'Wikimedia category')]\n",
      "[('objectClass', 'http://www.wikidata.org/entity/Q42744322'), ('label', 'urban municipality of Germany')]\n",
      "[('objectClass', 'http://www.wikidata.org/entity/Q484170'), ('label', 'commune of France')]\n",
      "[('objectClass', 'http://www.wikidata.org/entity/Q486972'), ('label', 'human settlement')]\n",
      "[('objectClass', 'http://www.wikidata.org/entity/Q5'), ('label', 'human')]\n",
      "[('objectClass', 'http://www.wikidata.org/entity/Q5107'), ('label', 'continent')]\n",
      "[('objectClass', 'http://www.wikidata.org/entity/Q5119'), ('label', 'capital')]\n",
      "[('objectClass', 'http://www.wikidata.org/entity/Q5124045'), ('label', 'city with special status')]\n",
      "[('objectClass', 'http://www.wikidata.org/entity/Q515'), ('label', 'city')]\n",
      "[('objectClass', 'http://www.wikidata.org/entity/Q51929311'), ('label', 'largest city')]\n",
      "[('objectClass', 'http://www.wikidata.org/entity/Q5292'), ('label', 'encyclopedia')]\n",
      "[('objectClass', 'http://www.wikidata.org/entity/Q56061'), ('label', 'administrative territorial entity')]\n",
      "[('objectClass', 'http://www.wikidata.org/entity/Q573344'), ('label', 'main stream')]\n",
      "[('objectClass', 'http://www.wikidata.org/entity/Q61980648'), ('label', 'urban district of Hesse')]\n",
      "[('objectClass', 'http://www.wikidata.org/entity/Q62049'), ('label', 'county seat')]\n",
      "[('objectClass', 'http://www.wikidata.org/entity/Q6256'), ('label', 'country')]\n",
      "[('objectClass', 'http://www.wikidata.org/entity/Q6465'), ('label', 'department of France')]\n",
      "[('objectClass', 'http://www.wikidata.org/entity/Q707813'), ('label', 'Hanseatic city')]\n",
      "[('objectClass', 'http://www.wikidata.org/entity/Q747074'), ('label', 'comune of Italy')]\n",
      "[('objectClass', 'http://www.wikidata.org/entity/Q748149'), ('label', 'prefecture-level city')]\n",
      "[('objectClass', 'http://www.wikidata.org/entity/Q7725634'), ('label', 'literary work')]\n",
      "[('objectClass', 'http://www.wikidata.org/entity/Q7930989'), ('label', 'city/town')]\n",
      "[('objectClass', 'http://www.wikidata.org/entity/Q839954'), ('label', 'archaeological site')]\n",
      "[('objectClass', 'http://www.wikidata.org/entity/Q856076'), ('label', 'municipality of Finland')]\n",
      "[('objectClass', 'http://www.wikidata.org/entity/Q12031379'), ('label', 'capital of region')]\n",
      "[('objectClass', 'http://www.wikidata.org/entity/Q131647'), ('label', 'medal')]\n",
      "[('objectClass', 'http://www.wikidata.org/entity/Q154547'), ('label', 'duchy')]\n",
      "[('objectClass', 'http://www.wikidata.org/entity/Q15978299'), ('label', 'municipality with town privileges in the Czech Republic')]\n",
      "[('objectClass', 'http://www.wikidata.org/entity/Q171441'), ('label', 'enclave')]\n",
      "[('objectClass', 'http://www.wikidata.org/entity/Q20643955'), ('label', 'human biblical figure')]\n",
      "[('objectClass', 'http://www.wikidata.org/entity/Q21518270'), ('label', 'state or insular area capital in the United States')]\n",
      "[('objectClass', 'http://www.wikidata.org/entity/Q2555896'), ('label', 'municipality of Colombia')]\n",
      "[('objectClass', 'http://www.wikidata.org/entity/Q257978'), ('label', 'statutory city')]\n",
      "[('objectClass', 'http://www.wikidata.org/entity/Q3924474'), ('label', 'former provinces of Italy')]\n",
      "[('objectClass', 'http://www.wikidata.org/entity/Q494721'), ('label', 'city of Japan')]\n",
      "[('objectClass', 'http://www.wikidata.org/entity/Q50330360'), ('label', 'second largest city')]\n",
      "[('objectClass', 'http://www.wikidata.org/entity/Q5153359'), ('label', 'municipality of the Czech Republic')]\n",
      "[('objectClass', 'http://www.wikidata.org/entity/Q7819319'), ('label', 'Czech municipality with expanded powers')]\n",
      "[('objectClass', 'http://www.wikidata.org/entity/Q7841907'), ('label', 'municipality with authorized municipal office')]\n",
      "[('objectClass', 'http://www.wikidata.org/entity/Q7889'), ('label', 'video game')]\n",
      "[('objectClass', 'http://www.wikidata.org/entity/Q8452914'), ('label', 'district town')]\n",
      "[('objectClass', 'http://www.wikidata.org/entity/Q100773131'), ('label', 'economy of region')]\n",
      "[('objectClass', 'http://www.wikidata.org/entity/Q16110'), ('label', 'region of Italy')]\n",
      "[('objectClass', 'http://www.wikidata.org/entity/Q3927247'), ('label', 'borough of Florence')]\n",
      "[('objectClass', 'http://www.wikidata.org/entity/Q1137833'), ('label', 'core city of Japan')]\n",
      "[('objectClass', 'http://www.wikidata.org/entity/Q1749269'), ('label', 'city designated by government ordinance')]\n",
      "[('objectClass', 'http://www.wikidata.org/entity/Q188055'), ('label', 'siege')]\n",
      "[('objectClass', 'http://www.wikidata.org/entity/Q188063'), ('label', 'fiefdom')]\n",
      "[('objectClass', 'http://www.wikidata.org/entity/Q294414'), ('label', 'public office')]\n",
      "[('objectClass', 'http://www.wikidata.org/entity/Q3184121'), ('label', 'municipality of Brazil')]\n",
      "[('objectClass', 'http://www.wikidata.org/entity/Q571'), ('label', 'book')]\n",
      "[('objectClass', 'http://www.wikidata.org/entity/Q65589340'), ('label', 'capital of a prefecture of Japan')]\n",
      "[('objectClass', 'http://www.wikidata.org/entity/Q6936404'), ('label', 'Municipalities of the State of Palestine')]\n",
      "[('objectClass', 'http://www.wikidata.org/entity/Q71144301'), ('label', 'metropolitan region')]\n",
      "[('objectClass', 'http://www.wikidata.org/entity/Q925381'), ('label', 'city with powiat rights')]\n",
      "[('objectClass', 'http://www.wikidata.org/entity/Q3301053'), ('label', 'consolidated city-county')]\n",
      "[('objectClass', 'http://www.wikidata.org/entity/Q1151405'), ('label', 'client state')]\n",
      "[('objectClass', 'http://www.wikidata.org/entity/Q127448'), ('label', 'municipality of Sweden')]\n",
      "[('objectClass', 'http://www.wikidata.org/entity/Q15127838'), ('label', 'city under state jurisdiction in Latvia')]\n",
      "[('objectClass', 'http://www.wikidata.org/entity/Q7275'), ('label', 'state')]\n",
      "[('objectClass', 'http://www.wikidata.org/entity/Q165116'), ('label', 'grand duchy')]\n",
      "[('objectClass', 'http://www.wikidata.org/entity/Q26830017'), ('label', 'state in the Holy Roman Empire')]\n",
      "[('objectClass', 'http://www.wikidata.org/entity/Q26879763'), ('label', 'Napoleonic client state')]\n",
      "[('objectClass', 'http://www.wikidata.org/entity/Q4663903'), ('label', 'Wikimedia portal')]\n",
      "[('objectClass', 'http://www.wikidata.org/entity/Q18328097'), ('label', 'courage award')]\n",
      "[('objectClass', 'http://www.wikidata.org/entity/Q2716259'), ('label', 'metropolitan municipality in Turkey')]\n",
      "[('objectClass', 'http://www.wikidata.org/entity/Q37002670'), ('label', 'unicameral legislature')]\n",
      "[('objectClass', 'http://www.wikidata.org/entity/Q975413'), ('label', 'encyclopedic dictionary')]\n",
      "[('objectClass', 'http://www.wikidata.org/entity/Q174844'), ('label', 'megacity')]\n",
      "[('objectClass', 'http://www.wikidata.org/entity/Q15110'), ('label', 'metropolitan city of Italy')]\n",
      "[('objectClass', 'http://www.wikidata.org/entity/Q914425'), ('label', 'Signoria')]\n",
      "[('objectClass', 'http://www.wikidata.org/entity/Q27031827'), ('label', 'open data portal')]\n",
      "[('objectClass', 'http://www.wikidata.org/entity/Q26857436'), ('label', 'municipal executive board')]\n",
      "[('objectClass', 'http://www.wikidata.org/entity/Q2418896'), ('label', 'part of the world')]\n",
      "[('objectClass', 'http://www.wikidata.org/entity/Q98966309'), ('label', 'classification of human settlements')]\n",
      "[('objectClass', 'http://www.wikidata.org/entity/Q1208802'), ('label', 'direct-controlled municipality')]\n",
      "[('objectClass', 'http://www.wikidata.org/entity/Q661936'), ('label', 'pro-drop language')]\n",
      "[('objectClass', 'http://www.wikidata.org/entity/Q104630835'), ('label', 'Scottish county of city')]\n",
      "[('objectClass', 'http://www.wikidata.org/entity/Q61708099'), ('label', 'urban district in Saxony')]\n",
      "[('objectClass', 'http://www.wikidata.org/entity/Q1792377'), ('label', 'art guide')]\n",
      "112\n"
     ]
    }
   ],
   "source": [
    "queryString = \"\"\"\n",
    "SELECT DISTINCT ?objectClass ?label\n",
    "WHERE {   \n",
    "   wd:Q2044 ?property ?object .\n",
    "   ?object wdt:P31 ?objectClass .\n",
    "   ?objectClass sc:name ?label .\n",
    "   FILTER(!isLiteral(?object)) .   \n",
    "}\n",
    "\"\"\"\n",
    "print(\"Results\")\n",
    "x=run_query(queryString)"
   ]
  },
  {
   "cell_type": "markdown",
   "id": "99ed2274-e790-4e15-b903-bc1ca9b41db2",
   "metadata": {
    "tags": []
   },
   "source": [
    "### Get all the couples (object property - list of the classes of the objects that are connected to \"Florence\"  (wd:Q2044) through that object property)"
   ]
  },
  {
   "cell_type": "code",
   "execution_count": 10,
   "id": "8f4aca11-432c-444d-8064-1362f47fce92",
   "metadata": {},
   "outputs": [
    {
     "name": "stdout",
     "output_type": "stream",
     "text": [
      "Results\n",
      "[('property', 'http://www.wikidata.org/prop/direct/P2184'), ('labelProperty', 'history of topic'), ('objectsClasses', 'http://www.wikidata.org/entity/Q28747937'), ('labelsObjectsClasses', 'history of a city')]\n",
      "[('property', 'http://www.wikidata.org/prop/direct/P6'), ('labelProperty', 'head of government'), ('objectsClasses', 'http://www.wikidata.org/entity/Q5'), ('labelsObjectsClasses', 'human')]\n",
      "[('property', 'http://www.wikidata.org/prop/direct/P206'), ('labelProperty', 'located in or next to body of water'), ('objectsClasses', 'http://www.wikidata.org/entity/Q573344'), ('labelsObjectsClasses', 'main stream')]\n",
      "[('property', 'http://www.wikidata.org/prop/direct/P1376'), ('labelProperty', 'capital of'), ('objectsClasses', 'http://www.wikidata.org/entity/Q3024240,http://www.wikidata.org/entity/Q3024240,http://www.wikidata.org/entity/Q3024240,http://www.wikidata.org/entity/Q3024240,http://www.wikidata.org/entity/Q3024240,http://www.wikidata.org/entity/Q3024240,http://www.wikidata.org/entity/Q56061,http://www.wikidata.org/entity/Q6465,http://www.wikidata.org/entity/Q154547,http://www.wikidata.org/entity/Q3924474,http://www.wikidata.org/entity/Q16110,http://www.wikidata.org/entity/Q188063,http://www.wikidata.org/entity/Q1151405,http://www.wikidata.org/entity/Q7275,http://www.wikidata.org/entity/Q165116,http://www.wikidata.org/entity/Q26830017,http://www.wikidata.org/entity/Q26879763,http://www.wikidata.org/entity/Q15110,http://www.wikidata.org/entity/Q914425'), ('labelsObjectsClasses', 'historical country,historical country,historical country,historical country,historical country,historical country,administrative territorial entity,department of France,duchy,former provinces of Italy,region of Italy,fiefdom,client state,state,grand duchy,state in the Holy Roman Empire,Napoleonic client state,metropolitan city of Italy,Signoria')]\n",
      "[('property', 'http://www.wikidata.org/prop/direct/P1792'), ('labelProperty', 'category of associated people'), ('objectsClasses', 'http://www.wikidata.org/entity/Q59542487'), ('labelsObjectsClasses', 'Wikimedia set category')]\n",
      "[('property', 'http://www.wikidata.org/prop/direct/P208'), ('labelProperty', 'executive body'), ('objectsClasses', 'http://www.wikidata.org/entity/Q26857436'), ('labelsObjectsClasses', 'municipal executive board')]\n",
      "[('property', 'http://www.wikidata.org/prop/direct/P17'), ('labelProperty', 'country'), ('objectsClasses', 'http://www.wikidata.org/entity/Q3624078,http://www.wikidata.org/entity/Q6256'), ('labelsObjectsClasses', 'sovereign state,country')]\n",
      "[('property', 'http://www.wikidata.org/prop/direct/P1313'), ('labelProperty', 'office held by head of government'), ('objectsClasses', 'http://www.wikidata.org/entity/Q294414'), ('labelsObjectsClasses', 'public office')]\n",
      "[('property', 'http://www.wikidata.org/prop/direct/P166'), ('labelProperty', 'award received'), ('objectsClasses', 'http://www.wikidata.org/entity/Q131647,http://www.wikidata.org/entity/Q18328097'), ('labelsObjectsClasses', 'medal,courage award')]\n",
      "[('property', 'http://www.wikidata.org/prop/direct/P47'), ('labelProperty', 'shares border with'), ('objectsClasses', 'http://www.wikidata.org/entity/Q747074,http://www.wikidata.org/entity/Q747074,http://www.wikidata.org/entity/Q747074,http://www.wikidata.org/entity/Q747074,http://www.wikidata.org/entity/Q747074,http://www.wikidata.org/entity/Q747074'), ('labelsObjectsClasses', 'comune of Italy,comune of Italy,comune of Italy,comune of Italy,comune of Italy,comune of Italy')]\n",
      "[('property', 'http://www.wikidata.org/prop/direct/P1791'), ('labelProperty', 'category of people buried here'), ('objectsClasses', 'http://www.wikidata.org/entity/Q4167836'), ('labelsObjectsClasses', 'Wikimedia category')]\n",
      "[('property', 'http://www.wikidata.org/prop/direct/P131'), ('labelProperty', 'located in the administrative territorial entity'), ('objectsClasses', 'http://www.wikidata.org/entity/Q15110'), ('labelsObjectsClasses', 'metropolitan city of Italy')]\n",
      "[('property', 'http://www.wikidata.org/prop/direct/P1889'), ('labelProperty', 'different from'), ('objectsClasses', 'http://www.wikidata.org/entity/Q4167410'), ('labelsObjectsClasses', 'Wikimedia disambiguation page')]\n",
      "[('property', 'http://www.wikidata.org/prop/direct/P1441'), ('labelProperty', 'present in work'), ('objectsClasses', 'http://www.wikidata.org/entity/Q7889'), ('labelsObjectsClasses', 'video game')]\n",
      "[('property', 'http://www.wikidata.org/prop/direct/P1464'), ('labelProperty', 'category for people born here'), ('objectsClasses', 'http://www.wikidata.org/entity/Q4167836'), ('labelsObjectsClasses', 'Wikimedia category')]\n",
      "[('property', 'http://www.wikidata.org/prop/direct/P1465'), ('labelProperty', 'category for people who died here'), ('objectsClasses', 'http://www.wikidata.org/entity/Q4167836'), ('labelsObjectsClasses', 'Wikimedia category')]\n",
      "[('property', 'http://www.wikidata.org/prop/direct/P37'), ('labelProperty', 'official language'), ('objectsClasses', 'http://www.wikidata.org/entity/Q1288568,http://www.wikidata.org/entity/Q34770,http://www.wikidata.org/entity/Q661936'), ('labelsObjectsClasses', 'modern language,language,pro-drop language')]\n",
      "[('property', 'http://www.wikidata.org/prop/direct/P417'), ('labelProperty', 'patron saint'), ('objectsClasses', 'http://www.wikidata.org/entity/Q20643955'), ('labelsObjectsClasses', 'human biblical figure')]\n",
      "[('property', 'http://www.wikidata.org/prop/direct/P1740'), ('labelProperty', 'category for films shot at this location'), ('objectsClasses', 'http://www.wikidata.org/entity/Q4167836'), ('labelsObjectsClasses', 'Wikimedia category')]\n",
      "[('property', 'http://www.wikidata.org/prop/direct/P8744'), ('labelProperty', 'economy of topic'), ('objectsClasses', 'http://www.wikidata.org/entity/Q100773131'), ('labelsObjectsClasses', 'economy of region')]\n",
      "[('property', 'http://www.wikidata.org/prop/direct/P31'), ('labelProperty', 'instance of'), ('objectsClasses', 'http://www.wikidata.org/entity/Q98966309'), ('labelsObjectsClasses', 'classification of human settlements')]\n",
      "[('property', 'http://www.wikidata.org/prop/direct/P910'), ('labelProperty', \"topic's main category\"), ('objectsClasses', 'http://www.wikidata.org/entity/Q4167836'), ('labelsObjectsClasses', 'Wikimedia category')]\n",
      "[('property', 'http://www.wikidata.org/prop/direct/P1343'), ('labelProperty', 'described by source'), ('objectsClasses', 'http://www.wikidata.org/entity/Q56165908,http://www.wikidata.org/entity/Q5292,http://www.wikidata.org/entity/Q7725634,http://www.wikidata.org/entity/Q571,http://www.wikidata.org/entity/Q975413,http://www.wikidata.org/entity/Q975413,http://www.wikidata.org/entity/Q1792377'), ('labelsObjectsClasses', 'Jewish encyclopedia,encyclopedia,literary work,book,encyclopedic dictionary,encyclopedic dictionary,art guide')]\n",
      "[('property', 'http://www.wikidata.org/prop/direct/P8402'), ('labelProperty', 'open data portal'), ('objectsClasses', 'http://www.wikidata.org/entity/Q27031827'), ('labelsObjectsClasses', 'open data portal')]\n",
      "[('property', 'http://www.wikidata.org/prop/direct/P150'), ('labelProperty', 'contains administrative territorial entity'), ('objectsClasses', 'http://www.wikidata.org/entity/Q3927247,http://www.wikidata.org/entity/Q3927247,http://www.wikidata.org/entity/Q3927247,http://www.wikidata.org/entity/Q3927247,http://www.wikidata.org/entity/Q3927247'), ('labelsObjectsClasses', 'borough of Florence,borough of Florence,borough of Florence,borough of Florence,borough of Florence')]\n",
      "[('property', 'http://www.wikidata.org/prop/direct/P190'), ('labelProperty', 'twinned administrative body'), ('objectsClasses', 'http://www.wikidata.org/entity/Q20724701,http://www.wikidata.org/entity/Q56557504,http://www.wikidata.org/entity/Q1147395,http://www.wikidata.org/entity/Q202435,http://www.wikidata.org/entity/Q13218690,http://www.wikidata.org/entity/Q27554677,http://www.wikidata.org/entity/Q21010817,http://www.wikidata.org/entity/Q10864048,http://www.wikidata.org/entity/Q1093829,http://www.wikidata.org/entity/Q1093829,http://www.wikidata.org/entity/Q1180262,http://www.wikidata.org/entity/Q1187811,http://www.wikidata.org/entity/Q134626,http://www.wikidata.org/entity/Q14784328,http://www.wikidata.org/entity/Q1549591,http://www.wikidata.org/entity/Q1549591,http://www.wikidata.org/entity/Q1549591,http://www.wikidata.org/entity/Q1549591,http://www.wikidata.org/entity/Q1549591,http://www.wikidata.org/entity/Q1549591,http://www.wikidata.org/entity/Q1549591,http://www.wikidata.org/entity/Q1549591,http://www.wikidata.org/entity/Q1549591,http://www.wikidata.org/entity/Q1549591,http://www.wikidata.org/entity/Q1549591,http://www.wikidata.org/entity/Q1549591,http://www.wikidata.org/entity/Q1549591,http://www.wikidata.org/entity/Q1549591,http://www.wikidata.org/entity/Q1549591,http://www.wikidata.org/entity/Q1549591,http://www.wikidata.org/entity/Q1549591,http://www.wikidata.org/entity/Q1549591,http://www.wikidata.org/entity/Q1549591,http://www.wikidata.org/entity/Q1549591,http://www.wikidata.org/entity/Q1549591,http://www.wikidata.org/entity/Q1549591,http://www.wikidata.org/entity/Q1549591,http://www.wikidata.org/entity/Q1549591,http://www.wikidata.org/entity/Q1549591,http://www.wikidata.org/entity/Q1549591,http://www.wikidata.org/entity/Q1549591,http://www.wikidata.org/entity/Q1549591,http://www.wikidata.org/entity/Q1637706,http://www.wikidata.org/entity/Q1637706,http://www.wikidata.org/entity/Q1637706,http://www.wikidata.org/entity/Q1637706,http://www.wikidata.org/entity/Q1637706,http://www.wikidata.org/entity/Q1637706,http://www.wikidata.org/entity/Q1637706,http://www.wikidata.org/entity/Q1637706,http://www.wikidata.org/entity/Q1637706,http://www.wikidata.org/entity/Q1637706,http://www.wikidata.org/entity/Q1637706,http://www.wikidata.org/entity/Q1637706,http://www.wikidata.org/entity/Q1637706,http://www.wikidata.org/entity/Q1637706,http://www.wikidata.org/entity/Q1637706,http://www.wikidata.org/entity/Q1637706,http://www.wikidata.org/entity/Q1637706,http://www.wikidata.org/entity/Q200250,http://www.wikidata.org/entity/Q20202352,http://www.wikidata.org/entity/Q2264924,http://www.wikidata.org/entity/Q250811,http://www.wikidata.org/entity/Q253030,http://www.wikidata.org/entity/Q253030,http://www.wikidata.org/entity/Q3199141,http://www.wikidata.org/entity/Q42744322,http://www.wikidata.org/entity/Q42744322,http://www.wikidata.org/entity/Q484170,http://www.wikidata.org/entity/Q486972,http://www.wikidata.org/entity/Q486972,http://www.wikidata.org/entity/Q486972,http://www.wikidata.org/entity/Q5119,http://www.wikidata.org/entity/Q5119,http://www.wikidata.org/entity/Q5119,http://www.wikidata.org/entity/Q5119,http://www.wikidata.org/entity/Q5119,http://www.wikidata.org/entity/Q5119,http://www.wikidata.org/entity/Q5119,http://www.wikidata.org/entity/Q5119,http://www.wikidata.org/entity/Q5119,http://www.wikidata.org/entity/Q5119,http://www.wikidata.org/entity/Q5119,http://www.wikidata.org/entity/Q5119,http://www.wikidata.org/entity/Q5119,http://www.wikidata.org/entity/Q5119,http://www.wikidata.org/entity/Q5119,http://www.wikidata.org/entity/Q5124045,http://www.wikidata.org/entity/Q515,http://www.wikidata.org/entity/Q515,http://www.wikidata.org/entity/Q515,http://www.wikidata.org/entity/Q515,http://www.wikidata.org/entity/Q515,http://www.wikidata.org/entity/Q515,http://www.wikidata.org/entity/Q515,http://www.wikidata.org/entity/Q515,http://www.wikidata.org/entity/Q515,http://www.wikidata.org/entity/Q515,http://www.wikidata.org/entity/Q515,http://www.wikidata.org/entity/Q515,http://www.wikidata.org/entity/Q515,http://www.wikidata.org/entity/Q515,http://www.wikidata.org/entity/Q515,http://www.wikidata.org/entity/Q515,http://www.wikidata.org/entity/Q515,http://www.wikidata.org/entity/Q515,http://www.wikidata.org/entity/Q515,http://www.wikidata.org/entity/Q515,http://www.wikidata.org/entity/Q515,http://www.wikidata.org/entity/Q515,http://www.wikidata.org/entity/Q51929311,http://www.wikidata.org/entity/Q51929311,http://www.wikidata.org/entity/Q56061,http://www.wikidata.org/entity/Q61980648,http://www.wikidata.org/entity/Q62049,http://www.wikidata.org/entity/Q62049,http://www.wikidata.org/entity/Q707813,http://www.wikidata.org/entity/Q748149,http://www.wikidata.org/entity/Q7930989,http://www.wikidata.org/entity/Q839954,http://www.wikidata.org/entity/Q856076,http://www.wikidata.org/entity/Q12031379,http://www.wikidata.org/entity/Q15978299,http://www.wikidata.org/entity/Q171441,http://www.wikidata.org/entity/Q21518270,http://www.wikidata.org/entity/Q2555896,http://www.wikidata.org/entity/Q257978,http://www.wikidata.org/entity/Q494721,http://www.wikidata.org/entity/Q50330360,http://www.wikidata.org/entity/Q50330360,http://www.wikidata.org/entity/Q50330360,http://www.wikidata.org/entity/Q5153359,http://www.wikidata.org/entity/Q7819319,http://www.wikidata.org/entity/Q7841907,http://www.wikidata.org/entity/Q8452914,http://www.wikidata.org/entity/Q1137833,http://www.wikidata.org/entity/Q1749269,http://www.wikidata.org/entity/Q3184121,http://www.wikidata.org/entity/Q65589340,http://www.wikidata.org/entity/Q65589340,http://www.wikidata.org/entity/Q6936404,http://www.wikidata.org/entity/Q71144301,http://www.wikidata.org/entity/Q925381,http://www.wikidata.org/entity/Q3301053,http://www.wikidata.org/entity/Q127448,http://www.wikidata.org/entity/Q15127838,http://www.wikidata.org/entity/Q2716259,http://www.wikidata.org/entity/Q2716259,http://www.wikidata.org/entity/Q174844,http://www.wikidata.org/entity/Q1208802,http://www.wikidata.org/entity/Q104630835,http://www.wikidata.org/entity/Q61708099'), ('labelsObjectsClasses', 'city or town in Armenia,city of Iran,district of Turkey,lieutenancy area of Scotland,town in Hungary,former capital,city of Pennsylvania,first-level administrative country subdivision,city of the United States,city of the United States,residenz,college town,district capital,state capital in Germany,big city,big city,big city,big city,big city,big city,big city,big city,big city,big city,big city,big city,big city,big city,big city,big city,big city,big city,big city,big city,big city,big city,big city,big city,big city,big city,big city,big city,million city,million city,million city,million city,million city,million city,million city,million city,million city,million city,million city,million city,million city,million city,million city,million city,million city,metropolis,locality of Mexico,port settlement,sub-province-level division,major regional center,major regional center,city of Indonesia,urban municipality of Germany,urban municipality of Germany,commune of France,human settlement,human settlement,human settlement,capital,capital,capital,capital,capital,capital,capital,capital,capital,capital,capital,capital,capital,capital,capital,city with special status,city,city,city,city,city,city,city,city,city,city,city,city,city,city,city,city,city,city,city,city,city,city,largest city,largest city,administrative territorial entity,urban district of Hesse,county seat,county seat,Hanseatic city,prefecture-level city,city/town,archaeological site,municipality of Finland,capital of region,municipality with town privileges in the Czech Republic,enclave,state or insular area capital in the United States,municipality of Colombia,statutory city,city of Japan,second largest city,second largest city,second largest city,municipality of the Czech Republic,Czech municipality with expanded powers,municipality with authorized municipal office,district town,core city of Japan,city designated by government ordinance,municipality of Brazil,capital of a prefecture of Japan,capital of a prefecture of Japan,Municipalities of the State of Palestine,metropolitan region,city with powiat rights,consolidated city-county,municipality of Sweden,city under state jurisdiction in Latvia,metropolitan municipality in Turkey,metropolitan municipality in Turkey,megacity,direct-controlled municipality,Scottish county of city,urban district in Saxony')]\n",
      "[('property', 'http://www.wikidata.org/prop/direct/P30'), ('labelProperty', 'continent'), ('objectsClasses', 'http://www.wikidata.org/entity/Q5107,http://www.wikidata.org/entity/Q2418896'), ('labelsObjectsClasses', 'continent,part of the world')]\n",
      "[('property', 'http://www.wikidata.org/prop/direct/P1151'), ('labelProperty', \"topic's main Wikimedia portal\"), ('objectsClasses', 'http://www.wikidata.org/entity/Q4663903'), ('labelsObjectsClasses', 'Wikimedia portal')]\n",
      "[('property', 'http://www.wikidata.org/prop/direct/P194'), ('labelProperty', 'legislative body'), ('objectsClasses', 'http://www.wikidata.org/entity/Q37002670'), ('labelsObjectsClasses', 'unicameral legislature')]\n",
      "[('property', 'http://www.wikidata.org/prop/direct/P421'), ('labelProperty', 'located in time zone'), ('objectsClasses', 'http://www.wikidata.org/entity/Q12143,http://www.wikidata.org/entity/Q17272482,http://www.wikidata.org/entity/Q17272482'), ('labelsObjectsClasses', 'time zone,time zone named for a UTC offset,time zone named for a UTC offset')]\n",
      "[('property', 'http://www.wikidata.org/prop/direct/P7867'), ('labelProperty', 'category for maps'), ('objectsClasses', 'http://www.wikidata.org/entity/Q4167836'), ('labelsObjectsClasses', 'Wikimedia category')]\n",
      "[('property', 'http://www.wikidata.org/prop/direct/P793'), ('labelProperty', 'significant event'), ('objectsClasses', 'http://www.wikidata.org/entity/Q8068,http://www.wikidata.org/entity/Q188055'), ('labelsObjectsClasses', 'flood,siege')]\n",
      "32\n"
     ]
    }
   ],
   "source": [
    "queryString = \"\"\"\n",
    "SELECT DISTINCT ?property ?labelProperty (GROUP_CONCAT(?objectClass ; separator = \",\")  AS ?objectsClasses) (GROUP_CONCAT(?labelObjectClass ; separator = \",\")  AS ?labelsObjectsClasses)\n",
    "WHERE \n",
    "{   \n",
    "   wd:Q2044 ?property ?object .  \n",
    "   ?object wdt:P31 ?objectClass .\n",
    "   \n",
    "   # Labels\n",
    "   ?property sc:name ?labelProperty .      \n",
    "   ?objectClass sc:name ?labelObjectClass .\n",
    "   \n",
    "   FILTER(!isLiteral(?object)) .   \n",
    "}GROUP BY ?property ?labelProperty\n",
    "LIMIT 50\n",
    "\"\"\"\n",
    "print(\"Results\")\n",
    "x=run_query(queryString)"
   ]
  },
  {
   "cell_type": "markdown",
   "id": "c264772f-3f0d-4265-8e6a-49e4360deb93",
   "metadata": {
    "tags": []
   },
   "source": [
    "### Get all the couples (object property - list of the  objects that are connected to \"Florence\"  (wd:Q2044) through that object property)"
   ]
  },
  {
   "cell_type": "code",
   "execution_count": 11,
   "id": "ce92ac65-15d0-4512-ac36-951fbe49b205",
   "metadata": {},
   "outputs": [
    {
     "name": "stdout",
     "output_type": "stream",
     "text": [
      "Results\n",
      "[('property', 'http://www.wikidata.org/prop/direct/P2184'), ('labelProperty', 'history of topic'), ('objects', 'http://www.wikidata.org/entity/Q517851'), ('labelsObjects', 'history of Florence')]\n",
      "[('property', 'http://www.wikidata.org/prop/direct/P527'), ('labelProperty', 'has part'), ('objects', 'http://www.wikidata.org/entity/Q3927266'), ('labelsObjects', 'Historical quarters in Florence')]\n",
      "[('property', 'http://www.wikidata.org/prop/direct/P6'), ('labelProperty', 'head of government'), ('objects', 'http://www.wikidata.org/entity/Q15976266'), ('labelsObjects', 'Dario Nardella')]\n",
      "[('property', 'http://www.wikidata.org/prop/direct/P206'), ('labelProperty', 'located in or next to body of water'), ('objects', 'http://www.wikidata.org/entity/Q115457'), ('labelsObjects', 'Arno')]\n",
      "[('property', 'http://www.wikidata.org/prop/direct/P1376'), ('labelProperty', 'capital of'), ('objects', 'http://www.wikidata.org/entity/Q1273,http://www.wikidata.org/entity/Q16172,http://www.wikidata.org/entity/Q18288148,http://www.wikidata.org/entity/Q148540,http://www.wikidata.org/entity/Q172579,http://www.wikidata.org/entity/Q2252973,http://www.wikidata.org/entity/Q154849,http://www.wikidata.org/entity/Q223793,http://www.wikidata.org/entity/Q3393334,http://www.wikidata.org/entity/Q2567507'), ('labelsObjects', 'Tuscany,Province of Florence,Metropolitan City of Florence,Republic of Florence,Kingdom of Italy,Duchy of Florence,Grand Duchy of Tuscany,Kingdom of Etruria,Signoria of Florence,Arno')]\n",
      "[('property', 'http://www.wikidata.org/prop/direct/P1792'), ('labelProperty', 'category of associated people'), ('objects', 'http://www.wikidata.org/entity/Q6501032'), ('labelsObjects', 'Category:People from Florence')]\n",
      "[('property', 'http://www.wikidata.org/prop/direct/P208'), ('labelProperty', 'executive body'), ('objects', 'http://www.wikidata.org/entity/Q50188306'), ('labelsObjects', 'municipal executive board of the city of Florence')]\n",
      "[('property', 'http://www.wikidata.org/prop/direct/P17'), ('labelProperty', 'country'), ('objects', 'http://www.wikidata.org/entity/Q38'), ('labelsObjects', 'Italy')]\n",
      "[('property', 'http://www.wikidata.org/prop/direct/P1313'), ('labelProperty', 'office held by head of government'), ('objects', 'http://www.wikidata.org/entity/Q25927210'), ('labelsObjects', 'mayor of Florence')]\n",
      "[('property', 'http://www.wikidata.org/prop/direct/P166'), ('labelProperty', 'award received'), ('objects', 'http://www.wikidata.org/entity/Q129372,http://www.wikidata.org/entity/Q850170'), ('labelsObjects', 'European Capital of Culture,Medal of Military Valour')]\n",
      "[('property', 'http://www.wikidata.org/prop/direct/P47'), ('labelProperty', 'shares border with'), ('objects', 'http://www.wikidata.org/entity/Q82612,http://www.wikidata.org/entity/Q82636,http://www.wikidata.org/entity/Q82712,http://www.wikidata.org/entity/Q82842,http://www.wikidata.org/entity/Q82670,http://www.wikidata.org/entity/Q82865'), ('labelsObjects', 'Bagno a Ripoli,Campi Bisenzio,Impruneta,Scandicci,Fiesole,Sesto Fiorentino')]\n",
      "[('property', 'http://www.wikidata.org/prop/direct/P1791'), ('labelProperty', 'category of people buried here'), ('objects', 'http://www.wikidata.org/entity/Q28425582'), ('labelsObjects', 'Category:Burials in Florence')]\n",
      "[('property', 'http://www.wikidata.org/prop/direct/P131'), ('labelProperty', 'located in the administrative territorial entity'), ('objects', 'http://www.wikidata.org/entity/Q18288148'), ('labelsObjects', 'Metropolitan City of Florence')]\n",
      "[('property', 'http://www.wikidata.org/prop/direct/P1441'), ('labelProperty', 'present in work'), ('objects', 'http://www.wikidata.org/entity/Q2385'), ('labelsObjects', 'Civilization V')]\n",
      "[('property', 'http://www.wikidata.org/prop/direct/P1464'), ('labelProperty', 'category for people born here'), ('objects', 'http://www.wikidata.org/entity/Q8082126'), ('labelsObjects', 'Category:Births in Florence')]\n",
      "[('property', 'http://www.wikidata.org/prop/direct/P1465'), ('labelProperty', 'category for people who died here'), ('objects', 'http://www.wikidata.org/entity/Q9218362'), ('labelsObjects', 'Category:Deaths in Florence')]\n",
      "[('property', 'http://www.wikidata.org/prop/direct/P37'), ('labelProperty', 'official language'), ('objects', 'http://www.wikidata.org/entity/Q652'), ('labelsObjects', 'Italian')]\n",
      "[('property', 'http://www.wikidata.org/prop/direct/P417'), ('labelProperty', 'patron saint'), ('objects', 'http://www.wikidata.org/entity/Q40662'), ('labelsObjects', 'John the Baptist')]\n",
      "[('property', 'http://www.wikidata.org/prop/direct/P1740'), ('labelProperty', 'category for films shot at this location'), ('objects', 'http://www.wikidata.org/entity/Q10218395'), ('labelsObjects', 'Category:Films shot in Florence')]\n",
      "[('property', 'http://www.wikidata.org/prop/direct/P8744'), ('labelProperty', 'economy of topic'), ('objects', 'http://www.wikidata.org/entity/Q100868415'), ('labelsObjects', 'economy of Florence')]\n",
      "[('property', 'http://www.wikidata.org/prop/direct/P31'), ('labelProperty', 'instance of'), ('objects', 'http://www.wikidata.org/entity/Q1549591,http://www.wikidata.org/entity/Q515,http://www.wikidata.org/entity/Q747074'), ('labelsObjects', 'big city,city,comune of Italy')]\n",
      "[('property', 'http://www.wikidata.org/prop/direct/P910'), ('labelProperty', \"topic's main category\"), ('objects', 'http://www.wikidata.org/entity/Q7237043'), ('labelsObjects', 'Category:Florence')]\n",
      "[('property', 'http://www.wikidata.org/prop/direct/P1343'), ('labelProperty', 'described by source'), ('objects', 'http://www.wikidata.org/entity/Q19180675,http://www.wikidata.org/entity/Q3181656,http://www.wikidata.org/entity/Q4173137,http://www.wikidata.org/entity/Q602358'), ('labelsObjects', 'Small Brockhaus and Efron Encyclopedic Dictionary,The Nuttall Encyclopædia,Jewish Encyclopedia of Brockhaus and Efron,Brockhaus and Efron Encyclopedic Dictionary')]\n",
      "[('property', 'http://www.wikidata.org/prop/direct/P8402'), ('labelProperty', 'open data portal'), ('objects', 'http://www.wikidata.org/entity/Q97290613'), ('labelsObjects', 'Open Data Florence')]\n",
      "[('property', 'http://www.wikidata.org/prop/direct/P150'), ('labelProperty', 'contains administrative territorial entity'), ('objects', 'http://www.wikidata.org/entity/Q3927160,http://www.wikidata.org/entity/Q3927161,http://www.wikidata.org/entity/Q3927157,http://www.wikidata.org/entity/Q3927162,http://www.wikidata.org/entity/Q3927159'), ('labelsObjects', 'Borough 3 of Florence,Borough 4 of Florence - Isolotto/Legnaia,borough 1 of Florence,Borough 5 - Rifredi - of Florence,Borough 1 - Campo di Marte - of Florenz')]\n",
      "[('property', 'http://www.wikidata.org/prop/direct/P190'), ('labelProperty', 'twinned administrative body'), ('objects', 'http://www.wikidata.org/entity/Q503361,http://www.wikidata.org/entity/Q18383,http://www.wikidata.org/entity/Q19689,http://www.wikidata.org/entity/Q41876,http://www.wikidata.org/entity/Q81137,http://www.wikidata.org/entity/Q93347,http://www.wikidata.org/entity/Q125293,http://www.wikidata.org/entity/Q1345,http://www.wikidata.org/entity/Q1524,http://www.wikidata.org/entity/Q159273,http://www.wikidata.org/entity/Q16666,http://www.wikidata.org/entity/Q1731,http://www.wikidata.org/entity/Q1773,http://www.wikidata.org/entity/Q1781,http://www.wikidata.org/entity/Q185134,http://www.wikidata.org/entity/Q1899,http://www.wikidata.org/entity/Q1953,http://www.wikidata.org/entity/Q214178,http://www.wikidata.org/entity/Q23436,http://www.wikidata.org/entity/Q2865,http://www.wikidata.org/entity/Q3130,http://www.wikidata.org/entity/Q31487,http://www.wikidata.org/entity/Q34404,http://www.wikidata.org/entity/Q34600,http://www.wikidata.org/entity/Q35178,http://www.wikidata.org/entity/Q36947,http://www.wikidata.org/entity/Q3766,http://www.wikidata.org/entity/Q406,http://www.wikidata.org/entity/Q42053,http://www.wikidata.org/entity/Q51103,http://www.wikidata.org/entity/Q5753,http://www.wikidata.org/entity/Q5776,http://www.wikidata.org/entity/Q80985,http://www.wikidata.org/entity/Q8356,http://www.wikidata.org/entity/Q93338,http://www.wikidata.org/entity/Q3642,http://www.wikidata.org/entity/Q7786,http://www.wikidata.org/entity/Q430776,http://www.wikidata.org/entity/Q45798,http://www.wikidata.org/entity/Q38511,http://www.wikidata.org/entity/Q753752'), ('labelsObjects', 'Malmö Municipality,Providence,Tirana,Reims,Olomouc,Mostar,Puebla City,Philadelphia,Athens,Arequipa,Nanjing,Dresden,Riga,Budapest,Tlemcen,Kyiv,Yerevan,Nablus,Edinburgh,Kassel,Sydney,Kraków,New Orleans,Kyoto,Kuwait City,Salvador,Damascus,Istanbul,Isfahan,Cali,Samarkand,Bethlehem,Fez,Valladolid,Gaziantep,Asmara,Pekanbaru,Nazareth,Gifu,Turku,Gemlik')]\n",
      "[('property', 'http://www.wikidata.org/prop/direct/P30'), ('labelProperty', 'continent'), ('objects', 'http://www.wikidata.org/entity/Q46'), ('labelsObjects', 'Europe')]\n",
      "[('property', 'http://www.wikidata.org/prop/direct/P1151'), ('labelProperty', \"topic's main Wikimedia portal\"), ('objects', 'http://www.wikidata.org/entity/Q10991781'), ('labelsObjects', 'Portal:Florence')]\n",
      "[('property', 'http://www.wikidata.org/prop/direct/P194'), ('labelProperty', 'legislative body'), ('objects', 'http://www.wikidata.org/entity/Q50188656'), ('labelsObjects', 'Florence City Council')]\n",
      "[('property', 'http://www.wikidata.org/prop/direct/P421'), ('labelProperty', 'located in time zone'), ('objects', 'http://www.wikidata.org/entity/Q25989,http://www.wikidata.org/entity/Q6655,http://www.wikidata.org/entity/Q6723'), ('labelsObjects', 'Central European Time,UTC+01:00,UTC+02:00')]\n",
      "[('property', 'http://www.wikidata.org/prop/direct/P7867'), ('labelProperty', 'category for maps'), ('objects', 'http://www.wikidata.org/entity/Q84044440'), ('labelsObjects', 'Category:Maps of Florence')]\n",
      "[('property', 'http://www.wikidata.org/prop/direct/P793'), ('labelProperty', 'significant event'), ('objects', 'http://www.wikidata.org/entity/Q981042,http://www.wikidata.org/entity/Q333349'), ('labelsObjects', 'Siege of Florence,1966 Flood of the Arno River')]\n",
      "32\n"
     ]
    }
   ],
   "source": [
    "queryString = \"\"\"\n",
    "SELECT DISTINCT ?property ?labelProperty (GROUP_CONCAT(?object ; separator = \",\")  AS ?objects) (GROUP_CONCAT(?labelObject; separator = \",\")  AS ?labelsObjects)\n",
    "WHERE \n",
    "{   \n",
    "   wd:Q2044 ?property ?object .  \n",
    " \n",
    "   # Labels\n",
    "   ?property sc:name ?labelProperty .      \n",
    "   ?object sc:name ?labelObject\n",
    "   \n",
    "   FILTER(!isLiteral(?object)) .   \n",
    "}GROUP BY ?property ?labelProperty\n",
    "LIMIT 50\n",
    "\"\"\"\n",
    "print(\"Results\")\n",
    "x=run_query(queryString)"
   ]
  },
  {
   "cell_type": "markdown",
   "id": "d8d0db37-1d80-4dcd-ad18-32be4ecad8e1",
   "metadata": {
    "tags": []
   },
   "source": [
    "### Get the number of poet (wd:Q49757) whose \"nationality\" is \"Italian\" (wd:Q38)  that attened university and was born in the same place."
   ]
  },
  {
   "cell_type": "code",
   "execution_count": 6,
   "id": "dea79e68-f0af-40d6-a7cd-7e66b0863b7c",
   "metadata": {},
   "outputs": [
    {
     "name": "stdout",
     "output_type": "stream",
     "text": [
      "Results\n",
      "[('placeOfBirth', 'http://www.wikidata.org/entity/Q3519'), ('labelPlaceOfBirth', 'Bari'), ('numberOfPoets', '1')]\n",
      "[('placeOfBirth', 'http://www.wikidata.org/entity/Q1449'), ('labelPlaceOfBirth', 'Genoa'), ('numberOfPoets', '1')]\n",
      "[('placeOfBirth', 'http://www.wikidata.org/entity/Q2683'), ('labelPlaceOfBirth', 'Parma'), ('numberOfPoets', '2')]\n",
      "[('placeOfBirth', 'http://www.wikidata.org/entity/Q13629'), ('labelPlaceOfBirth', 'Sassari'), ('numberOfPoets', '1')]\n",
      "[('placeOfBirth', 'http://www.wikidata.org/entity/Q495'), ('labelPlaceOfBirth', 'Turin'), ('numberOfPoets', '6')]\n",
      "[('placeOfBirth', 'http://www.wikidata.org/entity/Q13666'), ('labelPlaceOfBirth', 'Messina'), ('numberOfPoets', '1')]\n",
      "[('placeOfBirth', 'http://www.wikidata.org/entity/Q617'), ('labelPlaceOfBirth', 'Padua'), ('numberOfPoets', '2')]\n",
      "[('placeOfBirth', 'http://www.wikidata.org/entity/Q326339'), ('labelPlaceOfBirth', 'Üsküdar'), ('numberOfPoets', '1')]\n",
      "[('placeOfBirth', 'http://www.wikidata.org/entity/Q2759'), ('labelPlaceOfBirth', 'Urbino'), ('numberOfPoets', '1')]\n",
      "[('placeOfBirth', 'http://www.wikidata.org/entity/Q1903'), ('labelPlaceOfBirth', 'Catania'), ('numberOfPoets', '1')]\n",
      "[('placeOfBirth', 'http://www.wikidata.org/entity/Q1891'), ('labelPlaceOfBirth', 'Bologna'), ('numberOfPoets', '2')]\n",
      "[('placeOfBirth', 'http://www.wikidata.org/entity/Q2044'), ('labelPlaceOfBirth', 'Florence'), ('numberOfPoets', '8')]\n",
      "[('placeOfBirth', 'http://www.wikidata.org/entity/Q546'), ('labelPlaceOfBirth', 'Trieste'), ('numberOfPoets', '2')]\n",
      "[('placeOfBirth', 'http://www.wikidata.org/entity/Q13138'), ('labelPlaceOfBirth', 'Chieti'), ('numberOfPoets', '1')]\n",
      "[('placeOfBirth', 'http://www.wikidata.org/entity/Q490'), ('labelPlaceOfBirth', 'Milan'), ('numberOfPoets', '13')]\n",
      "[('placeOfBirth', 'http://www.wikidata.org/entity/Q220'), ('labelPlaceOfBirth', 'Rome'), ('numberOfPoets', '12')]\n",
      "16\n"
     ]
    }
   ],
   "source": [
    "queryString = \"\"\"\n",
    "SELECT DISTINCT ?placeOfBirth ?labelPlaceOfBirth (COUNT(DISTINCT ?poet) AS ?numberOfPoets)\n",
    "WHERE \n",
    "{   \n",
    "    ?poet wdt:P106 wd:Q49757 ;          \n",
    "          wdt:P27 wd:Q38 ;\n",
    "          wdt:P69 ?university ;\n",
    "          wdt:P19 ?placeOfBirth .\n",
    "          \n",
    "    ?university wdt:P131 ?placeOfBirth .\n",
    "    \n",
    "    #Labels    \n",
    "    ?placeOfBirth sc:name ?labelPlaceOfBirth .    \n",
    "}GROUP BY ?placeOfBirth ?labelPlaceOfBirth\n",
    "LIMIT 50\n",
    "\"\"\"\n",
    "print(\"Results\")\n",
    "x=run_query(queryString)"
   ]
  },
  {
   "cell_type": "markdown",
   "id": "188a0032-d9d6-4345-a3c1-95356317dcde",
   "metadata": {
    "tags": []
   },
   "source": [
    "### Get the number of \"poet\" (wd:Q49757) whose \"nationality\" contains \"Italy\" that attened university and was born in the same place."
   ]
  },
  {
   "cell_type": "code",
   "execution_count": 7,
   "id": "d39706ff-5cf3-431b-8724-974e458792db",
   "metadata": {},
   "outputs": [
    {
     "name": "stdout",
     "output_type": "stream",
     "text": [
      "Results\n",
      "[('placeOfBirth', 'http://www.wikidata.org/entity/Q3519'), ('labelPlaceOfBirth', 'Bari'), ('numberOfPoets', '1')]\n",
      "[('placeOfBirth', 'http://www.wikidata.org/entity/Q1449'), ('labelPlaceOfBirth', 'Genoa'), ('numberOfPoets', '3')]\n",
      "[('placeOfBirth', 'http://www.wikidata.org/entity/Q2683'), ('labelPlaceOfBirth', 'Parma'), ('numberOfPoets', '2')]\n",
      "[('placeOfBirth', 'http://www.wikidata.org/entity/Q13629'), ('labelPlaceOfBirth', 'Sassari'), ('numberOfPoets', '1')]\n",
      "[('placeOfBirth', 'http://www.wikidata.org/entity/Q495'), ('labelPlaceOfBirth', 'Turin'), ('numberOfPoets', '9')]\n",
      "[('placeOfBirth', 'http://www.wikidata.org/entity/Q13666'), ('labelPlaceOfBirth', 'Messina'), ('numberOfPoets', '1')]\n",
      "[('placeOfBirth', 'http://www.wikidata.org/entity/Q617'), ('labelPlaceOfBirth', 'Padua'), ('numberOfPoets', '2')]\n",
      "[('placeOfBirth', 'http://www.wikidata.org/entity/Q326339'), ('labelPlaceOfBirth', 'Üsküdar'), ('numberOfPoets', '1')]\n",
      "[('placeOfBirth', 'http://www.wikidata.org/entity/Q2759'), ('labelPlaceOfBirth', 'Urbino'), ('numberOfPoets', '2')]\n",
      "[('placeOfBirth', 'http://www.wikidata.org/entity/Q1903'), ('labelPlaceOfBirth', 'Catania'), ('numberOfPoets', '1')]\n",
      "[('placeOfBirth', 'http://www.wikidata.org/entity/Q1891'), ('labelPlaceOfBirth', 'Bologna'), ('numberOfPoets', '2')]\n",
      "[('placeOfBirth', 'http://www.wikidata.org/entity/Q2044'), ('labelPlaceOfBirth', 'Florence'), ('numberOfPoets', '8')]\n",
      "[('placeOfBirth', 'http://www.wikidata.org/entity/Q546'), ('labelPlaceOfBirth', 'Trieste'), ('numberOfPoets', '2')]\n",
      "[('placeOfBirth', 'http://www.wikidata.org/entity/Q13138'), ('labelPlaceOfBirth', 'Chieti'), ('numberOfPoets', '1')]\n",
      "[('placeOfBirth', 'http://www.wikidata.org/entity/Q490'), ('labelPlaceOfBirth', 'Milan'), ('numberOfPoets', '14')]\n",
      "[('placeOfBirth', 'http://www.wikidata.org/entity/Q220'), ('labelPlaceOfBirth', 'Rome'), ('numberOfPoets', '14')]\n",
      "16\n"
     ]
    }
   ],
   "source": [
    "queryString = \"\"\"\n",
    "SELECT DISTINCT ?placeOfBirth ?labelPlaceOfBirth (COUNT(DISTINCT ?poet) AS ?numberOfPoets)\n",
    "WHERE \n",
    "{   \n",
    "    ?poet wdt:P106 wd:Q49757 ;\n",
    "          wdt:P27 ?nationality ;          \n",
    "          wdt:P69 ?university ;\n",
    "          wdt:P19 ?placeOfBirth .\n",
    "    \n",
    "    ?university wdt:P131 ?placeOfBirth .    \n",
    "    \n",
    "    #Labels\n",
    "    ?nationality sc:name ?labelNationality .\n",
    "    ?placeOfBirth sc:name ?labelPlaceOfBirth .\n",
    "    \n",
    "    FILTER (CONTAINS (?labelNationality, \"Italy\")) .\n",
    "}GROUP BY ?placeOfBirth ?labelPlaceOfBirth\n",
    "LIMIT 50\n",
    "\"\"\"\n",
    "print(\"Results\")\n",
    "x=run_query(queryString)"
   ]
  },
  {
   "cell_type": "markdown",
   "id": "d40ede39-e2cd-4e0c-89ee-9d3bd2e29fc9",
   "metadata": {
    "tags": []
   },
   "source": [
    "### Final Query : 2 solutions\n",
    "For this query there are 2 possible solutions because \"italian poets\" can be :\n",
    "- the poets with \"nationality\" (wtd:P27) equal to \"Italy\" (wd:Q48)\n",
    "- the poets with \"nationality\" (wtd:P27) equal to \"Italy\" (wd:Q48) or the ones that have \"nationality\" (wdt:P27) that contains \"Italy\" in the label or the poets with \"birth place\" that is in \"Italy\"\n",
    "This is due to the fact that, some poets can be italian ones, but they are not born in a before Italy was create, and, because this is not known by the database (snapshot) itself, we can have 2 possible solutions."
   ]
  },
  {
   "cell_type": "markdown",
   "id": "1d6c58c4",
   "metadata": {},
   "source": [
    "Final query for this task"
   ]
  },
  {
   "cell_type": "code",
   "execution_count": 11,
   "id": "1d3b0e62-40da-46da-8a7c-520e7cf0fa82",
   "metadata": {},
   "outputs": [
    {
     "name": "stdout",
     "output_type": "stream",
     "text": [
      "Results\n",
      "[('placeOfBirth', 'http://www.wikidata.org/entity/Q1903'), ('labelPlaceOfBirth', 'Catania'), ('numberOfPoets', '1')]\n",
      "[('placeOfBirth', 'http://www.wikidata.org/entity/Q13362'), ('labelPlaceOfBirth', 'Ferrara'), ('numberOfPoets', '1')]\n",
      "[('placeOfBirth', 'http://www.wikidata.org/entity/Q13629'), ('labelPlaceOfBirth', 'Sassari'), ('numberOfPoets', '1')]\n",
      "[('placeOfBirth', 'http://www.wikidata.org/entity/Q13138'), ('labelPlaceOfBirth', 'Chieti'), ('numberOfPoets', '1')]\n",
      "[('placeOfBirth', 'http://www.wikidata.org/entity/Q2634'), ('labelPlaceOfBirth', 'Naples'), ('numberOfPoets', '2')]\n",
      "[('placeOfBirth', 'http://www.wikidata.org/entity/Q220'), ('labelPlaceOfBirth', 'Rome'), ('numberOfPoets', '16')]\n",
      "[('placeOfBirth', 'http://www.wikidata.org/entity/Q495'), ('labelPlaceOfBirth', 'Turin'), ('numberOfPoets', '9')]\n",
      "[('placeOfBirth', 'http://www.wikidata.org/entity/Q2044'), ('labelPlaceOfBirth', 'Florence'), ('numberOfPoets', '9')]\n",
      "[('placeOfBirth', 'http://www.wikidata.org/entity/Q546'), ('labelPlaceOfBirth', 'Trieste'), ('numberOfPoets', '2')]\n",
      "[('placeOfBirth', 'http://www.wikidata.org/entity/Q1449'), ('labelPlaceOfBirth', 'Genoa'), ('numberOfPoets', '3')]\n",
      "[('placeOfBirth', 'http://www.wikidata.org/entity/Q2683'), ('labelPlaceOfBirth', 'Parma'), ('numberOfPoets', '2')]\n",
      "[('placeOfBirth', 'http://www.wikidata.org/entity/Q617'), ('labelPlaceOfBirth', 'Padua'), ('numberOfPoets', '4')]\n",
      "[('placeOfBirth', 'http://www.wikidata.org/entity/Q13666'), ('labelPlaceOfBirth', 'Messina'), ('numberOfPoets', '1')]\n",
      "[('placeOfBirth', 'http://www.wikidata.org/entity/Q13377'), ('labelPlaceOfBirth', 'Prato'), ('numberOfPoets', '1')]\n",
      "[('placeOfBirth', 'http://www.wikidata.org/entity/Q490'), ('labelPlaceOfBirth', 'Milan'), ('numberOfPoets', '14')]\n",
      "[('placeOfBirth', 'http://www.wikidata.org/entity/Q1891'), ('labelPlaceOfBirth', 'Bologna'), ('numberOfPoets', '4')]\n",
      "[('placeOfBirth', 'http://www.wikidata.org/entity/Q326339'), ('labelPlaceOfBirth', 'Üsküdar'), ('numberOfPoets', '1')]\n",
      "[('placeOfBirth', 'http://www.wikidata.org/entity/Q2751'), ('labelPlaceOfBirth', 'Siena'), ('numberOfPoets', '1')]\n",
      "[('placeOfBirth', 'http://www.wikidata.org/entity/Q2759'), ('labelPlaceOfBirth', 'Urbino'), ('numberOfPoets', '2')]\n",
      "[('placeOfBirth', 'http://www.wikidata.org/entity/Q3519'), ('labelPlaceOfBirth', 'Bari'), ('numberOfPoets', '1')]\n",
      "20\n"
     ]
    }
   ],
   "source": [
    "queryString = \"\"\"\n",
    "SELECT DISTINCT ?placeOfBirth ?labelPlaceOfBirth (COUNT(DISTINCT ?poet) AS ?numberOfPoets)\n",
    "WHERE \n",
    "{   \n",
    "    ?poet wdt:P106 wd:Q49757 ;                   \n",
    "          wdt:P69 ?university ;\n",
    "          wdt:P19 ?placeOfBirth .\n",
    "    ?university wdt:P131 ?placeOfBirth . \n",
    "        \n",
    "    {\n",
    "        ?placeOfBirth wdt:P17 wd:Q48 .    \n",
    "    }\n",
    "    UNION\n",
    "    {\n",
    "        ?placeOfBirth wdt:P17 ?countryPlaceOfBirth .\n",
    "        ?countryPlaceOfBirth sc:name ?labelCountryPlaceOfBirth .\n",
    "        FILTER(CONTAINS(?labelCountryPlaceOfBirth, \"Italy\")) .\n",
    "    }\n",
    "    UNION\n",
    "    {\n",
    "        ?poet wdt:P27 wd:Q48 .\n",
    "    }\n",
    "    UNION \n",
    "    {\n",
    "        ?poet wdt:P27 ?nationality .\n",
    "        ?nationality sc:name ?labelNationality .\n",
    "        FILTER(CONTAINS(?labelNationality, \"Italy\")) .\n",
    "    }\n",
    "\n",
    "    #Labels    \n",
    "    ?placeOfBirth sc:name ?labelPlaceOfBirth .      \n",
    "\n",
    "}GROUP BY ?placeOfBirth ?labelPlaceOfBirth\n",
    "LIMIT 50\n",
    "\"\"\"\n",
    "print(\"Results\")\n",
    "x=run_query(queryString)"
   ]
  },
  {
   "cell_type": "code",
   "execution_count": 7,
   "id": "3c73c70f-1e2e-43ac-a920-a88bfbe2a375",
   "metadata": {},
   "outputs": [
    {
     "name": "stdout",
     "output_type": "stream",
     "text": [
      "Results\n",
      "Empty\n"
     ]
    }
   ],
   "source": [
    "queryString = \"\"\"\n",
    "SELECT DISTINCT ?placeOfBirth ?labelPlaceOfBirth (COUNT(DISTINCT ?poet) AS ?numberOfPoets)\n",
    "WHERE \n",
    "{   \n",
    "    ?poet wdt:P106 wd:Q49757 ;                   \n",
    "          wdt:P69 ?university ;\n",
    "          wdt:P27 wd:Q48 ;\n",
    "          wdt:P19 ?placeOfBirth .\n",
    "    ?university wdt:P131 ?placeOfBirth . \n",
    "\n",
    "    \n",
    "    #Labels    \n",
    "    ?placeOfBirth sc:name ?labelPlaceOfBirth .      \n",
    "\n",
    "}GROUP BY ?placeOfBirth ?labelPlaceOfBirth\n",
    "LIMIT 50\n",
    "\"\"\"\n",
    "print(\"Results\")\n",
    "x=run_query(queryString)"
   ]
  },
  {
   "cell_type": "markdown",
   "id": "c7355e23",
   "metadata": {},
   "source": [
    "## Task 8\n",
    "Return the italian poets who won the Nobel Prize in Literature (the result set must be poet IRI and label)."
   ]
  },
  {
   "cell_type": "markdown",
   "id": "4dffd672-a5cf-4fb6-b273-97fba209006b",
   "metadata": {
    "tags": []
   },
   "source": [
    "### Get all the list of possible \"award received\" (wdt:P166) by \"poets\" (wd:Q49757) and whose label of the award start with \"Nob\""
   ]
  },
  {
   "cell_type": "code",
   "execution_count": 15,
   "id": "3fdd6cc0-468a-48da-9449-dfe2ece0591f",
   "metadata": {},
   "outputs": [
    {
     "name": "stdout",
     "output_type": "stream",
     "text": [
      "Results\n",
      "[('award', 'http://www.wikidata.org/entity/Q37922'), ('labelAward', 'Nobel Prize in Literature')]\n",
      "[('award', 'http://www.wikidata.org/entity/Q38104'), ('labelAward', 'Nobel Prize in Physics')]\n",
      "[('award', 'http://www.wikidata.org/entity/Q44585'), ('labelAward', 'Nobel Prize in Chemistry')]\n",
      "[('award', 'http://www.wikidata.org/entity/Q35637'), ('labelAward', 'Nobel Peace Prize')]\n",
      "[('award', 'http://www.wikidata.org/entity/Q2192649'), ('labelAward', 'Nobility of the First French Empire')]\n",
      "[('award', 'http://www.wikidata.org/entity/Q80061'), ('labelAward', 'Nobel Prize in Physiology or Medicine')]\n",
      "6\n"
     ]
    }
   ],
   "source": [
    "queryString = \"\"\"\n",
    "SELECT DISTINCT ?award ?labelAward\n",
    "WHERE \n",
    "{   \n",
    "    ?poet wdt:P106 wd:Q49757 ;\n",
    "          wdt:P166 ?award .\n",
    "    ?award sc:name ?labelAward .\n",
    "    FILTER REGEX (?labelAward ,\"^Nob\")\n",
    "}\n",
    "LIMIT 150\n",
    "\"\"\"\n",
    "print(\"Results\")\n",
    "x=run_query(queryString)"
   ]
  },
  {
   "cell_type": "markdown",
   "id": "6d6ab1ac-2bcb-4809-a754-1975722cafa4",
   "metadata": {
    "tags": []
   },
   "source": [
    "### Get all the poet (wd:Q49757) that are connected with \"award received\" (wdt:P166) to \"Nobel Prize in Literature\" (wd:Q37922) and that have label for the nationality that contains \"Italy\""
   ]
  },
  {
   "cell_type": "code",
   "execution_count": 15,
   "id": "6f3a8597-5f4b-4198-aa8a-ef7ad87b5a5b",
   "metadata": {},
   "outputs": [
    {
     "name": "stdout",
     "output_type": "stream",
     "text": [
      "Results\n",
      "[('poet', 'http://www.wikidata.org/entity/Q7728'), ('labelPoet', 'Grazia Deledda')]\n",
      "[('poet', 'http://www.wikidata.org/entity/Q43440'), ('labelPoet', 'Giosuè Carducci')]\n",
      "[('poet', 'http://www.wikidata.org/entity/Q1403'), ('labelPoet', 'Luigi Pirandello')]\n",
      "[('poet', 'http://www.wikidata.org/entity/Q83038'), ('labelPoet', 'Salvatore Quasimodo')]\n",
      "[('poet', 'http://www.wikidata.org/entity/Q83174'), ('labelPoet', 'Eugenio Montale')]\n",
      "[('poet', 'http://www.wikidata.org/entity/Q765'), ('labelPoet', 'Dario Fo')]\n",
      "6\n"
     ]
    }
   ],
   "source": [
    "queryString = \"\"\"\n",
    "SELECT DISTINCT ?poet ?labelPoet\n",
    "WHERE \n",
    "{   \n",
    "    ?poet wdt:P106 wd:Q49757 ;\n",
    "          wdt:P27 ?nationality ;\n",
    "          wdt:P166 wd:Q37922 .\n",
    "    \n",
    "    #Labels\n",
    "    ?nationality sc:name ?labelNationality .\n",
    "    ?poet sc:name ?labelPoet .\n",
    "    \n",
    "    FILTER (CONTAINS (?labelNationality, \"Italy\")) .\n",
    "}\n",
    "LIMIT 50\n",
    "\"\"\"\n",
    "print(\"Results\")\n",
    "x=run_query(queryString)"
   ]
  },
  {
   "cell_type": "markdown",
   "id": "f5f871cd-62bb-499e-8108-df5d5fb51b2d",
   "metadata": {
    "tags": []
   },
   "source": [
    "### Get all the poet (wd:Q49757) that are connected with \"award received\" (wdt:P166) to \"Nobel Prize in Literature\" (wd:Q37922) and that have nationality \"Italy\" (wd:Q38)"
   ]
  },
  {
   "cell_type": "code",
   "execution_count": 17,
   "id": "41044eb2-1aaa-4fb0-a058-5b3ab21bced2",
   "metadata": {},
   "outputs": [
    {
     "name": "stdout",
     "output_type": "stream",
     "text": [
      "Results\n",
      "[('poet', 'http://www.wikidata.org/entity/Q765'), ('labelPoet', 'Dario Fo')]\n",
      "[('poet', 'http://www.wikidata.org/entity/Q83038'), ('labelPoet', 'Salvatore Quasimodo')]\n",
      "[('poet', 'http://www.wikidata.org/entity/Q83174'), ('labelPoet', 'Eugenio Montale')]\n",
      "3\n"
     ]
    }
   ],
   "source": [
    "queryString = \"\"\"\n",
    "SELECT ?poet ?labelPoet\n",
    "WHERE \n",
    "{   \n",
    "    ?poet wdt:P106 wd:Q49757 ;\n",
    "          wdt:P27 wd:Q38 ;\n",
    "          wdt:P166 wd:Q37922 .\n",
    "    \n",
    "    #Labels\n",
    "    ?poet sc:name ?labelPoet .    \n",
    "}\n",
    "LIMIT 50\n",
    "\"\"\"\n",
    "print(\"Results\")\n",
    "x=run_query(queryString)"
   ]
  },
  {
   "cell_type": "markdown",
   "id": "32cfe756-7292-47f3-89f1-3bff1118878b",
   "metadata": {
    "tags": []
   },
   "source": [
    "### Final Query : 2 solutions\n",
    "For this query there are 2 possible solutions because \"italian poets\" can be :\n",
    "- the poets with \"nationality\" (wtd:P27) equal to \"Italy\" (wd:Q48)\n",
    "- the poets with \"nationality\" (wtd:P27) equal to \"Italy\" (wd:Q48) or the ones that have \"nationality\" (wdt:P27) that contains \"Italy\" in the label or the poets with \"birth place\" that is in \"Italy\"\n",
    "This is due to the fact that, some poets can be italian ones, but they are not born in a before Italy was create, and, because this is not known by the database (snapshot) itself, we can have 2 possible solutions."
   ]
  },
  {
   "cell_type": "markdown",
   "id": "bb914849",
   "metadata": {},
   "source": [
    "Final query for this task"
   ]
  },
  {
   "cell_type": "code",
   "execution_count": 13,
   "id": "50762da6",
   "metadata": {},
   "outputs": [
    {
     "name": "stdout",
     "output_type": "stream",
     "text": [
      "Results\n",
      "[('poet', 'http://www.wikidata.org/entity/Q83174'), ('labelPoet', 'Eugenio Montale')]\n",
      "[('poet', 'http://www.wikidata.org/entity/Q43440'), ('labelPoet', 'Giosuè Carducci')]\n",
      "[('poet', 'http://www.wikidata.org/entity/Q7728'), ('labelPoet', 'Grazia Deledda')]\n",
      "[('poet', 'http://www.wikidata.org/entity/Q1403'), ('labelPoet', 'Luigi Pirandello')]\n",
      "[('poet', 'http://www.wikidata.org/entity/Q83038'), ('labelPoet', 'Salvatore Quasimodo')]\n",
      "[('poet', 'http://www.wikidata.org/entity/Q765'), ('labelPoet', 'Dario Fo')]\n",
      "6\n"
     ]
    }
   ],
   "source": [
    "queryString = \"\"\"\n",
    "SELECT DISTINCT ?poet ?labelPoet\n",
    "WHERE \n",
    "{   \n",
    "    ?poet wdt:P106 wd:Q49757 ; \n",
    "          wdt:P166 wd:Q37922 ;\n",
    "          wdt:P19 ?placeOfBirth .\n",
    "        \n",
    "    {\n",
    "        ?placeOfBirth wdt:P17 wd:Q48 .    \n",
    "    }\n",
    "    UNION\n",
    "    {\n",
    "        ?placeOfBirth wdt:P17 ?countryPlaceOfBirth .\n",
    "        ?countryPlaceOfBirth sc:name ?labelCountryPlaceOfBirth .\n",
    "        FILTER(CONTAINS(?labelCountryPlaceOfBirth, \"Italy\")) .\n",
    "    }\n",
    "    UNION\n",
    "    {\n",
    "        ?poet wdt:P27 wd:Q48 .\n",
    "    }\n",
    "    UNION \n",
    "    {\n",
    "        ?poet wdt:P27 ?nationality .\n",
    "        ?nationality sc:name ?labelNationality .\n",
    "        FILTER(CONTAINS(?labelNationality, \"Italy\")) .\n",
    "    }\n",
    "    \n",
    "    #Labels\n",
    "    ?poet sc:name ?labelPoet . \n",
    "         \n",
    "\n",
    "}\n",
    "LIMIT 50\n",
    "\"\"\"\n",
    "print(\"Results\")\n",
    "x=run_query(queryString)"
   ]
  },
  {
   "cell_type": "code",
   "execution_count": 8,
   "id": "211495c4-7bd2-42e2-a154-3a4e1abc1e53",
   "metadata": {},
   "outputs": [
    {
     "name": "stdout",
     "output_type": "stream",
     "text": [
      "Results\n",
      "Empty\n"
     ]
    }
   ],
   "source": [
    "queryString = \"\"\"\n",
    "SELECT DISTINCT ?poet ?labelPoet\n",
    "WHERE \n",
    "{   \n",
    "    ?poet wdt:P106 wd:Q49757 ; \n",
    "          wdt:P166 wd:Q37922 ;\n",
    "          wdt:P27 wd:Q48 ;\n",
    "          wdt:P19 ?placeOfBirth .    \n",
    "    \n",
    "    #Labels\n",
    "    ?poet sc:name ?labelPoet . \n",
    "}\n",
    "LIMIT 50\n",
    "\"\"\"\n",
    "print(\"Results\")\n",
    "x=run_query(queryString)"
   ]
  }
 ],
 "metadata": {
  "kernelspec": {
   "display_name": "Python 3 (ipykernel)",
   "language": "python",
   "name": "python3"
  },
  "language_info": {
   "codemirror_mode": {
    "name": "ipython",
    "version": 3
   },
   "file_extension": ".py",
   "mimetype": "text/x-python",
   "name": "python",
   "nbconvert_exporter": "python",
   "pygments_lexer": "ipython3",
   "version": "3.7.10"
  }
 },
 "nbformat": 4,
 "nbformat_minor": 5
}
