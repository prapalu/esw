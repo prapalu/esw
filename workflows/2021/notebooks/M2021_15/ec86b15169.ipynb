{
 "cells": [
  {
   "cell_type": "markdown",
   "id": "7034c3bf-6eb0-4418-8687-7b9d2a501103",
   "metadata": {},
   "source": [
    "# General instructions\n",
    "\n",
    "The goal of the project is to materialize a set of **exploratory workloads** over a real-world, large-scale,  open-domain KG: [WikiData](https://www.wikidata.org/wiki/Wikidata:Main_Page)\n",
    "\n",
    "An exploratory workload  is composed by a set of queries, where each query is related to the information obtained previously.\n",
    "\n",
    "An exploratory workload starts with a usually vague, open ended question, and does not assume the person issuing the workload has a clear understanding of the data contained in the target database or its structure.\n",
    "\n",
    "Remeber that:\n",
    "\n",
    "1. All the queries must run in the python notebook\n",
    "2. You can use classes and properties only if you find them via a SPARQL query that must be present in the notebook\n",
    "3. You do not delete useless queries. Keep everything that is synthatically valid \n",
    "\n",
    "```\n",
    "?p <http://schema.org/name> ?name .\n",
    "```\n",
    "    \n",
    "is the BGP returning a human-readable name of a property or a class in Wikidata.\n",
    "    \n",
    "    "
   ]
  },
  {
   "cell_type": "code",
   "execution_count": 1,
   "id": "3605c9d5-5371-49a5-be8d-d66e8f417139",
   "metadata": {},
   "outputs": [],
   "source": [
    "## SETUP used later\n",
    "\n",
    "from SPARQLWrapper import SPARQLWrapper, JSON\n",
    "\n",
    "\n",
    "prefixString = \"\"\"\n",
    "##-ec86b15169-##\n",
    "PREFIX wd: <http://www.wikidata.org/entity/> \n",
    "PREFIX wdt: <http://www.wikidata.org/prop/direct/> \n",
    "PREFIX sc: <http://schema.org/>\n",
    "\"\"\"\n",
    "\n",
    "# select and construct queries\n",
    "def run_query(queryString):\n",
    "    to_run = prefixString + \"\\n\" + queryString\n",
    "\n",
    "    sparql = SPARQLWrapper(\"http://a256-gc1-02.srv.aau.dk:5820/sparql\")\n",
    "    sparql.setTimeout(300)\n",
    "    sparql.setReturnFormat(JSON)\n",
    "    sparql.setQuery(to_run)\n",
    "\n",
    "    try :\n",
    "       results = sparql.query()\n",
    "       json_results = results.convert()\n",
    "       if len(json_results['results']['bindings'])==0:\n",
    "          print(\"Empty\")\n",
    "          return 0\n",
    "    \n",
    "       for bindings in json_results['results']['bindings']:\n",
    "          print( [ (var, value['value'])  for var, value in bindings.items() ] )\n",
    "\n",
    "       return len(json_results['results']['bindings'])\n",
    "\n",
    "    except Exception as e :\n",
    "        print(\"The operation failed\", e)\n",
    "    \n",
    "# ASk queries\n",
    "def run_ask_query(queryString):\n",
    "    to_run = prefixString + \"\\n\" + queryString\n",
    "\n",
    "    sparql = SPARQLWrapper(\"http://a256-gc1-02.srv.aau.dk:5820/sparql\")\n",
    "    sparql.setTimeout(300)\n",
    "    sparql.setReturnFormat(JSON)\n",
    "    sparql.setQuery(to_run)\n",
    "\n",
    "    try :\n",
    "        return sparql.query().convert()\n",
    "\n",
    "    except Exception as e :\n",
    "        print(\"The operation failed\", e)\n"
   ]
  },
  {
   "cell_type": "markdown",
   "id": "d477a59c-a68c-4c8f-9f97-8ca5294d7d27",
   "metadata": {},
   "source": [
    "# Sport Workflow Series (\"Olympic explorative search\") \n",
    "\n",
    "Consider the following exploratory information need:\n",
    "\n",
    "> investigate the results, in terms of participations and competitions won, in the past editions of the olympics between France and Germany"
   ]
  },
  {
   "cell_type": "markdown",
   "id": "4a45c0ba-f79e-441d-bec5-84401b09db70",
   "metadata": {},
   "source": [
    "## Useful URIs for the current workflow\n",
    "\n",
    "\n",
    "The following are given:\n",
    "\n",
    "| IRI           | Description   | Role      |\n",
    "| -----------   | -----------   |-----------|\n",
    "| `wdt:P1647`   | subproperty   | predicate |\n",
    "| `wdt:P31`     | instance of   | predicate |\n",
    "| `wdt:P106`    | profession    | predicate | \n",
    "| `wdt:P279`    | subclass      | predicate |\n",
    "| `wdt:P27`     | nationality   | predicate |\n",
    "| `wd:Q159821`  | Olympic games | node      |\n",
    "| `wd:Q10843402`| Swimmer       | node |\n",
    "| `wd:Q2066131` | Athlete       | node |\n",
    "| `wd:Q142`     | France        | node |\n",
    "| `wd:Q183`     | Germany       | node |\n",
    "\n",
    "\n",
    "Also consider\n",
    "\n",
    "\n",
    "```\n",
    "?a wdt:P106/wdt:P279 wd:Q2066131\n",
    "```\n",
    "\n",
    "is the BGP to retrieve all instances of **athlete**\n",
    "\n",
    "\n",
    "```\n",
    "?p wdt:P27 wd:Q142\n",
    "```\n",
    "\n",
    "is the BGP to retrieve all **citizens of France**"
   ]
  },
  {
   "cell_type": "markdown",
   "id": "7af439fb-96e4-4dbb-a381-f19afab79f86",
   "metadata": {
    "tags": []
   },
   "source": [
    "## Workload Goals\n",
    "\n",
    "1. Identify the BGP for participating or winning some competition\n",
    "\n",
    "2. Identify the BGP for different sports or types of competitions\n",
    "\n",
    "3. Is there some French or German Athlete participating to any olympic event with double citizenship?\n",
    "\n",
    "4. Compare number of participations and winning events across different dimensions\n",
    " \n",
    "   4.1 In which specific sport France has more winners than Germany\n",
    "   \n",
    "   4.2 Who has the highest number of female winners\n",
    "   \n",
    "   4.3 For each country , which are the atheletes with the highest number of participations\n"
   ]
  },
  {
   "cell_type": "code",
   "execution_count": 2,
   "id": "24a853ab-830c-422c-afd3-e9e015b8b8ed",
   "metadata": {},
   "outputs": [],
   "source": [
    "# start your workflow here"
   ]
  },
  {
   "cell_type": "code",
   "execution_count": 3,
   "id": "ade01416-92e7-4ad7-b9a9-b8fb330750dc",
   "metadata": {},
   "outputs": [
    {
     "name": "stdout",
     "output_type": "stream",
     "text": [
      "Results\n",
      "[('callret-0', '929008')]\n"
     ]
    },
    {
     "data": {
      "text/plain": [
       "1"
      ]
     },
     "execution_count": 3,
     "metadata": {},
     "output_type": "execute_result"
    }
   ],
   "source": [
    "queryString = \"\"\"\n",
    "SELECT COUNT(*)\n",
    "WHERE { \n",
    "\n",
    "?a wdt:P106/wdt:P279 wd:Q2066131\n",
    "\n",
    "} \n",
    "\"\"\"\n",
    "\n",
    "print(\"Results\")\n",
    "run_query(queryString)"
   ]
  },
  {
   "cell_type": "markdown",
   "id": "53671d6d-d142-4023-8335-93dbac90a3c7",
   "metadata": {},
   "source": [
    "# Task 1\n",
    "\n",
    "*Identify the BGP for participating or winning some competition*"
   ]
  },
  {
   "cell_type": "code",
   "execution_count": 6,
   "id": "f4495230-52da-4c4e-8bd4-910c370bfab1",
   "metadata": {},
   "outputs": [
    {
     "name": "stdout",
     "output_type": "stream",
     "text": [
      "Results\n",
      "[('callret-0', '193')]\n"
     ]
    },
    {
     "data": {
      "text/plain": [
       "1"
      ]
     },
     "execution_count": 6,
     "metadata": {},
     "output_type": "execute_result"
    }
   ],
   "source": [
    "queryString = \"\"\"\n",
    "SELECT COUNT(distinct ?name)\n",
    "WHERE { \n",
    "\n",
    "?a wdt:P106 wd:Q10843402 .\n",
    "?a ?x ?y .\n",
    "?x <http://schema.org/name> ?name .\n",
    "filter(!regex(?name,\"ID\"))\n",
    "} \n",
    "\"\"\"\n",
    "\n",
    "print(\"Results\")\n",
    "run_query(queryString)"
   ]
  },
  {
   "cell_type": "code",
   "execution_count": 8,
   "id": "d96a0593-4a41-4fed-b20c-4593fb8fc393",
   "metadata": {},
   "outputs": [
    {
     "name": "stdout",
     "output_type": "stream",
     "text": [
      "Results\n",
      "[('name', 'record held'), ('x', 'http://www.wikidata.org/prop/direct/P1000')]\n",
      "[('name', 'native language'), ('x', 'http://www.wikidata.org/prop/direct/P103')]\n",
      "[('name', 'medical condition'), ('x', 'http://www.wikidata.org/prop/direct/P1050')]\n",
      "[('name', 'occupation'), ('x', 'http://www.wikidata.org/prop/direct/P106')]\n",
      "[('name', 'Munzinger Sport number'), ('x', 'http://www.wikidata.org/prop/direct/P1285')]\n",
      "[('name', 'described by source'), ('x', 'http://www.wikidata.org/prop/direct/P1343')]\n",
      "[('name', 'participant in'), ('x', 'http://www.wikidata.org/prop/direct/P1344')]\n",
      "[('name', 'languages spoken, written or signed'), ('x', 'http://www.wikidata.org/prop/direct/P1412')]\n",
      "[('name', 'affiliation'), ('x', 'http://www.wikidata.org/prop/direct/P1416')]\n",
      "[('name', 'nickname'), ('x', 'http://www.wikidata.org/prop/direct/P1449')]\n",
      "[('name', 'birth name'), ('x', 'http://www.wikidata.org/prop/direct/P1477')]\n",
      "[('name', 'country for sport'), ('x', 'http://www.wikidata.org/prop/direct/P1532')]\n",
      "[('name', 'name in native language'), ('x', 'http://www.wikidata.org/prop/direct/P1559')]\n",
      "[('name', 'award received'), ('x', 'http://www.wikidata.org/prop/direct/P166')]\n",
      "[('name', 'image'), ('x', 'http://www.wikidata.org/prop/direct/P18')]\n",
      "[('name', 'name in kana'), ('x', 'http://www.wikidata.org/prop/direct/P1814')]\n",
      "[('name', 'blood type'), ('x', 'http://www.wikidata.org/prop/direct/P1853')]\n",
      "[('name', 'different from'), ('x', 'http://www.wikidata.org/prop/direct/P1889')]\n",
      "[('name', 'place of birth'), ('x', 'http://www.wikidata.org/prop/direct/P19')]\n",
      "[('name', 'place of death'), ('x', 'http://www.wikidata.org/prop/direct/P20')]\n",
      "[('name', 'Twitter username'), ('x', 'http://www.wikidata.org/prop/direct/P2002')]\n",
      "[('name', 'Instagram username'), ('x', 'http://www.wikidata.org/prop/direct/P2003')]\n",
      "[('name', 'height'), ('x', 'http://www.wikidata.org/prop/direct/P2048')]\n",
      "[('name', 'mass'), ('x', 'http://www.wikidata.org/prop/direct/P2067')]\n",
      "[('name', 'competition class'), ('x', 'http://www.wikidata.org/prop/direct/P2094')]\n",
      "[('name', 'sex or gender'), ('x', 'http://www.wikidata.org/prop/direct/P21')]\n",
      "[('name', 'ISNI'), ('x', 'http://www.wikidata.org/prop/direct/P213')]\n",
      "[('name', 'father'), ('x', 'http://www.wikidata.org/prop/direct/P22')]\n",
      "[('name', 'sports discipline competed in'), ('x', 'http://www.wikidata.org/prop/direct/P2416')]\n",
      "[('name', 'mother'), ('x', 'http://www.wikidata.org/prop/direct/P25')]\n",
      "[('name', 'victory'), ('x', 'http://www.wikidata.org/prop/direct/P2522')]\n",
      "[('name', 'spouse'), ('x', 'http://www.wikidata.org/prop/direct/P26')]\n",
      "[('name', 'country of citizenship'), ('x', 'http://www.wikidata.org/prop/direct/P27')]\n",
      "[('name', 'head coach'), ('x', 'http://www.wikidata.org/prop/direct/P286')]\n",
      "[('name', 'instance of'), ('x', 'http://www.wikidata.org/prop/direct/P31')]\n",
      "[('name', 'sibling'), ('x', 'http://www.wikidata.org/prop/direct/P3373')]\n",
      "[('name', 'Commons category'), ('x', 'http://www.wikidata.org/prop/direct/P373')]\n",
      "[('name', 'unmarried partner'), ('x', 'http://www.wikidata.org/prop/direct/P451')]\n",
      "[('name', 'member of sports team'), ('x', 'http://www.wikidata.org/prop/direct/P54')]\n",
      "[('name', 'date of birth'), ('x', 'http://www.wikidata.org/prop/direct/P569')]\n",
      "[('name', 'date of death'), ('x', 'http://www.wikidata.org/prop/direct/P570')]\n",
      "[('name', 'sport'), ('x', 'http://www.wikidata.org/prop/direct/P641')]\n",
      "[('name', 'educated at'), ('x', 'http://www.wikidata.org/prop/direct/P69')]\n",
      "[('name', 'family name'), ('x', 'http://www.wikidata.org/prop/direct/P734')]\n",
      "[('name', 'given name'), ('x', 'http://www.wikidata.org/prop/direct/P735')]\n",
      "[('name', 'official website'), ('x', 'http://www.wikidata.org/prop/direct/P856')]\n",
      "[('name', 'social media followers'), ('x', 'http://www.wikidata.org/prop/direct/P8687')]\n",
      "[('name', 'described at URL'), ('x', 'http://www.wikidata.org/prop/direct/P973')]\n",
      "[('name', 'relative'), ('x', 'http://www.wikidata.org/prop/direct/P1038')]\n",
      "[('name', 'employer'), ('x', 'http://www.wikidata.org/prop/direct/P108')]\n",
      "[('name', 'place of burial'), ('x', 'http://www.wikidata.org/prop/direct/P119')]\n",
      "[('name', 'floruit'), ('x', 'http://www.wikidata.org/prop/direct/P1317')]\n",
      "[('name', 'ethnic group'), ('x', 'http://www.wikidata.org/prop/direct/P172')]\n",
      "[('name', 'child'), ('x', 'http://www.wikidata.org/prop/direct/P40')]\n",
      "[('name', 'military rank'), ('x', 'http://www.wikidata.org/prop/direct/P410')]\n",
      "[('name', 'on focus list of Wikimedia project'), ('x', 'http://www.wikidata.org/prop/direct/P5008')]\n",
      "[('name', 'residence'), ('x', 'http://www.wikidata.org/prop/direct/P551')]\n",
      "[('name', 'conflict'), ('x', 'http://www.wikidata.org/prop/direct/P607')]\n",
      "[('name', 'has works in the collection'), ('x', 'http://www.wikidata.org/prop/direct/P6379')]\n",
      "[('name', 'copyright status as a creator'), ('x', 'http://www.wikidata.org/prop/direct/P7763')]\n",
      "[('name', 'sexual orientation'), ('x', 'http://www.wikidata.org/prop/direct/P91')]\n",
      "[('name', 'generational suffix'), ('x', 'http://www.wikidata.org/prop/direct/P8017')]\n",
      "[('name', 'member of political party'), ('x', 'http://www.wikidata.org/prop/direct/P102')]\n",
      "[('name', 'from narrative universe'), ('x', 'http://www.wikidata.org/prop/direct/P1080')]\n",
      "[('name', 'signature'), ('x', 'http://www.wikidata.org/prop/direct/P109')]\n",
      "[('name', 'manner of death'), ('x', 'http://www.wikidata.org/prop/direct/P1196')]\n",
      "[('name', 'instrument'), ('x', 'http://www.wikidata.org/prop/direct/P1303')]\n",
      "[('name', 'genre'), ('x', 'http://www.wikidata.org/prop/direct/P136')]\n",
      "[('name', 'religion'), ('x', 'http://www.wikidata.org/prop/direct/P140')]\n",
      "[('name', 'monogram'), ('x', 'http://www.wikidata.org/prop/direct/P1543')]\n",
      "[('name', 'hair color'), ('x', 'http://www.wikidata.org/prop/direct/P1884')]\n",
      "[('name', 'number of children'), ('x', 'http://www.wikidata.org/prop/direct/P1971')]\n",
      "[('name', 'work period (start)'), ('x', 'http://www.wikidata.org/prop/direct/P2031')]\n",
      "[('name', 'has list'), ('x', 'http://www.wikidata.org/prop/direct/P2354')]\n",
      "[('name', 'superhuman feature or ability'), ('x', 'http://www.wikidata.org/prop/direct/P2563')]\n",
      "[('name', 'record label'), ('x', 'http://www.wikidata.org/prop/direct/P264')]\n",
      "[('name', 'interested in'), ('x', 'http://www.wikidata.org/prop/direct/P2650')]\n",
      "[('name', 'discography'), ('x', 'http://www.wikidata.org/prop/direct/P358')]\n",
      "[('name', 'part of'), ('x', 'http://www.wikidata.org/prop/direct/P361')]\n",
      "[('name', 'position held'), ('x', 'http://www.wikidata.org/prop/direct/P39')]\n",
      "[('name', 'voice type'), ('x', 'http://www.wikidata.org/prop/direct/P412')]\n",
      "[('name', 'position played on team / speciality'), ('x', 'http://www.wikidata.org/prop/direct/P413')]\n",
      "[('name', 'member of'), ('x', 'http://www.wikidata.org/prop/direct/P463')]\n",
      "[('name', 'cause of death'), ('x', 'http://www.wikidata.org/prop/direct/P509')]\n",
      "[('name', 'family'), ('x', 'http://www.wikidata.org/prop/direct/P53')]\n",
      "[('name', 'Europeana entity'), ('x', 'http://www.wikidata.org/prop/direct/P7704')]\n",
      "[('name', 'character type'), ('x', 'http://www.wikidata.org/prop/direct/P9071')]\n",
      "[('name', \"topic's main category\"), ('x', 'http://www.wikidata.org/prop/direct/P910')]\n",
      "[('name', 'coat of arms image'), ('x', 'http://www.wikidata.org/prop/direct/P94')]\n",
      "[('name', 'noble title'), ('x', 'http://www.wikidata.org/prop/direct/P97')]\n",
      "[('name', 'honorific prefix'), ('x', 'http://www.wikidata.org/prop/direct/P511')]\n",
      "[('name', 'image of grave'), ('x', 'http://www.wikidata.org/prop/direct/P1442')]\n",
      "[('name', 'work period (end)'), ('x', 'http://www.wikidata.org/prop/direct/P2032')]\n",
      "[('name', 'military branch'), ('x', 'http://www.wikidata.org/prop/direct/P241')]\n",
      "[('name', 'subject has role'), ('x', 'http://www.wikidata.org/prop/direct/P2868')]\n",
      "[('name', 'pronunciation audio'), ('x', 'http://www.wikidata.org/prop/direct/P443')]\n",
      "[('name', 'Google Doodle'), ('x', 'http://www.wikidata.org/prop/direct/P4431')]\n",
      "[('name', 'Libris-URI'), ('x', 'http://www.wikidata.org/prop/direct/P5587')]\n",
      "[('name', 'IPA transcription'), ('x', 'http://www.wikidata.org/prop/direct/P898')]\n",
      "[('name', 'Commons gallery'), ('x', 'http://www.wikidata.org/prop/direct/P935')]\n",
      "[('name', 'work location'), ('x', 'http://www.wikidata.org/prop/direct/P937')]\n",
      "[('name', 'Ameblo username'), ('x', 'http://www.wikidata.org/prop/direct/P3502')]\n",
      "[('name', 'eye color'), ('x', 'http://www.wikidata.org/prop/direct/P1340')]\n",
      "[('name', 'date of burial or cremation'), ('x', 'http://www.wikidata.org/prop/direct/P4602')]\n",
      "[('name', 'related category'), ('x', 'http://www.wikidata.org/prop/direct/P7084')]\n",
      "[('name', 'notable work'), ('x', 'http://www.wikidata.org/prop/direct/P800')]\n",
      "[('name', 'partner in business or sport'), ('x', 'http://www.wikidata.org/prop/direct/P1327')]\n",
      "[('name', 'second family name in Spanish name'), ('x', 'http://www.wikidata.org/prop/direct/P1950')]\n",
      "[('name', 'candidacy in election'), ('x', 'http://www.wikidata.org/prop/direct/P3602')]\n",
      "[('name', 'catalog code'), ('x', 'http://www.wikidata.org/prop/direct/P528')]\n",
      "[('name', 'U.S. National Archives Identifier'), ('x', 'http://www.wikidata.org/prop/direct/P1225')]\n",
      "[('name', 'significant event'), ('x', 'http://www.wikidata.org/prop/direct/P793')]\n",
      "[('name', 'allegiance'), ('x', 'http://www.wikidata.org/prop/direct/P945')]\n",
      "[('name', 'personal best'), ('x', 'http://www.wikidata.org/prop/direct/P2415')]\n",
      "[('name', 'nominated for'), ('x', 'http://www.wikidata.org/prop/direct/P1411')]\n",
      "[('name', 'IPI name number'), ('x', 'http://www.wikidata.org/prop/direct/P1828')]\n",
      "[('name', 'academic major'), ('x', 'http://www.wikidata.org/prop/direct/P812')]\n",
      "[('name', 'field of work'), ('x', 'http://www.wikidata.org/prop/direct/P101')]\n",
      "[('name', 'subreddit'), ('x', 'http://www.wikidata.org/prop/direct/P3984')]\n",
      "[('name', 'pseudonym'), ('x', 'http://www.wikidata.org/prop/direct/P742')]\n",
      "[('name', 'stated in'), ('x', 'http://www.wikidata.org/prop/direct/P248')]\n",
      "[('name', 'TikTok username'), ('x', 'http://www.wikidata.org/prop/direct/P7085')]\n",
      "[('name', 'Swedish Royal Theater Archive'), ('x', 'http://www.wikidata.org/prop/direct/P7574')]\n",
      "[('name', 'record or record progression'), ('x', 'http://www.wikidata.org/prop/direct/P2869')]\n",
      "[('name', 'McCune-Reischauer romanization'), ('x', 'http://www.wikidata.org/prop/direct/P1942')]\n",
      "[('name', 'Revised Romanization'), ('x', 'http://www.wikidata.org/prop/direct/P2001')]\n",
      "[('name', 'ArhivX LOD'), ('x', 'http://www.wikidata.org/prop/direct/P5821')]\n",
      "[('name', 'commander of (DEPRECATED)'), ('x', 'http://www.wikidata.org/prop/direct/P598')]\n",
      "[('name', 'spoken text audio'), ('x', 'http://www.wikidata.org/prop/direct/P989')]\n",
      "[('name', 'student of'), ('x', 'http://www.wikidata.org/prop/direct/P1066')]\n",
      "[('name', 'commemorative plaque image'), ('x', 'http://www.wikidata.org/prop/direct/P1801')]\n",
      "[('name', 'academic degree'), ('x', 'http://www.wikidata.org/prop/direct/P512')]\n",
      "[('name', 'copyright representative'), ('x', 'http://www.wikidata.org/prop/direct/P6275')]\n",
      "[('name', 'founded by'), ('x', 'http://www.wikidata.org/prop/direct/P112')]\n",
      "[('name', 'coach of sports team'), ('x', 'http://www.wikidata.org/prop/direct/P6087')]\n",
      "[('name', 'convicted of'), ('x', 'http://www.wikidata.org/prop/direct/P1399')]\n",
      "[('name', 'patronym or matronym for this person'), ('x', 'http://www.wikidata.org/prop/direct/P5056')]\n",
      "[('name', 'audio'), ('x', 'http://www.wikidata.org/prop/direct/P51')]\n",
      "[('name', 'significant person'), ('x', 'http://www.wikidata.org/prop/direct/P3342')]\n",
      "[('name', 'participant'), ('x', 'http://www.wikidata.org/prop/direct/P710')]\n",
      "[('name', 'sponsor'), ('x', 'http://www.wikidata.org/prop/direct/P859')]\n",
      "[('name', 'permanent resident of'), ('x', 'http://www.wikidata.org/prop/direct/P5389')]\n",
      "[('name', 'official blog'), ('x', 'http://www.wikidata.org/prop/direct/P1581')]\n",
      "[('name', 'killed by'), ('x', 'http://www.wikidata.org/prop/direct/P157')]\n",
      "[('name', 'doctoral advisor'), ('x', 'http://www.wikidata.org/prop/direct/P184')]\n",
      "[('name', 'parliament.uk biography pages'), ('x', 'http://www.wikidata.org/prop/direct/P1996')]\n",
      "[('name', 'UK Parliament identifier'), ('x', 'http://www.wikidata.org/prop/direct/P6213')]\n",
      "[('name', 'archives at'), ('x', 'http://www.wikidata.org/prop/direct/P485')]\n",
      "[('name', 'maintained by WikiProject'), ('x', 'http://www.wikidata.org/prop/direct/P6104')]\n",
      "[('name', 'student'), ('x', 'http://www.wikidata.org/prop/direct/P802')]\n",
      "[('name', 'video'), ('x', 'http://www.wikidata.org/prop/direct/P10')]\n",
      "[('name', 'place name sign'), ('x', 'http://www.wikidata.org/prop/direct/P1766')]\n",
      "[('name', 'lifestyle'), ('x', 'http://www.wikidata.org/prop/direct/P1576')]\n",
      "[('name', 'Pinterest username'), ('x', 'http://www.wikidata.org/prop/direct/P3836')]\n",
      "[('name', 'writing language'), ('x', 'http://www.wikidata.org/prop/direct/P6886')]\n",
      "[('name', 'place of detention'), ('x', 'http://www.wikidata.org/prop/direct/P2632')]\n",
      "[('name', 'email address'), ('x', 'http://www.wikidata.org/prop/direct/P968')]\n",
      "[('name', 'consecrator'), ('x', 'http://www.wikidata.org/prop/direct/P1598')]\n",
      "[('name', 'present in work'), ('x', 'http://www.wikidata.org/prop/direct/P1441')]\n",
      "[('name', 'performer'), ('x', 'http://www.wikidata.org/prop/direct/P175')]\n",
      "[('name', 'Vimeo identifier'), ('x', 'http://www.wikidata.org/prop/direct/P4015')]\n",
      "[('name', 'doctoral student'), ('x', 'http://www.wikidata.org/prop/direct/P185')]\n",
      "[('name', 'website account on'), ('x', 'http://www.wikidata.org/prop/direct/P553')]\n",
      "[('name', 'Snapchat username'), ('x', 'http://www.wikidata.org/prop/direct/P2984')]\n",
      "[('name', 'married name'), ('x', 'http://www.wikidata.org/prop/direct/P2562')]\n",
      "[('name', 'time in space'), ('x', 'http://www.wikidata.org/prop/direct/P2873')]\n",
      "[('name', 'astronaut mission'), ('x', 'http://www.wikidata.org/prop/direct/P450')]\n",
      "[('name', 'social classification'), ('x', 'http://www.wikidata.org/prop/direct/P3716')]\n",
      "[('name', 'movement'), ('x', 'http://www.wikidata.org/prop/direct/P135')]\n",
      "[('name', 'Hungarian National Assembly identifier'), ('x', 'http://www.wikidata.org/prop/direct/P4966')]\n",
      "[('name', 'service retirement'), ('x', 'http://www.wikidata.org/prop/direct/P730')]\n",
      "[('name', 'place of origin (Switzerland)'), ('x', 'http://www.wikidata.org/prop/direct/P1321')]\n",
      "[('name', 'represented by'), ('x', 'http://www.wikidata.org/prop/direct/P1875')]\n",
      "[('name', 'ancestral home'), ('x', 'http://www.wikidata.org/prop/direct/P66')]\n",
      "[('name', 'playing hand'), ('x', 'http://www.wikidata.org/prop/direct/P741')]\n",
      "[('name', 'archive URL'), ('x', 'http://www.wikidata.org/prop/direct/P1065')]\n",
      "[('name', 'country'), ('x', 'http://www.wikidata.org/prop/direct/P17')]\n",
      "[('name', 'creator'), ('x', 'http://www.wikidata.org/prop/direct/P170')]\n",
      "[('name', 'narrative role'), ('x', 'http://www.wikidata.org/prop/direct/P5800')]\n",
      "[('name', 'ex-libris'), ('x', 'http://www.wikidata.org/prop/direct/P8195')]\n",
      "[('name', 'military casualty classification'), ('x', 'http://www.wikidata.org/prop/direct/P1347')]\n",
      "[('name', 'Tumblr username'), ('x', 'http://www.wikidata.org/prop/direct/P3943')]\n",
      "[('name', 'stepparent'), ('x', 'http://www.wikidata.org/prop/direct/P3448')]\n",
      "[('name', 'related image'), ('x', 'http://www.wikidata.org/prop/direct/P6802')]\n",
      "[('name', 'league'), ('x', 'http://www.wikidata.org/prop/direct/P118')]\n",
      "[('name', 'owner of'), ('x', 'http://www.wikidata.org/prop/direct/P1830')]\n",
      "[('name', 'location'), ('x', 'http://www.wikidata.org/prop/direct/P276')]\n",
      "[('name', 'Artists in Canada record number'), ('x', 'http://www.wikidata.org/prop/direct/P5239')]\n",
      "[('name', 'personal pronoun'), ('x', 'http://www.wikidata.org/prop/direct/P6553')]\n",
      "[('name', 'Wolfram Language entity code'), ('x', 'http://www.wikidata.org/prop/direct/P4839')]\n",
      "[('name', 'Scandinavian middle family name'), ('x', 'http://www.wikidata.org/prop/direct/P6978')]\n",
      "[('name', \"audio recording of the subject's spoken voice\"), ('x', 'http://www.wikidata.org/prop/direct/P990')]\n",
      "[('name', 'named as'), ('x', 'http://www.wikidata.org/prop/direct/P1810')]\n"
     ]
    },
    {
     "data": {
      "text/plain": [
       "193"
      ]
     },
     "execution_count": 8,
     "metadata": {},
     "output_type": "execute_result"
    }
   ],
   "source": [
    "queryString = \"\"\"\n",
    "SELECT distinct ?name ?x\n",
    "WHERE { \n",
    "\n",
    "?a wdt:P106 wd:Q10843402 .\n",
    "?a ?x ?y .\n",
    "?x <http://schema.org/name> ?name .\n",
    "filter(!regex(?name,\"ID\"))\n",
    "} \n",
    "\"\"\"\n",
    "\n",
    "print(\"Results\")\n",
    "run_query(queryString)"
   ]
  },
  {
   "cell_type": "code",
   "execution_count": 13,
   "id": "3b70b9dd-0746-445d-ab9f-2b70f64e7fce",
   "metadata": {},
   "outputs": [
    {
     "name": "stdout",
     "output_type": "stream",
     "text": [
      "Results\n",
      "[('name', '1927 European Aquatics Championships')]\n",
      "[('name', '1926 European Aquatics Championships')]\n"
     ]
    },
    {
     "data": {
      "text/plain": [
       "2"
      ]
     },
     "execution_count": 13,
     "metadata": {},
     "output_type": "execute_result"
    }
   ],
   "source": [
    "# Checking for \"partecipating in\", \"award recived\", \"victory\" and \"partecipant\"\n",
    "queryString = \"\"\"\n",
    "SELECT distinct ?name \n",
    "WHERE { \n",
    "?a wdt:P106 wd:Q10843402 .\n",
    "?a wdt:P710 ?y .\n",
    "?y <http://schema.org/name> ?name .\n",
    "} limit 10\n",
    "\"\"\"\n",
    "# The query is the same. Only interesting thing is the \"partecipant\" one\n",
    "print(\"Results\")\n",
    "run_query(queryString)"
   ]
  },
  {
   "cell_type": "code",
   "execution_count": 14,
   "id": "a80cb52d-1b73-4243-a877-b19af4d9ee75",
   "metadata": {},
   "outputs": [
    {
     "name": "stdout",
     "output_type": "stream",
     "text": [
      "Results\n",
      "[('callret-0', '164848')]\n"
     ]
    },
    {
     "data": {
      "text/plain": [
       "1"
      ]
     },
     "execution_count": 14,
     "metadata": {},
     "output_type": "execute_result"
    }
   ],
   "source": [
    "# ANSWER to 1. Victory and partecipating in\n",
    "queryString = \"\"\"\n",
    "SELECT COUNT(distinct ?a)\n",
    "WHERE { \n",
    "\n",
    "?a wdt:P106/wdt:P279 wd:Q2066131 .\n",
    "?a wdt:P2522|wdt:P1344 ?y .\n",
    "\n",
    "} \n",
    "\"\"\"\n",
    "\n",
    "print(\"Results\")\n",
    "run_query(queryString)"
   ]
  },
  {
   "cell_type": "markdown",
   "id": "090ce43e-df39-430a-8a15-c2f10d0c9070",
   "metadata": {},
   "source": [
    "***\n",
    "\n",
    "# Task 2\n",
    "\n",
    "*Identify the BGP for different sports or types of competitions*"
   ]
  },
  {
   "cell_type": "code",
   "execution_count": 20,
   "id": "11c1d3a1-879f-4b99-8ab1-489a4e43799c",
   "metadata": {},
   "outputs": [
    {
     "name": "stdout",
     "output_type": "stream",
     "text": [
      "Results\n",
      "[('name', 'number of participants'), ('z', 'http://www.wikidata.org/prop/direct/P1132')]\n",
      "[('name', 'home venue'), ('z', 'http://www.wikidata.org/prop/direct/P115')]\n",
      "[('name', 'located in the administrative territorial entity'), ('z', 'http://www.wikidata.org/prop/direct/P131')]\n",
      "[('name', 'winner'), ('z', 'http://www.wikidata.org/prop/direct/P1346')]\n",
      "[('name', 'motto text'), ('z', 'http://www.wikidata.org/prop/direct/P1451')]\n",
      "[('name', 'logo image'), ('z', 'http://www.wikidata.org/prop/direct/P154')]\n",
      "[('name', 'follows'), ('z', 'http://www.wikidata.org/prop/direct/P155')]\n",
      "[('name', 'followed by'), ('z', 'http://www.wikidata.org/prop/direct/P156')]\n",
      "[('name', 'headquarters location'), ('z', 'http://www.wikidata.org/prop/direct/P159')]\n",
      "[('name', 'country'), ('z', 'http://www.wikidata.org/prop/direct/P17')]\n",
      "[('name', 'part of the series'), ('z', 'http://www.wikidata.org/prop/direct/P179')]\n",
      "[('name', 'image'), ('z', 'http://www.wikidata.org/prop/direct/P18')]\n",
      "[('name', 'competition class'), ('z', 'http://www.wikidata.org/prop/direct/P2094')]\n",
      "[('name', 'has parts of the class'), ('z', 'http://www.wikidata.org/prop/direct/P2670')]\n",
      "[('name', 'location'), ('z', 'http://www.wikidata.org/prop/direct/P276')]\n",
      "[('name', 'instance of'), ('z', 'http://www.wikidata.org/prop/direct/P31')]\n",
      "[('name', 'sports season of league or competition'), ('z', 'http://www.wikidata.org/prop/direct/P3450')]\n",
      "[('name', 'part of'), ('z', 'http://www.wikidata.org/prop/direct/P361')]\n",
      "[('name', 'Commons category'), ('z', 'http://www.wikidata.org/prop/direct/P373')]\n",
      "[('name', 'edition number'), ('z', 'http://www.wikidata.org/prop/direct/P393')]\n",
      "[('name', 'final event'), ('z', 'http://www.wikidata.org/prop/direct/P3967')]\n",
      "[('name', 'has part'), ('z', 'http://www.wikidata.org/prop/direct/P527')]\n",
      "[('name', 'officially opened by'), ('z', 'http://www.wikidata.org/prop/direct/P542')]\n",
      "[('name', 'oath made by'), ('z', 'http://www.wikidata.org/prop/direct/P543')]\n",
      "[('name', 'torch lit by'), ('z', 'http://www.wikidata.org/prop/direct/P545')]\n",
      "[('name', 'start time'), ('z', 'http://www.wikidata.org/prop/direct/P580')]\n",
      "[('name', 'end time'), ('z', 'http://www.wikidata.org/prop/direct/P582')]\n",
      "[('name', 'point in time'), ('z', 'http://www.wikidata.org/prop/direct/P585')]\n",
      "[('name', 'coordinate location'), ('z', 'http://www.wikidata.org/prop/direct/P625')]\n",
      "[('name', 'sport'), ('z', 'http://www.wikidata.org/prop/direct/P641')]\n",
      "[('name', 'organizer'), ('z', 'http://www.wikidata.org/prop/direct/P664')]\n",
      "[('name', 'participant'), ('z', 'http://www.wikidata.org/prop/direct/P710')]\n",
      "[('name', 'mascot'), ('z', 'http://www.wikidata.org/prop/direct/P822')]\n",
      "[('name', 'official website'), ('z', 'http://www.wikidata.org/prop/direct/P856')]\n",
      "[('name', \"topic's main category\"), ('z', 'http://www.wikidata.org/prop/direct/P910')]\n",
      "[('name', 'Commons gallery'), ('z', 'http://www.wikidata.org/prop/direct/P935')]\n",
      "[('name', 'described at URL'), ('z', 'http://www.wikidata.org/prop/direct/P973')]\n",
      "[('name', 'participating team'), ('z', 'http://www.wikidata.org/prop/direct/P1923')]\n",
      "[('name', 'described by source'), ('z', 'http://www.wikidata.org/prop/direct/P1343')]\n",
      "[('name', 'facet of'), ('z', 'http://www.wikidata.org/prop/direct/P1269')]\n",
      "[('name', \"topic's main template\"), ('z', 'http://www.wikidata.org/prop/direct/P1424')]\n",
      "[('name', 'date of official opening'), ('z', 'http://www.wikidata.org/prop/direct/P1619')]\n",
      "[('name', 'Twitter username'), ('z', 'http://www.wikidata.org/prop/direct/P2002')]\n",
      "[('name', 'date of official closure'), ('z', 'http://www.wikidata.org/prop/direct/P3999')]\n",
      "[('name', 'Wolfram Language entity code'), ('z', 'http://www.wikidata.org/prop/direct/P4839')]\n",
      "[('name', 'Libris-URI'), ('z', 'http://www.wikidata.org/prop/direct/P5587')]\n",
      "[('name', 'significant event'), ('z', 'http://www.wikidata.org/prop/direct/P793')]\n",
      "[('name', 'social media followers'), ('z', 'http://www.wikidata.org/prop/direct/P8687')]\n",
      "[('name', 'page banner'), ('z', 'http://www.wikidata.org/prop/direct/P948')]\n",
      "[('name', 'spoken text audio'), ('z', 'http://www.wikidata.org/prop/direct/P989')]\n",
      "[('name', 'Google Doodle'), ('z', 'http://www.wikidata.org/prop/direct/P4431')]\n",
      "[('name', 'objective of project or action'), ('z', 'http://www.wikidata.org/prop/direct/P3712')]\n",
      "[('name', 'product or material produced'), ('z', 'http://www.wikidata.org/prop/direct/P1056')]\n",
      "[('name', 'present in work'), ('z', 'http://www.wikidata.org/prop/direct/P1441')]\n",
      "[('name', 'ISNI'), ('z', 'http://www.wikidata.org/prop/direct/P213')]\n",
      "[('name', 'locator map image'), ('z', 'http://www.wikidata.org/prop/direct/P242')]\n",
      "[('name', 'research site'), ('z', 'http://www.wikidata.org/prop/direct/P6153')]\n",
      "[('name', 'hashtag'), ('z', 'http://www.wikidata.org/prop/direct/P2572')]\n",
      "[('name', 'on focus list of Wikimedia project'), ('z', 'http://www.wikidata.org/prop/direct/P5008')]\n",
      "[('name', 'different from'), ('z', 'http://www.wikidata.org/prop/direct/P1889')]\n",
      "[('name', 'event interval'), ('z', 'http://www.wikidata.org/prop/direct/P2257')]\n",
      "[('name', 'subclass of'), ('z', 'http://www.wikidata.org/prop/direct/P279')]\n",
      "[('name', 'inception'), ('z', 'http://www.wikidata.org/prop/direct/P571')]\n",
      "[('name', 'points classification'), ('z', 'http://www.wikidata.org/prop/direct/P3494')]\n",
      "[('name', 'teams classification by points'), ('z', 'http://www.wikidata.org/prop/direct/P3496')]\n",
      "[('name', 'referee'), ('z', 'http://www.wikidata.org/prop/direct/P1652')]\n",
      "[('name', 'uses'), ('z', 'http://www.wikidata.org/prop/direct/P2283')]\n",
      "[('name', 'significant person'), ('z', 'http://www.wikidata.org/prop/direct/P3342')]\n",
      "[('name', 'film editor'), ('z', 'http://www.wikidata.org/prop/direct/P1040')]\n",
      "[('name', 'genre'), ('z', 'http://www.wikidata.org/prop/direct/P136')]\n",
      "[('name', 'based on'), ('z', 'http://www.wikidata.org/prop/direct/P144')]\n",
      "[('name', 'cast member'), ('z', 'http://www.wikidata.org/prop/direct/P161')]\n",
      "[('name', 'producer'), ('z', 'http://www.wikidata.org/prop/direct/P162')]\n",
      "[('name', 'FSK film rating'), ('z', 'http://www.wikidata.org/prop/direct/P1981')]\n",
      "[('name', 'duration'), ('z', 'http://www.wikidata.org/prop/direct/P2047')]\n",
      "[('name', 'director of photography'), ('z', 'http://www.wikidata.org/prop/direct/P344')]\n",
      "[('name', 'original language of film or TV show'), ('z', 'http://www.wikidata.org/prop/direct/P364')]\n",
      "[('name', 'Cinémathèque québécoise work identifier'), ('z', 'http://www.wikidata.org/prop/direct/P4276')]\n",
      "[('name', 'color'), ('z', 'http://www.wikidata.org/prop/direct/P462')]\n",
      "[('name', 'country of origin'), ('z', 'http://www.wikidata.org/prop/direct/P495')]\n",
      "[('name', 'director'), ('z', 'http://www.wikidata.org/prop/direct/P57')]\n",
      "[('name', 'publication date'), ('z', 'http://www.wikidata.org/prop/direct/P577')]\n",
      "[('name', 'screenwriter'), ('z', 'http://www.wikidata.org/prop/direct/P58')]\n",
      "[('name', 'narrative location'), ('z', 'http://www.wikidata.org/prop/direct/P840')]\n",
      "[('name', 'set in environment'), ('z', 'http://www.wikidata.org/prop/direct/P8411')]\n",
      "[('name', 'composer'), ('z', 'http://www.wikidata.org/prop/direct/P86')]\n",
      "[('name', 'after a work by'), ('z', 'http://www.wikidata.org/prop/direct/P1877')]\n",
      "[('name', 'Swedish National Archive Reference Code'), ('z', 'http://www.wikidata.org/prop/direct/P5324')]\n",
      "[('name', 'historic county'), ('z', 'http://www.wikidata.org/prop/direct/P7959')]\n",
      "[('name', 'event distance'), ('z', 'http://www.wikidata.org/prop/direct/P3157')]\n",
      "[('name', 'Instagram username'), ('z', 'http://www.wikidata.org/prop/direct/P2003')]\n",
      "[('name', 'cost'), ('z', 'http://www.wikidata.org/prop/direct/P2130')]\n",
      "[('name', 'broadcast by'), ('z', 'http://www.wikidata.org/prop/direct/P3301')]\n",
      "[('name', 'TikTok username'), ('z', 'http://www.wikidata.org/prop/direct/P7085')]\n",
      "[('name', 'applies to jurisdiction'), ('z', 'http://www.wikidata.org/prop/direct/P1001')]\n",
      "[('name', 'office contested'), ('z', 'http://www.wikidata.org/prop/direct/P541')]\n",
      "[('name', 'candidate'), ('z', 'http://www.wikidata.org/prop/direct/P726')]\n",
      "[('name', 'successful candidate'), ('z', 'http://www.wikidata.org/prop/direct/P991')]\n",
      "[('name', 'total valid votes'), ('z', 'http://www.wikidata.org/prop/direct/P1697')]\n",
      "[('name', 'flag image'), ('z', 'http://www.wikidata.org/prop/direct/P41')]\n",
      "[('name', 'trophy awarded'), ('z', 'http://www.wikidata.org/prop/direct/P4622')]\n",
      "[('name', 'RIA Novosti reference'), ('z', 'http://www.wikidata.org/prop/direct/P6081')]\n",
      "[('name', 'eligible voters'), ('z', 'http://www.wikidata.org/prop/direct/P1867')]\n",
      "[('name', 'ballots cast'), ('z', 'http://www.wikidata.org/prop/direct/P1868')]\n",
      "[('name', 'unveiled by'), ('z', 'http://www.wikidata.org/prop/direct/P1656')]\n",
      "[('name', 'Gene Atlas Image'), ('z', 'http://www.wikidata.org/prop/direct/P692')]\n",
      "[('name', 'genetic association'), ('z', 'http://www.wikidata.org/prop/direct/P2293')]\n",
      "[('name', 'exact match'), ('z', 'http://www.wikidata.org/prop/direct/P2888')]\n",
      "[('name', 'found in taxon'), ('z', 'http://www.wikidata.org/prop/direct/P703')]\n",
      "[('name', 'chromosome'), ('z', 'http://www.wikidata.org/prop/direct/P1057')]\n",
      "[('name', 'strand orientation'), ('z', 'http://www.wikidata.org/prop/direct/P2548')]\n",
      "[('name', 'HGNC gene symbol'), ('z', 'http://www.wikidata.org/prop/direct/P353')]\n",
      "[('name', 'cytogenetic location'), ('z', 'http://www.wikidata.org/prop/direct/P4196')]\n",
      "[('name', 'expressed in'), ('z', 'http://www.wikidata.org/prop/direct/P5572')]\n",
      "[('name', 'genomic start'), ('z', 'http://www.wikidata.org/prop/direct/P644')]\n",
      "[('name', 'genomic end'), ('z', 'http://www.wikidata.org/prop/direct/P645')]\n",
      "[('name', 'ortholog'), ('z', 'http://www.wikidata.org/prop/direct/P684')]\n",
      "[('name', 'encodes'), ('z', 'http://www.wikidata.org/prop/direct/P688')]\n",
      "[('name', 'number of deaths'), ('z', 'http://www.wikidata.org/prop/direct/P1120')]\n",
      "[('name', 'has effect'), ('z', 'http://www.wikidata.org/prop/direct/P1542')]\n",
      "[('name', 'located in time zone'), ('z', 'http://www.wikidata.org/prop/direct/P421')]\n",
      "[('name', 'number of injured'), ('z', 'http://www.wikidata.org/prop/direct/P1339')]\n",
      "[('name', 'number of perpetrators'), ('z', 'http://www.wikidata.org/prop/direct/P3886')]\n",
      "[('name', 'target'), ('z', 'http://www.wikidata.org/prop/direct/P533')]\n",
      "[('name', 'perpetrator'), ('z', 'http://www.wikidata.org/prop/direct/P8031')]\n",
      "[('name', 'victim'), ('z', 'http://www.wikidata.org/prop/direct/P8032')]\n",
      "[('name', 'opposite of'), ('z', 'http://www.wikidata.org/prop/direct/P461')]\n",
      "[('name', 'victory'), ('z', 'http://www.wikidata.org/prop/direct/P2522')]\n",
      "[('name', \"topic's main Wikimedia portal\"), ('z', 'http://www.wikidata.org/prop/direct/P1151')]\n",
      "[('name', 'U.S. National Archives Identifier'), ('z', 'http://www.wikidata.org/prop/direct/P1225')]\n",
      "[('name', 'OmegaWiki Defined Meaning'), ('z', 'http://www.wikidata.org/prop/direct/P1245')]\n",
      "[('name', 'motto'), ('z', 'http://www.wikidata.org/prop/direct/P1546')]\n",
      "[('name', 'flag'), ('z', 'http://www.wikidata.org/prop/direct/P163')]\n",
      "[('name', 'permanent duplicated item'), ('z', 'http://www.wikidata.org/prop/direct/P2959')]\n",
      "[('name', 'subreddit'), ('z', 'http://www.wikidata.org/prop/direct/P3984')]\n",
      "[('name', 'IPTC NewsCode'), ('z', 'http://www.wikidata.org/prop/direct/P5429')]\n",
      "[('name', 'maintained by WikiProject'), ('z', 'http://www.wikidata.org/prop/direct/P6104')]\n",
      "[('name', 'WordLift URL'), ('z', 'http://www.wikidata.org/prop/direct/P6363')]\n",
      "[('name', 'sponsor'), ('z', 'http://www.wikidata.org/prop/direct/P859')]\n",
      "[('name', 'number of matches played/races/starts'), ('z', 'http://www.wikidata.org/prop/direct/P1350')]\n",
      "[('name', 'attendance'), ('z', 'http://www.wikidata.org/prop/direct/P1110')]\n",
      "[('name', 'number of points/goals/set scored'), ('z', 'http://www.wikidata.org/prop/direct/P1351')]\n",
      "[('name', 'statistical leader'), ('z', 'http://www.wikidata.org/prop/direct/P3279')]\n",
      "[('name', 'size of team at start'), ('z', 'http://www.wikidata.org/prop/direct/P2103')]\n",
      "[('name', 'has cause'), ('z', 'http://www.wikidata.org/prop/direct/P828')]\n",
      "[('name', 'number of abstentions'), ('z', 'http://www.wikidata.org/prop/direct/P5043')]\n",
      "[('name', 'number of blank votes'), ('z', 'http://www.wikidata.org/prop/direct/P5045')]\n",
      "[('name', 'election called by'), ('z', 'http://www.wikidata.org/prop/direct/P7508')]\n",
      "[('name', 'voting system'), ('z', 'http://www.wikidata.org/prop/direct/P8196')]\n",
      "[('name', 'distribution map'), ('z', 'http://www.wikidata.org/prop/direct/P1846')]\n",
      "[('name', 'number of spoilt votes'), ('z', 'http://www.wikidata.org/prop/direct/P5044')]\n",
      "[('name', 'in opposition to'), ('z', 'http://www.wikidata.org/prop/direct/P5004')]\n",
      "[('name', 'video'), ('z', 'http://www.wikidata.org/prop/direct/P10')]\n",
      "[('name', 'time period'), ('z', 'http://www.wikidata.org/prop/direct/P2348')]\n",
      "[('name', 'number of arrests'), ('z', 'http://www.wikidata.org/prop/direct/P5582')]\n",
      "[('name', 'medical evacuation to'), ('z', 'http://www.wikidata.org/prop/direct/P5248')]\n",
      "[('name', 'maximum age'), ('z', 'http://www.wikidata.org/prop/direct/P4135')]\n",
      "[('name', 'minimum age'), ('z', 'http://www.wikidata.org/prop/direct/P2899')]\n",
      "[('name', 'month of the year'), ('z', 'http://www.wikidata.org/prop/direct/P2922')]\n",
      "[('name', 'day in year for periodic occurrence'), ('z', 'http://www.wikidata.org/prop/direct/P837')]\n",
      "[('name', 'Wikidata property'), ('z', 'http://www.wikidata.org/prop/direct/P1687')]\n",
      "[('name', 'has quality'), ('z', 'http://www.wikidata.org/prop/direct/P1552')]\n",
      "[('name', 'presenter'), ('z', 'http://www.wikidata.org/prop/direct/P371')]\n",
      "[('name', 'qualifies for event'), ('z', 'http://www.wikidata.org/prop/direct/P3085')]\n",
      "[('name', 'debut participant'), ('z', 'http://www.wikidata.org/prop/direct/P2318')]\n",
      "[('name', 'number of episodes'), ('z', 'http://www.wikidata.org/prop/direct/P1113')]\n",
      "[('name', 'number of seasons'), ('z', 'http://www.wikidata.org/prop/direct/P2437')]\n",
      "[('name', 'production company'), ('z', 'http://www.wikidata.org/prop/direct/P272')]\n",
      "[('name', 'publication interval'), ('z', 'http://www.wikidata.org/prop/direct/P2896')]\n",
      "[('name', 'original broadcaster'), ('z', 'http://www.wikidata.org/prop/direct/P449')]\n",
      "[('name', 'filming location'), ('z', 'http://www.wikidata.org/prop/direct/P915')]\n",
      "[('name', 'date of first performance'), ('z', 'http://www.wikidata.org/prop/direct/P1191')]\n",
      "[('name', 'is a list of'), ('z', 'http://www.wikidata.org/prop/direct/P360')]\n"
     ]
    },
    {
     "data": {
      "text/plain": [
       "173"
      ]
     },
     "execution_count": 20,
     "metadata": {},
     "output_type": "execute_result"
    }
   ],
   "source": [
    "# Check properties for competitions\n",
    "queryString = \"\"\"\n",
    "SELECT distinct ?name ?z\n",
    "WHERE { \n",
    "?a wdt:P106 wd:Q10843402 .\n",
    "?a wdt:P1344 ?y .\n",
    "?y ?z ?k .\n",
    "?z <http://schema.org/name> ?name .\n",
    "filter(!regex(?name,\"ID\"))\n",
    "} \n",
    "\"\"\"\n",
    "# The query is the same. Only interesting thing is the \"partecipant\" one\n",
    "print(\"Results\")\n",
    "run_query(queryString)"
   ]
  },
  {
   "cell_type": "code",
   "execution_count": 21,
   "id": "bc9711f7-bf21-45bb-a6a1-8be7f2103bd5",
   "metadata": {},
   "outputs": [
    {
     "name": "stdout",
     "output_type": "stream",
     "text": [
      "Results\n",
      "[('name', 'multi-sport event')]\n",
      "[('name', 'swimming')]\n",
      "[('name', 'road bicycle racing')]\n",
      "[('name', 'disabled sport')]\n",
      "[('name', 'synchronized swimming')]\n",
      "[('name', 'open water swimming')]\n",
      "[('name', 'cliff jumping')]\n",
      "[('name', 'water polo')]\n",
      "[('name', 'diving')]\n",
      "[('name', 'figure skating')]\n",
      "[('name', \"men's singles\")]\n",
      "[('name', 'winter sport')]\n",
      "[('name', 'rowing')]\n",
      "[('name', 'modern pentathlon')]\n",
      "[('name', 'alpine skiing')]\n",
      "[('name', 'paralympic sports')]\n",
      "[('name', 'para swimming')]\n",
      "[('name', 'summer sport')]\n",
      "[('name', 'Olympic sport')]\n",
      "[('name', 'fencing')]\n",
      "[('name', 'athletics')]\n",
      "[('name', 'karate')]\n",
      "[('name', 'volleyball')]\n",
      "[('name', 'shooting sport')]\n",
      "[('name', 'association football')]\n",
      "[('name', 'boxing')]\n",
      "[('name', 'beach volleyball')]\n",
      "[('name', 'basketball')]\n",
      "[('name', 'rhythmic gymnastics')]\n",
      "[('name', 'judo')]\n",
      "[('name', 'archery')]\n",
      "[('name', 'sailing')]\n",
      "[('name', 'canoeing')]\n",
      "[('name', 'cycle sport')]\n",
      "[('name', 'table tennis')]\n",
      "[('name', 'wrestling')]\n",
      "[('name', 'gymnastics')]\n",
      "[('name', 'weightlifting')]\n",
      "[('name', 'handball')]\n",
      "[('name', 'equestrian sport')]\n",
      "[('name', 'taekwondo')]\n",
      "[('name', 'badminton')]\n",
      "[('name', 'boules')]\n",
      "[('name', 'cycling')]\n",
      "[('name', 'tennis')]\n",
      "[('name', 'triathlon')]\n",
      "[('name', 'biathlon')]\n",
      "[('name', 'bobsleigh')]\n",
      "[('name', 'canoeing and kayaking')]\n",
      "[('name', 'luge')]\n"
     ]
    },
    {
     "data": {
      "text/plain": [
       "50"
      ]
     },
     "execution_count": 21,
     "metadata": {},
     "output_type": "execute_result"
    }
   ],
   "source": [
    "# Check sport\n",
    "queryString = \"\"\"\n",
    "SELECT distinct ?name ?z\n",
    "WHERE { \n",
    "?a wdt:P106 wd:Q10843402 .\n",
    "?a wdt:P1344 ?y .\n",
    "?y wdt:P641 ?k .\n",
    "?k <http://schema.org/name> ?name .\n",
    "\n",
    "} limit 50 \n",
    "\"\"\"\n",
    "# The query is the same. Only interesting thing is the \"partecipant\" one\n",
    "print(\"Results\")\n",
    "run_query(queryString)"
   ]
  },
  {
   "cell_type": "markdown",
   "id": "c5cc3c64-1022-4dc5-97cb-2c5ecc2f5dcc",
   "metadata": {},
   "source": [
    "Together with the query before"
   ]
  },
  {
   "cell_type": "code",
   "execution_count": 31,
   "id": "c563712f-8687-4ebe-882b-b43998903fcf",
   "metadata": {},
   "outputs": [
    {
     "name": "stdout",
     "output_type": "stream",
     "text": [
      "Results\n",
      "[('name', 'events in a specific year or time period'), ('k', 'http://www.wikidata.org/entity/Q18340514')]\n",
      "[('name', 'Summer Paralympic Games'), ('k', 'http://www.wikidata.org/entity/Q3327913')]\n",
      "[('name', 'Pan American Games'), ('k', 'http://www.wikidata.org/entity/Q230186')]\n",
      "[('name', 'Summer Olympic Games'), ('k', 'http://www.wikidata.org/entity/Q159821')]\n",
      "[('name', 'multi-sport event'), ('k', 'http://www.wikidata.org/entity/Q167170')]\n",
      "[('name', 'Olympic sporting event'), ('k', 'http://www.wikidata.org/entity/Q18536594')]\n",
      "[('name', 'Olympic sports discipline event'), ('k', 'http://www.wikidata.org/entity/Q26132862')]\n",
      "[('name', 'sports season'), ('k', 'http://www.wikidata.org/entity/Q27020041')]\n",
      "[('name', 'recurrent event edition'), ('k', 'http://www.wikidata.org/entity/Q27968055')]\n",
      "[('name', 'sporting event'), ('k', 'http://www.wikidata.org/entity/Q16510064')]\n",
      "[('name', 'FINA World Aquatics Championships'), ('k', 'http://www.wikidata.org/entity/Q273469')]\n",
      "[('name', 'project'), ('k', 'http://www.wikidata.org/entity/Q170584')]\n",
      "[('name', 'sport competition at a multi-sport event'), ('k', 'http://www.wikidata.org/entity/Q51031626')]\n",
      "[('name', 'championship'), ('k', 'http://www.wikidata.org/entity/Q1079023')]\n",
      "[('name', \"UCI Women's Road World Rankings\"), ('k', 'http://www.wikidata.org/entity/Q1693153')]\n",
      "[('name', 'LEN European Aquatics Championships'), ('k', 'http://www.wikidata.org/entity/Q512129')]\n",
      "[('name', 'Youth Olympic sporting event'), ('k', 'http://www.wikidata.org/entity/Q84491920')]\n",
      "[('name', 'film'), ('k', 'http://www.wikidata.org/entity/Q11424')]\n",
      "[('name', 'Winter Paralympic Games'), ('k', 'http://www.wikidata.org/entity/Q3317976')]\n",
      "[('name', 'swimming at the Summer Olympics'), ('k', 'http://www.wikidata.org/entity/Q748643')]\n",
      "[('name', 'rowing event'), ('k', 'http://www.wikidata.org/entity/Q21246076')]\n",
      "[('name', 'occurrence'), ('k', 'http://www.wikidata.org/entity/Q1190554')]\n",
      "[('name', 'German presidential election'), ('k', 'http://www.wikidata.org/entity/Q1499496')]\n",
      "[('name', 'Winter Olympic Games'), ('k', 'http://www.wikidata.org/entity/Q82414')]\n",
      "[('name', 'sports competition'), ('k', 'http://www.wikidata.org/entity/Q13406554')]\n",
      "[('name', 'recurring sporting event'), ('k', 'http://www.wikidata.org/entity/Q18608583')]\n",
      "[('name', 'Youth Olympic sports discipline event'), ('k', 'http://www.wikidata.org/entity/Q84476898')]\n",
      "[('name', 'Universiade sports'), ('k', 'http://www.wikidata.org/entity/Q7894227')]\n",
      "[('name', 'gene'), ('k', 'http://www.wikidata.org/entity/Q7187')]\n",
      "[('name', 'Asian Games'), ('k', 'http://www.wikidata.org/entity/Q483463')]\n",
      "[('name', 'Asian Para Games'), ('k', 'http://www.wikidata.org/entity/Q1209093')]\n",
      "[('name', 'Summer Youth Olympic Games'), ('k', 'http://www.wikidata.org/entity/Q3178415')]\n",
      "[('name', 'mass shooting'), ('k', 'http://www.wikidata.org/entity/Q21480300')]\n",
      "[('name', 'school shooting'), ('k', 'http://www.wikidata.org/entity/Q473853')]\n",
      "[('name', 'European Short Course Swimming Championships'), ('k', 'http://www.wikidata.org/entity/Q911142')]\n",
      "[('name', 'event'), ('k', 'http://www.wikidata.org/entity/Q1656682')]\n",
      "[('name', 'recurring tournament'), ('k', 'http://www.wikidata.org/entity/Q15259995')]\n",
      "[('name', 'Mediterranean Games'), ('k', 'http://www.wikidata.org/entity/Q272090')]\n",
      "[('name', 'Dutch championship swimming'), ('k', 'http://www.wikidata.org/entity/Q1897916')]\n",
      "[('name', 'Amsterdam Swim Cup'), ('k', 'http://www.wikidata.org/entity/Q21855047')]\n",
      "[('name', 'inauguration'), ('k', 'http://www.wikidata.org/entity/Q1417098')]\n",
      "[('name', 'tournament'), ('k', 'http://www.wikidata.org/entity/Q500834')]\n",
      "[('name', 'sports league'), ('k', 'http://www.wikidata.org/entity/Q623109')]\n",
      "[('name', 'Paralympic sporting event'), ('k', 'http://www.wikidata.org/entity/Q50393057')]\n",
      "[('name', 'election to the Parliament of Catalonia'), ('k', 'http://www.wikidata.org/entity/Q5116010')]\n",
      "[('name', 'snap election'), ('k', 'http://www.wikidata.org/entity/Q1333366')]\n",
      "[('name', \"attempted coup d'état\"), ('k', 'http://www.wikidata.org/entity/Q25906438')]\n",
      "[('name', 'insurgency'), ('k', 'http://www.wikidata.org/entity/Q1323212')]\n",
      "[('name', 'rebellion'), ('k', 'http://www.wikidata.org/entity/Q124734')]\n",
      "[('name', 'demonstration'), ('k', 'http://www.wikidata.org/entity/Q175331')]\n"
     ]
    },
    {
     "data": {
      "text/plain": [
       "50"
      ]
     },
     "execution_count": 31,
     "metadata": {},
     "output_type": "execute_result"
    }
   ],
   "source": [
    "# Check subclass (not very useful) and instance of (useful). This can be considered type \n",
    "queryString = \"\"\"\n",
    "SELECT distinct ?name ?k\n",
    "WHERE { \n",
    "?a wdt:P106 wd:Q10843402 .\n",
    "?a wdt:P1344 ?y .\n",
    "?y wdt:P31 ?k .\n",
    "?k <http://schema.org/name> ?name .\n",
    "\n",
    "} limit 50 \n",
    "\"\"\"\n",
    "print(\"Results\")\n",
    "run_query(queryString)"
   ]
  },
  {
   "cell_type": "markdown",
   "id": "bb7ee9ab-3ca9-44f3-a97c-a29cabe6b96b",
   "metadata": {},
   "source": [
    "I didn't specify that the participation had to be to a sport event"
   ]
  },
  {
   "cell_type": "code",
   "execution_count": 29,
   "id": "e51b1dc7-38fa-4a17-b2c8-292992551a28",
   "metadata": {},
   "outputs": [
    {
     "name": "stdout",
     "output_type": "stream",
     "text": [
      "Results\n",
      "[('name', 'Marjory Stoneman Douglas High School shooting'), ('aa', 'Nicholas Dworet')]\n"
     ]
    },
    {
     "data": {
      "text/plain": [
       "1"
      ]
     },
     "execution_count": 29,
     "metadata": {},
     "output_type": "execute_result"
    }
   ],
   "source": [
    "# school shoting? \n",
    "\n",
    "queryString = \"\"\"\n",
    "SELECT distinct ?name ?z ?aa\n",
    "WHERE { \n",
    "?a wdt:P106 wd:Q10843402 .\n",
    "?a wdt:P1344 ?y .\n",
    "?y wdt:P31 wd:Q473853 .\n",
    "?y <http://schema.org/name> ?name .\n",
    "?a <http://schema.org/name> ?aa .\n",
    "} limit 50 \n",
    "\"\"\"\n",
    "# RIP\n",
    "print(\"Results\")\n",
    "run_query(queryString)"
   ]
  },
  {
   "cell_type": "code",
   "execution_count": 34,
   "id": "cca09175-5807-4a60-b7ce-c2d80e7df64f",
   "metadata": {},
   "outputs": [
    {
     "name": "stdout",
     "output_type": "stream",
     "text": [
      "Results\n",
      "[('name', '1904 Summer Olympics'), ('y', 'http://www.wikidata.org/entity/Q8098')]\n",
      "[('name', '1936 Summer Olympics'), ('y', 'http://www.wikidata.org/entity/Q8150')]\n",
      "[('name', '1960 Summer Olympics'), ('y', 'http://www.wikidata.org/entity/Q8415')]\n",
      "[('name', '2020 Summer Olympics'), ('y', 'http://www.wikidata.org/entity/Q181278')]\n",
      "[('name', '1900 Summer Olympics'), ('y', 'http://www.wikidata.org/entity/Q8088')]\n",
      "[('name', '1972 Summer Olympics'), ('y', 'http://www.wikidata.org/entity/Q8438')]\n",
      "[('name', '1976 Summer Olympics'), ('y', 'http://www.wikidata.org/entity/Q8444')]\n",
      "[('name', '1988 Summer Olympics'), ('y', 'http://www.wikidata.org/entity/Q8470')]\n",
      "[('name', '1992 Summer Olympics'), ('y', 'http://www.wikidata.org/entity/Q8488')]\n",
      "[('name', '1996 Summer Olympics'), ('y', 'http://www.wikidata.org/entity/Q8531')]\n",
      "[('name', '2000 Summer Olympics'), ('y', 'http://www.wikidata.org/entity/Q8544')]\n",
      "[('name', '2004 Summer Olympics'), ('y', 'http://www.wikidata.org/entity/Q8558')]\n",
      "[('name', '2008 Summer Olympics'), ('y', 'http://www.wikidata.org/entity/Q8567')]\n",
      "[('name', '2012 Summer Olympics'), ('y', 'http://www.wikidata.org/entity/Q8577')]\n",
      "[('name', '2016 Summer Olympics'), ('y', 'http://www.wikidata.org/entity/Q8613')]\n",
      "[('name', '1920 Summer Olympics'), ('y', 'http://www.wikidata.org/entity/Q8128')]\n",
      "[('name', '1924 Summer Olympics'), ('y', 'http://www.wikidata.org/entity/Q8132')]\n",
      "[('name', '1928 Summer Olympics'), ('y', 'http://www.wikidata.org/entity/Q8138')]\n",
      "[('name', '1932 Summer Olympics'), ('y', 'http://www.wikidata.org/entity/Q8143')]\n",
      "[('name', '1964 Summer Olympics'), ('y', 'http://www.wikidata.org/entity/Q8420')]\n",
      "[('name', '1968 Summer Olympics'), ('y', 'http://www.wikidata.org/entity/Q8429')]\n",
      "[('name', '1908 Summer Olympics'), ('y', 'http://www.wikidata.org/entity/Q8111')]\n",
      "[('name', '1912 Summer Olympics'), ('y', 'http://www.wikidata.org/entity/Q8118')]\n",
      "[('name', '1952 Summer Olympics'), ('y', 'http://www.wikidata.org/entity/Q8407')]\n",
      "[('name', '1956 Summer Olympics'), ('y', 'http://www.wikidata.org/entity/Q8411')]\n",
      "[('name', '1980 Summer Olympics'), ('y', 'http://www.wikidata.org/entity/Q8450')]\n",
      "[('name', '1984 Summer Olympics'), ('y', 'http://www.wikidata.org/entity/Q8456')]\n",
      "[('name', '1896 Summer Olympics'), ('y', 'http://www.wikidata.org/entity/Q8080')]\n",
      "[('name', '1948 Summer Olympics'), ('y', 'http://www.wikidata.org/entity/Q8403')]\n",
      "[('name', '1906 Intercalated Games'), ('y', 'http://www.wikidata.org/entity/Q8105')]\n"
     ]
    },
    {
     "data": {
      "text/plain": [
       "30"
      ]
     },
     "execution_count": 34,
     "metadata": {},
     "output_type": "execute_result"
    }
   ],
   "source": [
    "# Fast check to understand if \"Olympic games\" is connected to the event just with an \"instance of\" \n",
    "queryString = \"\"\"\n",
    "SELECT distinct ?name ?y\n",
    "WHERE { \n",
    "?a wdt:P106 wd:Q10843402 .\n",
    "?a wdt:P1344 ?y .\n",
    "?y wdt:P31 wd:Q159821 .\n",
    "?y <http://schema.org/name> ?name .\n",
    "\n",
    "} limit 50 \n",
    "\"\"\"\n",
    "# The query is the same. Only interesting thing is the \"partecipant\" one\n",
    "print(\"Results\")\n",
    "run_query(queryString)"
   ]
  },
  {
   "cell_type": "markdown",
   "id": "1cba54a6-0608-4f45-a0c2-6b9f3ea07e87",
   "metadata": {},
   "source": [
    "***\n",
    "\n",
    "# Task 3\n",
    "\n",
    "*Is there some French or German Athlete participating to any olympic event with double citizenship?*\n",
    "\n",
    "I asked the query only about athletes having precisely the double citizenship German/French, but being a subgroup of the group requested in the task 3, the answer is the same also for the more general query about double citizenship."
   ]
  },
  {
   "cell_type": "code",
   "execution_count": 3,
   "id": "26f9f74f-304a-4e3b-8dba-a389fe5c9af4",
   "metadata": {},
   "outputs": [
    {
     "name": "stdout",
     "output_type": "stream",
     "text": [
      "Results\n"
     ]
    },
    {
     "data": {
      "text/plain": [
       "{'head': {'link': []}, 'boolean': True}"
      ]
     },
     "execution_count": 3,
     "metadata": {},
     "output_type": "execute_result"
    }
   ],
   "source": [
    "# ANSWER to 3 \n",
    "queryString = \"\"\"\n",
    "ASK WHERE {\n",
    "SELECT distinct ?name\n",
    "WHERE { \n",
    "?a wdt:P106/wdt:P279* wd:Q2066131 .\n",
    "?a wdt:P1344/wdt:P31 wd:Q159821 .\n",
    "?a wdt:P27 wd:Q183 .\n",
    "?a wdt:P27 wd:Q142 .\n",
    "?a <http://schema.org/name> ?name .\n",
    "\n",
    "} \n",
    "}\n",
    "\"\"\"\n",
    "print(\"Results\")\n",
    "run_ask_query(queryString)"
   ]
  },
  {
   "cell_type": "markdown",
   "id": "50a0c758-7d11-4cd3-a526-f45f3c44f14e",
   "metadata": {},
   "source": [
    "***\n",
    "\n",
    "# Task 4.1\n",
    "\n",
    "*In which specific sport France has more winners than Germany*"
   ]
  },
  {
   "cell_type": "code",
   "execution_count": 4,
   "id": "dbd0a96a-f5ce-4788-9ea4-9feb29506e46",
   "metadata": {},
   "outputs": [
    {
     "name": "stdout",
     "output_type": "stream",
     "text": [
      "Results\n",
      "[('num1', '1'), ('name', 'triathlon')]\n",
      "[('num1', '1'), ('name', 'water polo')]\n",
      "[('num1', '16'), ('name', 'fencing')]\n",
      "[('num1', '15'), ('name', 'athletics')]\n",
      "[('num1', '2'), ('name', 'track and field')]\n",
      "[('num1', '1'), ('name', 'synchronized swimming')]\n",
      "[('num1', '1'), ('name', 'cyclo-cross')]\n",
      "[('num1', '6'), ('name', 'chess')]\n",
      "[('num1', '1'), ('name', 'golf')]\n",
      "[('num1', '1'), ('name', 'weightlifting')]\n",
      "[('num1', '16'), ('name', 'volleyball')]\n",
      "[('num1', '19'), ('name', 'association football')]\n",
      "[('num1', '3'), ('name', 'BMX')]\n",
      "[('num1', '16'), ('name', 'tennis')]\n",
      "[('num1', '2'), ('name', 'badminton')]\n",
      "[('num1', '5'), ('name', 'cycle sport')]\n",
      "[('num1', '1'), ('name', 'ultra-trail')]\n",
      "[('num1', '3'), ('name', 'judo')]\n",
      "[('num1', '7'), ('name', 'petanque')]\n",
      "[('num1', '3'), ('name', 'ice hockey')]\n",
      "[('num1', '1'), ('name', 'windsurfing')]\n",
      "[('num1', '34'), ('name', 'handball')]\n",
      "[('num1', '6'), ('name', 'basketball')]\n",
      "[('num1', '15'), ('name', 'road bicycle racing')]\n",
      "[('num1', '1'), ('name', 'rugby union')]\n",
      "[('num1', '1'), ('name', 'sailing')]\n",
      "[('num1', '2'), ('name', 'diving')]\n",
      "[('num1', '1'), ('name', 'cross country running')]\n",
      "[('num1', '1'), ('name', 'squash')]\n",
      "[('num1', '3'), ('name', 'swimming')]\n",
      "[('num1', '1'), ('name', 'Go')]\n"
     ]
    },
    {
     "data": {
      "text/plain": [
       "31"
      ]
     },
     "execution_count": 4,
     "metadata": {},
     "output_type": "execute_result"
    }
   ],
   "source": [
    "# Winners of France\n",
    "queryString = \"\"\"\n",
    "SELECT (count(distinct ?a) as ?num1) ?name\n",
    "WHERE { \n",
    "?a wdt:P106/wdt:P279 wd:Q2066131 .\n",
    "?a wdt:P27 wd:Q142 .\n",
    "?a wdt:P2522|wdt:P166 ?z .\n",
    "?z wdt:P641 ?sport .\n",
    "?sport <http://schema.org/name> ?name.\n",
    "\n",
    "} group by ?name\n",
    "\"\"\"\n",
    "print(\"Results\")\n",
    "run_query(queryString)"
   ]
  },
  {
   "cell_type": "code",
   "execution_count": 3,
   "id": "3ed4ce4a-59b8-48a6-800f-9bb8a78e4c0e",
   "metadata": {},
   "outputs": [
    {
     "name": "stdout",
     "output_type": "stream",
     "text": [
      "Results\n",
      "[('name1', 'road bicycle racing'), ('num1', '15'), ('num2', '3')]\n",
      "[('name1', 'fencing'), ('num1', '16'), ('num2', '2')]\n",
      "[('name1', 'basketball'), ('num1', '6'), ('num2', '1')]\n",
      "[('name1', 'chess'), ('num1', '6'), ('num2', '1')]\n",
      "[('name1', 'tennis'), ('num1', '16'), ('num2', '8')]\n",
      "[('name1', 'athletics'), ('num1', '15'), ('num2', '12')]\n",
      "[('name1', 'cycle sport'), ('num1', '5'), ('num2', '2')]\n"
     ]
    },
    {
     "data": {
      "text/plain": [
       "7"
      ]
     },
     "execution_count": 3,
     "metadata": {},
     "output_type": "execute_result"
    }
   ],
   "source": [
    "# Answer\n",
    "queryString = \"\"\"\n",
    "SELECT distinct ?name1 ?num1 ?num2 where {\n",
    "{\n",
    "SELECT (count(distinct ?a) as ?num1) ?name1\n",
    "WHERE { \n",
    "?a wdt:P106/wdt:P279 wd:Q2066131 .\n",
    "?a wdt:P27 wd:Q142 .\n",
    "?a wdt:P2522|wdt:P166 ?z .\n",
    "?z wdt:P641 ?sport .\n",
    "?sport <http://schema.org/name> ?name1.\n",
    "\n",
    "} group by ?name1\n",
    "}{\n",
    "SELECT (count(distinct ?a) as ?num2) ?name2\n",
    "WHERE { \n",
    "?a wdt:P106/wdt:P279 wd:Q2066131 .\n",
    "?a wdt:P27 wd:Q183 .\n",
    "?a wdt:P2522|wdt:P166 ?z .\n",
    "?z wdt:P641 ?sport .\n",
    "?sport <http://schema.org/name> ?name2.\n",
    "\n",
    "} group by ?name2\n",
    "}\n",
    "filter(?num1>?num2)\n",
    "filter(?name1=?name2)\n",
    "}\n",
    "\"\"\"\n",
    "print(\"Results\")\n",
    "run_query(queryString)"
   ]
  },
  {
   "cell_type": "markdown",
   "id": "b57fa070-afd1-46ec-af93-4b84758419d6",
   "metadata": {},
   "source": [
    "***\n",
    "\n",
    "# Task 4.2\n",
    "\n",
    "*Who has the highest number of female winners*"
   ]
  },
  {
   "cell_type": "code",
   "execution_count": 53,
   "id": "1f1c737d-fd5a-482d-a933-ebd79f39e5e3",
   "metadata": {},
   "outputs": [
    {
     "name": "stdout",
     "output_type": "stream",
     "text": [
      "Results\n",
      "[('name', 'sex or gender'), ('p', 'http://www.wikidata.org/prop/direct/P21'), ('name2', 'female'), ('x', 'http://www.wikidata.org/entity/Q6581072')]\n",
      "[('name', 'sex or gender'), ('p', 'http://www.wikidata.org/prop/direct/P21'), ('name2', 'male'), ('x', 'http://www.wikidata.org/entity/Q6581097')]\n",
      "[('name', 'sex or gender'), ('p', 'http://www.wikidata.org/prop/direct/P21'), ('name2', 'transgender female'), ('x', 'http://www.wikidata.org/entity/Q1052281')]\n",
      "[('name', 'sexual orientation'), ('p', 'http://www.wikidata.org/prop/direct/P91'), ('name2', 'homosexuality'), ('x', 'http://www.wikidata.org/entity/Q6636')]\n"
     ]
    },
    {
     "data": {
      "text/plain": [
       "4"
      ]
     },
     "execution_count": 53,
     "metadata": {},
     "output_type": "execute_result"
    }
   ],
   "source": [
    "# Winners of France\n",
    "queryString = \"\"\"\n",
    "SELECT distinct ?name ?p ?name2 ?x {\n",
    " \n",
    "?a wdt:P106/wdt:P279 wd:Q2066131 .\n",
    "?a wdt:P27 wd:Q142 .\n",
    "?a wdt:P2522|wdt:P166 ?z .\n",
    "?a ?p ?x . \n",
    "?p <http://schema.org/name> ?name .\n",
    "filter(regex(?name,\"gender\") || regex(?name,\"sex\"))\n",
    "?x <http://schema.org/name> ?name2 .\n",
    "}\n",
    "\"\"\"\n",
    "print(\"Results\")\n",
    "run_query(queryString)"
   ]
  },
  {
   "cell_type": "code",
   "execution_count": 5,
   "id": "6723ed30-bb87-45e4-93e3-e8633f44db47",
   "metadata": {},
   "outputs": [
    {
     "name": "stdout",
     "output_type": "stream",
     "text": [
      "Results\n",
      "[('france', '186'), ('germany', '471')]\n"
     ]
    },
    {
     "data": {
      "text/plain": [
       "1"
      ]
     },
     "execution_count": 5,
     "metadata": {},
     "output_type": "execute_result"
    }
   ],
   "source": [
    "# ANSWER to 5\n",
    "queryString = \"\"\"\n",
    "SELECT ?france ?germany {\n",
    "{\n",
    "SELECT (count(distinct ?a) as ?france) \n",
    "WHERE { \n",
    "    ?a wdt:P106/wdt:P279 wd:Q2066131 .\n",
    "    ?a wdt:P27 wd:Q142 .\n",
    "    ?a wdt:P2522|wdt:P166 ?z .\n",
    "    ?a wdt:P21 wd:Q6581072 .\n",
    "    } \n",
    "}{\n",
    "SELECT (count(distinct ?a) as ?germany) \n",
    "WHERE { \n",
    "    ?a wdt:P106/wdt:P279 wd:Q2066131 .\n",
    "    ?a wdt:P27 wd:Q183 .\n",
    "    ?a wdt:P2522|wdt:P166 ?z .\n",
    "    ?a wdt:P21 wd:Q6581072 .\n",
    "    } \n",
    "}\n",
    "}\n",
    "\"\"\"\n",
    "print(\"Results\")\n",
    "run_query(queryString)"
   ]
  },
  {
   "cell_type": "markdown",
   "id": "758d015c-5cad-4473-afa4-0352d4213ee8",
   "metadata": {},
   "source": [
    "***\n",
    "\n",
    "# Task 4.3\n",
    "\n",
    "*For each country , which are the atheletes with the highest number of participations*"
   ]
  },
  {
   "cell_type": "code",
   "execution_count": 66,
   "id": "f1548af3-7720-47ff-81c4-8eedeb98dd18",
   "metadata": {},
   "outputs": [
    {
     "name": "stdout",
     "output_type": "stream",
     "text": [
      "Results\n",
      "[('part', '325'), ('name', 'Monika Cassens'), ('callret-2', 'http://www.wikidata.org/entity/Q16957')]\n",
      "[('part', '237'), ('name', 'Gillian Gilks'), ('callret-2', 'http://www.wikidata.org/entity/Q145')]\n",
      "[('part', '211'), ('name', 'Edgar Michalowsky'), ('callret-2', 'http://www.wikidata.org/entity/Q16957')]\n",
      "[('part', '208'), ('name', 'Erfried Michalowsky'), ('callret-2', 'http://www.wikidata.org/entity/Q16957')]\n",
      "[('part', '183'), ('name', 'Petra Michalowsky'), ('callret-2', 'http://www.wikidata.org/entity/Q16957')]\n",
      "[('part', '168'), ('name', 'Petya Nedelcheva'), ('callret-2', 'http://www.wikidata.org/entity/Q219')]\n",
      "[('part', '166'), ('name', 'Usain Bolt'), ('callret-2', 'http://www.wikidata.org/entity/Q766')]\n",
      "[('part', '154'), ('name', 'Angela Michalowski'), ('callret-2', 'http://www.wikidata.org/entity/Q16957')]\n",
      "[('part', '147'), ('name', 'Rikke Olsen'), ('callret-2', 'http://www.wikidata.org/entity/Q35')]\n",
      "[('part', '146'), ('name', 'Denyse Julien'), ('callret-2', 'http://www.wikidata.org/entity/Q16')]\n",
      "[('part', '145'), ('name', 'Nora Perry'), ('callret-2', 'http://www.wikidata.org/entity/Q145')]\n",
      "[('part', '139'), ('name', 'Svetlana Zilberman'), ('callret-2', 'http://www.wikidata.org/entity/Q15180')]\n",
      "[('part', '125'), ('name', 'Jürgen Koch'), ('callret-2', 'http://www.wikidata.org/entity/Q40')]\n",
      "[('part', '122'), ('name', 'Robert Mateusiak'), ('callret-2', 'http://www.wikidata.org/entity/Q36')]\n",
      "[('part', '122'), ('name', 'Gao Ling'), ('callret-2', 'http://www.wikidata.org/entity/Q148')]\n",
      "[('part', '121'), ('name', 'Nicole Grether'), ('callret-2', 'http://www.wikidata.org/entity/Q183')]\n",
      "[('part', '120'), ('name', 'George Alan Thomas'), ('callret-2', 'http://www.wikidata.org/entity/Q145')]\n",
      "[('part', '120'), ('name', 'Heidi Bender'), ('callret-2', 'http://www.wikidata.org/entity/Q183')]\n",
      "[('part', '120'), ('name', 'Lee Yong-dae'), ('callret-2', 'http://www.wikidata.org/entity/Q884')]\n",
      "[('part', '118'), ('name', 'Mike Tredgett'), ('callret-2', 'http://www.wikidata.org/entity/Q145')]\n"
     ]
    },
    {
     "data": {
      "text/plain": [
       "20"
      ]
     },
     "execution_count": 66,
     "metadata": {},
     "output_type": "execute_result"
    }
   ],
   "source": [
    "# Internal part of ANSWER to 6\n",
    "queryString = \"\"\"\n",
    "SELECT (count(distinct ?x) as ?part) ?name sample(?country) {\n",
    "    ?a wdt:P106/wdt:P279 wd:Q2066131 .\n",
    "    ?a wdt:P27 ?country .\n",
    "    ?a wdt:P1344 ?x .\n",
    "    ?x wdt:P641 ?z .\n",
    "    ?a <http://schema.org/name> ?name .\n",
    "} group by ?name\n",
    "order by desc (?part)\n",
    "limit 20\n",
    "\n",
    "\"\"\"\n",
    "print(\"Results\")\n",
    "run_query(queryString)"
   ]
  },
  {
   "cell_type": "code",
   "execution_count": 67,
   "id": "85c414f8-30ea-4a71-89b0-a77a559a469a",
   "metadata": {},
   "outputs": [
    {
     "name": "stdout",
     "output_type": "stream",
     "text": [
      "Results\n",
      "[('max', '325'), ('callret-1', 'Monika Cassens'), ('c', 'German Democratic Republic')]\n",
      "[('max', '237'), ('callret-1', 'Gillian Gilks'), ('c', 'United Kingdom')]\n",
      "[('max', '168'), ('callret-1', 'Petya Nedelcheva'), ('c', 'Bulgaria')]\n",
      "[('max', '166'), ('callret-1', 'Usain Bolt'), ('c', 'Jamaica')]\n",
      "[('max', '147'), ('callret-1', 'Rikke Olsen'), ('c', 'Denmark')]\n",
      "[('max', '146'), ('callret-1', 'Denyse Julien'), ('c', 'Canada')]\n",
      "[('max', '139'), ('callret-1', 'Svetlana Zilberman'), ('c', 'Soviet Union')]\n",
      "[('max', '125'), ('callret-1', 'Jürgen Koch'), ('c', 'Austria')]\n",
      "[('max', '122'), ('callret-1', 'Robert Mateusiak'), ('c', 'Poland')]\n",
      "[('max', '122'), ('callret-1', 'Gao Ling'), ('c', \"People's Republic of China\")]\n",
      "[('max', '121'), ('callret-1', 'Nicole Grether'), ('c', 'Germany')]\n",
      "[('max', '120'), ('callret-1', 'Lee Yong-dae'), ('c', 'South Korea')]\n",
      "[('max', '109'), ('callret-1', 'Eva Twedberg'), ('c', 'Sweden')]\n",
      "[('max', '106'), ('callret-1', 'Lee Chong Wei'), ('c', 'Malaysia')]\n",
      "[('max', '104'), ('callret-1', 'Maja Pohar'), ('c', 'Slovenia')]\n",
      "[('max', '104'), ('callret-1', 'Saralee Thungthongkam'), ('c', 'Thailand')]\n",
      "[('max', '99'), ('callret-1', 'Nadieżda Zięba'), ('c', 'Belarus')]\n",
      "[('max', '93'), ('callret-1', 'Tony Gunawan'), ('c', 'Indonesia')]\n",
      "[('max', '92'), ('callret-1', 'Zvonimir Đurkinjak'), ('c', 'Croatia')]\n",
      "[('max', '92'), ('callret-1', 'Svetoslav Stoyanov'), ('c', 'France')]\n",
      "[('max', '91'), ('callret-1', 'Erica van den Heuvel'), ('c', 'Kingdom of the Netherlands')]\n",
      "[('max', '89'), ('callret-1', 'Michelle Edwards'), ('c', 'South Africa')]\n",
      "[('max', '89'), ('callret-1', 'Howard Bach'), ('c', 'United States of America')]\n",
      "[('max', '83'), ('callret-1', 'Nina Vislova'), ('c', 'Russia')]\n",
      "[('max', '82'), ('callret-1', 'Broddi Kristjánsson'), ('c', 'Iceland')]\n",
      "[('max', '78'), ('callret-1', 'Zuzana Orlovská'), ('c', 'Slovakia')]\n",
      "[('max', '77'), ('callret-1', 'Kristína Gavnholt'), ('c', 'Czech Republic')]\n",
      "[('max', '74'), ('callret-1', 'Fernando Silva'), ('c', 'Portugal')]\n",
      "[('max', '73'), ('callret-1', 'Cheng Wen-Hsing'), ('c', 'Taiwan')]\n",
      "[('max', '70'), ('callret-1', 'Daniel Shirley'), ('c', 'New Zealand')]\n",
      "[('max', '66'), ('callret-1', 'Liselotte Blumer'), ('c', 'Switzerland')]\n",
      "[('max', '65'), ('callret-1', 'Kristīne Šefere'), ('c', 'Latvia')]\n",
      "[('max', '64'), ('callret-1', 'Chloe Magee'), ('c', 'Ireland')]\n",
      "[('max', '63'), ('callret-1', 'Pablo Abián'), ('c', 'Spain')]\n",
      "[('max', '63'), ('callret-1', 'Rhonda Cator'), ('c', 'Australia')]\n",
      "[('max', '62'), ('callret-1', 'Victoria Evtushenko'), ('c', 'Ukraine')]\n",
      "[('max', '61'), ('callret-1', 'Chandrika de Silva'), ('c', 'Sri Lanka')]\n",
      "[('max', '58'), ('callret-1', 'Wouter Claes'), ('c', 'Belgium')]\n",
      "[('max', '57'), ('callret-1', 'Juliette Ah-Wan'), ('c', 'Seychelles')]\n",
      "[('max', '55'), ('callret-1', 'Akvilė Stapušaitytė'), ('c', 'Lithuania')]\n",
      "[('max', '54'), ('callret-1', 'Anu Nieminen'), ('c', 'Finland')]\n",
      "[('max', '53'), ('callret-1', 'Rigoberto Urán'), ('c', 'Colombia')]\n",
      "[('max', '52'), ('callret-1', 'Hans Sperre Jr.'), ('c', 'Norway')]\n",
      "[('max', '52'), ('callret-1', 'Roy Díaz González'), ('c', 'Mexico')]\n",
      "[('max', '52'), ('callret-1', 'Éva Varga'), ('c', 'Hungary')]\n",
      "[('max', '51'), ('callret-1', 'Nguyễn Tiến Minh'), ('c', 'Vietnam')]\n",
      "[('max', '51'), ('callret-1', 'Kenneth Vella'), ('c', 'Malta')]\n",
      "[('max', '50'), ('callret-1', 'Saina Nehwal'), ('c', 'India')]\n",
      "[('max', '50'), ('callret-1', 'Chau Hoi Wah'), ('c', 'Hong Kong')]\n",
      "[('max', '49'), ('callret-1', 'Stephan Beeharry'), ('c', 'Mauritius')]\n"
     ]
    },
    {
     "data": {
      "text/plain": [
       "50"
      ]
     },
     "execution_count": 67,
     "metadata": {},
     "output_type": "execute_result"
    }
   ],
   "source": [
    "# ANSWER to 6\n",
    "queryString = \"\"\"\n",
    "Select max(?part) as ?max sample(?name) ?c where{ \n",
    "\n",
    "\n",
    "SELECT (count(distinct ?x) as ?part) ?name sample(?country) as ?c {\n",
    "    ?a wdt:P106/wdt:P279 wd:Q2066131 .\n",
    "    ?a wdt:P27 ?cx .\n",
    "    ?cx <http://schema.org/name> ?country .\n",
    "    ?a wdt:P1344 ?x .\n",
    "    ?x wdt:P641 ?z .\n",
    "    ?a <http://schema.org/name> ?name .\n",
    "} group by ?name\n",
    "order by desc (?part)\n",
    "}group by ?c\n",
    "order by desc (?max)\n",
    "limit 50\n",
    "\n",
    "\"\"\"\n",
    "print(\"Results\")\n",
    "run_query(queryString)\n"
   ]
  },
  {
   "cell_type": "code",
   "execution_count": 69,
   "id": "9017216e-ebd9-4cfe-955a-4db5935439c7",
   "metadata": {},
   "outputs": [
    {
     "name": "stdout",
     "output_type": "stream",
     "text": [
      "Results\n",
      "[('part', '46'), ('name', 'Klaus Raffeiner')]\n",
      "[('part', '43'), ('name', 'Agnese Allegrini')]\n",
      "[('part', '37'), ('name', 'Davide Rebellin')]\n",
      "[('part', '36'), ('name', 'Vincenzo Nibali')]\n",
      "[('part', '34'), ('name', 'Rosario Maddaloni')]\n",
      "[('part', '34'), ('name', 'Gianluca Brambilla')]\n",
      "[('part', '33'), ('name', 'Sonny Colbrelli')]\n",
      "[('part', '33'), ('name', 'Elia Viviani')]\n",
      "[('part', '33'), ('name', 'Lionel Messi')]\n",
      "[('part', '32'), ('name', 'Damiano Caruso')]\n",
      "[('part', '31'), ('name', 'Fabio Aru')]\n",
      "[('part', '30'), ('name', 'Daniel Oss')]\n",
      "[('part', '30'), ('name', 'Daniele Bennati')]\n",
      "[('part', '29'), ('name', 'Domenico Pozzovivo')]\n",
      "[('part', '29'), ('name', 'Giuseppe Gibilisco')]\n",
      "[('part', '29'), ('name', 'Maria Luisa Mur')]\n",
      "[('part', '29'), ('name', 'Alessandro De Marchi')]\n",
      "[('part', '29'), ('name', 'Marco Marcato')]\n",
      "[('part', '28'), ('name', 'Giovanni Visconti')]\n",
      "[('part', '28'), ('name', 'Sacha Modolo')]\n"
     ]
    },
    {
     "data": {
      "text/plain": [
       "20"
      ]
     },
     "execution_count": 69,
     "metadata": {},
     "output_type": "execute_result"
    }
   ],
   "source": [
    "# Who is for italy?\n",
    "queryString = \"\"\"\n",
    "SELECT (count(distinct ?x) as ?part) ?name  {\n",
    "    ?a wdt:P106/wdt:P279 wd:Q2066131 .\n",
    "    ?a wdt:P27 ?country .\n",
    "    ?country <http://schema.org/name> ?name1 .\n",
    "    filter(regex(?name1,\"taly\"))\n",
    "    ?a wdt:P1344 ?x .\n",
    "    ?x wdt:P641 ?z .\n",
    "    ?a <http://schema.org/name> ?name .\n",
    "} group by ?name\n",
    "order by desc (?part)\n",
    "limit 20\n",
    "\n",
    "\"\"\"\n",
    "print(\"Results\")\n",
    "run_query(queryString)"
   ]
  },
  {
   "cell_type": "code",
   "execution_count": null,
   "id": "25a0f930-9f16-40d8-99a6-9907daed438f",
   "metadata": {},
   "outputs": [],
   "source": []
  }
 ],
 "metadata": {
  "kernelspec": {
   "display_name": "Python 3",
   "language": "python",
   "name": "python3"
  },
  "language_info": {
   "codemirror_mode": {
    "name": "ipython",
    "version": 3
   },
   "file_extension": ".py",
   "mimetype": "text/x-python",
   "name": "python",
   "nbconvert_exporter": "python",
   "pygments_lexer": "ipython3",
   "version": "3.7.10"
  }
 },
 "nbformat": 4,
 "nbformat_minor": 5
}
