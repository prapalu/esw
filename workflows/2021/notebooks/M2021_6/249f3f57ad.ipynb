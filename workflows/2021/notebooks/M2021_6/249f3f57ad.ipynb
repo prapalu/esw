{
 "cells": [
  {
   "cell_type": "markdown",
   "id": "7034c3bf-6eb0-4418-8687-7b9d2a501103",
   "metadata": {},
   "source": [
    "# General instructions\n",
    "\n",
    "The goal of the project is to materialize a set of **exploratory workloads** over a real-world, large-scale,  open-domain KG: [WikiData](https://www.wikidata.org/wiki/Wikidata:Main_Page)\n",
    "\n",
    "An exploratory workload  is composed by a set of queries, where each query is related to the information obtained previously.\n",
    "\n",
    "An exploratory workload starts with a usually vague, open ended question, and does not assume the person issuing the workload has a clear understanding of the data contained in the target database or its structure.\n",
    "\n",
    "Remeber that:\n",
    "\n",
    "1. All the queries must run in the python notebook\n",
    "2. You can use classes and properties only if you find them via a SPARQL query that must be present in the notebook\n",
    "3. You do not delete useless queries. Keep everything that is synthatically valid \n",
    "\n",
    "```\n",
    "?p <http://schema.org/name> ?name .\n",
    "```\n",
    "    \n",
    "is the BGP returning a human-readable name of a property or a class in Wikidata.\n",
    "    \n",
    "    "
   ]
  },
  {
   "cell_type": "code",
   "execution_count": 2,
   "id": "3605c9d5-5371-49a5-be8d-d66e8f417139",
   "metadata": {},
   "outputs": [],
   "source": [
    "## SETUP used later\n",
    "\n",
    "from SPARQLWrapper import SPARQLWrapper, JSON\n",
    "\n",
    "\n",
    "prefixString = \"\"\"\n",
    "##-NOTEBOOK_CODE_HERE-##\n",
    "PREFIX wd: <http://www.wikidata.org/entity/> \n",
    "PREFIX wdt: <http://www.wikidata.org/prop/direct/> \n",
    "PREFIX sc: <http://schema.org/>\n",
    "\"\"\"\n",
    "\n",
    "# select and construct queries\n",
    "def run_query(queryString):\n",
    "    to_run = prefixString + \"\\n\" + queryString\n",
    "\n",
    "    sparql = SPARQLWrapper(\"http://a256-gc1-02.srv.aau.dk:5820/sparql\")\n",
    "    sparql.setTimeout(300)\n",
    "    sparql.setReturnFormat(JSON)\n",
    "    sparql.setQuery(to_run)\n",
    "\n",
    "    try :\n",
    "       results = sparql.query()\n",
    "       json_results = results.convert()\n",
    "       if len(json_results['results']['bindings'])==0:\n",
    "          print(\"Empty\")\n",
    "          return 0\n",
    "    \n",
    "       for bindings in json_results['results']['bindings']:\n",
    "          print( [ (var, value['value'])  for var, value in bindings.items() ] )\n",
    "\n",
    "       return len(json_results['results']['bindings'])\n",
    "\n",
    "    except Exception as e :\n",
    "        print(\"The operation failed\", e)\n",
    "    \n",
    "# ASk queries\n",
    "def run_ask_query(queryString):\n",
    "    to_run = prefixString + \"\\n\" + queryString\n",
    "\n",
    "    sparql = SPARQLWrapper(\"http://a256-gc1-02.srv.aau.dk:5820/sparql\")\n",
    "    sparql.setTimeout(300)\n",
    "    sparql.setReturnFormat(JSON)\n",
    "    sparql.setQuery(to_run)\n",
    "\n",
    "    try :\n",
    "        return sparql.query().convert()\n",
    "\n",
    "    except Exception as e :\n",
    "        print(\"The operation failed\", e)\n"
   ]
  },
  {
   "cell_type": "markdown",
   "id": "d477a59c-a68c-4c8f-9f97-8ca5294d7d27",
   "metadata": {},
   "source": [
    "# Companies Workflow Series (\"IT Companies explorative search\") \n",
    "\n",
    "Consider the following exploratory information need:\n",
    "\n",
    "> Compare companies across different sectors in U.K., U.S., and Canada, consider number of employees, companies owned or acquired, and revenue or assets"
   ]
  },
  {
   "cell_type": "markdown",
   "id": "4a45c0ba-f79e-441d-bec5-84401b09db70",
   "metadata": {},
   "source": [
    "## Useful URIs for the current workflow\n",
    "\n",
    "\n",
    "The following are given:\n",
    "\n",
    "| IRI           | Description   | Role      |\n",
    "| -----------   | -----------   |-----------|\n",
    "| `wdt:P1647`   | subproperty   | predicate |\n",
    "| `wdt:P31`     | instance of   | predicate |\n",
    "| `wdt:P279`    | subclass      | predicate |\n",
    "| `wdt:P17`      | country       | predicate |\n",
    "| `wd:Q4830453`  | Business      | node      |\n",
    "| `wd:Q13977`    | Bloomberg L.P.| node |\n",
    "| `wd:Q502121`   | BlackBerry    | node |\n",
    "| `wd:Q16`        | Canada        | node |\n",
    "| `wd:Q145`      | U.K.          | node |\n",
    "| `wd:Q30`       | U.S.A.        | node |\n",
    "\n",
    "\n",
    "Also consider\n",
    "\n",
    "```\n",
    "?p wdt:P17 wd:Q16  . \n",
    "?p wdt:P31 wd:Q4830453  . \n",
    "```\n",
    "\n",
    "is the BGP to retrieve all **canadian businesses**"
   ]
  },
  {
   "cell_type": "markdown",
   "id": "7af439fb-96e4-4dbb-a381-f19afab79f86",
   "metadata": {
    "tags": []
   },
   "source": [
    "## Workload Goals\n",
    "\n",
    "1. Identify the BGP for obtaining number of employees of a company and other relevant numerical attributes\n",
    "\n",
    "2. Identify the BGP to retrieve all companies owned by a company\n",
    "\n",
    "3. Is there some company that owns companies in other countries?\n",
    "\n",
    "4. Companies have different 'legal forms', compare the number of companies divided in different legal forms\n",
    "\n",
    "5. Analyze the number of employees  and other relevant numeric attributes\n",
    " \n",
    "   5.1 What are the top-10 companies for a given attribute?\n",
    "   \n",
    "   5.2 For which companies is defined some form of income or market capitalization or total assets? What is the min, max, and average in each category and country?\n",
    "   \n",
    "   5.3 Which business in each country owns more businesses in other countries?\n"
   ]
  },
  {
   "cell_type": "code",
   "execution_count": 2,
   "id": "24a853ab-830c-422c-afd3-e9e015b8b8ed",
   "metadata": {},
   "outputs": [],
   "source": [
    "# start your workflow here"
   ]
  },
  {
   "cell_type": "code",
   "execution_count": 3,
   "id": "ade01416-92e7-4ad7-b9a9-b8fb330750dc",
   "metadata": {},
   "outputs": [
    {
     "name": "stdout",
     "output_type": "stream",
     "text": [
      "Results\n",
      "[('callret-0', '2482')]\n"
     ]
    },
    {
     "data": {
      "text/plain": [
       "1"
      ]
     },
     "execution_count": 3,
     "metadata": {},
     "output_type": "execute_result"
    }
   ],
   "source": [
    "queryString = \"\"\"\n",
    "SELECT COUNT(*)\n",
    "WHERE { \n",
    "\n",
    "?p wdt:P17 wd:Q16  . \n",
    "?p wdt:P31 wd:Q4830453  . \n",
    "} \n",
    "\"\"\"\n",
    "\n",
    "print(\"Results\")\n",
    "run_query(queryString)"
   ]
  },
  {
   "cell_type": "markdown",
   "id": "f0a93912-234e-462a-b806-2205d320d7b7",
   "metadata": {},
   "source": [
    "# Workload 1"
   ]
  },
  {
   "cell_type": "code",
   "execution_count": null,
   "id": "b5d1f8d6-6e6f-4c69-93cc-38db0f3e0d7d",
   "metadata": {},
   "outputs": [],
   "source": [
    "# 1. Identify the BGP for obtaining number of employees of a company and other relevant numerical attributes"
   ]
  },
  {
   "cell_type": "code",
   "execution_count": 130,
   "id": "1c974ee2-6c40-42db-a71b-f022a9f57914",
   "metadata": {},
   "outputs": [],
   "source": [
    "# Find all companies in Canadian Business"
   ]
  },
  {
   "cell_type": "code",
   "execution_count": 186,
   "id": "028a57ee-3a07-4c04-a15b-d081c1c9eb9f",
   "metadata": {},
   "outputs": [
    {
     "name": "stdout",
     "output_type": "stream",
     "text": [
      "Results\n",
      "[('p', 'http://www.wikidata.org/entity/Q4545554'), ('pname', '01 Communique')]\n",
      "[('p', 'http://www.wikidata.org/entity/Q30253583'), ('pname', '123 Certification (Canada)')]\n",
      "[('p', 'http://www.wikidata.org/entity/Q4549346'), ('pname', '13 Flames Empire')]\n",
      "[('p', 'http://www.wikidata.org/entity/Q30282461'), ('pname', '360pi (Canada)')]\n",
      "[('p', 'http://www.wikidata.org/entity/Q30267183'), ('pname', '3v Geomatics (Canada)')]\n",
      "[('p', 'http://www.wikidata.org/entity/Q67029200'), ('pname', '407 ETR Concession Company Limited')]\n",
      "[('p', 'http://www.wikidata.org/entity/Q67030462'), ('pname', '407 International Inc')]\n",
      "[('p', 'http://www.wikidata.org/entity/Q47069776'), ('pname', '7Geese')]\n",
      "[('p', 'http://www.wikidata.org/entity/Q4646438'), ('pname', '9 Story Media Group')]\n",
      "[('p', 'http://www.wikidata.org/entity/Q4655664'), ('pname', 'A Buck or Two')]\n"
     ]
    },
    {
     "data": {
      "text/plain": [
       "10"
      ]
     },
     "execution_count": 186,
     "metadata": {},
     "output_type": "execute_result"
    }
   ],
   "source": [
    "queryString = \"\"\"\n",
    "SELECT ?p ?pname\n",
    "WHERE { \n",
    "\n",
    "?p wdt:P17 wd:Q16  . \n",
    "?p wdt:P31 wd:Q4830453  . \n",
    "\n",
    "\n",
    "# this returns the labels\n",
    "    ?p <http://schema.org/name> ?pname .\n",
    "    \n",
    "} \n",
    "ORDER BY ASC (?pname) \n",
    "LIMIT 10\n",
    "\"\"\"\n",
    "\n",
    "print(\"Results\")\n",
    "run_query(queryString)"
   ]
  },
  {
   "cell_type": "code",
   "execution_count": 132,
   "id": "6e9aa1b0-e7f5-4b13-a4f2-32770de1b76c",
   "metadata": {},
   "outputs": [],
   "source": [
    "# Analyze company properties"
   ]
  },
  {
   "cell_type": "code",
   "execution_count": 184,
   "id": "4241a657-f7b3-40c6-9f38-dead2c789a43",
   "metadata": {},
   "outputs": [
    {
     "name": "stdout",
     "output_type": "stream",
     "text": [
      "Results\n",
      "[('p', 'http://www.wikidata.org/prop/direct/P2751'), ('pname', 'Roller Coaster Database ID')]\n",
      "[('p', 'http://www.wikidata.org/prop/direct/P1056'), ('pname', 'product or material produced')]\n",
      "[('p', 'http://www.wikidata.org/prop/direct/P112'), ('pname', 'founded by')]\n",
      "[('p', 'http://www.wikidata.org/prop/direct/P1128'), ('pname', 'employees')]\n",
      "[('p', 'http://www.wikidata.org/prop/direct/P127'), ('pname', 'owned by')]\n",
      "[('p', 'http://www.wikidata.org/prop/direct/P1454'), ('pname', 'legal form')]\n",
      "[('p', 'http://www.wikidata.org/prop/direct/P154'), ('pname', 'logo image')]\n",
      "[('p', 'http://www.wikidata.org/prop/direct/P159'), ('pname', 'headquarters location')]\n",
      "[('p', 'http://www.wikidata.org/prop/direct/P17'), ('pname', 'country')]\n",
      "[('p', 'http://www.wikidata.org/prop/direct/P18'), ('pname', 'image')]\n",
      "[('p', 'http://www.wikidata.org/prop/direct/P2002'), ('pname', 'Twitter username')]\n",
      "[('p', 'http://www.wikidata.org/prop/direct/P2003'), ('pname', 'Instagram username')]\n",
      "[('p', 'http://www.wikidata.org/prop/direct/P2013'), ('pname', 'Facebook ID')]\n",
      "[('p', 'http://www.wikidata.org/prop/direct/P2088'), ('pname', 'Crunchbase organization ID')]\n",
      "[('p', 'http://www.wikidata.org/prop/direct/P213'), ('pname', 'ISNI')]\n",
      "[('p', 'http://www.wikidata.org/prop/direct/P214'), ('pname', 'VIAF ID')]\n",
      "[('p', 'http://www.wikidata.org/prop/direct/P2427'), ('pname', 'GRID ID')]\n",
      "[('p', 'http://www.wikidata.org/prop/direct/P244'), ('pname', 'Library of Congress authority ID')]\n",
      "[('p', 'http://www.wikidata.org/prop/direct/P31'), ('pname', 'instance of')]\n",
      "[('p', 'http://www.wikidata.org/prop/direct/P3417'), ('pname', 'Quora topic ID')]\n"
     ]
    },
    {
     "data": {
      "text/plain": [
       "20"
      ]
     },
     "execution_count": 184,
     "metadata": {},
     "output_type": "execute_result"
    }
   ],
   "source": [
    "queryString = \"\"\"\n",
    "SELECT DISTINCT ?p ?pname\n",
    "WHERE { \n",
    "\n",
    "?s wdt:P17 wd:Q16  ; \n",
    "   wdt:P31 wd:Q4830453 ;\n",
    "   ?p ?o .\n",
    "\n",
    "\n",
    "# this returns the labels\n",
    "    ?p <http://schema.org/name> ?pname .\n",
    " #   FILTER REGEX (?pname, \"Apple\") \n",
    "} \n",
    "LIMIT 20\n",
    "\"\"\"\n",
    "\n",
    "print(\"Results\")\n",
    "run_query(queryString)"
   ]
  },
  {
   "cell_type": "code",
   "execution_count": null,
   "id": "48acb71b-ed84-42ae-bf53-cc0dc9fc6eb2",
   "metadata": {},
   "outputs": [],
   "source": [
    "# Chosen different properties from the list above: number of employees, founded by, headquarterslocation,\n",
    "# inception, total revenue, net profit"
   ]
  },
  {
   "cell_type": "code",
   "execution_count": null,
   "id": "0225aee9-c4dc-438e-9079-26c5b25b3cab",
   "metadata": {},
   "outputs": [],
   "source": [
    "# BGP for obtaining number of employees of a canadian company and other relevant numerical attributes "
   ]
  },
  {
   "cell_type": "code",
   "execution_count": 43,
   "id": "f213fb1d-bcca-42e1-bb05-1bdf69920f21",
   "metadata": {},
   "outputs": [
    {
     "name": "stdout",
     "output_type": "stream",
     "text": [
      "Results\n",
      "[('p', 'http://www.wikidata.org/entity/Q378767'), ('pname', 'Adtranz'), ('numEmployees', '22715'), ('founders', 'ABB Group'), ('inception', '1996-01-01T00:00:00Z'), ('headquarterslocation', 'Berlin')]\n",
      "[('p', 'http://www.wikidata.org/entity/Q5264469'), ('pname', 'D2L'), ('numEmployees', '800'), ('founders', 'John Baker'), ('inception', '1999-01-01T00:00:00Z'), ('headquarterslocation', 'Kitchener')]\n",
      "[('p', 'http://www.wikidata.org/entity/Q835456'), ('pname', 'Sun Life Financial'), ('numEmployees', '15000'), ('founders', 'Matthew Hamilton Gault'), ('inception', '1865-01-01T00:00:00Z'), ('headquarterslocation', 'Sun Life Building')]\n",
      "[('p', 'http://www.wikidata.org/entity/Q76039'), ('pname', \"Hudson's Bay Company\"), ('numEmployees', '70000'), ('founders', 'Médard des Groseilliers, Pierre-Esprit Radisson'), ('inception', '1670-05-02T00:00:00Z'), ('headquarterslocation', 'Toronto')]\n",
      "[('p', 'http://www.wikidata.org/entity/Q1436921'), ('pname', 'Ford Motor Company of Canada'), ('numEmployees', '23500'), ('founders', 'Henry Ford'), ('inception', '1904-01-01T00:00:00Z'), ('headquarterslocation', 'Oakville')]\n",
      "[('p', 'http://www.wikidata.org/entity/Q815694'), ('pname', 'Bell Canada'), ('numEmployees', '55250'), ('founders', 'Charles Fleetford Sise'), ('inception', '1877-01-01T00:00:00Z'), ('headquarterslocation', 'Montreal')]\n",
      "[('p', 'http://www.wikidata.org/entity/Q42922045'), ('pname', 'ReDeal'), ('numEmployees', '6'), ('founders', 'Michael Louie'), ('inception', '2017-04-15T00:00:00Z'), ('headquarterslocation', 'Ottawa')]\n",
      "[('p', 'http://www.wikidata.org/entity/Q1145766'), ('pname', 'Future Shop'), ('numEmployees', '14000'), ('founders', 'Hassan Khosrowshahi'), ('inception', '1982-01-01T00:00:00Z'), ('headquarterslocation', 'Burnaby')]\n",
      "[('p', 'http://www.wikidata.org/entity/Q835456'), ('pname', 'Sun Life Financial'), ('numEmployees', '15000'), ('founders', 'Matthew Hamilton Gault'), ('inception', '1865-01-01T00:00:00Z'), ('headquarterslocation', 'Waterloo')]\n",
      "[('p', 'http://www.wikidata.org/entity/Q6702957'), ('pname', 'Lululemon Athletica'), ('numEmployees', '13400'), ('founders', 'Chip Wilson'), ('inception', '1998-01-01T00:00:00Z'), ('headquarterslocation', 'Vancouver')]\n",
      "[('p', 'http://www.wikidata.org/entity/Q5324680'), ('pname', 'EXFO'), ('numEmployees', '1900'), ('founders', 'Germain Lamonde'), ('inception', '1985-01-01T00:00:00Z'), ('headquarterslocation', 'Quebec City'), ('totalrevenue', '287000000'), ('netprofit', '2480000')]\n",
      "[('p', 'http://www.wikidata.org/entity/Q697311'), ('pname', 'Magna International'), ('numEmployees', '108000'), ('founders', 'Frank Stronach'), ('inception', '1957-01-01T00:00:00Z'), ('headquarterslocation', 'Aurora')]\n",
      "[('p', 'http://www.wikidata.org/entity/Q29053314'), ('pname', 'EnPowered'), ('numEmployees', '35'), ('founders', 'Tomas van Stee'), ('inception', '2015-03-18T00:00:00Z'), ('headquarterslocation', 'Waterloo')]\n",
      "[('p', 'http://www.wikidata.org/entity/Q502121'), ('pname', 'BlackBerry'), ('numEmployees', '3647'), ('founders', 'Mike Lazaridis'), ('inception', '1984-03-07T00:00:00Z'), ('headquarterslocation', 'Waterloo'), ('totalrevenue', '1040000000'), ('netprofit', '-152000000')]\n",
      "[('p', 'http://www.wikidata.org/entity/Q76039'), ('pname', \"Hudson's Bay Company\"), ('numEmployees', '70000'), ('founders', 'Médard des Groseilliers, Pierre-Esprit Radisson'), ('inception', '1670-05-02T00:00:00Z'), ('headquarterslocation', 'Brampton')]\n",
      "[('p', 'http://www.wikidata.org/entity/Q835456'), ('pname', 'Sun Life Financial'), ('numEmployees', '15000'), ('founders', 'Matthew Hamilton Gault'), ('inception', '1865-01-01T00:00:00Z'), ('headquarterslocation', 'Toronto')]\n"
     ]
    },
    {
     "data": {
      "text/plain": [
       "16"
      ]
     },
     "execution_count": 43,
     "metadata": {},
     "output_type": "execute_result"
    }
   ],
   "source": [
    "queryString = \"\"\"\n",
    "SELECT DISTINCT ?p  ?pname ?numEmployees (GROUP_CONCAT(DISTINCT ?foundername ; separator = \", \") AS ?founders) ?inception \n",
    "?headquarterslocation ?totalrevenue ?netprofit WHERE { \n",
    "\n",
    "  ?p    wdt:P17 wd:Q16  ;\n",
    "        wdt:P31 wd:Q4830453 ;\n",
    "        wdt:P1128 ?numEmployees ;\n",
    "        wdt:P112 ?founder ; \n",
    "        wdt:P571 ?inception ;\n",
    "        wdt:P159 ?hql .\n",
    "       \n",
    "        \n",
    "OPTIONAL { ?p wdt:P2295 ?netprofit } . \n",
    "\n",
    "OPTIONAL { ?p wdt:P2139 ?totalrevenue } . \n",
    "\n",
    "?p <http://schema.org/name> ?pname .\n",
    "?founder <http://schema.org/name> ?foundername .\n",
    "?hql <http://schema.org/name> ?headquarterslocation .\n",
    "\n",
    "} LIMIT 100\n",
    "\"\"\"\n",
    "\n",
    "print(\"Results\")\n",
    "run_query(queryString)"
   ]
  },
  {
   "cell_type": "code",
   "execution_count": null,
   "id": "b5227f73-b52d-4150-91c8-38973f22e0c3",
   "metadata": {},
   "outputs": [],
   "source": []
  },
  {
   "cell_type": "code",
   "execution_count": 155,
   "id": "b18f94f7-a6ea-48c4-a9b7-e99e15e1b291",
   "metadata": {},
   "outputs": [],
   "source": [
    "#\n",
    "#"
   ]
  },
  {
   "cell_type": "markdown",
   "id": "d985c410-2416-4e88-965d-d0eb59c3d21c",
   "metadata": {},
   "source": [
    "# Workload 2"
   ]
  },
  {
   "cell_type": "code",
   "execution_count": 6,
   "id": "98e3d86b-e06d-4f2f-a30f-0f9c5101926a",
   "metadata": {},
   "outputs": [],
   "source": [
    "# 2. Identify the BGP to retrieve all companies owned by a company "
   ]
  },
  {
   "cell_type": "code",
   "execution_count": null,
   "id": "5a61eddb-8316-4515-9757-b3034b0d8f96",
   "metadata": {},
   "outputs": [],
   "source": [
    "# Look for properties linked to companies "
   ]
  },
  {
   "cell_type": "code",
   "execution_count": 28,
   "id": "0639f729-0648-4086-a154-739b5445e9d3",
   "metadata": {},
   "outputs": [
    {
     "name": "stdout",
     "output_type": "stream",
     "text": [
      "Results\n",
      "[('p', 'http://www.wikidata.org/prop/direct/P108'), ('pname', 'employer')]\n",
      "[('p', 'http://www.wikidata.org/prop/direct/P127'), ('pname', 'owned by')]\n",
      "[('p', 'http://www.wikidata.org/prop/direct/P137'), ('pname', 'operator')]\n",
      "[('p', 'http://www.wikidata.org/prop/direct/P176'), ('pname', 'manufacturer')]\n",
      "[('p', 'http://www.wikidata.org/prop/direct/P1830'), ('pname', 'owner of')]\n",
      "[('p', 'http://www.wikidata.org/prop/direct/P272'), ('pname', 'production company')]\n",
      "[('p', 'http://www.wikidata.org/prop/direct/P301'), ('pname', \"category's main topic\")]\n",
      "[('p', 'http://www.wikidata.org/prop/direct/P466'), ('pname', 'occupant')]\n",
      "[('p', 'http://www.wikidata.org/prop/direct/P527'), ('pname', 'has part')]\n",
      "[('p', 'http://www.wikidata.org/prop/direct/P61'), ('pname', 'discoverer or inventor')]\n",
      "[('p', 'http://www.wikidata.org/prop/direct/P749'), ('pname', 'parent organization')]\n",
      "[('p', 'http://www.wikidata.org/prop/direct/P859'), ('pname', 'sponsor')]\n",
      "[('p', 'http://www.wikidata.org/prop/direct/P112'), ('pname', 'founded by')]\n",
      "[('p', 'http://www.wikidata.org/prop/direct/P155'), ('pname', 'follows')]\n",
      "[('p', 'http://www.wikidata.org/prop/direct/P355'), ('pname', 'subsidiary')]\n",
      "[('p', 'http://www.wikidata.org/prop/direct/P361'), ('pname', 'part of')]\n",
      "[('p', 'http://www.wikidata.org/prop/direct/P750'), ('pname', 'distributed by')]\n",
      "[('p', 'http://www.wikidata.org/prop/direct/P1716'), ('pname', 'brand')]\n",
      "[('p', 'http://www.wikidata.org/prop/direct/P1591'), ('pname', 'defendant')]\n",
      "[('p', 'http://www.wikidata.org/prop/direct/P1423'), ('pname', 'template has topic')]\n"
     ]
    },
    {
     "data": {
      "text/plain": [
       "20"
      ]
     },
     "execution_count": 28,
     "metadata": {},
     "output_type": "execute_result"
    }
   ],
   "source": [
    "queryString = \"\"\"\n",
    "SELECT DISTINCT ?p ?pname \n",
    "WHERE { \n",
    "\n",
    "\n",
    "?s ?p ?company .\n",
    "?company wdt:P17 wd:Q16  ; \n",
    "         wdt:P31 wd:Q4830453 .\n",
    "         \n",
    "\n",
    "\n",
    "?p <http://schema.org/name> ?pname .\n",
    "\n",
    "} \n",
    " \n",
    "LIMIT 20\n",
    "\"\"\"\n",
    "\n",
    "print(\"Results\")\n",
    "run_query(queryString)"
   ]
  },
  {
   "cell_type": "code",
   "execution_count": null,
   "id": "436b6f41-3ddd-4240-9b9a-b34dfdc673cd",
   "metadata": {},
   "outputs": [],
   "source": [
    "# P127 --> owned by"
   ]
  },
  {
   "cell_type": "code",
   "execution_count": null,
   "id": "be157c8b-2560-41e7-b4bf-ce357f701667",
   "metadata": {},
   "outputs": [],
   "source": [
    "# Find all the companies (case: Canadian companies) owned by a company \n",
    "# (select all the ?c instance of Business to find only companies)"
   ]
  },
  {
   "cell_type": "code",
   "execution_count": 30,
   "id": "8eef2c56-2f5d-4fee-ab0a-a71f46c4a144",
   "metadata": {},
   "outputs": [
    {
     "name": "stdout",
     "output_type": "stream",
     "text": [
      "Results\n",
      "[('listcompanies', 'Purolator Courier'), ('ob', 'owned by'), ('companyn', 'Canada Post')]\n",
      "[('listcompanies', 'City National Bank'), ('ob', 'owned by'), ('companyn', 'Royal Bank of Canada')]\n",
      "[('listcompanies', 'Sunrise Senior Living'), ('ob', 'owned by'), ('companyn', 'Revera')]\n",
      "[('listcompanies', 'High Fidelity HDTV'), ('ob', 'owned by'), ('companyn', 'Blue Ant Media')]\n",
      "[('listcompanies', 'LightLife'), ('ob', 'owned by'), ('companyn', 'Maple Leaf Foods')]\n",
      "[('listcompanies', 'Carestream Health, Parkdean Resorts, SIG Combibloc GmbH, Tomkins plc'), ('ob', 'owned by'), ('companyn', 'Onex Corporation')]\n",
      "[('listcompanies', 'ClearBank'), ('ob', 'owned by'), ('companyn', 'Clearwater Fine Foods')]\n",
      "[('listcompanies', 'Banco Wiese Sudameris, Scotiabank Perú, Tangerine'), ('ob', 'owned by'), ('companyn', 'Scotiabank')]\n",
      "[('listcompanies', 'Atlantic Broadband'), ('ob', 'owned by'), ('companyn', 'Cogeco')]\n",
      "[('listcompanies', 'OMERS Infrastructure European Holdings'), ('ob', 'owned by'), ('companyn', 'Borealis International Investments Corporation')]\n",
      "[('listcompanies', 'Colonial Pipeline, SNC-Lavalin'), ('ob', 'owned by'), ('companyn', 'Caisse de dépôt et placement du Québec')]\n",
      "[('listcompanies', 'Québecor Média'), ('ob', 'owned by'), ('companyn', 'Quebecor')]\n",
      "[('listcompanies', 'Public Mobile'), ('ob', 'owned by'), ('companyn', 'TELUS')]\n",
      "[('listcompanies', 'FreshCo'), ('ob', 'owned by'), ('companyn', 'Empire Company')]\n",
      "[('listcompanies', 'Solo Mobile, Virgin Mobile Canada'), ('ob', 'owned by'), ('companyn', 'Bell Mobility')]\n",
      "[('listcompanies', \"Hudson's Bay, Lord & Taylor, Saks Fifth Avenue, Zellers\"), ('ob', 'owned by'), ('companyn', \"Hudson's Bay Company\")]\n",
      "[('listcompanies', 'ABB Henschel'), ('ob', 'owned by'), ('companyn', 'Adtranz')]\n",
      "[('listcompanies', 'Overland Storage'), ('ob', 'owned by'), ('companyn', 'Sphere 3D')]\n",
      "[('listcompanies', 'Toca Boca'), ('ob', 'owned by'), ('companyn', 'Spin Master')]\n",
      "[('listcompanies', 'Cookie Jar Group, Peanuts Worldwide'), ('ob', 'owned by'), ('companyn', 'WildBrain')]\n",
      "[('listcompanies', 'United Furniture Warehouse'), ('ob', 'owned by'), ('companyn', \"Leon's\")]\n",
      "[('listcompanies', 'Mindjet, Parallels, Ulead Systems'), ('ob', 'owned by'), ('companyn', 'Corel')]\n",
      "[('listcompanies', 'Bell Media, Bell TV'), ('ob', 'owned by'), ('companyn', 'Bell Canada')]\n",
      "[('listcompanies', 'Dessau, MWH Global'), ('ob', 'owned by'), ('companyn', 'Stantec')]\n",
      "[('listcompanies', 'CIBC FirstCaribbean International Bank'), ('ob', 'owned by'), ('companyn', 'Canadian Imperial Bank of Commerce')]\n",
      "[('listcompanies', 'Actuate Corporation, GXS Inc., Hightail'), ('ob', 'owned by'), ('companyn', 'Open Text Corporation')]\n",
      "[('listcompanies', 'ICL Group Ltd.'), ('ob', 'owned by'), ('companyn', 'Potash Corporation of Saskatchewan')]\n",
      "[('listcompanies', 'Helly Hansen'), ('ob', 'owned by'), ('companyn', 'Canadian Tire')]\n",
      "[('listcompanies', \"Home Outfitters, Hudson's Bay Company, Hudson's Bay Trading Company, Saks Incorporated\"), ('ob', 'owned by'), ('companyn', 'NRDC Equity Partners')]\n",
      "[('listcompanies', '407 International Inc'), ('ob', 'owned by'), ('companyn', 'SNC-Lavalin')]\n",
      "[('listcompanies', 'TD Ameritrade, TD Auto Finance, TD Canada Trust'), ('ob', 'owned by'), ('companyn', 'Toronto–Dominion Bank')]\n",
      "[('listcompanies', 'B2B Bank'), ('ob', 'owned by'), ('companyn', 'Laurentian Bank of Canada')]\n",
      "[('listcompanies', 'Tim Hortons'), ('ob', 'owned by'), ('companyn', 'Restaurant Brands International')]\n",
      "[('listcompanies', '9 Story USA, Brown Bag Films'), ('ob', 'owned by'), ('companyn', '9 Story Media Group')]\n",
      "[('listcompanies', 'Maple Leaf Sports & Entertainment, Rogers Hi-Speed Internet, Rogers Plus, Rogers Radio, Rogers Sports & Media'), ('ob', 'owned by'), ('companyn', 'Rogers Communications')]\n",
      "[('listcompanies', 'Blue Ant Media, VerticalScope'), ('ob', 'owned by'), ('companyn', 'Torstar')]\n",
      "[('listcompanies', 'Shaw Direct, Shaw Media'), ('ob', 'owned by'), ('companyn', 'Shaw Communications')]\n",
      "[('listcompanies', 'Blimpie, Pinkberry, Taco Time'), ('ob', 'owned by'), ('companyn', 'MTY Food Group')]\n",
      "[('listcompanies', 'Infineon Technologies'), ('ob', 'owned by'), ('companyn', 'Sun Life Financial')]\n",
      "[('listcompanies', 'Center Parcs UK, Enwave, GrafTech, PD Ports, Vistra'), ('ob', 'owned by'), ('companyn', 'Brookfield Asset Management')]\n",
      "[('listcompanies', 'PriceSmart Foods, Ripley Entertainment Inc.'), ('ob', 'owned by'), ('companyn', 'Jim Pattison Group')]\n",
      "[('listcompanies', 'Neilson Dairy'), ('ob', 'owned by'), ('companyn', 'Saputo')]\n",
      "[('listcompanies', 'Breakingviews, Incomes Data Services, Pricing Partners Cie'), ('ob', 'owned by'), ('companyn', 'Thomson Reuters')]\n",
      "[('listcompanies', \"GNC, Helly Hansen, Nextgen Networks, Shearer's Foods\"), ('ob', 'owned by'), ('companyn', \"Ontario Teachers' Pension Plan\")]\n",
      "[('listcompanies', '407 International Inc, Ciel Satellite Group, Marketwire, Oxford Properties'), ('ob', 'owned by'), ('companyn', 'OMERS')]\n",
      "[('listcompanies', 'Currensee'), ('ob', 'owned by'), ('companyn', 'Oanda Corporation')]\n",
      "[('listcompanies', 'Short Brothers'), ('ob', 'owned by'), ('companyn', 'Bombardier Aerospace')]\n",
      "[('listcompanies', 'Archambault'), ('ob', 'owned by'), ('companyn', 'Renaud-Bray')]\n",
      "[('listcompanies', 'Le SuperClub Vidéotron'), ('ob', 'owned by'), ('companyn', 'Vidéotron')]\n",
      "[('listcompanies', 'CTVglobemedia, Thomson Reuters'), ('ob', 'owned by'), ('companyn', 'The Woodbridge Company')]\n",
      "[('listcompanies', 'Spectra Energy'), ('ob', 'owned by'), ('companyn', 'Enbridge')]\n",
      "[('listcompanies', 'Bruce Power'), ('ob', 'owned by'), ('companyn', 'Cameco')]\n",
      "[('listcompanies', 'Queensland Alumina Limited'), ('ob', 'owned by'), ('companyn', 'Rio Tinto Alcan')]\n",
      "[('listcompanies', 'Upper Canada Brewing Company'), ('ob', 'owned by'), ('companyn', 'Sleeman Breweries')]\n",
      "[('listcompanies', \"Circle K, Mac's Convenience Stores, Statoil Fuel & Retail\"), ('ob', 'owned by'), ('companyn', 'Alimentation Couche-Tard')]\n",
      "[('listcompanies', 'Petro-Canada'), ('ob', 'owned by'), ('companyn', 'Suncor Energy')]\n",
      "[('listcompanies', 'IGM Financial'), ('ob', 'owned by'), ('companyn', 'Power Corporation of Canada')]\n",
      "[('listcompanies', 'King Rollo Films'), ('ob', 'owned by'), ('companyn', 'Cookie Jar Group')]\n",
      "[('listcompanies', 'Czech Gas Networks'), ('ob', 'owned by'), ('companyn', 'Iskut IMC')]\n"
     ]
    },
    {
     "data": {
      "text/plain": [
       "59"
      ]
     },
     "execution_count": 30,
     "metadata": {},
     "output_type": "execute_result"
    }
   ],
   "source": [
    "queryString = \"\"\"\n",
    "SELECT DISTINCT (GROUP_CONCAT(DISTINCT ?companyname ; separator = \", \") AS ?listcompanies) ?ob ?companyn\n",
    "WHERE { \n",
    "\n",
    "\n",
    "   ?company wdt:P17 wd:Q16  ; \n",
    "            wdt:P31 wd:Q4830453 .\n",
    "   ?c wdt:P31 wd:Q4830453 ;\n",
    "      wdt:P127 ?company .\n",
    "   \n",
    "\n",
    "\n",
    "\n",
    "?c <http://schema.org/name> ?companyname .\n",
    "wdt:P127 <http://schema.org/name> ?ob .\n",
    "?company  <http://schema.org/name> ?companyn .\n",
    "} \n",
    " \n",
    "LIMIT 200\n",
    "\"\"\"\n",
    "\n",
    "print(\"Results\")\n",
    "run_query(queryString)"
   ]
  },
  {
   "cell_type": "code",
   "execution_count": 178,
   "id": "ea6578d1-fe5b-4cb7-9998-dd8ae7392688",
   "metadata": {},
   "outputs": [],
   "source": [
    "#\n",
    "#"
   ]
  },
  {
   "cell_type": "markdown",
   "id": "df95109e-1db3-42b1-bf51-247cb1ba6376",
   "metadata": {},
   "source": [
    "# Workload 3"
   ]
  },
  {
   "cell_type": "code",
   "execution_count": 179,
   "id": "45d24c1d-d50b-437b-9eda-6dd86291c717",
   "metadata": {},
   "outputs": [],
   "source": [
    "# 3. Is there some company that owns companies in other countries?"
   ]
  },
  {
   "cell_type": "code",
   "execution_count": null,
   "id": "79e59e15-ce6a-46c6-8ec1-81d9b4b0fdbc",
   "metadata": {},
   "outputs": [],
   "source": [
    "# Using the BGP above on the Canadian company, we try to find companies that owns companies in other country (?country code different from Canadian code wd:Q16)"
   ]
  },
  {
   "cell_type": "code",
   "execution_count": null,
   "id": "fad76327-dc5b-41c9-8d1a-eebeea180ffd",
   "metadata": {},
   "outputs": [],
   "source": [
    "# With '?countryname' it confirms the correct results"
   ]
  },
  {
   "cell_type": "code",
   "execution_count": 31,
   "id": "ae6b098e-bbb1-4b97-a039-bf8240511807",
   "metadata": {},
   "outputs": [
    {
     "name": "stdout",
     "output_type": "stream",
     "text": [
      "Results\n",
      "[('c', 'http://www.wikidata.org/entity/Q6412013'), ('companyname', 'King Rollo Films'), ('countryname', 'United Kingdom'), ('ob', 'owned by'), ('companyn', 'Cookie Jar Group'), ('cont', 'Canada')]\n",
      "[('c', 'http://www.wikidata.org/entity/Q17069264'), ('companyname', 'Mindjet'), ('countryname', 'United States of America'), ('ob', 'owned by'), ('companyn', 'Corel'), ('cont', 'Canada')]\n",
      "[('c', 'http://www.wikidata.org/entity/Q195997'), ('companyname', 'Parallels'), ('countryname', 'United States of America'), ('ob', 'owned by'), ('companyn', 'Corel'), ('cont', 'Canada')]\n",
      "[('c', 'http://www.wikidata.org/entity/Q696884'), ('companyname', 'Ulead Systems'), ('countryname', 'Taiwan'), ('ob', 'owned by'), ('companyn', 'Corel'), ('cont', 'Canada')]\n",
      "[('c', 'http://www.wikidata.org/entity/Q2723882'), ('companyname', 'Saks Fifth Avenue'), ('countryname', 'United States of America'), ('ob', 'owned by'), ('companyn', \"Hudson's Bay Company\"), ('cont', 'Canada')]\n",
      "[('c', 'http://www.wikidata.org/entity/Q2749082'), ('companyname', 'Lord & Taylor'), ('countryname', 'United States of America'), ('ob', 'owned by'), ('companyn', \"Hudson's Bay Company\"), ('cont', 'Canada')]\n",
      "[('c', 'http://www.wikidata.org/entity/Q4976042'), ('companyname', 'Brown Bag Films'), ('countryname', 'Ireland'), ('ob', 'owned by'), ('companyn', '9 Story Media Group'), ('cont', 'Canada')]\n",
      "[('c', 'http://www.wikidata.org/entity/Q7111716'), ('companyname', '9 Story USA'), ('countryname', 'United States of America'), ('ob', 'owned by'), ('companyn', '9 Story Media Group'), ('cont', 'Canada')]\n",
      "[('c', 'http://www.wikidata.org/entity/Q6015101'), ('companyname', 'Incomes Data Services'), ('countryname', 'United Kingdom'), ('ob', 'owned by'), ('companyn', 'Thomson Reuters'), ('cont', 'Canada')]\n",
      "[('c', 'http://www.wikidata.org/entity/Q5592433'), ('companyname', 'GrafTech'), ('countryname', 'United States of America'), ('ob', 'owned by'), ('companyn', 'Brookfield Asset Management'), ('cont', 'Canada')]\n",
      "[('c', 'http://www.wikidata.org/entity/Q104158381'), ('companyname', 'Vistra'), ('countryname', 'United States of America'), ('ob', 'owned by'), ('companyn', 'Brookfield Asset Management'), ('cont', 'Canada')]\n",
      "[('c', 'http://www.wikidata.org/entity/Q1603114'), ('companyname', 'Helly Hansen'), ('countryname', 'Norway'), ('ob', 'owned by'), ('companyn', 'Canadian Tire'), ('cont', 'Canada')]\n",
      "[('c', 'http://www.wikidata.org/entity/Q7403084'), ('companyname', 'Saks Incorporated'), ('countryname', 'United States of America'), ('ob', 'owned by'), ('companyn', 'NRDC Equity Partners'), ('cont', 'Canada')]\n",
      "[('c', 'http://www.wikidata.org/entity/Q1656412'), ('companyname', 'Short Brothers'), ('countryname', 'United Kingdom'), ('ob', 'owned by'), ('companyn', 'Bombardier Aerospace'), ('cont', 'Canada')]\n",
      "[('c', 'http://www.wikidata.org/entity/Q7819001'), ('companyname', 'Tomkins plc'), ('countryname', 'United Kingdom'), ('ob', 'owned by'), ('companyn', 'Onex Corporation'), ('cont', 'Canada')]\n",
      "[('c', 'http://www.wikidata.org/entity/Q1397471'), ('companyname', 'SIG Combibloc GmbH'), ('countryname', 'Germany'), ('ob', 'owned by'), ('companyn', 'Onex Corporation'), ('cont', 'Canada')]\n",
      "[('c', 'http://www.wikidata.org/entity/Q5039058'), ('companyname', 'Carestream Health'), ('countryname', 'United States of America'), ('ob', 'owned by'), ('companyn', 'Onex Corporation'), ('cont', 'Canada')]\n",
      "[('c', 'http://www.wikidata.org/entity/Q1603114'), ('companyname', 'Helly Hansen'), ('countryname', 'Norway'), ('ob', 'owned by'), ('companyn', \"Ontario Teachers' Pension Plan\"), ('cont', 'Canada')]\n",
      "[('c', 'http://www.wikidata.org/entity/Q4808595'), ('companyname', 'GNC'), ('countryname', 'United States of America'), ('ob', 'owned by'), ('companyn', \"Ontario Teachers' Pension Plan\"), ('cont', 'Canada')]\n",
      "[('c', 'http://www.wikidata.org/entity/Q97329989'), ('companyname', 'Scotiabank Perú'), ('countryname', 'Peru'), ('ob', 'owned by'), ('companyn', 'Scotiabank'), ('cont', 'Canada')]\n"
     ]
    },
    {
     "data": {
      "text/plain": [
       "20"
      ]
     },
     "execution_count": 31,
     "metadata": {},
     "output_type": "execute_result"
    }
   ],
   "source": [
    "queryString = \"\"\"\n",
    "SELECT DISTINCT ?c ?companyname ?countryname ?ob ?companyn ?cont\n",
    "WHERE { \n",
    "\n",
    "?c wdt:P127 ?company ;        # ?c --> company owned by ?company <-- (company from Canadian business)\n",
    "   wdt:P17 ?country ;         # ?country is the country of the company owned... if it is different from wd:Q16 (Canada) --> so confirms that there are company that owns companies in other countries\n",
    "   wdt:P31 wd:Q4830453 .\n",
    "?company wdt:P17 wd:Q16  ;  # ?company from Canadian business \n",
    "         wdt:P31 wd:Q4830453 .\n",
    "\n",
    "?c        <http://schema.org/name> ?companyname .\n",
    "?country  <http://schema.org/name> ?countryname .\n",
    "wdt:P127  <http://schema.org/name> ?ob .\n",
    "?company  <http://schema.org/name> ?companyn .\n",
    "wd:Q16    <http://schema.org/name> ?cont .\n",
    "\n",
    "FILTER(?country != wd:Q16)\n",
    "} \n",
    " \n",
    "LIMIT 20\n",
    "\"\"\"\n",
    "\n",
    "print(\"Results\")\n",
    "run_query(queryString)"
   ]
  },
  {
   "cell_type": "code",
   "execution_count": null,
   "id": "355bd058-625b-4f82-9a2b-8be017feb06b",
   "metadata": {},
   "outputs": [],
   "source": [
    "# ASKING: Is there some company that owns companies in other countries? \n",
    "# or in my case 'Is there some company Canadian that owns companies in other countries?'"
   ]
  },
  {
   "cell_type": "code",
   "execution_count": 201,
   "id": "2ef1d7c5-97d4-4f4a-a5ea-388e16851171",
   "metadata": {},
   "outputs": [
    {
     "name": "stdout",
     "output_type": "stream",
     "text": [
      "Results\n"
     ]
    },
    {
     "data": {
      "text/plain": [
       "{'head': {'link': []}, 'boolean': True}"
      ]
     },
     "execution_count": 201,
     "metadata": {},
     "output_type": "execute_result"
    }
   ],
   "source": [
    "queryString = \"\"\"\n",
    "ASK\n",
    "WHERE { \n",
    "\n",
    "?c wdt:P127 ?company ;\n",
    "   wdt:P17 ?country ;\n",
    "   wdt:P31 wd:Q4830453 .\n",
    "?company wdt:P17 wd:Q16  ;  # ?company from Canadian business \n",
    "         wdt:P31 wd:Q4830453 .\n",
    "\n",
    "?c <http://schema.org/name> ?companyname .\n",
    "?country <http://schema.org/name> ?countryname .\n",
    "wdt:P127 <http://schema.org/name> ?ob .\n",
    "?company  <http://schema.org/name> ?companyn .\n",
    "\n",
    "FILTER(?country != wd:Q16)\n",
    "} \n",
    " \n",
    "\"\"\"\n",
    "\n",
    "print(\"Results\")\n",
    "run_ask_query(queryString)"
   ]
  },
  {
   "cell_type": "code",
   "execution_count": 4,
   "id": "1f46eaaf-e2f3-4b4d-8770-a829525b74a4",
   "metadata": {},
   "outputs": [],
   "source": [
    "#"
   ]
  },
  {
   "cell_type": "markdown",
   "id": "df3f468a-7a8c-4fd0-804f-b9892c2ac6c3",
   "metadata": {},
   "source": [
    "# Workload 4"
   ]
  },
  {
   "cell_type": "code",
   "execution_count": 203,
   "id": "6d88e53e-6e32-4112-a2d8-abf63c2dc7c1",
   "metadata": {},
   "outputs": [],
   "source": [
    "# 4. Companies have different 'legal forms', compare the number of companies divided in different legal forms"
   ]
  },
  {
   "cell_type": "code",
   "execution_count": null,
   "id": "d8ec8a5b-2f83-4d93-a01b-17044a3baceb",
   "metadata": {},
   "outputs": [],
   "source": [
    "# Analyzing company properties to find 'legal form'"
   ]
  },
  {
   "cell_type": "code",
   "execution_count": 206,
   "id": "3134fe37-88a7-4be9-b616-14dd3e66aab5",
   "metadata": {},
   "outputs": [
    {
     "name": "stdout",
     "output_type": "stream",
     "text": [
      "Results\n",
      "[('p', 'http://www.wikidata.org/prop/direct/P1454'), ('pname', 'legal form')]\n",
      "[('p', 'http://www.wikidata.org/prop/direct/P1670'), ('pname', 'Canadiana Authorities ID (former scheme)')]\n",
      "[('p', 'http://www.wikidata.org/prop/direct/P740'), ('pname', 'location of formation')]\n",
      "[('p', 'http://www.wikidata.org/prop/direct/P9138'), ('pname', 'service status information URL')]\n",
      "[('p', 'http://www.wikidata.org/prop/direct/P4354'), ('pname', 'search formatter URL')]\n"
     ]
    },
    {
     "data": {
      "text/plain": [
       "5"
      ]
     },
     "execution_count": 206,
     "metadata": {},
     "output_type": "execute_result"
    }
   ],
   "source": [
    "queryString = \"\"\"\n",
    "SELECT DISTINCT ?p ?pname\n",
    "WHERE { \n",
    "\n",
    "?c wdt:P17 wd:Q16  ;\n",
    "   wdt:P31 wd:Q4830453  ;\n",
    "   ?p  ?o .\n",
    "\n",
    "?p <http://schema.org/name> ?pname .\n",
    "\n",
    "FILTER REGEX(?pname, \"form\")\n",
    "} \n",
    "\"\"\"\n",
    "\n",
    "print(\"Results\")\n",
    "run_query(queryString)"
   ]
  },
  {
   "cell_type": "code",
   "execution_count": null,
   "id": "a75941f2-5d06-437a-bd54-f78e558f1cc8",
   "metadata": {},
   "outputs": [],
   "source": [
    "# Analyzing 'legal form' --> wdt:P1454"
   ]
  },
  {
   "cell_type": "code",
   "execution_count": 213,
   "id": "906f695e-62c6-452c-a40e-d5c96235e078",
   "metadata": {},
   "outputs": [
    {
     "name": "stdout",
     "output_type": "stream",
     "text": [
      "Results\n",
      "[('lf', 'http://www.wikidata.org/entity/Q20746571'), ('legalform', 'public company limited by shares')]\n",
      "[('lf', 'http://www.wikidata.org/entity/Q18340464'), ('legalform', 'sociedade anónima')]\n",
      "[('lf', 'http://www.wikidata.org/entity/Q2624661'), ('legalform', 'Sp. z o.o.')]\n",
      "[('lf', 'http://www.wikidata.org/entity/Q17990971'), ('legalform', 'public enterprise')]\n",
      "[('lf', 'http://www.wikidata.org/entity/Q1780031'), ('legalform', 'Kommanditgesellschaft')]\n",
      "[('lf', 'http://www.wikidata.org/entity/Q1518608'), ('legalform', 'limited liability company')]\n",
      "[('lf', 'http://www.wikidata.org/entity/Q510785'), ('legalform', 'association without lucrative purpose')]\n",
      "[('lf', 'http://www.wikidata.org/entity/Q64699475'), ('legalform', 'spółka akcyjna')]\n",
      "[('lf', 'http://www.wikidata.org/entity/Q16917171'), ('legalform', 'private limited company')]\n",
      "[('lf', 'http://www.wikidata.org/entity/Q11900271'), ('legalform', 'valtion liikelaitos')]\n"
     ]
    },
    {
     "data": {
      "text/plain": [
       "10"
      ]
     },
     "execution_count": 213,
     "metadata": {},
     "output_type": "execute_result"
    }
   ],
   "source": [
    "queryString = \"\"\"\n",
    "SELECT DISTINCT ?lf ?legalform\n",
    "WHERE { \n",
    "\n",
    "?c wdt:P31 wd:Q4830453  ;\n",
    "   wdt:P1454  ?lf .\n",
    "\n",
    "?lf <http://schema.org/name> ?legalform .\n",
    "\n",
    "} \n",
    "LIMIT 10\n",
    "\"\"\"\n",
    "\n",
    "print(\"Results\")\n",
    "run_query(queryString)"
   ]
  },
  {
   "cell_type": "code",
   "execution_count": null,
   "id": "884007a7-909e-40cd-af70-f571c018f3ec",
   "metadata": {},
   "outputs": [],
   "source": [
    "# Looking for 'legal form' linked to Business, we find 436 kind of legals forms. \n",
    "# For this motivation can be interesting to analyze only some of these. \n",
    "# We can restrict the Business only for U.K. companies wd:Q145 node"
   ]
  },
  {
   "cell_type": "code",
   "execution_count": 4,
   "id": "26b1246d-6775-4c43-b2f8-d9fd268de44c",
   "metadata": {},
   "outputs": [
    {
     "name": "stdout",
     "output_type": "stream",
     "text": [
      "Results\n",
      "[('lf', 'http://www.wikidata.org/entity/Q5225895'), ('legalform', 'public limited company'), ('num_companies', '251')]\n",
      "[('lf', 'http://www.wikidata.org/entity/Q6832945'), ('legalform', 'private company limited by shares'), ('num_companies', '220')]\n",
      "[('lf', 'http://www.wikidata.org/entity/Q1589009'), ('legalform', 'privately held company'), ('num_companies', '48')]\n",
      "[('lf', 'http://www.wikidata.org/entity/Q33685'), ('legalform', 'limited company'), ('num_companies', '46')]\n",
      "[('lf', 'http://www.wikidata.org/entity/Q891723'), ('legalform', 'public company'), ('num_companies', '40')]\n",
      "[('lf', 'http://www.wikidata.org/entity/Q134161'), ('legalform', 'joint-stock company'), ('num_companies', '37')]\n",
      "[('lf', 'http://www.wikidata.org/entity/Q18624259'), ('legalform', 'private limited liability company'), ('num_companies', '32')]\n",
      "[('lf', 'http://www.wikidata.org/entity/Q105162507'), ('legalform', 'Registered Society'), ('num_companies', '13')]\n",
      "[('lf', 'http://www.wikidata.org/entity/Q658255'), ('legalform', 'subsidiary'), ('num_companies', '12')]\n",
      "[('lf', 'http://www.wikidata.org/entity/Q15648878'), ('legalform', 'S.r.l.'), ('num_companies', '11')]\n",
      "[('lf', 'http://www.wikidata.org/entity/Q783794'), ('legalform', 'company'), ('num_companies', '11')]\n",
      "[('lf', 'http://www.wikidata.org/entity/Q166280'), ('legalform', 'S.A.'), ('num_companies', '9')]\n",
      "[('lf', 'http://www.wikidata.org/entity/Q1588658'), ('legalform', 'limited liability partnership'), ('num_companies', '6')]\n",
      "[('lf', 'http://www.wikidata.org/entity/Q489209'), ('legalform', 'joint venture'), ('num_companies', '4')]\n",
      "[('lf', 'http://www.wikidata.org/entity/Q149789'), ('legalform', 'limited liability company'), ('num_companies', '3')]\n",
      "[('lf', 'http://www.wikidata.org/entity/Q699386'), ('legalform', 'statutory corporation'), ('num_companies', '3')]\n",
      "[('lf', 'http://www.wikidata.org/entity/Q20180983'), ('legalform', 'Kompanie'), ('num_companies', '3')]\n",
      "[('lf', 'http://www.wikidata.org/entity/Q909695'), ('legalform', 'limited partnership'), ('num_companies', '2')]\n",
      "[('lf', 'http://www.wikidata.org/entity/Q693737'), ('legalform', 'Aktiengesellschaft'), ('num_companies', '2')]\n",
      "[('lf', 'http://www.wikidata.org/entity/Q2178147'), ('legalform', 'trade association'), ('num_companies', '2')]\n",
      "[('lf', 'http://www.wikidata.org/entity/Q654502'), ('legalform', 'Société par actions simplifiée'), ('num_companies', '2')]\n",
      "[('lf', 'http://www.wikidata.org/entity/Q6516200'), ('legalform', 'private company limited by guarantee'), ('num_companies', '2')]\n",
      "[('lf', 'http://www.wikidata.org/entity/Q837619'), ('legalform', 'Kommanditgesellschaft auf Aktien'), ('num_companies', '2')]\n",
      "[('lf', 'http://www.wikidata.org/entity/Q15648901'), ('legalform', 'S.L.'), ('num_companies', '2')]\n",
      "[('lf', 'http://www.wikidata.org/entity/Q460178'), ('legalform', 'GmbH'), ('num_companies', '2')]\n",
      "[('lf', 'http://www.wikidata.org/entity/Q102337260'), ('legalform', 'limited liability partnership'), ('num_companies', '2')]\n",
      "[('lf', 'http://www.wikidata.org/entity/Q69773580'), ('legalform', 'Emtec Colleges Limited'), ('num_companies', '1')]\n",
      "[('lf', 'http://www.wikidata.org/entity/Q422062'), ('legalform', 'Aktiengesellschaft'), ('num_companies', '1')]\n",
      "[('lf', 'http://www.wikidata.org/entity/Q6881511'), ('legalform', 'enterprise'), ('num_companies', '1')]\n",
      "[('lf', 'http://www.wikidata.org/entity/Q129238'), ('legalform', 'startup company'), ('num_companies', '1')]\n",
      "[('lf', 'http://www.wikidata.org/entity/Q955214'), ('legalform', 'mutual organization'), ('num_companies', '1')]\n",
      "[('lf', 'http://www.wikidata.org/entity/Q1163643'), ('legalform', 'classification society'), ('num_companies', '1')]\n",
      "[('lf', 'http://www.wikidata.org/entity/Q897103'), ('legalform', 'GmbH & Co. KG'), ('num_companies', '1')]\n",
      "[('lf', 'http://www.wikidata.org/entity/Q161726'), ('legalform', 'multinational corporation'), ('num_companies', '1')]\n",
      "[('lf', 'http://www.wikidata.org/entity/Q2624520'), ('legalform', 'aktieselskab'), ('num_companies', '1')]\n",
      "[('lf', 'http://www.wikidata.org/entity/Q5154974'), ('legalform', 'community interest company'), ('num_companies', '1')]\n",
      "[('lf', 'http://www.wikidata.org/entity/Q1422253'), ('legalform', 'royal charter'), ('num_companies', '1')]\n",
      "[('lf', 'http://www.wikidata.org/entity/Q56489561'), ('legalform', 'sociedad anónima'), ('num_companies', '1')]\n",
      "[('lf', 'http://www.wikidata.org/entity/Q18195767'), ('legalform', 'société anonyme'), ('num_companies', '1')]\n",
      "[('lf', 'http://www.wikidata.org/entity/Q17375963'), ('legalform', 'Besloten vennootschap'), ('num_companies', '1')]\n",
      "[('lf', 'http://www.wikidata.org/entity/Q728646'), ('legalform', 'partnership'), ('num_companies', '1')]\n",
      "[('lf', 'http://www.wikidata.org/entity/Q646164'), ('legalform', 'general partnership'), ('num_companies', '1')]\n",
      "[('lf', 'http://www.wikidata.org/entity/Q145'), ('legalform', 'United Kingdom'), ('num_companies', '1')]\n",
      "[('lf', 'http://www.wikidata.org/entity/Q15829892'), ('legalform', 'Gesellschaft mit beschränkter Haftung'), ('num_companies', '1')]\n",
      "[('lf', 'http://www.wikidata.org/entity/Q49168310'), ('legalform', 'Société Anonyme'), ('num_companies', '1')]\n",
      "[('lf', 'http://www.wikidata.org/entity/Q13641190'), ('legalform', 'open joint-stock company'), ('num_companies', '1')]\n"
     ]
    },
    {
     "data": {
      "text/plain": [
       "46"
      ]
     },
     "execution_count": 4,
     "metadata": {},
     "output_type": "execute_result"
    }
   ],
   "source": [
    "queryString = \"\"\"\n",
    "SELECT DISTINCT ?lf ?legalform (count(?c) as ?num_companies)\n",
    "WHERE { \n",
    "\n",
    "?c wdt:P31 wd:Q4830453  ;\n",
    "   wdt:P17 wd:Q145;\n",
    "   wdt:P1454  ?lf .\n",
    "\n",
    "?lf <http://schema.org/name> ?legalform .\n",
    "\n",
    "} \n",
    "ORDER BY DESC (?num_companies)\n",
    "LIMIT 100\n",
    "\"\"\"\n",
    "\n",
    "print(\"Results\")\n",
    "run_query(queryString)"
   ]
  },
  {
   "cell_type": "code",
   "execution_count": null,
   "id": "a3f64652-bbe9-48ea-8ef2-edf2db65add6",
   "metadata": {},
   "outputs": [],
   "source": [
    "# To find all the legal form with their number of companies (all companies of the world) we can run the code down"
   ]
  },
  {
   "cell_type": "code",
   "execution_count": 7,
   "id": "9c7c6605-d3e5-4ec3-894f-0f4deb55d6ed",
   "metadata": {},
   "outputs": [
    {
     "name": "stdout",
     "output_type": "stream",
     "text": [
      "Results\n",
      "[('lf', 'http://www.wikidata.org/entity/Q15646299'), ('legalform', 'společnost s ručením omezeným'), ('num_companies', '13059')]\n",
      "[('lf', 'http://www.wikidata.org/entity/Q3742494'), ('legalform', 'akciová společnost'), ('num_companies', '5551')]\n",
      "[('lf', 'http://www.wikidata.org/entity/Q134161'), ('legalform', 'joint-stock company'), ('num_companies', '5168')]\n",
      "[('lf', 'http://www.wikidata.org/entity/Q460178'), ('legalform', 'GmbH'), ('num_companies', '2823')]\n",
      "[('lf', 'http://www.wikidata.org/entity/Q15649019'), ('legalform', 'Spoločnosť s ručením obmedzeným'), ('num_companies', '2302')]\n",
      "[('lf', 'http://www.wikidata.org/entity/Q891723'), ('legalform', 'public company'), ('num_companies', '1407')]\n",
      "[('lf', 'http://www.wikidata.org/entity/Q15042660'), ('legalform', 'aksjeselskap'), ('num_companies', '1312')]\n",
      "[('lf', 'http://www.wikidata.org/entity/Q1480166'), ('legalform', 'kabushiki gaisha'), ('num_companies', '1228')]\n",
      "[('lf', 'http://www.wikidata.org/entity/Q166280'), ('legalform', 'S.A.'), ('num_companies', '1132')]\n",
      "[('lf', 'http://www.wikidata.org/entity/Q897103'), ('legalform', 'GmbH & Co. KG'), ('num_companies', '1127')]\n"
     ]
    },
    {
     "data": {
      "text/plain": [
       "10"
      ]
     },
     "execution_count": 7,
     "metadata": {},
     "output_type": "execute_result"
    }
   ],
   "source": [
    "queryString = \"\"\"\n",
    "SELECT DISTINCT ?lf ?legalform (count(?c) as ?num_companies)\n",
    "WHERE { \n",
    "\n",
    "?c wdt:P31 wd:Q4830453  ;\n",
    "   wdt:P1454  ?lf .\n",
    "\n",
    "?lf <http://schema.org/name> ?legalform .\n",
    "\n",
    "} \n",
    "ORDER BY DESC (?num_companies)\n",
    "LIMIT 10\n",
    "\"\"\"\n",
    "\n",
    "print(\"Results\")\n",
    "run_query(queryString)"
   ]
  },
  {
   "cell_type": "code",
   "execution_count": null,
   "id": "ae2c0116-650f-46d1-ae5a-a27f81399afb",
   "metadata": {},
   "outputs": [],
   "source": [
    "#\n",
    "#"
   ]
  },
  {
   "cell_type": "markdown",
   "id": "b49b6e2b-37ec-4639-a5dd-fcd6190a8e1c",
   "metadata": {},
   "source": [
    "# Workload 5"
   ]
  },
  {
   "cell_type": "code",
   "execution_count": null,
   "id": "a30acbca-23c3-4670-aabb-ce1011cbe3e8",
   "metadata": {},
   "outputs": [],
   "source": [
    "# 5. Analyze the number of employees and other relevant numeric attributes"
   ]
  },
  {
   "cell_type": "markdown",
   "id": "d4ba74a1-03c8-4103-bd12-c7f58816b802",
   "metadata": {},
   "source": [
    "## Workload 5.1"
   ]
  },
  {
   "cell_type": "code",
   "execution_count": null,
   "id": "5d8ddb22-1958-406f-8eb8-e4c030e7b428",
   "metadata": {},
   "outputs": [],
   "source": [
    "# 5.1 What are the top-10 companies for a given attribute?"
   ]
  },
  {
   "cell_type": "code",
   "execution_count": 32,
   "id": "18b1fee6-cfe7-44de-885e-b677893f4aae",
   "metadata": {},
   "outputs": [],
   "source": [
    "# Choosing wdt:P2295 'netprofit' as attribute we can look for the 10 companies given from U.S.A., U.K and Canada"
   ]
  },
  {
   "cell_type": "code",
   "execution_count": null,
   "id": "5de3f82c-44a6-4988-b64f-e84587cc74b7",
   "metadata": {},
   "outputs": [],
   "source": [
    "# FROM GIVEN TABLE\n",
    "# wd:Q16\tCanada\tnode\n",
    "# wd:Q145\tU.K.\tnode\n",
    "# wd:Q30\tU.S.A.\tnode"
   ]
  },
  {
   "cell_type": "code",
   "execution_count": 51,
   "id": "41be6412-ac8a-47d9-b826-da9b2c06377e",
   "metadata": {},
   "outputs": [
    {
     "name": "stdout",
     "output_type": "stream",
     "text": [
      "Results\n",
      "[('compname', 'Samsung Electronics'), ('netprofit', '22730000000000')]\n",
      "[('compname', 'Toyota'), ('netprofit', '2312694000000')]\n",
      "[('compname', 'SoftBank'), ('netprofit', '1237812000000')]\n",
      "[('compname', 'Sberbank of Russia'), ('netprofit', '760300000000')]\n",
      "[('compname', 'Central Japan Railway Company'), ('netprofit', '391624000000')]\n",
      "[('compname', 'Saudi Aramco'), ('netprofit', '330693000000')]\n",
      "[('compname', 'Industrial and Commercial Bank of China'), ('netprofit', '317685000000')]\n",
      "[('compname', 'East Japan Railway Company'), ('netprofit', '279435000000')]\n",
      "[('compname', 'MOL Group'), ('netprofit', '251655000000')]\n",
      "[('compname', 'AsiaCell'), ('netprofit', '243618000000')]\n"
     ]
    },
    {
     "data": {
      "text/plain": [
       "10"
      ]
     },
     "execution_count": 51,
     "metadata": {},
     "output_type": "execute_result"
    }
   ],
   "source": [
    "queryString = \"\"\"\n",
    "SELECT DISTINCT  ?compname  ?netprofit \n",
    "WHERE { \n",
    "\n",
    "?comp  wdt:P2295 ?netprofit;\n",
    "       wdt:P17 ?contry ;\n",
    "       wdt:P31 wd:Q4830453  . \n",
    "\n",
    "?comp <http://schema.org/name> ?compname .\n",
    "?country <http://schema.org/name> ?countryname .\n",
    "\n",
    "FILTER ((?country = wd:Q16 or ?country = wd:Q145 or ?country = wd:Q30) && isNumeric(?netprofit))\n",
    "} \n",
    "ORDER BY DESC (?netprofit)\n",
    "LIMIT 10\n",
    "\"\"\"\n",
    "\n",
    "print(\"Results\")\n",
    "run_query(queryString)"
   ]
  },
  {
   "cell_type": "code",
   "execution_count": null,
   "id": "c2a0937e-44a8-4389-80e8-2d301c992ee5",
   "metadata": {},
   "outputs": [],
   "source": []
  },
  {
   "cell_type": "code",
   "execution_count": 52,
   "id": "5421d406-2b3b-4329-8736-b141978b3e4e",
   "metadata": {},
   "outputs": [
    {
     "name": "stdout",
     "output_type": "stream",
     "text": [
      "Results\n",
      "[('compname', 'Walmart'), ('numEmployees', '2500000')]\n",
      "[('compname', 'China National Petroleum Corporation'), ('numEmployees', '1589508')]\n",
      "[('compname', 'State Grid Corporation of China'), ('numEmployees', '1581000')]\n",
      "[('compname', 'Amazon'), ('numEmployees', '1298000')]\n",
      "[('compname', 'Randstad N.V.'), ('numEmployees', '658580')]\n",
      "[('compname', 'Foxconn'), ('numEmployees', '618460')]\n",
      "[('compname', 'G4S'), ('numEmployees', '618260')]\n",
      "[('compname', 'RAO UES'), ('numEmployees', '577000')]\n",
      "[('compname', 'Deutsche Post AG'), ('numEmployees', '547459')]\n",
      "[('compname', 'PetroChina Company Limited'), ('numEmployees', '521566')]\n"
     ]
    },
    {
     "data": {
      "text/plain": [
       "10"
      ]
     },
     "execution_count": 52,
     "metadata": {},
     "output_type": "execute_result"
    }
   ],
   "source": [
    "queryString = \"\"\"\n",
    "SELECT DISTINCT ?compname ?numEmployees\n",
    "WHERE { \n",
    "\n",
    "?comp  wdt:P1128 ?numEmployees ;\n",
    "       wdt:P17 ?contry ;\n",
    "       wdt:P31 wd:Q4830453  . \n",
    "\n",
    "?comp <http://schema.org/name> ?compname .\n",
    "?country <http://schema.org/name> ?countryname .\n",
    "\n",
    "FILTER ((?country = wd:Q16 or ?country = wd:Q145 or ?country = wd:Q30) && isNumeric(?numEmployees))\n",
    "} \n",
    "ORDER BY DESC (?numEmployees)\n",
    "LIMIT 10\n",
    "\"\"\"\n",
    "\n",
    "print(\"Results\")\n",
    "run_query(queryString)"
   ]
  },
  {
   "cell_type": "code",
   "execution_count": null,
   "id": "ef7f7bf7-c8e5-45ac-83c7-e6a3e6cb28c2",
   "metadata": {},
   "outputs": [],
   "source": [
    "#\n",
    "#"
   ]
  },
  {
   "cell_type": "markdown",
   "id": "71e02fa3-4e99-4f1d-a809-777ce3177d00",
   "metadata": {},
   "source": [
    "## Workload 5.2"
   ]
  },
  {
   "cell_type": "code",
   "execution_count": null,
   "id": "1f118faf-d044-4570-9f57-135a6791ae70",
   "metadata": {},
   "outputs": [],
   "source": [
    "# 5.2 For which companies is defined some form of income or market capitalization or total assets? \n",
    "# What is the min, max, and average in each category and country?"
   ]
  },
  {
   "cell_type": "code",
   "execution_count": null,
   "id": "29baf18c-8b27-4146-90fa-7b1410902d98",
   "metadata": {},
   "outputs": [],
   "source": []
  },
  {
   "cell_type": "code",
   "execution_count": null,
   "id": "eb3cd108-652a-4a5a-928c-79a65a540670",
   "metadata": {},
   "outputs": [],
   "source": []
  },
  {
   "cell_type": "code",
   "execution_count": null,
   "id": "c0484c34-e1d6-4952-82ae-4d24f8b37cad",
   "metadata": {},
   "outputs": [],
   "source": []
  },
  {
   "cell_type": "markdown",
   "id": "6b79a7c7-5771-463f-baa7-6d81f3fd09ec",
   "metadata": {},
   "source": [
    "## Workload 5.3"
   ]
  },
  {
   "cell_type": "code",
   "execution_count": null,
   "id": "5d8e3541-640e-42b8-a1cf-4cc4c980a991",
   "metadata": {},
   "outputs": [],
   "source": [
    "# 5.3 Which business in each country owns more businesses in other countries?"
   ]
  },
  {
   "cell_type": "code",
   "execution_count": 3,
   "id": "8e362964-35d6-4d09-9533-69485ac387ea",
   "metadata": {},
   "outputs": [
    {
     "name": "stdout",
     "output_type": "stream",
     "text": [
      "Results\n",
      "[('c', 'http://www.wikidata.org/entity/Q223191'), ('companyname', 'Adria Airways'), ('countryname', 'Slovenia'), ('ob', 'owned by'), ('companyn', '4K KNDNS'), ('cont', 'Germany')]\n",
      "[('c', 'http://www.wikidata.org/entity/Q4653345'), ('companyname', 'APM Terminals B.V'), ('countryname', 'Netherlands'), ('ob', 'owned by'), ('companyn', 'Maersk'), ('cont', 'Denmark')]\n",
      "[('c', 'http://www.wikidata.org/entity/Q15919712'), ('companyname', 'HSBC Philippines'), ('countryname', 'Philippines'), ('ob', 'owned by'), ('companyn', 'HSBC'), ('cont', 'United Kingdom')]\n",
      "[('c', 'http://www.wikidata.org/entity/Q1381966'), ('companyname', 'Flipkart'), ('countryname', 'India'), ('ob', 'owned by'), ('companyn', 'Walmart'), ('cont', 'United States of America')]\n",
      "[('c', 'http://www.wikidata.org/entity/Q161906'), ('companyname', 'Oakley, Inc.'), ('countryname', 'United States of America'), ('ob', 'owned by'), ('companyn', 'Luxottica'), ('cont', 'Italy')]\n",
      "[('c', 'http://www.wikidata.org/entity/Q17006657'), ('companyname', 'Supor'), ('countryname', \"People's Republic of China\"), ('ob', 'owned by'), ('companyn', 'Groupe SEB'), ('cont', 'France')]\n",
      "[('c', 'http://www.wikidata.org/entity/Q7237158'), ('companyname', 'Poštová banka'), ('countryname', 'Slovakia'), ('ob', 'owned by'), ('companyn', 'J&T Finance Group'), ('cont', 'Czech Republic')]\n",
      "[('c', 'http://www.wikidata.org/entity/Q7237158'), ('companyname', 'Poštová banka'), ('countryname', 'Slovakia'), ('ob', 'owned by'), ('companyn', 'PBI'), ('cont', 'Czech Republic')]\n",
      "[('c', 'http://www.wikidata.org/entity/Q4162216'), ('companyname', 'Energetický a průmyslový holding'), ('countryname', 'Czech Republic'), ('ob', 'owned by'), ('companyn', 'Kukana Enterprises'), ('cont', 'Cyprus')]\n",
      "[('c', 'http://www.wikidata.org/entity/Q4162216'), ('companyname', 'Energetický a průmyslový holding'), ('countryname', 'Czech Republic'), ('ob', 'owned by'), ('companyn', 'EP Investment II'), ('cont', 'Luxembourg')]\n",
      "[('c', 'http://www.wikidata.org/entity/Q176856'), ('companyname', 'Atlas Elektronik'), ('countryname', 'Germany'), ('ob', 'owned by'), ('companyn', 'Airbus'), ('cont', 'France')]\n",
      "[('c', 'http://www.wikidata.org/entity/Q18552286'), ('companyname', 'Zealand Pharma'), ('countryname', 'Denmark'), ('ob', 'owned by'), ('companyn', 'Legg Mason'), ('cont', 'United States of America')]\n",
      "[('c', 'http://www.wikidata.org/entity/Q41365932'), ('companyname', 'AGEL'), ('countryname', 'Czech Republic'), ('ob', 'owned by'), ('companyn', 'Supernius'), ('cont', 'Slovakia')]\n",
      "[('c', 'http://www.wikidata.org/entity/Q688613'), ('companyname', 'Syngenta Group'), ('countryname', 'Switzerland'), ('ob', 'owned by'), ('companyn', 'ChemChina'), ('cont', \"People's Republic of China\")]\n",
      "[('c', 'http://www.wikidata.org/entity/Q24052318'), ('companyname', 'Best Hotel Properties'), ('countryname', 'Slovakia'), ('ob', 'owned by'), ('companyn', 'J&T Finance Group'), ('cont', 'Czech Republic')]\n",
      "[('c', 'http://www.wikidata.org/entity/Q41567534'), ('companyname', 'PPF'), ('countryname', 'Czech Republic'), ('ob', 'owned by'), ('companyn', 'PPF Group'), ('cont', 'Netherlands')]\n",
      "[('c', 'http://www.wikidata.org/entity/Q4976042'), ('companyname', 'Brown Bag Films'), ('countryname', 'Ireland'), ('ob', 'owned by'), ('companyn', '9 Story Media Group'), ('cont', 'Canada')]\n",
      "[('c', 'http://www.wikidata.org/entity/Q1529957'), ('companyname', 'Leonine Holding'), ('countryname', 'Germany'), ('ob', 'owned by'), ('companyn', 'Kohlberg Kravis Roberts'), ('cont', 'United States of America')]\n",
      "[('c', 'http://www.wikidata.org/entity/Q106045223'), ('companyname', 'Electrolux (Italy)'), ('countryname', 'Italy'), ('ob', 'owned by'), ('companyn', 'Electrolux'), ('cont', 'Sweden')]\n",
      "[('c', 'http://www.wikidata.org/entity/Q11702615'), ('companyname', 'Grupa TVN'), ('countryname', 'Poland'), ('ob', 'owned by'), ('companyn', 'Discovery Inc.'), ('cont', 'United States of America')]\n"
     ]
    },
    {
     "data": {
      "text/plain": [
       "20"
      ]
     },
     "execution_count": 3,
     "metadata": {},
     "output_type": "execute_result"
    }
   ],
   "source": [
    "queryString = \"\"\"\n",
    "SELECT DISTINCT ?c ?companyname ?countryname ?ob ?companyn ?cont\n",
    "WHERE { \n",
    "\n",
    "?c wdt:P127 ?company ;        # ?c --> company owned by ?company <-- (company from Canadian business)\n",
    "   wdt:P17 ?country ;         # ?country is the country of the company owned... if it is different from wd:Q16 (Canada) --> so confirms that there are company that owns companies in other countries\n",
    "   wdt:P31 wd:Q4830453 .\n",
    "?company wdt:P17 ?co  ;  # ?company from Canadian business \n",
    "         wdt:P31 wd:Q4830453 .\n",
    "\n",
    "?c        <http://schema.org/name> ?companyname .\n",
    "?country  <http://schema.org/name> ?countryname .\n",
    "wdt:P127  <http://schema.org/name> ?ob .\n",
    "?company  <http://schema.org/name> ?companyn .\n",
    "?co    <http://schema.org/name> ?cont .\n",
    "\n",
    "FILTER(?country != ?co)\n",
    "} \n",
    "\n",
    "LIMIT 20\n",
    "\"\"\"\n",
    "\n",
    "print(\"Results\")\n",
    "run_query(queryString)"
   ]
  },
  {
   "cell_type": "code",
   "execution_count": 4,
   "id": "a696dc6f-c66e-44ca-a655-12b154e2d34c",
   "metadata": {},
   "outputs": [],
   "source": [
    "# Now I count the businesses owned by a company in another country"
   ]
  },
  {
   "cell_type": "code",
   "execution_count": 5,
   "id": "2ddd9f3a-8b71-40d5-94f0-ede5c862ab7e",
   "metadata": {},
   "outputs": [
    {
     "name": "stdout",
     "output_type": "stream",
     "text": [
      "Results\n",
      "[('companyn', 'BlackRock'), ('cont', 'United States of America'), ('owns_num', '46')]\n",
      "[('companyn', 'AG für Verkehrswesen'), ('cont', 'German Reich'), ('owns_num', '23')]\n",
      "[('companyn', 'Orange'), ('cont', 'France'), ('owns_num', '18')]\n",
      "[('companyn', 'Modern Times Group'), ('cont', 'Sweden'), ('owns_num', '17')]\n",
      "[('companyn', 'MTN Group'), ('cont', 'South Africa'), ('owns_num', '15')]\n",
      "[('companyn', 'Bauer Media Group'), ('cont', 'Germany'), ('owns_num', '15')]\n",
      "[('companyn', 'Communicorp'), ('cont', 'United Kingdom'), ('owns_num', '15')]\n",
      "[('companyn', 'MRG-Radio'), ('cont', 'Russia'), ('owns_num', '15')]\n",
      "[('companyn', 'HSBC'), ('cont', 'United Kingdom'), ('owns_num', '14')]\n",
      "[('companyn', 'Capital Group Companies'), ('cont', 'United States of America'), ('owns_num', '12')]\n",
      "[('companyn', 'Stellantis'), ('cont', 'Netherlands'), ('owns_num', '11')]\n",
      "[('companyn', 'Heineken'), ('cont', 'Netherlands'), ('owns_num', '11')]\n",
      "[('companyn', 'Carlsberg Group'), ('cont', 'Denmark'), ('owns_num', '10')]\n",
      "[('companyn', 'LVMH'), ('cont', 'France'), ('owns_num', '10')]\n",
      "[('companyn', 'Sony'), ('cont', 'Japan'), ('owns_num', '10')]\n",
      "[('companyn', 'Anheuser-Busch InBev'), ('cont', 'Belgium'), ('owns_num', '9')]\n",
      "[('companyn', 'Vodafone'), ('cont', 'United Kingdom'), ('owns_num', '9')]\n",
      "[('companyn', 'Volkswagen Group'), ('cont', 'Germany'), ('owns_num', '9')]\n",
      "[('companyn', 'SoftBank'), ('cont', 'Japan'), ('owns_num', '8')]\n",
      "[('companyn', 'Mondelēz International'), ('cont', 'United States of America'), ('owns_num', '8')]\n"
     ]
    },
    {
     "data": {
      "text/plain": [
       "20"
      ]
     },
     "execution_count": 5,
     "metadata": {},
     "output_type": "execute_result"
    }
   ],
   "source": [
    "queryString = \"\"\"\n",
    "SELECT DISTINCT  ?companyn ?cont (count(?c) as ?owns_num)\n",
    "WHERE { \n",
    "\n",
    "\n",
    "?c wdt:P127 ?company ;        # ?c --> company owned by ?company <-- (company from Canadian business)\n",
    "   wdt:P17 ?country ;         # ?country is the country of the company owned... if it is different from wd:Q16 (Canada) --> so confirms that there are company that owns companies in other countries\n",
    "   wdt:P31 wd:Q4830453 .\n",
    "?company wdt:P17 ?co  ;  # ?company from Canadian business \n",
    "         wdt:P31 wd:Q4830453 .\n",
    "\n",
    "\n",
    "?c        <http://schema.org/name> ?companyname .\n",
    "?country  <http://schema.org/name> ?countryname .\n",
    "?company  <http://schema.org/name> ?companyn .\n",
    "?co    <http://schema.org/name> ?cont .\n",
    "\n",
    "FILTER(?country != ?co)\n",
    "} \n",
    "ORDER BY DESC (?owns_num)\n",
    "LIMIT 20\n",
    "\"\"\"\n",
    "\n",
    "print(\"Results\")\n",
    "run_query(queryString)"
   ]
  },
  {
   "cell_type": "code",
   "execution_count": null,
   "id": "ee764faa-ef7a-44a1-9d9b-ebd099fff930",
   "metadata": {},
   "outputs": [],
   "source": []
  },
  {
   "cell_type": "code",
   "execution_count": null,
   "id": "6c77b558-670a-42b4-8081-10a1979218e4",
   "metadata": {},
   "outputs": [],
   "source": []
  },
  {
   "cell_type": "code",
   "execution_count": null,
   "id": "141ac22e-b81a-4153-81a4-56fc8c99de43",
   "metadata": {},
   "outputs": [],
   "source": []
  },
  {
   "cell_type": "code",
   "execution_count": null,
   "id": "93c242fe-34cd-4368-987a-8bdf62a9e6cc",
   "metadata": {},
   "outputs": [],
   "source": []
  },
  {
   "cell_type": "code",
   "execution_count": null,
   "id": "df81d82f-ea43-40fe-894a-c9e4e3005e79",
   "metadata": {},
   "outputs": [],
   "source": []
  },
  {
   "cell_type": "code",
   "execution_count": null,
   "id": "25b980d6-65c0-4b28-ac77-61c3b9eeba59",
   "metadata": {},
   "outputs": [],
   "source": []
  },
  {
   "cell_type": "code",
   "execution_count": null,
   "id": "31a19a05-a742-4ca3-bc86-3bbaa5a4e32b",
   "metadata": {},
   "outputs": [],
   "source": []
  }
 ],
 "metadata": {
  "kernelspec": {
   "display_name": "Python 3 (ipykernel)",
   "language": "python",
   "name": "python3"
  },
  "language_info": {
   "codemirror_mode": {
    "name": "ipython",
    "version": 3
   },
   "file_extension": ".py",
   "mimetype": "text/x-python",
   "name": "python",
   "nbconvert_exporter": "python",
   "pygments_lexer": "ipython3",
   "version": "3.7.10"
  }
 },
 "nbformat": 4,
 "nbformat_minor": 5
}
