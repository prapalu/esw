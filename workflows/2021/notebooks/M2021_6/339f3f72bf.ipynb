{
 "cells": [
  {
   "cell_type": "markdown",
   "id": "7034c3bf-6eb0-4418-8687-7b9d2a501103",
   "metadata": {},
   "source": [
    "# General instructions\n",
    "\n",
    "The goal of the project is to materialize a set of **exploratory workloads** over a real-world, large-scale,  open-domain KG: [WikiData](https://www.wikidata.org/wiki/Wikidata:Main_Page)\n",
    "\n",
    "An exploratory workload  is composed by a set of queries, where each query is related to the information obtained previously.\n",
    "\n",
    "An exploratory workload starts with a usually vague, open ended question, and does not assume the person issuing the workload has a clear understanding of the data contained in the target database or its structure.\n",
    "\n",
    "Remeber that:\n",
    "\n",
    "1. All the queries must run in the python notebook\n",
    "2. You can use classes and properties only if you find them via a SPARQL query that must be present in the notebook\n",
    "3. You do not delete useless queries. Keep everything that is synthatically valid \n",
    "\n",
    "```\n",
    "?p <http://schema.org/name> ?name .\n",
    "```\n",
    "    \n",
    "    is the BGP returning a human-readable name of a property or a class in Wikidata."
   ]
  },
  {
   "cell_type": "code",
   "execution_count": 2,
   "id": "3605c9d5-5371-49a5-be8d-d66e8f417139",
   "metadata": {},
   "outputs": [],
   "source": [
    "## SETUP used later\n",
    "\n",
    "from SPARQLWrapper import SPARQLWrapper, JSON\n",
    "\n",
    "\n",
    "prefixString = \"\"\"\n",
    "##-NOTEBOOK_CODE_HERE-##\n",
    "PREFIX wd: <http://www.wikidata.org/entity/> \n",
    "PREFIX wdt: <http://www.wikidata.org/prop/direct/> \n",
    "PREFIX sc: <http://schema.org/>\n",
    "\"\"\"\n",
    "\n",
    "# select and construct queries\n",
    "def run_query(queryString):\n",
    "    to_run = prefixString + \"\\n\" + queryString\n",
    "\n",
    "    sparql = SPARQLWrapper(\"http://a256-gc1-02.srv.aau.dk:5820/sparql\")\n",
    "    sparql.setTimeout(300)\n",
    "    sparql.setReturnFormat(JSON)\n",
    "    sparql.setQuery(to_run)\n",
    "\n",
    "    try :\n",
    "       results = sparql.query()\n",
    "       json_results = results.convert()\n",
    "       if len(json_results['results']['bindings'])==0:\n",
    "          print(\"Empty\")\n",
    "          return 0\n",
    "    \n",
    "       for bindings in json_results['results']['bindings']:\n",
    "          print( [ (var, value['value'])  for var, value in bindings.items() ] )\n",
    "\n",
    "       return len(json_results['results']['bindings'])\n",
    "\n",
    "    except Exception as e :\n",
    "        print(\"The operation failed\", e)\n",
    "    \n",
    "# ASk queries\n",
    "def run_ask_query(queryString):\n",
    "    to_run = prefixString + \"\\n\" + queryString\n",
    "\n",
    "    sparql = SPARQLWrapper(\"http://a256-gc1-03.srv.aau.dk:5820/sparql\")\n",
    "    sparql.setTimeout(300)\n",
    "    sparql.setReturnFormat(JSON)\n",
    "    sparql.setQuery(to_run)\n",
    "\n",
    "    try :\n",
    "        return sparql.query().convert()\n",
    "\n",
    "    except Exception as e :\n",
    "        print(\"The operation failed\", e)"
   ]
  },
  {
   "cell_type": "markdown",
   "id": "d477a59c-a68c-4c8f-9f97-8ca5294d7d27",
   "metadata": {},
   "source": [
    "# Movie Workflow Series (\"Directors explorative search\") \n",
    "\n",
    "Consider the following exploratory information need:\n",
    "\n",
    "> investigate the results concerning the common aspects between movies directed by Woody Allen or Quentin Tarantino. We want to know the people that worked for both directors with some numerical analyses, what are the differences in terms of budget for their movies, who won more Academy Awards. "
   ]
  },
  {
   "cell_type": "markdown",
   "id": "4a45c0ba-f79e-441d-bec5-84401b09db70",
   "metadata": {},
   "source": [
    "## Useful URIs for the current workflow\n",
    "The following are given:\n",
    "\n",
    "| IRI           | Description   | Role      |\n",
    "| -----------   | -----------   |-----------|\n",
    "| `wdt:P1647`   | subproperty   | predicate |\n",
    "| `wdt:P31`     | instance of   | predicate |\n",
    "| `wdt:P106`    | profession    | predicate | \n",
    "| `wdt:P279`    | subclass      | predicate |\n",
    "| `wdt:P27`     | nationality   | predicate |\n",
    "| `wdt:P106`     | profession   | predicate |\n",
    "| `wdt:P3342`     | Significant person       | predicate |\n",
    "| `wd:Q5`| Human       | node |\n",
    "| `wd:Q2526255`| Director       | node |\n",
    "| `wd:Q25089`| Woody Allen       | node |\n",
    "| `wd:Q3772`    | Quentin Tarantino      | node |\n"
   ]
  },
  {
   "cell_type": "markdown",
   "id": "7af439fb-96e4-4dbb-a381-f19afab79f86",
   "metadata": {
    "tags": []
   },
   "source": [
    "\n",
    "\n",
    "\n",
    "Also consider\n",
    "\n",
    "```\n",
    "wd:Q25089 ?p ?obj .\n",
    "```\n",
    "\n",
    "is the BGP to retrieve all **properties of Woody Allen**\n",
    "\n",
    "\n",
    "The workload should:\n",
    "\n",
    "\n",
    "1. Identify the BGP for films\n",
    "\n",
    "2. Identify the BGP for directors\n",
    "\n",
    "3. Identify the BGP for workers in a films\n",
    "\n",
    "4. Compare the workers amongst the films directed by the two directors\n",
    "\n",
    "5. Return some numerical comparison between the two directors (e.g., how many workers in Tarantino's movies who also worked in Allen's films?, what is the film with the highest number of shared actors? Who is the most used actor by both the directors? etc. )\n",
    "\n",
    "6. Is the maximum budget for a Tarantino's movie higher of the max budget of an Allen's movie?\n",
    "\n",
    "7. Who has films with more nominations for Academy Awards and who won more Academy Awards (with his films not only personal awards).\n",
    "\n",
    "    7.1 Find the BGP for Academy Awards \n",
    "\n",
    "    7.2 Find the related subproperties\n",
    "\n",
    "    7.3 Find how they are related to the directors\n",
    "    \n",
    "    7.4 Are there alternative queries to get the same result?\n",
    "\n"
   ]
  },
  {
   "cell_type": "code",
   "execution_count": 2,
   "id": "24a853ab-830c-422c-afd3-e9e015b8b8ed",
   "metadata": {},
   "outputs": [],
   "source": [
    "# start your workflow here"
   ]
  },
  {
   "cell_type": "code",
   "execution_count": 3,
   "id": "ade01416-92e7-4ad7-b9a9-b8fb330750dc",
   "metadata": {},
   "outputs": [
    {
     "name": "stdout",
     "output_type": "stream",
     "text": [
      "Results\n",
      "[('p', 'http://www.w3.org/1999/02/22-rdf-syntax-ns#type'), ('obj', 'http://wikiba.se/ontology#Item')]\n",
      "[('p', 'http://www.wikidata.org/prop/direct-normalized/P1006'), ('obj', 'http://data.bibliotheken.nl/id/thes/p06917654X')]\n",
      "[('p', 'http://www.wikidata.org/prop/direct-normalized/P1015'), ('obj', 'https://livedata.bibsys.no/authority/90085344')]\n",
      "[('p', 'http://www.wikidata.org/prop/direct-normalized/P1150'), ('obj', 'http://rvk.uni-regensburg.de/nt/HU+3027')]\n",
      "[('p', 'http://www.wikidata.org/prop/direct-normalized/P1741'), ('obj', 'http://data.beeldengeluid.nl/gtaa/76199')]\n"
     ]
    },
    {
     "data": {
      "text/plain": [
       "5"
      ]
     },
     "execution_count": 3,
     "metadata": {},
     "output_type": "execute_result"
    }
   ],
   "source": [
    "queryString = \"\"\"\n",
    "SELECT DISTINCT *\n",
    "WHERE { \n",
    "\n",
    "wd:Q25089 ?p ?obj .\n",
    "\n",
    "\n",
    "} \n",
    "\n",
    "LIMIT 5\n",
    "\"\"\"\n",
    "\n",
    "print(\"Results\")\n",
    "run_query(queryString)"
   ]
  },
  {
   "cell_type": "markdown",
   "id": "e58cda8a-b404-4458-9f47-5fecd5b873ed",
   "metadata": {
    "tags": []
   },
   "source": [
    "# Task 1"
   ]
  },
  {
   "cell_type": "code",
   "execution_count": 7,
   "id": "9e19b27b-92c9-4c38-998b-1522c349be3a",
   "metadata": {},
   "outputs": [],
   "source": [
    "# 1. Identify the BGP for films"
   ]
  },
  {
   "cell_type": "code",
   "execution_count": null,
   "id": "872a50a0-44a5-4494-962e-949d3418d1aa",
   "metadata": {},
   "outputs": [],
   "source": [
    "# I look for all human directors "
   ]
  },
  {
   "cell_type": "code",
   "execution_count": 15,
   "id": "727a13d4-66bf-427d-a117-bae7dcc3dae7",
   "metadata": {},
   "outputs": [
    {
     "name": "stdout",
     "output_type": "stream",
     "text": [
      "Results\n",
      "[('d', 'http://www.wikidata.org/entity/Q11562694'), ('dname', 'Takayoshi Watanabe')]\n",
      "[('d', 'http://www.wikidata.org/entity/Q64006834'), ('dname', 'Lois Patiño')]\n",
      "[('d', 'http://www.wikidata.org/entity/Q8186437'), ('dname', 'Buzz Feitshans IV')]\n",
      "[('d', 'http://www.wikidata.org/entity/Q8195115'), ('dname', 'Alfonso Arandia')]\n",
      "[('d', 'http://www.wikidata.org/entity/Q8203028'), ('dname', 'Arantza Ibarra')]\n",
      "[('d', 'http://www.wikidata.org/entity/Q105319'), ('dname', 'Helmut Herbst')]\n",
      "[('d', 'http://www.wikidata.org/entity/Q1106742'), ('dname', \"Pat O'Connor\")]\n",
      "[('d', 'http://www.wikidata.org/entity/Q1124438'), ('dname', 'Zsolt Kézdi-Kovács')]\n",
      "[('d', 'http://www.wikidata.org/entity/Q11364257'), ('dname', 'Setsuo Nakayama')]\n",
      "[('d', 'http://www.wikidata.org/entity/Q11552553'), ('dname', 'Shūichi Okita')]\n"
     ]
    },
    {
     "data": {
      "text/plain": [
       "10"
      ]
     },
     "execution_count": 15,
     "metadata": {},
     "output_type": "execute_result"
    }
   ],
   "source": [
    "queryString = \"\"\"\n",
    "SELECT DISTINCT ?d ?dname\n",
    "WHERE { \n",
    "\n",
    "?d   wdt:P106 wd:Q2526255;\n",
    "     wdt:P31  wd:Q5 .\n",
    "\n",
    "# this returns the labels\n",
    "    ?d <http://schema.org/name> ?dname .\n",
    "\n",
    "}\n",
    "LIMIT 10\n",
    "\"\"\"\n",
    "\n",
    "print(\"Results\")\n",
    "run_query(queryString)"
   ]
  },
  {
   "cell_type": "code",
   "execution_count": 12,
   "id": "d674bd72-42c4-4a37-9cea-8e2dc3df9771",
   "metadata": {},
   "outputs": [],
   "source": [
    "# Now I look for properties for director"
   ]
  },
  {
   "cell_type": "code",
   "execution_count": 17,
   "id": "dddde572-a460-41b2-a691-d4e8c81fe2c8",
   "metadata": {},
   "outputs": [
    {
     "name": "stdout",
     "output_type": "stream",
     "text": [
      "Results\n",
      "[('p', 'http://www.wikidata.org/prop/direct/P6891'), ('pname', 'National Film Board of Canada director identifier')]\n",
      "[('p', 'http://www.wikidata.org/prop/direct/P5985'), ('pname', 'Literaturaren Zubitegia ID')]\n",
      "[('p', 'http://www.wikidata.org/prop/direct/P1006'), ('pname', 'Nationale Thesaurus voor Auteurs ID')]\n",
      "[('p', 'http://www.wikidata.org/prop/direct/P1015'), ('pname', 'NORAF ID')]\n",
      "[('p', 'http://www.wikidata.org/prop/direct/P102'), ('pname', 'member of political party')]\n",
      "[('p', 'http://www.wikidata.org/prop/direct/P103'), ('pname', 'native language')]\n",
      "[('p', 'http://www.wikidata.org/prop/direct/P106'), ('pname', 'occupation')]\n",
      "[('p', 'http://www.wikidata.org/prop/direct/P108'), ('pname', 'employer')]\n",
      "[('p', 'http://www.wikidata.org/prop/direct/P119'), ('pname', 'place of burial')]\n",
      "[('p', 'http://www.wikidata.org/prop/direct/P1196'), ('pname', 'manner of death')]\n"
     ]
    },
    {
     "data": {
      "text/plain": [
       "10"
      ]
     },
     "execution_count": 17,
     "metadata": {},
     "output_type": "execute_result"
    }
   ],
   "source": [
    "queryString = \"\"\"\n",
    "SELECT DISTINCT  ?p ?pname\n",
    "WHERE { \n",
    "\n",
    "?d   wdt:P106 wd:Q2526255;\n",
    "     wdt:P31  wd:Q5 ;\n",
    "     ?p ?o .\n",
    "\n",
    "# this returns the labels\n",
    "    ?d <http://schema.org/name> ?dname .\n",
    "    ?p <http://schema.org/name> ?pname .\n",
    "\n",
    "}\n",
    "LIMIT 10\n",
    "\n",
    "\"\"\"\n",
    "\n",
    "print(\"Results\")\n",
    "run_query(queryString)"
   ]
  },
  {
   "cell_type": "code",
   "execution_count": 18,
   "id": "3ca9083f-2a9c-41bf-b26b-d6c2c20ea034",
   "metadata": {},
   "outputs": [],
   "source": [
    "# Now I want to look for Woody Allen  (wd:Q25089 --> Woody Allen)"
   ]
  },
  {
   "cell_type": "code",
   "execution_count": 46,
   "id": "ed7ed55e-d5bc-40e2-93ca-d82715445fd3",
   "metadata": {},
   "outputs": [
    {
     "name": "stdout",
     "output_type": "stream",
     "text": [
      "Results\n",
      "[('p', 'http://www.wikidata.org/prop/direct/P6150'), ('pname', 'Academy Awards Database nominee ID')]\n",
      "[('p', 'http://www.wikidata.org/prop/direct/P5121'), ('pname', 'All About Jazz musician ID')]\n",
      "[('p', 'http://www.wikidata.org/prop/direct/P2019'), ('pname', 'AllMovie person ID')]\n",
      "[('p', 'http://www.wikidata.org/prop/direct/P1728'), ('pname', 'AllMusic artist ID')]\n",
      "[('p', 'http://www.wikidata.org/prop/direct/P7214'), ('pname', 'Allcinema person ID')]\n",
      "[('p', 'http://www.wikidata.org/prop/direct/P1266'), ('pname', 'AlloCiné person ID')]\n",
      "[('p', 'http://www.wikidata.org/prop/direct/P3782'), ('pname', 'Artnet artist ID')]\n",
      "[('p', 'http://www.wikidata.org/prop/direct/P3280'), ('pname', 'BAnQ author ID')]\n",
      "[('p', 'http://www.wikidata.org/prop/direct/P5491'), ('pname', \"BD Gest' author ID\")]\n",
      "[('p', 'http://www.wikidata.org/prop/direct/P6656'), ('pname', 'BHCL ID (former scheme)')]\n",
      "[('p', 'http://www.wikidata.org/prop/direct/P9037'), ('pname', 'BHCL UUID')]\n",
      "[('p', 'http://www.wikidata.org/prop/direct/P5361'), ('pname', 'BNB person ID')]\n",
      "[('p', 'http://www.wikidata.org/prop/direct/P3788'), ('pname', 'BNMM authority ID')]\n",
      "[('p', 'http://www.wikidata.org/prop/direct/P3630'), ('pname', 'Babelio author ID')]\n",
      "[('p', 'http://www.wikidata.org/prop/direct/P2188'), ('pname', 'BiblioNet author ID')]\n",
      "[('p', 'http://www.wikidata.org/prop/direct/P950'), ('pname', 'Biblioteca Nacional de España ID')]\n",
      "[('p', 'http://www.wikidata.org/prop/direct/P268'), ('pname', 'Bibliothèque nationale de France ID')]\n",
      "[('p', 'http://www.wikidata.org/prop/direct/P4208'), ('pname', 'Billboard artist ID')]\n",
      "[('p', 'http://www.wikidata.org/prop/direct/P2688'), ('pname', 'Box Office Mojo person ID')]\n",
      "[('p', 'http://www.wikidata.org/prop/direct/P5019'), ('pname', 'Brockhaus Enzyklopädie online ID')]\n"
     ]
    },
    {
     "data": {
      "text/plain": [
       "20"
      ]
     },
     "execution_count": 46,
     "metadata": {},
     "output_type": "execute_result"
    }
   ],
   "source": [
    "queryString = \"\"\"\n",
    "SELECT DISTINCT  ?p ?pname\n",
    "WHERE { \n",
    "\n",
    "wd:Q25089 ?p ?o .\n",
    "\n",
    "# this returns the labels\n",
    "    ?p <http://schema.org/name> ?pname .\n",
    "\n",
    "#FILTER REGEX(?pname, \"work\")\n",
    "}\n",
    "\n",
    "ORDER BY ASC (?pname)\n",
    "LIMIT 20\n",
    "\n",
    "\"\"\"\n",
    "\n",
    "print(\"Results\")\n",
    "run_query(queryString)"
   ]
  },
  {
   "cell_type": "code",
   "execution_count": 43,
   "id": "7d86b68d-1cb6-485b-a034-7ece848f0833",
   "metadata": {},
   "outputs": [],
   "source": [
    "# GET: 'occupation' --> wdt:P106\n",
    "# GET: 'notable work' --> wdt:P800"
   ]
  },
  {
   "cell_type": "code",
   "execution_count": null,
   "id": "22eedfc5-6a12-4afb-9a05-9681d6bc57d5",
   "metadata": {},
   "outputs": [],
   "source": [
    "# Use 'notable work' to find Woody's works"
   ]
  },
  {
   "cell_type": "code",
   "execution_count": 45,
   "id": "441807cb-f0cf-4787-a592-aeab25701e47",
   "metadata": {},
   "outputs": [
    {
     "name": "stdout",
     "output_type": "stream",
     "text": [
      "Results\n",
      "[('w', 'http://www.wikidata.org/entity/Q206124'), ('wname', 'Midnight in Paris')]\n",
      "[('w', 'http://www.wikidata.org/entity/Q971865'), ('wname', \"What's Up, Tiger Lily?\")]\n",
      "[('w', 'http://www.wikidata.org/entity/Q1004531'), ('wname', 'Bullets Over Broadway')]\n",
      "[('w', 'http://www.wikidata.org/entity/Q1354109'), ('wname', 'Mighty Aphrodite')]\n",
      "[('w', 'http://www.wikidata.org/entity/Q729026'), ('wname', 'Broadway Danny Rose')]\n",
      "[('w', 'http://www.wikidata.org/entity/Q733677'), ('wname', 'Match Point')]\n",
      "[('w', 'http://www.wikidata.org/entity/Q740143'), ('wname', 'Husbands and Wives')]\n",
      "[('w', 'http://www.wikidata.org/entity/Q806092'), ('wname', 'Bananas')]\n",
      "[('w', 'http://www.wikidata.org/entity/Q1321004'), ('wname', 'You Will Meet a Tall Dark Stranger')]\n",
      "[('w', 'http://www.wikidata.org/entity/Q14511869'), ('wname', 'Magic in the Moonlight')]\n"
     ]
    },
    {
     "data": {
      "text/plain": [
       "10"
      ]
     },
     "execution_count": 45,
     "metadata": {},
     "output_type": "execute_result"
    }
   ],
   "source": [
    "queryString = \"\"\"\n",
    "SELECT DISTINCT  ?w ?wname\n",
    "WHERE { \n",
    "\n",
    "\n",
    " wd:Q25089 wdt:P800 ?w .        # ?w --> works\n",
    " \n",
    " \n",
    "# this returns the labels\n",
    "    ?w <http://schema.org/name> ?wname .\n",
    "}\n",
    "LIMIT 10\n",
    "\n",
    "\"\"\"\n",
    "\n",
    "print(\"Results\")\n",
    "run_query(queryString)"
   ]
  },
  {
   "cell_type": "code",
   "execution_count": 24,
   "id": "cba377b2-44ae-4323-b0cb-e7bf9122e60a",
   "metadata": {},
   "outputs": [],
   "source": [
    "# Look for Allen's works type"
   ]
  },
  {
   "cell_type": "code",
   "execution_count": 47,
   "id": "cc1348fc-9149-4993-b835-ebebbdaac6eb",
   "metadata": {},
   "outputs": [
    {
     "name": "stdout",
     "output_type": "stream",
     "text": [
      "Results\n",
      "[('o', 'http://www.wikidata.org/entity/Q11424'), ('oname', 'film')]\n",
      "[('o', 'http://www.wikidata.org/entity/Q5398426'), ('oname', 'television series')]\n"
     ]
    },
    {
     "data": {
      "text/plain": [
       "2"
      ]
     },
     "execution_count": 47,
     "metadata": {},
     "output_type": "execute_result"
    }
   ],
   "source": [
    "queryString = \"\"\"\n",
    "SELECT DISTINCT  ?o ?oname\n",
    "WHERE { \n",
    "\n",
    "\n",
    " wd:Q25089 wdt:P800 ?w .        # ?w --> works\n",
    " \n",
    " ?w wdt:P31 ?o .\n",
    " \n",
    "# this returns the labels\n",
    "    ?w <http://schema.org/name> ?wname .\n",
    "    ?o <http://schema.org/name> ?oname .\n",
    "}\n",
    "LIMIT 10\n",
    "\n",
    "\"\"\"\n",
    "\n",
    "print(\"Results\")\n",
    "run_query(queryString)"
   ]
  },
  {
   "cell_type": "code",
   "execution_count": 48,
   "id": "64e6930b-7f6a-4842-a569-41276a2870de",
   "metadata": {},
   "outputs": [],
   "source": [
    "# GET: 'film' --> wd:Q11424"
   ]
  },
  {
   "cell_type": "code",
   "execution_count": 49,
   "id": "3ca5c4fe-4170-437d-8041-f33f04f25559",
   "metadata": {},
   "outputs": [],
   "source": [
    "# Now I can find BGP for films"
   ]
  },
  {
   "cell_type": "code",
   "execution_count": 51,
   "id": "028e952a-a67c-4cc4-bca3-7959bcb0cd54",
   "metadata": {},
   "outputs": [
    {
     "name": "stdout",
     "output_type": "stream",
     "text": [
      "Results\n",
      "[('film', 'http://www.wikidata.org/entity/Q8178307'), ('filmname', '15 Park Avenue')]\n",
      "[('film', 'http://www.wikidata.org/entity/Q8197668'), ('filmname', 'Idiot Love')]\n",
      "[('film', 'http://www.wikidata.org/entity/Q319263'), ('filmname', 'Doctor in the House')]\n",
      "[('film', 'http://www.wikidata.org/entity/Q8452990'), ('filmname', \"Sunday League - Pepik Hnatek's Final Match\")]\n",
      "[('film', 'http://www.wikidata.org/entity/Q284184'), ('filmname', 'Ra.One')]\n",
      "[('film', 'http://www.wikidata.org/entity/Q13637926'), ('filmname', 'Indra')]\n",
      "[('film', 'http://www.wikidata.org/entity/Q13638153'), ('filmname', 'Inner Senses')]\n",
      "[('film', 'http://www.wikidata.org/entity/Q13645807'), ('filmname', 'Madhumasam')]\n",
      "[('film', 'http://www.wikidata.org/entity/Q13647258'), ('filmname', 'Marupakkam')]\n",
      "[('film', 'http://www.wikidata.org/entity/Q13677566'), ('filmname', 'Timberjack')]\n"
     ]
    },
    {
     "data": {
      "text/plain": [
       "10"
      ]
     },
     "execution_count": 51,
     "metadata": {},
     "output_type": "execute_result"
    }
   ],
   "source": [
    "queryString = \"\"\"\n",
    "SELECT DISTINCT ?film ?filmname\n",
    "WHERE { \n",
    "\n",
    "\n",
    " ?film wdt:P31 wd:Q11424 .        \n",
    " \n",
    " \n",
    "# this returns the labels\n",
    "    ?film <http://schema.org/name> ?filmname .\n",
    "    \n",
    "}\n",
    "LIMIT 10\n",
    "\n",
    "\"\"\"\n",
    "\n",
    "print(\"Results\")\n",
    "run_query(queryString)"
   ]
  },
  {
   "cell_type": "code",
   "execution_count": 52,
   "id": "663c0fa6-873b-427f-b49e-e9a5d431ba5e",
   "metadata": {},
   "outputs": [],
   "source": [
    "# Per curiosità conto i tutti i film presenti sul database"
   ]
  },
  {
   "cell_type": "code",
   "execution_count": 53,
   "id": "92307557-6835-4f65-bf0e-d2aa887e5157",
   "metadata": {},
   "outputs": [
    {
     "name": "stdout",
     "output_type": "stream",
     "text": [
      "Results\n",
      "[('num_film', '184122')]\n"
     ]
    },
    {
     "data": {
      "text/plain": [
       "1"
      ]
     },
     "execution_count": 53,
     "metadata": {},
     "output_type": "execute_result"
    }
   ],
   "source": [
    "queryString = \"\"\"\n",
    "SELECT DISTINCT count(?film) as ?num_film\n",
    "WHERE { \n",
    "\n",
    "\n",
    " ?film wdt:P31 wd:Q11424 .        \n",
    " \n",
    " \n",
    "# this returns the labels\n",
    "    ?film <http://schema.org/name> ?filmname .\n",
    "    \n",
    "}\n",
    "LIMIT 10\n",
    "\n",
    "\"\"\"\n",
    "\n",
    "print(\"Results\")\n",
    "run_query(queryString)"
   ]
  },
  {
   "cell_type": "code",
   "execution_count": 54,
   "id": "a2e08d8e-8b39-4340-9ff7-6deadd8a460b",
   "metadata": {},
   "outputs": [],
   "source": [
    "#\n",
    "#"
   ]
  },
  {
   "cell_type": "markdown",
   "id": "58e9f73f-eda5-4255-a8f1-16c30c499c4b",
   "metadata": {
    "tags": []
   },
   "source": [
    "# Task 2"
   ]
  },
  {
   "cell_type": "code",
   "execution_count": null,
   "id": "c0020151-0869-4422-b266-ea496d670dfc",
   "metadata": {},
   "outputs": [],
   "source": [
    "# 2. Identify the BGP for directors"
   ]
  },
  {
   "cell_type": "code",
   "execution_count": null,
   "id": "015e94fe-cc59-4e6e-a8f0-081e1f504096",
   "metadata": {},
   "outputs": [],
   "source": [
    "# Look for profession of Woody Allen"
   ]
  },
  {
   "cell_type": "code",
   "execution_count": 55,
   "id": "1269156c-781a-4141-91d6-5f4ae1a89e19",
   "metadata": {},
   "outputs": [
    {
     "name": "stdout",
     "output_type": "stream",
     "text": [
      "Results\n",
      "[('o', 'http://www.wikidata.org/entity/Q10800557'), ('oname', 'film actor')]\n",
      "[('o', 'http://www.wikidata.org/entity/Q15981151'), ('oname', 'jazz musician')]\n",
      "[('o', 'http://www.wikidata.org/entity/Q18844224'), ('oname', 'science fiction writer')]\n",
      "[('o', 'http://www.wikidata.org/entity/Q1930187'), ('oname', 'journalist')]\n",
      "[('o', 'http://www.wikidata.org/entity/Q214917'), ('oname', 'playwright')]\n",
      "[('o', 'http://www.wikidata.org/entity/Q245068'), ('oname', 'comedian')]\n",
      "[('o', 'http://www.wikidata.org/entity/Q2526255'), ('oname', 'film director')]\n",
      "[('o', 'http://www.wikidata.org/entity/Q28389'), ('oname', 'screenwriter')]\n",
      "[('o', 'http://www.wikidata.org/entity/Q3282637'), ('oname', 'film producer')]\n",
      "[('o', 'http://www.wikidata.org/entity/Q36180'), ('oname', 'writer')]\n"
     ]
    },
    {
     "data": {
      "text/plain": [
       "10"
      ]
     },
     "execution_count": 55,
     "metadata": {},
     "output_type": "execute_result"
    }
   ],
   "source": [
    "queryString = \"\"\"\n",
    "SELECT DISTINCT  ?o ?oname\n",
    "WHERE { \n",
    "\n",
    "\n",
    " wd:Q25089 wdt:P106 ?o .        # ?o --> occupations\n",
    " \n",
    "\n",
    " \n",
    "# this returns the labels\n",
    "   \n",
    "    ?o <http://schema.org/name> ?oname .\n",
    "}\n",
    "LIMIT 10\n",
    "\n",
    "\"\"\"\n",
    "\n",
    "print(\"Results\")\n",
    "run_query(queryString)"
   ]
  },
  {
   "cell_type": "code",
   "execution_count": 57,
   "id": "b4ad61d1-814a-419b-a3b1-09f3b6ff6bd1",
   "metadata": {},
   "outputs": [],
   "source": [
    "# GET: 'film director' --> Q2526255"
   ]
  },
  {
   "cell_type": "code",
   "execution_count": null,
   "id": "0b2272c8-386d-429c-b0d6-9e1aedd34111",
   "metadata": {},
   "outputs": [],
   "source": [
    "# BGP to find all film directors "
   ]
  },
  {
   "cell_type": "code",
   "execution_count": 58,
   "id": "b26adb4c-fc6a-49a6-a532-74a5fa78a3db",
   "metadata": {},
   "outputs": [
    {
     "name": "stdout",
     "output_type": "stream",
     "text": [
      "Results\n",
      "[('fd', 'http://www.wikidata.org/entity/Q11562694'), ('fdname', 'Takayoshi Watanabe')]\n",
      "[('fd', 'http://www.wikidata.org/entity/Q64006834'), ('fdname', 'Lois Patiño')]\n",
      "[('fd', 'http://www.wikidata.org/entity/Q8186437'), ('fdname', 'Buzz Feitshans IV')]\n",
      "[('fd', 'http://www.wikidata.org/entity/Q8195115'), ('fdname', 'Alfonso Arandia')]\n",
      "[('fd', 'http://www.wikidata.org/entity/Q8203028'), ('fdname', 'Arantza Ibarra')]\n",
      "[('fd', 'http://www.wikidata.org/entity/Q105319'), ('fdname', 'Helmut Herbst')]\n",
      "[('fd', 'http://www.wikidata.org/entity/Q1106742'), ('fdname', \"Pat O'Connor\")]\n",
      "[('fd', 'http://www.wikidata.org/entity/Q1124438'), ('fdname', 'Zsolt Kézdi-Kovács')]\n",
      "[('fd', 'http://www.wikidata.org/entity/Q11364257'), ('fdname', 'Setsuo Nakayama')]\n",
      "[('fd', 'http://www.wikidata.org/entity/Q11552553'), ('fdname', 'Shūichi Okita')]\n"
     ]
    },
    {
     "data": {
      "text/plain": [
       "10"
      ]
     },
     "execution_count": 58,
     "metadata": {},
     "output_type": "execute_result"
    }
   ],
   "source": [
    "queryString = \"\"\"\n",
    "SELECT DISTINCT  ?fd ?fdname\n",
    "WHERE { \n",
    "\n",
    "\n",
    " ?fd wdt:P106 wd:Q2526255 ;       # ?fd --> film directors\n",
    "     wdt:P31  wd:Q5 .\n",
    " \n",
    "\n",
    " \n",
    "# this returns the labels\n",
    "   \n",
    "    ?fd <http://schema.org/name> ?fdname .\n",
    "}\n",
    "LIMIT 10\n",
    "\n",
    "\"\"\"\n",
    "\n",
    "print(\"Results\")\n",
    "run_query(queryString)"
   ]
  },
  {
   "cell_type": "code",
   "execution_count": null,
   "id": "d2efaf7e-2168-46d3-8643-c638e1a8dae9",
   "metadata": {},
   "outputs": [],
   "source": [
    "#\n",
    "#"
   ]
  },
  {
   "cell_type": "markdown",
   "id": "c68ca87f-0b46-4ddb-9eec-e4abab880231",
   "metadata": {
    "jp-MarkdownHeadingCollapsed": true,
    "tags": []
   },
   "source": [
    "# Task 3"
   ]
  },
  {
   "cell_type": "code",
   "execution_count": 59,
   "id": "d51c0327-d375-4cc5-a07d-ab5acbf65a3a",
   "metadata": {},
   "outputs": [],
   "source": [
    "# 3. Identify the BGP for workers in a films"
   ]
  },
  {
   "cell_type": "code",
   "execution_count": 64,
   "id": "3a4f920f-2bd2-40fd-868a-3af668b173de",
   "metadata": {},
   "outputs": [
    {
     "name": "stdout",
     "output_type": "stream",
     "text": [
      "Results\n",
      "[('pro', 'http://www.wikidata.org/entity/Q12809351'), ('proname', 'The Bread Seller Woman')]\n",
      "[('pro', 'http://www.wikidata.org/entity/Q497240'), ('proname', 'master of ceremonies')]\n",
      "[('pro', 'http://www.wikidata.org/entity/Q191633'), ('proname', 'mangaka')]\n",
      "[('pro', 'http://www.wikidata.org/entity/Q17456089'), ('proname', 'pornographic film director')]\n",
      "[('pro', 'http://www.wikidata.org/entity/Q10798782'), ('proname', 'television actor')]\n",
      "[('pro', 'http://www.wikidata.org/entity/Q10800557'), ('proname', 'film actor')]\n",
      "[('pro', 'http://www.wikidata.org/entity/Q121998'), ('proname', 'ambassador')]\n",
      "[('pro', 'http://www.wikidata.org/entity/Q1414443'), ('proname', 'filmmaker')]\n",
      "[('pro', 'http://www.wikidata.org/entity/Q177220'), ('proname', 'singer')]\n",
      "[('pro', 'http://www.wikidata.org/entity/Q18844224'), ('proname', 'science fiction writer')]\n"
     ]
    },
    {
     "data": {
      "text/plain": [
       "10"
      ]
     },
     "execution_count": 64,
     "metadata": {},
     "output_type": "execute_result"
    }
   ],
   "source": [
    "queryString = \"\"\"\n",
    "SELECT DISTINCT  ?pro ?proname\n",
    "WHERE { \n",
    "\n",
    "\n",
    " ?w wdt:P106 ?pro ;       # ?fd --> film directors\n",
    "    wdt:P31  wd:Q5 ;\n",
    "    ?p ?film . \n",
    " ?film wdt:P31 wd:Q11424 . \n",
    "\n",
    " \n",
    "# this returns the labels\n",
    "  #  ?p <http://schema.org/name> ?pname .\n",
    "    ?pro <http://schema.org/name> ?proname .\n",
    "}\n",
    "LIMIT 10\n",
    "\n",
    "\"\"\"\n",
    "\n",
    "print(\"Results\")\n",
    "run_query(queryString)"
   ]
  },
  {
   "cell_type": "code",
   "execution_count": null,
   "id": "f0d16c23-ed7f-4b2d-a442-f4295acb29d0",
   "metadata": {},
   "outputs": [],
   "source": [
    "# Per curiosità conto i tutti i tipi di lavoratori connessi ai film presenti sul database"
   ]
  },
  {
   "cell_type": "code",
   "execution_count": 4,
   "id": "556ce537-c184-4fc9-8117-3beef21999e4",
   "metadata": {},
   "outputs": [
    {
     "name": "stdout",
     "output_type": "stream",
     "text": [
      "Results\n",
      "[('num_professions', '752')]\n"
     ]
    },
    {
     "data": {
      "text/plain": [
       "1"
      ]
     },
     "execution_count": 4,
     "metadata": {},
     "output_type": "execute_result"
    }
   ],
   "source": [
    "queryString = \"\"\"\n",
    "SELECT DISTINCT  count( distinct ?pro) as ?num_professions\n",
    "WHERE { \n",
    "\n",
    "\n",
    " ?w wdt:P106 ?pro ;       # ?fd --> film directors\n",
    "    wdt:P31  wd:Q5 ;\n",
    "    ?p ?film . \n",
    " ?film wdt:P31 wd:Q11424 . \n",
    "\n",
    " \n",
    "# this returns the labels\n",
    "  #  ?p <http://schema.org/name> ?pname .\n",
    "    ?pro <http://schema.org/name> ?proname .\n",
    "}\n",
    "LIMIT 10\n",
    "\n",
    "\"\"\"\n",
    "\n",
    "print(\"Results\")\n",
    "run_query(queryString)"
   ]
  },
  {
   "cell_type": "code",
   "execution_count": null,
   "id": "ecf59561-b9f6-446d-9a10-600be817be34",
   "metadata": {},
   "outputs": [],
   "source": [
    "#\n",
    "#"
   ]
  },
  {
   "cell_type": "markdown",
   "id": "af7ce3a6-7443-498e-87e0-af1450b3da34",
   "metadata": {
    "jp-MarkdownHeadingCollapsed": true,
    "tags": []
   },
   "source": [
    "# Task 4"
   ]
  },
  {
   "cell_type": "code",
   "execution_count": null,
   "id": "c63ac22e-32a9-4e73-8cb2-1d7b38140fc5",
   "metadata": {},
   "outputs": [],
   "source": [
    "# 4. Compare the workers amongst the films directed by the two directors"
   ]
  },
  {
   "cell_type": "code",
   "execution_count": 6,
   "id": "a9ea0646-098d-4423-8935-893db2837709",
   "metadata": {},
   "outputs": [],
   "source": [
    "# GET:\n",
    "# wd:Q25089\tWoody Allen\n",
    "# wd:Q3772\tQuentin Tarantino\n",
    "# wd:Q2526255   film director"
   ]
  },
  {
   "cell_type": "code",
   "execution_count": 7,
   "id": "9f454761-ecc6-43ab-87a4-77749b124722",
   "metadata": {},
   "outputs": [],
   "source": [
    "# I want to find the property that connect a film to a director"
   ]
  },
  {
   "cell_type": "code",
   "execution_count": 4,
   "id": "a9726847-1cf6-4e2c-8449-5f043d6f0f1c",
   "metadata": {},
   "outputs": [
    {
     "name": "stdout",
     "output_type": "stream",
     "text": [
      "Results\n",
      "[('p', 'http://www.wikidata.org/prop/direct/P161'), ('pname', 'cast member')]\n",
      "[('p', 'http://www.wikidata.org/prop/direct/P170'), ('pname', 'creator')]\n",
      "[('p', 'http://www.wikidata.org/prop/direct/P57'), ('pname', 'director')]\n",
      "[('p', 'http://www.wikidata.org/prop/direct/P58'), ('pname', 'screenwriter')]\n",
      "[('p', 'http://www.wikidata.org/prop/direct/P86'), ('pname', 'composer')]\n"
     ]
    },
    {
     "data": {
      "text/plain": [
       "5"
      ]
     },
     "execution_count": 4,
     "metadata": {},
     "output_type": "execute_result"
    }
   ],
   "source": [
    "queryString = \"\"\"\n",
    "SELECT DISTINCT  ?p ?pname\n",
    "WHERE { \n",
    "\n",
    "\n",
    " ?filmwa wdt:P31 wd:Q11424 .    # ?filmwa --> film Woody Allen\n",
    " ?filmwa ?p  wd:Q25089.        \n",
    "\n",
    "\n",
    "# this returns the labels\n",
    "    ?p <http://schema.org/name> ?pname .\n",
    "    \n",
    "}\n",
    "LIMIT 10\n",
    "\n",
    "\"\"\"\n",
    "\n",
    "print(\"Results\")\n",
    "run_query(queryString)"
   ]
  },
  {
   "cell_type": "code",
   "execution_count": 7,
   "id": "169953ac-4a60-41d1-b012-014055b25edb",
   "metadata": {},
   "outputs": [],
   "source": [
    "# GET: 'director' --> wdt:P57"
   ]
  },
  {
   "cell_type": "code",
   "execution_count": null,
   "id": "8d212a6d-effa-48fb-a3bc-141e0cedebe4",
   "metadata": {},
   "outputs": [],
   "source": [
    "# Look for Woody Allen type of workers"
   ]
  },
  {
   "cell_type": "code",
   "execution_count": 12,
   "id": "2ef461bd-937a-46d0-aa43-28398a7dd1bd",
   "metadata": {
    "collapsed": true,
    "jupyter": {
     "outputs_hidden": true
    },
    "tags": []
   },
   "outputs": [
    {
     "name": "stdout",
     "output_type": "stream",
     "text": [
      "Results\n",
      "[('proWA', 'http://www.wikidata.org/entity/Q11075015'), ('pronameWA', 'war criminal')]\n",
      "[('proWA', 'http://www.wikidata.org/entity/Q144662'), ('pronameWA', 'sports agent')]\n",
      "[('proWA', 'http://www.wikidata.org/entity/Q18581305'), ('pronameWA', 'beauty pageant contestant')]\n",
      "[('proWA', 'http://www.wikidata.org/entity/Q2707485'), ('pronameWA', 'scenographer')]\n",
      "[('proWA', 'http://www.wikidata.org/entity/Q2962070'), ('pronameWA', 'production designer')]\n",
      "[('proWA', 'http://www.wikidata.org/entity/Q713200'), ('pronameWA', 'performing artist')]\n",
      "[('proWA', 'http://www.wikidata.org/entity/Q1062952'), ('pronameWA', 'character designer')]\n",
      "[('proWA', 'http://www.wikidata.org/entity/Q1823479'), ('pronameWA', 'lighting designer')]\n",
      "[('proWA', 'http://www.wikidata.org/entity/Q1776724'), ('pronameWA', 'theatre manager')]\n",
      "[('proWA', 'http://www.wikidata.org/entity/Q911554'), ('pronameWA', 'business magnate')]\n",
      "[('proWA', 'http://www.wikidata.org/entity/Q19509201'), ('pronameWA', 'LGBTQIA+ rights activist')]\n",
      "[('proWA', 'http://www.wikidata.org/entity/Q107711'), ('pronameWA', 'firefighter')]\n",
      "[('proWA', 'http://www.wikidata.org/entity/Q1028181'), ('pronameWA', 'painter')]\n",
      "[('proWA', 'http://www.wikidata.org/entity/Q10798782'), ('pronameWA', 'television actor')]\n",
      "[('proWA', 'http://www.wikidata.org/entity/Q10800557'), ('pronameWA', 'film actor')]\n",
      "[('proWA', 'http://www.wikidata.org/entity/Q11338576'), ('pronameWA', 'boxer')]\n",
      "[('proWA', 'http://www.wikidata.org/entity/Q11499147'), ('pronameWA', 'political activist')]\n",
      "[('proWA', 'http://www.wikidata.org/entity/Q11774202'), ('pronameWA', 'essayist')]\n",
      "[('proWA', 'http://www.wikidata.org/entity/Q121594'), ('pronameWA', 'professor')]\n",
      "[('proWA', 'http://www.wikidata.org/entity/Q12362622'), ('pronameWA', 'philanthropist')]\n",
      "[('proWA', 'http://www.wikidata.org/entity/Q12797895'), ('pronameWA', 'occultist')]\n",
      "[('proWA', 'http://www.wikidata.org/entity/Q12800682'), ('pronameWA', 'saxophonist')]\n",
      "[('proWA', 'http://www.wikidata.org/entity/Q1281618'), ('pronameWA', 'sculptor')]\n",
      "[('proWA', 'http://www.wikidata.org/entity/Q131524'), ('pronameWA', 'entrepreneur')]\n",
      "[('proWA', 'http://www.wikidata.org/entity/Q13235160'), ('pronameWA', 'manufacturer')]\n",
      "[('proWA', 'http://www.wikidata.org/entity/Q1414443'), ('pronameWA', 'filmmaker')]\n",
      "[('proWA', 'http://www.wikidata.org/entity/Q1415090'), ('pronameWA', 'film score composer')]\n",
      "[('proWA', 'http://www.wikidata.org/entity/Q14467526'), ('pronameWA', 'linguist')]\n",
      "[('proWA', 'http://www.wikidata.org/entity/Q1476215'), ('pronameWA', 'human rights activist')]\n",
      "[('proWA', 'http://www.wikidata.org/entity/Q15077007'), ('pronameWA', 'podcaster')]\n",
      "[('proWA', 'http://www.wikidata.org/entity/Q15296811'), ('pronameWA', 'drawer')]\n",
      "[('proWA', 'http://www.wikidata.org/entity/Q158852'), ('pronameWA', 'conductor')]\n",
      "[('proWA', 'http://www.wikidata.org/entity/Q15981151'), ('pronameWA', 'jazz musician')]\n",
      "[('proWA', 'http://www.wikidata.org/entity/Q16145150'), ('pronameWA', 'music pedagogue')]\n",
      "[('proWA', 'http://www.wikidata.org/entity/Q1622272'), ('pronameWA', 'university teacher')]\n",
      "[('proWA', 'http://www.wikidata.org/entity/Q177220'), ('pronameWA', 'singer')]\n",
      "[('proWA', 'http://www.wikidata.org/entity/Q183945'), ('pronameWA', 'record producer')]\n",
      "[('proWA', 'http://www.wikidata.org/entity/Q18814623'), ('pronameWA', 'autobiographer')]\n",
      "[('proWA', 'http://www.wikidata.org/entity/Q18844224'), ('pronameWA', 'science fiction writer')]\n",
      "[('proWA', 'http://www.wikidata.org/entity/Q1930187'), ('pronameWA', 'journalist')]\n",
      "[('proWA', 'http://www.wikidata.org/entity/Q193391'), ('pronameWA', 'diplomat')]\n",
      "[('proWA', 'http://www.wikidata.org/entity/Q201788'), ('pronameWA', 'historian')]\n",
      "[('proWA', 'http://www.wikidata.org/entity/Q205375'), ('pronameWA', 'inventor')]\n",
      "[('proWA', 'http://www.wikidata.org/entity/Q2059704'), ('pronameWA', 'television director')]\n",
      "[('proWA', 'http://www.wikidata.org/entity/Q2095549'), ('pronameWA', 'aircraft pilot')]\n",
      "[('proWA', 'http://www.wikidata.org/entity/Q214917'), ('pronameWA', 'playwright')]\n",
      "[('proWA', 'http://www.wikidata.org/entity/Q2252262'), ('pronameWA', 'rapper')]\n",
      "[('proWA', 'http://www.wikidata.org/entity/Q2259451'), ('pronameWA', 'stage actor')]\n",
      "[('proWA', 'http://www.wikidata.org/entity/Q2340668'), ('pronameWA', 'music video director')]\n",
      "[('proWA', 'http://www.wikidata.org/entity/Q2405480'), ('pronameWA', 'voice actor')]\n",
      "[('proWA', 'http://www.wikidata.org/entity/Q245068'), ('pronameWA', 'comedian')]\n",
      "[('proWA', 'http://www.wikidata.org/entity/Q2526255'), ('pronameWA', 'film director')]\n",
      "[('proWA', 'http://www.wikidata.org/entity/Q2643890'), ('pronameWA', 'vocalist')]\n",
      "[('proWA', 'http://www.wikidata.org/entity/Q2722764'), ('pronameWA', 'radio personality')]\n",
      "[('proWA', 'http://www.wikidata.org/entity/Q28389'), ('pronameWA', 'screenwriter')]\n",
      "[('proWA', 'http://www.wikidata.org/entity/Q3282637'), ('pronameWA', 'film producer')]\n",
      "[('proWA', 'http://www.wikidata.org/entity/Q33231'), ('pronameWA', 'photographer')]\n",
      "[('proWA', 'http://www.wikidata.org/entity/Q333634'), ('pronameWA', 'translator')]\n",
      "[('proWA', 'http://www.wikidata.org/entity/Q3387717'), ('pronameWA', 'theatrical director')]\n",
      "[('proWA', 'http://www.wikidata.org/entity/Q33999'), ('pronameWA', 'actor')]\n",
      "[('proWA', 'http://www.wikidata.org/entity/Q3427922'), ('pronameWA', 'restaurateur')]\n",
      "[('proWA', 'http://www.wikidata.org/entity/Q3455803'), ('pronameWA', 'director')]\n",
      "[('proWA', 'http://www.wikidata.org/entity/Q36180'), ('pronameWA', 'writer')]\n",
      "[('proWA', 'http://www.wikidata.org/entity/Q36834'), ('pronameWA', 'composer')]\n",
      "[('proWA', 'http://www.wikidata.org/entity/Q372436'), ('pronameWA', 'statesperson')]\n",
      "[('proWA', 'http://www.wikidata.org/entity/Q40348'), ('pronameWA', 'lawyer')]\n",
      "[('proWA', 'http://www.wikidata.org/entity/Q4263842'), ('pronameWA', 'literary critic')]\n",
      "[('proWA', 'http://www.wikidata.org/entity/Q42973'), ('pronameWA', 'architect')]\n",
      "[('proWA', 'http://www.wikidata.org/entity/Q43845'), ('pronameWA', 'businessperson')]\n",
      "[('proWA', 'http://www.wikidata.org/entity/Q4610556'), ('pronameWA', 'model')]\n",
      "[('proWA', 'http://www.wikidata.org/entity/Q482980'), ('pronameWA', 'author')]\n",
      "[('proWA', 'http://www.wikidata.org/entity/Q483501'), ('pronameWA', 'artist')]\n",
      "[('proWA', 'http://www.wikidata.org/entity/Q486748'), ('pronameWA', 'pianist')]\n",
      "[('proWA', 'http://www.wikidata.org/entity/Q488205'), ('pronameWA', 'singer-songwriter')]\n",
      "[('proWA', 'http://www.wikidata.org/entity/Q4964182'), ('pronameWA', 'philosopher')]\n",
      "[('proWA', 'http://www.wikidata.org/entity/Q49757'), ('pronameWA', 'poet')]\n",
      "[('proWA', 'http://www.wikidata.org/entity/Q512314'), ('pronameWA', 'socialite')]\n",
      "[('proWA', 'http://www.wikidata.org/entity/Q557880'), ('pronameWA', 'investor')]\n",
      "[('proWA', 'http://www.wikidata.org/entity/Q55960555'), ('pronameWA', 'recording artist')]\n",
      "[('proWA', 'http://www.wikidata.org/entity/Q578109'), ('pronameWA', 'television producer')]\n",
      "[('proWA', 'http://www.wikidata.org/entity/Q639669'), ('pronameWA', 'musician')]\n",
      "[('proWA', 'http://www.wikidata.org/entity/Q6625963'), ('pronameWA', 'novelist')]\n",
      "[('proWA', 'http://www.wikidata.org/entity/Q674067'), ('pronameWA', 'mime artist')]\n",
      "[('proWA', 'http://www.wikidata.org/entity/Q7042855'), ('pronameWA', 'film editor')]\n",
      "[('proWA', 'http://www.wikidata.org/entity/Q753110'), ('pronameWA', 'songwriter')]\n",
      "[('proWA', 'http://www.wikidata.org/entity/Q8178443'), ('pronameWA', 'librettist')]\n",
      "[('proWA', 'http://www.wikidata.org/entity/Q82955'), ('pronameWA', 'politician')]\n",
      "[('proWA', 'http://www.wikidata.org/entity/Q855091'), ('pronameWA', 'guitarist')]\n",
      "[('proWA', 'http://www.wikidata.org/entity/Q901'), ('pronameWA', 'scientist')]\n",
      "[('proWA', 'http://www.wikidata.org/entity/Q937857'), ('pronameWA', 'association football player')]\n",
      "[('proWA', 'http://www.wikidata.org/entity/Q947873'), ('pronameWA', 'television presenter')]\n",
      "[('proWA', 'http://www.wikidata.org/entity/Q10871364'), ('pronameWA', 'baseball player')]\n",
      "[('proWA', 'http://www.wikidata.org/entity/Q266569'), ('pronameWA', 'animator')]\n",
      "[('proWA', 'http://www.wikidata.org/entity/Q8246794'), ('pronameWA', 'blogger')]\n",
      "[('proWA', 'http://www.wikidata.org/entity/Q1053574'), ('pronameWA', 'executive producer')]\n",
      "[('proWA', 'http://www.wikidata.org/entity/Q11481802'), ('pronameWA', 'dub actor')]\n",
      "[('proWA', 'http://www.wikidata.org/entity/Q1323191'), ('pronameWA', 'costume designer')]\n",
      "[('proWA', 'http://www.wikidata.org/entity/Q15253558'), ('pronameWA', 'activist')]\n",
      "[('proWA', 'http://www.wikidata.org/entity/Q17221'), ('pronameWA', 'spokesperson')]\n",
      "[('proWA', 'http://www.wikidata.org/entity/Q1759246'), ('pronameWA', 'theatrical producer')]\n",
      "[('proWA', 'http://www.wikidata.org/entity/Q18545066'), ('pronameWA', 'stand-up comedian')]\n",
      "[('proWA', 'http://www.wikidata.org/entity/Q1979607'), ('pronameWA', 'financier')]\n",
      "[('proWA', 'http://www.wikidata.org/entity/Q222344'), ('pronameWA', 'cinematographer')]\n",
      "[('proWA', 'http://www.wikidata.org/entity/Q2516866'), ('pronameWA', 'publisher')]\n",
      "[('proWA', 'http://www.wikidata.org/entity/Q2865819'), ('pronameWA', 'opera singer')]\n",
      "[('proWA', 'http://www.wikidata.org/entity/Q3089940'), ('pronameWA', 'music executive')]\n",
      "[('proWA', 'http://www.wikidata.org/entity/Q34074720'), ('pronameWA', 'feminist')]\n",
      "[('proWA', 'http://www.wikidata.org/entity/Q3501317'), ('pronameWA', 'fashion designer')]\n",
      "[('proWA', 'http://www.wikidata.org/entity/Q386854'), ('pronameWA', 'drummer')]\n",
      "[('proWA', 'http://www.wikidata.org/entity/Q5716684'), ('pronameWA', 'dancer')]\n",
      "[('proWA', 'http://www.wikidata.org/entity/Q948329'), ('pronameWA', 'character actor')]\n",
      "[('proWA', 'http://www.wikidata.org/entity/Q10384029'), ('pronameWA', 'drug trafficker')]\n",
      "[('proWA', 'http://www.wikidata.org/entity/Q10732476'), ('pronameWA', 'art collector')]\n",
      "[('proWA', 'http://www.wikidata.org/entity/Q118865'), ('pronameWA', 'clarinetist')]\n",
      "[('proWA', 'http://www.wikidata.org/entity/Q1208175'), ('pronameWA', 'camera operator')]\n",
      "[('proWA', 'http://www.wikidata.org/entity/Q13590141'), ('pronameWA', 'presenter')]\n",
      "[('proWA', 'http://www.wikidata.org/entity/Q15214752'), ('pronameWA', 'cabaret artist')]\n",
      "[('proWA', 'http://www.wikidata.org/entity/Q2490358'), ('pronameWA', 'choreographer')]\n",
      "[('proWA', 'http://www.wikidata.org/entity/Q3286043'), ('pronameWA', 'glamour model')]\n",
      "[('proWA', 'http://www.wikidata.org/entity/Q3578589'), ('pronameWA', 'environmentalist')]\n",
      "[('proWA', 'http://www.wikidata.org/entity/Q4220892'), ('pronameWA', 'film critic')]\n",
      "[('proWA', 'http://www.wikidata.org/entity/Q6051619'), ('pronameWA', 'opinion journalist')]\n",
      "[('proWA', 'http://www.wikidata.org/entity/Q970153'), ('pronameWA', 'child actor')]\n",
      "[('proWA', 'http://www.wikidata.org/entity/Q11296761'), ('pronameWA', 'kickboxer')]\n",
      "[('proWA', 'http://www.wikidata.org/entity/Q42909'), ('pronameWA', 'reporter')]\n",
      "[('proWA', 'http://www.wikidata.org/entity/Q1440873'), ('pronameWA', 'showrunner')]\n",
      "[('proWA', 'http://www.wikidata.org/entity/Q18074503'), ('pronameWA', 'installation artist')]\n",
      "[('proWA', 'http://www.wikidata.org/entity/Q28107590'), ('pronameWA', 'concept artist')]\n",
      "[('proWA', 'http://www.wikidata.org/entity/Q15295720'), ('pronameWA', 'poker player')]\n",
      "[('proWA', 'http://www.wikidata.org/entity/Q1954956'), ('pronameWA', 'musical theatre actor')]\n",
      "[('proWA', 'http://www.wikidata.org/entity/Q865851'), ('pronameWA', 'supermodel')]\n",
      "[('proWA', 'http://www.wikidata.org/entity/Q15949613'), ('pronameWA', 'short story writer')]\n",
      "[('proWA', 'http://www.wikidata.org/entity/Q3410028'), ('pronameWA', 'psychoanalyst')]\n",
      "[('proWA', 'http://www.wikidata.org/entity/Q618694'), ('pronameWA', 'fighter pilot')]\n",
      "[('proWA', 'http://www.wikidata.org/entity/Q728711'), ('pronameWA', 'Playboy Playmate')]\n",
      "[('proWA', 'http://www.wikidata.org/entity/Q9648008'), ('pronameWA', 'banjoist')]\n",
      "[('proWA', 'http://www.wikidata.org/entity/Q17307272'), ('pronameWA', 'circus performer')]\n",
      "[('proWA', 'http://www.wikidata.org/entity/Q1086863'), ('pronameWA', 'columnist')]\n",
      "[('proWA', 'http://www.wikidata.org/entity/Q10264925'), ('pronameWA', 'demagogue')]\n",
      "[('proWA', 'http://www.wikidata.org/entity/Q3178518'), ('pronameWA', 'vedette')]\n",
      "[('proWA', 'http://www.wikidata.org/entity/Q20669622'), ('pronameWA', 'music journalist')]\n",
      "[('proWA', 'http://www.wikidata.org/entity/Q1350157'), ('pronameWA', 'music critic')]\n",
      "[('proWA', 'http://www.wikidata.org/entity/Q16533'), ('pronameWA', 'judge')]\n",
      "[('proWA', 'http://www.wikidata.org/entity/Q1792450'), ('pronameWA', 'art historian')]\n",
      "[('proWA', 'http://www.wikidata.org/entity/Q18939491'), ('pronameWA', 'diarist')]\n",
      "[('proWA', 'http://www.wikidata.org/entity/Q2629392'), ('pronameWA', 'puppeteer')]\n",
      "[('proWA', 'http://www.wikidata.org/entity/Q2914170'), ('pronameWA', 'street artist')]\n",
      "[('proWA', 'http://www.wikidata.org/entity/Q3665646'), ('pronameWA', 'basketball player')]\n",
      "[('proWA', 'http://www.wikidata.org/entity/Q37226'), ('pronameWA', 'teacher')]\n",
      "[('proWA', 'http://www.wikidata.org/entity/Q47064'), ('pronameWA', 'military personnel')]\n",
      "[('proWA', 'http://www.wikidata.org/entity/Q4853732'), ('pronameWA', \"children's writer\")]\n",
      "[('proWA', 'http://www.wikidata.org/entity/Q5322166'), ('pronameWA', 'designer')]\n",
      "[('proWA', 'http://www.wikidata.org/entity/Q81096'), ('pronameWA', 'engineer')]\n",
      "[('proWA', 'http://www.wikidata.org/entity/Q822146'), ('pronameWA', 'lyricist')]\n",
      "[('proWA', 'http://www.wikidata.org/entity/Q19204627'), ('pronameWA', 'American football player')]\n",
      "[('proWA', 'http://www.wikidata.org/entity/Q19934710'), ('pronameWA', 'air force officer')]\n",
      "[('proWA', 'http://www.wikidata.org/entity/Q212980'), ('pronameWA', 'psychologist')]\n",
      "[('proWA', 'http://www.wikidata.org/entity/Q2986228'), ('pronameWA', 'sports commentator')]\n",
      "[('proWA', 'http://www.wikidata.org/entity/Q465501'), ('pronameWA', 'stunt performer')]\n",
      "[('proWA', 'http://www.wikidata.org/entity/Q12406482'), ('pronameWA', 'humorist')]\n",
      "[('proWA', 'http://www.wikidata.org/entity/Q16323111'), ('pronameWA', 'peace activist')]\n",
      "[('proWA', 'http://www.wikidata.org/entity/Q20198542'), ('pronameWA', 'music historian')]\n",
      "[('proWA', 'http://www.wikidata.org/entity/Q6168364'), ('pronameWA', 'jazz guitarist')]\n",
      "[('proWA', 'http://www.wikidata.org/entity/Q805221'), ('pronameWA', 'ballet dancer')]\n",
      "[('proWA', 'http://www.wikidata.org/entity/Q2034021'), ('pronameWA', 'dressmaker')]\n",
      "[('proWA', 'http://www.wikidata.org/entity/Q1685363'), ('pronameWA', 'propagandist')]\n",
      "[('proWA', 'http://www.wikidata.org/entity/Q270389'), ('pronameWA', 'news presenter')]\n",
      "[('proWA', 'http://www.wikidata.org/entity/Q667982'), ('pronameWA', 'creative director')]\n",
      "[('proWA', 'http://www.wikidata.org/entity/Q13219447'), ('pronameWA', 'sports journalist')]\n",
      "[('proWA', 'http://www.wikidata.org/entity/Q29887242'), ('pronameWA', 'anti-vaccine activist')]\n",
      "[('proWA', 'http://www.wikidata.org/entity/Q8011724'), ('pronameWA', 'fortune teller')]\n",
      "[('proWA', 'http://www.wikidata.org/entity/Q20856740'), ('pronameWA', 'audiobook narrator')]\n",
      "[('proWA', 'http://www.wikidata.org/entity/Q12377274'), ('pronameWA', 'trumpeter')]\n",
      "[('proWA', 'http://www.wikidata.org/entity/Q21680663'), ('pronameWA', 'classical composer')]\n",
      "[('proWA', 'http://www.wikidata.org/entity/Q706364'), ('pronameWA', 'art director')]\n",
      "[('proWA', 'http://www.wikidata.org/entity/Q27496075'), ('pronameWA', 'Idist')]\n",
      "[('proWA', 'http://www.wikidata.org/entity/Q864380'), ('pronameWA', 'biographer')]\n",
      "[('proWA', 'http://www.wikidata.org/entity/Q2306091'), ('pronameWA', 'sociologist')]\n",
      "[('proWA', 'http://www.wikidata.org/entity/Q897317'), ('pronameWA', 'winegrower')]\n",
      "[('proWA', 'http://www.wikidata.org/entity/Q18670161'), ('pronameWA', 'mascot')]\n",
      "[('proWA', 'http://www.wikidata.org/entity/Q98052424'), ('pronameWA', 'SOE agent')]\n",
      "[('proWA', 'http://www.wikidata.org/entity/Q13381572'), ('pronameWA', 'artistic gymnast')]\n",
      "[('proWA', 'http://www.wikidata.org/entity/Q278919'), ('pronameWA', 'literary agent')]\n",
      "[('proWA', 'http://www.wikidata.org/entity/Q10349745'), ('pronameWA', 'racing automobile driver')]\n",
      "[('proWA', 'http://www.wikidata.org/entity/Q14089670'), ('pronameWA', 'rugby union player')]\n",
      "[('proWA', 'http://www.wikidata.org/entity/Q18921227'), ('pronameWA', 'ufologist')]\n",
      "[('proWA', 'http://www.wikidata.org/entity/Q644687'), ('pronameWA', 'illustrator')]\n",
      "[('proWA', 'http://www.wikidata.org/entity/Q11892507'), ('pronameWA', 'comics writer')]\n",
      "[('proWA', 'http://www.wikidata.org/entity/Q3368718'), ('pronameWA', 'pathologist')]\n",
      "[('proWA', 'http://www.wikidata.org/entity/Q488111'), ('pronameWA', 'pornographic actor')]\n",
      "[('proWA', 'http://www.wikidata.org/entity/Q19723482'), ('pronameWA', 'mandolinist')]\n",
      "[('proWA', 'http://www.wikidata.org/entity/Q3357567'), ('pronameWA', 'fashion model')]\n",
      "[('proWA', 'http://www.wikidata.org/entity/Q19509237'), ('pronameWA', 'animal rights advocate')]\n",
      "[('proWA', 'http://www.wikidata.org/entity/Q13415036'), ('pronameWA', 'rugby player')]\n",
      "[('proWA', 'http://www.wikidata.org/entity/Q1416106'), ('pronameWA', 'supporting actor')]\n",
      "[('proWA', 'http://www.wikidata.org/entity/Q13219587'), ('pronameWA', 'figure skater')]\n",
      "[('proWA', 'http://www.wikidata.org/entity/Q5137576'), ('pronameWA', 'ice hockey coach')]\n",
      "[('proWA', 'http://www.wikidata.org/entity/Q11774891'), ('pronameWA', 'ice hockey player')]\n",
      "[('proWA', 'http://www.wikidata.org/entity/Q186360'), ('pronameWA', 'nurse')]\n",
      "[('proWA', 'http://www.wikidata.org/entity/Q487596'), ('pronameWA', 'dramaturge')]\n",
      "[('proWA', 'http://www.wikidata.org/entity/Q8359428'), ('pronameWA', 'social activist')]\n",
      "[('proWA', 'http://www.wikidata.org/entity/Q1141526'), ('pronameWA', 'stripper')]\n",
      "[('proWA', 'http://www.wikidata.org/entity/Q1298794'), ('pronameWA', 'dubbing director')]\n",
      "[('proWA', 'http://www.wikidata.org/entity/Q5371902'), ('pronameWA', 'harpsichordist')]\n",
      "[('proWA', 'http://www.wikidata.org/entity/Q1076502'), ('pronameWA', 'choir director')]\n",
      "[('proWA', 'http://www.wikidata.org/entity/Q1231865'), ('pronameWA', 'pedagogue')]\n",
      "[('proWA', 'http://www.wikidata.org/entity/Q1259917'), ('pronameWA', 'violinist')]\n",
      "[('proWA', 'http://www.wikidata.org/entity/Q214970'), ('pronameWA', 'virtuoso')]\n",
      "[('proWA', 'http://www.wikidata.org/entity/Q14915627'), ('pronameWA', 'musicologist')]\n",
      "[('proWA', 'http://www.wikidata.org/entity/Q211346'), ('pronameWA', 'psychiatrist')]\n",
      "[('proWA', 'http://www.wikidata.org/entity/Q765778'), ('pronameWA', 'organist')]\n",
      "[('proWA', 'http://www.wikidata.org/entity/Q691031'), ('pronameWA', 'concertmaster')]\n",
      "[('proWA', 'http://www.wikidata.org/entity/Q1278335'), ('pronameWA', 'instrumentalist')]\n",
      "[('proWA', 'http://www.wikidata.org/entity/Q839935'), ('pronameWA', 'script doctor')]\n"
     ]
    },
    {
     "data": {
      "text/plain": [
       "214"
      ]
     },
     "execution_count": 12,
     "metadata": {},
     "output_type": "execute_result"
    }
   ],
   "source": [
    "queryString = \"\"\"\n",
    "SELECT DISTINCT  ?proWA ?pronameWA\n",
    "WHERE { \n",
    "\n",
    "\n",
    " ?w wdt:P106 ?proWA ;       # ?fd --> film directors\n",
    "    wdt:P31  wd:Q5 .\n",
    "    ?filmwa ?p ?w . \n",
    "{ \n",
    "SELECT DISTINCT  ?filmwa\n",
    "WHERE { \n",
    "\n",
    " ?filmwa wdt:P31 wd:Q11424 .    # ?filmwa --> film Woody Allen\n",
    " ?filmwa wdt:P57 wd:Q25089 .        \n",
    "}\n",
    "}  \n",
    "# this returns the labels\n",
    "  #  ?p <http://schema.org/name> ?pname .\n",
    "    ?proWA <http://schema.org/name> ?pronameWA .\n",
    "}\n",
    "LIMIT 10\n",
    "\n",
    "\"\"\"\n",
    "\n",
    "print(\"Results\")\n",
    "run_query(queryString)"
   ]
  },
  {
   "cell_type": "code",
   "execution_count": null,
   "id": "4862eb0e-3e8d-4358-a46a-52b3df2f4687",
   "metadata": {},
   "outputs": [],
   "source": [
    "# Look for Quentin Tarantino type of workers"
   ]
  },
  {
   "cell_type": "code",
   "execution_count": 11,
   "id": "365218b3-c75a-4106-9e47-cac6cd16741d",
   "metadata": {
    "collapsed": true,
    "jupyter": {
     "outputs_hidden": true
    },
    "tags": []
   },
   "outputs": [
    {
     "name": "stdout",
     "output_type": "stream",
     "text": [
      "Results\n",
      "[('proQT', 'http://www.wikidata.org/entity/Q18581305'), ('pronameQT', 'beauty pageant contestant')]\n",
      "[('proQT', 'http://www.wikidata.org/entity/Q378622'), ('pronameQT', 'racing driver')]\n",
      "[('proQT', 'http://www.wikidata.org/entity/Q622807'), ('pronameQT', 'seiyū')]\n",
      "[('proQT', 'http://www.wikidata.org/entity/Q1643514'), ('pronameQT', 'music arranger')]\n",
      "[('proQT', 'http://www.wikidata.org/entity/Q154549'), ('pronameQT', 'carpenter')]\n",
      "[('proQT', 'http://www.wikidata.org/entity/Q10264925'), ('pronameQT', 'demagogue')]\n",
      "[('proQT', 'http://www.wikidata.org/entity/Q19509201'), ('pronameQT', 'LGBTQIA+ rights activist')]\n",
      "[('proQT', 'http://www.wikidata.org/entity/Q107711'), ('pronameQT', 'firefighter')]\n",
      "[('proQT', 'http://www.wikidata.org/entity/Q13561328'), ('pronameQT', 'surfer')]\n",
      "[('proQT', 'http://www.wikidata.org/entity/Q3922505'), ('pronameQT', 'music producer')]\n",
      "[('proQT', 'http://www.wikidata.org/entity/Q1028181'), ('pronameQT', 'painter')]\n",
      "[('proQT', 'http://www.wikidata.org/entity/Q10349745'), ('pronameQT', 'racing automobile driver')]\n",
      "[('proQT', 'http://www.wikidata.org/entity/Q10798782'), ('pronameQT', 'television actor')]\n",
      "[('proQT', 'http://www.wikidata.org/entity/Q10800557'), ('pronameQT', 'film actor')]\n",
      "[('proQT', 'http://www.wikidata.org/entity/Q10843402'), ('pronameQT', 'swimmer')]\n",
      "[('proQT', 'http://www.wikidata.org/entity/Q11124885'), ('pronameQT', 'martial artist')]\n",
      "[('proQT', 'http://www.wikidata.org/entity/Q11338576'), ('pronameQT', 'boxer')]\n",
      "[('proQT', 'http://www.wikidata.org/entity/Q12144794'), ('pronameQT', 'prosaist')]\n",
      "[('proQT', 'http://www.wikidata.org/entity/Q131524'), ('pronameQT', 'entrepreneur')]\n",
      "[('proQT', 'http://www.wikidata.org/entity/Q13235160'), ('pronameQT', 'manufacturer')]\n",
      "[('proQT', 'http://www.wikidata.org/entity/Q1414443'), ('pronameQT', 'filmmaker')]\n",
      "[('proQT', 'http://www.wikidata.org/entity/Q1415090'), ('pronameQT', 'film score composer')]\n",
      "[('proQT', 'http://www.wikidata.org/entity/Q158852'), ('pronameQT', 'conductor')]\n",
      "[('proQT', 'http://www.wikidata.org/entity/Q15980158'), ('pronameQT', 'non-fiction writer')]\n",
      "[('proQT', 'http://www.wikidata.org/entity/Q15981151'), ('pronameQT', 'jazz musician')]\n",
      "[('proQT', 'http://www.wikidata.org/entity/Q177220'), ('pronameQT', 'singer')]\n",
      "[('proQT', 'http://www.wikidata.org/entity/Q183945'), ('pronameQT', 'record producer')]\n",
      "[('proQT', 'http://www.wikidata.org/entity/Q201788'), ('pronameQT', 'historian')]\n",
      "[('proQT', 'http://www.wikidata.org/entity/Q2059704'), ('pronameQT', 'television director')]\n",
      "[('proQT', 'http://www.wikidata.org/entity/Q2095549'), ('pronameQT', 'aircraft pilot')]\n",
      "[('proQT', 'http://www.wikidata.org/entity/Q2252262'), ('pronameQT', 'rapper')]\n",
      "[('proQT', 'http://www.wikidata.org/entity/Q2259451'), ('pronameQT', 'stage actor')]\n",
      "[('proQT', 'http://www.wikidata.org/entity/Q2405480'), ('pronameQT', 'voice actor')]\n",
      "[('proQT', 'http://www.wikidata.org/entity/Q245068'), ('pronameQT', 'comedian')]\n",
      "[('proQT', 'http://www.wikidata.org/entity/Q2526255'), ('pronameQT', 'film director')]\n",
      "[('proQT', 'http://www.wikidata.org/entity/Q2722764'), ('pronameQT', 'radio personality')]\n",
      "[('proQT', 'http://www.wikidata.org/entity/Q28389'), ('pronameQT', 'screenwriter')]\n",
      "[('proQT', 'http://www.wikidata.org/entity/Q3014296'), ('pronameQT', 'motorcycle rider')]\n",
      "[('proQT', 'http://www.wikidata.org/entity/Q3282637'), ('pronameQT', 'film producer')]\n",
      "[('proQT', 'http://www.wikidata.org/entity/Q33231'), ('pronameQT', 'photographer')]\n",
      "[('proQT', 'http://www.wikidata.org/entity/Q3387717'), ('pronameQT', 'theatrical director')]\n",
      "[('proQT', 'http://www.wikidata.org/entity/Q33999'), ('pronameQT', 'actor')]\n",
      "[('proQT', 'http://www.wikidata.org/entity/Q3427922'), ('pronameQT', 'restaurateur')]\n",
      "[('proQT', 'http://www.wikidata.org/entity/Q3455803'), ('pronameQT', 'director')]\n",
      "[('proQT', 'http://www.wikidata.org/entity/Q36180'), ('pronameQT', 'writer')]\n",
      "[('proQT', 'http://www.wikidata.org/entity/Q36834'), ('pronameQT', 'composer')]\n",
      "[('proQT', 'http://www.wikidata.org/entity/Q43845'), ('pronameQT', 'businessperson')]\n",
      "[('proQT', 'http://www.wikidata.org/entity/Q4610556'), ('pronameQT', 'model')]\n",
      "[('proQT', 'http://www.wikidata.org/entity/Q482980'), ('pronameQT', 'author')]\n",
      "[('proQT', 'http://www.wikidata.org/entity/Q483501'), ('pronameQT', 'artist')]\n",
      "[('proQT', 'http://www.wikidata.org/entity/Q486748'), ('pronameQT', 'pianist')]\n",
      "[('proQT', 'http://www.wikidata.org/entity/Q488205'), ('pronameQT', 'singer-songwriter')]\n",
      "[('proQT', 'http://www.wikidata.org/entity/Q49757'), ('pronameQT', 'poet')]\n",
      "[('proQT', 'http://www.wikidata.org/entity/Q55960555'), ('pronameQT', 'recording artist')]\n",
      "[('proQT', 'http://www.wikidata.org/entity/Q578109'), ('pronameQT', 'television producer')]\n",
      "[('proQT', 'http://www.wikidata.org/entity/Q639669'), ('pronameQT', 'musician')]\n",
      "[('proQT', 'http://www.wikidata.org/entity/Q6625963'), ('pronameQT', 'novelist')]\n",
      "[('proQT', 'http://www.wikidata.org/entity/Q7042855'), ('pronameQT', 'film editor')]\n",
      "[('proQT', 'http://www.wikidata.org/entity/Q753110'), ('pronameQT', 'songwriter')]\n",
      "[('proQT', 'http://www.wikidata.org/entity/Q81096'), ('pronameQT', 'engineer')]\n",
      "[('proQT', 'http://www.wikidata.org/entity/Q822146'), ('pronameQT', 'lyricist')]\n",
      "[('proQT', 'http://www.wikidata.org/entity/Q82955'), ('pronameQT', 'politician')]\n",
      "[('proQT', 'http://www.wikidata.org/entity/Q855091'), ('pronameQT', 'guitarist')]\n",
      "[('proQT', 'http://www.wikidata.org/entity/Q10871364'), ('pronameQT', 'baseball player')]\n",
      "[('proQT', 'http://www.wikidata.org/entity/Q266569'), ('pronameQT', 'animator')]\n",
      "[('proQT', 'http://www.wikidata.org/entity/Q6665249'), ('pronameQT', 'judoka')]\n",
      "[('proQT', 'http://www.wikidata.org/entity/Q8246794'), ('pronameQT', 'blogger')]\n",
      "[('proQT', 'http://www.wikidata.org/entity/Q1053574'), ('pronameQT', 'executive producer')]\n",
      "[('proQT', 'http://www.wikidata.org/entity/Q10774753'), ('pronameQT', 'performance artist')]\n",
      "[('proQT', 'http://www.wikidata.org/entity/Q11481802'), ('pronameQT', 'dub actor')]\n",
      "[('proQT', 'http://www.wikidata.org/entity/Q11892507'), ('pronameQT', 'comics writer')]\n",
      "[('proQT', 'http://www.wikidata.org/entity/Q11900058'), ('pronameQT', 'explorer')]\n",
      "[('proQT', 'http://www.wikidata.org/entity/Q1323191'), ('pronameQT', 'costume designer')]\n",
      "[('proQT', 'http://www.wikidata.org/entity/Q13474373'), ('pronameQT', 'professional wrestler')]\n",
      "[('proQT', 'http://www.wikidata.org/entity/Q15253558'), ('pronameQT', 'activist')]\n",
      "[('proQT', 'http://www.wikidata.org/entity/Q1759246'), ('pronameQT', 'theatrical producer')]\n",
      "[('proQT', 'http://www.wikidata.org/entity/Q18545066'), ('pronameQT', 'stand-up comedian')]\n",
      "[('proQT', 'http://www.wikidata.org/entity/Q222344'), ('pronameQT', 'cinematographer')]\n",
      "[('proQT', 'http://www.wikidata.org/entity/Q25339110'), ('pronameQT', 'full professor')]\n",
      "[('proQT', 'http://www.wikidata.org/entity/Q2833480'), ('pronameQT', 'stunt coordinator')]\n",
      "[('proQT', 'http://www.wikidata.org/entity/Q386854'), ('pronameQT', 'drummer')]\n",
      "[('proQT', 'http://www.wikidata.org/entity/Q465501'), ('pronameQT', 'stunt performer')]\n",
      "[('proQT', 'http://www.wikidata.org/entity/Q5716684'), ('pronameQT', 'dancer')]\n",
      "[('proQT', 'http://www.wikidata.org/entity/Q715301'), ('pronameQT', 'comics artist')]\n",
      "[('proQT', 'http://www.wikidata.org/entity/Q948329'), ('pronameQT', 'character actor')]\n",
      "[('proQT', 'http://www.wikidata.org/entity/Q10384029'), ('pronameQT', 'drug trafficker')]\n",
      "[('proQT', 'http://www.wikidata.org/entity/Q10732476'), ('pronameQT', 'art collector')]\n",
      "[('proQT', 'http://www.wikidata.org/entity/Q1208175'), ('pronameQT', 'camera operator')]\n",
      "[('proQT', 'http://www.wikidata.org/entity/Q13590141'), ('pronameQT', 'presenter')]\n",
      "[('proQT', 'http://www.wikidata.org/entity/Q2490358'), ('pronameQT', 'choreographer')]\n",
      "[('proQT', 'http://www.wikidata.org/entity/Q3578589'), ('pronameQT', 'environmentalist')]\n",
      "[('proQT', 'http://www.wikidata.org/entity/Q9017214'), ('pronameQT', 'karateka')]\n",
      "[('proQT', 'http://www.wikidata.org/entity/Q1440873'), ('pronameQT', 'showrunner')]\n",
      "[('proQT', 'http://www.wikidata.org/entity/Q935666'), ('pronameQT', 'make-up artist')]\n",
      "[('proQT', 'http://www.wikidata.org/entity/Q1685363'), ('pronameQT', 'propagandist')]\n",
      "[('proQT', 'http://www.wikidata.org/entity/Q3357567'), ('pronameQT', 'fashion model')]\n",
      "[('proQT', 'http://www.wikidata.org/entity/Q4696968'), ('pronameQT', 'aikidoka')]\n",
      "[('proQT', 'http://www.wikidata.org/entity/Q3149505'), ('pronameQT', 'improviser')]\n",
      "[('proQT', 'http://www.wikidata.org/entity/Q1954956'), ('pronameQT', 'musical theatre actor')]\n",
      "[('proQT', 'http://www.wikidata.org/entity/Q2159907'), ('pronameQT', 'criminal')]\n",
      "[('proQT', 'http://www.wikidata.org/entity/Q2707485'), ('pronameQT', 'scenographer')]\n",
      "[('proQT', 'http://www.wikidata.org/entity/Q484188'), ('pronameQT', 'serial killer')]\n",
      "[('proQT', 'http://www.wikidata.org/entity/Q1524582'), ('pronameQT', 'rancher')]\n",
      "[('proQT', 'http://www.wikidata.org/entity/Q931260'), ('pronameQT', 'murderer')]\n",
      "[('proQT', 'http://www.wikidata.org/entity/Q1930187'), ('pronameQT', 'journalist')]\n",
      "[('proQT', 'http://www.wikidata.org/entity/Q512314'), ('pronameQT', 'socialite')]\n",
      "[('proQT', 'http://www.wikidata.org/entity/Q7019111'), ('pronameQT', 'social worker')]\n",
      "[('proQT', 'http://www.wikidata.org/entity/Q947873'), ('pronameQT', 'television presenter')]\n",
      "[('proQT', 'http://www.wikidata.org/entity/Q19204627'), ('pronameQT', 'American football player')]\n",
      "[('proQT', 'http://www.wikidata.org/entity/Q488111'), ('pronameQT', 'pornographic actor')]\n",
      "[('proQT', 'http://www.wikidata.org/entity/Q128124'), ('pronameQT', 'audio engineer')]\n",
      "[('proQT', 'http://www.wikidata.org/entity/Q13382533'), ('pronameQT', 'taekwondo athlete')]\n",
      "[('proQT', 'http://www.wikidata.org/entity/Q1630100'), ('pronameQT', 'art model')]\n",
      "[('proQT', 'http://www.wikidata.org/entity/Q55187'), ('pronameQT', 'hairdresser')]\n",
      "[('proQT', 'http://www.wikidata.org/entity/Q943995'), ('pronameQT', 'impresario')]\n",
      "[('proQT', 'http://www.wikidata.org/entity/Q1154323'), ('pronameQT', 'spree killer')]\n",
      "[('proQT', 'http://www.wikidata.org/entity/Q43373553'), ('pronameQT', 'cult leader')]\n",
      "[('proQT', 'http://www.wikidata.org/entity/Q28125427'), ('pronameQT', 'action choreographer')]\n"
     ]
    },
    {
     "data": {
      "text/plain": [
       "118"
      ]
     },
     "execution_count": 11,
     "metadata": {},
     "output_type": "execute_result"
    }
   ],
   "source": [
    "queryString = \"\"\"\n",
    "SELECT DISTINCT  ?proQT ?pronameQT\n",
    "WHERE { \n",
    "\n",
    "\n",
    " ?w wdt:P106 ?proQT ;       # ? --> film directors\n",
    "    wdt:P31  wd:Q5 .\n",
    "    ?filmqt ?p ?w. \n",
    "{ \n",
    "SELECT DISTINCT  ?filmqt\n",
    "WHERE { \n",
    "\n",
    " ?filmqt wdt:P31 wd:Q11424 .    # ?filmqt --> film Quentin Tarantino\n",
    " ?filmqt wdt:P57 wd:Q3772.        \n",
    "}\n",
    "}  \n",
    "# this returns the labels\n",
    "  #  ?p <http://schema.org/name> ?pname .\n",
    "    ?proQT <http://schema.org/name> ?pronameQT .\n",
    "}\n",
    "\n",
    "LIMIT 10\n",
    "\n",
    "\"\"\"\n",
    "\n",
    "print(\"Results\")\n",
    "run_query(queryString)"
   ]
  },
  {
   "cell_type": "code",
   "execution_count": null,
   "id": "9bfbfe79-19f2-4598-b855-61caf84fa431",
   "metadata": {},
   "outputs": [],
   "source": [
    "# For Woody Allen there are 214 different type of workers\n",
    "# For Quentin Tarantino there are 118 different type of workers"
   ]
  },
  {
   "cell_type": "markdown",
   "id": "3851b789-8d7b-44a4-a378-8bf9c204c3c7",
   "metadata": {
    "tags": []
   },
   "source": [
    "# Task 5"
   ]
  },
  {
   "cell_type": "code",
   "execution_count": 76,
   "id": "eadacbfb-b5b5-4903-84af-8c9f43a53291",
   "metadata": {},
   "outputs": [],
   "source": [
    "# 5. Return some numerical comparison between the two directors (e.g., how many workers in Tarantino's movies \n",
    "#    who also worked in Allen's films?, what is the film with the highest number of shared actors? Who is the most\n",
    "#    used actor by both the directors? etc. )"
   ]
  },
  {
   "cell_type": "code",
   "execution_count": 11,
   "id": "d234e946-3c55-44ab-bb21-38473a2cf26a",
   "metadata": {
    "tags": []
   },
   "outputs": [],
   "source": [
    "# how many workers in Tarantino's movies who also worked in Allen's films?"
   ]
  },
  {
   "cell_type": "code",
   "execution_count": 14,
   "id": "0683af79-fd98-4b63-bf5b-e0a8c7d80a4c",
   "metadata": {},
   "outputs": [],
   "source": [
    "# Now I'm intersted to have the name of the workers that work for both the directors"
   ]
  },
  {
   "cell_type": "code",
   "execution_count": 13,
   "id": "c459a130-1c99-4ece-9cb9-8bdb40f49957",
   "metadata": {},
   "outputs": [
    {
     "name": "stdout",
     "output_type": "stream",
     "text": [
      "Results\n",
      "[('ww', 'http://www.wikidata.org/entity/Q185724'), ('wwname', 'Mike Myers')]\n",
      "[('ww', 'http://www.wikidata.org/entity/Q104061'), ('wwname', 'Steve Buscemi')]\n",
      "[('ww', 'http://www.wikidata.org/entity/Q231096'), ('wwname', 'Léa Seydoux')]\n",
      "[('ww', 'http://www.wikidata.org/entity/Q109232'), ('wwname', 'Rosanna Arquette')]\n",
      "[('ww', 'http://www.wikidata.org/entity/Q207596'), ('wwname', 'Daryl Hannah')]\n",
      "[('ww', 'http://www.wikidata.org/entity/Q352'), ('wwname', 'Adolf Hitler')]\n",
      "[('ww', 'http://www.wikidata.org/entity/Q26806'), ('wwname', 'Danny DeVito')]\n",
      "[('ww', 'http://www.wikidata.org/entity/Q36949'), ('wwname', 'Robert De Niro')]\n",
      "[('ww', 'http://www.wikidata.org/entity/Q125017'), ('wwname', 'Uma Thurman')]\n",
      "[('ww', 'http://www.wikidata.org/entity/Q38111'), ('wwname', 'Leonardo DiCaprio')]\n",
      "[('ww', 'http://www.wikidata.org/entity/Q41749'), ('wwname', 'Joseph Goebbels')]\n",
      "[('ww', 'http://www.wikidata.org/entity/Q76819'), ('wwname', 'Christoph Waltz')]\n",
      "[('ww', 'http://www.wikidata.org/entity/Q203804'), ('wwname', 'Tim Roth')]\n",
      "[('ww', 'http://www.wikidata.org/entity/Q185051'), ('wwname', 'Christopher Walken')]\n",
      "[('ww', 'http://www.wikidata.org/entity/Q202148'), ('wwname', 'Burt Reynolds')]\n",
      "[('ww', 'http://www.wikidata.org/entity/Q346285'), ('wwname', 'David Arnold')]\n"
     ]
    },
    {
     "data": {
      "text/plain": [
       "16"
      ]
     },
     "execution_count": 13,
     "metadata": {},
     "output_type": "execute_result"
    }
   ],
   "source": [
    "queryString = \"\"\"\n",
    "SELECT DISTINCT  ?ww ?wwname\n",
    "WHERE {\n",
    "\n",
    "{\n",
    "SELECT DISTINCT  ?ww ?wwname\n",
    "WHERE { \n",
    " ?ww wdt:P106 ?proWA ;       # ?fd --> film directors\n",
    "     wdt:P31  wd:Q5 .\n",
    "   ?filmwa ?p  ?ww.  \n",
    "{ \n",
    "SELECT DISTINCT  ?filmwa\n",
    "WHERE { \n",
    "\n",
    " ?filmwa wdt:P31 wd:Q11424 .    # ?filmwa --> film Woody Allen\n",
    " ?filmwa wdt:P57 wd:Q25089 .        \n",
    "}\n",
    "}  \n",
    "# this returns the labels\n",
    "    ?ww <http://schema.org/name> ?wwname .\n",
    "   # ?proWA <http://schema.org/name> ?pronameWA .\n",
    "}\n",
    "}\n",
    "\n",
    "{\n",
    "SELECT DISTINCT  ?wq ?wqname\n",
    "WHERE { \n",
    "\n",
    "\n",
    " ?wq wdt:P106 ?proQT ;       # ? --> film directors\n",
    "     wdt:P31  wd:Q5 .\n",
    "   ?filmqt ?p  ?wq. \n",
    "{ \n",
    "SELECT DISTINCT  ?filmqt\n",
    "WHERE { \n",
    "\n",
    " ?filmqt wdt:P31 wd:Q11424 .    # ?filmqt --> film Quentin Tarantino\n",
    " ?filmqt wdt:P57 wd:Q3772.        \n",
    "}\n",
    "}  \n",
    "# this returns the labels\n",
    "    ?wq <http://schema.org/name> ?wqname .\n",
    "   # ?proQT <http://schema.org/name> ?pronameQT .\n",
    "}\n",
    "}\n",
    "\n",
    "FILTER(?wq = ?ww)\n",
    "}\n",
    "\n",
    "\n",
    "\"\"\"\n",
    "\n",
    "print(\"Results\")\n",
    "run_query(queryString)"
   ]
  },
  {
   "cell_type": "code",
   "execution_count": null,
   "id": "0b14a19f-4ec5-4672-9524-4aef1ff18741",
   "metadata": {},
   "outputs": [],
   "source": [
    "# Now I count"
   ]
  },
  {
   "cell_type": "code",
   "execution_count": 2,
   "id": "675ebe3f-6438-449c-ba2a-43db96a88eab",
   "metadata": {},
   "outputs": [
    {
     "name": "stdout",
     "output_type": "stream",
     "text": [
      "Results\n",
      "[('howmany', '16')]\n"
     ]
    },
    {
     "data": {
      "text/plain": [
       "1"
      ]
     },
     "execution_count": 2,
     "metadata": {},
     "output_type": "execute_result"
    }
   ],
   "source": [
    "queryString = \"\"\"\n",
    "SELECT DISTINCT  (count(distinct ?ww) as ?howmany)\n",
    "WHERE {\n",
    "\n",
    "{\n",
    "SELECT DISTINCT  ?ww ?wwname\n",
    "WHERE { \n",
    " ?ww wdt:P106 ?proWA ;       # ?fd --> film directors\n",
    "     wdt:P31  wd:Q5 .\n",
    "   ?filmwa ?p  ?ww.  \n",
    "{ \n",
    "SELECT DISTINCT  ?filmwa\n",
    "WHERE { \n",
    "\n",
    " ?filmwa wdt:P31 wd:Q11424 .    # ?filmwa --> film Woody Allen\n",
    " ?filmwa wdt:P57 wd:Q25089 .        \n",
    "}\n",
    "}  \n",
    "# this returns the labels\n",
    "    ?ww <http://schema.org/name> ?wwname .\n",
    "   # ?proWA <http://schema.org/name> ?pronameWA .\n",
    "}\n",
    "}\n",
    "\n",
    "{\n",
    "SELECT DISTINCT  ?wq ?wqname\n",
    "WHERE { \n",
    "\n",
    "\n",
    " ?wq wdt:P106 ?proQT ;       # ? --> film directors\n",
    "     wdt:P31  wd:Q5 .\n",
    "   ?filmqt ?p  ?wq. \n",
    "{ \n",
    "SELECT DISTINCT  ?filmqt\n",
    "WHERE { \n",
    "\n",
    " ?filmqt wdt:P31 wd:Q11424 .    # ?filmqt --> film Quentin Tarantino\n",
    " ?filmqt wdt:P57 wd:Q3772.        \n",
    "}\n",
    "}  \n",
    "# this returns the labels\n",
    "    ?wq <http://schema.org/name> ?wqname .\n",
    "   # ?proQT <http://schema.org/name> ?pronameQT .\n",
    "}\n",
    "}\n",
    "\n",
    "FILTER(?wq = ?ww)\n",
    "}\n",
    "\n",
    "\n",
    "\"\"\"\n",
    "\n",
    "print(\"Results\")\n",
    "run_query(queryString)"
   ]
  },
  {
   "cell_type": "code",
   "execution_count": null,
   "id": "a45ff59d-026c-4937-bcaa-92185de5c8cd",
   "metadata": {},
   "outputs": [],
   "source": [
    "# what is the film with the highest number of shared actors?"
   ]
  },
  {
   "cell_type": "code",
   "execution_count": 3,
   "id": "af0611b3-0a37-4501-ac78-c507a48f57c0",
   "metadata": {},
   "outputs": [],
   "source": [
    "# GET: 'cast member' --> wdt:P161 (from above)"
   ]
  },
  {
   "cell_type": "code",
   "execution_count": null,
   "id": "e2997d73-1f31-4d10-8b17-4275875a8b20",
   "metadata": {},
   "outputs": [],
   "source": [
    "# I found the number of actors shared"
   ]
  },
  {
   "cell_type": "code",
   "execution_count": 5,
   "id": "dcf0bcd4-3699-418b-aaee-370b9961b8d3",
   "metadata": {},
   "outputs": [
    {
     "name": "stdout",
     "output_type": "stream",
     "text": [
      "Results\n",
      "[('howmany', '12')]\n"
     ]
    },
    {
     "data": {
      "text/plain": [
       "1"
      ]
     },
     "execution_count": 5,
     "metadata": {},
     "output_type": "execute_result"
    }
   ],
   "source": [
    "queryString = \"\"\"\n",
    "SELECT DISTINCT  (count(distinct ?ww) as ?howmany)\n",
    "WHERE {\n",
    "\n",
    "{\n",
    "SELECT DISTINCT  ?ww ?wwname\n",
    "WHERE { \n",
    " ?ww wdt:P106 ?proWA ;       # ?fd --> film directors\n",
    "     wdt:P31  wd:Q5 .\n",
    "   ?filmwa  wdt:P161  ?ww.  \n",
    "{ \n",
    "SELECT DISTINCT  ?filmwa\n",
    "WHERE { \n",
    "\n",
    " ?filmwa wdt:P31 wd:Q11424 .    # ?filmwa --> film Woody Allen\n",
    " ?filmwa wdt:P57 wd:Q25089 .        \n",
    "}\n",
    "}  \n",
    "# this returns the labels\n",
    "    ?ww <http://schema.org/name> ?wwname .\n",
    "   # ?proWA <http://schema.org/name> ?pronameWA .\n",
    "}\n",
    "}\n",
    "\n",
    "{\n",
    "SELECT DISTINCT  ?wq ?wqname\n",
    "WHERE { \n",
    "\n",
    "\n",
    " ?wq wdt:P106 ?proQT ;       # ? --> film directors\n",
    "     wdt:P31  wd:Q5 .\n",
    "   ?filmqt wdt:P161   ?wq. \n",
    "{ \n",
    "SELECT DISTINCT  ?filmqt\n",
    "WHERE { \n",
    "\n",
    " ?filmqt wdt:P31 wd:Q11424 .    # ?filmqt --> film Quentin Tarantino\n",
    " ?filmqt wdt:P57 wd:Q3772.        \n",
    "}\n",
    "}  \n",
    "# this returns the labels\n",
    "    ?wq <http://schema.org/name> ?wqname .\n",
    "   # ?proQT <http://schema.org/name> ?pronameQT .\n",
    "}\n",
    "}\n",
    "\n",
    "FILTER(?wq = ?ww)\n",
    "}\n",
    "\n",
    "\n",
    "\"\"\"\n",
    "\n",
    "print(\"Results\")\n",
    "run_query(queryString)"
   ]
  },
  {
   "cell_type": "code",
   "execution_count": null,
   "id": "421eefc6-d32c-4025-8996-b5a0266c8664",
   "metadata": {},
   "outputs": [],
   "source": [
    "# Now I find the films with actors shared"
   ]
  },
  {
   "cell_type": "code",
   "execution_count": 8,
   "id": "f24373b4-cebc-43aa-92fd-964c3cd42a64",
   "metadata": {},
   "outputs": [
    {
     "name": "stdout",
     "output_type": "stream",
     "text": [
      "Results\n",
      "[('filmwaname', 'New York Stories'), ('filmqtname', 'Pulp Fiction'), ('howmany', '2')]\n"
     ]
    },
    {
     "data": {
      "text/plain": [
       "1"
      ]
     },
     "execution_count": 8,
     "metadata": {},
     "output_type": "execute_result"
    }
   ],
   "source": [
    "queryString = \"\"\"\n",
    "SELECT DISTINCT ?filmwaname ?filmqtname (count(distinct ?ww) as ?howmany)\n",
    "WHERE {\n",
    "\n",
    "{\n",
    "SELECT DISTINCT  ?ww ?wwname ?filmwaname\n",
    "WHERE { \n",
    " ?ww wdt:P106 ?proWA ;       # ?fd --> film directors\n",
    "     wdt:P31  wd:Q5 .\n",
    "   ?filmwa  wdt:P161  ?ww.  \n",
    "{ \n",
    "SELECT DISTINCT  ?filmwa\n",
    "WHERE { \n",
    "\n",
    " ?filmwa wdt:P31 wd:Q11424 .    # ?filmwa --> film Woody Allen\n",
    " ?filmwa wdt:P57 wd:Q25089 .        \n",
    "}\n",
    "}  \n",
    "# this returns the labels\n",
    "    ?ww <http://schema.org/name> ?wwname .\n",
    "   # ?proWA <http://schema.org/name> ?pronameWA .\n",
    "   ?filmwa <http://schema.org/name> ?filmwaname .\n",
    "}\n",
    "}\n",
    "\n",
    "{\n",
    "SELECT DISTINCT  ?wq ?wqname ?filmqtname\n",
    "WHERE { \n",
    "\n",
    "\n",
    " ?wq wdt:P106 ?proQT ;       # ? --> film directors\n",
    "     wdt:P31  wd:Q5 .\n",
    "   ?filmqt wdt:P161   ?wq. \n",
    "{ \n",
    "SELECT DISTINCT  ?filmqt\n",
    "WHERE { \n",
    "\n",
    " ?filmqt wdt:P31 wd:Q11424 .    # ?filmqt --> film Quentin Tarantino\n",
    " ?filmqt wdt:P57 wd:Q3772.        \n",
    "}\n",
    "}  \n",
    "# this returns the labels\n",
    "    ?wq <http://schema.org/name> ?wqname .\n",
    "   # ?proQT <http://schema.org/name> ?pronameQT .\n",
    "    ?filmqt <http://schema.org/name> ?filmqtname .\n",
    "}\n",
    "}\n",
    "\n",
    "FILTER(?wq = ?ww)\n",
    "}\n",
    "ORDER BY DESC (?howmany)\n",
    "\n",
    "LIMIT 1\n",
    "\n",
    "\"\"\"\n",
    "\n",
    "print(\"Results\")\n",
    "run_query(queryString)"
   ]
  },
  {
   "cell_type": "code",
   "execution_count": null,
   "id": "99ed9bd4-e8d9-4a3a-979a-5cb5a4b329ec",
   "metadata": {},
   "outputs": [],
   "source": []
  },
  {
   "cell_type": "markdown",
   "id": "9750bac7-edd8-45aa-a5b8-b61b87d44722",
   "metadata": {
    "jp-MarkdownHeadingCollapsed": true,
    "tags": []
   },
   "source": [
    "# Task 6"
   ]
  },
  {
   "cell_type": "code",
   "execution_count": 9,
   "id": "c8331e48-4eeb-410c-b8cc-9a047f6c2eca",
   "metadata": {},
   "outputs": [],
   "source": [
    "# 6. Is the maximum budget for a Tarantino's movie higher of the max budget of an Allen's movie?"
   ]
  },
  {
   "cell_type": "code",
   "execution_count": null,
   "id": "fa98b910-742e-4ed6-b9e9-1a5b4600ec07",
   "metadata": {},
   "outputs": [],
   "source": [
    "# To find the budget for a film, i think to find all numerical properties for a film"
   ]
  },
  {
   "cell_type": "code",
   "execution_count": null,
   "id": "67cff55d-6106-4e6e-92bf-2ec1f09a1094",
   "metadata": {},
   "outputs": [],
   "source": [
    "# From Workload 1"
   ]
  },
  {
   "cell_type": "code",
   "execution_count": 2,
   "id": "4ba1576b-0a7f-430d-977c-25f5a37bf91a",
   "metadata": {},
   "outputs": [
    {
     "name": "stdout",
     "output_type": "stream",
     "text": [
      "Results\n",
      "[('p', 'http://www.wikidata.org/prop/direct/P1113'), ('pname', 'number of episodes')]\n",
      "[('p', 'http://www.wikidata.org/prop/direct/P2047'), ('pname', 'duration')]\n",
      "[('p', 'http://www.wikidata.org/prop/direct/P2130'), ('pname', 'cost')]\n",
      "[('p', 'http://www.wikidata.org/prop/direct/P2142'), ('pname', 'box office')]\n",
      "[('p', 'http://www.wikidata.org/prop/direct/P8687'), ('pname', 'social media followers')]\n",
      "[('p', 'http://www.wikidata.org/prop/direct/P1104'), ('pname', 'number of pages')]\n",
      "[('p', 'http://www.wikidata.org/prop/direct/P2769'), ('pname', 'budget')]\n",
      "[('p', 'http://www.wikidata.org/prop/direct/P1110'), ('pname', 'attendance')]\n",
      "[('p', 'http://www.wikidata.org/prop/direct/P2437'), ('pname', 'number of seasons')]\n",
      "[('p', 'http://www.wikidata.org/prop/direct/P5436'), ('pname', 'number of viewers/listeners')]\n"
     ]
    },
    {
     "data": {
      "text/plain": [
       "10"
      ]
     },
     "execution_count": 2,
     "metadata": {},
     "output_type": "execute_result"
    }
   ],
   "source": [
    "queryString = \"\"\"\n",
    "SELECT DISTINCT ?p ?pname #?o\n",
    "WHERE { \n",
    "\n",
    "\n",
    " ?film wdt:P31 wd:Q11424 ;\n",
    "       ?p ?o .\n",
    " \n",
    "\n",
    " \n",
    "# this returns the labels\n",
    "    ?p <http://schema.org/name> ?pname .\n",
    "    \n",
    "FILTER(isNumeric(?o))\n",
    "    \n",
    "}\n",
    "LIMIT 10\n",
    "\n",
    "\"\"\"\n",
    "\n",
    "print(\"Results\")\n",
    "run_query(queryString)"
   ]
  },
  {
   "cell_type": "code",
   "execution_count": null,
   "id": "f75c2168-58ab-46bd-b6f3-241ac354f568",
   "metadata": {},
   "outputs": [],
   "source": [
    "# GET: 'budget' --> wdt:P2769"
   ]
  },
  {
   "cell_type": "code",
   "execution_count": null,
   "id": "ed2a89ac-3fa1-4a4e-8079-575a5c5696ef",
   "metadata": {},
   "outputs": [],
   "source": [
    "# wd:Q25089\tWoody Allen\n",
    "# wd:Q3772\tQuentin Tarantino"
   ]
  },
  {
   "cell_type": "code",
   "execution_count": null,
   "id": "deb2c20f-c947-4602-8dd9-52a25e976896",
   "metadata": {},
   "outputs": [],
   "source": [
    "queryString = \"\"\"\n",
    "SELECT DISTINCT  ?fdname ?filmname ?b\n",
    "WHERE { \n",
    "\n",
    " ?film wdt:P57 ?fd .\n",
    " ?film wdt:P2769 ?b .                # ?b --> budget film\n",
    " \n",
    "\n",
    "    ?fd <http://schema.org/name> ?fdname .\n",
    "    ?film <http://schema.org/name> ?filmname .\n",
    "    \n",
    "FILTER(?fd = wd:Q25089 or ?fd = wd:Q3772 )\n",
    "    \n",
    "}\n",
    "\n",
    "ORDER BY DESC (?b)\n",
    "LIMIT 10\n",
    "\n",
    "\"\"\"\n",
    "\n",
    "print(\"Results\")\n",
    "run_query(queryString)"
   ]
  },
  {
   "cell_type": "markdown",
   "id": "f9a09ebe-e3cd-4556-96d3-6656ce66e2cf",
   "metadata": {},
   "source": [
    "# Task 7"
   ]
  },
  {
   "cell_type": "code",
   "execution_count": null,
   "id": "ccca91a3-7822-4182-8af8-1a17cdae709a",
   "metadata": {},
   "outputs": [],
   "source": [
    "# Who has films with more nominations for Academy Awards and who won more Academy Awards \n",
    "# (with his films not only personal awards)."
   ]
  },
  {
   "cell_type": "markdown",
   "id": "0d2bc1c5-99a1-4931-bf18-1126df61c809",
   "metadata": {
    "jp-MarkdownHeadingCollapsed": true,
    "tags": []
   },
   "source": [
    "## Task 7.1"
   ]
  },
  {
   "cell_type": "code",
   "execution_count": 9,
   "id": "ba69d940-c134-4076-a0a1-6ab197031ebb",
   "metadata": {},
   "outputs": [],
   "source": [
    "# 7.1 Find the BGP for Academy Awards"
   ]
  },
  {
   "cell_type": "code",
   "execution_count": 10,
   "id": "2779248a-cb4a-469f-82fd-fe7612f676ca",
   "metadata": {},
   "outputs": [],
   "source": [
    "# Now i want to find in Woddy Allen properties, something linked to 'awards'"
   ]
  },
  {
   "cell_type": "code",
   "execution_count": 12,
   "id": "ba1cf3ef-6901-4f4a-b824-56e6e51cbb3b",
   "metadata": {},
   "outputs": [
    {
     "name": "stdout",
     "output_type": "stream",
     "text": [
      "Results\n",
      "[('p', 'http://www.wikidata.org/prop/direct/P166'), ('pname', 'award received')]\n"
     ]
    },
    {
     "data": {
      "text/plain": [
       "1"
      ]
     },
     "execution_count": 12,
     "metadata": {},
     "output_type": "execute_result"
    }
   ],
   "source": [
    "queryString = \"\"\"\n",
    "SELECT DISTINCT  ?p ?pname\n",
    "WHERE { \n",
    "\n",
    "wd:Q25089 ?p ?o .\n",
    "\n",
    "# this returns the labels\n",
    "    ?p <http://schema.org/name> ?pname .\n",
    "\n",
    "FILTER REGEX(?pname, \"award\")\n",
    "}\n",
    "\n",
    "ORDER BY ASC (?pname)\n",
    "LIMIT 20\n",
    "\n",
    "\"\"\"\n",
    "\n",
    "print(\"Results\")\n",
    "run_query(queryString)"
   ]
  },
  {
   "cell_type": "code",
   "execution_count": null,
   "id": "ed00c14f-aa34-429d-8190-77223b02aab2",
   "metadata": {},
   "outputs": [],
   "source": [
    "# GET: 'award received' --> wdt:P166 "
   ]
  },
  {
   "cell_type": "code",
   "execution_count": null,
   "id": "b3079d92-f163-4c23-9138-09f6b0db50fa",
   "metadata": {},
   "outputs": [],
   "source": [
    "# Use to find awards and analyze it"
   ]
  },
  {
   "cell_type": "code",
   "execution_count": 14,
   "id": "e1d6d664-ef81-4fa1-8704-765997a7803a",
   "metadata": {},
   "outputs": [
    {
     "name": "stdout",
     "output_type": "stream",
     "text": [
      "Results\n",
      "[('o', 'http://www.wikidata.org/entity/Q3404523'), ('oname', 'David di Donatello for Best Foreign Actor')]\n",
      "[('o', 'http://www.wikidata.org/entity/Q31579'), ('oname', 'David di Donatello')]\n",
      "[('o', 'http://www.wikidata.org/entity/Q3241784'), ('oname', 'Golden Lion for Lifetime Achievements')]\n",
      "[('o', 'http://www.wikidata.org/entity/Q50616934'), ('oname', 'honorary doctorate of Pompeu Fabra University')]\n",
      "[('o', 'http://www.wikidata.org/entity/Q3404587'), ('oname', 'FIPRESCI Prize of the Festival de Cannes')]\n",
      "[('o', 'http://www.wikidata.org/entity/Q3822438'), ('oname', 'Butaca Awards')]\n",
      "[('o', 'http://www.wikidata.org/entity/Q103360'), ('oname', 'Academy Award for Best Director')]\n",
      "[('o', 'http://www.wikidata.org/entity/Q13452531'), ('oname', 'Commandeur des Arts et des Lettres\\u200e')]\n",
      "[('o', 'http://www.wikidata.org/entity/Q139184'), ('oname', 'BAFTA Award for Best Film')]\n",
      "[('o', 'http://www.wikidata.org/entity/Q174389'), ('oname', 'César Award')]\n"
     ]
    },
    {
     "data": {
      "text/plain": [
       "10"
      ]
     },
     "execution_count": 14,
     "metadata": {},
     "output_type": "execute_result"
    }
   ],
   "source": [
    "queryString = \"\"\"\n",
    "SELECT DISTINCT  ?o ?oname\n",
    "WHERE { \n",
    "\n",
    "wd:Q25089 wdt:P166  ?o .      # ?o --> award\n",
    "\n",
    "# this returns the labels\n",
    "    ?o <http://schema.org/name> ?oname .\n",
    "\n",
    "\n",
    "}\n",
    "\n",
    "\n",
    "LIMIT 10\n",
    "\n",
    "\"\"\"\n",
    "\n",
    "print(\"Results\")\n",
    "run_query(queryString)"
   ]
  },
  {
   "cell_type": "code",
   "execution_count": null,
   "id": "ef81a2eb-fdd4-470b-9bed-19c71f534dad",
   "metadata": {},
   "outputs": [],
   "source": [
    "# GET: 'Academy Award for Best Director' --> wd:Q103360\n",
    "# Find his instance"
   ]
  },
  {
   "cell_type": "code",
   "execution_count": 15,
   "id": "7ae495dd-4128-471e-909f-b5f0c481cb09",
   "metadata": {},
   "outputs": [
    {
     "name": "stdout",
     "output_type": "stream",
     "text": [
      "Results\n",
      "[('o', 'http://www.wikidata.org/entity/Q96474679'), ('oname', 'award for best direction')]\n",
      "[('o', 'http://www.wikidata.org/entity/Q19020'), ('oname', 'Academy Awards')]\n"
     ]
    },
    {
     "data": {
      "text/plain": [
       "2"
      ]
     },
     "execution_count": 15,
     "metadata": {},
     "output_type": "execute_result"
    }
   ],
   "source": [
    "queryString = \"\"\"\n",
    "SELECT DISTINCT  ?o ?oname\n",
    "WHERE { \n",
    "\n",
    "wd:Q103360 wdt:P31  ?o .     \n",
    "\n",
    "# this returns the labels\n",
    "    ?o <http://schema.org/name> ?oname .\n",
    "\n",
    "\n",
    "}\n",
    "\n",
    "\n",
    "LIMIT 10\n",
    "\n",
    "\"\"\"\n",
    "\n",
    "print(\"Results\")\n",
    "run_query(queryString)"
   ]
  },
  {
   "cell_type": "code",
   "execution_count": null,
   "id": "2838ebc7-bdc1-4f1a-aade-f7032486d44e",
   "metadata": {},
   "outputs": [],
   "source": [
    "# GET: 'Academy Awards' --> wd:Q19020  (exactly what I was looking for)"
   ]
  },
  {
   "cell_type": "code",
   "execution_count": null,
   "id": "0595d81f-0f95-4169-87da-3e2a8cc860e4",
   "metadata": {},
   "outputs": [],
   "source": [
    "# Find all Academy Awards"
   ]
  },
  {
   "cell_type": "code",
   "execution_count": 2,
   "id": "302196ac-c350-498e-9478-1079de3a027d",
   "metadata": {},
   "outputs": [
    {
     "name": "stdout",
     "output_type": "stream",
     "text": [
      "Results\n",
      "[('awards', 'http://www.wikidata.org/entity/Q22235305'), ('awardsname', 'Academy Award for Best Original Musical or Comedy Score')]\n",
      "[('awards', 'http://www.wikidata.org/entity/Q21995136'), ('awardsname', 'Academy Award for Best Cinematography, Color')]\n",
      "[('awards', 'http://www.wikidata.org/entity/Q21995139'), ('awardsname', 'Academy Award for Best Cinematography, Black-and-White')]\n",
      "[('awards', 'http://www.wikidata.org/entity/Q22253131'), ('awardsname', 'Academy Award for Best Art Direction, Color')]\n",
      "[('awards', 'http://www.wikidata.org/entity/Q22752811'), ('awardsname', 'Academy Award for Best Score, Adaptation or Treatment')]\n",
      "[('awards', 'http://www.wikidata.org/entity/Q8610'), ('awardsname', 'Academy Scientific and Technical Award')]\n",
      "[('awards', 'http://www.wikidata.org/entity/Q1324407'), ('awardsname', 'Academy Award for Best Live Action Short Film')]\n",
      "[('awards', 'http://www.wikidata.org/entity/Q487136'), ('awardsname', 'Academy Award for Best Makeup and Hairstyling')]\n",
      "[('awards', 'http://www.wikidata.org/entity/Q504298'), ('awardsname', 'Academy Award for Best Story')]\n",
      "[('awards', 'http://www.wikidata.org/entity/Q2297175'), ('awardsname', 'Academy Award for Best Short Subject, Novelty')]\n"
     ]
    },
    {
     "data": {
      "text/plain": [
       "10"
      ]
     },
     "execution_count": 2,
     "metadata": {},
     "output_type": "execute_result"
    }
   ],
   "source": [
    "queryString = \"\"\"\n",
    "SELECT DISTINCT  ?awards ?awardsname\n",
    "WHERE { \n",
    "\n",
    "?awards wdt:P31  wd:Q19020  .     \n",
    "\n",
    "# this returns the labels\n",
    "    ?awards <http://schema.org/name> ?awardsname .\n",
    "\n",
    "\n",
    "}\n",
    "\n",
    "\n",
    "LIMIT 10\n",
    "\n",
    "\"\"\"\n",
    "\n",
    "print(\"Results\")\n",
    "run_query(queryString)"
   ]
  },
  {
   "cell_type": "code",
   "execution_count": null,
   "id": "b82c64a0-3a22-44cc-8fff-feccb08dabd0",
   "metadata": {},
   "outputs": [],
   "source": []
  },
  {
   "cell_type": "code",
   "execution_count": null,
   "id": "d18baabe-72b8-4e15-815f-3cf2cd1b57b6",
   "metadata": {},
   "outputs": [],
   "source": []
  },
  {
   "cell_type": "markdown",
   "id": "7202c54b-ce09-443f-8bc2-2cf9181aab72",
   "metadata": {
    "jp-MarkdownHeadingCollapsed": true,
    "tags": []
   },
   "source": [
    "## Task 7.2"
   ]
  },
  {
   "cell_type": "code",
   "execution_count": null,
   "id": "8022b1bb-d774-4dba-8d95-2f01abf7f5b0",
   "metadata": {},
   "outputs": [],
   "source": [
    "# 7.2 Find the related subproperties"
   ]
  },
  {
   "cell_type": "code",
   "execution_count": 6,
   "id": "763fd60f-9cad-4da0-8abc-b1e15ccc0b67",
   "metadata": {},
   "outputs": [
    {
     "name": "stdout",
     "output_type": "stream",
     "text": [
      "Results\n",
      "[('awards', 'http://www.wikidata.org/entity/Q22235305'), ('sp', 'http://www.wikidata.org/entity/Q22235305'), ('spname', 'Academy Award for Best Original Musical or Comedy Score')]\n",
      "[('awards', 'http://www.wikidata.org/entity/Q21995136'), ('sp', 'http://www.wikidata.org/entity/Q21995136'), ('spname', 'Academy Award for Best Cinematography, Color')]\n",
      "[('awards', 'http://www.wikidata.org/entity/Q21995139'), ('sp', 'http://www.wikidata.org/entity/Q21995139'), ('spname', 'Academy Award for Best Cinematography, Black-and-White')]\n",
      "[('awards', 'http://www.wikidata.org/entity/Q22253131'), ('sp', 'http://www.wikidata.org/entity/Q22253131'), ('spname', 'Academy Award for Best Art Direction, Color')]\n",
      "[('awards', 'http://www.wikidata.org/entity/Q22752811'), ('sp', 'http://www.wikidata.org/entity/Q22752811'), ('spname', 'Academy Award for Best Score, Adaptation or Treatment')]\n",
      "[('awards', 'http://www.wikidata.org/entity/Q8610'), ('sp', 'http://www.wikidata.org/entity/Q8610'), ('spname', 'Academy Scientific and Technical Award')]\n",
      "[('awards', 'http://www.wikidata.org/entity/Q1324407'), ('sp', 'http://www.wikidata.org/entity/Q1324407'), ('spname', 'Academy Award for Best Live Action Short Film')]\n",
      "[('awards', 'http://www.wikidata.org/entity/Q487136'), ('sp', 'http://www.wikidata.org/entity/Q487136'), ('spname', 'Academy Award for Best Makeup and Hairstyling')]\n",
      "[('awards', 'http://www.wikidata.org/entity/Q504298'), ('sp', 'http://www.wikidata.org/entity/Q504298'), ('spname', 'Academy Award for Best Story')]\n",
      "[('awards', 'http://www.wikidata.org/entity/Q2297175'), ('sp', 'http://www.wikidata.org/entity/Q2297175'), ('spname', 'Academy Award for Best Short Subject, Novelty')]\n"
     ]
    },
    {
     "data": {
      "text/plain": [
       "10"
      ]
     },
     "execution_count": 6,
     "metadata": {},
     "output_type": "execute_result"
    }
   ],
   "source": [
    "queryString = \"\"\"\n",
    "SELECT DISTINCT  ?awards  ?sp ?spname\n",
    "WHERE { \n",
    "\n",
    " ?awards wdt:P31  wd:Q19020 .\n",
    "  ?sp   wdt:P1647* ?awards.\n",
    "\n",
    "# this returns the labels\n",
    "    ?awards <http://schema.org/name> ?awardsname .\n",
    "?sp <http://schema.org/name> ?spname .\n",
    "\n",
    "}\n",
    "\n",
    "\n",
    "LIMIT 10\n",
    "\n",
    "\"\"\"\n",
    "\n",
    "print(\"Results\")\n",
    "run_query(queryString)"
   ]
  },
  {
   "cell_type": "markdown",
   "id": "48d9d654-b23b-4bdf-81e0-da923bd6df26",
   "metadata": {
    "jp-MarkdownHeadingCollapsed": true,
    "tags": []
   },
   "source": [
    "## Task 7.3"
   ]
  },
  {
   "cell_type": "code",
   "execution_count": null,
   "id": "d406f90c-f602-4ebc-a34a-cede60499994",
   "metadata": {},
   "outputs": [],
   "source": [
    "# 7.3 Find how they are related to the directors"
   ]
  },
  {
   "cell_type": "code",
   "execution_count": 4,
   "id": "6a43973a-d287-4c46-8ac8-9696a99079c0",
   "metadata": {},
   "outputs": [
    {
     "name": "stdout",
     "output_type": "stream",
     "text": [
      "Results\n",
      "[('p', 'http://www.wikidata.org/prop/direct/P1411'), ('pname', 'nominated for')]\n",
      "[('p', 'http://www.wikidata.org/prop/direct/P166'), ('pname', 'award received')]\n"
     ]
    },
    {
     "data": {
      "text/plain": [
       "2"
      ]
     },
     "execution_count": 4,
     "metadata": {},
     "output_type": "execute_result"
    }
   ],
   "source": [
    "queryString = \"\"\"\n",
    "SELECT DISTINCT ?p ?pname\n",
    "WHERE { \n",
    "\n",
    "?awards wdt:P31  wd:Q19020  .     \n",
    "\n",
    "\n",
    "?fd wdt:P106 wd:Q2526255 ;       # ?fd --> film directors\n",
    "     wdt:P31  wd:Q5 ;\n",
    "     ?p ?awards .\n",
    " \n",
    "\n",
    " \n",
    "# this returns the labels\n",
    "   \n",
    "    ?fd <http://schema.org/name> ?fdname .\n",
    "    ?awards <http://schema.org/name> ?awardsname .\n",
    "    ?p <http://schema.org/name> ?pname .\n",
    "}\n",
    "\n",
    "\n",
    "LIMIT 10\n",
    "\n",
    "\"\"\"\n",
    "\n",
    "print(\"Results\")\n",
    "run_query(queryString)"
   ]
  },
  {
   "cell_type": "markdown",
   "id": "b95dab30-5aba-4584-8308-ca6901e55e96",
   "metadata": {
    "jp-MarkdownHeadingCollapsed": true,
    "tags": []
   },
   "source": [
    "## Task 7.4"
   ]
  },
  {
   "cell_type": "code",
   "execution_count": null,
   "id": "c1267b33-d010-4c67-b483-e756d8dbf6f2",
   "metadata": {},
   "outputs": [],
   "source": [
    "# 7.4 Are there alternative queries to get the same result?"
   ]
  },
  {
   "cell_type": "code",
   "execution_count": 7,
   "id": "a69aee1a-9f2f-4a75-8b63-cf0afe362f64",
   "metadata": {},
   "outputs": [],
   "source": [
    "# Who has films with more nominations for Academy Awards and who won more Academy Awards (with his films \n",
    "# not only personal awards)."
   ]
  },
  {
   "cell_type": "code",
   "execution_count": null,
   "id": "a6e1cc10-8328-435a-b4dc-2750ee76682e",
   "metadata": {},
   "outputs": [],
   "source": [
    "# Look now for all directors that direct a film and his nominations"
   ]
  },
  {
   "cell_type": "code",
   "execution_count": 8,
   "id": "ffd242a0-468f-480a-9c57-a82ca37cf741",
   "metadata": {},
   "outputs": [
    {
     "name": "stdout",
     "output_type": "stream",
     "text": [
      "Results\n",
      "[('fd', 'http://www.wikidata.org/entity/Q2052126'), ('fdname', 'Pare Lorentz'), ('filmname', 'The Fight for Life'), ('nominame', 'Academy Award for Best Original Score')]\n",
      "[('fd', 'http://www.wikidata.org/entity/Q17582678'), ('fdname', 'Yervant Gianikian'), ('filmname', \"Angela's Diaries\"), ('nominame', 'IFFR audience award')]\n",
      "[('fd', 'http://www.wikidata.org/entity/Q17582684'), ('fdname', 'Angela Ricci Lucchi'), ('filmname', \"Angela's Diaries\"), ('nominame', 'IFFR audience award')]\n",
      "[('fd', 'http://www.wikidata.org/entity/Q6290103'), ('fdname', 'Joshua Oppenheimer'), ('filmname', 'The Look of Silence'), ('nominame', 'European Film Award for Best Documentary')]\n",
      "[('fd', 'http://www.wikidata.org/entity/Q6290103'), ('fdname', 'Joshua Oppenheimer'), ('filmname', 'The Act of Killing'), ('nominame', 'European Film Award for Best Documentary')]\n",
      "[('fd', 'http://www.wikidata.org/entity/Q6290103'), ('fdname', 'Joshua Oppenheimer'), ('filmname', 'The Look of Silence'), ('nominame', 'Academy Award for Best Documentary Feature')]\n",
      "[('fd', 'http://www.wikidata.org/entity/Q6290103'), ('fdname', 'Joshua Oppenheimer'), ('filmname', 'The Act of Killing'), ('nominame', 'Academy Award for Best Documentary Feature')]\n",
      "[('fd', 'http://www.wikidata.org/entity/Q59599037'), ('fdname', 'Lee Kwang-kuk'), ('filmname', 'A Matter of Interpretation'), ('nominame', 'IFFR audience award')]\n",
      "[('fd', 'http://www.wikidata.org/entity/Q89884'), ('fdname', 'Burhan Qurbani'), ('filmname', 'We Are Young. We Are Strong.'), ('nominame', 'IFFR audience award')]\n",
      "[('fd', 'http://www.wikidata.org/entity/Q1381665'), ('fdname', 'Aleksei Fedorchenko'), ('filmname', 'Angels of Revolution'), ('nominame', 'IFFR audience award')]\n"
     ]
    },
    {
     "data": {
      "text/plain": [
       "10"
      ]
     },
     "execution_count": 8,
     "metadata": {},
     "output_type": "execute_result"
    }
   ],
   "source": [
    "queryString = \"\"\"\n",
    "SELECT DISTINCT  ?fd ?fdname ?filmname ?nominame\n",
    "WHERE { \n",
    "\n",
    " \n",
    " ?win wdt:P31  wd:Q19020  .\n",
    " \n",
    " ?film wdt:P31 wd:Q11424 .\n",
    "  \n",
    " ?fd wdt:P106 wd:Q2526255 ;       # ?fd --> film directors\n",
    "     wdt:P31  wd:Q5 .\n",
    " \n",
    " ?film wdt:P57 ?fd ;\n",
    "       wdt:P1411 ?nomi .\n",
    "     \n",
    " \n",
    " \n",
    "        \n",
    " \n",
    " \n",
    "# this returns the labels\n",
    "    ?film <http://schema.org/name> ?filmname .\n",
    "\n",
    " \n",
    "# this returns the labels\n",
    "   \n",
    "    ?fd <http://schema.org/name> ?fdname .\n",
    "    \n",
    "    ?nomi <http://schema.org/name> ?nominame .\n",
    "}\n",
    "LIMIT 10\n",
    "\n",
    "\"\"\"\n",
    "\n",
    "print(\"Results\")\n",
    "run_query(queryString)"
   ]
  },
  {
   "cell_type": "code",
   "execution_count": null,
   "id": "d487472f-6d25-4316-b8dd-032392dafee2",
   "metadata": {},
   "outputs": [],
   "source": [
    "# Now count the nominations for films linked to director"
   ]
  },
  {
   "cell_type": "code",
   "execution_count": 7,
   "id": "87db7ed3-c9aa-4939-b182-9d6f7ad5f41e",
   "metadata": {},
   "outputs": [
    {
     "name": "stdout",
     "output_type": "stream",
     "text": [
      "Results\n",
      "[('fd', 'http://www.wikidata.org/entity/Q55258'), ('fdname', 'Stephen Frears'), ('num_film_nominations', '93')]\n",
      "[('fd', 'http://www.wikidata.org/entity/Q193628'), ('fdname', 'Sofia Coppola'), ('num_film_nominations', '81')]\n",
      "[('fd', 'http://www.wikidata.org/entity/Q295964'), ('fdname', 'Jon Favreau'), ('num_film_nominations', '73')]\n",
      "[('fd', 'http://www.wikidata.org/entity/Q55424'), ('fdname', 'Peter Weir'), ('num_film_nominations', '59')]\n",
      "[('fd', 'http://www.wikidata.org/entity/Q314342'), ('fdname', 'David O. Russell'), ('num_film_nominations', '54')]\n",
      "[('fd', 'http://www.wikidata.org/entity/Q3772'), ('fdname', 'Quentin Tarantino'), ('num_film_nominations', '50')]\n",
      "[('fd', 'http://www.wikidata.org/entity/Q230448'), ('fdname', 'Jane Campion'), ('num_film_nominations', '47')]\n",
      "[('fd', 'http://www.wikidata.org/entity/Q48987'), ('fdname', 'Jonathan Demme'), ('num_film_nominations', '46')]\n",
      "[('fd', 'http://www.wikidata.org/entity/Q103646'), ('fdname', 'Ron Howard'), ('num_film_nominations', '45')]\n",
      "[('fd', 'http://www.wikidata.org/entity/Q43203'), ('fdname', 'Clint Eastwood'), ('num_film_nominations', '43')]\n"
     ]
    },
    {
     "data": {
      "text/plain": [
       "10"
      ]
     },
     "execution_count": 7,
     "metadata": {},
     "output_type": "execute_result"
    }
   ],
   "source": [
    "queryString = \"\"\"\n",
    "SELECT DISTINCT  ?fd ?fdname (count(distinct ?nominame) as ?num_film_nominations)\n",
    "WHERE { \n",
    "\n",
    "\n",
    " ?win wdt:P31  wd:Q19020  .\n",
    " ?film wdt:P31 wd:Q11424 .\n",
    "  \n",
    " ?fd wdt:P106 wd:Q2526255 ;       # ?fd --> film directors\n",
    "     wdt:P31  wd:Q5 .\n",
    " \n",
    " ?film wdt:P57 ?fd ;\n",
    "       wdt:P1411 ?nomi .\n",
    "     \n",
    " \n",
    " \n",
    "        \n",
    " \n",
    " \n",
    "# this returns the labels\n",
    "    ?film <http://schema.org/name> ?filmname .\n",
    "\n",
    " \n",
    "# this returns the labels\n",
    "   \n",
    "    ?fd <http://schema.org/name> ?fdname .\n",
    "    \n",
    "    ?nomi <http://schema.org/name> ?nominame .\n",
    "}\n",
    "\n",
    "ORDER BY DESC (?num_film_nominations)\n",
    "LIMIT 10\n",
    "\n",
    "\"\"\"\n",
    "\n",
    "print(\"Results\")\n",
    "run_query(queryString)"
   ]
  },
  {
   "cell_type": "code",
   "execution_count": null,
   "id": "26336ae2-9e1a-4839-a3b9-ee8a9928e8bb",
   "metadata": {},
   "outputs": [],
   "source": [
    "# Now count the winner for films linked to director"
   ]
  },
  {
   "cell_type": "code",
   "execution_count": 6,
   "id": "705954ff-204c-4e43-991b-de83ac24ed11",
   "metadata": {},
   "outputs": [
    {
     "name": "stdout",
     "output_type": "stream",
     "text": [
      "Results\n",
      "[('fd', 'http://www.wikidata.org/entity/Q51495'), ('fdname', 'William Wyler'), ('num_film_winners', '41')]\n",
      "[('fd', 'http://www.wikidata.org/entity/Q8877'), ('fdname', 'Steven Spielberg'), ('num_film_winners', '32')]\n",
      "[('fd', 'http://www.wikidata.org/entity/Q56014'), ('fdname', 'George Cukor'), ('num_film_winners', '30')]\n",
      "[('fd', 'http://www.wikidata.org/entity/Q55260'), ('fdname', 'David Lean'), ('num_film_winners', '30')]\n",
      "[('fd', 'http://www.wikidata.org/entity/Q55420'), ('fdname', 'Fred Zinnemann'), ('num_film_winners', '23')]\n",
      "[('fd', 'http://www.wikidata.org/entity/Q51114'), ('fdname', 'John Ford'), ('num_film_winners', '21')]\n",
      "[('fd', 'http://www.wikidata.org/entity/Q72717'), ('fdname', 'Elia Kazan'), ('num_film_winners', '21')]\n",
      "[('fd', 'http://www.wikidata.org/entity/Q51535'), ('fdname', 'Vincente Minnelli'), ('num_film_winners', '21')]\n",
      "[('fd', 'http://www.wikidata.org/entity/Q4465'), ('fdname', 'Peter Jackson'), ('num_film_winners', '20')]\n",
      "[('fd', 'http://www.wikidata.org/entity/Q41148'), ('fdname', 'Martin Scorsese'), ('num_film_winners', '20')]\n"
     ]
    },
    {
     "data": {
      "text/plain": [
       "10"
      ]
     },
     "execution_count": 6,
     "metadata": {},
     "output_type": "execute_result"
    }
   ],
   "source": [
    "queryString = \"\"\"\n",
    "SELECT DISTINCT  ?fd ?fdname (count(?winame) as ?num_film_winners)\n",
    "WHERE { \n",
    "\n",
    " ?win wdt:P31  wd:Q19020  .\n",
    " ?film wdt:P31 wd:Q11424 .\n",
    "  \n",
    " ?fd wdt:P106 wd:Q2526255 ;       # ?fd --> film directors\n",
    "     wdt:P31  wd:Q5 .\n",
    " \n",
    " ?film wdt:P57 ?fd ;\n",
    "       wdt:P166 ?win .\n",
    "     \n",
    " \n",
    " \n",
    "        \n",
    " \n",
    " \n",
    "# this returns the labels\n",
    "    ?film <http://schema.org/name> ?filmname .\n",
    "\n",
    " \n",
    "# this returns the labels\n",
    "   \n",
    "    ?fd <http://schema.org/name> ?fdname .\n",
    "    \n",
    "    ?win <http://schema.org/name> ?winame .\n",
    "}\n",
    "\n",
    "ORDER BY DESC (?num_film_winners)\n",
    "LIMIT 10\n",
    "\n",
    "\"\"\"\n",
    "\n",
    "print(\"Results\")\n",
    "run_query(queryString)"
   ]
  },
  {
   "cell_type": "code",
   "execution_count": null,
   "id": "7653342a-1950-4528-b528-fd2aa5e56cdd",
   "metadata": {},
   "outputs": [],
   "source": []
  },
  {
   "cell_type": "code",
   "execution_count": 17,
   "id": "577ddda0-cde1-4b7c-a6e7-2649d605f7fa",
   "metadata": {},
   "outputs": [],
   "source": [
    "# Now count the nominations for director"
   ]
  },
  {
   "cell_type": "code",
   "execution_count": 5,
   "id": "76222c1d-6a9c-4df5-a2cc-7df89bfebf1f",
   "metadata": {},
   "outputs": [
    {
     "name": "stdout",
     "output_type": "stream",
     "text": [
      "Results\n",
      "[('fd', 'http://www.wikidata.org/entity/Q313281'), ('fdname', 'Michel Legrand'), ('num_nominations', '6')]\n",
      "[('fd', 'http://www.wikidata.org/entity/Q8704'), ('fdname', 'Walt Disney'), ('num_nominations', '6')]\n",
      "[('fd', 'http://www.wikidata.org/entity/Q23844'), ('fdname', 'George Clooney'), ('num_nominations', '6')]\n",
      "[('fd', 'http://www.wikidata.org/entity/Q55294'), ('fdname', 'Kenneth Branagh'), ('num_nominations', '5')]\n",
      "[('fd', 'http://www.wikidata.org/entity/Q51547'), ('fdname', 'Billy Wilder'), ('num_nominations', '5')]\n",
      "[('fd', 'http://www.wikidata.org/entity/Q51575'), ('fdname', 'John Huston'), ('num_nominations', '5')]\n",
      "[('fd', 'http://www.wikidata.org/entity/Q13595531'), ('fdname', 'Ethan Coen'), ('num_nominations', '5')]\n",
      "[('fd', 'http://www.wikidata.org/entity/Q2001'), ('fdname', 'Stanley Kubrick'), ('num_nominations', '5')]\n",
      "[('fd', 'http://www.wikidata.org/entity/Q28028'), ('fdname', 'Alfonso Cuarón'), ('num_nominations', '5')]\n",
      "[('fd', 'http://www.wikidata.org/entity/Q95030'), ('fdname', 'Warren Beatty'), ('num_nominations', '5')]\n"
     ]
    },
    {
     "data": {
      "text/plain": [
       "10"
      ]
     },
     "execution_count": 5,
     "metadata": {},
     "output_type": "execute_result"
    }
   ],
   "source": [
    "queryString = \"\"\"\n",
    "SELECT DISTINCT  ?fd ?fdname (count(distinct ?nominame) as ?num_nominations)\n",
    "WHERE { \n",
    "\n",
    " ?nomi wdt:P31  wd:Q19020  .\n",
    "\n",
    " ?fd wdt:P106 wd:Q2526255 ;       # ?fd --> film directors\n",
    "     wdt:P31  wd:Q5 ;\n",
    "     wdt:P1411 ?nomi .\n",
    "\n",
    "\n",
    " \n",
    "# this returns the labels\n",
    "   \n",
    "    ?fd <http://schema.org/name> ?fdname .\n",
    "    \n",
    "    ?nomi <http://schema.org/name> ?nominame .\n",
    "}\n",
    "\n",
    "ORDER BY DESC (?num_nominations)\n",
    "LIMIT 10\n",
    "\n",
    "\"\"\"\n",
    "\n",
    "print(\"Results\")\n",
    "run_query(queryString)"
   ]
  },
  {
   "cell_type": "code",
   "execution_count": null,
   "id": "dd48bd79-9925-4a3f-9eda-5966ce2f6387",
   "metadata": {},
   "outputs": [],
   "source": [
    "# Now count the winners for director"
   ]
  },
  {
   "cell_type": "code",
   "execution_count": 4,
   "id": "0ddd40cd-26e3-4ae7-97a7-335f5ac96669",
   "metadata": {},
   "outputs": [
    {
     "name": "stdout",
     "output_type": "stream",
     "text": [
      "Results\n",
      "[('fd', 'http://www.wikidata.org/entity/Q8704'), ('fdname', 'Walt Disney'), ('num_winners', '7')]\n",
      "[('fd', 'http://www.wikidata.org/entity/Q51547'), ('fdname', 'Billy Wilder'), ('num_winners', '4')]\n",
      "[('fd', 'http://www.wikidata.org/entity/Q13595531'), ('fdname', 'Ethan Coen'), ('num_winners', '4')]\n",
      "[('fd', 'http://www.wikidata.org/entity/Q13595311'), ('fdname', 'Joel Coen'), ('num_winners', '4')]\n",
      "[('fd', 'http://www.wikidata.org/entity/Q56094'), ('fdname', 'Francis Ford Coppola'), ('num_winners', '4')]\n",
      "[('fd', 'http://www.wikidata.org/entity/Q42574'), ('fdname', 'James Cameron'), ('num_winners', '3')]\n",
      "[('fd', 'http://www.wikidata.org/entity/Q1999598'), ('fdname', 'Richard Williams'), ('num_winners', '3')]\n",
      "[('fd', 'http://www.wikidata.org/entity/Q59085'), ('fdname', 'Robert Benton'), ('num_winners', '3')]\n",
      "[('fd', 'http://www.wikidata.org/entity/Q43203'), ('fdname', 'Clint Eastwood'), ('num_winners', '3')]\n",
      "[('fd', 'http://www.wikidata.org/entity/Q95125'), ('fdname', 'James L. Brooks'), ('num_winners', '3')]\n"
     ]
    },
    {
     "data": {
      "text/plain": [
       "10"
      ]
     },
     "execution_count": 4,
     "metadata": {},
     "output_type": "execute_result"
    }
   ],
   "source": [
    "queryString = \"\"\"\n",
    "SELECT DISTINCT  ?fd ?fdname (count(distinct ?winname) as ?num_winners)\n",
    "WHERE { \n",
    "\n",
    "\n",
    " ?win wdt:P31  wd:Q19020  .\n",
    "\n",
    " ?fd wdt:P106 wd:Q2526255 ;       # ?fd --> film directors\n",
    "     wdt:P31  wd:Q5 ;\n",
    "     wdt:P166 ?win .\n",
    "\n",
    "\n",
    " \n",
    "# this returns the labels\n",
    "   \n",
    "    ?fd <http://schema.org/name> ?fdname .\n",
    "    \n",
    "    ?win <http://schema.org/name> ?winname .\n",
    "}\n",
    "\n",
    "ORDER BY DESC (?num_winners)\n",
    "LIMIT 10\n",
    "\n",
    "\"\"\"\n",
    "\n",
    "print(\"Results\")\n",
    "run_query(queryString)"
   ]
  },
  {
   "cell_type": "code",
   "execution_count": null,
   "id": "9be9df85-ad5f-447d-aff9-ec8c81f316fb",
   "metadata": {},
   "outputs": [],
   "source": []
  },
  {
   "cell_type": "code",
   "execution_count": null,
   "id": "8600edcb-8fa3-4164-8ba3-7702f9a1d09d",
   "metadata": {},
   "outputs": [],
   "source": []
  }
 ],
 "metadata": {
  "kernelspec": {
   "display_name": "Python 3",
   "language": "python",
   "name": "python3"
  },
  "language_info": {
   "codemirror_mode": {
    "name": "ipython",
    "version": 3
   },
   "file_extension": ".py",
   "mimetype": "text/x-python",
   "name": "python",
   "nbconvert_exporter": "python",
   "pygments_lexer": "ipython3",
   "version": "3.7.10"
  }
 },
 "nbformat": 4,
 "nbformat_minor": 5
}
