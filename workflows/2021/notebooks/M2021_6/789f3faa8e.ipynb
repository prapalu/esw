{
 "cells": [
  {
   "cell_type": "markdown",
   "id": "7034c3bf-6eb0-4418-8687-7b9d2a501103",
   "metadata": {},
   "source": [
    "# General instructions\n",
    "\n",
    "The goal of the project is to materialize a set of **exploratory workloads** over a real-world, large-scale,  open-domain KG: [WikiData](https://www.wikidata.org/wiki/Wikidata:Main_Page)\n",
    "\n",
    "An exploratory workload  is composed by a set of queries, where each query is related to the information obtained previously.\n",
    "\n",
    "An exploratory workload starts with a usually vague, open ended question, and does not assume the person issuing the workload has a clear understanding of the data contained in the target database or its structure.\n",
    "\n",
    "Remeber that:\n",
    "\n",
    "1. All the queries must run in the python notebook\n",
    "2. You can use classes and properties only if you find them via a SPARQL query that must be present in the notebook\n",
    "3. You do not delete useless queries. Keep everything that is synthatically valid \n",
    "\n",
    "```\n",
    "?p <http://schema.org/name> ?name .\n",
    "```\n",
    "    \n",
    "is the BGP returning a human-readable name of a property or a class in Wikidata.\n",
    "    \n",
    "    "
   ]
  },
  {
   "cell_type": "code",
   "execution_count": 2,
   "id": "3605c9d5-5371-49a5-be8d-d66e8f417139",
   "metadata": {},
   "outputs": [],
   "source": [
    "## SETUP used later\n",
    "\n",
    "from SPARQLWrapper import SPARQLWrapper, JSON\n",
    "\n",
    "\n",
    "prefixString = \"\"\"\n",
    "##-NOTEBOOK_CODE_HERE-##\n",
    "PREFIX wd: <http://www.wikidata.org/entity/> \n",
    "PREFIX wdt: <http://www.wikidata.org/prop/direct/> \n",
    "PREFIX sc: <http://schema.org/>\n",
    "\"\"\"\n",
    "\n",
    "# select and construct queries\n",
    "def run_query(queryString):\n",
    "    to_run = prefixString + \"\\n\" + queryString\n",
    "\n",
    "    sparql = SPARQLWrapper(\"http://a256-gc1-02.srv.aau.dk:5820/sparql\")\n",
    "    sparql.setTimeout(300)\n",
    "    sparql.setReturnFormat(JSON)\n",
    "    sparql.setQuery(to_run)\n",
    "\n",
    "    try :\n",
    "       results = sparql.query()\n",
    "       json_results = results.convert()\n",
    "       if len(json_results['results']['bindings'])==0:\n",
    "          print(\"Empty\")\n",
    "          return 0\n",
    "    \n",
    "       for bindings in json_results['results']['bindings']:\n",
    "          print( [ (var, value['value'])  for var, value in bindings.items() ] )\n",
    "\n",
    "       return len(json_results['results']['bindings'])\n",
    "\n",
    "    except Exception as e :\n",
    "        print(\"The operation failed\", e)\n",
    "    \n",
    "# ASk queries\n",
    "def run_ask_query(queryString):\n",
    "    to_run = prefixString + \"\\n\" + queryString\n",
    "\n",
    "    sparql = SPARQLWrapper(\"http://a256-gc1-02.srv.aau.dk:5820/sparql\")\n",
    "    sparql.setTimeout(300)\n",
    "    sparql.setReturnFormat(JSON)\n",
    "    sparql.setQuery(to_run)\n",
    "\n",
    "    try :\n",
    "        return sparql.query().convert()\n",
    "\n",
    "    except Exception as e :\n",
    "        print(\"The operation failed\", e)\n"
   ]
  },
  {
   "cell_type": "markdown",
   "id": "d477a59c-a68c-4c8f-9f97-8ca5294d7d27",
   "metadata": {},
   "source": [
    "# Politics Workflow Series (\"Presidents of countries\") \n",
    "\n",
    "Consider the following exploratory information need:\n",
    "\n",
    "> You investigating presidents of the republic, or similar roles, across international states around the world"
   ]
  },
  {
   "cell_type": "markdown",
   "id": "4a45c0ba-f79e-441d-bec5-84401b09db70",
   "metadata": {},
   "source": [
    "## Useful URIs for the current workflow\n",
    "\n",
    "\n",
    "The following are given:\n",
    "\n",
    "| IRI           | Description   | Role      |\n",
    "| -----------   | -----------   |-----------|\n",
    "| `wdt:P1647`   | subproperty   | predicate |\n",
    "| `wdt:P31`     | instance of   | predicate |\n",
    "| `wdt:P279`    | subclass      | predicate |\n",
    "| `wdt:P17`     | country       | predicate |\n",
    "| `wdt:P27`     | citizenship   | predicate |\n",
    "| `wdt:P39`     | position held   | predicate |\n",
    "| `wd:Q248577`  | President of the republic | node      |\n",
    "| `wd:Q11696`   | President of U.S.A.      | node      |\n",
    "| `wd:Q332711`  | President of Italy        | node |\n",
    "| `wd:Q38`      | Italy          | node |\n",
    "| `wd:Q30`      | U.S.A.        | node |\n",
    "\n",
    "\n",
    "\n",
    "Also consider\n",
    "\n",
    "```\n",
    "?p wdt:P39/wdt:P279* wd:Q248577  .  \n",
    "```\n",
    "\n",
    "is the BGP to retrieve all **presidents of the world countries through history**"
   ]
  },
  {
   "cell_type": "markdown",
   "id": "7af439fb-96e4-4dbb-a381-f19afab79f86",
   "metadata": {
    "tags": []
   },
   "source": [
    "## Workload Goals\n",
    "\n",
    "1. Identify the BGP for obtaining important attributes for people, e.g., date of birth/death, gender, profession \n",
    "\n",
    "2. Identify the BGP to retrieve countries with  had at least once had a president\n",
    "\n",
    "3. When was the first president of each country born? How many presidents each country had?\n",
    "\n",
    "4. Is there a country that had at some point a woman as a president?\n",
    "\n",
    "5. Analyze the number of presidents per country through time\n",
    " \n",
    "   5.1 What are the top-5 countries for number of presidents? Which countries had the least?\n",
    "   \n",
    "   5.2 For how many presidents we know a date of death in each country?\n",
    "   \n",
    "   5.3 Which are the professions of different presidents? How many presidents had a specific profession?\n"
   ]
  },
  {
   "cell_type": "code",
   "execution_count": 2,
   "id": "24a853ab-830c-422c-afd3-e9e015b8b8ed",
   "metadata": {},
   "outputs": [],
   "source": [
    "# start your workflow here"
   ]
  },
  {
   "cell_type": "code",
   "execution_count": 4,
   "id": "63a7b74b-fb59-464c-80ee-83ba2308ba12",
   "metadata": {},
   "outputs": [
    {
     "name": "stdout",
     "output_type": "stream",
     "text": [
      "Results\n",
      "[('callret-0', '1649')]\n"
     ]
    },
    {
     "data": {
      "text/plain": [
       "1"
      ]
     },
     "execution_count": 4,
     "metadata": {},
     "output_type": "execute_result"
    }
   ],
   "source": [
    "queryString = \"\"\"\n",
    "SELECT COUNT(*)\n",
    "WHERE { \n",
    "\n",
    "?p wdt:P39/wdt:P279* wd:Q248577  . \n",
    "} \n",
    "\"\"\"\n",
    "\n",
    "print(\"Results\")\n",
    "run_query(queryString)"
   ]
  },
  {
   "cell_type": "markdown",
   "id": "945f6e1f-a232-44c2-b07c-7aee659c62c4",
   "metadata": {},
   "source": [
    "# Workload 1"
   ]
  },
  {
   "cell_type": "code",
   "execution_count": 8,
   "id": "274cf096-c760-4cd7-9d96-5dc6017bdcca",
   "metadata": {},
   "outputs": [],
   "source": [
    "# 1. Identify the BGP for obtaining important attributes for people, e.g., date of birth/death, gender, profession"
   ]
  },
  {
   "cell_type": "code",
   "execution_count": 9,
   "id": "d75b74d3-5a36-4832-a66f-0ed6822c88ac",
   "metadata": {},
   "outputs": [],
   "source": [
    "# Find all the presidents"
   ]
  },
  {
   "cell_type": "code",
   "execution_count": 10,
   "id": "1e179849-e082-4ee8-8cac-fe4733ee2ab4",
   "metadata": {},
   "outputs": [
    {
     "name": "stdout",
     "output_type": "stream",
     "text": [
      "Results\n",
      "[('president', 'http://www.wikidata.org/entity/Q14345'), ('presidentname', 'Roh Moo-hyun')]\n",
      "[('president', 'http://www.wikidata.org/entity/Q472323'), ('presidentname', 'Ranasinghe Premadasa')]\n",
      "[('president', 'http://www.wikidata.org/entity/Q193062'), ('presidentname', 'Raúl Alfonsín')]\n",
      "[('president', 'http://www.wikidata.org/entity/Q382830'), ('presidentname', 'Delfim Moreira')]\n",
      "[('president', 'http://www.wikidata.org/entity/Q81215'), ('presidentname', 'Petar Stoyanov')]\n",
      "[('president', 'http://www.wikidata.org/entity/Q3514836'), ('presidentname', 'Tammam Salam')]\n",
      "[('president', 'http://www.wikidata.org/entity/Q15029'), ('presidentname', 'Hu Jintao')]\n",
      "[('president', 'http://www.wikidata.org/entity/Q206479'), ('presidentname', 'Émile Lahoud')]\n",
      "[('president', 'http://www.wikidata.org/entity/Q57478'), ('presidentname', 'Nicolae Nasoc')]\n",
      "[('president', 'http://www.wikidata.org/entity/Q57634'), ('presidentname', 'Hashim Thaçi')]\n"
     ]
    },
    {
     "data": {
      "text/plain": [
       "10"
      ]
     },
     "execution_count": 10,
     "metadata": {},
     "output_type": "execute_result"
    }
   ],
   "source": [
    "queryString = \"\"\"\n",
    "SELECT ?president ?presidentname\n",
    "WHERE { \n",
    "\n",
    "?president wdt:P39/wdt:P279* wd:Q248577  . \n",
    "\n",
    "?president <http://schema.org/name> ?presidentname .\n",
    "\n",
    "} \n",
    "LIMIT 10\n",
    "\"\"\"\n",
    "\n",
    "print(\"Results\")\n",
    "run_query(queryString)"
   ]
  },
  {
   "cell_type": "code",
   "execution_count": null,
   "id": "ed250668-544c-4a3a-bf50-3680100fc4aa",
   "metadata": {},
   "outputs": [],
   "source": [
    "# find president instance of ... to select human president "
   ]
  },
  {
   "cell_type": "code",
   "execution_count": 142,
   "id": "50da08d0-e0d7-40c6-b5ed-03aeafd7cdff",
   "metadata": {},
   "outputs": [
    {
     "name": "stdout",
     "output_type": "stream",
     "text": [
      "Results\n",
      "[('president', 'http://www.wikidata.org/entity/Q3545001'), ('presidentname', 'Gonzo the Mechanical Bastard'), ('s', 'http://www.wikidata.org/entity/Q1114461'), ('sname', 'comics character')]\n",
      "[('president', 'http://www.wikidata.org/entity/Q5297058'), ('presidentname', 'Doom 2099'), ('s', 'http://www.wikidata.org/entity/Q1114461'), ('sname', 'comics character')]\n",
      "[('president', 'http://www.wikidata.org/entity/Q4003185'), ('presidentname', 'Ultimate Thor'), ('s', 'http://www.wikidata.org/entity/Q1114461'), ('sname', 'comics character')]\n",
      "[('president', 'http://www.wikidata.org/entity/Q7880141'), ('presidentname', 'Ultimate Captain America'), ('s', 'http://www.wikidata.org/entity/Q1114461'), ('sname', 'comics character')]\n",
      "[('president', 'http://www.wikidata.org/entity/Q7242478'), ('presidentname', 'Prez'), ('s', 'http://www.wikidata.org/entity/Q1114461'), ('sname', 'comics character')]\n",
      "[('president', 'http://www.wikidata.org/entity/Q3545001'), ('presidentname', 'Gonzo the Mechanical Bastard'), ('s', 'http://www.wikidata.org/entity/Q1307329'), ('sname', 'extraterrestrials in fiction')]\n",
      "[('president', 'http://www.wikidata.org/entity/Q3545001'), ('presidentname', 'Gonzo the Mechanical Bastard'), ('s', 'http://www.wikidata.org/entity/Q18327510'), ('sname', 'fictional robot')]\n",
      "[('president', 'http://www.wikidata.org/entity/Q3545001'), ('presidentname', 'Gonzo the Mechanical Bastard'), ('s', 'http://www.wikidata.org/entity/Q95074'), ('sname', 'fictional character')]\n",
      "[('president', 'http://www.wikidata.org/entity/Q7880141'), ('presidentname', 'Ultimate Captain America'), ('s', 'http://www.wikidata.org/entity/Q95074'), ('sname', 'fictional character')]\n",
      "[('president', 'http://www.wikidata.org/entity/Q7242478'), ('presidentname', 'Prez'), ('s', 'http://www.wikidata.org/entity/Q95074'), ('sname', 'fictional character')]\n",
      "[('president', 'http://www.wikidata.org/entity/Q6852041'), ('presidentname', 'Honduran military junta of 1956–1957'), ('s', 'http://www.wikidata.org/entity/Q83204'), ('sname', 'triumvirate')]\n",
      "[('president', 'http://www.wikidata.org/entity/Q23894023'), ('presidentname', 'Glenallen Walken'), ('s', 'http://www.wikidata.org/entity/Q15632617'), ('sname', 'fictional human')]\n",
      "[('president', 'http://www.wikidata.org/entity/Q47622'), ('presidentname', 'Mr. Garrison'), ('s', 'http://www.wikidata.org/entity/Q15632617'), ('sname', 'fictional human')]\n",
      "[('president', 'http://www.wikidata.org/entity/Q2719854'), ('presidentname', 'Wayne Palmer'), ('s', 'http://www.wikidata.org/entity/Q15632617'), ('sname', 'fictional human')]\n",
      "[('president', 'http://www.wikidata.org/entity/Q107054330'), ('presidentname', 'Phil Baker'), ('s', 'http://www.wikidata.org/entity/Q15632617'), ('sname', 'fictional human')]\n",
      "[('president', 'http://www.wikidata.org/entity/Q14915624'), ('presidentname', 'Claire Underwood'), ('s', 'http://www.wikidata.org/entity/Q15632617'), ('sname', 'fictional human')]\n",
      "[('president', 'http://www.wikidata.org/entity/Q3438922'), ('presidentname', 'Roger Durling'), ('s', 'http://www.wikidata.org/entity/Q15632617'), ('sname', 'fictional human')]\n",
      "[('president', 'http://www.wikidata.org/entity/Q8066924'), ('presidentname', 'Zartan'), ('s', 'http://www.wikidata.org/entity/Q15632617'), ('sname', 'fictional human')]\n",
      "[('president', 'http://www.wikidata.org/entity/Q6124670'), ('presidentname', 'Jake Featherston'), ('s', 'http://www.wikidata.org/entity/Q15632617'), ('sname', 'fictional human')]\n",
      "[('president', 'http://www.wikidata.org/entity/Q7241241'), ('presidentname', 'President Robert L. Booth'), ('s', 'http://www.wikidata.org/entity/Q15632617'), ('sname', 'fictional human')]\n"
     ]
    },
    {
     "data": {
      "text/plain": [
       "20"
      ]
     },
     "execution_count": 142,
     "metadata": {},
     "output_type": "execute_result"
    }
   ],
   "source": [
    "queryString = \"\"\"\n",
    "SELECT ?president ?presidentname ?s ?sname\n",
    "WHERE { \n",
    "\n",
    "?president wdt:P39/wdt:P279* wd:Q248577  ; \n",
    "           wdt:P31 ?s .\n",
    "\n",
    "?president <http://schema.org/name> ?presidentname .\n",
    "?s <http://schema.org/name> ?sname .\n",
    "} \n",
    "LIMIT 20\n",
    "\"\"\"\n",
    "\n",
    "print(\"Results\")\n",
    "run_query(queryString)"
   ]
  },
  {
   "cell_type": "code",
   "execution_count": null,
   "id": "0d104b77-1028-48d3-85d3-a1a566c77de5",
   "metadata": {},
   "outputs": [],
   "source": [
    "# Look above I notice that there are a lot of president instance of 'fictional human' or 'comics character' or 'film character'\n",
    "# I think it's better to 'delete' these president, to investigate better.\n",
    "# GET: wd:Q5 --> humman"
   ]
  },
  {
   "cell_type": "code",
   "execution_count": 29,
   "id": "19597d1a-1508-499e-a21a-81cf291da9ee",
   "metadata": {},
   "outputs": [],
   "source": [
    "# Find attributes for presidents "
   ]
  },
  {
   "cell_type": "code",
   "execution_count": 30,
   "id": "db4326c2-c9cc-4410-8399-df2d4fbf4c3b",
   "metadata": {},
   "outputs": [
    {
     "name": "stdout",
     "output_type": "stream",
     "text": [
      "Results\n",
      "[('p', 'http://www.wikidata.org/prop/direct/P7691'), ('pname', 'The Oregon Encyclopedia ID')]\n",
      "[('p', 'http://www.wikidata.org/prop/direct/P4026'), ('pname', 'Cullum number')]\n",
      "[('p', 'http://www.wikidata.org/prop/direct/P1006'), ('pname', 'Nationale Thesaurus voor Auteurs ID')]\n",
      "[('p', 'http://www.wikidata.org/prop/direct/P101'), ('pname', 'field of work')]\n",
      "[('p', 'http://www.wikidata.org/prop/direct/P1015'), ('pname', 'NORAF ID')]\n",
      "[('p', 'http://www.wikidata.org/prop/direct/P1017'), ('pname', 'Vatican Library ID (former scheme)')]\n",
      "[('p', 'http://www.wikidata.org/prop/direct/P102'), ('pname', 'member of political party')]\n",
      "[('p', 'http://www.wikidata.org/prop/direct/P103'), ('pname', 'native language')]\n",
      "[('p', 'http://www.wikidata.org/prop/direct/P1038'), ('pname', 'relative')]\n",
      "[('p', 'http://www.wikidata.org/prop/direct/P1048'), ('pname', 'NCL ID')]\n"
     ]
    },
    {
     "data": {
      "text/plain": [
       "10"
      ]
     },
     "execution_count": 30,
     "metadata": {},
     "output_type": "execute_result"
    }
   ],
   "source": [
    "queryString = \"\"\"\n",
    "SELECT DISTINCT ?p ?pname\n",
    "WHERE { \n",
    "\n",
    "?president wdt:P39/wdt:P279* wd:Q248577  ;\n",
    "            ?p ?o .\n",
    "\n",
    "#?president <http://schema.org/name> ?presidentname .\n",
    "?p <http://schema.org/name> ?pname .\n",
    "} \n",
    "LIMIT 10\n",
    "\"\"\"\n",
    "\n",
    "print(\"Results\")\n",
    "run_query(queryString)"
   ]
  },
  {
   "cell_type": "code",
   "execution_count": 31,
   "id": "1e707950-6003-442f-bc7b-a7ef531bf2db",
   "metadata": {},
   "outputs": [],
   "source": [
    "# Look for date of birthday/death"
   ]
  },
  {
   "cell_type": "code",
   "execution_count": 32,
   "id": "b7c35d02-8d7c-4b92-ab4f-4f150b10275d",
   "metadata": {},
   "outputs": [
    {
     "name": "stdout",
     "output_type": "stream",
     "text": [
      "Results\n",
      "[('p', 'http://www.wikidata.org/prop/direct/P569'), ('pname', 'date of birth')]\n",
      "[('p', 'http://www.wikidata.org/prop/direct/P570'), ('pname', 'date of death')]\n",
      "[('p', 'http://www.wikidata.org/prop/direct/P4602'), ('pname', 'date of burial or cremation')]\n",
      "[('p', 'http://www.wikidata.org/prop/direct/P8748'), ('pname', 'Rheinland-Pfälzische Personendatenbank ID')]\n",
      "[('p', 'http://www.wikidata.org/prop/direct/P576'), ('pname', 'dissolved, abolished or demolished date')]\n",
      "[('p', 'http://www.wikidata.org/prop/direct/P1636'), ('pname', 'date of baptism in early childhood')]\n"
     ]
    },
    {
     "data": {
      "text/plain": [
       "6"
      ]
     },
     "execution_count": 32,
     "metadata": {},
     "output_type": "execute_result"
    }
   ],
   "source": [
    "queryString = \"\"\"\n",
    "SELECT DISTINCT ?p ?pname\n",
    "WHERE { \n",
    "\n",
    "?president wdt:P39/wdt:P279* wd:Q248577  ;\n",
    "            ?p ?o .\n",
    "\n",
    "#?president <http://schema.org/name> ?presidentname .\n",
    "?p <http://schema.org/name> ?pname .\n",
    "\n",
    "FILTER(REGEX(?pname, \"date\"))\n",
    "} \n",
    "LIMIT 10\n",
    "\"\"\"\n",
    "\n",
    "print(\"Results\")\n",
    "run_query(queryString)"
   ]
  },
  {
   "cell_type": "code",
   "execution_count": 33,
   "id": "2827f8aa-0d0e-43a5-9563-2a677fbff3b9",
   "metadata": {},
   "outputs": [],
   "source": [
    "# GET:\n",
    "# date of birth --> wdt:P569\n",
    "# date of death --> wdt:P570"
   ]
  },
  {
   "cell_type": "code",
   "execution_count": 34,
   "id": "f91e15de-69aa-4b2e-afe3-dd702556c33a",
   "metadata": {},
   "outputs": [],
   "source": [
    "# Look for gender"
   ]
  },
  {
   "cell_type": "code",
   "execution_count": 35,
   "id": "ead2f656-2aeb-4a82-be0c-6ed8fa680f77",
   "metadata": {},
   "outputs": [
    {
     "name": "stdout",
     "output_type": "stream",
     "text": [
      "Results\n",
      "[('p', 'http://www.wikidata.org/prop/direct/P21'), ('pname', 'sex or gender')]\n"
     ]
    },
    {
     "data": {
      "text/plain": [
       "1"
      ]
     },
     "execution_count": 35,
     "metadata": {},
     "output_type": "execute_result"
    }
   ],
   "source": [
    "queryString = \"\"\"\n",
    "SELECT DISTINCT ?p ?pname\n",
    "WHERE { \n",
    "\n",
    "?president wdt:P39/wdt:P279* wd:Q248577  ;\n",
    "            ?p ?o .\n",
    "\n",
    "#?president <http://schema.org/name> ?presidentname .\n",
    "?p <http://schema.org/name> ?pname .\n",
    "\n",
    "FILTER(REGEX(?pname, \"gender\"))\n",
    "} \n",
    "LIMIT 10\n",
    "\"\"\"\n",
    "\n",
    "print(\"Results\")\n",
    "run_query(queryString)"
   ]
  },
  {
   "cell_type": "code",
   "execution_count": null,
   "id": "121169e1-5382-46bc-b940-d602f5fc87c0",
   "metadata": {},
   "outputs": [],
   "source": [
    "# GET: \n",
    "# sex or gender --> wdt:P21"
   ]
  },
  {
   "cell_type": "code",
   "execution_count": 36,
   "id": "d5feb1df-8040-447b-9e63-b8abf224c976",
   "metadata": {},
   "outputs": [],
   "source": [
    "# Look for occupation "
   ]
  },
  {
   "cell_type": "code",
   "execution_count": 39,
   "id": "a4078358-55a9-4988-ac32-d079a5b6a429",
   "metadata": {},
   "outputs": [
    {
     "name": "stdout",
     "output_type": "stream",
     "text": [
      "Results\n",
      "[('p', 'http://www.wikidata.org/prop/direct/P106'), ('pname', 'occupation')]\n"
     ]
    },
    {
     "data": {
      "text/plain": [
       "1"
      ]
     },
     "execution_count": 39,
     "metadata": {},
     "output_type": "execute_result"
    }
   ],
   "source": [
    "queryString = \"\"\"\n",
    "SELECT DISTINCT ?p ?pname\n",
    "WHERE { \n",
    "\n",
    "?president wdt:P39/wdt:P279* wd:Q248577  ;\n",
    "            ?p ?o .\n",
    "\n",
    "#?president <http://schema.org/name> ?presidentname .\n",
    "?p <http://schema.org/name> ?pname .\n",
    "\n",
    "FILTER(REGEX(?pname, \"occupation\"))\n",
    "} \n",
    "LIMIT 10\n",
    "\"\"\"\n",
    "\n",
    "print(\"Results\")\n",
    "run_query(queryString)"
   ]
  },
  {
   "cell_type": "code",
   "execution_count": null,
   "id": "ab1983fc-1287-4840-890d-2eb2705ef8cb",
   "metadata": {},
   "outputs": [],
   "source": [
    "# GET: \n",
    "# occupation --> wdt:P106"
   ]
  },
  {
   "cell_type": "code",
   "execution_count": 148,
   "id": "078dd13d-d064-4401-a176-a16f95185dd2",
   "metadata": {},
   "outputs": [
    {
     "name": "stdout",
     "output_type": "stream",
     "text": [
      "Results\n",
      "Empty\n"
     ]
    },
    {
     "data": {
      "text/plain": [
       "0"
      ]
     },
     "execution_count": 148,
     "metadata": {},
     "output_type": "execute_result"
    }
   ],
   "source": [
    "queryString = \"\"\"\n",
    "SELECT DISTINCT ?president ?presidentname ?dateofbirth ?dateofdeath ?sexorgender ?occupation\n",
    "WHERE { \n",
    "\n",
    "?president wdt:P39/wdt:P279* wd:Q248577 .\n",
    "OPTIONAL {          \n",
    "?president wdt:P569 ?dateofbirth ;\n",
    "           wdt:P570 ?dateofdeath ;\n",
    "           wdt:P21  ?sex         ;\n",
    "           wdt:P31  wd:Q5        ;\n",
    "           wdt:P106 ?oc          \n",
    "            } .\n",
    "\n",
    "?president <http://schema.org/name> ?presidentname .\n",
    "?sex <http://schema.org/name> ?sexorgender .\n",
    "?oc <http://schema.org/name> ?occupation .\n",
    "\n",
    "FILTER REGEX(?presidentname, \"Napolita\")\n",
    "} \n",
    "LIMIT 10\n",
    "\n",
    "\"\"\"\n",
    "\n",
    "print(\"Results\")\n",
    "run_query(queryString)"
   ]
  },
  {
   "cell_type": "code",
   "execution_count": 52,
   "id": "3b61a0ca-02c5-4199-9604-593f86f18f18",
   "metadata": {},
   "outputs": [],
   "source": [
    "# I want to find all president alive \n",
    "# I think to find italian presidents to see their attributes.. for example 'Napolitano'"
   ]
  },
  {
   "cell_type": "code",
   "execution_count": 149,
   "id": "7ea96234-3f40-4a2f-a1ed-e298a5c754d1",
   "metadata": {},
   "outputs": [
    {
     "name": "stdout",
     "output_type": "stream",
     "text": [
      "Results\n",
      "Empty\n"
     ]
    },
    {
     "data": {
      "text/plain": [
       "0"
      ]
     },
     "execution_count": 149,
     "metadata": {},
     "output_type": "execute_result"
    }
   ],
   "source": [
    "queryString = \"\"\"\n",
    "SELECT DISTINCT ?president ?presidentname ?dateofbirth ?dateofdeath ?sexorgender ?occupation\n",
    "WHERE { \n",
    "\n",
    "?president wdt:P39/wdt:P279* wd:Q248577 .\n",
    "OPTIONAL {          \n",
    "?president wdt:P569 ?dateofbirth ;\n",
    "           wdt:P570 ?dateofdeath ;\n",
    "           wdt:P21  ?sex         ;\n",
    "           wdt:P31  wd:Q5        ;\n",
    "           wdt:P106 ?oc } .\n",
    "\n",
    "?president <http://schema.org/name> ?presidentname .\n",
    "?sex <http://schema.org/name> ?sexorgender .\n",
    "?oc <http://schema.org/name> ?occupation .\n",
    "\n",
    "FILTER REGEX(?presidentname, \"Napolita\")\n",
    "} \n",
    "LIMIT 10\n",
    "\n",
    "\"\"\"\n",
    "\n",
    "print(\"Results\")\n",
    "run_query(queryString)"
   ]
  },
  {
   "cell_type": "code",
   "execution_count": 35,
   "id": "9862b2a9-6056-4870-9e67-601c81ce8f3f",
   "metadata": {},
   "outputs": [],
   "source": [
    "# Looking above I notice that the query to find  'Napolitano' president it's wrong beacuse this BGP gives me \n",
    "# only death presidents.. so I have to change it..."
   ]
  },
  {
   "cell_type": "code",
   "execution_count": 150,
   "id": "49375533-c875-4e48-8614-894fe60cb3ba",
   "metadata": {},
   "outputs": [
    {
     "name": "stdout",
     "output_type": "stream",
     "text": [
      "Results\n",
      "[('president', 'http://www.wikidata.org/entity/Q14345'), ('presidentname', 'Roh Moo-hyun'), ('dateofbirth', '1946-08-06T00:00:00Z'), ('dateofdeath', '2009-05-23T00:00:00Z'), ('sexorgender', 'male'), ('occupation', 'judge')]\n",
      "[('president', 'http://www.wikidata.org/entity/Q14345'), ('presidentname', 'Roh Moo-hyun'), ('dateofbirth', '1946-08-06T00:00:00Z'), ('dateofdeath', '2009-05-23T00:00:00Z'), ('sexorgender', 'male'), ('occupation', 'lawyer')]\n",
      "[('president', 'http://www.wikidata.org/entity/Q14345'), ('presidentname', 'Roh Moo-hyun'), ('dateofbirth', '1946-08-06T00:00:00Z'), ('dateofdeath', '2009-05-23T00:00:00Z'), ('sexorgender', 'male'), ('occupation', 'politician')]\n",
      "[('president', 'http://www.wikidata.org/entity/Q472323'), ('presidentname', 'Ranasinghe Premadasa'), ('dateofbirth', '1924-06-23T00:00:00Z'), ('dateofdeath', '1993-05-01T00:00:00Z'), ('sexorgender', 'male'), ('occupation', 'politician')]\n",
      "[('president', 'http://www.wikidata.org/entity/Q193062'), ('presidentname', 'Raúl Alfonsín'), ('dateofbirth', '1927-03-12T00:00:00Z'), ('dateofdeath', '2009-03-31T00:00:00Z'), ('sexorgender', 'male'), ('occupation', 'lawyer')]\n",
      "[('president', 'http://www.wikidata.org/entity/Q193062'), ('presidentname', 'Raúl Alfonsín'), ('dateofbirth', '1927-03-12T00:00:00Z'), ('dateofdeath', '2009-03-31T00:00:00Z'), ('sexorgender', 'male'), ('occupation', 'politician')]\n",
      "[('president', 'http://www.wikidata.org/entity/Q382830'), ('presidentname', 'Delfim Moreira'), ('dateofbirth', '1868-11-07T00:00:00Z'), ('dateofdeath', '1920-07-01T00:00:00Z'), ('sexorgender', 'male'), ('occupation', 'lawyer')]\n",
      "[('president', 'http://www.wikidata.org/entity/Q382830'), ('presidentname', 'Delfim Moreira'), ('dateofbirth', '1868-11-07T00:00:00Z'), ('dateofdeath', '1920-07-01T00:00:00Z'), ('sexorgender', 'male'), ('occupation', 'politician')]\n",
      "[('president', 'http://www.wikidata.org/entity/Q105480'), ('presidentname', 'Kenneth Kaunda'), ('dateofbirth', '1924-04-28T00:00:00Z'), ('dateofdeath', '2021-06-17T00:00:00Z'), ('sexorgender', 'male'), ('occupation', 'teacher')]\n",
      "[('president', 'http://www.wikidata.org/entity/Q105480'), ('presidentname', 'Kenneth Kaunda'), ('dateofbirth', '1924-04-28T00:00:00Z'), ('dateofdeath', '2021-06-17T00:00:00Z'), ('sexorgender', 'male'), ('occupation', 'politician')]\n"
     ]
    },
    {
     "data": {
      "text/plain": [
       "10"
      ]
     },
     "execution_count": 150,
     "metadata": {},
     "output_type": "execute_result"
    }
   ],
   "source": [
    "queryString = \"\"\"\n",
    "SELECT DISTINCT ?president ?presidentname ?dateofbirth ?dateofdeath ?sexorgender ?occupation\n",
    "WHERE { \n",
    "\n",
    "?president wdt:P39/wdt:P279* wd:Q248577 .\n",
    "OPTIONAL {          \n",
    "?president wdt:P569 ?dateofbirth ;\n",
    "           wdt:P21  ?sex         ;\n",
    "           wdt:P31  wd:Q5        ;\n",
    "           wdt:P106 ?oc } .\n",
    "           \n",
    "           OPTIONAL {\n",
    "           ?president wdt:P570 ?dateofdeath \n",
    "           } .\n",
    "\n",
    "?president <http://schema.org/name> ?presidentname .\n",
    "?sex <http://schema.org/name> ?sexorgender .\n",
    "?oc <http://schema.org/name> ?occupation .\n",
    " \n",
    "} \n",
    "LIMIT 10\n",
    "\n",
    "\"\"\"\n",
    "\n",
    "print(\"Results\")\n",
    "run_query(queryString)"
   ]
  },
  {
   "cell_type": "code",
   "execution_count": 36,
   "id": "db9ab584-d980-4313-a41c-446c329d4981",
   "metadata": {},
   "outputs": [],
   "source": [
    "# Now it works! "
   ]
  },
  {
   "cell_type": "code",
   "execution_count": null,
   "id": "1e210682-fe0a-4fee-aa13-76bbc0dcb41b",
   "metadata": {},
   "outputs": [],
   "source": [
    "# I try to find now 'Napolitano'"
   ]
  },
  {
   "cell_type": "code",
   "execution_count": 151,
   "id": "2d2e61ce-d95f-4df1-8dde-d7c6304518ee",
   "metadata": {},
   "outputs": [
    {
     "name": "stdout",
     "output_type": "stream",
     "text": [
      "Results\n",
      "[('president', 'http://www.wikidata.org/entity/Q1220'), ('presidentname', 'Giorgio Napolitano'), ('dateofbirth', '1925-06-29T00:00:00Z'), ('sexorgender', 'male'), ('occupation', 'politician')]\n"
     ]
    },
    {
     "data": {
      "text/plain": [
       "1"
      ]
     },
     "execution_count": 151,
     "metadata": {},
     "output_type": "execute_result"
    }
   ],
   "source": [
    "queryString = \"\"\"\n",
    "SELECT DISTINCT ?president ?presidentname ?dateofbirth ?dateofdeath ?sexorgender ?occupation\n",
    "WHERE { \n",
    "\n",
    "?president wdt:P39/wdt:P279* wd:Q248577 .\n",
    "OPTIONAL {          \n",
    "?president wdt:P569 ?dateofbirth ;\n",
    "          # wdt:P570 ?dateofdeath ;\n",
    "           wdt:P21  ?sex         ;\n",
    "           wdt:P31  wd:Q5        ;\n",
    "           wdt:P106 ?oc } .\n",
    "           \n",
    "           OPTIONAL {\n",
    "           ?president wdt:P570 ?dateofdeath \n",
    "           } .\n",
    "\n",
    "?president <http://schema.org/name> ?presidentname .\n",
    "?sex <http://schema.org/name> ?sexorgender .\n",
    "?oc <http://schema.org/name> ?occupation .\n",
    " \n",
    " FILTER REGEX(?presidentname, \"Napolita\")\n",
    "} \n",
    "LIMIT 10\n",
    "\n",
    "\"\"\"\n",
    "\n",
    "print(\"Results\")\n",
    "run_query(queryString)"
   ]
  },
  {
   "cell_type": "code",
   "execution_count": null,
   "id": "9d6013cf-fe83-4548-ab5f-ab2a21717d3a",
   "metadata": {},
   "outputs": [],
   "source": [
    "#\n",
    "#"
   ]
  },
  {
   "cell_type": "markdown",
   "id": "7e98ae48-5c0b-4f7c-936f-c037a619d440",
   "metadata": {},
   "source": [
    "# Workload 2"
   ]
  },
  {
   "cell_type": "code",
   "execution_count": null,
   "id": "b04f0ee0-d0cd-4b5c-88f0-84697b47eea3",
   "metadata": {},
   "outputs": [],
   "source": [
    "# 2. Identify the BGP to retrieve countries with had at least once had a president"
   ]
  },
  {
   "cell_type": "code",
   "execution_count": null,
   "id": "177ad8bd-6179-4d6b-9ff7-c13aff9f1a98",
   "metadata": {},
   "outputs": [],
   "source": [
    "# We can start finding all the republics"
   ]
  },
  {
   "cell_type": "code",
   "execution_count": 4,
   "id": "37a65980-b1e5-41a1-96e8-42ea5e3c1d62",
   "metadata": {},
   "outputs": [
    {
     "name": "stdout",
     "output_type": "stream",
     "text": [
      "Results\n",
      "[('rc', 'http://www.wikidata.org/entity/Q14946265'), ('republicountry', 'President of Bulgaria')]\n",
      "[('rc', 'http://www.wikidata.org/entity/Q1054799'), ('republicountry', 'President of the Republic of Poland')]\n",
      "[('rc', 'http://www.wikidata.org/entity/Q1625960'), ('republicountry', 'President of Albania')]\n",
      "[('rc', 'http://www.wikidata.org/entity/Q18204367'), ('republicountry', 'President of Uganda')]\n",
      "[('rc', 'http://www.wikidata.org/entity/Q19161338'), ('republicountry', 'President of Madagascar')]\n"
     ]
    },
    {
     "data": {
      "text/plain": [
       "5"
      ]
     },
     "execution_count": 4,
     "metadata": {},
     "output_type": "execute_result"
    }
   ],
   "source": [
    "queryString = \"\"\"\n",
    "SELECT ?rc ?republicountry\n",
    "WHERE { \n",
    "\n",
    "?rc wdt:P279 wd:Q248577  . \n",
    "\n",
    "?rc <http://schema.org/name> ?republicountry .\n",
    "} \n",
    "LIMIT 5\n",
    "\"\"\"\n",
    "\n",
    "print(\"Results\")\n",
    "run_query(queryString)"
   ]
  },
  {
   "cell_type": "code",
   "execution_count": null,
   "id": "da6254b0-c85d-402a-b8f1-f5b6418ec742",
   "metadata": {},
   "outputs": [],
   "source": [
    "# Each republic is linked to a Country.. so i find it"
   ]
  },
  {
   "cell_type": "code",
   "execution_count": null,
   "id": "44011b78-9f1d-4415-8eb7-1c8e041a375e",
   "metadata": {},
   "outputs": [],
   "source": [
    "queryString = \"\"\" \n",
    "SELECT ?rc ?republicountry ?country ?countryname\n",
    "WHERE { \n",
    "\n",
    "?rc wdt:P279 wd:Q248577  ; \n",
    "    wdt:P17 ?country .\n",
    "\n",
    "?rc <http://schema.org/name> ?republicountry .\n",
    "\n",
    "?country <http://schema.org/name> ?countryname .\n",
    "} \n",
    "LIMIT 5\n",
    "\"\"\"\n",
    "\n",
    "print(\"Results\")\n",
    "run_query(queryString)"
   ]
  },
  {
   "cell_type": "code",
   "execution_count": null,
   "id": "763a293c-d746-4d6f-81a9-8f8603084e34",
   "metadata": {},
   "outputs": [],
   "source": [
    "# I look for the presidents of each country counting it\n",
    "# In this way I have all the republic of the world from 1 president to x"
   ]
  },
  {
   "cell_type": "code",
   "execution_count": 14,
   "id": "9079c300-c8c4-4118-af59-e65f82dad145",
   "metadata": {},
   "outputs": [
    {
     "name": "stdout",
     "output_type": "stream",
     "text": [
      "Results\n",
      "[('rcountry', 'President of the Republic of Puerto Rico'), ('countryname', 'Spanish Empire'), ('num_president', '1')]\n",
      "[('rcountry', 'President of the Confederate States'), ('countryname', 'Confederate States of America'), ('num_president', '1')]\n",
      "[('rcountry', 'President of the Republic of Kosova'), ('countryname', 'Republic of Kosova'), ('num_president', '1')]\n",
      "[('rcountry', 'President of Turkmenistan'), ('countryname', 'Turkmenistan'), ('num_president', '2')]\n",
      "[('rcountry', 'President of Kazakhstan'), ('countryname', 'Kazakhstan'), ('num_president', '2')]\n",
      "[('rcountry', 'President of Serbia and Montenegro'), ('countryname', 'Serbia and Montenegro'), ('num_president', '2')]\n",
      "[('rcountry', 'President of the Republic of Namibia'), ('countryname', 'Namibia'), ('num_president', '3')]\n",
      "[('rcountry', 'Great President of the Republic of China'), ('countryname', 'Republic of China 1912–1949'), ('num_president', '3')]\n",
      "[('rcountry', 'President of Uzbekistan'), ('countryname', 'Uzbekistan'), ('num_president', '3')]\n",
      "[('rcountry', 'President of the Gambia'), ('countryname', 'The Gambia'), ('num_president', '3')]\n",
      "[('rcountry', 'President of Nepal'), ('countryname', 'Nepal'), ('num_president', '3')]\n",
      "[('rcountry', 'President of the Sahrawi Arab Democratic Republic'), ('countryname', 'Sahrawi Arab Democratic Republic'), ('num_president', '4')]\n",
      "[('rcountry', 'President of Zimbabwe'), ('countryname', 'Zimbabwe'), ('num_president', '4')]\n",
      "[('rcountry', 'President of Armenia'), ('countryname', 'Armenia'), ('num_president', '4')]\n",
      "[('rcountry', 'President of Mozambique'), ('countryname', 'Mozambique'), ('num_president', '4')]\n",
      "[('rcountry', 'President of Angola'), ('countryname', 'Angola'), ('num_president', '4')]\n",
      "[('rcountry', 'President of Republic of Benin'), ('countryname', 'Benin'), ('num_president', '5')]\n",
      "[('rcountry', 'President of Somaliland'), ('countryname', 'Somaliland'), ('num_president', '5')]\n",
      "[('rcountry', 'President of Seychelles'), ('countryname', 'Seychelles'), ('num_president', '5')]\n",
      "[('rcountry', 'President of Botswana'), ('countryname', 'Botswana'), ('num_president', '5')]\n"
     ]
    },
    {
     "data": {
      "text/plain": [
       "20"
      ]
     },
     "execution_count": 14,
     "metadata": {},
     "output_type": "execute_result"
    }
   ],
   "source": [
    "queryString = \"\"\" \n",
    "SELECT DISTINCT ?rcountry ?countryname (count(?pr) as ?num_president)\n",
    "WHERE { \n",
    "\n",
    "?pr wdt:P39 ?rc ;         # ?pr = president\n",
    "    wdt:P31  wd:Q5   .\n",
    "\n",
    "\n",
    "{\n",
    " SELECT ?rc ?country \n",
    "WHERE { \n",
    "\n",
    "?rc wdt:P279 wd:Q248577  ; \n",
    "    wdt:P17 ?country .\n",
    "\n",
    "\n",
    "} \n",
    "}\n",
    "\n",
    "    \n",
    "?rc <http://schema.org/name> ?rcountry .\n",
    "\n",
    "?country <http://schema.org/name> ?countryname .\n",
    "\n",
    "} \n",
    "ORDER BY ASC (?num_president)\n",
    "LIMIT 20\n",
    "\"\"\"\n",
    "\n",
    "print(\"Results\")\n",
    "run_query(queryString)"
   ]
  },
  {
   "cell_type": "markdown",
   "id": "e414ac5d-d0c0-464b-b16e-c4208b7ffc51",
   "metadata": {},
   "source": [
    "# Workload 3"
   ]
  },
  {
   "cell_type": "code",
   "execution_count": null,
   "id": "fb8d43a5-e6cf-4ee9-9e2a-cbb6bee5f648",
   "metadata": {},
   "outputs": [],
   "source": [
    "# 3. When was the first president of each country born? How many presidents each country had?"
   ]
  },
  {
   "cell_type": "code",
   "execution_count": null,
   "id": "47ee6a9a-b496-4e7c-ac83-bc85a5d09b56",
   "metadata": {},
   "outputs": [],
   "source": [
    "# Analyzing the first question, we can start finding all the republics"
   ]
  },
  {
   "cell_type": "code",
   "execution_count": 92,
   "id": "f3e48082-2bfc-45b1-9dc7-5caeeaaab676",
   "metadata": {},
   "outputs": [
    {
     "name": "stdout",
     "output_type": "stream",
     "text": [
      "Results\n",
      "[('rc', 'http://www.wikidata.org/entity/Q14946265'), ('republicountry', 'President of Bulgaria')]\n",
      "[('rc', 'http://www.wikidata.org/entity/Q1054799'), ('republicountry', 'President of the Republic of Poland')]\n",
      "[('rc', 'http://www.wikidata.org/entity/Q1625960'), ('republicountry', 'President of Albania')]\n",
      "[('rc', 'http://www.wikidata.org/entity/Q18204367'), ('republicountry', 'President of Uganda')]\n",
      "[('rc', 'http://www.wikidata.org/entity/Q19161338'), ('republicountry', 'President of Madagascar')]\n"
     ]
    },
    {
     "data": {
      "text/plain": [
       "5"
      ]
     },
     "execution_count": 92,
     "metadata": {},
     "output_type": "execute_result"
    }
   ],
   "source": [
    "queryString = \"\"\"\n",
    "SELECT ?rc ?republicountry\n",
    "WHERE { \n",
    "\n",
    "?rc wdt:P279 wd:Q248577  . \n",
    "\n",
    "?rc <http://schema.org/name> ?republicountry .\n",
    "} \n",
    "LIMIT 5\n",
    "\"\"\"\n",
    "\n",
    "print(\"Results\")\n",
    "run_query(queryString)"
   ]
  },
  {
   "cell_type": "code",
   "execution_count": null,
   "id": "ac065cd2-228d-4b13-98ef-d756f818e0e6",
   "metadata": {},
   "outputs": [],
   "source": [
    "# Each republic is linked to a Country.. so i find it"
   ]
  },
  {
   "cell_type": "code",
   "execution_count": 94,
   "id": "16a65e27-6d70-4783-a50f-af3d042f0f13",
   "metadata": {},
   "outputs": [
    {
     "name": "stdout",
     "output_type": "stream",
     "text": [
      "Results\n",
      "[('rc', 'http://www.wikidata.org/entity/Q2630370'), ('republicountry', 'President of Transnistria'), ('country', 'http://www.wikidata.org/entity/Q907112'), ('countryname', 'Transnistria')]\n",
      "[('rc', 'http://www.wikidata.org/entity/Q2662118'), ('republicountry', 'President of the Sahrawi Arab Democratic Republic'), ('country', 'http://www.wikidata.org/entity/Q40362'), ('countryname', 'Sahrawi Arab Democratic Republic')]\n",
      "[('rc', 'http://www.wikidata.org/entity/Q15921518'), ('republicountry', 'President of the Gambia'), ('country', 'http://www.wikidata.org/entity/Q1005'), ('countryname', 'The Gambia')]\n",
      "[('rc', 'http://www.wikidata.org/entity/Q28015517'), ('republicountry', 'president of Guinea'), ('country', 'http://www.wikidata.org/entity/Q1006'), ('countryname', 'Guinea')]\n",
      "[('rc', 'http://www.wikidata.org/entity/Q19161338'), ('republicountry', 'President of Madagascar'), ('country', 'http://www.wikidata.org/entity/Q1019'), ('countryname', 'Madagascar')]\n"
     ]
    },
    {
     "data": {
      "text/plain": [
       "5"
      ]
     },
     "execution_count": 94,
     "metadata": {},
     "output_type": "execute_result"
    }
   ],
   "source": [
    "queryString = \"\"\" \n",
    "SELECT ?rc ?republicountry ?country ?countryname\n",
    "WHERE { \n",
    "\n",
    "?rc wdt:P279 wd:Q248577  ; \n",
    "    wdt:P17 ?country .\n",
    "\n",
    "?rc <http://schema.org/name> ?republicountry .\n",
    "\n",
    "?country <http://schema.org/name> ?countryname .\n",
    "} \n",
    "LIMIT 5\n",
    "\"\"\"\n",
    "\n",
    "print(\"Results\")\n",
    "run_query(queryString)"
   ]
  },
  {
   "cell_type": "code",
   "execution_count": null,
   "id": "eeeddf67-ca7c-47f3-9635-dfe14a88e196",
   "metadata": {},
   "outputs": [],
   "source": [
    "# Now to find first president born for each country, I look for the presidents of each country and his dateofbirth\n",
    "# (using IRI wdt:P569 found above in the Section 1)"
   ]
  },
  {
   "cell_type": "code",
   "execution_count": 152,
   "id": "7e3f0dbc-f3c3-49ab-9e1c-2a1c571531aa",
   "metadata": {},
   "outputs": [
    {
     "name": "stdout",
     "output_type": "stream",
     "text": [
      "Results\n",
      "[('rc', 'http://www.wikidata.org/entity/Q878151'), ('republicountry', 'President of El Salvador'), ('country', 'http://www.wikidata.org/entity/Q792'), ('countryname', 'El Salvador')]\n",
      "[('rc', 'http://www.wikidata.org/entity/Q13341442'), ('republicountry', 'President of Honduras'), ('country', 'http://www.wikidata.org/entity/Q783'), ('countryname', 'Honduras')]\n",
      "[('rc', 'http://www.wikidata.org/entity/Q39021'), ('republicountry', 'President of Singapore'), ('country', 'http://www.wikidata.org/entity/Q334'), ('countryname', 'Singapore')]\n",
      "[('rc', 'http://www.wikidata.org/entity/Q34366203'), ('republicountry', 'President of the Federal Republic of Central America'), ('country', 'http://www.wikidata.org/entity/Q190025'), ('countryname', 'Federal Republic of Central America')]\n",
      "[('rc', 'http://www.wikidata.org/entity/Q153756'), ('republicountry', 'President of Nepal'), ('country', 'http://www.wikidata.org/entity/Q837'), ('countryname', 'Nepal')]\n",
      "[('rc', 'http://www.wikidata.org/entity/Q20087535'), ('republicountry', 'president of Dominica'), ('country', 'http://www.wikidata.org/entity/Q784'), ('countryname', 'Dominica')]\n",
      "[('rc', 'http://www.wikidata.org/entity/Q3286988'), ('republicountry', 'President of Mauritius'), ('country', 'http://www.wikidata.org/entity/Q1027'), ('countryname', 'Mauritius')]\n",
      "[('rc', 'http://www.wikidata.org/entity/Q1054799'), ('republicountry', 'President of the Republic of Poland'), ('country', 'http://www.wikidata.org/entity/Q36'), ('countryname', 'Poland'), ('dateofbirth', '1494-02-11T00:00:00Z')]\n",
      "[('rc', 'http://www.wikidata.org/entity/Q11942698'), ('republicountry', 'President of Venezuela'), ('country', 'http://www.wikidata.org/entity/Q717'), ('countryname', 'Venezuela'), ('dateofbirth', '1701-01-01T00:00:00Z')]\n",
      "[('rc', 'http://www.wikidata.org/entity/Q11696'), ('republicountry', 'President of the United States'), ('country', 'http://www.wikidata.org/entity/Q30'), ('countryname', 'United States of America'), ('dateofbirth', '1732-02-22T00:00:00Z')]\n",
      "[('rc', 'http://www.wikidata.org/entity/Q11696'), ('republicountry', 'President of the United States'), ('country', 'http://www.wikidata.org/entity/Q30'), ('countryname', 'United States of America'), ('dateofbirth', '1735-10-30T00:00:00Z')]\n",
      "[('rc', 'http://www.wikidata.org/entity/Q11696'), ('republicountry', 'President of the United States'), ('country', 'http://www.wikidata.org/entity/Q30'), ('countryname', 'United States of America'), ('dateofbirth', '1743-04-13T00:00:00Z')]\n",
      "[('rc', 'http://www.wikidata.org/entity/Q6085537'), ('republicountry', 'President of the Republic of Guatemala'), ('country', 'http://www.wikidata.org/entity/Q774'), ('countryname', 'Guatemala'), ('dateofbirth', '1750-01-01T00:00:00Z')]\n",
      "[('rc', 'http://www.wikidata.org/entity/Q11942698'), ('republicountry', 'President of Venezuela'), ('country', 'http://www.wikidata.org/entity/Q717'), ('countryname', 'Venezuela'), ('dateofbirth', '1750-03-28T00:00:00Z')]\n",
      "[('rc', 'http://www.wikidata.org/entity/Q11696'), ('republicountry', 'President of the United States'), ('country', 'http://www.wikidata.org/entity/Q30'), ('countryname', 'United States of America'), ('dateofbirth', '1751-03-16T00:00:00Z')]\n",
      "[('rc', 'http://www.wikidata.org/entity/Q34366203'), ('republicountry', 'President of the Federal Republic of Central America'), ('country', 'http://www.wikidata.org/entity/Q190025'), ('countryname', 'Federal Republic of Central America'), ('dateofbirth', '1754-10-20T00:00:00Z')]\n",
      "[('rc', 'http://www.wikidata.org/entity/Q12969145'), ('republicountry', 'President of Argentina'), ('country', 'http://www.wikidata.org/entity/Q414'), ('countryname', 'Argentina'), ('dateofbirth', '1757-06-18T00:00:00Z')]\n",
      "[('rc', 'http://www.wikidata.org/entity/Q3290543'), ('republicountry', 'President of Haiti'), ('country', 'http://www.wikidata.org/entity/Q790'), ('countryname', 'Haiti'), ('dateofbirth', '1757-12-19T00:00:00Z')]\n",
      "[('rc', 'http://www.wikidata.org/entity/Q11942698'), ('republicountry', 'President of Venezuela'), ('country', 'http://www.wikidata.org/entity/Q717'), ('countryname', 'Venezuela'), ('dateofbirth', '1758-04-16T00:00:00Z')]\n",
      "[('rc', 'http://www.wikidata.org/entity/Q11696'), ('republicountry', 'President of the United States'), ('country', 'http://www.wikidata.org/entity/Q30'), ('countryname', 'United States of America'), ('dateofbirth', '1758-04-28T00:00:00Z')]\n"
     ]
    },
    {
     "data": {
      "text/plain": [
       "20"
      ]
     },
     "execution_count": 152,
     "metadata": {},
     "output_type": "execute_result"
    }
   ],
   "source": [
    "queryString = \"\"\" \n",
    "SELECT DISTINCT ?rc ?republicountry ?country ?countryname  ?dateofbirth\n",
    "WHERE { \n",
    "\n",
    "\n",
    "\n",
    "?pr wdt:P39 ?rc ;         # ?pr = president\n",
    "    wdt:P31  wd:Q5   .\n",
    "\n",
    "OPTIONAL {          \n",
    "?pr wdt:P569 ?dateofbirth \n",
    "} .\n",
    "\n",
    "{\n",
    " SELECT ?rc ?republicountry ?country ?countryname\n",
    "WHERE { \n",
    "\n",
    "?rc wdt:P279 wd:Q248577  ; \n",
    "    wdt:P17 ?country .\n",
    "\n",
    "?rc <http://schema.org/name> ?republicountry .\n",
    "\n",
    "?country <http://schema.org/name> ?countryname .\n",
    "} \n",
    "}\n",
    "\n",
    "    \n",
    "?rc <http://schema.org/name> ?republicountry .\n",
    "\n",
    "?country <http://schema.org/name> ?countryname .\n",
    "\n",
    "#?pr <http://schema.org/name> ?prname .\n",
    "} \n",
    "#GROUP BY (?country)\n",
    "ORDER BY  (?dateofbirth) \n",
    "LIMIT 20\n",
    "\"\"\"\n",
    "\n",
    "print(\"Results\")\n",
    "run_query(queryString)"
   ]
  },
  {
   "cell_type": "code",
   "execution_count": null,
   "id": "d1fc24b4-5b5b-4221-b645-191be2131af0",
   "metadata": {},
   "outputs": [],
   "source": [
    "# Now I look for the first president for each country, selecting the min date of birth for each country"
   ]
  },
  {
   "cell_type": "code",
   "execution_count": 153,
   "id": "0e1f1831-8a58-4506-b9a6-1ca176498079",
   "metadata": {},
   "outputs": [
    {
     "name": "stdout",
     "output_type": "stream",
     "text": [
      "Results\n",
      "[('republicountry', 'President of Portugal'), ('countryname', 'Portugal'), ('dbirth', '1840-06-08T00:00:00Z')]\n",
      "[('republicountry', 'President of Cuba'), ('countryname', 'Cuba'), ('dbirth', '1819-04-18T00:00:00Z')]\n",
      "[('republicountry', 'President of Pakistan'), ('countryname', 'Pakistan'), ('dbirth', '1899-11-13T00:00:00Z')]\n",
      "[('republicountry', 'President of Austria'), ('countryname', 'Austria'), ('dbirth', '1858-08-15T00:00:00Z')]\n",
      "[('republicountry', 'President of Mongolia'), ('countryname', 'Mongolia'), ('dbirth', '1881-09-11T00:00:00Z')]\n",
      "[('republicountry', 'President of Transnistria'), ('countryname', 'Transnistria'), ('dbirth', '1941-10-23T00:00:00Z')]\n",
      "[('republicountry', 'President of Iraq'), ('countryname', 'Iraq'), ('dbirth', '1870-07-30T00:00:00Z')]\n",
      "[('republicountry', 'President of the Democratic Republic of the Congo'), ('countryname', 'Democratic Republic of the Congo'), ('dbirth', '1910-01-01T00:00:00Z')]\n",
      "[('republicountry', 'President of Comoros'), ('countryname', 'Comoros'), ('dbirth', '1917-07-02T00:00:00Z')]\n",
      "[('republicountry', 'President of Nepal'), ('countryname', 'Nepal'), ('dbirth', '1948-02-04T00:00:00Z')]\n"
     ]
    },
    {
     "data": {
      "text/plain": [
       "10"
      ]
     },
     "execution_count": 153,
     "metadata": {},
     "output_type": "execute_result"
    }
   ],
   "source": [
    "queryString = \"\"\" \n",
    "SELECT DISTINCT  ?republicountry  ?countryname  (min(?dateofbirth) as ?dbirth)\n",
    "WHERE { \n",
    "\n",
    "\n",
    "\n",
    "?pr wdt:P39 ?rc ;         # ?pr = president\n",
    "    wdt:P569 ?dateofbirth ;\n",
    "    wdt:P31  wd:Q5        .\n",
    "\n",
    "{\n",
    " SELECT ?rc ?republicountry ?country ?countryname\n",
    "WHERE { \n",
    "\n",
    "?rc wdt:P279 wd:Q248577  ; \n",
    "    wdt:P17 ?country .\n",
    "\n",
    "?rc <http://schema.org/name> ?republicountry .\n",
    "\n",
    "?country <http://schema.org/name> ?countryname .\n",
    "} \n",
    "}\n",
    "\n",
    "#?pr <http://schema.org/name> ?prname .\n",
    "} \n",
    "\n",
    "#ORDER BY asc  (?dateofbirth) \n",
    "GROUP BY ?republicountry ?countryname\n",
    "LIMIT 10\n",
    "\"\"\"\n",
    "\n",
    "print(\"Results\")\n",
    "run_query(queryString)"
   ]
  },
  {
   "cell_type": "code",
   "execution_count": 68,
   "id": "6eb633a0-ab22-470a-b488-44ee8b0f0a7b",
   "metadata": {},
   "outputs": [],
   "source": [
    "# I find how many presidents has each country"
   ]
  },
  {
   "cell_type": "code",
   "execution_count": 154,
   "id": "e266bf55-67f3-406f-a58d-db03203afd31",
   "metadata": {},
   "outputs": [
    {
     "name": "stdout",
     "output_type": "stream",
     "text": [
      "Results\n",
      "[('republicountry', 'President of Portugal'), ('countryname', 'Portugal'), ('callret-2', '19')]\n",
      "[('republicountry', 'President of Cuba'), ('countryname', 'Cuba'), ('callret-2', '30')]\n",
      "[('republicountry', 'President of Pakistan'), ('countryname', 'Pakistan'), ('callret-2', '15')]\n",
      "[('republicountry', 'President of Austria'), ('countryname', 'Austria'), ('callret-2', '12')]\n",
      "[('republicountry', 'President of Mongolia'), ('countryname', 'Mongolia'), ('callret-2', '14')]\n",
      "[('republicountry', 'President of Transnistria'), ('countryname', 'Transnistria'), ('callret-2', '5')]\n",
      "[('republicountry', 'President of Iraq'), ('countryname', 'Iraq'), ('callret-2', '10')]\n",
      "[('republicountry', 'President of the Democratic Republic of the Congo'), ('countryname', 'Democratic Republic of the Congo'), ('callret-2', '6')]\n",
      "[('republicountry', 'President of Comoros'), ('countryname', 'Comoros'), ('callret-2', '17')]\n",
      "[('republicountry', 'President of Nepal'), ('countryname', 'Nepal'), ('callret-2', '3')]\n"
     ]
    },
    {
     "data": {
      "text/plain": [
       "10"
      ]
     },
     "execution_count": 154,
     "metadata": {},
     "output_type": "execute_result"
    }
   ],
   "source": [
    "queryString = \"\"\" \n",
    "SELECT DISTINCT  ?republicountry  ?countryname  count(distinct ?pr)\n",
    "WHERE { \n",
    "\n",
    "\n",
    "\n",
    "?pr wdt:P39 ?rc ;        # ?pr = president\n",
    "    wdt:P31  wd:Q5        .\n",
    "  \n",
    "\n",
    "{\n",
    " SELECT ?rc ?republicountry ?country ?countryname\n",
    "WHERE { \n",
    "\n",
    "?rc wdt:P279 wd:Q248577  ; \n",
    "    wdt:P17 ?country .\n",
    "\n",
    "?rc <http://schema.org/name> ?republicountry .\n",
    "\n",
    "?country <http://schema.org/name> ?countryname .\n",
    "} \n",
    "}\n",
    "\n",
    "#?pr <http://schema.org/name> ?prname .\n",
    "} \n",
    "\n",
    "\n",
    "GROUP BY ?republicountry ?countryname\n",
    "LIMIT 10\n",
    "\"\"\"\n",
    "\n",
    "print(\"Results\")\n",
    "run_query(queryString)"
   ]
  },
  {
   "cell_type": "code",
   "execution_count": null,
   "id": "a83bbc34-2064-4d06-9693-372e31f388dc",
   "metadata": {},
   "outputs": [],
   "source": [
    "# When was the first president of each country born? How many presidents each country had?"
   ]
  },
  {
   "cell_type": "code",
   "execution_count": 155,
   "id": "59dc3bec-cdf3-4c2f-82cc-165e914f0c06",
   "metadata": {},
   "outputs": [
    {
     "name": "stdout",
     "output_type": "stream",
     "text": [
      "Results\n",
      "[('republicountry', 'President of Portugal'), ('countryname', 'Portugal'), ('numpresidents', '21'), ('datebirth_first_president', '1840-06-08T00:00:00Z')]\n",
      "[('republicountry', 'President of Cuba'), ('countryname', 'Cuba'), ('numpresidents', '30'), ('datebirth_first_president', '1819-04-18T00:00:00Z')]\n",
      "[('republicountry', 'President of Pakistan'), ('countryname', 'Pakistan'), ('numpresidents', '15'), ('datebirth_first_president', '1899-11-13T00:00:00Z')]\n",
      "[('republicountry', 'President of Austria'), ('countryname', 'Austria'), ('numpresidents', '12'), ('datebirth_first_president', '1858-08-15T00:00:00Z')]\n",
      "[('republicountry', 'President of Mongolia'), ('countryname', 'Mongolia'), ('numpresidents', '15'), ('datebirth_first_president', '1881-09-11T00:00:00Z')]\n",
      "[('republicountry', 'President of Transnistria'), ('countryname', 'Transnistria'), ('numpresidents', '5'), ('datebirth_first_president', '1941-10-23T00:00:00Z')]\n",
      "[('republicountry', 'President of Iraq'), ('countryname', 'Iraq'), ('numpresidents', '10'), ('datebirth_first_president', '1870-07-30T00:00:00Z')]\n",
      "[('republicountry', 'President of the Democratic Republic of the Congo'), ('countryname', 'Democratic Republic of the Congo'), ('numpresidents', '6'), ('datebirth_first_president', '1910-01-01T00:00:00Z')]\n",
      "[('republicountry', 'President of Comoros'), ('countryname', 'Comoros'), ('numpresidents', '17'), ('datebirth_first_president', '1917-07-02T00:00:00Z')]\n",
      "[('republicountry', 'President of Nepal'), ('countryname', 'Nepal'), ('numpresidents', '2'), ('datebirth_first_president', '1948-02-04T00:00:00Z')]\n"
     ]
    },
    {
     "data": {
      "text/plain": [
       "10"
      ]
     },
     "execution_count": 155,
     "metadata": {},
     "output_type": "execute_result"
    }
   ],
   "source": [
    "queryString = \"\"\" \n",
    "SELECT DISTINCT  ?republicountry  ?countryname (count(?pr) as ?numpresidents) (min(?dateofbirth) as ?datebirth_first_president)\n",
    "WHERE { \n",
    "\n",
    "\n",
    "\n",
    "?pr wdt:P39 ?rc ;         # ?pr = president\n",
    "    wdt:P569 ?dateofbirth ;\n",
    "    wdt:P31  wd:Q5        .\n",
    "\n",
    "{\n",
    " SELECT ?rc ?republicountry ?country ?countryname\n",
    "WHERE { \n",
    "\n",
    "?rc wdt:P279 wd:Q248577  ; \n",
    "    wdt:P17 ?country .\n",
    "\n",
    "?rc <http://schema.org/name> ?republicountry .\n",
    "\n",
    "?country <http://schema.org/name> ?countryname .\n",
    "} \n",
    "}\n",
    "\n",
    "#?pr <http://schema.org/name> ?prname .\n",
    "} \n",
    "\n",
    "#ORDER BY asc  (?dateofbirth) \n",
    "GROUP BY ?republicountry ?countryname\n",
    "LIMIT 10\n",
    "\"\"\"\n",
    "\n",
    "print(\"Results\")\n",
    "run_query(queryString)"
   ]
  },
  {
   "cell_type": "code",
   "execution_count": null,
   "id": "675b48ff-6d9b-4812-a026-44d4acad67c8",
   "metadata": {},
   "outputs": [],
   "source": [
    "#\n",
    "#"
   ]
  },
  {
   "cell_type": "markdown",
   "id": "0e39436c-14f8-4d7d-b7b5-0609a903d1ee",
   "metadata": {},
   "source": [
    "# Workload 4"
   ]
  },
  {
   "cell_type": "code",
   "execution_count": null,
   "id": "841fa4e4-58e7-4343-a8a5-efa3be92e684",
   "metadata": {},
   "outputs": [],
   "source": [
    "# 4. Is there a country that had at some point a woman as a president?"
   ]
  },
  {
   "cell_type": "code",
   "execution_count": 76,
   "id": "4edbd0e5-e621-4242-903c-f4eba67e5758",
   "metadata": {},
   "outputs": [],
   "source": [
    "# GET from above: \n",
    "# sex or gender --> wdt:P21"
   ]
  },
  {
   "cell_type": "code",
   "execution_count": null,
   "id": "73be366d-5139-40b2-813f-7261f0e74066",
   "metadata": {},
   "outputs": [],
   "source": [
    "# I look for all the president of sex female"
   ]
  },
  {
   "cell_type": "code",
   "execution_count": 156,
   "id": "d0504482-34a5-4a69-ba16-3868e3cddd34",
   "metadata": {},
   "outputs": [
    {
     "name": "stdout",
     "output_type": "stream",
     "text": [
      "Results\n",
      "[('president', 'http://www.wikidata.org/entity/Q1480'), ('presidentname', 'Corazon Aquino'), ('sexorgender', 'female')]\n",
      "[('president', 'http://www.wikidata.org/entity/Q57321'), ('presidentname', 'Laura Chinchilla'), ('sexorgender', 'female')]\n",
      "[('president', 'http://www.wikidata.org/entity/Q57379'), ('presidentname', 'Dalia Grybauskaitė'), ('sexorgender', 'female')]\n",
      "[('president', 'http://www.wikidata.org/entity/Q123665'), ('presidentname', 'Gloria Macapagal-Arroyo'), ('sexorgender', 'female')]\n",
      "[('president', 'http://www.wikidata.org/entity/Q207432'), ('presidentname', 'Chandrika Kumaratunga'), ('sexorgender', 'female')]\n",
      "[('president', 'http://www.wikidata.org/entity/Q467838'), ('presidentname', 'Ivy Matsepe-Casaburri'), ('sexorgender', 'female')]\n",
      "[('president', 'http://www.wikidata.org/entity/Q233984'), ('presidentname', 'Tsai Ing-wen'), ('sexorgender', 'female')]\n",
      "[('president', 'http://www.wikidata.org/entity/Q40649'), ('presidentname', 'Cristina Fernández de Kirchner'), ('sexorgender', 'female')]\n",
      "[('president', 'http://www.wikidata.org/entity/Q47854'), ('presidentname', 'Pratibha Patil'), ('sexorgender', 'female')]\n",
      "[('president', 'http://www.wikidata.org/entity/Q272416'), ('presidentname', 'Salome Zurabishvili'), ('sexorgender', 'female')]\n"
     ]
    },
    {
     "data": {
      "text/plain": [
       "10"
      ]
     },
     "execution_count": 156,
     "metadata": {},
     "output_type": "execute_result"
    }
   ],
   "source": [
    "queryString = \"\"\"\n",
    "SELECT DISTINCT ?president ?presidentname ?sexorgender \n",
    "WHERE { \n",
    "\n",
    "?president wdt:P39/wdt:P279* wd:Q248577 ;         \n",
    "           wdt:P21  ?sex         ;\n",
    "           wdt:P31  wd:Q5        .\n",
    "          \n",
    "           \n",
    "\n",
    "?president <http://schema.org/name> ?presidentname .\n",
    "?sex <http://schema.org/name> ?sexorgender .\n",
    " \n",
    " FILTER REGEX(?sexorgender, \"female\")\n",
    "} \n",
    "LIMIT 10\n",
    "\n",
    "\"\"\"\n",
    "\n",
    "print(\"Results\")\n",
    "run_query(queryString)"
   ]
  },
  {
   "cell_type": "code",
   "execution_count": 80,
   "id": "6202491d-4f55-4a75-aa1d-f63ac34fd232",
   "metadata": {},
   "outputs": [],
   "source": [
    "# I want to count women out of curiosity"
   ]
  },
  {
   "cell_type": "code",
   "execution_count": 157,
   "id": "c8c19f68-78c2-4d96-a198-982422397266",
   "metadata": {},
   "outputs": [
    {
     "name": "stdout",
     "output_type": "stream",
     "text": [
      "Results\n",
      "[('numero_di_presidenti_donne', '46')]\n"
     ]
    },
    {
     "data": {
      "text/plain": [
       "1"
      ]
     },
     "execution_count": 157,
     "metadata": {},
     "output_type": "execute_result"
    }
   ],
   "source": [
    "queryString = \"\"\"\n",
    "SELECT DISTINCT count(?president) as ?numero_di_presidenti_donne  \n",
    "WHERE { \n",
    "\n",
    "?president wdt:P39/wdt:P279* wd:Q248577 ;         \n",
    "           wdt:P21  ?sex         ;\n",
    "           wdt:P31  wd:Q5        .\n",
    "          \n",
    "?president <http://schema.org/name> ?presidentname .\n",
    "?sex <http://schema.org/name> ?sexorgender .\n",
    " \n",
    " FILTER REGEX(?sexorgender, \"female\")\n",
    "} \n",
    "LIMIT 10\n",
    "\n",
    "\"\"\"\n",
    "\n",
    "print(\"Results\")\n",
    "run_query(queryString)"
   ]
  },
  {
   "cell_type": "code",
   "execution_count": 89,
   "id": "e1e747e6-54ec-45ad-9089-303b9660bfb9",
   "metadata": {},
   "outputs": [],
   "source": [
    "# Now i want to show the presidents female and the their name republic"
   ]
  },
  {
   "cell_type": "code",
   "execution_count": 158,
   "id": "096fc3c4-4d63-4cfb-ad1c-d79e72a61421",
   "metadata": {},
   "outputs": [
    {
     "name": "stdout",
     "output_type": "stream",
     "text": [
      "Results\n",
      "[('republicountry', 'President of Mauritius'), ('countryname', 'Mauritius'), ('prname', 'Ameenah Gurib-Fakim'), ('sexorgender', 'female')]\n",
      "[('republicountry', 'President of Mauritius'), ('countryname', 'Mauritius'), ('prname', 'Monique Ohsan Bellepeau'), ('sexorgender', 'female')]\n",
      "[('republicountry', 'President of Ethiopia'), ('countryname', 'Ethiopia'), ('prname', 'Sahle-Work Zewde'), ('sexorgender', 'female')]\n",
      "[('republicountry', 'President of Kosovo'), ('countryname', 'Kosovo'), ('prname', 'Vjosa Osmani'), ('sexorgender', 'female')]\n",
      "[('republicountry', 'President of Kosovo'), ('countryname', 'Kosovo'), ('prname', 'Atifete Jahjaga'), ('sexorgender', 'female')]\n",
      "[('republicountry', 'President of Brazil'), ('countryname', 'Brazil'), ('prname', 'Dilma Rousseff'), ('sexorgender', 'female')]\n",
      "[('republicountry', 'President of Iceland'), ('countryname', 'Iceland'), ('prname', 'Vigdís Finnbogadóttir'), ('sexorgender', 'female')]\n",
      "[('republicountry', 'President of Estonia'), ('countryname', 'Estonia'), ('prname', 'Kersti Kaljulaid'), ('sexorgender', 'female')]\n",
      "[('republicountry', 'President of Latvia'), ('countryname', 'Latvia'), ('prname', 'Vaira Vīķe-Freiberga'), ('sexorgender', 'female')]\n",
      "[('republicountry', 'President of Moldova'), ('countryname', 'Moldova'), ('prname', 'Maia Sandu'), ('sexorgender', 'female')]\n"
     ]
    },
    {
     "data": {
      "text/plain": [
       "10"
      ]
     },
     "execution_count": 158,
     "metadata": {},
     "output_type": "execute_result"
    }
   ],
   "source": [
    "queryString = \"\"\" \n",
    "SELECT  DISTINCT ?republicountry  ?countryname  ?prname ?sexorgender\n",
    "WHERE { \n",
    "\n",
    "\n",
    "\n",
    "?pr wdt:P39 ?rc ;      # ?pr = president\n",
    "    wdt:P21  ?sex ;\n",
    "    wdt:P31  wd:Q5        .\n",
    "\n",
    "\n",
    "{\n",
    " SELECT ?rc ?republicountry ?country ?countryname\n",
    "WHERE { \n",
    "\n",
    "?rc wdt:P279 wd:Q248577  ; \n",
    "    wdt:P17 ?country .\n",
    "\n",
    "?rc <http://schema.org/name> ?republicountry .\n",
    "\n",
    "?country <http://schema.org/name> ?countryname .\n",
    "} \n",
    "}\n",
    "\n",
    "\n",
    "?pr <http://schema.org/name> ?prname .\n",
    "?sex <http://schema.org/name> ?sexorgender .\n",
    "\n",
    " FILTER REGEX(?sexorgender, \"female\")\n",
    "\n",
    "} \n",
    "\n",
    "LIMIT 10\n",
    "\"\"\"\n",
    "\n",
    "print(\"Results\")\n",
    "run_query(queryString)"
   ]
  },
  {
   "cell_type": "code",
   "execution_count": null,
   "id": "5069c75b-7723-42e7-a0f4-723e5296c88c",
   "metadata": {},
   "outputs": [],
   "source": [
    "#\n",
    "#"
   ]
  },
  {
   "cell_type": "markdown",
   "id": "86b6fbd6-d424-4815-ae1f-1ba4a27c2eeb",
   "metadata": {
    "tags": []
   },
   "source": [
    "# Workload 5"
   ]
  },
  {
   "cell_type": "markdown",
   "id": "37012942-9d02-4871-a588-8262838d6635",
   "metadata": {},
   "source": [
    "## Workload 5.1"
   ]
  },
  {
   "cell_type": "code",
   "execution_count": null,
   "id": "a405c407-597e-4e4a-9ca2-977cba8bb853",
   "metadata": {},
   "outputs": [],
   "source": [
    "# 5.1 What are the top-5 countries for number of presidents? Which countries had the least?"
   ]
  },
  {
   "cell_type": "code",
   "execution_count": 161,
   "id": "81c2cf3d-6e51-4551-9c71-1fe8c6ad4d35",
   "metadata": {},
   "outputs": [
    {
     "name": "stdout",
     "output_type": "stream",
     "text": [
      "Results\n",
      "[('countryname', 'Honduras'), ('republicountry', 'President of Honduras'), ('numpresidents', '83')]\n",
      "[('countryname', 'Colombia'), ('republicountry', 'President of Colombia'), ('numpresidents', '60')]\n",
      "[('countryname', 'Argentina'), ('republicountry', 'President of Argentina'), ('numpresidents', '59')]\n",
      "[('countryname', 'Mexico'), ('republicountry', 'President of Mexico'), ('numpresidents', '59')]\n",
      "[('countryname', 'Venezuela'), ('republicountry', 'President of Venezuela'), ('numpresidents', '58')]\n"
     ]
    },
    {
     "data": {
      "text/plain": [
       "5"
      ]
     },
     "execution_count": 161,
     "metadata": {},
     "output_type": "execute_result"
    }
   ],
   "source": [
    "queryString = \"\"\" \n",
    "SELECT DISTINCT ?countryname ?republicountry   (count( distinct ?pr) as ?numpresidents)\n",
    "WHERE { \n",
    "\n",
    "?pr wdt:P39 ?rc ;        # ?pr = president\n",
    "    wdt:P31  wd:Q5        .\n",
    "  \n",
    "{\n",
    " SELECT ?rc ?republicountry ?country ?countryname\n",
    "WHERE { \n",
    "\n",
    "?rc wdt:P279 wd:Q248577  ; \n",
    "    wdt:P17 ?country .\n",
    "\n",
    "?rc <http://schema.org/name> ?republicountry .\n",
    "\n",
    "?country <http://schema.org/name> ?countryname .\n",
    "} \n",
    "}\n",
    "\n",
    "} \n",
    "\n",
    "ORDER BY desc (?numpresidents) \n",
    "LIMIT 5\n",
    "\"\"\"\n",
    "\n",
    "print(\"Results\")\n",
    "run_query(queryString)"
   ]
  },
  {
   "cell_type": "code",
   "execution_count": 119,
   "id": "89e2c56d-94dd-4433-acad-fc621dc48454",
   "metadata": {},
   "outputs": [],
   "source": [
    "#\n",
    "#"
   ]
  },
  {
   "cell_type": "markdown",
   "id": "c2abbc44-1a32-4e0c-a1f5-08c39856675c",
   "metadata": {},
   "source": [
    "## Workload 5.2"
   ]
  },
  {
   "cell_type": "code",
   "execution_count": 120,
   "id": "16c73872-f1c8-464c-a011-a8dc7d5d1b0f",
   "metadata": {},
   "outputs": [],
   "source": [
    "# 5.2 For how many presidents we know a date of death in each country?"
   ]
  },
  {
   "cell_type": "code",
   "execution_count": null,
   "id": "a44697d2-f797-41dd-a2c6-0a1757bba120",
   "metadata": {},
   "outputs": [],
   "source": [
    "# GET:  wdt:P570 (date death) from above"
   ]
  },
  {
   "cell_type": "code",
   "execution_count": 163,
   "id": "0ee71346-64d7-4a36-8bbe-96decfc3377c",
   "metadata": {},
   "outputs": [
    {
     "name": "stdout",
     "output_type": "stream",
     "text": [
      "Results\n",
      "[('countryname', 'Honduras'), ('republicountry', 'President of Honduras'), ('numpresidents', '72')]\n",
      "[('countryname', 'Venezuela'), ('republicountry', 'President of Venezuela'), ('numpresidents', '55')]\n",
      "[('countryname', 'Colombia'), ('republicountry', 'President of Colombia'), ('numpresidents', '54')]\n",
      "[('countryname', 'Mexico'), ('republicountry', 'President of Mexico'), ('numpresidents', '52')]\n",
      "[('countryname', 'Argentina'), ('republicountry', 'President of Argentina'), ('numpresidents', '51')]\n",
      "[('countryname', 'Paraguay'), ('republicountry', 'President of Paraguay'), ('numpresidents', '49')]\n",
      "[('countryname', 'Haiti'), ('republicountry', 'President of Haiti'), ('numpresidents', '48')]\n",
      "[('countryname', 'Peru'), ('republicountry', 'President of Peru'), ('numpresidents', '44')]\n",
      "[('countryname', 'Guatemala'), ('republicountry', 'President of the Republic of Guatemala'), ('numpresidents', '43')]\n",
      "[('countryname', 'United States of America'), ('republicountry', 'President of the United States'), ('numpresidents', '39')]\n"
     ]
    },
    {
     "data": {
      "text/plain": [
       "10"
      ]
     },
     "execution_count": 163,
     "metadata": {},
     "output_type": "execute_result"
    }
   ],
   "source": [
    "queryString = \"\"\" \n",
    "SELECT DISTINCT ?countryname ?republicountry   (count( distinct ?pr) as ?numpresidents)\n",
    "WHERE { \n",
    "\n",
    "?pr wdt:P39 ?rc ;   # ?pr = president\n",
    "    wdt:P570 ?dateofdeath ;\n",
    "    wdt:P31  wd:Q5        .\n",
    "  \n",
    "{\n",
    " SELECT ?rc ?republicountry ?country ?countryname\n",
    "WHERE { \n",
    "\n",
    "?rc wdt:P279 wd:Q248577  ; \n",
    "    wdt:P17 ?country .\n",
    "\n",
    "?rc <http://schema.org/name> ?republicountry .\n",
    "\n",
    "?country <http://schema.org/name> ?countryname .\n",
    "} \n",
    "}\n",
    "\n",
    "} \n",
    "\n",
    "ORDER BY desc (?numpresidents) \n",
    "LIMIT 10\n",
    "\"\"\"\n",
    "\n",
    "print(\"Results\")\n",
    "run_query(queryString)"
   ]
  },
  {
   "cell_type": "code",
   "execution_count": null,
   "id": "4a68b895-58b8-457a-af1b-dd287d551705",
   "metadata": {},
   "outputs": [],
   "source": []
  },
  {
   "cell_type": "markdown",
   "id": "70529c79-cb07-45a1-97e7-c64142f7dcc5",
   "metadata": {},
   "source": [
    "## Workload 5.3"
   ]
  },
  {
   "cell_type": "code",
   "execution_count": null,
   "id": "d0f753f7-2feb-409e-93fe-baa3b2f83040",
   "metadata": {},
   "outputs": [],
   "source": [
    "# 5.3 Which are the professions of different presidents? How many presidents had a specific profession?"
   ]
  },
  {
   "cell_type": "code",
   "execution_count": 14,
   "id": "3d18e84f-f137-422a-86e3-a3c6ba6c789b",
   "metadata": {},
   "outputs": [],
   "source": [
    "# GET from above: \n",
    "# occupation --> wdt:P106"
   ]
  },
  {
   "cell_type": "code",
   "execution_count": null,
   "id": "1be7c13b-9199-4779-b1ad-10955ad74a65",
   "metadata": {},
   "outputs": [],
   "source": [
    "# Find the number of different professions of different presidents"
   ]
  },
  {
   "cell_type": "code",
   "execution_count": 13,
   "id": "3a16913c-2240-4f88-8567-f23581712867",
   "metadata": {},
   "outputs": [
    {
     "name": "stdout",
     "output_type": "stream",
     "text": [
      "Results\n",
      "[('num', '3305')]\n"
     ]
    },
    {
     "data": {
      "text/plain": [
       "1"
      ]
     },
     "execution_count": 13,
     "metadata": {},
     "output_type": "execute_result"
    }
   ],
   "source": [
    "queryString = \"\"\" \n",
    "SELECT DISTINCT  count(?ocname) as ?num  #?countryname ?republicountry ?pr ?prname\n",
    "WHERE { \n",
    "\n",
    "?pr wdt:P39 ?rc ;  # ?pr = president\n",
    "    wdt:P31 wd:Q5   ;\n",
    "    wdt:P106 ?oc .\n",
    "    \n",
    "  \n",
    "{\n",
    " SELECT ?rc ?republicountry ?country ?countryname\n",
    "WHERE { \n",
    "\n",
    "?rc wdt:P279 wd:Q248577  ; \n",
    "    wdt:P17 ?country .\n",
    "\n",
    "?rc <http://schema.org/name> ?republicountry .\n",
    "\n",
    "?country <http://schema.org/name> ?countryname .\n",
    "} \n",
    "}\n",
    "?pr <http://schema.org/name> ?prname .\n",
    "?oc <http://schema.org/name> ?ocname .\n",
    "\n",
    "\n",
    "} \n",
    "\n",
    "\n",
    "LIMIT 200\n",
    "\"\"\"\n",
    "\n",
    "print(\"Results\")\n",
    "run_query(queryString)"
   ]
  },
  {
   "cell_type": "code",
   "execution_count": null,
   "id": "95cd56b9-79e5-4e1b-b594-511d332b6954",
   "metadata": {},
   "outputs": [],
   "source": [
    "# Find all the professions of different presidents"
   ]
  },
  {
   "cell_type": "code",
   "execution_count": 15,
   "id": "4931b3be-2d62-42f6-9745-bc9eca3aa27a",
   "metadata": {},
   "outputs": [
    {
     "name": "stdout",
     "output_type": "stream",
     "text": [
      "Results\n",
      "[('ocname', 'herder')]\n",
      "[('ocname', 'diplomat')]\n",
      "[('ocname', 'politician')]\n",
      "[('ocname', 'serial rapist')]\n",
      "[('ocname', 'military officer')]\n",
      "[('ocname', 'treasurer')]\n",
      "[('ocname', 'writer')]\n",
      "[('ocname', 'statesperson')]\n",
      "[('ocname', 'disc jockey')]\n",
      "[('ocname', 'economist')]\n"
     ]
    },
    {
     "data": {
      "text/plain": [
       "10"
      ]
     },
     "execution_count": 15,
     "metadata": {},
     "output_type": "execute_result"
    }
   ],
   "source": [
    "queryString = \"\"\" \n",
    "SELECT DISTINCT  ?ocname  #?countryname ?republicountry ?pr ?prname\n",
    "WHERE { \n",
    "\n",
    "?pr wdt:P39 ?rc ;  # ?pr = president\n",
    "    wdt:P31 wd:Q5   ;\n",
    "    wdt:P106 ?oc .\n",
    "    \n",
    "  \n",
    "{\n",
    " SELECT ?rc ?republicountry ?country ?countryname\n",
    "WHERE { \n",
    "\n",
    "?rc wdt:P279 wd:Q248577  ; \n",
    "    wdt:P17 ?country .\n",
    "\n",
    "?rc <http://schema.org/name> ?republicountry .\n",
    "\n",
    "?country <http://schema.org/name> ?countryname .\n",
    "} \n",
    "}\n",
    "?pr <http://schema.org/name> ?prname .\n",
    "?oc <http://schema.org/name> ?ocname .\n",
    "\n",
    "\n",
    "} \n",
    "\n",
    "\n",
    "LIMIT 10\n",
    "\"\"\"\n",
    "\n",
    "print(\"Results\")\n",
    "run_query(queryString)"
   ]
  },
  {
   "cell_type": "code",
   "execution_count": null,
   "id": "533d59ad-172f-4589-89d1-b9321917097f",
   "metadata": {},
   "outputs": [],
   "source": [
    "# I find the first 10 profession (ordered by number of president with that profession) and their number of president"
   ]
  },
  {
   "cell_type": "code",
   "execution_count": 17,
   "id": "f5b32370-61a0-4574-8161-3c998bbd0696",
   "metadata": {},
   "outputs": [
    {
     "name": "stdout",
     "output_type": "stream",
     "text": [
      "Results\n",
      "[('ocname', 'politician'), ('numpr', '1482')]\n",
      "[('ocname', 'lawyer'), ('numpr', '340')]\n",
      "[('ocname', 'diplomat'), ('numpr', '205')]\n",
      "[('ocname', 'military personnel'), ('numpr', '194')]\n",
      "[('ocname', 'journalist'), ('numpr', '82')]\n",
      "[('ocname', 'economist'), ('numpr', '74')]\n",
      "[('ocname', 'writer'), ('numpr', '72')]\n",
      "[('ocname', 'judge'), ('numpr', '66')]\n",
      "[('ocname', 'university teacher'), ('numpr', '64')]\n",
      "[('ocname', 'military officer'), ('numpr', '61')]\n"
     ]
    },
    {
     "data": {
      "text/plain": [
       "10"
      ]
     },
     "execution_count": 17,
     "metadata": {},
     "output_type": "execute_result"
    }
   ],
   "source": [
    "queryString = \"\"\" \n",
    "SELECT DISTINCT  ?ocname (count(?pr) as ?numpr)\n",
    "WHERE { \n",
    "\n",
    "?pr wdt:P39 ?rc ;  # ?pr = president\n",
    "    wdt:P31 wd:Q5   ;\n",
    "    wdt:P106 ?oc .\n",
    "    \n",
    "  \n",
    "{\n",
    " SELECT ?rc ?republicountry ?country ?countryname\n",
    "WHERE { \n",
    "\n",
    "?rc wdt:P279 wd:Q248577  ; \n",
    "    wdt:P17 ?country .\n",
    "\n",
    "?rc <http://schema.org/name> ?republicountry .\n",
    "\n",
    "?country <http://schema.org/name> ?countryname .\n",
    "} \n",
    "}\n",
    "?pr <http://schema.org/name> ?prname .\n",
    "?oc <http://schema.org/name> ?ocname .\n",
    "\n",
    "\n",
    "} \n",
    "\n",
    "GROUP BY ?ocname\n",
    "ORDER BY DESC (?numpr)\n",
    "LIMIT 10\n",
    "\"\"\"\n",
    "\n",
    "print(\"Results\")\n",
    "run_query(queryString)"
   ]
  },
  {
   "cell_type": "code",
   "execution_count": null,
   "id": "eb2ebe08-9f36-433e-9f8d-b7b5f44e743d",
   "metadata": {},
   "outputs": [],
   "source": []
  }
 ],
 "metadata": {
  "kernelspec": {
   "display_name": "Python 3 (ipykernel)",
   "language": "python",
   "name": "python3"
  },
  "language_info": {
   "codemirror_mode": {
    "name": "ipython",
    "version": 3
   },
   "file_extension": ".py",
   "mimetype": "text/x-python",
   "name": "python",
   "nbconvert_exporter": "python",
   "pygments_lexer": "ipython3",
   "version": "3.7.10"
  }
 },
 "nbformat": 4,
 "nbformat_minor": 5
}
