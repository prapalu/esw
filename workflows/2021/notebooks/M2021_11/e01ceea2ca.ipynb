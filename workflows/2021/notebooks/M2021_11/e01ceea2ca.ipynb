{
 "cells": [
  {
   "cell_type": "markdown",
   "id": "7034c3bf-6eb0-4418-8687-7b9d2a501103",
   "metadata": {},
   "source": [
    "# General instructions\n",
    "\n",
    "The goal of the project is to materialize a set of **exploratory workloads** over a real-world, large-scale,  open-domain KG: [WikiData](https://www.wikidata.org/wiki/Wikidata:Main_Page)\n",
    "\n",
    "An exploratory workload  is composed by a set of queries, where each query is related to the information obtained previously.\n",
    "\n",
    "An exploratory workload starts with a usually vague, open ended question, and does not assume the person issuing the workload has a clear understanding of the data contained in the target database or its structure.\n",
    "\n",
    "Remeber that:\n",
    "\n",
    "1. All the queries must run in the python notebook\n",
    "2. You can use classes and properties only if you find them via a SPARQL query that must be present in the notebook\n",
    "3. You do not delete useless queries. Keep everything that is synthatically valid \n",
    "\n",
    "```\n",
    "?p <http://schema.org/name> ?name .\n",
    "```\n",
    "    \n",
    "is the BGP returning a human-readable name of a property or a class in Wikidata.\n",
    "    \n",
    "    "
   ]
  },
  {
   "cell_type": "code",
   "execution_count": 2,
   "id": "3605c9d5-5371-49a5-be8d-d66e8f417139",
   "metadata": {},
   "outputs": [],
   "source": [
    "## SETUP used later\n",
    "\n",
    "from SPARQLWrapper import SPARQLWrapper, JSON\n",
    "\n",
    "\n",
    "prefixString = \"\"\"\n",
    "##-e01ceea2ca-##\n",
    "PREFIX wd: <http://www.wikidata.org/entity/> \n",
    "PREFIX wdt: <http://www.wikidata.org/prop/direct/> \n",
    "PREFIX sc: <http://schema.org/>\n",
    "\"\"\"\n",
    "\n",
    "# select and construct queries\n",
    "def run_query(queryString):\n",
    "    to_run = prefixString + \"\\n\" + queryString\n",
    "\n",
    "    sparql = SPARQLWrapper(\"http://a256-gc1-02.srv.aau.dk:5820/sparql\")\n",
    "    sparql.setTimeout(300)\n",
    "    sparql.setReturnFormat(JSON)\n",
    "    sparql.setQuery(to_run)\n",
    "\n",
    "    try :\n",
    "       results = sparql.query()\n",
    "       json_results = results.convert()\n",
    "       if len(json_results['results']['bindings'])==0:\n",
    "          print(\"Empty\")\n",
    "          return 0\n",
    "    \n",
    "       for bindings in json_results['results']['bindings']:\n",
    "          print( [ (var, value['value'])  for var, value in bindings.items() ] )\n",
    "\n",
    "       return len(json_results['results']['bindings'])\n",
    "\n",
    "    except Exception as e :\n",
    "        print(\"The operation failed\", e)\n",
    "    \n",
    "# ASk queries\n",
    "def run_ask_query(queryString):\n",
    "    to_run = prefixString + \"\\n\" + queryString\n",
    "\n",
    "    sparql = SPARQLWrapper(\"http://a256-gc1-03.srv.aau.dk:5820/sparql\")\n",
    "    sparql.setTimeout(300)\n",
    "    sparql.setReturnFormat(JSON)\n",
    "    sparql.setQuery(to_run)\n",
    "\n",
    "    try :\n",
    "        return sparql.query().convert()\n",
    "\n",
    "    except Exception as e :\n",
    "        print(\"The operation failed\", e)\n"
   ]
  },
  {
   "cell_type": "markdown",
   "id": "d477a59c-a68c-4c8f-9f97-8ca5294d7d27",
   "metadata": {},
   "source": [
    "# Companies Workflow Series (\"Business People in Germany\") \n",
    "\n",
    "Consider the following exploratory information need:\n",
    "\n",
    "> You are investigating important business people in Germany"
   ]
  },
  {
   "cell_type": "markdown",
   "id": "4a45c0ba-f79e-441d-bec5-84401b09db70",
   "metadata": {},
   "source": [
    "## Useful URIs for the current workflow\n",
    "\n",
    "\n",
    "The following are given:\n",
    "\n",
    "| IRI           | Description   | Role      |\n",
    "| -----------   | -----------   |-----------|\n",
    "| `wdt:P1647`   | subproperty   | predicate |\n",
    "| `wdt:P31`     | instance of   | predicate |\n",
    "| `wdt:P279`    | subclass      | predicate |\n",
    "| `wdt:P17`      | country       | predicate |\n",
    "| `wdt:P27`      | citizenship   | predicate |\n",
    "| `wdt:P106`     | occupation   | predicate |\n",
    "| `wd:Q183`      | Germany      | node      |\n",
    "| `wd:Q2462658`  | manager      | node      |\n",
    "| `wd:Q40966`    | Opel         | node      |\n",
    "| `wd:Q56509715` | Michael Lohscheller | node |\n",
    "| `wd:Q57479`    | Adam Opel    | node |\n",
    "\n",
    "\n",
    "\n",
    "Also consider\n",
    "\n",
    "```\n",
    "\n",
    "?p wdt:P27 wd:Q183  . \n",
    "?p wdt:P106 wd:Q2462658  . \n",
    "\n",
    "```\n",
    "\n",
    "is the BGP to retrieve all **german managers**"
   ]
  },
  {
   "cell_type": "markdown",
   "id": "7af439fb-96e4-4dbb-a381-f19afab79f86",
   "metadata": {
    "tags": []
   },
   "source": [
    "## Workload Goals\n",
    "\n",
    "1. Identify the BGP for obtaining C.E.O., managers, directors, or founders of German companies\n",
    "\n",
    "2. Identify the BGP to retrieve gender and profession of people and industry of companies\n",
    "\n",
    "3. Are there german companies with C.E.O., managers, or founders that are not German?\n",
    "\n",
    "4. Are there people related to multiple german companies?\n",
    "\n",
    "5. Analyze the number of business people per role, type of company, and gender\n",
    " \n",
    "   5.1 How many people for each role and gender are there in Germany?\n",
    "   \n",
    "   5.2 Are there companies with multiple german people having important roles?\n",
    "   \n",
    "   5.3 In which sectors are important german business people working?\n",
    "   \n",
    "   5.4 Are there german business people related to non german companies? How many?\n"
   ]
  },
  {
   "cell_type": "markdown",
   "id": "afd12def-6842-4d6d-a515-d0997ca19c73",
   "metadata": {},
   "source": [
    "1) First of all we retrieve the entities about the occupations we are interested in."
   ]
  },
  {
   "cell_type": "code",
   "execution_count": 81,
   "id": "ade01416-92e7-4ad7-b9a9-b8fb330750dc",
   "metadata": {},
   "outputs": [
    {
     "name": "stdout",
     "output_type": "stream",
     "text": [
      "Results\n",
      "[('occupation', 'http://www.wikidata.org/entity/Q3455803'), ('oname', 'director')]\n",
      "[('occupation', 'http://www.wikidata.org/entity/Q2462658'), ('oname', 'manager')]\n",
      "[('occupation', 'http://www.wikidata.org/entity/Q1162163'), ('oname', 'director')]\n",
      "[('occupation', 'http://www.wikidata.org/entity/Q484876'), ('oname', 'chief executive officer')]\n",
      "[('occupation', 'http://www.wikidata.org/entity/Q2500638'), ('oname', 'creator')]\n",
      "[('occupation', 'http://www.wikidata.org/entity/Q721834'), ('oname', 'manager')]\n",
      "[('occupation', 'http://www.wikidata.org/entity/Q6746710'), ('oname', 'manager')]\n",
      "[('occupation', 'http://www.wikidata.org/entity/Q19435686'), ('oname', 'founder')]\n"
     ]
    },
    {
     "data": {
      "text/plain": [
       "8"
      ]
     },
     "execution_count": 81,
     "metadata": {},
     "output_type": "execute_result"
    }
   ],
   "source": [
    "queryString = \"\"\"\n",
    "SELECT DISTINCT ?occupation ?oname\n",
    "WHERE { \n",
    "    ?p wdt:P27 wd:Q183  . \n",
    "    ?p wdt:P106 ?occupation  .\n",
    "    ?occupation <http://schema.org/name> ?oname\n",
    "    FILTER REGEX(?oname, '^manager$|^director$|^founder$|Chief Executive Officer|creator', 'i')\n",
    "}\n",
    "LIMIT 20\n",
    "\"\"\"\n",
    "\n",
    "print(\"Results\")\n",
    "run_query(queryString)"
   ]
  },
  {
   "cell_type": "markdown",
   "id": "bc60cedb-6464-4417-813d-56a1b1b3e57d",
   "metadata": {},
   "source": [
    "There are some duplicates but we alredy know that Q2462658 is the correct one for 'manager'."
   ]
  },
  {
   "cell_type": "code",
   "execution_count": 109,
   "id": "6cad047b-47b1-4e37-9195-defe632a60a3",
   "metadata": {},
   "outputs": [
    {
     "name": "stdout",
     "output_type": "stream",
     "text": [
      "Results\n",
      "[('p', 'http://www.wikidata.org/entity/Q1745683'), ('pname', 'Klaus Schrenk'), ('occupationName', 'director')]\n",
      "[('p', 'http://www.wikidata.org/entity/Q57275'), ('pname', 'Ermanno Wolf-Ferrari'), ('occupationName', 'director')]\n",
      "[('p', 'http://www.wikidata.org/entity/Q2589322'), ('pname', 'Wolfgang Brunecker'), ('occupationName', 'director')]\n",
      "[('p', 'http://www.wikidata.org/entity/Q23789299'), ('pname', 'Ulrike Putz'), ('occupationName', 'director')]\n",
      "[('p', 'http://www.wikidata.org/entity/Q61967768'), ('pname', 'Andrea Ammon'), ('occupationName', 'director')]\n",
      "[('p', 'http://www.wikidata.org/entity/Q18602666'), ('pname', 'Walter Hofer'), ('occupationName', 'director')]\n",
      "[('p', 'http://www.wikidata.org/entity/Q48689370'), ('pname', 'Wolfram Horstmann'), ('occupationName', 'director')]\n",
      "[('p', 'http://www.wikidata.org/entity/Q64169746'), ('pname', 'Hermann Poppe-Marquard'), ('occupationName', 'director')]\n",
      "[('p', 'http://www.wikidata.org/entity/Q20753171'), ('pname', 'Dieter Mitrenga'), ('occupationName', 'director')]\n",
      "[('p', 'http://www.wikidata.org/entity/Q106734316'), ('pname', 'Walther Engel'), ('occupationName', 'director')]\n",
      "[('p', 'http://www.wikidata.org/entity/Q29584175'), ('pname', 'Christian Benz'), ('occupationName', 'director')]\n",
      "[('p', 'http://www.wikidata.org/entity/Q1745109'), ('pname', 'Klaus Gallwitz'), ('occupationName', 'director')]\n",
      "[('p', 'http://www.wikidata.org/entity/Q21292970'), ('pname', 'Eva-Marie Martens'), ('occupationName', 'director')]\n",
      "[('p', 'http://www.wikidata.org/entity/Q1455905'), ('pname', 'Wolfgang Becker'), ('occupationName', 'director')]\n",
      "[('p', 'http://www.wikidata.org/entity/Q18250110'), ('pname', 'Detlef Blöcher'), ('occupationName', 'director')]\n",
      "[('p', 'http://www.wikidata.org/entity/Q21032357'), ('pname', 'Rainer Kolligs'), ('occupationName', 'director')]\n",
      "[('p', 'http://www.wikidata.org/entity/Q50309053'), ('pname', 'Mechtild Rössler'), ('occupationName', 'director')]\n",
      "[('p', 'http://www.wikidata.org/entity/Q107148121'), ('pname', 'Karl Schrem'), ('occupationName', 'director')]\n",
      "[('p', 'http://www.wikidata.org/entity/Q107162127'), ('pname', 'Anna-Lena von Hodenberg'), ('occupationName', 'director')]\n",
      "[('p', 'http://www.wikidata.org/entity/Q19859283'), ('pname', 'Jens-Ove Heckel'), ('occupationName', 'director')]\n",
      "[('p', 'http://www.wikidata.org/entity/Q18018957'), ('pname', 'Carl-Wilhelm Lüders'), ('occupationName', 'director')]\n",
      "[('p', 'http://www.wikidata.org/entity/Q14523652'), ('pname', 'Vera Nemirova'), ('occupationName', 'director')]\n",
      "[('p', 'http://www.wikidata.org/entity/Q1611216'), ('pname', 'Hermann Gladenbeck'), ('occupationName', 'founder')]\n",
      "[('p', 'http://www.wikidata.org/entity/Q61990217'), ('pname', 'Michael Mönnich'), ('occupationName', 'director')]\n",
      "[('p', 'http://www.wikidata.org/entity/Q28833144'), ('pname', 'Brit Possardt'), ('occupationName', 'director')]\n",
      "[('p', 'http://www.wikidata.org/entity/Q60029549'), ('pname', 'Stefan Wrobel'), ('occupationName', 'director')]\n",
      "[('p', 'http://www.wikidata.org/entity/Q79669575'), ('pname', 'Katherine Heid'), ('occupationName', 'director')]\n",
      "[('p', 'http://www.wikidata.org/entity/Q84947684'), ('pname', 'Malte Thießen'), ('occupationName', 'director')]\n",
      "[('p', 'http://www.wikidata.org/entity/Q94148501'), ('pname', 'Adriana Groh'), ('occupationName', 'director')]\n",
      "[('p', 'http://www.wikidata.org/entity/Q106697399'), ('pname', 'Heinz Schuster'), ('occupationName', 'director')]\n"
     ]
    },
    {
     "data": {
      "text/plain": [
       "30"
      ]
     },
     "execution_count": 109,
     "metadata": {},
     "output_type": "execute_result"
    }
   ],
   "source": [
    "queryString = \"\"\"\n",
    "SELECT DISTINCT ?p ?pname ?occupationName\n",
    "WHERE { \n",
    "    ?p wdt:P27 wd:Q183  . \n",
    "    ?p wdt:P106 ?occupation .\n",
    "    ?p <http://schema.org/name> ?pname .\n",
    "    ?occupation <http://schema.org/name> ?occupationName\n",
    "    FILTER(?occupation = wd:Q3455803 || ?occupation = wd:Q2462658 || ?occupation = wd:Q1162163 || ?occupation = wd:Q484876 || ?occupation = wd:Q19435686 || ?occupation = wd:Q2500638)\n",
    "}\n",
    "LIMIT 30\n",
    "\"\"\"\n",
    "\n",
    "print(\"Results\")\n",
    "run_query(queryString)"
   ]
  },
  {
   "cell_type": "markdown",
   "id": "01758d03-bf47-44e6-9637-4aa6f983acc6",
   "metadata": {},
   "source": [
    "2) We need to find the predicate for the industry companies."
   ]
  },
  {
   "cell_type": "code",
   "execution_count": 117,
   "id": "b504195b-9d7a-40d1-825b-62f45bb17eda",
   "metadata": {},
   "outputs": [
    {
     "name": "stdout",
     "output_type": "stream",
     "text": [
      "Results\n",
      "[('p', 'http://www.wikidata.org/prop/direct/P1441'), ('pname', 'present in work')]\n",
      "[('p', 'http://www.wikidata.org/prop/direct/P2031'), ('pname', 'work period (start)')]\n",
      "[('p', 'http://www.wikidata.org/prop/direct/P937'), ('pname', 'work location')]\n",
      "[('p', 'http://www.wikidata.org/prop/direct/P101'), ('pname', 'field of work')]\n",
      "[('p', 'http://www.wikidata.org/prop/direct/P6379'), ('pname', 'has works in the collection')]\n",
      "[('p', 'http://www.wikidata.org/prop/direct/P1982'), ('pname', 'Anime News Network person ID')]\n",
      "[('p', 'http://www.wikidata.org/prop/direct/P800'), ('pname', 'notable work')]\n",
      "[('p', 'http://www.wikidata.org/prop/direct/P5297'), ('pname', 'Companies House officer ID')]\n",
      "[('p', 'http://www.wikidata.org/prop/direct/P4768'), ('pname', 'cinematografo.it name or company ID')]\n",
      "[('p', 'http://www.wikidata.org/prop/direct/P6551'), ('pname', 'Physics History Network ID')]\n",
      "[('p', 'http://www.wikidata.org/prop/direct/P953'), ('pname', 'full work available at URL')]\n",
      "[('p', 'http://www.wikidata.org/prop/direct/P8210'), ('pname', 'LombardiaBeniCulturali artwork author ID')]\n",
      "[('p', 'http://www.wikidata.org/prop/direct/P2032'), ('pname', 'work period (end)')]\n",
      "[('p', 'http://www.wikidata.org/prop/direct/P3919'), ('pname', 'contributed to creative work')]\n",
      "[('p', 'http://www.wikidata.org/prop/direct/P1455'), ('pname', 'list of works')]\n",
      "[('p', 'http://www.wikidata.org/prop/direct/P2728'), ('pname', 'CageMatch worker ID')]\n",
      "[('p', 'http://www.wikidata.org/prop/direct/P4969'), ('pname', 'derivative work')]\n",
      "[('p', 'http://www.wikidata.org/prop/direct/P5315'), ('pname', 'BioStor work ID')]\n",
      "[('p', 'http://www.wikidata.org/prop/direct/P7238'), ('pname', 'Open Science Framework ID')]\n",
      "[('p', 'http://www.wikidata.org/prop/direct/P767'), ('pname', 'contributor to the creative work or subject')]\n",
      "[('p', 'http://www.wikidata.org/prop/direct/P4345'), ('pname', 'director of archaeological fieldwork')]\n",
      "[('p', 'http://www.wikidata.org/prop/direct/P6619'), ('pname', 'XING company ID')]\n",
      "[('p', 'http://www.wikidata.org/prop/direct/P3220'), ('pname', 'KvK company ID')]\n",
      "[('p', 'http://www.wikidata.org/prop/direct/P407'), ('pname', 'language of work or name')]\n",
      "[('p', 'http://www.wikidata.org/prop/direct/P6500'), ('pname', 'non-free artwork image URL')]\n",
      "[('p', 'http://www.wikidata.org/prop/direct/P272'), ('pname', 'production company')]\n",
      "[('p', 'http://www.wikidata.org/prop/direct/P4264'), ('pname', 'LinkedIn company ID')]\n",
      "[('p', 'http://www.wikidata.org/prop/direct/P2860'), ('pname', 'cites work')]\n",
      "[('p', 'http://www.wikidata.org/prop/direct/P9650'), ('pname', 'Internet Game Database company ID')]\n",
      "[('p', 'http://www.wikidata.org/prop/direct/P5331'), ('pname', 'OCLC work ID')]\n",
      "[('p', 'http://www.wikidata.org/prop/direct/P6182'), ('pname', 'GameFAQs company ID')]\n"
     ]
    },
    {
     "data": {
      "text/plain": [
       "31"
      ]
     },
     "execution_count": 117,
     "metadata": {},
     "output_type": "execute_result"
    }
   ],
   "source": [
    "queryString = \"\"\"\n",
    "SELECT DISTINCT ?p ?pname \n",
    "WHERE { \n",
    "    ?a wdt:P27 wd:Q183  . \n",
    "    ?a wdt:P106 ?occupation .\n",
    "    ?a ?p ?o .\n",
    "    ?p <http://schema.org/name> ?pname\n",
    "    FILTER REGEX(?pname, 'work|work for|works for|company|companies|sector', 'i')\n",
    "    }\n",
    "    \n",
    "LIMIT 50\n",
    "\"\"\"\n",
    "\n",
    "print(\"Results\")\n",
    "run_query(queryString)"
   ]
  },
  {
   "cell_type": "markdown",
   "id": "0bd164f7-2f7f-4e7b-87a0-3bff93917565",
   "metadata": {},
   "source": [
    "Some interesting predicates are 'field of work' (P101), 'notable work' (P800) and 'production company' (P272).\n",
    "Now we need to find the predicate about gender."
   ]
  },
  {
   "cell_type": "code",
   "execution_count": 26,
   "id": "729ce07b-ac5d-4434-be02-996efb42d2e7",
   "metadata": {},
   "outputs": [
    {
     "name": "stdout",
     "output_type": "stream",
     "text": [
      "Results\n",
      "[('p', 'http://www.wikidata.org/prop/direct/P21'), ('pname', 'sex or gender')]\n"
     ]
    },
    {
     "data": {
      "text/plain": [
       "1"
      ]
     },
     "execution_count": 26,
     "metadata": {},
     "output_type": "execute_result"
    }
   ],
   "source": [
    "queryString = \"\"\"\n",
    "SELECT DISTINCT ?p ?pname \n",
    "WHERE { \n",
    "    ?a wdt:P27 wd:Q183  . \n",
    "    ?a wdt:P106 ?occupation .\n",
    "    ?a ?p ?o .\n",
    "    ?p <http://schema.org/name> ?pname\n",
    "    FILTER REGEX(?pname, 'gender', 'i')\n",
    "    }\n",
    "    \n",
    "LIMIT 50\n",
    "\"\"\"\n",
    "\n",
    "print(\"Results\")\n",
    "run_query(queryString)"
   ]
  },
  {
   "cell_type": "code",
   "execution_count": 30,
   "id": "4ed14565-0e48-4c0c-825d-bb0a63f3d144",
   "metadata": {},
   "outputs": [
    {
     "name": "stdout",
     "output_type": "stream",
     "text": [
      "Results\n",
      "[('aname', 'Erich Bulitta'), ('occupationName', 'non-fiction writer'), ('gendername', 'male'), ('fieldname', 'culture of remembrance')]\n",
      "[('aname', 'Erich Bulitta'), ('occupationName', 'writer'), ('gendername', 'male'), ('fieldname', 'culture of remembrance')]\n",
      "[('aname', 'Erich Bulitta'), ('occupationName', 'teacher'), ('gendername', 'male'), ('fieldname', 'culture of remembrance')]\n",
      "[('aname', 'Hildegard Bulitta'), ('occupationName', 'non-fiction writer'), ('gendername', 'female'), ('fieldname', 'culture of remembrance')]\n",
      "[('aname', 'Hildegard Bulitta'), ('occupationName', 'writer'), ('gendername', 'female'), ('fieldname', 'culture of remembrance')]\n",
      "[('aname', 'Hildegard Bulitta'), ('occupationName', 'teacher'), ('gendername', 'female'), ('fieldname', 'culture of remembrance')]\n",
      "[('aname', 'Max Ring'), ('occupationName', 'journalist'), ('gendername', 'male'), ('fieldname', 'medicine')]\n",
      "[('aname', 'Max Ring'), ('occupationName', 'writer'), ('gendername', 'male'), ('fieldname', 'medicine')]\n",
      "[('aname', 'Max Ring'), ('occupationName', 'physician writer'), ('gendername', 'male'), ('fieldname', 'medicine')]\n",
      "[('aname', 'Gerhard August Honckeny'), ('occupationName', 'botanist'), ('gendername', 'male'), ('fieldname', 'botany')]\n",
      "[('aname', 'Otto Lutz'), ('occupationName', 'wood carver'), ('gendername', 'male'), ('fieldname', 'Swabian-Alemannic Fastnacht')]\n",
      "[('aname', 'Otto Lutz'), ('occupationName', 'functionary'), ('gendername', 'male'), ('fieldname', 'Swabian-Alemannic Fastnacht')]\n",
      "[('aname', 'Otto Lutz'), ('occupationName', 'decorator'), ('gendername', 'male'), ('fieldname', 'Swabian-Alemannic Fastnacht')]\n",
      "[('aname', 'Otto Lutz'), ('occupationName', 'window dresser'), ('gendername', 'male'), ('fieldname', 'Swabian-Alemannic Fastnacht')]\n",
      "[('aname', 'Fabian Buch'), ('occupationName', 'singer'), ('gendername', 'male'), ('fieldname', 'pop music')]\n",
      "[('aname', 'Gunnar Dedio'), ('occupationName', 'non-fiction writer'), ('gendername', 'male'), ('fieldname', 'film producer')]\n",
      "[('aname', 'Gunnar Dedio'), ('occupationName', 'film producer'), ('gendername', 'male'), ('fieldname', 'film producer')]\n",
      "[('aname', 'Kate Steinitz'), ('occupationName', 'painter'), ('gendername', 'female'), ('fieldname', 'art of painting')]\n",
      "[('aname', 'Kate Steinitz'), ('occupationName', 'art historian'), ('gendername', 'female'), ('fieldname', 'art of painting')]\n",
      "[('aname', 'Kate Steinitz'), ('occupationName', 'librarian'), ('gendername', 'female'), ('fieldname', 'art of painting')]\n",
      "[('aname', 'Kate Steinitz'), ('occupationName', 'photographer'), ('gendername', 'female'), ('fieldname', 'art of painting')]\n",
      "[('aname', 'Kate Steinitz'), ('occupationName', 'writer'), ('gendername', 'female'), ('fieldname', 'art of painting')]\n",
      "[('aname', 'Kate Steinitz'), ('occupationName', 'author'), ('gendername', 'female'), ('fieldname', 'art of painting')]\n",
      "[('aname', 'Kate Steinitz'), ('occupationName', 'artist'), ('gendername', 'female'), ('fieldname', 'art of painting')]\n",
      "[('aname', 'Gerd Binnig'), ('occupationName', 'physicist'), ('gendername', 'male'), ('fieldname', 'physics')]\n",
      "[('aname', 'Mechthild Fend'), ('occupationName', 'university teacher'), ('gendername', 'female'), ('fieldname', 'gender studies')]\n",
      "[('aname', 'Mechthild Fend'), ('occupationName', 'art historian'), ('gendername', 'female'), ('fieldname', 'gender studies')]\n",
      "[('aname', 'Sigrid Schade'), ('occupationName', 'university teacher'), ('gendername', 'female'), ('fieldname', 'gender studies')]\n",
      "[('aname', 'Sigrid Schade'), ('occupationName', 'art historian'), ('gendername', 'female'), ('fieldname', 'gender studies')]\n",
      "[('aname', 'Anna Schreurs'), ('occupationName', 'university teacher'), ('gendername', 'female'), ('fieldname', 'art history')]\n",
      "[('aname', 'Thorsten Wuebbena'), ('occupationName', 'cultural studies scholar'), ('gendername', 'male'), ('fieldname', 'digital humanities')]\n",
      "[('aname', 'Thorsten Wuebbena'), ('occupationName', 'cultural studies scholar'), ('gendername', 'male'), ('fieldname', 'art history')]\n",
      "[('aname', 'Thorsten Wuebbena'), ('occupationName', 'cultural studies scholar'), ('gendername', 'male'), ('fieldname', 'digital art history')]\n",
      "[('aname', 'Thorsten Wuebbena'), ('occupationName', 'non-fiction writer'), ('gendername', 'male'), ('fieldname', 'digital humanities')]\n",
      "[('aname', 'Thorsten Wuebbena'), ('occupationName', 'non-fiction writer'), ('gendername', 'male'), ('fieldname', 'art history')]\n",
      "[('aname', 'Thorsten Wuebbena'), ('occupationName', 'non-fiction writer'), ('gendername', 'male'), ('fieldname', 'digital art history')]\n",
      "[('aname', 'Thorsten Wuebbena'), ('occupationName', 'art historian'), ('gendername', 'male'), ('fieldname', 'digital humanities')]\n",
      "[('aname', 'Thorsten Wuebbena'), ('occupationName', 'art historian'), ('gendername', 'male'), ('fieldname', 'art history')]\n",
      "[('aname', 'Thorsten Wuebbena'), ('occupationName', 'art historian'), ('gendername', 'male'), ('fieldname', 'digital art history')]\n",
      "[('aname', 'Wilhelm Heinrich Riehl'), ('occupationName', 'university teacher'), ('gendername', 'male'), ('fieldname', 'philosophy')]\n",
      "[('aname', 'Wilhelm Heinrich Riehl'), ('occupationName', 'journalist'), ('gendername', 'male'), ('fieldname', 'philosophy')]\n",
      "[('aname', 'Wilhelm Heinrich Riehl'), ('occupationName', 'historian'), ('gendername', 'male'), ('fieldname', 'philosophy')]\n",
      "[('aname', 'Wilhelm Heinrich Riehl'), ('occupationName', 'writer'), ('gendername', 'male'), ('fieldname', 'philosophy')]\n",
      "[('aname', 'Wilhelm Heinrich Riehl'), ('occupationName', 'sociologist'), ('gendername', 'male'), ('fieldname', 'philosophy')]\n",
      "[('aname', 'Alfred Eisenstaedt'), ('occupationName', 'photojournalist'), ('gendername', 'male'), ('fieldname', 'photography')]\n",
      "[('aname', 'Alfred Eisenstaedt'), ('occupationName', 'journalist'), ('gendername', 'male'), ('fieldname', 'photography')]\n",
      "[('aname', 'Alfred Eisenstaedt'), ('occupationName', 'photographer'), ('gendername', 'male'), ('fieldname', 'photography')]\n",
      "[('aname', 'Carina Sophia Linne'), ('occupationName', 'association football player'), ('gendername', 'female'), ('fieldname', 'gender studies')]\n",
      "[('aname', 'Daniel Hermsdorf'), ('occupationName', 'journalist'), ('gendername', 'male'), ('fieldname', 'art history')]\n",
      "[('aname', 'Daniel Hermsdorf'), ('occupationName', 'film director'), ('gendername', 'male'), ('fieldname', 'art history')]\n"
     ]
    },
    {
     "data": {
      "text/plain": [
       "50"
      ]
     },
     "execution_count": 30,
     "metadata": {},
     "output_type": "execute_result"
    }
   ],
   "source": [
    "queryString = \"\"\"\n",
    "SELECT DISTINCT ?aname ?occupationName ?gendername ?fieldname\n",
    "WHERE { \n",
    "    ?a wdt:P27 wd:Q183  . \n",
    "    ?a wdt:P106 ?occupation .\n",
    "    ?a wdt:P21 ?gender .\n",
    "    ?a wdt:P101 ?field .\n",
    "    ?a <http://schema.org/name> ?aname .\n",
    "    ?occupation <http://schema.org/name> ?occupationName .\n",
    "    ?gender <http://schema.org/name> ?gendername .\n",
    "    ?field <http://schema.org/name> ?fieldname .\n",
    "}\n",
    "    \n",
    "LIMIT 50\n",
    "\"\"\"\n",
    "\n",
    "print(\"Results\")\n",
    "run_query(queryString)"
   ]
  },
  {
   "cell_type": "markdown",
   "id": "60e9a9cd-20cd-4b4c-bb67-9ffd12cfa995",
   "metadata": {},
   "source": [
    "Let's investigate the node Opel."
   ]
  },
  {
   "cell_type": "code",
   "execution_count": 52,
   "id": "0bac3ebc-5eb1-4101-b937-6a4513f57145",
   "metadata": {},
   "outputs": [
    {
     "name": "stdout",
     "output_type": "stream",
     "text": [
      "Results\n",
      "[('pname', 'director / manager'), ('p', 'http://www.wikidata.org/prop/direct/P1037')]\n",
      "[('pname', 'chief executive officer'), ('p', 'http://www.wikidata.org/prop/direct/P169')]\n"
     ]
    },
    {
     "data": {
      "text/plain": [
       "2"
      ]
     },
     "execution_count": 52,
     "metadata": {},
     "output_type": "execute_result"
    }
   ],
   "source": [
    "queryString = \"\"\"\n",
    "SELECT DISTINCT ?pname ?p\n",
    "WHERE { \n",
    "    wd:Q40966 ?p ?o .\n",
    "    ?p <http://schema.org/name> ?pname\n",
    "    FILTER REGEX(?pname, 'manager|director|founder|Chief Executive Officer', 'i')\n",
    "}\n",
    "    \n",
    "LIMIT 50\n",
    "\"\"\"\n",
    "\n",
    "print(\"Results\")\n",
    "run_query(queryString)"
   ]
  },
  {
   "cell_type": "code",
   "execution_count": 40,
   "id": "92ff7bae-4a1a-4bff-a590-df4a3670f918",
   "metadata": {},
   "outputs": [
    {
     "name": "stdout",
     "output_type": "stream",
     "text": [
      "Results\n",
      "[('oname', 'company'), ('o', 'http://www.wikidata.org/entity/Q783794')]\n",
      "[('oname', 'commercial company'), ('o', 'http://www.wikidata.org/entity/Q567521')]\n",
      "[('oname', 'private company'), ('o', 'http://www.wikidata.org/entity/Q5621421')]\n"
     ]
    },
    {
     "data": {
      "text/plain": [
       "3"
      ]
     },
     "execution_count": 40,
     "metadata": {},
     "output_type": "execute_result"
    }
   ],
   "source": [
    "queryString = \"\"\"\n",
    "SELECT DISTINCT ?oname ?o\n",
    "WHERE { \n",
    "    wd:Q40966 wdt:P31/wdt:P279* ?o .\n",
    "    ?o <http://schema.org/name> ?oname\n",
    "    FILTER REGEX(?oname, 'company', 'i')\n",
    "    \n",
    "}\n",
    "    \n",
    "LIMIT 100\n",
    "\"\"\"\n",
    "\n",
    "print(\"Results\")\n",
    "run_query(queryString)"
   ]
  },
  {
   "cell_type": "code",
   "execution_count": 48,
   "id": "78c112f4-291f-401e-baa3-673de6d1f218",
   "metadata": {},
   "outputs": [
    {
     "name": "stdout",
     "output_type": "stream",
     "text": [
      "Results\n",
      "[('p', 'http://www.wikidata.org/prop/direct/P17'), ('pname', 'country')]\n"
     ]
    },
    {
     "data": {
      "text/plain": [
       "1"
      ]
     },
     "execution_count": 48,
     "metadata": {},
     "output_type": "execute_result"
    }
   ],
   "source": [
    "queryString = \"\"\"\n",
    "SELECT DISTINCT ?p ?pname\n",
    "WHERE { \n",
    "    wd:Q40966 ?p ?o .\n",
    "    ?p <http://schema.org/name> ?pname\n",
    "    FILTER REGEX(?pname, 'country', 'i')\n",
    "    \n",
    "}\n",
    "    \n",
    "LIMIT 100\n",
    "\"\"\"\n",
    "\n",
    "print(\"Results\")\n",
    "run_query(queryString)"
   ]
  },
  {
   "cell_type": "code",
   "execution_count": 95,
   "id": "d459668a-d35c-4fd8-8261-b0e6403a976a",
   "metadata": {},
   "outputs": [
    {
     "name": "stdout",
     "output_type": "stream",
     "text": [
      "Results\n",
      "[('companyName', 'Leonine Holding'), ('nationality', 'Austria')]\n",
      "[('companyName', 'Springer'), ('nationality', 'Kingdom of the Netherlands')]\n",
      "[('companyName', 'Direct Group'), ('nationality', 'Spain')]\n",
      "[('companyName', 'Federal Agency for Civic Education'), ('nationality', 'German Democratic Republic')]\n",
      "[('companyName', 'Schweigersche Buchhandlung'), ('nationality', 'German Empire')]\n",
      "[('companyName', 'Universum Film AG'), ('nationality', 'German Reich')]\n",
      "[('companyName', 'Pantera Film'), ('nationality', 'France')]\n",
      "[('companyName', 'Rowboat Film- und Fernsehproduktion'), ('nationality', 'United States of America')]\n",
      "[('companyName', 'Agfa-Gevaert'), ('nationality', 'France')]\n",
      "[('companyName', 'Deutsch-Sorbisches Volkstheater'), ('nationality', 'German Democratic Republic')]\n",
      "[('companyName', 'Kiel Institute for the World Economy'), ('nationality', 'United States of America')]\n",
      "[('companyName', 'Max Planck Institute for the History of Science'), ('nationality', 'United States of America')]\n",
      "[('companyName', 'Siemens'), ('nationality', 'Denmark')]\n",
      "[('companyName', 'Volkswagen Group'), ('nationality', 'Austria')]\n",
      "[('companyName', 'CureVac'), ('nationality', \"Polish People's Republic\")]\n",
      "[('companyName', 'Siemens Sector Energy'), ('nationality', 'United States of America')]\n",
      "[('companyName', 'Vattenfall'), ('nationality', 'Finland')]\n",
      "[('companyName', 'Art Aia - La Dolce Berlin'), ('nationality', 'Italy')]\n"
     ]
    },
    {
     "data": {
      "text/plain": [
       "18"
      ]
     },
     "execution_count": 95,
     "metadata": {},
     "output_type": "execute_result"
    }
   ],
   "source": [
    "queryString = \"\"\"\n",
    "SELECT DISTINCT ?companyName ?nationality \n",
    "WHERE {\n",
    "    ?company wdt:P31/wdt:P279* wd:Q783794 .\n",
    "    ?company wdt:P17 wd:Q183 .\n",
    "    ?company <http://schema.org/name> ?companyName .\n",
    "    ?company wdt:P1037 ?dirman .\n",
    "    ?dirman wdt:P27 ?citizenship .\n",
    "    ?citizenship <http://schema.org/name> ?nationality \n",
    "    FILTER(?citizenship != wd:Q183)\n",
    "    \n",
    "}\n",
    "    \n",
    "LIMIT 20\n",
    "\"\"\"\n",
    "\n",
    "print(\"Results\")\n",
    "run_query(queryString)"
   ]
  },
  {
   "cell_type": "markdown",
   "id": "ae76ea27-708c-451d-9cf7-86fe3ae9bf5b",
   "metadata": {},
   "source": [
    "As we can see there are many companies that have a director or a manager whitout a German citizenship."
   ]
  },
  {
   "cell_type": "markdown",
   "id": "f0e32e1b-f68c-425b-88ff-ba8877db3b22",
   "metadata": {},
   "source": [
    "4) Here we have director, managers or C.E.O. that are related to more than one company."
   ]
  },
  {
   "cell_type": "code",
   "execution_count": 105,
   "id": "4a220e54-bd5e-4536-938e-c1b78d1c1b3b",
   "metadata": {},
   "outputs": [
    {
     "name": "stdout",
     "output_type": "stream",
     "text": [
      "Results\n",
      "[('howmany', '4'), ('dirmanName', 'Herbert Diess'), ('ceoname', 'Herbert Diess')]\n",
      "[('howmany', '3'), ('dirmanName', 'Christiane Ruff')]\n",
      "[('howmany', '4'), ('dirmanName', 'Derk Haank')]\n",
      "[('howmany', '2'), ('dirmanName', 'Gerhard Hahn')]\n",
      "[('howmany', '4'), ('dirmanName', 'Oliver Bäte')]\n",
      "[('howmany', '4'), ('dirmanName', 'Barbara Scheuch-Vötterle')]\n",
      "[('howmany', '4'), ('dirmanName', 'Matthias Zachert')]\n",
      "[('howmany', '3'), ('dirmanName', 'Romuald Karmakar')]\n",
      "[('howmany', '6'), ('dirmanName', 'Rice Powell')]\n",
      "[('howmany', '6'), ('dirmanName', 'Andreas Kennecke')]\n",
      "[('howmany', '2'), ('dirmanName', 'Karsten Mühlenfeld')]\n",
      "[('howmany', '2'), ('dirmanName', 'Stephan Stracke')]\n",
      "[('howmany', '3'), ('dirmanName', 'Sam Davis')]\n",
      "[('howmany', '2'), ('dirmanName', 'Dirk Stenkamp')]\n",
      "[('howmany', '2'), ('dirmanName', 'Michael Kirchschlager')]\n",
      "[('howmany', '4'), ('dirmanName', 'Klaus Servene')]\n",
      "[('howmany', '2'), ('dirmanName', 'Maria Leptin')]\n",
      "[('howmany', '2'), ('dirmanName', 'Lisa Davis')]\n",
      "[('howmany', '4'), ('dirmanName', 'Jim Hagemann Snabe'), ('ceoname', 'Joe Kaeser')]\n",
      "[('howmany', '2'), ('dirmanName', 'Klaus Gehrig')]\n"
     ]
    },
    {
     "data": {
      "text/plain": [
       "20"
      ]
     },
     "execution_count": 105,
     "metadata": {},
     "output_type": "execute_result"
    }
   ],
   "source": [
    "queryString = \"\"\"\n",
    "SELECT DISTINCT COUNT(?companyName) as ?howmany ?dirmanName ?ceoname\n",
    "WHERE {\n",
    "    ?company wdt:P31/wdt:P279* wd:Q783794 .\n",
    "    ?company wdt:P17 wd:Q183 .\n",
    "    ?company <http://schema.org/name> ?companyName .\n",
    "    ?company wdt:P1037 ?dirman .\n",
    "    ?dirman <http://schema.org/name> ?dirmanName\n",
    "    OPTIONAL{\n",
    "    ?company wdt:P169 ?ceo .\n",
    "    ?ceo <http://schema.org/name> ?ceoname\n",
    "    }\n",
    "}\n",
    "GROUP BY ?dirmanName ?ceoname\n",
    "LIMIT 20\n",
    "\"\"\"\n",
    "\n",
    "print(\"Results\")\n",
    "run_query(queryString)"
   ]
  },
  {
   "cell_type": "markdown",
   "id": "3bc3dbd0-b1a3-4141-b432-fb6b32ec0224",
   "metadata": {},
   "source": [
    "5.1) WE retrieve German people grouped by role and gender."
   ]
  },
  {
   "cell_type": "code",
   "execution_count": 108,
   "id": "d4dcee27-016e-4105-b77f-0a658d075c4b",
   "metadata": {},
   "outputs": [
    {
     "name": "stdout",
     "output_type": "stream",
     "text": [
      "Results\n",
      "[('howmany', '31742'), ('occname', 'university teacher'), ('gendername', 'male')]\n",
      "[('howmany', '28976'), ('occname', 'politician'), ('gendername', 'male')]\n",
      "[('howmany', '16236'), ('occname', 'writer'), ('gendername', 'male')]\n",
      "[('howmany', '13852'), ('occname', 'association football player'), ('gendername', 'female')]\n",
      "[('howmany', '11097'), ('occname', 'association football player'), ('gendername', 'male')]\n",
      "[('howmany', '8851'), ('occname', 'painter'), ('gendername', 'male')]\n",
      "[('howmany', '7414'), ('occname', 'author'), ('gendername', 'male')]\n",
      "[('howmany', '6488'), ('occname', 'journalist'), ('gendername', 'male')]\n",
      "[('howmany', '6166'), ('occname', 'jurist'), ('gendername', 'male')]\n",
      "[('howmany', '5700'), ('occname', 'theologian'), ('gendername', 'male')]\n",
      "[('howmany', '4763'), ('occname', 'writer'), ('gendername', 'female')]\n",
      "[('howmany', '4634'), ('occname', 'politician'), ('gendername', 'female')]\n",
      "[('howmany', '4563'), ('occname', 'composer'), ('gendername', 'male')]\n",
      "[('howmany', '4326'), ('occname', 'actor'), ('gendername', 'male')]\n",
      "[('howmany', '3992'), ('occname', 'film actor'), ('gendername', 'male')]\n",
      "[('howmany', '3668'), ('occname', 'architect'), ('gendername', 'male')]\n",
      "[('howmany', '3658'), ('occname', 'stage actor'), ('gendername', 'male')]\n",
      "[('howmany', '3563'), ('occname', 'historian'), ('gendername', 'male')]\n",
      "[('howmany', '3536'), ('occname', 'actor'), ('gendername', 'female')]\n",
      "[('howmany', '3522'), ('occname', 'judge'), ('gendername', 'male')]\n"
     ]
    },
    {
     "data": {
      "text/plain": [
       "20"
      ]
     },
     "execution_count": 108,
     "metadata": {},
     "output_type": "execute_result"
    }
   ],
   "source": [
    "queryString = \"\"\"\n",
    "SELECT DISTINCT COUNT(?p) as ?howmany ?occname ?gendername\n",
    "WHERE {\n",
    "    ?p wdt:P27 wd:Q183  .\n",
    "    ?p wdt:P106 ?occupation .\n",
    "    ?p wdt:P21 ?gender .\n",
    "    ?occupation <http://schema.org/name> ?occname .\n",
    "    ?gender <http://schema.org/name> ?gendername\n",
    "    \n",
    "}\n",
    "GROUP BY ?occname ?gendername\n",
    "ORDER BY DESC (COUNT(?p))\n",
    "LIMIT 20\n",
    "\"\"\"\n",
    "\n",
    "print(\"Results\")\n",
    "run_query(queryString)"
   ]
  },
  {
   "cell_type": "markdown",
   "id": "897b84fc-5a4d-4951-9a26-2f472d716ddb",
   "metadata": {},
   "source": [
    "5.2) Let's investigate the predicate we need to use."
   ]
  },
  {
   "cell_type": "code",
   "execution_count": 110,
   "id": "b2dda173-f988-4d1e-85aa-cf251c349021",
   "metadata": {},
   "outputs": [
    {
     "name": "stdout",
     "output_type": "stream",
     "text": [
      "Results\n",
      "[('p', 'http://www.wikidata.org/prop/direct/P19'), ('pname', 'place of birth'), ('o', 'http://www.wikidata.org/entity/Q3917'), ('oname', 'Bocholt')]\n",
      "[('p', 'http://www.wikidata.org/prop/direct/P27'), ('pname', 'country of citizenship'), ('o', 'http://www.wikidata.org/entity/Q183'), ('oname', 'Germany')]\n",
      "[('p', 'http://www.wikidata.org/prop/direct/P1412'), ('pname', 'languages spoken, written or signed'), ('o', 'http://www.wikidata.org/entity/Q188'), ('oname', 'German')]\n",
      "[('p', 'http://www.wikidata.org/prop/direct/P735'), ('pname', 'given name'), ('o', 'http://www.wikidata.org/entity/Q4927524'), ('oname', 'Michael')]\n",
      "[('p', 'http://www.wikidata.org/prop/direct/P31'), ('pname', 'instance of'), ('o', 'http://www.wikidata.org/entity/Q5'), ('oname', 'human')]\n",
      "[('p', 'http://www.wikidata.org/prop/direct/P21'), ('pname', 'sex or gender'), ('o', 'http://www.wikidata.org/entity/Q6581097'), ('oname', 'male')]\n",
      "[('p', 'http://www.wikidata.org/prop/direct/P106'), ('pname', 'occupation'), ('o', 'http://www.wikidata.org/entity/Q2462658'), ('oname', 'manager')]\n",
      "[('p', 'http://www.wikidata.org/prop/direct/P734'), ('pname', 'family name'), ('o', 'http://www.wikidata.org/entity/Q79188429'), ('oname', 'Lohscheller')]\n"
     ]
    },
    {
     "data": {
      "text/plain": [
       "8"
      ]
     },
     "execution_count": 110,
     "metadata": {},
     "output_type": "execute_result"
    }
   ],
   "source": [
    "queryString = \"\"\"\n",
    "SELECT DISTINCT ?p ?pname ?o ?oname\n",
    "WHERE {\n",
    "    wd:Q56509715 ?p ?o .\n",
    "    ?p <http://schema.org/name> ?pname .\n",
    "    ?o <http://schema.org/name> ?oname .\n",
    "    \n",
    "}\n",
    "\n",
    "LIMIT 20\n",
    "\"\"\"\n",
    "\n",
    "print(\"Results\")\n",
    "run_query(queryString)"
   ]
  },
  {
   "cell_type": "code",
   "execution_count": 111,
   "id": "8b7b8f4b-d549-4270-86a9-58725a682193",
   "metadata": {},
   "outputs": [
    {
     "name": "stdout",
     "output_type": "stream",
     "text": [
      "Results\n",
      "[('p', 'http://www.wikidata.org/prop/direct/P1037'), ('pname', 'director / manager'), ('o', 'http://www.wikidata.org/entity/Q40966'), ('oname', 'Opel')]\n"
     ]
    },
    {
     "data": {
      "text/plain": [
       "1"
      ]
     },
     "execution_count": 111,
     "metadata": {},
     "output_type": "execute_result"
    }
   ],
   "source": [
    "queryString = \"\"\"\n",
    "SELECT DISTINCT ?p ?pname ?o ?oname\n",
    "WHERE {\n",
    "    ?o ?p wd:Q56509715 .\n",
    "    ?p <http://schema.org/name> ?pname .\n",
    "    ?o <http://schema.org/name> ?oname .\n",
    "    \n",
    "}\n",
    "\n",
    "LIMIT 20\n",
    "\"\"\"\n",
    "\n",
    "print(\"Results\")\n",
    "run_query(queryString)"
   ]
  },
  {
   "cell_type": "code",
   "execution_count": 116,
   "id": "f8b98a19-eda8-4bed-9630-336d54e951dd",
   "metadata": {},
   "outputs": [
    {
     "name": "stdout",
     "output_type": "stream",
     "text": [
      "Results\n",
      "[('companyname', 'Berliner Verkehrsbetriebe'), ('dirmanName', 'Sigrid Nikutta'), ('occupationName', 'manager')]\n",
      "[('companyname', 'Bertelsmann'), ('dirmanName', 'Mark Wössner'), ('occupationName', 'manager')]\n",
      "[('companyname', 'Bertelsmann'), ('dirmanName', 'Gunter Thielen'), ('occupationName', 'manager')]\n",
      "[('companyname', 'Bertelsmann'), ('dirmanName', 'Manfred Fischer'), ('occupationName', 'manager')]\n",
      "[('companyname', 'DB Netz'), ('dirmanName', 'Frank Sennhenn'), ('occupationName', 'manager')]\n",
      "[('companyname', 'Deutsche Bahn'), ('dirmanName', 'Richard Lutz'), ('occupationName', 'manager')]\n",
      "[('companyname', 'Deutsche Post AG'), ('dirmanName', 'Frank Appel'), ('occupationName', 'chief executive officer')]\n",
      "[('companyname', 'Deutsche Reichsbahn (GDR)'), ('dirmanName', 'Herbert Keddi'), ('occupationName', 'manager')]\n",
      "[('companyname', 'Deutsche Reichsbahn (GDR)'), ('dirmanName', 'Otto Arndt'), ('occupationName', 'manager')]\n",
      "[('companyname', 'Deutsche Reichsbahn (GDR)'), ('dirmanName', 'Wilhelm Fitzner'), ('occupationName', 'manager')]\n",
      "[('companyname', 'Deutsche Reichsbahn (GDR)'), ('dirmanName', 'Willi Kreikemeyer'), ('occupationName', 'manager')]\n",
      "[('companyname', 'Deutsche Reichsbahn (GDR)'), ('dirmanName', 'Heinz Dürr'), ('occupationName', 'manager')]\n",
      "[('companyname', 'Deutsche Reichsbahn (GDR)'), ('dirmanName', 'Hans Klemm'), ('occupationName', 'manager')]\n",
      "[('companyname', 'E.ON SE'), ('dirmanName', 'Johannes Teyssen'), ('occupationName', 'manager')]\n",
      "[('companyname', 'Flughafen München GmbH'), ('dirmanName', 'Michael Kerkloh'), ('occupationName', 'manager')]\n",
      "[('companyname', 'Göttingen State and University Library'), ('dirmanName', 'Wolfram Horstmann'), ('occupationName', 'director')]\n",
      "[('companyname', 'Lanxess'), ('dirmanName', 'Matthias Zachert'), ('occupationName', 'manager')]\n",
      "[('companyname', 'Opel'), ('dirmanName', 'Michael Lohscheller'), ('occupationName', 'manager')]\n",
      "[('companyname', 'Oskar Fischinger'), ('dirmanName', 'Oskar Fischinger'), ('occupationName', 'director')]\n",
      "[('companyname', 'Perrigo'), ('dirmanName', 'Uwe Röhrhoff'), ('occupationName', 'manager')]\n"
     ]
    },
    {
     "data": {
      "text/plain": [
       "20"
      ]
     },
     "execution_count": 116,
     "metadata": {},
     "output_type": "execute_result"
    }
   ],
   "source": [
    "queryString = \"\"\"\n",
    "SELECT DISTINCT ?companyname ?dirmanName ?occupationName\n",
    "WHERE {\n",
    "    ?company wdt:P31/wdt:P279* wd:Q783794 .\n",
    "    ?company wdt:P1037 ?dirman .\n",
    "    ?dirman wdt:P27 wd:Q183 .\n",
    "    ?dirman wdt:P106 ?occupation .\n",
    "    ?company <http://schema.org/name> ?companyname .\n",
    "    ?dirman <http://schema.org/name> ?dirmanName .\n",
    "    ?occupation <http://schema.org/name> ?occupationName\n",
    "    FILTER REGEX(?occupationName, '^manager$|^director$|^founder$|Chief Executive Officer|creator', 'i')\n",
    "}\n",
    "ORDER BY (?companyname)\n",
    "LIMIT 20\n",
    "\"\"\"\n",
    "\n",
    "print(\"Results\")\n",
    "run_query(queryString)"
   ]
  },
  {
   "cell_type": "code",
   "execution_count": 118,
   "id": "6ea3ff28-69b1-450f-a5ca-e87c64c2fd41",
   "metadata": {},
   "outputs": [
    {
     "name": "stdout",
     "output_type": "stream",
     "text": [
      "Results\n",
      "[('peoplename', 'Michel Clement'), ('occupationName', 'manager'), ('fieldname', 'media management')]\n",
      "[('peoplename', 'Paul Weis'), ('occupationName', 'director'), ('fieldname', 'Refugee law')]\n",
      "[('peoplename', 'Dafydd Johnston'), ('occupationName', 'director'), ('fieldname', 'Welsh poetry')]\n",
      "[('peoplename', 'Fiona Watt'), ('occupationName', 'chief executive officer'), ('fieldname', 'regenerative medicine')]\n",
      "[('peoplename', 'Fiona Watt'), ('occupationName', 'director'), ('fieldname', 'regenerative medicine')]\n",
      "[('peoplename', 'Lady Amanda Ellingworth'), ('occupationName', 'director'), ('fieldname', 'home care')]\n",
      "[('peoplename', 'Ed Burrows'), ('occupationName', 'manager'), ('fieldname', 'public broadcasting')]\n",
      "[('peoplename', 'Tony Robbins'), ('occupationName', 'manager'), ('fieldname', 'neuro-linguistic programming')]\n",
      "[('peoplename', 'Bill Gosden'), ('occupationName', 'director'), ('fieldname', 'film studies')]\n",
      "[('peoplename', 'Anna H. Spitz'), ('occupationName', 'director'), ('fieldname', 'geosciences')]\n",
      "[('peoplename', 'Robert H. Glass'), ('occupationName', 'director'), ('fieldname', 'obstetrics')]\n",
      "[('peoplename', 'Eric Joris'), ('occupationName', 'creator'), ('fieldname', 'new media art')]\n",
      "[('peoplename', 'Sebastian H. Mernild'), ('occupationName', 'chief executive officer'), ('fieldname', 'glaciology')]\n",
      "[('peoplename', 'Lee R. Pennington'), ('occupationName', 'director'), ('fieldname', 'counterintelligence')]\n",
      "[('peoplename', 'John C. Crabbe'), ('occupationName', 'manager'), ('fieldname', 'broadcasting')]\n",
      "[('peoplename', 'Ingmar Rentzhog'), ('occupationName', 'chief executive officer'), ('fieldname', 'public relations')]\n",
      "[('peoplename', 'Alluux'), ('occupationName', 'manager'), ('fieldname', 'theatrical makeup')]\n",
      "[('peoplename', 'Noran Kersta'), ('occupationName', 'manager'), ('fieldname', 'broadcasting')]\n",
      "[('peoplename', 'Richard J. Meyer'), ('occupationName', 'manager'), ('fieldname', 'broadcasting')]\n",
      "[('peoplename', 'Mack Fleming'), ('occupationName', 'director'), ('fieldname', 'horticulture')]\n"
     ]
    },
    {
     "data": {
      "text/plain": [
       "20"
      ]
     },
     "execution_count": 118,
     "metadata": {},
     "output_type": "execute_result"
    }
   ],
   "source": [
    "queryString = \"\"\"\n",
    "SELECT DISTINCT ?peoplename ?occupationName ?fieldname\n",
    "WHERE {\n",
    "    ?people wdt:P106 ?occupation .\n",
    "    ?people <http://schema.org/name> ?peoplename .\n",
    "    ?occupation <http://schema.org/name> ?occupationName .\n",
    "    ?people wdt:P101 ?field .\n",
    "    ?field <http://schema.org/name> ?fieldname\n",
    "    FILTER REGEX(?occupationName, '^manager$|^director$|^founder$|Chief Executive Officer|creator', 'i')\n",
    "    \n",
    "}\n",
    "LIMIT 20\n",
    "\"\"\"\n",
    "\n",
    "print(\"Results\")\n",
    "run_query(queryString)"
   ]
  },
  {
   "cell_type": "markdown",
   "id": "1f6af943-a39a-4332-ae29-c95e669e6b7e",
   "metadata": {},
   "source": [
    "5.4)Here we have all the non German companies with business people with a german citizenship."
   ]
  },
  {
   "cell_type": "code",
   "execution_count": 133,
   "id": "d6c4b2f3-865e-481f-aa9a-d47b96d6a6e0",
   "metadata": {},
   "outputs": [
    {
     "name": "stdout",
     "output_type": "stream",
     "text": [
      "Results\n",
      "[('companyname', 'Verlag Der Syndikalist'), ('countryname', 'Weimar Republic'), ('dirmanName', 'Fritz Kater')]\n",
      "[('companyname', 'Atrium Verlag'), ('countryname', 'Switzerland'), ('dirmanName', 'Silke Weitendorf')]\n",
      "[('companyname', 'Vodafone'), ('countryname', 'United Kingdom'), ('dirmanName', 'Gerard Kleisterlee')]\n",
      "[('companyname', 'Vodafone'), ('countryname', 'United Kingdom'), ('dirmanName', 'Mathias Döpfner')]\n",
      "[('companyname', 'Allgemeiner Rabbiner-Verband in Deutschland'), ('countryname', 'German Empire'), ('dirmanName', 'Leo Baeck')]\n",
      "[('companyname', 'Learned Estonian Society'), ('countryname', 'Estonia'), ('dirmanName', 'Leo Meyer')]\n",
      "[('companyname', 'Learned Estonian Society'), ('countryname', 'Estonia'), ('dirmanName', 'Walter Anderson')]\n",
      "[('companyname', 'Learned Estonian Society'), ('countryname', 'Estonia'), ('dirmanName', 'Carl Schirren')]\n",
      "[('companyname', 'OGX'), ('countryname', 'Brazil'), ('dirmanName', 'Eike Batista')]\n",
      "[('companyname', 'UBS'), ('countryname', 'Switzerland'), ('dirmanName', 'Axel A. Weber')]\n",
      "[('companyname', 'Nestlé'), ('countryname', 'Switzerland'), ('dirmanName', 'Ulf Mark Schneider')]\n",
      "[('companyname', 'Alcoa'), ('countryname', 'United States of America'), ('dirmanName', 'Klaus Kleinfeld')]\n",
      "[('companyname', 'AGCO'), ('countryname', 'United States of America'), ('dirmanName', 'Martin Richenhagen')]\n",
      "[('companyname', 'AXA'), ('countryname', 'France'), ('dirmanName', 'Thomas Buberl')]\n",
      "[('companyname', 'Perrigo'), ('countryname', 'Ireland'), ('dirmanName', 'Uwe Röhrhoff')]\n",
      "[('companyname', 'Bâloise'), ('countryname', 'Switzerland'), ('dirmanName', 'Alexander Bockelmann')]\n",
      "[('companyname', 'MMX Mineração'), ('countryname', 'Brazil'), ('dirmanName', 'Eike Batista')]\n",
      "[('companyname', 'Udacity'), ('countryname', 'United States of America'), ('dirmanName', 'Sebastian Thrun')]\n",
      "[('companyname', 'Oskar Fischinger'), ('countryname', 'German Reich'), ('dirmanName', 'Oskar Fischinger')]\n",
      "[('companyname', 'Remote Control Productions'), ('countryname', 'United States of America'), ('dirmanName', 'Hans Zimmer')]\n"
     ]
    },
    {
     "data": {
      "text/plain": [
       "20"
      ]
     },
     "execution_count": 133,
     "metadata": {},
     "output_type": "execute_result"
    }
   ],
   "source": [
    "queryString = \"\"\"\n",
    "SELECT DISTINCT ?companyname ?countryname ?dirmanName\n",
    "WHERE {\n",
    "    ?company wdt:P31/wdt:P279* wd:Q783794 .\n",
    "    ?company wdt:P1037/wdt:P169* ?dirman .\n",
    "    ?dirman wdt:P27 wd:Q183 .\n",
    "    ?company wdt:P17 ?country.\n",
    "    ?company <http://schema.org/name> ?companyname .\n",
    "    ?dirman <http://schema.org/name> ?dirmanName .\n",
    "    ?country <http://schema.org/name> ?countryname\n",
    "    FILTER (?country != wd:Q183 && ?country != wd:Q16957)\n",
    "    \n",
    "    \n",
    "}\n",
    "LIMIT 20\n",
    "\"\"\"\n",
    "\n",
    "print(\"Results\")\n",
    "run_query(queryString)"
   ]
  },
  {
   "cell_type": "code",
   "execution_count": null,
   "id": "1a0db9e4-00b2-412d-b8e9-bc0e99434e5d",
   "metadata": {},
   "outputs": [],
   "source": []
  }
 ],
 "metadata": {
  "kernelspec": {
   "display_name": "Python 3",
   "language": "python",
   "name": "python3"
  },
  "language_info": {
   "codemirror_mode": {
    "name": "ipython",
    "version": 3
   },
   "file_extension": ".py",
   "mimetype": "text/x-python",
   "name": "python",
   "nbconvert_exporter": "python",
   "pygments_lexer": "ipython3",
   "version": "3.7.10"
  }
 },
 "nbformat": 4,
 "nbformat_minor": 5
}
