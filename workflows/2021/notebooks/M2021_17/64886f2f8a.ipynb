{
 "cells": [
  {
   "cell_type": "markdown",
   "id": "7034c3bf-6eb0-4418-8687-7b9d2a501103",
   "metadata": {},
   "source": [
    "# General instructions\n",
    "\n",
    "The goal of the project is to materialize a set of **exploratory workloads** over a real-world, large-scale,  open-domain KG: [WikiData](https://www.wikidata.org/wiki/Wikidata:Main_Page)\n",
    "\n",
    "An exploratory workload  is composed by a set of queries, where each query is related to the information obtained previously.\n",
    "\n",
    "An exploratory workload starts with a usually vague, open ended question, and does not assume the person issuing the workload has a clear understanding of the data contained in the target database or its structure.\n",
    "\n",
    "Remeber that:\n",
    "\n",
    "1. All the queries must run in the python notebook\n",
    "2. You can use classes and properties only if you find them via a SPARQL query that must be present in the notebook\n",
    "3. You do not delete useless queries. Keep everything that is synthatically valid \n",
    "\n",
    "```\n",
    "?p <http://schema.org/name> ?name .\n",
    "```\n",
    "    \n",
    "is the BGP returning a human-readable name of a property or a class in Wikidata.\n",
    "    \n",
    "    "
   ]
  },
  {
   "cell_type": "code",
   "execution_count": 1,
   "id": "3605c9d5-5371-49a5-be8d-d66e8f417139",
   "metadata": {},
   "outputs": [],
   "source": [
    "## SETUP used later\n",
    "\n",
    "from SPARQLWrapper import SPARQLWrapper, JSON\n",
    "\n",
    "\n",
    "prefixString = \"\"\"\n",
    "##-64886f2f8a-##\n",
    "PREFIX wd: <http://www.wikidata.org/entity/> \n",
    "PREFIX wdt: <http://www.wikidata.org/prop/direct/> \n",
    "PREFIX sc: <http://schema.org/>\n",
    "\"\"\"\n",
    "\n",
    "# select and construct queries\n",
    "def run_query(queryString):\n",
    "    to_run = prefixString + \"\\n\" + queryString\n",
    "\n",
    "    sparql = SPARQLWrapper(\"http://a256-gc1-02.srv.aau.dk:5820/sparql\")\n",
    "    sparql.setTimeout(300)\n",
    "    sparql.setReturnFormat(JSON)\n",
    "    sparql.setQuery(to_run)\n",
    "\n",
    "    try :\n",
    "       results = sparql.query()\n",
    "       json_results = results.convert()\n",
    "       if len(json_results['results']['bindings'])==0:\n",
    "          print(\"Empty\")\n",
    "          return 0\n",
    "    \n",
    "       for bindings in json_results['results']['bindings']:\n",
    "          print( [ (var, value['value'])  for var, value in bindings.items() ] )\n",
    "\n",
    "       return len(json_results['results']['bindings'])\n",
    "\n",
    "    except Exception as e :\n",
    "        print(\"The operation failed\", e)\n",
    "    \n",
    "# ASk queries\n",
    "def run_ask_query(queryString):\n",
    "    to_run = prefixString + \"\\n\" + queryString\n",
    "\n",
    "    sparql = SPARQLWrapper(\"http://a256-gc1-02.srv.aau.dk:5820/sparql\")\n",
    "    sparql.setTimeout(300)\n",
    "    sparql.setReturnFormat(JSON)\n",
    "    sparql.setQuery(to_run)\n",
    "\n",
    "    try :\n",
    "        return sparql.query().convert()\n",
    "\n",
    "    except Exception as e :\n",
    "        print(\"The operation failed\", e)\n"
   ]
  },
  {
   "cell_type": "markdown",
   "id": "d477a59c-a68c-4c8f-9f97-8ca5294d7d27",
   "metadata": {},
   "source": [
    "# Companies Workflow Series (\"Trademarks across the world\") \n",
    "\n",
    "Consider the following exploratory information need:\n",
    "\n",
    "> You are investigating different kinds of trademarks"
   ]
  },
  {
   "cell_type": "markdown",
   "id": "4a45c0ba-f79e-441d-bec5-84401b09db70",
   "metadata": {},
   "source": [
    "## Useful URIs for the current workflow\n",
    "\n",
    "\n",
    "The following are given:\n",
    "\n",
    "| IRI           | Description   | Role      |\n",
    "| -----------   | -----------   |-----------|\n",
    "| `wdt:P1647`   | subproperty   | predicate |\n",
    "| `wdt:P31`     | instance of   | predicate |\n",
    "| `wdt:P279`    | subclass      | predicate |\n",
    "| `wdt:P17`      | country       | predicate |\n",
    "| `wdt:P27`      | citizenship   | predicate |\n",
    "| `wd:Q167270`  | trademark     | node      |\n",
    "| `wd:Q14091`   | iMac          | node      |\n",
    "| `wd:Q312`     | Apple Inc.    | node      |\n",
    "\n",
    "\n",
    "\n",
    "Also consider\n",
    "\n",
    "```\n",
    "?p wdt:P31/wdt:P279* wd:Q167270  . \n",
    "```\n",
    "\n",
    "is the BGP to retrieve all **entities that are trademarks**"
   ]
  },
  {
   "cell_type": "markdown",
   "id": "7af439fb-96e4-4dbb-a381-f19afab79f86",
   "metadata": {
    "tags": []
   },
   "source": [
    "## Workload Goals\n",
    "\n",
    "1. Identify the BGP for the company or person related to a given trademark\n",
    "\n",
    "2. Identify the BGP to retrieve types or categories for a given trademark\n",
    "\n",
    "3. What companies have the largest number of trademarks? \n",
    "\n",
    "4. What are the types of trademarks, how many trademarks exist for each type?\n",
    "\n",
    "5. Analyze the number of trademarks across types, companies, and countries\n",
    " \n",
    "   5.1 How many U.S. companies hold trademarks? In which sectors?\n",
    "   \n",
    "   5.2 How many people hold or are connected to trademarks? In which role?\n",
    "   \n",
    "   5.3 In which sector there is the highest number of trademarks?   \n"
   ]
  },
  {
   "cell_type": "code",
   "execution_count": 2,
   "id": "24a853ab-830c-422c-afd3-e9e015b8b8ed",
   "metadata": {},
   "outputs": [],
   "source": [
    "# start your workflow here"
   ]
  },
  {
   "cell_type": "code",
   "execution_count": 3,
   "id": "ade01416-92e7-4ad7-b9a9-b8fb330750dc",
   "metadata": {},
   "outputs": [
    {
     "name": "stdout",
     "output_type": "stream",
     "text": [
      "Results\n",
      "[('callret-0', '44700')]\n"
     ]
    },
    {
     "data": {
      "text/plain": [
       "1"
      ]
     },
     "execution_count": 3,
     "metadata": {},
     "output_type": "execute_result"
    }
   ],
   "source": [
    "#the BGP to retrieve all entities that are trademarks\n",
    "queryString = \"\"\"\n",
    "SELECT COUNT(?p)\n",
    "WHERE { \n",
    "\n",
    "\n",
    "?p wdt:P31/wdt:P279* wd:Q167270  . \n",
    "\n",
    "} \n",
    "\"\"\"\n",
    "\n",
    "print(\"Results\")\n",
    "run_query(queryString)"
   ]
  },
  {
   "cell_type": "markdown",
   "id": "cd2334bd-e83d-4351-b6ae-2fdd782e36d6",
   "metadata": {},
   "source": [
    "## Identify the BGP for the company or person related to a given trademark"
   ]
  },
  {
   "cell_type": "code",
   "execution_count": 4,
   "id": "62e37698-cc0c-4f4a-8c38-0a1982b0d418",
   "metadata": {},
   "outputs": [
    {
     "name": "stdout",
     "output_type": "stream",
     "text": [
      "Results\n",
      "[('s', 'http://www.wikidata.org/entity/Q306381'), ('sname', 'iMac G3'), ('p', 'http://www.wikidata.org/prop/direct/P279'), ('pname', 'subclass of')]\n",
      "[('s', 'http://www.wikidata.org/entity/Q19837'), ('sname', 'Steve Jobs'), ('p', 'http://www.wikidata.org/prop/direct/P800'), ('pname', 'notable work')]\n",
      "[('s', 'http://www.wikidata.org/entity/Q312'), ('sname', 'Apple Inc.'), ('p', 'http://www.wikidata.org/prop/direct/P1056'), ('pname', 'product or material produced')]\n",
      "[('s', 'http://www.wikidata.org/entity/Q1050381'), ('sname', 'iMac G5'), ('p', 'http://www.wikidata.org/prop/direct/P279'), ('pname', 'subclass of')]\n",
      "[('s', 'http://www.wikidata.org/entity/Q2407708'), ('sname', 'iMac G4'), ('p', 'http://www.wikidata.org/prop/direct/P279'), ('pname', 'subclass of')]\n",
      "[('s', 'http://www.wikidata.org/entity/Q101439988'), ('sname', 'Apple M1'), ('p', 'http://www.wikidata.org/prop/direct/P1535'), ('pname', 'used by')]\n",
      "[('s', 'http://www.wikidata.org/entity/Q406655'), ('sname', 'AirDrop'), ('p', 'http://www.wikidata.org/prop/direct/P400'), ('pname', 'platform')]\n",
      "[('s', 'http://www.wikidata.org/entity/Q574890'), ('sname', 'Retina Display'), ('p', 'http://www.wikidata.org/prop/direct/P1535'), ('pname', 'used by')]\n",
      "[('s', 'http://www.wikidata.org/entity/Q106576259'), ('sname', 'iMac (Apple silicon)'), ('p', 'http://www.wikidata.org/prop/direct/P279'), ('pname', 'subclass of')]\n"
     ]
    },
    {
     "data": {
      "text/plain": [
       "9"
      ]
     },
     "execution_count": 4,
     "metadata": {},
     "output_type": "execute_result"
    }
   ],
   "source": [
    "## wd:Q14091\tiMac\tnode\n",
    "\n",
    "queryString = \"\"\"\n",
    "SELECT ?s ?sname ?p ?pname\n",
    "WHERE { \n",
    "\n",
    "    ?s ?p wd:Q14091 . \n",
    "    # label\n",
    "    ?p <http://schema.org/name> ?pname .\n",
    "    ?s <http://schema.org/name> ?sname .\n",
    "} \n",
    "LIMIT 100\n",
    "\"\"\"\n",
    "\n",
    "print(\"Results\")\n",
    "run_query(queryString)"
   ]
  },
  {
   "cell_type": "code",
   "execution_count": 5,
   "id": "208cf541-3f04-4af8-8227-cff32b42fd60",
   "metadata": {},
   "outputs": [
    {
     "name": "stdout",
     "output_type": "stream",
     "text": [
      "Results\n",
      "[('s', 'http://www.wikidata.org/prop/direct/P176'), ('sname', 'manufacturer'), ('p', 'http://www.wikidata.org/entity/Q312'), ('pname', 'Apple Inc.')]\n",
      "[('s', 'http://www.wikidata.org/prop/direct/P178'), ('sname', 'developer'), ('p', 'http://www.wikidata.org/entity/Q312'), ('pname', 'Apple Inc.')]\n",
      "[('s', 'http://www.wikidata.org/prop/direct/P1889'), ('sname', 'different from'), ('p', 'http://www.wikidata.org/entity/Q306273'), ('pname', 'eMac')]\n",
      "[('s', 'http://www.wikidata.org/prop/direct/P279'), ('sname', 'subclass of'), ('p', 'http://www.wikidata.org/entity/Q75687'), ('pname', 'Apple Macintosh')]\n",
      "[('s', 'http://www.wikidata.org/prop/direct/P279'), ('sname', 'subclass of'), ('p', 'http://www.wikidata.org/entity/Q1258213'), ('pname', 'all-in-one PC')]\n",
      "[('s', 'http://www.wikidata.org/prop/direct/P287'), ('sname', 'designed by'), ('p', 'http://www.wikidata.org/entity/Q164750'), ('pname', 'Jony ive')]\n",
      "[('s', 'http://www.wikidata.org/prop/direct/P306'), ('sname', 'operating system'), ('p', 'http://www.wikidata.org/entity/Q14116'), ('pname', 'macOS')]\n",
      "[('s', 'http://www.wikidata.org/prop/direct/P31'), ('sname', 'instance of'), ('p', 'http://www.wikidata.org/entity/Q431289'), ('pname', 'brand')]\n",
      "[('s', 'http://www.wikidata.org/prop/direct/P31'), ('sname', 'instance of'), ('p', 'http://www.wikidata.org/entity/Q60484681'), ('pname', 'computer model series')]\n"
     ]
    },
    {
     "data": {
      "text/plain": [
       "9"
      ]
     },
     "execution_count": 5,
     "metadata": {},
     "output_type": "execute_result"
    }
   ],
   "source": [
    "## wd:Q14091\tiMac\tnode\n",
    "\n",
    "queryString = \"\"\"\n",
    "SELECT ?s ?sname ?p ?pname\n",
    "WHERE { \n",
    "\n",
    "    wd:Q14091 ?s ?p . \n",
    "    # label\n",
    "    ?p <http://schema.org/name> ?pname .\n",
    "    ?s <http://schema.org/name> ?sname .\n",
    "} \n",
    "LIMIT 100\n",
    "\"\"\"\n",
    "\n",
    "print(\"Results\")\n",
    "run_query(queryString)"
   ]
  },
  {
   "cell_type": "code",
   "execution_count": 6,
   "id": "34048b79-00c0-4515-9491-35d80305aa2c",
   "metadata": {},
   "outputs": [
    {
     "name": "stdout",
     "output_type": "stream",
     "text": [
      "Results\n",
      "[('callret-0', '668')]\n"
     ]
    },
    {
     "data": {
      "text/plain": [
       "1"
      ]
     },
     "execution_count": 6,
     "metadata": {},
     "output_type": "execute_result"
    }
   ],
   "source": [
    "# - Products developed by Apple Inc. - #\n",
    "## wd:Q14091\tiMac\tnode\n",
    "## wdt:P178 -> developer \n",
    "## wd:Q312 -> Apple Inc.\n",
    "\n",
    "\n",
    "queryString = \"\"\"\n",
    "SELECT COUNT(?product)\n",
    "WHERE { \n",
    "\n",
    "    ?product wdt:P178 wd:Q312 .\n",
    "    #?product wdt:P287 ?designers .\n",
    "    \n",
    "    # label\n",
    "    ?product <http://schema.org/name> ?productname .\n",
    "    #?designers <http://schema.org/name> ?designersname\n",
    "} \n",
    "\n",
    "\"\"\"\n",
    "\n",
    "print(\"Results\")\n",
    "run_query(queryString)"
   ]
  },
  {
   "cell_type": "code",
   "execution_count": 7,
   "id": "ba5f4982-6a6a-468d-9519-c4b3b5116812",
   "metadata": {},
   "outputs": [
    {
     "name": "stdout",
     "output_type": "stream",
     "text": [
      "Results\n",
      "[('s', 'http://www.wikidata.org/entity/Q14091'), ('sname', 'iMac'), ('p', 'http://www.wikidata.org/prop/direct/P287'), ('pname', 'designed by')]\n",
      "[('s', 'http://www.wikidata.org/entity/Q9479'), ('sname', 'iPod'), ('p', 'http://www.wikidata.org/prop/direct/P170'), ('pname', 'creator')]\n",
      "[('s', 'http://www.wikidata.org/entity/Q817363'), ('sname', 'Benjamin Franklin Medal'), ('p', 'http://www.wikidata.org/prop/direct/P1346'), ('pname', 'winner')]\n",
      "[('s', 'http://www.wikidata.org/entity/Q30587923'), ('sname', 'Designed by Apple in California'), ('p', 'http://www.wikidata.org/prop/direct/P50'), ('pname', 'author')]\n"
     ]
    },
    {
     "data": {
      "text/plain": [
       "4"
      ]
     },
     "execution_count": 7,
     "metadata": {},
     "output_type": "execute_result"
    }
   ],
   "source": [
    "## designers who worked for apple:\n",
    "#designer\n",
    "queryString = \"\"\"\n",
    "SELECT ?s ?sname ?p ?pname\n",
    "WHERE { \n",
    "    ?s ?p wd:Q164750 .\n",
    "    # label\n",
    "    ?p <http://schema.org/name> ?pname .\n",
    "    ?s <http://schema.org/name> ?sname .\n",
    "} \n",
    "\n",
    "\"\"\"\n",
    "\n",
    "print(\"Results\")\n",
    "run_query(queryString)"
   ]
  },
  {
   "cell_type": "code",
   "execution_count": 8,
   "id": "11450af7-a56e-4f9e-90b3-dc627c12b339",
   "metadata": {},
   "outputs": [
    {
     "name": "stdout",
     "output_type": "stream",
     "text": [
      "Results\n",
      "[('s', 'http://www.wikidata.org/prop/direct/P166'), ('sname', 'award received'), ('p', 'http://www.wikidata.org/entity/Q42559576'), ('pname', 'honorary doctor of the University of Gothenburg')]\n",
      "[('s', 'http://www.wikidata.org/prop/direct/P69'), ('sname', 'educated at'), ('p', 'http://www.wikidata.org/entity/Q2503794'), ('pname', 'Northumbria University')]\n"
     ]
    },
    {
     "data": {
      "text/plain": [
       "2"
      ]
     },
     "execution_count": 8,
     "metadata": {},
     "output_type": "execute_result"
    }
   ],
   "source": [
    "## designers who worked for apple:\n",
    "queryString = \"\"\"\n",
    "SELECT ?s ?sname ?p ?pname\n",
    "WHERE { \n",
    "    wd:Q164750 ?s ?p  .\n",
    "    # label\n",
    "    ?p <http://schema.org/name> ?pname .\n",
    "    ?s <http://schema.org/name> ?sname .\n",
    "    FILTER regex(?pname, \"university\", \"i\") \n",
    "} \n",
    "limit 50\n",
    "\"\"\"\n",
    "\n",
    "print(\"Results\")\n",
    "run_query(queryString)"
   ]
  },
  {
   "cell_type": "code",
   "execution_count": 9,
   "id": "9ee97328-b156-48e4-a639-c5249d297329",
   "metadata": {},
   "outputs": [
    {
     "name": "stdout",
     "output_type": "stream",
     "text": [
      "Results\n",
      "[('university', 'http://www.wikidata.org/entity/Q2503794'), ('universityname', 'Northumbria University')]\n"
     ]
    },
    {
     "data": {
      "text/plain": [
       "1"
      ]
     },
     "execution_count": 9,
     "metadata": {},
     "output_type": "execute_result"
    }
   ],
   "source": [
    "# show the university or degree of apple designers\n",
    "queryString = \"\"\"\n",
    "SELECT ?university ?universityname\n",
    "WHERE { \n",
    "    wd:Q164750 wdt:P69 ?university  .\n",
    "    # label\n",
    "    ?university <http://schema.org/name> ?universityname .\n",
    "    #?s <http://schema.org/name> ?sname .\n",
    "} \n",
    "limit 50\n",
    "\"\"\"\n",
    "\n",
    "print(\"Results\")\n",
    "run_query(queryString)"
   ]
  },
  {
   "cell_type": "markdown",
   "id": "d52c02c9-e67d-4b72-96f2-c2e16fde6d04",
   "metadata": {},
   "source": [
    "#### Apple products and their designers"
   ]
  },
  {
   "cell_type": "code",
   "execution_count": 10,
   "id": "6eac8862-2017-48ca-8456-fed2f361eea5",
   "metadata": {},
   "outputs": [
    {
     "name": "stdout",
     "output_type": "stream",
     "text": [
      "Results\n",
      "[('productname', 'AirPods'), ('designername', 'Apple Inc.')]\n",
      "[('productname', 'AirPods Max'), ('designername', 'Apple Inc.')]\n",
      "[('productname', 'AirPods Pro'), ('designername', 'Apple Inc.')]\n",
      "[('productname', 'AirPower'), ('designername', 'Apple Inc.')]\n",
      "[('productname', 'Apple A series'), ('designername', 'Apple Inc.')]\n",
      "[('productname', 'Apple A13 Bionic'), ('designername', 'Apple Inc.')]\n",
      "[('productname', 'Apple A14 Bionic'), ('designername', 'Apple Inc.')]\n",
      "[('productname', 'Apple A4'), ('designername', 'Apple Inc.')]\n",
      "[('productname', 'Apple A5'), ('designername', 'Apple Inc.')]\n",
      "[('productname', 'Apple A5X'), ('designername', 'Apple Inc.')]\n",
      "[('productname', 'Apple A6'), ('designername', 'Apple Inc.')]\n",
      "[('productname', 'Apple A6X'), ('designername', 'Apple Inc.')]\n",
      "[('productname', 'Apple A7'), ('designername', 'Apple Inc.')]\n",
      "[('productname', 'Apple A8'), ('designername', 'Apple Inc.')]\n",
      "[('productname', 'Apple M series'), ('designername', 'Apple Inc.')]\n",
      "[('productname', 'Apple M1'), ('designername', 'Apple Inc.')]\n",
      "[('productname', 'Apple Pencil'), ('designername', 'Apple Inc.')]\n",
      "[('productname', 'Apple T1'), ('designername', 'Apple Inc.')]\n",
      "[('productname', 'Apple U1'), ('designername', 'Apple Inc.')]\n",
      "[('productname', 'Apple W1'), ('designername', 'Apple Inc.')]\n",
      "[('productname', 'Apple W2'), ('designername', 'Apple Inc.')]\n",
      "[('productname', 'Apple W3'), ('designername', 'Apple Inc.')]\n",
      "[('productname', 'Apple Watch'), ('designername', 'Apple Inc.')]\n",
      "[('productname', 'Apple Watch Series 3'), ('designername', 'Apple Inc.')]\n",
      "[('productname', 'Bridge OS'), ('designername', 'Apple Inc.')]\n",
      "[('productname', 'Etoys'), ('designername', 'Alan Kay')]\n",
      "[('productname', 'HomePod'), ('designername', 'Apple Inc.')]\n",
      "[('productname', 'Mac Pro'), ('designername', 'Apple Inc.')]\n",
      "[('productname', 'SF Compact'), ('designername', 'Apple Inc.')]\n",
      "[('productname', 'SF Compact Rounded'), ('designername', 'Apple Inc.')]\n",
      "[('productname', 'SF Mono'), ('designername', 'Apple Inc.')]\n",
      "[('productname', 'SF Pro Rounded'), ('designername', 'Apple Inc.')]\n",
      "[('productname', 'San Francisco'), ('designername', 'Apple Inc.')]\n",
      "[('productname', 'San Francisco'), ('designername', 'Apple Inc.')]\n",
      "[('productname', 'Siri Remote'), ('designername', 'Apple Inc.')]\n",
      "[('productname', 'Swift'), ('designername', 'Chris Lattner')]\n",
      "[('productname', 'apple watch band'), ('designername', 'Apple Inc.')]\n",
      "[('productname', 'iMac'), ('designername', 'Jony ive')]\n",
      "[('productname', 'iPad (5th generation)'), ('designername', 'Apple Inc.')]\n",
      "[('productname', 'iPhone 4S'), ('designername', 'Apple Inc.')]\n",
      "[('productname', 'iPhone X'), ('designername', 'Apple Inc.')]\n",
      "[('productname', 'iPod Touch'), ('designername', 'Apple Inc.')]\n",
      "[('productname', 'iPod Touch 4'), ('designername', 'Apple Inc.')]\n"
     ]
    },
    {
     "data": {
      "text/plain": [
       "43"
      ]
     },
     "execution_count": 10,
     "metadata": {},
     "output_type": "execute_result"
    }
   ],
   "source": [
    "queryString = \"\"\"\n",
    "SELECT ?productname ?designername\n",
    "WHERE { \n",
    "    ?product wdt:P178 wd:Q312 .\n",
    "    ?product wdt:P287 ?designer .\n",
    "    # label\n",
    "    ?product <http://schema.org/name> ?productname .\n",
    "    ?designer <http://schema.org/name> ?designername .\n",
    "} \n",
    "ORDER BY ?productname\n",
    "LIMIT 100\n",
    "\"\"\"\n",
    "\n",
    "print(\"Results\")\n",
    "run_query(queryString)"
   ]
  },
  {
   "cell_type": "code",
   "execution_count": 11,
   "id": "b0d847d0-32a0-4553-aecb-e4b172927482",
   "metadata": {},
   "outputs": [
    {
     "name": "stdout",
     "output_type": "stream",
     "text": [
      "Results\n",
      "[('p', 'http://www.wikidata.org/prop/direct/P279'), ('pname', 'subclass of'), ('o', 'http://www.wikidata.org/entity/Q80071'), ('oname', 'symbol')]\n",
      "[('p', 'http://www.wikidata.org/prop/direct/P279'), ('pname', 'subclass of'), ('o', 'http://www.wikidata.org/entity/Q131257'), ('oname', 'intellectual property')]\n",
      "[('p', 'http://www.wikidata.org/prop/direct/P1343'), ('pname', 'described by source'), ('o', 'http://www.wikidata.org/entity/Q602358'), ('oname', 'Brockhaus and Efron Encyclopedic Dictionary')]\n",
      "[('p', 'http://www.wikidata.org/prop/direct/P279'), ('pname', 'subclass of'), ('o', 'http://www.wikidata.org/entity/Q3695082'), ('oname', 'sign')]\n",
      "[('p', 'http://www.wikidata.org/prop/direct/P913'), ('pname', 'notation'), ('o', 'http://www.wikidata.org/entity/Q1944044'), ('oname', 'trademark symbol')]\n",
      "[('p', 'http://www.wikidata.org/prop/direct/P1424'), ('pname', \"topic's main template\"), ('o', 'http://www.wikidata.org/entity/Q5616238'), ('oname', 'Template:Infobox brand')]\n",
      "[('p', 'http://www.wikidata.org/prop/direct/P279'), ('pname', 'subclass of'), ('o', 'http://www.wikidata.org/entity/Q1632297'), ('oname', 'protected name')]\n",
      "[('p', 'http://www.wikidata.org/prop/direct/P910'), ('pname', \"topic's main category\"), ('o', 'http://www.wikidata.org/entity/Q5896763'), ('oname', 'Category:Trademarks')]\n",
      "[('p', 'http://www.wikidata.org/prop/direct/P1889'), ('pname', 'different from'), ('o', 'http://www.wikidata.org/entity/Q1853446'), ('oname', 'registered trademark symbol')]\n",
      "[('p', 'http://www.wikidata.org/prop/direct/P1424'), ('pname', \"topic's main template\"), ('o', 'http://www.wikidata.org/entity/Q15728918'), ('oname', 'Template:Trademark law')]\n"
     ]
    },
    {
     "data": {
      "text/plain": [
       "10"
      ]
     },
     "execution_count": 11,
     "metadata": {},
     "output_type": "execute_result"
    }
   ],
   "source": [
    "# trademark `wd:Q167270`  | trademark     | node \n",
    "queryString = \"\"\"\n",
    "SELECT ?p ?pname ?o ?oname\n",
    "WHERE { \n",
    "\n",
    "    wd:Q167270 ?p ?o .\n",
    "    # Labels\n",
    "    ?p <http://schema.org/name> ?pname .\n",
    "    ?o <http://schema.org/name> ?oname .\n",
    "    #FILTER regex(?pname, \"company\", \"i\") \n",
    "} \n",
    "LIMIT 20\n",
    "\"\"\"\n",
    "\n",
    "print(\"Results\")\n",
    "run_query(queryString)"
   ]
  },
  {
   "cell_type": "code",
   "execution_count": 12,
   "id": "2b057961-f410-4c85-978c-c96755b14fd8",
   "metadata": {},
   "outputs": [
    {
     "name": "stdout",
     "output_type": "stream",
     "text": [
      "Results\n",
      "[('p', 'http://www.wikidata.org/entity/Q7607050'), ('pname', \"Stella D'oro Biscuit Company\"), ('o', 'http://www.wikidata.org/prop/direct/P31'), ('oname', 'instance of')]\n",
      "[('p', 'http://www.wikidata.org/entity/Q7910733'), ('pname', 'Valentin Blatz Brewing Company'), ('o', 'http://www.wikidata.org/prop/direct/P31'), ('oname', 'instance of')]\n",
      "[('p', 'http://www.wikidata.org/entity/Q7624252'), ('pname', 'Stroh Brewery Company'), ('o', 'http://www.wikidata.org/prop/direct/P31'), ('oname', 'instance of')]\n",
      "[('p', 'http://www.wikidata.org/entity/Q1686726'), ('pname', 'Jello Shoecompany'), ('o', 'http://www.wikidata.org/prop/direct/P31'), ('oname', 'instance of')]\n",
      "[('p', 'http://www.wikidata.org/entity/Q6286885'), ('pname', 'Joseph Schlitz Brewing Company'), ('o', 'http://www.wikidata.org/prop/direct/P31'), ('oname', 'instance of')]\n",
      "[('p', 'http://www.wikidata.org/entity/Q5577107'), ('pname', 'Goebel Brewing Company'), ('o', 'http://www.wikidata.org/prop/direct/P31'), ('oname', 'instance of')]\n",
      "[('p', 'http://www.wikidata.org/entity/Q5550379'), ('pname', 'Gerber Life Insurance Company'), ('o', 'http://www.wikidata.org/prop/direct/P31'), ('oname', 'instance of')]\n",
      "[('p', 'http://www.wikidata.org/entity/Q5024066'), ('pname', 'Calumet Baking Powder Company'), ('o', 'http://www.wikidata.org/prop/direct/P31'), ('oname', 'instance of')]\n"
     ]
    },
    {
     "data": {
      "text/plain": [
       "8"
      ]
     },
     "execution_count": 12,
     "metadata": {},
     "output_type": "execute_result"
    }
   ],
   "source": [
    "# trademark `wd:Q167270`  | trademark     | node \n",
    "queryString = \"\"\"\n",
    "SELECT ?p ?pname ?o ?oname\n",
    "WHERE { \n",
    "\n",
    "    ?p ?o wd:Q167270 .\n",
    "    # Labels\n",
    "    ?p <http://schema.org/name> ?pname .\n",
    "    ?o <http://schema.org/name> ?oname .\n",
    "    FILTER regex(?pname, \"company\", \"i\") \n",
    "} \n",
    "LIMIT 40\n",
    "\"\"\"\n",
    "\n",
    "print(\"Results\")\n",
    "run_query(queryString)"
   ]
  },
  {
   "cell_type": "code",
   "execution_count": 13,
   "id": "c15c866a-bf5d-445c-9c09-d198a3032c7e",
   "metadata": {},
   "outputs": [
    {
     "name": "stdout",
     "output_type": "stream",
     "text": [
      "Results\n",
      "[('p', 'http://www.wikidata.org/prop/direct/P1056'), ('pname', 'product or material produced'), ('o', 'http://www.wikidata.org/entity/Q26833946'), ('oname', 'iPhone\\xa07 Plus')]\n",
      "[('p', 'http://www.wikidata.org/prop/direct/P1056'), ('pname', 'product or material produced'), ('o', 'http://www.wikidata.org/entity/Q39510168'), ('oname', 'iPhone X')]\n",
      "[('p', 'http://www.wikidata.org/prop/direct/P1056'), ('pname', 'product or material produced'), ('o', 'http://www.wikidata.org/entity/Q20962515'), ('oname', 'Apple Pencil')]\n",
      "[('p', 'http://www.wikidata.org/prop/direct/P452'), ('pname', 'industry'), ('o', 'http://www.wikidata.org/entity/Q581105'), ('oname', 'consumer electronics')]\n",
      "[('p', 'http://www.wikidata.org/prop/direct/P463'), ('pname', 'member of'), ('o', 'http://www.wikidata.org/entity/Q79100838'), ('oname', 'Zigbee Alliance')]\n",
      "[('p', 'http://www.wikidata.org/prop/direct/P1056'), ('pname', 'product or material produced'), ('o', 'http://www.wikidata.org/entity/Q18010891'), ('oname', 'iPhone 6 Plus')]\n",
      "[('p', 'http://www.wikidata.org/prop/direct/P1056'), ('pname', 'product or material produced'), ('o', 'http://www.wikidata.org/entity/Q20966885'), ('oname', 'iPhone 6S Plus')]\n",
      "[('p', 'http://www.wikidata.org/prop/direct/P127'), ('pname', 'owned by'), ('o', 'http://www.wikidata.org/entity/Q849363'), ('oname', 'The Vanguard Group')]\n",
      "[('p', 'http://www.wikidata.org/prop/direct/P740'), ('pname', 'location of formation'), ('o', 'http://www.wikidata.org/entity/Q864124'), ('oname', 'Los Altosi')]\n",
      "[('p', 'http://www.wikidata.org/prop/direct/P361'), ('pname', 'part of'), ('o', 'http://www.wikidata.org/entity/Q180816'), ('oname', 'Dow Jones Industrial Average')]\n",
      "[('p', 'http://www.wikidata.org/prop/direct/P463'), ('pname', 'member of'), ('o', 'http://www.wikidata.org/entity/Q3616482'), ('oname', 'Wireless Power Consortium')]\n",
      "[('p', 'http://www.wikidata.org/prop/direct/P112'), ('pname', 'founded by'), ('o', 'http://www.wikidata.org/entity/Q483382'), ('oname', 'Steve Wozniak')]\n",
      "[('p', 'http://www.wikidata.org/prop/direct/P3320'), ('pname', 'board member'), ('o', 'http://www.wikidata.org/entity/Q532423'), ('oname', 'Bob Iger')]\n",
      "[('p', 'http://www.wikidata.org/prop/direct/P1056'), ('pname', 'product or material produced'), ('o', 'http://www.wikidata.org/entity/Q214276'), ('oname', 'MacBook Pro')]\n",
      "[('p', 'http://www.wikidata.org/prop/direct/P1056'), ('pname', 'product or material produced'), ('o', 'http://www.wikidata.org/entity/Q308869'), ('oname', 'Mac Pro')]\n",
      "[('p', 'http://www.wikidata.org/prop/direct/P1056'), ('pname', 'product or material produced'), ('o', 'http://www.wikidata.org/entity/Q486053'), ('oname', 'MacBook')]\n",
      "[('p', 'http://www.wikidata.org/prop/direct/P1056'), ('pname', 'product or material produced'), ('o', 'http://www.wikidata.org/entity/Q270285'), ('oname', 'Apple TV')]\n",
      "[('p', 'http://www.wikidata.org/prop/direct/P1056'), ('pname', 'product or material produced'), ('o', 'http://www.wikidata.org/entity/Q300859'), ('oname', 'iPhone 3GS')]\n",
      "[('p', 'http://www.wikidata.org/prop/direct/P1056'), ('pname', 'product or material produced'), ('o', 'http://www.wikidata.org/entity/Q300890'), ('oname', 'iPhone 4')]\n",
      "[('p', 'http://www.wikidata.org/prop/direct/P1056'), ('pname', 'product or material produced'), ('o', 'http://www.wikidata.org/entity/Q300947'), ('oname', 'iPhone 3G')]\n"
     ]
    },
    {
     "data": {
      "text/plain": [
       "20"
      ]
     },
     "execution_count": 13,
     "metadata": {},
     "output_type": "execute_result"
    }
   ],
   "source": [
    "#`wd:Q312` | Apple Inc.    | node      |\n",
    "queryString = \"\"\"\n",
    "SELECT ?p ?pname ?o ?oname\n",
    "WHERE { \n",
    "\n",
    "    wd:Q312 ?p ?o .\n",
    "    # Labels\n",
    "    ?p <http://schema.org/name> ?pname .\n",
    "    ?o <http://schema.org/name> ?oname .\n",
    "    #FILTER regex(?pname, \"company\", \"i\") \n",
    "} \n",
    "LIMIT 20\n",
    "\"\"\"\n",
    "\n",
    "print(\"Results\")\n",
    "run_query(queryString)\n",
    "\n",
    "## P1056"
   ]
  },
  {
   "cell_type": "code",
   "execution_count": 14,
   "id": "42a45a5f-ceda-4d76-b6b4-d5158a9344d9",
   "metadata": {},
   "outputs": [
    {
     "name": "stdout",
     "output_type": "stream",
     "text": [
      "Results\n",
      "[('p', 'http://www.wikidata.org/entity/Q98839064'), ('pname', 'Epic Games v. Apple'), ('o', 'http://www.wikidata.org/prop/direct/P1591'), ('oname', 'defendant')]\n",
      "[('p', 'http://www.wikidata.org/entity/Q2995539'), ('pname', 'Apple Corps v Apple Computer'), ('o', 'http://www.wikidata.org/prop/direct/P1591'), ('oname', 'defendant')]\n",
      "[('p', 'http://www.wikidata.org/entity/Q13218275'), ('pname', 'Apple logo'), ('o', 'http://www.wikidata.org/prop/direct/P1268'), ('oname', 'represents')]\n",
      "[('p', 'http://www.wikidata.org/entity/Q3506674'), ('pname', 'Apple Switch ad campaign'), ('o', 'http://www.wikidata.org/prop/direct/P6291'), ('oname', 'advertises')]\n",
      "[('p', 'http://www.wikidata.org/entity/Q420951'), ('pname', 'Get a Mac'), ('o', 'http://www.wikidata.org/prop/direct/P6291'), ('oname', 'advertises')]\n",
      "[('p', 'http://www.wikidata.org/entity/Q1191023'), ('pname', 'Think different'), ('o', 'http://www.wikidata.org/prop/direct/P6291'), ('oname', 'advertises')]\n",
      "[('p', 'http://www.wikidata.org/entity/Q2935440'), ('pname', 'Apple Inc. advertising'), ('o', 'http://www.wikidata.org/prop/direct/P6291'), ('oname', 'advertises')]\n",
      "[('p', 'http://www.wikidata.org/entity/Q6956871'), ('pname', \"Nabih's Inc.\"), ('o', 'http://www.wikidata.org/prop/direct/P1056'), ('oname', 'product or material produced')]\n",
      "[('p', 'http://www.wikidata.org/entity/Q16186567'), ('pname', 'Joe Ybarra'), ('o', 'http://www.wikidata.org/prop/direct/P108'), ('oname', 'employer')]\n",
      "[('p', 'http://www.wikidata.org/entity/Q200678'), ('pname', 'Queen Rania of Jordan'), ('o', 'http://www.wikidata.org/prop/direct/P108'), ('oname', 'employer')]\n",
      "[('p', 'http://www.wikidata.org/entity/Q21984549'), ('pname', 'Johny Srouji'), ('o', 'http://www.wikidata.org/prop/direct/P108'), ('oname', 'employer')]\n",
      "[('p', 'http://www.wikidata.org/entity/Q84197727'), ('pname', 'Te Hu'), ('o', 'http://www.wikidata.org/prop/direct/P108'), ('oname', 'employer')]\n",
      "[('p', 'http://www.wikidata.org/entity/Q55445014'), ('pname', 'Xinhao Wang'), ('o', 'http://www.wikidata.org/prop/direct/P108'), ('oname', 'employer')]\n",
      "[('p', 'http://www.wikidata.org/entity/Q19958103'), ('pname', 'Rod Holt'), ('o', 'http://www.wikidata.org/prop/direct/P108'), ('oname', 'employer')]\n",
      "[('p', 'http://www.wikidata.org/entity/Q16221584'), ('pname', 'Yoky Matsuoka'), ('o', 'http://www.wikidata.org/prop/direct/P108'), ('oname', 'employer')]\n",
      "[('p', 'http://www.wikidata.org/entity/Q98251'), ('pname', 'Hartmut Esslinger'), ('o', 'http://www.wikidata.org/prop/direct/P108'), ('oname', 'employer')]\n",
      "[('p', 'http://www.wikidata.org/entity/Q483382'), ('pname', 'Steve Wozniak'), ('o', 'http://www.wikidata.org/prop/direct/P108'), ('oname', 'employer')]\n",
      "[('p', 'http://www.wikidata.org/entity/Q282722'), ('pname', 'Trent Reznor'), ('o', 'http://www.wikidata.org/prop/direct/P108'), ('oname', 'employer')]\n",
      "[('p', 'http://www.wikidata.org/entity/Q529233'), ('pname', 'Angela Ahrendts'), ('o', 'http://www.wikidata.org/prop/direct/P108'), ('oname', 'employer')]\n",
      "[('p', 'http://www.wikidata.org/entity/Q28937563'), ('pname', 'Graydon Hoare'), ('o', 'http://www.wikidata.org/prop/direct/P108'), ('oname', 'employer')]\n"
     ]
    },
    {
     "data": {
      "text/plain": [
       "20"
      ]
     },
     "execution_count": 14,
     "metadata": {},
     "output_type": "execute_result"
    }
   ],
   "source": [
    "#`wd:Q312` | Apple Inc.    | node      |\n",
    "queryString = \"\"\"\n",
    "SELECT ?p ?pname ?o ?oname\n",
    "WHERE { \n",
    "\n",
    "    ?p ?o wd:Q312 .\n",
    "    # Labels\n",
    "    ?p <http://schema.org/name> ?pname .\n",
    "    ?o <http://schema.org/name> ?oname .\n",
    "\n",
    "} \n",
    "LIMIT 20\n",
    "\"\"\"\n",
    "\n",
    "print(\"Results\")\n",
    "run_query(queryString)"
   ]
  },
  {
   "cell_type": "code",
   "execution_count": 15,
   "id": "5e1043b9-9217-4ebf-aa68-f89b87afa66a",
   "metadata": {},
   "outputs": [
    {
     "name": "stdout",
     "output_type": "stream",
     "text": [
      "Results\n",
      "[('employer', 'http://www.wikidata.org/entity/Q16186567'), ('employername', 'Joe Ybarra')]\n",
      "[('employer', 'http://www.wikidata.org/entity/Q200678'), ('employername', 'Queen Rania of Jordan')]\n",
      "[('employer', 'http://www.wikidata.org/entity/Q21984549'), ('employername', 'Johny Srouji')]\n",
      "[('employer', 'http://www.wikidata.org/entity/Q84197727'), ('employername', 'Te Hu')]\n",
      "[('employer', 'http://www.wikidata.org/entity/Q55445014'), ('employername', 'Xinhao Wang')]\n",
      "[('employer', 'http://www.wikidata.org/entity/Q19958103'), ('employername', 'Rod Holt')]\n",
      "[('employer', 'http://www.wikidata.org/entity/Q16221584'), ('employername', 'Yoky Matsuoka')]\n",
      "[('employer', 'http://www.wikidata.org/entity/Q98251'), ('employername', 'Hartmut Esslinger')]\n",
      "[('employer', 'http://www.wikidata.org/entity/Q483382'), ('employername', 'Steve Wozniak')]\n",
      "[('employer', 'http://www.wikidata.org/entity/Q282722'), ('employername', 'Trent Reznor')]\n",
      "[('employer', 'http://www.wikidata.org/entity/Q529233'), ('employername', 'Angela Ahrendts')]\n",
      "[('employer', 'http://www.wikidata.org/entity/Q28937563'), ('employername', 'Graydon Hoare')]\n",
      "[('employer', 'http://www.wikidata.org/entity/Q5237671'), ('employername', 'David Moon')]\n",
      "[('employer', 'http://www.wikidata.org/entity/Q13560780'), ('employername', 'Brit Morin')]\n",
      "[('employer', 'http://www.wikidata.org/entity/Q5229427'), ('employername', 'Dave Morin')]\n",
      "[('employer', 'http://www.wikidata.org/entity/Q18810921'), ('employername', 'Chrisann Brennan')]\n",
      "[('employer', 'http://www.wikidata.org/entity/Q19837'), ('employername', 'Steve Jobs')]\n",
      "[('employer', 'http://www.wikidata.org/entity/Q6078'), ('employername', 'Dr. Dre')]\n",
      "[('employer', 'http://www.wikidata.org/entity/Q1741083'), ('employername', 'Ron Johnson')]\n",
      "[('employer', 'http://www.wikidata.org/entity/Q4908965'), ('employername', 'Bill Fernandez')]\n"
     ]
    },
    {
     "data": {
      "text/plain": [
       "20"
      ]
     },
     "execution_count": 15,
     "metadata": {},
     "output_type": "execute_result"
    }
   ],
   "source": [
    "## Apple employer \n",
    "queryString = \"\"\"\n",
    "SELECT ?employer ?employername\n",
    "WHERE { \n",
    "\n",
    "    ?employer wdt:P108 wd:Q312 .\n",
    "    # Labels\n",
    "    ?employer <http://schema.org/name> ?employername .\n",
    "    #?o <http://schema.org/name> ?oname .\n",
    "    #FILTER regex(?oname, \"employer\", \"i\") \n",
    "} \n",
    "LIMIT 20\n",
    "\"\"\"\n",
    "\n",
    "print(\"Results\")\n",
    "run_query(queryString)"
   ]
  },
  {
   "cell_type": "code",
   "execution_count": 16,
   "id": "17c04fcb-3e42-4e45-865a-3938a2d029a1",
   "metadata": {},
   "outputs": [
    {
     "name": "stdout",
     "output_type": "stream",
     "text": [
      "Results\n",
      "[('p', 'http://www.wikidata.org/prop/direct/P463'), ('pname', 'member of'), ('o', 'http://www.wikidata.org/entity/Q159452'), ('oname', 'capoeira')]\n",
      "[('p', 'http://www.wikidata.org/prop/direct/P69'), ('pname', 'educated at'), ('o', 'http://www.wikidata.org/entity/Q736674'), ('oname', 'University of Colorado Boulder')]\n",
      "[('p', 'http://www.wikidata.org/prop/direct/P166'), ('pname', 'award received'), ('o', 'http://www.wikidata.org/entity/Q1541081'), ('oname', 'Grace Murray Hopper Award')]\n",
      "[('p', 'http://www.wikidata.org/prop/direct/P166'), ('pname', 'award received'), ('o', 'http://www.wikidata.org/entity/Q29545180'), ('oname', 'Computer History Museum fellow')]\n",
      "[('p', 'http://www.wikidata.org/prop/direct/P101'), ('pname', 'field of work'), ('o', 'http://www.wikidata.org/entity/Q80993'), ('oname', 'software engineering')]\n",
      "[('p', 'http://www.wikidata.org/prop/direct/P800'), ('pname', 'notable work'), ('o', 'http://www.wikidata.org/entity/Q177491'), ('oname', 'Breakout')]\n",
      "[('p', 'http://www.wikidata.org/prop/direct/P108'), ('pname', 'employer'), ('o', 'http://www.wikidata.org/entity/Q1145731'), ('oname', 'University of Technology Sydney')]\n",
      "[('p', 'http://www.wikidata.org/prop/direct/P69'), ('pname', 'educated at'), ('o', 'http://www.wikidata.org/entity/Q928272'), ('oname', 'De Anza College')]\n",
      "[('p', 'http://www.wikidata.org/prop/direct/P463'), ('pname', 'member of'), ('o', 'http://www.wikidata.org/entity/Q1065'), ('oname', 'United Nations')]\n",
      "[('p', 'http://www.wikidata.org/prop/direct/P69'), ('pname', 'educated at'), ('o', 'http://www.wikidata.org/entity/Q168756'), ('oname', 'University of California, Berkeley')]\n",
      "[('p', 'http://www.wikidata.org/prop/direct/P166'), ('pname', 'award received'), ('o', 'http://www.wikidata.org/entity/Q17132005'), ('oname', 'Hoover Medal')]\n",
      "[('p', 'http://www.wikidata.org/prop/direct/P101'), ('pname', 'field of work'), ('o', 'http://www.wikidata.org/entity/Q179310'), ('oname', 'computing')]\n",
      "[('p', 'http://www.wikidata.org/prop/direct/P1412'), ('pname', 'languages spoken, written or signed'), ('o', 'http://www.wikidata.org/entity/Q1860'), ('oname', 'English')]\n",
      "[('p', 'http://www.wikidata.org/prop/direct/P106'), ('pname', 'occupation'), ('o', 'http://www.wikidata.org/entity/Q205375'), ('oname', 'inventor')]\n",
      "[('p', 'http://www.wikidata.org/prop/direct/P27'), ('pname', 'country of citizenship'), ('o', 'http://www.wikidata.org/entity/Q30'), ('oname', 'United States of America')]\n",
      "[('p', 'http://www.wikidata.org/prop/direct/P106'), ('pname', 'occupation'), ('o', 'http://www.wikidata.org/entity/Q37226'), ('oname', 'teacher')]\n",
      "[('p', 'http://www.wikidata.org/prop/direct/P106'), ('pname', 'occupation'), ('o', 'http://www.wikidata.org/entity/Q43845'), ('oname', 'businessperson')]\n",
      "[('p', 'http://www.wikidata.org/prop/direct/P735'), ('pname', 'given name'), ('o', 'http://www.wikidata.org/entity/Q4927100'), ('oname', 'Stephen')]\n",
      "[('p', 'http://www.wikidata.org/prop/direct/P31'), ('pname', 'instance of'), ('o', 'http://www.wikidata.org/entity/Q5'), ('oname', 'human')]\n",
      "[('p', 'http://www.wikidata.org/prop/direct/P21'), ('pname', 'sex or gender'), ('o', 'http://www.wikidata.org/entity/Q6581097'), ('oname', 'male')]\n",
      "[('p', 'http://www.wikidata.org/prop/direct/P1343'), ('pname', 'described by source'), ('o', 'http://www.wikidata.org/entity/Q67311526'), ('oname', 'Obalky knih.cz')]\n",
      "[('p', 'http://www.wikidata.org/prop/direct/P106'), ('pname', 'occupation'), ('o', 'http://www.wikidata.org/entity/Q82594'), ('oname', 'computer scientist')]\n",
      "[('p', 'http://www.wikidata.org/prop/direct/P19'), ('pname', 'place of birth'), ('o', 'http://www.wikidata.org/entity/Q16553'), ('oname', 'San Jose')]\n",
      "[('p', 'http://www.wikidata.org/prop/direct/P1441'), ('pname', 'present in work'), ('o', 'http://www.wikidata.org/entity/Q12125162'), ('oname', 'iSteve')]\n",
      "[('p', 'http://www.wikidata.org/prop/direct/P166'), ('pname', 'award received'), ('o', 'http://www.wikidata.org/entity/Q1366018'), ('oname', 'National Inventors Hall of Fame')]\n",
      "[('p', 'http://www.wikidata.org/prop/direct/P800'), ('pname', 'notable work'), ('o', 'http://www.wikidata.org/entity/Q18981'), ('oname', 'Apple I')]\n",
      "[('p', 'http://www.wikidata.org/prop/direct/P800'), ('pname', 'notable work'), ('o', 'http://www.wikidata.org/entity/Q3017175'), ('oname', 'Apple II')]\n",
      "[('p', 'http://www.wikidata.org/prop/direct/P108'), ('pname', 'employer'), ('o', 'http://www.wikidata.org/entity/Q312'), ('oname', 'Apple Inc.')]\n",
      "[('p', 'http://www.wikidata.org/prop/direct/P1830'), ('pname', 'owner of'), ('o', 'http://www.wikidata.org/entity/Q312'), ('oname', 'Apple Inc.')]\n",
      "[('p', 'http://www.wikidata.org/prop/direct/P800'), ('pname', 'notable work'), ('o', 'http://www.wikidata.org/entity/Q312'), ('oname', 'Apple Inc.')]\n",
      "[('p', 'http://www.wikidata.org/prop/direct/P101'), ('pname', 'field of work'), ('o', 'http://www.wikidata.org/entity/Q43035'), ('oname', 'electrical engineering')]\n",
      "[('p', 'http://www.wikidata.org/prop/direct/P106'), ('pname', 'occupation'), ('o', 'http://www.wikidata.org/entity/Q5482740'), ('oname', 'programmer')]\n",
      "[('p', 'http://www.wikidata.org/prop/direct/P69'), ('pname', 'educated at'), ('o', 'http://www.wikidata.org/entity/Q5890521'), ('oname', 'Homestead High School')]\n",
      "[('p', 'http://www.wikidata.org/prop/direct/P166'), ('pname', 'award received'), ('o', 'http://www.wikidata.org/entity/Q937629'), ('oname', 'National Medal of Technology and Innovation')]\n",
      "[('p', 'http://www.wikidata.org/prop/direct/P69'), ('pname', 'educated at'), ('o', 'http://www.wikidata.org/entity/Q1206658'), ('oname', 'University of Colorado')]\n",
      "[('p', 'http://www.wikidata.org/prop/direct/P735'), ('pname', 'given name'), ('o', 'http://www.wikidata.org/entity/Q1820274'), ('oname', 'Gary')]\n",
      "[('p', 'http://www.wikidata.org/prop/direct/P101'), ('pname', 'field of work'), ('o', 'http://www.wikidata.org/entity/Q352842'), ('oname', 'teaching')]\n",
      "[('p', 'http://www.wikidata.org/prop/direct/P108'), ('pname', 'employer'), ('o', 'http://www.wikidata.org/entity/Q80978'), ('oname', 'Hewlett-Packard')]\n",
      "[('p', 'http://www.wikidata.org/prop/direct/P800'), ('pname', 'notable work'), ('o', 'http://www.wikidata.org/entity/Q1137478'), ('oname', 'Macintosh 128K')]\n",
      "[('p', 'http://www.wikidata.org/prop/direct/P734'), ('pname', 'family name'), ('o', 'http://www.wikidata.org/entity/Q28934506'), ('oname', 'Wozniak')]\n"
     ]
    },
    {
     "data": {
      "text/plain": [
       "40"
      ]
     },
     "execution_count": 16,
     "metadata": {},
     "output_type": "execute_result"
    }
   ],
   "source": [
    "# [('p', 'http://www.wikidata.org/entity/Q483382'), ('pname', 'Steve Wozniak')\n",
    "queryString = \"\"\"\n",
    "SELECT ?p ?pname ?o ?oname\n",
    "WHERE { \n",
    "\n",
    "    wd:Q483382 ?p ?o .\n",
    "    # Labels\n",
    "    ?p <http://schema.org/name> ?pname .\n",
    "    ?o <http://schema.org/name> ?oname .\n",
    "\n",
    "} \n",
    "LIMIT 40\n",
    "\"\"\"\n",
    "\n",
    "print(\"Results\")\n",
    "run_query(queryString)\n",
    "\n",
    "#`wdt:P31`     | instance of   | predicate\n",
    "#[('p', 'http://www.wikidata.org/prop/direct/P31'), ('pname', 'instance of'),\n",
    "#('o', 'http://www.wikidata.org/entity/Q5'), ('oname', 'human')]"
   ]
  },
  {
   "cell_type": "code",
   "execution_count": 17,
   "id": "858c44ce-4b8f-4fb2-b027-e59c97b82aab",
   "metadata": {},
   "outputs": [
    {
     "name": "stdout",
     "output_type": "stream",
     "text": [
      "Results\n",
      "[('human', 'http://www.wikidata.org/entity/Q1002728'), ('humanname', 'Fonsi Nieto')]\n",
      "[('human', 'http://www.wikidata.org/entity/Q100343342'), ('humanname', 'Lubomír Stoklásek')]\n",
      "[('human', 'http://www.wikidata.org/entity/Q102115260'), ('humanname', 'Kojiro Kobayashi')]\n",
      "[('human', 'http://www.wikidata.org/entity/Q102118153'), ('humanname', 'Miguel E. M. Herrera')]\n",
      "[('human', 'http://www.wikidata.org/entity/Q105753880'), ('humanname', 'Mateo Egea')]\n",
      "[('human', 'http://www.wikidata.org/entity/Q107520918'), ('humanname', 'Jerónimo Latorre')]\n",
      "[('human', 'http://www.wikidata.org/entity/Q11404285'), ('humanname', 'Mikiko Kitano')]\n",
      "[('human', 'http://www.wikidata.org/entity/Q11520274'), ('humanname', 'Honjō Fusanaga')]\n",
      "[('human', 'http://www.wikidata.org/entity/Q11562694'), ('humanname', 'Takayoshi Watanabe')]\n",
      "[('human', 'http://www.wikidata.org/entity/Q11685026'), ('humanname', 'Joan de Gènova')]\n",
      "[('human', 'http://www.wikidata.org/entity/Q11686949'), ('humanname', 'José Ximénez')]\n",
      "[('human', 'http://www.wikidata.org/entity/Q11871976'), ('humanname', 'Klaus Wirzenius')]\n",
      "[('human', 'http://www.wikidata.org/entity/Q1342082'), ('humanname', 'Youssef Ziedan')]\n",
      "[('human', 'http://www.wikidata.org/entity/Q1370907'), ('humanname', 'Empress Dowager Longyu')]\n",
      "[('human', 'http://www.wikidata.org/entity/Q1373516'), ('humanname', 'Eugénio de Castro')]\n",
      "[('human', 'http://www.wikidata.org/entity/Q15215818'), ('humanname', 'Erzsébet Bereczky')]\n",
      "[('human', 'http://www.wikidata.org/entity/Q15523196'), ('humanname', 'Felix Hormuth')]\n",
      "[('human', 'http://www.wikidata.org/entity/Q15628796'), ('humanname', 'Pedro Ponce de Cabrera')]\n",
      "[('human', 'http://www.wikidata.org/entity/Q17215040'), ('humanname', 'Tsutsui Junsei')]\n",
      "[('human', 'http://www.wikidata.org/entity/Q17413490'), ('humanname', 'Antón Patiño Regueira')]\n",
      "[('human', 'http://www.wikidata.org/entity/Q18531652'), ('humanname', 'William Walker')]\n",
      "[('human', 'http://www.wikidata.org/entity/Q19594453'), ('humanname', 'Menchu Lamas')]\n",
      "[('human', 'http://www.wikidata.org/entity/Q20100600'), ('humanname', 'Antoni Freixa i Martí')]\n",
      "[('human', 'http://www.wikidata.org/entity/Q23415658'), ('humanname', 'Farhad Rachidi')]\n",
      "[('human', 'http://www.wikidata.org/entity/Q23581262'), ('humanname', 'Miguel Avellán')]\n",
      "[('human', 'http://www.wikidata.org/entity/Q2397814'), ('humanname', 'Bernard Ogilvie Dodge')]\n",
      "[('human', 'http://www.wikidata.org/entity/Q240377'), ('humanname', 'Amanda Palmer')]\n",
      "[('human', 'http://www.wikidata.org/entity/Q242964'), ('humanname', 'Sophie Evans')]\n",
      "[('human', 'http://www.wikidata.org/entity/Q259758'), ('humanname', 'Andrés Mendoza')]\n",
      "[('human', 'http://www.wikidata.org/entity/Q28475249'), ('humanname', 'Joaquín Garrigues Díaz-Cañabate')]\n",
      "[('human', 'http://www.wikidata.org/entity/Q294840'), ('humanname', 'Polycrates')]\n",
      "[('human', 'http://www.wikidata.org/entity/Q30346830'), ('humanname', 'Carlos Lamela')]\n",
      "[('human', 'http://www.wikidata.org/entity/Q3047923'), ('humanname', 'Edmond Maître')]\n",
      "[('human', 'http://www.wikidata.org/entity/Q310715'), ('humanname', 'Henri Fantin-Latour')]\n",
      "[('human', 'http://www.wikidata.org/entity/Q3108675'), ('humanname', 'Glen Ennis')]\n",
      "[('human', 'http://www.wikidata.org/entity/Q3179763'), ('humanname', 'Joaquín Garrigues Walker')]\n",
      "[('human', 'http://www.wikidata.org/entity/Q3191192'), ('humanname', 'Júlia Lopes de Almeida')]\n",
      "[('human', 'http://www.wikidata.org/entity/Q328722'), ('humanname', 'Sebastián Durón')]\n",
      "[('human', 'http://www.wikidata.org/entity/Q3430855'), ('humanname', 'Richard Hazard')]\n",
      "[('human', 'http://www.wikidata.org/entity/Q3753720'), ('humanname', 'Julia Álvarez Resano')]\n"
     ]
    },
    {
     "data": {
      "text/plain": [
       "40"
      ]
     },
     "execution_count": 17,
     "metadata": {},
     "output_type": "execute_result"
    }
   ],
   "source": [
    "# [('p', 'http://www.wikidata.org/entity/Q483382'), ('pname', 'Steve Wozniak')\n",
    "queryString = \"\"\"\n",
    "SELECT ?human ?humanname\n",
    "WHERE { \n",
    "\n",
    "    ?human wdt:P31 wd:Q5 .\n",
    "    # Labels\n",
    "\n",
    "    ?human <http://schema.org/name> ?humanname .\n",
    "\n",
    "} \n",
    "LIMIT 40\n",
    "\"\"\"\n",
    "\n",
    "print(\"Results\")\n",
    "run_query(queryString)\n",
    "\n",
    "#`wdt:P31`     | instance of   | predicate\n",
    "#[('p', 'http://www.wikidata.org/prop/direct/P31'), ('pname', 'instance of'),\n",
    "#('o', 'http://www.wikidata.org/entity/Q5'), ('oname', 'human')]"
   ]
  },
  {
   "cell_type": "code",
   "execution_count": 18,
   "id": "b0d817fc-a4c6-4a3a-b08e-d1f0613affdb",
   "metadata": {},
   "outputs": [
    {
     "name": "stdout",
     "output_type": "stream",
     "text": [
      "Results\n",
      "[('p', 'http://www.wikidata.org/prop/direct/P106'), ('pname', 'occupation'), ('o', 'http://www.wikidata.org/entity/Q82594'), ('oname', 'computer scientist')]\n",
      "[('p', 'http://www.wikidata.org/prop/direct/P1343'), ('pname', 'described by source'), ('o', 'http://www.wikidata.org/entity/Q1432544'), ('oname', 'Hackers: Heroes of the Computer Revolution')]\n",
      "[('p', 'http://www.wikidata.org/prop/direct/P166'), ('pname', 'award received'), ('o', 'http://www.wikidata.org/entity/Q29545180'), ('oname', 'Computer History Museum fellow')]\n"
     ]
    },
    {
     "data": {
      "text/plain": [
       "3"
      ]
     },
     "execution_count": 18,
     "metadata": {},
     "output_type": "execute_result"
    }
   ],
   "source": [
    "# [('p', 'http://www.wikidata.org/entity/Q483382'), ('pname', 'Steve Wozniak')\n",
    "queryString = \"\"\"\n",
    "SELECT ?p ?pname ?o ?oname\n",
    "WHERE { \n",
    "\n",
    "    wd:Q483382 ?p ?o .\n",
    "    # Labels\n",
    "    ?p <http://schema.org/name> ?pname .\n",
    "    ?o <http://schema.org/name> ?oname .\n",
    "    FILTER regex(?oname, \"computer\", \"i\") \n",
    "} \n",
    "LIMIT 40\n",
    "\"\"\"\n",
    "\n",
    "print(\"Results\")\n",
    "run_query(queryString)"
   ]
  },
  {
   "cell_type": "code",
   "execution_count": 19,
   "id": "3bf3569c-08a9-4b4d-a8e3-789a064780c3",
   "metadata": {},
   "outputs": [
    {
     "name": "stdout",
     "output_type": "stream",
     "text": [
      "Results\n",
      "[('p', 'http://www.wikidata.org/prop/direct/P512'), ('pname', 'academic degree'), ('o', 'http://www.wikidata.org/entity/Q63107776'), ('oname', 'Bachelor of Science in Engineering')]\n"
     ]
    },
    {
     "data": {
      "text/plain": [
       "1"
      ]
     },
     "execution_count": 19,
     "metadata": {},
     "output_type": "execute_result"
    }
   ],
   "source": [
    "# [('p', 'http://www.wikidata.org/entity/Q483382'), ('pname', 'Steve Wozniak')\n",
    "queryString = \"\"\"\n",
    "SELECT ?p ?pname ?o ?oname\n",
    "WHERE { \n",
    "\n",
    "    wd:Q483382 ?p ?o .\n",
    "    # Labels\n",
    "    ?p <http://schema.org/name> ?pname .\n",
    "    ?o <http://schema.org/name> ?oname .\n",
    "\n",
    "    FILTER regex(?pname, \"academic\", \"i\") \n",
    "} \n",
    "LIMIT 20\n",
    "\"\"\"\n",
    "\n",
    "print(\"Results\")\n",
    "run_query(queryString)"
   ]
  },
  {
   "cell_type": "code",
   "execution_count": 20,
   "id": "cdf2dce0-1298-42d3-b4a6-0e731aa191eb",
   "metadata": {},
   "outputs": [
    {
     "name": "stdout",
     "output_type": "stream",
     "text": [
      "Results\n",
      "[('o', 'http://www.wikidata.org/entity/Q63107776'), ('oname', 'Bachelor of Science in Engineering'), ('universityname', 'University of Colorado Boulder')]\n",
      "[('o', 'http://www.wikidata.org/entity/Q63107776'), ('oname', 'Bachelor of Science in Engineering'), ('universityname', 'De Anza College')]\n",
      "[('o', 'http://www.wikidata.org/entity/Q63107776'), ('oname', 'Bachelor of Science in Engineering'), ('universityname', 'University of California, Berkeley')]\n",
      "[('o', 'http://www.wikidata.org/entity/Q63107776'), ('oname', 'Bachelor of Science in Engineering'), ('universityname', 'Homestead High School')]\n",
      "[('o', 'http://www.wikidata.org/entity/Q63107776'), ('oname', 'Bachelor of Science in Engineering'), ('universityname', 'University of Colorado')]\n"
     ]
    },
    {
     "data": {
      "text/plain": [
       "5"
      ]
     },
     "execution_count": 20,
     "metadata": {},
     "output_type": "execute_result"
    }
   ],
   "source": [
    "# [('p', 'http://www.wikidata.org/entity/Q483382'), ('pname', 'Steve Wozniak')\n",
    "queryString = \"\"\"\n",
    "SELECT ?o ?oname ?universityname\n",
    "WHERE { \n",
    "\n",
    "    wd:Q483382 wdt:P512 ?o .\n",
    "    wd:Q483382 wdt:P69 ?university  .\n",
    "    # label\n",
    "    ?university <http://schema.org/name> ?universityname .\n",
    "\n",
    "    ?o <http://schema.org/name> ?oname .\n",
    "\n",
    "} \n",
    "LIMIT 20\n",
    "\"\"\"\n",
    "\n",
    "print(\"Results\")\n",
    "run_query(queryString)"
   ]
  },
  {
   "cell_type": "markdown",
   "id": "146ed6d9-e131-4843-8425-15db97a0cb42",
   "metadata": {},
   "source": [
    "## Show the employers of Apple and the institutions they have studied and their level of studies. "
   ]
  },
  {
   "cell_type": "code",
   "execution_count": 21,
   "id": "41dcdbe9-6787-42e4-a2e4-e00b4c32ee6e",
   "metadata": {},
   "outputs": [
    {
     "name": "stdout",
     "output_type": "stream",
     "text": [
      "Results\n",
      "[('employername', 'Arthur D. Levinson'), ('degreenames', 'Doctor of Philosophy'), ('universitynames', 'Princeton University, University of California, San Francisco, University of Washington')]\n",
      "[('employername', 'Bertrand Serlet'), ('degreenames', 'Doctor of Philosophy'), ('universitynames', 'University of Paris-Sud')]\n",
      "[('employername', 'Eric Schmidt'), ('degreenames', 'doctorate'), ('universitynames', 'Princeton University, University of California, Berkeley, Yorktown High School')]\n",
      "[('employername', 'Peter Dewald'), ('degreenames', 'Master of Science'), ('universitynames', 'Leibniz University Hannover')]\n",
      "[('employername', 'Steve Wozniak'), ('degreenames', 'Bachelor of Science in Engineering'), ('universitynames', 'De Anza College, Homestead High School, University of California, Berkeley, University of Colorado, University of Colorado Boulder')]\n",
      "[('employername', 'Suki Lee'), ('degreenames', \"bachelor's degree\"), ('universitynames', 'San José State University')]\n",
      "[('employername', 'Tim Jenkins'), ('degreenames', 'Bachelor of Science'), ('universitynames', 'University of Cincinnati')]\n",
      "[('employername', 'Tony Fadell'), ('degreenames', 'Bachelor of Science'), ('universitynames', 'Grosse Pointe South High School, University of Michigan')]\n",
      "[('employername', 'Youfeng Zhang'), ('degreenames', \"Doctor of Philosophy, bachelor's degree\"), ('universitynames', 'Texas A&M University')]\n"
     ]
    },
    {
     "data": {
      "text/plain": [
       "9"
      ]
     },
     "execution_count": 21,
     "metadata": {},
     "output_type": "execute_result"
    }
   ],
   "source": [
    "queryString = \"\"\"\n",
    "SELECT ?employername\n",
    "(GROUP_CONCAT(DISTINCT ?degreename; SEPARATOR=\", \") AS ?degreenames) \n",
    "(GROUP_CONCAT(DISTINCT ?universityname; SEPARATOR=\", \") AS ?universitynames)\n",
    "WHERE { \n",
    "    ?employer wdt:P108 wd:Q312 .\n",
    "    \n",
    "    #?employer wdt:P512 ?degree .\n",
    "    ?employer wdt:P69 ?university  .\n",
    "    OPTIONAL { ?employer wdt:P512 ?degree }\n",
    "    # label\n",
    "    ?university <http://schema.org/name> ?universityname .\n",
    "    ?employer <http://schema.org/name> ?employername .\n",
    "    ?degree <http://schema.org/name> ?degreename .\n",
    "    \n",
    "} \n",
    "ORDER BY ?employername \n",
    "LIMIT 20\n",
    "\"\"\"\n",
    "\n",
    "print(\"Results\")\n",
    "run_query(queryString)"
   ]
  },
  {
   "cell_type": "code",
   "execution_count": 22,
   "id": "9215d0cd-dcdf-4f7b-8ae7-c878d6b4bf98",
   "metadata": {},
   "outputs": [
    {
     "name": "stdout",
     "output_type": "stream",
     "text": [
      "Results\n",
      "[('employername', 'Adam Cheyer'), ('universityname', 'University of California, Los Angeles')]\n",
      "[('employername', 'Adam Cheyer'), ('universityname', 'Brandeis University')]\n",
      "[('employername', 'Adam Cheyer'), ('universityname', 'Sharon High School')]\n",
      "[('employername', 'Alan B. Oppenheimer'), ('universityname', 'Massachusetts Institute of Technology')]\n",
      "[('employername', 'Alex Colburn'), ('universityname', 'University of Washington')]\n",
      "[('employername', 'Alice K. Hartley'), ('universityname', 'Massachusetts Institute of Technology')]\n",
      "[('employername', 'Allen Kenneth Briggs'), ('universityname', 'Virginia Tech')]\n",
      "[('employername', 'Allen Kenneth Briggs'), ('universityname', 'North Carolina School of Science and Mathematics')]\n",
      "[('employername', 'Amelia Boone'), ('universityname', 'Washington University in St.\\xa0Louis')]\n",
      "[('employername', 'Amelia Boone'), ('universityname', 'University of Washington School of Law')]\n",
      "[('employername', 'Anand Lal Shimpi'), ('universityname', 'William G. Enloe High School')]\n",
      "[('employername', 'Andrea Jung'), ('universityname', 'Princeton University')]\n",
      "[('employername', 'Andy Hertzfeld'), ('universityname', 'Brown University')]\n",
      "[('employername', 'Andy Hertzfeld'), ('universityname', 'University of California, Berkeley')]\n",
      "[('employername', 'Andy Hertzfeld'), ('universityname', 'Harriton High School')]\n",
      "[('employername', 'Andy Rubin'), ('universityname', 'Utica College')]\n",
      "[('employername', 'Andy Rubin'), ('universityname', 'Horace Greeley High School')]\n",
      "[('employername', 'Angela Ahrendts'), ('universityname', 'Ball State University')]\n",
      "[('employername', 'Ann Schmeltz Bowers'), ('universityname', 'Cornell University')]\n",
      "[('employername', 'Arthur D. Levinson'), ('universityname', 'University of California, San Francisco')]\n",
      "[('employername', 'Arthur D. Levinson'), ('universityname', 'University of Washington')]\n",
      "[('employername', 'Arthur D. Levinson'), ('universityname', 'Princeton University')]\n",
      "[('employername', 'Avie Tevanian'), ('universityname', 'University of Rochester')]\n",
      "[('employername', 'Avie Tevanian'), ('universityname', 'Carnegie Mellon University')]\n",
      "[('employername', 'Bertrand Serlet'), ('universityname', 'University of Paris-Sud')]\n",
      "[('employername', 'Bill Atkinson'), ('universityname', 'University of Washington')]\n",
      "[('employername', 'Bill Atkinson'), ('universityname', 'University of California, San Diego')]\n",
      "[('employername', 'Bob Mansfield'), ('universityname', 'University of Texas at Austin')]\n",
      "[('employername', 'Bret Victor'), ('universityname', 'University of California, Berkeley')]\n",
      "[('employername', 'Bret Victor'), ('universityname', 'California Institute of Technology')]\n"
     ]
    },
    {
     "data": {
      "text/plain": [
       "30"
      ]
     },
     "execution_count": 22,
     "metadata": {},
     "output_type": "execute_result"
    }
   ],
   "source": [
    "queryString = \"\"\"\n",
    "SELECT ?employername ?universityname\n",
    "WHERE { \n",
    "    ?employer wdt:P108 wd:Q312 .\n",
    "    ?employer wdt:P69 ?university  .\n",
    "\n",
    "    # label\n",
    "    ?university <http://schema.org/name> ?universityname .\n",
    "    ?employer <http://schema.org/name> ?employername .\n",
    "\n",
    "    \n",
    "} \n",
    "ORDER BY ?employername \n",
    "LIMIT 30\n",
    "\"\"\"\n",
    "\n",
    "print(\"Results\")\n",
    "run_query(queryString)"
   ]
  },
  {
   "cell_type": "markdown",
   "id": "36e78238-af3a-4741-b2c9-16df5305683c",
   "metadata": {},
   "source": [
    "## Show a Trademark employers and the name of its industry."
   ]
  },
  {
   "cell_type": "code",
   "execution_count": 23,
   "id": "8ccecc6a-2752-44e6-bd15-c3ba5dca8b5e",
   "metadata": {},
   "outputs": [
    {
     "name": "stdout",
     "output_type": "stream",
     "text": [
      "Results\n",
      "[('trademarkname', 'Michelob')]\n",
      "[('trademarkname', 'Bernard')]\n",
      "[('trademarkname', 'TOP Media')]\n",
      "[('trademarkname', 'TOP Media')]\n",
      "[('trademarkname', 'Malco Theatres')]\n",
      "[('trademarkname', 'Malco Theatres')]\n",
      "[('trademarkname', 'MovieTime Cinemas')]\n",
      "[('trademarkname', 'MovieTime Cinemas')]\n",
      "[('trademarkname', 'B2M Entertainment')]\n",
      "[('trademarkname', 'B2M Entertainment')]\n",
      "[('trademarkname', 'Cathay Organisation')]\n",
      "[('trademarkname', 'Cathay Organisation')]\n",
      "[('trademarkname', 'Albrecht')]\n",
      "[('trademarkname', 'Network NorthWest')]\n",
      "[('trademarkname', 'H2 Media Entertainment')]\n",
      "[('trademarkname', 'H2 Media Entertainment')]\n",
      "[('trademarkname', 'N.A.P.Entertainment')]\n",
      "[('trademarkname', 'N.A.P.Entertainment')]\n",
      "[('trademarkname', 'Vue Entertainment')]\n",
      "[('trademarkname', 'Vue Entertainment')]\n"
     ]
    },
    {
     "data": {
      "text/plain": [
       "20"
      ]
     },
     "execution_count": 23,
     "metadata": {},
     "output_type": "execute_result"
    }
   ],
   "source": [
    "#the BGP to retrieve all entities that are trademarks\n",
    "queryString = \"\"\"\n",
    "SELECT ?trademarkname\n",
    "WHERE { \n",
    "\n",
    "?trademark wdt:P31/wdt:P279* wd:Q167270  . \n",
    "?trademark <http://schema.org/name> ?trademarkname .\n",
    "\n",
    "} \n",
    "LIMIT 20\n",
    "\"\"\"\n",
    "\n",
    "print(\"Results\")\n",
    "run_query(queryString)"
   ]
  },
  {
   "cell_type": "code",
   "execution_count": 24,
   "id": "40efd2f9-c5c7-44f3-9259-30d09a2cff71",
   "metadata": {},
   "outputs": [
    {
     "name": "stdout",
     "output_type": "stream",
     "text": [
      "Results\n",
      "[('trademarkname', 'McDonald’s'), ('industryname', 'Accommodation and food service activities'), ('employernames', 'Barbara Meier, Cécile Jolly, Dan Coudreaut, Dieter Kempf, Jerome Tafani, Jim Delligatti, Lauren Boebert, Patrick Mispolet, Ray Kroc, Steve Easterbrook')]\n",
      "[('trademarkname', 'Crédit Lyonnais'), ('industryname', 'Financial service activities, except insurance and pension funding'), ('employernames', 'AJ Mediratta, Claire Houry, Claude Villers, Daniel Maisonnave, Georges Richou, Jacques Letourneur, Janette Rutterford, Jean Boussemart, Jean-Paul Mazoyer, Loïg Chesnais-Girard, Nigel Farage, Vladimír Valach')]\n",
      "[('trademarkname', 'Calvé'), ('industryname', 'Financial service activities, except insurance and pension funding'), ('employernames', 'Mark Rutte')]\n",
      "[('trademarkname', 'Dresdner Bank'), ('industryname', 'Financial service activities, except insurance and pension funding'), ('employernames', 'Angelika Kausche, Bruce Wasserstein, Eduardo Díez-Hochleitner, Frank Nopper, Karl Lindemann, Rafael Moreno Valle, Torsten Albig')]\n",
      "[('trademarkname', 'REWE Group'), ('industryname', 'Food retail sector'), ('employernames', 'Cristina Proserpio, Lionel Souque, Sören Hartmann')]\n",
      "[('trademarkname', 'Lawson'), ('industryname', 'Food retail sector'), ('employernames', 'Marilyn Luella Tayse')]\n",
      "[('trademarkname', 'Nokia'), ('industryname', 'International Standard Industrial Classification'), ('employernames', 'Andres Ledesma, Daniel Grajales, David Akopian, Eino Liljeroos, Esko Aho, Fredrik Idestam, Inka Mero, Jarkko Oikarinen, Jarno Kaakkunen, Jens Bo Nielsen, Jose Costa-Requena, Julien Fourgeaud, Kati Hagros, Kurt Wikstedt, Lauri Kivekäs, Magda Łuczycki, Maheswary Muniandy, Marius Vollmer, Matthias Ettrich, Matti Makkonen, Matti Nelimarkka, Mikko Honkala, Mithilesh Prakash, Natasha Gelfand, Oswald Buddenhagen, Paolo Federico, Pentti Karjalainen, Piotr Kaczmarkiewicz, Plamena Andreeva, Rajeev Suri, Richard Green, Sara Kullgren, Stéphane Coulombe, Teppo Valtonen, Tommi Uitto, Victoria Coleman, Yrjö Neuvo')]\n",
      "[('trademarkname', 'Ankerbrot'), ('industryname', 'Manufacture of bakery and farinaceous products'), ('employernames', 'Georg L. Berger')]\n",
      "[('trademarkname', 'Deutz AG'), ('industryname', 'Manufacture of motor vehicles'), ('employernames', \"Prosper L'Orange\")]\n",
      "[('trademarkname', 'Degussa'), ('industryname', 'Manufacture of other chemical products n.e.c.'), ('employernames', 'Cvetomir Dimov, Gernot Zippe, Martin Grunow, Otto Liebknecht')]\n"
     ]
    },
    {
     "data": {
      "text/plain": [
       "10"
      ]
     },
     "execution_count": 24,
     "metadata": {},
     "output_type": "execute_result"
    }
   ],
   "source": [
    "\n",
    "queryString = \"\"\"\n",
    "SELECT ?trademarkname ?industryname \n",
    "(GROUP_CONCAT(DISTINCT ?employername; SEPARATOR=\", \") AS ?employernames)\n",
    "WHERE { \n",
    "    \n",
    "    ?trademark wdt:P31/wdt:P279* wd:Q167270  . \n",
    "    ?trademark wdt:P452 ?industry .\n",
    "    ?employer wdt:P108 ?trademark .\n",
    "    # Labels\n",
    "    ?employer <http://schema.org/name> ?employername .\n",
    "    ?trademark <http://schema.org/name> ?trademarkname .\n",
    "    ?industry <http://schema.org/name> ?industryname .\n",
    "    #FILTER regex(?industryname, \"electronics\", \"i\") \n",
    "} \n",
    "ORDER BY ?industryname\n",
    "LIMIT 10\n",
    "\"\"\"\n",
    "\n",
    "print(\"Results\")\n",
    "run_query(queryString)"
   ]
  },
  {
   "cell_type": "code",
   "execution_count": 25,
   "id": "aa145110-0954-4784-a2bb-f7385b3315b3",
   "metadata": {},
   "outputs": [
    {
     "name": "stdout",
     "output_type": "stream",
     "text": [
      "Results\n",
      "[('trademarkname', 'Apple Inc.'), ('employernames', \"Adam Cheyer, Alan B. Oppenheimer, Alex Colburn, Alex Fielding, Alex Hitzinger, Alice K. Hartley, Allen Kenneth Briggs, Amelia Boone, Amir Alavi, Amir Tahmasbi, Anand Lal Shimpi, Andrea Jung, Andy Hertzfeld, Andy Rubin, Angela Ahrendts, Ann Schmeltz Bowers, Arthur D. Levinson, Ashish Shrivastava, Avie Tevanian, Bertrand Serlet, Bill Atkinson, Bill Fernandez, Bill Kincaid, Bob Belleville, Bob Mansfield, Bret Victor, Brit Morin, Bruce Daniels, Bruce Horn, Bruce Sewell, Bruce Tognazzini, Bud Tribble, Burrell Smith, C. Lloyd Mahaffey, Caitlin Kalinowski, Cathy Edwards, Chris Espinosa, Chris R Marcellino, Chrisann Brennan, Christoph Paasch, Christopher Stringer, Clement Mok, Craig Federighi, Craig H Mermel, Cynthia Solomon, Dale Fuller, Dan Ingalls, Dan Riccio, Daniel Kottke, Darin Adler, Dave Hyatt, Dave Morin, David Hwang, David Moon, David Nagel, Dawei Lu, Deirdre O’Brien, Del Yocam, Dominic Giampaolo, Donald Norman, Donna Auguste, Donna Dubinsky, Doug Cutting, Dr. Dre, Eddy Cue, Edward Greg Huang, Eikō Harada, Ellen Feiss, Ellen Hancock, Ellen Petry Leanse, Eric Schmidt, Eric Zelenka, Evans Hankey, Francisco Molina-Lopez, Fred D. Anderson, Garvit Gupta, Gary Stewart, Gil Amelio, Grady Ward, Graydon Hoare, Gregory Darnell, Gregory R. Brady, Guy Kawasaki, Haejoon Jung, Hartmut Esslinger, Heidi Roizen, Henriette Weber, Hongdan Tao, Hsiao-Wuen Hon, Huiyang Deng, Isabel Ge Mahe, Ivan Krstić, Jack Smith, James A. Bell, Jean-Louis Gassée, Jean-Marie Hullot, Jef Poskanzer, Jef Raskin, Jeff Robbin, Jeff Williams, Jeremy Hammond, Jian Cheng, Jim Keller, Jim Reekes, Jiuguang Wang, Joanna Hoffman, Joe Ybarra, John Couch, John Draper, John Giannandrea, John Sculley, John Wu, Johny Srouji, Jon Callas, Jon Rubinstein, Jony ive, Jordan Hubbard, Jun-Hee Na, Junjie Zhu, Kai-Fu Lee, Katherine L. Adams, Keith Stattenfield, Kevin Lynch, Koohee Han, Larry Tesler, Larry Yaeger, Lee Collins, Lestat R. Ali, Lisa P. Jackson, Lofai Ting-fai Lo, Louis D'hauwe, Luc Julia, Luca Maestri, Maciej Stachowiak, Mark Rober, Matt Casamassina, Matthew L. Jockers, Max Woolf, Miao-Bin Lien, Michael Bartosh, Michael Dhuey, Michael Gartenberg, Michael Homer, Michael Scott, Michael Spindler, Mike Boich, Mike Markkula, Mike Matas, Millard Drexler, Mona Shirpour, Nabiha Khan, Nachiket Raravikar, Nancy R. Heinen, Nicholas Nethercote, Nithin Thomas, Nitish Srivastava, Onur Ergen, Oscar Bjers, Pablo Mendes, Pascal B Pfiffner, Patrick Piemonte, Paul Deneve, Paul Donovan, Paul Terrell, Per Hammarlund, Peter Dewald, Peter Oppenheimer, Phil Schiller, Pierre Dalmaz, Prajit Kumar Das, Pranay Jain, Priya Balasubramaniam, Queen Rania of Jordan, Raja Koduri, Randy Wigginton, Rao Machiraju, Rich Page, Robert Brunner, Robert J. Pera, Robert X. Cringely, Rod Holt, Roger Powell, Ron Johnson, Ronald Wayne, Rony Friedman, Ruslan Salakhutdinov, Saikat Chakrabarti, Sal Soghoian, Samir Arora, Samy Bengio, Satjiv S. Chahil, Scott Forstall, Scott Manley, Seth E. Spielman, Sina Tamaddon, Stephanie Greer, Stephen Pulman, Stergios Roumeliotis, Steve Jobs, Steve Sakoman, Steve Wozniak, Stuart Cheshire, Suki Lee, Susan Kare, Susan Wagner, Tantek Çelik, Te Hu, Thomas Meyerhoffer, Thomas le Bonniec, Tim Cook, Tim Jenkins, Toke Jansen Hansen, Tomas Pfister, Tony Fadell, Travis Geiselbrecht, Trent Reznor, Victor Ng-Thow-Hing, William Campbell, Window Snyder, Xiaowei Wu, Xinhao Wang, Xuezhe Zhou, Yian Song, Yoky Matsuoka, Youfeng Zhang, Yu Horie, Zhizhen Ma, Zhuojun Huang\"), ('industryname', 'consumer electronics')]\n",
      "[('trademarkname', 'Apple Inc.'), ('employernames', \"Adam Cheyer, Alan B. Oppenheimer, Alex Colburn, Alex Fielding, Alex Hitzinger, Alice K. Hartley, Allen Kenneth Briggs, Amelia Boone, Amir Alavi, Amir Tahmasbi, Anand Lal Shimpi, Andrea Jung, Andy Hertzfeld, Andy Rubin, Angela Ahrendts, Ann Schmeltz Bowers, Arthur D. Levinson, Ashish Shrivastava, Avie Tevanian, Bertrand Serlet, Bill Atkinson, Bill Fernandez, Bill Kincaid, Bob Belleville, Bob Mansfield, Bret Victor, Brit Morin, Bruce Daniels, Bruce Horn, Bruce Sewell, Bruce Tognazzini, Bud Tribble, Burrell Smith, C. Lloyd Mahaffey, Caitlin Kalinowski, Cathy Edwards, Chris Espinosa, Chris R Marcellino, Chrisann Brennan, Christoph Paasch, Christopher Stringer, Clement Mok, Craig Federighi, Craig H Mermel, Cynthia Solomon, Dale Fuller, Dan Ingalls, Dan Riccio, Daniel Kottke, Darin Adler, Dave Hyatt, Dave Morin, David Hwang, David Moon, David Nagel, Dawei Lu, Deirdre O’Brien, Del Yocam, Dominic Giampaolo, Donald Norman, Donna Auguste, Donna Dubinsky, Doug Cutting, Dr. Dre, Eddy Cue, Edward Greg Huang, Eikō Harada, Ellen Feiss, Ellen Hancock, Ellen Petry Leanse, Eric Schmidt, Eric Zelenka, Evans Hankey, Francisco Molina-Lopez, Fred D. Anderson, Garvit Gupta, Gary Stewart, Gil Amelio, Grady Ward, Graydon Hoare, Gregory Darnell, Gregory R. Brady, Guy Kawasaki, Haejoon Jung, Hartmut Esslinger, Heidi Roizen, Henriette Weber, Hongdan Tao, Hsiao-Wuen Hon, Huiyang Deng, Isabel Ge Mahe, Ivan Krstić, Jack Smith, James A. Bell, Jean-Louis Gassée, Jean-Marie Hullot, Jef Poskanzer, Jef Raskin, Jeff Robbin, Jeff Williams, Jeremy Hammond, Jian Cheng, Jim Keller, Jim Reekes, Jiuguang Wang, Joanna Hoffman, Joe Ybarra, John Couch, John Draper, John Giannandrea, John Sculley, John Wu, Johny Srouji, Jon Callas, Jon Rubinstein, Jony ive, Jordan Hubbard, Jun-Hee Na, Junjie Zhu, Kai-Fu Lee, Katherine L. Adams, Keith Stattenfield, Kevin Lynch, Koohee Han, Larry Tesler, Larry Yaeger, Lee Collins, Lestat R. Ali, Lisa P. Jackson, Lofai Ting-fai Lo, Louis D'hauwe, Luc Julia, Luca Maestri, Maciej Stachowiak, Mark Rober, Matt Casamassina, Matthew L. Jockers, Max Woolf, Miao-Bin Lien, Michael Bartosh, Michael Dhuey, Michael Gartenberg, Michael Homer, Michael Scott, Michael Spindler, Mike Boich, Mike Markkula, Mike Matas, Millard Drexler, Mona Shirpour, Nabiha Khan, Nachiket Raravikar, Nancy R. Heinen, Nicholas Nethercote, Nithin Thomas, Nitish Srivastava, Onur Ergen, Oscar Bjers, Pablo Mendes, Pascal B Pfiffner, Patrick Piemonte, Paul Deneve, Paul Donovan, Paul Terrell, Per Hammarlund, Peter Dewald, Peter Oppenheimer, Phil Schiller, Pierre Dalmaz, Prajit Kumar Das, Pranay Jain, Priya Balasubramaniam, Queen Rania of Jordan, Raja Koduri, Randy Wigginton, Rao Machiraju, Rich Page, Robert Brunner, Robert J. Pera, Robert X. Cringely, Rod Holt, Roger Powell, Ron Johnson, Ronald Wayne, Rony Friedman, Ruslan Salakhutdinov, Saikat Chakrabarti, Sal Soghoian, Samir Arora, Samy Bengio, Satjiv S. Chahil, Scott Forstall, Scott Manley, Seth E. Spielman, Sina Tamaddon, Stephanie Greer, Stephen Pulman, Stergios Roumeliotis, Steve Jobs, Steve Sakoman, Steve Wozniak, Stuart Cheshire, Suki Lee, Susan Kare, Susan Wagner, Tantek Çelik, Te Hu, Thomas Meyerhoffer, Thomas le Bonniec, Tim Cook, Tim Jenkins, Toke Jansen Hansen, Tomas Pfister, Tony Fadell, Travis Geiselbrecht, Trent Reznor, Victor Ng-Thow-Hing, William Campbell, Window Snyder, Xiaowei Wu, Xinhao Wang, Xuezhe Zhou, Yian Song, Yoky Matsuoka, Youfeng Zhang, Yu Horie, Zhizhen Ma, Zhuojun Huang\"), ('industryname', 'electronics')]\n",
      "[('trademarkname', 'Asus'), ('employernames', 'Jonney Shih'), ('industryname', 'electronics industry')]\n",
      "[('trademarkname', 'Audio-Technica'), ('employernames', 'Hideo Matsushita'), ('industryname', 'electronics industry')]\n",
      "[('trademarkname', 'Continental Edison'), ('employernames', 'Thomas Alva Edison'), ('industryname', 'consumer electronics')]\n",
      "[('trademarkname', 'EMI'), ('employernames', 'Alan Blumlein, Angelica Cob-Baehler, Isaac Shoenberg, Louise Mensch, Patrice Blanc-Francard, Peter Andry, Rolf Nygren'), ('industryname', 'consumer electronics')]\n",
      "[('trademarkname', 'Gorenje'), ('employernames', 'Gregor Koporec, Tadej Stepišnik-Perdih'), ('industryname', 'consumer electronics')]\n",
      "[('trademarkname', 'JVC'), ('employernames', 'Nagata Mikihiko, Shigeki Miyata'), ('industryname', 'electronics industry')]\n",
      "[('trademarkname', 'uBreakiFix'), ('employernames', 'David Reiff, Eddie Trujillo'), ('industryname', 'consumer electronics')]\n"
     ]
    },
    {
     "data": {
      "text/plain": [
       "9"
      ]
     },
     "execution_count": 25,
     "metadata": {},
     "output_type": "execute_result"
    }
   ],
   "source": [
    "\n",
    "queryString = \"\"\"\n",
    "SELECT ?trademarkname \n",
    "(GROUP_CONCAT(DISTINCT ?employername; SEPARATOR=\", \") AS ?employernames)\n",
    "?industryname \n",
    "WHERE { \n",
    "    \n",
    "    ?trademark wdt:P31/wdt:P279* wd:Q167270  . \n",
    "    ?trademark wdt:P452 ?industry .\n",
    "    ?employer wdt:P108 ?trademark .\n",
    "    # Labels\n",
    "    ?employer <http://schema.org/name> ?employername .\n",
    "    ?trademark <http://schema.org/name> ?trademarkname .\n",
    "    ?industry <http://schema.org/name> ?industryname .\n",
    "    FILTER regex(?industryname, \"electronics\", \"i\") \n",
    "} \n",
    "ORDER BY ?trademarkname\n",
    "LIMIT 40\n",
    "\"\"\"\n",
    "\n",
    "print(\"Results\")\n",
    "run_query(queryString)"
   ]
  },
  {
   "cell_type": "markdown",
   "id": "f6ecd284-1001-41ba-a572-ffcd5fbd76bf",
   "metadata": {},
   "source": [
    "## Count the number of employers of a trademark "
   ]
  },
  {
   "cell_type": "code",
   "execution_count": 26,
   "id": "5d93a50b-a980-4ed9-ab7c-d413c01c9ac0",
   "metadata": {},
   "outputs": [
    {
     "name": "stdout",
     "output_type": "stream",
     "text": [
      "Results\n",
      "[('trademarkname', 'Apple Inc.'), ('countemployer', '2736')]\n",
      "[('trademarkname', 'Nokia'), ('countemployer', '222')]\n",
      "[('trademarkname', 'Walmart'), ('countemployer', '128')]\n",
      "[('trademarkname', 'EITB Euskal Irrati Telebista'), ('countemployer', '126')]\n",
      "[('trademarkname', 'McDonald’s'), ('countemployer', '120')]\n",
      "[('trademarkname', 'Sony Music'), ('countemployer', '78')]\n",
      "[('trademarkname', 'Polskie Radio'), ('countemployer', '66')]\n",
      "[('trademarkname', 'Boots'), ('countemployer', '66')]\n",
      "[('trademarkname', 'Nestlé'), ('countemployer', '62')]\n",
      "[('trademarkname', '3M'), ('countemployer', '59')]\n",
      "[('trademarkname', 'BP'), ('countemployer', '58')]\n",
      "[('trademarkname', 'Ford Motor Company'), ('countemployer', '57')]\n",
      "[('trademarkname', 'EMI'), ('countemployer', '56')]\n",
      "[('trademarkname', 'Pathé'), ('countemployer', '52')]\n",
      "[('trademarkname', 'Nike'), ('countemployer', '42')]\n",
      "[('trademarkname', 'Tesla, Inc.'), ('countemployer', '40')]\n",
      "[('trademarkname', 'Tiffany & Co.'), ('countemployer', '36')]\n",
      "[('trademarkname', 'Universal Music Group'), ('countemployer', '36')]\n",
      "[('trademarkname', 'REWE Group'), ('countemployer', '30')]\n",
      "[('trademarkname', 'Zara'), ('countemployer', '30')]\n"
     ]
    },
    {
     "data": {
      "text/plain": [
       "20"
      ]
     },
     "execution_count": 26,
     "metadata": {},
     "output_type": "execute_result"
    }
   ],
   "source": [
    "queryString = \"\"\"\n",
    "SELECT ?trademarkname (COUNT (?employer) AS ?countemployer)\n",
    "WHERE { \n",
    "    ?trademark wdt:P31/wdt:P279* wd:Q167270  . \n",
    "    ?trademark wdt:P452 ?industry .\n",
    "    ?employer wdt:P108 ?trademark .\n",
    "    # Labels\n",
    "    ?employer <http://schema.org/name> ?employername .\n",
    "    ?trademark <http://schema.org/name> ?trademarkname .\n",
    "    #?industry <http://schema.org/name> ?industryname .\n",
    "    #FILTER regex(?industryname, \"electronics\", \"i\") \n",
    "} \n",
    "ORDER BY DESC (?countemployer)\n",
    "LIMIT 20\n",
    "\"\"\"\n",
    "\n",
    "print(\"Results\")\n",
    "run_query(queryString)"
   ]
  },
  {
   "cell_type": "markdown",
   "id": "f0a09dfd-dc77-45f1-b369-7b9486bb2a9d",
   "metadata": {},
   "source": [
    "## Identify the BGP for the person related to a given trademark"
   ]
  },
  {
   "cell_type": "code",
   "execution_count": 27,
   "id": "eadef9bf-d4e6-402f-88a9-f1c7077150b3",
   "metadata": {},
   "outputs": [
    {
     "name": "stdout",
     "output_type": "stream",
     "text": [
      "Results\n",
      "[('trademarkname', 'Audio Fidelity'), ('humannames', 'Al Hirt, Don Shirley, Eddie Cantor, Elmo Hope, Johnny Puleo, Lalo Schifrin, Larry Adler, Leon Berry, Lionel Hampton, Louis Armstrong, Louisa Jo Killen, Mohammed El-Bakkar, Myron Cohen, Oscar Brand, Patachou')]\n",
      "[('trademarkname', 'Wing Records'), ('humannames', 'Vanessa Williams')]\n",
      "[('trademarkname', 'Crest Records'), ('humannames', 'Bobby Edwards, Carol Kaye, Donna Loren, Eddie Cochran, Eileen Barton, Glen Campbell, Jean Chapel, Jerry Capehart, Jewel Akens, Jimmy Bowen, Phil Baugh, Terry Fell, Tom Tall')]\n",
      "[('trademarkname', 'MUN HWA IN'), ('humannames', 'Youra')]\n",
      "[('trademarkname', 'Minaret'), ('humannames', 'Finley Duncan, Herb Shucher')]\n",
      "[('trademarkname', 'Kitchenware Records'), ('humannames', 'Chris Urbanowicz, Kate Walsh, Russell Leetch, Tom Smith')]\n",
      "[('trademarkname', 'Doublemint'), ('humannames', 'Tamera Mowry')]\n",
      "[('trademarkname', 'Rise Records'), ('humannames', 'Danny Thompson, Derek Bloom, Jerry Roush, Jon Kintz, Jonny Craig, Lyndsey Gunnulfsen, Tilian Pearson, Tyler Carter, Vincent Bennett')]\n",
      "[('trademarkname', 'Icon Records'), ('humannames', 'Ernest \"Doc\" Paulin')]\n",
      "[('trademarkname', 'Wind-up Records'), ('humannames', 'Amy Lee, Ben Moody, Brian Marshall, Emily Osment, Eric Friedman, Genevieve, Jillette Johnson, Mark Tremonti, Matt Worobec, Myles Kennedy, Scott Phillips, Scott Stapp')]\n",
      "[('trademarkname', 'Disruptor Records'), ('humannames', 'Dove Cameron')]\n",
      "[('trademarkname', 'Cloud9 Inc.'), ('humannames', 'Ado')]\n",
      "[('trademarkname', 'Pizza of Death Records'), ('humannames', 'Ken Yokoyama')]\n",
      "[('trademarkname', 'Pine Grove Music'), ('humannames', 'Dale Sorensen')]\n",
      "[('trademarkname', 'Splitterkor Rekords Dziwko!!!'), ('humannames', 'Diabarha, Loffciamcore')]\n",
      "[('trademarkname', 'Loud Records'), ('humannames', \"Adriana Evans, Asher Roth, Big Pun, Dave Mustaine, Funkmaster Flex, Inspectah Deck, LaReece, Masta Killa, Ol' Dirty Bastard, Prodigy, Raekwon, Rich Isaacson, Scott Storch, Steve Rifkind, Xzibit\")]\n",
      "[('trademarkname', 'Nesër Music'), ('humannames', 'Era Istrefi')]\n",
      "[('trademarkname', 'North American Phonograph Company'), ('humannames', 'Ada Jones')]\n",
      "[('trademarkname', 'Indianola Records'), ('humannames', 'Jeremy McKinnon, Michael Jagmin, Tom Denney')]\n",
      "[('trademarkname', 'PORT22'), ('humannames', 'Kunal Agarwal, Sanjoy')]\n",
      "[('trademarkname', 'Homestead Records'), ('humannames', 'Daniel Johnston, Dave Rick, GG Allin, Merle Allin, Murph, Weird Paul Petroskey, Wharton Tiers')]\n",
      "[('trademarkname', \"Papa John's Pizza\"), ('humannames', 'Robert Lynch')]\n",
      "[('trademarkname', 'Helicon'), ('humannames', 'Amir Dadon, Dor Daniel, Idan Raichel, Ivri Lider, Kathleen Reiter, Marina Maximilian Blumin, Mei Finegold, Meirav Hellinger, Mira Awad, Ninet Tayeb, Roni Duani, Shiri Maimon, Shlomi Shabat, Vibe Ish, Yehudit Ravitz')]\n",
      "[('trademarkname', 'Doggy Style Records'), ('humannames', 'Daz Dillinger, Fredwreck, Nate Dogg, Snoop Dogg')]\n",
      "[('trademarkname', 'Igloo Records'), ('humannames', 'Igor Gehenot, Manuel Hermia, Michel Herr, Mochélan, Mélanie De Biasio, Nathalie Loriers, Pascal Schumacher, Sal La Rocca')]\n",
      "[('trademarkname', 'Hispano-Suiza'), ('humannames', 'Frédéric Sérazin')]\n",
      "[('trademarkname', 'Clodagh’s Kitchen'), ('humannames', 'Clodagh McKenna')]\n",
      "[('trademarkname', 'Wagamama'), ('humannames', 'Steve Easterbrook')]\n",
      "[('trademarkname', 'BSC Music'), ('humannames', 'Christina Lux')]\n",
      "[('trademarkname', 'Posi-Tone Records'), ('humannames', 'Ehud Asherie, John Escreet, Tom Tallitsch')]\n",
      "[('trademarkname', 'Crush Management'), ('humannames', 'Butch Walker, Charlotte Sometimes, Evan Taubenfeld, Patrick Stump, Travie McCoy, Tyga')]\n",
      "[('trademarkname', 'Fog City Records'), ('humannames', 'Papa Mali, Robert Walter')]\n",
      "[('trademarkname', 'Boost Mobile'), ('humannames', 'Megan Abubo')]\n",
      "[('trademarkname', 'Codiscos'), ('humannames', 'Alberto Beto\" Zabaleta\"\", Alfredo Gutiérrez, Calixto Ochoa, Didier Moreno, Emilia Herrera, Emiliano Zuleta, Hansel Camacho, Helenita Vargas, Iván Calderón, Juan Carlos Coronel, Juan Piña, Juancho Rois, Juancho Torres Correa, Luis Ramírez Saldarriaga, Maelo Ruiz, Miguel Morales, Nelson Henríquez, Omar Geles, Paola Jara, Patricia Teherán Romero, Petronio Álvarez, Rafael Orozco Maestre, Silvio Brito, Wolfine')]\n",
      "[('trademarkname', 'Orange Twin Records'), ('humannames', 'Jeff Mangum, Madeline, Sibylle Baier')]\n",
      "[('trademarkname', 'Cordless Recordings'), ('humannames', 'Gerald Casale, Ysabella Brave')]\n",
      "[('trademarkname', 'Trill Entertainment'), ('humannames', 'Boosie Badazz')]\n",
      "[('trademarkname', 'Mega Records'), ('humannames', 'Doug Adkins, M. Maurice Hawkesworth, Marilyn Sellars')]\n",
      "[('trademarkname', 'Quindecim Recordings'), ('humannames', 'Guadalupe Parrondo')]\n",
      "[('trademarkname', 'CMC International'), ('humannames', 'Blackie Lawless, Christopher Cross, John Kay, Ronnie Van Zant')]\n"
     ]
    },
    {
     "data": {
      "text/plain": [
       "40"
      ]
     },
     "execution_count": 27,
     "metadata": {},
     "output_type": "execute_result"
    }
   ],
   "source": [
    "queryString = \"\"\"\n",
    "SELECT ?trademarkname\n",
    "(GROUP_CONCAT(DISTINCT ?humanname; SEPARATOR=\", \") AS ?humannames)\n",
    "\n",
    "WHERE { \n",
    "    ?human ?relation ?trademark .\n",
    "    ?trademark wdt:P31/wdt:P279* wd:Q167270  . \n",
    "   #?trademark wdt:P452 ?industry .\n",
    "    #?employer wdt:P108 ?trademark .\n",
    "    ?human wdt:P31 wd:Q5 .\n",
    "    # Labels\n",
    "    ?human <http://schema.org/name> ?humanname .\n",
    "    ?relation <http://schema.org/name> ?relationname .\n",
    "    #?employer <http://schema.org/name> ?employername .\n",
    "    ?trademark <http://schema.org/name> ?trademarkname .\n",
    "    #?industry <http://schema.org/name> ?industryname .\n",
    "   #FILTER regex(?industryname, \"electronics\", \"i\") \n",
    "} \n",
    "\n",
    "LIMIT 40\n",
    "\"\"\"\n",
    "\n",
    "print(\"Results\")\n",
    "run_query(queryString)"
   ]
  },
  {
   "cell_type": "code",
   "execution_count": 28,
   "id": "cd239ddd-89ad-4a36-a5c5-0576ff5ebc49",
   "metadata": {},
   "outputs": [
    {
     "name": "stdout",
     "output_type": "stream",
     "text": [
      "Results\n",
      "[('humanname', 'Roxana Ortega'), ('relationname', 'described by source'), ('trademarkname', 'Cineplex')]\n",
      "[('humanname', 'Roxana Ortega'), ('relationname', 'described by source'), ('trademarkname', 'Cineplex')]\n",
      "[('humanname', 'Yūya Yagira'), ('relationname', 'employer'), ('trademarkname', 'Stardust Promotion')]\n",
      "[('humanname', 'Yūya Yagira'), ('relationname', 'employer'), ('trademarkname', 'Stardust Promotion')]\n",
      "[('humanname', 'Ovidio G. Assonitis'), ('relationname', 'employer'), ('trademarkname', 'The Cannon Group')]\n",
      "[('humanname', 'Ovidio G. Assonitis'), ('relationname', 'employer'), ('trademarkname', 'The Cannon Group')]\n",
      "[('humanname', 'Yang Hyun-seok'), ('relationname', 'employer'), ('trademarkname', 'YG Entertainment')]\n",
      "[('humanname', 'Yang Hyun-seok'), ('relationname', 'employer'), ('trademarkname', 'YG Entertainment')]\n",
      "[('humanname', 'Queen Anne of Romania'), ('relationname', 'employer'), ('trademarkname', \"Macy's\")]\n",
      "[('humanname', 'Queen Anne of Romania'), ('relationname', 'employer'), ('trademarkname', \"Macy's\")]\n",
      "[('humanname', 'Marguerite Renoir'), ('relationname', 'employer'), ('trademarkname', 'Pathé')]\n",
      "[('humanname', 'Marguerite Renoir'), ('relationname', 'employer'), ('trademarkname', 'Pathé')]\n",
      "[('humanname', 'Clara Beranger'), ('relationname', 'employer'), ('trademarkname', 'Pathé')]\n",
      "[('humanname', 'Clara Beranger'), ('relationname', 'employer'), ('trademarkname', 'Pathé')]\n",
      "[('humanname', 'Kenjirō Tsuda'), ('relationname', 'employer'), ('trademarkname', 'Stardust Promotion')]\n",
      "[('humanname', 'Kenjirō Tsuda'), ('relationname', 'employer'), ('trademarkname', 'Stardust Promotion')]\n",
      "[('humanname', 'Sofía Vergara'), ('relationname', 'employer'), ('trademarkname', 'Kmart')]\n",
      "[('humanname', 'Sofía Vergara'), ('relationname', 'employer'), ('trademarkname', 'Kmart')]\n",
      "[('humanname', 'Yelizaveta Svilova'), ('relationname', 'employer'), ('trademarkname', 'Pathé')]\n",
      "[('humanname', 'Yelizaveta Svilova'), ('relationname', 'employer'), ('trademarkname', 'Pathé')]\n",
      "[('humanname', 'Dot Farley'), ('relationname', 'employer'), ('trademarkname', 'Pathé')]\n",
      "[('humanname', 'Dot Farley'), ('relationname', 'employer'), ('trademarkname', 'Pathé')]\n",
      "[('humanname', 'Dorothy Farnum'), ('relationname', 'employer'), ('trademarkname', 'Gaumont-British Picture Corporation')]\n",
      "[('humanname', 'Dorothy Farnum'), ('relationname', 'employer'), ('trademarkname', 'Gaumont-British Picture Corporation')]\n",
      "[('humanname', 'Megumi Nakajima'), ('relationname', 'employer'), ('trademarkname', 'Stardust Promotion')]\n",
      "[('humanname', 'Megumi Nakajima'), ('relationname', 'employer'), ('trademarkname', 'Stardust Promotion')]\n",
      "[('humanname', 'Gertrude Heym'), ('relationname', 'employer'), ('trademarkname', 'Loews Cineplex Entertainment')]\n",
      "[('humanname', 'Gertrude Heym'), ('relationname', 'employer'), ('trademarkname', 'Loews Cineplex Entertainment')]\n",
      "[('humanname', 'Ouida Bergère'), ('relationname', 'employer'), ('trademarkname', 'Pathé')]\n",
      "[('humanname', 'Ouida Bergère'), ('relationname', 'employer'), ('trademarkname', 'Pathé')]\n",
      "[('humanname', 'Leah Baird'), ('relationname', 'employer'), ('trademarkname', 'Pathé')]\n",
      "[('humanname', 'Leah Baird'), ('relationname', 'employer'), ('trademarkname', 'Pathé')]\n",
      "[('humanname', 'Margarete Steinborn'), ('relationname', 'employer'), ('trademarkname', 'Pathé')]\n",
      "[('humanname', 'Margarete Steinborn'), ('relationname', 'employer'), ('trademarkname', 'Pathé')]\n",
      "[('humanname', 'Segundo de Chomón'), ('relationname', 'employer'), ('trademarkname', 'Pathé')]\n",
      "[('humanname', 'Segundo de Chomón'), ('relationname', 'employer'), ('trademarkname', 'Pathé')]\n",
      "[('humanname', 'Bibi Lindström'), ('relationname', 'employer'), ('trademarkname', 'Sandrew Film & Theater')]\n",
      "[('humanname', 'Bibi Lindström'), ('relationname', 'employer'), ('trademarkname', 'Sandrew Film & Theater')]\n",
      "[('humanname', 'Bibi Lindström'), ('relationname', 'employer'), ('trademarkname', 'Europafilm')]\n",
      "[('humanname', 'Bibi Lindström'), ('relationname', 'employer'), ('trademarkname', 'Europafilm')]\n"
     ]
    },
    {
     "data": {
      "text/plain": [
       "40"
      ]
     },
     "execution_count": 28,
     "metadata": {},
     "output_type": "execute_result"
    }
   ],
   "source": [
    "queryString = \"\"\"\n",
    "SELECT ?humanname ?relationname ?trademarkname\n",
    "WHERE { \n",
    "    ?human ?relation ?trademark .\n",
    "    ?trademark wdt:P31/wdt:P279* wd:Q167270  . \n",
    "   #?trademark wdt:P452 ?industry .\n",
    "    #?employer wdt:P108 ?trademark .\n",
    "    ?human wdt:P31 wd:Q5 .\n",
    "    # Labels\n",
    "    ?human <http://schema.org/name> ?humanname .\n",
    "    ?relation <http://schema.org/name> ?relationname .\n",
    "    #?employer <http://schema.org/name> ?employername .\n",
    "    ?trademark <http://schema.org/name> ?trademarkname .\n",
    "    #?industry <http://schema.org/name> ?industryname .\n",
    "   #FILTER regex(?industryname, \"electronics\", \"i\") \n",
    "} \n",
    "\n",
    "LIMIT 40\n",
    "\"\"\"\n",
    "\n",
    "print(\"Results\")\n",
    "run_query(queryString)"
   ]
  },
  {
   "cell_type": "code",
   "execution_count": 29,
   "id": "793749da-792c-4009-a057-760842abc69a",
   "metadata": {},
   "outputs": [
    {
     "name": "stdout",
     "output_type": "stream",
     "text": [
      "Results\n",
      "[('p', 'http://www.wikidata.org/prop/direct/P31'), ('pname', 'instance of'), ('o', 'http://www.wikidata.org/entity/Q891723'), ('oname', 'public company')]\n"
     ]
    },
    {
     "data": {
      "text/plain": [
       "1"
      ]
     },
     "execution_count": 29,
     "metadata": {},
     "output_type": "execute_result"
    }
   ],
   "source": [
    "#`wd:Q312` | Apple Inc.    | node      |\n",
    "queryString = \"\"\"\n",
    "SELECT ?p ?pname ?o ?oname\n",
    "WHERE { \n",
    "\n",
    "    wd:Q312 ?p ?o .\n",
    "    # Labels\n",
    "    ?p <http://schema.org/name> ?pname .\n",
    "    ?o <http://schema.org/name> ?oname .\n",
    "    FILTER regex(?oname, \"company\", \"i\") \n",
    "} \n",
    "LIMIT 20\n",
    "\"\"\"\n",
    "\n",
    "print(\"Results\")\n",
    "run_query(queryString)"
   ]
  },
  {
   "cell_type": "code",
   "execution_count": 30,
   "id": "b853b9ca-733e-455a-ac70-cd8da8a9594f",
   "metadata": {},
   "outputs": [
    {
     "name": "stdout",
     "output_type": "stream",
     "text": [
      "Results\n",
      "[('p', 'http://www.wikidata.org/entity/P3875'), ('pname', 'Justia Patents company ID'), ('o', 'http://www.wikidata.org/prop/direct/P1855'), ('oname', 'Wikidata property example')]\n",
      "[('p', 'http://www.wikidata.org/entity/P7283'), ('pname', 'Spectrum Management System Company Number'), ('o', 'http://www.wikidata.org/prop/direct/P1855'), ('oname', 'Wikidata property example')]\n"
     ]
    },
    {
     "data": {
      "text/plain": [
       "2"
      ]
     },
     "execution_count": 30,
     "metadata": {},
     "output_type": "execute_result"
    }
   ],
   "source": [
    "#`wd:Q312` | Apple Inc.    | node      |\n",
    "queryString = \"\"\"\n",
    "SELECT ?p ?pname ?o ?oname\n",
    "WHERE { \n",
    "\n",
    "    ?p ?o wd:Q312 .\n",
    "    # Labels\n",
    "    ?p <http://schema.org/name> ?pname .\n",
    "    ?o <http://schema.org/name> ?oname .\n",
    "    FILTER regex(?pname, \"company\", \"i\") \n",
    "} \n",
    "LIMIT 20\n",
    "\"\"\"\n",
    "\n",
    "print(\"Results\")\n",
    "run_query(queryString)"
   ]
  },
  {
   "cell_type": "code",
   "execution_count": 31,
   "id": "04981afb-1f20-42cc-bb79-563e4127bc99",
   "metadata": {},
   "outputs": [
    {
     "name": "stdout",
     "output_type": "stream",
     "text": [
      "Results\n",
      "[('group', 'http://www.wikidata.org/entity/Q4020840'), ('groupname', 'Workgroup Manager'), ('relation', 'http://www.wikidata.org/prop/direct/P178'), ('relationname', 'developer')]\n",
      "[('group', 'http://www.wikidata.org/entity/Q849363'), ('groupname', 'The Vanguard Group'), ('relation', 'http://www.wikidata.org/prop/direct/P1830'), ('relationname', 'owner of')]\n",
      "[('group', 'http://www.wikidata.org/entity/Q4781185'), ('groupname', 'Apple Industrial Design Group'), ('relation', 'http://www.wikidata.org/prop/direct/P361'), ('relationname', 'part of')]\n"
     ]
    },
    {
     "data": {
      "text/plain": [
       "3"
      ]
     },
     "execution_count": 31,
     "metadata": {},
     "output_type": "execute_result"
    }
   ],
   "source": [
    "#`wd:Q312` | Apple Inc.    | node      |\n",
    "queryString = \"\"\"\n",
    "SELECT ?group ?groupname ?relation ?relationname\n",
    "WHERE { \n",
    "\n",
    "    ?group ?relation wd:Q312 .\n",
    "    # Labels\n",
    "    ?group <http://schema.org/name> ?groupname .\n",
    "    ?relation <http://schema.org/name> ?relationname .\n",
    "    FILTER regex(?groupname, \"group\", \"i\") \n",
    "} \n",
    "LIMIT 20\n",
    "\"\"\"\n",
    "\n",
    "print(\"Results\")\n",
    "run_query(queryString)"
   ]
  },
  {
   "cell_type": "code",
   "execution_count": 32,
   "id": "05a23315-2a2c-4875-b4d3-3c6718c31595",
   "metadata": {},
   "outputs": [
    {
     "name": "stdout",
     "output_type": "stream",
     "text": [
      "Results\n",
      "[('p', 'http://www.wikidata.org/prop/direct/P127'), ('pname', 'owned by'), ('o', 'http://www.wikidata.org/entity/Q849363'), ('oname', 'The Vanguard Group')]\n"
     ]
    },
    {
     "data": {
      "text/plain": [
       "1"
      ]
     },
     "execution_count": 32,
     "metadata": {},
     "output_type": "execute_result"
    }
   ],
   "source": [
    "#`wd:Q312` | Apple Inc.    | node      |\n",
    "queryString = \"\"\"\n",
    "SELECT ?p ?pname ?o ?oname\n",
    "WHERE { \n",
    "\n",
    "    wd:Q312 ?p ?o .\n",
    "    # Labels\n",
    "    ?p <http://schema.org/name> ?pname .\n",
    "    ?o <http://schema.org/name> ?oname .\n",
    "    FILTER regex(?oname, \"group\", \"i\") \n",
    "} \n",
    "LIMIT 20\n",
    "\"\"\"\n",
    "\n",
    "print(\"Results\")\n",
    "run_query(queryString)"
   ]
  },
  {
   "cell_type": "code",
   "execution_count": 33,
   "id": "925028e3-9bbb-49c7-abca-bd7ddb77bdfe",
   "metadata": {},
   "outputs": [
    {
     "name": "stdout",
     "output_type": "stream",
     "text": [
      "Results\n",
      "[('p', 'http://www.wikidata.org/entity/Q4034223'), ('pname', 'Apple Pro Mouse'), ('o', 'http://www.wikidata.org/prop/direct/P170'), ('oname', 'creator')]\n",
      "[('p', 'http://www.wikidata.org/entity/Q65037131'), ('pname', 'Evans Hankey'), ('o', 'http://www.wikidata.org/prop/direct/P463'), ('oname', 'member of')]\n"
     ]
    },
    {
     "data": {
      "text/plain": [
       "2"
      ]
     },
     "execution_count": 33,
     "metadata": {},
     "output_type": "execute_result"
    }
   ],
   "source": [
    "#`wd:Q312` | Apple Inc.    | node      |\n",
    "queryString = \"\"\"\n",
    "SELECT ?p ?pname ?o ?oname\n",
    "WHERE { \n",
    "\n",
    "    ?p ?o wd:Q4781185 .\n",
    "    # Labels\n",
    "    ?p <http://schema.org/name> ?pname .\n",
    "    ?o <http://schema.org/name> ?oname .\n",
    "    #FILTER regex(?oname, \"group\", \"i\") \n",
    "} \n",
    "LIMIT 20\n",
    "\"\"\"\n",
    "\n",
    "print(\"Results\")\n",
    "run_query(queryString)"
   ]
  },
  {
   "cell_type": "code",
   "execution_count": 34,
   "id": "2df17804-394f-41d7-88af-5f12b9a03744",
   "metadata": {},
   "outputs": [],
   "source": [
    "# different companies related to Apple "
   ]
  },
  {
   "cell_type": "code",
   "execution_count": 35,
   "id": "f0881970-71af-463b-995b-82df842eb3a1",
   "metadata": {},
   "outputs": [
    {
     "name": "stdout",
     "output_type": "stream",
     "text": [
      "Results\n",
      "[('group', 'http://www.wikidata.org/entity/Q4020840'), ('groupname', 'Workgroup Manager'), ('relation', 'http://www.wikidata.org/prop/direct/P178'), ('relationname', 'developer')]\n",
      "[('group', 'http://www.wikidata.org/entity/Q849363'), ('groupname', 'The Vanguard Group'), ('relation', 'http://www.wikidata.org/prop/direct/P1830'), ('relationname', 'owner of')]\n",
      "[('group', 'http://www.wikidata.org/entity/Q4781185'), ('groupname', 'Apple Industrial Design Group'), ('relation', 'http://www.wikidata.org/prop/direct/P361'), ('relationname', 'part of')]\n"
     ]
    },
    {
     "data": {
      "text/plain": [
       "3"
      ]
     },
     "execution_count": 35,
     "metadata": {},
     "output_type": "execute_result"
    }
   ],
   "source": [
    "#`wd:Q312` | Apple Inc.    | node      |\n",
    "queryString = \"\"\"\n",
    "SELECT ?group ?groupname ?relation ?relationname\n",
    "WHERE { \n",
    "\n",
    "    ?group ?relation wd:Q312 .\n",
    "    # Labels\n",
    "    ?group <http://schema.org/name> ?groupname .\n",
    "    ?relation <http://schema.org/name> ?relationname .\n",
    "    FILTER regex(?groupname, \"group\", \"i\") \n",
    "} \n",
    "LIMIT 20\n",
    "\"\"\"\n",
    "\n",
    "print(\"Results\")\n",
    "run_query(queryString)"
   ]
  },
  {
   "cell_type": "markdown",
   "id": "cdf974de-5814-451f-9a06-9f9f61a9ac0d",
   "metadata": {},
   "source": [
    "## Identify the BGP for the company related to a given trademark"
   ]
  },
  {
   "cell_type": "code",
   "execution_count": 36,
   "id": "0ddc735c-0c49-4abd-956d-c2183b9b48fd",
   "metadata": {},
   "outputs": [
    {
     "name": "stdout",
     "output_type": "stream",
     "text": [
      "Results\n",
      "[('trademarkname', '960 Music Group'), ('groupname', '960 Music Group')]\n",
      "[('trademarkname', 'A&M Records'), ('groupname', 'November Group')]\n",
      "[('trademarkname', 'AB Groupe'), ('groupname', 'Category:AB Groupe')]\n",
      "[('trademarkname', 'ABC'), ('groupname', 'S Group')]\n",
      "[('trademarkname', 'ACT Music'), ('groupname', 'The Real Group')]\n",
      "[('trademarkname', 'AEON MALL'), ('groupname', 'Shopping centers of AEON Group')]\n",
      "[('trademarkname', 'AMC Theatres'), ('groupname', 'Odeon Cinemas Group')]\n",
      "[('trademarkname', 'AMC Theatres'), ('groupname', 'Nordic Cinema Group')]\n",
      "[('trademarkname', 'AMC Theatres'), ('groupname', 'Wanda Group')]\n",
      "[('trademarkname', 'AWAL'), ('groupname', 'E2A Music Group, LLC')]\n",
      "[('trademarkname', 'Absolut Vodka'), ('groupname', 'V&S Group')]\n",
      "[('trademarkname', 'Academic Press'), ('groupname', 'RELX Group')]\n",
      "[('trademarkname', 'Alabianca Records'), ('groupname', 'Ala Bianca Group S.r.l.')]\n",
      "[('trademarkname', 'Alarma Records'), ('groupname', 'Meis Music Group')]\n",
      "[('trademarkname', 'Alepa'), ('groupname', 'S Group')]\n",
      "[('trademarkname', 'Allied Artists International'), ('groupname', 'Allied Artists Music Group')]\n",
      "[('trademarkname', 'Alpecin'), ('groupname', 'Dr. Wolff Group')]\n",
      "[('trademarkname', 'Alternative Distribution Alliance'), ('groupname', 'Warner Music Group')]\n",
      "[('trademarkname', 'Aman Resorts'), ('groupname', 'Aman Resorts Group Ltd.')]\n",
      "[('trademarkname', 'Amarillo'), ('groupname', 'S Group')]\n"
     ]
    },
    {
     "data": {
      "text/plain": [
       "20"
      ]
     },
     "execution_count": 36,
     "metadata": {},
     "output_type": "execute_result"
    }
   ],
   "source": [
    "queryString = \"\"\"\n",
    "SELECT DISTINCT ?trademarkname ?relationnames?groupname\n",
    "WHERE { \n",
    "\n",
    "    ?group ?relation ?trademark .\n",
    "    ?trademark wdt:P31/wdt:P279* wd:Q167270  . \n",
    "    #?trademark wdt:P452 ?industry .\n",
    "    #?employer wdt:P108 ?trademark .\n",
    "    # Labels\n",
    "    #?employer <http://schema.org/name> ?employername .\n",
    "    ?trademark <http://schema.org/name> ?trademarkname .\n",
    "    #?industry <http://schema.org/name> ?industryname .\n",
    "    ?group <http://schema.org/name> ?groupname .\n",
    "    ?relation <http://schema.org/name> ?relationname .\n",
    "    FILTER regex(?groupname, \"group\", \"i\") \n",
    "} \n",
    "ORDER BY ?trademarkname\n",
    "LIMIT 20\n",
    "\"\"\"\n",
    "\n",
    "print(\"Results\")\n",
    "run_query(queryString)"
   ]
  },
  {
   "cell_type": "code",
   "execution_count": 37,
   "id": "5728e32f-7ca6-4dff-a456-49f71bc0d13f",
   "metadata": {},
   "outputs": [
    {
     "name": "stdout",
     "output_type": "stream",
     "text": [
      "Results\n",
      "[('trademarkname', '960 Music Group'), ('relationnames', 'parent organization, subsidiary'), ('groupnames', '960 Music Group')]\n",
      "[('trademarkname', 'A&M Records'), ('relationnames', 'record label'), ('groupnames', 'November Group')]\n",
      "[('trademarkname', 'AB Groupe'), ('relationnames', \"category's main topic\"), ('groupnames', 'Category:AB Groupe')]\n",
      "[('trademarkname', 'ABC'), ('relationnames', 'subsidiary'), ('groupnames', 'S Group')]\n",
      "[('trademarkname', 'ACT Music'), ('relationnames', 'record label'), ('groupnames', 'The Real Group')]\n",
      "[('trademarkname', 'AEON MALL'), ('relationnames', 'operator'), ('groupnames', 'Shopping centers of AEON Group')]\n",
      "[('trademarkname', 'AMC Theatres'), ('relationnames', 'founded by, owned by, subsidiary'), ('groupnames', 'Nordic Cinema Group, Odeon Cinemas Group, Wanda Group')]\n",
      "[('trademarkname', 'AWAL'), ('relationnames', 'distributed by'), ('groupnames', 'E2A Music Group, LLC')]\n",
      "[('trademarkname', 'Absolut Vodka'), ('relationnames', 'product or material produced'), ('groupnames', 'V&S Group')]\n",
      "[('trademarkname', 'Academic Press'), ('relationnames', 'subsidiary'), ('groupnames', 'RELX Group')]\n",
      "[('trademarkname', 'Alabianca Records'), ('relationnames', 'business division'), ('groupnames', 'Ala Bianca Group S.r.l.')]\n",
      "[('trademarkname', 'Alarma Records'), ('relationnames', 'subsidiary'), ('groupnames', 'Meis Music Group')]\n",
      "[('trademarkname', 'Alepa'), ('relationnames', 'subsidiary'), ('groupnames', 'S Group')]\n",
      "[('trademarkname', 'Allied Artists International'), ('relationnames', 'distributed by, operator, parent organization'), ('groupnames', 'Allied Artists Music Group')]\n",
      "[('trademarkname', 'Alpecin'), ('relationnames', 'product or material produced'), ('groupnames', 'Dr. Wolff Group')]\n",
      "[('trademarkname', 'Alternative Distribution Alliance'), ('relationnames', 'subsidiary'), ('groupnames', 'Warner Music Group')]\n",
      "[('trademarkname', 'Aman Resorts'), ('relationnames', 'subsidiary'), ('groupnames', 'Aman Resorts Group Ltd.')]\n",
      "[('trademarkname', 'Amarillo'), ('relationnames', 'subsidiary'), ('groupnames', 'S Group')]\n",
      "[('trademarkname', 'Amaru Entertainment'), ('relationnames', 'subsidiary'), ('groupnames', 'Universal Music Group')]\n",
      "[('trademarkname', 'American Eagle'), ('relationnames', 'subsidiary'), ('groupnames', 'American Airlines Group')]\n"
     ]
    },
    {
     "data": {
      "text/plain": [
       "20"
      ]
     },
     "execution_count": 37,
     "metadata": {},
     "output_type": "execute_result"
    }
   ],
   "source": [
    "queryString = \"\"\"\n",
    "SELECT DISTINCT ?trademarkname \n",
    "(GROUP_CONCAT(DISTINCT ?relationname; SEPARATOR=\", \") AS ?relationnames)\n",
    "(GROUP_CONCAT(DISTINCT ?groupname; SEPARATOR=\", \") AS ?groupnames)\n",
    "WHERE { \n",
    "\n",
    "    ?group ?relation ?trademark .\n",
    "    ?trademark wdt:P31/wdt:P279* wd:Q167270  . \n",
    "    #?trademark wdt:P452 ?industry .\n",
    "    #?employer wdt:P108 ?trademark .\n",
    "    # Labels\n",
    "    #?employer <http://schema.org/name> ?employername .\n",
    "    ?trademark <http://schema.org/name> ?trademarkname .\n",
    "    #?industry <http://schema.org/name> ?industryname .\n",
    "    ?group <http://schema.org/name> ?groupname .\n",
    "    ?relation <http://schema.org/name> ?relationname .\n",
    "    FILTER regex(?groupname, \"group\", \"i\") \n",
    "} \n",
    "ORDER BY ?trademarkname\n",
    "LIMIT 20\n",
    "\"\"\"\n",
    "\n",
    "print(\"Results\")\n",
    "run_query(queryString)"
   ]
  },
  {
   "cell_type": "code",
   "execution_count": 38,
   "id": "54cee174-5baf-4c4f-9be4-7cf7debe4591",
   "metadata": {},
   "outputs": [
    {
     "name": "stdout",
     "output_type": "stream",
     "text": [
      "Results\n",
      "[('trademarkname', 'Apple Inc.'), ('relationname', 'developer'), ('groupname', 'Workgroup Manager')]\n",
      "[('trademarkname', 'Apple Inc.'), ('relationname', 'owner of'), ('groupname', 'The Vanguard Group')]\n",
      "[('trademarkname', 'Apple Inc.'), ('relationname', 'part of'), ('groupname', 'Apple Industrial Design Group')]\n",
      "[('trademarkname', 'EMI'), ('relationname', 'founded by'), ('groupname', 'Capitol Music Group')]\n",
      "[('trademarkname', 'EMI'), ('relationname', 'subsidiary'), ('groupname', 'Warner Music Group')]\n",
      "[('trademarkname', 'EMI'), ('relationname', 'subsidiary'), ('groupname', 'Disney Music Group')]\n",
      "[('trademarkname', 'EMI'), ('relationname', 'said to be the same as'), ('groupname', 'EMI Group Limited')]\n",
      "[('trademarkname', 'EMI'), ('relationname', 'category combines topics'), ('groupname', 'Category:EMI Group artists')]\n"
     ]
    },
    {
     "data": {
      "text/plain": [
       "8"
      ]
     },
     "execution_count": 38,
     "metadata": {},
     "output_type": "execute_result"
    }
   ],
   "source": [
    "# electronic trademarks\n",
    "queryString = \"\"\"\n",
    "SELECT DISTINCT ?trademarkname ?relationname ?groupname\n",
    "WHERE { \n",
    "\n",
    "    ?group ?relation ?trademark .\n",
    "    ?trademark wdt:P31/wdt:P279* wd:Q167270  . \n",
    "    ?trademark wdt:P452 ?industry .\n",
    "    #?employer wdt:P108 ?trademark .\n",
    "    # Labels\n",
    "    #?employer <http://schema.org/name> ?employername .\n",
    "    ?trademark <http://schema.org/name> ?trademarkname .\n",
    "    ?industry <http://schema.org/name> ?industryname .\n",
    "    ?group <http://schema.org/name> ?groupname .\n",
    "    ?relation <http://schema.org/name> ?relationname .\n",
    "    FILTER regex(?groupname, \"group\", \"i\") \n",
    "    FILTER regex(?industryname, \"electronic\", \"i\") \n",
    "} \n",
    "ORDER BY ?trademarkname\n",
    "LIMIT 20\n",
    "\"\"\"\n",
    "\n",
    "print(\"Results\")\n",
    "run_query(queryString)"
   ]
  },
  {
   "cell_type": "code",
   "execution_count": 39,
   "id": "3d668ff3-bcc2-42cc-ae08-11524522e8bc",
   "metadata": {},
   "outputs": [
    {
     "name": "stdout",
     "output_type": "stream",
     "text": [
      "Results\n",
      "[('trademarkname', 'Bread Société'), ('relationname', 'subsidiary'), ('groupname', 'Ting Hsin International Group')]\n",
      "[('trademarkname', \"Domino's Pizza\"), ('relationname', 'parent organization'), ('groupname', \"Domino's Pizza Group plc\")]\n",
      "[('trademarkname', 'Mr. Sub'), ('relationname', 'subsidiary'), ('groupname', 'MTY Food Group')]\n",
      "[('trademarkname', 'Paris Croissant'), ('relationname', 'owner of'), ('groupname', 'SPC Group')]\n",
      "[('trademarkname', 'Pollo Tropical'), ('relationname', 'subsidiary'), ('groupname', 'Fiesta Restaurant Group')]\n",
      "[('trademarkname', 'REWE Group'), ('relationname', \"category's main topic\"), ('groupname', 'Category:Rewe Group')]\n",
      "[('trademarkname', 'REWE Group'), ('relationname', 'parent organization'), ('groupname', 'DER Touristik Group')]\n",
      "[('trademarkname', 'Sushi Shop'), ('relationname', 'subsidiary'), ('groupname', 'MTY Food Group')]\n",
      "[('trademarkname', 'The Pizza Company'), ('relationname', 'subsidiary'), ('groupname', 'Minor Food Group')]\n",
      "[('trademarkname', 'Wasabröd'), ('relationname', 'subsidiary'), ('groupname', 'Barilla Group')]\n"
     ]
    },
    {
     "data": {
      "text/plain": [
       "10"
      ]
     },
     "execution_count": 39,
     "metadata": {},
     "output_type": "execute_result"
    }
   ],
   "source": [
    "# food trademarks\n",
    "queryString = \"\"\"\n",
    "SELECT DISTINCT ?trademarkname ?relationname ?groupname\n",
    "WHERE { \n",
    "\n",
    "    ?group ?relation ?trademark .\n",
    "    ?trademark wdt:P31/wdt:P279* wd:Q167270  . \n",
    "    ?trademark wdt:P452 ?industry .\n",
    "    #?employer wdt:P108 ?trademark .\n",
    "    # Labels\n",
    "    #?employer <http://schema.org/name> ?employername .\n",
    "    ?trademark <http://schema.org/name> ?trademarkname .\n",
    "    ?industry <http://schema.org/name> ?industryname .\n",
    "    ?group <http://schema.org/name> ?groupname .\n",
    "    ?relation <http://schema.org/name> ?relationname .\n",
    "    FILTER regex(?groupname, \"group\", \"i\") \n",
    "    FILTER regex(?industryname, \"food\", \"i\") \n",
    "} \n",
    "ORDER BY ?trademarkname\n",
    "LIMIT 20\n",
    "\"\"\"\n",
    "\n",
    "print(\"Results\")\n",
    "run_query(queryString)"
   ]
  },
  {
   "cell_type": "code",
   "execution_count": 40,
   "id": "5edb42f9-1329-4f16-bea2-a4c595e347f4",
   "metadata": {},
   "outputs": [
    {
     "name": "stdout",
     "output_type": "stream",
     "text": [
      "Results\n",
      "[('trademarkname', '960 Music Group'), ('relationname', 'subsidiary'), ('groupname', '960 Music Group')]\n",
      "[('trademarkname', '960 Music Group'), ('relationname', 'parent organization'), ('groupname', '960 Music Group')]\n",
      "[('trademarkname', 'AMC Theatres'), ('relationname', 'founded by'), ('groupname', 'Odeon Cinemas Group')]\n",
      "[('trademarkname', 'AMC Theatres'), ('relationname', 'owned by'), ('groupname', 'Odeon Cinemas Group')]\n",
      "[('trademarkname', 'AMC Theatres'), ('relationname', 'owned by'), ('groupname', 'Nordic Cinema Group')]\n",
      "[('trademarkname', 'AMC Theatres'), ('relationname', 'subsidiary'), ('groupname', 'Wanda Group')]\n",
      "[('trademarkname', 'Máximo Records'), ('relationname', 'subsidiary'), ('groupname', 'Maximo Group Network')]\n",
      "[('trademarkname', 'National Amusements'), ('relationname', 'owned by'), ('groupname', 'Paramount Stations Group')]\n",
      "[('trademarkname', 'Rotana Group'), ('relationname', \"category's main topic\"), ('groupname', 'Category:Rotana Group')]\n",
      "[('trademarkname', 'Sony Music'), ('relationname', 'owned by'), ('groupname', 'Zomba Group of Companies')]\n",
      "[('trademarkname', 'Sony Music'), ('relationname', 'owned by'), ('groupname', 'RCA Music Group')]\n",
      "[('trademarkname', 'Sony Music'), ('relationname', 'owned by'), ('groupname', 'Provident Label Group')]\n",
      "[('trademarkname', 'Sony Music'), ('relationname', 'owned by'), ('groupname', 'Cosmos Music Group')]\n",
      "[('trademarkname', 'Sony Music'), ('relationname', 'operator'), ('groupname', 'Sony Music Commercial Music Group')]\n",
      "[('trademarkname', 'Sony Music'), ('relationname', 'parent organization'), ('groupname', 'Mosley Music Group')]\n",
      "[('trademarkname', 'Sony Music'), ('relationname', 'parent organization'), ('groupname', 'Zomba Group of Companies')]\n",
      "[('trademarkname', 'Sony Music'), ('relationname', 'distributed by'), ('groupname', 'WWE Music Group')]\n",
      "[('trademarkname', 'Wanda Cinemas'), ('relationname', 'subsidiary'), ('groupname', 'Wanda Group')]\n"
     ]
    },
    {
     "data": {
      "text/plain": [
       "18"
      ]
     },
     "execution_count": 40,
     "metadata": {},
     "output_type": "execute_result"
    }
   ],
   "source": [
    "# entertainment trademarks\n",
    "queryString = \"\"\"\n",
    "SELECT DISTINCT ?trademarkname ?relationname ?groupname\n",
    "WHERE { \n",
    "\n",
    "    ?group ?relation ?trademark .\n",
    "    ?trademark wdt:P31/wdt:P279* wd:Q167270  . \n",
    "    ?trademark wdt:P452 ?industry .\n",
    "    #?employer wdt:P108 ?trademark .\n",
    "    # Labels\n",
    "    #?employer <http://schema.org/name> ?employername .\n",
    "    ?trademark <http://schema.org/name> ?trademarkname .\n",
    "    ?industry <http://schema.org/name> ?industryname .\n",
    "    ?group <http://schema.org/name> ?groupname .\n",
    "    ?relation <http://schema.org/name> ?relationname .\n",
    "    FILTER regex(?groupname, \"group\", \"i\") \n",
    "    FILTER regex(?industryname, \"entertainment\", \"i\") \n",
    "} \n",
    "ORDER BY ?trademarkname\n",
    "LIMIT 20\n",
    "\"\"\"\n",
    "\n",
    "print(\"Results\")\n",
    "run_query(queryString)"
   ]
  },
  {
   "cell_type": "markdown",
   "id": "f67119d9-5a16-413c-bcfe-40fe4d2e648f",
   "metadata": {},
   "source": [
    "## Identify the BGP to retrieve types or categories for a given trademark"
   ]
  },
  {
   "cell_type": "code",
   "execution_count": 41,
   "id": "5ac3f3db-4680-4e78-a71a-d1a26df58659",
   "metadata": {},
   "outputs": [
    {
     "name": "stdout",
     "output_type": "stream",
     "text": [
      "Results\n",
      "[('trademarkname', '%Arabica'), ('categorynames', 'coffee')]\n",
      "[('trademarkname', '01055'), ('categorynames', 'telecommunication')]\n",
      "[('trademarkname', '100PROmotion'), ('categorynames', 'music industry')]\n",
      "[('trademarkname', '101 Drogerie'), ('categorynames', 'drugstore')]\n",
      "[('trademarkname', '1333 Entertainment'), ('categorynames', 'music industry')]\n",
      "[('trademarkname', '2-Tone Entertainment'), ('categorynames', 'music industry')]\n",
      "[('trademarkname', '24 Hour Fitness'), ('categorynames', 'fitness industry')]\n",
      "[('trademarkname', '3M'), ('categorynames', 'conglomerate')]\n",
      "[('trademarkname', '4 Asa U Kući'), ('categorynames', 'music industry')]\n",
      "[('trademarkname', '430 West Records'), ('categorynames', 'music')]\n",
      "[('trademarkname', '7-Eleven'), ('categorynames', 'convenience store')]\n",
      "[('trademarkname', '88rising'), ('categorynames', 'music industry')]\n",
      "[('trademarkname', '8D Creative'), ('categorynames', 'music industry')]\n",
      "[('trademarkname', '960 Music Group'), ('categorynames', 'entertainment')]\n",
      "[('trademarkname', '99 Cents Only Stores'), ('categorynames', 'discount store')]\n",
      "[('trademarkname', 'A Pea in the Pod'), ('categorynames', 'retail')]\n",
      "[('trademarkname', 'A&M Octone Records'), ('categorynames', 'phonographic industry')]\n",
      "[('trademarkname', 'A&M Records'), ('categorynames', 'phonographic industry')]\n",
      "[('trademarkname', 'A&P Canada'), ('categorynames', 'supermarket')]\n",
      "[('trademarkname', 'A&P Family Mart'), ('categorynames', 'retail')]\n",
      "[('trademarkname', 'A&W Restaurants'), ('categorynames', 'fast food')]\n",
      "[('trademarkname', 'A. H. Wheeler & Co'), ('categorynames', 'publishing, retail')]\n",
      "[('trademarkname', 'A.C. Moore'), ('categorynames', 'retail')]\n",
      "[('trademarkname', 'A.G.S. Electronics Ltd.'), ('categorynames', 'consumer electronics')]\n",
      "[('trademarkname', 'ABC Cinemas'), ('categorynames', 'Motion picture projection activities, media industry')]\n",
      "[('trademarkname', 'ABCO Foods'), ('categorynames', 'retail')]\n",
      "[('trademarkname', 'ABS Pumpen'), ('categorynames', 'mechanical engineering')]\n",
      "[('trademarkname', 'AC Hotels'), ('categorynames', 'hotel industry')]\n",
      "[('trademarkname', 'ACE Cash Express'), ('categorynames', 'financial services')]\n",
      "[('trademarkname', 'ACO'), ('categorynames', 'pharmaceutical industry')]\n",
      "[('trademarkname', 'AFA'), ('categorynames', 'automotive industry')]\n",
      "[('trademarkname', 'AG Neovo'), ('categorynames', 'electronics industry')]\n",
      "[('trademarkname', 'AHF'), ('categorynames', 'retail')]\n",
      "[('trademarkname', 'AKS'), ('categorynames', 'show business')]\n",
      "[('trademarkname', 'ALDI'), ('categorynames', 'retail')]\n",
      "[('trademarkname', 'ALDI Magyarország'), ('categorynames', 'trade')]\n",
      "[('trademarkname', 'ALDI Nord'), ('categorynames', 'retail')]\n",
      "[('trademarkname', 'ALDI Süd'), ('categorynames', 'retail')]\n",
      "[('trademarkname', 'AMC Theatres'), ('categorynames', 'entertainment')]\n",
      "[('trademarkname', 'AMT Coffee'), ('categorynames', 'gastronomy')]\n"
     ]
    },
    {
     "data": {
      "text/plain": [
       "40"
      ]
     },
     "execution_count": 41,
     "metadata": {},
     "output_type": "execute_result"
    }
   ],
   "source": [
    "# categories or types\n",
    "queryString = \"\"\"\n",
    "SELECT ?trademarkname (GROUP_CONCAT(DISTINCT ?categoryname; SEPARATOR=\", \") AS ?categorynames) \n",
    "WHERE { \n",
    "    \n",
    "    ?trademark wdt:P31/wdt:P279* wd:Q167270  . \n",
    "    ?trademark wdt:P452 ?category .\n",
    "    # Labels\n",
    "    ?trademark <http://schema.org/name> ?trademarkname .\n",
    "    ?category <http://schema.org/name> ?categoryname .\n",
    "\n",
    "} \n",
    "ORDER BY ?trademarkname\n",
    "LIMIT 40\n",
    "\"\"\"\n",
    "\n",
    "print(\"Results\")\n",
    "run_query(queryString)"
   ]
  },
  {
   "cell_type": "markdown",
   "id": "0ab1233d-5c12-4ffd-9d52-88b12ceab844",
   "metadata": {},
   "source": [
    "## Categories or types"
   ]
  },
  {
   "cell_type": "code",
   "execution_count": 42,
   "id": "9fb045af-d5da-485e-a06b-9b8cdd972462",
   "metadata": {},
   "outputs": [
    {
     "name": "stdout",
     "output_type": "stream",
     "text": [
      "Results\n",
      "[('trademarkname', '100PROmotion'), ('countryname', 'Czech Republic'), ('categorynames', 'music industry')]\n",
      "[('trademarkname', '1333 Entertainment'), ('countryname', 'United Kingdom'), ('categorynames', 'music industry')]\n",
      "[('trademarkname', '430 West Records'), ('countryname', 'United States of America'), ('categorynames', 'music')]\n",
      "[('trademarkname', '88rising'), ('countryname', 'United States of America'), ('categorynames', 'music industry')]\n",
      "[('trademarkname', '8D Creative'), ('countryname', 'South Korea'), ('categorynames', 'music industry')]\n",
      "[('trademarkname', 'AWAL'), ('countryname', 'United Kingdom'), ('categorynames', 'music industry')]\n",
      "[('trademarkname', 'Abridged Pause Recordings'), ('countryname', 'Canada'), ('categorynames', 'music industry')]\n",
      "[('trademarkname', 'Abyss Company'), ('countryname', 'South Korea'), ('categorynames', 'music industry')]\n",
      "[('trademarkname', 'Action Entertainment'), ('countryname', 'United States of America'), ('categorynames', 'music industry')]\n",
      "[('trademarkname', 'Allied Artists Music Group'), ('countryname', 'United States of America'), ('categorynames', 'music industry')]\n",
      "[('trademarkname', 'Alpha Music'), ('countryname', 'Bulgaria'), ('categorynames', 'music')]\n",
      "[('trademarkname', 'Alternative Distribution Alliance'), ('countryname', 'United States of America'), ('categorynames', 'music industry')]\n",
      "[('trademarkname', 'Ambition Entertainment'), ('countryname', 'Australia'), ('categorynames', 'music')]\n",
      "[('trademarkname', 'Amoeba Culture'), ('countryname', 'South Korea'), ('categorynames', 'music industry')]\n",
      "[('trademarkname', 'Anchor Records'), ('countryname', 'United Kingdom'), ('categorynames', 'music')]\n",
      "[('trademarkname', 'Anjunabeats'), ('countryname', 'United Kingdom'), ('categorynames', 'music industry')]\n",
      "[('trademarkname', 'Anti-'), ('countryname', 'United States of America'), ('categorynames', 'music industry')]\n",
      "[('trademarkname', 'Antoine Courtois'), ('countryname', 'France'), ('categorynames', 'musical instrument')]\n",
      "[('trademarkname', 'Arista'), ('countryname', 'United States of America'), ('categorynames', 'music industry')]\n",
      "[('trademarkname', 'Avex Group'), ('countryname', 'Japan'), ('categorynames', 'music industry')]\n",
      "[('trademarkname', 'Avrupa Müzik'), ('countryname', 'Turkey'), ('categorynames', 'music industry')]\n",
      "[('trademarkname', 'BMG Japan'), ('countryname', 'Japan'), ('categorynames', 'music industry')]\n",
      "[('trademarkname', 'BMG Rights Management'), ('countryname', 'Germany'), ('categorynames', 'music industry')]\n",
      "[('trademarkname', 'Bad Boy Records'), ('countryname', 'United States of America'), ('categorynames', 'music industry')]\n",
      "[('trademarkname', 'Bassivity Music'), ('countryname', 'Serbia'), ('categorynames', 'music industry')]\n",
      "[('trademarkname', 'Beatservice Records'), ('countryname', 'Norway'), ('categorynames', 'music industry')]\n",
      "[('trademarkname', 'Being Inc.'), ('countryname', 'Japan'), ('categorynames', 'music')]\n",
      "[('trademarkname', \"Berliner's Gramophone\"), ('countryname', 'United States of America'), ('categorynames', 'music industry')]\n",
      "[('trademarkname', 'Bertelsmann Music Group'), ('countryname', 'Germany'), ('categorynames', 'music')]\n",
      "[('trademarkname', 'Besson'), ('countryname', 'France'), ('categorynames', 'musical instrument')]\n",
      "[('trademarkname', 'Bossy LDN'), ('countryname', 'United Kingdom'), ('categorynames', 'music')]\n",
      "[('trademarkname', 'Brainflu'), ('countryname', 'Brazil'), ('categorynames', 'music industry')]\n",
      "[('trademarkname', 'Brand New Music'), ('countryname', 'South Korea'), ('categorynames', 'music industry')]\n",
      "[('trademarkname', 'Brother Records'), ('countryname', 'United States of America'), ('categorynames', 'music industry')]\n",
      "[('trademarkname', 'CD-Maximum'), ('countryname', 'Russia'), ('categorynames', 'music')]\n",
      "[('trademarkname', 'Cactus Jack Records'), ('countryname', 'United States of America'), ('categorynames', 'music industry')]\n",
      "[('trademarkname', 'Chandos Records'), ('countryname', 'United Kingdom'), ('categorynames', 'music industry')]\n",
      "[('trademarkname', 'Chrome Entertainment'), ('countryname', 'South Korea'), ('categorynames', 'music industry')]\n",
      "[('trademarkname', 'Ché Trading'), ('countryname', 'United Kingdom'), ('categorynames', 'music')]\n",
      "[('trademarkname', 'Columbia Graphophone Co. Ltd.'), ('countryname', 'United Kingdom'), ('categorynames', 'music')]\n"
     ]
    },
    {
     "data": {
      "text/plain": [
       "40"
      ]
     },
     "execution_count": 42,
     "metadata": {},
     "output_type": "execute_result"
    }
   ],
   "source": [
    "# categories or types\n",
    "queryString = \"\"\"\n",
    "SELECT ?trademarkname ?countryname \n",
    "(GROUP_CONCAT(DISTINCT ?categoryname; SEPARATOR=\", \") AS ?categorynames) \n",
    "WHERE { \n",
    "    \n",
    "    ?trademark wdt:P31/wdt:P279* wd:Q167270  . \n",
    "    ?trademark wdt:P452 ?category .\n",
    "    ?trademark wdt:P17 ?country .\n",
    "    # Labels\n",
    "    ?trademark <http://schema.org/name> ?trademarkname .\n",
    "    ?category <http://schema.org/name> ?categoryname .\n",
    "    ?country <http://schema.org/name> ?countryname .\n",
    "    FILTER regex(?categoryname, \"music\", \"i\") \n",
    "} \n",
    "ORDER BY ?trademarkname\n",
    "LIMIT 40\n",
    "\"\"\"\n",
    "\n",
    "print(\"Results\")\n",
    "run_query(queryString)"
   ]
  },
  {
   "cell_type": "markdown",
   "id": "fe0c795e-7cbe-4431-abb9-4f61a877333f",
   "metadata": {},
   "source": [
    "## What are the types of trademarks, how many trademarks exist for each type?"
   ]
  },
  {
   "cell_type": "markdown",
   "id": "dc24ff10-5088-4078-a618-7a2ca513bc3a",
   "metadata": {},
   "source": [
    "#### Count the number of trademark that every category has."
   ]
  },
  {
   "cell_type": "code",
   "execution_count": 43,
   "id": "4eea5196-884c-4a98-9c99-a0d2a413487e",
   "metadata": {},
   "outputs": [
    {
     "name": "stdout",
     "output_type": "stream",
     "text": [
      "Results\n",
      "[('categoryname', 'retail'), ('counttrademark', '795')]\n",
      "[('categoryname', 'automotive industry'), ('counttrademark', '504')]\n",
      "[('categoryname', 'consumer electronics'), ('counttrademark', '227')]\n",
      "[('categoryname', 'brewing'), ('counttrademark', '185')]\n",
      "[('categoryname', 'music industry'), ('counttrademark', '184')]\n",
      "[('categoryname', 'restaurant'), ('counttrademark', '175')]\n",
      "[('categoryname', 'gastronomy'), ('counttrademark', '124')]\n",
      "[('categoryname', 'clothing industry'), ('counttrademark', '98')]\n",
      "[('categoryname', 'food industry'), ('counttrademark', '82')]\n",
      "[('categoryname', 'entertainment'), ('counttrademark', '81')]\n",
      "[('categoryname', 'fast food'), ('counttrademark', '73')]\n",
      "[('categoryname', 'music'), ('counttrademark', '69')]\n",
      "[('categoryname', 'video game industry'), ('counttrademark', '63')]\n",
      "[('categoryname', 'hospitality industry'), ('counttrademark', '54')]\n",
      "[('categoryname', 'food and tobacco industry'), ('counttrademark', '54')]\n",
      "[('categoryname', 'phonographic industry'), ('counttrademark', '42')]\n",
      "[('categoryname', 'foodservice'), ('counttrademark', '42')]\n",
      "[('categoryname', 'grocery store'), ('counttrademark', '39')]\n",
      "[('categoryname', 'fashion'), ('counttrademark', '35')]\n",
      "[('categoryname', 'supermarket'), ('counttrademark', '33')]\n",
      "[('categoryname', 'Manufacture of beer'), ('counttrademark', '32')]\n",
      "[('categoryname', 'Food retail sector'), ('counttrademark', '28')]\n",
      "[('categoryname', 'show business'), ('counttrademark', '26')]\n",
      "[('categoryname', 'beverage industry'), ('counttrademark', '26')]\n",
      "[('categoryname', 'textile industry'), ('counttrademark', '25')]\n",
      "[('categoryname', 'entertainment industry'), ('counttrademark', '23')]\n",
      "[('categoryname', 'publishing'), ('counttrademark', '23')]\n",
      "[('categoryname', 'telecommunications industry'), ('counttrademark', '22')]\n",
      "[('categoryname', 'hotel industry'), ('counttrademark', '22')]\n",
      "[('categoryname', 'hotel'), ('counttrademark', '21')]\n",
      "[('categoryname', 'petroleum industry'), ('counttrademark', '21')]\n",
      "[('categoryname', 'film industry'), ('counttrademark', '21')]\n",
      "[('categoryname', 'cosmetics industry'), ('counttrademark', '20')]\n",
      "[('categoryname', 'mass-market retailing'), ('counttrademark', '19')]\n",
      "[('categoryname', 'manufacturing'), ('counttrademark', '17')]\n",
      "[('categoryname', 'tourism'), ('counttrademark', '17')]\n",
      "[('categoryname', 'system catering'), ('counttrademark', '14')]\n",
      "[('categoryname', 'quick service restaurant sector'), ('counttrademark', '13')]\n",
      "[('categoryname', 'mobile phone industry'), ('counttrademark', '12')]\n",
      "[('categoryname', 'fast casual restaurant'), ('counttrademark', '12')]\n"
     ]
    },
    {
     "data": {
      "text/plain": [
       "40"
      ]
     },
     "execution_count": 43,
     "metadata": {},
     "output_type": "execute_result"
    }
   ],
   "source": [
    "# Count the number of trademark that every category has.\n",
    "queryString = \"\"\"\n",
    "SELECT ?categoryname  (COUNT (DISTINCT ?trademark) AS ?counttrademark) \n",
    "WHERE { \n",
    "    \n",
    "    ?trademark wdt:P31/wdt:P279* wd:Q167270  . \n",
    "    ?trademark wdt:P452 ?category .\n",
    "    # Labels\n",
    "   # ?trademark <http://schema.org/name> ?trademarkname .\n",
    "    ?category <http://schema.org/name> ?categoryname .\n",
    "   \n",
    "} \n",
    "GROUP BY ?categoryname\n",
    "ORDER BY DESC(?counttrademark)\n",
    "LIMIT 40\n",
    "\"\"\"\n",
    "\n",
    "print(\"Results\")\n",
    "run_query(queryString)"
   ]
  },
  {
   "cell_type": "markdown",
   "id": "0b698be7-e1c0-4f6d-816c-27c32c574f7c",
   "metadata": {},
   "source": [
    "## What companies have the largest number of trademarks? "
   ]
  },
  {
   "cell_type": "code",
   "execution_count": 44,
   "id": "dc100955-bcfb-4b17-8365-8258f99b5645",
   "metadata": {},
   "outputs": [
    {
     "name": "stdout",
     "output_type": "stream",
     "text": [
      "Results\n",
      "[('groupname', 'Warner Music Group'), ('counttrademark', '52')]\n",
      "[('groupname', 'Universal Music Group'), ('counttrademark', '50')]\n",
      "[('groupname', 'Casino Group'), ('counttrademark', '10')]\n",
      "[('groupname', 'Avex Group'), ('counttrademark', '9')]\n",
      "[('groupname', 'InterContinental Hotels Group plc'), ('counttrademark', '9')]\n",
      "[('groupname', 'Kraft Foods Group'), ('counttrademark', '9')]\n",
      "[('groupname', 'Radisson Hotel Group'), ('counttrademark', '8')]\n",
      "[('groupname', 'MTY Food Group'), ('counttrademark', '8')]\n",
      "[('groupname', 'S Group'), ('counttrademark', '8')]\n",
      "[('groupname', 'Minor Food Group'), ('counttrademark', '6')]\n",
      "[('groupname', 'Campari Group'), ('counttrademark', '5')]\n",
      "[('groupname', 'Kabad Music Group'), ('counttrademark', '5')]\n",
      "[('groupname', 'Disney Music Group'), ('counttrademark', '5')]\n",
      "[('groupname', 'Biogroup'), ('counttrademark', '5')]\n",
      "[('groupname', 'Frasers Group'), ('counttrademark', '5')]\n",
      "[('groupname', 'REWE Group'), ('counttrademark', '5')]\n",
      "[('groupname', 'Carlsberg Group'), ('counttrademark', '4')]\n",
      "[('groupname', 'CJ Group'), ('counttrademark', '4')]\n",
      "[('groupname', 'GIB Group'), ('counttrademark', '4')]\n",
      "[('groupname', 'Rover Group'), ('counttrademark', '4')]\n"
     ]
    },
    {
     "data": {
      "text/plain": [
       "20"
      ]
     },
     "execution_count": 44,
     "metadata": {},
     "output_type": "execute_result"
    }
   ],
   "source": [
    "# entertainment trademarks\n",
    "queryString = \"\"\"\n",
    "SELECT ?groupname (COUNT (DISTINCT ?trademark) AS ?counttrademark) \n",
    "WHERE { \n",
    "    ?group ?relation ?trademark .\n",
    "    ?trademark wdt:P31/wdt:P279* wd:Q167270  . \n",
    "    # Labels\n",
    "    ?group <http://schema.org/name> ?groupname .\n",
    "    FILTER regex(?groupname, \"group\", \"i\") \n",
    "} \n",
    "GROUP BY ?groupname\n",
    "ORDER BY DESC(?counttrademark)\n",
    "LIMIT 20\n",
    "\"\"\"\n",
    "\n",
    "print(\"Results\")\n",
    "run_query(queryString)"
   ]
  },
  {
   "cell_type": "markdown",
   "id": "61aacbac-3daa-400c-9c26-2b4e9d0d2f75",
   "metadata": {},
   "source": [
    " ### Analyze the number of trademarks across types, companies, and countries"
   ]
  },
  {
   "cell_type": "markdown",
   "id": "8a24fbc7-fab2-41f7-8f25-c5740b38b286",
   "metadata": {},
   "source": [
    "##### How many U.S. companies hold trademarks? In which sectors?"
   ]
  },
  {
   "cell_type": "code",
   "execution_count": 45,
   "id": "2446c7ea-ad4d-4079-8600-2c54e085ab62",
   "metadata": {},
   "outputs": [
    {
     "name": "stdout",
     "output_type": "stream",
     "text": [
      "Results\n",
      "[('trademarkname', 'Burger King'), ('groupnames', 'Carrols Restaurant Group, Minor Food Group')]\n",
      "[('trademarkname', 'Warner Music Group'), ('groupnames', 'Asgard (groupe), Atlantic Records Group, Category:Warner Music Group, Category:Warner Music Group albums, Category:Warner Music Group artists, Cosmos Music Group, Groupie, Maybach Music Group, Parlophone Label Group, Silent Majority Group, X5 Music Group')]\n",
      "[('trademarkname', 'Alternative Distribution Alliance'), ('groupnames', 'Warner Music Group')]\n",
      "[('trademarkname', 'National Amusements'), ('groupnames', 'Paramount Stations Group')]\n",
      "[('trademarkname', 'Holiday Inn'), ('groupnames', 'InterContinental Hotels Group plc')]\n",
      "[('trademarkname', 'Universal Music Group Nashville'), ('groupnames', 'Universal Music Group')]\n",
      "[('trademarkname', 'Motel 6'), ('groupnames', 'The Blackstone Group')]\n",
      "[('trademarkname', 'A&M Records'), ('groupnames', 'November Group')]\n",
      "[('trademarkname', \"Swensen's\"), ('groupnames', 'Minor Food Group')]\n",
      "[('trademarkname', 'Columbia Records'), ('groupnames', 'Beers Family music group')]\n",
      "[('trademarkname', 'TuneCore'), ('groupnames', 'WWE Music Group')]\n",
      "[('trademarkname', 'Walt Disney Records'), ('groupnames', 'Disney Music Group')]\n",
      "[('trademarkname', 'Shady Records'), ('groupnames', 'Universal Music Group')]\n",
      "[('trademarkname', 'Crowne Plaza'), ('groupnames', 'InterContinental Hotels Group plc')]\n",
      "[('trademarkname', 'Panavision'), ('groupnames', 'Saban Capital Group')]\n",
      "[('trademarkname', 'Nonesuch'), ('groupnames', 'Warner Music Group')]\n",
      "[('trademarkname', 'Ford Motor Company'), ('groupnames', 'Premier Automotive Group')]\n",
      "[('trademarkname', 'Pollo Tropical'), ('groupnames', 'Fiesta Restaurant Group')]\n",
      "[('trademarkname', 'Disney Music Group'), ('groupnames', 'Category:Disney Music Group')]\n",
      "[('trademarkname', 'Reprise Records'), ('groupnames', 'Warner Music Group')]\n",
      "[('trademarkname', 'Hilton Worldwide'), ('groupnames', 'The Blackstone Group')]\n",
      "[('trademarkname', 'Verve Records'), ('groupnames', 'Category:Verve Music Group, The Tatum Group Masterpieces Vol. 6, Universal Music Group')]\n",
      "[('trademarkname', 'TGI Fridays'), ('groupnames', 'The Briad Group')]\n",
      "[('trademarkname', 'Primrose Schools'), ('groupnames', 'Roark Capital Group')]\n",
      "[('trademarkname', 'Sizzler'), ('groupnames', 'Minor Food Group')]\n",
      "[('trademarkname', 'Sony Music'), ('groupnames', 'Cosmos Music Group, Mosley Music Group, Provident Label Group, RCA Music Group, Sony Music Commercial Music Group, WWE Music Group, Zomba Group of Companies')]\n",
      "[('trademarkname', 'Simon Property Group'), ('groupnames', 'Category:Simon Property Group, Simon Property Group Headquarters')]\n",
      "[('trademarkname', 'Forbidden Planet'), ('groupnames', 'Titan Entertainment Group')]\n",
      "[('trademarkname', 'Holiday Inn Express'), ('groupnames', 'InterContinental Hotels Group plc')]\n",
      "[('trademarkname', 'Academic Press'), ('groupnames', 'RELX Group')]\n",
      "[('trademarkname', 'Walmart'), ('groupnames', 'Seiyu Group')]\n",
      "[('trademarkname', 'Radisson Blu'), ('groupnames', 'Radisson Hotel Group')]\n",
      "[('trademarkname', 'Apple Inc.'), ('groupnames', 'Apple Industrial Design Group, The Vanguard Group, Workgroup Manager')]\n",
      "[('trademarkname', 'Netscape'), ('groupnames', 'Netscape Mail & Newsgroups')]\n",
      "[('trademarkname', 'Universal Music Group'), ('groupnames', 'Allied Artists Music Group, Capitol Christian Music Group, Capitol Music Group, Category:Universal Music Group, Category:Universal Music Group albums, Category:Universal Music Group artists, Category:Universal Music Group video albums, Cosmos Music Group, Orfanato Music Group, The Island Def Jam Music Group, Universal Motown Republic Group, Universal Music Group Nashville')]\n",
      "[('trademarkname', 'Saban Capital Group'), ('groupnames', 'Saban Music Group')]\n",
      "[('trademarkname', 'Dairy Queen'), ('groupnames', 'Minor Food Group')]\n",
      "[('trademarkname', 'Decca'), ('groupnames', 'Decca Music Group Limited, Universal Music Group')]\n",
      "[('trademarkname', \"Domino's Pizza\"), ('groupnames', \"Domino's Pizza Group plc\")]\n"
     ]
    },
    {
     "data": {
      "text/plain": [
       "39"
      ]
     },
     "execution_count": 45,
     "metadata": {},
     "output_type": "execute_result"
    }
   ],
   "source": [
    "# categories or types\n",
    "queryString = \"\"\"\n",
    "SELECT ?trademarkname\n",
    "(GROUP_CONCAT(DISTINCT ?groupname; SEPARATOR=\", \") AS ?groupnames)\n",
    "WHERE { \n",
    "    ?group ?relation ?trademark .\n",
    "    ?trademark wdt:P31/wdt:P279* wd:Q167270  . \n",
    "    ?trademark wdt:P452 ?category .\n",
    "    ?trademark wdt:P17 ?country .\n",
    "    # Labels\n",
    "    ?trademark <http://schema.org/name> ?trademarkname .\n",
    "    ?category <http://schema.org/name> ?categoryname .\n",
    "    ?country <http://schema.org/name> ?countryname .\n",
    "    ?group <http://schema.org/name> ?groupname .\n",
    "    FILTER regex(?groupname, \"group\", \"i\") \n",
    "    FILTER regex(?countryname, \"United States of America\", \"i\") \n",
    "} \n",
    "LIMIT 40\n",
    "\"\"\"\n",
    "\n",
    "print(\"Results\")\n",
    "run_query(queryString)"
   ]
  },
  {
   "cell_type": "code",
   "execution_count": 46,
   "id": "05ccecb4-e25d-4dc8-a7d7-fe6a49069e0e",
   "metadata": {},
   "outputs": [
    {
     "name": "stdout",
     "output_type": "stream",
     "text": [
      "Results\n",
      "[('countgroup', '137')]\n"
     ]
    },
    {
     "data": {
      "text/plain": [
       "1"
      ]
     },
     "execution_count": 46,
     "metadata": {},
     "output_type": "execute_result"
    }
   ],
   "source": [
    "## How many U.S. companies hold trademarks? \n",
    "queryString = \"\"\"\n",
    "SELECT (COUNT (DISTINCT ?group) AS ?countgroup) \n",
    "WHERE { \n",
    "    ?group ?relation ?trademark .\n",
    "    ?trademark wdt:P31/wdt:P279* wd:Q167270  . \n",
    "    #?trademark wdt:P452 ?category .\n",
    "    ?trademark wdt:P17 ?country .\n",
    "    # Labels\n",
    "    ?trademark <http://schema.org/name> ?trademarkname .\n",
    "    #?category <http://schema.org/name> ?categoryname .\n",
    "    ?country <http://schema.org/name> ?countryname .\n",
    "    ?group <http://schema.org/name> ?groupname .\n",
    "    FILTER regex(?groupname, \"group\", \"i\") \n",
    "    FILTER regex(?countryname, \"United States of America\", \"i\") \n",
    "} \n",
    "\n",
    "\"\"\"\n",
    "\n",
    "print(\"Results\")\n",
    "run_query(queryString)"
   ]
  },
  {
   "cell_type": "code",
   "execution_count": 47,
   "id": "3c7f5d15-18fc-4b36-abe3-6477b2ca2468",
   "metadata": {},
   "outputs": [
    {
     "name": "stdout",
     "output_type": "stream",
     "text": [
      "Results\n",
      "[('categoryname', 'music industry'), ('countgroup', '34')]\n",
      "[('categoryname', 'phonographic industry'), ('countgroup', '14')]\n",
      "[('categoryname', 'show business'), ('countgroup', '7')]\n",
      "[('categoryname', 'entertainment industry'), ('countgroup', '7')]\n",
      "[('categoryname', 'mobile phone industry'), ('countgroup', '3')]\n",
      "[('categoryname', 'digital distribution'), ('countgroup', '3')]\n",
      "[('categoryname', 'software industry'), ('countgroup', '3')]\n",
      "[('categoryname', 'electronics'), ('countgroup', '3')]\n",
      "[('categoryname', 'gastronomy'), ('countgroup', '3')]\n",
      "[('categoryname', 'information technology'), ('countgroup', '3')]\n",
      "[('categoryname', 'consumer electronics'), ('countgroup', '3')]\n",
      "[('categoryname', 'real estate investment trust'), ('countgroup', '2')]\n",
      "[('categoryname', 'industry'), ('countgroup', '2')]\n",
      "[('categoryname', 'film industry'), ('countgroup', '2')]\n",
      "[('categoryname', 'hotel industry'), ('countgroup', '1')]\n",
      "[('categoryname', 'early childhood education'), ('countgroup', '1')]\n",
      "[('categoryname', 'discount store'), ('countgroup', '1')]\n",
      "[('categoryname', 'big-box store'), ('countgroup', '1')]\n",
      "[('categoryname', 'retail'), ('countgroup', '1')]\n",
      "[('categoryname', 'entertainment'), ('countgroup', '1')]\n",
      "[('categoryname', 'tourism'), ('countgroup', '1')]\n",
      "[('categoryname', 'hospitality industry'), ('countgroup', '1')]\n",
      "[('categoryname', 'restaurant'), ('countgroup', '1')]\n",
      "[('categoryname', 'software'), ('countgroup', '1')]\n",
      "[('categoryname', 'geek'), ('countgroup', '1')]\n",
      "[('categoryname', 'publishing'), ('countgroup', '1')]\n",
      "[('categoryname', 'fast food industry'), ('countgroup', '1')]\n",
      "[('categoryname', 'fast food'), ('countgroup', '1')]\n",
      "[('categoryname', 'music'), ('countgroup', '1')]\n",
      "[('categoryname', 'retail chain'), ('countgroup', '1')]\n",
      "[('categoryname', 'automotive industry'), ('countgroup', '1')]\n",
      "[('categoryname', 'motel'), ('countgroup', '1')]\n",
      "[('categoryname', 'system catering'), ('countgroup', '1')]\n"
     ]
    },
    {
     "data": {
      "text/plain": [
       "33"
      ]
     },
     "execution_count": 47,
     "metadata": {},
     "output_type": "execute_result"
    }
   ],
   "source": [
    "## In which sectors are these companies?\n",
    "queryString = \"\"\"\n",
    "SELECT ?categoryname (COUNT (DISTINCT ?group) AS ?countgroup) \n",
    "WHERE { \n",
    "    ?group ?relation ?trademark .\n",
    "    ?trademark wdt:P31/wdt:P279* wd:Q167270  . \n",
    "    ?trademark wdt:P452 ?category .\n",
    "    ?trademark wdt:P17 ?country .\n",
    "    # Labels\n",
    "    ?trademark <http://schema.org/name> ?trademarkname .\n",
    "    ?category <http://schema.org/name> ?categoryname .\n",
    "    ?country <http://schema.org/name> ?countryname .\n",
    "    ?group <http://schema.org/name> ?groupname .\n",
    "    FILTER regex(?groupname, \"group\", \"i\") \n",
    "    FILTER regex(?countryname, \"United States of America\", \"i\") \n",
    "} \n",
    "GROUP BY ?categoryname\n",
    "ORDER BY DESC (?countgroup)\n",
    "\"\"\"\n",
    "\n",
    "print(\"Results\")\n",
    "run_query(queryString)"
   ]
  },
  {
   "cell_type": "markdown",
   "id": "ac37a5c2-7d7d-4657-94bf-5eb6e4babf18",
   "metadata": {},
   "source": [
    "### In which sector there is the highest number of trademarks?  "
   ]
  },
  {
   "cell_type": "code",
   "execution_count": 48,
   "id": "e2b38ca6-d968-4b50-8d08-b19e23800e36",
   "metadata": {},
   "outputs": [
    {
     "name": "stdout",
     "output_type": "stream",
     "text": [
      "Results\n",
      "[('categoryname', 'music industry'), ('counttrademark', '12')]\n"
     ]
    },
    {
     "data": {
      "text/plain": [
       "1"
      ]
     },
     "execution_count": 48,
     "metadata": {},
     "output_type": "execute_result"
    }
   ],
   "source": [
    "## In which sectors?\n",
    "queryString = \"\"\"\n",
    "SELECT ?categoryname (COUNT (DISTINCT ?trademark) AS ?counttrademark) \n",
    "WHERE { \n",
    "    ?group ?relation ?trademark .\n",
    "    ?trademark wdt:P31/wdt:P279* wd:Q167270  . \n",
    "    ?trademark wdt:P452 ?category .\n",
    "    ?trademark wdt:P17 ?country .\n",
    "    # Labels\n",
    "    ?trademark <http://schema.org/name> ?trademarkname .\n",
    "    ?category <http://schema.org/name> ?categoryname .\n",
    "    ?country <http://schema.org/name> ?countryname .\n",
    "    ?group <http://schema.org/name> ?groupname .\n",
    "    FILTER regex(?groupname, \"group\", \"i\") \n",
    "    FILTER regex(?countryname, \"United States of America\", \"i\") \n",
    "} \n",
    "GROUP BY ?categoryname\n",
    "ORDER BY DESC (?counttrademark)\n",
    "LIMIT 1\n",
    "\"\"\"\n",
    "\n",
    "print(\"Results\")\n",
    "run_query(queryString)"
   ]
  },
  {
   "cell_type": "markdown",
   "id": "90f4aa94-fe37-487d-b8db-1ff57c34db07",
   "metadata": {},
   "source": [
    "##### How many people hold or are connected to trademarks? In which role?   "
   ]
  },
  {
   "cell_type": "code",
   "execution_count": 49,
   "id": "2d548e80-7401-4f3d-a2ee-8e69a96dadf7",
   "metadata": {},
   "outputs": [
    {
     "name": "stdout",
     "output_type": "stream",
     "text": [
      "Results\n",
      "[('trademarkname', 'Columbia Records'), ('counthuman', '1260')]\n",
      "[('trademarkname', 'Universal Music Group'), ('counthuman', '1006')]\n",
      "[('trademarkname', 'Atlantic Records'), ('counthuman', '736')]\n",
      "[('trademarkname', 'Sony Music'), ('counthuman', '732')]\n",
      "[('trademarkname', 'Capitol Records'), ('counthuman', '663')]\n",
      "[('trademarkname', 'EMI'), ('counthuman', '644')]\n",
      "[('trademarkname', 'RCA Records'), ('counthuman', '540')]\n",
      "[('trademarkname', 'Epic Records'), ('counthuman', '516')]\n",
      "[('trademarkname', 'Decca'), ('counthuman', '496')]\n",
      "[('trademarkname', 'Warner Bros. Records'), ('counthuman', '488')]\n",
      "[('trademarkname', 'Warner Music Group'), ('counthuman', '441')]\n",
      "[('trademarkname', 'Island Records'), ('counthuman', '384')]\n",
      "[('trademarkname', 'Red Bull'), ('counthuman', '368')]\n",
      "[('trademarkname', 'Polydor Records'), ('counthuman', '344')]\n",
      "[('trademarkname', 'Mercury Records'), ('counthuman', '309')]\n",
      "[('trademarkname', 'King Records'), ('counthuman', '289')]\n",
      "[('trademarkname', 'Blue Note'), ('counthuman', '263')]\n",
      "[('trademarkname', 'Sony BMG'), ('counthuman', '262')]\n",
      "[('trademarkname', 'ECM Records'), ('counthuman', '260')]\n",
      "[('trademarkname', 'Nippon Columbia'), ('counthuman', '259')]\n",
      "[('trademarkname', 'A&M Records'), ('counthuman', '247')]\n",
      "[('trademarkname', 'Elektra'), ('counthuman', '240')]\n",
      "[('trademarkname', 'Motown'), ('counthuman', '233')]\n",
      "[('trademarkname', 'Apple Inc.'), ('counthuman', '230')]\n",
      "[('trademarkname', 'Virgin Records'), ('counthuman', '229')]\n",
      "[('trademarkname', 'Sony Music Entertainment Japan'), ('counthuman', '227')]\n",
      "[('trademarkname', 'Interscope Records'), ('counthuman', '226')]\n",
      "[('trademarkname', 'Pony Canyon'), ('counthuman', '218')]\n",
      "[('trademarkname', 'RCA Victor'), ('counthuman', '207')]\n",
      "[('trademarkname', 'Rik'), ('counthuman', '189')]\n",
      "[('trademarkname', 'EMI Music Japan'), ('counthuman', '182')]\n",
      "[('trademarkname', 'Philips Records'), ('counthuman', '173')]\n",
      "[('trademarkname', 'Arista'), ('counthuman', '165')]\n",
      "[('trademarkname', 'MCA Records'), ('counthuman', '163')]\n",
      "[('trademarkname', 'Avex Group'), ('counthuman', '158')]\n",
      "[('trademarkname', 'Avex Trax'), ('counthuman', '143')]\n",
      "[('trademarkname', 'Deutsche Grammophon'), ('counthuman', '141')]\n",
      "[('trademarkname', 'Geffen Records'), ('counthuman', '139')]\n",
      "[('trademarkname', 'SM Entertainment'), ('counthuman', '136')]\n",
      "[('trademarkname', 'Entertainment One Music'), ('counthuman', '131')]\n"
     ]
    },
    {
     "data": {
      "text/plain": [
       "40"
      ]
     },
     "execution_count": 49,
     "metadata": {},
     "output_type": "execute_result"
    }
   ],
   "source": [
    "queryString = \"\"\"\n",
    "SELECT ?trademarkname ?counthuman WHERE {\n",
    "{\n",
    "SELECT ?trademarkname (COUNT (DISTINCT ?human) AS ?counthuman)\n",
    "WHERE { \n",
    "    ?human ?relation ?trademark .\n",
    "    ?trademark wdt:P31/wdt:P279* wd:Q167270  . \n",
    "    ?human wdt:P31 wd:Q5 .\n",
    "        # Labels\n",
    "    ?human <http://schema.org/name> ?humanname .\n",
    "    ?trademark <http://schema.org/name> ?trademarkname .\n",
    "    \n",
    "} \n",
    "\n",
    "GROUP BY ?trademarkname \n",
    "} \n",
    "\n",
    "}\n",
    "ORDER BY DESC (?counthuman) \n",
    "\n",
    "\n",
    "LIMIT 40\n",
    "\"\"\"\n",
    "\n",
    "print(\"Results\")\n",
    "run_query(queryString)"
   ]
  },
  {
   "cell_type": "code",
   "execution_count": 50,
   "id": "5a4c97de-779c-4641-aab7-2aef8ce83c4e",
   "metadata": {},
   "outputs": [
    {
     "name": "stdout",
     "output_type": "stream",
     "text": [
      "Results\n",
      "[('relationname', 'record label'), ('trademarkname', 'İstanbul Plak')]\n",
      "[('relationname', 'record label'), ('trademarkname', 'İdobay Müzik')]\n",
      "[('relationname', 'record label'), ('trademarkname', 'él')]\n",
      "[('relationname', 'record label'), ('trademarkname', 'Übersee Records')]\n",
      "[('relationname', 'record label'), ('trademarkname', 'Øra fonogram')]\n",
      "[('relationname', 'record label'), ('trademarkname', 'Élan Recordings')]\n",
      "[('relationname', 'record label'), ('trademarkname', 'will.i.am Music Group')]\n",
      "[('relationname', 'record label'), ('trademarkname', 'wavemob')]\n",
      "[('relationname', 'employer'), ('trademarkname', 'uBreakiFix')]\n",
      "[('relationname', 'chief executive officer'), ('trademarkname', 'uBreakiFix')]\n",
      "[('relationname', 'record label'), ('trademarkname', 'tearbridge production')]\n",
      "[('relationname', 'record label'), ('trademarkname', 'taâlem')]\n",
      "[('relationname', 'record label'), ('trademarkname', 'swim ~')]\n",
      "[('relationname', 'record label'), ('trademarkname', 'self-released')]\n",
      "[('relationname', 'record label'), ('trademarkname', 'rooArt')]\n",
      "[('relationname', 'employer'), ('trademarkname', 'penesss')]\n",
      "[('relationname', 'notable work'), ('trademarkname', 'o.b.')]\n",
      "[('relationname', 'represented by'), ('trademarkname', 'npio Entertainment')]\n",
      "[('relationname', 'record label'), ('trademarkname', 'mekakusi records')]\n",
      "[('relationname', 'record label'), ('trademarkname', 'mau5trap')]\n",
      "[('relationname', 'record label'), ('trademarkname', 'lowercase people')]\n",
      "[('relationname', 'record label'), ('trademarkname', 'jazz&people')]\n",
      "[('relationname', 'represented by'), ('trademarkname', 'imaginate Inc.')]\n",
      "[('relationname', 'notable work'), ('trademarkname', 'iPhone')]\n",
      "[('relationname', 'notable work'), ('trademarkname', 'iMac')]\n",
      "[('relationname', 'record label'), ('trademarkname', 'iDOL Street')]\n",
      "[('relationname', 'record label'), ('trademarkname', 'iDEAL Recordings')]\n",
      "[('relationname', 'record label'), ('trademarkname', 'hypercore19')]\n",
      "[('relationname', 'record label'), ('trademarkname', 'hachama')]\n",
      "[('relationname', 'employer'), ('trademarkname', 'føtex')]\n",
      "[('relationname', 'record label'), ('trademarkname', 'fmjam')]\n",
      "[('relationname', 'record label'), ('trademarkname', 'faktyra production')]\n",
      "[('relationname', 'record label'), ('trademarkname', 'evosound')]\n",
      "[('relationname', 'record label'), ('trademarkname', 'ersguterjunge')]\n",
      "[('relationname', 'record label'), ('trademarkname', 'eleveneleven')]\n",
      "[('relationname', 'member of'), ('trademarkname', 'egoboobits')]\n",
      "[('relationname', 'record label'), ('trademarkname', 'earMUSIC')]\n",
      "[('relationname', 'employer'), ('trademarkname', 'dm-drogerie markt')]\n",
      "[('relationname', 'record label'), ('trademarkname', 'disco:wax')]\n",
      "[('relationname', 'record label'), ('trademarkname', 'dig dis!')]\n"
     ]
    },
    {
     "data": {
      "text/plain": [
       "40"
      ]
     },
     "execution_count": 50,
     "metadata": {},
     "output_type": "execute_result"
    }
   ],
   "source": [
    "queryString = \"\"\"\n",
    "SELECT ?humannames ?relationname ?trademarkname\n",
    "WHERE {\n",
    "    ?human ?relation ?trademark .\n",
    "    ?trademark wdt:P31/wdt:P279* wd:Q167270  . \n",
    "    ?human wdt:P31 wd:Q5 .\n",
    "        # Labels\n",
    "    ?human <http://schema.org/name> ?humanname .\n",
    "    ?trademark <http://schema.org/name> ?trademarkname .\n",
    "    ?relation <http://schema.org/name> ?relationname .\n",
    "}\n",
    "GROUP BY ?trademarkname \n",
    "ORDER BY DESC (?trademarkname) \n",
    "LIMIT 40\n",
    "\"\"\"\n",
    "\n",
    "print(\"Results\")\n",
    "run_query(queryString)"
   ]
  },
  {
   "cell_type": "code",
   "execution_count": 51,
   "id": "4dba170e-3afc-4fec-bff1-b72e4d299b05",
   "metadata": {},
   "outputs": [
    {
     "name": "stdout",
     "output_type": "stream",
     "text": [
      "Results\n",
      "[('relationname', 'record label'), ('trademarkname', 'İstanbul Plak'), ('humannames', 'Ajda Pekkan, Ebru Gündeş, Özlem Tekin')]\n",
      "[('relationname', 'record label'), ('trademarkname', 'İdobay Müzik'), ('humannames', 'Ahmet Koç, Ceylan, Ebru Yaşar, Günel, Harun Kolçak, Müslüm Gürses, Nuri Sesigüzel, Onur Akın, Petek Dinçöz, Soner Arıca, Yıldız Tilbe, Ömer Danış, İsmail Türüt')]\n",
      "[('relationname', 'record label'), ('trademarkname', 'él'), ('humannames', 'Louis Philippe, Momus')]\n",
      "[('relationname', 'record label'), ('trademarkname', 'Übersee Records'), ('humannames', 'Dario Espinosa, Dr. Shenka, Felipe Bustamante, Gorri, Hiram Paniagua, Leonel Rosales, Missael, Tanis')]\n",
      "[('relationname', 'record label'), ('trademarkname', 'Øra fonogram'), ('humannames', 'Hanna Paulsberg')]\n",
      "[('relationname', 'record label'), ('trademarkname', 'Élan Recordings'), ('humannames', 'Santiago Rodriguez')]\n",
      "[('relationname', 'record label'), ('trademarkname', 'will.i.am Music Group'), ('humannames', 'Jermain Jackman, Kelis, Lauren Bennett, Redfoo, Teddy Sinclair, Tila Tequila, will.i.am')]\n",
      "[('relationname', 'record label'), ('trademarkname', 'wavemob'), ('humannames', 'Øfdream')]\n",
      "[('relationname', 'chief executive officer'), ('trademarkname', 'uBreakiFix'), ('humannames', 'Justin Wetherill')]\n",
      "[('relationname', 'employer'), ('trademarkname', 'uBreakiFix'), ('humannames', 'David Reiff, Eddie Trujillo')]\n",
      "[('relationname', 'record label'), ('trademarkname', 'tearbridge production'), ('humannames', 'Nangi, Ryōsuke Ishii, Tōko Furuuchi')]\n",
      "[('relationname', 'record label'), ('trademarkname', 'taâlem'), ('humannames', 'Aidan Baker')]\n",
      "[('relationname', 'record label'), ('trademarkname', 'swim ~'), ('humannames', 'Colin Newman, Malka Spigel, Max Franken, Robin Rimbaud')]\n",
      "[('relationname', 'record label'), ('trademarkname', 'self-released'), ('humannames', 'Bunny J. Blomerus, Gavin Creel, Geneviève Racette, Marc-Antoine Larche')]\n",
      "[('relationname', 'record label'), ('trademarkname', 'rooArt'), ('humannames', 'Monica Trapaga')]\n",
      "[('relationname', 'employer'), ('trademarkname', 'penesss'), ('humannames', 'Pedro Conde Soladana')]\n",
      "[('relationname', 'notable work'), ('trademarkname', 'o.b.'), ('humannames', 'Judith Esser-Mittag')]\n",
      "[('relationname', 'represented by'), ('trademarkname', 'npio Entertainment'), ('humannames', 'Shin Ye-eun')]\n",
      "[('relationname', 'record label'), ('trademarkname', 'mekakusi records'), ('humannames', 'mekakushe')]\n",
      "[('relationname', 'record label'), ('trademarkname', 'mau5trap'), ('humannames', \"ATTLAS, Audrey Napoleon, BlackGummy, Colleen D'Agostino, Draft, Eekkoo, Getter, Glenn Morrison, Jon Gooch, Lazy Rich, Le Castle Vania, Matt Lange, Michael Woods, Mord Fustang, Skrillex, Sofia Toufa, Steve Duda, Sydney Blu, deadmau5\")]\n",
      "[('relationname', 'record label'), ('trademarkname', 'lowercase people'), ('humannames', 'Jon Foreman')]\n",
      "[('relationname', 'record label'), ('trademarkname', 'jazz&people'), ('humannames', 'Franck Amsallem')]\n",
      "[('relationname', 'represented by'), ('trademarkname', 'imaginate Inc.'), ('humannames', 'Himeno Shirayuki, Kanau Aoi')]\n",
      "[('relationname', 'notable work'), ('trademarkname', 'iPhone'), ('humannames', 'Steve Jobs')]\n",
      "[('relationname', 'notable work'), ('trademarkname', 'iMac'), ('humannames', 'Steve Jobs')]\n",
      "[('relationname', 'record label'), ('trademarkname', 'iDOL Street'), ('humannames', 'Hazuki Sakamoto, Miri Matsuda, Nanase Hirokawa, Ririka Kodama, Runa Ozawa')]\n",
      "[('relationname', 'record label'), ('trademarkname', 'iDEAL Recordings'), ('humannames', 'Kali Malone')]\n",
      "[('relationname', 'record label'), ('trademarkname', 'hypercore19'), ('humannames', 'Astralakt')]\n",
      "[('relationname', 'record label'), ('trademarkname', 'hachama'), ('humannames', 'Akari Takeuchi, Erina Mano, Kana Nakanishi, Miki Fujimoto, Tsunku')]\n",
      "[('relationname', 'employer'), ('trademarkname', 'føtex'), ('humannames', 'Lars Krarup, Özlem Sara Çekiç')]\n",
      "[('relationname', 'record label'), ('trademarkname', 'fmjam'), ('humannames', 'Sassja')]\n",
      "[('relationname', 'record label'), ('trademarkname', 'faktyra production'), ('humannames', 'FakTyrA')]\n",
      "[('relationname', 'record label'), ('trademarkname', 'evosound'), ('humannames', 'Chlara')]\n",
      "[('relationname', 'record label'), ('trademarkname', 'ersguterjunge'), ('humannames', 'Baba Saad, Bushido, Capital Bra, D-Bo, Shindy')]\n",
      "[('relationname', 'record label'), ('trademarkname', 'eleveneleven'), ('humannames', 'Charlie Puth, Ellen DeGeneres, Greyson Chance')]\n",
      "[('relationname', 'member of'), ('trademarkname', 'egoboobits'), ('humannames', 'aesqe')]\n",
      "[('relationname', 'record label'), ('trademarkname', 'earMUSIC'), ('humannames', 'Christopher Cross, Ian Gillan')]\n",
      "[('relationname', 'employer'), ('trademarkname', 'dm-drogerie markt'), ('humannames', 'Kevin Lehmann')]\n",
      "[('relationname', 'record label'), ('trademarkname', 'disco:wax'), ('humannames', 'Ditlev Schiller, Gilli, Kato')]\n",
      "[('relationname', 'record label'), ('trademarkname', 'dig dis!'), ('humannames', 'Boris Brejcha')]\n"
     ]
    },
    {
     "data": {
      "text/plain": [
       "40"
      ]
     },
     "execution_count": 51,
     "metadata": {},
     "output_type": "execute_result"
    }
   ],
   "source": [
    "queryString = \"\"\"\n",
    "SELECT ?relationname ?trademarkname\n",
    "(GROUP_CONCAT(DISTINCT ?humanname; SEPARATOR=\", \") AS ?humannames)\n",
    "WHERE {\n",
    "    ?human ?relation ?trademark .\n",
    "    ?trademark wdt:P31/wdt:P279* wd:Q167270  . \n",
    "    ?human wdt:P31 wd:Q5 .\n",
    "        # Labels\n",
    "    ?human <http://schema.org/name> ?humanname .\n",
    "    ?trademark <http://schema.org/name> ?trademarkname .\n",
    "    ?relation <http://schema.org/name> ?relationname .\n",
    "}\n",
    "ORDER BY DESC (?trademarkname) \n",
    "LIMIT 40\n",
    "\"\"\"\n",
    "\n",
    "print(\"Results\")\n",
    "run_query(queryString)"
   ]
  },
  {
   "cell_type": "code",
   "execution_count": 52,
   "id": "83c9ffac-da03-4d99-ae40-67eb719acda4",
   "metadata": {},
   "outputs": [
    {
     "name": "stdout",
     "output_type": "stream",
     "text": [
      "Results\n",
      "[('o', 'http://www.wikidata.org/entity/Q26833946'), ('oname', 'iPhone\\xa07 Plus')]\n",
      "[('o', 'http://www.wikidata.org/entity/Q39510168'), ('oname', 'iPhone X')]\n",
      "[('o', 'http://www.wikidata.org/entity/Q20962515'), ('oname', 'Apple Pencil')]\n",
      "[('o', 'http://www.wikidata.org/entity/Q18010891'), ('oname', 'iPhone 6 Plus')]\n",
      "[('o', 'http://www.wikidata.org/entity/Q20966885'), ('oname', 'iPhone 6S Plus')]\n",
      "[('o', 'http://www.wikidata.org/entity/Q214276'), ('oname', 'MacBook Pro')]\n",
      "[('o', 'http://www.wikidata.org/entity/Q308869'), ('oname', 'Mac Pro')]\n",
      "[('o', 'http://www.wikidata.org/entity/Q486053'), ('oname', 'MacBook')]\n",
      "[('o', 'http://www.wikidata.org/entity/Q270285'), ('oname', 'Apple TV')]\n",
      "[('o', 'http://www.wikidata.org/entity/Q300859'), ('oname', 'iPhone 3GS')]\n",
      "[('o', 'http://www.wikidata.org/entity/Q300890'), ('oname', 'iPhone 4')]\n",
      "[('o', 'http://www.wikidata.org/entity/Q300947'), ('oname', 'iPhone 3G')]\n",
      "[('o', 'http://www.wikidata.org/entity/Q308871'), ('oname', 'Mac Mini')]\n",
      "[('o', 'http://www.wikidata.org/entity/Q26831164'), ('oname', 'iPhone 7')]\n",
      "[('o', 'http://www.wikidata.org/entity/Q3966'), ('oname', 'computer hardware')]\n",
      "[('o', 'http://www.wikidata.org/entity/Q7397'), ('oname', 'software')]\n",
      "[('o', 'http://www.wikidata.org/entity/Q14091'), ('oname', 'iMac')]\n",
      "[('o', 'http://www.wikidata.org/entity/Q2796'), ('oname', 'iPad')]\n",
      "[('o', 'http://www.wikidata.org/entity/Q8076'), ('oname', 'video game console')]\n",
      "[('o', 'http://www.wikidata.org/entity/Q9479'), ('oname', 'iPod')]\n",
      "[('o', 'http://www.wikidata.org/entity/Q16338'), ('oname', 'personal computer')]\n",
      "[('o', 'http://www.wikidata.org/entity/Q1546066'), ('oname', 'networking hardware')]\n",
      "[('o', 'http://www.wikidata.org/entity/Q155972'), ('oname', 'tablet computer')]\n",
      "[('o', 'http://www.wikidata.org/entity/Q162768'), ('oname', 'personal digital assistant')]\n",
      "[('o', 'http://www.wikidata.org/entity/Q1334829'), ('oname', 'wearable computer')]\n",
      "[('o', 'http://www.wikidata.org/entity/Q14094'), ('oname', 'iPod Touch')]\n",
      "[('o', 'http://www.wikidata.org/entity/Q14850354'), ('oname', 'iPhone 5S')]\n",
      "[('o', 'http://www.wikidata.org/entity/Q14883923'), ('oname', 'iPhone 5C')]\n",
      "[('o', 'http://www.wikidata.org/entity/Q245135'), ('oname', 'iPhone 4S')]\n",
      "[('o', 'http://www.wikidata.org/entity/Q61504'), ('oname', 'iPhone 5')]\n",
      "[('o', 'http://www.wikidata.org/entity/Q18010946'), ('oname', 'Apple Watch')]\n",
      "[('o', 'http://www.wikidata.org/entity/Q56599248'), ('oname', 'iPhone XS')]\n",
      "[('o', 'http://www.wikidata.org/entity/Q621427'), ('oname', 'iPhone')]\n",
      "[('o', 'http://www.wikidata.org/entity/Q20962060'), ('oname', 'iPad Pro')]\n",
      "[('o', 'http://www.wikidata.org/entity/Q20962117'), ('oname', 'iPhone 6S')]\n",
      "[('o', 'http://www.wikidata.org/entity/Q56599334'), ('oname', 'iPhone XR')]\n",
      "[('o', 'http://www.wikidata.org/entity/Q67216142'), ('oname', 'iPhone 11 Pro')]\n",
      "[('o', 'http://www.wikidata.org/entity/Q67216219'), ('oname', 'iPhone 11 Pro Max')]\n",
      "[('o', 'http://www.wikidata.org/entity/Q18010890'), ('oname', 'iPhone 6')]\n",
      "[('o', 'http://www.wikidata.org/entity/Q67214165'), ('oname', 'iPhone 11')]\n",
      "[('o', 'http://www.wikidata.org/entity/Q90696274'), ('oname', 'iPhone SE (2nd generation)')]\n",
      "[('o', 'http://www.wikidata.org/entity/Q26936286'), ('oname', 'AirPods')]\n",
      "[('o', 'http://www.wikidata.org/entity/Q30137500'), ('oname', 'HomePod')]\n",
      "[('o', 'http://www.wikidata.org/entity/Q18010990'), ('oname', 'Apple Pay')]\n"
     ]
    },
    {
     "data": {
      "text/plain": [
       "44"
      ]
     },
     "execution_count": 52,
     "metadata": {},
     "output_type": "execute_result"
    }
   ],
   "source": [
    "## find apple products \n",
    "queryString = \"\"\"\n",
    "SELECT DISTINCT ?o ?oname\n",
    "WHERE { \n",
    "\n",
    "    wd:Q312 wdt:P1056 ?o .\n",
    "    \n",
    "    # Labels\n",
    "\n",
    "    ?o <http://schema.org/name> ?oname .\n",
    "    #FILTER regex(?pname, \"company\", \"i\") \n",
    "} \n",
    "LIMIT 50\n",
    "\"\"\"\n",
    "\n",
    "print(\"Results\")\n",
    "run_query(queryString)\n"
   ]
  },
  {
   "cell_type": "code",
   "execution_count": 53,
   "id": "72bcb73a-9a25-42a5-b5b9-f7ad37439f01",
   "metadata": {},
   "outputs": [
    {
     "name": "stdout",
     "output_type": "stream",
     "text": [
      "Results\n",
      "[('countproduct', '44')]\n"
     ]
    },
    {
     "data": {
      "text/plain": [
       "1"
      ]
     },
     "execution_count": 53,
     "metadata": {},
     "output_type": "execute_result"
    }
   ],
   "source": [
    "## count apple products \n",
    "queryString = \"\"\"\n",
    "SELECT (COUNT (DISTINCT ?product) AS ?countproduct) \n",
    "WHERE { \n",
    "\n",
    "    wd:Q312 wdt:P1056 ?product .\n",
    "    \n",
    "    # Labels\n",
    "\n",
    "    ?product <http://schema.org/name> ?productname .\n",
    "    #FILTER regex(?pname, \"company\", \"i\") \n",
    "} \n",
    "\"\"\"\n",
    "\n",
    "print(\"Results\")\n",
    "run_query(queryString)\n"
   ]
  },
  {
   "cell_type": "code",
   "execution_count": 54,
   "id": "38f9b88e-2b25-4a8f-8754-333b278cea12",
   "metadata": {},
   "outputs": [
    {
     "name": "stdout",
     "output_type": "stream",
     "text": [
      "Results\n",
      "[('p', 'http://www.wikidata.org/prop/direct/P306'), ('pname', 'operating system'), ('o', 'http://www.wikidata.org/entity/Q61497975'), ('oname', 'iOS 13')]\n",
      "[('p', 'http://www.wikidata.org/prop/direct/P880'), ('pname', 'CPU'), ('o', 'http://www.wikidata.org/entity/Q25385678'), ('oname', 'Apple A10 Fusion')]\n",
      "[('p', 'http://www.wikidata.org/prop/direct/P156'), ('pname', 'followed by'), ('o', 'http://www.wikidata.org/entity/Q39510168'), ('oname', 'iPhone X')]\n",
      "[('p', 'http://www.wikidata.org/prop/direct/P2033'), ('pname', 'category for pictures taken with camera'), ('o', 'http://www.wikidata.org/entity/Q63630069'), ('oname', 'Category:Taken with iPhone 7 Plus')]\n",
      "[('p', 'http://www.wikidata.org/prop/direct/P5009'), ('pname', 'complies with'), ('o', 'http://www.wikidata.org/entity/Q67226021'), ('oname', 'IEC 60529 Degrees of protection provided by enclosures (IP Code)')]\n",
      "[('p', 'http://www.wikidata.org/prop/direct/P2935'), ('pname', 'connector'), ('o', 'http://www.wikidata.org/entity/Q129052'), ('oname', 'Lightning')]\n",
      "[('p', 'http://www.wikidata.org/prop/direct/P155'), ('pname', 'follows'), ('o', 'http://www.wikidata.org/entity/Q20966885'), ('oname', 'iPhone 6S Plus')]\n",
      "[('p', 'http://www.wikidata.org/prop/direct/P306'), ('pname', 'operating system'), ('o', 'http://www.wikidata.org/entity/Q24575997'), ('oname', 'iOS 10')]\n",
      "[('p', 'http://www.wikidata.org/prop/direct/P306'), ('pname', 'operating system'), ('o', 'http://www.wikidata.org/entity/Q30136207'), ('oname', 'iOS 11')]\n",
      "[('p', 'http://www.wikidata.org/prop/direct/P306'), ('pname', 'operating system'), ('o', 'http://www.wikidata.org/entity/Q54809618'), ('oname', '12go')]\n",
      "[('p', 'http://www.wikidata.org/prop/direct/P156'), ('pname', 'followed by'), ('o', 'http://www.wikidata.org/entity/Q39598190'), ('oname', 'iPhone\\xa08 Plus')]\n",
      "[('p', 'http://www.wikidata.org/prop/direct/P279'), ('pname', 'subclass of'), ('o', 'http://www.wikidata.org/entity/Q2766'), ('oname', 'iPhone')]\n",
      "[('p', 'http://www.wikidata.org/prop/direct/P179'), ('pname', 'part of the series'), ('o', 'http://www.wikidata.org/entity/Q2766'), ('oname', 'iPhone')]\n",
      "[('p', 'http://www.wikidata.org/prop/direct/P176'), ('pname', 'manufacturer'), ('o', 'http://www.wikidata.org/entity/Q312'), ('oname', 'Apple Inc.')]\n",
      "[('p', 'http://www.wikidata.org/prop/direct/P287'), ('pname', 'designed by'), ('o', 'http://www.wikidata.org/entity/Q312'), ('oname', 'Apple Inc.')]\n",
      "[('p', 'http://www.wikidata.org/prop/direct/P31'), ('pname', 'instance of'), ('o', 'http://www.wikidata.org/entity/Q811701'), ('oname', 'model series')]\n",
      "[('p', 'http://www.wikidata.org/prop/direct/P5307'), ('pname', 'display technology'), ('o', 'http://www.wikidata.org/entity/Q2634883'), ('oname', 'IPS panel')]\n"
     ]
    },
    {
     "data": {
      "text/plain": [
       "17"
      ]
     },
     "execution_count": 54,
     "metadata": {},
     "output_type": "execute_result"
    }
   ],
   "source": [
    "\n",
    "queryString = \"\"\"\n",
    "SELECT ?p ?pname ?o ?oname\n",
    "WHERE { \n",
    "\n",
    "    wd:Q26833946 ?p ?o .\n",
    "    \n",
    "    # Labels\n",
    "    ?p <http://schema.org/name> ?pname .\n",
    "    ?o <http://schema.org/name> ?oname .\n",
    "} \n",
    "LIMIT 50\n",
    "\"\"\"\n",
    "\n",
    "print(\"Results\")\n",
    "run_query(queryString)\n"
   ]
  },
  {
   "cell_type": "code",
   "execution_count": 55,
   "id": "25c17a3a-0779-444b-8cdb-ec880900b7f1",
   "metadata": {},
   "outputs": [
    {
     "name": "stdout",
     "output_type": "stream",
     "text": [
      "Results\n",
      "[('p', 'http://www.wikidata.org/entity/Q312'), ('pname', 'Apple Inc.'), ('o', 'http://www.wikidata.org/prop/direct/P1056'), ('oname', 'product or material produced')]\n",
      "[('p', 'http://www.wikidata.org/entity/Q574890'), ('pname', 'Retina Display'), ('o', 'http://www.wikidata.org/prop/direct/P1535'), ('oname', 'used by')]\n",
      "[('p', 'http://www.wikidata.org/entity/Q39598190'), ('pname', 'iPhone\\xa08 Plus'), ('o', 'http://www.wikidata.org/prop/direct/P155'), ('oname', 'follows')]\n",
      "[('p', 'http://www.wikidata.org/entity/Q20966885'), ('pname', 'iPhone 6S Plus'), ('o', 'http://www.wikidata.org/prop/direct/P156'), ('oname', 'followed by')]\n",
      "[('p', 'http://www.wikidata.org/entity/Q67064073'), ('pname', 'iPhone 7 Plus, model A1786'), ('o', 'http://www.wikidata.org/prop/direct/P279'), ('oname', 'subclass of')]\n",
      "[('p', 'http://www.wikidata.org/entity/Q66816666'), ('pname', 'iPhone 7 Plus, model A1784'), ('o', 'http://www.wikidata.org/prop/direct/P279'), ('oname', 'subclass of')]\n",
      "[('p', 'http://www.wikidata.org/entity/Q66816667'), ('pname', 'iPhone 7 Plus, model A1785'), ('o', 'http://www.wikidata.org/prop/direct/P279'), ('oname', 'subclass of')]\n",
      "[('p', 'http://www.wikidata.org/entity/Q66816665'), ('pname', 'iPhone 7 Plus, model A1661'), ('o', 'http://www.wikidata.org/prop/direct/P279'), ('oname', 'subclass of')]\n",
      "[('p', 'http://www.wikidata.org/entity/Q107139673'), ('pname', 'iOS 15'), ('o', 'http://www.wikidata.org/prop/direct/P400'), ('oname', 'platform')]\n",
      "[('p', 'http://www.wikidata.org/entity/Q61497975'), ('pname', 'iOS 13'), ('o', 'http://www.wikidata.org/prop/direct/P400'), ('oname', 'platform')]\n",
      "[('p', 'http://www.wikidata.org/entity/Q96231126'), ('pname', 'iOS 14'), ('o', 'http://www.wikidata.org/prop/direct/P400'), ('oname', 'platform')]\n",
      "[('p', 'http://www.wikidata.org/entity/Q63630069'), ('pname', 'Category:Taken with iPhone 7 Plus'), ('o', 'http://www.wikidata.org/prop/direct/P971'), ('oname', 'category combines topics')]\n"
     ]
    },
    {
     "data": {
      "text/plain": [
       "12"
      ]
     },
     "execution_count": 55,
     "metadata": {},
     "output_type": "execute_result"
    }
   ],
   "source": [
    "queryString = \"\"\"\n",
    "SELECT ?p ?pname ?o ?oname\n",
    "WHERE { \n",
    "\n",
    "     ?p ?o wd:Q26833946 .\n",
    "    \n",
    "    # Labels\n",
    "    ?p <http://schema.org/name> ?pname .\n",
    "    ?o <http://schema.org/name> ?oname .\n",
    "} \n",
    "LIMIT 50\n",
    "\"\"\"\n",
    "\n",
    "print(\"Results\")\n",
    "run_query(queryString)\n"
   ]
  },
  {
   "cell_type": "code",
   "execution_count": 56,
   "id": "e46d58df-7de9-463e-b4aa-742752bf5211",
   "metadata": {},
   "outputs": [
    {
     "name": "stdout",
     "output_type": "stream",
     "text": [
      "Results\n",
      "[('cpu', 'http://www.wikidata.org/entity/Q25385678'), ('cpuname', 'Apple A10 Fusion')]\n"
     ]
    },
    {
     "data": {
      "text/plain": [
       "1"
      ]
     },
     "execution_count": 56,
     "metadata": {},
     "output_type": "execute_result"
    }
   ],
   "source": [
    "queryString = \"\"\"\n",
    "SELECT ?cpu ?cpuname\n",
    "WHERE { \n",
    "\n",
    "    wd:Q26833946 wdt:P880 ?cpu .\n",
    "    \n",
    "    # Labels\n",
    "    ?cpu <http://schema.org/name> ?cpuname .\n",
    "} \n",
    "LIMIT 50\n",
    "\"\"\"\n",
    "\n",
    "print(\"Results\")\n",
    "run_query(queryString)\n"
   ]
  },
  {
   "cell_type": "code",
   "execution_count": 57,
   "id": "48a8c978-de88-4857-a477-c80aa204b9d7",
   "metadata": {},
   "outputs": [
    {
     "name": "stdout",
     "output_type": "stream",
     "text": [
      "Results\n",
      "[('cpuname', 'Apple A10 Fusion'), ('productnames', 'iPad, iPhone 7, iPhone\\xa07 Plus, iPod Touch')]\n",
      "[('cpuname', 'Apple A9'), ('productnames', 'iPad, iPhone 6S, iPhone 6S Plus')]\n",
      "[('cpuname', 'Apple A8'), ('productnames', 'HomePod, iPad, iPhone 6, iPhone 6 Plus, iPod Touch')]\n",
      "[('cpuname', 'Apple A5X'), ('productnames', 'iPad')]\n",
      "[('cpuname', 'Apple Motion Coprocessor'), ('productnames', 'iPhone 5S')]\n",
      "[('cpuname', 'Apple A10X Fusion'), ('productnames', 'iPad')]\n",
      "[('cpuname', 'Apple A8X'), ('productnames', 'iPad')]\n",
      "[('cpuname', 'Apple A12 Bionic'), ('productnames', 'iPad, iPhone 11 Pro Max, iPhone XR, iPhone XS')]\n",
      "[('cpuname', 'Apple A6'), ('productnames', 'iPhone 5, iPhone 5C')]\n",
      "[('cpuname', 'ARM Cortex-A8'), ('productnames', 'iPhone 3GS')]\n",
      "[('cpuname', 'Apple A7'), ('productnames', 'iPad, iPhone 5S')]\n",
      "[('cpuname', 'Apple A4'), ('productnames', 'iPad, iPhone 4, iPod Touch')]\n",
      "[('cpuname', 'Apple A5'), ('productnames', 'iPad, iPhone 4S, iPod Touch')]\n",
      "[('cpuname', 'Apple A11 Bionic'), ('productnames', 'iPhone X')]\n",
      "[('cpuname', 'Apple A13 Bionic'), ('productnames', 'iPhone 11, iPhone 11 Pro, iPhone SE (2nd generation)')]\n",
      "[('cpuname', 'Apple A6X'), ('productnames', 'iPad')]\n"
     ]
    },
    {
     "data": {
      "text/plain": [
       "16"
      ]
     },
     "execution_count": 57,
     "metadata": {},
     "output_type": "execute_result"
    }
   ],
   "source": [
    "## find apple products + their cpu info. \n",
    "queryString = \"\"\"\n",
    "SELECT ?cpuname (GROUP_CONCAT(DISTINCT ?productname; SEPARATOR=\", \") AS ?productnames)\n",
    "WHERE { \n",
    "\n",
    "    wd:Q312 wdt:P1056 ?product .\n",
    "    ?product wdt:P880 ?cpu .\n",
    "    \n",
    "    # Labels\n",
    "    ?cpu <http://schema.org/name> ?cpuname .\n",
    "    ?product <http://schema.org/name> ?productname .\n",
    "} \n",
    "LIMIT 50\n",
    "\"\"\"\n",
    "\n",
    "print(\"Results\")\n",
    "run_query(queryString)\n"
   ]
  },
  {
   "cell_type": "code",
   "execution_count": null,
   "id": "a20cd1bd-0868-4ee6-bb9f-19152239bcf4",
   "metadata": {},
   "outputs": [],
   "source": []
  }
 ],
 "metadata": {
  "kernelspec": {
   "display_name": "Python 3 (ipykernel)",
   "language": "python",
   "name": "python3"
  },
  "language_info": {
   "codemirror_mode": {
    "name": "ipython",
    "version": 3
   },
   "file_extension": ".py",
   "mimetype": "text/x-python",
   "name": "python",
   "nbconvert_exporter": "python",
   "pygments_lexer": "ipython3",
   "version": "3.7.10"
  }
 },
 "nbformat": 4,
 "nbformat_minor": 5
}
