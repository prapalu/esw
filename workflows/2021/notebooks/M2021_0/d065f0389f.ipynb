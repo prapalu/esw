{
 "cells": [
  {
   "cell_type": "markdown",
   "id": "7034c3bf-6eb0-4418-8687-7b9d2a501103",
   "metadata": {
    "tags": []
   },
   "source": [
    "# General instructions\n",
    "\n",
    "The goal of the project is to materialize a set of **exploratory workloads** over a real-world, large-scale,  open-domain KG: [WikiData](https://www.wikidata.org/wiki/Wikidata:Main_Page)\n",
    "\n",
    "An exploratory workload  is composed by a set of queries, where each query is related to the information obtained previously.\n",
    "\n",
    "An exploratory workload starts with a usually vague, open ended question, and does not assume the person issuing the workload has a clear understanding of the data contained in the target database or its structure.\n",
    "\n",
    "Remeber that:\n",
    "\n",
    "1. All the queries must run in the python notebook\n",
    "2. You can use classes and properties only if you find them via a SPARQL query that must be present in the notebook\n",
    "3. You do not delete useless queries. Keep everything that is synthatically valid \n",
    "\n",
    "```\n",
    "?p <http://schema.org/name> ?name .\n",
    "```\n",
    "    \n",
    "is the BGP returning a human-readable name of a property or a class in Wikidata.\n",
    "    \n",
    "    "
   ]
  },
  {
   "cell_type": "code",
   "execution_count": 1,
   "id": "3605c9d5-5371-49a5-be8d-d66e8f417139",
   "metadata": {},
   "outputs": [],
   "source": [
    "## SETUP used later\n",
    "\n",
    "from SPARQLWrapper import SPARQLWrapper, JSON\n",
    "\n",
    "\n",
    "prefixString = \"\"\"\n",
    "##-d065f0389f-##\n",
    "PREFIX wd: <http://www.wikidata.org/entity/> \n",
    "PREFIX wdt: <http://www.wikidata.org/prop/direct/> \n",
    "PREFIX sc: <http://schema.org/>\n",
    "\"\"\"\n",
    "\n",
    "# select and construct queries\n",
    "def run_query(queryString):\n",
    "    to_run = prefixString + \"\\n\" + queryString\n",
    "\n",
    "    sparql = SPARQLWrapper(\"http://a256-gc1-02.srv.aau.dk:5820/sparql\")\n",
    "    sparql.setTimeout(300)\n",
    "    sparql.setReturnFormat(JSON)\n",
    "    sparql.setQuery(to_run)\n",
    "\n",
    "    try :\n",
    "       results = sparql.query()\n",
    "       json_results = results.convert()\n",
    "       if len(json_results['results']['bindings'])==0:\n",
    "          print(\"Empty\")\n",
    "          return 0\n",
    "    \n",
    "       for bindings in json_results['results']['bindings']:\n",
    "          print( [ (var, value['value'])  for var, value in bindings.items() ] )\n",
    "\n",
    "       return len(json_results['results']['bindings'])\n",
    "\n",
    "    except Exception as e :\n",
    "        print(\"The operation failed\", e)\n",
    "    \n",
    "# ASk queries\n",
    "def run_ask_query(queryString):\n",
    "    to_run = prefixString + \"\\n\" + queryString\n",
    "\n",
    "    sparql = SPARQLWrapper(\"http://a256-gc1-02.srv.aau.dk:5820/sparql\")\n",
    "    sparql.setTimeout(300)\n",
    "    sparql.setReturnFormat(JSON)\n",
    "    sparql.setQuery(to_run)\n",
    "\n",
    "    try :\n",
    "        return sparql.query().convert()\n",
    "\n",
    "    except Exception as e :\n",
    "        print(\"The operation failed\", e)\n"
   ]
  },
  {
   "cell_type": "markdown",
   "id": "d477a59c-a68c-4c8f-9f97-8ca5294d7d27",
   "metadata": {},
   "source": [
    "# Sport Workflow Series (\"FIFA World Cup events explorative search\") \n",
    "\n",
    "Consider the following exploratory information need:\n",
    "\n",
    "> Explore the participants and winners of different editions of the FIFA World Cup"
   ]
  },
  {
   "cell_type": "markdown",
   "id": "4a45c0ba-f79e-441d-bec5-84401b09db70",
   "metadata": {
    "jp-MarkdownHeadingCollapsed": true,
    "tags": []
   },
   "source": [
    "## Useful URIs for the current workflow\n",
    "\n",
    "\n",
    "The following are given:\n",
    "\n",
    "| IRI           | Description    | Role      |\n",
    "| -----------   | -----------    |-----------|\n",
    "| `wdt:P1647`   | subproperty    | predicate |\n",
    "| `wdt:P31`     | instance of    | predicate |\n",
    "| `wdt:P106`    | profession     | predicate | \n",
    "| `wdt:P279`    | subclass       | predicate |\n",
    "| `wdt:P27`     | nationality    | predicate |\n",
    "| `wdt:P1532`   | country of sport    | predicate |\n",
    "| `wd:Q29`      | Spain           | node |\n",
    "| `wd:Q42267`   | Spain national football team | node |\n",
    "| `wd:Q19317`   | FIFA World Cup  | node |\n",
    "| `wd:Q176883`  | 2010 FIFA World cup  | node |\n",
    "| `wd:Q208401`  | 2010 FIFA World Cup Final | node      |\n",
    "| `wd:Q6979593`  |national football team | node      |\n",
    "\n",
    "\n",
    "Also consider\n",
    "\n",
    "```\n",
    "?a wdt:P31 wd:Q6979593\n",
    "```\n",
    "\n",
    "is the BGP to retrieve all the  **national football teams**\n"
   ]
  },
  {
   "cell_type": "markdown",
   "id": "7af439fb-96e4-4dbb-a381-f19afab79f86",
   "metadata": {
    "tags": []
   },
   "source": [
    "## Workload Goals\n",
    "\n",
    "1. Identify the BGP for connecting national football teams with the participations in the finals or in the world cups\n",
    "\n",
    "2. Identify the BGP that connects a country with a national footbal team or as a location to a world cup\n",
    "\n",
    "3. In which countries took place a FIFA world cup or world cup final? With how many participants?\n",
    "\n",
    "4. Compare number of participants and winners of different world cups\n",
    " \n",
    "   4.1 How many times each country participated in a world cup?\n",
    "   \n",
    "   4.2 Which country participated in the most finals? Which country won the most finals?\n",
    "   \n",
    "   4.3 Who participated in the most world cups among Italy, France, Spain, and Germany?\n"
   ]
  },
  {
   "cell_type": "markdown",
   "id": "cbbf67cc-0d20-4aa7-aa01-c73e326f7960",
   "metadata": {},
   "source": [
    "#### Example of query"
   ]
  },
  {
   "cell_type": "code",
   "execution_count": 2,
   "id": "ade01416-92e7-4ad7-b9a9-b8fb330750dc",
   "metadata": {},
   "outputs": [
    {
     "name": "stdout",
     "output_type": "stream",
     "text": [
      "Results\n",
      "[('callret-0', '1220')]\n"
     ]
    },
    {
     "data": {
      "text/plain": [
       "1"
      ]
     },
     "execution_count": 2,
     "metadata": {},
     "output_type": "execute_result"
    }
   ],
   "source": [
    "queryString = \"\"\"\n",
    "SELECT COUNT(*) WHERE { \n",
    "\n",
    "    ?a wdt:P31 wd:Q6979593\n",
    "} \n",
    "\"\"\"\n",
    "\n",
    "print(\"Results\")\n",
    "run_query(queryString)"
   ]
  },
  {
   "cell_type": "markdown",
   "id": "dbe1eea2-34f3-4832-99a4-383b1fb8eb34",
   "metadata": {},
   "source": [
    "### My Workflow\n",
    "\n",
    "#### ***Task 1 :*** Identify the BGP for connecting national football teams with the participations in the finals or in the world cups.\n",
    "\n",
    "As a starting point, I check if ***2010 FIFA World cup (wd:Q176883)*** is connected to ***Spain National football team (wd:Q42267)***."
   ]
  },
  {
   "cell_type": "code",
   "execution_count": 3,
   "id": "f200c627-c76a-4710-8ebf-dc66d0040dd1",
   "metadata": {},
   "outputs": [
    {
     "name": "stdout",
     "output_type": "stream",
     "text": [
      "Results\n",
      "[('p', 'http://www.wikidata.org/prop/direct/P1346'), ('pName', 'winner')]\n",
      "[('p', 'http://www.wikidata.org/prop/direct/P1923'), ('pName', 'participating team')]\n"
     ]
    },
    {
     "data": {
      "text/plain": [
       "2"
      ]
     },
     "execution_count": 3,
     "metadata": {},
     "output_type": "execute_result"
    }
   ],
   "source": [
    "queryString = \"\"\"\n",
    "SELECT ?p ?pName WHERE { \n",
    "\n",
    "    # Any property that connect 2010 FIFA World cup (wd:Q176883) and Spain National football team (wd:Q42267) \n",
    "    wd:Q176883 ?p wd:Q42267 .\n",
    "    \n",
    "    # This returns the labels\n",
    "    ?p <http://schema.org/name> ?pName .\n",
    "} \n",
    "\"\"\"\n",
    "\n",
    "print(\"Results\")\n",
    "run_query(queryString)"
   ]
  },
  {
   "cell_type": "markdown",
   "id": "b27969cf-14cc-47d3-89f7-ff8101996894",
   "metadata": {},
   "source": [
    "They are connected by the property ***winner (wdt:P1346)*** and ***participating team (wdt:P1923)***\n",
    "\n",
    "Since there is the property ***winner (wdt:P1346)*** there should be also a property between ***2010 FIFA World Cup Final (wd:Q208401)*** and ***Spain National football team (wd:Q42267)***. "
   ]
  },
  {
   "cell_type": "code",
   "execution_count": 4,
   "id": "aa78b156-9001-4169-a93c-18b1669cf2d3",
   "metadata": {},
   "outputs": [
    {
     "name": "stdout",
     "output_type": "stream",
     "text": [
      "Results\n",
      "[('p', 'http://www.wikidata.org/prop/direct/P1346'), ('pName', 'winner')]\n",
      "[('p', 'http://www.wikidata.org/prop/direct/P1923'), ('pName', 'participating team')]\n"
     ]
    },
    {
     "data": {
      "text/plain": [
       "2"
      ]
     },
     "execution_count": 4,
     "metadata": {},
     "output_type": "execute_result"
    }
   ],
   "source": [
    "queryString = \"\"\"\n",
    "SELECT ?p ?pName WHERE { \n",
    "\n",
    "    # Any property that connect 2010 FIFA World Cup Final (wd:Q208401) and Spain National football team (wd:Q42267)\n",
    "    wd:Q208401 ?p wd:Q42267 .\n",
    "    \n",
    "    # this returns the labels\n",
    "    ?p <http://schema.org/name> ?pName .\n",
    "} \n",
    "\"\"\"\n",
    "\n",
    "print(\"Results\")\n",
    "run_query(queryString)"
   ]
  },
  {
   "cell_type": "markdown",
   "id": "cfc67957-67ee-41d9-852c-28c051d70018",
   "metadata": {},
   "source": [
    "Indeed, we can see that the properties ***participating team (wdt:P1923)*** and ***winner (wdt:P1346)*** are used. \n",
    "\n",
    "The result is quite expected, because to win a competition you obviously need to partecipate to the final and win it.\n",
    "\n",
    "Now, I want to retrieve other teams that partecipate in the FIFA World Cup. So, I show ***national football team (wd:wd:Q6979593)*** who partecipated in the ***2010 FIFA World Cup (wd:Q176883)***."
   ]
  },
  {
   "cell_type": "code",
   "execution_count": 5,
   "id": "51c8e170-3805-4d5f-b990-d78dccc09bba",
   "metadata": {},
   "outputs": [
    {
     "name": "stdout",
     "output_type": "stream",
     "text": [
      "Results\n",
      "[('team', 'http://www.wikidata.org/entity/Q676899'), ('teamName', 'Italy national association football team')]\n",
      "[('team', 'http://www.wikidata.org/entity/Q268208'), ('teamName', 'Australia national association football team')]\n",
      "[('team', 'http://www.wikidata.org/entity/Q134916'), ('teamName', 'Uruguay national football team')]\n",
      "[('team', 'http://www.wikidata.org/entity/Q170327'), ('teamName', 'South Africa national football team')]\n",
      "[('team', 'http://www.wikidata.org/entity/Q14132'), ('teamName', 'North Korea national football team')]\n",
      "[('team', 'http://www.wikidata.org/entity/Q174512'), ('teamName', 'Slovakia national association football team')]\n",
      "[('team', 'http://www.wikidata.org/entity/Q175145'), ('teamName', 'Ivory Coast national football team')]\n",
      "[('team', 'http://www.wikidata.org/entity/Q180187'), ('teamName', 'Honduras national football team')]\n",
      "[('team', 'http://www.wikidata.org/entity/Q172221'), ('teamName', 'Slovenia national football team')]\n",
      "[('team', 'http://www.wikidata.org/entity/Q47050'), ('teamName', 'Netherlands national association football team')]\n"
     ]
    },
    {
     "data": {
      "text/plain": [
       "10"
      ]
     },
     "execution_count": 5,
     "metadata": {},
     "output_type": "execute_result"
    }
   ],
   "source": [
    "queryString = \"\"\"\n",
    "SELECT ?team ?teamName WHERE { \n",
    " \n",
    "    # Retrieve national football teams\n",
    "    ?team wdt:P31 wd:Q6979593 .\n",
    "    \n",
    "    # Retrieve national football teams who partecipate in 2010 FIFA World Cup       \n",
    "    wd:Q176883 wdt:P1923 ?team.  \n",
    "            \n",
    "    # This returns the labels\n",
    "    ?team <http://schema.org/name> ?teamName .   \n",
    "} \n",
    "LIMIT 10\n",
    "\"\"\"\n",
    "\n",
    "print(\"Results\")\n",
    "run_query(queryString)"
   ]
  },
  {
   "cell_type": "markdown",
   "id": "34a2af4e-4f1d-45ff-bb1a-9b3beff38dc8",
   "metadata": {},
   "source": [
    "Ok, it works. But what if I want to work on different editions of the FIFA World Cup ? \n",
    "\n",
    "I need to understand how a specific edition (such as ***2010 FIFA World Cup (wd:Q176883)*** ) is connected to the general tournament ***FIFA World Cup (wd:Q19317)***."
   ]
  },
  {
   "cell_type": "code",
   "execution_count": 6,
   "id": "eb9e7ac4-6aa2-4b64-9e3d-4b849ecd385b",
   "metadata": {},
   "outputs": [
    {
     "name": "stdout",
     "output_type": "stream",
     "text": [
      "Results\n",
      "[('p', 'http://www.wikidata.org/prop/direct/P3450'), ('pName', 'sports season of league or competition')]\n"
     ]
    },
    {
     "data": {
      "text/plain": [
       "1"
      ]
     },
     "execution_count": 6,
     "metadata": {},
     "output_type": "execute_result"
    }
   ],
   "source": [
    "queryString = \"\"\"\n",
    "SELECT ?p ?pName WHERE { \n",
    "\n",
    "    # Any property that connect 2010 FIFA World cup (wd:Q176883) to FIFA World Cup (wd:Q19317)\n",
    "    wd:Q176883 ?p wd:Q19317 .\n",
    "    \n",
    "    # this returns the labels\n",
    "    ?p <http://schema.org/name> ?pName .  \n",
    "} \n",
    "\"\"\"\n",
    "\n",
    "print(\"Results\")\n",
    "run_query(queryString)"
   ]
  },
  {
   "cell_type": "markdown",
   "id": "0ec6cf80-6928-48b8-863e-fd67ea51a46b",
   "metadata": {},
   "source": [
    "Ok, so the property ***sports season of league or competition (wdt:P3450)*** is used to connnect a specific edition of the FIFA World Cup to the general tournament.\n",
    "\n",
    "I also want to check how an edition of the FIFA World Cup is connected to its final. I use the 2010 edition, since I have both ***2010 FIFA World Cup (wd:Q176883)*** and ***2010 FIFA World Cup Final (wd:Q208401)***."
   ]
  },
  {
   "cell_type": "code",
   "execution_count": 7,
   "id": "a08f5965-69e1-4bb4-8b4b-86947b8a36f9",
   "metadata": {},
   "outputs": [
    {
     "name": "stdout",
     "output_type": "stream",
     "text": [
      "Results\n",
      "[('p', 'http://www.wikidata.org/prop/direct/P3967'), ('pName', 'final event')]\n"
     ]
    },
    {
     "data": {
      "text/plain": [
       "1"
      ]
     },
     "execution_count": 7,
     "metadata": {},
     "output_type": "execute_result"
    }
   ],
   "source": [
    "queryString = \"\"\"\n",
    "SELECT ?p ?pName WHERE { \n",
    "\n",
    "    # Any property that connect 2010 FIFA World cup (wd:Q176883) to 2010 FIFA World Cup Final (wd:Q208401)\n",
    "    wd:Q176883 ?p wd:Q208401 .\n",
    "    \n",
    "    # this returns the labels\n",
    "    ?p <http://schema.org/name> ?pName .\n",
    "} \n",
    "\"\"\"\n",
    "\n",
    "print(\"Results\")\n",
    "run_query(queryString)"
   ]
  },
  {
   "cell_type": "markdown",
   "id": "e9895175-e275-49e9-b71d-4d0ab531f0c8",
   "metadata": {},
   "source": [
    "The property ***final event (wdt:P3967)*** is used to connnect a specific edition of the FIFA World Cup to the final match of that specific edition.\n",
    "\n",
    "If I want to retrieve national football teams that partecipated to a FIFA World Cup, I can rely on the properties ***sports season of league or competition (wdt:P3450)*** and ***participating team (wdt:P1923)*** ."
   ]
  },
  {
   "cell_type": "code",
   "execution_count": 8,
   "id": "9896bcc7-d31f-416c-82da-886aefa82407",
   "metadata": {},
   "outputs": [
    {
     "name": "stdout",
     "output_type": "stream",
     "text": [
      "Results\n",
      "[('teamName', 'Poland national association football team')]\n",
      "[('teamName', 'Romania national association football team')]\n",
      "[('teamName', 'Italy national association football team')]\n",
      "[('teamName', 'Austria national association football team')]\n",
      "[('teamName', 'Colombia national football team')]\n",
      "[('teamName', 'Australia national association football team')]\n",
      "[('teamName', 'Uruguay national football team')]\n",
      "[('teamName', 'Bosnia and Herzegovina national football team')]\n",
      "[('teamName', 'South Africa national football team')]\n",
      "[('teamName', 'Iraq national football team')]\n",
      "[('teamName', 'Israel national football team')]\n",
      "[('teamName', 'North Korea national football team')]\n",
      "[('teamName', 'Ukraine national association football team')]\n",
      "[('teamName', 'Slovakia national association football team')]\n",
      "[('teamName', 'Ivory Coast national football team')]\n",
      "[('teamName', 'Honduras national football team')]\n",
      "[('teamName', 'Wales national association football team')]\n",
      "[('teamName', 'DR Congo national football team')]\n",
      "[('teamName', 'China national football team')]\n",
      "[('teamName', 'Costa Rica national football team')]\n"
     ]
    },
    {
     "data": {
      "text/plain": [
       "20"
      ]
     },
     "execution_count": 8,
     "metadata": {},
     "output_type": "execute_result"
    }
   ],
   "source": [
    "queryString = \"\"\"\n",
    "SELECT DISTINCT ?teamName WHERE { \n",
    "       \n",
    "    # Retrieve national football teams\n",
    "    ?team wdt:P31 wd:Q6979593 .\n",
    "            \n",
    "    # Retrieve football teams who partecipate in a FIFA World Cup Edition     \n",
    "    ?worldCupEdition wdt:P3450 wd:Q19317 ;\n",
    "                     wdt:P1923 ?team     .\n",
    "    \n",
    "    # this returns the labels\n",
    "    ?team <http://schema.org/name> ?teamName .  \n",
    "} \n",
    "LIMIT 20\n",
    "\"\"\"\n",
    "\n",
    "print(\"Results\")\n",
    "run_query(queryString)"
   ]
  },
  {
   "cell_type": "markdown",
   "id": "4f5b7c8b-64d4-40b6-88ff-0ae2d317b424",
   "metadata": {},
   "source": [
    "Instead, if I want to retrieve only national football teams that partecipated to a final of the FIFA World Cup, I have to add the property ***final event (wdt:P3967)*** in order to retrieve the final match of a specific edition of ***FIFA World Cup (wd:Q19317)***."
   ]
  },
  {
   "cell_type": "code",
   "execution_count": 9,
   "id": "8654bb4b-cf69-46fe-8e9f-57cb4e2a07a2",
   "metadata": {},
   "outputs": [
    {
     "name": "stdout",
     "output_type": "stream",
     "text": [
      "Results\n",
      "[('teamName', 'Italy national association football team')]\n",
      "[('teamName', 'Uruguay national football team')]\n",
      "[('teamName', 'Netherlands national association football team')]\n",
      "[('teamName', 'France national association football team')]\n",
      "[('teamName', 'Spain national association football team')]\n",
      "[('teamName', 'Argentina national football team')]\n",
      "[('teamName', 'Brazil national football team')]\n",
      "[('teamName', 'Germany national association football team')]\n",
      "[('teamName', 'Hungary national association football team')]\n",
      "[('teamName', 'Czechoslovakia national association football team')]\n",
      "[('teamName', 'Sweden national association football team')]\n"
     ]
    },
    {
     "data": {
      "text/plain": [
       "11"
      ]
     },
     "execution_count": 9,
     "metadata": {},
     "output_type": "execute_result"
    }
   ],
   "source": [
    "queryString = \"\"\"\n",
    "SELECT DISTINCT ?teamName WHERE { \n",
    "\n",
    "    # Retrieve national football teams\n",
    "    ?team wdt:P31 wd:Q6979593 .\n",
    "            \n",
    "    # Retrieve finals of FIFA World Cup editions  \n",
    "    ?worldCupEdition    wdt:P3450 wd:Q19317 ;\n",
    "                        wdt:P3967 ?final .\n",
    "    \n",
    "    # Retrieve national football teams partecipating to the final match\n",
    "    ?final wdt:P1923 ?team . \n",
    "    \n",
    "    # This returns the labels\n",
    "    ?team <http://schema.org/name> ?teamName .   \n",
    "} \n",
    "LIMIT 30\n",
    "\"\"\"\n",
    "\n",
    "print(\"Results\")\n",
    "run_query(queryString)"
   ]
  },
  {
   "cell_type": "markdown",
   "id": "0c88938f-0dfb-4358-8141-74c88351e50e",
   "metadata": {},
   "source": [
    "#### END TASK 1: \n",
    "I found both the requested BGPs:\n",
    "\n",
    "The first one to retrieve national football teams that partecipated to a FIFA World Cup: \n",
    "\n",
    "```\n",
    "?team               wdt:P31      wd:Q6979593 . \n",
    "?worldCupEdition    wdt:P3450    wd:Q19317   ; \n",
    "                    wdt:P1923    ?team       .\n",
    "```\n",
    "\n",
    "The second one to retrieve national football teams that partecipated to a final of the FIFA World Cup:\n",
    "\n",
    "```\n",
    "?team             wdt:P31     wd:Q6979593 .\n",
    "?worldCupEdition  wdt:P3450   wd:Q19317   ; \n",
    "                  wdt:P3967   ?final      .   \n",
    "?final            wdt:P1923   ?team       .\n",
    "```"
   ]
  },
  {
   "cell_type": "markdown",
   "id": "83c5a29b-8cd2-43d7-92e5-7573f60f8bbe",
   "metadata": {},
   "source": [
    "### ***Task 2 :*** Identify the BGP that connects a country with a national footbal team or as a location to a world cup\n",
    "\n",
    "First, I show all the properties between ***Spain national football team (wd:Q42267)*** and ***Spain (wd:Q29)*** ."
   ]
  },
  {
   "cell_type": "code",
   "execution_count": 10,
   "id": "2db98de5-dcbf-4d3f-8669-20397a7b28c5",
   "metadata": {},
   "outputs": [
    {
     "name": "stdout",
     "output_type": "stream",
     "text": [
      "Results\n",
      "[('p', 'http://www.wikidata.org/prop/direct/P1532'), ('pName', 'country for sport')]\n",
      "[('p', 'http://www.wikidata.org/prop/direct/P17'), ('pName', 'country')]\n"
     ]
    },
    {
     "data": {
      "text/plain": [
       "2"
      ]
     },
     "execution_count": 10,
     "metadata": {},
     "output_type": "execute_result"
    }
   ],
   "source": [
    "queryString = \"\"\"\n",
    "SELECT ?p ?pName WHERE { \n",
    "\n",
    "    # Any property that connect Spain National football team (wd:Q42267) and Spain (wd:Q29)\n",
    "    wd:Q42267 ?p wd:Q29.\n",
    "    \n",
    "    # This returns the labels\n",
    "    ?p <http://schema.org/name> ?pName .   \n",
    "} \n",
    "\"\"\"\n",
    "\n",
    "print(\"Results\")\n",
    "run_query(queryString)"
   ]
  },
  {
   "cell_type": "markdown",
   "id": "634f27d8-c292-4188-b1f2-642da9f43473",
   "metadata": {},
   "source": [
    "I can use ***country for sport (wdt:P1532)*** that is also suggested as a useful URI.\n",
    "\n",
    "I show some examples of couples [Football Team, Country]."
   ]
  },
  {
   "cell_type": "code",
   "execution_count": 11,
   "id": "06629a96-9100-418e-b88e-9492e775dfd2",
   "metadata": {},
   "outputs": [
    {
     "name": "stdout",
     "output_type": "stream",
     "text": [
      "Results\n",
      "[('teamName', 'South Vietnam national football team'), ('countryName', 'South Vietnam')]\n",
      "[('teamName', 'South Vietnam national under-20 football team'), ('countryName', 'South Vietnam')]\n",
      "[('teamName', 'Northern Mariana Islands national under-17 football team'), ('countryName', 'Northern Mariana Islands')]\n",
      "[('teamName', 'Northern Mariana Islands national under-20 football team'), ('countryName', 'Northern Mariana Islands')]\n",
      "[('teamName', 'Saaremaa official association football team'), ('countryName', 'Saaremaa')]\n",
      "[('teamName', 'Frøya official association football team'), ('countryName', 'Frøya')]\n",
      "[('teamName', 'Greenland national football team'), ('countryName', 'Greenland')]\n",
      "[('teamName', 'Rhodes association football team'), ('countryName', 'Rhodes')]\n",
      "[('teamName', 'Dominican Republic national football team'), ('countryName', 'Dominican Republic')]\n",
      "[('teamName', 'Dominican Republic national under-20 football team'), ('countryName', 'Dominican Republic')]\n",
      "[('teamName', 'Dominican Republic national under-23 football team'), ('countryName', 'Dominican Republic')]\n",
      "[('teamName', 'Tahiti national football team'), ('countryName', 'Tahiti')]\n",
      "[('teamName', 'Tahiti national under-20 football team'), ('countryName', 'Tahiti')]\n",
      "[('teamName', 'Tahiti national under-17 football team'), ('countryName', 'Tahiti')]\n",
      "[('teamName', \"Tahiti women's national under-17 football team\"), ('countryName', 'Tahiti')]\n",
      "[('teamName', 'Saint Barthélemy national football team'), ('countryName', 'Saint Barthélemy')]\n",
      "[('teamName', 'United Arab Republic national football team'), ('countryName', 'United Arab Republic')]\n",
      "[('teamName', 'Martinique national football team'), ('countryName', 'Martinique')]\n",
      "[('teamName', 'Martinique national under-20 football team'), ('countryName', 'Martinique')]\n",
      "[('teamName', 'Chinese Taipei national football team'), ('countryName', 'Chinese Taipei')]\n"
     ]
    },
    {
     "data": {
      "text/plain": [
       "20"
      ]
     },
     "execution_count": 11,
     "metadata": {},
     "output_type": "execute_result"
    }
   ],
   "source": [
    "queryString = \"\"\"\n",
    "SELECT DISTINCT ?teamName ?countryName WHERE { \n",
    "\n",
    "    # Search for instances of national football team and connect them to their country\n",
    "    ?team   wdt:P31 wd:Q6979593 ;\n",
    "            wdt:P1532 ?country .\n",
    "    \n",
    "    # This returns the labels\n",
    "    ?team <http://schema.org/name> ?teamName .\n",
    "    ?country <http://schema.org/name> ?countryName .\n",
    "}\n",
    "LIMIT 20\n",
    "\"\"\"\n",
    "\n",
    "print(\"Results\")\n",
    "run_query(queryString)"
   ]
  },
  {
   "cell_type": "markdown",
   "id": "6bc779ab-5135-4cfc-a075-1606085a32c0",
   "metadata": {},
   "source": [
    "Now I want to discover how a country is connected as a location to a world cup.\n",
    "\n",
    "I retrieve all the object properties connected to an edition of the ***FIFA World Cup (wd:Q19317)***."
   ]
  },
  {
   "cell_type": "code",
   "execution_count": 12,
   "id": "1cb6503f-d883-4af7-ae09-955fe359358e",
   "metadata": {},
   "outputs": [
    {
     "name": "stdout",
     "output_type": "stream",
     "text": [
      "Results\n",
      "[('p', 'http://www.wikidata.org/prop/direct/P2094'), ('pName', 'competition class')]\n",
      "[('p', 'http://www.wikidata.org/prop/direct/P17'), ('pName', 'country')]\n",
      "[('p', 'http://www.wikidata.org/prop/direct/P3967'), ('pName', 'final event')]\n",
      "[('p', 'http://www.wikidata.org/prop/direct/P155'), ('pName', 'follows')]\n",
      "[('p', 'http://www.wikidata.org/prop/direct/P527'), ('pName', 'has part')]\n",
      "[('p', 'http://www.wikidata.org/prop/direct/P18'), ('pName', 'image')]\n",
      "[('p', 'http://www.wikidata.org/prop/direct/P31'), ('pName', 'instance of')]\n",
      "[('p', 'http://www.wikidata.org/prop/direct/P131'), ('pName', 'located in the administrative territorial entity')]\n",
      "[('p', 'http://www.wikidata.org/prop/direct/P276'), ('pName', 'location')]\n",
      "[('p', 'http://www.wikidata.org/prop/direct/P242'), ('pName', 'locator map image')]\n",
      "[('p', 'http://www.wikidata.org/prop/direct/P154'), ('pName', 'logo image')]\n",
      "[('p', 'http://www.wikidata.org/prop/direct/P822'), ('pName', 'mascot')]\n",
      "[('p', 'http://www.wikidata.org/prop/direct/P1546'), ('pName', 'motto')]\n",
      "[('p', 'http://www.wikidata.org/prop/direct/P856'), ('pName', 'official website')]\n",
      "[('p', 'http://www.wikidata.org/prop/direct/P664'), ('pName', 'organizer')]\n",
      "[('p', 'http://www.wikidata.org/prop/direct/P948'), ('pName', 'page banner')]\n",
      "[('p', 'http://www.wikidata.org/prop/direct/P710'), ('pName', 'participant')]\n",
      "[('p', 'http://www.wikidata.org/prop/direct/P1923'), ('pName', 'participating team')]\n",
      "[('p', 'http://www.wikidata.org/prop/direct/P4967'), ('pName', 'prerequisite')]\n",
      "[('p', 'http://www.wikidata.org/prop/direct/P443'), ('pName', 'pronunciation audio')]\n",
      "[('p', 'http://www.wikidata.org/prop/direct/P859'), ('pName', 'sponsor')]\n",
      "[('p', 'http://www.wikidata.org/prop/direct/P641'), ('pName', 'sport')]\n",
      "[('p', 'http://www.wikidata.org/prop/direct/P3450'), ('pName', 'sports season of league or competition')]\n",
      "[('p', 'http://www.wikidata.org/prop/direct/P3279'), ('pName', 'statistical leader')]\n",
      "[('p', 'http://www.wikidata.org/prop/direct/P1151'), ('pName', \"topic's main Wikimedia portal\")]\n",
      "[('p', 'http://www.wikidata.org/prop/direct/P910'), ('pName', \"topic's main category\")]\n",
      "[('p', 'http://www.wikidata.org/prop/direct/P1424'), ('pName', \"topic's main template\")]\n",
      "[('p', 'http://www.wikidata.org/prop/direct/P1346'), ('pName', 'winner')]\n"
     ]
    },
    {
     "data": {
      "text/plain": [
       "28"
      ]
     },
     "execution_count": 12,
     "metadata": {},
     "output_type": "execute_result"
    }
   ],
   "source": [
    "queryString = \"\"\"\n",
    "SELECT DISTINCT ?p ?pName WHERE { \n",
    "             \n",
    "    # Search for properties connected to a FIFA World Cup Edition  \n",
    "    ?worldCupEdition  wdt:P3450 wd:Q19317 ;\n",
    "                      ?p        ?o .\n",
    "    \n",
    "    # This returns the labels\n",
    "    ?p <http://schema.org/name> ?pName .\n",
    "    \n",
    "    # Exclude data properties\n",
    "    FILTER(!isLiteral(?o))\n",
    "}\n",
    "ORDER BY (?pName)\n",
    "LIMIT 30\n",
    "\"\"\"\n",
    "\n",
    "print(\"Results\")\n",
    "run_query(queryString)"
   ]
  },
  {
   "cell_type": "markdown",
   "id": "93bd5594-b632-46ef-a399-d41a1e19f545",
   "metadata": {},
   "source": [
    "The correct one may be one between ***country (wdt:P17)*** and ***location (wdt:P276)***. I try them using ***2010 FIFA World Cup (wd:Q176883)***."
   ]
  },
  {
   "cell_type": "code",
   "execution_count": 13,
   "id": "d9924385-0a94-4a04-826b-a4a3b0e928c4",
   "metadata": {},
   "outputs": [
    {
     "name": "stdout",
     "output_type": "stream",
     "text": [
      "Results\n",
      "[('country', 'http://www.wikidata.org/entity/Q258'), ('countryName', 'South Africa')]\n"
     ]
    },
    {
     "data": {
      "text/plain": [
       "1"
      ]
     },
     "execution_count": 13,
     "metadata": {},
     "output_type": "execute_result"
    }
   ],
   "source": [
    "queryString = \"\"\"\n",
    "SELECT ?country ?countryName WHERE { \n",
    "\n",
    "    # Connect the 2010 FIFA World cup (wd:Q176883) to something using property Contry (wdt:P17) \n",
    "    wd:Q176883 wdt:P17 ?country .\n",
    "    \n",
    "    # this returns the labels\n",
    "    ?country <http://schema.org/name> ?countryName .\n",
    "} \n",
    "\"\"\"\n",
    "\n",
    "print(\"Results\")\n",
    "run_query(queryString)"
   ]
  },
  {
   "cell_type": "markdown",
   "id": "ef8d9056-de9d-4d98-8e04-a77e142562ea",
   "metadata": {},
   "source": [
    "Ok, so ***country (wdt:P17)*** is the correct one.\n",
    "\n",
    "I retrieve some examples of couples [FIFA World Cup Edition, Country]."
   ]
  },
  {
   "cell_type": "code",
   "execution_count": 14,
   "id": "1929fd36-fa51-43b3-b123-27897a042293",
   "metadata": {},
   "outputs": [
    {
     "name": "stdout",
     "output_type": "stream",
     "text": [
      "Results\n",
      "[('worldCupEditionName', '1930 FIFA World Cup'), ('countryName', 'Uruguay')]\n",
      "[('worldCupEditionName', '1934 FIFA World Cup'), ('countryName', 'Italy')]\n",
      "[('worldCupEditionName', '1938 FIFA World Cup'), ('countryName', 'France')]\n",
      "[('worldCupEditionName', '1950 FIFA World Cup'), ('countryName', 'Brazil')]\n",
      "[('worldCupEditionName', '1954 FIFA World Cup'), ('countryName', 'Switzerland')]\n",
      "[('worldCupEditionName', '1958 FIFA World Cup'), ('countryName', 'Sweden')]\n",
      "[('worldCupEditionName', '1962 FIFA World Cup'), ('countryName', 'Chile')]\n",
      "[('worldCupEditionName', '1966 FIFA World Cup'), ('countryName', 'United Kingdom')]\n",
      "[('worldCupEditionName', '1970 FIFA World Cup'), ('countryName', 'Mexico')]\n",
      "[('worldCupEditionName', '1974 FIFA World Cup'), ('countryName', 'Germany')]\n",
      "[('worldCupEditionName', '1978 FIFA World Cup'), ('countryName', 'Argentina')]\n",
      "[('worldCupEditionName', '1982 FIFA World Cup'), ('countryName', 'Mexico')]\n",
      "[('worldCupEditionName', '1986 FIFA World Cup'), ('countryName', 'Mexico')]\n",
      "[('worldCupEditionName', '1990 FIFA World Cup'), ('countryName', 'Italy')]\n",
      "[('worldCupEditionName', '1994 FIFA World Cup'), ('countryName', 'United States of America')]\n",
      "[('worldCupEditionName', '1998 FIFA World Cup'), ('countryName', 'France')]\n",
      "[('worldCupEditionName', '2002 FIFA World Cup'), ('countryName', 'Japan')]\n",
      "[('worldCupEditionName', '2002 FIFA World Cup'), ('countryName', 'South Korea')]\n",
      "[('worldCupEditionName', '2006 FIFA World Cup'), ('countryName', 'Germany')]\n",
      "[('worldCupEditionName', '2010 FIFA World Cup'), ('countryName', 'South Africa')]\n",
      "[('worldCupEditionName', '2014 FIFA World Cup'), ('countryName', 'Brazil')]\n",
      "[('worldCupEditionName', '2018 FIFA World Cup'), ('countryName', 'Russia')]\n",
      "[('worldCupEditionName', '2022 FIFA World Cup'), ('countryName', 'Qatar')]\n",
      "[('worldCupEditionName', '2026 FIFA World Cup'), ('countryName', 'Canada')]\n",
      "[('worldCupEditionName', '2026 FIFA World Cup'), ('countryName', 'United States of America')]\n",
      "[('worldCupEditionName', '2026 FIFA World Cup'), ('countryName', 'Mexico')]\n"
     ]
    },
    {
     "data": {
      "text/plain": [
       "26"
      ]
     },
     "execution_count": 14,
     "metadata": {},
     "output_type": "execute_result"
    }
   ],
   "source": [
    "queryString = \"\"\"\n",
    "SELECT DISTINCT ?worldCupEditionName ?countryName WHERE { \n",
    "             \n",
    "    # Search for countries that hosted a FIFA World Cup Edition \n",
    "    ?worldCupEdition  wdt:P3450  wd:Q19317 ;\n",
    "                      wdt:P17    ?country  .\n",
    "    \n",
    "    # this returns the labels\n",
    "    ?worldCupEdition <http://schema.org/name> ?worldCupEditionName .\n",
    "    ?country <http://schema.org/name> ?countryName .\n",
    "\n",
    "}\n",
    "ORDER BY ASC(?worldCupEditionName)\n",
    "\"\"\"\n",
    "\n",
    "print(\"Results\")\n",
    "run_query(queryString)"
   ]
  },
  {
   "cell_type": "markdown",
   "id": "107be1cf-657e-4c56-84a8-3b59bf9b7444",
   "metadata": {},
   "source": [
    "#### END TASK 2:\n",
    "I found both the requested BGPs:\n",
    "\n",
    "The first one to retrieve countries related to a national football team: \n",
    "```\n",
    "?team   wdt:P31    wd:Q6979593 ;\n",
    "        wdt:P1532  ?country    .\n",
    "```\n",
    "\n",
    "The second one to retrieve national football teams that partecipated to a final of the FIFA World Cup:\n",
    "\n",
    "```\n",
    "?team             wdt:P31     wd:Q6979593 .\n",
    "?worldCupEdition  wdt:P3450   wd:Q19317   ; \n",
    "                  wdt:P3967   ?final      .   \n",
    "?final            wdt:P1923   ?team       .\n",
    "```"
   ]
  },
  {
   "cell_type": "markdown",
   "id": "050373ea-529c-4708-a1b6-d2bac1ae910c",
   "metadata": {},
   "source": [
    "### ***Task 3 :*** In which countries took place a FIFA world cup or world cup final? With how many participants?\n",
    "\n",
    "To retrieve the number of participants I could rely on the property ***participating team (wdt:P1923)*** discovered before. \n",
    "\n",
    "However, it is not necessary to search both for ***FIFA World Cup (wd:Q19317)*** and FIFA World Cup Final since the results obtained by searching for the final matches are obviously included in the results obtained searching for ***FIFA World Cup (wd:Q19317)***."
   ]
  },
  {
   "cell_type": "code",
   "execution_count": 15,
   "id": "8b9fa6a0-9d94-47e3-930e-1ca6de9b4c9d",
   "metadata": {},
   "outputs": [
    {
     "name": "stdout",
     "output_type": "stream",
     "text": [
      "Results\n",
      "[('worldCupEdition', 'http://www.wikidata.org/entity/Q48432'), ('worldCupEditionName', '1930 FIFA World Cup'), ('countryName', 'Uruguay'), ('numPartecipants', '13')]\n",
      "[('worldCupEdition', 'http://www.wikidata.org/entity/Q1477177'), ('worldCupEditionName', '1934 FIFA World Cup'), ('countryName', 'Italy'), ('numPartecipants', '16')]\n",
      "[('worldCupEdition', 'http://www.wikidata.org/entity/Q131591'), ('worldCupEditionName', '1938 FIFA World Cup'), ('countryName', 'France'), ('numPartecipants', '15')]\n",
      "[('worldCupEdition', 'http://www.wikidata.org/entity/Q132515'), ('worldCupEditionName', '1950 FIFA World Cup'), ('countryName', 'Brazil'), ('numPartecipants', '13')]\n",
      "[('worldCupEdition', 'http://www.wikidata.org/entity/Q131075'), ('worldCupEditionName', '1954 FIFA World Cup'), ('countryName', 'Switzerland'), ('numPartecipants', '16')]\n",
      "[('worldCupEdition', 'http://www.wikidata.org/entity/Q132533'), ('worldCupEditionName', '1958 FIFA World Cup'), ('countryName', 'Sweden'), ('numPartecipants', '16')]\n",
      "[('worldCupEdition', 'http://www.wikidata.org/entity/Q160813'), ('worldCupEditionName', '1962 FIFA World Cup'), ('countryName', 'Chile'), ('numPartecipants', '16')]\n",
      "[('worldCupEdition', 'http://www.wikidata.org/entity/Q134202'), ('worldCupEditionName', '1966 FIFA World Cup'), ('countryName', 'United Kingdom'), ('numPartecipants', '16')]\n",
      "[('worldCupEdition', 'http://www.wikidata.org/entity/Q132664'), ('worldCupEditionName', '1970 FIFA World Cup'), ('countryName', 'Mexico'), ('numPartecipants', '16')]\n",
      "[('worldCupEdition', 'http://www.wikidata.org/entity/Q166121'), ('worldCupEditionName', '1974 FIFA World Cup'), ('countryName', 'Germany'), ('numPartecipants', '16')]\n",
      "[('worldCupEdition', 'http://www.wikidata.org/entity/Q46943'), ('worldCupEditionName', '1978 FIFA World Cup'), ('countryName', 'Argentina'), ('numPartecipants', '16')]\n",
      "[('worldCupEdition', 'http://www.wikidata.org/entity/Q46934'), ('worldCupEditionName', '1982 FIFA World Cup'), ('countryName', 'Mexico'), ('numPartecipants', '24')]\n",
      "[('worldCupEdition', 'http://www.wikidata.org/entity/Q46938'), ('worldCupEditionName', '1986 FIFA World Cup'), ('countryName', 'Mexico'), ('numPartecipants', '24')]\n",
      "[('worldCupEdition', 'http://www.wikidata.org/entity/Q132529'), ('worldCupEditionName', '1990 FIFA World Cup'), ('countryName', 'Italy'), ('numPartecipants', '24')]\n",
      "[('worldCupEdition', 'http://www.wikidata.org/entity/Q101751'), ('worldCupEditionName', '1994 FIFA World Cup'), ('countryName', 'United States of America'), ('numPartecipants', '24')]\n",
      "[('worldCupEdition', 'http://www.wikidata.org/entity/Q101730'), ('worldCupEditionName', '1998 FIFA World Cup'), ('countryName', 'France'), ('numPartecipants', '32')]\n",
      "[('worldCupEdition', 'http://www.wikidata.org/entity/Q47735'), ('worldCupEditionName', '2002 FIFA World Cup'), ('countryName', 'Japan'), ('numPartecipants', '32')]\n",
      "[('worldCupEdition', 'http://www.wikidata.org/entity/Q47735'), ('worldCupEditionName', '2002 FIFA World Cup'), ('countryName', 'South Korea'), ('numPartecipants', '32')]\n",
      "[('worldCupEdition', 'http://www.wikidata.org/entity/Q37285'), ('worldCupEditionName', '2006 FIFA World Cup'), ('countryName', 'Germany'), ('numPartecipants', '32')]\n",
      "[('worldCupEdition', 'http://www.wikidata.org/entity/Q176883'), ('worldCupEditionName', '2010 FIFA World Cup'), ('countryName', 'South Africa'), ('numPartecipants', '32')]\n",
      "[('worldCupEdition', 'http://www.wikidata.org/entity/Q79859'), ('worldCupEditionName', '2014 FIFA World Cup'), ('countryName', 'Brazil'), ('numPartecipants', '32')]\n"
     ]
    },
    {
     "data": {
      "text/plain": [
       "21"
      ]
     },
     "execution_count": 15,
     "metadata": {},
     "output_type": "execute_result"
    }
   ],
   "source": [
    "queryString = \"\"\"\n",
    "SELECT ?worldCupEdition ?worldCupEditionName ?countryName ?numPartecipants WHERE { \n",
    "    \n",
    "    # Connect a FIFA World Cup Edition to the hosting Country\n",
    "    ?worldCupEdition wdt:P17 ?country .\n",
    "    \n",
    "    # this returns the labels\n",
    "    ?worldCupEdition <http://schema.org/name> ?worldCupEditionName .\n",
    "    ?country         <http://schema.org/name> ?countryName         .\n",
    "    \n",
    "    # Retrieving the number of partecipants for each FIFA World Cup Edition\n",
    "    {   SELECT ?worldCupEdition COUNT(DISTINCT ?team) AS ?numPartecipants { \n",
    "            \n",
    "            # Retrieve national football teams\n",
    "            ?team wdt:P31 wd:Q6979593 .\n",
    "\n",
    "            # Retrieve teams that partecipated to a FIFA World Cup Edition \n",
    "            ?worldCupEdition  wdt:P3450  wd:Q19317 ;\n",
    "                              wdt:P1923  ?team     .\n",
    "        }\n",
    "        GROUP BY ?worldCupEdition\n",
    "    }  \n",
    "} \n",
    "ORDER BY ASC(?worldCupEditionName)\n",
    "\"\"\"\n",
    "\n",
    "print(\"Results\")\n",
    "run_query(queryString)"
   ]
  },
  {
   "cell_type": "markdown",
   "id": "067b8a3c-2391-43b4-9fad-1555155fd9cd",
   "metadata": {},
   "source": [
    "#### END TASK 3:\n",
    "With this query, I was able to associate every ***FIFA World Cup (wd:Q19317)*** Edition with its hosting country. \n",
    "\n",
    "Moreover, I also showed the number of partecipants of each edition ( which has grown up to 32 partecipants in the last editions).\n",
    "\n",
    "(Just for curiosity: some editions have a strange number of partecipants because some teams retired from the final phase of the tournament due to financial issues or other problems)"
   ]
  },
  {
   "cell_type": "markdown",
   "id": "d84c336d-85d7-41eb-bfff-bad7702877ac",
   "metadata": {},
   "source": [
    "### ***Task 4 :*** Compare number of participants and winners of different world cups.\n",
    "I can rely on the properties: ***winner (wdt:P1346)*** and ***partecipating team (wdt:P1923)***."
   ]
  },
  {
   "cell_type": "code",
   "execution_count": 16,
   "id": "e3cbc3b0-d119-4000-a8ec-56a687af5698",
   "metadata": {},
   "outputs": [
    {
     "name": "stdout",
     "output_type": "stream",
     "text": [
      "Results\n",
      "[('wName', '1930 FIFA World Cup'), ('numPartecipants', '13'), ('winnerTeamName', 'Uruguay national football team')]\n",
      "[('wName', '1934 FIFA World Cup'), ('numPartecipants', '16'), ('winnerTeamName', 'Italy national association football team')]\n",
      "[('wName', '1938 FIFA World Cup'), ('numPartecipants', '15'), ('winnerTeamName', 'Italy national association football team')]\n",
      "[('wName', '1950 FIFA World Cup'), ('numPartecipants', '13'), ('winnerTeamName', 'Uruguay national football team')]\n",
      "[('wName', '1954 FIFA World Cup'), ('numPartecipants', '16'), ('winnerTeamName', 'Germany national association football team')]\n",
      "[('wName', '1958 FIFA World Cup'), ('numPartecipants', '16'), ('winnerTeamName', 'Brazil national football team')]\n",
      "[('wName', '1962 FIFA World Cup'), ('numPartecipants', '16'), ('winnerTeamName', 'Brazil national football team')]\n",
      "[('wName', '1966 FIFA World Cup'), ('numPartecipants', '16'), ('winnerTeamName', 'England national association football team')]\n",
      "[('wName', '1970 FIFA World Cup'), ('numPartecipants', '16'), ('winnerTeamName', 'Brazil national football team')]\n",
      "[('wName', '1974 FIFA World Cup'), ('numPartecipants', '16'), ('winnerTeamName', 'Germany national association football team')]\n",
      "[('wName', '1978 FIFA World Cup'), ('numPartecipants', '16'), ('winnerTeamName', 'Argentina national football team')]\n",
      "[('wName', '1982 FIFA World Cup'), ('numPartecipants', '24'), ('winnerTeamName', 'Italy national association football team')]\n",
      "[('wName', '1986 FIFA World Cup'), ('numPartecipants', '24'), ('winnerTeamName', 'Argentina national football team')]\n",
      "[('wName', '1990 FIFA World Cup'), ('numPartecipants', '24'), ('winnerTeamName', 'Germany national association football team')]\n",
      "[('wName', '1994 FIFA World Cup'), ('numPartecipants', '24'), ('winnerTeamName', 'Brazil national football team')]\n",
      "[('wName', '1998 FIFA World Cup'), ('numPartecipants', '32'), ('winnerTeamName', 'France national association football team')]\n",
      "[('wName', '2002 FIFA World Cup'), ('numPartecipants', '32'), ('winnerTeamName', 'Brazil national football team')]\n",
      "[('wName', '2006 FIFA World Cup'), ('numPartecipants', '32'), ('winnerTeamName', 'Italy national association football team')]\n",
      "[('wName', '2010 FIFA World Cup'), ('numPartecipants', '32'), ('winnerTeamName', 'Spain national association football team')]\n",
      "[('wName', '2014 FIFA World Cup'), ('numPartecipants', '32'), ('winnerTeamName', 'Germany national association football team')]\n"
     ]
    },
    {
     "data": {
      "text/plain": [
       "20"
      ]
     },
     "execution_count": 16,
     "metadata": {},
     "output_type": "execute_result"
    }
   ],
   "source": [
    "queryString = \"\"\"\n",
    "SELECT ?wName ?numPartecipants ?winnerTeamName WHERE { \n",
    "    \n",
    "    # Connect a FIFA World Cup Edition to the winner team\n",
    "    ?worldCupEdition wdt:P1346 ?winnerTeam  .\n",
    "    \n",
    "        # This returns the labels\n",
    "    ?worldCupEdition <http://schema.org/name> ?wName          .\n",
    "    ?winnerTeam      <http://schema.org/name> ?winnerTeamName .\n",
    "    \n",
    "    # Retrieving the number of partecipants for each edition of the FIFA World Cup\n",
    "    {   SELECT ?worldCupEdition COUNT(DISTINCT ?team) AS ?numPartecipants { \n",
    "            \n",
    "            # Retrieve of national football team\n",
    "            ?team wdt:P31 wd:Q6979593 .\n",
    "\n",
    "            # Retrieve teams that partecipated to a FIFA World Cup Edition \n",
    "            ?worldCupEdition  wdt:P3450  wd:Q19317 ;\n",
    "                              wdt:P1923  ?team     .\n",
    "        }\n",
    "        GROUP BY ?worldCupEdition\n",
    "    }\n",
    "      \n",
    "} \n",
    "ORDER BY ASC(?wName)\n",
    "\"\"\"\n",
    "\n",
    "print(\"Results\")\n",
    "run_query(queryString)"
   ]
  },
  {
   "cell_type": "markdown",
   "id": "ab835d85-10c5-40f2-952a-412b1c04dfe2",
   "metadata": {},
   "source": [
    "#### END TASK 4:\n",
    "I correctly retrieved the winner of each edition of the ***FIFA World Cup (wd:Q19317)***."
   ]
  },
  {
   "cell_type": "markdown",
   "id": "0dbeb961-eb7c-416c-abf4-a198ea338d72",
   "metadata": {},
   "source": [
    "### ***Task 4.1 :*** How many times each country participated in a world cup?\n",
    "\n",
    "I can rely on the property ***partecipating team (wdt:P1923)*** to answer this question."
   ]
  },
  {
   "cell_type": "code",
   "execution_count": 17,
   "id": "875cd121-351c-40bc-8c45-1a0186a7be67",
   "metadata": {},
   "outputs": [
    {
     "name": "stdout",
     "output_type": "stream",
     "text": [
      "Results\n",
      "[('country', 'http://www.wikidata.org/entity/Q155'), ('countryName', 'Brazil'), ('numEditions', '20')]\n",
      "[('country', 'http://www.wikidata.org/entity/Q183'), ('countryName', 'Germany'), ('numEditions', '18')]\n",
      "[('country', 'http://www.wikidata.org/entity/Q38'), ('countryName', 'Italy'), ('numEditions', '18')]\n",
      "[('country', 'http://www.wikidata.org/entity/Q414'), ('countryName', 'Argentina'), ('numEditions', '16')]\n",
      "[('country', 'http://www.wikidata.org/entity/Q96'), ('countryName', 'Mexico'), ('numEditions', '15')]\n",
      "[('country', 'http://www.wikidata.org/entity/Q142'), ('countryName', 'France'), ('numEditions', '14')]\n",
      "[('country', 'http://www.wikidata.org/entity/Q21'), ('countryName', 'England'), ('numEditions', '14')]\n",
      "[('country', 'http://www.wikidata.org/entity/Q29'), ('countryName', 'Spain'), ('numEditions', '14')]\n",
      "[('country', 'http://www.wikidata.org/entity/Q31'), ('countryName', 'Belgium'), ('numEditions', '12')]\n",
      "[('country', 'http://www.wikidata.org/entity/Q77'), ('countryName', 'Uruguay'), ('numEditions', '12')]\n",
      "[('country', 'http://www.wikidata.org/entity/Q34'), ('countryName', 'Sweden'), ('numEditions', '11')]\n",
      "[('country', 'http://www.wikidata.org/entity/Q30'), ('countryName', 'United States of America'), ('numEditions', '10')]\n",
      "[('country', 'http://www.wikidata.org/entity/Q39'), ('countryName', 'Switzerland'), ('numEditions', '10')]\n",
      "[('country', 'http://www.wikidata.org/entity/Q55'), ('countryName', 'Netherlands'), ('numEditions', '10')]\n",
      "[('country', 'http://www.wikidata.org/entity/Q28'), ('countryName', 'Hungary'), ('numEditions', '9')]\n",
      "[('country', 'http://www.wikidata.org/entity/Q298'), ('countryName', 'Chile'), ('numEditions', '9')]\n",
      "[('country', 'http://www.wikidata.org/entity/Q884'), ('countryName', 'South Korea'), ('numEditions', '9')]\n",
      "[('country', 'http://www.wikidata.org/entity/Q22'), ('countryName', 'Scotland'), ('numEditions', '8')]\n",
      "[('country', 'http://www.wikidata.org/entity/Q733'), ('countryName', 'Paraguay'), ('numEditions', '8')]\n",
      "[('country', 'http://www.wikidata.org/entity/Q33946'), ('countryName', 'Czechoslovakia'), ('numEditions', '8')]\n",
      "[('country', 'http://www.wikidata.org/entity/Q1009'), ('countryName', 'Cameroon'), ('numEditions', '7')]\n",
      "[('country', 'http://www.wikidata.org/entity/Q15180'), ('countryName', 'Soviet Union'), ('numEditions', '7')]\n",
      "[('country', 'http://www.wikidata.org/entity/Q218'), ('countryName', 'Romania'), ('numEditions', '7')]\n",
      "[('country', 'http://www.wikidata.org/entity/Q219'), ('countryName', 'Bulgaria'), ('numEditions', '7')]\n",
      "[('country', 'http://www.wikidata.org/entity/Q36'), ('countryName', 'Poland'), ('numEditions', '7')]\n",
      "[('country', 'http://www.wikidata.org/entity/Q40'), ('countryName', 'Austria'), ('numEditions', '7')]\n",
      "[('country', 'http://www.wikidata.org/entity/Q45'), ('countryName', 'Portugal'), ('numEditions', '6')]\n",
      "[('country', 'http://www.wikidata.org/entity/Q1033'), ('countryName', 'Nigeria'), ('numEditions', '5')]\n",
      "[('country', 'http://www.wikidata.org/entity/Q17'), ('countryName', 'Japan'), ('numEditions', '5')]\n",
      "[('country', 'http://www.wikidata.org/entity/Q739'), ('countryName', 'Colombia'), ('numEditions', '5')]\n",
      "[('country', 'http://www.wikidata.org/entity/Q1028'), ('countryName', 'Morocco'), ('numEditions', '4')]\n",
      "[('country', 'http://www.wikidata.org/entity/Q224'), ('countryName', 'Croatia'), ('numEditions', '4')]\n",
      "[('country', 'http://www.wikidata.org/entity/Q262'), ('countryName', 'Algeria'), ('numEditions', '4')]\n",
      "[('country', 'http://www.wikidata.org/entity/Q35'), ('countryName', 'Denmark'), ('numEditions', '4')]\n",
      "[('country', 'http://www.wikidata.org/entity/Q408'), ('countryName', 'Australia'), ('numEditions', '4')]\n",
      "[('country', 'http://www.wikidata.org/entity/Q419'), ('countryName', 'Peru'), ('numEditions', '4')]\n",
      "[('country', 'http://www.wikidata.org/entity/Q794'), ('countryName', 'Iran'), ('numEditions', '4')]\n",
      "[('country', 'http://www.wikidata.org/entity/Q800'), ('countryName', 'Costa Rica'), ('numEditions', '4')]\n",
      "[('country', 'http://www.wikidata.org/entity/Q851'), ('countryName', 'Saudi Arabia'), ('numEditions', '4')]\n",
      "[('country', 'http://www.wikidata.org/entity/Q948'), ('countryName', 'Tunisia'), ('numEditions', '4')]\n",
      "[('country', 'http://www.wikidata.org/entity/Q1008'), ('countryName', 'Ivory Coast'), ('numEditions', '3')]\n",
      "[('country', 'http://www.wikidata.org/entity/Q117'), ('countryName', 'Ghana'), ('numEditions', '3')]\n",
      "[('country', 'http://www.wikidata.org/entity/Q159'), ('countryName', 'Russia'), ('numEditions', '3')]\n",
      "[('country', 'http://www.wikidata.org/entity/Q20'), ('countryName', 'Norway'), ('numEditions', '3')]\n",
      "[('country', 'http://www.wikidata.org/entity/Q258'), ('countryName', 'South Africa'), ('numEditions', '3')]\n",
      "[('country', 'http://www.wikidata.org/entity/Q26'), ('countryName', 'Northern Ireland'), ('numEditions', '3')]\n",
      "[('country', 'http://www.wikidata.org/entity/Q27'), ('countryName', 'Ireland'), ('numEditions', '3')]\n",
      "[('country', 'http://www.wikidata.org/entity/Q41'), ('countryName', 'Greece'), ('numEditions', '3')]\n",
      "[('country', 'http://www.wikidata.org/entity/Q736'), ('countryName', 'Ecuador'), ('numEditions', '3')]\n",
      "[('country', 'http://www.wikidata.org/entity/Q750'), ('countryName', 'Bolivia'), ('numEditions', '3')]\n",
      "[('country', 'http://www.wikidata.org/entity/Q783'), ('countryName', 'Honduras'), ('numEditions', '3')]\n",
      "[('country', 'http://www.wikidata.org/entity/Q215'), ('countryName', 'Slovenia'), ('numEditions', '2')]\n",
      "[('country', 'http://www.wikidata.org/entity/Q423'), ('countryName', 'North Korea'), ('numEditions', '2')]\n",
      "[('country', 'http://www.wikidata.org/entity/Q43'), ('countryName', 'Turkey'), ('numEditions', '2')]\n",
      "[('country', 'http://www.wikidata.org/entity/Q664'), ('countryName', 'New Zealand'), ('numEditions', '2')]\n",
      "[('country', 'http://www.wikidata.org/entity/Q79'), ('countryName', 'Egypt'), ('numEditions', '2')]\n",
      "[('country', 'http://www.wikidata.org/entity/Q792'), ('countryName', 'El Salvador'), ('numEditions', '2')]\n",
      "[('country', 'http://www.wikidata.org/entity/Q37024'), ('countryName', 'Serbia and Montenegro'), ('numEditions', '2')]\n",
      "[('country', 'http://www.wikidata.org/entity/Q1041'), ('countryName', 'Senegal'), ('numEditions', '1')]\n",
      "[('country', 'http://www.wikidata.org/entity/Q148'), ('countryName', \"People's Republic of China\"), ('numEditions', '1')]\n",
      "[('country', 'http://www.wikidata.org/entity/Q16'), ('countryName', 'Canada'), ('numEditions', '1')]\n",
      "[('country', 'http://www.wikidata.org/entity/Q16957'), ('countryName', 'German Democratic Republic'), ('numEditions', '1')]\n",
      "[('country', 'http://www.wikidata.org/entity/Q212'), ('countryName', 'Ukraine'), ('numEditions', '1')]\n",
      "[('country', 'http://www.wikidata.org/entity/Q213'), ('countryName', 'Czech Republic'), ('numEditions', '1')]\n",
      "[('country', 'http://www.wikidata.org/entity/Q214'), ('countryName', 'Slovakia'), ('numEditions', '1')]\n",
      "[('country', 'http://www.wikidata.org/entity/Q225'), ('countryName', 'Bosnia and Herzegovina'), ('numEditions', '1')]\n",
      "[('country', 'http://www.wikidata.org/entity/Q241'), ('countryName', 'Cuba'), ('numEditions', '1')]\n",
      "[('country', 'http://www.wikidata.org/entity/Q25'), ('countryName', 'Wales'), ('numEditions', '1')]\n",
      "[('country', 'http://www.wikidata.org/entity/Q403'), ('countryName', 'Serbia'), ('numEditions', '1')]\n",
      "[('country', 'http://www.wikidata.org/entity/Q754'), ('countryName', 'Trinidad and Tobago'), ('numEditions', '1')]\n",
      "[('country', 'http://www.wikidata.org/entity/Q766'), ('countryName', 'Jamaica'), ('numEditions', '1')]\n",
      "[('country', 'http://www.wikidata.org/entity/Q790'), ('countryName', 'Haiti'), ('numEditions', '1')]\n",
      "[('country', 'http://www.wikidata.org/entity/Q796'), ('countryName', 'Iraq'), ('numEditions', '1')]\n",
      "[('country', 'http://www.wikidata.org/entity/Q801'), ('countryName', 'Israel'), ('numEditions', '1')]\n",
      "[('country', 'http://www.wikidata.org/entity/Q817'), ('countryName', 'Kuwait'), ('numEditions', '1')]\n",
      "[('country', 'http://www.wikidata.org/entity/Q878'), ('countryName', 'United Arab Emirates'), ('numEditions', '1')]\n",
      "[('country', 'http://www.wikidata.org/entity/Q916'), ('countryName', 'Angola'), ('numEditions', '1')]\n",
      "[('country', 'http://www.wikidata.org/entity/Q945'), ('countryName', 'Togo'), ('numEditions', '1')]\n",
      "[('country', 'http://www.wikidata.org/entity/Q974'), ('countryName', 'Democratic Republic of the Congo'), ('numEditions', '1')]\n",
      "[('country', 'http://www.wikidata.org/entity/Q188161'), ('countryName', 'Dutch East Indies'), ('numEditions', '1')]\n"
     ]
    },
    {
     "data": {
      "text/plain": [
       "80"
      ]
     },
     "execution_count": 17,
     "metadata": {},
     "output_type": "execute_result"
    }
   ],
   "source": [
    "queryString = \"\"\"\n",
    "SELECT ?country ?countryName ?numEditions WHERE { \n",
    "    \n",
    "    # Connect a national football team to its country\n",
    "    ?team   wdt:P1532  ?country .\n",
    "    \n",
    "    # This returns the labels\n",
    "    ?country <http://schema.org/name> ?countryName .\n",
    "    \n",
    "    # Retrieving the number of editions for each national football team\n",
    "    {   SELECT ?team COUNT(DISTINCT ?worldCupEdition) AS ?numEditions { \n",
    "            \n",
    "            # Retrieve national football teams\n",
    "            ?team wdt:P31 wd:Q6979593 .\n",
    "\n",
    "            # Retrieve teams that partecipated to a FIFA World Cup Edition \n",
    "            ?worldCupEdition  wdt:P3450  wd:Q19317 ;\n",
    "                              wdt:P1923  ?team .\n",
    "        }\n",
    "        GROUP BY ?team\n",
    "    }\n",
    "}\n",
    "ORDER BY DESC(?numEditions)\n",
    "\"\"\"\n",
    "\n",
    "print(\"Results\")\n",
    "run_query(queryString)"
   ]
  },
  {
   "cell_type": "markdown",
   "id": "3fa6ed3c-c96b-4015-9cd4-7fb6fee5e7d6",
   "metadata": {},
   "source": [
    "#### END TASK 4.1:\n",
    "I discovered that ***Brasil (wd:Q155)*** partecipated 20 different times to the ***FIFA World Cup (wd:Q19317)***.\n",
    "\n",
    "It is followed by ***Italy (wd:Q38)*** and ***Germany (wd:Q183)*** with 18 times."
   ]
  },
  {
   "cell_type": "markdown",
   "id": "9083c878-5cc7-402f-bb4e-8de3957fac4d",
   "metadata": {},
   "source": [
    "### ***Task 4.2 :*** Which country participated in the most finals? Which country won the most finals?"
   ]
  },
  {
   "cell_type": "markdown",
   "id": "440a5230-e26b-4364-a6bc-7c3288b7605c",
   "metadata": {},
   "source": [
    "I can rely again on the properties ***winner (wdt:P1346)*** and ***partecipating team (wdt:P1923)***.\n",
    "\n",
    "I have also to use ***final event (wdt:P3967)*** in order to retrieve the final match of a specific edition of ***FIFA World Cup (wd:Q19317)***."
   ]
  },
  {
   "cell_type": "code",
   "execution_count": 18,
   "id": "b3acb3ed-b69f-496a-94b8-9e0199becc07",
   "metadata": {},
   "outputs": [
    {
     "name": "stdout",
     "output_type": "stream",
     "text": [
      "Results\n",
      "[('country', 'http://www.wikidata.org/entity/Q183'), ('countryName', 'Germany'), ('numFinals', '6')]\n"
     ]
    },
    {
     "data": {
      "text/plain": [
       "1"
      ]
     },
     "execution_count": 18,
     "metadata": {},
     "output_type": "execute_result"
    }
   ],
   "source": [
    "queryString = \"\"\"\n",
    "SELECT ?country ?countryName COUNT(DISTINCT ?final) AS ?numFinals WHERE { \n",
    "    \n",
    "    # Retrieve national football teams and their country\n",
    "    ?team   wdt:P1532  ?country ;\n",
    "            wdt:P31 wd:Q6979593 .\n",
    "\n",
    "    # Retrieve finals of a FIFA World Cup Edition \n",
    "    ?worldCupEdition  wdt:P3450  wd:Q19317 ;\n",
    "                      wdt:P3967  ?final    .\n",
    "    \n",
    "    # Retrieve national football teams partecipating to the finals\n",
    "    ?final wdt:P1923 ?team . \n",
    "     \n",
    "    # This returns the labels\n",
    "    ?country <http://schema.org/name> ?countryName .\n",
    "}\n",
    "GROUP BY ?country ?countryName\n",
    "ORDER BY DESC(?numFinals)\n",
    "LIMIT 1\n",
    "\"\"\"\n",
    "\n",
    "print(\"Results\")\n",
    "run_query(queryString)"
   ]
  },
  {
   "cell_type": "markdown",
   "id": "c52f4f9c-6569-4775-9423-8f371d81432f",
   "metadata": {},
   "source": [
    "For the second query, I simply substitute the property ***partecipating teams (wdt:P1923)*** with the property ***winner (wdt:P1346)***."
   ]
  },
  {
   "cell_type": "code",
   "execution_count": 19,
   "id": "36858f03-5438-485b-81be-7404223f6b73",
   "metadata": {},
   "outputs": [
    {
     "name": "stdout",
     "output_type": "stream",
     "text": [
      "Results\n",
      "[('country', 'http://www.wikidata.org/entity/Q38'), ('countryName', 'Italy'), ('numFinals', '3')]\n"
     ]
    },
    {
     "data": {
      "text/plain": [
       "1"
      ]
     },
     "execution_count": 19,
     "metadata": {},
     "output_type": "execute_result"
    }
   ],
   "source": [
    "queryString = \"\"\"\n",
    "SELECT ?country ?countryName COUNT(DISTINCT ?final) AS ?numFinals WHERE { \n",
    "    \n",
    "    # Retrieve national football teams and their country\n",
    "    ?team   wdt:P1532  ?country    ;\n",
    "            wdt:P31    wd:Q6979593 .\n",
    "\n",
    "    # Retrieve finals of a FIFA World Cup Edition \n",
    "    ?worldCupEdition  wdt:P3450  wd:Q19317 ;\n",
    "                      wdt:P3967  ?final    .\n",
    "    \n",
    "    # Retrieve national football teams that won the finals\n",
    "    ?final wdt:P1346 ?team . \n",
    "     \n",
    "    # This returns the labels\n",
    "    ?country <http://schema.org/name> ?countryName .\n",
    "}\n",
    "GROUP BY ?country ?countryName\n",
    "ORDER BY DESC(?numFinals)\n",
    "LIMIT 1\n",
    "\"\"\"\n",
    "\n",
    "print(\"Results\")\n",
    "run_query(queryString)"
   ]
  },
  {
   "cell_type": "markdown",
   "id": "977a0d22-c332-4b8a-ac74-d5a374c685a9",
   "metadata": {},
   "source": [
    "### ***Task 4.3 :***  Who participated in the most world cups among Italy, France, Spain, and Germany?\n",
    "\n",
    "I have the URI code only for ***Spain National Football team (wd:Q42267)***. \n",
    "\n",
    "To retrieve the other URIs, I show all the national football teams that partecipated to at least one ***FIFA World Cup (wd:Q19317)*** Edition."
   ]
  },
  {
   "cell_type": "code",
   "execution_count": 20,
   "id": "b2f27302-94e5-4364-a845-64181abfc787",
   "metadata": {},
   "outputs": [
    {
     "name": "stdout",
     "output_type": "stream",
     "text": [
      "Results\n",
      "[('cName', 'Ivory Coast'), ('team', 'http://www.wikidata.org/entity/Q175145'), ('tName', 'Ivory Coast national football team')]\n",
      "[('cName', 'Cameroon'), ('team', 'http://www.wikidata.org/entity/Q175309'), ('tName', 'Cameroon national football team')]\n",
      "[('cName', 'Morocco'), ('team', 'http://www.wikidata.org/entity/Q207337'), ('tName', 'Morocco national football team')]\n",
      "[('cName', 'Nigeria'), ('team', 'http://www.wikidata.org/entity/Q181930'), ('tName', 'Nigeria national football team')]\n",
      "[('cName', 'Senegal'), ('team', 'http://www.wikidata.org/entity/Q207441'), ('tName', 'Senegal national association football team')]\n",
      "[('cName', 'Ghana'), ('team', 'http://www.wikidata.org/entity/Q172014'), ('tName', 'Ghana national football team')]\n",
      "[('cName', 'France'), ('team', 'http://www.wikidata.org/entity/Q47774'), ('tName', 'France national association football team')]\n",
      "[('cName', \"People's Republic of China\"), ('team', 'http://www.wikidata.org/entity/Q130582'), ('tName', 'China national football team')]\n",
      "[('cName', 'Soviet Union'), ('team', 'http://www.wikidata.org/entity/Q189275'), ('tName', 'Soviet Union national association football team')]\n",
      "[('cName', 'Brazil'), ('team', 'http://www.wikidata.org/entity/Q83459'), ('tName', 'Brazil national football team')]\n",
      "[('cName', 'Russia'), ('team', 'http://www.wikidata.org/entity/Q726080'), ('tName', 'Russia national association football team')]\n",
      "[('cName', 'Canada'), ('team', 'http://www.wikidata.org/entity/Q208635'), ('tName', \"Canada men's national soccer team\")]\n",
      "[('cName', 'German Democratic Republic'), ('team', 'http://www.wikidata.org/entity/Q152424'), ('tName', 'East Germany national football team')]\n",
      "[('cName', 'Japan'), ('team', 'http://www.wikidata.org/entity/Q170566'), ('tName', 'Japan national football team')]\n",
      "[('cName', 'Germany'), ('team', 'http://www.wikidata.org/entity/Q43310'), ('tName', 'Germany national association football team')]\n",
      "[('cName', 'Norway'), ('team', 'http://www.wikidata.org/entity/Q184387'), ('tName', 'Norway national association football team')]\n",
      "[('cName', 'England'), ('team', 'http://www.wikidata.org/entity/Q47762'), ('tName', 'England national association football team')]\n",
      "[('cName', 'Ukraine'), ('team', 'http://www.wikidata.org/entity/Q170403'), ('tName', 'Ukraine national association football team')]\n",
      "[('cName', 'Czech Republic'), ('team', 'http://www.wikidata.org/entity/Q483868'), ('tName', 'Czech Republic national association football team')]\n",
      "[('cName', 'Slovakia'), ('team', 'http://www.wikidata.org/entity/Q174512'), ('tName', 'Slovakia national association football team')]\n",
      "[('cName', 'Slovenia'), ('team', 'http://www.wikidata.org/entity/Q172221'), ('tName', 'Slovenia national football team')]\n",
      "[('cName', 'Romania'), ('team', 'http://www.wikidata.org/entity/Q168397'), ('tName', 'Romania national association football team')]\n",
      "[('cName', 'Bulgaria'), ('team', 'http://www.wikidata.org/entity/Q180845'), ('tName', 'Bulgaria national football team')]\n",
      "[('cName', 'Scotland'), ('team', 'http://www.wikidata.org/entity/Q34044'), ('tName', 'Scotland national football team')]\n",
      "[('cName', 'Croatia'), ('team', 'http://www.wikidata.org/entity/Q134479'), ('tName', 'Croatia national association football team')]\n",
      "[('cName', 'Bosnia and Herzegovina'), ('team', 'http://www.wikidata.org/entity/Q181190'), ('tName', 'Bosnia and Herzegovina national football team')]\n",
      "[('cName', 'Cuba'), ('team', 'http://www.wikidata.org/entity/Q236014'), ('tName', 'Cuba national football team')]\n",
      "[('cName', 'Wales'), ('team', 'http://www.wikidata.org/entity/Q180857'), ('tName', 'Wales national association football team')]\n",
      "[('cName', 'South Africa'), ('team', 'http://www.wikidata.org/entity/Q170327'), ('tName', 'South Africa national football team')]\n",
      "[('cName', 'Northern Ireland'), ('team', 'http://www.wikidata.org/entity/Q190978'), ('tName', 'Northern Ireland national association football team')]\n",
      "[('cName', 'Algeria'), ('team', 'http://www.wikidata.org/entity/Q181903'), ('tName', 'Algeria national football team')]\n",
      "[('cName', 'Ireland'), ('team', 'http://www.wikidata.org/entity/Q163547'), ('tName', 'Republic of Ireland national association football team')]\n",
      "[('cName', 'Hungary'), ('team', 'http://www.wikidata.org/entity/Q170561'), ('tName', 'Hungary national association football team')]\n",
      "[('cName', 'Spain'), ('team', 'http://www.wikidata.org/entity/Q42267'), ('tName', 'Spain national association football team')]\n",
      "[('cName', 'Chile'), ('team', 'http://www.wikidata.org/entity/Q172025'), ('tName', 'Chile national football team')]\n",
      "[('cName', 'United States of America'), ('team', 'http://www.wikidata.org/entity/Q164134'), ('tName', \"United States men's national soccer team\")]\n",
      "[('cName', 'Belgium'), ('team', 'http://www.wikidata.org/entity/Q166776'), ('tName', 'Belgium national football team')]\n",
      "[('cName', 'Sweden'), ('team', 'http://www.wikidata.org/entity/Q160826'), ('tName', 'Sweden national association football team')]\n",
      "[('cName', 'Denmark'), ('team', 'http://www.wikidata.org/entity/Q131785'), ('tName', 'Denmark national association football team')]\n",
      "[('cName', 'Poland'), ('team', 'http://www.wikidata.org/entity/Q166196'), ('tName', 'Poland national association football team')]\n",
      "[('cName', 'Italy'), ('team', 'http://www.wikidata.org/entity/Q676899'), ('tName', 'Italy national association football team')]\n",
      "[('cName', 'Switzerland'), ('team', 'http://www.wikidata.org/entity/Q165141'), ('tName', 'Swiss national football team')]\n",
      "[('cName', 'Austria'), ('team', 'http://www.wikidata.org/entity/Q163534'), ('tName', 'Austria national association football team')]\n",
      "[('cName', 'Serbia'), ('team', 'http://www.wikidata.org/entity/Q182740'), ('tName', 'Serbia national football team')]\n",
      "[('cName', 'Australia'), ('team', 'http://www.wikidata.org/entity/Q268208'), ('tName', 'Australia national association football team')]\n",
      "[('cName', 'Greece'), ('team', 'http://www.wikidata.org/entity/Q134925'), ('tName', 'Greece national association football team')]\n",
      "[('cName', 'Argentina'), ('team', 'http://www.wikidata.org/entity/Q79800'), ('tName', 'Argentina national football team')]\n",
      "[('cName', 'Peru'), ('team', 'http://www.wikidata.org/entity/Q212166'), ('tName', 'Peru national football team')]\n",
      "[('cName', 'North Korea'), ('team', 'http://www.wikidata.org/entity/Q14132'), ('tName', 'North Korea national football team')]\n",
      "[('cName', 'Turkey'), ('team', 'http://www.wikidata.org/entity/Q483856'), ('tName', 'Turkey national association football team')]\n",
      "[('cName', 'Portugal'), ('team', 'http://www.wikidata.org/entity/Q267245'), ('tName', 'Portugal national association football team')]\n",
      "[('cName', 'Netherlands'), ('team', 'http://www.wikidata.org/entity/Q47050'), ('tName', 'Netherlands national association football team')]\n",
      "[('cName', 'New Zealand'), ('team', 'http://www.wikidata.org/entity/Q175315'), ('tName', 'New Zealand national football team')]\n",
      "[('cName', 'Paraguay'), ('team', 'http://www.wikidata.org/entity/Q172020'), ('tName', 'Paraguay national football team')]\n",
      "[('cName', 'Ecuador'), ('team', 'http://www.wikidata.org/entity/Q987584'), ('tName', 'Ecuador national football team')]\n",
      "[('cName', 'Colombia'), ('team', 'http://www.wikidata.org/entity/Q212564'), ('tName', 'Colombia national football team')]\n",
      "[('cName', 'Bolivia'), ('team', 'http://www.wikidata.org/entity/Q193386'), ('tName', 'Bolivia national football team')]\n",
      "[('cName', 'Trinidad and Tobago'), ('team', 'http://www.wikidata.org/entity/Q192149'), ('tName', 'Trinidad and Tobago national football team')]\n",
      "[('cName', 'Jamaica'), ('team', 'http://www.wikidata.org/entity/Q235399'), ('tName', 'Jamaica national association football team')]\n",
      "[('cName', 'Uruguay'), ('team', 'http://www.wikidata.org/entity/Q134916'), ('tName', 'Uruguay national football team')]\n",
      "[('cName', 'Honduras'), ('team', 'http://www.wikidata.org/entity/Q180187'), ('tName', 'Honduras national football team')]\n",
      "[('cName', 'Egypt'), ('team', 'http://www.wikidata.org/entity/Q28089'), ('tName', 'Egypt national football team')]\n",
      "[('cName', 'Haiti'), ('team', 'http://www.wikidata.org/entity/Q236006'), ('tName', 'Haiti national football team')]\n",
      "[('cName', 'El Salvador'), ('team', 'http://www.wikidata.org/entity/Q188228'), ('tName', 'El Salvador national football team')]\n",
      "[('cName', 'Iran'), ('team', 'http://www.wikidata.org/entity/Q184602'), ('tName', 'Iran national football team')]\n",
      "[('cName', 'Iraq'), ('team', 'http://www.wikidata.org/entity/Q186243'), ('tName', 'Iraq national football team')]\n",
      "[('cName', 'Costa Rica'), ('team', 'http://www.wikidata.org/entity/Q194387'), ('tName', 'Costa Rica national football team')]\n",
      "[('cName', 'Israel'), ('team', 'http://www.wikidata.org/entity/Q191406'), ('tName', 'Israel national football team')]\n",
      "[('cName', 'Kuwait'), ('team', 'http://www.wikidata.org/entity/Q206828'), ('tName', 'Kuwait national football team')]\n",
      "[('cName', 'Saudi Arabia'), ('team', 'http://www.wikidata.org/entity/Q189723'), ('tName', 'Saudi Arabia national football team')]\n",
      "[('cName', 'United Arab Emirates'), ('team', 'http://www.wikidata.org/entity/Q235910'), ('tName', 'United Arab Emirates national football team')]\n",
      "[('cName', 'South Korea'), ('team', 'http://www.wikidata.org/entity/Q543842'), ('tName', 'South Korea national football team')]\n",
      "[('cName', 'Angola'), ('team', 'http://www.wikidata.org/entity/Q192828'), ('tName', 'Angola national football team')]\n",
      "[('cName', 'Togo'), ('team', 'http://www.wikidata.org/entity/Q191595'), ('tName', 'Togo national football team')]\n",
      "[('cName', 'Tunisia'), ('team', 'http://www.wikidata.org/entity/Q27971'), ('tName', 'Tunisia national football team')]\n",
      "[('cName', 'Mexico'), ('team', 'http://www.wikidata.org/entity/Q164089'), ('tName', 'Mexico national football team')]\n",
      "[('cName', 'Democratic Republic of the Congo'), ('team', 'http://www.wikidata.org/entity/Q270080'), ('tName', 'DR Congo national football team')]\n",
      "[('cName', 'Czechoslovakia'), ('team', 'http://www.wikidata.org/entity/Q182072'), ('tName', 'Czechoslovakia national association football team')]\n",
      "[('cName', 'Dutch East Indies'), ('team', 'http://www.wikidata.org/entity/Q2535606'), ('tName', 'Dutch East Indies national football team')]\n",
      "[('cName', 'Serbia and Montenegro'), ('team', 'http://www.wikidata.org/entity/Q1131732'), ('tName', 'Serbia and Montenegro national football team')]\n"
     ]
    },
    {
     "data": {
      "text/plain": [
       "80"
      ]
     },
     "execution_count": 20,
     "metadata": {},
     "output_type": "execute_result"
    }
   ],
   "source": [
    "queryString = \"\"\"\n",
    "SELECT DISTINCT ?cName ?team ?tName WHERE { \n",
    "\n",
    "    # Search for instances of national football team connected to their country\n",
    "    ?team   wdt:P31 wd:Q6979593 ;\n",
    "            wdt:P1532 ?country .\n",
    "    \n",
    "    # Search for teams that partecipated to a FIFA World Cup Edition \n",
    "            ?worldCupEdition  wdt:P3450  wd:Q19317 ;\n",
    "                              wdt:P1923  ?team .\n",
    "                              \n",
    "    # This returns the labels\n",
    "    ?country <http://schema.org/name> ?cName .\n",
    "    ?team <http://schema.org/name> ?tName .\n",
    "    \n",
    "}\n",
    "\"\"\"\n",
    "\n",
    "print(\"Results\")\n",
    "run_query(queryString)"
   ]
  },
  {
   "cell_type": "markdown",
   "id": "9da16513-2e08-41e8-9db4-fe035f8f6bf1",
   "metadata": {},
   "source": [
    "Ok, now I have:\n",
    "* ***Italy national association football team (wd:Q676899)***\n",
    "* ***Germany national association football team (wd:Q43310)***\n",
    "* ***France national association football team (wd:Q47774)***\n",
    "\n",
    "Now, I can use the same query used for Task 4.1, but filtering the results using the just retrieved information."
   ]
  },
  {
   "cell_type": "code",
   "execution_count": 21,
   "id": "abf22211-3bd4-424b-a639-0aacb538477c",
   "metadata": {},
   "outputs": [
    {
     "name": "stdout",
     "output_type": "stream",
     "text": [
      "Results\n",
      "[('countryName', 'Germany'), ('numEditions', '18')]\n",
      "[('countryName', 'Italy'), ('numEditions', '18')]\n",
      "[('countryName', 'France'), ('numEditions', '14')]\n",
      "[('countryName', 'Spain'), ('numEditions', '14')]\n"
     ]
    },
    {
     "data": {
      "text/plain": [
       "4"
      ]
     },
     "execution_count": 21,
     "metadata": {},
     "output_type": "execute_result"
    }
   ],
   "source": [
    "queryString = \"\"\"\n",
    "SELECT ?countryName ?numEditions WHERE { \n",
    "    \n",
    "    # Connect a national football team to its country\n",
    "    ?team wdt:P1532 ?country .\n",
    "    \n",
    "    # This returns the labels\n",
    "    ?country <http://schema.org/name> ?countryName .\n",
    "    \n",
    "    # Retrieving the number of editions for each national football team\n",
    "    {   SELECT  ?team COUNT(DISTINCT ?worldCupEdition) AS ?numEditions { \n",
    "            \n",
    "            # Retrieve national football team\n",
    "            ?team wdt:P31 wd:Q6979593 .\n",
    "\n",
    "            # Retrieve teams that partecipated to a FIFA World Cup Edition \n",
    "            ?worldCupEdition  wdt:P3450  wd:Q19317 ;\n",
    "                              wdt:P1923  ?team .\n",
    "                              \n",
    "            # I want only Spain, Italy, Germany and France             \n",
    "            FILTER(?team = wd:Q42267 || ?team = wd:Q676899 || ?team = wd:Q43310 || ?team = wd:Q47774 )                  \n",
    "        }\n",
    "        GROUP BY ?team\n",
    "    }\n",
    "}\n",
    "ORDER BY DESC(?numEditions)\n",
    "\"\"\"\n",
    "\n",
    "print(\"Results\")\n",
    "run_query(queryString)"
   ]
  },
  {
   "cell_type": "markdown",
   "id": "92c9adf1-c6d6-402e-b27a-b6472e5fab95",
   "metadata": {},
   "source": [
    "#### END TASK 4.3:\n",
    "Both ***Italy (wd:Q38)*** and ***Germany (wd:Q183)*** partecipated 18 times to a ***FIFA World Cup (wd:Q19317)*** Edition."
   ]
  },
  {
   "cell_type": "markdown",
   "id": "f4e70864-ffc1-48cc-bc0c-873413a4494a",
   "metadata": {},
   "source": [
    "### Extra analytics query\n",
    "\n",
    "#### For each national football team that won FIFA World Cup at least once, show the ratio between ***# FIFA World Cup won*** and ***# FIFA World Cup partecipation***."
   ]
  },
  {
   "cell_type": "code",
   "execution_count": 22,
   "id": "9d954ab6-085d-4bf2-bfa4-98febb1e72bf",
   "metadata": {},
   "outputs": [
    {
     "name": "stdout",
     "output_type": "stream",
     "text": [
      "Results\n",
      "[('teamName', 'Brazil national football team'), ('winRate', '25')]\n",
      "[('teamName', 'Italy national association football team'), ('winRate', '22')]\n",
      "[('teamName', 'Germany national association football team'), ('winRate', '22')]\n",
      "[('teamName', 'Uruguay national football team'), ('winRate', '16')]\n",
      "[('teamName', 'France national association football team'), ('winRate', '14')]\n",
      "[('teamName', 'Argentina national football team'), ('winRate', '12')]\n",
      "[('teamName', 'England national association football team'), ('winRate', '7')]\n",
      "[('teamName', 'Spain national association football team'), ('winRate', '7')]\n"
     ]
    },
    {
     "data": {
      "text/plain": [
       "8"
      ]
     },
     "execution_count": 22,
     "metadata": {},
     "output_type": "execute_result"
    }
   ],
   "source": [
    "queryString = \"\"\"\n",
    "SELECT ?teamName (100*?numWin/?numEditions) as ?winRate  WHERE { \n",
    "    \n",
    "    # This returns the labels\n",
    "    ?team <http://schema.org/name> ?teamName .\n",
    "    \n",
    "    # Retrieving the number of participations or each national football team\n",
    "    {   SELECT ?team COUNT(DISTINCT ?worldCupEdition) AS ?numEditions { \n",
    "            \n",
    "            # Retrieve national football teams\n",
    "            ?team wdt:P31 wd:Q6979593 .\n",
    "\n",
    "            # Retrieve teams that partecipated to a FIFA World Cup Edition \n",
    "            ?worldCupEdition  wdt:P3450  wd:Q19317 ;\n",
    "                              wdt:P1923  ?team .\n",
    "        }\n",
    "        GROUP BY ?team\n",
    "    }\n",
    "    \n",
    "    # Retrieve number of win for each national football team\n",
    "    {    SELECT ?team COUNT(DISTINCT ?worldCupEdition) AS ?numWin WHERE { \n",
    "    \n",
    "            # Retrieve national football teams\n",
    "            ?team  wdt:P31 wd:Q6979593 .\n",
    "\n",
    "            # Retrive teams that won a FIFA World Cup Edition \n",
    "            ?worldCupEdition  wdt:P3450  wd:Q19317 ;\n",
    "                              wdt:P1346  ?team .\n",
    "        }\n",
    "        GROUP BY ?team \n",
    "    }\n",
    "} \n",
    "ORDER BY DESC(?winRate)\n",
    "\"\"\"\n",
    "\n",
    "print(\"Results\")\n",
    "run_query(queryString)"
   ]
  },
  {
   "cell_type": "markdown",
   "id": "797aec24-70be-4fbd-8ace-44983a232f0f",
   "metadata": {},
   "source": [
    "#### Show the total number of partecipations grouped by Continent.\n",
    "First, I need to understand how a country and a continent are connected. So I show all the properties connected to ***Spain (wd:Q29)***."
   ]
  },
  {
   "cell_type": "code",
   "execution_count": 23,
   "id": "e407a206-965e-4699-8f4e-a10fdd040160",
   "metadata": {},
   "outputs": [
    {
     "name": "stdout",
     "output_type": "stream",
     "text": [
      "Results\n",
      "[('p', 'http://www.wikidata.org/prop/direct/P5125'), ('pName', 'Wikimedia outline')]\n",
      "[('p', 'http://www.wikidata.org/prop/direct/P85'), ('pName', 'anthem')]\n",
      "[('p', 'http://www.wikidata.org/prop/direct/P122'), ('pName', 'basic form of government')]\n",
      "[('p', 'http://www.wikidata.org/prop/direct/P36'), ('pName', 'capital')]\n",
      "[('p', 'http://www.wikidata.org/prop/direct/P1740'), ('pName', 'category for films shot at this location')]\n",
      "[('p', 'http://www.wikidata.org/prop/direct/P7867'), ('pName', 'category for maps')]\n",
      "[('p', 'http://www.wikidata.org/prop/direct/P1464'), ('pName', 'category for people born here')]\n",
      "[('p', 'http://www.wikidata.org/prop/direct/P1465'), ('pName', 'category for people who died here')]\n",
      "[('p', 'http://www.wikidata.org/prop/direct/P1792'), ('pName', 'category of associated people')]\n",
      "[('p', 'http://www.wikidata.org/prop/direct/P1791'), ('pName', 'category of people buried here')]\n",
      "[('p', 'http://www.wikidata.org/prop/direct/P237'), ('pName', 'coat of arms')]\n",
      "[('p', 'http://www.wikidata.org/prop/direct/P94'), ('pName', 'coat of arms image')]\n",
      "[('p', 'http://www.wikidata.org/prop/direct/P150'), ('pName', 'contains administrative territorial entity')]\n",
      "[('p', 'http://www.wikidata.org/prop/direct/P30'), ('pName', 'continent')]\n",
      "[('p', 'http://www.wikidata.org/prop/direct/P17'), ('pName', 'country')]\n",
      "[('p', 'http://www.wikidata.org/prop/direct/P2596'), ('pName', 'culture')]\n",
      "[('p', 'http://www.wikidata.org/prop/direct/P38'), ('pName', 'currency')]\n",
      "[('p', 'http://www.wikidata.org/prop/direct/P9241'), ('pName', 'demographics of topic')]\n",
      "[('p', 'http://www.wikidata.org/prop/direct/P1343'), ('pName', 'described by source')]\n",
      "[('p', 'http://www.wikidata.org/prop/direct/P1889'), ('pName', 'different from')]\n",
      "[('p', 'http://www.wikidata.org/prop/direct/P530'), ('pName', 'diplomatic relation')]\n",
      "[('p', 'http://www.wikidata.org/prop/direct/P1622'), ('pName', 'driving side')]\n",
      "[('p', 'http://www.wikidata.org/prop/direct/P8744'), ('pName', 'economy of topic')]\n",
      "[('p', 'http://www.wikidata.org/prop/direct/P2853'), ('pName', 'electrical plug type')]\n",
      "[('p', 'http://www.wikidata.org/prop/direct/P2852'), ('pName', 'emergency telephone number')]\n",
      "[('p', 'http://www.wikidata.org/prop/direct/P172'), ('pName', 'ethnic group')]\n",
      "[('p', 'http://www.wikidata.org/prop/direct/P208'), ('pName', 'executive body')]\n",
      "[('p', 'http://www.wikidata.org/prop/direct/P163'), ('pName', 'flag')]\n",
      "[('p', 'http://www.wikidata.org/prop/direct/P41'), ('pName', 'flag image')]\n",
      "[('p', 'http://www.wikidata.org/prop/direct/P2633'), ('pName', 'geography of topic')]\n"
     ]
    },
    {
     "data": {
      "text/plain": [
       "30"
      ]
     },
     "execution_count": 23,
     "metadata": {},
     "output_type": "execute_result"
    }
   ],
   "source": [
    "queryString = \"\"\"\n",
    "SELECT DISTINCT ?p ?pName WHERE { \n",
    "\n",
    "    # Any property that connect Spain (wd:Q29) with something.\n",
    "    wd:Q29 ?p ?o.\n",
    "    \n",
    "    # This returns the labels\n",
    "    ?p <http://schema.org/name> ?pName .   \n",
    "    \n",
    "    # Exclude data properties\n",
    "    FILTER(!isLiteral(?o))\n",
    "    \n",
    "}\n",
    "ORDER BY ?pName\n",
    "LIMIT 30\n",
    "\"\"\"\n",
    "\n",
    "print(\"Results\")\n",
    "run_query(queryString)"
   ]
  },
  {
   "cell_type": "markdown",
   "id": "ad696f74-bcd2-4a58-bbcb-b797b66ba0de",
   "metadata": {},
   "source": [
    "The property ***continent (wdt:P30)*** is used to connect a Country to the corresponding Continent."
   ]
  },
  {
   "cell_type": "code",
   "execution_count": 24,
   "id": "3f07fd51-b965-49cb-ac0d-d2c6474a691e",
   "metadata": {},
   "outputs": [
    {
     "name": "stdout",
     "output_type": "stream",
     "text": [
      "Results\n",
      "[('continentName', 'Europe'), ('totPartecipationsByContinent', '223')]\n",
      "[('continentName', 'South America'), ('totPartecipationsByContinent', '80')]\n",
      "[('continentName', 'Asia'), ('totPartecipationsByContinent', '44')]\n",
      "[('continentName', 'North America'), ('totPartecipationsByContinent', '43')]\n",
      "[('continentName', 'Africa'), ('totPartecipationsByContinent', '39')]\n",
      "[('continentName', 'Insular Oceania'), ('totPartecipationsByContinent', '16')]\n",
      "[('continentName', 'Central America'), ('totPartecipationsByContinent', '10')]\n",
      "[('continentName', 'Eurasia'), ('totPartecipationsByContinent', '2')]\n"
     ]
    },
    {
     "data": {
      "text/plain": [
       "8"
      ]
     },
     "execution_count": 24,
     "metadata": {},
     "output_type": "execute_result"
    }
   ],
   "source": [
    "queryString = \"\"\"\n",
    "SELECT ?continentName SUM(?numEditions) AS ?totPartecipationsByContinent  WHERE { \n",
    "  \n",
    "    # Connect a national football team to its country\n",
    "    ?team wdt:P1532 ?country .\n",
    "    \n",
    "    # Connect a country to the continent\n",
    "    ?country wdt:P30 ?continent .\n",
    "  \n",
    "    # This returns the labels\n",
    "    ?continent <http://schema.org/name> ?continentName .\n",
    "    \n",
    "    # Retrieving the number of partecipations for each national football team\n",
    "    {   SELECT ?team COUNT(DISTINCT ?worldCupEdition) AS ?numEditions { \n",
    "            \n",
    "            # Retrieve national football teams\n",
    "            ?team wdt:P31 wd:Q6979593 .\n",
    "\n",
    "            # Retrieve teams that partecipated to a FIFA World Cup Edition \n",
    "            ?worldCupEdition  wdt:P3450  wd:Q19317 ;\n",
    "                              wdt:P1923  ?team .\n",
    "        }\n",
    "        GROUP BY ?team\n",
    "    }\n",
    "}\n",
    "GROUP BY ?continentName\n",
    "ORDER BY DESC(?totPartecipationsByContinent)\n",
    "\"\"\"\n",
    "\n",
    "print(\"Results\")\n",
    "run_query(queryString)"
   ]
  },
  {
   "cell_type": "markdown",
   "id": "686be7f6-68de-4834-8530-4df8c952dea8",
   "metadata": {},
   "source": [
    "There are some strange continents since Wikidata is not consistant when using ***continent (wd:Q5107)*** due to the different conventions to identify continents. "
   ]
  },
  {
   "cell_type": "markdown",
   "id": "b471fff0-359e-46ed-bf78-b079e935c599",
   "metadata": {},
   "source": [
    "#### Attendance at finals\n",
    "I want to discover more statistics about the finals, so I show all the properties connected to a final of the ***FIFA World Cup (wd:Q19317)***."
   ]
  },
  {
   "cell_type": "code",
   "execution_count": 25,
   "id": "eb08c15a-4f0f-4ba5-b698-48b818cec23c",
   "metadata": {},
   "outputs": [
    {
     "name": "stdout",
     "output_type": "stream",
     "text": [
      "Results\n",
      "[('p', 'http://www.wikidata.org/prop/direct/P7494'), ('pName', 'Soccerway match ID')]\n",
      "[('p', 'http://www.wikidata.org/prop/direct/P1363'), ('pName', 'points/goal scored by')]\n",
      "[('p', 'http://www.wikidata.org/prop/direct/P1652'), ('pName', 'referee')]\n",
      "[('p', 'http://www.wikidata.org/prop/direct/P7492'), ('pName', 'EU-Football.info match ID')]\n",
      "[('p', 'http://www.wikidata.org/prop/direct/P131'), ('pName', 'located in the administrative territorial entity')]\n",
      "[('p', 'http://www.wikidata.org/prop/direct/P1343'), ('pName', 'described by source')]\n",
      "[('p', 'http://www.wikidata.org/prop/direct/P1346'), ('pName', 'winner')]\n",
      "[('p', 'http://www.wikidata.org/prop/direct/P155'), ('pName', 'follows')]\n",
      "[('p', 'http://www.wikidata.org/prop/direct/P156'), ('pName', 'followed by')]\n",
      "[('p', 'http://www.wikidata.org/prop/direct/P17'), ('pName', 'country')]\n",
      "[('p', 'http://www.wikidata.org/prop/direct/P18'), ('pName', 'image')]\n",
      "[('p', 'http://www.wikidata.org/prop/direct/P1889'), ('pName', 'different from')]\n",
      "[('p', 'http://www.wikidata.org/prop/direct/P2572'), ('pName', 'hashtag')]\n",
      "[('p', 'http://www.wikidata.org/prop/direct/P2671'), ('pName', 'Google Knowledge Graph ID')]\n",
      "[('p', 'http://www.wikidata.org/prop/direct/P276'), ('pName', 'location')]\n",
      "[('p', 'http://www.wikidata.org/prop/direct/P31'), ('pName', 'instance of')]\n",
      "[('p', 'http://www.wikidata.org/prop/direct/P361'), ('pName', 'part of')]\n",
      "[('p', 'http://www.wikidata.org/prop/direct/P373'), ('pName', 'Commons category')]\n",
      "[('p', 'http://www.wikidata.org/prop/direct/P4431'), ('pName', 'Google Doodle')]\n",
      "[('p', 'http://www.wikidata.org/prop/direct/P580'), ('pName', 'start time')]\n",
      "[('p', 'http://www.wikidata.org/prop/direct/P585'), ('pName', 'point in time')]\n",
      "[('p', 'http://www.wikidata.org/prop/direct/P641'), ('pName', 'sport')]\n",
      "[('p', 'http://www.wikidata.org/prop/direct/P646'), ('pName', 'Freebase ID')]\n",
      "[('p', 'http://www.wikidata.org/prop/direct/P664'), ('pName', 'organizer')]\n",
      "[('p', 'http://www.wikidata.org/prop/direct/P6760'), ('pName', 'Know Your Meme ID')]\n",
      "[('p', 'http://www.wikidata.org/prop/direct/P710'), ('pName', 'participant')]\n",
      "[('p', 'http://www.wikidata.org/prop/direct/P793'), ('pName', 'significant event')]\n",
      "[('p', 'http://www.wikidata.org/prop/direct/P7959'), ('pName', 'historic county')]\n",
      "[('p', 'http://www.wikidata.org/prop/direct/P856'), ('pName', 'official website')]\n",
      "[('p', 'http://www.wikidata.org/prop/direct/P1110'), ('pName', 'attendance')]\n",
      "[('p', 'http://www.wikidata.org/prop/direct/P1923'), ('pName', 'participating team')]\n",
      "[('p', 'http://www.wikidata.org/prop/direct/P3279'), ('pName', 'statistical leader')]\n",
      "[('p', 'http://www.wikidata.org/prop/direct/P5436'), ('pName', 'number of viewers/listeners')]\n",
      "[('p', 'http://www.wikidata.org/prop/direct/P7455'), ('pName', 'Transfermarkt match ID')]\n",
      "[('p', 'http://www.wikidata.org/prop/direct/P7493'), ('pName', 'PlaymakerStats.com match ID')]\n",
      "[('p', 'http://www.wikidata.org/prop/direct/P5157'), ('pName', 'OnsOranje match ID')]\n"
     ]
    },
    {
     "data": {
      "text/plain": [
       "36"
      ]
     },
     "execution_count": 25,
     "metadata": {},
     "output_type": "execute_result"
    }
   ],
   "source": [
    "queryString = \"\"\"\n",
    "SELECT DISTINCT ?p ?pName WHERE { \n",
    "    \n",
    "    # Retrieve finals of a FIFA World Cup Edition \n",
    "    ?worldCupEdition  wdt:P3450  wd:Q19317 ;\n",
    "                      wdt:P3967  ?final .\n",
    "    \n",
    "    # Everything that is connected with a final of the FIFA World Cup Edition\n",
    "    ?final ?p ?o .\n",
    "     \n",
    "    # This returns the labels\n",
    "    ?p <http://schema.org/name> ?pName .\n",
    "}\n",
    "\"\"\"\n",
    "\n",
    "print(\"Results\")\n",
    "run_query(queryString)"
   ]
  },
  {
   "cell_type": "markdown",
   "id": "6d506f89-0f10-41ae-95d6-60d88ce37531",
   "metadata": {},
   "source": [
    "For example, I can now use the property ***attendance (wdt:P1110)*** to show the number of attendants of the final events."
   ]
  },
  {
   "cell_type": "code",
   "execution_count": 26,
   "id": "7c93d4d6-595c-4c8a-ac75-25ebbd00f18f",
   "metadata": {},
   "outputs": [
    {
     "name": "stdout",
     "output_type": "stream",
     "text": [
      "Results\n",
      "[('final', 'http://www.wikidata.org/entity/Q754483'), ('finalName', 'Uruguay v Brazil 1950'), ('attendance', '199854')]\n",
      "[('final', 'http://www.wikidata.org/entity/Q31043671'), ('finalName', '2018 FIFA World Cup Final'), ('attendance', '78011')]\n",
      "[('final', 'http://www.wikidata.org/entity/Q15926885'), ('finalName', '2014 FIFA World Cup Final'), ('attendance', '74738')]\n",
      "[('final', 'http://www.wikidata.org/entity/Q208401'), ('finalName', '2010 FIFA World Cup Final'), ('attendance', '84490')]\n",
      "[('final', 'http://www.wikidata.org/entity/Q268567'), ('finalName', '2006 FIFA World Cup Final'), ('attendance', '69000')]\n",
      "[('final', 'http://www.wikidata.org/entity/Q715021'), ('finalName', '2002 FIFA World Cup Final'), ('attendance', '69029')]\n",
      "[('final', 'http://www.wikidata.org/entity/Q585295'), ('finalName', '1998 FIFA World Cup Final'), ('attendance', '80000')]\n",
      "[('final', 'http://www.wikidata.org/entity/Q389104'), ('finalName', '1994 FIFA World Cup Final'), ('attendance', '94194')]\n",
      "[('final', 'http://www.wikidata.org/entity/Q3745599'), ('finalName', '1990 FIFA World Cup Final'), ('attendance', '73603')]\n",
      "[('final', 'http://www.wikidata.org/entity/Q610156'), ('finalName', '1986 FIFA World Cup Final'), ('attendance', '114600')]\n",
      "[('final', 'http://www.wikidata.org/entity/Q909551'), ('finalName', '1982 FIFA World Cup Final'), ('attendance', '90000')]\n",
      "[('final', 'http://www.wikidata.org/entity/Q858415'), ('finalName', '1978 FIFA World Cup Final'), ('attendance', '71483')]\n",
      "[('final', 'http://www.wikidata.org/entity/Q945970'), ('finalName', '1974 FIFA World Cup Final'), ('attendance', '75200')]\n",
      "[('final', 'http://www.wikidata.org/entity/Q1069912'), ('finalName', '1970 FIFA World Cup Final'), ('attendance', '107412')]\n",
      "[('final', 'http://www.wikidata.org/entity/Q1065912'), ('finalName', '1966 FIFA World Cup Final'), ('attendance', '96924')]\n",
      "[('final', 'http://www.wikidata.org/entity/Q1191064'), ('finalName', '1962 FIFA World Cup Final'), ('attendance', '68679')]\n",
      "[('final', 'http://www.wikidata.org/entity/Q1078991'), ('finalName', '1958 FIFA World Cup Final'), ('attendance', '49737')]\n",
      "[('final', 'http://www.wikidata.org/entity/Q665946'), ('finalName', '1954 FIFA World Cup Final'), ('attendance', '62500')]\n",
      "[('final', 'http://www.wikidata.org/entity/Q945575'), ('finalName', '1938 FIFA World Cup Final'), ('attendance', '45000')]\n",
      "[('final', 'http://www.wikidata.org/entity/Q945608'), ('finalName', '1934 FIFA World Cup Final'), ('attendance', '55000')]\n",
      "[('final', 'http://www.wikidata.org/entity/Q63843'), ('finalName', '1930 FIFA World Cup Final'), ('attendance', '68346')]\n"
     ]
    },
    {
     "data": {
      "text/plain": [
       "21"
      ]
     },
     "execution_count": 26,
     "metadata": {},
     "output_type": "execute_result"
    }
   ],
   "source": [
    "queryString = \"\"\"\n",
    "SELECT ?final ?finalName ?attendance WHERE { \n",
    "    \n",
    "    # Retrieve finals of a FIFA World Cup Edition \n",
    "    ?worldCupEdition  wdt:P3450  wd:Q19317 ;\n",
    "                      wdt:P3967  ?final .\n",
    "    \n",
    "    # Retrieve the attendance value of the final\n",
    "    ?final wdt:P1110 ?attendance .\n",
    "    \n",
    "    # this returns the labels\n",
    "    ?final <http://schema.org/name> ?finalName .\n",
    "}\n",
    "ORDER BY DESC(?finalName)\n",
    "\"\"\"\n",
    "\n",
    "print(\"Results\")\n",
    "run_query(queryString)"
   ]
  },
  {
   "cell_type": "markdown",
   "id": "1de0d8be-82ad-4d98-b493-6dc03da73242",
   "metadata": {},
   "source": [
    "#### Compute the averange attendance of the FIFA World Cup Finals."
   ]
  },
  {
   "cell_type": "code",
   "execution_count": 27,
   "id": "48682181-2a3a-4c72-9214-6f09fcc47a54",
   "metadata": {},
   "outputs": [
    {
     "name": "stdout",
     "output_type": "stream",
     "text": [
      "Results\n",
      "[('avgAttendance', '82276.19047619047619')]\n"
     ]
    },
    {
     "data": {
      "text/plain": [
       "1"
      ]
     },
     "execution_count": 27,
     "metadata": {},
     "output_type": "execute_result"
    }
   ],
   "source": [
    "queryString = \"\"\"\n",
    "SELECT AVG(?attendance) as ?avgAttendance WHERE { \n",
    "    \n",
    "    # Retrieve finals of a FIFA World Cup Edition \n",
    "    ?worldCupEdition  wdt:P3450  wd:Q19317 ;\n",
    "                      wdt:P3967  ?final .\n",
    "    \n",
    "    # Retrieve the attendance value of the final\n",
    "    ?final wdt:P1110 ?attendance .\n",
    "    \n",
    "    # this returns the labels\n",
    "    ?final <http://schema.org/name> ?finalName .\n",
    "}\n",
    "\"\"\"\n",
    "\n",
    "print(\"Results\")\n",
    "run_query(queryString)"
   ]
  },
  {
   "cell_type": "markdown",
   "id": "31b36359-670a-4b88-b503-8dbb4828a2e8",
   "metadata": {},
   "source": [
    "#### Show the FIFA World Cup Final with the highest attendance."
   ]
  },
  {
   "cell_type": "code",
   "execution_count": 28,
   "id": "00a7a54d-e8c9-45c5-a064-e033065cdad2",
   "metadata": {},
   "outputs": [
    {
     "name": "stdout",
     "output_type": "stream",
     "text": [
      "Results\n",
      "[('final', 'http://www.wikidata.org/entity/Q754483'), ('finalName', 'Uruguay v Brazil 1950'), ('attendance', '199854')]\n"
     ]
    },
    {
     "data": {
      "text/plain": [
       "1"
      ]
     },
     "execution_count": 28,
     "metadata": {},
     "output_type": "execute_result"
    }
   ],
   "source": [
    "queryString = \"\"\"\n",
    "SELECT ?final ?finalName ?attendance WHERE { \n",
    "    \n",
    "    # Retrieve finals of a FIFA World Cup Edition \n",
    "    ?worldCupEdition  wdt:P3450  wd:Q19317 ;\n",
    "                      wdt:P3967  ?final .\n",
    "    \n",
    "    # Retrieve the attendance value of the final\n",
    "    ?final wdt:P1110 ?attendance .\n",
    "    \n",
    "    # this returns the labels\n",
    "    ?final <http://schema.org/name> ?finalName .\n",
    "}\n",
    "ORDER BY DESC(?attendance)\n",
    "LIMIT 1\n",
    "\"\"\"\n",
    "\n",
    "print(\"Results\")\n",
    "run_query(queryString)"
   ]
  },
  {
   "cell_type": "markdown",
   "id": "b9ef4431-6eb8-49f0-ab28-2300f184afce",
   "metadata": {},
   "source": [
    "## END"
   ]
  }
 ],
 "metadata": {
  "kernelspec": {
   "display_name": "Python 3 (ipykernel)",
   "language": "python",
   "name": "python3"
  },
  "language_info": {
   "codemirror_mode": {
    "name": "ipython",
    "version": 3
   },
   "file_extension": ".py",
   "mimetype": "text/x-python",
   "name": "python",
   "nbconvert_exporter": "python",
   "pygments_lexer": "ipython3",
   "version": "3.7.10"
  }
 },
 "nbformat": 4,
 "nbformat_minor": 5
}
