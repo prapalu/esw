{
 "cells": [
  {
   "cell_type": "markdown",
   "id": "7034c3bf-6eb0-4418-8687-7b9d2a501103",
   "metadata": {},
   "source": [
    "# General instructions\n",
    "\n",
    "The goal of the project is to materialize a set of **exploratory workloads** over a real-world, large-scale,  open-domain KG: [WikiData](https://www.wikidata.org/wiki/Wikidata:Main_Page)\n",
    "\n",
    "An exploratory workload  is composed by a set of queries, where each query is related to the information obtained previously.\n",
    "\n",
    "An exploratory workload starts with a usually vague, open ended question, and does not assume the person issuing the workload has a clear understanding of the data contained in the target database or its structure.\n",
    "\n",
    "Remeber that:\n",
    "\n",
    "1. All the queries must run in the python notebook\n",
    "2. You can use classes and properties only if you find them via a SPARQL query that must be present in the notebook\n",
    "3. You do not delete useless queries. Keep everything that is synthatically valid \n",
    "\n",
    "```\n",
    "?p <http://schema.org/name> ?name .\n",
    "```\n",
    "    \n",
    "is the BGP returning a human-readable name of a property or a class in Wikidata.\n",
    "    \n",
    "    "
   ]
  },
  {
   "cell_type": "code",
   "execution_count": 1,
   "id": "3605c9d5-5371-49a5-be8d-d66e8f417139",
   "metadata": {},
   "outputs": [],
   "source": [
    "## SETUP used later\n",
    "\n",
    "from SPARQLWrapper import SPARQLWrapper, JSON\n",
    "\n",
    "\n",
    "prefixString = \"\"\"\n",
    "##-674433840b-##\n",
    "PREFIX wd: <http://www.wikidata.org/entity/> \n",
    "PREFIX wdt: <http://www.wikidata.org/prop/direct/> \n",
    "PREFIX sc: <http://schema.org/>\n",
    "\"\"\"\n",
    "\n",
    "# select and construct queries\n",
    "def run_query(queryString):\n",
    "    to_run = prefixString + \"\\n\" + queryString\n",
    "\n",
    "    sparql = SPARQLWrapper(\"http://a256-gc1-02.srv.aau.dk:5820/sparql\")\n",
    "    sparql.setTimeout(300)\n",
    "    sparql.setReturnFormat(JSON)\n",
    "    sparql.setQuery(to_run)\n",
    "\n",
    "    try :\n",
    "       results = sparql.query()\n",
    "       json_results = results.convert()\n",
    "       if len(json_results['results']['bindings'])==0:\n",
    "          print(\"Empty\")\n",
    "          return 0\n",
    "    \n",
    "       for bindings in json_results['results']['bindings']:\n",
    "          print( [ (var, value['value'])  for var, value in bindings.items() ] )\n",
    "\n",
    "       return len(json_results['results']['bindings'])\n",
    "\n",
    "    except Exception as e :\n",
    "        print(\"The operation failed\", e)\n",
    "    \n",
    "# ASk queries\n",
    "def run_ask_query(queryString):\n",
    "    to_run = prefixString + \"\\n\" + queryString\n",
    "\n",
    "    sparql = SPARQLWrapper(\"http://a256-gc1-02.srv.aau.dk:5820/sparql\")\n",
    "    sparql.setTimeout(300)\n",
    "    sparql.setReturnFormat(JSON)\n",
    "    sparql.setQuery(to_run)\n",
    "\n",
    "    try :\n",
    "        return sparql.query().convert()\n",
    "\n",
    "    except Exception as e :\n",
    "        print(\"The operation failed\", e)\n"
   ]
  },
  {
   "cell_type": "markdown",
   "id": "d477a59c-a68c-4c8f-9f97-8ca5294d7d27",
   "metadata": {},
   "source": [
    "# GEO Workflow Series (\"European Cathedrals\") \n",
    "\n",
    "Consider the following exploratory information need:\n",
    "\n",
    "> Explore how many cathedrals exists in the U.K., Italy, and France and the information about them"
   ]
  },
  {
   "cell_type": "markdown",
   "id": "4a45c0ba-f79e-441d-bec5-84401b09db70",
   "metadata": {},
   "source": [
    "## Useful URIs for the current workflow\n",
    "\n",
    "\n",
    "The following are given:\n",
    "\n",
    "| IRI           | Description   | Role      |\n",
    "| -----------   | -----------   |-----------|\n",
    "| `wdt:P1647`   | subproperty   | predicate |\n",
    "| `wdt:P31`     | instance of   | predicate |\n",
    "| `wdt:P279`    | subclass      | predicate |\n",
    "| `wdt:P106`    | occupation    | predicate |\n",
    "| `wdt:P17`     | country   | predicate |\n",
    "| `wd:Q2977`    | Cathedral     | node      |\n",
    "| `wd:Q29265`   | Canterbury Cathedral   | node |\n",
    "| `wd:Q38`      | Italy         | node |\n",
    "| `wd:Q142`     | France        | node |\n",
    "| `wd:Q145`     | U.K.          | node |\n",
    "| `wd:Q46261`   | Romanesque architecture | node |\n",
    "\n",
    "\n",
    "Also consider\n",
    "\n",
    "```\n",
    "?p wdt:P17 wd:Q142  . \n",
    "?p wdt:P31 wd:Q2977  . \n",
    "```\n",
    "\n",
    "is the BGP to retrieve all **French cathedrals**"
   ]
  },
  {
   "cell_type": "markdown",
   "id": "7af439fb-96e4-4dbb-a381-f19afab79f86",
   "metadata": {
    "tags": []
   },
   "source": [
    "## Workload Goals\n",
    "\n",
    "1. Identify the BGP to obtain relevant attributes of a cathedral, e.g., the inception or the height\n",
    "\n",
    "2. Identify the BGP that connect each cathedreal to other relevant entities, e.g., architectural style and city\n",
    "\n",
    "3. Which country hosts the largest number of cathedrals?\n",
    "\n",
    "4. Analyze cathedrals across architectural styles in each city\n",
    " \n",
    "   4.1 Which styles exists in each country, and how many cathedrals for each one?\n",
    "   \n",
    "   4.2 where is the largest cathedral, or the oldest?\n",
    "   \n",
    "   4.3 If you had to pick a city or a country to visit some cathedrals? Which one would you choose?  Based on what criteria?\n"
   ]
  },
  {
   "cell_type": "code",
   "execution_count": 2,
   "id": "24a853ab-830c-422c-afd3-e9e015b8b8ed",
   "metadata": {},
   "outputs": [],
   "source": [
    "# start your workflow here"
   ]
  },
  {
   "cell_type": "code",
   "execution_count": 3,
   "id": "ade01416-92e7-4ad7-b9a9-b8fb330750dc",
   "metadata": {},
   "outputs": [
    {
     "name": "stdout",
     "output_type": "stream",
     "text": [
      "Results\n",
      "[('callret-0', '87')]\n"
     ]
    },
    {
     "data": {
      "text/plain": [
       "1"
      ]
     },
     "execution_count": 3,
     "metadata": {},
     "output_type": "execute_result"
    }
   ],
   "source": [
    "queryString = \"\"\"\n",
    "SELECT COUNT(*)\n",
    "WHERE { \n",
    "\n",
    "?p wdt:P17 wd:Q142  . \n",
    "?p wdt:P31 wd:Q2977  . \n",
    "\n",
    "} \n",
    "\"\"\"\n",
    "\n",
    "print(\"Results\")\n",
    "run_query(queryString)"
   ]
  },
  {
   "cell_type": "markdown",
   "id": "f480ce1a-6611-4874-a64e-38a6fddf0494",
   "metadata": {},
   "source": [
    "## Part 1\n",
    "### Identify the BGP to obtain relevant attributes of a cathedral, e.g., the inception or the height"
   ]
  },
  {
   "cell_type": "markdown",
   "id": "8c127845-ba7f-4984-817c-ce442092e36a",
   "metadata": {},
   "source": [
    "### Find information about wd:Q29265 Canterbury Cathedral"
   ]
  },
  {
   "cell_type": "code",
   "execution_count": 4,
   "id": "eeea1b67-fe9b-4c04-9518-065152383769",
   "metadata": {
    "collapsed": true,
    "jupyter": {
     "outputs_hidden": true
    },
    "tags": []
   },
   "outputs": [
    {
     "name": "stdout",
     "output_type": "stream",
     "text": [
      "Results\n",
      "[('p', 'http://schema.org/name'), ('o', 'Canterbury Cathedral')]\n",
      "[('p', 'http://www.w3.org/1999/02/22-rdf-syntax-ns#type'), ('o', 'http://wikiba.se/ontology#Item')]\n",
      "[('p', 'http://www.wikidata.org/prop/direct-normalized/P1004'), ('o', 'http://musicbrainz.org/place/b88cb98c-a4f8-45a1-973c-567e995c311f')]\n",
      "[('p', 'http://www.wikidata.org/prop/direct-normalized/P1015'), ('o', 'https://livedata.bibsys.no/authority/90549142')]\n",
      "[('p', 'http://www.wikidata.org/prop/direct-normalized/P1566'), ('o', 'http://sws.geonames.org/6619924/')]\n",
      "[('p', 'http://www.wikidata.org/prop/direct-normalized/P1667'), ('o', 'http://vocab.getty.edu/tgn/1100072')]\n",
      "[('p', 'http://www.wikidata.org/prop/direct-normalized/P214'), ('o', 'http://viaf.org/viaf/122308660')]\n",
      "[('p', 'http://www.wikidata.org/prop/direct-normalized/P2163'), ('o', 'http://id.worldcat.org/fast/550506')]\n",
      "[('p', 'http://www.wikidata.org/prop/direct-normalized/P227'), ('o', 'https://d-nb.info/gnd/4069841-5')]\n",
      "[('p', 'http://www.wikidata.org/prop/direct-normalized/P227'), ('o', 'https://d-nb.info/gnd/803657-3')]\n",
      "[('p', 'http://www.wikidata.org/prop/direct-normalized/P244'), ('o', 'https://id.loc.gov/authorities/names/n80138228')]\n",
      "[('p', 'http://www.wikidata.org/prop/direct-normalized/P646'), ('o', 'http://g.co/kg/m/0jmv3')]\n",
      "[('pName', 'A Church Near You church ID'), ('p', 'http://www.wikidata.org/prop/direct/P5464'), ('o', '11878')]\n",
      "[('pName', 'ARCHON code'), ('p', 'http://www.wikidata.org/prop/direct/P3642'), ('o', '54')]\n",
      "[('pName', 'Atlas Obscura identifier'), ('p', 'http://www.wikidata.org/prop/direct/P7772'), ('o', 'the-great-cloister-and-chapter-house-of-canterbury-cathedral-canterbury-england')]\n",
      "[('pName', 'Babelio author ID'), ('p', 'http://www.wikidata.org/prop/direct/P3630'), ('o', '306629')]\n",
      "[('pName', 'Commons Institution page'), ('p', 'http://www.wikidata.org/prop/direct/P1612'), ('o', 'Cathedral, Canterbury')]\n",
      "[('pName', 'Commons category'), ('p', 'http://www.wikidata.org/prop/direct/P373'), ('o', 'Canterbury Cathedral')]\n",
      "[('pName', 'Commons gallery'), ('p', 'http://www.wikidata.org/prop/direct/P935'), ('o', 'Canterbury Cathedral')]\n",
      "[('pName', 'Cultureel Woordenboek ID'), ('p', 'http://www.wikidata.org/prop/direct/P3569'), ('o', 'gebouwd-erfgoed/engeland-kathedraal-van-canterbury')]\n",
      "[('pName', 'EMLO location ID'), ('p', 'http://www.wikidata.org/prop/direct/P4672'), ('o', '048cd100-4863-4d1d-8fb0-2e6424c39f99')]\n",
      "[('pName', 'Emporis building ID'), ('p', 'http://www.wikidata.org/prop/direct/P455'), ('o', '123483')]\n",
      "[('pName', 'Encyclopædia Britannica Online ID'), ('p', 'http://www.wikidata.org/prop/direct/P1417'), ('o', 'topic/Canterbury-Cathedral')]\n",
      "[('pName', 'FAST ID'), ('p', 'http://www.wikidata.org/prop/direct/P2163'), ('o', '550506')]\n",
      "[('pName', 'Freebase ID'), ('p', 'http://www.wikidata.org/prop/direct/P646'), ('o', '/m/0jmv3')]\n",
      "[('pName', 'GND ID'), ('p', 'http://www.wikidata.org/prop/direct/P227'), ('o', '4069841-5')]\n",
      "[('pName', 'GND ID'), ('p', 'http://www.wikidata.org/prop/direct/P227'), ('o', '803657-3')]\n",
      "[('pName', 'GeoNames ID'), ('p', 'http://www.wikidata.org/prop/direct/P1566'), ('o', '6619924')]\n",
      "[('pName', 'Getty Thesaurus of Geographic Names ID'), ('p', 'http://www.wikidata.org/prop/direct/P1667'), ('o', '1100072')]\n",
      "[('pName', 'ISNI'), ('p', 'http://www.wikidata.org/prop/direct/P213'), ('o', '0000 0001 1094 314X')]\n",
      "[('pName', 'ISNI'), ('p', 'http://www.wikidata.org/prop/direct/P213'), ('o', '0000 0004 0385 8272')]\n",
      "[('pName', 'Libraries Australia ID'), ('p', 'http://www.wikidata.org/prop/direct/P409'), ('o', '35827061')]\n",
      "[('pName', 'Library of Congress authority ID'), ('p', 'http://www.wikidata.org/prop/direct/P244'), ('o', 'n80138228')]\n",
      "[('pName', 'MusicBrainz place ID'), ('p', 'http://www.wikidata.org/prop/direct/P1004'), ('o', 'b88cb98c-a4f8-45a1-973c-567e995c311f')]\n",
      "[('pName', 'NKCR AUT ID'), ('p', 'http://www.wikidata.org/prop/direct/P691'), ('o', 'kn20040209007')]\n",
      "[('pName', 'NLA Trove ID'), ('p', 'http://www.wikidata.org/prop/direct/P1315'), ('o', '1105568')]\n",
      "[('pName', 'NORAF ID'), ('p', 'http://www.wikidata.org/prop/direct/P1015'), ('o', '90549142')]\n",
      "[('pName', 'National Heritage List for England number'), ('p', 'http://www.wikidata.org/prop/direct/P1216'), ('o', '1336823')]\n",
      "[('pName', 'National Library of Israel ID'), ('p', 'http://www.wikidata.org/prop/direct/P949'), ('o', '000208669')]\n",
      "[('pName', 'National Record of the Historic Environment ID'), ('p', 'http://www.wikidata.org/prop/direct/P4117'), ('o', '464467')]\n",
      "[('pName', 'OS grid reference'), ('p', 'http://www.wikidata.org/prop/direct/P613'), ('o', 'TR1508457922')]\n",
      "[('pName', 'Quora topic ID'), ('p', 'http://www.wikidata.org/prop/direct/P3417'), ('o', 'Canterbury-Cathedral')]\n",
      "[('pName', 'Ringgold ID'), ('p', 'http://www.wikidata.org/prop/direct/P3500'), ('o', '2242')]\n",
      "[('pName', 'SNAC ARK ID'), ('p', 'http://www.wikidata.org/prop/direct/P3430'), ('o', 'w6gv0k7z')]\n",
      "[('pName', 'Schoenberg Database of Manuscripts name ID'), ('p', 'http://www.wikidata.org/prop/direct/P9756'), ('o', '11485')]\n",
      "[('pName', 'Schoenberg Database of Manuscripts place ID'), ('p', 'http://www.wikidata.org/prop/direct/P9757'), ('o', '3953')]\n",
      "[('pName', 'Structurae structure ID'), ('p', 'http://www.wikidata.org/prop/direct/P454'), ('o', '20000277')]\n",
      "[('pName', 'Twitter username'), ('p', 'http://www.wikidata.org/prop/direct/P2002'), ('o', 'No1Cathedral')]\n",
      "[('pName', 'VIAF ID'), ('p', 'http://www.wikidata.org/prop/direct/P214'), ('o', '122308660')]\n",
      "[('pName', 'Vatican Library ID (former scheme)'), ('p', 'http://www.wikidata.org/prop/direct/P1017'), ('o', 'ADV10161649')]\n",
      "[('pName', 'Vatican Library VcBA ID'), ('p', 'http://www.wikidata.org/prop/direct/P8034'), ('o', '494/2064')]\n",
      "[('pName', 'World Heritage Site ID'), ('p', 'http://www.wikidata.org/prop/direct/P757'), ('o', '496-001')]\n",
      "[('pName', 'World Heritage criteria'), ('oName', 'World Heritage selection criterion (i)'), ('p', 'http://www.wikidata.org/prop/direct/P2614'), ('o', 'http://www.wikidata.org/entity/Q23038972')]\n",
      "[('pName', 'World Heritage criteria'), ('oName', 'World Heritage selection criterion (vi)'), ('p', 'http://www.wikidata.org/prop/direct/P2614'), ('o', 'http://www.wikidata.org/entity/Q23038980')]\n",
      "[('pName', 'World Heritage criteria'), ('oName', 'World Heritage selection criterion (ii)'), ('p', 'http://www.wikidata.org/prop/direct/P2614'), ('o', 'http://www.wikidata.org/entity/Q23038976')]\n",
      "[('pName', 'WorldCat Identities ID'), ('p', 'http://www.wikidata.org/prop/direct/P7859'), ('o', 'lccn-n80138228')]\n",
      "[('pName', 'archINFORM project ID'), ('p', 'http://www.wikidata.org/prop/direct/P5383'), ('o', '5011')]\n",
      "[('pName', 'architect'), ('oName', 'William of Sens'), ('p', 'http://www.wikidata.org/prop/direct/P84'), ('o', 'http://www.wikidata.org/entity/Q2544172')]\n",
      "[('pName', 'architect'), ('oName', 'William the Englishman'), ('p', 'http://www.wikidata.org/prop/direct/P84'), ('o', 'http://www.wikidata.org/entity/Q8020916')]\n",
      "[('pName', 'architectural style'), ('oName', 'Gothic art'), ('p', 'http://www.wikidata.org/prop/direct/P149'), ('o', 'http://www.wikidata.org/entity/Q46825')]\n",
      "[('pName', 'architectural style'), ('oName', 'Romanesque architecture'), ('p', 'http://www.wikidata.org/prop/direct/P149'), ('o', 'http://www.wikidata.org/entity/Q46261')]\n",
      "[('pName', 'architectural style'), ('oName', 'Norman architecture'), ('p', 'http://www.wikidata.org/prop/direct/P149'), ('o', 'http://www.wikidata.org/entity/Q136693')]\n",
      "[('pName', 'architectural style'), ('oName', 'English Gothic architecture'), ('p', 'http://www.wikidata.org/prop/direct/P149'), ('o', 'http://www.wikidata.org/entity/Q750752')]\n",
      "[('pName', 'archives at'), ('oName', 'Canterbury Cathedral'), ('p', 'http://www.wikidata.org/prop/direct/P485'), ('o', 'http://www.wikidata.org/entity/Q29265')]\n",
      "[('pName', 'area'), ('p', 'http://www.wikidata.org/prop/direct/P2046'), ('o', '9.15')]\n",
      "[('pName', 'category for the exterior of the item'), ('oName', 'Category:Exterior of Canterbury Cathedral'), ('p', 'http://www.wikidata.org/prop/direct/P8596'), ('o', 'http://www.wikidata.org/entity/Q104580451')]\n",
      "[('pName', 'category of people buried here'), ('oName', 'Category:Burials at Canterbury Cathedral'), ('p', 'http://www.wikidata.org/prop/direct/P1791'), ('o', 'http://www.wikidata.org/entity/Q8327935')]\n",
      "[('pName', 'contains'), ('oName', 'HMS Kent Memorial, Canterbury'), ('p', 'http://www.wikidata.org/prop/direct/P4330'), ('o', 'http://www.wikidata.org/entity/Q94074085')]\n",
      "[('pName', 'contains'), ('oName', '9th Lancers WWI Memorial, Canterbury'), ('p', 'http://www.wikidata.org/prop/direct/P4330'), ('o', 'http://www.wikidata.org/entity/Q94388166')]\n",
      "[('pName', 'contains'), ('oName', 'Kent Cyclist Battalions Memorial, Canterbury'), ('p', 'http://www.wikidata.org/prop/direct/P4330'), ('o', 'http://www.wikidata.org/entity/Q94079200')]\n",
      "[('pName', 'country'), ('oName', 'United Kingdom'), ('p', 'http://www.wikidata.org/prop/direct/P17'), ('o', 'http://www.wikidata.org/entity/Q145')]\n",
      "[('pName', 'dedicated to'), ('oName', 'Jesus'), ('p', 'http://www.wikidata.org/prop/direct/P825'), ('o', 'http://www.wikidata.org/entity/Q302')]\n",
      "[('pName', 'described by source'), ('oName', 'Encyclopædia Britannica 11th edition'), ('p', 'http://www.wikidata.org/prop/direct/P1343'), ('o', 'http://www.wikidata.org/entity/Q867541')]\n",
      "[('pName', 'diocese'), ('oName', 'Diocese of Canterbury'), ('p', 'http://www.wikidata.org/prop/direct/P708'), ('o', 'http://www.wikidata.org/entity/Q2066595')]\n",
      "[('pName', 'has part'), ('oName', \"Warriors' Chapel, Canterbury Cathedral\"), ('p', 'http://www.wikidata.org/prop/direct/P527'), ('o', 'http://www.wikidata.org/entity/Q94082935')]\n",
      "[('pName', 'height'), ('p', 'http://www.wikidata.org/prop/direct/P2048'), ('o', '72')]\n",
      "[('pName', 'heritage designation'), ('oName', 'part of UNESCO World Heritage Site'), ('p', 'http://www.wikidata.org/prop/direct/P1435'), ('o', 'http://www.wikidata.org/entity/Q43113623')]\n",
      "[('pName', 'heritage designation'), ('oName', 'Grade I listed building'), ('p', 'http://www.wikidata.org/prop/direct/P1435'), ('o', 'http://www.wikidata.org/entity/Q15700818')]\n",
      "[('pName', 'historic county'), ('oName', 'Kent'), ('p', 'http://www.wikidata.org/prop/direct/P7959'), ('o', 'http://www.wikidata.org/entity/Q67479626')]\n",
      "[('pName', 'image'), ('p', 'http://www.wikidata.org/prop/direct/P18'), ('o', 'http://commons.wikimedia.org/wiki/Special:FilePath/Canterbury%20Cathedral%20-%20Portal%20Nave%20Cross-spire.jpeg')]\n",
      "[('pName', 'image of interior'), ('p', 'http://www.wikidata.org/prop/direct/P5775'), ('o', 'http://commons.wikimedia.org/wiki/Special:FilePath/Canterbury%20Cathedral%20nave.jpg')]\n",
      "[('pName', 'inception'), ('p', 'http://www.wikidata.org/prop/direct/P571'), ('o', '0597-01-01T00:00:00Z')]\n",
      "[('pName', 'inception'), ('p', 'http://www.wikidata.org/prop/direct/P571'), ('o', '0601-01-01T00:00:00Z')]\n",
      "[('pName', 'instance of'), ('oName', 'anglican or episcopal cathedral'), ('p', 'http://www.wikidata.org/prop/direct/P31'), ('o', 'http://www.wikidata.org/entity/Q56242250')]\n",
      "[('pName', 'length'), ('p', 'http://www.wikidata.org/prop/direct/P2043'), ('o', '157')]\n",
      "[('pName', 'located in the administrative territorial entity'), ('oName', 'Canterbury'), ('p', 'http://www.wikidata.org/prop/direct/P131'), ('o', 'http://www.wikidata.org/entity/Q1094104')]\n",
      "[('pName', 'located in the administrative territorial entity'), ('oName', 'Canterbury'), ('p', 'http://www.wikidata.org/prop/direct/P131'), ('o', 'http://www.wikidata.org/entity/Q29303')]\n",
      "[('pName', 'made from material'), ('oName', 'stone'), ('p', 'http://www.wikidata.org/prop/direct/P186'), ('o', 'http://www.wikidata.org/entity/Q22731')]\n",
      "[('pName', 'named after'), ('oName', 'Peter'), ('p', 'http://www.wikidata.org/prop/direct/P138'), ('o', 'http://www.wikidata.org/entity/Q33923')]\n",
      "[('pName', 'native label'), ('p', 'http://www.wikidata.org/prop/direct/P1705'), ('o', 'Canterbury Cathedral')]\n",
      "[('pName', 'nighttime view'), ('p', 'http://www.wikidata.org/prop/direct/P3451'), ('o', 'http://commons.wikimedia.org/wiki/Special:FilePath/Canterbury%20Cathedral%20night%20%284901962967%29.jpg')]\n",
      "[('pName', 'official website'), ('p', 'http://www.wikidata.org/prop/direct/P856'), ('o', 'http://www.canterbury-cathedral.org')]\n",
      "[('pName', 'owner of'), ('oName', 'Lyghfield Bible'), ('p', 'http://www.wikidata.org/prop/direct/P1830'), ('o', 'http://www.wikidata.org/entity/Q55889879')]\n",
      "[('pName', 'part of'), ('oName', \"Canterbury Cathedral, St Augustine's Abbey, and St Martin's Church\"), ('p', 'http://www.wikidata.org/prop/direct/P361'), ('o', 'http://www.wikidata.org/entity/Q15924897')]\n",
      "[('pName', 'plan view image'), ('p', 'http://www.wikidata.org/prop/direct/P3311'), ('o', 'http://commons.wikimedia.org/wiki/Special:FilePath/Canterbury%20cathedral%20plan.jpg')]\n",
      "[('pName', 'religion'), ('oName', 'Anglicanism'), ('p', 'http://www.wikidata.org/prop/direct/P140'), ('o', 'http://www.wikidata.org/entity/Q6423963')]\n",
      "[('pName', 'replaces'), ('oName', 'Christ Church Cathedral Priory'), ('p', 'http://www.wikidata.org/prop/direct/P1365'), ('o', 'http://www.wikidata.org/entity/Q46098131')]\n",
      "[('pName', 'social media followers'), ('p', 'http://www.wikidata.org/prop/direct/P8687'), ('o', '16137')]\n",
      "[('pName', \"topic's main category\"), ('oName', 'Category:Canterbury Cathedral'), ('p', 'http://www.wikidata.org/prop/direct/P910'), ('o', 'http://www.wikidata.org/entity/Q8342332')]\n",
      "[('pName', 'use'), ('oName', 'place of worship'), ('p', 'http://www.wikidata.org/prop/direct/P366'), ('o', 'http://www.wikidata.org/entity/Q1370598')]\n"
     ]
    },
    {
     "data": {
      "text/plain": [
       "100"
      ]
     },
     "execution_count": 4,
     "metadata": {},
     "output_type": "execute_result"
    }
   ],
   "source": [
    "queryString = \"\"\"\n",
    "SELECT DISTINCT ?pName ?oName ?p ?o\n",
    "WHERE { \n",
    "    wd:Q29265 ?p ?o .\n",
    "    OPTIONAL { ?p sc:name ?pName .}\n",
    "    OPTIONAL { ?o sc:name ?oName .}   \n",
    "} ORDER BY ?pName ?p\n",
    "\n",
    "\"\"\"\n",
    "\n",
    "print(\"Results\")\n",
    "run_query(queryString)"
   ]
  },
  {
   "cell_type": "markdown",
   "id": "f2bee356-e232-4cd2-8edb-cb3a5bff0b85",
   "metadata": {},
   "source": [
    "### Identify the BGP to obtain relevant attributes of a cathedrals\n",
    "[('pName', 'height'), ('p', 'http://www.wikidata.org/prop/direct/P2048'), ('o', '72')]\n",
    "\n",
    "[('pName', 'inception'), ('p', 'http://www.wikidata.org/prop/direct/P571'), ('o', '0597-01-01T00:00:00Z')]\n",
    "\n",
    "[('pName', 'country'), ('oName', 'United Kingdom'), ('p', 'http://www.wikidata.org/prop/direct/P17'),"
   ]
  },
  {
   "cell_type": "code",
   "execution_count": 5,
   "id": "c6dea6c0-7e4e-46a6-982c-452b38a606e1",
   "metadata": {},
   "outputs": [
    {
     "name": "stdout",
     "output_type": "stream",
     "text": [
      "Results\n",
      "[('cathName', 'Turku Cathedral'), ('countryName', 'Finland'), ('height', '10190'), ('costructionYear', '1300')]\n",
      "[('cathName', 'Cathedral of Saint Paul, National Shrine of the Apostle Paul'), ('countryName', 'United States of America'), ('height', '306.5'), ('costructionYear', '1906')]\n",
      "[('cathName', 'New Cathedral, Linz'), ('countryName', 'Austria'), ('height', '134.7'), ('costructionYear', '1862')]\n",
      "[('cathName', 'Cathedral of Maringá'), ('countryName', 'Brazil'), ('height', '124'), ('costructionYear', '1972')]\n",
      "[('cathName', 'Freiburg Minster'), ('countryName', 'Germany'), ('height', '116'), ('costructionYear', '1200')]\n",
      "[('cathName', 'Florence Cathedral'), ('countryName', 'Italy'), ('height', '114.5'), ('costructionYear', '1296')]\n",
      "[('cathName', 'Cathedral Basilica of St. James the Apostle'), ('countryName', 'Poland'), ('height', '110.18'), ('costructionYear', '1101')]\n",
      "[('cathName', 'Archcathedral Basilica of St. Stanislaus Kostka, Łódź'), ('countryName', 'Poland'), ('height', '104.5'), ('costructionYear', '1912')]\n",
      "[('cathName', 'Cathedral of Magdeburg'), ('countryName', 'Germany'), ('height', '104'), ('costructionYear', '1201')]\n",
      "[('cathName', 'Wrocław Cathedral'), ('countryName', 'Poland'), ('height', '98'), ('costructionYear', '1244')]\n",
      "[('cathName', 'St. Nicholas Cathedral, Elbląg'), ('countryName', 'Poland'), ('height', '97'), ('costructionYear', '1201')]\n",
      "[('cathName', 'Paderborn Cathedral'), ('countryName', 'Germany'), ('height', '93'), ('costructionYear', '1270')]\n",
      "[('cathName', 'Sé Cathedral'), ('countryName', 'Brazil'), ('height', '92'), ('costructionYear', '1913')]\n",
      "[('cathName', 'Riga Cathedral'), ('countryName', 'Latvia'), ('height', '90'), ('costructionYear', '1201')]\n",
      "[('cathName', 'Katholische Hofkirche'), ('countryName', 'Germany'), ('height', '86'), ('costructionYear', '1800')]\n",
      "[('cathName', \"St. Christopher's Cathedral\"), ('countryName', 'Netherlands'), ('height', '85'), ('costructionYear', '1410')]\n",
      "[('cathName', 'Cathedral of St Peter, Bautzen'), ('countryName', 'Germany'), ('height', '83.7'), ('costructionYear', '1213')]\n",
      "[('cathName', 'Tournai Cathedral'), ('countryName', 'Belgium'), ('height', '83'), ('costructionYear', '1101')]\n",
      "[('cathName', 'Shrine of the Virgin of the Rosary of Pompei'), ('countryName', 'Italy'), ('height', '80'), ('costructionYear', '1901')]\n",
      "[('cathName', 'Cathedral Basilica of the Holy Family, Częstochowa'), ('countryName', 'Poland'), ('height', '80'), ('costructionYear', '1927')]\n"
     ]
    },
    {
     "data": {
      "text/plain": [
       "20"
      ]
     },
     "execution_count": 5,
     "metadata": {},
     "output_type": "execute_result"
    }
   ],
   "source": [
    "queryString = \"\"\"\n",
    "SELECT DISTINCT ?cathName ?countryName ?height ?costructionYear\n",
    "WHERE { \n",
    "    ?cath wdt:P31 wd:Q2977 ;\n",
    "          wdt:P2048 ?height ;\n",
    "          wdt:P571 ?inception ;\n",
    "          wdt:P17 ?country ;\n",
    "          sc:name ?cathName .\n",
    "    BIND(year(xsd:dateTime(?inception)) AS ?costructionYear)\n",
    "    ?country sc:name ?countryName .\n",
    "}\n",
    "ORDER BY DESC(?height)\n",
    "LIMIT 20\n",
    "\"\"\"\n",
    "\n",
    "print(\"Results\")\n",
    "run_query(queryString)"
   ]
  },
  {
   "cell_type": "markdown",
   "id": "751c8bf9-46e3-4f16-9698-d7f1f07e3bdb",
   "metadata": {},
   "source": [
    "### Result part 1\n",
    "I decided to order the cathedrals based on their height... it is clear that the first one has a wrong data about its height."
   ]
  },
  {
   "cell_type": "markdown",
   "id": "640d3b06",
   "metadata": {},
   "source": [
    "### Find more informations about wrong data: \n",
    "### See cathedrals with wrong height"
   ]
  },
  {
   "cell_type": "code",
   "execution_count": 6,
   "id": "f99a8ff3",
   "metadata": {},
   "outputs": [
    {
     "name": "stdout",
     "output_type": "stream",
     "text": [
      "Results\n",
      "[('cathName', 'Turku Cathedral'), ('countryName', 'Finland'), ('height', '10190'), ('costructionYear', '1300')]\n",
      "[('cathName', 'Cathedral of Saint Paul, National Shrine of the Apostle Paul'), ('countryName', 'United States of America'), ('height', '306.5'), ('costructionYear', '1906')]\n"
     ]
    },
    {
     "data": {
      "text/plain": [
       "2"
      ]
     },
     "execution_count": 6,
     "metadata": {},
     "output_type": "execute_result"
    }
   ],
   "source": [
    "queryString = \"\"\"\n",
    "SELECT DISTINCT ?cathName ?countryName ?height ?costructionYear\n",
    "WHERE { \n",
    "    ?cath wdt:P31 wd:Q2977 ;\n",
    "          wdt:P2048 ?height ;\n",
    "          wdt:P571 ?inception ;\n",
    "          wdt:P17 ?country ;\n",
    "          sc:name ?cathName .\n",
    "    BIND(year(xsd:dateTime(?inception)) AS ?costructionYear)\n",
    "    ?country sc:name ?countryName .\n",
    "\n",
    "    FILTER (?height > 200)\n",
    "}\n",
    "ORDER BY DESC(?height)\n",
    "LIMIT 20\n",
    "\"\"\"\n",
    "\n",
    "print(\"Results\")\n",
    "run_query(queryString)"
   ]
  },
  {
   "cell_type": "markdown",
   "id": "ee5a0b47",
   "metadata": {},
   "source": [
    "### Verify if ?height data is stored as literal"
   ]
  },
  {
   "cell_type": "code",
   "execution_count": 7,
   "id": "4024f96a",
   "metadata": {},
   "outputs": [
    {
     "name": "stdout",
     "output_type": "stream",
     "text": [
      "Results\n"
     ]
    },
    {
     "data": {
      "text/plain": [
       "{'head': {'link': []}, 'boolean': True}"
      ]
     },
     "execution_count": 7,
     "metadata": {},
     "output_type": "execute_result"
    }
   ],
   "source": [
    "queryString = \"\"\"\n",
    "ASK WHERE { \n",
    "    ?cath wdt:P31 wd:Q2977 ;\n",
    "          wdt:P2048 ?height ;\n",
    "          wdt:P571 ?inception ;\n",
    "          wdt:P17 ?country ;\n",
    "          sc:name ?cathName .\n",
    "    BIND(year(xsd:dateTime(?inception)) AS ?costructionYear)\n",
    "    ?country sc:name ?countryName .\n",
    "\n",
    "    FILTER isLiteral(?height)\n",
    "}\n",
    "\"\"\"\n",
    "\n",
    "print(\"Results\")\n",
    "run_ask_query(queryString)"
   ]
  },
  {
   "cell_type": "markdown",
   "id": "f4ad9e3c",
   "metadata": {},
   "source": [
    "### Conclusion of wrong height data\n",
    "Height data are stored as literal so we are not able to detect the unit of measurement... the Turku Cathedral has surely a wrong data but Cathedral of Saint Paul, National Shrine of the Apostle Paul could have a correct height data but expressed in feet and not in meters."
   ]
  },
  {
   "cell_type": "markdown",
   "id": "5c676c28-a777-40c2-a969-e7dc2a72fd4f",
   "metadata": {
    "tags": []
   },
   "source": [
    "## Part 2\n",
    "### Identify the BGP that connect each cathedreal to other relevant entities, e.g., architectural style and city\n",
    "\n",
    "Examples\n",
    "[('pName', 'architectural style'), ('oName', 'Gothic art'), ('p', 'http://www.wikidata.org/prop/direct/P149'), ('o', 'http://www.wikidata.org/entity/Q46825')]\n",
    "\n",
    "[('pName', 'located in the administrative territorial entity'), ('oName', 'Canterbury'), ('p', 'http://www.wikidata.org/prop/direct/P131'), ('o', 'http://www.wikidata.org/entity/Q1094104')]"
   ]
  },
  {
   "cell_type": "code",
   "execution_count": 8,
   "id": "c18654b9-4efc-443e-8824-eacfd11a83bd",
   "metadata": {},
   "outputs": [
    {
     "name": "stdout",
     "output_type": "stream",
     "text": [
      "Results\n",
      "[('cathName', 'Church of St. Vincent'), ('locationName', 'Wrocław'), ('countryName', 'Poland'), ('styles', 'Brick Gothic')]\n",
      "[('cathName', 'Brechin Cathedral'), ('locationName', 'Angus'), ('countryName', 'United Kingdom'), ('styles', 'Gothic art')]\n",
      "[('cathName', 'Cathedral'), ('locationName', 'Bitetto'), ('countryName', 'Italy'), ('styles', 'Romanesque architecture')]\n",
      "[('cathName', 'Cathedral of Our Lady of Nahuel Huapi'), ('locationName', 'Bariloche'), ('countryName', 'Argentina'), ('styles', 'Gothic Revival')]\n",
      "[('cathName', 'Basilica of St. Joseph Proto-Cathedral'), ('locationName', 'Bardstown'), ('countryName', 'United States of America'), ('styles', 'Greek Revival architecture')]\n",
      "[('cathName', 'Cathedral of the Holy Trinity, Mostar'), ('locationName', 'Mostar'), ('countryName', 'Bosnia and Herzegovina'), ('styles', 'eclectic architecture')]\n",
      "[('cathName', 'Cathedral of Our Lady of the Assumption, Oaxaca'), ('locationName', 'Oaxaca de Juárez'), ('countryName', 'Mexico'), ('styles', 'Baroque')]\n",
      "[('cathName', \"St. Michael's Cathedral\"), ('locationName', 'Toronto'), ('countryName', 'Canada'), ('styles', 'Gothic Revival')]\n",
      "[('cathName', 'Katholische Hofkirche'), ('locationName', 'Dresden'), ('countryName', 'Germany'), ('styles', 'baroque architecture')]\n",
      "[('cathName', 'Cáceres Cathedral'), ('locationName', 'Cáceres'), ('countryName', 'Spain'), ('styles', 'Romanesque architecture')]\n",
      "[('cathName', 'Holy Trinity Cathedral, Gherla'), ('locationName', 'Gherla'), ('countryName', 'Romania'), ('styles', 'baroque architecture')]\n",
      "[('cathName', 'San Isidro Cathedral'), ('locationName', 'San Isidro'), ('countryName', 'Argentina'), ('styles', 'Gothic Revival')]\n",
      "[('cathName', 'Cathedral of St Stephen, Brisbane'), ('locationName', 'Queensland'), ('countryName', 'Australia'), ('styles', 'Gothic Revival')]\n",
      "[('cathName', 'Holy Father Nikolai Church'), ('locationName', 'Karlovac'), ('countryName', 'Croatia'), ('styles', 'baroque architecture')]\n",
      "[('cathName', \"Saint Patrick's Cathedral\"), ('locationName', 'Karachi'), ('countryName', 'Pakistan'), ('styles', 'Gothic Revival')]\n",
      "[('cathName', 'Catedral de Hermosillo'), ('locationName', 'Hermosillo'), ('countryName', 'Mexico'), ('styles', 'Baroque')]\n",
      "[('cathName', 'Cathedral of San Giuliano'), ('locationName', 'Caltagirone'), ('countryName', 'Italy'), ('styles', 'Norman architecture; baroque architecture')]\n",
      "[('cathName', 'Cathedral of Saint Bonaventure'), ('locationName', 'Banja Luka'), ('countryName', 'Bosnia and Herzegovina'), ('styles', 'modern architecture')]\n",
      "[('cathName', 'Liège Cathedral'), ('locationName', 'Liège'), ('countryName', 'Belgium'), ('styles', 'Gothic architecture')]\n",
      "[('cathName', 'Church of the Annunciation (Solvychegodsk)'), ('locationName', 'Solvychegodsk'), ('countryName', 'Russia'), ('styles', 'baroque architecture')]\n"
     ]
    },
    {
     "data": {
      "text/plain": [
       "20"
      ]
     },
     "execution_count": 8,
     "metadata": {},
     "output_type": "execute_result"
    }
   ],
   "source": [
    "queryString = \"\"\"\n",
    "SELECT DISTINCT ?cathName ?locationName ?countryName (GROUP_CONCAT(DISTINCT ?styleName; SEPARATOR=\"; \") AS ?styles)\n",
    "WHERE { \n",
    "    ?cath wdt:P31 wd:Q2977 ;\n",
    "          wdt:P149 ?style ;\n",
    "          wdt:P131 ?location ;\n",
    "          wdt:P17 ?country ;\n",
    "          sc:name ?cathName .\n",
    "          \n",
    "    OPTIONAL{?style sc:name ?styleName .}\n",
    "    OPTIONAL{?location sc:name ?locationName .}\n",
    "    ?country sc:name ?countryName .\n",
    "}\n",
    "GROUP BY ?cathName ?locationName ?countryName \n",
    "LIMIT 20\n",
    "\"\"\"\n",
    "\n",
    "print(\"Results\")\n",
    "run_query(queryString)"
   ]
  },
  {
   "cell_type": "markdown",
   "id": "45612f2a-1cc3-4518-9bc5-81625e5c3945",
   "metadata": {},
   "source": [
    "### Results part 2\n",
    "We can notice that there are cathedrals with more than one architectural style."
   ]
  },
  {
   "cell_type": "markdown",
   "id": "55669c9e",
   "metadata": {},
   "source": [
    "### Some additional interesting queries:\n",
    "### Search if exists a cathedral without information about its location"
   ]
  },
  {
   "cell_type": "code",
   "execution_count": 9,
   "id": "c8ef1f3c",
   "metadata": {},
   "outputs": [
    {
     "name": "stdout",
     "output_type": "stream",
     "text": [
      "Results\n",
      "[('cathName', 'Medhane Alem Cathedral (Harar)'), ('countryName', 'Ethiopia')]\n",
      "[('cathName', 'Wesley Methodist Cathedral'), ('countryName', 'Ghana')]\n",
      "[('cathName', 'The Corona, Canterbury Cathedral'), ('countryName', 'United Kingdom')]\n",
      "[('cathName', 'St. Colombo Cathedral'), ('countryName', \"People's Republic of China\")]\n",
      "[('cathName', \"Saint Joseph's Cathedral\"), ('countryName', \"People's Republic of China\")]\n",
      "[('cathName', 'Cathedral of Shuozhou'), ('countryName', \"People's Republic of China\")]\n",
      "[('cathName', 'Cathedral of the Holy Cross'), ('countryName', \"People's Republic of China\")]\n",
      "[('cathName', 'Franciscan Church of the Five Injuries of Dongshan'), ('countryName', \"People's Republic of China\")]\n",
      "[('cathName', 'Catedral Diocesana'), ('countryName', 'Brazil')]\n",
      "[('cathName', 'Holy Trinity Cathedral'), ('countryName', 'Russia')]\n",
      "[('cathName', 'The Cathedral of the Holy and Righteous Warrior Feodor Ushakov'), ('countryName', 'Russia')]\n",
      "[('cathName', 'Trinity Cathedral, Trubchevsk'), ('countryName', 'Russia')]\n",
      "[('cathName', 'Nunoike Church'), ('countryName', 'Japan')]\n",
      "[('cathName', 'Aoyama Saint Grace Cathedral'), ('countryName', 'Japan')]\n",
      "[('cathName', 'Peter and Paul Cathedral, Chortkiv'), ('countryName', 'Ukraine')]\n",
      "[('cathName', 'The Good Friday Church from Zalău'), ('countryName', 'Romania')]\n",
      "[('cathName', 'Cathedral of Saint Vissarion of Smolyan'), ('countryName', 'Bulgaria')]\n",
      "[('cathName', 'Mother Teresa Cathedral'), ('countryName', 'Albania')]\n",
      "[('cathName', 'Spynie Cathedral'), ('countryName', 'Kingdom of Scotland')]\n",
      "[('cathName', 'Cathedral of the Intercession of the Blessed Virgin'), ('countryName', 'Kazakhstan')]\n"
     ]
    },
    {
     "data": {
      "text/plain": [
       "20"
      ]
     },
     "execution_count": 9,
     "metadata": {},
     "output_type": "execute_result"
    }
   ],
   "source": [
    "queryString = \"\"\"\n",
    "SELECT DISTINCT ?cathName ?countryName\n",
    "WHERE { \n",
    "    ?cath wdt:P31 wd:Q2977 ;\n",
    "          wdt:P17 ?country ;\n",
    "          sc:name ?cathName .\n",
    "\n",
    "    ?country sc:name ?countryName .\n",
    "    FILTER (NOT EXISTS {?cath  wdt:P131 ?location .} )\n",
    "}\n",
    "LIMIT 20\n",
    "\"\"\"\n",
    "\n",
    "print(\"Results\")\n",
    "run_query(queryString)"
   ]
  },
  {
   "cell_type": "markdown",
   "id": "e5834adc",
   "metadata": {},
   "source": [
    "### Search if exists a cathedral without information about its location and its country"
   ]
  },
  {
   "cell_type": "code",
   "execution_count": 10,
   "id": "c30931e7",
   "metadata": {},
   "outputs": [
    {
     "name": "stdout",
     "output_type": "stream",
     "text": [
      "Results\n",
      "Empty\n"
     ]
    },
    {
     "data": {
      "text/plain": [
       "0"
      ]
     },
     "execution_count": 10,
     "metadata": {},
     "output_type": "execute_result"
    }
   ],
   "source": [
    "queryString = \"\"\"\n",
    "SELECT DISTINCT ?cathName\n",
    "WHERE { \n",
    "    ?cath wdt:P31 wd:Q2977 ;\n",
    "          sc:name ?cathName .\n",
    "\n",
    "    FILTER (NOT EXISTS {?cath  wdt:P131 ?location .} && NOT EXISTS {?cath  wdt:P17 ?country .})\n",
    "}\n",
    "LIMIT 20\n",
    "\"\"\"\n",
    "\n",
    "print(\"Results\")\n",
    "run_query(queryString)"
   ]
  },
  {
   "cell_type": "markdown",
   "id": "6303489d",
   "metadata": {},
   "source": [
    "### Search if exists a cathedral without information about its country"
   ]
  },
  {
   "cell_type": "code",
   "execution_count": 11,
   "id": "ea9153d7",
   "metadata": {},
   "outputs": [
    {
     "name": "stdout",
     "output_type": "stream",
     "text": [
      "Results\n",
      "Empty\n"
     ]
    },
    {
     "data": {
      "text/plain": [
       "0"
      ]
     },
     "execution_count": 11,
     "metadata": {},
     "output_type": "execute_result"
    }
   ],
   "source": [
    "queryString = \"\"\"\n",
    "SELECT DISTINCT ?cathName\n",
    "WHERE { \n",
    "    ?cath wdt:P31 wd:Q2977 ;\n",
    "          sc:name ?cathName .\n",
    "\n",
    "    FILTER ( NOT EXISTS {?cath  wdt:P17 ?country .})\n",
    "}\n",
    "LIMIT 20\n",
    "\"\"\"\n",
    "\n",
    "print(\"Results\")\n",
    "run_query(queryString)"
   ]
  },
  {
   "cell_type": "markdown",
   "id": "0e7945d9",
   "metadata": {},
   "source": [
    "### Conclusion\n",
    "Every cathedral has information about its country, but some of them have not information about their exact location"
   ]
  },
  {
   "cell_type": "markdown",
   "id": "3f2d1cbc-f7f5-4a09-b58c-20bd0f8aec33",
   "metadata": {
    "tags": []
   },
   "source": [
    "## Part 3\n",
    "### Which country hosts the largest number of cathedrals?"
   ]
  },
  {
   "cell_type": "code",
   "execution_count": 12,
   "id": "e87329cd-e537-4c88-b5ea-5fe7cca90d23",
   "metadata": {},
   "outputs": [
    {
     "name": "stdout",
     "output_type": "stream",
     "text": [
      "Results\n",
      "[('countryName', 'Italy'), ('cathNumber', '293')]\n",
      "[('countryName', 'United States of America'), ('cathNumber', '128')]\n",
      "[('countryName', 'Russia'), ('cathNumber', '94')]\n",
      "[('countryName', 'France'), ('cathNumber', '87')]\n",
      "[('countryName', 'Canada'), ('cathNumber', '67')]\n",
      "[('countryName', 'Mexico'), ('cathNumber', '64')]\n",
      "[('countryName', 'Brazil'), ('cathNumber', '57')]\n",
      "[('countryName', \"People's Republic of China\"), ('cathNumber', '52')]\n",
      "[('countryName', 'Philippines'), ('cathNumber', '48')]\n",
      "[('countryName', 'United Kingdom'), ('cathNumber', '47')]\n",
      "[('countryName', 'Ukraine'), ('cathNumber', '44')]\n",
      "[('countryName', 'India'), ('cathNumber', '41')]\n",
      "[('countryName', 'Poland'), ('cathNumber', '35')]\n",
      "[('countryName', 'Germany'), ('cathNumber', '34')]\n",
      "[('countryName', 'Argentina'), ('cathNumber', '32')]\n",
      "[('countryName', 'Colombia'), ('cathNumber', '32')]\n",
      "[('countryName', 'Romania'), ('cathNumber', '29')]\n",
      "[('countryName', 'Greece'), ('cathNumber', '27')]\n",
      "[('countryName', 'Spain'), ('cathNumber', '27')]\n",
      "[('countryName', 'Croatia'), ('cathNumber', '26')]\n"
     ]
    },
    {
     "data": {
      "text/plain": [
       "20"
      ]
     },
     "execution_count": 12,
     "metadata": {},
     "output_type": "execute_result"
    }
   ],
   "source": [
    "queryString = \"\"\"\n",
    "SELECT DISTINCT ?countryName (COUNT(DISTINCT ?cath) AS ?cathNumber)\n",
    "WHERE { \n",
    "    ?cath wdt:P31 wd:Q2977 ;\n",
    "          wdt:P17 ?country .\n",
    "          \n",
    "    ?country sc:name ?countryName .\n",
    "}\n",
    "GROUP BY ?countryName\n",
    "ORDER BY DESC(?cathNumber)\n",
    "LIMIT 20\n",
    "\"\"\"\n",
    "\n",
    "print(\"Results\")\n",
    "run_query(queryString)"
   ]
  },
  {
   "cell_type": "markdown",
   "id": "f12c5707-549a-4aa4-b1d8-0da0748c6136",
   "metadata": {},
   "source": [
    "### Result part 3\n",
    "It is surprising that Italy is the country with highest number of cathedrals (in our database)"
   ]
  },
  {
   "cell_type": "markdown",
   "id": "e5f5e147-0ac3-4dea-890f-40234773095e",
   "metadata": {},
   "source": [
    "## Part 4\n",
    "### Analyze cathedrals across architectural styles in each city"
   ]
  },
  {
   "cell_type": "markdown",
   "id": "57c5c9e6-c242-4f9f-a021-7c89112f0561",
   "metadata": {},
   "source": [
    "### Part 4.1\n",
    "Which styles exists in each country, and how many cathedrals for each one?"
   ]
  },
  {
   "cell_type": "code",
   "execution_count": 13,
   "id": "df6d7827-3203-499d-8b20-ec6444e276cc",
   "metadata": {},
   "outputs": [
    {
     "name": "stdout",
     "output_type": "stream",
     "text": [
      "Results\n",
      "[('countryName', 'Albania'), ('archName', 'Byzantine Revival architecture'), ('cathNumber', '1')]\n",
      "[('countryName', 'Albania'), ('archName', 'Byzantine art'), ('cathNumber', '1')]\n",
      "[('countryName', 'Albania'), ('archName', 'Romanesque Revival architecture'), ('cathNumber', '1')]\n",
      "[('countryName', 'Algeria'), ('archName', 'Islamic architecture'), ('cathNumber', '1')]\n",
      "[('countryName', 'Angola'), ('archName', 'Gothic Revival'), ('cathNumber', '1')]\n",
      "[('countryName', 'Angola'), ('archName', 'Neoclassical architecture'), ('cathNumber', '1')]\n",
      "[('countryName', 'Angola'), ('archName', 'modern architecture'), ('cathNumber', '1')]\n",
      "[('countryName', 'Argentina'), ('archName', 'Baroque Revival architecture'), ('cathNumber', '1')]\n",
      "[('countryName', 'Argentina'), ('archName', 'Gothic Revival'), ('cathNumber', '7')]\n",
      "[('countryName', 'Argentina'), ('archName', 'Gothic architecture'), ('cathNumber', '1')]\n",
      "[('countryName', 'Argentina'), ('archName', 'Italianate architecture'), ('cathNumber', '1')]\n",
      "[('countryName', 'Argentina'), ('archName', 'Neoclassical architecture'), ('cathNumber', '2')]\n",
      "[('countryName', 'Argentina'), ('archName', 'baroque architecture'), ('cathNumber', '1')]\n",
      "[('countryName', 'Argentina'), ('archName', 'eclectic architecture'), ('cathNumber', '4')]\n",
      "[('countryName', 'Argentina'), ('archName', 'eclecticism'), ('cathNumber', '1')]\n",
      "[('countryName', 'Argentina'), ('archName', 'modern architecture'), ('cathNumber', '1')]\n",
      "[('countryName', 'Argentina'), ('archName', 'neoclassicism'), ('cathNumber', '1')]\n",
      "[('countryName', 'Armenia'), ('archName', 'Armenian architecture'), ('cathNumber', '7')]\n",
      "[('countryName', 'Australia'), ('archName', 'Gothic Revival'), ('cathNumber', '10')]\n",
      "[('countryName', 'Australia'), ('archName', 'Renaissance architecture'), ('cathNumber', '1')]\n"
     ]
    },
    {
     "data": {
      "text/plain": [
       "20"
      ]
     },
     "execution_count": 13,
     "metadata": {},
     "output_type": "execute_result"
    }
   ],
   "source": [
    "queryString = \"\"\"\n",
    "SELECT ?countryName ?archName (COUNT(DISTINCT ?cath) AS ?cathNumber)\n",
    "WHERE { \n",
    "    ?cath wdt:P31 wd:Q2977 ;\n",
    "        wdt:P149 ?style ;\n",
    "        wdt:P17 ?country .\n",
    "          \n",
    "    ?country sc:name ?countryName .\n",
    "    \n",
    "    ?style sc:name ?archName .\n",
    "    \n",
    "}\n",
    "GROUP BY ?countryName ?archName\n",
    "ORDER BY ?countryName ?archName\n",
    "LIMIT 20\n",
    "\"\"\"\n",
    "\n",
    "print(\"Results\")\n",
    "run_query(queryString)"
   ]
  },
  {
   "cell_type": "markdown",
   "id": "239f3e31",
   "metadata": {},
   "source": [
    "### Group the information for each contry "
   ]
  },
  {
   "cell_type": "code",
   "execution_count": 14,
   "id": "eaa7d513",
   "metadata": {},
   "outputs": [
    {
     "name": "stdout",
     "output_type": "stream",
     "text": [
      "Results\n",
      "[('countryName', 'Sweden'), ('countryData', 'Romanesque Revival architecture: 1')]\n",
      "[('countryName', 'Iran'), ('countryData', 'Isfahani style: 1, Pahlavi architecture: 2, Safavid architecture: 1')]\n",
      "[('countryName', 'Cyprus'), ('countryData', 'Gothic architecture: 2')]\n",
      "[('countryName', 'Czech Republic'), ('countryData', 'Baroque: 1, Gothic Revival: 1, Gothic architecture: 1, Gothic art: 1, baroque architecture: 4, baroque gothic: 1')]\n",
      "[('countryName', 'Philippines'), ('countryData', 'Baroque: 1, Earthquake Baroque: 1, Gothic Revival: 2, Italian Renaissance: 1, Neoclassical architecture: 3, Romanesque Revival architecture: 1, Romanesque architecture: 2, baroque architecture: 7, modern architecture: 2')]\n",
      "[('countryName', 'Vanuatu'), ('countryData', 'modern architecture: 1')]\n",
      "[('countryName', 'India'), ('countryData', 'Baroque: 1, Colonial architecture: 1, Gothic Revival: 7, Gothic architecture: 2, Gothic art: 1, baroque architecture: 1')]\n",
      "[('countryName', 'Brazil'), ('countryData', 'Baroque Revival architecture: 1, Baroque: 2, Gothic Revival: 3, Neoclassical architecture: 1, Renaissance Revival architecture: 1, Rococo: 1, Romanesque art: 2, baroque architecture: 1, eclectic architecture: 1, modern architecture: 3, neoclassicism: 1')]\n",
      "[('countryName', 'Ivory Coast'), ('countryData', 'Colonial architecture: 1, modern architecture: 1')]\n",
      "[('countryName', 'South Korea'), ('countryData', 'Gothic Revival: 1')]\n",
      "[('countryName', 'Syria'), ('countryData', 'Baroque: 1, Romanesque architecture: 1, neoclassicism: 1')]\n",
      "[('countryName', 'Bosnia and Herzegovina'), ('countryData', 'Baroque Revival architecture: 1, Byzantine Revival architecture: 1, Gothic Revival: 1, eclectic architecture: 1, modern architecture: 1')]\n",
      "[('countryName', 'Portugal'), ('countryData', 'Baroque: 1, Gothic architecture: 4, Mannerism: 3, Mannerist architecture: 5, Manueline: 4, Romanesque architecture: 4, Romanesque art: 1, Spanish Gothic architecture: 2, baroque architecture: 2')]\n",
      "[('countryName', 'Pakistan'), ('countryData', 'Gothic Revival: 1')]\n",
      "[('countryName', 'East Jerusalem'), ('countryData', 'Byzantine Revival architecture: 1')]\n",
      "[('countryName', 'Ireland'), ('countryData', 'Gothic Revival: 2, Gothic architecture: 1')]\n",
      "[('countryName', 'Laos'), ('countryData', 'Art Nouveau: 1')]\n",
      "[('countryName', 'Argentina'), ('countryData', 'Baroque Revival architecture: 1, Gothic Revival: 7, Gothic architecture: 1, Italianate architecture: 1, Neoclassical architecture: 2, baroque architecture: 1, eclectic architecture: 4, eclecticism: 1, modern architecture: 1, neoclassicism: 1')]\n",
      "[('countryName', 'Kosovo'), ('countryData', 'Romanesque Revival architecture: 2')]\n",
      "[('countryName', 'Sri Lanka'), ('countryData', 'Baroque Revival architecture: 1, Renaissance architecture: 1')]\n",
      "[('countryName', 'Norway'), ('countryData', 'Art Nouveau: 1, Gothic Revival: 2, modern architecture: 1')]\n",
      "[('countryName', 'The Bahamas'), ('countryData', 'Gothic Revival: 1')]\n",
      "[('countryName', 'Peru'), ('countryData', 'Baroque: 5, Churrigueresque: 2, Gothic Revival: 1, Neoclassical architecture: 2, Renaissance Revival architecture: 1, Renaissance: 1, Spanish Colonial architecture: 1, modern architecture: 1')]\n",
      "[('countryName', 'Lithuania'), ('countryData', 'Baroque Revival architecture: 1, Belarusian Gothic: 1, Gothic architecture: 1, Gothic art: 1, Neoclassical architecture: 1, Renaissance architecture: 1, Romanesque Revival architecture: 1, baroque architecture: 2')]\n",
      "[('countryName', 'Angola'), ('countryData', 'Gothic Revival: 1, Neoclassical architecture: 1, modern architecture: 1')]\n",
      "[('countryName', 'Nicaragua'), ('countryData', 'Neoclassical architecture: 2, eclecticism in art: 1')]\n",
      "[('countryName', 'Cuba'), ('countryData', 'Baroque: 1, Gothic Revival: 1, baroque architecture: 1')]\n",
      "[('countryName', 'Honduras'), ('countryData', 'Baroque: 2, baroque architecture: 2')]\n",
      "[('countryName', 'Lebanon'), ('countryData', 'Byzantine architecture: 1, Neoclassical architecture: 1, Romanesque architecture: 1')]\n",
      "[('countryName', 'Georgia'), ('countryData', 'Architecture of Georgia: 1, Gothic Revival: 1, Russian-Byzantine architecture: 1')]\n"
     ]
    },
    {
     "data": {
      "text/plain": [
       "30"
      ]
     },
     "execution_count": 14,
     "metadata": {},
     "output_type": "execute_result"
    }
   ],
   "source": [
    "queryString = \"\"\"\n",
    "SELECT ?countryName (GROUP_CONCAT(DISTINCT ?archInfo; SEPARATOR=\", \") AS ?countryData)\n",
    "WHERE{\n",
    "    {\n",
    "        SELECT ?countryName ?archName (COUNT(DISTINCT ?cath) AS ?cathNumber)\n",
    "        WHERE { \n",
    "        ?cath wdt:P31 wd:Q2977 ;\n",
    "            wdt:P149 ?style ;\n",
    "            wdt:P17 ?country .\n",
    "            \n",
    "        ?country sc:name ?countryName .\n",
    "        \n",
    "        ?style sc:name ?archName .\n",
    "        \n",
    "        }\n",
    "        GROUP BY ?countryName ?archName\n",
    "    }\n",
    "    BIND(CONCAT(?archName,\": \",?cathNumber) AS ?archInfo)\n",
    "}\n",
    "GROUP BY ?countryName\n",
    "LIMIT 30\n",
    "\"\"\"\n",
    "\n",
    "print(\"Results\")\n",
    "run_query(queryString)"
   ]
  },
  {
   "cell_type": "markdown",
   "id": "eb59b472",
   "metadata": {},
   "source": [
    "### Order by number of architectural styles present in a country"
   ]
  },
  {
   "cell_type": "code",
   "execution_count": 15,
   "id": "e24777bd",
   "metadata": {},
   "outputs": [
    {
     "name": "stdout",
     "output_type": "stream",
     "text": [
      "Results\n",
      "[('countryName', 'Italy'), ('countryData', 'Baroque: 4, Byzantine architecture: 3, Chiaramonte style: 1, First Romanesque: 1, Gothic Revival: 5, Gothic architecture: 20, Gothic art: 2, International Gothic: 2, Italian Baroque architecture: 3, Italian Gothic architecture: 2, Italian Neoclassical architecture: 1, Mannerism: 3, Mannerist architecture: 2, Napolitan baroque architecture: 1, Neoclassical architecture: 15, Norman architecture: 5, Norman-Arab-Byzantine culture: 3, Pre-Romanesque architecture: 1, Renaissance Revival architecture: 2, Renaissance architecture: 17, Renaissance: 5, Romanesque Revival architecture: 5, Romanesque architecture: 82, Romanesque art: 3, Sicilian Baroque: 4, barocco leccese: 1, baroque architecture: 52, classicism: 1, medieval architecture: 1, modern architecture: 1, neoclassicism: 9, paleochristian architecture: 1, rationalism: 2')]\n",
      "[('countryName', 'United States of America'), ('countryData', 'Armenian architecture: 1, Art Deco: 1, Baroque Revival architecture: 3, Beaux-Arts: 1, Byzantine Revival architecture: 6, Colonial Revival architecture: 1, Gothic Revival: 29, Greek Revival architecture: 2, Italianate architecture: 2, Mediterranean Revival architecture: 1, Neoclassical architecture: 3, Renaissance Revival architecture: 7, Romanesque Revival architecture: 8, Serbo-Byzantine architecture: 1, Spanish Colonial Revival architecture: 2, Tudor Revival architecture: 1, modern architecture: 5')]\n",
      "[('countryName', 'Ukraine'), ('countryData', \"Architecture of Kievan Rus': 1, Armenian architecture: 1, Baroque: 4, Byzantine Revival architecture: 1, Gothic Revival: 1, Gothic art: 2, Neoclassical architecture in Russia: 1, Neoclassical architecture: 5, Renaissance Revival architecture: 1, Renaissance: 1, Rococo: 1, Romanesque Revival architecture: 2, Russian Revival architecture: 3, Ukrainian Baroque: 4, baroque architecture: 3, classicism: 4, modernism: 1\")]\n",
      "[('countryName', 'Russia'), ('countryData', 'Armenian architecture: 1, Baroque: 3, Brick Gothic: 1, Byzantine Revival architecture: 3, Empire style: 2, Neoclassical architecture in Russia: 1, Neoclassical architecture: 4, Russian Revival architecture: 3, Russian architecture: 2, Russian-Byzantine architecture: 3, Siberian Baroque: 2, Ukrainian Baroque: 1, baroque architecture: 5, classical architecture: 1, classicism: 1, eclectic architecture: 1')]\n",
      "[('countryName', 'Mexico'), ('countryData', 'Art Nouveau architecture: 1, Baroque: 3, Churrigueresque: 1, Gothic Revival: 2, Gothic architecture: 1, Neoclassical architecture: 14, New Spanish Baroque: 18, Plateresque: 1, Renaissance architecture: 3, Spanish Renaissance architecture: 1, baroque architecture: 3, eclectic architecture: 1, modern architecture: 2, neoclassicism: 1, rationalism: 1')]\n",
      "[('countryName', 'Poland'), ('countryData', 'Baroque: 2, Brick Gothic: 5, Gothic Revival: 4, Gothic architecture: 12, Gothic art: 2, Renaissance architecture: 1, Romanesque Revival architecture: 1, Romanesque architecture: 2, Romanesque art: 1, Russian Revival architecture: 1, Russian-Byzantine architecture: 1, baroque architecture: 3, classicism: 1')]\n",
      "[('countryName', 'Spain'), ('countryData', 'Baroque: 1, Gothic Revival: 2, Gothic architecture: 8, Neoclassical architecture: 3, Renaissance architecture: 2, Renaissance: 1, Romanesque architecture: 5, Spanish Gothic architecture: 1, Valencian Gothic: 2, baroque architecture: 1, historicist architecture: 1, late Gothic: 1')]\n",
      "[('countryName', 'Brazil'), ('countryData', 'Baroque Revival architecture: 1, Baroque: 2, Gothic Revival: 3, Neoclassical architecture: 1, Renaissance Revival architecture: 1, Rococo: 1, Romanesque art: 2, baroque architecture: 1, eclectic architecture: 1, modern architecture: 3, neoclassicism: 1')]\n",
      "[('countryName', 'Croatia'), ('countryData', 'Art Nouveau: 1, Baroque: 1, Byzantine architecture: 1, Gothic Revival: 2, Gothic architecture: 1, Neoclassical architecture: 1, Renaissance architecture: 3, Romanesque architecture: 4, Romanesque art: 1, baroque architecture: 6, modern architecture: 1')]\n",
      "[('countryName', 'Romania'), ('countryData', 'Byzantine Revival architecture: 1, Byzantine architecture: 2, Gothic architecture: 1, Jugendstil: 1, Neoclassical architecture: 1, Renaissance Revival architecture: 1, Romanesque Revival architecture: 1, Romanesque architecture: 1, baroque architecture: 6, classicism: 1, modern architecture: 1')]\n",
      "[('countryName', 'Argentina'), ('countryData', 'Baroque Revival architecture: 1, Gothic Revival: 7, Gothic architecture: 1, Italianate architecture: 1, Neoclassical architecture: 2, baroque architecture: 1, eclectic architecture: 4, eclecticism: 1, modern architecture: 1, neoclassicism: 1')]\n",
      "[('countryName', 'United Kingdom'), ('countryData', 'Byzantine Revival architecture: 1, English Gothic architecture: 2, Gothic Revival: 12, Gothic architecture: 6, Gothic art: 3, Lombard architecture: 1, Neoclassical architecture: 2, Norman architecture: 1, Romanesque Revival architecture: 2, Romanesque architecture: 1')]\n",
      "[('countryName', 'France'), ('countryData', 'Early Gothic: 2, Gothic Revival: 2, Gothic architecture: 21, Meridional Gothic: 5, Neoclassical architecture: 1, Romanesque Revival architecture: 1, Romanesque architecture: 28, baroque architecture: 4, classical architecture: 5, pre-Romanesque art: 1')]\n",
      "[('countryName', 'Colombia'), ('countryData', 'Gothic Revival: 2, Gothic architecture: 1, Isabelline: 1, Neoclassical architecture: 7, Neues Bauen: 1, Romanesque Revival architecture: 1, eclectic architecture: 2, modern architecture: 1, neoclassicism: 1, postmodern architecture: 1')]\n",
      "[('countryName', 'Philippines'), ('countryData', 'Baroque: 1, Earthquake Baroque: 1, Gothic Revival: 2, Italian Renaissance: 1, Neoclassical architecture: 3, Romanesque Revival architecture: 1, Romanesque architecture: 2, baroque architecture: 7, modern architecture: 2')]\n",
      "[('countryName', 'Portugal'), ('countryData', 'Baroque: 1, Gothic architecture: 4, Mannerism: 3, Mannerist architecture: 5, Manueline: 4, Romanesque architecture: 4, Romanesque art: 1, Spanish Gothic architecture: 2, baroque architecture: 2')]\n",
      "[('countryName', 'Greece'), ('countryData', 'Baroque Revival architecture: 1, Byzantine Revival architecture: 2, Byzantine architecture: 1, Gothic Revival: 1, Ottoman architecture: 1, Renaissance Revival architecture: 1, Renaissance architecture: 1, eclectic architecture: 1, rationalism: 1')]\n",
      "[('countryName', 'Germany'), ('countryData', 'Baroque: 1, Brick Gothic: 1, Gothic architecture: 12, Gothic art: 1, Romanesque Revival architecture: 2, Romanesque architecture: 9, Romanesque art: 1, baroque architecture: 4, modern architecture: 1')]\n",
      "[('countryName', 'Peru'), ('countryData', 'Baroque: 5, Churrigueresque: 2, Gothic Revival: 1, Neoclassical architecture: 2, Renaissance Revival architecture: 1, Renaissance: 1, Spanish Colonial architecture: 1, modern architecture: 1')]\n",
      "[('countryName', 'Lithuania'), ('countryData', 'Baroque Revival architecture: 1, Belarusian Gothic: 1, Gothic architecture: 1, Gothic art: 1, Neoclassical architecture: 1, Renaissance architecture: 1, Romanesque Revival architecture: 1, baroque architecture: 2')]\n",
      "[('countryName', 'Canada'), ('countryData', 'Byzantine Revival architecture: 5, Gothic Revival: 14, Neoclassical architecture: 2, Renaissance architecture: 1, Romanesque Revival architecture: 3, Romanesque architecture: 1, Shed style: 1, eclectic architecture: 2')]\n",
      "[('countryName', 'Hungary'), ('countryData', 'Baroque Revival architecture: 1, Gothic Revival: 1, Gothic architecture: 3, Neoclassical architecture: 4, Romanesque Revival architecture: 3, Romanesque art: 1, baroque architecture: 6')]\n",
      "[('countryName', 'Belarus'), ('countryData', 'Architectural school of Polack: 1, Baroque: 1, Neoclassical architecture: 1, Romanesque Revival architecture: 1, Viĺnia Baroque: 1, baroque architecture: 3, classicism: 1')]\n",
      "[('countryName', 'Czech Republic'), ('countryData', 'Baroque: 1, Gothic Revival: 1, Gothic architecture: 1, Gothic art: 1, baroque architecture: 4, baroque gothic: 1')]\n",
      "[('countryName', 'India'), ('countryData', 'Baroque: 1, Colonial architecture: 1, Gothic Revival: 7, Gothic architecture: 2, Gothic art: 1, baroque architecture: 1')]\n",
      "[('countryName', 'Uruguay'), ('countryData', 'Armenian architecture: 2, Neoclassical architecture: 2, Renaissance Revival architecture: 1, Romanesque Revival architecture: 1, eclectic architecture: 1, neoclassicism: 2')]\n",
      "[('countryName', \"People's Republic of China\"), ('countryData', 'Byzantine Revival architecture: 2, Gothic Revival: 7, Manueline: 1, Neoclassical architecture: 2, Romanesque Revival architecture: 3, baroque architecture: 1')]\n",
      "[('countryName', 'Bosnia and Herzegovina'), ('countryData', 'Baroque Revival architecture: 1, Byzantine Revival architecture: 1, Gothic Revival: 1, eclectic architecture: 1, modern architecture: 1')]\n",
      "[('countryName', 'Russian Empire'), ('countryData', 'Empire style: 1, Neoclassical architecture in Russia: 1, Neoclassical architecture: 1, Russian architecture: 1, Russian-Byzantine architecture: 2')]\n",
      "[('countryName', 'Netherlands'), ('countryData', 'Art Nouveau: 1, Brabantine Gothic: 1, Gothic architecture: 3, Neoclassical architecture: 1, Romanesque Revival architecture: 2')]\n"
     ]
    },
    {
     "data": {
      "text/plain": [
       "30"
      ]
     },
     "execution_count": 15,
     "metadata": {},
     "output_type": "execute_result"
    }
   ],
   "source": [
    "queryString = \"\"\"\n",
    "SELECT ?countryName (GROUP_CONCAT(DISTINCT ?archInfo; SEPARATOR=\", \") AS ?countryData)\n",
    "WHERE{\n",
    "    {\n",
    "        SELECT ?countryName ?archName (COUNT(DISTINCT ?cath) AS ?cathNumber)\n",
    "        WHERE { \n",
    "        ?cath wdt:P31 wd:Q2977 ;\n",
    "            wdt:P149 ?style ;\n",
    "            wdt:P17 ?country .\n",
    "            \n",
    "        ?country sc:name ?countryName .\n",
    "        \n",
    "        ?style sc:name ?archName .\n",
    "        \n",
    "        }\n",
    "        GROUP BY ?countryName ?archName\n",
    "    }\n",
    "    BIND(CONCAT(?archName,\": \",?cathNumber) AS ?archInfo)\n",
    "}\n",
    "GROUP BY ?countryName\n",
    "ORDER BY DESC(COUNT(DISTINCT ?archInfo))\n",
    "LIMIT 30\n",
    "\"\"\"\n",
    "\n",
    "print(\"Results\")\n",
    "run_query(queryString)"
   ]
  },
  {
   "cell_type": "markdown",
   "id": "519f4cb4",
   "metadata": {},
   "source": [
    "### Results part 4.1\n",
    "Some countries have only one architectural style... but a lot of countries have more than one architectural style.\n",
    "\n",
    "As expected (considering the results of the previous queries) Italy is the country with the higher number of architectural styles and number of cathedrals"
   ]
  },
  {
   "cell_type": "markdown",
   "id": "1efc3e1f-03ee-4c30-b6fb-f0a4fdd94c69",
   "metadata": {},
   "source": [
    "### Part 4.2\n",
    "Where is the largest cathedral, or the oldest?"
   ]
  },
  {
   "cell_type": "markdown",
   "id": "13a4dc97-1fd1-44c8-8bba-7dcf03b11e98",
   "metadata": {},
   "source": [
    "#### Oldest cathedrals"
   ]
  },
  {
   "cell_type": "code",
   "execution_count": 16,
   "id": "4fef7501-02d7-4e6e-a1ac-796fa30e724e",
   "metadata": {},
   "outputs": [
    {
     "name": "stdout",
     "output_type": "stream",
     "text": [
      "Results\n",
      "[('cathName', 'Etchmiadzin Cathedral'), ('countryName', 'Armenia'), ('costructionYear', '303')]\n",
      "[('cathName', 'Cathedral of Saint Mary of the Assumption (Chur)'), ('countryName', 'Switzerland'), ('costructionYear', '401')]\n",
      "[('cathName', 'Pula Cathedral'), ('countryName', 'Croatia'), ('costructionYear', '401')]\n",
      "[('cathName', 'Bolnisi Sioni'), ('countryName', 'Georgia'), ('costructionYear', '401')]\n",
      "[('cathName', 'Krk Cathedral'), ('countryName', 'Croatia'), ('costructionYear', '501')]\n",
      "[('cathName', 'Duomo of Monza'), ('countryName', 'Italy'), ('costructionYear', '501')]\n",
      "[('cathName', 'Luni Cathedral'), ('countryName', 'Italy'), ('costructionYear', '501')]\n",
      "[('cathName', 'Ninotsminda Cathedral'), ('countryName', 'Georgia'), ('costructionYear', '501')]\n",
      "[('cathName', 'Euphrasian Basilica'), ('countryName', 'Croatia'), ('costructionYear', '553')]\n",
      "[('cathName', 'Cathedral of Talin'), ('countryName', 'Armenia'), ('costructionYear', '601')]\n"
     ]
    },
    {
     "data": {
      "text/plain": [
       "10"
      ]
     },
     "execution_count": 16,
     "metadata": {},
     "output_type": "execute_result"
    }
   ],
   "source": [
    "queryString = \"\"\"\n",
    "SELECT DISTINCT ?cathName ?countryName ?costructionYear\n",
    "WHERE { \n",
    "    ?cath wdt:P31 wd:Q2977 ;\n",
    "          wdt:P571 ?inception ;\n",
    "          wdt:P17 ?country ;\n",
    "          sc:name ?cathName .\n",
    "    BIND(year(xsd:dateTime(?inception)) AS ?costructionYear)\n",
    "    ?country sc:name ?countryName .\n",
    "}\n",
    "ORDER BY ASC(?costructionYear)\n",
    "LIMIT 10\n",
    "\"\"\"\n",
    "\n",
    "print(\"Results\")\n",
    "run_query(queryString)"
   ]
  },
  {
   "cell_type": "markdown",
   "id": "eaa75356",
   "metadata": {},
   "source": [
    "### Display the oldest cathedral present in our database"
   ]
  },
  {
   "cell_type": "code",
   "execution_count": 17,
   "id": "48a6d2b4",
   "metadata": {},
   "outputs": [
    {
     "name": "stdout",
     "output_type": "stream",
     "text": [
      "Results\n",
      "[('cathName', 'Etchmiadzin Cathedral'), ('countryName', 'Armenia'), ('costructionYear', '303')]\n"
     ]
    },
    {
     "data": {
      "text/plain": [
       "1"
      ]
     },
     "execution_count": 17,
     "metadata": {},
     "output_type": "execute_result"
    }
   ],
   "source": [
    "queryString = \"\"\"\n",
    "SELECT DISTINCT ?cathName ?countryName ?costructionYear\n",
    "WHERE { \n",
    "    ?cath wdt:P31 wd:Q2977 ;\n",
    "          wdt:P571 ?inception ;\n",
    "          wdt:P17 ?country ;\n",
    "          sc:name ?cathName .\n",
    "    BIND(year(xsd:dateTime(?inception)) AS ?costructionYear)\n",
    "    ?country sc:name ?countryName .\n",
    "}\n",
    "ORDER BY ASC(?costructionYear)\n",
    "LIMIT 1\n",
    "\"\"\"\n",
    "\n",
    "print(\"Results\")\n",
    "run_query(queryString)"
   ]
  },
  {
   "cell_type": "markdown",
   "id": "43310978-bdac-4737-8b38-8ec1a7ec321a",
   "metadata": {},
   "source": [
    "### Display the largest cathedrals present in our database (consider the area data as dimension)"
   ]
  },
  {
   "cell_type": "code",
   "execution_count": 18,
   "id": "50d07520-9845-43d2-b3ee-c00ec76e3975",
   "metadata": {},
   "outputs": [
    {
     "name": "stdout",
     "output_type": "stream",
     "text": [
      "Results\n",
      "[('cathName', 'Katholische Hofkirche'), ('countryName', 'Germany'), ('area', '4800')]\n",
      "[('cathName', 'Florence Cathedral'), ('countryName', 'Italy'), ('area', '8600')]\n",
      "[('cathName', 'Tournai Cathedral'), ('countryName', 'Belgium'), ('area', '20.2219')]\n",
      "[('cathName', 'Tournai Cathedral'), ('countryName', 'Belgium'), ('area', '0.4963')]\n"
     ]
    },
    {
     "data": {
      "text/plain": [
       "4"
      ]
     },
     "execution_count": 18,
     "metadata": {},
     "output_type": "execute_result"
    }
   ],
   "source": [
    "queryString = \"\"\"\n",
    "SELECT DISTINCT ?cathName ?countryName ?area\n",
    "WHERE { \n",
    "    ?cath wdt:P31 wd:Q2977 ;\n",
    "          wdt:P2046 ?area ;\n",
    "          wdt:P2048 ?height ;\n",
    "          wdt:P17 ?country ;\n",
    "          sc:name ?cathName .\n",
    "    ?country sc:name ?countryName .\n",
    "\n",
    "}\n",
    "ORDER BY DESC(?length)\n",
    "LIMIT 10\n",
    "\"\"\"\n",
    "\n",
    "print(\"Results\")\n",
    "run_query(queryString)"
   ]
  },
  {
   "cell_type": "markdown",
   "id": "f8ccdd96",
   "metadata": {},
   "source": [
    "### Display the largest cathedrals present in our database (consider the lenght data as dimension)"
   ]
  },
  {
   "cell_type": "code",
   "execution_count": 19,
   "id": "5504f69e",
   "metadata": {},
   "outputs": [
    {
     "name": "stdout",
     "output_type": "stream",
     "text": [
      "Results\n",
      "[('cathName', 'Mary, Queen of the World Cathedral'), ('countryName', 'Canada'), ('length', '10150')]\n",
      "[('cathName', \"Old St Paul's Cathedral\"), ('countryName', 'United Kingdom'), ('length', '586')]\n",
      "[('cathName', 'Cathedral of Saint Paul, National Shrine of the Apostle Paul'), ('countryName', 'United States of America'), ('length', '307')]\n",
      "[('cathName', \"Old St Paul's Cathedral\"), ('countryName', 'United Kingdom'), ('length', '179')]\n",
      "[('cathName', 'York Minster'), ('countryName', 'United Kingdom'), ('length', '160')]\n",
      "[('cathName', 'Florence Cathedral'), ('countryName', 'Italy'), ('length', '153')]\n",
      "[('cathName', 'Church of the Holy Sepulchre'), ('countryName', 'State of Palestine'), ('length', '120')]\n",
      "[('cathName', 'Church of the Holy Sepulchre'), ('countryName', 'Israel'), ('length', '120')]\n",
      "[('cathName', 'Esztergom Basilica'), ('countryName', 'Hungary'), ('length', '120')]\n",
      "[('cathName', 'Cathedral of St. Michael and St. Gudula'), ('countryName', 'Belgium'), ('length', '114')]\n"
     ]
    },
    {
     "data": {
      "text/plain": [
       "10"
      ]
     },
     "execution_count": 19,
     "metadata": {},
     "output_type": "execute_result"
    }
   ],
   "source": [
    "queryString = \"\"\"\n",
    "SELECT DISTINCT ?cathName ?countryName ?length\n",
    "WHERE { \n",
    "    ?cath wdt:P31 wd:Q2977 ;\n",
    "          wdt:P2043 ?length ;\n",
    "          wdt:P17 ?country ;\n",
    "          sc:name ?cathName .\n",
    "    ?country sc:name ?countryName .\n",
    "\n",
    "}\n",
    "ORDER BY DESC(?length)\n",
    "LIMIT 10\n",
    "\"\"\"\n",
    "\n",
    "print(\"Results\")\n",
    "run_query(queryString)"
   ]
  },
  {
   "cell_type": "markdown",
   "id": "f19730d1",
   "metadata": {},
   "source": [
    "### Display the largest cathedral present in our database (consider the lenght data as dimension)\n",
    "I added the filter to exclude the Mary, Queen of the World Cathedral, which has probably a wrong data"
   ]
  },
  {
   "cell_type": "code",
   "execution_count": 20,
   "id": "9a183832",
   "metadata": {},
   "outputs": [
    {
     "name": "stdout",
     "output_type": "stream",
     "text": [
      "Results\n",
      "[('cathName', \"Old St Paul's Cathedral\"), ('countryName', 'United Kingdom'), ('length', '586')]\n"
     ]
    },
    {
     "data": {
      "text/plain": [
       "1"
      ]
     },
     "execution_count": 20,
     "metadata": {},
     "output_type": "execute_result"
    }
   ],
   "source": [
    "queryString = \"\"\"\n",
    "SELECT DISTINCT ?cathName ?countryName ?length\n",
    "WHERE { \n",
    "    ?cath wdt:P31 wd:Q2977 ;\n",
    "          wdt:P2043 ?length ;\n",
    "          wdt:P17 ?country ;\n",
    "          sc:name ?cathName .\n",
    "    ?country sc:name ?countryName .\n",
    "    FILTER (?length < 1500)\n",
    "}\n",
    "ORDER BY DESC(?length)\n",
    "LIMIT 1\n",
    "\"\"\"\n",
    "\n",
    "print(\"Results\")\n",
    "run_query(queryString)"
   ]
  },
  {
   "cell_type": "markdown",
   "id": "d40455d8-7352-4ded-ba2f-e5cf828fa485",
   "metadata": {},
   "source": [
    "### Display together the contruction year and the length "
   ]
  },
  {
   "cell_type": "code",
   "execution_count": 21,
   "id": "b4471919-f432-477b-9c8a-5c8a27b8d2cc",
   "metadata": {},
   "outputs": [
    {
     "name": "stdout",
     "output_type": "stream",
     "text": [
      "Results\n",
      "[('cathName', \"St. Michael's Cathedral\"), ('countryName', 'Ukraine'), ('costructionYear', '2000'), ('length', '58')]\n",
      "[('cathName', 'Rio de Janeiro Cathedral'), ('countryName', 'Brazil'), ('costructionYear', '1979'), ('length', '106')]\n",
      "[('cathName', 'Cathedral of Maringá'), ('countryName', 'Brazil'), ('costructionYear', '1972'), ('length', '50')]\n",
      "[('cathName', 'Sé Cathedral'), ('countryName', 'Brazil'), ('costructionYear', '1913'), ('length', '111')]\n",
      "[('cathName', 'Cathedral of Saint Paul, National Shrine of the Apostle Paul'), ('countryName', 'United States of America'), ('costructionYear', '1906'), ('length', '307')]\n",
      "[('cathName', 'Shrine of the Virgin of the Rosary of Pompei'), ('countryName', 'Italy'), ('costructionYear', '1901'), ('length', '95')]\n",
      "[('cathName', 'Cathedral of Saint-Jérôme'), ('countryName', 'Canada'), ('costructionYear', '1897'), ('length', '76.9')]\n",
      "[('cathName', \"Saint Mary's Cathedral, Yangon\"), ('countryName', 'Myanmar'), ('costructionYear', '1895'), ('length', '89')]\n",
      "[('cathName', 'Cathedral of the Resurrection'), ('countryName', 'Estonia'), ('costructionYear', '1890'), ('length', '34.8')]\n",
      "[('cathName', 'Cathedral of St Joseph'), ('countryName', 'Romania'), ('costructionYear', '1884'), ('length', '40')]\n"
     ]
    },
    {
     "data": {
      "text/plain": [
       "10"
      ]
     },
     "execution_count": 21,
     "metadata": {},
     "output_type": "execute_result"
    }
   ],
   "source": [
    "queryString = \"\"\"\n",
    "SELECT DISTINCT ?cathName ?countryName ?costructionYear ?length\n",
    "WHERE { \n",
    "    ?cath wdt:P31 wd:Q2977 ;\n",
    "          wdt:P571 ?inception ;\n",
    "          wdt:P17 ?country ;\n",
    "        wdt:P2043 ?length ;\n",
    "          sc:name ?cathName .\n",
    "    BIND(year(xsd:dateTime(?inception)) AS ?costructionYear)\n",
    "    ?country sc:name ?countryName .\n",
    "}\n",
    "ORDER BY DESC(?costructionYear) DESC(?lenght)\n",
    "LIMIT 10\n",
    "\"\"\"\n",
    "\n",
    "print(\"Results\")\n",
    "run_query(queryString)"
   ]
  },
  {
   "cell_type": "markdown",
   "id": "8d94df79-e092-4143-838e-cc925a13ef41",
   "metadata": {},
   "source": [
    "### Result part 4.2\n",
    "We can notice that there are only one cathedral built in 2000 or later (in our database) and it is also short.\n",
    "### Note\n",
    "There are obvious errors of the data, for example [('cathName', 'Mary, Queen of the World Cathedral'), ('countryName', 'Canada'), ('length', '10150')]\n",
    "As for the height also for the length there may be problem because they are stored as literal (as we can see in the below query) and we have not information about the unit of mesurement."
   ]
  },
  {
   "cell_type": "code",
   "execution_count": 22,
   "id": "ba957135",
   "metadata": {},
   "outputs": [
    {
     "name": "stdout",
     "output_type": "stream",
     "text": [
      "Results\n"
     ]
    },
    {
     "data": {
      "text/plain": [
       "{'head': {'link': []}, 'boolean': True}"
      ]
     },
     "execution_count": 22,
     "metadata": {},
     "output_type": "execute_result"
    }
   ],
   "source": [
    "queryString = \"\"\"\n",
    "ASK WHERE { \n",
    "    ?cath wdt:P31 wd:Q2977 ;  \n",
    "        wdt:P2043 ?length .\n",
    "    \n",
    "    FILTER isLiteral(?length)\n",
    "}\n",
    "\n",
    "\"\"\"\n",
    "\n",
    "print(\"Results\")\n",
    "run_ask_query(queryString)"
   ]
  },
  {
   "cell_type": "markdown",
   "id": "0426f9a5-3a85-4800-9b1e-a273204df76d",
   "metadata": {},
   "source": [
    "### Part 4.3 \n",
    "If you had to pick a city or a country to visit some cathedrals? Which one would you choose? Based on what criteria?\n",
    "\n",
    "If I had to pick a city or a country to visit some cathedrals probably I will start choosing the oldest one but not only... In fact we could decide based on the hystorical epoch or the architectural style in which I am interested."
   ]
  },
  {
   "cell_type": "code",
   "execution_count": null,
   "id": "f961dbe3-a5b1-4ded-b942-56bbe2adb0e3",
   "metadata": {},
   "outputs": [],
   "source": []
  }
 ],
 "metadata": {
  "kernelspec": {
   "display_name": "Python 3",
   "language": "python",
   "name": "python3"
  },
  "language_info": {
   "codemirror_mode": {
    "name": "ipython",
    "version": 3
   },
   "file_extension": ".py",
   "mimetype": "text/x-python",
   "name": "python",
   "nbconvert_exporter": "python",
   "pygments_lexer": "ipython3",
   "version": "3.7.10"
  }
 },
 "nbformat": 4,
 "nbformat_minor": 5
}
