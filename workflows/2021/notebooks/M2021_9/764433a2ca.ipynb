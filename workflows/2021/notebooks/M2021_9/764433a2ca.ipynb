{
 "cells": [
  {
   "cell_type": "markdown",
   "id": "7034c3bf-6eb0-4418-8687-7b9d2a501103",
   "metadata": {},
   "source": [
    "# General instructions\n",
    "\n",
    "The goal of the project is to materialize a set of **exploratory workloads** over a real-world, large-scale,  open-domain KG: [WikiData](https://www.wikidata.org/wiki/Wikidata:Main_Page)\n",
    "\n",
    "An exploratory workload  is composed by a set of queries, where each query is related to the information obtained previously.\n",
    "\n",
    "An exploratory workload starts with a usually vague, open ended question, and does not assume the person issuing the workload has a clear understanding of the data contained in the target database or its structure.\n",
    "\n",
    "Remeber that:\n",
    "\n",
    "1. All the queries must run in the python notebook\n",
    "2. You can use classes and properties only if you find them via a SPARQL query that must be present in the notebook\n",
    "3. You do not delete useless queries. Keep everything that is synthatically valid \n",
    "\n",
    "```\n",
    "?p <http://schema.org/name> ?name .\n",
    "```\n",
    "    \n",
    "is the BGP returning a human-readable name of a property or a class in Wikidata.\n",
    "    \n",
    "    "
   ]
  },
  {
   "cell_type": "code",
   "execution_count": 1,
   "id": "3605c9d5-5371-49a5-be8d-d66e8f417139",
   "metadata": {},
   "outputs": [],
   "source": [
    "## SETUP used later\n",
    "\n",
    "from SPARQLWrapper import SPARQLWrapper, JSON\n",
    "\n",
    "\n",
    "prefixString = \"\"\"\n",
    "##-764433a2ca-##\n",
    "PREFIX wd: <http://www.wikidata.org/entity/> \n",
    "PREFIX wdt: <http://www.wikidata.org/prop/direct/> \n",
    "PREFIX sc: <http://schema.org/>\n",
    "\"\"\"\n",
    "\n",
    "# select and construct queries\n",
    "def run_query(queryString):\n",
    "    to_run = prefixString + \"\\n\" + queryString\n",
    "\n",
    "    sparql = SPARQLWrapper(\"http://a256-gc1-02.srv.aau.dk:5820/sparql\")\n",
    "    sparql.setTimeout(300)\n",
    "    sparql.setReturnFormat(JSON)\n",
    "    sparql.setQuery(to_run)\n",
    "\n",
    "    try :\n",
    "       results = sparql.query()\n",
    "       json_results = results.convert()\n",
    "       if len(json_results['results']['bindings'])==0:\n",
    "          print(\"Empty\")\n",
    "          return 0\n",
    "    \n",
    "       for bindings in json_results['results']['bindings']:\n",
    "          print( [ (var, value['value'])  for var, value in bindings.items() ] )\n",
    "\n",
    "       return len(json_results['results']['bindings'])\n",
    "\n",
    "    except Exception as e :\n",
    "        print(\"The operation failed\", e)\n",
    "    \n",
    "# ASk queries\n",
    "def run_ask_query(queryString):\n",
    "    to_run = prefixString + \"\\n\" + queryString\n",
    "\n",
    "    sparql = SPARQLWrapper(\"http://a256-gc1-02.srv.aau.dk:5820/sparql\")\n",
    "    sparql.setTimeout(300)\n",
    "    sparql.setReturnFormat(JSON)\n",
    "    sparql.setQuery(to_run)\n",
    "\n",
    "    try :\n",
    "        return sparql.query().convert()\n",
    "\n",
    "    except Exception as e :\n",
    "        print(\"The operation failed\", e)\n"
   ]
  },
  {
   "cell_type": "markdown",
   "id": "d477a59c-a68c-4c8f-9f97-8ca5294d7d27",
   "metadata": {},
   "source": [
    "# Companies Workflow Series (\"Business People in Germany\") \n",
    "\n",
    "Consider the following exploratory information need:\n",
    "\n",
    "> You are investigating important business people in Germany"
   ]
  },
  {
   "cell_type": "markdown",
   "id": "4a45c0ba-f79e-441d-bec5-84401b09db70",
   "metadata": {},
   "source": [
    "## Useful URIs for the current workflow\n",
    "\n",
    "\n",
    "The following are given:\n",
    "\n",
    "| IRI           | Description   | Role      |\n",
    "| -----------   | -----------   |-----------|\n",
    "| `wdt:P1647`   | subproperty   | predicate |\n",
    "| `wdt:P31`     | instance of   | predicate |\n",
    "| `wdt:P279`    | subclass      | predicate |\n",
    "| `wdt:P17`      | country       | predicate |\n",
    "| `wdt:P27`      | citizenship   | predicate |\n",
    "| `wdt:P106`     | occupation   | predicate |\n",
    "| `wd:Q183`      | Germany      | node      |\n",
    "| `wd:Q2462658`  | manager      | node      |\n",
    "| `wd:Q40966`    | Opel         | node      |\n",
    "| `wd:Q56509715` | Michael Lohscheller | node |\n",
    "| `wd:Q57479`    | Adam Opel    | node |\n",
    "\n",
    "\n",
    "\n",
    "Also consider\n",
    "\n",
    "```\n",
    "\n",
    "?p wdt:P27 wd:Q183  . \n",
    "?p wdt:P106 wd:Q2462658  . \n",
    "\n",
    "```\n",
    "\n",
    "is the BGP to retrieve all **german managers**"
   ]
  },
  {
   "cell_type": "markdown",
   "id": "7af439fb-96e4-4dbb-a381-f19afab79f86",
   "metadata": {
    "tags": []
   },
   "source": [
    "## Workload Goals\n",
    "\n",
    "1. Identify the BGP for obtaining C.E.O., managers, directors, or founders of German companies\n",
    "\n",
    "2. Identify the BGP to retrieve gender and profession of people and industry of companies\n",
    "\n",
    "3. Are there german companies with C.E.O., managers, or founders that are not German?\n",
    "\n",
    "4. Are there people related to multiple german companies?\n",
    "\n",
    "5. Analyze the number of business people per role, type of company, and gender\n",
    " \n",
    "   5.1 How many people for each role and gender are there in Germany?\n",
    "   \n",
    "   5.2 Are there companies with multiple german people having important roles?\n",
    "   \n",
    "   5.3 In which sectors are important german business people working?\n",
    "   \n",
    "   5.4 Are there german business people related to non german companies? How many?\n"
   ]
  },
  {
   "cell_type": "code",
   "execution_count": 2,
   "id": "24a853ab-830c-422c-afd3-e9e015b8b8ed",
   "metadata": {},
   "outputs": [],
   "source": [
    "# start your workflow here"
   ]
  },
  {
   "cell_type": "code",
   "execution_count": 3,
   "id": "ade01416-92e7-4ad7-b9a9-b8fb330750dc",
   "metadata": {},
   "outputs": [
    {
     "name": "stdout",
     "output_type": "stream",
     "text": [
      "Results\n",
      "[('callret-0', '829')]\n"
     ]
    },
    {
     "data": {
      "text/plain": [
       "1"
      ]
     },
     "execution_count": 3,
     "metadata": {},
     "output_type": "execute_result"
    }
   ],
   "source": [
    "queryString = \"\"\"\n",
    "SELECT COUNT(*)\n",
    "WHERE { \n",
    "\n",
    "?p wdt:P27 wd:Q183  . \n",
    "?p wdt:P106 wd:Q2462658  . \n",
    "} \n",
    "\"\"\"\n",
    "\n",
    "print(\"Results\")\n",
    "run_query(queryString)"
   ]
  },
  {
   "cell_type": "markdown",
   "id": "7ba17227-fd48-437b-9680-7b64414bd28a",
   "metadata": {
    "tags": []
   },
   "source": [
    "## Part 1\n",
    "### Identify the BGP for obtaining C.E.O., managers, directors, or founders of German companies"
   ]
  },
  {
   "cell_type": "markdown",
   "id": "f842d2e4-bfd5-4a12-a28a-0e3d1a9af941",
   "metadata": {},
   "source": [
    "### Search occupations"
   ]
  },
  {
   "cell_type": "code",
   "execution_count": 4,
   "id": "4152a274-414a-41f8-971e-e07ec9b596d3",
   "metadata": {},
   "outputs": [
    {
     "name": "stdout",
     "output_type": "stream",
     "text": [
      "Results\n",
      "[('occupationName', 'Africanist'), ('occupation', 'http://www.wikidata.org/entity/Q15936497')]\n",
      "[('occupationName', 'Agriculteur'), ('occupation', 'http://www.wikidata.org/entity/Q17123348')]\n",
      "[('occupationName', 'Alberte'), ('occupation', 'http://www.wikidata.org/entity/Q42677192')]\n",
      "[('occupationName', 'American football coach'), ('occupation', 'http://www.wikidata.org/entity/Q42331263')]\n",
      "[('occupationName', 'American football player'), ('occupation', 'http://www.wikidata.org/entity/Q19204627')]\n",
      "[('occupationName', 'Amtmann'), ('occupation', 'http://www.wikidata.org/entity/Q592996')]\n",
      "[('occupationName', 'Amtsarzt'), ('occupation', 'http://www.wikidata.org/entity/Q480298')]\n",
      "[('occupationName', 'Amtshauptmann'), ('occupation', 'http://www.wikidata.org/entity/Q481183')]\n",
      "[('occupationName', 'Anglican priest'), ('occupation', 'http://www.wikidata.org/entity/Q3409375')]\n",
      "[('occupationName', 'Anwalt'), ('occupation', 'http://www.wikidata.org/entity/Q613087')]\n",
      "[('occupationName', 'Arabist'), ('occupation', 'http://www.wikidata.org/entity/Q620573')]\n",
      "[('occupationName', 'Archaeologist of the ancient Sudan'), ('occupation', 'http://www.wikidata.org/entity/Q52231330')]\n",
      "[('occupationName', 'Aristocrat'), ('occupation', 'http://www.wikidata.org/entity/Q3859785')]\n",
      "[('occupationName', 'Armenian Genocide denier'), ('occupation', 'http://www.wikidata.org/entity/Q16334393')]\n",
      "[('occupationName', 'Assistant physician'), ('occupation', 'http://www.wikidata.org/entity/Q742628')]\n"
     ]
    },
    {
     "data": {
      "text/plain": [
       "15"
      ]
     },
     "execution_count": 4,
     "metadata": {},
     "output_type": "execute_result"
    }
   ],
   "source": [
    "queryString = \"\"\"\n",
    "SELECT DISTINCT ?occupationName ?occupation\n",
    "WHERE { \n",
    "\n",
    "?s wdt:P27 wd:Q183  ;\n",
    "    wdt:P106 ?occupation  .\n",
    "?occupation sc:name ?occupationName .   \n",
    "\n",
    "} ORDER BY ?occupationName\n",
    "LIMIT 15\n",
    "\"\"\"\n",
    "\n",
    "print(\"Results\")\n",
    "run_query(queryString)"
   ]
  },
  {
   "cell_type": "markdown",
   "id": "e3be25a1-0bc8-4bb3-bd4a-bf0b369dcd33",
   "metadata": {},
   "source": [
    "### Try to restrict occupation"
   ]
  },
  {
   "cell_type": "code",
   "execution_count": 5,
   "id": "b5eb7a3f-2aca-46d2-8eeb-b08f694100dc",
   "metadata": {},
   "outputs": [
    {
     "name": "stdout",
     "output_type": "stream",
     "text": [
      "Results\n",
      "[('occupationName', 'IT project manager'), ('occupation', 'http://www.wikidata.org/entity/Q33060693')]\n",
      "[('occupationName', 'Post office manager'), ('occupation', 'http://www.wikidata.org/entity/Q2106113')]\n",
      "[('occupationName', 'advertising manager'), ('occupation', 'http://www.wikidata.org/entity/Q2560008')]\n",
      "[('occupationName', 'art director'), ('occupation', 'http://www.wikidata.org/entity/Q706364')]\n",
      "[('occupationName', 'artistic director'), ('occupation', 'http://www.wikidata.org/entity/Q1797162')]\n",
      "[('occupationName', 'assistant director'), ('occupation', 'http://www.wikidata.org/entity/Q1757008')]\n",
      "[('occupationName', 'association football manager'), ('occupation', 'http://www.wikidata.org/entity/Q628099')]\n",
      "[('occupationName', 'bank manager'), ('occupation', 'http://www.wikidata.org/entity/Q32947888')]\n",
      "[('occupationName', 'baseball manager'), ('occupation', 'http://www.wikidata.org/entity/Q1186921')]\n",
      "[('occupationName', 'broadcast programming director'), ('occupation', 'http://www.wikidata.org/entity/Q52085732')]\n",
      "[('occupationName', 'broadcasting director'), ('occupation', 'http://www.wikidata.org/entity/Q39020492')]\n",
      "[('occupationName', 'business manager'), ('occupation', 'http://www.wikidata.org/entity/Q832136')]\n",
      "[('occupationName', 'casting director'), ('occupation', 'http://www.wikidata.org/entity/Q1049296')]\n",
      "[('occupationName', 'choir director'), ('occupation', 'http://www.wikidata.org/entity/Q1076502')]\n",
      "[('occupationName', 'circus director'), ('occupation', 'http://www.wikidata.org/entity/Q21061372')]\n"
     ]
    },
    {
     "data": {
      "text/plain": [
       "15"
      ]
     },
     "execution_count": 5,
     "metadata": {},
     "output_type": "execute_result"
    }
   ],
   "source": [
    "queryString = \"\"\"\n",
    "SELECT DISTINCT ?occupationName ?occupation\n",
    "WHERE { \n",
    "\n",
    "    ?s wdt:P27 wd:Q183  ;\n",
    "        wdt:P106 ?occupation  .\n",
    "    ?occupation sc:name ?occupationName .\n",
    "    \n",
    "    FILTER (regex(?occupationName,\"director\")||regex(?occupationName,\"manager\"))\n",
    "\n",
    "} ORDER BY ?occupationName\n",
    "LIMIT 15\n",
    "\"\"\"\n",
    "\n",
    "print(\"Results\")\n",
    "run_query(queryString)"
   ]
  },
  {
   "cell_type": "markdown",
   "id": "96cc3de4-a862-4952-9b0a-a9576d3cd2d6",
   "metadata": {},
   "source": [
    "### Try another way to find occupations\n",
    "See data related to Opel"
   ]
  },
  {
   "cell_type": "code",
   "execution_count": 6,
   "id": "f453c734-da9b-4657-b7a6-305afd31d82d",
   "metadata": {},
   "outputs": [
    {
     "name": "stdout",
     "output_type": "stream",
     "text": [
      "Results\n",
      "[('pName', 'director / manager'), ('oName', 'Michael Lohscheller'), ('p', 'http://www.wikidata.org/prop/direct/P1037'), ('o', 'http://www.wikidata.org/entity/Q56509715')]\n",
      "[('pName', 'product or material produced'), ('oName', 'van'), ('p', 'http://www.wikidata.org/prop/direct/P1056'), ('o', 'http://www.wikidata.org/entity/Q193468')]\n",
      "[('pName', 'product or material produced'), ('oName', 'motor car'), ('p', 'http://www.wikidata.org/prop/direct/P1056'), ('o', 'http://www.wikidata.org/entity/Q1420')]\n",
      "[('pName', 'founded by'), ('oName', 'Adam Opel'), ('p', 'http://www.wikidata.org/prop/direct/P112'), ('o', 'http://www.wikidata.org/entity/Q57479')]\n",
      "[('pName', 'owned by'), ('oName', 'Stellantis'), ('p', 'http://www.wikidata.org/prop/direct/P127'), ('o', 'http://www.wikidata.org/entity/Q97439162')]\n",
      "[('pName', 'named after'), ('oName', 'Adam Opel'), ('p', 'http://www.wikidata.org/prop/direct/P138'), ('o', 'http://www.wikidata.org/entity/Q57479')]\n",
      "[('pName', \"topic's main template\"), ('oName', 'Template:Opel'), ('p', 'http://www.wikidata.org/prop/direct/P1424'), ('o', 'http://www.wikidata.org/entity/Q6372363')]\n",
      "[('pName', 'legal form'), ('oName', 'GmbH'), ('p', 'http://www.wikidata.org/prop/direct/P1454'), ('o', 'http://www.wikidata.org/entity/Q460178')]\n",
      "[('pName', 'headquarters location'), ('oName', 'Rüsselsheim am Main'), ('p', 'http://www.wikidata.org/prop/direct/P159'), ('o', 'http://www.wikidata.org/entity/Q4031')]\n",
      "[('pName', 'chief executive officer'), ('oName', 'Uwe Hochgeschurtz'), ('p', 'http://www.wikidata.org/prop/direct/P169'), ('o', 'http://www.wikidata.org/entity/Q107986135')]\n",
      "[('pName', 'country'), ('oName', 'Germany'), ('p', 'http://www.wikidata.org/prop/direct/P17'), ('o', 'http://www.wikidata.org/entity/Q183')]\n",
      "[('pName', 'owner of'), ('oName', 'Opel Performance Center'), ('p', 'http://www.wikidata.org/prop/direct/P1830'), ('o', 'http://www.wikidata.org/entity/Q1499607')]\n",
      "[('pName', 'different from'), ('oName', 'Buick Opel'), ('p', 'http://www.wikidata.org/prop/direct/P1889'), ('o', 'http://www.wikidata.org/entity/Q1002809')]\n",
      "[('pName', 'instance of'), ('oName', 'car brand'), ('p', 'http://www.wikidata.org/prop/direct/P31'), ('o', 'http://www.wikidata.org/entity/Q10429667')]\n",
      "[('pName', 'instance of'), ('oName', 'automobile manufacturer'), ('p', 'http://www.wikidata.org/prop/direct/P31'), ('o', 'http://www.wikidata.org/entity/Q786820')]\n",
      "[('pName', 'instance of'), ('oName', 'subsidiary'), ('p', 'http://www.wikidata.org/prop/direct/P31'), ('o', 'http://www.wikidata.org/entity/Q658255')]\n",
      "[('pName', 'board member'), ('oName', 'Fritz von Opel'), ('p', 'http://www.wikidata.org/prop/direct/P3320'), ('o', 'http://www.wikidata.org/entity/Q62734')]\n",
      "[('pName', 'board member'), ('oName', 'Friedrich Opel'), ('p', 'http://www.wikidata.org/prop/direct/P3320'), ('o', 'http://www.wikidata.org/entity/Q1461364')]\n",
      "[('pName', 'board member'), ('oName', 'Wilhelm von Opel'), ('p', 'http://www.wikidata.org/prop/direct/P3320'), ('o', 'http://www.wikidata.org/entity/Q106609')]\n",
      "[('pName', 'subsidiary'), ('oName', 'Opel Performance Center'), ('p', 'http://www.wikidata.org/prop/direct/P355'), ('o', 'http://www.wikidata.org/entity/Q1499607')]\n",
      "[('pName', 'subsidiary'), ('oName', 'Vauxhall'), ('p', 'http://www.wikidata.org/prop/direct/P355'), ('o', 'http://www.wikidata.org/entity/Q59187')]\n",
      "[('pName', 'subsidiary'), ('oName', 'Opel Special Vehicles'), ('p', 'http://www.wikidata.org/prop/direct/P355'), ('o', 'http://www.wikidata.org/entity/Q7095669')]\n",
      "[('pName', 'subsidiary'), ('oName', 'Opel Eisenach'), ('p', 'http://www.wikidata.org/prop/direct/P355'), ('o', 'http://www.wikidata.org/entity/Q1665931')]\n",
      "[('pName', 'industry'), ('oName', 'automotive industry'), ('p', 'http://www.wikidata.org/prop/direct/P452'), ('o', 'http://www.wikidata.org/entity/Q190117')]\n",
      "[('pName', 'industry'), ('oName', 'mechanical engineering'), ('p', 'http://www.wikidata.org/prop/direct/P452'), ('o', 'http://www.wikidata.org/entity/Q101333')]\n",
      "[('pName', 'member of'), ('oName', 'German Road Safety Council'), ('p', 'http://www.wikidata.org/prop/direct/P463'), ('o', 'http://www.wikidata.org/entity/Q1205460')]\n",
      "[('pName', 'parent organization'), ('oName', 'Stellantis'), ('p', 'http://www.wikidata.org/prop/direct/P749'), ('o', 'http://www.wikidata.org/entity/Q97439162')]\n",
      "[('pName', \"topic's main category\"), ('oName', 'Category:Opel'), ('p', 'http://www.wikidata.org/prop/direct/P910'), ('o', 'http://www.wikidata.org/entity/Q8903477')]\n",
      "[('pName', 'NORAF ID'), ('p', 'http://www.wikidata.org/prop/direct/P1015'), ('o', '90226633')]\n",
      "[('pName', 'NUKAT ID'), ('p', 'http://www.wikidata.org/prop/direct/P1207'), ('o', 'n2007086774')]\n",
      "[('pName', 'Encyclopædia Britannica Online ID'), ('p', 'http://www.wikidata.org/prop/direct/P1417'), ('o', 'topic/Opel-AG')]\n",
      "[('pName', 'logo image'), ('p', 'http://www.wikidata.org/prop/direct/P154'), ('o', 'http://commons.wikimedia.org/wiki/Special:FilePath/Opel-Logo%202017.svg')]\n",
      "[('pName', 'image'), ('p', 'http://www.wikidata.org/prop/direct/P18'), ('o', 'http://commons.wikimedia.org/wiki/Special:FilePath/Opel%20Werk%20In%20Ruesselsheim%20From%20Train.jpg')]\n",
      "[('pName', 'owner of'), ('p', 'http://www.wikidata.org/prop/direct/P1830'), ('o', 'http://www.wikidata.org/entity/Q28966212')]\n",
      "[('pName', 'Twitter username'), ('p', 'http://www.wikidata.org/prop/direct/P2002'), ('o', 'Opel')]\n",
      "[('pName', 'Instagram username'), ('p', 'http://www.wikidata.org/prop/direct/P2003'), ('o', 'opelturkiye')]\n",
      "[('pName', 'Facebook ID'), ('p', 'http://www.wikidata.org/prop/direct/P2013'), ('o', 'Opel')]\n",
      "[('pName', 'Crunchbase organization ID'), ('p', 'http://www.wikidata.org/prop/direct/P2088'), ('o', 'opel-special-vehicles')]\n",
      "[('pName', 'ISNI'), ('p', 'http://www.wikidata.org/prop/direct/P213'), ('o', '0000 0001 0940 1642')]\n",
      "[('pName', 'ISNI'), ('p', 'http://www.wikidata.org/prop/direct/P213'), ('o', '0000 0004 0524 2893')]\n",
      "[('pName', 'VIAF ID'), ('p', 'http://www.wikidata.org/prop/direct/P214'), ('o', '122152911')]\n",
      "[('pName', 'GND ID'), ('p', 'http://www.wikidata.org/prop/direct/P227'), ('o', '2003429-5')]\n",
      "[('pName', 'YouTube channel ID'), ('p', 'http://www.wikidata.org/prop/direct/P2397'), ('o', 'UCSr5PuKiJ5Zi00zfsiT-7jA')]\n",
      "[('pName', 'Library of Congress authority ID'), ('p', 'http://www.wikidata.org/prop/direct/P244'), ('o', 'n90647646')]\n",
      "[('pName', 'Library of Congress authority ID'), ('p', 'http://www.wikidata.org/prop/direct/P244'), ('o', 'sh85094869')]\n",
      "[('pName', 'Bibliothèque nationale de France ID'), ('p', 'http://www.wikidata.org/prop/direct/P268'), ('o', '11932918h')]\n",
      "[('pName', 'Bibliothèque nationale de France ID'), ('p', 'http://www.wikidata.org/prop/direct/P268'), ('o', '15043628f')]\n",
      "[('pName', 'New York Times topic ID'), ('p', 'http://www.wikidata.org/prop/direct/P3221'), ('o', 'company/adam-opel-gmbh')]\n",
      "[('pName', 'Zhihu topic ID'), ('p', 'http://www.wikidata.org/prop/direct/P3553'), ('o', '19697675')]\n",
      "[('pName', 'Commons category'), ('p', 'http://www.wikidata.org/prop/direct/P373'), ('o', 'Opel')]\n",
      "[('pName', 'PM20 folder ID'), ('p', 'http://www.wikidata.org/prop/direct/P4293'), ('o', 'co/017676')]\n",
      "[('pName', 'Store norske leksikon ID'), ('p', 'http://www.wikidata.org/prop/direct/P4342'), ('o', 'Opel')]\n",
      "[('pName', 'inception'), ('p', 'http://www.wikidata.org/prop/direct/P571'), ('o', '1862-01-21T00:00:00Z')]\n",
      "[('pName', 'Microsoft Academic ID'), ('p', 'http://www.wikidata.org/prop/direct/P6366'), ('o', '1310473015')]\n",
      "[('pName', 'Freebase ID'), ('p', 'http://www.wikidata.org/prop/direct/P646'), ('o', '/m/05kzl')]\n",
      "[('pName', 'NKCR AUT ID'), ('p', 'http://www.wikidata.org/prop/direct/P691'), ('o', 'kn20120717009')]\n",
      "[('pName', 'French Vikidia ID'), ('p', 'http://www.wikidata.org/prop/direct/P7818'), ('o', 'Opel')]\n",
      "[('pName', 'WorldCat Identities ID'), ('p', 'http://www.wikidata.org/prop/direct/P7859'), ('o', 'lccn-n90647646')]\n",
      "[('pName', 'CoBiS author ID'), ('p', 'http://www.wikidata.org/prop/direct/P7865'), ('o', 'dnq6ux1h60wkad1q5mpjub9d5mpjub8')]\n",
      "[('pName', 'OSM Name Suggestion Index identifier'), ('p', 'http://www.wikidata.org/prop/direct/P8253'), ('o', 'opel-13eeb7')]\n",
      "[('pName', 'OSM Name Suggestion Index identifier'), ('p', 'http://www.wikidata.org/prop/direct/P8253'), ('o', 'opel-dc8719')]\n",
      "[('pName', 'KBpedia ID'), ('p', 'http://www.wikidata.org/prop/direct/P8408'), ('o', 'OpelCar')]\n",
      "[('pName', 'official website'), ('p', 'http://www.wikidata.org/prop/direct/P856'), ('o', 'http://www.opel.com/')]\n",
      "[('pName', 'social media followers'), ('p', 'http://www.wikidata.org/prop/direct/P8687'), ('o', '55400')]\n",
      "[('pName', 'social media followers'), ('p', 'http://www.wikidata.org/prop/direct/P8687'), ('o', '100720')]\n",
      "[('pName', 'Commons gallery'), ('p', 'http://www.wikidata.org/prop/direct/P935'), ('o', 'Opel')]\n",
      "[('pName', 'National Library of Israel ID'), ('p', 'http://www.wikidata.org/prop/direct/P949'), ('o', '000212311')]\n",
      "[('pName', 'Biblioteca Nacional de España ID'), ('p', 'http://www.wikidata.org/prop/direct/P950'), ('o', 'XX4576610')]\n",
      "[('pName', 'described at URL'), ('p', 'http://www.wikidata.org/prop/direct/P973'), ('o', 'http://datos.bne.es/tema/XX4576610.html')]\n",
      "[('pName', 'WMI code'), ('p', 'http://www.wikidata.org/prop/direct/P6793'), ('o', 'W0L')]\n",
      "[('p', 'http://www.w3.org/1999/02/22-rdf-syntax-ns#type'), ('o', 'http://wikiba.se/ontology#Item')]\n",
      "[('p', 'http://www.wikidata.org/prop/direct-normalized/P1015'), ('o', 'https://livedata.bibsys.no/authority/90226633')]\n",
      "[('p', 'http://www.wikidata.org/prop/direct-normalized/P214'), ('o', 'http://viaf.org/viaf/122152911')]\n",
      "[('p', 'http://www.wikidata.org/prop/direct-normalized/P227'), ('o', 'https://d-nb.info/gnd/2003429-5')]\n",
      "[('p', 'http://www.wikidata.org/prop/direct-normalized/P244'), ('o', 'https://id.loc.gov/authorities/names/n90647646')]\n",
      "[('p', 'http://www.wikidata.org/prop/direct-normalized/P244'), ('o', 'https://id.loc.gov/authorities/names/sh85094869')]\n",
      "[('p', 'http://www.wikidata.org/prop/direct-normalized/P268'), ('o', 'http://data.bnf.fr/ark:/12148/cb11932918h#about')]\n",
      "[('p', 'http://www.wikidata.org/prop/direct-normalized/P268'), ('o', 'http://data.bnf.fr/ark:/12148/cb15043628f#about')]\n",
      "[('p', 'http://www.wikidata.org/prop/direct-normalized/P6366'), ('o', 'http://ma-graph.org/entity/1310473015')]\n",
      "[('p', 'http://www.wikidata.org/prop/direct-normalized/P646'), ('o', 'http://g.co/kg/m/05kzl')]\n",
      "[('p', 'http://www.wikidata.org/prop/direct-normalized/P8408'), ('o', 'http://kbpedia.org/kko/rc/OpelCar')]\n",
      "[('p', 'http://www.wikidata.org/prop/direct-normalized/P950'), ('o', 'http://datos.bne.es/resource/XX4576610')]\n",
      "[('p', 'http://schema.org/name'), ('o', 'Opel')]\n"
     ]
    },
    {
     "data": {
      "text/plain": [
       "83"
      ]
     },
     "execution_count": 6,
     "metadata": {},
     "output_type": "execute_result"
    }
   ],
   "source": [
    "queryString = \"\"\"\n",
    "SELECT DISTINCT ?pName ?oName ?p ?o\n",
    "WHERE { \n",
    "    wd:Q40966 ?p ?o .\n",
    "    OPTIONAL { ?p sc:name ?pName }\n",
    "    OPTIONAL { ?o sc:name ?oName }\n",
    "} \n",
    "\"\"\"\n",
    "\n",
    "print(\"Results\")\n",
    "run_query(queryString)"
   ]
  },
  {
   "cell_type": "markdown",
   "id": "3940506e-164f-453f-b671-605c75af1a9f",
   "metadata": {},
   "source": [
    "### Search fo instance of Company property"
   ]
  },
  {
   "cell_type": "code",
   "execution_count": 7,
   "id": "1ae927c1-4bcb-423c-8a88-1135124239a2",
   "metadata": {},
   "outputs": [
    {
     "name": "stdout",
     "output_type": "stream",
     "text": [
      "Results\n",
      "[('oName', 'automobile manufacturer'), ('o', 'http://www.wikidata.org/entity/Q786820')]\n",
      "[('oName', 'car brand'), ('o', 'http://www.wikidata.org/entity/Q10429667')]\n",
      "[('oName', 'subsidiary'), ('o', 'http://www.wikidata.org/entity/Q658255')]\n"
     ]
    },
    {
     "data": {
      "text/plain": [
       "3"
      ]
     },
     "execution_count": 7,
     "metadata": {},
     "output_type": "execute_result"
    }
   ],
   "source": [
    "queryString = \"\"\"\n",
    "SELECT DISTINCT ?oName ?o\n",
    "WHERE { \n",
    "    wd:Q40966 wdt:P31|wdt:P279 ?o .\n",
    "    ?o sc:name ?oName .\n",
    "\n",
    "} LIMIT 25\n",
    "\"\"\"\n",
    "\n",
    "print(\"Results\")\n",
    "run_query(queryString)"
   ]
  },
  {
   "cell_type": "markdown",
   "id": "148d9370-26ba-44e6-8f48-9ee71815c8f7",
   "metadata": {},
   "source": [
    "### Search superclass of the above property"
   ]
  },
  {
   "cell_type": "code",
   "execution_count": 8,
   "id": "8691d2e4-e696-4689-98d4-71b94a604e4c",
   "metadata": {},
   "outputs": [
    {
     "name": "stdout",
     "output_type": "stream",
     "text": [
      "Results\n",
      "[('subName', 'manufacturer'), ('sub', 'http://www.wikidata.org/entity/Q13235160')]\n",
      "[('subName', 'profession'), ('sub', 'http://www.wikidata.org/entity/Q28640')]\n",
      "[('subName', 'brand'), ('sub', 'http://www.wikidata.org/entity/Q431289')]\n",
      "[('subName', 'enterprise'), ('sub', 'http://www.wikidata.org/entity/Q6881511')]\n",
      "[('subName', 'subsidiary entity'), ('sub', 'http://www.wikidata.org/entity/Q62079110')]\n",
      "[('subName', 'commercial company'), ('sub', 'http://www.wikidata.org/entity/Q567521')]\n"
     ]
    },
    {
     "data": {
      "text/plain": [
       "6"
      ]
     },
     "execution_count": 8,
     "metadata": {},
     "output_type": "execute_result"
    }
   ],
   "source": [
    "queryString = \"\"\"\n",
    "SELECT DISTINCT ?subName ?sub\n",
    "WHERE { \n",
    "    wd:Q40966 wdt:P31 ?o .\n",
    "    OPTIONAL{ ?o wdt:P279 ?sub .}\n",
    "    ?o sc:name ?oName .\n",
    "    ?sub sc:name ?subName .\n",
    "} LIMIT 25\n",
    "\"\"\"\n",
    "\n",
    "print(\"Results\")\n",
    "run_query(queryString)"
   ]
  },
  {
   "cell_type": "markdown",
   "id": "8f772af2-e0a7-4495-82af-6e6dfdfa692b",
   "metadata": {},
   "source": [
    "### Find the managers/directors and founder of german companies"
   ]
  },
  {
   "cell_type": "code",
   "execution_count": 9,
   "id": "15581007-9b70-4653-a660-f701452570c4",
   "metadata": {},
   "outputs": [
    {
     "name": "stdout",
     "output_type": "stream",
     "text": [
      "Results\n",
      "[('companyName', 'Die Burg'), ('managers', 'Willi Burth')]\n",
      "[('companyName', 'Römheld & Moelle'), ('managers', 'Julius Römheld')]\n",
      "[('companyName', 'Verlag Ferdinand Schöningh'), ('managers', 'Ferdinand Schöningh')]\n",
      "[('companyName', 'Grafit Verlag'), ('managers', 'Rutger Booß')]\n",
      "[('companyName', 'Aurelius Group'), ('managers', 'Dirk Markus')]\n",
      "[('companyName', 'Freies Jüdisches Lehrhaus'), ('managers', 'Franz Rosenzweig')]\n",
      "[('companyName', 'Aachener Domchor'), ('managers', 'Alcuin; Berthold Botzet; Charlemagne')]\n",
      "[('companyName', 'Hulk Räckorz'), ('managers', 'Wizo')]\n",
      "[('companyName', 'Chemische Fabrik Gebrüder Gravenhorst'), ('managers', 'Christoph Julius Gravenhorst; Johann Heinrich Gravenhorst')]\n",
      "[('companyName', 'Max Bahr'), ('managers', 'Max Bahr')]\n",
      "[('companyName', 'Bismarck-Gymnasium Karlsruhe'), ('managers', 'Johann Pistorius the Younger')]\n",
      "[('companyName', 'K. G. Saur Verlag'), ('managers', 'Karl-Otto Saur')]\n",
      "[('companyName', 'Kaiser-Wilhelm-Institut für Eisenforschung'), ('managers', 'Fritz Wüst')]\n",
      "[('companyName', 'Clinic St. Hedwig'), ('managers', 'Blue sisters of St. Elisabeth')]\n",
      "[('companyName', 'Allgemeiner Deutscher Fahrrad-Club'), ('managers', 'Jan Tebbe')]\n",
      "[('companyName', 'Busstops'), ('managers', 'Stiftung Niedersachsen')]\n",
      "[('companyName', 'Kolls'), ('managers', 'Heinrich Kolls')]\n",
      "[('companyName', 'Theater Blaue Maus'), ('managers', 'Robert Spitz; Sigi Siegert')]\n",
      "[('companyName', 'Berger memorial'), ('managers', 'Turngemeinde Witten von 1848')]\n",
      "[('companyName', 'Reiff-Museum Aachen'), ('managers', 'Franz Reiff')]\n"
     ]
    },
    {
     "data": {
      "text/plain": [
       "20"
      ]
     },
     "execution_count": 9,
     "metadata": {},
     "output_type": "execute_result"
    }
   ],
   "source": [
    "queryString = \"\"\"\n",
    "SELECT DISTINCT ?companyName (GROUP_CONCAT(distinct ?workerName ; SEPARATOR=\"; \") AS ?managers)\n",
    "WHERE {\n",
    "    {\n",
    "        SELECT ?companyName ?workerName\n",
    "        WHERE {\n",
    "            ?company wdt:P1037 ?worker ; #manager\n",
    "                 wdt:P112 ?founder ;\n",
    "                 wdt:P17 wd:Q183 ;\n",
    "                 sc:name ?companyName .\n",
    "            ?worker sc:name ?workerName .\n",
    "        }\n",
    "    }\n",
    "    UNION\n",
    "    {\n",
    "        SELECT ?companyName ?workerName\n",
    "        WHERE {\n",
    "            ?company wdt:P112 ?worker ; #founder\n",
    "                 wdt:P17 wd:Q183 ;\n",
    "                 sc:name ?companyName .\n",
    "            ?worker sc:name ?workerName .\n",
    "        }\n",
    "    \n",
    "    } \n",
    "           \n",
    "} GROUP BY ?companyName\n",
    "LIMIT 20\n",
    "\"\"\"\n",
    "\n",
    "print(\"Results\")\n",
    "run_query(queryString)"
   ]
  },
  {
   "cell_type": "markdown",
   "id": "073881f3-2619-4fd2-aa4d-aec415bf3703",
   "metadata": {},
   "source": [
    "### Search instance of human property"
   ]
  },
  {
   "cell_type": "code",
   "execution_count": 10,
   "id": "26792ea0-b655-40ee-8133-2e96824c63bc",
   "metadata": {},
   "outputs": [
    {
     "name": "stdout",
     "output_type": "stream",
     "text": [
      "Results\n",
      "[('oName', 'human'), ('o', 'http://www.wikidata.org/entity/Q5')]\n"
     ]
    },
    {
     "data": {
      "text/plain": [
       "1"
      ]
     },
     "execution_count": 10,
     "metadata": {},
     "output_type": "execute_result"
    }
   ],
   "source": [
    "queryString = \"\"\"\n",
    "SELECT DISTINCT  ?oName ?o\n",
    "WHERE { \n",
    "    wd:Q56509715 wdt:P31 ?o .\n",
    "    ?o sc:name ?oName .\n",
    "} \n",
    "\"\"\"\n",
    "\n",
    "print(\"Results\")\n",
    "run_query(queryString)"
   ]
  },
  {
   "cell_type": "markdown",
   "id": "c94d2eb6-b47f-47bd-a4f0-41550ba27a73",
   "metadata": {},
   "source": [
    "### Search human worker and their role in Germany company"
   ]
  },
  {
   "cell_type": "code",
   "execution_count": 11,
   "id": "dae597d6-40b0-429d-bc04-c18b847abef4",
   "metadata": {},
   "outputs": [
    {
     "name": "stdout",
     "output_type": "stream",
     "text": [
      "Results\n",
      "Empty\n"
     ]
    },
    {
     "data": {
      "text/plain": [
       "0"
      ]
     },
     "execution_count": 11,
     "metadata": {},
     "output_type": "execute_result"
    }
   ],
   "source": [
    "queryString = \"\"\"\n",
    "SELECT DISTINCT ?workerName ?roleName ?role\n",
    "WHERE {\n",
    "\n",
    "    ?company ?role ?worker ;\n",
    "         wdt:P17 wd:Q183 ;\n",
    "         wdt:P279 wd:Q567521 ;\n",
    "         sc:name ?companyName .\n",
    "    \n",
    "    ?worker sc:name ?workerName ;\n",
    "            wdt:P31 wdt:Q5 .\n",
    "    \n",
    "    ?role sc:name ?roleName .\n",
    "           \n",
    "}\n",
    "LIMIT 20\n",
    "\"\"\"\n",
    "\n",
    "print(\"Results\")\n",
    "run_query(queryString)"
   ]
  },
  {
   "cell_type": "markdown",
   "id": "36cbfb13-1bdb-47b0-b37b-bb95a902ee8e",
   "metadata": {},
   "source": [
    "### Remove some predicates"
   ]
  },
  {
   "cell_type": "code",
   "execution_count": 12,
   "id": "39f2ddf9-8ec0-4f55-bf63-5f2eb4d60999",
   "metadata": {},
   "outputs": [
    {
     "name": "stdout",
     "output_type": "stream",
     "text": [
      "Results\n",
      "[('companyName', 'Gemeinnützige GmbH'), ('company', 'http://www.wikidata.org/entity/Q1500859')]\n",
      "[('companyName', 'Aktiengesellschaft'), ('company', 'http://www.wikidata.org/entity/Q422062')]\n",
      "[('companyName', 'Offene Handelsgesellschaft'), ('company', 'http://www.wikidata.org/entity/Q19340991')]\n",
      "[('companyName', 'Stiftung & Co. KG'), ('company', 'http://www.wikidata.org/entity/Q2348856')]\n",
      "[('companyName', 'Entrepreneurial company (Germany)'), ('company', 'http://www.wikidata.org/entity/Q2498526')]\n",
      "[('companyName', 'Stiftung & Co. KGaA'), ('company', 'http://www.wikidata.org/entity/Q2348860')]\n",
      "[('companyName', 'Stiftung GmbH & Co. KG'), ('company', 'http://www.wikidata.org/entity/Q2348994')]\n"
     ]
    },
    {
     "data": {
      "text/plain": [
       "7"
      ]
     },
     "execution_count": 12,
     "metadata": {},
     "output_type": "execute_result"
    }
   ],
   "source": [
    "queryString = \"\"\"\n",
    "SELECT DISTINCT ?companyName ?company\n",
    "WHERE {\n",
    "\n",
    "    ?company wdt:P17 wd:Q183 ;\n",
    "         wdt:P279* wd:Q567521 ;\n",
    "         sc:name ?companyName .           \n",
    "}\n",
    "LIMIT 20\n",
    "\"\"\"\n",
    "\n",
    "print(\"Results\")\n",
    "run_query(queryString)"
   ]
  },
  {
   "cell_type": "markdown",
   "id": "a356be67-49d1-4c4d-b414-309de6fd54e0",
   "metadata": {
    "tags": []
   },
   "source": [
    "### Correct query (add * to wdt:P279)"
   ]
  },
  {
   "cell_type": "code",
   "execution_count": 13,
   "id": "163d8e34-a580-400f-a13f-2fd24ff05929",
   "metadata": {},
   "outputs": [
    {
     "name": "stdout",
     "output_type": "stream",
     "text": [
      "Results\n",
      "Empty\n"
     ]
    },
    {
     "data": {
      "text/plain": [
       "0"
      ]
     },
     "execution_count": 13,
     "metadata": {},
     "output_type": "execute_result"
    }
   ],
   "source": [
    "queryString = \"\"\"\n",
    "SELECT DISTINCT ?workerName ?roleName ?role\n",
    "WHERE {\n",
    "\n",
    "    ?company ?role ?worker ;\n",
    "         wdt:P17 wd:Q183 ;\n",
    "         wdt:P279* wd:Q567521 ;\n",
    "         sc:name ?companyName .\n",
    "    \n",
    "    ?worker sc:name ?workerName ;\n",
    "            wdt:P31 wdt:Q5 .\n",
    "    \n",
    "    ?role sc:name ?roleName .\n",
    "           \n",
    "}\n",
    "LIMIT 20\n",
    "\"\"\"\n",
    "\n",
    "print(\"Results\")\n",
    "run_query(queryString)"
   ]
  },
  {
   "cell_type": "markdown",
   "id": "dc5525ae-90ba-4a59-8dc5-4d0f8eb189f3",
   "metadata": {},
   "source": [
    "### Correct again the query: removed the subclass of and added the instance of predicate. Then it check if the instance is subclass of company"
   ]
  },
  {
   "cell_type": "code",
   "execution_count": 14,
   "id": "24f7bb05-6e02-45eb-b637-e3e0c32ff203",
   "metadata": {},
   "outputs": [
    {
     "name": "stdout",
     "output_type": "stream",
     "text": [
      "Results\n",
      "[('roleName', 'founded by'), ('role', 'http://www.wikidata.org/prop/direct/P112')]\n",
      "[('roleName', 'named after'), ('role', 'http://www.wikidata.org/prop/direct/P138')]\n",
      "[('roleName', 'owned by'), ('role', 'http://www.wikidata.org/prop/direct/P127')]\n",
      "[('roleName', 'chief executive officer'), ('role', 'http://www.wikidata.org/prop/direct/P169')]\n",
      "[('roleName', 'director / manager'), ('role', 'http://www.wikidata.org/prop/direct/P1037')]\n",
      "[('roleName', 'board member'), ('role', 'http://www.wikidata.org/prop/direct/P3320')]\n",
      "[('roleName', 'significant person'), ('role', 'http://www.wikidata.org/prop/direct/P3342')]\n",
      "[('roleName', 'chairperson'), ('role', 'http://www.wikidata.org/prop/direct/P488')]\n",
      "[('roleName', 'supervisory board member'), ('role', 'http://www.wikidata.org/prop/direct/P5052')]\n",
      "[('roleName', 'owner of'), ('role', 'http://www.wikidata.org/prop/direct/P1830')]\n",
      "[('roleName', 'investor'), ('role', 'http://www.wikidata.org/prop/direct/P1951')]\n"
     ]
    },
    {
     "data": {
      "text/plain": [
       "11"
      ]
     },
     "execution_count": 14,
     "metadata": {},
     "output_type": "execute_result"
    }
   ],
   "source": [
    "queryString = \"\"\"\n",
    "SELECT DISTINCT ?roleName ?role\n",
    "WHERE {\n",
    "\n",
    "    ?company ?role ?worker ;\n",
    "         wdt:P17 wd:Q183 ;\n",
    "         wdt:P31 ?instance ;\n",
    "         sc:name ?companyName .\n",
    "         \n",
    "    ?instance wdt:P279* wd:Q567521 .\n",
    "    \n",
    "    ?worker wdt:P31 wd:Q5 .\n",
    "    OPTIONAL{ ?worker sc:name ?workerName .}\n",
    "    \n",
    "    ?role sc:name ?roleName .\n",
    "           \n",
    "}\n",
    "LIMIT 20\n",
    "\"\"\"\n",
    "\n",
    "print(\"Results\")\n",
    "run_query(queryString)"
   ]
  },
  {
   "cell_type": "markdown",
   "id": "28d79e1d-1d59-498c-9c67-b7d9cab7f3d0",
   "metadata": {},
   "source": [
    "### Try reverse path"
   ]
  },
  {
   "cell_type": "code",
   "execution_count": 15,
   "id": "80d4c449-8571-497a-911e-c4a082247431",
   "metadata": {},
   "outputs": [
    {
     "name": "stdout",
     "output_type": "stream",
     "text": [
      "Results\n",
      "[('roleName', 'employer'), ('role', 'http://www.wikidata.org/prop/direct/P108')]\n",
      "[('roleName', 'affiliation'), ('role', 'http://www.wikidata.org/prop/direct/P1416')]\n",
      "[('roleName', 'field of work'), ('role', 'http://www.wikidata.org/prop/direct/P101')]\n",
      "[('roleName', 'chief executive officer'), ('role', 'http://www.wikidata.org/prop/direct/P169')]\n",
      "[('roleName', 'described by source'), ('role', 'http://www.wikidata.org/prop/direct/P1343')]\n",
      "[('roleName', 'owner of'), ('role', 'http://www.wikidata.org/prop/direct/P1830')]\n",
      "[('roleName', 'oral history at'), ('role', 'http://www.wikidata.org/prop/direct/P9600')]\n",
      "[('roleName', 'member of'), ('role', 'http://www.wikidata.org/prop/direct/P463')]\n",
      "[('roleName', 'has works in the collection'), ('role', 'http://www.wikidata.org/prop/direct/P6379')]\n",
      "[('roleName', 'sponsor'), ('role', 'http://www.wikidata.org/prop/direct/P859')]\n",
      "[('roleName', 'has written for'), ('role', 'http://www.wikidata.org/prop/direct/P6872')]\n",
      "[('roleName', 'educated at'), ('role', 'http://www.wikidata.org/prop/direct/P69')]\n",
      "[('roleName', 'member of sports team'), ('role', 'http://www.wikidata.org/prop/direct/P54')]\n",
      "[('roleName', 'director / manager'), ('role', 'http://www.wikidata.org/prop/direct/P1037')]\n"
     ]
    },
    {
     "data": {
      "text/plain": [
       "14"
      ]
     },
     "execution_count": 15,
     "metadata": {},
     "output_type": "execute_result"
    }
   ],
   "source": [
    "queryString = \"\"\"\n",
    "SELECT DISTINCT ?roleName ?role\n",
    "WHERE {\n",
    "\n",
    "    ?company wdt:P17 wd:Q183 ;\n",
    "         wdt:P31 ?instance ;\n",
    "         sc:name ?companyName .\n",
    "         \n",
    "    ?instance wdt:P279* wd:Q567521 .\n",
    "    \n",
    "    ?worker wdt:P31 wd:Q5 ;\n",
    "            ?role ?company .\n",
    "    OPTIONAL { ?worker sc:name ?workerName . }\n",
    "    \n",
    "    ?role sc:name ?roleName .\n",
    "           \n",
    "}\n",
    "LIMIT 20\n",
    "\"\"\"\n",
    "\n",
    "print(\"Results\")\n",
    "run_query(queryString)"
   ]
  },
  {
   "cell_type": "markdown",
   "id": "d91da827-9277-4598-92a6-f9f00cc13406",
   "metadata": {
    "tags": []
   },
   "source": [
    "### Result part 1\n",
    "We can see that the last query return also the employees, so the previous one is better because it retrieves only \"important\" role of the companies.\n",
    "It is fondamental the triple (?instance wdt:P279* wd:Q567521) to retrieve only the companies.\n",
    "\n",
    "The next 2 query retreive:\n",
    "* all the C.E.O., managers, directors or founders with thier role;\n",
    "* all the C.E.O., managers, directors or founders with thier role grouped by company."
   ]
  },
  {
   "cell_type": "markdown",
   "id": "99b8638e-7845-45be-ab65-ef0c2b93e0ca",
   "metadata": {},
   "source": [
    "#### all the C.E.O., managers, directors or founders with thier role"
   ]
  },
  {
   "cell_type": "code",
   "execution_count": 16,
   "id": "6820c704-44e3-42d6-a463-584de7979f5c",
   "metadata": {},
   "outputs": [
    {
     "name": "stdout",
     "output_type": "stream",
     "text": [
      "Results\n",
      "[('workerName', 'Wilhelm Haspel'), ('roles', 'board member')]\n",
      "[('workerName', 'Thomas Eichelmann'), ('roles', 'chairperson; supervisory board member')]\n",
      "[('workerName', 'Robert Pferdmenges'), ('roles', 'supervisory board member')]\n",
      "[('workerName', 'Robert Gentz'), ('roles', 'founded by')]\n",
      "[('workerName', 'Karl Rapp'), ('roles', 'founded by')]\n",
      "[('workerName', 'Hermann Schilling'), ('roles', 'board member')]\n",
      "[('workerName', 'Norbert Reithofer'), ('roles', 'director / manager')]\n",
      "[('workerName', 'Walter J. Zable'), ('roles', 'founded by')]\n",
      "[('workerName', 'Edzard Reuter'), ('roles', 'board member')]\n",
      "[('workerName', 'Tobias Meyer'), ('roles', 'board member')]\n",
      "[('workerName', 'Werner Baumann'), ('roles', 'chief executive officer')]\n",
      "[('workerName', 'Helmut Gottschalk'), ('roles', 'director / manager')]\n",
      "[('workerName', 'Carsten Spohr'), ('roles', 'board member; chief executive officer')]\n",
      "[('workerName', 'Oliver Bäte'), ('roles', 'director / manager')]\n",
      "[('workerName', 'Ulrich Schmack'), ('roles', 'founded by')]\n",
      "[('workerName', 'Carl Duisberg'), ('roles', 'board member')]\n",
      "[('workerName', 'Werner Wenning'), ('roles', 'director / manager')]\n",
      "[('workerName', 'Angela Titzrath'), ('roles', 'chief executive officer')]\n",
      "[('workerName', 'Christian Reinaudo'), ('roles', 'director / manager')]\n",
      "[('workerName', 'Dirk Markus'), ('roles', 'founded by')]\n"
     ]
    },
    {
     "data": {
      "text/plain": [
       "20"
      ]
     },
     "execution_count": 16,
     "metadata": {},
     "output_type": "execute_result"
    }
   ],
   "source": [
    "queryString = \"\"\"\n",
    "SELECT ?workerName (GROUP_CONCAT(DISTINCT ?roleName; SEPARATOR=\"; \") AS ?roles)\n",
    "WHERE {\n",
    "\n",
    "    ?company ?role ?worker ;\n",
    "         wdt:P17 wd:Q183 ;\n",
    "         wdt:P31 ?instance ;\n",
    "         sc:name ?companyName .\n",
    "         \n",
    "    ?instance wdt:P279* wd:Q567521 .\n",
    "    \n",
    "    ?worker wdt:P31 wd:Q5 .\n",
    "    OPTIONAL{ ?worker sc:name ?workerName .}\n",
    "    \n",
    "    ?role sc:name ?roleName .\n",
    "           \n",
    "}\n",
    "LIMIT 20\n",
    "\"\"\"\n",
    "\n",
    "print(\"Results\")\n",
    "run_query(queryString)"
   ]
  },
  {
   "cell_type": "markdown",
   "id": "2c5171ba-9a50-47c0-99ea-a2f9320b26f1",
   "metadata": {},
   "source": [
    "### all the C.E.O., managers, directors or founders with thier role grouped by company"
   ]
  },
  {
   "cell_type": "code",
   "execution_count": 17,
   "id": "7abda0fa-9d85-466a-adfc-051c90ba3560",
   "metadata": {},
   "outputs": [
    {
     "name": "stdout",
     "output_type": "stream",
     "text": [
      "Results\n",
      "[('companyName', 'BMW'), ('workersInfo', 'board member: Helmut Panke; board member: Karl-Heinz Sonne; chief executive officer: Oliver Zipse; director / manager: Norbert Reithofer; founded by: Camillo Castiglioni; founded by: Franz Josef Popp; founded by: Karl Rapp; owned by: Stefan Quandt; owned by: Susanne Klatten; supervisory board member: Reinhard Hüttl')]\n",
      "[('companyName', 'Dachser Group SE & Co. KG'), ('workersInfo', 'director / manager: Bernhard Simon; founded by: Thomas Dachser')]\n",
      "[('companyName', 'Vattenfall'), ('workersInfo', 'director / manager: Tuomo Hatakka')]\n",
      "[('companyName', 'Lanxess'), ('workersInfo', 'director / manager: Matthias Zachert')]\n",
      "[('companyName', 'Friedrich Krupp AG'), ('workersInfo', 'board member: Alfred Hugenberg; board member: Alfried Krupp von Bohlen und Halbach; board member: Bertha Krupp; board member: Friedrich Janssen; board member: Otto Wiedfeldt; founded by: Friedrich Krupp; supervisory board member: Gustav Krupp von Bohlen und Halbach; supervisory board member: Kurt Sorge')]\n",
      "[('companyName', 'TÜV Nord'), ('workersInfo', 'director / manager: Dirk Stenkamp')]\n",
      "[('companyName', 'Odeon Film'), ('workersInfo', 'director / manager: Mischa Hofmann')]\n",
      "[('companyName', 'Hochtief'), ('workersInfo', 'board member: Eugen Vögler; founded by: Balthasar Helfmann; founded by: Philipp Helfmann')]\n",
      "[('companyName', 'Wiley'), ('workersInfo', 'founded by: Charles Wiley')]\n",
      "[('companyName', 'Walter Bau AG'), ('workersInfo', 'board member: Ignaz Walter; owned by: Ignaz Walter; supervisory board member: Ignaz Walter')]\n",
      "[('companyName', 'Jefferies & Company'), ('workersInfo', 'chief executive officer: Richard B. Handler')]\n",
      "[('companyName', 'Dieter-Schwarz-Stiftung'), ('workersInfo', 'named after: Dieter Schwarz')]\n",
      "[('companyName', 'Volkswagen Group'), ('workersInfo', 'board member: Heinrich Nordhoff; board member: Rudolf Leiding; board member: Toni Schmücker; chief executive officer: Herbert Diess; director / manager: Herbert Diess; founded by: Ferdinand Porsche')]\n",
      "[('companyName', 'Vonovia'), ('workersInfo', 'chief executive officer: Rolf Buch')]\n",
      "[('companyName', 'Deutsche Bank'), ('workersInfo', 'board member: Arthur von Gwinner; board member: Clemens Plassmann; board member: Eduard Mosler; board member: Georg Adolf Solmssen; board member: Georg von Siemens; board member: Hans Rummel; board member: Karl Kimmich; board member: Karl Theodor Helfferich; board member: Paul Millington-Herrmann; chief executive officer: Christian Sewing; director / manager: Christian Sewing; founded by: Ludwig Bamberger; supervisory board member: Arthur Salomonsohn; supervisory board member: Franz Urbig; supervisory board member: Hugo Henkel; supervisory board member: Max Steinthal; supervisory board member: Oskar Schlitter; supervisory board member: Wolfgang Kapp')]\n",
      "[('companyName', 'Bruker'), ('workersInfo', 'founded by: Günther Laukien')]\n",
      "[('companyName', 'Aktiengesellschaft für Seeschiffahrt'), ('workersInfo', 'founded by: Hugo Stinnes')]\n",
      "[('companyName', 'Air Berlin'), ('workersInfo', 'chief executive officer: Thomas Winkelmann')]\n",
      "[('companyName', 'Opel'), ('workersInfo', 'board member: Friedrich Opel; board member: Fritz von Opel; board member: Wilhelm von Opel; chief executive officer: Uwe Hochgeschurtz; director / manager: Michael Lohscheller; founded by: Adam Opel; named after: Adam Opel')]\n",
      "[('companyName', 'L-Bank'), ('workersInfo', 'chief executive officer: Axel Nawrath')]\n"
     ]
    },
    {
     "data": {
      "text/plain": [
       "20"
      ]
     },
     "execution_count": 17,
     "metadata": {},
     "output_type": "execute_result"
    }
   ],
   "source": [
    "queryString = \"\"\"\n",
    "SELECT ?companyName (GROUP_CONCAT(DISTINCT ?workerInfo; SEPARATOR=\"; \") AS ?workersInfo)\n",
    "WHERE {\n",
    "    \n",
    "    ?company ?role ?worker ;\n",
    "         wdt:P17 wd:Q183 ;\n",
    "         wdt:P31 ?instance ;\n",
    "         sc:name ?companyName .\n",
    "\n",
    "    ?instance wdt:P279* wd:Q567521 .\n",
    "\n",
    "    ?worker wdt:P31 wd:Q5 ;\n",
    "        sc:name ?workerName .\n",
    "\n",
    "    ?role sc:name ?roleName .\n",
    "    \n",
    "    BIND(CONCAT(?roleName,\": \",?workerName) as ?workerInfo)\n",
    "      \n",
    "} GROUP BY ?companyName\n",
    "LIMIT 20\n",
    "\"\"\"\n",
    "\n",
    "print(\"Results\")\n",
    "run_query(queryString)"
   ]
  },
  {
   "cell_type": "markdown",
   "id": "bbf6950f-63e4-4e55-81c6-24d66c82d80b",
   "metadata": {},
   "source": [
    "### Same as previous query but for every person in a company has been grouped his/her roles (if more than one are present)"
   ]
  },
  {
   "cell_type": "code",
   "execution_count": 18,
   "id": "c309597b-0643-476e-8ab8-8b862b561b95",
   "metadata": {},
   "outputs": [
    {
     "name": "stdout",
     "output_type": "stream",
     "text": [
      "Results\n",
      "[('workerName', 'Werner Wenning'), ('roles', 'director / manager'), ('workerInfo', 'Werner Wenning : director / manager')]\n",
      "[('workerName', 'Ernst Tengelmann'), ('roles', 'board member'), ('workerInfo', 'Ernst Tengelmann : board member')]\n",
      "[('workerName', 'Dr. Marcus Chromik'), ('roles', 'board member'), ('workerInfo', 'Dr. Marcus Chromik : board member')]\n",
      "[('workerName', 'Klaus Rehnig'), ('roles', 'supervisory board member'), ('workerInfo', 'Klaus Rehnig : supervisory board member')]\n",
      "[('workerName', 'Adolf Dassler'), ('roles', 'founded by, named after'), ('workerInfo', 'Adolf Dassler : founded by, named after')]\n",
      "[('workerName', 'Adolf von Brüning'), ('roles', 'founded by, named after'), ('workerInfo', 'Adolf von Brüning : founded by, named after')]\n",
      "[('workerName', 'Oliver Zipse'), ('roles', 'chief executive officer'), ('workerInfo', 'Oliver Zipse : chief executive officer')]\n",
      "[('workerName', 'Ernst Leitz senior'), ('roles', 'founded by, named after'), ('workerInfo', 'Ernst Leitz senior : founded by, named after')]\n",
      "[('workerName', 'Hans Schippel'), ('roles', 'board member'), ('workerInfo', 'Hans Schippel : board member')]\n",
      "[('workerName', 'Thomas Winkelmann'), ('roles', 'chief executive officer'), ('workerInfo', 'Thomas Winkelmann : chief executive officer')]\n",
      "[('workerName', 'Melanie Kreis'), ('roles', 'board member'), ('workerInfo', 'Melanie Kreis : board member')]\n",
      "[('workerName', 'Brian Cassin'), ('roles', 'chief executive officer'), ('workerInfo', 'Brian Cassin : chief executive officer')]\n",
      "[('workerName', 'Karl Rapp'), ('roles', 'founded by'), ('workerInfo', 'Karl Rapp : founded by')]\n",
      "[('workerName', 'Richard B. Handler'), ('roles', 'chief executive officer'), ('workerInfo', 'Richard B. Handler : chief executive officer')]\n",
      "[('workerName', 'Wilhelm Meister'), ('roles', 'founded by, named after'), ('workerInfo', 'Wilhelm Meister : founded by, named after')]\n",
      "[('workerName', 'Mathias Döpfner'), ('roles', 'chief executive officer'), ('workerInfo', 'Mathias Döpfner : chief executive officer')]\n",
      "[('workerName', 'Sucheta Govil'), ('roles', 'board member'), ('workerInfo', 'Sucheta Govil : board member')]\n",
      "[('workerName', 'Walter J. Zable'), ('roles', 'founded by'), ('workerInfo', 'Walter J. Zable : founded by')]\n",
      "[('workerName', 'Rice Powell'), ('roles', 'director / manager'), ('workerInfo', 'Rice Powell : director / manager')]\n",
      "[('workerName', 'Edzard Reuter'), ('roles', 'board member'), ('workerInfo', 'Edzard Reuter : board member')]\n"
     ]
    },
    {
     "data": {
      "text/plain": [
       "20"
      ]
     },
     "execution_count": 18,
     "metadata": {},
     "output_type": "execute_result"
    }
   ],
   "source": [
    "queryString = \"\"\"\n",
    "#SELECT ?companyName (GROUP_CONCAT(DISTINCT ?workerInfo; SEPARATOR=\"; \") AS ?workersInfo)\n",
    "SELECT ?workerName ?roles ?workerInfo\n",
    "WHERE {\n",
    "    {\n",
    "        SELECT ?companyName ?workerName (GROUP_CONCAT(DISTINCT ?roleName; SEPARATOR=\", \") AS ?roles)\n",
    "        WHERE{\n",
    "            ?company ?role ?worker ;\n",
    "                 wdt:P17 wd:Q183 ;\n",
    "                 wdt:P31 ?instance ;\n",
    "                 sc:name ?companyName .\n",
    "\n",
    "            ?instance wdt:P279* wd:Q567521 .\n",
    "\n",
    "            ?worker wdt:P31 wd:Q5 ;\n",
    "                sc:name ?workerName .\n",
    "\n",
    "            ?role sc:name ?roleName .\n",
    "        } GROUP BY ?companyName ?workerName\n",
    "    }\n",
    "    BIND( CONCAT(?workerName,\" : \",?roles) AS ?workerInfo)\n",
    "    \n",
    "} GROUP BY ?companyName\n",
    "LIMIT 20\n",
    "\"\"\"\n",
    "\n",
    "print(\"Results\")\n",
    "run_query(queryString)"
   ]
  },
  {
   "cell_type": "markdown",
   "id": "96f892d0-4104-4d74-9d6c-32ec4fd9f1b6",
   "metadata": {},
   "source": [
    "### See the results written above for the Part 1"
   ]
  },
  {
   "cell_type": "markdown",
   "id": "bdddcd19-1006-4b1a-9254-cf725d567429",
   "metadata": {},
   "source": [
    "## Part 2\n",
    "### Identify the BGP to retrieve gender and profession of people and industry of companies\n",
    "Note: this is the last part done, so the predicate has been retrieved from the other queries"
   ]
  },
  {
   "cell_type": "code",
   "execution_count": 19,
   "id": "56fc6598-3eb1-4dbb-be3b-cccae76b5fe6",
   "metadata": {},
   "outputs": [
    {
     "name": "stdout",
     "output_type": "stream",
     "text": [
      "Results\n",
      "[('workerName', 'Friedrich Engelhorn'), ('genderType', 'male'), ('prefession', 'founded by'), ('sectors', 'chemical industry; crop protection; extraction of petroleum; pharmaceutical industry')]\n",
      "[('workerName', 'Jürgen E. Schrempp'), ('genderType', 'male'), ('prefession', 'chief executive officer'), ('sectors', 'Manufacture of motor vehicles; arms industry; automotive industry; aviation industry; vehicle construction')]\n",
      "[('workerName', 'Uğur Şahin'), ('genderType', 'male'), ('prefession', 'board member; chief executive officer'), ('sectors', 'pharmaceutical industry')]\n",
      "[('workerName', 'Ken Allen'), ('genderType', 'male'), ('prefession', 'board member'), ('sectors', 'logistics; mail; postal and telecommunications services')]\n",
      "[('workerName', 'Eugen Vögler'), ('genderType', 'male'), ('prefession', 'board member'), ('sectors', 'Construction; construction industry')]\n",
      "[('workerName', 'Karl Winnacker'), ('genderType', 'male'), ('prefession', 'board member'), ('sectors', 'chemical industry; information technology; paint industry; pharmaceutical industry; plastics industry')]\n",
      "[('workerName', 'Sabine Schmittroth'), ('genderType', 'female'), ('prefession', 'board member'), ('sectors', 'Financial service activities, except insurance and pension funding; financial services')]\n",
      "[('workerName', 'Alexander von Knoop'), ('genderType', 'male'), ('prefession', 'board member'), ('sectors', 'financial services')]\n",
      "[('workerName', 'Leo Ellinger'), ('genderType', 'male'), ('prefession', 'founded by'), ('sectors', 'food industry')]\n",
      "[('workerName', 'Ulrich Lehner'), ('genderType', 'male'), ('prefession', 'chief executive officer'), ('sectors', 'arms industry; ferrous metallurgy')]\n",
      "[('workerName', 'Karl Benz'), ('genderType', 'male'), ('prefession', 'founded by; named after'), ('sectors', 'Manufacture of motor vehicles; arms industry; automotive industry; aviation industry; vehicle construction')]\n",
      "[('workerName', 'Michael Lohscheller'), ('genderType', 'male'), ('prefession', 'director / manager'), ('sectors', 'automotive industry; mechanical engineering')]\n",
      "[('workerName', 'Paul Bauer-Schlichtegroll'), ('genderType', 'male'), ('prefession', 'supervisory board member'), ('sectors', 'financial services')]\n",
      "[('workerName', \"Vuyiswa V. M'Cwabeni\"), ('genderType', 'female'), ('prefession', 'supervisory board member'), ('sectors', 'financial services')]\n",
      "[('workerName', 'William Lever, 1st Viscount Leverhulme'), ('genderType', 'male'), ('prefession', 'founded by'), ('sectors', 'Manufacture of bakery and farinaceous products; Manufacture of grain mill products, starches and starch products; Manufacture of soap and detergents, cleaning and polishing preparations, perfumes and toilet preparations; Manufacture of vegetable and animal oils and fats; chemical industry; dairy industry; fast-moving consumer goods; food and tobacco industry; food industry; perfumery; personal care products')]\n",
      "[('workerName', 'Mathias Döpfner'), ('genderType', 'male'), ('prefession', 'chief executive officer'), ('sectors', 'publishing')]\n",
      "[('workerName', 'Carl Wurster'), ('genderType', 'male'), ('prefession', 'board member'), ('sectors', 'chemical industry; crop protection; extraction of petroleum; pharmaceutical industry')]\n",
      "[('workerName', 'Alfred Hugenberg'), ('genderType', 'male'), ('prefession', 'board member'), ('sectors', 'Manufacture of basic metals; heavy industry; metal industry')]\n",
      "[('workerName', 'Eduard Schleicher'), ('genderType', 'male'), ('prefession', 'owned by'), ('sectors', 'Manufacture of medical and dental instruments and supplies; industry')]\n",
      "[('workerName', 'Tuomo Hatakka'), ('genderType', 'male'), ('prefession', 'director / manager'), ('sectors', 'energy company')]\n"
     ]
    },
    {
     "data": {
      "text/plain": [
       "20"
      ]
     },
     "execution_count": 19,
     "metadata": {},
     "output_type": "execute_result"
    }
   ],
   "source": [
    "queryString = \"\"\"\n",
    "SELECT DISTINCT ?workerName ?genderType (GROUP_CONCAT(DISTINCT ?roleName; SEPARATOR=\"; \") AS ?prefession) (GROUP_CONCAT(DISTINCT ?sector; SEPARATOR=\"; \") AS ?sectors)\n",
    "WHERE {\n",
    "\n",
    "    ?company ?role ?worker ;\n",
    "         wdt:P17 wd:Q183 ;\n",
    "         wdt:P31 ?instance ;\n",
    "         wdt:P452 ?industry ;\n",
    "         sc:name ?companyName .\n",
    "         \n",
    "    ?instance wdt:P279* wd:Q567521 .\n",
    "    ?industry sc:name ?sector .\n",
    "    \n",
    "    ?worker wdt:P31 wd:Q5 ;\n",
    "         wdt:P21 ?gender ;     #gender detail\n",
    "        sc:name ?workerName .\n",
    "        \n",
    "    ?gender sc:name ?genderType .\n",
    "    \n",
    "    ?role sc:name ?roleName .\n",
    "           \n",
    "}\n",
    "GROUP BY ?workerName ?genderType\n",
    "LIMIT 20\n",
    "\"\"\"\n",
    "\n",
    "print(\"Results\")\n",
    "run_query(queryString)"
   ]
  },
  {
   "cell_type": "markdown",
   "id": "cd1fa4fe-54f4-40a4-9401-794321fb5515",
   "metadata": {},
   "source": [
    "### Try to find work predicate or similar"
   ]
  },
  {
   "cell_type": "code",
   "execution_count": 20,
   "id": "bef29f19-5d1b-4d1a-8d4d-31ba03b123ae",
   "metadata": {
    "tags": []
   },
   "outputs": [
    {
     "name": "stdout",
     "output_type": "stream",
     "text": [
      "Results\n",
      "Empty\n"
     ]
    },
    {
     "data": {
      "text/plain": [
       "0"
      ]
     },
     "execution_count": 20,
     "metadata": {},
     "output_type": "execute_result"
    }
   ],
   "source": [
    "queryString = \"\"\"\n",
    "SELECT DISTINCT ?pName ?p\n",
    "WHERE { \n",
    "    wd:Q56509715 ?p ?o .\n",
    "    ?p sc:name ?pName .\n",
    "    FILTER (regex(?pName, \".*[Ww]ork.*\")||regex(?pName, \".*[Ee]mploe.*\"))\n",
    "} \n",
    "\"\"\"\n",
    "\n",
    "print(\"Results\")\n",
    "run_query(queryString)"
   ]
  },
  {
   "cell_type": "markdown",
   "id": "4c555597-fce5-429a-a6a7-0b02066c10f3",
   "metadata": {},
   "source": [
    "### Try to see all the predicate associated to Michael Lohscheller"
   ]
  },
  {
   "cell_type": "code",
   "execution_count": 21,
   "id": "d31faf44-605d-4725-a400-6d5729dc7038",
   "metadata": {},
   "outputs": [
    {
     "name": "stdout",
     "output_type": "stream",
     "text": [
      "Results\n",
      "[('pName', 'occupation'), ('p', 'http://www.wikidata.org/prop/direct/P106')]\n",
      "[('pName', 'Munzinger person ID'), ('p', 'http://www.wikidata.org/prop/direct/P1284')]\n",
      "[('pName', 'languages spoken, written or signed'), ('p', 'http://www.wikidata.org/prop/direct/P1412')]\n",
      "[('pName', 'image'), ('p', 'http://www.wikidata.org/prop/direct/P18')]\n",
      "[('pName', 'place of birth'), ('p', 'http://www.wikidata.org/prop/direct/P19')]\n",
      "[('pName', 'sex or gender'), ('p', 'http://www.wikidata.org/prop/direct/P21')]\n",
      "[('pName', 'Google Knowledge Graph ID'), ('p', 'http://www.wikidata.org/prop/direct/P2671')]\n",
      "[('pName', 'country of citizenship'), ('p', 'http://www.wikidata.org/prop/direct/P27')]\n",
      "[('pName', 'instance of'), ('p', 'http://www.wikidata.org/prop/direct/P31')]\n",
      "[('pName', 'Commons category'), ('p', 'http://www.wikidata.org/prop/direct/P373')]\n",
      "[('pName', 'date of birth'), ('p', 'http://www.wikidata.org/prop/direct/P569')]\n",
      "[('pName', 'family name'), ('p', 'http://www.wikidata.org/prop/direct/P734')]\n",
      "[('pName', 'given name'), ('p', 'http://www.wikidata.org/prop/direct/P735')]\n"
     ]
    },
    {
     "data": {
      "text/plain": [
       "13"
      ]
     },
     "execution_count": 21,
     "metadata": {},
     "output_type": "execute_result"
    }
   ],
   "source": [
    "queryString = \"\"\"\n",
    "SELECT DISTINCT  ?pName ?p\n",
    "WHERE { \n",
    "    wd:Q56509715 ?p ?o .\n",
    "    ?p sc:name ?pName .\n",
    "} \n",
    "\"\"\"\n",
    "\n",
    "print(\"Results\")\n",
    "run_query(queryString)"
   ]
  },
  {
   "cell_type": "markdown",
   "id": "436b6843-f4f9-40a4-b81c-7469c06635a9",
   "metadata": {},
   "source": [
    "### Retrieve all the workers with: their gender, their roles and the sectors where they work."
   ]
  },
  {
   "cell_type": "code",
   "execution_count": 22,
   "id": "c25e5968-c0a5-40d6-be00-99dbecb4545b",
   "metadata": {},
   "outputs": [
    {
     "name": "stdout",
     "output_type": "stream",
     "text": [
      "Results\n",
      "[('workerName', 'Friedrich Engelhorn'), ('genderType', 'male'), ('prefession', 'entrepreneur'), ('sectors', 'chemical industry; crop protection; extraction of petroleum; pharmaceutical industry')]\n",
      "[('workerName', 'Jürgen E. Schrempp'), ('genderType', 'male'), ('prefession', 'business executive'), ('sectors', 'Manufacture of motor vehicles; arms industry; automotive industry; aviation industry; vehicle construction')]\n",
      "[('workerName', 'Uğur Şahin'), ('genderType', 'male'), ('prefession', 'entrepreneur; oncologist; researcher; university teacher'), ('sectors', 'pharmaceutical industry')]\n",
      "[('workerName', 'Ken Allen'), ('genderType', 'male'), ('prefession', 'manager'), ('sectors', 'logistics; mail; postal and telecommunications services')]\n",
      "[('workerName', 'Eugen Vögler'), ('genderType', 'male'), ('prefession', 'manager'), ('sectors', 'Construction; construction industry')]\n",
      "[('workerName', 'Karl Winnacker'), ('genderType', 'male'), ('prefession', 'chemist; university teacher'), ('sectors', 'chemical industry; information technology; paint industry; pharmaceutical industry; plastics industry')]\n",
      "[('workerName', 'Sabine Schmittroth'), ('genderType', 'female'), ('prefession', 'bank manager'), ('sectors', 'Financial service activities, except insurance and pension funding; financial services')]\n",
      "[('workerName', 'Leo Ellinger'), ('genderType', 'male'), ('prefession', 'entrepreneur'), ('sectors', 'food industry')]\n",
      "[('workerName', 'Ulrich Lehner'), ('genderType', 'male'), ('prefession', 'manager'), ('sectors', 'arms industry; ferrous metallurgy')]\n",
      "[('workerName', 'Karl Benz'), ('genderType', 'male'), ('prefession', 'engineer; inventor'), ('sectors', 'Manufacture of motor vehicles; arms industry; automotive industry; aviation industry; vehicle construction')]\n",
      "[('workerName', 'Michael Lohscheller'), ('genderType', 'male'), ('prefession', 'manager'), ('sectors', 'automotive industry; mechanical engineering')]\n",
      "[('workerName', \"Vuyiswa V. M'Cwabeni\"), ('genderType', 'female'), ('prefession', 'manager'), ('sectors', 'financial services')]\n",
      "[('workerName', 'William Lever, 1st Viscount Leverhulme'), ('genderType', 'male'), ('prefession', 'businessperson; philanthropist; politician; soap-maker'), ('sectors', 'Manufacture of bakery and farinaceous products; Manufacture of grain mill products, starches and starch products; Manufacture of soap and detergents, cleaning and polishing preparations, perfumes and toilet preparations; Manufacture of vegetable and animal oils and fats; chemical industry; dairy industry; fast-moving consumer goods; food and tobacco industry; food industry; perfumery; personal care products')]\n",
      "[('workerName', 'Mathias Döpfner'), ('genderType', 'male'), ('prefession', 'businessperson; journalist; lobbyist; supervisory board member'), ('sectors', 'publishing')]\n",
      "[('workerName', 'Carl Wurster'), ('genderType', 'male'), ('prefession', 'chemist'), ('sectors', 'chemical industry; crop protection; extraction of petroleum; pharmaceutical industry')]\n",
      "[('workerName', 'Alfred Hugenberg'), ('genderType', 'male'), ('prefession', 'diplomat; financier; media proprietor; politician; publisher'), ('sectors', 'Manufacture of basic metals; heavy industry; metal industry')]\n",
      "[('workerName', 'Eduard Schleicher'), ('genderType', 'male'), ('prefession', 'entrepreneur'), ('sectors', 'Manufacture of medical and dental instruments and supplies; industry')]\n",
      "[('workerName', 'Tuomo Hatakka'), ('genderType', 'male'), ('prefession', 'businessperson; manager'), ('sectors', 'energy company')]\n",
      "[('workerName', 'Wolfgang Kapp'), ('genderType', 'male'), ('prefession', 'jurist; politician'), ('sectors', 'Financial service activities, except insurance and pension funding; Other monetary intermediation; financial services')]\n",
      "[('workerName', 'Gerhard Prinz'), ('genderType', 'male'), ('prefession', 'manager'), ('sectors', 'Manufacture of motor vehicles; arms industry; automotive industry; aviation industry; vehicle construction')]\n"
     ]
    },
    {
     "data": {
      "text/plain": [
       "20"
      ]
     },
     "execution_count": 22,
     "metadata": {},
     "output_type": "execute_result"
    }
   ],
   "source": [
    "queryString = \"\"\"\n",
    "SELECT DISTINCT ?workerName ?genderType \n",
    "(GROUP_CONCAT(DISTINCT ?occupationName; SEPARATOR=\"; \") AS ?prefession) (GROUP_CONCAT(DISTINCT ?sector; SEPARATOR=\"; \") AS ?sectors)\n",
    "WHERE {\n",
    "\n",
    "    ?company ?role ?worker ;\n",
    "         wdt:P17 wd:Q183 ;\n",
    "         wdt:P31 ?instance ;\n",
    "         wdt:P452 ?industry ;\n",
    "         sc:name ?companyName .\n",
    "         \n",
    "    ?instance wdt:P279* wd:Q567521 .\n",
    "    ?industry sc:name ?sector .\n",
    "    \n",
    "    ?worker wdt:P31 wd:Q5 ;\n",
    "         wdt:P21 ?gender ;     #gender detail\n",
    "         wdt:P106 ?occupation ;\n",
    "        sc:name ?workerName .\n",
    "        \n",
    "    ?gender sc:name ?genderType .\n",
    "    ?occupation sc:name ?occupationName .\n",
    "           \n",
    "}\n",
    "GROUP BY ?workerName ?genderType\n",
    "LIMIT 20\n",
    "\"\"\"\n",
    "\n",
    "print(\"Results\")\n",
    "run_query(queryString)"
   ]
  },
  {
   "cell_type": "markdown",
   "id": "e5a93edd-01fa-4594-8360-c10ce8080a17",
   "metadata": {},
   "source": [
    "### Result part 2\n",
    "I tried to retreive \"work\" (or similar) predicate but I did not find it. But then I found \"occupation\" predicate and after using this predicate I can conclude that it is much more correct to use this predicate instead their role in the company. We can also see that most of them do different works."
   ]
  },
  {
   "cell_type": "markdown",
   "id": "dbf74d48-1480-436d-9774-e7403d6d264d",
   "metadata": {},
   "source": [
    "## Part 3\n",
    "### Are there german companies with C.E.O., managers, or founders that are not German?"
   ]
  },
  {
   "cell_type": "code",
   "execution_count": 23,
   "id": "e85a3b74-ad2f-49f3-b470-0080159ecade",
   "metadata": {},
   "outputs": [
    {
     "name": "stdout",
     "output_type": "stream",
     "text": [
      "Results\n",
      "[('companyName', 'Hugo Boss')]\n",
      "[('companyName', 'BMW')]\n",
      "[('companyName', 'Siemens')]\n",
      "[('companyName', 'Siemens Healthineers')]\n",
      "[('companyName', 'Deutsche Bank')]\n",
      "[('companyName', 'Metro AG')]\n",
      "[('companyName', 'E.ON SE')]\n",
      "[('companyName', 'TUI AG')]\n",
      "[('companyName', 'Donner & Reuschel')]\n",
      "[('companyName', 'Bayer')]\n",
      "[('companyName', 'SAP SE')]\n",
      "[('companyName', 'Dieter-Schwarz-Stiftung')]\n",
      "[('companyName', 'Leica Camera')]\n",
      "[('companyName', 'Grillo-Werke')]\n",
      "[('companyName', 'Agfa-Gevaert')]\n",
      "[('companyName', 'HHLA')]\n",
      "[('companyName', 'Wiley')]\n",
      "[('companyName', 'Willy Bogner GmbH & Co. KGaA')]\n",
      "[('companyName', 'Südzucker')]\n",
      "[('companyName', 'Deutsche Post AG')]\n"
     ]
    },
    {
     "data": {
      "text/plain": [
       "20"
      ]
     },
     "execution_count": 23,
     "metadata": {},
     "output_type": "execute_result"
    }
   ],
   "source": [
    "queryString = \"\"\"\n",
    "SELECT DISTINCT ?companyName\n",
    "WHERE {\n",
    "\n",
    "    {\n",
    "        ?company ?role ?worker ;\n",
    "             wdt:P17 wd:Q183 ;\n",
    "             wdt:P31 ?instance ;\n",
    "             sc:name ?companyName .\n",
    "\n",
    "        ?instance wdt:P279* wd:Q567521 .\n",
    "\n",
    "        ?worker wdt:P31 wd:Q5 ;\n",
    "                wdt:P27 ?nationality .\n",
    "        ?worker sc:name ?workerName .\n",
    "        ?nationality sc:name ?nationName .\n",
    "\n",
    "        ?role sc:name ?roleName .\n",
    "    }\n",
    "    MINUS\n",
    "    {\n",
    "        ?company ?role ?worker ;\n",
    "             wdt:P17 wd:Q183 ;\n",
    "             wdt:P31 ?instance .\n",
    "         \n",
    "        ?instance wdt:P279* wd:Q567521 .\n",
    "\n",
    "        ?worker wdt:P31 wd:Q5 ;\n",
    "                wdt:P27 wd:Q183 .    \n",
    "    }         \n",
    "}\n",
    "LIMIT 20\n",
    "\"\"\"\n",
    "\n",
    "print(\"Results\")\n",
    "run_query(queryString)"
   ]
  },
  {
   "cell_type": "markdown",
   "id": "fe09a303-4070-441b-86e3-b0b08bfc2b8c",
   "metadata": {},
   "source": [
    "### Create the same as before but with an ASK query"
   ]
  },
  {
   "cell_type": "code",
   "execution_count": 24,
   "id": "8df400de-427d-4647-bb41-5fde00a6d94d",
   "metadata": {},
   "outputs": [
    {
     "name": "stdout",
     "output_type": "stream",
     "text": [
      "Results\n"
     ]
    },
    {
     "data": {
      "text/plain": [
       "{'head': {'link': []}, 'boolean': True}"
      ]
     },
     "execution_count": 24,
     "metadata": {},
     "output_type": "execute_result"
    }
   ],
   "source": [
    "queryString = \"\"\"\n",
    "ASK WHERE {\n",
    "        ?company ?role ?worker ;\n",
    "             wdt:P17 wd:Q183 ;\n",
    "             wdt:P31 ?instance .\n",
    "\n",
    "        ?instance wdt:P279* wd:Q567521 .\n",
    "\n",
    "        ?worker wdt:P31 wd:Q5 ;\n",
    "                wdt:P27 ?nationality .\n",
    "        \n",
    "        ?nationality sc:name ?nationName .\n",
    "\n",
    "    FILTER ( ?nationality != wd:Q183 )\n",
    "   \n",
    "           \n",
    "}\n",
    "\"\"\"\n",
    "\n",
    "print(\"Results\")\n",
    "run_ask_query(queryString)"
   ]
  },
  {
   "cell_type": "markdown",
   "id": "dea747d6-501a-4cae-a0a8-433d4770afa5",
   "metadata": {},
   "source": [
    "### Try to display not only the companies but also the nationality of not german worker \n",
    "Wrong result... it retrieves also companies with only german worker"
   ]
  },
  {
   "cell_type": "code",
   "execution_count": 25,
   "id": "0d1d7998-3e3f-4a9a-baf0-c0b67515cb8b",
   "metadata": {},
   "outputs": [
    {
     "name": "stdout",
     "output_type": "stream",
     "text": [
      "Results\n",
      "[('companyName', 'BMW'), ('nationalities', 'Austria, Austria-Hungary, Italy')]\n",
      "[('companyName', 'Vattenfall'), ('nationalities', 'Finland')]\n",
      "[('companyName', 'Lanxess'), ('nationalities', 'Germany')]\n",
      "[('companyName', 'Hochtief'), ('nationalities', 'Germany')]\n",
      "[('companyName', 'Wiley'), ('nationalities', 'United States of America')]\n",
      "[('companyName', 'Jefferies & Company'), ('nationalities', 'United States of America')]\n",
      "[('companyName', 'Volkswagen Group'), ('nationalities', 'Austria, Austria-Hungary, Czechoslovakia, Germany, Republic of German-Austria')]\n",
      "[('companyName', 'Vonovia'), ('nationalities', 'Germany')]\n",
      "[('companyName', 'Deutsche Bank'), ('nationalities', 'German Reich, Kingdom of Prussia')]\n",
      "[('companyName', 'Aktiengesellschaft für Seeschiffahrt'), ('nationalities', 'German Reich')]\n",
      "[('companyName', 'Air Berlin'), ('nationalities', 'Germany')]\n",
      "[('companyName', 'Opel'), ('nationalities', 'German Reich')]\n",
      "[('companyName', 'Siemens'), ('nationalities', 'Denmark, German Reich')]\n",
      "[('companyName', 'Hoechst'), ('nationalities', 'German Empire, German Reich, Germany, United Kingdom of Great Britain and Ireland')]\n",
      "[('companyName', 'Bayer'), ('nationalities', 'Germany')]\n"
     ]
    },
    {
     "data": {
      "text/plain": [
       "15"
      ]
     },
     "execution_count": 25,
     "metadata": {},
     "output_type": "execute_result"
    }
   ],
   "source": [
    "queryString = \"\"\"\n",
    "SELECT DISTINCT ?companyName (GROUP_CONCAT(DISTINCT ?nationName; SEPARATOR=\", \") AS ?nationalities)\n",
    "WHERE {\n",
    "        ?company ?role ?worker ;\n",
    "             wdt:P17 wd:Q183 ;\n",
    "             wdt:P31 ?instance ;\n",
    "             sc:name ?companyName .\n",
    "\n",
    "        ?instance wdt:P279* wd:Q567521 .\n",
    "\n",
    "        ?worker wdt:P31 wd:Q5 ;\n",
    "                wdt:P27 ?nationality .\n",
    "        ?worker sc:name ?workerName .\n",
    "        ?nationality sc:name ?nationName .\n",
    "\n",
    "        ?role sc:name ?roleName .\n",
    "    \n",
    "    MINUS\n",
    "    {\n",
    "        ?company ?role ?worker ;\n",
    "             wdt:P17 wd:Q183 ;\n",
    "             wdt:P31 ?instance .\n",
    "         \n",
    "        ?instance wdt:P279* wd:Q567521 .\n",
    "\n",
    "        ?worker wdt:P31 wd:Q5 ;\n",
    "                wdt:P27 wd:Q183 . \n",
    "    }\n",
    "}\n",
    "GROUP BY ?companyName\n",
    "LIMIT 15\n",
    "\"\"\"\n",
    "\n",
    "print(\"Results\")\n",
    "run_query(queryString)"
   ]
  },
  {
   "cell_type": "markdown",
   "id": "193b5ea3-e1a6-408c-a635-729c3e4d3a3d",
   "metadata": {},
   "source": [
    "### Rewriting the query to remove wrong rows"
   ]
  },
  {
   "cell_type": "code",
   "execution_count": 26,
   "id": "7a20b597-4bc1-4f83-b823-858a56cc3334",
   "metadata": {},
   "outputs": [
    {
     "name": "stdout",
     "output_type": "stream",
     "text": [
      "Results\n",
      "[('companyName', 'BMW'), ('nationalities', 'Austria, Austria-Hungary, Italy')]\n",
      "[('companyName', 'Vattenfall'), ('nationalities', 'Finland')]\n",
      "[('companyName', 'Wiley'), ('nationalities', 'United States of America')]\n",
      "[('companyName', 'Jefferies & Company'), ('nationalities', 'United States of America')]\n",
      "[('companyName', 'Volkswagen Group'), ('nationalities', 'Austria, Austria-Hungary, Czechoslovakia, Republic of German-Austria')]\n",
      "[('companyName', 'Deutsche Bank'), ('nationalities', 'German Reich, Kingdom of Prussia, United States of America')]\n",
      "[('companyName', 'Aktiengesellschaft für Seeschiffahrt'), ('nationalities', 'German Reich')]\n",
      "[('companyName', 'Opel'), ('nationalities', 'German Reich')]\n",
      "[('companyName', 'Siemens'), ('nationalities', 'Denmark, German Empire, German Reich')]\n",
      "[('companyName', 'Hoechst'), ('nationalities', 'German Empire, German Reich, United Kingdom of Great Britain and Ireland')]\n",
      "[('companyName', 'Deutsche Post AG'), ('nationalities', 'Austria, Kingdom of England, United States of America')]\n",
      "[('companyName', 'BioNTech'), ('nationalities', 'Austria, Hungary, Turkey')]\n",
      "[('companyName', 'CureVac'), ('nationalities', \"Polish People's Republic\")]\n",
      "[('companyName', 'Gelsenkirchener Bergwerks-AG'), ('nationalities', 'German Empire, German Reich')]\n",
      "[('companyName', 'Lufthansa'), ('nationalities', 'German Empire, German Reich, Nazi Germany, Weimar Republic, West Germany')]\n"
     ]
    },
    {
     "data": {
      "text/plain": [
       "15"
      ]
     },
     "execution_count": 26,
     "metadata": {},
     "output_type": "execute_result"
    }
   ],
   "source": [
    "queryString = \"\"\"\n",
    "SELECT DISTINCT ?companyName (GROUP_CONCAT(DISTINCT ?nationName; SEPARATOR=\", \") AS ?nationalities)\n",
    "WHERE {\n",
    "\n",
    "    \n",
    "    ?company ?role ?worker ;\n",
    "         wdt:P17 wd:Q183 ;\n",
    "         wdt:P31 ?instance ;\n",
    "         sc:name ?companyName .\n",
    "\n",
    "    ?instance wdt:P279* wd:Q567521 .\n",
    "\n",
    "    ?worker wdt:P31 wd:Q5 ;\n",
    "            wdt:P27 ?nationality .\n",
    "    ?worker sc:name ?workerName .\n",
    "    ?nationality sc:name ?nationName .\n",
    "\n",
    "    ?role sc:name ?roleName .\n",
    "    \n",
    "    FILTER (?nationality != wd:Q183)\n",
    "    \n",
    "}\n",
    "GROUP BY ?companyName\n",
    "LIMIT 15\n",
    "\"\"\"\n",
    "\n",
    "print(\"Results\")\n",
    "run_query(queryString)"
   ]
  },
  {
   "cell_type": "markdown",
   "id": "3bee7b13-c539-463e-a129-110a56c86277",
   "metadata": {},
   "source": [
    "### Result part 3\n",
    "As we can see there are companies with C.E.O., managers, or founders that are not German. In particular from the first one we can see the companies' name and from the last one we can see also the nationalities of the workers.\n",
    "\n",
    "After seeing the problems and the correction of the last query we can conclude that the results of the first query could be wrong."
   ]
  },
  {
   "cell_type": "markdown",
   "id": "569cc09e-c9ec-4f5f-bc2b-6d814b51594b",
   "metadata": {},
   "source": [
    "## Part 4\n",
    "### Are there people related to multiple german companies?"
   ]
  },
  {
   "cell_type": "markdown",
   "id": "7d457339-c775-492e-bd37-0ac796e3ad25",
   "metadata": {},
   "source": [
    "### Create a query to group companies for each worker"
   ]
  },
  {
   "cell_type": "code",
   "execution_count": 27,
   "id": "e64a6f76-f1b8-4ad8-af25-e0243411cf7f",
   "metadata": {},
   "outputs": [
    {
     "name": "stdout",
     "output_type": "stream",
     "text": [
      "Results\n",
      "[('workerName', 'Wilhelm Haspel'), ('companies', 'Daimler-Benz')]\n",
      "[('workerName', 'Thomas Eichelmann'), ('companies', 'Wirecard')]\n",
      "[('workerName', 'Robert Pferdmenges'), ('companies', 'Dresdner Bank')]\n",
      "[('workerName', 'Robert Gentz'), ('companies', 'Zalando SE')]\n",
      "[('workerName', 'Karl Rapp'), ('companies', 'BMW')]\n",
      "[('workerName', 'Hermann Schilling'), ('companies', 'E.ON SE')]\n",
      "[('workerName', 'Norbert Reithofer'), ('companies', 'BMW')]\n",
      "[('workerName', 'Walter J. Zable'), ('companies', 'Cubic Corporation')]\n",
      "[('workerName', 'Edzard Reuter'), ('companies', 'Daimler-Benz')]\n",
      "[('workerName', 'Tobias Meyer'), ('companies', 'Deutsche Post AG')]\n",
      "[('workerName', 'Werner Baumann'), ('companies', 'Bayer')]\n",
      "[('workerName', 'Carsten Spohr'), ('companies', 'Lufthansa')]\n",
      "[('workerName', 'Oliver Bäte'), ('companies', 'Allianz SE')]\n",
      "[('workerName', 'Ulrich Schmack'), ('companies', 'Schmack Biogas Service')]\n",
      "[('workerName', 'Carl Duisberg'), ('companies', 'Bayer')]\n",
      "[('workerName', 'Werner Wenning'), ('companies', 'E.ON SE')]\n",
      "[('workerName', 'Angela Titzrath'), ('companies', 'HHLA')]\n",
      "[('workerName', 'Christian Reinaudo'), ('companies', 'Agfa-Gevaert')]\n",
      "[('workerName', 'Dirk Markus'), ('companies', 'Aurelius Group')]\n",
      "[('workerName', 'Wilhelm Kissel'), ('companies', 'Daimler-Benz')]\n"
     ]
    },
    {
     "data": {
      "text/plain": [
       "20"
      ]
     },
     "execution_count": 27,
     "metadata": {},
     "output_type": "execute_result"
    }
   ],
   "source": [
    "queryString = \"\"\"\n",
    "SELECT DISTINCT ?workerName (GROUP_CONCAT(DISTINCT ?companyName; SEPARATOR=\", \") AS ?companies)\n",
    "WHERE {\n",
    "\n",
    "        ?company ?role ?worker ;\n",
    "             wdt:P17 wd:Q183 ;\n",
    "             wdt:P31 ?instance ;\n",
    "             sc:name ?companyName .\n",
    "\n",
    "        ?instance wdt:P279* wd:Q567521 .\n",
    "\n",
    "        ?worker wdt:P31 wd:Q5 ;\n",
    "                wdt:P27 ?nationality .\n",
    "        ?worker sc:name ?workerName .\n",
    "        ?nationality sc:name ?nationName .\n",
    "\n",
    "        ?role sc:name ?roleName .\n",
    "           \n",
    "} GROUP BY ?workerName\n",
    "LIMIT 20\n",
    "\"\"\"\n",
    "\n",
    "print(\"Results\")\n",
    "run_query(queryString)"
   ]
  },
  {
   "cell_type": "markdown",
   "id": "73bb7de5-b93c-47b7-aa7e-d3ef317d190e",
   "metadata": {},
   "source": [
    "### Add a counter of companies to find who works for at least 2 companies"
   ]
  },
  {
   "cell_type": "code",
   "execution_count": 28,
   "id": "f220fcb8-2ee2-4af4-8e4e-9e264dfd2d98",
   "metadata": {},
   "outputs": [
    {
     "name": "stdout",
     "output_type": "stream",
     "text": [
      "Results\n",
      "[('workerName', 'Dieter Zetsche'), ('companies', 'Daimler AG, TUI AG')]\n",
      "[('workerName', 'Ernst Werner von Siemens'), ('companies', 'Siemens, Siemens Healthineers')]\n",
      "[('workerName', 'Dietmar Hopp'), ('companies', 'CureVac, SAP SE')]\n",
      "[('workerName', 'Günther Quandt'), ('companies', 'Daimler-Benz, KUKA')]\n",
      "[('workerName', 'Georg Adolf Solmssen'), ('companies', 'Dahlbusch Verwaltungs-AG, Deutsche Bank')]\n",
      "[('workerName', 'Hugo Henkel'), ('companies', 'Deutsche Bank, Henkel AG & Co. KGaA')]\n"
     ]
    },
    {
     "data": {
      "text/plain": [
       "6"
      ]
     },
     "execution_count": 28,
     "metadata": {},
     "output_type": "execute_result"
    }
   ],
   "source": [
    "queryString = \"\"\"\n",
    "SELECT DISTINCT ?workerName (GROUP_CONCAT(DISTINCT ?companyName; SEPARATOR=\", \") AS ?companies)\n",
    "WHERE {\n",
    "\n",
    "        ?company ?role ?worker ;\n",
    "             wdt:P17 wd:Q183 ;\n",
    "             wdt:P31 ?instance ;\n",
    "             sc:name ?companyName .\n",
    "\n",
    "        ?instance wdt:P279* wd:Q567521 .\n",
    "\n",
    "        ?worker wdt:P31 wd:Q5 ;\n",
    "                wdt:P27 ?nationality ;\n",
    "                sc:name ?workerName .\n",
    "\n",
    "        ?role sc:name ?roleName .\n",
    "           \n",
    "}\n",
    "GROUP BY ?workerName \n",
    "HAVING ( (COUNT(DISTINCT ?companyName) AS ?howManyCompanies)  > 1 )\n",
    "LIMIT 25\n",
    "\"\"\"\n",
    "\n",
    "print(\"Results\")\n",
    "run_query(queryString)"
   ]
  },
  {
   "cell_type": "markdown",
   "id": "c9aec85a-d27e-4c57-b4f2-782e7753ba26",
   "metadata": {},
   "source": [
    "### Result part 4\n",
    "We can see that there are 6 person (in our database) which are/were related to more than one company."
   ]
  },
  {
   "cell_type": "markdown",
   "id": "5c1fb11b-54aa-4180-a835-56bd253ef105",
   "metadata": {},
   "source": [
    "## Part 5"
   ]
  },
  {
   "cell_type": "markdown",
   "id": "a7a2137d-9bdf-435a-9003-8bb7d8e54055",
   "metadata": {},
   "source": [
    "### Part 5.1 How many people for each role and gender are there in Germany?"
   ]
  },
  {
   "cell_type": "code",
   "execution_count": 29,
   "id": "b79c9ef8-49e4-4970-ac8e-9949d9ee6725",
   "metadata": {},
   "outputs": [
    {
     "name": "stdout",
     "output_type": "stream",
     "text": [
      "Results\n",
      "[('roleName', 'chairperson'), ('howManyWorkers', '8')]\n",
      "[('roleName', 'chief executive officer'), ('howManyWorkers', '33')]\n",
      "[('roleName', 'director / manager'), ('howManyWorkers', '33')]\n",
      "[('roleName', 'founded by'), ('howManyWorkers', '60')]\n",
      "[('roleName', 'named after'), ('howManyWorkers', '16')]\n",
      "[('roleName', 'board member'), ('howManyWorkers', '92')]\n",
      "[('roleName', 'owner of'), ('howManyWorkers', '1')]\n",
      "[('roleName', 'owned by'), ('howManyWorkers', '11')]\n",
      "[('roleName', 'significant person'), ('howManyWorkers', '4')]\n",
      "[('roleName', 'supervisory board member'), ('howManyWorkers', '35')]\n",
      "[('roleName', 'investor'), ('howManyWorkers', '1')]\n"
     ]
    },
    {
     "data": {
      "text/plain": [
       "11"
      ]
     },
     "execution_count": 29,
     "metadata": {},
     "output_type": "execute_result"
    }
   ],
   "source": [
    "queryString = \"\"\"\n",
    "SELECT DISTINCT ?roleName (COUNT(DISTINCT ?worker) as ?howManyWorkers) \n",
    "WHERE {\n",
    "\n",
    "        ?company ?role ?worker ;\n",
    "             wdt:P17 wd:Q183 ;\n",
    "             wdt:P31 ?instance ;\n",
    "             sc:name ?companyName .\n",
    "\n",
    "        ?instance wdt:P279* wd:Q567521 .\n",
    "\n",
    "        ?worker wdt:P31 wd:Q5 .\n",
    "\n",
    "        ?role sc:name ?roleName .\n",
    "           \n",
    "}\n",
    "GROUP BY ?roleName \n",
    "\"\"\"\n",
    "\n",
    "print(\"Results\")\n",
    "run_query(queryString)"
   ]
  },
  {
   "cell_type": "markdown",
   "id": "902d7017-69fa-495e-b871-51bb9c8ab409",
   "metadata": {},
   "source": [
    "### Search gender predicate"
   ]
  },
  {
   "cell_type": "code",
   "execution_count": 30,
   "id": "0b33ee72-5d21-4e6e-81d9-53036453457f",
   "metadata": {},
   "outputs": [
    {
     "name": "stdout",
     "output_type": "stream",
     "text": [
      "Results\n",
      "[('pName', 'sex or gender'), ('oName', 'male'), ('p', 'http://www.wikidata.org/prop/direct/P21'), ('o', 'http://www.wikidata.org/entity/Q6581097')]\n"
     ]
    },
    {
     "data": {
      "text/plain": [
       "1"
      ]
     },
     "execution_count": 30,
     "metadata": {},
     "output_type": "execute_result"
    }
   ],
   "source": [
    "queryString = \"\"\"\n",
    "SELECT DISTINCT ?pName ?oName ?p ?o\n",
    "WHERE { \n",
    "    wd:Q56509715 ?p ?o .\n",
    "    ?p sc:name ?pName .\n",
    "    ?o sc:name ?oName .\n",
    "    \n",
    "    FILTER regex(?pName,\"gender\")\n",
    "} \n",
    "\"\"\"\n",
    "\n",
    "print(\"Results\")\n",
    "run_query(queryString)"
   ]
  },
  {
   "cell_type": "markdown",
   "id": "8b45ee80-da15-4714-be6e-74255959b9c1",
   "metadata": {},
   "source": [
    "### Add gender predicate"
   ]
  },
  {
   "cell_type": "code",
   "execution_count": 31,
   "id": "2ccaa74c-7dfd-40ae-b1ba-52ad62b0c5aa",
   "metadata": {},
   "outputs": [
    {
     "name": "stdout",
     "output_type": "stream",
     "text": [
      "Results\n",
      "[('roleName', 'board member'), ('genderType', 'female'), ('howManyWorkers', '8')]\n",
      "[('roleName', 'board member'), ('genderType', 'male'), ('howManyWorkers', '83')]\n",
      "[('roleName', 'chairperson'), ('genderType', 'female'), ('howManyWorkers', '1')]\n",
      "[('roleName', 'chairperson'), ('genderType', 'male'), ('howManyWorkers', '7')]\n",
      "[('roleName', 'chief executive officer'), ('genderType', 'female'), ('howManyWorkers', '2')]\n",
      "[('roleName', 'chief executive officer'), ('genderType', 'male'), ('howManyWorkers', '31')]\n",
      "[('roleName', 'director / manager'), ('genderType', 'female'), ('howManyWorkers', '1')]\n",
      "[('roleName', 'director / manager'), ('genderType', 'male'), ('howManyWorkers', '32')]\n",
      "[('roleName', 'founded by'), ('genderType', 'male'), ('howManyWorkers', '60')]\n",
      "[('roleName', 'investor'), ('genderType', 'male'), ('howManyWorkers', '1')]\n",
      "[('roleName', 'named after'), ('genderType', 'male'), ('howManyWorkers', '16')]\n",
      "[('roleName', 'owned by'), ('genderType', 'female'), ('howManyWorkers', '1')]\n",
      "[('roleName', 'owned by'), ('genderType', 'male'), ('howManyWorkers', '10')]\n",
      "[('roleName', 'owner of'), ('genderType', 'male'), ('howManyWorkers', '1')]\n",
      "[('roleName', 'significant person'), ('genderType', 'female'), ('howManyWorkers', '1')]\n",
      "[('roleName', 'significant person'), ('genderType', 'male'), ('howManyWorkers', '3')]\n",
      "[('roleName', 'supervisory board member'), ('genderType', 'female'), ('howManyWorkers', '3')]\n",
      "[('roleName', 'supervisory board member'), ('genderType', 'male'), ('howManyWorkers', '29')]\n"
     ]
    },
    {
     "data": {
      "text/plain": [
       "18"
      ]
     },
     "execution_count": 31,
     "metadata": {},
     "output_type": "execute_result"
    }
   ],
   "source": [
    "queryString = \"\"\"\n",
    "SELECT DISTINCT ?roleName ?genderType (COUNT(DISTINCT ?worker) as ?howManyWorkers) \n",
    "WHERE {\n",
    "\n",
    "        ?company ?role ?worker ;\n",
    "             wdt:P17 wd:Q183 ;\n",
    "             wdt:P31 ?instance ;\n",
    "             sc:name ?companyName .\n",
    "\n",
    "        ?instance wdt:P279* wd:Q567521 .\n",
    "\n",
    "        ?worker wdt:P31 wd:Q5 ;\n",
    "                wdt:P21 ?gender . #gender detail\n",
    "        \n",
    "        ?gender sc:name ?genderType .      \n",
    "\n",
    "        ?role sc:name ?roleName .\n",
    "           \n",
    "}\n",
    "GROUP BY ?roleName ?genderType\n",
    "ORDER BY ?roleName ?genderType\n",
    "\"\"\"\n",
    "\n",
    "print(\"Results\")\n",
    "run_query(queryString)"
   ]
  },
  {
   "cell_type": "markdown",
   "id": "598b2b32-2ed3-41a7-8deb-758b71e870c8",
   "metadata": {},
   "source": [
    "### Result part 5.1\n",
    "We can notice that (in our database) for each role the male workers are much more than the females workers.The first 2 rows have the highest difference.\n",
    "\n",
    "Another thing is that for some roles there are not female figures (for example: founded by, investor and named after)"
   ]
  },
  {
   "cell_type": "markdown",
   "id": "c4744ba6-c6e1-461b-bf30-5ece7259be1d",
   "metadata": {},
   "source": [
    "### Part 5.2 Are there companies with multiple german people having important roles?"
   ]
  },
  {
   "cell_type": "code",
   "execution_count": 32,
   "id": "1c89bdd6-1ef2-43fe-80b4-eb9f3ed12576",
   "metadata": {},
   "outputs": [
    {
     "name": "stdout",
     "output_type": "stream",
     "text": [
      "Results\n"
     ]
    },
    {
     "data": {
      "text/plain": [
       "{'head': {'link': []}, 'boolean': False}"
      ]
     },
     "execution_count": 32,
     "metadata": {},
     "output_type": "execute_result"
    }
   ],
   "source": [
    "queryString = \"\"\"\n",
    "ASK WHERE {\n",
    "    {\n",
    "        SELECT (COUNT(DISTINCT ?company) AS ?howManyComapanies) WHERE\n",
    "        {\n",
    "            {\n",
    "                SELECT ?company\n",
    "                WHERE{\n",
    "                    ?company ?role ?worker ;\n",
    "                         wdt:P17 wd:Q183 ;\n",
    "                         wdt:P31 ?instance .\n",
    "\n",
    "                    ?instance wdt:P279* wd:Q567521 .\n",
    "\n",
    "                    ?worker wdt:P31 wd:Q5 ;\n",
    "                            wdt:P27 wd:Q183 .    \n",
    "                } GROUP BY ?company\n",
    "                HAVING (COUNT(DISTINCT ?workers) > 1)\n",
    "            }\n",
    "        }\n",
    "    }\n",
    "    FILTER ( ?howManyComapanies > 1)\n",
    "             \n",
    "}\n",
    "\n",
    "\n",
    "\"\"\"\n",
    "\n",
    "print(\"Results\")\n",
    "run_ask_query(queryString)"
   ]
  },
  {
   "cell_type": "markdown",
   "id": "725e1302-4e4a-40a1-9cc0-04d8fc2344f1",
   "metadata": {},
   "source": [
    "### See the retrieved results \n",
    "Frome the results we can see that there are at least 2 company with more than one german having important roles. So we can conclude that the previus query was wrong."
   ]
  },
  {
   "cell_type": "code",
   "execution_count": 33,
   "id": "1d924843-40f8-4485-b11f-fecf74b4e26a",
   "metadata": {},
   "outputs": [
    {
     "name": "stdout",
     "output_type": "stream",
     "text": [
      "Results\n",
      "[('companyName', 'Deutsche Bank'), ('howManyGerman', '10')]\n",
      "[('companyName', 'Daimler-Benz'), ('howManyGerman', '10')]\n",
      "[('companyName', 'BMW'), ('howManyGerman', '9')]\n",
      "[('companyName', 'Friedrich Krupp AG'), ('howManyGerman', '8')]\n",
      "[('companyName', 'BASF'), ('howManyGerman', '8')]\n",
      "[('companyName', 'Hoechst'), ('howManyGerman', '6')]\n",
      "[('companyName', 'Allianz SE'), ('howManyGerman', '6')]\n",
      "[('companyName', 'Opel'), ('howManyGerman', '5')]\n",
      "[('companyName', 'Bayer'), ('howManyGerman', '5')]\n",
      "[('companyName', 'Gelsenkirchener Bergwerks-AG'), ('howManyGerman', '5')]\n"
     ]
    },
    {
     "data": {
      "text/plain": [
       "10"
      ]
     },
     "execution_count": 33,
     "metadata": {},
     "output_type": "execute_result"
    }
   ],
   "source": [
    "queryString = \"\"\"\n",
    "\n",
    "SELECT ?companyName (COUNT(DISTINCT ?worker) AS ?howManyGerman)\n",
    "WHERE{\n",
    "    ?company ?role ?worker ;\n",
    "         wdt:P17 wd:Q183 ;\n",
    "         wdt:P31 ?instance ;\n",
    "         sc:name ?companyName .\n",
    "\n",
    "    ?instance wdt:P279* wd:Q567521 .\n",
    "\n",
    "    ?worker wdt:P31 wd:Q5 ;\n",
    "            wdt:P27 wd:Q183 .    \n",
    "\n",
    "} \n",
    "GROUP BY ?companyName\n",
    "ORDER BY DESC(?howManyGerman)\n",
    "LIMIT 10\n",
    "\n",
    "\"\"\"\n",
    "\n",
    "print(\"Results\")\n",
    "run_query(queryString)"
   ]
  },
  {
   "cell_type": "markdown",
   "id": "acf891e9-467c-44e1-b550-43e9b937101e",
   "metadata": {},
   "source": [
    "### Try the correct ask query"
   ]
  },
  {
   "cell_type": "code",
   "execution_count": 34,
   "id": "95c54835-55e3-4f8a-a460-e6033bb6509a",
   "metadata": {},
   "outputs": [
    {
     "name": "stdout",
     "output_type": "stream",
     "text": [
      "Results\n"
     ]
    },
    {
     "data": {
      "text/plain": [
       "{'head': {'link': []}, 'boolean': True}"
      ]
     },
     "execution_count": 34,
     "metadata": {},
     "output_type": "execute_result"
    }
   ],
   "source": [
    "queryString = \"\"\"\n",
    "ASK WHERE{\n",
    "    FILTER (?howManyCompany > 1)\n",
    "    {\n",
    "    SELECT (COUNT(?company) AS ?howManyCompany) WHERE\n",
    "        {\n",
    "            SELECT DISTINCT ?company\n",
    "            WHERE{\n",
    "                ?company ?role ?worker ;\n",
    "                     wdt:P17 wd:Q183 ;\n",
    "                     wdt:P31 ?instance ;\n",
    "                     sc:name ?companyName .\n",
    "\n",
    "                ?instance wdt:P279* wd:Q567521 .\n",
    "\n",
    "                ?worker wdt:P31 wd:Q5 ;\n",
    "                        wdt:P27 wd:Q183 .    \n",
    "\n",
    "            } \n",
    "            GROUP BY ?company\n",
    "            HAVING ((COUNT(DISTINCT ?worker) AS ?howManyGerman)>1)\n",
    "        }\n",
    "    }\n",
    "     \n",
    "}\n",
    "\n",
    "\"\"\"\n",
    "\n",
    "print(\"Results\")\n",
    "run_ask_query(queryString)"
   ]
  },
  {
   "cell_type": "markdown",
   "id": "3a8672fc-3fd0-49f8-8adb-1b75a3c56097",
   "metadata": {},
   "source": [
    "### Results part 5.2\n",
    "We can conclude that there are companies that have important person who are not german. So there is not discrimination based on place of origin."
   ]
  },
  {
   "cell_type": "markdown",
   "id": "b0b35bad-930b-455f-8e20-d78e1e0d7a7d",
   "metadata": {},
   "source": [
    "### Part 5.3 In which sectors are important german business people working?"
   ]
  },
  {
   "cell_type": "code",
   "execution_count": 35,
   "id": "97d30ddd-6216-4471-89b4-0b91bb5bf43a",
   "metadata": {},
   "outputs": [
    {
     "name": "stdout",
     "output_type": "stream",
     "text": [
      "Results\n",
      "[('workerName', 'Wilhelm Haspel'), ('sectors', 'public company')]\n",
      "[('workerName', 'Thomas Eichelmann'), ('sectors', 'public company')]\n",
      "[('workerName', 'Robert Gentz'), ('sectors', 'public company')]\n",
      "[('workerName', 'Robert Pferdmenges'), ('sectors', 'public company')]\n",
      "[('workerName', 'Karl Rapp'), ('sectors', 'public company')]\n",
      "[('workerName', 'Norbert Reithofer'), ('sectors', 'public company')]\n",
      "[('workerName', 'Hermann Schilling'), ('sectors', 'public company')]\n",
      "[('workerName', 'Edzard Reuter'), ('sectors', 'public company')]\n",
      "[('workerName', 'Werner Baumann'), ('sectors', 'public company')]\n",
      "[('workerName', 'Carsten Spohr'), ('sectors', 'public company')]\n"
     ]
    },
    {
     "data": {
      "text/plain": [
       "10"
      ]
     },
     "execution_count": 35,
     "metadata": {},
     "output_type": "execute_result"
    }
   ],
   "source": [
    "queryString = \"\"\"\n",
    "\n",
    "SELECT DISTINCT ?workerName (GROUP_CONCAT(DISTINCT ?sector; SEPARATOR=\", \") AS ?sectors)\n",
    "WHERE{\n",
    "    ?company ?role ?worker ;\n",
    "         wdt:P17 wd:Q183 ;\n",
    "         wdt:P31 ?instance ;\n",
    "         sc:name ?companyName .\n",
    "    \n",
    "    ?instance wdt:P279* wd:Q567521 ;\n",
    "        sc:name ?sector .\n",
    "\n",
    "    ?worker wdt:P31 wd:Q5 ;\n",
    "        wdt:P27 wd:Q183 ;\n",
    "        sc:name ?workerName .\n",
    "\n",
    "} \n",
    "GROUP BY ?workerName\n",
    "LIMIT 10\n",
    "\n",
    "\"\"\"\n",
    "\n",
    "print(\"Results\")\n",
    "run_query(queryString)"
   ]
  },
  {
   "cell_type": "markdown",
   "id": "ab0cfec4-597d-4073-b5ff-4593cb921f5d",
   "metadata": {},
   "source": [
    "### Use wdt:P452 industry predicate retrieved in part 1"
   ]
  },
  {
   "cell_type": "code",
   "execution_count": 36,
   "id": "f75847c3-4d1d-439d-a723-58054ab3c076",
   "metadata": {},
   "outputs": [
    {
     "name": "stdout",
     "output_type": "stream",
     "text": [
      "Results\n",
      "[('workerName', 'Wilhelm Haspel'), ('sectors', 'Manufacture of motor vehicles, arms industry, automotive industry, aviation industry, vehicle construction')]\n",
      "[('workerName', 'Thomas Eichelmann'), ('sectors', 'financial services')]\n",
      "[('workerName', 'Robert Gentz'), ('sectors', 'retail')]\n",
      "[('workerName', 'Robert Pferdmenges'), ('sectors', 'Financial service activities, except insurance and pension funding, Other monetary intermediation, financial services')]\n",
      "[('workerName', 'Karl Rapp'), ('sectors', 'Manufacture of motor vehicles, automotive industry, vehicle construction')]\n",
      "[('workerName', 'Norbert Reithofer'), ('sectors', 'Manufacture of motor vehicles, automotive industry, vehicle construction')]\n",
      "[('workerName', 'Hermann Schilling'), ('sectors', 'energy and water industries, energy sector')]\n",
      "[('workerName', 'Edzard Reuter'), ('sectors', 'Manufacture of motor vehicles, arms industry, automotive industry, aviation industry, vehicle construction')]\n",
      "[('workerName', 'Werner Baumann'), ('sectors', 'chemical industry, pharmaceutical industry, phytopharmaceuticals, plastic')]\n",
      "[('workerName', 'Carsten Spohr'), ('sectors', 'Freight air transport, Passenger air transport, air transport')]\n"
     ]
    },
    {
     "data": {
      "text/plain": [
       "10"
      ]
     },
     "execution_count": 36,
     "metadata": {},
     "output_type": "execute_result"
    }
   ],
   "source": [
    "queryString = \"\"\"\n",
    "\n",
    "SELECT DISTINCT ?workerName (GROUP_CONCAT(DISTINCT ?sector; SEPARATOR=\", \") AS ?sectors)\n",
    "WHERE{\n",
    "    ?company ?role ?worker ;\n",
    "         wdt:P17 wd:Q183 ;\n",
    "         wdt:P31 ?instance ;\n",
    "         wdt:P452 ?industry ;\n",
    "         sc:name ?companyName .\n",
    "    \n",
    "    ?instance wdt:P279* wd:Q567521 .\n",
    "    ?industry sc:name ?sector .\n",
    "\n",
    "    ?worker wdt:P31 wd:Q5 ;\n",
    "        wdt:P27 wd:Q183 ;\n",
    "        sc:name ?workerName .\n",
    "\n",
    "} \n",
    "GROUP BY ?workerName\n",
    "LIMIT 10\n",
    "\n",
    "\"\"\"\n",
    "\n",
    "print(\"Results\")\n",
    "run_query(queryString)"
   ]
  },
  {
   "cell_type": "markdown",
   "id": "2cb69a23-f6b5-4d92-89f8-d69813c4f779",
   "metadata": {},
   "source": [
    "### Result 5.3 \n",
    "We can notice that there are people who are working in more than one secotr and other people in only one."
   ]
  },
  {
   "cell_type": "markdown",
   "id": "ffada4d2-10de-48b7-8657-b60ec2f22e0f",
   "metadata": {},
   "source": [
    "### Part 5.4 Are there german business people related to non german companies? How many?"
   ]
  },
  {
   "cell_type": "code",
   "execution_count": 37,
   "id": "71bcf51f-991a-46b9-8106-c20d8d15425c",
   "metadata": {},
   "outputs": [
    {
     "name": "stdout",
     "output_type": "stream",
     "text": [
      "Results\n",
      "[('companyName', 'MMX Mineração'), ('nationName', 'Brazil'), ('workers', 'Eike Batista')]\n",
      "[('companyName', 'Lloyds Banking Group'), ('nationName', 'United Kingdom'), ('workers', 'Winfried Bischoff')]\n",
      "[('companyName', 'Imperial Brands'), ('nationName', 'United Kingdom'), ('workers', 'Stefan Bomhard')]\n",
      "[('companyName', 'Bâloise'), ('nationName', 'Switzerland'), ('workers', 'Alexander Bockelmann')]\n",
      "[('companyName', 'ams AG'), ('nationName', 'Austria'), ('workers', 'Alexander Everke')]\n",
      "[('companyName', 'Demandware'), ('nationName', 'United States of America'), ('workers', 'Stephan Schambach')]\n",
      "[('companyName', 'Rolls-Royce'), ('nationName', 'United Kingdom'), ('workers', 'Jasmin Staiblin')]\n",
      "[('companyName', 'Dreamville, Inc.'), ('nationName', 'United States of America'), ('workers', 'J Cole')]\n",
      "[('companyName', 'Inchcape plc'), ('nationName', 'United Kingdom'), ('workers', 'Stefan Bomhard')]\n",
      "[('companyName', 'Maersk'), ('nationName', 'Denmark'), ('workers', 'Dorothee Blessing')]\n"
     ]
    },
    {
     "data": {
      "text/plain": [
       "10"
      ]
     },
     "execution_count": 37,
     "metadata": {},
     "output_type": "execute_result"
    }
   ],
   "source": [
    "queryString = \"\"\"\n",
    "\n",
    "SELECT DISTINCT ?companyName ?nationName (GROUP_CONCAT(DISTINCT ?workerName; SEPARATOR=\", \") AS ?workers)\n",
    "WHERE{\n",
    "    ?company ?role ?worker ;\n",
    "         wdt:P17 ?nation ;\n",
    "         wdt:P31 ?instance ;\n",
    "         wdt:P452 ?industry ;\n",
    "         sc:name ?companyName .\n",
    "    \n",
    "    ?nation sc:name ?nationName .\n",
    "    \n",
    "    ?instance wdt:P279* wd:Q567521 .\n",
    "    ?industry sc:name ?sector .\n",
    "\n",
    "    ?worker wdt:P31 wd:Q5 ;\n",
    "        wdt:P27 wd:Q183 ;\n",
    "        sc:name ?workerName .\n",
    "    \n",
    "    FILTER( ?nation != wd:Q183 )\n",
    "} \n",
    "GROUP BY ?companyName ?nationName\n",
    "LIMIT 10\n",
    "\n",
    "\"\"\"\n",
    "\n",
    "print(\"Results\")\n",
    "run_query(queryString)"
   ]
  },
  {
   "cell_type": "markdown",
   "id": "cf355b06-f6f5-43db-9804-54020b373e8b",
   "metadata": {},
   "source": [
    "### Retrieve the number of german workers that are working for a non german company"
   ]
  },
  {
   "cell_type": "code",
   "execution_count": 38,
   "id": "5fc03b30-cf7b-4b64-95fe-0a386fc3ee3d",
   "metadata": {},
   "outputs": [
    {
     "name": "stdout",
     "output_type": "stream",
     "text": [
      "Results\n",
      "[('howManyGermanWorksOutside', '43')]\n"
     ]
    },
    {
     "data": {
      "text/plain": [
       "1"
      ]
     },
     "execution_count": 38,
     "metadata": {},
     "output_type": "execute_result"
    }
   ],
   "source": [
    "queryString = \"\"\"\n",
    "\n",
    "SELECT (COUNT(DISTINCT ?worker) AS ?howManyGermanWorksOutside)\n",
    "WHERE{\n",
    "    ?company ?role ?worker ;\n",
    "         wdt:P17 ?nation ;\n",
    "         wdt:P31 ?instance .\n",
    "    \n",
    "    ?nation sc:name ?nationName .\n",
    "    \n",
    "    ?instance wdt:P279* wd:Q567521 .\n",
    "\n",
    "    ?worker wdt:P31 wd:Q5 ;\n",
    "        wdt:P27 wd:Q183 .\n",
    "    \n",
    "    FILTER( ?nation != wd:Q183 )\n",
    "}\n",
    "\n",
    "\"\"\"\n",
    "\n",
    "print(\"Results\")\n",
    "run_query(queryString)"
   ]
  },
  {
   "cell_type": "markdown",
   "id": "d4cf23a7-c335-4872-9e7d-cd9d14ea7d46",
   "metadata": {},
   "source": [
    "### Result part 5.4\n",
    "There are 43 german person who are working in non german company. Note that they are covering important roles in these company."
   ]
  }
 ],
 "metadata": {
  "kernelspec": {
   "display_name": "Python 3",
   "language": "python",
   "name": "python3"
  },
  "language_info": {
   "codemirror_mode": {
    "name": "ipython",
    "version": 3
   },
   "file_extension": ".py",
   "mimetype": "text/x-python",
   "name": "python",
   "nbconvert_exporter": "python",
   "pygments_lexer": "ipython3",
   "version": "3.7.10"
  }
 },
 "nbformat": 4,
 "nbformat_minor": 5
}
