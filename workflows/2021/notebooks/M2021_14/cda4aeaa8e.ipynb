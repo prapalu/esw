{
 "cells": [
  {
   "cell_type": "markdown",
   "id": "7034c3bf-6eb0-4418-8687-7b9d2a501103",
   "metadata": {},
   "source": [
    "# General instructions\n",
    "\n",
    "The goal of the project is to materialize a set of **exploratory workloads** over a real-world, large-scale,  open-domain KG: [WikiData](https://www.wikidata.org/wiki/Wikidata:Main_Page)\n",
    "\n",
    "An exploratory workload  is composed by a set of queries, where each query is related to the information obtained previously.\n",
    "\n",
    "An exploratory workload starts with a usually vague, open ended question, and does not assume the person issuing the workload has a clear understanding of the data contained in the target database or its structure.\n",
    "\n",
    "Remeber that:\n",
    "\n",
    "1. All the queries must run in the python notebook\n",
    "2. You can use classes and properties only if you find them via a SPARQL query that must be present in the notebook\n",
    "3. You do not delete useless queries. Keep everything that is synthatically valid \n",
    "\n",
    "```\n",
    "?p sc:name?name .\n",
    "```\n",
    "    \n",
    "is the BGP returning a human-readable name of a property or a class in Wikidata.\n",
    "    \n",
    "    "
   ]
  },
  {
   "cell_type": "code",
   "execution_count": 1,
   "id": "3605c9d5-5371-49a5-be8d-d66e8f417139",
   "metadata": {},
   "outputs": [],
   "source": [
    "## SETUP used later\n",
    "\n",
    "from SPARQLWrapper import SPARQLWrapper, JSON\n",
    "\n",
    "\n",
    "prefixString = \"\"\"\n",
    "##-cda4aeaa8e-##\n",
    "PREFIX wd: <http://www.wikidata.org/entity/> \n",
    "PREFIX wdt: <http://www.wikidata.org/prop/direct/> \n",
    "PREFIX sc: <http://schema.org/>\n",
    "\"\"\"\n",
    "\n",
    "# select and construct queries\n",
    "def run_query(queryString):\n",
    "    to_run = prefixString + \"\\n\" + queryString\n",
    "\n",
    "    sparql = SPARQLWrapper(\"http://a256-gc1-02.srv.aau.dk:5820/sparql\")\n",
    "    sparql.setTimeout(300)\n",
    "    sparql.setReturnFormat(JSON)\n",
    "    sparql.setQuery(to_run)\n",
    "\n",
    "    try :\n",
    "       results = sparql.query()\n",
    "       json_results = results.convert()\n",
    "       if len(json_results['results']['bindings'])==0:\n",
    "          print(\"Empty\")\n",
    "          return 0\n",
    "    \n",
    "       for bindings in json_results['results']['bindings']:\n",
    "          print( [ (var, value['value'])  for var, value in bindings.items() ] )\n",
    "\n",
    "       return len(json_results['results']['bindings'])\n",
    "\n",
    "    except Exception as e :\n",
    "        print(\"The operation failed\", e)\n",
    "    \n",
    "# ASk queries\n",
    "def run_ask_query(queryString):\n",
    "    to_run = prefixString + \"\\n\" + queryString\n",
    "\n",
    "    sparql = SPARQLWrapper(\"http://a256-gc1-02.srv.aau.dk:5820/sparql\")\n",
    "    sparql.setTimeout(300)\n",
    "    sparql.setReturnFormat(JSON)\n",
    "    sparql.setQuery(to_run)\n",
    "\n",
    "    try :\n",
    "        return sparql.query().convert()\n",
    "\n",
    "    except Exception as e :\n",
    "        print(\"The operation failed\", e)\n"
   ]
  },
  {
   "cell_type": "markdown",
   "id": "d477a59c-a68c-4c8f-9f97-8ca5294d7d27",
   "metadata": {},
   "source": [
    "# Politics Workflow Series (\"Presidents of countries\") \n",
    "\n",
    "Consider the following exploratory information need:\n",
    "\n",
    "> You investigating presidents of the republic, or similar roles, across international states around the world"
   ]
  },
  {
   "cell_type": "markdown",
   "id": "4a45c0ba-f79e-441d-bec5-84401b09db70",
   "metadata": {},
   "source": [
    "## Useful URIs for the current workflow\n",
    "\n",
    "\n",
    "The following are given:\n",
    "\n",
    "| IRI           | Description   | Role      |\n",
    "| -----------   | -----------   |-----------|\n",
    "| `wdt:P1647`   | subproperty   | predicate |\n",
    "| `wdt:P31`     | instance of   | predicate |\n",
    "| `wdt:P279`    | subclass      | predicate |\n",
    "| `wdt:P17`     | country       | predicate |\n",
    "| `wdt:P27`     | citizenship   | predicate |\n",
    "| `wdt:P39`     | position held   | predicate |\n",
    "| `wd:Q248577`  | President of the republic | node      |\n",
    "| `wd:Q11696`   | President of U.S.A.      | node      |\n",
    "| `wd:Q332711`  | President of Italy        | node |\n",
    "| `wd:Q38`      | Italy          | node |\n",
    "| `wd:Q30`      | U.S.A.        | node |\n",
    "\n",
    "\n",
    "\n",
    "Also consider\n",
    "\n",
    "```\n",
    "?p wdt:P39/wdt:P279* wd:Q248577  .  \n",
    "```\n",
    "\n",
    "is the BGP to retrieve all **presidents of the world countries through history**"
   ]
  },
  {
   "cell_type": "markdown",
   "id": "7af439fb-96e4-4dbb-a381-f19afab79f86",
   "metadata": {
    "tags": []
   },
   "source": [
    "## Workload Goals\n",
    "\n",
    "1. Identify the BGP for obtaining important attributes for people, e.g., date of birth/death, gender, profession \n",
    "\n",
    "2. Identify the BGP to retrieve countries with  had at least once had a president\n",
    "\n",
    "3. When was the first president of each country born? How many presidents each country had?\n",
    "\n",
    "4. Is there a country that had at some point a woman as a president?\n",
    "\n",
    "5. Analyze the number of presidents per country through time\n",
    " \n",
    "   5.1 What are the top-5 countries for number of presidents? Which countries had the least?\n",
    "   \n",
    "   5.2 For how many presidents we know a date of death in each country?\n",
    "   \n",
    "   5.3 Which are the professions of different presidents? How many presidents had a specific profession?\n"
   ]
  },
  {
   "cell_type": "code",
   "execution_count": 2,
   "id": "24a853ab-830c-422c-afd3-e9e015b8b8ed",
   "metadata": {},
   "outputs": [],
   "source": [
    "# start your workflow here"
   ]
  },
  {
   "cell_type": "code",
   "execution_count": 2,
   "id": "ade01416-92e7-4ad7-b9a9-b8fb330750dc",
   "metadata": {},
   "outputs": [
    {
     "name": "stdout",
     "output_type": "stream",
     "text": [
      "Results\n",
      "[('callret-0', '1649')]\n"
     ]
    },
    {
     "data": {
      "text/plain": [
       "1"
      ]
     },
     "execution_count": 2,
     "metadata": {},
     "output_type": "execute_result"
    }
   ],
   "source": [
    "queryString = \"\"\"\n",
    "SELECT COUNT(*)\n",
    "WHERE { \n",
    "\n",
    "?p wdt:P39/wdt:P279* wd:Q248577  . \n",
    "} \n",
    "\"\"\"\n",
    "\n",
    "print(\"Results\")\n",
    "run_query(queryString)"
   ]
  },
  {
   "cell_type": "markdown",
   "id": "d0d4e386-38dc-41f5-b1c6-4446b294997d",
   "metadata": {},
   "source": [
    "## Task 1\n",
    "\n",
    "Looking for subclass of president of republic and find the property"
   ]
  },
  {
   "cell_type": "code",
   "execution_count": 3,
   "id": "633de9db-8160-45e8-8843-47760b621bd2",
   "metadata": {},
   "outputs": [
    {
     "name": "stdout",
     "output_type": "stream",
     "text": [
      "Results\n",
      "[('pr', 'http://www.wikidata.org/entity/Q14946265'), ('name', 'President of Bulgaria')]\n",
      "[('pr', 'http://www.wikidata.org/entity/Q1054799'), ('name', 'President of the Republic of Poland')]\n",
      "[('pr', 'http://www.wikidata.org/entity/Q1625960'), ('name', 'President of Albania')]\n",
      "[('pr', 'http://www.wikidata.org/entity/Q18204367'), ('name', 'President of Uganda')]\n",
      "[('pr', 'http://www.wikidata.org/entity/Q19161338'), ('name', 'President of Madagascar')]\n",
      "[('pr', 'http://www.wikidata.org/entity/Q2672728'), ('name', 'President of Ghana')]\n",
      "[('pr', 'http://www.wikidata.org/entity/Q268984'), ('name', 'president of Croatia')]\n",
      "[('pr', 'http://www.wikidata.org/entity/Q27977064'), ('name', 'President of Costa Rica')]\n",
      "[('pr', 'http://www.wikidata.org/entity/Q3409186'), ('name', 'President of Ethiopia')]\n",
      "[('pr', 'http://www.wikidata.org/entity/Q3409199'), ('name', 'President of the Democratic Republic of the Congo')]\n",
      "[('pr', 'http://www.wikidata.org/entity/Q495877'), ('name', 'President of Slovenia')]\n",
      "[('pr', 'http://www.wikidata.org/entity/Q6085537'), ('name', 'President of the Republic of Guatemala')]\n",
      "[('pr', 'http://www.wikidata.org/entity/Q647198'), ('name', 'President of the Republic of Namibia')]\n",
      "[('pr', 'http://www.wikidata.org/entity/Q648464'), ('name', 'President of Syria')]\n",
      "[('pr', 'http://www.wikidata.org/entity/Q7241291'), ('name', 'President of Tanzania')]\n",
      "[('pr', 'http://www.wikidata.org/entity/Q756265'), ('name', 'President of Mongolia')]\n",
      "[('pr', 'http://www.wikidata.org/entity/Q839139'), ('name', 'President of Romania')]\n",
      "[('pr', 'http://www.wikidata.org/entity/Q878151'), ('name', 'President of El Salvador')]\n",
      "[('pr', 'http://www.wikidata.org/entity/Q878222'), ('name', 'President of the Republic of Lithuania')]\n",
      "[('pr', 'http://www.wikidata.org/entity/Q889817'), ('name', 'President of Iraq')]\n",
      "[('pr', 'http://www.wikidata.org/entity/Q1209571'), ('name', 'President of the Philippines')]\n",
      "[('pr', 'http://www.wikidata.org/entity/Q473984'), ('name', 'President of Pakistan')]\n",
      "[('pr', 'http://www.wikidata.org/entity/Q5708511'), ('name', 'President of Peru')]\n",
      "[('pr', 'http://www.wikidata.org/entity/Q1999471'), ('name', 'President of the Confederate States')]\n",
      "[('pr', 'http://www.wikidata.org/entity/Q732562'), ('name', 'President of Ecuador')]\n",
      "[('pr', 'http://www.wikidata.org/entity/Q2914380'), ('name', 'President of Sri Lanka')]\n",
      "[('pr', 'http://www.wikidata.org/entity/Q3290543'), ('name', 'President of Haiti')]\n",
      "[('pr', 'http://www.wikidata.org/entity/Q39021'), ('name', 'President of Singapore')]\n",
      "[('pr', 'http://www.wikidata.org/entity/Q520765'), ('name', 'President of Hungary')]\n",
      "[('pr', 'http://www.wikidata.org/entity/Q837221'), ('name', 'Great President of the Republic of China')]\n",
      "[('pr', 'http://www.wikidata.org/entity/Q843405'), ('name', 'President of Georgia')]\n",
      "[('pr', 'http://www.wikidata.org/entity/Q887003'), ('name', 'President of the Republic of China')]\n",
      "[('pr', 'http://www.wikidata.org/entity/Q19364214'), ('name', 'President of Somalia')]\n",
      "[('pr', 'http://www.wikidata.org/entity/Q18985034'), ('name', 'President of Zambia')]\n",
      "[('pr', 'http://www.wikidata.org/entity/Q19058289'), ('name', 'President of São Tomé and Príncipe')]\n",
      "[('pr', 'http://www.wikidata.org/entity/Q19188924'), ('name', 'President of Iceland')]\n",
      "[('pr', 'http://www.wikidata.org/entity/Q312271'), ('name', 'President of Moldova')]\n",
      "[('pr', 'http://www.wikidata.org/entity/Q18463915'), ('name', 'President of Seychelles')]\n",
      "[('pr', 'http://www.wikidata.org/entity/Q3409203'), ('name', 'President of Greece')]\n",
      "[('pr', 'http://www.wikidata.org/entity/Q6594693'), ('name', 'President of Republika Srpska')]\n",
      "[('pr', 'http://www.wikidata.org/entity/Q273884'), ('name', 'President of South Africa')]\n",
      "[('pr', 'http://www.wikidata.org/entity/Q866680'), ('name', 'President of Vietnam')]\n",
      "[('pr', 'http://www.wikidata.org/entity/Q20995488'), ('name', 'President of Burkina Faso')]\n",
      "[('pr', 'http://www.wikidata.org/entity/Q7466263'), ('name', 'President of Uzbekistan')]\n",
      "[('pr', 'http://www.wikidata.org/entity/Q11696'), ('name', 'President of the United States')]\n",
      "[('pr', 'http://www.wikidata.org/entity/Q11942698'), ('name', 'President of Venezuela')]\n",
      "[('pr', 'http://www.wikidata.org/entity/Q1467287'), ('name', 'President-elect of the United States')]\n",
      "[('pr', 'http://www.wikidata.org/entity/Q25223'), ('name', 'president of Germany')]\n",
      "[('pr', 'http://www.wikidata.org/entity/Q313383'), ('name', 'President of India')]\n",
      "[('pr', 'http://www.wikidata.org/entity/Q322459'), ('name', 'President of Portugal')]\n",
      "[('pr', 'http://www.wikidata.org/entity/Q332711'), ('name', 'President of Italy')]\n",
      "[('pr', 'http://www.wikidata.org/entity/Q466956'), ('name', 'President of Chile')]\n",
      "[('pr', 'http://www.wikidata.org/entity/Q5176750'), ('name', 'President of Brazil')]\n",
      "[('pr', 'http://www.wikidata.org/entity/Q655407'), ('name', \"President of the People's Republic of China\")]\n",
      "[('pr', 'http://www.wikidata.org/entity/Q846091'), ('name', 'President of Angola')]\n",
      "[('pr', 'http://www.wikidata.org/entity/Q878217'), ('name', 'President of Vanuatu')]\n",
      "[('pr', 'http://www.wikidata.org/entity/Q904139'), ('name', 'President of Laos')]\n",
      "[('pr', 'http://www.wikidata.org/entity/Q1370482'), ('name', 'President of Cuba')]\n",
      "[('pr', 'http://www.wikidata.org/entity/Q68390254'), ('name', 'Jefe Supremo del Estado de El Salvador')]\n",
      "[('pr', 'http://www.wikidata.org/entity/Q15921518'), ('name', 'President of the Gambia')]\n",
      "[('pr', 'http://www.wikidata.org/entity/Q2662118'), ('name', 'President of the Sahrawi Arab Democratic Republic')]\n",
      "[('pr', 'http://www.wikidata.org/entity/Q1155759'), ('name', 'President of Turkmenistan')]\n",
      "[('pr', 'http://www.wikidata.org/entity/Q2630370'), ('name', 'President of Transnistria')]\n",
      "[('pr', 'http://www.wikidata.org/entity/Q2407810'), ('name', 'President of Republic of Benin')]\n",
      "[('pr', 'http://www.wikidata.org/entity/Q11755916'), ('name', 'President of Indonesia')]\n",
      "[('pr', 'http://www.wikidata.org/entity/Q475658'), ('name', 'President of Austria')]\n",
      "[('pr', 'http://www.wikidata.org/entity/Q628004'), ('name', 'President of Mexico')]\n",
      "[('pr', 'http://www.wikidata.org/entity/Q205602'), ('name', 'President of Azerbaijan')]\n",
      "[('pr', 'http://www.wikidata.org/entity/Q218014'), ('name', 'President of Latvia')]\n",
      "[('pr', 'http://www.wikidata.org/entity/Q34071'), ('name', 'President of Paraguay')]\n",
      "[('pr', 'http://www.wikidata.org/entity/Q6296418'), ('name', 'president of South Korea')]\n",
      "[('pr', 'http://www.wikidata.org/entity/Q12969145'), ('name', 'President of Argentina')]\n",
      "[('pr', 'http://www.wikidata.org/entity/Q13341442'), ('name', 'President of Honduras')]\n",
      "[('pr', 'http://www.wikidata.org/entity/Q19056310'), ('name', 'President of Botswana')]\n",
      "[('pr', 'http://www.wikidata.org/entity/Q5256775'), ('name', 'President of Kazakhstan')]\n",
      "[('pr', 'http://www.wikidata.org/entity/Q853475'), ('name', 'President of Colombia')]\n",
      "[('pr', 'http://www.wikidata.org/entity/Q886947'), ('name', 'President of Kosovo')]\n",
      "[('pr', 'http://www.wikidata.org/entity/Q22001564'), ('name', 'President of Lebanon')]\n",
      "[('pr', 'http://www.wikidata.org/entity/Q500282'), ('name', 'President of Nigeria')]\n",
      "[('pr', 'http://www.wikidata.org/entity/Q685925'), ('name', 'President of Guyana')]\n",
      "[('pr', 'http://www.wikidata.org/entity/Q2522739'), ('name', 'President of Trinidad and Tobago')]\n",
      "[('pr', 'http://www.wikidata.org/entity/Q19057827'), ('name', 'President of Burundi')]\n",
      "[('pr', 'http://www.wikidata.org/entity/Q878250'), ('name', 'President of Kiribati')]\n",
      "[('pr', 'http://www.wikidata.org/entity/Q19056184'), ('name', 'President of Zimbabwe')]\n",
      "[('pr', 'http://www.wikidata.org/entity/Q153756'), ('name', 'President of Nepal')]\n",
      "[('pr', 'http://www.wikidata.org/entity/Q28015452'), ('name', 'President of Comoros')]\n",
      "[('pr', 'http://www.wikidata.org/entity/Q889830'), ('name', 'President of Serbia')]\n",
      "[('pr', 'http://www.wikidata.org/entity/Q853036'), ('name', 'President of Kyrgyzstan')]\n",
      "[('pr', 'http://www.wikidata.org/entity/Q887124'), ('name', 'President of Myanmar')]\n",
      "[('pr', 'http://www.wikidata.org/entity/Q890005'), ('name', 'President of Estonia')]\n",
      "[('pr', 'http://www.wikidata.org/entity/Q4283840'), ('name', 'President of Armenia')]\n",
      "[('pr', 'http://www.wikidata.org/entity/Q889950'), ('name', 'President of Serbia and Montenegro')]\n",
      "[('pr', 'http://www.wikidata.org/entity/Q15710848'), ('name', 'President of the Central African Republic')]\n",
      "[('pr', 'http://www.wikidata.org/entity/Q3286988'), ('name', 'President of Mauritius')]\n",
      "[('pr', 'http://www.wikidata.org/entity/Q20087535'), ('name', 'president of Dominica')]\n",
      "[('pr', 'http://www.wikidata.org/entity/Q2123628'), ('name', 'Acting President of the United States')]\n",
      "[('pr', 'http://www.wikidata.org/entity/Q25906534'), ('name', 'President of Somaliland')]\n",
      "[('pr', 'http://www.wikidata.org/entity/Q15893498'), ('name', \"Chairman (President) of the People's Republic of Bulgaria\")]\n",
      "[('pr', 'http://www.wikidata.org/entity/Q3736673'), ('name', 'President of the Marshall Islands')]\n",
      "[('pr', 'http://www.wikidata.org/entity/Q28015517'), ('name', 'president of Guinea')]\n",
      "[('pr', 'http://www.wikidata.org/entity/Q18420763'), ('name', 'President of the Republic of Puerto Rico')]\n",
      "[('pr', 'http://www.wikidata.org/entity/Q18565665'), ('name', 'President of Mozambique')]\n",
      "[('pr', 'http://www.wikidata.org/entity/Q34366203'), ('name', 'President of the Federal Republic of Central America')]\n",
      "[('pr', 'http://www.wikidata.org/entity/Q4676854'), ('name', 'Acting President of Pakistan')]\n",
      "[('pr', 'http://www.wikidata.org/entity/Q107155189'), ('name', 'President of the Republic of Kosova')]\n",
      "[('pr', 'http://www.wikidata.org/entity/Q1064606'), ('name', 'President of the Maldives')]\n",
      "[('pr', 'http://www.wikidata.org/entity/Q55831'), ('name', 'Acting President of Poland')]\n"
     ]
    },
    {
     "data": {
      "text/plain": [
       "107"
      ]
     },
     "execution_count": 3,
     "metadata": {},
     "output_type": "execute_result"
    }
   ],
   "source": [
    "queryString = \"\"\"\n",
    "SELECT DISTINCT ?pr ?name \n",
    "WHERE { \n",
    "\n",
    "?pr wdt:P279+ wd:Q248577 .\n",
    "?pr sc:name?name .\n",
    "\n",
    "} \n",
    "LIMIT 200\n",
    "\"\"\"\n",
    "\n",
    "print(\"Results\")\n",
    "run_query(queryString)\n",
    "\n"
   ]
  },
  {
   "cell_type": "code",
   "execution_count": 4,
   "id": "65328aed-8a40-4bf2-86fe-9459b3cf6c48",
   "metadata": {},
   "outputs": [
    {
     "name": "stdout",
     "output_type": "stream",
     "text": [
      "Results\n",
      "[('pr', 'http://www.wikidata.org/prop/direct/P2389'), ('name', 'organization directed by the office or position')]\n",
      "[('pr', 'http://www.wikidata.org/prop/direct/P2098'), ('name', 'substitute/deputy/replacement of office/officeholder')]\n",
      "[('pr', 'http://www.wikidata.org/prop/direct/P1001'), ('name', 'applies to jurisdiction')]\n",
      "[('pr', 'http://www.wikidata.org/prop/direct/P1005'), ('name', 'Portuguese National Library ID')]\n",
      "[('pr', 'http://www.wikidata.org/prop/direct/P106'), ('name', 'occupation')]\n",
      "[('pr', 'http://www.wikidata.org/prop/direct/P1225'), ('name', 'U.S. National Archives Identifier')]\n",
      "[('pr', 'http://www.wikidata.org/prop/direct/P131'), ('name', 'located in the administrative territorial entity')]\n",
      "[('pr', 'http://www.wikidata.org/prop/direct/P1343'), ('name', 'described by source')]\n",
      "[('pr', 'http://www.wikidata.org/prop/direct/P1365'), ('name', 'replaces')]\n",
      "[('pr', 'http://www.wikidata.org/prop/direct/P1366'), ('name', 'replaced by')]\n",
      "[('pr', 'http://www.wikidata.org/prop/direct/P1417'), ('name', 'Encyclopædia Britannica Online ID')]\n",
      "[('pr', 'http://www.wikidata.org/prop/direct/P1424'), ('name', \"topic's main template\")]\n",
      "[('pr', 'http://www.wikidata.org/prop/direct/P1448'), ('name', 'official name')]\n",
      "[('pr', 'http://www.wikidata.org/prop/direct/P154'), ('name', 'logo image')]\n",
      "[('pr', 'http://www.wikidata.org/prop/direct/P155'), ('name', 'follows')]\n",
      "[('pr', 'http://www.wikidata.org/prop/direct/P156'), ('name', 'followed by')]\n",
      "[('pr', 'http://www.wikidata.org/prop/direct/P158'), ('name', 'seal image')]\n",
      "[('pr', 'http://www.wikidata.org/prop/direct/P1617'), ('name', 'BBC Things ID')]\n",
      "[('pr', 'http://www.wikidata.org/prop/direct/P163'), ('name', 'flag')]\n",
      "[('pr', 'http://www.wikidata.org/prop/direct/P17'), ('name', 'country')]\n",
      "[('pr', 'http://www.wikidata.org/prop/direct/P1705'), ('name', 'native label')]\n",
      "[('pr', 'http://www.wikidata.org/prop/direct/P1754'), ('name', 'category related to list')]\n",
      "[('pr', 'http://www.wikidata.org/prop/direct/P18'), ('name', 'image')]\n",
      "[('pr', 'http://www.wikidata.org/prop/direct/P1830'), ('name', 'owner of')]\n",
      "[('pr', 'http://www.wikidata.org/prop/direct/P1889'), ('name', 'different from')]\n",
      "[('pr', 'http://www.wikidata.org/prop/direct/P2001'), ('name', 'Revised Romanization')]\n",
      "[('pr', 'http://www.wikidata.org/prop/direct/P2002'), ('name', 'Twitter username')]\n",
      "[('pr', 'http://www.wikidata.org/prop/direct/P2003'), ('name', 'Instagram username')]\n",
      "[('pr', 'http://www.wikidata.org/prop/direct/P2013'), ('name', 'Facebook ID')]\n",
      "[('pr', 'http://www.wikidata.org/prop/direct/P213'), ('name', 'ISNI')]\n",
      "[('pr', 'http://www.wikidata.org/prop/direct/P214'), ('name', 'VIAF ID')]\n",
      "[('pr', 'http://www.wikidata.org/prop/direct/P227'), ('name', 'GND ID')]\n",
      "[('pr', 'http://www.wikidata.org/prop/direct/P2354'), ('name', 'has list')]\n",
      "[('pr', 'http://www.wikidata.org/prop/direct/P2390'), ('name', 'Ballotpedia ID')]\n",
      "[('pr', 'http://www.wikidata.org/prop/direct/P2397'), ('name', 'YouTube channel ID')]\n",
      "[('pr', 'http://www.wikidata.org/prop/direct/P244'), ('name', 'Library of Congress authority ID')]\n",
      "[('pr', 'http://www.wikidata.org/prop/direct/P2581'), ('name', 'BabelNet ID')]\n",
      "[('pr', 'http://www.wikidata.org/prop/direct/P2671'), ('name', 'Google Knowledge Graph ID')]\n",
      "[('pr', 'http://www.wikidata.org/prop/direct/P268'), ('name', 'Bibliothèque nationale de France ID')]\n",
      "[('pr', 'http://www.wikidata.org/prop/direct/P269'), ('name', 'IdRef ID')]\n",
      "[('pr', 'http://www.wikidata.org/prop/direct/P279'), ('name', 'subclass of')]\n",
      "[('pr', 'http://www.wikidata.org/prop/direct/P2868'), ('name', 'subject has role')]\n",
      "[('pr', 'http://www.wikidata.org/prop/direct/P2998'), ('name', 'age of candidacy')]\n",
      "[('pr', 'http://www.wikidata.org/prop/direct/P3065'), ('name', 'RERO ID')]\n",
      "[('pr', 'http://www.wikidata.org/prop/direct/P31'), ('name', 'instance of')]\n",
      "[('pr', 'http://www.wikidata.org/prop/direct/P3221'), ('name', 'New York Times topic ID')]\n",
      "[('pr', 'http://www.wikidata.org/prop/direct/P3393'), ('name', 'LittleSis organization ID')]\n",
      "[('pr', 'http://www.wikidata.org/prop/direct/P3417'), ('name', 'Quora topic ID')]\n",
      "[('pr', 'http://www.wikidata.org/prop/direct/P3438'), ('name', 'vehicle normally used')]\n",
      "[('pr', 'http://www.wikidata.org/prop/direct/P3553'), ('name', 'Zhihu topic ID')]\n",
      "[('pr', 'http://www.wikidata.org/prop/direct/P360'), ('name', 'is a list of')]\n",
      "[('pr', 'http://www.wikidata.org/prop/direct/P361'), ('name', 'part of')]\n",
      "[('pr', 'http://www.wikidata.org/prop/direct/P373'), ('name', 'Commons category')]\n",
      "[('pr', 'http://www.wikidata.org/prop/direct/P3789'), ('name', 'Telegram username')]\n",
      "[('pr', 'http://www.wikidata.org/prop/direct/P4081'), ('name', 'BHL creator ID')]\n",
      "[('pr', 'http://www.wikidata.org/prop/direct/P41'), ('name', 'flag image')]\n",
      "[('pr', 'http://www.wikidata.org/prop/direct/P418'), ('name', 'seal description')]\n",
      "[('pr', 'http://www.wikidata.org/prop/direct/P4527'), ('name', 'UK Parliament thesaurus ID')]\n",
      "[('pr', 'http://www.wikidata.org/prop/direct/P5008'), ('name', 'on focus list of Wikimedia project')]\n",
      "[('pr', 'http://www.wikidata.org/prop/direct/P508'), ('name', 'BNCF Thesaurus ID')]\n",
      "[('pr', 'http://www.wikidata.org/prop/direct/P551'), ('name', 'residence')]\n",
      "[('pr', 'http://www.wikidata.org/prop/direct/P571'), ('name', 'inception')]\n",
      "[('pr', 'http://www.wikidata.org/prop/direct/P576'), ('name', 'dissolved, abolished or demolished date')]\n",
      "[('pr', 'http://www.wikidata.org/prop/direct/P580'), ('name', 'start time')]\n",
      "[('pr', 'http://www.wikidata.org/prop/direct/P598'), ('name', 'commander of (DEPRECATED)')]\n",
      "[('pr', 'http://www.wikidata.org/prop/direct/P646'), ('name', 'Freebase ID')]\n",
      "[('pr', 'http://www.wikidata.org/prop/direct/P6573'), ('name', 'Klexikon article ID')]\n",
      "[('pr', 'http://www.wikidata.org/prop/direct/P691'), ('name', 'NKCR AUT ID')]\n",
      "[('pr', 'http://www.wikidata.org/prop/direct/P7775'), ('name', 'RationalWiki ID')]\n",
      "[('pr', 'http://www.wikidata.org/prop/direct/P7818'), ('name', 'French Vikidia ID')]\n",
      "[('pr', 'http://www.wikidata.org/prop/direct/P7859'), ('name', 'WorldCat Identities ID')]\n",
      "[('pr', 'http://www.wikidata.org/prop/direct/P828'), ('name', 'has cause')]\n",
      "[('pr', 'http://www.wikidata.org/prop/direct/P8309'), ('name', 'Yle topic ID')]\n",
      "[('pr', 'http://www.wikidata.org/prop/direct/P8408'), ('name', 'KBpedia ID')]\n",
      "[('pr', 'http://www.wikidata.org/prop/direct/P85'), ('name', 'anthem')]\n",
      "[('pr', 'http://www.wikidata.org/prop/direct/P856'), ('name', 'official website')]\n",
      "[('pr', 'http://www.wikidata.org/prop/direct/P8687'), ('name', 'social media followers')]\n",
      "[('pr', 'http://www.wikidata.org/prop/direct/P910'), ('name', \"topic's main category\")]\n",
      "[('pr', 'http://www.wikidata.org/prop/direct/P92'), ('name', 'main regulatory text')]\n",
      "[('pr', 'http://www.wikidata.org/prop/direct/P935'), ('name', 'Commons gallery')]\n",
      "[('pr', 'http://www.wikidata.org/prop/direct/P94'), ('name', 'coat of arms image')]\n",
      "[('pr', 'http://www.wikidata.org/prop/direct/P948'), ('name', 'page banner')]\n",
      "[('pr', 'http://www.wikidata.org/prop/direct/P9545'), ('name', 'Encyclopedia of China Online Database ID')]\n",
      "[('pr', 'http://www.wikidata.org/prop/direct/P9629'), ('name', 'Armeniapedia ID')]\n",
      "[('pr', 'http://www.wikidata.org/prop/direct/P511'), ('name', 'honorific prefix')]\n",
      "[('pr', 'http://www.wikidata.org/prop/direct/P4353'), ('name', 'nominated by')]\n",
      "[('pr', 'http://www.wikidata.org/prop/direct/P1308'), ('name', 'officeholder')]\n",
      "[('pr', 'http://www.wikidata.org/prop/direct/P2097'), ('name', 'term length of office')]\n",
      "[('pr', 'http://www.wikidata.org/prop/direct/P263'), ('name', 'official residence')]\n",
      "[('pr', 'http://www.wikidata.org/prop/direct/P748'), ('name', 'appointed by')]\n",
      "[('pr', 'http://www.wikidata.org/prop/direct/P3618'), ('name', 'base salary')]\n",
      "[('pr', 'http://www.wikidata.org/prop/direct/P2319'), ('name', 'elector')]\n"
     ]
    },
    {
     "data": {
      "text/plain": [
       "92"
      ]
     },
     "execution_count": 4,
     "metadata": {},
     "output_type": "execute_result"
    }
   ],
   "source": [
    "#look for the properties\n",
    "queryString = \"\"\"\n",
    "SELECT DISTINCT ?pr ?name \n",
    "WHERE { \n",
    "\n",
    "?p wdt:P279* wd:Q248577 ;\n",
    "     ?pr ?o.\n",
    "?pr sc:name?name .\n",
    "\n",
    "} \n",
    "LIMIT 200\n",
    "\"\"\"\n",
    "\n",
    "print(\"Results\")\n",
    "run_query(queryString)\n",
    "\n",
    "\n"
   ]
  },
  {
   "cell_type": "markdown",
   "id": "cd12763c-5546-4a06-b3a1-780a255a4cc7",
   "metadata": {},
   "source": [
    "Find the class of human and find the relations of interest (probably the literal once)."
   ]
  },
  {
   "cell_type": "code",
   "execution_count": 5,
   "id": "c022e610-af40-4ba0-b758-d7bf4b2dd782",
   "metadata": {},
   "outputs": [
    {
     "name": "stdout",
     "output_type": "stream",
     "text": [
      "Results\n",
      "[('ist', 'http://www.wikidata.org/entity/Q5'), ('istance', 'human'), ('pr', 'http://www.wikidata.org/prop/direct/P106'), ('name', 'occupation')]\n",
      "[('ist', 'http://www.wikidata.org/entity/Q5'), ('istance', 'human'), ('pr', 'http://www.wikidata.org/prop/direct/P2600'), ('name', 'Geni.com profile ID')]\n",
      "[('ist', 'http://www.wikidata.org/entity/Q5'), ('istance', 'human'), ('pr', 'http://www.wikidata.org/prop/direct/P803'), ('name', 'professorship')]\n",
      "[('ist', 'http://www.wikidata.org/entity/Q5'), ('istance', 'human'), ('pr', 'http://www.wikidata.org/prop/direct/P1196'), ('name', 'manner of death')]\n",
      "[('ist', 'http://www.wikidata.org/entity/Q5'), ('istance', 'human'), ('pr', 'http://www.wikidata.org/prop/direct/P20'), ('name', 'place of death')]\n",
      "[('ist', 'http://www.wikidata.org/entity/Q5'), ('istance', 'human'), ('pr', 'http://www.wikidata.org/prop/direct/P509'), ('name', 'cause of death')]\n",
      "[('ist', 'http://www.wikidata.org/entity/Q5'), ('istance', 'human'), ('pr', 'http://www.wikidata.org/prop/direct/P19'), ('name', 'place of birth')]\n",
      "[('ist', 'http://www.wikidata.org/entity/Q5'), ('istance', 'human'), ('pr', 'http://www.wikidata.org/prop/direct/P21'), ('name', 'sex or gender')]\n",
      "[('ist', 'http://www.wikidata.org/entity/Q5'), ('istance', 'human'), ('pr', 'http://www.wikidata.org/prop/direct/P569'), ('name', 'date of birth')]\n",
      "[('ist', 'http://www.wikidata.org/entity/Q5'), ('istance', 'human'), ('pr', 'http://www.wikidata.org/prop/direct/P570'), ('name', 'date of death')]\n"
     ]
    },
    {
     "data": {
      "text/plain": [
       "10"
      ]
     },
     "execution_count": 5,
     "metadata": {},
     "output_type": "execute_result"
    }
   ],
   "source": [
    "queryString = \"\"\"\n",
    "SELECT DISTINCT ?ist ?istance ?pr ?name\n",
    "WHERE { \n",
    "\n",
    "?p wdt:P39 wd:Q332711 ;\n",
    "    wdt:P31 ?ist ;\n",
    "    ?pr ?o .\n",
    "?pr sc:name?name .\n",
    "?ist sc:name?istance .\n",
    "FILTER (REGEX(?name, \\\".*date.*\\\") || REGEX(?name, \\\".*gen.*\\\") || REGEX(?name, \\\".*birth.*\\\") || REGEX(?name, \\\".*death.*\\\") || REGEX(?name, \\\".*prof.*\\\") || REGEX(?name, \\\".*occ.*\\\"))\n",
    "\n",
    "} \n",
    "LIMIT 200\n",
    "\"\"\"\n",
    "\n",
    "print(\"Results\")\n",
    "run_query(queryString)"
   ]
  },
  {
   "cell_type": "markdown",
   "id": "3a7ece42-3dd3-4ff1-8e57-d9d6c28494b5",
   "metadata": {},
   "source": [
    "- `wd:Q5` class of human\n",
    "- `wdt:P569` date of birth\n",
    "- `wdt:P570` date of death\n",
    "- `wdt:P21` gender\n",
    "- `wdt:P106` occupation"
   ]
  },
  {
   "cell_type": "markdown",
   "id": "cb6bbfee-fbe6-43bf-86e8-f8255da030a2",
   "metadata": {},
   "source": [
    "Looking for a superclass of human to find a person class"
   ]
  },
  {
   "cell_type": "code",
   "execution_count": 7,
   "id": "831aeee3-e2c0-42ec-adac-2488835676b6",
   "metadata": {},
   "outputs": [
    {
     "name": "stdout",
     "output_type": "stream",
     "text": [
      "Results\n",
      "[('sup', 'http://www.wikidata.org/entity/Q215627'), ('name', 'person')]\n",
      "[('sup', 'http://www.wikidata.org/entity/Q154954'), ('name', 'natural person')]\n",
      "[('sup', 'http://www.wikidata.org/entity/Q164509'), ('name', 'omnivore')]\n"
     ]
    },
    {
     "data": {
      "text/plain": [
       "3"
      ]
     },
     "execution_count": 7,
     "metadata": {},
     "output_type": "execute_result"
    }
   ],
   "source": [
    "queryString = \"\"\"\n",
    "SELECT ?sup ?name\n",
    "WHERE { \n",
    "\n",
    "wd:Q5 wdt:P279 ?sup.\n",
    "\n",
    "?sup sc:name?name .\n",
    "} \n",
    "LIMIT 100\n",
    "\"\"\"\n",
    "\n",
    "print(\"Results\")\n",
    "run_query(queryString)"
   ]
  },
  {
   "cell_type": "markdown",
   "id": "92da4b0e-661f-43c7-99b4-a26b09d4da68",
   "metadata": {},
   "source": [
    "Found `wd:Q215627` the class of person. Now look for some relation"
   ]
  },
  {
   "cell_type": "code",
   "execution_count": 8,
   "id": "0ca2c514-8e48-4bf0-8d80-f88f79a5bd1a",
   "metadata": {},
   "outputs": [
    {
     "name": "stdout",
     "output_type": "stream",
     "text": [
      "Results\n",
      "[('pr', 'http://www.wikidata.org/prop/direct/P106'), ('name', 'occupation')]\n",
      "[('pr', 'http://www.wikidata.org/prop/direct/P2600'), ('name', 'Geni.com profile ID')]\n",
      "[('pr', 'http://www.wikidata.org/prop/direct/P6634'), ('name', 'LinkedIn personal profile ID')]\n",
      "[('pr', 'http://www.wikidata.org/prop/direct/P1196'), ('name', 'manner of death')]\n",
      "[('pr', 'http://www.wikidata.org/prop/direct/P20'), ('name', 'place of death')]\n",
      "[('pr', 'http://www.wikidata.org/prop/direct/P509'), ('name', 'cause of death')]\n",
      "[('pr', 'http://www.wikidata.org/prop/direct/P1477'), ('name', 'birth name')]\n",
      "[('pr', 'http://www.wikidata.org/prop/direct/P19'), ('name', 'place of birth')]\n",
      "[('pr', 'http://www.wikidata.org/prop/direct/P136'), ('name', 'genre')]\n",
      "[('pr', 'http://www.wikidata.org/prop/direct/P21'), ('name', 'sex or gender')]\n",
      "[('pr', 'http://www.wikidata.org/prop/direct/P3544'), ('name', 'Te Papa agent ID')]\n",
      "[('pr', 'http://www.wikidata.org/prop/direct/P569'), ('name', 'date of birth')]\n",
      "[('pr', 'http://www.wikidata.org/prop/direct/P570'), ('name', 'date of death')]\n"
     ]
    },
    {
     "data": {
      "text/plain": [
       "13"
      ]
     },
     "execution_count": 8,
     "metadata": {},
     "output_type": "execute_result"
    }
   ],
   "source": [
    "queryString = \"\"\"\n",
    "SELECT DISTINCT ?ist ?istance ?pr ?name\n",
    "WHERE { \n",
    "\n",
    "?p wdt:P31 wd:Q215627 ;\n",
    "       ?pr ?o .\n",
    "?pr sc:name?name .\n",
    "#?ist sc:name?istance .\n",
    "FILTER (REGEX(?name, \\\".*date.*\\\") || REGEX(?name, \\\".*gen.*\\\") || REGEX(?name, \\\".*birth.*\\\") || REGEX(?name, \\\".*death.*\\\") || REGEX(?name, \\\".*prof.*\\\") || REGEX(?name, \\\".*occ.*\\\"))\n",
    "#FILTER (!isLiteral(?o))\n",
    "} \n",
    "LIMIT 200\n",
    "\"\"\"\n",
    "\n",
    "print(\"Results\")\n",
    "run_query(queryString)"
   ]
  },
  {
   "cell_type": "markdown",
   "id": "56fe35e7-791c-4d93-ba5e-746b7f43176b",
   "metadata": {},
   "source": [
    "Predicate of interest\n",
    "\n",
    "- `wd:Q215627` class of person\n",
    "- `wdt:P569` date of birth\n",
    "- `wdt:P570` date of death\n",
    "- `wdt:P136` genre\n",
    "- `wdt:P21` sex or gender\n",
    "- `wdt:P106` occupation\n",
    "\n",
    "Looking for all person and subclasses (probably it make sense to look only for the class person).\n",
    "\n",
    "The death is option because I want information also to people still alive."
   ]
  },
  {
   "cell_type": "code",
   "execution_count": 9,
   "id": "66d6dc8c-a2f7-4d69-8f01-96dcf56f0bc0",
   "metadata": {},
   "outputs": [
    {
     "name": "stdout",
     "output_type": "stream",
     "text": [
      "Results\n",
      "[('name', 'Mateo Egea'), ('gender', 'male'), ('birth', '1896-01-01T00:00:00Z'), ('death', '1979-01-01T00:00:00Z'), ('occupation', 'politician')]\n",
      "[('name', 'José Ximénez'), ('gender', 'male'), ('birth', '1601-01-01T00:00:00Z'), ('death', '1672-08-09T00:00:00Z'), ('occupation', 'composer')]\n",
      "[('name', 'José Ximénez'), ('gender', 'male'), ('birth', '1601-01-01T00:00:00Z'), ('death', '1672-08-09T00:00:00Z'), ('occupation', 'organist')]\n",
      "[('name', 'Empress Dowager Longyu'), ('gender', 'female'), ('birth', '1868-01-28T00:00:00Z'), ('death', '1913-02-22T00:00:00Z'), ('occupation', 'politician')]\n",
      "[('name', 'Eugénio de Castro'), ('gender', 'male'), ('birth', '1869-03-04T00:00:00Z'), ('death', '1944-08-17T00:00:00Z'), ('occupation', 'pedagogue')]\n",
      "[('name', 'Eugénio de Castro'), ('gender', 'male'), ('birth', '1869-03-04T00:00:00Z'), ('death', '1944-08-17T00:00:00Z'), ('occupation', 'writer')]\n",
      "[('name', 'Eugénio de Castro'), ('gender', 'male'), ('birth', '1869-03-04T00:00:00Z'), ('death', '1944-08-17T00:00:00Z'), ('occupation', 'poet')]\n",
      "[('name', 'Erzsébet Bereczky'), ('gender', 'female'), ('birth', '1932-01-05T00:00:00Z'), ('death', '2010-05-30T00:00:00Z'), ('occupation', 'dramaturge')]\n",
      "[('name', 'Antón Patiño Regueira'), ('gender', 'male'), ('birth', '1919-08-02T00:00:00Z'), ('death', '2005-07-06T00:00:00Z'), ('occupation', 'bookseller')]\n",
      "[('name', 'William Walker'), ('gender', 'male'), ('birth', '1729-11-01T00:00:00Z'), ('death', '1793-02-18T00:00:00Z'), ('occupation', 'etcher')]\n"
     ]
    },
    {
     "data": {
      "text/plain": [
       "10"
      ]
     },
     "execution_count": 9,
     "metadata": {},
     "output_type": "execute_result"
    }
   ],
   "source": [
    "queryString = \"\"\"\n",
    "SELECT ?name ?gender ?birth ?death ?occupation\n",
    "WHERE { \n",
    "\n",
    "?p wdt:P31 wd:Q5 .\n",
    "?p wdt:P21 ?g .\n",
    "?p wdt:P569 ?birth .\n",
    "OPTIONAL{ ?p wdt:P570 ?death .}\n",
    "?p wdt:P106 ?o .\n",
    "?p sc:name?name .\n",
    "?g sc:name?gender .\n",
    "?o sc:name?occupation .\n",
    "\n",
    "}\n",
    "\n",
    "LIMIT 10\n",
    "\"\"\"\n",
    "\n",
    "print(\"Results\")\n",
    "run_query(queryString)"
   ]
  },
  {
   "cell_type": "markdown",
   "id": "47ea616e-0165-412a-8882-f6b7d937c325",
   "metadata": {},
   "source": [
    "The result above shows as many rows for each person as how many different occupation he has/had.\n",
    "\n",
    "To solve this I group all the occupations in one field with the GROUP_CONCAT operation."
   ]
  },
  {
   "cell_type": "code",
   "execution_count": 10,
   "id": "de5b6d9f-2eb0-4d57-b819-61dbeabb77a5",
   "metadata": {},
   "outputs": [
    {
     "name": "stdout",
     "output_type": "stream",
     "text": [
      "Results\n",
      "[('name', 'Henri Sannier'), ('gender', 'male'), ('birth', '1947-09-07T00:00:00Z'), ('occ', 'journalist;politician;anciens cadres;presenter;news presenter')]\n",
      "[('name', 'Peter Futej'), ('gender', 'male'), ('birth', '1970-06-14T00:00:00Z'), ('occ', 'association football player')]\n",
      "[('name', 'Andrzej Paluchowski'), ('gender', 'male'), ('birth', '1933-01-01T00:00:00Z'), ('death', '2017-01-01T00:00:00Z'), ('occ', 'philologist;historian')]\n",
      "[('name', 'Jean-Baptiste Émile Dropsy'), ('gender', 'male'), ('birth', '1848-01-01T00:00:00Z'), ('death', '1923-01-01T00:00:00Z'), ('occ', 'medalist')]\n",
      "[('name', 'John Christensen'), ('gender', 'male'), ('birth', '1962-02-20T00:00:00Z'), ('death', '2009-03-31T00:00:00Z'), ('occ', 'athlete')]\n",
      "[('name', 'Rod Dreher'), ('gender', 'male'), ('birth', '1967-02-14T00:00:00Z'), ('occ', 'journalist')]\n",
      "[('name', 'Nikolaus Weselik'), ('gender', 'male'), ('birth', '1966-02-04T00:00:00Z'), ('occ', 'writer;lawyer')]\n",
      "[('name', 'Clarence Heise'), ('gender', 'male'), ('birth', '1907-08-07T00:00:00Z'), ('death', '1999-04-30T00:00:00Z'), ('occ', 'baseball player')]\n",
      "[('name', 'Javier López Vallejo'), ('gender', 'male'), ('birth', '1975-09-22T00:00:00Z'), ('occ', 'association football player')]\n",
      "[('name', 'Nariman Töreghalijew'), ('gender', 'male'), ('birth', '1964-07-19T00:00:00Z'), ('occ', 'statesperson')]\n"
     ]
    },
    {
     "data": {
      "text/plain": [
       "10"
      ]
     },
     "execution_count": 10,
     "metadata": {},
     "output_type": "execute_result"
    }
   ],
   "source": [
    "queryString = \"\"\"\n",
    "SELECT ?name ?gender ?birth ?death (GROUP_CONCAT(?occupation;separator=';') AS ?occ)\n",
    "WHERE { \n",
    "\n",
    "?p wdt:P31 wd:Q5 .\n",
    "?p wdt:P21 ?g .\n",
    "?p wdt:P569 ?birth .\n",
    "OPTIONAL{ ?p wdt:P570 ?death .}\n",
    "?p wdt:P106 ?o .\n",
    "?p sc:name?name .\n",
    "?g sc:name?gender .\n",
    "?o sc:name?occupation .\n",
    "\n",
    "}\n",
    "GROUP BY ?name ?gender ?birth ?death\n",
    "LIMIT 10\n",
    "\"\"\"\n",
    "\n",
    "print(\"Results\")\n",
    "run_query(queryString)"
   ]
  },
  {
   "cell_type": "markdown",
   "id": "7d75edc3-1223-4968-bf2a-389840374675",
   "metadata": {
    "tags": []
   },
   "source": [
    "## Task 2 \n",
    "Identify the BGP to retrieve countries with had at least once had a president"
   ]
  },
  {
   "cell_type": "markdown",
   "id": "3de10e2d-8b72-4d4c-88f8-b94967ee8da6",
   "metadata": {},
   "source": [
    "First find the class of country starting from Italy and find the instance of the class"
   ]
  },
  {
   "cell_type": "code",
   "execution_count": 11,
   "id": "7b00f6bd-23d5-44bf-ab9e-b81794cccfd7",
   "metadata": {},
   "outputs": [
    {
     "name": "stdout",
     "output_type": "stream",
     "text": [
      "Results\n",
      "[('p', 'http://www.wikidata.org/entity/Q3624078'), ('name', 'sovereign state')]\n",
      "[('p', 'http://www.wikidata.org/entity/Q6256'), ('name', 'country')]\n"
     ]
    },
    {
     "data": {
      "text/plain": [
       "2"
      ]
     },
     "execution_count": 11,
     "metadata": {},
     "output_type": "execute_result"
    }
   ],
   "source": [
    "queryString = \"\"\"\n",
    "SELECT DISTINCT ?p ?name\n",
    "WHERE { \n",
    "wd:Q38 wdt:P31 ?p.\n",
    "\n",
    "?p sc:name?name .\n",
    "} \n",
    "LIMIT 100\n",
    "\"\"\"\n",
    "\n",
    "print(\"Results\")\n",
    "run_query(queryString)"
   ]
  },
  {
   "cell_type": "markdown",
   "id": "33c3f360-1c5c-49f3-9272-989f450683fe",
   "metadata": {},
   "source": [
    "`wd:Q6256` is the class of country. \n",
    "\n",
    "Looking for relations that associate a people that held the role of president to something that belong at the class of the country"
   ]
  },
  {
   "cell_type": "code",
   "execution_count": 12,
   "id": "ce29e8a1-5a53-4183-b36d-8ff382f52bc6",
   "metadata": {},
   "outputs": [
    {
     "name": "stdout",
     "output_type": "stream",
     "text": [
      "Results\n",
      "[('p', 'http://www.wikidata.org/prop/direct/P35'), ('name', 'head of state')]\n",
      "[('p', 'http://www.wikidata.org/prop/direct/P6'), ('name', 'head of government')]\n",
      "[('p', 'http://www.wikidata.org/prop/direct/P138'), ('name', 'named after')]\n"
     ]
    },
    {
     "data": {
      "text/plain": [
       "3"
      ]
     },
     "execution_count": 12,
     "metadata": {},
     "output_type": "execute_result"
    }
   ],
   "source": [
    "queryString = \"\"\"\n",
    "SELECT DISTINCT ?p ?name\n",
    "\n",
    "WHERE { \n",
    "\n",
    "?a wdt:P39/wdt:P279* wd:Q248577 .\n",
    " ?o ?p ?a ;\n",
    "    wdt:P31 wd:Q6256.\n",
    "\n",
    "?p sc:name?name .\n",
    "}\n",
    "LIMIT 100\n",
    "\"\"\"\n",
    "\n",
    "print(\"Results\")\n",
    "run_query(queryString)"
   ]
  },
  {
   "cell_type": "markdown",
   "id": "6ef5e95a-d04f-4657-9dd1-f8b6700636ea",
   "metadata": {},
   "source": [
    "Looking at the relation \"head of state\" `wdt:P35` with Italy to understand what it means."
   ]
  },
  {
   "cell_type": "code",
   "execution_count": 13,
   "id": "f297de75-fa6c-48c7-81ad-8f143b8fe0d8",
   "metadata": {},
   "outputs": [
    {
     "name": "stdout",
     "output_type": "stream",
     "text": [
      "Results\n",
      "[('p', 'http://www.wikidata.org/prop/direct/P35'), ('name', 'head of state'), ('country', 'Italy'), ('people', 'Sergio Mattarella')]\n"
     ]
    },
    {
     "data": {
      "text/plain": [
       "1"
      ]
     },
     "execution_count": 13,
     "metadata": {},
     "output_type": "execute_result"
    }
   ],
   "source": [
    "queryString = \"\"\"\n",
    "SELECT ?p ?name ?country ?people\n",
    "\n",
    "WHERE { \n",
    "\n",
    "?a wdt:P39/wdt:P279* wd:Q248577 .\n",
    " ?o ?p ?a ;\n",
    "    wdt:P31 wd:Q6256.\n",
    "\n",
    "?p sc:name?name .\n",
    "?o sc:name?country .\n",
    "?a sc:name?people .\n",
    "FILTER (REGEX(?country,\\\".*taly.*\\\"))\n",
    "}\n",
    "LIMIT 100\n",
    "\"\"\"\n",
    "\n",
    "print(\"Results\")\n",
    "run_query(queryString)"
   ]
  },
  {
   "cell_type": "markdown",
   "id": "f0d32a23-1fef-49fa-91a2-c489e2eea1c1",
   "metadata": {},
   "source": [
    "Understood that this is the current president of the republic\n",
    "\n",
    "So, since the sublcasses of the President of Republic have a relation named country (`P17`) I look to that.\n",
    "\n",
    "Find if a country had at least one president starting by all people that held the role of president and looking at the country of the subclass of President of Republic."
   ]
  },
  {
   "cell_type": "code",
   "execution_count": 14,
   "id": "a66d2f66-531a-457f-b944-653a8efdc12a",
   "metadata": {},
   "outputs": [
    {
     "name": "stdout",
     "output_type": "stream",
     "text": [
      "Results\n",
      "[('country', 'Poland')]\n",
      "[('country', 'Albania')]\n",
      "[('country', 'Uganda')]\n",
      "[('country', 'Madagascar')]\n",
      "[('country', 'Ghana')]\n",
      "[('country', 'Croatia')]\n",
      "[('country', 'Costa Rica')]\n",
      "[('country', 'Ethiopia')]\n",
      "[('country', 'Democratic Republic of the Congo')]\n",
      "[('country', 'Slovenia')]\n",
      "[('country', 'Guatemala')]\n",
      "[('country', 'Namibia')]\n",
      "[('country', 'Syria')]\n",
      "[('country', 'Tanzania')]\n",
      "[('country', 'Mongolia')]\n",
      "[('country', 'Romania')]\n",
      "[('country', 'El Salvador')]\n",
      "[('country', 'Lithuania')]\n",
      "[('country', 'Iraq')]\n",
      "[('country', 'Philippines')]\n",
      "[('country', 'Pakistan')]\n",
      "[('country', 'Peru')]\n",
      "[('country', 'Confederate States of America')]\n",
      "[('country', 'Sri Lanka')]\n",
      "[('country', 'Haiti')]\n",
      "[('country', 'Singapore')]\n",
      "[('country', 'Hungary')]\n",
      "[('country', 'Republic of China 1912–1949')]\n",
      "[('country', 'Georgia')]\n",
      "[('country', 'Taiwan')]\n",
      "[('country', 'Somalia')]\n",
      "[('country', 'Zambia')]\n",
      "[('country', 'São Tomé and Príncipe')]\n",
      "[('country', 'Iceland')]\n",
      "[('country', 'Moldova')]\n",
      "[('country', 'Seychelles')]\n",
      "[('country', 'Greece')]\n",
      "[('country', 'Bosnia and Herzegovina')]\n",
      "[('country', 'South Africa')]\n",
      "[('country', 'Vietnam')]\n",
      "[('country', 'Burkina Faso')]\n",
      "[('country', 'Uzbekistan')]\n",
      "[('country', 'United States of America')]\n",
      "[('country', 'Venezuela')]\n",
      "[('country', 'Germany')]\n",
      "[('country', 'India')]\n",
      "[('country', 'Portugal')]\n",
      "[('country', 'Italy')]\n",
      "[('country', 'Chile')]\n",
      "[('country', 'Brazil')]\n",
      "[('country', \"People's Republic of China\")]\n",
      "[('country', 'Angola')]\n",
      "[('country', 'Vanuatu')]\n",
      "[('country', 'Laos')]\n",
      "[('country', 'Cuba')]\n",
      "[('country', 'Federal Republic of Central America')]\n",
      "[('country', 'The Gambia')]\n",
      "[('country', 'Sahrawi Arab Democratic Republic')]\n",
      "[('country', 'Turkmenistan')]\n",
      "[('country', 'Transnistria')]\n",
      "[('country', 'Benin')]\n",
      "[('country', 'Indonesia')]\n",
      "[('country', 'Austria')]\n",
      "[('country', 'Mexico')]\n",
      "[('country', 'Azerbaijan')]\n",
      "[('country', 'Latvia')]\n",
      "[('country', 'Paraguay')]\n",
      "[('country', 'South Korea')]\n",
      "[('country', 'Argentina')]\n",
      "[('country', 'Honduras')]\n",
      "[('country', 'Botswana')]\n",
      "[('country', 'Kazakhstan')]\n",
      "[('country', 'Colombia')]\n",
      "[('country', 'Kosovo')]\n",
      "[('country', 'Lebanon')]\n",
      "[('country', 'Nigeria')]\n",
      "[('country', 'Guyana')]\n",
      "[('country', 'Trinidad and Tobago')]\n",
      "[('country', 'Burundi')]\n",
      "[('country', 'Kiribati')]\n",
      "[('country', 'Zimbabwe')]\n",
      "[('country', 'Nepal')]\n",
      "[('country', 'Comoros')]\n",
      "[('country', 'Serbia')]\n",
      "[('country', 'Kyrgyzstan')]\n",
      "[('country', 'Myanmar')]\n",
      "[('country', 'Estonia')]\n",
      "[('country', 'Armenia')]\n",
      "[('country', 'Serbia and Montenegro')]\n",
      "[('country', 'Central African Republic')]\n",
      "[('country', 'Mauritius')]\n",
      "[('country', 'Dominica')]\n",
      "[('country', 'Somaliland')]\n",
      "[('country', 'Marshall Islands')]\n",
      "[('country', 'Guinea')]\n",
      "[('country', 'Spanish Empire')]\n",
      "[('country', 'Mozambique')]\n",
      "[('country', 'Republic of Kosova')]\n",
      "[('country', 'Maldives')]\n"
     ]
    },
    {
     "data": {
      "text/plain": [
       "99"
      ]
     },
     "execution_count": 14,
     "metadata": {},
     "output_type": "execute_result"
    }
   ],
   "source": [
    "queryString = \"\"\"\n",
    "SELECT DISTINCT ?country\n",
    "WHERE { \n",
    "\n",
    "?p wdt:P279+ wd:Q248577  . \n",
    "?a wdt:P39 ?p.\n",
    "?p wdt:P17 ?c.\n",
    "?c sc:name?country .\n",
    "\n",
    "} \n",
    "LIMIT 200\n",
    "\"\"\"\n",
    "\n",
    "print(\"Results\")\n",
    "run_query(queryString)"
   ]
  },
  {
   "cell_type": "markdown",
   "id": "0279a90a-07be-4f86-a94c-8b6f3ad52945",
   "metadata": {
    "tags": []
   },
   "source": [
    "## Task 3\n",
    "When was the first president of each country born? How many presidents each country had?"
   ]
  },
  {
   "cell_type": "markdown",
   "id": "115bb483-bff6-46e3-8b9d-44a6a55403c4",
   "metadata": {},
   "source": [
    "From one of the first query about the relations of the subproperty of the president of republic I found the \"start time\" property, which has code `wdt:P580` and also age of candidacy (`wdt:P2998`)"
   ]
  },
  {
   "cell_type": "code",
   "execution_count": 7,
   "id": "0a182bce-110c-43da-9060-33a7436582b8",
   "metadata": {},
   "outputs": [
    {
     "name": "stdout",
     "output_type": "stream",
     "text": [
      "Results\n",
      "[('pr', 'http://www.wikidata.org/prop/direct/P106'), ('prop', 'occupation')]\n",
      "[('pr', 'http://www.wikidata.org/prop/direct/P1889'), ('prop', 'different from')]\n",
      "[('pr', 'http://www.wikidata.org/prop/direct/P39'), ('prop', 'position held')]\n"
     ]
    },
    {
     "data": {
      "text/plain": [
       "3"
      ]
     },
     "execution_count": 7,
     "metadata": {},
     "output_type": "execute_result"
    }
   ],
   "source": [
    "queryString = \"\"\"\n",
    "SELECT DISTINCT ?pr ?prop\n",
    "WHERE { \n",
    "\n",
    "?p wdt:P279+ wd:Q248577  . \n",
    "?a wdt:P39 ?p;\n",
    "    ?pr ?p.\n",
    "?pr sc:name ?prop .\n",
    "\n",
    "} \n",
    "LIMIT 200\n",
    "\"\"\"\n",
    "\n",
    "print(\"Results\")\n",
    "run_query(queryString)"
   ]
  },
  {
   "cell_type": "code",
   "execution_count": 8,
   "id": "f7c2a5b8-021e-4732-b024-2502d4deadc0",
   "metadata": {},
   "outputs": [
    {
     "name": "stdout",
     "output_type": "stream",
     "text": [
      "Results\n",
      "[('pr', 'http://www.wikidata.org/prop/direct/P1754'), ('prop', 'category related to list')]\n",
      "[('pr', 'http://www.wikidata.org/prop/direct/P2354'), ('prop', 'has list')]\n",
      "[('pr', 'http://www.wikidata.org/prop/direct/P360'), ('prop', 'is a list of')]\n",
      "[('pr', 'http://www.wikidata.org/prop/direct/P5008'), ('prop', 'on focus list of Wikimedia project')]\n"
     ]
    },
    {
     "data": {
      "text/plain": [
       "4"
      ]
     },
     "execution_count": 8,
     "metadata": {},
     "output_type": "execute_result"
    }
   ],
   "source": [
    "#look for some list\n",
    "queryString = \"\"\"\n",
    "SELECT DISTINCT ?pr ?prop\n",
    "WHERE { \n",
    "\n",
    "?p wdt:P279+ wd:Q248577  .\n",
    "?p ?pr ?x.\n",
    "?pr sc:name?prop .\n",
    "filter(REGEX(?prop,'.*list.*'))\n",
    "} \n",
    "LIMIT 200\n",
    "\"\"\"\n",
    "\n",
    "print(\"Results\")\n",
    "run_query(queryString)"
   ]
  },
  {
   "cell_type": "markdown",
   "id": "7abb42c1-3ca3-469b-aa07-a6b864d311b7",
   "metadata": {},
   "source": [
    "With `wdt:P2354` I have the list of the president for each different country (maybe)"
   ]
  },
  {
   "cell_type": "code",
   "execution_count": 9,
   "id": "d857952c-b39c-414c-847d-a366cbfc69bb",
   "metadata": {},
   "outputs": [
    {
     "name": "stdout",
     "output_type": "stream",
     "text": [
      "Results\n",
      "[('pr', 'http://www.wikidata.org/entity/Q1220'), ('prop', 'Giorgio Napolitano')]\n",
      "[('pr', 'http://www.wikidata.org/entity/Q1224'), ('prop', 'Carlo Azeglio Ciampi')]\n",
      "[('pr', 'http://www.wikidata.org/entity/Q1228'), ('prop', 'Oscar Luigi Scalfaro')]\n",
      "[('pr', 'http://www.wikidata.org/entity/Q1241'), ('prop', 'Giovanni Gronchi')]\n",
      "[('pr', 'http://www.wikidata.org/entity/Q1230'), ('prop', 'Francesco Cossiga')]\n",
      "[('pr', 'http://www.wikidata.org/entity/Q1238'), ('prop', 'Giuseppe Saragat')]\n",
      "[('pr', 'http://www.wikidata.org/entity/Q1245'), ('prop', 'Enrico de Nicola')]\n",
      "[('pr', 'http://www.wikidata.org/entity/Q1233'), ('prop', 'Sandro Pertini')]\n",
      "[('pr', 'http://www.wikidata.org/entity/Q3956186'), ('prop', 'Sergio Mattarella')]\n",
      "[('pr', 'http://www.wikidata.org/entity/Q1242'), ('prop', 'Luigi Einaudi')]\n",
      "[('pr', 'http://www.wikidata.org/entity/Q1235'), ('prop', 'Giovanni Leone')]\n",
      "[('pr', 'http://www.wikidata.org/entity/Q1240'), ('prop', 'Antonio Segni')]\n"
     ]
    },
    {
     "data": {
      "text/plain": [
       "12"
      ]
     },
     "execution_count": 9,
     "metadata": {},
     "output_type": "execute_result"
    }
   ],
   "source": [
    "#look for the president of the republic of Italy\n",
    "queryString = \"\"\"\n",
    "SELECT DISTINCT ?pr ?prop\n",
    "WHERE { \n",
    "?pr wdt:P31 wd:Q5;\n",
    "    wdt:P39 wd:Q332711.\n",
    "?pr sc:name?prop .\n",
    "\n",
    "} \n",
    "LIMIT 50\n",
    "\"\"\"\n",
    "\n",
    "print(\"Results\")\n",
    "run_query(queryString)"
   ]
  },
  {
   "cell_type": "code",
   "execution_count": 10,
   "id": "3cf9273a-38dc-4b7d-8e57-be23b2f8127a",
   "metadata": {},
   "outputs": [
    {
     "name": "stdout",
     "output_type": "stream",
     "text": [
      "Results\n",
      "[('pr', 'http://www.wikidata.org/prop/direct/P1001'), ('prop', 'applies to jurisdiction')]\n",
      "[('pr', 'http://www.wikidata.org/prop/direct/P1424'), ('prop', \"topic's main template\")]\n",
      "[('pr', 'http://www.wikidata.org/prop/direct/P155'), ('prop', 'follows')]\n",
      "[('pr', 'http://www.wikidata.org/prop/direct/P158'), ('prop', 'seal image')]\n",
      "[('pr', 'http://www.wikidata.org/prop/direct/P17'), ('prop', 'country')]\n",
      "[('pr', 'http://www.wikidata.org/prop/direct/P1705'), ('prop', 'native label')]\n",
      "[('pr', 'http://www.wikidata.org/prop/direct/P1754'), ('prop', 'category related to list')]\n",
      "[('pr', 'http://www.wikidata.org/prop/direct/P18'), ('prop', 'image')]\n",
      "[('pr', 'http://www.wikidata.org/prop/direct/P1814'), ('prop', 'name in kana')]\n",
      "[('pr', 'http://www.wikidata.org/prop/direct/P1889'), ('prop', 'different from')]\n",
      "[('pr', 'http://www.wikidata.org/prop/direct/P2671'), ('prop', 'Google Knowledge Graph ID')]\n",
      "[('pr', 'http://www.wikidata.org/prop/direct/P31'), ('prop', 'instance of')]\n",
      "[('pr', 'http://www.wikidata.org/prop/direct/P3417'), ('prop', 'Quora topic ID')]\n",
      "[('pr', 'http://www.wikidata.org/prop/direct/P360'), ('prop', 'is a list of')]\n",
      "[('pr', 'http://www.wikidata.org/prop/direct/P373'), ('prop', 'Commons category')]\n",
      "[('pr', 'http://www.wikidata.org/prop/direct/P3921'), ('prop', 'Wikidata SPARQL query equivalent')]\n",
      "[('pr', 'http://www.wikidata.org/prop/direct/P41'), ('prop', 'flag image')]\n",
      "[('pr', 'http://www.wikidata.org/prop/direct/P527'), ('prop', 'has part')]\n",
      "[('pr', 'http://www.wikidata.org/prop/direct/P571'), ('prop', 'inception')]\n",
      "[('pr', 'http://www.wikidata.org/prop/direct/P646'), ('prop', 'Freebase ID')]\n",
      "[('pr', 'http://www.wikidata.org/prop/direct/P856'), ('prop', 'official website')]\n",
      "[('pr', 'http://www.wikidata.org/prop/direct/P910'), ('prop', \"topic's main category\")]\n",
      "[('pr', 'http://www.wikidata.org/prop/direct/P935'), ('prop', 'Commons gallery')]\n",
      "[('pr', 'http://www.wikidata.org/prop/direct/P94'), ('prop', 'coat of arms image')]\n",
      "[('pr', 'http://www.wikidata.org/prop/direct/P1308'), ('prop', 'officeholder')]\n",
      "[('pr', 'http://www.wikidata.org/prop/direct/P263'), ('prop', 'official residence')]\n"
     ]
    },
    {
     "data": {
      "text/plain": [
       "26"
      ]
     },
     "execution_count": 10,
     "metadata": {},
     "output_type": "execute_result"
    }
   ],
   "source": [
    "#look for the property of the list\n",
    "queryString = \"\"\"\n",
    "SELECT DISTINCT ?pr ?prop\n",
    "WHERE { \n",
    "?p wdt:P279* wd:Q248577  .\n",
    "?p wdt:P2354 ?x.\n",
    "?x ?pr ?y  .\n",
    "\n",
    "?pr sc:name?prop .\n",
    "\n",
    "} \n",
    "LIMIT 50\n",
    "\"\"\"\n",
    "\n",
    "print(\"Results\")\n",
    "run_query(queryString)"
   ]
  },
  {
   "cell_type": "code",
   "execution_count": 12,
   "id": "503c6a24-6999-4406-99bc-d8b21b38ed14",
   "metadata": {},
   "outputs": [
    {
     "name": "stdout",
     "output_type": "stream",
     "text": [
      "Results\n",
      "[('pr', 'http://www.wikidata.org/prop/direct/P1038'), ('prop', 'relative')]\n",
      "[('pr', 'http://www.wikidata.org/prop/direct/P1889'), ('prop', 'different from')]\n",
      "[('pr', 'http://www.wikidata.org/prop/direct/P22'), ('prop', 'father')]\n",
      "[('pr', 'http://www.wikidata.org/prop/direct/P25'), ('prop', 'mother')]\n",
      "[('pr', 'http://www.wikidata.org/prop/direct/P26'), ('prop', 'spouse')]\n",
      "[('pr', 'http://www.wikidata.org/prop/direct/P3373'), ('prop', 'sibling')]\n",
      "[('pr', 'http://www.wikidata.org/prop/direct/P40'), ('prop', 'child')]\n",
      "[('pr', 'http://www.wikidata.org/prop/direct/P157'), ('prop', 'killed by')]\n",
      "[('pr', 'http://www.wikidata.org/prop/direct/P3342'), ('prop', 'significant person')]\n",
      "[('pr', 'http://www.wikidata.org/prop/direct/P737'), ('prop', 'influenced by')]\n",
      "[('pr', 'http://www.wikidata.org/prop/direct/P1327'), ('prop', 'partner in business or sport')]\n",
      "[('pr', 'http://www.wikidata.org/prop/direct/P451'), ('prop', 'unmarried partner')]\n",
      "[('pr', 'http://www.wikidata.org/prop/direct/P3448'), ('prop', 'stepparent')]\n",
      "[('pr', 'http://www.wikidata.org/prop/direct/P138'), ('prop', 'named after')]\n",
      "[('pr', 'http://www.wikidata.org/prop/direct/P184'), ('prop', 'doctoral advisor')]\n",
      "[('pr', 'http://www.wikidata.org/prop/direct/P1830'), ('prop', 'owner of')]\n",
      "[('pr', 'http://www.wikidata.org/prop/direct/P1066'), ('prop', 'student of')]\n",
      "[('pr', 'http://www.wikidata.org/prop/direct/P3205'), ('prop', 'patient of')]\n",
      "[('pr', 'http://www.wikidata.org/prop/direct/P802'), ('prop', 'student')]\n",
      "[('pr', 'http://www.wikidata.org/prop/direct/P185'), ('prop', 'doctoral student')]\n",
      "[('pr', 'http://www.wikidata.org/prop/direct/P108'), ('prop', 'employer')]\n",
      "[('pr', 'http://www.wikidata.org/prop/direct/P859'), ('prop', 'sponsor')]\n",
      "[('pr', 'http://www.wikidata.org/prop/direct/P1366'), ('prop', 'replaced by')]\n",
      "[('pr', 'http://www.wikidata.org/prop/direct/P1290'), ('prop', 'godparent')]\n",
      "[('pr', 'http://www.wikidata.org/prop/direct/P1365'), ('prop', 'replaces')]\n",
      "[('pr', 'http://www.wikidata.org/prop/direct/P1598'), ('prop', 'consecrator')]\n",
      "[('pr', 'http://www.wikidata.org/prop/direct/P172'), ('prop', 'ethnic group')]\n",
      "[('pr', 'http://www.wikidata.org/prop/direct/P53'), ('prop', 'family')]\n",
      "[('pr', 'http://www.wikidata.org/prop/direct/P156'), ('prop', 'followed by')]\n"
     ]
    },
    {
     "data": {
      "text/plain": [
       "29"
      ]
     },
     "execution_count": 12,
     "metadata": {},
     "output_type": "execute_result"
    }
   ],
   "source": [
    "#look for some other properties between people that held the same position\n",
    "queryString = \"\"\"\n",
    "SELECT DISTINCT ?pr ?prop\n",
    "WHERE { \n",
    "?p wdt:P279* wd:Q248577  .\n",
    "?a wdt:P39 ?p;\n",
    "    wdt:P31 wd:Q5.\n",
    "?b wdt:P31 wd:Q5.\n",
    "?a ?pr ?b.\n",
    "?pr sc:name?prop .\n",
    "\n",
    "} \n",
    "LIMIT 50\n",
    "\"\"\"\n",
    "\n",
    "print(\"Results\")\n",
    "run_query(queryString)"
   ]
  },
  {
   "cell_type": "code",
   "execution_count": 13,
   "id": "0b5a9bcf-3c99-43ff-aeff-5d5465d63921",
   "metadata": {},
   "outputs": [
    {
     "name": "stdout",
     "output_type": "stream",
     "text": [
      "Results\n",
      "[('pr', 'http://www.wikidata.org/prop/direct/P1038'), ('prop', 'relative')]\n",
      "[('pr', 'http://www.wikidata.org/prop/direct/P108'), ('prop', 'employer')]\n",
      "[('pr', 'http://www.wikidata.org/prop/direct/P1889'), ('prop', 'different from')]\n",
      "[('pr', 'http://www.wikidata.org/prop/direct/P22'), ('prop', 'father')]\n",
      "[('pr', 'http://www.wikidata.org/prop/direct/P25'), ('prop', 'mother')]\n",
      "[('pr', 'http://www.wikidata.org/prop/direct/P26'), ('prop', 'spouse')]\n",
      "[('pr', 'http://www.wikidata.org/prop/direct/P40'), ('prop', 'child')]\n",
      "[('pr', 'http://www.wikidata.org/prop/direct/P737'), ('prop', 'influenced by')]\n",
      "[('pr', 'http://www.wikidata.org/prop/direct/P3373'), ('prop', 'sibling')]\n",
      "[('pr', 'http://www.wikidata.org/prop/direct/P1365'), ('prop', 'replaces')]\n",
      "[('pr', 'http://www.wikidata.org/prop/direct/P157'), ('prop', 'killed by')]\n",
      "[('pr', 'http://www.wikidata.org/prop/direct/P1366'), ('prop', 'replaced by')]\n",
      "[('pr', 'http://www.wikidata.org/prop/direct/P156'), ('prop', 'followed by')]\n"
     ]
    },
    {
     "data": {
      "text/plain": [
       "13"
      ]
     },
     "execution_count": 13,
     "metadata": {},
     "output_type": "execute_result"
    }
   ],
   "source": [
    "#look for some other properties between people that held the same position\n",
    "queryString = \"\"\"\n",
    "SELECT DISTINCT ?pr ?prop\n",
    "WHERE { \n",
    "?p wdt:P279* wd:Q248577  .\n",
    "?a wdt:P39 ?p;\n",
    "    wdt:P31 wd:Q5.\n",
    "?b wdt:P39 ?p;\n",
    "    wdt:P31 wd:Q5.\n",
    "?a ?pr ?b.\n",
    "?pr sc:name?prop .\n",
    "filter(?a != ?b)\n",
    "} \n",
    "LIMIT 50\n",
    "\"\"\"\n",
    "\n",
    "print(\"Results\")\n",
    "run_query(queryString)"
   ]
  },
  {
   "cell_type": "code",
   "execution_count": 21,
   "id": "db82fb4e-42e0-4adb-8204-e8890aaca520",
   "metadata": {},
   "outputs": [
    {
     "name": "stdout",
     "output_type": "stream",
     "text": [
      "Results\n",
      "[('aP', 'Hafez al-Assad'), ('bP', 'Bashar al-Assad')]\n",
      "[('aP', 'Akwasi Afrifa'), ('bP', 'Nii Amaa Ollennu')]\n"
     ]
    },
    {
     "data": {
      "text/plain": [
       "2"
      ]
     },
     "execution_count": 21,
     "metadata": {},
     "output_type": "execute_result"
    }
   ],
   "source": [
    "queryString = \"\"\"\n",
    "SELECT DISTINCT ?aP ?bP\n",
    "WHERE { \n",
    "?p wdt:P279* wd:Q248577  .\n",
    "?a wdt:P39 ?p;\n",
    "    wdt:P31 wd:Q5.\n",
    "?b wdt:P39 ?p;\n",
    "    wdt:P31 wd:Q5.\n",
    "?a wdt:P156|wdt:P1366|wdt:1356 ?b.\n",
    "?a sc:name?aP .\n",
    "?b sc:name?bP .\n",
    "filter(?a != ?b)\n",
    "} \n",
    "LIMIT 50\n",
    "\"\"\"\n",
    "\n",
    "print(\"Results\")\n",
    "run_query(queryString)"
   ]
  },
  {
   "cell_type": "markdown",
   "id": "a0e45ffa-2339-4b48-974c-2b52e822c78c",
   "metadata": {},
   "source": [
    "None of these property tell me how two people are related..."
   ]
  },
  {
   "cell_type": "code",
   "execution_count": 14,
   "id": "46afe5a8-8882-46e7-939f-c905476244a6",
   "metadata": {},
   "outputs": [
    {
     "name": "stdout",
     "output_type": "stream",
     "text": [
      "Results\n",
      "[('o', 'http://www.wikidata.org/entity/Q19689'), ('obj', 'Tirana')]\n",
      "[('o', 'http://www.wikidata.org/entity/Q35525'), ('obj', 'White House')]\n",
      "[('o', 'http://www.wikidata.org/entity/Q40362'), ('obj', 'Sahrawi Arab Democratic Republic')]\n",
      "[('o', 'http://www.wikidata.org/entity/Q907112'), ('obj', 'Transnistria')]\n",
      "[('o', 'http://www.wikidata.org/entity/Q2363110'), ('obj', 'Deputy President of South Africa')]\n",
      "[('o', 'http://www.wikidata.org/entity/Q1641162'), ('obj', 'Vice President of India')]\n",
      "[('o', 'http://www.wikidata.org/entity/Q57416'), ('obj', 'Joseph Kabila')]\n",
      "[('o', 'http://www.wikidata.org/entity/Q2723485'), ('obj', 'Vice President of the Philippines')]\n",
      "[('o', 'http://www.wikidata.org/entity/Q677555'), ('obj', 'Rashtrapati Bhavan')]\n",
      "[('o', 'http://www.wikidata.org/entity/Q707830'), ('obj', 'Vice President of the Republic of China')]\n",
      "[('o', 'http://www.wikidata.org/entity/Q878151'), ('obj', 'President of El Salvador')]\n",
      "[('o', 'http://www.wikidata.org/entity/Q223079'), ('obj', 'Quirinal Palace')]\n",
      "[('o', 'http://www.wikidata.org/entity/Q4117119'), ('obj', 'Vice President of Iraq')]\n",
      "[('o', 'http://www.wikidata.org/entity/Q1067610'), ('obj', 'Excellency')]\n",
      "[('o', 'http://www.wikidata.org/entity/Q1019'), ('obj', 'Madagascar')]\n",
      "[('o', 'http://www.wikidata.org/entity/Q1027'), ('obj', 'Mauritius')]\n",
      "[('o', 'http://www.wikidata.org/entity/Q1036'), ('obj', 'Uganda')]\n",
      "[('o', 'http://www.wikidata.org/entity/Q117'), ('obj', 'Ghana')]\n",
      "[('o', 'http://www.wikidata.org/entity/Q1183'), ('obj', 'Puerto Rico')]\n",
      "[('o', 'http://www.wikidata.org/entity/Q7033006'), ('obj', 'Nigerian Presidential Complex')]\n",
      "[('o', 'http://www.wikidata.org/entity/Q1039'), ('obj', 'São Tomé and Príncipe')]\n",
      "[('o', 'http://www.wikidata.org/entity/Q1005'), ('obj', 'The Gambia')]\n",
      "[('o', 'http://www.wikidata.org/entity/Q1006'), ('obj', 'Guinea')]\n",
      "[('o', 'http://www.wikidata.org/entity/Q1030'), ('obj', 'Namibia')]\n",
      "[('o', 'http://www.wikidata.org/entity/Q1029'), ('obj', 'Mozambique')]\n",
      "[('o', 'http://www.wikidata.org/entity/Q1033'), ('obj', 'Nigeria')]\n",
      "[('o', 'http://www.wikidata.org/entity/Q1042'), ('obj', 'Seychelles')]\n",
      "[('o', 'http://www.wikidata.org/entity/Q1045'), ('obj', 'Somalia')]\n",
      "[('o', 'http://www.wikidata.org/entity/Q115'), ('obj', 'Ethiopia')]\n",
      "[('o', 'http://www.wikidata.org/entity/Q1246'), ('obj', 'Kosovo')]\n",
      "[('o', 'http://www.wikidata.org/entity/Q13426199'), ('obj', 'Republic of China 1912–1949')]\n",
      "[('o', 'http://www.wikidata.org/entity/Q148'), ('obj', \"People's Republic of China\")]\n",
      "[('o', 'http://www.wikidata.org/entity/Q155'), ('obj', 'Brazil')]\n",
      "[('o', 'http://www.wikidata.org/entity/Q11696'), ('obj', 'President of the United States')]\n",
      "[('o', 'http://www.wikidata.org/entity/Q10353660'), ('obj', 'President of the Republic of the Congo')]\n",
      "[('o', 'http://www.wikidata.org/entity/Q11699'), ('obj', 'Vice President of the United States')]\n",
      "[('o', 'http://www.wikidata.org/entity/Q26353'), ('obj', 'Vice President of Paraguay')]\n",
      "[('o', 'http://www.wikidata.org/entity/Q19057636'), ('obj', 'Vice President of Tanzania')]\n",
      "[('o', 'http://www.wikidata.org/entity/Q17104133'), ('obj', 'Vice President of Colombia')]\n",
      "[('o', 'http://www.wikidata.org/entity/Q380782'), ('obj', 'commander-in-chief')]\n",
      "[('o', 'http://www.wikidata.org/entity/Q189'), ('obj', 'Iceland')]\n",
      "[('o', 'http://www.wikidata.org/entity/Q224'), ('obj', 'Croatia')]\n",
      "[('o', 'http://www.wikidata.org/entity/Q23430'), ('obj', 'Ulaanbaatar')]\n",
      "[('o', 'http://www.wikidata.org/entity/Q197889'), ('obj', 'Zhongnanhai')]\n",
      "[('o', 'http://www.wikidata.org/entity/Q183'), ('obj', 'Germany')]\n",
      "[('o', 'http://www.wikidata.org/entity/Q191'), ('obj', 'Estonia')]\n",
      "[('o', 'http://www.wikidata.org/entity/Q211'), ('obj', 'Latvia')]\n",
      "[('o', 'http://www.wikidata.org/entity/Q215'), ('obj', 'Slovenia')]\n",
      "[('o', 'http://www.wikidata.org/entity/Q217'), ('obj', 'Moldova')]\n",
      "[('o', 'http://www.wikidata.org/entity/Q218'), ('obj', 'Romania')]\n"
     ]
    },
    {
     "data": {
      "text/plain": [
       "50"
      ]
     },
     "execution_count": 14,
     "metadata": {},
     "output_type": "execute_result"
    }
   ],
   "source": [
    "#look for some objects that relate people and the position President of the Republic\n",
    "queryString = \"\"\"\n",
    "SELECT DISTINCT ?o ?obj\n",
    "WHERE { \n",
    "?p wdt:P279* wd:Q248577  .\n",
    "?a wdt:P39 ?p;\n",
    "    wdt:P31 wd:Q5.\n",
    "?a ?prX ?o.\n",
    "?p ?prY ?o.\n",
    "\n",
    "?o sc:name?obj .\n",
    "\n",
    "} \n",
    "LIMIT 50\n",
    "\"\"\"\n",
    "\n",
    "print(\"Results\")\n",
    "run_query(queryString)"
   ]
  },
  {
   "cell_type": "markdown",
   "id": "ce93ee3d-3e48-4ef9-983f-c448b5eb34eb",
   "metadata": {},
   "source": [
    "Look for example to the president of US `wd:Q1169`"
   ]
  },
  {
   "cell_type": "code",
   "execution_count": 23,
   "id": "6f4fa35b-717b-4494-8a4e-72d9718fb3d4",
   "metadata": {},
   "outputs": [
    {
     "name": "stdout",
     "output_type": "stream",
     "text": [
      "Results\n",
      "[('prY', 'http://www.wikidata.org/prop/direct/P279'), ('obj', 'subclass of')]\n"
     ]
    },
    {
     "data": {
      "text/plain": [
       "1"
      ]
     },
     "execution_count": 23,
     "metadata": {},
     "output_type": "execute_result"
    }
   ],
   "source": [
    "queryString = \"\"\"\n",
    "SELECT DISTINCT ?prY ?obj\n",
    "WHERE { \n",
    "?p wdt:P279* wd:Q248577  .\n",
    "?a wdt:P39 ?p;\n",
    "    wdt:P31 wd:Q5.\n",
    "?a ?prX wd:Q11696.\n",
    "?p ?prY wd:Q11696.\n",
    "#?prX sc:name?obj .\n",
    "?prY sc:name?obj .\n",
    "\n",
    "} \n",
    "LIMIT 50\n",
    "\"\"\"\n",
    "\n",
    "print(\"Results\")\n",
    "run_query(queryString)"
   ]
  },
  {
   "cell_type": "markdown",
   "id": "752bef7d-98ea-4e90-a9fa-bf4151dfe207",
   "metadata": {},
   "source": [
    "So the President of the US has a subclass. What is this??"
   ]
  },
  {
   "cell_type": "code",
   "execution_count": 15,
   "id": "0b28bcee-556e-4814-afc3-c1312e17966c",
   "metadata": {},
   "outputs": [
    {
     "name": "stdout",
     "output_type": "stream",
     "text": [
      "Results\n",
      "[('p', 'http://www.wikidata.org/entity/Q1467287'), ('obj', 'President-elect of the United States')]\n"
     ]
    },
    {
     "data": {
      "text/plain": [
       "1"
      ]
     },
     "execution_count": 15,
     "metadata": {},
     "output_type": "execute_result"
    }
   ],
   "source": [
    "queryString = \"\"\"\n",
    "SELECT DISTINCT ?p ?obj\n",
    "WHERE { \n",
    "?p wdt:P279* wd:Q248577  .\n",
    "?a wdt:P39 ?p;\n",
    "    wdt:P31 wd:Q5.\n",
    "?a ?prX wd:Q11696.\n",
    "?p wdt:P279 wd:Q11696.\n",
    "?p sc:name?obj .\n",
    "\n",
    "} \n",
    "LIMIT 50\n",
    "\"\"\"\n",
    "\n",
    "print(\"Results\")\n",
    "run_query(queryString)"
   ]
  },
  {
   "cell_type": "markdown",
   "id": "5b7f798d-c260-400e-88a2-84851e664a1d",
   "metadata": {},
   "source": [
    "Hoping that this solve the question..."
   ]
  },
  {
   "cell_type": "code",
   "execution_count": 25,
   "id": "daacc70a-ed0b-44f1-b167-dff2c0c58d70",
   "metadata": {},
   "outputs": [
    {
     "name": "stdout",
     "output_type": "stream",
     "text": [
      "Results\n",
      "[('pr', 'http://www.wikidata.org/prop/direct/P1001'), ('prop', 'applies to jurisdiction')]\n",
      "[('pr', 'http://www.wikidata.org/prop/direct/P17'), ('prop', 'country')]\n",
      "[('pr', 'http://www.wikidata.org/prop/direct/P1705'), ('prop', 'native label')]\n",
      "[('pr', 'http://www.wikidata.org/prop/direct/P279'), ('prop', 'subclass of')]\n",
      "[('pr', 'http://www.wikidata.org/prop/direct/P31'), ('prop', 'instance of')]\n",
      "[('pr', 'http://www.wikidata.org/prop/direct/P373'), ('prop', 'Commons category')]\n",
      "[('pr', 'http://www.wikidata.org/prop/direct/P571'), ('prop', 'inception')]\n",
      "[('pr', 'http://www.wikidata.org/prop/direct/P646'), ('prop', 'Freebase ID')]\n",
      "[('pr', 'http://www.wikidata.org/prop/direct/P828'), ('prop', 'has cause')]\n",
      "[('pr', 'http://www.wikidata.org/prop/direct/P511'), ('prop', 'honorific prefix')]\n",
      "[('pr', 'http://www.wikidata.org/prop/direct/P1308'), ('prop', 'officeholder')]\n"
     ]
    },
    {
     "data": {
      "text/plain": [
       "11"
      ]
     },
     "execution_count": 25,
     "metadata": {},
     "output_type": "execute_result"
    }
   ],
   "source": [
    "queryString = \"\"\"\n",
    "SELECT DISTINCT ?pr ?prop\n",
    "WHERE { \n",
    "?p wdt:P279* wd:Q248577  .\n",
    "?a wdt:P39 ?p;\n",
    "    wdt:P31 wd:Q5.\n",
    "?a ?prX wd:Q11696.\n",
    "?p wdt:P279 wd:Q11696.\n",
    "#look at the property outcoming\n",
    "?p ?pr ?o.\n",
    "?pr sc:name?prop .\n",
    "\n",
    "} \n",
    "LIMIT 50\n",
    "\"\"\"\n",
    "\n",
    "print(\"Results\")\n",
    "run_query(queryString)"
   ]
  },
  {
   "cell_type": "code",
   "execution_count": 26,
   "id": "6dc665fa-51a8-421e-a729-d0400278d503",
   "metadata": {},
   "outputs": [
    {
     "name": "stdout",
     "output_type": "stream",
     "text": [
      "Results\n",
      "[('p', 'http://www.wikidata.org/entity/Q1467287'), ('prop', 'President-elect of the United States'), ('o', '1789-01-01T00:00:00Z')]\n"
     ]
    },
    {
     "data": {
      "text/plain": [
       "1"
      ]
     },
     "execution_count": 26,
     "metadata": {},
     "output_type": "execute_result"
    }
   ],
   "source": [
    "queryString = \"\"\"\n",
    "SELECT DISTINCT  ?p ?prop ?o\n",
    "WHERE { \n",
    "?p wdt:P279* wd:Q248577  .\n",
    "?a wdt:P39 ?p;\n",
    "    wdt:P31 wd:Q5.\n",
    "?a ?prX wd:Q11696.\n",
    "?p wdt:P279 wd:Q11696.\n",
    "#look at the property outcoming\n",
    "?p wdt:P571 ?o.\n",
    "?p sc:name?prop .\n",
    "\n",
    "} \n",
    "LIMIT 50\n",
    "\"\"\"\n",
    "\n",
    "print(\"Results\")\n",
    "run_query(queryString)"
   ]
  },
  {
   "cell_type": "code",
   "execution_count": 27,
   "id": "748ae3ea-6f52-4e6a-91ca-da1949933586",
   "metadata": {},
   "outputs": [
    {
     "name": "stdout",
     "output_type": "stream",
     "text": [
      "Results\n",
      "[('pr', 'http://www.wikidata.org/prop/direct/P39'), ('prop', 'position held')]\n"
     ]
    },
    {
     "data": {
      "text/plain": [
       "1"
      ]
     },
     "execution_count": 27,
     "metadata": {},
     "output_type": "execute_result"
    }
   ],
   "source": [
    "queryString = \"\"\"\n",
    "SELECT DISTINCT  ?pr ?prop\n",
    "WHERE { \n",
    "?p wdt:P279* wd:Q248577  .\n",
    "?a wdt:P39 ?p;\n",
    "    wdt:P31 wd:Q5.\n",
    "?a ?prX wd:Q11696.\n",
    "?p wdt:P279 wd:Q11696.\n",
    "#look at the property outcoming\n",
    "?o ?pr ?p.\n",
    "?pr sc:name?prop .\n",
    "\n",
    "} \n",
    "LIMIT 50\n",
    "\"\"\"\n",
    "\n",
    "print(\"Results\")\n",
    "run_query(queryString)"
   ]
  },
  {
   "cell_type": "code",
   "execution_count": 28,
   "id": "25a8d474-e778-4813-b84c-4486b6ece9d3",
   "metadata": {},
   "outputs": [
    {
     "name": "stdout",
     "output_type": "stream",
     "text": [
      "Results\n",
      "[('x', 'http://www.wikidata.org/entity/Q55831'), ('prop', 'Acting President of Poland')]\n",
      "[('x', 'http://www.wikidata.org/entity/Q68390254'), ('prop', 'Jefe Supremo del Estado de El Salvador')]\n",
      "[('x', 'http://www.wikidata.org/entity/Q4676854'), ('prop', 'Acting President of Pakistan')]\n",
      "[('x', 'http://www.wikidata.org/entity/Q1467287'), ('prop', 'President-elect of the United States')]\n",
      "[('x', 'http://www.wikidata.org/entity/Q2123628'), ('prop', 'Acting President of the United States')]\n"
     ]
    },
    {
     "data": {
      "text/plain": [
       "5"
      ]
     },
     "execution_count": 28,
     "metadata": {},
     "output_type": "execute_result"
    }
   ],
   "source": [
    "#subclass???\n",
    "\n",
    "queryString = \"\"\"\n",
    "SELECT DISTINCT ?x ?prop\n",
    "WHERE { \n",
    "?p wdt:P279 wd:Q248577 .\n",
    "?a wdt:P39 ?p.\n",
    "?x wdt:P279 ?p.\n",
    "?x sc:name?prop .\n",
    "\n",
    "} \n",
    "LIMIT 50\n",
    "\"\"\"\n",
    "\n",
    "print(\"Results\")\n",
    "run_query(queryString)"
   ]
  },
  {
   "cell_type": "code",
   "execution_count": 29,
   "id": "2d5613a2-cef7-4c70-b72c-da37c44ec066",
   "metadata": {},
   "outputs": [
    {
     "name": "stdout",
     "output_type": "stream",
     "text": [
      "Results\n",
      "[('pr', 'http://www.wikidata.org/prop/direct/P571'), ('prop', 'inception')]\n",
      "[('pr', 'http://www.wikidata.org/prop/direct/P646'), ('prop', 'Freebase ID')]\n",
      "[('pr', 'http://www.wikidata.org/prop/direct/P373'), ('prop', 'Commons category')]\n",
      "[('pr', 'http://www.wikidata.org/prop/direct/P935'), ('prop', 'Commons gallery')]\n",
      "[('pr', 'http://www.wikidata.org/prop/direct/P214'), ('prop', 'VIAF ID')]\n",
      "[('pr', 'http://www.wikidata.org/prop/direct/P2097'), ('prop', 'term length of office')]\n",
      "[('pr', 'http://www.wikidata.org/prop/direct/P7859'), ('prop', 'WorldCat Identities ID')]\n",
      "[('pr', 'http://www.wikidata.org/prop/direct/P2671'), ('prop', 'Google Knowledge Graph ID')]\n",
      "[('pr', 'http://www.wikidata.org/prop/direct/P2581'), ('prop', 'BabelNet ID')]\n",
      "[('pr', 'http://www.wikidata.org/prop/direct/P2397'), ('prop', 'YouTube channel ID')]\n",
      "[('pr', 'http://www.wikidata.org/prop/direct/P8687'), ('prop', 'social media followers')]\n",
      "[('pr', 'http://www.wikidata.org/prop/direct/P2003'), ('prop', 'Instagram username')]\n",
      "[('pr', 'http://www.wikidata.org/prop/direct/P3789'), ('prop', 'Telegram username')]\n",
      "[('pr', 'http://www.wikidata.org/prop/direct/P2002'), ('prop', 'Twitter username')]\n",
      "[('pr', 'http://www.wikidata.org/prop/direct/P2013'), ('prop', 'Facebook ID')]\n",
      "[('pr', 'http://www.wikidata.org/prop/direct/P213'), ('prop', 'ISNI')]\n",
      "[('pr', 'http://www.wikidata.org/prop/direct/P580'), ('prop', 'start time')]\n",
      "[('pr', 'http://www.wikidata.org/prop/direct/P3417'), ('prop', 'Quora topic ID')]\n",
      "[('pr', 'http://www.wikidata.org/prop/direct/P3618'), ('prop', 'base salary')]\n",
      "[('pr', 'http://www.wikidata.org/prop/direct/P576'), ('prop', 'dissolved, abolished or demolished date')]\n",
      "[('pr', 'http://www.wikidata.org/prop/direct/P1705'), ('prop', 'native label')]\n",
      "[('pr', 'http://www.wikidata.org/prop/direct/P269'), ('prop', 'IdRef ID')]\n",
      "[('pr', 'http://www.wikidata.org/prop/direct/P1417'), ('prop', 'Encyclopædia Britannica Online ID')]\n",
      "[('pr', 'http://www.wikidata.org/prop/direct/P4081'), ('prop', 'BHL creator ID')]\n",
      "[('pr', 'http://www.wikidata.org/prop/direct/P2390'), ('prop', 'Ballotpedia ID')]\n",
      "[('pr', 'http://www.wikidata.org/prop/direct/P7818'), ('prop', 'French Vikidia ID')]\n",
      "[('pr', 'http://www.wikidata.org/prop/direct/P227'), ('prop', 'GND ID')]\n",
      "[('pr', 'http://www.wikidata.org/prop/direct/P8309'), ('prop', 'Yle topic ID')]\n",
      "[('pr', 'http://www.wikidata.org/prop/direct/P3393'), ('prop', 'LittleSis organization ID')]\n",
      "[('pr', 'http://www.wikidata.org/prop/direct/P691'), ('prop', 'NKCR AUT ID')]\n",
      "[('pr', 'http://www.wikidata.org/prop/direct/P244'), ('prop', 'Library of Congress authority ID')]\n",
      "[('pr', 'http://www.wikidata.org/prop/direct/P3221'), ('prop', 'New York Times topic ID')]\n",
      "[('pr', 'http://www.wikidata.org/prop/direct/P4527'), ('prop', 'UK Parliament thesaurus ID')]\n",
      "[('pr', 'http://www.wikidata.org/prop/direct/P1617'), ('prop', 'BBC Things ID')]\n",
      "[('pr', 'http://www.wikidata.org/prop/direct/P2998'), ('prop', 'age of candidacy')]\n",
      "[('pr', 'http://www.wikidata.org/prop/direct/P3553'), ('prop', 'Zhihu topic ID')]\n",
      "[('pr', 'http://www.wikidata.org/prop/direct/P1225'), ('prop', 'U.S. National Archives Identifier')]\n",
      "[('pr', 'http://www.wikidata.org/prop/direct/P7775'), ('prop', 'RationalWiki ID')]\n",
      "[('pr', 'http://www.wikidata.org/prop/direct/P8408'), ('prop', 'KBpedia ID')]\n",
      "[('pr', 'http://www.wikidata.org/prop/direct/P268'), ('prop', 'Bibliothèque nationale de France ID')]\n",
      "[('pr', 'http://www.wikidata.org/prop/direct/P6573'), ('prop', 'Klexikon article ID')]\n",
      "[('pr', 'http://www.wikidata.org/prop/direct/P1005'), ('prop', 'Portuguese National Library ID')]\n",
      "[('pr', 'http://www.wikidata.org/prop/direct/P3065'), ('prop', 'RERO ID')]\n",
      "[('pr', 'http://www.wikidata.org/prop/direct/P1448'), ('prop', 'official name')]\n",
      "[('pr', 'http://www.wikidata.org/prop/direct/P9545'), ('prop', 'Encyclopedia of China Online Database ID')]\n",
      "[('pr', 'http://www.wikidata.org/prop/direct/P2001'), ('prop', 'Revised Romanization')]\n",
      "[('pr', 'http://www.wikidata.org/prop/direct/P9629'), ('prop', 'Armeniapedia ID')]\n"
     ]
    },
    {
     "data": {
      "text/plain": [
       "47"
      ]
     },
     "execution_count": 29,
     "metadata": {},
     "output_type": "execute_result"
    }
   ],
   "source": [
    "queryString = \"\"\"\n",
    "SELECT DISTINCT ?pr ?prop\n",
    "WHERE { \n",
    "?p wdt:P279 wd:Q248577 .\n",
    "?a wdt:P39 ?p.\n",
    "?p ?pr ?o.\n",
    "?pr sc:name?prop .\n",
    "filter(isLiteral(?o)).\n",
    "\n",
    "} \n",
    "LIMIT 50\n",
    "\"\"\"\n",
    "\n",
    "print(\"Results\")\n",
    "run_query(queryString)"
   ]
  },
  {
   "cell_type": "code",
   "execution_count": 30,
   "id": "0127273f-565a-4216-8336-bc1b78bedabf",
   "metadata": {},
   "outputs": [
    {
     "name": "stdout",
     "output_type": "stream",
     "text": [
      "Results\n",
      "[('p', 'http://www.wikidata.org/entity/Q878222'), ('prop', 'President of the Republic of Lithuania'), ('o', '1922-01-01T00:00:00Z')]\n",
      "[('p', 'http://www.wikidata.org/entity/Q866680'), ('prop', 'President of Vietnam'), ('o', '1976-07-02T00:00:00Z')]\n",
      "[('p', 'http://www.wikidata.org/entity/Q5176750'), ('prop', 'President of Brazil'), ('o', '1889-11-15T00:00:00Z')]\n",
      "[('p', 'http://www.wikidata.org/entity/Q878217'), ('prop', 'President of Vanuatu'), ('o', '1980-07-30T00:00:00Z')]\n",
      "[('p', 'http://www.wikidata.org/entity/Q887124'), ('prop', 'President of Myanmar'), ('o', '1948-01-04T00:00:00Z')]\n"
     ]
    },
    {
     "data": {
      "text/plain": [
       "5"
      ]
     },
     "execution_count": 30,
     "metadata": {},
     "output_type": "execute_result"
    }
   ],
   "source": [
    "queryString = \"\"\"\n",
    "SELECT DISTINCT ?p ?prop ?o\n",
    "WHERE { \n",
    "?p wdt:P279 wd:Q248577 .\n",
    "?a wdt:P39 ?p.\n",
    "?p wdt:P580 ?o.\n",
    "\n",
    "?p sc:name?prop .\n",
    "} \n",
    "LIMIT 50\n",
    "\"\"\"\n",
    "\n",
    "print(\"Results\")\n",
    "run_query(queryString)"
   ]
  },
  {
   "cell_type": "code",
   "execution_count": 31,
   "id": "eadb0208-ce94-4ffe-936f-4fb736a3a7e1",
   "metadata": {},
   "outputs": [
    {
     "name": "stdout",
     "output_type": "stream",
     "text": [
      "Results\n",
      "[('pr', 'http://www.wikidata.org/entity/Q380141'), ('prop', 'occupational therapy')]\n",
      "[('pr', 'http://www.wikidata.org/entity/Q628764'), ('prop', 'occupational medicine')]\n",
      "[('pr', 'http://www.wikidata.org/entity/Q11773926'), ('prop', 'ecclesiastical occupation')]\n",
      "[('pr', 'http://www.wikidata.org/entity/Q21074597'), ('prop', 'occupational carcinogen')]\n",
      "[('pr', 'http://www.wikidata.org/entity/Q4220920'), ('prop', 'filmmaking occupation')]\n",
      "[('pr', 'http://www.wikidata.org/entity/Q66666236'), ('prop', 'Wikimedia list of persons by occupation')]\n",
      "[('pr', 'http://www.wikidata.org/entity/Q67184216'), ('prop', 'Wikimedia list of persons by gender (P21) and occupation (P106)')]\n",
      "[('pr', 'http://www.wikidata.org/entity/Q63188808'), ('prop', 'Catholic religious occupation')]\n",
      "[('pr', 'http://www.wikidata.org/entity/Q63187384'), ('prop', 'Jewish religious occupation')]\n",
      "[('pr', 'http://www.wikidata.org/entity/Q17072363'), ('prop', 'occupational exposure limit')]\n",
      "[('pr', 'http://www.wikidata.org/entity/Q12737077'), ('prop', 'occupation')]\n",
      "[('pr', 'http://www.wikidata.org/entity/Q108300140'), ('prop', 'occupation group according to ISCO')]\n",
      "[('pr', 'http://www.wikidata.org/entity/Q188686'), ('prop', 'military occupation')]\n",
      "[('pr', 'http://www.wikidata.org/entity/Q637816'), ('prop', 'occupational disease')]\n",
      "[('pr', 'http://www.wikidata.org/entity/Q63187345'), ('prop', 'religious occupation')]\n",
      "[('pr', 'http://www.wikidata.org/entity/Q63188683'), ('prop', 'Christian religious occupation')]\n",
      "[('pr', 'http://www.wikidata.org/entity/Q15839299'), ('prop', 'theatrical occupation')]\n",
      "[('pr', 'http://www.wikidata.org/entity/Q67187625'), ('prop', 'Wikimedia list of persons by nationality (P27) and occupation (P166)')]\n",
      "[('pr', 'http://www.wikidata.org/entity/Q819274'), ('prop', 'German occupation of Norway')]\n",
      "[('pr', 'http://www.wikidata.org/entity/Q829026'), ('prop', 'occupational surname')]\n",
      "[('pr', 'http://www.wikidata.org/entity/Q4114481'), ('prop', 'United States military occupation code')]\n",
      "[('pr', 'http://www.wikidata.org/entity/Q108377574'), ('prop', 'Islamic religious occupation')]\n",
      "[('pr', 'http://www.wikidata.org/entity/Q91188763'), ('prop', 'orthodox religious occupation')]\n",
      "[('pr', 'http://www.wikidata.org/entity/Q631193'), ('prop', 'occupational therapist')]\n",
      "[('pr', 'http://www.wikidata.org/entity/Q24043375'), ('prop', 'Wikidata property for occupations')]\n",
      "[('pr', 'http://www.wikidata.org/entity/Q629029'), ('prop', 'occupational health and safety')]\n",
      "[('pr', 'http://www.wikidata.org/entity/Q3433185'), ('prop', 'occupational hazard')]\n",
      "[('pr', 'http://www.wikidata.org/entity/Q61415250'), ('prop', 'older occupation')]\n",
      "[('pr', 'http://www.wikidata.org/entity/Q67202224'), ('prop', 'Wikimedia list of persons by gender, ethnicity, and occupation (P21, P172, P166)')]\n",
      "[('pr', 'http://www.wikidata.org/entity/Q89374120'), ('prop', 'register of persons by occupation or position')]\n",
      "[('pr', 'http://www.wikidata.org/entity/Q66763446'), ('prop', 'Wikimedia list of fictional characters by occupation')]\n",
      "[('pr', 'http://www.wikidata.org/entity/Q9050660'), ('prop', 'occupational health and safety regulations')]\n",
      "[('pr', 'http://www.wikidata.org/entity/Q528892'), ('prop', 'occupation')]\n",
      "[('pr', 'http://www.wikidata.org/entity/Q67200518'), ('prop', 'Wikimedia list of persons by ethnicity (P172) and occupation (P166)')]\n",
      "[('pr', 'http://www.wikidata.org/entity/Q69943958'), ('prop', 'occupational groups')]\n",
      "[('pr', 'http://www.wikidata.org/entity/Q75538491'), ('prop', 'fictional military occupation')]\n",
      "[('pr', 'http://www.wikidata.org/entity/Q1221060'), ('prop', 'service occupation')]\n",
      "[('pr', 'http://www.wikidata.org/entity/Q6852220'), ('prop', 'Military aviation occupations')]\n"
     ]
    },
    {
     "data": {
      "text/plain": [
       "38"
      ]
     },
     "execution_count": 31,
     "metadata": {},
     "output_type": "execute_result"
    }
   ],
   "source": [
    "queryString = \"\"\"\n",
    "SELECT DISTINCT ?pr ?prop\n",
    "WHERE { \n",
    "\n",
    "?x wdt:P31 ?pr.\n",
    "?pr sc:name?prop .\n",
    "filter(REGEX(?prop,\\\".*occupation.*\\\"))\n",
    "\n",
    "} \n",
    "LIMIT 200\n",
    "\"\"\"\n",
    "\n",
    "print(\"Results\")\n",
    "run_query(queryString)"
   ]
  },
  {
   "cell_type": "code",
   "execution_count": 16,
   "id": "c197e087-98e9-444d-911c-661a449cf51b",
   "metadata": {},
   "outputs": [
    {
     "name": "stdout",
     "output_type": "stream",
     "text": [
      "Results\n",
      "[('o', 'http://www.wikidata.org/entity/Q554259'), ('prop', 'José Miguel Gómez')]\n",
      "[('o', 'http://www.wikidata.org/entity/Q135547'), ('prop', 'Laurent-Désiré Kabila')]\n",
      "[('o', 'http://www.wikidata.org/entity/Q312539'), ('prop', 'Diosdado Macapagal')]\n",
      "[('o', 'http://www.wikidata.org/entity/Q55645704'), ('prop', 'Government of Ecuador')]\n",
      "[('o', 'http://www.wikidata.org/entity/Q11816'), ('prop', 'John Quincy Adams')]\n",
      "[('o', 'http://www.wikidata.org/entity/Q11896'), ('prop', 'Zachary Taylor')]\n",
      "[('o', 'http://www.wikidata.org/entity/Q1333'), ('prop', 'Francisco Antonio Pinto')]\n",
      "[('o', 'http://www.wikidata.org/entity/Q177182'), ('prop', 'Sixto Durán-Ballén')]\n",
      "[('o', 'http://www.wikidata.org/entity/Q878835'), ('prop', 'Miguel Mariano Gómez')]\n",
      "[('o', 'http://www.wikidata.org/entity/Q1480'), ('prop', 'Corazon Aquino')]\n",
      "[('o', 'http://www.wikidata.org/entity/Q1464'), ('prop', 'Benigno Aquino III')]\n",
      "[('o', 'http://www.wikidata.org/entity/Q57416'), ('prop', 'Joseph Kabila')]\n",
      "[('o', 'http://www.wikidata.org/entity/Q123665'), ('prop', 'Gloria Macapagal-Arroyo')]\n",
      "[('o', 'http://www.wikidata.org/entity/Q310775'), ('prop', 'Jean-Claude Duvalier')]\n",
      "[('o', 'http://www.wikidata.org/entity/Q187697'), ('prop', 'François Duvalier')]\n",
      "[('o', 'http://www.wikidata.org/entity/Q727099'), ('prop', 'Alfonso López Pumarejo')]\n",
      "[('o', 'http://www.wikidata.org/entity/Q356678'), ('prop', 'Alfonso López Michelsen')]\n",
      "[('o', 'http://www.wikidata.org/entity/Q679788'), ('prop', 'Manuel Pardo')]\n",
      "[('o', 'http://www.wikidata.org/entity/Q116718'), ('prop', 'Manuel Prado Ugarteche')]\n",
      "[('o', 'http://www.wikidata.org/entity/Q136632'), ('prop', 'José Pardo y Barreda')]\n",
      "[('o', 'http://www.wikidata.org/entity/Q529231'), ('prop', 'Mariano Ignacio Prado')]\n",
      "[('o', 'http://www.wikidata.org/entity/Q10353660'), ('prop', 'President of the Republic of the Congo')]\n",
      "[('o', 'http://www.wikidata.org/entity/Q40362'), ('prop', 'Sahrawi Arab Democratic Republic')]\n",
      "[('o', 'http://www.wikidata.org/entity/Q40649'), ('prop', 'Cristina Fernández de Kirchner')]\n",
      "[('o', 'http://www.wikidata.org/entity/Q886923'), ('prop', 'Rafael Ángel Calderón Guardia')]\n",
      "[('o', 'http://www.wikidata.org/entity/Q629991'), ('prop', 'Ricardo Jiménez Oreamuno')]\n",
      "[('o', 'http://www.wikidata.org/entity/Q16574'), ('prop', 'Chiang Kai-shek')]\n",
      "[('o', 'http://www.wikidata.org/entity/Q37677'), ('prop', 'Francisco Solano López')]\n",
      "[('o', 'http://www.wikidata.org/entity/Q8023'), ('prop', 'Nelson Mandela')]\n",
      "[('o', 'http://www.wikidata.org/entity/Q189'), ('prop', 'Iceland')]\n",
      "[('o', 'http://www.wikidata.org/entity/Q1019'), ('prop', 'Madagascar')]\n",
      "[('o', 'http://www.wikidata.org/entity/Q1027'), ('prop', 'Mauritius')]\n",
      "[('o', 'http://www.wikidata.org/entity/Q117'), ('prop', 'Ghana')]\n",
      "[('o', 'http://www.wikidata.org/entity/Q1036'), ('prop', 'Uganda')]\n",
      "[('o', 'http://www.wikidata.org/entity/Q224'), ('prop', 'Croatia')]\n",
      "[('o', 'http://www.wikidata.org/entity/Q1039'), ('prop', 'São Tomé and Príncipe')]\n",
      "[('o', 'http://www.wikidata.org/entity/Q1005'), ('prop', 'The Gambia')]\n",
      "[('o', 'http://www.wikidata.org/entity/Q1030'), ('prop', 'Namibia')]\n",
      "[('o', 'http://www.wikidata.org/entity/Q1029'), ('prop', 'Mozambique')]\n",
      "[('o', 'http://www.wikidata.org/entity/Q1033'), ('prop', 'Nigeria')]\n",
      "[('o', 'http://www.wikidata.org/entity/Q1042'), ('prop', 'Seychelles')]\n",
      "[('o', 'http://www.wikidata.org/entity/Q115'), ('prop', 'Ethiopia')]\n",
      "[('o', 'http://www.wikidata.org/entity/Q1045'), ('prop', 'Somalia')]\n",
      "[('o', 'http://www.wikidata.org/entity/Q148'), ('prop', \"People's Republic of China\")]\n",
      "[('o', 'http://www.wikidata.org/entity/Q1246'), ('prop', 'Kosovo')]\n",
      "[('o', 'http://www.wikidata.org/entity/Q155'), ('prop', 'Brazil')]\n",
      "[('o', 'http://www.wikidata.org/entity/Q183'), ('prop', 'Germany')]\n",
      "[('o', 'http://www.wikidata.org/entity/Q191'), ('prop', 'Estonia')]\n",
      "[('o', 'http://www.wikidata.org/entity/Q211'), ('prop', 'Latvia')]\n",
      "[('o', 'http://www.wikidata.org/entity/Q215'), ('prop', 'Slovenia')]\n",
      "[('o', 'http://www.wikidata.org/entity/Q217'), ('prop', 'Moldova')]\n",
      "[('o', 'http://www.wikidata.org/entity/Q218'), ('prop', 'Romania')]\n",
      "[('o', 'http://www.wikidata.org/entity/Q219'), ('prop', 'Bulgaria')]\n",
      "[('o', 'http://www.wikidata.org/entity/Q222'), ('prop', 'Albania')]\n",
      "[('o', 'http://www.wikidata.org/entity/Q227'), ('prop', 'Azerbaijan')]\n",
      "[('o', 'http://www.wikidata.org/entity/Q1467287'), ('prop', 'President-elect of the United States')]\n",
      "[('o', 'http://www.wikidata.org/entity/Q207'), ('prop', 'George W. Bush')]\n",
      "[('o', 'http://www.wikidata.org/entity/Q30'), ('prop', 'United States of America')]\n",
      "[('o', 'http://www.wikidata.org/entity/Q334'), ('prop', 'Singapore')]\n",
      "[('o', 'http://www.wikidata.org/entity/Q230'), ('prop', 'Georgia')]\n",
      "[('o', 'http://www.wikidata.org/entity/Q23505'), ('prop', 'George H. W. Bush')]\n",
      "[('o', 'http://www.wikidata.org/entity/Q232'), ('prop', 'Kazakhstan')]\n",
      "[('o', 'http://www.wikidata.org/entity/Q241'), ('prop', 'Cuba')]\n",
      "[('o', 'http://www.wikidata.org/entity/Q252'), ('prop', 'Indonesia')]\n",
      "[('o', 'http://www.wikidata.org/entity/Q258'), ('prop', 'South Africa')]\n",
      "[('o', 'http://www.wikidata.org/entity/Q265'), ('prop', 'Uzbekistan')]\n",
      "[('o', 'http://www.wikidata.org/entity/Q28'), ('prop', 'Hungary')]\n",
      "[('o', 'http://www.wikidata.org/entity/Q298'), ('prop', 'Chile')]\n",
      "[('o', 'http://www.wikidata.org/entity/Q36'), ('prop', 'Poland')]\n",
      "[('o', 'http://www.wikidata.org/entity/Q37'), ('prop', 'Lithuania')]\n",
      "[('o', 'http://www.wikidata.org/entity/Q38'), ('prop', 'Italy')]\n",
      "[('o', 'http://www.wikidata.org/entity/Q399'), ('prop', 'Armenia')]\n",
      "[('o', 'http://www.wikidata.org/entity/Q40'), ('prop', 'Austria')]\n",
      "[('o', 'http://www.wikidata.org/entity/Q403'), ('prop', 'Serbia')]\n",
      "[('o', 'http://www.wikidata.org/entity/Q41'), ('prop', 'Greece')]\n",
      "[('o', 'http://www.wikidata.org/entity/Q414'), ('prop', 'Argentina')]\n",
      "[('o', 'http://www.wikidata.org/entity/Q419'), ('prop', 'Peru')]\n",
      "[('o', 'http://www.wikidata.org/entity/Q45'), ('prop', 'Portugal')]\n",
      "[('o', 'http://www.wikidata.org/entity/Q668'), ('prop', 'India')]\n",
      "[('o', 'http://www.wikidata.org/entity/Q792'), ('prop', 'El Salvador')]\n",
      "[('o', 'http://www.wikidata.org/entity/Q796'), ('prop', 'Iraq')]\n",
      "[('o', 'http://www.wikidata.org/entity/Q783'), ('prop', 'Honduras')]\n",
      "[('o', 'http://www.wikidata.org/entity/Q711'), ('prop', 'Mongolia')]\n",
      "[('o', 'http://www.wikidata.org/entity/Q736'), ('prop', 'Ecuador')]\n",
      "[('o', 'http://www.wikidata.org/entity/Q709'), ('prop', 'Marshall Islands')]\n",
      "[('o', 'http://www.wikidata.org/entity/Q790'), ('prop', 'Haiti')]\n",
      "[('o', 'http://www.wikidata.org/entity/Q774'), ('prop', 'Guatemala')]\n",
      "[('o', 'http://www.wikidata.org/entity/Q784'), ('prop', 'Dominica')]\n",
      "[('o', 'http://www.wikidata.org/entity/Q858'), ('prop', 'Syria')]\n",
      "[('o', 'http://www.wikidata.org/entity/Q686'), ('prop', 'Vanuatu')]\n",
      "[('o', 'http://www.wikidata.org/entity/Q710'), ('prop', 'Kiribati')]\n",
      "[('o', 'http://www.wikidata.org/entity/Q717'), ('prop', 'Venezuela')]\n",
      "[('o', 'http://www.wikidata.org/entity/Q733'), ('prop', 'Paraguay')]\n",
      "[('o', 'http://www.wikidata.org/entity/Q734'), ('prop', 'Guyana')]\n",
      "[('o', 'http://www.wikidata.org/entity/Q739'), ('prop', 'Colombia')]\n",
      "[('o', 'http://www.wikidata.org/entity/Q754'), ('prop', 'Trinidad and Tobago')]\n",
      "[('o', 'http://www.wikidata.org/entity/Q800'), ('prop', 'Costa Rica')]\n",
      "[('o', 'http://www.wikidata.org/entity/Q813'), ('prop', 'Kyrgyzstan')]\n",
      "[('o', 'http://www.wikidata.org/entity/Q822'), ('prop', 'Lebanon')]\n",
      "[('o', 'http://www.wikidata.org/entity/Q819'), ('prop', 'Laos')]\n",
      "[('o', 'http://www.wikidata.org/entity/Q836'), ('prop', 'Myanmar')]\n",
      "[('o', 'http://www.wikidata.org/entity/Q826'), ('prop', 'Maldives')]\n",
      "[('o', 'http://www.wikidata.org/entity/Q837'), ('prop', 'Nepal')]\n",
      "[('o', 'http://www.wikidata.org/entity/Q843'), ('prop', 'Pakistan')]\n",
      "[('o', 'http://www.wikidata.org/entity/Q854'), ('prop', 'Sri Lanka')]\n",
      "[('o', 'http://www.wikidata.org/entity/Q970'), ('prop', 'Comoros')]\n",
      "[('o', 'http://www.wikidata.org/entity/Q865'), ('prop', 'Taiwan')]\n",
      "[('o', 'http://www.wikidata.org/entity/Q874'), ('prop', 'Turkmenistan')]\n",
      "[('o', 'http://www.wikidata.org/entity/Q881'), ('prop', 'Vietnam')]\n",
      "[('o', 'http://www.wikidata.org/entity/Q884'), ('prop', 'South Korea')]\n",
      "[('o', 'http://www.wikidata.org/entity/Q916'), ('prop', 'Angola')]\n",
      "[('o', 'http://www.wikidata.org/entity/Q924'), ('prop', 'Tanzania')]\n",
      "[('o', 'http://www.wikidata.org/entity/Q928'), ('prop', 'Philippines')]\n",
      "[('o', 'http://www.wikidata.org/entity/Q929'), ('prop', 'Central African Republic')]\n",
      "[('o', 'http://www.wikidata.org/entity/Q953'), ('prop', 'Zambia')]\n",
      "[('o', 'http://www.wikidata.org/entity/Q954'), ('prop', 'Zimbabwe')]\n",
      "[('o', 'http://www.wikidata.org/entity/Q96'), ('prop', 'Mexico')]\n",
      "[('o', 'http://www.wikidata.org/entity/Q962'), ('prop', 'Benin')]\n",
      "[('o', 'http://www.wikidata.org/entity/Q965'), ('prop', 'Burkina Faso')]\n",
      "[('o', 'http://www.wikidata.org/entity/Q963'), ('prop', 'Botswana')]\n",
      "[('o', 'http://www.wikidata.org/entity/Q974'), ('prop', 'Democratic Republic of the Congo')]\n",
      "[('o', 'http://www.wikidata.org/entity/Q967'), ('prop', 'Burundi')]\n",
      "[('o', 'http://www.wikidata.org/entity/Q81931'), ('prop', 'Confederate States of America')]\n",
      "[('o', 'http://www.wikidata.org/entity/Q34754'), ('prop', 'Somaliland')]\n",
      "[('o', 'http://www.wikidata.org/entity/Q10926886'), ('prop', 'Chairman of the National Government of China')]\n",
      "[('o', 'http://www.wikidata.org/entity/Q68390254'), ('prop', 'Jefe Supremo del Estado de El Salvador')]\n",
      "[('o', 'http://www.wikidata.org/entity/Q11813'), ('prop', 'James Madison')]\n",
      "[('o', 'http://www.wikidata.org/entity/Q33866'), ('prop', 'Theodore Roosevelt')]\n",
      "[('o', 'http://www.wikidata.org/entity/Q8605'), ('prop', 'Simón Bolívar')]\n",
      "[('o', 'http://www.wikidata.org/entity/Q4335883'), ('prop', 'Star of President Order')]\n",
      "[('o', 'http://www.wikidata.org/entity/Q192512'), ('prop', 'Mengistu Haile Mariam')]\n",
      "[('o', 'http://www.wikidata.org/entity/Q842794'), ('prop', 'Socialist Republic of Romania')]\n",
      "[('o', 'http://www.wikidata.org/entity/Q11806'), ('prop', 'John Adams')]\n",
      "[('o', 'http://www.wikidata.org/entity/Q170899'), ('prop', 'Néstor Kirchner')]\n",
      "[('o', 'http://www.wikidata.org/entity/Q796897'), ('prop', 'Prime Minister of Italy')]\n",
      "[('o', 'http://www.wikidata.org/entity/Q14356'), ('prop', 'Park Chung-hee')]\n",
      "[('o', 'http://www.wikidata.org/entity/Q138048'), ('prop', 'Park Geun-hye')]\n",
      "[('o', 'http://www.wikidata.org/entity/Q57371'), ('prop', 'Ilham Aliyev')]\n",
      "[('o', 'http://www.wikidata.org/entity/Q157451'), ('prop', 'Heydar Aliyev')]\n",
      "[('o', 'http://www.wikidata.org/entity/Q3657214'), ('prop', 'Provisional Head of State of Italy')]\n",
      "[('o', 'http://www.wikidata.org/entity/Q190025'), ('prop', 'Federal Republic of Central America')]\n",
      "[('o', 'http://www.wikidata.org/entity/Q199821'), ('prop', 'Gran Colombia')]\n",
      "[('o', 'http://www.wikidata.org/entity/Q11256'), ('prop', 'Fidel Castro')]\n",
      "[('o', 'http://www.wikidata.org/entity/Q455709'), ('prop', 'Luis Sáenz Peña')]\n",
      "[('o', 'http://www.wikidata.org/entity/Q57338'), ('prop', 'Mahinda Rajapaksa')]\n",
      "[('o', 'http://www.wikidata.org/entity/Q93330'), ('prop', 'Juan Domingo Perón')]\n",
      "[('o', 'http://www.wikidata.org/entity/Q1316'), ('prop', 'Saddam Hussein')]\n",
      "[('o', 'http://www.wikidata.org/entity/Q878165'), ('prop', 'list of presidents of São Tomé and Príncipe')]\n",
      "[('o', 'http://www.wikidata.org/entity/Q11196'), ('prop', 'Republika Srpska')]\n",
      "[('o', 'http://www.wikidata.org/entity/Q1324'), ('prop', 'Aníbal Pinto')]\n",
      "[('o', 'http://www.wikidata.org/entity/Q887712'), ('prop', 'Rafael Ángel Calderón Fournier')]\n",
      "[('o', 'http://www.wikidata.org/entity/Q313598'), ('prop', 'Chiang Ching-kuo')]\n",
      "[('o', 'http://www.wikidata.org/entity/Q85876547'), ('prop', 'Presidency of the Argentine Nation')]\n",
      "[('o', 'http://www.wikidata.org/entity/Q888567'), ('prop', 'Jesús Jiménez Zamora')]\n",
      "[('o', 'http://www.wikidata.org/entity/Q219962'), ('prop', 'Seretse Khama')]\n",
      "[('o', 'http://www.wikidata.org/entity/Q44329'), ('prop', 'Bashar al-Assad')]\n",
      "[('o', 'http://www.wikidata.org/entity/Q57449'), ('prop', 'Ian Khama')]\n",
      "[('o', 'http://www.wikidata.org/entity/Q376057'), ('prop', 'José Gregorio Salazar')]\n",
      "[('o', 'http://www.wikidata.org/entity/Q1043212'), ('prop', 'Carlos Salazar Castro')]\n",
      "[('o', 'http://www.wikidata.org/entity/Q1298'), ('prop', 'Pedro Montt')]\n",
      "[('o', 'http://www.wikidata.org/entity/Q1328'), ('prop', 'Manuel Montt')]\n",
      "[('o', 'http://www.wikidata.org/entity/Q118725'), ('prop', 'Hafez al-Assad')]\n",
      "[('o', 'http://www.wikidata.org/entity/Q116736'), ('prop', 'Fernando Belaúnde Terry')]\n",
      "[('o', 'http://www.wikidata.org/entity/Q311126'), ('prop', 'José Figueres Ferrer')]\n",
      "[('o', 'http://www.wikidata.org/entity/Q76127'), ('prop', 'Sukarno')]\n",
      "[('o', 'http://www.wikidata.org/entity/Q326'), ('prop', 'Eduardo Frei Ruiz-Tagle')]\n",
      "[('o', 'http://www.wikidata.org/entity/Q2080751'), ('prop', 'José Gregorio Monagas')]\n",
      "[('o', 'http://www.wikidata.org/entity/Q84342674'), ('prop', 'President of Dahomey')]\n",
      "[('o', 'http://www.wikidata.org/entity/Q471324'), ('prop', 'León Febres-Cordero')]\n",
      "[('o', 'http://www.wikidata.org/entity/Q1319'), ('prop', 'Federico Errázuriz Echaurren')]\n",
      "[('o', 'http://www.wikidata.org/entity/Q299168'), ('prop', 'José Marquez')]\n",
      "[('o', 'http://www.wikidata.org/entity/Q46809'), ('prop', 'Raúl Castro Ruz')]\n",
      "[('o', 'http://www.wikidata.org/entity/Q1538702'), ('prop', 'Gotabaya Rajapaksa')]\n",
      "[('o', 'http://www.wikidata.org/entity/Q383015'), ('prop', 'Roque Sáenz Peña')]\n",
      "[('o', 'http://www.wikidata.org/entity/Q879030'), ('prop', 'Vicente Rocafuerte')]\n",
      "[('o', 'http://www.wikidata.org/entity/Q2321103'), ('prop', 'Pedro Diez Canseco')]\n",
      "[('o', 'http://www.wikidata.org/entity/Q95992459'), ('prop', 'President of Tanganyika')]\n",
      "[('o', 'http://www.wikidata.org/entity/Q76179'), ('prop', 'Megawati Sukarnoputri')]\n",
      "[('o', 'http://www.wikidata.org/entity/Q82593'), ('prop', 'José María Figueres Olsen')]\n",
      "[('o', 'http://www.wikidata.org/entity/Q733838'), ('prop', 'Cotroceni Palace')]\n",
      "[('o', 'http://www.wikidata.org/entity/Q475'), ('prop', 'Eduardo Frei Montalva')]\n",
      "[('o', 'http://www.wikidata.org/entity/Q7241200'), ('prop', 'President-Regent')]\n",
      "[('o', 'http://www.wikidata.org/entity/Q848'), ('prop', 'Arturo Alessandri')]\n",
      "[('o', 'http://www.wikidata.org/entity/Q576'), ('prop', 'Jorge Alessandri')]\n",
      "[('o', 'http://www.wikidata.org/entity/Q886443'), ('prop', 'Tirésias Simon Sam')]\n",
      "[('o', 'http://www.wikidata.org/entity/Q886436'), ('prop', 'Vilbrun Guillaume Sam')]\n",
      "[('o', 'http://www.wikidata.org/entity/Q887063'), ('prop', 'Galo Plaza')]\n",
      "[('o', 'http://www.wikidata.org/entity/Q2838427'), ('prop', 'Mariano Ospina Rodríguez')]\n",
      "[('o', 'http://www.wikidata.org/entity/Q2744236'), ('prop', 'Pedro Nel Ospina Vázquez')]\n",
      "[('o', 'http://www.wikidata.org/entity/Q315975'), ('prop', 'Andrés Pastrana Arango')]\n",
      "[('o', 'http://www.wikidata.org/entity/Q50989'), ('prop', 'Edward Akufo-Addo')]\n",
      "[('o', 'http://www.wikidata.org/entity/Q662470'), ('prop', 'Francisco Diez Canseco')]\n",
      "[('o', 'http://www.wikidata.org/entity/Q1763351'), ('prop', 'Ramón Castillaa')]\n",
      "[('o', 'http://www.wikidata.org/entity/Q338928'), ('prop', 'Nii Amaa Ollennu')]\n",
      "[('o', 'http://www.wikidata.org/entity/Q178575'), ('prop', 'Rafael López Gutiérrez')]\n",
      "[('o', 'http://www.wikidata.org/entity/Q1710555'), ('prop', 'Juan López')]\n",
      "[('o', 'http://www.wikidata.org/entity/Q7155734'), ('prop', 'Supreme Director of Chile')]\n",
      "[('o', 'http://www.wikidata.org/entity/Q728833'), ('prop', 'Misael Pastrana Borrero')]\n",
      "[('o', 'http://www.wikidata.org/entity/Q438898'), ('prop', 'Céleo Arias')]\n",
      "[('o', 'http://www.wikidata.org/entity/Q5953737'), ('prop', 'Juan Ángel Arias Boquín')]\n"
     ]
    },
    {
     "data": {
      "text/plain": [
       "200"
      ]
     },
     "execution_count": 16,
     "metadata": {},
     "output_type": "execute_result"
    }
   ],
   "source": [
    "queryString = \"\"\"\n",
    "SELECT DISTINCT ?o ?prop\n",
    "\n",
    "WHERE { \n",
    "\n",
    "?p wdt:P279+ wd:Q248577 . \n",
    "?a wdt:P39 ?p.\n",
    "?a ?x ?o.\n",
    "?o ?y ?p.\n",
    "?a sc:name ?people .\n",
    "?o sc:name ?prop .\n",
    "} \n",
    "LIMIT 200\n",
    "\"\"\"\n",
    "\n",
    "print(\"Results\")\n",
    "run_query(queryString)"
   ]
  },
  {
   "cell_type": "code",
   "execution_count": 33,
   "id": "6a0e32b8-ee12-498b-a427-f2b418e9fbcc",
   "metadata": {},
   "outputs": [
    {
     "name": "stdout",
     "output_type": "stream",
     "text": [
      "Results\n",
      "[('y', 'http://www.wikidata.org/prop/direct/P1313'), ('propY', 'office held by head of government')]\n",
      "[('y', 'http://www.wikidata.org/prop/direct/P39'), ('propY', 'position held')]\n",
      "[('y', 'http://www.wikidata.org/prop/direct/P1889'), ('propY', 'different from')]\n",
      "[('y', 'http://www.wikidata.org/prop/direct/P1906'), ('propY', 'office held by head of state')]\n",
      "[('y', 'http://www.wikidata.org/prop/direct/P279'), ('propY', 'subclass of')]\n",
      "[('y', 'http://www.wikidata.org/prop/direct/P1366'), ('propY', 'replaced by')]\n",
      "[('y', 'http://www.wikidata.org/prop/direct/P138'), ('propY', 'named after')]\n",
      "[('y', 'http://www.wikidata.org/prop/direct/P156'), ('propY', 'followed by')]\n",
      "[('y', 'http://www.wikidata.org/prop/direct/P35'), ('propY', 'head of state')]\n",
      "[('y', 'http://www.wikidata.org/prop/direct/P360'), ('propY', 'is a list of')]\n",
      "[('y', 'http://www.wikidata.org/prop/direct/P106'), ('propY', 'occupation')]\n",
      "[('y', 'http://www.wikidata.org/prop/direct/P26'), ('propY', 'spouse')]\n",
      "[('y', 'http://www.wikidata.org/prop/direct/P361'), ('propY', 'part of')]\n",
      "[('y', 'http://www.wikidata.org/prop/direct/P541'), ('propY', 'office contested')]\n",
      "[('y', 'http://www.wikidata.org/prop/direct/P1027'), ('propY', 'conferred by')]\n",
      "[('y', 'http://www.wikidata.org/prop/direct/P748'), ('propY', 'appointed by')]\n",
      "[('y', 'http://www.wikidata.org/prop/direct/P4791'), ('propY', 'commanded by')]\n"
     ]
    },
    {
     "data": {
      "text/plain": [
       "17"
      ]
     },
     "execution_count": 33,
     "metadata": {},
     "output_type": "execute_result"
    }
   ],
   "source": [
    "queryString = \"\"\"\n",
    "SELECT DISTINCT ?y ?propY\n",
    "\n",
    "WHERE { \n",
    "\n",
    "?p wdt:P279+ wd:Q248577 . \n",
    "?a wdt:P39 ?p.\n",
    "?a ?x ?o.\n",
    "?o ?y ?p.\n",
    "?y sc:name?propY .\n",
    "} \n",
    "LIMIT 200\n",
    "\"\"\"\n",
    "\n",
    "print(\"Results\")\n",
    "run_query(queryString)"
   ]
  },
  {
   "cell_type": "markdown",
   "id": "754107b7-cc69-4efd-a2f5-6c1cbdd07ca1",
   "metadata": {},
   "source": [
    "My ideas is finishing..\n",
    "Think better about reification. "
   ]
  },
  {
   "cell_type": "code",
   "execution_count": 34,
   "id": "0ffc8957-3f64-425d-81d0-fb02900daf4f",
   "metadata": {},
   "outputs": [
    {
     "name": "stdout",
     "output_type": "stream",
     "text": [
      "Results\n",
      "[('x', 'http://www.wikidata.org/prop/direct/P35'), ('propX', 'head of state'), ('y', 'http://www.wikidata.org/prop/direct/P1906'), ('propY', 'office held by head of state')]\n",
      "[('x', 'http://www.wikidata.org/prop/direct/P35'), ('propX', 'head of state'), ('y', 'http://www.wikidata.org/prop/direct/P1313'), ('propY', 'office held by head of government')]\n",
      "[('x', 'http://www.wikidata.org/prop/direct/P6'), ('propX', 'head of government'), ('y', 'http://www.wikidata.org/prop/direct/P1906'), ('propY', 'office held by head of state')]\n",
      "[('x', 'http://www.wikidata.org/prop/direct/P6'), ('propX', 'head of government'), ('y', 'http://www.wikidata.org/prop/direct/P1313'), ('propY', 'office held by head of government')]\n",
      "[('x', 'http://www.wikidata.org/prop/direct/P1308'), ('propX', 'officeholder'), ('y', 'http://www.wikidata.org/prop/direct/P360'), ('propY', 'is a list of')]\n",
      "[('x', 'http://www.wikidata.org/prop/direct/P22'), ('propX', 'father'), ('y', 'http://www.wikidata.org/prop/direct/P39'), ('propY', 'position held')]\n",
      "[('x', 'http://www.wikidata.org/prop/direct/P157'), ('propX', 'killed by'), ('y', 'http://www.wikidata.org/prop/direct/P39'), ('propY', 'position held')]\n",
      "[('x', 'http://www.wikidata.org/prop/direct/P40'), ('propX', 'child'), ('y', 'http://www.wikidata.org/prop/direct/P39'), ('propY', 'position held')]\n",
      "[('x', 'http://www.wikidata.org/prop/direct/P156'), ('propX', 'followed by'), ('y', 'http://www.wikidata.org/prop/direct/P39'), ('propY', 'position held')]\n",
      "[('x', 'http://www.wikidata.org/prop/direct/P726'), ('propX', 'candidate'), ('y', 'http://www.wikidata.org/prop/direct/P541'), ('propY', 'office contested')]\n",
      "[('x', 'http://www.wikidata.org/prop/direct/P991'), ('propX', 'successful candidate'), ('y', 'http://www.wikidata.org/prop/direct/P541'), ('propY', 'office contested')]\n",
      "[('x', 'http://www.wikidata.org/prop/direct/P1365'), ('propX', 'replaces'), ('y', 'http://www.wikidata.org/prop/direct/P39'), ('propY', 'position held')]\n",
      "[('x', 'http://www.wikidata.org/prop/direct/P1366'), ('propX', 'replaced by'), ('y', 'http://www.wikidata.org/prop/direct/P39'), ('propY', 'position held')]\n",
      "[('x', 'http://www.wikidata.org/prop/direct/P1308'), ('propX', 'officeholder'), ('y', 'http://www.wikidata.org/prop/direct/P748'), ('propY', 'appointed by')]\n",
      "[('x', 'http://www.wikidata.org/prop/direct/P1308'), ('propX', 'officeholder'), ('y', 'http://www.wikidata.org/prop/direct/P279'), ('propY', 'subclass of')]\n",
      "[('x', 'http://www.wikidata.org/prop/direct/P25'), ('propX', 'mother'), ('y', 'http://www.wikidata.org/prop/direct/P39'), ('propY', 'position held')]\n",
      "[('x', 'http://www.wikidata.org/prop/direct/P1038'), ('propX', 'relative'), ('y', 'http://www.wikidata.org/prop/direct/P39'), ('propY', 'position held')]\n",
      "[('x', 'http://www.wikidata.org/prop/direct/P108'), ('propX', 'employer'), ('y', 'http://www.wikidata.org/prop/direct/P39'), ('propY', 'position held')]\n",
      "[('x', 'http://www.wikidata.org/prop/direct/P3373'), ('propX', 'sibling'), ('y', 'http://www.wikidata.org/prop/direct/P39'), ('propY', 'position held')]\n",
      "[('x', 'http://www.wikidata.org/prop/direct/P737'), ('propX', 'influenced by'), ('y', 'http://www.wikidata.org/prop/direct/P39'), ('propY', 'position held')]\n",
      "[('x', 'http://www.wikidata.org/prop/direct/P710'), ('propX', 'participant'), ('y', 'http://www.wikidata.org/prop/direct/P541'), ('propY', 'office contested')]\n",
      "[('x', 'http://www.wikidata.org/prop/direct/P112'), ('propX', 'founded by'), ('y', 'http://www.wikidata.org/prop/direct/P1027'), ('propY', 'conferred by')]\n",
      "[('x', 'http://www.wikidata.org/prop/direct/P138'), ('propX', 'named after'), ('y', 'http://www.wikidata.org/prop/direct/P1027'), ('propY', 'conferred by')]\n",
      "[('x', 'http://www.wikidata.org/prop/direct/P180'), ('propX', 'depicts'), ('y', 'http://www.wikidata.org/prop/direct/P180'), ('propY', 'depicts')]\n",
      "[('x', 'http://www.wikidata.org/prop/direct/P921'), ('propX', 'main subject'), ('y', 'http://www.wikidata.org/prop/direct/P180'), ('propY', 'depicts')]\n",
      "[('x', 'http://www.wikidata.org/prop/direct/P1889'), ('propX', 'different from'), ('y', 'http://www.wikidata.org/prop/direct/P39'), ('propY', 'position held')]\n",
      "[('x', 'http://www.wikidata.org/prop/direct/P112'), ('propX', 'founded by'), ('y', 'http://www.wikidata.org/prop/direct/P527'), ('propY', 'has part')]\n",
      "[('x', 'http://www.wikidata.org/prop/direct/P971'), ('propX', 'category combines topics'), ('y', 'http://www.wikidata.org/prop/direct/P4224'), ('propY', 'category contains')]\n",
      "[('x', 'http://www.wikidata.org/prop/direct/P170'), ('propX', 'creator'), ('y', 'http://www.wikidata.org/prop/direct/P748'), ('propY', 'appointed by')]\n",
      "[('x', 'http://www.wikidata.org/prop/direct/P138'), ('propX', 'named after'), ('y', 'http://www.wikidata.org/prop/direct/P1906'), ('propY', 'office held by head of state')]\n",
      "[('x', 'http://www.wikidata.org/prop/direct/P138'), ('propX', 'named after'), ('y', 'http://www.wikidata.org/prop/direct/P1313'), ('propY', 'office held by head of government')]\n",
      "[('x', 'http://www.wikidata.org/prop/direct/P1308'), ('propX', 'officeholder'), ('y', 'http://www.wikidata.org/prop/direct/P156'), ('propY', 'followed by')]\n",
      "[('x', 'http://www.wikidata.org/prop/direct/P22'), ('propX', 'father'), ('y', 'http://www.wikidata.org/prop/direct/P106'), ('propY', 'occupation')]\n",
      "[('x', 'http://www.wikidata.org/prop/direct/P1346'), ('propX', 'winner'), ('y', 'http://www.wikidata.org/prop/direct/P541'), ('propY', 'office contested')]\n",
      "[('x', 'http://www.wikidata.org/prop/direct/P488'), ('propX', 'chairperson'), ('y', 'http://www.wikidata.org/prop/direct/P1027'), ('propY', 'conferred by')]\n",
      "[('x', 'http://www.wikidata.org/prop/direct/P4791'), ('propX', 'commanded by'), ('y', 'http://www.wikidata.org/prop/direct/P4791'), ('propY', 'commanded by')]\n",
      "[('x', 'http://www.wikidata.org/prop/direct/P6'), ('propX', 'head of government'), ('y', 'http://www.wikidata.org/prop/direct/P2388'), ('propY', 'office held by head of the organization')]\n",
      "[('x', 'http://www.wikidata.org/prop/direct/P1891'), ('propX', 'signatory'), ('y', 'http://www.wikidata.org/prop/direct/P467'), ('propY', 'legislated by')]\n",
      "[('x', 'http://www.wikidata.org/prop/direct/P26'), ('propX', 'spouse'), ('y', 'http://www.wikidata.org/prop/direct/P39'), ('propY', 'position held')]\n",
      "[('x', 'http://www.wikidata.org/prop/direct/P1346'), ('propX', 'winner'), ('y', 'http://www.wikidata.org/prop/direct/P1027'), ('propY', 'conferred by')]\n",
      "[('x', 'http://www.wikidata.org/prop/direct/P1037'), ('propX', 'director / manager'), ('y', 'http://www.wikidata.org/prop/direct/P2388'), ('propY', 'office held by head of the organization')]\n"
     ]
    },
    {
     "data": {
      "text/plain": [
       "41"
      ]
     },
     "execution_count": 34,
     "metadata": {},
     "output_type": "execute_result"
    }
   ],
   "source": [
    "queryString = \"\"\"\n",
    "SELECT DISTINCT ?x ?propX ?y ?propY\n",
    "\n",
    "WHERE { \n",
    "?p wdt:P279* wd:Q248577.\n",
    "?a wdt:P39 ?p.\n",
    "?z ?x ?a.\n",
    "?z ?y ?p.\n",
    "?x sc:name?propX .\n",
    "?y sc:name?propY .\n",
    "\n",
    "} \n",
    "LIMIT 50\n",
    "\"\"\"\n",
    "\n",
    "print(\"Results\")\n",
    "run_query(queryString)"
   ]
  },
  {
   "cell_type": "markdown",
   "id": "7d968c87-35cd-4014-99cf-3d531348514d",
   "metadata": {},
   "source": [
    "Look for candidate (`wdt:P726`) and successful candidate (`wdt:P991`)!"
   ]
  },
  {
   "cell_type": "code",
   "execution_count": 35,
   "id": "dc3c8ce0-efa0-4c17-b69d-8ca4bbdaa93b",
   "metadata": {},
   "outputs": [
    {
     "name": "stdout",
     "output_type": "stream",
     "text": [
      "Results\n",
      "[('z', 'http://www.wikidata.org/entity/Q174492'), ('obj', '1836 United States presidential election')]\n",
      "[('z', 'http://www.wikidata.org/entity/Q534192'), ('obj', '1832 United States presidential election')]\n",
      "[('z', 'http://www.wikidata.org/entity/Q14957122'), ('obj', '2008 United States presidential election in Washington (state)')]\n",
      "[('z', 'http://www.wikidata.org/entity/Q16197803'), ('obj', '1988 United States presidential election in Virginia')]\n",
      "[('z', 'http://www.wikidata.org/entity/Q17006707'), ('obj', '1984 United States presidential election in Georgia')]\n",
      "[('z', 'http://www.wikidata.org/entity/Q17006719'), ('obj', '1988 United States presidential election in Georgia')]\n",
      "[('z', 'http://www.wikidata.org/entity/Q17007083'), ('obj', '1984 United States presidential election in Delaware')]\n",
      "[('z', 'http://www.wikidata.org/entity/Q17007096'), ('obj', '1988 United States presidential election in Delaware')]\n",
      "[('z', 'http://www.wikidata.org/entity/Q17016038'), ('obj', '1904 United States presidential election in Nevada')]\n",
      "[('z', 'http://www.wikidata.org/entity/Q17016084'), ('obj', '1916 United States presidential election in Vermont')]\n",
      "[('z', 'http://www.wikidata.org/entity/Q17016122'), ('obj', '1920 United States presidential election in Vermont')]\n",
      "[('z', 'http://www.wikidata.org/entity/Q17016141'), ('obj', '1924 United States presidential election in Vermont')]\n",
      "[('z', 'http://www.wikidata.org/entity/Q17016543'), ('obj', '1968 United States presidential election in Vermont')]\n",
      "[('z', 'http://www.wikidata.org/entity/Q17016642'), ('obj', '1976 United States presidential election in Vermont')]\n",
      "[('z', 'http://www.wikidata.org/entity/Q17016817'), ('obj', '1984 United States presidential election in Utah')]\n",
      "[('z', 'http://www.wikidata.org/entity/Q17016835'), ('obj', '1984 United States presidential election in Virginia')]\n",
      "[('z', 'http://www.wikidata.org/entity/Q17016885'), ('obj', '1984 United States presidential election in Wisconsin')]\n",
      "[('z', 'http://www.wikidata.org/entity/Q17016904'), ('obj', '1984 United States presidential election in Wyoming')]\n",
      "[('z', 'http://www.wikidata.org/entity/Q17017013'), ('obj', '1988 United States presidential election in Wisconsin')]\n",
      "[('z', 'http://www.wikidata.org/entity/Q17017031'), ('obj', '1988 United States presidential election in Wyoming')]\n",
      "[('z', 'http://www.wikidata.org/entity/Q17067714'), ('obj', '2012 United States presidential election in Washington (state)')]\n",
      "[('z', 'http://www.wikidata.org/entity/Q18148371'), ('obj', '1980 United States presidential election in Virginia')]\n",
      "[('z', 'http://www.wikidata.org/entity/Q699744'), ('obj', '1984 United States presidential election')]\n",
      "[('z', 'http://www.wikidata.org/entity/Q7406544'), ('obj', '1999 Salvadoran presidential election')]\n",
      "[('z', 'http://www.wikidata.org/entity/Q2115115'), ('obj', '2011 Seychellois presidential election')]\n",
      "[('z', 'http://www.wikidata.org/entity/Q21674604'), ('obj', '2015 Seychellois presidential election')]\n",
      "[('z', 'http://www.wikidata.org/entity/Q17100301'), ('obj', '2012 United States presidential election in North Carolina')]\n",
      "[('z', 'http://www.wikidata.org/entity/Q23022170'), ('obj', '2016 Bulgarian presidential election')]\n",
      "[('z', 'http://www.wikidata.org/entity/Q698955'), ('obj', '1868 United States presidential election')]\n",
      "[('z', 'http://www.wikidata.org/entity/Q14083907'), ('obj', '1904 Peruvian presidential election')]\n",
      "[('z', 'http://www.wikidata.org/entity/Q2258876'), ('obj', '1993 Singaporean presidential election')]\n",
      "[('z', 'http://www.wikidata.org/entity/Q700833'), ('obj', '2008 Taiwan presidential election')]\n",
      "[('z', 'http://www.wikidata.org/entity/Q2539329'), ('obj', '1991 Zambian general election')]\n",
      "[('z', 'http://www.wikidata.org/entity/Q2539334'), ('obj', '1996 Zambian general election')]\n",
      "[('z', 'http://www.wikidata.org/entity/Q54849954'), ('obj', '2019 Salvadoran presidential election')]\n",
      "[('z', 'http://www.wikidata.org/entity/Q28942464'), ('obj', '1888 United States presidential election in Alabama')]\n",
      "[('z', 'http://www.wikidata.org/entity/Q1151833'), ('obj', '2009 Mongolian presidential election')]\n",
      "[('z', 'http://www.wikidata.org/entity/Q1285451'), ('obj', '2014 Lithuanian presidential election')]\n",
      "[('z', 'http://www.wikidata.org/entity/Q13415375'), ('obj', '2013 Mongolian presidential election')]\n",
      "[('z', 'http://www.wikidata.org/entity/Q1407972'), ('obj', '2001 Ugandan presidential election')]\n",
      "[('z', 'http://www.wikidata.org/entity/Q1605083'), ('obj', '2007 Slovenian presidential election')]\n",
      "[('z', 'http://www.wikidata.org/entity/Q173857'), ('obj', '2009 Lithuanian presidential election')]\n",
      "[('z', 'http://www.wikidata.org/entity/Q19116080'), ('obj', 'Guatemalan presidential election 2011')]\n",
      "[('z', 'http://www.wikidata.org/entity/Q2115122'), ('obj', '2007 Ethiopian presidential election')]\n",
      "[('z', 'http://www.wikidata.org/entity/Q2115185'), ('obj', 'Namibian presidential election, 2004')]\n",
      "[('z', 'http://www.wikidata.org/entity/Q22276537'), ('obj', '2016 Ugandan presidential election')]\n",
      "[('z', 'http://www.wikidata.org/entity/Q2985472'), ('obj', '2009 Salvadoran presidential election')]\n",
      "[('z', 'http://www.wikidata.org/entity/Q50376541'), ('obj', '2018 Malagasy presidential election')]\n",
      "[('z', 'http://www.wikidata.org/entity/Q590949'), ('obj', '2009 Romanian presidential election')]\n",
      "[('z', 'http://www.wikidata.org/entity/Q62645279'), ('obj', '2011 Democratic Republic of the Congo presidential election')]\n"
     ]
    },
    {
     "data": {
      "text/plain": [
       "50"
      ]
     },
     "execution_count": 35,
     "metadata": {},
     "output_type": "execute_result"
    }
   ],
   "source": [
    "queryString = \"\"\"\n",
    "SELECT DISTINCT ?z ?obj\n",
    "\n",
    "WHERE { \n",
    "?p wdt:P279* wd:Q248577.\n",
    "?a wdt:P39 ?p.\n",
    "?z wdt:P991 ?a.\n",
    "?z ?y ?p.\n",
    "?z sc:name?obj .\n",
    "} \n",
    "LIMIT 50\n",
    "\"\"\"\n",
    "\n",
    "print(\"Results\")\n",
    "run_query(queryString)"
   ]
  },
  {
   "cell_type": "code",
   "execution_count": 36,
   "id": "959ea72c-7b68-4671-8897-25d9bce0c2cb",
   "metadata": {},
   "outputs": [
    {
     "name": "stdout",
     "output_type": "stream",
     "text": [
      "Results\n",
      "[('z', 'http://www.wikidata.org/entity/Q3722096'), ('obj', '1948 Italian presidential election')]\n",
      "[('z', 'http://www.wikidata.org/entity/Q3722097'), ('obj', '1955 Italian presidential election')]\n",
      "[('z', 'http://www.wikidata.org/entity/Q3722098'), ('obj', '1962 Italian presidential election')]\n",
      "[('z', 'http://www.wikidata.org/entity/Q3722099'), ('obj', '1964 Italian presidential election')]\n",
      "[('z', 'http://www.wikidata.org/entity/Q3586603'), ('obj', '1971 Italian presidential election')]\n",
      "[('z', 'http://www.wikidata.org/entity/Q3586604'), ('obj', '1978 Italian presidential election')]\n",
      "[('z', 'http://www.wikidata.org/entity/Q3586605'), ('obj', '1985 Italian presidential election')]\n",
      "[('z', 'http://www.wikidata.org/entity/Q3586607'), ('obj', '1992 Italian presidential election')]\n",
      "[('z', 'http://www.wikidata.org/entity/Q3586608'), ('obj', '1999 Italian presidential election')]\n",
      "[('z', 'http://www.wikidata.org/entity/Q588041'), ('obj', '2006 Italian presidential election')]\n",
      "[('z', 'http://www.wikidata.org/entity/Q3586606'), ('obj', '2013 Italian presidential election')]\n",
      "[('z', 'http://www.wikidata.org/entity/Q18698695'), ('obj', '2015 Italian presidential election')]\n"
     ]
    },
    {
     "data": {
      "text/plain": [
       "12"
      ]
     },
     "execution_count": 36,
     "metadata": {},
     "output_type": "execute_result"
    }
   ],
   "source": [
    "queryString = \"\"\"\n",
    "SELECT DISTINCT ?z ?obj\n",
    "\n",
    "WHERE { \n",
    "?p wdt:P279* wd:Q248577.\n",
    "?a wdt:P39 ?p.\n",
    "?z wdt:P991 ?a.\n",
    "?z ?y ?p.\n",
    "?z sc:name?obj .\n",
    "filter(regex(?obj,\".*talian.*\"))\n",
    "} \n",
    "order by ?obj\n",
    "LIMIT 50\n",
    "\"\"\"\n",
    "\n",
    "print(\"Results\")\n",
    "run_query(queryString)"
   ]
  },
  {
   "cell_type": "markdown",
   "id": "4bed6616-c1c7-46b5-b7a0-ad990946d10f",
   "metadata": {},
   "source": [
    "I found a way to have all the president elected in time, now try to take the first president elected."
   ]
  },
  {
   "cell_type": "code",
   "execution_count": 17,
   "id": "2eab07ef-4364-48de-8e1a-bbfb81421c05",
   "metadata": {},
   "outputs": [
    {
     "name": "stdout",
     "output_type": "stream",
     "text": [
      "Results\n",
      "[('pr', 'http://www.wikidata.org/prop/direct/P9629'), ('prop', 'Armeniapedia ID')]\n",
      "[('pr', 'http://www.wikidata.org/prop/direct/P6200'), ('prop', 'BBC News topic ID')]\n",
      "[('pr', 'http://www.wikidata.org/prop/direct/P1617'), ('prop', 'BBC Things ID')]\n",
      "[('pr', 'http://www.wikidata.org/prop/direct/P2581'), ('prop', 'BabelNet ID')]\n",
      "[('pr', 'http://www.wikidata.org/prop/direct/P2390'), ('prop', 'Ballotpedia ID')]\n",
      "[('pr', 'http://www.wikidata.org/prop/direct/P268'), ('prop', 'Bibliothèque nationale de France ID')]\n",
      "[('pr', 'http://www.wikidata.org/prop/direct/P373'), ('prop', 'Commons category')]\n",
      "[('pr', 'http://www.wikidata.org/prop/direct/P935'), ('prop', 'Commons gallery')]\n",
      "[('pr', 'http://www.wikidata.org/prop/direct/P3509'), ('prop', 'Dagens Nyheter topic ID')]\n",
      "[('pr', 'http://www.wikidata.org/prop/direct/P1417'), ('prop', 'Encyclopædia Britannica Online ID')]\n",
      "[('pr', 'http://www.wikidata.org/prop/direct/P646'), ('prop', 'Freebase ID')]\n",
      "[('pr', 'http://www.wikidata.org/prop/direct/P7818'), ('prop', 'French Vikidia ID')]\n",
      "[('pr', 'http://www.wikidata.org/prop/direct/P4431'), ('prop', 'Google Doodle')]\n",
      "[('pr', 'http://www.wikidata.org/prop/direct/P2671'), ('prop', 'Google Knowledge Graph ID')]\n",
      "[('pr', 'http://www.wikidata.org/prop/direct/P5337'), ('prop', 'Google News topics ID')]\n",
      "[('pr', 'http://www.wikidata.org/prop/direct/P6760'), ('prop', 'Know Your Meme ID')]\n",
      "[('pr', 'http://www.wikidata.org/prop/direct/P244'), ('prop', 'Library of Congress authority ID')]\n",
      "[('pr', 'http://www.wikidata.org/prop/direct/P3221'), ('prop', 'New York Times topic ID')]\n",
      "[('pr', 'http://www.wikidata.org/prop/direct/P3417'), ('prop', 'Quora topic ID')]\n",
      "[('pr', 'http://www.wikidata.org/prop/direct/P7775'), ('prop', 'RationalWiki ID')]\n",
      "[('pr', 'http://www.wikidata.org/prop/direct/P4342'), ('prop', 'Store norske leksikon ID')]\n",
      "[('pr', 'http://www.wikidata.org/prop/direct/P8672'), ('prop', 'Twitter topic ID')]\n",
      "[('pr', 'http://www.wikidata.org/prop/direct/P1225'), ('prop', 'U.S. National Archives Identifier')]\n",
      "[('pr', 'http://www.wikidata.org/prop/direct/P4839'), ('prop', 'Wolfram Language entity code')]\n",
      "[('pr', 'http://www.wikidata.org/prop/direct/P8309'), ('prop', 'Yle topic ID')]\n",
      "[('pr', 'http://www.wikidata.org/prop/direct/P1001'), ('prop', 'applies to jurisdiction')]\n",
      "[('pr', 'http://www.wikidata.org/prop/direct/P1868'), ('prop', 'ballots cast')]\n",
      "[('pr', 'http://www.wikidata.org/prop/direct/P726'), ('prop', 'candidate')]\n",
      "[('pr', 'http://www.wikidata.org/prop/direct/P488'), ('prop', 'chairperson')]\n",
      "[('pr', 'http://www.wikidata.org/prop/direct/P1801'), ('prop', 'commemorative plaque image')]\n",
      "[('pr', 'http://www.wikidata.org/prop/direct/P17'), ('prop', 'country')]\n",
      "[('pr', 'http://www.wikidata.org/prop/direct/P1343'), ('prop', 'described by source')]\n",
      "[('pr', 'http://www.wikidata.org/prop/direct/P1889'), ('prop', 'different from')]\n",
      "[('pr', 'http://www.wikidata.org/prop/direct/P1846'), ('prop', 'distribution map')]\n",
      "[('pr', 'http://www.wikidata.org/prop/direct/P2319'), ('prop', 'elector')]\n",
      "[('pr', 'http://www.wikidata.org/prop/direct/P1831'), ('prop', 'electorate')]\n",
      "[('pr', 'http://www.wikidata.org/prop/direct/P1867'), ('prop', 'eligible voters')]\n",
      "[('pr', 'http://www.wikidata.org/prop/direct/P582'), ('prop', 'end time')]\n",
      "[('pr', 'http://www.wikidata.org/prop/direct/P156'), ('prop', 'followed by')]\n",
      "[('pr', 'http://www.wikidata.org/prop/direct/P155'), ('prop', 'follows')]\n",
      "[('pr', 'http://www.wikidata.org/prop/direct/P1542'), ('prop', 'has effect')]\n",
      "[('pr', 'http://www.wikidata.org/prop/direct/P527'), ('prop', 'has part')]\n",
      "[('pr', 'http://www.wikidata.org/prop/direct/P2572'), ('prop', 'hashtag')]\n",
      "[('pr', 'http://www.wikidata.org/prop/direct/P2184'), ('prop', 'history of topic')]\n",
      "[('pr', 'http://www.wikidata.org/prop/direct/P18'), ('prop', 'image')]\n",
      "[('pr', 'http://www.wikidata.org/prop/direct/P1536'), ('prop', 'immediate cause of')]\n",
      "[('pr', 'http://www.wikidata.org/prop/direct/P31'), ('prop', 'instance of')]\n",
      "[('pr', 'http://www.wikidata.org/prop/direct/P131'), ('prop', 'located in the administrative territorial entity')]\n",
      "[('pr', 'http://www.wikidata.org/prop/direct/P276'), ('prop', 'location')]\n",
      "[('pr', 'http://www.wikidata.org/prop/direct/P242'), ('prop', 'locator map image')]\n",
      "[('pr', 'http://www.wikidata.org/prop/direct/P5043'), ('prop', 'number of abstentions')]\n",
      "[('pr', 'http://www.wikidata.org/prop/direct/P5045'), ('prop', 'number of blank votes')]\n",
      "[('pr', 'http://www.wikidata.org/prop/direct/P5044'), ('prop', 'number of spoilt votes')]\n",
      "[('pr', 'http://www.wikidata.org/prop/direct/P541'), ('prop', 'office contested')]\n",
      "[('pr', 'http://www.wikidata.org/prop/direct/P1448'), ('prop', 'official name')]\n",
      "[('pr', 'http://www.wikidata.org/prop/direct/P856'), ('prop', 'official website')]\n",
      "[('pr', 'http://www.wikidata.org/prop/direct/P664'), ('prop', 'organizer')]\n",
      "[('pr', 'http://www.wikidata.org/prop/direct/P361'), ('prop', 'part of')]\n",
      "[('pr', 'http://www.wikidata.org/prop/direct/P710'), ('prop', 'participant')]\n",
      "[('pr', 'http://www.wikidata.org/prop/direct/P585'), ('prop', 'point in time')]\n",
      "[('pr', 'http://www.wikidata.org/prop/direct/P1365'), ('prop', 'replaces')]\n",
      "[('pr', 'http://www.wikidata.org/prop/direct/P1545'), ('prop', 'series ordinal')]\n",
      "[('pr', 'http://www.wikidata.org/prop/direct/P793'), ('prop', 'significant event')]\n",
      "[('pr', 'http://www.wikidata.org/prop/direct/P580'), ('prop', 'start time')]\n",
      "[('pr', 'http://www.wikidata.org/prop/direct/P279'), ('prop', 'subclass of')]\n",
      "[('pr', 'http://www.wikidata.org/prop/direct/P991'), ('prop', 'successful candidate')]\n",
      "[('pr', 'http://www.wikidata.org/prop/direct/P910'), ('prop', \"topic's main category\")]\n",
      "[('pr', 'http://www.wikidata.org/prop/direct/P1424'), ('prop', \"topic's main template\")]\n",
      "[('pr', 'http://www.wikidata.org/prop/direct/P1697'), ('prop', 'total valid votes')]\n",
      "[('pr', 'http://www.wikidata.org/prop/direct/P10'), ('prop', 'video')]\n",
      "[('pr', 'http://www.wikidata.org/prop/direct/P8196'), ('prop', 'voting system')]\n",
      "[('pr', 'http://www.wikidata.org/prop/direct/P1346'), ('prop', 'winner')]\n"
     ]
    },
    {
     "data": {
      "text/plain": [
       "72"
      ]
     },
     "execution_count": 17,
     "metadata": {},
     "output_type": "execute_result"
    }
   ],
   "source": [
    "#look for some properties\n",
    "queryString = \"\"\"\n",
    "SELECT DISTINCT ?pr ?prop\n",
    "\n",
    "WHERE { \n",
    "?p wdt:P279* wd:Q248577.\n",
    "?a wdt:P39 ?p.\n",
    "?z wdt:P991 ?a.\n",
    "?z ?y ?p.\n",
    "?z ?pr ?o.\n",
    "?pr sc:name?prop .\n",
    "\n",
    "}\n",
    "ORDER BY ?prop\n",
    "LIMIT 100\n",
    "\"\"\"\n",
    "\n",
    "print(\"Results\")\n",
    "run_query(queryString)"
   ]
  },
  {
   "cell_type": "code",
   "execution_count": 18,
   "id": "8808f125-c64a-4b68-b270-dfa06d4a1857",
   "metadata": {},
   "outputs": [
    {
     "name": "stdout",
     "output_type": "stream",
     "text": [
      "Results\n",
      "Empty\n"
     ]
    },
    {
     "data": {
      "text/plain": [
       "0"
      ]
     },
     "execution_count": 18,
     "metadata": {},
     "output_type": "execute_result"
    }
   ],
   "source": [
    "#filter by italian to focus on few result\n",
    "queryString = \"\"\"\n",
    "SELECT DISTINCT ?o\n",
    "\n",
    "WHERE { \n",
    "?p wdt:P279* wd:Q248577.\n",
    "?a wdt:P39 ?p.\n",
    "?z wdt:P991 ?a.\n",
    "?z ?y ?p.\n",
    "?z wdt:P1545 ?o.\n",
    "?z sc:name?obj .\n",
    "\n",
    "filter(regex(?obj,\".*talian.*\"))\n",
    "}\n",
    "ORDER BY ?prop\n",
    "LIMIT 100\n",
    "\"\"\"\n",
    "\n",
    "print(\"Results\")\n",
    "run_query(queryString)"
   ]
  },
  {
   "cell_type": "code",
   "execution_count": 19,
   "id": "ba0e96a0-ded5-4d76-9ddd-2b6c585213c8",
   "metadata": {},
   "outputs": [
    {
     "name": "stdout",
     "output_type": "stream",
     "text": [
      "Results\n",
      "[('obj', '2013 Italian presidential election'), ('o', '2013-04-18T00:00:00Z')]\n",
      "[('obj', '2006 Italian presidential election'), ('o', '2006-05-08T00:00:00Z')]\n",
      "[('obj', '1992 Italian presidential election'), ('o', '1992-05-13T00:00:00Z')]\n",
      "[('obj', '1948 Italian presidential election'), ('o', '1948-05-10T00:00:00Z')]\n",
      "[('obj', '1955 Italian presidential election'), ('o', '1955-04-28T00:00:00Z')]\n",
      "[('obj', '1962 Italian presidential election'), ('o', '1962-05-02T00:00:00Z')]\n",
      "[('obj', '2015 Italian presidential election'), ('o', '2015-01-29T00:00:00Z')]\n",
      "[('obj', '1971 Italian presidential election'), ('o', '1971-12-09T00:00:00Z')]\n",
      "[('obj', '1978 Italian presidential election'), ('o', '1978-06-29T00:00:00Z')]\n",
      "[('obj', '1964 Italian presidential election'), ('o', '1964-12-16T00:00:00Z')]\n"
     ]
    },
    {
     "data": {
      "text/plain": [
       "10"
      ]
     },
     "execution_count": 19,
     "metadata": {},
     "output_type": "execute_result"
    }
   ],
   "source": [
    "#filter by italian to focus on few result\n",
    "queryString = \"\"\"\n",
    "SELECT DISTINCT ?obj ?o\n",
    "\n",
    "WHERE { \n",
    "?p wdt:P279* wd:Q248577.\n",
    "?a wdt:P39 ?p.\n",
    "?z wdt:P991 ?a.\n",
    "?z ?y ?p.\n",
    "?z wdt:P580 ?o.\n",
    "?z sc:name?obj .\n",
    "\n",
    "filter(regex(?obj,\".*talian.*\"))\n",
    "}\n",
    "ORDER BY ?prop\n",
    "LIMIT 100\n",
    "\"\"\"\n",
    "\n",
    "print(\"Results\")\n",
    "run_query(queryString)"
   ]
  },
  {
   "cell_type": "code",
   "execution_count": 20,
   "id": "bf192b15-8a06-4357-842d-82671a69d287",
   "metadata": {},
   "outputs": [
    {
     "name": "stdout",
     "output_type": "stream",
     "text": [
      "Results\n",
      "[('country', 'Italy'), ('obj', '1948 Italian presidential election')]\n"
     ]
    },
    {
     "data": {
      "text/plain": [
       "1"
      ]
     },
     "execution_count": 20,
     "metadata": {},
     "output_type": "execute_result"
    }
   ],
   "source": [
    "#limit to 1 to take the first\n",
    "queryString = \"\"\"\n",
    "SELECT ?country ?obj\n",
    "\n",
    "WHERE { \n",
    "?p wdt:P279* wd:Q248577.\n",
    "?a wdt:P39 ?p.\n",
    "?z wdt:P991 ?a.\n",
    "?z ?pr ?p.\n",
    "?z wdt:P17 ?y.\n",
    "?z sc:name?obj .\n",
    "?y sc:name?country .\n",
    "\n",
    "filter(regex(?obj,\".*talian.*\"))\n",
    "}\n",
    "ORDER BY ?obj\n",
    "LIMIT 1\n",
    "\"\"\"\n",
    "\n",
    "print(\"Results\")\n",
    "run_query(queryString)"
   ]
  },
  {
   "cell_type": "code",
   "execution_count": 22,
   "id": "304b5033-1f4f-48d3-a149-35aa53273f40",
   "metadata": {},
   "outputs": [
    {
     "name": "stdout",
     "output_type": "stream",
     "text": [
      "Results\n",
      "[('y', 'http://www.wikidata.org/entity/Q106691645'), ('prop', 'Argentine general election')]\n",
      "[('y', 'http://www.wikidata.org/entity/Q15146717'), ('prop', 'Italian presidential election')]\n",
      "[('y', 'http://www.wikidata.org/entity/Q106690375'), ('prop', 'Zambian general election')]\n",
      "[('y', 'http://www.wikidata.org/entity/Q47516525'), ('prop', 'Cuban parliamentary election')]\n",
      "[('y', 'http://www.wikidata.org/entity/Q16361747'), ('prop', 'Latvian presidential election')]\n",
      "[('y', 'http://www.wikidata.org/entity/Q22696400'), ('prop', 'Pakistani general election')]\n",
      "[('y', 'http://www.wikidata.org/entity/Q22276119'), ('prop', 'Serbian general election')]\n",
      "[('y', 'http://www.wikidata.org/entity/Q24397514'), ('prop', 'United States House of Representatives election')]\n",
      "[('y', 'http://www.wikidata.org/entity/Q19801853'), ('prop', 'Republic of China Presidential and Vice Presidential election')]\n",
      "[('y', 'http://www.wikidata.org/entity/Q25343628'), ('prop', 'Costa Rican parliamentary election')]\n",
      "[('y', 'http://www.wikidata.org/entity/Q25448839'), ('prop', 'Honduran legislative election')]\n",
      "[('y', 'http://www.wikidata.org/entity/Q24097670'), ('prop', 'voting round')]\n",
      "[('y', 'http://www.wikidata.org/entity/Q1190554'), ('prop', 'occurrence')]\n",
      "[('y', 'http://www.wikidata.org/entity/Q858439'), ('prop', 'presidential election')]\n",
      "[('y', 'http://www.wikidata.org/entity/Q1499496'), ('prop', 'German presidential election')]\n",
      "[('y', 'http://www.wikidata.org/entity/Q106691665'), ('prop', 'Argentine presidential election')]\n",
      "[('y', 'http://www.wikidata.org/entity/Q17317625'), ('prop', 'South African general election')]\n",
      "[('y', 'http://www.wikidata.org/entity/Q669262'), ('prop', 'primary election')]\n",
      "[('y', 'http://www.wikidata.org/entity/Q1185865'), ('prop', 'Democratic National Convention')]\n",
      "[('y', 'http://www.wikidata.org/entity/Q25080094'), ('prop', 'primary election in the United States')]\n",
      "[('y', 'http://www.wikidata.org/entity/Q22266213'), ('prop', 'Argentine legislative election')]\n",
      "[('y', 'http://www.wikidata.org/entity/Q22669582'), ('prop', 'Botswana general election')]\n",
      "[('y', 'http://www.wikidata.org/entity/Q24713572'), ('prop', 'Guatemalan parliamentary election')]\n",
      "[('y', 'http://www.wikidata.org/entity/Q40231'), ('prop', 'election')]\n",
      "[('y', 'http://www.wikidata.org/entity/Q47566'), ('prop', 'United States presidential election')]\n",
      "[('y', 'http://www.wikidata.org/entity/Q15966540'), ('prop', 'local election')]\n",
      "[('y', 'http://www.wikidata.org/entity/Q15261477'), ('prop', 'gubernatorial election')]\n",
      "[('y', 'http://www.wikidata.org/entity/Q5518574'), ('prop', 'South Korean presidential election')]\n",
      "[('y', 'http://www.wikidata.org/entity/Q26772977'), ('prop', 'state election in Germany')]\n",
      "[('y', 'http://www.wikidata.org/entity/Q22669552'), ('prop', 'Namibian general election')]\n",
      "[('y', 'http://www.wikidata.org/entity/Q24333627'), ('prop', 'United States Senate election')]\n",
      "[('y', 'http://www.wikidata.org/entity/Q22160112'), ('prop', 'Estonian parliamentary election')]\n",
      "[('y', 'http://www.wikidata.org/entity/Q19692233'), ('prop', 'Wikimedia list of persons')]\n",
      "[('y', 'http://www.wikidata.org/entity/Q7232773'), ('prop', 'Portuguese legislative elections')]\n",
      "[('y', 'http://www.wikidata.org/entity/Q3722420'), ('prop', 'Italian general election')]\n",
      "[('y', 'http://www.wikidata.org/entity/Q22669528'), ('prop', 'Central African Republic general election')]\n",
      "[('y', 'http://www.wikidata.org/entity/Q24558942'), ('prop', 'Mexican legislative election')]\n",
      "[('y', 'http://www.wikidata.org/entity/Q846330'), ('prop', 'Super Tuesday')]\n",
      "[('y', 'http://www.wikidata.org/entity/Q24566658'), ('prop', 'Mongolian legislative election')]\n",
      "[('y', 'http://www.wikidata.org/entity/Q3587380'), ('prop', 'Portugese presidential election')]\n",
      "[('y', 'http://www.wikidata.org/entity/Q24712693'), ('prop', 'Sri Lankan parliamentary election')]\n",
      "[('y', 'http://www.wikidata.org/entity/Q22276264'), ('prop', 'Albanian parliamentary election')]\n",
      "[('y', 'http://www.wikidata.org/entity/Q22276008'), ('prop', 'Croatian parliamentary election')]\n",
      "[('y', 'http://www.wikidata.org/entity/Q25363518'), ('prop', 'Paraguayan legislative election')]\n",
      "[('y', 'http://www.wikidata.org/entity/Q28545697'), ('prop', 'presidential election in Peru')]\n",
      "[('y', 'http://www.wikidata.org/entity/Q22341315'), ('prop', 'Tanzanian general election')]\n",
      "[('y', 'http://www.wikidata.org/entity/Q24718981'), ('prop', 'Syrian parliamentary election')]\n",
      "[('y', 'http://www.wikidata.org/entity/Q22283516'), ('prop', 'Zimbabwean general election')]\n",
      "[('y', 'http://www.wikidata.org/entity/Q22266214'), ('prop', 'Ethiopian general election')]\n",
      "[('y', 'http://www.wikidata.org/entity/Q24713657'), ('prop', 'parliamentary election in Peru')]\n",
      "[('y', 'http://www.wikidata.org/entity/Q1076105'), ('prop', 'general election')]\n",
      "[('y', 'http://www.wikidata.org/entity/Q28333164'), ('prop', 'Philippine Senate election')]\n",
      "[('y', 'http://www.wikidata.org/entity/Q24618255'), ('prop', 'Ecuadorian parliamentary election')]\n",
      "[('y', 'http://www.wikidata.org/entity/Q22338585'), ('prop', 'Brazilian legislative election')]\n",
      "[('y', 'http://www.wikidata.org/entity/Q18285098'), ('prop', 'presidential election in Colombia')]\n",
      "[('y', 'http://www.wikidata.org/entity/Q24713040'), ('prop', 'Venezuelan parliamentary election')]\n",
      "[('y', 'http://www.wikidata.org/entity/Q22703992'), ('prop', 'Iraqi parliamentary election')]\n",
      "[('y', 'http://www.wikidata.org/entity/Q22333190'), ('prop', 'Kyrgyzstani parliamentary election')]\n",
      "[('y', 'http://www.wikidata.org/entity/Q22669606'), ('prop', 'Mauritian general election')]\n",
      "[('y', 'http://www.wikidata.org/entity/Q28649370'), ('prop', 'Philippine House election')]\n",
      "[('y', 'http://www.wikidata.org/entity/Q22275938'), ('prop', 'Romanian legislative election')]\n",
      "[('y', 'http://www.wikidata.org/entity/Q23498202'), ('prop', 'Austrian presidential election')]\n",
      "[('y', 'http://www.wikidata.org/entity/Q7185370'), ('prop', 'Philippine presidential election')]\n",
      "[('y', 'http://www.wikidata.org/entity/Q22160120'), ('prop', 'Slovenian parliamentary election')]\n",
      "[('y', 'http://www.wikidata.org/entity/Q106690408'), ('prop', 'Zambian presidential election')]\n",
      "[('y', 'http://www.wikidata.org/entity/Q7241485'), ('prop', 'Presidential elections in Singapore')]\n",
      "[('y', 'http://www.wikidata.org/entity/Q22276226'), ('prop', 'Kosovan parliamentary election')]\n",
      "[('y', 'http://www.wikidata.org/entity/Q54257384'), ('prop', 'Zimbabwean presidential election')]\n",
      "[('y', 'http://www.wikidata.org/entity/Q85811908'), ('prop', 'uncontested election')]\n",
      "[('y', 'http://www.wikidata.org/entity/Q24332812'), ('prop', 'Burmese general election')]\n",
      "[('y', 'http://www.wikidata.org/entity/Q20053795'), ('prop', 'Brazilian presidential election')]\n",
      "[('y', 'http://www.wikidata.org/entity/Q97487177'), ('prop', 'Taiwanese presidential primary')]\n",
      "[('y', 'http://www.wikidata.org/entity/Q18698522'), ('prop', 'Polish presidential election')]\n",
      "[('y', 'http://www.wikidata.org/entity/Q22337503'), ('prop', 'Ugandan presidential election')]\n",
      "[('y', 'http://www.wikidata.org/entity/Q2618461'), ('prop', 'legislative election')]\n",
      "[('y', 'http://www.wikidata.org/entity/Q877353'), ('prop', 'indirect election')]\n",
      "[('y', 'http://www.wikidata.org/entity/Q5557375'), ('prop', 'first-past-the-post voting')]\n",
      "[('y', 'http://www.wikidata.org/entity/Q76853179'), ('prop', 'group of elections')]\n",
      "[('y', 'http://www.wikidata.org/entity/Q24176296'), ('prop', 'Vanuatu general election')]\n",
      "[('y', 'http://www.wikidata.org/entity/Q22333339'), ('prop', 'Uzbekistani parliamentary election')]\n",
      "[('y', 'http://www.wikidata.org/entity/Q22669585'), ('prop', 'Gambian parliamentary election')]\n",
      "[('y', 'http://www.wikidata.org/entity/Q5828421'), ('prop', 'Chilean parliamentary election')]\n",
      "[('y', 'http://www.wikidata.org/entity/Q29054285'), ('prop', 'Serbian presidential election')]\n",
      "[('y', 'http://www.wikidata.org/entity/Q25343327'), ('prop', 'Haitian parliamentary election')]\n",
      "[('y', 'http://www.wikidata.org/entity/Q22342178'), ('prop', 'Mozambican general election')]\n",
      "[('y', 'http://www.wikidata.org/entity/Q24715171'), ('prop', 'Lebanese legislative election')]\n",
      "[('y', 'http://www.wikidata.org/entity/Q25369324'), ('prop', 'Guyanese general election')]\n",
      "[('y', 'http://www.wikidata.org/entity/Q22703975'), ('prop', 'Transnistrian legislative election')]\n",
      "[('y', 'http://www.wikidata.org/entity/Q22283539'), ('prop', 'Ghanaian legislative election')]\n",
      "[('y', 'http://www.wikidata.org/entity/Q22269349'), ('prop', 'Lithuanian parliamentary election')]\n"
     ]
    },
    {
     "data": {
      "text/plain": [
       "90"
      ]
     },
     "execution_count": 22,
     "metadata": {},
     "output_type": "execute_result"
    }
   ],
   "source": [
    "#print other classes of elections\n",
    "queryString = \"\"\"\n",
    "\n",
    "SELECT DISTINCT ?y ?prop\n",
    "WHERE { \n",
    "?p wdt:P279* wd:Q248577.\n",
    "?a wdt:P39 ?p.\n",
    "?z wdt:P991 ?a.\n",
    "?z wdt:P31 ?y.\n",
    "\n",
    "?z sc:name?obj .\n",
    "?y sc:name?prop .\n",
    "\n",
    "}\n",
    "LIMIT 100\n",
    "\"\"\"\n",
    "\n",
    "print(\"Results\")\n",
    "run_query(queryString)"
   ]
  },
  {
   "cell_type": "markdown",
   "id": "fdcc6b27-968a-48af-8d42-6addb9c49535",
   "metadata": {},
   "source": [
    "Presidential election : `wd:Q858439`"
   ]
  },
  {
   "cell_type": "code",
   "execution_count": 42,
   "id": "39116e99-4bb0-4357-a489-5f6228e2f753",
   "metadata": {},
   "outputs": [
    {
     "name": "stdout",
     "output_type": "stream",
     "text": [
      "Results\n",
      "[('country', 'United States of America'), ('name', 'George Washington'), ('birth', '1732-02-22T00:00:00Z'), ('obj', '1788–89 United States presidential election')]\n",
      "[('country', 'Italy'), ('name', 'Luigi Einaudi'), ('birth', '1874-03-24T00:00:00Z'), ('obj', '1948 Italian presidential election')]\n"
     ]
    },
    {
     "data": {
      "text/plain": [
       "2"
      ]
     },
     "execution_count": 42,
     "metadata": {},
     "output_type": "execute_result"
    }
   ],
   "source": [
    "queryString = \"\"\"\n",
    "SELECT ?country ?name ?birth ?obj\n",
    "\n",
    "WHERE{\n",
    "?p wdt:P279* wd:Q248577.\n",
    "?a wdt:P39 ?p.\n",
    "?z wdt:P991 ?a.\n",
    "?a wdt:P569 ?birth.\n",
    "?z ?pr ?p.\n",
    "?z wdt:P31/wdt:P279 wd:Q858439.\n",
    "?z wdt:P580 ?dateExt.\n",
    "?z wdt:P17 ?y.\n",
    "\n",
    "filter(?dateExt = ?min)\n",
    "        \n",
    "    {\n",
    "        SELECT ?y min(?date) AS ?min\n",
    "\n",
    "        WHERE { \n",
    "        ?p wdt:P279* wd:Q248577.\n",
    "        ?a wdt:P39 ?p.\n",
    "        ?z wdt:P991 ?a.\n",
    "        ?z ?pr ?p.\n",
    "        ?z wdt:P580 ?date.\n",
    "        ?z wdt:P17 ?y.\n",
    "        ?z wdt:P31/wdt:P279 wd:Q858439.\n",
    "        \n",
    "        \n",
    "        }\n",
    "        GROUP BY ?y\n",
    "    }\n",
    "    \n",
    "?z sc:name?obj .\n",
    "?a sc:name?name .\n",
    "?y sc:name?country .\n",
    "\n",
    "}LIMIT 10\n",
    "\n",
    "\n",
    "\n",
    "\"\"\"\n",
    "\n",
    "print(\"Results\")\n",
    "run_query(queryString)"
   ]
  },
  {
   "cell_type": "code",
   "execution_count": 43,
   "id": "0923b31c-c159-4fed-92a1-2b7c797bf5d6",
   "metadata": {},
   "outputs": [
    {
     "name": "stdout",
     "output_type": "stream",
     "text": [
      "Results\n",
      "[('country', 'Italy'), ('obj', '1948 Italian presidential election'), ('date', '1948')]\n",
      "[('country', 'Italy'), ('obj', '1955 Italian presidential election'), ('date', '1955')]\n",
      "[('country', 'Italy'), ('obj', '1962 Italian presidential election'), ('date', '1962')]\n",
      "[('country', 'Italy'), ('obj', '1964 Italian presidential election'), ('date', '1964')]\n",
      "[('country', 'Italy'), ('obj', '1971 Italian presidential election'), ('date', '1971')]\n",
      "[('country', 'Italy'), ('obj', '1978 Italian presidential election'), ('date', '1978')]\n",
      "[('country', 'Italy'), ('obj', '1985 Italian presidential election'), ('date', '1985')]\n",
      "[('country', 'Italy'), ('obj', '1992 Italian presidential election'), ('date', '1992')]\n",
      "[('country', 'Italy'), ('obj', '1999 Italian presidential election'), ('date', '1999')]\n",
      "[('country', 'Italy'), ('obj', '2006 Italian presidential election'), ('date', '2006')]\n"
     ]
    },
    {
     "data": {
      "text/plain": [
       "10"
      ]
     },
     "execution_count": 43,
     "metadata": {},
     "output_type": "execute_result"
    }
   ],
   "source": [
    "queryString = \"\"\"\n",
    "SELECT ?country ?obj ?date\n",
    "\n",
    "WHERE { \n",
    "?p wdt:P279* wd:Q248577.\n",
    "?a wdt:P39 ?p.\n",
    "?z wdt:P991 ?a.\n",
    "?z ?pr ?p.\n",
    "?z wdt:P17 ?y.\n",
    "?z sc:name?obj .\n",
    "?y sc:name?country .\n",
    "BIND (SUBSTR(str(?obj), 0,4) AS ?date)\n",
    "filter(regex(?obj,\".*talian.*\"))\n",
    "}\n",
    "ORDER BY ?obj\n",
    "LIMIT 10\n",
    "\"\"\"\n",
    "\n",
    "print(\"Results\")\n",
    "run_query(queryString)"
   ]
  },
  {
   "cell_type": "code",
   "execution_count": 44,
   "id": "e3f0777b-2b6a-48a3-a375-50b8d3530415",
   "metadata": {},
   "outputs": [
    {
     "name": "stdout",
     "output_type": "stream",
     "text": [
      "Results\n",
      "[('country', 'United States of America'), ('name', 'George Washington'), ('birth', '1732-02-22T00:00:00Z'), ('obj', '1788–89 United States presidential election')]\n",
      "[('country', 'Italy'), ('name', 'Luigi Einaudi'), ('birth', '1874-03-24T00:00:00Z'), ('obj', '1948 Italian presidential election')]\n"
     ]
    },
    {
     "data": {
      "text/plain": [
       "2"
      ]
     },
     "execution_count": 44,
     "metadata": {},
     "output_type": "execute_result"
    }
   ],
   "source": [
    "queryString = \"\"\"\n",
    "SELECT ?country ?name ?birth ?obj\n",
    "\n",
    "WHERE{\n",
    "?p wdt:P279* wd:Q248577.\n",
    "?a wdt:P39 ?p.\n",
    "?z wdt:P991 ?a.\n",
    "?a wdt:P569 ?birth.\n",
    "?z ?pr ?p.\n",
    "?z wdt:P31/wdt:P279 wd:Q858439.\n",
    "?z wdt:P580 ?dateExt.\n",
    "?z wdt:P17 ?x.\n",
    "filter(?dateExt = ?min)\n",
    "        \n",
    "    {\n",
    "        SELECT ?y min(?date) AS ?min\n",
    "\n",
    "        WHERE { \n",
    "        ?p wdt:P279* wd:Q248577.\n",
    "        ?a wdt:P39 ?p.\n",
    "        ?z wdt:P991 ?a.\n",
    "        ?z ?pr ?p.\n",
    "        ?z wdt:P17 ?y.\n",
    "        ?z wdt:P580 ?date.\n",
    "        ?z wdt:P31/wdt:P279 wd:Q858439.\n",
    "        ?z sc:name?obj .\n",
    "        \n",
    "        \n",
    "        }\n",
    "        GROUP BY ?y\n",
    "    }\n",
    "    \n",
    "?z sc:name?obj .\n",
    "?a sc:name?name .\n",
    "?x sc:name?country .\n",
    "\n",
    "}LIMIT 10\n",
    "\n",
    "\n",
    "\n",
    "\"\"\"\n",
    "\n",
    "print(\"Results\")\n",
    "run_query(queryString)"
   ]
  },
  {
   "cell_type": "markdown",
   "id": "deb14d36-8568-4140-a971-5fb5b5d9271f",
   "metadata": {},
   "source": [
    "Only USA and Italy have the start time.. The others have the year in the name."
   ]
  },
  {
   "cell_type": "code",
   "execution_count": 23,
   "id": "557ade4c-0109-4e60-b6ac-711a380cb748",
   "metadata": {},
   "outputs": [
    {
     "name": "stdout",
     "output_type": "stream",
     "text": [
      "Results\n",
      "[('y', 'http://www.wikidata.org/entity/Q155'), ('country', 'Brazil'), ('min', 'Braz')]\n",
      "[('y', 'http://www.wikidata.org/entity/Q419'), ('country', 'Peru'), ('min', '1894')]\n",
      "[('y', 'http://www.wikidata.org/entity/Q334'), ('country', 'Singapore'), ('min', '1993')]\n",
      "[('y', 'http://www.wikidata.org/entity/Q38'), ('country', 'Italy'), ('min', '1948')]\n",
      "[('y', 'http://www.wikidata.org/entity/Q1036'), ('country', 'Uganda'), ('min', '2016')]\n",
      "[('y', 'http://www.wikidata.org/entity/Q211'), ('country', 'Latvia'), ('min', '2011')]\n",
      "[('y', 'http://www.wikidata.org/entity/Q403'), ('country', 'Serbia'), ('min', '1997')]\n",
      "[('y', 'http://www.wikidata.org/entity/Q40'), ('country', 'Austria'), ('min', '1963')]\n",
      "[('y', 'http://www.wikidata.org/entity/Q45'), ('country', 'Portugal'), ('min', '1976')]\n",
      "[('y', 'http://www.wikidata.org/entity/Q928'), ('country', 'Philippines'), ('min', '1935')]\n",
      "[('y', 'http://www.wikidata.org/entity/Q183'), ('country', 'Germany'), ('min', '1949')]\n",
      "[('y', 'http://www.wikidata.org/entity/Q36'), ('country', 'Poland'), ('min', '2010')]\n",
      "[('y', 'http://www.wikidata.org/entity/Q865'), ('country', 'Taiwan'), ('min', '1948')]\n",
      "[('y', 'http://www.wikidata.org/entity/Q739'), ('country', 'Colombia'), ('min', '1914')]\n",
      "[('y', 'http://www.wikidata.org/entity/Q414'), ('country', 'Argentina'), ('min', '1826')]\n",
      "[('y', 'http://www.wikidata.org/entity/Q30'), ('country', 'United States of America'), ('min', '1788')]\n",
      "[('y', 'http://www.wikidata.org/entity/Q884'), ('country', 'South Korea'), ('min', '1948')]\n",
      "[('y', 'http://www.wikidata.org/entity/Q953'), ('country', 'Zambia'), ('min', '2008')]\n",
      "[('y', 'http://www.wikidata.org/entity/Q954'), ('country', 'Zimbabwe'), ('min', 'Zimb')]\n"
     ]
    },
    {
     "data": {
      "text/plain": [
       "19"
      ]
     },
     "execution_count": 23,
     "metadata": {},
     "output_type": "execute_result"
    }
   ],
   "source": [
    "#use the substring to extract the year from the name\n",
    "queryString = \"\"\"\n",
    "SELECT ?y ?country min(?date) AS ?min\n",
    "\n",
    "WHERE { \n",
    "?p wdt:P279* wd:Q248577.\n",
    "?a wdt:P39 ?p.\n",
    "?z wdt:P991 ?a.\n",
    "?z ?pr ?p.\n",
    "?z wdt:P17 ?y.\n",
    "?z wdt:P31/wdt:P279 wd:Q858439.\n",
    "?z sc:name?obj .\n",
    "BIND (SUBSTR(str(?obj), 0,4) AS ?date)\n",
    "\n",
    "?y sc:name?country .\n",
    "\n",
    "}\n",
    "GROUP BY ?y ?country \n",
    "        \n",
    "\"\"\"\n",
    "\n",
    "print(\"Results\")\n",
    "run_query(queryString)"
   ]
  },
  {
   "cell_type": "code",
   "execution_count": 24,
   "id": "34f21950-750c-4544-a0d0-866e016e974d",
   "metadata": {},
   "outputs": [
    {
     "name": "stdout",
     "output_type": "stream",
     "text": [
      "Results\n",
      "[('y', 'http://www.wikidata.org/entity/Q155'), ('country', 'Brazil'), ('obj', 'Brazilian presidential election, 2014')]\n",
      "[('y', 'http://www.wikidata.org/entity/Q954'), ('country', 'Zimbabwe'), ('obj', 'Zimbabwean presidential election, 2013')]\n"
     ]
    },
    {
     "data": {
      "text/plain": [
       "2"
      ]
     },
     "execution_count": 24,
     "metadata": {},
     "output_type": "execute_result"
    }
   ],
   "source": [
    "#Brazil and Zimbawe not start with the year\n",
    "queryString = \"\"\"\n",
    "SELECT ?y ?country ?obj\n",
    "\n",
    "WHERE { \n",
    "?p wdt:P279* wd:Q248577.\n",
    "?a wdt:P39 ?p.\n",
    "?z wdt:P991 ?a.\n",
    "?z ?pr ?p.\n",
    "?z wdt:P17 ?y.\n",
    "?z wdt:P31/wdt:P279 wd:Q858439.\n",
    "?z sc:name?obj .\n",
    "\n",
    "filter(regex(?country,\".*imbab.*\") || regex(?country,\".*razil.*\"))\n",
    "?y sc:name?country .\n",
    "\n",
    "}\n",
    "\n",
    "        \n",
    "\"\"\"\n",
    "\n",
    "print(\"Results\")\n",
    "run_query(queryString)"
   ]
  },
  {
   "cell_type": "code",
   "execution_count": 25,
   "id": "e96419d9-1e5a-4536-a6ee-efd98f7c149a",
   "metadata": {},
   "outputs": [
    {
     "name": "stdout",
     "output_type": "stream",
     "text": [
      "Results\n",
      "[('country', 'Portugal'), ('min', '1976')]\n",
      "[('country', 'Zambia'), ('min', '2008')]\n",
      "[('country', 'Colombia'), ('min', '1914')]\n",
      "[('country', 'Germany'), ('min', '1949')]\n",
      "[('country', 'Peru'), ('min', '1894')]\n",
      "[('country', 'Italy'), ('min', '1948')]\n",
      "[('country', 'Poland'), ('min', '2010')]\n",
      "[('country', 'Latvia'), ('min', '2011')]\n",
      "[('country', 'United States of America'), ('min', '1788')]\n",
      "[('country', 'Taiwan'), ('min', '1948')]\n",
      "[('country', 'Philippines'), ('min', '1935')]\n",
      "[('country', 'Uganda'), ('min', '2016')]\n",
      "[('country', 'Serbia'), ('min', '1997')]\n",
      "[('country', 'Singapore'), ('min', '1993')]\n",
      "[('country', 'Austria'), ('min', '1963')]\n",
      "[('country', 'Argentina'), ('min', '1826')]\n",
      "[('country', 'South Korea'), ('min', '1948')]\n"
     ]
    },
    {
     "data": {
      "text/plain": [
       "17"
      ]
     },
     "execution_count": 25,
     "metadata": {},
     "output_type": "execute_result"
    }
   ],
   "source": [
    "#remove brazil and zimbawe from the result set\n",
    "queryString = \"\"\"\n",
    "SELECT ?country min(?date) AS ?min\n",
    "\n",
    "WHERE { \n",
    "?p wdt:P279* wd:Q248577.\n",
    "?a wdt:P39 ?p.\n",
    "?z wdt:P991 ?a.\n",
    "?z ?pr ?p.\n",
    "?z wdt:P17 ?y.\n",
    "?z wdt:P31/wdt:P279 wd:Q858439.\n",
    "\n",
    "?z sc:name?obj .\n",
    "?y sc:name?country .\n",
    "\n",
    "BIND (SUBSTR(str(?obj), 0,4) AS ?date)\n",
    "\n",
    "FILTER(!(regex(?country,\".*imbab.*\") || regex(?country,\".*razil.*\")))\n",
    "\n",
    "}\n",
    "GROUP BY ?y ?country\n",
    "        \n",
    "\"\"\"\n",
    "\n",
    "print(\"Results\")\n",
    "run_query(queryString)"
   ]
  },
  {
   "cell_type": "code",
   "execution_count": 48,
   "id": "f07ef23c-d8b4-4279-a984-2742465e0461",
   "metadata": {},
   "outputs": [
    {
     "name": "stdout",
     "output_type": "stream",
     "text": [
      "Results\n",
      "[('country', 'Singapore'), ('name', 'Ong Teng Cheong'), ('birth', '1936-01-22T00:00:00Z')]\n",
      "[('country', 'Uganda'), ('name', 'Yoweri Museveni'), ('birth', '1944-09-15T00:00:00Z')]\n",
      "[('country', 'Poland'), ('name', 'Bronisław Komorowski'), ('birth', '1952-06-04T00:00:00Z')]\n",
      "[('country', 'Taiwan'), ('name', 'Chiang Kai-shek'), ('birth', '1887-10-31T00:00:00Z')]\n",
      "[('country', 'United States of America'), ('name', 'George Washington'), ('birth', '1732-02-22T00:00:00Z')]\n",
      "[('country', 'Peru'), ('name', 'Andrés Avelino Cáceres'), ('birth', '1836-11-10T00:00:00Z')]\n",
      "[('country', 'Philippines'), ('name', 'Manuel L. Quezon'), ('birth', '1878-08-19T00:00:00Z')]\n",
      "[('country', 'Zambia'), ('name', 'Rupiah Banda'), ('birth', '1937-01-01T00:00:00Z')]\n",
      "[('country', 'Zambia'), ('name', 'Rupiah Banda'), ('birth', '1937-02-13T00:00:00Z')]\n",
      "[('country', 'Germany'), ('name', 'Theodor Heuss'), ('birth', '1884-01-31T00:00:00Z')]\n",
      "[('country', 'Latvia'), ('name', 'Andris Bērziņš'), ('birth', '1944-12-10T00:00:00Z')]\n",
      "[('country', 'Portugal'), ('name', 'António Ramalho Eanes'), ('birth', '1935-01-25T00:00:00Z')]\n",
      "[('country', 'Austria'), ('name', 'Adolf Schärf'), ('birth', '1890-04-20T00:00:00Z')]\n",
      "[('country', 'South Korea'), ('name', 'Rhee Syng-man'), ('birth', '1875-03-26T00:00:00Z')]\n",
      "[('country', 'Argentina'), ('name', 'Bernardino Rivadavia'), ('birth', '1780-05-20T00:00:00Z')]\n",
      "[('country', 'Italy'), ('name', 'Luigi Einaudi'), ('birth', '1874-03-24T00:00:00Z')]\n",
      "[('country', 'Colombia'), ('name', 'José Vicente Concha'), ('birth', '1867-01-01T00:00:00Z')]\n",
      "[('country', 'Colombia'), ('name', 'José Vicente Concha'), ('birth', '1999-04-21T00:00:00Z')]\n",
      "[('country', 'Serbia'), ('name', 'Milan Milutinović'), ('birth', '1942-12-19T00:00:00Z')]\n"
     ]
    },
    {
     "data": {
      "text/plain": [
       "19"
      ]
     },
     "execution_count": 48,
     "metadata": {},
     "output_type": "execute_result"
    }
   ],
   "source": [
    "queryString = \"\"\"\n",
    "SELECT ?country ?name ?birth\n",
    "\n",
    "WHERE{\n",
    "?p wdt:P279* wd:Q248577.\n",
    "?a wdt:P39 ?p.\n",
    "?z wdt:P991 ?a.\n",
    "?a wdt:P569 ?birth.\n",
    "?z ?pr ?p.\n",
    "?z wdt:P31/wdt:P279 wd:Q858439.\n",
    "?z wdt:P17 ?x.\n",
    "\n",
    "?z sc:name?obj.\n",
    "BIND (SUBSTR(str(?obj), 0,4) AS ?dateX)\n",
    "\n",
    "filter(?x = ?y and ?dateX = ?min)\n",
    "        \n",
    "    {\n",
    "        SELECT ?y min(?date) AS ?min\n",
    "\n",
    "        WHERE { \n",
    "        ?p wdt:P279* wd:Q248577.\n",
    "        ?a wdt:P39 ?p.\n",
    "        ?z wdt:P991 ?a.\n",
    "        ?z ?pr ?p.\n",
    "        ?z wdt:P17 ?y.\n",
    "        ?z wdt:P31/wdt:P279 wd:Q858439.\n",
    "        \n",
    "        ?z sc:name?obj .\n",
    "        ?y sc:name?country .\n",
    "        \n",
    "        BIND (SUBSTR(str(?obj), 0,4) AS ?date)\n",
    "        \n",
    "        FILTER(!(regex(?country,\".*imbab.*\") || regex(?country,\".*razil.*\")))\n",
    "        \n",
    "        }\n",
    "        GROUP BY ?y\n",
    "    }\n",
    "     .\n",
    "?a sc:name?name .\n",
    "?x sc:name?country .\n",
    "\n",
    "}LIMIT 40\n",
    "\n",
    "\n",
    "\n",
    "\"\"\"\n",
    "\n",
    "print(\"Results\")\n",
    "run_query(queryString)"
   ]
  },
  {
   "cell_type": "markdown",
   "id": "f5d9d3be-d700-47bb-bd47-2621e4f19889",
   "metadata": {},
   "source": [
    "Not a good result. But I tried everything."
   ]
  },
  {
   "cell_type": "markdown",
   "id": "7375ef5c-8960-4b1b-a7b9-ea92554fe02d",
   "metadata": {},
   "source": [
    "### Task 3.2"
   ]
  },
  {
   "cell_type": "markdown",
   "id": "3a9745d7-9384-4cac-93c3-4d0f79ca0ab4",
   "metadata": {},
   "source": [
    "Group by country to find the number of president of each country"
   ]
  },
  {
   "cell_type": "code",
   "execution_count": 49,
   "id": "a56cbf24-aac4-45f8-aaf6-6a8331142ba8",
   "metadata": {},
   "outputs": [
    {
     "name": "stdout",
     "output_type": "stream",
     "text": [
      "Results\n",
      "[('country', 'Honduras'), ('count', '84')]\n",
      "[('country', 'United States of America'), ('count', '64')]\n",
      "[('country', 'Colombia'), ('count', '60')]\n",
      "[('country', 'Argentina'), ('count', '59')]\n",
      "[('country', 'Mexico'), ('count', '59')]\n",
      "[('country', 'Venezuela'), ('count', '58')]\n",
      "[('country', 'Paraguay'), ('count', '57')]\n",
      "[('country', 'Haiti'), ('count', '55')]\n",
      "[('country', 'Peru'), ('count', '53')]\n",
      "[('country', 'Guatemala'), ('count', '53')]\n",
      "[('country', 'Brazil'), ('count', '42')]\n",
      "[('country', 'Costa Rica'), ('count', '40')]\n",
      "[('country', 'Chile'), ('count', '37')]\n",
      "[('country', 'Cuba'), ('count', '30')]\n",
      "[('country', 'El Salvador'), ('count', '28')]\n",
      "[('country', 'Syria'), ('count', '25')]\n",
      "[('country', 'Federal Republic of Central America'), ('count', '25')]\n",
      "[('country', 'Lebanon'), ('count', '22')]\n",
      "[('country', 'Taiwan'), ('count', '21')]\n",
      "[('country', 'Portugal'), ('count', '19')]\n",
      "[('country', 'Poland'), ('count', '19')]\n",
      "[('country', 'Serbia'), ('count', '18')]\n",
      "[('country', 'Comoros'), ('count', '17')]\n",
      "[('country', 'Bosnia and Herzegovina'), ('count', '17')]\n",
      "[('country', 'India'), ('count', '16')]\n",
      "[('country', 'Philippines'), ('count', '16')]\n",
      "[('country', 'Vanuatu'), ('count', '15')]\n",
      "[('country', 'Somalia'), ('count', '15')]\n",
      "[('country', 'Pakistan'), ('count', '15')]\n",
      "[('country', 'Ghana'), ('count', '14')]\n",
      "[('country', 'Greece'), ('count', '14')]\n",
      "[('country', 'Mongolia'), ('count', '14')]\n",
      "[('country', 'Nigeria'), ('count', '13')]\n",
      "[('country', 'Mauritius'), ('count', '13')]\n",
      "[('country', 'Germany'), ('count', '12')]\n",
      "[('country', 'Italy'), ('count', '12')]\n",
      "[('country', 'Burundi'), ('count', '12')]\n",
      "[('country', 'Uganda'), ('count', '12')]\n",
      "[('country', 'Austria'), ('count', '12')]\n",
      "[('country', 'Croatia'), ('count', '12')]\n",
      "[('country', 'Vietnam'), ('count', '12')]\n",
      "[('country', 'South Korea'), ('count', '12')]\n",
      "[('country', 'Albania'), ('count', '11')]\n",
      "[('country', 'Madagascar'), ('count', '11')]\n",
      "[('country', 'Lithuania'), ('count', '11')]\n",
      "[('country', 'Marshall Islands'), ('count', '11')]\n",
      "[('country', 'Burkina Faso'), ('count', '10')]\n",
      "[('country', 'Dominica'), ('count', '10')]\n",
      "[('country', 'Latvia'), ('count', '10')]\n",
      "[('country', 'Romania'), ('count', '10')]\n",
      "[('country', 'Singapore'), ('count', '10')]\n",
      "[('country', 'Slovenia'), ('count', '10')]\n",
      "[('country', 'Iraq'), ('count', '10')]\n",
      "[('country', 'Hungary'), ('count', '10')]\n",
      "[('country', 'Ethiopia'), ('count', '9')]\n",
      "[('country', 'Myanmar'), ('count', '9')]\n",
      "[('country', 'Indonesia'), ('count', '9')]\n",
      "[('country', \"People's Republic of China\"), ('count', '8')]\n",
      "[('country', 'Zambia'), ('count', '8')]\n",
      "[('country', 'Sri Lanka'), ('count', '8')]\n",
      "[('country', 'Moldova'), ('count', '8')]\n",
      "[('country', 'São Tomé and Príncipe'), ('count', '8')]\n",
      "[('country', 'Trinidad and Tobago'), ('count', '7')]\n",
      "[('country', 'Kosovo'), ('count', '7')]\n",
      "[('country', 'Maldives'), ('count', '7')]\n",
      "[('country', 'Guyana'), ('count', '7')]\n",
      "[('country', 'Kiribati'), ('count', '7')]\n",
      "[('country', 'Central African Republic'), ('count', '7')]\n",
      "[('country', 'Laos'), ('count', '7')]\n",
      "[('country', 'Estonia'), ('count', '6')]\n",
      "[('country', 'Kyrgyzstan'), ('count', '6')]\n",
      "[('country', 'Iceland'), ('count', '6')]\n",
      "[('country', 'Democratic Republic of the Congo'), ('count', '6')]\n",
      "[('country', 'Azerbaijan'), ('count', '6')]\n",
      "[('country', 'Tanzania'), ('count', '6')]\n",
      "[('country', 'Guinea'), ('count', '6')]\n",
      "[('country', 'Georgia'), ('count', '6')]\n",
      "[('country', 'South Africa'), ('count', '6')]\n",
      "[('country', 'Botswana'), ('count', '5')]\n",
      "[('country', 'Seychelles'), ('count', '5')]\n",
      "[('country', 'Somaliland'), ('count', '5')]\n",
      "[('country', 'Transnistria'), ('count', '5')]\n",
      "[('country', 'Benin'), ('count', '5')]\n",
      "[('country', 'Mozambique'), ('count', '4')]\n",
      "[('country', 'Armenia'), ('count', '4')]\n",
      "[('country', 'Zimbabwe'), ('count', '4')]\n",
      "[('country', 'Sahrawi Arab Democratic Republic'), ('count', '4')]\n",
      "[('country', 'Angola'), ('count', '4')]\n",
      "[('country', 'Nepal'), ('count', '3')]\n",
      "[('country', 'Namibia'), ('count', '3')]\n",
      "[('country', 'Uzbekistan'), ('count', '3')]\n",
      "[('country', 'Republic of China 1912–1949'), ('count', '3')]\n",
      "[('country', 'The Gambia'), ('count', '3')]\n",
      "[('country', 'Kazakhstan'), ('count', '2')]\n",
      "[('country', 'Turkmenistan'), ('count', '2')]\n",
      "[('country', 'Serbia and Montenegro'), ('count', '2')]\n",
      "[('country', 'Spanish Empire'), ('count', '1')]\n",
      "[('country', 'Confederate States of America'), ('count', '1')]\n",
      "[('country', 'Republic of Kosova'), ('count', '1')]\n"
     ]
    },
    {
     "data": {
      "text/plain": [
       "99"
      ]
     },
     "execution_count": 49,
     "metadata": {},
     "output_type": "execute_result"
    }
   ],
   "source": [
    "queryString = \"\"\"\n",
    "SELECT ?country count(DISTINCT ?a) AS ?count\n",
    "WHERE { \n",
    "\n",
    "?p wdt:P279+ wd:Q248577 . \n",
    "?a wdt:P39 ?p.\n",
    "?p wdt:P17 ?c.\n",
    "?c sc:name?country .\n",
    "\n",
    "} \n",
    "GROUP BY ?c ?country\n",
    "ORDER BY DESC (?count)\n",
    "LIMIT 200\n",
    "\"\"\"\n",
    "\n",
    "print(\"Results\")\n",
    "run_query(queryString)"
   ]
  },
  {
   "cell_type": "markdown",
   "id": "d4f6fa0d-ca97-48c5-ad63-a771adcd784c",
   "metadata": {
    "jp-MarkdownHeadingCollapsed": true,
    "tags": []
   },
   "source": [
    "## Task 4 \n",
    "Is there a country that had at some point a woman as a president?"
   ]
  },
  {
   "cell_type": "code",
   "execution_count": 26,
   "id": "f24ef21b-cdf5-4a02-802b-f7b2bec276da",
   "metadata": {},
   "outputs": [
    {
     "name": "stdout",
     "output_type": "stream",
     "text": [
      "Results\n",
      "[('o', 'http://www.wikidata.org/entity/Q301702'), ('gender', 'two-spirit')]\n",
      "[('o', 'http://www.wikidata.org/entity/Q1289754'), ('gender', 'neutrois')]\n",
      "[('o', 'http://www.wikidata.org/entity/Q505371'), ('gender', 'agender')]\n",
      "[('o', 'http://www.wikidata.org/entity/Q52261234'), ('gender', 'neutral sex')]\n",
      "[('o', 'http://www.wikidata.org/entity/Q24238356'), ('gender', 'unknown')]\n",
      "[('o', 'http://www.wikidata.org/entity/Q2449503'), ('gender', 'transgender male')]\n",
      "[('o', 'http://www.wikidata.org/entity/Q3177577'), ('gender', 'muxe')]\n",
      "[('o', 'http://www.wikidata.org/entity/Q48279'), ('gender', 'third gender')]\n",
      "[('o', 'http://www.wikidata.org/entity/Q18116794'), ('gender', 'genderfluid')]\n",
      "[('o', 'http://www.wikidata.org/entity/Q6581072'), ('gender', 'female')]\n",
      "[('o', 'http://www.wikidata.org/entity/Q6581097'), ('gender', 'male')]\n",
      "[('o', 'http://www.wikidata.org/entity/Q1052281'), ('gender', 'transgender female')]\n",
      "[('o', 'http://www.wikidata.org/entity/Q15145778'), ('gender', 'cisgender male')]\n",
      "[('o', 'http://www.wikidata.org/entity/Q17148251'), ('gender', 'travesti')]\n",
      "[('o', 'http://www.wikidata.org/entity/Q179294'), ('gender', 'eunuch')]\n",
      "[('o', 'http://www.wikidata.org/entity/Q44148'), ('gender', 'male organism')]\n",
      "[('o', 'http://www.wikidata.org/entity/Q1097630'), ('gender', 'intersex')]\n",
      "[('o', 'http://www.wikidata.org/entity/Q48270'), ('gender', 'non-binary')]\n",
      "[('o', 'http://www.wikidata.org/entity/Q43445'), ('gender', 'female organism')]\n",
      "[('o', 'http://www.wikidata.org/entity/Q948437'), ('gender', 'dhikr')]\n",
      "[('o', 'http://www.wikidata.org/entity/Q25363'), ('gender', 'Crocodilia')]\n",
      "[('o', 'http://www.wikidata.org/entity/Q189125'), ('gender', 'transgender person')]\n",
      "[('o', 'http://www.wikidata.org/entity/Q16874665'), ('gender', 'Male')]\n",
      "[('o', 'http://www.wikidata.org/entity/Q15145779'), ('gender', 'cisgender female')]\n",
      "[('o', 'http://www.wikidata.org/entity/Q859614'), ('gender', 'bigender')]\n",
      "[('o', 'http://www.wikidata.org/entity/Q16674976'), ('gender', 'hermaphroditism')]\n",
      "[('o', 'http://www.wikidata.org/entity/Q207959'), ('gender', 'androgyny')]\n",
      "[('o', 'http://www.wikidata.org/entity/Q28873047'), ('gender', 'intersex organism')]\n",
      "[('o', 'http://www.wikidata.org/entity/Q27679684'), ('gender', 'transfeminine')]\n",
      "[('o', 'http://www.wikidata.org/entity/Q27679766'), ('gender', 'transmasculine')]\n",
      "[('o', 'http://www.wikidata.org/entity/Q12964198'), ('gender', 'genderqueer')]\n",
      "[('o', 'http://www.wikidata.org/entity/Q303479'), ('gender', 'hermaphrodite')]\n",
      "[('o', 'http://www.wikidata.org/entity/Q51415'), ('gender', 'queer')]\n",
      "[('o', 'http://www.wikidata.org/entity/Q7130936'), ('gender', 'pangender')]\n",
      "[('o', 'http://www.wikidata.org/entity/Q1399232'), ('gender', \"fa'afafine\")]\n",
      "[('o', 'http://www.wikidata.org/entity/Q21147230'), ('gender', 'Duality')]\n",
      "[('o', 'http://www.wikidata.org/entity/Q64017034'), ('gender', 'cogenitor')]\n",
      "[('o', 'http://www.wikidata.org/entity/Q100356081'), ('gender', 'Not Known')]\n",
      "[('o', 'http://www.wikidata.org/entity/Q99485785'), ('gender', 'assigned female at birth')]\n",
      "[('o', 'http://www.wikidata.org/entity/Q3277905'), ('gender', 'māhū')]\n",
      "[('o', 'http://www.wikidata.org/entity/Q93954933'), ('gender', 'demiboy')]\n",
      "[('o', 'http://www.wikidata.org/entity/Q4700377'), ('gender', \"akava'ine\")]\n",
      "[('o', 'http://www.wikidata.org/entity/Q746411'), ('gender', 'kathoey')]\n",
      "[('o', 'http://www.wikidata.org/entity/Q29985176'), ('gender', 'Not known')]\n"
     ]
    },
    {
     "data": {
      "text/plain": [
       "44"
      ]
     },
     "execution_count": 26,
     "metadata": {},
     "output_type": "execute_result"
    }
   ],
   "source": [
    "#print the genders\n",
    "queryString = \"\"\"\n",
    "SELECT DISTINCT ?o ?gender\n",
    "WHERE { \n",
    "?a wdt:P21 ?o.\n",
    "?o sc:name?gender .\n",
    "\n",
    "} \n",
    "LIMIT 200\n",
    "\"\"\"\n",
    "\n",
    "print(\"Results\")\n",
    "run_query(queryString)"
   ]
  },
  {
   "cell_type": "markdown",
   "id": "2874e10f-acf0-45f6-92b2-4cc4240d9565",
   "metadata": {},
   "source": [
    "ASK query to answer at the question."
   ]
  },
  {
   "cell_type": "code",
   "execution_count": 51,
   "id": "02370ce6-0cfd-4069-987d-555a30dfe4a4",
   "metadata": {},
   "outputs": [
    {
     "name": "stdout",
     "output_type": "stream",
     "text": [
      "Results\n"
     ]
    },
    {
     "data": {
      "text/plain": [
       "{'head': {'link': []}, 'boolean': True}"
      ]
     },
     "execution_count": 51,
     "metadata": {},
     "output_type": "execute_result"
    }
   ],
   "source": [
    "queryString = \"\"\"\n",
    "ASK\n",
    "WHERE { \n",
    "\n",
    "?p wdt:P279+ wd:Q248577 . \n",
    "?a wdt:P39 ?p.\n",
    "?p wdt:P17 ?c.\n",
    "?a wdt:P21 ?g.\n",
    "?c sc:name?country .\n",
    "?g sc:name?gender .\n",
    "FILTER (REGEX(?gender,\\\".*female.*\\\"))\n",
    "\n",
    "}\n",
    "\"\"\"\n",
    "\n",
    "print(\"Results\")\n",
    "run_ask_query(queryString)"
   ]
  },
  {
   "cell_type": "markdown",
   "id": "26d6c3e5-bc7a-4333-8b02-45f54282b19f",
   "metadata": {},
   "source": [
    "Since ASK reply TRUE, I print some example just for curiosity\n"
   ]
  },
  {
   "cell_type": "code",
   "execution_count": 52,
   "id": "2c275c54-baf0-48bd-9288-499e0604cdd5",
   "metadata": {},
   "outputs": [
    {
     "name": "stdout",
     "output_type": "stream",
     "text": [
      "Results\n",
      "[('name', 'Ameenah Gurib-Fakim'), ('country', 'Mauritius'), ('gender', 'female')]\n",
      "[('name', 'Monique Ohsan Bellepeau'), ('country', 'Mauritius'), ('gender', 'female')]\n",
      "[('name', 'Sahle-Work Zewde'), ('country', 'Ethiopia'), ('gender', 'female')]\n",
      "[('name', 'Vjosa Osmani'), ('country', 'Kosovo'), ('gender', 'female')]\n",
      "[('name', 'Atifete Jahjaga'), ('country', 'Kosovo'), ('gender', 'female')]\n",
      "[('name', 'Dilma Rousseff'), ('country', 'Brazil'), ('gender', 'female')]\n",
      "[('name', 'Vigdís Finnbogadóttir'), ('country', 'Iceland'), ('gender', 'female')]\n",
      "[('name', 'Kersti Kaljulaid'), ('country', 'Estonia'), ('gender', 'female')]\n",
      "[('name', 'Vaira Vīķe-Freiberga'), ('country', 'Latvia'), ('gender', 'female')]\n",
      "[('name', 'Maia Sandu'), ('country', 'Moldova'), ('gender', 'female')]\n",
      "[('name', 'Ema Derossi-Bjelajac'), ('country', 'Croatia'), ('gender', 'female')]\n",
      "[('name', 'Kolinda Grabar-Kitarović'), ('country', 'Croatia'), ('gender', 'female')]\n",
      "[('name', 'Biljana Plavšić'), ('country', 'Bosnia and Herzegovina'), ('gender', 'female')]\n",
      "[('name', 'Željka Cvijanović'), ('country', 'Bosnia and Herzegovina'), ('gender', 'female')]\n",
      "[('name', 'Srebrenka Golić'), ('country', 'Bosnia and Herzegovina'), ('gender', 'female')]\n",
      "[('name', 'Salome Zurabishvili'), ('country', 'Georgia'), ('gender', 'female')]\n",
      "[('name', 'Nino Burjanadze'), ('country', 'Georgia'), ('gender', 'female')]\n",
      "[('name', 'Megawati Sukarnoputri'), ('country', 'Indonesia'), ('gender', 'female')]\n",
      "[('name', 'Ivy Matsepe-Casaburri'), ('country', 'South Africa'), ('gender', 'female')]\n",
      "[('name', 'Caroline Reynolds'), ('country', 'United States of America'), ('gender', 'female')]\n",
      "[('name', 'Olivia Marsdin'), ('country', 'United States of America'), ('gender', 'female')]\n",
      "[('name', 'Mr. Garrison'), ('country', 'United States of America'), ('gender', 'transgender female')]\n",
      "[('name', 'Halimah Yacob'), ('country', 'Singapore'), ('gender', 'female')]\n",
      "[('name', 'Bona Sforza'), ('country', 'Poland'), ('gender', 'female')]\n",
      "[('name', 'Dalia Grybauskaitė'), ('country', 'Lithuania'), ('gender', 'female')]\n",
      "[('name', 'Slavica Đukić Dejanović'), ('country', 'Serbia'), ('gender', 'female')]\n",
      "[('name', 'Nataša Mićić'), ('country', 'Serbia'), ('gender', 'female')]\n",
      "[('name', 'Katerina Sakellaropoulou'), ('country', 'Greece'), ('gender', 'female')]\n",
      "[('name', 'Cristina Fernández de Kirchner'), ('country', 'Argentina'), ('gender', 'female')]\n",
      "[('name', 'Isabel Martínez de Perón'), ('country', 'Argentina'), ('gender', 'female')]\n",
      "[('name', 'Pratibha Patil'), ('country', 'India'), ('gender', 'female')]\n",
      "[('name', 'Hilda C. Heine'), ('country', 'Marshall Islands'), ('gender', 'female')]\n",
      "[('name', 'Sükhbaataryn Yanjmaa'), ('country', 'Mongolia'), ('gender', 'female')]\n",
      "[('name', 'Janet Jagan'), ('country', 'Guyana'), ('gender', 'female')]\n",
      "[('name', 'Paula-Mae Weekes'), ('country', 'Trinidad and Tobago'), ('gender', 'female')]\n",
      "[('name', 'Ertha Pascal-Trouillot'), ('country', 'Haiti'), ('gender', 'female')]\n",
      "[('name', 'Laura Chinchilla'), ('country', 'Costa Rica'), ('gender', 'female')]\n",
      "[('name', 'Roza Otunbayeva'), ('country', 'Kyrgyzstan'), ('gender', 'female')]\n",
      "[('name', 'Bidya Devi Bhandari'), ('country', 'Nepal'), ('gender', 'female')]\n",
      "[('name', 'Chandrika Kumaratunga'), ('country', 'Sri Lanka'), ('gender', 'female')]\n",
      "[('name', 'Tsai Ing-wen'), ('country', 'Taiwan'), ('gender', 'female')]\n",
      "[('name', 'Đặng Thị Ngọc Thịnh'), ('country', 'Vietnam'), ('gender', 'female')]\n",
      "[('name', 'Park Geun-hye'), ('country', 'South Korea'), ('gender', 'female')]\n",
      "[('name', 'Samia Suluhu'), ('country', 'Tanzania'), ('gender', 'female')]\n",
      "[('name', 'Corazon Aquino'), ('country', 'Philippines'), ('gender', 'female')]\n",
      "[('name', 'Gloria Macapagal-Arroyo'), ('country', 'Philippines'), ('gender', 'female')]\n",
      "[('name', 'Catherine Samba-Panza'), ('country', 'Central African Republic'), ('gender', 'female')]\n",
      "[('name', 'Sylvie Kinigi'), ('country', 'Burundi'), ('gender', 'female')]\n"
     ]
    },
    {
     "data": {
      "text/plain": [
       "48"
      ]
     },
     "execution_count": 52,
     "metadata": {},
     "output_type": "execute_result"
    }
   ],
   "source": [
    "queryString = \"\"\"\n",
    "SELECT DISTINCT ?name ?country ?gender\n",
    "WHERE { \n",
    "\n",
    "?p wdt:P279+ wd:Q248577 . \n",
    "?a wdt:P39 ?p.\n",
    "?p wdt:P17 ?c.\n",
    "?a wdt:P21 ?g.\n",
    "?c sc:name?country .\n",
    "?a sc:name?name .\n",
    "?g sc:name?gender .\n",
    "FILTER (REGEX(?gender,\\\".*female.*\\\"))\n",
    "\n",
    "} \n",
    "LIMIT 200\n",
    "\"\"\"\n",
    "\n",
    "print(\"Results\")\n",
    "run_query(queryString)"
   ]
  },
  {
   "cell_type": "markdown",
   "id": "8d00b50a-bb72-44bb-9beb-e1eb5241fb9a",
   "metadata": {},
   "source": [
    "Do again the query with the constraint that the holder of the title of President Of Republic must be a Human."
   ]
  },
  {
   "cell_type": "code",
   "execution_count": 53,
   "id": "d4c75e5b-e824-4d44-b00a-2b80f8c329f9",
   "metadata": {},
   "outputs": [
    {
     "name": "stdout",
     "output_type": "stream",
     "text": [
      "Results\n",
      "[('name', 'Ameenah Gurib-Fakim'), ('country', 'Mauritius'), ('gender', 'female')]\n",
      "[('name', 'Monique Ohsan Bellepeau'), ('country', 'Mauritius'), ('gender', 'female')]\n",
      "[('name', 'Sahle-Work Zewde'), ('country', 'Ethiopia'), ('gender', 'female')]\n",
      "[('name', 'Vjosa Osmani'), ('country', 'Kosovo'), ('gender', 'female')]\n",
      "[('name', 'Atifete Jahjaga'), ('country', 'Kosovo'), ('gender', 'female')]\n",
      "[('name', 'Dilma Rousseff'), ('country', 'Brazil'), ('gender', 'female')]\n",
      "[('name', 'Vigdís Finnbogadóttir'), ('country', 'Iceland'), ('gender', 'female')]\n",
      "[('name', 'Kersti Kaljulaid'), ('country', 'Estonia'), ('gender', 'female')]\n",
      "[('name', 'Vaira Vīķe-Freiberga'), ('country', 'Latvia'), ('gender', 'female')]\n",
      "[('name', 'Maia Sandu'), ('country', 'Moldova'), ('gender', 'female')]\n",
      "[('name', 'Ema Derossi-Bjelajac'), ('country', 'Croatia'), ('gender', 'female')]\n",
      "[('name', 'Kolinda Grabar-Kitarović'), ('country', 'Croatia'), ('gender', 'female')]\n",
      "[('name', 'Biljana Plavšić'), ('country', 'Bosnia and Herzegovina'), ('gender', 'female')]\n",
      "[('name', 'Željka Cvijanović'), ('country', 'Bosnia and Herzegovina'), ('gender', 'female')]\n",
      "[('name', 'Srebrenka Golić'), ('country', 'Bosnia and Herzegovina'), ('gender', 'female')]\n",
      "[('name', 'Salome Zurabishvili'), ('country', 'Georgia'), ('gender', 'female')]\n",
      "[('name', 'Nino Burjanadze'), ('country', 'Georgia'), ('gender', 'female')]\n",
      "[('name', 'Megawati Sukarnoputri'), ('country', 'Indonesia'), ('gender', 'female')]\n",
      "[('name', 'Ivy Matsepe-Casaburri'), ('country', 'South Africa'), ('gender', 'female')]\n",
      "[('name', 'Halimah Yacob'), ('country', 'Singapore'), ('gender', 'female')]\n",
      "[('name', 'Bona Sforza'), ('country', 'Poland'), ('gender', 'female')]\n",
      "[('name', 'Dalia Grybauskaitė'), ('country', 'Lithuania'), ('gender', 'female')]\n",
      "[('name', 'Slavica Đukić Dejanović'), ('country', 'Serbia'), ('gender', 'female')]\n",
      "[('name', 'Nataša Mićić'), ('country', 'Serbia'), ('gender', 'female')]\n",
      "[('name', 'Katerina Sakellaropoulou'), ('country', 'Greece'), ('gender', 'female')]\n",
      "[('name', 'Cristina Fernández de Kirchner'), ('country', 'Argentina'), ('gender', 'female')]\n",
      "[('name', 'Isabel Martínez de Perón'), ('country', 'Argentina'), ('gender', 'female')]\n",
      "[('name', 'Pratibha Patil'), ('country', 'India'), ('gender', 'female')]\n",
      "[('name', 'Hilda C. Heine'), ('country', 'Marshall Islands'), ('gender', 'female')]\n",
      "[('name', 'Sükhbaataryn Yanjmaa'), ('country', 'Mongolia'), ('gender', 'female')]\n",
      "[('name', 'Janet Jagan'), ('country', 'Guyana'), ('gender', 'female')]\n",
      "[('name', 'Paula-Mae Weekes'), ('country', 'Trinidad and Tobago'), ('gender', 'female')]\n",
      "[('name', 'Ertha Pascal-Trouillot'), ('country', 'Haiti'), ('gender', 'female')]\n",
      "[('name', 'Laura Chinchilla'), ('country', 'Costa Rica'), ('gender', 'female')]\n",
      "[('name', 'Roza Otunbayeva'), ('country', 'Kyrgyzstan'), ('gender', 'female')]\n",
      "[('name', 'Bidya Devi Bhandari'), ('country', 'Nepal'), ('gender', 'female')]\n",
      "[('name', 'Chandrika Kumaratunga'), ('country', 'Sri Lanka'), ('gender', 'female')]\n",
      "[('name', 'Tsai Ing-wen'), ('country', 'Taiwan'), ('gender', 'female')]\n",
      "[('name', 'Đặng Thị Ngọc Thịnh'), ('country', 'Vietnam'), ('gender', 'female')]\n",
      "[('name', 'Park Geun-hye'), ('country', 'South Korea'), ('gender', 'female')]\n",
      "[('name', 'Samia Suluhu'), ('country', 'Tanzania'), ('gender', 'female')]\n",
      "[('name', 'Corazon Aquino'), ('country', 'Philippines'), ('gender', 'female')]\n",
      "[('name', 'Gloria Macapagal-Arroyo'), ('country', 'Philippines'), ('gender', 'female')]\n",
      "[('name', 'Catherine Samba-Panza'), ('country', 'Central African Republic'), ('gender', 'female')]\n",
      "[('name', 'Sylvie Kinigi'), ('country', 'Burundi'), ('gender', 'female')]\n"
     ]
    },
    {
     "data": {
      "text/plain": [
       "45"
      ]
     },
     "execution_count": 53,
     "metadata": {},
     "output_type": "execute_result"
    }
   ],
   "source": [
    "queryString = \"\"\"\n",
    "SELECT DISTINCT ?name ?country ?gender\n",
    "WHERE { \n",
    "\n",
    "?p wdt:P279+ wd:Q248577 . \n",
    "?a wdt:P39 ?p;\n",
    "    wdt:P31 wd:Q5.\n",
    "?p wdt:P17 ?c.\n",
    "?a wdt:P21 ?g.\n",
    "?c sc:name?country .\n",
    "?a sc:name?name .\n",
    "?g sc:name?gender .\n",
    "FILTER (REGEX(?gender,\\\".*female.*\\\"))\n",
    "\n",
    "} \n",
    "LIMIT 200\n",
    "\"\"\"\n",
    "\n",
    "print(\"Results\")\n",
    "run_query(queryString)"
   ]
  },
  {
   "cell_type": "markdown",
   "id": "e8406105-cccd-434a-86cd-a5b875627209",
   "metadata": {},
   "source": [
    "Found something strange!!  Maybe also people from tv series or films is considered as president! (Mr. Garrison)"
   ]
  },
  {
   "cell_type": "markdown",
   "id": "1abc43e1-4328-4d8b-8e9b-6f29ac3a9dd5",
   "metadata": {
    "jp-MarkdownHeadingCollapsed": true,
    "tags": []
   },
   "source": [
    "## Task 5\n",
    "Analyze the number of presidents per country through time\n",
    "\n",
    "5.1 What are the top-5 countries for number of presidents? Which countries had the least?\n",
    "\n",
    "5.2 For how many presidents we know a date of death in each country?\n",
    "\n",
    "5.3 Which are the professions of different presidents? How many presidents had a specific profession?"
   ]
  },
  {
   "cell_type": "code",
   "execution_count": 27,
   "id": "2412ec4f-dee5-4ffd-809a-7001582a954f",
   "metadata": {},
   "outputs": [
    {
     "name": "stdout",
     "output_type": "stream",
     "text": [
      "Results\n",
      "[('country', 'Honduras'), ('count', '84')]\n",
      "[('country', 'United States of America'), ('count', '64')]\n",
      "[('country', 'Colombia'), ('count', '60')]\n",
      "[('country', 'Argentina'), ('count', '59')]\n",
      "[('country', 'Mexico'), ('count', '59')]\n"
     ]
    },
    {
     "data": {
      "text/plain": [
       "5"
      ]
     },
     "execution_count": 27,
     "metadata": {},
     "output_type": "execute_result"
    }
   ],
   "source": [
    "#Find the top-5 counties\n",
    "queryString = \"\"\"\n",
    "SELECT ?country count(DISTINCT ?a) AS ?count\n",
    "WHERE { \n",
    "\n",
    "?p wdt:P279+ wd:Q248577 . \n",
    "?a wdt:P39 ?p.\n",
    "?p wdt:P17 ?c.\n",
    "?c sc:name?country .\n",
    "\n",
    "} \n",
    "GROUP BY ?c ?country\n",
    "ORDER BY DESC (?count)\n",
    "LIMIT 5\n",
    "\"\"\"\n",
    "\n",
    "print(\"Results\")\n",
    "run_query(queryString)"
   ]
  },
  {
   "cell_type": "code",
   "execution_count": 28,
   "id": "f5b0e5bc-67f0-4367-b91c-59dc4d73e857",
   "metadata": {},
   "outputs": [
    {
     "name": "stdout",
     "output_type": "stream",
     "text": [
      "Results\n",
      "[('country', 'Confederate States of America'), ('count', '1')]\n",
      "[('country', 'Republic of Kosova'), ('count', '1')]\n",
      "[('country', 'Spanish Empire'), ('count', '1')]\n"
     ]
    },
    {
     "data": {
      "text/plain": [
       "3"
      ]
     },
     "execution_count": 28,
     "metadata": {},
     "output_type": "execute_result"
    }
   ],
   "source": [
    "#Find the countries with the least number of president\n",
    "queryString = \"\"\"\n",
    "SELECT ?country ?count\n",
    "WHERE\n",
    "{\n",
    "    {\n",
    "        SELECT min(?count) AS ?min_c\n",
    "        WHERE\n",
    "        {\n",
    "            SELECT ?country count(DISTINCT ?a) AS ?count\n",
    "            WHERE { \n",
    "\n",
    "            ?p wdt:P279+ wd:Q248577 . \n",
    "            ?a wdt:P39 ?p.\n",
    "            ?p wdt:P17 ?c.\n",
    "            ?c sc:name?country .\n",
    "\n",
    "            } \n",
    "            GROUP BY ?c ?country\n",
    "        }\n",
    "    }\n",
    "    {\n",
    "        SELECT ?country count(DISTINCT ?a) AS ?count\n",
    "        WHERE { \n",
    "\n",
    "        ?p wdt:P279+ wd:Q248577 . \n",
    "        ?a wdt:P39 ?p.\n",
    "        ?p wdt:P17 ?c.\n",
    "        ?c sc:name?country .\n",
    "\n",
    "        } \n",
    "        GROUP BY ?c ?country\n",
    "    }\n",
    "    FILTER(?count=?min_c)\n",
    "}\n",
    "\"\"\"\n",
    "\n",
    "print(\"Results\")\n",
    "run_query(queryString)"
   ]
  },
  {
   "cell_type": "code",
   "execution_count": 29,
   "id": "0b6fafab-a632-43e5-bd5e-6b296e059eb2",
   "metadata": {},
   "outputs": [
    {
     "name": "stdout",
     "output_type": "stream",
     "text": [
      "Results\n",
      "[('country', 'Honduras'), ('count', '83')]\n",
      "[('country', 'Colombia'), ('count', '60')]\n",
      "[('country', 'Argentina'), ('count', '59')]\n",
      "[('country', 'Mexico'), ('count', '59')]\n",
      "[('country', 'Venezuela'), ('count', '58')]\n"
     ]
    },
    {
     "data": {
      "text/plain": [
       "5"
      ]
     },
     "execution_count": 29,
     "metadata": {},
     "output_type": "execute_result"
    }
   ],
   "source": [
    "#Do the query again with the constraint that I looking just for a human.\n",
    "queryString = \"\"\"\n",
    "SELECT ?country count(DISTINCT ?a) AS ?count\n",
    "WHERE { \n",
    "\n",
    "?p wdt:P279+ wd:Q248577 . \n",
    "?a wdt:P39 ?p;\n",
    "    wdt:P31 wd:Q5.\n",
    "?p wdt:P17 ?c.\n",
    "?c sc:name?country .\n",
    "\n",
    "} \n",
    "GROUP BY ?c ?country\n",
    "ORDER BY DESC (?count)\n",
    "LIMIT 5\n",
    "\"\"\"\n",
    "\n",
    "print(\"Results\")\n",
    "run_query(queryString)"
   ]
  },
  {
   "cell_type": "markdown",
   "id": "a28e47c2-dded-43b2-8a6b-57f5d59a4522",
   "metadata": {},
   "source": [
    "Found that United States of America as a lot of \"imaginary\" president. In fact my intuition was born since I noticed this strange number of president of United States, 64. And running again the query I found 45 that is the right number of president of United States in the history.\n",
    "\n",
    "Anyway I will not keep this constraint for the other query.\n",
    "\n",
    "Find how many president we know the date of death for each country"
   ]
  },
  {
   "cell_type": "code",
   "execution_count": 57,
   "id": "1e7e7c3a-7b06-4ae9-bd67-1f01f8be678e",
   "metadata": {},
   "outputs": [
    {
     "name": "stdout",
     "output_type": "stream",
     "text": [
      "Results\n",
      "[('country', 'Honduras'), ('num_of_death', '72')]\n",
      "[('country', 'Venezuela'), ('num_of_death', '55')]\n",
      "[('country', 'Colombia'), ('num_of_death', '54')]\n",
      "[('country', 'Mexico'), ('num_of_death', '52')]\n",
      "[('country', 'Argentina'), ('num_of_death', '51')]\n",
      "[('country', 'Paraguay'), ('num_of_death', '49')]\n",
      "[('country', 'Haiti'), ('num_of_death', '48')]\n",
      "[('country', 'Peru'), ('num_of_death', '44')]\n",
      "[('country', 'Guatemala'), ('num_of_death', '43')]\n",
      "[('country', 'United States of America'), ('num_of_death', '39')]\n",
      "[('country', 'Brazil'), ('num_of_death', '35')]\n",
      "[('country', 'Chile'), ('num_of_death', '34')]\n",
      "[('country', 'Costa Rica'), ('num_of_death', '33')]\n",
      "[('country', 'Cuba'), ('num_of_death', '28')]\n",
      "[('country', 'Syria'), ('num_of_death', '24')]\n",
      "[('country', 'Federal Republic of Central America'), ('num_of_death', '22')]\n",
      "[('country', 'El Salvador'), ('num_of_death', '21')]\n",
      "[('country', 'Taiwan'), ('num_of_death', '17')]\n",
      "[('country', 'Portugal'), ('num_of_death', '16')]\n",
      "[('country', 'Lebanon'), ('num_of_death', '16')]\n"
     ]
    },
    {
     "data": {
      "text/plain": [
       "20"
      ]
     },
     "execution_count": 57,
     "metadata": {},
     "output_type": "execute_result"
    }
   ],
   "source": [
    "queryString = \"\"\"\n",
    "SELECT ?country count(DISTINCT ?a) AS ?num_of_death\n",
    "WHERE { \n",
    "\n",
    "?p wdt:P279+ wd:Q248577 . \n",
    "?a wdt:P39 ?p;\n",
    "    wdt:P570 ?o.\n",
    "?p wdt:P17 ?c.\n",
    "\n",
    "?c sc:name?country .\n",
    "}\n",
    "GROUP BY ?country\n",
    "ORDER BY DESC (?num_of_death)\n",
    "LIMIT 20\n",
    "\"\"\"\n",
    "\n",
    "print(\"Results\")\n",
    "run_query(queryString)"
   ]
  },
  {
   "cell_type": "markdown",
   "id": "7e6ed4ee-60ee-4aa8-92ca-1186aec962d0",
   "metadata": {},
   "source": [
    "Find the professions of different presidents."
   ]
  },
  {
   "cell_type": "code",
   "execution_count": 58,
   "id": "a61f0e43-5f3b-425f-8931-1d84ab8e9b1b",
   "metadata": {},
   "outputs": [
    {
     "name": "stdout",
     "output_type": "stream",
     "text": [
      "Results\n",
      "[('prof', 'http://www.wikidata.org/entity/Q2267418'), ('profession', 'industrial engineer')]\n",
      "[('prof', 'http://www.wikidata.org/entity/Q26267537'), ('profession', 'serial rapist')]\n",
      "[('prof', 'http://www.wikidata.org/entity/Q12013238'), ('profession', 'ophthalmologist')]\n",
      "[('prof', 'http://www.wikidata.org/entity/Q1569495'), ('profession', 'lecturer')]\n",
      "[('prof', 'http://www.wikidata.org/entity/Q183318'), ('profession', 'dictator')]\n",
      "[('prof', 'http://www.wikidata.org/entity/Q202883'), ('profession', 'veterinarian')]\n",
      "[('prof', 'http://www.wikidata.org/entity/Q212238'), ('profession', 'civil servant')]\n",
      "[('prof', 'http://www.wikidata.org/entity/Q2159907'), ('profession', 'criminal')]\n",
      "[('prof', 'http://www.wikidata.org/entity/Q3264451'), ('profession', 'cardiologist')]\n",
      "[('prof', 'http://www.wikidata.org/entity/Q47227062'), ('profession', 'agitator')]\n",
      "[('prof', 'http://www.wikidata.org/entity/Q83307'), ('profession', 'minister')]\n",
      "[('prof', 'http://www.wikidata.org/entity/Q849424'), ('profession', 'ship captain')]\n",
      "[('prof', 'http://www.wikidata.org/entity/Q998550'), ('profession', 'bookseller')]\n",
      "[('prof', 'http://www.wikidata.org/entity/Q12299841'), ('profession', 'cricketer')]\n",
      "[('prof', 'http://www.wikidata.org/entity/Q168559'), ('profession', 'political commissar')]\n",
      "[('prof', 'http://www.wikidata.org/entity/Q2135469'), ('profession', 'legal counsel')]\n",
      "[('prof', 'http://www.wikidata.org/entity/Q2135538'), ('profession', 'legal historian')]\n",
      "[('prof', 'http://www.wikidata.org/entity/Q242468'), ('profession', 'tailor')]\n",
      "[('prof', 'http://www.wikidata.org/entity/Q154549'), ('profession', 'carpenter')]\n",
      "[('prof', 'http://www.wikidata.org/entity/Q4108101'), ('profession', 'typesetter')]\n"
     ]
    },
    {
     "data": {
      "text/plain": [
       "20"
      ]
     },
     "execution_count": 58,
     "metadata": {},
     "output_type": "execute_result"
    }
   ],
   "source": [
    "queryString = \"\"\"\n",
    "SELECT DISTINCT ?prof ?profession\n",
    "WHERE { \n",
    "\n",
    "?p wdt:P279+ wd:Q248577 . \n",
    "?a wdt:P39 ?p;\n",
    "    wdt:P106 ?prof.\n",
    "\n",
    "?prof sc:name?profession .\n",
    "}\n",
    "LIMIT 20\n",
    "\"\"\"\n",
    "\n",
    "print(\"Results\")\n",
    "run_query(queryString)"
   ]
  },
  {
   "cell_type": "markdown",
   "id": "45c04425-25a4-4fb3-aafb-f0203785b9f8",
   "metadata": {},
   "source": [
    "How many presidents had a specific profession?"
   ]
  },
  {
   "cell_type": "code",
   "execution_count": 59,
   "id": "7d74a5ce-9039-4307-a9c2-e64147b69950",
   "metadata": {},
   "outputs": [
    {
     "name": "stdout",
     "output_type": "stream",
     "text": [
      "Results\n",
      "[('a', 'http://www.wikidata.org/entity/Q436743'), ('name', 'José María Peralta'), ('num_of_prof', '1')]\n",
      "[('a', 'http://www.wikidata.org/entity/Q57452'), ('name', 'François Bozizé'), ('num_of_prof', '1')]\n",
      "[('a', 'http://www.wikidata.org/entity/Q290061'), ('name', 'Veerasamy Ringadoo'), ('num_of_prof', '1')]\n",
      "[('a', 'http://www.wikidata.org/entity/Q755794'), ('name', 'Ati George Sokomanu'), ('num_of_prof', '1')]\n",
      "[('a', 'http://www.wikidata.org/entity/Q5939792'), ('name', 'Francisco Gómez'), ('num_of_prof', '1')]\n",
      "[('a', 'http://www.wikidata.org/entity/Q320103'), ('name', 'Souphanouvong'), ('num_of_prof', '1')]\n",
      "[('a', 'http://www.wikidata.org/entity/Q537067'), ('name', 'Jamtsangiin Damdinsüren'), ('num_of_prof', '1')]\n",
      "[('a', 'http://www.wikidata.org/entity/Q5220343'), ('name', 'Danny Faure'), ('num_of_prof', '1')]\n",
      "[('a', 'http://www.wikidata.org/entity/Q11613'), ('name', 'Harry S Truman'), ('num_of_prof', '1')]\n",
      "[('a', 'http://www.wikidata.org/entity/Q449421'), ('name', 'Jean-Pierre Boyer'), ('num_of_prof', '1')]\n",
      "[('a', 'http://www.wikidata.org/entity/Q712545'), ('name', 'Zhou Ziqi'), ('num_of_prof', '1')]\n",
      "[('a', 'http://www.wikidata.org/entity/Q215585'), ('name', 'Abdullahi Yusuf Ahmed'), ('num_of_prof', '1')]\n",
      "[('a', 'http://www.wikidata.org/entity/Q208355'), ('name', 'Joaquim Chissano'), ('num_of_prof', '1')]\n",
      "[('a', 'http://www.wikidata.org/entity/Q57343'), ('name', 'Pierre Nkurunziza'), ('num_of_prof', '1')]\n",
      "[('a', 'http://www.wikidata.org/entity/Q206048'), ('name', 'Joseph Kasa-Vubu'), ('num_of_prof', '1')]\n",
      "[('a', 'http://www.wikidata.org/entity/Q29032770'), ('name', 'Félix Tshisekedi'), ('num_of_prof', '1')]\n",
      "[('a', 'http://www.wikidata.org/entity/Q24272014'), ('name', 'Khatri Addouh'), ('num_of_prof', '1')]\n",
      "[('a', 'http://www.wikidata.org/entity/Q560853'), ('name', 'Faustin Soulouque'), ('num_of_prof', '1')]\n",
      "[('a', 'http://www.wikidata.org/entity/Q1028694'), ('name', 'José María Silva'), ('num_of_prof', '1')]\n",
      "[('a', 'http://www.wikidata.org/entity/Q16051068'), ('name', \"Hussein 'Abid al-Majid\"), ('num_of_prof', '1')]\n",
      "[('a', 'http://www.wikidata.org/entity/Q362851'), ('name', 'Grzegorz Schetyna'), ('num_of_prof', '1')]\n",
      "[('a', 'http://www.wikidata.org/entity/Q887902'), ('name', 'Manuel María Orellana Contreras'), ('num_of_prof', '1')]\n",
      "[('a', 'http://www.wikidata.org/entity/Q293385'), ('name', 'Óscar Humberto Mejía Víctores'), ('num_of_prof', '1')]\n",
      "[('a', 'http://www.wikidata.org/entity/Q433057'), ('name', 'Godfrey Binaisa'), ('num_of_prof', '1')]\n",
      "[('a', 'http://www.wikidata.org/entity/Q602597'), ('name', 'Antonio José Cañas'), ('num_of_prof', '1')]\n",
      "[('a', 'http://www.wikidata.org/entity/Q358332'), ('name', 'Domitien Ndayizeye'), ('num_of_prof', '1')]\n",
      "[('a', 'http://www.wikidata.org/entity/Q3512801'), ('name', 'Pero Car'), ('num_of_prof', '1')]\n",
      "[('a', 'http://www.wikidata.org/entity/Q455317'), ('name', 'Bernardino Machado'), ('num_of_prof', '1')]\n",
      "[('a', 'http://www.wikidata.org/entity/Q23034482'), ('name', 'Taneti Maamau'), ('num_of_prof', '1')]\n",
      "[('a', 'http://www.wikidata.org/entity/Q470024'), ('name', 'Bounnhang Vorachith'), ('num_of_prof', '1')]\n",
      "[('a', 'http://www.wikidata.org/entity/Q2497517'), ('name', 'José María Carreño'), ('num_of_prof', '1')]\n",
      "[('a', 'http://www.wikidata.org/entity/Q886454'), ('name', 'Cincinnatus Leconte'), ('num_of_prof', '1')]\n",
      "[('a', 'http://www.wikidata.org/entity/Q1710555'), ('name', 'Juan López'), ('num_of_prof', '1')]\n",
      "[('a', 'http://www.wikidata.org/entity/Q155402'), ('name', 'Ahmed Sékou Touré'), ('num_of_prof', '1')]\n",
      "[('a', 'http://www.wikidata.org/entity/Q464346'), ('name', 'Sükhbaataryn Yanjmaa'), ('num_of_prof', '1')]\n",
      "[('a', 'http://www.wikidata.org/entity/Q57324'), ('name', 'Blaise Compaoré'), ('num_of_prof', '1')]\n",
      "[('a', 'http://www.wikidata.org/entity/Q19588456'), ('name', 'Fernando Rodríguez del Toro'), ('num_of_prof', '1')]\n",
      "[('a', 'http://www.wikidata.org/entity/Q14362'), ('name', 'Chun Doo-hwan'), ('num_of_prof', '1')]\n",
      "[('a', 'http://www.wikidata.org/entity/Q885542'), ('name', 'Juan Federico Ponce Vaides'), ('num_of_prof', '1')]\n",
      "[('a', 'http://www.wikidata.org/entity/Q376057'), ('name', 'José Gregorio Salazar'), ('num_of_prof', '1')]\n",
      "[('a', 'http://www.wikidata.org/entity/Q646182'), ('name', 'Mohamed Osman Jawari'), ('num_of_prof', '1')]\n",
      "[('a', 'http://www.wikidata.org/entity/Q433525'), ('name', 'Francisco Bertrand'), ('num_of_prof', '1')]\n",
      "[('a', 'http://www.wikidata.org/entity/Q353458'), ('name', 'Henri Christophe'), ('num_of_prof', '1')]\n",
      "[('a', 'http://www.wikidata.org/entity/Q484816'), ('name', 'Kurmanbek Bakiyev'), ('num_of_prof', '1')]\n",
      "[('a', 'http://www.wikidata.org/entity/Q559681'), ('name', 'Richard Ratsimandrava'), ('num_of_prof', '1')]\n",
      "[('a', 'http://www.wikidata.org/entity/Q380668'), ('name', 'Shehu Shagari'), ('num_of_prof', '1')]\n",
      "[('a', 'http://www.wikidata.org/entity/Q878859'), ('name', 'Gilles Andriamahazo'), ('num_of_prof', '1')]\n",
      "[('a', 'http://www.wikidata.org/entity/Q886204'), ('name', 'Lysius Salomon'), ('num_of_prof', '1')]\n",
      "[('a', 'http://www.wikidata.org/entity/Q334851'), ('name', 'Zail Singh'), ('num_of_prof', '1')]\n",
      "[('a', 'http://www.wikidata.org/entity/Q59981'), ('name', 'Shukri al-Quwatli'), ('num_of_prof', '1')]\n",
      "[('a', 'http://www.wikidata.org/entity/Q1664032'), ('name', 'Mariano Garrigó'), ('num_of_prof', '1')]\n",
      "[('a', 'http://www.wikidata.org/entity/Q5945970'), ('name', 'José Venancio López'), ('num_of_prof', '1')]\n",
      "[('a', 'http://www.wikidata.org/entity/Q130963'), ('name', 'David Samanez Ocampo'), ('num_of_prof', '1')]\n",
      "[('a', 'http://www.wikidata.org/entity/Q886231'), ('name', 'Philippe Guerrier'), ('num_of_prof', '1')]\n",
      "[('a', 'http://www.wikidata.org/entity/Q355458'), ('name', 'Dahir Rayale Kahin'), ('num_of_prof', '1')]\n",
      "[('a', 'http://www.wikidata.org/entity/Q2656612'), ('name', 'Gazanfar Musabekov'), ('num_of_prof', '1')]\n",
      "[('a', 'http://www.wikidata.org/entity/Q6737124'), ('name', 'Maithripala Sirisena'), ('num_of_prof', '1')]\n",
      "[('a', 'http://www.wikidata.org/entity/Q561554'), ('name', 'Emilio Aceval'), ('num_of_prof', '1')]\n",
      "[('a', 'http://www.wikidata.org/entity/Q10966309'), ('name', 'Jerónimo de Mendoza Galavís'), ('num_of_prof', '1')]\n",
      "[('a', 'http://www.wikidata.org/entity/Q887688'), ('name', 'Vernon Shaw'), ('num_of_prof', '1')]\n",
      "[('a', 'http://www.wikidata.org/entity/Q57545'), ('name', 'Kailash Purryag'), ('num_of_prof', '1')]\n",
      "[('a', 'http://www.wikidata.org/entity/Q886457'), ('name', 'Florvil Hyppolite'), ('num_of_prof', '1')]\n",
      "[('a', 'http://www.wikidata.org/entity/Q861579'), ('name', 'Juan Bautista Gaona'), ('num_of_prof', '1')]\n",
      "[('a', 'http://www.wikidata.org/entity/Q24669'), ('name', 'Ishenbai Kadyrbekov'), ('num_of_prof', '1')]\n",
      "[('a', 'http://www.wikidata.org/entity/Q888030'), ('name', 'Maamun al-Kuzbari'), ('num_of_prof', '1')]\n",
      "[('a', 'http://www.wikidata.org/entity/Q878868'), ('name', 'Ali Soilih'), ('num_of_prof', '1')]\n",
      "[('a', 'http://www.wikidata.org/entity/Q27982047'), ('name', 'Carlos Vila Nova'), ('num_of_prof', '1')]\n",
      "[('a', 'http://www.wikidata.org/entity/Q381002'), ('name', 'Francisco Flores Pérez'), ('num_of_prof', '1')]\n",
      "[('a', 'http://www.wikidata.org/entity/Q210069'), ('name', 'Apollo Milton Obote'), ('num_of_prof', '1')]\n",
      "[('a', 'http://www.wikidata.org/entity/Q886431'), ('name', 'François Denys Légitime'), ('num_of_prof', '1')]\n",
      "[('a', 'http://www.wikidata.org/entity/Q76127'), ('name', 'Sukarno'), ('num_of_prof', '1')]\n",
      "[('a', 'http://www.wikidata.org/entity/Q4267170'), ('name', 'Tsagaanlamyn Dügersüren'), ('num_of_prof', '1')]\n",
      "[('a', 'http://www.wikidata.org/entity/Q47139'), ('name', 'Slobodan Milošević'), ('num_of_prof', '1')]\n",
      "[('a', 'http://www.wikidata.org/entity/Q880148'), ('name', 'Guillermo Flores Avendaño'), ('num_of_prof', '1')]\n",
      "[('a', 'http://www.wikidata.org/entity/Q312185'), ('name', 'Edward Gierek'), ('num_of_prof', '1')]\n",
      "[('a', 'http://www.wikidata.org/entity/Q437407'), ('name', 'Elfego Hernán Monzón Aguirre'), ('num_of_prof', '1')]\n",
      "[('a', 'http://www.wikidata.org/entity/Q16873213'), ('name', 'Pascal Nyabenda'), ('num_of_prof', '1')]\n",
      "[('a', 'http://www.wikidata.org/entity/Q156806'), ('name', 'Konstantinos Karamanlis'), ('num_of_prof', '1')]\n",
      "[('a', 'http://www.wikidata.org/entity/Q10836486'), ('name', 'Branko Đerić'), ('num_of_prof', '1')]\n",
      "[('a', 'http://www.wikidata.org/entity/Q702428'), ('name', 'Xu Shichang'), ('num_of_prof', '1')]\n",
      "[('a', 'http://www.wikidata.org/entity/Q96181216'), ('name', 'Olivia Marsdin'), ('num_of_prof', '1')]\n",
      "[('a', 'http://www.wikidata.org/entity/Q1709199'), ('name', 'José Francisco Montes'), ('num_of_prof', '1')]\n",
      "[('a', 'http://www.wikidata.org/entity/Q881094'), ('name', 'Miguel Paz Barahona'), ('num_of_prof', '1')]\n",
      "[('a', 'http://www.wikidata.org/entity/Q323628'), ('name', 'Cassam Uteem'), ('num_of_prof', '1')]\n",
      "[('a', 'http://www.wikidata.org/entity/Q954205'), ('name', 'Kunio Lemari'), ('num_of_prof', '1')]\n",
      "[('a', 'http://www.wikidata.org/entity/Q1986756'), ('name', 'Jorge Toriello Garrido'), ('num_of_prof', '1')]\n",
      "[('a', 'http://www.wikidata.org/entity/Q5297058'), ('name', 'Doom 2099'), ('num_of_prof', '1')]\n",
      "[('a', 'http://www.wikidata.org/entity/Q37679'), ('name', 'Fulgencio Yegros'), ('num_of_prof', '1')]\n",
      "[('a', 'http://www.wikidata.org/entity/Q57539'), ('name', 'Otto Pérez Molina'), ('num_of_prof', '1')]\n",
      "[('a', 'http://www.wikidata.org/entity/Q37677'), ('name', 'Francisco Solano López'), ('num_of_prof', '1')]\n",
      "[('a', 'http://www.wikidata.org/entity/Q370225'), ('name', 'Florencio Xatruch'), ('num_of_prof', '1')]\n",
      "[('a', 'http://www.wikidata.org/entity/Q5993760'), ('name', 'Manuel Merino'), ('num_of_prof', '1')]\n",
      "[('a', 'http://www.wikidata.org/entity/Q76658'), ('name', 'Frank-Walter Steinmeier'), ('num_of_prof', '1')]\n",
      "[('a', 'http://www.wikidata.org/entity/Q57431'), ('name', 'Tomislav Nikolić'), ('num_of_prof', '1')]\n",
      "[('a', 'http://www.wikidata.org/entity/Q401076'), ('name', 'Ahmed Abdallah'), ('num_of_prof', '1')]\n",
      "[('a', 'http://www.wikidata.org/entity/Q318458'), ('name', 'Nguyen Phu Trong'), ('num_of_prof', '1')]\n",
      "[('a', 'http://www.wikidata.org/entity/Q609400'), ('name', 'Igor Radojičić'), ('num_of_prof', '1')]\n",
      "[('a', 'http://www.wikidata.org/entity/Q738679'), ('name', 'Bernardino Caballero'), ('num_of_prof', '1')]\n",
      "[('a', 'http://www.wikidata.org/entity/Q437951'), ('name', 'Juan Francisco de Molina'), ('num_of_prof', '1')]\n",
      "[('a', 'http://www.wikidata.org/entity/Q318508'), ('name', 'Andrés Manuel López Obrador'), ('num_of_prof', '1')]\n"
     ]
    },
    {
     "data": {
      "text/plain": [
       "100"
      ]
     },
     "execution_count": 59,
     "metadata": {},
     "output_type": "execute_result"
    }
   ],
   "source": [
    "queryString = \"\"\"\n",
    "SELECT ?a ?name (count(DISTINCT ?prof) AS ?num_of_prof)\n",
    "WHERE { \n",
    "\n",
    "?p wdt:P279+ wd:Q248577 . \n",
    "?a wdt:P39 ?p;\n",
    "    wdt:P106 ?prof.\n",
    "\n",
    "?prof sc:name?profession .\n",
    "?a sc:name?name .\n",
    "}\n",
    "GROUP BY ?a ?name\n",
    "HAVING (count(DISTINCT ?prof) =1)\n",
    "LIMIT 100\n",
    "\"\"\"\n",
    "\n",
    "print(\"Results\")\n",
    "run_query(queryString)"
   ]
  },
  {
   "cell_type": "code",
   "execution_count": null,
   "id": "b6801b1a-33f7-487f-82d2-ffcf2431e9b8",
   "metadata": {},
   "outputs": [],
   "source": []
  }
 ],
 "metadata": {
  "kernelspec": {
   "display_name": "Python 3",
   "language": "python",
   "name": "python3"
  },
  "language_info": {
   "codemirror_mode": {
    "name": "ipython",
    "version": 3
   },
   "file_extension": ".py",
   "mimetype": "text/x-python",
   "name": "python",
   "nbconvert_exporter": "python",
   "pygments_lexer": "ipython3",
   "version": "3.7.10"
  }
 },
 "nbformat": 4,
 "nbformat_minor": 5
}
