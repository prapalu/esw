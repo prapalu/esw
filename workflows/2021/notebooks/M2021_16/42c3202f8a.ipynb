{
 "cells": [
  {
   "cell_type": "markdown",
   "id": "7034c3bf-6eb0-4418-8687-7b9d2a501103",
   "metadata": {},
   "source": [
    "# General instructions\n",
    "\n",
    "The goal of the project is to materialize a set of **exploratory workloads** over a real-world, large-scale,  open-domain KG: [WikiData](https://www.wikidata.org/wiki/Wikidata:Main_Page)\n",
    "\n",
    "An exploratory workload  is composed by a set of queries, where each query is related to the information obtained previously.\n",
    "\n",
    "An exploratory workload starts with a usually vague, open ended question, and does not assume the person issuing the workload has a clear understanding of the data contained in the target database or its structure.\n",
    "\n",
    "Remeber that:\n",
    "\n",
    "1. All the queries must run in the python notebook\n",
    "2. You can use classes and properties only if you find them via a SPARQL query that must be present in the notebook\n",
    "3. You do not delete useless queries. Keep everything that is synthatically valid \n",
    "\n",
    "```\n",
    "?p <http://schema.org/name> ?name .\n",
    "```\n",
    "    \n",
    "is the BGP returning a human-readable name of a property or a class in Wikidata.\n",
    "    \n",
    "    "
   ]
  },
  {
   "cell_type": "code",
   "execution_count": 89,
   "id": "3605c9d5-5371-49a5-be8d-d66e8f417139",
   "metadata": {},
   "outputs": [],
   "source": [
    "## SETUP used later\n",
    "\n",
    "from SPARQLWrapper import SPARQLWrapper, JSON\n",
    "\n",
    "\n",
    "prefixString = \"\"\"\n",
    "##-42c3202f8a-##\n",
    "PREFIX wd: <http://www.wikidata.org/entity/> \n",
    "PREFIX wdt: <http://www.wikidata.org/prop/direct/> \n",
    "PREFIX sc: <http://schema.org/>\n",
    "\"\"\"\n",
    "\n",
    "# select and construct queries\n",
    "def run_query(queryString):\n",
    "    to_run = prefixString + \"\\n\" + queryString\n",
    "\n",
    "    sparql = SPARQLWrapper(\"http://a256-gc1-02.srv.aau.dk:5820/sparql\")\n",
    "    sparql.setTimeout(300)\n",
    "    sparql.setReturnFormat(JSON)\n",
    "    sparql.setQuery(to_run)\n",
    "\n",
    "    try :\n",
    "       results = sparql.query()\n",
    "       json_results = results.convert()\n",
    "       if len(json_results['results']['bindings'])==0:\n",
    "          print(\"Empty\")\n",
    "          return 0\n",
    "    \n",
    "       for bindings in json_results['results']['bindings']:\n",
    "          print( [ (var, value['value'])  for var, value in bindings.items() ] )\n",
    "\n",
    "       return len(json_results['results']['bindings'])\n",
    "\n",
    "    except Exception as e :\n",
    "        print(\"The operation failed\", e)\n",
    "    \n",
    "# ASk queries\n",
    "def run_ask_query(queryString):\n",
    "    to_run = prefixString + \"\\n\" + queryString\n",
    "\n",
    "    sparql = SPARQLWrapper(\"http://a256-gc1-03.srv.aau.dk:5820/sparql\")\n",
    "    sparql.setTimeout(300)\n",
    "    sparql.setReturnFormat(JSON)\n",
    "    sparql.setQuery(to_run)\n",
    "\n",
    "    try :\n",
    "        return sparql.query().convert()\n",
    "\n",
    "    except Exception as e :\n",
    "        print(\"The operation failed\", e)\n"
   ]
  },
  {
   "cell_type": "markdown",
   "id": "d477a59c-a68c-4c8f-9f97-8ca5294d7d27",
   "metadata": {},
   "source": [
    "# Companies Workflow Series (\"Trademarks across the world\") \n",
    "\n",
    "Consider the following exploratory information need:\n",
    "\n",
    "> You are investigating different kinds of trademarks"
   ]
  },
  {
   "cell_type": "markdown",
   "id": "4a45c0ba-f79e-441d-bec5-84401b09db70",
   "metadata": {},
   "source": [
    "## Useful URIs for the current workflow\n",
    "\n",
    "\n",
    "The following are given:\n",
    "\n",
    "| IRI           | Description   | Role      |\n",
    "| -----------   | -----------   |-----------|\n",
    "| `wdt:P1647`   | subproperty   | predicate |\n",
    "| `wdt:P31`     | instance of   | predicate |\n",
    "| `wdt:P279`    | subclass      | predicate |\n",
    "| `wdt:P17`      | country       | predicate |\n",
    "| `wdt:P27`      | citizenship   | predicate |\n",
    "| `wd:Q167270`  | trademark     | node      |\n",
    "| `wd:Q14091`   | iMac          | node      |\n",
    "| `wd:Q312`     | Apple Inc.    | node      |\n",
    "\n",
    "\n",
    "\n",
    "Also consider\n",
    "\n",
    "```\n",
    "?p wdt:P31/wdt:P279* wd:Q167270  . \n",
    "```\n",
    "\n",
    "is the BGP to retrieve all **entities that are trademarks**"
   ]
  },
  {
   "cell_type": "markdown",
   "id": "7af439fb-96e4-4dbb-a381-f19afab79f86",
   "metadata": {
    "tags": []
   },
   "source": [
    "## Workload Goals\n",
    "\n",
    "1. Identify the BGP for the company or person related to a given trademark\n",
    "\n",
    "2. Identify the BGP to retrieve types or categories for a given trademark\n",
    "\n",
    "3. What companies have the largest number of trademarks? \n",
    "\n",
    "4. What are the types of trademarks, how many trademarks exist for each type?\n",
    "\n",
    "5. Analyze the number of trademarks across types, companies, and countries\n",
    " \n",
    "   5.1 How many U.S. companies hold trademarks? In which sectors?\n",
    "   \n",
    "   5.2 How many people hold or are connected to trademarks? In which role?\n",
    "   \n",
    "   5.3 In which sector there is the highest number of trademarks?   \n"
   ]
  },
  {
   "cell_type": "code",
   "execution_count": 3,
   "id": "24a853ab-830c-422c-afd3-e9e015b8b8ed",
   "metadata": {},
   "outputs": [],
   "source": [
    "# start your workflow here "
   ]
  },
  {
   "cell_type": "code",
   "execution_count": 4,
   "id": "ade01416-92e7-4ad7-b9a9-b8fb330750dc",
   "metadata": {},
   "outputs": [
    {
     "name": "stdout",
     "output_type": "stream",
     "text": [
      "Results\n",
      "[('callret-0', '44700')]\n"
     ]
    },
    {
     "data": {
      "text/plain": [
       "1"
      ]
     },
     "execution_count": 4,
     "metadata": {},
     "output_type": "execute_result"
    }
   ],
   "source": [
    "queryString = \"\"\"\n",
    "SELECT COUNT(?p)\n",
    "WHERE { \n",
    "\n",
    "\n",
    "?p wdt:P31/wdt:P279* wd:Q167270  . \n",
    "\n",
    "} \n",
    "LIMIT 3\n",
    "\"\"\"\n",
    "\n",
    "print(\"Results\")\n",
    "run_query(queryString)"
   ]
  },
  {
   "cell_type": "code",
   "execution_count": 20,
   "id": "9ea5c6b0-8d55-4e5f-acb8-17d75f944ca8",
   "metadata": {},
   "outputs": [
    {
     "name": "stdout",
     "output_type": "stream",
     "text": [
      "Results\n",
      "[('p', 'http://www.wikidata.org/prop/direct/P1056'), ('pName', 'product or material produced')]\n",
      "[('p', 'http://www.wikidata.org/prop/direct/P112'), ('pName', 'founded by')]\n",
      "[('p', 'http://www.wikidata.org/prop/direct/P1151'), ('pName', \"topic's main Wikimedia portal\")]\n",
      "[('p', 'http://www.wikidata.org/prop/direct/P127'), ('pName', 'owned by')]\n",
      "[('p', 'http://www.wikidata.org/prop/direct/P1343'), ('pName', 'described by source')]\n",
      "[('p', 'http://www.wikidata.org/prop/direct/P138'), ('pName', 'named after')]\n",
      "[('p', 'http://www.wikidata.org/prop/direct/P1454'), ('pName', 'legal form')]\n",
      "[('p', 'http://www.wikidata.org/prop/direct/P154'), ('pName', 'logo image')]\n",
      "[('p', 'http://www.wikidata.org/prop/direct/P1546'), ('pName', 'motto')]\n",
      "[('p', 'http://www.wikidata.org/prop/direct/P159'), ('pName', 'headquarters location')]\n",
      "[('p', 'http://www.wikidata.org/prop/direct/P166'), ('pName', 'award received')]\n",
      "[('p', 'http://www.wikidata.org/prop/direct/P169'), ('pName', 'chief executive officer')]\n",
      "[('p', 'http://www.wikidata.org/prop/direct/P17'), ('pName', 'country')]\n",
      "[('p', 'http://www.wikidata.org/prop/direct/P18'), ('pName', 'image')]\n",
      "[('p', 'http://www.wikidata.org/prop/direct/P1830'), ('pName', 'owner of')]\n",
      "[('p', 'http://www.wikidata.org/prop/direct/P199'), ('pName', 'business division')]\n",
      "[('p', 'http://www.wikidata.org/prop/direct/P2959'), ('pName', 'permanent duplicated item')]\n",
      "[('p', 'http://www.wikidata.org/prop/direct/P31'), ('pName', 'instance of')]\n",
      "[('p', 'http://www.wikidata.org/prop/direct/P3320'), ('pName', 'board member')]\n",
      "[('p', 'http://www.wikidata.org/prop/direct/P355'), ('pName', 'subsidiary')]\n",
      "[('p', 'http://www.wikidata.org/prop/direct/P361'), ('pName', 'part of')]\n",
      "[('p', 'http://www.wikidata.org/prop/direct/P414'), ('pName', 'stock exchange')]\n",
      "[('p', 'http://www.wikidata.org/prop/direct/P4195'), ('pName', 'category for employees of the organization')]\n",
      "[('p', 'http://www.wikidata.org/prop/direct/P452'), ('pName', 'industry')]\n",
      "[('p', 'http://www.wikidata.org/prop/direct/P463'), ('pName', 'member of')]\n",
      "[('p', 'http://www.wikidata.org/prop/direct/P485'), ('pName', 'archives at')]\n",
      "[('p', 'http://www.wikidata.org/prop/direct/P488'), ('pName', 'chairperson')]\n",
      "[('p', 'http://www.wikidata.org/prop/direct/P495'), ('pName', 'country of origin')]\n",
      "[('p', 'http://www.wikidata.org/prop/direct/P5125'), ('pName', 'Wikimedia outline')]\n",
      "[('p', 'http://www.wikidata.org/prop/direct/P6379'), ('pName', 'has works in the collection')]\n",
      "[('p', 'http://www.wikidata.org/prop/direct/P6541'), ('pName', 'Stack Exchange site')]\n",
      "[('p', 'http://www.wikidata.org/prop/direct/P7014'), ('pName', 'terms of service URL')]\n",
      "[('p', 'http://www.wikidata.org/prop/direct/P740'), ('pName', 'location of formation')]\n",
      "[('p', 'http://www.wikidata.org/prop/direct/P7763'), ('pName', 'copyright status as a creator')]\n",
      "[('p', 'http://www.wikidata.org/prop/direct/P856'), ('pName', 'official website')]\n",
      "[('p', 'http://www.wikidata.org/prop/direct/P8571'), ('pName', 'external auditor')]\n",
      "[('p', 'http://www.wikidata.org/prop/direct/P910'), ('pName', \"topic's main category\")]\n",
      "[('p', 'http://www.wikidata.org/prop/direct/P9138'), ('pName', 'service status information URL')]\n",
      "[('p', 'http://www.wikidata.org/prop/direct/P973'), ('pName', 'described at URL')]\n",
      "[('p', 'http://www.wikidata.org/prop/direct/P989'), ('pName', 'spoken text audio')]\n",
      "[('p', 'http://www.wikidata.org/prop/direct/P7101'), ('pName', 'privacy policy URL')]\n"
     ]
    },
    {
     "data": {
      "text/plain": [
       "41"
      ]
     },
     "execution_count": 20,
     "metadata": {},
     "output_type": "execute_result"
    }
   ],
   "source": [
    "#find owned by-> P127  , founded by->P112 , industry->P452\n",
    "#  \n",
    "queryString = \"\"\"\n",
    "SELECT DISTINCT ?p ?pName\n",
    "WHERE { \n",
    "wd:Q312 wdt:P31/wdt:P279* wd:Q167270;\n",
    "       ?p ?o.FILTER(!isLiteral(?o))\n",
    "        \n",
    "?p <http://schema.org/name> ?pName.\n",
    "\n",
    "\n",
    "} \n",
    "LIMIT 500\n",
    "\"\"\"\n",
    "\n",
    "print(\"Results\")\n",
    "run_query(queryString)"
   ]
  },
  {
   "cell_type": "code",
   "execution_count": 14,
   "id": "603474db-cfb3-42a4-83d6-77499a79c700",
   "metadata": {},
   "outputs": [],
   "source": [
    "1. Identify the BGP for the company or person related to a given trademark"
   ]
  },
  {
   "cell_type": "code",
   "execution_count": 13,
   "id": "0cfe5f2e-3eb8-432b-adde-66e20c49bf89",
   "metadata": {},
   "outputs": [
    {
     "name": "stdout",
     "output_type": "stream",
     "text": [
      "Results\n",
      "[('p', 'http://www.wikidata.org/entity/Q849363'), ('pName', 'The Vanguard Group')]\n",
      "[('p', 'http://www.wikidata.org/entity/Q217583'), ('pName', 'Berkshire Hathaway')]\n",
      "[('p', 'http://www.wikidata.org/entity/Q1196231'), ('pName', 'Government Pension Fund Global')]\n",
      "[('p', 'http://www.wikidata.org/entity/Q219635'), ('pName', 'BlackRock')]\n"
     ]
    },
    {
     "data": {
      "text/plain": [
       "4"
      ]
     },
     "execution_count": 13,
     "metadata": {},
     "output_type": "execute_result"
    }
   ],
   "source": [
    "#find owner of Apple Inc. \n",
    "queryString = \"\"\"\n",
    "SELECT DISTINCT ?p ?pName\n",
    "WHERE { \n",
    "wd:Q312 wdt:P127 ?p.\n",
    "\n",
    "            \n",
    "?p <http://schema.org/name> ?pName.\n",
    "\n",
    "\n",
    "} \n",
    "LIMIT 5\n",
    "\"\"\"\n",
    "\n",
    "print(\"Results\")\n",
    "run_query(queryString)"
   ]
  },
  {
   "cell_type": "code",
   "execution_count": null,
   "id": "c0a13931-38d0-40f7-b343-e2e78080f635",
   "metadata": {},
   "outputs": [],
   "source": [
    "2. Identify the BGP to retrieve types or categories for a given trademark"
   ]
  },
  {
   "cell_type": "code",
   "execution_count": 25,
   "id": "21f92cd6-2da4-46bb-b458-ad89c1bdae5c",
   "metadata": {},
   "outputs": [
    {
     "name": "stdout",
     "output_type": "stream",
     "text": [
      "Results\n",
      "[('p', 'http://www.wikidata.org/entity/Q581105'), ('pName', 'consumer electronics')]\n",
      "[('p', 'http://www.wikidata.org/entity/Q11650'), ('pName', 'electronics')]\n",
      "[('p', 'http://www.wikidata.org/entity/Q56598901'), ('pName', 'mobile phone industry')]\n",
      "[('p', 'http://www.wikidata.org/entity/Q11661'), ('pName', 'information technology')]\n",
      "[('p', 'http://www.wikidata.org/entity/Q880371'), ('pName', 'software industry')]\n"
     ]
    },
    {
     "data": {
      "text/plain": [
       "5"
      ]
     },
     "execution_count": 25,
     "metadata": {},
     "output_type": "execute_result"
    }
   ],
   "source": [
    "#find type of Apple INC\n",
    "queryString = \"\"\"\n",
    "SELECT DISTINCT ?p ?pName\n",
    "WHERE { \n",
    "wd:Q312 wdt:P31/wdt:P279* wd:Q167270;\n",
    "       wdt:P452 ?p.\n",
    "   \n",
    "?p <http://schema.org/name> ?pName.\n",
    "\n",
    "\n",
    "} \n",
    "LIMIT 5\n",
    "\"\"\"\n",
    "\n",
    "print(\"Results\")\n",
    "run_query(queryString)"
   ]
  },
  {
   "cell_type": "code",
   "execution_count": null,
   "id": "3084d6f6-851b-40c5-a4d7-008573191c90",
   "metadata": {},
   "outputs": [],
   "source": [
    "3. What companies have the largest number of trademarks? "
   ]
  },
  {
   "cell_type": "code",
   "execution_count": 39,
   "id": "95ec323f-7fa9-4231-bf6e-8060b16af622",
   "metadata": {},
   "outputs": [
    {
     "name": "stdout",
     "output_type": "stream",
     "text": [
      "Results\n",
      "[('numberoftrademark', '108'), ('companyName', 'Nestlé')]\n",
      "[('numberoftrademark', '60'), ('companyName', 'Universal Music Group')]\n",
      "[('numberoftrademark', '57'), ('companyName', 'Covestro')]\n",
      "[('numberoftrademark', '44'), ('companyName', 'Unilever')]\n",
      "[('numberoftrademark', '40'), ('companyName', 'Mondelēz International')]\n"
     ]
    },
    {
     "data": {
      "text/plain": [
       "5"
      ]
     },
     "execution_count": 39,
     "metadata": {},
     "output_type": "execute_result"
    }
   ],
   "source": [
    "queryString = \"\"\"\n",
    "SELECT DISTINCT (count(?trademarkName) as ?numberoftrademark) ?companyName \n",
    "WHERE { \n",
    "?trademark wdt:P31/wdt:P279* wd:Q167270;\n",
    "           wdt:P127 ?company.\n",
    "   \n",
    "?company <http://schema.org/name> ?companyName.\n",
    "?trademark <http://schema.org/name> ?trademarkName.\n",
    "\n",
    "} \n",
    "order by desc (?numberoftrademark)\n",
    "LIMIT 5\n",
    "\"\"\"\n",
    "\n",
    "print(\"Results\")\n",
    "run_query(queryString)"
   ]
  },
  {
   "cell_type": "code",
   "execution_count": null,
   "id": "59cca0e4-0e05-4bf5-9ae0-000f28938ac3",
   "metadata": {},
   "outputs": [],
   "source": [
    "4. What are the types of trademarks, how many trademarks exist for each type?"
   ]
  },
  {
   "cell_type": "code",
   "execution_count": 43,
   "id": "bc56839e-b717-40ba-9a5c-53a06e617509",
   "metadata": {},
   "outputs": [
    {
     "name": "stdout",
     "output_type": "stream",
     "text": [
      "Results\n",
      "[('type', 'http://www.wikidata.org/entity/Q20679540'), ('typeName', 'cinema chain')]\n",
      "[('type', 'http://www.wikidata.org/entity/Q126793'), ('typeName', 'retail')]\n",
      "[('type', 'http://www.wikidata.org/entity/Q19595701'), ('typeName', 'entertainment industry')]\n",
      "[('type', 'http://www.wikidata.org/entity/Q5354754'), ('typeName', 'talent agency')]\n",
      "[('type', 'http://www.wikidata.org/entity/Q55638'), ('typeName', 'tertiary sector of the economy')]\n"
     ]
    },
    {
     "data": {
      "text/plain": [
       "5"
      ]
     },
     "execution_count": 43,
     "metadata": {},
     "output_type": "execute_result"
    }
   ],
   "source": [
    "# get all types of trademarks\n",
    "queryString = \"\"\"\n",
    "SELECT DISTINCT ?type ?typeName\n",
    "WHERE { \n",
    "?trademark wdt:P31/wdt:P279* wd:Q167270;\n",
    "       wdt:P452 ?type.\n",
    "   \n",
    "?type <http://schema.org/name> ?typeName.\n",
    "\n",
    "\n",
    "} \n",
    "LIMIT 5\n",
    "\"\"\"\n",
    "\n",
    "print(\"Results\")\n",
    "run_query(queryString)"
   ]
  },
  {
   "cell_type": "code",
   "execution_count": 46,
   "id": "03e89f53-3170-4321-96ce-3dd53278b3be",
   "metadata": {},
   "outputs": [
    {
     "name": "stdout",
     "output_type": "stream",
     "text": [
      "Results\n",
      "[('typeName', 'retail'), ('howmanytrademarks', '1652')]\n",
      "[('typeName', 'automotive industry'), ('howmanytrademarks', '509')]\n",
      "[('typeName', 'music industry'), ('howmanytrademarks', '413')]\n",
      "[('typeName', 'restaurant'), ('howmanytrademarks', '372')]\n",
      "[('typeName', 'gastronomy'), ('howmanytrademarks', '272')]\n"
     ]
    },
    {
     "data": {
      "text/plain": [
       "5"
      ]
     },
     "execution_count": 46,
     "metadata": {},
     "output_type": "execute_result"
    }
   ],
   "source": [
    "# get how many trademarks exist for each type\n",
    "queryString = \"\"\"\n",
    "SELECT DISTINCT  ?typeName (count(?trademark ) AS ?howmanytrademarks)\n",
    "WHERE { \n",
    "?trademark wdt:P31/wdt:P279* wd:Q167270;\n",
    "       wdt:P452 ?type.\n",
    "   \n",
    "?type <http://schema.org/name> ?typeName.\n",
    "\n",
    "\n",
    "} \n",
    "order by desc (?howmanytrademarks)\n",
    "LIMIT 5\n",
    "\"\"\"\n",
    "\n",
    "print(\"Results\")\n",
    "run_query(queryString)"
   ]
  },
  {
   "cell_type": "code",
   "execution_count": null,
   "id": "100dee1b-0ffc-4123-b6a7-7ddfafddee64",
   "metadata": {},
   "outputs": [],
   "source": []
  },
  {
   "cell_type": "code",
   "execution_count": null,
   "id": "9abd96f1-f646-42ec-80aa-bc6389fa91f1",
   "metadata": {},
   "outputs": [],
   "source": [
    "5.1 How many U.S. companies hold trademarks? In which sectors?"
   ]
  },
  {
   "cell_type": "code",
   "execution_count": 61,
   "id": "210177ef-b58b-4df6-91df-3e6420d8573e",
   "metadata": {},
   "outputs": [
    {
     "name": "stdout",
     "output_type": "stream",
     "text": [
      "Results\n",
      "[('trademarkName', 'Foot Locker'), ('typeName', 'retail'), ('countryName', 'United States of America')]\n",
      "[('trademarkName', 'Lord & Taylor'), ('typeName', 'retail'), ('countryName', 'United States of America')]\n",
      "[('trademarkName', 'Abraham & Straus'), ('typeName', 'retail'), ('countryName', 'United States of America')]\n",
      "[('trademarkName', 'Elder-Beerman'), ('typeName', 'retail'), ('countryName', 'United States of America')]\n",
      "[('trademarkName', \"Macy's\"), ('typeName', 'retail'), ('countryName', 'United States of America')]\n"
     ]
    },
    {
     "data": {
      "text/plain": [
       "5"
      ]
     },
     "execution_count": 61,
     "metadata": {},
     "output_type": "execute_result"
    }
   ],
   "source": [
    "# get U.S. companies hold trademarks\n",
    "queryString = \"\"\"\n",
    "SELECT DISTINCT ?trademarkName ?typeName ?countryName\n",
    "WHERE { \n",
    "\n",
    "?trademark wdt:P31/wdt:P279* wd:Q167270;\n",
    "           wdt:P17 ?country;\n",
    "           wdt:P452 ?type.\n",
    "   \n",
    "   filter regex(?countryName,\"united states of am\",'i')\n",
    "   \n",
    "?type <http://schema.org/name> ?typeName.\n",
    "?country <http://schema.org/name> ?countryName.\n",
    "?trademark <http://schema.org/name> ?trademarkName.\n",
    "} \n",
    "\n",
    "LIMIT 5\n",
    "\"\"\"\n",
    "\n",
    "print(\"Results\")\n",
    "run_query(queryString)"
   ]
  },
  {
   "cell_type": "code",
   "execution_count": 64,
   "id": "f87ea4bf-1c31-47f6-9c39-69a7faa1d515",
   "metadata": {},
   "outputs": [
    {
     "name": "stdout",
     "output_type": "stream",
     "text": [
      "Results\n",
      "[('howmanytrademarks', '10'), ('typeName', 'hotel'), ('countryName', 'United States of America')]\n",
      "[('howmanytrademarks', '12'), ('typeName', 'film industry'), ('countryName', 'United States of America')]\n",
      "[('howmanytrademarks', '40'), ('typeName', 'entertainment'), ('countryName', 'United States of America')]\n",
      "[('howmanytrademarks', '2'), ('typeName', 'retail chain'), ('countryName', 'United States of America')]\n",
      "[('howmanytrademarks', '2'), ('typeName', 'textile and clothing industry'), ('countryName', 'United States of America')]\n"
     ]
    },
    {
     "data": {
      "text/plain": [
       "5"
      ]
     },
     "execution_count": 64,
     "metadata": {},
     "output_type": "execute_result"
    }
   ],
   "source": [
    "# get number of U.S. companies hold trademarks in each sectors\n",
    "queryString = \"\"\"\n",
    "SELECT DISTINCT (count(?trademarkName) as ?howmanytrademarks)  ?typeName ?countryName\n",
    "WHERE { \n",
    "\n",
    "?trademark wdt:P31/wdt:P279* wd:Q167270;\n",
    "           wdt:P17 ?country;\n",
    "           wdt:P452 ?type.\n",
    "   \n",
    "   filter regex(?countryName,\"united states of am\",'i')\n",
    "   \n",
    "?type <http://schema.org/name> ?typeName.\n",
    "?country <http://schema.org/name> ?countryName.\n",
    "?trademark <http://schema.org/name> ?trademarkName.\n",
    "} \n",
    "\n",
    "LIMIT 5\n",
    "\"\"\"\n",
    "\n",
    "print(\"Results\")\n",
    "run_query(queryString)"
   ]
  },
  {
   "cell_type": "code",
   "execution_count": null,
   "id": "c3ff72ff-7fb4-4bcc-9061-3521b604066f",
   "metadata": {},
   "outputs": [],
   "source": [
    " 5.2 How many people hold or are connected to trademarks? In which role?"
   ]
  },
  {
   "cell_type": "code",
   "execution_count": 111,
   "id": "da897afa-0e02-4b3c-aa2b-abdf89dc75fb",
   "metadata": {},
   "outputs": [
    {
     "name": "stdout",
     "output_type": "stream",
     "text": [
      "Results\n",
      "[('p', 'http://www.wikidata.org/prop/direct/P1037'), ('pName', 'director / manager')]\n",
      "[('p', 'http://www.wikidata.org/prop/direct/P112'), ('pName', 'founded by')]\n",
      "[('p', 'http://www.wikidata.org/prop/direct/P127'), ('pName', 'owned by')]\n",
      "[('p', 'http://www.wikidata.org/prop/direct/P169'), ('pName', 'chief executive officer')]\n",
      "[('p', 'http://www.wikidata.org/prop/direct/P1889'), ('pName', 'different from')]\n"
     ]
    },
    {
     "data": {
      "text/plain": [
       "5"
      ]
     },
     "execution_count": 111,
     "metadata": {},
     "output_type": "execute_result"
    }
   ],
   "source": [
    "# find all connections which connect people  to trademarks\n",
    "queryString = \"\"\"\n",
    "SELECT DISTINCT  ?p ?pName\n",
    "WHERE { \n",
    "\n",
    "?person wdt:P31 ?human.\n",
    "?trademark wdt:P31/wdt:P279* wd:Q167270;\n",
    "           ?p ?person.\n",
    "   \n",
    "filter regex(?humanName,\"human$\",'i')\n",
    "   \n",
    "?person <http://schema.org/name> ?personName.\n",
    "?human <http://schema.org/name> ?humanName.\n",
    "?p <http://schema.org/name> ?pName.\n",
    "} \n",
    "\n",
    "LIMIT 5\n",
    "\"\"\"\n",
    "\n",
    "print(\"Results\")\n",
    "run_query(queryString)"
   ]
  },
  {
   "cell_type": "code",
   "execution_count": 114,
   "id": "195ceb24-72ab-457f-b0c5-a6ea361bba76",
   "metadata": {},
   "outputs": [
    {
     "name": "stdout",
     "output_type": "stream",
     "text": [
      "Results\n",
      "[('connectionName', 'founded by'), ('numberofpeople', '5288')]\n",
      "[('connectionName', 'owned by'), ('numberofpeople', '486')]\n",
      "[('connectionName', 'chief executive officer'), ('numberofpeople', '321')]\n",
      "[('connectionName', 'named after'), ('numberofpeople', '294')]\n",
      "[('connectionName', 'has part'), ('numberofpeople', '177')]\n",
      "[('connectionName', 'director / manager'), ('numberofpeople', '161')]\n",
      "[('connectionName', 'performer'), ('numberofpeople', '81')]\n",
      "[('connectionName', 'board member'), ('numberofpeople', '72')]\n",
      "[('connectionName', 'discoverer or inventor'), ('numberofpeople', '70')]\n",
      "[('connectionName', 'chairperson'), ('numberofpeople', '69')]\n",
      "[('connectionName', 'different from'), ('numberofpeople', '67')]\n",
      "[('connectionName', 'creator'), ('numberofpeople', '57')]\n",
      "[('connectionName', 'represents'), ('numberofpeople', '50')]\n",
      "[('connectionName', 'significant person'), ('numberofpeople', '18')]\n",
      "[('connectionName', 'designed by'), ('numberofpeople', '17')]\n",
      "[('connectionName', 'participant'), ('numberofpeople', '17')]\n",
      "[('connectionName', 'chief operating officer'), ('numberofpeople', '14')]\n",
      "[('connectionName', 'commissioned by'), ('numberofpeople', '10')]\n",
      "[('connectionName', 'presenter'), ('numberofpeople', '9')]\n",
      "[('connectionName', 'sponsor'), ('numberofpeople', '9')]\n",
      "[('connectionName', 'investor'), ('numberofpeople', '8')]\n",
      "[('connectionName', 'parent organization'), ('numberofpeople', '8')]\n",
      "[('connectionName', 'depicts'), ('numberofpeople', '8')]\n",
      "[('connectionName', 'developer'), ('numberofpeople', '6')]\n",
      "[('connectionName', 'general manager'), ('numberofpeople', '6')]\n",
      "[('connectionName', 'has works in the collection'), ('numberofpeople', '4')]\n",
      "[('connectionName', 'spouse'), ('numberofpeople', '4')]\n",
      "[('connectionName', 'mascot'), ('numberofpeople', '4')]\n",
      "[('connectionName', 'operator'), ('numberofpeople', '4')]\n",
      "[('connectionName', 'curator'), ('numberofpeople', '3')]\n",
      "[('connectionName', 'author'), ('numberofpeople', '3')]\n",
      "[('connectionName', 'copyright holder'), ('numberofpeople', '2')]\n",
      "[('connectionName', 'editor'), ('numberofpeople', '2')]\n",
      "[('connectionName', 'supervisory board member'), ('numberofpeople', '2')]\n",
      "[('connectionName', 'editor-in-chief'), ('numberofpeople', '2')]\n",
      "[('connectionName', 'employer'), ('numberofpeople', '2')]\n",
      "[('connectionName', 'manufacturer'), ('numberofpeople', '2')]\n",
      "[('connectionName', 'named by'), ('numberofpeople', '2')]\n",
      "[('connectionName', 'based on'), ('numberofpeople', '2')]\n",
      "[('connectionName', 'follows'), ('numberofpeople', '2')]\n",
      "[('connectionName', 'producer'), ('numberofpeople', '2')]\n",
      "[('connectionName', 'partner in business or sport'), ('numberofpeople', '2')]\n",
      "[('connectionName', 'organizer'), ('numberofpeople', '2')]\n",
      "[('connectionName', 'architect'), ('numberofpeople', '2')]\n",
      "[('connectionName', 'choreographer'), ('numberofpeople', '1')]\n",
      "[('connectionName', 'composer'), ('numberofpeople', '1')]\n",
      "[('connectionName', 'inspired by'), ('numberofpeople', '1')]\n",
      "[('connectionName', 'dedicated to'), ('numberofpeople', '1')]\n",
      "[('connectionName', 'characters'), ('numberofpeople', '1')]\n",
      "[('connectionName', 'publisher'), ('numberofpeople', '1')]\n"
     ]
    },
    {
     "data": {
      "text/plain": [
       "50"
      ]
     },
     "execution_count": 114,
     "metadata": {},
     "output_type": "execute_result"
    }
   ],
   "source": [
    "# people hold or are connected to trade marks\n",
    "queryString = \"\"\"\n",
    "SELECT DISTINCT ?connectionName (count(?personName) AS ?numberofpeople)\n",
    "WHERE { \n",
    "\n",
    "?person wdt:P31 ?human.\n",
    "?trademark wdt:P31/wdt:P279* wd:Q167270;\n",
    "           ?connection ?person.\n",
    "   \n",
    "filter regex(?humanName,\"human$\",'i')\n",
    "   \n",
    "?person <http://schema.org/name> ?personName.\n",
    "?human <http://schema.org/name> ?humanName.\n",
    "?connection <http://schema.org/name> ?connectionName.\n",
    "} \n",
    "order by desc (?numberofpeople)\n",
    "\n",
    "\"\"\"\n",
    "\n",
    "print(\"Results\")\n",
    "run_query(queryString)"
   ]
  },
  {
   "cell_type": "code",
   "execution_count": null,
   "id": "1b3b7a19-6a23-4277-9b82-9c581eb347f8",
   "metadata": {},
   "outputs": [],
   "source": [
    "5.3 In which sector there is the highest number of trademarks?"
   ]
  },
  {
   "cell_type": "code",
   "execution_count": 88,
   "id": "2553e1d0-b85f-42ae-8d7b-059b8b1121fd",
   "metadata": {},
   "outputs": [
    {
     "name": "stdout",
     "output_type": "stream",
     "text": [
      "Results\n",
      "[('howmanytrademarks', '1598'), ('typeName', 'retail')]\n",
      "[('howmanytrademarks', '403'), ('typeName', 'music industry')]\n",
      "[('howmanytrademarks', '368'), ('typeName', 'restaurant')]\n",
      "[('howmanytrademarks', '307'), ('typeName', 'automotive industry')]\n",
      "[('howmanytrademarks', '262'), ('typeName', 'gastronomy')]\n"
     ]
    },
    {
     "data": {
      "text/plain": [
       "5"
      ]
     },
     "execution_count": 88,
     "metadata": {},
     "output_type": "execute_result"
    }
   ],
   "source": [
    "queryString = \"\"\"\n",
    "SELECT DISTINCT (count(?trademarkName) as ?howmanytrademarks)  ?typeName \n",
    "WHERE { \n",
    "\n",
    "?trademark wdt:P31/wdt:P279* wd:Q167270;\n",
    "           wdt:P452 ?type.\n",
    "   \n",
    "\n",
    "   \n",
    "?type <http://schema.org/name> ?typeName.\n",
    "?trademark <http://schema.org/name> ?trademarkName.\n",
    "} \n",
    "order by desc (?howmanytrademarks)\n",
    "LIMIT 5\n",
    "\"\"\"\n",
    "\n",
    "print(\"Results\")\n",
    "run_query(queryString)"
   ]
  }
 ],
 "metadata": {
  "kernelspec": {
   "display_name": "Python 3 (ipykernel)",
   "language": "python",
   "name": "python3"
  },
  "language_info": {
   "codemirror_mode": {
    "name": "ipython",
    "version": 3
   },
   "file_extension": ".py",
   "mimetype": "text/x-python",
   "name": "python",
   "nbconvert_exporter": "python",
   "pygments_lexer": "ipython3",
   "version": "3.7.10"
  }
 },
 "nbformat": 4,
 "nbformat_minor": 5
}
