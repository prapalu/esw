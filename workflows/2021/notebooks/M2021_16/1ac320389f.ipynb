{
 "cells": [
  {
   "cell_type": "markdown",
   "id": "7034c3bf-6eb0-4418-8687-7b9d2a501103",
   "metadata": {},
   "source": [
    "# General instructions\n",
    "\n",
    "The goal of the project is to materialize a set of **exploratory workloads** over a real-world, large-scale,  open-domain KG: [WikiData](https://www.wikidata.org/wiki/Wikidata:Main_Page)\n",
    "\n",
    "An exploratory workload  is composed by a set of queries, where each query is related to the information obtained previously.\n",
    "\n",
    "An exploratory workload starts with a usually vague, open ended question, and does not assume the person issuing the workload has a clear understanding of the data contained in the target database or its structure.\n",
    "\n",
    "Remeber that:\n",
    "\n",
    "1. All the queries must run in the python notebook\n",
    "2. You can use classes and properties only if you find them via a SPARQL query that must be present in the notebook\n",
    "3. You do not delete useless queries. Keep everything that is synthatically valid \n",
    "\n",
    "```\n",
    "?p <http://schema.org/name> ?name .\n",
    "```\n",
    "    \n",
    "is the BGP returning a human-readable name of a property or a class in Wikidata.\n",
    "    \n",
    "    "
   ]
  },
  {
   "cell_type": "code",
   "execution_count": 130,
   "id": "3605c9d5-5371-49a5-be8d-d66e8f417139",
   "metadata": {},
   "outputs": [],
   "source": [
    "## SETUP used later\n",
    "\n",
    "from SPARQLWrapper import SPARQLWrapper, JSON\n",
    "\n",
    "\n",
    "prefixString = \"\"\"\n",
    "##-1ac320389f-## \n",
    "PREFIX wd: <http://www.wikidata.org/entity/> \n",
    "PREFIX wdt: <http://www.wikidata.org/prop/direct/> \n",
    "PREFIX sc: <http://schema.org/>\n",
    "\"\"\"\n",
    "\n",
    "# select and construct queries\n",
    "def run_query(queryString):\n",
    "    to_run = prefixString + \"\\n\" + queryString\n",
    "\n",
    "    sparql = SPARQLWrapper(\"http://a256-gc1-02.srv.aau.dk:5820/sparql\")\n",
    "    sparql.setTimeout(300)\n",
    "    sparql.setReturnFormat(JSON)\n",
    "    sparql.setQuery(to_run)\n",
    "\n",
    "    try :\n",
    "       results = sparql.query()\n",
    "       json_results = results.convert()\n",
    "       if len(json_results['results']['bindings'])==0:\n",
    "          print(\"Empty\")\n",
    "          return 0\n",
    "    \n",
    "       for bindings in json_results['results']['bindings']:\n",
    "          print( [ (var, value['value'])  for var, value in bindings.items() ] )\n",
    "\n",
    "       return len(json_results['results']['bindings'])\n",
    "\n",
    "    except Exception as e :\n",
    "        print(\"The operation failed\", e)\n",
    "    \n",
    "# ASk queries\n",
    "def run_ask_query(queryString):\n",
    "    to_run = prefixString + \"\\n\" + queryString\n",
    "\n",
    "    sparql = SPARQLWrapper(\"http://a256-gc1-03.srv.aau.dk:5820/sparql\")\n",
    "    sparql.setTimeout(300)\n",
    "    sparql.setReturnFormat(JSON)\n",
    "    sparql.setQuery(to_run)\n",
    "\n",
    "    try :\n",
    "        return sparql.query().convert()\n",
    "\n",
    "    except Exception as e :\n",
    "        print(\"The operation failed\", e)\n"
   ]
  },
  {
   "cell_type": "markdown",
   "id": "d477a59c-a68c-4c8f-9f97-8ca5294d7d27",
   "metadata": {},
   "source": [
    "# Sport Workflow Series (\"FIFA World Cup events explorative search\") \n",
    "\n",
    "Consider the following exploratory information need:\n",
    "\n",
    "> Explore the participants and winners of different editions of the FIFA World Cup"
   ]
  },
  {
   "cell_type": "markdown",
   "id": "4a45c0ba-f79e-441d-bec5-84401b09db70",
   "metadata": {},
   "source": [
    "## Useful URIs for the current workflow\n",
    "\n",
    "\n",
    "The following are given:\n",
    "\n",
    "| IRI           | Description    | Role      |\n",
    "| -----------   | -----------    |-----------|\n",
    "| `wdt:P1647`   | subproperty    | predicate |\n",
    "| `wdt:P31`     | instance of    | predicate |\n",
    "| `wdt:P106`    | profession     | predicate | \n",
    "| `wdt:P279`    | subclass       | predicate |\n",
    "| `wdt:P27`     | nationality    | predicate |\n",
    "| `wdt:P1532`   | country of sport    | predicate |\n",
    "| `wd:Q29`      | Spain           | node |\n",
    "| `wd:Q42267`   | Spain national football team | node |\n",
    "| `wd:Q19317`   | FIFA World Cup  | node |\n",
    "| `wd:Q176883`  | 2010 FIFA World cup  | node |\n",
    "| `wd:Q208401`  | 2010 FIFA World Cup Final | node      |\n",
    "| `wd:Q6979593`  |national football team | node      |\n",
    "\n",
    "\n",
    "Also consider\n",
    "\n",
    "```\n",
    "?a wdt:P31 wd:Q6979593\n",
    "```\n",
    "\n",
    "is the BGP to retrieve all the  **national footbal teams**\n"
   ]
  },
  {
   "cell_type": "markdown",
   "id": "7af439fb-96e4-4dbb-a381-f19afab79f86",
   "metadata": {
    "tags": []
   },
   "source": [
    "## Workload Goals\n",
    "\n",
    "1. Identify the BGP for connecting national football teams with the participations in the finals or in the world cups\n",
    "\n",
    "2. Identify the BGP that connects a country with a national footbal team or as a location to a world cup\n",
    "\n",
    "3. In which countries took place a FIFA world cup or world cup final? With how many participants?\n",
    "\n",
    "4. Compare number of participants and winners of different world cups\n",
    " \n",
    "   4.1 How many times each country participated in a world cup?\n",
    "   \n",
    "   4.2 Which country participated in the most finals? Which country won the most finals?\n",
    "   \n",
    "   4.3 Who participated in the most world cups among Italy, France, Spain, and Germany?\n"
   ]
  },
  {
   "cell_type": "code",
   "execution_count": 2,
   "id": "24a853ab-830c-422c-afd3-e9e015b8b8ed",
   "metadata": {},
   "outputs": [],
   "source": [
    "# start your workflow here\n"
   ]
  },
  {
   "cell_type": "code",
   "execution_count": null,
   "id": "ade01416-92e7-4ad7-b9a9-b8fb330750dc",
   "metadata": {},
   "outputs": [
    {
     "name": "stdout",
     "output_type": "stream",
     "text": [
      "Results\n",
      "[('callret-0', '1220')]\n"
     ]
    },
    {
     "data": {
      "text/plain": [
       "1"
      ]
     },
     "execution_count": 52,
     "metadata": {},
     "output_type": "execute_result"
    }
   ],
   "source": [
    "queryString = \"\"\"\n",
    "SELECT COUNT(*)\n",
    "WHERE { \n",
    "\n",
    "?a wdt:P31 wd:Q6979593\n",
    "\n",
    "\n",
    "} \n",
    "\"\"\"\n",
    "\n",
    "print(\"Results\")\n",
    "run_query(queryString)"
   ]
  },
  {
   "cell_type": "code",
   "execution_count": 5,
   "id": "3ae5f5db-f778-4a94-a6fb-17e0442b551c",
   "metadata": {},
   "outputs": [
    {
     "name": "stdout",
     "output_type": "stream",
     "text": [
      "Results\n",
      "[('teamName', 'Vatican City national association football team')]\n",
      "[('teamName', 'Chinese Taipei national football team')]\n",
      "[('teamName', 'Antigua and Barbuda national under-20 football team')]\n",
      "[('teamName', 'Guernsey official association football team')]\n",
      "[('teamName', 'Moldova national under-17 football team')]\n"
     ]
    },
    {
     "data": {
      "text/plain": [
       "5"
      ]
     },
     "execution_count": 5,
     "metadata": {},
     "output_type": "execute_result"
    }
   ],
   "source": [
    "#first we should find all national footbal teams in the database \n",
    "queryString = \"\"\"\n",
    "SELECT    ?teamName \n",
    "WHERE { \n",
    "\n",
    "    ?team wdt:P31 wd:Q6979593.\n",
    "\n",
    "    # this returns the labels\n",
    "    ?team <http://schema.org/name> ?teamName .\n",
    "\n",
    "} \n",
    "LIMIT 5\n",
    "\"\"\"\n",
    "\n",
    "\n",
    "print(\"Results\")\n",
    "run_query(queryString)"
   ]
  },
  {
   "cell_type": "code",
   "execution_count": 13,
   "id": "4fe3fb74-a1b8-44b9-b177-383fda157698",
   "metadata": {},
   "outputs": [
    {
     "name": "stdout",
     "output_type": "stream",
     "text": [
      "Results\n",
      "[('p', 'http://www.wikidata.org/prop/direct/P3441'), ('pname', 'FIFA country code')]\n",
      "[('p', 'http://www.wikidata.org/prop/direct/P1268'), ('pname', 'represents')]\n",
      "[('p', 'http://www.wikidata.org/prop/direct/P115'), ('pname', 'home venue')]\n",
      "[('p', 'http://www.wikidata.org/prop/direct/P127'), ('pname', 'owned by')]\n",
      "[('p', 'http://www.wikidata.org/prop/direct/P131'), ('pname', 'located in the administrative territorial entity')]\n"
     ]
    },
    {
     "data": {
      "text/plain": [
       "5"
      ]
     },
     "execution_count": 13,
     "metadata": {},
     "output_type": "execute_result"
    }
   ],
   "source": [
    "# get the properties of national footbal teams and I find  participate in->P1344 , victory->P2522\n",
    "queryString = \"\"\"\n",
    "\n",
    "SELECT DISTINCT ?p ?pname\n",
    "WHERE { \n",
    "    ?team wdt:P31 wd:Q6979593  ;\n",
    "             ?p ?o .\n",
    "    \n",
    "    # this returns the labels\n",
    "    ?p <http://schema.org/name> ?pname .\n",
    "} \n",
    "\n",
    "LIMIT 5\n",
    "\n",
    "\"\"\"\n",
    "\n",
    "print(\"Results\")\n",
    "run_query(queryString)"
   ]
  },
  {
   "cell_type": "code",
   "execution_count": 69,
   "id": "e15b3b2d-54eb-4986-b910-d797b5f1b26b",
   "metadata": {},
   "outputs": [
    {
     "name": "stdout",
     "output_type": "stream",
     "text": [
      "Results\n",
      "[('p', 'http://www.wikidata.org/prop/direct/P1268'), ('pname', 'represents')]\n",
      "[('p', 'http://www.wikidata.org/prop/direct/P115'), ('pname', 'home venue')]\n",
      "[('p', 'http://www.wikidata.org/prop/direct/P127'), ('pname', 'owned by')]\n",
      "[('p', 'http://www.wikidata.org/prop/direct/P131'), ('pname', 'located in the administrative territorial entity')]\n",
      "[('p', 'http://www.wikidata.org/prop/direct/P1344'), ('pname', 'participant in')]\n"
     ]
    },
    {
     "data": {
      "text/plain": [
       "5"
      ]
     },
     "execution_count": 69,
     "metadata": {},
     "output_type": "execute_result"
    }
   ],
   "source": [
    "# get the properties of national footbal team\n",
    "queryString = \"\"\"\n",
    "\n",
    "SELECT DISTINCT ?p ?pname\n",
    "WHERE { \n",
    "    ?team wdt:P31 wd:Q6979593  ;\n",
    "        ?p ?o .FILTER(!isLiteral(?o))\n",
    "    \n",
    "    # this returns the labels\n",
    "    ?p <http://schema.org/name> ?pname .\n",
    "} \n",
    "\n",
    "LIMIT 5\n",
    "\"\"\"\n",
    "\n",
    "print(\"Results\")\n",
    "run_query(queryString)"
   ]
  },
  {
   "cell_type": "code",
   "execution_count": 309,
   "id": "9170b878-089d-4867-904d-eaf2b4bbb868",
   "metadata": {},
   "outputs": [
    {
     "name": "stdout",
     "output_type": "stream",
     "text": [
      "Results\n",
      "[('tname', 'France national under-17 football team'), ('pname', '2004 UEFA European Under-17 Football Championship')]\n",
      "[('tname', 'Czech Republic national association football team'), ('pname', '1997 FIFA Confederations Cup')]\n",
      "[('tname', 'France national under-17 football team'), ('pname', '2002 UEFA European Under-17 Football Championship')]\n",
      "[('tname', 'Netherlands national association football team'), ('pname', '2010 FIFA World Cup Final')]\n",
      "[('tname', 'Spain national association football team'), ('pname', '2010 FIFA World Cup Final')]\n"
     ]
    },
    {
     "data": {
      "text/plain": [
       "5"
      ]
     },
     "execution_count": 309,
     "metadata": {},
     "output_type": "execute_result"
    }
   ],
   "source": [
    "# get the 'participantion' of national football teams\n",
    "queryString = \"\"\"\n",
    "SELECT DISTINCT ?tname ?pname\n",
    "WHERE { \n",
    "    ?team wdt:P31 wd:Q6979593;\n",
    "          wdt:P1344 ?participantion. \n",
    "    \n",
    "    # this returns the labels\n",
    "    ?team <http://schema.org/name> ?tname .\n",
    "    ?participantion <http://schema.org/name> ?pname .\n",
    "} \n",
    "\n",
    "LIMIT 5\n",
    "\"\"\"\n",
    "\n",
    "print(\"Results\")\n",
    "run_query(queryString)"
   ]
  },
  {
   "cell_type": "code",
   "execution_count": 109,
   "id": "0efcd09f-7403-4663-bc14-f6b2a2dcb5ca",
   "metadata": {},
   "outputs": [],
   "source": [
    "1. Identify the BGP for connecting national football teams with the participations in the finals or in the world cups"
   ]
  },
  {
   "cell_type": "code",
   "execution_count": 32,
   "id": "58a9b4be-c63f-4787-8596-670300131374",
   "metadata": {},
   "outputs": [
    {
     "name": "stdout",
     "output_type": "stream",
     "text": [
      "Results\n",
      "[('tname', 'Romania national association football team'), ('eventname', '1930 FIFA World Cup')]\n",
      "[('tname', 'Uruguay national football team'), ('eventname', '1930 FIFA World Cup')]\n",
      "[('tname', 'Peru national football team'), ('eventname', '1930 FIFA World Cup')]\n",
      "[('tname', 'France national association football team'), ('eventname', '1930 FIFA World Cup')]\n",
      "[('tname', 'Argentina national football team'), ('eventname', '1930 FIFA World Cup')]\n"
     ]
    },
    {
     "data": {
      "text/plain": [
       "5"
      ]
     },
     "execution_count": 32,
     "metadata": {},
     "output_type": "execute_result"
    }
   ],
   "source": [
    "# Solution 1: get the participantion of each national team in World Cup or Final\n",
    "queryString = \"\"\"\n",
    "# Q19317\n",
    "SELECT DISTINCT ?tname ?eventname \n",
    "WHERE { \n",
    "    ?team wdt:P31 wd:Q6979593;\n",
    "          wdt:P1344 ?event.\n",
    "            \n",
    "    # this returns the labels\n",
    "    ?team <http://schema.org/name> ?tname .\n",
    "    ?event <http://schema.org/name> ?eventname .\n",
    "    FILTER REGEX(?eventname, \"FIFA World Cup\",'i')\n",
    "    #filter regex(?tname,\"iran\",'i')\n",
    "} \n",
    "ORDER BY ?eventname\n",
    "LIMIT 5\n",
    "\"\"\"\n",
    "\n",
    "print(\"Results\")\n",
    "run_query(queryString)"
   ]
  },
  {
   "cell_type": "code",
   "execution_count": 112,
   "id": "cd061176-b231-4fa7-a3bf-0afa3ba0d629",
   "metadata": {},
   "outputs": [],
   "source": [
    "2. Identify the BGP that connects a country with a national footbal team or as a location to a world cup"
   ]
  },
  {
   "cell_type": "code",
   "execution_count": 18,
   "id": "591337b5-2f93-4b60-953e-fc7ab0b1ef47",
   "metadata": {},
   "outputs": [
    {
     "name": "stdout",
     "output_type": "stream",
     "text": [
      "Results\n",
      "[('teamName', 'Afghanistan national under-17 football team'), ('countryofteam', 'Afghanistan')]\n",
      "[('teamName', 'Afghanistan national football team'), ('countryofteam', 'Afghanistan')]\n",
      "[('teamName', 'Afghanistan national under-23 football team'), ('countryofteam', 'Afghanistan')]\n",
      "[('teamName', 'Afghanistan national under-20 football team'), ('countryofteam', 'Afghanistan')]\n",
      "[('teamName', 'Albania national under-21 football team'), ('countryofteam', 'Albania')]\n"
     ]
    },
    {
     "data": {
      "text/plain": [
       "5"
      ]
     },
     "execution_count": 18,
     "metadata": {},
     "output_type": "execute_result"
    }
   ],
   "source": [
    "# solution 2: connects a country with a national footbal team\n",
    "queryString = \"\"\"\n",
    "# Q19317\n",
    "SELECT DISTINCT ?teamName ?countryofteam    \n",
    "WHERE { \n",
    "    ?team wdt:P31 wd:Q6979593;\n",
    "          wdt:P1532 ?country.\n",
    "           \n",
    "    # this returns the labels\n",
    "    \n",
    "    ?country <http://schema.org/name> ?countryofteam .\n",
    "    ?team <http://schema.org/name> ?teamName \n",
    "} \n",
    "ORDER BY ?countryofteam\n",
    "LIMIT 5\n",
    "\"\"\"\n",
    "\n",
    "print(\"Results\")\n",
    "run_query(queryString)"
   ]
  },
  {
   "cell_type": "code",
   "execution_count": 26,
   "id": "f59d9266-bd82-455c-9685-683a9d85fff1",
   "metadata": {},
   "outputs": [
    {
     "name": "stdout",
     "output_type": "stream",
     "text": [
      "Results\n",
      "[('p', 'http://www.wikidata.org/prop/direct/P276'), ('pname', 'location')]\n",
      "[('p', 'http://www.wikidata.org/prop/direct/P17'), ('pname', 'country')]\n",
      "[('p', 'http://www.wikidata.org/prop/direct/P625'), ('pname', 'coordinate location')]\n"
     ]
    },
    {
     "data": {
      "text/plain": [
       "3"
      ]
     },
     "execution_count": 26,
     "metadata": {},
     "output_type": "execute_result"
    }
   ],
   "source": [
    "# find property of location for World cup event  Location->P276 Country->P17\n",
    "queryString = \"\"\"\n",
    "SELECT DISTINCT ?p ?pname  \n",
    "WHERE { \n",
    "    ?team wdt:P31 wd:Q6979593;\n",
    "          wdt:P1344 ?event.\n",
    "           \n",
    "    ?event ?p ?location .  \n",
    "    \n",
    "    # this returns the labels\n",
    "\n",
    "    ?p <http://schema.org/name> ?pname .\n",
    "    FILTER REGEX(?pname, \"location|country\",'i')     \n",
    "} \n",
    "\n",
    "ORDER BY ?ename\n",
    "\n",
    "\"\"\"\n",
    "\n",
    "print(\"Results\")\n",
    "run_query(queryString)"
   ]
  },
  {
   "cell_type": "code",
   "execution_count": 33,
   "id": "71a597af-4578-49f1-8ec1-004bd909b410",
   "metadata": {},
   "outputs": [
    {
     "name": "stdout",
     "output_type": "stream",
     "text": [
      "Results\n",
      "[('ename', '1930 FIFA World Cup'), ('lname', 'Estadio Centenario'), ('countryName', 'Uruguay')]\n",
      "[('ename', '1930 FIFA World Cup'), ('lname', 'Estadio Gran Parque Central'), ('countryName', 'Uruguay')]\n",
      "[('ename', '1930 FIFA World Cup'), ('lname', 'Estadio Pocitos'), ('countryName', 'Uruguay')]\n",
      "[('ename', '1934 FIFA World Cup'), ('lname', 'Stadio Giuseppe Meazza'), ('countryName', 'Italy')]\n",
      "[('ename', '1934 FIFA World Cup'), ('lname', 'Stadio Olimpico Grande Torino'), ('countryName', 'Italy')]\n"
     ]
    },
    {
     "data": {
      "text/plain": [
       "5"
      ]
     },
     "execution_count": 33,
     "metadata": {},
     "output_type": "execute_result"
    }
   ],
   "source": [
    "# solution 2: get the country as a location to a world cup\n",
    "queryString = \"\"\"\n",
    "SELECT DISTINCT  ?ename  ?lname ?countryName\n",
    "WHERE { \n",
    "    ?team wdt:P31 wd:Q6979593;\n",
    "          wdt:P1344 ?event.\n",
    "           \n",
    "    ?event wdt:P276 ?location ;\n",
    "            wdt:P17 ?country.\n",
    "    \n",
    "    # this returns the labels\n",
    "    ?location <http://schema.org/name> ?lname .\n",
    "    ?country <http://schema.org/name> ?countryName .\n",
    "    ?event <http://schema.org/name> ?ename .\n",
    "    FILTER REGEX(?ename, \"FIFA World Cup\",'i')     \n",
    "} \n",
    "\n",
    "ORDER BY ?ename\n",
    "limit 5\n",
    "\"\"\"\n",
    "\n",
    "print(\"Results\")\n",
    "run_query(queryString)"
   ]
  },
  {
   "cell_type": "code",
   "execution_count": 191,
   "id": "6cbde130-27db-46b3-8323-b9ff59f3c31b",
   "metadata": {},
   "outputs": [],
   "source": [
    "3. In which countries took place a FIFA world cup or world cup final? With how many participants?"
   ]
  },
  {
   "cell_type": "code",
   "execution_count": 43,
   "id": "cf3cec4a-2e86-4cdb-acdb-b401757ce098",
   "metadata": {},
   "outputs": [
    {
     "name": "stdout",
     "output_type": "stream",
     "text": [
      "Results\n",
      "[('ename', '1930 FIFA World Cup'), ('lname', 'Uruguay'), ('howmanyteam', '13')]\n",
      "[('ename', '1934 FIFA World Cup'), ('lname', 'Italy'), ('howmanyteam', '16')]\n",
      "[('ename', '1938 FIFA World Cup'), ('lname', 'France'), ('howmanyteam', '15')]\n",
      "[('ename', '1950 FIFA World Cup'), ('lname', 'Brazil'), ('howmanyteam', '12')]\n",
      "[('ename', '1954 FIFA World Cup'), ('lname', 'Switzerland'), ('howmanyteam', '16')]\n",
      "[('ename', '1958 FIFA World Cup'), ('lname', 'Sweden'), ('howmanyteam', '16')]\n",
      "[('ename', '1962 FIFA World Cup'), ('lname', 'Chile'), ('howmanyteam', '16')]\n",
      "[('ename', '1966 FIFA World Cup'), ('lname', 'United Kingdom'), ('howmanyteam', '16')]\n",
      "[('ename', '1970 FIFA World Cup'), ('lname', 'Mexico'), ('howmanyteam', '16')]\n",
      "[('ename', '1974 FIFA World Cup'), ('lname', 'Germany'), ('howmanyteam', '16')]\n",
      "[('ename', '1978 FIFA World Cup'), ('lname', 'Argentina'), ('howmanyteam', '16')]\n",
      "[('ename', '1982 FIFA World Cup'), ('lname', 'Mexico'), ('howmanyteam', '24')]\n",
      "[('ename', '1986 FIFA World Cup'), ('lname', 'Mexico'), ('howmanyteam', '24')]\n",
      "[('ename', '1990 FIFA World Cup'), ('lname', 'Italy'), ('howmanyteam', '24')]\n",
      "[('ename', '1994 FIFA World Cup'), ('lname', 'United States of America'), ('howmanyteam', '24')]\n",
      "[('ename', '1998 FIFA World Cup'), ('lname', 'France'), ('howmanyteam', '32')]\n",
      "[('ename', '2002 FIFA World Cup'), ('lname', 'South Korea'), ('howmanyteam', '32')]\n",
      "[('ename', '2002 FIFA World Cup'), ('lname', 'Japan'), ('howmanyteam', '32')]\n",
      "[('ename', '2006 FIFA World Cup'), ('lname', 'Germany'), ('howmanyteam', '31')]\n",
      "[('ename', '2010 FIFA World Cup'), ('lname', 'South Africa'), ('howmanyteam', '32')]\n",
      "[('ename', '2014 FIFA World Cup'), ('lname', 'Brazil'), ('howmanyteam', '32')]\n",
      "[('ename', '2018 FIFA World Cup'), ('lname', 'Russia'), ('howmanyteam', '9')]\n"
     ]
    },
    {
     "data": {
      "text/plain": [
       "22"
      ]
     },
     "execution_count": 43,
     "metadata": {},
     "output_type": "execute_result"
    }
   ],
   "source": [
    "# solution 3: count the number of participants in each world cup\n",
    "# I use $ at the end of string in REGEX to exclude Finals \n",
    "queryString = \"\"\"\n",
    "\n",
    "SELECT DISTINCT ?ename ?lname (COUNT(?location) AS ?howmanyteam)\n",
    "   WHERE { \n",
    "            ?team wdt:P31 wd:Q6979593;\n",
    "                  wdt:P1344 ?event.\n",
    "\n",
    "            ?event  wdt:P17 ?location.\n",
    "\n",
    "            # this returns the labels\n",
    "            ?event <http://schema.org/name> ?ename .\n",
    "            ?location <http://schema.org/name> ?lname .\n",
    "            FILTER REGEX(?ename, \"FIFA World Cup$\") \n",
    "\n",
    "            }              \n",
    "ORDER BY  (?ename)\n",
    "\n",
    "\"\"\"\n",
    "print(\"Results\")\n",
    "run_query(queryString)"
   ]
  },
  {
   "cell_type": "code",
   "execution_count": 67,
   "id": "33b89b2a-fb62-46b6-8204-b59a5c50d1d5",
   "metadata": {},
   "outputs": [
    {
     "name": "stdout",
     "output_type": "stream",
     "text": [
      "Results\n",
      "[('countryname', 'Brazil'), ('howmanyteam', '20')]\n",
      "[('countryname', 'Italy'), ('howmanyteam', '18')]\n",
      "[('countryname', 'Germany'), ('howmanyteam', '18')]\n",
      "[('countryname', 'Mexico'), ('howmanyteam', '15')]\n",
      "[('countryname', 'Argentina'), ('howmanyteam', '15')]\n"
     ]
    },
    {
     "data": {
      "text/plain": [
       "5"
      ]
     },
     "execution_count": 67,
     "metadata": {},
     "output_type": "execute_result"
    }
   ],
   "source": [
    "# solution 4-1: count the number of participants of each country in world cup\n",
    "queryString = \"\"\"\n",
    "\n",
    "SELECT DISTINCT ?countryname (COUNT(?countryname) AS ?howmanyteam)\n",
    "WHERE { \n",
    "    ?team wdt:P31 wd:Q6979593;\n",
    "          wdt:P1344 ?event;\n",
    "          wdt:P1532 ?country.\n",
    "    \n",
    "    # this returns the labels\n",
    "    ?event sc:name ?eventname .\n",
    "    ?country sc:name ?countryname .\n",
    "    FILTER REGEX(?eventname, \"FIFA World Cup$\",'i')\n",
    "    \n",
    "    \n",
    "} \n",
    "\n",
    "ORDER BY DESC (?howmanyteam)\n",
    "limit 5\n",
    "\"\"\"\n",
    "\n",
    "print(\"Results\")\n",
    "run_query(queryString)"
   ]
  },
  {
   "cell_type": "code",
   "execution_count": 164,
   "id": "8431391e-2e48-4f67-824d-76190e31d59b",
   "metadata": {},
   "outputs": [
    {
     "name": "stdout",
     "output_type": "stream",
     "text": [
      "Results\n",
      "[('ename', '1954 FIFA World Cup Final'), ('cname', 'Germany')]\n",
      "[('ename', '1954 FIFA World Cup Final'), ('cname', 'Hungary')]\n",
      "[('ename', '1998 FIFA World Cup Final'), ('cname', 'France')]\n",
      "[('ename', '1998 FIFA World Cup Final'), ('cname', 'Brazil')]\n",
      "[('ename', '2002 FIFA World Cup Final'), ('cname', 'Brazil')]\n",
      "[('ename', '2002 FIFA World Cup Final'), ('cname', 'Germany')]\n",
      "[('ename', '2010 FIFA World Cup Final'), ('cname', 'Netherlands')]\n",
      "[('ename', '2010 FIFA World Cup Final'), ('cname', 'Spain')]\n",
      "[('ename', '2014 FIFA World Cup Final'), ('cname', 'Argentina')]\n",
      "[('ename', '2014 FIFA World Cup Final'), ('cname', 'Germany')]\n"
     ]
    },
    {
     "data": {
      "text/plain": [
       "10"
      ]
     },
     "execution_count": 164,
     "metadata": {},
     "output_type": "execute_result"
    }
   ],
   "source": [
    "# teams that were in final games\n",
    "queryString = \"\"\"\n",
    "\n",
    "SELECT DISTINCT ?ename ?cname \n",
    "WHERE { \n",
    "    ?team wdt:P31 wd:Q6979593;\n",
    "          wdt:P1344 ?event;\n",
    "          wdt:P1532 ?country.\n",
    "    \n",
    "    # this returns the labels\n",
    "    ?country <http://schema.org/name> ?cname .\n",
    "    ?event <http://schema.org/name> ?ename .\n",
    "    FILTER REGEX(?ename, \"world cup final\",'i')\n",
    "} \n",
    "ORDER BY  (?ename)\n",
    "\n",
    "\"\"\"\n",
    "\n",
    "print(\"Results\")\n",
    "run_query(queryString)"
   ]
  },
  {
   "cell_type": "code",
   "execution_count": 162,
   "id": "41306171-d56d-49f7-b93c-369f1ecf0550",
   "metadata": {},
   "outputs": [
    {
     "name": "stdout",
     "output_type": "stream",
     "text": [
      "Results\n",
      "[('vname', '1938 FIFA World Cup'), ('cname', 'Italy')]\n",
      "[('vname', '2018 FIFA World Cup'), ('cname', 'France')]\n",
      "[('vname', '2010 FIFA World Cup'), ('cname', 'Spain')]\n",
      "[('vname', '2006 FIFA World Cup'), ('cname', 'Italy')]\n",
      "[('vname', '1982 FIFA World Cup'), ('cname', 'Italy')]\n",
      "[('vname', '2014 FIFA World Cup'), ('cname', 'Germany')]\n",
      "[('vname', '1998 FIFA World Cup'), ('cname', 'France')]\n",
      "[('vname', '1954 FIFA World Cup'), ('cname', 'Germany')]\n",
      "[('vname', '1990 FIFA World Cup'), ('cname', 'Germany')]\n",
      "[('vname', '1966 FIFA World Cup'), ('cname', 'England')]\n",
      "[('vname', '1974 FIFA World Cup'), ('cname', 'Germany')]\n",
      "[('vname', '1934 FIFA World Cup'), ('cname', 'Italy')]\n"
     ]
    },
    {
     "data": {
      "text/plain": [
       "12"
      ]
     },
     "execution_count": 162,
     "metadata": {},
     "output_type": "execute_result"
    }
   ],
   "source": [
    "# teams that won in final games\n",
    "queryString = \"\"\"\n",
    "\n",
    "SELECT DISTINCT ?vname ?cname #(COUNT(?vname) AS ?howmanyteam)\n",
    "WHERE { \n",
    "    ?team wdt:P31 wd:Q6979593;\n",
    "          wdt:P2522 ?victory;\n",
    "          wdt:P1532 ?country.\n",
    "    \n",
    "    # this returns the labels\n",
    "    ?country <http://schema.org/name> ?cname .\n",
    "    ?victory <http://schema.org/name> ?vname .\n",
    "    FILTER REGEX(?vname, \"fifa world cup\",'i')\n",
    "} \n",
    "#ORDER BY DESC (?howmanyteam)\n",
    "\n",
    "\"\"\"\n",
    "\n",
    "print(\"Results\")\n",
    "run_query(queryString)"
   ]
  },
  {
   "cell_type": "code",
   "execution_count": 240,
   "id": "44f8879e-3cee-4018-a6d4-068ba19738e6",
   "metadata": {},
   "outputs": [
    {
     "name": "stdout",
     "output_type": "stream",
     "text": [
      "Results\n",
      "[('vname', '1938 FIFA World Cup'), ('cname', 'Italy')]\n",
      "[('vname', '2018 FIFA World Cup'), ('cname', 'France')]\n",
      "[('vname', '2010 FIFA World Cup'), ('cname', 'Spain')]\n",
      "[('vname', '2006 FIFA World Cup'), ('cname', 'Italy')]\n",
      "[('vname', '1982 FIFA World Cup'), ('cname', 'Italy')]\n",
      "[('vname', '2014 FIFA World Cup'), ('cname', 'Germany')]\n",
      "[('vname', '1998 FIFA World Cup'), ('cname', 'France')]\n",
      "[('vname', '1954 FIFA World Cup'), ('cname', 'Germany')]\n",
      "[('vname', '1990 FIFA World Cup'), ('cname', 'Germany')]\n",
      "[('vname', '1966 FIFA World Cup'), ('cname', 'England')]\n",
      "[('vname', '1974 FIFA World Cup'), ('cname', 'Germany')]\n",
      "[('vname', '1934 FIFA World Cup'), ('cname', 'Italy')]\n",
      "[('ename', '2010 FIFA World Cup Final'), ('cname', 'Netherlands')]\n",
      "[('ename', '2010 FIFA World Cup Final'), ('cname', 'Spain')]\n",
      "[('ename', '1998 FIFA World Cup Final'), ('cname', 'France')]\n",
      "[('ename', '1998 FIFA World Cup Final'), ('cname', 'Brazil')]\n",
      "[('ename', '2002 FIFA World Cup Final'), ('cname', 'Brazil')]\n",
      "[('ename', '2002 FIFA World Cup Final'), ('cname', 'Germany')]\n",
      "[('ename', '1954 FIFA World Cup Final'), ('cname', 'Germany')]\n",
      "[('ename', '1954 FIFA World Cup Final'), ('cname', 'Hungary')]\n",
      "[('ename', '2014 FIFA World Cup Final'), ('cname', 'Argentina')]\n",
      "[('ename', '2014 FIFA World Cup Final'), ('cname', 'Germany')]\n"
     ]
    },
    {
     "data": {
      "text/plain": [
       "22"
      ]
     },
     "execution_count": 240,
     "metadata": {},
     "output_type": "execute_result"
    }
   ],
   "source": [
    "queryString = \"\"\"\n",
    "\n",
    "SELECT DISTINCT ?vname ?ename ?cname #(COUNT(?vname) AS ?howmanyteam)\n",
    "WHERE { \n",
    "    {\n",
    "        ?team wdt:P31 wd:Q6979593;\n",
    "              wdt:P2522 ?victory;\n",
    "              wdt:P1532 ?country.\n",
    "\n",
    "        # this returns the labels\n",
    "        ?country <http://schema.org/name> ?cname .\n",
    "        ?victory <http://schema.org/name> ?vname .\n",
    "        FILTER REGEX(?vname, \"fifa world cup\",'i')\n",
    "    }UNION\n",
    "    { \n",
    "        ?team wdt:P31 wd:Q6979593;\n",
    "              wdt:P1344 ?event;\n",
    "              wdt:P1532 ?country.\n",
    "\n",
    "        # this returns the labels\n",
    "        ?country <http://schema.org/name> ?cname .\n",
    "        ?event <http://schema.org/name> ?ename .\n",
    "        FILTER REGEX(?ename, \"world cup final\",'i')\n",
    "    } \n",
    "} \n",
    "#ORDER BY DESC (?howmanyteam)\n",
    "\n",
    "\"\"\"\n",
    "\n",
    "print(\"Results\")\n",
    "run_query(queryString)"
   ]
  },
  {
   "cell_type": "code",
   "execution_count": 246,
   "id": "9c12ae12-7ac8-4e8b-b832-4bfbbef69b08",
   "metadata": {},
   "outputs": [
    {
     "name": "stdout",
     "output_type": "stream",
     "text": [
      "Results\n",
      "[('cname', 'Germany'), ('howmanyteam', '3')]\n",
      "[('cname', 'Brazil'), ('howmanyteam', '2')]\n",
      "[('cname', 'Netherlands'), ('howmanyteam', '1')]\n",
      "[('cname', 'France'), ('howmanyteam', '1')]\n",
      "[('cname', 'Spain'), ('howmanyteam', '1')]\n",
      "[('cname', 'Hungary'), ('howmanyteam', '1')]\n",
      "[('cname', 'Argentina'), ('howmanyteam', '1')]\n"
     ]
    },
    {
     "data": {
      "text/plain": [
       "7"
      ]
     },
     "execution_count": 246,
     "metadata": {},
     "output_type": "execute_result"
    }
   ],
   "source": [
    "# how many teams were in final games\n",
    "queryString = \"\"\"\n",
    "\n",
    "SELECT DISTINCT  ?cname (COUNT(?ename) AS ?howmanyteam)\n",
    "WHERE { \n",
    "    ?team wdt:P31 wd:Q6979593;\n",
    "          wdt:P1344 ?event;\n",
    "          wdt:P1532 ?country.\n",
    "    \n",
    "    # this returns the labels\n",
    "    ?country <http://schema.org/name> ?cname .\n",
    "    ?event <http://schema.org/name> ?ename .\n",
    "    FILTER REGEX(?ename, \"fifa world cup final\",'i')\n",
    "} \n",
    "ORDER BY DESC (?howmanyteam)\n",
    "\n",
    "\"\"\"\n",
    "\n",
    "print(\"Results\")\n",
    "run_query(queryString)"
   ]
  },
  {
   "cell_type": "code",
   "execution_count": null,
   "id": "e7bf5885-f291-44c3-aa71-f6a12fb600de",
   "metadata": {},
   "outputs": [],
   "source": [
    "4.2 Which country participated in the most finals? "
   ]
  },
  {
   "cell_type": "code",
   "execution_count": 129,
   "id": "6895be6e-ae93-460e-9d49-4ac2b892c849",
   "metadata": {},
   "outputs": [
    {
     "name": "stdout",
     "output_type": "stream",
     "text": [
      "Results\n",
      "[('cname', 'Germany'), ('howmanyteam', '3')]\n",
      "[('cname', 'France'), ('howmanyteam', '1')]\n",
      "[('cname', 'Spain'), ('howmanyteam', '1')]\n"
     ]
    },
    {
     "data": {
      "text/plain": [
       "3"
      ]
     },
     "execution_count": 129,
     "metadata": {},
     "output_type": "execute_result"
    }
   ],
   "source": [
    "# solution 4-2: get the country Which participated in the most finals\n",
    "queryString = \"\"\"\n",
    "\n",
    "SELECT DISTINCT   ?cname  (COUNT(?cname) AS ?howmanyteam)\n",
    "WHERE { \n",
    "\n",
    "           {\n",
    "            ?team wdt:P31 wd:Q6979593;\n",
    "                  wdt:P1344 ?event; \n",
    "                  wdt:P1532 ?country.\n",
    "\n",
    "             # this returns the labels\n",
    "            ?country <http://schema.org/name> ?cname .\n",
    "            ?event <http://schema.org/name> ?ename .\n",
    "            FILTER REGEX(?ename, \"world cup final\",'i')\n",
    "            \n",
    "             \n",
    "            ?team wdt:P31 wd:Q6979593; \n",
    "                    wdt:P2522 ?victory.\n",
    "            ?victory <http://schema.org/name> ?vname .\n",
    "            FILTER REGEX(?vname, \"fifa world cup\",'i')\n",
    "              }\n",
    "            \n",
    "\n",
    "\n",
    "\n",
    "           \n",
    "           \n",
    "\n",
    "} \n",
    "GROUP BY ?cname ?vname\n",
    "ORDER BY DESC (?howmanyteam)\n",
    "\n",
    "\"\"\"\n",
    "\n",
    "print(\"Results\")\n",
    "run_query(queryString)"
   ]
  },
  {
   "cell_type": "code",
   "execution_count": null,
   "id": "9a600503-1ff9-4a5b-a963-7bbc03b85e21",
   "metadata": {},
   "outputs": [],
   "source": [
    "4.2  Which country won the most finals?"
   ]
  },
  {
   "cell_type": "code",
   "execution_count": 70,
   "id": "0a5b0882-75ad-4b09-a261-55dcb0e98a5f",
   "metadata": {},
   "outputs": [
    {
     "name": "stdout",
     "output_type": "stream",
     "text": [
      "Results\n",
      "[('cname', 'Italy'), ('vname', '1934 FIFA World Cup'), ('howmanyteam', '1')]\n",
      "[('cname', 'France'), ('vname', '1998 FIFA World Cup'), ('howmanyteam', '1')]\n",
      "[('cname', 'Italy'), ('vname', '2006 FIFA World Cup'), ('howmanyteam', '1')]\n",
      "[('cname', 'Germany'), ('vname', '1954 FIFA World Cup'), ('howmanyteam', '1')]\n",
      "[('cname', 'Germany'), ('vname', '1990 FIFA World Cup'), ('howmanyteam', '1')]\n",
      "[('cname', 'Italy'), ('vname', '1938 FIFA World Cup'), ('howmanyteam', '1')]\n",
      "[('cname', 'Spain'), ('vname', '2010 FIFA World Cup'), ('howmanyteam', '1')]\n",
      "[('cname', 'Italy'), ('vname', '1982 FIFA World Cup'), ('howmanyteam', '1')]\n",
      "[('cname', 'England'), ('vname', '1966 FIFA World Cup'), ('howmanyteam', '1')]\n",
      "[('cname', 'Germany'), ('vname', '1974 FIFA World Cup'), ('howmanyteam', '1')]\n",
      "[('cname', 'Germany'), ('vname', '2014 FIFA World Cup'), ('howmanyteam', '1')]\n",
      "[('cname', 'France'), ('vname', '2018 FIFA World Cup'), ('howmanyteam', '1')]\n"
     ]
    },
    {
     "data": {
      "text/plain": [
       "12"
      ]
     },
     "execution_count": 70,
     "metadata": {},
     "output_type": "execute_result"
    }
   ],
   "source": [
    "# solution 4-2: get the country Which participated in the most finals\n",
    "queryString = \"\"\"\n",
    "\n",
    "SELECT DISTINCT   ?cname  (COUNT(?vname) AS ?howmanyteam)\n",
    "WHERE { \n",
    "    ?team wdt:P31 wd:Q6979593;\n",
    "          wdt:P2522 ?victory;\n",
    "          wdt:P1532 ?country.\n",
    "    \n",
    "    # this returns the labels\n",
    "    ?victory <http://schema.org/name> ?vname .\n",
    "    ?country <http://schema.org/name> ?cname .\n",
    "    FILTER REGEX(?vname, \"fifa world cup\",'i')\n",
    "} \n",
    "GROUP BY ?cname ?vname\n",
    "ORDER BY DESC (?howmanyteam)\n",
    "\n",
    "\"\"\"\n",
    "\n",
    "print(\"Results\")\n",
    "run_query(queryString)"
   ]
  },
  {
   "cell_type": "code",
   "execution_count": null,
   "id": "e73c4876-bb4c-4ff0-9cf1-c45968b817da",
   "metadata": {},
   "outputs": [
    {
     "name": "stdout",
     "output_type": "stream",
     "text": [
      "Object `Germany` not found.\n"
     ]
    }
   ],
   "source": [
    "4.3 Who participated in the most world cups among Italy, France, Spain, and Germany?"
   ]
  },
  {
   "cell_type": "code",
   "execution_count": 284,
   "id": "f2fba9f1-dbea-463c-8c29-b282de77a5e6",
   "metadata": {},
   "outputs": [
    {
     "name": "stdout",
     "output_type": "stream",
     "text": [
      "Results\n",
      "[('cname', 'Italy'), ('howmanyteam', '18')]\n",
      "[('cname', 'Germany'), ('howmanyteam', '18')]\n",
      "[('cname', 'France'), ('howmanyteam', '14')]\n",
      "[('cname', 'Spain'), ('howmanyteam', '14')]\n"
     ]
    },
    {
     "data": {
      "text/plain": [
       "4"
      ]
     },
     "execution_count": 284,
     "metadata": {},
     "output_type": "execute_result"
    }
   ],
   "source": [
    "# solution 4-3: get the country Which participated in the most world cups\n",
    "queryString = \"\"\"\n",
    "\n",
    "SELECT DISTINCT   ?cname  (COUNT(?cname) AS ?howmanyteam)\n",
    "WHERE { \n",
    "    ?team wdt:P31 wd:Q6979593;\n",
    "          wdt:P1344 ?event;\n",
    "          wdt:P17 ?country.\n",
    "    \n",
    "    # this returns the labels\n",
    "    ?event <http://schema.org/name> ?eventname .\n",
    "    ?country <http://schema.org/name> ?cname .\n",
    "    FILTER REGEX(?eventname, \"FIFA World Cup$\",'i').\n",
    "    FILTER REGEX(?cname, \"Italy|France|Spain|Germany\",'i')\n",
    "} \n",
    "GROUP BY ?cname\n",
    "ORDER BY DESC (?howmanyteam)\n",
    "\n",
    "\"\"\"\n",
    "\n",
    "print(\"Results\")\n",
    "run_query(queryString)"
   ]
  },
  {
   "cell_type": "code",
   "execution_count": 363,
   "id": "c10303da-1c29-4db5-91f8-4336c5faf2a7",
   "metadata": {},
   "outputs": [
    {
     "name": "stdout",
     "output_type": "stream",
     "text": [
      "Results\n",
      "[('p', 'http://www.wikidata.org/entity/Q1477177'), ('pname', '1934 FIFA World Cup')]\n",
      "[('p', 'http://www.wikidata.org/entity/Q131591'), ('pname', '1938 FIFA World Cup')]\n",
      "[('p', 'http://www.wikidata.org/entity/Q131075'), ('pname', '1954 FIFA World Cup')]\n",
      "[('p', 'http://www.wikidata.org/entity/Q134202'), ('pname', '1966 FIFA World Cup')]\n",
      "[('p', 'http://www.wikidata.org/entity/Q166121'), ('pname', '1974 FIFA World Cup')]\n",
      "[('p', 'http://www.wikidata.org/entity/Q46934'), ('pname', '1982 FIFA World Cup')]\n",
      "[('p', 'http://www.wikidata.org/entity/Q132529'), ('pname', '1990 FIFA World Cup')]\n",
      "[('p', 'http://www.wikidata.org/entity/Q101730'), ('pname', '1998 FIFA World Cup')]\n",
      "[('p', 'http://www.wikidata.org/entity/Q37285'), ('pname', '2006 FIFA World Cup')]\n",
      "[('p', 'http://www.wikidata.org/entity/Q176883'), ('pname', '2010 FIFA World Cup')]\n",
      "[('p', 'http://www.wikidata.org/entity/Q79859'), ('pname', '2014 FIFA World Cup')]\n",
      "[('p', 'http://www.wikidata.org/entity/Q170645'), ('pname', '2018 FIFA World Cup')]\n"
     ]
    },
    {
     "data": {
      "text/plain": [
       "12"
      ]
     },
     "execution_count": 363,
     "metadata": {},
     "output_type": "execute_result"
    }
   ],
   "source": []
  },
  {
   "cell_type": "code",
   "execution_count": null,
   "id": "03e104f6-96c1-4b14-b5f4-812a0f82b9a1",
   "metadata": {},
   "outputs": [],
   "source": []
  }
 ],
 "metadata": {
  "kernelspec": {
   "display_name": "Python 3 (ipykernel)",
   "language": "python",
   "name": "python3"
  },
  "language_info": {
   "codemirror_mode": {
    "name": "ipython",
    "version": 3
   },
   "file_extension": ".py",
   "mimetype": "text/x-python",
   "name": "python",
   "nbconvert_exporter": "python",
   "pygments_lexer": "ipython3",
   "version": "3.7.10"
  }
 },
 "nbformat": 4,
 "nbformat_minor": 5
}
