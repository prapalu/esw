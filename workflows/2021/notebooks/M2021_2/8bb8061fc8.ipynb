{
    "cells": [
        {
            "cell_type": "markdown",
            "id": "7034c3bf-6eb0-4418-8687-7b9d2a501103",
            "metadata": {},
            "source": [
                "# General instructions\n",
                "\n",
                "The goal of the project is to materialize a set of **exploratory workloads** over a real-world, large-scale,  open-domain KG: [WikiData](https://www.wikidata.org/wiki/Wikidata:Main_Page)\n",
                "\n",
                "An exploratory workload  is composed by a set of queries, where each query is related to the information obtained previously.\n",
                "\n",
                "An exploratory workload starts with a usually vague, open ended question, and does not assume the person issuing the workload has a clear understanding of the data contained in the target database or its structure.\n",
                "\n",
                "Remeber that:\n",
                "\n",
                "1. All the queries must run in the python notebook\n",
                "2. You can use classes and properties only if you find them via a SPARQL query that must be present in the notebook\n",
                "3. You do not delete useless queries. Keep everything that is synthatically valid \n",
                "\n",
                "```\n",
                "?p <http://schema.org/name> ?name .\n",
                "```\n",
                "    \n",
                "is the BGP returning a human-readable name of a property or a class in Wikidata.\n",
                "    \n",
                "    "
            ]
        },
        {
            "cell_type": "code",
            "execution_count": 1,
            "id": "3605c9d5-5371-49a5-be8d-d66e8f417139",
            "metadata": {},
            "outputs": [],
            "source": [
                "## SETUP used later\n",
                "\n",
                "from SPARQLWrapper import SPARQLWrapper, JSON\n",
                "\n",
                "\n",
                "prefixString = \"\"\"\n",
                "##-8bb8061fc8-##\n",
                "PREFIX wd: <http://www.wikidata.org/entity/> \n",
                "PREFIX wdt: <http://www.wikidata.org/prop/direct/> \n",
                "PREFIX sc: <http://schema.org/>\n",
                "\"\"\"\n",
                "\n",
                "# select and construct queries\n",
                "def run_query(queryString):\n",
                "    to_run = prefixString + \"\\n\" + queryString\n",
                "\n",
                "    sparql = SPARQLWrapper(\"http://a256-gc1-02.srv.aau.dk:5820/sparql\")\n",
                "    #sparql = SPARQLWrapper(\"http://a256-gc1-03.srv.aau.dk:5820/sparql\")\n",
                "    sparql.setTimeout(300)\n",
                "    sparql.setReturnFormat(JSON)\n",
                "    sparql.setQuery(to_run)\n",
                "\n",
                "    try :\n",
                "       results = sparql.query()\n",
                "       json_results = results.convert()\n",
                "       if len(json_results['results']['bindings'])==0:\n",
                "          print(\"Empty\")\n",
                "          return 0\n",
                "    \n",
                "       for bindings in json_results['results']['bindings']:\n",
                "          print( [ (var, value['value'])  for var, value in bindings.items() ] )\n",
                "\n",
                "       return len(json_results['results']['bindings'])\n",
                "\n",
                "    except Exception as e :\n",
                "        print(\"The operation failed\", e)\n",
                "    \n",
                "# ASk queries\n",
                "def run_ask_query(queryString):\n",
                "    to_run = prefixString + \"\\n\" + queryString\n",
                "    \n",
                "    sparql = SPARQLWrapper(\"http://a256-gc1-02.srv.aau.dk:5820/sparql\")\n",
                "    #sparql = SPARQLWrapper(\"http://a256-gc1-03.srv.aau.dk:5820/sparql\")\n",
                "    sparql.setTimeout(300)\n",
                "    sparql.setReturnFormat(JSON)\n",
                "    sparql.setQuery(to_run)\n",
                "\n",
                "    try :\n",
                "        return sparql.query().convert()\n",
                "\n",
                "    except Exception as e :\n",
                "        print(\"The operation failed\", e)\n"
            ]
        },
        {
            "cell_type": "markdown",
            "id": "d477a59c-a68c-4c8f-9f97-8ca5294d7d27",
            "metadata": {},
            "source": [
                "# Sport Workflow Series (\"F1 pilots explorative search\") \n",
                "\n",
                "Consider the following exploratory information need:\n",
                "\n",
                "> explore F1 pilots, their nationality, racing teams, and the country of the parent organization of the team"
            ]
        },
        {
            "cell_type": "markdown",
            "id": "4a45c0ba-f79e-441d-bec5-84401b09db70",
            "metadata": {},
            "source": [
                "## Useful URIs for the current workflow\n",
                "\n",
                "\n",
                "The following are given:\n",
                "\n",
                "| IRI           | Description   | Role      |\n",
                "| -----------   | -----------   |-----------|\n",
                "| `wdt:P1647`   | subproperty   | predicate |\n",
                "| `wdt:P31`     | instance of   | predicate |\n",
                "| `wdt:P106`    | profession    | predicate | \n",
                "| `wdt:P279`    | subclass      | predicate |\n",
                "| `wdt:P27`     | nationality   | predicate |\n",
                "| `wdt:P17`     | country       | predicate |\n",
                "| `wd:Q10497835`| F1 Team       | node |\n",
                "| `wd:Q10841764`| F1 Driver       | node |\n",
                "| `wd:Q9671`    | Michael Schumacher      | node |\n",
                "| `wd:Q169898`  | Scuderia Ferrari         | node |\n",
                "| `wd:Q27586`   |  Ferrari         | node |\n",
                "| `wd:Q183`     | Germany       | node |\n",
                "\n",
                "\n",
                "Also consider\n",
                "\n",
                "```\n",
                "?p wdt:P106 wd:Q10841764 .\n",
                "?p wdt:P27 wd:Q183 .\n",
                "```\n",
                "\n",
                "is the BGP to retrieve all **citizens of Germany**\n",
                "\n",
                "```\n",
                "?p wdt:P17 wd:Q183 .\n",
                "?p wdt:P31 wd:Q10497835 .\n",
                "\n",
                "``` \n",
                "\n",
                "is the BGP to retrieve all **F1 teams of Germany**"
            ]
        },
        {
            "cell_type": "markdown",
            "id": "7af439fb-96e4-4dbb-a381-f19afab79f86",
            "metadata": {
                "tags": []
            },
            "source": [
                "## Workload Goals\n",
                "\n",
                "1. Identify the BGP for obtaining the team of a given  F1 driver  and also the F1 competitions in which they participated\n",
                "\n",
                "2. Identify the BGP that connects a F1 team to a parent company\n",
                "\n",
                "3. How many F1 drivers and F1 teams exist in each country?\n",
                "\n",
                "4. Compare number of F1 drivers to their nationality\n",
                " \n",
                "   4.1 Is there some driver that joined a team in their own country?\n",
                "   \n",
                "   4.2 Which team employed the larger number of drivers?\n",
                "   \n",
                "   4.3 For each country , which are the teams and drivers with the highest number of F1 race participations\n"
            ]
        },
        {
            "cell_type": "code",
            "execution_count": 3,
            "id": "ade01416-92e7-4ad7-b9a9-b8fb330750dc",
            "metadata": {},
            "outputs": [
                {
                    "name": "stdout",
                    "output_type": "stream",
                    "text": [
                        "[('name', 'Formula One team')]\n",
                        "[('name', 'auto racing team')]\n"
                    ]
                },
                {
                    "data": {
                        "text/plain": [
                            "2"
                        ]
                    },
                    "execution_count": 3,
                    "metadata": {},
                    "output_type": "execute_result"
                }
            ],
            "source": [
                "#first of all i want to figure out the difference between \"scuderia ferrari\" and \"ferrari\", i guess they will belong to different classes\n",
                "q = f\"\"\"\n",
                "select ?name where{{\n",
                "wd:Q169898 wdt:P31 ?class .\n",
                "?class <http://schema.org/name> ?name\n",
                "}}\n",
                "\"\"\"\n",
                "run_query(q)"
            ]
        },
        {
            "cell_type": "code",
            "execution_count": 4,
            "id": "4eb936ff-2913-4652-bcf1-2d221c08568a",
            "metadata": {},
            "outputs": [
                {
                    "name": "stdout",
                    "output_type": "stream",
                    "text": [
                        "[('name', 'racecar constructor')]\n",
                        "[('name', 'automobile manufacturer')]\n"
                    ]
                },
                {
                    "data": {
                        "text/plain": [
                            "2"
                        ]
                    },
                    "execution_count": 4,
                    "metadata": {},
                    "output_type": "execute_result"
                }
            ],
            "source": [
                "q = f\"\"\"\n",
                "select ?name where{{\n",
                "wd:Q27586 wdt:P31 ?class .\n",
                "?class <http://schema.org/name> ?name\n",
                "}}\n",
                "\"\"\"\n",
                "run_query(q)"
            ]
        },
        {
            "cell_type": "code",
            "execution_count": 5,
            "id": "699a8200-6e21-4b2c-83af-9fdee08ecd72",
            "metadata": {},
            "outputs": [
                {
                    "name": "stdout",
                    "output_type": "stream",
                    "text": [
                        "[('class', 'http://www.wikidata.org/entity/Q10497835'), ('name', 'Formula One team')]\n",
                        "[('class', 'http://www.wikidata.org/entity/Q20074337'), ('name', 'auto racing team')]\n"
                    ]
                },
                {
                    "data": {
                        "text/plain": [
                            "2"
                        ]
                    },
                    "execution_count": 5,
                    "metadata": {},
                    "output_type": "execute_result"
                }
            ],
            "source": [
                "#since this notebook is about formula 1, let's get the uri of the class \"Formula One team\"\n",
                "q = f\"\"\"\n",
                "select ?class ?name where{{\n",
                "wd:Q169898 wdt:P31 ?class .\n",
                "?class <http://schema.org/name> ?name\n",
                "}}\n",
                "\"\"\"\n",
                "run_query(q)"
            ]
        },
        {
            "cell_type": "code",
            "execution_count": 6,
            "id": "d97ebebe-6887-42dd-ab73-d5c00b195dd4",
            "metadata": {},
            "outputs": [
                {
                    "name": "stdout",
                    "output_type": "stream",
                    "text": [
                        "[('prop', 'http://www.wikidata.org/prop/direct/P749'), ('name', 'parent organization')]\n"
                    ]
                },
                {
                    "data": {
                        "text/plain": [
                            "1"
                        ]
                    },
                    "execution_count": 6,
                    "metadata": {},
                    "output_type": "execute_result"
                }
            ],
            "source": [
                "Team = 'wd:Q10497835'\n",
                "#now let's figure out if \"scuderia ferrari\" is connected to \"Ferrari\" with some property\n",
                "q = f\"\"\"\n",
                "select distinct ?prop ?name where{{\n",
                "wd:Q169898 ?prop wd:Q27586 .\n",
                "?prop <http://schema.org/name> ?name .\n",
                "}}\n",
                "\"\"\"\n",
                "run_query(q)"
            ]
        },
        {
            "cell_type": "code",
            "execution_count": 7,
            "id": "0b5ae2dd-bd77-4884-a65d-f071f128738d",
            "metadata": {},
            "outputs": [
                {
                    "name": "stdout",
                    "output_type": "stream",
                    "text": [
                        "[('team', 'http://www.wikidata.org/entity/Q172030'), ('teamName', 'McLaren'), ('parent', 'http://www.wikidata.org/entity/Q173146'), ('parentName', 'McLaren Technology Group')]\n",
                        "[('team', 'http://www.wikidata.org/entity/Q2704273'), ('teamName', 'Aston Martin F1 Team'), ('parent', 'http://www.wikidata.org/entity/Q27074'), ('parentName', 'Aston Martin Lagonda')]\n",
                        "[('team', 'http://www.wikidata.org/entity/Q169898'), ('teamName', 'Scuderia Ferrari'), ('parent', 'http://www.wikidata.org/entity/Q27586'), ('parentName', 'Ferrari')]\n",
                        "[('team', 'http://www.wikidata.org/entity/Q173314'), ('teamName', 'Enzo Coloni Racing Car Systems'), ('parent', 'http://www.wikidata.org/entity/Q1631454'), ('parentName', 'Scuderia Coloni')]\n"
                    ]
                },
                {
                    "data": {
                        "text/plain": [
                            "4"
                        ]
                    },
                    "execution_count": 7,
                    "metadata": {},
                    "output_type": "execute_result"
                }
            ],
            "source": [
                "#we now have a way to connect a team with its parent organization\n",
                "parent = 'wdt:P749'\n",
                "#let's list (some) formula 1 teams with the related parent company\n",
                "q = f\"\"\"\n",
                "select ?team ?teamName ?parent ?parentName where{{\n",
                "?team wdt:P749 ?parent ;\n",
                "    wdt:P31 wd:Q10497835 ;\n",
                "    <http://schema.org/name> ?teamName .\n",
                "?parent <http://schema.org/name> ?parentName .\n",
                "}}\n",
                "limit 50\n",
                "\"\"\"\n",
                "run_query(q)"
            ]
        },
        {
            "cell_type": "code",
            "execution_count": 8,
            "id": "8a9da55d-821e-4049-8476-7578f970f211",
            "metadata": {},
            "outputs": [
                {
                    "name": "stdout",
                    "output_type": "stream",
                    "text": [
                        "[('team', 'http://www.wikidata.org/entity/Q141818'), ('teamName', 'Scuderia Toro Rosso')]\n",
                        "[('team', 'http://www.wikidata.org/entity/Q173663'), ('teamName', 'Red Bull Racing')]\n",
                        "[('team', 'http://www.wikidata.org/entity/Q142381'), ('teamName', 'Minardi')]\n",
                        "[('team', 'http://www.wikidata.org/entity/Q171320'), ('teamName', 'British American Racing')]\n",
                        "[('team', 'http://www.wikidata.org/entity/Q171420'), ('teamName', 'HRT Formula One Team')]\n",
                        "[('team', 'http://www.wikidata.org/entity/Q171992'), ('teamName', 'Tyrrell Racing')]\n",
                        "[('team', 'http://www.wikidata.org/entity/Q172765'), ('teamName', 'Spyker F1')]\n",
                        "[('team', 'http://www.wikidata.org/entity/Q172974'), ('teamName', 'Forti')]\n",
                        "[('team', 'http://www.wikidata.org/entity/Q173012'), ('teamName', 'British Racing Motors')]\n",
                        "[('team', 'http://www.wikidata.org/entity/Q173054'), ('teamName', 'Midland F1 Racing')]\n",
                        "[('team', 'http://www.wikidata.org/entity/Q173177'), ('teamName', 'March Engineering')]\n",
                        "[('team', 'http://www.wikidata.org/entity/Q174008'), ('teamName', 'Caterham F1')]\n",
                        "[('team', 'http://www.wikidata.org/entity/Q35931'), ('teamName', 'Ligier')]\n",
                        "[('team', 'http://www.wikidata.org/entity/Q622489'), ('teamName', 'Alfa Romeo')]\n",
                        "[('team', 'http://www.wikidata.org/entity/Q16300222'), ('teamName', 'Haas F1 Team')]\n",
                        "[('team', 'http://www.wikidata.org/entity/Q171342'), ('teamName', 'Honda')]\n",
                        "[('team', 'http://www.wikidata.org/entity/Q173055'), ('teamName', 'Jaguar Racing')]\n",
                        "[('team', 'http://www.wikidata.org/entity/Q169898'), ('teamName', 'Scuderia Ferrari')]\n",
                        "[('team', 'http://www.wikidata.org/entity/Q171329'), ('teamName', 'Benetton Formula')]\n",
                        "[('team', 'http://www.wikidata.org/entity/Q171337'), ('teamName', 'Williams Grand Prix Engineering')]\n",
                        "[('team', 'http://www.wikidata.org/entity/Q171367'), ('teamName', 'Jordan Grand Prix')]\n",
                        "[('team', 'http://www.wikidata.org/entity/Q172030'), ('teamName', 'McLaren')]\n",
                        "[('team', 'http://www.wikidata.org/entity/Q172721'), ('teamName', 'Mercedes')]\n",
                        "[('team', 'http://www.wikidata.org/entity/Q172722'), ('teamName', 'Renault F1 Team')]\n",
                        "[('team', 'http://www.wikidata.org/entity/Q172857'), ('teamName', 'Lola Cars')]\n",
                        "[('team', 'http://www.wikidata.org/entity/Q844092'), ('teamName', 'Equipe Matra Sports')]\n",
                        "[('team', 'http://www.wikidata.org/entity/Q144823'), ('teamName', 'Zakspeed')]\n",
                        "[('team', 'http://www.wikidata.org/entity/Q138933'), ('teamName', 'Force India')]\n",
                        "[('team', 'http://www.wikidata.org/entity/Q173179'), ('teamName', 'Marussia F1')]\n",
                        "[('team', 'http://www.wikidata.org/entity/Q61979'), ('teamName', 'Panasonic Toyota Racing')]\n",
                        "[('team', 'http://www.wikidata.org/entity/Q172109'), ('teamName', 'Onyx Grand Prix')]\n",
                        "[('team', 'http://www.wikidata.org/entity/Q171335'), ('teamName', 'Sauber')]\n",
                        "[('team', 'http://www.wikidata.org/entity/Q104620704'), ('teamName', 'Aston Martin F1 Team')]\n",
                        "[('team', 'http://www.wikidata.org/entity/Q2704273'), ('teamName', 'Aston Martin F1 Team')]\n",
                        "[('team', 'http://www.wikidata.org/entity/Q174176'), ('teamName', 'Arrows')]\n",
                        "[('team', 'http://www.wikidata.org/entity/Q842690'), ('teamName', 'Porsche')]\n",
                        "[('team', 'http://www.wikidata.org/entity/Q179408'), ('teamName', 'Virgin Racing')]\n",
                        "[('team', 'http://www.wikidata.org/entity/Q71371541'), ('teamName', 'Scuderia AlphaTauri Grimm')]\n",
                        "[('team', 'http://www.wikidata.org/entity/Q171506'), ('teamName', 'Osella')]\n",
                        "[('team', 'http://www.wikidata.org/entity/Q56245286'), ('teamName', 'Racing Point F1 Team')]\n",
                        "[('team', 'http://www.wikidata.org/entity/Q173314'), ('teamName', 'Enzo Coloni Racing Car Systems')]\n",
                        "[('team', 'http://www.wikidata.org/entity/Q173293'), ('teamName', 'Andrea Moda Formula')]\n",
                        "[('team', 'http://www.wikidata.org/entity/Q84562599'), ('teamName', 'Alfa Romeo F1 team (2019)')]\n",
                        "[('team', 'http://www.wikidata.org/entity/Q4097758'), ('teamName', 'Bugatti F1')]\n",
                        "[('team', 'http://www.wikidata.org/entity/Q173110'), ('teamName', 'Prost Grand Prix')]\n",
                        "[('team', 'http://www.wikidata.org/entity/Q1157975'), ('teamName', 'Dallara')]\n",
                        "[('team', 'http://www.wikidata.org/entity/Q172958'), ('teamName', 'Larrousse')]\n",
                        "[('team', 'http://www.wikidata.org/entity/Q173018'), ('teamName', 'Lotus F1')]\n",
                        "[('team', 'http://www.wikidata.org/entity/Q173103'), ('teamName', 'Brabham')]\n",
                        "[('team', 'http://www.wikidata.org/entity/Q171972'), ('teamName', 'Life Racing Engines')]\n"
                    ]
                },
                {
                    "data": {
                        "text/plain": [
                            "50"
                        ]
                    },
                    "execution_count": 8,
                    "metadata": {},
                    "output_type": "execute_result"
                }
            ],
            "source": [
                "#something's wrong, let's list only f1 teams\n",
                "q = f\"\"\"\n",
                "select distinct ?team ?teamName where{{\n",
                "?team wdt:P31 wd:Q10497835 ;\n",
                "    <http://schema.org/name> ?teamName .\n",
                "}}\n",
                "limit 50\n",
                "\"\"\"\n",
                "run_query(q)"
            ]
        },
        {
            "cell_type": "code",
            "execution_count": 9,
            "id": "f488b2b4-18a0-4f0f-9e7d-3df3fa1810da",
            "metadata": {},
            "outputs": [
                {
                    "name": "stdout",
                    "output_type": "stream",
                    "text": [
                        "Empty\n"
                    ]
                },
                {
                    "data": {
                        "text/plain": [
                            "0"
                        ]
                    },
                    "execution_count": 9,
                    "metadata": {},
                    "output_type": "execute_result"
                }
            ],
            "source": [
                "#let' try and get the parent of \"Lotus F1\"\n",
                "Lotus = 'wd:Q173018'\n",
                "q = f\"\"\"\n",
                "select distinct ?parent ?name where{{\n",
                "wd:Q173018 wdt:P749 ?parent .\n",
                "?parent <http://schema.org/name> ?name .\n",
                "}}\n",
                "\"\"\"\n",
                "run_query(q)"
            ]
        },
        {
            "cell_type": "code",
            "execution_count": 10,
            "id": "52fcf21e-bc6c-49ea-a54c-046cf3617bf4",
            "metadata": {},
            "outputs": [
                {
                    "name": "stdout",
                    "output_type": "stream",
                    "text": [
                        "Empty\n"
                    ]
                },
                {
                    "data": {
                        "text/plain": [
                            "0"
                        ]
                    },
                    "execution_count": 10,
                    "metadata": {},
                    "output_type": "execute_result"
                }
            ],
            "source": [
                "#let's try to invert the relationship just for the sake of it\n",
                "q = f\"\"\"\n",
                "select distinct ?parent ?name where{{\n",
                "?parent wdt:P749 wd:Q173018 .\n",
                "?parent <http://schema.org/name> ?name .\n",
                "}}\n",
                "\"\"\"\n",
                "run_query(q)"
            ]
        },
        {
            "cell_type": "code",
            "execution_count": 11,
            "id": "ba84cb99-4ace-49f6-91cb-46a5f0d3f96a",
            "metadata": {},
            "outputs": [
                {
                    "name": "stdout",
                    "output_type": "stream",
                    "text": [
                        "[('prop', 'http://www.wikidata.org/prop/direct/P17'), ('name', 'country')]\n",
                        "[('prop', 'http://www.wikidata.org/prop/direct/P18'), ('name', 'image')]\n",
                        "[('prop', 'http://www.wikidata.org/prop/direct/P1889'), ('name', 'different from')]\n",
                        "[('prop', 'http://www.wikidata.org/prop/direct/P2002'), ('name', 'Twitter username')]\n",
                        "[('prop', 'http://www.wikidata.org/prop/direct/P2013'), ('name', 'Facebook ID')]\n",
                        "[('prop', 'http://www.wikidata.org/prop/direct/P31'), ('name', 'instance of')]\n",
                        "[('prop', 'http://www.wikidata.org/prop/direct/P361'), ('name', 'part of')]\n",
                        "[('prop', 'http://www.wikidata.org/prop/direct/P373'), ('name', 'Commons category')]\n",
                        "[('prop', 'http://www.wikidata.org/prop/direct/P646'), ('name', 'Freebase ID')]\n",
                        "[('prop', 'http://www.wikidata.org/prop/direct/P856'), ('name', 'official website')]\n",
                        "[('prop', 'http://www.wikidata.org/prop/direct/P910'), ('name', \"topic's main category\")]\n",
                        "[('prop', 'http://www.wikidata.org/prop/direct/P935'), ('name', 'Commons gallery')]\n"
                    ]
                },
                {
                    "data": {
                        "text/plain": [
                            "12"
                        ]
                    },
                    "execution_count": 11,
                    "metadata": {},
                    "output_type": "execute_result"
                }
            ],
            "source": [
                "#let's see all the properties going out of Lotus\n",
                "q = f\"\"\"\n",
                "select distinct ?prop ?name where{{\n",
                "wd:Q173018 ?prop ?o .\n",
                "?prop <http://schema.org/name> ?name\n",
                "}}\n",
                "\"\"\"\n",
                "run_query(q)"
            ]
        },
        {
            "cell_type": "code",
            "execution_count": 12,
            "id": "d87496ba-7553-49b4-83ac-1e81a9014a2b",
            "metadata": {},
            "outputs": [
                {
                    "name": "stdout",
                    "output_type": "stream",
                    "text": [
                        "[('o', 'http://www.wikidata.org/entity/Q25412278'), ('name', 'Lotus in Formula One')]\n"
                    ]
                },
                {
                    "data": {
                        "text/plain": [
                            "1"
                        ]
                    },
                    "execution_count": 12,
                    "metadata": {},
                    "output_type": "execute_result"
                }
            ],
            "source": [
                "#the relationship \"part of\" may be promising\n",
                "partOf = 'wdt:P361'\n",
                "q = f\"\"\"\n",
                "select distinct ?o ?name where{{\n",
                "wd:Q173018 wdt:P361 ?o .\n",
                "?o <http://schema.org/name> ?name\n",
                "}}\n",
                "\"\"\"\n",
                "run_query(q)"
            ]
        },
        {
            "cell_type": "code",
            "execution_count": 13,
            "id": "b24737d9-8e36-4b1d-b7b3-08fe0ac8f1a2",
            "metadata": {},
            "outputs": [
                {
                    "name": "stdout",
                    "output_type": "stream",
                    "text": [
                        "[('c', 'http://www.wikidata.org/entity/Q21484471'), ('name', 'Wikipedia article covering multiple topics')]\n"
                    ]
                },
                {
                    "data": {
                        "text/plain": [
                            "1"
                        ]
                    },
                    "execution_count": 13,
                    "metadata": {},
                    "output_type": "execute_result"
                }
            ],
            "source": [
                "#what did we find?\n",
                "tmp = 'wd:Q25412278'\n",
                "q = f\"\"\"\n",
                "select ?c ?name where{{\n",
                "wd:Q25412278 wdt:P31 ?c .\n",
                "?c <http://schema.org/name> ?name\n",
                "}}\n",
                "\"\"\"\n",
                "run_query(q)"
            ]
        },
        {
            "cell_type": "code",
            "execution_count": 14,
            "id": "ab80753f-4679-4704-954e-6c4a71172fbc",
            "metadata": {},
            "outputs": [
                {
                    "name": "stdout",
                    "output_type": "stream",
                    "text": [
                        "[('s', 'http://www.wikidata.org/entity/Q3001169'), ('sName', 'Team Lotus')]\n",
                        "[('s', 'http://www.wikidata.org/entity/Q173996'), ('sName', 'Team Lotus')]\n",
                        "[('s', 'http://www.wikidata.org/entity/Q25412278'), ('sName', 'Lotus in Formula One')]\n",
                        "[('s', 'http://www.wikidata.org/entity/Q9213492'), ('sName', 'Category:Lotus F1 Team')]\n",
                        "[('s', 'http://www.wikidata.org/entity/Q29419331'), ('sName', 'Julien Simon-Chautemps')]\n"
                    ]
                },
                {
                    "data": {
                        "text/plain": [
                            "5"
                        ]
                    },
                    "execution_count": 14,
                    "metadata": {},
                    "output_type": "execute_result"
                }
            ],
            "source": [
                "#maybe Lotus is object of some property connecting it to a parent company\n",
                "#let's see if there is a parent company as a subject of some triple\n",
                "q = f\"\"\"\n",
                "select distinct ?s ?sName where{{\n",
                "?s ?prop wd:Q173018 .\n",
                "?s <http://schema.org/name> ?sName .\n",
                "}}\n",
                "\"\"\"\n",
                "run_query(q)"
            ]
        },
        {
            "cell_type": "code",
            "execution_count": 15,
            "id": "97c73d13-4bee-4e99-a830-a63d98bf9b1b",
            "metadata": {},
            "outputs": [
                {
                    "name": "stdout",
                    "output_type": "stream",
                    "text": [
                        "[('prop', 'http://www.wikidata.org/prop/direct/P1889'), ('name', 'different from')]\n"
                    ]
                },
                {
                    "data": {
                        "text/plain": [
                            "1"
                        ]
                    },
                    "execution_count": 15,
                    "metadata": {},
                    "output_type": "execute_result"
                }
            ],
            "source": [
                "tmp1 = 'wd:Q3001169'\n",
                "tmp2 = 'wd:Q173996'\n",
                "#let's see the name of the properties connecting tmp1 and tmp2 to Lotus\n",
                "q = f\"\"\"\n",
                "select distinct ?prop ?name where{{\n",
                "wd:Q3001169 ?prop wd:Q173018 .\n",
                "?prop <http://schema.org/name> ?name\n",
                "}}\n",
                "\"\"\"\n",
                "run_query(q)"
            ]
        },
        {
            "cell_type": "code",
            "execution_count": 16,
            "id": "f7e286bf-78c3-403c-bf1b-8f92838dc213",
            "metadata": {},
            "outputs": [
                {
                    "name": "stdout",
                    "output_type": "stream",
                    "text": [
                        "[('prop', 'http://www.wikidata.org/prop/direct/P1889'), ('name', 'different from')]\n"
                    ]
                },
                {
                    "data": {
                        "text/plain": [
                            "1"
                        ]
                    },
                    "execution_count": 16,
                    "metadata": {},
                    "output_type": "execute_result"
                }
            ],
            "source": [
                "q = f\"\"\"\n",
                "select distinct ?prop ?name where{{\n",
                "wd:Q173996 ?prop wd:Q173018 .\n",
                "?prop <http://schema.org/name> ?name\n",
                "}}\n",
                "\"\"\"\n",
                "run_query(q)"
            ]
        },
        {
            "cell_type": "code",
            "execution_count": 17,
            "id": "5fe65f3b-f601-41a3-9e60-a15a12ecc7aa",
            "metadata": {},
            "outputs": [
                {
                    "name": "stdout",
                    "output_type": "stream",
                    "text": [
                        "[('prop', 'http://www.wikidata.org/prop/direct/P9279'), ('name', 'Egapro gender equality index')]\n",
                        "[('prop', 'http://www.wikidata.org/prop/direct/P1056'), ('name', 'product or material produced')]\n",
                        "[('prop', 'http://www.wikidata.org/prop/direct/P112'), ('name', 'founded by')]\n",
                        "[('prop', 'http://www.wikidata.org/prop/direct/P1128'), ('name', 'employees')]\n",
                        "[('prop', 'http://www.wikidata.org/prop/direct/P118'), ('name', 'league')]\n",
                        "[('prop', 'http://www.wikidata.org/prop/direct/P1269'), ('name', 'facet of')]\n",
                        "[('prop', 'http://www.wikidata.org/prop/direct/P127'), ('name', 'owned by')]\n",
                        "[('prop', 'http://www.wikidata.org/prop/direct/P1344'), ('name', 'participant in')]\n",
                        "[('prop', 'http://www.wikidata.org/prop/direct/P1365'), ('name', 'replaces')]\n",
                        "[('prop', 'http://www.wikidata.org/prop/direct/P1366'), ('name', 'replaced by')]\n",
                        "[('prop', 'http://www.wikidata.org/prop/direct/P138'), ('name', 'named after')]\n",
                        "[('prop', 'http://www.wikidata.org/prop/direct/P1382'), ('name', 'partially coincident with')]\n",
                        "[('prop', 'http://www.wikidata.org/prop/direct/P1424'), ('name', \"topic's main template\")]\n",
                        "[('prop', 'http://www.wikidata.org/prop/direct/P1448'), ('name', 'official name')]\n",
                        "[('prop', 'http://www.wikidata.org/prop/direct/P1454'), ('name', 'legal form')]\n",
                        "[('prop', 'http://www.wikidata.org/prop/direct/P154'), ('name', 'logo image')]\n",
                        "[('prop', 'http://www.wikidata.org/prop/direct/P155'), ('name', 'follows')]\n",
                        "[('prop', 'http://www.wikidata.org/prop/direct/P159'), ('name', 'headquarters location')]\n",
                        "[('prop', 'http://www.wikidata.org/prop/direct/P1616'), ('name', 'SIREN number')]\n",
                        "[('prop', 'http://www.wikidata.org/prop/direct/P17'), ('name', 'country')]\n",
                        "[('prop', 'http://www.wikidata.org/prop/direct/P18'), ('name', 'image')]\n",
                        "[('prop', 'http://www.wikidata.org/prop/direct/P1830'), ('name', 'owner of')]\n",
                        "[('prop', 'http://www.wikidata.org/prop/direct/P1889'), ('name', 'different from')]\n",
                        "[('prop', 'http://www.wikidata.org/prop/direct/P2002'), ('name', 'Twitter username')]\n",
                        "[('prop', 'http://www.wikidata.org/prop/direct/P2003'), ('name', 'Instagram username')]\n",
                        "[('prop', 'http://www.wikidata.org/prop/direct/P2013'), ('name', 'Facebook ID')]\n",
                        "[('prop', 'http://www.wikidata.org/prop/direct/P2094'), ('name', 'competition class')]\n",
                        "[('prop', 'http://www.wikidata.org/prop/direct/P213'), ('name', 'ISNI')]\n",
                        "[('prop', 'http://www.wikidata.org/prop/direct/P214'), ('name', 'VIAF ID')]\n",
                        "[('prop', 'http://www.wikidata.org/prop/direct/P2184'), ('name', 'history of topic')]\n",
                        "[('prop', 'http://www.wikidata.org/prop/direct/P227'), ('name', 'GND ID')]\n",
                        "[('prop', 'http://www.wikidata.org/prop/direct/P2397'), ('name', 'YouTube channel ID')]\n",
                        "[('prop', 'http://www.wikidata.org/prop/direct/P2427'), ('name', 'GRID ID')]\n",
                        "[('prop', 'http://www.wikidata.org/prop/direct/P244'), ('name', 'Library of Congress authority ID')]\n",
                        "[('prop', 'http://www.wikidata.org/prop/direct/P2671'), ('name', 'Google Knowledge Graph ID')]\n",
                        "[('prop', 'http://www.wikidata.org/prop/direct/P268'), ('name', 'Biblioth\u00e8que nationale de France ID')]\n",
                        "[('prop', 'http://www.wikidata.org/prop/direct/P276'), ('name', 'location')]\n",
                        "[('prop', 'http://www.wikidata.org/prop/direct/P31'), ('name', 'instance of')]\n",
                        "[('prop', 'http://www.wikidata.org/prop/direct/P3417'), ('name', 'Quora topic ID')]\n",
                        "[('prop', 'http://www.wikidata.org/prop/direct/P355'), ('name', 'subsidiary')]\n",
                        "[('prop', 'http://www.wikidata.org/prop/direct/P3608'), ('name', 'EU VAT number')]\n",
                        "[('prop', 'http://www.wikidata.org/prop/direct/P361'), ('name', 'part of')]\n",
                        "[('prop', 'http://www.wikidata.org/prop/direct/P373'), ('name', 'Commons category')]\n",
                        "[('prop', 'http://www.wikidata.org/prop/direct/P396'), ('name', 'SBN author ID')]\n",
                        "[('prop', 'http://www.wikidata.org/prop/direct/P4264'), ('name', 'LinkedIn company ID')]\n",
                        "[('prop', 'http://www.wikidata.org/prop/direct/P4342'), ('name', 'Store norske leksikon ID')]\n",
                        "[('prop', 'http://www.wikidata.org/prop/direct/P452'), ('name', 'industry')]\n",
                        "[('prop', 'http://www.wikidata.org/prop/direct/P495'), ('name', 'country of origin')]\n",
                        "[('prop', 'http://www.wikidata.org/prop/direct/P527'), ('name', 'has part')]\n",
                        "[('prop', 'http://www.wikidata.org/prop/direct/P571'), ('name', 'inception')]\n",
                        "[('prop', 'http://www.wikidata.org/prop/direct/P576'), ('name', 'dissolved, abolished or demolished date')]\n",
                        "[('prop', 'http://www.wikidata.org/prop/direct/P5785'), ('name', 'EU Research participant ID')]\n",
                        "[('prop', 'http://www.wikidata.org/prop/direct/P582'), ('name', 'end time')]\n",
                        "[('prop', 'http://www.wikidata.org/prop/direct/P585'), ('name', 'point in time')]\n",
                        "[('prop', 'http://www.wikidata.org/prop/direct/P6112'), ('name', 'category for members of a team')]\n",
                        "[('prop', 'http://www.wikidata.org/prop/direct/P6363'), ('name', 'WordLift URL')]\n",
                        "[('prop', 'http://www.wikidata.org/prop/direct/P641'), ('name', 'sport')]\n",
                        "[('prop', 'http://www.wikidata.org/prop/direct/P646'), ('name', 'Freebase ID')]\n",
                        "[('prop', 'http://www.wikidata.org/prop/direct/P6782'), ('name', 'ROR ID')]\n",
                        "[('prop', 'http://www.wikidata.org/prop/direct/P7085'), ('name', 'TikTok username')]\n",
                        "[('prop', 'http://www.wikidata.org/prop/direct/P740'), ('name', 'location of formation')]\n",
                        "[('prop', 'http://www.wikidata.org/prop/direct/P749'), ('name', 'parent organization')]\n",
                        "[('prop', 'http://www.wikidata.org/prop/direct/P7859'), ('name', 'WorldCat Identities ID')]\n",
                        "[('prop', 'http://www.wikidata.org/prop/direct/P793'), ('name', 'significant event')]\n",
                        "[('prop', 'http://www.wikidata.org/prop/direct/P856'), ('name', 'official website')]\n",
                        "[('prop', 'http://www.wikidata.org/prop/direct/P859'), ('name', 'sponsor')]\n",
                        "[('prop', 'http://www.wikidata.org/prop/direct/P8672'), ('name', 'Twitter topic ID')]\n",
                        "[('prop', 'http://www.wikidata.org/prop/direct/P8687'), ('name', 'social media followers')]\n",
                        "[('prop', 'http://www.wikidata.org/prop/direct/P910'), ('name', \"topic's main category\")]\n",
                        "[('prop', 'http://www.wikidata.org/prop/direct/P935'), ('name', 'Commons gallery')]\n",
                        "[('prop', 'http://www.wikidata.org/prop/direct/P966'), ('name', 'MusicBrainz label ID')]\n",
                        "[('prop', 'http://www.wikidata.org/prop/direct/P3579'), ('name', 'Sina Weibo user ID')]\n",
                        "[('prop', 'http://www.wikidata.org/prop/direct/P8178'), ('name', 'motorsportstats.com team ID')]\n"
                    ]
                },
                {
                    "data": {
                        "text/plain": [
                            "73"
                        ]
                    },
                    "execution_count": 17,
                    "metadata": {},
                    "output_type": "execute_result"
                }
            ],
            "source": [
                "#it appears there is no parent company connected to Lotus, let's try and see what happens if we consider all F1 teams\n",
                "q = f\"\"\"\n",
                "select distinct ?prop ?name where{{\n",
                "?team wdt:P31 wd:Q10497835 .\n",
                "?team ?prop ?o .\n",
                "?prop <http://schema.org/name> ?name\n",
                "}}\n",
                "\"\"\"\n",
                "run_query(q)"
            ]
        },
        {
            "cell_type": "code",
            "execution_count": 18,
            "id": "eeeffaab-c2c5-41cf-bfeb-f2116aab8912",
            "metadata": {},
            "outputs": [
                {
                    "name": "stdout",
                    "output_type": "stream",
                    "text": [
                        "[('teamName', 'British Racing Motors'), ('founder', 'http://www.wikidata.org/entity/Q1856022'), ('founderName', 'Raymond Mays')]\n",
                        "[('teamName', 'Williams Grand Prix Engineering'), ('founder', 'http://www.wikidata.org/entity/Q167269'), ('founderName', 'Patrick Head')]\n",
                        "[('teamName', 'HRT Formula One Team'), ('founder', 'http://www.wikidata.org/entity/Q171456'), ('founderName', 'Adri\u00e1n Campos')]\n",
                        "[('teamName', 'Larrousse'), ('founder', 'http://www.wikidata.org/entity/Q171768'), ('founderName', 'G\u00e9rard Larrousse')]\n",
                        "[('teamName', 'Brabham'), ('founder', 'http://www.wikidata.org/entity/Q2125'), ('founderName', 'Jack Brabham')]\n",
                        "[('teamName', 'Williams Grand Prix Engineering'), ('founder', 'http://www.wikidata.org/entity/Q173214'), ('founderName', 'Frank Williams')]\n",
                        "[('teamName', 'McLaren'), ('founder', 'http://www.wikidata.org/entity/Q173081'), ('founderName', 'Bruce McLaren')]\n",
                        "[('teamName', 'Dallara'), ('founder', 'http://www.wikidata.org/entity/Q258628'), ('founderName', 'Gian Paolo Dallara')]\n",
                        "[('teamName', 'March Engineering'), ('founder', 'http://www.wikidata.org/entity/Q5592731'), ('founderName', 'Graham Coaker')]\n",
                        "[('teamName', 'Simtek'), ('founder', 'http://www.wikidata.org/entity/Q173246'), ('founderName', 'Max Mosley')]\n",
                        "[('teamName', 'March Engineering'), ('founder', 'http://www.wikidata.org/entity/Q173246'), ('founderName', 'Max Mosley')]\n",
                        "[('teamName', 'Ligier'), ('founder', 'http://www.wikidata.org/entity/Q172174'), ('founderName', 'Guy Ligier')]\n",
                        "[('teamName', 'Brawn GP'), ('founder', 'http://www.wikidata.org/entity/Q173140'), ('founderName', 'Ross Brawn')]\n",
                        "[('teamName', 'March Engineering'), ('founder', 'http://www.wikidata.org/entity/Q173850'), ('founderName', 'Robin Herd')]\n",
                        "[('teamName', 'Simtek'), ('founder', 'http://www.wikidata.org/entity/Q173394'), ('founderName', 'Nick Wirth')]\n",
                        "[('teamName', 'March Engineering'), ('founder', 'http://www.wikidata.org/entity/Q172273'), ('founderName', 'Alan Rees')]\n",
                        "[('teamName', 'Lola Cars'), ('founder', 'http://www.wikidata.org/entity/Q172846'), ('founderName', 'Eric Broadley')]\n",
                        "[('teamName', 'Brabham'), ('founder', 'http://www.wikidata.org/entity/Q173614'), ('founderName', 'Ron Tauranac')]\n"
                    ]
                },
                {
                    "data": {
                        "text/plain": [
                            "18"
                        ]
                    },
                    "execution_count": 18,
                    "metadata": {},
                    "output_type": "execute_result"
                }
            ],
            "source": [
                "#here are some interesting properties that may be useful later, along with some that may allow us\n",
                "#to find the parent company of a team\n",
                "'''\n",
                "[('prop', 'http://www.wikidata.org/prop/direct/P112'), ('name', 'founded by')]\n",
                "[('prop', 'http://www.wikidata.org/prop/direct/P127'), ('name', 'owned by')]\n",
                "[('prop', 'http://www.wikidata.org/prop/direct/P1269'), ('name', 'facet of')]\n",
                "[('prop', 'http://www.wikidata.org/prop/direct/P159'), ('name', 'headquarters location')]\n",
                "[('prop', 'http://www.wikidata.org/prop/direct/P576'), ('name', 'dissolved, abolished or demolished date')]\n",
                "[('prop', 'http://www.wikidata.org/prop/direct/P571'), ('name', 'inception')]\n",
                "[('prop', 'http://www.wikidata.org/prop/direct/P355'), ('name', 'subsidiary')]\n",
                "[('prop', 'http://www.wikidata.org/prop/direct/P17'), ('name', 'country')]\n",
                "'''\n",
                "foundedBy = 'wdt:P112'\n",
                "ownedBy = 'wdt:P127'\n",
                "facetOf = 'wdt:P1269'\n",
                "headLocation = 'wdt:P159'\n",
                "dissolved = 'wdt:P576'\n",
                "inception = 'wdt:P571'\n",
                "subsidiary = 'wdt:P355'\n",
                "country = 'wdt:P17'\n",
                "\n",
                "#let's try and list for every team its founder\n",
                "q = f\"\"\"\n",
                "select ?teamName ?founder ?founderName where{{\n",
                "?team wdt:P31 wd:Q10497835 ;\n",
                "    <http://schema.org/name> ?teamName ;\n",
                "    wdt:P112 ?founder .\n",
                "?founder <http://schema.org/name> ?founderName .\n",
                "}}\n",
                "limit 50\n",
                "\"\"\"\n",
                "run_query(q)"
            ]
        },
        {
            "cell_type": "code",
            "execution_count": 19,
            "id": "de1b5d3f-f49c-4fe5-8171-94685ee8a72e",
            "metadata": {},
            "outputs": [
                {
                    "name": "stdout",
                    "output_type": "stream",
                    "text": [
                        "[('teamName', 'Red Bull Racing'), ('owner', 'http://www.wikidata.org/entity/Q698639'), ('ownerName', 'Red Bull GmbH')]\n",
                        "[('teamName', 'Alpine F1 Team'), ('owner', 'http://www.wikidata.org/entity/Q6686'), ('ownerName', 'Renault')]\n",
                        "[('teamName', 'Williams Grand Prix Engineering'), ('owner', 'http://www.wikidata.org/entity/Q98714466'), ('ownerName', 'Dorilton Capital')]\n"
                    ]
                },
                {
                    "data": {
                        "text/plain": [
                            "3"
                        ]
                    },
                    "execution_count": 19,
                    "metadata": {},
                    "output_type": "execute_result"
                }
            ],
            "source": [
                "#those are people, not parent companies\n",
                "#let' try now with \"ownedBy\", i suspect it will still be people\n",
                "q = f\"\"\"\n",
                "select ?teamName ?owner ?ownerName where{{\n",
                "?team wdt:P31 wd:Q10497835 ;\n",
                "    <http://schema.org/name> ?teamName ;\n",
                "    wdt:P127 ?owner .\n",
                "?owner <http://schema.org/name> ?ownerName .\n",
                "}}\n",
                "limit 50\n",
                "\"\"\"\n",
                "run_query(q)\n",
                "#it's not clear to me the difference between \"parent company\" and \"owned by\", i'm no expert\n",
                "#however we're making progress"
            ]
        },
        {
            "cell_type": "code",
            "execution_count": 20,
            "id": "63a9d10a-4204-4a24-bee3-4f330038b7fc",
            "metadata": {},
            "outputs": [
                {
                    "name": "stdout",
                    "output_type": "stream",
                    "text": [
                        "[('teamName', 'Aston Martin F1 Team'), ('facet', 'http://www.wikidata.org/entity/Q25412511'), ('facetName', 'Aston Martin in Formula One')]\n",
                        "[('teamName', 'Aston Martin F1 Team'), ('facet', 'http://www.wikidata.org/entity/Q25412511'), ('facetName', 'Aston Martin in Formula One')]\n",
                        "[('teamName', 'Renault F1 Team'), ('facet', 'http://www.wikidata.org/entity/Q65954940'), ('facetName', 'Renault in Formula One')]\n",
                        "[('teamName', 'Porsche'), ('facet', 'http://www.wikidata.org/entity/Q10351721'), ('facetName', 'Porsche in Formula One')]\n",
                        "[('teamName', 'Alfa Romeo'), ('facet', 'http://www.wikidata.org/entity/Q65960697'), ('facetName', 'Alfa Romeo in Formula One')]\n",
                        "[('teamName', 'Bugatti F1'), ('facet', 'http://www.wikidata.org/entity/Q104630122'), ('facetName', 'Bugatti in Formula One')]\n",
                        "[('teamName', 'Mercedes'), ('facet', 'http://www.wikidata.org/entity/Q65954812'), ('facetName', 'Mercedes-Benz in Formula One')]\n"
                    ]
                },
                {
                    "data": {
                        "text/plain": [
                            "7"
                        ]
                    },
                    "execution_count": 20,
                    "metadata": {},
                    "output_type": "execute_result"
                }
            ],
            "source": [
                "#let's see with facetOf\n",
                "q = f\"\"\"\n",
                "select ?teamName ?facet ?facetName where{{\n",
                "?team wdt:P31 wd:Q10497835 ;\n",
                "    <http://schema.org/name> ?teamName ;\n",
                "    wdt:P1269 ?facet .\n",
                "?facet <http://schema.org/name> ?facetName .\n",
                "}}\n",
                "limit 50\n",
                "\"\"\"\n",
                "run_query(q)"
            ]
        },
        {
            "cell_type": "code",
            "execution_count": 21,
            "id": "ddf369ad-b41e-4f32-8347-86844ba2ecea",
            "metadata": {},
            "outputs": [
                {
                    "name": "stdout",
                    "output_type": "stream",
                    "text": [
                        "[('teamName', 'Red Bull Racing'), ('subsidiary', 'http://www.wikidata.org/entity/Q2079949'), ('subsName', 'Red Bull Junior Team')]\n",
                        "[('teamName', 'Scuderia Ferrari'), ('subsidiary', 'http://www.wikidata.org/entity/Q5445262'), ('subsName', 'Ferrari Driver Academy')]\n"
                    ]
                },
                {
                    "data": {
                        "text/plain": [
                            "2"
                        ]
                    },
                    "execution_count": 21,
                    "metadata": {},
                    "output_type": "execute_result"
                }
            ],
            "source": [
                "#finally let's see \"subsidiary\"\n",
                "q = f\"\"\"\n",
                "select ?teamName ?subsidiary ?subsName where{{\n",
                "?team wdt:P31 wd:Q10497835 ;\n",
                "    <http://schema.org/name> ?teamName ;\n",
                "    wdt:P355 ?subsidiary .\n",
                "?subsidiary <http://schema.org/name> ?subsName .\n",
                "}}\n",
                "limit 50\n",
                "\"\"\"\n",
                "run_query(q)"
            ]
        },
        {
            "cell_type": "code",
            "execution_count": 23,
            "id": "534ed641-099d-4f05-9889-6d3b70745932",
            "metadata": {},
            "outputs": [
                {
                    "name": "stdout",
                    "output_type": "stream",
                    "text": [
                        "[('howmany', '67')]\n"
                    ]
                },
                {
                    "data": {
                        "text/plain": [
                            "1"
                        ]
                    },
                    "execution_count": 23,
                    "metadata": {},
                    "output_type": "execute_result"
                }
            ],
            "source": [
                "#let's count how many f1 teams there are and then let's see how many have a country connected to them\n",
                "q = f\"\"\"\n",
                "select (count(*) as ?howmany) where{{\n",
                "?team wdt:P31 wd:Q10497835\n",
                "}}\n",
                "\"\"\"\n",
                "run_query(q)"
            ]
        },
        {
            "cell_type": "code",
            "execution_count": 24,
            "id": "6f3e770d-ff6a-4c01-a3bd-279096a623d4",
            "metadata": {},
            "outputs": [
                {
                    "name": "stdout",
                    "output_type": "stream",
                    "text": [
                        "[('howmany', '60')]\n"
                    ]
                },
                {
                    "data": {
                        "text/plain": [
                            "1"
                        ]
                    },
                    "execution_count": 24,
                    "metadata": {},
                    "output_type": "execute_result"
                }
            ],
            "source": [
                "q = f\"\"\"\n",
                "select (count(*) as ?howmany) where{{\n",
                "?team wdt:P31 wd:Q10497835 .\n",
                "?team wdt:P17 ?country\n",
                "}}\n",
                "\"\"\"\n",
                "run_query(q)"
            ]
        },
        {
            "cell_type": "code",
            "execution_count": 25,
            "id": "79786c50-896c-46a5-9eef-e9f948f9d28b",
            "metadata": {},
            "outputs": [
                {
                    "name": "stdout",
                    "output_type": "stream",
                    "text": [
                        "[('team', 'http://www.wikidata.org/entity/Q61979'), ('teamName', 'Panasonic Toyota Racing')]\n",
                        "[('team', 'http://www.wikidata.org/entity/Q842690'), ('teamName', 'Porsche')]\n",
                        "[('team', 'http://www.wikidata.org/entity/Q179408'), ('teamName', 'Virgin Racing')]\n",
                        "[('team', 'http://www.wikidata.org/entity/Q84562599'), ('teamName', 'Alfa Romeo F1 team (2019)')]\n",
                        "[('team', 'http://www.wikidata.org/entity/Q4097758'), ('teamName', 'Bugatti F1')]\n",
                        "[('team', 'http://www.wikidata.org/entity/Q61467970'), ('teamName', 'Alfa Romeo F1 team (1950-51)')]\n",
                        "[('team', 'http://www.wikidata.org/entity/Q98930155'), ('teamName', 'Alpine F1 Team')]\n",
                        "[('team', 'http://www.wikidata.org/entity/Q61957608'), ('teamName', 'Racing Point Force India')]\n",
                        "[('team', 'http://www.wikidata.org/entity/Q88543639'), ('teamName', 'Onyx-Moneytron')]\n"
                    ]
                },
                {
                    "data": {
                        "text/plain": [
                            "9"
                        ]
                    },
                    "execution_count": 25,
                    "metadata": {},
                    "output_type": "execute_result"
                }
            ],
            "source": [
                "#which teams don't have a country?\n",
                "q = f\"\"\"\n",
                "select ?team ?teamName where{{\n",
                "?team wdt:P31 wd:Q10497835 ;\n",
                "    <http://schema.org/name> ?teamName .\n",
                "filter not exists \n",
                "    {{\n",
                "        ?team wdt:P17 ?country\n",
                "    }}\n",
                "}}\n",
                "\"\"\"\n",
                "run_query(q)"
            ]
        },
        {
            "cell_type": "code",
            "execution_count": 26,
            "id": "90056ae6-c993-4878-810f-6198eae9e426",
            "metadata": {},
            "outputs": [
                {
                    "name": "stdout",
                    "output_type": "stream",
                    "text": [
                        "[('teamName', 'Brawn GP'), ('l', 'http://www.wikidata.org/entity/Q671557'), ('name', 'Brackley')]\n",
                        "[('teamName', 'Williams Grand Prix Engineering'), ('l', 'http://www.wikidata.org/entity/Q991626'), ('name', 'Grove')]\n",
                        "[('teamName', 'Scuderia AlphaTauri Grimm'), ('l', 'http://www.wikidata.org/entity/Q52981'), ('name', 'Faenza')]\n",
                        "[('teamName', 'McLaren'), ('l', 'http://www.wikidata.org/entity/Q646225'), ('name', 'Woking')]\n",
                        "[('teamName', 'Lola Cars'), ('l', 'http://www.wikidata.org/entity/Q685640'), ('name', 'Huntingdon')]\n",
                        "[('teamName', 'Fondmetal'), ('l', 'http://www.wikidata.org/entity/Q1210'), ('name', 'Lombardy')]\n",
                        "[('teamName', 'Honda'), ('l', 'http://www.wikidata.org/entity/Q1490'), ('name', 'Tokyo')]\n",
                        "[('teamName', 'Leyton House Racing'), ('l', 'http://www.wikidata.org/entity/Q1490'), ('name', 'Tokyo')]\n",
                        "[('teamName', 'Honda'), ('l', 'http://www.wikidata.org/entity/Q727'), ('name', 'Amsterdam')]\n",
                        "[('teamName', 'Brabham'), ('l', 'http://www.wikidata.org/entity/Q204234'), ('name', 'Milton Keynes')]\n",
                        "[('teamName', 'Red Bull Racing'), ('l', 'http://www.wikidata.org/entity/Q204234'), ('name', 'Milton Keynes')]\n",
                        "[('teamName', 'Honda'), ('l', 'http://www.wikidata.org/entity/Q211907'), ('name', 'Slough')]\n",
                        "[('teamName', 'Sauber'), ('l', 'http://www.wikidata.org/entity/Q69383'), ('name', 'Hinwil')]\n",
                        "[('teamName', 'Dallara'), ('l', 'http://www.wikidata.org/entity/Q100977'), ('name', \"Varano de' Melegari\")]\n",
                        "[('teamName', 'Ligier'), ('l', 'http://www.wikidata.org/entity/Q274683'), ('name', 'Abrest')]\n",
                        "[('teamName', 'Racing Point F1 Team'), ('l', 'http://www.wikidata.org/entity/Q339226'), ('name', 'Silverstone')]\n"
                    ]
                },
                {
                    "data": {
                        "text/plain": [
                            "16"
                        ]
                    },
                    "execution_count": 26,
                    "metadata": {},
                    "output_type": "execute_result"
                }
            ],
            "source": [
                "#let's finish by checking headLocation\n",
                "q = f\"\"\"\n",
                "select ?teamName ?l ?name where{{\n",
                "?team wdt:P31 wd:Q10497835 ;\n",
                "    <http://schema.org/name> ?teamName ;\n",
                "    wdt:P159 ?l .\n",
                "?l <http://schema.org/name> ?name\n",
                "}}\n",
                "limit 50\n",
                "\"\"\"\n",
                "run_query(q)"
            ]
        },
        {
            "cell_type": "code",
            "execution_count": 27,
            "id": "bdb161d1-0bac-4863-ab74-90041482e681",
            "metadata": {},
            "outputs": [
                {
                    "name": "stdout",
                    "output_type": "stream",
                    "text": [
                        "[('teamName', 'Brabham'), ('countryName', 'United Kingdom')]\n",
                        "[('teamName', 'Brawn GP'), ('countryName', 'United Kingdom')]\n",
                        "[('teamName', 'Dallara'), ('countryName', 'Italy')]\n",
                        "[('teamName', 'Fondmetal'), ('countryName', 'Italy')]\n",
                        "[('teamName', 'Honda'), ('countryName', 'United Kingdom')]\n",
                        "[('teamName', 'Honda'), ('countryName', 'Japan')]\n",
                        "[('teamName', 'Honda'), ('countryName', 'Kingdom of the Netherlands')]\n",
                        "[('teamName', 'Honda'), ('countryName', 'Netherlands')]\n",
                        "[('teamName', 'Leyton House Racing'), ('countryName', 'Japan')]\n",
                        "[('teamName', 'Ligier'), ('countryName', 'France')]\n",
                        "[('teamName', 'Lola Cars'), ('countryName', 'United Kingdom')]\n",
                        "[('teamName', 'McLaren'), ('countryName', 'United Kingdom')]\n",
                        "[('teamName', 'Racing Point F1 Team'), ('countryName', 'United Kingdom')]\n",
                        "[('teamName', 'Red Bull Racing'), ('countryName', 'United Kingdom')]\n",
                        "[('teamName', 'Sauber'), ('countryName', 'Switzerland')]\n",
                        "[('teamName', 'Scuderia AlphaTauri Grimm'), ('countryName', 'Italy')]\n",
                        "[('teamName', 'Williams Grand Prix Engineering'), ('countryName', 'United Kingdom')]\n"
                    ]
                },
                {
                    "data": {
                        "text/plain": [
                            "17"
                        ]
                    },
                    "execution_count": 27,
                    "metadata": {},
                    "output_type": "execute_result"
                }
            ],
            "source": [
                "#i guess this could be another way of finding the country of origin of the team, provided\n",
                "#the headquarters location is in the country of origin. let's check. \n",
                "q = f\"\"\"\n",
                "select ?teamName ?countryName where{{\n",
                "?team wdt:P31 wd:Q10497835 ;\n",
                "    <http://schema.org/name> ?teamName ;\n",
                "    wdt:P159 ?location .\n",
                "?location wdt:P17 ?country .\n",
                "?country <http://schema.org/name> ?countryName .\n",
                "}}\n",
                "order by asc(?teamName)\n",
                "\"\"\"\n",
                "run_query(q)"
            ]
        },
        {
            "cell_type": "code",
            "execution_count": 29,
            "id": "582bfbff-90e1-4639-b1fc-4096841ae7ee",
            "metadata": {},
            "outputs": [
                {
                    "name": "stdout",
                    "output_type": "stream",
                    "text": [
                        "Empty\n"
                    ]
                },
                {
                    "data": {
                        "text/plain": [
                            "0"
                        ]
                    },
                    "execution_count": 29,
                    "metadata": {},
                    "output_type": "execute_result"
                }
            ],
            "source": [
                "#let's focus now on drivers. let's list them\n",
                "q = f\"\"\"\n",
                "select ?driver ?name where{{\n",
                "?driver wdt:P31 wd:Q10841764 ;\n",
                "    <http://schema.org/name> ?name .\n",
                "}}\n",
                "limit 50\n",
                "\"\"\"\n",
                "run_query(q)"
            ]
        },
        {
            "cell_type": "code",
            "execution_count": 30,
            "id": "ecf48a48-08ea-49cc-be49-049c9efb30ab",
            "metadata": {},
            "outputs": [
                {
                    "name": "stdout",
                    "output_type": "stream",
                    "text": [
                        "[('class', 'http://www.wikidata.org/entity/Q5'), ('className', 'human')]\n"
                    ]
                },
                {
                    "data": {
                        "text/plain": [
                            "1"
                        ]
                    },
                    "execution_count": 30,
                    "metadata": {},
                    "output_type": "execute_result"
                }
            ],
            "source": [
                "#we know that schumacher should be a driver, let's check his classes\n",
                "q = f\"\"\"\n",
                "select ?class ?className where{{\n",
                "wd:Q9671 wdt:P31 ?class .\n",
                "?class <http://schema.org/name> ?className .\n",
                "}}\n",
                "\"\"\"\n",
                "run_query(q)"
            ]
        },
        {
            "cell_type": "code",
            "execution_count": 31,
            "id": "5c32cb20-8ad3-4edb-be36-762b0e33c91a",
            "metadata": {},
            "outputs": [
                {
                    "name": "stdout",
                    "output_type": "stream",
                    "text": [
                        "[('driver', 'http://www.wikidata.org/entity/Q49235'), ('name', 'Adrian Sutil')]\n",
                        "[('driver', 'http://www.wikidata.org/entity/Q172724'), ('name', 'Bernie Ecclestone')]\n",
                        "[('driver', 'http://www.wikidata.org/entity/Q172057'), ('name', 'Reg Parnell')]\n",
                        "[('driver', 'http://www.wikidata.org/entity/Q171294'), ('name', 'Vitantonio Liuzzi')]\n",
                        "[('driver', 'http://www.wikidata.org/entity/Q172001'), ('name', 'Tiago Monteiro')]\n",
                        "[('driver', 'http://www.wikidata.org/entity/Q84178'), ('name', 'Christian Klien')]\n",
                        "[('driver', 'http://www.wikidata.org/entity/Q172557'), ('name', 'Paul Goldsmith')]\n",
                        "[('driver', 'http://www.wikidata.org/entity/Q544856'), ('name', 'Carlos Sainz Jr')]\n",
                        "[('driver', 'http://www.wikidata.org/entity/Q3128'), ('name', 'Graham Hill')]\n",
                        "[('driver', 'http://www.wikidata.org/entity/Q172119'), ('name', 'Andr\u00e9 Pilette')]\n",
                        "[('driver', 'http://www.wikidata.org/entity/Q1866907'), ('name', 'Lloyd Casner')]\n",
                        "[('driver', 'http://www.wikidata.org/entity/Q3153'), ('name', 'John Surtees')]\n",
                        "[('driver', 'http://www.wikidata.org/entity/Q171996'), ('name', \"J\u00e9r\u00f4me d'Ambrosio\")]\n",
                        "[('driver', 'http://www.wikidata.org/entity/Q10490'), ('name', 'Ayrton Senna')]\n",
                        "[('driver', 'http://www.wikidata.org/entity/Q140393'), ('name', 'James Hunt')]\n",
                        "[('driver', 'http://www.wikidata.org/entity/Q172759'), ('name', 'Riccardo Patrese')]\n",
                        "[('driver', 'http://www.wikidata.org/entity/Q172849'), ('name', 'Emerson Fittipaldi')]\n",
                        "[('driver', 'http://www.wikidata.org/entity/Q173238'), ('name', 'Carlos Reutemann')]\n",
                        "[('driver', 'http://www.wikidata.org/entity/Q57459'), ('name', 'Jochen Mass')]\n",
                        "[('driver', 'http://www.wikidata.org/entity/Q58654'), ('name', 'Hans-Joachim Stuck')]\n",
                        "[('driver', 'http://www.wikidata.org/entity/Q61286'), ('name', 'Edgar Barth')]\n",
                        "[('driver', 'http://www.wikidata.org/entity/Q61295'), ('name', 'Theo Helfrich')]\n",
                        "[('driver', 'http://www.wikidata.org/entity/Q61541'), ('name', 'Hans Stuck')]\n",
                        "[('driver', 'http://www.wikidata.org/entity/Q78489'), ('name', 'Niki Lauda')]\n",
                        "[('driver', 'http://www.wikidata.org/entity/Q171312'), ('name', 'Mario Andretti')]\n",
                        "[('driver', 'http://www.wikidata.org/entity/Q171432'), ('name', 'Didier Pironi')]\n",
                        "[('driver', 'http://www.wikidata.org/entity/Q171442'), ('name', 'Derek Warwick')]\n",
                        "[('driver', 'http://www.wikidata.org/entity/Q171444'), ('name', 'Philippe Adams')]\n",
                        "[('driver', 'http://www.wikidata.org/entity/Q171456'), ('name', 'Adri\u00e1n Campos')]\n",
                        "[('driver', 'http://www.wikidata.org/entity/Q171457'), ('name', 'Jan Lammers')]\n",
                        "[('driver', 'http://www.wikidata.org/entity/Q171466'), ('name', 'Dan Gurney')]\n",
                        "[('driver', 'http://www.wikidata.org/entity/Q171479'), ('name', 'Jean-Louis Schlesser')]\n",
                        "[('driver', 'http://www.wikidata.org/entity/Q171539'), ('name', 'H\u00e9ctor Rebaque')]\n",
                        "[('driver', 'http://www.wikidata.org/entity/Q171572'), ('name', 'Maria Teresa de Filippis')]\n",
                        "[('driver', 'http://www.wikidata.org/entity/Q171619'), ('name', 'Bill Vukovich')]\n",
                        "[('driver', 'http://www.wikidata.org/entity/Q171621'), ('name', 'Piers Courage')]\n",
                        "[('driver', 'http://www.wikidata.org/entity/Q171734'), ('name', 'Mike Beuttler')]\n",
                        "[('driver', 'http://www.wikidata.org/entity/Q171881'), ('name', 'Willy Mairesse')]\n",
                        "[('driver', 'http://www.wikidata.org/entity/Q171960'), ('name', 'Hap Sharp')]\n",
                        "[('driver', 'http://www.wikidata.org/entity/Q172063'), ('name', 'David Hampshire')]\n",
                        "[('driver', 'http://www.wikidata.org/entity/Q172124'), ('name', 'Sergio Mantovani')]\n",
                        "[('driver', 'http://www.wikidata.org/entity/Q172127'), ('name', 'Ivor Bueb')]\n",
                        "[('driver', 'http://www.wikidata.org/entity/Q172215'), ('name', 'Jack McGrath')]\n",
                        "[('driver', 'http://www.wikidata.org/entity/Q172220'), ('name', 'Antonio Creus')]\n",
                        "[('driver', 'http://www.wikidata.org/entity/Q172278'), ('name', 'Jimmy Bryan')]\n",
                        "[('driver', 'http://www.wikidata.org/entity/Q172282'), ('name', 'Jim Hall')]\n",
                        "[('driver', 'http://www.wikidata.org/entity/Q172283'), ('name', 'George Eaton')]\n",
                        "[('driver', 'http://www.wikidata.org/entity/Q172288'), ('name', 'David Piper')]\n",
                        "[('driver', 'http://www.wikidata.org/entity/Q172300'), ('name', 'Mike Nazaruk')]\n",
                        "[('driver', 'http://www.wikidata.org/entity/Q172312'), ('name', 'Duane Carter')]\n"
                    ]
                },
                {
                    "data": {
                        "text/plain": [
                            "50"
                        ]
                    },
                    "execution_count": 31,
                    "metadata": {},
                    "output_type": "execute_result"
                }
            ],
            "source": [
                "#maybe Driver is a profession?\n",
                "q = f\"\"\"\n",
                "select ?driver ?name where{{\n",
                "?driver wdt:P106 wd:Q10841764 ;\n",
                "    <http://schema.org/name> ?name\n",
                "}}\n",
                "limit 50\n",
                "\"\"\"\n",
                "run_query(q)"
            ]
        },
        {
            "cell_type": "code",
            "execution_count": 32,
            "id": "d8ab6350-ac00-43c8-800a-ba31c443f1da",
            "metadata": {},
            "outputs": [
                {
                    "name": "stdout",
                    "output_type": "stream",
                    "text": [
                        "[('p', 'http://www.wikidata.org/prop/direct/P54'), ('name', 'member of sports team')]\n"
                    ]
                },
                {
                    "data": {
                        "text/plain": [
                            "1"
                        ]
                    },
                    "execution_count": 32,
                    "metadata": {},
                    "output_type": "execute_result"
                }
            ],
            "source": [
                "#i know Schumacher was a driver for Ferrari, let's find the property connecting him to the team\n",
                "q = f\"\"\"\n",
                "select distinct ?p ?name where{{\n",
                "wd:Q9671 ?p wd:Q169898 .\n",
                "?p <http://schema.org/name> ?name\n",
                "}}\n",
                "\"\"\"\n",
                "run_query(q)"
            ]
        },
        {
            "cell_type": "code",
            "execution_count": 33,
            "id": "ac36de33-1d66-46a0-9a5b-691c47dc0a94",
            "metadata": {},
            "outputs": [
                {
                    "name": "stdout",
                    "output_type": "stream",
                    "text": [
                        "Empty\n"
                    ]
                },
                {
                    "data": {
                        "text/plain": [
                            "0"
                        ]
                    },
                    "execution_count": 33,
                    "metadata": {},
                    "output_type": "execute_result"
                }
            ],
            "source": [
                "#let's see if the inverse gives us something more\n",
                "q = f\"\"\"\n",
                "select distinct ?p ?name where{{\n",
                "wd:Q169898 ?p wd:Q9671 .\n",
                "?p <http://schema.org/name> ?name\n",
                "}}\n",
                "\"\"\"\n",
                "run_query(q)"
            ]
        },
        {
            "cell_type": "code",
            "execution_count": 34,
            "id": "e4c8056e-09ac-4266-994d-ec01918b283a",
            "metadata": {},
            "outputs": [
                {
                    "name": "stdout",
                    "output_type": "stream",
                    "text": [
                        "[('driver', 'http://www.wikidata.org/entity/Q42311'), ('driverName', 'Sebastian Vettel'), ('team', 'http://www.wikidata.org/entity/Q141818'), ('teamName', 'Scuderia Toro Rosso')]\n",
                        "[('driver', 'http://www.wikidata.org/entity/Q42311'), ('driverName', 'Sebastian Vettel'), ('team', 'http://www.wikidata.org/entity/Q173663'), ('teamName', 'Red Bull Racing')]\n",
                        "[('driver', 'http://www.wikidata.org/entity/Q42311'), ('driverName', 'Sebastian Vettel'), ('team', 'http://www.wikidata.org/entity/Q169898'), ('teamName', 'Scuderia Ferrari')]\n"
                    ]
                },
                {
                    "data": {
                        "text/plain": [
                            "3"
                        ]
                    },
                    "execution_count": 34,
                    "metadata": {},
                    "output_type": "execute_result"
                }
            ],
            "source": [
                "member = 'wdt:P54'\n",
                "#sebastian vettel was first in red bull, then in ferrari, let's see if we can find this information\n",
                "q = f\"\"\"\n",
                "select distinct ?driver ?driverName ?team ?teamName where{{\n",
                "?driver wdt:P106 wd:Q10841764 ;\n",
                "    <http://schema.org/name> ?driverName ;\n",
                "    wdt:P54 ?team .\n",
                "?team wdt:P31 wd:Q10497835 ;\n",
                "    <http://schema.org/name> ?teamName .\n",
                "filter regex(?driverName, 'sebastian vettel', 'i')\n",
                "}}\n",
                "\"\"\"\n",
                "run_query(q)"
            ]
        },
        {
            "cell_type": "code",
            "execution_count": 41,
            "id": "8002393a-e58e-4ecf-b0e9-2ed9f216ff56",
            "metadata": {},
            "outputs": [
                {
                    "name": "stdout",
                    "output_type": "stream",
                    "text": [
                        "[('p', 'http://www.wikidata.org/prop/direct/P103'), ('pName', 'native language')]\n",
                        "[('p', 'http://www.wikidata.org/prop/direct/P106'), ('pName', 'occupation')]\n",
                        "[('p', 'http://www.wikidata.org/prop/direct/P109'), ('pName', 'signature')]\n",
                        "[('p', 'http://www.wikidata.org/prop/direct/P1258'), ('pName', 'Rotten Tomatoes ID')]\n",
                        "[('p', 'http://www.wikidata.org/prop/direct/P1285'), ('pName', 'Munzinger Sport number')]\n",
                        "[('p', 'http://www.wikidata.org/prop/direct/P1296'), ('pName', 'Gran Enciclop\u00e8dia Catalana ID')]\n",
                        "[('p', 'http://www.wikidata.org/prop/direct/P1412'), ('pName', 'languages spoken, written or signed')]\n",
                        "[('p', 'http://www.wikidata.org/prop/direct/P1417'), ('pName', 'Encyclop\u00e6dia Britannica Online ID')]\n",
                        "[('p', 'http://www.wikidata.org/prop/direct/P1532'), ('pName', 'country for sport')]\n",
                        "[('p', 'http://www.wikidata.org/prop/direct/P166'), ('pName', 'award received')]\n",
                        "[('p', 'http://www.wikidata.org/prop/direct/P1712'), ('pName', 'Metacritic ID')]\n",
                        "[('p', 'http://www.wikidata.org/prop/direct/P1741'), ('pName', 'GTAA ID')]\n",
                        "[('p', 'http://www.wikidata.org/prop/direct/P18'), ('pName', 'image')]\n",
                        "[('p', 'http://www.wikidata.org/prop/direct/P1819'), ('pName', 'genealogics.org person ID')]\n",
                        "[('p', 'http://www.wikidata.org/prop/direct/P19'), ('pName', 'place of birth')]\n",
                        "[('p', 'http://www.wikidata.org/prop/direct/P1971'), ('pName', 'number of children')]\n",
                        "[('p', 'http://www.wikidata.org/prop/direct/P2048'), ('pName', 'height')]\n",
                        "[('p', 'http://www.wikidata.org/prop/direct/P2067'), ('pName', 'mass')]\n",
                        "[('p', 'http://www.wikidata.org/prop/direct/P21'), ('pName', 'sex or gender')]\n",
                        "[('p', 'http://www.wikidata.org/prop/direct/P213'), ('pName', 'ISNI')]\n",
                        "[('p', 'http://www.wikidata.org/prop/direct/P214'), ('pName', 'VIAF ID')]\n",
                        "[('p', 'http://www.wikidata.org/prop/direct/P2163'), ('pName', 'FAST ID')]\n",
                        "[('p', 'http://www.wikidata.org/prop/direct/P227'), ('pName', 'GND ID')]\n",
                        "[('p', 'http://www.wikidata.org/prop/direct/P244'), ('pName', 'Library of Congress authority ID')]\n",
                        "[('p', 'http://www.wikidata.org/prop/direct/P2522'), ('pName', 'victory')]\n",
                        "[('p', 'http://www.wikidata.org/prop/direct/P27'), ('pName', 'country of citizenship')]\n",
                        "[('p', 'http://www.wikidata.org/prop/direct/P2924'), ('pName', 'Great Russian Encyclopedia Online ID')]\n",
                        "[('p', 'http://www.wikidata.org/prop/direct/P3048'), ('pName', 'racing-reference.info driver ID')]\n",
                        "[('p', 'http://www.wikidata.org/prop/direct/P31'), ('pName', 'instance of')]\n",
                        "[('p', 'http://www.wikidata.org/prop/direct/P3219'), ('pName', 'Encyclop\u00e6dia Universalis ID')]\n",
                        "[('p', 'http://www.wikidata.org/prop/direct/P3222'), ('pName', 'NE.se ID')]\n",
                        "[('p', 'http://www.wikidata.org/prop/direct/P3365'), ('pName', 'Treccani ID')]\n",
                        "[('p', 'http://www.wikidata.org/prop/direct/P3388'), ('pName', 'LittleSis people ID')]\n",
                        "[('p', 'http://www.wikidata.org/prop/direct/P3417'), ('pName', 'Quora topic ID')]\n",
                        "[('p', 'http://www.wikidata.org/prop/direct/P3427'), ('pName', 'AS.com athlete ID')]\n",
                        "[('p', 'http://www.wikidata.org/prop/direct/P345'), ('pName', 'IMDb ID')]\n",
                        "[('p', 'http://www.wikidata.org/prop/direct/P3684'), ('pName', 'Driver Database driver ID')]\n",
                        "[('p', 'http://www.wikidata.org/prop/direct/P373'), ('pName', 'Commons category')]\n",
                        "[('p', 'http://www.wikidata.org/prop/direct/P3913'), ('pName', 'MobyGames developer ID')]\n",
                        "[('p', 'http://www.wikidata.org/prop/direct/P4342'), ('pName', 'Store norske leksikon ID')]\n",
                        "[('p', 'http://www.wikidata.org/prop/direct/P443'), ('pName', 'pronunciation audio')]\n",
                        "[('p', 'http://www.wikidata.org/prop/direct/P4666'), ('pName', 'CineMagia person ID')]\n",
                        "[('p', 'http://www.wikidata.org/prop/direct/P4768'), ('pName', 'cinematografo.it name or company ID')]\n",
                        "[('p', 'http://www.wikidata.org/prop/direct/P4782'), ('pName', 'Movieplayer person ID')]\n",
                        "[('p', 'http://www.wikidata.org/prop/direct/P4985'), ('pName', 'TMDb person ID')]\n",
                        "[('p', 'http://www.wikidata.org/prop/direct/P5007'), ('pName', 'Behind The Voice Actors person ID')]\n",
                        "[('p', 'http://www.wikidata.org/prop/direct/P5019'), ('pName', 'Brockhaus Enzyklop\u00e4die online ID')]\n",
                        "[('p', 'http://www.wikidata.org/prop/direct/P5247'), ('pName', 'Giant Bomb ID')]\n",
                        "[('p', 'http://www.wikidata.org/prop/direct/P5254'), ('pName', 'FilmTv.it person ID')]\n",
                        "[('p', 'http://www.wikidata.org/prop/direct/P54'), ('pName', 'member of sports team')]\n",
                        "[('p', 'http://www.wikidata.org/prop/direct/P5421'), ('pName', 'Trading Card Database person ID')]\n",
                        "[('p', 'http://www.wikidata.org/prop/direct/P569'), ('pName', 'date of birth')]\n",
                        "[('p', 'http://www.wikidata.org/prop/direct/P5796'), ('pName', 'Internet Game Database person ID')]\n",
                        "[('p', 'http://www.wikidata.org/prop/direct/P641'), ('pName', 'sport')]\n",
                        "[('p', 'http://www.wikidata.org/prop/direct/P646'), ('pName', 'Freebase ID')]\n",
                        "[('p', 'http://www.wikidata.org/prop/direct/P6573'), ('pName', 'Klexikon article ID')]\n",
                        "[('p', 'http://www.wikidata.org/prop/direct/P6683'), ('pName', 'Alexander Turnbull Library ID')]\n",
                        "[('p', 'http://www.wikidata.org/prop/direct/P6706'), ('pName', 'De Agostini ID')]\n",
                        "[('p', 'http://www.wikidata.org/prop/direct/P734'), ('pName', 'family name')]\n",
                        "[('p', 'http://www.wikidata.org/prop/direct/P735'), ('pName', 'given name')]\n",
                        "[('p', 'http://www.wikidata.org/prop/direct/P7859'), ('pName', 'WorldCat Identities ID')]\n",
                        "[('p', 'http://www.wikidata.org/prop/direct/P7902'), ('pName', 'Deutsche Biographie (GND) ID')]\n",
                        "[('p', 'http://www.wikidata.org/prop/direct/P8140'), ('pName', 'motorsportstats.com driver ID')]\n",
                        "[('p', 'http://www.wikidata.org/prop/direct/P8349'), ('pName', 'Proleksis enciklopedija ID')]\n",
                        "[('p', 'http://www.wikidata.org/prop/direct/P856'), ('pName', 'official website')]\n",
                        "[('p', 'http://www.wikidata.org/prop/direct/P910'), ('pName', \"topic's main category\")]\n",
                        "[('p', 'http://www.wikidata.org/prop/direct/P935'), ('pName', 'Commons gallery')]\n",
                        "[('p', 'http://www.wikidata.org/prop/direct/P9368'), ('pName', 'CNA topic ID')]\n"
                    ]
                },
                {
                    "data": {
                        "text/plain": [
                            "68"
                        ]
                    },
                    "execution_count": 41,
                    "metadata": {},
                    "output_type": "execute_result"
                }
            ],
            "source": [
                "#let's see if we can find some property for Vettel with a name suggesting he participated in some race\n",
                "Vettel = 'wd:Q42311'\n",
                "q = f\"\"\"\n",
                "select distinct ?p ?pName where{{\n",
                "wd:Q42311 ?p ?o .\n",
                "?p <http://schema.org/name> ?pName .\n",
                "}}\n",
                "\"\"\"\n",
                "run_query(q)"
            ]
        },
        {
            "cell_type": "code",
            "execution_count": 43,
            "id": "1991158c-8a07-4e42-8ae9-6bae0adc5a8c",
            "metadata": {},
            "outputs": [
                {
                    "name": "stdout",
                    "output_type": "stream",
                    "text": [
                        "Empty\n"
                    ]
                },
                {
                    "data": {
                        "text/plain": [
                            "0"
                        ]
                    },
                    "execution_count": 43,
                    "metadata": {},
                    "output_type": "execute_result"
                }
            ],
            "source": [
                "#nothing immediatelly suggesting he participated in a race\n",
                "#going back up i found this however when listing all the properties for a f1 team\n",
                "#[('prop', 'http://www.wikidata.org/prop/direct/P1344'), ('name', 'participant in')]\n",
                "participate = 'wdt:P1344'\n",
                "#let's try with Scuderia Ferrari\n",
                "q = f\"\"\"\n",
                "select distinct ?o ?name where{{\n",
                "wd:Q169898 wdt:P1344 ?o .\n",
                "?o <http://schema.org/name> ?name .\n",
                "}}\n",
                "limit(50)\n",
                "\"\"\"\n",
                "run_query(q)"
            ]
        },
        {
            "cell_type": "code",
            "execution_count": 45,
            "id": "9025319f-97f6-49ad-8b09-95fd12271e4d",
            "metadata": {},
            "outputs": [
                {
                    "name": "stdout",
                    "output_type": "stream",
                    "text": [
                        "[('o', 'http://www.wikidata.org/entity/Q1968'), ('name', 'Formula One')]\n"
                    ]
                },
                {
                    "data": {
                        "text/plain": [
                            "1"
                        ]
                    },
                    "execution_count": 45,
                    "metadata": {},
                    "output_type": "execute_result"
                }
            ],
            "source": [
                "#just to be sure, let's extend to all f1 teams\n",
                "q = f\"\"\"\n",
                "select distinct ?o ?name where{{\n",
                "?team wdt:P1344 ?o .\n",
                "?team wdt:P31 wd:Q10497835 .\n",
                "?o <http://schema.org/name> ?name .\n",
                "}}\n",
                "limit(50)\n",
                "\"\"\"\n",
                "run_query(q)"
            ]
        },
        {
            "cell_type": "code",
            "execution_count": 49,
            "id": "72e4bf24-f156-435b-9981-ad640e299c10",
            "metadata": {},
            "outputs": [
                {
                    "name": "stdout",
                    "output_type": "stream",
                    "text": [
                        "Empty\n"
                    ]
                },
                {
                    "data": {
                        "text/plain": [
                            "0"
                        ]
                    },
                    "execution_count": 49,
                    "metadata": {},
                    "output_type": "execute_result"
                }
            ],
            "source": [
                "#Schumacher for sure participated in a race in the Autodromo di Monza, let's try to use that information\n",
                "q = f\"\"\"\n",
                "select distinct ?o ?name ?class ?className where{{\n",
                "wd:Q9671 ?p ?o .\n",
                "?o <http://schema.org/name> ?name .\n",
                "?o wdt:P31 ?class .\n",
                "?class <http://schema.org/name> ?className .\n",
                "filter regex(?name, '.*(autodromo)*.*monza.*', 'i') .\n",
                "}}\n",
                "\"\"\"\n",
                "run_query(q)"
            ]
        },
        {
            "cell_type": "code",
            "execution_count": 50,
            "id": "41f44f43-ecdf-4cc6-b002-ccd2489b4ea8",
            "metadata": {},
            "outputs": [
                {
                    "name": "stdout",
                    "output_type": "stream",
                    "text": [
                        "Empty\n"
                    ]
                },
                {
                    "data": {
                        "text/plain": [
                            "0"
                        ]
                    },
                    "execution_count": 50,
                    "metadata": {},
                    "output_type": "execute_result"
                }
            ],
            "source": [
                "q = f\"\"\"\n",
                "select distinct ?o ?name ?class ?className where{{\n",
                "wd:Q9671 ?p ?o .\n",
                "?o <http://schema.org/name> ?name .\n",
                "?o wdt:P31 ?class .\n",
                "?class <http://schema.org/name> ?className .\n",
                "filter regex(?name, '.*monza.*', 'i') .\n",
                "}}\n",
                "\"\"\"\n",
                "run_query(q)"
            ]
        },
        {
            "cell_type": "code",
            "execution_count": 51,
            "id": "3095ad82-ad93-4403-8dc5-8c3ce47ae61d",
            "metadata": {},
            "outputs": [
                {
                    "name": "stdout",
                    "output_type": "stream",
                    "text": [
                        "Empty\n"
                    ]
                },
                {
                    "data": {
                        "text/plain": [
                            "0"
                        ]
                    },
                    "execution_count": 51,
                    "metadata": {},
                    "output_type": "execute_result"
                }
            ],
            "source": [
                "q = f\"\"\"\n",
                "select distinct ?o ?name ?class ?className where{{\n",
                "wd:Q169898 ?p ?o .\n",
                "?o <http://schema.org/name> ?name .\n",
                "?o wdt:P31 ?class .\n",
                "?class <http://schema.org/name> ?className .\n",
                "filter regex(?name, '.*monza.*', 'i') .\n",
                "}}\n",
                "\"\"\"\n",
                "run_query(q)"
            ]
        },
        {
            "cell_type": "code",
            "execution_count": 53,
            "id": "8348fdc6-5316-461e-b9f2-7b4fa5d418ad",
            "metadata": {},
            "outputs": [
                {
                    "name": "stdout",
                    "output_type": "stream",
                    "text": [
                        "[('p', 'http://www.wikidata.org/prop/direct/P1423'), ('name', 'template has topic')]\n",
                        "[('p', 'http://www.wikidata.org/prop/direct/P108'), ('name', 'employer')]\n",
                        "[('p', 'http://www.wikidata.org/prop/direct/P1269'), ('name', 'facet of')]\n",
                        "[('p', 'http://www.wikidata.org/prop/direct/P127'), ('name', 'owned by')]\n",
                        "[('p', 'http://www.wikidata.org/prop/direct/P1346'), ('name', 'winner')]\n",
                        "[('p', 'http://www.wikidata.org/prop/direct/P1365'), ('name', 'replaces')]\n",
                        "[('p', 'http://www.wikidata.org/prop/direct/P1366'), ('name', 'replaced by')]\n",
                        "[('p', 'http://www.wikidata.org/prop/direct/P1382'), ('name', 'partially coincident with')]\n",
                        "[('p', 'http://www.wikidata.org/prop/direct/P156'), ('name', 'followed by')]\n",
                        "[('p', 'http://www.wikidata.org/prop/direct/P176'), ('name', 'manufacturer')]\n",
                        "[('p', 'http://www.wikidata.org/prop/direct/P1830'), ('name', 'owner of')]\n",
                        "[('p', 'http://www.wikidata.org/prop/direct/P1889'), ('name', 'different from')]\n",
                        "[('p', 'http://www.wikidata.org/prop/direct/P301'), ('name', \"category's main topic\")]\n",
                        "[('p', 'http://www.wikidata.org/prop/direct/P355'), ('name', 'subsidiary')]\n",
                        "[('p', 'http://www.wikidata.org/prop/direct/P361'), ('name', 'part of')]\n",
                        "[('p', 'http://www.wikidata.org/prop/direct/P463'), ('name', 'member of')]\n",
                        "[('p', 'http://www.wikidata.org/prop/direct/P527'), ('name', 'has part')]\n",
                        "[('p', 'http://www.wikidata.org/prop/direct/P54'), ('name', 'member of sports team')]\n",
                        "[('p', 'http://www.wikidata.org/prop/direct/P5995'), ('name', 'kit supplier')]\n",
                        "[('p', 'http://www.wikidata.org/prop/direct/P664'), ('name', 'organizer')]\n",
                        "[('p', 'http://www.wikidata.org/prop/direct/P749'), ('name', 'parent organization')]\n",
                        "[('p', 'http://www.wikidata.org/prop/direct/P921'), ('name', 'main subject')]\n",
                        "[('p', 'http://www.wikidata.org/prop/direct/P971'), ('name', 'category combines topics')]\n",
                        "[('p', 'http://www.wikidata.org/prop/direct/P1923'), ('name', 'participating team')]\n",
                        "[('p', 'http://www.wikidata.org/prop/direct/P3764'), ('name', 'pole position')]\n",
                        "[('p', 'http://www.wikidata.org/prop/direct/P2318'), ('name', 'debut participant')]\n",
                        "[('p', 'http://www.wikidata.org/prop/direct/P1855'), ('name', 'Wikidata property example')]\n"
                    ]
                },
                {
                    "data": {
                        "text/plain": [
                            "27"
                        ]
                    },
                    "execution_count": 53,
                    "metadata": {},
                    "output_type": "execute_result"
                }
            ],
            "source": [
                "#let's see all properties entering a f1 team\n",
                "q = f\"\"\"\n",
                "select distinct ?p ?name where{{\n",
                "?s ?p ?o .\n",
                "?o wdt:P31 wd:Q10497835 .\n",
                "?p <http://schema.org/name> ?name .\n",
                "}}\n",
                "\"\"\"\n",
                "run_query(q)"
            ]
        },
        {
            "cell_type": "code",
            "execution_count": 54,
            "id": "ec05f700-f93c-4c75-9089-5a26f353e91e",
            "metadata": {},
            "outputs": [
                {
                    "name": "stdout",
                    "output_type": "stream",
                    "text": [
                        "Empty\n"
                    ]
                },
                {
                    "data": {
                        "text/plain": [
                            "0"
                        ]
                    },
                    "execution_count": 54,
                    "metadata": {},
                    "output_type": "execute_result"
                }
            ],
            "source": [
                "'''\n",
                "[('p', 'http://www.wikidata.org/prop/direct/P1346'), ('name', 'winner')]\n",
                "[('p', 'http://www.wikidata.org/prop/direct/P1923'), ('name', 'participating team')]\n",
                "[('p', 'http://www.wikidata.org/prop/direct/P3764'), ('name', 'pole position')]\n",
                "'''\n",
                "#we have found something interesting finally\n",
                "winner = 'wdt:P1346'\n",
                "participate = 'wdt:P1923'\n",
                "pole = 'wdt:P3764'\n",
                "#let's see ferrari's participations\n",
                "q = f\"\"\"\n",
                "select distinct ?o ?name where{{\n",
                "wd:Q169898 wdt:P1923 ?o .\n",
                "?o <http://schema.org/name> ?name .\n",
                "}}\n",
                "limit 20\n",
                "\"\"\"\n",
                "run_query(q)"
            ]
        },
        {
            "cell_type": "code",
            "execution_count": 55,
            "id": "8361f38b-2fa6-44d3-a304-3596dfd51fea",
            "metadata": {},
            "outputs": [
                {
                    "name": "stdout",
                    "output_type": "stream",
                    "text": [
                        "[('s', 'http://www.wikidata.org/entity/Q17455748'), ('name', '2016 Formula One World Championship')]\n",
                        "[('s', 'http://www.wikidata.org/entity/Q20755615'), ('name', '2017 Formula One World Championship')]\n",
                        "[('s', 'http://www.wikidata.org/entity/Q23051084'), ('name', '2018 Formula One World Championship')]\n"
                    ]
                },
                {
                    "data": {
                        "text/plain": [
                            "3"
                        ]
                    },
                    "execution_count": 55,
                    "metadata": {},
                    "output_type": "execute_result"
                }
            ],
            "source": [
                "#wrong, participate is a property ENTERING a team\n",
                "q = f\"\"\"\n",
                "select distinct ?s ?name where{{\n",
                "?s wdt:P1923 wd:Q169898 .\n",
                "?s <http://schema.org/name> ?name .\n",
                "}}\n",
                "limit 20\n",
                "\"\"\"\n",
                "run_query(q)"
            ]
        },
        {
            "cell_type": "code",
            "execution_count": 59,
            "id": "87c87be2-0c84-492a-b282-67d83a3e408e",
            "metadata": {},
            "outputs": [
                {
                    "name": "stdout",
                    "output_type": "stream",
                    "text": [
                        "[('c', 'http://www.wikidata.org/entity/Q27020041'), ('name', 'sports season')]\n"
                    ]
                },
                {
                    "data": {
                        "text/plain": [
                            "1"
                        ]
                    },
                    "execution_count": 59,
                    "metadata": {},
                    "output_type": "execute_result"
                }
            ],
            "source": [
                "#let's get the class of a f1 championship\n",
                "Champ2016 = 'wd:Q17455748'\n",
                "q = f\"\"\"\n",
                "select ?c ?name where{{\n",
                "wd:Q17455748 wdt:P31 ?c .\n",
                "?c <http://schema.org/name> ?name\n",
                "}}\n",
                "\"\"\"\n",
                "run_query(q)"
            ]
        },
        {
            "cell_type": "code",
            "execution_count": 57,
            "id": "68b554ce-7756-48b2-90f6-eefc0b460608",
            "metadata": {},
            "outputs": [
                {
                    "name": "stdout",
                    "output_type": "stream",
                    "text": [
                        "Empty\n"
                    ]
                },
                {
                    "data": {
                        "text/plain": [
                            "0"
                        ]
                    },
                    "execution_count": 57,
                    "metadata": {},
                    "output_type": "execute_result"
                }
            ],
            "source": [
                "#let's see if it's subclass of something\n",
                "q = f\"\"\"\n",
                "select ?c ?name where{{\n",
                "wd:Q17455748 wdt:P279 ?c .\n",
                "?c <http://schema.org/name> ?name\n",
                "}}\n",
                "\"\"\"\n",
                "run_query(q)"
            ]
        },
        {
            "cell_type": "code",
            "execution_count": 61,
            "id": "b23148b4-4391-4ab6-a107-2e2670a7b818",
            "metadata": {},
            "outputs": [
                {
                    "name": "stdout",
                    "output_type": "stream",
                    "text": [
                        "[('c', 'http://www.wikidata.org/entity/Q27020041'), ('name', 'sports season')]\n"
                    ]
                },
                {
                    "data": {
                        "text/plain": [
                            "1"
                        ]
                    },
                    "execution_count": 61,
                    "metadata": {},
                    "output_type": "execute_result"
                }
            ],
            "source": [
                "#maybe the others have a class that's more meaningful\n",
                "Champ2017 = 'wd:Q20755615'\n",
                "q = f\"\"\"\n",
                "select ?c ?name where{{\n",
                "wd:Q20755615 wdt:P31 ?c .\n",
                "?c <http://schema.org/name> ?name\n",
                "}}\n",
                "\"\"\"\n",
                "run_query(q)"
            ]
        },
        {
            "cell_type": "code",
            "execution_count": 60,
            "id": "d6e8647a-1460-4c51-9257-da76df814bdf",
            "metadata": {},
            "outputs": [
                {
                    "name": "stdout",
                    "output_type": "stream",
                    "text": [
                        "[('p', 'http://www.wikidata.org/prop/direct/P2321'), ('name', 'general classification of race participants')]\n",
                        "[('p', 'http://www.wikidata.org/prop/direct/P1132'), ('name', 'number of participants')]\n",
                        "[('p', 'http://www.wikidata.org/prop/direct/P1346'), ('name', 'winner')]\n",
                        "[('p', 'http://www.wikidata.org/prop/direct/P1350'), ('name', 'number of matches played/races/starts')]\n",
                        "[('p', 'http://www.wikidata.org/prop/direct/P18'), ('name', 'image')]\n",
                        "[('p', 'http://www.wikidata.org/prop/direct/P31'), ('name', 'instance of')]\n",
                        "[('p', 'http://www.wikidata.org/prop/direct/P3450'), ('name', 'sports season of league or competition')]\n",
                        "[('p', 'http://www.wikidata.org/prop/direct/P373'), ('name', 'Commons category')]\n",
                        "[('p', 'http://www.wikidata.org/prop/direct/P393'), ('name', 'edition number')]\n",
                        "[('p', 'http://www.wikidata.org/prop/direct/P527'), ('name', 'has part')]\n",
                        "[('p', 'http://www.wikidata.org/prop/direct/P580'), ('name', 'start time')]\n",
                        "[('p', 'http://www.wikidata.org/prop/direct/P582'), ('name', 'end time')]\n",
                        "[('p', 'http://www.wikidata.org/prop/direct/P585'), ('name', 'point in time')]\n",
                        "[('p', 'http://www.wikidata.org/prop/direct/P641'), ('name', 'sport')]\n",
                        "[('p', 'http://www.wikidata.org/prop/direct/P646'), ('name', 'Freebase ID')]\n",
                        "[('p', 'http://www.wikidata.org/prop/direct/P664'), ('name', 'organizer')]\n",
                        "[('p', 'http://www.wikidata.org/prop/direct/P856'), ('name', 'official website')]\n",
                        "[('p', 'http://www.wikidata.org/prop/direct/P910'), ('name', \"topic's main category\")]\n",
                        "[('p', 'http://www.wikidata.org/prop/direct/P1923'), ('name', 'participating team')]\n"
                    ]
                },
                {
                    "data": {
                        "text/plain": [
                            "19"
                        ]
                    },
                    "execution_count": 60,
                    "metadata": {},
                    "output_type": "execute_result"
                }
            ],
            "source": [
                "#properties connected to a championship\n",
                "q = f\"\"\"\n",
                "select distinct ?p ?name where{{\n",
                "wd:Q17455748 ?p ?o .\n",
                "?p <http://schema.org/name> ?name\n",
                "}}\n",
                "\"\"\"\n",
                "run_query(q)"
            ]
        },
        {
            "cell_type": "code",
            "execution_count": 62,
            "id": "7ffa3a4d-447d-4a6f-8228-339e3e9d115c",
            "metadata": {},
            "outputs": [
                {
                    "name": "stdout",
                    "output_type": "stream",
                    "text": [
                        "[('o', 'http://www.wikidata.org/entity/Q23045163'), ('name', '2016 Japanese Grand Prix')]\n",
                        "[('o', 'http://www.wikidata.org/entity/Q22681246'), ('name', '2016 Bahrain Grand Prix')]\n",
                        "[('o', 'http://www.wikidata.org/entity/Q23045085'), ('name', '2016 Spanish Grand Prix')]\n",
                        "[('o', 'http://www.wikidata.org/entity/Q23045170'), ('name', '2016 Hungarian Grand Prix')]\n",
                        "[('o', 'http://www.wikidata.org/entity/Q23045176'), ('name', '2016 Monaco Grand Prix')]\n",
                        "[('o', 'http://www.wikidata.org/entity/Q23045058'), ('name', '2016 Russian Grand Prix')]\n",
                        "[('o', 'http://www.wikidata.org/entity/Q23045154'), ('name', '2016 British Grand Prix')]\n",
                        "[('o', 'http://www.wikidata.org/entity/Q23045194'), ('name', '2016 Austrian Grand Prix')]\n",
                        "[('o', 'http://www.wikidata.org/entity/Q23045137'), ('name', '2016 Belgian Grand Prix')]\n",
                        "[('o', 'http://www.wikidata.org/entity/Q23045140'), ('name', '2016 Brazilian Grand Prix')]\n",
                        "[('o', 'http://www.wikidata.org/entity/Q23045146'), ('name', '2016 European Grand Prix')]\n",
                        "[('o', 'http://www.wikidata.org/entity/Q21674869'), ('name', '2016 Australian Grand Prix')]\n",
                        "[('o', 'http://www.wikidata.org/entity/Q23045045'), ('name', '2016 Chinese Grand Prix')]\n",
                        "[('o', 'http://www.wikidata.org/entity/Q23045135'), ('name', '2016 Abu Dhabi Grand Prix')]\n",
                        "[('o', 'http://www.wikidata.org/entity/Q23045142'), ('name', '2016 United States Grand Prix')]\n",
                        "[('o', 'http://www.wikidata.org/entity/Q23045166'), ('name', '2016 Canadian Grand Prix')]\n",
                        "[('o', 'http://www.wikidata.org/entity/Q23045173'), ('name', '2016 Mexican Grand Prix')]\n",
                        "[('o', 'http://www.wikidata.org/entity/Q23045179'), ('name', '2016 Singapore Grand Prix')]\n",
                        "[('o', 'http://www.wikidata.org/entity/Q23045185'), ('name', '2016 Italian Grand Prix')]\n",
                        "[('o', 'http://www.wikidata.org/entity/Q23045188'), ('name', '2016 German Grand Prix')]\n",
                        "[('o', 'http://www.wikidata.org/entity/Q23045197'), ('name', '2016 Malaysian Grand Prix')]\n"
                    ]
                },
                {
                    "data": {
                        "text/plain": [
                            "21"
                        ]
                    },
                    "execution_count": 62,
                    "metadata": {},
                    "output_type": "execute_result"
                }
            ],
            "source": [
                "'''\n",
                "[('p', 'http://www.wikidata.org/prop/direct/P1132'), ('name', 'number of participants')]\n",
                "[('p', 'http://www.wikidata.org/prop/direct/P527'), ('name', 'has part')]\n",
                "'''\n",
                "nParticipants = 'wdt:P1132'\n",
                "#what is property \"has part\"?\n",
                "hasPart = 'wdt:P527'\n",
                "q = f\"\"\"\n",
                "select ?o ?name where{{\n",
                "wd:Q17455748 wdt:P527 ?o .\n",
                "?o <http://schema.org/name> ?name .\n",
                "}}\n",
                "\"\"\"\n",
                "run_query(q)"
            ]
        },
        {
            "cell_type": "code",
            "execution_count": 63,
            "id": "8bc5382a-3200-4eee-9f41-ec131e8cdc98",
            "metadata": {},
            "outputs": [
                {
                    "name": "stdout",
                    "output_type": "stream",
                    "text": [
                        "[('c', 'http://www.wikidata.org/entity/Q8036'), ('name', 'Italian Grand Prix')]\n"
                    ]
                },
                {
                    "data": {
                        "text/plain": [
                            "1"
                        ]
                    },
                    "execution_count": 63,
                    "metadata": {},
                    "output_type": "execute_result"
                }
            ],
            "source": [
                "#we finally have the grand prix, let's see the class of a grand prix\n",
                "Italian16 = 'wd:Q23045185'\n",
                "q = f\"\"\"\n",
                "select ?c ?name where{{\n",
                "wd:Q23045185 wdt:P31 ?c .\n",
                "?c <http://schema.org/name> ?name\n",
                "}}\n",
                "\"\"\"\n",
                "run_query(q)"
            ]
        },
        {
            "cell_type": "code",
            "execution_count": 65,
            "id": "7fd233b4-4eb2-45db-82b0-0b435b9bc142",
            "metadata": {},
            "outputs": [
                {
                    "name": "stdout",
                    "output_type": "stream",
                    "text": [
                        "[('c', 'http://www.wikidata.org/entity/Q11924610'), ('name', 'Formula One Grand Prix')]\n"
                    ]
                },
                {
                    "data": {
                        "text/plain": [
                            "1"
                        ]
                    },
                    "execution_count": 65,
                    "metadata": {},
                    "output_type": "execute_result"
                }
            ],
            "source": [
                "#not very useful, is it a subclass of something?\n",
                "ItalianGrandPrix = 'wd:Q8036'\n",
                "q = f\"\"\"\n",
                "select ?c ?name where{{\n",
                "wd:Q8036 wdt:P279 ?c .\n",
                "?c <http://schema.org/name> ?name\n",
                "}}\n",
                "\"\"\"\n",
                "run_query(q)"
            ]
        },
        {
            "cell_type": "code",
            "execution_count": 66,
            "id": "0c3372fa-662f-47c1-adc6-b0b39bf305bc",
            "metadata": {},
            "outputs": [
                {
                    "name": "stdout",
                    "output_type": "stream",
                    "text": [
                        "[('s', 'http://www.wikidata.org/entity/Q67123905'), ('name', '2020 Bahrain Grand Prix')]\n",
                        "[('s', 'http://www.wikidata.org/entity/Q96088886'), ('name', '70th Anniversary Grand Prix')]\n",
                        "[('s', 'http://www.wikidata.org/entity/Q67123903'), ('name', '2020 Australian Grand Prix')]\n",
                        "[('s', 'http://www.wikidata.org/entity/Q67123906'), ('name', '2020 Vietnamese Grand Prix')]\n"
                    ]
                },
                {
                    "data": {
                        "text/plain": [
                            "4"
                        ]
                    },
                    "execution_count": 66,
                    "metadata": {},
                    "output_type": "execute_result"
                }
            ],
            "source": [
                "#let's get all instances of grand prix\n",
                "GrandPrix = 'wd:Q11924610'\n",
                "q = f\"\"\"\n",
                "select ?s ?name where{{\n",
                "?s wdt:P31 wd:Q11924610 .\n",
                "?s <http://schema.org/name> ?name\n",
                "}}\n",
                "limit 50\n",
                "\"\"\"\n",
                "run_query(q)"
            ]
        },
        {
            "cell_type": "code",
            "execution_count": 67,
            "id": "282d9ded-80de-45a6-8776-b623ad5d00a0",
            "metadata": {},
            "outputs": [
                {
                    "name": "stdout",
                    "output_type": "stream",
                    "text": [
                        "[('p', 'http://www.wikidata.org/prop/direct/P2321'), ('name', 'general classification of race participants')]\n",
                        "[('p', 'http://www.wikidata.org/prop/direct/P1346'), ('name', 'winner')]\n",
                        "[('p', 'http://www.wikidata.org/prop/direct/P17'), ('name', 'country')]\n",
                        "[('p', 'http://www.wikidata.org/prop/direct/P2671'), ('name', 'Google Knowledge Graph ID')]\n",
                        "[('p', 'http://www.wikidata.org/prop/direct/P276'), ('name', 'location')]\n",
                        "[('p', 'http://www.wikidata.org/prop/direct/P31'), ('name', 'instance of')]\n",
                        "[('p', 'http://www.wikidata.org/prop/direct/P3157'), ('name', 'event distance')]\n",
                        "[('p', 'http://www.wikidata.org/prop/direct/P361'), ('name', 'part of')]\n",
                        "[('p', 'http://www.wikidata.org/prop/direct/P373'), ('name', 'Commons category')]\n",
                        "[('p', 'http://www.wikidata.org/prop/direct/P585'), ('name', 'point in time')]\n",
                        "[('p', 'http://www.wikidata.org/prop/direct/P641'), ('name', 'sport')]\n",
                        "[('p', 'http://www.wikidata.org/prop/direct/P3764'), ('name', 'pole position')]\n",
                        "[('p', 'http://www.wikidata.org/prop/direct/P5053'), ('name', 'fastest lap')]\n",
                        "[('p', 'http://www.wikidata.org/prop/direct/P6806'), ('name', 'racing-reference race ID')]\n"
                    ]
                },
                {
                    "data": {
                        "text/plain": [
                            "14"
                        ]
                    },
                    "execution_count": 67,
                    "metadata": {},
                    "output_type": "execute_result"
                }
            ],
            "source": [
                "#again not very useful. let's check the properties exiting a grand prix\n",
                "q = f\"\"\"\n",
                "select distinct ?p ?name where{{\n",
                "wd:Q23045185 ?p ?o .\n",
                "?p <http://schema.org/name> ?name .\n",
                "}}\n",
                "\"\"\"\n",
                "run_query(q)"
            ]
        },
        {
            "cell_type": "code",
            "execution_count": 68,
            "id": "7e829ffe-1fd6-4c3a-bd7c-55c06f22da34",
            "metadata": {},
            "outputs": [
                {
                    "name": "stdout",
                    "output_type": "stream",
                    "text": [
                        "[('o', 'http://www.wikidata.org/entity/Q777319'), ('name', 'Felipe Nasr')]\n",
                        "[('o', 'http://www.wikidata.org/entity/Q544856'), ('name', 'Carlos Sainz Jr')]\n",
                        "[('o', 'http://www.wikidata.org/entity/Q82816'), ('name', 'Daniel Ricciardo')]\n",
                        "[('o', 'http://www.wikidata.org/entity/Q76547'), ('name', 'Nico H\u00fclkenberg')]\n",
                        "[('o', 'http://www.wikidata.org/entity/Q15074165'), ('name', 'Esteban Ocon')]\n",
                        "[('o', 'http://www.wikidata.org/entity/Q42311'), ('name', 'Sebastian Vettel')]\n",
                        "[('o', 'http://www.wikidata.org/entity/Q10510'), ('name', 'Jenson Button')]\n",
                        "[('o', 'http://www.wikidata.org/entity/Q11192'), ('name', 'Kimi R\u00e4ikk\u00f6nen')]\n",
                        "[('o', 'http://www.wikidata.org/entity/Q75820'), ('name', 'Nico Rosberg')]\n",
                        "[('o', 'http://www.wikidata.org/entity/Q82652'), ('name', 'Felipe Massa')]\n",
                        "[('o', 'http://www.wikidata.org/entity/Q9673'), ('name', 'Lewis Hamilton')]\n",
                        "[('o', 'http://www.wikidata.org/entity/Q10514'), ('name', 'Fernando Alonso')]\n",
                        "[('o', 'http://www.wikidata.org/entity/Q138745'), ('name', 'Valtteri Bottas')]\n",
                        "[('o', 'http://www.wikidata.org/entity/Q82742'), ('name', 'Romain Grosjean')]\n",
                        "[('o', 'http://www.wikidata.org/entity/Q1740212'), ('name', 'Kevin Magnussen')]\n",
                        "[('o', 'http://www.wikidata.org/entity/Q2239218'), ('name', 'Max Verstappen')]\n",
                        "[('o', 'http://www.wikidata.org/entity/Q82805'), ('name', 'Sergio P\u00e9rez')]\n",
                        "[('o', 'http://www.wikidata.org/entity/Q979668'), ('name', 'Daniil Kvyat')]\n",
                        "[('o', 'http://www.wikidata.org/entity/Q18915'), ('name', 'Esteban Guti\u00e9rrez')]\n",
                        "[('o', 'http://www.wikidata.org/entity/Q714365'), ('name', 'Jolyon Palmer')]\n",
                        "[('o', 'http://www.wikidata.org/entity/Q85762'), ('name', 'Pascal Wehrlein')]\n",
                        "[('o', 'http://www.wikidata.org/entity/Q975207'), ('name', 'Marcus Ericsson')]\n"
                    ]
                },
                {
                    "data": {
                        "text/plain": [
                            "22"
                        ]
                    },
                    "execution_count": 68,
                    "metadata": {},
                    "output_type": "execute_result"
                }
            ],
            "source": [
                "classification = 'wdt:P2321'\n",
                "distance = 'wdt:P3157' #is this the total distance?\n",
                "#let's see the classification\n",
                "q = f\"\"\"\n",
                "select ?o ?name where{{\n",
                "wd:Q23045185 wdt:P2321 ?o .\n",
                "?o <http://schema.org/name> ?name\n",
                "}}\n",
                "\"\"\"\n",
                "run_query(q)"
            ]
        },
        {
            "cell_type": "code",
            "execution_count": 71,
            "id": "c141dc5a-6957-4243-851b-bca92ed9ff53",
            "metadata": {},
            "outputs": [
                {
                    "name": "stdout",
                    "output_type": "stream",
                    "text": [
                        "[('driverName', 'Reg Parnell'), ('teamName', 'Alfa Romeo')]\n",
                        "[('driverName', 'Carlos Sainz Jr'), ('teamName', 'Scuderia Toro Rosso')]\n",
                        "[('driverName', 'Carlos Sainz Jr'), ('teamName', 'McLaren')]\n",
                        "[('driverName', 'Carlos Sainz Jr'), ('teamName', 'Renault F1 Team')]\n",
                        "[('driverName', 'Graham Hill'), ('teamName', 'British Racing Motors')]\n",
                        "[('driverName', 'Graham Hill'), ('teamName', 'Equipe Matra Sports')]\n",
                        "[('driverName', 'Graham Hill'), ('teamName', 'Brabham')]\n",
                        "[('driverName', 'John Surtees'), ('teamName', 'British Racing Motors')]\n",
                        "[('driverName', 'John Surtees'), ('teamName', 'Honda')]\n",
                        "[('driverName', 'John Surtees'), ('teamName', 'Scuderia Ferrari')]\n",
                        "[('driverName', 'Ayrton Senna'), ('teamName', 'Williams Grand Prix Engineering')]\n",
                        "[('driverName', 'Ayrton Senna'), ('teamName', 'McLaren')]\n",
                        "[('driverName', 'James Hunt'), ('teamName', 'McLaren')]\n",
                        "[('driverName', 'Riccardo Patrese'), ('teamName', 'Alfa Romeo')]\n",
                        "[('driverName', 'Niki Lauda'), ('teamName', 'British Racing Motors')]\n",
                        "[('driverName', 'Niki Lauda'), ('teamName', 'March Engineering')]\n",
                        "[('driverName', 'Niki Lauda'), ('teamName', 'Scuderia Ferrari')]\n",
                        "[('driverName', 'Niki Lauda'), ('teamName', 'McLaren')]\n",
                        "[('driverName', 'Niki Lauda'), ('teamName', 'Brabham')]\n",
                        "[('driverName', 'Mario Andretti'), ('teamName', 'Alfa Romeo')]\n",
                        "[('driverName', 'Jean-Louis Schlesser'), ('teamName', 'Williams Grand Prix Engineering')]\n",
                        "[('driverName', 'Gilles Villeneuve'), ('teamName', 'Scuderia Ferrari')]\n",
                        "[('driverName', 'Bruno Giacomelli'), ('teamName', 'Alfa Romeo')]\n",
                        "[('driverName', 'Bruno Giacomelli'), ('teamName', 'McLaren')]\n",
                        "[('driverName', 'Bruno Giacomelli'), ('teamName', 'Life Racing Engines')]\n",
                        "[('driverName', 'Luis P\u00e9rez-Sala'), ('teamName', 'Minardi')]\n",
                        "[('driverName', 'Denny Hulme'), ('teamName', 'Tyrrell Racing')]\n",
                        "[('driverName', 'Denny Hulme'), ('teamName', 'McLaren')]\n",
                        "[('driverName', 'Denny Hulme'), ('teamName', 'Brabham')]\n",
                        "[('driverName', 'Tony Brooks'), ('teamName', 'British Racing Motors')]\n",
                        "[('driverName', 'Tony Brooks'), ('teamName', 'Scuderia Ferrari')]\n",
                        "[('driverName', 'Stefan Bellof'), ('teamName', 'Tyrrell Racing')]\n",
                        "[('driverName', 'Sebastian Vettel'), ('teamName', 'Scuderia Toro Rosso')]\n",
                        "[('driverName', 'Sebastian Vettel'), ('teamName', 'Red Bull Racing')]\n",
                        "[('driverName', 'Sebastian Vettel'), ('teamName', 'Scuderia Ferrari')]\n",
                        "[('driverName', 'Michael Schumacher'), ('teamName', 'Scuderia Ferrari')]\n",
                        "[('driverName', 'Michael Schumacher'), ('teamName', 'Benetton Formula')]\n",
                        "[('driverName', 'Michael Schumacher'), ('teamName', 'Jordan Grand Prix')]\n",
                        "[('driverName', 'Michael Schumacher'), ('teamName', 'Mercedes')]\n",
                        "[('driverName', 'Kimi R\u00e4ikk\u00f6nen'), ('teamName', 'Alfa Romeo')]\n",
                        "[('driverName', 'Kimi R\u00e4ikk\u00f6nen'), ('teamName', 'Scuderia Ferrari')]\n",
                        "[('driverName', 'Joseph Siffert'), ('teamName', 'British Racing Motors')]\n",
                        "[('driverName', 'Joseph Siffert'), ('teamName', 'March Engineering')]\n",
                        "[('driverName', 'David Coulthard'), ('teamName', 'Red Bull Racing')]\n",
                        "[('driverName', 'David Coulthard'), ('teamName', 'Williams Grand Prix Engineering')]\n",
                        "[('driverName', 'David Coulthard'), ('teamName', 'McLaren')]\n",
                        "[('driverName', 'Juan Manuel Fangio'), ('teamName', 'Alfa Romeo')]\n",
                        "[('driverName', 'Jack Brabham'), ('teamName', 'Brabham')]\n",
                        "[('driverName', 'Jackie Stewart'), ('teamName', 'Tyrrell Racing')]\n",
                        "[('driverName', 'Jackie Stewart'), ('teamName', 'British Racing Motors')]\n",
                        "[('driverName', 'Jackie Stewart'), ('teamName', 'Equipe Matra Sports')]\n",
                        "[('driverName', 'Nico Rosberg'), ('teamName', 'Williams Grand Prix Engineering')]\n",
                        "[('driverName', 'Nico Rosberg'), ('teamName', 'Mercedes')]\n",
                        "[('driverName', 'Gerhard Berger'), ('teamName', 'Scuderia Ferrari')]\n",
                        "[('driverName', 'Gerhard Berger'), ('teamName', 'Benetton Formula')]\n",
                        "[('driverName', 'Gerhard Berger'), ('teamName', 'McLaren')]\n",
                        "[('driverName', 'Gerhard Berger'), ('teamName', 'Arrows')]\n",
                        "[('driverName', 'Lewis Hamilton'), ('teamName', 'McLaren')]\n",
                        "[('driverName', 'Lewis Hamilton'), ('teamName', 'Mercedes')]\n",
                        "[('driverName', 'Roy Salvadori'), ('teamName', 'British Racing Motors')]\n",
                        "[('driverName', 'Eddie Cheever'), ('teamName', 'Alfa Romeo')]\n",
                        "[('driverName', 'Fernando Alonso'), ('teamName', 'Minardi')]\n",
                        "[('driverName', 'Fernando Alonso'), ('teamName', 'Scuderia Ferrari')]\n",
                        "[('driverName', 'Fernando Alonso'), ('teamName', 'McLaren')]\n",
                        "[('driverName', 'Fernando Alonso'), ('teamName', 'Renault F1 Team')]\n",
                        "[('driverName', 'Fernando Alonso'), ('teamName', 'Alpine F1 Team')]\n",
                        "[('driverName', 'Jacky Ickx'), ('teamName', 'Scuderia Ferrari')]\n",
                        "[('driverName', 'Jacky Ickx'), ('teamName', 'Williams Grand Prix Engineering')]\n",
                        "[('driverName', 'Jacky Ickx'), ('teamName', 'McLaren')]\n",
                        "[('driverName', 'Jacky Ickx'), ('teamName', 'Brabham')]\n",
                        "[('driverName', 'Valtteri Bottas'), ('teamName', 'Williams Grand Prix Engineering')]\n",
                        "[('driverName', 'Valtteri Bottas'), ('teamName', 'Mercedes')]\n",
                        "[('driverName', 'Paul Pietsch'), ('teamName', 'Alfa Romeo')]\n",
                        "[('driverName', 'Romain Grosjean'), ('teamName', 'Haas F1 Team')]\n",
                        "[('driverName', 'Alexander Albon'), ('teamName', 'Scuderia Toro Rosso')]\n",
                        "[('driverName', 'Alexander Albon'), ('teamName', 'Red Bull Racing')]\n",
                        "[('driverName', 'Keke Rosberg'), ('teamName', 'Williams Grand Prix Engineering')]\n",
                        "[('driverName', 'Keke Rosberg'), ('teamName', 'McLaren')]\n",
                        "[('driverName', 'Pierre Gasly'), ('teamName', 'Scuderia Toro Rosso')]\n",
                        "[('driverName', 'Pierre Gasly'), ('teamName', 'Red Bull Racing')]\n",
                        "[('driverName', 'Robert Kubica'), ('teamName', 'Williams Grand Prix Engineering')]\n",
                        "[('driverName', 'Lance Stroll'), ('teamName', 'Racing Point F1 Team')]\n",
                        "[('driverName', 'George Russell'), ('teamName', 'Williams Grand Prix Engineering')]\n",
                        "[('driverName', 'Charles Leclerc'), ('teamName', 'Scuderia Ferrari')]\n",
                        "[('driverName', 'Charles Leclerc'), ('teamName', 'Sauber')]\n",
                        "[('driverName', 'Lando Norris'), ('teamName', 'McLaren')]\n",
                        "[('driverName', 'Max Verstappen'), ('teamName', 'Scuderia Toro Rosso')]\n",
                        "[('driverName', 'Max Verstappen'), ('teamName', 'Red Bull Racing')]\n",
                        "[('driverName', 'Antonio Giovinazzi'), ('teamName', 'Alfa Romeo')]\n",
                        "[('driverName', 'Perry McCarthy'), ('teamName', 'Andrea Moda Formula')]\n",
                        "[('driverName', 'Will Stevens'), ('teamName', 'Caterham F1')]\n",
                        "[('driverName', 'Pastor Maldonado'), ('teamName', 'Williams Grand Prix Engineering')]\n",
                        "[('driverName', 'Pastor Maldonado'), ('teamName', 'Renault F1 Team')]\n",
                        "[('driverName', 'Jackie Oliver'), ('teamName', 'British Racing Motors')]\n",
                        "[('driverName', 'Jackie Oliver'), ('teamName', 'McLaren')]\n",
                        "[('driverName', 'Johnny Servoz-Gavin'), ('teamName', 'Tyrrell Racing')]\n",
                        "[('driverName', 'Johnny Servoz-Gavin'), ('teamName', 'Equipe Matra Sports')]\n",
                        "[('driverName', 'Richard Attwood'), ('teamName', 'British Racing Motors')]\n",
                        "[('driverName', 'Ron Flockhart'), ('teamName', 'British Racing Motors')]\n",
                        "[('driverName', 'JJ Lehto'), ('teamName', 'Benetton Formula')]\n"
                    ]
                },
                {
                    "data": {
                        "text/plain": [
                            "100"
                        ]
                    },
                    "execution_count": 71,
                    "metadata": {},
                    "output_type": "execute_result"
                }
            ],
            "source": [
                "#for now we can answer point 1.\n",
                "#let's get for each formula 1 driver the respective team\n",
                "q = f\"\"\"\n",
                "select ?driverName ?teamName where{{\n",
                "?driver wdt:P106 wd:Q10841764 ;\n",
                "    wdt:P54 ?team ;\n",
                "    <http://schema.org/name> ?driverName .\n",
                "?team wdt:P31 wd:Q10497835 ;\n",
                "    <http://schema.org/name> ?teamName .\n",
                "}}\n",
                "limit 100\n",
                "\"\"\"\n",
                "run_query(q)"
            ]
        },
        {
            "cell_type": "code",
            "execution_count": 72,
            "id": "a90b9cb3-62c5-42af-9214-7ec7c8221893",
            "metadata": {},
            "outputs": [
                {
                    "name": "stdout",
                    "output_type": "stream",
                    "text": [
                        "Empty\n"
                    ]
                },
                {
                    "data": {
                        "text/plain": [
                            "0"
                        ]
                    },
                    "execution_count": 72,
                    "metadata": {},
                    "output_type": "execute_result"
                }
            ],
            "source": [
                "#we have repetitions since drivers move teams during the years\n",
                "#let's try and find the property connecting a grand prix with a team\n",
                "q = f\"\"\"\n",
                "select distinct ?p ?name where{{\n",
                "wd:Q23045185 ?p ?o .\n",
                "?o wdt:P31 wd:Q10497835 .\n",
                "?p <http://schema.org/name> ?name\n",
                "}}\n",
                "\"\"\"\n",
                "run_query(q)"
            ]
        },
        {
            "cell_type": "code",
            "execution_count": 73,
            "id": "a2ea46a5-b587-4132-a2b0-db93a955e06c",
            "metadata": {},
            "outputs": [
                {
                    "name": "stdout",
                    "output_type": "stream",
                    "text": [
                        "Empty\n"
                    ]
                },
                {
                    "data": {
                        "text/plain": [
                            "0"
                        ]
                    },
                    "execution_count": 73,
                    "metadata": {},
                    "output_type": "execute_result"
                }
            ],
            "source": [
                "#let's try the inverse\n",
                "q = f\"\"\"\n",
                "select distinct ?p ?name where{{\n",
                "?team ?p wd:Q23045185 .\n",
                "?team wdt:P31 wd:Q10497835 .\n",
                "?p <http://schema.org/name> ?name\n",
                "}}\n",
                "\"\"\"\n",
                "run_query(q)"
            ]
        },
        {
            "cell_type": "code",
            "execution_count": 75,
            "id": "c6e7e231-c4e2-473f-b495-09070e54cca2",
            "metadata": {},
            "outputs": [
                {
                    "name": "stdout",
                    "output_type": "stream",
                    "text": [
                        "Empty\n"
                    ]
                },
                {
                    "data": {
                        "text/plain": [
                            "0"
                        ]
                    },
                    "execution_count": 75,
                    "metadata": {},
                    "output_type": "execute_result"
                }
            ],
            "source": [
                "#a team does not seem to \"participate\" in a grand prix, does a driver participate instead?\n",
                "q = f\"\"\"\n",
                "select distinct ?p ?name where{{\n",
                "?driver ?p wd:Q23045185 .\n",
                "?driver wdt:P106 wd:Q10841764 .\n",
                "?p <http://schema.org/name> ?name .\n",
                "}}\n",
                "\"\"\"\n",
                "run_query(q)"
            ]
        },
        {
            "cell_type": "code",
            "execution_count": 76,
            "id": "14e754c6-b575-4a77-bf68-1a90bf5a97a2",
            "metadata": {},
            "outputs": [
                {
                    "name": "stdout",
                    "output_type": "stream",
                    "text": [
                        "[('p', 'http://www.wikidata.org/prop/direct/P2321'), ('name', 'general classification of race participants')]\n",
                        "[('p', 'http://www.wikidata.org/prop/direct/P1346'), ('name', 'winner')]\n",
                        "[('p', 'http://www.wikidata.org/prop/direct/P3764'), ('name', 'pole position')]\n",
                        "[('p', 'http://www.wikidata.org/prop/direct/P5053'), ('name', 'fastest lap')]\n"
                    ]
                },
                {
                    "data": {
                        "text/plain": [
                            "4"
                        ]
                    },
                    "execution_count": 76,
                    "metadata": {},
                    "output_type": "execute_result"
                }
            ],
            "source": [
                "#inverse\n",
                "q = f\"\"\"\n",
                "select distinct ?p ?name where{{\n",
                "wd:Q23045185 ?p ?driver .\n",
                "?driver wdt:P106 wd:Q10841764 .\n",
                "?p <http://schema.org/name> ?name .\n",
                "}}\n",
                "\"\"\"\n",
                "run_query(q)"
            ]
        },
        {
            "cell_type": "code",
            "execution_count": 77,
            "id": "a8697ae2-6d2a-49b2-bbc3-d3976d4f1b12",
            "metadata": {},
            "outputs": [
                {
                    "name": "stdout",
                    "output_type": "stream",
                    "text": [
                        "[('p', 'http://www.wikidata.org/prop/direct/P3927'), ('name', 'eWRC-results.com racer ID')]\n",
                        "[('p', 'http://www.wikidata.org/prop/direct/P102'), ('name', 'member of political party')]\n",
                        "[('p', 'http://www.wikidata.org/prop/direct/P1344'), ('name', 'participant in')]\n",
                        "[('p', 'http://www.wikidata.org/prop/direct/P451'), ('name', 'unmarried partner')]\n",
                        "[('p', 'http://www.wikidata.org/prop/direct/P1350'), ('name', 'number of matches played/races/starts')]\n",
                        "[('p', 'http://www.wikidata.org/prop/direct/P2094'), ('name', 'competition class')]\n",
                        "[('p', 'http://www.wikidata.org/prop/direct/P3074'), ('name', \"Grace's Guide ID\")]\n",
                        "[('p', 'http://www.wikidata.org/prop/direct/P3928'), ('name', 'MotoGP racer ID')]\n",
                        "[('p', 'http://www.wikidata.org/prop/direct/P8578'), ('name', 'TracesOfWar person ID')]\n"
                    ]
                },
                {
                    "data": {
                        "text/plain": [
                            "9"
                        ]
                    },
                    "execution_count": 77,
                    "metadata": {},
                    "output_type": "execute_result"
                }
            ],
            "source": [
                "#we still don't have a straightforward property connecting a driver with a grand prix\n",
                "#let's try again considering all drivers and using regex\n",
                "q = f\"\"\"\n",
                "select distinct ?p ?name where{{\n",
                "?driver wdt:P106 wd:Q10841764 .\n",
                "?driver ?p ?something .\n",
                "?p <http://schema.org/name> ?name .\n",
                "filter regex(?name, '.*(partici|race|compet|part).*')\n",
                "}}\n",
                "\"\"\"\n",
                "run_query(q)"
            ]
        },
        {
            "cell_type": "code",
            "execution_count": 78,
            "id": "797841ee-7432-4a5e-81c2-eb51950c5de2",
            "metadata": {},
            "outputs": [
                {
                    "name": "stdout",
                    "output_type": "stream",
                    "text": [
                        "[('object', 'http://www.wikidata.org/entity/Q149844'), ('objectName', 'GP3 Series')]\n",
                        "[('object', 'http://www.wikidata.org/entity/Q149844'), ('objectName', 'GP3 Series')]\n",
                        "[('object', 'http://www.wikidata.org/entity/Q17455748'), ('objectName', '2016 Formula One World Championship')]\n",
                        "[('object', 'http://www.wikidata.org/entity/Q22833485'), ('objectName', \"2015 FIA World Endurance Drivers' Championship\")]\n",
                        "[('object', 'http://www.wikidata.org/entity/Q22833485'), ('objectName', \"2015 FIA World Endurance Drivers' Championship\")]\n",
                        "[('object', 'http://www.wikidata.org/entity/Q22833485'), ('objectName', \"2015 FIA World Endurance Drivers' Championship\")]\n",
                        "[('object', 'http://www.wikidata.org/entity/Q22833485'), ('objectName', \"2015 FIA World Endurance Drivers' Championship\")]\n",
                        "[('object', 'http://www.wikidata.org/entity/Q69343'), ('objectName', '1974 Formula One season')]\n",
                        "[('object', 'http://www.wikidata.org/entity/Q69641'), ('objectName', '1989 Formula One season')]\n",
                        "[('object', 'http://www.wikidata.org/entity/Q69641'), ('objectName', '1989 Formula One season')]\n",
                        "[('object', 'http://www.wikidata.org/entity/Q8415'), ('objectName', '1960 Summer Olympics')]\n",
                        "[('object', 'http://www.wikidata.org/entity/Q918187'), ('objectName', 'British Formula Three Championship')]\n",
                        "[('object', 'http://www.wikidata.org/entity/Q47517245'), ('objectName', '2018 UCI World Ranking')]\n",
                        "[('object', 'http://www.wikidata.org/entity/Q1437517'), ('objectName', '1986 International Formula 3000 season')]\n",
                        "[('object', 'http://www.wikidata.org/entity/Q1437521'), ('objectName', '1987 International Formula 3000 season')]\n",
                        "[('object', 'http://www.wikidata.org/entity/Q69229'), ('objectName', '1967 Formula One season')]\n",
                        "[('object', 'http://www.wikidata.org/entity/Q69633'), ('objectName', '1988 Formula One season')]\n",
                        "[('object', 'http://www.wikidata.org/entity/Q69633'), ('objectName', '1988 Formula One season')]\n",
                        "[('object', 'http://www.wikidata.org/entity/Q69913'), ('objectName', '2008 Formula One World Championship')]\n",
                        "[('object', 'http://www.wikidata.org/entity/Q69603'), ('objectName', '1985 Formula One season')]\n",
                        "[('object', 'http://www.wikidata.org/entity/Q69943'), ('objectName', '2011 Formula One World Championship')]\n",
                        "[('object', 'http://www.wikidata.org/entity/Q319565'), ('objectName', 'FIA Formula E Championship')]\n",
                        "[('object', 'http://www.wikidata.org/entity/Q319565'), ('objectName', 'FIA Formula E Championship')]\n",
                        "[('object', 'http://www.wikidata.org/entity/Q319565'), ('objectName', 'FIA Formula E Championship')]\n",
                        "[('object', 'http://www.wikidata.org/entity/Q69623'), ('objectName', '1987 Formula One season')]\n",
                        "[('object', 'http://www.wikidata.org/entity/Q69657'), ('objectName', '1990 Formula One season')]\n",
                        "[('object', 'http://www.wikidata.org/entity/Q42204070'), ('objectName', '2018 UCI Asia Tour')]\n",
                        "[('object', 'http://www.wikidata.org/entity/Q69670'), ('objectName', '1991 Formula One season')]\n",
                        "[('object', 'http://www.wikidata.org/entity/Q23681637'), ('objectName', \"2013 FIA World Endurance Drivers' Championship\")]\n",
                        "[('object', 'http://www.wikidata.org/entity/Q23681637'), ('objectName', \"2013 FIA World Endurance Drivers' Championship\")]\n",
                        "[('object', 'http://www.wikidata.org/entity/Q23681637'), ('objectName', \"2013 FIA World Endurance Drivers' Championship\")]\n",
                        "[('object', 'http://www.wikidata.org/entity/Q23681637'), ('objectName', \"2013 FIA World Endurance Drivers' Championship\")]\n",
                        "[('object', 'http://www.wikidata.org/entity/Q23681637'), ('objectName', \"2013 FIA World Endurance Drivers' Championship\")]\n",
                        "[('object', 'http://www.wikidata.org/entity/Q23681637'), ('objectName', \"2013 FIA World Endurance Drivers' Championship\")]\n",
                        "[('object', 'http://www.wikidata.org/entity/Q173030'), ('objectName', '1951 Indianapolis 500')]\n",
                        "[('object', 'http://www.wikidata.org/entity/Q173164'), ('objectName', '2012 Hungarian Grand Prix')]\n",
                        "[('object', 'http://www.wikidata.org/entity/Q187579'), ('objectName', '24 Hours of Le Mans')]\n",
                        "[('object', 'http://www.wikidata.org/entity/Q187579'), ('objectName', '24 Hours of Le Mans')]\n",
                        "[('object', 'http://www.wikidata.org/entity/Q187579'), ('objectName', '24 Hours of Le Mans')]\n",
                        "[('object', 'http://www.wikidata.org/entity/Q187579'), ('objectName', '24 Hours of Le Mans')]\n",
                        "[('object', 'http://www.wikidata.org/entity/Q187579'), ('objectName', '24 Hours of Le Mans')]\n",
                        "[('object', 'http://www.wikidata.org/entity/Q187579'), ('objectName', '24 Hours of Le Mans')]\n",
                        "[('object', 'http://www.wikidata.org/entity/Q187579'), ('objectName', '24 Hours of Le Mans')]\n",
                        "[('object', 'http://www.wikidata.org/entity/Q187579'), ('objectName', '24 Hours of Le Mans')]\n",
                        "[('object', 'http://www.wikidata.org/entity/Q187579'), ('objectName', '24 Hours of Le Mans')]\n",
                        "[('object', 'http://www.wikidata.org/entity/Q187579'), ('objectName', '24 Hours of Le Mans')]\n",
                        "[('object', 'http://www.wikidata.org/entity/Q187579'), ('objectName', '24 Hours of Le Mans')]\n",
                        "[('object', 'http://www.wikidata.org/entity/Q187579'), ('objectName', '24 Hours of Le Mans')]\n",
                        "[('object', 'http://www.wikidata.org/entity/Q187579'), ('objectName', '24 Hours of Le Mans')]\n",
                        "[('object', 'http://www.wikidata.org/entity/Q187579'), ('objectName', '24 Hours of Le Mans')]\n"
                    ]
                },
                {
                    "data": {
                        "text/plain": [
                            "50"
                        ]
                    },
                    "execution_count": 78,
                    "metadata": {},
                    "output_type": "execute_result"
                }
            ],
            "source": [
                "#we have found property \"participant in\" that was not there when we used only sebastian vettel\n",
                "participantIn = 'wdt:P1344'\n",
                "q = f\"\"\"\n",
                "select ?driverName ?object ?objectName where{{\n",
                "?driver wdt:P106 wd:Q10841764 ;\n",
                "    wdt:P1344 ?object .\n",
                "?object <http://schema.org/name> ?objectName .\n",
                "}}\n",
                "limit 50\n",
                "\"\"\"\n",
                "run_query(q)"
            ]
        },
        {
            "cell_type": "code",
            "execution_count": 80,
            "id": "b8306378-1cae-46c0-ac87-5bf656f473d3",
            "metadata": {},
            "outputs": [
                {
                    "name": "stdout",
                    "output_type": "stream",
                    "text": [
                        "[('driverName', 'Fernando Alonso'), ('object', 'http://www.wikidata.org/entity/Q17455748'), ('objectName', '2016 Formula One World Championship')]\n",
                        "[('driverName', 'Eppie Wietzes'), ('object', 'http://www.wikidata.org/entity/Q69343'), ('objectName', '1974 Formula One season')]\n",
                        "[('driverName', 'Ayrton Senna'), ('object', 'http://www.wikidata.org/entity/Q69641'), ('objectName', '1989 Formula One season')]\n",
                        "[('driverName', 'Luis P\u00e9rez-Sala'), ('object', 'http://www.wikidata.org/entity/Q69641'), ('objectName', '1989 Formula One season')]\n",
                        "[('driverName', 'Eppie Wietzes'), ('object', 'http://www.wikidata.org/entity/Q69229'), ('objectName', '1967 Formula One season')]\n",
                        "[('driverName', 'Ayrton Senna'), ('object', 'http://www.wikidata.org/entity/Q69633'), ('objectName', '1988 Formula One season')]\n",
                        "[('driverName', 'Luis P\u00e9rez-Sala'), ('object', 'http://www.wikidata.org/entity/Q69633'), ('objectName', '1988 Formula One season')]\n",
                        "[('driverName', 'Fernando Alonso'), ('object', 'http://www.wikidata.org/entity/Q69913'), ('objectName', '2008 Formula One World Championship')]\n",
                        "[('driverName', 'Ayrton Senna'), ('object', 'http://www.wikidata.org/entity/Q69603'), ('objectName', '1985 Formula One season')]\n",
                        "[('driverName', 'Fernando Alonso'), ('object', 'http://www.wikidata.org/entity/Q69943'), ('objectName', '2011 Formula One World Championship')]\n",
                        "[('driverName', 'Ayrton Senna'), ('object', 'http://www.wikidata.org/entity/Q69623'), ('objectName', '1987 Formula One season')]\n",
                        "[('driverName', 'Ayrton Senna'), ('object', 'http://www.wikidata.org/entity/Q69657'), ('objectName', '1990 Formula One season')]\n",
                        "[('driverName', 'Ayrton Senna'), ('object', 'http://www.wikidata.org/entity/Q69670'), ('objectName', '1991 Formula One season')]\n",
                        "[('driverName', 'Carlos Reutemann'), ('object', 'http://www.wikidata.org/entity/Q1968'), ('objectName', 'Formula One')]\n",
                        "[('driverName', 'David Coulthard'), ('object', 'http://www.wikidata.org/entity/Q1968'), ('objectName', 'Formula One')]\n",
                        "[('driverName', 'Romain Grosjean'), ('object', 'http://www.wikidata.org/entity/Q1968'), ('objectName', 'Formula One')]\n",
                        "[('driverName', 'Alexander Albon'), ('object', 'http://www.wikidata.org/entity/Q1968'), ('objectName', 'Formula One')]\n",
                        "[('driverName', 'Keke Rosberg'), ('object', 'http://www.wikidata.org/entity/Q1968'), ('objectName', 'Formula One')]\n",
                        "[('driverName', 'George Russell'), ('object', 'http://www.wikidata.org/entity/Q1968'), ('objectName', 'Formula One')]\n",
                        "[('driverName', 'Antonio Giovinazzi'), ('object', 'http://www.wikidata.org/entity/Q1968'), ('objectName', 'Formula One')]\n",
                        "[('driverName', 'Ayrton Senna'), ('object', 'http://www.wikidata.org/entity/Q69713'), ('objectName', '1994 Formula One season')]\n",
                        "[('driverName', 'Michael Schumacher'), ('object', 'http://www.wikidata.org/entity/Q69713'), ('objectName', '1994 Formula One season')]\n",
                        "[('driverName', 'Michael Schumacher'), ('object', 'http://www.wikidata.org/entity/Q69722'), ('objectName', '1995 Formula One season')]\n",
                        "[('driverName', 'Michael Schumacher'), ('object', 'http://www.wikidata.org/entity/Q69805'), ('objectName', '2000 Formula One season')]\n",
                        "[('driverName', 'Michael Schumacher'), ('object', 'http://www.wikidata.org/entity/Q69835'), ('objectName', '2001 Formula One season')]\n",
                        "[('driverName', 'Fernando Alonso'), ('object', 'http://www.wikidata.org/entity/Q69835'), ('objectName', '2001 Formula One season')]\n",
                        "[('driverName', 'Michael Schumacher'), ('object', 'http://www.wikidata.org/entity/Q69844'), ('objectName', '2002 Formula One season')]\n",
                        "[('driverName', 'Michael Schumacher'), ('object', 'http://www.wikidata.org/entity/Q69859'), ('objectName', '2003 Formula One season')]\n",
                        "[('driverName', 'Fernando Alonso'), ('object', 'http://www.wikidata.org/entity/Q69859'), ('objectName', '2003 Formula One season')]\n",
                        "[('driverName', 'Michael Schumacher'), ('object', 'http://www.wikidata.org/entity/Q69869'), ('objectName', '2004 Formula One season')]\n",
                        "[('driverName', 'Fernando Alonso'), ('object', 'http://www.wikidata.org/entity/Q69869'), ('objectName', '2004 Formula One season')]\n",
                        "[('driverName', 'Ayrton Senna'), ('object', 'http://www.wikidata.org/entity/Q69614'), ('objectName', '1986 Formula One season')]\n",
                        "[('driverName', 'Ayrton Senna'), ('object', 'http://www.wikidata.org/entity/Q69686'), ('objectName', '1992 Formula One season')]\n",
                        "[('driverName', 'Fernando Alonso'), ('object', 'http://www.wikidata.org/entity/Q69901'), ('objectName', '2007 Formula One World Championship')]\n",
                        "[('driverName', 'Fernando Alonso'), ('object', 'http://www.wikidata.org/entity/Q69923'), ('objectName', '2009 Formula One World Championship')]\n",
                        "[('driverName', 'Fernando Alonso'), ('object', 'http://www.wikidata.org/entity/Q69934'), ('objectName', '2010 Formula One World Championship')]\n",
                        "[('driverName', 'Fernando Alonso'), ('object', 'http://www.wikidata.org/entity/Q14293115'), ('objectName', '2015 Formula One World Championship')]\n",
                        "[('driverName', 'Ayrton Senna'), ('object', 'http://www.wikidata.org/entity/Q69576'), ('objectName', '1984 Formula One season')]\n",
                        "[('driverName', 'Ayrton Senna'), ('object', 'http://www.wikidata.org/entity/Q69696'), ('objectName', '1993 Formula One season')]\n",
                        "[('driverName', 'Fernando Alonso'), ('object', 'http://www.wikidata.org/entity/Q69959'), ('objectName', '2012 Formula One World Championship')]\n",
                        "[('driverName', 'Fernando Alonso'), ('object', 'http://www.wikidata.org/entity/Q69356'), ('objectName', '2013 Formula One World Championship')]\n",
                        "[('driverName', 'Fernando Alonso'), ('object', 'http://www.wikidata.org/entity/Q69969'), ('objectName', '2014 Formula One World Championship')]\n",
                        "[('driverName', 'Fernando Alonso'), ('object', 'http://www.wikidata.org/entity/Q20755615'), ('objectName', '2017 Formula One World Championship')]\n",
                        "[('driverName', 'Alexander Albon'), ('object', 'http://www.wikidata.org/entity/Q41173535'), ('objectName', '2019 Formula One World Championship')]\n",
                        "[('driverName', 'Fernando Alonso'), ('object', 'http://www.wikidata.org/entity/Q23051084'), ('objectName', '2018 Formula One World Championship')]\n"
                    ]
                },
                {
                    "data": {
                        "text/plain": [
                            "45"
                        ]
                    },
                    "execution_count": 80,
                    "metadata": {},
                    "output_type": "execute_result"
                }
            ],
            "source": [
                "#let's filter by name\n",
                "participantIn = 'wdt:P1344'\n",
                "q = f\"\"\"\n",
                "select ?driverName ?object ?objectName where{{\n",
                "?driver wdt:P106 wd:Q10841764 ;\n",
                "    wdt:P1344 ?object ;\n",
                "    <http://schema.org/name> ?driverName .\n",
                "?object <http://schema.org/name> ?objectName .\n",
                "filter regex(?objectName, '.*formula one.*', 'i')\n",
                "}}\n",
                "limit 50\n",
                "\"\"\"\n",
                "run_query(q)"
            ]
        },
        {
            "cell_type": "code",
            "execution_count": 81,
            "id": "7cdc6d6e-73cd-48c4-b634-3d6d18bed256",
            "metadata": {},
            "outputs": [
                {
                    "name": "stdout",
                    "output_type": "stream",
                    "text": [
                        "Empty\n"
                    ]
                },
                {
                    "data": {
                        "text/plain": [
                            "0"
                        ]
                    },
                    "execution_count": 81,
                    "metadata": {},
                    "output_type": "execute_result"
                }
            ],
            "source": [
                "#this is getting difficult, not all pilots are guaranteed to have the \"participant in\" relationship\n",
                "#furthermore those that have it are only a few, and they participate in only a few championships\n",
                "\n",
                "#the only way left to get the grand prixes and championship to which a driver took part seems to be the relationship\n",
                "#\"general classification of race participants\" exiting from a grand prix/championship\n",
                "\n",
                "#let's try and get all championships to which Vettel took part of\n",
                "#furthermore to be sure to get only formula one championships, we have to filter by name of the championship\n",
                "#since a championship seems to only be instance of \"sport season\"\n",
                "#i know for certain however that many drivers don't race only in formula 1\n",
                "q = f\"\"\"\n",
                "select distinct ?cName where{{\n",
                "?champ wdt:P2321 wd:Q42311 .\n",
                "?champ <http://schema.org/name> ?cName .\n",
                "filter regex (?cName, '.*formula one.*champ.*', 'i')\n",
                "}}\n",
                "order by asc(?cName)\n",
                "\"\"\"\n",
                "run_query(q)"
            ]
        },
        {
            "cell_type": "code",
            "execution_count": 82,
            "id": "38c94ded-61d9-43e1-9492-b2d773b8a5d6",
            "metadata": {},
            "outputs": [
                {
                    "name": "stdout",
                    "output_type": "stream",
                    "text": [
                        "[('cName', '1896 Paris \u2013 Roubaix')]\n",
                        "[('cName', '1903 Tour de France, stage 2')]\n",
                        "[('cName', '1904 Tour de France')]\n",
                        "[('cName', '1905 Tour de France')]\n",
                        "[('cName', '1906 Tour de France')]\n",
                        "[('cName', '1907 Tour de France')]\n",
                        "[('cName', \"1909 Giro d'Italia\")]\n",
                        "[('cName', '1911 Tour de France')]\n",
                        "[('cName', '1913 Paris\u2013Bourges')]\n",
                        "[('cName', '1913 Tour of Flanders')]\n"
                    ]
                },
                {
                    "data": {
                        "text/plain": [
                            "10"
                        ]
                    },
                    "execution_count": 82,
                    "metadata": {},
                    "output_type": "execute_result"
                }
            ],
            "source": [
                "#let's try again to use classification more generally\n",
                "q = f\"\"\"\n",
                "select distinct ?cName where{{\n",
                "?champ wdt:P2321 ?driver .\n",
                "?champ <http://schema.org/name> ?cName .\n",
                "}}\n",
                "order by asc(?cName)\n",
                "limit 10\n",
                "\"\"\"\n",
                "run_query(q)"
            ]
        },
        {
            "cell_type": "code",
            "execution_count": 83,
            "id": "c5bed898-5ff7-4400-a7b2-62c64f582448",
            "metadata": {},
            "outputs": [
                {
                    "name": "stdout",
                    "output_type": "stream",
                    "text": [
                        "[('cName', '1896 Paris \u2013 Roubaix'), ('driverName', 'Maurice Garin')]\n",
                        "[('cName', '1896 Paris \u2013 Roubaix'), ('driverName', 'Josef Fischer')]\n",
                        "[('cName', '1896 Paris \u2013 Roubaix'), ('driverName', 'Charles Meyer')]\n",
                        "[('cName', '1903 Tour de France, stage 2'), ('driverName', 'Maurice Garin')]\n",
                        "[('cName', '1903 Tour de France, stage 2'), ('driverName', 'Marcel Kerff')]\n",
                        "[('cName', '1903 Tour de France, stage 2'), ('driverName', 'L\u00e9on Georget')]\n",
                        "[('cName', '1903 Tour de France, stage 2'), ('driverName', 'Fernand Augereau')]\n",
                        "[('cName', '1904 Tour de France'), ('driverName', 'Gustave Drioul')]\n",
                        "[('cName', '1904 Tour de France'), ('driverName', 'Henri Cornet')]\n",
                        "[('cName', '1904 Tour de France'), ('driverName', 'Alo\u00efs Catteau')]\n",
                        "[('cName', '1904 Tour de France'), ('driverName', 'Jean-Baptiste Dortignacq')]\n",
                        "[('cName', '1904 Tour de France'), ('driverName', 'Julien Maitron')]\n",
                        "[('cName', '1904 Tour de France'), ('driverName', 'Achille Colas')]\n",
                        "[('cName', '1904 Tour de France'), ('driverName', 'Louis Coolset')]\n",
                        "[('cName', '1904 Tour de France'), ('driverName', 'Jean Dargassies')]\n",
                        "[('cName', '1904 Tour de France'), ('driverName', 'Auguste Daumain')]\n",
                        "[('cName', '1904 Tour de France'), ('driverName', 'Ren\u00e9 Saget')]\n",
                        "[('cName', '1905 Tour de France'), ('driverName', 'Julien Gabory')]\n",
                        "[('cName', '1905 Tour de France'), ('driverName', 'Paul Chauvet')]\n",
                        "[('cName', '1905 Tour de France'), ('driverName', 'Philippe Pautrat')]\n"
                    ]
                },
                {
                    "data": {
                        "text/plain": [
                            "20"
                        ]
                    },
                    "execution_count": 83,
                    "metadata": {},
                    "output_type": "execute_result"
                }
            ],
            "source": [
                "q = f\"\"\"\n",
                "select distinct ?cName ?driverName where{{\n",
                "?champ wdt:P2321 ?driver .\n",
                "?champ <http://schema.org/name> ?cName .\n",
                "?driver <http://schema.org/name> ?driverName\n",
                "}}\n",
                "order by asc(?cName)\n",
                "limit 20\n",
                "\"\"\"\n",
                "run_query(q)"
            ]
        },
        {
            "cell_type": "code",
            "execution_count": 84,
            "id": "2504015d-b076-45cf-8aca-70b5d6c7b367",
            "metadata": {},
            "outputs": [
                {
                    "name": "stdout",
                    "output_type": "stream",
                    "text": [
                        "[('cName', '1950 British Grand Prix'), ('driverName', 'Reg Parnell')]\n",
                        "[('cName', '2005 Bahrain GP2 Series round'), ('driverName', 'Nico Rosberg')]\n",
                        "[('cName', '2016 Belgian Grand Prix'), ('driverName', 'Carlos Sainz Jr')]\n",
                        "[('cName', '2016 Belgian Grand Prix'), ('driverName', 'Sebastian Vettel')]\n",
                        "[('cName', '2016 Belgian Grand Prix'), ('driverName', 'Kimi R\u00e4ikk\u00f6nen')]\n",
                        "[('cName', '2016 Belgian Grand Prix'), ('driverName', 'Nico Rosberg')]\n",
                        "[('cName', '2016 Belgian Grand Prix'), ('driverName', 'Lewis Hamilton')]\n",
                        "[('cName', '2016 Belgian Grand Prix'), ('driverName', 'Fernando Alonso')]\n",
                        "[('cName', '2016 Belgian Grand Prix'), ('driverName', 'Valtteri Bottas')]\n",
                        "[('cName', '2016 Belgian Grand Prix'), ('driverName', 'Romain Grosjean')]\n",
                        "[('cName', '2016 Belgian Grand Prix'), ('driverName', 'Max Verstappen')]\n",
                        "[('cName', '2016 Belgian Grand Prix'), ('driverName', 'Esteban Guti\u00e9rrez')]\n",
                        "[('cName', '2016 Belgian Grand Prix'), ('driverName', 'Pascal Wehrlein')]\n",
                        "[('cName', '2016 Belgian Grand Prix'), ('driverName', 'Jolyon Palmer')]\n",
                        "[('cName', '2016 Canadian Grand Prix'), ('driverName', 'Carlos Sainz Jr')]\n",
                        "[('cName', '2016 Canadian Grand Prix'), ('driverName', 'Sebastian Vettel')]\n",
                        "[('cName', '2016 Canadian Grand Prix'), ('driverName', 'Kimi R\u00e4ikk\u00f6nen')]\n",
                        "[('cName', '2016 Canadian Grand Prix'), ('driverName', 'Nico Rosberg')]\n",
                        "[('cName', '2016 Canadian Grand Prix'), ('driverName', 'Lewis Hamilton')]\n",
                        "[('cName', '2016 Canadian Grand Prix'), ('driverName', 'Fernando Alonso')]\n"
                    ]
                },
                {
                    "data": {
                        "text/plain": [
                            "20"
                        ]
                    },
                    "execution_count": 84,
                    "metadata": {},
                    "output_type": "execute_result"
                }
            ],
            "source": [
                "#let's try adding the constraint \"driver is formula 1 pilot\"\n",
                "q = f\"\"\"\n",
                "select distinct ?cName ?driverName where{{\n",
                "?champ wdt:P2321 ?driver .\n",
                "?champ <http://schema.org/name> ?cName .\n",
                "?driver <http://schema.org/name> ?driverName .\n",
                "?driver wdt:P106 wd:Q10841764 .\n",
                "}}\n",
                "order by asc(?cName)\n",
                "limit 20\n",
                "\"\"\"\n",
                "run_query(q)"
            ]
        },
        {
            "cell_type": "code",
            "execution_count": 85,
            "id": "2d6d61a6-31ae-4b4f-b6f2-c83adf41465c",
            "metadata": {},
            "outputs": [
                {
                    "name": "stdout",
                    "output_type": "stream",
                    "text": [
                        "[('cName', '2016 Belgian Grand Prix'), ('driverName', 'Sebastian Vettel')]\n",
                        "[('cName', '2016 Canadian Grand Prix'), ('driverName', 'Sebastian Vettel')]\n",
                        "[('cName', '2016 Italian Grand Prix'), ('driverName', 'Sebastian Vettel')]\n",
                        "[('cName', '2019 Belgian Grand Prix'), ('driverName', 'Sebastian Vettel')]\n",
                        "[('cName', '2020 Belgian Grand Prix'), ('driverName', 'Sebastian Vettel')]\n",
                        "[('cName', '2020 British Grand Prix'), ('driverName', 'Sebastian Vettel')]\n",
                        "[('cName', '2020 Hungarian Grand Prix'), ('driverName', 'Sebastian Vettel')]\n",
                        "[('cName', '2020 Italian Grand Prix'), ('driverName', 'Sebastian Vettel')]\n",
                        "[('cName', '2020 Spanish Grand Prix'), ('driverName', 'Sebastian Vettel')]\n",
                        "[('cName', '2020 Styrian Grand Prix'), ('driverName', 'Sebastian Vettel')]\n",
                        "[('cName', '2020 Tuscan Grand Prix'), ('driverName', 'Sebastian Vettel')]\n",
                        "[('cName', '70th Anniversary Grand Prix'), ('driverName', 'Sebastian Vettel')]\n"
                    ]
                },
                {
                    "data": {
                        "text/plain": [
                            "12"
                        ]
                    },
                    "execution_count": 85,
                    "metadata": {},
                    "output_type": "execute_result"
                }
            ],
            "source": [
                "#let's try and filter out vettel using its name, not the uri\n",
                "q = f\"\"\"\n",
                "select distinct ?cName ?driverName where{{\n",
                "?champ wdt:P2321 ?driver .\n",
                "?champ <http://schema.org/name> ?cName .\n",
                "?driver <http://schema.org/name> ?driverName .\n",
                "?driver wdt:P106 wd:Q10841764 .\n",
                "filter regex(?driverName, 'sebastian vettel', 'i') .\n",
                "}}\n",
                "order by asc(?cName)\n",
                "limit 20\n",
                "\"\"\"\n",
                "run_query(q)"
            ]
        },
        {
            "cell_type": "code",
            "execution_count": null,
            "id": "00747358-f943-4b58-beb1-4ba271526254",
            "metadata": {},
            "outputs": [],
            "source": [
                "#we have some results, vettel however participated in way more gps...\n",
                "#earlier we didn't get results because we were filtering with \"formula one championship\"\n",
                "#here indeed we have no championships, only gps\n",
                "q = f\"\"\"\n",
                "select distinct ?cName ?driverName where{{\n",
                "?champ wdt:P2321 ?driver .\n",
                "?champ <http://schema.org/name> ?cName .\n",
                "?driver <http://schema.org/name> ?driverName .\n",
                "?driver wdt:P106 wd:Q10841764 .\n",
                "filter regex(?driverName, 'sebastian vettel', 'i') .\n",
                "}}\n",
                "order by asc(?cName)\n",
                "limit 20\n",
                "\"\"\"\n",
                "run_query(q)"
            ]
        },
        {
            "cell_type": "code",
            "execution_count": 87,
            "id": "ab933d2e-ebc0-4779-b52a-d4811ce5fcc8",
            "metadata": {},
            "outputs": [
                {
                    "name": "stdout",
                    "output_type": "stream",
                    "text": [
                        "Empty\n"
                    ]
                },
                {
                    "data": {
                        "text/plain": [
                            "0"
                        ]
                    },
                    "execution_count": 87,
                    "metadata": {},
                    "output_type": "execute_result"
                }
            ],
            "source": [
                "#what happens if we check the classification for a championship then?\n",
                "q = f\"\"\"\n",
                "select distinct ?object, ?name where{{\n",
                "wd:Q20755615 wdt:P2321 ?object .\n",
                "?object <http://schema.org/name> ?name\n",
                "}}\n",
                "\"\"\"\n",
                "run_query(q)"
            ]
        },
        {
            "cell_type": "code",
            "execution_count": 88,
            "id": "25c0fb97-91ae-4b90-9711-94283eb84325",
            "metadata": {},
            "outputs": [
                {
                    "name": "stdout",
                    "output_type": "stream",
                    "text": [
                        "[('p', 'http://www.wikidata.org/prop/direct/P1132'), ('name', 'number of participants')]\n",
                        "[('p', 'http://www.wikidata.org/prop/direct/P1923'), ('name', 'participating team')]\n"
                    ]
                },
                {
                    "data": {
                        "text/plain": [
                            "2"
                        ]
                    },
                    "execution_count": 88,
                    "metadata": {},
                    "output_type": "execute_result"
                }
            ],
            "source": [
                "#actually, after double checking, we never made sure that \"classification\" is a property exiting a championship\n",
                "q = f\"\"\"\n",
                "select distinct ?p ?name where{{\n",
                "wd:Q20755615 ?p ?o .\n",
                "?p <http://schema.org/name> ?name .\n",
                "filter regex(?name, 'particip.*', 'i') .\n",
                "}}\n",
                "\"\"\"\n",
                "run_query(q)"
            ]
        },
        {
            "cell_type": "code",
            "execution_count": 91,
            "id": "40478cc3-66f3-42b4-bcf6-f5767a0ed69e",
            "metadata": {},
            "outputs": [
                {
                    "name": "stdout",
                    "output_type": "stream",
                    "text": [
                        "Empty\n"
                    ]
                },
                {
                    "data": {
                        "text/plain": [
                            "0"
                        ]
                    },
                    "execution_count": 91,
                    "metadata": {},
                    "output_type": "execute_result"
                }
            ],
            "source": [
                "#only a team participates a championship\n",
                "#so let's find all f1 gps to which Schumacher participated in\n",
                "q = f\"\"\"\n",
                "select distinct ?gpName ?cName where{{\n",
                "?gp wdt:P2321 wd:Q9671 .\n",
                "?gp <http://schema.org/name> ?gpName .\n",
                "?gp wdt:P361 ?championship .\n",
                "?championship <http://schema.org/name> ?cName .\n",
                "filter regex(?cName, '.*formula one champ.*', 'i') .\n",
                "}}\n",
                "\"\"\"\n",
                "run_query(q)"
            ]
        },
        {
            "cell_type": "code",
            "execution_count": 92,
            "id": "62db1bd1-7501-480b-9cb7-74130f101644",
            "metadata": {},
            "outputs": [
                {
                    "name": "stdout",
                    "output_type": "stream",
                    "text": [
                        "Empty\n"
                    ]
                },
                {
                    "data": {
                        "text/plain": [
                            "0"
                        ]
                    },
                    "execution_count": 92,
                    "metadata": {},
                    "output_type": "execute_result"
                }
            ],
            "source": [
                "#let's simplify\n",
                "q = f\"\"\"\n",
                "select distinct ?gpName ?cName where{{\n",
                "?gp wdt:P2321 wd:Q9671 .\n",
                "?gp <http://schema.org/name> ?gpName .\n",
                "?gp wdt:P361 ?championship .\n",
                "?championship <http://schema.org/name> ?cName .\n",
                "}}\n",
                "\"\"\"\n",
                "run_query(q)"
            ]
        },
        {
            "cell_type": "code",
            "execution_count": 94,
            "id": "fedd8395-b763-4097-afc8-ae8d527dcb99",
            "metadata": {},
            "outputs": [
                {
                    "name": "stdout",
                    "output_type": "stream",
                    "text": [
                        "Empty\n"
                    ]
                },
                {
                    "data": {
                        "text/plain": [
                            "0"
                        ]
                    },
                    "execution_count": 94,
                    "metadata": {},
                    "output_type": "execute_result"
                }
            ],
            "source": [
                "#let's simplify\n",
                "q = f\"\"\"\n",
                "select distinct ?gpName where{{\n",
                "?gp wdt:P2321 wd:Q9671 .\n",
                "?gp <http://schema.org/name> ?gpName .\n",
                "\n",
                "}}\n",
                "\"\"\"\n",
                "run_query(q)"
            ]
        },
        {
            "cell_type": "code",
            "execution_count": 95,
            "id": "a4ee4468-c2cb-434c-8ab3-2798a45a5292",
            "metadata": {},
            "outputs": [
                {
                    "name": "stdout",
                    "output_type": "stream",
                    "text": [
                        "Empty\n"
                    ]
                },
                {
                    "data": {
                        "text/plain": [
                            "0"
                        ]
                    },
                    "execution_count": 95,
                    "metadata": {},
                    "output_type": "execute_result"
                }
            ],
            "source": [
                "#let's filter by name\n",
                "q = f\"\"\"\n",
                "select distinct ?gpName ?cName where{{\n",
                "?gp wdt:P2321 ?driver .\n",
                "?gp <http://schema.org/name> ?gpName .\n",
                "?driver <http://schema.org/name> ?driverName .\n",
                "filter regex(?driverName, 'michael schumacher' ,'i') .\n",
                "\n",
                "}}\n",
                "\"\"\"\n",
                "run_query(q)"
            ]
        },
        {
            "cell_type": "code",
            "execution_count": 97,
            "id": "4219172d-5ba6-458f-8d97-3873fce862c2",
            "metadata": {},
            "outputs": [
                {
                    "name": "stdout",
                    "output_type": "stream",
                    "text": [
                        "[('gpName', '2014 Omloop Het Nieuwsblad'), ('driverName', 'Egoitz Garc\u00eda')]\n",
                        "[('gpName', '1977 Tour de Suisse'), ('driverName', 'Ueli Sutter')]\n",
                        "[('gpName', '1978 Tour de Suisse'), ('driverName', 'Ueli Sutter')]\n",
                        "[('gpName', '2013 Arctic Race of Norway'), ('driverName', 'Maxime Vantomme')]\n",
                        "[('gpName', '2013 Peace Race U23'), ('driverName', 'Kristian Haugaard')]\n",
                        "[('gpName', '2013 Paris\u2013Bourges'), ('driverName', 'Rudy Barbier')]\n",
                        "[('gpName', '2016 Gooikse Pijl'), ('driverName', 'Rudy Barbier')]\n",
                        "[('gpName', '2017 Kampioenschap van Vlaanderen'), ('driverName', 'Rudy Barbier')]\n",
                        "[('gpName', '2016 Grand Prix de Fourmies'), ('driverName', 'Rudy Barbier')]\n",
                        "[('gpName', '2016 Paris-Tours'), ('driverName', 'Rudy Barbier')]\n",
                        "[('gpName', \"2016 Tour de l'Ain, Stage 1\"), ('driverName', 'Rudy Barbier')]\n",
                        "[('gpName', '2017 EuroEyes Cyclassics'), ('driverName', 'Rudy Barbier')]\n",
                        "[('gpName', '1977 Tour de Suisse'), ('driverName', 'Juan Pujol')]\n",
                        "[('gpName', '2013 Paris\u2013Bourges'), ('driverName', 'Thomas Damuseau')]\n",
                        "[('gpName', '1977 Tour de Suisse'), ('driverName', 'Marcello Bergamo')]\n",
                        "[('gpName', '1977 Tour de Suisse'), ('driverName', 'Johan De Muynck')]\n",
                        "[('gpName', '1980 Omloop Het Volk'), ('driverName', 'Johan De Muynck')]\n",
                        "[('gpName', '2016 Tour Down Under, Stage 3'), ('driverName', 'Ruben Fernandez Andujar')]\n",
                        "[('gpName', '2016 Tour Down Under, Stage 4'), ('driverName', 'Ruben Fernandez Andujar')]\n",
                        "[('gpName', '2016 Tour Down Under, Stage 5'), ('driverName', 'Ruben Fernandez Andujar')]\n",
                        "[('gpName', '1976 Tour de Suisse'), ('driverName', 'Bert Pronk')]\n",
                        "[('gpName', '1977 Tour de Suisse'), ('driverName', 'Bert Pronk')]\n",
                        "[('gpName', '2014 Trofeo Alfredo Binda-Comune di Cittiglio'), ('driverName', 'Megan Guarnier')]\n",
                        "[('gpName', '2014 Tour of Chongming Island World Cup'), ('driverName', 'Cecilie Gotaas Johnsen')]\n",
                        "[('gpName', \"2017 European Road Championships \u2013 Women's elite road race\"), ('driverName', 'Maria Giulia Confalonieri')]\n",
                        "[('gpName', '2013 Tour of Chongming Island World Cup'), ('driverName', 'Kim de Baat')]\n",
                        "[('gpName', '2014 Omloop Het Nieuwsblad Beloften'), ('driverName', 'Dylan Teuns')]\n",
                        "[('gpName', '2016 Kampioenschap van Vlaanderen'), ('driverName', 'Amaury Capiot')]\n",
                        "[('gpName', '2016 Grand Prix de Fourmies'), ('driverName', 'Amaury Capiot')]\n",
                        "[('gpName', '2010 Omloop Het Nieuwsblad Beloften'), ('driverName', 'Klaas Sys')]\n",
                        "[('gpName', '2014 Vuelta a Colombia'), ('driverName', 'Alexis Camacho')]\n",
                        "[('gpName', '2014 Vuelta a Colombia'), ('driverName', 'Mauricio Ortega')]\n",
                        "[('gpName', '2014 Vuelta a Colombia'), ('driverName', 'Danny Osorio')]\n",
                        "[('gpName', '2015 Peace Race U23, Stage 1'), ('driverName', 'Germ\u00e1n Chaves')]\n",
                        "[('gpName', '2017 Vuelta a Colombia'), ('driverName', 'Miguel \u00c1ngel Reyes')]\n",
                        "[('gpName', '2014 Vuelta a Colombia'), ('driverName', 'Freddy Monta\u00f1a')]\n",
                        "[('gpName', '2014 Vuelta a Colombia'), ('driverName', 'Juan Pablo Su\u00e1rez')]\n",
                        "[('gpName', '2017 Vuelta a Colombia'), ('driverName', 'Juan Pablo Su\u00e1rez')]\n",
                        "[('gpName', '2018 Grand Prix de Plumelec-Morbihan'), ('driverName', 'Andrea Pasqualon')]\n",
                        "[('gpName', '2016 Triptyque des Monts et Ch\u00e2teaux'), ('driverName', 'Tim De Troyer')]\n",
                        "[('gpName', '2011 Tro-Bro Leon'), ('driverName', 'Will Routley')]\n",
                        "[('gpName', '2015 Kampioenschap van Vlaanderen'), ('driverName', 'Edward Theuns')]\n",
                        "[('gpName', '2016 Scheldeprijs'), ('driverName', 'Edward Theuns')]\n",
                        "[('gpName', '2015 Peace Race U23'), ('driverName', 'Lennard K\u00e4mna')]\n",
                        "[('gpName', '2015 Peace Race U23, Stage 2'), ('driverName', 'Lennard K\u00e4mna')]\n",
                        "[('gpName', \"Men's Under-23 Time Trial at the 2017 World Road Cycling Championships\"), ('driverName', 'Corentin Ermenault')]\n",
                        "[('gpName', \"2019 UCI Road World Championships \u2013 men's under-23 road race\"), ('driverName', 'Tobias Foss')]\n",
                        "[('gpName', '2013 Ronde van Zeeland Seaports'), ('driverName', 'Maxime Le Montagner')]\n",
                        "[('gpName', '2006 Tro-Bro Leon'), ('driverName', 'St\u00e9phane Bonsergent')]\n",
                        "[('gpName', '2007 Tro-Bro Leon'), ('driverName', 'St\u00e9phane Bonsergent')]\n"
                    ]
                },
                {
                    "data": {
                        "text/plain": [
                            "50"
                        ]
                    },
                    "execution_count": 97,
                    "metadata": {},
                    "output_type": "execute_result"
                }
            ],
            "source": [
                "#remove the filter\n",
                "q = f\"\"\"\n",
                "select distinct ?gpName ?driverName where{{\n",
                "?gp wdt:P2321 ?driver .\n",
                "?gp <http://schema.org/name> ?gpName .\n",
                "?driver <http://schema.org/name> ?driverName .\n",
                "}}\n",
                "limit 50\n",
                "\"\"\"\n",
                "run_query(q)"
            ]
        },
        {
            "cell_type": "code",
            "execution_count": 98,
            "id": "b12bf970-8dd5-4fef-9c1e-64e1be87e511",
            "metadata": {},
            "outputs": [
                {
                    "name": "stdout",
                    "output_type": "stream",
                    "text": [
                        "[('gpName', '2016 Belgian Grand Prix'), ('driverName', 'Felipe Nasr'), ('cName', '2016 Formula One World Championship')]\n",
                        "[('gpName', '2016 Canadian Grand Prix'), ('driverName', 'Felipe Nasr'), ('cName', '2016 Formula One World Championship')]\n",
                        "[('gpName', '2016 Italian Grand Prix'), ('driverName', 'Felipe Nasr'), ('cName', '2016 Formula One World Championship')]\n",
                        "[('gpName', '1950 British Grand Prix'), ('driverName', 'Reg Parnell'), ('cName', '1950 Formula One season')]\n",
                        "[('gpName', '2016 Belgian Grand Prix'), ('driverName', 'Carlos Sainz Jr'), ('cName', '2016 Formula One World Championship')]\n",
                        "[('gpName', '2016 Canadian Grand Prix'), ('driverName', 'Carlos Sainz Jr'), ('cName', '2016 Formula One World Championship')]\n",
                        "[('gpName', '2016 Italian Grand Prix'), ('driverName', 'Carlos Sainz Jr'), ('cName', '2016 Formula One World Championship')]\n",
                        "[('gpName', '2020 Spanish Grand Prix'), ('driverName', 'Carlos Sainz Jr'), ('cName', '2020 FIA Formula One World Championship')]\n",
                        "[('gpName', '2020 British Grand Prix'), ('driverName', 'Carlos Sainz Jr'), ('cName', '2020 FIA Formula One World Championship')]\n",
                        "[('gpName', '2020 Hungarian Grand Prix'), ('driverName', 'Carlos Sainz Jr'), ('cName', '2020 FIA Formula One World Championship')]\n",
                        "[('gpName', '2020 Belgian Grand Prix'), ('driverName', 'Carlos Sainz Jr'), ('cName', '2020 FIA Formula One World Championship')]\n",
                        "[('gpName', '2020 Italian Grand Prix'), ('driverName', 'Carlos Sainz Jr'), ('cName', '2020 FIA Formula One World Championship')]\n",
                        "[('gpName', '2020 Styrian Grand Prix'), ('driverName', 'Carlos Sainz Jr'), ('cName', '2020 FIA Formula One World Championship')]\n",
                        "[('gpName', '70th Anniversary Grand Prix'), ('driverName', 'Carlos Sainz Jr'), ('cName', '2020 FIA Formula One World Championship')]\n",
                        "[('gpName', '2020 Tuscan Grand Prix'), ('driverName', 'Carlos Sainz Jr'), ('cName', '2020 FIA Formula One World Championship')]\n",
                        "[('gpName', '2019 Belgian Grand Prix'), ('driverName', 'Carlos Sainz Jr'), ('cName', '2019 Formula One World Championship')]\n",
                        "[('gpName', '1950 British Grand Prix'), ('driverName', 'Louis Rosier'), ('cName', '1950 Formula One season')]\n",
                        "[('gpName', '1950 British Grand Prix'), ('driverName', 'Giuseppe Farina'), ('cName', '1950 Formula One season')]\n",
                        "[('gpName', '2016 Belgian Grand Prix'), ('driverName', 'Daniel Ricciardo'), ('cName', '2016 Formula One World Championship')]\n",
                        "[('gpName', '2016 Canadian Grand Prix'), ('driverName', 'Daniel Ricciardo'), ('cName', '2016 Formula One World Championship')]\n",
                        "[('gpName', '2016 Italian Grand Prix'), ('driverName', 'Daniel Ricciardo'), ('cName', '2016 Formula One World Championship')]\n",
                        "[('gpName', '2020 Spanish Grand Prix'), ('driverName', 'Daniel Ricciardo'), ('cName', '2020 FIA Formula One World Championship')]\n",
                        "[('gpName', '2020 British Grand Prix'), ('driverName', 'Daniel Ricciardo'), ('cName', '2020 FIA Formula One World Championship')]\n",
                        "[('gpName', '2020 Hungarian Grand Prix'), ('driverName', 'Daniel Ricciardo'), ('cName', '2020 FIA Formula One World Championship')]\n",
                        "[('gpName', '2020 Belgian Grand Prix'), ('driverName', 'Daniel Ricciardo'), ('cName', '2020 FIA Formula One World Championship')]\n",
                        "[('gpName', '2020 Italian Grand Prix'), ('driverName', 'Daniel Ricciardo'), ('cName', '2020 FIA Formula One World Championship')]\n",
                        "[('gpName', '2020 Styrian Grand Prix'), ('driverName', 'Daniel Ricciardo'), ('cName', '2020 FIA Formula One World Championship')]\n",
                        "[('gpName', '70th Anniversary Grand Prix'), ('driverName', 'Daniel Ricciardo'), ('cName', '2020 FIA Formula One World Championship')]\n",
                        "[('gpName', '2020 Tuscan Grand Prix'), ('driverName', 'Daniel Ricciardo'), ('cName', '2020 FIA Formula One World Championship')]\n",
                        "[('gpName', '2019 Belgian Grand Prix'), ('driverName', 'Daniel Ricciardo'), ('cName', '2019 Formula One World Championship')]\n",
                        "[('gpName', '2016 Belgian Grand Prix'), ('driverName', 'Nico H\u00fclkenberg'), ('cName', '2016 Formula One World Championship')]\n",
                        "[('gpName', '2016 Canadian Grand Prix'), ('driverName', 'Nico H\u00fclkenberg'), ('cName', '2016 Formula One World Championship')]\n",
                        "[('gpName', '2016 Italian Grand Prix'), ('driverName', 'Nico H\u00fclkenberg'), ('cName', '2016 Formula One World Championship')]\n",
                        "[('gpName', '2020 British Grand Prix'), ('driverName', 'Nico H\u00fclkenberg'), ('cName', '2020 FIA Formula One World Championship')]\n",
                        "[('gpName', '70th Anniversary Grand Prix'), ('driverName', 'Nico H\u00fclkenberg'), ('cName', '2020 FIA Formula One World Championship')]\n",
                        "[('gpName', '2019 Belgian Grand Prix'), ('driverName', 'Nico H\u00fclkenberg'), ('cName', '2019 Formula One World Championship')]\n",
                        "[('gpName', '2016 Belgian Grand Prix'), ('driverName', 'Esteban Ocon'), ('cName', '2016 Formula One World Championship')]\n",
                        "[('gpName', '2016 Belgian Grand Prix'), ('driverName', 'Sebastian Vettel'), ('cName', '2016 Formula One World Championship')]\n",
                        "[('gpName', '2016 Belgian Grand Prix'), ('driverName', 'Jenson Button'), ('cName', '2016 Formula One World Championship')]\n",
                        "[('gpName', '2016 Belgian Grand Prix'), ('driverName', 'Kimi R\u00e4ikk\u00f6nen'), ('cName', '2016 Formula One World Championship')]\n",
                        "[('gpName', '2016 Belgian Grand Prix'), ('driverName', 'Nico Rosberg'), ('cName', '2016 Formula One World Championship')]\n",
                        "[('gpName', '2016 Belgian Grand Prix'), ('driverName', 'Felipe Massa'), ('cName', '2016 Formula One World Championship')]\n",
                        "[('gpName', '2016 Belgian Grand Prix'), ('driverName', 'Lewis Hamilton'), ('cName', '2016 Formula One World Championship')]\n",
                        "[('gpName', '2016 Canadian Grand Prix'), ('driverName', 'Sebastian Vettel'), ('cName', '2016 Formula One World Championship')]\n",
                        "[('gpName', '2016 Canadian Grand Prix'), ('driverName', 'Jenson Button'), ('cName', '2016 Formula One World Championship')]\n",
                        "[('gpName', '2016 Canadian Grand Prix'), ('driverName', 'Kimi R\u00e4ikk\u00f6nen'), ('cName', '2016 Formula One World Championship')]\n",
                        "[('gpName', '2016 Canadian Grand Prix'), ('driverName', 'Nico Rosberg'), ('cName', '2016 Formula One World Championship')]\n",
                        "[('gpName', '2016 Canadian Grand Prix'), ('driverName', 'Felipe Massa'), ('cName', '2016 Formula One World Championship')]\n",
                        "[('gpName', '2016 Canadian Grand Prix'), ('driverName', 'Lewis Hamilton'), ('cName', '2016 Formula One World Championship')]\n",
                        "[('gpName', '2016 Italian Grand Prix'), ('driverName', 'Esteban Ocon'), ('cName', '2016 Formula One World Championship')]\n"
                    ]
                },
                {
                    "data": {
                        "text/plain": [
                            "50"
                        ]
                    },
                    "execution_count": 98,
                    "metadata": {},
                    "output_type": "execute_result"
                }
            ],
            "source": [
                "#let's try and connect the gp to a f1 championship\n",
                "q = f\"\"\"\n",
                "select distinct ?gpName ?driverName ?cName where{{\n",
                "?gp wdt:P2321 ?driver .\n",
                "?gp <http://schema.org/name> ?gpName .\n",
                "?driver <http://schema.org/name> ?driverName .\n",
                "?gp wdt:P361 ?championship .\n",
                "?championship <http://schema.org/name> ?cName .\n",
                "filter regex(?cName, '.*formula one.*', 'i') .\n",
                "}}\n",
                "limit 50\n",
                "\"\"\"\n",
                "run_query(q)"
            ]
        },
        {
            "cell_type": "code",
            "execution_count": 99,
            "id": "8a7c4df2-7841-4984-8f8c-ebfeb9e63d6d",
            "metadata": {},
            "outputs": [
                {
                    "name": "stdout",
                    "output_type": "stream",
                    "text": [
                        "Empty\n"
                    ]
                },
                {
                    "data": {
                        "text/plain": [
                            "0"
                        ]
                    },
                    "execution_count": 99,
                    "metadata": {},
                    "output_type": "execute_result"
                }
            ],
            "source": [
                "#let's try for one last time to get schumacher\n",
                "q = f\"\"\"\n",
                "select distinct ?gpName ?driverName ?cName where{{\n",
                "?gp wdt:P2321 ?driver .\n",
                "?gp <http://schema.org/name> ?gpName .\n",
                "?driver <http://schema.org/name> ?driverName .\n",
                "?gp wdt:P361 ?championship .\n",
                "?championship <http://schema.org/name> ?cName .\n",
                "filter regex(?cName, '.*formula one.*', 'i') .\n",
                "filter regex(?driverName, '.*schumacher', 'i') .\n",
                "}}\n",
                "limit 50\n",
                "\"\"\"\n",
                "run_query(q)"
            ]
        },
        {
            "cell_type": "code",
            "execution_count": 106,
            "id": "42ef8863-a526-44bc-82ea-ea033bc15c6a",
            "metadata": {},
            "outputs": [
                {
                    "name": "stdout",
                    "output_type": "stream",
                    "text": [
                        "[('gpName', '1994 Formula One season')]\n",
                        "[('gpName', '1995 Formula One season')]\n",
                        "[('gpName', '2000 Formula One season')]\n",
                        "[('gpName', '2001 Formula One season')]\n",
                        "[('gpName', '2002 Formula One season')]\n",
                        "[('gpName', '2003 Formula One season')]\n",
                        "[('gpName', '2004 Formula One season')]\n"
                    ]
                },
                {
                    "data": {
                        "text/plain": [
                            "7"
                        ]
                    },
                    "execution_count": 106,
                    "metadata": {},
                    "output_type": "execute_result"
                }
            ],
            "source": [
                "#maybe for schumacher the relationship \"participantIn\" exists?\n",
                "q = f\"\"\"\n",
                "select ?gpName where{{\n",
                "wd:Q9671 wdt:P1344 ?gp .\n",
                "?gp <http://schema.org/name> ?gpName .\n",
                "}}\n",
                "\"\"\"\n",
                "run_query(q)"
            ]
        },
        {
            "cell_type": "code",
            "execution_count": 107,
            "id": "9c2f5eb1-01ce-4756-ae10-2a3ba3c47a59",
            "metadata": {},
            "outputs": [
                {
                    "name": "stdout",
                    "output_type": "stream",
                    "text": [
                        "[('teamName', 'McLaren'), ('parentName', 'McLaren Technology Group')]\n",
                        "[('teamName', 'Aston Martin F1 Team'), ('parentName', 'Aston Martin Lagonda')]\n",
                        "[('teamName', 'Scuderia Ferrari'), ('parentName', 'Ferrari')]\n",
                        "[('teamName', 'Enzo Coloni Racing Car Systems'), ('parentName', 'Scuderia Coloni')]\n",
                        "[('teamName', 'Red Bull Racing'), ('parentName', 'Red Bull GmbH')]\n",
                        "[('teamName', 'Alpine F1 Team'), ('parentName', 'Renault')]\n",
                        "[('teamName', 'Williams Grand Prix Engineering'), ('parentName', 'Dorilton Capital')]\n",
                        "[('teamName', 'Scuderia Toro Rosso')]\n",
                        "[('teamName', 'Minardi')]\n",
                        "[('teamName', 'British American Racing')]\n",
                        "[('teamName', 'HRT Formula One Team')]\n",
                        "[('teamName', 'Tyrrell Racing')]\n",
                        "[('teamName', 'Spyker F1')]\n",
                        "[('teamName', 'Forti')]\n",
                        "[('teamName', 'British Racing Motors')]\n",
                        "[('teamName', 'Midland F1 Racing')]\n",
                        "[('teamName', 'March Engineering')]\n",
                        "[('teamName', 'Caterham F1')]\n",
                        "[('teamName', 'Ligier')]\n",
                        "[('teamName', 'Alfa Romeo')]\n",
                        "[('teamName', 'Haas F1 Team')]\n",
                        "[('teamName', 'Honda')]\n",
                        "[('teamName', 'Jaguar Racing')]\n",
                        "[('teamName', 'Benetton Formula')]\n",
                        "[('teamName', 'Jordan Grand Prix')]\n",
                        "[('teamName', 'Mercedes')]\n",
                        "[('teamName', 'Renault F1 Team')]\n",
                        "[('teamName', 'Lola Cars')]\n",
                        "[('teamName', 'Equipe Matra Sports')]\n",
                        "[('teamName', 'Zakspeed')]\n",
                        "[('teamName', 'Force India')]\n",
                        "[('teamName', 'Marussia F1')]\n",
                        "[('teamName', 'Panasonic Toyota Racing')]\n",
                        "[('teamName', 'Onyx Grand Prix')]\n",
                        "[('teamName', 'Sauber')]\n",
                        "[('teamName', 'Aston Martin F1 Team')]\n",
                        "[('teamName', 'Arrows')]\n",
                        "[('teamName', 'Porsche')]\n",
                        "[('teamName', 'Virgin Racing')]\n",
                        "[('teamName', 'Scuderia AlphaTauri Grimm')]\n",
                        "[('teamName', 'Osella')]\n",
                        "[('teamName', 'Racing Point F1 Team')]\n",
                        "[('teamName', 'Andrea Moda Formula')]\n",
                        "[('teamName', 'Alfa Romeo F1 team (2019)')]\n",
                        "[('teamName', 'Bugatti F1')]\n",
                        "[('teamName', 'Prost Grand Prix')]\n",
                        "[('teamName', 'Dallara')]\n",
                        "[('teamName', 'Larrousse')]\n",
                        "[('teamName', 'Lotus F1')]\n",
                        "[('teamName', 'Brabham')]\n",
                        "[('teamName', 'Life Racing Engines')]\n",
                        "[('teamName', 'Simtek')]\n",
                        "[('teamName', 'Boro')]\n",
                        "[('teamName', 'Stewart Grand Prix')]\n",
                        "[('teamName', 'Super Aguri F1')]\n",
                        "[('teamName', 'Modena')]\n",
                        "[('teamName', 'Brawn GP')]\n",
                        "[('teamName', 'Automobiles Gonfaronnaises Sportives')]\n",
                        "[('teamName', 'Alfa Romeo F1 team (1950-51)')]\n",
                        "[('teamName', 'EuroBrun')]\n",
                        "[('teamName', 'Rial Racing')]\n",
                        "[('teamName', 'Leyton House Racing')]\n",
                        "[('teamName', 'Racing Point Force India')]\n",
                        "[('teamName', 'Fondmetal')]\n",
                        "[('teamName', 'First Racing')]\n",
                        "[('teamName', 'Onyx-Moneytron')]\n",
                        "[('teamName', 'Pacific Racing')]\n"
                    ]
                },
                {
                    "data": {
                        "text/plain": [
                            "67"
                        ]
                    },
                    "execution_count": 107,
                    "metadata": {},
                    "output_type": "execute_result"
                }
            ],
            "source": [
                "#point 2 was answered very early in this notebook \n",
                "q = f\"\"\"\n",
                "select distinct ?teamName ?parentName where{{\n",
                "?team wdt:P31 wd:Q10497835 ;\n",
                "    <http://schema.org/name> ?teamName .\n",
                "optional\n",
                "    {{\n",
                "        ?team wdt:P749 ?parent .\n",
                "        ?parent <http://schema.org/name> ?parentName .\n",
                "    }}\n",
                "optional\n",
                "    {{\n",
                "        ?team wdt:P127 ?parent .\n",
                "        ?parent <http://schema.org/name> ?parentName .\n",
                "    }}\n",
                "}}\n",
                "\"\"\"\n",
                "run_query(q)"
            ]
        },
        {
            "cell_type": "code",
            "execution_count": 108,
            "id": "f15f3749-a3c9-469b-b6c8-84b0c00a0391",
            "metadata": {},
            "outputs": [
                {
                    "name": "stdout",
                    "output_type": "stream",
                    "text": [
                        "[('p', 'http://www.wikidata.org/prop/direct/P20'), ('name', 'place of death'), ('oName', 'Ostend')]\n",
                        "[('p', 'http://www.wikidata.org/prop/direct/P20'), ('name', 'place of death'), ('oName', 'Grainau')]\n",
                        "[('p', 'http://www.wikidata.org/prop/direct/P20'), ('name', 'place of death'), ('oName', 'Z\u00fcrich')]\n",
                        "[('p', 'http://www.wikidata.org/prop/direct/P509'), ('name', 'cause of death'), ('oName', 'aviation accident')]\n",
                        "[('p', 'http://www.wikidata.org/prop/direct/P20'), ('name', 'place of death'), ('oName', 'Santa Fe')]\n",
                        "[('p', 'http://www.wikidata.org/prop/direct/P20'), ('name', 'place of death'), ('oName', 'Scanzorosciate')]\n",
                        "[('p', 'http://www.wikidata.org/prop/direct/P20'), ('name', 'place of death'), ('oName', 'Autodromo Enzo e Dino Ferrari')]\n",
                        "[('p', 'http://www.wikidata.org/prop/direct/P20'), ('name', 'place of death'), ('oName', 'Torrance')]\n",
                        "[('p', 'http://www.wikidata.org/prop/direct/P20'), ('name', 'place of death'), ('oName', 'Saint Barth\u00e9lemy')]\n",
                        "[('p', 'http://www.wikidata.org/prop/direct/P20'), ('name', 'place of death'), ('oName', 'Clermont-Ferrand')]\n",
                        "[('p', 'http://www.wikidata.org/prop/direct/P20'), ('name', 'place of death'), ('oName', 'Blandford Forum')]\n",
                        "[('p', 'http://www.wikidata.org/prop/direct/P20'), ('name', 'place of death'), ('oName', 'Langhorne Speedway')]\n",
                        "[('p', 'http://www.wikidata.org/prop/direct/P20'), ('name', 'place of death'), ('oName', 'Melbourne')]\n",
                        "[('p', 'http://www.wikidata.org/prop/direct/P20'), ('name', 'place of death'), ('oName', 'Zandvoort')]\n",
                        "[('p', 'http://www.wikidata.org/prop/direct/P509'), ('name', 'cause of death'), ('oName', 'traumatic brain injury')]\n",
                        "[('p', 'http://www.wikidata.org/prop/direct/P20'), ('name', 'place of death'), ('oName', 'Isle of Wight')]\n",
                        "[('p', 'http://www.wikidata.org/prop/direct/P1196'), ('name', 'manner of death'), ('oName', 'suicide')]\n",
                        "[('p', 'http://www.wikidata.org/prop/direct/P509'), ('name', 'cause of death'), ('oName', 'cancer')]\n",
                        "[('p', 'http://www.wikidata.org/prop/direct/P509'), ('name', 'cause of death'), ('oName', 'myocardial infarction')]\n",
                        "[('p', 'http://www.wikidata.org/prop/direct/P509'), ('name', 'cause of death'), ('oName', 'pneumonia')]\n",
                        "[('p', 'http://www.wikidata.org/prop/direct/P509'), ('name', 'cause of death'), ('oName', 'cerebral hemorrhage')]\n",
                        "[('p', 'http://www.wikidata.org/prop/direct/P20'), ('name', 'place of death'), ('oName', 'New Mexico')]\n",
                        "[('p', 'http://www.wikidata.org/prop/direct/P1196'), ('name', 'manner of death'), ('oName', 'accident')]\n",
                        "[('p', 'http://www.wikidata.org/prop/direct/P20'), ('name', 'place of death'), ('oName', 'Indianapolis Motor Speedway')]\n",
                        "[('p', 'http://www.wikidata.org/prop/direct/P20'), ('name', 'place of death'), ('oName', 'Madrid')]\n",
                        "[('p', 'http://www.wikidata.org/prop/direct/P20'), ('name', 'place of death'), ('oName', 'Ludwigshafen')]\n",
                        "[('p', 'http://www.wikidata.org/prop/direct/P1196'), ('name', 'manner of death'), ('oName', 'natural causes')]\n",
                        "[('p', 'http://www.wikidata.org/prop/direct/P20'), ('name', 'place of death'), ('oName', 'Leiden')]\n",
                        "[('p', 'http://www.wikidata.org/prop/direct/P20'), ('name', 'place of death'), ('oName', 'Milan')]\n",
                        "[('p', 'http://www.wikidata.org/prop/direct/P20'), ('name', 'place of death'), ('oName', 'Ludwigsburg')]\n",
                        "[('p', 'http://www.wikidata.org/prop/direct/P20'), ('name', 'place of death'), ('oName', 'Indianapolis')]\n",
                        "[('p', 'http://www.wikidata.org/prop/direct/P20'), ('name', 'place of death'), ('oName', 'Los Angeles')]\n",
                        "[('p', 'http://www.wikidata.org/prop/direct/P20'), ('name', 'place of death'), ('oName', 'Valencia')]\n",
                        "[('p', 'http://www.wikidata.org/prop/direct/P20'), ('name', 'place of death'), ('oName', 'Pennsylvania')]\n",
                        "[('p', 'http://www.wikidata.org/prop/direct/P20'), ('name', 'place of death'), ('oName', 'Phoenix')]\n",
                        "[('p', 'http://www.wikidata.org/prop/direct/P20'), ('name', 'place of death'), ('oName', 'Derbyshire')]\n",
                        "[('p', 'http://www.wikidata.org/prop/direct/P20'), ('name', 'place of death'), ('oName', 'Newport Beach')]\n",
                        "[('p', 'http://www.wikidata.org/prop/direct/P20'), ('name', 'place of death'), ('oName', 'Derby')]\n",
                        "[('p', 'http://www.wikidata.org/prop/direct/P509'), ('name', 'cause of death'), ('oName', 'respiratory failure')]\n",
                        "[('p', 'http://www.wikidata.org/prop/direct/P20'), ('name', 'place of death'), ('oName', 'Redondo Beach')]\n",
                        "[('p', 'http://www.wikidata.org/prop/direct/P20'), ('name', 'place of death'), ('oName', 'Ospedale Maggiore di Bologna')]\n",
                        "[('p', 'http://www.wikidata.org/prop/direct/P509'), ('name', 'cause of death'), ('oName', 'traffic collision')]\n",
                        "[('p', 'http://www.wikidata.org/prop/direct/P20'), ('name', 'place of death'), ('oName', 'Le Mans')]\n",
                        "[('p', 'http://www.wikidata.org/prop/direct/P509'), ('name', 'cause of death'), ('oName', 'peritonitis')]\n",
                        "[('p', 'http://www.wikidata.org/prop/direct/P509'), ('name', 'cause of death'), ('oName', 'death from AIDS-related complications')]\n",
                        "[('p', 'http://www.wikidata.org/prop/direct/P20'), ('name', 'place of death'), ('oName', 'Etterbeek')]\n",
                        "[('p', 'http://www.wikidata.org/prop/direct/P20'), ('name', 'place of death'), ('oName', 'Wimbledon')]\n",
                        "[('p', 'http://www.wikidata.org/prop/direct/P20'), ('name', 'place of death'), ('oName', \"St George's Hospital\")]\n",
                        "[('p', 'http://www.wikidata.org/prop/direct/P20'), ('name', 'place of death'), ('oName', 'San Mart\u00edn de los Andes')]\n",
                        "[('p', 'http://www.wikidata.org/prop/direct/P20'), ('name', 'place of death'), ('oName', 'Arkley')]\n",
                        "[('p', 'http://www.wikidata.org/prop/direct/P1196'), ('name', 'manner of death'), ('oName', 'Graham Hill plane crash')]\n",
                        "[('p', 'http://www.wikidata.org/prop/direct/P20'), ('name', 'place of death'), ('oName', 'Hockenheimring')]\n",
                        "[('p', 'http://www.wikidata.org/prop/direct/P20'), ('name', 'place of death'), ('oName', 'Brands Hatch')]\n",
                        "[('p', 'http://www.wikidata.org/prop/direct/P509'), ('name', 'cause of death'), ('oName', 'smoke inhalation injury')]\n",
                        "[('p', 'http://www.wikidata.org/prop/direct/P20'), ('name', 'place of death'), ('oName', 'Leuven')]\n",
                        "[('p', 'http://www.wikidata.org/prop/direct/P509'), ('name', 'cause of death'), ('oName', 'disease')]\n",
                        "[('p', 'http://www.wikidata.org/prop/direct/P20'), ('name', 'place of death'), ('oName', 'Gold Coast')]\n",
                        "[('p', 'http://www.wikidata.org/prop/direct/P20'), ('name', 'place of death'), ('oName', 'Buenos Aires')]\n",
                        "[('p', 'http://www.wikidata.org/prop/direct/P20'), ('name', 'place of death'), ('oName', 'Dallas')]\n",
                        "[('p', 'http://www.wikidata.org/prop/direct/P20'), ('name', 'place of death'), ('oName', 'St. Louis')]\n",
                        "[('p', 'http://www.wikidata.org/prop/direct/P509'), ('name', 'cause of death'), ('oName', 'liver failure')]\n",
                        "[('p', 'http://www.wikidata.org/prop/direct/P20'), ('name', 'place of death'), ('oName', 'San Jose')]\n",
                        "[('p', 'http://www.wikidata.org/prop/direct/P20'), ('name', 'place of death'), ('oName', 'Kern County')]\n",
                        "[('p', 'http://www.wikidata.org/prop/direct/P20'), ('name', 'place of death'), ('oName', 'Circuit de Spa-Francorchamps')]\n",
                        "[('p', 'http://www.wikidata.org/prop/direct/P20'), ('name', 'place of death'), ('oName', 'Surrey')]\n",
                        "[('p', 'http://www.wikidata.org/prop/direct/P20'), ('name', 'place of death'), ('oName', 'Monza')]\n",
                        "[('p', 'http://www.wikidata.org/prop/direct/P20'), ('name', 'place of death'), ('oName', 'Norisring')]\n",
                        "[('p', 'http://www.wikidata.org/prop/direct/P20'), ('name', 'place of death'), ('oName', 'Mayfair')]\n",
                        "[('p', 'http://www.wikidata.org/prop/direct/P20'), ('name', 'place of death'), ('oName', 'Mount Panorama Circuit')]\n",
                        "[('p', 'http://www.wikidata.org/prop/direct/P20'), ('name', 'place of death'), ('oName', 'Bad Reichenhall')]\n",
                        "[('p', 'http://www.wikidata.org/prop/direct/P20'), ('name', 'place of death'), ('oName', 'Aspen')]\n",
                        "[('p', 'http://www.wikidata.org/prop/direct/P20'), ('name', 'place of death'), ('oName', 'Albuquerque')]\n",
                        "[('p', 'http://www.wikidata.org/prop/direct/P20'), ('name', 'place of death'), ('oName', 'Autodromo Nazionale Monza')]\n",
                        "[('p', 'http://www.wikidata.org/prop/direct/P20'), ('name', 'place of death'), ('oName', 'Arrecifes')]\n",
                        "[('p', 'http://www.wikidata.org/prop/direct/P20'), ('name', 'place of death'), ('oName', 'Epping')]\n",
                        "[('p', 'http://www.wikidata.org/prop/direct/P20'), ('name', 'place of death'), ('oName', 'East Grinstead')]\n",
                        "[('p', 'http://www.wikidata.org/prop/direct/P20'), ('name', 'place of death'), ('oName', 'Salinas')]\n",
                        "[('p', 'http://www.wikidata.org/prop/direct/P20'), ('name', 'place of death'), ('oName', 'Litchfield County')]\n",
                        "[('p', 'http://www.wikidata.org/prop/direct/P20'), ('name', 'place of death'), ('oName', 'Bradenton')]\n",
                        "[('p', 'http://www.wikidata.org/prop/direct/P509'), ('name', 'cause of death'), ('oName', 'brain cancer')]\n",
                        "[('p', 'http://www.wikidata.org/prop/direct/P20'), ('name', 'place of death'), ('oName', 'Titisee-Neustadt')]\n",
                        "[('p', 'http://www.wikidata.org/prop/direct/P20'), ('name', 'place of death'), ('oName', 'San Isidro')]\n",
                        "[('p', 'http://www.wikidata.org/prop/direct/P20'), ('name', 'place of death'), ('oName', 'Stuttgart')]\n",
                        "[('p', 'http://www.wikidata.org/prop/direct/P509'), ('name', 'cause of death'), ('oName', \"Parkinson's disease\")]\n",
                        "[('p', 'http://www.wikidata.org/prop/direct/P20'), ('name', 'place of death'), ('oName', 'Graz')]\n",
                        "[('p', 'http://www.wikidata.org/prop/direct/P20'), ('name', 'place of death'), ('oName', 'France')]\n",
                        "[('p', 'http://www.wikidata.org/prop/direct/P20'), ('name', 'place of death'), ('oName', 'Reading')]\n",
                        "[('p', 'http://www.wikidata.org/prop/direct/P20'), ('name', 'place of death'), ('oName', 'Monaco')]\n",
                        "[('p', 'http://www.wikidata.org/prop/direct/P20'), ('name', 'place of death'), ('oName', 'Bonn')]\n",
                        "[('p', 'http://www.wikidata.org/prop/direct/P20'), ('name', 'place of death'), ('oName', 'Thailand')]\n",
                        "[('p', 'http://www.wikidata.org/prop/direct/P20'), ('name', 'place of death'), ('oName', 'Northampton')]\n",
                        "[('p', 'http://www.wikidata.org/prop/direct/P509'), ('name', 'cause of death'), ('oName', 'pancreatic cancer')]\n",
                        "[('p', 'http://www.wikidata.org/prop/direct/P20'), ('name', 'place of death'), ('oName', 'Wiltshire')]\n",
                        "[('p', 'http://www.wikidata.org/prop/direct/P20'), ('name', 'place of death'), ('oName', 'Anaheim')]\n",
                        "[('p', 'http://www.wikidata.org/prop/direct/P20'), ('name', 'place of death'), ('oName', 'Darlington')]\n",
                        "[('p', 'http://www.wikidata.org/prop/direct/P509'), ('name', 'cause of death'), ('oName', 'Merkel cell carcinoma')]\n",
                        "[('p', 'http://www.wikidata.org/prop/direct/P509'), ('name', 'cause of death'), ('oName', 'AIDS related disease')]\n",
                        "[('p', 'http://www.wikidata.org/prop/direct/P20'), ('name', 'place of death'), ('oName', 'Allentown')]\n",
                        "[('p', 'http://www.wikidata.org/prop/direct/P20'), ('name', 'place of death'), ('oName', 'Guildford')]\n",
                        "[('p', 'http://www.wikidata.org/prop/direct/P509'), ('name', 'cause of death'), ('oName', 'car accident')]\n",
                        "[('p', 'http://www.wikidata.org/prop/direct/P20'), ('name', 'place of death'), ('oName', 'Haslemere')]\n",
                        "[('p', 'http://www.wikidata.org/prop/direct/P20'), ('name', 'place of death'), ('oName', 'Saint-Paul-de-Vence')]\n",
                        "[('p', 'http://www.wikidata.org/prop/direct/P20'), ('name', 'place of death'), ('oName', 'Beausoleil')]\n",
                        "[('p', 'http://www.wikidata.org/prop/direct/P20'), ('name', 'place of death'), ('oName', 'Wickersley')]\n",
                        "[('p', 'http://www.wikidata.org/prop/direct/P20'), ('name', 'place of death'), ('oName', 'Herefordshire')]\n",
                        "[('p', 'http://www.wikidata.org/prop/direct/P20'), ('name', 'place of death'), ('oName', 'Warwick')]\n",
                        "[('p', 'http://www.wikidata.org/prop/direct/P20'), ('name', 'place of death'), ('oName', 'Glendale')]\n",
                        "[('p', 'http://www.wikidata.org/prop/direct/P20'), ('name', 'place of death'), ('oName', 'Pacific Palisades')]\n",
                        "[('p', 'http://www.wikidata.org/prop/direct/P20'), ('name', 'place of death'), ('oName', 'N\u00fcrburgring')]\n",
                        "[('p', 'http://www.wikidata.org/prop/direct/P20'), ('name', 'place of death'), ('oName', 'Gosport')]\n",
                        "[('p', 'http://www.wikidata.org/prop/direct/P20'), ('name', 'place of death'), ('oName', 'Tacoma')]\n",
                        "[('p', 'http://www.wikidata.org/prop/direct/P20'), ('name', 'place of death'), ('oName', 'Vicenza')]\n",
                        "[('p', 'http://www.wikidata.org/prop/direct/P20'), ('name', 'place of death'), ('oName', \"St. Julian's\")]\n",
                        "[('p', 'http://www.wikidata.org/prop/direct/P20'), ('name', 'place of death'), ('oName', 'N\u00fcrburg')]\n",
                        "[('p', 'http://www.wikidata.org/prop/direct/P20'), ('name', 'place of death'), ('oName', 'Ventura')]\n",
                        "[('p', 'http://www.wikidata.org/prop/direct/P509'), ('name', 'cause of death'), ('oName', 'stroke')]\n",
                        "[('p', 'http://www.wikidata.org/prop/direct/P20'), ('name', 'place of death'), ('oName', 'Chicago')]\n",
                        "[('p', 'http://www.wikidata.org/prop/direct/P20'), ('name', 'place of death'), ('oName', 'Hackensack')]\n",
                        "[('p', 'http://www.wikidata.org/prop/direct/P20'), ('name', 'place of death'), ('oName', 'Mexico City')]\n",
                        "[('p', 'http://www.wikidata.org/prop/direct/P20'), ('name', 'place of death'), ('oName', 'D\u00fcsseldorf')]\n",
                        "[('p', 'http://www.wikidata.org/prop/direct/P20'), ('name', 'place of death'), ('oName', 'Spain')]\n",
                        "[('p', 'http://www.wikidata.org/prop/direct/P20'), ('name', 'place of death'), ('oName', 'Dakar')]\n",
                        "[('p', 'http://www.wikidata.org/prop/direct/P20'), ('name', 'place of death'), ('oName', 'Worcester County')]\n",
                        "[('p', 'http://www.wikidata.org/prop/direct/P20'), ('name', 'place of death'), ('oName', 'London')]\n",
                        "[('p', 'http://www.wikidata.org/prop/direct/P20'), ('name', 'place of death'), ('oName', 'Wichita Falls')]\n",
                        "[('p', 'http://www.wikidata.org/prop/direct/P20'), ('name', 'place of death'), ('oName', 'Kent')]\n",
                        "[('p', 'http://www.wikidata.org/prop/direct/P20'), ('name', 'place of death'), ('oName', 'Atlanta')]\n",
                        "[('p', 'http://www.wikidata.org/prop/direct/P509'), ('name', 'cause of death'), ('oName', 'cerebrovascular disease')]\n",
                        "[('p', 'http://www.wikidata.org/prop/direct/P20'), ('name', 'place of death'), ('oName', 'Guidizzolo')]\n",
                        "[('p', 'http://www.wikidata.org/prop/direct/P20'), ('name', 'place of death'), ('oName', 'Cape Town')]\n",
                        "[('p', 'http://www.wikidata.org/prop/direct/P20'), ('name', 'place of death'), ('oName', 'Neston')]\n",
                        "[('p', 'http://www.wikidata.org/prop/direct/P20'), ('name', 'place of death'), ('oName', 'Gimingham')]\n",
                        "[('p', 'http://www.wikidata.org/prop/direct/P20'), ('name', 'place of death'), ('oName', 'Bordeaux')]\n",
                        "[('p', 'http://www.wikidata.org/prop/direct/P509'), ('name', 'cause of death'), ('oName', 'decapitation')]\n",
                        "[('p', 'http://www.wikidata.org/prop/direct/P509'), ('name', 'cause of death'), ('oName', 'pulmonary embolism')]\n",
                        "[('p', 'http://www.wikidata.org/prop/direct/P509'), ('name', 'cause of death'), ('oName', 'dementia')]\n",
                        "[('p', 'http://www.wikidata.org/prop/direct/P20'), ('name', 'place of death'), ('oName', 'Grenoble')]\n",
                        "[('p', 'http://www.wikidata.org/prop/direct/P20'), ('name', 'place of death'), ('oName', 'Hesperia')]\n",
                        "[('p', 'http://www.wikidata.org/prop/direct/P20'), ('name', 'place of death'), ('oName', 'Terre Haute')]\n",
                        "[('p', 'http://www.wikidata.org/prop/direct/P20'), ('name', 'place of death'), ('oName', 'Gerrards Cross')]\n",
                        "[('p', 'http://www.wikidata.org/prop/direct/P20'), ('name', 'place of death'), ('oName', 'Haine-Saint-Paul')]\n",
                        "[('p', 'http://www.wikidata.org/prop/direct/P20'), ('name', 'place of death'), ('oName', 'Silverstone')]\n",
                        "[('p', 'http://www.wikidata.org/prop/direct/P20'), ('name', 'place of death'), ('oName', 'Dandenong Ranges')]\n",
                        "[('p', 'http://www.wikidata.org/prop/direct/P20'), ('name', 'place of death'), ('oName', 'Leamington')]\n",
                        "[('p', 'http://www.wikidata.org/prop/direct/P20'), ('name', 'place of death'), ('oName', 'Joliet')]\n",
                        "[('p', 'http://www.wikidata.org/prop/direct/P20'), ('name', 'place of death'), ('oName', 'Les Baux-de-Provence')]\n",
                        "[('p', 'http://www.wikidata.org/prop/direct/P20'), ('name', 'place of death'), ('oName', 'Lake Havasu City')]\n",
                        "[('p', 'http://www.wikidata.org/prop/direct/P20'), ('name', 'place of death'), ('oName', 'Langhorne')]\n",
                        "[('p', 'http://www.wikidata.org/prop/direct/P20'), ('name', 'place of death'), ('oName', 'Trenton')]\n",
                        "[('p', 'http://www.wikidata.org/prop/direct/P20'), ('name', 'place of death'), ('oName', 'Reims')]\n",
                        "[('p', 'http://www.wikidata.org/prop/direct/P20'), ('name', 'place of death'), ('oName', 'Tucson')]\n",
                        "[('p', 'http://www.wikidata.org/prop/direct/P20'), ('name', 'place of death'), ('oName', 'Daytona Beach')]\n",
                        "[('p', 'http://www.wikidata.org/prop/direct/P20'), ('name', 'place of death'), ('oName', 'Viterbo')]\n",
                        "[('p', 'http://www.wikidata.org/prop/direct/P20'), ('name', 'place of death'), ('oName', 'Hanford')]\n",
                        "[('p', 'http://www.wikidata.org/prop/direct/P20'), ('name', 'place of death'), ('oName', 'Gainesville')]\n",
                        "[('p', 'http://www.wikidata.org/prop/direct/P20'), ('name', 'place of death'), ('oName', 'Lincoln County')]\n",
                        "[('p', 'http://www.wikidata.org/prop/direct/P20'), ('name', 'place of death'), ('oName', 'Gardena')]\n",
                        "[('p', 'http://www.wikidata.org/prop/direct/P20'), ('name', 'place of death'), ('oName', 'Worcestershire')]\n",
                        "[('p', 'http://www.wikidata.org/prop/direct/P20'), ('name', 'place of death'), ('oName', 'Alamo')]\n",
                        "[('p', 'http://www.wikidata.org/prop/direct/P509'), ('name', 'cause of death'), ('oName', 'basilar skull fracture')]\n",
                        "[('p', 'http://www.wikidata.org/prop/direct/P20'), ('name', 'place of death'), ('oName', 'Winchester')]\n",
                        "[('p', 'http://www.wikidata.org/prop/direct/P20'), ('name', 'place of death'), ('oName', 'Michigan')]\n",
                        "[('p', 'http://www.wikidata.org/prop/direct/P20'), ('name', 'place of death'), ('oName', 'Indiana')]\n",
                        "[('p', 'http://www.wikidata.org/prop/direct/P1196'), ('name', 'manner of death'), ('oName', 'homicide')]\n",
                        "[('p', 'http://www.wikidata.org/prop/direct/P20'), ('name', 'place of death'), ('oName', 'Barcelona')]\n",
                        "[('p', 'http://www.wikidata.org/prop/direct/P20'), ('name', 'place of death'), ('oName', 'Bologna')]\n",
                        "[('p', 'http://www.wikidata.org/prop/direct/P20'), ('name', 'place of death'), ('oName', 'Ottawa')]\n",
                        "[('p', 'http://www.wikidata.org/prop/direct/P509'), ('name', 'cause of death'), ('oName', 'cardiac arrest')]\n",
                        "[('p', 'http://www.wikidata.org/prop/direct/P20'), ('name', 'place of death'), ('oName', 'Vallejo')]\n",
                        "[('p', 'http://www.wikidata.org/prop/direct/P20'), ('name', 'place of death'), ('oName', 'Rome')]\n",
                        "[('p', 'http://www.wikidata.org/prop/direct/P20'), ('name', 'place of death'), ('oName', 'Finland')]\n",
                        "[('p', 'http://www.wikidata.org/prop/direct/P20'), ('name', 'place of death'), ('oName', 'Johannesburg')]\n",
                        "[('p', 'http://www.wikidata.org/prop/direct/P20'), ('name', 'place of death'), ('oName', 'Milwaukee')]\n",
                        "[('p', 'http://www.wikidata.org/prop/direct/P509'), ('name', 'cause of death'), ('oName', 'lung cancer')]\n",
                        "[('p', 'http://www.wikidata.org/prop/direct/P20'), ('name', 'place of death'), ('oName', 'Novara')]\n",
                        "[('p', 'http://www.wikidata.org/prop/direct/P20'), ('name', 'place of death'), ('oName', 'Portland')]\n",
                        "[('p', 'http://www.wikidata.org/prop/direct/P20'), ('name', 'place of death'), ('oName', 'Palma de Mallorca')]\n",
                        "[('p', 'http://www.wikidata.org/prop/direct/P20'), ('name', 'place of death'), ('oName', 'Paris')]\n",
                        "[('p', 'http://www.wikidata.org/prop/direct/P20'), ('name', 'place of death'), ('oName', 'Brussels metropolitan area')]\n",
                        "[('p', 'http://www.wikidata.org/prop/direct/P20'), ('name', 'place of death'), ('oName', 'Cleveland')]\n",
                        "[('p', 'http://www.wikidata.org/prop/direct/P20'), ('name', 'place of death'), ('oName', 'West Berkshire')]\n",
                        "[('p', 'http://www.wikidata.org/prop/direct/P20'), ('name', 'place of death'), ('oName', 'Auckland')]\n",
                        "[('p', 'http://www.wikidata.org/prop/direct/P20'), ('name', 'place of death'), ('oName', 'Sheffield')]\n",
                        "[('p', 'http://www.wikidata.org/prop/direct/P20'), ('name', 'place of death'), ('oName', 'Rugby')]\n",
                        "[('p', 'http://www.wikidata.org/prop/direct/P20'), ('name', 'place of death'), ('oName', 'Orl\u00e9ans')]\n",
                        "[('p', 'http://www.wikidata.org/prop/direct/P20'), ('name', 'place of death'), ('oName', 'London Borough of Harrow')]\n",
                        "[('p', 'http://www.wikidata.org/prop/direct/P20'), ('name', 'place of death'), ('oName', 'Modena')]\n",
                        "[('p', 'http://www.wikidata.org/prop/direct/P20'), ('name', 'place of death'), ('oName', 'Oklahoma City')]\n",
                        "[('p', 'http://www.wikidata.org/prop/direct/P509'), ('name', 'cause of death'), ('oName', 'asphyxia')]\n",
                        "[('p', 'http://www.wikidata.org/prop/direct/P20'), ('name', 'place of death'), ('oName', 'Devon')]\n",
                        "[('p', 'http://www.wikidata.org/prop/direct/P509'), ('name', 'cause of death'), ('oName', 'hyperthermia')]\n",
                        "[('p', 'http://www.wikidata.org/prop/direct/P20'), ('name', 'place of death'), ('oName', 'Dorset')]\n",
                        "[('p', 'http://www.wikidata.org/prop/direct/P20'), ('name', 'place of death'), ('oName', 'Oxnard')]\n",
                        "[('p', 'http://www.wikidata.org/prop/direct/P20'), ('name', 'place of death'), ('oName', 'Vaughan')]\n",
                        "[('p', 'http://www.wikidata.org/prop/direct/P20'), ('name', 'place of death'), ('oName', 'East Sussex')]\n",
                        "[('p', 'http://www.wikidata.org/prop/direct/P20'), ('name', 'place of death'), ('oName', 'Crieff')]\n",
                        "[('p', 'http://www.wikidata.org/prop/direct/P20'), ('name', 'place of death'), ('oName', 'New Castle')]\n",
                        "[('p', 'http://www.wikidata.org/prop/direct/P20'), ('name', 'place of death'), ('oName', 'Jeffersonville')]\n",
                        "[('p', 'http://www.wikidata.org/prop/direct/P20'), ('name', 'place of death'), ('oName', 'Valle de Bravo')]\n",
                        "[('p', 'http://www.wikidata.org/prop/direct/P20'), ('name', 'place of death'), ('oName', 'Auburndale')]\n",
                        "[('p', 'http://www.wikidata.org/prop/direct/P20'), ('name', 'place of death'), ('oName', 'Woodsford')]\n",
                        "[('p', 'http://www.wikidata.org/prop/direct/P20'), ('name', 'place of death'), ('oName', 'South Croxton')]\n",
                        "[('p', 'http://www.wikidata.org/prop/direct/P20'), ('name', 'place of death'), ('oName', 'Hemmenhofen')]\n",
                        "[('p', 'http://www.wikidata.org/prop/direct/P20'), ('name', 'place of death'), ('oName', 'Hekpoort')]\n",
                        "[('p', 'http://www.wikidata.org/prop/direct/P20'), ('name', 'place of death'), ('oName', 'Yarcombe')]\n",
                        "[('p', 'http://www.wikidata.org/prop/direct/P20'), ('name', 'place of death'), ('oName', 'Northridge')]\n",
                        "[('p', 'http://www.wikidata.org/prop/direct/P20'), ('name', 'place of death'), ('oName', 'Helensburgh')]\n",
                        "[('p', 'http://www.wikidata.org/prop/direct/P20'), ('name', 'place of death'), ('oName', 'Bourne')]\n",
                        "[('p', 'http://www.wikidata.org/prop/direct/P20'), ('name', 'place of death'), ('oName', 'Tierra Verde')]\n",
                        "[('p', 'http://www.wikidata.org/prop/direct/P509'), ('name', 'cause of death'), ('oName', 'hepatitis')]\n",
                        "[('p', 'http://www.wikidata.org/prop/direct/P20'), ('name', 'place of death'), ('oName', 'Somerset')]\n",
                        "[('p', 'http://www.wikidata.org/prop/direct/P20'), ('name', 'place of death'), ('oName', 'Watkins Glen International')]\n",
                        "[('p', 'http://www.wikidata.org/prop/direct/P20'), ('name', 'place of death'), ('oName', 'Kyalami')]\n",
                        "[('p', 'http://www.wikidata.org/prop/direct/P20'), ('name', 'place of death'), ('oName', 'Dundee')]\n",
                        "[('p', 'http://www.wikidata.org/prop/direct/P20'), ('name', 'place of death'), ('oName', 'Riverside')]\n",
                        "[('p', 'http://www.wikidata.org/prop/direct/P20'), ('name', 'place of death'), ('oName', 'Pergamino')]\n",
                        "[('p', 'http://www.wikidata.org/prop/direct/P20'), ('name', 'place of death'), ('oName', 'Atibaia')]\n",
                        "[('p', 'http://www.wikidata.org/prop/direct/P20'), ('name', 'place of death'), ('oName', 'San Luis Obispo')]\n",
                        "[('p', 'http://www.wikidata.org/prop/direct/P20'), ('name', 'place of death'), ('oName', 'Sun City West')]\n",
                        "[('p', 'http://www.wikidata.org/prop/direct/P20'), ('name', 'place of death'), ('oName', 'C\u00e1diz')]\n",
                        "[('p', 'http://www.wikidata.org/prop/direct/P20'), ('name', 'place of death'), ('oName', 'Santa Barbara')]\n",
                        "[('p', 'http://www.wikidata.org/prop/direct/P20'), ('name', 'place of death'), ('oName', 'Toronto')]\n",
                        "[('p', 'http://www.wikidata.org/prop/direct/P20'), ('name', 'place of death'), ('oName', 'Munich')]\n",
                        "[('p', 'http://www.wikidata.org/prop/direct/P20'), ('name', 'place of death'), ('oName', 'Vienna')]\n",
                        "[('p', 'http://www.wikidata.org/prop/direct/P20'), ('name', 'place of death'), ('oName', 'Birmingham')]\n",
                        "[('p', 'http://www.wikidata.org/prop/direct/P20'), ('name', 'place of death'), ('oName', 'Springfield')]\n",
                        "[('p', 'http://www.wikidata.org/prop/direct/P20'), ('name', 'place of death'), ('oName', 'Cologne')]\n",
                        "[('p', 'http://www.wikidata.org/prop/direct/P20'), ('name', 'place of death'), ('oName', 'Reno')]\n",
                        "[('p', 'http://www.wikidata.org/prop/direct/P20'), ('name', 'place of death'), ('oName', 'Tbilisi')]\n",
                        "[('p', 'http://www.wikidata.org/prop/direct/P20'), ('name', 'place of death'), ('oName', 'South Bend')]\n",
                        "[('p', 'http://www.wikidata.org/prop/direct/P509'), ('name', 'cause of death'), ('oName', \"Alzheimer's disease\")]\n",
                        "[('p', 'http://www.wikidata.org/prop/direct/P509'), ('name', 'cause of death'), ('oName', 'diabetes')]\n",
                        "[('p', 'http://www.wikidata.org/prop/direct/P20'), ('name', 'place of death'), ('oName', 'Gloucestershire')]\n",
                        "[('p', 'http://www.wikidata.org/prop/direct/P20'), ('name', 'place of death'), ('oName', 'Port Orange')]\n",
                        "[('p', 'http://www.wikidata.org/prop/direct/P20'), ('name', 'place of death'), ('oName', 'Kortrijk')]\n",
                        "[('p', 'http://www.wikidata.org/prop/direct/P20'), ('name', 'place of death'), ('oName', 'Porto')]\n",
                        "[('p', 'http://www.wikidata.org/prop/direct/P20'), ('name', 'place of death'), ('oName', 'Dayton')]\n",
                        "[('p', 'http://www.wikidata.org/prop/direct/P20'), ('name', 'place of death'), ('oName', 'San Bernardino')]\n",
                        "[('p', 'http://www.wikidata.org/prop/direct/P20'), ('name', 'place of death'), ('oName', 'Peine')]\n",
                        "[('p', 'http://www.wikidata.org/prop/direct/P20'), ('name', 'place of death'), ('oName', 'Petersfield')]\n",
                        "[('p', 'http://www.wikidata.org/prop/direct/P20'), ('name', 'place of death'), ('oName', 'London Borough of Camden')]\n",
                        "[('p', 'http://www.wikidata.org/prop/direct/P20'), ('name', 'place of death'), ('oName', 'Punta del Este')]\n",
                        "[('p', 'http://www.wikidata.org/prop/direct/P20'), ('name', 'place of death'), ('oName', 'Van Nuys')]\n",
                        "[('p', 'http://www.wikidata.org/prop/direct/P20'), ('name', 'place of death'), ('oName', 'Desert Hot Springs')]\n",
                        "[('p', 'http://www.wikidata.org/prop/direct/P20'), ('name', 'place of death'), ('oName', 'Sonora')]\n",
                        "[('p', 'http://www.wikidata.org/prop/direct/P20'), ('name', 'place of death'), ('oName', 'Marion')]\n",
                        "[('p', 'http://www.wikidata.org/prop/direct/P20'), ('name', 'place of death'), ('oName', 'Oakland County')]\n",
                        "[('p', 'http://www.wikidata.org/prop/direct/P20'), ('name', 'place of death'), ('oName', 'Lansdale')]\n",
                        "[('p', 'http://www.wikidata.org/prop/direct/P20'), ('name', 'place of death'), ('oName', 'Scarborough')]\n",
                        "[('p', 'http://www.wikidata.org/prop/direct/P20'), ('name', 'place of death'), ('oName', 'Headington')]\n",
                        "[('p', 'http://www.wikidata.org/prop/direct/P20'), ('name', 'place of death'), ('oName', 'West Haven')]\n",
                        "[('p', 'http://www.wikidata.org/prop/direct/P20'), ('name', 'place of death'), ('oName', 'Pluckley')]\n",
                        "[('p', 'http://www.wikidata.org/prop/direct/P20'), ('name', 'place of death'), ('oName', 'Sevierville')]\n",
                        "[('p', 'http://www.wikidata.org/prop/direct/P20'), ('name', 'place of death'), ('oName', 'Littleover')]\n",
                        "[('p', 'http://www.wikidata.org/prop/direct/P20'), ('name', 'place of death'), ('oName', 'Pennington, KwaZulu-Natal')]\n",
                        "[('p', 'http://www.wikidata.org/prop/direct/P20'), ('name', 'place of death'), ('oName', 'Renton')]\n",
                        "[('p', 'http://www.wikidata.org/prop/direct/P20'), ('name', 'place of death'), ('oName', 'Norwich')]\n",
                        "[('p', 'http://www.wikidata.org/prop/direct/P20'), ('name', 'place of death'), ('oName', 'St. Petersburg')]\n",
                        "[('p', 'http://www.wikidata.org/prop/direct/P20'), ('name', 'place of death'), ('oName', 'Bexhill')]\n",
                        "[('p', 'http://www.wikidata.org/prop/direct/P20'), ('name', 'place of death'), ('oName', 'Christiansted')]\n",
                        "[('p', 'http://www.wikidata.org/prop/direct/P20'), ('name', 'place of death'), ('oName', 'Western Cape')]\n",
                        "[('p', 'http://www.wikidata.org/prop/direct/P20'), ('name', 'place of death'), ('oName', 'Uccle - Ukkel')]\n",
                        "[('p', 'http://www.wikidata.org/prop/direct/P509'), ('name', 'cause of death'), ('oName', 'pulmonary fibrosis')]\n",
                        "[('p', 'http://www.wikidata.org/prop/direct/P20'), ('name', 'place of death'), ('oName', 'Fresno')]\n",
                        "[('p', 'http://www.wikidata.org/prop/direct/P20'), ('name', 'place of death'), ('oName', 'Port Arthur')]\n",
                        "[('p', 'http://www.wikidata.org/prop/direct/P20'), ('name', 'place of death'), ('oName', 'Lambeth')]\n",
                        "[('p', 'http://www.wikidata.org/prop/direct/P20'), ('name', 'place of death'), ('oName', 'Salem')]\n",
                        "[('p', 'http://www.wikidata.org/prop/direct/P20'), ('name', 'place of death'), ('oName', 'Sitges')]\n",
                        "[('p', 'http://www.wikidata.org/prop/direct/P20'), ('name', 'place of death'), ('oName', 'Royal Oak')]\n",
                        "[('p', 'http://www.wikidata.org/prop/direct/P509'), ('name', 'cause of death'), ('oName', 'tuberculosis')]\n",
                        "[('p', 'http://www.wikidata.org/prop/direct/P20'), ('name', 'place of death'), ('oName', 'Manila')]\n",
                        "[('p', 'http://www.wikidata.org/prop/direct/P20'), ('name', 'place of death'), ('oName', 'Frankfurt am Main')]\n",
                        "[('p', 'http://www.wikidata.org/prop/direct/P20'), ('name', 'place of death'), ('oName', 'Monte Carlo')]\n",
                        "[('p', 'http://www.wikidata.org/prop/direct/P20'), ('name', 'place of death'), ('oName', 'Turin')]\n",
                        "[('p', 'http://www.wikidata.org/prop/direct/P20'), ('name', 'place of death'), ('oName', 'Seattle')]\n",
                        "[('p', 'http://www.wikidata.org/prop/direct/P20'), ('name', 'place of death'), ('oName', 'Durban')]\n",
                        "[('p', 'http://www.wikidata.org/prop/direct/P20'), ('name', 'place of death'), ('oName', 'Essex')]\n",
                        "[('p', 'http://www.wikidata.org/prop/direct/P20'), ('name', 'place of death'), ('oName', 'Pretoria')]\n",
                        "[('p', 'http://www.wikidata.org/prop/direct/P20'), ('name', 'place of death'), ('oName', 'Santa Ana')]\n",
                        "[('p', 'http://www.wikidata.org/prop/direct/P20'), ('name', 'place of death'), ('oName', 'Brownsburg')]\n",
                        "[('p', 'http://www.wikidata.org/prop/direct/P20'), ('name', 'place of death'), ('oName', 'Cascais')]\n",
                        "[('p', 'http://www.wikidata.org/prop/direct/P20'), ('name', 'place of death'), ('oName', 'Reichenbach im Vogtland')]\n",
                        "[('p', 'http://www.wikidata.org/prop/direct/P20'), ('name', 'place of death'), ('oName', 'Epsom')]\n",
                        "[('p', 'http://www.wikidata.org/prop/direct/P20'), ('name', 'place of death'), ('oName', 'Kreuth')]\n",
                        "[('p', 'http://www.wikidata.org/prop/direct/P20'), ('name', 'place of death'), ('oName', 'Porto Ercole')]\n",
                        "[('p', 'http://www.wikidata.org/prop/direct/P20'), ('name', 'place of death'), ('oName', \"King's Lynn\")]\n",
                        "[('p', 'http://www.wikidata.org/prop/direct/P20'), ('name', 'place of death'), ('oName', 'Reims-Gueux')]\n",
                        "[('p', 'http://www.wikidata.org/prop/direct/P20'), ('name', 'place of death'), ('oName', 'Gro\u00df-Gerau')]\n",
                        "[('p', 'http://www.wikidata.org/prop/direct/P20'), ('name', 'place of death'), ('oName', 'Longford')]\n",
                        "[('p', 'http://www.wikidata.org/prop/direct/P20'), ('name', 'place of death'), ('oName', 'Anderson')]\n",
                        "[('p', 'http://www.wikidata.org/prop/direct/P20'), ('name', 'place of death'), ('oName', 'Grants Pass')]\n",
                        "[('p', 'http://www.wikidata.org/prop/direct/P20'), ('name', 'place of death'), ('oName', 'South Holland')]\n",
                        "[('p', 'http://www.wikidata.org/prop/direct/P20'), ('name', 'place of death'), ('oName', 'Southmead')]\n",
                        "[('p', 'http://www.wikidata.org/prop/direct/P20'), ('name', 'place of death'), ('oName', 'Lebanon')]\n",
                        "[('p', 'http://www.wikidata.org/prop/direct/P20'), ('name', 'place of death'), ('oName', 'Las Rosas (Santa Fe)')]\n",
                        "[('p', 'http://www.wikidata.org/prop/direct/P20'), ('name', 'place of death'), ('oName', 'Haddonfield')]\n",
                        "[('p', 'http://www.wikidata.org/prop/direct/P20'), ('name', 'place of death'), ('oName', 'Heusy')]\n",
                        "[('p', 'http://www.wikidata.org/prop/direct/P20'), ('name', 'place of death'), ('oName', 'Caledon')]\n",
                        "[('p', 'http://www.wikidata.org/prop/direct/P20'), ('name', 'place of death'), ('oName', 'Califon')]\n",
                        "[('p', 'http://www.wikidata.org/prop/direct/P20'), ('name', 'place of death'), ('oName', 'Rochester')]\n",
                        "[('p', 'http://www.wikidata.org/prop/direct/P20'), ('name', 'place of death'), ('oName', 'Troon')]\n",
                        "[('p', 'http://www.wikidata.org/prop/direct/P20'), ('name', 'place of death'), ('oName', 'Golden')]\n",
                        "[('p', 'http://www.wikidata.org/prop/direct/P20'), ('name', 'place of death'), ('oName', 'Lancaster')]\n",
                        "[('p', 'http://www.wikidata.org/prop/direct/P20'), ('name', 'place of death'), ('oName', 'Ojai')]\n",
                        "[('p', 'http://www.wikidata.org/prop/direct/P20'), ('name', 'place of death'), ('oName', 'Vallauris')]\n",
                        "[('p', 'http://www.wikidata.org/prop/direct/P20'), ('name', 'place of death'), ('oName', 'Hagen')]\n",
                        "[('p', 'http://www.wikidata.org/prop/direct/P20'), ('name', 'place of death'), ('oName', 'Madera')]\n",
                        "[('p', 'http://www.wikidata.org/prop/direct/P20'), ('name', 'place of death'), ('oName', 'Hanover')]\n",
                        "[('p', 'http://www.wikidata.org/prop/direct/P20'), ('name', 'place of death'), ('oName', 'Eastlake')]\n",
                        "[('p', 'http://www.wikidata.org/prop/direct/P20'), ('name', 'place of death'), ('oName', 'Brough')]\n",
                        "[('p', 'http://www.wikidata.org/prop/direct/P20'), ('name', 'place of death'), ('oName', 'Hamburg')]\n",
                        "[('p', 'http://www.wikidata.org/prop/direct/P20'), ('name', 'place of death'), ('oName', 'Las Palmas de Gran Canaria')]\n",
                        "[('p', 'http://www.wikidata.org/prop/direct/P20'), ('name', 'place of death'), ('oName', 'San Diego')]\n",
                        "[('p', 'http://www.wikidata.org/prop/direct/P20'), ('name', 'place of death'), ('oName', 'Houston')]\n",
                        "[('p', 'http://www.wikidata.org/prop/direct/P20'), ('name', 'place of death'), ('oName', 'Fort Lauderdale')]\n",
                        "[('p', 'http://www.wikidata.org/prop/direct/P20'), ('name', 'place of death'), ('oName', 'Mannheim')]\n",
                        "[('p', 'http://www.wikidata.org/prop/direct/P20'), ('name', 'place of death'), ('oName', 'South Africa')]\n",
                        "[('p', 'http://www.wikidata.org/prop/direct/P20'), ('name', 'place of death'), ('oName', 'Brunswick')]\n",
                        "[('p', 'http://www.wikidata.org/prop/direct/P20'), ('name', 'place of death'), ('oName', 'Nice')]\n",
                        "[('p', 'http://www.wikidata.org/prop/direct/P20'), ('name', 'place of death'), ('oName', 'Gie\u00dfen')]\n",
                        "[('p', 'http://www.wikidata.org/prop/direct/P20'), ('name', 'place of death'), ('oName', 'Li\u00e8ge')]\n",
                        "[('p', 'http://www.wikidata.org/prop/direct/P20'), ('name', 'place of death'), ('oName', 'Vellberg')]\n",
                        "[('p', 'http://www.wikidata.org/prop/direct/P20'), ('name', 'place of death'), ('oName', 'Marbella')]\n",
                        "[('p', 'http://www.wikidata.org/prop/direct/P20'), ('name', 'place of death'), ('oName', 'Long Beach')]\n",
                        "[('p', 'http://www.wikidata.org/prop/direct/P20'), ('name', 'place of death'), ('oName', 'Suffolk')]\n",
                        "[('p', 'http://www.wikidata.org/prop/direct/P20'), ('name', 'place of death'), ('oName', 'Koblenz')]\n",
                        "[('p', 'http://www.wikidata.org/prop/direct/P20'), ('name', 'place of death'), ('oName', 'McMinnville')]\n",
                        "[('p', 'http://www.wikidata.org/prop/direct/P20'), ('name', 'place of death'), ('oName', 'Tarpon Springs')]\n",
                        "[('p', 'http://www.wikidata.org/prop/direct/P20'), ('name', 'place of death'), ('oName', \"Parign\u00e9-l'\u00c9v\u00eaque\")]\n",
                        "[('p', 'http://www.wikidata.org/prop/direct/P20'), ('name', 'place of death'), ('oName', 'Tampa')]\n",
                        "[('p', 'http://www.wikidata.org/prop/direct/P20'), ('name', 'place of death'), ('oName', 'Samedan')]\n",
                        "[('p', 'http://www.wikidata.org/prop/direct/P20'), ('name', 'place of death'), ('oName', 'Enschede')]\n",
                        "[('p', 'http://www.wikidata.org/prop/direct/P20'), ('name', 'place of death'), ('oName', 'Santa Rosa')]\n",
                        "[('p', 'http://www.wikidata.org/prop/direct/P20'), ('name', 'place of death'), ('oName', 'Anzio')]\n",
                        "[('p', 'http://www.wikidata.org/prop/direct/P509'), ('name', 'cause of death'), ('oName', 'aircraft crash')]\n",
                        "[('p', 'http://www.wikidata.org/prop/direct/P20'), ('name', 'place of death'), ('oName', 'Huete')]\n",
                        "[('p', 'http://www.wikidata.org/prop/direct/P20'), ('name', 'place of death'), ('oName', 'Bognor Regis')]\n",
                        "[('p', 'http://www.wikidata.org/prop/direct/P20'), ('name', 'place of death'), ('oName', 'Beaulieu-sur-Mer')]\n",
                        "[('p', 'http://www.wikidata.org/prop/direct/P20'), ('name', 'place of death'), ('oName', 'Lake Bluff')]\n",
                        "[('p', 'http://www.wikidata.org/prop/direct/P20'), ('name', 'place of death'), ('oName', 'Grez-Doiceau')]\n",
                        "[('p', 'http://www.wikidata.org/prop/direct/P20'), ('name', 'place of death'), ('oName', 'Aimogasta')]\n",
                        "[('p', 'http://www.wikidata.org/prop/direct/P20'), ('name', 'place of death'), ('oName', 'Key Largo')]\n",
                        "[('p', 'http://www.wikidata.org/prop/direct/P20'), ('name', 'place of death'), ('oName', 'Crystal River')]\n",
                        "[('p', 'http://www.wikidata.org/prop/direct/P20'), ('name', 'place of death'), ('oName', 'Alberton')]\n",
                        "[('p', 'http://www.wikidata.org/prop/direct/P20'), ('name', 'place of death'), ('oName', 'Benson')]\n",
                        "[('p', 'http://www.wikidata.org/prop/direct/P20'), ('name', 'place of death'), ('oName', 'Logie Coldstone')]\n",
                        "[('p', 'http://www.wikidata.org/prop/direct/P20'), ('name', 'place of death'), ('oName', 'Roanoke')]\n",
                        "[('p', 'http://www.wikidata.org/prop/direct/P20'), ('name', 'place of death'), ('oName', 'Williams Grove Speedway')]\n",
                        "[('p', 'http://www.wikidata.org/prop/direct/P20'), ('name', 'place of death'), ('oName', 'Clearwater')]\n",
                        "[('p', 'http://www.wikidata.org/prop/direct/P20'), ('name', 'place of death'), ('oName', 'Woodland Hills')]\n",
                        "[('p', 'http://www.wikidata.org/prop/direct/P20'), ('name', 'place of death'), ('oName', 'Bocholt')]\n",
                        "[('p', 'http://www.wikidata.org/prop/direct/P20'), ('name', 'place of death'), ('oName', 'Bremen')]\n",
                        "[('p', 'http://www.wikidata.org/prop/direct/P20'), ('name', 'place of death'), ('oName', 'Wicklow')]\n",
                        "[('p', 'http://www.wikidata.org/prop/direct/P20'), ('name', 'place of death'), ('oName', 'Ibstone')]\n",
                        "[('p', 'http://www.wikidata.org/prop/direct/P20'), ('name', 'place of death'), ('oName', 'Hatfield')]\n"
                    ]
                },
                {
                    "data": {
                        "text/plain": [
                            "355"
                        ]
                    },
                    "execution_count": 108,
                    "metadata": {},
                    "output_type": "execute_result"
                }
            ],
            "source": [
                "#point 3.\n",
                "#let's count for each country the number of f1 drivers\n",
                "\n",
                "#let's try and figure out first which drivers are alive\n",
                "q = f\"\"\"\n",
                "select distinct ?p ?name ?oName where{{\n",
                "?s wdt:P106 wd:Q10841764 .\n",
                "?s ?p ?o .\n",
                "?p <http://schema.org/name> ?name .\n",
                "?o <http://schema.org/name> ?oName .\n",
                "filter regex(?name, '.*(death|die).*', 'i') .\n",
                "}}\n",
                "\"\"\"\n",
                "run_query(q)"
            ]
        },
        {
            "cell_type": "code",
            "execution_count": 109,
            "id": "d92e66de-ddc8-4fad-8ad5-c93f25eb2711",
            "metadata": {},
            "outputs": [
                {
                    "name": "stdout",
                    "output_type": "stream",
                    "text": [
                        "[('p', 'http://www.wikidata.org/prop/direct/P3927'), ('name', 'eWRC-results.com racer ID')]\n",
                        "[('p', 'http://www.wikidata.org/prop/direct/P9129'), ('name', 'Data Collection of the Hungarian Peerage ID')]\n",
                        "[('p', 'http://www.wikidata.org/prop/direct/P6682'), ('name', 'Motorsports Hall of Fame of America ID')]\n",
                        "[('p', 'http://www.wikidata.org/prop/direct/P8161'), ('name', 'CONI honoured ID')]\n",
                        "[('p', 'http://www.wikidata.org/prop/direct/P1006'), ('name', 'Nationale Thesaurus voor Auteurs ID')]\n",
                        "[('p', 'http://www.wikidata.org/prop/direct/P1015'), ('name', 'NORAF ID')]\n",
                        "[('p', 'http://www.wikidata.org/prop/direct/P102'), ('name', 'member of political party')]\n",
                        "[('p', 'http://www.wikidata.org/prop/direct/P103'), ('name', 'native language')]\n",
                        "[('p', 'http://www.wikidata.org/prop/direct/P1038'), ('name', 'relative')]\n",
                        "[('p', 'http://www.wikidata.org/prop/direct/P106'), ('name', 'occupation')]\n",
                        "[('p', 'http://www.wikidata.org/prop/direct/P108'), ('name', 'employer')]\n",
                        "[('p', 'http://www.wikidata.org/prop/direct/P109'), ('name', 'signature')]\n",
                        "[('p', 'http://www.wikidata.org/prop/direct/P119'), ('name', 'place of burial')]\n",
                        "[('p', 'http://www.wikidata.org/prop/direct/P1196'), ('name', 'manner of death')]\n",
                        "[('p', 'http://www.wikidata.org/prop/direct/P1207'), ('name', 'NUKAT ID')]\n",
                        "[('p', 'http://www.wikidata.org/prop/direct/P1258'), ('name', 'Rotten Tomatoes ID')]\n",
                        "[('p', 'http://www.wikidata.org/prop/direct/P1263'), ('name', 'NNDB people ID')]\n",
                        "[('p', 'http://www.wikidata.org/prop/direct/P1273'), ('name', 'CANTIC ID')]\n",
                        "[('p', 'http://www.wikidata.org/prop/direct/P1280'), ('name', 'CONOR.SI ID')]\n",
                        "[('p', 'http://www.wikidata.org/prop/direct/P1284'), ('name', 'Munzinger person ID')]\n",
                        "[('p', 'http://www.wikidata.org/prop/direct/P1285'), ('name', 'Munzinger Sport number')]\n",
                        "[('p', 'http://www.wikidata.org/prop/direct/P1296'), ('name', 'Gran Enciclop\u00e8dia Catalana ID')]\n",
                        "[('p', 'http://www.wikidata.org/prop/direct/P1315'), ('name', 'NLA Trove ID')]\n",
                        "[('p', 'http://www.wikidata.org/prop/direct/P1343'), ('name', 'described by source')]\n",
                        "[('p', 'http://www.wikidata.org/prop/direct/P1344'), ('name', 'participant in')]\n",
                        "[('p', 'http://www.wikidata.org/prop/direct/P140'), ('name', 'religion')]\n",
                        "[('p', 'http://www.wikidata.org/prop/direct/P1412'), ('name', 'languages spoken, written or signed')]\n",
                        "[('p', 'http://www.wikidata.org/prop/direct/P1415'), ('name', 'Oxford Dictionary of National Biography ID')]\n",
                        "[('p', 'http://www.wikidata.org/prop/direct/P1417'), ('name', 'Encyclop\u00e6dia Britannica Online ID')]\n",
                        "[('p', 'http://www.wikidata.org/prop/direct/P1430'), ('name', 'OpenPlaques subject ID')]\n",
                        "[('p', 'http://www.wikidata.org/prop/direct/P1442'), ('name', 'image of grave')]\n",
                        "[('p', 'http://www.wikidata.org/prop/direct/P1449'), ('name', 'nickname')]\n",
                        "[('p', 'http://www.wikidata.org/prop/direct/P1477'), ('name', 'birth name')]\n",
                        "[('p', 'http://www.wikidata.org/prop/direct/P1532'), ('name', 'country for sport')]\n",
                        "[('p', 'http://www.wikidata.org/prop/direct/P1559'), ('name', 'name in native language')]\n",
                        "[('p', 'http://www.wikidata.org/prop/direct/P166'), ('name', 'award received')]\n",
                        "[('p', 'http://www.wikidata.org/prop/direct/P1695'), ('name', 'NLP ID (unique)')]\n",
                        "[('p', 'http://www.wikidata.org/prop/direct/P1712'), ('name', 'Metacritic ID')]\n",
                        "[('p', 'http://www.wikidata.org/prop/direct/P172'), ('name', 'ethnic group')]\n",
                        "[('p', 'http://www.wikidata.org/prop/direct/P1741'), ('name', 'GTAA ID')]\n",
                        "[('p', 'http://www.wikidata.org/prop/direct/P18'), ('name', 'image')]\n",
                        "[('p', 'http://www.wikidata.org/prop/direct/P1816'), ('name', 'National Portrait Gallery (London) person ID')]\n",
                        "[('p', 'http://www.wikidata.org/prop/direct/P1819'), ('name', 'genealogics.org person ID')]\n",
                        "[('p', 'http://www.wikidata.org/prop/direct/P1830'), ('name', 'owner of')]\n",
                        "[('p', 'http://www.wikidata.org/prop/direct/P1853'), ('name', 'blood type')]\n",
                        "[('p', 'http://www.wikidata.org/prop/direct/P1889'), ('name', 'different from')]\n",
                        "[('p', 'http://www.wikidata.org/prop/direct/P19'), ('name', 'place of birth')]\n",
                        "[('p', 'http://www.wikidata.org/prop/direct/P1950'), ('name', 'second family name in Spanish name')]\n",
                        "[('p', 'http://www.wikidata.org/prop/direct/P1953'), ('name', 'Discogs artist ID')]\n",
                        "[('p', 'http://www.wikidata.org/prop/direct/P1971'), ('name', 'number of children')]\n",
                        "[('p', 'http://www.wikidata.org/prop/direct/P20'), ('name', 'place of death')]\n",
                        "[('p', 'http://www.wikidata.org/prop/direct/P2002'), ('name', 'Twitter username')]\n",
                        "[('p', 'http://www.wikidata.org/prop/direct/P2003'), ('name', 'Instagram username')]\n",
                        "[('p', 'http://www.wikidata.org/prop/direct/P2013'), ('name', 'Facebook ID')]\n",
                        "[('p', 'http://www.wikidata.org/prop/direct/P2019'), ('name', 'AllMovie person ID')]\n",
                        "[('p', 'http://www.wikidata.org/prop/direct/P2031'), ('name', 'work period (start)')]\n",
                        "[('p', 'http://www.wikidata.org/prop/direct/P2048'), ('name', 'height')]\n",
                        "[('p', 'http://www.wikidata.org/prop/direct/P2067'), ('name', 'mass')]\n",
                        "[('p', 'http://www.wikidata.org/prop/direct/P21'), ('name', 'sex or gender')]\n",
                        "[('p', 'http://www.wikidata.org/prop/direct/P213'), ('name', 'ISNI')]\n",
                        "[('p', 'http://www.wikidata.org/prop/direct/P214'), ('name', 'VIAF ID')]\n",
                        "[('p', 'http://www.wikidata.org/prop/direct/P2163'), ('name', 'FAST ID')]\n",
                        "[('p', 'http://www.wikidata.org/prop/direct/P2180'), ('name', 'Kansallisbiografia ID')]\n",
                        "[('p', 'http://www.wikidata.org/prop/direct/P22'), ('name', 'father')]\n",
                        "[('p', 'http://www.wikidata.org/prop/direct/P2218'), ('name', 'net worth')]\n",
                        "[('p', 'http://www.wikidata.org/prop/direct/P227'), ('name', 'GND ID')]\n",
                        "[('p', 'http://www.wikidata.org/prop/direct/P2283'), ('name', 'uses')]\n",
                        "[('p', 'http://www.wikidata.org/prop/direct/P2387'), ('name', 'Elonet person ID')]\n",
                        "[('p', 'http://www.wikidata.org/prop/direct/P2397'), ('name', 'YouTube channel ID')]\n",
                        "[('p', 'http://www.wikidata.org/prop/direct/P241'), ('name', 'military branch')]\n",
                        "[('p', 'http://www.wikidata.org/prop/direct/P244'), ('name', 'Library of Congress authority ID')]\n",
                        "[('p', 'http://www.wikidata.org/prop/direct/P2522'), ('name', 'victory')]\n",
                        "[('p', 'http://www.wikidata.org/prop/direct/P26'), ('name', 'spouse')]\n",
                        "[('p', 'http://www.wikidata.org/prop/direct/P2600'), ('name', 'Geni.com profile ID')]\n",
                        "[('p', 'http://www.wikidata.org/prop/direct/P2605'), ('name', '\u010cSFD person ID')]\n",
                        "[('p', 'http://www.wikidata.org/prop/direct/P2639'), ('name', 'Filmportal ID')]\n",
                        "[('p', 'http://www.wikidata.org/prop/direct/P2650'), ('name', 'interested in')]\n",
                        "[('p', 'http://www.wikidata.org/prop/direct/P268'), ('name', 'Biblioth\u00e8que nationale de France ID')]\n",
                        "[('p', 'http://www.wikidata.org/prop/direct/P269'), ('name', 'IdRef ID')]\n",
                        "[('p', 'http://www.wikidata.org/prop/direct/P27'), ('name', 'country of citizenship')]\n",
                        "[('p', 'http://www.wikidata.org/prop/direct/P2889'), ('name', 'FamilySearch person ID')]\n",
                        "[('p', 'http://www.wikidata.org/prop/direct/P2924'), ('name', 'Great Russian Encyclopedia Online ID')]\n",
                        "[('p', 'http://www.wikidata.org/prop/direct/P2949'), ('name', 'WikiTree person ID')]\n",
                        "[('p', 'http://www.wikidata.org/prop/direct/P3048'), ('name', 'racing-reference.info driver ID')]\n",
                        "[('p', 'http://www.wikidata.org/prop/direct/P31'), ('name', 'instance of')]\n",
                        "[('p', 'http://www.wikidata.org/prop/direct/P3106'), ('name', 'Guardian topic ID')]\n",
                        "[('p', 'http://www.wikidata.org/prop/direct/P3219'), ('name', 'Encyclop\u00e6dia Universalis ID')]\n",
                        "[('p', 'http://www.wikidata.org/prop/direct/P3222'), ('name', 'NE.se ID')]\n",
                        "[('p', 'http://www.wikidata.org/prop/direct/P3348'), ('name', 'National Library of Greece ID')]\n",
                        "[('p', 'http://www.wikidata.org/prop/direct/P3365'), ('name', 'Treccani ID')]\n",
                        "[('p', 'http://www.wikidata.org/prop/direct/P3373'), ('name', 'sibling')]\n",
                        "[('p', 'http://www.wikidata.org/prop/direct/P3417'), ('name', 'Quora topic ID')]\n",
                        "[('p', 'http://www.wikidata.org/prop/direct/P3427'), ('name', 'AS.com athlete ID')]\n",
                        "[('p', 'http://www.wikidata.org/prop/direct/P3430'), ('name', 'SNAC ARK ID')]\n",
                        "[('p', 'http://www.wikidata.org/prop/direct/P345'), ('name', 'IMDb ID')]\n",
                        "[('p', 'http://www.wikidata.org/prop/direct/P349'), ('name', 'National Diet Library ID')]\n",
                        "[('p', 'http://www.wikidata.org/prop/direct/P3630'), ('name', 'Babelio author ID')]\n",
                        "[('p', 'http://www.wikidata.org/prop/direct/P3684'), ('name', 'Driver Database driver ID')]\n",
                        "[('p', 'http://www.wikidata.org/prop/direct/P373'), ('name', 'Commons category')]\n",
                        "[('p', 'http://www.wikidata.org/prop/direct/P3762'), ('name', 'openMLOL author ID')]\n",
                        "[('p', 'http://www.wikidata.org/prop/direct/P3883'), ('name', 'Red Bull athlete ID')]\n",
                        "[('p', 'http://www.wikidata.org/prop/direct/P39'), ('name', 'position held')]\n",
                        "[('p', 'http://www.wikidata.org/prop/direct/P396'), ('name', 'SBN author ID')]\n",
                        "[('p', 'http://www.wikidata.org/prop/direct/P40'), ('name', 'child')]\n",
                        "[('p', 'http://www.wikidata.org/prop/direct/P409'), ('name', 'Libraries Australia ID')]\n",
                        "[('p', 'http://www.wikidata.org/prop/direct/P4124'), ('name', \"Who's Who in France biography ID\")]\n",
                        "[('p', 'http://www.wikidata.org/prop/direct/P4159'), ('name', 'WeRelate person ID')]\n",
                        "[('p', 'http://www.wikidata.org/prop/direct/P4293'), ('name', 'PM20 folder ID')]\n",
                        "[('p', 'http://www.wikidata.org/prop/direct/P434'), ('name', 'MusicBrainz artist ID')]\n",
                        "[('p', 'http://www.wikidata.org/prop/direct/P4342'), ('name', 'Store norske leksikon ID')]\n",
                        "[('p', 'http://www.wikidata.org/prop/direct/P4347'), ('name', 'Florida Sports Hall of Fame athlete ID')]\n",
                        "[('p', 'http://www.wikidata.org/prop/direct/P4359'), ('name', 'gravsted.dk ID')]\n",
                        "[('p', 'http://www.wikidata.org/prop/direct/P443'), ('name', 'pronunciation audio')]\n",
                        "[('p', 'http://www.wikidata.org/prop/direct/P4431'), ('name', 'Google Doodle')]\n",
                        "[('p', 'http://www.wikidata.org/prop/direct/P4438'), ('name', 'BFI Films, TV and people ID')]\n",
                        "[('p', 'http://www.wikidata.org/prop/direct/P451'), ('name', 'unmarried partner')]\n",
                        "[('p', 'http://www.wikidata.org/prop/direct/P4527'), ('name', 'UK Parliament thesaurus ID')]\n",
                        "[('p', 'http://www.wikidata.org/prop/direct/P463'), ('name', 'member of')]\n",
                        "[('p', 'http://www.wikidata.org/prop/direct/P4638'), ('name', 'The Peerage person ID')]\n",
                        "[('p', 'http://www.wikidata.org/prop/direct/P4768'), ('name', 'cinematografo.it name or company ID')]\n",
                        "[('p', 'http://www.wikidata.org/prop/direct/P4779'), ('name', 'MYmovies actor ID')]\n",
                        "[('p', 'http://www.wikidata.org/prop/direct/P4782'), ('name', 'Movieplayer person ID')]\n",
                        "[('p', 'http://www.wikidata.org/prop/direct/P4985'), ('name', 'TMDb person ID')]\n",
                        "[('p', 'http://www.wikidata.org/prop/direct/P5019'), ('name', 'Brockhaus Enzyklop\u00e4die online ID')]\n",
                        "[('p', 'http://www.wikidata.org/prop/direct/P509'), ('name', 'cause of death')]\n",
                        "[('p', 'http://www.wikidata.org/prop/direct/P5254'), ('name', 'FilmTv.it person ID')]\n",
                        "[('p', 'http://www.wikidata.org/prop/direct/P5297'), ('name', 'Companies House officer ID')]\n",
                        "[('p', 'http://www.wikidata.org/prop/direct/P5340'), ('name', 'American Film Institute person ID')]\n",
                        "[('p', 'http://www.wikidata.org/prop/direct/P535'), ('name', 'Find A Grave memorial ID')]\n",
                        "[('p', 'http://www.wikidata.org/prop/direct/P5361'), ('name', 'BNB person ID')]\n",
                        "[('p', 'http://www.wikidata.org/prop/direct/P54'), ('name', 'member of sports team')]\n",
                        "[('p', 'http://www.wikidata.org/prop/direct/P5421'), ('name', 'Trading Card Database person ID')]\n",
                        "[('p', 'http://www.wikidata.org/prop/direct/P551'), ('name', 'residence')]\n",
                        "[('p', 'http://www.wikidata.org/prop/direct/P552'), ('name', 'handedness')]\n",
                        "[('p', 'http://www.wikidata.org/prop/direct/P5617'), ('name', 'Evene ID')]\n",
                        "[('p', 'http://www.wikidata.org/prop/direct/P569'), ('name', 'date of birth')]\n",
                        "[('p', 'http://www.wikidata.org/prop/direct/P570'), ('name', 'date of death')]\n",
                        "[('p', 'http://www.wikidata.org/prop/direct/P6058'), ('name', 'Larousse ID')]\n",
                        "[('p', 'http://www.wikidata.org/prop/direct/P607'), ('name', 'conflict')]\n",
                        "[('p', 'http://www.wikidata.org/prop/direct/P641'), ('name', 'sport')]\n",
                        "[('p', 'http://www.wikidata.org/prop/direct/P646'), ('name', 'Freebase ID')]\n",
                        "[('p', 'http://www.wikidata.org/prop/direct/P648'), ('name', 'Open Library ID')]\n",
                        "[('p', 'http://www.wikidata.org/prop/direct/P6488'), ('name', 'Enciclopedia delle donne ID')]\n",
                        "[('p', 'http://www.wikidata.org/prop/direct/P6706'), ('name', 'De Agostini ID')]\n",
                        "[('p', 'http://www.wikidata.org/prop/direct/P6844'), ('name', 'abART person ID')]\n",
                        "[('p', 'http://www.wikidata.org/prop/direct/P69'), ('name', 'educated at')]\n",
                        "[('p', 'http://www.wikidata.org/prop/direct/P691'), ('name', 'NKCR AUT ID')]\n",
                        "[('p', 'http://www.wikidata.org/prop/direct/P7293'), ('name', 'PLWABN ID')]\n",
                        "[('p', 'http://www.wikidata.org/prop/direct/P734'), ('name', 'family name')]\n",
                        "[('p', 'http://www.wikidata.org/prop/direct/P735'), ('name', 'given name')]\n",
                        "[('p', 'http://www.wikidata.org/prop/direct/P7666'), ('name', 'Visuotin\u0117 lietuvi\u0173 enciklopedija ID')]\n",
                        "[('p', 'http://www.wikidata.org/prop/direct/P7842'), ('name', 'Vienna History Wiki ID')]\n",
                        "[('p', 'http://www.wikidata.org/prop/direct/P7859'), ('name', 'WorldCat Identities ID')]\n",
                        "[('p', 'http://www.wikidata.org/prop/direct/P7902'), ('name', 'Deutsche Biographie (GND) ID')]\n",
                        "[('p', 'http://www.wikidata.org/prop/direct/P7929'), ('name', 'Roglo person ID')]\n",
                        "[('p', 'http://www.wikidata.org/prop/direct/P793'), ('name', 'significant event')]\n",
                        "[('p', 'http://www.wikidata.org/prop/direct/P7982'), ('name', 'Hrvatska enciklopedija ID')]\n",
                        "[('p', 'http://www.wikidata.org/prop/direct/P8081'), ('name', 'WBIS ID')]\n",
                        "[('p', 'http://www.wikidata.org/prop/direct/P8094'), ('name', 'GeneaStar person ID')]\n",
                        "[('p', 'http://www.wikidata.org/prop/direct/P8140'), ('name', 'motorsportstats.com driver ID')]\n",
                        "[('p', 'http://www.wikidata.org/prop/direct/P856'), ('name', 'official website')]\n",
                        "[('p', 'http://www.wikidata.org/prop/direct/P859'), ('name', 'sponsor')]\n",
                        "[('p', 'http://www.wikidata.org/prop/direct/P8687'), ('name', 'social media followers')]\n",
                        "[('p', 'http://www.wikidata.org/prop/direct/P8854'), ('name', 'Salzburgwiki ID')]\n",
                        "[('p', 'http://www.wikidata.org/prop/direct/P9058'), ('name', 'Fichier des personnes d\u00e9c\u00e9d\u00e9es ID (matchID)')]\n",
                        "[('p', 'http://www.wikidata.org/prop/direct/P910'), ('name', \"topic's main category\")]\n",
                        "[('p', 'http://www.wikidata.org/prop/direct/P935'), ('name', 'Commons gallery')]\n",
                        "[('p', 'http://www.wikidata.org/prop/direct/P937'), ('name', 'work location')]\n",
                        "[('p', 'http://www.wikidata.org/prop/direct/P9404'), ('name', 'OFDb person ID')]\n",
                        "[('p', 'http://www.wikidata.org/prop/direct/P950'), ('name', 'Biblioteca Nacional de Espa\u00f1a ID')]\n",
                        "[('p', 'http://www.wikidata.org/prop/direct/P9743'), ('name', 'Podchaser creator ID')]\n",
                        "[('p', 'http://www.wikidata.org/prop/direct/P9807'), ('name', 'SNK ID')]\n",
                        "[('p', 'http://www.wikidata.org/prop/direct/P8017'), ('name', 'generational suffix')]\n",
                        "[('p', 'http://www.wikidata.org/prop/direct/P8603'), ('name', 'Istrapedia ID')]\n",
                        "[('p', 'http://www.wikidata.org/prop/direct/P6585'), ('name', 'Directorio Legislativo ID')]\n",
                        "[('p', 'http://www.wikidata.org/prop/direct/P4453'), ('name', 'Argentine Senate member ID')]\n",
                        "[('p', 'http://www.wikidata.org/prop/direct/P4398'), ('name', \"Canada's Sports Hall of Fame athlete ID\")]\n",
                        "[('p', 'http://www.wikidata.org/prop/direct/P4374'), ('name', 'New Mexico Sports Hall of Fame ID')]\n",
                        "[('p', 'http://www.wikidata.org/prop/direct/P1225'), ('name', 'U.S. National Archives Identifier')]\n",
                        "[('p', 'http://www.wikidata.org/prop/direct/P1266'), ('name', 'AlloCin\u00e9 person ID')]\n",
                        "[('p', 'http://www.wikidata.org/prop/direct/P1350'), ('name', 'number of matches played/races/starts')]\n",
                        "[('p', 'http://www.wikidata.org/prop/direct/P1375'), ('name', 'NSK ID')]\n",
                        "[('p', 'http://www.wikidata.org/prop/direct/P138'), ('name', 'named after')]\n",
                        "[('p', 'http://www.wikidata.org/prop/direct/P1411'), ('name', 'nominated for')]\n",
                        "[('p', 'http://www.wikidata.org/prop/direct/P1472'), ('name', 'Commons Creator page')]\n",
                        "[('p', 'http://www.wikidata.org/prop/direct/P154'), ('name', 'logo image')]\n",
                        "[('p', 'http://www.wikidata.org/prop/direct/P1986'), ('name', 'Biographical Dictionary of Italian People ID')]\n",
                        "[('p', 'http://www.wikidata.org/prop/direct/P2094'), ('name', 'competition class')]\n",
                        "[('p', 'http://www.wikidata.org/prop/direct/P2168'), ('name', 'Swedish Film Database person ID')]\n",
                        "[('p', 'http://www.wikidata.org/prop/direct/P2435'), ('name', 'PORT person ID')]\n",
                        "[('p', 'http://www.wikidata.org/prop/direct/P25'), ('name', 'mother')]\n",
                        "[('p', 'http://www.wikidata.org/prop/direct/P2604'), ('name', 'Kinopoisk person ID')]\n",
                        "[('p', 'http://www.wikidata.org/prop/direct/P2671'), ('name', 'Google Knowledge Graph ID')]\n",
                        "[('p', 'http://www.wikidata.org/prop/direct/P3065'), ('name', 'RERO ID')]\n",
                        "[('p', 'http://www.wikidata.org/prop/direct/P3388'), ('name', 'LittleSis people ID')]\n",
                        "[('p', 'http://www.wikidata.org/prop/direct/P3509'), ('name', 'Dagens Nyheter topic ID')]\n",
                        "[('p', 'http://www.wikidata.org/prop/direct/P3553'), ('name', 'Zhihu topic ID')]\n",
                        "[('p', 'http://www.wikidata.org/prop/direct/P3786'), ('name', 'Danskefilm person ID')]\n",
                        "[('p', 'http://www.wikidata.org/prop/direct/P3788'), ('name', 'BNMM authority ID')]\n",
                        "[('p', 'http://www.wikidata.org/prop/direct/P3794'), ('name', 'Dictionary of Sydney ID')]\n",
                        "[('p', 'http://www.wikidata.org/prop/direct/P3913'), ('name', 'MobyGames developer ID')]\n",
                        "[('p', 'http://www.wikidata.org/prop/direct/P4418'), ('name', 'New Zealand Sports Hall of Fame ID')]\n",
                        "[('p', 'http://www.wikidata.org/prop/direct/P4666'), ('name', 'CineMagia person ID')]\n",
                        "[('p', 'http://www.wikidata.org/prop/direct/P4789'), ('name', \"Who's Who UK ID\")]\n",
                        "[('p', 'http://www.wikidata.org/prop/direct/P4854'), ('name', 'Uppslagsverket Finland ID')]\n",
                        "[('p', 'http://www.wikidata.org/prop/direct/P5007'), ('name', 'Behind The Voice Actors person ID')]\n",
                        "[('p', 'http://www.wikidata.org/prop/direct/P5247'), ('name', 'Giant Bomb ID')]\n",
                        "[('p', 'http://www.wikidata.org/prop/direct/P5395'), ('name', 'Canadian Encyclopedia article ID')]\n",
                        "[('p', 'http://www.wikidata.org/prop/direct/P5513'), ('name', \"Enciclop\u00e8dia de l'Esport Catal\u00e0 ID\")]\n",
                        "[('p', 'http://www.wikidata.org/prop/direct/P5796'), ('name', 'Internet Game Database person ID')]\n",
                        "[('p', 'http://www.wikidata.org/prop/direct/P6544'), ('name', 'total points in career')]\n",
                        "[('p', 'http://www.wikidata.org/prop/direct/P6573'), ('name', 'Klexikon article ID')]\n",
                        "[('p', 'http://www.wikidata.org/prop/direct/P6683'), ('name', 'Alexander Turnbull Library ID')]\n",
                        "[('p', 'http://www.wikidata.org/prop/direct/P6849'), ('name', 'DR topic ID')]\n",
                        "[('p', 'http://www.wikidata.org/prop/direct/P7157'), ('name', 'The Top Tens ID')]\n",
                        "[('p', 'http://www.wikidata.org/prop/direct/P7349'), ('name', 'Gazetteer for Scotland person ID')]\n",
                        "[('p', 'http://www.wikidata.org/prop/direct/P7818'), ('name', 'French Vikidia ID')]\n",
                        "[('p', 'http://www.wikidata.org/prop/direct/P7822'), ('name', 'Italian Vikidia ID')]\n",
                        "[('p', 'http://www.wikidata.org/prop/direct/P8349'), ('name', 'Proleksis enciklopedija ID')]\n",
                        "[('p', 'http://www.wikidata.org/prop/direct/P8980'), ('name', 'KANTO ID')]\n",
                        "[('p', 'http://www.wikidata.org/prop/direct/P902'), ('name', 'HDS ID')]\n",
                        "[('p', 'http://www.wikidata.org/prop/direct/P9324'), ('name', 'BiographySampo person ID')]\n",
                        "[('p', 'http://www.wikidata.org/prop/direct/P9352'), ('name', 'Portrait Archive ID')]\n",
                        "[('p', 'http://www.wikidata.org/prop/direct/P9368'), ('name', 'CNA topic ID')]\n",
                        "[('p', 'http://www.wikidata.org/prop/direct/P949'), ('name', 'National Library of Israel ID')]\n",
                        "[('p', 'http://www.wikidata.org/prop/direct/P97'), ('name', 'noble title')]\n",
                        "[('p', 'http://www.wikidata.org/prop/direct/P9775'), ('name', \"Treccani's Lessico del XXI Secolo ID\")]\n",
                        "[('p', 'http://www.wikidata.org/prop/direct/P3074'), ('name', \"Grace's Guide ID\")]\n",
                        "[('p', 'http://www.wikidata.org/prop/direct/P511'), ('name', 'honorific prefix')]\n",
                        "[('p', 'http://www.wikidata.org/prop/direct/P6758'), ('name', 'supported sports team')]\n",
                        "[('p', 'http://www.wikidata.org/prop/direct/P1707'), ('name', 'DAAO ID')]\n",
                        "[('p', 'http://www.wikidata.org/prop/direct/P4415'), ('name', 'Sport Australia Hall of Fame inductee ID')]\n",
                        "[('p', 'http://www.wikidata.org/prop/direct/P4416'), ('name', 'Panth\u00e9on des sports du Qu\u00e9bec ID')]\n",
                        "[('p', 'http://www.wikidata.org/prop/direct/P3448'), ('name', 'stepparent')]\n",
                        "[('p', 'http://www.wikidata.org/prop/direct/P101'), ('name', 'field of work')]\n",
                        "[('p', 'http://www.wikidata.org/prop/direct/P1050'), ('name', 'medical condition')]\n",
                        "[('p', 'http://www.wikidata.org/prop/direct/P1346'), ('name', 'winner')]\n",
                        "[('p', 'http://www.wikidata.org/prop/direct/P1368'), ('name', 'LNB ID')]\n",
                        "[('p', 'http://www.wikidata.org/prop/direct/P1447'), ('name', 'Sports-Reference.com Olympic athlete ID')]\n",
                        "[('p', 'http://www.wikidata.org/prop/direct/P1576'), ('name', 'lifestyle')]\n",
                        "[('p', 'http://www.wikidata.org/prop/direct/P245'), ('name', 'Union List of Artist Names ID')]\n",
                        "[('p', 'http://www.wikidata.org/prop/direct/P2868'), ('name', 'subject has role')]\n",
                        "[('p', 'http://www.wikidata.org/prop/direct/P3029'), ('name', 'UK National Archives ID')]\n",
                        "[('p', 'http://www.wikidata.org/prop/direct/P3716'), ('name', 'social classification')]\n",
                        "[('p', 'http://www.wikidata.org/prop/direct/P3846'), ('name', 'DBC author ID')]\n",
                        "[('p', 'http://www.wikidata.org/prop/direct/P3987'), ('name', 'SHARE Catalogue author ID')]\n",
                        "[('p', 'http://www.wikidata.org/prop/direct/P53'), ('name', 'family')]\n",
                        "[('p', 'http://www.wikidata.org/prop/direct/P5491'), ('name', \"BD Gest' author ID\")]\n",
                        "[('p', 'http://www.wikidata.org/prop/direct/P6234'), ('name', 'Biographie nationale de Belgique ID')]\n",
                        "[('p', 'http://www.wikidata.org/prop/direct/P6723'), ('name', 'BlackPast.org ID')]\n",
                        "[('p', 'http://www.wikidata.org/prop/direct/P742'), ('name', 'pseudonym')]\n",
                        "[('p', 'http://www.wikidata.org/prop/direct/P8125'), ('name', 'Fandango person ID')]\n",
                        "[('p', 'http://www.wikidata.org/prop/direct/P8286'), ('name', 'Olympedia people ID')]\n",
                        "[('p', 'http://www.wikidata.org/prop/direct/P8309'), ('name', 'Yle topic ID')]\n",
                        "[('p', 'http://www.wikidata.org/prop/direct/P8672'), ('name', 'Twitter topic ID')]\n",
                        "[('p', 'http://www.wikidata.org/prop/direct/P8852'), ('name', 'facial hair')]\n",
                        "[('p', 'http://www.wikidata.org/prop/direct/P2984'), ('name', 'Snapchat username')]\n",
                        "[('p', 'http://www.wikidata.org/prop/direct/P3928'), ('name', 'MotoGP racer ID')]\n",
                        "[('p', 'http://www.wikidata.org/prop/direct/P3949'), ('name', 'Juwra.com ID')]\n",
                        "[('p', 'http://www.wikidata.org/prop/direct/P7545'), ('name', 'askArt person ID')]\n",
                        "[('p', 'http://www.wikidata.org/prop/direct/P4365'), ('name', 'Hawai\u2018i Sports Hall of Fame ID')]\n",
                        "[('p', 'http://www.wikidata.org/prop/direct/P136'), ('name', 'genre')]\n",
                        "[('p', 'http://www.wikidata.org/prop/direct/P1367'), ('name', 'Art UK artist ID')]\n",
                        "[('p', 'http://www.wikidata.org/prop/direct/P1618'), ('name', 'sport number')]\n",
                        "[('p', 'http://www.wikidata.org/prop/direct/P2042'), ('name', 'Artsy artist ID')]\n",
                        "[('p', 'http://www.wikidata.org/prop/direct/P2632'), ('name', 'place of detention')]\n",
                        "[('p', 'http://www.wikidata.org/prop/direct/P2750'), ('name', \"Photographers' Identities Catalog ID\")]\n",
                        "[('p', 'http://www.wikidata.org/prop/direct/P2847'), ('name', 'Google+ ID')]\n",
                        "[('p', 'http://www.wikidata.org/prop/direct/P3040'), ('name', 'SoundCloud ID')]\n",
                        "[('p', 'http://www.wikidata.org/prop/direct/P3171'), ('name', 'Olympic.org athlete ID (archived version)')]\n",
                        "[('p', 'http://www.wikidata.org/prop/direct/P3782'), ('name', 'Artnet artist ID')]\n",
                        "[('p', 'http://www.wikidata.org/prop/direct/P3901'), ('name', 'ADAGP artist ID')]\n",
                        "[('p', 'http://www.wikidata.org/prop/direct/P4459'), ('name', 'Spanish Biographical Dictionary ID')]\n",
                        "[('p', 'http://www.wikidata.org/prop/direct/P4663'), ('name', 'DACS ID')]\n",
                        "[('p', 'http://www.wikidata.org/prop/direct/P4927'), ('name', 'Invaluable.com person ID')]\n",
                        "[('p', 'http://www.wikidata.org/prop/direct/P5587'), ('name', 'Libris-URI')]\n",
                        "[('p', 'http://www.wikidata.org/prop/direct/P5815'), ('name', 'Olympics.com athlete ID')]\n",
                        "[('p', 'http://www.wikidata.org/prop/direct/P6275'), ('name', 'copyright representative')]\n",
                        "[('p', 'http://www.wikidata.org/prop/direct/P6379'), ('name', 'has works in the collection')]\n",
                        "[('p', 'http://www.wikidata.org/prop/direct/P650'), ('name', 'RKDartists ID')]\n",
                        "[('p', 'http://www.wikidata.org/prop/direct/P6578'), ('name', 'MutualArt artist ID')]\n",
                        "[('p', 'http://www.wikidata.org/prop/direct/P6886'), ('name', 'writing language')]\n",
                        "[('p', 'http://www.wikidata.org/prop/direct/P7763'), ('name', 'copyright status as a creator')]\n",
                        "[('p', 'http://www.wikidata.org/prop/direct/P906'), ('name', 'SELIBR ID')]\n",
                        "[('p', 'http://www.wikidata.org/prop/direct/P94'), ('name', 'coat of arms image')]\n",
                        "[('p', 'http://www.wikidata.org/prop/direct/P973'), ('name', 'described at URL')]\n",
                        "[('p', 'http://www.wikidata.org/prop/direct/P2015'), ('name', 'Hansard (1803\u20132005) ID')]\n",
                        "[('p', 'http://www.wikidata.org/prop/direct/P3857'), ('name', 'Cinenacional.com person ID')]\n",
                        "[('p', 'http://www.wikidata.org/prop/direct/P5797'), ('name', 'Twitch channel ID')]\n",
                        "[('p', 'http://www.wikidata.org/prop/direct/P1814'), ('name', 'name in kana')]\n",
                        "[('p', 'http://www.wikidata.org/prop/direct/P1969'), ('name', 'MovieMeter director ID (former scheme)')]\n",
                        "[('p', 'http://www.wikidata.org/prop/direct/P2626'), ('name', 'Danish National Filmography person ID')]\n",
                        "[('p', 'http://www.wikidata.org/prop/direct/P2804'), ('name', 'World Sailing member ID')]\n",
                        "[('p', 'http://www.wikidata.org/prop/direct/P8172'), ('name', 'Sejm-Wielki.pl profile ID')]\n",
                        "[('p', 'http://www.wikidata.org/prop/direct/P1303'), ('name', 'instrument')]\n",
                        "[('p', 'http://www.wikidata.org/prop/direct/P1728'), ('name', 'AllMusic artist ID')]\n",
                        "[('p', 'http://www.wikidata.org/prop/direct/P1801'), ('name', 'commemorative plaque image')]\n",
                        "[('p', 'http://www.wikidata.org/prop/direct/P2032'), ('name', 'work period (end)')]\n",
                        "[('p', 'http://www.wikidata.org/prop/direct/P2772'), ('name', 'FIS alpine skier ID')]\n",
                        "[('p', 'http://www.wikidata.org/prop/direct/P2966'), ('name', 'National Library of Wales Authority ID')]\n",
                        "[('p', 'http://www.wikidata.org/prop/direct/P3619'), ('name', 'Ski-DB skier ID')]\n",
                        "[('p', 'http://www.wikidata.org/prop/direct/P4823'), ('name', 'American National Biography ID')]\n",
                        "[('p', 'http://www.wikidata.org/prop/direct/P7704'), ('name', 'Europeana entity')]\n",
                        "[('p', 'http://www.wikidata.org/prop/direct/P1648'), ('name', 'Dictionary of Welsh Biography ID')]\n",
                        "[('p', 'http://www.wikidata.org/prop/direct/P9160'), ('name', 'Biographical Dictionary of the Czech Lands ID')]\n",
                        "[('p', 'http://www.wikidata.org/prop/direct/P8116'), ('name', 'Encyclopedia of Brno History person ID')]\n",
                        "[('p', 'http://www.wikidata.org/prop/direct/P410'), ('name', 'military rank')]\n",
                        "[('p', 'http://www.wikidata.org/prop/direct/P8578'), ('name', 'TracesOfWar person ID')]\n"
                    ]
                },
                {
                    "data": {
                        "text/plain": [
                            "308"
                        ]
                    },
                    "execution_count": 109,
                    "metadata": {},
                    "output_type": "execute_result"
                }
            ],
            "source": [
                "#let's try and see if there is a more general property for alive or dead\n",
                "q = f\"\"\"\n",
                "select distinct ?p ?name where{{\n",
                "?s wdt:P106 wd:Q10841764 .\n",
                "?s ?p ?o .\n",
                "?p <http://schema.org/name> ?name .\n",
                "}}\n",
                "\"\"\"\n",
                "run_query(q)"
            ]
        },
        {
            "cell_type": "code",
            "execution_count": 110,
            "id": "6120c0b6-6d4b-4728-ad9a-9caf24ea6451",
            "metadata": {},
            "outputs": [
                {
                    "name": "stdout",
                    "output_type": "stream",
                    "text": [
                        "[('p', 'http://www.wikidata.org/prop/direct/P1196'), ('name', 'manner of death')]\n",
                        "[('p', 'http://www.wikidata.org/prop/direct/P20'), ('name', 'place of death')]\n",
                        "[('p', 'http://www.wikidata.org/prop/direct/P509'), ('name', 'cause of death')]\n",
                        "[('p', 'http://www.wikidata.org/prop/direct/P570'), ('name', 'date of death')]\n"
                    ]
                },
                {
                    "data": {
                        "text/plain": [
                            "4"
                        ]
                    },
                    "execution_count": 110,
                    "metadata": {},
                    "output_type": "execute_result"
                }
            ],
            "source": [
                "#why couldn't i find \"date of death\" with this regex?\n",
                "q = f\"\"\"\n",
                "select distinct ?p ?name where{{\n",
                "?s wdt:P106 wd:Q10841764 .\n",
                "?s ?p ?o .\n",
                "?p <http://schema.org/name> ?name .\n",
                "filter regex(?name, '.*(death).*', 'i') .\n",
                "}}\n",
                "\"\"\"\n",
                "run_query(q)"
            ]
        },
        {
            "cell_type": "code",
            "execution_count": 111,
            "id": "c1667e41-5944-4de3-8a00-f6d5e11b9103",
            "metadata": {},
            "outputs": [
                {
                    "name": "stdout",
                    "output_type": "stream",
                    "text": [
                        "[('p', 'http://www.wikidata.org/prop/direct/P1196'), ('name', 'manner of death')]\n",
                        "[('p', 'http://www.wikidata.org/prop/direct/P20'), ('name', 'place of death')]\n",
                        "[('p', 'http://www.wikidata.org/prop/direct/P349'), ('name', 'National Diet Library ID')]\n",
                        "[('p', 'http://www.wikidata.org/prop/direct/P5019'), ('name', 'Brockhaus Enzyklop\u00e4die online ID')]\n",
                        "[('p', 'http://www.wikidata.org/prop/direct/P509'), ('name', 'cause of death')]\n",
                        "[('p', 'http://www.wikidata.org/prop/direct/P570'), ('name', 'date of death')]\n"
                    ]
                },
                {
                    "data": {
                        "text/plain": [
                            "6"
                        ]
                    },
                    "execution_count": 111,
                    "metadata": {},
                    "output_type": "execute_result"
                }
            ],
            "source": [
                "#why couldn't i find \"date of death\" with this regex?\n",
                "q = f\"\"\"\n",
                "select distinct ?p ?name where{{\n",
                "?s wdt:P106 wd:Q10841764 .\n",
                "?s ?p ?o .\n",
                "?p <http://schema.org/name> ?name .\n",
                "filter regex(?name, '.*(death|die).*', 'i') .\n",
                "}}\n",
                "\"\"\"\n",
                "run_query(q)"
            ]
        },
        {
            "cell_type": "code",
            "execution_count": 112,
            "id": "f2ad8a09-c504-450e-8032-876d4d66d3b5",
            "metadata": {},
            "outputs": [
                {
                    "name": "stdout",
                    "output_type": "stream",
                    "text": [
                        "Empty\n"
                    ]
                },
                {
                    "data": {
                        "text/plain": [
                            "0"
                        ]
                    },
                    "execution_count": 112,
                    "metadata": {},
                    "output_type": "execute_result"
                }
            ],
            "source": [
                "#let's select all alive pilots for each country\n",
                "dateDeath = 'wdt:P570'\n",
                "q = f\"\"\"\n",
                "select ?countryName (count(*) as ?howMany) where{{\n",
                "?driver wdt:P106 wd:Q10841764 .\n",
                "?driver wdt:P17 ?country .\n",
                "?country <http://schema.org/name> ?countryName .\n",
                "filter not exists\n",
                "    {{\n",
                "        ?driver wdt:P570 ?date .\n",
                "    }}\n",
                "}}\n",
                "group by ?countryName\n",
                "order by desc(?howMany)\n",
                "\"\"\"\n",
                "run_query(q)"
            ]
        },
        {
            "cell_type": "code",
            "execution_count": 113,
            "id": "66b9e878-1178-4359-b3eb-08c04ed44fa9",
            "metadata": {},
            "outputs": [
                {
                    "name": "stdout",
                    "output_type": "stream",
                    "text": [
                        "Empty\n"
                    ]
                },
                {
                    "data": {
                        "text/plain": [
                            "0"
                        ]
                    },
                    "execution_count": 113,
                    "metadata": {},
                    "output_type": "execute_result"
                }
            ],
            "source": [
                "#let's remove the filter\n",
                "dateDeath = 'wdt:P570'\n",
                "q = f\"\"\"\n",
                "select ?countryName (count(*) as ?howMany) where{{\n",
                "?driver wdt:P106 wd:Q10841764 .\n",
                "?driver wdt:P17 ?country .\n",
                "?country <http://schema.org/name> ?countryName .\n",
                "}}\n",
                "group by ?countryName\n",
                "order by desc(?howMany)\n",
                "\"\"\"\n",
                "run_query(q)"
            ]
        },
        {
            "cell_type": "code",
            "execution_count": 114,
            "id": "cb6c400a-f025-497b-bd6f-f462876c17b8",
            "metadata": {},
            "outputs": [
                {
                    "name": "stdout",
                    "output_type": "stream",
                    "text": [
                        "[('countryName', 'United Kingdom'), ('howMany', '62')]\n",
                        "[('countryName', 'Germany'), ('howMany', '26')]\n",
                        "[('countryName', 'United States of America'), ('howMany', '25')]\n",
                        "[('countryName', 'Belgium'), ('howMany', '14')]\n",
                        "[('countryName', 'South Africa'), ('howMany', '11')]\n",
                        "[('countryName', 'Kingdom of the Netherlands'), ('howMany', '11')]\n",
                        "[('countryName', 'Spain'), ('howMany', '9')]\n",
                        "[('countryName', 'Italy'), ('howMany', '9')]\n",
                        "[('countryName', 'Austria'), ('howMany', '9')]\n",
                        "[('countryName', 'Finland'), ('howMany', '8')]\n",
                        "[('countryName', 'Canada'), ('howMany', '7')]\n",
                        "[('countryName', 'France'), ('howMany', '6')]\n",
                        "[('countryName', 'Argentina'), ('howMany', '6')]\n",
                        "[('countryName', 'Ireland'), ('howMany', '5')]\n",
                        "[('countryName', 'Brazil'), ('howMany', '3')]\n",
                        "[('countryName', 'Portugal'), ('howMany', '3')]\n",
                        "[('countryName', 'Poland'), ('howMany', '2')]\n",
                        "[('countryName', 'Australia'), ('howMany', '2')]\n",
                        "[('countryName', 'Mexico'), ('howMany', '2')]\n",
                        "[('countryName', 'Thailand'), ('howMany', '2')]\n",
                        "[('countryName', 'Denmark'), ('howMany', '2')]\n",
                        "[('countryName', 'Northern Ireland'), ('howMany', '1')]\n",
                        "[('countryName', 'Venezuela'), ('howMany', '1')]\n",
                        "[('countryName', 'Monaco'), ('howMany', '1')]\n",
                        "[('countryName', 'Japan'), ('howMany', '1')]\n",
                        "[('countryName', 'Romania'), ('howMany', '1')]\n",
                        "[('countryName', 'Switzerland'), ('howMany', '1')]\n"
                    ]
                },
                {
                    "data": {
                        "text/plain": [
                            "27"
                        ]
                    },
                    "execution_count": 114,
                    "metadata": {},
                    "output_type": "execute_result"
                }
            ],
            "source": [
                "#a person has another property to state the country of citizenship\n",
                "#from vettel we have that\n",
                "citizenship = 'wdt:P27'\n",
                "q = f\"\"\"\n",
                "select ?countryName (count(*) as ?howMany) where{{\n",
                "?driver wdt:P106 wd:Q10841764 .\n",
                "?driver wdt:P27 ?country .\n",
                "?country <http://schema.org/name> ?countryName .\n",
                "filter not exists\n",
                "    {{\n",
                "        ?driver wdt:P570 ?date .\n",
                "    }}\n",
                "}}\n",
                "group by ?countryName\n",
                "order by desc(?howMany)\n",
                "\"\"\"\n",
                "run_query(q)"
            ]
        },
        {
            "cell_type": "code",
            "execution_count": 115,
            "id": "08619ce8-4e64-4f02-8733-a9b79983faef",
            "metadata": {},
            "outputs": [
                {
                    "name": "stdout",
                    "output_type": "stream",
                    "text": [
                        "[('countryName', 'United Kingdom'), ('howMany', '23')]\n",
                        "[('countryName', 'Italy'), ('howMany', '15')]\n",
                        "[('countryName', 'France'), ('howMany', '6')]\n",
                        "[('countryName', 'Netherlands'), ('howMany', '2')]\n",
                        "[('countryName', 'Germany'), ('howMany', '2')]\n",
                        "[('countryName', 'Russia'), ('howMany', '2')]\n",
                        "[('countryName', 'Japan'), ('howMany', '2')]\n",
                        "[('countryName', 'Australia'), ('howMany', '1')]\n",
                        "[('countryName', 'Spain'), ('howMany', '1')]\n",
                        "[('countryName', 'Malaysia'), ('howMany', '1')]\n",
                        "[('countryName', 'Switzerland'), ('howMany', '1')]\n"
                    ]
                },
                {
                    "data": {
                        "text/plain": [
                            "11"
                        ]
                    },
                    "execution_count": 115,
                    "metadata": {},
                    "output_type": "execute_result"
                }
            ],
            "source": [
                "#now let's check how many f1 teams there are in each country\n",
                "q = f\"\"\"\n",
                "select ?countryName (count(*) as ?howMany) where{{\n",
                "?team wdt:P31 wd:Q10497835 .\n",
                "?team wdt:P17 ?country .\n",
                "?country <http://schema.org/name> ?countryName .\n",
                "filter not exists\n",
                "    {{\n",
                "        ?team wdt:P576 ?d .\n",
                "    }}\n",
                "}}\n",
                "group by ?countryName\n",
                "order by desc(?howMany)\n",
                "\"\"\"\n",
                "run_query(q)"
            ]
        },
        {
            "cell_type": "code",
            "execution_count": 116,
            "id": "1c07dcbc-74fc-41a9-b98d-16fe7e685c1f",
            "metadata": {},
            "outputs": [
                {
                    "name": "stdout",
                    "output_type": "stream",
                    "text": [
                        "[('countryName', 'United Kingdom'), ('howMany', '26')]\n",
                        "[('countryName', 'Italy'), ('howMany', '16')]\n",
                        "[('countryName', 'France'), ('howMany', '6')]\n",
                        "[('countryName', 'Netherlands'), ('howMany', '2')]\n",
                        "[('countryName', 'Germany'), ('howMany', '2')]\n",
                        "[('countryName', 'Russia'), ('howMany', '2')]\n",
                        "[('countryName', 'Japan'), ('howMany', '2')]\n",
                        "[('countryName', 'Australia'), ('howMany', '1')]\n",
                        "[('countryName', 'Spain'), ('howMany', '1')]\n",
                        "[('countryName', 'Malaysia'), ('howMany', '1')]\n",
                        "[('countryName', 'Switzerland'), ('howMany', '1')]\n"
                    ]
                },
                {
                    "data": {
                        "text/plain": [
                            "11"
                        ]
                    },
                    "execution_count": 116,
                    "metadata": {},
                    "output_type": "execute_result"
                }
            ],
            "source": [
                "#let's check instead without filtering out the dissolved teams\n",
                "q = f\"\"\"\n",
                "select ?countryName (count(*) as ?howMany) where{{\n",
                "?team wdt:P31 wd:Q10497835 .\n",
                "?team wdt:P17 ?country .\n",
                "?country <http://schema.org/name> ?countryName .\n",
                "}}\n",
                "group by ?countryName\n",
                "order by desc(?howMany)\n",
                "\"\"\"\n",
                "run_query(q)"
            ]
        },
        {
            "cell_type": "code",
            "execution_count": 117,
            "id": "3e86a345-3232-497c-92a9-45f41471a6da",
            "metadata": {},
            "outputs": [
                {
                    "name": "stdout",
                    "output_type": "stream",
                    "text": [
                        "[('teamName', 'Lola Cars'), ('date', '2012-01-01T00:00:00Z')]\n",
                        "[('teamName', 'Enzo Coloni Racing Car Systems'), ('date', '1991-01-01T00:00:00Z')]\n",
                        "[('teamName', 'Simtek'), ('date', '1995-01-01T00:00:00Z')]\n",
                        "[('teamName', 'Brawn GP'), ('date', '2009-01-01T00:00:00Z')]\n",
                        "[('teamName', 'Alfa Romeo F1 team (1950-51)'), ('date', '1951-01-01T00:00:00Z')]\n"
                    ]
                },
                {
                    "data": {
                        "text/plain": [
                            "5"
                        ]
                    },
                    "execution_count": 117,
                    "metadata": {},
                    "output_type": "execute_result"
                }
            ],
            "source": [
                "#let's see which teams dissolved\n",
                "q = f\"\"\"\n",
                "select ?teamName ?date where{{\n",
                "?team wdt:P31 wd:Q10497835 ;\n",
                "    <http://schema.org/name> ?teamName ;\n",
                "    wdt:P576 ?date .\n",
                "}}\n",
                "\"\"\"\n",
                "run_query(q)"
            ]
        },
        {
            "cell_type": "code",
            "execution_count": 119,
            "id": "23c1f885-66b8-44ac-a642-aff8dd18a7d8",
            "metadata": {},
            "outputs": [
                {
                    "name": "stdout",
                    "output_type": "stream",
                    "text": [
                        "[('driverName', 'Will Stevens'), ('teamName', 'Manor Motorsport'), ('countryName', 'United Kingdom')]\n",
                        "[('driverName', 'David Coulthard'), ('teamName', 'Red Bull Racing'), ('countryName', 'United Kingdom')]\n",
                        "[('driverName', 'Alexander Albon'), ('teamName', 'Red Bull Racing'), ('countryName', 'United Kingdom')]\n",
                        "[('driverName', 'Jackie Stewart'), ('teamName', 'Tyrrell Racing'), ('countryName', 'United Kingdom')]\n",
                        "[('driverName', 'Ivor Bueb'), ('teamName', 'British Racing Partnership'), ('countryName', 'United Kingdom')]\n",
                        "[('driverName', 'Innes Ireland'), ('teamName', 'British Racing Partnership'), ('countryName', 'United Kingdom')]\n",
                        "[('driverName', 'Trevor Taylor'), ('teamName', 'British Racing Partnership'), ('countryName', 'United Kingdom')]\n",
                        "[('driverName', 'Henry Taylor'), ('teamName', 'British Racing Partnership'), ('countryName', 'United Kingdom')]\n",
                        "[('driverName', 'Tom Bridger'), ('teamName', 'British Racing Partnership'), ('countryName', 'United Kingdom')]\n",
                        "[('driverName', 'Cliff Allison'), ('teamName', 'British Racing Partnership'), ('countryName', 'United Kingdom')]\n",
                        "[('driverName', 'Enrico Bertaggia'), ('teamName', 'Forti'), ('countryName', 'Italy')]\n",
                        "[('driverName', 'John Surtees'), ('teamName', 'Cooper Car Company'), ('countryName', 'United Kingdom')]\n",
                        "[('driverName', 'Mike MacDowel'), ('teamName', 'Cooper Car Company'), ('countryName', 'United Kingdom')]\n",
                        "[('driverName', 'Roy Salvadori'), ('teamName', 'Cooper Car Company'), ('countryName', 'United Kingdom')]\n",
                        "[('driverName', 'Richard Attwood'), ('teamName', 'Cooper Car Company'), ('countryName', 'United Kingdom')]\n",
                        "[('driverName', 'Ron Flockhart'), ('teamName', 'Cooper Car Company'), ('countryName', 'United Kingdom')]\n",
                        "[('driverName', 'Ian Burgess'), ('teamName', 'Cooper Car Company'), ('countryName', 'United Kingdom')]\n",
                        "[('driverName', 'Jack Fairman'), ('teamName', 'Cooper Car Company'), ('countryName', 'United Kingdom')]\n",
                        "[('driverName', 'Les Leston'), ('teamName', 'Cooper Car Company'), ('countryName', 'United Kingdom')]\n",
                        "[('driverName', 'Graham Hill'), ('teamName', 'British Racing Motors'), ('countryName', 'United Kingdom')]\n",
                        "[('driverName', 'John Surtees'), ('teamName', 'British Racing Motors'), ('countryName', 'United Kingdom')]\n",
                        "[('driverName', 'Tony Brooks'), ('teamName', 'British Racing Motors'), ('countryName', 'United Kingdom')]\n",
                        "[('driverName', 'Jackie Stewart'), ('teamName', 'British Racing Motors'), ('countryName', 'United Kingdom')]\n",
                        "[('driverName', 'Roy Salvadori'), ('teamName', 'British Racing Motors'), ('countryName', 'United Kingdom')]\n",
                        "[('driverName', 'Jackie Oliver'), ('teamName', 'British Racing Motors'), ('countryName', 'United Kingdom')]\n",
                        "[('driverName', 'Richard Attwood'), ('teamName', 'British Racing Motors'), ('countryName', 'United Kingdom')]\n",
                        "[('driverName', 'Ron Flockhart'), ('teamName', 'British Racing Motors'), ('countryName', 'United Kingdom')]\n",
                        "[('driverName', 'Peter Walker'), ('teamName', 'British Racing Motors'), ('countryName', 'United Kingdom')]\n",
                        "[('driverName', 'Jack Fairman'), ('teamName', 'British Racing Motors'), ('countryName', 'United Kingdom')]\n",
                        "[('driverName', 'Mike Spence'), ('teamName', 'British Racing Motors'), ('countryName', 'United Kingdom')]\n",
                        "[('driverName', 'Les Leston'), ('teamName', 'British Racing Motors'), ('countryName', 'United Kingdom')]\n",
                        "[('driverName', 'Mike Sparken'), ('teamName', 'Gordini'), ('countryName', 'France')]\n",
                        "[('driverName', 'Robin Montgomerie-Charrington'), ('teamName', 'Aston Butterworth'), ('countryName', 'United Kingdom')]\n",
                        "[('driverName', 'Ivor Bueb'), ('teamName', 'Connaught Engineering'), ('countryName', 'United Kingdom')]\n",
                        "[('driverName', 'Roy Salvadori'), ('teamName', 'Connaught Engineering'), ('countryName', 'United Kingdom')]\n",
                        "[('driverName', 'Ron Flockhart'), ('teamName', 'Connaught Engineering'), ('countryName', 'United Kingdom')]\n",
                        "[('driverName', 'Peter Walker'), ('teamName', 'Connaught Engineering'), ('countryName', 'United Kingdom')]\n",
                        "[('driverName', 'Jack Fairman'), ('teamName', 'Connaught Engineering'), ('countryName', 'United Kingdom')]\n",
                        "[('driverName', 'Les Leston'), ('teamName', 'Connaught Engineering'), ('countryName', 'United Kingdom')]\n",
                        "[('driverName', 'Joseph Siffert'), ('teamName', 'Scuderia Filipinetti'), ('countryName', 'Switzerland')]\n",
                        "[('driverName', 'Ivor Bueb'), ('teamName', 'Gilby Engineering'), ('countryName', 'United Kingdom')]\n",
                        "[('driverName', 'Roy Salvadori'), ('teamName', 'Gilby Engineering'), ('countryName', 'United Kingdom')]\n",
                        "[('driverName', 'Keith Greene'), ('teamName', 'Gilby Engineering'), ('countryName', 'United Kingdom')]\n",
                        "[('driverName', 'Graham Hill'), ('teamName', 'Rob Walker Racing Team'), ('countryName', 'United Kingdom')]\n",
                        "[('driverName', 'John Riseley-Prichard'), ('teamName', 'Rob Walker Racing Team'), ('countryName', 'United Kingdom')]\n",
                        "[('driverName', 'Jack Fairman'), ('teamName', 'Rob Walker Racing Team'), ('countryName', 'United Kingdom')]\n",
                        "[('driverName', 'Riccardo Patrese'), ('teamName', 'Alfa Romeo'), ('countryName', 'Italy')]\n",
                        "[('driverName', 'Mario Andretti'), ('teamName', 'Alfa Romeo'), ('countryName', 'Italy')]\n",
                        "[('driverName', 'Bruno Giacomelli'), ('teamName', 'Alfa Romeo'), ('countryName', 'Italy')]\n",
                        "[('driverName', 'Antonio Giovinazzi'), ('teamName', 'Alfa Romeo'), ('countryName', 'Italy')]\n",
                        "[('driverName', 'Arturo Merzario'), ('teamName', 'Scuderia Ferrari'), ('countryName', 'Italy')]\n",
                        "[('driverName', 'David Coulthard'), ('teamName', 'Williams Grand Prix Engineering'), ('countryName', 'United Kingdom')]\n",
                        "[('driverName', 'George Russell'), ('teamName', 'Williams Grand Prix Engineering'), ('countryName', 'United Kingdom')]\n",
                        "[('driverName', 'James Hunt'), ('teamName', 'McLaren'), ('countryName', 'United Kingdom')]\n",
                        "[('driverName', 'David Coulthard'), ('teamName', 'McLaren'), ('countryName', 'United Kingdom')]\n",
                        "[('driverName', 'Lewis Hamilton'), ('teamName', 'McLaren'), ('countryName', 'United Kingdom')]\n",
                        "[('driverName', 'Lando Norris'), ('teamName', 'McLaren'), ('countryName', 'United Kingdom')]\n",
                        "[('driverName', 'Jackie Oliver'), ('teamName', 'McLaren'), ('countryName', 'United Kingdom')]\n",
                        "[('driverName', 'Lewis Hamilton'), ('teamName', 'Mercedes'), ('countryName', 'United Kingdom')]\n",
                        "[('driverName', 'Johnny Servoz-Gavin'), ('teamName', 'Equipe Matra Sports'), ('countryName', 'France')]\n",
                        "[('driverName', 'Graham Hill'), ('teamName', 'Team Lotus'), ('countryName', 'United Kingdom')]\n",
                        "[('driverName', 'John Surtees'), ('teamName', 'Team Lotus'), ('countryName', 'United Kingdom')]\n",
                        "[('driverName', 'Innes Ireland'), ('teamName', 'Team Lotus'), ('countryName', 'United Kingdom')]\n",
                        "[('driverName', 'Trevor Taylor'), ('teamName', 'Team Lotus'), ('countryName', 'United Kingdom')]\n",
                        "[('driverName', 'Jackie Oliver'), ('teamName', 'Team Lotus'), ('countryName', 'United Kingdom')]\n",
                        "[('driverName', 'Richard Attwood'), ('teamName', 'Team Lotus'), ('countryName', 'United Kingdom')]\n",
                        "[('driverName', 'Ron Flockhart'), ('teamName', 'Team Lotus'), ('countryName', 'United Kingdom')]\n",
                        "[('driverName', 'Jim Crawford'), ('teamName', 'Team Lotus'), ('countryName', 'United Kingdom')]\n",
                        "[('driverName', 'Mike Spence'), ('teamName', 'Team Lotus'), ('countryName', 'United Kingdom')]\n",
                        "[('driverName', 'Peter Arundell'), ('teamName', 'Team Lotus'), ('countryName', 'United Kingdom')]\n",
                        "[('driverName', 'Cliff Allison'), ('teamName', 'Team Lotus'), ('countryName', 'United Kingdom')]\n",
                        "[('driverName', 'Andr\u00e9 Lotterer'), ('teamName', 'Audi'), ('countryName', 'Germany')]\n",
                        "[('driverName', 'Andr\u00e9 Lotterer'), ('teamName', 'Porsche'), ('countryName', 'Germany')]\n",
                        "[('driverName', 'Karl Kling'), ('teamName', 'D\u00fcsseldorfer Automobil- und Motorsport-Club 05'), ('countryName', 'Germany')]\n",
                        "[('driverName', 'Toni Ulmen'), ('teamName', 'D\u00fcsseldorfer Automobil- und Motorsport-Club 05'), ('countryName', 'Germany')]\n",
                        "[('driverName', 'John Surtees'), ('teamName', 'Reg Parnell Racing'), ('countryName', 'United Kingdom')]\n",
                        "[('driverName', 'Roy Salvadori'), ('teamName', 'Reg Parnell Racing'), ('countryName', 'United Kingdom')]\n",
                        "[('driverName', 'Innes Ireland'), ('teamName', 'Reg Parnell Racing'), ('countryName', 'United Kingdom')]\n",
                        "[('driverName', 'Richard Attwood'), ('teamName', 'Reg Parnell Racing'), ('countryName', 'United Kingdom')]\n",
                        "[('driverName', 'John Campbell-Jones'), ('teamName', 'Reg Parnell Racing'), ('countryName', 'United Kingdom')]\n",
                        "[('driverName', 'Mike Spence'), ('teamName', 'Reg Parnell Racing'), ('countryName', 'United Kingdom')]\n",
                        "[('driverName', 'Chris Irwin'), ('teamName', 'Reg Parnell Racing'), ('countryName', 'United Kingdom')]\n",
                        "[('driverName', 'Enrico Bertaggia'), ('teamName', 'Enzo Coloni Racing Car Systems'), ('countryName', 'Italy')]\n",
                        "[('driverName', 'Enrico Bertaggia'), ('teamName', 'Andrea Moda Formula'), ('countryName', 'Italy')]\n",
                        "[('driverName', 'Will Stevens'), ('teamName', 'Strakka Racing'), ('countryName', 'United Kingdom')]\n",
                        "[('driverName', 'Will Stevens'), ('teamName', 'P1 Motorsport'), ('countryName', 'United Kingdom')]\n",
                        "[('driverName', 'Will Stevens'), ('teamName', 'Carlin Motorsport'), ('countryName', 'United Kingdom')]\n",
                        "[('driverName', 'James Hunt'), ('teamName', 'Hesketh Racing'), ('countryName', 'United Kingdom')]\n",
                        "[('driverName', 'Wilson Fittipaldi J\u00fanior'), ('teamName', 'Fittipaldi Automotive'), ('countryName', 'Brazil')]\n",
                        "[('driverName', 'Arturo Merzario'), ('teamName', 'Merzario'), ('countryName', 'Italy')]\n",
                        "[('driverName', 'David Purley'), ('teamName', 'Token Racing'), ('countryName', 'United Kingdom')]\n",
                        "[('driverName', 'John Surtees'), ('teamName', 'Surtees'), ('countryName', 'United Kingdom')]\n",
                        "[('driverName', 'Dave Morgan'), ('teamName', 'Surtees'), ('countryName', 'United Kingdom')]\n",
                        "[('driverName', 'Roberto Bussinello'), ('teamName', 'Scuderia Centro Sud'), ('countryName', 'Italy')]\n",
                        "[('driverName', 'Giorgio Scarlatti'), ('teamName', 'Scuderia Centro Sud'), ('countryName', 'Italy')]\n",
                        "[('driverName', 'Massimo Natili'), ('teamName', 'Scuderia Centro Sud'), ('countryName', 'Italy')]\n",
                        "[('driverName', 'Jackie Oliver'), ('teamName', 'Shadow Racing Cars'), ('countryName', 'United Kingdom')]\n",
                        "[('driverName', 'Ron Flockhart'), ('teamName', 'Ecurie Ecosse'), ('countryName', 'United Kingdom')]\n",
                        "[('driverName', 'Jack Fairman'), ('teamName', 'Ecurie Ecosse'), ('countryName', 'United Kingdom')]\n",
                        "[('driverName', 'David Murray'), ('teamName', 'Ecurie Ecosse'), ('countryName', 'United Kingdom')]\n",
                        "[('driverName', 'Leslie Thorne'), ('teamName', 'Ecurie Ecosse'), ('countryName', 'United Kingdom')]\n",
                        "[('driverName', 'Graham Hill'), ('teamName', 'Brabham'), ('countryName', 'United Kingdom')]\n",
                        "[('driverName', 'Chris Irwin'), ('teamName', 'Brabham'), ('countryName', 'United Kingdom')]\n",
                        "[('driverName', 'Dave Charlton'), ('teamName', 'Brabham'), ('countryName', 'United Kingdom')]\n",
                        "[('driverName', 'Jack Brabham'), ('teamName', 'Brabham'), ('countryName', 'Australia')]\n",
                        "[('driverName', 'Bruno Giacomelli'), ('teamName', 'Life Racing Engines'), ('countryName', 'Italy')]\n",
                        "[('driverName', 'Ian Burgess'), ('teamName', 'Scirocco-Powell'), ('countryName', 'United Kingdom')]\n",
                        "[('driverName', 'Henry Taylor'), ('teamName', 'Yeoman Credit Racing'), ('countryName', 'United Kingdom')]\n",
                        "[('driverName', 'Olivier Gendebien'), ('teamName', 'Ecurie Nationale Belge'), ('countryName', 'Belgium')]\n",
                        "[('driverName', 'Giorgio Scarlatti'), ('teamName', 'Scuderia Serenissima'), ('countryName', 'Italy')]\n",
                        "[('driverName', 'Mike Parkes'), ('teamName', 'Fry'), ('countryName', 'United Kingdom')]\n",
                        "[('driverName', 'John Campbell-Jones'), ('teamName', 'Emeryson'), ('countryName', 'United Kingdom')]\n",
                        "[('driverName', 'Mike Spence'), ('teamName', 'Emeryson'), ('countryName', 'United Kingdom')]\n",
                        "[('driverName', 'Innes Ireland'), ('teamName', 'Bernard White Racing'), ('countryName', 'United Kingdom')]\n",
                        "[('driverName', 'Graham Hill'), ('teamName', 'Embassy Hill'), ('countryName', 'United Kingdom')]\n",
                        "[('driverName', 'Giulio Cabianca'), ('teamName', 'O.S.C.A.'), ('countryName', 'Italy')]\n",
                        "[('driverName', 'Franck Lagorce'), ('teamName', 'Equipe Ligier'), ('countryName', 'France')]\n",
                        "[('driverName', 'Tony Brooks'), ('teamName', 'Vanwall'), ('countryName', 'United Kingdom')]\n",
                        "[('driverName', 'Roy Salvadori'), ('teamName', 'Vanwall'), ('countryName', 'United Kingdom')]\n",
                        "[('driverName', 'David Purley'), ('teamName', 'LEC Refrigeration Racing'), ('countryName', 'United Kingdom')]\n",
                        "[('driverName', 'Dave Charlton'), ('teamName', 'Scuderia Scribante'), ('countryName', 'South Africa')]\n"
                    ]
                },
                {
                    "data": {
                        "text/plain": [
                            "121"
                        ]
                    },
                    "execution_count": 119,
                    "metadata": {},
                    "output_type": "execute_result"
                }
            ],
            "source": [
                "#4.1 drivers that joined teams from their own original country\n",
                "q = f\"\"\"\n",
                "select distinct ?driverName ?teamName ?countryName where{{\n",
                "?driver wdt:P106 wd:Q10841764 ;\n",
                "    <http://schema.org/name> ?driverName ;\n",
                "    wdt:P27 ?country1 ;\n",
                "    wdt:P54 ?team .\n",
                "    \n",
                "?team wdt:P17 ?country2 ;\n",
                "    <http://schema.org/name> ?teamName .\n",
                "    \n",
                "?country1 <http://schema.org/name> ?countryName .\n",
                "\n",
                "filter(?country1 = ?country2) .\n",
                "}}\n",
                "\"\"\"\n",
                "run_query(q)"
            ]
        },
        {
            "cell_type": "code",
            "execution_count": 120,
            "id": "b5246c2c-7218-48b6-a58d-080ce9c18c2c",
            "metadata": {},
            "outputs": [
                {
                    "name": "stdout",
                    "output_type": "stream",
                    "text": [
                        "[('teamName', 'Scuderia Ferrari'), ('n', '15')]\n",
                        "[('teamName', 'British Racing Motors'), ('n', '14')]\n",
                        "[('teamName', 'McLaren'), ('n', '14')]\n",
                        "[('teamName', 'Williams Grand Prix Engineering'), ('n', '13')]\n",
                        "[('teamName', 'Alfa Romeo'), ('n', '10')]\n",
                        "[('teamName', 'Brabham'), ('n', '9')]\n",
                        "[('teamName', 'Scuderia Toro Rosso'), ('n', '5')]\n",
                        "[('teamName', 'Red Bull Racing'), ('n', '5')]\n",
                        "[('teamName', 'Tyrrell Racing'), ('n', '5')]\n",
                        "[('teamName', 'March Engineering'), ('n', '4')]\n"
                    ]
                },
                {
                    "data": {
                        "text/plain": [
                            "10"
                        ]
                    },
                    "execution_count": 120,
                    "metadata": {},
                    "output_type": "execute_result"
                }
            ],
            "source": [
                "#4.2 which team employed the largest amount of drivers?\n",
                "q = f\"\"\"\n",
                "select ?teamName (count(*) as ?n) where{{\n",
                "?driver wdt:P106 wd:Q10841764 .\n",
                "?driver wdt:P54 ?team .\n",
                "?team wdt:P31 wd:Q10497835 ;\n",
                "    <http://schema.org/name> ?teamName .\n",
                "}}\n",
                "group by ?teamName\n",
                "order by desc(?n)\n",
                "limit 10\n",
                "\"\"\"\n",
                "run_query(q)"
            ]
        },
        {
            "cell_type": "code",
            "execution_count": 121,
            "id": "95fab2cb-c184-45f0-abec-76ca7256c109",
            "metadata": {},
            "outputs": [
                {
                    "name": "stdout",
                    "output_type": "stream",
                    "text": [
                        "[('driverName', 'John Surtees')]\n",
                        "[('driverName', 'Niki Lauda')]\n",
                        "[('driverName', 'Gilles Villeneuve')]\n",
                        "[('driverName', 'Tony Brooks')]\n",
                        "[('driverName', 'Sebastian Vettel')]\n",
                        "[('driverName', 'Michael Schumacher')]\n",
                        "[('driverName', 'Kimi R\u00e4ikk\u00f6nen')]\n",
                        "[('driverName', 'Gerhard Berger')]\n",
                        "[('driverName', 'Fernando Alonso')]\n",
                        "[('driverName', 'Jacky Ickx')]\n",
                        "[('driverName', 'Charles Leclerc')]\n",
                        "[('driverName', 'Olivier Gendebien')]\n",
                        "[('driverName', 'Arturo Merzario')]\n",
                        "[('driverName', 'Mike Parkes')]\n",
                        "[('driverName', 'Cliff Allison')]\n"
                    ]
                },
                {
                    "data": {
                        "text/plain": [
                            "15"
                        ]
                    },
                    "execution_count": 121,
                    "metadata": {},
                    "output_type": "execute_result"
                }
            ],
            "source": [
                "#let's double check if scuderia ferrari employed 15 drivers in total\n",
                "q = f\"\"\"\n",
                "select ?driverName where{{\n",
                "?driver wdt:P106 wd:Q10841764 ;\n",
                "    wdt:P54 wd:Q169898 ;\n",
                "    <http://schema.org/name> ?driverName .\n",
                "}}\n",
                "\"\"\"\n",
                "run_query(q)"
            ]
        },
        {
            "cell_type": "code",
            "execution_count": 126,
            "id": "b3f4bf91-0adf-4a87-bd98-574ca86e5c9c",
            "metadata": {},
            "outputs": [
                {
                    "name": "stdout",
                    "output_type": "stream",
                    "text": [
                        "[('property', 'http://www.wikidata.org/prop/direct/P1346'), ('name', 'winner')]\n",
                        "[('property', 'http://www.wikidata.org/prop/direct/P3342'), ('name', 'significant person')]\n",
                        "[('property', 'http://www.wikidata.org/prop/direct/P2321'), ('name', 'general classification of race participants')]\n",
                        "[('property', 'http://www.wikidata.org/prop/direct/P2417'), ('name', 'stage classification')]\n",
                        "[('property', 'http://www.wikidata.org/prop/direct/P3764'), ('name', 'pole position')]\n",
                        "[('property', 'http://www.wikidata.org/prop/direct/P710'), ('name', 'participant')]\n",
                        "[('property', 'http://www.wikidata.org/prop/direct/P5053'), ('name', 'fastest lap')]\n"
                    ]
                },
                {
                    "data": {
                        "text/plain": [
                            "7"
                        ]
                    },
                    "execution_count": 126,
                    "metadata": {},
                    "output_type": "execute_result"
                }
            ],
            "source": [
                "#4.3 for each country, the drivers with highest number of f1 race participations\n",
                "\n",
                "#let's try again to find a property connecting a gp with drivers\n",
                "q = f\"\"\"\n",
                "select distinct ?property ?name where{{\n",
                "?gp wdt:P361 ?championship .\n",
                "?championship <http://schema.org/name> ?cName .\n",
                "filter regex(?cName, '.*formula one.*', 'i') .\n",
                "?gp ?property ?driver .\n",
                "?driver wdt:P106 wd:Q10841764 .\n",
                "?property <http://schema.org/name> ?name .\n",
                "}}\n",
                "\"\"\"\n",
                "run_query(q)"
            ]
        },
        {
            "cell_type": "code",
            "execution_count": 136,
            "id": "2016f10c-e0ad-452b-8582-b79f4e00c5d9",
            "metadata": {},
            "outputs": [
                {
                    "name": "stdout",
                    "output_type": "stream",
                    "text": [
                        "[('driverName', 'Carlos Sainz Jr'), ('gpName', '2020 Austrian Grand Prix')]\n",
                        "[('driverName', 'Sebastian Vettel'), ('gpName', '2020 Austrian Grand Prix')]\n",
                        "[('driverName', 'Kimi R\u00e4ikk\u00f6nen'), ('gpName', '2020 Austrian Grand Prix')]\n",
                        "[('driverName', 'Lewis Hamilton'), ('gpName', '2020 Austrian Grand Prix')]\n",
                        "[('driverName', 'Valtteri Bottas'), ('gpName', '2020 Austrian Grand Prix')]\n",
                        "[('driverName', 'Romain Grosjean'), ('gpName', '2020 Austrian Grand Prix')]\n",
                        "[('driverName', 'Alexander Albon'), ('gpName', '2020 Austrian Grand Prix')]\n",
                        "[('driverName', 'Pierre Gasly'), ('gpName', '2020 Austrian Grand Prix')]\n",
                        "[('driverName', 'Lance Stroll'), ('gpName', '2020 Austrian Grand Prix')]\n",
                        "[('driverName', 'George Russell'), ('gpName', '2020 Austrian Grand Prix')]\n",
                        "[('driverName', 'Charles Leclerc'), ('gpName', '2020 Austrian Grand Prix')]\n",
                        "[('driverName', 'Lando Norris'), ('gpName', '2020 Austrian Grand Prix')]\n",
                        "[('driverName', 'Max Verstappen'), ('gpName', '2020 Austrian Grand Prix')]\n",
                        "[('driverName', 'Antonio Giovinazzi'), ('gpName', '2020 Austrian Grand Prix')]\n",
                        "[('driverName', 'Carlos Sainz Jr'), ('gpName', '2020 Eifel Grand Prix')]\n",
                        "[('driverName', 'Sebastian Vettel'), ('gpName', '2020 Eifel Grand Prix')]\n",
                        "[('driverName', 'Kimi R\u00e4ikk\u00f6nen'), ('gpName', '2020 Eifel Grand Prix')]\n",
                        "[('driverName', 'Lewis Hamilton'), ('gpName', '2020 Eifel Grand Prix')]\n",
                        "[('driverName', 'Valtteri Bottas'), ('gpName', '2020 Eifel Grand Prix')]\n",
                        "[('driverName', 'Romain Grosjean'), ('gpName', '2020 Eifel Grand Prix')]\n",
                        "[('driverName', 'Alexander Albon'), ('gpName', '2020 Eifel Grand Prix')]\n",
                        "[('driverName', 'Pierre Gasly'), ('gpName', '2020 Eifel Grand Prix')]\n",
                        "[('driverName', 'George Russell'), ('gpName', '2020 Eifel Grand Prix')]\n",
                        "[('driverName', 'Charles Leclerc'), ('gpName', '2020 Eifel Grand Prix')]\n",
                        "[('driverName', 'Lando Norris'), ('gpName', '2020 Eifel Grand Prix')]\n",
                        "[('driverName', 'Max Verstappen'), ('gpName', '2020 Eifel Grand Prix')]\n",
                        "[('driverName', 'Antonio Giovinazzi'), ('gpName', '2020 Eifel Grand Prix')]\n",
                        "[('driverName', 'Carlos Sainz Jr'), ('gpName', '2020 Abu Dhabi Grand Prix')]\n",
                        "[('driverName', 'Sebastian Vettel'), ('gpName', '2020 Abu Dhabi Grand Prix')]\n",
                        "[('driverName', 'Kimi R\u00e4ikk\u00f6nen'), ('gpName', '2020 Abu Dhabi Grand Prix')]\n",
                        "[('driverName', 'Lewis Hamilton'), ('gpName', '2020 Abu Dhabi Grand Prix')]\n",
                        "[('driverName', 'Valtteri Bottas'), ('gpName', '2020 Abu Dhabi Grand Prix')]\n",
                        "[('driverName', 'Alexander Albon'), ('gpName', '2020 Abu Dhabi Grand Prix')]\n",
                        "[('driverName', 'Pierre Gasly'), ('gpName', '2020 Abu Dhabi Grand Prix')]\n",
                        "[('driverName', 'Lance Stroll'), ('gpName', '2020 Abu Dhabi Grand Prix')]\n",
                        "[('driverName', 'George Russell'), ('gpName', '2020 Abu Dhabi Grand Prix')]\n",
                        "[('driverName', 'Charles Leclerc'), ('gpName', '2020 Abu Dhabi Grand Prix')]\n",
                        "[('driverName', 'Lando Norris'), ('gpName', '2020 Abu Dhabi Grand Prix')]\n",
                        "[('driverName', 'Max Verstappen'), ('gpName', '2020 Abu Dhabi Grand Prix')]\n",
                        "[('driverName', 'Antonio Giovinazzi'), ('gpName', '2020 Abu Dhabi Grand Prix')]\n",
                        "[('driverName', 'Carlos Sainz Jr'), ('gpName', '2021 Bahrain Grand Prix')]\n",
                        "[('driverName', 'Sebastian Vettel'), ('gpName', '2021 Bahrain Grand Prix')]\n",
                        "[('driverName', 'Kimi R\u00e4ikk\u00f6nen'), ('gpName', '2021 Bahrain Grand Prix')]\n",
                        "[('driverName', 'Lewis Hamilton'), ('gpName', '2021 Bahrain Grand Prix')]\n",
                        "[('driverName', 'Fernando Alonso'), ('gpName', '2021 Bahrain Grand Prix')]\n",
                        "[('driverName', 'Valtteri Bottas'), ('gpName', '2021 Bahrain Grand Prix')]\n",
                        "[('driverName', 'Pierre Gasly'), ('gpName', '2021 Bahrain Grand Prix')]\n",
                        "[('driverName', 'Lance Stroll'), ('gpName', '2021 Bahrain Grand Prix')]\n",
                        "[('driverName', 'George Russell'), ('gpName', '2021 Bahrain Grand Prix')]\n",
                        "[('driverName', 'Charles Leclerc'), ('gpName', '2021 Bahrain Grand Prix')]\n"
                    ]
                },
                {
                    "data": {
                        "text/plain": [
                            "50"
                        ]
                    },
                    "execution_count": 136,
                    "metadata": {},
                    "output_type": "execute_result"
                }
            ],
            "source": [
                "#after all these trials, i missed \"participant\", let's see what it is\n",
                "participant = 'wdt:P710'\n",
                "q = f\"\"\"\n",
                "select distinct ?driverName ?gpName where{{\n",
                "?gp wdt:P361 ?championship .\n",
                "?championship <http://schema.org/name> ?cName .\n",
                "filter regex(?cName, '.*formula one.*', 'i') .\n",
                "?gp wdt:P710 ?driver .\n",
                "?gp <http://schema.org/name> ?gpName .\n",
                "?driver wdt:P106 wd:Q10841764 .\n",
                "?driver <http://schema.org/name> ?driverName\n",
                "}}\n",
                "limit 50\n",
                "\"\"\"\n",
                "run_query(q)"
            ]
        },
        {
            "cell_type": "code",
            "execution_count": 137,
            "id": "825a57fd-af7b-40a8-b4d7-191b9e860b05",
            "metadata": {},
            "outputs": [
                {
                    "name": "stdout",
                    "output_type": "stream",
                    "text": [
                        "[('o', 'http://www.wikidata.org/entity/Q1968'), ('name', 'Formula One')]\n"
                    ]
                },
                {
                    "data": {
                        "text/plain": [
                            "1"
                        ]
                    },
                    "execution_count": 137,
                    "metadata": {},
                    "output_type": "execute_result"
                }
            ],
            "source": [
                "#we missed an important property\n",
                "\n",
                "#going back up i found an interestin property exiting the 2016 championship\n",
                "#[('p', 'http://www.wikidata.org/prop/direct/P3450'), ('name', 'sports season of league or competition')]\n",
                "league = 'wdt:P3450'\n",
                "#let's check it out\n",
                "q = f\"\"\"\n",
                "select ?o ?name where{{\n",
                "wd:Q17455748 wdt:P3450 ?o .\n",
                "?o <http://schema.org/name> ?name .\n",
                "}}\n",
                "\"\"\"\n",
                "run_query(q)"
            ]
        },
        {
            "cell_type": "code",
            "execution_count": 140,
            "id": "16ce22d2-fb2e-432b-9a2f-4d0c0d4b614f",
            "metadata": {},
            "outputs": [
                {
                    "name": "stdout",
                    "output_type": "stream",
                    "text": [
                        "Empty\n"
                    ]
                },
                {
                    "data": {
                        "text/plain": [
                            "0"
                        ]
                    },
                    "execution_count": 140,
                    "metadata": {},
                    "output_type": "execute_result"
                }
            ],
            "source": [
                "#we can try to use that property and that entity to filter out formula 1 championship instead of using regex on the name\n",
                "League = 'wd:Q1968'\n",
                "#let's try now and list all participations for schumacher\n",
                "q = f\"\"\"\n",
                "select distinct ?gpName where{{\n",
                "?gp wdt:P710 wd:Q9671 .\n",
                "?gp wdt:P3450 wd:Q1968 ;\n",
                "    <http://schema.org/name> ?gpName .\n",
                "}}\n",
                "\"\"\"\n",
                "run_query(q)"
            ]
        },
        {
            "cell_type": "code",
            "execution_count": 143,
            "id": "bbd8679e-a370-4fad-9fac-328b06fc92f2",
            "metadata": {},
            "outputs": [
                {
                    "name": "stdout",
                    "output_type": "stream",
                    "text": [
                        "[('driverName', 'Ayrton Senna'), ('n', '1')]\n",
                        "[('driverName', 'Jean-Louis Schlesser'), ('n', '1')]\n",
                        "[('driverName', 'Alexander Wurz'), ('n', '5')]\n",
                        "[('driverName', 'Oscar Alfredo G\u00e1lvez'), ('n', '1')]\n",
                        "[('driverName', 'Pedro Lamy'), ('n', '1')]\n",
                        "[('driverName', 'Alexander Albon'), ('n', '3')]\n",
                        "[('driverName', 'Lance Stroll'), ('n', '7')]\n",
                        "[('driverName', 'Giedo van der Garde'), ('n', '1')]\n",
                        "[('driverName', 'Carlos Sainz Jr'), ('n', '8')]\n",
                        "[('driverName', 'Sebastian Vettel'), ('n', '9')]\n",
                        "[('driverName', 'Nico Rosberg'), ('n', '1')]\n",
                        "[('driverName', 'Valtteri Bottas'), ('n', '8')]\n",
                        "[('driverName', 'James Hunt'), ('n', '1')]\n",
                        "[('driverName', 'Mark Webber'), ('n', '4')]\n",
                        "[('driverName', 'Marc Gen\u00e9'), ('n', '3')]\n",
                        "[('driverName', 'Pierre Gasly'), ('n', '8')]\n",
                        "[('driverName', 'Sam Bird'), ('n', '2')]\n",
                        "[('driverName', 'John Watson'), ('n', '1')]\n",
                        "[('driverName', 'Kimi R\u00e4ikk\u00f6nen'), ('n', '8')]\n",
                        "[('driverName', 'Allan McNish'), ('n', '2')]\n",
                        "[('driverName', 'Andr\u00e9 Lotterer'), ('n', '7')]\n",
                        "[('driverName', 'Antonio Giovinazzi'), ('n', '8')]\n",
                        "[('driverName', 'Niki Lauda'), ('n', '1')]\n",
                        "[('driverName', 'Carroll Shelby'), ('n', '1')]\n",
                        "[('driverName', 'Tony Brooks'), ('n', '1')]\n",
                        "[('driverName', 'Romain Grosjean'), ('n', '2')]\n",
                        "[('driverName', 'Roberto Merhi'), ('n', '1')]\n",
                        "[('driverName', 'Anthony Davidson'), ('n', '4')]\n",
                        "[('driverName', 'Max Verstappen'), ('n', '9')]\n",
                        "[('driverName', 'Juan Manuel Fangio'), ('n', '1')]\n",
                        "[('driverName', 'Alberto Ascari'), ('n', '1')]\n",
                        "[('driverName', 'Fernando Alonso'), ('n', '6')]\n",
                        "[('driverName', 'Robert Kubica'), ('n', '2')]\n",
                        "[('driverName', 'George Russell'), ('n', '8')]\n",
                        "[('driverName', 'Lando Norris'), ('n', '8')]\n",
                        "[('driverName', 'Will Stevens'), ('n', '1')]\n",
                        "[('driverName', 'Alexander Rossi'), ('n', '1')]\n",
                        "[('driverName', 'Charles Leclerc'), ('n', '8')]\n",
                        "[('driverName', 'Nick Heidfeld'), ('n', '6')]\n",
                        "[('driverName', 'Lewis Hamilton'), ('n', '12')]\n"
                    ]
                },
                {
                    "data": {
                        "text/plain": [
                            "40"
                        ]
                    },
                    "execution_count": 143,
                    "metadata": {},
                    "output_type": "execute_result"
                }
            ],
            "source": [
                "#let's count the participations for each driver then\n",
                "q = f\"\"\"\n",
                "select ?driverName (count(*) as ?n) where{{\n",
                "?gp wdt:P710 ?driver .\n",
                "?driver wdt:P106 wd:Q10841764 .\n",
                "?driver <http://schema.org/name> ?driverName .\n",
                "}}\n",
                "group by ?driverName\n",
                "\"\"\"\n",
                "run_query(q)"
            ]
        },
        {
            "cell_type": "code",
            "execution_count": 144,
            "id": "5bbc7630-6da1-4202-b45a-3a50e9f45eae",
            "metadata": {},
            "outputs": [
                {
                    "name": "stdout",
                    "output_type": "stream",
                    "text": [
                        "[('driverName', 'Carlos Sainz Jr'), ('countryName', 'Spain'), ('max', '8')]\n",
                        "[('driverName', 'Ayrton Senna'), ('countryName', 'Brazil'), ('max', '1')]\n",
                        "[('driverName', 'Carroll Shelby'), ('countryName', 'United States of America'), ('max', '1')]\n",
                        "[('driverName', 'Sebastian Vettel'), ('countryName', 'Germany'), ('max', '9')]\n",
                        "[('driverName', 'Kimi R\u00e4ikk\u00f6nen'), ('countryName', 'Finland'), ('max', '8')]\n",
                        "[('driverName', 'Juan Manuel Fangio'), ('countryName', 'Argentina'), ('max', '1')]\n",
                        "[('driverName', 'Alberto Ascari'), ('countryName', 'Kingdom of Italy'), ('max', '1')]\n",
                        "[('driverName', 'Mark Webber'), ('countryName', 'Australia'), ('max', '4')]\n",
                        "[('driverName', 'Lewis Hamilton'), ('countryName', 'United Kingdom'), ('max', '12')]\n",
                        "[('driverName', 'Alexander Wurz'), ('countryName', 'Austria'), ('max', '5')]\n",
                        "[('driverName', 'Valtteri Bottas'), ('countryName', 'Finland'), ('max', '8')]\n",
                        "[('driverName', 'Romain Grosjean'), ('countryName', 'Switzerland'), ('max', '2')]\n",
                        "[('driverName', 'Oscar Alfredo G\u00e1lvez'), ('countryName', 'Argentina'), ('max', '1')]\n",
                        "[('driverName', 'Alexander Albon'), ('countryName', 'Thailand'), ('max', '3')]\n",
                        "[('driverName', 'Alexander Rossi'), ('countryName', 'United States of America'), ('max', '1')]\n",
                        "[('driverName', 'Pierre Gasly'), ('countryName', 'France'), ('max', '8')]\n",
                        "[('driverName', 'Robert Kubica'), ('countryName', 'Poland'), ('max', '2')]\n",
                        "[('driverName', 'Lance Stroll'), ('countryName', 'Canada'), ('max', '7')]\n",
                        "[('driverName', 'Charles Leclerc'), ('countryName', 'Monaco'), ('max', '8')]\n",
                        "[('driverName', 'Max Verstappen'), ('countryName', 'Belgium'), ('max', '9')]\n",
                        "[('driverName', 'Max Verstappen'), ('countryName', 'Kingdom of the Netherlands'), ('max', '9')]\n",
                        "[('driverName', 'Antonio Giovinazzi'), ('countryName', 'Italy'), ('max', '8')]\n",
                        "[('driverName', 'Pedro Lamy'), ('countryName', 'Portugal'), ('max', '1')]\n"
                    ]
                },
                {
                    "data": {
                        "text/plain": [
                            "23"
                        ]
                    },
                    "execution_count": 144,
                    "metadata": {},
                    "output_type": "execute_result"
                }
            ],
            "source": [
                "#really not many participations... let's answer to point 4.3 nonetheless\n",
                "q1 = f\"\"\"\n",
                "select ?driver ?country (count(*) as ?n) where{{\n",
                "?gp wdt:P710 ?driver .\n",
                "?driver wdt:P106 wd:Q10841764 .\n",
                "?driver wdt:P27 ?country .\n",
                "}}\n",
                "group by ?driver ?country\n",
                "\"\"\"\n",
                "\n",
                "q2 = f\"\"\"\n",
                "select ?country (max(?n) as ?max) where{{\n",
                "    {{\n",
                "        select ?driver ?country (count(*) as ?n) where{{\n\n?gp wdt:P710 ?driver .\n\n?driver wdt:P106 wd:Q10841764 .\n\n?driver wdt:P27 ?country .\n\n}}\n\ngroup by ?driver ?country\n\n\n\n",
                "    }}\n",
                "}}\n",
                "\"\"\"\n",
                "\n",
                "q3 = f\"\"\"\n",
                "select ?d ?c (count(*) as ?cnt) where{{\n",
                "?gp wdt:P710 ?d .\n",
                "?d wdt:P106 wd:Q10841764 .\n",
                "?d wdt:P27 ?c .\n",
                "}}\n",
                "group by ?d ?c\n",
                "\"\"\" \n",
                "\n",
                "q4 = f\"\"\"\n",
                "select ?driverName ?countryName ?max where{{\n",
                "?d <http://schema.org/name> ?driverName .\n",
                "?country <http://schema.org/name> ?countryName .\n",
                "    {{\n",
                "        select ?country (max(?n) as ?max) where{{\n\n    {{\n\n        select ?driver ?country (count(*) as ?n) where{{\n\n?gp wdt:P710 ?driver .\n\n?driver wdt:P106 wd:Q10841764 .\n\n?driver wdt:P27 ?country .\n\n}}\n\ngroup by ?driver ?country\n\n\n\n\n    }}\n\n}}\n\n\n\n",
                "    }}\n",
                "    \n",
                "    {{\n",
                "        select ?d ?c (count(*) as ?cnt) where{{\n\n?gp wdt:P710 ?d .\n\n?d wdt:P106 wd:Q10841764 .\n\n?d wdt:P27 ?c .\n\n}}\n\ngroup by ?d ?c\n\n\n\n",
                "    }}\n",
                "    filter(?max = ?cnt && ?country = ?c)\n",
                "}}\n",
                "\"\"\"\n",
                "\n",
                "run_query(q4)"
            ]
        }
    ],
    "metadata": {
        "kernelspec": {
            "display_name": "Python 3",
            "language": "python",
            "name": "python3"
        },
        "language_info": {
            "codemirror_mode": {
                "name": "ipython",
                "version": 3
            },
            "file_extension": ".py",
            "mimetype": "text/x-python",
            "name": "python",
            "nbconvert_exporter": "python",
            "pygments_lexer": "ipython3",
            "version": "3.7.10"
        }
    },
    "nbformat": 4,
    "nbformat_minor": 5
}