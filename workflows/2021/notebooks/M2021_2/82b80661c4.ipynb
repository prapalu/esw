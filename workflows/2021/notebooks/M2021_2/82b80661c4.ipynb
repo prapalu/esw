{
    "cells": [
        {
            "cell_type": "markdown",
            "id": "7034c3bf-6eb0-4418-8687-7b9d2a501103",
            "metadata": {},
            "source": [
                "# General instructions\n",
                "\n",
                "The goal of the project is to materialize a set of **exploratory workloads** over a real-world, large-scale,  open-domain KG: [WikiData](https://www.wikidata.org/wiki/Wikidata:Main_Page)\n",
                "\n",
                "An exploratory workload  is composed by a set of queries, where each query is related to the information obtained previously.\n",
                "\n",
                "An exploratory workload starts with a usually vague, open ended question, and does not assume the person issuing the workload has a clear understanding of the data contained in the target database or its structure.\n",
                "\n",
                "Remeber that:\n",
                "\n",
                "1. All the queries must run in the python notebook\n",
                "2. You can use classes and properties only if you find them via a SPARQL query that must be present in the notebook\n",
                "3. You do not delete useless queries. Keep everything that is synthatically valid \n",
                "\n",
                "```\n",
                "?p <http://schema.org/name> ?name .\n",
                "```\n",
                "    \n",
                "    is the BGP returning a human-readable name of a property or a class in Wikidata.\n",
                "    \n",
                "    "
            ]
        },
        {
            "cell_type": "code",
            "execution_count": 1,
            "id": "3605c9d5-5371-49a5-be8d-d66e8f417139",
            "metadata": {},
            "outputs": [],
            "source": [
                "## SETUP used later\n",
                "\n",
                "from SPARQLWrapper import SPARQLWrapper, JSON\n",
                "\n",
                "\n",
                "prefixString = \"\"\"\n",
                "##-82b80661c4-##\n",
                "PREFIX wd: <http://www.wikidata.org/entity/> \n",
                "PREFIX wdt: <http://www.wikidata.org/prop/direct/> \n",
                "PREFIX sc: <http://schema.org/>\n",
                "\"\"\"\n",
                "\n",
                "# select and construct queries\n",
                "def run_query(queryString):\n",
                "    to_run = prefixString + \"\\n\" + queryString\n",
                "\n",
                "    sparql = SPARQLWrapper(\"http://a256-gc1-02.srv.aau.dk:5820/sparql\")\n",
                "    #sparql = SPARQLWrapper(\"http://a256-gc1-03.srv.aau.dk:5820/sparql\")\n",
                "    sparql.setTimeout(300)\n",
                "    sparql.setReturnFormat(JSON)\n",
                "    sparql.setQuery(to_run)\n",
                "\n",
                "    try :\n",
                "       results = sparql.query()\n",
                "       json_results = results.convert()\n",
                "       if len(json_results['results']['bindings'])==0:\n",
                "          print(\"Empty\")\n",
                "          return 0\n",
                "    \n",
                "       for bindings in json_results['results']['bindings']:\n",
                "          print( [ (var, value['value'])  for var, value in bindings.items() ] )\n",
                "\n",
                "       return len(json_results['results']['bindings'])\n",
                "\n",
                "    except Exception as e :\n",
                "        print(\"The operation failed\", e)\n",
                "    \n",
                "# ASk queries\n",
                "def run_ask_query(queryString):\n",
                "    to_run = prefixString + \"\\n\" + queryString\n",
                "\n",
                "    sparql = SPARQLWrapper(\"http://a256-gc1-03.srv.aau.dk:5820/sparql\")\n",
                "    sparql.setTimeout(300)\n",
                "    sparql.setReturnFormat(JSON)\n",
                "    sparql.setQuery(to_run)\n",
                "\n",
                "    try :\n",
                "        return sparql.query().convert()\n",
                "\n",
                "    except Exception as e :\n",
                "        print(\"The operation failed\", e)"
            ]
        },
        {
            "cell_type": "markdown",
            "id": "d477a59c-a68c-4c8f-9f97-8ca5294d7d27",
            "metadata": {},
            "source": [
                "# Book Workflow Series (\"Nobel laureates explorative search\") \n",
                "\n",
                "\n",
                "Consider the following exploratory scenario:\n",
                "\n",
                ">  Investigate the authors who won the Nobel award for literature and get information about the nationality of the winners and analyse their literary production\n",
                "\n",
                "\n",
                "\n",
                "## Useful URIs for the current workflow\n",
                "The following are given:\n",
                "\n",
                "| IRI           | Description   | Role      |\n",
                "| -----------   | -----------   |-----------|\n",
                "| `wdt:P1647`   | subproperty   | predicate |\n",
                "| `wdt:P31`     | instance of   | predicate |\n",
                "| `wdt:P106`    | profession    | predicate | \n",
                "| `wdt:P279`    | subclass      | predicate |\n",
                "| `wdt:P17`     | country       | predicate |\n",
                "| `wdt:P27`     | citizenship   | predicate |\n",
                "| `wd:Q37922`   | Nobel Prize in Literature     | node |\n",
                "| `wd:Q36180`   | writer        | node |\n",
                "| `wd:Q38`      | Italy         | node |\n",
                "| `wd:Q3624078` | Sovereign state  | node |\n",
                "| `wd:Q213678`  | Vatican Library  | node |\n",
                "\n",
                "\n",
                "Also consider\n",
                "\n",
                "```\n",
                "?p wdt:P27 wd:Q38  . \n",
                "?p wdt:P106/wdt:P279* wd:Q36180  . \n",
                "```\n",
                "\n",
                "is the BGP to retrieve all **italian authors**\n",
                "\n",
                "The workload should\n",
                "\n",
                "\n",
                "1. Identify the BGP for obtaining the nobel laureates and the nominees with their relevant attributes\n",
                "\n",
                "2. Get the number of Italian, French and Iranian winners and check which nation won more awards in the last twenty years.\n",
                "\n",
                "3. Determine how many Literature nobel laureates have the following contries: Italy, Germany, France, Romania, Denmark, Iran, and China\n",
                "\n",
                "4. How many Literature Nobel award winners have a PhD (aka Doctorate of Philosophy) (you may check if they have a doctoral advisor)?\n",
                "\n",
                "5. Are there books from Litarature Nobel Award winners which are not present in the Vatican Library? (if so, who is the author with more books not in the Vatical Library)?"
            ]
        },
        {
            "cell_type": "code",
            "execution_count": 4,
            "id": "cafbd677-9be8-4532-a711-4a120dd8d2eb",
            "metadata": {},
            "outputs": [
                {
                    "name": "stdout",
                    "output_type": "stream",
                    "text": [
                        "[('property', 'http://www.wikidata.org/prop/direct/P2671'), ('name', 'Google Knowledge Graph ID')]\n",
                        "[('property', 'http://www.wikidata.org/prop/direct/P31'), ('name', 'instance of')]\n"
                    ]
                },
                {
                    "data": {
                        "text/plain": [
                            "2"
                        ]
                    },
                    "execution_count": 4,
                    "metadata": {},
                    "output_type": "execute_result"
                }
            ],
            "source": [
                "#let's see for a nobel in literature if we have properties connecting it to authors\n",
                "q = f\"\"\"\n",
                "select distinct ?property ?name where{{\n",
                "?nobel wdt:P31 wd:Q37922 ;\n",
                "    ?property ?object .\n",
                "    \n",
                "?property <http://schema.org/name> ?name\n",
                "}}\n",
                "limit 100\n",
                "\"\"\"\n",
                "run_query(q)"
            ]
        },
        {
            "cell_type": "code",
            "execution_count": 5,
            "id": "7c5437bb-6f21-4d95-82bf-298ac84e514d",
            "metadata": {},
            "outputs": [
                {
                    "name": "stdout",
                    "output_type": "stream",
                    "text": [
                        "[('property', 'http://www.wikidata.org/prop/direct/P1411'), ('name', 'nominated for')]\n",
                        "[('property', 'http://www.wikidata.org/prop/direct/P166'), ('name', 'award received')]\n"
                    ]
                },
                {
                    "data": {
                        "text/plain": [
                            "2"
                        ]
                    },
                    "execution_count": 5,
                    "metadata": {},
                    "output_type": "execute_result"
                }
            ],
            "source": [
                "#then let's start from authors and let's try and see if there is a connection to nobels\n",
                "q = f\"\"\"\n",
                "select distinct ?property ?name where{{\n",
                "?author wdt:P27 wd:Q38 ;\n",
                "    wdt:P106/wdt:P279* wd:Q36180 ;\n",
                "    ?property wd:Q37922 .\n",
                "    \n",
                "?property <http://schema.org/name> ?name\n",
                "}}\n",
                "\"\"\"\n",
                "run_query(q)"
            ]
        },
        {
            "cell_type": "code",
            "execution_count": 7,
            "id": "6fe693ab-bf4a-4072-802a-d1c078e635c4",
            "metadata": {},
            "outputs": [
                {
                    "name": "stdout",
                    "output_type": "stream",
                    "text": [
                        "[('author', 'http://www.wikidata.org/entity/Q33760'), ('name', 'Bertrand Russell')]\n",
                        "[('author', 'http://www.wikidata.org/entity/Q37767'), ('name', 'T.\\xa0S. Eliot')]\n",
                        "[('author', 'http://www.wikidata.org/entity/Q37030'), ('name', 'Thomas Mann')]\n",
                        "[('author', 'http://www.wikidata.org/entity/Q704931'), ('name', 'Edmund Wilson')]\n",
                        "[('author', 'http://www.wikidata.org/entity/Q309716'), ('name', 'Michel Butor')]\n",
                        "[('author', 'http://www.wikidata.org/entity/Q170509'), ('name', 'Henry James')]\n",
                        "[('author', 'http://www.wikidata.org/entity/Q504'), ('name', '\u00c9mile Zola')]\n",
                        "[('author', 'http://www.wikidata.org/entity/Q235308'), ('name', 'Elizabeth Bowen')]\n",
                        "[('author', 'http://www.wikidata.org/entity/Q38392'), ('name', 'William Faulkner')]\n",
                        "[('author', 'http://www.wikidata.org/entity/Q218679'), ('name', 'Colette')]\n",
                        "[('author', 'http://www.wikidata.org/entity/Q965935'), ('name', 'Henri Queff\u00e9lec')]\n",
                        "[('author', 'http://www.wikidata.org/entity/Q182804'), ('name', 'Karen Blixen')]\n",
                        "[('author', 'http://www.wikidata.org/entity/Q5878'), ('name', 'Gabriel Garc\u00eda M\u00e1rquez')]\n",
                        "[('author', 'http://www.wikidata.org/entity/Q7176'), ('name', 'Najib Mahfouz')]\n",
                        "[('author', 'http://www.wikidata.org/entity/Q234819'), ('name', 'Alice Munro')]\n",
                        "[('author', 'http://www.wikidata.org/entity/Q47619'), ('name', 'Nadine Gordimer')]\n",
                        "[('author', 'http://www.wikidata.org/entity/Q25351'), ('name', 'Theodor Mommsen')]\n",
                        "[('author', 'http://www.wikidata.org/entity/Q694826'), ('name', 'Tadeusz Stefan Zieli\u0144ski')]\n",
                        "[('author', 'http://www.wikidata.org/entity/Q607202'), ('name', 'Gaston Boissier')]\n",
                        "[('author', 'http://www.wikidata.org/entity/Q616735'), ('name', 'Jan Parandowski')]\n",
                        "[('author', 'http://www.wikidata.org/entity/Q443786'), ('name', 'Maurice Bowra')]\n",
                        "[('author', 'http://www.wikidata.org/entity/Q1637246'), ('name', 'H. D. F. Kitto')]\n",
                        "[('author', 'http://www.wikidata.org/entity/Q1662985'), ('name', 'Ingemar D\u00fcring')]\n",
                        "[('author', 'http://www.wikidata.org/entity/Q112345'), ('name', 'Rudolf Pfeiffer')]\n",
                        "[('author', 'http://www.wikidata.org/entity/Q16053'), ('name', 'Melchior de Vog\u00fc\u00e9')]\n",
                        "[('author', 'http://www.wikidata.org/entity/Q711869'), ('name', 'Arthur Waley')]\n",
                        "[('author', 'http://www.wikidata.org/entity/Q459586'), ('name', '\u00c9tiemble')]\n",
                        "[('author', 'http://www.wikidata.org/entity/Q89662'), ('name', 'Theodor Zahn')]\n",
                        "[('author', 'http://www.wikidata.org/entity/Q64162'), ('name', 'Ludwig von Pastor')]\n",
                        "[('author', 'http://www.wikidata.org/entity/Q164699'), ('name', 'Adolf von Harnack')]\n",
                        "[('author', 'http://www.wikidata.org/entity/Q574871'), ('name', 'Hartmann Grisar')]\n",
                        "[('author', 'http://www.wikidata.org/entity/Q312503'), ('name', 'John Lubbock, 1st Baron Avebury')]\n",
                        "[('author', 'http://www.wikidata.org/entity/Q76032'), ('name', 'Georg von Below')]\n",
                        "[('author', 'http://www.wikidata.org/entity/Q76894'), ('name', 'Eduard Meyer')]\n",
                        "[('author', 'http://www.wikidata.org/entity/Q9364'), ('name', 'Jean-Paul Sartre')]\n",
                        "[('author', 'http://www.wikidata.org/entity/Q274969'), ('name', '\u00c9mile Boutroux')]\n",
                        "[('author', 'http://www.wikidata.org/entity/Q289739'), ('name', '\u00c9tienne Gilson')]\n",
                        "[('author', 'http://www.wikidata.org/entity/Q335218'), ('name', 'Herbert Samuel, 1st Viscount Samuel')]\n",
                        "[('author', 'http://www.wikidata.org/entity/Q119149'), ('name', 'Max Haushofer')]\n",
                        "[('author', 'http://www.wikidata.org/entity/Q37060'), ('name', 'Jos\u00e9 Saramago')]\n",
                        "[('author', 'http://www.wikidata.org/entity/Q505827'), ('name', 'Andrew Lang')]\n",
                        "[('author', 'http://www.wikidata.org/entity/Q159552'), ('name', 'Johannes V. Jensen')]\n",
                        "[('author', 'http://www.wikidata.org/entity/Q151936'), ('name', 'James George Frazer')]\n",
                        "[('author', 'http://www.wikidata.org/entity/Q765'), ('name', 'Dario Fo')]\n",
                        "[('author', 'http://www.wikidata.org/entity/Q3045911'), ('name', 'Jean Price-Mars')]\n",
                        "[('author', 'http://www.wikidata.org/entity/Q1913127'), ('name', 'Max Neuburger')]\n",
                        "[('author', 'http://www.wikidata.org/entity/Q3174282'), ('name', 'Jean Revel')]\n",
                        "[('author', 'http://www.wikidata.org/entity/Q425592'), ('name', 'Rafael Altamira y Crevea')]\n",
                        "[('author', 'http://www.wikidata.org/entity/Q727717'), ('name', 'Ram\u00f3n P\u00e9rez de Ayala')]\n",
                        "[('author', 'http://www.wikidata.org/entity/Q1899007'), ('name', 'Mario Roques')]\n"
                    ]
                },
                {
                    "data": {
                        "text/plain": [
                            "50"
                        ]
                    },
                    "execution_count": 7,
                    "metadata": {},
                    "output_type": "execute_result"
                }
            ],
            "source": [
                "#let's retrieve some literature nobel prize winners/nominees\n",
                "q = f\"\"\"\n",
                "select distinct ?author ?name where{{\n",
                "?author wdt:P106/wdt:P279* wd:Q36180;\n",
                "    <http://schema.org/name> ?name ;\n",
                "    wdt:P1411 | wdt:P166 wd:Q37922\n",
                "}}\n",
                "limit 50\n",
                "\"\"\"\n",
                "run_query(q)"
            ]
        },
        {
            "cell_type": "code",
            "execution_count": 8,
            "id": "ec3e2e76-95e8-4e42-b7bc-7c665f77d197",
            "metadata": {
                "collapsed": true,
                "jupyter": {
                    "outputs_hidden": true
                },
                "tags": []
            },
            "outputs": [
                {
                    "name": "stdout",
                    "output_type": "stream",
                    "text": [
                        "[('property', 'http://www.wikidata.org/prop/direct/P9419'), ('name', 'personal library at')]\n",
                        "[('property', 'http://www.wikidata.org/prop/direct/P1003'), ('name', 'National Library of Romania ID')]\n",
                        "[('property', 'http://www.wikidata.org/prop/direct/P1005'), ('name', 'Portuguese National Library ID')]\n",
                        "[('property', 'http://www.wikidata.org/prop/direct/P1006'), ('name', 'Nationale Thesaurus voor Auteurs ID')]\n",
                        "[('property', 'http://www.wikidata.org/prop/direct/P101'), ('name', 'field of work')]\n",
                        "[('property', 'http://www.wikidata.org/prop/direct/P1015'), ('name', 'NORAF ID')]\n",
                        "[('property', 'http://www.wikidata.org/prop/direct/P1017'), ('name', 'Vatican Library ID (former scheme)')]\n",
                        "[('property', 'http://www.wikidata.org/prop/direct/P102'), ('name', 'member of political party')]\n",
                        "[('property', 'http://www.wikidata.org/prop/direct/P103'), ('name', 'native language')]\n",
                        "[('property', 'http://www.wikidata.org/prop/direct/P1036'), ('name', 'Dewey Decimal Classification')]\n",
                        "[('property', 'http://www.wikidata.org/prop/direct/P1050'), ('name', 'medical condition')]\n",
                        "[('property', 'http://www.wikidata.org/prop/direct/P106'), ('name', 'occupation')]\n",
                        "[('property', 'http://www.wikidata.org/prop/direct/P1066'), ('name', 'student of')]\n",
                        "[('property', 'http://www.wikidata.org/prop/direct/P108'), ('name', 'employer')]\n",
                        "[('property', 'http://www.wikidata.org/prop/direct/P109'), ('name', 'signature')]\n",
                        "[('property', 'http://www.wikidata.org/prop/direct/P1150'), ('name', 'Regensburg Classification')]\n",
                        "[('property', 'http://www.wikidata.org/prop/direct/P1153'), ('name', 'Scopus author ID')]\n",
                        "[('property', 'http://www.wikidata.org/prop/direct/P119'), ('name', 'place of burial')]\n",
                        "[('property', 'http://www.wikidata.org/prop/direct/P1196'), ('name', 'manner of death')]\n",
                        "[('property', 'http://www.wikidata.org/prop/direct/P1207'), ('name', 'NUKAT ID')]\n",
                        "[('property', 'http://www.wikidata.org/prop/direct/P1220'), ('name', 'Internet Broadway Database person ID')]\n",
                        "[('property', 'http://www.wikidata.org/prop/direct/P1225'), ('name', 'U.S. National Archives Identifier')]\n",
                        "[('property', 'http://www.wikidata.org/prop/direct/P1233'), ('name', 'Internet Speculative Fiction Database author ID')]\n",
                        "[('property', 'http://www.wikidata.org/prop/direct/P1263'), ('name', 'NNDB people ID')]\n",
                        "[('property', 'http://www.wikidata.org/prop/direct/P1273'), ('name', 'CANTIC ID')]\n",
                        "[('property', 'http://www.wikidata.org/prop/direct/P1280'), ('name', 'CONOR.SI ID')]\n",
                        "[('property', 'http://www.wikidata.org/prop/direct/P1284'), ('name', 'Munzinger person ID')]\n",
                        "[('property', 'http://www.wikidata.org/prop/direct/P1296'), ('name', 'Gran Enciclop\u00e8dia Catalana ID')]\n",
                        "[('property', 'http://www.wikidata.org/prop/direct/P1309'), ('name', 'EGAXA ID')]\n",
                        "[('property', 'http://www.wikidata.org/prop/direct/P1315'), ('name', 'NLA Trove ID')]\n",
                        "[('property', 'http://www.wikidata.org/prop/direct/P1343'), ('name', 'described by source')]\n",
                        "[('property', 'http://www.wikidata.org/prop/direct/P135'), ('name', 'movement')]\n",
                        "[('property', 'http://www.wikidata.org/prop/direct/P136'), ('name', 'genre')]\n",
                        "[('property', 'http://www.wikidata.org/prop/direct/P1368'), ('name', 'LNB ID')]\n",
                        "[('property', 'http://www.wikidata.org/prop/direct/P1375'), ('name', 'NSK ID')]\n",
                        "[('property', 'http://www.wikidata.org/prop/direct/P140'), ('name', 'religion')]\n",
                        "[('property', 'http://www.wikidata.org/prop/direct/P1411'), ('name', 'nominated for')]\n",
                        "[('property', 'http://www.wikidata.org/prop/direct/P1412'), ('name', 'languages spoken, written or signed')]\n",
                        "[('property', 'http://www.wikidata.org/prop/direct/P1415'), ('name', 'Oxford Dictionary of National Biography ID')]\n",
                        "[('property', 'http://www.wikidata.org/prop/direct/P1417'), ('name', 'Encyclop\u00e6dia Britannica Online ID')]\n",
                        "[('property', 'http://www.wikidata.org/prop/direct/P1430'), ('name', 'OpenPlaques subject ID')]\n",
                        "[('property', 'http://www.wikidata.org/prop/direct/P1438'), ('name', 'Jewish Encyclopedia ID (Russian)')]\n",
                        "[('property', 'http://www.wikidata.org/prop/direct/P1442'), ('name', 'image of grave')]\n",
                        "[('property', 'http://www.wikidata.org/prop/direct/P1472'), ('name', 'Commons Creator page')]\n",
                        "[('property', 'http://www.wikidata.org/prop/direct/P1477'), ('name', 'birth name')]\n",
                        "[('property', 'http://www.wikidata.org/prop/direct/P1556'), ('name', 'zbMATH author ID')]\n",
                        "[('property', 'http://www.wikidata.org/prop/direct/P1559'), ('name', 'name in native language')]\n",
                        "[('property', 'http://www.wikidata.org/prop/direct/P1563'), ('name', 'MacTutor biography ID')]\n",
                        "[('property', 'http://www.wikidata.org/prop/direct/P1576'), ('name', 'lifestyle')]\n",
                        "[('property', 'http://www.wikidata.org/prop/direct/P1580'), ('name', 'University of Barcelona authority ID')]\n",
                        "[('property', 'http://www.wikidata.org/prop/direct/P1607'), ('name', 'Dialnet author ID')]\n",
                        "[('property', 'http://www.wikidata.org/prop/direct/P166'), ('name', 'award received')]\n",
                        "[('property', 'http://www.wikidata.org/prop/direct/P1670'), ('name', 'Canadiana Authorities ID (former scheme)')]\n",
                        "[('property', 'http://www.wikidata.org/prop/direct/P1695'), ('name', 'NLP ID (unique)')]\n",
                        "[('property', 'http://www.wikidata.org/prop/direct/P1711'), ('name', 'British Museum person or institution ID')]\n",
                        "[('property', 'http://www.wikidata.org/prop/direct/P172'), ('name', 'ethnic group')]\n",
                        "[('property', 'http://www.wikidata.org/prop/direct/P1741'), ('name', 'GTAA ID')]\n",
                        "[('property', 'http://www.wikidata.org/prop/direct/P18'), ('name', 'image')]\n",
                        "[('property', 'http://www.wikidata.org/prop/direct/P1816'), ('name', 'National Portrait Gallery (London) person ID')]\n",
                        "[('property', 'http://www.wikidata.org/prop/direct/P1819'), ('name', 'genealogics.org person ID')]\n",
                        "[('property', 'http://www.wikidata.org/prop/direct/P1830'), ('name', 'owner of')]\n",
                        "[('property', 'http://www.wikidata.org/prop/direct/P184'), ('name', 'doctoral advisor')]\n",
                        "[('property', 'http://www.wikidata.org/prop/direct/P185'), ('name', 'doctoral student')]\n",
                        "[('property', 'http://www.wikidata.org/prop/direct/P1871'), ('name', 'CERL Thesaurus ID')]\n",
                        "[('property', 'http://www.wikidata.org/prop/direct/P1889'), ('name', 'different from')]\n",
                        "[('property', 'http://www.wikidata.org/prop/direct/P1890'), ('name', 'CCAB ID')]\n",
                        "[('property', 'http://www.wikidata.org/prop/direct/P1899'), ('name', 'LibriVox author ID')]\n",
                        "[('property', 'http://www.wikidata.org/prop/direct/P19'), ('name', 'place of birth')]\n",
                        "[('property', 'http://www.wikidata.org/prop/direct/P1938'), ('name', 'Project Gutenberg author ID')]\n",
                        "[('property', 'http://www.wikidata.org/prop/direct/P1953'), ('name', 'Discogs artist ID')]\n",
                        "[('property', 'http://www.wikidata.org/prop/direct/P1960'), ('name', 'Google Scholar author ID')]\n",
                        "[('property', 'http://www.wikidata.org/prop/direct/P1977'), ('name', 'Les Archives du Spectacle Person ID')]\n",
                        "[('property', 'http://www.wikidata.org/prop/direct/P20'), ('name', 'place of death')]\n",
                        "[('property', 'http://www.wikidata.org/prop/direct/P2013'), ('name', 'Facebook ID')]\n",
                        "[('property', 'http://www.wikidata.org/prop/direct/P2031'), ('name', 'work period (start)')]\n",
                        "[('property', 'http://www.wikidata.org/prop/direct/P21'), ('name', 'sex or gender')]\n",
                        "[('property', 'http://www.wikidata.org/prop/direct/P213'), ('name', 'ISNI')]\n",
                        "[('property', 'http://www.wikidata.org/prop/direct/P214'), ('name', 'VIAF ID')]\n",
                        "[('property', 'http://www.wikidata.org/prop/direct/P2163'), ('name', 'FAST ID')]\n",
                        "[('property', 'http://www.wikidata.org/prop/direct/P217'), ('name', 'inventory number')]\n",
                        "[('property', 'http://www.wikidata.org/prop/direct/P2188'), ('name', 'BiblioNet author ID')]\n",
                        "[('property', 'http://www.wikidata.org/prop/direct/P2191'), ('name', 'Vegetti Catalog of Fantastic Literature NILF ID')]\n",
                        "[('property', 'http://www.wikidata.org/prop/direct/P22'), ('name', 'father')]\n",
                        "[('property', 'http://www.wikidata.org/prop/direct/P227'), ('name', 'GND ID')]\n",
                        "[('property', 'http://www.wikidata.org/prop/direct/P2348'), ('name', 'time period')]\n",
                        "[('property', 'http://www.wikidata.org/prop/direct/P2381'), ('name', 'Academic Tree ID')]\n",
                        "[('property', 'http://www.wikidata.org/prop/direct/P244'), ('name', 'Library of Congress authority ID')]\n",
                        "[('property', 'http://www.wikidata.org/prop/direct/P245'), ('name', 'Union List of Artist Names ID')]\n",
                        "[('property', 'http://www.wikidata.org/prop/direct/P2469'), ('name', 'Theatricalia person ID')]\n",
                        "[('property', 'http://www.wikidata.org/prop/direct/P25'), ('name', 'mother')]\n",
                        "[('property', 'http://www.wikidata.org/prop/direct/P2533'), ('name', 'WomenWriters ID')]\n",
                        "[('property', 'http://www.wikidata.org/prop/direct/P26'), ('name', 'spouse')]\n",
                        "[('property', 'http://www.wikidata.org/prop/direct/P2600'), ('name', 'Geni.com profile ID')]\n",
                        "[('property', 'http://www.wikidata.org/prop/direct/P2605'), ('name', '\u010cSFD person ID')]\n",
                        "[('property', 'http://www.wikidata.org/prop/direct/P2607'), ('name', 'BookBrainz author ID')]\n",
                        "[('property', 'http://www.wikidata.org/prop/direct/P2632'), ('name', 'place of detention')]\n",
                        "[('property', 'http://www.wikidata.org/prop/direct/P2638'), ('name', 'TV.com ID')]\n",
                        "[('property', 'http://www.wikidata.org/prop/direct/P2639'), ('name', 'Filmportal ID')]\n",
                        "[('property', 'http://www.wikidata.org/prop/direct/P268'), ('name', 'Biblioth\u00e8que nationale de France ID')]\n",
                        "[('property', 'http://www.wikidata.org/prop/direct/P269'), ('name', 'IdRef ID')]\n"
                    ]
                },
                {
                    "data": {
                        "text/plain": [
                            "100"
                        ]
                    },
                    "execution_count": 8,
                    "metadata": {},
                    "output_type": "execute_result"
                }
            ],
            "source": [
                "#let's look for interesting attributes\n",
                "q = f\"\"\"\n",
                "select distinct ?property ?name where{{\n",
                "?author wdt:P106/wdt:P279* wd:Q36180;\n",
                "    wdt:P1411 | wdt:P166 wd:Q37922;\n",
                "    ?property ?object .\n",
                "    \n",
                "?property <http://schema.org/name> ?name .\n",
                "}}\n",
                "limit 100\n",
                "\"\"\"\n",
                "run_query(q)"
            ]
        },
        {
            "cell_type": "code",
            "execution_count": 9,
            "id": "48e2b2cc-3e6d-4500-b37c-141b391e1277",
            "metadata": {},
            "outputs": [
                {
                    "name": "stdout",
                    "output_type": "stream",
                    "text": [
                        "[('property', 'http://www.wikidata.org/prop/direct/P1576'), ('name', 'lifestyle')]\n",
                        "[('property', 'http://www.wikidata.org/prop/direct/P184'), ('name', 'doctoral advisor')]\n",
                        "[('property', 'http://www.wikidata.org/prop/direct/P185'), ('name', 'doctoral student')]\n",
                        "[('property', 'http://www.wikidata.org/prop/direct/P2632'), ('name', 'place of detention')]\n",
                        "[('property', 'http://www.wikidata.org/prop/direct/P5459'), ('name', 'RHE doctor ID')]\n",
                        "[('property', 'http://www.wikidata.org/prop/direct/P5415'), ('name', 'Whonamedit? doctor ID')]\n"
                    ]
                },
                {
                    "data": {
                        "text/plain": [
                            "6"
                        ]
                    },
                    "execution_count": 9,
                    "metadata": {},
                    "output_type": "execute_result"
                }
            ],
            "source": [
                "genre = 'wdt:P136'\n",
                "doctoralAdvisor = 'wdt:P184'\n",
                "placeOfDetention = 'wdt:P2632'\n",
                "lifestyle = 'wdt:P1576'\n",
                "#date of birth/place of birth, gender, spouses are properties that every person usually has. let's look instead into detention and lifestyle\n",
                "#let's also look for doctorates\n",
                "\n",
                "q = f\"\"\"\n",
                "select distinct ?property ?name where{{\n",
                "?author wdt:P106/wdt:P279* wd:Q36180;\n",
                "    wdt:P1411 | wdt:P166 wd:Q37922;\n",
                "    ?property ?object .\n",
                "    \n",
                "?property <http://schema.org/name> ?name .\n",
                "\n",
                "filter regex(?name, '.*(doctor|detent|carcer|style).*', 'i')\n",
                "}}\n",
                "limit 100\n",
                "\"\"\"\n",
                "run_query(q)"
            ]
        },
        {
            "cell_type": "code",
            "execution_count": 10,
            "id": "6157c595-2b1e-4547-b421-54818aade7b2",
            "metadata": {},
            "outputs": [
                {
                    "name": "stdout",
                    "output_type": "stream",
                    "text": [
                        "[('name', 'Bertrand Russell'), ('placeName', 'HM Prison Brixton')]\n",
                        "[('name', 'Paul Celan'), ('placeName', 'Czernowitz Ghetto')]\n",
                        "[('name', 'Aleksandr Solzhenitsyn'), ('placeName', 'Lefortovo Prison')]\n",
                        "[('name', 'Aleksandr Solzhenitsyn'), ('placeName', 'Lubyanka Building')]\n",
                        "[('name', 'Elise Richter'), ('placeName', 'Theresienstadt Ghetto')]\n",
                        "[('name', 'Maxim Gorky'), ('placeName', 'Peter and Paul Fortress')]\n",
                        "[('name', 'J\u00e9r\u00f4me Carcopino'), ('placeName', 'Fresnes Prison')]\n",
                        "[('name', 'Julien Gracq'), ('placeName', 'Oflag IV-D')]\n",
                        "[('name', 'Imre Kert\u00e9sz'), ('placeName', 'Auschwitz')]\n",
                        "[('name', 'Imre Kert\u00e9sz'), ('placeName', 'Buchenwald concentration camp')]\n",
                        "[('name', 'Arnulf \u00d8verland'), ('placeName', 'Sachsenhausen concentration camp')]\n"
                    ]
                },
                {
                    "data": {
                        "text/plain": [
                            "11"
                        ]
                    },
                    "execution_count": 10,
                    "metadata": {},
                    "output_type": "execute_result"
                }
            ],
            "source": [
                "#we find nothing more\n",
                "\n",
                "#let's see some authors that were incarcerated and where\n",
                "q = f\"\"\"\n",
                "select distinct ?name ?placeName where{{\n",
                "?author wdt:P106/wdt:P279* wd:Q36180;\n",
                "    wdt:P1411 | wdt:P166 wd:Q37922;\n",
                "    <http://schema.org/name> ?name ;\n",
                "    wdt:P2632 ?place .\n",
                "    \n",
                "?place <http://schema.org/name> ?placeName\n",
                "}}\n",
                "limit 25\n",
                "\"\"\"\n",
                "run_query(q)"
            ]
        },
        {
            "cell_type": "code",
            "execution_count": 11,
            "id": "177bbad4-195d-4585-b6b6-2c95b97aac37",
            "metadata": {},
            "outputs": [
                {
                    "name": "stdout",
                    "output_type": "stream",
                    "text": [
                        "[('name', 'Aldous Huxley'), ('styleName', 'mysticism')]\n",
                        "[('name', 'George Bernard Shaw'), ('styleName', 'mysticism')]\n",
                        "[('name', 'T.\\xa0S. Eliot'), ('styleName', 'mysticism')]\n",
                        "[('name', 'Nicolai Berdyaev'), ('styleName', 'mysticism')]\n",
                        "[('name', 'Aldous Huxley'), ('styleName', 'vegetarianism')]\n",
                        "[('name', 'George Bernard Shaw'), ('styleName', 'vegetarianism')]\n",
                        "[('name', 'Shmuel Yosef Agnon'), ('styleName', 'vegetarianism')]\n",
                        "[('name', 'Isaac Bashevis Singer'), ('styleName', 'vegetarianism')]\n"
                    ]
                },
                {
                    "data": {
                        "text/plain": [
                            "8"
                        ]
                    },
                    "execution_count": 11,
                    "metadata": {},
                    "output_type": "execute_result"
                }
            ],
            "source": [
                "#let's see the lifestyles instead\n",
                "q = f\"\"\"\n",
                "select distinct ?name ?styleName where{{\n",
                "?author wdt:P106/wdt:P279* wd:Q36180;\n",
                "    wdt:P1411 | wdt:P166 wd:Q37922;\n",
                "    <http://schema.org/name> ?name ;\n",
                "    wdt:P1576 ?style .\n",
                "    \n",
                "?style <http://schema.org/name> ?styleName\n",
                "}}\n",
                "limit 25\n",
                "\"\"\"\n",
                "run_query(q)"
            ]
        },
        {
            "cell_type": "code",
            "execution_count": 12,
            "id": "89f3b8e1-1209-4fe5-88c0-80f2620d19a2",
            "metadata": {},
            "outputs": [
                {
                    "name": "stdout",
                    "output_type": "stream",
                    "text": [
                        "[('name', 'T.\\xa0S. Eliot'), ('genreName', 'fiction literature')]\n",
                        "[('name', 'T.\\xa0S. Eliot'), ('genreName', 'poetry')]\n",
                        "[('name', 'Karen Blixen'), ('genreName', 'neo-romanticism')]\n",
                        "[('name', '\u00c9mile Zola'), ('genreName', 'novel')]\n",
                        "[('name', 'Henry James'), ('genreName', 'Gothic literature')]\n",
                        "[('name', 'Karen Blixen'), ('genreName', 'Gothic literature')]\n",
                        "[('name', '\u00c9mile Zola'), ('genreName', 'short story')]\n",
                        "[('name', 'Karen Blixen'), ('genreName', 'magic realism')]\n",
                        "[('name', 'Nadine Gordimer'), ('genreName', 'novel')]\n",
                        "[('name', 'Najib Mahfouz'), ('genreName', 'novel')]\n",
                        "[('name', 'Gabriel Garc\u00eda M\u00e1rquez'), ('genreName', 'novel')]\n",
                        "[('name', 'Nadine Gordimer'), ('genreName', 'short story')]\n",
                        "[('name', 'Alice Munro'), ('genreName', 'short story')]\n",
                        "[('name', 'Najib Mahfouz'), ('genreName', 'short story')]\n",
                        "[('name', 'Nadine Gordimer'), ('genreName', 'novella')]\n",
                        "[('name', 'Jos\u00e9 Saramago'), ('genreName', 'novel')]\n",
                        "[('name', 'Jos\u00e9 Saramago'), ('genreName', 'magic realist fiction')]\n",
                        "[('name', 'Dario Fo'), ('genreName', 'comedy')]\n",
                        "[('name', 'Ram\u00f3n P\u00e9rez de Ayala'), ('genreName', 'poetry')]\n",
                        "[('name', 'Ram\u00f3n P\u00e9rez de Ayala'), ('genreName', 'novel')]\n",
                        "[('name', 'J.\\xa0R.\\xa0R. Tolkien'), ('genreName', 'literary studies')]\n",
                        "[('name', 'G. K. Chesterton'), ('genreName', 'crime novel')]\n",
                        "[('name', 'Andr\u00e9 Gide'), ('genreName', 'dramaturgy')]\n",
                        "[('name', 'Miguel de Unamuno'), ('genreName', 'dramaturgy')]\n",
                        "[('name', 'J.\\xa0R.\\xa0R. Tolkien'), ('genreName', 'translation')]\n"
                    ]
                },
                {
                    "data": {
                        "text/plain": [
                            "25"
                        ]
                    },
                    "execution_count": 12,
                    "metadata": {},
                    "output_type": "execute_result"
                }
            ],
            "source": [
                "#not much information to be found there\n",
                "\n",
                "#what about genre?\n",
                "q = f\"\"\"\n",
                "select distinct ?name ?genreName where{{\n",
                "?author wdt:P106/wdt:P279* wd:Q36180;\n",
                "    wdt:P1411 | wdt:P166 wd:Q37922;\n",
                "    <http://schema.org/name> ?name ;\n",
                "    wdt:P136 ?genre .\n",
                "    \n",
                "?genre <http://schema.org/name> ?genreName\n",
                "}}\n",
                "limit 25\n",
                "\"\"\"\n",
                "run_query(q)"
            ]
        },
        {
            "cell_type": "code",
            "execution_count": 13,
            "id": "f6e7182f-3c1f-46e1-a6e9-adbc5a06054a",
            "metadata": {},
            "outputs": [
                {
                    "name": "stdout",
                    "output_type": "stream",
                    "text": [
                        "[('genre', 'http://www.wikidata.org/entity/Q8261'), ('genreName', 'novel'), ('howmany', '145')]\n",
                        "[('genre', 'http://www.wikidata.org/entity/Q482'), ('genreName', 'poetry'), ('howmany', '73')]\n",
                        "[('genre', 'http://www.wikidata.org/entity/Q49084'), ('genreName', 'short story'), ('howmany', '52')]\n",
                        "[('genre', 'http://www.wikidata.org/entity/Q676'), ('genreName', 'prose'), ('howmany', '38')]\n",
                        "[('genre', 'http://www.wikidata.org/entity/Q35760'), ('genreName', 'essay'), ('howmany', '35')]\n",
                        "[('genre', 'http://www.wikidata.org/entity/Q492537'), ('genreName', 'dramaturgy'), ('howmany', '20')]\n",
                        "[('genre', 'http://www.wikidata.org/entity/Q11635'), ('genreName', 'theatre'), ('howmany', '15')]\n",
                        "[('genre', 'http://www.wikidata.org/entity/Q156035'), ('genreName', 'opinion journalism'), ('howmany', '14')]\n",
                        "[('genre', 'http://www.wikidata.org/entity/Q102439494'), ('genreName', 'magic realist fiction'), ('howmany', '14')]\n",
                        "[('genre', 'http://www.wikidata.org/entity/Q38072107'), ('genreName', 'fiction literature'), ('howmany', '13')]\n",
                        "[('genre', 'http://www.wikidata.org/entity/Q12799318'), ('genreName', 'short novel'), ('howmany', '13')]\n",
                        "[('genre', 'http://www.wikidata.org/entity/Q149537'), ('genreName', 'novella'), ('howmany', '11')]\n",
                        "[('genre', 'http://www.wikidata.org/entity/Q24925'), ('genreName', 'science fiction'), ('howmany', '10')]\n",
                        "[('genre', 'http://www.wikidata.org/entity/Q192239'), ('genreName', 'historical novel'), ('howmany', '10')]\n",
                        "[('genre', 'http://www.wikidata.org/entity/Q184524'), ('genreName', 'lexicography'), ('howmany', '8')]\n",
                        "[('genre', 'http://www.wikidata.org/entity/Q21010853'), ('genreName', 'drama'), ('howmany', '7')]\n",
                        "[('genre', 'http://www.wikidata.org/entity/Q388170'), ('genreName', 'African-American literature'), ('howmany', '7')]\n",
                        "[('genre', 'http://www.wikidata.org/entity/Q474090'), ('genreName', 'narrative poetry'), ('howmany', '6')]\n",
                        "[('genre', 'http://www.wikidata.org/entity/Q4184'), ('genreName', 'autobiography'), ('howmany', '5')]\n",
                        "[('genre', 'http://www.wikidata.org/entity/Q83440'), ('genreName', 'country music'), ('howmany', '5')]\n",
                        "[('genre', 'http://www.wikidata.org/entity/Q2407862'), ('genreName', 'Americana'), ('howmany', '5')]\n",
                        "[('genre', 'http://www.wikidata.org/entity/Q180268'), ('genreName', 'gospel music'), ('howmany', '5')]\n",
                        "[('genre', 'http://www.wikidata.org/entity/Q1541229'), ('genreName', 'American folk music'), ('howmany', '5')]\n",
                        "[('genre', 'http://www.wikidata.org/entity/Q909887'), ('genreName', 'sketch story'), ('howmany', '5')]\n",
                        "[('genre', 'http://www.wikidata.org/entity/Q753520'), ('genreName', 'Christian rock'), ('howmany', '5')]\n",
                        "[('genre', 'http://www.wikidata.org/entity/Q613408'), ('genreName', 'country rock'), ('howmany', '5')]\n",
                        "[('genre', 'http://www.wikidata.org/entity/Q9759'), ('genreName', 'blues'), ('howmany', '5')]\n",
                        "[('genre', 'http://www.wikidata.org/entity/Q40831'), ('genreName', 'comedy'), ('howmany', '5')]\n",
                        "[('genre', 'http://www.wikidata.org/entity/Q11399'), ('genreName', 'rock music'), ('howmany', '5')]\n",
                        "[('genre', 'http://www.wikidata.org/entity/Q186472'), ('genreName', 'folk rock'), ('howmany', '5')]\n",
                        "[('genre', 'http://www.wikidata.org/entity/Q11700058'), ('genreName', 'folk-pop'), ('howmany', '5')]\n",
                        "[('genre', 'http://www.wikidata.org/entity/Q185598'), ('genreName', 'diary'), ('howmany', '4')]\n",
                        "[('genre', 'http://www.wikidata.org/entity/Q103076'), ('genreName', 'screenplay'), ('howmany', '4')]\n",
                        "[('genre', 'http://www.wikidata.org/entity/Q627187'), ('genreName', 'proletarian literature'), ('howmany', '4')]\n",
                        "[('genre', 'http://www.wikidata.org/entity/Q182357'), ('genreName', 'lyric poetry'), ('howmany', '4')]\n",
                        "[('genre', 'http://www.wikidata.org/entity/Q25379'), ('genreName', 'play'), ('howmany', '3')]\n",
                        "[('genre', 'http://www.wikidata.org/entity/Q193195'), ('genreName', 'feuilleton'), ('howmany', '3')]\n",
                        "[('genre', 'http://www.wikidata.org/entity/Q124922'), ('genreName', 'reportage'), ('howmany', '3')]\n",
                        "[('genre', 'http://www.wikidata.org/entity/Q23622'), ('genreName', 'dictionary'), ('howmany', '2')]\n",
                        "[('genre', 'http://www.wikidata.org/entity/Q36279'), ('genreName', 'biography'), ('howmany', '2')]\n",
                        "[('genre', 'http://www.wikidata.org/entity/Q131539'), ('genreName', \"children's literature\"), ('howmany', '2')]\n",
                        "[('genre', 'http://www.wikidata.org/entity/Q1318295'), ('genreName', 'narrative'), ('howmany', '2')]\n",
                        "[('genre', 'http://www.wikidata.org/entity/Q128758'), ('genreName', 'satire'), ('howmany', '1')]\n"
                    ]
                },
                {
                    "data": {
                        "text/plain": [
                            "43"
                        ]
                    },
                    "execution_count": 13,
                    "metadata": {},
                    "output_type": "execute_result"
                }
            ],
            "source": [
                "#let's count the number of genres across nobel winners authors\n",
                "q = f\"\"\"\n",
                "select ?genre ?genreName (count(?author) as ?howmany) where{{\n",
                "?author wdt:P106/wdt:P279* wd:Q36180;\n",
                "    wdt:P166 wd:Q37922;\n",
                "    wdt:P136 ?genre .\n",
                "    \n",
                "?genre <http://schema.org/name> ?genreName\n",
                "}}\n",
                "group by ?genre ?genreName\n",
                "order by desc(?howmany)\n",
                "\"\"\"\n",
                "run_query(q)"
            ]
        },
        {
            "cell_type": "code",
            "execution_count": 14,
            "id": "4f8f0f79-76f0-4e1c-a30e-a3fc35ded34d",
            "metadata": {},
            "outputs": [
                {
                    "name": "stdout",
                    "output_type": "stream",
                    "text": [
                        "[('property', 'http://www.wikidata.org/prop/direct/P103'), ('name', 'native language')]\n",
                        "[('property', 'http://www.wikidata.org/prop/direct/P1196'), ('name', 'manner of death')]\n",
                        "[('property', 'http://www.wikidata.org/prop/direct/P1412'), ('name', 'languages spoken, written or signed')]\n",
                        "[('property', 'http://www.wikidata.org/prop/direct/P1442'), ('name', 'image of grave')]\n",
                        "[('property', 'http://www.wikidata.org/prop/direct/P1472'), ('name', 'Commons Creator page')]\n",
                        "[('property', 'http://www.wikidata.org/prop/direct/P1477'), ('name', 'birth name')]\n",
                        "[('property', 'http://www.wikidata.org/prop/direct/P1559'), ('name', 'name in native language')]\n",
                        "[('property', 'http://www.wikidata.org/prop/direct/P18'), ('name', 'image')]\n",
                        "[('property', 'http://www.wikidata.org/prop/direct/P19'), ('name', 'place of birth')]\n",
                        "[('property', 'http://www.wikidata.org/prop/direct/P20'), ('name', 'place of death')]\n",
                        "[('property', 'http://www.wikidata.org/prop/direct/P21'), ('name', 'sex or gender')]\n",
                        "[('property', 'http://www.wikidata.org/prop/direct/P26'), ('name', 'spouse')]\n",
                        "[('property', 'http://www.wikidata.org/prop/direct/P3373'), ('name', 'sibling')]\n",
                        "[('property', 'http://www.wikidata.org/prop/direct/P3544'), ('name', 'Te Papa agent ID')]\n",
                        "[('property', 'http://www.wikidata.org/prop/direct/P4104'), ('name', 'Carnegie Hall agent ID')]\n",
                        "[('property', 'http://www.wikidata.org/prop/direct/P4629'), ('name', 'Online Books Page author ID')]\n",
                        "[('property', 'http://www.wikidata.org/prop/direct/P4638'), ('name', 'The Peerage person ID')]\n",
                        "[('property', 'http://www.wikidata.org/prop/direct/P4839'), ('name', 'Wolfram Language entity code')]\n",
                        "[('property', 'http://www.wikidata.org/prop/direct/P509'), ('name', 'cause of death')]\n",
                        "[('property', 'http://www.wikidata.org/prop/direct/P569'), ('name', 'date of birth')]\n",
                        "[('property', 'http://www.wikidata.org/prop/direct/P570'), ('name', 'date of death')]\n",
                        "[('property', 'http://www.wikidata.org/prop/direct/P6886'), ('name', 'writing language')]\n",
                        "[('property', 'http://www.wikidata.org/prop/direct/P1801'), ('name', 'commemorative plaque image')]\n",
                        "[('property', 'http://www.wikidata.org/prop/direct/P9371'), ('name', 'FranceArchives agent ID')]\n",
                        "[('property', 'http://www.wikidata.org/prop/direct/P1971'), ('name', 'number of children')]\n",
                        "[('property', 'http://www.wikidata.org/prop/direct/P8643'), ('name', 'Dostoyevsky and His Entourage ID')]\n",
                        "[('property', 'http://www.wikidata.org/prop/direct/P6482'), ('name', 'Image Archive, Herder Institute')]\n",
                        "[('property', 'http://www.wikidata.org/prop/direct/P9049'), ('name', 'ICCD agent ID')]\n",
                        "[('property', 'http://www.wikidata.org/prop/direct/P1260'), ('name', 'Swedish Open Cultural Heritage URI')]\n",
                        "[('property', 'http://www.wikidata.org/prop/direct/P4169'), ('name', 'YCBA agent ID')]\n",
                        "[('property', 'http://www.wikidata.org/prop/direct/P94'), ('name', 'coat of arms image')]\n",
                        "[('property', 'http://www.wikidata.org/prop/direct/P9495'), ('name', 'National Historical Museums of Sweden agent ID')]\n",
                        "[('property', 'http://www.wikidata.org/prop/direct/P3509'), ('name', 'Dagens Nyheter topic ID')]\n",
                        "[('property', 'http://www.wikidata.org/prop/direct/P6903'), ('name', 'ArtBrokerage artist ID')]\n",
                        "[('property', 'http://www.wikidata.org/prop/direct/P5377'), ('name', '\u00c9tonnants voyageurs participant ID')]\n",
                        "[('property', 'http://www.wikidata.org/prop/direct/P1037'), ('name', 'director / manager')]\n",
                        "[('property', 'http://www.wikidata.org/prop/direct/P6461'), ('name', \"Rock's Backpages artist ID\")]\n",
                        "[('property', 'http://www.wikidata.org/prop/direct/P4589'), ('name', 'Dreadnought Project page')]\n",
                        "[('property', 'http://www.wikidata.org/prop/direct/P6802'), ('name', 'related image')]\n",
                        "[('property', 'http://www.wikidata.org/prop/direct/P154'), ('name', 'logo image')]\n"
                    ]
                },
                {
                    "data": {
                        "text/plain": [
                            "40"
                        ]
                    },
                    "execution_count": 14,
                    "metadata": {},
                    "output_type": "execute_result"
                }
            ],
            "source": [
                "#since we didn't get very interesting information when looking for lifestyles, place of detention and so on\n",
                "#let's go back and find more general properties\n",
                "\n",
                "q = f\"\"\"\n",
                "select distinct ?property ?name where{{\n",
                "?author wdt:P106/wdt:P279* wd:Q36180;\n",
                "    wdt:P1411 | wdt:P166 wd:Q37922;\n",
                "    ?property ?object .\n",
                "    \n",
                "?property <http://schema.org/name> ?name .\n",
                "filter regex (?name, '.*(age|spouse|children|sibling|brother|sister|birth|death|gender|husband|wife).*')\n",
                "}}\n",
                "limit 100\n",
                "\"\"\"\n",
                "run_query(q)"
            ]
        },
        {
            "cell_type": "code",
            "execution_count": 15,
            "id": "6af20783-6977-49db-8bba-ae4923e6cbd7",
            "metadata": {},
            "outputs": [
                {
                    "name": "stdout",
                    "output_type": "stream",
                    "text": [
                        "[('author', 'http://www.wikidata.org/entity/Q33760'), ('authorName', 'Bertrand Russell'), ('nSpouses', '72')]\n",
                        "[('author', 'http://www.wikidata.org/entity/Q37060'), ('authorName', 'Jos\u00e9 Saramago'), ('nSpouses', '42')]\n",
                        "[('author', 'http://www.wikidata.org/entity/Q37767'), ('authorName', 'T.\\xa0S. Eliot'), ('nSpouses', '26')]\n",
                        "[('author', 'http://www.wikidata.org/entity/Q23434'), ('authorName', 'Ernest Hemingway'), ('nSpouses', '24')]\n",
                        "[('author', 'http://www.wikidata.org/entity/Q39803'), ('authorName', 'Mario Vargas Llosa'), ('nSpouses', '24')]\n",
                        "[('author', 'http://www.wikidata.org/entity/Q25351'), ('authorName', 'Theodor Mommsen'), ('nSpouses', '22')]\n",
                        "[('author', 'http://www.wikidata.org/entity/Q34670'), ('authorName', 'Antonio carglass'), ('nSpouses', '20')]\n",
                        "[('author', 'http://www.wikidata.org/entity/Q47619'), ('authorName', 'Nadine Gordimer'), ('nSpouses', '16')]\n",
                        "[('author', 'http://www.wikidata.org/entity/Q34474'), ('authorName', 'Aleksandr Solzhenitsyn'), ('nSpouses', '16')]\n",
                        "[('author', 'http://www.wikidata.org/entity/Q6538'), ('authorName', 'G\u00fcnter Grass'), ('nSpouses', '16')]\n",
                        "[('author', 'http://www.wikidata.org/entity/Q45970'), ('authorName', 'Czes\u0142aw Mi\u0142osz'), ('nSpouses', '14')]\n",
                        "[('author', 'http://www.wikidata.org/entity/Q39212'), ('authorName', 'John Steinbeck'), ('nSpouses', '12')]\n",
                        "[('author', 'http://www.wikidata.org/entity/Q46739'), ('authorName', 'Octavio Paz'), ('nSpouses', '12')]\n",
                        "[('author', 'http://www.wikidata.org/entity/Q41223'), ('authorName', 'Boris Pasternak'), ('nSpouses', '12')]\n",
                        "[('author', 'http://www.wikidata.org/entity/Q80900'), ('authorName', 'Pearl S. Buck'), ('nSpouses', '12')]\n",
                        "[('author', 'http://www.wikidata.org/entity/Q25973'), ('authorName', 'Hermann Hesse'), ('nSpouses', '12')]\n",
                        "[('author', 'http://www.wikidata.org/entity/Q38049'), ('authorName', 'Herta M\u00fcller'), ('nSpouses', '10')]\n",
                        "[('author', 'http://www.wikidata.org/entity/Q37030'), ('authorName', 'Thomas Mann'), ('nSpouses', '10')]\n",
                        "[('author', 'http://www.wikidata.org/entity/Q46602'), ('authorName', 'Ivan Bunin'), ('nSpouses', '10')]\n",
                        "[('author', 'http://www.wikidata.org/entity/Q392'), ('authorName', 'Bob Dylan'), ('nSpouses', '10')]\n",
                        "[('author', 'http://www.wikidata.org/entity/Q41042'), ('authorName', 'Harold Pinter'), ('nSpouses', '10')]\n",
                        "[('author', 'http://www.wikidata.org/entity/Q40874'), ('authorName', 'Doris Lessing'), ('nSpouses', '10')]\n",
                        "[('author', 'http://www.wikidata.org/entity/Q40826'), ('authorName', 'Knut Hamsun'), ('nSpouses', '10')]\n",
                        "[('author', 'http://www.wikidata.org/entity/Q47162'), ('authorName', 'Romain Rolland'), ('nSpouses', '9')]\n",
                        "[('author', 'http://www.wikidata.org/entity/Q34743'), ('authorName', 'Rudyard Kipling'), ('nSpouses', '9')]\n",
                        "[('author', 'http://www.wikidata.org/entity/Q5878'), ('authorName', 'Gabriel Garc\u00eda M\u00e1rquez'), ('nSpouses', '9')]\n",
                        "[('author', 'http://www.wikidata.org/entity/Q47243'), ('authorName', 'Elfriede Jelinek'), ('nSpouses', '9')]\n",
                        "[('author', 'http://www.wikidata.org/entity/Q41502'), ('authorName', 'Henryk Sienkiewicz'), ('nSpouses', '9')]\n",
                        "[('author', 'http://www.wikidata.org/entity/Q47484'), ('authorName', 'Andr\u00e9 Gide'), ('nSpouses', '9')]\n",
                        "[('author', 'http://www.wikidata.org/entity/Q81685'), ('authorName', 'Fran\u00e7ois Mauriac'), ('nSpouses', '8')]\n",
                        "[('author', 'http://www.wikidata.org/entity/Q254032'), ('authorName', 'Olga Tokarczuk'), ('nSpouses', '8')]\n",
                        "[('author', 'http://www.wikidata.org/entity/Q47755'), ('authorName', 'Imre Kert\u00e9sz'), ('nSpouses', '8')]\n",
                        "[('author', 'http://www.wikidata.org/entity/Q131326'), ('authorName', 'Eyvind Johnson'), ('nSpouses', '8')]\n",
                        "[('author', 'http://www.wikidata.org/entity/Q42552'), ('authorName', 'Wis\u0142awa Szymborska'), ('nSpouses', '7')]\n",
                        "[('author', 'http://www.wikidata.org/entity/Q49747'), ('authorName', 'Maurice Maeterlinck'), ('nSpouses', '7')]\n",
                        "[('author', 'http://www.wikidata.org/entity/Q43523'), ('authorName', 'Gerhart Hauptmann'), ('nSpouses', '7')]\n",
                        "[('author', 'http://www.wikidata.org/entity/Q38392'), ('authorName', 'William Faulkner'), ('nSpouses', '7')]\n",
                        "[('author', 'http://www.wikidata.org/entity/Q72334'), ('authorName', 'Toni Morrison'), ('nSpouses', '7')]\n",
                        "[('author', 'http://www.wikidata.org/entity/Q83174'), ('authorName', 'Eugenio Montale'), ('nSpouses', '7')]\n",
                        "[('author', 'http://www.wikidata.org/entity/Q37327'), ('authorName', 'Samuel Beckett'), ('nSpouses', '7')]\n",
                        "[('author', 'http://www.wikidata.org/entity/Q42747'), ('authorName', 'Heinrich B\u00f6ll'), ('nSpouses', '6')]\n",
                        "[('author', 'http://www.wikidata.org/entity/Q272855'), ('authorName', 'Kazuo Ishiguro'), ('nSpouses', '6')]\n",
                        "[('author', 'http://www.wikidata.org/entity/Q93157'), ('authorName', \"Eugene O'Neill\"), ('nSpouses', '6')]\n",
                        "[('author', 'http://www.wikidata.org/entity/Q7241'), ('authorName', 'Rabindranath Tagore'), ('nSpouses', '6')]\n",
                        "[('author', 'http://www.wikidata.org/entity/Q80321'), ('authorName', 'Halld\u00f3r Laxness'), ('nSpouses', '6')]\n",
                        "[('author', 'http://www.wikidata.org/entity/Q93356'), ('authorName', 'Seamus Heaney'), ('nSpouses', '6')]\n",
                        "[('author', 'http://www.wikidata.org/entity/Q80889'), ('authorName', 'Sigrid Undset'), ('nSpouses', '6')]\n",
                        "[('author', 'http://www.wikidata.org/entity/Q765'), ('authorName', 'Dario Fo'), ('nSpouses', '5')]\n",
                        "[('author', 'http://www.wikidata.org/entity/Q80064'), ('authorName', 'Elias Canetti'), ('nSpouses', '5')]\n",
                        "[('author', 'http://www.wikidata.org/entity/Q132695'), ('authorName', 'Harry Martinson'), ('nSpouses', '5')]\n",
                        "[('author', 'http://www.wikidata.org/entity/Q83059'), ('authorName', 'Saul Bellow'), ('nSpouses', '5')]\n",
                        "[('author', 'http://www.wikidata.org/entity/Q1403'), ('authorName', 'Luigi Pirandello'), ('nSpouses', '5')]\n",
                        "[('author', 'http://www.wikidata.org/entity/Q47561'), ('authorName', 'Ivo Andri\u0107'), ('nSpouses', '4')]\n",
                        "[('author', 'http://www.wikidata.org/entity/Q44107'), ('authorName', 'Peter Handke'), ('nSpouses', '4')]\n",
                        "[('author', 'http://www.wikidata.org/entity/Q46405'), ('authorName', 'Bj\u00f8rnstjerne Bj\u00f8rnson'), ('nSpouses', '4')]\n",
                        "[('author', 'http://www.wikidata.org/entity/Q43736'), ('authorName', 'Yasunari Kawabata'), ('nSpouses', '4')]\n",
                        "[('author', 'http://www.wikidata.org/entity/Q2344210'), ('authorName', 'Louise Gl\u00fcck'), ('nSpouses', '3')]\n",
                        "[('author', 'http://www.wikidata.org/entity/Q165823'), ('authorName', 'Giorgos Seferis'), ('nSpouses', '3')]\n",
                        "[('author', 'http://www.wikidata.org/entity/Q123469'), ('authorName', 'Sinclair Lewis'), ('nSpouses', '3')]\n",
                        "[('author', 'http://www.wikidata.org/entity/Q42122'), ('authorName', 'Tomas Transtr\u00f6mer'), ('nSpouses', '3')]\n",
                        "[('author', 'http://www.wikidata.org/entity/Q44593'), ('authorName', 'V. S. Naipaul'), ('nSpouses', '3')]\n",
                        "[('author', 'http://www.wikidata.org/entity/Q132684'), ('authorName', 'Saint-John Perse'), ('nSpouses', '3')]\n",
                        "[('author', 'http://www.wikidata.org/entity/Q34189'), ('authorName', 'Pablo Neruda'), ('nSpouses', '3')]\n",
                        "[('author', 'http://www.wikidata.org/entity/Q40213'), ('authorName', 'William Butler Yeats'), ('nSpouses', '3')]\n",
                        "[('author', 'http://www.wikidata.org/entity/Q8016'), ('authorName', 'Winston Churchill'), ('nSpouses', '2')]\n",
                        "[('author', 'http://www.wikidata.org/entity/Q222944'), ('authorName', 'Patrick Modiano'), ('nSpouses', '2')]\n",
                        "[('author', 'http://www.wikidata.org/entity/Q131318'), ('authorName', 'Juan Ram\u00f3n Jim\u00e9nez'), ('nSpouses', '2')]\n",
                        "[('author', 'http://www.wikidata.org/entity/Q42596'), ('authorName', 'Fr\u00e9d\u00e9ric Mistral'), ('nSpouses', '2')]\n",
                        "[('author', 'http://www.wikidata.org/entity/Q19185'), ('authorName', 'George Bernard Shaw'), ('nSpouses', '1')]\n"
                    ]
                },
                {
                    "data": {
                        "text/plain": [
                            "69"
                        ]
                    },
                    "execution_count": 15,
                    "metadata": {},
                    "output_type": "execute_result"
                }
            ],
            "source": [
                "mannerOfDeath = 'wdt:P1196'\n",
                "gender = 'wdt:P21'\n",
                "spouse = 'wdt:P26'\n",
                "sibling = 'wdt:P3373'\n",
                "deathDate = 'wdt:P570'\n",
                "birthDate = 'wdt:P569'\n",
                "nChildren = 'wdt:P1971'\n",
                "\n",
                "#let's count the number of spuses each nobel prize winner had\n",
                "q = f\"\"\"\n",
                "select ?author ?authorName (count(?spouse) as ?nSpouses) where{{\n",
                "?author wdt:P106/wdt:P279* wd:Q36180;\n",
                "    <http://schema.org/name> ?authorName ;\n",
                "    wdt:P166 wd:Q37922;\n",
                "    wdt:P26 ?spouse .\n",
                "    \n",
                "}}\n",
                "group by ?author ?authorName\n",
                "order by desc(?nSpouses)\n",
                "limit 100\n",
                "\"\"\"\n",
                "run_query(q)"
            ]
        },
        {
            "cell_type": "code",
            "execution_count": 16,
            "id": "786a5bfe-a4b5-4c12-bb26-c294d6c4fad2",
            "metadata": {},
            "outputs": [
                {
                    "name": "stdout",
                    "output_type": "stream",
                    "text": [
                        "[('author', 'http://www.wikidata.org/entity/Q33760'), ('authorName', 'Bertrand Russell'), ('nSpouses', '4')]\n",
                        "[('author', 'http://www.wikidata.org/entity/Q23434'), ('authorName', 'Ernest Hemingway'), ('nSpouses', '4')]\n",
                        "[('author', 'http://www.wikidata.org/entity/Q41502'), ('authorName', 'Henryk Sienkiewicz'), ('nSpouses', '3')]\n",
                        "[('author', 'http://www.wikidata.org/entity/Q25973'), ('authorName', 'Hermann Hesse'), ('nSpouses', '3')]\n",
                        "[('author', 'http://www.wikidata.org/entity/Q39212'), ('authorName', 'John Steinbeck'), ('nSpouses', '3')]\n",
                        "[('author', 'http://www.wikidata.org/entity/Q37060'), ('authorName', 'Jos\u00e9 Saramago'), ('nSpouses', '3')]\n",
                        "[('author', 'http://www.wikidata.org/entity/Q131326'), ('authorName', 'Eyvind Johnson'), ('nSpouses', '2')]\n",
                        "[('author', 'http://www.wikidata.org/entity/Q47755'), ('authorName', 'Imre Kert\u00e9sz'), ('nSpouses', '2')]\n",
                        "[('author', 'http://www.wikidata.org/entity/Q41223'), ('authorName', 'Boris Pasternak'), ('nSpouses', '2')]\n",
                        "[('author', 'http://www.wikidata.org/entity/Q6538'), ('authorName', 'G\u00fcnter Grass'), ('nSpouses', '2')]\n",
                        "[('author', 'http://www.wikidata.org/entity/Q41042'), ('authorName', 'Harold Pinter'), ('nSpouses', '2')]\n",
                        "[('author', 'http://www.wikidata.org/entity/Q37767'), ('authorName', 'T.\\xa0S. Eliot'), ('nSpouses', '2')]\n",
                        "[('author', 'http://www.wikidata.org/entity/Q34474'), ('authorName', 'Aleksandr Solzhenitsyn'), ('nSpouses', '2')]\n",
                        "[('author', 'http://www.wikidata.org/entity/Q34670'), ('authorName', 'Antonio carglass'), ('nSpouses', '2')]\n",
                        "[('author', 'http://www.wikidata.org/entity/Q392'), ('authorName', 'Bob Dylan'), ('nSpouses', '2')]\n",
                        "[('author', 'http://www.wikidata.org/entity/Q38049'), ('authorName', 'Herta M\u00fcller'), ('nSpouses', '2')]\n",
                        "[('author', 'http://www.wikidata.org/entity/Q46602'), ('authorName', 'Ivan Bunin'), ('nSpouses', '2')]\n",
                        "[('author', 'http://www.wikidata.org/entity/Q254032'), ('authorName', 'Olga Tokarczuk'), ('nSpouses', '2')]\n",
                        "[('author', 'http://www.wikidata.org/entity/Q93157'), ('authorName', \"Eugene O'Neill\"), ('nSpouses', '2')]\n",
                        "[('author', 'http://www.wikidata.org/entity/Q40826'), ('authorName', 'Knut Hamsun'), ('nSpouses', '2')]\n",
                        "[('author', 'http://www.wikidata.org/entity/Q47619'), ('authorName', 'Nadine Gordimer'), ('nSpouses', '2')]\n",
                        "[('author', 'http://www.wikidata.org/entity/Q80900'), ('authorName', 'Pearl S. Buck'), ('nSpouses', '2')]\n",
                        "[('author', 'http://www.wikidata.org/entity/Q39803'), ('authorName', 'Mario Vargas Llosa'), ('nSpouses', '2')]\n",
                        "[('author', 'http://www.wikidata.org/entity/Q46739'), ('authorName', 'Octavio Paz'), ('nSpouses', '2')]\n",
                        "[('author', 'http://www.wikidata.org/entity/Q45970'), ('authorName', 'Czes\u0142aw Mi\u0142osz'), ('nSpouses', '2')]\n",
                        "[('author', 'http://www.wikidata.org/entity/Q37327'), ('authorName', 'Samuel Beckett'), ('nSpouses', '1')]\n",
                        "[('author', 'http://www.wikidata.org/entity/Q80889'), ('authorName', 'Sigrid Undset'), ('nSpouses', '1')]\n",
                        "[('author', 'http://www.wikidata.org/entity/Q47243'), ('authorName', 'Elfriede Jelinek'), ('nSpouses', '1')]\n",
                        "[('author', 'http://www.wikidata.org/entity/Q72334'), ('authorName', 'Toni Morrison'), ('nSpouses', '1')]\n",
                        "[('author', 'http://www.wikidata.org/entity/Q40213'), ('authorName', 'William Butler Yeats'), ('nSpouses', '1')]\n",
                        "[('author', 'http://www.wikidata.org/entity/Q47561'), ('authorName', 'Ivo Andri\u0107'), ('nSpouses', '1')]\n",
                        "[('author', 'http://www.wikidata.org/entity/Q2344210'), ('authorName', 'Louise Gl\u00fcck'), ('nSpouses', '1')]\n",
                        "[('author', 'http://www.wikidata.org/entity/Q49747'), ('authorName', 'Maurice Maeterlinck'), ('nSpouses', '1')]\n",
                        "[('author', 'http://www.wikidata.org/entity/Q42122'), ('authorName', 'Tomas Transtr\u00f6mer'), ('nSpouses', '1')]\n",
                        "[('author', 'http://www.wikidata.org/entity/Q19185'), ('authorName', 'George Bernard Shaw'), ('nSpouses', '1')]\n",
                        "[('author', 'http://www.wikidata.org/entity/Q38392'), ('authorName', 'William Faulkner'), ('nSpouses', '1')]\n",
                        "[('author', 'http://www.wikidata.org/entity/Q81685'), ('authorName', 'Fran\u00e7ois Mauriac'), ('nSpouses', '1')]\n",
                        "[('author', 'http://www.wikidata.org/entity/Q272855'), ('authorName', 'Kazuo Ishiguro'), ('nSpouses', '1')]\n",
                        "[('author', 'http://www.wikidata.org/entity/Q34189'), ('authorName', 'Pablo Neruda'), ('nSpouses', '1')]\n",
                        "[('author', 'http://www.wikidata.org/entity/Q43736'), ('authorName', 'Yasunari Kawabata'), ('nSpouses', '1')]\n",
                        "[('author', 'http://www.wikidata.org/entity/Q83174'), ('authorName', 'Eugenio Montale'), ('nSpouses', '1')]\n",
                        "[('author', 'http://www.wikidata.org/entity/Q43523'), ('authorName', 'Gerhart Hauptmann'), ('nSpouses', '1')]\n",
                        "[('author', 'http://www.wikidata.org/entity/Q47162'), ('authorName', 'Romain Rolland'), ('nSpouses', '1')]\n",
                        "[('author', 'http://www.wikidata.org/entity/Q123469'), ('authorName', 'Sinclair Lewis'), ('nSpouses', '1')]\n",
                        "[('author', 'http://www.wikidata.org/entity/Q93356'), ('authorName', 'Seamus Heaney'), ('nSpouses', '1')]\n",
                        "[('author', 'http://www.wikidata.org/entity/Q132695'), ('authorName', 'Harry Martinson'), ('nSpouses', '1')]\n",
                        "[('author', 'http://www.wikidata.org/entity/Q165823'), ('authorName', 'Giorgos Seferis'), ('nSpouses', '1')]\n",
                        "[('author', 'http://www.wikidata.org/entity/Q8016'), ('authorName', 'Winston Churchill'), ('nSpouses', '1')]\n",
                        "[('author', 'http://www.wikidata.org/entity/Q37030'), ('authorName', 'Thomas Mann'), ('nSpouses', '1')]\n",
                        "[('author', 'http://www.wikidata.org/entity/Q44593'), ('authorName', 'V. S. Naipaul'), ('nSpouses', '1')]\n",
                        "[('author', 'http://www.wikidata.org/entity/Q47484'), ('authorName', 'Andr\u00e9 Gide'), ('nSpouses', '1')]\n",
                        "[('author', 'http://www.wikidata.org/entity/Q80064'), ('authorName', 'Elias Canetti'), ('nSpouses', '1')]\n",
                        "[('author', 'http://www.wikidata.org/entity/Q765'), ('authorName', 'Dario Fo'), ('nSpouses', '1')]\n",
                        "[('author', 'http://www.wikidata.org/entity/Q222944'), ('authorName', 'Patrick Modiano'), ('nSpouses', '1')]\n",
                        "[('author', 'http://www.wikidata.org/entity/Q34743'), ('authorName', 'Rudyard Kipling'), ('nSpouses', '1')]\n",
                        "[('author', 'http://www.wikidata.org/entity/Q7241'), ('authorName', 'Rabindranath Tagore'), ('nSpouses', '1')]\n",
                        "[('author', 'http://www.wikidata.org/entity/Q25351'), ('authorName', 'Theodor Mommsen'), ('nSpouses', '1')]\n",
                        "[('author', 'http://www.wikidata.org/entity/Q5878'), ('authorName', 'Gabriel Garc\u00eda M\u00e1rquez'), ('nSpouses', '1')]\n",
                        "[('author', 'http://www.wikidata.org/entity/Q40874'), ('authorName', 'Doris Lessing'), ('nSpouses', '1')]\n",
                        "[('author', 'http://www.wikidata.org/entity/Q80321'), ('authorName', 'Halld\u00f3r Laxness'), ('nSpouses', '1')]\n",
                        "[('author', 'http://www.wikidata.org/entity/Q131318'), ('authorName', 'Juan Ram\u00f3n Jim\u00e9nez'), ('nSpouses', '1')]\n",
                        "[('author', 'http://www.wikidata.org/entity/Q42596'), ('authorName', 'Fr\u00e9d\u00e9ric Mistral'), ('nSpouses', '1')]\n",
                        "[('author', 'http://www.wikidata.org/entity/Q42747'), ('authorName', 'Heinrich B\u00f6ll'), ('nSpouses', '1')]\n",
                        "[('author', 'http://www.wikidata.org/entity/Q46405'), ('authorName', 'Bj\u00f8rnstjerne Bj\u00f8rnson'), ('nSpouses', '1')]\n",
                        "[('author', 'http://www.wikidata.org/entity/Q44107'), ('authorName', 'Peter Handke'), ('nSpouses', '1')]\n",
                        "[('author', 'http://www.wikidata.org/entity/Q42552'), ('authorName', 'Wis\u0142awa Szymborska'), ('nSpouses', '1')]\n",
                        "[('author', 'http://www.wikidata.org/entity/Q83059'), ('authorName', 'Saul Bellow'), ('nSpouses', '1')]\n",
                        "[('author', 'http://www.wikidata.org/entity/Q1403'), ('authorName', 'Luigi Pirandello'), ('nSpouses', '1')]\n",
                        "[('author', 'http://www.wikidata.org/entity/Q132684'), ('authorName', 'Saint-John Perse'), ('nSpouses', '1')]\n"
                    ]
                },
                {
                    "data": {
                        "text/plain": [
                            "69"
                        ]
                    },
                    "execution_count": 16,
                    "metadata": {},
                    "output_type": "execute_result"
                }
            ],
            "source": [
                "#that can't be right, let's use distinct\n",
                "q = f\"\"\"\n",
                "select ?author ?authorName (count(distinct ?spouse) as ?nSpouses) where{{\n",
                "?author wdt:P106/wdt:P279* wd:Q36180;\n",
                "    <http://schema.org/name> ?authorName ;\n",
                "    wdt:P166 wd:Q37922;\n",
                "    wdt:P26 ?spouse .\n",
                "    \n",
                "}}\n",
                "group by ?author ?authorName\n",
                "order by desc(?nSpouses)\n",
                "limit 100\n",
                "\"\"\"\n",
                "run_query(q)"
            ]
        },
        {
            "cell_type": "code",
            "execution_count": 17,
            "id": "65a7d919-fbdf-40f2-86d2-5d4de8f86baa",
            "metadata": {},
            "outputs": [
                {
                    "name": "stdout",
                    "output_type": "stream",
                    "text": [
                        "[('author', 'http://www.wikidata.org/entity/Q23434'), ('authorName', 'Ernest Hemingway'), ('nSpouses', '4')]\n",
                        "[('author', 'http://www.wikidata.org/entity/Q33760'), ('authorName', 'Bertrand Russell'), ('nSpouses', '4')]\n",
                        "[('author', 'http://www.wikidata.org/entity/Q37060'), ('authorName', 'Jos\u00e9 Saramago'), ('nSpouses', '3')]\n",
                        "[('author', 'http://www.wikidata.org/entity/Q39212'), ('authorName', 'John Steinbeck'), ('nSpouses', '3')]\n",
                        "[('author', 'http://www.wikidata.org/entity/Q41502'), ('authorName', 'Henryk Sienkiewicz'), ('nSpouses', '3')]\n",
                        "[('author', 'http://www.wikidata.org/entity/Q25973'), ('authorName', 'Hermann Hesse'), ('nSpouses', '3')]\n",
                        "[('author', 'http://www.wikidata.org/entity/Q38049'), ('authorName', 'Herta M\u00fcller'), ('nSpouses', '2')]\n",
                        "[('author', 'http://www.wikidata.org/entity/Q37767'), ('authorName', 'T.\\xa0S. Eliot'), ('nSpouses', '2')]\n",
                        "[('author', 'http://www.wikidata.org/entity/Q46602'), ('authorName', 'Ivan Bunin'), ('nSpouses', '2')]\n",
                        "[('author', 'http://www.wikidata.org/entity/Q392'), ('authorName', 'Bob Dylan'), ('nSpouses', '2')]\n",
                        "[('author', 'http://www.wikidata.org/entity/Q41042'), ('authorName', 'Harold Pinter'), ('nSpouses', '2')]\n",
                        "[('author', 'http://www.wikidata.org/entity/Q93157'), ('authorName', \"Eugene O'Neill\"), ('nSpouses', '2')]\n",
                        "[('author', 'http://www.wikidata.org/entity/Q254032'), ('authorName', 'Olga Tokarczuk'), ('nSpouses', '2')]\n",
                        "[('author', 'http://www.wikidata.org/entity/Q47619'), ('authorName', 'Nadine Gordimer'), ('nSpouses', '2')]\n",
                        "[('author', 'http://www.wikidata.org/entity/Q39803'), ('authorName', 'Mario Vargas Llosa'), ('nSpouses', '2')]\n",
                        "[('author', 'http://www.wikidata.org/entity/Q46739'), ('authorName', 'Octavio Paz'), ('nSpouses', '2')]\n",
                        "[('author', 'http://www.wikidata.org/entity/Q45970'), ('authorName', 'Czes\u0142aw Mi\u0142osz'), ('nSpouses', '2')]\n",
                        "[('author', 'http://www.wikidata.org/entity/Q41223'), ('authorName', 'Boris Pasternak'), ('nSpouses', '2')]\n",
                        "[('author', 'http://www.wikidata.org/entity/Q80900'), ('authorName', 'Pearl S. Buck'), ('nSpouses', '2')]\n",
                        "[('author', 'http://www.wikidata.org/entity/Q34670'), ('authorName', 'Antonio carglass'), ('nSpouses', '2')]\n",
                        "[('author', 'http://www.wikidata.org/entity/Q34474'), ('authorName', 'Aleksandr Solzhenitsyn'), ('nSpouses', '2')]\n",
                        "[('author', 'http://www.wikidata.org/entity/Q40826'), ('authorName', 'Knut Hamsun'), ('nSpouses', '2')]\n",
                        "[('author', 'http://www.wikidata.org/entity/Q47755'), ('authorName', 'Imre Kert\u00e9sz'), ('nSpouses', '2')]\n",
                        "[('author', 'http://www.wikidata.org/entity/Q131326'), ('authorName', 'Eyvind Johnson'), ('nSpouses', '2')]\n",
                        "[('author', 'http://www.wikidata.org/entity/Q6538'), ('authorName', 'G\u00fcnter Grass'), ('nSpouses', '2')]\n",
                        "[('author', 'http://www.wikidata.org/entity/Q42552'), ('authorName', 'Wis\u0142awa Szymborska'), ('nSpouses', '1')]\n",
                        "[('author', 'http://www.wikidata.org/entity/Q2344210'), ('authorName', 'Louise Gl\u00fcck'), ('nSpouses', '1')]\n",
                        "[('author', 'http://www.wikidata.org/entity/Q8016'), ('authorName', 'Winston Churchill'), ('nSpouses', '1')]\n",
                        "[('author', 'http://www.wikidata.org/entity/Q165823'), ('authorName', 'Giorgos Seferis'), ('nSpouses', '1')]\n",
                        "[('author', 'http://www.wikidata.org/entity/Q765'), ('authorName', 'Dario Fo'), ('nSpouses', '1')]\n",
                        "[('author', 'http://www.wikidata.org/entity/Q47561'), ('authorName', 'Ivo Andri\u0107'), ('nSpouses', '1')]\n",
                        "[('author', 'http://www.wikidata.org/entity/Q123469'), ('authorName', 'Sinclair Lewis'), ('nSpouses', '1')]\n",
                        "[('author', 'http://www.wikidata.org/entity/Q81685'), ('authorName', 'Fran\u00e7ois Mauriac'), ('nSpouses', '1')]\n",
                        "[('author', 'http://www.wikidata.org/entity/Q42747'), ('authorName', 'Heinrich B\u00f6ll'), ('nSpouses', '1')]\n",
                        "[('author', 'http://www.wikidata.org/entity/Q37030'), ('authorName', 'Thomas Mann'), ('nSpouses', '1')]\n",
                        "[('author', 'http://www.wikidata.org/entity/Q80064'), ('authorName', 'Elias Canetti'), ('nSpouses', '1')]\n",
                        "[('author', 'http://www.wikidata.org/entity/Q47162'), ('authorName', 'Romain Rolland'), ('nSpouses', '1')]\n",
                        "[('author', 'http://www.wikidata.org/entity/Q34743'), ('authorName', 'Rudyard Kipling'), ('nSpouses', '1')]\n",
                        "[('author', 'http://www.wikidata.org/entity/Q42122'), ('authorName', 'Tomas Transtr\u00f6mer'), ('nSpouses', '1')]\n",
                        "[('author', 'http://www.wikidata.org/entity/Q5878'), ('authorName', 'Gabriel Garc\u00eda M\u00e1rquez'), ('nSpouses', '1')]\n",
                        "[('author', 'http://www.wikidata.org/entity/Q49747'), ('authorName', 'Maurice Maeterlinck'), ('nSpouses', '1')]\n",
                        "[('author', 'http://www.wikidata.org/entity/Q272855'), ('authorName', 'Kazuo Ishiguro'), ('nSpouses', '1')]\n",
                        "[('author', 'http://www.wikidata.org/entity/Q25351'), ('authorName', 'Theodor Mommsen'), ('nSpouses', '1')]\n",
                        "[('author', 'http://www.wikidata.org/entity/Q44593'), ('authorName', 'V. S. Naipaul'), ('nSpouses', '1')]\n",
                        "[('author', 'http://www.wikidata.org/entity/Q132695'), ('authorName', 'Harry Martinson'), ('nSpouses', '1')]\n",
                        "[('author', 'http://www.wikidata.org/entity/Q19185'), ('authorName', 'George Bernard Shaw'), ('nSpouses', '1')]\n",
                        "[('author', 'http://www.wikidata.org/entity/Q43523'), ('authorName', 'Gerhart Hauptmann'), ('nSpouses', '1')]\n",
                        "[('author', 'http://www.wikidata.org/entity/Q132684'), ('authorName', 'Saint-John Perse'), ('nSpouses', '1')]\n",
                        "[('author', 'http://www.wikidata.org/entity/Q7241'), ('authorName', 'Rabindranath Tagore'), ('nSpouses', '1')]\n",
                        "[('author', 'http://www.wikidata.org/entity/Q83059'), ('authorName', 'Saul Bellow'), ('nSpouses', '1')]\n",
                        "[('author', 'http://www.wikidata.org/entity/Q80321'), ('authorName', 'Halld\u00f3r Laxness'), ('nSpouses', '1')]\n",
                        "[('author', 'http://www.wikidata.org/entity/Q222944'), ('authorName', 'Patrick Modiano'), ('nSpouses', '1')]\n",
                        "[('author', 'http://www.wikidata.org/entity/Q38392'), ('authorName', 'William Faulkner'), ('nSpouses', '1')]\n",
                        "[('author', 'http://www.wikidata.org/entity/Q40874'), ('authorName', 'Doris Lessing'), ('nSpouses', '1')]\n",
                        "[('author', 'http://www.wikidata.org/entity/Q93356'), ('authorName', 'Seamus Heaney'), ('nSpouses', '1')]\n",
                        "[('author', 'http://www.wikidata.org/entity/Q34189'), ('authorName', 'Pablo Neruda'), ('nSpouses', '1')]\n",
                        "[('author', 'http://www.wikidata.org/entity/Q40213'), ('authorName', 'William Butler Yeats'), ('nSpouses', '1')]\n",
                        "[('author', 'http://www.wikidata.org/entity/Q44107'), ('authorName', 'Peter Handke'), ('nSpouses', '1')]\n",
                        "[('author', 'http://www.wikidata.org/entity/Q1403'), ('authorName', 'Luigi Pirandello'), ('nSpouses', '1')]\n",
                        "[('author', 'http://www.wikidata.org/entity/Q80889'), ('authorName', 'Sigrid Undset'), ('nSpouses', '1')]\n",
                        "[('author', 'http://www.wikidata.org/entity/Q72334'), ('authorName', 'Toni Morrison'), ('nSpouses', '1')]\n",
                        "[('author', 'http://www.wikidata.org/entity/Q47243'), ('authorName', 'Elfriede Jelinek'), ('nSpouses', '1')]\n",
                        "[('author', 'http://www.wikidata.org/entity/Q46405'), ('authorName', 'Bj\u00f8rnstjerne Bj\u00f8rnson'), ('nSpouses', '1')]\n",
                        "[('author', 'http://www.wikidata.org/entity/Q83174'), ('authorName', 'Eugenio Montale'), ('nSpouses', '1')]\n",
                        "[('author', 'http://www.wikidata.org/entity/Q37327'), ('authorName', 'Samuel Beckett'), ('nSpouses', '1')]\n",
                        "[('author', 'http://www.wikidata.org/entity/Q43736'), ('authorName', 'Yasunari Kawabata'), ('nSpouses', '1')]\n",
                        "[('author', 'http://www.wikidata.org/entity/Q131318'), ('authorName', 'Juan Ram\u00f3n Jim\u00e9nez'), ('nSpouses', '1')]\n",
                        "[('author', 'http://www.wikidata.org/entity/Q47484'), ('authorName', 'Andr\u00e9 Gide'), ('nSpouses', '1')]\n",
                        "[('author', 'http://www.wikidata.org/entity/Q42596'), ('authorName', 'Fr\u00e9d\u00e9ric Mistral'), ('nSpouses', '1')]\n"
                    ]
                },
                {
                    "data": {
                        "text/plain": [
                            "69"
                        ]
                    },
                    "execution_count": 17,
                    "metadata": {},
                    "output_type": "execute_result"
                }
            ],
            "source": [
                "#now let's use a subquery\n",
                "\n",
                "subQ = f\"\"\"\n",
                "select distinct ?author ?spouse where{{\n",
                "?author wdt:P106/wdt:P279* wd:Q36180;\n",
                "    wdt:P166 wd:Q37922 ;\n",
                "    wdt:P26 ?spouse .\n",
                "}}\n",
                "\"\"\"\n",
                "\n",
                "q = f\"\"\"\n",
                "select ?author ?authorName (count(?author) as ?nSpouses) where{{\n",
                "        {{\n",
                "            select distinct ?author ?spouse where{{\n\n?author wdt:P106/wdt:P279* wd:Q36180;\n\n    wdt:P166 wd:Q37922 ;\n\n    wdt:P26 ?spouse .\n\n}}\n\n\n\n",
                "        }}\n",
                "?author <http://schema.org/name> ?authorName .\n",
                "\n",
                "}}\n",
                "group by ?author ?authorName\n",
                "order by desc(?nSpouses)\n",
                "limit 100\n",
                "\"\"\"\n",
                "run_query(q)"
            ]
        },
        {
            "cell_type": "code",
            "execution_count": 18,
            "id": "29a3ba60-fb1b-4f99-aaf6-831a8585651d",
            "metadata": {},
            "outputs": [
                {
                    "name": "stdout",
                    "output_type": "stream",
                    "text": [
                        "[('author', 'http://www.wikidata.org/entity/Q33760'), ('authorName', 'Bertrand Russell'), ('age', '98')]\n",
                        "[('author', 'http://www.wikidata.org/entity/Q80321'), ('authorName', 'Halld\u00f3r Laxness'), ('age', '96')]\n",
                        "[('author', 'http://www.wikidata.org/entity/Q7176'), ('authorName', 'Najib Mahfouz'), ('age', '95')]\n",
                        "[('author', 'http://www.wikidata.org/entity/Q40874'), ('authorName', 'Doris Lessing'), ('age', '94')]\n",
                        "[('author', 'http://www.wikidata.org/entity/Q19185'), ('authorName', 'George Bernard Shaw'), ('age', '94')]\n",
                        "[('author', 'http://www.wikidata.org/entity/Q45970'), ('authorName', 'Czes\u0142aw Mi\u0142osz'), ('age', '93')]\n",
                        "[('author', 'http://www.wikidata.org/entity/Q40826'), ('authorName', 'Knut Hamsun'), ('age', '93')]\n",
                        "[('author', 'http://www.wikidata.org/entity/Q131549'), ('authorName', 'Claude Simon'), ('age', '92')]\n",
                        "[('author', 'http://www.wikidata.org/entity/Q8016'), ('authorName', 'Winston Churchill'), ('age', '91')]\n",
                        "[('author', 'http://www.wikidata.org/entity/Q47619'), ('authorName', 'Nadine Gordimer'), ('age', '91')]\n",
                        "[('author', 'http://www.wikidata.org/entity/Q765'), ('authorName', 'Dario Fo'), ('age', '90')]\n",
                        "[('author', 'http://www.wikidata.org/entity/Q83059'), ('authorName', 'Saul Bellow'), ('age', '90')]\n",
                        "[('author', 'http://www.wikidata.org/entity/Q34474'), ('authorName', 'Aleksandr Solzhenitsyn'), ('age', '90')]\n",
                        "[('author', 'http://www.wikidata.org/entity/Q80064'), ('authorName', 'Elias Canetti'), ('age', '89')]\n",
                        "[('author', 'http://www.wikidata.org/entity/Q75612'), ('authorName', 'Isaac Bashevis Singer'), ('age', '89')]\n",
                        "[('author', 'http://www.wikidata.org/entity/Q42552'), ('authorName', 'Wis\u0142awa Szymborska'), ('age', '89')]\n",
                        "[('author', 'http://www.wikidata.org/entity/Q72334'), ('authorName', 'Toni Morrison'), ('age', '88')]\n",
                        "[('author', 'http://www.wikidata.org/entity/Q83184'), ('authorName', 'Jacinto Benavente'), ('age', '88')]\n",
                        "[('author', 'http://www.wikidata.org/entity/Q37060'), ('authorName', 'Jos\u00e9 Saramago'), ('age', '88')]\n",
                        "[('author', 'http://www.wikidata.org/entity/Q132684'), ('authorName', 'Saint-John Perse'), ('age', '88')]\n",
                        "[('author', 'http://www.wikidata.org/entity/Q6538'), ('authorName', 'G\u00fcnter Grass'), ('age', '88')]\n",
                        "[('author', 'http://www.wikidata.org/entity/Q47755'), ('authorName', 'Imre Kert\u00e9sz'), ('age', '87')]\n",
                        "[('author', 'http://www.wikidata.org/entity/Q132701'), ('authorName', 'Derek Walcott'), ('age', '87')]\n",
                        "[('author', 'http://www.wikidata.org/entity/Q5878'), ('authorName', 'Gabriel Garc\u00eda M\u00e1rquez'), ('age', '87')]\n",
                        "[('author', 'http://www.wikidata.org/entity/Q75612'), ('authorName', 'Isaac Bashevis Singer'), ('age', '87')]\n",
                        "[('author', 'http://www.wikidata.org/entity/Q49747'), ('authorName', 'Maurice Maeterlinck'), ('age', '87')]\n",
                        "[('author', 'http://www.wikidata.org/entity/Q44593'), ('authorName', 'V. S. Naipaul'), ('age', '86')]\n",
                        "[('author', 'http://www.wikidata.org/entity/Q132589'), ('authorName', 'Camilo Jos\u00e9 Cela'), ('age', '86')]\n",
                        "[('author', 'http://www.wikidata.org/entity/Q25351'), ('authorName', 'Theodor Mommsen'), ('age', '86')]\n",
                        "[('author', 'http://www.wikidata.org/entity/Q225554'), ('authorName', 'Henrik Pontoppidan'), ('age', '86')]\n",
                        "[('author', 'http://www.wikidata.org/entity/Q134644'), ('authorName', 'Vicente Aleixandre'), ('age', '86')]\n",
                        "[('author', 'http://www.wikidata.org/entity/Q102483'), ('authorName', 'Jaroslav Seifert'), ('age', '85')]\n",
                        "[('author', 'http://www.wikidata.org/entity/Q160478'), ('authorName', 'Odysseas Elytis'), ('age', '85')]\n",
                        "[('author', 'http://www.wikidata.org/entity/Q81685'), ('authorName', 'Fran\u00e7ois Mauriac'), ('age', '85')]\n",
                        "[('author', 'http://www.wikidata.org/entity/Q25973'), ('authorName', 'Hermann Hesse'), ('age', '85')]\n",
                        "[('author', 'http://www.wikidata.org/entity/Q83174'), ('authorName', 'Eugenio Montale'), ('age', '85')]\n",
                        "[('author', 'http://www.wikidata.org/entity/Q46739'), ('authorName', 'Octavio Paz'), ('age', '84')]\n",
                        "[('author', 'http://www.wikidata.org/entity/Q127349'), ('authorName', 'Jos\u00e9 Echegaray'), ('age', '84')]\n",
                        "[('author', 'http://www.wikidata.org/entity/Q42596'), ('authorName', 'Fr\u00e9d\u00e9ric Mistral'), ('age', '84')]\n",
                        "[('author', 'http://www.wikidata.org/entity/Q43523'), ('authorName', 'Gerhart Hauptmann'), ('age', '84')]\n",
                        "[('author', 'http://www.wikidata.org/entity/Q76487'), ('authorName', 'Paul Heyse'), ('age', '84')]\n",
                        "[('author', 'http://www.wikidata.org/entity/Q42122'), ('authorName', 'Tomas Transtr\u00f6mer'), ('age', '84')]\n",
                        "[('author', 'http://www.wikidata.org/entity/Q93137'), ('authorName', 'P\u00e4r Lagerkvist'), ('age', '83')]\n",
                        "[('author', 'http://www.wikidata.org/entity/Q37327'), ('authorName', 'Samuel Beckett'), ('age', '83')]\n",
                        "[('author', 'http://www.wikidata.org/entity/Q46602'), ('authorName', 'Ivan Bunin'), ('age', '83')]\n",
                        "[('author', 'http://www.wikidata.org/entity/Q47561'), ('authorName', 'Ivo Andri\u0107'), ('age', '83')]\n",
                        "[('author', 'http://www.wikidata.org/entity/Q42156'), ('authorName', 'Henri Bergson'), ('age', '82')]\n",
                        "[('author', 'http://www.wikidata.org/entity/Q44519'), ('authorName', 'Selma Lagerl\u00f6f'), ('age', '82')]\n",
                        "[('author', 'http://www.wikidata.org/entity/Q47484'), ('authorName', 'Andr\u00e9 Gide'), ('age', '82')]\n",
                        "[('author', 'http://www.wikidata.org/entity/Q44183'), ('authorName', 'William Golding'), ('age', '82')]\n",
                        "[('author', 'http://www.wikidata.org/entity/Q133042'), ('authorName', 'Shmuel Yosef Agnon'), ('age', '82')]\n",
                        "[('author', 'http://www.wikidata.org/entity/Q80900'), ('authorName', 'Pearl S. Buck'), ('age', '81')]\n",
                        "[('author', 'http://www.wikidata.org/entity/Q129173'), ('authorName', 'Verner von Heidenstam'), ('age', '81')]\n",
                        "[('author', 'http://www.wikidata.org/entity/Q37030'), ('authorName', 'Thomas Mann'), ('age', '80')]\n",
                        "[('author', 'http://www.wikidata.org/entity/Q42443'), ('authorName', 'Anatole France'), ('age', '80')]\n",
                        "[('author', 'http://www.wikidata.org/entity/Q7241'), ('authorName', 'Rabindranath Tagore'), ('age', '80')]\n",
                        "[('author', 'http://www.wikidata.org/entity/Q47695'), ('authorName', 'Rudolf Christoph Eucken'), ('age', '80')]\n",
                        "[('author', 'http://www.wikidata.org/entity/Q57074'), ('authorName', 'Nelly Sachs'), ('age', '79')]\n",
                        "[('author', 'http://www.wikidata.org/entity/Q42398'), ('authorName', 'Mikhail Sholokhov'), ('age', '79')]\n",
                        "[('author', 'http://www.wikidata.org/entity/Q226525'), ('authorName', 'Carl Spitteler'), ('age', '79')]\n",
                        "[('author', 'http://www.wikidata.org/entity/Q129187'), ('authorName', 'Patrick White'), ('age', '78')]\n",
                        "[('author', 'http://www.wikidata.org/entity/Q41042'), ('authorName', 'Harold Pinter'), ('age', '78')]\n",
                        "[('author', 'http://www.wikidata.org/entity/Q46405'), ('authorName', 'Bj\u00f8rnstjerne Bj\u00f8rnson'), ('age', '78')]\n",
                        "[('author', 'http://www.wikidata.org/entity/Q47162'), ('authorName', 'Romain Rolland'), ('age', '78')]\n",
                        "[('author', 'http://www.wikidata.org/entity/Q37767'), ('authorName', 'T.\\xa0S. Eliot'), ('age', '77')]\n",
                        "[('author', 'http://www.wikidata.org/entity/Q159552'), ('authorName', 'Johannes V. Jensen'), ('age', '77')]\n",
                        "[('author', 'http://www.wikidata.org/entity/Q129155'), ('authorName', 'Roger Martin du Gard'), ('age', '77')]\n",
                        "[('author', 'http://www.wikidata.org/entity/Q131318'), ('authorName', 'Juan Ram\u00f3n Jim\u00e9nez'), ('age', '77')]\n",
                        "[('author', 'http://www.wikidata.org/entity/Q132723'), ('authorName', 'Frans Eemil Sillanp\u00e4\u00e4'), ('age', '76')]\n",
                        "[('author', 'http://www.wikidata.org/entity/Q131326'), ('authorName', 'Eyvind Johnson'), ('age', '76')]\n",
                        "[('author', 'http://www.wikidata.org/entity/Q9364'), ('authorName', 'Jean-Paul Sartre'), ('age', '75')]\n",
                        "[('author', 'http://www.wikidata.org/entity/Q75603'), ('authorName', 'Miguel \u00c1ngel Asturias Rosales'), ('age', '75')]\n",
                        "[('author', 'http://www.wikidata.org/entity/Q132695'), ('authorName', 'Harry Martinson'), ('age', '74')]\n",
                        "[('author', 'http://www.wikidata.org/entity/Q40213'), ('authorName', 'William Butler Yeats'), ('age', '74')]\n",
                        "[('author', 'http://www.wikidata.org/entity/Q93356'), ('authorName', 'Seamus Heaney'), ('age', '74')]\n",
                        "[('author', 'http://www.wikidata.org/entity/Q43736'), ('authorName', 'Yasunari Kawabata'), ('age', '73')]\n",
                        "[('author', 'http://www.wikidata.org/entity/Q43440'), ('authorName', 'Giosu\u00e8 Carducci'), ('age', '72')]\n",
                        "[('author', 'http://www.wikidata.org/entity/Q34743'), ('authorName', 'Rudyard Kipling'), ('age', '71')]\n",
                        "[('author', 'http://www.wikidata.org/entity/Q165823'), ('authorName', 'Giorgos Seferis'), ('age', '71')]\n",
                        "[('author', 'http://www.wikidata.org/entity/Q41223'), ('authorName', 'Boris Pasternak'), ('age', '70')]\n",
                        "[('author', 'http://www.wikidata.org/entity/Q41502'), ('authorName', 'Henryk Sienkiewicz'), ('age', '70')]\n",
                        "[('author', 'http://www.wikidata.org/entity/Q34189'), ('authorName', 'Pablo Neruda'), ('age', '69')]\n",
                        "[('author', 'http://www.wikidata.org/entity/Q1403'), ('authorName', 'Luigi Pirandello'), ('age', '69')]\n",
                        "[('author', 'http://www.wikidata.org/entity/Q80871'), ('authorName', 'Gabriela Mistral'), ('age', '68')]\n",
                        "[('author', 'http://www.wikidata.org/entity/Q42747'), ('authorName', 'Heinrich B\u00f6ll'), ('age', '68')]\n",
                        "[('author', 'http://www.wikidata.org/entity/Q42247'), ('authorName', 'Sully Prudhomme'), ('age', '68')]\n",
                        "[('author', 'http://www.wikidata.org/entity/Q83038'), ('authorName', 'Salvatore Quasimodo'), ('age', '67')]\n",
                        "[('author', 'http://www.wikidata.org/entity/Q80889'), ('authorName', 'Sigrid Undset'), ('age', '67')]\n",
                        "[('author', 'http://www.wikidata.org/entity/Q134641'), ('authorName', 'Erik Axel Karlfeldt'), ('age', '67')]\n",
                        "[('author', 'http://www.wikidata.org/entity/Q123469'), ('authorName', 'Sinclair Lewis'), ('age', '66')]\n",
                        "[('author', 'http://www.wikidata.org/entity/Q82248'), ('authorName', 'John Galsworthy'), ('age', '66')]\n",
                        "[('author', 'http://www.wikidata.org/entity/Q39212'), ('authorName', 'John Steinbeck'), ('age', '66')]\n",
                        "[('author', 'http://www.wikidata.org/entity/Q38392'), ('authorName', 'William Faulkner'), ('age', '65')]\n",
                        "[('author', 'http://www.wikidata.org/entity/Q93157'), ('authorName', \"Eugene O'Neill\"), ('age', '65')]\n",
                        "[('author', 'http://www.wikidata.org/entity/Q7728'), ('authorName', 'Grazia Deledda'), ('age', '65')]\n",
                        "[('author', 'http://www.wikidata.org/entity/Q23434'), ('authorName', 'Ernest Hemingway'), ('age', '62')]\n",
                        "[('author', 'http://www.wikidata.org/entity/Q131487'), ('authorName', 'Karl Adolph Gjellerup'), ('age', '62')]\n",
                        "[('author', 'http://www.wikidata.org/entity/Q121180'), ('authorName', 'W\u0142adys\u0142aw Reymont'), ('age', '58')]\n",
                        "[('author', 'http://www.wikidata.org/entity/Q862'), ('authorName', 'Joseph Brodsky'), ('age', '56')]\n",
                        "[('author', 'http://www.wikidata.org/entity/Q34670'), ('authorName', 'Antonio carglass'), ('age', '47')]\n"
                    ]
                },
                {
                    "data": {
                        "text/plain": [
                            "100"
                        ]
                    },
                    "execution_count": 18,
                    "metadata": {},
                    "output_type": "execute_result"
                }
            ],
            "source": [
                "#let's see them ordered by longevity\n",
                "q = f\"\"\"\n",
                "select ?author ?authorName ?age where{{\n",
                "?author wdt:P106/wdt:P279* wd:Q36180;\n",
                "    <http://schema.org/name> ?authorName ;\n",
                "    wdt:P166 wd:Q37922;\n",
                "    wdt:P569 ?birthDate ;\n",
                "    wdt:P570 ?deathDate .\n",
                "    \n",
                "bind (year(?deathDate) - year(?birthDate) as ?age) .\n",
                "    \n",
                "}}\n",
                "group by ?author ?authorName\n",
                "order by desc(?age)\n",
                "limit 100\n",
                "\"\"\"\n",
                "run_query(q)"
            ]
        },
        {
            "cell_type": "code",
            "execution_count": 19,
            "id": "8838d039-c057-46f3-9912-82a808c485f2",
            "metadata": {},
            "outputs": [
                {
                    "name": "stdout",
                    "output_type": "stream",
                    "text": [
                        "[('mannerOfDeath', 'http://www.wikidata.org/entity/Q3739104'), ('name', 'natural causes'), ('howmany', '27')]\n",
                        "[('mannerOfDeath', 'http://www.wikidata.org/entity/Q10737'), ('name', 'suicide'), ('howmany', '2')]\n",
                        "[('mannerOfDeath', 'http://www.wikidata.org/entity/Q171558'), ('name', 'accident'), ('howmany', '2')]\n",
                        "[('mannerOfDeath', 'http://www.wikidata.org/entity/Q133462'), ('name', 'seppuku'), ('howmany', '1')]\n"
                    ]
                },
                {
                    "data": {
                        "text/plain": [
                            "4"
                        ]
                    },
                    "execution_count": 19,
                    "metadata": {},
                    "output_type": "execute_result"
                }
            ],
            "source": [
                "#that formula doesn't consider months or days, google says bertrand russel died at 97, not 98\n",
                "#that's still a calculation i would do on the front end if need be, especially since there doesn't seem to be an age() function\n",
                "\n",
                "#last query for the relevant attributes of an author: let's group them by the manner of death\n",
                "\n",
                "q = f\"\"\"\n",
                "select ?mannerOfDeath ?name (count(distinct ?author) as ?howmany) where{{\n",
                "?author wdt:P106/wdt:P279* wd:Q36180;\n",
                "    wdt:P166 wd:Q37922;\n",
                "    wdt:P1196 ?mannerOfDeath .\n",
                "    \n",
                "?mannerOfDeath <http://schema.org/name> ?name .\n",
                "    \n",
                "}}\n",
                "group by ?mannerOfDeath ?name\n",
                "order by desc(?howmany)\n",
                "limit 100\n",
                "\"\"\"\n",
                "run_query(q)"
            ]
        },
        {
            "cell_type": "code",
            "execution_count": 20,
            "id": "2fbe6bd4-df17-4da4-9405-d975b973c347",
            "metadata": {},
            "outputs": [
                {
                    "name": "stdout",
                    "output_type": "stream",
                    "text": [
                        "Empty\n"
                    ]
                },
                {
                    "data": {
                        "text/plain": [
                            "0"
                        ]
                    },
                    "execution_count": 20,
                    "metadata": {},
                    "output_type": "execute_result"
                }
            ],
            "source": [
                "#2. Get the number of Italian, French and Iranian winners and check which nation won more awards in the last twenty years.\n",
                "\n",
                "#first of all let's get the nodes for Italy, France, Iran\n",
                "\n",
                "q = f\"\"\"\n",
                "select distinct ?country ?countryName where{{\n",
                "?author wdt:P106/wdt:P279* wd:Q36180;\n",
                "    wdt:P166 wd:Q37922;\n",
                "    wdt:P17 ?country .\n",
                "    \n",
                "?country <http://schema.org/name> ?countryName .\n",
                "\n",
                "filter regex(?countryName, '.*(italy|iran|france).*', 'i')\n",
                "\n",
                "}}\n",
                "\"\"\"\n",
                "run_query(q)"
            ]
        },
        {
            "cell_type": "code",
            "execution_count": 21,
            "id": "ca0a8f56-d8cb-4194-a306-32c5dc18bf9c",
            "metadata": {},
            "outputs": [
                {
                    "name": "stdout",
                    "output_type": "stream",
                    "text": [
                        "[('property', 'http://www.wikidata.org/prop/direct/P27'), ('name', 'country of citizenship')]\n"
                    ]
                },
                {
                    "data": {
                        "text/plain": [
                            "1"
                        ]
                    },
                    "execution_count": 21,
                    "metadata": {},
                    "output_type": "execute_result"
                }
            ],
            "source": [
                "#let's see if there is another property for country \n",
                "q = f\"\"\"\n",
                "select distinct ?property ?name where{{\n",
                "?author wdt:P106/wdt:P279* wd:Q36180;\n",
                "    wdt:P166 wd:Q37922;\n",
                "    ?property ?object .\n",
                "    \n",
                "?property <http://schema.org/name> ?name .\n",
                "\n",
                "filter regex(?name, 'country', 'i')\n",
                "\n",
                "}}\n",
                "\"\"\"\n",
                "run_query(q)"
            ]
        },
        {
            "cell_type": "code",
            "execution_count": 22,
            "id": "27b0df76-7b64-407a-8082-0e07f0049b80",
            "metadata": {
                "collapsed": true,
                "jupyter": {
                    "outputs_hidden": true
                },
                "tags": []
            },
            "outputs": [
                {
                    "name": "stdout",
                    "output_type": "stream",
                    "text": [
                        "[('author', 'http://www.wikidata.org/entity/Q43293'), ('authorName', 'J. M. Coetzee'), ('country', 'http://www.wikidata.org/entity/Q408'), ('countryName', 'Australia')]\n",
                        "[('author', 'http://www.wikidata.org/entity/Q129187'), ('authorName', 'Patrick White'), ('country', 'http://www.wikidata.org/entity/Q408'), ('countryName', 'Australia')]\n",
                        "[('author', 'http://www.wikidata.org/entity/Q47243'), ('authorName', 'Elfriede Jelinek'), ('country', 'http://www.wikidata.org/entity/Q40'), ('countryName', 'Austria')]\n",
                        "[('author', 'http://www.wikidata.org/entity/Q44107'), ('authorName', 'Peter Handke'), ('country', 'http://www.wikidata.org/entity/Q40'), ('countryName', 'Austria')]\n",
                        "[('author', 'http://www.wikidata.org/entity/Q41502'), ('authorName', 'Henryk Sienkiewicz'), ('country', 'http://www.wikidata.org/entity/Q28513'), ('countryName', 'Austria-Hungary')]\n",
                        "[('author', 'http://www.wikidata.org/entity/Q133042'), ('authorName', 'Shmuel Yosef Agnon'), ('country', 'http://www.wikidata.org/entity/Q28513'), ('countryName', 'Austria-Hungary')]\n",
                        "[('author', 'http://www.wikidata.org/entity/Q274334'), ('authorName', 'Svetlana Aleksievich'), ('country', 'http://www.wikidata.org/entity/Q184'), ('countryName', 'Belarus')]\n",
                        "[('author', 'http://www.wikidata.org/entity/Q49747'), ('authorName', 'Maurice Maeterlinck'), ('country', 'http://www.wikidata.org/entity/Q31'), ('countryName', 'Belgium')]\n",
                        "[('author', 'http://www.wikidata.org/entity/Q7241'), ('authorName', 'Rabindranath Tagore'), ('country', 'http://www.wikidata.org/entity/Q129286'), ('countryName', 'British India')]\n",
                        "[('author', 'http://www.wikidata.org/entity/Q80064'), ('authorName', 'Elias Canetti'), ('country', 'http://www.wikidata.org/entity/Q219'), ('countryName', 'Bulgaria')]\n",
                        "[('author', 'http://www.wikidata.org/entity/Q234819'), ('authorName', 'Alice Munro'), ('country', 'http://www.wikidata.org/entity/Q16'), ('countryName', 'Canada')]\n",
                        "[('author', 'http://www.wikidata.org/entity/Q34189'), ('authorName', 'Pablo Neruda'), ('country', 'http://www.wikidata.org/entity/Q298'), ('countryName', 'Chile')]\n",
                        "[('author', 'http://www.wikidata.org/entity/Q80871'), ('authorName', 'Gabriela Mistral'), ('country', 'http://www.wikidata.org/entity/Q298'), ('countryName', 'Chile')]\n",
                        "[('author', 'http://www.wikidata.org/entity/Q5878'), ('authorName', 'Gabriel Garc\u00eda M\u00e1rquez'), ('country', 'http://www.wikidata.org/entity/Q739'), ('countryName', 'Colombia')]\n",
                        "[('author', 'http://www.wikidata.org/entity/Q37030'), ('authorName', 'Thomas Mann'), ('country', 'http://www.wikidata.org/entity/Q33946'), ('countryName', 'Czechoslovakia')]\n",
                        "[('author', 'http://www.wikidata.org/entity/Q102483'), ('authorName', 'Jaroslav Seifert'), ('country', 'http://www.wikidata.org/entity/Q33946'), ('countryName', 'Czechoslovakia')]\n",
                        "[('author', 'http://www.wikidata.org/entity/Q25351'), ('authorName', 'Theodor Mommsen'), ('country', 'http://www.wikidata.org/entity/Q35'), ('countryName', 'Denmark')]\n",
                        "[('author', 'http://www.wikidata.org/entity/Q159552'), ('authorName', 'Johannes V. Jensen'), ('country', 'http://www.wikidata.org/entity/Q35'), ('countryName', 'Denmark')]\n",
                        "[('author', 'http://www.wikidata.org/entity/Q225554'), ('authorName', 'Henrik Pontoppidan'), ('country', 'http://www.wikidata.org/entity/Q35'), ('countryName', 'Denmark')]\n",
                        "[('author', 'http://www.wikidata.org/entity/Q131487'), ('authorName', 'Karl Adolph Gjellerup'), ('country', 'http://www.wikidata.org/entity/Q35'), ('countryName', 'Denmark')]\n",
                        "[('author', 'http://www.wikidata.org/entity/Q7176'), ('authorName', 'Najib Mahfouz'), ('country', 'http://www.wikidata.org/entity/Q79'), ('countryName', 'Egypt')]\n",
                        "[('author', 'http://www.wikidata.org/entity/Q132723'), ('authorName', 'Frans Eemil Sillanp\u00e4\u00e4'), ('country', 'http://www.wikidata.org/entity/Q33'), ('countryName', 'Finland')]\n",
                        "[('author', 'http://www.wikidata.org/entity/Q9364'), ('authorName', 'Jean-Paul Sartre'), ('country', 'http://www.wikidata.org/entity/Q142'), ('countryName', 'France')]\n",
                        "[('author', 'http://www.wikidata.org/entity/Q34670'), ('authorName', 'Antonio carglass'), ('country', 'http://www.wikidata.org/entity/Q142'), ('countryName', 'France')]\n",
                        "[('author', 'http://www.wikidata.org/entity/Q47484'), ('authorName', 'Andr\u00e9 Gide'), ('country', 'http://www.wikidata.org/entity/Q142'), ('countryName', 'France')]\n",
                        "[('author', 'http://www.wikidata.org/entity/Q42037'), ('authorName', 'Jean-Marie Gustave Le Cl\u00e9zio'), ('country', 'http://www.wikidata.org/entity/Q142'), ('countryName', 'France')]\n",
                        "[('author', 'http://www.wikidata.org/entity/Q47162'), ('authorName', 'Romain Rolland'), ('country', 'http://www.wikidata.org/entity/Q142'), ('countryName', 'France')]\n",
                        "[('author', 'http://www.wikidata.org/entity/Q42247'), ('authorName', 'Sully Prudhomme'), ('country', 'http://www.wikidata.org/entity/Q142'), ('countryName', 'France')]\n",
                        "[('author', 'http://www.wikidata.org/entity/Q42443'), ('authorName', 'Anatole France'), ('country', 'http://www.wikidata.org/entity/Q142'), ('countryName', 'France')]\n",
                        "[('author', 'http://www.wikidata.org/entity/Q46602'), ('authorName', 'Ivan Bunin'), ('country', 'http://www.wikidata.org/entity/Q142'), ('countryName', 'France')]\n",
                        "[('author', 'http://www.wikidata.org/entity/Q42156'), ('authorName', 'Henri Bergson'), ('country', 'http://www.wikidata.org/entity/Q142'), ('countryName', 'France')]\n",
                        "[('author', 'http://www.wikidata.org/entity/Q129155'), ('authorName', 'Roger Martin du Gard'), ('country', 'http://www.wikidata.org/entity/Q142'), ('countryName', 'France')]\n",
                        "[('author', 'http://www.wikidata.org/entity/Q37327'), ('authorName', 'Samuel Beckett'), ('country', 'http://www.wikidata.org/entity/Q142'), ('countryName', 'France')]\n",
                        "[('author', 'http://www.wikidata.org/entity/Q81685'), ('authorName', 'Fran\u00e7ois Mauriac'), ('country', 'http://www.wikidata.org/entity/Q142'), ('countryName', 'France')]\n",
                        "[('author', 'http://www.wikidata.org/entity/Q18143'), ('authorName', 'Gao Xingjian'), ('country', 'http://www.wikidata.org/entity/Q142'), ('countryName', 'France')]\n",
                        "[('author', 'http://www.wikidata.org/entity/Q222944'), ('authorName', 'Patrick Modiano'), ('country', 'http://www.wikidata.org/entity/Q142'), ('countryName', 'France')]\n",
                        "[('author', 'http://www.wikidata.org/entity/Q132684'), ('authorName', 'Saint-John Perse'), ('country', 'http://www.wikidata.org/entity/Q142'), ('countryName', 'France')]\n",
                        "[('author', 'http://www.wikidata.org/entity/Q131549'), ('authorName', 'Claude Simon'), ('country', 'http://www.wikidata.org/entity/Q142'), ('countryName', 'France')]\n",
                        "[('author', 'http://www.wikidata.org/entity/Q42596'), ('authorName', 'Fr\u00e9d\u00e9ric Mistral'), ('country', 'http://www.wikidata.org/entity/Q142'), ('countryName', 'France')]\n",
                        "[('author', 'http://www.wikidata.org/entity/Q6538'), ('authorName', 'G\u00fcnter Grass'), ('country', 'http://www.wikidata.org/entity/Q216173'), ('countryName', 'Free City of Danzig')]\n",
                        "[('author', 'http://www.wikidata.org/entity/Q37030'), ('authorName', 'Thomas Mann'), ('country', 'http://www.wikidata.org/entity/Q43287'), ('countryName', 'German Empire')]\n",
                        "[('author', 'http://www.wikidata.org/entity/Q25351'), ('authorName', 'Theodor Mommsen'), ('country', 'http://www.wikidata.org/entity/Q43287'), ('countryName', 'German Empire')]\n",
                        "[('author', 'http://www.wikidata.org/entity/Q47695'), ('authorName', 'Rudolf Christoph Eucken'), ('country', 'http://www.wikidata.org/entity/Q43287'), ('countryName', 'German Empire')]\n",
                        "[('author', 'http://www.wikidata.org/entity/Q43523'), ('authorName', 'Gerhart Hauptmann'), ('country', 'http://www.wikidata.org/entity/Q43287'), ('countryName', 'German Empire')]\n",
                        "[('author', 'http://www.wikidata.org/entity/Q25973'), ('authorName', 'Hermann Hesse'), ('country', 'http://www.wikidata.org/entity/Q43287'), ('countryName', 'German Empire')]\n",
                        "[('author', 'http://www.wikidata.org/entity/Q133042'), ('authorName', 'Shmuel Yosef Agnon'), ('country', 'http://www.wikidata.org/entity/Q43287'), ('countryName', 'German Empire')]\n",
                        "[('author', 'http://www.wikidata.org/entity/Q6538'), ('authorName', 'G\u00fcnter Grass'), ('country', 'http://www.wikidata.org/entity/Q1206012'), ('countryName', 'German Reich')]\n",
                        "[('author', 'http://www.wikidata.org/entity/Q6538'), ('authorName', 'G\u00fcnter Grass'), ('country', 'http://www.wikidata.org/entity/Q183'), ('countryName', 'Germany')]\n",
                        "[('author', 'http://www.wikidata.org/entity/Q38049'), ('authorName', 'Herta M\u00fcller'), ('country', 'http://www.wikidata.org/entity/Q183'), ('countryName', 'Germany')]\n",
                        "[('author', 'http://www.wikidata.org/entity/Q47695'), ('authorName', 'Rudolf Christoph Eucken'), ('country', 'http://www.wikidata.org/entity/Q183'), ('countryName', 'Germany')]\n",
                        "[('author', 'http://www.wikidata.org/entity/Q57074'), ('authorName', 'Nelly Sachs'), ('country', 'http://www.wikidata.org/entity/Q183'), ('countryName', 'Germany')]\n",
                        "[('author', 'http://www.wikidata.org/entity/Q42747'), ('authorName', 'Heinrich B\u00f6ll'), ('country', 'http://www.wikidata.org/entity/Q183'), ('countryName', 'Germany')]\n",
                        "[('author', 'http://www.wikidata.org/entity/Q25973'), ('authorName', 'Hermann Hesse'), ('country', 'http://www.wikidata.org/entity/Q183'), ('countryName', 'Germany')]\n",
                        "[('author', 'http://www.wikidata.org/entity/Q165823'), ('authorName', 'Giorgos Seferis'), ('country', 'http://www.wikidata.org/entity/Q41'), ('countryName', 'Greece')]\n",
                        "[('author', 'http://www.wikidata.org/entity/Q160478'), ('authorName', 'Odysseas Elytis'), ('country', 'http://www.wikidata.org/entity/Q41'), ('countryName', 'Greece')]\n",
                        "[('author', 'http://www.wikidata.org/entity/Q75603'), ('authorName', 'Miguel \u00c1ngel Asturias Rosales'), ('country', 'http://www.wikidata.org/entity/Q774'), ('countryName', 'Guatemala')]\n",
                        "[('author', 'http://www.wikidata.org/entity/Q47755'), ('authorName', 'Imre Kert\u00e9sz'), ('country', 'http://www.wikidata.org/entity/Q28'), ('countryName', 'Hungary')]\n",
                        "[('author', 'http://www.wikidata.org/entity/Q80321'), ('authorName', 'Halld\u00f3r Laxness'), ('country', 'http://www.wikidata.org/entity/Q189'), ('countryName', 'Iceland')]\n",
                        "[('author', 'http://www.wikidata.org/entity/Q93356'), ('authorName', 'Seamus Heaney'), ('country', 'http://www.wikidata.org/entity/Q27'), ('countryName', 'Ireland')]\n",
                        "[('author', 'http://www.wikidata.org/entity/Q40213'), ('authorName', 'William Butler Yeats'), ('country', 'http://www.wikidata.org/entity/Q27'), ('countryName', 'Ireland')]\n",
                        "[('author', 'http://www.wikidata.org/entity/Q19185'), ('authorName', 'George Bernard Shaw'), ('country', 'http://www.wikidata.org/entity/Q27'), ('countryName', 'Ireland')]\n",
                        "[('author', 'http://www.wikidata.org/entity/Q37327'), ('authorName', 'Samuel Beckett'), ('country', 'http://www.wikidata.org/entity/Q27'), ('countryName', 'Ireland')]\n",
                        "[('author', 'http://www.wikidata.org/entity/Q40213'), ('authorName', 'William Butler Yeats'), ('country', 'http://www.wikidata.org/entity/Q31747'), ('countryName', 'Irish Free State')]\n",
                        "[('author', 'http://www.wikidata.org/entity/Q133042'), ('authorName', 'Shmuel Yosef Agnon'), ('country', 'http://www.wikidata.org/entity/Q801'), ('countryName', 'Israel')]\n",
                        "[('author', 'http://www.wikidata.org/entity/Q765'), ('authorName', 'Dario Fo'), ('country', 'http://www.wikidata.org/entity/Q38'), ('countryName', 'Italy')]\n",
                        "[('author', 'http://www.wikidata.org/entity/Q83174'), ('authorName', 'Eugenio Montale'), ('country', 'http://www.wikidata.org/entity/Q38'), ('countryName', 'Italy')]\n",
                        "[('author', 'http://www.wikidata.org/entity/Q83038'), ('authorName', 'Salvatore Quasimodo'), ('country', 'http://www.wikidata.org/entity/Q38'), ('countryName', 'Italy')]\n",
                        "[('author', 'http://www.wikidata.org/entity/Q80095'), ('authorName', 'Kenzabur\u014d \u014ce'), ('country', 'http://www.wikidata.org/entity/Q17'), ('countryName', 'Japan')]\n",
                        "[('author', 'http://www.wikidata.org/entity/Q272855'), ('authorName', 'Kazuo Ishiguro'), ('country', 'http://www.wikidata.org/entity/Q17'), ('countryName', 'Japan')]\n",
                        "[('author', 'http://www.wikidata.org/entity/Q43736'), ('authorName', 'Yasunari Kawabata'), ('country', 'http://www.wikidata.org/entity/Q17'), ('countryName', 'Japan')]\n",
                        "[('author', 'http://www.wikidata.org/entity/Q7176'), ('authorName', 'Najib Mahfouz'), ('country', 'http://www.wikidata.org/entity/Q127861'), ('countryName', 'Khedivate of Egypt')]\n",
                        "[('author', 'http://www.wikidata.org/entity/Q7176'), ('authorName', 'Najib Mahfouz'), ('country', 'http://www.wikidata.org/entity/Q124943'), ('countryName', 'Kingdom of Egypt')]\n",
                        "[('author', 'http://www.wikidata.org/entity/Q7728'), ('authorName', 'Grazia Deledda'), ('country', 'http://www.wikidata.org/entity/Q172579'), ('countryName', 'Kingdom of Italy')]\n",
                        "[('author', 'http://www.wikidata.org/entity/Q83174'), ('authorName', 'Eugenio Montale'), ('country', 'http://www.wikidata.org/entity/Q172579'), ('countryName', 'Kingdom of Italy')]\n",
                        "[('author', 'http://www.wikidata.org/entity/Q83038'), ('authorName', 'Salvatore Quasimodo'), ('country', 'http://www.wikidata.org/entity/Q172579'), ('countryName', 'Kingdom of Italy')]\n",
                        "[('author', 'http://www.wikidata.org/entity/Q1403'), ('authorName', 'Luigi Pirandello'), ('country', 'http://www.wikidata.org/entity/Q172579'), ('countryName', 'Kingdom of Italy')]\n",
                        "[('author', 'http://www.wikidata.org/entity/Q43440'), ('authorName', 'Giosu\u00e8 Carducci'), ('country', 'http://www.wikidata.org/entity/Q172579'), ('countryName', 'Kingdom of Italy')]\n",
                        "[('author', 'http://www.wikidata.org/entity/Q76487'), ('authorName', 'Paul Heyse'), ('country', 'http://www.wikidata.org/entity/Q27306'), ('countryName', 'Kingdom of Prussia')]\n",
                        "[('author', 'http://www.wikidata.org/entity/Q45970'), ('authorName', 'Czes\u0142aw Mi\u0142osz'), ('country', 'http://www.wikidata.org/entity/Q37'), ('countryName', 'Lithuania')]\n",
                        "[('author', 'http://www.wikidata.org/entity/Q133042'), ('authorName', 'Shmuel Yosef Agnon'), ('country', 'http://www.wikidata.org/entity/Q193714'), ('countryName', 'Mandatory Palestine')]\n",
                        "[('author', 'http://www.wikidata.org/entity/Q42037'), ('authorName', 'Jean-Marie Gustave Le Cl\u00e9zio'), ('country', 'http://www.wikidata.org/entity/Q1027'), ('countryName', 'Mauritius')]\n",
                        "[('author', 'http://www.wikidata.org/entity/Q46739'), ('authorName', 'Octavio Paz'), ('country', 'http://www.wikidata.org/entity/Q96'), ('countryName', 'Mexico')]\n",
                        "[('author', 'http://www.wikidata.org/entity/Q37030'), ('authorName', 'Thomas Mann'), ('country', 'http://www.wikidata.org/entity/Q7318'), ('countryName', 'Nazi Germany')]\n",
                        "[('author', 'http://www.wikidata.org/entity/Q41488'), ('authorName', 'Wole Soyinka'), ('country', 'http://www.wikidata.org/entity/Q1033'), ('countryName', 'Nigeria')]\n",
                        "[('author', 'http://www.wikidata.org/entity/Q80889'), ('authorName', 'Sigrid Undset'), ('country', 'http://www.wikidata.org/entity/Q20'), ('countryName', 'Norway')]\n",
                        "[('author', 'http://www.wikidata.org/entity/Q46405'), ('authorName', 'Bj\u00f8rnstjerne Bj\u00f8rnson'), ('country', 'http://www.wikidata.org/entity/Q20'), ('countryName', 'Norway')]\n",
                        "[('author', 'http://www.wikidata.org/entity/Q40826'), ('authorName', 'Knut Hamsun'), ('country', 'http://www.wikidata.org/entity/Q20'), ('countryName', 'Norway')]\n",
                        "[('author', 'http://www.wikidata.org/entity/Q18143'), ('authorName', 'Gao Xingjian'), ('country', 'http://www.wikidata.org/entity/Q148'), ('countryName', \"People's Republic of China\")]\n",
                        "[('author', 'http://www.wikidata.org/entity/Q8998'), ('authorName', 'Mo Yan'), ('country', 'http://www.wikidata.org/entity/Q148'), ('countryName', \"People's Republic of China\")]\n",
                        "[('author', 'http://www.wikidata.org/entity/Q39803'), ('authorName', 'Mario Vargas Llosa'), ('country', 'http://www.wikidata.org/entity/Q419'), ('countryName', 'Peru')]\n",
                        "[('author', 'http://www.wikidata.org/entity/Q45970'), ('authorName', 'Czes\u0142aw Mi\u0142osz'), ('country', 'http://www.wikidata.org/entity/Q36'), ('countryName', 'Poland')]\n",
                        "[('author', 'http://www.wikidata.org/entity/Q42552'), ('authorName', 'Wis\u0142awa Szymborska'), ('country', 'http://www.wikidata.org/entity/Q36'), ('countryName', 'Poland')]\n",
                        "[('author', 'http://www.wikidata.org/entity/Q75612'), ('authorName', 'Isaac Bashevis Singer'), ('country', 'http://www.wikidata.org/entity/Q36'), ('countryName', 'Poland')]\n",
                        "[('author', 'http://www.wikidata.org/entity/Q254032'), ('authorName', 'Olga Tokarczuk'), ('country', 'http://www.wikidata.org/entity/Q36'), ('countryName', 'Poland')]\n",
                        "[('author', 'http://www.wikidata.org/entity/Q37060'), ('authorName', 'Jos\u00e9 Saramago'), ('country', 'http://www.wikidata.org/entity/Q45'), ('countryName', 'Portugal')]\n",
                        "[('author', 'http://www.wikidata.org/entity/Q25351'), ('authorName', 'Theodor Mommsen'), ('country', 'http://www.wikidata.org/entity/Q38872'), ('countryName', 'Prussia')]\n",
                        "[('author', 'http://www.wikidata.org/entity/Q47695'), ('authorName', 'Rudolf Christoph Eucken'), ('country', 'http://www.wikidata.org/entity/Q38872'), ('countryName', 'Prussia')]\n",
                        "[('author', 'http://www.wikidata.org/entity/Q7176'), ('authorName', 'Najib Mahfouz'), ('country', 'http://www.wikidata.org/entity/Q3087763'), ('countryName', 'Republic of Egypt (1953\u20131958)')]\n",
                        "[('author', 'http://www.wikidata.org/entity/Q38049'), ('authorName', 'Herta M\u00fcller'), ('country', 'http://www.wikidata.org/entity/Q218'), ('countryName', 'Romania')]\n",
                        "[('author', 'http://www.wikidata.org/entity/Q34474'), ('authorName', 'Aleksandr Solzhenitsyn'), ('country', 'http://www.wikidata.org/entity/Q159'), ('countryName', 'Russia')]\n"
                    ]
                },
                {
                    "data": {
                        "text/plain": [
                            "100"
                        ]
                    },
                    "execution_count": 22,
                    "metadata": {},
                    "output_type": "execute_result"
                }
            ],
            "source": [
                "citizenship = 'wdt:P27'\n",
                "#let's see the country of each author\n",
                "q = f\"\"\"\n",
                "select distinct ?author ?authorName ?country ?countryName where{{\n",
                "?author wdt:P106/wdt:P279* wd:Q36180;\n",
                "    wdt:P166 wd:Q37922;\n",
                "    <http://schema.org/name> ?authorName ;\n",
                "    wdt:P27 ?country .\n",
                "    \n",
                "?country <http://schema.org/name> ?countryName\n",
                "\n",
                "}}\n",
                "order by asc(?countryName)\n",
                "limit 100\n",
                "\"\"\"\n",
                "run_query(q)"
            ]
        },
        {
            "cell_type": "code",
            "execution_count": 23,
            "id": "bd3b781c-af7b-407b-91e0-3fbdc8d34ff2",
            "metadata": {},
            "outputs": [
                {
                    "name": "stdout",
                    "output_type": "stream",
                    "text": [
                        "[('country', 'http://www.wikidata.org/entity/Q142'), ('countryName', 'France')]\n",
                        "[('country', 'http://www.wikidata.org/entity/Q38'), ('countryName', 'Italy')]\n",
                        "[('country', 'http://www.wikidata.org/entity/Q172579'), ('countryName', 'Kingdom of Italy')]\n"
                    ]
                },
                {
                    "data": {
                        "text/plain": [
                            "3"
                        ]
                    },
                    "execution_count": 23,
                    "metadata": {},
                    "output_type": "execute_result"
                }
            ],
            "source": [
                "#let's try again\n",
                "q = f\"\"\"\n",
                "select distinct ?country ?countryName where{{\n",
                "?author wdt:P106/wdt:P279* wd:Q36180;\n",
                "    wdt:P166 wd:Q37922;\n",
                "    wdt:P27 ?country .\n",
                "    \n",
                "?country <http://schema.org/name> ?countryName .\n",
                "\n",
                "filter regex(?countryName, '.*(italy|iran|france).*', 'i') .\n",
                "\n",
                "}}\n",
                "order by asc(?countryName)\n",
                "limit 100\n",
                "\"\"\"\n",
                "run_query(q)"
            ]
        },
        {
            "cell_type": "code",
            "execution_count": 24,
            "id": "4f1b3fd6-c2dc-46bb-bfd0-09cd7ec659af",
            "metadata": {},
            "outputs": [
                {
                    "name": "stdout",
                    "output_type": "stream",
                    "text": [
                        "[('author', 'http://www.wikidata.org/entity/Q9364'), ('authorName', 'Jean-Paul Sartre'), ('countryName', 'France')]\n",
                        "[('author', 'http://www.wikidata.org/entity/Q34670'), ('authorName', 'Antonio carglass'), ('countryName', 'France')]\n",
                        "[('author', 'http://www.wikidata.org/entity/Q47484'), ('authorName', 'Andr\u00e9 Gide'), ('countryName', 'France')]\n",
                        "[('author', 'http://www.wikidata.org/entity/Q42037'), ('authorName', 'Jean-Marie Gustave Le Cl\u00e9zio'), ('countryName', 'France')]\n",
                        "[('author', 'http://www.wikidata.org/entity/Q47162'), ('authorName', 'Romain Rolland'), ('countryName', 'France')]\n",
                        "[('author', 'http://www.wikidata.org/entity/Q42247'), ('authorName', 'Sully Prudhomme'), ('countryName', 'France')]\n",
                        "[('author', 'http://www.wikidata.org/entity/Q42443'), ('authorName', 'Anatole France'), ('countryName', 'France')]\n",
                        "[('author', 'http://www.wikidata.org/entity/Q46602'), ('authorName', 'Ivan Bunin'), ('countryName', 'France')]\n",
                        "[('author', 'http://www.wikidata.org/entity/Q42156'), ('authorName', 'Henri Bergson'), ('countryName', 'France')]\n",
                        "[('author', 'http://www.wikidata.org/entity/Q129155'), ('authorName', 'Roger Martin du Gard'), ('countryName', 'France')]\n",
                        "[('author', 'http://www.wikidata.org/entity/Q37327'), ('authorName', 'Samuel Beckett'), ('countryName', 'France')]\n",
                        "[('author', 'http://www.wikidata.org/entity/Q81685'), ('authorName', 'Fran\u00e7ois Mauriac'), ('countryName', 'France')]\n",
                        "[('author', 'http://www.wikidata.org/entity/Q18143'), ('authorName', 'Gao Xingjian'), ('countryName', 'France')]\n",
                        "[('author', 'http://www.wikidata.org/entity/Q222944'), ('authorName', 'Patrick Modiano'), ('countryName', 'France')]\n",
                        "[('author', 'http://www.wikidata.org/entity/Q132684'), ('authorName', 'Saint-John Perse'), ('countryName', 'France')]\n",
                        "[('author', 'http://www.wikidata.org/entity/Q131549'), ('authorName', 'Claude Simon'), ('countryName', 'France')]\n",
                        "[('author', 'http://www.wikidata.org/entity/Q42596'), ('authorName', 'Fr\u00e9d\u00e9ric Mistral'), ('countryName', 'France')]\n",
                        "[('author', 'http://www.wikidata.org/entity/Q765'), ('authorName', 'Dario Fo'), ('countryName', 'Italy')]\n",
                        "[('author', 'http://www.wikidata.org/entity/Q83174'), ('authorName', 'Eugenio Montale'), ('countryName', 'Italy')]\n",
                        "[('author', 'http://www.wikidata.org/entity/Q83038'), ('authorName', 'Salvatore Quasimodo'), ('countryName', 'Italy')]\n",
                        "[('author', 'http://www.wikidata.org/entity/Q7728'), ('authorName', 'Grazia Deledda'), ('countryName', 'Kingdom of Italy')]\n",
                        "[('author', 'http://www.wikidata.org/entity/Q83174'), ('authorName', 'Eugenio Montale'), ('countryName', 'Kingdom of Italy')]\n",
                        "[('author', 'http://www.wikidata.org/entity/Q83038'), ('authorName', 'Salvatore Quasimodo'), ('countryName', 'Kingdom of Italy')]\n",
                        "[('author', 'http://www.wikidata.org/entity/Q1403'), ('authorName', 'Luigi Pirandello'), ('countryName', 'Kingdom of Italy')]\n",
                        "[('author', 'http://www.wikidata.org/entity/Q43440'), ('authorName', 'Giosu\u00e8 Carducci'), ('countryName', 'Kingdom of Italy')]\n"
                    ]
                },
                {
                    "data": {
                        "text/plain": [
                            "25"
                        ]
                    },
                    "execution_count": 24,
                    "metadata": {},
                    "output_type": "execute_result"
                }
            ],
            "source": [
                "#no iran...\n",
                "#let's just see the winners for italy, france, iran\n",
                "\n",
                "q = f\"\"\"\n",
                "select distinct ?author ?authorName ?countryName where{{\n",
                "?author wdt:P106/wdt:P279* wd:Q36180 ;\n",
                "    wdt:P166 wd:Q37922 ;\n",
                "    <http://schema.org/name> ?authorName ;\n",
                "    wdt:P27 ?country .\n",
                "    \n",
                "?country <http://schema.org/name> ?countryName .\n",
                "\n",
                "filter regex(?countryName, '(italy|iran|france)', 'i')\n",
                "\n",
                "}}\n",
                "order by asc(?countryName)\n",
                "\"\"\"\n",
                "run_query(q)"
            ]
        },
        {
            "cell_type": "code",
            "execution_count": 25,
            "id": "c3ffb275-1b4b-4511-83eb-3bbdc70e1595",
            "metadata": {},
            "outputs": [
                {
                    "name": "stdout",
                    "output_type": "stream",
                    "text": [
                        "The operation failed QueryBadFormed: a bad request has been sent to the endpoint, probably the sparql query is bad formed. \n",
                        "\n",
                        "Response:\n",
                        "b\"Virtuoso 37000 Error SP030: SPARQL compiler, line 13: Undefined namespace prefix at 'p' before '?awardedProperty'\\n\\nSPARQL query:\\ndefine sql:big-data-const 0\\n#output-format:application/sparql-results+json\\n\\n##-82b80661c4-##\\nPREFIX wd: <http://www.wikidata.org/entity/> \\nPREFIX wdt: <http://www.wikidata.org/prop/direct/> \\nPREFIX sc: <http://schema.org/>\\n\\n\\nselect distinct ?property ?name where{\\n?author wdt:P106/wdt:P279* wd:Q36180 ;\\n    wdt:P166 wd:Q37922 ;\\n    p:P166 ?awardedProperty .\\n    \\n?awardedProperty ?property ?value .\\n\\n?property <http://schema.org/name> ?name .\\n    \\n}\\n\"\n"
                    ]
                }
            ],
            "source": [
                "#to retrieve the date the award was received i need more prefixes though...\n",
                "p_awarded = 'p:P166'\n",
                "\n",
                "#let's retrieve qualifiers for awarded\n",
                "q = f\"\"\"\n",
                "select distinct ?property ?name where{{\n",
                "?author wdt:P106/wdt:P279* wd:Q36180 ;\n",
                "    wdt:P166 wd:Q37922 ;\n",
                "    p:P166 ?awardedProperty .\n",
                "    \n",
                "?awardedProperty ?property ?value .\n",
                "\n",
                "?property <http://schema.org/name> ?name .\n",
                "    \n",
                "}}\n",
                "\"\"\"\n",
                "run_query(q)"
            ]
        },
        {
            "cell_type": "code",
            "execution_count": 26,
            "id": "87e8404f-b4b4-45fd-9578-e17e51c5a2f9",
            "metadata": {},
            "outputs": [
                {
                    "name": "stdout",
                    "output_type": "stream",
                    "text": [
                        "Empty\n"
                    ]
                },
                {
                    "data": {
                        "text/plain": [
                            "0"
                        ]
                    },
                    "execution_count": 26,
                    "metadata": {},
                    "output_type": "execute_result"
                }
            ],
            "source": [
                "#let's try with the url\n",
                "p_awarded = '<http://www.wikidata.org/prop/P166>'\n",
                "q = f\"\"\"\n",
                "select distinct ?property ?name where{{\n",
                "?author wdt:P106/wdt:P279* wd:Q36180 ;\n",
                "    wdt:P166 wd:Q37922 ;\n",
                "    <http://www.wikidata.org/prop/P166> ?awardedProperty .\n",
                "    \n",
                "?awardedProperty ?property ?value .\n",
                "\n",
                "?property <http://schema.org/name> ?name .\n",
                "    \n",
                "}}\n",
                "\"\"\"\n",
                "run_query(q)"
            ]
        },
        {
            "cell_type": "code",
            "execution_count": 27,
            "id": "703165e5-38b4-499d-abb7-b9e14ace48b1",
            "metadata": {
                "tags": []
            },
            "outputs": [
                {
                    "name": "stdout",
                    "output_type": "stream",
                    "text": [
                        "Empty\n"
                    ]
                },
                {
                    "data": {
                        "text/plain": [
                            "0"
                        ]
                    },
                    "execution_count": 27,
                    "metadata": {},
                    "output_type": "execute_result"
                }
            ],
            "source": [
                "#let's remove awarded\n",
                "q = f\"\"\"\n",
                "select distinct ?property ?name where{{\n",
                "?author wdt:P106/wdt:P279* wd:Q36180 ;\n",
                "    <http://www.wikidata.org/prop/P166> ?awardedProperty .\n",
                "    \n",
                "?awardedProperty ?property ?value .\n",
                "\n",
                "?property <http://schema.org/name> ?name .\n",
                "    \n",
                "}}\n",
                "\"\"\"\n",
                "run_query(q)"
            ]
        },
        {
            "cell_type": "code",
            "execution_count": 28,
            "id": "b65dcdf2-72a8-4a4c-b412-791d36882263",
            "metadata": {},
            "outputs": [
                {
                    "name": "stdout",
                    "output_type": "stream",
                    "text": [
                        "Empty\n"
                    ]
                },
                {
                    "data": {
                        "text/plain": [
                            "0"
                        ]
                    },
                    "execution_count": 28,
                    "metadata": {},
                    "output_type": "execute_result"
                }
            ],
            "source": [
                "#let's try and remove the name\n",
                "q = f\"\"\"\n",
                "select distinct ?property where{{\n",
                "?author wdt:P106/wdt:P279* wd:Q36180 ;\n",
                "    <http://www.wikidata.org/prop/P166> ?awardedProperty .\n",
                "    \n",
                "?awardedProperty ?property ?value .\n",
                "    \n",
                "}}\n",
                "\"\"\"\n",
                "run_query(q)"
            ]
        },
        {
            "cell_type": "code",
            "execution_count": 29,
            "id": "7449a868-541d-4aa0-80ab-f6678eb644ac",
            "metadata": {},
            "outputs": [
                {
                    "name": "stdout",
                    "output_type": "stream",
                    "text": [
                        "[('name', 'Ig Nobel Prize')]\n",
                        "[('name', 'Nobel Peace Prize')]\n",
                        "[('name', 'Nobel Prize in Literature')]\n",
                        "[('name', 'Nobel Prize in Physics')]\n",
                        "[('name', 'Nobel Prize in Physiology or Medicine')]\n",
                        "[('name', 'Nobel Prize in Chemistry')]\n",
                        "[('name', 'Prize in Economic Sciences in Memory of Alfred Nobel')]\n",
                        "[('name', 'list of Nobel laureates in Physiology or Medicine')]\n",
                        "[('name', 'Nobel Laureate Meetings at Lindau')]\n"
                    ]
                },
                {
                    "data": {
                        "text/plain": [
                            "9"
                        ]
                    },
                    "execution_count": 29,
                    "metadata": {},
                    "output_type": "execute_result"
                }
            ],
            "source": [
                "#the only thing i can think of is that there may be an entry of the type \"Nobel prize XXXX\" where XXXX is the year\n",
                "#i know that formula 1 seasons are stored like that\n",
                "\n",
                "#let's look at awards received by writers, doing a regex on the name of the award, checking if some have a year in the name\n",
                "q = f\"\"\"\n",
                "select distinct ?award ?name where{{\n",
                "?author wdt:P106/wdt:P279* wd:Q36180 ;\n",
                "    wdt:P166 ?prize .\n",
                "    \n",
                "?prize <http://schema.org/name> ?name .\n",
                "\n",
                "filter regex(?name, '.*(nobel).*', 'i')\n",
                "}}\n",
                "limit 100\n",
                "\"\"\"\n",
                "run_query(q)"
            ]
        },
        {
            "cell_type": "code",
            "execution_count": 30,
            "id": "406fa98a-a385-432a-b336-d5ecd42c24ac",
            "metadata": {},
            "outputs": [
                {
                    "name": "stdout",
                    "output_type": "stream",
                    "text": [
                        "[('author', 'http://www.wikidata.org/entity/Q9364'), ('authorName', 'Jean-Paul Sartre'), ('countryName', 'France')]\n",
                        "[('author', 'http://www.wikidata.org/entity/Q34670'), ('authorName', 'Antonio carglass'), ('countryName', 'France')]\n",
                        "[('author', 'http://www.wikidata.org/entity/Q47484'), ('authorName', 'Andr\u00e9 Gide'), ('countryName', 'France')]\n",
                        "[('author', 'http://www.wikidata.org/entity/Q42037'), ('authorName', 'Jean-Marie Gustave Le Cl\u00e9zio'), ('countryName', 'France')]\n",
                        "[('author', 'http://www.wikidata.org/entity/Q47162'), ('authorName', 'Romain Rolland'), ('countryName', 'France')]\n",
                        "[('author', 'http://www.wikidata.org/entity/Q42247'), ('authorName', 'Sully Prudhomme'), ('countryName', 'France')]\n",
                        "[('author', 'http://www.wikidata.org/entity/Q42443'), ('authorName', 'Anatole France'), ('countryName', 'France')]\n",
                        "[('author', 'http://www.wikidata.org/entity/Q46602'), ('authorName', 'Ivan Bunin'), ('countryName', 'France')]\n",
                        "[('author', 'http://www.wikidata.org/entity/Q42156'), ('authorName', 'Henri Bergson'), ('countryName', 'France')]\n",
                        "[('author', 'http://www.wikidata.org/entity/Q129155'), ('authorName', 'Roger Martin du Gard'), ('countryName', 'France')]\n",
                        "[('author', 'http://www.wikidata.org/entity/Q37327'), ('authorName', 'Samuel Beckett'), ('countryName', 'France')]\n",
                        "[('author', 'http://www.wikidata.org/entity/Q81685'), ('authorName', 'Fran\u00e7ois Mauriac'), ('countryName', 'France')]\n",
                        "[('author', 'http://www.wikidata.org/entity/Q18143'), ('authorName', 'Gao Xingjian'), ('countryName', 'France')]\n",
                        "[('author', 'http://www.wikidata.org/entity/Q222944'), ('authorName', 'Patrick Modiano'), ('countryName', 'France')]\n",
                        "[('author', 'http://www.wikidata.org/entity/Q132684'), ('authorName', 'Saint-John Perse'), ('countryName', 'France')]\n",
                        "[('author', 'http://www.wikidata.org/entity/Q131549'), ('authorName', 'Claude Simon'), ('countryName', 'France')]\n",
                        "[('author', 'http://www.wikidata.org/entity/Q42596'), ('authorName', 'Fr\u00e9d\u00e9ric Mistral'), ('countryName', 'France')]\n",
                        "[('author', 'http://www.wikidata.org/entity/Q765'), ('authorName', 'Dario Fo'), ('countryName', 'Italy')]\n",
                        "[('author', 'http://www.wikidata.org/entity/Q83174'), ('authorName', 'Eugenio Montale'), ('countryName', 'Italy')]\n",
                        "[('author', 'http://www.wikidata.org/entity/Q83038'), ('authorName', 'Salvatore Quasimodo'), ('countryName', 'Italy')]\n",
                        "[('author', 'http://www.wikidata.org/entity/Q7728'), ('authorName', 'Grazia Deledda'), ('countryName', 'Kingdom of Italy')]\n",
                        "[('author', 'http://www.wikidata.org/entity/Q83174'), ('authorName', 'Eugenio Montale'), ('countryName', 'Kingdom of Italy')]\n",
                        "[('author', 'http://www.wikidata.org/entity/Q83038'), ('authorName', 'Salvatore Quasimodo'), ('countryName', 'Kingdom of Italy')]\n",
                        "[('author', 'http://www.wikidata.org/entity/Q1403'), ('authorName', 'Luigi Pirandello'), ('countryName', 'Kingdom of Italy')]\n",
                        "[('author', 'http://www.wikidata.org/entity/Q43440'), ('authorName', 'Giosu\u00e8 Carducci'), ('countryName', 'Kingdom of Italy')]\n"
                    ]
                },
                {
                    "data": {
                        "text/plain": [
                            "25"
                        ]
                    },
                    "execution_count": 30,
                    "metadata": {},
                    "output_type": "execute_result"
                }
            ],
            "source": [
                "#the (incomplete) answer to point 2 is then\n",
                "q = f\"\"\"\n",
                "select distinct ?author ?authorName ?countryName where{{\n",
                "?author wdt:P106/wdt:P279* wd:Q36180 ;\n",
                "    wdt:P166 wd:Q37922 ;\n",
                "    <http://schema.org/name> ?authorName ;\n",
                "    wdt:P27 ?country .\n",
                "    \n",
                "?country <http://schema.org/name> ?countryName .\n",
                "\n",
                "filter regex(?countryName, '(italy|iran|france)', 'i')\n",
                "\n",
                "}}\n",
                "order by asc(?countryName)\n",
                "\"\"\"\n",
                "run_query(q)"
            ]
        },
        {
            "cell_type": "code",
            "execution_count": 31,
            "id": "49396e10-9e0a-4ab0-9fa3-0951d0b527fb",
            "metadata": {},
            "outputs": [
                {
                    "name": "stdout",
                    "output_type": "stream",
                    "text": [
                        "[('country', 'http://www.wikidata.org/entity/Q142'), ('countryName', 'France'), ('howmany', '17')]\n",
                        "[('country', 'http://www.wikidata.org/entity/Q183'), ('countryName', 'Germany'), ('howmany', '6')]\n",
                        "[('country', 'http://www.wikidata.org/entity/Q172579'), ('countryName', 'Kingdom of Italy'), ('howmany', '5')]\n",
                        "[('country', 'http://www.wikidata.org/entity/Q35'), ('countryName', 'Denmark'), ('howmany', '4')]\n",
                        "[('country', 'http://www.wikidata.org/entity/Q38'), ('countryName', 'Italy'), ('howmany', '3')]\n",
                        "[('country', 'http://www.wikidata.org/entity/Q148'), ('countryName', \"People's Republic of China\"), ('howmany', '2')]\n",
                        "[('country', 'http://www.wikidata.org/entity/Q218'), ('countryName', 'Romania'), ('howmany', '1')]\n",
                        "[('country', 'http://www.wikidata.org/entity/Q7318'), ('countryName', 'Nazi Germany'), ('howmany', '1')]\n"
                    ]
                },
                {
                    "data": {
                        "text/plain": [
                            "8"
                        ]
                    },
                    "execution_count": 31,
                    "metadata": {},
                    "output_type": "execute_result"
                }
            ],
            "source": [
                "#3. Determine how many Literature nobel laureates have the following contries: Italy, Germany, France, Romania, Denmark, Iran, and China\n",
                "q = f\"\"\"\n",
                "select ?country ?countryName (count(distinct ?author) as ?howmany) where{{\n",
                "?author wdt:P106/wdt:P279* wd:Q36180 ;\n",
                "    wdt:P166 wd:Q37922 ;\n",
                "    wdt:P27 ?country .\n",
                "    \n",
                "?country <http://schema.org/name> ?countryName .\n",
                "\n",
                "filter regex(?countryName, '(italy|iran|france|germany|romania|denmark|iran|china)', 'i')\n",
                "\n",
                "}}\n",
                "group by ?country ?countryName\n",
                "order by desc(?howmany)\n",
                "\"\"\"\n",
                "run_query(q)"
            ]
        },
        {
            "cell_type": "code",
            "execution_count": 32,
            "id": "02ee6f40-fd56-4e08-836b-03c5cfd5aeb0",
            "metadata": {},
            "outputs": [
                {
                    "name": "stdout",
                    "output_type": "stream",
                    "text": [
                        "[('author', 'http://www.wikidata.org/entity/Q9364'), ('name', 'Jean-Paul Sartre')]\n",
                        "[('author', 'http://www.wikidata.org/entity/Q34670'), ('name', 'Antonio carglass')]\n",
                        "[('author', 'http://www.wikidata.org/entity/Q47484'), ('name', 'Andr\u00e9 Gide')]\n",
                        "[('author', 'http://www.wikidata.org/entity/Q42037'), ('name', 'Jean-Marie Gustave Le Cl\u00e9zio')]\n",
                        "[('author', 'http://www.wikidata.org/entity/Q47162'), ('name', 'Romain Rolland')]\n",
                        "[('author', 'http://www.wikidata.org/entity/Q42247'), ('name', 'Sully Prudhomme')]\n",
                        "[('author', 'http://www.wikidata.org/entity/Q42443'), ('name', 'Anatole France')]\n",
                        "[('author', 'http://www.wikidata.org/entity/Q46602'), ('name', 'Ivan Bunin')]\n",
                        "[('author', 'http://www.wikidata.org/entity/Q42156'), ('name', 'Henri Bergson')]\n",
                        "[('author', 'http://www.wikidata.org/entity/Q129155'), ('name', 'Roger Martin du Gard')]\n",
                        "[('author', 'http://www.wikidata.org/entity/Q37327'), ('name', 'Samuel Beckett')]\n",
                        "[('author', 'http://www.wikidata.org/entity/Q81685'), ('name', 'Fran\u00e7ois Mauriac')]\n",
                        "[('author', 'http://www.wikidata.org/entity/Q18143'), ('name', 'Gao Xingjian')]\n",
                        "[('author', 'http://www.wikidata.org/entity/Q222944'), ('name', 'Patrick Modiano')]\n",
                        "[('author', 'http://www.wikidata.org/entity/Q132684'), ('name', 'Saint-John Perse')]\n",
                        "[('author', 'http://www.wikidata.org/entity/Q131549'), ('name', 'Claude Simon')]\n",
                        "[('author', 'http://www.wikidata.org/entity/Q42596'), ('name', 'Fr\u00e9d\u00e9ric Mistral')]\n"
                    ]
                },
                {
                    "data": {
                        "text/plain": [
                            "17"
                        ]
                    },
                    "execution_count": 32,
                    "metadata": {},
                    "output_type": "execute_result"
                }
            ],
            "source": [
                "#let's see the french ones, on wikipedia i counted only 16\n",
                "q = f\"\"\"\n",
                "select distinct ?author ?name where{{\n",
                "?author wdt:P106/wdt:P279* wd:Q36180 ;\n",
                "    wdt:P166 wd:Q37922 ;\n",
                "    <http://schema.org/name> ?name ;\n",
                "    wdt:P27 ?country .\n",
                "    \n",
                "?country <http://schema.org/name> ?countryName .\n",
                "\n",
                "filter regex(?countryName, 'france', 'i')\n",
                "\n",
                "}}\n",
                "\"\"\"\n",
                "run_query(q)"
            ]
        },
        {
            "cell_type": "code",
            "execution_count": 34,
            "id": "d4f306d6-a63e-4aca-96f7-f2633c49b6d4",
            "metadata": {},
            "outputs": [
                {
                    "name": "stdout",
                    "output_type": "stream",
                    "text": [
                        "[('author', 'http://www.wikidata.org/entity/Q33760'), ('authorName', 'Bertrand Russell')]\n",
                        "[('author', 'http://www.wikidata.org/entity/Q47695'), ('authorName', 'Rudolf Christoph Eucken')]\n"
                    ]
                },
                {
                    "data": {
                        "text/plain": [
                            "2"
                        ]
                    },
                    "execution_count": 34,
                    "metadata": {},
                    "output_type": "execute_result"
                }
            ],
            "source": [
                "#4. How many Literature Nobel award winners have a PhD (aka Doctorate of Philosophy) (you may check if they have a doctoral advisor)?\n",
                "#let's retrieve them all\n",
                "q = f\"\"\"\n",
                "select distinct ?author ?authorName where{{\n",
                "?author wdt:P106/wdt:P279* wd:Q36180 ;\n",
                "    wdt:P166 wd:Q37922 ;\n",
                "    <http://schema.org/name> ?authorName .\n",
                "    \n",
                "filter exists {{\n",
                "            ?author wdt:P184 ?advisor\n",
                "        }}\n",
                "}}\n",
                "limit 100\n",
                "\"\"\"\n",
                "run_query(q)"
            ]
        },
        {
            "cell_type": "code",
            "execution_count": 35,
            "id": "854dc523-8910-4df7-8a32-be76d9e37aa1",
            "metadata": {},
            "outputs": [
                {
                    "name": "stdout",
                    "output_type": "stream",
                    "text": [
                        "[('author', 'http://www.wikidata.org/entity/Q33760'), ('authorName', 'Bertrand Russell')]\n",
                        "[('author', 'http://www.wikidata.org/entity/Q47695'), ('authorName', 'Rudolf Christoph Eucken')]\n"
                    ]
                },
                {
                    "data": {
                        "text/plain": [
                            "2"
                        ]
                    },
                    "execution_count": 35,
                    "metadata": {},
                    "output_type": "execute_result"
                }
            ],
            "source": [
                "#there's not a lot of them... let's rewrite the query\n",
                "q = f\"\"\"\n",
                "select distinct ?author ?authorName where{{\n",
                "?author wdt:P106/wdt:P279* wd:Q36180 ;\n",
                "    wdt:P166 wd:Q37922 ;\n",
                "    <http://schema.org/name> ?authorName ;\n",
                "    wdt:P184 ?advisor .\n",
                "\n",
                "}}\n",
                "limit 100\n",
                "\"\"\"\n",
                "run_query(q)"
            ]
        },
        {
            "cell_type": "code",
            "execution_count": 36,
            "id": "79dd84b2-551f-4ef9-8a99-1be117419ab6",
            "metadata": {},
            "outputs": [
                {
                    "name": "stdout",
                    "output_type": "stream",
                    "text": [
                        "Empty\n"
                    ]
                },
                {
                    "data": {
                        "text/plain": [
                            "0"
                        ]
                    },
                    "execution_count": 36,
                    "metadata": {},
                    "output_type": "execute_result"
                }
            ],
            "source": [
                "#is there a relationship related to instruction?\n",
                "q = f\"\"\"\n",
                "select distinct ?property ?name where{{\n",
                "?author wdt:P106/wdt:P279* wd:Q36180 ;\n",
                "    wdt:P166 wd:Q37922 ;\n",
                "    <http://schema.org/name> ?authorName ;\n",
                "    ?property ?value .\n",
                "    \n",
                "?property <http://schema.org/name> ?name .\n",
                "\n",
                "filter regex(?property, '.*(doctor|doc|instru|phd|stud|title|philoso).*', 'i')\n",
                "}}\n",
                "limit 100\n",
                "\"\"\"\n",
                "run_query(q)"
            ]
        },
        {
            "cell_type": "code",
            "execution_count": 37,
            "id": "8ac8e7eb-12e4-4fca-af38-8b393597b419",
            "metadata": {},
            "outputs": [
                {
                    "name": "stdout",
                    "output_type": "stream",
                    "text": [
                        "[('property', 'http://www.wikidata.org/prop/direct/P800'), ('name', 'notable work')]\n"
                    ]
                },
                {
                    "data": {
                        "text/plain": [
                            "1"
                        ]
                    },
                    "execution_count": 37,
                    "metadata": {},
                    "output_type": "execute_result"
                }
            ],
            "source": [
                "#5. Are there books from Litarature Nobel Award winners which are not present in the Vatican Library? (if so, who is the author with more books not in the Vatical Library)?\n",
                "\n",
                "#first of all we need to find out the relationship for the works of an author.\n",
                "#let's take bertrand russel. a quick search tells us he wrote \"The Problems of Philosophy\". we use that to look for the relevant relationship\n",
                "\n",
                "BertrandRussel = 'wd:Q33760'\n",
                "\n",
                "q = f\"\"\"\n",
                "select distinct ?property ?name where{{\n",
                "wd:Q33760 ?property ?value .\n",
                "?property <http://schema.org/name> ?name .\n",
                "?value <http://schema.org/name> ?vName .\n",
                "filter regex(?vName, '.*problems of philosophy.*', 'i') .\n",
                "}}\n",
                "\"\"\"\n",
                "run_query(q)"
            ]
        },
        {
            "cell_type": "code",
            "execution_count": 38,
            "id": "75b029c2-12a3-461c-b837-3b0cf6b6a023",
            "metadata": {},
            "outputs": [
                {
                    "name": "stdout",
                    "output_type": "stream",
                    "text": [
                        "Empty\n"
                    ]
                },
                {
                    "data": {
                        "text/plain": [
                            "0"
                        ]
                    },
                    "execution_count": 38,
                    "metadata": {},
                    "output_type": "execute_result"
                }
            ],
            "source": [
                "notableWork = 'wdt:P800'\n",
                "#now we have to figure out the property connecting a book to the vatican library\n",
                "\n",
                "q = f\"\"\"\n",
                "select distinct ?property ?name where{{\n",
                "?author wdt:P106/wdt:P279* wd:Q36180 ;\n",
                "    wdt:P166 wd:Q37922 ;\n",
                "    wdt:P800 ?book .\n",
                "    \n",
                "?book ?property ?object .\n",
                "?property <http://schema.org/name> ?name .\n",
                "\n",
                "?object <http://schema.org/name> ?objectName .\n",
                "filter regex(?objectName, '.*vatican.*', 'i') .\n",
                "}}\n",
                "\"\"\"\n",
                "run_query(q)"
            ]
        },
        {
            "cell_type": "code",
            "execution_count": 39,
            "id": "a5e6163e-7542-483c-8f6d-4b2ff5bf468c",
            "metadata": {},
            "outputs": [
                {
                    "name": "stdout",
                    "output_type": "stream",
                    "text": [
                        "[('property', 'http://www.wikidata.org/prop/direct/P6962'), ('name', 'narrative motif')]\n",
                        "[('property', 'http://www.wikidata.org/prop/direct/P8371'), ('name', 'references work, tradition or theory')]\n",
                        "[('property', 'http://www.wikidata.org/prop/direct/P123'), ('name', 'publisher')]\n",
                        "[('property', 'http://www.wikidata.org/prop/direct/P136'), ('name', 'genre')]\n",
                        "[('property', 'http://www.wikidata.org/prop/direct/P144'), ('name', 'based on')]\n",
                        "[('property', 'http://www.wikidata.org/prop/direct/P155'), ('name', 'follows')]\n",
                        "[('property', 'http://www.wikidata.org/prop/direct/P156'), ('name', 'followed by')]\n",
                        "[('property', 'http://www.wikidata.org/prop/direct/P166'), ('name', 'award received')]\n",
                        "[('property', 'http://www.wikidata.org/prop/direct/P180'), ('name', 'depicts')]\n",
                        "[('property', 'http://www.wikidata.org/prop/direct/P1889'), ('name', 'different from')]\n",
                        "[('property', 'http://www.wikidata.org/prop/direct/P291'), ('name', 'place of publication')]\n",
                        "[('property', 'http://www.wikidata.org/prop/direct/P31'), ('name', 'instance of')]\n",
                        "[('property', 'http://www.wikidata.org/prop/direct/P407'), ('name', 'language of work or name')]\n",
                        "[('property', 'http://www.wikidata.org/prop/direct/P495'), ('name', 'country of origin')]\n",
                        "[('property', 'http://www.wikidata.org/prop/direct/P4969'), ('name', 'derivative work')]\n",
                        "[('property', 'http://www.wikidata.org/prop/direct/P50'), ('name', 'author')]\n",
                        "[('property', 'http://www.wikidata.org/prop/direct/P527'), ('name', 'has part')]\n",
                        "[('property', 'http://www.wikidata.org/prop/direct/P6216'), ('name', 'copyright status')]\n",
                        "[('property', 'http://www.wikidata.org/prop/direct/P655'), ('name', 'translator')]\n",
                        "[('property', 'http://www.wikidata.org/prop/direct/P674'), ('name', 'characters')]\n",
                        "[('property', 'http://www.wikidata.org/prop/direct/P737'), ('name', 'influenced by')]\n",
                        "[('property', 'http://www.wikidata.org/prop/direct/P747'), ('name', 'has edition or translation')]\n",
                        "[('property', 'http://www.wikidata.org/prop/direct/P793'), ('name', 'significant event')]\n",
                        "[('property', 'http://www.wikidata.org/prop/direct/P7937'), ('name', 'form of creative work')]\n",
                        "[('property', 'http://www.wikidata.org/prop/direct/P825'), ('name', 'dedicated to')]\n",
                        "[('property', 'http://www.wikidata.org/prop/direct/P840'), ('name', 'narrative location')]\n",
                        "[('property', 'http://www.wikidata.org/prop/direct/P921'), ('name', 'main subject')]\n",
                        "[('property', 'http://www.wikidata.org/prop/direct/P941'), ('name', 'inspired by')]\n",
                        "[('property', 'http://www.wikidata.org/prop/direct/P2408'), ('name', 'set in period')]\n",
                        "[('property', 'http://www.wikidata.org/prop/direct/P629'), ('name', 'edition or translation of')]\n",
                        "[('property', 'http://www.wikidata.org/prop/direct/P135'), ('name', 'movement')]\n",
                        "[('property', 'http://www.wikidata.org/prop/direct/P138'), ('name', 'named after')]\n",
                        "[('property', 'http://www.wikidata.org/prop/direct/P910'), ('name', \"topic's main category\")]\n",
                        "[('property', 'http://www.wikidata.org/prop/direct/P1433'), ('name', 'published in')]\n",
                        "[('property', 'http://www.wikidata.org/prop/direct/P736'), ('name', 'cover art by')]\n",
                        "[('property', 'http://www.wikidata.org/prop/direct/P2670'), ('name', 'has parts of the class')]\n",
                        "[('property', 'http://www.wikidata.org/prop/direct/P972'), ('name', 'catalog')]\n",
                        "[('property', 'http://www.wikidata.org/prop/direct/P2438'), ('name', 'narrator')]\n",
                        "[('property', 'http://www.wikidata.org/prop/direct/P6166'), ('name', 'quotes work')]\n",
                        "[('property', 'http://www.wikidata.org/prop/direct/P110'), ('name', 'illustrator')]\n",
                        "[('property', 'http://www.wikidata.org/prop/direct/P170'), ('name', 'creator')]\n",
                        "[('property', 'http://www.wikidata.org/prop/direct/P179'), ('name', 'part of the series')]\n",
                        "[('property', 'http://www.wikidata.org/prop/direct/P2283'), ('name', 'uses')]\n",
                        "[('property', 'http://www.wikidata.org/prop/direct/P8411'), ('name', 'set in environment')]\n",
                        "[('property', 'http://www.wikidata.org/prop/direct/P86'), ('name', 'composer')]\n",
                        "[('property', 'http://www.wikidata.org/prop/direct/P87'), ('name', 'librettist')]\n",
                        "[('property', 'http://www.wikidata.org/prop/direct/P1424'), ('name', \"topic's main template\")]\n",
                        "[('property', 'http://www.wikidata.org/prop/direct/P17'), ('name', 'country')]\n",
                        "[('property', 'http://www.wikidata.org/prop/direct/P2079'), ('name', 'fabrication method')]\n",
                        "[('property', 'http://www.wikidata.org/prop/direct/P364'), ('name', 'original language of film or TV show')]\n",
                        "[('property', 'http://www.wikidata.org/prop/direct/P4647'), ('name', 'location of first performance')]\n",
                        "[('property', 'http://www.wikidata.org/prop/direct/P2679'), ('name', 'author of foreword')]\n",
                        "[('property', 'http://www.wikidata.org/prop/direct/P1343'), ('name', 'described by source')]\n",
                        "[('property', 'http://www.wikidata.org/prop/direct/P361'), ('name', 'part of')]\n",
                        "[('property', 'http://www.wikidata.org/prop/direct/P5008'), ('name', 'on focus list of Wikimedia project')]\n",
                        "[('property', 'http://www.wikidata.org/prop/direct/P6104'), ('name', 'maintained by WikiProject')]\n",
                        "[('property', 'http://www.wikidata.org/prop/direct/P1411'), ('name', 'nominated for')]\n",
                        "[('property', 'http://www.wikidata.org/prop/direct/P2291'), ('name', 'charted in')]\n",
                        "[('property', 'http://www.wikidata.org/prop/direct/P1552'), ('name', 'has quality')]\n",
                        "[('property', 'http://www.wikidata.org/prop/direct/P162'), ('name', 'producer')]\n",
                        "[('property', 'http://www.wikidata.org/prop/direct/P175'), ('name', 'performer')]\n",
                        "[('property', 'http://www.wikidata.org/prop/direct/P1881'), ('name', 'list of characters')]\n",
                        "[('property', 'http://www.wikidata.org/prop/direct/P264'), ('name', 'record label')]\n",
                        "[('property', 'http://www.wikidata.org/prop/direct/P437'), ('name', 'distribution format')]\n",
                        "[('property', 'http://www.wikidata.org/prop/direct/P676'), ('name', 'lyrics by')]\n",
                        "[('property', 'http://www.wikidata.org/prop/direct/P826'), ('name', 'tonality')]\n",
                        "[('property', 'http://www.wikidata.org/prop/direct/P658'), ('name', 'tracklist')]\n",
                        "[('property', 'http://www.wikidata.org/prop/direct/P449'), ('name', 'original broadcaster')]\n",
                        "[('property', 'http://www.wikidata.org/prop/direct/P58'), ('name', 'screenwriter')]\n",
                        "[('property', 'http://www.wikidata.org/prop/direct/P1040'), ('name', 'film editor')]\n",
                        "[('property', 'http://www.wikidata.org/prop/direct/P161'), ('name', 'cast member')]\n",
                        "[('property', 'http://www.wikidata.org/prop/direct/P2515'), ('name', 'costume designer')]\n",
                        "[('property', 'http://www.wikidata.org/prop/direct/P272'), ('name', 'production company')]\n",
                        "[('property', 'http://www.wikidata.org/prop/direct/P344'), ('name', 'director of photography')]\n",
                        "[('property', 'http://www.wikidata.org/prop/direct/P460'), ('name', 'said to be the same as')]\n",
                        "[('property', 'http://www.wikidata.org/prop/direct/P462'), ('name', 'color')]\n",
                        "[('property', 'http://www.wikidata.org/prop/direct/P57'), ('name', 'director')]\n",
                        "[('property', 'http://www.wikidata.org/prop/direct/P750'), ('name', 'distributed by')]\n",
                        "[('property', 'http://www.wikidata.org/prop/direct/P2554'), ('name', 'production designer')]\n",
                        "[('property', 'http://www.wikidata.org/prop/direct/P1071'), ('name', 'location of creation')]\n",
                        "[('property', 'http://www.wikidata.org/prop/direct/P98'), ('name', 'editor')]\n",
                        "[('property', 'http://www.wikidata.org/prop/direct/P195'), ('name', 'collection')]\n"
                    ]
                },
                {
                    "data": {
                        "text/plain": [
                            "82"
                        ]
                    },
                    "execution_count": 39,
                    "metadata": {},
                    "output_type": "execute_result"
                }
            ],
            "source": [
                "#instead let's look at the properties for books\n",
                "q = f\"\"\"\n",
                "select distinct ?property ?name where{{\n",
                "?author wdt:P106/wdt:P279* wd:Q36180 ;\n",
                "    wdt:P166 wd:Q37922 ;\n",
                "    wdt:P800 ?book .\n",
                "    \n",
                "?book ?property ?object .\n",
                "?property <http://schema.org/name> ?name .\n",
                "\n",
                "?object <http://schema.org/name> ?objectName .\n",
                "}}\n",
                "limit 100\n",
                "\"\"\"\n",
                "run_query(q)"
            ]
        },
        {
            "cell_type": "code",
            "execution_count": 40,
            "id": "d2d58ca8-d488-49cf-a822-9383912d2e04",
            "metadata": {},
            "outputs": [
                {
                    "name": "stdout",
                    "output_type": "stream",
                    "text": [
                        "Empty\n"
                    ]
                },
                {
                    "data": {
                        "text/plain": [
                            "0"
                        ]
                    },
                    "execution_count": 40,
                    "metadata": {},
                    "output_type": "execute_result"
                }
            ],
            "source": [
                "#no property seems to indicate an archive\n",
                "#is it possible that the inverse is true? that it's the vatican archive to hold a certain book?\n",
                "\n",
                "q = f\"\"\"\n",
                "select distinct ?property ?name where{{\n",
                "?author wdt:P106/wdt:P279* wd:Q36180 ;\n",
                "    wdt:P166 wd:Q37922 ;\n",
                "    wdt:P800 ?book .\n",
                "\n",
                "?vatican ?property ?book .\n",
                "?vatican <http://schema.org/name> ?vaticanName .\n",
                "?property <http://schema.org/name> ?name .\n",
                "\n",
                "filter regex (?vaticanName, '.*vatican.*', ',') .\n",
                "}}\n",
                "limit 100\n",
                "\"\"\"\n",
                "run_query(q)"
            ]
        },
        {
            "cell_type": "code",
            "execution_count": 41,
            "id": "8542b37d-85eb-4dff-a548-382561c69556",
            "metadata": {},
            "outputs": [
                {
                    "name": "stdout",
                    "output_type": "stream",
                    "text": [
                        "[('property', 'http://www.wikidata.org/prop/direct/P800'), ('name', 'notable work')]\n"
                    ]
                },
                {
                    "data": {
                        "text/plain": [
                            "1"
                        ]
                    },
                    "execution_count": 41,
                    "metadata": {},
                    "output_type": "execute_result"
                }
            ],
            "source": [
                "#maybe the archive is on the authors themselves?\n",
                "q = f\"\"\"\n",
                "select distinct ?property ?name where{{\n",
                "?author wdt:P106/wdt:P279* wd:Q36180 ;\n",
                "    wdt:P166 wd:Q37922 ;\n",
                "    ?property ?vatican .\n",
                "\n",
                "?property <http://schema.org/name> ?name .\n",
                "\n",
                "?vatican <http://schema.org/name> ?vaticanName .\n",
                "filter regex(?vaticanName, '.*vatican.*', 'i') .\n",
                "}}\n",
                "\"\"\"\n",
                "run_query(q)"
            ]
        },
        {
            "cell_type": "code",
            "execution_count": 42,
            "id": "8a5b1c1b-2489-4130-9a92-826f40b11005",
            "metadata": {},
            "outputs": [
                {
                    "name": "stdout",
                    "output_type": "stream",
                    "text": [
                        "[('class', 'http://www.wikidata.org/entity/Q3624078'), ('name', 'sovereign state')]\n",
                        "[('class', 'http://www.wikidata.org/entity/Q6256'), ('name', 'country')]\n"
                    ]
                },
                {
                    "data": {
                        "text/plain": [
                            "2"
                        ]
                    },
                    "execution_count": 42,
                    "metadata": {},
                    "output_type": "execute_result"
                }
            ],
            "source": [
                "#let's try and find the vatican library by a roundabout way, first by finding the vatican country, then by finding everything related to that country\n",
                "\n",
                "#first we have to find the class for a country, let's use italy\n",
                "\n",
                "q = f\"\"\"\n",
                "select distinct ?class ?name where{{\n",
                "wd:Q38 wdt:P31 ?class .\n",
                "?class <http://schema.org/name> ?name\n",
                "}}\n",
                "\"\"\"\n",
                "run_query(q)"
            ]
        },
        {
            "cell_type": "code",
            "execution_count": 43,
            "id": "9d1e53c9-31c8-48a5-8bf2-93a4167430d3",
            "metadata": {},
            "outputs": [
                {
                    "name": "stdout",
                    "output_type": "stream",
                    "text": [
                        "Empty\n"
                    ]
                },
                {
                    "data": {
                        "text/plain": [
                            "0"
                        ]
                    },
                    "execution_count": 43,
                    "metadata": {},
                    "output_type": "execute_result"
                }
            ],
            "source": [
                "Country = 'wd:Q6256'\n",
                "q = f\"\"\"\n",
                "select distinct ?country ?name where{{\n",
                "?country wdt:P31 wd:Q6256 ;\n",
                "    <http://schema.org/name> ?name .\n",
                "    \n",
                "filter regex(?name, '.*vatican.*', 'i')\n",
                "}}\n",
                "\"\"\"\n",
                "run_query(q)"
            ]
        },
        {
            "cell_type": "code",
            "execution_count": 44,
            "id": "582a3740-1ffd-4f17-ad47-3ccb5f82f597",
            "metadata": {},
            "outputs": [
                {
                    "name": "stdout",
                    "output_type": "stream",
                    "text": [
                        "Empty\n"
                    ]
                },
                {
                    "data": {
                        "text/plain": [
                            "0"
                        ]
                    },
                    "execution_count": 44,
                    "metadata": {},
                    "output_type": "execute_result"
                }
            ],
            "source": [
                "q = f\"\"\"\n",
                "select distinct ?country ?name where{{\n",
                "?country wdt:P31 wd:Q6256 ;\n",
                "    <http://schema.org/name> ?name .\n",
                "    \n",
                "filter regex(?name, 'vatican city', 'i')\n",
                "}}\n",
                "\"\"\"\n",
                "run_query(q)"
            ]
        },
        {
            "cell_type": "code",
            "execution_count": 45,
            "id": "36198f77-e836-40f0-820c-28031619f069",
            "metadata": {},
            "outputs": [
                {
                    "name": "stdout",
                    "output_type": "stream",
                    "text": [
                        "Empty\n"
                    ]
                },
                {
                    "data": {
                        "text/plain": [
                            "0"
                        ]
                    },
                    "execution_count": 45,
                    "metadata": {},
                    "output_type": "execute_result"
                }
            ],
            "source": [
                "q = f\"\"\"\n",
                "select distinct ?country ?name where{{\n",
                "?country wdt:P31 wd:Q6256 ;\n",
                "    <http://schema.org/name> ?name .\n",
                "    \n",
                "filter regex(?name, '.*del vaticano', 'i')\n",
                "}}\n",
                "\"\"\"\n",
                "run_query(q)"
            ]
        },
        {
            "cell_type": "code",
            "execution_count": 46,
            "id": "76f41d3c-53c7-4443-a64c-cf06d55d796a",
            "metadata": {},
            "outputs": [
                {
                    "name": "stdout",
                    "output_type": "stream",
                    "text": [
                        "[('country', 'http://www.wikidata.org/entity/Q237'), ('name', 'Vatican City')]\n"
                    ]
                },
                {
                    "data": {
                        "text/plain": [
                            "1"
                        ]
                    },
                    "execution_count": 46,
                    "metadata": {},
                    "output_type": "execute_result"
                }
            ],
            "source": [
                "#let's try with sovereign state\n",
                "SovereignState = 'wd:Q3624078'\n",
                "q = f\"\"\"\n",
                "select distinct ?country ?name where{{\n",
                "?country wdt:P31 wd:Q3624078 ;\n",
                "    <http://schema.org/name> ?name .\n",
                "    \n",
                "filter regex(?name, '.*vatican.*', 'i')\n",
                "}}\n",
                "\"\"\"\n",
                "run_query(q)"
            ]
        },
        {
            "cell_type": "code",
            "execution_count": 47,
            "id": "f94d6b32-74bd-465d-b7e1-13788c230c5c",
            "metadata": {},
            "outputs": [
                {
                    "name": "stdout",
                    "output_type": "stream",
                    "text": [
                        "[('subject', 'http://www.wikidata.org/entity/Q536580'), ('name', 'Vatican Apostolic Archive')]\n",
                        "[('subject', 'http://www.wikidata.org/entity/Q213678'), ('name', 'Vatican Library')]\n",
                        "[('subject', 'http://www.wikidata.org/entity/Q105848309'), ('name', 'Archpriest of the Basilica di San Pietro in Vaticano')]\n",
                        "[('subject', 'http://www.wikidata.org/entity/Q19823475'), ('name', 'prefect of the Vatican Library')]\n",
                        "[('subject', 'http://www.wikidata.org/entity/Q12051107'), ('name', 'Scuola vaticana di paleografia, diplomatica e archivistica')]\n",
                        "[('subject', 'http://www.wikidata.org/entity/Q104093644'), ('name', 'Archivist of the Vatican Archive')]\n",
                        "[('subject', 'http://www.wikidata.org/entity/Q104094089'), ('name', 'Prefect of the Vatican Archives')]\n",
                        "[('subject', 'http://www.wikidata.org/entity/Q3745476'), ('name', 'Vatican Film Library')]\n",
                        "[('subject', 'http://www.wikidata.org/entity/P8034'), ('name', 'Vatican Library VcBA ID')]\n",
                        "[('subject', 'http://www.wikidata.org/entity/Q50421021'), ('name', 'The Propaganda Fide Historical Archives')]\n",
                        "[('subject', 'http://www.wikidata.org/entity/Q77463414'), ('name', 'Apostolic Library Regina 1682')]\n",
                        "[('subject', 'http://www.wikidata.org/entity/Q77463433'), ('name', 'Apostolic Library Reg. 1323')]\n",
                        "[('subject', 'http://www.wikidata.org/entity/Q3959830'), ('name', 'Shroud of Turin Research Project')]\n",
                        "[('subject', 'http://www.wikidata.org/entity/Q3867540'), ('name', 'Museum of Vatican Apostolic Library')]\n",
                        "[('subject', 'http://www.wikidata.org/entity/P1017'), ('name', 'Vatican Library ID (former scheme)')]\n",
                        "[('subject', 'http://www.wikidata.org/entity/Q16151461'), ('name', 'list of archives in Vatican City')]\n",
                        "[('subject', 'http://www.wikidata.org/entity/Q4787271'), ('name', 'Archive of the Congregation for the Doctrine of the Faith')]\n",
                        "[('subject', 'http://www.wikidata.org/entity/Q77464743'), ('name', 'Apostolic Library Reg. 258')]\n"
                    ]
                },
                {
                    "data": {
                        "text/plain": [
                            "18"
                        ]
                    },
                    "execution_count": 47,
                    "metadata": {},
                    "output_type": "execute_result"
                }
            ],
            "source": [
                "Vatican = 'wd:Q237'\n",
                "#now let's try and see everything with \"library\" or \"archive\" that connects with the vatican city via the \"country\" property\n",
                "q = f\"\"\"\n",
                "select distinct ?subject ?name where{{\n",
                "?subject wdt:P17 wd:Q237 ;\n",
                "    <http://schema.org/name> ?name .\n",
                "    \n",
                "filter regex(?name, '.*(library|archive|libr|arch).*', 'i')\n",
                "}}\n",
                "\"\"\"\n",
                "run_query(q)"
            ]
        },
        {
            "cell_type": "code",
            "execution_count": 48,
            "id": "a2843d0a-56db-47d2-afd7-4c00da2af0e2",
            "metadata": {},
            "outputs": [
                {
                    "name": "stdout",
                    "output_type": "stream",
                    "text": [
                        "Empty\n"
                    ]
                },
                {
                    "data": {
                        "text/plain": [
                            "0"
                        ]
                    },
                    "execution_count": 48,
                    "metadata": {},
                    "output_type": "execute_result"
                }
            ],
            "source": [
                "#we found the Vatican Library entity\n",
                "VaticanLibrary = 'wd:Q213678'\n",
                "\n",
                "#let's attempt to connect works of nobel laureates in literature with the vatican library\n",
                "q = f\"\"\"\n",
                "select distinct ?property ?name where{{\n",
                "?author wdt:P106/wdt:P279* wd:Q36180 ;\n",
                "    wdt:P166 wd:Q37922 ;\n",
                "    wdt:P800 ?book .\n",
                "    \n",
                "?book ?property wd:Q213678 .\n",
                "    \n",
                "?property <http://schema.org/name> ?name\n",
                "}}\n",
                "\"\"\"\n",
                "run_query(q)"
            ]
        },
        {
            "cell_type": "code",
            "execution_count": 49,
            "id": "42be45dd-50b0-4814-8b83-484b52c57274",
            "metadata": {},
            "outputs": [
                {
                    "name": "stdout",
                    "output_type": "stream",
                    "text": [
                        "Empty\n"
                    ]
                },
                {
                    "data": {
                        "text/plain": [
                            "0"
                        ]
                    },
                    "execution_count": 49,
                    "metadata": {},
                    "output_type": "execute_result"
                }
            ],
            "source": [
                "#let's try with 2 jumps\n",
                "q = f\"\"\"\n",
                "select distinct ?property1 ?property2 ?name1 ?name2 where{{\n",
                "?author wdt:P106/wdt:P279* wd:Q36180 ;\n",
                "    wdt:P166 wd:Q37922 ;\n",
                "    wdt:P800 ?book .\n",
                "    \n",
                "?book ?property1 ?middle .\n",
                "?middle ?property2 wd:Q213678 .\n",
                "    \n",
                "?property1 <http://schema.org/name> ?name1 .\n",
                "?property2 <http://schema.org/name> ?name2 .\n",
                "}}\n",
                "\"\"\"\n",
                "run_query(q)"
            ]
        },
        {
            "cell_type": "code",
            "execution_count": 50,
            "id": "51158a60-ffeb-4d47-8940-a1938f8db3d0",
            "metadata": {},
            "outputs": [
                {
                    "name": "stdout",
                    "output_type": "stream",
                    "text": [
                        "Empty\n"
                    ]
                },
                {
                    "data": {
                        "text/plain": [
                            "0"
                        ]
                    },
                    "execution_count": 50,
                    "metadata": {},
                    "output_type": "execute_result"
                }
            ],
            "source": [
                "#let's attempt and connect nobel laureates to the vatican library directly\n",
                "q = f\"\"\"\n",
                "select distinct ?property1 ?name1 where{{\n",
                "?author wdt:P106/wdt:P279* wd:Q36180 ;\n",
                "    wdt:P166 wd:Q37922 .\n",
                "    \n",
                "?author ?property1 wd:Q213678 .\n",
                "    \n",
                "?property1 <http://schema.org/name> ?name1 .\n",
                "\n",
                "}}\n",
                "\"\"\"\n",
                "run_query(q)"
            ]
        },
        {
            "cell_type": "code",
            "execution_count": 51,
            "id": "fc84c8f2-fe16-4232-b943-9c6266250ee8",
            "metadata": {},
            "outputs": [
                {
                    "name": "stdout",
                    "output_type": "stream",
                    "text": [
                        "Empty\n"
                    ]
                },
                {
                    "data": {
                        "text/plain": [
                            "0"
                        ]
                    },
                    "execution_count": 51,
                    "metadata": {},
                    "output_type": "execute_result"
                }
            ],
            "source": [
                "#let's attempt and connect nobel laureates to the vatican library directly\n",
                "q = f\"\"\"\n",
                "select distinct ?property1 ?name1 ?property2 ?name2 where{{\n",
                "?author wdt:P106/wdt:P279* wd:Q36180 ;\n",
                "    wdt:P166 wd:Q37922 .\n",
                "    \n",
                "?author ?property1 ?middle .\n",
                "?middle ?property2 wd:Q213678 .\n",
                "    \n",
                "?property1 <http://schema.org/name> ?name1 .\n",
                "?property2 <http://schema.org/name> ?name2 .\n",
                "\n",
                "}}\n",
                "\"\"\"\n",
                "run_query(q)"
            ]
        },
        {
            "cell_type": "code",
            "execution_count": 52,
            "id": "62f6d463-ec13-4fbe-ac7a-328b44150f4f",
            "metadata": {},
            "outputs": [
                {
                    "name": "stdout",
                    "output_type": "stream",
                    "text": [
                        "Empty\n"
                    ]
                },
                {
                    "data": {
                        "text/plain": [
                            "0"
                        ]
                    },
                    "execution_count": 52,
                    "metadata": {},
                    "output_type": "execute_result"
                }
            ],
            "source": [
                "#maybe this is the wrong approach. is there a property for a book, related to vatican library, not pointing to it?\n",
                "q = f\"\"\"\n",
                "select distinct ?property ?name where{{\n",
                "?author wdt:P106/wdt:P279* wd:Q36180 ;\n",
                "    wdt:P166 wd:Q37922 ;\n",
                "    wdt:P800 ?book .\n",
                "    \n",
                "?book ?property ?value .\n",
                "?property <http://schema.org/name> ?name .\n",
                "\n",
                "filter regex(?name, '.*vatican.*', 'i') .\n",
                "\n",
                "}}\n",
                "\"\"\"\n",
                "run_query(q)"
            ]
        },
        {
            "cell_type": "code",
            "execution_count": 53,
            "id": "8d645df7-1eba-4016-ba42-1fe8de6ccb3b",
            "metadata": {},
            "outputs": [
                {
                    "name": "stdout",
                    "output_type": "stream",
                    "text": [
                        "[('property', 'http://www.wikidata.org/prop/direct/P6962'), ('name', 'narrative motif')]\n",
                        "[('property', 'http://www.wikidata.org/prop/direct/P8371'), ('name', 'references work, tradition or theory')]\n",
                        "[('property', 'http://www.wikidata.org/prop/direct/P1844'), ('name', 'HathiTrust ID')]\n",
                        "[('property', 'http://www.wikidata.org/prop/direct/P2093'), ('name', 'author name string')]\n",
                        "[('property', 'http://www.wikidata.org/prop/direct/P1085'), ('name', 'LibraryThing work ID')]\n",
                        "[('property', 'http://www.wikidata.org/prop/direct/P123'), ('name', 'publisher')]\n",
                        "[('property', 'http://www.wikidata.org/prop/direct/P136'), ('name', 'genre')]\n",
                        "[('property', 'http://www.wikidata.org/prop/direct/P1375'), ('name', 'NSK ID')]\n",
                        "[('property', 'http://www.wikidata.org/prop/direct/P1417'), ('name', 'Encyclop\u00e6dia Britannica Online ID')]\n",
                        "[('property', 'http://www.wikidata.org/prop/direct/P144'), ('name', 'based on')]\n",
                        "[('property', 'http://www.wikidata.org/prop/direct/P1476'), ('name', 'title')]\n",
                        "[('property', 'http://www.wikidata.org/prop/direct/P155'), ('name', 'follows')]\n",
                        "[('property', 'http://www.wikidata.org/prop/direct/P156'), ('name', 'followed by')]\n",
                        "[('property', 'http://www.wikidata.org/prop/direct/P166'), ('name', 'award received')]\n",
                        "[('property', 'http://www.wikidata.org/prop/direct/P18'), ('name', 'image')]\n",
                        "[('property', 'http://www.wikidata.org/prop/direct/P180'), ('name', 'depicts')]\n",
                        "[('property', 'http://www.wikidata.org/prop/direct/P1889'), ('name', 'different from')]\n",
                        "[('property', 'http://www.wikidata.org/prop/direct/P1922'), ('name', 'first line')]\n",
                        "[('property', 'http://www.wikidata.org/prop/direct/P214'), ('name', 'VIAF ID')]\n",
                        "[('property', 'http://www.wikidata.org/prop/direct/P227'), ('name', 'GND ID')]\n",
                        "[('property', 'http://www.wikidata.org/prop/direct/P243'), ('name', 'OCLC control number')]\n",
                        "[('property', 'http://www.wikidata.org/prop/direct/P244'), ('name', 'Library of Congress authority ID')]\n",
                        "[('property', 'http://www.wikidata.org/prop/direct/P2635'), ('name', 'number of parts of this work')]\n",
                        "[('property', 'http://www.wikidata.org/prop/direct/P2671'), ('name', 'Google Knowledge Graph ID')]\n",
                        "[('property', 'http://www.wikidata.org/prop/direct/P268'), ('name', 'Biblioth\u00e8que nationale de France ID')]\n",
                        "[('property', 'http://www.wikidata.org/prop/direct/P269'), ('name', 'IdRef ID')]\n",
                        "[('property', 'http://www.wikidata.org/prop/direct/P291'), ('name', 'place of publication')]\n",
                        "[('property', 'http://www.wikidata.org/prop/direct/P31'), ('name', 'instance of')]\n",
                        "[('property', 'http://www.wikidata.org/prop/direct/P3123'), ('name', 'Stanford Encyclopedia of Philosophy ID')]\n",
                        "[('property', 'http://www.wikidata.org/prop/direct/P3219'), ('name', 'Encyclop\u00e6dia Universalis ID')]\n",
                        "[('property', 'http://www.wikidata.org/prop/direct/P3417'), ('name', 'Quora topic ID')]\n",
                        "[('property', 'http://www.wikidata.org/prop/direct/P3553'), ('name', 'Zhihu topic ID')]\n",
                        "[('property', 'http://www.wikidata.org/prop/direct/P3631'), ('name', 'Babelio work ID')]\n",
                        "[('property', 'http://www.wikidata.org/prop/direct/P373'), ('name', 'Commons category')]\n",
                        "[('property', 'http://www.wikidata.org/prop/direct/P407'), ('name', 'language of work or name')]\n",
                        "[('property', 'http://www.wikidata.org/prop/direct/P409'), ('name', 'Libraries Australia ID')]\n",
                        "[('property', 'http://www.wikidata.org/prop/direct/P4215'), ('name', 'nLab ID')]\n",
                        "[('property', 'http://www.wikidata.org/prop/direct/P4342'), ('name', 'Store norske leksikon ID')]\n",
                        "[('property', 'http://www.wikidata.org/prop/direct/P435'), ('name', 'MusicBrainz work ID')]\n",
                        "[('property', 'http://www.wikidata.org/prop/direct/P495'), ('name', 'country of origin')]\n",
                        "[('property', 'http://www.wikidata.org/prop/direct/P4969'), ('name', 'derivative work')]\n",
                        "[('property', 'http://www.wikidata.org/prop/direct/P50'), ('name', 'author')]\n",
                        "[('property', 'http://www.wikidata.org/prop/direct/P5019'), ('name', 'Brockhaus Enzyklop\u00e4die online ID')]\n",
                        "[('property', 'http://www.wikidata.org/prop/direct/P527'), ('name', 'has part')]\n",
                        "[('property', 'http://www.wikidata.org/prop/direct/P5331'), ('name', 'OCLC work ID')]\n",
                        "[('property', 'http://www.wikidata.org/prop/direct/P571'), ('name', 'inception')]\n",
                        "[('property', 'http://www.wikidata.org/prop/direct/P577'), ('name', 'publication date')]\n",
                        "[('property', 'http://www.wikidata.org/prop/direct/P6216'), ('name', 'copyright status')]\n",
                        "[('property', 'http://www.wikidata.org/prop/direct/P646'), ('name', 'Freebase ID')]\n",
                        "[('property', 'http://www.wikidata.org/prop/direct/P648'), ('name', 'Open Library ID')]\n",
                        "[('property', 'http://www.wikidata.org/prop/direct/P655'), ('name', 'translator')]\n",
                        "[('property', 'http://www.wikidata.org/prop/direct/P674'), ('name', 'characters')]\n",
                        "[('property', 'http://www.wikidata.org/prop/direct/P724'), ('name', 'Internet Archive ID')]\n",
                        "[('property', 'http://www.wikidata.org/prop/direct/P7293'), ('name', 'PLWABN ID')]\n",
                        "[('property', 'http://www.wikidata.org/prop/direct/P737'), ('name', 'influenced by')]\n",
                        "[('property', 'http://www.wikidata.org/prop/direct/P747'), ('name', 'has edition or translation')]\n",
                        "[('property', 'http://www.wikidata.org/prop/direct/P7699'), ('name', 'National Library of Lithuania ID')]\n",
                        "[('property', 'http://www.wikidata.org/prop/direct/P793'), ('name', 'significant event')]\n",
                        "[('property', 'http://www.wikidata.org/prop/direct/P7937'), ('name', 'form of creative work')]\n",
                        "[('property', 'http://www.wikidata.org/prop/direct/P8189'), ('name', 'National Library of Israel J9U ID')]\n",
                        "[('property', 'http://www.wikidata.org/prop/direct/P825'), ('name', 'dedicated to')]\n",
                        "[('property', 'http://www.wikidata.org/prop/direct/P8383'), ('name', 'Goodreads work ID')]\n",
                        "[('property', 'http://www.wikidata.org/prop/direct/P840'), ('name', 'narrative location')]\n",
                        "[('property', 'http://www.wikidata.org/prop/direct/P856'), ('name', 'official website')]\n",
                        "[('property', 'http://www.wikidata.org/prop/direct/P921'), ('name', 'main subject')]\n",
                        "[('property', 'http://www.wikidata.org/prop/direct/P9365'), ('name', 'Modernist Commons ID')]\n",
                        "[('property', 'http://www.wikidata.org/prop/direct/P941'), ('name', 'inspired by')]\n",
                        "[('property', 'http://www.wikidata.org/prop/direct/P949'), ('name', 'National Library of Israel ID')]\n",
                        "[('property', 'http://www.wikidata.org/prop/direct/P950'), ('name', 'Biblioteca Nacional de Espa\u00f1a ID')]\n",
                        "[('property', 'http://www.wikidata.org/prop/direct/P989'), ('name', 'spoken text audio')]\n",
                        "[('property', 'http://www.wikidata.org/prop/direct/P996'), ('name', 'document file on Wikimedia Commons')]\n",
                        "[('property', 'http://www.wikidata.org/prop/direct/P3132'), ('name', 'last line')]\n",
                        "[('property', 'http://www.wikidata.org/prop/direct/P1191'), ('name', 'date of first performance')]\n",
                        "[('property', 'http://www.wikidata.org/prop/direct/P1680'), ('name', 'subtitle')]\n",
                        "[('property', 'http://www.wikidata.org/prop/direct/P212'), ('name', 'ISBN-13')]\n",
                        "[('property', 'http://www.wikidata.org/prop/direct/P2408'), ('name', 'set in period')]\n",
                        "[('property', 'http://www.wikidata.org/prop/direct/P3959'), ('name', 'NNL item ID')]\n",
                        "[('property', 'http://www.wikidata.org/prop/direct/P6175'), ('name', 'Bitraga work ID')]\n",
                        "[('property', 'http://www.wikidata.org/prop/direct/P629'), ('name', 'edition or translation of')]\n",
                        "[('property', 'http://www.wikidata.org/prop/direct/P7439'), ('name', 'FantLab work ID')]\n",
                        "[('property', 'http://www.wikidata.org/prop/direct/P957'), ('name', 'ISBN-10')]\n",
                        "[('property', 'http://www.wikidata.org/prop/direct/P2034'), ('name', 'Project Gutenberg ebook ID')]\n",
                        "[('property', 'http://www.wikidata.org/prop/direct/P2969'), ('name', 'Goodreads version/edition ID')]\n",
                        "[('property', 'http://www.wikidata.org/prop/direct/P8294'), ('name', 'AusStage work ID')]\n",
                        "[('property', 'http://www.wikidata.org/prop/direct/P3732'), ('name', 'PhilPapers record')]\n",
                        "[('property', 'http://www.wikidata.org/prop/direct/P1104'), ('name', 'number of pages')]\n",
                        "[('property', 'http://www.wikidata.org/prop/direct/P135'), ('name', 'movement')]\n",
                        "[('property', 'http://www.wikidata.org/prop/direct/P138'), ('name', 'named after')]\n",
                        "[('property', 'http://www.wikidata.org/prop/direct/P1705'), ('name', 'native label')]\n",
                        "[('property', 'http://www.wikidata.org/prop/direct/P1890'), ('name', 'CCAB ID')]\n",
                        "[('property', 'http://www.wikidata.org/prop/direct/P349'), ('name', 'National Diet Library ID')]\n",
                        "[('property', 'http://www.wikidata.org/prop/direct/P4839'), ('name', 'Wolfram Language entity code')]\n",
                        "[('property', 'http://www.wikidata.org/prop/direct/P5587'), ('name', 'Libris-URI')]\n",
                        "[('property', 'http://www.wikidata.org/prop/direct/P6839'), ('name', 'TV Tropes identifier')]\n",
                        "[('property', 'http://www.wikidata.org/prop/direct/P691'), ('name', 'NKCR AUT ID')]\n",
                        "[('property', 'http://www.wikidata.org/prop/direct/P7369'), ('name', 'National Library of Chile ID')]\n",
                        "[('property', 'http://www.wikidata.org/prop/direct/P910'), ('name', \"topic's main category\")]\n",
                        "[('property', 'http://www.wikidata.org/prop/direct/P1433'), ('name', 'published in')]\n",
                        "[('property', 'http://www.wikidata.org/prop/direct/P1274'), ('name', 'ISFDB title ID')]\n",
                        "[('property', 'http://www.wikidata.org/prop/direct/P5571'), ('name', 'NooSFere book ID')]\n"
                    ]
                },
                {
                    "data": {
                        "text/plain": [
                            "100"
                        ]
                    },
                    "execution_count": 53,
                    "metadata": {},
                    "output_type": "execute_result"
                }
            ],
            "source": [
                "#let's see all properties exiting notable works\n",
                "q = f\"\"\"\n",
                "select distinct ?property ?name where{{\n",
                "?author wdt:P106/wdt:P279* wd:Q36180 ;\n",
                "    wdt:P166 wd:Q37922 ;\n",
                "    wdt:P800 ?book .\n",
                "    \n",
                "?book ?property ?value .\n",
                "?property <http://schema.org/name> ?name .\n",
                "\n",
                "}}\n",
                "limit 100\n",
                "\"\"\"\n",
                "run_query(q)"
            ]
        },
        {
            "cell_type": "code",
            "execution_count": 54,
            "id": "dab37147-5e1d-4501-8544-33ee7f99f380",
            "metadata": {
                "collapsed": true,
                "jupyter": {
                    "outputs_hidden": true
                },
                "tags": []
            },
            "outputs": [
                {
                    "name": "stdout",
                    "output_type": "stream",
                    "text": [
                        "[('property', 'http://www.wikidata.org/prop/direct/P6962'), ('name', 'narrative motif')]\n",
                        "[('property', 'http://www.wikidata.org/prop/direct/P8371'), ('name', 'references work, tradition or theory')]\n",
                        "[('property', 'http://www.wikidata.org/prop/direct/P1844'), ('name', 'HathiTrust ID')]\n",
                        "[('property', 'http://www.wikidata.org/prop/direct/P2093'), ('name', 'author name string')]\n",
                        "[('property', 'http://www.wikidata.org/prop/direct/P1085'), ('name', 'LibraryThing work ID')]\n",
                        "[('property', 'http://www.wikidata.org/prop/direct/P123'), ('name', 'publisher')]\n",
                        "[('property', 'http://www.wikidata.org/prop/direct/P136'), ('name', 'genre')]\n",
                        "[('property', 'http://www.wikidata.org/prop/direct/P1375'), ('name', 'NSK ID')]\n",
                        "[('property', 'http://www.wikidata.org/prop/direct/P1417'), ('name', 'Encyclop\u00e6dia Britannica Online ID')]\n",
                        "[('property', 'http://www.wikidata.org/prop/direct/P144'), ('name', 'based on')]\n",
                        "[('property', 'http://www.wikidata.org/prop/direct/P1476'), ('name', 'title')]\n",
                        "[('property', 'http://www.wikidata.org/prop/direct/P155'), ('name', 'follows')]\n",
                        "[('property', 'http://www.wikidata.org/prop/direct/P156'), ('name', 'followed by')]\n",
                        "[('property', 'http://www.wikidata.org/prop/direct/P166'), ('name', 'award received')]\n",
                        "[('property', 'http://www.wikidata.org/prop/direct/P18'), ('name', 'image')]\n",
                        "[('property', 'http://www.wikidata.org/prop/direct/P180'), ('name', 'depicts')]\n",
                        "[('property', 'http://www.wikidata.org/prop/direct/P1889'), ('name', 'different from')]\n",
                        "[('property', 'http://www.wikidata.org/prop/direct/P1922'), ('name', 'first line')]\n",
                        "[('property', 'http://www.wikidata.org/prop/direct/P214'), ('name', 'VIAF ID')]\n",
                        "[('property', 'http://www.wikidata.org/prop/direct/P227'), ('name', 'GND ID')]\n",
                        "[('property', 'http://www.wikidata.org/prop/direct/P243'), ('name', 'OCLC control number')]\n",
                        "[('property', 'http://www.wikidata.org/prop/direct/P244'), ('name', 'Library of Congress authority ID')]\n",
                        "[('property', 'http://www.wikidata.org/prop/direct/P2635'), ('name', 'number of parts of this work')]\n",
                        "[('property', 'http://www.wikidata.org/prop/direct/P2671'), ('name', 'Google Knowledge Graph ID')]\n",
                        "[('property', 'http://www.wikidata.org/prop/direct/P268'), ('name', 'Biblioth\u00e8que nationale de France ID')]\n",
                        "[('property', 'http://www.wikidata.org/prop/direct/P269'), ('name', 'IdRef ID')]\n",
                        "[('property', 'http://www.wikidata.org/prop/direct/P291'), ('name', 'place of publication')]\n",
                        "[('property', 'http://www.wikidata.org/prop/direct/P31'), ('name', 'instance of')]\n",
                        "[('property', 'http://www.wikidata.org/prop/direct/P3123'), ('name', 'Stanford Encyclopedia of Philosophy ID')]\n",
                        "[('property', 'http://www.wikidata.org/prop/direct/P3219'), ('name', 'Encyclop\u00e6dia Universalis ID')]\n",
                        "[('property', 'http://www.wikidata.org/prop/direct/P3417'), ('name', 'Quora topic ID')]\n",
                        "[('property', 'http://www.wikidata.org/prop/direct/P3553'), ('name', 'Zhihu topic ID')]\n",
                        "[('property', 'http://www.wikidata.org/prop/direct/P3631'), ('name', 'Babelio work ID')]\n",
                        "[('property', 'http://www.wikidata.org/prop/direct/P373'), ('name', 'Commons category')]\n",
                        "[('property', 'http://www.wikidata.org/prop/direct/P407'), ('name', 'language of work or name')]\n",
                        "[('property', 'http://www.wikidata.org/prop/direct/P409'), ('name', 'Libraries Australia ID')]\n",
                        "[('property', 'http://www.wikidata.org/prop/direct/P4215'), ('name', 'nLab ID')]\n",
                        "[('property', 'http://www.wikidata.org/prop/direct/P4342'), ('name', 'Store norske leksikon ID')]\n",
                        "[('property', 'http://www.wikidata.org/prop/direct/P435'), ('name', 'MusicBrainz work ID')]\n",
                        "[('property', 'http://www.wikidata.org/prop/direct/P495'), ('name', 'country of origin')]\n",
                        "[('property', 'http://www.wikidata.org/prop/direct/P4969'), ('name', 'derivative work')]\n",
                        "[('property', 'http://www.wikidata.org/prop/direct/P50'), ('name', 'author')]\n",
                        "[('property', 'http://www.wikidata.org/prop/direct/P5019'), ('name', 'Brockhaus Enzyklop\u00e4die online ID')]\n",
                        "[('property', 'http://www.wikidata.org/prop/direct/P527'), ('name', 'has part')]\n",
                        "[('property', 'http://www.wikidata.org/prop/direct/P5331'), ('name', 'OCLC work ID')]\n",
                        "[('property', 'http://www.wikidata.org/prop/direct/P571'), ('name', 'inception')]\n",
                        "[('property', 'http://www.wikidata.org/prop/direct/P577'), ('name', 'publication date')]\n",
                        "[('property', 'http://www.wikidata.org/prop/direct/P6216'), ('name', 'copyright status')]\n",
                        "[('property', 'http://www.wikidata.org/prop/direct/P646'), ('name', 'Freebase ID')]\n",
                        "[('property', 'http://www.wikidata.org/prop/direct/P648'), ('name', 'Open Library ID')]\n",
                        "[('property', 'http://www.wikidata.org/prop/direct/P655'), ('name', 'translator')]\n",
                        "[('property', 'http://www.wikidata.org/prop/direct/P674'), ('name', 'characters')]\n",
                        "[('property', 'http://www.wikidata.org/prop/direct/P724'), ('name', 'Internet Archive ID')]\n",
                        "[('property', 'http://www.wikidata.org/prop/direct/P7293'), ('name', 'PLWABN ID')]\n",
                        "[('property', 'http://www.wikidata.org/prop/direct/P737'), ('name', 'influenced by')]\n",
                        "[('property', 'http://www.wikidata.org/prop/direct/P747'), ('name', 'has edition or translation')]\n",
                        "[('property', 'http://www.wikidata.org/prop/direct/P7699'), ('name', 'National Library of Lithuania ID')]\n",
                        "[('property', 'http://www.wikidata.org/prop/direct/P793'), ('name', 'significant event')]\n",
                        "[('property', 'http://www.wikidata.org/prop/direct/P7937'), ('name', 'form of creative work')]\n",
                        "[('property', 'http://www.wikidata.org/prop/direct/P8189'), ('name', 'National Library of Israel J9U ID')]\n",
                        "[('property', 'http://www.wikidata.org/prop/direct/P825'), ('name', 'dedicated to')]\n",
                        "[('property', 'http://www.wikidata.org/prop/direct/P8383'), ('name', 'Goodreads work ID')]\n",
                        "[('property', 'http://www.wikidata.org/prop/direct/P840'), ('name', 'narrative location')]\n",
                        "[('property', 'http://www.wikidata.org/prop/direct/P856'), ('name', 'official website')]\n",
                        "[('property', 'http://www.wikidata.org/prop/direct/P921'), ('name', 'main subject')]\n",
                        "[('property', 'http://www.wikidata.org/prop/direct/P9365'), ('name', 'Modernist Commons ID')]\n",
                        "[('property', 'http://www.wikidata.org/prop/direct/P941'), ('name', 'inspired by')]\n",
                        "[('property', 'http://www.wikidata.org/prop/direct/P949'), ('name', 'National Library of Israel ID')]\n",
                        "[('property', 'http://www.wikidata.org/prop/direct/P950'), ('name', 'Biblioteca Nacional de Espa\u00f1a ID')]\n",
                        "[('property', 'http://www.wikidata.org/prop/direct/P989'), ('name', 'spoken text audio')]\n",
                        "[('property', 'http://www.wikidata.org/prop/direct/P996'), ('name', 'document file on Wikimedia Commons')]\n",
                        "[('property', 'http://www.wikidata.org/prop/direct/P3132'), ('name', 'last line')]\n",
                        "[('property', 'http://www.wikidata.org/prop/direct/P1191'), ('name', 'date of first performance')]\n",
                        "[('property', 'http://www.wikidata.org/prop/direct/P1680'), ('name', 'subtitle')]\n",
                        "[('property', 'http://www.wikidata.org/prop/direct/P212'), ('name', 'ISBN-13')]\n",
                        "[('property', 'http://www.wikidata.org/prop/direct/P2408'), ('name', 'set in period')]\n",
                        "[('property', 'http://www.wikidata.org/prop/direct/P3959'), ('name', 'NNL item ID')]\n",
                        "[('property', 'http://www.wikidata.org/prop/direct/P6175'), ('name', 'Bitraga work ID')]\n",
                        "[('property', 'http://www.wikidata.org/prop/direct/P629'), ('name', 'edition or translation of')]\n",
                        "[('property', 'http://www.wikidata.org/prop/direct/P7439'), ('name', 'FantLab work ID')]\n",
                        "[('property', 'http://www.wikidata.org/prop/direct/P957'), ('name', 'ISBN-10')]\n",
                        "[('property', 'http://www.wikidata.org/prop/direct/P2034'), ('name', 'Project Gutenberg ebook ID')]\n",
                        "[('property', 'http://www.wikidata.org/prop/direct/P2969'), ('name', 'Goodreads version/edition ID')]\n",
                        "[('property', 'http://www.wikidata.org/prop/direct/P8294'), ('name', 'AusStage work ID')]\n",
                        "[('property', 'http://www.wikidata.org/prop/direct/P3732'), ('name', 'PhilPapers record')]\n",
                        "[('property', 'http://www.wikidata.org/prop/direct/P1104'), ('name', 'number of pages')]\n",
                        "[('property', 'http://www.wikidata.org/prop/direct/P135'), ('name', 'movement')]\n",
                        "[('property', 'http://www.wikidata.org/prop/direct/P138'), ('name', 'named after')]\n",
                        "[('property', 'http://www.wikidata.org/prop/direct/P1705'), ('name', 'native label')]\n",
                        "[('property', 'http://www.wikidata.org/prop/direct/P1890'), ('name', 'CCAB ID')]\n",
                        "[('property', 'http://www.wikidata.org/prop/direct/P349'), ('name', 'National Diet Library ID')]\n",
                        "[('property', 'http://www.wikidata.org/prop/direct/P4839'), ('name', 'Wolfram Language entity code')]\n",
                        "[('property', 'http://www.wikidata.org/prop/direct/P5587'), ('name', 'Libris-URI')]\n",
                        "[('property', 'http://www.wikidata.org/prop/direct/P6839'), ('name', 'TV Tropes identifier')]\n",
                        "[('property', 'http://www.wikidata.org/prop/direct/P691'), ('name', 'NKCR AUT ID')]\n",
                        "[('property', 'http://www.wikidata.org/prop/direct/P7369'), ('name', 'National Library of Chile ID')]\n",
                        "[('property', 'http://www.wikidata.org/prop/direct/P910'), ('name', \"topic's main category\")]\n",
                        "[('property', 'http://www.wikidata.org/prop/direct/P1433'), ('name', 'published in')]\n",
                        "[('property', 'http://www.wikidata.org/prop/direct/P1274'), ('name', 'ISFDB title ID')]\n",
                        "[('property', 'http://www.wikidata.org/prop/direct/P5571'), ('name', 'NooSFere book ID')]\n",
                        "[('property', 'http://www.wikidata.org/prop/direct/P736'), ('name', 'cover art by')]\n",
                        "[('property', 'http://www.wikidata.org/prop/direct/P8359'), ('name', 'Dewey Decimal Classification (works and editions)')]\n",
                        "[('property', 'http://www.wikidata.org/prop/direct/P1182'), ('name', 'LIBRIS editions')]\n",
                        "[('property', 'http://www.wikidata.org/prop/direct/P2670'), ('name', 'has parts of the class')]\n",
                        "[('property', 'http://www.wikidata.org/prop/direct/P2191'), ('name', 'Vegetti Catalog of Fantastic Literature NILF ID')]\n",
                        "[('property', 'http://www.wikidata.org/prop/direct/P443'), ('name', 'pronunciation audio')]\n",
                        "[('property', 'http://www.wikidata.org/prop/direct/P9092'), ('name', 'Art in the Christian Tradition ID')]\n",
                        "[('property', 'http://www.wikidata.org/prop/direct/P1242'), ('name', 'Theatricalia play ID')]\n",
                        "[('property', 'http://www.wikidata.org/prop/direct/P1219'), ('name', 'Internet Broadway Database show ID')]\n",
                        "[('property', 'http://www.wikidata.org/prop/direct/P1235'), ('name', 'ISFDB series ID')]\n",
                        "[('property', 'http://www.wikidata.org/prop/direct/P2048'), ('name', 'height')]\n",
                        "[('property', 'http://www.wikidata.org/prop/direct/P2049'), ('name', 'width')]\n",
                        "[('property', 'http://www.wikidata.org/prop/direct/P2284'), ('name', 'price')]\n",
                        "[('property', 'http://www.wikidata.org/prop/direct/P528'), ('name', 'catalog code')]\n",
                        "[('property', 'http://www.wikidata.org/prop/direct/P972'), ('name', 'catalog')]\n",
                        "[('property', 'http://www.wikidata.org/prop/direct/P973'), ('name', 'described at URL')]\n",
                        "[('property', 'http://www.wikidata.org/prop/direct/P8332'), ('name', 'Dansk litteraturs historie ID')]\n",
                        "[('property', 'http://www.wikidata.org/prop/direct/P6679'), ('name', 'Encyklopedia Teatru Polskiego play ID')]\n",
                        "[('property', 'http://www.wikidata.org/prop/direct/P2438'), ('name', 'narrator')]\n",
                        "[('property', 'http://www.wikidata.org/prop/direct/P6166'), ('name', 'quotes work')]\n",
                        "[('property', 'http://www.wikidata.org/prop/direct/P110'), ('name', 'illustrator')]\n",
                        "[('property', 'http://www.wikidata.org/prop/direct/P154'), ('name', 'logo image')]\n",
                        "[('property', 'http://www.wikidata.org/prop/direct/P1580'), ('name', 'University of Barcelona authority ID')]\n",
                        "[('property', 'http://www.wikidata.org/prop/direct/P170'), ('name', 'creator')]\n",
                        "[('property', 'http://www.wikidata.org/prop/direct/P179'), ('name', 'part of the series')]\n",
                        "[('property', 'http://www.wikidata.org/prop/direct/P2283'), ('name', 'uses')]\n",
                        "[('property', 'http://www.wikidata.org/prop/direct/P3222'), ('name', 'NE.se ID')]\n",
                        "[('property', 'http://www.wikidata.org/prop/direct/P3847'), ('name', 'Open Library subject ID')]\n",
                        "[('property', 'http://www.wikidata.org/prop/direct/P4619'), ('name', 'National Library of Brazil ID')]\n",
                        "[('property', 'http://www.wikidata.org/prop/direct/P6706'), ('name', 'De Agostini ID')]\n",
                        "[('property', 'http://www.wikidata.org/prop/direct/P7818'), ('name', 'French Vikidia ID')]\n",
                        "[('property', 'http://www.wikidata.org/prop/direct/P7823'), ('name', 'BookBrainz work ID')]\n",
                        "[('property', 'http://www.wikidata.org/prop/direct/P7859'), ('name', 'WorldCat Identities ID')]\n",
                        "[('property', 'http://www.wikidata.org/prop/direct/P8179'), ('name', 'Canadiana NCF ID')]\n",
                        "[('property', 'http://www.wikidata.org/prop/direct/P8248'), ('name', 'Colon Classification')]\n",
                        "[('property', 'http://www.wikidata.org/prop/direct/P8411'), ('name', 'set in environment')]\n",
                        "[('property', 'http://www.wikidata.org/prop/direct/P86'), ('name', 'composer')]\n",
                        "[('property', 'http://www.wikidata.org/prop/direct/P898'), ('name', 'IPA transcription')]\n",
                        "[('property', 'http://www.wikidata.org/prop/direct/P675'), ('name', 'Google Books ID')]\n",
                        "[('property', 'http://www.wikidata.org/prop/direct/P8632'), ('name', 'Book Marks ID')]\n",
                        "[('property', 'http://www.wikidata.org/prop/direct/P87'), ('name', 'librettist')]\n",
                        "[('property', 'http://www.wikidata.org/prop/direct/P1823'), ('name', 'BAnQ work ID')]\n",
                        "[('property', 'http://www.wikidata.org/prop/direct/P9504'), ('name', \"Beirut Arab University's Libraries title ID\")]\n",
                        "[('property', 'http://www.wikidata.org/prop/direct/P304'), ('name', 'page(s)')]\n",
                        "[('property', 'http://www.wikidata.org/prop/direct/P1292'), ('name', 'DNB editions')]\n",
                        "[('property', 'http://www.wikidata.org/prop/direct/P1424'), ('name', \"topic's main template\")]\n",
                        "[('property', 'http://www.wikidata.org/prop/direct/P17'), ('name', 'country')]\n",
                        "[('property', 'http://www.wikidata.org/prop/direct/P1957'), ('name', 'Wikisource index page URL')]\n",
                        "[('property', 'http://www.wikidata.org/prop/direct/P2079'), ('name', 'fabrication method')]\n",
                        "[('property', 'http://www.wikidata.org/prop/direct/P2163'), ('name', 'FAST ID')]\n",
                        "[('property', 'http://www.wikidata.org/prop/direct/P2581'), ('name', 'BabelNet ID')]\n",
                        "[('property', 'http://www.wikidata.org/prop/direct/P364'), ('name', 'original language of film or TV show')]\n",
                        "[('property', 'http://www.wikidata.org/prop/direct/P5390'), ('name', 'Classiques des sciences sociales ID')]\n",
                        "[('property', 'http://www.wikidata.org/prop/direct/P906'), ('name', 'SELIBR ID')]\n",
                        "[('property', 'http://www.wikidata.org/prop/direct/P4647'), ('name', 'location of first performance')]\n",
                        "[('property', 'http://www.wikidata.org/prop/direct/P8360'), ('name', 'Library of Congress Classification (works and editions)')]\n",
                        "[('property', 'http://www.wikidata.org/prop/direct/P2679'), ('name', 'author of foreword')]\n",
                        "[('property', 'http://www.wikidata.org/prop/direct/P8211'), ('name', 'Bookogs work ID')]\n",
                        "[('property', 'http://www.wikidata.org/prop/direct/P1343'), ('name', 'described by source')]\n",
                        "[('property', 'http://www.wikidata.org/prop/direct/P1814'), ('name', 'name in kana')]\n",
                        "[('property', 'http://www.wikidata.org/prop/direct/P3365'), ('name', 'Treccani ID')]\n",
                        "[('property', 'http://www.wikidata.org/prop/direct/P3569'), ('name', 'Cultureel Woordenboek ID')]\n",
                        "[('property', 'http://www.wikidata.org/prop/direct/P361'), ('name', 'part of')]\n",
                        "[('property', 'http://www.wikidata.org/prop/direct/P436'), ('name', 'MusicBrainz release group ID')]\n",
                        "[('property', 'http://www.wikidata.org/prop/direct/P5008'), ('name', 'on focus list of Wikimedia project')]\n",
                        "[('property', 'http://www.wikidata.org/prop/direct/P6104'), ('name', 'maintained by WikiProject')]\n",
                        "[('property', 'http://www.wikidata.org/prop/direct/P948'), ('name', 'page banner')]\n",
                        "[('property', 'http://www.wikidata.org/prop/direct/P953'), ('name', 'full work available at URL')]\n",
                        "[('property', 'http://www.wikidata.org/prop/direct/P5123'), ('name', 'Swedish Literature Bank edition')]\n",
                        "[('property', 'http://www.wikidata.org/prop/direct/P2187'), ('name', 'BiblioNet publication ID')]\n",
                        "[('property', 'http://www.wikidata.org/prop/direct/P1411'), ('name', 'nominated for')]\n",
                        "[('property', 'http://www.wikidata.org/prop/direct/P1695'), ('name', 'NLP ID (unique)')]\n",
                        "[('property', 'http://www.wikidata.org/prop/direct/P2291'), ('name', 'charted in')]\n",
                        "[('property', 'http://www.wikidata.org/prop/direct/P7956'), ('name', 'SESAC work number')]\n",
                        "[('property', 'http://www.wikidata.org/prop/direct/P1552'), ('name', 'has quality')]\n",
                        "[('property', 'http://www.wikidata.org/prop/direct/P162'), ('name', 'producer')]\n",
                        "[('property', 'http://www.wikidata.org/prop/direct/P1651'), ('name', 'YouTube video ID')]\n",
                        "[('property', 'http://www.wikidata.org/prop/direct/P1729'), ('name', 'AllMusic album ID')]\n",
                        "[('property', 'http://www.wikidata.org/prop/direct/P175'), ('name', 'performer')]\n",
                        "[('property', 'http://www.wikidata.org/prop/direct/P1827'), ('name', 'ISWC')]\n",
                        "[('property', 'http://www.wikidata.org/prop/direct/P1881'), ('name', 'list of characters')]\n",
                        "[('property', 'http://www.wikidata.org/prop/direct/P1954'), ('name', 'Discogs master ID')]\n",
                        "[('property', 'http://www.wikidata.org/prop/direct/P2047'), ('name', 'duration')]\n",
                        "[('property', 'http://www.wikidata.org/prop/direct/P264'), ('name', 'record label')]\n",
                        "[('property', 'http://www.wikidata.org/prop/direct/P437'), ('name', 'distribution format')]\n",
                        "[('property', 'http://www.wikidata.org/prop/direct/P444'), ('name', 'review score')]\n",
                        "[('property', 'http://www.wikidata.org/prop/direct/P5229'), ('name', 'Carnegie Hall work ID')]\n",
                        "[('property', 'http://www.wikidata.org/prop/direct/P5749'), ('name', 'Amazon Standard Identification Number')]\n",
                        "[('property', 'http://www.wikidata.org/prop/direct/P6573'), ('name', 'Klexikon article ID')]\n",
                        "[('property', 'http://www.wikidata.org/prop/direct/P676'), ('name', 'lyrics by')]\n",
                        "[('property', 'http://www.wikidata.org/prop/direct/P826'), ('name', 'tonality')]\n",
                        "[('property', 'http://www.wikidata.org/prop/direct/P935'), ('name', 'Commons gallery')]\n",
                        "[('property', 'http://www.wikidata.org/prop/direct/P1994'), ('name', 'AllMusic composition ID')]\n",
                        "[('property', 'http://www.wikidata.org/prop/direct/P2205'), ('name', 'Spotify album ID')]\n",
                        "[('property', 'http://www.wikidata.org/prop/direct/P2908'), ('name', 'SecondHandSongs work ID')]\n",
                        "[('property', 'http://www.wikidata.org/prop/direct/P658'), ('name', 'tracklist')]\n",
                        "[('property', 'http://www.wikidata.org/prop/direct/P1815'), ('name', 'RSL scanned books identifier')]\n",
                        "[('property', 'http://www.wikidata.org/prop/direct/P9089'), ('name', 'Songlexikon ID')]\n",
                        "[('property', 'http://www.wikidata.org/prop/direct/P2437'), ('name', 'number of seasons')]\n",
                        "[('property', 'http://www.wikidata.org/prop/direct/P449'), ('name', 'original broadcaster')]\n",
                        "[('property', 'http://www.wikidata.org/prop/direct/P580'), ('name', 'start time')]\n",
                        "[('property', 'http://www.wikidata.org/prop/direct/P582'), ('name', 'end time')]\n",
                        "[('property', 'http://www.wikidata.org/prop/direct/P2002'), ('name', 'Twitter username')]\n",
                        "[('property', 'http://www.wikidata.org/prop/direct/P8687'), ('name', 'social media followers')]\n",
                        "[('property', 'http://www.wikidata.org/prop/direct/P8885'), ('name', 'Namuwiki ID')]\n",
                        "[('property', 'http://www.wikidata.org/prop/direct/P478'), ('name', 'volume')]\n",
                        "[('property', 'http://www.wikidata.org/prop/direct/P433'), ('name', 'issue')]\n",
                        "[('property', 'http://www.wikidata.org/prop/direct/P1617'), ('name', 'BBC Things ID')]\n",
                        "[('property', 'http://www.wikidata.org/prop/direct/P58'), ('name', 'screenwriter')]\n",
                        "[('property', 'http://www.wikidata.org/prop/direct/P7609'), ('name', 'SHARE Catalogue work ID')]\n",
                        "[('property', 'http://www.wikidata.org/prop/direct/P1040'), ('name', 'film editor')]\n",
                        "[('property', 'http://www.wikidata.org/prop/direct/P1258'), ('name', 'Rotten Tomatoes ID')]\n",
                        "[('property', 'http://www.wikidata.org/prop/direct/P1265'), ('name', 'AlloCin\u00e9 film ID')]\n",
                        "[('property', 'http://www.wikidata.org/prop/direct/P1562'), ('name', 'AllMovie title ID')]\n",
                        "[('property', 'http://www.wikidata.org/prop/direct/P161'), ('name', 'cast member')]\n",
                        "[('property', 'http://www.wikidata.org/prop/direct/P1804'), ('name', 'DNF film ID')]\n",
                        "[('property', 'http://www.wikidata.org/prop/direct/P1874'), ('name', 'Netflix ID')]\n",
                        "[('property', 'http://www.wikidata.org/prop/direct/P1970'), ('name', 'MovieMeter film ID')]\n",
                        "[('property', 'http://www.wikidata.org/prop/direct/P2334'), ('name', 'Swedish Film Database film ID')]\n",
                        "[('property', 'http://www.wikidata.org/prop/direct/P2515'), ('name', 'costume designer')]\n",
                        "[('property', 'http://www.wikidata.org/prop/direct/P2529'), ('name', '\u010cSFD film ID')]\n",
                        "[('property', 'http://www.wikidata.org/prop/direct/P2603'), ('name', 'Kinopoisk film ID')]\n",
                        "[('property', 'http://www.wikidata.org/prop/direct/P2631'), ('name', 'TCM Movie Database film ID')]\n",
                        "[('property', 'http://www.wikidata.org/prop/direct/P2638'), ('name', 'TV.com ID')]\n",
                        "[('property', 'http://www.wikidata.org/prop/direct/P2704'), ('name', 'EIDR content ID')]\n",
                        "[('property', 'http://www.wikidata.org/prop/direct/P272'), ('name', 'production company')]\n",
                        "[('property', 'http://www.wikidata.org/prop/direct/P3129'), ('name', 'cine.gr film ID')]\n",
                        "[('property', 'http://www.wikidata.org/prop/direct/P3138'), ('name', 'OFDb film ID')]\n",
                        "[('property', 'http://www.wikidata.org/prop/direct/P3143'), ('name', 'elFilm film ID')]\n",
                        "[('property', 'http://www.wikidata.org/prop/direct/P344'), ('name', 'director of photography')]\n",
                        "[('property', 'http://www.wikidata.org/prop/direct/P345'), ('name', 'IMDb ID')]\n",
                        "[('property', 'http://www.wikidata.org/prop/direct/P3593'), ('name', 'AFI Catalog of Feature Films ID')]\n",
                        "[('property', 'http://www.wikidata.org/prop/direct/P3933'), ('name', 'Cinema.de ID')]\n",
                        "[('property', 'http://www.wikidata.org/prop/direct/P4276'), ('name', 'Cin\u00e9math\u00e8que qu\u00e9b\u00e9coise work identifier')]\n",
                        "[('property', 'http://www.wikidata.org/prop/direct/P4529'), ('name', 'Douban film ID')]\n",
                        "[('property', 'http://www.wikidata.org/prop/direct/P460'), ('name', 'said to be the same as')]\n",
                        "[('property', 'http://www.wikidata.org/prop/direct/P462'), ('name', 'color')]\n",
                        "[('property', 'http://www.wikidata.org/prop/direct/P4786'), ('name', 'cinematografo film ID')]\n",
                        "[('property', 'http://www.wikidata.org/prop/direct/P480'), ('name', 'FilmAffinity ID')]\n",
                        "[('property', 'http://www.wikidata.org/prop/direct/P4947'), ('name', 'TMDb movie ID')]\n",
                        "[('property', 'http://www.wikidata.org/prop/direct/P5032'), ('name', 'Filmweb.pl film ID')]\n",
                        "[('property', 'http://www.wikidata.org/prop/direct/P57'), ('name', 'director')]\n",
                        "[('property', 'http://www.wikidata.org/prop/direct/P6127'), ('name', 'Letterboxd film ID')]\n",
                        "[('property', 'http://www.wikidata.org/prop/direct/P6145'), ('name', 'Academy Awards Database film ID')]\n",
                        "[('property', 'http://www.wikidata.org/prop/direct/P750'), ('name', 'distributed by')]\n",
                        "[('property', 'http://www.wikidata.org/prop/direct/P8033'), ('name', 'Movie Review Query Engine ID')]\n",
                        "[('property', 'http://www.wikidata.org/prop/direct/P9545'), ('name', 'Encyclopedia of China Online Database ID')]\n",
                        "[('property', 'http://www.wikidata.org/prop/direct/P2554'), ('name', 'production designer')]\n",
                        "[('property', 'http://www.wikidata.org/prop/direct/P1025'), ('name', 'SUDOC editions')]\n",
                        "[('property', 'http://www.wikidata.org/prop/direct/P7207'), ('name', 'Moly.hu book ID')]\n",
                        "[('property', 'http://www.wikidata.org/prop/direct/P9322'), ('name', 'SVKKL authority ID')]\n",
                        "[('property', 'http://www.wikidata.org/prop/direct/P1670'), ('name', 'Canadiana Authorities ID (former scheme)')]\n",
                        "[('property', 'http://www.wikidata.org/prop/direct/P2465'), ('name', 'Allcinema film ID')]\n",
                        "[('property', 'http://www.wikidata.org/prop/direct/P1071'), ('name', 'location of creation')]\n",
                        "[('property', 'http://www.wikidata.org/prop/direct/P1739'), ('name', 'CiNii book ID')]\n",
                        "[('property', 'http://www.wikidata.org/prop/direct/P6721'), ('name', 'K10plus PPN ID')]\n",
                        "[('property', 'http://www.wikidata.org/prop/direct/P98'), ('name', 'editor')]\n",
                        "[('property', 'http://www.wikidata.org/prop/direct/P6323'), ('name', 'Centre Pompidou ID')]\n",
                        "[('property', 'http://www.wikidata.org/prop/direct/P195'), ('name', 'collection')]\n",
                        "[('property', 'http://www.wikidata.org/prop/direct/P217'), ('name', 'inventory number')]\n",
                        "[('property', 'http://www.wikidata.org/prop/direct/P2888'), ('name', 'exact match')]\n",
                        "[('property', 'http://www.wikidata.org/prop/direct/P6355'), ('name', 'MNAM artwork ID')]\n",
                        "[('property', 'http://www.wikidata.org/prop/direct/P1144'), ('name', 'Library of Congress Control Number (LCCN) (bibliographic)')]\n",
                        "[('property', 'http://www.wikidata.org/prop/direct/P1296'), ('name', 'Gran Enciclop\u00e8dia Catalana ID')]\n"
                    ]
                },
                {
                    "data": {
                        "text/plain": [
                            "264"
                        ]
                    },
                    "execution_count": 54,
                    "metadata": {},
                    "output_type": "execute_result"
                }
            ],
            "source": [
                "q = f\"\"\"\n",
                "select distinct ?property ?name where{{\n",
                "?author wdt:P106/wdt:P279* wd:Q36180 ;\n",
                "    wdt:P166 wd:Q37922 ;\n",
                "    wdt:P800 ?book .\n",
                "    \n",
                "?book ?property ?value .\n",
                "?property <http://schema.org/name> ?name .\n",
                "\n",
                "}}\n",
                "\"\"\"\n",
                "run_query(q)"
            ]
        },
        {
            "cell_type": "code",
            "execution_count": 55,
            "id": "9e545685-25e5-4dad-8fb8-0614e2bcda17",
            "metadata": {},
            "outputs": [
                {
                    "name": "stdout",
                    "output_type": "stream",
                    "text": [
                        "[('property', 'http://www.wikidata.org/prop/direct/P1017'), ('name', 'Vatican Library ID (former scheme)')]\n",
                        "[('property', 'http://www.wikidata.org/prop/direct/P8034'), ('name', 'Vatican Library VcBA ID')]\n"
                    ]
                },
                {
                    "data": {
                        "text/plain": [
                            "2"
                        ]
                    },
                    "execution_count": 55,
                    "metadata": {},
                    "output_type": "execute_result"
                }
            ],
            "source": [
                "#this idea didn't seem bad. there are many IDs related to different collections, but not a single property for a vatican library id\n",
                "#let's try and see if the laureates instead have some property like that\n",
                "q = f\"\"\"\n",
                "select distinct ?property ?name where{{\n",
                "?author wdt:P106/wdt:P279* wd:Q36180 ;\n",
                "    wdt:P166 wd:Q37922 ;\n",
                "    ?property ?value .\n",
                "    \n",
                "?property <http://schema.org/name> ?name .\n",
                "\n",
                "filter regex(?name, '.*vatican.*', 'i')\n",
                "\n",
                "}}\n",
                "\"\"\"\n",
                "run_query(q)"
            ]
        },
        {
            "cell_type": "code",
            "execution_count": 56,
            "id": "8f46205d-a2e1-4613-932b-9db1da40f5a7",
            "metadata": {},
            "outputs": [
                {
                    "name": "stdout",
                    "output_type": "stream",
                    "text": [
                        "[('author', 'http://www.wikidata.org/entity/Q7176'), ('name', 'Najib Mahfouz'), ('n', '24')]\n",
                        "[('author', 'http://www.wikidata.org/entity/Q72334'), ('name', 'Toni Morrison'), ('n', '11')]\n",
                        "[('author', 'http://www.wikidata.org/entity/Q254032'), ('name', 'Olga Tokarczuk'), ('n', '10')]\n",
                        "[('author', 'http://www.wikidata.org/entity/Q392'), ('name', 'Bob Dylan'), ('n', '7')]\n",
                        "[('author', 'http://www.wikidata.org/entity/Q241248'), ('name', 'Orhan Pamuk'), ('n', '7')]\n",
                        "[('author', 'http://www.wikidata.org/entity/Q133042'), ('name', 'Shmuel Yosef Agnon'), ('n', '7')]\n",
                        "[('author', 'http://www.wikidata.org/entity/Q47619'), ('name', 'Nadine Gordimer'), ('n', '6')]\n",
                        "[('author', 'http://www.wikidata.org/entity/Q40874'), ('name', 'Doris Lessing'), ('n', '6')]\n",
                        "[('author', 'http://www.wikidata.org/entity/Q44107'), ('name', 'Peter Handke'), ('n', '6')]\n",
                        "[('author', 'http://www.wikidata.org/entity/Q43736'), ('name', 'Yasunari Kawabata'), ('n', '6')]\n"
                    ]
                },
                {
                    "data": {
                        "text/plain": [
                            "10"
                        ]
                    },
                    "execution_count": 56,
                    "metadata": {},
                    "output_type": "execute_result"
                }
            ],
            "source": [
                "#we have some authors with a vatican library id.\n",
                "#since we're missing (or we can't find) connections to the vatican library for the single books, to answer question 5 we will simply\n",
                "#count how many books each author has, when an author is not related to the vatican library\n",
                "\n",
                "vaticanLibraryId = 'wdt:P1017'\n",
                "vaticanLibraryVcba = 'wdt:P8034'\n",
                "\n",
                "#retrieve authors without any association to the vatican library\n",
                "q1 = f\"\"\"\n",
                "select distinct ?author where {{\n",
                "?author wdt:P106/wdt:P279* wd:Q36180 ;\n",
                "    wdt:P166 wd:Q37922 .\n",
                "    \n",
                "    filter not exists {{\n",
                "        ?author wdt:P1017 | wdt:P8034 ?id\n",
                "    }}  \n",
                "}}\n",
                "\"\"\"\n",
                "\n",
                "q = f\"\"\"\n",
                "select ?author ?name (count(?book) as ?n) where{{\n",
                "    ?author wdt:P800 ?book ;\n",
                "        <http://schema.org/name> ?name .\n",
                "        \n",
                "    {{\n",
                "        select distinct ?author where {{\n\n?author wdt:P106/wdt:P279* wd:Q36180 ;\n\n    wdt:P166 wd:Q37922 .\n\n    \n\n    filter not exists {{\n\n        ?author wdt:P1017 | wdt:P8034 ?id\n\n    }}  \n\n}}\n\n\n\n",
                "    }}\n",
                "}}\n",
                "group by ?author ?name\n",
                "order by desc(?n)\n",
                "limit 10\n",
                "\"\"\"\n",
                "run_query(q)"
            ]
        },
        {
            "cell_type": "code",
            "execution_count": 58,
            "id": "86bcea3d-85d0-47f9-b7d9-d66f526bf050",
            "metadata": {},
            "outputs": [
                {
                    "name": "stdout",
                    "output_type": "stream",
                    "text": [
                        "[('collection', 'http://www.wikidata.org/entity/Q1895953'), ('name', 'National museum of modern art')]\n"
                    ]
                },
                {
                    "data": {
                        "text/plain": [
                            "1"
                        ]
                    },
                    "execution_count": 58,
                    "metadata": {},
                    "output_type": "execute_result"
                }
            ],
            "source": [
                "#coming back to the properties exiting a book, there is a \"collection\" property which has my interest\n",
                "collection = 'wdt:P195'\n",
                "q = f\"\"\"\n",
                "select distinct ?collection ?name where{{\n",
                "?author wdt:P106/wdt:P279* wd:Q36180 ;\n",
                "    wdt:P166 wd:Q37922 ;\n",
                "    wdt:P800 ?book .\n",
                "    \n",
                "?book wdt:P195 ?collection .\n",
                "?collection <http://schema.org/name> ?name .\n",
                "\n",
                "}}\n",
                "\"\"\"\n",
                "run_query(q)"
            ]
        },
        {
            "cell_type": "code",
            "execution_count": 59,
            "id": "6c8fa77e-1113-4e4d-b276-f646bb55cd70",
            "metadata": {},
            "outputs": [
                {
                    "name": "stdout",
                    "output_type": "stream",
                    "text": [
                        "Empty\n"
                    ]
                },
                {
                    "data": {
                        "text/plain": [
                            "0"
                        ]
                    },
                    "execution_count": 59,
                    "metadata": {},
                    "output_type": "execute_result"
                }
            ],
            "source": [
                "#let's attempt the inverse, connect the vatican library to a book\n",
                "q = f\"\"\"\n",
                "select distinct ?property1 ?name1 where{{\n",
                "?author wdt:P106/wdt:P279* wd:Q36180 ;\n",
                "    wdt:P166 wd:Q37922 ;\n",
                "    wdt:P800 ?book .\n",
                "    \n",
                "wd:Q213678 ?property1 ?book .\n",
                "?property1 <http://schema.org/name> ?name1 .\n",
                "\n",
                "}}\n",
                "\"\"\"\n",
                "run_query(q)"
            ]
        },
        {
            "cell_type": "code",
            "execution_count": 60,
            "id": "18b9c58a-0515-45c0-b6ac-7de478e6ef73",
            "metadata": {},
            "outputs": [
                {
                    "name": "stdout",
                    "output_type": "stream",
                    "text": [
                        "Empty\n"
                    ]
                },
                {
                    "data": {
                        "text/plain": [
                            "0"
                        ]
                    },
                    "execution_count": 60,
                    "metadata": {},
                    "output_type": "execute_result"
                }
            ],
            "source": [
                "q = f\"\"\"\n",
                "select distinct ?property1 ?name1 ?property2 ?name2 where{{\n",
                "?author wdt:P106/wdt:P279* wd:Q36180 ;\n",
                "    wdt:P166 wd:Q37922 ;\n",
                "    wdt:P800 ?book .\n",
                "    \n",
                "wd:Q213678 ?property1 ?middle .\n",
                "?middle ?property2 ?book .\n",
                "?property1 <http://schema.org/name> ?name1 .\n",
                "?property2 <http://schema.org/name> ?name2 .\n",
                "\n",
                "}}\n",
                "\"\"\"\n",
                "run_query(q)"
            ]
        },
        {
            "cell_type": "code",
            "execution_count": 61,
            "id": "dacdd754-65c6-476b-b881-6bb465ac73ec",
            "metadata": {},
            "outputs": [
                {
                    "name": "stdout",
                    "output_type": "stream",
                    "text": [
                        "Empty\n"
                    ]
                },
                {
                    "data": {
                        "text/plain": [
                            "0"
                        ]
                    },
                    "execution_count": 61,
                    "metadata": {},
                    "output_type": "execute_result"
                }
            ],
            "source": [
                "q = f\"\"\"\n",
                "select distinct ?property1 ?name1 ?property2 ?name2 ?property3 ?name3 where{{\n",
                "?author wdt:P106/wdt:P279* wd:Q36180 ;\n",
                "    wdt:P166 wd:Q37922 ;\n",
                "    wdt:P800 ?book .\n",
                "    \n",
                "wd:Q213678 ?property1 ?middle1 .\n",
                "?middle1 ?property2 ?middle2 .\n",
                "?middle2 ?property3 ?book .\n",
                "?property1 <http://schema.org/name> ?name1 .\n",
                "?property2 <http://schema.org/name> ?name2 .\n",
                "?property3 <http://schema.org/name> ?name3 .\n",
                "\n",
                "}}\n",
                "\"\"\"\n",
                "run_query(q)"
            ]
        },
        {
            "cell_type": "code",
            "execution_count": 62,
            "id": "fbfcd534-07f0-455e-9422-b7fbf2f2e340",
            "metadata": {},
            "outputs": [
                {
                    "name": "stdout",
                    "output_type": "stream",
                    "text": [
                        "[('book', 'http://www.wikidata.org/entity/Q55831099'), ('name', 'Codex vaticanus latinus 3199'), ('property', 'http://www.wikidata.org/prop/direct/P195'), ('propertyName', 'collection')]\n",
                        "[('book', 'http://www.wikidata.org/entity/Q1106341'), ('name', 'Codex Vaticanus Graecus 64'), ('property', 'http://www.wikidata.org/prop/direct/P195'), ('propertyName', 'collection')]\n",
                        "[('book', 'http://www.wikidata.org/entity/Q1106357'), ('name', 'Codex Vaticanus 2061'), ('property', 'http://www.wikidata.org/prop/direct/P195'), ('propertyName', 'collection')]\n",
                        "[('book', 'http://www.wikidata.org/entity/Q209285'), ('name', 'Codex Vaticanus'), ('property', 'http://www.wikidata.org/prop/direct/P195'), ('propertyName', 'collection')]\n",
                        "[('book', 'http://www.wikidata.org/entity/Q5140259'), ('name', 'Codex Vaticanus Latinus 3868'), ('property', 'http://www.wikidata.org/prop/direct/P195'), ('propertyName', 'collection')]\n",
                        "[('book', 'http://www.wikidata.org/entity/Q1106358'), ('name', 'Codex Vaticanus 2066'), ('property', 'http://www.wikidata.org/prop/direct/P195'), ('propertyName', 'collection')]\n",
                        "[('book', 'http://www.wikidata.org/entity/Q774565'), ('name', 'Codex Vaticanus 354'), ('property', 'http://www.wikidata.org/prop/direct/P195'), ('propertyName', 'collection')]\n",
                        "[('book', 'http://www.wikidata.org/entity/Q55831099'), ('name', 'Codex vaticanus latinus 3199'), ('property', 'http://www.wikidata.org/prop/direct/P276'), ('propertyName', 'location')]\n",
                        "[('book', 'http://www.wikidata.org/entity/Q5140259'), ('name', 'Codex Vaticanus Latinus 3868'), ('property', 'http://www.wikidata.org/prop/direct/P276'), ('propertyName', 'location')]\n"
                    ]
                },
                {
                    "data": {
                        "text/plain": [
                            "9"
                        ]
                    },
                    "execution_count": 62,
                    "metadata": {},
                    "output_type": "execute_result"
                }
            ],
            "source": [
                "#i googled to find famous books stored in the vatican library, one of them is Codex Vaticanus\n",
                "#let's try and find its entity, if it exists\n",
                "\n",
                "#since we don't know the class for a book yet, nor we know if Codex Vaticanus has that class, we filter regex by its name, also connecting it already to the vatican library\n",
                "#we then look for the property that connects it to the vatican library\n",
                "\n",
                "q = f\"\"\"\n",
                "select distinct ?book ?name ?property ?propertyName where{{\n",
                "?book <http://schema.org/name> ?name ;\n",
                "    ?property wd:Q213678 .\n",
                "    \n",
                "?property <http://schema.org/name> ?propertyName .\n",
                "\n",
                "filter regex(?name, '.*codex.*vaticanus.*', 'i') .\n",
                "}}\n",
                "\"\"\"\n",
                "run_query(q)"
            ]
        },
        {
            "cell_type": "code",
            "execution_count": 63,
            "id": "01d91be8-98f5-4012-b4e2-ee53557b7f9d",
            "metadata": {},
            "outputs": [
                {
                    "name": "stdout",
                    "output_type": "stream",
                    "text": [
                        "Empty\n"
                    ]
                },
                {
                    "data": {
                        "text/plain": [
                            "0"
                        ]
                    },
                    "execution_count": 63,
                    "metadata": {},
                    "output_type": "execute_result"
                }
            ],
            "source": [
                "#now we are sure that either collection or location connect a book to the vatican library\n",
                "location = 'wdt:P276'\n",
                "\n",
                "#let's go back to the books of nobel laureates and see if they are located in the vatican library\n",
                "q = f\"\"\"\n",
                "select distinct ?author ?authorName ?book ?bookName where{{\n",
                "?author wdt:P106/wdt:P279* wd:Q36180 ;\n",
                "    wdt:P166 wd:Q37922 ;\n",
                "    <http://schema.org/name> ?authorName ;\n",
                "    wdt:P800 ?book .\n",
                "    \n",
                "?book wdt:P195 | wdt:P276 wd:Q213678;\n",
                "    <http://schema.org/name> ?bookName\n",
                "\n",
                "}}\n",
                "limit 20\n",
                "\"\"\"\n",
                "run_query(q)"
            ]
        },
        {
            "cell_type": "code",
            "execution_count": 64,
            "id": "37ee9d53-af55-4075-87ed-a4084350d89c",
            "metadata": {},
            "outputs": [
                {
                    "name": "stdout",
                    "output_type": "stream",
                    "text": [
                        "Empty\n"
                    ]
                },
                {
                    "data": {
                        "text/plain": [
                            "0"
                        ]
                    },
                    "execution_count": 64,
                    "metadata": {},
                    "output_type": "execute_result"
                }
            ],
            "source": [
                "#just to make sure, let's see if there are authors, not nobel laureates, with books stored in the vatican library\n",
                "q = f\"\"\"\n",
                "select distinct ?author ?authorName ?book ?bookName where{{\n",
                "?author wdt:P106/wdt:P279* wd:Q36180 ;\n",
                "    <http://schema.org/name> ?authorName ;\n",
                "    wdt:P800 ?book .\n",
                "    \n",
                "?book wdt:P195 | wdt:P276 wd:Q213678;\n",
                "    <http://schema.org/name> ?bookName\n",
                "\n",
                "}}\n",
                "limit 20\n",
                "\"\"\"\n",
                "run_query(q)"
            ]
        },
        {
            "cell_type": "code",
            "execution_count": 65,
            "id": "be65808d-34b8-47b4-b1a9-7068903f7eff",
            "metadata": {},
            "outputs": [
                {
                    "name": "stdout",
                    "output_type": "stream",
                    "text": [
                        "Empty\n"
                    ]
                },
                {
                    "data": {
                        "text/plain": [
                            "0"
                        ]
                    },
                    "execution_count": 65,
                    "metadata": {},
                    "output_type": "execute_result"
                }
            ],
            "source": [
                "q = f\"\"\"\n",
                "select distinct ?property ?propertyName ?book ?bookName where{{\n",
                "?author wdt:P106/wdt:P279* wd:Q36180 ;\n",
                "    <http://schema.org/name> ?authorName ;\n",
                "    wdt:P800 ?book .\n",
                "    \n",
                "?book ?property wd:Q213678;\n",
                "    <http://schema.org/name> ?bookName .\n",
                "    \n",
                "?property <http://schema.org/name> ?propertyName\n",
                "\n",
                "}}\n",
                "limit 20\n",
                "\"\"\"\n",
                "run_query(q)"
            ]
        },
        {
            "cell_type": "code",
            "execution_count": 66,
            "id": "701e768b-3ac5-4834-ac00-1febffd477a4",
            "metadata": {},
            "outputs": [
                {
                    "name": "stdout",
                    "output_type": "stream",
                    "text": [
                        "[('bookName', 'Bibbia di Federico da Montefeltro - BAV Urb.Lat.1&2')]\n",
                        "[('bookName', 'Codex Vaticanus')]\n",
                        "[('bookName', 'Lasimos Krater')]\n",
                        "[('bookName', 'Bodmer Papyri')]\n",
                        "[('bookName', 'Codex Vaticanus Graecus 64')]\n",
                        "[('bookName', 'Barberini Gospels')]\n",
                        "[('bookName', 'Divina Commedia de Federigo da Montefeltro - BAVaticana UrbLat365')]\n",
                        "[('bookName', 'Book of Dede Korkut')]\n",
                        "[('bookName', 'Rossiana Library')]\n",
                        "[('bookName', 'Vergilius Vaticanus')]\n",
                        "[('bookName', 'Minuscule 131')]\n",
                        "[('bookName', 'Anjou Legendarium')]\n",
                        "[('bookName', 'Codex Vaticanus 354')]\n",
                        "[('bookName', 'Codex Assemanius')]\n",
                        "[('bookName', 'Codex R\u00edos')]\n",
                        "[('bookName', 'Joshua Roll')]\n",
                        "[('bookName', 'breviary of  Matthias Corvin')]\n",
                        "[('bookName', 'Andrew, the Apostle')]\n",
                        "[('bookName', 'Apostolic Library Regina 1682')]\n",
                        "[('bookName', 'Apostolic Library Reg. 1323')]\n"
                    ]
                },
                {
                    "data": {
                        "text/plain": [
                            "20"
                        ]
                    },
                    "execution_count": 66,
                    "metadata": {},
                    "output_type": "execute_result"
                }
            ],
            "source": [
                "#i'm out of ideas at this point, let's see if we remove the author\n",
                "q = f\"\"\"\n",
                "select distinct ?bookName where{{\n",
                "    \n",
                "?book wdt:P195|wdt:P276 wd:Q213678;\n",
                "    <http://schema.org/name> ?bookName .\n",
                "    \n",
                "}}\n",
                "limit 20\n",
                "\"\"\"\n",
                "run_query(q)"
            ]
        },
        {
            "cell_type": "code",
            "execution_count": 67,
            "id": "8a48584b-f597-480e-b201-1f000a83b0d3",
            "metadata": {},
            "outputs": [
                {
                    "name": "stdout",
                    "output_type": "stream",
                    "text": [
                        "Empty\n"
                    ]
                },
                {
                    "data": {
                        "text/plain": [
                            "0"
                        ]
                    },
                    "execution_count": 67,
                    "metadata": {},
                    "output_type": "execute_result"
                }
            ],
            "source": [
                "#last stand, see if the author of a book stored in the vatican library brings us back to a nobel laureate\n",
                "\n",
                "#found above in the long list of properties exiting a book\n",
                "author = 'wdt:P50'\n",
                "\n",
                "q = f\"\"\"\n",
                "select distinct ?authorName ?book ?bookName where{{\n",
                "?book wdt:P195|wdt:P276 wd:Q213678 ;\n",
                "    <http://schema.org/name> ?bookName ;\n",
                "    wdt:P50 ?author .\n",
                "    \n",
                "?author wdt:P166 wd:Q37922 ;\n",
                "    <http://schema.org/name> ?authorName .\n",
                "    \n",
                "}}\n",
                "limit 50\n",
                "\"\"\"\n",
                "run_query(q)"
            ]
        },
        {
            "cell_type": "code",
            "execution_count": 68,
            "id": "1d1d90a0-e98b-435c-93cc-7a67669f0eb1",
            "metadata": {},
            "outputs": [
                {
                    "name": "stdout",
                    "output_type": "stream",
                    "text": [
                        "Empty\n"
                    ]
                },
                {
                    "data": {
                        "text/plain": [
                            "0"
                        ]
                    },
                    "execution_count": 68,
                    "metadata": {},
                    "output_type": "execute_result"
                }
            ],
            "source": [
                "#let's remove as many constraints as possible\n",
                "\n",
                "q = f\"\"\"\n",
                "select distinct ?authorName ?book ?bookName ?property ?propertyName where{{\n",
                "?book ?property wd:Q213678 ;\n",
                "    <http://schema.org/name> ?bookName ;\n",
                "    wdt:P50 ?author .\n",
                "    \n",
                "?property <http://schema.org/name> ?propertyName .\n",
                "    \n",
                "?author wdt:P166 wd:Q37922 ;\n",
                "    <http://schema.org/name> ?authorName .\n",
                "    \n",
                "}}\n",
                "limit 50\n",
                "\"\"\"\n",
                "run_query(q)"
            ]
        },
        {
            "cell_type": "code",
            "execution_count": 69,
            "id": "0e7ca3f3-495b-47da-94bc-ec21871a6d65",
            "metadata": {},
            "outputs": [
                {
                    "name": "stdout",
                    "output_type": "stream",
                    "text": [
                        "[('authorName', 'Donizo of Canossa'), ('book', 'http://www.wikidata.org/entity/Q3561145'), ('bookName', 'Vita Mathildis'), ('property', 'http://www.wikidata.org/prop/direct/P195'), ('propertyName', 'collection')]\n",
                        "[('authorName', 'anonymous'), ('book', 'http://www.wikidata.org/entity/Q1106341'), ('bookName', 'Codex Vaticanus Graecus 64'), ('property', 'http://www.wikidata.org/prop/direct/P195'), ('propertyName', 'collection')]\n",
                        "[('authorName', 'Frederick II, Holy Roman Emperor'), ('book', 'http://www.wikidata.org/entity/Q1180580'), ('bookName', 'De arte venandi cum avibus'), ('property', 'http://www.wikidata.org/prop/direct/P195'), ('propertyName', 'collection')]\n",
                        "[('authorName', 'Frederick II, Holy Roman Emperor'), ('book', 'http://www.wikidata.org/entity/Q1180580'), ('bookName', 'De arte venandi cum avibus'), ('property', 'http://www.wikidata.org/prop/direct/P276'), ('propertyName', 'location')]\n",
                        "[('authorName', 'Leonardo da Vinci'), ('book', 'http://www.wikidata.org/entity/Q1258536'), ('bookName', 'Codex Urbinas'), ('property', 'http://www.wikidata.org/prop/direct/P195'), ('propertyName', 'collection')]\n",
                        "[('authorName', 'Ephrem the Syrian'), ('book', 'http://www.wikidata.org/entity/Q65122273'), ('bookName', 'Andrew, the Apostle'), ('property', 'http://www.wikidata.org/prop/direct/P195'), ('propertyName', 'collection')]\n",
                        "[('authorName', 'John Willis Clark'), ('book', 'http://www.wikidata.org/entity/Q19087278'), ('bookName', 'On the Vatican Library of Sixtus IV'), ('property', 'http://www.wikidata.org/prop/direct/P921'), ('propertyName', 'main subject')]\n",
                        "[('authorName', 'Laura Lalli'), ('book', 'http://www.wikidata.org/entity/Q61749291'), ('bookName', 'Rare books in the Vatican Library\\u202f: reshaping the catalogue'), ('property', 'http://www.wikidata.org/prop/direct/P921'), ('propertyName', 'main subject')]\n",
                        "[('authorName', 'Paola Manoni'), ('book', 'http://www.wikidata.org/entity/Q61728093'), ('bookName', 'Metadata framework and application profiles in the global structure of catalogs and digitization projects of the Vatican Library'), ('property', 'http://www.wikidata.org/prop/direct/P921'), ('propertyName', 'main subject')]\n",
                        "[('authorName', 'Francesco Melzi'), ('book', 'http://www.wikidata.org/entity/Q1258536'), ('bookName', 'Codex Urbinas'), ('property', 'http://www.wikidata.org/prop/direct/P195'), ('propertyName', 'collection')]\n",
                        "[('authorName', 'Diego Baldi'), ('book', 'http://www.wikidata.org/entity/Q59154964'), ('bookName', 'The Vatican Library in Andrea Fulvio\u2019s De bibliothecis antiquis : a new model of librarian reality'), ('property', 'http://www.wikidata.org/prop/direct/P921'), ('propertyName', 'main subject')]\n",
                        "[('authorName', '\u00c1ngela N\u00fa\u00f1ez Gait\u00e1n'), ('book', 'http://www.wikidata.org/entity/Q104163508'), ('bookName', 'Manutenere, conservare ac innovari'), ('property', 'http://www.wikidata.org/prop/direct/P921'), ('propertyName', 'main subject')]\n",
                        "[('authorName', 'Antonio Manfredi'), ('book', 'http://www.wikidata.org/entity/Q58954040'), ('bookName', 'On an edition of ecclesiastical books catalogues between XVIth and XVIIth centuries. Reflections and research purposes'), ('property', 'http://www.wikidata.org/prop/direct/P921'), ('propertyName', 'main subject')]\n",
                        "[('authorName', 'Korkut Ata'), ('book', 'http://www.wikidata.org/entity/Q903320'), ('bookName', 'Book of Dede Korkut'), ('property', 'http://www.wikidata.org/prop/direct/P195'), ('propertyName', 'collection')]\n",
                        "[('authorName', 'Daniele Guernelli'), ('book', 'http://www.wikidata.org/entity/Q59096084'), ('bookName', 'Pearls on fringes. A new trace of Girolamo da Cremona'), ('property', 'http://www.wikidata.org/prop/direct/P921'), ('propertyName', 'main subject')]\n"
                    ]
                },
                {
                    "data": {
                        "text/plain": [
                            "15"
                        ]
                    },
                    "execution_count": 69,
                    "metadata": {},
                    "output_type": "execute_result"
                }
            ],
            "source": [
                "q = f\"\"\"\n",
                "select distinct ?authorName ?book ?bookName ?property ?propertyName where{{\n",
                "?book ?property wd:Q213678 ;\n",
                "    <http://schema.org/name> ?bookName ;\n",
                "    wdt:P50 ?author .\n",
                "    \n",
                "?property <http://schema.org/name> ?propertyName .\n",
                "    \n",
                "?author <http://schema.org/name> ?authorName .\n",
                "    \n",
                "}}\n",
                "limit 50\n",
                "\"\"\"\n",
                "run_query(q)"
            ]
        },
        {
            "cell_type": "code",
            "execution_count": 70,
            "id": "fc5e17ae-6692-4c5e-a24a-bf5074e7b3b7",
            "metadata": {},
            "outputs": [
                {
                    "name": "stdout",
                    "output_type": "stream",
                    "text": [
                        "Empty\n"
                    ]
                },
                {
                    "data": {
                        "text/plain": [
                            "0"
                        ]
                    },
                    "execution_count": 70,
                    "metadata": {},
                    "output_type": "execute_result"
                }
            ],
            "source": [
                "#so there are authors with books stored on the vatican library, just no nobel laureates, at least according to wikidata\n",
                "\n",
                "#let's make sure before quitting\n",
                "\n",
                "q = f\"\"\"\n",
                "select distinct ?author ?authorName ?book ?bookName where{{\n",
                "?book ?property wd:Q213678 ;\n",
                "    <http://schema.org/name> ?bookName ;\n",
                "    wdt:P50 ?author .\n",
                "    \n",
                "?author <http://schema.org/name> ?authorName ;\n",
                "    wdt:P166 wd:Q37922 .\n",
                "    \n",
                "}}\n",
                "limit 50\n",
                "\"\"\"\n",
                "run_query(q)"
            ]
        },
        {
            "cell_type": "code",
            "execution_count": 72,
            "id": "fea13df8-5f0e-4d7a-a7a3-c3fe4c73856c",
            "metadata": {},
            "outputs": [
                {
                    "name": "stdout",
                    "output_type": "stream",
                    "text": [
                        "Empty\n"
                    ]
                },
                {
                    "data": {
                        "text/plain": [
                            "0"
                        ]
                    },
                    "execution_count": 72,
                    "metadata": {},
                    "output_type": "execute_result"
                }
            ],
            "source": [
                "#let's try the inverse\n",
                "\n",
                "q = f\"\"\"\n",
                "select distinct ?author ?authorName ?book ?bookName where{{\n",
                "\n",
                "?author <http://schema.org/name> ?authorName ;\n",
                "    wdt:P166 wd:Q37922 ;\n",
                "    wdt:P800 ?book .\n",
                "    \n",
                "?book ?property wd:Q213678 ;\n",
                "    <http://schema.org/name> ?bookName .\n",
                "    \n",
                "}}\n",
                "limit 50\n",
                "\"\"\"\n",
                "run_query(q)"
            ]
        }
    ],
    "metadata": {
        "kernelspec": {
            "display_name": "Python 3",
            "language": "python",
            "name": "python3"
        },
        "language_info": {
            "codemirror_mode": {
                "name": "ipython",
                "version": 3
            },
            "file_extension": ".py",
            "mimetype": "text/x-python",
            "name": "python",
            "nbconvert_exporter": "python",
            "pygments_lexer": "ipython3",
            "version": "3.7.10"
        }
    },
    "nbformat": 4,
    "nbformat_minor": 5
}