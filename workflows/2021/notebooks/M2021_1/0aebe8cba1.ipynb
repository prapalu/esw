{
 "cells": [
  {
   "cell_type": "markdown",
   "id": "7034c3bf-6eb0-4418-8687-7b9d2a501103",
   "metadata": {
    "tags": []
   },
   "source": [
    "# General instructions\n",
    "\n",
    "The goal of the project is to materialize a set of **exploratory workloads** over a real-world, large-scale,  open-domain KG: [WikiData](https://www.wikidata.org/wiki/Wikidata:Main_Page)\n",
    "\n",
    "An exploratory workload  is composed by a set of queries, where each query is related to the information obtained previously.\n",
    "\n",
    "An exploratory workload starts with a usually vague, open ended question, and does not assume the person issuing the workload has a clear understanding of the data contained in the target database or its structure.\n",
    "\n",
    "Remeber that:\n",
    "\n",
    "1. All the queries must run in the python notebook\n",
    "2. You can use classes and properties only if you find them via a SPARQL query that must be present in the notebook\n",
    "3. You do not delete useless queries. Keep everything that is synthatically valid \n",
    "\n",
    "```\n",
    "?p <http://schema.org/name> ?name .\n",
    "```\n",
    "    \n",
    "is the BGP returning a human-readable name of a property or a class in Wikidata.\n",
    "    \n",
    "    "
   ]
  },
  {
   "cell_type": "code",
   "execution_count": 1,
   "id": "3605c9d5-5371-49a5-be8d-d66e8f417139",
   "metadata": {},
   "outputs": [],
   "source": [
    "## SETUP used later\n",
    "\n",
    "from SPARQLWrapper import SPARQLWrapper, JSON\n",
    "\n",
    "\n",
    "prefixString = \"\"\"\n",
    "##-0aebe8cba1-##\n",
    "PREFIX wd: <http://www.wikidata.org/entity/> \n",
    "PREFIX wdt: <http://www.wikidata.org/prop/direct/> \n",
    "PREFIX sc: <http://schema.org/>\n",
    "\"\"\"\n",
    "\n",
    "# select and construct queries\n",
    "def run_query(queryString):\n",
    "    to_run = prefixString + \"\\n\" + queryString\n",
    "\n",
    "    sparql = SPARQLWrapper(\"http://a256-gc1-02.srv.aau.dk:5820/sparql\")\n",
    "    sparql.setTimeout(300)\n",
    "    sparql.setReturnFormat(JSON)\n",
    "    sparql.setQuery(to_run)\n",
    "\n",
    "    try :\n",
    "       results = sparql.query()\n",
    "       json_results = results.convert()\n",
    "       if len(json_results['results']['bindings'])==0:\n",
    "          print(\"Empty\")\n",
    "          return 0\n",
    "    \n",
    "       for bindings in json_results['results']['bindings']:\n",
    "          print( [ (var, value['value'])  for var, value in bindings.items() ] )\n",
    "\n",
    "       return len(json_results['results']['bindings'])\n",
    "\n",
    "    except Exception as e :\n",
    "        print(\"The operation failed\", e)\n",
    "    \n",
    "# ASk queries\n",
    "def run_ask_query(queryString):\n",
    "    to_run = prefixString + \"\\n\" + queryString\n",
    "\n",
    "    sparql = SPARQLWrapper(\"http://a256-gc1-02.srv.aau.dk:5820/sparql\")\n",
    "    sparql.setTimeout(300)\n",
    "    sparql.setReturnFormat(JSON)\n",
    "    sparql.setQuery(to_run)\n",
    "\n",
    "    try :\n",
    "        return sparql.query().convert()\n",
    "\n",
    "    except Exception as e :\n",
    "        print(\"The operation failed\", e)\n"
   ]
  },
  {
   "cell_type": "markdown",
   "id": "d477a59c-a68c-4c8f-9f97-8ca5294d7d27",
   "metadata": {
    "tags": []
   },
   "source": [
    "# Politics Workflow Series (\"Monarchies\") \n",
    "\n",
    "Consider the following exploratory information need:\n",
    "\n",
    "> You investigating existing and past historical monarchies"
   ]
  },
  {
   "cell_type": "markdown",
   "id": "4a45c0ba-f79e-441d-bec5-84401b09db70",
   "metadata": {},
   "source": [
    "## Useful URIs for the current workflow\n",
    "\n",
    "\n",
    "The following are given:\n",
    "\n",
    "| IRI           | Description   | Role      |\n",
    "| -----------   | -----------   |-----------|\n",
    "| `wdt:P1647`   | subproperty   | predicate |\n",
    "| `wdt:P31`     | instance of   | predicate |\n",
    "| `wdt:P279`    | subclass      | predicate |\n",
    "| `wdt:P17`     | country       | predicate |\n",
    "| `wdt:P27`     | citizenship   | predicate |\n",
    "| `wdt:P1366`   | replaced by    | predicate |\n",
    "| `wdt:P122`    | basic form of government    | predicate |\n",
    "| `wd:Q38`      | Italy          | node |\n",
    "| `wd:Q145`     | United Kingdom           | node |\n",
    "| `wd:Q7269`    | monarchy           | node |\n",
    "\n",
    "\n",
    "\n",
    "\n",
    "Also consider\n",
    "\n",
    "```\n",
    "?p (wdt:P31|wdt:P122)/wdt:P279* wd:Q7269  . \n",
    "```\n",
    "\n",
    "is the BGP to retrieve all **countries that are some instance of a monarchy**"
   ]
  },
  {
   "cell_type": "markdown",
   "id": "7af439fb-96e4-4dbb-a381-f19afab79f86",
   "metadata": {
    "tags": []
   },
   "source": [
    "## Workload Goals\n",
    "\n",
    "\n",
    "1. Identify the BGP to retrieve states that were monarchies and have been replaced by some other state\n",
    "\n",
    "2. Identify the BGP for obtaining statistical information of monarchies, e.g., poluation or inception date\n",
    "\n",
    "3. Which is or was  the country with the highest population?\n",
    "\n",
    "4. How many countries are or have been monarchies across continents?\n",
    "\n",
    "5. Analyze the number of countries that were monarchies\n",
    " \n",
    "   5.1 How many sub-types of monarchy exist?  How many instances of exist of each one?\n",
    "   \n",
    "   5.2 Are there cities that have been capital of multiple kingdoms?\n",
    "   \n",
    "   5.3 Which are the top-3 monarchies with the earliest inception and still existing?\n"
   ]
  },
  {
   "cell_type": "code",
   "execution_count": 2,
   "id": "24a853ab-830c-422c-afd3-e9e015b8b8ed",
   "metadata": {},
   "outputs": [],
   "source": [
    "# start your workflow here"
   ]
  },
  {
   "cell_type": "code",
   "execution_count": 2,
   "id": "ade01416-92e7-4ad7-b9a9-b8fb330750dc",
   "metadata": {},
   "outputs": [
    {
     "name": "stdout",
     "output_type": "stream",
     "text": [
      "Results\n",
      "[('callret-0', '2344')]\n"
     ]
    },
    {
     "data": {
      "text/plain": [
       "1"
      ]
     },
     "execution_count": 2,
     "metadata": {},
     "output_type": "execute_result"
    }
   ],
   "source": [
    "queryString = \"\"\"\n",
    "SELECT COUNT(*)\n",
    "WHERE { \n",
    "\n",
    "?p (wdt:P31|wdt:P122)/wdt:P279* wd:Q7269  . \n",
    "} \n",
    "\"\"\"\n",
    "\n",
    "print(\"Results\")\n",
    "run_query(queryString)"
   ]
  },
  {
   "cell_type": "markdown",
   "id": "d0436db3-6e3e-462d-9e2a-4826d813feaf",
   "metadata": {
    "tags": []
   },
   "source": [
    "### Explorative Queries"
   ]
  },
  {
   "cell_type": "markdown",
   "id": "32b8f6a2-aa00-42c9-8cc9-75eb3dc56a26",
   "metadata": {},
   "source": [
    "List some country that are some instance of monarchy with their class name."
   ]
  },
  {
   "cell_type": "code",
   "execution_count": 3,
   "id": "85c76d81-d075-46df-bea2-22a429e20216",
   "metadata": {},
   "outputs": [
    {
     "name": "stdout",
     "output_type": "stream",
     "text": [
      "Results\n",
      "[('p', 'http://www.wikidata.org/entity/Q260633'), ('pname', \"St. Emmeram's Abbey\"), ('cname', 'abbey-principality')]\n",
      "[('p', 'http://www.wikidata.org/entity/Q260633'), ('pname', \"St. Emmeram's Abbey\"), ('cname', 'imperial abbey')]\n",
      "[('p', 'http://www.wikidata.org/entity/Q542165'), ('pname', 'Despotate of Dobruja'), ('cname', 'polity')]\n",
      "[('p', 'http://www.wikidata.org/entity/Q183150'), ('pname', 'Colchis'), ('cname', 'polity')]\n",
      "[('p', 'http://www.wikidata.org/entity/Q681120'), ('pname', 'Roman Catholic Diocese of Chur'), ('cname', 'Ecclesiastical circumscription immediately subject to the Holy See')]\n",
      "[('p', 'http://www.wikidata.org/entity/Q787336'), ('pname', 'Roman Catholic Diocese of Metz'), ('cname', 'Ecclesiastical circumscription immediately subject to the Holy See')]\n",
      "[('p', 'http://www.wikidata.org/entity/Q150058'), ('pname', 'Travancore'), ('cname', 'princely state')]\n",
      "[('p', 'http://www.wikidata.org/entity/Q150056'), ('pname', 'Kingdom of Cochin'), ('cname', 'princely state')]\n",
      "[('p', 'http://www.wikidata.org/entity/Q18126222'), ('pname', 'Janjira State'), ('cname', 'princely state')]\n",
      "[('p', 'http://www.wikidata.org/entity/Q17342164'), ('pname', 'Tripura'), ('cname', 'princely state')]\n",
      "[('p', 'http://www.wikidata.org/entity/Q1240096'), ('pname', 'Hyderabad State'), ('cname', 'princely state')]\n",
      "[('p', 'http://www.wikidata.org/entity/Q918204'), ('pname', 'Rajpipla State'), ('cname', 'princely state')]\n",
      "[('p', 'http://www.wikidata.org/entity/Q139948'), ('pname', 'Khanate of Kalat'), ('cname', 'princely state')]\n",
      "[('p', 'http://www.wikidata.org/entity/Q3530610'), ('pname', 'Thanjavur Maratha kingdom'), ('cname', 'princely state')]\n",
      "[('p', 'http://www.wikidata.org/entity/Q1375154'), ('pname', 'Benares State'), ('cname', 'princely state')]\n",
      "[('p', 'http://www.wikidata.org/entity/Q1604981'), ('pname', 'Ratlam State'), ('cname', 'princely state')]\n",
      "[('p', 'http://www.wikidata.org/entity/Q1683106'), ('pname', 'Jaora State'), ('cname', 'princely state')]\n",
      "[('p', 'http://www.wikidata.org/entity/Q3192661'), ('pname', 'Kangra-Lambagraon'), ('cname', 'princely state')]\n",
      "[('p', 'http://www.wikidata.org/entity/Q14552167'), ('pname', 'Porbandar State'), ('cname', 'princely state')]\n",
      "[('p', 'http://www.wikidata.org/entity/Q266923'), ('pname', 'Kingdom of Mysore'), ('cname', 'princely state')]\n",
      "[('p', 'http://www.wikidata.org/entity/Q3454186'), ('pname', 'Rampur State'), ('cname', 'princely state')]\n",
      "[('p', 'http://www.wikidata.org/entity/Q1720882'), ('pname', 'Cutch State'), ('cname', 'princely state')]\n",
      "[('p', 'http://www.wikidata.org/entity/Q1252744'), ('pname', 'Jind State'), ('cname', 'princely state')]\n",
      "[('p', 'http://www.wikidata.org/entity/Q1261339'), ('pname', 'Jhalawar State'), ('cname', 'princely state')]\n",
      "[('p', 'http://www.wikidata.org/entity/Q7126720'), ('pname', 'Palanpur State'), ('cname', 'princely state')]\n",
      "[('p', 'http://www.wikidata.org/entity/Q11916768'), ('pname', 'Dedhrota'), ('cname', 'princely state')]\n",
      "[('p', 'http://www.wikidata.org/entity/Q11950532'), ('pname', 'Sundem'), ('cname', 'princely state')]\n",
      "[('p', 'http://www.wikidata.org/entity/Q7530545'), ('pname', 'Sirohi State'), ('cname', 'princely state')]\n",
      "[('p', 'http://www.wikidata.org/entity/Q14491604'), ('pname', 'Junagadh State'), ('cname', 'princely state')]\n",
      "[('p', 'http://www.wikidata.org/entity/Q1553143'), ('pname', 'Alwar State'), ('cname', 'princely state')]\n",
      "[('p', 'http://www.wikidata.org/entity/Q11916665'), ('pname', 'Datarpur'), ('cname', 'princely state')]\n",
      "[('p', 'http://www.wikidata.org/entity/Q11946883'), ('pname', 'Sangri State'), ('cname', 'princely state')]\n",
      "[('p', 'http://www.wikidata.org/entity/Q11949691'), ('pname', 'Siba State'), ('cname', 'princely state')]\n",
      "[('p', 'http://www.wikidata.org/entity/Q1396700'), ('pname', 'Faridkot State'), ('cname', 'princely state')]\n",
      "[('p', 'http://www.wikidata.org/entity/Q1541353'), ('pname', 'Sirmoor State'), ('cname', 'princely state')]\n",
      "[('p', 'http://www.wikidata.org/entity/Q15630982'), ('pname', 'Orissa Tributary States'), ('cname', 'princely state')]\n",
      "[('p', 'http://www.wikidata.org/entity/Q1678784'), ('pname', 'Jaisalmer State'), ('cname', 'princely state')]\n",
      "[('p', 'http://www.wikidata.org/entity/Q16829581'), ('pname', 'Dhrangadhra State'), ('cname', 'princely state')]\n",
      "[('p', 'http://www.wikidata.org/entity/Q1728782'), ('pname', 'Kapurthala State'), ('cname', 'princely state')]\n",
      "[('p', 'http://www.wikidata.org/entity/Q646390'), ('pname', 'Electorate of Salzburg'), ('cname', 'Electoral Principate')]\n",
      "[('p', 'http://www.wikidata.org/entity/Q156199'), ('pname', 'Electorate of Saxony'), ('cname', 'Electoral Principate')]\n",
      "[('p', 'http://www.wikidata.org/entity/Q7904317'), ('pname', 'Electorate of Cologne'), ('cname', 'Electoral Principate')]\n",
      "[('p', 'http://www.wikidata.org/entity/Q698089'), ('pname', 'Grand Duchy of Würzburg'), ('cname', 'Electoral Principate')]\n",
      "[('p', 'http://www.wikidata.org/entity/Q2172530'), ('pname', 'Electorate of Württemberg'), ('cname', 'Electoral Principate')]\n",
      "[('p', 'http://www.wikidata.org/entity/Q1794352'), ('pname', 'Electorate of Trier'), ('cname', 'Electoral Principate')]\n",
      "[('p', 'http://www.wikidata.org/entity/Q2991433'), ('pname', 'County of Sobrarbe'), ('cname', 'county')]\n",
      "[('p', 'http://www.wikidata.org/entity/Q2324047'), ('pname', 'County of Apulia'), ('cname', 'county')]\n",
      "[('p', 'http://www.wikidata.org/entity/Q3853673'), ('pname', 'Media'), ('cname', 'satrapy of the Achaemenid Empire')]\n",
      "[('p', 'http://www.wikidata.org/entity/Q13099569'), ('pname', 'Hyrule'), ('cname', 'location in The Legend of Zelda')]\n",
      "[('p', 'http://www.wikidata.org/entity/Q330533'), ('pname', 'Seventeen Provinces'), ('cname', 'personal union')]\n"
     ]
    },
    {
     "data": {
      "text/plain": [
       "50"
      ]
     },
     "execution_count": 3,
     "metadata": {},
     "output_type": "execute_result"
    }
   ],
   "source": [
    "queryString=\"\"\"\n",
    "SELECT DISTINCT ?p ?pname ?cname WHERE { \n",
    "\n",
    "?p (wdt:P31|wdt:P122)/wdt:P279* wd:Q7269;\n",
    "    <http://schema.org/name> ?pname;\n",
    "    wdt:P31 ?class.\n",
    "?class <http://schema.org/name> ?cname.\n",
    "} \n",
    "LIMIT 50\n",
    "\"\"\"\n",
    "print(\"Results\")\n",
    "run_query(queryString)"
   ]
  },
  {
   "cell_type": "markdown",
   "id": "b0797ff3-f73e-4f21-8c80-0c12e43ceaad",
   "metadata": {
    "tags": []
   },
   "source": [
    "#### United Kingdom"
   ]
  },
  {
   "cell_type": "markdown",
   "id": "20eacc27-550f-4f02-9395-3fe648254628",
   "metadata": {},
   "source": [
    "Retrieve relevant predicates and objects connected to the United Kingdom, a well-known monarchy."
   ]
  },
  {
   "cell_type": "code",
   "execution_count": 4,
   "id": "4e4d052b-ef59-46ef-9894-62a6b6800e4f",
   "metadata": {},
   "outputs": [
    {
     "name": "stdout",
     "output_type": "stream",
     "text": [
      "Results\n",
      "[('p', 'http://www.wikidata.org/prop/direct/P7867'), ('pname', 'category for maps'), ('o', 'http://www.wikidata.org/entity/Q8607617'), ('oname', 'Category:Maps of the United Kingdom')]\n",
      "[('p', 'http://www.wikidata.org/prop/direct/P9241'), ('pname', 'demographics of topic'), ('o', 'http://www.wikidata.org/entity/Q1983621'), ('oname', 'demographics of the United Kingdom')]\n",
      "[('p', 'http://www.wikidata.org/prop/direct/P1464'), ('pname', 'category for people born here'), ('o', 'http://www.wikidata.org/entity/Q7463363'), ('oname', 'Category:Births in the United Kingdom')]\n",
      "[('p', 'http://www.wikidata.org/prop/direct/P2936'), ('pname', 'language used'), ('o', 'http://www.wikidata.org/entity/Q541279'), ('oname', 'Angloromani')]\n",
      "[('p', 'http://www.wikidata.org/prop/direct/P6'), ('pname', 'head of government'), ('o', 'http://www.wikidata.org/entity/Q180589'), ('oname', 'Boris Johnson')]\n",
      "[('p', 'http://www.wikidata.org/prop/direct/P2936'), ('pname', 'language used'), ('o', 'http://www.wikidata.org/entity/Q14549'), ('oname', 'Scots')]\n",
      "[('p', 'http://www.wikidata.org/prop/direct/P163'), ('pname', 'flag'), ('o', 'http://www.wikidata.org/entity/Q83278'), ('oname', 'flag of the United Kingdom')]\n",
      "[('p', 'http://www.wikidata.org/prop/direct/P2633'), ('pname', 'geography of topic'), ('o', 'http://www.wikidata.org/entity/Q129373'), ('oname', 'geography of the United Kingdom')]\n",
      "[('p', 'http://www.wikidata.org/prop/direct/P1313'), ('pname', 'office held by head of government'), ('o', 'http://www.wikidata.org/entity/Q14211'), ('oname', 'Prime Minister of the United Kingdom')]\n",
      "[('p', 'http://www.wikidata.org/prop/direct/P1906'), ('pname', 'office held by head of state'), ('o', 'http://www.wikidata.org/entity/Q9134365'), ('oname', 'monarch of the United Kingdom')]\n",
      "[('p', 'http://www.wikidata.org/prop/direct/P1589'), ('pname', 'lowest point'), ('o', 'http://www.wikidata.org/entity/Q1404827'), ('oname', 'The Fens')]\n",
      "[('p', 'http://www.wikidata.org/prop/direct/P610'), ('pname', 'highest point'), ('o', 'http://www.wikidata.org/entity/Q104674'), ('oname', 'Ben Nevis')]\n",
      "[('p', 'http://www.wikidata.org/prop/direct/P706'), ('pname', 'located in/on physical feature'), ('o', 'http://www.wikidata.org/entity/Q38272'), ('oname', 'British Isles')]\n",
      "[('p', 'http://www.wikidata.org/prop/direct/P2936'), ('pname', 'language used'), ('o', 'http://www.wikidata.org/entity/Q9309'), ('oname', 'Welsh')]\n",
      "[('p', 'http://www.wikidata.org/prop/direct/P2936'), ('pname', 'language used'), ('o', 'http://www.wikidata.org/entity/Q9314'), ('oname', 'Scottish Gaelic')]\n",
      "[('p', 'http://www.wikidata.org/prop/direct/P172'), ('pname', 'ethnic group'), ('o', 'http://www.wikidata.org/entity/Q2580491'), ('oname', 'British Pakistanis')]\n",
      "[('p', 'http://www.wikidata.org/prop/direct/P2936'), ('pname', 'language used'), ('o', 'http://www.wikidata.org/entity/Q25289'), ('oname', 'Cornish')]\n",
      "[('p', 'http://www.wikidata.org/prop/direct/P1344'), ('pname', 'participant in'), ('o', 'http://www.wikidata.org/entity/Q301487'), ('oname', 'Battle of Brandywine')]\n",
      "[('p', 'http://www.wikidata.org/prop/direct/P237'), ('pname', 'coat of arms'), ('o', 'http://www.wikidata.org/entity/Q165762'), ('oname', 'royal coat of arms of the United Kingdom')]\n",
      "[('p', 'http://www.wikidata.org/prop/direct/P2936'), ('pname', 'language used'), ('o', 'http://www.wikidata.org/entity/Q33000'), ('oname', 'British Sign Language')]\n",
      "[('p', 'http://www.wikidata.org/prop/direct/P1889'), ('pname', 'different from'), ('o', 'http://www.wikidata.org/entity/Q1411125'), ('oname', 'Category:United Kingdom')]\n",
      "[('p', 'http://www.wikidata.org/prop/direct/P910'), ('pname', \"topic's main category\"), ('o', 'http://www.wikidata.org/entity/Q1411125'), ('oname', 'Category:United Kingdom')]\n",
      "[('p', 'http://www.wikidata.org/prop/direct/P1792'), ('pname', 'category of associated people'), ('o', 'http://www.wikidata.org/entity/Q3919830'), ('oname', 'Category:British people')]\n",
      "[('p', 'http://www.wikidata.org/prop/direct/P530'), ('pname', 'diplomatic relation'), ('o', 'http://www.wikidata.org/entity/Q1016'), ('oname', 'Libya')]\n",
      "[('p', 'http://www.wikidata.org/prop/direct/P530'), ('pname', 'diplomatic relation'), ('o', 'http://www.wikidata.org/entity/Q1028'), ('oname', 'Morocco')]\n",
      "[('p', 'http://www.wikidata.org/prop/direct/P530'), ('pname', 'diplomatic relation'), ('o', 'http://www.wikidata.org/entity/Q1030'), ('oname', 'Namibia')]\n",
      "[('p', 'http://www.wikidata.org/prop/direct/P463'), ('pname', 'member of'), ('o', 'http://www.wikidata.org/entity/Q1043527'), ('oname', 'Multilateral Investment Guarantee Agency')]\n",
      "[('p', 'http://www.wikidata.org/prop/direct/P530'), ('pname', 'diplomatic relation'), ('o', 'http://www.wikidata.org/entity/Q1045'), ('oname', 'Somalia')]\n",
      "[('p', 'http://www.wikidata.org/prop/direct/P530'), ('pname', 'diplomatic relation'), ('o', 'http://www.wikidata.org/entity/Q1049'), ('oname', 'Sudan')]\n",
      "[('p', 'http://www.wikidata.org/prop/direct/P2852'), ('pname', 'emergency telephone number'), ('o', 'http://www.wikidata.org/entity/Q1061257'), ('oname', '112')]\n",
      "[('p', 'http://www.wikidata.org/prop/direct/P463'), ('pname', 'member of'), ('o', 'http://www.wikidata.org/entity/Q1065'), ('oname', 'United Nations')]\n",
      "[('p', 'http://www.wikidata.org/prop/direct/P463'), ('pname', 'member of'), ('o', 'http://www.wikidata.org/entity/Q1072120'), ('oname', 'Missile Technology Control Regime')]\n",
      "[('p', 'http://www.wikidata.org/prop/direct/P1344'), ('pname', 'participant in'), ('o', 'http://www.wikidata.org/entity/Q1088364'), ('oname', 'Battle of the Lys')]\n",
      "[('p', 'http://www.wikidata.org/prop/direct/P31'), ('pname', 'instance of'), ('o', 'http://www.wikidata.org/entity/Q112099'), ('oname', 'island nation')]\n",
      "[('p', 'http://www.wikidata.org/prop/direct/P530'), ('pname', 'diplomatic relation'), ('o', 'http://www.wikidata.org/entity/Q114'), ('oname', 'Kenya')]\n",
      "[('p', 'http://www.wikidata.org/prop/direct/P530'), ('pname', 'diplomatic relation'), ('o', 'http://www.wikidata.org/entity/Q1246'), ('oname', 'Kosovo')]\n",
      "[('p', 'http://www.wikidata.org/prop/direct/P1622'), ('pname', 'driving side'), ('o', 'http://www.wikidata.org/entity/Q13196750'), ('oname', 'left')]\n",
      "[('p', 'http://www.wikidata.org/prop/direct/P5658'), ('pname', 'railway traffic side'), ('o', 'http://www.wikidata.org/entity/Q13196750'), ('oname', 'left')]\n",
      "[('p', 'http://www.wikidata.org/prop/direct/P1344'), ('pname', 'participant in'), ('o', 'http://www.wikidata.org/entity/Q1411470'), ('oname', 'Battle of Vlotho')]\n",
      "[('p', 'http://www.wikidata.org/prop/direct/P530'), ('pname', 'diplomatic relation'), ('o', 'http://www.wikidata.org/entity/Q142'), ('oname', 'France')]\n",
      "[('p', 'http://www.wikidata.org/prop/direct/P17'), ('pname', 'country'), ('o', 'http://www.wikidata.org/entity/Q145'), ('oname', 'United Kingdom')]\n",
      "[('p', 'http://www.wikidata.org/prop/direct/P530'), ('pname', 'diplomatic relation'), ('o', 'http://www.wikidata.org/entity/Q148'), ('oname', \"People's Republic of China\")]\n",
      "[('p', 'http://www.wikidata.org/prop/direct/P463'), ('pname', 'member of'), ('o', 'http://www.wikidata.org/entity/Q1480793'), ('oname', 'Nuclear Suppliers Group')]\n",
      "[('p', 'http://www.wikidata.org/prop/direct/P463'), ('pname', 'member of'), ('o', 'http://www.wikidata.org/entity/Q151991'), ('oname', 'European Southern Observatory')]\n",
      "[('p', 'http://www.wikidata.org/prop/direct/P2853'), ('pname', 'electrical plug type'), ('o', 'http://www.wikidata.org/entity/Q1528507'), ('oname', 'BS 1363')]\n",
      "[('p', 'http://www.wikidata.org/prop/direct/P530'), ('pname', 'diplomatic relation'), ('o', 'http://www.wikidata.org/entity/Q155'), ('oname', 'Brazil')]\n",
      "[('p', 'http://www.wikidata.org/prop/direct/P530'), ('pname', 'diplomatic relation'), ('o', 'http://www.wikidata.org/entity/Q159'), ('oname', 'Russia')]\n",
      "[('p', 'http://www.wikidata.org/prop/direct/P530'), ('pname', 'diplomatic relation'), ('o', 'http://www.wikidata.org/entity/Q159583'), ('oname', 'Holy See')]\n",
      "[('p', 'http://www.wikidata.org/prop/direct/P530'), ('pname', 'diplomatic relation'), ('o', 'http://www.wikidata.org/entity/Q16'), ('oname', 'Canada')]\n",
      "[('p', 'http://www.wikidata.org/prop/direct/P530'), ('pname', 'diplomatic relation'), ('o', 'http://www.wikidata.org/entity/Q17'), ('oname', 'Japan')]\n",
      "[('p', 'http://www.wikidata.org/prop/direct/P463'), ('pname', 'member of'), ('o', 'http://www.wikidata.org/entity/Q170424'), ('oname', 'World Meteorological Organization')]\n",
      "[('p', 'http://www.wikidata.org/prop/direct/P1365'), ('pname', 'replaces'), ('o', 'http://www.wikidata.org/entity/Q174193'), ('oname', 'United Kingdom of Great Britain and Ireland')]\n",
      "[('p', 'http://www.wikidata.org/prop/direct/P155'), ('pname', 'follows'), ('o', 'http://www.wikidata.org/entity/Q174193'), ('oname', 'United Kingdom of Great Britain and Ireland')]\n",
      "[('p', 'http://www.wikidata.org/prop/direct/P1889'), ('pname', 'different from'), ('o', 'http://www.wikidata.org/entity/Q174193'), ('oname', 'United Kingdom of Great Britain and Ireland')]\n",
      "[('p', 'http://www.wikidata.org/prop/direct/P463'), ('pname', 'member of'), ('o', 'http://www.wikidata.org/entity/Q17495'), ('oname', 'Universal Postal Union')]\n",
      "[('p', 'http://www.wikidata.org/prop/direct/P832'), ('pname', 'public holiday'), ('o', 'http://www.wikidata.org/entity/Q181817'), ('oname', \"Saint Patrick's Day\")]\n",
      "[('p', 'http://www.wikidata.org/prop/direct/P530'), ('pname', 'diplomatic relation'), ('o', 'http://www.wikidata.org/entity/Q183'), ('oname', 'Germany')]\n",
      "[('p', 'http://www.wikidata.org/prop/direct/P1344'), ('pname', 'participant in'), ('o', 'http://www.wikidata.org/entity/Q184425'), ('oname', 'Pacific War')]\n",
      "[('p', 'http://www.wikidata.org/prop/direct/P2936'), ('pname', 'language used'), ('o', 'http://www.wikidata.org/entity/Q1860'), ('oname', 'English')]\n",
      "[('p', 'http://www.wikidata.org/prop/direct/P37'), ('pname', 'official language'), ('o', 'http://www.wikidata.org/entity/Q1860'), ('oname', 'English')]\n",
      "[('p', 'http://www.wikidata.org/prop/direct/P463'), ('pname', 'member of'), ('o', 'http://www.wikidata.org/entity/Q188822'), ('oname', 'Asian Development Bank')]\n",
      "[('p', 'http://www.wikidata.org/prop/direct/P530'), ('pname', 'diplomatic relation'), ('o', 'http://www.wikidata.org/entity/Q189'), ('oname', 'Iceland')]\n",
      "[('p', 'http://www.wikidata.org/prop/direct/P463'), ('pname', 'member of'), ('o', 'http://www.wikidata.org/entity/Q189062'), ('oname', 'states with nuclear weapons')]\n",
      "[('p', 'http://www.wikidata.org/prop/direct/P463'), ('pname', 'member of'), ('o', 'http://www.wikidata.org/entity/Q191384'), ('oname', 'International Bank for Reconstruction and Development')]\n",
      "[('p', 'http://www.wikidata.org/prop/direct/P1343'), ('pname', 'described by source'), ('o', 'http://www.wikidata.org/entity/Q19180675'), ('oname', 'Small Brockhaus and Efron Encyclopedic Dictionary')]\n",
      "[('p', 'http://www.wikidata.org/prop/direct/P463'), ('pname', 'member of'), ('o', 'http://www.wikidata.org/entity/Q1928989'), ('oname', 'Treaty on Open Skies')]\n",
      "[('p', 'http://www.wikidata.org/prop/direct/P832'), ('pname', 'public holiday'), ('o', 'http://www.wikidata.org/entity/Q196627'), ('oname', \"New Year's Day\")]\n",
      "[('p', 'http://www.wikidata.org/prop/direct/P463'), ('pname', 'member of'), ('o', 'http://www.wikidata.org/entity/Q19771'), ('oname', 'G20')]\n",
      "[('p', 'http://www.wikidata.org/prop/direct/P832'), ('pname', 'public holiday'), ('o', 'http://www.wikidata.org/entity/Q19809'), ('oname', 'Christmas')]\n",
      "[('p', 'http://www.wikidata.org/prop/direct/P530'), ('pname', 'diplomatic relation'), ('o', 'http://www.wikidata.org/entity/Q20'), ('oname', 'Norway')]\n",
      "[('p', 'http://www.wikidata.org/prop/direct/P1343'), ('pname', 'described by source'), ('o', 'http://www.wikidata.org/entity/Q20096917'), ('oname', 'Encyclopædia Britannica Ninth Edition')]\n",
      "[('p', 'http://www.wikidata.org/prop/direct/P31'), ('pname', 'instance of'), ('o', 'http://www.wikidata.org/entity/Q20181813'), ('oname', 'colonial power')]\n",
      "[('p', 'http://www.wikidata.org/prop/direct/P832'), ('pname', 'public holiday'), ('o', 'http://www.wikidata.org/entity/Q209663'), ('oname', 'Easter Monday')]\n",
      "[('p', 'http://www.wikidata.org/prop/direct/P150'), ('pname', 'contains administrative territorial entity'), ('o', 'http://www.wikidata.org/entity/Q21'), ('oname', 'England')]\n",
      "[('p', 'http://www.wikidata.org/prop/direct/P530'), ('pname', 'diplomatic relation'), ('o', 'http://www.wikidata.org/entity/Q212'), ('oname', 'Ukraine')]\n",
      "[('p', 'http://www.wikidata.org/prop/direct/P530'), ('pname', 'diplomatic relation'), ('o', 'http://www.wikidata.org/entity/Q214'), ('oname', 'Slovakia')]\n",
      "[('p', 'http://www.wikidata.org/prop/direct/P530'), ('pname', 'diplomatic relation'), ('o', 'http://www.wikidata.org/entity/Q218'), ('oname', 'Romania')]\n",
      "[('p', 'http://www.wikidata.org/prop/direct/P530'), ('pname', 'diplomatic relation'), ('o', 'http://www.wikidata.org/entity/Q219'), ('oname', 'Bulgaria')]\n",
      "[('p', 'http://www.wikidata.org/prop/direct/P150'), ('pname', 'contains administrative territorial entity'), ('o', 'http://www.wikidata.org/entity/Q22'), ('oname', 'Scotland')]\n",
      "[('p', 'http://www.wikidata.org/prop/direct/P530'), ('pname', 'diplomatic relation'), ('o', 'http://www.wikidata.org/entity/Q222'), ('oname', 'Albania')]\n",
      "[('p', 'http://www.wikidata.org/prop/direct/P530'), ('pname', 'diplomatic relation'), ('o', 'http://www.wikidata.org/entity/Q227'), ('oname', 'Azerbaijan')]\n",
      "[('p', 'http://www.wikidata.org/prop/direct/P530'), ('pname', 'diplomatic relation'), ('o', 'http://www.wikidata.org/entity/Q229'), ('oname', 'Cyprus')]\n",
      "[('p', 'http://www.wikidata.org/prop/direct/P530'), ('pname', 'diplomatic relation'), ('o', 'http://www.wikidata.org/entity/Q230'), ('oname', 'Georgia')]\n",
      "[('p', 'http://www.wikidata.org/prop/direct/P530'), ('pname', 'diplomatic relation'), ('o', 'http://www.wikidata.org/entity/Q232'), ('oname', 'Kazakhstan')]\n",
      "[('p', 'http://www.wikidata.org/prop/direct/P530'), ('pname', 'diplomatic relation'), ('o', 'http://www.wikidata.org/entity/Q233'), ('oname', 'Malta')]\n",
      "[('p', 'http://www.wikidata.org/prop/direct/P463'), ('pname', 'member of'), ('o', 'http://www.wikidata.org/entity/Q233611'), ('oname', 'International Hydrographic Organization')]\n",
      "[('p', 'http://www.wikidata.org/prop/direct/P1889'), ('pname', 'different from'), ('o', 'http://www.wikidata.org/entity/Q23666'), ('oname', 'Great Britain')]\n",
      "[('p', 'http://www.wikidata.org/prop/direct/P706'), ('pname', 'located in/on physical feature'), ('o', 'http://www.wikidata.org/entity/Q23666'), ('oname', 'Great Britain')]\n",
      "[('p', 'http://www.wikidata.org/prop/direct/P530'), ('pname', 'diplomatic relation'), ('o', 'http://www.wikidata.org/entity/Q238'), ('oname', 'San Marino')]\n",
      "[('p', 'http://www.wikidata.org/prop/direct/P530'), ('pname', 'diplomatic relation'), ('o', 'http://www.wikidata.org/entity/Q241'), ('oname', 'Cuba')]\n",
      "[('p', 'http://www.wikidata.org/prop/direct/P530'), ('pname', 'diplomatic relation'), ('o', 'http://www.wikidata.org/entity/Q244'), ('oname', 'Barbados')]\n",
      "[('p', 'http://www.wikidata.org/prop/direct/P150'), ('pname', 'contains administrative territorial entity'), ('o', 'http://www.wikidata.org/entity/Q25'), ('oname', 'Wales')]\n",
      "[('p', 'http://www.wikidata.org/prop/direct/P530'), ('pname', 'diplomatic relation'), ('o', 'http://www.wikidata.org/entity/Q252'), ('oname', 'Indonesia')]\n",
      "[('p', 'http://www.wikidata.org/prop/direct/P530'), ('pname', 'diplomatic relation'), ('o', 'http://www.wikidata.org/entity/Q258'), ('oname', 'South Africa')]\n",
      "[('p', 'http://www.wikidata.org/prop/direct/P150'), ('pname', 'contains administrative territorial entity'), ('o', 'http://www.wikidata.org/entity/Q26'), ('oname', 'Northern Ireland')]\n",
      "[('p', 'http://www.wikidata.org/prop/direct/P530'), ('pname', 'diplomatic relation'), ('o', 'http://www.wikidata.org/entity/Q265'), ('oname', 'Uzbekistan')]\n",
      "[('p', 'http://www.wikidata.org/prop/direct/P47'), ('pname', 'shares border with'), ('o', 'http://www.wikidata.org/entity/Q27'), ('oname', 'Ireland')]\n",
      "[('p', 'http://www.wikidata.org/prop/direct/P530'), ('pname', 'diplomatic relation'), ('o', 'http://www.wikidata.org/entity/Q27'), ('oname', 'Ireland')]\n",
      "[('p', 'http://www.wikidata.org/prop/direct/P463'), ('pname', 'member of'), ('o', 'http://www.wikidata.org/entity/Q277252'), ('oname', 'Southeast Asia Treaty Organization')]\n",
      "[('p', 'http://www.wikidata.org/prop/direct/P530'), ('pname', 'diplomatic relation'), ('o', 'http://www.wikidata.org/entity/Q28'), ('oname', 'Hungary')]\n"
     ]
    },
    {
     "data": {
      "text/plain": [
       "100"
      ]
     },
     "execution_count": 4,
     "metadata": {},
     "output_type": "execute_result"
    }
   ],
   "source": [
    "queryString=\"\"\"\n",
    "SELECT DISTINCT ?p ?pname ?o ?oname WHERE { \n",
    "\n",
    "wd:Q145 ?p ?o.\n",
    "?p <http://schema.org/name> ?pname.\n",
    "?o <http://schema.org/name> ?oname.\n",
    "} \n",
    "LIMIT 100\n",
    "\"\"\"\n",
    "print(\"Results\")\n",
    "run_query(queryString)"
   ]
  },
  {
   "cell_type": "markdown",
   "id": "ea7e43d4-033d-49ec-a9ce-4d15afe92c76",
   "metadata": {},
   "source": [
    "Retrieve what United Kingdom is an instance of."
   ]
  },
  {
   "cell_type": "code",
   "execution_count": 5,
   "id": "aacee1fc-0c63-41c1-b978-f934aa48ab66",
   "metadata": {},
   "outputs": [
    {
     "name": "stdout",
     "output_type": "stream",
     "text": [
      "Results\n",
      "[('instanceOf', 'http://www.wikidata.org/entity/Q112099'), ('iname', 'island nation')]\n",
      "[('instanceOf', 'http://www.wikidata.org/entity/Q20181813'), ('iname', 'colonial power')]\n",
      "[('instanceOf', 'http://www.wikidata.org/entity/Q3624078'), ('iname', 'sovereign state')]\n",
      "[('instanceOf', 'http://www.wikidata.org/entity/Q6256'), ('iname', 'country')]\n",
      "[('instanceOf', 'http://www.wikidata.org/entity/Q202686'), ('iname', 'Commonwealth realm')]\n"
     ]
    },
    {
     "data": {
      "text/plain": [
       "5"
      ]
     },
     "execution_count": 5,
     "metadata": {},
     "output_type": "execute_result"
    }
   ],
   "source": [
    "queryString=\"\"\"\n",
    "SELECT DISTINCT ?instanceOf ?iname WHERE { \n",
    "\n",
    "wd:Q145 wdt:P31 ?instanceOf.\n",
    "?instanceOf <http://schema.org/name> ?iname.\n",
    "\n",
    "} \n",
    "LIMIT 100\n",
    "\"\"\"\n",
    "print(\"Results\")\n",
    "run_query(queryString)"
   ]
  },
  {
   "cell_type": "markdown",
   "id": "6349bb34-6a45-4744-8817-87e6a6f14a63",
   "metadata": {},
   "source": [
    "Check UK's form of government"
   ]
  },
  {
   "cell_type": "code",
   "execution_count": 6,
   "id": "ee07d5f6-973f-4ba9-bd10-aa3fcfc8ad74",
   "metadata": {},
   "outputs": [
    {
     "name": "stdout",
     "output_type": "stream",
     "text": [
      "Results\n",
      "[('gov', 'http://www.wikidata.org/entity/Q41614'), ('gname', 'constitutional monarchy')]\n"
     ]
    },
    {
     "data": {
      "text/plain": [
       "1"
      ]
     },
     "execution_count": 6,
     "metadata": {},
     "output_type": "execute_result"
    }
   ],
   "source": [
    "queryString=\"\"\"\n",
    "SELECT DISTINCT ?gov ?gname WHERE { \n",
    "\n",
    "wd:Q145 wdt:P122 ?gov.\n",
    "?gov <http://schema.org/name> ?gname.\n",
    "\n",
    "} \n",
    "\"\"\"\n",
    "print(\"Results\")\n",
    "run_query(queryString)"
   ]
  },
  {
   "cell_type": "markdown",
   "id": "68067cbc-9fa5-4a28-9320-c7b0bb803471",
   "metadata": {
    "tags": []
   },
   "source": [
    "#### Italy"
   ]
  },
  {
   "cell_type": "markdown",
   "id": "6a37dbf2-e8fd-4849-9e76-1325174a6037",
   "metadata": {},
   "source": [
    "Retrieve Italy's form of government to see if we only get the current form of governement or a list of previous forms. "
   ]
  },
  {
   "cell_type": "code",
   "execution_count": 7,
   "id": "20a9fdf9-f564-4d6f-9a08-288d67a6885e",
   "metadata": {},
   "outputs": [
    {
     "name": "stdout",
     "output_type": "stream",
     "text": [
      "Results\n",
      "[('gov', 'http://www.wikidata.org/entity/Q4198907'), ('gname', 'parliamentary republic'), ('instanceOf', 'http://www.wikidata.org/entity/Q1307214'), ('iname', 'form of government')]\n"
     ]
    },
    {
     "data": {
      "text/plain": [
       "1"
      ]
     },
     "execution_count": 7,
     "metadata": {},
     "output_type": "execute_result"
    }
   ],
   "source": [
    "queryString=\"\"\"\n",
    "SELECT DISTINCT ?gov ?gname ?instanceOf ?iname WHERE { \n",
    "\n",
    "wd:Q38 wdt:P122 ?gov.\n",
    "?gov <http://schema.org/name> ?gname.\n",
    "?gov wdt:P31 ?instanceOf.\n",
    "?instanceOf <http://schema.org/name> ?iname.\n",
    "\n",
    "} \n",
    "\"\"\"\n",
    "print(\"Results\")\n",
    "run_query(queryString)"
   ]
  },
  {
   "cell_type": "markdown",
   "id": "dbfbfa9f-1f08-4b5b-8588-9bdec1d96e29",
   "metadata": {},
   "source": [
    "It is known that Italy was a monarchy until 1946 therefore I look for the information about the replacement of the monarchy in Italy. Firstly I check if there are other predicates connected to the node Italy that have objects that are instance of 'form of government' (wd:Q1307214) that may resemble past forms of government"
   ]
  },
  {
   "cell_type": "code",
   "execution_count": 8,
   "id": "3114b4e2-7a3a-4466-b08b-161d7a6b113b",
   "metadata": {},
   "outputs": [
    {
     "name": "stdout",
     "output_type": "stream",
     "text": [
      "Results\n",
      "[('p', 'http://www.wikidata.org/prop/direct/P122'), ('pname', 'basic form of government'), ('o', 'http://www.wikidata.org/entity/Q4198907'), ('oname', 'parliamentary republic')]\n"
     ]
    },
    {
     "data": {
      "text/plain": [
       "1"
      ]
     },
     "execution_count": 8,
     "metadata": {},
     "output_type": "execute_result"
    }
   ],
   "source": [
    "queryString=\"\"\"\n",
    "SELECT DISTINCT ?p ?pname ?o ?oname WHERE { \n",
    "\n",
    "wd:Q38 ?p ?o.\n",
    "?o wdt:P31 wd:Q1307214.\n",
    "\n",
    "?p <http://schema.org/name> ?pname.\n",
    "?o <http://schema.org/name> ?oname.\n",
    "\n",
    "} \n",
    "LIMIT 100\n",
    "\"\"\"\n",
    "print(\"Results\")\n",
    "run_query(queryString)"
   ]
  },
  {
   "cell_type": "markdown",
   "id": "79f87984-10d1-4992-950e-c87aaad3f1ac",
   "metadata": {},
   "source": [
    "List countries that are some instance of monarchy that could be Italy"
   ]
  },
  {
   "cell_type": "code",
   "execution_count": 9,
   "id": "710aef97-33a4-48b0-acc7-7a64cae32ea5",
   "metadata": {},
   "outputs": [
    {
     "name": "stdout",
     "output_type": "stream",
     "text": [
      "Results\n",
      "[('p', 'http://www.wikidata.org/entity/Q223936'), ('pname', 'Kingdom of Italy')]\n",
      "[('p', 'http://www.wikidata.org/entity/Q172579'), ('pname', 'Kingdom of Italy')]\n",
      "[('p', 'http://www.wikidata.org/entity/Q3755547'), ('pname', 'Kingdom of Italy')]\n"
     ]
    },
    {
     "data": {
      "text/plain": [
       "3"
      ]
     },
     "execution_count": 9,
     "metadata": {},
     "output_type": "execute_result"
    }
   ],
   "source": [
    "queryString=\"\"\"\n",
    "SELECT DISTINCT ?p ?pname WHERE { \n",
    "\n",
    "?p (wdt:P31|wdt:P122)/wdt:P279* wd:Q7269;\n",
    "    <http://schema.org/name> ?pname.\n",
    "FILTER(REGEX(?pname, \".*[I,i]taly.*\"))\n",
    "} \n",
    "\"\"\"\n",
    "print(\"Results\")\n",
    "run_query(queryString)"
   ]
  },
  {
   "cell_type": "markdown",
   "id": "b8620145-d768-4bfb-8f29-5d6ec86bb9ac",
   "metadata": {},
   "source": [
    "List predicates associated to the above entities"
   ]
  },
  {
   "cell_type": "code",
   "execution_count": 10,
   "id": "1b0bc15f-6f2a-46fa-af2e-9c063defab34",
   "metadata": {},
   "outputs": [
    {
     "name": "stdout",
     "output_type": "stream",
     "text": [
      "Results\n",
      "[('p', 'http://www.wikidata.org/prop/direct/P122'), ('pname', 'basic form of government'), ('o', 'http://www.wikidata.org/entity/Q3330103'), ('oname', 'parliamentary monarchy')]\n",
      "[('p', 'http://www.wikidata.org/prop/direct/P122'), ('pname', 'basic form of government'), ('o', 'http://www.wikidata.org/entity/Q41614'), ('oname', 'constitutional monarchy')]\n",
      "[('p', 'http://www.wikidata.org/prop/direct/P122'), ('pname', 'basic form of government'), ('o', 'http://www.wikidata.org/entity/Q7269'), ('oname', 'monarchy')]\n",
      "[('p', 'http://www.wikidata.org/prop/direct/P1344'), ('pname', 'participant in'), ('o', 'http://www.wikidata.org/entity/Q65132216'), ('oname', 'Battle of Cecina')]\n",
      "[('p', 'http://www.wikidata.org/prop/direct/P1365'), ('pname', 'replaces'), ('o', 'http://www.wikidata.org/entity/Q548114'), ('oname', 'Free State of Fiume')]\n",
      "[('p', 'http://www.wikidata.org/prop/direct/P1365'), ('pname', 'replaces'), ('o', 'http://www.wikidata.org/entity/Q268970'), ('oname', 'Republic of German-Austria')]\n",
      "[('p', 'http://www.wikidata.org/prop/direct/P1365'), ('pname', 'replaces'), ('o', 'http://www.wikidata.org/entity/Q165154'), ('oname', 'Kingdom of Sardinia')]\n",
      "[('p', 'http://www.wikidata.org/prop/direct/P1365'), ('pname', 'replaces'), ('o', 'http://www.wikidata.org/entity/Q180393'), ('oname', 'Kingdom of the Two Sicilies')]\n",
      "[('p', 'http://www.wikidata.org/prop/direct/P1365'), ('pname', 'replaces'), ('o', 'http://www.wikidata.org/entity/Q6006584'), ('oname', 'Imperial Free City of Trieste')]\n",
      "[('p', 'http://www.wikidata.org/prop/direct/P1366'), ('pname', 'replaced by'), ('o', 'http://www.wikidata.org/entity/Q583038'), ('oname', 'Ostrogothic Kingdom')]\n",
      "[('p', 'http://www.wikidata.org/prop/direct/P1366'), ('pname', 'replaced by'), ('o', 'http://www.wikidata.org/entity/Q38'), ('oname', 'Italy')]\n",
      "[('p', 'http://www.wikidata.org/prop/direct/P1366'), ('pname', 'replaced by'), ('o', 'http://www.wikidata.org/entity/Q48742118'), ('oname', 'Kingdom of Italy under Fascism')]\n",
      "[('p', 'http://www.wikidata.org/prop/direct/P140'), ('pname', 'religion'), ('o', 'http://www.wikidata.org/entity/Q9592'), ('oname', 'Catholic Church')]\n",
      "[('p', 'http://www.wikidata.org/prop/direct/P155'), ('pname', 'follows'), ('o', 'http://www.wikidata.org/entity/Q209857'), ('oname', 'Kingdom of Lombardy–Venetia')]\n",
      "[('p', 'http://www.wikidata.org/prop/direct/P155'), ('pname', 'follows'), ('o', 'http://www.wikidata.org/entity/Q723118'), ('oname', 'Italian Republic')]\n",
      "[('p', 'http://www.wikidata.org/prop/direct/P155'), ('pname', 'follows'), ('o', 'http://www.wikidata.org/entity/Q131964'), ('oname', 'Austrian Empire')]\n",
      "[('p', 'http://www.wikidata.org/prop/direct/P155'), ('pname', 'follows'), ('o', 'http://www.wikidata.org/entity/Q170174'), ('oname', 'Papal States')]\n",
      "[('p', 'http://www.wikidata.org/prop/direct/P155'), ('pname', 'follows'), ('o', 'http://www.wikidata.org/entity/Q165154'), ('oname', 'Kingdom of Sardinia')]\n",
      "[('p', 'http://www.wikidata.org/prop/direct/P155'), ('pname', 'follows'), ('o', 'http://www.wikidata.org/entity/Q180393'), ('oname', 'Kingdom of the Two Sicilies')]\n",
      "[('p', 'http://www.wikidata.org/prop/direct/P156'), ('pname', 'followed by'), ('o', 'http://www.wikidata.org/entity/Q38'), ('oname', 'Italy')]\n",
      "[('p', 'http://www.wikidata.org/prop/direct/P163'), ('pname', 'flag'), ('o', 'http://www.wikidata.org/entity/Q42876'), ('oname', 'flag of Italy')]\n",
      "[('p', 'http://www.wikidata.org/prop/direct/P17'), ('pname', 'country'), ('o', 'http://www.wikidata.org/entity/Q223936'), ('oname', 'Kingdom of Italy')]\n",
      "[('p', 'http://www.wikidata.org/prop/direct/P17'), ('pname', 'country'), ('o', 'http://www.wikidata.org/entity/Q172579'), ('oname', 'Kingdom of Italy')]\n",
      "[('p', 'http://www.wikidata.org/prop/direct/P1830'), ('pname', 'owner of'), ('o', 'http://www.wikidata.org/entity/Q5502016'), ('oname', 'French brig Mercure')]\n",
      "[('p', 'http://www.wikidata.org/prop/direct/P1889'), ('pname', 'different from'), ('o', 'http://www.wikidata.org/entity/Q1098499'), ('oname', 'Kingdom of Italy')]\n",
      "[('p', 'http://www.wikidata.org/prop/direct/P1906'), ('pname', 'office held by head of state'), ('o', 'http://www.wikidata.org/entity/Q271148'), ('oname', 'monarch of Italy')]\n",
      "[('p', 'http://www.wikidata.org/prop/direct/P237'), ('pname', 'coat of arms'), ('o', 'http://www.wikidata.org/entity/Q199432'), ('oname', 'emblem of Italy')]\n",
      "[('p', 'http://www.wikidata.org/prop/direct/P2936'), ('pname', 'language used'), ('o', 'http://www.wikidata.org/entity/Q37560'), ('oname', 'Vulgar Latin')]\n",
      "[('p', 'http://www.wikidata.org/prop/direct/P2936'), ('pname', 'language used'), ('o', 'http://www.wikidata.org/entity/Q652'), ('oname', 'Italian')]\n",
      "[('p', 'http://www.wikidata.org/prop/direct/P30'), ('pname', 'continent'), ('o', 'http://www.wikidata.org/entity/Q46'), ('oname', 'Europe')]\n",
      "[('p', 'http://www.wikidata.org/prop/direct/P3075'), ('pname', 'official religion'), ('o', 'http://www.wikidata.org/entity/Q1841'), ('oname', 'Catholicism')]\n",
      "[('p', 'http://www.wikidata.org/prop/direct/P31'), ('pname', 'instance of'), ('o', 'http://www.wikidata.org/entity/Q1250464'), ('oname', 'realm')]\n",
      "[('p', 'http://www.wikidata.org/prop/direct/P31'), ('pname', 'instance of'), ('o', 'http://www.wikidata.org/entity/Q3024240'), ('oname', 'historical country')]\n",
      "[('p', 'http://www.wikidata.org/prop/direct/P31'), ('pname', 'instance of'), ('o', 'http://www.wikidata.org/entity/Q1371288'), ('oname', 'vassal state')]\n",
      "[('p', 'http://www.wikidata.org/prop/direct/P35'), ('pname', 'head of state'), ('o', 'http://www.wikidata.org/entity/Q168691'), ('oname', 'Victor Emmanuel II of Savoy')]\n",
      "[('p', 'http://www.wikidata.org/prop/direct/P35'), ('pname', 'head of state'), ('o', 'http://www.wikidata.org/entity/Q187149'), ('oname', 'Umberto II of Italy')]\n",
      "[('p', 'http://www.wikidata.org/prop/direct/P35'), ('pname', 'head of state'), ('o', 'http://www.wikidata.org/entity/Q153688'), ('oname', 'Umberto I of Italy')]\n",
      "[('p', 'http://www.wikidata.org/prop/direct/P35'), ('pname', 'head of state'), ('o', 'http://www.wikidata.org/entity/Q150642'), ('oname', 'Vittorio Emanuele III')]\n",
      "[('p', 'http://www.wikidata.org/prop/direct/P35'), ('pname', 'head of state'), ('o', 'http://www.wikidata.org/entity/Q103333'), ('oname', 'Odoacer')]\n",
      "[('p', 'http://www.wikidata.org/prop/direct/P36'), ('pname', 'capital'), ('o', 'http://www.wikidata.org/entity/Q2044'), ('oname', 'Florence')]\n",
      "[('p', 'http://www.wikidata.org/prop/direct/P36'), ('pname', 'capital'), ('o', 'http://www.wikidata.org/entity/Q220'), ('oname', 'Rome')]\n",
      "[('p', 'http://www.wikidata.org/prop/direct/P36'), ('pname', 'capital'), ('o', 'http://www.wikidata.org/entity/Q490'), ('oname', 'Milan')]\n",
      "[('p', 'http://www.wikidata.org/prop/direct/P36'), ('pname', 'capital'), ('o', 'http://www.wikidata.org/entity/Q495'), ('oname', 'Turin')]\n",
      "[('p', 'http://www.wikidata.org/prop/direct/P36'), ('pname', 'capital'), ('o', 'http://www.wikidata.org/entity/Q13364'), ('oname', 'Ravenna')]\n",
      "[('p', 'http://www.wikidata.org/prop/direct/P361'), ('pname', 'part of'), ('o', 'http://www.wikidata.org/entity/Q215669'), ('oname', 'Allies of the First World War')]\n",
      "[('p', 'http://www.wikidata.org/prop/direct/P361'), ('pname', 'part of'), ('o', 'http://www.wikidata.org/entity/Q153867'), ('oname', 'Triple Alliance')]\n",
      "[('p', 'http://www.wikidata.org/prop/direct/P37'), ('pname', 'official language'), ('o', 'http://www.wikidata.org/entity/Q150'), ('oname', 'French')]\n",
      "[('p', 'http://www.wikidata.org/prop/direct/P37'), ('pname', 'official language'), ('o', 'http://www.wikidata.org/entity/Q397'), ('oname', 'Latin')]\n",
      "[('p', 'http://www.wikidata.org/prop/direct/P37'), ('pname', 'official language'), ('o', 'http://www.wikidata.org/entity/Q652'), ('oname', 'Italian')]\n",
      "[('p', 'http://www.wikidata.org/prop/direct/P38'), ('pname', 'currency'), ('o', 'http://www.wikidata.org/entity/Q231455'), ('oname', 'solidus')]\n",
      "[('p', 'http://www.wikidata.org/prop/direct/P38'), ('pname', 'currency'), ('o', 'http://www.wikidata.org/entity/Q204992'), ('oname', 'Italian lira')]\n",
      "[('p', 'http://www.wikidata.org/prop/direct/P463'), ('pname', 'member of'), ('o', 'http://www.wikidata.org/entity/Q38130'), ('oname', 'League of Nations')]\n",
      "[('p', 'http://www.wikidata.org/prop/direct/P47'), ('pname', 'shares border with'), ('o', 'http://www.wikidata.org/entity/Q176495'), ('oname', 'Federal State of Austria')]\n",
      "[('p', 'http://www.wikidata.org/prop/direct/P47'), ('pname', 'shares border with'), ('o', 'http://www.wikidata.org/entity/Q518101'), ('oname', 'First Republic of Austria')]\n",
      "[('p', 'http://www.wikidata.org/prop/direct/P47'), ('pname', 'shares border with'), ('o', 'http://www.wikidata.org/entity/Q131964'), ('oname', 'Austrian Empire')]\n",
      "[('p', 'http://www.wikidata.org/prop/direct/P47'), ('pname', 'shares border with'), ('o', 'http://www.wikidata.org/entity/Q28513'), ('oname', 'Austria-Hungary')]\n",
      "[('p', 'http://www.wikidata.org/prop/direct/P47'), ('pname', 'shares border with'), ('o', 'http://www.wikidata.org/entity/Q1277557'), ('oname', 'Democratic Federal Yugoslavia')]\n",
      "[('p', 'http://www.wikidata.org/prop/direct/P793'), ('pname', 'significant event'), ('o', 'http://www.wikidata.org/entity/Q3922436'), ('oname', 'Proclamation of the Kingdom of Italy')]\n",
      "[('p', 'http://www.wikidata.org/prop/direct/P910'), ('pname', \"topic's main category\"), ('o', 'http://www.wikidata.org/entity/Q9596399'), ('oname', 'Category:Kingdom of Italy (Napoleonic)')]\n",
      "[('p', 'http://www.wikidata.org/prop/direct/P910'), ('pname', \"topic's main category\"), ('o', 'http://www.wikidata.org/entity/Q8574257'), ('oname', 'Category:Kingdom of Italy (1861–1946)')]\n"
     ]
    },
    {
     "data": {
      "text/plain": [
       "60"
      ]
     },
     "execution_count": 10,
     "metadata": {},
     "output_type": "execute_result"
    }
   ],
   "source": [
    "queryString=\"\"\"\n",
    "SELECT DISTINCT ?p ?pname ?o ?oname WHERE{\n",
    "?italy ?p ?o.\n",
    "?p <http://schema.org/name> ?pname.\n",
    "?o <http://schema.org/name> ?oname.\n",
    "\n",
    "{ SELECT DISTINCT ?italy WHERE { \n",
    "\n",
    "?italy (wdt:P31|wdt:P122)/wdt:P279* wd:Q7269;\n",
    "    <http://schema.org/name> ?pname.\n",
    "FILTER(REGEX(?pname, \".*[I,i]taly.*\"))\n",
    "} } \n",
    "\n",
    "}\n",
    "LIMIT 100\n",
    "\"\"\"\n",
    "print(\"Results\")\n",
    "run_query(queryString)"
   ]
  },
  {
   "cell_type": "markdown",
   "id": "c86442eb-bb8a-4e0a-9f10-3bcc213bb2e5",
   "metadata": {},
   "source": [
    "Looks like each of these nodes have a 'replaced by' (wdt:P1366) as predicate. Check it with an ask query where I look if there exist one node where there is no triple ?italy wdt:P1366 ?o. If the answer is false then for each of the node there exists a triple with the predicate replaced by."
   ]
  },
  {
   "cell_type": "code",
   "execution_count": 13,
   "id": "1eff19ef-6464-473d-bbde-582e46658b03",
   "metadata": {},
   "outputs": [
    {
     "name": "stdout",
     "output_type": "stream",
     "text": [
      "Results\n"
     ]
    },
    {
     "data": {
      "text/plain": [
       "{'head': {'link': []}, 'boolean': True}"
      ]
     },
     "execution_count": 13,
     "metadata": {},
     "output_type": "execute_result"
    }
   ],
   "source": [
    "queryString=\"\"\"\n",
    "ASK WHERE{\n",
    "\n",
    "FILTER NOT EXISTS{?italy wdt:P1366 ?o.}\n",
    "\n",
    "{ SELECT DISTINCT ?italy WHERE { \n",
    "\n",
    "?italy (wdt:P31|wdt:P122)/wdt:P279* wd:Q7269;\n",
    "    <http://schema.org/name> ?pname.\n",
    "FILTER(REGEX(?pname, \".*[I,i]taly.*\"))\n",
    "} } \n",
    "\n",
    "}\n",
    "\"\"\"\n",
    "print(\"Results\")\n",
    "run_ask_query(queryString)"
   ]
  },
  {
   "cell_type": "markdown",
   "id": "ffd0eb86-35d1-4bd6-b94e-4c4f32b8f7dd",
   "metadata": {},
   "source": [
    "As expected all three entities resembling Italy have the property \"replaced by\" (wdt:P1366). Just out of curiosity, list the triple with the predicate replaced by."
   ]
  },
  {
   "cell_type": "code",
   "execution_count": 12,
   "id": "7ad5fc53-dfc3-44c8-966d-a5688aefcfe4",
   "metadata": {},
   "outputs": [
    {
     "name": "stdout",
     "output_type": "stream",
     "text": [
      "Results\n",
      "[('italy', 'http://www.wikidata.org/entity/Q3755547'), ('iname', 'Kingdom of Italy'), ('pname', 'replaced by'), ('o', 'http://www.wikidata.org/entity/Q583038'), ('oname', 'Ostrogothic Kingdom')]\n",
      "[('italy', 'http://www.wikidata.org/entity/Q172579'), ('iname', 'Kingdom of Italy'), ('pname', 'replaced by'), ('o', 'http://www.wikidata.org/entity/Q38'), ('oname', 'Italy')]\n",
      "[('italy', 'http://www.wikidata.org/entity/Q172579'), ('iname', 'Kingdom of Italy'), ('pname', 'replaced by'), ('o', 'http://www.wikidata.org/entity/Q48742118'), ('oname', 'Kingdom of Italy under Fascism')]\n"
     ]
    },
    {
     "data": {
      "text/plain": [
       "3"
      ]
     },
     "execution_count": 12,
     "metadata": {},
     "output_type": "execute_result"
    }
   ],
   "source": [
    "queryString=\"\"\"\n",
    "SELECT DISTINCT ?italy ?iname ?p ?pname ?o ?oname WHERE{\n",
    "?italy wdt:P1366 ?o.\n",
    "wdt:P1366 <http://schema.org/name> ?pname.\n",
    "?o <http://schema.org/name> ?oname.\n",
    "\n",
    "{ SELECT DISTINCT ?italy ?iname WHERE { \n",
    "\n",
    "?italy (wdt:P31|wdt:P122)/wdt:P279* wd:Q7269;\n",
    "    <http://schema.org/name> ?iname.\n",
    "FILTER(REGEX(?iname, \".*[I,i]taly.*\"))\n",
    "} } \n",
    "\n",
    "}\n",
    "\"\"\"\n",
    "print(\"Results\")\n",
    "run_query(queryString)"
   ]
  },
  {
   "cell_type": "markdown",
   "id": "f859f238-8679-49b4-b8ca-b5725ecbe7af",
   "metadata": {},
   "source": [
    "List all triples where Kingdom of Italy (wd:Q172579) is the subject to retrieve relevant predicates."
   ]
  },
  {
   "cell_type": "code",
   "execution_count": 14,
   "id": "7dc1c90e-217f-4a29-88cc-52c7229282af",
   "metadata": {},
   "outputs": [
    {
     "name": "stdout",
     "output_type": "stream",
     "text": [
      "Results\n",
      "[('p', 'http://www.wikidata.org/prop/direct/P155'), ('pname', 'follows'), ('o', 'http://www.wikidata.org/entity/Q209857'), ('oname', 'Kingdom of Lombardy–Venetia')]\n",
      "[('p', 'http://www.wikidata.org/prop/direct/P1365'), ('pname', 'replaces'), ('o', 'http://www.wikidata.org/entity/Q548114'), ('oname', 'Free State of Fiume')]\n",
      "[('p', 'http://www.wikidata.org/prop/direct/P163'), ('pname', 'flag'), ('o', 'http://www.wikidata.org/entity/Q42876'), ('oname', 'flag of Italy')]\n",
      "[('p', 'http://www.wikidata.org/prop/direct/P1365'), ('pname', 'replaces'), ('o', 'http://www.wikidata.org/entity/Q268970'), ('oname', 'Republic of German-Austria')]\n",
      "[('p', 'http://www.wikidata.org/prop/direct/P793'), ('pname', 'significant event'), ('o', 'http://www.wikidata.org/entity/Q3922436'), ('oname', 'Proclamation of the Kingdom of Italy')]\n",
      "[('p', 'http://www.wikidata.org/prop/direct/P463'), ('pname', 'member of'), ('o', 'http://www.wikidata.org/entity/Q38130'), ('oname', 'League of Nations')]\n",
      "[('p', 'http://www.wikidata.org/prop/direct/P17'), ('pname', 'country'), ('o', 'http://www.wikidata.org/entity/Q172579'), ('oname', 'Kingdom of Italy')]\n",
      "[('p', 'http://www.wikidata.org/prop/direct/P47'), ('pname', 'shares border with'), ('o', 'http://www.wikidata.org/entity/Q176495'), ('oname', 'Federal State of Austria')]\n",
      "[('p', 'http://www.wikidata.org/prop/direct/P3075'), ('pname', 'official religion'), ('o', 'http://www.wikidata.org/entity/Q1841'), ('oname', 'Catholicism')]\n",
      "[('p', 'http://www.wikidata.org/prop/direct/P36'), ('pname', 'capital'), ('o', 'http://www.wikidata.org/entity/Q2044'), ('oname', 'Florence')]\n",
      "[('p', 'http://www.wikidata.org/prop/direct/P361'), ('pname', 'part of'), ('o', 'http://www.wikidata.org/entity/Q215669'), ('oname', 'Allies of the First World War')]\n",
      "[('p', 'http://www.wikidata.org/prop/direct/P36'), ('pname', 'capital'), ('o', 'http://www.wikidata.org/entity/Q220'), ('oname', 'Rome')]\n",
      "[('p', 'http://www.wikidata.org/prop/direct/P31'), ('pname', 'instance of'), ('o', 'http://www.wikidata.org/entity/Q3024240'), ('oname', 'historical country')]\n",
      "[('p', 'http://www.wikidata.org/prop/direct/P122'), ('pname', 'basic form of government'), ('o', 'http://www.wikidata.org/entity/Q3330103'), ('oname', 'parliamentary monarchy')]\n",
      "[('p', 'http://www.wikidata.org/prop/direct/P1366'), ('pname', 'replaced by'), ('o', 'http://www.wikidata.org/entity/Q38'), ('oname', 'Italy')]\n",
      "[('p', 'http://www.wikidata.org/prop/direct/P156'), ('pname', 'followed by'), ('o', 'http://www.wikidata.org/entity/Q38'), ('oname', 'Italy')]\n",
      "[('p', 'http://www.wikidata.org/prop/direct/P122'), ('pname', 'basic form of government'), ('o', 'http://www.wikidata.org/entity/Q41614'), ('oname', 'constitutional monarchy')]\n",
      "[('p', 'http://www.wikidata.org/prop/direct/P30'), ('pname', 'continent'), ('o', 'http://www.wikidata.org/entity/Q46'), ('oname', 'Europe')]\n",
      "[('p', 'http://www.wikidata.org/prop/direct/P36'), ('pname', 'capital'), ('o', 'http://www.wikidata.org/entity/Q495'), ('oname', 'Turin')]\n",
      "[('p', 'http://www.wikidata.org/prop/direct/P47'), ('pname', 'shares border with'), ('o', 'http://www.wikidata.org/entity/Q518101'), ('oname', 'First Republic of Austria')]\n",
      "[('p', 'http://www.wikidata.org/prop/direct/P1344'), ('pname', 'participant in'), ('o', 'http://www.wikidata.org/entity/Q65132216'), ('oname', 'Battle of Cecina')]\n",
      "[('p', 'http://www.wikidata.org/prop/direct/P2936'), ('pname', 'language used'), ('o', 'http://www.wikidata.org/entity/Q652'), ('oname', 'Italian')]\n",
      "[('p', 'http://www.wikidata.org/prop/direct/P37'), ('pname', 'official language'), ('o', 'http://www.wikidata.org/entity/Q652'), ('oname', 'Italian')]\n",
      "[('p', 'http://www.wikidata.org/prop/direct/P155'), ('pname', 'follows'), ('o', 'http://www.wikidata.org/entity/Q131964'), ('oname', 'Austrian Empire')]\n",
      "[('p', 'http://www.wikidata.org/prop/direct/P47'), ('pname', 'shares border with'), ('o', 'http://www.wikidata.org/entity/Q131964'), ('oname', 'Austrian Empire')]\n",
      "[('p', 'http://www.wikidata.org/prop/direct/P47'), ('pname', 'shares border with'), ('o', 'http://www.wikidata.org/entity/Q28513'), ('oname', 'Austria-Hungary')]\n",
      "[('p', 'http://www.wikidata.org/prop/direct/P35'), ('pname', 'head of state'), ('o', 'http://www.wikidata.org/entity/Q168691'), ('oname', 'Victor Emmanuel II of Savoy')]\n",
      "[('p', 'http://www.wikidata.org/prop/direct/P155'), ('pname', 'follows'), ('o', 'http://www.wikidata.org/entity/Q170174'), ('oname', 'Papal States')]\n",
      "[('p', 'http://www.wikidata.org/prop/direct/P35'), ('pname', 'head of state'), ('o', 'http://www.wikidata.org/entity/Q187149'), ('oname', 'Umberto II of Italy')]\n",
      "[('p', 'http://www.wikidata.org/prop/direct/P47'), ('pname', 'shares border with'), ('o', 'http://www.wikidata.org/entity/Q1277557'), ('oname', 'Democratic Federal Yugoslavia')]\n",
      "[('p', 'http://www.wikidata.org/prop/direct/P1365'), ('pname', 'replaces'), ('o', 'http://www.wikidata.org/entity/Q165154'), ('oname', 'Kingdom of Sardinia')]\n",
      "[('p', 'http://www.wikidata.org/prop/direct/P155'), ('pname', 'follows'), ('o', 'http://www.wikidata.org/entity/Q165154'), ('oname', 'Kingdom of Sardinia')]\n",
      "[('p', 'http://www.wikidata.org/prop/direct/P38'), ('pname', 'currency'), ('o', 'http://www.wikidata.org/entity/Q204992'), ('oname', 'Italian lira')]\n",
      "[('p', 'http://www.wikidata.org/prop/direct/P1365'), ('pname', 'replaces'), ('o', 'http://www.wikidata.org/entity/Q180393'), ('oname', 'Kingdom of the Two Sicilies')]\n",
      "[('p', 'http://www.wikidata.org/prop/direct/P155'), ('pname', 'follows'), ('o', 'http://www.wikidata.org/entity/Q180393'), ('oname', 'Kingdom of the Two Sicilies')]\n",
      "[('p', 'http://www.wikidata.org/prop/direct/P1889'), ('pname', 'different from'), ('o', 'http://www.wikidata.org/entity/Q1098499'), ('oname', 'Kingdom of Italy')]\n",
      "[('p', 'http://www.wikidata.org/prop/direct/P35'), ('pname', 'head of state'), ('o', 'http://www.wikidata.org/entity/Q153688'), ('oname', 'Umberto I of Italy')]\n",
      "[('p', 'http://www.wikidata.org/prop/direct/P35'), ('pname', 'head of state'), ('o', 'http://www.wikidata.org/entity/Q150642'), ('oname', 'Vittorio Emanuele III')]\n",
      "[('p', 'http://www.wikidata.org/prop/direct/P237'), ('pname', 'coat of arms'), ('o', 'http://www.wikidata.org/entity/Q199432'), ('oname', 'emblem of Italy')]\n",
      "[('p', 'http://www.wikidata.org/prop/direct/P1366'), ('pname', 'replaced by'), ('o', 'http://www.wikidata.org/entity/Q48742118'), ('oname', 'Kingdom of Italy under Fascism')]\n",
      "[('p', 'http://www.wikidata.org/prop/direct/P1365'), ('pname', 'replaces'), ('o', 'http://www.wikidata.org/entity/Q6006584'), ('oname', 'Imperial Free City of Trieste')]\n",
      "[('p', 'http://www.wikidata.org/prop/direct/P361'), ('pname', 'part of'), ('o', 'http://www.wikidata.org/entity/Q153867'), ('oname', 'Triple Alliance')]\n",
      "[('p', 'http://www.wikidata.org/prop/direct/P910'), ('pname', \"topic's main category\"), ('o', 'http://www.wikidata.org/entity/Q8574257'), ('oname', 'Category:Kingdom of Italy (1861–1946)')]\n"
     ]
    },
    {
     "data": {
      "text/plain": [
       "43"
      ]
     },
     "execution_count": 14,
     "metadata": {},
     "output_type": "execute_result"
    }
   ],
   "source": [
    "queryString=\"\"\"\n",
    "SELECT DISTINCT ?p ?pname ?o ?oname WHERE{\n",
    "\n",
    "    wd:Q172579 ?p ?o.\n",
    "    ?p <http://schema.org/name> ?pname.\n",
    "    ?o <http://schema.org/name> ?oname.\n",
    "    \n",
    "}\n",
    "\"\"\"\n",
    "print(\"Results\")\n",
    "run_query(queryString)"
   ]
  },
  {
   "cell_type": "markdown",
   "id": "9d92a941-1d6a-43a6-b99c-9550fcd78b5e",
   "metadata": {},
   "source": [
    "Some useful IRI retrieved by the query are:\n",
    "\n",
    "| IRI           | Description   | Role      |\n",
    "| -----------   | -----------   |-----------|\n",
    "| `wdt:P1365`   | replaces   | predicate |\n",
    "| `wdt:P35`     | head of state   | predicate |\n",
    "| `wdt:P36`    | capital      | predicate |\n",
    "| `wdt:P793`     | significant event       | predicate |\n",
    "| `wdt:P910`     | topic's main category   | predicate |\n",
    "| `wdt:P1366`   | replaced by    | predicate |\n",
    "| `wdt:P156`   | followed by    | predicate |\n",
    "| `wdt:P30` | continent | predicate |\n",
    "| `wd:Q8574257` | Category:Kingdom of Italy (1861–1946) | node |\n"
   ]
  },
  {
   "cell_type": "markdown",
   "id": "79fe155a-10cc-48f7-b5ba-2d535a5873c4",
   "metadata": {},
   "source": [
    "List predicates of Kingdom of Italy (1861-1946) (wd:Q8574257) to see if we have some interesting information there."
   ]
  },
  {
   "cell_type": "code",
   "execution_count": 15,
   "id": "a1bfa19d-0f91-487b-aa2c-8b2292120c7b",
   "metadata": {},
   "outputs": [
    {
     "name": "stdout",
     "output_type": "stream",
     "text": [
      "Results\n",
      "[('p', 'http://www.wikidata.org/prop/direct/P301'), ('pname', \"category's main topic\"), ('o', 'http://www.wikidata.org/entity/Q172579'), ('oname', 'Kingdom of Italy')]\n",
      "[('p', 'http://www.wikidata.org/prop/direct/P31'), ('pname', 'instance of'), ('o', 'http://www.wikidata.org/entity/Q4167836'), ('oname', 'Wikimedia category')]\n"
     ]
    },
    {
     "data": {
      "text/plain": [
       "2"
      ]
     },
     "execution_count": 15,
     "metadata": {},
     "output_type": "execute_result"
    }
   ],
   "source": [
    "queryString=\"\"\"\n",
    "SELECT DISTINCT ?p ?pname ?o ?oname WHERE{\n",
    "\n",
    "    wd:Q8574257 ?p ?o.\n",
    "    ?p <http://schema.org/name> ?pname.\n",
    "    ?o <http://schema.org/name> ?oname.\n",
    "    \n",
    "}\n",
    "\"\"\"\n",
    "print(\"Results\")\n",
    "run_query(queryString)"
   ]
  },
  {
   "cell_type": "markdown",
   "id": "b7c52b27-9ab9-4f3f-8a92-29f4a1a89ce9",
   "metadata": {},
   "source": [
    "This query retrieved no useful information."
   ]
  },
  {
   "cell_type": "markdown",
   "id": "b5ea7c13-3869-4f99-92a6-a320cff2747c",
   "metadata": {
    "tags": []
   },
   "source": [
    "### MONARCHIES REPLACED BY SOME OTHER STATES"
   ]
  },
  {
   "cell_type": "markdown",
   "id": "09f24018-59e8-4268-ab2d-4479d17e652d",
   "metadata": {},
   "source": [
    "From the previous findings I can retrieve states that were monarchies but have been replaced by some other states by filtering the countries that are some instance of monarchy where there exists a triple of the type ?country wdt:P1366 ?obejct. In the following query I list all former monarchies and the relative country that replaced them."
   ]
  },
  {
   "cell_type": "code",
   "execution_count": 16,
   "id": "08697536-47bd-404f-bde5-39950bcdce4b",
   "metadata": {},
   "outputs": [
    {
     "name": "stdout",
     "output_type": "stream",
     "text": [
      "Results\n",
      "[('former', 'Jodhpur State'), ('replacedBy', 'India')]\n",
      "[('former', 'Eastern Hungarian Kingdom'), ('replacedBy', 'Principality of Transylvania')]\n",
      "[('former', 'East Francia'), ('replacedBy', 'Holy Roman Empire')]\n",
      "[('former', 'Kingdom of Hawaiʻi'), ('replacedBy', 'Republic of Hawaii')]\n",
      "[('former', 'Duchy of Luxembourg'), ('replacedBy', 'French First Republic')]\n",
      "[('former', 'Taifa of Algeciras'), ('replacedBy', 'Taifa of Seville')]\n",
      "[('former', 'Kotoko kingdom'), ('replacedBy', 'Bornu Empire')]\n",
      "[('former', 'Province of North Carolina'), ('replacedBy', 'North Carolina')]\n",
      "[('former', 'Sui dynasty'), ('replacedBy', 'Tang Empire')]\n",
      "[('former', 'Song dynasty'), ('replacedBy', 'Yuan Empire')]\n",
      "[('former', 'United Principalities'), ('replacedBy', 'Kingdom of Romania')]\n",
      "[('former', 'Travancore'), ('replacedBy', 'India')]\n",
      "[('former', 'Travancore'), ('replacedBy', 'Travancore-Cochin')]\n",
      "[('former', 'Mataram Sultanate'), ('replacedBy', 'Yogyakarta Sultanate')]\n",
      "[('former', 'Mataram Sultanate'), ('replacedBy', 'Surakarta Sunanate')]\n",
      "[('former', 'Kingdom of Cochin'), ('replacedBy', 'India')]\n",
      "[('former', 'Kingdom of Cochin'), ('replacedBy', 'Travancore-Cochin')]\n",
      "[('former', 'Second Empire of Haiti'), ('replacedBy', 'Haiti')]\n",
      "[('former', 'Janjira State'), ('replacedBy', 'India')]\n",
      "[('former', 'Kingdom of Württemberg'), ('replacedBy', \"Free People's State of Württemberg\")]\n",
      "[('former', 'Pahlavi Dynasty'), ('replacedBy', 'Iran')]\n",
      "[('former', 'Province of South Carolina'), ('replacedBy', 'South Carolina')]\n",
      "[('former', 'Duchy of Brunswick'), ('replacedBy', 'Free State of Brunswick')]\n",
      "[('former', 'Kingdom of Jerusalem'), ('replacedBy', 'Mamluk Sultanate')]\n",
      "[('former', 'Kingdom of Finland'), ('replacedBy', 'Finland')]\n",
      "[('former', 'Duchy of Magdeburg'), ('replacedBy', 'Province of Saxony')]\n",
      "[('former', 'Electorate of Brunswick-Lüneburg'), ('replacedBy', 'Kingdom of Hanover')]\n",
      "[('former', 'Elymais'), ('replacedBy', 'Sasanian Empire')]\n",
      "[('former', 'Hohenzollern-Sigmaringen'), ('replacedBy', 'Hohenzollern Province')]\n",
      "[('former', 'Duchy of Württemberg'), ('replacedBy', 'Kingdom of Württemberg')]\n",
      "[('former', 'Kingdom of Serbia'), ('replacedBy', 'Kingdom of Serbs, Croats and Slovenes')]\n",
      "[('former', 'July Monarchy'), ('replacedBy', 'French Second Republic')]\n",
      "[('former', 'Qajar Iran'), ('replacedBy', 'Pahlavi Iran')]\n",
      "[('former', 'Principality of Moldavia'), ('replacedBy', 'United Principalities')]\n",
      "[('former', 'Principality of Moldavia'), ('replacedBy', 'Bessarabia')]\n",
      "[('former', 'Kingdom of Granada'), ('replacedBy', 'Capitanía General de Granada')]\n",
      "[('former', 'Kingdom of Hungary'), ('replacedBy', 'First Hungarian Republic')]\n",
      "[('former', 'Seventeen Provinces'), ('replacedBy', 'Dutch Republic')]\n",
      "[('former', 'Seventeen Provinces'), ('replacedBy', 'Spanish Netherlands')]\n",
      "[('former', 'Sultanate of Egypt'), ('replacedBy', 'Kingdom of Egypt')]\n",
      "[('former', 'Kingdom of Serbs, Croats and Slovenes'), ('replacedBy', 'Kingdom of Yugoslavia')]\n",
      "[('former', 'Tripura'), ('replacedBy', 'India')]\n",
      "[('former', 'Kingdom of Montenegro'), ('replacedBy', 'Kingdom of Serbs, Croats and Slovenes')]\n",
      "[('former', 'Captaincy General of Puerto Rico'), ('replacedBy', 'Province of Puerto Rico (Spain)')]\n",
      "[('former', 'Ostrogothic Kingdom'), ('replacedBy', 'Ducato di Brescia')]\n",
      "[('former', 'Ostrogothic Kingdom'), ('replacedBy', 'Duchy of Rome')]\n",
      "[('former', 'Governorate of Montenegro'), ('replacedBy', 'German-occupied territory of Montenegro')]\n",
      "[('former', 'Kingdom of France'), ('replacedBy', 'French First Republic')]\n",
      "[('former', 'Wu'), ('replacedBy', 'Yue')]\n",
      "[('former', 'Kingdom of Hejaz'), ('replacedBy', 'Kingdom of Nejd and Hejaz')]\n"
     ]
    },
    {
     "data": {
      "text/plain": [
       "50"
      ]
     },
     "execution_count": 16,
     "metadata": {},
     "output_type": "execute_result"
    }
   ],
   "source": [
    "queryString=\"\"\"\n",
    "SELECT DISTINCT ?former ?replacedBy WHERE{\n",
    "\n",
    "    ?f (wdt:P31|wdt:P122)/wdt:P279* wd:Q7269;\n",
    "        wdt:P1366 ?o.\n",
    "    ?f <http://schema.org/name> ?former.\n",
    "    ?o <http://schema.org/name> ?replacedBy.\n",
    "}\n",
    "LIMIT 50\n",
    "\"\"\"\n",
    "print(\"Results\")\n",
    "run_query(queryString)"
   ]
  },
  {
   "cell_type": "markdown",
   "id": "f80c0bbd-928f-4e1c-be37-4f124ff09c2f",
   "metadata": {},
   "source": [
    "I run a query to count how many former monarchies I retrieved."
   ]
  },
  {
   "cell_type": "code",
   "execution_count": 17,
   "id": "ad83bedf-47ce-41c7-bdac-793288cc1b24",
   "metadata": {},
   "outputs": [
    {
     "name": "stdout",
     "output_type": "stream",
     "text": [
      "Results\n",
      "[('replacedMonarchies', '350')]\n"
     ]
    },
    {
     "data": {
      "text/plain": [
       "1"
      ]
     },
     "execution_count": 17,
     "metadata": {},
     "output_type": "execute_result"
    }
   ],
   "source": [
    "queryString=\"\"\"\n",
    "SELECT (COUNT(DISTINCT ?f) AS ?replacedMonarchies) WHERE{\n",
    "\n",
    "    ?f (wdt:P31|wdt:P122)/wdt:P279* wd:Q7269;\n",
    "        wdt:P1366 ?o.\n",
    "}\n",
    "\"\"\"\n",
    "print(\"Results\")\n",
    "run_query(queryString)"
   ]
  },
  {
   "cell_type": "markdown",
   "id": "ea995495-2be4-4274-b445-001bf8d3b7b7",
   "metadata": {},
   "source": [
    "From this result I assess there are 350 monarchies replaced by some other states. Now I count how many replaced monarchies there are for each continent."
   ]
  },
  {
   "cell_type": "code",
   "execution_count": 18,
   "id": "59886989-e13c-4ce6-8ac9-6ac0c9c0eb6b",
   "metadata": {},
   "outputs": [
    {
     "name": "stdout",
     "output_type": "stream",
     "text": [
      "Results\n",
      "[('monarchies', '116'), ('continent', 'Europe')]\n",
      "[('monarchies', '70'), ('continent', 'Asia')]\n",
      "[('monarchies', '24'), ('continent', 'Africa')]\n",
      "[('monarchies', '8'), ('continent', 'North America')]\n",
      "[('monarchies', '6'), ('continent', 'Insular Oceania')]\n",
      "[('monarchies', '6'), ('continent', 'Eurasia')]\n",
      "[('monarchies', '5'), ('continent', 'South America')]\n",
      "[('monarchies', '4'), ('continent', 'Americas')]\n",
      "[('monarchies', '1'), ('continent', 'Northern America and Mexico')]\n",
      "[('monarchies', '1'), ('continent', 'Australia')]\n"
     ]
    },
    {
     "data": {
      "text/plain": [
       "10"
      ]
     },
     "execution_count": 18,
     "metadata": {},
     "output_type": "execute_result"
    }
   ],
   "source": [
    "queryString=\"\"\"\n",
    "SELECT (COUNT(DISTINCT ?f) AS ?monarchies) ?continent WHERE{\n",
    "\n",
    "    ?f (wdt:P31|wdt:P122)/wdt:P279* wd:Q7269;\n",
    "        wdt:P30 ?c;\n",
    "        wdt:P1366 ?o.\n",
    "    ?f <http://schema.org/name> ?former.\n",
    "    ?c <http://schema.org/name> ?continent.\n",
    "}\n",
    "GROUP BY ?continent\n",
    "ORDER BY DESC(?monarchies)\n",
    "\"\"\"\n",
    "print(\"Results\")\n",
    "run_query(queryString)"
   ]
  },
  {
   "cell_type": "markdown",
   "id": "2d081162-1730-4c28-bc35-211017f63d93",
   "metadata": {
    "tags": []
   },
   "source": [
    "### STATISTICAL INFORMATION ABOUT MONARCHIES"
   ]
  },
  {
   "cell_type": "markdown",
   "id": "3af266c1-1994-43aa-ad39-4e8ffce48942",
   "metadata": {
    "tags": []
   },
   "source": [
    "#### Population"
   ]
  },
  {
   "cell_type": "markdown",
   "id": "934de90f-5e82-4070-b4a9-82640279a910",
   "metadata": {},
   "source": [
    "Now I retrieve some statistical information about monarchies, starting from demographic information. "
   ]
  },
  {
   "cell_type": "code",
   "execution_count": 19,
   "id": "94bc6808-12dd-4163-8004-59f625305773",
   "metadata": {},
   "outputs": [
    {
     "name": "stdout",
     "output_type": "stream",
     "text": [
      "Results\n",
      "[('p', 'http://www.wikidata.org/prop/direct/P1082'), ('pname', 'population')]\n",
      "[('p', 'http://www.wikidata.org/prop/direct/P9241'), ('pname', 'demographics of topic')]\n"
     ]
    },
    {
     "data": {
      "text/plain": [
       "2"
      ]
     },
     "execution_count": 19,
     "metadata": {},
     "output_type": "execute_result"
    }
   ],
   "source": [
    "queryString=\"\"\"\n",
    "SELECT DISTINCT ?p ?pname WHERE{\n",
    "\n",
    "    ?m (wdt:P31|wdt:P122)/wdt:P279* wd:Q7269;\n",
    "        ?p ?o.\n",
    "    ?p <http://schema.org/name> ?pname.\n",
    "    FILTER(regex(?pname, \".*[P,p]opulation.*\") || regex(?pname, \".*[D,d]emographic.*\"))\n",
    "}\n",
    "\"\"\"\n",
    "print(\"Results\")\n",
    "run_query(queryString)"
   ]
  },
  {
   "cell_type": "markdown",
   "id": "1affa911-f297-4d0e-99aa-b92cd4e7f9dc",
   "metadata": {},
   "source": [
    "I can retrieve the average population of monarchies for each continent by using the property population (wdt:P1082)."
   ]
  },
  {
   "cell_type": "code",
   "execution_count": 20,
   "id": "4278107c-f297-4936-ba3f-1612dffc0a83",
   "metadata": {},
   "outputs": [
    {
     "name": "stdout",
     "output_type": "stream",
     "text": [
      "Results\n",
      "[('avgPopulation', '680000000'), ('continent', 'Antarctica')]\n",
      "[('avgPopulation', '172300000'), ('continent', 'Americas')]\n",
      "[('avgPopulation', '60683173.714285714285714'), ('continent', 'Eurasia')]\n",
      "[('avgPopulation', '53700545.557377049180328'), ('continent', 'Asia')]\n",
      "[('avgPopulation', '50827710'), ('continent', 'Insular Oceania')]\n",
      "[('avgPopulation', '46301031.730769230769231'), ('continent', 'Africa')]\n",
      "[('avgPopulation', '17282163'), ('continent', 'Central America')]\n",
      "[('avgPopulation', '16323124.578947368421053'), ('continent', 'North America')]\n",
      "[('avgPopulation', '16041879.745562130177515'), ('continent', 'Europe')]\n",
      "[('avgPopulation', '6500000'), ('continent', 'Northern America and Mexico')]\n",
      "[('avgPopulation', '181'), ('continent', 'Australia')]\n"
     ]
    },
    {
     "data": {
      "text/plain": [
       "11"
      ]
     },
     "execution_count": 20,
     "metadata": {},
     "output_type": "execute_result"
    }
   ],
   "source": [
    "queryString=\"\"\"\n",
    "SELECT (AVG(?pop) AS ?avgPopulation) ?continent WHERE{\n",
    "\n",
    "    ?m (wdt:P31|wdt:P122)/wdt:P279* wd:Q7269;\n",
    "        wdt:P30 ?c;\n",
    "        wdt:P1082 ?pop.\n",
    "    ?c <http://schema.org/name> ?continent.\n",
    "}\n",
    "GROUP BY ?continent\n",
    "ORDER BY DESC(?avgPopulation)\n",
    "\"\"\"\n",
    "print(\"Results\")\n",
    "run_query(queryString)"
   ]
  },
  {
   "cell_type": "markdown",
   "id": "e42c1722-5a9f-4606-b2ee-6db540c054c3",
   "metadata": {},
   "source": [
    "Antartica is the continent with the highest average population because it was part of the british commonwealth. Retrieve the monarchy with the highest population and the one with the lowest."
   ]
  },
  {
   "cell_type": "code",
   "execution_count": 21,
   "id": "b246f180-3757-4c8d-ac86-8c91a3f82b33",
   "metadata": {},
   "outputs": [
    {
     "name": "stdout",
     "output_type": "stream",
     "text": [
      "Results\n",
      "[('max', 'British Empire'), ('maxPopulation', '680000000')]\n"
     ]
    },
    {
     "data": {
      "text/plain": [
       "1"
      ]
     },
     "execution_count": 21,
     "metadata": {},
     "output_type": "execute_result"
    }
   ],
   "source": [
    "queryString=\"\"\"\n",
    "SELECT DISTINCT ?max ?maxPopulation WHERE{\n",
    "\n",
    "        ?m (wdt:P31|wdt:P122)/wdt:P279* wd:Q7269;\n",
    "            wdt:P1082 ?pop.\n",
    "        ?m <http://schema.org/name> ?max. \n",
    "        FILTER(?pop = ?maxPopulation)\n",
    "        \n",
    "        { SELECT (MAX(?pop) AS ?maxPopulation) WHERE{\n",
    "\n",
    "        ?m (wdt:P31|wdt:P122)/wdt:P279* wd:Q7269;\n",
    "            wdt:P1082 ?pop.\n",
    "        }    \n",
    "        }\n",
    "}\n",
    "    \n",
    "\"\"\"\n",
    "print(\"Results\")\n",
    "run_query(queryString)"
   ]
  },
  {
   "cell_type": "code",
   "execution_count": 22,
   "id": "a63e2687-92f8-47b9-a4cf-697008fa7fb4",
   "metadata": {},
   "outputs": [
    {
     "name": "stdout",
     "output_type": "stream",
     "text": [
      "Results\n",
      "[('min', 'Principality of Sealand'), ('minPopulation', '4')]\n"
     ]
    },
    {
     "data": {
      "text/plain": [
       "1"
      ]
     },
     "execution_count": 22,
     "metadata": {},
     "output_type": "execute_result"
    }
   ],
   "source": [
    "queryString=\"\"\"\n",
    "SELECT DISTINCT ?min ?minPopulation WHERE{\n",
    "\n",
    "        ?m (wdt:P31|wdt:P122)/wdt:P279* wd:Q7269;\n",
    "            wdt:P1082 ?pop.\n",
    "        ?m <http://schema.org/name> ?min. \n",
    "        FILTER(?pop = ?minPopulation)\n",
    "        \n",
    "        { SELECT (MIN(?pop) AS ?minPopulation) WHERE{\n",
    "\n",
    "        ?m (wdt:P31|wdt:P122)/wdt:P279* wd:Q7269;\n",
    "            wdt:P1082 ?pop.\n",
    "        }    \n",
    "        }\n",
    "}\n",
    "    \n",
    "\"\"\"\n",
    "print(\"Results\")\n",
    "run_query(queryString)"
   ]
  },
  {
   "cell_type": "markdown",
   "id": "8a1023ac-b6b2-4edd-a4e2-1ed6a4ef2206",
   "metadata": {},
   "source": [
    "I now retrieve the top-10 most populated monarchies."
   ]
  },
  {
   "cell_type": "code",
   "execution_count": 23,
   "id": "c705659a-f570-43a2-9394-02ceeea08695",
   "metadata": {},
   "outputs": [
    {
     "name": "stdout",
     "output_type": "stream",
     "text": [
      "Results\n",
      "[('m', 'http://www.wikidata.org/entity/Q8680'), ('monarchy', 'British Empire'), ('pop', '680000000')]\n",
      "[('m', 'http://www.wikidata.org/entity/Q8733'), ('monarchy', 'Qing dynasty'), ('pop', '432000000')]\n",
      "[('m', 'http://www.wikidata.org/entity/Q8733'), ('monarchy', 'Qing dynasty'), ('pop', '400000000')]\n",
      "[('m', 'http://www.wikidata.org/entity/Q8733'), ('monarchy', 'Qing dynasty'), ('pop', '383100000')]\n",
      "[('m', 'http://www.wikidata.org/entity/Q34266'), ('monarchy', 'Russian Empire'), ('pop', '181537800')]\n",
      "[('m', 'http://www.wikidata.org/entity/Q34266'), ('monarchy', 'Russian Empire'), ('pop', '178378800')]\n",
      "[('m', 'http://www.wikidata.org/entity/Q12557'), ('monarchy', 'Mongol Empire'), ('pop', '160000000')]\n",
      "[('m', 'http://www.wikidata.org/entity/Q33296'), ('monarchy', 'Mughal Empire'), ('pop', '150000000')]\n",
      "[('m', 'http://www.wikidata.org/entity/Q17'), ('monarchy', 'Japan'), ('pop', '126434565')]\n",
      "[('m', 'http://www.wikidata.org/entity/Q34266'), ('monarchy', 'Russian Empire'), ('pop', '125640021')]\n"
     ]
    },
    {
     "data": {
      "text/plain": [
       "10"
      ]
     },
     "execution_count": 23,
     "metadata": {},
     "output_type": "execute_result"
    }
   ],
   "source": [
    "queryString=\"\"\"\n",
    "SELECT DISTINCT ?m ?monarchy ?pop WHERE{\n",
    "\n",
    "        ?m (wdt:P31|wdt:P122)/wdt:P279* wd:Q7269;\n",
    "            wdt:P1082 ?pop.\n",
    "        ?m <http://schema.org/name> ?monarchy.\n",
    "\n",
    "}\n",
    "ORDER BY DESC(?pop)\n",
    "LIMIT 10\n",
    "\"\"\"\n",
    "print(\"Results\")\n",
    "run_query(queryString)"
   ]
  },
  {
   "cell_type": "markdown",
   "id": "81e6eefc-3e75-4891-b419-202f525bc2d0",
   "metadata": {
    "tags": []
   },
   "source": [
    "#### Inception Date"
   ]
  },
  {
   "cell_type": "markdown",
   "id": "242af67b-ba57-4161-984a-65bd4aee5908",
   "metadata": {},
   "source": [
    "I now look for information about inception date. I select properties that could indicate the inception date and count how many monarchies have that property. "
   ]
  },
  {
   "cell_type": "code",
   "execution_count": 24,
   "id": "10113daa-1424-40fa-b3ae-62ce7503ae1e",
   "metadata": {},
   "outputs": [
    {
     "name": "stdout",
     "output_type": "stream",
     "text": [
      "Results\n",
      "[('monarchies', '1474'), ('p', 'http://www.wikidata.org/prop/direct/P571'), ('pname', 'inception')]\n",
      "[('monarchies', '1332'), ('p', 'http://www.wikidata.org/prop/direct/P576'), ('pname', 'dissolved, abolished or demolished date')]\n",
      "[('monarchies', '64'), ('p', 'http://www.wikidata.org/prop/direct/P726'), ('pname', 'candidate')]\n",
      "[('monarchies', '22'), ('p', 'http://www.wikidata.org/prop/direct/P7295'), ('pname', 'Gregorian calendar start date')]\n",
      "[('monarchies', '16'), ('p', 'http://www.wikidata.org/prop/direct/P991'), ('pname', 'successful candidate')]\n",
      "[('monarchies', '3'), ('p', 'http://www.wikidata.org/prop/direct/P3407'), ('pname', 'Klosterdatenbank ID')]\n",
      "[('monarchies', '1'), ('p', 'http://www.wikidata.org/prop/direct/P569'), ('pname', 'date of birth')]\n",
      "[('monarchies', '1'), ('p', 'http://www.wikidata.org/prop/direct/P570'), ('pname', 'date of death')]\n"
     ]
    },
    {
     "data": {
      "text/plain": [
       "8"
      ]
     },
     "execution_count": 24,
     "metadata": {},
     "output_type": "execute_result"
    }
   ],
   "source": [
    "queryString=\"\"\"\n",
    "SELECT DISTINCT (COUNT(?m) AS ?monarchies) ?p ?pname WHERE{\n",
    "\n",
    "    ?m (wdt:P31|wdt:P122)/wdt:P279* wd:Q7269;\n",
    "        ?p ?o.\n",
    "    ?p <http://schema.org/name> ?pname.\n",
    "    FILTER(regex(?pname, \".*[D,d]ate.*\") || regex(?pname, \".*[I,i]nception.*\"))\n",
    "}\n",
    "GROUP BY ?p ?pname\n",
    "ORDER BY DESC(?monarchies)\n",
    "\"\"\"\n",
    "print(\"Results\")\n",
    "run_query(queryString)"
   ]
  },
  {
   "cell_type": "markdown",
   "id": "fff02d8c-aeef-4f42-950b-d0b72eb78841",
   "metadata": {},
   "source": [
    "Some useful IRI retrieved by the query are:\n",
    "\n",
    "| IRI           | Description   | Role      |\n",
    "| -----------   | -----------   |-----------|\n",
    "| `wdt:P571`   | inception   | predicate |\n",
    "| `wdt:P576`     | dissolved, abolished or demolished date   | predicate |\n",
    "| `wdt:P570`     | date of death   | predicate |\n",
    "| `wdt:P569`     | date of birth   | predicate |\n",
    "| `wdt:P726`     | candidate   | predicate |\n",
    "| `wdt:P991`     | successful candidate   | predicate |"
   ]
  },
  {
   "cell_type": "markdown",
   "id": "a567cbe6-d16e-4c98-9a1b-c0febb8830d7",
   "metadata": {},
   "source": [
    "By listing wdt:P571 we can retrieve the inception date of each monarchy. List some inception date to see the information format. "
   ]
  },
  {
   "cell_type": "code",
   "execution_count": 25,
   "id": "5aadad2b-b808-4420-90af-51b23997ae26",
   "metadata": {},
   "outputs": [
    {
     "name": "stdout",
     "output_type": "stream",
     "text": [
      "Results\n",
      "[('monarchy', 'Dʿmt'), ('inception', '-979-01-01T00:00:00Z')]\n",
      "[('monarchy', 'Ahom Kingdom'), ('inception', '1228-01-01T00:00:00Z')]\n",
      "[('monarchy', 'Jodhpur State'), ('inception', '1250-01-01T00:00:00Z')]\n",
      "[('monarchy', 'Baku Khanate'), ('inception', '1735-01-01T00:00:00Z')]\n",
      "[('monarchy', 'Eastern Hungarian Kingdom'), ('inception', '1526-11-21T00:00:00Z')]\n",
      "[('monarchy', 'Duchy of the Archipelago'), ('inception', '1207-01-01T00:00:00Z')]\n",
      "[('monarchy', 'Kingdom of Sicily'), ('inception', '1848-03-25T00:00:00Z')]\n",
      "[('monarchy', 'East Francia'), ('inception', '0843-01-01T00:00:00Z')]\n",
      "[('monarchy', 'Kingdom of Hawaiʻi'), ('inception', '1795-01-01T00:00:00Z')]\n",
      "[('monarchy', 'Duchy of Luxembourg'), ('inception', '1353-01-01T00:00:00Z')]\n"
     ]
    },
    {
     "data": {
      "text/plain": [
       "10"
      ]
     },
     "execution_count": 25,
     "metadata": {},
     "output_type": "execute_result"
    }
   ],
   "source": [
    "queryString=\"\"\"\n",
    "SELECT DISTINCT ?monarchy ?inception WHERE{\n",
    "\n",
    "    ?m (wdt:P31|wdt:P122)/wdt:P279* wd:Q7269;\n",
    "        wdt:P571 ?inception.\n",
    "    ?m <http://schema.org/name> ?monarchy.\n",
    "}\n",
    "LIMIT 10\n",
    "\"\"\"\n",
    "print(\"Results\")\n",
    "run_query(queryString)"
   ]
  },
  {
   "cell_type": "markdown",
   "id": "166428e1-e5aa-4886-b736-8d0c83c5c3b7",
   "metadata": {},
   "source": [
    "I run a query to see if there were more monarchies founded in the 1800s or in the 1900s. First, I select monarchies with inception date in the 19th century to see how to filter dates."
   ]
  },
  {
   "cell_type": "code",
   "execution_count": 28,
   "id": "9101be70-e2ab-4b42-b349-c8f8f43450f4",
   "metadata": {},
   "outputs": [
    {
     "name": "stdout",
     "output_type": "stream",
     "text": [
      "Results\n",
      "[('monarchy', 'United Kingdom of Great Britain and Ireland'), ('inception', '1801-01-01T00:00:00Z')]\n",
      "[('monarchy', 'Kingdom of Etruria'), ('inception', '1801-03-21T00:00:00Z')]\n",
      "[('monarchy', 'Kingdom of Etruria'), ('inception', '1801-03-21T00:00:00Z')]\n",
      "[('monarchy', 'Kingdom of Chiangmai'), ('inception', '1802-01-01T00:00:00Z')]\n",
      "[('monarchy', 'Principality of Salm'), ('inception', '1802-10-30T00:00:00Z')]\n",
      "[('monarchy', 'Electorate of Salzburg'), ('inception', '1803-01-01T00:00:00Z')]\n",
      "[('monarchy', 'Principalit of Lübeck'), ('inception', '1803-01-01T00:00:00Z')]\n",
      "[('monarchy', 'Electorate of Württemberg'), ('inception', '1803-01-01T00:00:00Z')]\n",
      "[('monarchy', 'Faridkot State'), ('inception', '1803-01-01T00:00:00Z')]\n",
      "[('monarchy', 'Principality of Nassau-Orange-Fulda'), ('inception', '1803-01-01T00:00:00Z')]\n",
      "[('monarchy', 'Principality of Krautheim'), ('inception', '1803-01-01T00:00:00Z')]\n",
      "[('monarchy', 'Principality of Aschaffenburg'), ('inception', '1803-01-01T00:00:00Z')]\n",
      "[('monarchy', 'Electorate of Hesse'), ('inception', '1803-01-01T00:00:00Z')]\n",
      "[('monarchy', 'Principality Paderborn'), ('inception', '1803-01-01T00:00:00Z')]\n",
      "[('monarchy', 'Principality Rheina-Wolbeck'), ('inception', '1803-02-14T00:00:00Z')]\n",
      "[('monarchy', 'Electorate of Baden'), ('inception', '1803-04-27T00:00:00Z')]\n",
      "[('monarchy', 'Electorate of Baden'), ('inception', '1803-04-27T00:00:00Z')]\n",
      "[('monarchy', 'First Empire of Haiti'), ('inception', '1804-01-01T00:00:00Z')]\n",
      "[('monarchy', 'Austrian Empire'), ('inception', '1804-08-11T00:00:00Z')]\n",
      "[('monarchy', 'Grand Duchy of Würzburg'), ('inception', '1805-01-01T00:00:00Z')]\n",
      "[('monarchy', 'Grand Duchy of Würzburg'), ('inception', '1805-01-01T00:00:00Z')]\n",
      "[('monarchy', 'Kingdom of Italy'), ('inception', '1805-03-17T00:00:00Z')]\n",
      "[('monarchy', 'Kingdom of Saxony'), ('inception', '1806-01-01T00:00:00Z')]\n",
      "[('monarchy', 'Kingdom of Saxony'), ('inception', '1806-01-01T00:00:00Z')]\n",
      "[('monarchy', 'Kingdom of Württemberg'), ('inception', '1806-01-01T00:00:00Z')]\n",
      "[('monarchy', 'Grand Duchy of Hesse'), ('inception', '1806-01-01T00:00:00Z')]\n",
      "[('monarchy', 'Principality of Reuss-Gera'), ('inception', '1806-01-01T00:00:00Z')]\n",
      "[('monarchy', 'Duchy of Nassau'), ('inception', '1806-01-01T00:00:00Z')]\n",
      "[('monarchy', 'Duchy of Nassau'), ('inception', '1806-01-01T00:00:00Z')]\n",
      "[('monarchy', 'Kingdom of Bavaria'), ('inception', '1806-01-01T00:00:00Z')]\n",
      "[('monarchy', 'Grand Duchy of Baden'), ('inception', '1806-01-01T00:00:00Z')]\n",
      "[('monarchy', 'Grand Duchy of Berg'), ('inception', '1806-01-01T00:00:00Z')]\n",
      "[('monarchy', 'Kingdom of Saxony'), ('inception', '1806-01-01T00:00:00Z')]\n",
      "[('monarchy', 'Grand Duchy of Hesse'), ('inception', '1806-01-01T00:00:00Z')]\n",
      "[('monarchy', 'Principality of Reuss-Gera'), ('inception', '1806-01-01T00:00:00Z')]\n",
      "[('monarchy', 'Grand Duchy of Baden'), ('inception', '1806-01-01T00:00:00Z')]\n",
      "[('monarchy', 'Grand Duchy of Berg'), ('inception', '1806-01-01T00:00:00Z')]\n",
      "[('monarchy', 'Principality of Ponte Corvo'), ('inception', '1806-01-01T00:00:00Z')]\n",
      "[('monarchy', 'Principality of Leyen'), ('inception', '1806-01-01T00:00:00Z')]\n",
      "[('monarchy', 'Kingdom of Naples'), ('inception', '1806-05-11T00:00:00Z')]\n",
      "[('monarchy', 'Principality of Benevento'), ('inception', '1806-06-05T00:00:00Z')]\n",
      "[('monarchy', 'Liechtenstein'), ('inception', '1806-07-12T00:00:00Z')]\n",
      "[('monarchy', 'Kingdom of Westphalia'), ('inception', '1807-01-01T00:00:00Z')]\n",
      "[('monarchy', 'Duchy of Warsaw'), ('inception', '1807-01-01T00:00:00Z')]\n",
      "[('monarchy', 'Kingdom of Westphalia'), ('inception', '1807-01-01T00:00:00Z')]\n",
      "[('monarchy', 'Kingdom of Spain under Joseph Bonaparte'), ('inception', '1808-06-06T00:00:00Z')]\n",
      "[('monarchy', 'Tripura'), ('inception', '1809-01-01T00:00:00Z')]\n",
      "[('monarchy', 'Saxe-Weimar-Eisenach'), ('inception', '1809-01-01T00:00:00Z')]\n",
      "[('monarchy', 'Grand Duchy of Finland'), ('inception', '1809-01-01T00:00:00Z')]\n",
      "[('monarchy', 'Grand Duchy of Finland'), ('inception', '1809-01-01T00:00:00Z')]\n",
      "[('monarchy', 'Saxe-Weimar-Eisenach'), ('inception', '1809-01-01T00:00:00Z')]\n",
      "[('monarchy', 'Saxe-Weimar-Eisenach'), ('inception', '1809-01-01T00:00:00Z')]\n",
      "[('monarchy', 'Kingdom of Setul Mambang Segara'), ('inception', '1810-01-01T00:00:00Z')]\n",
      "[('monarchy', 'Kingdom of Setul Mambang Segara'), ('inception', '1810-01-01T00:00:00Z')]\n",
      "[('monarchy', 'Shahrisabz beylik'), ('inception', '1811-01-01T00:00:00Z')]\n",
      "[('monarchy', 'Shahrisabz beylik'), ('inception', '1811-01-01T00:00:00Z')]\n",
      "[('monarchy', 'Islands of Refreshment'), ('inception', '1811-02-04T00:00:00Z')]\n",
      "[('monarchy', 'Kingdom of Haiti'), ('inception', '1811-03-28T00:00:00Z')]\n",
      "[('monarchy', 'Kura Khanate'), ('inception', '1812-01-01T00:00:00Z')]\n",
      "[('monarchy', 'Crown Colony of Malta'), ('inception', '1813-01-01T00:00:00Z')]\n",
      "[('monarchy', 'Grand Duchy of Oldenburg'), ('inception', '1814-01-01T00:00:00Z')]\n",
      "[('monarchy', 'Electorate of Hesse'), ('inception', '1814-01-01T00:00:00Z')]\n",
      "[('monarchy', 'Bourbon Restoration'), ('inception', '1814-01-01T00:00:00Z')]\n",
      "[('monarchy', 'Kingdom of Norway (1814)'), ('inception', '1814-01-01T00:00:00Z')]\n",
      "[('monarchy', 'Grand Duchy of Oldenburg'), ('inception', '1814-01-01T00:00:00Z')]\n",
      "[('monarchy', 'Principality of Elba'), ('inception', '1814-04-14T00:00:00Z')]\n",
      "[('monarchy', 'Norway'), ('inception', '1814-05-17T00:00:00Z')]\n",
      "[('monarchy', 'Norway'), ('inception', '1814-05-17T00:00:00Z')]\n",
      "[('monarchy', 'Kingdom of Hanover'), ('inception', '1814-10-12T00:00:00Z')]\n",
      "[('monarchy', 'Union between Sweden and Norway'), ('inception', '1814-11-04T00:00:00Z')]\n",
      "[('monarchy', 'Union between Sweden and Norway'), ('inception', '1814-11-04T00:00:00Z')]\n",
      "[('monarchy', 'Duchy of Brunswick'), ('inception', '1815-01-01T00:00:00Z')]\n",
      "[('monarchy', 'Grand Duchy of Mecklenburg-Strelitz'), ('inception', '1815-01-01T00:00:00Z')]\n",
      "[('monarchy', 'Duchy of Lucca'), ('inception', '1815-01-01T00:00:00Z')]\n",
      "[('monarchy', 'United Kingdom of the Netherlands'), ('inception', '1815-01-01T00:00:00Z')]\n",
      "[('monarchy', 'Luxembourg'), ('inception', '1815-01-01T00:00:00Z')]\n",
      "[('monarchy', 'Grand Duchy of Mecklenburg-Schwerin'), ('inception', '1815-01-01T00:00:00Z')]\n",
      "[('monarchy', 'Duchy of Brunswick'), ('inception', '1815-01-01T00:00:00Z')]\n",
      "[('monarchy', 'Grand Duchy of Mecklenburg-Strelitz'), ('inception', '1815-01-01T00:00:00Z')]\n",
      "[('monarchy', 'Duchy of Lucca'), ('inception', '1815-01-01T00:00:00Z')]\n",
      "[('monarchy', 'Grand Duchy of Mecklenburg-Schwerin'), ('inception', '1815-01-01T00:00:00Z')]\n",
      "[('monarchy', 'Kingdom of Brazil'), ('inception', '1815-01-01T00:00:00Z')]\n",
      "[('monarchy', 'Kingdom of the Netherlands'), ('inception', '1815-03-16T00:00:00Z')]\n",
      "[('monarchy', 'Kingdom of the Netherlands'), ('inception', '1815-03-16T00:00:00Z')]\n",
      "[('monarchy', 'Kingdom of Lombardy–Venetia'), ('inception', '1815-04-07T00:00:00Z')]\n",
      "[('monarchy', 'Province Grand Duchy of the Lower Rhine'), ('inception', '1815-04-30T00:00:00Z')]\n",
      "[('monarchy', 'Grand Duchy of Posen'), ('inception', '1815-06-09T00:00:00Z')]\n",
      "[('monarchy', 'Grand Duchy of Posen'), ('inception', '1815-06-09T00:00:00Z')]\n",
      "[('monarchy', 'Kingdom of Dalmatia'), ('inception', '1815-06-22T00:00:00Z')]\n",
      "[('monarchy', 'Kingdom of Dalmatia'), ('inception', '1815-06-22T00:00:00Z')]\n",
      "[('monarchy', 'United Kingdom of Portugal, Brazil and the Algarves'), ('inception', '1815-12-16T00:00:00Z')]\n",
      "[('monarchy', 'Kingdom of Illyria'), ('inception', '1816-01-01T00:00:00Z')]\n",
      "[('monarchy', 'Principality of Lichtenberg'), ('inception', '1816-01-01T00:00:00Z')]\n",
      "[('monarchy', 'Kingdom of Illyria'), ('inception', '1816-01-01T00:00:00Z')]\n",
      "[('monarchy', 'Jaora State'), ('inception', '1817-01-01T00:00:00Z')]\n",
      "[('monarchy', 'Riau-Lingga Sultanate'), ('inception', '1819-01-01T00:00:00Z')]\n",
      "[('monarchy', 'Muscat and Oman'), ('inception', '1820-01-01T00:00:00Z')]\n",
      "[('monarchy', 'Trucial States'), ('inception', '1820-01-08T00:00:00Z')]\n",
      "[('monarchy', 'Regency of the Mexican Empire'), ('inception', '1821-09-27T00:00:00Z')]\n",
      "[('monarchy', 'First Mexican Empire'), ('inception', '1822-05-19T00:00:00Z')]\n",
      "[('monarchy', 'Empire of Brazil'), ('inception', '1822-09-07T00:00:00Z')]\n",
      "[('monarchy', 'Emirate of Afghanistan'), ('inception', '1823-01-01T00:00:00Z')]\n",
      "[('monarchy', 'Gaza Empire'), ('inception', '1824-01-01T00:00:00Z')]\n",
      "[('monarchy', 'duchy of Saxe-Coburg and Gotha'), ('inception', '1826-01-01T00:00:00Z')]\n",
      "[('monarchy', 'duchy of Saxe-Coburg and Gotha'), ('inception', '1826-01-01T00:00:00Z')]\n",
      "[('monarchy', 'duchy of Saxe-Coburg and Gotha'), ('inception', '1826-01-01T00:00:00Z')]\n",
      "[('monarchy', 'duchy of Saxe-Coburg and Gotha'), ('inception', '1826-01-01T00:00:00Z')]\n",
      "[('monarchy', 'July Monarchy'), ('inception', '1830-01-01T00:00:00Z')]\n",
      "[('monarchy', 'Toro Kingdom'), ('inception', '1830-01-01T00:00:00Z')]\n",
      "[('monarchy', 'Belgium'), ('inception', '1830-10-04T00:00:00Z')]\n",
      "[('monarchy', 'Belgium'), ('inception', '1830-10-04T00:00:00Z')]\n",
      "[('monarchy', 'Provisional Triune Regency'), ('inception', '1831-04-07T00:00:00Z')]\n",
      "[('monarchy', 'Permanent Triune Regency'), ('inception', '1831-06-17T00:00:00Z')]\n",
      "[('monarchy', 'Kingdom of Greece'), ('inception', '1832-01-01T00:00:00Z')]\n",
      "[('monarchy', 'Kingdom of Greece'), ('inception', '1832-01-01T00:00:00Z')]\n",
      "[('monarchy', 'Kingdom of Greece'), ('inception', '1832-01-01T00:00:00Z')]\n",
      "[('monarchy', 'British Windward Islands'), ('inception', '1833-01-01T00:00:00Z')]\n",
      "[('monarchy', 'Regency of Feijó'), ('inception', '1835-09-19T00:00:00Z')]\n",
      "[('monarchy', 'Emirate of Jabal Shammar'), ('inception', '1836-01-01T00:00:00Z')]\n",
      "[('monarchy', 'Toucouleur Empire'), ('inception', '1836-01-01T00:00:00Z')]\n",
      "[('monarchy', 'South Australia'), ('inception', '1836-12-28T00:00:00Z')]\n",
      "[('monarchy', 'South Australia'), ('inception', '1836-12-28T00:00:00Z')]\n",
      "[('monarchy', 'Regency of Araújo Lima'), ('inception', '1837-09-19T00:00:00Z')]\n",
      "[('monarchy', 'Jhalawar State'), ('inception', '1838-01-01T00:00:00Z')]\n",
      "[('monarchy', 'Đại Nam'), ('inception', '1839-01-01T00:00:00Z')]\n",
      "[('monarchy', 'Kingdom of Kubang Pasu Darul Qiyam'), ('inception', '1839-01-01T00:00:00Z')]\n",
      "[('monarchy', 'Raj of Sarawak'), ('inception', '1841-09-24T00:00:00Z')]\n",
      "[('monarchy', 'Colony of Natal'), ('inception', '1843-01-01T00:00:00Z')]\n",
      "[('monarchy', 'Grand Duchy of Cracow'), ('inception', '1846-01-01T00:00:00Z')]\n",
      "[('monarchy', 'Kingdom of Sicily'), ('inception', '1848-03-25T00:00:00Z')]\n",
      "[('monarchy', 'German Empire of 1848/1849'), ('inception', '1848-06-28T00:00:00Z')]\n",
      "[('monarchy', 'Duchy of Bukovina'), ('inception', '1849-01-01T00:00:00Z')]\n",
      "[('monarchy', 'Duchy of Bukovina'), ('inception', '1849-01-01T00:00:00Z')]\n",
      "[('monarchy', 'Duchy of Salzburg'), ('inception', '1849-01-01T00:00:00Z')]\n",
      "[('monarchy', 'March of Istria'), ('inception', '1849-01-01T00:00:00Z')]\n",
      "[('monarchy', 'Voivodeship of Serbia and Banat of Temeschwar'), ('inception', '1849-01-01T00:00:00Z')]\n",
      "[('monarchy', 'Second Empire of Haiti'), ('inception', '1849-08-26T00:00:00Z')]\n",
      "[('monarchy', 'Principality of Montenegro'), ('inception', '1852-01-01T00:00:00Z')]\n",
      "[('monarchy', 'Principality of Montenegro'), ('inception', '1852-01-01T00:00:00Z')]\n",
      "[('monarchy', 'Principality of Montenegro'), ('inception', '1852-01-01T00:00:00Z')]\n",
      "[('monarchy', 'Second French Empire'), ('inception', '1852-12-02T00:00:00Z')]\n",
      "[('monarchy', 'Colony of Tasmania'), ('inception', '1856-01-01T00:00:00Z')]\n",
      "[('monarchy', 'Sultanate of Zanzibar'), ('inception', '1856-10-19T00:00:00Z')]\n",
      "[('monarchy', 'Sultanate of Zanzibar'), ('inception', '1856-10-19T00:00:00Z')]\n",
      "[('monarchy', 'British India'), ('inception', '1858-01-01T00:00:00Z')]\n",
      "[('monarchy', 'United Principalities'), ('inception', '1859-01-24T00:00:00Z')]\n",
      "[('monarchy', 'Kingdom of Araucanía and Patagonia'), ('inception', '1860-11-17T00:00:00Z')]\n",
      "[('monarchy', 'Kingdom of Italy'), ('inception', '1861-03-17T00:00:00Z')]\n",
      "[('monarchy', 'Kingdom of Italy'), ('inception', '1861-03-17T00:00:00Z')]\n",
      "[('monarchy', 'Duchy of Anhalt'), ('inception', '1863-01-01T00:00:00Z')]\n",
      "[('monarchy', 'Second Mexican Empire'), ('inception', '1864-01-01T00:00:00Z')]\n",
      "[('monarchy', 'Yettishar'), ('inception', '1865-01-01T00:00:00Z')]\n",
      "[('monarchy', 'Kingdom of Redonda'), ('inception', '1865-01-01T00:00:00Z')]\n",
      "[('monarchy', 'Austria-Hungary'), ('inception', '1867-03-01T00:00:00Z')]\n",
      "[('monarchy', 'Austria-Hungary'), ('inception', '1867-03-01T00:00:00Z')]\n",
      "[('monarchy', 'Khedivate of Egypt'), ('inception', '1867-06-08T00:00:00Z')]\n",
      "[('monarchy', 'Canada'), ('inception', '1867-07-01T00:00:00Z')]\n",
      "[('monarchy', 'Kingdom of Hungary'), ('inception', '1867-07-28T00:00:00Z')]\n",
      "[('monarchy', 'Kingdom of Croatia-Slavonia'), ('inception', '1868-01-01T00:00:00Z')]\n",
      "[('monarchy', 'Kingdom of Croatia-Slavonia'), ('inception', '1868-01-01T00:00:00Z')]\n",
      "[('monarchy', 'Kingdom of Croatia-Slavonia'), ('inception', '1868-01-01T00:00:00Z')]\n",
      "[('monarchy', 'Empire of Japan'), ('inception', '1868-01-03T00:00:00Z')]\n",
      "[('monarchy', 'Emirate of Ras Al Khaimah'), ('inception', '1869-01-01T00:00:00Z')]\n",
      "[('monarchy', 'Qatar'), ('inception', '1870-01-01T00:00:00Z')]\n",
      "[('monarchy', 'German Empire'), ('inception', '1871-01-01T00:00:00Z')]\n",
      "[('monarchy', 'Austro-Hungarian rule in Bosnia and Herzegovina'), ('inception', '1878-01-01T00:00:00Z')]\n",
      "[('monarchy', 'Eastern Rumelia'), ('inception', '1878-01-01T00:00:00Z')]\n",
      "[('monarchy', 'Wassoulou Empire'), ('inception', '1878-01-01T00:00:00Z')]\n",
      "[('monarchy', 'Principality of Bulgaria'), ('inception', '1878-03-03T00:00:00Z')]\n",
      "[('monarchy', 'Kingdom of Romania'), ('inception', '1881-01-01T00:00:00Z')]\n",
      "[('monarchy', 'Kingdom of Serbia'), ('inception', '1882-01-01T00:00:00Z')]\n",
      "[('monarchy', 'Congo Free State'), ('inception', '1885-01-01T00:00:00Z')]\n",
      "[('monarchy', 'Bechuanaland Protectorate'), ('inception', '1885-01-01T00:00:00Z')]\n",
      "[('monarchy', 'Kingdom of Sedang'), ('inception', '1888-01-01T00:00:00Z')]\n",
      "[('monarchy', 'Orissa Tributary States'), ('inception', '1888-01-01T00:00:00Z')]\n",
      "[('monarchy', 'Principality of Trinidad'), ('inception', '1893-01-01T00:00:00Z')]\n",
      "[('monarchy', 'British Solomon Islands'), ('inception', '1893-03-15T00:00:00Z')]\n",
      "[('monarchy', 'Amashangana Tribal Authority'), ('inception', '1897-01-01T00:00:00Z')]\n",
      "[('monarchy', 'Sultanate of Darfur'), ('inception', '1898-01-01T00:00:00Z')]\n"
     ]
    },
    {
     "data": {
      "text/plain": [
       "179"
      ]
     },
     "execution_count": 28,
     "metadata": {},
     "output_type": "execute_result"
    }
   ],
   "source": [
    "queryString=\"\"\"\n",
    "SELECT ?monarchy ?inception WHERE{\n",
    "\n",
    "        ?m (wdt:P31|wdt:P122)/wdt:P279* wd:Q7269;\n",
    "            wdt:P571 ?inception.\n",
    "        \n",
    "        ?m <http://schema.org/name> ?monarchy.\n",
    "\n",
    "        FILTER(?inception > \"1800-01-01T00:00:00Z\"^^xsd:dateTime\n",
    "                && ?inception < \"1899-12-31T23:59:59Z\"^^xsd:dateTime)  \n",
    "}\n",
    "ORDER BY ?inception\n",
    "\"\"\"\n",
    "print(\"Results\")\n",
    "run_query(queryString)"
   ]
  },
  {
   "cell_type": "markdown",
   "id": "a6c50b1b-3ae1-4b43-820b-11540117d813",
   "metadata": {},
   "source": [
    "Then I perform the ask query."
   ]
  },
  {
   "cell_type": "code",
   "execution_count": 26,
   "id": "266e02ba-60be-47fb-a92f-973106b785c1",
   "metadata": {},
   "outputs": [
    {
     "name": "stdout",
     "output_type": "stream",
     "text": [
      "Results\n"
     ]
    },
    {
     "data": {
      "text/plain": [
       "{'head': {'link': []}, 'boolean': True}"
      ]
     },
     "execution_count": 26,
     "metadata": {},
     "output_type": "execute_result"
    }
   ],
   "source": [
    "queryString=\"\"\"\n",
    "ASK WHERE{\n",
    "\n",
    "    {\n",
    "        SELECT (COUNT(?m) AS ?1800monarchies) WHERE{\n",
    "\n",
    "        ?m (wdt:P31|wdt:P122)/wdt:P279* wd:Q7269;\n",
    "            wdt:P571 ?inception.\n",
    "\n",
    "        FILTER(?inception > \"1800-01-01T00:00:00Z\"^^xsd:dateTime\n",
    "                && ?inception < \"1899-12-31T23:59:59Z\"^^xsd:dateTime)  \n",
    "        }\n",
    "    }\n",
    "    {\n",
    "        SELECT (COUNT(?m) AS ?1900monarchies) WHERE{\n",
    "\n",
    "        ?m (wdt:P31|wdt:P122)/wdt:P279* wd:Q7269;\n",
    "            wdt:P571 ?inception.\n",
    "\n",
    "        FILTER(?inception > \"1900-01-01T00:00:00Z\"^^xsd:dateTime\n",
    "                && ?inception < \"1999-12-31T23:59:59Z\"^^xsd:dateTime)  \n",
    "        }\n",
    "    }\n",
    "    \n",
    "    FILTER(?1800monarchies > ?1900monarchies)\n",
    "}\n",
    "\"\"\"\n",
    "print(\"Results\")\n",
    "run_ask_query(queryString)"
   ]
  },
  {
   "cell_type": "markdown",
   "id": "84ed00fb-38cb-4bb0-a6a0-3ac8f541227a",
   "metadata": {},
   "source": [
    "The query returns true therefore there were more monarchies founded in the 19th century than in the 20th. \n",
    "\n",
    "Now I retrieve the top-50 earliest monarchies showing only the inception year. Notice that I need to filter out inception date that are set in the future otherwise the function YEAR() returns an error. "
   ]
  },
  {
   "cell_type": "code",
   "execution_count": 27,
   "id": "be29373c-75d7-4c0b-a59d-6e160b76e370",
   "metadata": {},
   "outputs": [
    {
     "name": "stdout",
     "output_type": "stream",
     "text": [
      "Results\n",
      "[('inceptionYear', '30'), ('m', 'http://www.wikidata.org/entity/Q25979'), ('monarchy', 'Kushan Empire')]\n",
      "[('inceptionYear', '68'), ('m', 'http://www.wikidata.org/entity/Q867782'), ('monarchy', 'Kingdom of Funan')]\n",
      "[('inceptionYear', '88'), ('m', 'http://www.wikidata.org/entity/Q10565487'), ('monarchy', 'Chen princedom')]\n",
      "[('inceptionYear', '170'), ('m', 'http://www.wikidata.org/entity/Q17150787'), ('monarchy', 'Bharshiva Dynasty')]\n",
      "[('inceptionYear', '192'), ('m', 'http://www.wikidata.org/entity/Q216786'), ('monarchy', 'Champa')]\n",
      "[('inceptionYear', '200'), ('m', 'http://www.wikidata.org/entity/Q6412538'), ('monarchy', 'Kingdom of Araba')]\n",
      "[('inceptionYear', '200'), ('m', 'http://www.wikidata.org/entity/Q27907706'), ('monarchy', 'Shule Kingdom')]\n",
      "[('inceptionYear', '200'), ('m', 'http://www.wikidata.org/entity/Q5326812'), ('monarchy', 'Early history of Kedah')]\n",
      "[('inceptionYear', '200'), ('m', 'http://www.wikidata.org/entity/Q2320075'), ('monarchy', 'Langkasuka')]\n",
      "[('inceptionYear', '201'), ('m', 'http://www.wikidata.org/entity/Q787336'), ('monarchy', 'Roman Catholic Diocese of Metz')]\n",
      "[('inceptionYear', '220'), ('m', 'http://www.wikidata.org/entity/Q733668'), ('monarchy', 'Ghassanids')]\n",
      "[('inceptionYear', '220'), ('m', 'http://www.wikidata.org/entity/Q733668'), ('monarchy', 'Ghassanids')]\n",
      "[('inceptionYear', '221'), ('m', 'http://www.wikidata.org/entity/Q320925'), ('monarchy', 'Shu Han')]\n",
      "[('inceptionYear', '226'), ('m', 'http://www.wikidata.org/entity/Q83891'), ('monarchy', 'Sasanian Empire')]\n",
      "[('inceptionYear', '305'), ('m', 'http://www.wikidata.org/entity/Q2602572'), ('monarchy', 'Afrighids')]\n",
      "[('inceptionYear', '320'), ('m', 'http://www.wikidata.org/entity/Q11774'), ('monarchy', 'Gupta Empire')]\n",
      "[('inceptionYear', '330'), ('m', 'http://www.wikidata.org/entity/Q155361'), ('monarchy', 'Rouran Khaganate')]\n",
      "[('inceptionYear', '331'), ('m', 'http://www.wikidata.org/entity/Q2030487'), ('monarchy', 'Airgíalla')]\n",
      "[('inceptionYear', '350'), ('m', 'http://www.wikidata.org/entity/Q1194765'), ('monarchy', 'Kamarupa')]\n",
      "[('inceptionYear', '395'), ('m', 'http://www.wikidata.org/entity/Q12544'), ('monarchy', 'Byzantine Empire')]\n",
      "[('inceptionYear', '395'), ('m', 'http://www.wikidata.org/entity/Q42834'), ('monarchy', 'Western Roman Empire (395-476 AD)')]\n",
      "[('inceptionYear', '400'), ('m', 'http://www.wikidata.org/entity/Q22338414'), ('monarchy', 'Kingdom Saal')]\n",
      "[('inceptionYear', '400'), ('m', 'http://www.wikidata.org/entity/Q1794655'), ('monarchy', 'Kutai')]\n",
      "[('inceptionYear', '400'), ('m', 'http://www.wikidata.org/entity/Q605292'), ('monarchy', 'Kindah Kingdom')]\n",
      "[('inceptionYear', '400'), ('m', 'http://www.wikidata.org/entity/Q568523'), ('monarchy', 'Nobatia')]\n",
      "[('inceptionYear', '400'), ('m', 'http://www.wikidata.org/entity/Q568523'), ('monarchy', 'Nobatia')]\n",
      "[('inceptionYear', '401'), ('m', 'http://www.wikidata.org/entity/Q2527412'), ('monarchy', 'Rhos')]\n",
      "[('inceptionYear', '401'), ('m', 'http://www.wikidata.org/entity/Q4274522'), ('monarchy', 'Tyrconnell')]\n",
      "[('inceptionYear', '410'), ('m', 'http://www.wikidata.org/entity/Q956451'), ('monarchy', 'Kingdom of Dyfed')]\n",
      "[('inceptionYear', '410'), ('m', 'http://www.wikidata.org/entity/Q225890'), ('monarchy', 'Kingdom of Strathclyde')]\n",
      "[('inceptionYear', '410'), ('m', 'http://www.wikidata.org/entity/Q225890'), ('monarchy', 'Kingdom of Strathclyde')]\n",
      "[('inceptionYear', '411'), ('m', 'http://www.wikidata.org/entity/Q13590051'), ('monarchy', 'Kingdom of the Burgundians')]\n",
      "[('inceptionYear', '418'), ('m', 'http://www.wikidata.org/entity/Q126936'), ('monarchy', 'Visigothic Kingdom')]\n",
      "[('inceptionYear', '420'), ('m', 'http://www.wikidata.org/entity/Q623751'), ('monarchy', 'Kingdom of Bernicia')]\n",
      "[('inceptionYear', '429'), ('m', 'http://www.wikidata.org/entity/Q25080783'), ('monarchy', 'Mauro-Roman kingdom')]\n",
      "[('inceptionYear', '435'), ('m', 'http://www.wikidata.org/entity/Q10416611'), ('monarchy', 'Vandal Kingdom')]\n",
      "[('inceptionYear', '450'), ('m', 'http://www.wikidata.org/entity/Q328818'), ('monarchy', 'Kingdom of Kent')]\n",
      "[('inceptionYear', '450'), ('m', 'http://www.wikidata.org/entity/Q954585'), ('monarchy', 'Kingdom of Brycheiniog')]\n",
      "[('inceptionYear', '476'), ('m', 'http://www.wikidata.org/entity/Q3755547'), ('monarchy', 'Kingdom of Italy')]\n",
      "[('inceptionYear', '493'), ('m', 'http://www.wikidata.org/entity/Q583038'), ('monarchy', 'Ostrogothic Kingdom')]\n",
      "[('inceptionYear', '496'), ('m', 'http://www.wikidata.org/entity/Q2208978'), ('monarchy', 'duchy of Alamannia')]\n",
      "[('inceptionYear', '500'), ('m', 'http://www.wikidata.org/entity/Q2578706'), ('monarchy', 'Kingdom of Ceredigion')]\n",
      "[('inceptionYear', '500'), ('m', 'http://www.wikidata.org/entity/Q769782'), ('monarchy', 'Kingdom of Powys')]\n",
      "[('inceptionYear', '500'), ('m', 'http://www.wikidata.org/entity/Q769782'), ('monarchy', 'Kingdom of Powys')]\n",
      "[('inceptionYear', '500'), ('m', 'http://www.wikidata.org/entity/Q633573'), ('monarchy', 'Kingdom of Rheged')]\n",
      "[('inceptionYear', '500'), ('m', 'http://www.wikidata.org/entity/Q633573'), ('monarchy', 'Kingdom of Rheged')]\n",
      "[('inceptionYear', '500'), ('m', 'http://www.wikidata.org/entity/Q829356'), ('monarchy', 'Kingdom of Makuria')]\n",
      "[('inceptionYear', '500'), ('m', 'http://www.wikidata.org/entity/Q87791'), ('monarchy', 'Frisian Kingdom')]\n",
      "[('inceptionYear', '500'), ('m', 'http://www.wikidata.org/entity/Q547241'), ('monarchy', 'Hen Ogledd')]\n",
      "[('inceptionYear', '500'), ('m', 'http://www.wikidata.org/entity/Q1088024'), ('monarchy', 'Meirionnydd')]\n"
     ]
    },
    {
     "data": {
      "text/plain": [
       "50"
      ]
     },
     "execution_count": 27,
     "metadata": {},
     "output_type": "execute_result"
    }
   ],
   "source": [
    "queryString=\"\"\"\n",
    "SELECT ?inceptionYear ?m ?monarchy WHERE{\n",
    "\n",
    "    ?m (wdt:P31|wdt:P122)/wdt:P279* wd:Q7269;\n",
    "        wdt:P571 ?inception.\n",
    "        \n",
    "    FILTER(datatype(?inception) = xsd:dateTime)\n",
    "    FILTER(?inception < NOW())\n",
    "    \n",
    "    BIND(YEAR(xsd:dateTime(?inception)) AS ?inceptionYear)\n",
    "    \n",
    "    ?m <http://schema.org/name> ?monarchy.        \n",
    "}\n",
    "ORDER BY ?inceptionYear\n",
    "LIMIT 50\n",
    "\"\"\"\n",
    "print(\"Results\")\n",
    "run_query(queryString)"
   ]
  },
  {
   "cell_type": "markdown",
   "id": "70b6ba41-e0ca-40ca-b3c4-8e259e17842b",
   "metadata": {},
   "source": [
    "By filtering on the datype of the inception date we lose all monarchies founded before Christ because they are stored as negative years values. I run a query to retrieve the earliest monarchies taking this into account."
   ]
  },
  {
   "cell_type": "code",
   "execution_count": 28,
   "id": "2133c2d9-b4e5-4868-abe4-5e2487ed2dfa",
   "metadata": {},
   "outputs": [
    {
     "name": "stdout",
     "output_type": "stream",
     "text": [
      "Results\n",
      "[('inception', '11584-01-01T00:00:00Z'), ('m', 'http://www.wikidata.org/entity/Q2349630'), ('monarchy', 'Galactic Empire')]\n",
      "[('inception', '0030-01-01T00:00:00Z'), ('m', 'http://www.wikidata.org/entity/Q25979'), ('monarchy', 'Kushan Empire')]\n",
      "[('inception', '0068-01-01T00:00:00Z'), ('m', 'http://www.wikidata.org/entity/Q867782'), ('monarchy', 'Kingdom of Funan')]\n",
      "[('inception', '0088-01-01T00:00:00Z'), ('m', 'http://www.wikidata.org/entity/Q10565487'), ('monarchy', 'Chen princedom')]\n",
      "[('inception', '0170-01-01T00:00:00Z'), ('m', 'http://www.wikidata.org/entity/Q17150787'), ('monarchy', 'Bharshiva Dynasty')]\n",
      "[('inception', '0192-01-01T00:00:00Z'), ('m', 'http://www.wikidata.org/entity/Q216786'), ('monarchy', 'Champa')]\n",
      "[('inception', '0200-01-01T00:00:00Z'), ('m', 'http://www.wikidata.org/entity/Q5326812'), ('monarchy', 'Early history of Kedah')]\n",
      "[('inception', '0200-01-01T00:00:00Z'), ('m', 'http://www.wikidata.org/entity/Q2320075'), ('monarchy', 'Langkasuka')]\n",
      "[('inception', '0200-01-01T00:00:00Z'), ('m', 'http://www.wikidata.org/entity/Q6412538'), ('monarchy', 'Kingdom of Araba')]\n",
      "[('inception', '0200-01-01T00:00:00Z'), ('m', 'http://www.wikidata.org/entity/Q27907706'), ('monarchy', 'Shule Kingdom')]\n",
      "[('inception', '0201-01-01T00:00:00Z'), ('m', 'http://www.wikidata.org/entity/Q787336'), ('monarchy', 'Roman Catholic Diocese of Metz')]\n",
      "[('inception', '0220-01-01T00:00:00Z'), ('m', 'http://www.wikidata.org/entity/Q733668'), ('monarchy', 'Ghassanids')]\n",
      "[('inception', '0220-01-01T00:00:00Z'), ('m', 'http://www.wikidata.org/entity/Q733668'), ('monarchy', 'Ghassanids')]\n",
      "[('inception', '0221-01-01T00:00:00Z'), ('m', 'http://www.wikidata.org/entity/Q320925'), ('monarchy', 'Shu Han')]\n",
      "[('inception', '0226-01-01T00:00:00Z'), ('m', 'http://www.wikidata.org/entity/Q83891'), ('monarchy', 'Sasanian Empire')]\n"
     ]
    },
    {
     "data": {
      "text/plain": [
       "15"
      ]
     },
     "execution_count": 28,
     "metadata": {},
     "output_type": "execute_result"
    }
   ],
   "source": [
    "queryString=\"\"\"\n",
    "SELECT ?inception ?m ?monarchy WHERE{\n",
    "\n",
    "    ?m (wdt:P31|wdt:P122)/wdt:P279* wd:Q7269;\n",
    "        wdt:P571 ?inception.\n",
    "    \n",
    "    ?m <http://schema.org/name> ?monarchy.        \n",
    "}\n",
    "ORDER BY ?inception\n",
    "LIMIT 15\n",
    "\"\"\"\n",
    "print(\"Results\")\n",
    "run_query(queryString)"
   ]
  },
  {
   "cell_type": "code",
   "execution_count": 29,
   "id": "afc8b53f-bd09-4b87-81a6-667a437c33bf",
   "metadata": {},
   "outputs": [
    {
     "name": "stdout",
     "output_type": "stream",
     "text": [
      "Results\n",
      "[('inception', '-146-01-01T00:00:00Z'), ('m', 'http://www.wikidata.org/entity/Q1275158'), ('monarchy', 'Elymais')]\n",
      "[('inception', 'nodeID://b223225'), ('m', 'http://www.wikidata.org/entity/Q10863765'), ('monarchy', '㠱国')]\n",
      "[('inception', '-036-01-01T00:00:00Z'), ('m', 'http://www.wikidata.org/entity/Q28370'), ('monarchy', 'Goguryeo')]\n",
      "[('inception', '-056-01-01T00:00:00Z'), ('m', 'http://www.wikidata.org/entity/Q28456'), ('monarchy', 'Silla')]\n",
      "[('inception', 'nodeID://b323316'), ('m', 'http://www.wikidata.org/entity/Q1146786'), ('monarchy', 'Señorío of Cuzcatlán')]\n",
      "[('inception', 'nodeID://b172051'), ('m', 'http://www.wikidata.org/entity/Q11905395'), ('monarchy', 'Amqa')]\n",
      "[('inception', 'nodeID://b12972'), ('m', 'http://www.wikidata.org/entity/Q5656071'), ('monarchy', 'Accha')]\n",
      "[('inception', '-014-01-01T00:00:00Z'), ('m', 'http://www.wikidata.org/entity/Q4781804'), ('monarchy', 'Apraca')]\n",
      "[('inception', '-059-01-01T00:00:00Z'), ('m', 'http://www.wikidata.org/entity/Q173082'), ('monarchy', 'Dacia')]\n",
      "[('inception', '-080-01-01T00:00:00Z'), ('m', 'http://www.wikidata.org/entity/Q2111229'), ('monarchy', 'Kingdom of Chalcis')]\n",
      "[('inception', '-109-01-01T00:00:00Z'), ('m', 'http://www.wikidata.org/entity/Q289577'), ('monarchy', 'Himyarite Kingdom')]\n",
      "[('inception', '-131-01-01T00:00:00Z'), ('m', 'http://www.wikidata.org/entity/Q237234'), ('monarchy', 'Osroene')]\n",
      "[('inception', '-162-01-01T00:00:00Z'), ('m', 'http://www.wikidata.org/entity/Q332137'), ('monarchy', 'Kingdom of Commagene')]\n",
      "[('inception', '-162-01-01T00:00:00Z'), ('m', 'http://www.wikidata.org/entity/Q332137'), ('monarchy', 'Kingdom of Commagene')]\n",
      "[('inception', '-193-01-01T00:00:00Z'), ('m', 'http://www.wikidata.org/entity/Q703340'), ('monarchy', 'Wiman Joseon')]\n"
     ]
    },
    {
     "data": {
      "text/plain": [
       "15"
      ]
     },
     "execution_count": 29,
     "metadata": {},
     "output_type": "execute_result"
    }
   ],
   "source": [
    "queryString=\"\"\"\n",
    "SELECT ?inception ?m ?monarchy WHERE{\n",
    "\n",
    "    ?m (wdt:P31|wdt:P122)/wdt:P279* wd:Q7269;\n",
    "        wdt:P571 ?inception.\n",
    "    \n",
    "    ?m <http://schema.org/name> ?monarchy.        \n",
    "}\n",
    "ORDER BY DESC(?inception)\n",
    "LIMIT 15\n",
    "\"\"\"\n",
    "print(\"Results\")\n",
    "run_query(queryString)"
   ]
  },
  {
   "cell_type": "markdown",
   "id": "b9288b60-9316-4255-b3dc-ddc2edb5fc59",
   "metadata": {},
   "source": [
    "By means of these two queries I notice date starting with '-' are ordered as the biggest one. In order to run a query that returns the top-15 earliest monarchies I have to use the function STRAFTER() in order to order all dates before Christ correctly. In fact, if we look at the results above without this manipulation 146 BC is considered before 14 BC. By filtering for only inception that starts with '-' we ensure all dates are BC. We order by descending order since I am considering BC dates.   "
   ]
  },
  {
   "cell_type": "code",
   "execution_count": 30,
   "id": "3a5260cb-2651-44b9-a772-5d3fa7350930",
   "metadata": {},
   "outputs": [
    {
     "name": "stdout",
     "output_type": "stream",
     "text": [
      "Results\n",
      "[('inceptionYear', '2499'), ('m', 'http://www.wikidata.org/entity/Q41642'), ('monarchy', 'Phoenicia')]\n",
      "[('inceptionYear', '2333'), ('m', 'http://www.wikidata.org/entity/Q4461035'), ('monarchy', 'Akkadian empire')]\n",
      "[('inceptionYear', '2069'), ('m', 'http://www.wikidata.org/entity/Q169705'), ('monarchy', 'Xia dynasty')]\n",
      "[('inceptionYear', '2003'), ('m', 'http://www.wikidata.org/entity/Q617218'), ('monarchy', 'Yamhad')]\n",
      "[('inceptionYear', '2000'), ('m', 'http://www.wikidata.org/entity/Q1760729'), ('monarchy', 'Alashiya')]\n",
      "[('inceptionYear', '1829'), ('m', 'http://www.wikidata.org/entity/Q733897'), ('monarchy', 'First Babylonian Empire')]\n",
      "[('inceptionYear', '1700'), ('m', 'http://www.wikidata.org/entity/Q183150'), ('monarchy', 'Colchis')]\n",
      "[('inceptionYear', '1649'), ('m', 'http://www.wikidata.org/entity/Q178665'), ('monarchy', 'Mitanni')]\n",
      "[('inceptionYear', '1600'), ('m', 'http://www.wikidata.org/entity/Q13053139'), ('monarchy', 'Hittite Empire')]\n",
      "[('inceptionYear', '1599'), ('m', 'http://www.wikidata.org/entity/Q128938'), ('monarchy', 'Shang dynasty')]\n",
      "[('inceptionYear', '1501'), ('m', 'http://www.wikidata.org/entity/Q599590'), ('monarchy', 'Hayasa-Azzi')]\n",
      "[('inceptionYear', '1200'), ('m', 'http://www.wikidata.org/entity/Q234009'), ('monarchy', 'Magadha')]\n",
      "[('inceptionYear', '1200'), ('m', 'http://www.wikidata.org/entity/Q1068408'), ('monarchy', 'Kuru Kingdom')]\n",
      "[('inceptionYear', '1200'), ('m', 'http://www.wikidata.org/entity/Q143737'), ('monarchy', 'Gurgum')]\n",
      "[('inceptionYear', '1100'), ('m', 'http://www.wikidata.org/entity/Q1137403'), ('monarchy', 'Yue')]\n"
     ]
    },
    {
     "data": {
      "text/plain": [
       "15"
      ]
     },
     "execution_count": 30,
     "metadata": {},
     "output_type": "execute_result"
    }
   ],
   "source": [
    "queryString=\"\"\"\n",
    "SELECT DISTINCT ?inceptionYear ?m ?monarchy WHERE{\n",
    "\n",
    "    ?m (wdt:P31|wdt:P122)/wdt:P279* wd:Q7269;\n",
    "        wdt:P571 ?inception;\n",
    "        <http://schema.org/name> ?monarchy.\n",
    "    \n",
    "    FILTER(strstarts(str(?inception), '-'))\n",
    "    BIND(YEAR(xsd:dateTime(strafter(str(?inception), '-'))) AS ?inceptionYear)\n",
    "           \n",
    "}\n",
    "ORDER BY DESC(?inceptionYear)\n",
    "LIMIT 15\n",
    "\"\"\"\n",
    "print(\"Results\")\n",
    "run_query(queryString)"
   ]
  },
  {
   "cell_type": "markdown",
   "id": "9dcfb50c-3eb2-4a9d-bb71-37cd94a72d3d",
   "metadata": {},
   "source": [
    "By following a similar reasoning I retrieve the most recent founded monarchies."
   ]
  },
  {
   "cell_type": "code",
   "execution_count": 31,
   "id": "416674c4-a2a0-4af9-9ea7-8d176054005f",
   "metadata": {},
   "outputs": [
    {
     "name": "stdout",
     "output_type": "stream",
     "text": [
      "Results\n",
      "The operation failed EndPointInternalError: endpoint returned code 500 and response. \n",
      "\n",
      "Response:\n",
      "b'Virtuoso 22007 Error DT006: Cannot convert 11584-01-01T00:00:00Z to datetime : Incorrect year field length\\n\\nSPARQL query:\\ndefine sql:big-data-const 0\\n#output-format:application/sparql-results+json\\n\\n##-0aebe8cba1-##\\nPREFIX wd: <http://www.wikidata.org/entity/> \\nPREFIX wdt: <http://www.wikidata.org/prop/direct/> \\nPREFIX sc: <http://schema.org/>\\n\\n\\nSELECT DISTINCT ?inceptionYear ?m ?monarchy WHERE{\\n\\n    ?m (wdt:P31|wdt:P122)/wdt:P279* wd:Q7269;\\n        wdt:P571 ?inception;\\n        <http://schema.org/name> ?monarchy.\\n    \\n    FILTER(datatype(?inception) = xsd:dateTime)\\n    BIND(YEAR(xsd:dateTime(?inception)) AS ?inceptionYear)\\n           \\n}\\nORDER BY DESC(?inceptionYear)\\nLIMIT 15\\n'\n"
     ]
    }
   ],
   "source": [
    "queryString=\"\"\"\n",
    "SELECT DISTINCT ?inceptionYear ?m ?monarchy WHERE{\n",
    "\n",
    "    ?m (wdt:P31|wdt:P122)/wdt:P279* wd:Q7269;\n",
    "        wdt:P571 ?inception;\n",
    "        <http://schema.org/name> ?monarchy.\n",
    "    \n",
    "    FILTER(datatype(?inception) = xsd:dateTime)\n",
    "    BIND(YEAR(xsd:dateTime(?inception)) AS ?inceptionYear)\n",
    "           \n",
    "}\n",
    "ORDER BY DESC(?inceptionYear)\n",
    "LIMIT 15\n",
    "\"\"\"\n",
    "print(\"Results\")\n",
    "run_query(queryString)"
   ]
  },
  {
   "cell_type": "markdown",
   "id": "f91f901d-af8a-4e79-8bf6-0cc202d88b22",
   "metadata": {},
   "source": [
    "I notice the query throws an error because there is an inception date with year length larger than 4 therefore I filter out inception date in the future for now. "
   ]
  },
  {
   "cell_type": "code",
   "execution_count": 32,
   "id": "cfb2e0ec-35a2-42c3-a67e-858cc26ebb20",
   "metadata": {},
   "outputs": [
    {
     "name": "stdout",
     "output_type": "stream",
     "text": [
      "Results\n",
      "[('inceptionYear', '2020'), ('m', 'http://www.wikidata.org/entity/Q105082407'), ('monarchy', 'Kingdom of Africa')]\n",
      "[('inceptionYear', '2016'), ('m', 'http://www.wikidata.org/entity/Q27304761'), ('monarchy', 'Asgardia')]\n",
      "[('inceptionYear', '2011'), ('m', 'http://www.wikidata.org/entity/Q7382038'), ('monarchy', 'Romanov Empire')]\n",
      "[('inceptionYear', '2008'), ('m', 'http://www.wikidata.org/entity/Q551798'), ('monarchy', 'Grand Duchy of Flandrensis')]\n",
      "[('inceptionYear', '2006'), ('m', 'http://www.wikidata.org/entity/Q2429253'), ('monarchy', 'Islamic State of Iraq and the Levant')]\n",
      "[('inceptionYear', '2004'), ('m', 'http://www.wikidata.org/entity/Q1083009'), ('monarchy', 'Principality of Wy')]\n",
      "[('inceptionYear', '2004'), ('m', 'http://www.wikidata.org/entity/Q1423680'), ('monarchy', 'Gay and Lesbian Kingdom of the Coral Sea Islands')]\n",
      "[('inceptionYear', '1999'), ('m', 'http://www.wikidata.org/entity/Q2429253'), ('monarchy', 'Islamic State of Iraq and the Levant')]\n",
      "[('inceptionYear', '1997'), ('m', 'http://www.wikidata.org/entity/Q3323826'), ('monarchy', 'Duchess of Palma de Mallorca')]\n",
      "[('inceptionYear', '1997'), ('m', 'http://www.wikidata.org/entity/Q19356759'), ('monarchy', 'Holy Empire of Reunion')]\n",
      "[('inceptionYear', '1996'), ('m', 'http://www.wikidata.org/entity/Q968430'), ('monarchy', 'Ladonia')]\n",
      "[('inceptionYear', '1991'), ('m', 'http://www.wikidata.org/entity/Q817'), ('monarchy', 'Kuwait')]\n",
      "[('inceptionYear', '1987'), ('m', 'http://www.wikidata.org/entity/Q1152445'), ('monarchy', 'Aerican Empire')]\n",
      "[('inceptionYear', '1986'), ('m', 'http://www.wikidata.org/entity/Q664'), ('monarchy', 'New Zealand')]\n",
      "[('inceptionYear', '1984'), ('m', 'http://www.wikidata.org/entity/Q921'), ('monarchy', 'Brunei')]\n"
     ]
    },
    {
     "data": {
      "text/plain": [
       "15"
      ]
     },
     "execution_count": 32,
     "metadata": {},
     "output_type": "execute_result"
    }
   ],
   "source": [
    "queryString=\"\"\"\n",
    "SELECT DISTINCT ?inceptionYear ?m ?monarchy WHERE{\n",
    "\n",
    "    ?m (wdt:P31|wdt:P122)/wdt:P279* wd:Q7269;\n",
    "        wdt:P571 ?inception;\n",
    "        <http://schema.org/name> ?monarchy.\n",
    "    \n",
    "    FILTER(datatype(?inception) = xsd:dateTime && ?inception < NOW())\n",
    "    BIND(YEAR(xsd:dateTime(?inception)) AS ?inceptionYear)\n",
    "           \n",
    "}\n",
    "ORDER BY DESC(?inceptionYear)\n",
    "LIMIT 15\n",
    "\"\"\"\n",
    "print(\"Results\")\n",
    "run_query(queryString)"
   ]
  },
  {
   "cell_type": "markdown",
   "id": "5fc90517-2b0d-4a30-a788-4c6c6ef7efdd",
   "metadata": {},
   "source": [
    "Since in the previous query I noticed there is a monarchy founded in the future (probably related to fiction) I run a query to retrieve all possible monarchies founded in the future by filtering on inception."
   ]
  },
  {
   "cell_type": "code",
   "execution_count": 33,
   "id": "00e2c11c-7eae-433b-9a81-8f38dd5d0785",
   "metadata": {},
   "outputs": [
    {
     "name": "stdout",
     "output_type": "stream",
     "text": [
      "Results\n",
      "[('inception', 'nodeID://b172051'), ('m', 'http://www.wikidata.org/entity/Q11905395'), ('monarchy', 'Amqa')]\n",
      "[('inception', 'nodeID://b223225'), ('m', 'http://www.wikidata.org/entity/Q10863765'), ('monarchy', '㠱国')]\n",
      "[('inception', 'nodeID://b323316'), ('m', 'http://www.wikidata.org/entity/Q1146786'), ('monarchy', 'Señorío of Cuzcatlán')]\n",
      "[('inception', '11584-01-01T00:00:00Z'), ('m', 'http://www.wikidata.org/entity/Q2349630'), ('monarchy', 'Galactic Empire')]\n",
      "[('inception', 'nodeID://b12972'), ('m', 'http://www.wikidata.org/entity/Q5656071'), ('monarchy', 'Accha')]\n"
     ]
    },
    {
     "data": {
      "text/plain": [
       "5"
      ]
     },
     "execution_count": 33,
     "metadata": {},
     "output_type": "execute_result"
    }
   ],
   "source": [
    "queryString=\"\"\"\n",
    "SELECT ?inception ?m ?monarchy WHERE{\n",
    "\n",
    "    ?m (wdt:P31|wdt:P122)/wdt:P279* wd:Q7269;\n",
    "        wdt:P571 ?inception;\n",
    "        <http://schema.org/name> ?monarchy.\n",
    "    \n",
    "    FILTER(?inception > NOW() && !strstarts(str(?inception),'-'))\n",
    "           \n",
    "}\n",
    "ORDER BY ?inception\n",
    "\"\"\"\n",
    "print(\"Results\")\n",
    "run_query(queryString)"
   ]
  },
  {
   "cell_type": "markdown",
   "id": "75931214-3f64-4e0c-95a9-b5d8a593ab35",
   "metadata": {},
   "source": [
    "I run some queries to understand what \"nodeID://...\" stands for."
   ]
  },
  {
   "cell_type": "code",
   "execution_count": 34,
   "id": "33453e7f-878f-4872-a898-bc60c3bc2224",
   "metadata": {},
   "outputs": [
    {
     "name": "stdout",
     "output_type": "stream",
     "text": [
      "Results\n",
      "[('monarchy', 'Accha'), ('pname', 'location'), ('oname', 'Morocco')]\n",
      "[('monarchy', 'Accha'), ('pname', 'instance of'), ('oname', 'principality')]\n",
      "[('monarchy', 'Amqa'), ('pname', 'instance of'), ('oname', 'principality')]\n",
      "[('monarchy', 'Amqa'), ('pname', 'time period'), ('oname', 'classical antiquity')]\n",
      "[('monarchy', 'Señorío of Cuzcatlán'), ('pname', 'language used'), ('oname', 'Poqomam')]\n",
      "[('monarchy', 'Señorío of Cuzcatlán'), ('pname', 'official language'), ('oname', 'Pipil')]\n",
      "[('monarchy', 'Señorío of Cuzcatlán'), ('pname', 'country'), ('oname', 'Señorío of Cuzcatlán')]\n",
      "[('monarchy', 'Señorío of Cuzcatlán'), ('pname', 'instance of'), ('oname', 'historical country')]\n",
      "[('monarchy', 'Señorío of Cuzcatlán'), ('pname', 'basic form of government'), ('oname', 'monarchy')]\n",
      "[('monarchy', 'Señorío of Cuzcatlán'), ('pname', 'capital'), ('oname', 'Antiguo Cuscatlán')]\n",
      "[('monarchy', 'Señorío of Cuzcatlán'), ('pname', 'continent'), ('oname', 'North America')]\n",
      "[('monarchy', '㠱国'), ('pname', 'instance of'), ('oname', 'ancient Chinese state')]\n",
      "[('monarchy', '㠱国'), ('pname', 'instance of'), ('oname', 'petty kingdom')]\n"
     ]
    },
    {
     "data": {
      "text/plain": [
       "13"
      ]
     },
     "execution_count": 34,
     "metadata": {},
     "output_type": "execute_result"
    }
   ],
   "source": [
    "queryString=\"\"\"\n",
    "SELECT ?monarchy ?pname ?oname WHERE{\n",
    "\n",
    "    ?m (wdt:P31|wdt:P122)/wdt:P279* wd:Q7269;\n",
    "        wdt:P571 ?inception;\n",
    "        ?p ?o;\n",
    "        <http://schema.org/name> ?monarchy.\n",
    "    \n",
    "    ?p <http://schema.org/name> ?pname.\n",
    "    ?o <http://schema.org/name> ?oname.\n",
    "    \n",
    "    FILTER(contains(str(?inception),'nodeID'))\n",
    "           \n",
    "}\n",
    "ORDER BY ?monarchy\n",
    "\"\"\"\n",
    "print(\"Results\")\n",
    "run_query(queryString)"
   ]
  },
  {
   "cell_type": "code",
   "execution_count": 35,
   "id": "c88b24cc-4328-4566-b2eb-ef87fba83cd7",
   "metadata": {},
   "outputs": [
    {
     "name": "stdout",
     "output_type": "stream",
     "text": [
      "Results\n",
      "Empty\n"
     ]
    },
    {
     "data": {
      "text/plain": [
       "0"
      ]
     },
     "execution_count": 35,
     "metadata": {},
     "output_type": "execute_result"
    }
   ],
   "source": [
    "queryString=\"\"\"\n",
    "SELECT ?monarchy ?inception ?name WHERE{\n",
    "\n",
    "    ?m (wdt:P31|wdt:P122)/wdt:P279* wd:Q7269;\n",
    "        wdt:P571 ?inception;\n",
    "        <http://schema.org/name> ?monarchy.\n",
    "        \n",
    "    ?inception <http://schema.org/name> ?name.\n",
    "    \n",
    "    FILTER(contains(str(?inception),'nodeID'))\n",
    "           \n",
    "}\n",
    "\"\"\"\n",
    "print(\"Results\")\n",
    "run_query(queryString)"
   ]
  },
  {
   "cell_type": "code",
   "execution_count": 36,
   "id": "546ae015-5cf0-4f52-b3ef-2b6661f4a777",
   "metadata": {},
   "outputs": [
    {
     "name": "stdout",
     "output_type": "stream",
     "text": [
      "Results\n",
      "Empty\n"
     ]
    },
    {
     "data": {
      "text/plain": [
       "0"
      ]
     },
     "execution_count": 36,
     "metadata": {},
     "output_type": "execute_result"
    }
   ],
   "source": [
    "queryString=\"\"\"\n",
    "SELECT ?inception ?p ?pname ?o ?oname WHERE{\n",
    "\n",
    "    ?m (wdt:P31|wdt:P122)/wdt:P279* wd:Q7269;\n",
    "        wdt:P571 ?inception.\n",
    "        \n",
    "    ?inception ?p ?o.\n",
    "    \n",
    "    ?p <http://schema.org/name> ?pname.\n",
    "    ?o <http://schema.org/name> ?oname.\n",
    "    \n",
    "    FILTER(contains(str(?inception),'nodeID'))\n",
    "           \n",
    "}\n",
    "ORDER BY ?monarchy\n",
    "\"\"\"\n",
    "print(\"Results\")\n",
    "run_query(queryString)"
   ]
  },
  {
   "cell_type": "markdown",
   "id": "d34cabb1-27ae-4bf9-a2dd-4a5d9d4f38ff",
   "metadata": {},
   "source": [
    "After these three queries I can safely say this nodes do not provide any useful information about the inception of the monarchies they refer to."
   ]
  },
  {
   "cell_type": "markdown",
   "id": "e8aa2f8a-1812-4d0e-89a3-a60668df5936",
   "metadata": {},
   "source": [
    "Finally, we can count how many monarchies were founded per year."
   ]
  },
  {
   "cell_type": "code",
   "execution_count": 37,
   "id": "adb4a181-1b22-4ad4-aa62-951c88a85f4b",
   "metadata": {},
   "outputs": [
    {
     "name": "stdout",
     "output_type": "stream",
     "text": [
      "Results\n",
      "[('inceptionYear', '700'), ('monarchies', '27')]\n",
      "[('inceptionYear', '1806'), ('monarchies', '14')]\n",
      "[('inceptionYear', '1815'), ('monarchies', '13')]\n",
      "[('inceptionYear', '1803'), ('monarchies', '12')]\n",
      "[('inceptionYear', '500'), ('monarchies', '11')]\n",
      "[('inceptionYear', '1500'), ('monarchies', '9')]\n",
      "[('inceptionYear', '1180'), ('monarchies', '9')]\n",
      "[('inceptionYear', '1814'), ('monarchies', '9')]\n",
      "[('inceptionYear', '1918'), ('monarchies', '9')]\n",
      "[('inceptionYear', '800'), ('monarchies', '7')]\n",
      "[('inceptionYear', '1400'), ('monarchies', '7')]\n",
      "[('inceptionYear', '900'), ('monarchies', '6')]\n",
      "[('inceptionYear', '1747'), ('monarchies', '6')]\n",
      "[('inceptionYear', '1867'), ('monarchies', '6')]\n",
      "[('inceptionYear', '1680'), ('monarchies', '6')]\n"
     ]
    },
    {
     "data": {
      "text/plain": [
       "15"
      ]
     },
     "execution_count": 37,
     "metadata": {},
     "output_type": "execute_result"
    }
   ],
   "source": [
    "queryString=\"\"\"\n",
    "SELECT ?inceptionYear (COUNT(DISTINCT ?m) AS ?monarchies) WHERE{\n",
    "\n",
    "    ?m (wdt:P31|wdt:P122)/wdt:P279* wd:Q7269;\n",
    "        wdt:P571 ?inception.\n",
    "    \n",
    "    FILTER(datatype(?inception) = xsd:dateTime && ?inception < NOW())\n",
    "    BIND(YEAR(xsd:dateTime(?inception)) AS ?inceptionYear)\n",
    "           \n",
    "}\n",
    "GROUP BY ?inceptionYear\n",
    "ORDER BY DESC(?monarchies)\n",
    "LIMIT 15\n",
    "\"\"\"\n",
    "print(\"Results\")\n",
    "run_query(queryString)"
   ]
  },
  {
   "cell_type": "markdown",
   "id": "19b42b3c-0c28-4de6-9af4-37dc646cb7ff",
   "metadata": {},
   "source": [
    "This query shows some interesting results since we can notice in some years (e.g., 700, 1806, 1815) more than 20 monarchies were founded. This result could be caused by some important historical events, for example an indipendence war."
   ]
  },
  {
   "cell_type": "markdown",
   "id": "1bdd1bf1-7124-44d5-b6ab-73fdbdf825a1",
   "metadata": {
    "tags": []
   },
   "source": [
    "#### Royal Families"
   ]
  },
  {
   "cell_type": "markdown",
   "id": "7dcec4e4-6c99-49e4-84f0-8ce78fb18567",
   "metadata": {},
   "source": [
    "We now retrieve information about the dinasty that governs a monarchy. "
   ]
  },
  {
   "cell_type": "code",
   "execution_count": 38,
   "id": "12922c14-a3c5-40d3-a09c-71362c2cd3f5",
   "metadata": {},
   "outputs": [
    {
     "name": "stdout",
     "output_type": "stream",
     "text": [
      "Results\n",
      "[('monarchy', 'Principality of Lippe'), ('p', 'http://www.wikidata.org/prop/direct/P53'), ('pname', 'family'), ('oname', 'House of Lippe')]\n",
      "[('monarchy', 'Mamluk Sultanate'), ('p', 'http://www.wikidata.org/prop/direct/P53'), ('pname', 'family'), ('oname', 'Bahri dynasty')]\n",
      "[('monarchy', 'Mamluk Sultanate'), ('p', 'http://www.wikidata.org/prop/direct/P53'), ('pname', 'family'), ('oname', 'Burji dynasty')]\n",
      "[('monarchy', 'Principality of Lüneburg'), ('p', 'http://www.wikidata.org/prop/direct/P53'), ('pname', 'family'), ('oname', 'House of Welf')]\n",
      "[('monarchy', 'Kingdom of Pontus'), ('p', 'http://www.wikidata.org/prop/direct/P53'), ('pname', 'family'), ('oname', 'Mithridatic dynasty')]\n",
      "[('monarchy', 'Joseon'), ('p', 'http://www.wikidata.org/prop/direct/P53'), ('pname', 'family'), ('oname', 'House of Yi')]\n",
      "[('monarchy', 'Benares State'), ('p', 'http://www.wikidata.org/prop/direct/P53'), ('pname', 'family'), ('oname', 'Royal House of Benares')]\n",
      "[('monarchy', 'Duchy of Ferrara'), ('p', 'http://www.wikidata.org/prop/direct/P53'), ('pname', 'family'), ('oname', 'House of Este')]\n",
      "[('monarchy', 'Carolingian Empire'), ('p', 'http://www.wikidata.org/prop/direct/P53'), ('pname', 'family'), ('oname', 'Carolingian dynasty')]\n",
      "[('monarchy', 'Safavid Empire'), ('p', 'http://www.wikidata.org/prop/direct/P53'), ('pname', 'family'), ('oname', 'Safavid dynasty')]\n",
      "[('monarchy', 'March of Montferrat'), ('p', 'http://www.wikidata.org/prop/direct/P53'), ('pname', 'family'), ('oname', 'Aleramici')]\n",
      "[('monarchy', 'Empire of Thessalonica'), ('p', 'http://www.wikidata.org/prop/direct/P53'), ('pname', 'family'), ('oname', 'Komnenodoukas family')]\n",
      "[('monarchy', 'First Toungoo Empire'), ('p', 'http://www.wikidata.org/prop/direct/P53'), ('pname', 'family'), ('oname', 'Taungoo Dynasty')]\n"
     ]
    },
    {
     "data": {
      "text/plain": [
       "13"
      ]
     },
     "execution_count": 38,
     "metadata": {},
     "output_type": "execute_result"
    }
   ],
   "source": [
    "queryString=\"\"\"\n",
    "SELECT DISTINCT ?monarchy ?p ?pname ?oname WHERE { \n",
    "\n",
    "?m (wdt:P31|wdt:P122)/wdt:P279* wd:Q7269;\n",
    "    <http://schema.org/name> ?monarchy;\n",
    "    ?p ?o.\n",
    "    \n",
    "?p <http://schema.org/name> ?pname.\n",
    "?o <http://schema.org/name> ?oname.\n",
    "    \n",
    "FILTER(regex(?pname, \".*[D,d]inasty.*\") || regex(?pname, \".*[F,f]amily.*\") || regex(?oname, \".*[D,d]inasty.*\"))\n",
    "\n",
    "\n",
    "} \n",
    "\n",
    "\"\"\"\n",
    "print(\"Results\")\n",
    "run_query(queryString)"
   ]
  },
  {
   "cell_type": "markdown",
   "id": "86992712-2d66-4a7e-89de-dc3da78d62e1",
   "metadata": {},
   "source": [
    "I discovered wdt:P53 retrieve the family name of a monarchy. I run a query to see how many monarchies have this property."
   ]
  },
  {
   "cell_type": "code",
   "execution_count": 39,
   "id": "75f41e12-e7de-4076-a1c0-a4684479de71",
   "metadata": {},
   "outputs": [
    {
     "name": "stdout",
     "output_type": "stream",
     "text": [
      "Results\n",
      "[('monarchiesWithFAM', '17')]\n"
     ]
    },
    {
     "data": {
      "text/plain": [
       "1"
      ]
     },
     "execution_count": 39,
     "metadata": {},
     "output_type": "execute_result"
    }
   ],
   "source": [
    "queryString=\"\"\"\n",
    "SELECT (COUNT(?m) AS ?monarchiesWithFAM) WHERE { \n",
    "\n",
    "?m (wdt:P31|wdt:P122)/wdt:P279* wd:Q7269;\n",
    "    wdt:P53 ?family.\n",
    "} \n",
    "\n",
    "\"\"\"\n",
    "print(\"Results\")\n",
    "run_query(queryString)"
   ]
  },
  {
   "cell_type": "markdown",
   "id": "eb756fb8-c8c1-45c3-acb8-bc8f37b22a5c",
   "metadata": {},
   "source": [
    "Only 17 monarchies have property wdt:P53 therefore I run some queries to retrieve some useful properties that could contain the same information. I recall wdt:P35 indicates the head of state of a country."
   ]
  },
  {
   "cell_type": "code",
   "execution_count": 40,
   "id": "30ec4299-934c-4e9e-ab33-e81c7d70b76e",
   "metadata": {},
   "outputs": [
    {
     "name": "stdout",
     "output_type": "stream",
     "text": [
      "Results\n",
      "[('monarchy', 'East Francia'), ('head', 'Conrad I of Germany'), ('p', 'http://www.wikidata.org/prop/direct/P53'), ('pname', 'family'), ('oname', 'Conradines')]\n",
      "[('monarchy', 'Islands of Refreshment'), ('head', 'Jonathan Lambert'), ('p', 'http://www.wikidata.org/prop/direct/P734'), ('pname', 'family name'), ('oname', 'Lambert')]\n",
      "[('monarchy', 'Kingdom of Spain'), ('head', 'Amadeo I of Spain'), ('p', 'http://www.wikidata.org/prop/direct/P734'), ('pname', 'family name'), ('oname', 'Savoia')]\n",
      "[('monarchy', 'Kingdom of Spain'), ('head', 'Amadeo I of Spain'), ('p', 'http://www.wikidata.org/prop/direct/P53'), ('pname', 'family'), ('oname', 'House of Savoy')]\n",
      "[('monarchy', 'Lesotho'), ('head', 'Letsie III of Lesotho'), ('p', 'http://www.wikidata.org/prop/direct/P53'), ('pname', 'family'), ('oname', 'Moshoeshoe I')]\n",
      "[('monarchy', 'Mongol Empire'), ('head', 'Toghon Temür'), ('p', 'http://www.wikidata.org/prop/direct/P734'), ('pname', 'family name'), ('oname', 'Borjigin')]\n",
      "[('monarchy', 'Mongol Empire'), ('head', 'Toghon Temür'), ('p', 'http://www.wikidata.org/prop/direct/P53'), ('pname', 'family'), ('oname', 'Borjigin')]\n",
      "[('monarchy', 'Monaco'), ('head', 'Albert II, Prince of Monaco'), ('p', 'http://www.wikidata.org/prop/direct/P734'), ('pname', 'family name'), ('oname', 'Grimaldi')]\n",
      "[('monarchy', 'Monaco'), ('head', 'Albert II, Prince of Monaco'), ('p', 'http://www.wikidata.org/prop/direct/P53'), ('pname', 'family'), ('oname', 'House of Grimaldi')]\n",
      "[('monarchy', 'Oman'), ('head', 'Haitham bin Tarik Al Said'), ('p', 'http://www.wikidata.org/prop/direct/P53'), ('pname', 'family'), ('oname', 'Al Said')]\n",
      "[('monarchy', 'Saudi Arabia'), ('head', 'Salman of Saudi Arabia'), ('p', 'http://www.wikidata.org/prop/direct/P53'), ('pname', 'family'), ('oname', 'House of Saud')]\n",
      "[('monarchy', 'Hispanic Monarchy One'), ('head', 'Charles II of Spain'), ('p', 'http://www.wikidata.org/prop/direct/P53'), ('pname', 'family'), ('oname', 'House of Habsburg (Spain)')]\n",
      "[('monarchy', 'Kingdom of Greece'), ('head', 'Konstantinos II of Greece'), ('p', 'http://www.wikidata.org/prop/direct/P53'), ('pname', 'family'), ('oname', 'House of Glücksburg')]\n",
      "[('monarchy', 'Duchy of Milan'), ('head', 'Gian Galeazzo Sforza'), ('p', 'http://www.wikidata.org/prop/direct/P734'), ('pname', 'family name'), ('oname', 'Sforza')]\n",
      "[('monarchy', 'Duchy of Milan'), ('head', 'Gian Galeazzo Sforza'), ('p', 'http://www.wikidata.org/prop/direct/P53'), ('pname', 'family'), ('oname', 'House of Sforza')]\n",
      "[('monarchy', 'Sultanate of Nejd'), ('head', 'Ibn Saud'), ('p', 'http://www.wikidata.org/prop/direct/P53'), ('pname', 'family'), ('oname', 'House of Saud')]\n",
      "[('monarchy', 'First Toungoo Empire'), ('head', 'Tabinshwehti'), ('p', 'http://www.wikidata.org/prop/direct/P53'), ('pname', 'family'), ('oname', 'Taungoo Dynasty')]\n",
      "[('monarchy', 'First Toungoo Empire'), ('head', 'Mingyinyo'), ('p', 'http://www.wikidata.org/prop/direct/P53'), ('pname', 'family'), ('oname', 'Taungoo Dynasty')]\n",
      "[('monarchy', 'First Toungoo Empire'), ('head', 'Nanda Bayin'), ('p', 'http://www.wikidata.org/prop/direct/P53'), ('pname', 'family'), ('oname', 'Taungoo Dynasty')]\n",
      "[('monarchy', 'Margraviate of Baden-Durlach'), ('head', 'Charles III William of Baden-Durlach'), ('p', 'http://www.wikidata.org/prop/direct/P53'), ('pname', 'family'), ('oname', 'House of Zähringen')]\n",
      "[('monarchy', 'Margraviate of Baden-Durlach'), ('head', 'Frederick V, Margrave of Baden-Durlach'), ('p', 'http://www.wikidata.org/prop/direct/P53'), ('pname', 'family'), ('oname', 'House of Zähringen')]\n",
      "[('monarchy', 'Margraviate of Baden-Durlach'), ('head', 'Frederick VII, Margrave of Baden-Durlach'), ('p', 'http://www.wikidata.org/prop/direct/P53'), ('pname', 'family'), ('oname', 'House of Zähringen')]\n",
      "[('monarchy', 'Empire of China'), ('head', 'Yuan Shikai'), ('p', 'http://www.wikidata.org/prop/direct/P734'), ('pname', 'family name'), ('oname', 'Yuan')]\n",
      "[('monarchy', 'Principality of Bulgaria'), ('head', 'Ferdinand I of Bulgaria'), ('p', 'http://www.wikidata.org/prop/direct/P734'), ('pname', 'family name'), ('oname', 'Bulgaria')]\n",
      "[('monarchy', 'Principality of Bulgaria'), ('head', 'Ferdinand I of Bulgaria'), ('p', 'http://www.wikidata.org/prop/direct/P53'), ('pname', 'family'), ('oname', 'House of Saxe-Coburg and Gotha-Koháry (Bulgaria)')]\n",
      "[('monarchy', 'Principality of Bulgaria'), ('head', 'Ferdinand I of Bulgaria'), ('p', 'http://www.wikidata.org/prop/direct/P53'), ('pname', 'family'), ('oname', 'House of Saxe-Coburg and Gotha-Koháry')]\n",
      "[('monarchy', 'Kingdom of Spain'), ('head', 'Joseph Bonaparte'), ('p', 'http://www.wikidata.org/prop/direct/P734'), ('pname', 'family name'), ('oname', 'Bonaparte')]\n",
      "[('monarchy', 'Kingdom of Spain'), ('head', 'Joseph Bonaparte'), ('p', 'http://www.wikidata.org/prop/direct/P53'), ('pname', 'family'), ('oname', 'House of Bonaparte')]\n",
      "[('monarchy', 'Kingdom of the Netherlands'), ('head', 'Willem-Alexander of the Netherlands'), ('p', 'http://www.wikidata.org/prop/direct/P53'), ('pname', 'family'), ('oname', 'House of Orange-Nassau')]\n",
      "[('monarchy', 'Netherlands'), ('head', 'Willem-Alexander of the Netherlands'), ('p', 'http://www.wikidata.org/prop/direct/P53'), ('pname', 'family'), ('oname', 'House of Orange-Nassau')]\n",
      "[('monarchy', 'Kingdom of Bulgaria'), ('head', 'Ferdinand I of Bulgaria'), ('p', 'http://www.wikidata.org/prop/direct/P53'), ('pname', 'family'), ('oname', 'House of Saxe-Coburg and Gotha-Koháry')]\n",
      "[('monarchy', 'Kingdom of Bulgaria'), ('head', 'Ferdinand I of Bulgaria'), ('p', 'http://www.wikidata.org/prop/direct/P53'), ('pname', 'family'), ('oname', 'House of Saxe-Coburg and Gotha-Koháry (Bulgaria)')]\n",
      "[('monarchy', 'Kingdom of Bulgaria'), ('head', 'Ferdinand I of Bulgaria'), ('p', 'http://www.wikidata.org/prop/direct/P734'), ('pname', 'family name'), ('oname', 'Bulgaria')]\n",
      "[('monarchy', 'Kingdom of Bulgaria'), ('head', 'Boris III of Bulgaria'), ('p', 'http://www.wikidata.org/prop/direct/P53'), ('pname', 'family'), ('oname', 'House Saxe-Coburg-Gotha, Bulgarian branch')]\n",
      "[('monarchy', 'Umayyad Caliphate'), ('head', 'Umar II'), ('p', 'http://www.wikidata.org/prop/direct/P53'), ('pname', 'family'), ('oname', 'Umayyad dynasty')]\n",
      "[('monarchy', 'Kingdom of Etruria'), ('head', 'Louis of Parma, king of Etruria'), ('p', 'http://www.wikidata.org/prop/direct/P53'), ('pname', 'family'), ('oname', 'House of Bourbon-Parma')]\n",
      "[('monarchy', 'Kingdom of Etruria'), ('head', 'Louis of Parma, king of Etruria'), ('p', 'http://www.wikidata.org/prop/direct/P53'), ('pname', 'family'), ('oname', 'Capetian dynasty')]\n",
      "[('monarchy', 'Kingdom of Etruria'), ('head', 'Louis of Parma, king of Etruria'), ('p', 'http://www.wikidata.org/prop/direct/P734'), ('pname', 'family name'), ('oname', 'House of Bourbon-Parma')]\n",
      "[('monarchy', 'Kingdom of Etruria'), ('head', 'Charles II, Duke of Parma'), ('p', 'http://www.wikidata.org/prop/direct/P53'), ('pname', 'family'), ('oname', 'House of Bourbon-Parma')]\n",
      "[('monarchy', 'State of Brazil'), ('head', 'Maria I of Portugal'), ('p', 'http://www.wikidata.org/prop/direct/P53'), ('pname', 'family'), ('oname', 'House of Braganza')]\n",
      "[('monarchy', 'Duchy of Cleves'), ('head', 'Adolph I'), ('p', 'http://www.wikidata.org/prop/direct/P53'), ('pname', 'family'), ('oname', 'House of La Marck')]\n",
      "[('monarchy', 'Duchy of Cleves'), ('head', 'John I, Duke of Cleves'), ('p', 'http://www.wikidata.org/prop/direct/P53'), ('pname', 'family'), ('oname', 'House of La Marck')]\n",
      "[('monarchy', 'Kingdom of Northumbria'), ('head', 'Eric Bloodaxe'), ('p', 'http://www.wikidata.org/prop/direct/P53'), ('pname', 'family'), ('oname', 'Fairhair dynasty')]\n",
      "[('monarchy', 'Duchy of Milan'), ('head', 'Galeazzo Maria Sforza'), ('p', 'http://www.wikidata.org/prop/direct/P734'), ('pname', 'family name'), ('oname', 'Sforza')]\n",
      "[('monarchy', 'Duchy of Milan'), ('head', 'Galeazzo Maria Sforza'), ('p', 'http://www.wikidata.org/prop/direct/P53'), ('pname', 'family'), ('oname', 'House of Sforza')]\n",
      "[('monarchy', 'Media'), ('head', 'Cyrus the Great'), ('p', 'http://www.wikidata.org/prop/direct/P53'), ('pname', 'family'), ('oname', 'Achaemenid dynasty')]\n",
      "[('monarchy', 'Krevsk Duchy'), ('head', 'Algirdas'), ('p', 'http://www.wikidata.org/prop/direct/P53'), ('pname', 'family'), ('oname', 'Gediminids')]\n",
      "[('monarchy', 'Krevsk Duchy'), ('head', 'Władysław II Jagiełło'), ('p', 'http://www.wikidata.org/prop/direct/P53'), ('pname', 'family'), ('oname', 'Jagiellonian dynasty')]\n",
      "[('monarchy', 'Krevsk Duchy'), ('head', 'Władysław II Jagiełło'), ('p', 'http://www.wikidata.org/prop/direct/P53'), ('pname', 'family'), ('oname', 'Gediminids')]\n",
      "[('monarchy', 'Kingdom of Spain under Joseph Bonaparte'), ('head', 'Joseph Bonaparte'), ('p', 'http://www.wikidata.org/prop/direct/P53'), ('pname', 'family'), ('oname', 'House of Bonaparte')]\n"
     ]
    },
    {
     "data": {
      "text/plain": [
       "50"
      ]
     },
     "execution_count": 40,
     "metadata": {},
     "output_type": "execute_result"
    }
   ],
   "source": [
    "queryString=\"\"\"\n",
    "SELECT DISTINCT ?monarchy ?head ?p ?pname ?oname WHERE { \n",
    "\n",
    "?m (wdt:P31|wdt:P122)/wdt:P279* wd:Q7269;\n",
    "    wdt:P35 ?h;\n",
    "    <http://schema.org/name> ?monarchy.\n",
    "    \n",
    "?h ?p ?o.\n",
    "?h <http://schema.org/name> ?head.\n",
    "?p <http://schema.org/name> ?pname.\n",
    "?o <http://schema.org/name> ?oname.\n",
    "FILTER(regex(?pname, \".*[D,d]inasty.*\") || regex(?pname, \".*[F,f]amily.*\") || regex(?oname, \".*[D,d]inasty.*\"))\n",
    "} \n",
    "LIMIT 50\n",
    "\n",
    "\"\"\"\n",
    "print(\"Results\")\n",
    "run_query(queryString)"
   ]
  },
  {
   "cell_type": "markdown",
   "id": "102af1de-2916-4aa3-adf5-2c24d7782a8a",
   "metadata": {},
   "source": [
    "We can retrieve more information by passing through the head of state family (wdt:P53) or family name (wdt:P734). I can run a query to see if we have more families that run the same kingdom. "
   ]
  },
  {
   "cell_type": "code",
   "execution_count": 41,
   "id": "c8e37d77-a2c4-4f4f-a67d-5ff0eae0e72c",
   "metadata": {},
   "outputs": [
    {
     "name": "stdout",
     "output_type": "stream",
     "text": [
      "Results\n",
      "[('m', 'http://www.wikidata.org/entity/Q3399982'), ('monarchy', 'Kingdom of Spain'), ('families', '6')]\n",
      "[('m', 'http://www.wikidata.org/entity/Q147909'), ('monarchy', 'Kingdom of Bulgaria'), ('families', '4')]\n",
      "[('m', 'http://www.wikidata.org/entity/Q153529'), ('monarchy', 'Duchy of Milan'), ('families', '4')]\n",
      "[('m', 'http://www.wikidata.org/entity/Q815731'), ('monarchy', 'Principality of Bulgaria'), ('families', '4')]\n",
      "[('m', 'http://www.wikidata.org/entity/Q650370'), ('monarchy', 'Margraviate of Baden-Durlach'), ('families', '4')]\n",
      "[('m', 'http://www.wikidata.org/entity/Q34266'), ('monarchy', 'Russian Empire'), ('families', '3')]\n",
      "[('m', 'http://www.wikidata.org/entity/Q32'), ('monarchy', 'Luxembourg'), ('families', '3')]\n",
      "[('m', 'http://www.wikidata.org/entity/Q11876909'), ('monarchy', 'State of Brazil'), ('families', '3')]\n",
      "[('m', 'http://www.wikidata.org/entity/Q398'), ('monarchy', 'Bahrain'), ('families', '3')]\n",
      "[('m', 'http://www.wikidata.org/entity/Q153080'), ('monarchy', 'East Francia'), ('families', '3')]\n",
      "[('m', 'http://www.wikidata.org/entity/Q35715'), ('monarchy', 'South Australia'), ('families', '3')]\n",
      "[('m', 'http://www.wikidata.org/entity/Q172579'), ('monarchy', 'Kingdom of Italy'), ('families', '2')]\n",
      "[('m', 'http://www.wikidata.org/entity/Q320925'), ('monarchy', 'Shu Han'), ('families', '2')]\n",
      "[('m', 'http://www.wikidata.org/entity/Q69323'), ('monarchy', 'Kingdom of France'), ('families', '2')]\n",
      "[('m', 'http://www.wikidata.org/entity/Q7603765'), ('monarchy', 'State of Malta'), ('families', '2')]\n"
     ]
    },
    {
     "data": {
      "text/plain": [
       "15"
      ]
     },
     "execution_count": 41,
     "metadata": {},
     "output_type": "execute_result"
    }
   ],
   "source": [
    "queryString=\"\"\"\n",
    "SELECT ?m ?monarchy (COUNT(DISTINCT ?family) AS ?families) WHERE { \n",
    "\n",
    "?m (wdt:P31|wdt:P122)/wdt:P279* wd:Q7269;\n",
    "    wdt:P35/(wdt:P53|wdt:P734) ?family;\n",
    "    <http://schema.org/name> ?monarchy.\n",
    "    \n",
    "} \n",
    "GROUP BY ?m ?monarchy\n",
    "ORDER BY DESC(?families)\n",
    "LIMIT 15\n",
    "\n",
    "\"\"\"\n",
    "print(\"Results\")\n",
    "run_query(queryString)"
   ]
  },
  {
   "cell_type": "markdown",
   "id": "d78a6ccf-52a4-4d90-9862-966c7d02621d",
   "metadata": {},
   "source": [
    "I run a query to see  the two families that governed Kingdom of Italy in order to see if the query is counting results in an incorrect way."
   ]
  },
  {
   "cell_type": "code",
   "execution_count": 42,
   "id": "0edd2eb4-8802-48c2-99e9-d7f2fa683c30",
   "metadata": {},
   "outputs": [
    {
     "name": "stdout",
     "output_type": "stream",
     "text": [
      "Results\n",
      "[('monarchy', 'Kingdom of Italy'), ('families', 'House of Savoy, Savoy')]\n"
     ]
    },
    {
     "data": {
      "text/plain": [
       "1"
      ]
     },
     "execution_count": 42,
     "metadata": {},
     "output_type": "execute_result"
    }
   ],
   "source": [
    "queryString=\"\"\"\n",
    "SELECT ?monarchy (GROUP_CONCAT(DISTINCT ?family ; separator=', ') AS ?families) WHERE { \n",
    "\n",
    "wd:Q172579 wdt:P35/(wdt:P53|wdt:P734) ?f;\n",
    "    <http://schema.org/name> ?monarchy.\n",
    "    \n",
    "?f <http://schema.org/name> ?family.\n",
    "    \n",
    "} \n",
    "GROUP BY ?monarchy\n",
    "\n",
    "\"\"\"\n",
    "print(\"Results\")\n",
    "run_query(queryString)"
   ]
  },
  {
   "cell_type": "markdown",
   "id": "5611c664-8ffe-4273-a519-dc726c1d242d",
   "metadata": {},
   "source": [
    "As I imagined, when we have both properties family and family name we count the same family twice. In order to have correct results I check if we have more head of state with family name information or family information."
   ]
  },
  {
   "cell_type": "code",
   "execution_count": 43,
   "id": "c6b3d5c7-43a8-44ce-83a6-1c2e6080362c",
   "metadata": {},
   "outputs": [
    {
     "name": "stdout",
     "output_type": "stream",
     "text": [
      "Results\n"
     ]
    },
    {
     "data": {
      "text/plain": [
       "{'head': {'link': []}, 'boolean': True}"
      ]
     },
     "execution_count": 43,
     "metadata": {},
     "output_type": "execute_result"
    }
   ],
   "source": [
    "queryString=\"\"\"\n",
    "ASK WHERE{\n",
    "\n",
    "    {\n",
    "        SELECT (COUNT(?f) AS ?fcount) WHERE{\n",
    "            ?m wdt:P35/wdt:P53 ?f.\n",
    "        }\n",
    "    }\n",
    "    {\n",
    "        SELECT (COUNT(?fn) AS ?fncount) WHERE{\n",
    "            ?m wdt:P35/wdt:P734 ?fn.\n",
    "        }\n",
    "    }\n",
    "    \n",
    "    FILTER(?fcount<?fncount)\n",
    "\n",
    "}\n",
    "\n",
    "\"\"\"\n",
    "print(\"Results\")\n",
    "run_ask_query(queryString)"
   ]
  },
  {
   "cell_type": "markdown",
   "id": "f7a35088-ac15-44c7-8d98-491fb48e993b",
   "metadata": {},
   "source": [
    "We have more triple with the family name property than with family property. I now check if for all head of state that have family information (wdt:P53) we also have the family name information (wdt:P734)."
   ]
  },
  {
   "cell_type": "code",
   "execution_count": 44,
   "id": "29d9198b-d34e-4684-8385-0ba68e46b864",
   "metadata": {},
   "outputs": [
    {
     "name": "stdout",
     "output_type": "stream",
     "text": [
      "Results\n"
     ]
    },
    {
     "data": {
      "text/plain": [
       "{'head': {'link': []}, 'boolean': True}"
      ]
     },
     "execution_count": 44,
     "metadata": {},
     "output_type": "execute_result"
    }
   ],
   "source": [
    "queryString=\"\"\"\n",
    "ASK WHERE{\n",
    "    \n",
    "    ?m wdt:P35 ?h.\n",
    "    ?h wdt:P53 ?f.\n",
    "    \n",
    "    FILTER EXISTS{ ?h wdt:P734 ?fn. }\n",
    "}\n",
    "\n",
    "\"\"\"\n",
    "print(\"Results\")\n",
    "run_ask_query(queryString)"
   ]
  },
  {
   "cell_type": "markdown",
   "id": "7159d1fc-0f8b-4988-a3eb-64f2422bc7cd",
   "metadata": {},
   "source": [
    "Therefore I can run the same query as before using only the family name information. This time I retrieve all monarchies where more than one family has reigned."
   ]
  },
  {
   "cell_type": "code",
   "execution_count": 45,
   "id": "fdfdb00e-b2b9-4750-bfba-b6d1426317cb",
   "metadata": {},
   "outputs": [
    {
     "name": "stdout",
     "output_type": "stream",
     "text": [
      "Results\n",
      "[('m', 'http://www.wikidata.org/entity/Q3399982'), ('monarchy', 'Kingdom of Spain'), ('families', '3')]\n",
      "[('m', 'http://www.wikidata.org/entity/Q153529'), ('monarchy', 'Duchy of Milan'), ('families', '2')]\n",
      "[('m', 'http://www.wikidata.org/entity/Q1187978'), ('monarchy', 'Transvaal Colony'), ('families', '2')]\n",
      "[('m', 'http://www.wikidata.org/entity/Q650370'), ('monarchy', 'Margraviate of Baden-Durlach'), ('families', '2')]\n",
      "[('m', 'http://www.wikidata.org/entity/Q398'), ('monarchy', 'Bahrain'), ('families', '2')]\n",
      "[('m', 'http://www.wikidata.org/entity/Q35715'), ('monarchy', 'South Australia'), ('families', '2')]\n"
     ]
    },
    {
     "data": {
      "text/plain": [
       "6"
      ]
     },
     "execution_count": 45,
     "metadata": {},
     "output_type": "execute_result"
    }
   ],
   "source": [
    "queryString=\"\"\"\n",
    "SELECT ?m ?monarchy (COUNT(DISTINCT ?family) AS ?families) WHERE { \n",
    "\n",
    "?m (wdt:P31|wdt:P122)/wdt:P279* wd:Q7269;\n",
    "    wdt:P35/wdt:P734 ?family;\n",
    "    <http://schema.org/name> ?monarchy.\n",
    "    \n",
    "} \n",
    "GROUP BY ?m ?monarchy\n",
    "HAVING (COUNT(DISTINCT ?family) > 1) \n",
    "ORDER BY DESC(?families)\n",
    "\n",
    "\"\"\"\n",
    "print(\"Results\")\n",
    "run_query(queryString)"
   ]
  },
  {
   "cell_type": "markdown",
   "id": "2b4b0f0e-b94d-4a30-9a3e-1e5ac942d32e",
   "metadata": {},
   "source": [
    "I list all families that reigned in Spain."
   ]
  },
  {
   "cell_type": "code",
   "execution_count": 46,
   "id": "aa91edc2-ed2c-4b30-b975-c8f0db868588",
   "metadata": {},
   "outputs": [
    {
     "name": "stdout",
     "output_type": "stream",
     "text": [
      "Results\n",
      "[('monarchy', 'Kingdom of Spain'), ('families', 'Bonaparte, Savoia, Serrano')]\n"
     ]
    },
    {
     "data": {
      "text/plain": [
       "1"
      ]
     },
     "execution_count": 46,
     "metadata": {},
     "output_type": "execute_result"
    }
   ],
   "source": [
    "queryString=\"\"\"\n",
    "SELECT ?monarchy (GROUP_CONCAT(DISTINCT ?family ; separator=', ') AS ?families) WHERE { \n",
    "\n",
    "wd:Q3399982 wdt:P35/wdt:P734 ?f;\n",
    "    <http://schema.org/name> ?monarchy.\n",
    "    \n",
    "?f <http://schema.org/name> ?family.\n",
    "    \n",
    "} \n",
    "GROUP BY ?monarchy\n",
    "\n",
    "\"\"\"\n",
    "print(\"Results\")\n",
    "run_query(queryString)"
   ]
  },
  {
   "cell_type": "markdown",
   "id": "869aa429-e1ce-4f4c-9cc2-12f5162233aa",
   "metadata": {},
   "source": [
    "I run the previous query by grouping for the country (wdt:P17) instead of the monarchy to see if we have different results due to different names for the same kingdom."
   ]
  },
  {
   "cell_type": "code",
   "execution_count": 47,
   "id": "a197a325-8d07-4fde-a059-23b7bc685f1b",
   "metadata": {},
   "outputs": [
    {
     "name": "stdout",
     "output_type": "stream",
     "text": [
      "Results\n",
      "[('c', 'http://www.wikidata.org/entity/Q29'), ('country', 'Spain'), ('families', '4')]\n",
      "[('c', 'http://www.wikidata.org/entity/Q408'), ('country', 'Australia'), ('families', '3')]\n",
      "[('c', 'http://www.wikidata.org/entity/Q142'), ('country', 'France'), ('families', '2')]\n",
      "[('c', 'http://www.wikidata.org/entity/Q153529'), ('country', 'Duchy of Milan'), ('families', '2')]\n",
      "[('c', 'http://www.wikidata.org/entity/Q398'), ('country', 'Bahrain'), ('families', '2')]\n",
      "[('c', 'http://www.wikidata.org/entity/Q8680'), ('country', 'British Empire'), ('families', '2')]\n",
      "[('c', 'http://www.wikidata.org/entity/Q145'), ('country', 'United Kingdom'), ('families', '2')]\n"
     ]
    },
    {
     "data": {
      "text/plain": [
       "7"
      ]
     },
     "execution_count": 47,
     "metadata": {},
     "output_type": "execute_result"
    }
   ],
   "source": [
    "queryString=\"\"\"\n",
    "SELECT ?c ?country (COUNT(DISTINCT ?family) AS ?families) WHERE { \n",
    "\n",
    "?m (wdt:P31|wdt:P122)/wdt:P279* wd:Q7269;\n",
    "    wdt:P35/wdt:P734 ?family;\n",
    "    wdt:P17 ?c.\n",
    "    \n",
    "?c  <http://schema.org/name> ?country.\n",
    "    \n",
    "} \n",
    "GROUP BY ?c ?country\n",
    "HAVING (COUNT(DISTINCT ?family) > 1) \n",
    "ORDER BY DESC(?families)\n",
    "\n",
    "\"\"\"\n",
    "print(\"Results\")\n",
    "run_query(queryString)"
   ]
  },
  {
   "cell_type": "markdown",
   "id": "8b02f592-9f5d-4e59-92de-73394969fbdf",
   "metadata": {},
   "source": [
    "Most results match therefore there is no utility in further investigation."
   ]
  },
  {
   "cell_type": "markdown",
   "id": "86fb0bba-3f8d-48c2-8a16-aa3b82c09d9d",
   "metadata": {
    "tags": []
   },
   "source": [
    "#### Head of State"
   ]
  },
  {
   "cell_type": "markdown",
   "id": "79631489-cdd0-4414-9fae-821b7651acb2",
   "metadata": {},
   "source": [
    "I now retrieve information about head of states. I retrieve the oldest still alive head of state with the kingdoms he or she reigns. I recall that when looking for inception date I discovered wdt:P569 for date of birth and wdt:P570 for date of death. I add some filter for the birth date in order to avoid displaying head of state that are clearly dead but we miss information about death date and to avoid display information about the fictional kingdom in the future I found earlier."
   ]
  },
  {
   "cell_type": "code",
   "execution_count": 49,
   "id": "a2b2b642-c117-4791-b60c-f48972dd8e65",
   "metadata": {},
   "outputs": [
    {
     "name": "stdout",
     "output_type": "stream",
     "text": [
      "Results\n",
      "[('head', 'Elizabeth II'), ('birth', '1926-04-21T00:00:00Z'), ('kingdoms', 'Antigua and Barbuda, Australia, Barbados, Belize, Canada, Dominion of Fiji, England, Grenada, Jamaica, Jersey, New Zealand, Papua New Guinea, Saint Kitts and Nevis, Saint Lucia, Saint Vincent and the Grenadines, Saskatchewan, Solomon Islands, South Australia, State of Malta, The Bahamas, Tuvalu, United Kingdom')]\n",
      "[('head', 'Salman of Saudi Arabia'), ('birth', '1935-12-31T00:00:00Z'), ('kingdoms', 'Saudi Arabia')]\n",
      "[('head', 'Francis'), ('birth', '1936-12-17T00:00:00Z'), ('kingdoms', 'Vatican City')]\n",
      "[('head', 'Harald V of Norway'), ('birth', '1937-02-21T00:00:00Z'), ('kingdoms', 'Norway')]\n",
      "[('head', 'Nawaf Al-Ahmad Al-Jaber Al-Sabah'), ('birth', '1937-06-25T00:00:00Z'), ('kingdoms', 'Kuwait')]\n",
      "[('head', 'Margrethe II of Denmark'), ('birth', '1940-04-16T00:00:00Z'), ('kingdoms', 'Danish Realm, Denmark, Greenland')]\n",
      "[('head', 'Konstantinos II of Greece'), ('birth', '1940-06-02T00:00:00Z'), ('kingdoms', 'Kingdom of Greece')]\n",
      "[('head', 'Paul Delprat'), ('birth', '1942-01-01T00:00:00Z'), ('kingdoms', 'Principality of Wy')]\n",
      "[('head', 'John Charlton Rudge'), ('birth', '1944-03-12T00:00:00Z'), ('kingdoms', 'Grand Duchy of Avram')]\n",
      "[('head', 'Hans-Adam II, Prince of Liechtenstein'), ('birth', '1945-02-14T00:00:00Z'), ('kingdoms', 'Liechtenstein')]\n"
     ]
    },
    {
     "data": {
      "text/plain": [
       "10"
      ]
     },
     "execution_count": 49,
     "metadata": {},
     "output_type": "execute_result"
    }
   ],
   "source": [
    "queryString = \"\"\"\n",
    "SELECT ?head ?birth GROUP_CONCAT(DISTINCT ?monarchy ; separator = ', ') AS ?kingdoms WHERE { \n",
    "\n",
    "?m (wdt:P31|wdt:P122)/wdt:P279* wd:Q7269;\n",
    "    wdt:P35 ?h;\n",
    "    <http://schema.org/name> ?monarchy.\n",
    "\n",
    "?h <http://schema.org/name> ?head;\n",
    "    wdt:P569 ?birth.\n",
    "    \n",
    "FILTER(datatype(?birth) = xsd:dateTime && ?birth > \"1900-01-01T00:00:00Z\"^^xsd:dateTime)\n",
    "FILTER NOT EXISTS{?h wdt:P570 ?death.}   \n",
    "} \n",
    "GROUP BY ?head ?birth\n",
    "ORDER BY ?birth\n",
    "LIMIT 10\n",
    "\"\"\"\n",
    "\n",
    "print(\"Results\")\n",
    "run_query(queryString)"
   ]
  },
  {
   "cell_type": "markdown",
   "id": "6831cda7-4837-47ce-9ac2-3e6d9660ef64",
   "metadata": {},
   "source": [
    "I run a query to assess the head of state who reigned (or still reigns) over most kingdoms."
   ]
  },
  {
   "cell_type": "code",
   "execution_count": 50,
   "id": "68490dfa-75f8-4c5b-8bce-ff0e11d517ec",
   "metadata": {},
   "outputs": [
    {
     "name": "stdout",
     "output_type": "stream",
     "text": [
      "Results\n",
      "[('head', 'Elizabeth II'), ('kingdoms', '35')]\n",
      "[('head', 'Margrethe II of Denmark'), ('kingdoms', '6')]\n",
      "[('head', 'Abdullah of Pahang'), ('kingdoms', '4')]\n",
      "[('head', 'Philip III of Spain'), ('kingdoms', '4')]\n",
      "[('head', 'Charles II of Spain'), ('kingdoms', '3')]\n",
      "[('head', 'Muhammad bin Saud'), ('kingdoms', '3')]\n",
      "[('head', 'Monarch of the Kingdom of Asturias'), ('kingdoms', '3')]\n",
      "[('head', 'Charles V, Holy Roman Emperor'), ('kingdoms', '3')]\n",
      "[('head', 'Konstantinos II of Greece'), ('kingdoms', '3')]\n",
      "[('head', 'list of Portuguese monarchs'), ('kingdoms', '3')]\n",
      "[('head', 'Philip IV of Spain'), ('kingdoms', '3')]\n",
      "[('head', 'Joseph Bonaparte'), ('kingdoms', '3')]\n",
      "[('head', 'Willem-Alexander of the Netherlands'), ('kingdoms', '3')]\n",
      "[('head', 'Philip II of Spain'), ('kingdoms', '3')]\n",
      "[('head', 'Letsie III of Lesotho'), ('kingdoms', '2')]\n"
     ]
    },
    {
     "data": {
      "text/plain": [
       "15"
      ]
     },
     "execution_count": 50,
     "metadata": {},
     "output_type": "execute_result"
    }
   ],
   "source": [
    "queryString = \"\"\"\n",
    "SELECT ?head (COUNT(?m) AS ?kingdoms) WHERE { \n",
    "\n",
    "?m (wdt:P31|wdt:P122)/wdt:P279* wd:Q7269;\n",
    "    wdt:P35 ?h.\n",
    "\n",
    "?h <http://schema.org/name> ?head.\n",
    "\n",
    "} \n",
    "GROUP BY ?head \n",
    "ORDER BY DESC(?kingdoms)\n",
    "LIMIT 15\n",
    "\"\"\"\n",
    "\n",
    "print(\"Results\")\n",
    "run_query(queryString)"
   ]
  },
  {
   "cell_type": "markdown",
   "id": "1307181c-2ea2-457a-b0de-7b727bce8053",
   "metadata": {},
   "source": [
    "It turns out Queen Elizabeth II has been head of state of the highest number of countries. "
   ]
  },
  {
   "cell_type": "markdown",
   "id": "db59e84e-2680-4e88-b6db-05fb7cdccca8",
   "metadata": {
    "tags": []
   },
   "source": [
    "### COUNTRY WITH THE HIGHEST POPULATION"
   ]
  },
  {
   "cell_type": "markdown",
   "id": "d19ce6ec-7f4d-422a-8f26-d79b860a1ebc",
   "metadata": {},
   "source": [
    "As we saw before, wdt:P1082 retrieves a country's population. Now I run some queries to retrieve some more demographic information about monarchies.\n",
    "Earlier we saw that the most populated monarchies is the british empire."
   ]
  },
  {
   "cell_type": "code",
   "execution_count": 51,
   "id": "08aadce1-d227-4c64-a6db-76ed4d112a68",
   "metadata": {},
   "outputs": [
    {
     "name": "stdout",
     "output_type": "stream",
     "text": [
      "Results\n",
      "[('m', 'http://www.wikidata.org/entity/Q8680'), ('max', 'British Empire'), ('pop', '680000000')]\n"
     ]
    },
    {
     "data": {
      "text/plain": [
       "1"
      ]
     },
     "execution_count": 51,
     "metadata": {},
     "output_type": "execute_result"
    }
   ],
   "source": [
    "queryString=\"\"\"\n",
    "SELECT DISTINCT ?m ?max ?pop WHERE{\n",
    "\n",
    "        ?m (wdt:P31|wdt:P122)/wdt:P279* wd:Q7269;\n",
    "            wdt:P1082 ?pop.\n",
    "        ?m <http://schema.org/name> ?max. \n",
    "        FILTER(?pop = ?maxPopulation)\n",
    "        \n",
    "        { SELECT (MAX(?pop) AS ?maxPopulation) WHERE{\n",
    "\n",
    "        ?m (wdt:P31|wdt:P122)/wdt:P279* wd:Q7269;\n",
    "            wdt:P1082 ?pop.\n",
    "        }    \n",
    "        }\n",
    "}\n",
    "    \n",
    "\"\"\"\n",
    "print(\"Results\")\n",
    "run_query(queryString)"
   ]
  },
  {
   "cell_type": "markdown",
   "id": "0b75ac3c-14fe-487f-8875-d4f742e2c4c0",
   "metadata": {},
   "source": [
    "I now retrieve some useful information about the British Empire, such as the inception date or if it stilll exists. First I return some properties connected to the British Empire."
   ]
  },
  {
   "cell_type": "code",
   "execution_count": 52,
   "id": "6b7fd071-74be-4422-b7ec-e90406c2364d",
   "metadata": {},
   "outputs": [
    {
     "name": "stdout",
     "output_type": "stream",
     "text": [
      "Results\n",
      "[('p', 'http://www.wikidata.org/prop/direct/P163'), ('pname', 'flag'), ('o', 'http://www.wikidata.org/entity/Q83278'), ('oname', 'flag of the United Kingdom')]\n",
      "[('p', 'http://www.wikidata.org/prop/direct/P237'), ('pname', 'coat of arms'), ('o', 'http://www.wikidata.org/entity/Q165762'), ('oname', 'royal coat of arms of the United Kingdom')]\n",
      "[('p', 'http://www.wikidata.org/prop/direct/P1889'), ('pname', 'different from'), ('o', 'http://www.wikidata.org/entity/Q2078249'), ('oname', 'Britannic Empire')]\n",
      "[('p', 'http://www.wikidata.org/prop/direct/P1344'), ('pname', 'participant in'), ('o', 'http://www.wikidata.org/entity/Q1088364'), ('oname', 'Battle of the Lys')]\n",
      "[('p', 'http://www.wikidata.org/prop/direct/P17'), ('pname', 'country'), ('o', 'http://www.wikidata.org/entity/Q145'), ('oname', 'United Kingdom')]\n",
      "[('p', 'http://www.wikidata.org/prop/direct/P30'), ('pname', 'continent'), ('o', 'http://www.wikidata.org/entity/Q15'), ('oname', 'Africa')]\n",
      "[('p', 'http://www.wikidata.org/prop/direct/P17'), ('pname', 'country'), ('o', 'http://www.wikidata.org/entity/Q161885'), ('oname', 'Great Britain')]\n",
      "[('p', 'http://www.wikidata.org/prop/direct/P17'), ('pname', 'country'), ('o', 'http://www.wikidata.org/entity/Q174193'), ('oname', 'United Kingdom of Great Britain and Ireland')]\n",
      "[('p', 'http://www.wikidata.org/prop/direct/P17'), ('pname', 'country'), ('o', 'http://www.wikidata.org/entity/Q179876'), ('oname', 'Kingdom of England')]\n",
      "[('p', 'http://www.wikidata.org/prop/direct/P2936'), ('pname', 'language used'), ('o', 'http://www.wikidata.org/entity/Q1860'), ('oname', 'English')]\n",
      "[('p', 'http://www.wikidata.org/prop/direct/P37'), ('pname', 'official language'), ('o', 'http://www.wikidata.org/entity/Q1860'), ('oname', 'English')]\n",
      "[('p', 'http://www.wikidata.org/prop/direct/P1343'), ('pname', 'described by source'), ('o', 'http://www.wikidata.org/entity/Q19180675'), ('oname', 'Small Brockhaus and Efron Encyclopedic Dictionary')]\n",
      "[('p', 'http://www.wikidata.org/prop/direct/P31'), ('pname', 'instance of'), ('o', 'http://www.wikidata.org/entity/Q3024240'), ('oname', 'historical country')]\n",
      "[('p', 'http://www.wikidata.org/prop/direct/P47'), ('pname', 'shares border with'), ('o', 'http://www.wikidata.org/entity/Q34266'), ('oname', 'Russian Empire')]\n",
      "[('p', 'http://www.wikidata.org/prop/direct/P1343'), ('pname', 'described by source'), ('o', 'http://www.wikidata.org/entity/Q4114391'), ('oname', 'Sytin Military Encyclopedia')]\n",
      "[('p', 'http://www.wikidata.org/prop/direct/P122'), ('pname', 'basic form of government'), ('o', 'http://www.wikidata.org/entity/Q41614'), ('oname', 'constitutional monarchy')]\n",
      "[('p', 'http://www.wikidata.org/prop/direct/P30'), ('pname', 'continent'), ('o', 'http://www.wikidata.org/entity/Q46'), ('oname', 'Europe')]\n",
      "[('p', 'http://www.wikidata.org/prop/direct/P30'), ('pname', 'continent'), ('o', 'http://www.wikidata.org/entity/Q48'), ('oname', 'Asia')]\n",
      "[('p', 'http://www.wikidata.org/prop/direct/P31'), ('pname', 'instance of'), ('o', 'http://www.wikidata.org/entity/Q48349'), ('oname', 'empire')]\n",
      "[('p', 'http://www.wikidata.org/prop/direct/P30'), ('pname', 'continent'), ('o', 'http://www.wikidata.org/entity/Q51'), ('oname', 'Antarctica')]\n",
      "[('p', 'http://www.wikidata.org/prop/direct/P30'), ('pname', 'continent'), ('o', 'http://www.wikidata.org/entity/Q538'), ('oname', 'Insular Oceania')]\n",
      "[('p', 'http://www.wikidata.org/prop/direct/P5008'), ('pname', 'on focus list of Wikimedia project'), ('o', 'http://www.wikidata.org/entity/Q5460604'), ('oname', 'Wikipedia:Vital articles')]\n",
      "[('p', 'http://www.wikidata.org/prop/direct/P1343'), ('pname', 'described by source'), ('o', 'http://www.wikidata.org/entity/Q602358'), ('oname', 'Brockhaus and Efron Encyclopedic Dictionary')]\n",
      "[('p', 'http://www.wikidata.org/prop/direct/P36'), ('pname', 'capital'), ('o', 'http://www.wikidata.org/entity/Q84'), ('oname', 'London')]\n",
      "[('p', 'http://www.wikidata.org/prop/direct/P30'), ('pname', 'continent'), ('o', 'http://www.wikidata.org/entity/Q828'), ('oname', 'Americas')]\n",
      "[('p', 'http://www.wikidata.org/prop/direct/P38'), ('pname', 'currency'), ('o', 'http://www.wikidata.org/entity/Q25224'), ('oname', 'pound sterling')]\n",
      "[('p', 'http://www.wikidata.org/prop/direct/P527'), ('pname', 'has part'), ('o', 'http://www.wikidata.org/entity/Q617219'), ('oname', 'English overseas possession')]\n",
      "[('p', 'http://www.wikidata.org/prop/direct/P1792'), ('pname', 'category of associated people'), ('o', 'http://www.wikidata.org/entity/Q9672362'), ('oname', 'Category:People of the British Empire')]\n",
      "[('p', 'http://www.wikidata.org/prop/direct/P31'), ('pname', 'instance of'), ('o', 'http://www.wikidata.org/entity/Q1211369'), ('oname', 'the empire on which the sun never sets')]\n",
      "[('p', 'http://www.wikidata.org/prop/direct/P1151'), ('pname', \"topic's main Wikimedia portal\"), ('o', 'http://www.wikidata.org/entity/Q8440401'), ('oname', 'Portal:British Empire')]\n",
      "[('p', 'http://www.wikidata.org/prop/direct/P910'), ('pname', \"topic's main category\"), ('o', 'http://www.wikidata.org/entity/Q7025475'), ('oname', 'Category:British Empire')]\n",
      "[('p', 'http://www.wikidata.org/prop/direct/P9241'), ('pname', 'demographics of topic'), ('o', 'http://www.wikidata.org/entity/Q48999486'), ('oname', 'demographics of the British Empire')]\n",
      "[('p', 'http://www.wikidata.org/prop/direct/P8744'), ('pname', 'economy of topic'), ('o', 'http://www.wikidata.org/entity/Q48803177'), ('oname', 'economy of the British Empire')]\n",
      "[('p', 'http://www.wikidata.org/prop/direct/P1082'), ('pname', 'population'), ('o', '680000000')]\n",
      "[('p', 'http://www.wikidata.org/prop/direct/P1417'), ('pname', 'Encyclopædia Britannica Online ID'), ('o', 'place/British-Empire')]\n",
      "[('p', 'http://www.wikidata.org/prop/direct/P1667'), ('pname', 'Getty Thesaurus of Geographic Names ID'), ('o', '7008650')]\n",
      "[('p', 'http://www.wikidata.org/prop/direct/P1705'), ('pname', 'native label'), ('o', 'British Empire')]\n",
      "[('p', 'http://www.wikidata.org/prop/direct/P242'), ('pname', 'locator map image'), ('o', 'http://commons.wikimedia.org/wiki/Special:FilePath/BritishEmpire1919.png')]\n",
      "[('p', 'http://www.wikidata.org/prop/direct/P242'), ('pname', 'locator map image'), ('o', 'http://commons.wikimedia.org/wiki/Special:FilePath/The%20British%20Empire.png')]\n",
      "[('p', 'http://www.wikidata.org/prop/direct/P244'), ('pname', 'Library of Congress authority ID'), ('o', 'sh85056632')]\n",
      "[('p', 'http://www.wikidata.org/prop/direct/P268'), ('pname', 'Bibliothèque nationale de France ID'), ('o', '119440568')]\n",
      "[('p', 'http://www.wikidata.org/prop/direct/P2924'), ('pname', 'Great Russian Encyclopedia Online ID'), ('o', '1883927')]\n",
      "[('p', 'http://www.wikidata.org/prop/direct/P3106'), ('pname', 'Guardian topic ID'), ('o', 'world/british-empire')]\n",
      "[('p', 'http://www.wikidata.org/prop/direct/P3219'), ('pname', 'Encyclopædia Universalis ID'), ('o', 'royaume-uni-l-empire-britannique')]\n",
      "[('p', 'http://www.wikidata.org/prop/direct/P3417'), ('pname', 'Quora topic ID'), ('o', 'British-Empire')]\n",
      "[('p', 'http://www.wikidata.org/prop/direct/P3544'), ('pname', 'Te Papa agent ID'), ('o', '42723')]\n",
      "[('p', 'http://www.wikidata.org/prop/direct/P373'), ('pname', 'Commons category'), ('o', 'British Empire')]\n",
      "[('p', 'http://www.wikidata.org/prop/direct/P3827'), ('pname', 'JSTOR topic ID'), ('o', 'british-imperialism')]\n",
      "[('p', 'http://www.wikidata.org/prop/direct/P41'), ('pname', 'flag image'), ('o', 'http://commons.wikimedia.org/wiki/Special:FilePath/Flag%20of%20the%20United%20Kingdom.svg')]\n",
      "[('p', 'http://www.wikidata.org/prop/direct/P4527'), ('pname', 'UK Parliament thesaurus ID'), ('o', '286805')]\n",
      "[('p', 'http://www.wikidata.org/prop/direct/P5063'), ('pname', 'Interlingual Index ID'), ('o', 'i83366')]\n",
      "[('p', 'http://www.wikidata.org/prop/direct/P508'), ('pname', 'BNCF Thesaurus ID'), ('o', '16243')]\n",
      "[('p', 'http://www.wikidata.org/prop/direct/P5198'), ('pname', 'ASC Leiden Thesaurus ID'), ('o', 'British Empire')]\n",
      "[('p', 'http://www.wikidata.org/prop/direct/P5337'), ('pname', 'Google News topics ID'), ('o', 'CAAqIQgKIhtDQkFTRGdvSUwyMHZNREZvYm5BU0FtVnVLQUFQAQ')]\n",
      "[('p', 'http://www.wikidata.org/prop/direct/P5395'), ('pname', 'Canadian Encyclopedia article ID'), ('o', 'imperialism')]\n",
      "[('p', 'http://www.wikidata.org/prop/direct/P571'), ('pname', 'inception'), ('o', '1583-01-01T00:00:00Z')]\n",
      "[('p', 'http://www.wikidata.org/prop/direct/P576'), ('pname', 'dissolved, abolished or demolished date'), ('o', '1997-01-01T00:00:00Z')]\n",
      "[('p', 'http://www.wikidata.org/prop/direct/P6366'), ('pname', 'Microsoft Academic ID'), ('o', '501832835')]\n",
      "[('p', 'http://www.wikidata.org/prop/direct/P646'), ('pname', 'Freebase ID'), ('o', '/m/01hnp')]\n",
      "[('p', 'http://www.wikidata.org/prop/direct/P6573'), ('pname', 'Klexikon article ID'), ('o', 'Britisches_Weltreich')]\n",
      "[('p', 'http://www.wikidata.org/prop/direct/P7775'), ('pname', 'RationalWiki ID'), ('o', 'British_Empire')]\n",
      "[('p', 'http://www.wikidata.org/prop/direct/P7818'), ('pname', 'French Vikidia ID'), ('o', 'Empire_britannique')]\n",
      "[('p', 'http://www.wikidata.org/prop/direct/P8217'), ('pname', 'iDAI.gazetteer ID'), ('o', '2379548')]\n",
      "[('p', 'http://www.wikidata.org/prop/direct/P8408'), ('pname', 'KBpedia ID'), ('o', 'BritishEmpire')]\n",
      "[('p', 'http://www.wikidata.org/prop/direct/P8814'), ('pname', 'WordNet 3.1 Synset ID'), ('o', '08876674-n')]\n",
      "[('p', 'http://www.wikidata.org/prop/direct/P94'), ('pname', 'coat of arms image'), ('o', 'http://commons.wikimedia.org/wiki/Special:FilePath/Coat%20of%20arms%20of%20the%20United%20Kingdom%20%281837-1952%29.svg')]\n",
      "[('p', 'http://www.wikidata.org/prop/direct/P948'), ('pname', 'page banner'), ('o', 'http://commons.wikimedia.org/wiki/Special:FilePath/British%20Empire%20banner%20map%20border.jpg')]\n",
      "[('p', 'http://www.wikidata.org/prop/direct/P989'), ('pname', 'spoken text audio'), ('o', 'http://commons.wikimedia.org/wiki/Special:FilePath/En-British%20Empire-article.oga')]\n",
      "[('p', 'http://www.wikidata.org/prop/direct/P989'), ('pname', 'spoken text audio'), ('o', 'http://commons.wikimedia.org/wiki/Special:FilePath/Hy-%D4%B2%D6%80%D5%AB%D5%BF%D5%A1%D5%B6%D5%A1%D5%AF%D5%A1%D5%B6%20%D5%AF%D5%A1%D5%B5%D5%BD%D6%80%D5%B8%D6%82%D5%A9%D5%B5%D5%B8%D6%82%D5%B6.ogg')]\n"
     ]
    },
    {
     "data": {
      "text/plain": [
       "69"
      ]
     },
     "execution_count": 52,
     "metadata": {},
     "output_type": "execute_result"
    }
   ],
   "source": [
    "queryString=\"\"\"\n",
    "SELECT ?p ?pname ?o ?oname WHERE{\n",
    "\n",
    "        wd:Q8680 ?p ?o.\n",
    "        ?p <http://schema.org/name> ?pname.\n",
    "        OPTIONAL { ?o <http://schema.org/name> ?oname.}\n",
    "}\n",
    "    \n",
    "\"\"\"\n",
    "print(\"Results\")\n",
    "run_query(queryString)"
   ]
  },
  {
   "cell_type": "markdown",
   "id": "59b44e43-1c32-4842-a783-88dfd7917a73",
   "metadata": {},
   "source": [
    "I run a query to retrieve the inception date."
   ]
  },
  {
   "cell_type": "code",
   "execution_count": 53,
   "id": "2248dd18-4bb7-42ab-88ff-6131da180169",
   "metadata": {},
   "outputs": [
    {
     "name": "stdout",
     "output_type": "stream",
     "text": [
      "Results\n",
      "[('inception', '1583-01-01T00:00:00Z')]\n"
     ]
    },
    {
     "data": {
      "text/plain": [
       "1"
      ]
     },
     "execution_count": 53,
     "metadata": {},
     "output_type": "execute_result"
    }
   ],
   "source": [
    "queryString=\"\"\"\n",
    "SELECT ?inception WHERE{\n",
    "\n",
    "        wd:Q8680 wdt:P571 ?inception.\n",
    "}\n",
    "    \n",
    "\"\"\"\n",
    "print(\"Results\")\n",
    "run_query(queryString)"
   ]
  },
  {
   "cell_type": "markdown",
   "id": "2a58a1d0-7d82-4c8c-9463-5535d4e11d1f",
   "metadata": {},
   "source": [
    "Now I run a query to assess if it has been replaced by some other state."
   ]
  },
  {
   "cell_type": "code",
   "execution_count": 54,
   "id": "3dc08204-0657-40cd-819a-65275d834d71",
   "metadata": {},
   "outputs": [
    {
     "name": "stdout",
     "output_type": "stream",
     "text": [
      "Results\n",
      "Empty\n"
     ]
    },
    {
     "data": {
      "text/plain": [
       "0"
      ]
     },
     "execution_count": 54,
     "metadata": {},
     "output_type": "execute_result"
    }
   ],
   "source": [
    "queryString=\"\"\"\n",
    "SELECT ?o ?oname WHERE{\n",
    "\n",
    "        wd:Q8680 wdt:P1366 ?o.\n",
    "        ?o <http://schema.org/name> ?oname. \n",
    "}\n",
    "    \n",
    "\"\"\"\n",
    "print(\"Results\")\n",
    "run_query(queryString)"
   ]
  },
  {
   "cell_type": "markdown",
   "id": "a60d330b-e6cf-4934-acef-9dbb2acebbeb",
   "metadata": {},
   "source": [
    "We have no information about a state that replaced it. I try to assess if it still exists by selecting the property wdt:P576 that is 'dissolved, abolished or demolished date'."
   ]
  },
  {
   "cell_type": "code",
   "execution_count": 55,
   "id": "eeb5e71a-6762-4861-98ae-80a333e7756b",
   "metadata": {},
   "outputs": [
    {
     "name": "stdout",
     "output_type": "stream",
     "text": [
      "Results\n",
      "[('abolished', '1997-01-01T00:00:00Z')]\n"
     ]
    },
    {
     "data": {
      "text/plain": [
       "1"
      ]
     },
     "execution_count": 55,
     "metadata": {},
     "output_type": "execute_result"
    }
   ],
   "source": [
    "queryString=\"\"\"\n",
    "SELECT ?abolished WHERE{\n",
    "\n",
    "        wd:Q8680 wdt:P576 ?abolished.\n",
    "}\n",
    "    \n",
    "\"\"\"\n",
    "print(\"Results\")\n",
    "run_query(queryString)"
   ]
  },
  {
   "cell_type": "markdown",
   "id": "68d9ec36-3b1e-4dd3-aae3-84dbed8221ef",
   "metadata": {},
   "source": [
    "Since I found out the British Empire was abolished in 1997 I can select countries that are in the United Kingdom (wd:Q145) and were founded after 1997, that could have replaced the British Empire. No need to look for all countries because it is common knowledge that the UK are still a monarchy."
   ]
  },
  {
   "cell_type": "code",
   "execution_count": 56,
   "id": "86408552-bb67-4575-bf64-001c401d3842",
   "metadata": {},
   "outputs": [
    {
     "name": "stdout",
     "output_type": "stream",
     "text": [
      "Results\n",
      "Empty\n"
     ]
    },
    {
     "data": {
      "text/plain": [
       "0"
      ]
     },
     "execution_count": 56,
     "metadata": {},
     "output_type": "execute_result"
    }
   ],
   "source": [
    "queryString=\"\"\"\n",
    "SELECT DISTINCT ?m ?monarchy ?inception WHERE{\n",
    "\n",
    "        ?m (wdt:P31|wdt:P122)/wdt:P279* wd:Q7269;  \n",
    "            wdt:P17 wd:Q145;\n",
    "            wdt:P571 ?inception;\n",
    "            <http://schema.org/name> ?monarchy.           \n",
    "            \n",
    "        FILTER(?inception > \"1997-01-01T00:00:00Z\"^^xsd:dateTime)\n",
    "}\n",
    "    \n",
    "\"\"\"\n",
    "print(\"Results\")\n",
    "run_query(queryString)"
   ]
  },
  {
   "cell_type": "markdown",
   "id": "524de667-1d36-4621-9ea9-2e87ad60c923",
   "metadata": {},
   "source": [
    "Since the query returned no useful information I select all monarchies whose country is the United Kingdom (wd:Q145) and their inception date."
   ]
  },
  {
   "cell_type": "code",
   "execution_count": 57,
   "id": "bc309f3b-1412-4fac-8c46-e6c78059f84a",
   "metadata": {},
   "outputs": [
    {
     "name": "stdout",
     "output_type": "stream",
     "text": [
      "Results\n",
      "[('m', 'http://www.wikidata.org/entity/Q2578706'), ('monarchy', 'Kingdom of Ceredigion'), ('inception', '0500-01-01T00:00:00Z')]\n",
      "[('m', 'http://www.wikidata.org/entity/Q2527412'), ('monarchy', 'Rhos'), ('inception', '0401-01-01T00:00:00Z')]\n",
      "[('m', 'http://www.wikidata.org/entity/Q145'), ('monarchy', 'United Kingdom'), ('inception', '1927-04-12T00:00:00Z')]\n",
      "[('m', 'http://www.wikidata.org/entity/Q1852345'), ('monarchy', 'Trucial States'), ('inception', '1820-01-08T00:00:00Z')]\n",
      "[('m', 'http://www.wikidata.org/entity/Q26'), ('monarchy', 'Northern Ireland'), ('inception', '1921-05-08T00:00:00Z')]\n",
      "[('m', 'http://www.wikidata.org/entity/Q13706'), ('monarchy', 'Principality of Sealand'), ('inception', '1967-09-02T00:00:00Z')]\n",
      "[('m', 'http://www.wikidata.org/entity/Q8680'), ('monarchy', 'British Empire'), ('inception', '1583-01-01T00:00:00Z')]\n",
      "[('m', 'http://www.wikidata.org/entity/Q107299'), ('monarchy', 'Kingdom of Northumbria'), ('inception', '0653-01-01T00:00:00Z')]\n",
      "[('m', 'http://www.wikidata.org/entity/Q623751'), ('monarchy', 'Kingdom of Bernicia'), ('inception', '0420-01-01T00:00:00Z')]\n",
      "[('m', 'http://www.wikidata.org/entity/Q769782'), ('monarchy', 'Kingdom of Powys'), ('inception', '0500-01-01T00:00:00Z')]\n",
      "[('m', 'http://www.wikidata.org/entity/Q837136'), ('monarchy', 'Kingdom of Deheubarth'), ('inception', '0920-01-01T00:00:00Z')]\n",
      "[('m', 'http://www.wikidata.org/entity/Q1483510'), ('monarchy', 'Principality of Wales'), ('inception', '1216-01-01T00:00:00Z')]\n",
      "[('m', 'http://www.wikidata.org/entity/Q2914544'), ('monarchy', 'Duchy of Lancaster'), ('inception', '1351-01-01T00:00:00Z')]\n",
      "[('m', 'http://www.wikidata.org/entity/Q876107'), ('monarchy', 'Duchy of Cornwall'), ('inception', '1337-01-01T00:00:00Z')]\n",
      "[('m', 'http://www.wikidata.org/entity/Q1796551'), ('monarchy', 'British Leeward Islands'), ('inception', '1671-01-01T00:00:00Z')]\n",
      "[('m', 'http://www.wikidata.org/entity/Q1088024'), ('monarchy', 'Meirionnydd'), ('inception', '0500-01-01T00:00:00Z')]\n"
     ]
    },
    {
     "data": {
      "text/plain": [
       "16"
      ]
     },
     "execution_count": 57,
     "metadata": {},
     "output_type": "execute_result"
    }
   ],
   "source": [
    "queryString=\"\"\"\n",
    "SELECT DISTINCT ?m ?monarchy ?inception WHERE{\n",
    "\n",
    "        ?m (wdt:P31|wdt:P122)/wdt:P279* wd:Q7269;  \n",
    "            wdt:P17 wd:Q145;\n",
    "            wdt:P571 ?inception;\n",
    "            <http://schema.org/name> ?monarchy.           \n",
    "}\n",
    "    \n",
    "\"\"\"\n",
    "print(\"Results\")\n",
    "run_query(queryString)"
   ]
  },
  {
   "cell_type": "markdown",
   "id": "8c85db3e-d73a-4115-a6a9-a85c76eda724",
   "metadata": {
    "tags": []
   },
   "source": [
    "### MONARCHIES ACROSS CONTINENTS"
   ]
  },
  {
   "cell_type": "markdown",
   "id": "6bab6f56-9ecf-4843-97fe-865d052634c9",
   "metadata": {},
   "source": [
    "I count the number of monarchies per continent."
   ]
  },
  {
   "cell_type": "code",
   "execution_count": 58,
   "id": "94af5ce5-b43f-44fa-b805-f5c95684732a",
   "metadata": {},
   "outputs": [
    {
     "name": "stdout",
     "output_type": "stream",
     "text": [
      "Results\n",
      "[('continent', 'Europe'), ('monarchies', '368')]\n",
      "[('continent', 'Asia'), ('monarchies', '175')]\n",
      "[('continent', 'Africa'), ('monarchies', '68')]\n",
      "[('continent', 'North America'), ('monarchies', '31')]\n",
      "[('continent', 'Eurasia'), ('monarchies', '14')]\n",
      "[('continent', 'Insular Oceania'), ('monarchies', '13')]\n",
      "[('continent', 'Hyboria'), ('monarchies', '13')]\n",
      "[('continent', 'South America'), ('monarchies', '8')]\n",
      "[('continent', 'The Continent'), ('monarchies', '7')]\n",
      "[('continent', 'Thuria'), ('monarchies', '6')]\n",
      "[('continent', 'Americas'), ('monarchies', '5')]\n",
      "[('continent', 'Central America'), ('monarchies', '2')]\n",
      "[('continent', 'Australia'), ('monarchies', '2')]\n",
      "[('continent', 'Antarctica'), ('monarchies', '1')]\n",
      "[('continent', 'Northern America and Mexico'), ('monarchies', '1')]\n",
      "[('continent', 'Caribbean'), ('monarchies', '1')]\n"
     ]
    },
    {
     "data": {
      "text/plain": [
       "16"
      ]
     },
     "execution_count": 58,
     "metadata": {},
     "output_type": "execute_result"
    }
   ],
   "source": [
    "queryString = \"\"\"\n",
    "SELECT ?continent (COUNT(DISTINCT ?m) AS ?monarchies) WHERE { \n",
    "\n",
    "?m (wdt:P31|wdt:P122)/wdt:P279* wd:Q7269;\n",
    "    wdt:P30 ?c.\n",
    "\n",
    "?c <http://schema.org/name> ?continent.\n",
    "\n",
    "} \n",
    "GROUP BY ?continent\n",
    "ORDER BY DESC(?monarchies)\n",
    "\"\"\"\n",
    "\n",
    "print(\"Results\")\n",
    "run_query(queryString)"
   ]
  },
  {
   "cell_type": "markdown",
   "id": "1a093153-d1ba-4995-a78f-a300975f712d",
   "metadata": {},
   "source": [
    "It comes with no surprise that the continent with most monarchies is Europe. I run a query to count how many monarchies replaced by some other form of state per continent there are in the db."
   ]
  },
  {
   "cell_type": "code",
   "execution_count": 59,
   "id": "2f1d9c65-1a9f-4388-bf98-f4a22b1bdfa1",
   "metadata": {},
   "outputs": [
    {
     "name": "stdout",
     "output_type": "stream",
     "text": [
      "Results\n",
      "[('continent', 'Europe'), ('monarchies', '116')]\n",
      "[('continent', 'Asia'), ('monarchies', '70')]\n",
      "[('continent', 'Africa'), ('monarchies', '24')]\n",
      "[('continent', 'North America'), ('monarchies', '8')]\n",
      "[('continent', 'Insular Oceania'), ('monarchies', '6')]\n",
      "[('continent', 'Eurasia'), ('monarchies', '6')]\n",
      "[('continent', 'South America'), ('monarchies', '5')]\n",
      "[('continent', 'Americas'), ('monarchies', '4')]\n",
      "[('continent', 'Northern America and Mexico'), ('monarchies', '1')]\n",
      "[('continent', 'Australia'), ('monarchies', '1')]\n"
     ]
    },
    {
     "data": {
      "text/plain": [
       "10"
      ]
     },
     "execution_count": 59,
     "metadata": {},
     "output_type": "execute_result"
    }
   ],
   "source": [
    "queryString = \"\"\"\n",
    "SELECT ?continent (COUNT(DISTINCT ?m) AS ?monarchies) WHERE { \n",
    "\n",
    "?m (wdt:P31|wdt:P122)/wdt:P279* wd:Q7269;\n",
    "    wdt:P30 ?c.\n",
    "\n",
    "?c <http://schema.org/name> ?continent.\n",
    "\n",
    "FILTER EXISTS{ ?m wdt:P1366 ?o. }\n",
    "\n",
    "} \n",
    "GROUP BY ?continent\n",
    "ORDER BY DESC(?monarchies)\n",
    "\"\"\"\n",
    "\n",
    "print(\"Results\")\n",
    "run_query(queryString)"
   ]
  },
  {
   "cell_type": "markdown",
   "id": "5d60e712-29fd-497b-8a13-368e4937b905",
   "metadata": {},
   "source": [
    "Now I count how many still existing monarchies there are per continent. I assume existing monarchies are the one that have been founded after Christ and have no property 'replaced by' (wdt:P1366) or 'dissolved, abolished or demolished date' (wdt:P576) or 'end time' (wdt:P582). _(see the reasoning behind such choice in the former monarchies section)_"
   ]
  },
  {
   "cell_type": "code",
   "execution_count": 60,
   "id": "07a34c39-b736-4c56-80e1-b2b356677d6f",
   "metadata": {},
   "outputs": [
    {
     "name": "stdout",
     "output_type": "stream",
     "text": [
      "Results\n",
      "[('continent', 'Europe'), ('monarchies', '18')]\n",
      "[('continent', 'North America'), ('monarchies', '16')]\n",
      "[('continent', 'Asia'), ('monarchies', '13')]\n",
      "[('continent', 'Insular Oceania'), ('monarchies', '5')]\n",
      "[('continent', 'Africa'), ('monarchies', '3')]\n",
      "[('continent', 'Central America'), ('monarchies', '1')]\n",
      "[('continent', 'Australia'), ('monarchies', '1')]\n",
      "[('continent', 'Caribbean'), ('monarchies', '1')]\n"
     ]
    },
    {
     "data": {
      "text/plain": [
       "8"
      ]
     },
     "execution_count": 60,
     "metadata": {},
     "output_type": "execute_result"
    }
   ],
   "source": [
    "queryString = \"\"\"\n",
    "SELECT ?continent (COUNT(DISTINCT ?m) AS ?monarchies) WHERE { \n",
    "\n",
    "?m (wdt:P31|wdt:P122)/wdt:P279* wd:Q7269;\n",
    "    wdt:P571 ?inception;\n",
    "    wdt:P30 ?c.\n",
    "\n",
    "?c <http://schema.org/name> ?continent.\n",
    "FILTER(datatype(?inception) = xsd:dateTime && !strstarts(str(?inception),'-'))\n",
    "\n",
    "FILTER NOT EXISTS{ ?m wdt:P1366|wdt:P576|wdt:P582 ?o. }\n",
    "\n",
    "} \n",
    "GROUP BY ?continent\n",
    "ORDER BY DESC(?monarchies)\n",
    "\"\"\"\n",
    "\n",
    "print(\"Results\")\n",
    "run_query(queryString)"
   ]
  },
  {
   "cell_type": "markdown",
   "id": "7a9db1d7-e90c-48a8-842f-4844abc26333",
   "metadata": {},
   "source": [
    "I list these monarchies grouped by Continent."
   ]
  },
  {
   "cell_type": "code",
   "execution_count": 61,
   "id": "8e0ff4b4-8274-486f-9638-fb829c993689",
   "metadata": {},
   "outputs": [
    {
     "name": "stdout",
     "output_type": "stream",
     "text": [
      "Results\n",
      "[('continent', 'Europe'), ('monarchies', 'Andorra, Belgium, County of Tyrol, Danish Realm, Denmark, Jersey, Kingdom of the Netherlands, Liechtenstein, Luxembourg, Monaco, Netherlands, Northern Ireland, Norway, Principality of Sealand, Spain, Sweden, United Kingdom, Vatican City')]\n",
      "[('continent', 'North America'), ('monarchies', 'Aerican Empire, Antigua and Barbuda, Barbados, Belize, Canada, Danish Realm, Denmark, Greenland, Grenada, Jamaica, Kingdom of the Netherlands, Saint Kitts and Nevis, Saint Lucia, Saint Vincent and the Grenadines, Saskatchewan, The Bahamas')]\n",
      "[('continent', 'Asia'), ('monarchies', 'Bahrain, Bhutan, Brunei, Cambodia, Japan, Jordan, Kuwait, Malaysia, Oman, Qatar, Saudi Arabia, Thailand, United Arab Emirates')]\n",
      "[('continent', 'Insular Oceania'), ('monarchies', 'Australia, New Zealand, Papua New Guinea, Solomon Islands, Tuvalu')]\n",
      "[('continent', 'Africa'), ('monarchies', 'Eswatini, Kingdom of Africa, Lesotho')]\n",
      "[('continent', 'Central America'), ('monarchies', 'Netherlands')]\n",
      "[('continent', 'Australia'), ('monarchies', 'Aerican Empire')]\n",
      "[('continent', 'Caribbean'), ('monarchies', 'monarchy of Antigua and Barbuda')]\n"
     ]
    },
    {
     "data": {
      "text/plain": [
       "8"
      ]
     },
     "execution_count": 61,
     "metadata": {},
     "output_type": "execute_result"
    }
   ],
   "source": [
    "queryString = \"\"\"\n",
    "SELECT ?continent GROUP_CONCAT(DISTINCT ?monarchy; separator=', ') AS ?monarchies WHERE { \n",
    "\n",
    "?m (wdt:P31|wdt:P122)/wdt:P279* wd:Q7269;\n",
    "    wdt:P571 ?inception;\n",
    "    wdt:P30 ?c;\n",
    "    <http://schema.org/name> ?monarchy.\n",
    "\n",
    "?c <http://schema.org/name> ?continent.\n",
    "\n",
    "FILTER(datatype(?inception) = xsd:dateTime && !strstarts(str(?inception),'-'))\n",
    "\n",
    "FILTER NOT EXISTS{ ?m wdt:P1366|wdt:P576|wdt:P582 ?o. }\n",
    "\n",
    "} \n",
    "GROUP BY ?continent\n",
    "ORDER BY DESC(COUNT(DISTINCT ?m))\n",
    "\"\"\"\n",
    "\n",
    "print(\"Results\")\n",
    "run_query(queryString)"
   ]
  },
  {
   "cell_type": "markdown",
   "id": "8c22e724-f221-473f-bf21-5e3db3a59817",
   "metadata": {
    "tags": []
   },
   "source": [
    "### FORMER MONARCHIES"
   ]
  },
  {
   "cell_type": "markdown",
   "id": "4f319c32-2ef8-4062-8388-0128b72a052f",
   "metadata": {
    "tags": []
   },
   "source": [
    "#### Countries that were monarchies"
   ]
  },
  {
   "cell_type": "markdown",
   "id": "d4bf6f8a-671e-4763-9260-ca794923f65c",
   "metadata": {},
   "source": [
    "From the results obtained when looking for the inception date of monarchies I notice data also have a property with the abolished date that could indicate the monarchy is no longer present therefore we retrieve some countries with the property wdt:P576."
   ]
  },
  {
   "cell_type": "code",
   "execution_count": 62,
   "id": "bd44dc31-66f2-4bd0-a104-8b74a8117841",
   "metadata": {},
   "outputs": [
    {
     "name": "stdout",
     "output_type": "stream",
     "text": [
      "Results\n",
      "[('former', 'Dʿmt'), ('endDate', '-399-01-01T00:00:00Z')]\n",
      "[('former', 'Duchy of Bouillon'), ('endDate', '1794-01-01T00:00:00Z')]\n",
      "[('former', 'Ahom Kingdom'), ('endDate', '1826-01-01T00:00:00Z')]\n",
      "[('former', 'Jodhpur State'), ('endDate', '1949-01-01T00:00:00Z')]\n",
      "[('former', 'Baku Khanate'), ('endDate', '1806-01-01T00:00:00Z')]\n",
      "[('former', 'Eastern Hungarian Kingdom'), ('endDate', '1570-08-26T00:00:00Z')]\n",
      "[('former', 'Duchy of the Archipelago'), ('endDate', '1579-01-01T00:00:00Z')]\n",
      "[('former', 'Kingdom of Sicily'), ('endDate', '1849-05-15T00:00:00Z')]\n",
      "[('former', 'East Francia'), ('endDate', '0962-01-01T00:00:00Z')]\n",
      "[('former', 'Kingdom of Hawaiʻi'), ('endDate', '1893-01-01T00:00:00Z')]\n",
      "[('former', 'Duchy of Luxembourg'), ('endDate', '1795-01-01T00:00:00Z')]\n",
      "[('former', 'Alodia'), ('endDate', '1504-01-01T00:00:00Z')]\n",
      "[('former', 'Duchy of Swabia'), ('endDate', '1313-01-01T00:00:00Z')]\n",
      "[('former', 'Ghassanids'), ('endDate', '0638-01-01T00:00:00Z')]\n",
      "[('former', 'Taifa of Algeciras'), ('endDate', '1058-01-01T00:00:00Z')]\n",
      "[('former', 'Kotoko kingdom'), ('endDate', '1800-01-01T00:00:00Z')]\n",
      "[('former', 'Province of North Carolina'), ('endDate', '1776-07-04T00:00:00Z')]\n",
      "[('former', 'Orkdalen Kingdom'), ('endDate', '0700-01-01T00:00:00Z')]\n",
      "[('former', 'Duchy of Pomerania'), ('endDate', '1637-01-01T00:00:00Z')]\n",
      "[('former', 'Kingdom of Lombardy–Venetia'), ('endDate', '1866-08-23T00:00:00Z')]\n",
      "[('former', 'Margraviate of Moravia'), ('endDate', '1918-01-01T00:00:00Z')]\n",
      "[('former', 'Pauravas'), ('endDate', '-321-01-01T00:00:00Z')]\n",
      "[('former', 'Timurid Empire'), ('endDate', '1507-01-01T00:00:00Z')]\n",
      "[('former', 'Despotate of Dobruja'), ('endDate', '1395-01-01T00:00:00Z')]\n",
      "[('former', 'Principality of Lichtenberg'), ('endDate', '1834-01-01T00:00:00Z')]\n",
      "[('former', 'Sui dynasty'), ('endDate', '0618-01-01T00:00:00Z')]\n",
      "[('former', 'Song dynasty'), ('endDate', '1279-01-01T00:00:00Z')]\n",
      "[('former', 'Francoist Spain'), ('endDate', '1975-11-20T00:00:00Z')]\n",
      "[('former', 'Ostikanate of Arminiya'), ('endDate', '0885-01-01T00:00:00Z')]\n",
      "[('former', 'Guelders'), ('endDate', '1795-01-01T00:00:00Z')]\n",
      "[('former', 'Kingdom of Sophene'), ('endDate', '-093-01-01T00:00:00Z')]\n",
      "[('former', 'Kingdom of Commagene'), ('endDate', '0072-01-01T00:00:00Z')]\n",
      "[('former', 'Bavaria-Straubing'), ('endDate', '1432-01-01T00:00:00Z')]\n",
      "[('former', 'Electorate of Salzburg'), ('endDate', '1805-01-01T00:00:00Z')]\n",
      "[('former', 'Duchy of Urbino'), ('endDate', '1631-01-01T00:00:00Z')]\n",
      "[('former', 'Lower Lotharingia'), ('endDate', '1190-01-01T00:00:00Z')]\n",
      "[('former', 'captaincy of Brazil'), ('endDate', '1822-01-01T00:00:00Z')]\n",
      "[('former', 'United Principalities'), ('endDate', '1881-03-14T00:00:00Z')]\n",
      "[('former', 'Chagatai Khanate'), ('endDate', '1687-01-01T00:00:00Z')]\n",
      "[('former', 'Travancore'), ('endDate', '1949-01-01T00:00:00Z')]\n",
      "[('former', 'Mataram Sultanate'), ('endDate', '1755-01-01T00:00:00Z')]\n",
      "[('former', 'Kingdom of Cochin'), ('endDate', '1949-01-01T00:00:00Z')]\n",
      "[('former', 'Taifa of Ronda'), ('endDate', '1065-01-01T00:00:00Z')]\n",
      "[('former', 'Videha'), ('endDate', '-500-01-01T00:00:00Z')]\n",
      "[('former', 'Malacca sultanate'), ('endDate', '1511-08-25T00:00:00Z')]\n",
      "[('former', 'Kingdom of Tahiti'), ('endDate', '1880-06-29T00:00:00Z')]\n",
      "[('former', 'Kingdom of Dalmatia'), ('endDate', '1918-10-29T00:00:00Z')]\n",
      "[('former', 'Second Empire of Haiti'), ('endDate', '1859-01-15T00:00:00Z')]\n",
      "[('former', 'Kingdom of Lori'), ('endDate', '1118-01-01T00:00:00Z')]\n",
      "[('former', 'Duchy of Mirandola'), ('endDate', '1710-01-01T00:00:00Z')]\n"
     ]
    },
    {
     "data": {
      "text/plain": [
       "50"
      ]
     },
     "execution_count": 62,
     "metadata": {},
     "output_type": "execute_result"
    }
   ],
   "source": [
    "queryString=\"\"\"\n",
    "SELECT DISTINCT ?former ?endDate WHERE{\n",
    "\n",
    "    ?f (wdt:P31|wdt:P122)/wdt:P279* wd:Q7269;\n",
    "        wdt:P576 ?endDate.\n",
    "    ?f <http://schema.org/name> ?former.\n",
    "}\n",
    "LIMIT 50\n",
    "\"\"\"\n",
    "print(\"Results\")\n",
    "run_query(queryString)"
   ]
  },
  {
   "cell_type": "markdown",
   "id": "af4cd248-1d27-4a40-a1cd-d43ebc8237a4",
   "metadata": {},
   "source": [
    "I count how many monarchies have the above-mentioned property."
   ]
  },
  {
   "cell_type": "code",
   "execution_count": 63,
   "id": "e9d4793a-672a-471a-b44a-208f0e2cd139",
   "metadata": {},
   "outputs": [
    {
     "name": "stdout",
     "output_type": "stream",
     "text": [
      "Results\n",
      "[('endedMonarchies', '1315')]\n"
     ]
    },
    {
     "data": {
      "text/plain": [
       "1"
      ]
     },
     "execution_count": 63,
     "metadata": {},
     "output_type": "execute_result"
    }
   ],
   "source": [
    "queryString=\"\"\"\n",
    "SELECT COUNT(?f) AS ?endedMonarchies WHERE{\n",
    "\n",
    "    ?f (wdt:P31|wdt:P122)/wdt:P279* wd:Q7269.\n",
    "    \n",
    "    FILTER EXISTS{ ?f wdt:P576 ?endDate. }\n",
    "}\n",
    "\"\"\"\n",
    "print(\"Results\")\n",
    "run_query(queryString)"
   ]
  },
  {
   "cell_type": "markdown",
   "id": "cc146502-e793-4185-b1c6-4df3b9bd7bac",
   "metadata": {},
   "source": [
    "The same reasoning can be applied to the property 'date of death' (wdt:P570). I select all monarchies that have the just mentioned property to check if the result set provides some useful information about former monarchies."
   ]
  },
  {
   "cell_type": "code",
   "execution_count": 64,
   "id": "1096a820-227f-4692-85c6-ef7c164b720c",
   "metadata": {},
   "outputs": [
    {
     "name": "stdout",
     "output_type": "stream",
     "text": [
      "Results\n",
      "Empty\n"
     ]
    },
    {
     "data": {
      "text/plain": [
       "0"
      ]
     },
     "execution_count": 64,
     "metadata": {},
     "output_type": "execute_result"
    }
   ],
   "source": [
    "queryString=\"\"\"\n",
    "SELECT DISTINCT ?former ?endDate WHERE{\n",
    "\n",
    "    ?f (wdt:P31|wdt:P122)/wdt:P279* wd:Q7269;\n",
    "        wdt:P570 ?endDate.\n",
    "    ?f <http://schema.org/name> ?former.\n",
    "}\n",
    "LIMIT 50\n",
    "\"\"\"\n",
    "print(\"Results\")\n",
    "run_query(queryString)"
   ]
  },
  {
   "cell_type": "markdown",
   "id": "bc267b0b-ba1a-4deb-bff6-aaa0d65cd8a2",
   "metadata": {},
   "source": [
    "As expected 'date of death' property provides no useful information in this case. "
   ]
  },
  {
   "cell_type": "markdown",
   "id": "6b29de52-0801-4641-a027-92fa67b8e33e",
   "metadata": {},
   "source": [
    "From these results I can assess that in order to retrieve all former monarchies I have to select all countries where there exists a triple ?country wdt:P1366 (replaced By) ?o or ?country wdt:P576 (abolished date) ?date. Before running this query I check if there are other properties that could retrieve former monarchies."
   ]
  },
  {
   "cell_type": "code",
   "execution_count": 65,
   "id": "9a5741df-09c6-456a-b242-d80604dbd46b",
   "metadata": {},
   "outputs": [
    {
     "name": "stdout",
     "output_type": "stream",
     "text": [
      "Results\n",
      "[('monarchies', '1332'), ('p', 'http://www.wikidata.org/prop/direct/P576'), ('pname', 'dissolved, abolished or demolished date')]\n",
      "[('monarchies', '54'), ('p', 'http://www.wikidata.org/prop/direct/P5698'), ('pname', 'Invasive Species Compendium Datasheet ID')]\n",
      "[('monarchies', '22'), ('p', 'http://www.wikidata.org/prop/direct/P7295'), ('pname', 'Gregorian calendar start date')]\n",
      "[('monarchies', '18'), ('p', 'http://www.wikidata.org/prop/direct/P582'), ('pname', 'end time')]\n",
      "[('monarchies', '2'), ('p', 'http://www.wikidata.org/prop/direct/P7284'), ('pname', 'The Independent topic ID')]\n",
      "[('monarchies', '2'), ('p', 'http://www.wikidata.org/prop/direct/P2402'), ('pname', 'total expenditure')]\n",
      "[('monarchies', '2'), ('p', 'http://www.wikidata.org/prop/direct/P21'), ('pname', 'sex or gender')]\n"
     ]
    },
    {
     "data": {
      "text/plain": [
       "7"
      ]
     },
     "execution_count": 65,
     "metadata": {},
     "output_type": "execute_result"
    }
   ],
   "source": [
    "queryString=\"\"\"\n",
    "SELECT DISTINCT (COUNT(?m) AS ?monarchies) ?p ?pname WHERE{\n",
    "\n",
    "    ?m (wdt:P31|wdt:P122)/wdt:P279* wd:Q7269;\n",
    "        ?p ?o.\n",
    "    ?p <http://schema.org/name> ?pname.\n",
    "    FILTER(regex(?pname, \".*[E,e]nd.*\") || regex(?pname, \".*[A,a]bolished.*\") || regex(?pname, \".*[A,a]nnex.*\"))\n",
    "}\n",
    "GROUP BY ?p ?pname\n",
    "ORDER BY DESC(?monarchies)\n",
    "\"\"\"\n",
    "print(\"Results\")\n",
    "run_query(queryString)"
   ]
  },
  {
   "cell_type": "markdown",
   "id": "1ad191c2-d239-45ce-8943-65f5e105c18f",
   "metadata": {},
   "source": [
    "Following the reasoning for 'dissolved, abolished or demolished date' (wdt:P576) and 'date of death' (wdt:P570) I check the property 'end time' (wdt:P582)."
   ]
  },
  {
   "cell_type": "code",
   "execution_count": 66,
   "id": "55085a3b-3248-41fe-8361-185731ebb3c1",
   "metadata": {},
   "outputs": [
    {
     "name": "stdout",
     "output_type": "stream",
     "text": [
      "Results\n",
      "[('former', 'Ghassanids'), ('endDate', '0638-01-01T00:00:00Z')]\n",
      "[('former', 'Roman Empire'), ('endDate', '0395-01-01T00:00:00Z')]\n",
      "[('former', 'Persian Empire'), ('endDate', '1979-02-11T00:00:00Z')]\n",
      "[('former', 'Qing dynasty'), ('endDate', '1911-01-01T00:00:00Z')]\n",
      "[('former', 'Kingdom of Chiangmai'), ('endDate', '1899-01-01T00:00:00Z')]\n",
      "[('former', 'Habsburg Spain'), ('endDate', '1700-01-01T00:00:00Z')]\n",
      "[('former', 'Roman Kingdom'), ('endDate', '-508-01-01T00:00:00Z')]\n",
      "[('former', 'Kenmu Restoration'), ('endDate', '1336-01-01T00:00:00Z')]\n",
      "[('former', 'Spring and Autumn period'), ('endDate', '-475-01-01T00:00:00Z')]\n",
      "[('former', 'Chimor'), ('endDate', '1470-01-01T00:00:00Z')]\n",
      "[('former', 'Chanka people'), ('endDate', '1438-01-01T00:00:00Z')]\n",
      "[('former', 'Mahameghavahana dynasty'), ('endDate', '0500-01-01T00:00:00Z')]\n",
      "[('former', 'Gansu Uyghur Kingdom'), ('endDate', '1036-01-01T00:00:00Z')]\n",
      "[('former', 'Monarchy of Korea'), ('endDate', '1910-08-29T00:00:00Z')]\n",
      "[('former', 'Hohenlohe-Weikersheim'), ('endDate', '1756-01-01T00:00:00Z')]\n"
     ]
    },
    {
     "data": {
      "text/plain": [
       "15"
      ]
     },
     "execution_count": 66,
     "metadata": {},
     "output_type": "execute_result"
    }
   ],
   "source": [
    "queryString=\"\"\"\n",
    "SELECT DISTINCT ?former ?endDate WHERE{\n",
    "\n",
    "    ?f (wdt:P31|wdt:P122)/wdt:P279* wd:Q7269;\n",
    "        wdt:P582 ?endDate.\n",
    "    ?f <http://schema.org/name> ?former.\n",
    "}\n",
    "\"\"\"\n",
    "print(\"Results\")\n",
    "run_query(queryString)"
   ]
  },
  {
   "cell_type": "markdown",
   "id": "769e7880-5c4f-4655-8c08-3f80944e4a5d",
   "metadata": {},
   "source": [
    "Now I can retrieve a more complete list of former monarchies by selecting countries where there is a triple of at least one of the relevant properties about former monarchies that are:\n",
    "\n",
    "| IRI           | Description   | Role      |\n",
    "| -----------   | -----------   |-----------|\n",
    "| `wdt:P1366`   | replaced by  | predicate |\n",
    "| `wdt:P576`     | dissolved, abolished or demolished date   | predicate |\n",
    "| `wdt:P582`     | end time   | predicate |\n",
    "\n",
    "Since we have a large number of former monarchies instead of listing them all I select only the top-50 former monarchies based on the population (wdt:P1082)."
   ]
  },
  {
   "cell_type": "code",
   "execution_count": 67,
   "id": "834d6cf9-07cf-4fde-b7aa-bf86f0f7c9fb",
   "metadata": {},
   "outputs": [
    {
     "name": "stdout",
     "output_type": "stream",
     "text": [
      "Results\n",
      "[('monarchy', 'British Empire'), ('pop', '680000000')]\n",
      "[('monarchy', 'Qing dynasty'), ('pop', '432000000')]\n",
      "[('monarchy', 'Qing dynasty'), ('pop', '400000000')]\n",
      "[('monarchy', 'Qing dynasty'), ('pop', '383100000')]\n",
      "[('monarchy', 'Russian Empire'), ('pop', '181537800')]\n",
      "[('monarchy', 'Russian Empire'), ('pop', '178378800')]\n",
      "[('monarchy', 'Mongol Empire'), ('pop', '160000000')]\n",
      "[('monarchy', 'Mughal Empire'), ('pop', '150000000')]\n",
      "[('monarchy', 'Russian Empire'), ('pop', '125640021')]\n",
      "[('monarchy', 'Empire of Japan'), ('pop', '97770000')]\n",
      "[('monarchy', 'Umayyad Caliphate'), ('pop', '70000000')]\n",
      "[('monarchy', 'German Empire'), ('pop', '67790000')]\n",
      "[('monarchy', 'German Empire'), ('pop', '64925993')]\n",
      "[('monarchy', 'Spanish Empire'), ('pop', '60000000')]\n",
      "[('monarchy', 'Han dynasty'), ('pop', '59594978')]\n",
      "[('monarchy', 'Han dynasty'), ('pop', '56486856')]\n",
      "[('monarchy', 'Austria-Hungary'), ('pop', '52800000')]\n",
      "[('monarchy', 'Austria-Hungary'), ('pop', '51356465')]\n",
      "[('monarchy', 'German Empire'), ('pop', '49428470')]\n",
      "[('monarchy', 'United Kingdom of Great Britain and Ireland'), ('pop', '45370530')]\n",
      "[('monarchy', 'United Kingdom of Great Britain and Ireland'), ('pop', '42769196')]\n",
      "[('monarchy', 'Kingdom of Italy'), ('pop', '42399000')]\n",
      "[('monarchy', 'Prussia'), ('pop', '41915040')]\n",
      "[('monarchy', 'German Empire'), ('pop', '41058792')]\n",
      "[('monarchy', 'Sasanian Empire'), ('pop', '40000000')]\n",
      "[('monarchy', 'Austria-Hungary'), ('pop', '39386934')]\n",
      "[('monarchy', 'Kingdom of Italy'), ('pop', '35845000')]\n",
      "[('monarchy', 'Francoist Spain'), ('pop', '35563535')]\n",
      "[('monarchy', 'Seleucid Empire'), ('pop', '35000000')]\n",
      "[('monarchy', 'Achaemenid Empire'), ('pop', '35000000')]\n",
      "[('monarchy', 'July Monarchy'), ('pop', '34689000')]\n",
      "[('monarchy', 'Holy Roman Empire'), ('pop', '26265000')]\n",
      "[('monarchy', 'Yugoslavia'), ('pop', '23271000')]\n",
      "[('monarchy', 'Kingdom of Italy'), ('pop', '22182000')]\n",
      "[('monarchy', 'Austrian Empire'), ('pop', '21200000')]\n",
      "[('monarchy', 'Parthian Empire'), ('pop', '20000000')]\n",
      "[('monarchy', 'Viceroyalty of New Spain'), ('pop', '20000000')]\n",
      "[('monarchy', 'Safavid Empire'), ('pop', '20000000')]\n",
      "[('monarchy', 'Union of South Africa'), ('pop', '18216000')]\n",
      "[('monarchy', 'Byzantine Empire'), ('pop', '17000000')]\n",
      "[('monarchy', 'Achaemenid Empire'), ('pop', '17000000')]\n",
      "[('monarchy', 'United Kingdom of Great Britain and Ireland'), ('pop', '16345646')]\n",
      "[('monarchy', 'Tsardom of Russia'), ('pop', '14000000')]\n",
      "[('monarchy', 'Shang dynasty'), ('pop', '13500000')]\n",
      "[('monarchy', 'Joseon'), ('pop', '13000000')]\n",
      "[('monarchy', 'Sultanate of Egypt'), ('pop', '12751000')]\n",
      "[('monarchy', 'Polish–Lithuanian Commonwealth'), ('pop', '12300000')]\n",
      "[('monarchy', 'Yugoslavia'), ('pop', '11998000')]\n",
      "[('monarchy', 'Kingdom of Serbs, Croats and Slovenes'), ('pop', '11984911')]\n",
      "[('monarchy', 'Polish–Lithuanian Commonwealth'), ('pop', '11000000')]\n"
     ]
    },
    {
     "data": {
      "text/plain": [
       "50"
      ]
     },
     "execution_count": 67,
     "metadata": {},
     "output_type": "execute_result"
    }
   ],
   "source": [
    "queryString=\"\"\"\n",
    "SELECT DISTINCT ?monarchy ?pop WHERE{\n",
    "\n",
    "    ?m (wdt:P31|wdt:P122)/wdt:P279* wd:Q7269;\n",
    "        wdt:1366|wdt:P576|wdt:P582 ?o;\n",
    "        wdt:P1082 ?pop.\n",
    "    ?m <http://schema.org/name> ?monarchy.\n",
    "}\n",
    "ORDER BY DESC(?pop)\n",
    "LIMIT 50\n",
    "\"\"\"\n",
    "print(\"Results\")\n",
    "run_query(queryString)"
   ]
  },
  {
   "cell_type": "markdown",
   "id": "afb0d8a0-194f-4349-9999-66b96041ea42",
   "metadata": {},
   "source": [
    "I can also count how many former monarchies there are in the database."
   ]
  },
  {
   "cell_type": "code",
   "execution_count": 68,
   "id": "11cb61c5-05af-4b7a-8811-4142e06aac10",
   "metadata": {},
   "outputs": [
    {
     "name": "stdout",
     "output_type": "stream",
     "text": [
      "Results\n",
      "[('formerMonarchies', '1124')]\n"
     ]
    },
    {
     "data": {
      "text/plain": [
       "1"
      ]
     },
     "execution_count": 68,
     "metadata": {},
     "output_type": "execute_result"
    }
   ],
   "source": [
    "queryString=\"\"\"\n",
    "SELECT (COUNT(DISTINCT ?m) AS ?formerMonarchies) WHERE{\n",
    "\n",
    "    ?m (wdt:P31|wdt:P122)/wdt:P279* wd:Q7269;\n",
    "        wdt:P1366|wdt:P576|wdt:P582 ?o.\n",
    "}\n",
    "\"\"\"\n",
    "print(\"Results\")\n",
    "run_query(queryString)"
   ]
  },
  {
   "cell_type": "markdown",
   "id": "ecbc4b9b-98b2-4365-997b-a15e749e5a7e",
   "metadata": {},
   "source": [
    "Now I retrieved a more complete result as before. Before moving on to inception information I run some relevant queries about monarchies. First, I count how many former monarchies there are accross continents. I recall wdt:P30 assess the continent of a country."
   ]
  },
  {
   "cell_type": "code",
   "execution_count": 69,
   "id": "20b28a06-06cf-408a-b20a-5bee7c1a0e8a",
   "metadata": {},
   "outputs": [
    {
     "name": "stdout",
     "output_type": "stream",
     "text": [
      "Results\n",
      "[('continent', 'Europe'), ('formerMonarchies', '340')]\n",
      "[('continent', 'Asia'), ('formerMonarchies', '154')]\n",
      "[('continent', 'Africa'), ('formerMonarchies', '55')]\n",
      "[('continent', 'North America'), ('formerMonarchies', '15')]\n",
      "[('continent', 'Eurasia'), ('formerMonarchies', '14')]\n",
      "[('continent', 'South America'), ('formerMonarchies', '8')]\n",
      "[('continent', 'Insular Oceania'), ('formerMonarchies', '8')]\n",
      "[('continent', 'Americas'), ('formerMonarchies', '5')]\n",
      "[('continent', 'Antarctica'), ('formerMonarchies', '1')]\n",
      "[('continent', 'Northern America and Mexico'), ('formerMonarchies', '1')]\n",
      "[('continent', 'Australia'), ('formerMonarchies', '1')]\n"
     ]
    },
    {
     "data": {
      "text/plain": [
       "11"
      ]
     },
     "execution_count": 69,
     "metadata": {},
     "output_type": "execute_result"
    }
   ],
   "source": [
    "queryString=\"\"\"\n",
    "SELECT ?continent (COUNT(DISTINCT ?m) AS ?formerMonarchies) WHERE{\n",
    "\n",
    "    ?m (wdt:P31|wdt:P122)/wdt:P279* wd:Q7269;\n",
    "        wdt:P1366|wdt:P576|wdt:P582 ?o;\n",
    "        wdt:P30 ?c.\n",
    "    \n",
    "    ?c <http://schema.org/name> ?continent.\n",
    "}\n",
    "GROUP BY ?continent\n",
    "ORDER BY DESC(?formerMonarchies)\n",
    "\"\"\"\n",
    "print(\"Results\")\n",
    "run_query(queryString)"
   ]
  },
  {
   "cell_type": "markdown",
   "id": "af7388d6-352e-4c7f-829a-6223ef76f332",
   "metadata": {},
   "source": [
    "Just out of curiosity, I check if the continent with most former monarchies is also the one with most monarchies today."
   ]
  },
  {
   "cell_type": "code",
   "execution_count": 70,
   "id": "d99a2f87-fd49-4c90-a9e2-778f1b79eb0c",
   "metadata": {},
   "outputs": [
    {
     "name": "stdout",
     "output_type": "stream",
     "text": [
      "Results\n"
     ]
    },
    {
     "data": {
      "text/plain": [
       "{'head': {'link': []}, 'boolean': True}"
      ]
     },
     "execution_count": 70,
     "metadata": {},
     "output_type": "execute_result"
    }
   ],
   "source": [
    "queryString=\"\"\"\n",
    "ASK WHERE{\n",
    "    FILTER(?formerContinent = ?continent)\n",
    "    {\n",
    "        SELECT (COUNT(DISTINCT ?m) AS ?formerMonarchies) ?formerContinent WHERE{\n",
    "\n",
    "        ?m (wdt:P31|wdt:P122)/wdt:P279* wd:Q7269;\n",
    "        wdt:P1366|wdt:P576|wdt:P582 ?o;\n",
    "        wdt:P30 ?c.\n",
    "    \n",
    "        ?c <http://schema.org/name> ?formerContinent.\n",
    "        }\n",
    "        GROUP BY ?formerContinent\n",
    "        ORDER BY DESC(?formerMonarchies)\n",
    "        LIMIT 1\n",
    "    }\n",
    "    {\n",
    "        SELECT (COUNT(DISTINCT ?m) AS ?monarchies) ?continent WHERE{\n",
    "\n",
    "        ?m (wdt:P31|wdt:P122)/wdt:P279* wd:Q7269;\n",
    "        wdt:P30 ?c.\n",
    "    \n",
    "        ?c <http://schema.org/name> ?continent.\n",
    "        FILTER NOT EXISTS{ ?m wdt:P1366|wdt:P576|wdt:P582 ?o. }\n",
    "        }\n",
    "        GROUP BY ?continent\n",
    "        ORDER BY DESC(?monarchies)\n",
    "        LIMIT 1\n",
    "    }\n",
    "}\n",
    "\n",
    "\"\"\"\n",
    "print(\"Results\")\n",
    "run_ask_query(queryString)"
   ]
  },
  {
   "cell_type": "markdown",
   "id": "c8e3b5f4-29e9-4cd7-a017-9c1999f35b48",
   "metadata": {
    "tags": []
   },
   "source": [
    "#### Monarchy Types"
   ]
  },
  {
   "cell_type": "markdown",
   "id": "e8c41edf-4ea7-4282-ac7d-1ee8ffda8252",
   "metadata": {},
   "source": [
    "I now retrieve information about monarchy types. I recall wdt:P122 retrieves the basic form of government and wdt:P31 retrieve the property 'instance of'. FIrst I count how many monarchies there are grouped by the same instance of."
   ]
  },
  {
   "cell_type": "code",
   "execution_count": 71,
   "id": "681a9019-3797-440b-bb83-956acfa48680",
   "metadata": {},
   "outputs": [
    {
     "name": "stdout",
     "output_type": "stream",
     "text": [
      "Results\n",
      "[('i', 'http://www.wikidata.org/entity/Q3024240'), ('instance', 'historical country'), ('monarchies', '775')]\n",
      "[('i', 'http://www.wikidata.org/entity/Q208500'), ('instance', 'principality'), ('monarchies', '753')]\n",
      "[('i', 'http://www.wikidata.org/entity/Q417175'), ('instance', 'kingdom'), ('monarchies', '249')]\n",
      "[('i', 'http://www.wikidata.org/entity/Q154547'), ('instance', 'duchy'), ('monarchies', '247')]\n",
      "[('i', 'http://www.wikidata.org/entity/Q3624078'), ('instance', 'sovereign state'), ('monarchies', '74')]\n",
      "[('i', 'http://www.wikidata.org/entity/Q26830017'), ('instance', 'state in the Holy Roman Empire'), ('monarchies', '74')]\n",
      "[('i', 'http://www.wikidata.org/entity/Q6256'), ('instance', 'country'), ('monarchies', '66')]\n",
      "[('i', 'http://www.wikidata.org/entity/Q3403564'), ('instance', 'ecclesiastical principality'), ('monarchies', '65')]\n",
      "[('i', 'http://www.wikidata.org/entity/Q691981'), ('instance', 'Duchies of Silesia'), ('monarchies', '57')]\n",
      "[('i', 'http://www.wikidata.org/entity/Q1250464'), ('instance', 'realm'), ('monarchies', '55')]\n",
      "[('i', 'http://www.wikidata.org/entity/Q1798550'), ('instance', 'petty kingdom'), ('monarchies', '52')]\n",
      "[('i', 'http://www.wikidata.org/entity/Q1336152'), ('instance', 'princely state'), ('monarchies', '46')]\n",
      "[('i', 'http://www.wikidata.org/entity/Q1371288'), ('instance', 'vassal state'), ('monarchies', '45')]\n",
      "[('i', 'http://www.wikidata.org/entity/Q1145276'), ('instance', 'fictional country'), ('monarchies', '45')]\n",
      "[('i', 'http://www.wikidata.org/entity/Q48349'), ('instance', 'empire'), ('monarchies', '43')]\n",
      "[('i', 'http://www.wikidata.org/entity/Q26879769'), ('instance', 'state in the Confederation of the Rhine'), ('monarchies', '41')]\n",
      "[('i', 'http://www.wikidata.org/entity/Q164950'), ('instance', 'dynasty'), ('monarchies', '38')]\n",
      "[('i', 'http://www.wikidata.org/entity/Q681026'), ('instance', 'crown land of the Austrian Empire'), ('monarchies', '34')]\n",
      "[('i', 'http://www.wikidata.org/entity/Q12759805'), ('instance', 'sultanate'), ('monarchies', '32')]\n",
      "[('i', 'http://www.wikidata.org/entity/Q7275'), ('instance', 'state'), ('monarchies', '30')]\n",
      "[('i', 'http://www.wikidata.org/entity/Q11514315'), ('instance', 'historical period'), ('monarchies', '30')]\n",
      "[('i', 'http://www.wikidata.org/entity/Q41614'), ('instance', 'constitutional monarchy'), ('monarchies', '29')]\n",
      "[('i', 'http://www.wikidata.org/entity/Q353344'), ('instance', 'countship'), ('monarchies', '26')]\n",
      "[('i', 'http://www.wikidata.org/entity/Q202686'), ('instance', 'Commonwealth realm'), ('monarchies', '24')]\n",
      "[('i', 'http://www.wikidata.org/entity/Q112099'), ('instance', 'island nation'), ('monarchies', '23')]\n",
      "[('i', 'http://www.wikidata.org/entity/Q19953632'), ('instance', 'former administrative territorial entity'), ('monarchies', '23')]\n",
      "[('i', 'http://www.wikidata.org/entity/Q7269'), ('instance', 'monarchy'), ('monarchies', '22')]\n",
      "[('i', 'http://www.wikidata.org/entity/Q165116'), ('instance', 'grand duchy'), ('monarchies', '22')]\n",
      "[('i', 'http://www.wikidata.org/entity/Q1621034'), ('instance', 'historical territory'), ('monarchies', '20')]\n",
      "[('i', 'http://www.wikidata.org/entity/Q2387481'), ('instance', 'list of Indonesian monarchies'), ('monarchies', '20')]\n",
      "[('i', 'http://www.wikidata.org/entity/Q1151405'), ('instance', 'client state'), ('monarchies', '19')]\n",
      "[('i', 'http://www.wikidata.org/entity/Q63441276'), ('instance', 'dukedom of Spain'), ('monarchies', '18')]\n",
      "[('i', 'http://www.wikidata.org/entity/Q57979411'), ('instance', 'ducado'), ('monarchies', '17')]\n",
      "[('i', 'http://www.wikidata.org/entity/Q22693483'), ('instance', 'Pflegamt'), ('monarchies', '17')]\n",
      "[('i', 'http://www.wikidata.org/entity/Q1620908'), ('instance', 'historical region'), ('monarchies', '17')]\n",
      "[('i', 'http://www.wikidata.org/entity/Q836688'), ('instance', 'ancient Chinese state'), ('monarchies', '16')]\n",
      "[('i', 'http://www.wikidata.org/entity/Q463742'), ('instance', 'Hochstift'), ('monarchies', '15')]\n",
      "[('i', 'http://www.wikidata.org/entity/Q2494447'), ('instance', 'part principality'), ('monarchies', '15')]\n",
      "[('i', 'http://www.wikidata.org/entity/Q331644'), ('instance', 'Khanate'), ('monarchies', '15')]\n",
      "[('i', 'http://www.wikidata.org/entity/Q188443'), ('instance', 'micronation'), ('monarchies', '14')]\n",
      "[('i', 'http://www.wikidata.org/entity/Q27925057'), ('instance', 'Electoral Principate'), ('monarchies', '13')]\n",
      "[('i', 'http://www.wikidata.org/entity/Q133156'), ('instance', 'colony'), ('monarchies', '13')]\n",
      "[('i', 'http://www.wikidata.org/entity/Q189898'), ('instance', 'emirate'), ('monarchies', '12')]\n",
      "[('i', 'http://www.wikidata.org/entity/Q56061'), ('instance', 'administrative territorial entity'), ('monarchies', '12')]\n",
      "[('i', 'http://www.wikidata.org/entity/Q12857432'), ('instance', 'Chinese dynasty'), ('monarchies', '12')]\n",
      "[('i', 'http://www.wikidata.org/entity/Q50068795'), ('instance', 'historical Chinese state'), ('monarchies', '11')]\n",
      "[('i', 'http://www.wikidata.org/entity/Q1156016'), ('instance', 'royal elections in Poland'), ('monarchies', '11')]\n",
      "[('i', 'http://www.wikidata.org/entity/Q56436498'), ('instance', 'village in India'), ('monarchies', '9')]\n",
      "[('i', 'http://www.wikidata.org/entity/Q96196475'), ('instance', 'fictional kingdom'), ('monarchies', '9')]\n",
      "[('i', 'http://www.wikidata.org/entity/Q217177'), ('instance', 'taifa'), ('monarchies', '9')]\n",
      "[('i', 'http://www.wikidata.org/entity/Q20181813'), ('instance', 'colonial power'), ('monarchies', '9')]\n",
      "[('i', 'http://www.wikidata.org/entity/Q164142'), ('instance', 'protectorate'), ('monarchies', '9')]\n",
      "[('i', 'http://www.wikidata.org/entity/Q188800'), ('instance', 'personal union'), ('monarchies', '8')]\n",
      "[('i', 'http://www.wikidata.org/entity/Q26879763'), ('instance', 'Napoleonic client state'), ('monarchies', '8')]\n",
      "[('i', 'http://www.wikidata.org/entity/Q11042'), ('instance', 'culture'), ('monarchies', '8')]\n",
      "[('i', 'http://www.wikidata.org/entity/Q19833031'), ('instance', 'emirate of the United Arab Emirates'), ('monarchies', '7')]\n",
      "[('i', 'http://www.wikidata.org/entity/Q223832'), ('instance', 'dominion of the British Empire'), ('monarchies', '7')]\n",
      "[('i', 'http://www.wikidata.org/entity/Q1351282'), ('instance', 'crown colony'), ('monarchies', '7')]\n",
      "[('i', 'http://www.wikidata.org/entity/Q5402094'), ('instance', 'barbarian kingdoms'), ('monarchies', '7')]\n",
      "[('i', 'http://www.wikidata.org/entity/Q173843'), ('instance', 'regency'), ('monarchies', '7')]\n",
      "[('i', 'http://www.wikidata.org/entity/Q3146899'), ('instance', 'diocese of the Catholic Church'), ('monarchies', '7')]\n",
      "[('i', 'http://www.wikidata.org/entity/Q190967'), ('instance', 'Crusader states'), ('monarchies', '6')]\n",
      "[('i', 'http://www.wikidata.org/entity/Q355567'), ('instance', 'noble title'), ('monarchies', '6')]\n",
      "[('i', 'http://www.wikidata.org/entity/Q184558'), ('instance', 'absolute monarchy'), ('monarchies', '6')]\n",
      "[('i', 'http://www.wikidata.org/entity/Q123480'), ('instance', 'landlocked country'), ('monarchies', '6')]\n",
      "[('i', 'http://www.wikidata.org/entity/Q99541706'), ('instance', 'historical unrecognized state'), ('monarchies', '6')]\n",
      "[('i', 'http://www.wikidata.org/entity/Q1292119'), ('instance', 'style'), ('monarchies', '6')]\n",
      "[('i', 'http://www.wikidata.org/entity/Q17524420'), ('instance', 'aspect of history'), ('monarchies', '6')]\n",
      "[('i', 'http://www.wikidata.org/entity/Q82794'), ('instance', 'geographic region'), ('monarchies', '5')]\n",
      "[('i', 'http://www.wikidata.org/entity/Q187587'), ('instance', 'empire'), ('monarchies', '5')]\n",
      "[('i', 'http://www.wikidata.org/entity/Q27780831'), ('instance', 'former Roman Catholic diocese'), ('monarchies', '5')]\n",
      "[('i', 'http://www.wikidata.org/entity/Q34876'), ('instance', 'province'), ('monarchies', '5')]\n",
      "[('i', 'http://www.wikidata.org/entity/Q20856058'), ('instance', 'landgraviate'), ('monarchies', '5')]\n",
      "[('i', 'http://www.wikidata.org/entity/Q1211369'), ('instance', 'the empire on which the sun never sets'), ('monarchies', '5')]\n",
      "[('i', 'http://www.wikidata.org/entity/Q43702'), ('instance', 'federation'), ('monarchies', '4')]\n",
      "[('i', 'http://www.wikidata.org/entity/Q188063'), ('instance', 'fiefdom'), ('monarchies', '4')]\n",
      "[('i', 'http://www.wikidata.org/entity/Q5852411'), ('instance', 'state of Australia'), ('monarchies', '4')]\n",
      "[('i', 'http://www.wikidata.org/entity/Q486972'), ('instance', 'human settlement'), ('monarchies', '4')]\n",
      "[('i', 'http://www.wikidata.org/entity/Q846025'), ('instance', 'Mahajanapada'), ('monarchies', '4')]\n",
      "[('i', 'http://www.wikidata.org/entity/Q672502'), ('instance', 'Ernestine duchies'), ('monarchies', '4')]\n",
      "[('i', 'http://www.wikidata.org/entity/Q179164'), ('instance', 'unitary state'), ('monarchies', '4')]\n",
      "[('i', 'http://www.wikidata.org/entity/Q1951661'), ('instance', 'member states of the Association of Southeast Asian Nations'), ('monarchies', '4')]\n",
      "[('i', 'http://www.wikidata.org/entity/Q13107770'), ('instance', 'archipelagic state'), ('monarchies', '4')]\n",
      "[('i', 'http://www.wikidata.org/entity/Q27492289'), ('instance', 'marquisate'), ('monarchies', '4')]\n",
      "[('i', 'http://www.wikidata.org/entity/Q2560551'), ('instance', 'Vassal and tributary states of the Ottoman Empire'), ('monarchies', '4')]\n",
      "[('i', 'http://www.wikidata.org/entity/Q584683'), ('instance', 'elective monarchy'), ('monarchies', '3')]\n",
      "[('i', 'http://www.wikidata.org/entity/Q23442'), ('instance', 'island'), ('monarchies', '3')]\n",
      "[('i', 'http://www.wikidata.org/entity/Q2706826'), ('instance', 'Sheikhdom'), ('monarchies', '3')]\n",
      "[('i', 'http://www.wikidata.org/entity/Q617347'), ('instance', 'stem duchy'), ('monarchies', '3')]\n",
      "[('i', 'http://www.wikidata.org/entity/Q170156'), ('instance', 'confederation'), ('monarchies', '3')]\n",
      "[('i', 'http://www.wikidata.org/entity/Q1063239'), ('instance', 'polity'), ('monarchies', '3')]\n",
      "[('i', 'http://www.wikidata.org/entity/Q3336843'), ('instance', 'nation within the UK'), ('monarchies', '3')]\n",
      "[('i', 'http://www.wikidata.org/entity/Q28575'), ('instance', 'county'), ('monarchies', '3')]\n",
      "[('i', 'http://www.wikidata.org/entity/Q1323642'), ('instance', 'transcontinental country'), ('monarchies', '3')]\n",
      "[('i', 'http://www.wikidata.org/entity/Q4482688'), ('instance', 'feudal monarchy'), ('monarchies', '3')]\n",
      "[('i', 'http://www.wikidata.org/entity/Q3895768'), ('instance', 'fictional location'), ('monarchies', '3')]\n",
      "[('i', 'http://www.wikidata.org/entity/Q13417114'), ('instance', 'noble family'), ('monarchies', '3')]\n",
      "[('i', 'http://www.wikidata.org/entity/Q65630486'), ('instance', 'fictional city-state'), ('monarchies', '3')]\n",
      "[('i', 'http://www.wikidata.org/entity/Q57662985'), ('instance', 'country in a fiction work'), ('monarchies', '3')]\n",
      "[('i', 'http://www.wikidata.org/entity/Q196068'), ('instance', 'herrschaft'), ('monarchies', '3')]\n",
      "[('i', 'http://www.wikidata.org/entity/Q28171280'), ('instance', 'ancient civilization'), ('monarchies', '3')]\n",
      "[('i', 'http://www.wikidata.org/entity/Q1074150'), ('instance', 'shogunate'), ('monarchies', '3')]\n",
      "[('i', 'http://www.wikidata.org/entity/Q17259945'), ('instance', 'province of the Spanish Empire'), ('monarchies', '3')]\n",
      "[('i', 'http://www.wikidata.org/entity/Q161243'), ('instance', 'dependent territory'), ('monarchies', '3')]\n",
      "[('i', 'http://www.wikidata.org/entity/Q816829'), ('instance', 'periodization'), ('monarchies', '3')]\n",
      "[('i', 'http://www.wikidata.org/entity/Q5036886'), ('instance', 'Captaincies of the Spanish Empire'), ('monarchies', '3')]\n",
      "[('i', 'http://www.wikidata.org/entity/Q10904438'), ('instance', 'Twelve Vassals'), ('monarchies', '3')]\n",
      "[('i', 'http://www.wikidata.org/entity/Q849242'), ('instance', 'hereditary monarchy'), ('monarchies', '3')]\n",
      "[('i', 'http://www.wikidata.org/entity/Q43229'), ('instance', 'organization'), ('monarchies', '3')]\n",
      "[('i', 'http://www.wikidata.org/entity/Q171441'), ('instance', 'enclave'), ('monarchies', '2')]\n",
      "[('i', 'http://www.wikidata.org/entity/Q2495771'), ('instance', 'nomadic empire'), ('monarchies', '2')]\n",
      "[('i', 'http://www.wikidata.org/entity/Q2072238'), ('instance', 'archdiocese'), ('monarchies', '2')]\n",
      "[('i', 'http://www.wikidata.org/entity/Q83204'), ('instance', 'triumvirate'), ('monarchies', '2')]\n",
      "[('i', 'http://www.wikidata.org/entity/Q1679711'), ('instance', 'Modellstaat'), ('monarchies', '2')]\n",
      "[('i', 'http://www.wikidata.org/entity/Q131401'), ('instance', 'caliphate'), ('monarchies', '2')]\n",
      "[('i', 'http://www.wikidata.org/entity/Q5589178'), ('instance', 'regime'), ('monarchies', '2')]\n",
      "[('i', 'http://www.wikidata.org/entity/Q2472587'), ('instance', 'people'), ('monarchies', '2')]\n",
      "[('i', 'http://www.wikidata.org/entity/Q21507948'), ('instance', 'former village'), ('monarchies', '2')]\n",
      "[('i', 'http://www.wikidata.org/entity/Q21479969'), ('instance', 'British protectorate'), ('monarchies', '2')]\n",
      "[('i', 'http://www.wikidata.org/entity/Q51576574'), ('instance', 'Mediterranean country'), ('monarchies', '2')]\n",
      "[('i', 'http://www.wikidata.org/entity/Q6428674'), ('instance', 'era'), ('monarchies', '2')]\n",
      "[('i', 'http://www.wikidata.org/entity/Q15617994'), ('instance', 'designation for an administrative territorial entity'), ('monarchies', '2')]\n",
      "[('i', 'http://www.wikidata.org/entity/Q43185013'), ('instance', 'maritime republic'), ('monarchies', '2')]\n",
      "[('i', 'http://www.wikidata.org/entity/Q1088391'), ('instance', 'rump state'), ('monarchies', '2')]\n",
      "[('i', 'http://www.wikidata.org/entity/Q133442'), ('instance', 'city-state'), ('monarchies', '2')]\n",
      "[('i', 'http://www.wikidata.org/entity/Q185086'), ('instance', 'Crown dependency'), ('monarchies', '2')]\n",
      "[('i', 'http://www.wikidata.org/entity/Q7448101'), ('instance', 'self-governing colony of the British Empire'), ('monarchies', '2')]\n",
      "[('i', 'http://www.wikidata.org/entity/Q914425'), ('instance', 'Signoria'), ('monarchies', '2')]\n",
      "[('i', 'http://www.wikidata.org/entity/Q19595246'), ('instance', 'fictional empire'), ('monarchies', '2')]\n",
      "[('i', 'http://www.wikidata.org/entity/Q2665272'), ('instance', 'Ecclesiastical circumscription immediately subject to the Holy See'), ('monarchies', '2')]\n",
      "[('i', 'http://www.wikidata.org/entity/Q741966'), ('instance', 'Swabian Circle'), ('monarchies', '2')]\n",
      "[('i', 'http://www.wikidata.org/entity/Q3950801'), ('instance', 'satrapy of the Achaemenid Empire'), ('monarchies', '2')]\n",
      "[('i', 'http://www.wikidata.org/entity/Q66724388'), ('instance', 'autonomous country within the Kingdom of Denmark'), ('monarchies', '2')]\n",
      "[('i', 'http://www.wikidata.org/entity/Q1309121'), ('instance', 'hermit kingdom'), ('monarchies', '2')]\n",
      "[('i', 'http://www.wikidata.org/entity/Q3446291'), ('instance', 'Gothic kingdom'), ('monarchies', '2')]\n",
      "[('i', 'http://www.wikidata.org/entity/Q1048835'), ('instance', 'political territorial entity'), ('monarchies', '2')]\n",
      "[('i', 'http://www.wikidata.org/entity/Q8436'), ('instance', 'family'), ('monarchies', '2')]\n",
      "[('i', 'http://www.wikidata.org/entity/Q665487'), ('instance', 'diocese'), ('monarchies', '2')]\n",
      "[('i', 'http://www.wikidata.org/entity/Q8202984'), ('instance', 'Aramean (disambiguation)'), ('monarchies', '2')]\n",
      "[('i', 'http://www.wikidata.org/entity/Q7398315'), ('instance', 'Saeristavo'), ('monarchies', '2')]\n",
      "[('i', 'http://www.wikidata.org/entity/Q15304003'), ('instance', 'country of the Kingdom of the Netherlands'), ('monarchies', '2')]\n",
      "[('i', 'http://www.wikidata.org/entity/Q3241965'), ('instance', 'tributary state'), ('monarchies', '2')]\n",
      "[('i', 'http://www.wikidata.org/entity/Q107390'), ('instance', 'federated state'), ('monarchies', '2')]\n",
      "[('i', 'http://www.wikidata.org/entity/Q96354653'), ('instance', 'beylik'), ('monarchies', '2')]\n",
      "[('i', 'http://www.wikidata.org/entity/Q3244203'), ('instance', 'monarchy of Antigua and Barbuda'), ('monarchies', '1')]\n",
      "[('i', 'http://www.wikidata.org/entity/Q20937557'), ('instance', 'series'), ('monarchies', '1')]\n",
      "[('i', 'http://www.wikidata.org/entity/Q18230293'), ('instance', 'fictional historical period'), ('monarchies', '1')]\n",
      "[('i', 'http://www.wikidata.org/entity/Q192611'), ('instance', 'electoral district'), ('monarchies', '1')]\n",
      "[('i', 'http://www.wikidata.org/entity/Q5'), ('instance', 'human'), ('monarchies', '1')]\n",
      "[('i', 'http://www.wikidata.org/entity/Q839954'), ('instance', 'archaeological site'), ('monarchies', '1')]\n",
      "[('i', 'http://www.wikidata.org/entity/Q13691'), ('instance', 'artificial island'), ('monarchies', '1')]\n",
      "[('i', 'http://www.wikidata.org/entity/Q19832712'), ('instance', 'historical administrative division'), ('monarchies', '1')]\n",
      "[('i', 'http://www.wikidata.org/entity/Q12827256'), ('instance', 'myth'), ('monarchies', '1')]\n",
      "[('i', 'http://www.wikidata.org/entity/Q373074'), ('instance', 'suffragan diocese'), ('monarchies', '1')]\n",
      "[('i', 'http://www.wikidata.org/entity/Q3957'), ('instance', 'town'), ('monarchies', '1')]\n",
      "[('i', 'http://www.wikidata.org/entity/Q21512251'), ('instance', 'self-proclaimed state'), ('monarchies', '1')]\n",
      "[('i', 'http://www.wikidata.org/entity/Q1366274'), ('instance', 'Erzstift'), ('monarchies', '1')]\n",
      "[('i', 'http://www.wikidata.org/entity/Q36732'), ('instance', 'kingdom'), ('monarchies', '1')]\n",
      "[('i', 'http://www.wikidata.org/entity/Q63791824'), ('instance', 'country bordering the Baltic Sea'), ('monarchies', '1')]\n",
      "[('i', 'http://www.wikidata.org/entity/Q35798'), ('instance', 'executive branch'), ('monarchies', '1')]\n",
      "[('i', 'http://www.wikidata.org/entity/Q209495'), ('instance', 'historical province of France'), ('monarchies', '1')]\n",
      "[('i', 'http://www.wikidata.org/entity/Q1762301'), ('instance', 'Majorat'), ('monarchies', '1')]\n",
      "[('i', 'http://www.wikidata.org/entity/Q2225692'), ('instance', 'fourth-level administrative division in Indonesia'), ('monarchies', '1')]\n",
      "[('i', 'http://www.wikidata.org/entity/Q1759852'), ('instance', 'sculpture garden'), ('monarchies', '1')]\n",
      "[('i', 'http://www.wikidata.org/entity/Q1307214'), ('instance', 'form of government'), ('monarchies', '1')]\n",
      "[('i', 'http://www.wikidata.org/entity/Q2577883'), ('instance', 'occupied territory'), ('monarchies', '1')]\n",
      "[('i', 'http://www.wikidata.org/entity/Q1790360'), ('instance', 'colonial empire'), ('monarchies', '1')]\n",
      "[('i', 'http://www.wikidata.org/entity/Q11687019'), ('instance', 'external territory of Australia'), ('monarchies', '1')]\n",
      "[('i', 'http://www.wikidata.org/entity/Q1068521'), ('instance', 'Restoration'), ('monarchies', '1')]\n",
      "[('i', 'http://www.wikidata.org/entity/Q24305436'), ('instance', 'abbey-principality'), ('monarchies', '1')]\n",
      "[('i', 'http://www.wikidata.org/entity/Q173424'), ('instance', 'autocracy'), ('monarchies', '1')]\n",
      "[('i', 'http://www.wikidata.org/entity/Q17149090'), ('instance', 'armed organization'), ('monarchies', '1')]\n",
      "[('i', 'http://www.wikidata.org/entity/Q62753229'), ('instance', 'Khaganate'), ('monarchies', '1')]\n",
      "[('i', 'http://www.wikidata.org/entity/Q7448178'), ('instance', 'self-proclaimed monarchy'), ('monarchies', '1')]\n",
      "[('i', 'http://www.wikidata.org/entity/Q58001343'), ('instance', 'comté (France)'), ('monarchies', '1')]\n",
      "[('i', 'http://www.wikidata.org/entity/Q58683981'), ('instance', 'señorio'), ('monarchies', '1')]\n",
      "[('i', 'http://www.wikidata.org/entity/Q5156764'), ('instance', 'composite monarchy'), ('monarchies', '1')]\n",
      "[('i', 'http://www.wikidata.org/entity/Q2590445'), ('instance', 'fictional ethnic group'), ('monarchies', '1')]\n",
      "[('i', 'http://www.wikidata.org/entity/Q2479824'), ('instance', 'altepetl'), ('monarchies', '1')]\n",
      "[('i', 'http://www.wikidata.org/entity/Q47537235'), ('instance', 'fictional interstellar state'), ('monarchies', '1')]\n",
      "[('i', 'http://www.wikidata.org/entity/Q26654367'), ('instance', 'former county'), ('monarchies', '1')]\n",
      "[('i', 'http://www.wikidata.org/entity/Q49476'), ('instance', 'archbishop'), ('monarchies', '1')]\n",
      "[('i', 'http://www.wikidata.org/entity/Q133311'), ('instance', 'tribe'), ('monarchies', '1')]\n",
      "[('i', 'http://www.wikidata.org/entity/Q79751'), ('instance', 'oligarchy'), ('monarchies', '1')]\n",
      "[('i', 'http://www.wikidata.org/entity/Q1550557'), ('instance', 'manorialism'), ('monarchies', '1')]\n",
      "[('i', 'http://www.wikidata.org/entity/Q2016031'), ('instance', 'offshore construction'), ('monarchies', '1')]\n",
      "[('i', 'http://www.wikidata.org/entity/Q1549591'), ('instance', 'big city'), ('monarchies', '1')]\n",
      "[('i', 'http://www.wikidata.org/entity/Q108059870'), ('instance', 'Star Wars planet'), ('monarchies', '1')]\n",
      "[('i', 'http://www.wikidata.org/entity/Q108060298'), ('instance', 'fictional Earth analogue'), ('monarchies', '1')]\n",
      "[('i', 'http://www.wikidata.org/entity/Q426759'), ('instance', 'League of Nations mandate'), ('monarchies', '1')]\n",
      "[('i', 'http://www.wikidata.org/entity/Q15649504'), ('instance', 'satrapy'), ('monarchies', '1')]\n",
      "[('i', 'http://www.wikidata.org/entity/Q15634554'), ('instance', 'state with limited recognition'), ('monarchies', '1')]\n",
      "[('i', 'http://www.wikidata.org/entity/Q17319161'), ('instance', 'princely estate of the British Raj'), ('monarchies', '1')]\n",
      "[('i', 'http://www.wikidata.org/entity/Q574299'), ('instance', 'provinces of Prussia'), ('monarchies', '1')]\n",
      "[('i', 'http://www.wikidata.org/entity/Q5737899'), ('instance', 'hereditary title'), ('monarchies', '1')]\n",
      "[('i', 'http://www.wikidata.org/entity/Q653734'), ('instance', 'nakharar'), ('monarchies', '1')]\n",
      "[('i', 'http://www.wikidata.org/entity/Q145811'), ('instance', 'Zamindar'), ('monarchies', '1')]\n",
      "[('i', 'http://www.wikidata.org/entity/Q11828004'), ('instance', 'province of Canada'), ('monarchies', '1')]\n",
      "[('i', 'http://www.wikidata.org/entity/Q3502482'), ('instance', 'cultural region'), ('monarchies', '1')]\n",
      "[('i', 'http://www.wikidata.org/entity/Q1156073'), ('instance', 'royal house'), ('monarchies', '1')]\n",
      "[('i', 'http://www.wikidata.org/entity/Q3117863'), ('instance', 'isolated human group'), ('monarchies', '1')]\n",
      "[('i', 'http://www.wikidata.org/entity/Q734818'), ('instance', 'condominium'), ('monarchies', '1')]\n",
      "[('i', 'http://www.wikidata.org/entity/Q108059638'), ('instance', 'Teenage Mutant Ninja Turtles location'), ('monarchies', '1')]\n",
      "[('i', 'http://www.wikidata.org/entity/Q4164871'), ('instance', 'position'), ('monarchies', '1')]\n",
      "[('i', 'http://www.wikidata.org/entity/Q41710'), ('instance', 'ethnic group'), ('monarchies', '1')]\n",
      "[('i', 'http://www.wikidata.org/entity/Q160742'), ('instance', 'abbey'), ('monarchies', '1')]\n",
      "[('i', 'http://www.wikidata.org/entity/Q31914717'), ('instance', 'Bistum forest'), ('monarchies', '1')]\n",
      "[('i', 'http://www.wikidata.org/entity/Q6619693'), ('instance', 'fictional island'), ('monarchies', '1')]\n",
      "[('i', 'http://www.wikidata.org/entity/Q29933858'), ('instance', 'territorial claim'), ('monarchies', '1')]\n",
      "[('i', 'http://www.wikidata.org/entity/Q1089515'), ('instance', 'conquest dynasty'), ('monarchies', '1')]\n",
      "[('i', 'http://www.wikidata.org/entity/Q208164'), ('instance', 'puppet state'), ('monarchies', '1')]\n",
      "[('i', 'http://www.wikidata.org/entity/Q708751'), ('instance', 'imperial abbey'), ('monarchies', '1')]\n",
      "[('i', 'http://www.wikidata.org/entity/Q1414991'), ('instance', 'area'), ('monarchies', '1')]\n",
      "[('i', 'http://www.wikidata.org/entity/Q465299'), ('instance', 'archaeological culture'), ('monarchies', '1')]\n",
      "[('i', 'http://www.wikidata.org/entity/Q1039325'), ('instance', 'Janapada'), ('monarchies', '1')]\n",
      "[('i', 'http://www.wikidata.org/entity/Q1355821'), ('instance', 'frontier'), ('monarchies', '1')]\n",
      "[('i', 'http://www.wikidata.org/entity/Q2478080'), ('instance', 'name of Vietnam'), ('monarchies', '1')]\n",
      "[('i', 'http://www.wikidata.org/entity/Q191320'), ('instance', 'political geography'), ('monarchies', '1')]\n",
      "[('i', 'http://www.wikidata.org/entity/Q83311'), ('instance', 'Persian Empire'), ('monarchies', '1')]\n",
      "[('i', 'http://www.wikidata.org/entity/Q183366'), ('instance', 'territory'), ('monarchies', '1')]\n",
      "[('i', 'http://www.wikidata.org/entity/Q12356456'), ('instance', 'viceroyalty'), ('monarchies', '1')]\n",
      "[('i', 'http://www.wikidata.org/entity/Q2011891'), ('instance', 'Modern Saudi State'), ('monarchies', '1')]\n",
      "[('i', 'http://www.wikidata.org/entity/Q44613'), ('instance', 'monastery'), ('monarchies', '1')]\n",
      "[('i', 'http://www.wikidata.org/entity/Q211503'), ('instance', 'clan'), ('monarchies', '1')]\n",
      "[('i', 'http://www.wikidata.org/entity/Q2221906'), ('instance', 'geographic location'), ('monarchies', '1')]\n",
      "[('i', 'http://www.wikidata.org/entity/Q918240'), ('instance', 'territorial evolution of the British Empire'), ('monarchies', '1')]\n",
      "[('i', 'http://www.wikidata.org/entity/Q29586452'), ('instance', 'location in The Legend of Zelda'), ('monarchies', '1')]\n",
      "[('i', 'http://www.wikidata.org/entity/Q2094158'), ('instance', 'commote'), ('monarchies', '1')]\n",
      "[('i', 'http://www.wikidata.org/entity/Q653007'), ('instance', 'galactic empire'), ('monarchies', '1')]\n",
      "[('i', 'http://www.wikidata.org/entity/Q13406463'), ('instance', 'Wikimedia list article'), ('monarchies', '1')]\n",
      "[('i', 'http://www.wikidata.org/entity/Q15661340'), ('instance', 'ancient city'), ('monarchies', '1')]\n",
      "[('i', 'http://www.wikidata.org/entity/Q17127659'), ('instance', 'terrorist organization'), ('monarchies', '1')]\n",
      "[('i', 'http://www.wikidata.org/entity/Q7695'), ('instance', 'march'), ('monarchies', '1')]\n",
      "[('i', 'http://www.wikidata.org/entity/Q1939894'), ('instance', 'Upper Oka Principalities'), ('monarchies', '1')]\n",
      "[('i', 'http://www.wikidata.org/entity/Q20203507'), ('instance', 'viceroyalty of the Spanish Empire'), ('monarchies', '1')]\n",
      "[('i', 'http://www.wikidata.org/entity/Q1993723'), ('instance', 'administrative territorial entity of the Ottoman Empire'), ('monarchies', '1')]\n",
      "[('i', 'http://www.wikidata.org/entity/Q4057683'), ('instance', 'states of the German Empire'), ('monarchies', '1')]\n",
      "[('i', 'http://www.wikidata.org/entity/Q64364539'), ('instance', 'LGBT place'), ('monarchies', '1')]\n",
      "[('i', 'http://www.wikidata.org/entity/Q817056'), ('instance', 'benedictine abbey'), ('monarchies', '1')]\n",
      "[('i', 'http://www.wikidata.org/entity/Q28864179'), ('instance', 'proposed country'), ('monarchies', '1')]\n",
      "[('i', 'http://www.wikidata.org/entity/Q15239622'), ('instance', 'disputed territory'), ('monarchies', '1')]\n",
      "[('i', 'http://www.wikidata.org/entity/Q44565'), ('instance', 'eyalet'), ('monarchies', '1')]\n",
      "[('i', 'http://www.wikidata.org/entity/Q33837'), ('instance', 'archipelago'), ('monarchies', '1')]\n",
      "[('i', 'http://www.wikidata.org/entity/Q26883974'), ('instance', 'nomadic confederacy'), ('monarchies', '1')]\n",
      "[('i', 'http://www.wikidata.org/entity/Q7188'), ('instance', 'government'), ('monarchies', '1')]\n",
      "[('i', 'http://www.wikidata.org/entity/Q97469558'), ('instance', 'Zamindari estate'), ('monarchies', '1')]\n",
      "[('i', 'http://www.wikidata.org/entity/Q28149269'), ('instance', 'Puro'), ('monarchies', '1')]\n",
      "[('i', 'http://www.wikidata.org/entity/Q617593'), ('instance', 'apanage'), ('monarchies', '1')]\n"
     ]
    },
    {
     "data": {
      "text/plain": [
       "248"
      ]
     },
     "execution_count": 71,
     "metadata": {},
     "output_type": "execute_result"
    }
   ],
   "source": [
    "queryString = \"\"\"\n",
    "SELECT ?i ?instance (COUNT(?m) AS ?monarchies) WHERE { \n",
    "\n",
    "?m (wdt:P31|wdt:P122)/wdt:P279* wd:Q7269;\n",
    "    wdt:P31 ?i.\n",
    "?i <http://schema.org/name> ?instance.\n",
    "} \n",
    "GROUP BY ?i ?instance\n",
    "ORDER BY DESC(?monarchies)\n",
    "\"\"\"\n",
    "\n",
    "print(\"Results\")\n",
    "run_query(queryString)"
   ]
  },
  {
   "cell_type": "markdown",
   "id": "c4cd8807-5ba7-4ad8-91a0-451a81ff07a4",
   "metadata": {},
   "source": [
    "I run the same query grouping by form of government in order to see if there are less different forms of government."
   ]
  },
  {
   "cell_type": "code",
   "execution_count": 72,
   "id": "fd899d33-5cd5-46d4-b75a-5e963eaa1f82",
   "metadata": {},
   "outputs": [
    {
     "name": "stdout",
     "output_type": "stream",
     "text": [
      "Results\n",
      "[('g', 'http://www.wikidata.org/entity/Q7269'), ('gov', 'monarchy'), ('monarchies', '509')]\n",
      "[('g', 'http://www.wikidata.org/entity/Q41614'), ('gov', 'constitutional monarchy'), ('monarchies', '220')]\n",
      "[('g', 'http://www.wikidata.org/entity/Q184558'), ('gov', 'absolute monarchy'), ('monarchies', '216')]\n",
      "[('g', 'http://www.wikidata.org/entity/Q584683'), ('gov', 'elective monarchy'), ('monarchies', '37')]\n",
      "[('g', 'http://www.wikidata.org/entity/Q3330103'), ('gov', 'parliamentary monarchy'), ('monarchies', '37')]\n",
      "[('g', 'http://www.wikidata.org/entity/Q849242'), ('gov', 'hereditary monarchy'), ('monarchies', '33')]\n",
      "[('g', 'http://www.wikidata.org/entity/Q4482688'), ('gov', 'feudal monarchy'), ('monarchies', '28')]\n",
      "[('g', 'http://www.wikidata.org/entity/Q208500'), ('gov', 'principality'), ('monarchies', '24')]\n",
      "[('g', 'http://www.wikidata.org/entity/Q44405'), ('gov', 'theocracy'), ('monarchies', '19')]\n",
      "[('g', 'http://www.wikidata.org/entity/Q3208952'), ('gov', 'federal monarchy'), ('monarchies', '14')]\n",
      "[('g', 'http://www.wikidata.org/entity/Q2994894'), ('gov', 'dual monarchy'), ('monarchies', '11')]\n",
      "[('g', 'http://www.wikidata.org/entity/Q37739'), ('gov', 'feudalism'), ('monarchies', '9')]\n",
      "[('g', 'http://www.wikidata.org/entity/Q188759'), ('gov', 'representative democracy'), ('monarchies', '7')]\n",
      "[('g', 'http://www.wikidata.org/entity/Q179164'), ('gov', 'unitary state'), ('monarchies', '7')]\n",
      "[('g', 'http://www.wikidata.org/entity/Q3043547'), ('gov', 'parliamentary democracy'), ('monarchies', '7')]\n",
      "[('g', 'http://www.wikidata.org/entity/Q188800'), ('gov', 'personal union'), ('monarchies', '6')]\n",
      "[('g', 'http://www.wikidata.org/entity/Q166747'), ('gov', 'parliamentary system'), ('monarchies', '6')]\n",
      "[('g', 'http://www.wikidata.org/entity/Q417175'), ('gov', 'kingdom'), ('monarchies', '6')]\n",
      "[('g', 'http://www.wikidata.org/entity/Q7184037'), ('gov', 'absolutism'), ('monarchies', '5')]\n",
      "[('g', 'http://www.wikidata.org/entity/Q43702'), ('gov', 'federation'), ('monarchies', '5')]\n",
      "[('g', 'http://www.wikidata.org/entity/Q331644'), ('gov', 'Khanate'), ('monarchies', '5')]\n",
      "[('g', 'http://www.wikidata.org/entity/Q4429472'), ('gov', 'monarchie aristocratique'), ('monarchies', '5')]\n",
      "[('g', 'http://www.wikidata.org/entity/Q7270'), ('gov', 'republic'), ('monarchies', '3')]\n",
      "[('g', 'http://www.wikidata.org/entity/Q1411354'), ('gov', 'Prince of the Holy Roman Empire'), ('monarchies', '3')]\n",
      "[('g', 'http://www.wikidata.org/entity/Q3325907'), ('gov', 'polysynodal regime'), ('monarchies', '3')]\n",
      "[('g', 'http://www.wikidata.org/entity/Q15622229'), ('gov', 'patrimonialism'), ('monarchies', '3')]\n",
      "[('g', 'http://www.wikidata.org/entity/Q164142'), ('gov', 'protectorate'), ('monarchies', '3')]\n",
      "[('g', 'http://www.wikidata.org/entity/Q2734662'), ('gov', 'Bourbon Reforms'), ('monarchies', '2')]\n",
      "[('g', 'http://www.wikidata.org/entity/Q173424'), ('gov', 'autocracy'), ('monarchies', '2')]\n",
      "[('g', 'http://www.wikidata.org/entity/Q4445694'), ('gov', 'sultanism'), ('monarchies', '2')]\n",
      "[('g', 'http://www.wikidata.org/entity/Q179352'), ('gov', 'despotism'), ('monarchies', '2')]\n",
      "[('g', 'http://www.wikidata.org/entity/Q79751'), ('gov', 'oligarchy'), ('monarchies', '2')]\n",
      "[('g', 'http://www.wikidata.org/entity/Q69323'), ('gov', 'Kingdom of France'), ('monarchies', '2')]\n",
      "[('g', 'http://www.wikidata.org/entity/Q189898'), ('gov', 'emirate'), ('monarchies', '2')]\n",
      "[('g', 'http://www.wikidata.org/entity/Q3091398'), ('gov', 'asymmetric federalism'), ('monarchies', '2')]\n",
      "[('g', 'http://www.wikidata.org/entity/Q4198907'), ('gov', 'parliamentary republic'), ('monarchies', '2')]\n",
      "[('g', 'http://www.wikidata.org/entity/Q477406'), ('gov', 'regent'), ('monarchies', '1')]\n",
      "[('g', 'http://www.wikidata.org/entity/Q49896'), ('gov', 'military dictatorship'), ('monarchies', '1')]\n",
      "[('g', 'http://www.wikidata.org/entity/Q1275341'), ('gov', 'Fengjian'), ('monarchies', '1')]\n",
      "[('g', 'http://www.wikidata.org/entity/Q317'), ('gov', 'dictatorship'), ('monarchies', '1')]\n",
      "[('g', 'http://www.wikidata.org/entity/Q4204060'), ('gov', 'Islamic state'), ('monarchies', '1')]\n",
      "[('g', 'http://www.wikidata.org/entity/Q128135'), ('gov', 'totalitarianism'), ('monarchies', '1')]\n",
      "[('g', 'http://www.wikidata.org/entity/Q463573'), ('gov', 'suzerainty'), ('monarchies', '1')]\n",
      "[('g', 'http://www.wikidata.org/entity/Q50686'), ('gov', 'single-party state'), ('monarchies', '1')]\n",
      "[('g', 'http://www.wikidata.org/entity/Q223832'), ('gov', 'dominion of the British Empire'), ('monarchies', '1')]\n",
      "[('g', 'http://www.wikidata.org/entity/Q131401'), ('gov', 'caliphate'), ('monarchies', '1')]\n",
      "[('g', 'http://www.wikidata.org/entity/Q4055127'), ('gov', 'Absolute theocratic monarchy'), ('monarchies', '1')]\n",
      "[('g', 'http://www.wikidata.org/entity/Q273665'), ('gov', 'Caesaropapism'), ('monarchies', '1')]\n",
      "[('g', 'http://www.wikidata.org/entity/Q5156764'), ('gov', 'composite monarchy'), ('monarchies', '1')]\n",
      "[('g', 'http://www.wikidata.org/entity/Q133156'), ('gov', 'colony'), ('monarchies', '1')]\n",
      "[('g', 'http://www.wikidata.org/entity/Q173843'), ('gov', 'regency'), ('monarchies', '1')]\n",
      "[('g', 'http://www.wikidata.org/entity/Q708751'), ('gov', 'imperial abbey'), ('monarchies', '1')]\n",
      "[('g', 'http://www.wikidata.org/entity/Q19819982'), ('gov', 'Imamate'), ('monarchies', '1')]\n",
      "[('g', 'http://www.wikidata.org/entity/Q12356456'), ('gov', 'viceroyalty'), ('monarchies', '1')]\n",
      "[('g', 'http://www.wikidata.org/entity/Q1669878'), ('gov', 'Tanistry'), ('monarchies', '1')]\n",
      "[('g', 'http://www.wikidata.org/entity/Q166886'), ('gov', 'duke'), ('monarchies', '1')]\n",
      "[('g', 'http://www.wikidata.org/entity/Q22881'), ('gov', 'Prince-Bishop'), ('monarchies', '1')]\n",
      "[('g', 'http://www.wikidata.org/entity/Q1336152'), ('gov', 'princely state'), ('monarchies', '1')]\n",
      "[('g', 'http://www.wikidata.org/entity/Q3271557'), ('gov', 'Imperial cult'), ('monarchies', '1')]\n",
      "[('g', 'http://www.wikidata.org/entity/Q2596083'), ('gov', 'Serdar'), ('monarchies', '1')]\n",
      "[('g', 'http://www.wikidata.org/entity/Q20105434'), ('gov', 'parliamentary coprincipality'), ('monarchies', '1')]\n",
      "[('g', 'http://www.wikidata.org/entity/Q223266'), ('gov', 'vassal'), ('monarchies', '1')]\n",
      "[('g', 'http://www.wikidata.org/entity/Q15057121'), ('gov', 'Tsarist autocracy'), ('monarchies', '1')]\n"
     ]
    },
    {
     "data": {
      "text/plain": [
       "63"
      ]
     },
     "execution_count": 72,
     "metadata": {},
     "output_type": "execute_result"
    }
   ],
   "source": [
    "queryString = \"\"\"\n",
    "SELECT ?g ?gov (COUNT(?m) AS ?monarchies) WHERE { \n",
    "\n",
    "?m (wdt:P31|wdt:P122)/wdt:P279* wd:Q7269;\n",
    "    wdt:P122 ?g.\n",
    "    \n",
    "?g <http://schema.org/name> ?gov.\n",
    "    \n",
    "} \n",
    "GROUP BY ?g ?gov\n",
    "ORDER BY DESC(?monarchies)\n",
    "\"\"\"\n",
    "\n",
    "print(\"Results\")\n",
    "run_query(queryString)"
   ]
  },
  {
   "cell_type": "markdown",
   "id": "c7b81c8d-29e8-4ea3-a2db-80c042dabff3",
   "metadata": {},
   "source": [
    "I now count how many instance of each monarchy there are for still existing monarchies. Still Existing monarchies are retrieved as shown in section _'Monarchies across continents'_."
   ]
  },
  {
   "cell_type": "code",
   "execution_count": 73,
   "id": "76cacc6f-0530-4d7d-b6ee-54e0c9ea6cf3",
   "metadata": {},
   "outputs": [
    {
     "name": "stdout",
     "output_type": "stream",
     "text": [
      "Results\n",
      "[('instanceOf', 'sovereign state'), ('monarchies', '43')]\n",
      "[('instanceOf', 'country'), ('monarchies', '37')]\n",
      "[('instanceOf', 'duchy'), ('monarchies', '16')]\n",
      "[('instanceOf', 'island nation'), ('monarchies', '15')]\n",
      "[('instanceOf', 'Commonwealth realm'), ('monarchies', '14')]\n",
      "[('instanceOf', 'principality'), ('monarchies', '13')]\n",
      "[('instanceOf', 'micronation'), ('monarchies', '11')]\n",
      "[('instanceOf', 'constitutional monarchy'), ('monarchies', '10')]\n",
      "[('instanceOf', 'kingdom'), ('monarchies', '8')]\n",
      "[('instanceOf', 'emirate of the United Arab Emirates'), ('monarchies', '5')]\n",
      "[('instanceOf', 'state'), ('monarchies', '5')]\n",
      "[('instanceOf', 'ecclesiastical principality'), ('monarchies', '4')]\n",
      "[('instanceOf', 'monarchy'), ('monarchies', '4')]\n",
      "[('instanceOf', 'colonial power'), ('monarchies', '4')]\n",
      "[('instanceOf', 'landlocked country'), ('monarchies', '3')]\n",
      "[('instanceOf', 'dukedom of Spain'), ('monarchies', '3')]\n",
      "[('instanceOf', 'ducado'), ('monarchies', '3')]\n",
      "[('instanceOf', 'diocese of the Catholic Church'), ('monarchies', '3')]\n",
      "[('instanceOf', 'island'), ('monarchies', '2')]\n",
      "[('instanceOf', 'archipelagic state'), ('monarchies', '2')]\n",
      "[('instanceOf', 'realm'), ('monarchies', '2')]\n",
      "[('instanceOf', 'Duchies of Silesia'), ('monarchies', '2')]\n",
      "[('instanceOf', 'autonomous country within the Kingdom of Denmark'), ('monarchies', '2')]\n",
      "[('instanceOf', 'administrative territorial entity'), ('monarchies', '2')]\n",
      "[('instanceOf', 'sultanate'), ('monarchies', '2')]\n",
      "[('instanceOf', 'state of Australia'), ('monarchies', '2')]\n",
      "[('instanceOf', 'territorial evolution of the British Empire'), ('monarchies', '1')]\n",
      "[('instanceOf', 'self-proclaimed state'), ('monarchies', '1')]\n",
      "[('instanceOf', 'enclave'), ('monarchies', '1')]\n",
      "[('instanceOf', 'country bordering the Baltic Sea'), ('monarchies', '1')]\n",
      "[('instanceOf', 'list of Indonesian monarchies'), ('monarchies', '1')]\n",
      "[('instanceOf', 'hermit kingdom'), ('monarchies', '1')]\n",
      "[('instanceOf', 'Crown dependency'), ('monarchies', '1')]\n",
      "[('instanceOf', 'archipelago'), ('monarchies', '1')]\n",
      "[('instanceOf', 'archdiocese'), ('monarchies', '1')]\n",
      "[('instanceOf', 'emirate'), ('monarchies', '1')]\n",
      "[('instanceOf', 'absolute monarchy'), ('monarchies', '1')]\n",
      "[('instanceOf', 'organization'), ('monarchies', '1')]\n",
      "[('instanceOf', 'caliphate'), ('monarchies', '1')]\n",
      "[('instanceOf', 'armed organization'), ('monarchies', '1')]\n",
      "[('instanceOf', 'crown land of the Austrian Empire'), ('monarchies', '1')]\n",
      "[('instanceOf', 'monarchy of Antigua and Barbuda'), ('monarchies', '1')]\n",
      "[('instanceOf', 'nation within the UK'), ('monarchies', '1')]\n",
      "[('instanceOf', 'country of the Kingdom of the Netherlands'), ('monarchies', '1')]\n",
      "[('instanceOf', 'federation'), ('monarchies', '1')]\n",
      "[('instanceOf', 'countship'), ('monarchies', '1')]\n",
      "[('instanceOf', 'self-proclaimed monarchy'), ('monarchies', '1')]\n",
      "[('instanceOf', 'executive branch'), ('monarchies', '1')]\n",
      "[('instanceOf', 'dominion of the British Empire'), ('monarchies', '1')]\n",
      "[('instanceOf', 'suffragan diocese'), ('monarchies', '1')]\n",
      "[('instanceOf', 'member states of the Association of Southeast Asian Nations'), ('monarchies', '1')]\n",
      "[('instanceOf', 'herrschaft'), ('monarchies', '1')]\n",
      "[('instanceOf', 'Ecclesiastical circumscription immediately subject to the Holy See'), ('monarchies', '1')]\n",
      "[('instanceOf', 'noble family'), ('monarchies', '1')]\n",
      "[('instanceOf', 'government'), ('monarchies', '1')]\n",
      "[('instanceOf', 'dependent territory'), ('monarchies', '1')]\n",
      "[('instanceOf', 'offshore construction'), ('monarchies', '1')]\n",
      "[('instanceOf', 'province of Canada'), ('monarchies', '1')]\n",
      "[('instanceOf', 'proposed country'), ('monarchies', '1')]\n",
      "[('instanceOf', 'artificial island'), ('monarchies', '1')]\n",
      "[('instanceOf', 'terrorist organization'), ('monarchies', '1')]\n",
      "[('instanceOf', 'unitary state'), ('monarchies', '1')]\n",
      "[('instanceOf', 'sculpture garden'), ('monarchies', '1')]\n",
      "[('instanceOf', 'historical region'), ('monarchies', '1')]\n",
      "[('instanceOf', 'electoral district'), ('monarchies', '1')]\n",
      "[('instanceOf', 'Zamindar'), ('monarchies', '1')]\n"
     ]
    },
    {
     "data": {
      "text/plain": [
       "66"
      ]
     },
     "execution_count": 73,
     "metadata": {},
     "output_type": "execute_result"
    }
   ],
   "source": [
    "queryString = \"\"\"\n",
    "SELECT ?instanceOf (COUNT(DISTINCT ?m) AS ?monarchies) WHERE { \n",
    "\n",
    "?m (wdt:P31|wdt:P122)/wdt:P279* wd:Q7269;\n",
    "    wdt:P31 ?i;\n",
    "    wdt:P571 ?inception.\n",
    "\n",
    "?i <http://schema.org/name> ?instanceOf.\n",
    "FILTER(datatype(?inception) = xsd:dateTime && !strstarts(str(?inception),'-') && ?inception<NOW())\n",
    "\n",
    "FILTER NOT EXISTS{ ?m wdt:P1366|wdt:P576|wdt:P582 ?o. }\n",
    "\n",
    "} \n",
    "GROUP BY ?instanceOf\n",
    "ORDER BY DESC(?monarchies)\n",
    "\"\"\"\n",
    "\n",
    "print(\"Results\")\n",
    "run_query(queryString)"
   ]
  },
  {
   "cell_type": "markdown",
   "id": "2856ce19-1bab-4fb6-9f4f-1cbf7f38d1ff",
   "metadata": {},
   "source": [
    "And the same for former monarchies."
   ]
  },
  {
   "cell_type": "code",
   "execution_count": 74,
   "id": "67ac55d6-5d57-48d2-912c-8a51af358d67",
   "metadata": {},
   "outputs": [
    {
     "name": "stdout",
     "output_type": "stream",
     "text": [
      "Results\n",
      "[('instanceOf', 'historical country'), ('monarchies', '626')]\n",
      "[('instanceOf', 'principality'), ('monarchies', '155')]\n",
      "[('instanceOf', 'kingdom'), ('monarchies', '132')]\n",
      "[('instanceOf', 'duchy'), ('monarchies', '111')]\n",
      "[('instanceOf', 'state in the Holy Roman Empire'), ('monarchies', '60')]\n",
      "[('instanceOf', 'petty kingdom'), ('monarchies', '47')]\n",
      "[('instanceOf', 'princely state'), ('monarchies', '44')]\n",
      "[('instanceOf', 'realm'), ('monarchies', '42')]\n",
      "[('instanceOf', 'empire'), ('monarchies', '37')]\n",
      "[('instanceOf', 'ecclesiastical principality'), ('monarchies', '37')]\n",
      "[('instanceOf', 'dynasty'), ('monarchies', '34')]\n",
      "[('instanceOf', 'historical period'), ('monarchies', '28')]\n",
      "[('instanceOf', 'sultanate'), ('monarchies', '27')]\n",
      "[('instanceOf', 'vassal state'), ('monarchies', '26')]\n",
      "[('instanceOf', 'state in the Confederation of the Rhine'), ('monarchies', '25')]\n",
      "[('instanceOf', 'crown land of the Austrian Empire'), ('monarchies', '21')]\n",
      "[('instanceOf', 'countship'), ('monarchies', '21')]\n",
      "[('instanceOf', 'Duchies of Silesia'), ('monarchies', '19')]\n",
      "[('instanceOf', 'former administrative territorial entity'), ('monarchies', '16')]\n",
      "[('instanceOf', 'state'), ('monarchies', '15')]\n",
      "[('instanceOf', 'Khanate'), ('monarchies', '14')]\n",
      "[('instanceOf', 'ancient Chinese state'), ('monarchies', '14')]\n",
      "[('instanceOf', 'list of Indonesian monarchies'), ('monarchies', '13')]\n",
      "[('instanceOf', 'historical region'), ('monarchies', '13')]\n",
      "[('instanceOf', 'colony'), ('monarchies', '12')]\n",
      "[('instanceOf', 'grand duchy'), ('monarchies', '11')]\n",
      "[('instanceOf', 'historical Chinese state'), ('monarchies', '11')]\n",
      "[('instanceOf', 'emirate'), ('monarchies', '10')]\n",
      "[('instanceOf', 'client state'), ('monarchies', '10')]\n",
      "[('instanceOf', 'Chinese dynasty'), ('monarchies', '10')]\n",
      "[('instanceOf', 'taifa'), ('monarchies', '9')]\n",
      "[('instanceOf', 'protectorate'), ('monarchies', '9')]\n",
      "[('instanceOf', 'culture'), ('monarchies', '8')]\n",
      "[('instanceOf', 'Electoral Principate'), ('monarchies', '8')]\n",
      "[('instanceOf', 'historical territory'), ('monarchies', '8')]\n",
      "[('instanceOf', 'Napoleonic client state'), ('monarchies', '7')]\n",
      "[('instanceOf', 'crown colony'), ('monarchies', '7')]\n",
      "[('instanceOf', 'monarchy'), ('monarchies', '7')]\n",
      "[('instanceOf', 'part principality'), ('monarchies', '6')]\n",
      "[('instanceOf', 'barbarian kingdoms'), ('monarchies', '6')]\n",
      "[('instanceOf', 'personal union'), ('monarchies', '6')]\n",
      "[('instanceOf', 'historical unrecognized state'), ('monarchies', '6')]\n",
      "[('instanceOf', 'Hochstift'), ('monarchies', '6')]\n",
      "[('instanceOf', 'administrative territorial entity'), ('monarchies', '6')]\n",
      "[('instanceOf', 'style'), ('monarchies', '6')]\n",
      "[('instanceOf', 'Crusader states'), ('monarchies', '5')]\n",
      "[('instanceOf', 'landgraviate'), ('monarchies', '5')]\n",
      "[('instanceOf', 'aspect of history'), ('monarchies', '5')]\n",
      "[('instanceOf', 'regency'), ('monarchies', '5')]\n",
      "[('instanceOf', 'former Roman Catholic diocese'), ('monarchies', '5')]\n",
      "[('instanceOf', 'Pflegamt'), ('monarchies', '5')]\n",
      "[('instanceOf', 'dominion of the British Empire'), ('monarchies', '4')]\n",
      "[('instanceOf', 'country'), ('monarchies', '4')]\n",
      "[('instanceOf', 'human settlement'), ('monarchies', '4')]\n",
      "[('instanceOf', 'geographic region'), ('monarchies', '4')]\n",
      "[('instanceOf', 'confederation'), ('monarchies', '3')]\n",
      "[('instanceOf', 'periodization'), ('monarchies', '3')]\n",
      "[('instanceOf', 'county'), ('monarchies', '3')]\n",
      "[('instanceOf', 'ancient civilization'), ('monarchies', '3')]\n",
      "[('instanceOf', 'Vassal and tributary states of the Ottoman Empire'), ('monarchies', '3')]\n",
      "[('instanceOf', 'the empire on which the sun never sets'), ('monarchies', '3')]\n",
      "[('instanceOf', 'Captaincies of the Spanish Empire'), ('monarchies', '3')]\n",
      "[('instanceOf', 'marquisate'), ('monarchies', '3')]\n",
      "[('instanceOf', 'Mahajanapada'), ('monarchies', '3')]\n",
      "[('instanceOf', 'transcontinental country'), ('monarchies', '3')]\n",
      "[('instanceOf', 'diocese of the Catholic Church'), ('monarchies', '3')]\n",
      "[('instanceOf', 'Twelve Vassals'), ('monarchies', '3')]\n",
      "[('instanceOf', 'province'), ('monarchies', '3')]\n",
      "[('instanceOf', 'noble title'), ('monarchies', '2')]\n",
      "[('instanceOf', 'regime'), ('monarchies', '2')]\n",
      "[('instanceOf', 'self-governing colony of the British Empire'), ('monarchies', '2')]\n",
      "[('instanceOf', 'stem duchy'), ('monarchies', '2')]\n",
      "[('instanceOf', 'beylik'), ('monarchies', '2')]\n",
      "[('instanceOf', 'micronation'), ('monarchies', '2')]\n",
      "[('instanceOf', 'polity'), ('monarchies', '2')]\n",
      "[('instanceOf', 'rump state'), ('monarchies', '2')]\n",
      "[('instanceOf', 'maritime republic'), ('monarchies', '2')]\n",
      "[('instanceOf', 'noble family'), ('monarchies', '2')]\n",
      "[('instanceOf', 'feudal monarchy'), ('monarchies', '2')]\n",
      "[('instanceOf', 'people'), ('monarchies', '2')]\n",
      "[('instanceOf', 'fiefdom'), ('monarchies', '2')]\n",
      "[('instanceOf', 'dependent territory'), ('monarchies', '2')]\n",
      "[('instanceOf', 'Gothic kingdom'), ('monarchies', '2')]\n",
      "[('instanceOf', 'tributary state'), ('monarchies', '2')]\n",
      "[('instanceOf', 'triumvirate'), ('monarchies', '2')]\n",
      "[('instanceOf', 'British protectorate'), ('monarchies', '2')]\n",
      "[('instanceOf', 'diocese'), ('monarchies', '2')]\n",
      "[('instanceOf', 'Signoria'), ('monarchies', '2')]\n",
      "[('instanceOf', 'political territorial entity'), ('monarchies', '2')]\n",
      "[('instanceOf', 'family'), ('monarchies', '2')]\n",
      "[('instanceOf', 'shogunate'), ('monarchies', '2')]\n",
      "[('instanceOf', 'nomadic empire'), ('monarchies', '2')]\n",
      "[('instanceOf', 'Restoration'), ('monarchies', '1')]\n",
      "[('instanceOf', 'federated state'), ('monarchies', '1')]\n",
      "[('instanceOf', 'comté (France)'), ('monarchies', '1')]\n",
      "[('instanceOf', 'territory'), ('monarchies', '1')]\n",
      "[('instanceOf', 'nomadic confederacy'), ('monarchies', '1')]\n",
      "[('instanceOf', 'LGBT place'), ('monarchies', '1')]\n",
      "[('instanceOf', 'altepetl'), ('monarchies', '1')]\n",
      "[('instanceOf', 'imperial abbey'), ('monarchies', '1')]\n",
      "[('instanceOf', 'benedictine abbey'), ('monarchies', '1')]\n",
      "[('instanceOf', 'commote'), ('monarchies', '1')]\n",
      "[('instanceOf', 'Saeristavo'), ('monarchies', '1')]\n",
      "[('instanceOf', 'states of the German Empire'), ('monarchies', '1')]\n",
      "[('instanceOf', 'Persian Empire'), ('monarchies', '1')]\n",
      "[('instanceOf', 'Ernestine duchies'), ('monarchies', '1')]\n",
      "[('instanceOf', 'archaeological site'), ('monarchies', '1')]\n",
      "[('instanceOf', 'condominium'), ('monarchies', '1')]\n",
      "[('instanceOf', 'Khaganate'), ('monarchies', '1')]\n",
      "[('instanceOf', 'archaeological culture'), ('monarchies', '1')]\n",
      "[('instanceOf', 'human'), ('monarchies', '1')]\n",
      "[('instanceOf', 'archdiocese'), ('monarchies', '1')]\n",
      "[('instanceOf', 'occupied territory'), ('monarchies', '1')]\n",
      "[('instanceOf', 'administrative territorial entity of the Ottoman Empire'), ('monarchies', '1')]\n",
      "[('instanceOf', 'march'), ('monarchies', '1')]\n",
      "[('instanceOf', 'historical administrative division'), ('monarchies', '1')]\n",
      "[('instanceOf', 'Janapada'), ('monarchies', '1')]\n",
      "[('instanceOf', 'big city'), ('monarchies', '1')]\n",
      "[('instanceOf', 'Sheikhdom'), ('monarchies', '1')]\n",
      "[('instanceOf', 'Modern Saudi State'), ('monarchies', '1')]\n",
      "[('instanceOf', 'absolute monarchy'), ('monarchies', '1')]\n",
      "[('instanceOf', 'caliphate'), ('monarchies', '1')]\n",
      "[('instanceOf', 'Swabian Circle'), ('monarchies', '1')]\n",
      "[('instanceOf', 'provinces of Prussia'), ('monarchies', '1')]\n",
      "[('instanceOf', 'oligarchy'), ('monarchies', '1')]\n",
      "[('instanceOf', 'former county'), ('monarchies', '1')]\n",
      "[('instanceOf', 'island nation'), ('monarchies', '1')]\n",
      "[('instanceOf', 'myth'), ('monarchies', '1')]\n",
      "[('instanceOf', 'Upper Oka Principalities'), ('monarchies', '1')]\n",
      "[('instanceOf', 'country of the Kingdom of the Netherlands'), ('monarchies', '1')]\n",
      "[('instanceOf', 'federation'), ('monarchies', '1')]\n",
      "[('instanceOf', 'political geography'), ('monarchies', '1')]\n",
      "[('instanceOf', 'external territory of Australia'), ('monarchies', '1')]\n",
      "[('instanceOf', 'historical province of France'), ('monarchies', '1')]\n",
      "[('instanceOf', 'territorial claim'), ('monarchies', '1')]\n",
      "[('instanceOf', 'geographic location'), ('monarchies', '1')]\n",
      "[('instanceOf', 'province of the Spanish Empire'), ('monarchies', '1')]\n",
      "[('instanceOf', 'apanage'), ('monarchies', '1')]\n",
      "[('instanceOf', 'puppet state'), ('monarchies', '1')]\n",
      "[('instanceOf', 'name of Vietnam'), ('monarchies', '1')]\n",
      "[('instanceOf', 'League of Nations mandate'), ('monarchies', '1')]\n",
      "[('instanceOf', 'Erzstift'), ('monarchies', '1')]\n",
      "[('instanceOf', 'era'), ('monarchies', '1')]\n",
      "[('instanceOf', 'conquest dynasty'), ('monarchies', '1')]\n",
      "[('instanceOf', 'abbey-principality'), ('monarchies', '1')]\n",
      "[('instanceOf', 'sovereign state'), ('monarchies', '1')]\n",
      "[('instanceOf', 'manorialism'), ('monarchies', '1')]\n",
      "[('instanceOf', 'disputed territory'), ('monarchies', '1')]\n",
      "[('instanceOf', 'colonial empire'), ('monarchies', '1')]\n",
      "[('instanceOf', 'princely estate of the British Raj'), ('monarchies', '1')]\n",
      "[('instanceOf', 'satrapy'), ('monarchies', '1')]\n",
      "[('instanceOf', 'satrapy of the Achaemenid Empire'), ('monarchies', '1')]\n",
      "[('instanceOf', 'archbishop'), ('monarchies', '1')]\n",
      "[('instanceOf', 'eyalet'), ('monarchies', '1')]\n",
      "[('instanceOf', 'royal house'), ('monarchies', '1')]\n",
      "[('instanceOf', 'tribe'), ('monarchies', '1')]\n",
      "[('instanceOf', 'Bistum forest'), ('monarchies', '1')]\n",
      "[('instanceOf', 'abbey'), ('monarchies', '1')]\n",
      "[('instanceOf', 'Modellstaat'), ('monarchies', '1')]\n",
      "[('instanceOf', 'isolated human group'), ('monarchies', '1')]\n",
      "[('instanceOf', 'cultural region'), ('monarchies', '1')]\n",
      "[('instanceOf', 'frontier'), ('monarchies', '1')]\n",
      "[('instanceOf', 'state with limited recognition'), ('monarchies', '1')]\n",
      "[('instanceOf', 'city-state'), ('monarchies', '1')]\n",
      "[('instanceOf', 'constitutional monarchy'), ('monarchies', '1')]\n",
      "[('instanceOf', 'viceroyalty'), ('monarchies', '1')]\n",
      "[('instanceOf', 'viceroyalty of the Spanish Empire'), ('monarchies', '1')]\n",
      "[('instanceOf', 'composite monarchy'), ('monarchies', '1')]\n"
     ]
    },
    {
     "data": {
      "text/plain": [
       "168"
      ]
     },
     "execution_count": 74,
     "metadata": {},
     "output_type": "execute_result"
    }
   ],
   "source": [
    "queryString = \"\"\"\n",
    "SELECT ?instanceOf (COUNT(DISTINCT ?m) AS ?monarchies) WHERE { \n",
    "\n",
    "?m (wdt:P31|wdt:P122)/wdt:P279* wd:Q7269;\n",
    "    wdt:P31 ?i.\n",
    "\n",
    "?i <http://schema.org/name> ?instanceOf.\n",
    "\n",
    "FILTER EXISTS{ ?m wdt:P1366|wdt:P576|wdt:P582 ?o. }\n",
    "\n",
    "} \n",
    "GROUP BY ?instanceOf\n",
    "ORDER BY DESC(?monarchies)\n",
    "\"\"\"\n",
    "\n",
    "print(\"Results\")\n",
    "run_query(queryString)"
   ]
  },
  {
   "cell_type": "markdown",
   "id": "6285397c-aaaa-43af-85e7-1f2a459d82b2",
   "metadata": {
    "tags": []
   },
   "source": [
    "#### Capital of multiple kingdoms"
   ]
  },
  {
   "cell_type": "markdown",
   "id": "42872a50-1f31-4590-880f-1634799e0083",
   "metadata": {},
   "source": [
    "I recall property wdt:P36 retrieve the capital of each country. First I run a query to count the number of kingdoms a city is capital of."
   ]
  },
  {
   "cell_type": "code",
   "execution_count": 75,
   "id": "6cf160cc-11ee-46f7-8cc6-be837a582fdd",
   "metadata": {},
   "outputs": [
    {
     "name": "stdout",
     "output_type": "stream",
     "text": [
      "Results\n",
      "[('capital', 'London'), ('monarchies', '8')]\n",
      "[('capital', 'Kutaisi'), ('monarchies', '7')]\n",
      "[('capital', 'Madrid'), ('monarchies', '7')]\n",
      "[('capital', 'Rio de Janeiro'), ('monarchies', '7')]\n",
      "[('capital', 'Vienna'), ('monarchies', '6')]\n",
      "[('capital', 'Paris'), ('monarchies', '6')]\n",
      "[('capital', 'Cairo'), ('monarchies', '6')]\n",
      "[('capital', 'Prague'), ('monarchies', '5')]\n",
      "[('capital', 'Belgrade'), ('monarchies', '5')]\n",
      "[('capital', 'Riyadh'), ('monarchies', '5')]\n",
      "[('capital', 'Berlin'), ('monarchies', '5')]\n",
      "[('capital', 'Bago'), ('monarchies', '4')]\n",
      "[('capital', 'Naples'), ('monarchies', '4')]\n",
      "[('capital', 'Vilnius'), ('monarchies', '4')]\n",
      "[('capital', 'Palermo'), ('monarchies', '4')]\n",
      "[('capital', 'Kraków'), ('monarchies', '4')]\n",
      "[('capital', 'Turin'), ('monarchies', '4')]\n",
      "[('capital', 'Rome'), ('monarchies', '4')]\n",
      "[('capital', 'Florence'), ('monarchies', '4')]\n",
      "[('capital', 'Tbilisi'), ('monarchies', '4')]\n",
      "[('capital', 'Lahore'), ('monarchies', '4')]\n",
      "[('capital', 'Copenhagen'), ('monarchies', '4')]\n",
      "[('capital', 'Pavia'), ('monarchies', '3')]\n",
      "[('capital', 'Baghdad'), ('monarchies', '3')]\n",
      "[('capital', 'Stockholm'), ('monarchies', '3')]\n",
      "[('capital', 'Dresden'), ('monarchies', '3')]\n",
      "[('capital', 'Tabriz'), ('monarchies', '3')]\n",
      "[('capital', 'Brunswick'), ('monarchies', '3')]\n",
      "[('capital', 'Valladolid'), ('monarchies', '3')]\n",
      "[('capital', 'Bukhara'), ('monarchies', '3')]\n",
      "[('capital', 'Budapest'), ('monarchies', '3')]\n",
      "[('capital', 'Königsberg'), ('monarchies', '3')]\n",
      "[('capital', 'Tirana'), ('monarchies', '3')]\n",
      "[('capital', 'Moscow'), ('monarchies', '3')]\n",
      "[('capital', 'Hyderabad'), ('monarchies', '3')]\n",
      "[('capital', 'Gotha'), ('monarchies', '3')]\n",
      "[('capital', 'Cetinje'), ('monarchies', '3')]\n",
      "[('capital', 'Jerusalem'), ('monarchies', '3')]\n",
      "[('capital', 'Cape Town'), ('monarchies', '3')]\n",
      "[('capital', 'Stari Ras'), ('monarchies', '3')]\n",
      "[('capital', 'Luxembourg'), ('monarchies', '3')]\n",
      "[('capital', 'Riga'), ('monarchies', '3')]\n",
      "[('capital', 'Isfahan'), ('monarchies', '3')]\n",
      "[('capital', 'Toledo'), ('monarchies', '3')]\n",
      "[('capital', 'Kassel'), ('monarchies', '3')]\n",
      "[('capital', 'Ravenna'), ('monarchies', '3')]\n",
      "[('capital', \"Chang'an\"), ('monarchies', '3')]\n",
      "[('capital', 'Damascus'), ('monarchies', '3')]\n",
      "[('capital', 'Babylon'), ('monarchies', '3')]\n",
      "[('capital', 'Mexico City'), ('monarchies', '3')]\n",
      "[('capital', 'Stuttgart'), ('monarchies', '3')]\n",
      "[('capital', 'Buda'), ('monarchies', '3')]\n",
      "[('capital', 'Herat'), ('monarchies', '3')]\n",
      "[('capital', 'Vientiane'), ('monarchies', '3')]\n",
      "[('capital', 'Constantinople'), ('monarchies', '3')]\n",
      "[('capital', 'Milan'), ('monarchies', '3')]\n",
      "[('capital', 'Kashgar City'), ('monarchies', '3')]\n",
      "[('capital', 'Düsseldorf'), ('monarchies', '3')]\n",
      "[('capital', 'Delhi'), ('monarchies', '3')]\n",
      "[('capital', 'Hanover'), ('monarchies', '3')]\n",
      "[('capital', 'Amsterdam'), ('monarchies', '3')]\n",
      "[('capital', 'Kuala Lumpur'), ('monarchies', '3')]\n",
      "[('capital', 'Bucharest'), ('monarchies', '3')]\n",
      "[('capital', 'Muscat'), ('monarchies', '3')]\n",
      "[('capital', 'Kabul'), ('monarchies', '3')]\n",
      "[('capital', 'Zagreb'), ('monarchies', '3')]\n",
      "[('capital', 'Warsaw'), ('monarchies', '3')]\n",
      "[('capital', 'Harare'), ('monarchies', '3')]\n",
      "[('capital', 'City of Brussels'), ('monarchies', '3')]\n",
      "[('capital', 'Karlsruhe'), ('monarchies', '3')]\n",
      "[('capital', 'Tehran'), ('monarchies', '3')]\n",
      "[('capital', 'Benghazi'), ('monarchies', '2')]\n",
      "[('capital', 'Sinop'), ('monarchies', '2')]\n",
      "[('capital', 'Thessaloniki'), ('monarchies', '2')]\n",
      "[('capital', 'Detmold'), ('monarchies', '2')]\n",
      "[('capital', 'Magdeburg'), ('monarchies', '2')]\n",
      "[('capital', 'Kyoto'), ('monarchies', '2')]\n",
      "[('capital', 'Pretoria'), ('monarchies', '2')]\n",
      "[('capital', 'Halych'), ('monarchies', '2')]\n",
      "[('capital', 'Konya'), ('monarchies', '2')]\n",
      "[('capital', 'Aachen'), ('monarchies', '2')]\n",
      "[('capital', 'Bridgetown'), ('monarchies', '2')]\n",
      "[('capital', 'Luang Prabang'), ('monarchies', '2')]\n",
      "[('capital', 'Thanjavur'), ('monarchies', '2')]\n",
      "[('capital', 'Weimar'), ('monarchies', '2')]\n",
      "[('capital', 'Melfi'), ('monarchies', '2')]\n",
      "[('capital', 'Montreal'), ('monarchies', '2')]\n",
      "[('capital', 'Phnom Penh'), ('monarchies', '2')]\n",
      "[('capital', 'Saint Petersburg'), ('monarchies', '2')]\n",
      "[('capital', 'Kyiv'), ('monarchies', '2')]\n",
      "[('capital', 'Diriyah'), ('monarchies', '2')]\n",
      "[('capital', 'Lisbon'), ('monarchies', '2')]\n",
      "[('capital', 'Samarkand'), ('monarchies', '2')]\n",
      "[('capital', 'Ctesiphon'), ('monarchies', '2')]\n",
      "[('capital', 'Tiaret'), ('monarchies', '2')]\n",
      "[('capital', 'Ecbatana'), ('monarchies', '2')]\n",
      "[('capital', 'Regensburg'), ('monarchies', '2')]\n",
      "[('capital', 'Salvador'), ('monarchies', '2')]\n",
      "[('capital', 'Frankfurt am Main'), ('monarchies', '2')]\n",
      "[('capital', 'Edessa'), ('monarchies', '2')]\n",
      "[('capital', 'Taungoo'), ('monarchies', '2')]\n",
      "[('capital', 'Bangkok'), ('monarchies', '2')]\n",
      "[('capital', 'Helsinki'), ('monarchies', '2')]\n",
      "[('capital', 'Eutin'), ('monarchies', '2')]\n",
      "[('capital', 'Burgos'), ('monarchies', '2')]\n",
      "[('capital', 'Cap-Haïtien'), ('monarchies', '2')]\n",
      "[('capital', 'Zeila'), ('monarchies', '2')]\n",
      "[('capital', 'Lviv'), ('monarchies', '2')]\n",
      "[('capital', 'Turquoise Mountain'), ('monarchies', '2')]\n",
      "[('capital', 'Golkonda'), ('monarchies', '2')]\n",
      "[('capital', 'Aleppo'), ('monarchies', '2')]\n",
      "[('capital', 'Honiara'), ('monarchies', '2')]\n",
      "[('capital', 'Bolgar'), ('monarchies', '2')]\n",
      "[('capital', 'Abu Dhabi'), ('monarchies', '2')]\n",
      "[('capital', 'Sofia'), ('monarchies', '2')]\n",
      "[('capital', 'Salerno'), ('monarchies', '2')]\n",
      "[('capital', 'Zadar'), ('monarchies', '2')]\n",
      "[('capital', 'Pyongyang'), ('monarchies', '2')]\n",
      "[('capital', 'Carthage'), ('monarchies', '2')]\n",
      "[('capital', 'Worms'), ('monarchies', '2')]\n",
      "[('capital', 'Susa'), ('monarchies', '2')]\n",
      "[('capital', 'Wellington'), ('monarchies', '2')]\n",
      "[('capital', 'Tokyo'), ('monarchies', '2')]\n",
      "[('capital', 'Biograd na Moru'), ('monarchies', '2')]\n",
      "[('capital', 'Dublin'), ('monarchies', '2')]\n",
      "[('capital', 'Boston'), ('monarchies', '2')]\n",
      "[('capital', 'Bloemfontein'), ('monarchies', '2')]\n",
      "[('capital', 'Winchester'), ('monarchies', '2')]\n",
      "[('capital', 'Brandenburg an der Havel'), ('monarchies', '2')]\n",
      "[('capital', 'Ray'), ('monarchies', '2')]\n",
      "[('capital', 'Ljubljana'), ('monarchies', '2')]\n",
      "[('capital', 'Gniezno'), ('monarchies', '2')]\n",
      "[('capital', 'Luoyang'), ('monarchies', '2')]\n",
      "[('capital', 'Tunis'), ('monarchies', '2')]\n",
      "[('capital', 'Port-au-Prince'), ('monarchies', '2')]\n",
      "[('capital', 'Munich'), ('monarchies', '2')]\n",
      "[('capital', 'Darmstadt'), ('monarchies', '2')]\n",
      "[('capital', 'Athens'), ('monarchies', '2')]\n",
      "[('capital', 'Manama'), ('monarchies', '2')]\n",
      "[('capital', 'Wrocław'), ('monarchies', '2')]\n",
      "[('capital', 'Skopje'), ('monarchies', '2')]\n",
      "[('capital', 'Opava'), ('monarchies', '2')]\n",
      "[('capital', 'Marrakesh'), ('monarchies', '2')]\n",
      "[('capital', 'Karakorum'), ('monarchies', '2')]\n",
      "[('capital', 'Takam'), ('monarchies', '2')]\n",
      "[('capital', 'Alba Iulia'), ('monarchies', '2')]\n",
      "[('capital', 'Seville'), ('monarchies', '2')]\n",
      "[('capital', 'Basseterre'), ('monarchies', '2')]\n",
      "[('capital', \"Saint John's\"), ('monarchies', '2')]\n",
      "[('capital', 'Xianyang'), ('monarchies', '2')]\n",
      "[('capital', 'Cologne'), ('monarchies', '2')]\n",
      "[('capital', 'Barda'), ('monarchies', '2')]\n",
      "[('capital', 'Parma'), ('monarchies', '2')]\n",
      "[('capital', 'Coimbra'), ('monarchies', '2')]\n",
      "[('capital', \"St. George's\"), ('monarchies', '2')]\n",
      "[('capital', 'Trento'), ('monarchies', '2')]\n",
      "[('capital', 'Khanbaliq'), ('monarchies', '2')]\n",
      "[('capital', 'Seleucia'), ('monarchies', '2')]\n",
      "[('capital', 'Lhasa'), ('monarchies', '2')]\n",
      "[('capital', 'Oslo'), ('monarchies', '2')]\n",
      "[('capital', 'Lucca'), ('monarchies', '2')]\n",
      "[('capital', 'Dessau'), ('monarchies', '2')]\n",
      "[('capital', 'Nicaea'), ('monarchies', '2')]\n",
      "[('capital', 'Lutherstadt Wittenberg'), ('monarchies', '2')]\n",
      "[('capital', 'Krujë'), ('monarchies', '2')]\n",
      "[('capital', 'Zaslaŭje'), ('monarchies', '2')]\n",
      "[('capital', 'Metz'), ('monarchies', '2')]\n",
      "[('capital', 'Mahdia'), ('monarchies', '2')]\n",
      "[('capital', 'Valletta'), ('monarchies', '2')]\n",
      "[('capital', 'Opole'), ('monarchies', '2')]\n",
      "[('capital', 'Pataliputra'), ('monarchies', '2')]\n"
     ]
    },
    {
     "data": {
      "text/plain": [
       "171"
      ]
     },
     "execution_count": 75,
     "metadata": {},
     "output_type": "execute_result"
    }
   ],
   "source": [
    "queryString = \"\"\"\n",
    "SELECT ?capital (COUNT(DISTINCT ?m) AS ?monarchies) WHERE \n",
    "{ \n",
    "?m (wdt:P31|wdt:P122)/wdt:P279* wd:Q7269;\n",
    "    wdt:P36 ?c. \n",
    "?c <http://schema.org/name> ?capital.\n",
    "\n",
    "} \n",
    "GROUP BY ?capital\n",
    "HAVING(COUNT(DISTINCT ?m)>1)\n",
    "ORDER BY DESC(?monarchies)\n",
    "\n",
    "\"\"\"\n",
    "\n",
    "print(\"Results\")\n",
    "run_query(queryString)"
   ]
  },
  {
   "cell_type": "markdown",
   "id": "7eeae0cb-54d8-4a81-8f82-1204b0f84e39",
   "metadata": {},
   "source": [
    "I list for each city all kingdoms it has been capital of."
   ]
  },
  {
   "cell_type": "code",
   "execution_count": 76,
   "id": "ea1d9490-9eac-4a60-bf1a-c91b6e249e36",
   "metadata": {},
   "outputs": [
    {
     "name": "stdout",
     "output_type": "stream",
     "text": [
      "Results\n",
      "[('capital', 'London'), ('monarchies', 'British Empire, England, Great Britain, Kingdom of England, Kingdom of Essex, Kingdom of Wessex, United Kingdom, United Kingdom of Great Britain and Ireland')]\n",
      "[('capital', 'Madrid'), ('monarchies', 'Crown of Castile, Francoist Spain, Habsburg Spain, Kingdom of Spain, Kingdom of Spain under Joseph Bonaparte, Spain, Spanish Empire')]\n",
      "[('capital', 'Rio de Janeiro'), ('monarchies', 'Colonial Brazil, Empire of Brazil, Kingdom of Brazil, Kingdom of Portugal, Portuguese Empire, State of Brazil, United Kingdom of Portugal, Brazil and the Algarves')]\n",
      "[('capital', 'Vienna'), ('monarchies', 'Archduchy of Austria, Austria-Hungary, Austrian Empire, Duchy of Austria, Habsburg Monarchy, Holy Roman Empire')]\n",
      "[('capital', 'Paris'), ('monarchies', 'Bourbon Restoration, July Monarchy, Kingdom of France, Second French Empire, West Francia')]\n",
      "[('capital', 'Cairo'), ('monarchies', 'Ayyubid dynasty, Egypt Eyalet, Khedivate of Egypt, Kingdom of Egypt, Mamluk Sultanate, Sultanate of Egypt')]\n",
      "[('capital', 'Belgrade'), ('monarchies', 'Kingdom of Serbia, Kingdom of Serbs, Croats and Slovenes, Kingdom of Yugoslavia, Realm of Stefan Dragutin, Yugoslavia')]\n",
      "[('capital', 'Riyadh'), ('monarchies', 'Emirate of Nejd and Hasa, Kingdom of Nejd and Hejaz, Modern Saudi State, Saudi Arabia, Sultanate of Nejd')]\n",
      "[('capital', 'Berlin'), ('monarchies', 'Brandenburg-Prussia, German Empire, Kingdom of Prussia, Margraviate of Brandenburg, Prussia')]\n",
      "[('capital', 'Bago'), ('monarchies', 'First Toungoo Empire, Hanthawaddy Kingdom, Restored Hanthawaddy Kingdom, Taungoo Dynasty')]\n",
      "[('capital', 'Naples'), ('monarchies', 'Kingdom of Naples, Kingdom of Sicily, Kingdom of the Two Sicilies')]\n",
      "[('capital', 'Vilnius'), ('monarchies', 'Grand Duchy of Lithuania, Kingdom of Lithuania, Polish–Lithuanian Commonwealth, Principality of Vilnius')]\n",
      "[('capital', 'Kutaisi'), ('monarchies', 'Colchis, Kingdom of Abkhazia, Kingdom of Georgia, Kingdom of Imereti')]\n",
      "[('capital', 'Palermo'), ('monarchies', 'County of Sicily, Emirate of Sicily, Kingdom of Sicily')]\n",
      "[('capital', 'Kraków'), ('monarchies', 'Duchy of Poland, Kingdom of Poland, Polish–Lithuanian Commonwealth, United Kingdom of Poland')]\n",
      "[('capital', 'Turin'), ('monarchies', 'Duchy of Savoy, Duke of Turin, Kingdom of Italy, Kingdom of Sardinia')]\n",
      "[('capital', 'Rome'), ('monarchies', 'Kingdom of Italy, Papal States, Roman Empire, Roman Kingdom')]\n",
      "[('capital', 'Prague'), ('monarchies', 'Duchy of Bohemia, Holy Roman Empire, Kingdom of Bohemia, Lands of the Bohemian Crown')]\n",
      "[('capital', 'Florence'), ('monarchies', 'Duchy of Florence, Grand Duchy of Tuscany, Kingdom of Etruria, Kingdom of Italy')]\n",
      "[('capital', 'Tbilisi'), ('monarchies', 'Kingdom of Georgia, Kingdom of Kartli, Kingdom of Kartli-Kakheti, Principate of Iberia')]\n",
      "[('capital', 'Lahore'), ('monarchies', 'Delhi Sultanate, Ghurid Empire, Mughal Empire, Sikh Empire')]\n",
      "[('capital', 'Copenhagen'), ('monarchies', 'Danish Realm, Denmark, Denmark-Norway, Kalmar Union')]\n",
      "[('capital', 'Pavia'), ('monarchies', 'Kingdom of the Lombards, Ostrogothic Kingdom, Principality of Pavia')]\n",
      "[('capital', 'Baghdad'), ('monarchies', 'Ag Qoyunlu Tribe, Buyid dynasty, Kingdom of Iraq')]\n",
      "[('capital', 'Stockholm'), ('monarchies', 'Sweden, Swedish overseas colonies, Union between Sweden and Norway')]\n",
      "[('capital', 'Dresden'), ('monarchies', 'Electorate of Saxony, Kingdom of Saxony, Margraviate of Meissen')]\n",
      "[('capital', 'Tabriz'), ('monarchies', 'Ag Qoyunlu Tribe, Ilkhanate, Safavid Empire')]\n",
      "[('capital', 'Brunswick'), ('monarchies', 'Duchy of Brunswick, Duchy of Brunswick-Lüneburg, Principality of Brunswick-Wolfenbüttel')]\n",
      "[('capital', 'Valladolid'), ('monarchies', 'Crown of Castile, Habsburg Spain, Spanish Empire')]\n",
      "[('capital', 'Bukhara'), ('monarchies', 'Emirate of Bukhara, Khanate of Bukhara, Samanid Empire')]\n",
      "[('capital', 'Budapest'), ('monarchies', 'Austria-Hungary, Kingdom of Hungary')]\n",
      "[('capital', 'Königsberg'), ('monarchies', 'Brandenburg-Prussia, Duchy of Prussia, Prussia')]\n",
      "[('capital', 'Tirana'), ('monarchies', 'Albanian Kingdom, Kingdom of Albania')]\n",
      "[('capital', 'Moscow'), ('monarchies', 'Duchy of Moscow, Grand Duchy of Moscow, Tsardom of Russia')]\n",
      "[('capital', 'Hyderabad'), ('monarchies', 'Golconda Sultanate, Hyderabad State, Qutb Shahi dynasty')]\n",
      "[('capital', 'Gotha'), ('monarchies', 'Duchy Saxony-Gotha, Saxe-Gotha, duchy of Saxe-Coburg and Gotha')]\n",
      "[('capital', 'Cetinje'), ('monarchies', 'Governorate of Montenegro, Kingdom of Montenegro, Principality of Montenegro')]\n",
      "[('capital', 'Jerusalem'), ('monarchies', 'Judah, Kingdom of Israel, Kingdom of Jerusalem')]\n",
      "[('capital', 'Cape Town'), ('monarchies', 'British Cape Colony, Cape Colony, Union of South Africa')]\n",
      "[('capital', 'Stari Ras'), ('monarchies', 'Kingdom of Serbia, Principality of Serbia (early medieval), Serbian Grand Principality')]\n",
      "[('capital', 'Luxembourg'), ('monarchies', 'County of Luxembourg, Duchy of Luxembourg, Luxembourg')]\n",
      "[('capital', 'Riga'), ('monarchies', 'Archbishop of Riga, Duchy of Courland and Semigallia, United Baltic Duchy')]\n",
      "[('capital', 'Isfahan'), ('monarchies', 'Kakuyids, Safavid Empire, Seljuk Empire')]\n",
      "[('capital', 'Toledo'), ('monarchies', 'Kingdom of Toledo, Spanish Empire, Taifa of Toledo')]\n",
      "[('capital', 'Kassel'), ('monarchies', 'Electorate of Hesse, Kingdom of Westphalia, Landgraviate of Hesse-Kassel')]\n",
      "[('capital', 'Ravenna'), ('monarchies', 'Kingdom of Italy, Ostrogothic Kingdom, Western Roman Empire (395-476 AD)')]\n",
      "[('capital', \"Chang'an\"), ('monarchies', 'Han dynasty, Sui dynasty, Western Han')]\n",
      "[('capital', 'Damascus'), ('monarchies', 'Arab Kingdom of Syria, Umayyad Caliphate, Zengid dynasty')]\n",
      "[('capital', 'Babylon'), ('monarchies', 'Achaemenid Empire, First Babylonian Empire, Seleucid Empire')]\n",
      "[('capital', 'Mexico City'), ('monarchies', 'First Mexican Empire, Second Mexican Empire, Viceroyalty of New Spain')]\n",
      "[('capital', 'Stuttgart'), ('monarchies', 'Duchy of Württemberg, Electorate of Württemberg, Kingdom of Württemberg')]\n",
      "[('capital', 'Buda'), ('monarchies', 'Eastern Hungarian Kingdom, Kingdom of Hungary')]\n",
      "[('capital', 'Herat'), ('monarchies', 'Ghurid Empire, Kartids, Timurid Empire')]\n",
      "[('capital', 'Vientiane'), ('monarchies', 'Kingdom of Laos, Kingdom of Vientiane, Lan Xang')]\n",
      "[('capital', 'Constantinople'), ('monarchies', 'Byzantine Empire, Latin Empire, Roman Empire')]\n",
      "[('capital', 'Milan'), ('monarchies', 'Duchy of Milan, Kingdom of Italy, Kingdom of Lombardy–Venetia')]\n",
      "[('capital', 'Kashgar City'), ('monarchies', 'Moghulistan, Shule Kingdom, Yettishar')]\n",
      "[('capital', 'Düsseldorf'), ('monarchies', 'Duchy of Berg, Electoral Palatinate, Grand Duchy of Berg')]\n",
      "[('capital', 'Delhi'), ('monarchies', 'British India, Delhi Sultanate, Mughal Empire')]\n",
      "[('capital', 'Hanover'), ('monarchies', 'Electorate of Brunswick-Lüneburg, Kingdom of Hanover, Principality of Calenberg')]\n",
      "[('capital', 'Amsterdam'), ('monarchies', 'Kingdom of the Netherlands, Netherlands, United Kingdom of the Netherlands')]\n",
      "[('capital', 'Kuala Lumpur'), ('monarchies', 'Malaya, Malayan Union, Malaysia')]\n",
      "[('capital', 'Bucharest'), ('monarchies', 'Kingdom of Romania, Principality of Wallachia, United Principalities')]\n",
      "[('capital', 'Muscat'), ('monarchies', 'Muscat and Oman, Oman, Sultanate of Muscat')]\n",
      "[('capital', 'Kabul'), ('monarchies', 'Durrani Empire, Emirate of Afghanistan, Kingdom of Afghanistan')]\n",
      "[('capital', 'Zagreb'), ('monarchies', 'Kingdom of Croatia, Kingdom of Croatia-Slavonia, State of Slovenes, Croats and Serbs')]\n",
      "[('capital', 'Warsaw'), ('monarchies', 'Duchy of Warsaw, Kingdom of Poland, Polish–Lithuanian Commonwealth')]\n",
      "[('capital', 'Harare'), ('monarchies', 'Federation of Rhodesia and Nyasaland, Rhodesia, Southern Rhodesia')]\n",
      "[('capital', 'City of Brussels'), ('monarchies', 'Belgium, Seventeen Provinces, United Kingdom of the Netherlands')]\n",
      "[('capital', 'Karlsruhe'), ('monarchies', 'Electorate of Baden, Grand Duchy of Baden, Margraviate of Baden')]\n",
      "[('capital', 'Tehran'), ('monarchies', 'Pahlavi Dynasty, Persian Empire, Qajar Iran')]\n",
      "[('capital', 'Benghazi'), ('monarchies', 'Emirate of Cyrenaica, Kingdom of Libya')]\n",
      "[('capital', 'Sinop'), ('monarchies', 'Beylik of Isfendiyar, Kingdom of Pontus')]\n",
      "[('capital', 'Thessaloniki'), ('monarchies', 'Empire of Thessalonica, Kingdom of Thessalonica')]\n",
      "[('capital', 'Detmold'), ('monarchies', 'Lippe, Principality of Lippe')]\n",
      "[('capital', 'Magdeburg'), ('monarchies', 'Archbishopric of Magdeburg, Duchy of Magdeburg')]\n",
      "[('capital', 'Kyoto'), ('monarchies', 'Ashikaga shogunate, Kenmu Restoration')]\n",
      "[('capital', 'Pretoria'), ('monarchies', 'Transvaal Colony, Union of South Africa')]\n",
      "[('capital', 'Halych'), ('monarchies', 'Kingdom of Galicia–Volhynia, Principality of Halych')]\n",
      "[('capital', 'Konya'), ('monarchies', 'Beylik of Karaman, Sultanate of Rum')]\n",
      "[('capital', 'Aachen'), ('monarchies', 'Carolingian Empire, Holy Roman Empire')]\n",
      "[('capital', 'Bridgetown'), ('monarchies', 'Barbados, British Windward Islands')]\n",
      "[('capital', 'Luang Prabang'), ('monarchies', 'Kingdom of Laos, Lan Xang')]\n",
      "[('capital', 'Thanjavur'), ('monarchies', 'Thanjavur Maratha kingdom, Thanjavur Nayak kingdom')]\n",
      "[('capital', 'Weimar'), ('monarchies', 'Saxe-Weimar, Saxe-Weimar-Eisenach')]\n",
      "[('capital', 'Melfi'), ('monarchies', 'County of Apulia, Duchy of Apulia and Calabria')]\n",
      "[('capital', 'Montreal'), ('monarchies', 'Aerican Empire, New France')]\n",
      "[('capital', 'Phnom Penh'), ('monarchies', 'Cambodia, Kingdom of Cambodia')]\n",
      "[('capital', 'Saint Petersburg'), ('monarchies', 'Russian Empire, Tsardom of Russia')]\n",
      "[('capital', 'Kyiv'), ('monarchies', \"Kievan Rus', Principality of Kyiv\")]\n",
      "[('capital', 'Diriyah'), ('monarchies', 'Emirate of Diriyah, First Saudi State')]\n",
      "[('capital', 'Lisbon'), ('monarchies', 'Kingdom of Portugal, Portuguese Empire')]\n",
      "[('capital', 'Samarkand'), ('monarchies', 'Samanid Empire, Timurid Empire')]\n",
      "[('capital', 'Ctesiphon'), ('monarchies', 'Parthian Empire, Sasanian Empire')]\n",
      "[('capital', 'Tiaret'), ('monarchies', 'Rustamid dynasty, Rustamid kingdom')]\n",
      "[('capital', 'Ecbatana'), ('monarchies', 'Achaemenid Empire, Media')]\n",
      "[('capital', 'Regensburg'), ('monarchies', 'Duchy of Bavaria, Holy Roman Empire')]\n",
      "[('capital', 'Salvador'), ('monarchies', 'Colonial Brazil, State of Brazil')]\n",
      "[('capital', 'Frankfurt am Main'), ('monarchies', 'East Francia, German Empire of 1848/1849')]\n",
      "[('capital', 'Edessa'), ('monarchies', 'County of Edessa, Osroene')]\n",
      "[('capital', 'Taungoo'), ('monarchies', 'First Toungoo Empire, Taungoo Dynasty')]\n",
      "[('capital', 'Bangkok'), ('monarchies', 'Rattanakosin Kingdom, Thailand')]\n",
      "[('capital', 'Helsinki'), ('monarchies', 'Grand Duchy of Finland, Kingdom of Finland')]\n",
      "[('capital', 'Eutin'), ('monarchies', 'Bishopric of Lübeck, Principalit of Lübeck')]\n",
      "[('capital', 'Burgos'), ('monarchies', 'Francoist Spain, Kingdom of Castile')]\n",
      "[('capital', 'Cap-Haïtien'), ('monarchies', 'Kingdom of Haiti, Saint-Domingue')]\n",
      "[('capital', 'Zeila'), ('monarchies', 'Adal Sultanate, Ifat Sultanate')]\n",
      "[('capital', 'Lviv'), ('monarchies', 'Kingdom of Galicia and Lodomeria, Kingdom of Galicia–Volhynia')]\n",
      "[('capital', 'Turquoise Mountain'), ('monarchies', 'Ghurid Dynasty, Ghurid Empire')]\n",
      "[('capital', 'Golkonda'), ('monarchies', 'Golconda Sultanate, Qutb Shahi dynasty')]\n",
      "[('capital', 'Aleppo'), ('monarchies', 'Yamhad, Zengid dynasty')]\n",
      "[('capital', 'Honiara'), ('monarchies', 'British Solomon Islands, Solomon Islands')]\n",
      "[('capital', 'Bolgar'), ('monarchies', 'Golden Horde, Volga Bulgaria')]\n",
      "[('capital', 'Abu Dhabi'), ('monarchies', 'Emirate of Abu Dhabi, United Arab Emirates')]\n",
      "[('capital', 'Sofia'), ('monarchies', 'Kingdom of Bulgaria, Principality of Bulgaria')]\n",
      "[('capital', 'Zadar'), ('monarchies', 'Kingdom of Dalmatia')]\n",
      "[('capital', 'Pyongyang'), ('monarchies', 'Goguryeo, Gojoseon')]\n",
      "[('capital', 'Carthage'), ('monarchies', 'Ancient Carthage, Vandal Kingdom')]\n",
      "[('capital', 'Worms'), ('monarchies', 'Bishopric of Worms, Kingdom of the Burgundians')]\n",
      "[('capital', 'Susa'), ('monarchies', 'Achaemenid Empire, Elymais')]\n",
      "[('capital', 'Wellington'), ('monarchies', 'Dominion of New Zealand, New Zealand')]\n",
      "[('capital', 'Tokyo'), ('monarchies', 'Empire of Japan, Japan')]\n",
      "[('capital', 'Biograd na Moru'), ('monarchies', 'Croatia in personal union with Hungary, Kingdom of Croatia')]\n",
      "[('capital', 'Dublin'), ('monarchies', 'Irish Free State, Kingdom of Ireland')]\n",
      "[('capital', 'Boston'), ('monarchies', 'Dominion of New England, Province of Massachusetts Bay')]\n",
      "[('capital', 'Bloemfontein'), ('monarchies', 'Orange River Colony, Union of South Africa')]\n",
      "[('capital', 'Winchester'), ('monarchies', 'Kingdom of England, Kingdom of Wessex')]\n",
      "[('capital', 'Brandenburg an der Havel'), ('monarchies', 'Bishopric of Brandenburg, Margraviate of Brandenburg')]\n",
      "[('capital', 'Ray'), ('monarchies', 'Buyid dynasty, Seljuk Empire')]\n",
      "[('capital', 'Ljubljana'), ('monarchies', 'Duchy of Carniola, Kingdom of Illyria')]\n",
      "[('capital', 'Gniezno'), ('monarchies', 'Civitas Schinesghe, Duchy of Poland')]\n",
      "[('capital', 'Luoyang'), ('monarchies', 'Eastern Zhou, Han dynasty')]\n",
      "[('capital', 'Tunis'), ('monarchies', 'Beylik of Tunis, Hafsid dynasty')]\n",
      "[('capital', 'Port-au-Prince'), ('monarchies', 'First Empire of Haiti, Second Empire of Haiti')]\n",
      "[('capital', 'Munich'), ('monarchies', 'Bavaria-Munich, Kingdom of Bavaria')]\n",
      "[('capital', 'Darmstadt'), ('monarchies', 'Grand Duchy of Hesse, Landgraviate of Hesse-Darmstadt')]\n",
      "[('capital', 'Athens'), ('monarchies', 'Duchy of Athens, Kingdom of Greece')]\n",
      "[('capital', 'Manama'), ('monarchies', 'Bahrain, Bahrain and its Dependencies')]\n",
      "[('capital', 'Wrocław'), ('monarchies', 'Duchy of Silesia, Duchy of Wroclaw')]\n",
      "[('capital', 'Skopje'), ('monarchies', 'Kingdom of Serbia, Serbian Empire')]\n",
      "[('capital', 'Opava'), ('monarchies', 'Austrian Silesia, Duchy of Troppau')]\n",
      "[('capital', 'Marrakesh'), ('monarchies', 'Almohad Caliphate, Almoravid dynasty')]\n",
      "[('capital', 'Takam'), ('monarchies', '4000 Parvat Kingdom, Takam Kingdom')]\n",
      "[('capital', 'Alba Iulia'), ('monarchies', 'Eastern Hungarian Kingdom, Principality of Transylvania')]\n",
      "[('capital', 'Seville'), ('monarchies', 'Almohad Caliphate, Kingdom of Seville')]\n",
      "[('capital', 'Basseterre'), ('monarchies', 'Saint Christopher-Nevis-Anguilla, Saint Kitts and Nevis')]\n",
      "[('capital', \"Saint John's\"), ('monarchies', 'Antigua and Barbuda, British Leeward Islands')]\n",
      "[('capital', 'Xianyang'), ('monarchies', 'Qin, Qin dynasty')]\n",
      "[('capital', 'Cologne'), ('monarchies', 'Electorate of Cologne, duchy of the Ripuarian Franks')]\n",
      "[('capital', 'Barda'), ('monarchies', 'Caucasian Albania, Ostikanate of Arminiya')]\n",
      "[('capital', 'Coimbra'), ('monarchies', 'Kingdom of Portugal, Portuguese Empire')]\n",
      "[('capital', \"St. George's\"), ('monarchies', 'British Windward Islands, Grenada')]\n",
      "[('capital', 'Trento'), ('monarchies', 'Bishopric of Trent, Duchy of Tridentum')]\n",
      "[('capital', 'Khanbaliq'), ('monarchies', 'Mongol Empire, Yuan Empire')]\n",
      "[('capital', 'Seleucia'), ('monarchies', 'Parthian Empire, Seleucid Empire')]\n",
      "[('capital', 'Lhasa'), ('monarchies', 'Tibet, Tibetan Empire')]\n",
      "[('capital', 'Oslo'), ('monarchies', 'Kingdom of Norway (1814), Norway')]\n",
      "[('capital', 'Dessau'), ('monarchies', 'Anhalt-Dessau, Duchy of Anhalt')]\n",
      "[('capital', 'Nicaea'), ('monarchies', 'Empire of Nicaea, Sultanate of Rum')]\n",
      "[('capital', 'Lutherstadt Wittenberg'), ('monarchies', 'Duchy of Saxe-Wittenberg, Electorate of Saxony')]\n",
      "[('capital', 'Krujë'), ('monarchies', 'Principality of Arbanon, Principality of Kastrioti')]\n",
      "[('capital', 'Zaslaŭje'), ('monarchies', 'Duchy of Zaslawye, Principality of Polotsk')]\n",
      "[('capital', 'Metz'), ('monarchies', 'Bishopric of Metz, Carolingian Empire')]\n",
      "[('capital', 'Mahdia'), ('monarchies', 'Kingdom of Africa, Zirid dynasty')]\n",
      "[('capital', 'Valletta'), ('monarchies', 'Crown Colony of Malta, State of Malta')]\n",
      "[('capital', 'Opole'), ('monarchies', 'Duchy of Opole, Duchy of Opole and Racibórz')]\n",
      "[('capital', 'Pataliputra'), ('monarchies', 'Gupta Empire, Maurya Empire')]\n"
     ]
    },
    {
     "data": {
      "text/plain": [
       "167"
      ]
     },
     "execution_count": 76,
     "metadata": {},
     "output_type": "execute_result"
    }
   ],
   "source": [
    "queryString = \"\"\"\n",
    "SELECT ?capital GROUP_CONCAT(DISTINCT ?monarchy; separator=', ') AS ?monarchies WHERE \n",
    "{ \n",
    "?m (wdt:P31|wdt:P122)/wdt:P279* wd:Q7269;\n",
    "    wdt:P36 ?c;\n",
    "    <http://schema.org/name> ?monarchy.\n",
    "    \n",
    "?c <http://schema.org/name> ?capital.\n",
    "\n",
    "} \n",
    "GROUP BY ?capital\n",
    "HAVING(COUNT(DISTINCT ?m)>1)\n",
    "ORDER BY DESC(COUNT(DISTINCT ?m))\n",
    "\"\"\"\n",
    "\n",
    "print(\"Results\")\n",
    "run_query(queryString)"
   ]
  },
  {
   "cell_type": "markdown",
   "id": "4ac95b70-06ec-4520-b958-104f0a52a2a9",
   "metadata": {
    "tags": []
   },
   "source": [
    "#### Top-3 most ancient and still running monarchies"
   ]
  },
  {
   "cell_type": "markdown",
   "id": "758fa949-a86a-4ca0-9bc7-213c162a8920",
   "metadata": {},
   "source": [
    "In this query I return the top-3 most ancient and still running monarchies. I can safely assume no monarchy with inception date BC or in the future will be a feasible solution for the question."
   ]
  },
  {
   "cell_type": "code",
   "execution_count": 77,
   "id": "70eea274-4e98-4ba1-af43-740fd9b6ab63",
   "metadata": {},
   "outputs": [
    {
     "name": "stdout",
     "output_type": "stream",
     "text": [
      "Results\n",
      "[('monarchy', 'Sweden'), ('inception', '0700-01-01T00:00:00Z'), ('head', 'Carl XVI Gustaf of Sweden'), ('capital', 'Stockholm')]\n",
      "[('monarchy', 'Danish Realm'), ('inception', '0800-01-01T00:00:00Z'), ('head', 'Margrethe II of Denmark'), ('capital', 'Copenhagen')]\n",
      "[('monarchy', 'Denmark'), ('inception', '0800-01-01T00:00:00Z'), ('head', 'Margrethe II of Denmark'), ('capital', 'Copenhagen')]\n"
     ]
    },
    {
     "data": {
      "text/plain": [
       "3"
      ]
     },
     "execution_count": 77,
     "metadata": {},
     "output_type": "execute_result"
    }
   ],
   "source": [
    "queryString = \"\"\"\n",
    "SELECT DISTINCT ?monarchy ?inception ?head ?capital WHERE { \n",
    "\n",
    "?m (wdt:P31|wdt:P122)/wdt:P279* wd:Q7269;\n",
    "    wdt:P571 ?inception;\n",
    "    wdt:P35 ?h;\n",
    "    wdt:P36 ?cap;\n",
    "    <http://schema.org/name> ?monarchy.\n",
    "        \n",
    "?h <http://schema.org/name> ?head.\n",
    "?cap <http://schema.org/name> ?capital.\n",
    "\n",
    "FILTER(datatype(?inception) = xsd:dateTime && !strstarts(str(?inception),'-') && ?inception<NOW())\n",
    "\n",
    "FILTER NOT EXISTS{ ?m wdt:P1366|wdt:P576|wdt:P582 ?o. }\n",
    "\n",
    "} \n",
    "ORDER BY (?inception)\n",
    "LIMIT 3\n",
    "\"\"\"\n",
    "\n",
    "print(\"Results\")\n",
    "run_query(queryString)"
   ]
  },
  {
   "cell_type": "code",
   "execution_count": null,
   "id": "fc9f4207-4628-4b1a-8c4d-04484e7db435",
   "metadata": {},
   "outputs": [],
   "source": []
  }
 ],
 "metadata": {
  "kernelspec": {
   "display_name": "Python 3",
   "language": "python",
   "name": "python3"
  },
  "language_info": {
   "codemirror_mode": {
    "name": "ipython",
    "version": 3
   },
   "file_extension": ".py",
   "mimetype": "text/x-python",
   "name": "python",
   "nbconvert_exporter": "python",
   "pygments_lexer": "ipython3",
   "version": "3.7.10"
  }
 },
 "nbformat": 4,
 "nbformat_minor": 5
}
