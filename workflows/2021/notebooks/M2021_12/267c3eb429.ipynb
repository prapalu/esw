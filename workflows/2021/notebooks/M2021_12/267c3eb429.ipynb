{
 "cells": [
  {
   "cell_type": "markdown",
   "id": "7034c3bf-6eb0-4418-8687-7b9d2a501103",
   "metadata": {},
   "source": [
    "# General instructions\n",
    "\n",
    "The goal of the project is to materialize a set of **exploratory workloads** over a real-world, large-scale,  open-domain KG: [WikiData](https://www.wikidata.org/wiki/Wikidata:Main_Page)\n",
    "\n",
    "An exploratory workload  is composed by a set of queries, where each query is related to the information obtained previously.\n",
    "\n",
    "An exploratory workload starts with a usually vague, open ended question, and does not assume the person issuing the workload has a clear understanding of the data contained in the target database or its structure.\n",
    "\n",
    "Remeber that:\n",
    "\n",
    "1. All the queries must run in the python notebook\n",
    "2. You can use classes and properties only if you find them via a SPARQL query that must be present in the notebook\n",
    "3. You do not delete useless queries. Keep everything that is synthatically valid \n",
    "\n",
    "```\n",
    "?p <http://schema.org/name> ?name .\n",
    "```\n",
    "    \n",
    "    is the BGP returning a human-readable name of a property or a class in Wikidata.\n",
    "    \n",
    "    "
   ]
  },
  {
   "cell_type": "code",
   "execution_count": 2,
   "id": "3605c9d5-5371-49a5-be8d-d66e8f417139",
   "metadata": {},
   "outputs": [],
   "source": [
    "## SETUP used later\n",
    "\n",
    "from SPARQLWrapper import SPARQLWrapper, JSON\n",
    "\n",
    "\n",
    "prefixString = \"\"\"\n",
    "##-267c3eb429-##\n",
    "PREFIX wd: <http://www.wikidata.org/entity/> \n",
    "PREFIX wdt: <http://www.wikidata.org/prop/direct/> \n",
    "PREFIX sc: <http://schema.org/>\n",
    "\"\"\"\n",
    "\n",
    "# select and construct queries\n",
    "def run_query(queryString):\n",
    "    to_run = prefixString + \"\\n\" + queryString\n",
    "\n",
    "    sparql = SPARQLWrapper(\"http://a256-gc1-02.srv.aau.dk:5820/sparql\")\n",
    "    sparql.setTimeout(300)\n",
    "    sparql.setReturnFormat(JSON)\n",
    "    sparql.setQuery(to_run)\n",
    "\n",
    "    try :\n",
    "       results = sparql.query()\n",
    "       json_results = results.convert()\n",
    "       if len(json_results['results']['bindings'])==0:\n",
    "          print(\"Empty\")\n",
    "          return 0\n",
    "    \n",
    "       for bindings in json_results['results']['bindings']:\n",
    "          print( [ (var, value['value'])  for var, value in bindings.items() ] )\n",
    "\n",
    "       return len(json_results['results']['bindings'])\n",
    "\n",
    "    except Exception as e :\n",
    "        print(\"The operation failed\", e)\n",
    "    \n",
    "# ASk queries\n",
    "def run_ask_query(queryString):\n",
    "    to_run = prefixString + \"\\n\" + queryString\n",
    "\n",
    "    sparql = SPARQLWrapper(\"http://a256-gc1-02.srv.aau.dk:5820/sparql\")\n",
    "    sparql.setTimeout(300)\n",
    "    sparql.setReturnFormat(JSON)\n",
    "    sparql.setQuery(to_run)\n",
    "\n",
    "    try :\n",
    "        return sparql.query().convert()\n",
    "\n",
    "    except Exception as e :\n",
    "        print(\"The operation failed\", e)"
   ]
  },
  {
   "cell_type": "markdown",
   "id": "d477a59c-a68c-4c8f-9f97-8ca5294d7d27",
   "metadata": {},
   "source": [
    "# Book Workflow Series (\"Authors comparison explorative search\") \n",
    "\n",
    "Consider the following exploratory scenario:\n",
    "\n",
    "\n",
    ">  Investigate the the production of Paul Auster and Ian McEwan, check how many books they have written for each litarature genre, gather information about their production and about their works which are not books\n",
    "\n",
    "\n",
    "\n",
    "## Useful URIs for the current workflow\n",
    "The following are given:\n",
    "\n",
    "| IRI           | Description   | Role      |\n",
    "| -----------   | -----------   |-----------|\n",
    "| `wdt:P1647`   | subproperty   | predicate |\n",
    "| `wdt:P31`     | instance of   | predicate |\n",
    "| `wdt:P106`    | profession    | predicate | \n",
    "| `wdt:P279`    | subclass      | predicate |\n",
    "| `wd:Q47461344`| writtenwork   | node |\n",
    "| `wd:Q214642`  | Paul Auster   | node |\n",
    "| `wd:Q190379`  | Ian McEwan    | node |\n",
    "\n",
    "\n",
    "\n",
    "\n",
    "Also consider\n",
    "\n",
    "```\n",
    "wd:Q214642 ?rel ?obj  . \n",
    "```\n",
    "is the BGP to retrieve all **properties of Paul Auster**\n",
    "\n",
    "\n",
    "The workload should\n",
    "\n",
    "\n",
    "1. Identify the BGP for obtaining the books (with publishing date and genre) published by the two authors\n",
    "\n",
    "2. Did the authors published a book in the same year? What is the longest period without publishing a book for the two authors? \n",
    "\n",
    "3. Did the authors produced, acted or directed a film? If so, did they write the screenplay?\n",
    "\n",
    "4. How many films were derived from the books of these two authors? \n",
    "\n",
    "5. Which author won more literature-related awards? Have they ever being nominated for a Nobel award? "
   ]
  },
  {
   "cell_type": "code",
   "execution_count": 1,
   "id": "24a853ab-830c-422c-afd3-e9e015b8b8ed",
   "metadata": {},
   "outputs": [],
   "source": [
    "# start your workflow here"
   ]
  },
  {
   "cell_type": "code",
   "execution_count": 3,
   "id": "ade01416-92e7-4ad7-b9a9-b8fb330750dc",
   "metadata": {},
   "outputs": [
    {
     "name": "stdout",
     "output_type": "stream",
     "text": [
      "Results\n",
      "[('callret-0', '191')]\n"
     ]
    },
    {
     "data": {
      "text/plain": [
       "1"
      ]
     },
     "execution_count": 3,
     "metadata": {},
     "output_type": "execute_result"
    }
   ],
   "source": [
    "queryString = \"\"\"\n",
    "SELECT COUNT( ?obj)\n",
    "WHERE { \n",
    "wd:Q214642 ?rel ?obj  . \n",
    "} \n",
    "\"\"\"\n",
    "\n",
    "print(\"Results\")\n",
    "run_query(queryString)"
   ]
  },
  {
   "cell_type": "code",
   "execution_count": 9,
   "id": "b73ac5bd-9a23-41f0-8512-835e35c29726",
   "metadata": {},
   "outputs": [
    {
     "name": "stdout",
     "output_type": "stream",
     "text": [
      "Results\n",
      "[('book', 'http://www.wikidata.org/entity/Q581485'), ('pname', 'The Book of Illusions')]\n",
      "[('book', 'http://www.wikidata.org/entity/Q1817920'), ('pname', 'Man in the Dark')]\n",
      "[('book', 'http://www.wikidata.org/entity/Q1215203'), ('pname', 'The New York Trilogy')]\n",
      "[('book', 'http://www.wikidata.org/entity/Q1821899'), ('pname', 'Leviathan')]\n"
     ]
    },
    {
     "data": {
      "text/plain": [
       "4"
      ]
     },
     "execution_count": 9,
     "metadata": {},
     "output_type": "execute_result"
    }
   ],
   "source": [
    "#SBAGLIATA\n",
    "#here i find all the written work of Paul Aster\n",
    "queryString = \"\"\"\n",
    "SELECT DISTINCT ?book ?pname \n",
    "WHERE { \n",
    "?book ?r wd:Q47461344.\n",
    "wd:Q214642 ?rel ?book  . \n",
    "\n",
    "?book <http://schema.org/name> ?pname\n",
    "} \n",
    "\n",
    "\"\"\"\n",
    "\n",
    "print(\"Results\")\n",
    "run_query(queryString)"
   ]
  },
  {
   "cell_type": "code",
   "execution_count": 15,
   "id": "549d997e-6b08-4e0d-af8a-09aa0a1d6c74",
   "metadata": {},
   "outputs": [
    {
     "name": "stdout",
     "output_type": "stream",
     "text": [
      "Results\n",
      "[('book', 'http://www.wikidata.org/entity/Q581485'), ('pname', 'The Book of Illusions')]\n",
      "[('book', 'http://www.wikidata.org/entity/Q1817920'), ('pname', 'Man in the Dark')]\n",
      "[('book', 'http://www.wikidata.org/entity/Q1215203'), ('pname', 'The New York Trilogy')]\n",
      "[('book', 'http://www.wikidata.org/entity/Q1821899'), ('pname', 'Leviathan')]\n",
      "[('book', 'http://www.wikidata.org/entity/Q306619'), ('pname', 'Atonement')]\n",
      "[('book', 'http://www.wikidata.org/entity/Q1198186'), ('pname', 'The Cement Garden')]\n"
     ]
    },
    {
     "data": {
      "text/plain": [
       "6"
      ]
     },
     "execution_count": 15,
     "metadata": {},
     "output_type": "execute_result"
    }
   ],
   "source": [
    "#SBAGLIATA\n",
    "#here i find all the writtenworks of the two Authors\n",
    "\n",
    "queryString = \"\"\"\n",
    "SELECT DISTINCT ?book ?pname\n",
    "WHERE {\n",
    "{\n",
    "?book ?r wd:Q47461344.\n",
    "wd:Q214642 ?rel ?book  . \n",
    "\n",
    "?book <http://schema.org/name> ?pname\n",
    "} \n",
    "UNION\n",
    "{\n",
    "?book ?r wd:Q47461344.\n",
    "wd:Q190379 ?rel ?book  . \n",
    "\n",
    "?book <http://schema.org/name> ?pname\n",
    "\n",
    "}\n",
    "}\n",
    "\"\"\"\n",
    "\n",
    "print(\"Results\")\n",
    "run_query(queryString)\n",
    "\n",
    "\n"
   ]
  },
  {
   "cell_type": "code",
   "execution_count": 18,
   "id": "6b9ceca3-690d-41d1-9e12-ea091762048f",
   "metadata": {
    "tags": []
   },
   "outputs": [
    {
     "name": "stdout",
     "output_type": "stream",
     "text": [
      "Results\n",
      "[('book', 'http://www.wikidata.org/entity/Q581485'), ('pname', 'publisher'), ('relationship', 'http://www.wikidata.org/prop/direct/P123')]\n",
      "[('book', 'http://www.wikidata.org/entity/Q581485'), ('pname', 'genre'), ('relationship', 'http://www.wikidata.org/prop/direct/P136')]\n",
      "[('book', 'http://www.wikidata.org/entity/Q581485'), ('pname', 'Encyclopædia Britannica Online ID'), ('relationship', 'http://www.wikidata.org/prop/direct/P1417')]\n",
      "[('book', 'http://www.wikidata.org/entity/Q581485'), ('pname', 'title'), ('relationship', 'http://www.wikidata.org/prop/direct/P1476')]\n",
      "[('book', 'http://www.wikidata.org/entity/Q581485'), ('pname', 'follows'), ('relationship', 'http://www.wikidata.org/prop/direct/P155')]\n",
      "[('book', 'http://www.wikidata.org/entity/Q581485'), ('pname', 'followed by'), ('relationship', 'http://www.wikidata.org/prop/direct/P156')]\n",
      "[('book', 'http://www.wikidata.org/entity/Q581485'), ('pname', 'OCLC control number'), ('relationship', 'http://www.wikidata.org/prop/direct/P243')]\n",
      "[('book', 'http://www.wikidata.org/entity/Q581485'), ('pname', 'instance of'), ('relationship', 'http://www.wikidata.org/prop/direct/P31')]\n",
      "[('book', 'http://www.wikidata.org/entity/Q581485'), ('pname', 'language of work or name'), ('relationship', 'http://www.wikidata.org/prop/direct/P407')]\n",
      "[('book', 'http://www.wikidata.org/entity/Q581485'), ('pname', 'country of origin'), ('relationship', 'http://www.wikidata.org/prop/direct/P495')]\n",
      "[('book', 'http://www.wikidata.org/entity/Q581485'), ('pname', 'author'), ('relationship', 'http://www.wikidata.org/prop/direct/P50')]\n",
      "[('book', 'http://www.wikidata.org/entity/Q581485'), ('pname', 'OCLC work ID'), ('relationship', 'http://www.wikidata.org/prop/direct/P5331')]\n",
      "[('book', 'http://www.wikidata.org/entity/Q581485'), ('pname', 'publication date'), ('relationship', 'http://www.wikidata.org/prop/direct/P577')]\n",
      "[('book', 'http://www.wikidata.org/entity/Q581485'), ('pname', 'Freebase ID'), ('relationship', 'http://www.wikidata.org/prop/direct/P646')]\n",
      "[('book', 'http://www.wikidata.org/entity/Q581485'), ('pname', 'Open Library ID'), ('relationship', 'http://www.wikidata.org/prop/direct/P648')]\n",
      "[('book', 'http://www.wikidata.org/entity/Q581485'), ('pname', 'Internet Archive ID'), ('relationship', 'http://www.wikidata.org/prop/direct/P724')]\n",
      "[('book', 'http://www.wikidata.org/entity/Q581485'), ('pname', 'Goodreads work ID'), ('relationship', 'http://www.wikidata.org/prop/direct/P8383')]\n",
      "[('book', 'http://www.wikidata.org/entity/Q581485'), ('pname', 'narrative location'), ('relationship', 'http://www.wikidata.org/prop/direct/P840')]\n",
      "[('book', 'http://www.wikidata.org/entity/Q581485'), ('pname', 'ISBN-13'), ('relationship', 'http://www.wikidata.org/prop/direct/P212')]\n",
      "[('book', 'http://www.wikidata.org/entity/Q581485'), ('pname', 'NooSFere book ID'), ('relationship', 'http://www.wikidata.org/prop/direct/P5571')]\n",
      "[('book', 'http://www.wikidata.org/entity/Q581485'), ('pname', 'ISBN-10'), ('relationship', 'http://www.wikidata.org/prop/direct/P957')]\n",
      "[('book', 'http://www.wikidata.org/entity/Q581485'), ('pname', 'Goodreads version/edition ID'), ('relationship', 'http://www.wikidata.org/prop/direct/P2969')]\n",
      "[('book', 'http://www.wikidata.org/entity/Q1817920'), ('pname', 'number of pages'), ('relationship', 'http://www.wikidata.org/prop/direct/P1104')]\n",
      "[('book', 'http://www.wikidata.org/entity/Q1817920'), ('pname', 'publisher'), ('relationship', 'http://www.wikidata.org/prop/direct/P123')]\n",
      "[('book', 'http://www.wikidata.org/entity/Q1817920'), ('pname', 'genre'), ('relationship', 'http://www.wikidata.org/prop/direct/P136')]\n",
      "[('book', 'http://www.wikidata.org/entity/Q1817920'), ('pname', 'follows'), ('relationship', 'http://www.wikidata.org/prop/direct/P155')]\n",
      "[('book', 'http://www.wikidata.org/entity/Q1817920'), ('pname', 'followed by'), ('relationship', 'http://www.wikidata.org/prop/direct/P156')]\n",
      "[('book', 'http://www.wikidata.org/entity/Q1817920'), ('pname', 'OCLC control number'), ('relationship', 'http://www.wikidata.org/prop/direct/P243')]\n",
      "[('book', 'http://www.wikidata.org/entity/Q1817920'), ('pname', 'Bibliothèque nationale de France ID'), ('relationship', 'http://www.wikidata.org/prop/direct/P268')]\n",
      "[('book', 'http://www.wikidata.org/entity/Q1817920'), ('pname', 'instance of'), ('relationship', 'http://www.wikidata.org/prop/direct/P31')]\n",
      "[('book', 'http://www.wikidata.org/entity/Q1817920'), ('pname', 'Encyclopædia Universalis ID'), ('relationship', 'http://www.wikidata.org/prop/direct/P3219')]\n",
      "[('book', 'http://www.wikidata.org/entity/Q1817920'), ('pname', 'language of work or name'), ('relationship', 'http://www.wikidata.org/prop/direct/P407')]\n",
      "[('book', 'http://www.wikidata.org/entity/Q1817920'), ('pname', 'country of origin'), ('relationship', 'http://www.wikidata.org/prop/direct/P495')]\n",
      "[('book', 'http://www.wikidata.org/entity/Q1817920'), ('pname', 'author'), ('relationship', 'http://www.wikidata.org/prop/direct/P50')]\n",
      "[('book', 'http://www.wikidata.org/entity/Q1817920'), ('pname', 'OCLC work ID'), ('relationship', 'http://www.wikidata.org/prop/direct/P5331')]\n",
      "[('book', 'http://www.wikidata.org/entity/Q1817920'), ('pname', 'publication date'), ('relationship', 'http://www.wikidata.org/prop/direct/P577')]\n",
      "[('book', 'http://www.wikidata.org/entity/Q1817920'), ('pname', 'Freebase ID'), ('relationship', 'http://www.wikidata.org/prop/direct/P646')]\n",
      "[('book', 'http://www.wikidata.org/entity/Q1817920'), ('pname', 'Open Library ID'), ('relationship', 'http://www.wikidata.org/prop/direct/P648')]\n",
      "[('book', 'http://www.wikidata.org/entity/Q1817920'), ('pname', 'translator'), ('relationship', 'http://www.wikidata.org/prop/direct/P655')]\n",
      "[('book', 'http://www.wikidata.org/entity/Q1817920'), ('pname', 'Internet Archive ID'), ('relationship', 'http://www.wikidata.org/prop/direct/P724')]\n",
      "[('book', 'http://www.wikidata.org/entity/Q1817920'), ('pname', 'Goodreads work ID'), ('relationship', 'http://www.wikidata.org/prop/direct/P8383')]\n",
      "[('book', 'http://www.wikidata.org/entity/Q1817920'), ('pname', 'ISFDB title ID'), ('relationship', 'http://www.wikidata.org/prop/direct/P1274')]\n",
      "[('book', 'http://www.wikidata.org/entity/Q1817920'), ('pname', 'ISBN-13'), ('relationship', 'http://www.wikidata.org/prop/direct/P212')]\n",
      "[('book', 'http://www.wikidata.org/entity/Q1817920'), ('pname', 'Goodreads version/edition ID'), ('relationship', 'http://www.wikidata.org/prop/direct/P2969')]\n",
      "[('book', 'http://www.wikidata.org/entity/Q1215203'), ('pname', 'LibraryThing work ID'), ('relationship', 'http://www.wikidata.org/prop/direct/P1085')]\n",
      "[('book', 'http://www.wikidata.org/entity/Q1215203'), ('pname', 'publisher'), ('relationship', 'http://www.wikidata.org/prop/direct/P123')]\n",
      "[('book', 'http://www.wikidata.org/entity/Q1215203'), ('pname', 'genre'), ('relationship', 'http://www.wikidata.org/prop/direct/P136')]\n",
      "[('book', 'http://www.wikidata.org/entity/Q1215203'), ('pname', 'Encyclopædia Britannica Online ID'), ('relationship', 'http://www.wikidata.org/prop/direct/P1417')]\n",
      "[('book', 'http://www.wikidata.org/entity/Q1215203'), ('pname', 'title'), ('relationship', 'http://www.wikidata.org/prop/direct/P1476')]\n",
      "[('book', 'http://www.wikidata.org/entity/Q1215203'), ('pname', 'follows'), ('relationship', 'http://www.wikidata.org/prop/direct/P155')]\n",
      "[('book', 'http://www.wikidata.org/entity/Q1215203'), ('pname', 'followed by'), ('relationship', 'http://www.wikidata.org/prop/direct/P156')]\n",
      "[('book', 'http://www.wikidata.org/entity/Q1215203'), ('pname', 'image'), ('relationship', 'http://www.wikidata.org/prop/direct/P18')]\n",
      "[('book', 'http://www.wikidata.org/entity/Q1215203'), ('pname', 'OCLC control number'), ('relationship', 'http://www.wikidata.org/prop/direct/P243')]\n",
      "[('book', 'http://www.wikidata.org/entity/Q1215203'), ('pname', 'instance of'), ('relationship', 'http://www.wikidata.org/prop/direct/P31')]\n",
      "[('book', 'http://www.wikidata.org/entity/Q1215203'), ('pname', 'language of work or name'), ('relationship', 'http://www.wikidata.org/prop/direct/P407')]\n",
      "[('book', 'http://www.wikidata.org/entity/Q1215203'), ('pname', 'country of origin'), ('relationship', 'http://www.wikidata.org/prop/direct/P495')]\n",
      "[('book', 'http://www.wikidata.org/entity/Q1215203'), ('pname', 'author'), ('relationship', 'http://www.wikidata.org/prop/direct/P50')]\n",
      "[('book', 'http://www.wikidata.org/entity/Q1215203'), ('pname', 'has part'), ('relationship', 'http://www.wikidata.org/prop/direct/P527')]\n",
      "[('book', 'http://www.wikidata.org/entity/Q1215203'), ('pname', 'OCLC work ID'), ('relationship', 'http://www.wikidata.org/prop/direct/P5331')]\n",
      "[('book', 'http://www.wikidata.org/entity/Q1215203'), ('pname', 'publication date'), ('relationship', 'http://www.wikidata.org/prop/direct/P577')]\n",
      "[('book', 'http://www.wikidata.org/entity/Q1215203'), ('pname', 'Freebase ID'), ('relationship', 'http://www.wikidata.org/prop/direct/P646')]\n",
      "[('book', 'http://www.wikidata.org/entity/Q1215203'), ('pname', 'Open Library ID'), ('relationship', 'http://www.wikidata.org/prop/direct/P648')]\n",
      "[('book', 'http://www.wikidata.org/entity/Q1215203'), ('pname', 'Internet Archive ID'), ('relationship', 'http://www.wikidata.org/prop/direct/P724')]\n",
      "[('book', 'http://www.wikidata.org/entity/Q1215203'), ('pname', 'narrative location'), ('relationship', 'http://www.wikidata.org/prop/direct/P840')]\n",
      "[('book', 'http://www.wikidata.org/entity/Q1215203'), ('pname', 'NNL item ID'), ('relationship', 'http://www.wikidata.org/prop/direct/P3959')]\n",
      "[('book', 'http://www.wikidata.org/entity/Q1821899'), ('pname', 'publisher'), ('relationship', 'http://www.wikidata.org/prop/direct/P123')]\n",
      "[('book', 'http://www.wikidata.org/entity/Q1821899'), ('pname', 'genre'), ('relationship', 'http://www.wikidata.org/prop/direct/P136')]\n",
      "[('book', 'http://www.wikidata.org/entity/Q1821899'), ('pname', 'title'), ('relationship', 'http://www.wikidata.org/prop/direct/P1476')]\n",
      "[('book', 'http://www.wikidata.org/entity/Q1821899'), ('pname', 'follows'), ('relationship', 'http://www.wikidata.org/prop/direct/P155')]\n",
      "[('book', 'http://www.wikidata.org/entity/Q1821899'), ('pname', 'followed by'), ('relationship', 'http://www.wikidata.org/prop/direct/P156')]\n",
      "[('book', 'http://www.wikidata.org/entity/Q1821899'), ('pname', 'image'), ('relationship', 'http://www.wikidata.org/prop/direct/P18')]\n",
      "[('book', 'http://www.wikidata.org/entity/Q1821899'), ('pname', 'name in kana'), ('relationship', 'http://www.wikidata.org/prop/direct/P1814')]\n",
      "[('book', 'http://www.wikidata.org/entity/Q1821899'), ('pname', 'OCLC control number'), ('relationship', 'http://www.wikidata.org/prop/direct/P243')]\n",
      "[('book', 'http://www.wikidata.org/entity/Q1821899'), ('pname', 'instance of'), ('relationship', 'http://www.wikidata.org/prop/direct/P31')]\n",
      "[('book', 'http://www.wikidata.org/entity/Q1821899'), ('pname', 'language of work or name'), ('relationship', 'http://www.wikidata.org/prop/direct/P407')]\n",
      "[('book', 'http://www.wikidata.org/entity/Q1821899'), ('pname', 'country of origin'), ('relationship', 'http://www.wikidata.org/prop/direct/P495')]\n",
      "[('book', 'http://www.wikidata.org/entity/Q1821899'), ('pname', 'author'), ('relationship', 'http://www.wikidata.org/prop/direct/P50')]\n",
      "[('book', 'http://www.wikidata.org/entity/Q1821899'), ('pname', 'OCLC work ID'), ('relationship', 'http://www.wikidata.org/prop/direct/P5331')]\n",
      "[('book', 'http://www.wikidata.org/entity/Q1821899'), ('pname', 'publication date'), ('relationship', 'http://www.wikidata.org/prop/direct/P577')]\n",
      "[('book', 'http://www.wikidata.org/entity/Q1821899'), ('pname', 'Freebase ID'), ('relationship', 'http://www.wikidata.org/prop/direct/P646')]\n",
      "[('book', 'http://www.wikidata.org/entity/Q1821899'), ('pname', 'Open Library ID'), ('relationship', 'http://www.wikidata.org/prop/direct/P648')]\n",
      "[('book', 'http://www.wikidata.org/entity/Q1821899'), ('pname', 'Internet Archive ID'), ('relationship', 'http://www.wikidata.org/prop/direct/P724')]\n",
      "[('book', 'http://www.wikidata.org/entity/Q1821899'), ('pname', 'Goodreads work ID'), ('relationship', 'http://www.wikidata.org/prop/direct/P8383')]\n",
      "[('book', 'http://www.wikidata.org/entity/Q1821899'), ('pname', 'official website'), ('relationship', 'http://www.wikidata.org/prop/direct/P856')]\n",
      "[('book', 'http://www.wikidata.org/entity/Q1821899'), ('pname', 'ISBN-13'), ('relationship', 'http://www.wikidata.org/prop/direct/P212')]\n",
      "[('book', 'http://www.wikidata.org/entity/Q1821899'), ('pname', 'ISBN-10'), ('relationship', 'http://www.wikidata.org/prop/direct/P957')]\n",
      "[('book', 'http://www.wikidata.org/entity/Q1821899'), ('pname', 'Goodreads version/edition ID'), ('relationship', 'http://www.wikidata.org/prop/direct/P2969')]\n"
     ]
    },
    {
     "data": {
      "text/plain": [
       "87"
      ]
     },
     "execution_count": 18,
     "metadata": {},
     "output_type": "execute_result"
    }
   ],
   "source": [
    "\n",
    "#here i get all the relationship of books\n",
    "queryString = \"\"\"\n",
    "SELECT DISTINCT ?book ?pname ?relationship\n",
    "WHERE {\n",
    "\n",
    "?book  ?relationship ?obg.\n",
    "?book ?r wd:Q47461344.\n",
    "wd:Q214642 ?rel ?book  . \n",
    "\n",
    "?relationship <http://schema.org/name> ?pname\n",
    "\n",
    "}\n",
    "\"\"\"\n",
    "\n",
    "print(\"Results\")\n",
    "run_query(queryString)\n"
   ]
  },
  {
   "cell_type": "code",
   "execution_count": 49,
   "id": "63396626-80cf-4078-aa57-08844d915c99",
   "metadata": {},
   "outputs": [
    {
     "name": "stdout",
     "output_type": "stream",
     "text": [
      "Results\n",
      "[('book', 'http://www.wikidata.org/entity/Q47461344')]\n",
      "[('book', 'http://www.wikidata.org/entity/Q571')]\n"
     ]
    },
    {
     "data": {
      "text/plain": [
       "2"
      ]
     },
     "execution_count": 49,
     "metadata": {},
     "output_type": "execute_result"
    }
   ],
   "source": [
    "#in the previous query i got the iri for author P50\n",
    "#here i get the IRI for book using the data found in the relationship before\n",
    "\n",
    "queryString = \"\"\"\n",
    "SELECT DISTINCT ?book \n",
    "WHERE {\n",
    "\n",
    "wd:Q581485  wdt:P31  ?book.\n",
    "\n",
    "\n",
    "}\n",
    "\"\"\"\n",
    "\n",
    "print(\"Results\")\n",
    "run_query(queryString)\n"
   ]
  },
  {
   "cell_type": "code",
   "execution_count": null,
   "id": "e3a77a05-221e-4c4c-b0c8-0d3a4132de77",
   "metadata": {},
   "outputs": [],
   "source": [
    "#i get the iri for book:Q571"
   ]
  },
  {
   "cell_type": "code",
   "execution_count": 50,
   "id": "423f725d-58f6-4f36-922a-9b829bb09ae7",
   "metadata": {},
   "outputs": [
    {
     "name": "stdout",
     "output_type": "stream",
     "text": [
      "Results\n",
      "[('book', 'http://www.wikidata.org/entity/Q581485'), ('pname', 'The Book of Illusions')]\n",
      "[('book', 'http://www.wikidata.org/entity/Q27940587'), ('pname', 'Nutshell')]\n"
     ]
    },
    {
     "data": {
      "text/plain": [
       "2"
      ]
     },
     "execution_count": 50,
     "metadata": {},
     "output_type": "execute_result"
    }
   ],
   "source": [
    "#here i find the books of the 2 authors\n",
    "\n",
    "queryString = \"\"\"\n",
    "SELECT DISTINCT ?book ?pname\n",
    "WHERE {\n",
    "{\n",
    "?book wdt:P31 wd:Q571.\n",
    "?book wdt:P50 wd:Q214642.\n",
    "\n",
    "?book <http://schema.org/name> ?pname\n",
    "} \n",
    "UNION\n",
    "{\n",
    "\n",
    "?book wdt:P31 wd:Q571.\n",
    "?book wdt:P50 wd:Q190379.\n",
    " \n",
    "\n",
    "?book <http://schema.org/name> ?pname\n",
    "\n",
    "}\n",
    "}\n",
    "\"\"\"\n",
    "\n",
    "print(\"Results\")\n",
    "run_query(queryString)\n",
    "\n"
   ]
  },
  {
   "cell_type": "code",
   "execution_count": 56,
   "id": "c45a3d21-3e0c-4f0c-82b2-902036f2922c",
   "metadata": {},
   "outputs": [
    {
     "name": "stdout",
     "output_type": "stream",
     "text": [
      "Results\n",
      "[('book', 'http://www.wikidata.org/entity/Q1951470'), ('pname', 'Mr. Vertigo')]\n",
      "[('book', 'http://www.wikidata.org/entity/Q492991'), ('pname', 'Timbuktu')]\n",
      "[('book', 'http://www.wikidata.org/entity/Q581485'), ('pname', 'The Book of Illusions')]\n",
      "[('book', 'http://www.wikidata.org/entity/Q526792'), ('pname', 'Travels in the Scriptorium')]\n",
      "[('book', 'http://www.wikidata.org/entity/Q1817920'), ('pname', 'Man in the Dark')]\n",
      "[('book', 'http://www.wikidata.org/entity/Q1322083'), ('pname', 'Sunset Park')]\n",
      "[('book', 'http://www.wikidata.org/entity/Q1584652'), ('pname', 'Invisible')]\n",
      "[('book', 'http://www.wikidata.org/entity/Q28846426'), ('pname', '4 3 2 1')]\n",
      "[('book', 'http://www.wikidata.org/entity/Q60412205'), ('pname', 'Sunset Park')]\n",
      "[('book', 'http://www.wikidata.org/entity/Q16386002'), ('pname', 'Here and Now: Letters, 2008-2011')]\n",
      "[('book', 'http://www.wikidata.org/entity/Q1215203'), ('pname', 'The New York Trilogy')]\n",
      "[('book', 'http://www.wikidata.org/entity/Q1506280'), ('pname', 'In the Country of Last Things')]\n",
      "[('book', 'http://www.wikidata.org/entity/Q1944147'), ('pname', 'Moon Palace')]\n",
      "[('book', 'http://www.wikidata.org/entity/Q45823712'), ('pname', 'The Locked Room')]\n",
      "[('book', 'http://www.wikidata.org/entity/Q16887077'), ('pname', 'Winter Journal')]\n",
      "[('book', 'http://www.wikidata.org/entity/Q7766783'), ('pname', 'The Story of My Typewriter')]\n",
      "[('book', 'http://www.wikidata.org/entity/Q1214916'), ('pname', 'The Music of Chance')]\n",
      "[('book', 'http://www.wikidata.org/entity/Q1821899'), ('pname', 'Leviathan')]\n",
      "[('book', 'http://www.wikidata.org/entity/Q3225069'), ('pname', \"Auggie Wren's Christmas Story\")]\n",
      "[('book', 'http://www.wikidata.org/entity/Q1211751'), ('pname', 'The Brooklyn Follies')]\n",
      "[('book', 'http://www.wikidata.org/entity/Q1258502'), ('pname', 'Oracle Night')]\n",
      "[('book', 'http://www.wikidata.org/entity/Q42185883'), ('pname', 'Man in the Dark')]\n",
      "[('book', 'http://www.wikidata.org/entity/Q1212217'), ('pname', 'The Invention of Solitude')]\n",
      "[('book', 'http://www.wikidata.org/entity/Q5770801'), ('pname', 'City of Glass')]\n",
      "[('book', 'http://www.wikidata.org/entity/Q5855938'), ('pname', 'Ghosts')]\n",
      "[('book', 'http://www.wikidata.org/entity/Q3786029'), ('pname', 'I Thought My Father Was God')]\n",
      "[('book', 'http://www.wikidata.org/entity/Q5123698'), ('pname', 'City of Glass')]\n",
      "[('book', 'http://www.wikidata.org/entity/Q17027694'), ('pname', 'Report from the Interior')]\n",
      "[('book', 'http://www.wikidata.org/entity/Q3067425'), ('pname', 'Squeeze Play')]\n",
      "[('book', 'http://www.wikidata.org/entity/Q16653447'), ('pname', 'The Red Notebook')]\n",
      "[('book', 'http://www.wikidata.org/entity/Q1723053'), ('pname', 'Saturday')]\n",
      "[('book', 'http://www.wikidata.org/entity/Q58883639'), ('pname', 'Saturday')]\n",
      "[('book', 'http://www.wikidata.org/entity/Q306619'), ('pname', 'Atonement')]\n",
      "[('book', 'http://www.wikidata.org/entity/Q60411070'), ('pname', 'Atonement')]\n",
      "[('book', 'http://www.wikidata.org/entity/Q1704438'), ('pname', 'Black Dogs')]\n",
      "[('book', 'http://www.wikidata.org/entity/Q64031447'), ('pname', 'Machines Like Me')]\n",
      "[('book', 'http://www.wikidata.org/entity/Q451491'), ('pname', 'On Chesil Beach')]\n",
      "[('book', 'http://www.wikidata.org/entity/Q1198186'), ('pname', 'The Cement Garden')]\n",
      "[('book', 'http://www.wikidata.org/entity/Q478433'), ('pname', 'Amsterdam')]\n",
      "[('book', 'http://www.wikidata.org/entity/Q18162235'), ('pname', 'The Children Act')]\n",
      "[('book', 'http://www.wikidata.org/entity/Q27940587'), ('pname', 'Nutshell')]\n",
      "[('book', 'http://www.wikidata.org/entity/Q1531861'), ('pname', 'Solar')]\n",
      "[('book', 'http://www.wikidata.org/entity/Q1755376'), ('pname', 'The Innocent')]\n",
      "[('book', 'http://www.wikidata.org/entity/Q90699593'), ('pname', 'The Cockroach')]\n",
      "[('book', 'http://www.wikidata.org/entity/Q2920448'), ('pname', 'Enduring Love')]\n",
      "[('book', 'http://www.wikidata.org/entity/Q1754953'), ('pname', 'The Comfort of Strangers')]\n",
      "[('book', 'http://www.wikidata.org/entity/Q1747269'), ('pname', 'The Child in Time')]\n",
      "[('book', 'http://www.wikidata.org/entity/Q5453216'), ('pname', 'First Love, Last Rites')]\n",
      "[('book', 'http://www.wikidata.org/entity/Q972609'), ('pname', 'Sweet Tooth')]\n",
      "[('book', 'http://www.wikidata.org/entity/Q14395944'), ('pname', 'The Innocent (McEwan novel)')]\n",
      "[('book', 'http://www.wikidata.org/entity/Q16386280'), ('pname', 'In Between the Sheets')]\n",
      "[('book', 'http://www.wikidata.org/entity/Q3819411'), ('pname', 'The Daydreamer')]\n",
      "[('book', 'http://www.wikidata.org/entity/Q60977819'), ('pname', 'My Purple Scented Novel')]\n"
     ]
    },
    {
     "data": {
      "text/plain": [
       "53"
      ]
     },
     "execution_count": 56,
     "metadata": {},
     "output_type": "execute_result"
    }
   ],
   "source": [
    "#here i try to find all the works of the 2 authors so all the works where they are considered the authors (authors is referred only to written works)\n",
    "#i consider both written works and literary works etc\n",
    "queryString = \"\"\"\n",
    "SELECT DISTINCT ?book ?pname\n",
    "WHERE {\n",
    "{\n",
    "\n",
    "?book wdt:P50 wd:Q214642.\n",
    "\n",
    "\n",
    "?book <http://schema.org/name> ?pname\n",
    "} \n",
    "UNION\n",
    "{\n",
    "\n",
    "\n",
    "?book wdt:P50 wd:Q190379.\n",
    " \n",
    "\n",
    "?book <http://schema.org/name> ?pname\n",
    "\n",
    "}\n",
    "}\n",
    "\"\"\"\n",
    "\n",
    "print(\"Results\")\n",
    "run_query(queryString)\n"
   ]
  },
  {
   "cell_type": "code",
   "execution_count": 57,
   "id": "976a6e7d-1e14-4c96-a959-7ba5980f415a",
   "metadata": {},
   "outputs": [
    {
     "name": "stdout",
     "output_type": "stream",
     "text": [
      "Results\n",
      "[('book', 'http://www.wikidata.org/entity/Q581485'), ('pname', 'The Book of Illusions'), ('data', '2002-01-01T00:00:00Z'), ('genre', 'http://www.wikidata.org/entity/Q8261')]\n",
      "[('book', 'http://www.wikidata.org/entity/Q1817920'), ('pname', 'Man in the Dark'), ('data', '2008-01-01T00:00:00Z'), ('genre', 'http://www.wikidata.org/entity/Q8261')]\n",
      "[('book', 'http://www.wikidata.org/entity/Q1215203'), ('pname', 'The New York Trilogy'), ('data', '1987-01-01T00:00:00Z'), ('genre', 'http://www.wikidata.org/entity/Q8261')]\n",
      "[('book', 'http://www.wikidata.org/entity/Q1215203'), ('pname', 'The New York Trilogy'), ('data', '1987-01-01T00:00:00Z'), ('genre', 'http://www.wikidata.org/entity/Q6585139')]\n",
      "[('book', 'http://www.wikidata.org/entity/Q1821899'), ('pname', 'Leviathan'), ('data', '1992-01-01T00:00:00Z'), ('genre', 'http://www.wikidata.org/entity/Q208505')]\n",
      "[('book', 'http://www.wikidata.org/entity/Q1821899'), ('pname', 'Leviathan'), ('data', '1992-01-01T00:00:00Z'), ('genre', 'http://www.wikidata.org/entity/Q186424')]\n",
      "[('book', 'http://www.wikidata.org/entity/Q1821899'), ('pname', 'Leviathan'), ('data', '1992-01-01T00:00:00Z'), ('genre', 'http://www.wikidata.org/entity/Q1328330')]\n",
      "[('book', 'http://www.wikidata.org/entity/Q1723053'), ('pname', 'Saturday'), ('data', '2005-01-01T00:00:00Z'), ('genre', 'http://www.wikidata.org/entity/Q8261')]\n",
      "[('book', 'http://www.wikidata.org/entity/Q306619'), ('pname', 'Atonement'), ('data', '2001-01-01T00:00:00Z'), ('genre', 'http://www.wikidata.org/entity/Q8261')]\n",
      "[('book', 'http://www.wikidata.org/entity/Q1704438'), ('pname', 'Black Dogs'), ('data', '1992-07-01T00:00:00Z'), ('genre', 'http://www.wikidata.org/entity/Q8261')]\n",
      "[('book', 'http://www.wikidata.org/entity/Q64031447'), ('pname', 'Machines Like Me'), ('data', '2019-01-01T00:00:00Z'), ('genre', 'http://www.wikidata.org/entity/Q8261')]\n",
      "[('book', 'http://www.wikidata.org/entity/Q451491'), ('pname', 'On Chesil Beach'), ('data', '2007-01-01T00:00:00Z'), ('genre', 'http://www.wikidata.org/entity/Q8261')]\n",
      "[('book', 'http://www.wikidata.org/entity/Q1198186'), ('pname', 'The Cement Garden'), ('data', '1978-01-01T00:00:00Z'), ('genre', 'http://www.wikidata.org/entity/Q8261')]\n",
      "[('book', 'http://www.wikidata.org/entity/Q478433'), ('pname', 'Amsterdam'), ('data', '1998-12-01T00:00:00Z'), ('genre', 'http://www.wikidata.org/entity/Q8261')]\n",
      "[('book', 'http://www.wikidata.org/entity/Q18162235'), ('pname', 'The Children Act'), ('data', '2014-09-02T00:00:00Z'), ('genre', 'http://www.wikidata.org/entity/Q8261')]\n",
      "[('book', 'http://www.wikidata.org/entity/Q1531861'), ('pname', 'Solar'), ('data', '2010-03-18T00:00:00Z'), ('genre', 'http://www.wikidata.org/entity/Q8261')]\n",
      "[('book', 'http://www.wikidata.org/entity/Q1755376'), ('pname', 'The Innocent'), ('data', '1990-01-01T00:00:00Z'), ('genre', 'http://www.wikidata.org/entity/Q8261')]\n",
      "[('book', 'http://www.wikidata.org/entity/Q2920448'), ('pname', 'Enduring Love'), ('data', '1997-01-01T00:00:00Z'), ('genre', 'http://www.wikidata.org/entity/Q8261')]\n",
      "[('book', 'http://www.wikidata.org/entity/Q1754953'), ('pname', 'The Comfort of Strangers'), ('data', '1981-01-01T00:00:00Z'), ('genre', 'http://www.wikidata.org/entity/Q8261')]\n",
      "[('book', 'http://www.wikidata.org/entity/Q1747269'), ('pname', 'The Child in Time'), ('data', '1987-01-01T00:00:00Z'), ('genre', 'http://www.wikidata.org/entity/Q8261')]\n",
      "[('book', 'http://www.wikidata.org/entity/Q972609'), ('pname', 'Sweet Tooth'), ('data', '2012-01-01T00:00:00Z'), ('genre', 'http://www.wikidata.org/entity/Q8261')]\n",
      "[('book', 'http://www.wikidata.org/entity/Q14395944'), ('pname', 'The Innocent (McEwan novel)'), ('data', '1990-01-01T00:00:00Z'), ('genre', 'http://www.wikidata.org/entity/Q8261')]\n",
      "[('book', 'http://www.wikidata.org/entity/Q3819411'), ('pname', 'The Daydreamer'), ('data', '1994-01-01T00:00:00Z'), ('genre', 'http://www.wikidata.org/entity/Q8261')]\n",
      "[('book', 'http://www.wikidata.org/entity/Q60977819'), ('pname', 'My Purple Scented Novel'), ('data', '2016-01-01T00:00:00Z'), ('genre', 'http://www.wikidata.org/entity/Q8261')]\n"
     ]
    },
    {
     "data": {
      "text/plain": [
       "24"
      ]
     },
     "execution_count": 57,
     "metadata": {},
     "output_type": "execute_result"
    }
   ],
   "source": [
    "#here i find all the writtenworks of the two Authors with publishing data : PGB P577 and genre  PGB P136 which i found in the query before\n",
    "#SBAGLIATA NON GUARDARE\n",
    "queryString = \"\"\"\n",
    "SELECT DISTINCT ?book ?pname ?data ?genre\n",
    "WHERE {\n",
    "{\n",
    "?book wdt:P136 ?genre.\n",
    "?book  wdt:P577 ?data.\n",
    "?book ?r wd:Q47461344.\n",
    "wd:Q214642 ?rel ?book  . \n",
    "\n",
    "?book <http://schema.org/name> ?pname\n",
    "} \n",
    "UNION\n",
    "{\n",
    "?book wdt:P136 ?genre.\n",
    "?book  wdt:P577 ?data.\n",
    "?book wdt:P50 wd:Q190379. \n",
    "\n",
    "?book <http://schema.org/name> ?pname\n",
    "\n",
    "}\n",
    "}\n",
    "\"\"\"\n",
    "\n",
    "print(\"Results\")\n",
    "run_query(queryString)\n",
    "\n"
   ]
  },
  {
   "cell_type": "code",
   "execution_count": 12,
   "id": "3f17a9bc-f1c7-4ba1-b998-d93e9725c91f",
   "metadata": {},
   "outputs": [
    {
     "name": "stdout",
     "output_type": "stream",
     "text": [
      "Results\n",
      "[('book', 'http://www.wikidata.org/entity/Q1951470'), ('pname', 'Mr. Vertigo'), ('data', '1994-04-05T00:00:00Z'), ('genre', 'http://www.wikidata.org/entity/Q8261')]\n",
      "[('book', 'http://www.wikidata.org/entity/Q492991'), ('pname', 'Timbuktu'), ('data', '1999-05-01T00:00:00Z'), ('genre', 'http://www.wikidata.org/entity/Q8261')]\n",
      "[('book', 'http://www.wikidata.org/entity/Q492991'), ('pname', 'Timbuktu'), ('data', '1999-05-01T00:00:00Z'), ('genre', 'http://www.wikidata.org/entity/Q149537')]\n",
      "[('book', 'http://www.wikidata.org/entity/Q581485'), ('pname', 'The Book of Illusions'), ('data', '2002-01-01T00:00:00Z'), ('genre', 'http://www.wikidata.org/entity/Q8261')]\n",
      "[('book', 'http://www.wikidata.org/entity/Q526792'), ('pname', 'Travels in the Scriptorium'), ('data', '2006-01-01T00:00:00Z'), ('genre', 'http://www.wikidata.org/entity/Q8261')]\n",
      "[('book', 'http://www.wikidata.org/entity/Q1817920'), ('pname', 'Man in the Dark'), ('data', '2008-01-01T00:00:00Z'), ('genre', 'http://www.wikidata.org/entity/Q8261')]\n",
      "[('book', 'http://www.wikidata.org/entity/Q1322083'), ('pname', 'Sunset Park'), ('data', '2010-01-01T00:00:00Z'), ('genre', 'http://www.wikidata.org/entity/Q8261')]\n",
      "[('book', 'http://www.wikidata.org/entity/Q1584652'), ('pname', 'Invisible'), ('data', '2009-01-01T00:00:00Z'), ('genre', 'http://www.wikidata.org/entity/Q8261')]\n",
      "[('book', 'http://www.wikidata.org/entity/Q28846426'), ('pname', '4 3 2 1'), ('data', '2017-01-01T00:00:00Z'), ('genre', 'http://www.wikidata.org/entity/Q223945')]\n",
      "[('book', 'http://www.wikidata.org/entity/Q16386002'), ('pname', 'Here and Now: Letters, 2008-2011'), ('data', '2013-01-01T00:00:00Z'), ('genre', 'http://www.wikidata.org/entity/Q2250271')]\n",
      "[('book', 'http://www.wikidata.org/entity/Q1215203'), ('pname', 'The New York Trilogy'), ('data', '1987-01-01T00:00:00Z'), ('genre', 'http://www.wikidata.org/entity/Q6585139')]\n",
      "[('book', 'http://www.wikidata.org/entity/Q1215203'), ('pname', 'The New York Trilogy'), ('data', '1987-01-01T00:00:00Z'), ('genre', 'http://www.wikidata.org/entity/Q8261')]\n",
      "[('book', 'http://www.wikidata.org/entity/Q1506280'), ('pname', 'In the Country of Last Things'), ('data', '1987-01-01T00:00:00Z'), ('genre', 'http://www.wikidata.org/entity/Q12132683')]\n",
      "[('book', 'http://www.wikidata.org/entity/Q1506280'), ('pname', 'In the Country of Last Things'), ('data', '1987-01-01T00:00:00Z'), ('genre', 'http://www.wikidata.org/entity/Q26928598')]\n",
      "[('book', 'http://www.wikidata.org/entity/Q1506280'), ('pname', 'In the Country of Last Things'), ('data', '1987-01-01T00:00:00Z'), ('genre', 'http://www.wikidata.org/entity/Q465821')]\n",
      "[('book', 'http://www.wikidata.org/entity/Q1944147'), ('pname', 'Moon Palace'), ('data', '1989-02-01T00:00:00Z'), ('genre', 'http://www.wikidata.org/entity/Q44563')]\n",
      "[('book', 'http://www.wikidata.org/entity/Q1944147'), ('pname', 'Moon Palace'), ('data', '1989-02-01T00:00:00Z'), ('genre', 'http://www.wikidata.org/entity/Q11661562')]\n",
      "[('book', 'http://www.wikidata.org/entity/Q45823712'), ('pname', 'The Locked Room'), ('data', '1986-01-01T00:00:00Z'), ('genre', 'http://www.wikidata.org/entity/Q8261')]\n",
      "[('book', 'http://www.wikidata.org/entity/Q16887077'), ('pname', 'Winter Journal'), ('data', '2012-08-21T00:00:00Z'), ('genre', 'http://www.wikidata.org/entity/Q8261')]\n",
      "[('book', 'http://www.wikidata.org/entity/Q16887077'), ('pname', 'Winter Journal'), ('data', '2012-08-21T00:00:00Z'), ('genre', 'http://www.wikidata.org/entity/Q112983')]\n",
      "[('book', 'http://www.wikidata.org/entity/Q7766783'), ('pname', 'The Story of My Typewriter'), ('data', '2002-01-01T00:00:00Z'), ('genre', 'http://www.wikidata.org/entity/Q8261')]\n",
      "[('book', 'http://www.wikidata.org/entity/Q1214916'), ('pname', 'The Music of Chance'), ('data', '1990-01-01T00:00:00Z'), ('genre', 'http://www.wikidata.org/entity/Q1328330')]\n",
      "[('book', 'http://www.wikidata.org/entity/Q1214916'), ('pname', 'The Music of Chance'), ('data', '1990-01-01T00:00:00Z'), ('genre', 'http://www.wikidata.org/entity/Q8261')]\n",
      "[('book', 'http://www.wikidata.org/entity/Q1821899'), ('pname', 'Leviathan'), ('data', '1992-01-01T00:00:00Z'), ('genre', 'http://www.wikidata.org/entity/Q208505')]\n",
      "[('book', 'http://www.wikidata.org/entity/Q1821899'), ('pname', 'Leviathan'), ('data', '1992-01-01T00:00:00Z'), ('genre', 'http://www.wikidata.org/entity/Q1328330')]\n",
      "[('book', 'http://www.wikidata.org/entity/Q1821899'), ('pname', 'Leviathan'), ('data', '1992-01-01T00:00:00Z'), ('genre', 'http://www.wikidata.org/entity/Q186424')]\n",
      "[('book', 'http://www.wikidata.org/entity/Q3225069'), ('pname', \"Auggie Wren's Christmas Story\"), ('data', '1990-01-01T00:00:00Z'), ('genre', 'http://www.wikidata.org/entity/Q49084')]\n",
      "[('book', 'http://www.wikidata.org/entity/Q1211751'), ('pname', 'The Brooklyn Follies'), ('data', '2005-01-01T00:00:00Z'), ('genre', 'http://www.wikidata.org/entity/Q8261')]\n",
      "[('book', 'http://www.wikidata.org/entity/Q1258502'), ('pname', 'Oracle Night'), ('data', '2003-01-01T00:00:00Z'), ('genre', 'http://www.wikidata.org/entity/Q8261')]\n",
      "[('book', 'http://www.wikidata.org/entity/Q42185883'), ('pname', 'Man in the Dark'), ('data', '2008-01-01T00:00:00Z'), ('genre', 'http://www.wikidata.org/entity/Q8261')]\n",
      "[('book', 'http://www.wikidata.org/entity/Q5770801'), ('pname', 'City of Glass'), ('data', '1985-01-01T00:00:00Z'), ('genre', 'http://www.wikidata.org/entity/Q8261')]\n",
      "[('book', 'http://www.wikidata.org/entity/Q17027694'), ('pname', 'Report from the Interior'), ('data', '2013-11-19T00:00:00Z'), ('genre', 'http://www.wikidata.org/entity/Q112983')]\n",
      "[('book', 'http://www.wikidata.org/entity/Q1723053'), ('pname', 'Saturday'), ('data', '2005-01-01T00:00:00Z'), ('genre', 'http://www.wikidata.org/entity/Q8261')]\n",
      "[('book', 'http://www.wikidata.org/entity/Q306619'), ('pname', 'Atonement'), ('data', '2001-01-01T00:00:00Z'), ('genre', 'http://www.wikidata.org/entity/Q8261')]\n",
      "[('book', 'http://www.wikidata.org/entity/Q1704438'), ('pname', 'Black Dogs'), ('data', '1992-07-01T00:00:00Z'), ('genre', 'http://www.wikidata.org/entity/Q8261')]\n",
      "[('book', 'http://www.wikidata.org/entity/Q64031447'), ('pname', 'Machines Like Me'), ('data', '2019-01-01T00:00:00Z'), ('genre', 'http://www.wikidata.org/entity/Q8261')]\n",
      "[('book', 'http://www.wikidata.org/entity/Q451491'), ('pname', 'On Chesil Beach'), ('data', '2007-01-01T00:00:00Z'), ('genre', 'http://www.wikidata.org/entity/Q8261')]\n",
      "[('book', 'http://www.wikidata.org/entity/Q1198186'), ('pname', 'The Cement Garden'), ('data', '1978-01-01T00:00:00Z'), ('genre', 'http://www.wikidata.org/entity/Q8261')]\n",
      "[('book', 'http://www.wikidata.org/entity/Q478433'), ('pname', 'Amsterdam'), ('data', '1998-12-01T00:00:00Z'), ('genre', 'http://www.wikidata.org/entity/Q8261')]\n",
      "[('book', 'http://www.wikidata.org/entity/Q18162235'), ('pname', 'The Children Act'), ('data', '2014-09-02T00:00:00Z'), ('genre', 'http://www.wikidata.org/entity/Q8261')]\n",
      "[('book', 'http://www.wikidata.org/entity/Q1531861'), ('pname', 'Solar'), ('data', '2010-03-18T00:00:00Z'), ('genre', 'http://www.wikidata.org/entity/Q8261')]\n",
      "[('book', 'http://www.wikidata.org/entity/Q1755376'), ('pname', 'The Innocent'), ('data', '1990-01-01T00:00:00Z'), ('genre', 'http://www.wikidata.org/entity/Q8261')]\n",
      "[('book', 'http://www.wikidata.org/entity/Q2920448'), ('pname', 'Enduring Love'), ('data', '1997-01-01T00:00:00Z'), ('genre', 'http://www.wikidata.org/entity/Q8261')]\n",
      "[('book', 'http://www.wikidata.org/entity/Q1754953'), ('pname', 'The Comfort of Strangers'), ('data', '1981-01-01T00:00:00Z'), ('genre', 'http://www.wikidata.org/entity/Q8261')]\n",
      "[('book', 'http://www.wikidata.org/entity/Q1747269'), ('pname', 'The Child in Time'), ('data', '1987-01-01T00:00:00Z'), ('genre', 'http://www.wikidata.org/entity/Q8261')]\n",
      "[('book', 'http://www.wikidata.org/entity/Q972609'), ('pname', 'Sweet Tooth'), ('data', '2012-01-01T00:00:00Z'), ('genre', 'http://www.wikidata.org/entity/Q8261')]\n",
      "[('book', 'http://www.wikidata.org/entity/Q14395944'), ('pname', 'The Innocent (McEwan novel)'), ('data', '1990-01-01T00:00:00Z'), ('genre', 'http://www.wikidata.org/entity/Q8261')]\n",
      "[('book', 'http://www.wikidata.org/entity/Q3819411'), ('pname', 'The Daydreamer'), ('data', '1994-01-01T00:00:00Z'), ('genre', 'http://www.wikidata.org/entity/Q8261')]\n",
      "[('book', 'http://www.wikidata.org/entity/Q60977819'), ('pname', 'My Purple Scented Novel'), ('data', '2016-01-01T00:00:00Z'), ('genre', 'http://www.wikidata.org/entity/Q8261')]\n"
     ]
    },
    {
     "data": {
      "text/plain": [
       "49"
      ]
     },
     "execution_count": 12,
     "metadata": {},
     "output_type": "execute_result"
    }
   ],
   "source": [
    "#here i find all the writtenworks of the two Authors with publishing data : PGB P577 and genre  PGB P136 which i found in the query before\n",
    "\n",
    "queryString = \"\"\"\n",
    "SELECT DISTINCT ?book ?pname ?data ?genre\n",
    "WHERE {\n",
    "{\n",
    "?book wdt:P136 ?genre.\n",
    "?book  wdt:P577 ?data.\n",
    "?book wdt:P50 wd:Q214642. \n",
    "\n",
    "?book <http://schema.org/name> ?pname\n",
    "} \n",
    "UNION\n",
    "{\n",
    "?book wdt:P136 ?genre.\n",
    "?book  wdt:P577 ?data.\n",
    "?book wdt:P50 wd:Q190379. \n",
    "\n",
    "?book <http://schema.org/name> ?pname\n",
    "\n",
    "}\n",
    "}\n",
    "\"\"\"\n",
    "\n",
    "print(\"Results\")\n",
    "run_query(queryString)\n",
    "\n"
   ]
  },
  {
   "cell_type": "code",
   "execution_count": 47,
   "id": "188f5540-9870-4944-ae8f-e4ec99c3a591",
   "metadata": {},
   "outputs": [
    {
     "name": "stdout",
     "output_type": "stream",
     "text": [
      "Results\n",
      "The operation failed EndPointInternalError: endpoint returned code 500 and response. \n",
      "\n",
      "Response:\n",
      "b'Virtuoso 22007 Error DT001: Function year needs a datetime, date or time as argument 1, not an arg of type DB_NULL (204)\\n\\nSPARQL query:\\ndefine sql:big-data-const 0\\n#output-format:application/sparql-results+json\\n\\n##-267c3eb429-##\\nPREFIX wd: <http://www.wikidata.org/entity/> \\nPREFIX wdt: <http://www.wikidata.org/prop/direct/> \\nPREFIX sc: <http://schema.org/>\\n\\n\\nSELECT DISTINCT ?book ?book1 ?data ?data1\\nWHERE {\\n{\\n?book  wdt:P577 ?data.\\n?book wdt:P50 wd:Q214642. \\n\\n\\n} \\nUNION\\n{\\n\\n?book1  wdt:P577 ?data1.\\n?book1 wdt:P50 wd:Q190379. \\n\\n\\n\\n}\\nFILTER (year(?data) = year(?data1))\\n}\\n'\n"
     ]
    }
   ],
   "source": [
    "#sbagliata\n",
    "#Did the authors published a book in the same year?\n",
    "queryString = \"\"\"\n",
    "SELECT DISTINCT ?book ?book1 ?data ?data1\n",
    "WHERE {\n",
    "{\n",
    "?book  wdt:P577 ?data.\n",
    "?book wdt:P50 wd:Q214642. \n",
    "\n",
    "\n",
    "} \n",
    "UNION\n",
    "{\n",
    "\n",
    "?book1  wdt:P577 ?data1.\n",
    "?book1 wdt:P50 wd:Q190379. \n",
    "\n",
    "\n",
    "\n",
    "}\n",
    "FILTER (year(?data) = year(?data1))\n",
    "}\n",
    "\"\"\"\n",
    "\n",
    "print(\"Results\")\n",
    "run_query(queryString)\n",
    "\n"
   ]
  },
  {
   "cell_type": "code",
   "execution_count": 49,
   "id": "afac1c26-b279-49c0-96ce-c209fdcff768",
   "metadata": {},
   "outputs": [
    {
     "name": "stdout",
     "output_type": "stream",
     "text": [
      "Results\n",
      "Empty\n"
     ]
    },
    {
     "data": {
      "text/plain": [
       "0"
      ]
     },
     "execution_count": 49,
     "metadata": {},
     "output_type": "execute_result"
    }
   ],
   "source": [
    "#Sbagliata\n",
    "queryString = \"\"\"\n",
    "SELECT DISTINCT ?book ?book1 ?data ?data1\n",
    "WHERE {\n",
    "{\n",
    "?book  wdt:P577 ?data.\n",
    "?book wdt:P50 wd:Q214642. \n",
    "\n",
    "\n",
    "} \n",
    "UNION\n",
    "{\n",
    "\n",
    "?book1  wdt:P577 ?data1.\n",
    "?book1 wdt:P50 wd:Q190379. \n",
    "\n",
    "\n",
    "\n",
    "}\n",
    "FILTER (?data=?data1)\n",
    "}\n",
    "\"\"\"\n",
    "\n",
    "print(\"Results\")\n",
    "run_query(queryString)\n",
    "\n",
    "\n"
   ]
  },
  {
   "cell_type": "code",
   "execution_count": null,
   "id": "27e2d159-c078-4b2e-8c4d-0dabed976e74",
   "metadata": {},
   "outputs": [],
   "source": []
  },
  {
   "cell_type": "code",
   "execution_count": 3,
   "id": "f5197369-c1f5-4ced-bf90-58cfae67523d",
   "metadata": {},
   "outputs": [
    {
     "name": "stdout",
     "output_type": "stream",
     "text": [
      "Results\n",
      "[('book', 'http://www.wikidata.org/entity/Q581485'), ('pname', 'The Book of Illusions')]\n",
      "[('book', 'http://www.wikidata.org/entity/Q1817920'), ('pname', 'Man in the Dark')]\n",
      "[('book', 'http://www.wikidata.org/entity/Q1215203'), ('pname', 'The New York Trilogy')]\n",
      "[('book', 'http://www.wikidata.org/entity/Q1821899'), ('pname', 'Leviathan')]\n",
      "[('book', 'http://www.wikidata.org/entity/Q306619'), ('pname', 'Atonement')]\n",
      "[('book', 'http://www.wikidata.org/entity/Q1198186'), ('pname', 'The Cement Garden')]\n"
     ]
    },
    {
     "data": {
      "text/plain": [
       "6"
      ]
     },
     "execution_count": 3,
     "metadata": {},
     "output_type": "execute_result"
    }
   ],
   "source": [
    "#SBAGLIATA NON GUARDARE\n",
    "#Did the authors published a book in the same year?\n",
    "\n",
    "queryString = \"\"\"\n",
    "SELECT DISTINCT ?book ?pname ?data \n",
    "WHERE {\n",
    "{\n",
    "\n",
    "?book  wdt:P577 ?data1.\n",
    "?book ?r wd:Q47461344.\n",
    "wd:Q214642 ?rel ?book. \n",
    "\n",
    "?book <http://schema.org/name> ?pname\n",
    "} \n",
    "UNION\n",
    "{\n",
    "\n",
    "?book  wdt:P577 ?data2.\n",
    "?book ?r wd:Q47461344.\n",
    "wd:Q190379 ?rel ?book  . \n",
    "\n",
    "?book <http://schema.org/name> ?pname\n",
    "\n",
    "}\n",
    "}\n",
    "\"\"\"\n",
    "\n",
    "print(\"Results\")\n",
    "run_query(queryString)\n"
   ]
  },
  {
   "cell_type": "code",
   "execution_count": 50,
   "id": "d8d8d425-c4ae-4294-967b-a2530f3013ee",
   "metadata": {},
   "outputs": [
    {
     "name": "stdout",
     "output_type": "stream",
     "text": [
      "Results\n",
      "[('book', 'http://www.wikidata.org/entity/Q1951470'), ('data', '1994-04-05T00:00:00Z')]\n",
      "[('book', 'http://www.wikidata.org/entity/Q492991'), ('data', '1999-05-01T00:00:00Z')]\n",
      "[('book', 'http://www.wikidata.org/entity/Q581485'), ('data', '2002-01-01T00:00:00Z')]\n",
      "[('book', 'http://www.wikidata.org/entity/Q526792'), ('data', '2006-01-01T00:00:00Z')]\n",
      "[('book', 'http://www.wikidata.org/entity/Q1817920'), ('data', '2008-01-01T00:00:00Z')]\n",
      "[('book', 'http://www.wikidata.org/entity/Q1322083'), ('data', '2010-01-01T00:00:00Z')]\n",
      "[('book', 'http://www.wikidata.org/entity/Q1584652'), ('data', '2009-01-01T00:00:00Z')]\n",
      "[('book', 'http://www.wikidata.org/entity/Q28846426'), ('data', '2017-01-01T00:00:00Z')]\n",
      "[('book', 'http://www.wikidata.org/entity/Q60412205'), ('data', '2010-01-01T00:00:00Z')]\n",
      "[('book', 'http://www.wikidata.org/entity/Q16386002'), ('data', '2013-01-01T00:00:00Z')]\n",
      "[('book', 'http://www.wikidata.org/entity/Q1215203'), ('data', '1987-01-01T00:00:00Z')]\n",
      "[('book', 'http://www.wikidata.org/entity/Q1506280'), ('data', '1987-01-01T00:00:00Z')]\n",
      "[('book', 'http://www.wikidata.org/entity/Q1944147'), ('data', '1989-02-01T00:00:00Z')]\n",
      "[('book', 'http://www.wikidata.org/entity/Q45823712'), ('data', '1986-01-01T00:00:00Z')]\n",
      "[('book', 'http://www.wikidata.org/entity/Q16887077'), ('data', '2012-08-21T00:00:00Z')]\n",
      "[('book', 'http://www.wikidata.org/entity/Q7766783'), ('data', '2002-01-01T00:00:00Z')]\n",
      "[('book', 'http://www.wikidata.org/entity/Q1214916'), ('data', '1990-01-01T00:00:00Z')]\n",
      "[('book', 'http://www.wikidata.org/entity/Q1821899'), ('data', '1992-01-01T00:00:00Z')]\n",
      "[('book', 'http://www.wikidata.org/entity/Q3225069'), ('data', '1990-01-01T00:00:00Z')]\n",
      "[('book', 'http://www.wikidata.org/entity/Q1211751'), ('data', '2005-01-01T00:00:00Z')]\n",
      "[('book', 'http://www.wikidata.org/entity/Q1258502'), ('data', '2003-01-01T00:00:00Z')]\n",
      "[('book', 'http://www.wikidata.org/entity/Q63105572'), ('data', '2012-05-01T00:00:00Z')]\n",
      "[('book', 'http://www.wikidata.org/entity/Q42185883'), ('data', '2008-01-01T00:00:00Z')]\n",
      "[('book', 'http://www.wikidata.org/entity/Q5770801'), ('data', '1985-01-01T00:00:00Z')]\n",
      "[('book', 'http://www.wikidata.org/entity/Q3786029'), ('data', '2001-01-01T00:00:00Z')]\n",
      "[('book', 'http://www.wikidata.org/entity/Q5123698'), ('data', '1994-01-01T00:00:00Z')]\n",
      "[('book', 'http://www.wikidata.org/entity/Q5123698'), ('data', '2004-01-01T00:00:00Z')]\n",
      "[('book', 'http://www.wikidata.org/entity/Q17027694'), ('data', '2013-11-19T00:00:00Z')]\n",
      "[('book', 'http://www.wikidata.org/entity/Q16653447'), ('data', '1993-01-01T00:00:00Z')]\n",
      "[('book', 'http://www.wikidata.org/entity/Q101092770'), ('data', '1998-01-01T00:00:00Z')]\n",
      "[('book1', 'http://www.wikidata.org/entity/Q1723053'), ('data1', '2005-01-01T00:00:00Z')]\n",
      "[('book1', 'http://www.wikidata.org/entity/Q58883639'), ('data1', '2005-01-01T00:00:00Z')]\n",
      "[('book1', 'http://www.wikidata.org/entity/Q306619'), ('data1', '2001-01-01T00:00:00Z')]\n",
      "[('book1', 'http://www.wikidata.org/entity/Q60411070'), ('data1', '2001-01-01T00:00:00Z')]\n",
      "[('book1', 'http://www.wikidata.org/entity/Q1704438'), ('data1', '1992-07-01T00:00:00Z')]\n",
      "[('book1', 'http://www.wikidata.org/entity/Q64031447'), ('data1', '2019-01-01T00:00:00Z')]\n",
      "[('book1', 'http://www.wikidata.org/entity/Q451491'), ('data1', '2007-01-01T00:00:00Z')]\n",
      "[('book1', 'http://www.wikidata.org/entity/Q1198186'), ('data1', '1978-01-01T00:00:00Z')]\n",
      "[('book1', 'http://www.wikidata.org/entity/Q478433'), ('data1', '1998-12-01T00:00:00Z')]\n",
      "[('book1', 'http://www.wikidata.org/entity/Q18162235'), ('data1', '2014-09-02T00:00:00Z')]\n",
      "[('book1', 'http://www.wikidata.org/entity/Q27940587'), ('data1', '2016-01-01T00:00:00Z')]\n",
      "[('book1', 'http://www.wikidata.org/entity/Q1531861'), ('data1', '2010-03-18T00:00:00Z')]\n",
      "[('book1', 'http://www.wikidata.org/entity/Q1755376'), ('data1', '1990-01-01T00:00:00Z')]\n",
      "[('book1', 'http://www.wikidata.org/entity/Q90699593'), ('data1', '2019-01-01T00:00:00Z')]\n",
      "[('book1', 'http://www.wikidata.org/entity/Q2920448'), ('data1', '1997-01-01T00:00:00Z')]\n",
      "[('book1', 'http://www.wikidata.org/entity/Q1754953'), ('data1', '1981-01-01T00:00:00Z')]\n",
      "[('book1', 'http://www.wikidata.org/entity/Q1747269'), ('data1', '1987-01-01T00:00:00Z')]\n",
      "[('book1', 'http://www.wikidata.org/entity/Q5453216'), ('data1', '1975-01-01T00:00:00Z')]\n",
      "[('book1', 'http://www.wikidata.org/entity/Q972609'), ('data1', '2012-01-01T00:00:00Z')]\n",
      "[('book1', 'http://www.wikidata.org/entity/Q14395944'), ('data1', '1990-01-01T00:00:00Z')]\n",
      "[('book1', 'http://www.wikidata.org/entity/Q16386280'), ('data1', '1978-01-01T00:00:00Z')]\n",
      "[('book1', 'http://www.wikidata.org/entity/Q3819411'), ('data1', '1994-01-01T00:00:00Z')]\n",
      "[('book1', 'http://www.wikidata.org/entity/Q60977819'), ('data1', '2016-01-01T00:00:00Z')]\n"
     ]
    },
    {
     "data": {
      "text/plain": [
       "53"
      ]
     },
     "execution_count": 50,
     "metadata": {},
     "output_type": "execute_result"
    }
   ],
   "source": [
    "#here i return the books and data for the 2 authors \n",
    "#Did the authors published a book in the same year? i get the year of the pubblication for each author \n",
    "queryString = \"\"\"\n",
    "SELECT DISTINCT ?book ?book1 ?data ?data1\n",
    "WHERE {\n",
    "{\n",
    "?book  wdt:P577 ?data.\n",
    "?book wdt:P50 wd:Q214642. \n",
    "\n",
    "\n",
    "} \n",
    "UNION\n",
    "{\n",
    "\n",
    "?book1  wdt:P577 ?data1.\n",
    "?book1 wdt:P50 wd:Q190379. \n",
    "\n",
    "\n",
    "\n",
    "}\n",
    "\n",
    "}\n",
    "\"\"\"\n",
    "\n",
    "print(\"Results\")\n",
    "run_query(queryString)\n",
    "\n"
   ]
  },
  {
   "cell_type": "code",
   "execution_count": null,
   "id": "5f8704a3-f78a-42a6-b9b6-08b01ee25b7b",
   "metadata": {},
   "outputs": [],
   "source": [
    " #here i can easily see that there are several years in common for example in 2010 they both pubblicated Sunset Park and Solar"
   ]
  },
  {
   "cell_type": "code",
   "execution_count": null,
   "id": "dbf48b30-a8c2-44ee-a9ce-a586a4f9d815",
   "metadata": {},
   "outputs": [],
   "source": [
    "#What is the longest period without publishing a book for the two authors?"
   ]
  },
  {
   "cell_type": "code",
   "execution_count": 52,
   "id": "36230206-4caf-4ea4-b961-67400899f6e9",
   "metadata": {},
   "outputs": [
    {
     "name": "stdout",
     "output_type": "stream",
     "text": [
      "Results\n",
      "[('book', 'http://www.wikidata.org/entity/Q28846426'), ('data', '2017-01-01T00:00:00Z')]\n",
      "[('book', 'http://www.wikidata.org/entity/Q17027694'), ('data', '2013-11-19T00:00:00Z')]\n",
      "[('book', 'http://www.wikidata.org/entity/Q16386002'), ('data', '2013-01-01T00:00:00Z')]\n",
      "[('book', 'http://www.wikidata.org/entity/Q16887077'), ('data', '2012-08-21T00:00:00Z')]\n",
      "[('book', 'http://www.wikidata.org/entity/Q63105572'), ('data', '2012-05-01T00:00:00Z')]\n",
      "[('book', 'http://www.wikidata.org/entity/Q1322083'), ('data', '2010-01-01T00:00:00Z')]\n",
      "[('book', 'http://www.wikidata.org/entity/Q60412205'), ('data', '2010-01-01T00:00:00Z')]\n",
      "[('book', 'http://www.wikidata.org/entity/Q1584652'), ('data', '2009-01-01T00:00:00Z')]\n",
      "[('book', 'http://www.wikidata.org/entity/Q1817920'), ('data', '2008-01-01T00:00:00Z')]\n",
      "[('book', 'http://www.wikidata.org/entity/Q42185883'), ('data', '2008-01-01T00:00:00Z')]\n",
      "[('book', 'http://www.wikidata.org/entity/Q526792'), ('data', '2006-01-01T00:00:00Z')]\n",
      "[('book', 'http://www.wikidata.org/entity/Q1211751'), ('data', '2005-01-01T00:00:00Z')]\n",
      "[('book', 'http://www.wikidata.org/entity/Q5123698'), ('data', '2004-01-01T00:00:00Z')]\n",
      "[('book', 'http://www.wikidata.org/entity/Q1258502'), ('data', '2003-01-01T00:00:00Z')]\n",
      "[('book', 'http://www.wikidata.org/entity/Q581485'), ('data', '2002-01-01T00:00:00Z')]\n",
      "[('book', 'http://www.wikidata.org/entity/Q7766783'), ('data', '2002-01-01T00:00:00Z')]\n",
      "[('book', 'http://www.wikidata.org/entity/Q3786029'), ('data', '2001-01-01T00:00:00Z')]\n",
      "[('book', 'http://www.wikidata.org/entity/Q492991'), ('data', '1999-05-01T00:00:00Z')]\n",
      "[('book', 'http://www.wikidata.org/entity/Q101092770'), ('data', '1998-01-01T00:00:00Z')]\n",
      "[('book', 'http://www.wikidata.org/entity/Q1951470'), ('data', '1994-04-05T00:00:00Z')]\n",
      "[('book', 'http://www.wikidata.org/entity/Q5123698'), ('data', '1994-01-01T00:00:00Z')]\n",
      "[('book', 'http://www.wikidata.org/entity/Q16653447'), ('data', '1993-01-01T00:00:00Z')]\n",
      "[('book', 'http://www.wikidata.org/entity/Q1821899'), ('data', '1992-01-01T00:00:00Z')]\n",
      "[('book', 'http://www.wikidata.org/entity/Q1214916'), ('data', '1990-01-01T00:00:00Z')]\n",
      "[('book', 'http://www.wikidata.org/entity/Q3225069'), ('data', '1990-01-01T00:00:00Z')]\n",
      "[('book', 'http://www.wikidata.org/entity/Q1944147'), ('data', '1989-02-01T00:00:00Z')]\n",
      "[('book', 'http://www.wikidata.org/entity/Q1215203'), ('data', '1987-01-01T00:00:00Z')]\n",
      "[('book', 'http://www.wikidata.org/entity/Q1506280'), ('data', '1987-01-01T00:00:00Z')]\n",
      "[('book', 'http://www.wikidata.org/entity/Q45823712'), ('data', '1986-01-01T00:00:00Z')]\n",
      "[('book', 'http://www.wikidata.org/entity/Q5770801'), ('data', '1985-01-01T00:00:00Z')]\n"
     ]
    },
    {
     "data": {
      "text/plain": [
       "30"
      ]
     },
     "execution_count": 52,
     "metadata": {},
     "output_type": "execute_result"
    }
   ],
   "source": [
    "#here i get the books and the publication data for Paul Auster\n",
    "queryString = \"\"\"\n",
    "SELECT DISTINCT ?book ?data \n",
    "WHERE {\n",
    "\n",
    "?book  wdt:P577 ?data.\n",
    "?book wdt:P50 wd:Q214642. \n",
    "\n",
    "\n",
    "\n",
    "\n",
    "\n",
    "}ORDER BY DESC(?data)\n",
    "\"\"\"\n",
    "\n",
    "print(\"Results\")\n",
    "run_query(queryString)\n",
    "\n"
   ]
  },
  {
   "cell_type": "code",
   "execution_count": null,
   "id": "0fa59316-8145-4045-a343-c339ccf8c266",
   "metadata": {},
   "outputs": [],
   "source": [
    "#here i can see that the biggest period without pubblication for Paul Auster is between 1994 and 1998 "
   ]
  },
  {
   "cell_type": "code",
   "execution_count": 53,
   "id": "67461655-4010-4ef6-b600-e2d48b84e6b1",
   "metadata": {},
   "outputs": [
    {
     "name": "stdout",
     "output_type": "stream",
     "text": [
      "Results\n",
      "[('book', 'http://www.wikidata.org/entity/Q64031447'), ('data', '2019-01-01T00:00:00Z')]\n",
      "[('book', 'http://www.wikidata.org/entity/Q90699593'), ('data', '2019-01-01T00:00:00Z')]\n",
      "[('book', 'http://www.wikidata.org/entity/Q27940587'), ('data', '2016-01-01T00:00:00Z')]\n",
      "[('book', 'http://www.wikidata.org/entity/Q60977819'), ('data', '2016-01-01T00:00:00Z')]\n",
      "[('book', 'http://www.wikidata.org/entity/Q18162235'), ('data', '2014-09-02T00:00:00Z')]\n",
      "[('book', 'http://www.wikidata.org/entity/Q972609'), ('data', '2012-01-01T00:00:00Z')]\n",
      "[('book', 'http://www.wikidata.org/entity/Q1531861'), ('data', '2010-03-18T00:00:00Z')]\n",
      "[('book', 'http://www.wikidata.org/entity/Q451491'), ('data', '2007-01-01T00:00:00Z')]\n",
      "[('book', 'http://www.wikidata.org/entity/Q1723053'), ('data', '2005-01-01T00:00:00Z')]\n",
      "[('book', 'http://www.wikidata.org/entity/Q58883639'), ('data', '2005-01-01T00:00:00Z')]\n",
      "[('book', 'http://www.wikidata.org/entity/Q306619'), ('data', '2001-01-01T00:00:00Z')]\n",
      "[('book', 'http://www.wikidata.org/entity/Q60411070'), ('data', '2001-01-01T00:00:00Z')]\n",
      "[('book', 'http://www.wikidata.org/entity/Q478433'), ('data', '1998-12-01T00:00:00Z')]\n",
      "[('book', 'http://www.wikidata.org/entity/Q2920448'), ('data', '1997-01-01T00:00:00Z')]\n",
      "[('book', 'http://www.wikidata.org/entity/Q3819411'), ('data', '1994-01-01T00:00:00Z')]\n",
      "[('book', 'http://www.wikidata.org/entity/Q1704438'), ('data', '1992-07-01T00:00:00Z')]\n",
      "[('book', 'http://www.wikidata.org/entity/Q1755376'), ('data', '1990-01-01T00:00:00Z')]\n",
      "[('book', 'http://www.wikidata.org/entity/Q14395944'), ('data', '1990-01-01T00:00:00Z')]\n",
      "[('book', 'http://www.wikidata.org/entity/Q1747269'), ('data', '1987-01-01T00:00:00Z')]\n",
      "[('book', 'http://www.wikidata.org/entity/Q1754953'), ('data', '1981-01-01T00:00:00Z')]\n",
      "[('book', 'http://www.wikidata.org/entity/Q1198186'), ('data', '1978-01-01T00:00:00Z')]\n",
      "[('book', 'http://www.wikidata.org/entity/Q16386280'), ('data', '1978-01-01T00:00:00Z')]\n",
      "[('book', 'http://www.wikidata.org/entity/Q5453216'), ('data', '1975-01-01T00:00:00Z')]\n"
     ]
    },
    {
     "data": {
      "text/plain": [
       "23"
      ]
     },
     "execution_count": 53,
     "metadata": {},
     "output_type": "execute_result"
    }
   ],
   "source": [
    "#here i get the books and the publication data for Ian McEwan\n",
    "queryString = \"\"\"\n",
    "SELECT DISTINCT ?book ?data \n",
    "WHERE {\n",
    "\n",
    "?book  wdt:P577 ?data.\n",
    "?book wdt:P50 wd:Q190379. \n",
    "\n",
    "\n",
    "\n",
    "\n",
    "\n",
    "}ORDER BY DESC(?data)\n",
    "\"\"\"\n",
    "\n",
    "print(\"Results\")\n",
    "run_query(queryString)\n",
    "\n"
   ]
  },
  {
   "cell_type": "code",
   "execution_count": null,
   "id": "ab69e6f2-f507-4caa-84a5-b36645ce2e56",
   "metadata": {},
   "outputs": [],
   "source": [
    "#here i can see that the biggest period without pubblications is between 1981 and 1987 for  Ian McEwan"
   ]
  },
  {
   "cell_type": "code",
   "execution_count": null,
   "id": "7a65e708-5ebb-41a1-86aa-b66d0476c953",
   "metadata": {},
   "outputs": [],
   "source": [
    "#Did the authors produced, acted or directed a film? If so, did they write the screenplay? P57 P162"
   ]
  },
  {
   "cell_type": "code",
   "execution_count": 31,
   "id": "0b58ed23-f81a-4640-b8a9-0491976bbecf",
   "metadata": {},
   "outputs": [
    {
     "name": "stdout",
     "output_type": "stream",
     "text": [
      "Results\n",
      "[('rel', 'http://www.wikidata.org/prop/direct/P1005'), ('rname', 'Portuguese National Library ID'), ('b', '72675')]\n",
      "[('rel', 'http://www.wikidata.org/prop/direct/P1006'), ('rname', 'Nationale Thesaurus voor Auteurs ID'), ('b', '072139331')]\n",
      "[('rel', 'http://www.wikidata.org/prop/direct/P101'), ('rname', 'field of work'), ('b', 'http://www.wikidata.org/entity/Q8242')]\n",
      "[('rel', 'http://www.wikidata.org/prop/direct/P1015'), ('rname', 'NORAF ID'), ('b', '90118966')]\n",
      "[('rel', 'http://www.wikidata.org/prop/direct/P106'), ('rname', 'occupation'), ('b', 'http://www.wikidata.org/entity/Q11774202')]\n",
      "[('rel', 'http://www.wikidata.org/prop/direct/P106'), ('rname', 'occupation'), ('b', 'http://www.wikidata.org/entity/Q14467526')]\n",
      "[('rel', 'http://www.wikidata.org/prop/direct/P106'), ('rname', 'occupation'), ('b', 'http://www.wikidata.org/entity/Q1622272')]\n",
      "[('rel', 'http://www.wikidata.org/prop/direct/P106'), ('rname', 'occupation'), ('b', 'http://www.wikidata.org/entity/Q18814623')]\n",
      "[('rel', 'http://www.wikidata.org/prop/direct/P106'), ('rname', 'occupation'), ('b', 'http://www.wikidata.org/entity/Q2526255')]\n",
      "[('rel', 'http://www.wikidata.org/prop/direct/P106'), ('rname', 'occupation'), ('b', 'http://www.wikidata.org/entity/Q28389')]\n",
      "[('rel', 'http://www.wikidata.org/prop/direct/P106'), ('rname', 'occupation'), ('b', 'http://www.wikidata.org/entity/Q333634')]\n",
      "[('rel', 'http://www.wikidata.org/prop/direct/P106'), ('rname', 'occupation'), ('b', 'http://www.wikidata.org/entity/Q36180')]\n",
      "[('rel', 'http://www.wikidata.org/prop/direct/P106'), ('rname', 'occupation'), ('b', 'http://www.wikidata.org/entity/Q482980')]\n",
      "[('rel', 'http://www.wikidata.org/prop/direct/P106'), ('rname', 'occupation'), ('b', 'http://www.wikidata.org/entity/Q49757')]\n",
      "[('rel', 'http://www.wikidata.org/prop/direct/P106'), ('rname', 'occupation'), ('b', 'http://www.wikidata.org/entity/Q6625963')]\n",
      "[('rel', 'http://www.wikidata.org/prop/direct/P108'), ('rname', 'employer'), ('b', 'http://www.wikidata.org/entity/Q49088')]\n",
      "[('rel', 'http://www.wikidata.org/prop/direct/P1150'), ('rname', 'Regensburg Classification'), ('b', 'HU 3080')]\n",
      "[('rel', 'http://www.wikidata.org/prop/direct/P1207'), ('rname', 'NUKAT ID'), ('b', 'n96022626')]\n",
      "[('rel', 'http://www.wikidata.org/prop/direct/P1233'), ('rname', 'Internet Speculative Fiction Database author ID'), ('b', '2789')]\n",
      "[('rel', 'http://www.wikidata.org/prop/direct/P1263'), ('rname', 'NNDB people ID'), ('b', '454/000033355')]\n",
      "[('rel', 'http://www.wikidata.org/prop/direct/P1266'), ('rname', 'AlloCiné person ID'), ('b', '22187')]\n",
      "[('rel', 'http://www.wikidata.org/prop/direct/P1273'), ('rname', 'CANTIC ID'), ('b', 'a10432097')]\n",
      "[('rel', 'http://www.wikidata.org/prop/direct/P1280'), ('rname', 'CONOR.SI ID'), ('b', '9698915')]\n",
      "[('rel', 'http://www.wikidata.org/prop/direct/P1284'), ('rname', 'Munzinger person ID'), ('b', '00000019810')]\n",
      "[('rel', 'http://www.wikidata.org/prop/direct/P1289'), ('rname', 'Kritisches Lexikon zur fremdsprachigen Gegenwartsliteratur ID'), ('b', '18000000033')]\n",
      "[('rel', 'http://www.wikidata.org/prop/direct/P1296'), ('rname', 'Gran Enciclopèdia Catalana ID'), ('b', '0241019')]\n",
      "[('rel', 'http://www.wikidata.org/prop/direct/P1309'), ('rname', 'EGAXA ID'), ('b', 'vtls002620546')]\n",
      "[('rel', 'http://www.wikidata.org/prop/direct/P1315'), ('rname', 'NLA Trove ID'), ('b', '1284869')]\n",
      "[('rel', 'http://www.wikidata.org/prop/direct/P1317'), ('rname', 'floruit'), ('b', '2006-01-01T00:00:00Z')]\n",
      "[('rel', 'http://www.wikidata.org/prop/direct/P1343'), ('rname', 'described by source'), ('b', 'http://www.wikidata.org/entity/Q67311526')]\n",
      "[('rel', 'http://www.wikidata.org/prop/direct/P136'), ('rname', 'genre'), ('b', 'http://www.wikidata.org/entity/Q676')]\n",
      "[('rel', 'http://www.wikidata.org/prop/direct/P1368'), ('rname', 'LNB ID'), ('b', '000004016')]\n",
      "[('rel', 'http://www.wikidata.org/prop/direct/P1412'), ('rname', 'languages spoken, written or signed'), ('b', 'http://www.wikidata.org/entity/Q150')]\n",
      "[('rel', 'http://www.wikidata.org/prop/direct/P1412'), ('rname', 'languages spoken, written or signed'), ('b', 'http://www.wikidata.org/entity/Q1860')]\n",
      "[('rel', 'http://www.wikidata.org/prop/direct/P1417'), ('rname', 'Encyclopædia Britannica Online ID'), ('b', 'biography/Paul-Auster')]\n",
      "[('rel', 'http://www.wikidata.org/prop/direct/P1559'), ('rname', 'name in native language'), ('b', 'Paul Auster')]\n",
      "[('rel', 'http://www.wikidata.org/prop/direct/P1580'), ('rname', 'University of Barcelona authority ID'), ('b', 'a1273290')]\n",
      "[('rel', 'http://www.wikidata.org/prop/direct/P166'), ('rname', 'award received'), ('b', 'http://www.wikidata.org/entity/Q13452531')]\n",
      "[('rel', 'http://www.wikidata.org/prop/direct/P166'), ('rname', 'award received'), ('b', 'http://www.wikidata.org/entity/Q3332454')]\n",
      "[('rel', 'http://www.wikidata.org/prop/direct/P166'), ('rname', 'award received'), ('b', 'http://www.wikidata.org/entity/Q52382875')]\n",
      "[('rel', 'http://www.wikidata.org/prop/direct/P166'), ('rname', 'award received'), ('b', 'http://www.wikidata.org/entity/Q1188661')]\n",
      "[('rel', 'http://www.wikidata.org/prop/direct/P166'), ('rname', 'award received'), ('b', 'http://www.wikidata.org/entity/Q3405076')]\n",
      "[('rel', 'http://www.wikidata.org/prop/direct/P1695'), ('rname', 'NLP ID (unique)'), ('b', 'A11862105')]\n",
      "[('rel', 'http://www.wikidata.org/prop/direct/P1728'), ('rname', 'AllMusic artist ID'), ('b', 'mn0002055384')]\n",
      "[('rel', 'http://www.wikidata.org/prop/direct/P1741'), ('rname', 'GTAA ID'), ('b', '220930')]\n",
      "[('rel', 'http://www.wikidata.org/prop/direct/P18'), ('rname', 'image'), ('b', 'http://commons.wikimedia.org/wiki/Special:FilePath/Paul%20Auster%20in%20New%20York%20City%202008.jpg')]\n",
      "[('rel', 'http://www.wikidata.org/prop/direct/P19'), ('rname', 'place of birth'), ('b', 'http://www.wikidata.org/entity/Q25395')]\n",
      "[('rel', 'http://www.wikidata.org/prop/direct/P1953'), ('rname', 'Discogs artist ID'), ('b', '476763')]\n",
      "[('rel', 'http://www.wikidata.org/prop/direct/P1969'), ('rname', 'MovieMeter director ID (former scheme)'), ('b', '9902')]\n",
      "[('rel', 'http://www.wikidata.org/prop/direct/P1977'), ('rname', 'Les Archives du Spectacle Person ID'), ('b', '59304')]\n",
      "[('rel', 'http://www.wikidata.org/prop/direct/P2013'), ('rname', 'Facebook ID'), ('b', 'auster.paul')]\n",
      "[('rel', 'http://www.wikidata.org/prop/direct/P2019'), ('rname', 'AllMovie person ID'), ('b', 'p188298')]\n",
      "[('rel', 'http://www.wikidata.org/prop/direct/P2031'), ('rname', 'work period (start)'), ('b', '1974-01-01T00:00:00Z')]\n",
      "[('rel', 'http://www.wikidata.org/prop/direct/P21'), ('rname', 'sex or gender'), ('b', 'http://www.wikidata.org/entity/Q6581097')]\n",
      "[('rel', 'http://www.wikidata.org/prop/direct/P213'), ('rname', 'ISNI'), ('b', '0000 0001 2147 6081')]\n",
      "[('rel', 'http://www.wikidata.org/prop/direct/P214'), ('rname', 'VIAF ID'), ('b', '110344312')]\n",
      "[('rel', 'http://www.wikidata.org/prop/direct/P2163'), ('rname', 'FAST ID'), ('b', '84658')]\n",
      "[('rel', 'http://www.wikidata.org/prop/direct/P2168'), ('rname', 'Swedish Film Database person ID'), ('b', '213917')]\n",
      "[('rel', 'http://www.wikidata.org/prop/direct/P2174'), ('rname', 'Museum of Modern Art artist ID'), ('b', '35433')]\n",
      "[('rel', 'http://www.wikidata.org/prop/direct/P2188'), ('rname', 'BiblioNet author ID'), ('b', '31158')]\n",
      "[('rel', 'http://www.wikidata.org/prop/direct/P2191'), ('rname', 'Vegetti Catalog of Fantastic Literature NILF ID'), ('b', '10160')]\n",
      "[('rel', 'http://www.wikidata.org/prop/direct/P227'), ('rname', 'GND ID'), ('b', '11910251X')]\n",
      "[('rel', 'http://www.wikidata.org/prop/direct/P2387'), ('rname', 'Elonet person ID'), ('b', '164618')]\n",
      "[('rel', 'http://www.wikidata.org/prop/direct/P2435'), ('rname', 'PORT person ID'), ('b', '23254')]\n",
      "[('rel', 'http://www.wikidata.org/prop/direct/P244'), ('rname', 'Library of Congress authority ID'), ('b', 'n81151642')]\n",
      "[('rel', 'http://www.wikidata.org/prop/direct/P245'), ('rname', 'Union List of Artist Names ID'), ('b', '500388357')]\n",
      "[('rel', 'http://www.wikidata.org/prop/direct/P2519'), ('rname', 'Scope.dk person ID'), ('b', '9825')]\n",
      "[('rel', 'http://www.wikidata.org/prop/direct/P26'), ('rname', 'spouse'), ('b', 'http://www.wikidata.org/entity/Q1280035')]\n",
      "[('rel', 'http://www.wikidata.org/prop/direct/P26'), ('rname', 'spouse'), ('b', 'http://www.wikidata.org/entity/Q259543')]\n",
      "[('rel', 'http://www.wikidata.org/prop/direct/P2604'), ('rname', 'Kinopoisk person ID'), ('b', '53773')]\n",
      "[('rel', 'http://www.wikidata.org/prop/direct/P2605'), ('rname', 'ČSFD person ID'), ('b', '3969')]\n",
      "[('rel', 'http://www.wikidata.org/prop/direct/P2626'), ('rname', 'Danish National Filmography person ID'), ('b', '144092')]\n",
      "[('rel', 'http://www.wikidata.org/prop/direct/P2638'), ('rname', 'TV.com ID'), ('b', 'people/paul-auster')]\n",
      "[('rel', 'http://www.wikidata.org/prop/direct/P268'), ('rname', 'Bibliothèque nationale de France ID'), ('b', '13091337v')]\n",
      "[('rel', 'http://www.wikidata.org/prop/direct/P269'), ('rname', 'IdRef ID'), ('b', '026697203')]\n",
      "[('rel', 'http://www.wikidata.org/prop/direct/P27'), ('rname', 'country of citizenship'), ('b', 'http://www.wikidata.org/entity/Q30')]\n",
      "[('rel', 'http://www.wikidata.org/prop/direct/P271'), ('rname', 'CiNii author ID (books)'), ('b', 'DA03307098')]\n",
      "[('rel', 'http://www.wikidata.org/prop/direct/P2734'), ('rname', 'Unz Review author ID'), ('b', 'AusterPaul')]\n",
      "[('rel', 'http://www.wikidata.org/prop/direct/P2924'), ('rname', 'Great Russian Encyclopedia Online ID'), ('b', '2681880')]\n",
      "[('rel', 'http://www.wikidata.org/prop/direct/P2963'), ('rname', 'Goodreads author ID'), ('b', '296961')]\n",
      "[('rel', 'http://www.wikidata.org/prop/direct/P31'), ('rname', 'instance of'), ('b', 'http://www.wikidata.org/entity/Q5')]\n",
      "[('rel', 'http://www.wikidata.org/prop/direct/P3154'), ('rname', 'Runeberg author ID'), ('b', 'austepau')]\n",
      "[('rel', 'http://www.wikidata.org/prop/direct/P3192'), ('rname', 'Last.fm ID'), ('b', 'Paul+Auster')]\n",
      "[('rel', 'http://www.wikidata.org/prop/direct/P3219'), ('rname', 'Encyclopædia Universalis ID'), ('b', 'paul-auster')]\n",
      "[('rel', 'http://www.wikidata.org/prop/direct/P3222'), ('rname', 'NE.se ID'), ('b', 'paul-auster')]\n",
      "[('rel', 'http://www.wikidata.org/prop/direct/P3348'), ('rname', 'National Library of Greece ID'), ('b', '178541')]\n",
      "[('rel', 'http://www.wikidata.org/prop/direct/P3365'), ('rname', 'Treccani ID'), ('b', 'paul-auster')]\n",
      "[('rel', 'http://www.wikidata.org/prop/direct/P3430'), ('rname', 'SNAC ARK ID'), ('b', 'w6jd50fn')]\n",
      "[('rel', 'http://www.wikidata.org/prop/direct/P345'), ('rname', 'IMDb ID'), ('b', 'nm0000808')]\n",
      "[('rel', 'http://www.wikidata.org/prop/direct/P349'), ('rname', 'National Diet Library ID'), ('b', '00462563')]\n",
      "[('rel', 'http://www.wikidata.org/prop/direct/P3569'), ('rname', 'Cultureel Woordenboek ID'), ('b', 'literatuur-internationaal/paul-auster')]\n",
      "[('rel', 'http://www.wikidata.org/prop/direct/P3630'), ('rname', 'Babelio author ID'), ('b', '2660')]\n",
      "[('rel', 'http://www.wikidata.org/prop/direct/P373'), ('rname', 'Commons category'), ('b', 'Paul Auster')]\n",
      "[('rel', 'http://www.wikidata.org/prop/direct/P396'), ('rname', 'SBN author ID'), ('b', 'IT\\\\ICCU\\\\CFIV\\\\074948')]\n",
      "[('rel', 'http://www.wikidata.org/prop/direct/P3987'), ('rname', 'SHARE Catalogue author ID'), ('b', '174671')]\n",
      "[('rel', 'http://www.wikidata.org/prop/direct/P40'), ('rname', 'child'), ('b', 'http://www.wikidata.org/entity/Q445905')]\n",
      "[('rel', 'http://www.wikidata.org/prop/direct/P409'), ('rname', 'Libraries Australia ID'), ('b', '36546797')]\n",
      "[('rel', 'http://www.wikidata.org/prop/direct/P4293'), ('rname', 'PM20 folder ID'), ('b', 'pe/000776')]\n",
      "[('rel', 'http://www.wikidata.org/prop/direct/P434'), ('rname', 'MusicBrainz artist ID'), ('b', 'aa8f33f2-18c2-4617-be17-ad8231a950b3')]\n",
      "[('rel', 'http://www.wikidata.org/prop/direct/P4342'), ('rname', 'Store norske leksikon ID'), ('b', 'Paul_Auster')]\n",
      "[('rel', 'http://www.wikidata.org/prop/direct/P4399'), ('rname', 'Itaú Cultural ID'), ('b', 'pessoa374591/paul-auster')]\n",
      "[('rel', 'http://www.wikidata.org/prop/direct/P463'), ('rname', 'member of'), ('b', 'http://www.wikidata.org/entity/Q7118978')]\n",
      "[('rel', 'http://www.wikidata.org/prop/direct/P463'), ('rname', 'member of'), ('b', 'http://www.wikidata.org/entity/Q463303')]\n",
      "[('rel', 'http://www.wikidata.org/prop/direct/P463'), ('rname', 'member of'), ('b', 'http://www.wikidata.org/entity/Q463281')]\n",
      "[('rel', 'http://www.wikidata.org/prop/direct/P4657'), ('rname', 'The Numbers person ID'), ('b', '281880401')]\n",
      "[('rel', 'http://www.wikidata.org/prop/direct/P4666'), ('rname', 'CineMagia person ID'), ('b', '12216')]\n",
      "[('rel', 'http://www.wikidata.org/prop/direct/P4985'), ('rname', 'TMDb person ID'), ('b', '46391')]\n",
      "[('rel', 'http://www.wikidata.org/prop/direct/P5019'), ('rname', 'Brockhaus Enzyklopädie online ID'), ('b', 'auster-paul')]\n",
      "[('rel', 'http://www.wikidata.org/prop/direct/P5034'), ('rname', 'National Library of Korea ID'), ('b', 'KAC199601202')]\n",
      "[('rel', 'http://www.wikidata.org/prop/direct/P5068'), ('rname', 'Flanders Arts Institute person ID'), ('b', '1895796')]\n",
      "[('rel', 'http://www.wikidata.org/prop/direct/P5357'), ('rname', 'The Encyclopedia of Science Fiction ID'), ('b', 'auster_paul')]\n",
      "[('rel', 'http://www.wikidata.org/prop/direct/P5377'), ('rname', 'Étonnants voyageurs participant ID'), ('b', '593')]\n",
      "[('rel', 'http://www.wikidata.org/prop/direct/P5408'), ('rname', 'Fantastic Fiction author ID'), ('b', 'a/paul-auster')]\n",
      "[('rel', 'http://www.wikidata.org/prop/direct/P5414'), ('rname', 'The Paris Review interviewee ID'), ('b', '121')]\n",
      "[('rel', 'http://www.wikidata.org/prop/direct/P5419'), ('rname', 'NYRB contributor ID'), ('b', 'paul-auster')]\n",
      "[('rel', 'http://www.wikidata.org/prop/direct/P5491'), ('rname', \"BD Gest' author ID\"), ('b', '17730')]\n",
      "[('rel', 'http://www.wikidata.org/prop/direct/P5570'), ('rname', 'NooSFere author ID'), ('b', '-48485')]\n",
      "[('rel', 'http://www.wikidata.org/prop/direct/P5587'), ('rname', 'Libris-URI'), ('b', 'fcrtwjwz00xdb76')]\n",
      "[('rel', 'http://www.wikidata.org/prop/direct/P5617'), ('rname', 'Evene ID'), ('b', 'paul-auster-1230')]\n",
      "[('rel', 'http://www.wikidata.org/prop/direct/P569'), ('rname', 'date of birth'), ('b', '1947-02-03T00:00:00Z')]\n",
      "[('rel', 'http://www.wikidata.org/prop/direct/P5739'), ('rname', 'Pontificia Università della Santa Croce ID'), ('b', '4589')]\n",
      "[('rel', 'http://www.wikidata.org/prop/direct/P5821'), ('rname', 'ArhivX LOD'), ('b', '6657')]\n",
      "[('rel', 'http://www.wikidata.org/prop/direct/P5882'), ('rname', 'Muziekweb performer ID'), ('b', 'M00000022287')]\n",
      "[('rel', 'http://www.wikidata.org/prop/direct/P6173'), ('rname', 'Bitraga author ID'), ('b', '790')]\n",
      "[('rel', 'http://www.wikidata.org/prop/direct/P6379'), ('rname', 'has works in the collection'), ('b', 'http://www.wikidata.org/entity/Q188740')]\n",
      "[('rel', 'http://www.wikidata.org/prop/direct/P646'), ('rname', 'Freebase ID'), ('b', '/m/0683n')]\n",
      "[('rel', 'http://www.wikidata.org/prop/direct/P648'), ('rname', 'Open Library ID'), ('b', 'OL190100A')]\n",
      "[('rel', 'http://www.wikidata.org/prop/direct/P648'), ('rname', 'Open Library ID'), ('b', 'OL4944759A')]\n",
      "[('rel', 'http://www.wikidata.org/prop/direct/P650'), ('rname', 'RKDartists ID'), ('b', '380914')]\n",
      "[('rel', 'http://www.wikidata.org/prop/direct/P6844'), ('rname', 'abART person ID'), ('b', '152138')]\n",
      "[('rel', 'http://www.wikidata.org/prop/direct/P69'), ('rname', 'educated at'), ('b', 'http://www.wikidata.org/entity/Q49088')]\n",
      "[('rel', 'http://www.wikidata.org/prop/direct/P69'), ('rname', 'educated at'), ('b', 'http://www.wikidata.org/entity/Q5149722')]\n",
      "[('rel', 'http://www.wikidata.org/prop/direct/P691'), ('rname', 'NKCR AUT ID'), ('b', 'jo20000080478')]\n",
      "[('rel', 'http://www.wikidata.org/prop/direct/P7084'), ('rname', 'related category'), ('b', 'http://www.wikidata.org/entity/Q7510954')]\n",
      "[('rel', 'http://www.wikidata.org/prop/direct/P723'), ('rname', 'Digitale Bibliotheek voor de Nederlandse Letteren author ID'), ('b', 'aust004')]\n",
      "[('rel', 'http://www.wikidata.org/prop/direct/P7293'), ('rname', 'PLWABN ID'), ('b', '9810660639305606')]\n",
      "[('rel', 'http://www.wikidata.org/prop/direct/P734'), ('rname', 'family name'), ('b', 'http://www.wikidata.org/entity/Q16479919')]\n",
      "[('rel', 'http://www.wikidata.org/prop/direct/P735'), ('rname', 'given name'), ('b', 'http://www.wikidata.org/entity/Q4925623')]\n",
      "[('rel', 'http://www.wikidata.org/prop/direct/P742'), ('rname', 'pseudonym'), ('b', 'Paul Benjamin')]\n",
      "[('rel', 'http://www.wikidata.org/prop/direct/P7433'), ('rname', 'FantLab author ID'), ('b', '4155')]\n",
      "[('rel', 'http://www.wikidata.org/prop/direct/P7704'), ('rname', 'Europeana entity'), ('b', 'agent/base/60215')]\n",
      "[('rel', 'http://www.wikidata.org/prop/direct/P7763'), ('rname', 'copyright status as a creator'), ('b', 'http://www.wikidata.org/entity/Q73555012')]\n",
      "[('rel', 'http://www.wikidata.org/prop/direct/P7859'), ('rname', 'WorldCat Identities ID'), ('b', 'lccn-n81151642')]\n",
      "[('rel', 'http://www.wikidata.org/prop/direct/P7865'), ('rname', 'CoBiS author ID'), ('b', '95a5yja38danygu695b5yc1q6gwk8e0')]\n",
      "[('rel', 'http://www.wikidata.org/prop/direct/P7902'), ('rname', 'Deutsche Biographie (GND) ID'), ('b', '11910251X')]\n",
      "[('rel', 'http://www.wikidata.org/prop/direct/P7982'), ('rname', 'Hrvatska enciklopedija ID'), ('b', '4670')]\n",
      "[('rel', 'http://www.wikidata.org/prop/direct/P800'), ('rname', 'notable work'), ('b', 'http://www.wikidata.org/entity/Q581485')]\n",
      "[('rel', 'http://www.wikidata.org/prop/direct/P800'), ('rname', 'notable work'), ('b', 'http://www.wikidata.org/entity/Q1817920')]\n",
      "[('rel', 'http://www.wikidata.org/prop/direct/P800'), ('rname', 'notable work'), ('b', 'http://www.wikidata.org/entity/Q1215203')]\n",
      "[('rel', 'http://www.wikidata.org/prop/direct/P800'), ('rname', 'notable work'), ('b', 'http://www.wikidata.org/entity/Q1821899')]\n",
      "[('rel', 'http://www.wikidata.org/prop/direct/P8349'), ('rname', 'Proleksis enciklopedija ID'), ('b', '51668')]\n",
      "[('rel', 'http://www.wikidata.org/prop/direct/P856'), ('rname', 'official website'), ('b', 'http://paul-auster.com/')]\n",
      "[('rel', 'http://www.wikidata.org/prop/direct/P866'), ('rname', 'Perlentaucher ID'), ('b', 'paul-auster')]\n",
      "[('rel', 'http://www.wikidata.org/prop/direct/P8795'), ('rname', 'General Diamond Catalogue ID'), ('b', '13451')]\n",
      "[('rel', 'http://www.wikidata.org/prop/direct/P8849'), ('rname', 'CONOR.BG ID'), ('b', '17300581')]\n",
      "[('rel', 'http://www.wikidata.org/prop/direct/P8851'), ('rname', 'CONOR.SR ID'), ('b', '7302503')]\n",
      "[('rel', 'http://www.wikidata.org/prop/direct/P8971'), ('rname', 'Cinémathèque québécoise person ID'), ('b', '22264')]\n",
      "[('rel', 'http://www.wikidata.org/prop/direct/P906'), ('rname', 'SELIBR ID'), ('b', '232169')]\n",
      "[('rel', 'http://www.wikidata.org/prop/direct/P910'), ('rname', \"topic's main category\"), ('b', 'http://www.wikidata.org/entity/Q8718676')]\n",
      "[('rel', 'http://www.wikidata.org/prop/direct/P9141'), ('rname', 'Portal da Literatura ID'), ('b', '409')]\n",
      "[('rel', 'http://www.wikidata.org/prop/direct/P9251'), ('rname', 'Cyprus University of Technology ID'), ('b', '90499')]\n",
      "[('rel', 'http://www.wikidata.org/prop/direct/P9322'), ('rname', 'SVKKL authority ID'), ('b', 'p0004911-Auster-Paul-1947')]\n",
      "[('rel', 'http://www.wikidata.org/prop/direct/P950'), ('rname', 'Biblioteca Nacional de España ID'), ('b', 'XX1162838')]\n",
      "[('rel', 'http://www.wikidata.org/prop/direct/P2255'), ('rname', \"Debrett's People of Today ID\"), ('b', '1647')]\n",
      "[('rel', 'http://www.wikidata.org/prop/direct/P5502'), ('rname', 'LRB contributor ID'), ('b', 'ian-mcewan')]\n",
      "[('rel', 'http://www.wikidata.org/prop/direct/P1006'), ('rname', 'Nationale Thesaurus voor Auteurs ID'), ('b', '068842910')]\n",
      "[('rel', 'http://www.wikidata.org/prop/direct/P1015'), ('rname', 'NORAF ID'), ('b', '90068931')]\n",
      "[('rel', 'http://www.wikidata.org/prop/direct/P106'), ('rname', 'occupation'), ('b', 'http://www.wikidata.org/entity/Q214917')]\n",
      "[('rel', 'http://www.wikidata.org/prop/direct/P106'), ('rname', 'occupation'), ('b', 'http://www.wikidata.org/entity/Q3282637')]\n",
      "[('rel', 'http://www.wikidata.org/prop/direct/P108'), ('rname', 'employer'), ('b', 'http://www.wikidata.org/entity/Q193196')]\n",
      "[('rel', 'http://www.wikidata.org/prop/direct/P1150'), ('rname', 'Regensburg Classification'), ('b', 'HN 5830')]\n",
      "[('rel', 'http://www.wikidata.org/prop/direct/P1207'), ('rname', 'NUKAT ID'), ('b', 'n94004859')]\n",
      "[('rel', 'http://www.wikidata.org/prop/direct/P1233'), ('rname', 'Internet Speculative Fiction Database author ID'), ('b', '3539')]\n",
      "[('rel', 'http://www.wikidata.org/prop/direct/P1263'), ('rname', 'NNDB people ID'), ('b', '288/000113946')]\n",
      "[('rel', 'http://www.wikidata.org/prop/direct/P1266'), ('rname', 'AlloCiné person ID'), ('b', '43938')]\n",
      "[('rel', 'http://www.wikidata.org/prop/direct/P1273'), ('rname', 'CANTIC ID'), ('b', 'a10122394')]\n",
      "[('rel', 'http://www.wikidata.org/prop/direct/P1280'), ('rname', 'CONOR.SI ID'), ('b', '7290467')]\n",
      "[('rel', 'http://www.wikidata.org/prop/direct/P1284'), ('rname', 'Munzinger person ID'), ('b', '00000018089')]\n",
      "[('rel', 'http://www.wikidata.org/prop/direct/P1289'), ('rname', 'Kritisches Lexikon zur fremdsprachigen Gegenwartsliteratur ID'), ('b', '18000000302')]\n",
      "[('rel', 'http://www.wikidata.org/prop/direct/P1296'), ('rname', 'Gran Enciclopèdia Catalana ID'), ('b', '0041623')]\n",
      "[('rel', 'http://www.wikidata.org/prop/direct/P1315'), ('rname', 'NLA Trove ID'), ('b', '1235890')]\n",
      "[('rel', 'http://www.wikidata.org/prop/direct/P1343'), ('rname', 'described by source'), ('b', 'http://www.wikidata.org/entity/Q41981607')]\n",
      "[('rel', 'http://www.wikidata.org/prop/direct/P1368'), ('rname', 'LNB ID'), ('b', '000008563')]\n",
      "[('rel', 'http://www.wikidata.org/prop/direct/P140'), ('rname', 'religion'), ('b', 'http://www.wikidata.org/entity/Q7066')]\n",
      "[('rel', 'http://www.wikidata.org/prop/direct/P1411'), ('rname', 'nominated for'), ('b', 'http://www.wikidata.org/entity/Q628637')]\n",
      "[('rel', 'http://www.wikidata.org/prop/direct/P1411'), ('rname', 'nominated for'), ('b', 'http://www.wikidata.org/entity/Q160082')]\n",
      "[('rel', 'http://www.wikidata.org/prop/direct/P1411'), ('rname', 'nominated for'), ('b', 'http://www.wikidata.org/entity/Q1362723')]\n",
      "[('rel', 'http://www.wikidata.org/prop/direct/P1411'), ('rname', 'nominated for'), ('b', 'http://www.wikidata.org/entity/Q2052291')]\n",
      "[('rel', 'http://www.wikidata.org/prop/direct/P1417'), ('rname', 'Encyclopædia Britannica Online ID'), ('b', 'biography/Ian-McEwan')]\n",
      "[('rel', 'http://www.wikidata.org/prop/direct/P1477'), ('rname', 'birth name'), ('b', 'Ian Russell McEwan')]\n",
      "[('rel', 'http://www.wikidata.org/prop/direct/P1559'), ('rname', 'name in native language'), ('b', 'Ian McEwan')]\n",
      "[('rel', 'http://www.wikidata.org/prop/direct/P1580'), ('rname', 'University of Barcelona authority ID'), ('b', 'a1251102')]\n",
      "[('rel', 'http://www.wikidata.org/prop/direct/P1607'), ('rname', 'Dialnet author ID'), ('b', '231484')]\n",
      "[('rel', 'http://www.wikidata.org/prop/direct/P166'), ('rname', 'award received'), ('b', 'http://www.wikidata.org/entity/Q56494487')]\n",
      "[('rel', 'http://www.wikidata.org/prop/direct/P166'), ('rname', 'award received'), ('b', 'http://www.wikidata.org/entity/Q5153503')]\n",
      "[('rel', 'http://www.wikidata.org/prop/direct/P166'), ('rname', 'award received'), ('b', 'http://www.wikidata.org/entity/Q12201477')]\n",
      "[('rel', 'http://www.wikidata.org/prop/direct/P166'), ('rname', 'award received'), ('b', 'http://www.wikidata.org/entity/Q277787')]\n",
      "[('rel', 'http://www.wikidata.org/prop/direct/P166'), ('rname', 'award received'), ('b', 'http://www.wikidata.org/entity/Q39477935')]\n",
      "[('rel', 'http://www.wikidata.org/prop/direct/P166'), ('rname', 'award received'), ('b', 'http://www.wikidata.org/entity/Q15271633')]\n",
      "[('rel', 'http://www.wikidata.org/prop/direct/P166'), ('rname', 'award received'), ('b', 'http://www.wikidata.org/entity/Q160082')]\n",
      "[('rel', 'http://www.wikidata.org/prop/direct/P166'), ('rname', 'award received'), ('b', 'http://www.wikidata.org/entity/Q392586')]\n",
      "[('rel', 'http://www.wikidata.org/prop/direct/P166'), ('rname', 'award received'), ('b', 'http://www.wikidata.org/entity/Q5709276')]\n",
      "[('rel', 'http://www.wikidata.org/prop/direct/P166'), ('rname', 'award received'), ('b', 'http://www.wikidata.org/entity/Q3404580')]\n",
      "[('rel', 'http://www.wikidata.org/prop/direct/P166'), ('rname', 'award received'), ('b', 'http://www.wikidata.org/entity/Q4936657')]\n",
      "[('rel', 'http://www.wikidata.org/prop/direct/P166'), ('rname', 'award received'), ('b', 'http://www.wikidata.org/entity/Q50622024')]\n",
      "[('rel', 'http://www.wikidata.org/prop/direct/P166'), ('rname', 'award received'), ('b', 'http://www.wikidata.org/entity/Q891461')]\n",
      "[('rel', 'http://www.wikidata.org/prop/direct/P166'), ('rname', 'award received'), ('b', 'http://www.wikidata.org/entity/Q7462809')]\n",
      "[('rel', 'http://www.wikidata.org/prop/direct/P1695'), ('rname', 'NLP ID (unique)'), ('b', 'A12333098')]\n",
      "[('rel', 'http://www.wikidata.org/prop/direct/P172'), ('rname', 'ethnic group'), ('b', 'http://www.wikidata.org/entity/Q42406')]\n",
      "[('rel', 'http://www.wikidata.org/prop/direct/P1741'), ('rname', 'GTAA ID'), ('b', '130936')]\n",
      "[('rel', 'http://www.wikidata.org/prop/direct/P18'), ('rname', 'image'), ('b', 'http://commons.wikimedia.org/wiki/Special:FilePath/Ianmcewan.jpg')]\n",
      "[('rel', 'http://www.wikidata.org/prop/direct/P1816'), ('rname', 'National Portrait Gallery (London) person ID'), ('b', 'mp10838')]\n",
      "[('rel', 'http://www.wikidata.org/prop/direct/P19'), ('rname', 'place of birth'), ('b', 'http://www.wikidata.org/entity/Q646980')]\n",
      "[('rel', 'http://www.wikidata.org/prop/direct/P1953'), ('rname', 'Discogs artist ID'), ('b', '1714613')]\n",
      "[('rel', 'http://www.wikidata.org/prop/direct/P1977'), ('rname', 'Les Archives du Spectacle Person ID'), ('b', '142528')]\n",
      "[('rel', 'http://www.wikidata.org/prop/direct/P2013'), ('rname', 'Facebook ID'), ('b', 'Ian-McEwan-305499726425')]\n",
      "[('rel', 'http://www.wikidata.org/prop/direct/P2019'), ('rname', 'AllMovie person ID'), ('b', 'p166662')]\n",
      "[('rel', 'http://www.wikidata.org/prop/direct/P2031'), ('rname', 'work period (start)'), ('b', '1975-01-01T00:00:00Z')]\n",
      "[('rel', 'http://www.wikidata.org/prop/direct/P213'), ('rname', 'ISNI'), ('b', '0000 0001 2032 6858')]\n",
      "[('rel', 'http://www.wikidata.org/prop/direct/P214'), ('rname', 'VIAF ID'), ('b', '109587997')]\n",
      "[('rel', 'http://www.wikidata.org/prop/direct/P2163'), ('rname', 'FAST ID'), ('b', '30517')]\n",
      "[('rel', 'http://www.wikidata.org/prop/direct/P2168'), ('rname', 'Swedish Film Database person ID'), ('b', '194973')]\n",
      "[('rel', 'http://www.wikidata.org/prop/direct/P2190'), ('rname', 'C-SPAN person ID'), ('b', 'ianmcewan')]\n",
      "[('rel', 'http://www.wikidata.org/prop/direct/P227'), ('rname', 'GND ID'), ('b', '119252694')]\n",
      "[('rel', 'http://www.wikidata.org/prop/direct/P2387'), ('rname', 'Elonet person ID'), ('b', '147830')]\n",
      "[('rel', 'http://www.wikidata.org/prop/direct/P2435'), ('rname', 'PORT person ID'), ('b', '138741')]\n",
      "[('rel', 'http://www.wikidata.org/prop/direct/P244'), ('rname', 'Library of Congress authority ID'), ('b', 'n79008865')]\n",
      "[('rel', 'http://www.wikidata.org/prop/direct/P2469'), ('rname', 'Theatricalia person ID'), ('b', '4xp')]\n",
      "[('rel', 'http://www.wikidata.org/prop/direct/P26'), ('rname', 'spouse'), ('b', 'http://www.wikidata.org/entity/Q3243784')]\n",
      "[('rel', 'http://www.wikidata.org/prop/direct/P2604'), ('rname', 'Kinopoisk person ID'), ('b', '77721')]\n",
      "[('rel', 'http://www.wikidata.org/prop/direct/P2605'), ('rname', 'ČSFD person ID'), ('b', '74937')]\n",
      "[('rel', 'http://www.wikidata.org/prop/direct/P2626'), ('rname', 'Danish National Filmography person ID'), ('b', '50159')]\n",
      "[('rel', 'http://www.wikidata.org/prop/direct/P2639'), ('rname', 'Filmportal ID'), ('b', 'becacb8c0b9e4ea78f7c4d7cc920c53c')]\n",
      "[('rel', 'http://www.wikidata.org/prop/direct/P268'), ('rname', 'Bibliothèque nationale de France ID'), ('b', '11913781j')]\n",
      "[('rel', 'http://www.wikidata.org/prop/direct/P269'), ('rname', 'IdRef ID'), ('b', '026999951')]\n",
      "[('rel', 'http://www.wikidata.org/prop/direct/P27'), ('rname', 'country of citizenship'), ('b', 'http://www.wikidata.org/entity/Q145')]\n",
      "[('rel', 'http://www.wikidata.org/prop/direct/P2734'), ('rname', 'Unz Review author ID'), ('b', 'McEwanIan')]\n",
      "[('rel', 'http://www.wikidata.org/prop/direct/P2799'), ('rname', 'BVMC person ID'), ('b', '73701')]\n",
      "[('rel', 'http://www.wikidata.org/prop/direct/P2847'), ('rname', 'Google+ ID'), ('b', '117785341712236831725')]\n",
      "[('rel', 'http://www.wikidata.org/prop/direct/P2963'), ('rname', 'Goodreads author ID'), ('b', '2408')]\n",
      "[('rel', 'http://www.wikidata.org/prop/direct/P3029'), ('rname', 'UK National Archives ID'), ('b', 'F249555')]\n",
      "[('rel', 'http://www.wikidata.org/prop/direct/P3056'), ('rname', 'TCM Movie Database person ID'), ('b', '517229')]\n",
      "[('rel', 'http://www.wikidata.org/prop/direct/P3219'), ('rname', 'Encyclopædia Universalis ID'), ('b', 'ian-mcewan')]\n",
      "[('rel', 'http://www.wikidata.org/prop/direct/P3221'), ('rname', 'New York Times topic ID'), ('b', 'person/ian-mcewan')]\n",
      "[('rel', 'http://www.wikidata.org/prop/direct/P3222'), ('rname', 'NE.se ID'), ('b', 'ian-mcewan')]\n",
      "[('rel', 'http://www.wikidata.org/prop/direct/P3365'), ('rname', 'Treccani ID'), ('b', 'ian-mcewan')]\n",
      "[('rel', 'http://www.wikidata.org/prop/direct/P3430'), ('rname', 'SNAC ARK ID'), ('b', 'w6pc49x5')]\n",
      "[('rel', 'http://www.wikidata.org/prop/direct/P345'), ('rname', 'IMDb ID'), ('b', 'nm0568605')]\n",
      "[('rel', 'http://www.wikidata.org/prop/direct/P349'), ('rname', 'National Diet Library ID'), ('b', '00449425')]\n",
      "[('rel', 'http://www.wikidata.org/prop/direct/P3569'), ('rname', 'Cultureel Woordenboek ID'), ('b', 'literatuur-internationaal/ian-mcewan')]\n",
      "[('rel', 'http://www.wikidata.org/prop/direct/P3630'), ('rname', 'Babelio author ID'), ('b', '2600')]\n",
      "[('rel', 'http://www.wikidata.org/prop/direct/P373'), ('rname', 'Commons category'), ('b', 'Ian McEwan')]\n",
      "[('rel', 'http://www.wikidata.org/prop/direct/P396'), ('rname', 'SBN author ID'), ('b', 'IT\\\\ICCU\\\\CFIV\\\\002042')]\n",
      "[('rel', 'http://www.wikidata.org/prop/direct/P3987'), ('rname', 'SHARE Catalogue author ID'), ('b', '176014')]\n",
      "[('rel', 'http://www.wikidata.org/prop/direct/P4223'), ('rname', \"Treccani's Enciclopedia Italiana ID\"), ('b', 'ian-mcewan')]\n",
      "[('rel', 'http://www.wikidata.org/prop/direct/P4342'), ('rname', 'Store norske leksikon ID'), ('b', 'Ian_McEwan')]\n",
      "[('rel', 'http://www.wikidata.org/prop/direct/P463'), ('rname', 'member of'), ('b', 'http://www.wikidata.org/entity/Q1468277')]\n",
      "[('rel', 'http://www.wikidata.org/prop/direct/P463'), ('rname', 'member of'), ('b', 'http://www.wikidata.org/entity/Q40358')]\n",
      "[('rel', 'http://www.wikidata.org/prop/direct/P4657'), ('rname', 'The Numbers person ID'), ('b', '1424400401')]\n",
      "[('rel', 'http://www.wikidata.org/prop/direct/P4666'), ('rname', 'CineMagia person ID'), ('b', '7928')]\n",
      "[('rel', 'http://www.wikidata.org/prop/direct/P485'), ('rname', 'archives at'), ('b', 'http://www.wikidata.org/entity/Q5671855')]\n",
      "[('rel', 'http://www.wikidata.org/prop/direct/P4985'), ('rname', 'TMDb person ID'), ('b', '36589')]\n",
      "[('rel', 'http://www.wikidata.org/prop/direct/P5019'), ('rname', 'Brockhaus Enzyklopädie online ID'), ('b', 'mcewan-ian')]\n",
      "[('rel', 'http://www.wikidata.org/prop/direct/P5034'), ('rname', 'National Library of Korea ID'), ('b', 'KAC200307499')]\n",
      "[('rel', 'http://www.wikidata.org/prop/direct/P5068'), ('rname', 'Flanders Arts Institute person ID'), ('b', '1890651')]\n",
      "[('rel', 'http://www.wikidata.org/prop/direct/P5357'), ('rname', 'The Encyclopedia of Science Fiction ID'), ('b', 'mcewan_ian')]\n",
      "[('rel', 'http://www.wikidata.org/prop/direct/P5361'), ('rname', 'BNB person ID'), ('b', 'McEwanIan')]\n",
      "[('rel', 'http://www.wikidata.org/prop/direct/P5364'), ('rname', 'British Council writer ID'), ('b', 'ian-mcewan')]\n",
      "[('rel', 'http://www.wikidata.org/prop/direct/P5408'), ('rname', 'Fantastic Fiction author ID'), ('b', 'm/ian-mcewan')]\n",
      "[('rel', 'http://www.wikidata.org/prop/direct/P5414'), ('rname', 'The Paris Review interviewee ID'), ('b', '393')]\n",
      "[('rel', 'http://www.wikidata.org/prop/direct/P5419'), ('rname', 'NYRB contributor ID'), ('b', 'ian-mcewan')]\n",
      "[('rel', 'http://www.wikidata.org/prop/direct/P5570'), ('rname', 'NooSFere author ID'), ('b', '-50351')]\n",
      "[('rel', 'http://www.wikidata.org/prop/direct/P5587'), ('rname', 'Libris-URI'), ('b', 'tr578lhc0v2tmsq')]\n",
      "[('rel', 'http://www.wikidata.org/prop/direct/P5617'), ('rname', 'Evene ID'), ('b', 'ian-mcewan-14972')]\n",
      "[('rel', 'http://www.wikidata.org/prop/direct/P5643'), ('rname', 'RSL author ID'), ('b', 'ian-mcewan-3')]\n",
      "[('rel', 'http://www.wikidata.org/prop/direct/P569'), ('rname', 'date of birth'), ('b', '1948-06-21T00:00:00Z')]\n",
      "[('rel', 'http://www.wikidata.org/prop/direct/P5705'), ('rname', 'Los Angeles Review of Books author ID'), ('b', 'ian-mcewan')]\n",
      "[('rel', 'http://www.wikidata.org/prop/direct/P5739'), ('rname', 'Pontificia Università della Santa Croce ID'), ('b', '52265')]\n",
      "[('rel', 'http://www.wikidata.org/prop/direct/P6104'), ('rname', 'maintained by WikiProject'), ('b', 'http://www.wikidata.org/entity/Q101246526')]\n",
      "[('rel', 'http://www.wikidata.org/prop/direct/P646'), ('rname', 'Freebase ID'), ('b', '/m/01w8sf')]\n",
      "[('rel', 'http://www.wikidata.org/prop/direct/P648'), ('rname', 'Open Library ID'), ('b', 'OL222146A')]\n",
      "[('rel', 'http://www.wikidata.org/prop/direct/P6578'), ('rname', 'MutualArt artist ID'), ('b', '210E8C38547526BE')]\n",
      "[('rel', 'http://www.wikidata.org/prop/direct/P6844'), ('rname', 'abART person ID'), ('b', '112232')]\n",
      "[('rel', 'http://www.wikidata.org/prop/direct/P69'), ('rname', 'educated at'), ('b', 'http://www.wikidata.org/entity/Q1045828')]\n",
      "[('rel', 'http://www.wikidata.org/prop/direct/P69'), ('rname', 'educated at'), ('b', 'http://www.wikidata.org/entity/Q1161297')]\n",
      "[('rel', 'http://www.wikidata.org/prop/direct/P69'), ('rname', 'educated at'), ('b', 'http://www.wikidata.org/entity/Q16903654')]\n",
      "[('rel', 'http://www.wikidata.org/prop/direct/P691'), ('rname', 'NKCR AUT ID'), ('b', 'jn19990005534')]\n",
      "[('rel', 'http://www.wikidata.org/prop/direct/P723'), ('rname', 'Digitale Bibliotheek voor de Nederlandse Letteren author ID'), ('b', 'mcew001')]\n",
      "[('rel', 'http://www.wikidata.org/prop/direct/P7293'), ('rname', 'PLWABN ID'), ('b', '9810598231305606')]\n",
      "[('rel', 'http://www.wikidata.org/prop/direct/P734'), ('rname', 'family name'), ('b', 'http://www.wikidata.org/entity/Q37565995')]\n",
      "[('rel', 'http://www.wikidata.org/prop/direct/P735'), ('rname', 'given name'), ('b', 'http://www.wikidata.org/entity/Q18336315')]\n",
      "[('rel', 'http://www.wikidata.org/prop/direct/P737'), ('rname', 'influenced by'), ('b', 'http://www.wikidata.org/entity/Q187019')]\n",
      "[('rel', 'http://www.wikidata.org/prop/direct/P737'), ('rname', 'influenced by'), ('b', 'http://www.wikidata.org/entity/Q105756')]\n",
      "[('rel', 'http://www.wikidata.org/prop/direct/P737'), ('rname', 'influenced by'), ('b', 'http://www.wikidata.org/entity/Q40909')]\n",
      "[('rel', 'http://www.wikidata.org/prop/direct/P737'), ('rname', 'influenced by'), ('b', 'http://www.wikidata.org/entity/Q905')]\n",
      "[('rel', 'http://www.wikidata.org/prop/direct/P737'), ('rname', 'influenced by'), ('b', 'http://www.wikidata.org/entity/Q83059')]\n",
      "[('rel', 'http://www.wikidata.org/prop/direct/P7400'), ('rname', 'LibraryThing author ID'), ('b', 'mcewanian')]\n",
      "[('rel', 'http://www.wikidata.org/prop/direct/P7433'), ('rname', 'FantLab author ID'), ('b', '8206')]\n",
      "[('rel', 'http://www.wikidata.org/prop/direct/P7666'), ('rname', 'Visuotinė lietuvių enciklopedija ID'), ('b', 'ian-russell-mcewan')]\n",
      "[('rel', 'http://www.wikidata.org/prop/direct/P7704'), ('rname', 'Europeana entity'), ('b', 'agent/base/63402')]\n",
      "[('rel', 'http://www.wikidata.org/prop/direct/P7859'), ('rname', 'WorldCat Identities ID'), ('b', 'lccn-n79008865')]\n",
      "[('rel', 'http://www.wikidata.org/prop/direct/P7865'), ('rname', 'CoBiS author ID'), ('b', '95a5yja38danygu695b5yc1g68r38cg')]\n",
      "[('rel', 'http://www.wikidata.org/prop/direct/P7902'), ('rname', 'Deutsche Biographie (GND) ID'), ('b', '119252694')]\n",
      "[('rel', 'http://www.wikidata.org/prop/direct/P7982'), ('rname', 'Hrvatska enciklopedija ID'), ('b', '39684')]\n",
      "[('rel', 'http://www.wikidata.org/prop/direct/P800'), ('rname', 'notable work'), ('b', 'http://www.wikidata.org/entity/Q306619')]\n",
      "[('rel', 'http://www.wikidata.org/prop/direct/P800'), ('rname', 'notable work'), ('b', 'http://www.wikidata.org/entity/Q1198186')]\n",
      "[('rel', 'http://www.wikidata.org/prop/direct/P8385'), ('rname', 'IDU person ID'), ('b', '63777')]\n",
      "[('rel', 'http://www.wikidata.org/prop/direct/P856'), ('rname', 'official website'), ('b', 'http://www.ianmcewan.com')]\n",
      "[('rel', 'http://www.wikidata.org/prop/direct/P866'), ('rname', 'Perlentaucher ID'), ('b', 'ian-mc-ewan')]\n",
      "[('rel', 'http://www.wikidata.org/prop/direct/P8870'), ('rname', 'Hyperion Records person ID'), ('b', 'C5279')]\n",
      "[('rel', 'http://www.wikidata.org/prop/direct/P8971'), ('rname', 'Cinémathèque québécoise person ID'), ('b', '126932')]\n",
      "[('rel', 'http://www.wikidata.org/prop/direct/P8974'), ('rname', 'SAPA ID'), ('b', 'a/addba3af-9709-4e45-bcc2-447e7b65195b')]\n",
      "[('rel', 'http://www.wikidata.org/prop/direct/P906'), ('rname', 'SELIBR ID'), ('b', '195431')]\n",
      "[('rel', 'http://www.wikidata.org/prop/direct/P910'), ('rname', \"topic's main category\"), ('b', 'http://www.wikidata.org/entity/Q15831559')]\n",
      "[('rel', 'http://www.wikidata.org/prop/direct/P950'), ('rname', 'Biblioteca Nacional de España ID'), ('b', 'XX1724081')]\n",
      "[('rel', 'http://www.wikidata.org/prop/direct/P9743'), ('rname', 'Podchaser creator ID'), ('b', '107aDpMjsD')]\n",
      "[('rel', 'http://www.wikidata.org/prop/direct/P9807'), ('rname', 'SNK ID'), ('b', '151372')]\n",
      "[('rel', 'http://www.wikidata.org/prop/direct/P3346'), ('rname', 'HKMDB person ID'), ('b', '58913')]\n",
      "[('rel', 'http://www.wikidata.org/prop/direct/P9880'), ('rname', 'Festivaletteratura person ID'), ('b', '1385')]\n",
      "[('rel', 'http://www.wikidata.org/prop/direct/P7504'), ('rname', 'Jeugdliteratuur ID'), ('b', 'ian-mcewan')]\n",
      "[('rel', 'http://www.wikidata.org/prop/direct/P5666'), ('rname', 'Quais du polar writer ID'), ('b', 'iain-pears')]\n"
     ]
    },
    {
     "data": {
      "text/plain": [
       "321"
      ]
     },
     "execution_count": 31,
     "metadata": {},
     "output_type": "execute_result"
    }
   ],
   "source": [
    "#here i find all the relationship of the two authors\n",
    "\n",
    "queryString = \"\"\"\n",
    "SELECT DISTINCT ?rel ?rname ?b\n",
    "WHERE { \n",
    "{\n",
    "wd:Q214642 ?rel ?b  . \n",
    "}\n",
    "UNION\n",
    "{\n",
    "wd:Q190379 ?rel ?b.\n",
    "}\n",
    "?rel <http://schema.org/name> ?rname\n",
    "} \n",
    "\n",
    "\"\"\"\n",
    "\n",
    "print(\"Results\")\n",
    "run_query(queryString)"
   ]
  },
  {
   "cell_type": "code",
   "execution_count": 34,
   "id": "6581fcc7-8e58-4809-ad76-1cace17cc720",
   "metadata": {},
   "outputs": [
    {
     "name": "stdout",
     "output_type": "stream",
     "text": [
      "Results\n",
      "[('occupation', 'http://www.wikidata.org/entity/Q11774202'), ('oname', 'essayist')]\n",
      "[('occupation', 'http://www.wikidata.org/entity/Q14467526'), ('oname', 'linguist')]\n",
      "[('occupation', 'http://www.wikidata.org/entity/Q1622272'), ('oname', 'university teacher')]\n",
      "[('occupation', 'http://www.wikidata.org/entity/Q18814623'), ('oname', 'autobiographer')]\n",
      "[('occupation', 'http://www.wikidata.org/entity/Q2526255'), ('oname', 'film director')]\n",
      "[('occupation', 'http://www.wikidata.org/entity/Q28389'), ('oname', 'screenwriter')]\n",
      "[('occupation', 'http://www.wikidata.org/entity/Q333634'), ('oname', 'translator')]\n",
      "[('occupation', 'http://www.wikidata.org/entity/Q36180'), ('oname', 'writer')]\n",
      "[('occupation', 'http://www.wikidata.org/entity/Q482980'), ('oname', 'author')]\n",
      "[('occupation', 'http://www.wikidata.org/entity/Q49757'), ('oname', 'poet')]\n",
      "[('occupation', 'http://www.wikidata.org/entity/Q6625963'), ('oname', 'novelist')]\n",
      "[('occupation', 'http://www.wikidata.org/entity/Q214917'), ('oname', 'playwright')]\n",
      "[('occupation', 'http://www.wikidata.org/entity/Q3282637'), ('oname', 'film producer')]\n"
     ]
    },
    {
     "data": {
      "text/plain": [
       "13"
      ]
     },
     "execution_count": 34,
     "metadata": {},
     "output_type": "execute_result"
    }
   ],
   "source": [
    "#from the previous query i get the IRI for occupation P106 so i can look if they where screen writers\n",
    "#i get all the occupation for the 2 authors\n",
    "\n",
    "\n",
    "queryString = \"\"\"\n",
    "SELECT DISTINCT ?occupation ?oname\n",
    "WHERE { \n",
    "{\n",
    "wd:Q214642 wdt:P106 ?occupation. \n",
    "}\n",
    "UNION\n",
    "{\n",
    "wd:Q190379 wdt:P106 ?occupation.\n",
    "}\n",
    "?occupation <http://schema.org/name> ?oname\n",
    "} \n",
    "\n",
    "\"\"\"\n",
    "\n",
    "print(\"Results\")\n",
    "run_query(queryString)"
   ]
  },
  {
   "cell_type": "code",
   "execution_count": null,
   "id": "95e75674-f9ea-4719-8e1d-96c03988eecf",
   "metadata": {},
   "outputs": [],
   "source": [
    "#i get screenwriter and film producer so they produced a film i get the iri for screen writer Q28389 "
   ]
  },
  {
   "cell_type": "code",
   "execution_count": 40,
   "id": "e58bf993-91a3-4d3c-8730-b7cc0d583557",
   "metadata": {},
   "outputs": [
    {
     "name": "stdout",
     "output_type": "stream",
     "text": [
      "Results\n",
      "[('relation', 'http://www.wikidata.org/prop/direct/P31'), ('rname', 'instance of'), ('b', 'http://www.wikidata.org/entity/Q4220920'), ('bname', 'filmmaking occupation')]\n",
      "[('relation', 'http://www.wikidata.org/prop/direct/P910'), ('rname', \"topic's main category\"), ('b', 'http://www.wikidata.org/entity/Q3920019'), ('bname', 'Category:Screenwriters')]\n",
      "[('relation', 'http://www.wikidata.org/prop/direct/P2868'), ('rname', 'subject has role'), ('b', 'http://www.wikidata.org/entity/Q36180'), ('bname', 'writer')]\n",
      "[('relation', 'http://www.wikidata.org/prop/direct/P279'), ('rname', 'subclass of'), ('b', 'http://www.wikidata.org/entity/Q36180'), ('bname', 'writer')]\n",
      "[('relation', 'http://www.wikidata.org/prop/direct/P425'), ('rname', 'field of this occupation'), ('b', 'http://www.wikidata.org/entity/Q3429919'), ('bname', 'screenwriting')]\n",
      "[('relation', 'http://www.wikidata.org/prop/direct/P1687'), ('rname', 'Wikidata property'), ('b', 'http://www.wikidata.org/entity/P58'), ('bname', 'screenwriter')]\n"
     ]
    },
    {
     "data": {
      "text/plain": [
       "6"
      ]
     },
     "execution_count": 40,
     "metadata": {},
     "output_type": "execute_result"
    }
   ],
   "source": [
    "#here i get all the relationship with screenwriter Q28389\n",
    "queryString = \"\"\"\n",
    "SELECT DISTINCT ?relation ?rname ?b ?bname\n",
    "WHERE { \n",
    "wd:Q28389 ?relation ?b.\n",
    "?relation <http://schema.org/name> ?rname.\n",
    "?b <http://schema.org/name> ?bname.\n",
    "} \n",
    "\n",
    "\"\"\"\n",
    "\n",
    "print(\"Results\")\n",
    "run_query(queryString)"
   ]
  },
  {
   "cell_type": "code",
   "execution_count": null,
   "id": "133533f6-9f98-4cd6-b15d-4b3d12a85f7d",
   "metadata": {},
   "outputs": [],
   "source": [
    "# i get filmaking occupation Q4220920"
   ]
  },
  {
   "cell_type": "code",
   "execution_count": 41,
   "id": "1ad3a404-4fe8-49a3-9b15-2c7e6a58fa6f",
   "metadata": {},
   "outputs": [
    {
     "name": "stdout",
     "output_type": "stream",
     "text": [
      "Results\n",
      "[('relation', 'http://www.wikidata.org/prop/direct/P1687'), ('rname', 'Wikidata property'), ('b', 'http://www.wikidata.org/entity/P3092'), ('bname', 'film crew member')]\n",
      "[('relation', 'http://www.wikidata.org/prop/direct/P3095'), ('rname', 'practiced by'), ('b', 'http://www.wikidata.org/entity/Q1414443'), ('bname', 'filmmaker')]\n",
      "[('relation', 'http://www.wikidata.org/prop/direct/P279'), ('rname', 'subclass of'), ('b', 'http://www.wikidata.org/entity/Q28640'), ('bname', 'profession')]\n",
      "[('relation', 'http://www.wikidata.org/prop/direct/P31'), ('rname', 'instance of'), ('b', 'http://www.wikidata.org/entity/Q19361238'), ('bname', 'Wikidata metaclass')]\n",
      "[('relation', 'http://www.wikidata.org/prop/direct/P1424'), ('rname', \"topic's main template\"), ('b', 'http://www.wikidata.org/entity/Q5871779'), ('bname', 'Template:Infobox filmmaker')]\n",
      "[('relation', 'http://www.wikidata.org/prop/direct/P3095'), ('rname', 'practiced by'), ('b', 'http://www.wikidata.org/entity/Q3406858'), ('bname', 'film professional')]\n",
      "[('relation', 'http://www.wikidata.org/prop/direct/P910'), ('rname', \"topic's main category\"), ('b', 'http://www.wikidata.org/entity/Q9727432'), ('bname', 'Category:Filmmaking occupations')]\n"
     ]
    },
    {
     "data": {
      "text/plain": [
       "7"
      ]
     },
     "execution_count": 41,
     "metadata": {},
     "output_type": "execute_result"
    }
   ],
   "source": [
    "#i get all the relationship with filmaking occupation\n",
    "queryString = \"\"\"\n",
    "SELECT DISTINCT ?relation ?rname ?b ?bname\n",
    "WHERE { \n",
    "wd:Q4220920 ?relation ?b.\n",
    "?relation <http://schema.org/name> ?rname.\n",
    "?b <http://schema.org/name> ?bname.\n",
    "} \n",
    "\n",
    "\"\"\"\n",
    "\n",
    "print(\"Results\")\n",
    "run_query(queryString)"
   ]
  },
  {
   "cell_type": "code",
   "execution_count": 42,
   "id": "dfd13139-cbda-46e5-837a-f6fed4c11edb",
   "metadata": {},
   "outputs": [
    {
     "name": "stdout",
     "output_type": "stream",
     "text": [
      "Results\n",
      "[('relation', 'http://www.wikidata.org/prop/direct/P31'), ('rname', 'instance of'), ('b', 'http://www.wikidata.org/entity/Q4220920'), ('bname', 'filmmaking occupation')]\n",
      "[('relation', 'http://www.wikidata.org/prop/direct/P31'), ('rname', 'instance of'), ('b', 'http://www.wikidata.org/entity/Q47728'), ('bname', 'hobby')]\n",
      "[('relation', 'http://www.wikidata.org/prop/direct/P279'), ('rname', 'subclass of'), ('b', 'http://www.wikidata.org/entity/Q2526255'), ('bname', 'film director')]\n",
      "[('relation', 'http://www.wikidata.org/prop/direct/P279'), ('rname', 'subclass of'), ('b', 'http://www.wikidata.org/entity/Q483501'), ('bname', 'artist')]\n",
      "[('relation', 'http://www.wikidata.org/prop/direct/P361'), ('rname', 'part of'), ('b', 'http://www.wikidata.org/entity/Q932586'), ('bname', 'filmmaking')]\n",
      "[('relation', 'http://www.wikidata.org/prop/direct/P279'), ('rname', 'subclass of'), ('b', 'http://www.wikidata.org/entity/Q3391743'), ('bname', 'visual artist')]\n",
      "[('relation', 'http://www.wikidata.org/prop/direct/P1424'), ('rname', \"topic's main template\"), ('b', 'http://www.wikidata.org/entity/Q5871779'), ('bname', 'Template:Infobox filmmaker')]\n",
      "[('relation', 'http://www.wikidata.org/prop/direct/P31'), ('rname', 'instance of'), ('b', 'http://www.wikidata.org/entity/Q58635633'), ('bname', 'media profession')]\n",
      "[('relation', 'http://www.wikidata.org/prop/direct/P910'), ('rname', \"topic's main category\"), ('b', 'http://www.wikidata.org/entity/Q4365116'), ('bname', 'Category:Filmmakers')]\n",
      "[('relation', 'http://www.wikidata.org/prop/direct/P460'), ('rname', 'said to be the same as'), ('b', 'http://www.wikidata.org/entity/Q60981888'), ('bname', 'cineast')]\n"
     ]
    },
    {
     "data": {
      "text/plain": [
       "10"
      ]
     },
     "execution_count": 42,
     "metadata": {},
     "output_type": "execute_result"
    }
   ],
   "source": [
    "#i get all the relationship with filmaker that i found in the previous query Q1414443\n",
    "queryString = \"\"\"\n",
    "SELECT DISTINCT ?relation ?rname ?b ?bname\n",
    "WHERE { \n",
    "wd:Q1414443 ?relation ?b.\n",
    "?relation <http://schema.org/name> ?rname.\n",
    "?b <http://schema.org/name> ?bname.\n",
    "} \n",
    "\n",
    "\"\"\"\n",
    "\n",
    "print(\"Results\")\n",
    "run_query(queryString)"
   ]
  },
  {
   "cell_type": "code",
   "execution_count": 43,
   "id": "bac702b3-76dd-4169-93f0-adde0a801bad",
   "metadata": {},
   "outputs": [
    {
     "name": "stdout",
     "output_type": "stream",
     "text": [
      "Results\n",
      "[('relation', 'http://www.wikidata.org/prop/direct/P279'), ('rname', 'subclass of'), ('b', 'http://www.wikidata.org/entity/Q21198548'), ('bname', 'audiovisual production')]\n",
      "[('relation', 'http://www.wikidata.org/prop/direct/P1056'), ('rname', 'product or material produced'), ('b', 'http://www.wikidata.org/entity/Q11424'), ('bname', 'film')]\n",
      "[('relation', 'http://www.wikidata.org/prop/direct/P31'), ('rname', 'instance of'), ('b', 'http://www.wikidata.org/entity/Q11862829'), ('bname', 'academic discipline')]\n",
      "[('relation', 'http://www.wikidata.org/prop/direct/P1343'), ('rname', 'described by source'), ('b', 'http://www.wikidata.org/entity/Q2657718'), ('bname', 'Armenian Soviet Encyclopedia')]\n",
      "[('relation', 'http://www.wikidata.org/prop/direct/P3095'), ('rname', 'practiced by'), ('b', 'http://www.wikidata.org/entity/Q3282637'), ('bname', 'film producer')]\n",
      "[('relation', 'http://www.wikidata.org/prop/direct/P279'), ('rname', 'subclass of'), ('b', 'http://www.wikidata.org/entity/Q590870'), ('bname', 'cinematography')]\n",
      "[('relation', 'http://www.wikidata.org/prop/direct/P31'), ('rname', 'instance of'), ('b', 'http://www.wikidata.org/entity/Q8148'), ('bname', 'industry')]\n",
      "[('relation', 'http://www.wikidata.org/prop/direct/P1889'), ('rname', 'different from'), ('b', 'http://www.wikidata.org/entity/Q1415395'), ('bname', 'film industry')]\n",
      "[('relation', 'http://www.wikidata.org/prop/direct/P361'), ('rname', 'part of'), ('b', 'http://www.wikidata.org/entity/Q1415395'), ('bname', 'film industry')]\n",
      "[('relation', 'http://www.wikidata.org/prop/direct/P3095'), ('rname', 'practiced by'), ('b', 'http://www.wikidata.org/entity/Q2867219'), ('bname', 'production assistant')]\n",
      "[('relation', 'http://www.wikidata.org/prop/direct/P3095'), ('rname', 'practiced by'), ('b', 'http://www.wikidata.org/entity/Q21292974'), ('bname', 'production manager')]\n",
      "[('relation', 'http://www.wikidata.org/prop/direct/P3095'), ('rname', 'practiced by'), ('b', 'http://www.wikidata.org/entity/Q1263187'), ('bname', 'script supervisor')]\n",
      "[('relation', 'http://www.wikidata.org/prop/direct/P910'), ('rname', \"topic's main category\"), ('b', 'http://www.wikidata.org/entity/Q7012536'), ('bname', 'Category:Filmmaking')]\n",
      "[('relation', 'http://www.wikidata.org/prop/direct/P3095'), ('rname', 'practiced by'), ('b', 'http://www.wikidata.org/entity/Q96677905'), ('bname', 'organizer of film production')]\n"
     ]
    },
    {
     "data": {
      "text/plain": [
       "14"
      ]
     },
     "execution_count": 43,
     "metadata": {},
     "output_type": "execute_result"
    }
   ],
   "source": [
    "#i get all the relationship whit filmaking Q932586\n",
    "queryString = \"\"\"\n",
    "SELECT DISTINCT ?relation ?rname ?b ?bname\n",
    "WHERE { \n",
    "wd:Q932586 ?relation ?b.\n",
    "?relation <http://schema.org/name> ?rname.\n",
    "?b <http://schema.org/name> ?bname.\n",
    "} \n",
    "\n",
    "\"\"\"\n",
    "\n",
    "print(\"Results\")\n",
    "run_query(queryString)"
   ]
  },
  {
   "cell_type": "code",
   "execution_count": null,
   "id": "080dbb3e-b8c1-4af5-8c5e-158f87b15c52",
   "metadata": {},
   "outputs": [],
   "source": [
    "#so i get the IRI for film Q11424"
   ]
  },
  {
   "cell_type": "code",
   "execution_count": null,
   "id": "cf8e7dc0-309c-4728-9414-ae892de20b89",
   "metadata": {},
   "outputs": [],
   "source": []
  },
  {
   "cell_type": "code",
   "execution_count": null,
   "id": "cfd95794-a9cc-4c3c-8462-b34715398718",
   "metadata": {},
   "outputs": [],
   "source": []
  },
  {
   "cell_type": "code",
   "execution_count": 36,
   "id": "5e20541a-147d-416b-b8bd-0e721ad255ec",
   "metadata": {},
   "outputs": [
    {
     "name": "stdout",
     "output_type": "stream",
     "text": [
      "Results\n",
      "[('job', 'http://www.wikidata.org/prop/direct/P161'), ('film', 'http://www.wikidata.org/entity/Q2915460'), ('jname', 'cast member')]\n",
      "[('job', 'http://www.wikidata.org/prop/direct/P161'), ('film', 'http://www.wikidata.org/entity/Q2364684'), ('jname', 'cast member')]\n",
      "[('job', 'http://www.wikidata.org/prop/direct/P162'), ('film', 'http://www.wikidata.org/entity/Q3213673'), ('jname', 'producer')]\n",
      "[('job', 'http://www.wikidata.org/prop/direct/P170'), ('film', 'http://www.wikidata.org/entity/Q3213673'), ('jname', 'creator')]\n",
      "[('job', 'http://www.wikidata.org/prop/direct/P57'), ('film', 'http://www.wikidata.org/entity/Q1877215'), ('jname', 'director')]\n",
      "[('job', 'http://www.wikidata.org/prop/direct/P57'), ('film', 'http://www.wikidata.org/entity/Q2478977'), ('jname', 'director')]\n",
      "[('job', 'http://www.wikidata.org/prop/direct/P57'), ('film', 'http://www.wikidata.org/entity/Q653447'), ('jname', 'director')]\n",
      "[('job', 'http://www.wikidata.org/prop/direct/P57'), ('film', 'http://www.wikidata.org/entity/Q3213673'), ('jname', 'director')]\n",
      "[('job', 'http://www.wikidata.org/prop/direct/P58'), ('film', 'http://www.wikidata.org/entity/Q2915460'), ('jname', 'screenwriter')]\n",
      "[('job', 'http://www.wikidata.org/prop/direct/P58'), ('film', 'http://www.wikidata.org/entity/Q653447'), ('jname', 'screenwriter')]\n",
      "[('job', 'http://www.wikidata.org/prop/direct/P58'), ('film', 'http://www.wikidata.org/entity/Q3213673'), ('jname', 'screenwriter')]\n",
      "[('job', 'http://www.wikidata.org/prop/direct/P58'), ('film', 'http://www.wikidata.org/entity/Q1877215'), ('jname', 'screenwriter')]\n",
      "[('job', 'http://www.wikidata.org/prop/direct/P58'), ('film', 'http://www.wikidata.org/entity/Q2364684'), ('jname', 'screenwriter')]\n",
      "[('job', 'http://www.wikidata.org/prop/direct/P58'), ('film', 'http://www.wikidata.org/entity/Q2478977'), ('jname', 'screenwriter')]\n",
      "[('job', 'http://www.wikidata.org/prop/direct/P58'), ('film', 'http://www.wikidata.org/entity/Q3220942'), ('jname', 'screenwriter')]\n",
      "[('job', 'http://www.wikidata.org/prop/direct/P161'), ('film', 'http://www.wikidata.org/entity/Q7348342'), ('jname', 'cast member')]\n",
      "[('job', 'http://www.wikidata.org/prop/direct/P162'), ('film', 'http://www.wikidata.org/entity/Q1626186'), ('jname', 'producer')]\n",
      "[('job', 'http://www.wikidata.org/prop/direct/P58'), ('film', 'http://www.wikidata.org/entity/Q1879989'), ('jname', 'screenwriter')]\n",
      "[('job', 'http://www.wikidata.org/prop/direct/P58'), ('film', 'http://www.wikidata.org/entity/Q426397'), ('jname', 'screenwriter')]\n",
      "[('job', 'http://www.wikidata.org/prop/direct/P58'), ('film', 'http://www.wikidata.org/entity/Q129813'), ('jname', 'screenwriter')]\n",
      "[('job', 'http://www.wikidata.org/prop/direct/P58'), ('film', 'http://www.wikidata.org/entity/Q589713'), ('jname', 'screenwriter')]\n",
      "[('job', 'http://www.wikidata.org/prop/direct/P58'), ('film', 'http://www.wikidata.org/entity/Q1626186'), ('jname', 'screenwriter')]\n",
      "[('job', 'http://www.wikidata.org/prop/direct/P58'), ('film', 'http://www.wikidata.org/entity/Q1916423'), ('jname', 'screenwriter')]\n",
      "[('job', 'http://www.wikidata.org/prop/direct/P58'), ('film', 'http://www.wikidata.org/entity/Q7757528'), ('jname', 'screenwriter')]\n",
      "[('job', 'http://www.wikidata.org/prop/direct/P58'), ('film', 'http://www.wikidata.org/entity/Q28923729'), ('jname', 'screenwriter')]\n",
      "[('job', 'http://www.wikidata.org/prop/direct/P58'), ('film', 'http://www.wikidata.org/entity/Q27959336'), ('jname', 'screenwriter')]\n",
      "[('job', 'http://www.wikidata.org/prop/direct/P1877'), ('film', 'http://www.wikidata.org/entity/Q1626186'), ('jname', 'after a work by')]\n",
      "[('job', 'http://www.wikidata.org/prop/direct/P1877'), ('film', 'http://www.wikidata.org/entity/Q1916423'), ('jname', 'after a work by')]\n"
     ]
    },
    {
     "data": {
      "text/plain": [
       "28"
      ]
     },
     "execution_count": 36,
     "metadata": {},
     "output_type": "execute_result"
    }
   ],
   "source": [
    "#using the iri film i get the films and their profession in those films\n",
    "queryString = \"\"\"\n",
    "SELECT DISTINCT ?job ?film ?jname\n",
    "WHERE { \n",
    "{\n",
    "?film wdt:P31 wd:Q11424. \n",
    "?film ?job  wd:Q214642.\n",
    "}\n",
    "UNION\n",
    "{\n",
    "?film wdt:P31 wd:Q11424. \n",
    "?film  ?job  wd:Q190379.\n",
    "\n",
    "}\n",
    "\n",
    "?job <http://schema.org/name> ?jname\n",
    "} \n",
    "\n",
    "\"\"\"\n",
    "\n",
    "print(\"Results\")\n",
    "run_query(queryString)"
   ]
  },
  {
   "cell_type": "code",
   "execution_count": 46,
   "id": "68836b95-22df-4800-9569-69e10840daf9",
   "metadata": {},
   "outputs": [
    {
     "name": "stdout",
     "output_type": "stream",
     "text": [
      "Results\n",
      "[('film', 'http://www.wikidata.org/entity/Q3213673'), ('jname', 'The Inner Life of Martin Frost')]\n",
      "[('film', 'http://www.wikidata.org/entity/Q2478977'), ('jname', 'Blue in the Face')]\n",
      "[('film', 'http://www.wikidata.org/entity/Q653447'), ('jname', 'Smoke')]\n",
      "[('film', 'http://www.wikidata.org/entity/Q1877215'), ('jname', 'Lulu on the Bridge')]\n",
      "[('film', 'http://www.wikidata.org/entity/Q2915460'), ('jname', 'Act of God')]\n",
      "[('film', 'http://www.wikidata.org/entity/Q2364684'), ('jname', 'The Music of Chance')]\n"
     ]
    },
    {
     "data": {
      "text/plain": [
       "6"
      ]
     },
     "execution_count": 46,
     "metadata": {},
     "output_type": "execute_result"
    }
   ],
   "source": [
    "\n",
    "    #i get the iri producer P162 director P57 cast member P161 and screenwriter P58\n",
    "#Here i get the films directed, acted or produced by Paul austen where he was also the screen writer\n",
    "\n",
    "\n",
    "queryString = \"\"\"\n",
    "SELECT DISTINCT ?film ?jname\n",
    "WHERE { \n",
    "{\n",
    "?film wdt:P31 wd:Q11424. \n",
    "?film  wdt:P162 wd:Q214642.\n",
    "}\n",
    "UNION\n",
    "{\n",
    "?film wdt:P31 wd:Q11424. \n",
    "?film  wdt:P57 wd:Q214642.\n",
    "}\n",
    "UNION\n",
    "{\n",
    "?film wdt:P31 wd:Q11424. \n",
    "?film  wdt:P161 wd:Q214642.\n",
    "}\n",
    "?film <http://schema.org/name> ?jname\n",
    "FILTER EXISTS{?film wdt:P58 wd:Q214642}.\n",
    "} \n",
    "\n",
    "\"\"\"\n",
    "\n",
    "print(\"Results\")\n",
    "run_query(queryString)\n",
    "    "
   ]
  },
  {
   "cell_type": "code",
   "execution_count": 47,
   "id": "ec7a318c-7231-4a3f-a11c-5d5c51571650",
   "metadata": {},
   "outputs": [
    {
     "name": "stdout",
     "output_type": "stream",
     "text": [
      "Results\n",
      "[('film', 'http://www.wikidata.org/entity/Q1626186'), ('jname', 'Atonement')]\n"
     ]
    },
    {
     "data": {
      "text/plain": [
       "1"
      ]
     },
     "execution_count": 47,
     "metadata": {},
     "output_type": "execute_result"
    }
   ],
   "source": [
    "#Here i get the films directed, acted or produced by Ian McEwan where he was also the screen writer\n",
    "\n",
    "\n",
    "queryString = \"\"\"\n",
    "SELECT DISTINCT ?film ?jname\n",
    "WHERE { \n",
    "{\n",
    "?film wdt:P31 wd:Q11424. \n",
    "?film  wdt:P162 wd:Q190379.\n",
    "}\n",
    "UNION\n",
    "{\n",
    "?film wdt:P31 wd:Q11424. \n",
    "?film  wdt:P57 wd:Q190379.\n",
    "}\n",
    "UNION\n",
    "{\n",
    "?film wdt:P31 wd:Q11424. \n",
    "?film  wdt:P161 wd:Q190379.\n",
    "}\n",
    "?film <http://schema.org/name> ?jname\n",
    "FILTER EXISTS{?film wdt:P58 wd:Q190379}.\n",
    "} \n",
    "\n",
    "\"\"\"\n",
    "\n",
    "print(\"Results\")\n",
    "run_query(queryString)\n",
    "    "
   ]
  },
  {
   "cell_type": "code",
   "execution_count": 59,
   "id": "14868553-ae7b-4a36-aa50-800476e4c999",
   "metadata": {},
   "outputs": [
    {
     "name": "stdout",
     "output_type": "stream",
     "text": [
      "Results\n",
      "[('rel', 'http://www.wikidata.org/prop/direct/P1237'), ('jname', 'Box Office Mojo film ID (former scheme)')]\n",
      "[('rel', 'http://www.wikidata.org/prop/direct/P1258'), ('jname', 'Rotten Tomatoes ID')]\n",
      "[('rel', 'http://www.wikidata.org/prop/direct/P1265'), ('jname', 'AlloCiné film ID')]\n",
      "[('rel', 'http://www.wikidata.org/prop/direct/P136'), ('jname', 'genre')]\n",
      "[('rel', 'http://www.wikidata.org/prop/direct/P144'), ('jname', 'based on')]\n",
      "[('rel', 'http://www.wikidata.org/prop/direct/P1476'), ('jname', 'title')]\n",
      "[('rel', 'http://www.wikidata.org/prop/direct/P1562'), ('jname', 'AllMovie title ID')]\n",
      "[('rel', 'http://www.wikidata.org/prop/direct/P161'), ('jname', 'cast member')]\n",
      "[('rel', 'http://www.wikidata.org/prop/direct/P1874'), ('jname', 'Netflix ID')]\n",
      "[('rel', 'http://www.wikidata.org/prop/direct/P1970'), ('jname', 'MovieMeter film ID')]\n",
      "[('rel', 'http://www.wikidata.org/prop/direct/P2047'), ('jname', 'duration')]\n",
      "[('rel', 'http://www.wikidata.org/prop/direct/P2346'), ('jname', 'Elonet movie ID')]\n",
      "[('rel', 'http://www.wikidata.org/prop/direct/P2465'), ('jname', 'Allcinema film ID')]\n",
      "[('rel', 'http://www.wikidata.org/prop/direct/P2508'), ('jname', 'KINENOTE film ID')]\n",
      "[('rel', 'http://www.wikidata.org/prop/direct/P2529'), ('jname', 'ČSFD film ID')]\n",
      "[('rel', 'http://www.wikidata.org/prop/direct/P2603'), ('jname', 'Kinopoisk film ID')]\n",
      "[('rel', 'http://www.wikidata.org/prop/direct/P2631'), ('jname', 'TCM Movie Database film ID')]\n",
      "[('rel', 'http://www.wikidata.org/prop/direct/P2639'), ('jname', 'Filmportal ID')]\n",
      "[('rel', 'http://www.wikidata.org/prop/direct/P2703'), ('jname', 'BFI National Archive work ID')]\n",
      "[('rel', 'http://www.wikidata.org/prop/direct/P2704'), ('jname', 'EIDR content ID')]\n",
      "[('rel', 'http://www.wikidata.org/prop/direct/P2755'), ('jname', 'exploitation visa number')]\n",
      "[('rel', 'http://www.wikidata.org/prop/direct/P2758'), ('jname', 'CNC film rating (France)')]\n",
      "[('rel', 'http://www.wikidata.org/prop/direct/P31'), ('jname', 'instance of')]\n",
      "[('rel', 'http://www.wikidata.org/prop/direct/P3107'), ('jname', 'LdiF ID')]\n",
      "[('rel', 'http://www.wikidata.org/prop/direct/P3138'), ('jname', 'OFDb film ID')]\n",
      "[('rel', 'http://www.wikidata.org/prop/direct/P3143'), ('jname', 'elFilm film ID')]\n",
      "[('rel', 'http://www.wikidata.org/prop/direct/P3212'), ('jname', 'ISAN')]\n",
      "[('rel', 'http://www.wikidata.org/prop/direct/P345'), ('jname', 'IMDb ID')]\n",
      "[('rel', 'http://www.wikidata.org/prop/direct/P364'), ('jname', 'original language of film or TV show')]\n",
      "[('rel', 'http://www.wikidata.org/prop/direct/P3804'), ('jname', 'TV Guide show ID (former scheme)')]\n",
      "[('rel', 'http://www.wikidata.org/prop/direct/P3933'), ('jname', 'Cinema.de ID')]\n",
      "[('rel', 'http://www.wikidata.org/prop/direct/P3961'), ('jname', 'Unifrance film ID')]\n",
      "[('rel', 'http://www.wikidata.org/prop/direct/P4276'), ('jname', 'Cinémathèque québécoise work identifier')]\n",
      "[('rel', 'http://www.wikidata.org/prop/direct/P437'), ('jname', 'distribution format')]\n",
      "[('rel', 'http://www.wikidata.org/prop/direct/P4529'), ('jname', 'Douban film ID')]\n",
      "[('rel', 'http://www.wikidata.org/prop/direct/P462'), ('jname', 'color')]\n",
      "[('rel', 'http://www.wikidata.org/prop/direct/P480'), ('jname', 'FilmAffinity ID')]\n",
      "[('rel', 'http://www.wikidata.org/prop/direct/P4947'), ('jname', 'TMDb movie ID')]\n",
      "[('rel', 'http://www.wikidata.org/prop/direct/P495'), ('jname', 'country of origin')]\n",
      "[('rel', 'http://www.wikidata.org/prop/direct/P5032'), ('jname', 'Filmweb.pl film ID')]\n",
      "[('rel', 'http://www.wikidata.org/prop/direct/P57'), ('jname', 'director')]\n",
      "[('rel', 'http://www.wikidata.org/prop/direct/P577'), ('jname', 'publication date')]\n",
      "[('rel', 'http://www.wikidata.org/prop/direct/P5786'), ('jname', 'Moviepilot.de film ID')]\n",
      "[('rel', 'http://www.wikidata.org/prop/direct/P58'), ('jname', 'screenwriter')]\n",
      "[('rel', 'http://www.wikidata.org/prop/direct/P6127'), ('jname', 'Letterboxd film ID')]\n",
      "[('rel', 'http://www.wikidata.org/prop/direct/P646'), ('jname', 'Freebase ID')]\n",
      "[('rel', 'http://www.wikidata.org/prop/direct/P750'), ('jname', 'distributed by')]\n",
      "[('rel', 'http://www.wikidata.org/prop/direct/P8033'), ('jname', 'Movie Review Query Engine ID')]\n",
      "[('rel', 'http://www.wikidata.org/prop/direct/P86'), ('jname', 'composer')]\n",
      "[('rel', 'http://www.wikidata.org/prop/direct/P905'), ('jname', 'PORT film ID')]\n",
      "[('rel', 'http://www.wikidata.org/prop/direct/P921'), ('jname', 'main subject')]\n",
      "[('rel', 'http://www.wikidata.org/prop/direct/P1431'), ('jname', 'executive producer')]\n",
      "[('rel', 'http://www.wikidata.org/prop/direct/P1877'), ('jname', 'after a work by')]\n"
     ]
    },
    {
     "data": {
      "text/plain": [
       "53"
      ]
     },
     "execution_count": 59,
     "metadata": {},
     "output_type": "execute_result"
    }
   ],
   "source": [
    "#here i get the relationship whit the film  cement garden Q1916423 found before\n",
    "\n",
    "\n",
    "queryString = \"\"\"\n",
    "SELECT DISTINCT ?rel ?jname\n",
    "WHERE { \n",
    "\n",
    "\n",
    "wd:Q1916423 ?rel ?b.\n",
    "\n",
    "?rel <http://schema.org/name> ?jname.\n",
    "} \n",
    "\n",
    "\"\"\"\n",
    "\n",
    "print(\"Results\")\n",
    "run_query(queryString)\n",
    "\n",
    "\n"
   ]
  },
  {
   "cell_type": "code",
   "execution_count": null,
   "id": "ba4f1e56-c0cb-45ae-b1c5-34f06f133478",
   "metadata": {},
   "outputs": [],
   "source": [
    "#i found the IRI for based on which i will use now P144"
   ]
  },
  {
   "cell_type": "code",
   "execution_count": 75,
   "id": "44ff9da4-b327-4f92-a5d2-4e5e5974d619",
   "metadata": {},
   "outputs": [
    {
     "name": "stdout",
     "output_type": "stream",
     "text": [
      "Results\n",
      "[('NumFilms', '4')]\n"
     ]
    },
    {
     "data": {
      "text/plain": [
       "1"
      ]
     },
     "execution_count": 75,
     "metadata": {},
     "output_type": "execute_result"
    }
   ],
   "source": [
    "#How many films were derived from the books of these two authors?\n",
    "\n",
    "\n",
    "\n",
    "queryString = \"\"\"\n",
    "SELECT DISTINCT  COUNT(?film) as ?NumFilms \n",
    "WHERE { \n",
    "{\n",
    "?film wdt:P31 wd:Q11424. \n",
    "?film wdt:P144 ?book.\n",
    "?book wdt:P50 wd:Q214642.\n",
    "}\n",
    "UNION\n",
    "{\n",
    "?film wdt:P31 wd:Q11424. \n",
    "?film wdt:P144 ?book.\n",
    "?book wdt:P50 wd:Q190379.\n",
    "\n",
    "}\n",
    "\n",
    "\n",
    "} \n",
    "\n",
    "\"\"\"\n",
    "\n",
    "print(\"Results\")\n",
    "run_query(queryString)"
   ]
  },
  {
   "cell_type": "code",
   "execution_count": null,
   "id": "4f819250-781e-4106-b262-ca1b513e835f",
   "metadata": {},
   "outputs": [],
   "source": [
    "#Which author won more literature-related awards? Have they ever being nominated for a Nobel award?"
   ]
  },
  {
   "cell_type": "code",
   "execution_count": 76,
   "id": "43e608d3-5da4-4383-a111-e2c853e6de7f",
   "metadata": {},
   "outputs": [
    {
     "name": "stdout",
     "output_type": "stream",
     "text": [
      "Results\n",
      "[('rel', 'http://www.wikidata.org/prop/direct/P361'), ('obj', 'http://www.wikidata.org/entity/Q58352'), ('jname', 'part of'), ('oname', 'Prix Médicis')]\n",
      "[('rel', 'http://www.wikidata.org/prop/direct/P17'), ('obj', 'http://www.wikidata.org/entity/Q142'), ('jname', 'country'), ('oname', 'France')]\n",
      "[('rel', 'http://www.wikidata.org/prop/direct/P279'), ('obj', 'http://www.wikidata.org/entity/Q378427'), ('jname', 'subclass of'), ('oname', 'literary award')]\n",
      "[('rel', 'http://www.wikidata.org/prop/direct/P31'), ('obj', 'http://www.wikidata.org/entity/Q38033430'), ('jname', 'instance of'), ('oname', 'class of award')]\n",
      "[('rel', 'http://www.wikidata.org/prop/direct/P112'), ('obj', 'http://www.wikidata.org/entity/Q3169349'), ('jname', 'founded by'), ('oname', 'Jean-Pierre Giraudoux')]\n",
      "[('rel', 'http://www.wikidata.org/prop/direct/P112'), ('obj', 'http://www.wikidata.org/entity/Q15139267'), ('jname', 'founded by'), ('oname', 'Gala Barbisan')]\n"
     ]
    },
    {
     "data": {
      "text/plain": [
       "6"
      ]
     },
     "execution_count": 76,
     "metadata": {},
     "output_type": "execute_result"
    }
   ],
   "source": [
    "#here i find all the relationship whit the award described by the iri Q3405076 found before \n",
    "\n",
    "\n",
    "queryString = \"\"\"\n",
    "SELECT DISTINCT  ?rel ?obj ?jname ?oname\n",
    "WHERE { \n",
    "\n",
    "wd:Q3405076 ?rel ?obj.\n",
    "?rel <http://schema.org/name> ?jname.\n",
    "?obj <http://schema.org/name> ?oname.\n",
    "} \n",
    "\n",
    "\"\"\"\n",
    "\n",
    "print(\"Results\")\n",
    "run_query(queryString)\n"
   ]
  },
  {
   "cell_type": "code",
   "execution_count": null,
   "id": "b2e62ba2-5afe-44aa-94e6-3371c4effce9",
   "metadata": {},
   "outputs": [],
   "source": [
    "#in the previous query i found the iri for literary awards Q378427 and the iri for subclass of P279, i found before the iri for award received P166"
   ]
  },
  {
   "cell_type": "code",
   "execution_count": 86,
   "id": "d0070b34-826a-42ab-97a9-689ea8f59928",
   "metadata": {},
   "outputs": [
    {
     "name": "stdout",
     "output_type": "stream",
     "text": [
      "Results\n",
      "[('award', 'http://www.wikidata.org/entity/Q3405076'), ('pname', 'Prix Médicis for foreign literature')]\n",
      "[('award', 'http://www.wikidata.org/entity/Q39477935'), ('pname', 'Fellow of the Royal Society of Literature')]\n",
      "[('award', 'http://www.wikidata.org/entity/Q160082'), ('pname', 'Booker Prize')]\n",
      "[('award', 'http://www.wikidata.org/entity/Q392586'), ('pname', 'James Tait Black Memorial Prize')]\n",
      "[('award', 'http://www.wikidata.org/entity/Q5709276'), ('pname', 'Helmerich Award')]\n",
      "[('award', 'http://www.wikidata.org/entity/Q3404580'), ('pname', 'Prix Femina étranger')]\n",
      "[('award', 'http://www.wikidata.org/entity/Q4936657'), ('pname', 'Bodley Medal')]\n",
      "[('award', 'http://www.wikidata.org/entity/Q7462809'), ('pname', 'Shakespeare Prize')]\n",
      "[('award', 'http://www.wikidata.org/entity/Q3332454'), ('pname', 'Princess of Asturias Literary Prize')]\n",
      "[('award', 'http://www.wikidata.org/entity/Q1188661'), ('pname', 'PEN/Faulkner Award for Fiction')]\n"
     ]
    },
    {
     "data": {
      "text/plain": [
       "10"
      ]
     },
     "execution_count": 86,
     "metadata": {},
     "output_type": "execute_result"
    }
   ],
   "source": [
    "#here i found the literary awards received by the 2 authors\n",
    "\n",
    "queryString = \"\"\"\n",
    "SELECT DISTINCT ?award ?pname\n",
    "WHERE {\n",
    "{\n",
    "?award wdt:P279 wd:Q378427.\n",
    "wd:Q214642 wdt:P166 ?award.\n",
    "\n",
    "?award <http://schema.org/name> ?pname.\n",
    "} \n",
    "UNION\n",
    "{\n",
    "?award wdt:P279 wd:Q378427.\n",
    "wd:Q190379 wdt:P166 ?award.\n",
    " \n",
    "\n",
    "?award <http://schema.org/name> ?pname\n",
    "\n",
    "}\n",
    "UNION\n",
    "{\n",
    "?award wdt:P31 wd:Q378427.\n",
    "wd:Q190379 wdt:P166 ?award.\n",
    " \n",
    "\n",
    "?award <http://schema.org/name> ?pname\n",
    "\n",
    "}\n",
    "UNION\n",
    "{\n",
    "?award wdt:P31 wd:Q378427.\n",
    "wd:Q214642 wdt:P166 ?award.\n",
    "\n",
    "?award <http://schema.org/name> ?pname.\n",
    "}\n",
    "}\n",
    "\"\"\"\n",
    "\n",
    "print(\"Results\")\n",
    "run_query(queryString)\n",
    "\n"
   ]
  },
  {
   "cell_type": "code",
   "execution_count": 87,
   "id": "10d0852b-032a-434e-9a3b-19839f039f5c",
   "metadata": {},
   "outputs": [
    {
     "name": "stdout",
     "output_type": "stream",
     "text": [
      "Results\n",
      "[('award', 'http://www.wikidata.org/entity/Q3405076'), ('pname', 'Prix Médicis for foreign literature')]\n",
      "[('award', 'http://www.wikidata.org/entity/Q3332454'), ('pname', 'Princess of Asturias Literary Prize')]\n",
      "[('award', 'http://www.wikidata.org/entity/Q1188661'), ('pname', 'PEN/Faulkner Award for Fiction')]\n"
     ]
    },
    {
     "data": {
      "text/plain": [
       "3"
      ]
     },
     "execution_count": 87,
     "metadata": {},
     "output_type": "execute_result"
    }
   ],
   "source": [
    "#here i found the literature related awards for wd:Q214642 Paul Auster\n",
    "queryString = \"\"\"\n",
    "SELECT DISTINCT ?award ?pname\n",
    "WHERE {\n",
    "{\n",
    "?award wdt:P279 wd:Q378427.\n",
    "wd:Q214642 wdt:P166 ?award.\n",
    "\n",
    "?award <http://schema.org/name> ?pname.\n",
    "} \n",
    "\n",
    "UNION\n",
    "{\n",
    "?award wdt:P31 wd:Q378427.\n",
    "wd:Q214642 wdt:P166 ?award.\n",
    "\n",
    "?award <http://schema.org/name> ?pname.\n",
    "}\n",
    "}\n",
    "\"\"\"\n",
    "\n",
    "print(\"Results\")\n",
    "run_query(queryString)\n",
    "\n"
   ]
  },
  {
   "cell_type": "code",
   "execution_count": 89,
   "id": "8e596116-ec19-4af4-af84-5f5f0ec32350",
   "metadata": {},
   "outputs": [
    {
     "name": "stdout",
     "output_type": "stream",
     "text": [
      "Results\n",
      "[('award', 'http://www.wikidata.org/entity/Q39477935'), ('pname', 'Fellow of the Royal Society of Literature')]\n",
      "[('award', 'http://www.wikidata.org/entity/Q160082'), ('pname', 'Booker Prize')]\n",
      "[('award', 'http://www.wikidata.org/entity/Q392586'), ('pname', 'James Tait Black Memorial Prize')]\n",
      "[('award', 'http://www.wikidata.org/entity/Q5709276'), ('pname', 'Helmerich Award')]\n",
      "[('award', 'http://www.wikidata.org/entity/Q3404580'), ('pname', 'Prix Femina étranger')]\n",
      "[('award', 'http://www.wikidata.org/entity/Q4936657'), ('pname', 'Bodley Medal')]\n",
      "[('award', 'http://www.wikidata.org/entity/Q7462809'), ('pname', 'Shakespeare Prize')]\n"
     ]
    },
    {
     "data": {
      "text/plain": [
       "7"
      ]
     },
     "execution_count": 89,
     "metadata": {},
     "output_type": "execute_result"
    }
   ],
   "source": [
    "#here i found the literary awards for wd:Q190379 Ian McEwan\n",
    "\n",
    "queryString = \"\"\"\n",
    "SELECT DISTINCT ?award ?pname\n",
    "WHERE {\n",
    "\n",
    "\n",
    "{\n",
    "?award wdt:P279 wd:Q378427.\n",
    "wd:Q190379 wdt:P166 ?award.\n",
    " \n",
    "\n",
    "?award <http://schema.org/name> ?pname\n",
    "\n",
    "}\n",
    "UNION\n",
    "{\n",
    "?award wdt:P31 wd:Q378427.\n",
    "wd:Q190379 wdt:P166 ?award.\n",
    " \n",
    "\n",
    "?award <http://schema.org/name> ?pname\n",
    "\n",
    "}\n",
    "\n",
    "}\n",
    "\"\"\"\n",
    "\n",
    "print(\"Results\")\n",
    "run_query(queryString)\n"
   ]
  },
  {
   "cell_type": "code",
   "execution_count": null,
   "id": "280ad287-ce2a-46c0-a41f-2b15c57e06d7",
   "metadata": {},
   "outputs": [],
   "source": [
    "#so Ian McEwan won more literature related awards"
   ]
  },
  {
   "cell_type": "code",
   "execution_count": null,
   "id": "9cb6a547-6d53-44fe-a8e4-6d4b44bee85b",
   "metadata": {},
   "outputs": [],
   "source": [
    "# Have they ever being nominated for a Nobel award? before i get the iri for nominated for P1411 now i try to get all the things that theywhere nominated for"
   ]
  },
  {
   "cell_type": "code",
   "execution_count": 90,
   "id": "f36efd2f-1e4a-40b1-815a-0e4ebc9d4b3c",
   "metadata": {},
   "outputs": [
    {
     "name": "stdout",
     "output_type": "stream",
     "text": [
      "Results\n",
      "[('prize', 'http://www.wikidata.org/entity/Q628637'), ('pname', \"European Film Award – People's Choice Award for Best European Film\")]\n",
      "[('prize', 'http://www.wikidata.org/entity/Q160082'), ('pname', 'Booker Prize')]\n",
      "[('prize', 'http://www.wikidata.org/entity/Q1362723'), ('pname', 'International IMPAC Dublin Literary Award')]\n",
      "[('prize', 'http://www.wikidata.org/entity/Q2052291'), ('pname', 'International Booker Prize')]\n"
     ]
    },
    {
     "data": {
      "text/plain": [
       "4"
      ]
     },
     "execution_count": 90,
     "metadata": {},
     "output_type": "execute_result"
    }
   ],
   "source": [
    "queryString = \"\"\"\n",
    "SELECT DISTINCT  ?prize ?pname\n",
    "WHERE { \n",
    "{\n",
    "wd:Q214642 wdt:P1411 ?prize.\n",
    "}\n",
    "UNION\n",
    "{\n",
    "wd:Q190379 wdt:P1411 ?prize.\n",
    "\n",
    "}\n",
    "?prize <http://schema.org/name> ?pname\n",
    "\n",
    "} \n",
    "\n",
    "\"\"\"\n",
    "\n",
    "print(\"Results\")\n",
    "run_query(queryString)"
   ]
  },
  {
   "cell_type": "code",
   "execution_count": null,
   "id": "a7c956a2-1e76-4279-908b-d1aa482a1f4e",
   "metadata": {},
   "outputs": [],
   "source": [
    "#no they have never been nominated for a literature award"
   ]
  },
  {
   "cell_type": "code",
   "execution_count": null,
   "id": "cf18271c-82ee-469d-9223-7ead2753790f",
   "metadata": {},
   "outputs": [],
   "source": []
  }
 ],
 "metadata": {
  "kernelspec": {
   "display_name": "Python 3",
   "language": "python",
   "name": "python3"
  },
  "language_info": {
   "codemirror_mode": {
    "name": "ipython",
    "version": 3
   },
   "file_extension": ".py",
   "mimetype": "text/x-python",
   "name": "python",
   "nbconvert_exporter": "python",
   "pygments_lexer": "ipython3",
   "version": "3.7.10"
  }
 },
 "nbformat": 4,
 "nbformat_minor": 5
}
