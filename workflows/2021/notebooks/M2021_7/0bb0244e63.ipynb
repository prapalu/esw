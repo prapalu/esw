{
 "cells": [
  {
   "cell_type": "markdown",
   "id": "7034c3bf-6eb0-4418-8687-7b9d2a501103",
   "metadata": {},
   "source": [
    "# General instructions\n",
    "\n",
    "The goal of the project is to materialize a set of **exploratory workloads** over a real-world, large-scale,  open-domain KG: [WikiData](https://www.wikidata.org/wiki/Wikidata:Main_Page)\n",
    "\n",
    "An exploratory workload  is composed by a set of queries, where each query is related to the information obtained previously.\n",
    "\n",
    "An exploratory workload starts with a usually vague, open ended question, and does not assume the person issuing the workload has a clear understanding of the data contained in the target database or its structure.\n",
    "\n",
    "Remeber that:\n",
    "\n",
    "1. All the queries must run in the python notebook\n",
    "2. You can use classes and properties only if you find them via a SPARQL query that must be present in the notebook\n",
    "3. You do not delete useless queries. Keep everything that is synthatically valid \n",
    "\n",
    "```\n",
    "?p <http://schema.org/name> ?name .\n",
    "```\n",
    "    \n",
    "    is the BGP returning a human-readable name of a property or a class in Wikidata.\n",
    "    \n",
    "    "
   ]
  },
  {
   "cell_type": "code",
   "execution_count": 13,
   "id": "3605c9d5-5371-49a5-be8d-d66e8f417139",
   "metadata": {},
   "outputs": [],
   "source": [
    "## SETUP used later\n",
    "\n",
    "from SPARQLWrapper import SPARQLWrapper, JSON\n",
    "\n",
    "\n",
    "prefixString = \"\"\"\n",
    "##-0bb0244e63-##\n",
    "PREFIX wd: <http://www.wikidata.org/entity/> \n",
    "PREFIX wdt: <http://www.wikidata.org/prop/direct/> \n",
    "PREFIX sc: <http://schema.org/>\n",
    "\"\"\"\n",
    "\n",
    "# select and construct queries\n",
    "def run_query(queryString):\n",
    "    to_run = prefixString + \"\\n\" + queryString\n",
    "\n",
    "    sparql = SPARQLWrapper(\"http://a256-gc1-02.srv.aau.dk:5820/sparql\")\n",
    "    sparql.setTimeout(300)\n",
    "    sparql.setReturnFormat(JSON)\n",
    "    sparql.setQuery(to_run)\n",
    "\n",
    "    try :\n",
    "       results = sparql.query()\n",
    "       json_results = results.convert()\n",
    "       if len(json_results['results']['bindings'])==0:\n",
    "          print(\"Empty\")\n",
    "          return 0\n",
    "    \n",
    "       for bindings in json_results['results']['bindings']:\n",
    "          print( [ (var, value['value'])  for var, value in bindings.items() ] )\n",
    "\n",
    "       return len(json_results['results']['bindings'])\n",
    "\n",
    "    except Exception as e :\n",
    "        print(\"The operation failed\", e)\n",
    "    \n",
    "# ASk queries\n",
    "def run_ask_query(queryString):\n",
    "    to_run = prefixString + \"\\n\" + queryString\n",
    "\n",
    "    sparql = SPARQLWrapper(\"http://a256-gc1-03.srv.aau.dk:5820/sparql\")\n",
    "    sparql.setTimeout(300)\n",
    "    sparql.setReturnFormat(JSON)\n",
    "    sparql.setQuery(to_run)\n",
    "\n",
    "    try :\n",
    "        return sparql.query().convert()\n",
    "\n",
    "    except Exception as e :\n",
    "        print(\"The operation failed\", e)"
   ]
  },
  {
   "cell_type": "markdown",
   "id": "d477a59c-a68c-4c8f-9f97-8ca5294d7d27",
   "metadata": {},
   "source": [
    "# Movie Workflow Series (\"Horror Franchises explorative search\") \n",
    "\n",
    "Consider the following exploratory scenario:\n",
    "\n",
    "\n",
    "> we are interested in horror movies, in particular we care about the slasher subgenre, and we want to compare the Halloween and the Friday the 13th francise. \n",
    "\n",
    "Background knowledge useful for better conducting the search: Halloween is a movie from 1978 with many sequels and the set of Halloween + all the sequels is called the \"Halloween franchise\". The same considerations hold for Friday the 13th.\n",
    "\n",
    "\n",
    "## Useful URIs for the current workflow\n",
    "The following are given:\n",
    "\n",
    "| IRI           | Description   | Role      |\n",
    "| -----------   | -----------   |-----------|\n",
    "| `wdt:P1647`   | subproperty   | predicate |\n",
    "| `wdt:P31`     | instance of   | predicate |\n",
    "| `wdt:P106`    | profession    | predicate | \n",
    "| `wdt:P279`    | subclass      | predicate |\n",
    "| `wd:Q221103`     | Halloween       | node |\n",
    "| `wd:Q1243029`| Friday the 13th       | node |\n",
    "\n",
    "\n",
    "\n",
    "\n",
    "\n",
    "Also consider\n",
    "\n",
    "```\n",
    "wd:Q1243029 ?p ?obj .\n",
    "```\n",
    "\n",
    "is the BGP to retrieve all **properties of Friday the 13th**\n",
    "\n",
    "The workload should\n",
    "\n",
    "\n",
    "1. Investigate the workers of the two original movies and check any commonality \n",
    "\n",
    "2. Check who was the most famous actor/actress on Halloween and Friday the 13th at the time of the release (e.g., the actor/actress who acted in more movies before and/or the actor/actress who won more academy awards)\n",
    "\n",
    "3. Check which actor/actress did more movies after the release of these two films (consider the films separately)\n",
    "\n",
    "4. Get all the movies of the two franchises (return year and director)\n",
    "\n",
    "5. Who is most involved in a franchise (who did something in the movies, e.g., writer, director, producer)? \n",
    "\n",
    "6. Investigate which franchise is highly regarded by the critics overall\n",
    "\n",
    "7. Investigate which franchise costed more "
   ]
  },
  {
   "cell_type": "code",
   "execution_count": 3,
   "id": "24a853ab-830c-422c-afd3-e9e015b8b8ed",
   "metadata": {},
   "outputs": [],
   "source": [
    "# start your workflow here"
   ]
  },
  {
   "cell_type": "code",
   "execution_count": 4,
   "id": "ade01416-92e7-4ad7-b9a9-b8fb330750dc",
   "metadata": {},
   "outputs": [
    {
     "name": "stdout",
     "output_type": "stream",
     "text": [
      "Results\n",
      "[('p', 'http://www.w3.org/1999/02/22-rdf-syntax-ns#type'), ('obj', 'http://wikiba.se/ontology#Item')]\n",
      "[('p', 'http://www.wikidata.org/prop/direct-normalized/P244'), ('obj', 'https://id.loc.gov/authorities/names/no98033420')]\n",
      "[('p', 'http://www.wikidata.org/prop/direct-normalized/P3212'), ('obj', 'urn:isan:0000-0000-31EA-0000-G-0000-0000-Q')]\n",
      "[('p', 'http://www.wikidata.org/prop/direct-normalized/P4276'), ('obj', 'https://data.cinematheque.qc.ca/data/Work1467')]\n",
      "[('p', 'http://www.wikidata.org/prop/direct-normalized/P646'), ('obj', 'http://g.co/kg/m/016mng')]\n"
     ]
    },
    {
     "data": {
      "text/plain": [
       "5"
      ]
     },
     "execution_count": 4,
     "metadata": {},
     "output_type": "execute_result"
    }
   ],
   "source": [
    "queryString = \"\"\"\n",
    "SELECT *\n",
    "WHERE { \n",
    "\n",
    "wd:Q1243029 ?p ?obj .\n",
    "} \n",
    "LIMIT 5\n",
    "\"\"\"\n",
    "\n",
    "print(\"Results\")\n",
    "run_query(queryString)"
   ]
  },
  {
   "cell_type": "markdown",
   "id": "792012d2-4ebc-4e88-8add-3cc970e8839d",
   "metadata": {
    "tags": []
   },
   "source": [
    "### Task 1. Investigate the workers of the two original movies and check any commonality \n"
   ]
  },
  {
   "cell_type": "markdown",
   "id": "267aa9c5-8329-41f4-9a35-574d828c9375",
   "metadata": {},
   "source": [
    "I search for common properties of the two films that links the workers with the movies"
   ]
  },
  {
   "cell_type": "code",
   "execution_count": 5,
   "id": "8459b2af-a28d-4218-aa8e-4b1e0e0d7a66",
   "metadata": {
    "collapsed": true,
    "jupyter": {
     "outputs_hidden": true
    },
    "tags": []
   },
   "outputs": [
    {
     "name": "stdout",
     "output_type": "stream",
     "text": [
      "Results\n",
      "[('p', 'http://www.wikidata.org/prop/direct/P1040'), ('pname', 'film editor'), ('o', 'http://www.wikidata.org/entity/Q574983'), ('oname', 'Tommy Lee Wallace')]\n",
      "[('p', 'http://www.wikidata.org/prop/direct/P135'), ('pname', 'movement'), ('o', 'http://www.wikidata.org/entity/Q377616'), ('oname', 'New Hollywood')]\n",
      "[('p', 'http://www.wikidata.org/prop/direct/P136'), ('pname', 'genre'), ('o', 'http://www.wikidata.org/entity/Q130232'), ('oname', 'drama')]\n",
      "[('p', 'http://www.wikidata.org/prop/direct/P136'), ('pname', 'genre'), ('o', 'http://www.wikidata.org/entity/Q200092'), ('oname', 'horror film')]\n",
      "[('p', 'http://www.wikidata.org/prop/direct/P136'), ('pname', 'genre'), ('o', 'http://www.wikidata.org/entity/Q1146335'), ('oname', 'teen film')]\n",
      "[('p', 'http://www.wikidata.org/prop/direct/P136'), ('pname', 'genre'), ('o', 'http://www.wikidata.org/entity/Q853630'), ('oname', 'slasher film')]\n",
      "[('p', 'http://www.wikidata.org/prop/direct/P1434'), ('pname', 'takes place in fictional universe'), ('o', 'http://www.wikidata.org/entity/Q101480110'), ('oname', 'Halloween universe')]\n",
      "[('p', 'http://www.wikidata.org/prop/direct/P156'), ('pname', 'followed by'), ('o', 'http://www.wikidata.org/entity/Q850312'), ('oname', 'Halloween II')]\n",
      "[('p', 'http://www.wikidata.org/prop/direct/P161'), ('pname', 'cast member'), ('o', 'http://www.wikidata.org/entity/Q2865227'), ('oname', 'Arthur Malet')]\n",
      "[('p', 'http://www.wikidata.org/prop/direct/P161'), ('pname', 'cast member'), ('o', 'http://www.wikidata.org/entity/Q3066766'), ('oname', 'Tony Moran')]\n",
      "[('p', 'http://www.wikidata.org/prop/direct/P161'), ('pname', 'cast member'), ('o', 'http://www.wikidata.org/entity/Q106997'), ('oname', 'Jamie Lee Curtis')]\n",
      "[('p', 'http://www.wikidata.org/prop/direct/P161'), ('pname', 'cast member'), ('o', 'http://www.wikidata.org/entity/Q201570'), ('oname', 'Nancy Kyes')]\n",
      "[('p', 'http://www.wikidata.org/prop/direct/P161'), ('pname', 'cast member'), ('o', 'http://www.wikidata.org/entity/Q1064022'), ('oname', 'Charles Cyphers')]\n",
      "[('p', 'http://www.wikidata.org/prop/direct/P161'), ('pname', 'cast member'), ('o', 'http://www.wikidata.org/entity/Q95008'), ('oname', 'John Carpenter')]\n",
      "[('p', 'http://www.wikidata.org/prop/direct/P161'), ('pname', 'cast member'), ('o', 'http://www.wikidata.org/entity/Q936000'), ('oname', 'Nick Castle')]\n",
      "[('p', 'http://www.wikidata.org/prop/direct/P161'), ('pname', 'cast member'), ('o', 'http://www.wikidata.org/entity/Q1853959'), ('oname', 'Kyle Richards')]\n",
      "[('p', 'http://www.wikidata.org/prop/direct/P161'), ('pname', 'cast member'), ('o', 'http://www.wikidata.org/entity/Q314914'), ('oname', 'Donald Pleasence')]\n",
      "[('p', 'http://www.wikidata.org/prop/direct/P161'), ('pname', 'cast member'), ('o', 'http://www.wikidata.org/entity/Q3093664'), ('oname', 'Gabriel Cattand')]\n",
      "[('p', 'http://www.wikidata.org/prop/direct/P161'), ('pname', 'cast member'), ('o', 'http://www.wikidata.org/entity/Q270079'), ('oname', 'P. J. Soles')]\n",
      "[('p', 'http://www.wikidata.org/prop/direct/P161'), ('pname', 'cast member'), ('o', 'http://www.wikidata.org/entity/Q6963012'), ('oname', 'Nancy Stephens')]\n",
      "[('p', 'http://www.wikidata.org/prop/direct/P161'), ('pname', 'cast member'), ('o', 'http://www.wikidata.org/entity/Q6248629'), ('oname', 'John Michael Graham')]\n",
      "[('p', 'http://www.wikidata.org/prop/direct/P162'), ('pname', 'producer'), ('o', 'http://www.wikidata.org/entity/Q262102'), ('oname', 'Debra Hill')]\n",
      "[('p', 'http://www.wikidata.org/prop/direct/P162'), ('pname', 'producer'), ('o', 'http://www.wikidata.org/entity/Q380471'), ('oname', 'Moustapha Akkad')]\n",
      "[('p', 'http://www.wikidata.org/prop/direct/P162'), ('pname', 'producer'), ('o', 'http://www.wikidata.org/entity/Q3802169'), ('oname', 'Irwin Yablans')]\n",
      "[('p', 'http://www.wikidata.org/prop/direct/P166'), ('pname', 'award received'), ('o', 'http://www.wikidata.org/entity/Q823422'), ('oname', 'National Film Registry')]\n",
      "[('p', 'http://www.wikidata.org/prop/direct/P175'), ('pname', 'performer'), ('o', 'http://www.wikidata.org/entity/Q95008'), ('oname', 'John Carpenter')]\n",
      "[('p', 'http://www.wikidata.org/prop/direct/P179'), ('pname', 'part of the series'), ('o', 'http://www.wikidata.org/entity/Q1364022'), ('oname', 'Halloween')]\n",
      "[('p', 'http://www.wikidata.org/prop/direct/P1889'), ('pname', 'different from'), ('o', 'http://www.wikidata.org/entity/Q229620'), ('oname', 'Halloween')]\n",
      "[('p', 'http://www.wikidata.org/prop/direct/P2061'), ('pname', 'aspect ratio'), ('o', 'http://www.wikidata.org/entity/Q21062414'), ('oname', '2.35:1')]\n",
      "[('p', 'http://www.wikidata.org/prop/direct/P272'), ('pname', 'production company'), ('o', 'http://www.wikidata.org/entity/Q3685076'), ('oname', 'Compass International Pictures')]\n",
      "[('p', 'http://www.wikidata.org/prop/direct/P2747'), ('pname', 'Filmiroda rating'), ('o', 'http://www.wikidata.org/entity/Q23830579'), ('oname', 'Category IV')]\n",
      "[('p', 'http://www.wikidata.org/prop/direct/P31'), ('pname', 'instance of'), ('o', 'http://www.wikidata.org/entity/Q11424'), ('oname', 'film')]\n",
      "[('p', 'http://www.wikidata.org/prop/direct/P344'), ('pname', 'director of photography'), ('o', 'http://www.wikidata.org/entity/Q497036'), ('oname', 'Dean Cundey')]\n",
      "[('p', 'http://www.wikidata.org/prop/direct/P364'), ('pname', 'original language of film or TV show'), ('o', 'http://www.wikidata.org/entity/Q1860'), ('oname', 'English')]\n",
      "[('p', 'http://www.wikidata.org/prop/direct/P437'), ('pname', 'distribution format'), ('o', 'http://www.wikidata.org/entity/Q723685'), ('oname', 'video on demand')]\n",
      "[('p', 'http://www.wikidata.org/prop/direct/P462'), ('pname', 'color'), ('o', 'http://www.wikidata.org/entity/Q22006653'), ('oname', 'color')]\n",
      "[('p', 'http://www.wikidata.org/prop/direct/P495'), ('pname', 'country of origin'), ('o', 'http://www.wikidata.org/entity/Q30'), ('oname', 'United States of America')]\n",
      "[('p', 'http://www.wikidata.org/prop/direct/P4969'), ('pname', 'derivative work'), ('o', 'http://www.wikidata.org/entity/Q3285065'), ('oname', 'Halloween')]\n",
      "[('p', 'http://www.wikidata.org/prop/direct/P4969'), ('pname', 'derivative work'), ('o', 'http://www.wikidata.org/entity/Q4502764'), ('oname', 'Halloween')]\n",
      "[('p', 'http://www.wikidata.org/prop/direct/P4969'), ('pname', 'derivative work'), ('o', 'http://www.wikidata.org/entity/Q7079511'), ('oname', 'Official Halloween Parody')]\n",
      "[('p', 'http://www.wikidata.org/prop/direct/P5021'), ('pname', 'assessment'), ('o', 'http://www.wikidata.org/entity/Q4165246'), ('oname', 'Bechdel test')]\n",
      "[('p', 'http://www.wikidata.org/prop/direct/P5021'), ('pname', 'assessment'), ('o', 'http://www.wikidata.org/entity/Q85783379'), ('oname', 'Mako Mori test')]\n",
      "[('p', 'http://www.wikidata.org/prop/direct/P57'), ('pname', 'director'), ('o', 'http://www.wikidata.org/entity/Q95008'), ('oname', 'John Carpenter')]\n",
      "[('p', 'http://www.wikidata.org/prop/direct/P58'), ('pname', 'screenwriter'), ('o', 'http://www.wikidata.org/entity/Q95008'), ('oname', 'John Carpenter')]\n",
      "[('p', 'http://www.wikidata.org/prop/direct/P58'), ('pname', 'screenwriter'), ('o', 'http://www.wikidata.org/entity/Q262102'), ('oname', 'Debra Hill')]\n",
      "[('p', 'http://www.wikidata.org/prop/direct/P5970'), ('pname', 'Medierådet rating'), ('o', 'http://www.wikidata.org/entity/Q80656032'), ('oname', 'Prohibited for children under 16')]\n",
      "[('p', 'http://www.wikidata.org/prop/direct/P750'), ('pname', 'distributed by'), ('o', 'http://www.wikidata.org/entity/Q907311'), ('oname', 'Netflix')]\n",
      "[('p', 'http://www.wikidata.org/prop/direct/P750'), ('pname', 'distributed by'), ('o', 'http://www.wikidata.org/entity/Q3685076'), ('oname', 'Compass International Pictures')]\n",
      "[('p', 'http://www.wikidata.org/prop/direct/P840'), ('pname', 'narrative location'), ('o', 'http://www.wikidata.org/entity/Q101479794'), ('oname', 'Haddonfield')]\n",
      "[('p', 'http://www.wikidata.org/prop/direct/P8411'), ('pname', 'set in environment'), ('o', 'http://www.wikidata.org/entity/Q210999'), ('oname', 'psychiatric hospital')]\n",
      "[('p', 'http://www.wikidata.org/prop/direct/P86'), ('pname', 'composer'), ('o', 'http://www.wikidata.org/entity/Q95008'), ('oname', 'John Carpenter')]\n",
      "[('p', 'http://www.wikidata.org/prop/direct/P915'), ('pname', 'filming location'), ('o', 'http://www.wikidata.org/entity/Q65'), ('oname', 'Los Angeles')]\n",
      "[('p', 'http://www.wikidata.org/prop/direct/P915'), ('pname', 'filming location'), ('o', 'http://www.wikidata.org/entity/Q99'), ('oname', 'California')]\n",
      "[('p', 'http://www.wikidata.org/prop/direct/P921'), ('pname', 'main subject'), ('o', 'http://www.wikidata.org/entity/Q484188'), ('oname', 'serial killer')]\n",
      "[('p', 'http://www.wikidata.org/prop/direct/P2554'), ('pname', 'production designer'), ('o', 'http://www.wikidata.org/entity/Q574983'), ('oname', 'Tommy Lee Wallace')]\n",
      "[('p', 'http://www.wikidata.org/prop/direct/P1431'), ('pname', 'executive producer'), ('o', 'http://www.wikidata.org/entity/Q380471'), ('oname', 'Moustapha Akkad')]\n",
      "[('p', 'http://www.wikidata.org/prop/direct/P2408'), ('pname', 'set in period'), ('o', 'http://www.wikidata.org/entity/Q2483'), ('oname', '1978')]\n",
      "[('p', 'http://www.wikidata.org/prop/direct/P2408'), ('pname', 'set in period'), ('o', 'http://www.wikidata.org/entity/Q2755'), ('oname', '1963')]\n",
      "[('p', 'http://www.wikidata.org/prop/direct/P9215'), ('pname', 'set during recurring event'), ('o', 'http://www.wikidata.org/entity/Q251868'), ('oname', 'Halloween')]\n",
      "[('p', 'http://www.wikidata.org/prop/direct/P9215'), ('pname', 'set during recurring event'), ('o', 'http://www.wikidata.org/entity/Q1314'), ('oname', 'autumn')]\n"
     ]
    },
    {
     "data": {
      "text/plain": [
       "60"
      ]
     },
     "execution_count": 5,
     "metadata": {},
     "output_type": "execute_result"
    }
   ],
   "source": [
    "queryString = \"\"\"\n",
    "SELECT DISTINCT ?p ?pname ?o ?oname WHERE {\n",
    "     wd:Q221103 ?p ?o .\n",
    "    \n",
    "    # this returns the labels\n",
    "    ?o <http://schema.org/name> ?oname .\n",
    "    ?p <http://schema.org/name> ?pname .\n",
    "}\n",
    "\"\"\"\n",
    "\n",
    "print(\"Results\")\n",
    "run_query(queryString)"
   ]
  },
  {
   "cell_type": "code",
   "execution_count": 16,
   "id": "36770999-d5e6-47eb-87d5-a0e73ced303c",
   "metadata": {
    "collapsed": true,
    "jupyter": {
     "outputs_hidden": true
    },
    "tags": []
   },
   "outputs": [
    {
     "name": "stdout",
     "output_type": "stream",
     "text": [
      "Results\n",
      "[('p', 'http://www.wikidata.org/prop/direct/P136'), ('pname', 'genre'), ('o', 'http://www.wikidata.org/entity/Q1067324'), ('oname', 'exploitation film')]\n",
      "[('p', 'http://www.wikidata.org/prop/direct/P136'), ('pname', 'genre'), ('o', 'http://www.wikidata.org/entity/Q1200678'), ('oname', 'mystery film')]\n",
      "[('p', 'http://www.wikidata.org/prop/direct/P136'), ('pname', 'genre'), ('o', 'http://www.wikidata.org/entity/Q853630'), ('oname', 'slasher film')]\n",
      "[('p', 'http://www.wikidata.org/prop/direct/P136'), ('pname', 'genre'), ('o', 'http://www.wikidata.org/entity/Q909586'), ('oname', 'splatter film')]\n",
      "[('p', 'http://www.wikidata.org/prop/direct/P1411'), ('pname', 'nominated for'), ('o', 'http://www.wikidata.org/entity/Q1780634'), ('oname', 'Golden Raspberry Award for Worst Picture')]\n",
      "[('p', 'http://www.wikidata.org/prop/direct/P1411'), ('pname', 'nominated for'), ('o', 'http://www.wikidata.org/entity/Q977915'), ('oname', 'Golden Raspberry Award for Worst Supporting Actress')]\n",
      "[('p', 'http://www.wikidata.org/prop/direct/P156'), ('pname', 'followed by'), ('o', 'http://www.wikidata.org/entity/Q1243009'), ('oname', 'Friday the 13th Part 2')]\n",
      "[('p', 'http://www.wikidata.org/prop/direct/P161'), ('pname', 'cast member'), ('o', 'http://www.wikidata.org/entity/Q2440012'), ('oname', 'Adrienne King')]\n",
      "[('p', 'http://www.wikidata.org/prop/direct/P161'), ('pname', 'cast member'), ('o', 'http://www.wikidata.org/entity/Q263765'), ('oname', 'Betsy Palmer')]\n",
      "[('p', 'http://www.wikidata.org/prop/direct/P161'), ('pname', 'cast member'), ('o', 'http://www.wikidata.org/entity/Q3428829'), ('oname', 'Rex Everhart')]\n",
      "[('p', 'http://www.wikidata.org/prop/direct/P161'), ('pname', 'cast member'), ('o', 'http://www.wikidata.org/entity/Q3434272'), ('oname', 'Robbi Morgan')]\n",
      "[('p', 'http://www.wikidata.org/prop/direct/P161'), ('pname', 'cast member'), ('o', 'http://www.wikidata.org/entity/Q3454165'), ('oname', 'Kevin Bacon')]\n",
      "[('p', 'http://www.wikidata.org/prop/direct/P161'), ('pname', 'cast member'), ('o', 'http://www.wikidata.org/entity/Q13218111'), ('oname', 'Harry Crosby')]\n",
      "[('p', 'http://www.wikidata.org/prop/direct/P161'), ('pname', 'cast member'), ('o', 'http://www.wikidata.org/entity/Q2570201'), ('oname', 'Laurie Bartram')]\n",
      "[('p', 'http://www.wikidata.org/prop/direct/P161'), ('pname', 'cast member'), ('o', 'http://www.wikidata.org/entity/Q3047636'), ('oname', 'Jeannine Taylor')]\n",
      "[('p', 'http://www.wikidata.org/prop/direct/P161'), ('pname', 'cast member'), ('o', 'http://www.wikidata.org/entity/Q524486'), ('oname', 'Ari Lehman')]\n",
      "[('p', 'http://www.wikidata.org/prop/direct/P162'), ('pname', 'producer'), ('o', 'http://www.wikidata.org/entity/Q709325'), ('oname', 'Sean S. Cunningham')]\n",
      "[('p', 'http://www.wikidata.org/prop/direct/P175'), ('pname', 'performer'), ('o', 'http://www.wikidata.org/entity/Q664025'), ('oname', 'Harry Manfredini')]\n",
      "[('p', 'http://www.wikidata.org/prop/direct/P179'), ('pname', 'part of the series'), ('o', 'http://www.wikidata.org/entity/Q1138878'), ('oname', 'Friday the 13th')]\n",
      "[('p', 'http://www.wikidata.org/prop/direct/P1889'), ('pname', 'different from'), ('o', 'http://www.wikidata.org/entity/Q1454815'), ('oname', 'Friday the 13th')]\n",
      "[('p', 'http://www.wikidata.org/prop/direct/P2061'), ('pname', 'aspect ratio'), ('o', 'http://www.wikidata.org/entity/Q752245'), ('oname', 'widescreen')]\n",
      "[('p', 'http://www.wikidata.org/prop/direct/P272'), ('pname', 'production company'), ('o', 'http://www.wikidata.org/entity/Q159846'), ('oname', 'Paramount Pictures')]\n",
      "[('p', 'http://www.wikidata.org/prop/direct/P2747'), ('pname', 'Filmiroda rating'), ('o', 'http://www.wikidata.org/entity/Q23830579'), ('oname', 'Category IV')]\n",
      "[('p', 'http://www.wikidata.org/prop/direct/P2758'), ('pname', 'CNC film rating (France)'), ('o', 'http://www.wikidata.org/entity/Q23817741'), ('oname', 'no minors under sixteen')]\n",
      "[('p', 'http://www.wikidata.org/prop/direct/P31'), ('pname', 'instance of'), ('o', 'http://www.wikidata.org/entity/Q11424'), ('oname', 'film')]\n",
      "[('p', 'http://www.wikidata.org/prop/direct/P344'), ('pname', 'director of photography'), ('o', 'http://www.wikidata.org/entity/Q4863956'), ('oname', 'Barry Abrams')]\n",
      "[('p', 'http://www.wikidata.org/prop/direct/P364'), ('pname', 'original language of film or TV show'), ('o', 'http://www.wikidata.org/entity/Q1860'), ('oname', 'English')]\n",
      "[('p', 'http://www.wikidata.org/prop/direct/P437'), ('pname', 'distribution format'), ('o', 'http://www.wikidata.org/entity/Q723685'), ('oname', 'video on demand')]\n",
      "[('p', 'http://www.wikidata.org/prop/direct/P462'), ('pname', 'color'), ('o', 'http://www.wikidata.org/entity/Q22006653'), ('oname', 'color')]\n",
      "[('p', 'http://www.wikidata.org/prop/direct/P495'), ('pname', 'country of origin'), ('o', 'http://www.wikidata.org/entity/Q30'), ('oname', 'United States of America')]\n",
      "[('p', 'http://www.wikidata.org/prop/direct/P4969'), ('pname', 'derivative work'), ('o', 'http://www.wikidata.org/entity/Q1454815'), ('oname', 'Friday the 13th')]\n",
      "[('p', 'http://www.wikidata.org/prop/direct/P5021'), ('pname', 'assessment'), ('o', 'http://www.wikidata.org/entity/Q4165246'), ('oname', 'Bechdel test')]\n",
      "[('p', 'http://www.wikidata.org/prop/direct/P57'), ('pname', 'director'), ('o', 'http://www.wikidata.org/entity/Q709325'), ('oname', 'Sean S. Cunningham')]\n",
      "[('p', 'http://www.wikidata.org/prop/direct/P58'), ('pname', 'screenwriter'), ('o', 'http://www.wikidata.org/entity/Q7926158'), ('oname', 'Victor Miller')]\n",
      "[('p', 'http://www.wikidata.org/prop/direct/P674'), ('pname', 'characters'), ('o', 'http://www.wikidata.org/entity/Q2576457'), ('oname', 'Pamela Voorhees')]\n",
      "[('p', 'http://www.wikidata.org/prop/direct/P674'), ('pname', 'characters'), ('o', 'http://www.wikidata.org/entity/Q366957'), ('oname', 'Jason Voorhees')]\n",
      "[('p', 'http://www.wikidata.org/prop/direct/P750'), ('pname', 'distributed by'), ('o', 'http://www.wikidata.org/entity/Q80948336'), ('oname', 'FandangoNow')]\n",
      "[('p', 'http://www.wikidata.org/prop/direct/P750'), ('pname', 'distributed by'), ('o', 'http://www.wikidata.org/entity/Q907311'), ('oname', 'Netflix')]\n",
      "[('p', 'http://www.wikidata.org/prop/direct/P750'), ('pname', 'distributed by'), ('o', 'http://www.wikidata.org/entity/Q159846'), ('oname', 'Paramount Pictures')]\n",
      "[('p', 'http://www.wikidata.org/prop/direct/P840'), ('pname', 'narrative location'), ('o', 'http://www.wikidata.org/entity/Q1408'), ('oname', 'New Jersey')]\n",
      "[('p', 'http://www.wikidata.org/prop/direct/P86'), ('pname', 'composer'), ('o', 'http://www.wikidata.org/entity/Q664025'), ('oname', 'Harry Manfredini')]\n",
      "[('p', 'http://www.wikidata.org/prop/direct/P915'), ('pname', 'filming location'), ('o', 'http://www.wikidata.org/entity/Q1408'), ('oname', 'New Jersey')]\n",
      "[('p', 'http://www.wikidata.org/prop/direct/P2554'), ('pname', 'production designer'), ('o', 'http://www.wikidata.org/entity/Q450964'), ('oname', 'Virginia Field')]\n"
     ]
    },
    {
     "data": {
      "text/plain": [
       "43"
      ]
     },
     "execution_count": 16,
     "metadata": {},
     "output_type": "execute_result"
    }
   ],
   "source": [
    "queryString = \"\"\"\n",
    "SELECT DISTINCT ?p ?pname ?o ?oname WHERE {\n",
    "     wd:Q1243029 ?p ?o .\n",
    "    \n",
    "    # this returns the labels\n",
    "    ?o <http://schema.org/name> ?oname .\n",
    "    ?p <http://schema.org/name> ?pname .\n",
    "}\n",
    "\"\"\"\n",
    "\n",
    "print(\"Results\")\n",
    "run_query(queryString)"
   ]
  },
  {
   "cell_type": "markdown",
   "id": "d11c07e6-8bf0-426f-8fe1-999e7dd251fb",
   "metadata": {},
   "source": [
    "I need to check the property of human taking one random character from above"
   ]
  },
  {
   "cell_type": "code",
   "execution_count": 6,
   "id": "e0972766-cf7d-4ad8-a346-e64cd3b4870f",
   "metadata": {
    "collapsed": true,
    "jupyter": {
     "outputs_hidden": true
    },
    "tags": []
   },
   "outputs": [
    {
     "name": "stdout",
     "output_type": "stream",
     "text": [
      "Results\n",
      "[('p', 'http://www.wikidata.org/prop/direct/P106'), ('pname', 'occupation'), ('o', 'http://www.wikidata.org/entity/Q10800557'), ('oname', 'film actor')]\n",
      "[('p', 'http://www.wikidata.org/prop/direct/P106'), ('pname', 'occupation'), ('o', 'http://www.wikidata.org/entity/Q3282637'), ('oname', 'film producer')]\n",
      "[('p', 'http://www.wikidata.org/prop/direct/P106'), ('pname', 'occupation'), ('o', 'http://www.wikidata.org/entity/Q10798782'), ('oname', 'television actor')]\n",
      "[('p', 'http://www.wikidata.org/prop/direct/P106'), ('pname', 'occupation'), ('o', 'http://www.wikidata.org/entity/Q33999'), ('oname', 'actor')]\n",
      "[('p', 'http://www.wikidata.org/prop/direct/P19'), ('pname', 'place of birth'), ('o', 'http://www.wikidata.org/entity/Q47164'), ('oname', 'Santa Monica')]\n",
      "[('p', 'http://www.wikidata.org/prop/direct/P21'), ('pname', 'sex or gender'), ('o', 'http://www.wikidata.org/entity/Q6581072'), ('oname', 'female')]\n",
      "[('p', 'http://www.wikidata.org/prop/direct/P22'), ('pname', 'father'), ('o', 'http://www.wikidata.org/entity/Q162389'), ('oname', 'Tony Curtis')]\n",
      "[('p', 'http://www.wikidata.org/prop/direct/P25'), ('pname', 'mother'), ('o', 'http://www.wikidata.org/entity/Q205314'), ('oname', 'Janet Leigh')]\n",
      "[('p', 'http://www.wikidata.org/prop/direct/P27'), ('pname', 'country of citizenship'), ('o', 'http://www.wikidata.org/entity/Q30'), ('oname', 'United States of America')]\n",
      "[('p', 'http://www.wikidata.org/prop/direct/P31'), ('pname', 'instance of'), ('o', 'http://www.wikidata.org/entity/Q5'), ('oname', 'human')]\n"
     ]
    },
    {
     "data": {
      "text/plain": [
       "10"
      ]
     },
     "execution_count": 6,
     "metadata": {},
     "output_type": "execute_result"
    }
   ],
   "source": [
    "queryString = \"\"\"\n",
    "SELECT DISTINCT ?p ?pname ?o ?oname WHERE {\n",
    "     wd:Q273574 ?p ?o .\n",
    "    \n",
    "    # this returns the labels\n",
    "    ?o <http://schema.org/name> ?oname .\n",
    "    ?p <http://schema.org/name> ?pname .\n",
    "}\n",
    "LIMIT 10\n",
    "\"\"\"\n",
    "\n",
    "print(\"Results\")\n",
    "run_query(queryString)"
   ]
  },
  {
   "cell_type": "markdown",
   "id": "c033c954-58cc-45ab-b5ea-1585d38310f8",
   "metadata": {},
   "source": [
    "I see that Q5 is the code for humans"
   ]
  },
  {
   "cell_type": "code",
   "execution_count": 7,
   "id": "89288013-eaa5-4098-bc43-29997aad82ab",
   "metadata": {},
   "outputs": [
    {
     "name": "stdout",
     "output_type": "stream",
     "text": [
      "Results\n",
      "[('p', 'http://www.wikidata.org/prop/direct/P161'), ('pname', 'cast member'), ('o', 'http://www.wikidata.org/entity/Q2865227'), ('oname', 'Arthur Malet')]\n",
      "[('p', 'http://www.wikidata.org/prop/direct/P161'), ('pname', 'cast member'), ('o', 'http://www.wikidata.org/entity/Q3066766'), ('oname', 'Tony Moran')]\n",
      "[('p', 'http://www.wikidata.org/prop/direct/P161'), ('pname', 'cast member'), ('o', 'http://www.wikidata.org/entity/Q106997'), ('oname', 'Jamie Lee Curtis')]\n",
      "[('p', 'http://www.wikidata.org/prop/direct/P161'), ('pname', 'cast member'), ('o', 'http://www.wikidata.org/entity/Q201570'), ('oname', 'Nancy Kyes')]\n",
      "[('p', 'http://www.wikidata.org/prop/direct/P1040'), ('pname', 'film editor'), ('o', 'http://www.wikidata.org/entity/Q574983'), ('oname', 'Tommy Lee Wallace')]\n",
      "[('p', 'http://www.wikidata.org/prop/direct/P2554'), ('pname', 'production designer'), ('o', 'http://www.wikidata.org/entity/Q574983'), ('oname', 'Tommy Lee Wallace')]\n",
      "[('p', 'http://www.wikidata.org/prop/direct/P161'), ('pname', 'cast member'), ('o', 'http://www.wikidata.org/entity/Q1064022'), ('oname', 'Charles Cyphers')]\n",
      "[('p', 'http://www.wikidata.org/prop/direct/P161'), ('pname', 'cast member'), ('o', 'http://www.wikidata.org/entity/Q95008'), ('oname', 'John Carpenter')]\n",
      "[('p', 'http://www.wikidata.org/prop/direct/P57'), ('pname', 'director'), ('o', 'http://www.wikidata.org/entity/Q95008'), ('oname', 'John Carpenter')]\n",
      "[('p', 'http://www.wikidata.org/prop/direct/P86'), ('pname', 'composer'), ('o', 'http://www.wikidata.org/entity/Q95008'), ('oname', 'John Carpenter')]\n",
      "[('p', 'http://www.wikidata.org/prop/direct/P175'), ('pname', 'performer'), ('o', 'http://www.wikidata.org/entity/Q95008'), ('oname', 'John Carpenter')]\n",
      "[('p', 'http://www.wikidata.org/prop/direct/P58'), ('pname', 'screenwriter'), ('o', 'http://www.wikidata.org/entity/Q95008'), ('oname', 'John Carpenter')]\n",
      "[('p', 'http://www.wikidata.org/prop/direct/P58'), ('pname', 'screenwriter'), ('o', 'http://www.wikidata.org/entity/Q262102'), ('oname', 'Debra Hill')]\n",
      "[('p', 'http://www.wikidata.org/prop/direct/P162'), ('pname', 'producer'), ('o', 'http://www.wikidata.org/entity/Q262102'), ('oname', 'Debra Hill')]\n",
      "[('p', 'http://www.wikidata.org/prop/direct/P161'), ('pname', 'cast member'), ('o', 'http://www.wikidata.org/entity/Q936000'), ('oname', 'Nick Castle')]\n",
      "[('p', 'http://www.wikidata.org/prop/direct/P161'), ('pname', 'cast member'), ('o', 'http://www.wikidata.org/entity/Q1853959'), ('oname', 'Kyle Richards')]\n",
      "[('p', 'http://www.wikidata.org/prop/direct/P161'), ('pname', 'cast member'), ('o', 'http://www.wikidata.org/entity/Q314914'), ('oname', 'Donald Pleasence')]\n",
      "[('p', 'http://www.wikidata.org/prop/direct/P344'), ('pname', 'director of photography'), ('o', 'http://www.wikidata.org/entity/Q497036'), ('oname', 'Dean Cundey')]\n",
      "[('p', 'http://www.wikidata.org/prop/direct/P161'), ('pname', 'cast member'), ('o', 'http://www.wikidata.org/entity/Q3093664'), ('oname', 'Gabriel Cattand')]\n",
      "[('p', 'http://www.wikidata.org/prop/direct/P1431'), ('pname', 'executive producer'), ('o', 'http://www.wikidata.org/entity/Q380471'), ('oname', 'Moustapha Akkad')]\n",
      "[('p', 'http://www.wikidata.org/prop/direct/P162'), ('pname', 'producer'), ('o', 'http://www.wikidata.org/entity/Q380471'), ('oname', 'Moustapha Akkad')]\n",
      "[('p', 'http://www.wikidata.org/prop/direct/P161'), ('pname', 'cast member'), ('o', 'http://www.wikidata.org/entity/Q270079'), ('oname', 'P. J. Soles')]\n",
      "[('p', 'http://www.wikidata.org/prop/direct/P162'), ('pname', 'producer'), ('o', 'http://www.wikidata.org/entity/Q3802169'), ('oname', 'Irwin Yablans')]\n",
      "[('p', 'http://www.wikidata.org/prop/direct/P161'), ('pname', 'cast member'), ('o', 'http://www.wikidata.org/entity/Q6963012'), ('oname', 'Nancy Stephens')]\n",
      "[('p', 'http://www.wikidata.org/prop/direct/P161'), ('pname', 'cast member'), ('o', 'http://www.wikidata.org/entity/Q6248629'), ('oname', 'John Michael Graham')]\n"
     ]
    },
    {
     "data": {
      "text/plain": [
       "25"
      ]
     },
     "execution_count": 7,
     "metadata": {},
     "output_type": "execute_result"
    }
   ],
   "source": [
    "queryString = \"\"\"\n",
    "SELECT DISTINCT ?p ?pname ?o ?oname WHERE {\n",
    "     wd:Q221103 ?p ?o .\n",
    "     ?o wdt:P31 wd:Q5 .\n",
    "    \n",
    "    # this returns the labels\n",
    "    ?o <http://schema.org/name> ?oname .\n",
    "    ?p <http://schema.org/name> ?pname .\n",
    "}\n",
    "\"\"\"\n",
    "\n",
    "print(\"Results\")\n",
    "run_query(queryString)"
   ]
  },
  {
   "cell_type": "markdown",
   "id": "eb92a02b-26d6-4fc8-a2b8-a66fff2d52a6",
   "metadata": {},
   "source": [
    "Properties I am interested in, relatively to Halloween are: film editor (P1040), P161 (cast member), producer (P162), performer(P175), director of photography (P344), screenwriter(P58), composer(P86), production designer (P2554), executive producer(P1431)"
   ]
  },
  {
   "cell_type": "markdown",
   "id": "7386c04a-0a28-495f-b913-d509de545875",
   "metadata": {},
   "source": [
    "let's check for Friday the 13th if there is something in common"
   ]
  },
  {
   "cell_type": "code",
   "execution_count": 15,
   "id": "9710fac7-6820-45ef-9319-fb4ea7a6beb6",
   "metadata": {},
   "outputs": [
    {
     "name": "stdout",
     "output_type": "stream",
     "text": [
      "Results\n",
      "Empty\n"
     ]
    },
    {
     "data": {
      "text/plain": [
       "0"
      ]
     },
     "execution_count": 15,
     "metadata": {},
     "output_type": "execute_result"
    }
   ],
   "source": [
    "queryString = \"\"\"\n",
    "\n",
    "    SELECT DISTINCT ?p ?pname ?o ?oname WHERE {\n",
    "        wd:Q221103 ?p ?o .\n",
    "        wd:Q1243029 ?p ?o .\n",
    "        ?o wdt:P31 wd:Q5 .\n",
    "\n",
    "        # this returns the label                 \n",
    "        ?p <http://schema.org/name> ?pname .\n",
    "        ?o <http://schema.org/name> ?oname .  \n",
    "}\n",
    "\"\"\"\n",
    "\n",
    "print(\"Results\")\n",
    "run_query(queryString)"
   ]
  },
  {
   "cell_type": "markdown",
   "id": "0aca36cd-83be-4c51-8215-8d5216d7c916",
   "metadata": {},
   "source": [
    "No commonality"
   ]
  },
  {
   "cell_type": "markdown",
   "id": "c3e8db6c-2d69-4f36-b0fd-89766fc6cf96",
   "metadata": {
    "tags": []
   },
   "source": [
    "### Task 2. Check who was the most famous actor/actress on Halloween and Friday the 13th at the time of the release (e.g., the actor/actress who acted in more movies before and/or the actor/actress who won more academy awards)"
   ]
  },
  {
   "cell_type": "markdown",
   "id": "5e026b4b-07c4-44cf-ad0e-cc4bc4606eb6",
   "metadata": {},
   "source": [
    "Check properties of an actor, for example let's choose Jamie Lee Curtis, that acted in Halloween"
   ]
  },
  {
   "cell_type": "code",
   "execution_count": 8,
   "id": "07588bab-5d62-466f-adb6-beed0da78ee3",
   "metadata": {
    "collapsed": true,
    "jupyter": {
     "outputs_hidden": true
    },
    "tags": []
   },
   "outputs": [
    {
     "name": "stdout",
     "output_type": "stream",
     "text": [
      "Results\n",
      "[('p', 'http://www.wikidata.org/prop/direct/P734'), ('pName', 'family name'), ('o', 'http://www.wikidata.org/entity/Q12787162'), ('oName', 'Curtis')]\n",
      "[('p', 'http://www.wikidata.org/prop/direct/P22'), ('pName', 'father'), ('o', 'http://www.wikidata.org/entity/Q162389'), ('oName', 'Tony Curtis')]\n",
      "[('p', 'http://www.wikidata.org/prop/direct/P25'), ('pName', 'mother'), ('o', 'http://www.wikidata.org/entity/Q205314'), ('oName', 'Janet Leigh')]\n",
      "[('p', 'http://www.wikidata.org/prop/direct/P3373'), ('pName', 'sibling'), ('o', 'http://www.wikidata.org/entity/Q273574'), ('oName', 'Kelly Curtis')]\n",
      "[('p', 'http://www.wikidata.org/prop/direct/P69'), ('pName', 'educated at'), ('o', 'http://www.wikidata.org/entity/Q1185037'), ('oName', 'Beverly Hills High School')]\n",
      "[('p', 'http://www.wikidata.org/prop/direct/P69'), ('pName', 'educated at'), ('o', 'http://www.wikidata.org/entity/Q5103452'), ('oName', 'Choate Rosemary Hall')]\n",
      "[('p', 'http://www.wikidata.org/prop/direct/P1411'), ('pName', 'nominated for'), ('o', 'http://www.wikidata.org/entity/Q1011564'), ('oName', 'Golden Globe Award for Best Actress – Motion Picture Musical or Comedy')]\n",
      "[('p', 'http://www.wikidata.org/prop/direct/P166'), ('pName', 'award received'), ('o', 'http://www.wikidata.org/entity/Q1011564'), ('oName', 'Golden Globe Award for Best Actress – Motion Picture Musical or Comedy')]\n",
      "[('p', 'http://www.wikidata.org/prop/direct/P106'), ('pName', 'occupation'), ('o', 'http://www.wikidata.org/entity/Q10798782'), ('oName', 'television actor')]\n",
      "[('p', 'http://www.wikidata.org/prop/direct/P106'), ('pName', 'occupation'), ('o', 'http://www.wikidata.org/entity/Q10800557'), ('oName', 'film actor')]\n",
      "[('p', 'http://www.wikidata.org/prop/direct/P735'), ('pName', 'given name'), ('o', 'http://www.wikidata.org/entity/Q1674029'), ('oName', 'Jamie')]\n",
      "[('p', 'http://www.wikidata.org/prop/direct/P166'), ('pName', 'award received'), ('o', 'http://www.wikidata.org/entity/Q17985761'), ('oName', 'star on Hollywood Walk of Fame')]\n",
      "[('p', 'http://www.wikidata.org/prop/direct/P66'), ('pName', 'ancestral home'), ('o', 'http://www.wikidata.org/entity/Q183'), ('oName', 'Germany')]\n",
      "[('p', 'http://www.wikidata.org/prop/direct/P1412'), ('pName', 'languages spoken, written or signed'), ('o', 'http://www.wikidata.org/entity/Q1860'), ('oName', 'English')]\n",
      "[('p', 'http://www.wikidata.org/prop/direct/P106'), ('pName', 'occupation'), ('o', 'http://www.wikidata.org/entity/Q2405480'), ('oName', 'voice actor')]\n",
      "[('p', 'http://www.wikidata.org/prop/direct/P102'), ('pName', 'member of political party'), ('o', 'http://www.wikidata.org/entity/Q29552'), ('oName', 'Democratic Party')]\n",
      "[('p', 'http://www.wikidata.org/prop/direct/P27'), ('pName', 'country of citizenship'), ('o', 'http://www.wikidata.org/entity/Q30'), ('oName', 'United States of America')]\n",
      "[('p', 'http://www.wikidata.org/prop/direct/P937'), ('pName', 'work location'), ('o', 'http://www.wikidata.org/entity/Q30'), ('oName', 'United States of America')]\n",
      "[('p', 'http://www.wikidata.org/prop/direct/P106'), ('pName', 'occupation'), ('o', 'http://www.wikidata.org/entity/Q33999'), ('oName', 'actor')]\n",
      "[('p', 'http://www.wikidata.org/prop/direct/P106'), ('pName', 'occupation'), ('o', 'http://www.wikidata.org/entity/Q36180'), ('oName', 'writer')]\n",
      "[('p', 'http://www.wikidata.org/prop/direct/P19'), ('pName', 'place of birth'), ('o', 'http://www.wikidata.org/entity/Q47164'), ('oName', 'Santa Monica')]\n",
      "[('p', 'http://www.wikidata.org/prop/direct/P106'), ('pName', 'occupation'), ('o', 'http://www.wikidata.org/entity/Q4853732'), ('oName', \"children's writer\")]\n",
      "[('p', 'http://www.wikidata.org/prop/direct/P31'), ('pName', 'instance of'), ('o', 'http://www.wikidata.org/entity/Q5'), ('oName', 'human')]\n",
      "[('p', 'http://www.wikidata.org/prop/direct/P1411'), ('pName', 'nominated for'), ('o', 'http://www.wikidata.org/entity/Q5261137'), ('oName', 'Satellite Award for Best Actress – Motion Picture Musical or Comedy')]\n",
      "[('p', 'http://www.wikidata.org/prop/direct/P551'), ('pName', 'residence'), ('o', 'http://www.wikidata.org/entity/Q65'), ('oName', 'Los Angeles')]\n",
      "[('p', 'http://www.wikidata.org/prop/direct/P21'), ('pName', 'sex or gender'), ('o', 'http://www.wikidata.org/entity/Q6581072'), ('oName', 'female')]\n",
      "[('p', 'http://www.wikidata.org/prop/direct/P1343'), ('pName', 'described by source'), ('o', 'http://www.wikidata.org/entity/Q67311526'), ('oName', 'Obalky knih.cz')]\n",
      "[('p', 'http://www.wikidata.org/prop/direct/P1411'), ('pName', 'nominated for'), ('o', 'http://www.wikidata.org/entity/Q687123'), ('oName', 'BAFTA Award for Best Actress in a Leading Role')]\n",
      "[('p', 'http://www.wikidata.org/prop/direct/P1411'), ('pName', 'nominated for'), ('o', 'http://www.wikidata.org/entity/Q989447'), ('oName', 'Primetime Emmy Award for Outstanding Lead Actress in a Miniseries or a Movie')]\n",
      "[('p', 'http://www.wikidata.org/prop/direct/P97'), ('pName', 'noble title'), ('o', 'http://www.wikidata.org/entity/Q165503'), ('oName', 'baron')]\n",
      "[('p', 'http://www.wikidata.org/prop/direct/P2348'), ('pName', 'time period'), ('o', 'http://www.wikidata.org/entity/Q6939'), ('oName', '21st century')]\n",
      "[('p', 'http://www.wikidata.org/prop/direct/P1411'), ('pName', 'nominated for'), ('o', 'http://www.wikidata.org/entity/Q1320315'), ('oName', 'Screen Actors Guild Award for Outstanding Performance by a Female Actor in a Supporting Role')]\n",
      "[('p', 'http://www.wikidata.org/prop/direct/P1411'), ('pName', 'nominated for'), ('o', 'http://www.wikidata.org/entity/Q257235'), ('oName', 'MTV Movie Award for Best Kiss')]\n",
      "[('p', 'http://www.wikidata.org/prop/direct/P1411'), ('pName', 'nominated for'), ('o', 'http://www.wikidata.org/entity/Q4220898'), ('oName', 'MTV Movie Award for Best Female Performance')]\n",
      "[('p', 'http://www.wikidata.org/prop/direct/P1411'), ('pName', 'nominated for'), ('o', 'http://www.wikidata.org/entity/Q787123'), ('oName', 'BAFTA Award for Best Actress in a Supporting Role')]\n",
      "[('p', 'http://www.wikidata.org/prop/direct/P166'), ('pName', 'award received'), ('o', 'http://www.wikidata.org/entity/Q787123'), ('oName', 'BAFTA Award for Best Actress in a Supporting Role')]\n",
      "[('p', 'http://www.wikidata.org/prop/direct/P735'), ('pName', 'given name'), ('o', 'http://www.wikidata.org/entity/Q2061957'), ('oName', 'Lee')]\n",
      "[('p', 'http://www.wikidata.org/prop/direct/P26'), ('pName', 'spouse'), ('o', 'http://www.wikidata.org/entity/Q336074'), ('oName', 'Christopher Guest')]\n",
      "[('p', 'http://www.wikidata.org/prop/direct/P69'), ('pName', 'educated at'), ('o', 'http://www.wikidata.org/entity/Q630226'), ('oName', 'University of the Pacific')]\n",
      "[('p', 'http://www.wikidata.org/prop/direct/P69'), ('pName', 'educated at'), ('o', 'http://www.wikidata.org/entity/Q5676252'), ('oName', 'Harvard-Westlake School')]\n",
      "[('p', 'http://www.wikidata.org/prop/direct/P69'), ('pName', 'educated at'), ('o', 'http://www.wikidata.org/entity/Q7988976'), ('oName', 'Westlake High School')]\n",
      "[('p', 'http://www.wikidata.org/prop/direct/P1411'), ('pName', 'nominated for'), ('o', 'http://www.wikidata.org/entity/Q5533178'), ('oName', 'Genie Award for Best Performance by a Foreign Actress')]\n",
      "[('p', 'http://www.wikidata.org/prop/direct/P800'), ('pName', 'notable work'), ('o', 'http://www.wikidata.org/entity/Q221103'), ('oName', 'Halloween')]\n",
      "[('p', 'http://www.wikidata.org/prop/direct/P40'), ('pName', 'child'), ('o', 'http://www.wikidata.org/entity/Q43376115'), ('oName', 'Thomas Guest')]\n",
      "[('p', 'http://www.wikidata.org/prop/direct/P800'), ('pName', 'notable work'), ('o', 'http://www.wikidata.org/entity/Q466186'), ('oName', 'A Fish Called Wanda')]\n",
      "[('p', 'http://www.wikidata.org/prop/direct/P910'), ('pName', \"topic's main category\"), ('o', 'http://www.wikidata.org/entity/Q55244953'), ('oName', 'Category:Jamie Lee Curtis')]\n",
      "[('p', 'http://www.wikidata.org/prop/direct/P40'), ('pName', 'child'), ('o', 'http://www.wikidata.org/entity/Q56234831'), ('oName', 'Annie Guest')]\n"
     ]
    },
    {
     "data": {
      "text/plain": [
       "47"
      ]
     },
     "execution_count": 8,
     "metadata": {},
     "output_type": "execute_result"
    }
   ],
   "source": [
    "queryString = \"\"\"        #halloween \n",
    "SELECT DISTINCT ?p ?pName ?o ?oName WHERE { \n",
    "        wd:Q106997 ?p ?o .\n",
    "                     \n",
    "        ?p <http://schema.org/name> ?pName .\n",
    "        ?o <http://schema.org/name> ?oName .  \n",
    "}\n",
    "\"\"\"\n",
    "\n",
    "print(\"Results\")\n",
    "run_query(queryString)"
   ]
  },
  {
   "cell_type": "markdown",
   "id": "8834e3bb-84c2-43cf-b92f-f2dee879c69c",
   "metadata": {},
   "source": [
    "I decide to make the most famous actor or actress based on the number of award nominations."
   ]
  },
  {
   "cell_type": "code",
   "execution_count": 9,
   "id": "b62c222c-ccba-43e2-9966-28fd084cc5b6",
   "metadata": {
    "collapsed": true,
    "jupyter": {
     "outputs_hidden": true,
     "source_hidden": true
    },
    "tags": []
   },
   "outputs": [
    {
     "name": "stdout",
     "output_type": "stream",
     "text": [
      "Results\n",
      "[('actorName', 'Jamie Lee Curtis'), ('numNomination', '9')]\n"
     ]
    },
    {
     "data": {
      "text/plain": [
       "1"
      ]
     },
     "execution_count": 9,
     "metadata": {},
     "output_type": "execute_result"
    }
   ],
   "source": [
    "queryString = \"\"\"        \n",
    "SELECT ?actorName (COUNT (?o) as ?numNomination) WHERE {\n",
    "{\n",
    "     wd:Q221103 wdt:P161 ?actor .\n",
    "         ?actor wdt:P1411 ?o .\n",
    "        \n",
    "        # this returns the label                 \n",
    "        ?actor <http://schema.org/name> ?actorName .  \n",
    "}\n",
    "UNION\n",
    "{ \n",
    "         wd:Q1243029 wdt:P161 ?actor .\n",
    "         ?actor wdt:P1411 ?o .\n",
    "        \n",
    "        # this returns the label                 \n",
    "        ?actor <http://schema.org/name> ?actorName .  \n",
    "}\n",
    "}\n",
    "ORDER BY desc (?numNomination)\n",
    "LIMIT 1\n",
    "\"\"\"\n",
    "\n",
    "print(\"Results\")\n",
    "run_query(queryString)"
   ]
  },
  {
   "cell_type": "markdown",
   "id": "747d90bf-7094-43eb-b97f-713dc660636f",
   "metadata": {
    "jp-MarkdownHeadingCollapsed": true,
    "tags": []
   },
   "source": [
    "### Task 3. Check which actor/actress did more movies after the release of these two films (consider the films separately)\n"
   ]
  },
  {
   "cell_type": "markdown",
   "id": "9d556a70-3732-4f7e-89f9-0df0264db72b",
   "metadata": {},
   "source": [
    "I see that in both of the films there isn't any property related to the year of release of the movie. I had to remove this constraint."
   ]
  },
  {
   "cell_type": "markdown",
   "id": "afd3b91d-8cf5-434f-815a-4fb559ec7ca3",
   "metadata": {},
   "source": [
    "Firstly, Halloween"
   ]
  },
  {
   "cell_type": "code",
   "execution_count": 18,
   "id": "29e49c0f-f15e-4d2f-86cb-f6effaf27749",
   "metadata": {},
   "outputs": [
    {
     "name": "stdout",
     "output_type": "stream",
     "text": [
      "Results\n",
      "[('actorName', 'Donald Pleasence'), ('filmCount', '128')]\n"
     ]
    },
    {
     "data": {
      "text/plain": [
       "1"
      ]
     },
     "execution_count": 18,
     "metadata": {},
     "output_type": "execute_result"
    }
   ],
   "source": [
    "queryString = \"\"\"        \n",
    "SELECT ?actorName (COUNT (?film) as ?filmCount) WHERE {\n",
    "        wd:Q221103 wdt:P161 ?actor .\n",
    "        ?film wdt:P161 ?actor .\n",
    "        \n",
    "        # this returns the label\n",
    "        ?actor <http://schema.org/name> ?actorName . \n",
    "}\n",
    "GROUP BY ?actorName\n",
    "ORDER BY desc(?filmCount)\n",
    "LIMIT 1\n",
    "\"\"\"\n",
    "\n",
    "print(\"Results\")\n",
    "run_query(queryString)"
   ]
  },
  {
   "cell_type": "markdown",
   "id": "84806d5d-ebc8-47af-93e2-8a84395d65b9",
   "metadata": {},
   "source": [
    "Then, Friday the 13th"
   ]
  },
  {
   "cell_type": "code",
   "execution_count": 19,
   "id": "0c3e9351-ad49-41b5-83d3-0cdb356161a3",
   "metadata": {},
   "outputs": [
    {
     "name": "stdout",
     "output_type": "stream",
     "text": [
      "Results\n",
      "[('actorName', 'Kevin Bacon'), ('filmCount', '69')]\n"
     ]
    },
    {
     "data": {
      "text/plain": [
       "1"
      ]
     },
     "execution_count": 19,
     "metadata": {},
     "output_type": "execute_result"
    }
   ],
   "source": [
    "queryString = \"\"\"        \n",
    "SELECT ?actorName (COUNT (?film) as ?filmCount) WHERE {\n",
    "        wd:Q1243029 wdt:P161 ?actor .\n",
    "        ?film wdt:P161 ?actor .\n",
    "        \n",
    "        # this returns the label\n",
    "        ?actor <http://schema.org/name> ?actorName . \n",
    "}\n",
    "GROUP BY ?actorName\n",
    "ORDER BY desc(?filmCount)\n",
    "LIMIT 1\n",
    "\"\"\"\n",
    "\n",
    "print(\"Results\")\n",
    "run_query(queryString)"
   ]
  },
  {
   "cell_type": "markdown",
   "id": "518fea6e-6c4b-4bc5-af16-8a88a006bb3e",
   "metadata": {
    "jp-MarkdownHeadingCollapsed": true,
    "tags": []
   },
   "source": [
    "### Task 4. Get all the movies of the two franchises (return year and director)"
   ]
  },
  {
   "cell_type": "markdown",
   "id": "f2988fd0-b1d8-4ba8-93a6-b1dd6853130a",
   "metadata": {},
   "source": [
    "Firstly, Halloween"
   ]
  },
  {
   "cell_type": "code",
   "execution_count": 77,
   "id": "8b974ae5-2241-4d8b-80f4-dfd155eb7056",
   "metadata": {},
   "outputs": [
    {
     "name": "stdout",
     "output_type": "stream",
     "text": [
      "Results\n",
      "[('s', 'http://www.wikidata.org/entity/Q959853'), ('film', 'Halloween 4: The Return of Michael Myers'), ('director', 'Dwight H. Little')]\n",
      "[('s', 'http://www.wikidata.org/entity/Q203705'), ('film', 'Halloween III: Season of the Witch'), ('director', 'Tommy Lee Wallace')]\n",
      "[('s', 'http://www.wikidata.org/entity/Q850312'), ('film', 'Halloween II'), ('director', 'John Carpenter')]\n",
      "[('s', 'http://www.wikidata.org/entity/Q221103'), ('film', 'Halloween'), ('director', 'John Carpenter')]\n",
      "[('s', 'http://www.wikidata.org/entity/Q908690'), ('film', 'Halloween II'), ('director', 'Rob Zombie')]\n",
      "[('s', 'http://www.wikidata.org/entity/Q909063'), ('film', 'Halloween'), ('director', 'Rob Zombie')]\n",
      "[('s', 'http://www.wikidata.org/entity/Q1050815'), ('film', 'Halloween H20: 20 Years Later'), ('director', 'Steve Miner')]\n",
      "[('s', 'http://www.wikidata.org/entity/Q976728'), ('film', 'Halloween 5: The Revenge of Michael Myers'), ('director', 'Dominique Othenin-Girard')]\n",
      "[('s', 'http://www.wikidata.org/entity/Q176488'), ('film', 'Halloween: Resurrection'), ('director', 'Rick Rosenthal')]\n",
      "[('s', 'http://www.wikidata.org/entity/Q850312'), ('film', 'Halloween II'), ('director', 'Rick Rosenthal')]\n",
      "[('s', 'http://www.wikidata.org/entity/Q1138055'), ('film', 'Halloween: The Curse of Michael Myers'), ('director', 'Joe Chappelle')]\n"
     ]
    },
    {
     "data": {
      "text/plain": [
       "11"
      ]
     },
     "execution_count": 77,
     "metadata": {},
     "output_type": "execute_result"
    }
   ],
   "source": [
    "queryString = \"\"\"        \n",
    "SELECT ?s ?film ?director WHERE \n",
    "{\n",
    "        ?s wdt:P179 wd:Q1364022 ;\n",
    "            wdt:P57 ?d .\n",
    "       \n",
    "        # this returns the label\n",
    "        ?s <http://schema.org/name> ?film .\n",
    "        ?d <http://schema.org/name> ?director .\n",
    "}\n",
    "\"\"\"\n",
    "\n",
    "print(\"Results\")\n",
    "run_query(queryString)"
   ]
  },
  {
   "cell_type": "code",
   "execution_count": null,
   "id": "b91d23f1-0833-4c18-819f-24cb21c3f470",
   "metadata": {},
   "outputs": [],
   "source": [
    "Then, Friday the 13th"
   ]
  },
  {
   "cell_type": "code",
   "execution_count": 79,
   "id": "51257109-c68f-4d02-8600-63c6725630f6",
   "metadata": {},
   "outputs": [
    {
     "name": "stdout",
     "output_type": "stream",
     "text": [
      "Results\n",
      "[('s', 'http://www.wikidata.org/entity/Q1454799'), ('film', 'Friday the 13th Part VI: Jason Lives'), ('director', 'Tom McLoughlin')]\n",
      "[('s', 'http://www.wikidata.org/entity/Q1427521'), ('film', 'Jason X'), ('director', 'James Isaac')]\n",
      "[('s', 'http://www.wikidata.org/entity/Q1243009'), ('film', 'Friday the 13th Part 2'), ('director', 'Sean S. Cunningham')]\n",
      "[('s', 'http://www.wikidata.org/entity/Q1243029'), ('film', 'Friday the 13th'), ('director', 'Sean S. Cunningham')]\n",
      "[('s', 'http://www.wikidata.org/entity/Q1243009'), ('film', 'Friday the 13th Part 2'), ('director', 'Steve Miner')]\n",
      "[('s', 'http://www.wikidata.org/entity/Q1243013'), ('film', 'Friday the 13th Part III'), ('director', 'Steve Miner')]\n",
      "[('s', 'http://www.wikidata.org/entity/Q1454798'), ('film', 'Friday the 13th Part VII: The New Blood'), ('director', 'John Carl Buechler')]\n",
      "[('s', 'http://www.wikidata.org/entity/Q965859'), ('film', 'Freddy vs. Jason'), ('director', 'Ronny Yu')]\n",
      "[('s', 'http://www.wikidata.org/entity/Q1454794'), ('film', 'Friday the 13th Part VIII: Jason Takes Manhattan'), ('director', 'Rob Hedden')]\n",
      "[('s', 'http://www.wikidata.org/entity/Q1454815'), ('film', 'Friday the 13th'), ('director', 'Marcus Nispel')]\n",
      "[('s', 'http://www.wikidata.org/entity/Q1683918'), ('film', 'Jason Goes to Hell: The Final Friday'), ('director', 'Adam Marcus')]\n",
      "[('s', 'http://www.wikidata.org/entity/Q1243019'), ('film', 'Friday the 13th: The Final Chapter'), ('director', 'Joseph Zito')]\n",
      "[('s', 'http://www.wikidata.org/entity/Q286830'), ('film', 'Friday the 13th: A New Beginning'), ('director', 'Danny Steinmann')]\n"
     ]
    },
    {
     "data": {
      "text/plain": [
       "13"
      ]
     },
     "execution_count": 79,
     "metadata": {},
     "output_type": "execute_result"
    }
   ],
   "source": [
    "queryString = \"\"\"        \n",
    "SELECT ?s ?film ?director WHERE \n",
    "{\n",
    "        ?s wdt:P179 wd:Q1138878 ;\n",
    "            wdt:P57 ?d .\n",
    "       \n",
    "        # this returns the label\n",
    "        ?s <http://schema.org/name> ?film .\n",
    "        ?d <http://schema.org/name> ?director .\n",
    "}\n",
    "\"\"\"\n",
    "\n",
    "print(\"Results\")\n",
    "run_query(queryString)"
   ]
  },
  {
   "cell_type": "markdown",
   "id": "117f46aa-03b1-41c0-aeae-c717d281e896",
   "metadata": {},
   "source": [
    "I check again if I can find the year of publication of the movies"
   ]
  },
  {
   "cell_type": "code",
   "execution_count": 15,
   "id": "8ea0bfea-5df4-4c6b-98b1-4ed9228041df",
   "metadata": {
    "collapsed": true,
    "jupyter": {
     "outputs_hidden": true
    },
    "tags": []
   },
   "outputs": [
    {
     "name": "stdout",
     "output_type": "stream",
     "text": [
      "Results\n",
      "[('pname', 'film editor'), ('o', 'http://www.wikidata.org/entity/Q574983')]\n",
      "[('pname', 'Box Office Mojo film ID (former scheme)'), ('o', 'halloween')]\n",
      "[('pname', 'Rotten Tomatoes ID'), ('o', 'm/1009113-halloween')]\n",
      "[('pname', 'AlloCiné film ID'), ('o', '9434')]\n",
      "[('pname', 'movement'), ('o', 'http://www.wikidata.org/entity/Q377616')]\n",
      "[('pname', 'genre'), ('o', 'http://www.wikidata.org/entity/Q130232')]\n",
      "[('pname', 'genre'), ('o', 'http://www.wikidata.org/entity/Q200092')]\n",
      "[('pname', 'genre'), ('o', 'http://www.wikidata.org/entity/Q1146335')]\n",
      "[('pname', 'genre'), ('o', 'http://www.wikidata.org/entity/Q853630')]\n",
      "[('pname', 'Encyclopædia Britannica Online ID'), ('o', 'topic/Halloween-1978-film')]\n",
      "[('pname', 'takes place in fictional universe'), ('o', 'http://www.wikidata.org/entity/Q101480110')]\n",
      "[('pname', 'title'), ('o', 'Halloween')]\n",
      "[('pname', 'followed by'), ('o', 'http://www.wikidata.org/entity/Q850312')]\n",
      "[('pname', 'AllMovie title ID'), ('o', 'v21317')]\n",
      "[('pname', 'cast member'), ('o', 'http://www.wikidata.org/entity/Q2865227')]\n",
      "[('pname', 'cast member'), ('o', 'http://www.wikidata.org/entity/Q3066766')]\n",
      "[('pname', 'cast member'), ('o', 'http://www.wikidata.org/entity/Q106997')]\n",
      "[('pname', 'cast member'), ('o', 'http://www.wikidata.org/entity/Q201570')]\n",
      "[('pname', 'cast member'), ('o', 'http://www.wikidata.org/entity/Q1064022')]\n",
      "[('pname', 'cast member'), ('o', 'http://www.wikidata.org/entity/Q95008')]\n",
      "[('pname', 'cast member'), ('o', 'http://www.wikidata.org/entity/Q936000')]\n",
      "[('pname', 'cast member'), ('o', 'http://www.wikidata.org/entity/Q1853959')]\n",
      "[('pname', 'cast member'), ('o', 'http://www.wikidata.org/entity/Q314914')]\n",
      "[('pname', 'cast member'), ('o', 'http://www.wikidata.org/entity/Q3093664')]\n",
      "[('pname', 'cast member'), ('o', 'http://www.wikidata.org/entity/Q270079')]\n",
      "[('pname', 'cast member'), ('o', 'http://www.wikidata.org/entity/Q6963012')]\n",
      "[('pname', 'cast member'), ('o', 'http://www.wikidata.org/entity/Q6248629')]\n",
      "[('pname', 'producer'), ('o', 'http://www.wikidata.org/entity/Q262102')]\n",
      "[('pname', 'producer'), ('o', 'http://www.wikidata.org/entity/Q380471')]\n",
      "[('pname', 'producer'), ('o', 'http://www.wikidata.org/entity/Q3802169')]\n",
      "[('pname', 'award received'), ('o', 'http://www.wikidata.org/entity/Q823422')]\n",
      "[('pname', 'Metacritic ID'), ('o', 'movie/halloween-1978')]\n",
      "[('pname', 'performer'), ('o', 'http://www.wikidata.org/entity/Q95008')]\n",
      "[('pname', 'part of the series'), ('o', 'http://www.wikidata.org/entity/Q1364022')]\n",
      "[('pname', 'DNF film ID'), ('o', '16863')]\n",
      "[('pname', 'Netflix ID'), ('o', '569090')]\n",
      "[('pname', 'different from'), ('o', 'http://www.wikidata.org/entity/Q229620')]\n",
      "[('pname', 'MovieMeter film ID'), ('o', '1081')]\n",
      "[('pname', 'duration'), ('o', '91')]\n",
      "[('pname', 'aspect ratio'), ('o', 'http://www.wikidata.org/entity/Q21062414')]\n",
      "[('pname', 'cost'), ('o', '325000')]\n",
      "[('pname', 'VIAF ID'), ('o', '183290594')]\n",
      "[('pname', 'GND ID'), ('o', '7671785-9')]\n",
      "[('pname', 'Swedish Film Database film ID'), ('o', '8377')]\n",
      "[('pname', 'Elonet movie ID'), ('o', '121090')]\n",
      "[('pname', 'Library of Congress authority ID'), ('o', 'no98046857')]\n",
      "[('pname', 'Allcinema film ID'), ('o', '18702')]\n",
      "[('pname', 'KINENOTE film ID'), ('o', '7161')]\n",
      "[('pname', 'Movie Walker film ID'), ('o', 'mv7146')]\n",
      "[('pname', 'Scope.dk film ID'), ('o', '2575')]\n",
      "[('pname', 'ČSFD film ID'), ('o', '1322')]\n",
      "[('pname', 'Kinopoisk film ID'), ('o', '8435')]\n",
      "[('pname', 'TCM Movie Database film ID'), ('o', '77236')]\n",
      "[('pname', 'TV.com ID'), ('o', 'movies/halloween')]\n",
      "[('pname', 'EIDR content ID'), ('o', '10.5240/F55B-E276-0102-C4C1-93B5-Y')]\n",
      "[('pname', 'production company'), ('o', 'http://www.wikidata.org/entity/Q3685076')]\n",
      "[('pname', 'Filmiroda rating'), ('o', 'http://www.wikidata.org/entity/Q23830579')]\n",
      "[('pname', 'Cineplex Germany film ID'), ('o', '18105')]\n",
      "[('pname', 'instance of'), ('o', 'http://www.wikidata.org/entity/Q11424')]\n",
      "[('pname', 'LdiF ID'), ('o', '16452')]\n",
      "[('pname', 'cine.gr film ID'), ('o', '651007')]\n",
      "[('pname', 'OFDb film ID'), ('o', '63')]\n",
      "[('pname', 'EDb film ID'), ('o', 't0003057')]\n",
      "[('pname', 'elFilm film ID'), ('o', '77467')]\n",
      "[('pname', 'ISAN'), ('o', '0000-0001-3D3E-0000-E-0000-0000-W')]\n",
      "[('pname', 'Open Media Database film ID'), ('o', '948')]\n",
      "[('pname', 'director of photography'), ('o', 'http://www.wikidata.org/entity/Q497036')]\n",
      "[('pname', 'IMDb ID'), ('o', 'tt0077651')]\n",
      "[('pname', 'AFI Catalog of Feature Films ID'), ('o', '56347')]\n",
      "[('pname', 'original language of film or TV show'), ('o', 'http://www.wikidata.org/entity/Q1860')]\n",
      "[('pname', 'TV Guide show ID (former scheme)'), ('o', '125497')]\n",
      "[('pname', 'The Numbers movie ID'), ('o', 'Halloween')]\n",
      "[('pname', 'Deutsche Synchronkartei film ID'), ('o', '1392')]\n",
      "[('pname', 'Cinema.de ID'), ('o', '1331081')]\n",
      "[('pname', 'Cinémathèque québécoise work identifier'), ('o', '787')]\n",
      "[('pname', 'LUMIERE film ID'), ('o', '12659')]\n",
      "[('pname', 'distribution format'), ('o', 'http://www.wikidata.org/entity/Q723685')]\n",
      "[('pname', 'Douban film ID'), ('o', '1299586')]\n",
      "[('pname', 'color'), ('o', 'http://www.wikidata.org/entity/Q22006653')]\n",
      "[('pname', 'Bechdel Test Movie List ID'), ('o', '2815')]\n",
      "[('pname', 'CineMagia title ID'), ('o', '1774')]\n",
      "[('pname', 'MYmovies movie ID'), ('o', '11287')]\n",
      "[('pname', 'FilmAffinity ID'), ('o', '384174')]\n",
      "[('pname', 'TMDb movie ID'), ('o', '948')]\n",
      "[('pname', 'country of origin'), ('o', 'http://www.wikidata.org/entity/Q30')]\n",
      "[('pname', 'derivative work'), ('o', 'http://www.wikidata.org/entity/Q3285065')]\n",
      "[('pname', 'derivative work'), ('o', 'http://www.wikidata.org/entity/Q4502764')]\n",
      "[('pname', 'derivative work'), ('o', 'http://www.wikidata.org/entity/Q7079511')]\n",
      "[('pname', 'assessment'), ('o', 'http://www.wikidata.org/entity/Q4165246')]\n",
      "[('pname', 'assessment'), ('o', 'http://www.wikidata.org/entity/Q85783379')]\n",
      "[('pname', 'Filmweb.pl film ID'), ('o', '6009')]\n",
      "[('pname', 'Il mondo dei doppiatori ID'), ('o', 'film1/halloween1')]\n",
      "[('pname', 'director'), ('o', 'http://www.wikidata.org/entity/Q95008')]\n",
      "[('pname', 'publication date'), ('o', '1978-10-25T00:00:00Z')]\n",
      "[('pname', 'publication date'), ('o', '1979-07-06T00:00:00Z')]\n",
      "[('pname', 'publication date'), ('o', '1979-08-06T00:00:00Z')]\n",
      "[('pname', 'Moviepilot.de film ID'), ('o', 'halloween-die-nacht-des-grauens')]\n",
      "[('pname', 'screenwriter'), ('o', 'http://www.wikidata.org/entity/Q95008')]\n",
      "[('pname', 'screenwriter'), ('o', 'http://www.wikidata.org/entity/Q262102')]\n",
      "[('pname', 'Comic Vine ID'), ('o', '4025-190')]\n",
      "[('pname', 'Medierådet rating'), ('o', 'http://www.wikidata.org/entity/Q80656032')]\n",
      "[('pname', 'Larousse ID'), ('o', 'film/wd/7132')]\n",
      "[('pname', 'Letterboxd film ID'), ('o', 'halloween-1978')]\n",
      "[('pname', 'Fandom article ID'), ('o', 'halloweenmovie:Halloween_(1978)')]\n",
      "[('pname', 'Fandom article ID'), ('o', 'movies:Halloween_(1978)')]\n",
      "[('pname', 'iTunes movie ID'), ('o', '1052963015')]\n",
      "[('pname', 'Freebase ID'), ('o', '/m/0m3gy')]\n",
      "[('pname', 'Vudu video ID'), ('o', '1014626')]\n",
      "[('pname', 'distributed by'), ('o', 'http://www.wikidata.org/entity/Q907311')]\n",
      "[('pname', 'distributed by'), ('o', 'http://www.wikidata.org/entity/Q3685076')]\n",
      "[('pname', 'Movie Review Query Engine ID'), ('o', 'halloween-m100017116')]\n",
      "[('pname', 'narrative location'), ('o', 'http://www.wikidata.org/entity/Q101479794')]\n",
      "[('pname', 'set in environment'), ('o', 'http://www.wikidata.org/entity/Q210999')]\n",
      "[('pname', 'official website'), ('o', 'http://www.theofficialjohncarpenter.com/pages/themovies/hw/hw.html')]\n",
      "[('pname', 'composer'), ('o', 'http://www.wikidata.org/entity/Q95008')]\n",
      "[('pname', 'PORT film ID'), ('o', '41366')]\n",
      "[('pname', 'filming location'), ('o', 'http://www.wikidata.org/entity/Q65')]\n",
      "[('pname', 'filming location'), ('o', 'http://www.wikidata.org/entity/Q99')]\n",
      "[('pname', 'main subject'), ('o', 'http://www.wikidata.org/entity/Q484188')]\n",
      "[('pname', 'Apple TV movie ID'), ('o', 'umc.cmc.3ucmuzhhu97vky5ss9shi57ba')]\n",
      "[('pname', 'production designer'), ('o', 'http://www.wikidata.org/entity/Q574983')]\n",
      "[('pname', 'executive producer'), ('o', 'http://www.wikidata.org/entity/Q380471')]\n",
      "[('pname', 'set in period'), ('o', 'http://www.wikidata.org/entity/Q2483')]\n",
      "[('pname', 'set in period'), ('o', 'http://www.wikidata.org/entity/Q2755')]\n",
      "[('pname', 'Daum movie ID'), ('o', '10966')]\n",
      "[('pname', 'Filmfront film ID'), ('o', '1077')]\n",
      "[('pname', 'set during recurring event'), ('o', 'http://www.wikidata.org/entity/Q251868')]\n",
      "[('pname', 'set during recurring event'), ('o', 'http://www.wikidata.org/entity/Q1314')]\n"
     ]
    },
    {
     "data": {
      "text/plain": [
       "128"
      ]
     },
     "execution_count": 15,
     "metadata": {},
     "output_type": "execute_result"
    }
   ],
   "source": [
    "queryString = \"\"\"\n",
    "SELECT DISTINCT ?pname ?o WHERE {\n",
    "     wd:Q221103 ?p ?o .\n",
    "    \n",
    "    # this returns the labels\n",
    "    ?p <http://schema.org/name> ?pname .\n",
    "}\n",
    "\"\"\"\n",
    "\n",
    "print(\"Results\")\n",
    "run_query(queryString)"
   ]
  },
  {
   "cell_type": "code",
   "execution_count": 16,
   "id": "9a76a6ba-6193-460f-aed0-b814d5074e3d",
   "metadata": {
    "collapsed": true,
    "jupyter": {
     "outputs_hidden": true
    },
    "tags": []
   },
   "outputs": [
    {
     "name": "stdout",
     "output_type": "stream",
     "text": [
      "Results\n",
      "[('pname', 'Box Office Mojo film ID (former scheme)'), ('o', 'friday13th')]\n",
      "[('pname', 'Rotten Tomatoes ID'), ('o', 'm/friday_the_13th_part_1')]\n",
      "[('pname', 'AlloCiné film ID'), ('o', '505')]\n",
      "[('pname', 'genre'), ('o', 'http://www.wikidata.org/entity/Q1067324')]\n",
      "[('pname', 'genre'), ('o', 'http://www.wikidata.org/entity/Q1200678')]\n",
      "[('pname', 'genre'), ('o', 'http://www.wikidata.org/entity/Q853630')]\n",
      "[('pname', 'genre'), ('o', 'http://www.wikidata.org/entity/Q909586')]\n",
      "[('pname', 'nominated for'), ('o', 'http://www.wikidata.org/entity/Q1780634')]\n",
      "[('pname', 'nominated for'), ('o', 'http://www.wikidata.org/entity/Q977915')]\n",
      "[('pname', 'title'), ('o', 'Friday the 13th')]\n",
      "[('pname', 'followed by'), ('o', 'http://www.wikidata.org/entity/Q1243009')]\n",
      "[('pname', 'AllMovie title ID'), ('o', 'v18658')]\n",
      "[('pname', 'cast member'), ('o', 'http://www.wikidata.org/entity/Q2440012')]\n",
      "[('pname', 'cast member'), ('o', 'http://www.wikidata.org/entity/Q263765')]\n",
      "[('pname', 'cast member'), ('o', 'http://www.wikidata.org/entity/Q3428829')]\n",
      "[('pname', 'cast member'), ('o', 'http://www.wikidata.org/entity/Q3434272')]\n",
      "[('pname', 'cast member'), ('o', 'http://www.wikidata.org/entity/Q3454165')]\n",
      "[('pname', 'cast member'), ('o', 'http://www.wikidata.org/entity/Q13218111')]\n",
      "[('pname', 'cast member'), ('o', 'http://www.wikidata.org/entity/Q2570201')]\n",
      "[('pname', 'cast member'), ('o', 'http://www.wikidata.org/entity/Q3047636')]\n",
      "[('pname', 'cast member'), ('o', 'http://www.wikidata.org/entity/Q524486')]\n",
      "[('pname', 'producer'), ('o', 'http://www.wikidata.org/entity/Q709325')]\n",
      "[('pname', 'Metacritic ID'), ('o', 'movie/friday-the-13th-1980')]\n",
      "[('pname', 'performer'), ('o', 'http://www.wikidata.org/entity/Q664025')]\n",
      "[('pname', 'part of the series'), ('o', 'http://www.wikidata.org/entity/Q1138878')]\n",
      "[('pname', 'image'), ('o', 'http://commons.wikimedia.org/wiki/Special:FilePath/Friday%20the%2013th%20%281980%29%20film%20logo.png')]\n",
      "[('pname', 'DNF film ID'), ('o', '1319')]\n",
      "[('pname', 'Netflix ID'), ('o', '525111')]\n",
      "[('pname', 'different from'), ('o', 'http://www.wikidata.org/entity/Q1454815')]\n",
      "[('pname', 'MovieMeter film ID'), ('o', '1191')]\n",
      "[('pname', 'duration'), ('o', '91')]\n",
      "[('pname', 'aspect ratio'), ('o', 'http://www.wikidata.org/entity/Q752245')]\n",
      "[('pname', 'Swedish Film Database film ID'), ('o', '7782')]\n",
      "[('pname', 'Elonet movie ID'), ('o', '133662')]\n",
      "[('pname', 'Library of Congress authority ID'), ('o', 'no98033420')]\n",
      "[('pname', 'Allcinema film ID'), ('o', '10511')]\n",
      "[('pname', 'KINENOTE film ID'), ('o', '4386')]\n",
      "[('pname', 'Movie Walker film ID'), ('o', 'mv4378')]\n",
      "[('pname', 'Scope.dk film ID'), ('o', '1265')]\n",
      "[('pname', 'ČSFD film ID'), ('o', '23053')]\n",
      "[('pname', 'Kinopoisk film ID'), ('o', '23922')]\n",
      "[('pname', 'TCM Movie Database film ID'), ('o', '17974')]\n",
      "[('pname', 'TV.com ID'), ('o', 'movies/friday-the-13th-1980')]\n",
      "[('pname', 'EIDR content ID'), ('o', '10.5240/7544-6FCA-F299-ECD8-BE4D-A')]\n",
      "[('pname', 'production company'), ('o', 'http://www.wikidata.org/entity/Q159846')]\n",
      "[('pname', 'Filmiroda rating'), ('o', 'http://www.wikidata.org/entity/Q23830579')]\n",
      "[('pname', 'exploitation visa number'), ('o', '52986')]\n",
      "[('pname', 'CNC film rating (France)'), ('o', 'http://www.wikidata.org/entity/Q23817741')]\n",
      "[('pname', 'Cineplex Germany film ID'), ('o', '18183')]\n",
      "[('pname', 'instance of'), ('o', 'http://www.wikidata.org/entity/Q11424')]\n",
      "[('pname', 'LdiF ID'), ('o', '25470')]\n",
      "[('pname', 'cine.gr film ID'), ('o', '651006')]\n",
      "[('pname', 'OFDb film ID'), ('o', '53')]\n",
      "[('pname', 'EDb film ID'), ('o', 't0003232')]\n",
      "[('pname', 'elFilm film ID'), ('o', '80561')]\n",
      "[('pname', 'Ciné-Ressources film ID'), ('o', '54093')]\n",
      "[('pname', 'ISAN'), ('o', '0000-0000-31EA-0000-G-0000-0000-Q')]\n",
      "[('pname', 'Open Media Database film ID'), ('o', '4488')]\n",
      "[('pname', 'director of photography'), ('o', 'http://www.wikidata.org/entity/Q4863956')]\n",
      "[('pname', 'IMDb ID'), ('o', 'tt0080761')]\n",
      "[('pname', 'AFI Catalog of Feature Films ID'), ('o', '56417')]\n",
      "[('pname', 'original language of film or TV show'), ('o', 'http://www.wikidata.org/entity/Q1860')]\n",
      "[('pname', 'TV Guide show ID (former scheme)'), ('o', '123800')]\n",
      "[('pname', 'The Numbers movie ID'), ('o', 'Friday-the-13th')]\n",
      "[('pname', 'Deutsche Synchronkartei film ID'), ('o', '1142')]\n",
      "[('pname', 'Cinema.de ID'), ('o', '1294128')]\n",
      "[('pname', 'Cinémathèque québécoise work identifier'), ('o', '1467')]\n",
      "[('pname', 'LUMIERE film ID'), ('o', '13638')]\n",
      "[('pname', 'distribution format'), ('o', 'http://www.wikidata.org/entity/Q723685')]\n",
      "[('pname', 'Douban film ID'), ('o', '1293143')]\n",
      "[('pname', 'color'), ('o', 'http://www.wikidata.org/entity/Q22006653')]\n",
      "[('pname', 'Bechdel Test Movie List ID'), ('o', '4569')]\n",
      "[('pname', 'CineMagia title ID'), ('o', '6056')]\n",
      "[('pname', 'FilmAffinity ID'), ('o', '265349')]\n",
      "[('pname', 'TMDb movie ID'), ('o', '4488')]\n",
      "[('pname', 'country of origin'), ('o', 'http://www.wikidata.org/entity/Q30')]\n",
      "[('pname', 'derivative work'), ('o', 'http://www.wikidata.org/entity/Q1454815')]\n",
      "[('pname', 'assessment'), ('o', 'http://www.wikidata.org/entity/Q4165246')]\n",
      "[('pname', 'Filmweb.pl film ID'), ('o', '8684')]\n",
      "[('pname', 'Il mondo dei doppiatori ID'), ('o', 'film/venerdi13')]\n",
      "[('pname', 'Fandango film ID'), ('o', '93065')]\n",
      "[('pname', 'director'), ('o', 'http://www.wikidata.org/entity/Q709325')]\n",
      "[('pname', 'publication date'), ('o', '1980-05-09T00:00:00Z')]\n",
      "[('pname', 'publication date'), ('o', '1980-10-23T00:00:00Z')]\n",
      "[('pname', 'publication date'), ('o', '1980-11-10T00:00:00Z')]\n",
      "[('pname', 'Moviepilot.de film ID'), ('o', 'freitag-der-13')]\n",
      "[('pname', 'screenwriter'), ('o', 'http://www.wikidata.org/entity/Q7926158')]\n",
      "[('pname', 'Comic Vine ID'), ('o', '4025-275')]\n",
      "[('pname', 'Letterboxd film ID'), ('o', 'friday-the-13th')]\n",
      "[('pname', 'Fandom article ID'), ('o', 'movies:Friday_the_13th_(1980)')]\n",
      "[('pname', 'Fandom article ID'), ('o', 'the80smovies:Friday_the_13th')]\n",
      "[('pname', 'iTunes movie ID'), ('o', '305332580')]\n",
      "[('pname', 'iTunes movie ID'), ('o', '312028305')]\n",
      "[('pname', 'Freebase ID'), ('o', '/m/016mng')]\n",
      "[('pname', 'Google Play Movies & TV ID'), ('o', '-er1PNqRLiI')]\n",
      "[('pname', 'characters'), ('o', 'http://www.wikidata.org/entity/Q2576457')]\n",
      "[('pname', 'characters'), ('o', 'http://www.wikidata.org/entity/Q366957')]\n",
      "[('pname', 'distributed by'), ('o', 'http://www.wikidata.org/entity/Q80948336')]\n",
      "[('pname', 'distributed by'), ('o', 'http://www.wikidata.org/entity/Q907311')]\n",
      "[('pname', 'distributed by'), ('o', 'http://www.wikidata.org/entity/Q159846')]\n",
      "[('pname', 'FandangoNow ID'), ('o', '1MV59a10bc8835dfb67d1a4a2bf5428a03b')]\n",
      "[('pname', 'Movie Review Query Engine ID'), ('o', 'friday-the-13th-m100051176')]\n",
      "[('pname', 'narrative location'), ('o', 'http://www.wikidata.org/entity/Q1408')]\n",
      "[('pname', 'official website'), ('o', 'http://www.fridaythe13thfilms.com')]\n",
      "[('pname', 'composer'), ('o', 'http://www.wikidata.org/entity/Q664025')]\n",
      "[('pname', 'PORT film ID'), ('o', '7021')]\n",
      "[('pname', 'filming location'), ('o', 'http://www.wikidata.org/entity/Q1408')]\n",
      "[('pname', 'Apple TV movie ID'), ('o', 'umc.cmc.4cny06c1e312h2mfd2utrtve2')]\n",
      "[('pname', 'production designer'), ('o', 'http://www.wikidata.org/entity/Q450964')]\n",
      "[('pname', 'Daum movie ID'), ('o', '10178')]\n",
      "[('pname', 'Filmfront film ID'), ('o', '1283')]\n",
      "[('pname', 'Hulu movie ID'), ('o', '98dc6b45-4478-4877-8316-acc3c7f6ae94')]\n"
     ]
    },
    {
     "data": {
      "text/plain": [
       "112"
      ]
     },
     "execution_count": 16,
     "metadata": {},
     "output_type": "execute_result"
    }
   ],
   "source": [
    "queryString = \"\"\"\n",
    "SELECT DISTINCT ?pname ?o WHERE {\n",
    "     wd:Q1243029 ?p ?o .\n",
    "    \n",
    "    # this returns the labels\n",
    "    ?p <http://schema.org/name> ?pname .\n",
    "}\n",
    "\"\"\"\n",
    "\n",
    "print(\"Results\")\n",
    "run_query(queryString)"
   ]
  },
  {
   "cell_type": "markdown",
   "id": "3e8accfb-557c-4dec-a9ad-adebfc4f1507",
   "metadata": {},
   "source": [
    "I don't find anything related to the year of publication."
   ]
  },
  {
   "cell_type": "markdown",
   "id": "30ec6c10-557a-4c3e-87c5-c914f5915ee5",
   "metadata": {
    "jp-MarkdownHeadingCollapsed": true,
    "tags": []
   },
   "source": [
    "\n",
    "### Task 5. Who is most involved in a franchise (who did something in the movies, e.g., writer, director, producer)?\n",
    "\n",
    "\n"
   ]
  },
  {
   "cell_type": "code",
   "execution_count": 28,
   "id": "6cca56a9-cbfb-441c-9baa-83a81e452bf1",
   "metadata": {},
   "outputs": [
    {
     "name": "stdout",
     "output_type": "stream",
     "text": [
      "Results\n",
      "[('numFilms', '15'), ('person', 'Harry Manfredini'), ('occupation', 'film score composer')]\n"
     ]
    },
    {
     "data": {
      "text/plain": [
       "1"
      ]
     },
     "execution_count": 28,
     "metadata": {},
     "output_type": "execute_result"
    }
   ],
   "source": [
    "queryString = \"\"\"\n",
    "SELECT (COUNT (?per) as ?numFilms) ?person ?occupation WHERE {\n",
    "        \n",
    "    ?per wdt:P31 wd:Q5 .\n",
    "    ?movie ?p ?per ;\n",
    "             wdt:P179 ?franchise .\n",
    "    ?per wdt:P106 ?occ .\n",
    "    \n",
    "        \n",
    "    # this returns the labels\n",
    "    ?per <http://schema.org/name> ?person .\n",
    "    ?movie <http://schema.org/name> ?film .\n",
    "    ?occ <http://schema.org/name> ?occupation .\n",
    "    \n",
    "    FILTER ((?franchise = wd:Q1138878) || (?franchise = wd:Q1364022)) .\n",
    "}\n",
    "GROUP BY ?person ?occupation\n",
    "ORDER BY desc(?numFilms)\n",
    "LIMIT 1\n",
    "\n",
    "\"\"\"\n",
    "\n",
    "print(\"Results\")\n",
    "run_query(queryString)"
   ]
  },
  {
   "cell_type": "markdown",
   "id": "d220cd8a-37b4-4f22-b893-044f5399c8a6",
   "metadata": {
    "jp-MarkdownHeadingCollapsed": true,
    "tags": []
   },
   "source": [
    "### Task 6.Investigate which franchise is highly regarded by the critics overall\n"
   ]
  },
  {
   "cell_type": "markdown",
   "id": "a69288f7-9225-402a-8168-a0f80563064f",
   "metadata": {},
   "source": [
    "I search in various film of the two franchises a property linked to the review scores, taking the codes from the first query of the point 4."
   ]
  },
  {
   "cell_type": "code",
   "execution_count": 6,
   "id": "629ed437-ec48-4532-bb5a-0d681297acea",
   "metadata": {
    "collapsed": true,
    "jupyter": {
     "outputs_hidden": true
    },
    "tags": []
   },
   "outputs": [
    {
     "name": "stdout",
     "output_type": "stream",
     "text": [
      "Results\n",
      "[('p', 'http://www.wikidata.org/prop/direct/P1237'), ('pname', 'Box Office Mojo film ID (former scheme)'), ('o', 'halloween4')]\n",
      "[('p', 'http://www.wikidata.org/prop/direct/P1258'), ('pname', 'Rotten Tomatoes ID'), ('o', 'm/halloween_4_the_return_of_michael_myers')]\n",
      "[('p', 'http://www.wikidata.org/prop/direct/P1265'), ('pname', 'AlloCiné film ID'), ('o', '26222')]\n",
      "[('p', 'http://www.wikidata.org/prop/direct/P136'), ('pname', 'genre'), ('o', 'http://www.wikidata.org/entity/Q200092')]\n",
      "[('p', 'http://www.wikidata.org/prop/direct/P136'), ('pname', 'genre'), ('o', 'http://www.wikidata.org/entity/Q853630')]\n",
      "[('p', 'http://www.wikidata.org/prop/direct/P1476'), ('pname', 'title'), ('o', 'Halloween 4: The Return of Michael Myers')]\n",
      "[('p', 'http://www.wikidata.org/prop/direct/P155'), ('pname', 'follows'), ('o', 'http://www.wikidata.org/entity/Q203705')]\n",
      "[('p', 'http://www.wikidata.org/prop/direct/P156'), ('pname', 'followed by'), ('o', 'http://www.wikidata.org/entity/Q976728')]\n",
      "[('p', 'http://www.wikidata.org/prop/direct/P1562'), ('pname', 'AllMovie title ID'), ('o', 'v21320')]\n",
      "[('p', 'http://www.wikidata.org/prop/direct/P161'), ('pname', 'cast member'), ('o', 'http://www.wikidata.org/entity/Q813336')]\n",
      "[('p', 'http://www.wikidata.org/prop/direct/P161'), ('pname', 'cast member'), ('o', 'http://www.wikidata.org/entity/Q5043468')]\n",
      "[('p', 'http://www.wikidata.org/prop/direct/P161'), ('pname', 'cast member'), ('o', 'http://www.wikidata.org/entity/Q7425090')]\n",
      "[('p', 'http://www.wikidata.org/prop/direct/P161'), ('pname', 'cast member'), ('o', 'http://www.wikidata.org/entity/Q314914')]\n",
      "[('p', 'http://www.wikidata.org/prop/direct/P161'), ('pname', 'cast member'), ('o', 'http://www.wikidata.org/entity/Q272944')]\n",
      "[('p', 'http://www.wikidata.org/prop/direct/P161'), ('pname', 'cast member'), ('o', 'http://www.wikidata.org/entity/Q959750')]\n",
      "[('p', 'http://www.wikidata.org/prop/direct/P161'), ('pname', 'cast member'), ('o', 'http://www.wikidata.org/entity/Q457562')]\n",
      "[('p', 'http://www.wikidata.org/prop/direct/P161'), ('pname', 'cast member'), ('o', 'http://www.wikidata.org/entity/Q2779609')]\n",
      "[('p', 'http://www.wikidata.org/prop/direct/P161'), ('pname', 'cast member'), ('o', 'http://www.wikidata.org/entity/Q449520')]\n",
      "[('p', 'http://www.wikidata.org/prop/direct/P162'), ('pname', 'producer'), ('o', 'http://www.wikidata.org/entity/Q1378684')]\n",
      "[('p', 'http://www.wikidata.org/prop/direct/P162'), ('pname', 'producer'), ('o', 'http://www.wikidata.org/entity/Q380471')]\n",
      "[('p', 'http://www.wikidata.org/prop/direct/P1712'), ('pname', 'Metacritic ID'), ('o', 'movie/halloween-4-the-return-of-michael-myers')]\n",
      "[('p', 'http://www.wikidata.org/prop/direct/P179'), ('pname', 'part of the series'), ('o', 'http://www.wikidata.org/entity/Q1364022')]\n",
      "[('p', 'http://www.wikidata.org/prop/direct/P18'), ('pname', 'image'), ('o', 'http://commons.wikimedia.org/wiki/Special:FilePath/Halloween4bann.jpg')]\n",
      "[('p', 'http://www.wikidata.org/prop/direct/P1874'), ('pname', 'Netflix ID'), ('o', '569117')]\n",
      "[('p', 'http://www.wikidata.org/prop/direct/P1970'), ('pname', 'MovieMeter film ID'), ('o', '3853')]\n",
      "[('p', 'http://www.wikidata.org/prop/direct/P1981'), ('pname', 'FSK film rating'), ('o', 'http://www.wikidata.org/entity/Q20644797')]\n",
      "[('p', 'http://www.wikidata.org/prop/direct/P2047'), ('pname', 'duration'), ('o', '88')]\n",
      "[('p', 'http://www.wikidata.org/prop/direct/P2334'), ('pname', 'Swedish Film Database film ID'), ('o', '37995')]\n",
      "[('p', 'http://www.wikidata.org/prop/direct/P2346'), ('pname', 'Elonet movie ID'), ('o', '840695')]\n",
      "[('p', 'http://www.wikidata.org/prop/direct/P2465'), ('pname', 'Allcinema film ID'), ('o', '18705')]\n",
      "[('p', 'http://www.wikidata.org/prop/direct/P2508'), ('pname', 'KINENOTE film ID'), ('o', '46145')]\n",
      "[('p', 'http://www.wikidata.org/prop/direct/P2518'), ('pname', 'Scope.dk film ID'), ('o', '3784')]\n",
      "[('p', 'http://www.wikidata.org/prop/direct/P2529'), ('pname', 'ČSFD film ID'), ('o', '6014')]\n",
      "[('p', 'http://www.wikidata.org/prop/direct/P2603'), ('pname', 'Kinopoisk film ID'), ('o', '12149')]\n",
      "[('p', 'http://www.wikidata.org/prop/direct/P2631'), ('pname', 'TCM Movie Database film ID'), ('o', '77239')]\n",
      "[('p', 'http://www.wikidata.org/prop/direct/P2638'), ('pname', 'TV.com ID'), ('o', 'movies/halloween-4-the-return-of-michael-myers')]\n",
      "[('p', 'http://www.wikidata.org/prop/direct/P2704'), ('pname', 'EIDR content ID'), ('o', '10.5240/4F4F-4E1F-28DB-1E41-FC06-M')]\n",
      "[('p', 'http://www.wikidata.org/prop/direct/P272'), ('pname', 'production company'), ('o', 'http://www.wikidata.org/entity/Q3685076')]\n",
      "[('p', 'http://www.wikidata.org/prop/direct/P31'), ('pname', 'instance of'), ('o', 'http://www.wikidata.org/entity/Q11424')]\n",
      "[('p', 'http://www.wikidata.org/prop/direct/P3107'), ('pname', 'LdiF ID'), ('o', '19378')]\n",
      "[('p', 'http://www.wikidata.org/prop/direct/P3129'), ('pname', 'cine.gr film ID'), ('o', '712278')]\n",
      "[('p', 'http://www.wikidata.org/prop/direct/P3138'), ('pname', 'OFDb film ID'), ('o', '64')]\n",
      "[('p', 'http://www.wikidata.org/prop/direct/P3141'), ('pname', 'EDb film ID'), ('o', 't0004479')]\n",
      "[('p', 'http://www.wikidata.org/prop/direct/P3143'), ('pname', 'elFilm film ID'), ('o', '94962')]\n",
      "[('p', 'http://www.wikidata.org/prop/direct/P3212'), ('pname', 'ISAN'), ('o', '0000-0000-F862-0000-8-0000-0000-D')]\n",
      "[('p', 'http://www.wikidata.org/prop/direct/P3302'), ('pname', 'Open Media Database film ID'), ('o', '11357')]\n",
      "[('p', 'http://www.wikidata.org/prop/direct/P344'), ('pname', 'director of photography'), ('o', 'http://www.wikidata.org/entity/Q2076780')]\n",
      "[('p', 'http://www.wikidata.org/prop/direct/P345'), ('pname', 'IMDb ID'), ('o', 'tt0095271')]\n",
      "[('p', 'http://www.wikidata.org/prop/direct/P3593'), ('pname', 'AFI Catalog of Feature Films ID'), ('o', '58745')]\n",
      "[('p', 'http://www.wikidata.org/prop/direct/P364'), ('pname', 'original language of film or TV show'), ('o', 'http://www.wikidata.org/entity/Q1860')]\n",
      "[('p', 'http://www.wikidata.org/prop/direct/P3808'), ('pname', 'The Numbers movie ID'), ('o', 'Halloween-4-The-Return-of-Michael-Myers')]\n",
      "[('p', 'http://www.wikidata.org/prop/direct/P3844'), ('pname', 'Deutsche Synchronkartei film ID'), ('o', '1395')]\n",
      "[('p', 'http://www.wikidata.org/prop/direct/P3933'), ('pname', 'Cinema.de ID'), ('o', '1316992')]\n",
      "[('p', 'http://www.wikidata.org/prop/direct/P437'), ('pname', 'distribution format'), ('o', 'http://www.wikidata.org/entity/Q723685')]\n",
      "[('p', 'http://www.wikidata.org/prop/direct/P4529'), ('pname', 'Douban film ID'), ('o', '1296288')]\n",
      "[('p', 'http://www.wikidata.org/prop/direct/P462'), ('pname', 'color'), ('o', 'http://www.wikidata.org/entity/Q22006653')]\n",
      "[('p', 'http://www.wikidata.org/prop/direct/P4665'), ('pname', 'CineMagia title ID'), ('o', '6399')]\n",
      "[('p', 'http://www.wikidata.org/prop/direct/P4780'), ('pname', 'MYmovies movie ID'), ('o', '11289')]\n",
      "[('p', 'http://www.wikidata.org/prop/direct/P480'), ('pname', 'FilmAffinity ID'), ('o', '765028')]\n",
      "[('p', 'http://www.wikidata.org/prop/direct/P4947'), ('pname', 'TMDb movie ID'), ('o', '11357')]\n",
      "[('p', 'http://www.wikidata.org/prop/direct/P495'), ('pname', 'country of origin'), ('o', 'http://www.wikidata.org/entity/Q30')]\n",
      "[('p', 'http://www.wikidata.org/prop/direct/P5032'), ('pname', 'Filmweb.pl film ID'), ('o', '6011')]\n",
      "[('p', 'http://www.wikidata.org/prop/direct/P5099'), ('pname', 'Il mondo dei doppiatori ID'), ('o', 'film/halloween4')]\n",
      "[('p', 'http://www.wikidata.org/prop/direct/P57'), ('pname', 'director'), ('o', 'http://www.wikidata.org/entity/Q1268483')]\n",
      "[('p', 'http://www.wikidata.org/prop/direct/P577'), ('pname', 'publication date'), ('o', '1988-01-01T00:00:00Z')]\n",
      "[('p', 'http://www.wikidata.org/prop/direct/P577'), ('pname', 'publication date'), ('o', '1989-05-18T00:00:00Z')]\n",
      "[('p', 'http://www.wikidata.org/prop/direct/P5786'), ('pname', 'Moviepilot.de film ID'), ('o', 'halloween-4-michael-myers-kehrt-zurueck')]\n",
      "[('p', 'http://www.wikidata.org/prop/direct/P58'), ('pname', 'screenwriter'), ('o', 'http://www.wikidata.org/entity/Q1429245')]\n",
      "[('p', 'http://www.wikidata.org/prop/direct/P5905'), ('pname', 'Comic Vine ID'), ('o', '4025-721')]\n",
      "[('p', 'http://www.wikidata.org/prop/direct/P6127'), ('pname', 'Letterboxd film ID'), ('o', 'halloween-4-the-return-of-michael-myers')]\n",
      "[('p', 'http://www.wikidata.org/prop/direct/P6262'), ('pname', 'Fandom article ID'), ('o', 'movies:Halloween_4:_The_Return_of_Michael_Myers')]\n",
      "[('p', 'http://www.wikidata.org/prop/direct/P6262'), ('pname', 'Fandom article ID'), ('o', 'the80smovies:Halloween_4:_The_Return_of_Michael_Myers')]\n",
      "[('p', 'http://www.wikidata.org/prop/direct/P6398'), ('pname', 'iTunes movie ID'), ('o', '931156488')]\n",
      "[('p', 'http://www.wikidata.org/prop/direct/P646'), ('pname', 'Freebase ID'), ('o', '/m/06d6ch')]\n",
      "[('p', 'http://www.wikidata.org/prop/direct/P750'), ('pname', 'distributed by'), ('o', 'http://www.wikidata.org/entity/Q907311')]\n",
      "[('p', 'http://www.wikidata.org/prop/direct/P8033'), ('pname', 'Movie Review Query Engine ID'), ('o', 'halloween-4-the-return-of-michael-myers-m100016876')]\n",
      "[('p', 'http://www.wikidata.org/prop/direct/P840'), ('pname', 'narrative location'), ('o', 'http://www.wikidata.org/entity/Q99')]\n",
      "[('p', 'http://www.wikidata.org/prop/direct/P856'), ('pname', 'official website'), ('o', 'http://www.halloweenmovies.com/')]\n",
      "[('p', 'http://www.wikidata.org/prop/direct/P86'), ('pname', 'composer'), ('o', 'http://www.wikidata.org/entity/Q730362')]\n",
      "[('p', 'http://www.wikidata.org/prop/direct/P905'), ('pname', 'PORT film ID'), ('o', '113529')]\n",
      "[('p', 'http://www.wikidata.org/prop/direct/P915'), ('pname', 'filming location'), ('o', 'http://www.wikidata.org/entity/Q829')]\n",
      "[('p', 'http://www.wikidata.org/prop/direct/P9586'), ('pname', 'Apple TV movie ID'), ('o', 'umc.cmc.64v6qfxjih7ku5r02fsx98ky1')]\n",
      "[('p', 'http://www.wikidata.org/prop/direct/P1431'), ('pname', 'executive producer'), ('o', 'http://www.wikidata.org/entity/Q380471')]\n",
      "[('p', 'http://www.wikidata.org/prop/direct/P4277'), ('pname', 'Daum movie ID'), ('o', '10969')]\n",
      "[('p', 'http://www.wikidata.org/prop/direct/P7975'), ('pname', 'Filmfront film ID'), ('o', '1263')]\n",
      "[('p', 'http://www.wikidata.org/prop/direct/P9215'), ('pname', 'set during recurring event'), ('o', 'http://www.wikidata.org/entity/Q251868')]\n"
     ]
    },
    {
     "data": {
      "text/plain": [
       "86"
      ]
     },
     "execution_count": 6,
     "metadata": {},
     "output_type": "execute_result"
    }
   ],
   "source": [
    "queryString = \"\"\"\n",
    "SELECT DISTINCT ?p ?pname ?o WHERE {\n",
    "     wd:Q959853 ?p ?o .\n",
    "     \n",
    "    ?p <http://schema.org/name> ?pname .\n",
    "}\n",
    "\"\"\"\n",
    "\n",
    "print(\"Results\")\n",
    "run_query(queryString)"
   ]
  },
  {
   "cell_type": "markdown",
   "id": "631a9c18-8227-4899-a3fb-7c588a4aab75",
   "metadata": {},
   "source": [
    "I can't find anything, also with the film checked below"
   ]
  },
  {
   "cell_type": "markdown",
   "id": "e9f88302-49b7-4b13-b736-5960836976b5",
   "metadata": {
    "jp-MarkdownHeadingCollapsed": true,
    "tags": []
   },
   "source": [
    "### Task 7.Investigate which franchise costed more"
   ]
  },
  {
   "cell_type": "code",
   "execution_count": null,
   "id": "503a4334-3e07-43c7-a902-333856843f62",
   "metadata": {
    "collapsed": true,
    "jupyter": {
     "outputs_hidden": true
    },
    "tags": []
   },
   "outputs": [
    {
     "name": "stdout",
     "output_type": "stream",
     "text": [
      "Results\n",
      "[('p', 'http://www.wikidata.org/prop/direct/P1040'), ('pname', 'film editor'), ('o', 'http://www.wikidata.org/entity/Q17679551')]\n",
      "[('p', 'http://www.wikidata.org/prop/direct/P1237'), ('pname', 'Box Office Mojo film ID (former scheme)'), ('o', 'friday13th8')]\n",
      "[('p', 'http://www.wikidata.org/prop/direct/P1258'), ('pname', 'Rotten Tomatoes ID'), ('o', 'm/friday_the_13th_part_8_jason_takes_manhattan')]\n",
      "[('p', 'http://www.wikidata.org/prop/direct/P1265'), ('pname', 'AlloCiné film ID'), ('o', '54258')]\n",
      "[('p', 'http://www.wikidata.org/prop/direct/P136'), ('pname', 'genre'), ('o', 'http://www.wikidata.org/entity/Q200092')]\n",
      "[('p', 'http://www.wikidata.org/prop/direct/P1476'), ('pname', 'title'), ('o', 'Friday the 13th Part VIII: Jason Takes Manhattan')]\n",
      "[('p', 'http://www.wikidata.org/prop/direct/P154'), ('pname', 'logo image'), ('o', 'http://commons.wikimedia.org/wiki/Special:FilePath/Vienes%2013%202009%20logo.jpg')]\n",
      "[('p', 'http://www.wikidata.org/prop/direct/P155'), ('pname', 'follows'), ('o', 'http://www.wikidata.org/entity/Q1454798')]\n",
      "[('p', 'http://www.wikidata.org/prop/direct/P156'), ('pname', 'followed by'), ('o', 'http://www.wikidata.org/entity/Q1683918')]\n",
      "[('p', 'http://www.wikidata.org/prop/direct/P1562'), ('pname', 'AllMovie title ID'), ('o', 'v62690')]\n",
      "[('p', 'http://www.wikidata.org/prop/direct/P161'), ('pname', 'cast member'), ('o', 'http://www.wikidata.org/entity/Q465134')]\n",
      "[('p', 'http://www.wikidata.org/prop/direct/P161'), ('pname', 'cast member'), ('o', 'http://www.wikidata.org/entity/Q3476296')]\n",
      "[('p', 'http://www.wikidata.org/prop/direct/P161'), ('pname', 'cast member'), ('o', 'http://www.wikidata.org/entity/Q231116')]\n",
      "[('p', 'http://www.wikidata.org/prop/direct/P161'), ('pname', 'cast member'), ('o', 'http://www.wikidata.org/entity/Q712761')]\n",
      "[('p', 'http://www.wikidata.org/prop/direct/P161'), ('pname', 'cast member'), ('o', 'http://www.wikidata.org/entity/Q11724216')]\n",
      "[('p', 'http://www.wikidata.org/prop/direct/P161'), ('pname', 'cast member'), ('o', 'http://www.wikidata.org/entity/Q591205')]\n",
      "[('p', 'http://www.wikidata.org/prop/direct/P161'), ('pname', 'cast member'), ('o', 'http://www.wikidata.org/entity/Q6828593')]\n",
      "[('p', 'http://www.wikidata.org/prop/direct/P161'), ('pname', 'cast member'), ('o', 'http://www.wikidata.org/entity/Q626553')]\n",
      "[('p', 'http://www.wikidata.org/prop/direct/P161'), ('pname', 'cast member'), ('o', 'http://www.wikidata.org/entity/Q1228672')]\n",
      "[('p', 'http://www.wikidata.org/prop/direct/P161'), ('pname', 'cast member'), ('o', 'http://www.wikidata.org/entity/Q9335930')]\n",
      "[('p', 'http://www.wikidata.org/prop/direct/P162'), ('pname', 'producer'), ('o', 'http://www.wikidata.org/entity/Q108033596')]\n",
      "[('p', 'http://www.wikidata.org/prop/direct/P179'), ('pname', 'part of the series'), ('o', 'http://www.wikidata.org/entity/Q1138878')]\n",
      "[('p', 'http://www.wikidata.org/prop/direct/P1804'), ('pname', 'DNF film ID'), ('o', '113814')]\n",
      "[('p', 'http://www.wikidata.org/prop/direct/P1874'), ('pname', 'Netflix ID'), ('o', '60024025')]\n",
      "[('p', 'http://www.wikidata.org/prop/direct/P1970'), ('pname', 'MovieMeter film ID'), ('o', '4714')]\n",
      "[('p', 'http://www.wikidata.org/prop/direct/P1981'), ('pname', 'FSK film rating'), ('o', 'http://www.wikidata.org/entity/Q20644797')]\n",
      "[('p', 'http://www.wikidata.org/prop/direct/P2047'), ('pname', 'duration'), ('o', '96')]\n",
      "[('p', 'http://www.wikidata.org/prop/direct/P2061'), ('pname', 'aspect ratio'), ('o', 'http://www.wikidata.org/entity/Q1383069')]\n",
      "[('p', 'http://www.wikidata.org/prop/direct/P2334'), ('pname', 'Swedish Film Database film ID'), ('o', '24001')]\n",
      "[('p', 'http://www.wikidata.org/prop/direct/P2346'), ('pname', 'Elonet movie ID'), ('o', '158667')]\n",
      "[('p', 'http://www.wikidata.org/prop/direct/P2515'), ('pname', 'costume designer'), ('o', 'http://www.wikidata.org/entity/Q271667')]\n",
      "[('p', 'http://www.wikidata.org/prop/direct/P2518'), ('pname', 'Scope.dk film ID'), ('o', '5288')]\n",
      "[('p', 'http://www.wikidata.org/prop/direct/P2529'), ('pname', 'ČSFD film ID'), ('o', '22945')]\n",
      "[('p', 'http://www.wikidata.org/prop/direct/P2603'), ('pname', 'Kinopoisk film ID'), ('o', '3671')]\n",
      "[('p', 'http://www.wikidata.org/prop/direct/P272'), ('pname', 'production company'), ('o', 'http://www.wikidata.org/entity/Q159846')]\n",
      "[('p', 'http://www.wikidata.org/prop/direct/P31'), ('pname', 'instance of'), ('o', 'http://www.wikidata.org/entity/Q11424')]\n",
      "[('p', 'http://www.wikidata.org/prop/direct/P3107'), ('pname', 'LdiF ID'), ('o', '19523')]\n",
      "[('p', 'http://www.wikidata.org/prop/direct/P3129'), ('pname', 'cine.gr film ID'), ('o', '717697')]\n",
      "[('p', 'http://www.wikidata.org/prop/direct/P3138'), ('pname', 'OFDb film ID'), ('o', '58')]\n",
      "[('p', 'http://www.wikidata.org/prop/direct/P3143'), ('pname', 'elFilm film ID'), ('o', '97059')]\n",
      "[('p', 'http://www.wikidata.org/prop/direct/P344'), ('pname', 'director of photography'), ('o', 'http://www.wikidata.org/entity/Q108033609')]\n",
      "[('p', 'http://www.wikidata.org/prop/direct/P345'), ('pname', 'IMDb ID'), ('o', 'tt0097388')]\n",
      "[('p', 'http://www.wikidata.org/prop/direct/P364'), ('pname', 'original language of film or TV show'), ('o', 'http://www.wikidata.org/entity/Q1860')]\n",
      "[('p', 'http://www.wikidata.org/prop/direct/P437'), ('pname', 'distribution format'), ('o', 'http://www.wikidata.org/entity/Q723685')]\n",
      "[('p', 'http://www.wikidata.org/prop/direct/P462'), ('pname', 'color'), ('o', 'http://www.wikidata.org/entity/Q22006653')]\n",
      "[('p', 'http://www.wikidata.org/prop/direct/P4632'), ('pname', 'Bechdel Test Movie List ID'), ('o', '6675')]\n",
      "[('p', 'http://www.wikidata.org/prop/direct/P4665'), ('pname', 'CineMagia title ID'), ('o', '6641')]\n",
      "[('p', 'http://www.wikidata.org/prop/direct/P4947'), ('pname', 'TMDb movie ID'), ('o', '10283')]\n",
      "[('p', 'http://www.wikidata.org/prop/direct/P495'), ('pname', 'country of origin'), ('o', 'http://www.wikidata.org/entity/Q30')]\n",
      "[('p', 'http://www.wikidata.org/prop/direct/P5021'), ('pname', 'assessment'), ('o', 'http://www.wikidata.org/entity/Q4165246')]\n",
      "[('p', 'http://www.wikidata.org/prop/direct/P5693'), ('pname', 'Fandango film ID'), ('o', '83887')]\n",
      "[('p', 'http://www.wikidata.org/prop/direct/P57'), ('pname', 'director'), ('o', 'http://www.wikidata.org/entity/Q21280751')]\n",
      "[('p', 'http://www.wikidata.org/prop/direct/P577'), ('pname', 'publication date'), ('o', '1989-01-01T00:00:00Z')]\n",
      "[('p', 'http://www.wikidata.org/prop/direct/P5786'), ('pname', 'Moviepilot.de film ID'), ('o', 'freitag-der-13-todesfalle-manhattan')]\n",
      "[('p', 'http://www.wikidata.org/prop/direct/P58'), ('pname', 'screenwriter'), ('o', 'http://www.wikidata.org/entity/Q21280751')]\n",
      "[('p', 'http://www.wikidata.org/prop/direct/P5905'), ('pname', 'Comic Vine ID'), ('o', '4025-479')]\n",
      "[('p', 'http://www.wikidata.org/prop/direct/P6127'), ('pname', 'Letterboxd film ID'), ('o', 'friday-the-13th-part-viii-jason-takes-manhattan')]\n",
      "[('p', 'http://www.wikidata.org/prop/direct/P6262'), ('pname', 'Fandom article ID'), ('o', 'movies:Friday_the_13th_Part_VIII:_Jason_Takes_Manhattan')]\n",
      "[('p', 'http://www.wikidata.org/prop/direct/P6262'), ('pname', 'Fandom article ID'), ('o', 'the80smovies:Friday_the_13th_Part_VIII:_Jason_Takes_Manhattan')]\n",
      "[('p', 'http://www.wikidata.org/prop/direct/P6398'), ('pname', 'iTunes movie ID'), ('o', '305338552')]\n",
      "[('p', 'http://www.wikidata.org/prop/direct/P646'), ('pname', 'Freebase ID'), ('o', '/m/075xrl')]\n",
      "[('p', 'http://www.wikidata.org/prop/direct/P6562'), ('pname', 'Google Play Movies & TV ID'), ('o', 'QmTQXUY-dXk')]\n",
      "[('p', 'http://www.wikidata.org/prop/direct/P674'), ('pname', 'characters'), ('o', 'http://www.wikidata.org/entity/Q366957')]\n",
      "[('p', 'http://www.wikidata.org/prop/direct/P750'), ('pname', 'distributed by'), ('o', 'http://www.wikidata.org/entity/Q80948336')]\n",
      "[('p', 'http://www.wikidata.org/prop/direct/P750'), ('pname', 'distributed by'), ('o', 'http://www.wikidata.org/entity/Q907311')]\n",
      "[('p', 'http://www.wikidata.org/prop/direct/P750'), ('pname', 'distributed by'), ('o', 'http://www.wikidata.org/entity/Q159846')]\n",
      "[('p', 'http://www.wikidata.org/prop/direct/P7970'), ('pname', 'FandangoNow ID'), ('o', '1MV5f5aaeb525c7cb827aa2ee5e2dee515f')]\n",
      "[('p', 'http://www.wikidata.org/prop/direct/P8033'), ('pname', 'Movie Review Query Engine ID'), ('o', 'friday-the-13th-part-viii-jason-takes-manhattan-m100011913')]\n",
      "[('p', 'http://www.wikidata.org/prop/direct/P840'), ('pname', 'narrative location'), ('o', 'http://www.wikidata.org/entity/Q60')]\n",
      "[('p', 'http://www.wikidata.org/prop/direct/P8411'), ('pname', 'set in environment'), ('o', 'http://www.wikidata.org/entity/Q11446')]\n",
      "[('p', 'http://www.wikidata.org/prop/direct/P856'), ('pname', 'official website'), ('o', 'http://fridaythe13thfilms.com/films/friday8.html')]\n",
      "[('p', 'http://www.wikidata.org/prop/direct/P86'), ('pname', 'composer'), ('o', 'http://www.wikidata.org/entity/Q3086901')]\n",
      "[('p', 'http://www.wikidata.org/prop/direct/P905'), ('pname', 'PORT film ID'), ('o', '112371')]\n",
      "[('p', 'http://www.wikidata.org/prop/direct/P915'), ('pname', 'filming location'), ('o', 'http://www.wikidata.org/entity/Q24639')]\n",
      "[('p', 'http://www.wikidata.org/prop/direct/P915'), ('pname', 'filming location'), ('o', 'http://www.wikidata.org/entity/Q60')]\n",
      "[('p', 'http://www.wikidata.org/prop/direct/P9586'), ('pname', 'Apple TV movie ID'), ('o', 'umc.cmc.6lffwl4n9vb2loygucs1vnyoz')]\n",
      "[('p', 'http://www.wikidata.org/prop/direct/P2684'), ('pname', 'Kijkwijzer rating'), ('o', 'http://www.wikidata.org/entity/Q23649984')]\n",
      "[('p', 'http://www.wikidata.org/prop/direct/P7975'), ('pname', 'Filmfront film ID'), ('o', '1290')]\n"
     ]
    },
    {
     "data": {
      "text/plain": [
       "78"
      ]
     },
     "execution_count": 7,
     "metadata": {},
     "output_type": "execute_result"
    }
   ],
   "source": [
    "queryString = \"\"\"\n",
    "SELECT DISTINCT ?p ?pname ?o WHERE {\n",
    "     wd:Q1454794 ?p ?o .\n",
    "     \n",
    "    ?p <http://schema.org/name> ?pname .\n",
    "}\n",
    "\"\"\"\n",
    "\n",
    "print(\"Results\")\n",
    "run_query(queryString)"
   ]
  },
  {
   "cell_type": "code",
   "execution_count": 8,
   "id": "106d7c59-64e0-4577-846a-efa3dcb89f04",
   "metadata": {
    "collapsed": true,
    "jupyter": {
     "outputs_hidden": true
    },
    "tags": []
   },
   "outputs": [
    {
     "name": "stdout",
     "output_type": "stream",
     "text": [
      "Results\n",
      "[('p', 'http://www.wikidata.org/prop/direct/P1237'), ('pname', 'Box Office Mojo film ID (former scheme)'), ('o', 'halloween3')]\n",
      "[('p', 'http://www.wikidata.org/prop/direct/P1258'), ('pname', 'Rotten Tomatoes ID'), ('o', 'm/halloween_3_season_of_the_witch')]\n",
      "[('p', 'http://www.wikidata.org/prop/direct/P1265'), ('pname', 'AlloCiné film ID'), ('o', '59978')]\n",
      "[('p', 'http://www.wikidata.org/prop/direct/P136'), ('pname', 'genre'), ('o', 'http://www.wikidata.org/entity/Q200092')]\n",
      "[('p', 'http://www.wikidata.org/prop/direct/P136'), ('pname', 'genre'), ('o', 'http://www.wikidata.org/entity/Q471839')]\n",
      "[('p', 'http://www.wikidata.org/prop/direct/P136'), ('pname', 'genre'), ('o', 'http://www.wikidata.org/entity/Q853630')]\n",
      "[('p', 'http://www.wikidata.org/prop/direct/P1476'), ('pname', 'title'), ('o', 'Halloween III: Season of the Witch')]\n",
      "[('p', 'http://www.wikidata.org/prop/direct/P155'), ('pname', 'follows'), ('o', 'http://www.wikidata.org/entity/Q850312')]\n",
      "[('p', 'http://www.wikidata.org/prop/direct/P1552'), ('pname', 'has quality'), ('o', 'http://www.wikidata.org/entity/Q27834579')]\n",
      "[('p', 'http://www.wikidata.org/prop/direct/P1552'), ('pname', 'has quality'), ('o', 'http://www.wikidata.org/entity/Q27847754')]\n",
      "[('p', 'http://www.wikidata.org/prop/direct/P156'), ('pname', 'followed by'), ('o', 'http://www.wikidata.org/entity/Q959853')]\n",
      "[('p', 'http://www.wikidata.org/prop/direct/P1562'), ('pname', 'AllMovie title ID'), ('o', 'v21319')]\n",
      "[('p', 'http://www.wikidata.org/prop/direct/P161'), ('pname', 'cast member'), ('o', 'http://www.wikidata.org/entity/Q3048468')]\n",
      "[('p', 'http://www.wikidata.org/prop/direct/P161'), ('pname', 'cast member'), ('o', 'http://www.wikidata.org/entity/Q106997')]\n",
      "[('p', 'http://www.wikidata.org/prop/direct/P161'), ('pname', 'cast member'), ('o', 'http://www.wikidata.org/entity/Q201570')]\n",
      "[('p', 'http://www.wikidata.org/prop/direct/P161'), ('pname', 'cast member'), ('o', 'http://www.wikidata.org/entity/Q574983')]\n",
      "[('p', 'http://www.wikidata.org/prop/direct/P161'), ('pname', 'cast member'), ('o', 'http://www.wikidata.org/entity/Q3360325')]\n",
      "[('p', 'http://www.wikidata.org/prop/direct/P161'), ('pname', 'cast member'), ('o', 'http://www.wikidata.org/entity/Q3440193')]\n",
      "[('p', 'http://www.wikidata.org/prop/direct/P161'), ('pname', 'cast member'), ('o', 'http://www.wikidata.org/entity/Q437944')]\n",
      "[('p', 'http://www.wikidata.org/prop/direct/P161'), ('pname', 'cast member'), ('o', 'http://www.wikidata.org/entity/Q2549565')]\n",
      "[('p', 'http://www.wikidata.org/prop/direct/P161'), ('pname', 'cast member'), ('o', 'http://www.wikidata.org/entity/Q1885160')]\n",
      "[('p', 'http://www.wikidata.org/prop/direct/P161'), ('pname', 'cast member'), ('o', 'http://www.wikidata.org/entity/Q1366623')]\n",
      "[('p', 'http://www.wikidata.org/prop/direct/P161'), ('pname', 'cast member'), ('o', 'http://www.wikidata.org/entity/Q2329915')]\n",
      "[('p', 'http://www.wikidata.org/prop/direct/P161'), ('pname', 'cast member'), ('o', 'http://www.wikidata.org/entity/Q1131429')]\n",
      "[('p', 'http://www.wikidata.org/prop/direct/P161'), ('pname', 'cast member'), ('o', 'http://www.wikidata.org/entity/Q1708579')]\n",
      "[('p', 'http://www.wikidata.org/prop/direct/P161'), ('pname', 'cast member'), ('o', 'http://www.wikidata.org/entity/Q3929818')]\n",
      "[('p', 'http://www.wikidata.org/prop/direct/P162'), ('pname', 'producer'), ('o', 'http://www.wikidata.org/entity/Q95008')]\n",
      "[('p', 'http://www.wikidata.org/prop/direct/P162'), ('pname', 'producer'), ('o', 'http://www.wikidata.org/entity/Q262102')]\n",
      "[('p', 'http://www.wikidata.org/prop/direct/P1712'), ('pname', 'Metacritic ID'), ('o', 'movie/halloween-iii-season-of-the-witch')]\n",
      "[('p', 'http://www.wikidata.org/prop/direct/P179'), ('pname', 'part of the series'), ('o', 'http://www.wikidata.org/entity/Q1364022')]\n",
      "[('p', 'http://www.wikidata.org/prop/direct/P18'), ('pname', 'image'), ('o', 'http://commons.wikimedia.org/wiki/Special:FilePath/Halloween%203.jpg')]\n",
      "[('p', 'http://www.wikidata.org/prop/direct/P1874'), ('pname', 'Netflix ID'), ('o', '569108')]\n",
      "[('p', 'http://www.wikidata.org/prop/direct/P1970'), ('pname', 'MovieMeter film ID'), ('o', '3861')]\n",
      "[('p', 'http://www.wikidata.org/prop/direct/P1981'), ('pname', 'FSK film rating'), ('o', 'http://www.wikidata.org/entity/Q20644797')]\n",
      "[('p', 'http://www.wikidata.org/prop/direct/P2047'), ('pname', 'duration'), ('o', '99')]\n",
      "[('p', 'http://www.wikidata.org/prop/direct/P2061'), ('pname', 'aspect ratio'), ('o', 'http://www.wikidata.org/entity/Q21062414')]\n",
      "[('p', 'http://www.wikidata.org/prop/direct/P2142'), ('pname', 'box office'), ('o', '14400000')]\n",
      "[('p', 'http://www.wikidata.org/prop/direct/P2334'), ('pname', 'Swedish Film Database film ID'), ('o', '6207')]\n",
      "[('p', 'http://www.wikidata.org/prop/direct/P2346'), ('pname', 'Elonet movie ID'), ('o', '103882')]\n",
      "[('p', 'http://www.wikidata.org/prop/direct/P2465'), ('pname', 'Allcinema film ID'), ('o', '18704')]\n",
      "[('p', 'http://www.wikidata.org/prop/direct/P2508'), ('pname', 'KINENOTE film ID'), ('o', '46144')]\n",
      "[('p', 'http://www.wikidata.org/prop/direct/P2518'), ('pname', 'Scope.dk film ID'), ('o', '3903')]\n",
      "[('p', 'http://www.wikidata.org/prop/direct/P2529'), ('pname', 'ČSFD film ID'), ('o', '9508')]\n",
      "[('p', 'http://www.wikidata.org/prop/direct/P2603'), ('pname', 'Kinopoisk film ID'), ('o', '24956')]\n",
      "[('p', 'http://www.wikidata.org/prop/direct/P2631'), ('pname', 'TCM Movie Database film ID'), ('o', '77238')]\n",
      "[('p', 'http://www.wikidata.org/prop/direct/P2638'), ('pname', 'TV.com ID'), ('o', 'movies/halloween-iii-season-of-the-witch')]\n",
      "[('p', 'http://www.wikidata.org/prop/direct/P2704'), ('pname', 'EIDR content ID'), ('o', '10.5240/9272-D372-EE34-99E4-E09E-X')]\n",
      "[('p', 'http://www.wikidata.org/prop/direct/P272'), ('pname', 'production company'), ('o', 'http://www.wikidata.org/entity/Q168383')]\n",
      "[('p', 'http://www.wikidata.org/prop/direct/P2747'), ('pname', 'Filmiroda rating'), ('o', 'http://www.wikidata.org/entity/Q23830579')]\n",
      "[('p', 'http://www.wikidata.org/prop/direct/P2769'), ('pname', 'budget'), ('o', '2500000')]\n",
      "[('p', 'http://www.wikidata.org/prop/direct/P31'), ('pname', 'instance of'), ('o', 'http://www.wikidata.org/entity/Q11424')]\n",
      "[('p', 'http://www.wikidata.org/prop/direct/P3107'), ('pname', 'LdiF ID'), ('o', '2532')]\n",
      "[('p', 'http://www.wikidata.org/prop/direct/P3129'), ('pname', 'cine.gr film ID'), ('o', '712277')]\n",
      "[('p', 'http://www.wikidata.org/prop/direct/P3138'), ('pname', 'OFDb film ID'), ('o', '67')]\n",
      "[('p', 'http://www.wikidata.org/prop/direct/P3141'), ('pname', 'EDb film ID'), ('o', 't0003460')]\n",
      "[('p', 'http://www.wikidata.org/prop/direct/P3143'), ('pname', 'elFilm film ID'), ('o', '85405')]\n",
      "[('p', 'http://www.wikidata.org/prop/direct/P3302'), ('pname', 'Open Media Database film ID'), ('o', '10676')]\n",
      "[('p', 'http://www.wikidata.org/prop/direct/P344'), ('pname', 'director of photography'), ('o', 'http://www.wikidata.org/entity/Q497036')]\n",
      "[('p', 'http://www.wikidata.org/prop/direct/P345'), ('pname', 'IMDb ID'), ('o', 'tt0085636')]\n",
      "[('p', 'http://www.wikidata.org/prop/direct/P3593'), ('pname', 'AFI Catalog of Feature Films ID'), ('o', '56790')]\n",
      "[('p', 'http://www.wikidata.org/prop/direct/P364'), ('pname', 'original language of film or TV show'), ('o', 'http://www.wikidata.org/entity/Q1860')]\n",
      "[('p', 'http://www.wikidata.org/prop/direct/P3804'), ('pname', 'TV Guide show ID (former scheme)'), ('o', '125499')]\n",
      "[('p', 'http://www.wikidata.org/prop/direct/P3808'), ('pname', 'The Numbers movie ID'), ('o', 'Halloween-3-Season-of-the-Witch')]\n",
      "[('p', 'http://www.wikidata.org/prop/direct/P3933'), ('pname', 'Cinema.de ID'), ('o', '1333235')]\n",
      "[('p', 'http://www.wikidata.org/prop/direct/P437'), ('pname', 'distribution format'), ('o', 'http://www.wikidata.org/entity/Q723685')]\n",
      "[('p', 'http://www.wikidata.org/prop/direct/P462'), ('pname', 'color'), ('o', 'http://www.wikidata.org/entity/Q22006653')]\n",
      "[('p', 'http://www.wikidata.org/prop/direct/P4665'), ('pname', 'CineMagia title ID'), ('o', '1772')]\n",
      "[('p', 'http://www.wikidata.org/prop/direct/P4780'), ('pname', 'MYmovies movie ID'), ('o', '11288')]\n",
      "[('p', 'http://www.wikidata.org/prop/direct/P480'), ('pname', 'FilmAffinity ID'), ('o', '477776')]\n",
      "[('p', 'http://www.wikidata.org/prop/direct/P4947'), ('pname', 'TMDb movie ID'), ('o', '10676')]\n",
      "[('p', 'http://www.wikidata.org/prop/direct/P495'), ('pname', 'country of origin'), ('o', 'http://www.wikidata.org/entity/Q30')]\n",
      "[('p', 'http://www.wikidata.org/prop/direct/P5032'), ('pname', 'Filmweb.pl film ID'), ('o', '34738')]\n",
      "[('p', 'http://www.wikidata.org/prop/direct/P5099'), ('pname', 'Il mondo dei doppiatori ID'), ('o', 'film1/halloween3')]\n",
      "[('p', 'http://www.wikidata.org/prop/direct/P5357'), ('pname', 'The Encyclopedia of Science Fiction ID'), ('o', 'halloween_iii_season_of_the_witch')]\n",
      "[('p', 'http://www.wikidata.org/prop/direct/P5680'), ('pname', 'Hoopla title ID'), ('o', '11031638')]\n",
      "[('p', 'http://www.wikidata.org/prop/direct/P57'), ('pname', 'director'), ('o', 'http://www.wikidata.org/entity/Q574983')]\n",
      "[('p', 'http://www.wikidata.org/prop/direct/P577'), ('pname', 'publication date'), ('o', '1982-01-01T00:00:00Z')]\n",
      "[('p', 'http://www.wikidata.org/prop/direct/P5786'), ('pname', 'Moviepilot.de film ID'), ('o', 'halloween-iii')]\n",
      "[('p', 'http://www.wikidata.org/prop/direct/P58'), ('pname', 'screenwriter'), ('o', 'http://www.wikidata.org/entity/Q574983')]\n",
      "[('p', 'http://www.wikidata.org/prop/direct/P6127'), ('pname', 'Letterboxd film ID'), ('o', 'halloween-iii-season-of-the-witch')]\n",
      "[('p', 'http://www.wikidata.org/prop/direct/P6262'), ('pname', 'Fandom article ID'), ('o', 'movies:Halloween_III:_Season_of_the_Witch')]\n",
      "[('p', 'http://www.wikidata.org/prop/direct/P6262'), ('pname', 'Fandom article ID'), ('o', 'the80smovies:Halloween_III:_Season_of_the_Witch')]\n",
      "[('p', 'http://www.wikidata.org/prop/direct/P6398'), ('pname', 'iTunes movie ID'), ('o', '286456752')]\n",
      "[('p', 'http://www.wikidata.org/prop/direct/P646'), ('pname', 'Freebase ID'), ('o', '/m/01k866')]\n",
      "[('p', 'http://www.wikidata.org/prop/direct/P6562'), ('pname', 'Google Play Movies & TV ID'), ('o', '0DGbI-T6Q7w')]\n",
      "[('p', 'http://www.wikidata.org/prop/direct/P7334'), ('pname', 'Vudu video ID'), ('o', '5392')]\n",
      "[('p', 'http://www.wikidata.org/prop/direct/P750'), ('pname', 'distributed by'), ('o', 'http://www.wikidata.org/entity/Q907311')]\n",
      "[('p', 'http://www.wikidata.org/prop/direct/P750'), ('pname', 'distributed by'), ('o', 'http://www.wikidata.org/entity/Q168383')]\n",
      "[('p', 'http://www.wikidata.org/prop/direct/P750'), ('pname', 'distributed by'), ('o', 'http://www.wikidata.org/entity/Q3028386')]\n",
      "[('p', 'http://www.wikidata.org/prop/direct/P8033'), ('pname', 'Movie Review Query Engine ID'), ('o', 'halloween-iii-season-of-the-witch-m100003245')]\n",
      "[('p', 'http://www.wikidata.org/prop/direct/P840'), ('pname', 'narrative location'), ('o', 'http://www.wikidata.org/entity/Q99')]\n",
      "[('p', 'http://www.wikidata.org/prop/direct/P856'), ('pname', 'official website'), ('o', 'http://www.halloweenmovies.com')]\n",
      "[('p', 'http://www.wikidata.org/prop/direct/P86'), ('pname', 'composer'), ('o', 'http://www.wikidata.org/entity/Q95008')]\n",
      "[('p', 'http://www.wikidata.org/prop/direct/P86'), ('pname', 'composer'), ('o', 'http://www.wikidata.org/entity/Q730362')]\n",
      "[('p', 'http://www.wikidata.org/prop/direct/P905'), ('pname', 'PORT film ID'), ('o', '48646')]\n",
      "[('p', 'http://www.wikidata.org/prop/direct/P921'), ('pname', 'main subject'), ('o', 'http://www.wikidata.org/entity/Q80837')]\n",
      "[('p', 'http://www.wikidata.org/prop/direct/P9586'), ('pname', 'Apple TV movie ID'), ('o', 'umc.cmc.4b12wjiaad2ef9drt3byre9wa')]\n",
      "[('p', 'http://www.wikidata.org/prop/direct/P1431'), ('pname', 'executive producer'), ('o', 'http://www.wikidata.org/entity/Q380471')]\n",
      "[('p', 'http://www.wikidata.org/prop/direct/P4277'), ('pname', 'Daum movie ID'), ('o', '10968')]\n",
      "[('p', 'http://www.wikidata.org/prop/direct/P7975'), ('pname', 'Filmfront film ID'), ('o', '1262')]\n",
      "[('p', 'http://www.wikidata.org/prop/direct/P9215'), ('pname', 'set during recurring event'), ('o', 'http://www.wikidata.org/entity/Q251868')]\n"
     ]
    },
    {
     "data": {
      "text/plain": [
       "101"
      ]
     },
     "execution_count": 8,
     "metadata": {},
     "output_type": "execute_result"
    }
   ],
   "source": [
    "\n",
    "queryString = \"\"\"\n",
    "SELECT DISTINCT ?p ?pname ?o WHERE {\n",
    "     wd:Q203705 ?p ?o .\n",
    "     \n",
    "    ?p <http://schema.org/name> ?pname .\n",
    "}\n",
    "\"\"\"\n",
    "\n",
    "print(\"Results\")\n",
    "run_query(queryString)"
   ]
  },
  {
   "cell_type": "markdown",
   "id": "9af28fcf-78df-41db-bdd9-82f6184004a4",
   "metadata": {},
   "source": [
    "I found P2769"
   ]
  },
  {
   "cell_type": "markdown",
   "id": "49b2c1c1-5e04-4ed1-9b57-192b7e601873",
   "metadata": {},
   "source": [
    "Halloween saga"
   ]
  },
  {
   "cell_type": "code",
   "execution_count": 10,
   "id": "191de7f9-5ef1-4b66-b47e-ed12ad96f832",
   "metadata": {},
   "outputs": [
    {
     "name": "stdout",
     "output_type": "stream",
     "text": [
      "Results\n",
      "[('o', '15000000')]\n",
      "[('o', '2500000')]\n",
      "[('o', '3000000')]\n",
      "[('o', '5000000')]\n"
     ]
    },
    {
     "data": {
      "text/plain": [
       "4"
      ]
     },
     "execution_count": 10,
     "metadata": {},
     "output_type": "execute_result"
    }
   ],
   "source": [
    "queryString = \"\"\"\n",
    "SELECT DISTINCT ?o WHERE {\n",
    "     ?f wdt:P2769 ?o .\n",
    "     ?f wdt:P179 wd:Q1364022 .\n",
    "    \n",
    "    # this returns the labels\n",
    "    ?f <http://schema.org/name> ?movie .\n",
    "}\n",
    "\"\"\"\n",
    "\n",
    "print(\"Results\")\n",
    "run_query(queryString)"
   ]
  },
  {
   "cell_type": "markdown",
   "id": "4cb88d28-44f4-4358-8161-a116a441d8e3",
   "metadata": {},
   "source": [
    "Friday the 13th saga"
   ]
  },
  {
   "cell_type": "code",
   "execution_count": 11,
   "id": "68969b1c-4709-41b6-812f-1409b63f661d",
   "metadata": {},
   "outputs": [
    {
     "name": "stdout",
     "output_type": "stream",
     "text": [
      "Results\n",
      "Empty\n"
     ]
    },
    {
     "data": {
      "text/plain": [
       "0"
      ]
     },
     "execution_count": 11,
     "metadata": {},
     "output_type": "execute_result"
    }
   ],
   "source": [
    "queryString = \"\"\"\n",
    "SELECT DISTINCT ?o WHERE {\n",
    "     ?f wdt:P2769 ?o .\n",
    "     ?f wdt:P179 wd:Q1138878 .\n",
    "    \n",
    "    # this returns the labels\n",
    "    ?f <http://schema.org/name> ?movie .\n",
    "}\n",
    "\"\"\"\n",
    "\n",
    "print(\"Results\")\n",
    "run_query(queryString)"
   ]
  },
  {
   "cell_type": "markdown",
   "id": "76e95c10-d158-428a-b24f-3450df22f842",
   "metadata": {},
   "source": [
    "I can't compare since I have too few data on the budget of the movies."
   ]
  }
 ],
 "metadata": {
  "kernelspec": {
   "display_name": "Python 3",
   "language": "python",
   "name": "python3"
  },
  "language_info": {
   "codemirror_mode": {
    "name": "ipython",
    "version": 3
   },
   "file_extension": ".py",
   "mimetype": "text/x-python",
   "name": "python",
   "nbconvert_exporter": "python",
   "pygments_lexer": "ipython3",
   "version": "3.7.10"
  }
 },
 "nbformat": 4,
 "nbformat_minor": 5
}
