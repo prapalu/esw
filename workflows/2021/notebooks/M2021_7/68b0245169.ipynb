{
 "cells": [
  {
   "cell_type": "markdown",
   "id": "7034c3bf-6eb0-4418-8687-7b9d2a501103",
   "metadata": {},
   "source": [
    "# General instructions\n",
    "\n",
    "The goal of the project is to materialize a set of **exploratory workloads** over a real-world, large-scale,  open-domain KG: [WikiData](https://www.wikidata.org/wiki/Wikidata:Main_Page)\n",
    "\n",
    "An exploratory workload  is composed by a set of queries, where each query is related to the information obtained previously.\n",
    "\n",
    "An exploratory workload starts with a usually vague, open ended question, and does not assume the person issuing the workload has a clear understanding of the data contained in the target database or its structure.\n",
    "\n",
    "Remeber that:\n",
    "\n",
    "1. All the queries must run in the python notebook\n",
    "2. You can use classes and properties only if you find them via a SPARQL query that must be present in the notebook\n",
    "3. You do not delete useless queries. Keep everything that is synthatically valid \n",
    "\n",
    "```\n",
    "?p <http://schema.org/name> ?name .\n",
    "```\n",
    "    \n",
    "is the BGP returning a human-readable name of a property or a class in Wikidata.\n",
    "    \n",
    "    "
   ]
  },
  {
   "cell_type": "code",
   "execution_count": 2,
   "id": "3605c9d5-5371-49a5-be8d-d66e8f417139",
   "metadata": {},
   "outputs": [],
   "source": [
    "## SETUP used later\n",
    "\n",
    "from SPARQLWrapper import SPARQLWrapper, JSON\n",
    "\n",
    "\n",
    "prefixString = \"\"\"\n",
    "##-68b0245169-##\n",
    "PREFIX wd: <http://www.wikidata.org/entity/> \n",
    "PREFIX wdt: <http://www.wikidata.org/prop/direct/> \n",
    "PREFIX sc: <http://schema.org/>\n",
    "\"\"\"\n",
    "\n",
    "# select and construct queries\n",
    "def run_query(queryString):\n",
    "    to_run = prefixString + \"\\n\" + queryString\n",
    "\n",
    "    sparql = SPARQLWrapper(\"http://a256-gc1-02.srv.aau.dk:5820/sparql\")\n",
    "    sparql.setTimeout(300)\n",
    "    sparql.setReturnFormat(JSON)\n",
    "    sparql.setQuery(to_run)\n",
    "\n",
    "    try :\n",
    "       results = sparql.query()\n",
    "       json_results = results.convert()\n",
    "       if len(json_results['results']['bindings'])==0:\n",
    "          print(\"Empty\")\n",
    "          return 0\n",
    "    \n",
    "       for bindings in json_results['results']['bindings']:\n",
    "          print( [ (var, value['value'])  for var, value in bindings.items() ] )\n",
    "\n",
    "       return len(json_results['results']['bindings'])\n",
    "\n",
    "    except Exception as e :\n",
    "        print(\"The operation failed\", e)\n",
    "    \n",
    "# ASk queries\n",
    "def run_ask_query(queryString):\n",
    "    to_run = prefixString + \"\\n\" + queryString\n",
    "\n",
    "    sparql = SPARQLWrapper(\"http://a256-gc1-03.srv.aau.dk:5820/sparql\")\n",
    "    sparql.setTimeout(300)\n",
    "    sparql.setReturnFormat(JSON)\n",
    "    sparql.setQuery(to_run)\n",
    "\n",
    "    try :\n",
    "        return sparql.query().convert()\n",
    "\n",
    "    except Exception as e :\n",
    "        print(\"The operation failed\", e)\n"
   ]
  },
  {
   "cell_type": "markdown",
   "id": "d477a59c-a68c-4c8f-9f97-8ca5294d7d27",
   "metadata": {},
   "source": [
    "# Sport Workflow Series (\"Olympic explorative search\") \n",
    "\n",
    "Consider the following exploratory information need:\n",
    "\n",
    "> investigate the results, in terms of participations and competitions won, in the past editions of the olympics between France and Germany"
   ]
  },
  {
   "cell_type": "markdown",
   "id": "4a45c0ba-f79e-441d-bec5-84401b09db70",
   "metadata": {},
   "source": [
    "## Useful URIs for the current workflow\n",
    "\n",
    "\n",
    "The following are given:\n",
    "\n",
    "| IRI           | Description   | Role      |\n",
    "| -----------   | -----------   |-----------|\n",
    "| `wdt:P1647`   | subproperty   | predicate |\n",
    "| `wdt:P31`     | instance of   | predicate |\n",
    "| `wdt:P106`    | profession    | predicate | \n",
    "| `wdt:P279`    | subclass      | predicate |\n",
    "| `wdt:P27`     | nationality   | predicate |\n",
    "| `wd:Q159821`  | Olympic games | node      |\n",
    "| `wd:Q10843402`| Swimmer       | node |\n",
    "| `wd:Q2066131` | Athlete       | node |\n",
    "| `wd:Q142`     | France        | node |\n",
    "| `wd:Q183`     | Germany       | node |\n",
    "\n",
    "\n",
    "Also consider\n",
    "\n",
    "\n",
    "```\n",
    "?a wdt:P106/wdt:P279 wd:Q2066131\n",
    "```\n",
    "\n",
    "is the BGP to retrieve all instances of **athlete**\n",
    "\n",
    "\n",
    "```\n",
    "?p wdt:P27 wd:Q142\n",
    "```\n",
    "\n",
    "is the BGP to retrieve all **citizens of France**"
   ]
  },
  {
   "cell_type": "markdown",
   "id": "7af439fb-96e4-4dbb-a381-f19afab79f86",
   "metadata": {
    "tags": []
   },
   "source": [
    "## Workload Goals\n",
    "\n",
    "1. Identify the BGP for participating or winning some competition\n",
    "\n",
    "2. Identify the BGP for different sports or types of competitions\n",
    "\n",
    "3. Is there some French or German Athlete participating to any olympic event with double citizenship?\n",
    "\n",
    "4. Compare number of participations and winning events across different dimensions\n",
    " \n",
    "   4.1 In which specific sport France has more winners than Germany\n",
    "   \n",
    "   4.2 Who has the highest number of female winners\n",
    "   \n",
    "   4.3 For each country , which are the atheletes with the highest number of participations\n"
   ]
  },
  {
   "cell_type": "code",
   "execution_count": 3,
   "id": "24a853ab-830c-422c-afd3-e9e015b8b8ed",
   "metadata": {},
   "outputs": [],
   "source": [
    "# start your workflow here"
   ]
  },
  {
   "cell_type": "code",
   "execution_count": 4,
   "id": "ade01416-92e7-4ad7-b9a9-b8fb330750dc",
   "metadata": {},
   "outputs": [
    {
     "name": "stdout",
     "output_type": "stream",
     "text": [
      "Results\n",
      "[('callret-0', '929008')]\n"
     ]
    },
    {
     "data": {
      "text/plain": [
       "1"
      ]
     },
     "execution_count": 4,
     "metadata": {},
     "output_type": "execute_result"
    }
   ],
   "source": [
    "queryString = \"\"\"\n",
    "SELECT COUNT(*)\n",
    "WHERE { \n",
    "\n",
    "?a wdt:P106/wdt:P279 wd:Q2066131\n",
    "\n",
    "} \n",
    "\"\"\"\n",
    "\n",
    "print(\"Results\")\n",
    "run_query(queryString)"
   ]
  },
  {
   "cell_type": "markdown",
   "id": "a12268f2-93d0-49cd-a3d2-60c9d683cef1",
   "metadata": {},
   "source": [
    "### 1. Identify the BGP for participating or winning some competition"
   ]
  },
  {
   "cell_type": "markdown",
   "id": "26a3fc76-b66f-4b4e-bf89-a14bb0a97f9e",
   "metadata": {},
   "source": [
    "Let's search for swimmers"
   ]
  },
  {
   "cell_type": "code",
   "execution_count": 63,
   "id": "ce6543d5-5ab0-40fc-bb31-3112a035b894",
   "metadata": {},
   "outputs": [
    {
     "name": "stdout",
     "output_type": "stream",
     "text": [
      "Results\n",
      "[('a', 'http://www.wikidata.org/entity/Q2375792'), ('athlete', 'Muriel Hermine'), ('sname', '1988 Summer Olympics'), ('p', 'http://www.wikidata.org/prop/direct/P1344'), ('pname', 'participant in')]\n",
      "[('a', 'http://www.wikidata.org/entity/Q19519973'), ('athlete', 'Karine Schuler'), ('sname', '1988 Summer Olympics'), ('p', 'http://www.wikidata.org/prop/direct/P1344'), ('pname', 'participant in')]\n",
      "[('a', 'http://www.wikidata.org/entity/Q18685209'), ('athlete', 'Anne Capron'), ('sname', '1988 Summer Olympics'), ('p', 'http://www.wikidata.org/prop/direct/P1344'), ('pname', 'participant in')]\n",
      "[('a', 'http://www.wikidata.org/entity/Q453274'), ('athlete', 'Sylvie Fréchette'), ('sname', '1992 Summer Olympics'), ('p', 'http://www.wikidata.org/prop/direct/P1344'), ('pname', 'participant in')]\n",
      "[('a', 'http://www.wikidata.org/entity/Q16146393'), ('athlete', 'Marianne Aeschbacher'), ('sname', '1992 Summer Olympics'), ('p', 'http://www.wikidata.org/prop/direct/P1344'), ('pname', 'participant in')]\n",
      "[('a', 'http://www.wikidata.org/entity/Q6308161'), ('athlete', 'Julie Fabre'), ('sname', '1996 Summer Olympics'), ('p', 'http://www.wikidata.org/prop/direct/P1344'), ('pname', 'participant in')]\n",
      "[('a', 'http://www.wikidata.org/entity/Q20961919'), ('athlete', 'Isabelle Manable'), ('sname', '1996 Summer Olympics'), ('p', 'http://www.wikidata.org/prop/direct/P1344'), ('pname', 'participant in')]\n",
      "[('a', 'http://www.wikidata.org/entity/Q5086066'), ('athlete', 'Charlotte Massardier'), ('sname', '1996 Summer Olympics'), ('p', 'http://www.wikidata.org/prop/direct/P1344'), ('pname', 'participant in')]\n",
      "[('a', 'http://www.wikidata.org/entity/Q453274'), ('athlete', 'Sylvie Fréchette'), ('sname', '1996 Summer Olympics'), ('p', 'http://www.wikidata.org/prop/direct/P1344'), ('pname', 'participant in')]\n",
      "[('a', 'http://www.wikidata.org/entity/Q8078530'), ('athlete', 'Éva Riffet'), ('sname', '1996 Summer Olympics'), ('p', 'http://www.wikidata.org/prop/direct/P1344'), ('pname', 'participant in')]\n",
      "[('a', 'http://www.wikidata.org/entity/Q3331539'), ('athlete', 'Myriam Lignot'), ('sname', '1996 Summer Olympics'), ('p', 'http://www.wikidata.org/prop/direct/P1344'), ('pname', 'participant in')]\n",
      "[('a', 'http://www.wikidata.org/entity/Q6729626'), ('athlete', 'Magali Rathier'), ('sname', '1996 Summer Olympics'), ('p', 'http://www.wikidata.org/prop/direct/P1344'), ('pname', 'participant in')]\n",
      "[('a', 'http://www.wikidata.org/entity/Q21091548'), ('athlete', 'Céline Lévêque'), ('sname', '1996 Summer Olympics'), ('p', 'http://www.wikidata.org/prop/direct/P1344'), ('pname', 'participant in')]\n",
      "[('a', 'http://www.wikidata.org/entity/Q16146393'), ('athlete', 'Marianne Aeschbacher'), ('sname', '1996 Summer Olympics'), ('p', 'http://www.wikidata.org/prop/direct/P1344'), ('pname', 'participant in')]\n",
      "[('a', 'http://www.wikidata.org/entity/Q5320233'), ('athlete', 'Délphine Maréchal'), ('sname', '1996 Summer Olympics'), ('p', 'http://www.wikidata.org/prop/direct/P1344'), ('pname', 'participant in')]\n",
      "[('a', 'http://www.wikidata.org/entity/Q2637552'), ('athlete', 'Virginie Dedieu'), ('sname', '1996 Summer Olympics'), ('p', 'http://www.wikidata.org/prop/direct/P1344'), ('pname', 'participant in')]\n",
      "[('a', 'http://www.wikidata.org/entity/Q6308161'), ('athlete', 'Julie Fabre'), ('sname', '1996 Summer Olympics'), ('p', 'http://www.wikidata.org/prop/direct/P1344'), ('pname', 'participant in')]\n",
      "[('a', 'http://www.wikidata.org/entity/Q20961919'), ('athlete', 'Isabelle Manable'), ('sname', '1996 Summer Olympics'), ('p', 'http://www.wikidata.org/prop/direct/P1344'), ('pname', 'participant in')]\n",
      "[('a', 'http://www.wikidata.org/entity/Q5086066'), ('athlete', 'Charlotte Massardier'), ('sname', '1996 Summer Olympics'), ('p', 'http://www.wikidata.org/prop/direct/P1344'), ('pname', 'participant in')]\n",
      "[('a', 'http://www.wikidata.org/entity/Q453274'), ('athlete', 'Sylvie Fréchette'), ('sname', '1996 Summer Olympics'), ('p', 'http://www.wikidata.org/prop/direct/P1344'), ('pname', 'participant in')]\n",
      "[('a', 'http://www.wikidata.org/entity/Q8078530'), ('athlete', 'Éva Riffet'), ('sname', '1996 Summer Olympics'), ('p', 'http://www.wikidata.org/prop/direct/P1344'), ('pname', 'participant in')]\n",
      "[('a', 'http://www.wikidata.org/entity/Q3331539'), ('athlete', 'Myriam Lignot'), ('sname', '1996 Summer Olympics'), ('p', 'http://www.wikidata.org/prop/direct/P1344'), ('pname', 'participant in')]\n",
      "[('a', 'http://www.wikidata.org/entity/Q6729626'), ('athlete', 'Magali Rathier'), ('sname', '1996 Summer Olympics'), ('p', 'http://www.wikidata.org/prop/direct/P1344'), ('pname', 'participant in')]\n",
      "[('a', 'http://www.wikidata.org/entity/Q21091548'), ('athlete', 'Céline Lévêque'), ('sname', '1996 Summer Olympics'), ('p', 'http://www.wikidata.org/prop/direct/P1344'), ('pname', 'participant in')]\n",
      "[('a', 'http://www.wikidata.org/entity/Q16146393'), ('athlete', 'Marianne Aeschbacher'), ('sname', '1996 Summer Olympics'), ('p', 'http://www.wikidata.org/prop/direct/P1344'), ('pname', 'participant in')]\n",
      "[('a', 'http://www.wikidata.org/entity/Q5320233'), ('athlete', 'Délphine Maréchal'), ('sname', '1996 Summer Olympics'), ('p', 'http://www.wikidata.org/prop/direct/P1344'), ('pname', 'participant in')]\n",
      "[('a', 'http://www.wikidata.org/entity/Q2637552'), ('athlete', 'Virginie Dedieu'), ('sname', '1996 Summer Olympics'), ('p', 'http://www.wikidata.org/prop/direct/P1344'), ('pname', 'participant in')]\n",
      "[('a', 'http://www.wikidata.org/entity/Q5085930'), ('athlete', 'Charlotte Fabre'), ('sname', '2000 Summer Olympics'), ('p', 'http://www.wikidata.org/prop/direct/P1344'), ('pname', 'participant in')]\n",
      "[('a', 'http://www.wikidata.org/entity/Q5121111'), ('athlete', 'Cinthia Bouhier'), ('sname', '2000 Summer Olympics'), ('p', 'http://www.wikidata.org/prop/direct/P1344'), ('pname', 'participant in')]\n",
      "[('a', 'http://www.wikidata.org/entity/Q5086066'), ('athlete', 'Charlotte Massardier'), ('sname', '2000 Summer Olympics'), ('p', 'http://www.wikidata.org/prop/direct/P1344'), ('pname', 'participant in')]\n",
      "[('a', 'http://www.wikidata.org/entity/Q6948197'), ('athlete', 'Myriam Glez'), ('sname', '2000 Summer Olympics'), ('p', 'http://www.wikidata.org/prop/direct/P1344'), ('pname', 'participant in')]\n",
      "[('a', 'http://www.wikidata.org/entity/Q3331539'), ('athlete', 'Myriam Lignot'), ('sname', '2000 Summer Olympics'), ('p', 'http://www.wikidata.org/prop/direct/P1344'), ('pname', 'participant in')]\n",
      "[('a', 'http://www.wikidata.org/entity/Q6729626'), ('athlete', 'Magali Rathier'), ('sname', '2000 Summer Olympics'), ('p', 'http://www.wikidata.org/prop/direct/P1344'), ('pname', 'participant in')]\n",
      "[('a', 'http://www.wikidata.org/entity/Q7279470'), ('athlete', 'Rachel le Bozec'), ('sname', '2000 Summer Olympics'), ('p', 'http://www.wikidata.org/prop/direct/P1344'), ('pname', 'participant in')]\n",
      "[('a', 'http://www.wikidata.org/entity/Q2637552'), ('athlete', 'Virginie Dedieu'), ('sname', '2000 Summer Olympics'), ('p', 'http://www.wikidata.org/prop/direct/P1344'), ('pname', 'participant in')]\n",
      "[('a', 'http://www.wikidata.org/entity/Q6499660'), ('athlete', 'Laure Thibaud'), ('sname', '2004 Summer Olympics'), ('p', 'http://www.wikidata.org/prop/direct/P1344'), ('pname', 'participant in')]\n",
      "[('a', 'http://www.wikidata.org/entity/Q2637552'), ('athlete', 'Virginie Dedieu'), ('sname', '2004 Summer Olympics'), ('p', 'http://www.wikidata.org/prop/direct/P1344'), ('pname', 'participant in')]\n",
      "[('a', 'http://www.wikidata.org/entity/Q6948197'), ('athlete', 'Myriam Glez'), ('sname', '2008 Summer Olympics'), ('p', 'http://www.wikidata.org/prop/direct/P1344'), ('pname', 'participant in')]\n",
      "[('a', 'http://www.wikidata.org/entity/Q6547482'), ('athlete', 'Lila Meesseman-Bakir'), ('sname', '2008 Summer Olympics'), ('p', 'http://www.wikidata.org/prop/direct/P1344'), ('pname', 'participant in')]\n",
      "[('a', 'http://www.wikidata.org/entity/Q4780249'), ('athlete', 'Apolline Dreyfuss'), ('sname', '2008 Summer Olympics'), ('p', 'http://www.wikidata.org/prop/direct/P1344'), ('pname', 'participant in')]\n",
      "[('a', 'http://www.wikidata.org/entity/Q16228335'), ('athlete', 'Chloé Willhelm'), ('sname', '2012 Summer Olympics'), ('p', 'http://www.wikidata.org/prop/direct/P1344'), ('pname', 'participant in')]\n",
      "[('a', 'http://www.wikidata.org/entity/Q3473266'), ('athlete', 'Sara Labrousse'), ('sname', '2012 Summer Olympics'), ('p', 'http://www.wikidata.org/prop/direct/P1344'), ('pname', 'participant in')]\n",
      "[('a', 'http://www.wikidata.org/entity/Q2375792'), ('athlete', 'Muriel Hermine'), ('sname', '1984 Summer Olympics'), ('p', 'http://www.wikidata.org/prop/direct/P1344'), ('pname', 'participant in')]\n",
      "[('a', 'http://www.wikidata.org/entity/Q18684789'), ('athlete', 'Pascale Besson'), ('sname', '1984 Summer Olympics'), ('p', 'http://www.wikidata.org/prop/direct/P1344'), ('pname', 'participant in')]\n",
      "[('a', 'http://www.wikidata.org/entity/Q23926159'), ('athlete', 'Odile Petit'), ('sname', '1984 Summer Olympics'), ('p', 'http://www.wikidata.org/prop/direct/P1344'), ('pname', 'participant in')]\n",
      "[('a', 'http://www.wikidata.org/entity/Q2375792'), ('athlete', 'Muriel Hermine'), ('sname', '1984 Summer Olympics'), ('p', 'http://www.wikidata.org/prop/direct/P1344'), ('pname', 'participant in')]\n",
      "[('a', 'http://www.wikidata.org/entity/Q18684789'), ('athlete', 'Pascale Besson'), ('sname', '1984 Summer Olympics'), ('p', 'http://www.wikidata.org/prop/direct/P1344'), ('pname', 'participant in')]\n",
      "[('a', 'http://www.wikidata.org/entity/Q23926159'), ('athlete', 'Odile Petit'), ('sname', '1984 Summer Olympics'), ('p', 'http://www.wikidata.org/prop/direct/P1344'), ('pname', 'participant in')]\n"
     ]
    },
    {
     "data": {
      "text/plain": [
       "48"
      ]
     },
     "execution_count": 63,
     "metadata": {},
     "output_type": "execute_result"
    }
   ],
   "source": [
    "queryString = \"\"\"\n",
    "SELECT ?a ?athlete ?sname ?p ?pname WHERE {\n",
    "   \n",
    "    ?a wdt:P106/wdt:P279 wd:Q10843402 ;\n",
    "        wdt:P27 ?country ;\n",
    "        ?p ?s .\n",
    "    ?s ?p2 wd:Q159821 .\n",
    "    \n",
    "    # this returns the labels\n",
    "    ?a <http://schema.org/name> ?athlete .\n",
    "    ?s <http://schema.org/name> ?sname .\n",
    "    ?p <http://schema.org/name> ?pname .\n",
    "    \n",
    "    \n",
    "     \n",
    "     FILTER ((?country = wd:Q183) || (?country = wd:Q142)) .\n",
    "}\n",
    "LIMIT 100\n",
    "\n",
    "\"\"\"\n",
    "print(\"Results\")\n",
    "run_query(queryString)"
   ]
  },
  {
   "cell_type": "markdown",
   "id": "e188885f-1065-4cbd-9df0-ab7fcffca557",
   "metadata": {},
   "source": [
    "Let's find out if one of them (let's use Q5085930), has something that links with some competitions."
   ]
  },
  {
   "cell_type": "code",
   "execution_count": 24,
   "id": "e0942164-18d0-4f43-b129-21d39fed9052",
   "metadata": {},
   "outputs": [
    {
     "name": "stdout",
     "output_type": "stream",
     "text": [
      "Results\n",
      "[('p', 'http://www.wikidata.org/prop/direct/P3373'), ('pname', 'sibling'), ('o', 'http://www.wikidata.org/entity/Q6308161'), ('oname', 'Julie Fabre')]\n",
      "[('p', 'http://www.wikidata.org/prop/direct/P735'), ('pname', 'given name'), ('o', 'http://www.wikidata.org/entity/Q264002'), ('oname', 'Charlotte')]\n",
      "[('p', 'http://www.wikidata.org/prop/direct/P641'), ('pname', 'sport'), ('o', 'http://www.wikidata.org/entity/Q180692'), ('oname', 'synchronized swimming')]\n",
      "[('p', 'http://www.wikidata.org/prop/direct/P27'), ('pname', 'country of citizenship'), ('o', 'http://www.wikidata.org/entity/Q142'), ('oname', 'France')]\n",
      "[('p', 'http://www.wikidata.org/prop/direct/P1412'), ('pname', 'languages spoken, written or signed'), ('o', 'http://www.wikidata.org/entity/Q150'), ('oname', 'French')]\n",
      "[('p', 'http://www.wikidata.org/prop/direct/P641'), ('pname', 'sport'), ('o', 'http://www.wikidata.org/entity/Q31920'), ('oname', 'swimming')]\n",
      "[('p', 'http://www.wikidata.org/prop/direct/P19'), ('pname', 'place of birth'), ('o', 'http://www.wikidata.org/entity/Q33959'), ('oname', 'Nice')]\n",
      "[('p', 'http://www.wikidata.org/prop/direct/P31'), ('pname', 'instance of'), ('o', 'http://www.wikidata.org/entity/Q5'), ('oname', 'human')]\n",
      "[('p', 'http://www.wikidata.org/prop/direct/P21'), ('pname', 'sex or gender'), ('o', 'http://www.wikidata.org/entity/Q6581072'), ('oname', 'female')]\n",
      "[('p', 'http://www.wikidata.org/prop/direct/P1344'), ('pname', 'participant in'), ('o', 'http://www.wikidata.org/entity/Q8544'), ('oname', '2000 Summer Olympics')]\n",
      "[('p', 'http://www.wikidata.org/prop/direct/P106'), ('pname', 'occupation'), ('o', 'http://www.wikidata.org/entity/Q18715859'), ('oname', 'synchronized swimmer')]\n",
      "[('p', 'http://www.wikidata.org/prop/direct/P734'), ('pname', 'family name'), ('o', 'http://www.wikidata.org/entity/Q21509818'), ('oname', 'Fabre')]\n"
     ]
    },
    {
     "data": {
      "text/plain": [
       "12"
      ]
     },
     "execution_count": 24,
     "metadata": {},
     "output_type": "execute_result"
    }
   ],
   "source": [
    "queryString = \"\"\"\n",
    "SELECT ?p ?pname ?o ?oname WHERE {\n",
    "   \n",
    "    wd:Q5085930 ?p ?o .\n",
    "    \n",
    "    # this returns the labels\n",
    "    ?p <http://schema.org/name> ?pname .\n",
    "    ?o <http://schema.org/name> ?oname .\n",
    "\n",
    "        \n",
    "}\n",
    "\n",
    "\"\"\"\n",
    "print(\"Results\")\n",
    "run_query(queryString)"
   ]
  },
  {
   "cell_type": "markdown",
   "id": "8cbc30fc-ae96-4d3e-b0e5-9d0510e3e469",
   "metadata": {},
   "source": [
    "I see that P1344 'participant in' is what I am searching for. "
   ]
  },
  {
   "cell_type": "markdown",
   "id": "75aaf856-603b-476f-a6d7-8e48ef90b5b2",
   "metadata": {},
   "source": [
    "Now let's search something for winning, using as example the 2000 Summer Olympics (Q8544)."
   ]
  },
  {
   "cell_type": "code",
   "execution_count": 53,
   "id": "51e5f329-99ca-401b-ab1b-0e5806ca8d60",
   "metadata": {},
   "outputs": [
    {
     "name": "stdout",
     "output_type": "stream",
     "text": [
      "Results\n",
      "[('p', 'http://www.wikidata.org/prop/direct/P527'), ('pname', 'has part'), ('o', 'http://www.wikidata.org/entity/Q513725'), ('oname', 'synchronized swimming at the 2000 Summer Olympics')]\n",
      "[('p', 'http://www.wikidata.org/prop/direct/P527'), ('pname', 'has part'), ('o', 'http://www.wikidata.org/entity/Q579844'), ('oname', 'fencing at the 2000 Summer Olympics')]\n",
      "[('p', 'http://www.wikidata.org/prop/direct/P527'), ('pname', 'has part'), ('o', 'http://www.wikidata.org/entity/Q847738'), ('oname', 'cycling at the 2000 Summer Olympics')]\n",
      "[('p', 'http://www.wikidata.org/prop/direct/P527'), ('pname', 'has part'), ('o', 'http://www.wikidata.org/entity/Q679703'), ('oname', 'judo at the 2000 Summer Olympics')]\n",
      "[('p', 'http://www.wikidata.org/prop/direct/P31'), ('pname', 'instance of'), ('o', 'http://www.wikidata.org/entity/Q159821'), ('oname', 'Summer Olympic Games')]\n",
      "[('p', 'http://www.wikidata.org/prop/direct/P2670'), ('pname', 'has parts of the class'), ('o', 'http://www.wikidata.org/entity/Q18536594'), ('oname', 'Olympic sporting event')]\n",
      "[('p', 'http://www.wikidata.org/prop/direct/P17'), ('pname', 'country'), ('o', 'http://www.wikidata.org/entity/Q408'), ('oname', 'Australia')]\n",
      "[('p', 'http://www.wikidata.org/prop/direct/P155'), ('pname', 'follows'), ('o', 'http://www.wikidata.org/entity/Q8531'), ('oname', '1996 Summer Olympics')]\n",
      "[('p', 'http://www.wikidata.org/prop/direct/P156'), ('pname', 'followed by'), ('o', 'http://www.wikidata.org/entity/Q8558'), ('oname', '2004 Summer Olympics')]\n",
      "[('p', 'http://www.wikidata.org/prop/direct/P527'), ('pname', 'has part'), ('o', 'http://www.wikidata.org/entity/Q754594'), ('oname', 'wrestling at the 2000 Summer Olympics')]\n",
      "[('p', 'http://www.wikidata.org/prop/direct/P527'), ('pname', 'has part'), ('o', 'http://www.wikidata.org/entity/Q843711'), ('oname', 'equestrian at the 2000 Summer Olympics')]\n",
      "[('p', 'http://www.wikidata.org/prop/direct/P527'), ('pname', 'has part'), ('o', 'http://www.wikidata.org/entity/Q855408'), ('oname', 'canoeing at the 2000 Summer Olympics')]\n",
      "[('p', 'http://www.wikidata.org/prop/direct/P527'), ('pname', 'has part'), ('o', 'http://www.wikidata.org/entity/Q570002'), ('oname', 'table tennis at the 2000 Summer Olympics')]\n",
      "[('p', 'http://www.wikidata.org/prop/direct/P527'), ('pname', 'has part'), ('o', 'http://www.wikidata.org/entity/Q843708'), ('oname', 'shooting at the 2000 Summer Olympics')]\n",
      "[('p', 'http://www.wikidata.org/prop/direct/P527'), ('pname', 'has part'), ('o', 'http://www.wikidata.org/entity/Q661494'), ('oname', 'tennis at the 2000 Summer Olympics')]\n",
      "[('p', 'http://www.wikidata.org/prop/direct/P527'), ('pname', 'has part'), ('o', 'http://www.wikidata.org/entity/Q639125'), ('oname', 'water polo at the 2000 Summer Olympics')]\n",
      "[('p', 'http://www.wikidata.org/prop/direct/P527'), ('pname', 'has part'), ('o', 'http://www.wikidata.org/entity/Q426993'), ('oname', 'basketball at the 2000 Summer Olympics')]\n",
      "[('p', 'http://www.wikidata.org/prop/direct/P527'), ('pname', 'has part'), ('o', 'http://www.wikidata.org/entity/Q517784'), ('oname', 'swimming at the 2000 Summer Olympics')]\n",
      "[('p', 'http://www.wikidata.org/prop/direct/P527'), ('pname', 'has part'), ('o', 'http://www.wikidata.org/entity/Q249809'), ('oname', 'athletics at the 2000 Summer Olympics')]\n",
      "[('p', 'http://www.wikidata.org/prop/direct/P115'), ('pname', 'home venue'), ('o', 'http://www.wikidata.org/entity/Q295886'), ('oname', 'Stadium Australia')]\n",
      "[('p', 'http://www.wikidata.org/prop/direct/P276'), ('pname', 'location'), ('o', 'http://www.wikidata.org/entity/Q295886'), ('oname', 'Stadium Australia')]\n",
      "[('p', 'http://www.wikidata.org/prop/direct/P542'), ('pname', 'officially opened by'), ('o', 'http://www.wikidata.org/entity/Q267745'), ('oname', 'William Deane')]\n",
      "[('p', 'http://www.wikidata.org/prop/direct/P545'), ('pname', 'torch lit by'), ('o', 'http://www.wikidata.org/entity/Q234762'), ('oname', 'Cathy Freeman')]\n",
      "[('p', 'http://www.wikidata.org/prop/direct/P527'), ('pname', 'has part'), ('o', 'http://www.wikidata.org/entity/Q573649'), ('oname', 'rowing at the 2000 Summer Olympics')]\n",
      "[('p', 'http://www.wikidata.org/prop/direct/P527'), ('pname', 'has part'), ('o', 'http://www.wikidata.org/entity/Q579853'), ('oname', 'sailing at the 2000 Summer Olympics')]\n",
      "[('p', 'http://www.wikidata.org/prop/direct/P527'), ('pname', 'has part'), ('o', 'http://www.wikidata.org/entity/Q602592'), ('oname', 'weightlifting at the 2000 Summer Olympics')]\n",
      "[('p', 'http://www.wikidata.org/prop/direct/P527'), ('pname', 'has part'), ('o', 'http://www.wikidata.org/entity/Q843715'), ('oname', 'gymnastics at the 2000 Summer Olympics')]\n",
      "[('p', 'http://www.wikidata.org/prop/direct/P527'), ('pname', 'has part'), ('o', 'http://www.wikidata.org/entity/Q355637'), ('oname', 'artistic gymnastics at the 2000 Summer Olympics')]\n",
      "[('p', 'http://www.wikidata.org/prop/direct/P527'), ('pname', 'has part'), ('o', 'http://www.wikidata.org/entity/Q638193'), ('oname', 'volleyball at the 2000 Summer Olympics')]\n",
      "[('p', 'http://www.wikidata.org/prop/direct/P527'), ('pname', 'has part'), ('o', 'http://www.wikidata.org/entity/Q696263'), ('oname', 'taekwondo at the 2000 Summer Olympics')]\n"
     ]
    },
    {
     "data": {
      "text/plain": [
       "30"
      ]
     },
     "execution_count": 53,
     "metadata": {},
     "output_type": "execute_result"
    }
   ],
   "source": [
    "queryString = \"\"\"\n",
    "SELECT ?p ?pname ?o ?oname WHERE {\n",
    "    wd:Q8544 ?p ?o .\n",
    "    \n",
    "    # this returns the labels\n",
    "    ?p <http://schema.org/name> ?pname .\n",
    "    ?o <http://schema.org/name> ?oname .\n",
    "\n",
    "}\n",
    "LIMIT 30\n",
    "\n",
    "\"\"\"\n",
    "print(\"Results\")\n",
    "run_query(queryString)"
   ]
  },
  {
   "cell_type": "markdown",
   "id": "b6f70c32-053b-41d8-abe8-92385940e1a5",
   "metadata": {},
   "source": [
    "Let's find winners in volleyball (Q638193)"
   ]
  },
  {
   "cell_type": "code",
   "execution_count": 37,
   "id": "314ba4c1-db5d-4b6a-9924-664eb4acd189",
   "metadata": {},
   "outputs": [
    {
     "name": "stdout",
     "output_type": "stream",
     "text": [
      "Results\n",
      "[('p', 'http://www.wikidata.org/prop/direct/P31'), ('pname', 'instance of'), ('o', 'http://www.wikidata.org/entity/Q27020041'), ('oname', 'sports season')]\n",
      "[('p', 'http://www.wikidata.org/prop/direct/P641'), ('pname', 'sport'), ('o', 'http://www.wikidata.org/entity/Q2736'), ('oname', 'association football')]\n",
      "[('p', 'http://www.wikidata.org/prop/direct/P17'), ('pname', 'country'), ('o', 'http://www.wikidata.org/entity/Q408'), ('oname', 'Australia')]\n",
      "[('p', 'http://www.wikidata.org/prop/direct/P361'), ('pname', 'part of'), ('o', 'http://www.wikidata.org/entity/Q8544'), ('oname', '2000 Summer Olympics')]\n",
      "[('p', 'http://www.wikidata.org/prop/direct/P3450'), ('pname', 'sports season of league or competition'), ('o', 'http://www.wikidata.org/entity/Q188317'), ('oname', 'association football at the Summer Olympics')]\n",
      "[('p', 'http://www.wikidata.org/prop/direct/P527'), ('pname', 'has part'), ('o', 'http://www.wikidata.org/entity/Q795004'), ('oname', \"football at the 2000 Summer Olympics – women's tournament\")]\n",
      "[('p', 'http://www.wikidata.org/prop/direct/P276'), ('pname', 'location'), ('o', 'http://www.wikidata.org/entity/Q295886'), ('oname', 'Stadium Australia')]\n",
      "[('p', 'http://www.wikidata.org/prop/direct/P527'), ('pname', 'has part'), ('o', 'http://www.wikidata.org/entity/Q377600'), ('oname', \"football at the 2000 Summer Olympics – men's tournament\")]\n",
      "[('p', 'http://www.wikidata.org/prop/direct/P1424'), ('pname', \"topic's main template\"), ('o', 'http://www.wikidata.org/entity/Q10396768'), ('oname', 'Template:Football at the 2000 Summer Olympics')]\n",
      "[('p', 'http://www.wikidata.org/prop/direct/P910'), ('pname', \"topic's main category\"), ('o', 'http://www.wikidata.org/entity/Q8463474'), ('oname', 'Category:Football at the 2000 Summer Olympics')]\n"
     ]
    },
    {
     "data": {
      "text/plain": [
       "10"
      ]
     },
     "execution_count": 37,
     "metadata": {},
     "output_type": "execute_result"
    }
   ],
   "source": [
    "queryString = \"\"\"\n",
    "SELECT ?p ?pname ?o ?oname WHERE {\n",
    "   \n",
    "   wd:Q754589 ?p ?o .\n",
    "    \n",
    "    # this returns the labels\n",
    "    ?p <http://schema.org/name> ?pname .\n",
    "    ?o <http://schema.org/name> ?oname .\n",
    "    \n",
    "    \n",
    "}\n",
    "LIMIT 10\n",
    "\n",
    "\"\"\"\n",
    "print(\"Results\")\n",
    "run_query(queryString)"
   ]
  },
  {
   "cell_type": "markdown",
   "id": "6a4078e8-db49-4c3c-a2a3-bf6d53a6258e",
   "metadata": {},
   "source": [
    "Let's analyze Q377600: football at the 2000 Summer Olympics – men's tournament"
   ]
  },
  {
   "cell_type": "code",
   "execution_count": 39,
   "id": "e4897075-9d8c-4c5d-b004-ed991fe0fa11",
   "metadata": {},
   "outputs": [
    {
     "name": "stdout",
     "output_type": "stream",
     "text": [
      "Results\n",
      "[('p', 'http://www.wikidata.org/prop/direct/P31'), ('pname', 'instance of'), ('o', 'http://www.wikidata.org/entity/Q18536594'), ('oname', 'Olympic sporting event')]\n",
      "[('p', 'http://www.wikidata.org/prop/direct/P641'), ('pname', 'sport'), ('o', 'http://www.wikidata.org/entity/Q2736'), ('oname', 'association football')]\n",
      "[('p', 'http://www.wikidata.org/prop/direct/P17'), ('pname', 'country'), ('o', 'http://www.wikidata.org/entity/Q408'), ('oname', 'Australia')]\n",
      "[('p', 'http://www.wikidata.org/prop/direct/P664'), ('pname', 'organizer'), ('o', 'http://www.wikidata.org/entity/Q40970'), ('oname', 'International Olympic Committee')]\n",
      "[('p', 'http://www.wikidata.org/prop/direct/P2094'), ('pname', 'competition class'), ('o', 'http://www.wikidata.org/entity/Q31930761'), ('oname', \"men's association football\")]\n",
      "[('p', 'http://www.wikidata.org/prop/direct/P1346'), ('pname', 'winner'), ('o', 'http://www.wikidata.org/entity/Q175309'), ('oname', 'Cameroon national football team')]\n",
      "[('p', 'http://www.wikidata.org/prop/direct/P3450'), ('pname', 'sports season of league or competition'), ('o', 'http://www.wikidata.org/entity/Q105492332'), ('oname', \"football at the Summer Olympics – men's tournament\")]\n",
      "[('p', 'http://www.wikidata.org/prop/direct/P3279'), ('pname', 'statistical leader'), ('o', 'http://www.wikidata.org/entity/Q192035'), ('oname', 'Iván Zamorano')]\n",
      "[('p', 'http://www.wikidata.org/prop/direct/P361'), ('pname', 'part of'), ('o', 'http://www.wikidata.org/entity/Q754589'), ('oname', 'football at the 2000 Summer Olympics')]\n"
     ]
    },
    {
     "data": {
      "text/plain": [
       "9"
      ]
     },
     "execution_count": 39,
     "metadata": {},
     "output_type": "execute_result"
    }
   ],
   "source": [
    "queryString = \"\"\"\n",
    "SELECT ?p ?pname ?o ?oname WHERE {\n",
    "   \n",
    "   wd:Q377600 ?p ?o .\n",
    "    \n",
    "    # this returns the labels\n",
    "    ?p <http://schema.org/name> ?pname .\n",
    "    ?o <http://schema.org/name> ?oname .\n",
    "    \n",
    "    \n",
    "}\n",
    "\n",
    "\"\"\"\n",
    "print(\"Results\")\n",
    "run_query(queryString)"
   ]
  },
  {
   "cell_type": "raw",
   "id": "d451980c-0bed-4f3c-ba97-2d69c971e553",
   "metadata": {},
   "source": [
    "I see that P1346 is what I am searching for. \n",
    "\n",
    "The BGP for partecipating is\n",
    "\n",
    "?athlete wdt:P106/wdt:P279 wd:Q2066131 ;\n",
    "   wdt:P1344 ?competition .\n",
    "?competition wdt:P31 wd:Q159821 .\n",
    "   \n",
    "   \n",
    "The BGP for winning is\n",
    "\n",
    "?winner  wdt:P106/wdt:P279 wd:Q2066131 ;\n",
    "?competition wdt:P1346 ?winner ;\n",
    "            wdt:P361*/wdt:P31 wd:Q159821 .\n",
    "\n"
   ]
  },
  {
   "cell_type": "markdown",
   "id": "7ded868d-c36f-4a28-a22f-54f4fe3a3e05",
   "metadata": {},
   "source": [
    "### 2. Identify the BGP for different sports or types of competitions\n",
    "\n"
   ]
  },
  {
   "cell_type": "code",
   "execution_count": 44,
   "id": "ede154c4-1ee0-4e88-a017-326aab66613b",
   "metadata": {},
   "outputs": [
    {
     "name": "stdout",
     "output_type": "stream",
     "text": [
      "Results\n",
      "[('p', 'http://www.wikidata.org/prop/direct/P527'), ('pname', 'has part'), ('o', 'http://www.wikidata.org/entity/Q8098'), ('oname', '1904 Summer Olympics')]\n",
      "[('p', 'http://www.wikidata.org/prop/direct/P527'), ('pname', 'has part'), ('o', 'http://www.wikidata.org/entity/Q8150'), ('oname', '1936 Summer Olympics')]\n",
      "[('p', 'http://www.wikidata.org/prop/direct/P527'), ('pname', 'has part'), ('o', 'http://www.wikidata.org/entity/Q8415'), ('oname', '1960 Summer Olympics')]\n",
      "[('p', 'http://www.wikidata.org/prop/direct/P527'), ('pname', 'has part'), ('o', 'http://www.wikidata.org/entity/Q181278'), ('oname', '2020 Summer Olympics')]\n",
      "[('p', 'http://www.wikidata.org/prop/direct/P31'), ('pname', 'instance of'), ('o', 'http://www.wikidata.org/entity/Q18608583'), ('oname', 'recurring sporting event')]\n",
      "[('p', 'http://www.wikidata.org/prop/direct/P664'), ('pname', 'organizer'), ('o', 'http://www.wikidata.org/entity/Q40970'), ('oname', 'International Olympic Committee')]\n",
      "[('p', 'http://www.wikidata.org/prop/direct/P279'), ('pname', 'subclass of'), ('o', 'http://www.wikidata.org/entity/Q5389'), ('oname', 'Olympic Games')]\n",
      "[('p', 'http://www.wikidata.org/prop/direct/P527'), ('pname', 'has part'), ('o', 'http://www.wikidata.org/entity/Q8088'), ('oname', '1900 Summer Olympics')]\n",
      "[('p', 'http://www.wikidata.org/prop/direct/P461'), ('pname', 'opposite of'), ('o', 'http://www.wikidata.org/entity/Q82414'), ('oname', 'Winter Olympic Games')]\n",
      "[('p', 'http://www.wikidata.org/prop/direct/P527'), ('pname', 'has part'), ('o', 'http://www.wikidata.org/entity/Q8438'), ('oname', '1972 Summer Olympics')]\n",
      "[('p', 'http://www.wikidata.org/prop/direct/P527'), ('pname', 'has part'), ('o', 'http://www.wikidata.org/entity/Q8444'), ('oname', '1976 Summer Olympics')]\n",
      "[('p', 'http://www.wikidata.org/prop/direct/P527'), ('pname', 'has part'), ('o', 'http://www.wikidata.org/entity/Q8470'), ('oname', '1988 Summer Olympics')]\n",
      "[('p', 'http://www.wikidata.org/prop/direct/P527'), ('pname', 'has part'), ('o', 'http://www.wikidata.org/entity/Q8488'), ('oname', '1992 Summer Olympics')]\n",
      "[('p', 'http://www.wikidata.org/prop/direct/P527'), ('pname', 'has part'), ('o', 'http://www.wikidata.org/entity/Q8531'), ('oname', '1996 Summer Olympics')]\n",
      "[('p', 'http://www.wikidata.org/prop/direct/P527'), ('pname', 'has part'), ('o', 'http://www.wikidata.org/entity/Q8544'), ('oname', '2000 Summer Olympics')]\n",
      "[('p', 'http://www.wikidata.org/prop/direct/P527'), ('pname', 'has part'), ('o', 'http://www.wikidata.org/entity/Q8558'), ('oname', '2004 Summer Olympics')]\n",
      "[('p', 'http://www.wikidata.org/prop/direct/P527'), ('pname', 'has part'), ('o', 'http://www.wikidata.org/entity/Q8567'), ('oname', '2008 Summer Olympics')]\n",
      "[('p', 'http://www.wikidata.org/prop/direct/P527'), ('pname', 'has part'), ('o', 'http://www.wikidata.org/entity/Q8577'), ('oname', '2012 Summer Olympics')]\n",
      "[('p', 'http://www.wikidata.org/prop/direct/P527'), ('pname', 'has part'), ('o', 'http://www.wikidata.org/entity/Q8613'), ('oname', '2016 Summer Olympics')]\n",
      "[('p', 'http://www.wikidata.org/prop/direct/P1343'), ('pname', 'described by source'), ('o', 'http://www.wikidata.org/entity/Q99413897'), ('oname', 'Medvik')]\n",
      "[('p', 'http://www.wikidata.org/prop/direct/P527'), ('pname', 'has part'), ('o', 'http://www.wikidata.org/entity/Q8128'), ('oname', '1920 Summer Olympics')]\n",
      "[('p', 'http://www.wikidata.org/prop/direct/P527'), ('pname', 'has part'), ('o', 'http://www.wikidata.org/entity/Q8132'), ('oname', '1924 Summer Olympics')]\n",
      "[('p', 'http://www.wikidata.org/prop/direct/P527'), ('pname', 'has part'), ('o', 'http://www.wikidata.org/entity/Q8138'), ('oname', '1928 Summer Olympics')]\n",
      "[('p', 'http://www.wikidata.org/prop/direct/P527'), ('pname', 'has part'), ('o', 'http://www.wikidata.org/entity/Q8143'), ('oname', '1932 Summer Olympics')]\n",
      "[('p', 'http://www.wikidata.org/prop/direct/P527'), ('pname', 'has part'), ('o', 'http://www.wikidata.org/entity/Q8420'), ('oname', '1964 Summer Olympics')]\n",
      "[('p', 'http://www.wikidata.org/prop/direct/P527'), ('pname', 'has part'), ('o', 'http://www.wikidata.org/entity/Q8429'), ('oname', '1968 Summer Olympics')]\n",
      "[('p', 'http://www.wikidata.org/prop/direct/P527'), ('pname', 'has part'), ('o', 'http://www.wikidata.org/entity/Q8111'), ('oname', '1908 Summer Olympics')]\n",
      "[('p', 'http://www.wikidata.org/prop/direct/P527'), ('pname', 'has part'), ('o', 'http://www.wikidata.org/entity/Q8118'), ('oname', '1912 Summer Olympics')]\n",
      "[('p', 'http://www.wikidata.org/prop/direct/P527'), ('pname', 'has part'), ('o', 'http://www.wikidata.org/entity/Q8407'), ('oname', '1952 Summer Olympics')]\n",
      "[('p', 'http://www.wikidata.org/prop/direct/P527'), ('pname', 'has part'), ('o', 'http://www.wikidata.org/entity/Q8411'), ('oname', '1956 Summer Olympics')]\n",
      "[('p', 'http://www.wikidata.org/prop/direct/P527'), ('pname', 'has part'), ('o', 'http://www.wikidata.org/entity/Q8450'), ('oname', '1980 Summer Olympics')]\n",
      "[('p', 'http://www.wikidata.org/prop/direct/P527'), ('pname', 'has part'), ('o', 'http://www.wikidata.org/entity/Q8456'), ('oname', '1984 Summer Olympics')]\n",
      "[('p', 'http://www.wikidata.org/prop/direct/P527'), ('pname', 'has part'), ('o', 'http://www.wikidata.org/entity/Q8080'), ('oname', '1896 Summer Olympics')]\n",
      "[('p', 'http://www.wikidata.org/prop/direct/P527'), ('pname', 'has part'), ('o', 'http://www.wikidata.org/entity/Q8403'), ('oname', '1948 Summer Olympics')]\n",
      "[('p', 'http://www.wikidata.org/prop/direct/P527'), ('pname', 'has part'), ('o', 'http://www.wikidata.org/entity/Q8105'), ('oname', '1906 Intercalated Games')]\n",
      "[('p', 'http://www.wikidata.org/prop/direct/P527'), ('pname', 'has part'), ('o', 'http://www.wikidata.org/entity/Q8123'), ('oname', '1916 Summer Olympics')]\n",
      "[('p', 'http://www.wikidata.org/prop/direct/P527'), ('pname', 'has part'), ('o', 'http://www.wikidata.org/entity/Q1451505'), ('oname', '2028 Summer Olympics')]\n",
      "[('p', 'http://www.wikidata.org/prop/direct/P527'), ('pname', 'has part'), ('o', 'http://www.wikidata.org/entity/Q31039462'), ('oname', '2032 Summer Olympics')]\n",
      "[('p', 'http://www.wikidata.org/prop/direct/P527'), ('pname', 'has part'), ('o', 'http://www.wikidata.org/entity/Q995653'), ('oname', '2024 Summer Olympics')]\n",
      "[('p', 'http://www.wikidata.org/prop/direct/P527'), ('pname', 'has part'), ('o', 'http://www.wikidata.org/entity/Q8368'), ('oname', '1940 Summer Olympics')]\n",
      "[('p', 'http://www.wikidata.org/prop/direct/P527'), ('pname', 'has part'), ('o', 'http://www.wikidata.org/entity/Q8376'), ('oname', '1944 Summer Olympics')]\n",
      "[('p', 'http://www.wikidata.org/prop/direct/P910'), ('pname', \"topic's main category\"), ('o', 'http://www.wikidata.org/entity/Q7215602'), ('oname', 'Category:Summer Olympic Games')]\n"
     ]
    },
    {
     "data": {
      "text/plain": [
       "42"
      ]
     },
     "execution_count": 44,
     "metadata": {},
     "output_type": "execute_result"
    }
   ],
   "source": [
    "queryString = \"\"\"\n",
    "SELECT ?p ?pname ?o ?oname WHERE {\n",
    "   \n",
    "    wd:Q159821 ?p ?o .        \n",
    "    \n",
    "    # this returns the labels\n",
    "    ?p <http://schema.org/name> ?pname .\n",
    "    ?o <http://schema.org/name> ?oname .\n",
    "    \n",
    "}\n",
    "\"\"\"\n",
    "print(\"Results\")\n",
    "run_query(queryString)"
   ]
  },
  {
   "cell_type": "markdown",
   "id": "905f43db-a346-49e3-a256-cb112b669b37",
   "metadata": {},
   "source": [
    "Let's select '2008 Summer Olympics'"
   ]
  },
  {
   "cell_type": "code",
   "execution_count": 45,
   "id": "ad969e5d-3723-42a2-86ca-98746e9a401e",
   "metadata": {},
   "outputs": [
    {
     "name": "stdout",
     "output_type": "stream",
     "text": [
      "Results\n",
      "[('p', 'http://www.wikidata.org/prop/direct/P527'), ('pname', 'has part'), ('o', 'http://www.wikidata.org/entity/Q221132'), ('oname', 'field hockey at the 2008 Summer Olympics')]\n",
      "[('p', 'http://www.wikidata.org/prop/direct/P542'), ('pname', 'officially opened by'), ('o', 'http://www.wikidata.org/entity/Q15029'), ('oname', 'Hu Jintao')]\n",
      "[('p', 'http://www.wikidata.org/prop/direct/P543'), ('pname', 'oath made by'), ('o', 'http://www.wikidata.org/entity/Q197335'), ('oname', 'Zhang Yining')]\n",
      "[('p', 'http://www.wikidata.org/prop/direct/P527'), ('pname', 'has part'), ('o', 'http://www.wikidata.org/entity/Q387526'), ('oname', 'table tennis at the 2008 Summer Olympics')]\n",
      "[('p', 'http://www.wikidata.org/prop/direct/P527'), ('pname', 'has part'), ('o', 'http://www.wikidata.org/entity/Q220654'), ('oname', 'wrestling at the 2008 Summer Olympics')]\n",
      "[('p', 'http://www.wikidata.org/prop/direct/P527'), ('pname', 'has part'), ('o', 'http://www.wikidata.org/entity/Q204844'), ('oname', 'swimming at the 2008 Summer Olympics')]\n",
      "[('p', 'http://www.wikidata.org/prop/direct/P527'), ('pname', 'has part'), ('o', 'http://www.wikidata.org/entity/Q220942'), ('oname', 'water polo at the 2008 Summer Olympics')]\n",
      "[('p', 'http://www.wikidata.org/prop/direct/P527'), ('pname', 'has part'), ('o', 'http://www.wikidata.org/entity/Q212887'), ('oname', 'weightlifting at the 2008 Summer Olympics')]\n",
      "[('p', 'http://www.wikidata.org/prop/direct/P527'), ('pname', 'has part'), ('o', 'http://www.wikidata.org/entity/Q220930'), ('oname', 'boxing at the 2008 Summer Olympics')]\n",
      "[('p', 'http://www.wikidata.org/prop/direct/P17'), ('pname', 'country'), ('o', 'http://www.wikidata.org/entity/Q148'), ('oname', \"People's Republic of China\")]\n",
      "[('p', 'http://www.wikidata.org/prop/direct/P31'), ('pname', 'instance of'), ('o', 'http://www.wikidata.org/entity/Q159821'), ('oname', 'Summer Olympic Games')]\n",
      "[('p', 'http://www.wikidata.org/prop/direct/P2670'), ('pname', 'has parts of the class'), ('o', 'http://www.wikidata.org/entity/Q18536594'), ('oname', 'Olympic sporting event')]\n",
      "[('p', 'http://www.wikidata.org/prop/direct/P710'), ('pname', 'participant'), ('o', 'http://www.wikidata.org/entity/Q230865'), ('oname', 'Homare Sawa')]\n",
      "[('p', 'http://www.wikidata.org/prop/direct/P710'), ('pname', 'participant'), ('o', 'http://www.wikidata.org/entity/Q441135'), ('oname', 'Formiga')]\n",
      "[('p', 'http://www.wikidata.org/prop/direct/P710'), ('pname', 'participant'), ('o', 'http://www.wikidata.org/entity/Q445344'), ('oname', 'Carli Lloyd')]\n",
      "[('p', 'http://www.wikidata.org/prop/direct/P710'), ('pname', 'participant'), ('o', 'http://www.wikidata.org/entity/Q4943862'), ('oname', 'Fabiana da Silva Simões')]\n",
      "[('p', 'http://www.wikidata.org/prop/direct/P155'), ('pname', 'follows'), ('o', 'http://www.wikidata.org/entity/Q8558'), ('oname', '2004 Summer Olympics')]\n",
      "[('p', 'http://www.wikidata.org/prop/direct/P156'), ('pname', 'followed by'), ('o', 'http://www.wikidata.org/entity/Q8577'), ('oname', '2012 Summer Olympics')]\n",
      "[('p', 'http://www.wikidata.org/prop/direct/P276'), ('pname', 'location'), ('o', 'http://www.wikidata.org/entity/Q956'), ('oname', 'Beijing')]\n",
      "[('p', 'http://www.wikidata.org/prop/direct/P527'), ('pname', 'has part'), ('o', 'http://www.wikidata.org/entity/Q189816'), ('oname', 'basketball at the 2008 Summer Olympics')]\n",
      "[('p', 'http://www.wikidata.org/prop/direct/P543'), ('pname', 'oath made by'), ('o', 'http://www.wikidata.org/entity/Q711938'), ('oname', 'Huang Liping')]\n",
      "[('p', 'http://www.wikidata.org/prop/direct/P527'), ('pname', 'has part'), ('o', 'http://www.wikidata.org/entity/Q2022469'), ('oname', 'trampoline gymnastics at the 2008 Summer Olympics')]\n",
      "[('p', 'http://www.wikidata.org/prop/direct/P527'), ('pname', 'has part'), ('o', 'http://www.wikidata.org/entity/Q207004'), ('oname', 'badminton at the 2008 Summer Olympics')]\n",
      "[('p', 'http://www.wikidata.org/prop/direct/P527'), ('pname', 'has part'), ('o', 'http://www.wikidata.org/entity/Q697280'), ('oname', 'artistic gymnastics at the 2008 Summer Olympics')]\n",
      "[('p', 'http://www.wikidata.org/prop/direct/P527'), ('pname', 'has part'), ('o', 'http://www.wikidata.org/entity/Q207439'), ('oname', 'cycling at the 2008 Summer Olympics')]\n",
      "[('p', 'http://www.wikidata.org/prop/direct/P527'), ('pname', 'has part'), ('o', 'http://www.wikidata.org/entity/Q318197'), ('oname', 'canoeing at the 2008 Summer Olympics')]\n",
      "[('p', 'http://www.wikidata.org/prop/direct/P527'), ('pname', 'has part'), ('o', 'http://www.wikidata.org/entity/Q316781'), ('oname', 'shooting at the 2008 Summer Olympics')]\n",
      "[('p', 'http://www.wikidata.org/prop/direct/P527'), ('pname', 'has part'), ('o', 'http://www.wikidata.org/entity/Q497648'), ('oname', 'diving at the 2008 Summer Olympics')]\n",
      "[('p', 'http://www.wikidata.org/prop/direct/P527'), ('pname', 'has part'), ('o', 'http://www.wikidata.org/entity/Q1479475'), ('oname', 'rhythmic gymnastics at the 2008 Summer Olympics')]\n",
      "[('p', 'http://www.wikidata.org/prop/direct/P527'), ('pname', 'has part'), ('o', 'http://www.wikidata.org/entity/Q194246'), ('oname', 'tennis at the 2008 Summer Olympics')]\n",
      "[('p', 'http://www.wikidata.org/prop/direct/P527'), ('pname', 'has part'), ('o', 'http://www.wikidata.org/entity/Q191948'), ('oname', 'football at the 2008 Summer Olympics')]\n",
      "[('p', 'http://www.wikidata.org/prop/direct/P527'), ('pname', 'has part'), ('o', 'http://www.wikidata.org/entity/Q189941'), ('oname', 'athletics at the 2008 Summer Olympics')]\n",
      "[('p', 'http://www.wikidata.org/prop/direct/P527'), ('pname', 'has part'), ('o', 'http://www.wikidata.org/entity/Q318205'), ('oname', 'fencing at the 2008 Summer Olympics')]\n",
      "[('p', 'http://www.wikidata.org/prop/direct/P527'), ('pname', 'has part'), ('o', 'http://www.wikidata.org/entity/Q641933'), ('oname', 'equestrian at the 2008 Summer Olympics')]\n",
      "[('p', 'http://www.wikidata.org/prop/direct/P527'), ('pname', 'has part'), ('o', 'http://www.wikidata.org/entity/Q475654'), ('oname', 'sailing at the 2008 Summer Olympics')]\n",
      "[('p', 'http://www.wikidata.org/prop/direct/P527'), ('pname', 'has part'), ('o', 'http://www.wikidata.org/entity/Q475632'), ('oname', 'modern pentathlon at the 2008 Summer Olympics')]\n",
      "[('p', 'http://www.wikidata.org/prop/direct/P527'), ('pname', 'has part'), ('o', 'http://www.wikidata.org/entity/Q318189'), ('oname', 'rowing at the 2008 Summer Olympics')]\n",
      "[('p', 'http://www.wikidata.org/prop/direct/P710'), ('pname', 'participant'), ('o', 'http://www.wikidata.org/entity/Q7820570'), ('oname', 'Tomáš Fučík')]\n",
      "[('p', 'http://www.wikidata.org/prop/direct/P527'), ('pname', 'has part'), ('o', 'http://www.wikidata.org/entity/Q223519'), ('oname', 'archery at the 2008 Summer Olympics')]\n",
      "[('p', 'http://www.wikidata.org/prop/direct/P527'), ('pname', 'has part'), ('o', 'http://www.wikidata.org/entity/Q318185'), ('oname', 'volleyball at the 2008 Summer Olympics')]\n",
      "[('p', 'http://www.wikidata.org/prop/direct/P527'), ('pname', 'has part'), ('o', 'http://www.wikidata.org/entity/Q1005735'), ('oname', 'beach volleyball at the 2008 Summer Olympics')]\n",
      "[('p', 'http://www.wikidata.org/prop/direct/P527'), ('pname', 'has part'), ('o', 'http://www.wikidata.org/entity/Q140307'), ('oname', 'synchronized swimming at the 2008 Summer Olympics')]\n",
      "[('p', 'http://www.wikidata.org/prop/direct/P527'), ('pname', 'has part'), ('o', 'http://www.wikidata.org/entity/Q223781'), ('oname', 'judo at the 2008 Summer Olympics')]\n",
      "[('p', 'http://www.wikidata.org/prop/direct/P545'), ('pname', 'torch lit by'), ('o', 'http://www.wikidata.org/entity/Q314032'), ('oname', 'Li Ning')]\n",
      "[('p', 'http://www.wikidata.org/prop/direct/P527'), ('pname', 'has part'), ('o', 'http://www.wikidata.org/entity/Q330719'), ('oname', 'triathlon at the 2008 Summer Olympics')]\n",
      "[('p', 'http://www.wikidata.org/prop/direct/P910'), ('pname', \"topic's main category\"), ('o', 'http://www.wikidata.org/entity/Q7215609'), ('oname', 'Category:2008 Summer Olympics')]\n",
      "[('p', 'http://www.wikidata.org/prop/direct/P527'), ('pname', 'has part'), ('o', 'http://www.wikidata.org/entity/Q544429'), ('oname', 'softball at the 2008 Summer Olympics')]\n",
      "[('p', 'http://www.wikidata.org/prop/direct/P527'), ('pname', 'has part'), ('o', 'http://www.wikidata.org/entity/Q580136'), ('oname', 'gymnastics at the 2008 Summer Olympics')]\n",
      "[('p', 'http://www.wikidata.org/prop/direct/P527'), ('pname', 'has part'), ('o', 'http://www.wikidata.org/entity/Q203194'), ('oname', 'handball at the 2008 Summer Olympics')]\n",
      "[('p', 'http://www.wikidata.org/prop/direct/P527'), ('pname', 'has part'), ('o', 'http://www.wikidata.org/entity/Q456486'), ('oname', 'baseball at the 2008 Summer Olympics')]\n",
      "[('p', 'http://www.wikidata.org/prop/direct/P822'), ('pname', 'mascot'), ('o', 'http://www.wikidata.org/entity/Q848360'), ('oname', 'Fuwa')]\n",
      "[('p', 'http://www.wikidata.org/prop/direct/P710'), ('pname', 'participant'), ('o', 'http://www.wikidata.org/entity/Q140734'), ('oname', 'Saint Kitts and Nevis at the 2008 Summer Olympics')]\n",
      "[('p', 'http://www.wikidata.org/prop/direct/P710'), ('pname', 'participant'), ('o', 'http://www.wikidata.org/entity/Q140737'), ('oname', 'Kiribati at the 2008 Summer Olympics')]\n",
      "[('p', 'http://www.wikidata.org/prop/direct/P710'), ('pname', 'participant'), ('o', 'http://www.wikidata.org/entity/Q140862'), ('oname', 'Cayman Islands at the 2008 Summer Olympics')]\n",
      "[('p', 'http://www.wikidata.org/prop/direct/P710'), ('pname', 'participant'), ('o', 'http://www.wikidata.org/entity/Q141797'), ('oname', 'Malta at the 2008 Summer Olympics')]\n",
      "[('p', 'http://www.wikidata.org/prop/direct/P710'), ('pname', 'participant'), ('o', 'http://www.wikidata.org/entity/Q141811'), ('oname', 'Liechtenstein at the 2008 Summer Olympics')]\n",
      "[('p', 'http://www.wikidata.org/prop/direct/P710'), ('pname', 'participant'), ('o', 'http://www.wikidata.org/entity/Q142033'), ('oname', 'Nauru at the 2008 Summer Olympics')]\n",
      "[('p', 'http://www.wikidata.org/prop/direct/P710'), ('pname', 'participant'), ('o', 'http://www.wikidata.org/entity/Q142047'), ('oname', 'Palau at the 2008 Summer Olympics')]\n",
      "[('p', 'http://www.wikidata.org/prop/direct/P527'), ('pname', 'has part'), ('o', 'http://www.wikidata.org/entity/Q381115'), ('oname', 'taekwondo at the 2008 Summer Olympics')]\n",
      "[('p', 'http://www.wikidata.org/prop/direct/P710'), ('pname', 'participant'), ('o', 'http://www.wikidata.org/entity/Q690324'), ('oname', 'Petr Svoboda')]\n"
     ]
    },
    {
     "data": {
      "text/plain": [
       "60"
      ]
     },
     "execution_count": 45,
     "metadata": {},
     "output_type": "execute_result"
    }
   ],
   "source": [
    "queryString = \"\"\"\n",
    "SELECT ?p ?pname ?o ?oname WHERE {\n",
    "   \n",
    "   wd:Q8567 ?p ?o .        \n",
    "    \n",
    "    # this returns the labels\n",
    "    ?p <http://schema.org/name> ?pname .\n",
    "    ?o <http://schema.org/name> ?oname .\n",
    "    \n",
    "}\n",
    "\"\"\"\n",
    "print(\"Results\")\n",
    "run_query(queryString)"
   ]
  },
  {
   "cell_type": "markdown",
   "id": "be5b6205-14c0-4c62-a897-30c9164f1604",
   "metadata": {},
   "source": [
    "Let's use 'canoeing at the 2008 Summer Olympics'"
   ]
  },
  {
   "cell_type": "code",
   "execution_count": 48,
   "id": "198e1122-f23c-4f94-890d-18c2e97d8d98",
   "metadata": {},
   "outputs": [
    {
     "name": "stdout",
     "output_type": "stream",
     "text": [
      "Results\n",
      "[('p', 'http://www.wikidata.org/prop/direct/P361'), ('p2', 'http://www.wikidata.org/prop/direct/P31')]\n"
     ]
    },
    {
     "data": {
      "text/plain": [
       "1"
      ]
     },
     "execution_count": 48,
     "metadata": {},
     "output_type": "execute_result"
    }
   ],
   "source": [
    "queryString = \"\"\"\n",
    "SELECT ?p ?p2 WHERE {\n",
    "   \n",
    "    wd:Q318197 ?p wd:Q8567 .\n",
    "    wd:Q8567 ?p2 wd:Q159821 .\n",
    "    \n",
    "}\n",
    "\"\"\"\n",
    "print(\"Results\")\n",
    "run_query(queryString)"
   ]
  },
  {
   "cell_type": "code",
   "execution_count": null,
   "id": "0574a228-ac44-4d12-8d6b-e60fb58240f5",
   "metadata": {},
   "outputs": [],
   "source": [
    "So the BGP is     \n",
    "    ?sport wdt:P361 ?olympicEvent .\n",
    "       ?olympicEvent wdt:p31 wd:Q159821 ."
   ]
  },
  {
   "cell_type": "markdown",
   "id": "b2144ed8-909b-477c-95a7-cd4ea01fa8a7",
   "metadata": {},
   "source": [
    "### 3. Is there some French or German Athlete participating to any olympic event with double citizenship?"
   ]
  },
  {
   "cell_type": "code",
   "execution_count": null,
   "id": "ba0ed110-fe00-4452-8bc9-845048de8c61",
   "metadata": {},
   "outputs": [],
   "source": [
    "I use the property P2670 --> wd:Q18536594 (has partecipating in --> Olympic sporting event)"
   ]
  },
  {
   "cell_type": "code",
   "execution_count": 36,
   "id": "6ed575d0-8432-4395-82bb-ac72ded03dbc",
   "metadata": {},
   "outputs": [
    {
     "name": "stdout",
     "output_type": "stream",
     "text": [
      "Results\n",
      "[('a', 'http://www.wikidata.org/entity/Q26252931'), ('aname', 'Jean-Pierre Bourhis'), ('c1', 'http://www.wikidata.org/entity/Q1041'), ('country1', 'Senegal'), ('c2', 'http://www.wikidata.org/entity/Q142'), ('country2', 'France')]\n",
      "[('a', 'http://www.wikidata.org/entity/Q66684569'), ('aname', 'Simon Bachmann'), ('c1', 'http://www.wikidata.org/entity/Q1042'), ('country1', 'Seychelles'), ('c2', 'http://www.wikidata.org/entity/Q142'), ('country2', 'France')]\n",
      "[('a', 'http://www.wikidata.org/entity/Q26252931'), ('aname', 'Jean-Pierre Bourhis'), ('c1', 'http://www.wikidata.org/entity/Q142'), ('country1', 'France'), ('c2', 'http://www.wikidata.org/entity/Q1041'), ('country2', 'Senegal')]\n",
      "[('a', 'http://www.wikidata.org/entity/Q66684569'), ('aname', 'Simon Bachmann'), ('c1', 'http://www.wikidata.org/entity/Q142'), ('country1', 'France'), ('c2', 'http://www.wikidata.org/entity/Q1042'), ('country2', 'Seychelles')]\n",
      "[('a', 'http://www.wikidata.org/entity/Q1512523'), ('aname', 'Gerhard Schulz'), ('c1', 'http://www.wikidata.org/entity/Q16957'), ('country1', 'German Democratic Republic'), ('c2', 'http://www.wikidata.org/entity/Q183'), ('country2', 'Germany')]\n",
      "[('a', 'http://www.wikidata.org/entity/Q48921169'), ('aname', 'Claus Wilke'), ('c1', 'http://www.wikidata.org/entity/Q16957'), ('country1', 'German Democratic Republic'), ('c2', 'http://www.wikidata.org/entity/Q183'), ('country2', 'Germany')]\n",
      "[('a', 'http://www.wikidata.org/entity/Q443294'), ('aname', 'Renate Boy'), ('c1', 'http://www.wikidata.org/entity/Q16957'), ('country1', 'German Democratic Republic'), ('c2', 'http://www.wikidata.org/entity/Q183'), ('country2', 'Germany')]\n",
      "[('a', 'http://www.wikidata.org/entity/Q1521217'), ('aname', 'Werner Lippoldt'), ('c1', 'http://www.wikidata.org/entity/Q16957'), ('country1', 'German Democratic Republic'), ('c2', 'http://www.wikidata.org/entity/Q183'), ('country2', 'Germany')]\n",
      "[('a', 'http://www.wikidata.org/entity/Q469159'), ('aname', 'Ingrid Lotz'), ('c1', 'http://www.wikidata.org/entity/Q16957'), ('country1', 'German Democratic Republic'), ('c2', 'http://www.wikidata.org/entity/Q183'), ('country2', 'Germany')]\n",
      "[('a', 'http://www.wikidata.org/entity/Q1664227'), ('aname', 'Walter Meier'), ('c1', 'http://www.wikidata.org/entity/Q16957'), ('country1', 'German Democratic Republic'), ('c2', 'http://www.wikidata.org/entity/Q183'), ('country2', 'Germany')]\n",
      "[('a', 'http://www.wikidata.org/entity/Q451503'), ('aname', 'Johanna Lüttge'), ('c1', 'http://www.wikidata.org/entity/Q16957'), ('country1', 'German Democratic Republic'), ('c2', 'http://www.wikidata.org/entity/Q183'), ('country2', 'Germany')]\n",
      "[('a', 'http://www.wikidata.org/entity/Q48922844'), ('aname', 'Peter Prompe'), ('c1', 'http://www.wikidata.org/entity/Q16957'), ('country1', 'German Democratic Republic'), ('c2', 'http://www.wikidata.org/entity/Q183'), ('country2', 'Germany')]\n",
      "[('a', 'http://www.wikidata.org/entity/Q9263510'), ('aname', 'Franziska Hentke'), ('c1', 'http://www.wikidata.org/entity/Q16957'), ('country1', 'German Democratic Republic'), ('c2', 'http://www.wikidata.org/entity/Q183'), ('country2', 'Germany')]\n",
      "[('a', 'http://www.wikidata.org/entity/Q22959283'), ('aname', 'Peter Gorewski'), ('c1', 'http://www.wikidata.org/entity/Q16957'), ('country1', 'German Democratic Republic'), ('c2', 'http://www.wikidata.org/entity/Q183'), ('country2', 'Germany')]\n",
      "[('a', 'http://www.wikidata.org/entity/Q48922242'), ('aname', 'Reinhard Zerfowski'), ('c1', 'http://www.wikidata.org/entity/Q16957'), ('country1', 'German Democratic Republic'), ('c2', 'http://www.wikidata.org/entity/Q183'), ('country2', 'Germany')]\n",
      "[('a', 'http://www.wikidata.org/entity/Q1521217'), ('aname', 'Werner Lippoldt'), ('c1', 'http://www.wikidata.org/entity/Q183'), ('country1', 'Germany'), ('c2', 'http://www.wikidata.org/entity/Q16957'), ('country2', 'German Democratic Republic')]\n",
      "[('a', 'http://www.wikidata.org/entity/Q451503'), ('aname', 'Johanna Lüttge'), ('c1', 'http://www.wikidata.org/entity/Q183'), ('country1', 'Germany'), ('c2', 'http://www.wikidata.org/entity/Q16957'), ('country2', 'German Democratic Republic')]\n",
      "[('a', 'http://www.wikidata.org/entity/Q1664227'), ('aname', 'Walter Meier'), ('c1', 'http://www.wikidata.org/entity/Q183'), ('country1', 'Germany'), ('c2', 'http://www.wikidata.org/entity/Q16957'), ('country2', 'German Democratic Republic')]\n",
      "[('a', 'http://www.wikidata.org/entity/Q443294'), ('aname', 'Renate Boy'), ('c1', 'http://www.wikidata.org/entity/Q183'), ('country1', 'Germany'), ('c2', 'http://www.wikidata.org/entity/Q16957'), ('country2', 'German Democratic Republic')]\n",
      "[('a', 'http://www.wikidata.org/entity/Q469159'), ('aname', 'Ingrid Lotz'), ('c1', 'http://www.wikidata.org/entity/Q183'), ('country1', 'Germany'), ('c2', 'http://www.wikidata.org/entity/Q16957'), ('country2', 'German Democratic Republic')]\n"
     ]
    },
    {
     "data": {
      "text/plain": [
       "20"
      ]
     },
     "execution_count": 36,
     "metadata": {},
     "output_type": "execute_result"
    }
   ],
   "source": [
    "queryString = \"\"\"\n",
    "SELECT DISTINCT ?a ?aname ?c1 ?country1 ?c2 ?country2 WHERE {\n",
    "   \n",
    "    ?a wdt:P106/wdt:P279 wd:Q2066131 ;\n",
    "        wdt:P27 ?c1 ;\n",
    "        wdt:P27 ?c2 ;\n",
    "        wdt:P1344 ?competition .\n",
    "    ?competition wdt:P31 wd:Q18536594 .\n",
    "    \n",
    "        \n",
    "    \n",
    "    # this returns the labels\n",
    "    ?a <http://schema.org/name> ?aname .\n",
    "    ?c1 <http://schema.org/name> ?country1 .   \n",
    "    ?c2 <http://schema.org/name> ?country2 .   \n",
    "     \n",
    "      FILTER ((?c1 = wd:Q183) || (?c1 = wd:Q142) || (?c2 = wd:Q183) || (?c2 = wd:Q142)) . \n",
    "      FILTER (?c1 != ?c2) .\n",
    "}\n",
    "LIMIT 20\n",
    "\n",
    "\"\"\"\n",
    "print(\"Results\")\n",
    "run_query(queryString)"
   ]
  },
  {
   "cell_type": "markdown",
   "id": "37e3ef7a-b116-4ac8-93a0-169cce212f52",
   "metadata": {},
   "source": [
    "I see that someone is citizen of German Democratic Republic. I decide to delete old states that no longer exists.\n",
    "Let's see the properties of German Democratic Republic"
   ]
  },
  {
   "cell_type": "code",
   "execution_count": 29,
   "id": "6b8c3847-d7e7-43d4-9732-feaeff996b81",
   "metadata": {},
   "outputs": [
    {
     "name": "stdout",
     "output_type": "stream",
     "text": [
      "Results\n",
      "[('p', 'http://www.wikidata.org/prop/direct/P1151'), ('pname', \"topic's main Wikimedia portal\"), ('o', 'http://www.wikidata.org/entity/Q14615751'), ('oname', 'Portal:East Germany')]\n",
      "[('p', 'http://www.wikidata.org/prop/direct/P38'), ('pname', 'currency'), ('o', 'http://www.wikidata.org/entity/Q16068'), ('oname', 'Deutsche Mark')]\n",
      "[('p', 'http://www.wikidata.org/prop/direct/P150'), ('pname', 'contains administrative territorial entity'), ('o', 'http://www.wikidata.org/entity/Q48054'), ('oname', 'Erfurt District')]\n",
      "[('p', 'http://www.wikidata.org/prop/direct/P150'), ('pname', 'contains administrative territorial entity'), ('o', 'http://www.wikidata.org/entity/Q48066'), ('oname', 'Halle District')]\n",
      "[('p', 'http://www.wikidata.org/prop/direct/P150'), ('pname', 'contains administrative territorial entity'), ('o', 'http://www.wikidata.org/entity/Q48083'), ('oname', 'Magdeburg District')]\n",
      "[('p', 'http://www.wikidata.org/prop/direct/P150'), ('pname', 'contains administrative territorial entity'), ('o', 'http://www.wikidata.org/entity/Q48089'), ('oname', 'Neubrandenburg District')]\n",
      "[('p', 'http://www.wikidata.org/prop/direct/P150'), ('pname', 'contains administrative territorial entity'), ('o', 'http://www.wikidata.org/entity/Q48094'), ('oname', 'Potsdam District')]\n",
      "[('p', 'http://www.wikidata.org/prop/direct/P150'), ('pname', 'contains administrative territorial entity'), ('o', 'http://www.wikidata.org/entity/Q48098'), ('oname', 'Rostock District')]\n",
      "[('p', 'http://www.wikidata.org/prop/direct/P150'), ('pname', 'contains administrative territorial entity'), ('o', 'http://www.wikidata.org/entity/Q48101'), ('oname', 'Schwerin District')]\n",
      "[('p', 'http://www.wikidata.org/prop/direct/P150'), ('pname', 'contains administrative territorial entity'), ('o', 'http://www.wikidata.org/entity/Q48106'), ('oname', 'Suhl District')]\n",
      "[('p', 'http://www.wikidata.org/prop/direct/P150'), ('pname', 'contains administrative territorial entity'), ('o', 'http://www.wikidata.org/entity/Q56037'), ('oname', 'East Berlin')]\n",
      "[('p', 'http://www.wikidata.org/prop/direct/P36'), ('pname', 'capital'), ('o', 'http://www.wikidata.org/entity/Q56037'), ('oname', 'East Berlin')]\n",
      "[('p', 'http://www.wikidata.org/prop/direct/P6'), ('pname', 'head of government'), ('o', 'http://www.wikidata.org/entity/Q57412'), ('oname', 'Lothar de Maizière')]\n",
      "[('p', 'http://www.wikidata.org/prop/direct/P6'), ('pname', 'head of government'), ('o', 'http://www.wikidata.org/entity/Q57896'), ('oname', 'Horst Sindermann')]\n",
      "[('p', 'http://www.wikidata.org/prop/direct/P1546'), ('pname', 'motto'), ('o', 'http://www.wikidata.org/entity/Q877781'), ('oname', 'Workers of the world, unite!')]\n",
      "[('p', 'http://www.wikidata.org/prop/direct/P1906'), ('pname', 'office held by head of state'), ('o', 'http://www.wikidata.org/entity/Q2114953'), ('oname', 'President of East Germany')]\n",
      "[('p', 'http://www.wikidata.org/prop/direct/P463'), ('pname', 'member of'), ('o', 'http://www.wikidata.org/entity/Q191582'), ('oname', 'COMECON')]\n",
      "[('p', 'http://www.wikidata.org/prop/direct/P463'), ('pname', 'member of'), ('o', 'http://www.wikidata.org/entity/Q1065'), ('oname', 'United Nations')]\n",
      "[('p', 'http://www.wikidata.org/prop/direct/P1365'), ('pname', 'replaces'), ('o', 'http://www.wikidata.org/entity/Q1206012'), ('oname', 'German Reich')]\n",
      "[('p', 'http://www.wikidata.org/prop/direct/P530'), ('pname', 'diplomatic relation'), ('o', 'http://www.wikidata.org/entity/Q15180'), ('oname', 'Soviet Union')]\n",
      "[('p', 'http://www.wikidata.org/prop/direct/P17'), ('pname', 'country'), ('o', 'http://www.wikidata.org/entity/Q16957'), ('oname', 'German Democratic Republic')]\n",
      "[('p', 'http://www.wikidata.org/prop/direct/P1366'), ('pname', 'replaced by'), ('o', 'http://www.wikidata.org/entity/Q183'), ('oname', 'Germany')]\n",
      "[('p', 'http://www.wikidata.org/prop/direct/P156'), ('pname', 'followed by'), ('o', 'http://www.wikidata.org/entity/Q183'), ('oname', 'Germany')]\n",
      "[('p', 'http://www.wikidata.org/prop/direct/P530'), ('pname', 'diplomatic relation'), ('o', 'http://www.wikidata.org/entity/Q183'), ('oname', 'Germany')]\n",
      "[('p', 'http://www.wikidata.org/prop/direct/P3842'), ('pname', 'located in present-day administrative territorial entity'), ('o', 'http://www.wikidata.org/entity/Q183'), ('oname', 'Germany')]\n",
      "[('p', 'http://www.wikidata.org/prop/direct/P2936'), ('pname', 'language used'), ('o', 'http://www.wikidata.org/entity/Q188'), ('oname', 'German')]\n",
      "[('p', 'http://www.wikidata.org/prop/direct/P37'), ('pname', 'official language'), ('o', 'http://www.wikidata.org/entity/Q188'), ('oname', 'German')]\n",
      "[('p', 'http://www.wikidata.org/prop/direct/P47'), ('pname', 'shares border with'), ('o', 'http://www.wikidata.org/entity/Q211274'), ('oname', \"Polish People's Republic\")]\n",
      "[('p', 'http://www.wikidata.org/prop/direct/P463'), ('pname', 'member of'), ('o', 'http://www.wikidata.org/entity/Q2595976'), ('oname', 'Economic, Monetary and Social Union')]\n",
      "[('p', 'http://www.wikidata.org/prop/direct/P35'), ('pname', 'head of state'), ('o', 'http://www.wikidata.org/entity/Q2610'), ('oname', 'Willi Stoph')]\n",
      "[('p', 'http://www.wikidata.org/prop/direct/P6'), ('pname', 'head of government'), ('o', 'http://www.wikidata.org/entity/Q2610'), ('oname', 'Willi Stoph')]\n",
      "[('p', 'http://www.wikidata.org/prop/direct/P31'), ('pname', 'instance of'), ('o', 'http://www.wikidata.org/entity/Q3024240'), ('oname', 'historical country')]\n",
      "[('p', 'http://www.wikidata.org/prop/direct/P122'), ('pname', 'basic form of government'), ('o', 'http://www.wikidata.org/entity/Q317'), ('oname', 'dictatorship')]\n",
      "[('p', 'http://www.wikidata.org/prop/direct/P530'), ('pname', 'diplomatic relation'), ('o', 'http://www.wikidata.org/entity/Q36704'), ('oname', 'Yugoslavia')]\n",
      "[('p', 'http://www.wikidata.org/prop/direct/P122'), ('pname', 'basic form of government'), ('o', 'http://www.wikidata.org/entity/Q4198907'), ('oname', 'parliamentary republic')]\n",
      "[('p', 'http://www.wikidata.org/prop/direct/P530'), ('pname', 'diplomatic relation'), ('o', 'http://www.wikidata.org/entity/Q423'), ('oname', 'North Korea')]\n",
      "[('p', 'http://www.wikidata.org/prop/direct/P30'), ('pname', 'continent'), ('o', 'http://www.wikidata.org/entity/Q46'), ('oname', 'Europe')]\n",
      "[('p', 'http://www.wikidata.org/prop/direct/P150'), ('pname', 'contains administrative territorial entity'), ('o', 'http://www.wikidata.org/entity/Q48060'), ('oname', 'Gera District')]\n",
      "[('p', 'http://www.wikidata.org/prop/direct/P1365'), ('pname', 'replaces'), ('o', 'http://www.wikidata.org/entity/Q55300'), ('oname', 'Soviet occupation zone of Germany')]\n",
      "[('p', 'http://www.wikidata.org/prop/direct/P1336'), ('pname', 'territory claimed by'), ('o', 'http://www.wikidata.org/entity/Q713750'), ('oname', 'West Germany')]\n",
      "[('p', 'http://www.wikidata.org/prop/direct/P47'), ('pname', 'shares border with'), ('o', 'http://www.wikidata.org/entity/Q713750'), ('oname', 'West Germany')]\n",
      "[('p', 'http://www.wikidata.org/prop/direct/P122'), ('pname', 'basic form of government'), ('o', 'http://www.wikidata.org/entity/Q7270'), ('oname', 'republic')]\n",
      "[('p', 'http://www.wikidata.org/prop/direct/P530'), ('pname', 'diplomatic relation'), ('o', 'http://www.wikidata.org/entity/Q801'), ('oname', 'Israel')]\n",
      "[('p', 'http://www.wikidata.org/prop/direct/P530'), ('pname', 'diplomatic relation'), ('o', 'http://www.wikidata.org/entity/Q843'), ('oname', 'Pakistan')]\n",
      "[('p', 'http://www.wikidata.org/prop/direct/P208'), ('pname', 'executive body'), ('o', 'http://www.wikidata.org/entity/Q567559'), ('oname', 'Council of Ministers of the GDR')]\n",
      "[('p', 'http://www.wikidata.org/prop/direct/P1365'), ('pname', 'replaces'), ('o', 'http://www.wikidata.org/entity/Q698099'), ('oname', 'Allied Control Council')]\n",
      "[('p', 'http://www.wikidata.org/prop/direct/P463'), ('pname', 'member of'), ('o', 'http://www.wikidata.org/entity/Q41644'), ('oname', 'Warsaw Pact')]\n",
      "[('p', 'http://www.wikidata.org/prop/direct/P150'), ('pname', 'contains administrative territorial entity'), ('o', 'http://www.wikidata.org/entity/Q48050'), ('oname', 'Dresden District')]\n",
      "[('p', 'http://www.wikidata.org/prop/direct/P150'), ('pname', 'contains administrative territorial entity'), ('o', 'http://www.wikidata.org/entity/Q48057'), ('oname', 'Frankfurt (Oder) District')]\n",
      "[('p', 'http://www.wikidata.org/prop/direct/P150'), ('pname', 'contains administrative territorial entity'), ('o', 'http://www.wikidata.org/entity/Q48072'), ('oname', 'Karl-Marx-Stadt District')]\n",
      "[('p', 'http://www.wikidata.org/prop/direct/P35'), ('pname', 'head of state'), ('o', 'http://www.wikidata.org/entity/Q2628'), ('oname', 'Walter Ulbricht')]\n",
      "[('p', 'http://www.wikidata.org/prop/direct/P85'), ('pname', 'anthem'), ('o', 'http://www.wikidata.org/entity/Q48147'), ('oname', 'Auferstanden aus Ruinen')]\n",
      "[('p', 'http://www.wikidata.org/prop/direct/P1830'), ('pname', 'owner of'), ('o', 'http://www.wikidata.org/entity/Q819391'), ('oname', 'DEFA')]\n",
      "[('p', 'http://www.wikidata.org/prop/direct/P150'), ('pname', 'contains administrative territorial entity'), ('o', 'http://www.wikidata.org/entity/Q48046'), ('oname', 'Cottbus District')]\n",
      "[('p', 'http://www.wikidata.org/prop/direct/P47'), ('pname', 'shares border with'), ('o', 'http://www.wikidata.org/entity/Q1998866'), ('oname', 'Czech and Slovak Federal Republic')]\n",
      "[('p', 'http://www.wikidata.org/prop/direct/P47'), ('pname', 'shares border with'), ('o', 'http://www.wikidata.org/entity/Q853348'), ('oname', 'Czechoslovak Socialist Republic')]\n",
      "[('p', 'http://www.wikidata.org/prop/direct/P194'), ('pname', 'legislative body'), ('o', 'http://www.wikidata.org/entity/Q168396'), ('oname', 'Volkskammer')]\n",
      "[('p', 'http://www.wikidata.org/prop/direct/P150'), ('pname', 'contains administrative territorial entity'), ('o', 'http://www.wikidata.org/entity/Q48079'), ('oname', 'Leipzig District')]\n",
      "[('p', 'http://www.wikidata.org/prop/direct/P35'), ('pname', 'head of state'), ('o', 'http://www.wikidata.org/entity/Q65917'), ('oname', 'Wilhelm Pieck')]\n",
      "[('p', 'http://www.wikidata.org/prop/direct/P35'), ('pname', 'head of state'), ('o', 'http://www.wikidata.org/entity/Q2607'), ('oname', 'Erich Honecker')]\n",
      "[('p', 'http://www.wikidata.org/prop/direct/P47'), ('pname', 'shares border with'), ('o', 'http://www.wikidata.org/entity/Q52847'), ('oname', 'European Economic Community')]\n",
      "[('p', 'http://www.wikidata.org/prop/direct/P1366'), ('pname', 'replaced by'), ('o', 'http://www.wikidata.org/entity/Q675430'), ('oname', 'New states of Germany')]\n",
      "[('p', 'http://www.wikidata.org/prop/direct/P6'), ('pname', 'head of government'), ('o', 'http://www.wikidata.org/entity/Q57241'), ('oname', 'Hans Modrow')]\n",
      "[('p', 'http://www.wikidata.org/prop/direct/P7867'), ('pname', 'category for maps'), ('o', 'http://www.wikidata.org/entity/Q84094888'), ('oname', 'Category:Maps of the German Democratic Republic')]\n",
      "[('p', 'http://www.wikidata.org/prop/direct/P2184'), ('pname', 'history of topic'), ('o', 'http://www.wikidata.org/entity/Q706790'), ('oname', 'history of East Germany')]\n",
      "[('p', 'http://www.wikidata.org/prop/direct/P6'), ('pname', 'head of government'), ('o', 'http://www.wikidata.org/entity/Q77210'), ('oname', 'Otto Grotewohl')]\n",
      "[('p', 'http://www.wikidata.org/prop/direct/P38'), ('pname', 'currency'), ('o', 'http://www.wikidata.org/entity/Q157011'), ('oname', 'East German mark')]\n",
      "[('p', 'http://www.wikidata.org/prop/direct/P1464'), ('pname', 'category for people born here'), ('o', 'http://www.wikidata.org/entity/Q32008639'), ('oname', 'Category:Births in East Germany')]\n",
      "[('p', 'http://www.wikidata.org/prop/direct/P910'), ('pname', \"topic's main category\"), ('o', 'http://www.wikidata.org/entity/Q7104073'), ('oname', 'Category:East Germany')]\n",
      "[('p', 'http://www.wikidata.org/prop/direct/P35'), ('pname', 'head of state'), ('o', 'http://www.wikidata.org/entity/Q2602'), ('oname', 'Egon Krenz')]\n",
      "[('p', 'http://www.wikidata.org/prop/direct/P35'), ('pname', 'head of state'), ('o', 'http://www.wikidata.org/entity/Q57232'), ('oname', 'Sabine Bergmann-Pohl')]\n",
      "[('p', 'http://www.wikidata.org/prop/direct/P1465'), ('pname', 'category for people who died here'), ('o', 'http://www.wikidata.org/entity/Q108518208'), ('oname', 'Category:Deaths in East Germany')]\n",
      "[('p', 'http://www.wikidata.org/prop/direct/P35'), ('pname', 'head of state'), ('o', 'http://www.wikidata.org/entity/Q2601'), ('oname', 'Manfred Gerlach')]\n",
      "[('p', 'http://www.wikidata.org/prop/direct/P8744'), ('pname', 'economy of topic'), ('o', 'http://www.wikidata.org/entity/Q2777490'), ('oname', 'economy of the German Democratic Republic')]\n",
      "[('p', 'http://www.wikidata.org/prop/direct/P78'), ('pname', 'top-level Internet domain'), ('o', 'http://www.wikidata.org/entity/Q435553'), ('oname', '.dd')]\n",
      "[('p', 'http://www.wikidata.org/prop/direct/P740'), ('pname', 'location of formation'), ('o', 'http://www.wikidata.org/entity/Q466157'), ('oname', 'Detlev-Rohwedder-Haus')]\n",
      "[('p', 'http://www.wikidata.org/prop/direct/P237'), ('pname', 'coat of arms'), ('o', 'http://www.wikidata.org/entity/Q48168'), ('oname', 'National Emblem of the German Democratic Republic')]\n",
      "[('p', 'http://www.wikidata.org/prop/direct/P1906'), ('pname', 'office held by head of state'), ('o', 'http://www.wikidata.org/entity/Q62569716'), ('oname', 'President of the Volkskammer')]\n",
      "[('p', 'http://www.wikidata.org/prop/direct/P1792'), ('pname', 'category of associated people'), ('o', 'http://www.wikidata.org/entity/Q7061726'), ('oname', 'Category:East German people')]\n",
      "[('p', 'http://www.wikidata.org/prop/direct/P163'), ('pname', 'flag'), ('o', 'http://www.wikidata.org/entity/Q7624391'), ('oname', 'flag of the German Democratic Republic')]\n"
     ]
    },
    {
     "data": {
      "text/plain": [
       "80"
      ]
     },
     "execution_count": 30,
     "metadata": {},
     "output_type": "execute_result"
    }
   ],
   "source": [
    "queryString = \"\"\"\n",
    "SELECT DISTINCT ?p ?pname ?o ?oname WHERE {\n",
    "   \n",
    "    wd:Q16957 ?p ?o .\n",
    "    \n",
    "    # this returns the labels\n",
    "    ?p <http://schema.org/name> ?pname .\n",
    "    ?o <http://schema.org/name> ?oname .\n",
    "}\n",
    "\"\"\"\n",
    "print(\"Results\")\n",
    "run_query(queryString)"
   ]
  },
  {
   "cell_type": "markdown",
   "id": "56e08358-8ae0-45e9-9954-955d710a26c9",
   "metadata": {},
   "source": [
    "I use instance of --> historical country(Q3024240)"
   ]
  },
  {
   "cell_type": "code",
   "execution_count": 39,
   "id": "7bc52afe-23d0-494e-b4c4-671db2a7ce76",
   "metadata": {},
   "outputs": [
    {
     "name": "stdout",
     "output_type": "stream",
     "text": [
      "Results\n",
      "[('a', 'http://www.wikidata.org/entity/Q26252931'), ('aname', 'Jean-Pierre Bourhis'), ('c1', 'http://www.wikidata.org/entity/Q1041'), ('country1', 'Senegal'), ('c2', 'http://www.wikidata.org/entity/Q142'), ('country2', 'France')]\n",
      "[('a', 'http://www.wikidata.org/entity/Q26252931'), ('aname', 'Jean-Pierre Bourhis'), ('c1', 'http://www.wikidata.org/entity/Q142'), ('country1', 'France'), ('c2', 'http://www.wikidata.org/entity/Q1041'), ('country2', 'Senegal')]\n",
      "[('a', 'http://www.wikidata.org/entity/Q20016855'), ('aname', 'Stefanie Horn'), ('c1', 'http://www.wikidata.org/entity/Q183'), ('country1', 'Germany'), ('c2', 'http://www.wikidata.org/entity/Q38'), ('country2', 'Italy')]\n",
      "[('a', 'http://www.wikidata.org/entity/Q20016855'), ('aname', 'Stefanie Horn'), ('c1', 'http://www.wikidata.org/entity/Q38'), ('country1', 'Italy'), ('c2', 'http://www.wikidata.org/entity/Q183'), ('country2', 'Germany')]\n",
      "[('a', 'http://www.wikidata.org/entity/Q248926'), ('aname', 'Josefa Idem'), ('c1', 'http://www.wikidata.org/entity/Q183'), ('country1', 'Germany'), ('c2', 'http://www.wikidata.org/entity/Q38'), ('country2', 'Italy')]\n",
      "[('a', 'http://www.wikidata.org/entity/Q248926'), ('aname', 'Josefa Idem'), ('c1', 'http://www.wikidata.org/entity/Q38'), ('country1', 'Italy'), ('c2', 'http://www.wikidata.org/entity/Q183'), ('country2', 'Germany')]\n",
      "[('a', 'http://www.wikidata.org/entity/Q64470'), ('aname', 'Tomasz Wylenzek'), ('c1', 'http://www.wikidata.org/entity/Q36'), ('country1', 'Poland'), ('c2', 'http://www.wikidata.org/entity/Q183'), ('country2', 'Germany')]\n",
      "[('a', 'http://www.wikidata.org/entity/Q64470'), ('aname', 'Tomasz Wylenzek'), ('c1', 'http://www.wikidata.org/entity/Q183'), ('country1', 'Germany'), ('c2', 'http://www.wikidata.org/entity/Q36'), ('country2', 'Poland')]\n",
      "[('a', 'http://www.wikidata.org/entity/Q348493'), ('aname', 'Jessica Fox'), ('c1', 'http://www.wikidata.org/entity/Q142'), ('country1', 'France'), ('c2', 'http://www.wikidata.org/entity/Q408'), ('country2', 'Australia')]\n",
      "[('a', 'http://www.wikidata.org/entity/Q348493'), ('aname', 'Jessica Fox'), ('c1', 'http://www.wikidata.org/entity/Q408'), ('country1', 'Australia'), ('c2', 'http://www.wikidata.org/entity/Q142'), ('country2', 'France')]\n",
      "[('a', 'http://www.wikidata.org/entity/Q26217968'), ('aname', 'Lucien Delfour'), ('c1', 'http://www.wikidata.org/entity/Q408'), ('country1', 'Australia'), ('c2', 'http://www.wikidata.org/entity/Q142'), ('country2', 'France')]\n",
      "[('a', 'http://www.wikidata.org/entity/Q26217968'), ('aname', 'Lucien Delfour'), ('c1', 'http://www.wikidata.org/entity/Q142'), ('country1', 'France'), ('c2', 'http://www.wikidata.org/entity/Q408'), ('country2', 'Australia')]\n",
      "[('a', 'http://www.wikidata.org/entity/Q1676125'), ('aname', 'Katrin Borchert'), ('c1', 'http://www.wikidata.org/entity/Q408'), ('country1', 'Australia'), ('c2', 'http://www.wikidata.org/entity/Q183'), ('country2', 'Germany')]\n",
      "[('a', 'http://www.wikidata.org/entity/Q1676125'), ('aname', 'Katrin Borchert'), ('c1', 'http://www.wikidata.org/entity/Q183'), ('country1', 'Germany'), ('c2', 'http://www.wikidata.org/entity/Q408'), ('country2', 'Australia')]\n",
      "[('a', 'http://www.wikidata.org/entity/Q96483007'), ('aname', 'Célia Jodar'), ('c1', 'http://www.wikidata.org/entity/Q142'), ('country1', 'France'), ('c2', 'http://www.wikidata.org/entity/Q1028'), ('country2', 'Morocco')]\n",
      "[('a', 'http://www.wikidata.org/entity/Q96483007'), ('aname', 'Célia Jodar'), ('c1', 'http://www.wikidata.org/entity/Q1028'), ('country1', 'Morocco'), ('c2', 'http://www.wikidata.org/entity/Q142'), ('country2', 'France')]\n",
      "[('a', 'http://www.wikidata.org/entity/Q2926117'), ('aname', 'Brooke Raboutou'), ('c1', 'http://www.wikidata.org/entity/Q142'), ('country1', 'France'), ('c2', 'http://www.wikidata.org/entity/Q30'), ('country2', 'United States of America')]\n",
      "[('a', 'http://www.wikidata.org/entity/Q2926117'), ('aname', 'Brooke Raboutou'), ('c1', 'http://www.wikidata.org/entity/Q30'), ('country1', 'United States of America'), ('c2', 'http://www.wikidata.org/entity/Q142'), ('country2', 'France')]\n",
      "[('a', 'http://www.wikidata.org/entity/Q53560'), ('aname', 'Tommy Haas'), ('c1', 'http://www.wikidata.org/entity/Q183'), ('country1', 'Germany'), ('c2', 'http://www.wikidata.org/entity/Q30'), ('country2', 'United States of America')]\n",
      "[('a', 'http://www.wikidata.org/entity/Q53560'), ('aname', 'Tommy Haas'), ('c1', 'http://www.wikidata.org/entity/Q30'), ('country1', 'United States of America'), ('c2', 'http://www.wikidata.org/entity/Q183'), ('country2', 'Germany')]\n"
     ]
    },
    {
     "data": {
      "text/plain": [
       "20"
      ]
     },
     "execution_count": 39,
     "metadata": {},
     "output_type": "execute_result"
    }
   ],
   "source": [
    "queryString = \"\"\"\n",
    "SELECT DISTINCT ?a ?aname ?c1 ?country1 ?c2 ?country2 WHERE {\n",
    "   \n",
    "    ?a wdt:P106/wdt:P279 wd:Q2066131 ;\n",
    "        wdt:P27 ?c1 ;\n",
    "        wdt:P27 ?c2 ;\n",
    "        wdt:P1344 ?competition .\n",
    "    ?competition wdt:P31 wd:Q18536594 .\n",
    "    \n",
    "        \n",
    "    \n",
    "    # this returns the labels\n",
    "    ?a <http://schema.org/name> ?aname .\n",
    "    ?c1 <http://schema.org/name> ?country1 .   \n",
    "    ?c2 <http://schema.org/name> ?country2 .   \n",
    "     \n",
    "      FILTER ((?c1 = wd:Q183) || (?c1 = wd:Q142) || (?c2 = wd:Q183) || (?c2 = wd:Q142)) . \n",
    "      FILTER (?c1 != ?c2) .\n",
    "      FILTER NOT EXISTS {?c1 wdt:P31 wd:Q3024240} .\n",
    "      FILTER NOT EXISTS {?c2 wdt:P31 wd:Q3024240} .\n",
    "}\n",
    "LIMIT 20\n",
    "\n",
    "\"\"\"\n",
    "print(\"Results\")\n",
    "run_query(queryString)"
   ]
  },
  {
   "cell_type": "markdown",
   "id": "e4e58e86-e3d0-4d39-bed3-aa918a633d72",
   "metadata": {},
   "source": [
    "### 4. Compare number of participations and winning events across different dimensions\n",
    "\n",
    "#### 4.1 In which specific sport France has more winners than Germany\n"
   ]
  },
  {
   "cell_type": "markdown",
   "id": "26fb7c58-b407-4bca-a817-a7ab4482a630",
   "metadata": {},
   "source": [
    "Let's search for volleyball at the 2008 Summer Olympics (Q318185) if the winner is linked.\n"
   ]
  },
  {
   "cell_type": "code",
   "execution_count": 7,
   "id": "80e7728b-0b5d-40f2-b236-d3c40cfd8930",
   "metadata": {},
   "outputs": [
    {
     "name": "stdout",
     "output_type": "stream",
     "text": [
      "Results\n",
      "[('p', 'http://www.wikidata.org/prop/direct/P1424'), ('oname', 'Template:VolleyballAt2008SummerOlympics'), ('o', 'http://www.wikidata.org/entity/Q13364506')]\n",
      "[('p', 'http://www.wikidata.org/prop/direct/P31'), ('oname', 'volleyball at the Summer Olympics'), ('o', 'http://www.wikidata.org/entity/Q6876')]\n",
      "[('p', 'http://www.wikidata.org/prop/direct/P276'), ('oname', 'Capital Indoor Stadium'), ('o', 'http://www.wikidata.org/entity/Q1589654')]\n",
      "[('p', 'http://www.wikidata.org/prop/direct/P17'), ('oname', \"People's Republic of China\"), ('o', 'http://www.wikidata.org/entity/Q148')]\n",
      "[('p', 'http://www.wikidata.org/prop/direct/P641'), ('oname', 'volleyball'), ('o', 'http://www.wikidata.org/entity/Q1734')]\n",
      "[('p', 'http://www.wikidata.org/prop/direct/P156'), ('oname', 'volleyball at the 2012 Summer Olympics'), ('o', 'http://www.wikidata.org/entity/Q209112')]\n",
      "[('p', 'http://www.wikidata.org/prop/direct/P31'), ('oname', 'Olympic sports discipline event'), ('o', 'http://www.wikidata.org/entity/Q26132862')]\n",
      "[('p', 'http://www.wikidata.org/prop/direct/P155'), ('oname', 'volleyball at the 2004 Summer Olympics'), ('o', 'http://www.wikidata.org/entity/Q723649')]\n",
      "[('p', 'http://www.wikidata.org/prop/direct/P361'), ('oname', '2008 Summer Olympics'), ('o', 'http://www.wikidata.org/entity/Q8567')]\n",
      "[('p', 'http://www.wikidata.org/prop/direct/P527'), ('oname', \"volleyball at the 2008 Summer Olympics – men's tournament\"), ('o', 'http://www.wikidata.org/entity/Q535378')]\n",
      "[('p', 'http://www.wikidata.org/prop/direct/P527'), ('oname', \"volleyball at the 2008 Summer Olympics – women's tournament\"), ('o', 'http://www.wikidata.org/entity/Q568448')]\n",
      "[('p', 'http://www.wikidata.org/prop/direct/P910'), ('oname', 'Category:Volleyball at the 2008 Summer Olympics'), ('o', 'http://www.wikidata.org/entity/Q8176888')]\n"
     ]
    },
    {
     "data": {
      "text/plain": [
       "12"
      ]
     },
     "execution_count": 7,
     "metadata": {},
     "output_type": "execute_result"
    }
   ],
   "source": [
    "queryString = \"\"\"\n",
    "SELECT DISTINCT ?p ?oname ?o WHERE {\n",
    "\n",
    "    wd:Q318185 ?p ?o .\n",
    "         \n",
    "    ?p <http://schema.org/name> ?pname .\n",
    "    ?o <http://schema.org/name> ?oname .\n",
    "\n",
    "    \n",
    "}\n",
    "\"\"\"\n",
    "print(\"Results\")\n",
    "run_query(queryString)    "
   ]
  },
  {
   "cell_type": "code",
   "execution_count": 9,
   "id": "54324aaa-df53-4365-b078-c8bda31c89f6",
   "metadata": {},
   "outputs": [
    {
     "name": "stdout",
     "output_type": "stream",
     "text": [
      "Results\n",
      "[('p', 'http://www.wikidata.org/prop/direct/P1132'), ('pname', 'number of participants'), ('o', '144')]\n",
      "[('p', 'http://www.wikidata.org/prop/direct/P1350'), ('pname', 'number of matches played/races/starts'), ('o', '38')]\n",
      "[('p', 'http://www.wikidata.org/prop/direct/P276'), ('pname', 'location'), ('o', 'http://www.wikidata.org/entity/Q1589654')]\n",
      "[('p', 'http://www.wikidata.org/prop/direct/P31'), ('pname', 'instance of'), ('o', 'http://www.wikidata.org/entity/Q18536594')]\n",
      "[('p', 'http://www.wikidata.org/prop/direct/P31'), ('pname', 'instance of'), ('o', 'http://www.wikidata.org/entity/Q27020041')]\n",
      "[('p', 'http://www.wikidata.org/prop/direct/P3450'), ('pname', 'sports season of league or competition'), ('o', 'http://www.wikidata.org/entity/Q3892574')]\n",
      "[('p', 'http://www.wikidata.org/prop/direct/P361'), ('pname', 'part of'), ('o', 'http://www.wikidata.org/entity/Q318185')]\n",
      "[('p', 'http://www.wikidata.org/prop/direct/P373'), ('pname', 'Commons category'), ('o', '2008 Summer Olympics volleyball M')]\n",
      "[('p', 'http://www.wikidata.org/prop/direct/P580'), ('pname', 'start time'), ('o', '2008-08-10T00:00:00Z')]\n",
      "[('p', 'http://www.wikidata.org/prop/direct/P582'), ('pname', 'end time'), ('o', '2008-08-24T00:00:00Z')]\n",
      "[('p', 'http://www.wikidata.org/prop/direct/P585'), ('pname', 'point in time'), ('o', '2008-01-01T00:00:00Z')]\n",
      "[('p', 'http://www.wikidata.org/prop/direct/P641'), ('pname', 'sport'), ('o', 'http://www.wikidata.org/entity/Q1734')]\n",
      "[('p', 'http://www.wikidata.org/prop/direct/P646'), ('pname', 'Freebase ID'), ('o', '/m/047q1qy')]\n",
      "[('p', 'http://www.wikidata.org/prop/direct/P664'), ('pname', 'organizer'), ('o', 'http://www.wikidata.org/entity/Q6851')]\n",
      "[('p', 'http://www.wikidata.org/prop/direct/P9055'), ('pname', 'Olympedia event ID'), ('o', '262828')]\n"
     ]
    },
    {
     "data": {
      "text/plain": [
       "15"
      ]
     },
     "execution_count": 9,
     "metadata": {},
     "output_type": "execute_result"
    }
   ],
   "source": [
    "queryString = \"\"\"\n",
    "SELECT DISTINCT ?p ?pname ?o WHERE {\n",
    "\n",
    "    wd:Q535378 ?p ?o .\n",
    "    \n",
    "    ?p <http://schema.org/name> ?pname .\n",
    "\n",
    "\n",
    "}\n",
    "\"\"\"\n",
    "print(\"Results\")\n",
    "run_query(queryString)    "
   ]
  },
  {
   "cell_type": "markdown",
   "id": "92ddc0ad-5865-4d08-a90d-bc41d90bf0b2",
   "metadata": {},
   "source": [
    "So I understand that Wikidata only list individual winners for the tournaments, not linking team players as winners."
   ]
  },
  {
   "cell_type": "code",
   "execution_count": 27,
   "id": "ef674f24-f698-418b-8a44-1284376a6445",
   "metadata": {},
   "outputs": [
    {
     "name": "stdout",
     "output_type": "stream",
     "text": [
      "Results\n",
      "[('numWinner', '470'), ('country', 'Germany')]\n",
      "[('numWinner', '312'), ('country', 'France')]\n"
     ]
    },
    {
     "data": {
      "text/plain": [
       "2"
      ]
     },
     "execution_count": 27,
     "metadata": {},
     "output_type": "execute_result"
    }
   ],
   "source": [
    "queryString = \"\"\"\n",
    "SELECT DISTINCT (COUNT(?winner) as ?numWinner) ?country WHERE {\n",
    "\n",
    "    ?comp wdt:P1346 ?w ;\n",
    "            wdt:P361*/wdt:P31 wd:Q159821 .\n",
    "    ?w wdt:P27 ?c .\n",
    "         \n",
    "    ?comp <http://schema.org/name> ?competition .\n",
    "    ?w <http://schema.org/name> ?winner .\n",
    "    ?c <http://schema.org/name> ?country .\n",
    "    \n",
    "    FILTER ((?c = wd:Q183) || (?c = wd:Q142)) .\n",
    "}\n",
    "GROUP BY ?country\n",
    "ORDER BY desc(?numWinner)\n",
    "LIMIT 10\n",
    "\"\"\"\n",
    "print(\"Results\")\n",
    "run_query(queryString)    "
   ]
  },
  {
   "cell_type": "code",
   "execution_count": 31,
   "id": "6332956d-020d-4de2-81e3-0bdc986ffbbb",
   "metadata": {},
   "outputs": [
    {
     "name": "stdout",
     "output_type": "stream",
     "text": [
      "Results\n",
      "[('p', 'http://www.wikidata.org/prop/direct/P1346'), ('pname', 'winner'), ('o', 'http://www.wikidata.org/entity/Q20984245'), ('oname', 'Zhang Yufei')]\n",
      "[('p', 'http://www.wikidata.org/prop/direct/P155'), ('pname', 'follows'), ('o', 'http://www.wikidata.org/entity/Q25991464'), ('oname', \"swimming at the 2016 Summer Olympics – women's 200 metre butterfly\")]\n",
      "[('p', 'http://www.wikidata.org/prop/direct/P2094'), ('pname', 'competition class'), ('o', 'http://www.wikidata.org/entity/Q78157296'), ('oname', \"women's 200 metre butterfly\")]\n",
      "[('p', 'http://www.wikidata.org/prop/direct/P31'), ('pname', 'instance of'), ('o', 'http://www.wikidata.org/entity/Q18536594'), ('oname', 'Olympic sporting event')]\n",
      "[('p', 'http://www.wikidata.org/prop/direct/P361'), ('pname', 'part of'), ('o', 'http://www.wikidata.org/entity/Q39080758'), ('oname', 'swimming at the 2020 Summer Olympics')]\n",
      "[('p', 'http://www.wikidata.org/prop/direct/P641'), ('pname', 'sport'), ('o', 'http://www.wikidata.org/entity/Q31920'), ('oname', 'swimming')]\n",
      "[('p', 'http://www.wikidata.org/prop/direct/P710'), ('pname', 'participant'), ('o', 'http://www.wikidata.org/entity/Q16211358'), ('oname', 'Hali Flickinger')]\n",
      "[('p', 'http://www.wikidata.org/prop/direct/P710'), ('pname', 'participant'), ('o', 'http://www.wikidata.org/entity/Q20984245'), ('oname', 'Zhang Yufei')]\n",
      "[('p', 'http://www.wikidata.org/prop/direct/P710'), ('pname', 'participant'), ('o', 'http://www.wikidata.org/entity/Q39072614'), ('oname', 'Regan Smith')]\n",
      "[('p', 'http://www.wikidata.org/prop/direct/P1346'), ('pname', 'winner'), ('o', 'http://www.wikidata.org/entity/Q42913854'), ('oname', 'China at the 2020 Summer Olympics')]\n",
      "[('p', 'http://www.wikidata.org/prop/direct/P155'), ('pname', 'follows'), ('o', 'http://www.wikidata.org/entity/Q26252025'), ('oname', \"swimming at the 2016 Summer Olympics – women's 4 × 200 metre freestyle relay\")]\n",
      "[('p', 'http://www.wikidata.org/prop/direct/P2094'), ('pname', 'competition class'), ('o', 'http://www.wikidata.org/entity/Q78157311'), ('oname', \"women's 4 × 200 metre freestyle relay\")]\n",
      "[('p', 'http://www.wikidata.org/prop/direct/P276'), ('pname', 'location'), ('o', 'http://www.wikidata.org/entity/Q65038183'), ('oname', 'Tokyo Aquatics Centre')]\n",
      "[('p', 'http://www.wikidata.org/prop/direct/P1346'), ('pname', 'winner'), ('o', 'http://www.wikidata.org/entity/Q68701450'), ('oname', 'Kiran Badloe')]\n",
      "[('p', 'http://www.wikidata.org/prop/direct/P155'), ('pname', 'follows'), ('o', 'http://www.wikidata.org/entity/Q26250761'), ('oname', \"sailing at the 2016 Summer Olympics – men's RS:X\")]\n",
      "[('p', 'http://www.wikidata.org/prop/direct/P361'), ('pname', 'part of'), ('o', 'http://www.wikidata.org/entity/Q39080774'), ('oname', 'sailing at the 2020 Summer Olympics')]\n",
      "[('p', 'http://www.wikidata.org/prop/direct/P641'), ('pname', 'sport'), ('o', 'http://www.wikidata.org/entity/Q14085739'), ('oname', 'sailing')]\n",
      "[('p', 'http://www.wikidata.org/prop/direct/P1346'), ('pname', 'winner'), ('o', 'http://www.wikidata.org/entity/Q10357885'), ('oname', 'Rebeca Andrade')]\n",
      "[('p', 'http://www.wikidata.org/prop/direct/P155'), ('pname', 'follows'), ('o', 'http://www.wikidata.org/entity/Q26233798'), ('oname', \"gymnastics at the 2016 Summer Olympics – women's vault\")]\n",
      "[('p', 'http://www.wikidata.org/prop/direct/P17'), ('pname', 'country'), ('o', 'http://www.wikidata.org/entity/Q17'), ('oname', 'Japan')]\n",
      "[('p', 'http://www.wikidata.org/prop/direct/P361'), ('pname', 'part of'), ('o', 'http://www.wikidata.org/entity/Q77576016'), ('oname', 'artistic gymnastics at the 2020 Summer Olympics')]\n",
      "[('p', 'http://www.wikidata.org/prop/direct/P641'), ('pname', 'sport'), ('o', 'http://www.wikidata.org/entity/Q43450'), ('oname', 'gymnastics')]\n",
      "[('p', 'http://www.wikidata.org/prop/direct/P1346'), ('pname', 'winner'), ('o', 'http://www.wikidata.org/entity/Q22277563'), ('oname', 'Nina Derwael')]\n",
      "[('p', 'http://www.wikidata.org/prop/direct/P155'), ('pname', 'follows'), ('o', 'http://www.wikidata.org/entity/Q26233797'), ('oname', \"gymnastics at the 2016 Summer Olympics – women's uneven bars\")]\n",
      "[('p', 'http://www.wikidata.org/prop/direct/P1346'), ('pname', 'winner'), ('o', 'http://www.wikidata.org/entity/Q13900927'), ('oname', 'Karsten Warholm')]\n",
      "[('p', 'http://www.wikidata.org/prop/direct/P155'), ('pname', 'follows'), ('o', 'http://www.wikidata.org/entity/Q26233103'), ('oname', \"athletics at the 2016 Summer Olympics – men's 400 metres hurdles\")]\n",
      "[('p', 'http://www.wikidata.org/prop/direct/P2094'), ('pname', 'competition class'), ('o', 'http://www.wikidata.org/entity/Q55244026'), ('oname', \"men's 400 metres hurdles\")]\n",
      "[('p', 'http://www.wikidata.org/prop/direct/P361'), ('pname', 'part of'), ('o', 'http://www.wikidata.org/entity/Q39080746'), ('oname', 'athletics at the 2020 Summer Olympics')]\n",
      "[('p', 'http://www.wikidata.org/prop/direct/P641'), ('pname', 'sport'), ('o', 'http://www.wikidata.org/entity/Q542'), ('oname', 'athletics')]\n",
      "[('p', 'http://www.wikidata.org/prop/direct/P1346'), ('pname', 'winner'), ('o', 'http://www.wikidata.org/entity/Q554530'), ('oname', 'Ludwig Stubbendorf')]\n",
      "[('p', 'http://www.wikidata.org/prop/direct/P155'), ('pname', 'follows'), ('o', 'http://www.wikidata.org/entity/Q15965631'), ('oname', 'equestrian at the 1932 Summer Olympics – individual eventing')]\n",
      "[('p', 'http://www.wikidata.org/prop/direct/P156'), ('pname', 'followed by'), ('o', 'http://www.wikidata.org/entity/Q17630088'), ('oname', 'equestrian at the 1948 Summer Olympics – individual eventing')]\n",
      "[('p', 'http://www.wikidata.org/prop/direct/P17'), ('pname', 'country'), ('o', 'http://www.wikidata.org/entity/Q183'), ('oname', 'Germany')]\n",
      "[('p', 'http://www.wikidata.org/prop/direct/P276'), ('pname', 'location'), ('o', 'http://www.wikidata.org/entity/Q583555'), ('oname', 'Dallgow-Döberitz')]\n",
      "[('p', 'http://www.wikidata.org/prop/direct/P361'), ('pname', 'part of'), ('o', 'http://www.wikidata.org/entity/Q593775'), ('oname', 'equestrian at the 1936 Summer Olympics')]\n",
      "[('p', 'http://www.wikidata.org/prop/direct/P641'), ('pname', 'sport'), ('o', 'http://www.wikidata.org/entity/Q902378'), ('oname', 'equestrian sport')]\n",
      "[('p', 'http://www.wikidata.org/prop/direct/P1346'), ('pname', 'winner'), ('o', 'http://www.wikidata.org/entity/Q2061510'), ('oname', 'Alois Hudec')]\n",
      "[('p', 'http://www.wikidata.org/prop/direct/P155'), ('pname', 'follows'), ('o', 'http://www.wikidata.org/entity/Q5624258'), ('oname', \"gymnastics at the 1932 Summer Olympics – men's rings\")]\n",
      "[('p', 'http://www.wikidata.org/prop/direct/P156'), ('pname', 'followed by'), ('o', 'http://www.wikidata.org/entity/Q17631600'), ('oname', \"gymnastics at the 1948 Summer Olympics – men's rings\")]\n",
      "[('p', 'http://www.wikidata.org/prop/direct/P276'), ('pname', 'location'), ('o', 'http://www.wikidata.org/entity/Q644028'), ('oname', 'Waldbühne')]\n",
      "[('p', 'http://www.wikidata.org/prop/direct/P361'), ('pname', 'part of'), ('o', 'http://www.wikidata.org/entity/Q688402'), ('oname', 'gymnastics at the 1936 Summer Olympics')]\n",
      "[('p', 'http://www.wikidata.org/prop/direct/P641'), ('pname', 'sport'), ('o', 'http://www.wikidata.org/entity/Q326827'), ('oname', 'artistic gymnastics')]\n",
      "[('p', 'http://www.wikidata.org/prop/direct/P1346'), ('pname', 'winner'), ('o', 'http://www.wikidata.org/entity/Q708055'), ('oname', 'Konrad Frey')]\n",
      "[('p', 'http://www.wikidata.org/prop/direct/P155'), ('pname', 'follows'), ('o', 'http://www.wikidata.org/entity/Q5624257'), ('oname', \"gymnastics at the 1932 Summer Olympics – men's pommel horse\")]\n",
      "[('p', 'http://www.wikidata.org/prop/direct/P156'), ('pname', 'followed by'), ('o', 'http://www.wikidata.org/entity/Q17631603'), ('oname', \"gymnastics at the 1948 Summer Olympics – men's pommel horse\")]\n",
      "[('p', 'http://www.wikidata.org/prop/direct/P1346'), ('pname', 'winner'), ('o', 'http://www.wikidata.org/entity/Q4765511'), ('oname', 'Anita Bärwirth')]\n",
      "[('p', 'http://www.wikidata.org/prop/direct/P155'), ('pname', 'follows'), ('o', 'http://www.wikidata.org/entity/Q5624250'), ('oname', \"gymnastics at the 1928 Summer Olympics – women's team\")]\n",
      "[('p', 'http://www.wikidata.org/prop/direct/P156'), ('pname', 'followed by'), ('o', 'http://www.wikidata.org/entity/Q17631606'), ('oname', \"gymnastics at the 1948 Summer Olympics – women's artistic team all-around\")]\n",
      "[('p', 'http://www.wikidata.org/prop/direct/P1346'), ('pname', 'winner'), ('o', 'http://www.wikidata.org/entity/Q792068'), ('oname', 'Axel Cadier')]\n",
      "[('p', 'http://www.wikidata.org/prop/direct/P155'), ('pname', 'follows'), ('o', 'http://www.wikidata.org/entity/Q16573655'), ('oname', \"wrestling at the 1932 Summer Olympics – men's Greco-Roman light heavyweight\")]\n",
      "[('p', 'http://www.wikidata.org/prop/direct/P156'), ('pname', 'followed by'), ('o', 'http://www.wikidata.org/entity/Q17635801'), ('oname', \"wrestling at the 1948 Summer Olympics – men's Greco-Roman light heavyweight\")]\n",
      "[('p', 'http://www.wikidata.org/prop/direct/P2094'), ('pname', 'competition class'), ('o', 'http://www.wikidata.org/entity/Q76836506'), ('oname', \"men's Greco-Roman light heavyweight\")]\n",
      "[('p', 'http://www.wikidata.org/prop/direct/P276'), ('pname', 'location'), ('o', 'http://www.wikidata.org/entity/Q685725'), ('oname', 'Deutschlandhalle')]\n",
      "[('p', 'http://www.wikidata.org/prop/direct/P361'), ('pname', 'part of'), ('o', 'http://www.wikidata.org/entity/Q283048'), ('oname', 'wrestling at the 1936 Summer Olympics')]\n",
      "[('p', 'http://www.wikidata.org/prop/direct/P641'), ('pname', 'sport'), ('o', 'http://www.wikidata.org/entity/Q42486'), ('oname', 'wrestling')]\n",
      "[('p', 'http://www.wikidata.org/prop/direct/P1346'), ('pname', 'winner'), ('o', 'http://www.wikidata.org/entity/Q1366118'), ('oname', 'Yaşar Erkan')]\n",
      "[('p', 'http://www.wikidata.org/prop/direct/P155'), ('pname', 'follows'), ('o', 'http://www.wikidata.org/entity/Q16573658'), ('oname', \"wrestling at the 1932 Summer Olympics – men's Greco-Roman featherweight\")]\n",
      "[('p', 'http://www.wikidata.org/prop/direct/P156'), ('pname', 'followed by'), ('o', 'http://www.wikidata.org/entity/Q17635807'), ('oname', \"wrestling at the 1948 Summer Olympics – men's Greco-Roman featherweight\")]\n",
      "[('p', 'http://www.wikidata.org/prop/direct/P2094'), ('pname', 'competition class'), ('o', 'http://www.wikidata.org/entity/Q76836481'), ('oname', \"men's Greco-Roman featherweight\")]\n",
      "[('p', 'http://www.wikidata.org/prop/direct/P1346'), ('pname', 'winner'), ('o', 'http://www.wikidata.org/entity/Q1794607'), ('oname', 'Kustaa Pihlajamäki')]\n",
      "[('p', 'http://www.wikidata.org/prop/direct/P155'), ('pname', 'follows'), ('o', 'http://www.wikidata.org/entity/Q16573681'), ('oname', \"wrestling at the 1932 Summer Olympics – men's freestyle featherweight\")]\n",
      "[('p', 'http://www.wikidata.org/prop/direct/P156'), ('pname', 'followed by'), ('o', 'http://www.wikidata.org/entity/Q17635875'), ('oname', \"wrestling at the 1948 Summer Olympics – men's freestyle featherweight\")]\n",
      "[('p', 'http://www.wikidata.org/prop/direct/P2094'), ('pname', 'competition class'), ('o', 'http://www.wikidata.org/entity/Q76836802'), ('oname', \"men's freestyle featherweight\")]\n",
      "[('p', 'http://www.wikidata.org/prop/direct/P1346'), ('pname', 'winner'), ('o', 'http://www.wikidata.org/entity/Q536748'), ('oname', 'Endre Kabos')]\n",
      "[('p', 'http://www.wikidata.org/prop/direct/P155'), ('pname', 'follows'), ('o', 'http://www.wikidata.org/entity/Q5443038'), ('oname', \"fencing at the 1932 Summer Olympics – men's sabre\")]\n",
      "[('p', 'http://www.wikidata.org/prop/direct/P156'), ('pname', 'followed by'), ('o', 'http://www.wikidata.org/entity/Q5443051'), ('oname', \"fencing at the 1948 Summer Olympics – men's sabre\")]\n",
      "[('p', 'http://www.wikidata.org/prop/direct/P361'), ('pname', 'part of'), ('o', 'http://www.wikidata.org/entity/Q702737'), ('oname', 'fencing at the 1936 Summer Olympics')]\n",
      "[('p', 'http://www.wikidata.org/prop/direct/P641'), ('pname', 'sport'), ('o', 'http://www.wikidata.org/entity/Q12100'), ('oname', 'fencing')]\n",
      "[('p', 'http://www.wikidata.org/prop/direct/P1346'), ('pname', 'winner'), ('o', 'http://www.wikidata.org/entity/Q17624314'), ('oname', 'Mayu Mukaida')]\n",
      "[('p', 'http://www.wikidata.org/prop/direct/P155'), ('pname', 'follows'), ('o', 'http://www.wikidata.org/entity/Q26320658'), ('oname', \"wrestling at the 2016 Summer Olympics – women's freestyle 53 kg\")]\n",
      "[('p', 'http://www.wikidata.org/prop/direct/P2094'), ('pname', 'competition class'), ('o', 'http://www.wikidata.org/entity/Q76836879'), ('oname', \"women's freestyle bantamweight\")]\n",
      "[('p', 'http://www.wikidata.org/prop/direct/P361'), ('pname', 'part of'), ('o', 'http://www.wikidata.org/entity/Q39080757'), ('oname', 'wrestling at the 2020 Summer Olympics')]\n",
      "[('p', 'http://www.wikidata.org/prop/direct/P1346'), ('pname', 'winner'), ('o', 'http://www.wikidata.org/entity/Q18045423'), ('oname', 'Grace Prendergast')]\n",
      "[('p', 'http://www.wikidata.org/prop/direct/P155'), ('pname', 'follows'), ('o', 'http://www.wikidata.org/entity/Q22968977'), ('oname', \"rowing at the 2016 Summer Olympics – women's coxless pair\")]\n",
      "[('p', 'http://www.wikidata.org/prop/direct/P2094'), ('pname', 'competition class'), ('o', 'http://www.wikidata.org/entity/Q26214788'), ('oname', \"women's coxless pair\")]\n",
      "[('p', 'http://www.wikidata.org/prop/direct/P276'), ('pname', 'location'), ('o', 'http://www.wikidata.org/entity/Q41795362'), ('oname', 'Sea Forest Waterway')]\n",
      "[('p', 'http://www.wikidata.org/prop/direct/P31'), ('pname', 'instance of'), ('o', 'http://www.wikidata.org/entity/Q21246076'), ('oname', 'rowing event')]\n",
      "[('p', 'http://www.wikidata.org/prop/direct/P361'), ('pname', 'part of'), ('o', 'http://www.wikidata.org/entity/Q39080761'), ('oname', 'rowing at the 2020 Summer Olympics')]\n",
      "[('p', 'http://www.wikidata.org/prop/direct/P641'), ('pname', 'sport'), ('o', 'http://www.wikidata.org/entity/Q159354'), ('oname', 'rowing')]\n",
      "[('p', 'http://www.wikidata.org/prop/direct/P1346'), ('pname', 'winner'), ('o', 'http://www.wikidata.org/entity/Q56045618'), ('oname', 'Australia at the 2020 Summer Olympics')]\n",
      "[('p', 'http://www.wikidata.org/prop/direct/P155'), ('pname', 'follows'), ('o', 'http://www.wikidata.org/entity/Q22968986'), ('oname', \"rowing at the 2016 Summer Olympics – men's coxless four\")]\n",
      "[('p', 'http://www.wikidata.org/prop/direct/P2094'), ('pname', 'competition class'), ('o', 'http://www.wikidata.org/entity/Q26214797'), ('oname', \"men's coxless four\")]\n",
      "[('p', 'http://www.wikidata.org/prop/direct/P1346'), ('pname', 'winner'), ('o', 'http://www.wikidata.org/entity/Q107243268'), ('oname', 'Tom Mackintosh')]\n",
      "[('p', 'http://www.wikidata.org/prop/direct/P155'), ('pname', 'follows'), ('o', 'http://www.wikidata.org/entity/Q22968987'), ('oname', \"rowing at the 2016 Summer Olympics – men's eight\")]\n",
      "[('p', 'http://www.wikidata.org/prop/direct/P2094'), ('pname', 'competition class'), ('o', 'http://www.wikidata.org/entity/Q26214799'), ('oname', \"men's eight\")]\n",
      "[('p', 'http://www.wikidata.org/prop/direct/P1346'), ('pname', 'winner'), ('o', 'http://www.wikidata.org/entity/Q42913884'), ('oname', 'South Korea at the 2020 Summer Olympics')]\n",
      "[('p', 'http://www.wikidata.org/prop/direct/P155'), ('pname', 'follows'), ('o', 'http://www.wikidata.org/entity/Q25396702'), ('oname', \"archery at the 2016 Summer Olympics – women's team\")]\n",
      "[('p', 'http://www.wikidata.org/prop/direct/P361'), ('pname', 'part of'), ('o', 'http://www.wikidata.org/entity/Q32951792'), ('oname', 'archery at the 2020 Summer Olympics')]\n",
      "[('p', 'http://www.wikidata.org/prop/direct/P641'), ('pname', 'sport'), ('o', 'http://www.wikidata.org/entity/Q108429'), ('oname', 'archery')]\n",
      "[('p', 'http://www.wikidata.org/prop/direct/P1346'), ('pname', 'winner'), ('o', 'http://www.wikidata.org/entity/Q56486600'), ('oname', 'Sakura Yosozumi')]\n",
      "[('p', 'http://www.wikidata.org/prop/direct/P276'), ('pname', 'location'), ('o', 'http://www.wikidata.org/entity/Q64225270'), ('oname', 'Ariake Urban Sports Park')]\n",
      "[('p', 'http://www.wikidata.org/prop/direct/P361'), ('pname', 'part of'), ('o', 'http://www.wikidata.org/entity/Q26286807'), ('oname', 'skateboarding at the 2020 Summer Olympics')]\n",
      "[('p', 'http://www.wikidata.org/prop/direct/P641'), ('pname', 'sport'), ('o', 'http://www.wikidata.org/entity/Q842284'), ('oname', 'skateboarding')]\n",
      "[('p', 'http://www.wikidata.org/prop/direct/P710'), ('pname', 'participant'), ('o', 'http://www.wikidata.org/entity/Q21004861'), ('oname', 'Lizzie Armanto')]\n",
      "[('p', 'http://www.wikidata.org/prop/direct/P710'), ('pname', 'participant'), ('o', 'http://www.wikidata.org/entity/Q28791123'), ('oname', 'Poppy Starr Olsen')]\n",
      "[('p', 'http://www.wikidata.org/prop/direct/P710'), ('pname', 'participant'), ('o', 'http://www.wikidata.org/entity/Q107183252'), ('oname', 'Misugu Okamoto')]\n",
      "[('p', 'http://www.wikidata.org/prop/direct/P710'), ('pname', 'participant'), ('o', 'http://www.wikidata.org/entity/Q107299091'), ('oname', 'Bombette Martin')]\n",
      "[('p', 'http://www.wikidata.org/prop/direct/P710'), ('pname', 'participant'), ('o', 'http://www.wikidata.org/entity/Q107642125'), ('oname', 'Julia Benedetti González')]\n",
      "[('p', 'http://www.wikidata.org/prop/direct/P710'), ('pname', 'participant'), ('o', 'http://www.wikidata.org/entity/Q107644012'), ('oname', 'Amelia Brodka')]\n",
      "[('p', 'http://www.wikidata.org/prop/direct/P710'), ('pname', 'participant'), ('o', 'http://www.wikidata.org/entity/Q107655714'), ('oname', 'Kokona Hiraki')]\n"
     ]
    },
    {
     "data": {
      "text/plain": [
       "100"
      ]
     },
     "execution_count": 31,
     "metadata": {},
     "output_type": "execute_result"
    }
   ],
   "source": [
    "queryString = \"\"\"\n",
    "SELECT DISTINCT ?p ?pname ?o ?oname WHERE {\n",
    "\n",
    "    ?comp wdt:P1346 ?w ;\n",
    "            ?p ?o ;\n",
    "            wdt:P361*/wdt:P31 wd:Q159821 .\n",
    "        \n",
    "         \n",
    "    ?p <http://schema.org/name> ?pname .\n",
    "    ?o <http://schema.org/name> ?oname .\n",
    "}\n",
    "LIMIT 100\n",
    "\"\"\"\n",
    "print(\"Results\")\n",
    "run_query(queryString) "
   ]
  },
  {
   "cell_type": "code",
   "execution_count": null,
   "id": "213d3589-c076-453c-acba-58f63cd3b2b1",
   "metadata": {},
   "outputs": [],
   "source": [
    "P641(sport) is what I need"
   ]
  },
  {
   "cell_type": "code",
   "execution_count": 44,
   "id": "b531eccf-37a0-4a44-b271-b5f67c9996a8",
   "metadata": {},
   "outputs": [
    {
     "name": "stdout",
     "output_type": "stream",
     "text": [
      "Results\n",
      "[('numWinner', '99'), ('country', 'Germany'), ('sportName', 'track cycling')]\n",
      "[('numWinner', '86'), ('country', 'France'), ('sportName', 'track cycling')]\n",
      "[('numWinner', '73'), ('country', 'Germany'), ('sportName', 'athletics')]\n",
      "[('numWinner', '48'), ('country', 'Germany'), ('sportName', 'rowing')]\n",
      "[('numWinner', '43'), ('country', 'France'), ('sportName', 'fencing')]\n"
     ]
    },
    {
     "data": {
      "text/plain": [
       "5"
      ]
     },
     "execution_count": 44,
     "metadata": {},
     "output_type": "execute_result"
    }
   ],
   "source": [
    "queryString = \"\"\"\n",
    "SELECT DISTINCT (COUNT(?winner) as ?numWinner) ?country ?sportName WHERE {\n",
    "\n",
    "    ?comp wdt:P1346 ?w ;\n",
    "            wdt:P641 ?sport ;\n",
    "            wdt:P361*/wdt:P31 wd:Q159821 .\n",
    "    ?w wdt:P27 ?c .\n",
    "         \n",
    "    ?comp <http://schema.org/name> ?competition .\n",
    "    ?w <http://schema.org/name> ?winner .\n",
    "    ?c <http://schema.org/name> ?country .\n",
    "    ?sport <http://schema.org/name> ?sportName .\n",
    "    \n",
    "    FILTER ((?c = wd:Q183) || (?c = wd:Q142)) .\n",
    "}\n",
    "GROUP BY ?country ?sportName\n",
    "ORDER BY desc(?numWinner)\n",
    "LIMIT 5\n",
    "\"\"\"\n",
    "print(\"Results\")\n",
    "run_query(queryString)    "
   ]
  },
  {
   "cell_type": "markdown",
   "id": "c3d78d9e-629c-4c0a-a943-5fc8c6c02a63",
   "metadata": {},
   "source": [
    "Fencing is the first sport where France does better than Germany"
   ]
  },
  {
   "cell_type": "markdown",
   "id": "a82da3ec-1c4d-4f52-bac6-9ed261921bd4",
   "metadata": {},
   "source": [
    "#### 4.2 Who has the highest number of female winners\n"
   ]
  },
  {
   "cell_type": "markdown",
   "id": "96389469-cc2d-4fa6-8c86-e0086685b799",
   "metadata": {},
   "source": [
    "Remembering that P21 is the property for gender of a person"
   ]
  },
  {
   "cell_type": "code",
   "execution_count": 4,
   "id": "fb9bc5c6-5155-4acb-99e5-4f7a01b96f64",
   "metadata": {},
   "outputs": [
    {
     "name": "stdout",
     "output_type": "stream",
     "text": [
      "Results\n",
      "[('numWinner', '148'), ('gender', 'female'), ('country', 'Germany')]\n",
      "[('numWinner', '45'), ('gender', 'female'), ('country', 'France')]\n"
     ]
    },
    {
     "data": {
      "text/plain": [
       "2"
      ]
     },
     "execution_count": 4,
     "metadata": {},
     "output_type": "execute_result"
    }
   ],
   "source": [
    "queryString = \"\"\"\n",
    "SELECT DISTINCT (COUNT(?winner) as ?numWinner) ?gender ?country WHERE {\n",
    "\n",
    "    \n",
    "    \n",
    "    ?comp wdt:P1346 ?w ;\n",
    "            wdt:P361*/wdt:P31 wd:Q159821 .\n",
    "    ?w wdt:P27 ?c ;\n",
    "        wdt:P21 ?g .\n",
    "         \n",
    "    ?comp <http://schema.org/name> ?competition .\n",
    "    ?w <http://schema.org/name> ?winner .\n",
    "    ?c <http://schema.org/name> ?country .\n",
    "    ?g <http://schema.org/name> ?gender .\n",
    "   \n",
    "    FILTER ((?c = wd:Q183) || (?c = wd:Q142)) .\n",
    "    FILTER REGEX (?gender, \"female\") .\n",
    "}\n",
    "GROUP BY ?gender ?country \n",
    "ORDER BY desc(?numWinner)\n",
    "LIMIT 10\n",
    "\"\"\"\n",
    "print(\"Results\")\n",
    "run_query(queryString)   "
   ]
  },
  {
   "cell_type": "markdown",
   "id": "819b3339-9806-466e-ac4f-5d002710ad9f",
   "metadata": {},
   "source": [
    "#### 4.3 For each country , which are the athletes with the highest number of participations?"
   ]
  },
  {
   "cell_type": "code",
   "execution_count": 3,
   "id": "cde9f387-3483-42d4-9962-72de9ba14cb5",
   "metadata": {},
   "outputs": [
    {
     "name": "stdout",
     "output_type": "stream",
     "text": [
      "Results\n",
      "[('numPartecipations', '7'), ('athlete', 'Jeannie Longo'), ('country', 'France')]\n",
      "[('numPartecipations', '7'), ('athlete', 'Ralf Schumann'), ('country', 'Germany')]\n"
     ]
    },
    {
     "data": {
      "text/plain": [
       "2"
      ]
     },
     "execution_count": 3,
     "metadata": {},
     "output_type": "execute_result"
    }
   ],
   "source": [
    "queryString = \"\"\"\n",
    "SELECT DISTINCT (COUNT(?c) as ?numPartecipations) ?athlete ?country WHERE {\n",
    "\n",
    "    ?a wdt:P27 ?c ;\n",
    "            wdt:P1344 ?competition .\n",
    "    ?competition wdt:P31 wd:Q159821 .\n",
    "    \n",
    "    ?c <http://schema.org/name> ?country .\n",
    "    ?a <http://schema.org/name> ?athlete .\n",
    "\n",
    "    \n",
    "    FILTER ((?c = wd:Q183) || (?c = wd:Q142)) .\n",
    "\n",
    "}\n",
    "GROUP BY ?athlete ?country\n",
    "ORDER BY desc(?numPartecipations)\n",
    "LIMIT 2\n",
    "\"\"\"\n",
    "print(\"Results\")\n",
    "run_query(queryString)   "
   ]
  }
 ],
 "metadata": {
  "kernelspec": {
   "display_name": "Python 3",
   "language": "python",
   "name": "python3"
  },
  "language_info": {
   "codemirror_mode": {
    "name": "ipython",
    "version": 3
   },
   "file_extension": ".py",
   "mimetype": "text/x-python",
   "name": "python",
   "nbconvert_exporter": "python",
   "pygments_lexer": "ipython3",
   "version": "3.7.10"
  }
 },
 "nbformat": 4,
 "nbformat_minor": 5
}
