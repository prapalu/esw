{
 "cells": [
  {
   "cell_type": "markdown",
   "id": "7034c3bf-6eb0-4418-8687-7b9d2a501103",
   "metadata": {},
   "source": [
    "# General instructions\n",
    "\n",
    "The goal of the project is to materialize a set of **exploratory workloads** over a real-world, large-scale,  open-domain KG: [WikiData](https://www.wikidata.org/wiki/Wikidata:Main_Page)\n",
    "\n",
    "An exploratory workload  is composed by a set of queries, where each query is related to the information obtained previously.\n",
    "\n",
    "An exploratory workload starts with a usually vague, open ended question, and does not assume the person issuing the workload has a clear understanding of the data contained in the target database or its structure.\n",
    "\n",
    "Remeber that:\n",
    "\n",
    "1. All the queries must run in the python notebook\n",
    "2. You can use classes and properties only if you find them via a SPARQL query that must be present in the notebook\n",
    "3. You do not delete useless queries. Keep everything that is synthatically valid \n",
    "\n",
    "```\n",
    "?p <http://schema.org/name> ?name .\n",
    "```\n",
    "    \n",
    "is the BGP returning a human-readable name of a property or a class in Wikidata.\n",
    "    \n",
    "    "
   ]
  },
  {
   "cell_type": "code",
   "execution_count": 2,
   "id": "3605c9d5-5371-49a5-be8d-d66e8f417139",
   "metadata": {},
   "outputs": [],
   "source": [
    "## SETUP used later\n",
    "\n",
    "from SPARQLWrapper import SPARQLWrapper, JSON\n",
    "\n",
    "\n",
    "prefixString = \"\"\"\n",
    "##-d4cf475169-##\n",
    "PREFIX wd: <http://www.wikidata.org/entity/> \n",
    "PREFIX wdt: <http://www.wikidata.org/prop/direct/> \n",
    "PREFIX sc: <http://schema.org/>\n",
    "\"\"\"\n",
    "\n",
    "# select and construct queries\n",
    "def run_query(queryString):\n",
    "    to_run = prefixString + \"\\n\" + queryString\n",
    "\n",
    "    sparql = SPARQLWrapper(\"http://a256-gc1-02.srv.aau.dk:5820/sparql\")\n",
    "    sparql.setTimeout(300)\n",
    "    sparql.setReturnFormat(JSON)\n",
    "    sparql.setQuery(to_run)\n",
    "\n",
    "    try :\n",
    "       results = sparql.query()\n",
    "       json_results = results.convert()\n",
    "       if len(json_results['results']['bindings'])==0:\n",
    "          print(\"Empty\")\n",
    "          return 0\n",
    "    \n",
    "       for bindings in json_results['results']['bindings']:\n",
    "          print( [ (var, value['value'])  for var, value in bindings.items() ] )\n",
    "\n",
    "       return len(json_results['results']['bindings'])\n",
    "\n",
    "    except Exception as e :\n",
    "        print(\"The operation failed\", e)\n",
    "    \n",
    "# ASk queries\n",
    "def run_ask_query(queryString):\n",
    "    to_run = prefixString + \"\\n\" + queryString\n",
    "\n",
    "    sparql = SPARQLWrapper(\"http://a256-gc1-02.srv.aau.dk:5820/sparql\")\n",
    "    sparql.setTimeout(300)\n",
    "    sparql.setReturnFormat(JSON)\n",
    "    sparql.setQuery(to_run)\n",
    "\n",
    "    try :\n",
    "        return sparql.query().convert()\n",
    "\n",
    "    except Exception as e :\n",
    "        print(\"The operation failed\", e)\n"
   ]
  },
  {
   "cell_type": "markdown",
   "id": "d477a59c-a68c-4c8f-9f97-8ca5294d7d27",
   "metadata": {
    "tags": []
   },
   "source": [
    "# Sport Workflow Series (\"Olympic explorative search\") \n",
    "\n",
    "Consider the following exploratory information need:\n",
    "\n",
    "> investigate the results, in terms of participations and competitions won, in the past editions of the olympics between France and Germany"
   ]
  },
  {
   "cell_type": "markdown",
   "id": "4a45c0ba-f79e-441d-bec5-84401b09db70",
   "metadata": {
    "tags": []
   },
   "source": [
    "## Useful URIs for the current workflow\n",
    "\n",
    "\n",
    "The following are given:\n",
    "\n",
    "| IRI           | Description   | Role      |\n",
    "| -----------   | -----------   |-----------|\n",
    "| `wdt:P1647`   | subproperty   | predicate |\n",
    "| `wdt:P31`     | instance of   | predicate |\n",
    "| `wdt:P106`    | profession    | predicate | \n",
    "| `wdt:P279`    | subclass      | predicate |\n",
    "| `wdt:P27`     | nationality   | predicate |\n",
    "| `wd:Q159821`  | Olympic games | node      |\n",
    "| `wd:Q10843402`| Swimmer       | node |\n",
    "| `wd:Q2066131` | Athlete       | node |\n",
    "| `wd:Q142`     | France        | node |\n",
    "| `wd:Q183`     | Germany       | node |\n",
    "\n",
    "\n",
    "Also consider\n",
    "\n",
    "\n",
    "```\n",
    "?a wdt:P106/wdt:P279 wd:Q2066131\n",
    "```\n",
    "\n",
    "is the BGP to retrieve all instances of **athlete**\n",
    "\n",
    "\n",
    "```\n",
    "?p wdt:P27 wd:Q142\n",
    "```\n",
    "\n",
    "is the BGP to retrieve all **citizens of France**"
   ]
  },
  {
   "cell_type": "markdown",
   "id": "7af439fb-96e4-4dbb-a381-f19afab79f86",
   "metadata": {
    "tags": []
   },
   "source": [
    "## Workload Goals\n",
    "\n",
    "1. Identify the BGP for participating or winning some competition\n",
    "\n",
    "2. Identify the BGP for different sports or types of competitions\n",
    "\n",
    "3. Is there some French or German Athlete participating to any olympic event with double citizenship?\n",
    "\n",
    "4. Compare number of participations and winning events across different dimensions\n",
    " \n",
    "   4.1 In which specific sport France has more winners than Germany\n",
    "   \n",
    "   4.2 Who has the highest number of female winners\n",
    "   \n",
    "   4.3 For each country , which are the atheletes with the highest number of participations\n"
   ]
  },
  {
   "cell_type": "code",
   "execution_count": 1,
   "id": "24a853ab-830c-422c-afd3-e9e015b8b8ed",
   "metadata": {},
   "outputs": [],
   "source": [
    "# start your workflow here"
   ]
  },
  {
   "cell_type": "code",
   "execution_count": 2,
   "id": "ade01416-92e7-4ad7-b9a9-b8fb330750dc",
   "metadata": {},
   "outputs": [
    {
     "name": "stdout",
     "output_type": "stream",
     "text": [
      "Results\n",
      "[('callret-0', '929008')]\n"
     ]
    },
    {
     "data": {
      "text/plain": [
       "1"
      ]
     },
     "execution_count": 2,
     "metadata": {},
     "output_type": "execute_result"
    }
   ],
   "source": [
    "queryString = \"\"\"\n",
    "SELECT COUNT(*)\n",
    "WHERE { \n",
    "\n",
    "?a wdt:P106/wdt:P279 wd:Q2066131\n",
    "\n",
    "} \n",
    "\"\"\"\n",
    "\n",
    "print(\"Results\")\n",
    "run_query(queryString)"
   ]
  },
  {
   "cell_type": "markdown",
   "id": "4c6f1164-e08b-48ab-947f-dab2a9aa541c",
   "metadata": {},
   "source": [
    "#### Comment\n",
    "From how the texts of the tasks is written I suppose, when needed, to retrieve the results only for France and Germany (e.g. in 4.2 and 4.3) "
   ]
  },
  {
   "cell_type": "markdown",
   "id": "5e47cd79-b8a6-486e-8376-34c7fc828432",
   "metadata": {},
   "source": [
    "## Task 1\n",
    "1. Identify the BGP for participating or winning some competition"
   ]
  },
  {
   "cell_type": "markdown",
   "id": "ded15cee-a5ce-4244-8bfd-02277122b054",
   "metadata": {
    "tags": []
   },
   "source": [
    "#### Comment\n",
    "I suppose olympics competitions"
   ]
  },
  {
   "cell_type": "code",
   "execution_count": 12,
   "id": "77372e91-b2bd-4415-9992-5513016fe792",
   "metadata": {},
   "outputs": [
    {
     "name": "stdout",
     "output_type": "stream",
     "text": [
      "Results\n",
      "[('prop', 'participant in'), ('p', 'http://www.wikidata.org/prop/direct/P1344')]\n",
      "[('prop', 'named after'), ('p', 'http://www.wikidata.org/prop/direct/P138')]\n",
      "[('prop', 'based on'), ('p', 'http://www.wikidata.org/prop/direct/P144')]\n",
      "[('prop', 'part of the series'), ('p', 'http://www.wikidata.org/prop/direct/P179')]\n",
      "[('prop', 'has parts of the class'), ('p', 'http://www.wikidata.org/prop/direct/P2670')]\n",
      "[('prop', \"category's main topic\"), ('p', 'http://www.wikidata.org/prop/direct/P301')]\n",
      "[('prop', 'instance of'), ('p', 'http://www.wikidata.org/prop/direct/P31')]\n",
      "[('prop', 'part of'), ('p', 'http://www.wikidata.org/prop/direct/P361')]\n",
      "[('prop', 'opposite of'), ('p', 'http://www.wikidata.org/prop/direct/P461')]\n",
      "[('prop', 'main subject'), ('p', 'http://www.wikidata.org/prop/direct/P921')]\n",
      "[('prop', 'category combines topics'), ('p', 'http://www.wikidata.org/prop/direct/P971')]\n"
     ]
    },
    {
     "data": {
      "text/plain": [
       "11"
      ]
     },
     "execution_count": 12,
     "metadata": {},
     "output_type": "execute_result"
    }
   ],
   "source": [
    "#Let's check the incoming properties for \"Olympic Games\"\n",
    "queryString = \"\"\"\n",
    "SELECT DISTINCT ?prop ?p\n",
    "WHERE { \n",
    "\n",
    "?sub ?p wd:Q159821 .\n",
    "\n",
    "?p <http://schema.org/name> ?prop .\n",
    "#?sub <http://schema.org/name> ?sname .\n",
    "\n",
    "} \n",
    "\"\"\"\n",
    "\n",
    "print(\"Results\")\n",
    "run_query(queryString)"
   ]
  },
  {
   "cell_type": "code",
   "execution_count": 10,
   "id": "28ffd327-4313-4090-a948-7fe15e463a99",
   "metadata": {},
   "outputs": [
    {
     "name": "stdout",
     "output_type": "stream",
     "text": [
      "Results\n",
      "[('sname', 'fencing at the Summer Olympics'), ('prop', 'part of'), ('p', 'http://www.wikidata.org/prop/direct/P361'), ('sub', 'http://www.wikidata.org/entity/Q29762')]\n",
      "[('sname', 'weightlifting at the Summer Olympics'), ('prop', 'part of'), ('p', 'http://www.wikidata.org/prop/direct/P361'), ('sub', 'http://www.wikidata.org/entity/Q733352')]\n",
      "[('sname', 'Category:Ecuador at the Summer Olympics'), ('prop', 'category combines topics'), ('p', 'http://www.wikidata.org/prop/direct/P971'), ('sub', 'http://www.wikidata.org/entity/Q9621038')]\n",
      "[('sname', 'sport climbing at the Summer Olympics'), ('prop', 'part of'), ('p', 'http://www.wikidata.org/prop/direct/P361'), ('sub', 'http://www.wikidata.org/entity/Q26832970')]\n",
      "[('sname', 'gymnastics at the Summer Olympics'), ('prop', 'part of'), ('p', 'http://www.wikidata.org/prop/direct/P361'), ('sub', 'http://www.wikidata.org/entity/Q663317')]\n",
      "[('sname', 'cycling at the Summer Olympics'), ('prop', 'part of'), ('p', 'http://www.wikidata.org/prop/direct/P361'), ('sub', 'http://www.wikidata.org/entity/Q499650')]\n",
      "[('sname', '1904 Summer Olympics'), ('prop', 'instance of'), ('p', 'http://www.wikidata.org/prop/direct/P31'), ('sub', 'http://www.wikidata.org/entity/Q8098')]\n",
      "[('sname', '1936 Summer Olympics'), ('prop', 'instance of'), ('p', 'http://www.wikidata.org/prop/direct/P31'), ('sub', 'http://www.wikidata.org/entity/Q8150')]\n",
      "[('sname', '1960 Summer Olympics'), ('prop', 'instance of'), ('p', 'http://www.wikidata.org/prop/direct/P31'), ('sub', 'http://www.wikidata.org/entity/Q8415')]\n",
      "[('sname', 'volleyball at the Summer Olympics'), ('prop', 'part of'), ('p', 'http://www.wikidata.org/prop/direct/P361'), ('sub', 'http://www.wikidata.org/entity/Q6876')]\n",
      "[('sname', 'artistic swimming at the Summer Olympics'), ('prop', 'part of'), ('p', 'http://www.wikidata.org/prop/direct/P361'), ('sub', 'http://www.wikidata.org/entity/Q262650')]\n",
      "[('sname', 'tennis at the Summer Olympics'), ('prop', 'part of'), ('p', 'http://www.wikidata.org/prop/direct/P361'), ('sub', 'http://www.wikidata.org/entity/Q270163')]\n",
      "[('sname', 'rugby union at the Summer Olympics'), ('prop', 'part of'), ('p', 'http://www.wikidata.org/prop/direct/P361'), ('sub', 'http://www.wikidata.org/entity/Q429887')]\n",
      "[('sname', 'Basque pelota at the Summer Olympics'), ('prop', 'part of'), ('p', 'http://www.wikidata.org/prop/direct/P361'), ('sub', 'http://www.wikidata.org/entity/Q584160')]\n",
      "[('sname', 'archery at the Summer Olympics'), ('prop', 'part of'), ('p', 'http://www.wikidata.org/prop/direct/P361'), ('sub', 'http://www.wikidata.org/entity/Q654150')]\n",
      "[('sname', 'canoeing at the Summer Olympics'), ('prop', 'part of'), ('p', 'http://www.wikidata.org/prop/direct/P361'), ('sub', 'http://www.wikidata.org/entity/Q756744')]\n",
      "[('sname', 'boules at the Olympic Games'), ('prop', 'part of'), ('p', 'http://www.wikidata.org/prop/direct/P361'), ('sub', 'http://www.wikidata.org/entity/Q16184518')]\n",
      "[('sname', 'water motorboat racing at the Summer Olympics'), ('prop', 'part of'), ('p', 'http://www.wikidata.org/prop/direct/P361'), ('sub', 'http://www.wikidata.org/entity/Q3866328')]\n",
      "[('sname', '2020 Summer Olympics'), ('prop', 'instance of'), ('p', 'http://www.wikidata.org/prop/direct/P31'), ('sub', 'http://www.wikidata.org/entity/Q181278')]\n",
      "[('sname', 'Olympic Games'), ('prop', 'has parts of the class'), ('p', 'http://www.wikidata.org/prop/direct/P2670'), ('sub', 'http://www.wikidata.org/entity/Q5389')]\n",
      "[('sname', '1900 Summer Olympics'), ('prop', 'instance of'), ('p', 'http://www.wikidata.org/prop/direct/P31'), ('sub', 'http://www.wikidata.org/entity/Q8088')]\n",
      "[('sname', 'Winter Olympic Games'), ('prop', 'opposite of'), ('p', 'http://www.wikidata.org/prop/direct/P461'), ('sub', 'http://www.wikidata.org/entity/Q82414')]\n",
      "[('sname', '1972 Summer Olympics'), ('prop', 'instance of'), ('p', 'http://www.wikidata.org/prop/direct/P31'), ('sub', 'http://www.wikidata.org/entity/Q8438')]\n",
      "[('sname', '1976 Summer Olympics'), ('prop', 'instance of'), ('p', 'http://www.wikidata.org/prop/direct/P31'), ('sub', 'http://www.wikidata.org/entity/Q8444')]\n",
      "[('sname', '1988 Summer Olympics'), ('prop', 'instance of'), ('p', 'http://www.wikidata.org/prop/direct/P31'), ('sub', 'http://www.wikidata.org/entity/Q8470')]\n",
      "[('sname', '1992 Summer Olympics'), ('prop', 'instance of'), ('p', 'http://www.wikidata.org/prop/direct/P31'), ('sub', 'http://www.wikidata.org/entity/Q8488')]\n",
      "[('sname', '1996 Summer Olympics'), ('prop', 'part of the series'), ('p', 'http://www.wikidata.org/prop/direct/P179'), ('sub', 'http://www.wikidata.org/entity/Q8531')]\n",
      "[('sname', '1996 Summer Olympics'), ('prop', 'instance of'), ('p', 'http://www.wikidata.org/prop/direct/P31'), ('sub', 'http://www.wikidata.org/entity/Q8531')]\n",
      "[('sname', '2000 Summer Olympics'), ('prop', 'instance of'), ('p', 'http://www.wikidata.org/prop/direct/P31'), ('sub', 'http://www.wikidata.org/entity/Q8544')]\n",
      "[('sname', '2004 Summer Olympics'), ('prop', 'instance of'), ('p', 'http://www.wikidata.org/prop/direct/P31'), ('sub', 'http://www.wikidata.org/entity/Q8558')]\n",
      "[('sname', '2008 Summer Olympics'), ('prop', 'instance of'), ('p', 'http://www.wikidata.org/prop/direct/P31'), ('sub', 'http://www.wikidata.org/entity/Q8567')]\n",
      "[('sname', '2012 Summer Olympics'), ('prop', 'instance of'), ('p', 'http://www.wikidata.org/prop/direct/P31'), ('sub', 'http://www.wikidata.org/entity/Q8577')]\n",
      "[('sname', '2016 Summer Olympics'), ('prop', 'instance of'), ('p', 'http://www.wikidata.org/prop/direct/P31'), ('sub', 'http://www.wikidata.org/entity/Q8613')]\n",
      "[('sname', '1920 Summer Olympics'), ('prop', 'instance of'), ('p', 'http://www.wikidata.org/prop/direct/P31'), ('sub', 'http://www.wikidata.org/entity/Q8128')]\n",
      "[('sname', '1924 Summer Olympics'), ('prop', 'instance of'), ('p', 'http://www.wikidata.org/prop/direct/P31'), ('sub', 'http://www.wikidata.org/entity/Q8132')]\n",
      "[('sname', '1928 Summer Olympics'), ('prop', 'instance of'), ('p', 'http://www.wikidata.org/prop/direct/P31'), ('sub', 'http://www.wikidata.org/entity/Q8138')]\n",
      "[('sname', '1932 Summer Olympics'), ('prop', 'instance of'), ('p', 'http://www.wikidata.org/prop/direct/P31'), ('sub', 'http://www.wikidata.org/entity/Q8143')]\n",
      "[('sname', '1964 Summer Olympics'), ('prop', 'instance of'), ('p', 'http://www.wikidata.org/prop/direct/P31'), ('sub', 'http://www.wikidata.org/entity/Q8420')]\n",
      "[('sname', '1968 Summer Olympics'), ('prop', 'instance of'), ('p', 'http://www.wikidata.org/prop/direct/P31'), ('sub', 'http://www.wikidata.org/entity/Q8429')]\n",
      "[('sname', 'equestrian at the Summer Olympics'), ('prop', 'part of'), ('p', 'http://www.wikidata.org/prop/direct/P361'), ('sub', 'http://www.wikidata.org/entity/Q833790')]\n",
      "[('sname', 'rowing at the Summer Olympics'), ('prop', 'part of'), ('p', 'http://www.wikidata.org/prop/direct/P361'), ('sub', 'http://www.wikidata.org/entity/Q720609')]\n",
      "[('sname', 'triathlon at the Summer Olympics'), ('prop', 'part of'), ('p', 'http://www.wikidata.org/prop/direct/P361'), ('sub', 'http://www.wikidata.org/entity/Q748741')]\n",
      "[('sname', 'tug of war at the Summer Olympics'), ('prop', 'part of'), ('p', 'http://www.wikidata.org/prop/direct/P361'), ('sub', 'http://www.wikidata.org/entity/Q756053')]\n",
      "[('sname', '1908 Summer Olympics'), ('prop', 'instance of'), ('p', 'http://www.wikidata.org/prop/direct/P31'), ('sub', 'http://www.wikidata.org/entity/Q8111')]\n",
      "[('sname', '1912 Summer Olympics'), ('prop', 'instance of'), ('p', 'http://www.wikidata.org/prop/direct/P31'), ('sub', 'http://www.wikidata.org/entity/Q8118')]\n",
      "[('sname', '1952 Summer Olympics'), ('prop', 'instance of'), ('p', 'http://www.wikidata.org/prop/direct/P31'), ('sub', 'http://www.wikidata.org/entity/Q8407')]\n",
      "[('sname', '1956 Summer Olympics'), ('prop', 'instance of'), ('p', 'http://www.wikidata.org/prop/direct/P31'), ('sub', 'http://www.wikidata.org/entity/Q8411')]\n",
      "[('sname', '1980 Summer Olympics'), ('prop', 'instance of'), ('p', 'http://www.wikidata.org/prop/direct/P31'), ('sub', 'http://www.wikidata.org/entity/Q8450')]\n",
      "[('sname', '1984 Summer Olympics'), ('prop', 'part of the series'), ('p', 'http://www.wikidata.org/prop/direct/P179'), ('sub', 'http://www.wikidata.org/entity/Q8456')]\n",
      "[('sname', '1984 Summer Olympics'), ('prop', 'instance of'), ('p', 'http://www.wikidata.org/prop/direct/P31'), ('sub', 'http://www.wikidata.org/entity/Q8456')]\n",
      "[('sname', '1896 Summer Olympics'), ('prop', 'instance of'), ('p', 'http://www.wikidata.org/prop/direct/P31'), ('sub', 'http://www.wikidata.org/entity/Q8080')]\n",
      "[('sname', '1948 Summer Olympics'), ('prop', 'instance of'), ('p', 'http://www.wikidata.org/prop/direct/P31'), ('sub', 'http://www.wikidata.org/entity/Q8403')]\n",
      "[('sname', '1906 Intercalated Games'), ('prop', 'instance of'), ('p', 'http://www.wikidata.org/prop/direct/P31'), ('sub', 'http://www.wikidata.org/entity/Q8105')]\n",
      "[('sname', 'handball at the Summer Olympics'), ('prop', 'part of'), ('p', 'http://www.wikidata.org/prop/direct/P361'), ('sub', 'http://www.wikidata.org/entity/Q715992')]\n",
      "[('sname', 'association football at the Summer Olympics'), ('prop', 'part of'), ('p', 'http://www.wikidata.org/prop/direct/P361'), ('sub', 'http://www.wikidata.org/entity/Q188317')]\n",
      "[('sname', 'athletics at the Summer Olympics'), ('prop', 'part of'), ('p', 'http://www.wikidata.org/prop/direct/P361'), ('sub', 'http://www.wikidata.org/entity/Q715044')]\n",
      "[('sname', 'table tennis at the Summer Olympics'), ('prop', 'part of'), ('p', 'http://www.wikidata.org/prop/direct/P361'), ('sub', 'http://www.wikidata.org/entity/Q282770')]\n",
      "[('sname', 'art competitions at the Olympic Games'), ('prop', 'part of'), ('p', 'http://www.wikidata.org/prop/direct/P361'), ('sub', 'http://www.wikidata.org/entity/Q673767')]\n",
      "[('sname', 'Category:Nations at the 1984 Summer Olympics'), ('prop', 'category combines topics'), ('p', 'http://www.wikidata.org/prop/direct/P971'), ('sub', 'http://www.wikidata.org/entity/Q7029361')]\n",
      "[('sname', '1916 Summer Olympics'), ('prop', 'instance of'), ('p', 'http://www.wikidata.org/prop/direct/P31'), ('sub', 'http://www.wikidata.org/entity/Q8123')]\n",
      "[('sname', 'boxing at the Summer Olympics'), ('prop', 'part of'), ('p', 'http://www.wikidata.org/prop/direct/P361'), ('sub', 'http://www.wikidata.org/entity/Q578715')]\n",
      "[('sname', '2028 Summer Olympics'), ('prop', 'instance of'), ('p', 'http://www.wikidata.org/prop/direct/P31'), ('sub', 'http://www.wikidata.org/entity/Q1451505')]\n",
      "[('sname', 'swimming at the Summer Olympics'), ('prop', 'part of'), ('p', 'http://www.wikidata.org/prop/direct/P361'), ('sub', 'http://www.wikidata.org/entity/Q748643')]\n",
      "[('sname', 'American football at the Summer Olympics'), ('prop', 'part of'), ('p', 'http://www.wikidata.org/prop/direct/P361'), ('sub', 'http://www.wikidata.org/entity/Q4745466')]\n",
      "[('sname', 'bowling at the Summer Olympics'), ('prop', 'part of'), ('p', 'http://www.wikidata.org/prop/direct/P361'), ('sub', 'http://www.wikidata.org/entity/Q23041530')]\n",
      "[('sname', 'beach volleyball at the Summer Olympics'), ('prop', 'part of'), ('p', 'http://www.wikidata.org/prop/direct/P361'), ('sub', 'http://www.wikidata.org/entity/Q1318139')]\n",
      "[('sname', '2032 Summer Olympics'), ('prop', 'instance of'), ('p', 'http://www.wikidata.org/prop/direct/P31'), ('sub', 'http://www.wikidata.org/entity/Q31039462')]\n",
      "[('sname', '2024 Summer Olympics'), ('prop', 'instance of'), ('p', 'http://www.wikidata.org/prop/direct/P31'), ('sub', 'http://www.wikidata.org/entity/Q995653')]\n",
      "[('sname', 'Category:Summer Olympics in Los Angeles'), ('prop', 'category combines topics'), ('p', 'http://www.wikidata.org/prop/direct/P971'), ('sub', 'http://www.wikidata.org/entity/Q59164831')]\n",
      "[('sname', 'Category:Summer Olympics by host city'), ('prop', 'category combines topics'), ('p', 'http://www.wikidata.org/prop/direct/P971'), ('sub', 'http://www.wikidata.org/entity/Q63196704')]\n",
      "[('sname', 'Category:Olympic lanes during Summer Olympics'), ('prop', 'category combines topics'), ('p', 'http://www.wikidata.org/prop/direct/P971'), ('sub', 'http://www.wikidata.org/entity/Q63196710')]\n",
      "[('sname', 'Category:Summer Olympics opening ceremonies'), ('prop', 'category combines topics'), ('p', 'http://www.wikidata.org/prop/direct/P971'), ('sub', 'http://www.wikidata.org/entity/Q63196715')]\n",
      "[('sname', 'Category:Summer Olympics closing ceremonies'), ('prop', 'category combines topics'), ('p', 'http://www.wikidata.org/prop/direct/P971'), ('sub', 'http://www.wikidata.org/entity/Q63196717')]\n",
      "[('sname', 'Category:Summer Olympics maps'), ('prop', 'category combines topics'), ('p', 'http://www.wikidata.org/prop/direct/P971'), ('sub', 'http://www.wikidata.org/entity/Q63196723')]\n",
      "[('sname', '1940 Summer Olympics'), ('prop', 'instance of'), ('p', 'http://www.wikidata.org/prop/direct/P31'), ('sub', 'http://www.wikidata.org/entity/Q8368')]\n",
      "[('sname', '1944 Summer Olympics'), ('prop', 'instance of'), ('p', 'http://www.wikidata.org/prop/direct/P31'), ('sub', 'http://www.wikidata.org/entity/Q8376')]\n",
      "[('sname', 'karate at the Summer Olympics'), ('prop', 'part of'), ('p', 'http://www.wikidata.org/prop/direct/P361'), ('sub', 'http://www.wikidata.org/entity/Q26241551')]\n",
      "[('sname', 'Category:Summer Olympics competitors by sport and year'), ('prop', 'category combines topics'), ('p', 'http://www.wikidata.org/prop/direct/P971'), ('sub', 'http://www.wikidata.org/entity/Q26878805')]\n",
      "[('sname', 'badminton at the Summer Olympics'), ('prop', 'part of'), ('p', 'http://www.wikidata.org/prop/direct/P361'), ('sub', 'http://www.wikidata.org/entity/Q324257')]\n",
      "[('sname', 'surfing at the Summer Olympics'), ('prop', 'part of'), ('p', 'http://www.wikidata.org/prop/direct/P361'), ('sub', 'http://www.wikidata.org/entity/Q32635006')]\n",
      "[('sname', 'diving at the Summer Olympics'), ('prop', 'part of'), ('p', 'http://www.wikidata.org/prop/direct/P361'), ('sub', 'http://www.wikidata.org/entity/Q826703')]\n",
      "[('sname', 'sailing at the Summer Olympics'), ('prop', 'part of'), ('p', 'http://www.wikidata.org/prop/direct/P361'), ('sub', 'http://www.wikidata.org/entity/Q832177')]\n",
      "[('sname', 'Category:Olympic rowers'), ('prop', 'category combines topics'), ('p', 'http://www.wikidata.org/prop/direct/P971'), ('sub', 'http://www.wikidata.org/entity/Q8698017')]\n",
      "[('sname', 'Category:Summer Olympic Games'), ('prop', \"category's main topic\"), ('p', 'http://www.wikidata.org/prop/direct/P301'), ('sub', 'http://www.wikidata.org/entity/Q7215602')]\n",
      "[('sname', 'Category:Ireland at the Summer Olympics'), ('prop', 'category combines topics'), ('p', 'http://www.wikidata.org/prop/direct/P971'), ('sub', 'http://www.wikidata.org/entity/Q13384926')]\n",
      "[('sname', 'field hockey at the Summer Olympics'), ('prop', 'part of'), ('p', 'http://www.wikidata.org/prop/direct/P361'), ('sub', 'http://www.wikidata.org/entity/Q645688')]\n",
      "[('sname', 'water polo at the Summer Olympics'), ('prop', 'part of'), ('p', 'http://www.wikidata.org/prop/direct/P361'), ('sub', 'http://www.wikidata.org/entity/Q720605')]\n",
      "[('sname', 'wrestling at the Summer Olympics'), ('prop', 'part of'), ('p', 'http://www.wikidata.org/prop/direct/P361'), ('sub', 'http://www.wikidata.org/entity/Q748627')]\n",
      "[('sname', 'basketball at the Summer Olympics'), ('prop', 'part of'), ('p', 'http://www.wikidata.org/prop/direct/P361'), ('sub', 'http://www.wikidata.org/entity/Q208137')]\n",
      "[('sname', 'korfball at the Summer Olympics'), ('prop', 'part of'), ('p', 'http://www.wikidata.org/prop/direct/P361'), ('sub', 'http://www.wikidata.org/entity/Q3816474')]\n",
      "[('sname', 'golf at the Summer Olympics'), ('prop', 'part of'), ('p', 'http://www.wikidata.org/prop/direct/P361'), ('sub', 'http://www.wikidata.org/entity/Q927779')]\n",
      "[('sname', 'taekwondo at the Summer Olympics'), ('prop', 'part of'), ('p', 'http://www.wikidata.org/prop/direct/P361'), ('sub', 'http://www.wikidata.org/entity/Q604756')]\n",
      "[('sname', 'Category:Summer Olympics by year'), ('prop', 'category combines topics'), ('p', 'http://www.wikidata.org/prop/direct/P971'), ('sub', 'http://www.wikidata.org/entity/Q9066881')]\n",
      "[('sname', 'Category:Malta at the Summer Olympics'), ('prop', 'category combines topics'), ('p', 'http://www.wikidata.org/prop/direct/P971'), ('sub', 'http://www.wikidata.org/entity/Q9991315')]\n",
      "[('sname', 'Summer Olympic Games'), ('prop', 'named after'), ('p', 'http://www.wikidata.org/prop/direct/P138'), ('sub', 'http://www.wikidata.org/entity/Q60566409')]\n",
      "[('sname', 'Summer Olympic Games'), ('prop', 'based on'), ('p', 'http://www.wikidata.org/prop/direct/P144'), ('sub', 'http://www.wikidata.org/entity/Q60566409')]\n",
      "[('sname', 'Summer Olympic Games'), ('prop', 'main subject'), ('p', 'http://www.wikidata.org/prop/direct/P921'), ('sub', 'http://www.wikidata.org/entity/Q60566409')]\n",
      "[('sname', 'Category:Summer Olympics pictograms'), ('prop', 'category combines topics'), ('p', 'http://www.wikidata.org/prop/direct/P971'), ('sub', 'http://www.wikidata.org/entity/Q63196724')]\n",
      "[('sname', 'Category:American Virgin Islands at the Summer Olympics'), ('prop', 'category combines topics'), ('p', 'http://www.wikidata.org/prop/direct/P971'), ('sub', 'http://www.wikidata.org/entity/Q63196805')]\n",
      "[('sname', 'Category:Summer Olympics in Paris'), ('prop', 'category combines topics'), ('p', 'http://www.wikidata.org/prop/direct/P971'), ('sub', 'http://www.wikidata.org/entity/Q8825060')]\n",
      "[('sname', 'alpinism at the Olympic Games'), ('prop', 'part of'), ('p', 'http://www.wikidata.org/prop/direct/P361'), ('sub', 'http://www.wikidata.org/entity/Q77304585')]\n",
      "[('sname', 'lacrosse at the Summer Olympics'), ('prop', 'part of'), ('p', 'http://www.wikidata.org/prop/direct/P361'), ('sub', 'http://www.wikidata.org/entity/Q830686')]\n",
      "[('sname', 'jeu de paume at the Summer Olympics'), ('prop', 'part of'), ('p', 'http://www.wikidata.org/prop/direct/P361'), ('sub', 'http://www.wikidata.org/entity/Q3892267')]\n",
      "[('sname', 'figure skating at the Summer Olympics'), ('prop', 'part of'), ('p', 'http://www.wikidata.org/prop/direct/P361'), ('sub', 'http://www.wikidata.org/entity/Q13136588')]\n",
      "[('sname', 'Canada at the Summer Olympics'), ('prop', 'participant in'), ('p', 'http://www.wikidata.org/prop/direct/P1344'), ('sub', 'http://www.wikidata.org/entity/Q16150839')]\n",
      "[('sname', 'Category:Nations at the 1976 Summer Olympics'), ('prop', 'category combines topics'), ('p', 'http://www.wikidata.org/prop/direct/P971'), ('sub', 'http://www.wikidata.org/entity/Q7216852')]\n",
      "[('sname', 'modern pentathlon at the Summer Olympics'), ('prop', 'part of'), ('p', 'http://www.wikidata.org/prop/direct/P361'), ('sub', 'http://www.wikidata.org/entity/Q827016')]\n",
      "[('sname', 'polo at the Summer Olympics'), ('prop', 'part of'), ('p', 'http://www.wikidata.org/prop/direct/P361'), ('sub', 'http://www.wikidata.org/entity/Q582959')]\n",
      "[('sname', 'shooting at the Summer Olympics'), ('prop', 'part of'), ('p', 'http://www.wikidata.org/prop/direct/P361'), ('sub', 'http://www.wikidata.org/entity/Q755148')]\n",
      "[('sname', 'Category:Nations at the 1968 Summer Olympics'), ('prop', 'category combines topics'), ('p', 'http://www.wikidata.org/prop/direct/P971'), ('sub', 'http://www.wikidata.org/entity/Q7029359')]\n",
      "[('sname', 'Category:Congo at the Summer Olympics'), ('prop', 'category combines topics'), ('p', 'http://www.wikidata.org/prop/direct/P971'), ('sub', 'http://www.wikidata.org/entity/Q63196806')]\n",
      "[('sname', 'Category:Republic of China at the Summer Olympics'), ('prop', 'category combines topics'), ('p', 'http://www.wikidata.org/prop/direct/P971'), ('sub', 'http://www.wikidata.org/entity/Q29188187')]\n",
      "[('sname', 'Category:Eritrea at the Summer Olympics by year'), ('prop', 'category combines topics'), ('p', 'http://www.wikidata.org/prop/direct/P971'), ('sub', 'http://www.wikidata.org/entity/Q29594792')]\n",
      "[('sname', 'Hyper Sports'), ('prop', 'main subject'), ('p', 'http://www.wikidata.org/prop/direct/P921'), ('sub', 'http://www.wikidata.org/entity/Q532200')]\n",
      "[('sname', 'Category:Summer Olympics competitors'), ('prop', 'category combines topics'), ('p', 'http://www.wikidata.org/prop/direct/P971'), ('sub', 'http://www.wikidata.org/entity/Q8516747')]\n",
      "[('sname', 'cricket at the Summer Olympics'), ('prop', 'part of'), ('p', 'http://www.wikidata.org/prop/direct/P361'), ('sub', 'http://www.wikidata.org/entity/Q39052122')]\n",
      "[('sname', 'Category:Host cities of the Summer Olympic Games'), ('prop', 'category combines topics'), ('p', 'http://www.wikidata.org/prop/direct/P971'), ('sub', 'http://www.wikidata.org/entity/Q7447755')]\n",
      "[('sname', 'Category:Summer Olympics sports navigational boxes'), ('prop', 'category combines topics'), ('p', 'http://www.wikidata.org/prop/direct/P971'), ('sub', 'http://www.wikidata.org/entity/Q7862168')]\n",
      "[('sname', '2036 Summer Olympics'), ('prop', 'instance of'), ('p', 'http://www.wikidata.org/prop/direct/P31'), ('sub', 'http://www.wikidata.org/entity/Q108045332')]\n",
      "[('sname', 'Category:Summer Olympics in London'), ('prop', 'category combines topics'), ('p', 'http://www.wikidata.org/prop/direct/P971'), ('sub', 'http://www.wikidata.org/entity/Q8825058')]\n",
      "[('sname', 'Category:Olympic taekwondo practitioners by year'), ('prop', 'category combines topics'), ('p', 'http://www.wikidata.org/prop/direct/P971'), ('sub', 'http://www.wikidata.org/entity/Q8895209')]\n",
      "[('sname', 'softball at the Summer Olympics'), ('prop', 'part of'), ('p', 'http://www.wikidata.org/prop/direct/P361'), ('sub', 'http://www.wikidata.org/entity/Q645677')]\n",
      "[('sname', 'roque at the Summer Olympics'), ('prop', 'part of'), ('p', 'http://www.wikidata.org/prop/direct/P361'), ('sub', 'http://www.wikidata.org/entity/Q9322742')]\n",
      "[('sname', 'aquatics at the Summer Olympics'), ('prop', 'part of'), ('p', 'http://www.wikidata.org/prop/direct/P361'), ('sub', 'http://www.wikidata.org/entity/Q3967057')]\n",
      "[('sname', 'judo at the Summer Olympics'), ('prop', 'part of'), ('p', 'http://www.wikidata.org/prop/direct/P361'), ('sub', 'http://www.wikidata.org/entity/Q756057')]\n",
      "[('sname', 'Category:Botswana at the Summer Olympics'), ('prop', 'category combines topics'), ('p', 'http://www.wikidata.org/prop/direct/P971'), ('sub', 'http://www.wikidata.org/entity/Q9514528')]\n",
      "[('sname', 'Category:Summer Olympics flame lighting ceremonies'), ('prop', 'category combines topics'), ('p', 'http://www.wikidata.org/prop/direct/P971'), ('sub', 'http://www.wikidata.org/entity/Q63196722')]\n",
      "[('sname', 'croquet at the Summer Olympics'), ('prop', 'part of'), ('p', 'http://www.wikidata.org/prop/direct/P361'), ('sub', 'http://www.wikidata.org/entity/Q60836663')]\n",
      "[('sname', 'rugby sevens at the Summer Olympics'), ('prop', 'part of'), ('p', 'http://www.wikidata.org/prop/direct/P361'), ('sub', 'http://www.wikidata.org/entity/Q7378334')]\n",
      "[('sname', 'Australia national baseball team at the Summer Olympics'), ('prop', 'participant in'), ('p', 'http://www.wikidata.org/prop/direct/P1344'), ('sub', 'http://www.wikidata.org/entity/Q4823714')]\n",
      "[('sname', 'Category:Sports at the Summer Olympics'), ('prop', 'category combines topics'), ('p', 'http://www.wikidata.org/prop/direct/P971'), ('sub', 'http://www.wikidata.org/entity/Q5615513')]\n",
      "[('sname', \"Category:Women's rowing at the Summer Olympics\"), ('prop', 'category combines topics'), ('p', 'http://www.wikidata.org/prop/direct/P971'), ('sub', 'http://www.wikidata.org/entity/Q28440088')]\n",
      "[('sname', 'waterskiing at the Summer Olympics'), ('prop', 'part of'), ('p', 'http://www.wikidata.org/prop/direct/P361'), ('sub', 'http://www.wikidata.org/entity/Q48832833')]\n",
      "[('sname', 'Category:Summer Olympics memorabilia'), ('prop', 'category combines topics'), ('p', 'http://www.wikidata.org/prop/direct/P971'), ('sub', 'http://www.wikidata.org/entity/Q63196708')]\n",
      "[('sname', 'Category:Summer Olympics cauldrons'), ('prop', 'category combines topics'), ('p', 'http://www.wikidata.org/prop/direct/P971'), ('sub', 'http://www.wikidata.org/entity/Q63196721')]\n",
      "[('sname', 'Category:Panama the Summer Olympics'), ('prop', 'category combines topics'), ('p', 'http://www.wikidata.org/prop/direct/P971'), ('sub', 'http://www.wikidata.org/entity/Q63196809')]\n",
      "[('sname', 'Category:Summer Olympics in Tokyo'), ('prop', 'category combines topics'), ('p', 'http://www.wikidata.org/prop/direct/P971'), ('sub', 'http://www.wikidata.org/entity/Q63197258')]\n",
      "[('sname', 'Category:Summer Olympics templates'), ('prop', 'category combines topics'), ('p', 'http://www.wikidata.org/prop/direct/P971'), ('sub', 'http://www.wikidata.org/entity/Q7678870')]\n",
      "[('sname', 'Category:Eritrea at the Summer Olympics'), ('prop', 'category combines topics'), ('p', 'http://www.wikidata.org/prop/direct/P971'), ('sub', 'http://www.wikidata.org/entity/Q9634624')]\n",
      "[('sname', 'Category:Surfing at the Summer Olympics'), ('prop', 'category combines topics'), ('p', 'http://www.wikidata.org/prop/direct/P971'), ('sub', 'http://www.wikidata.org/entity/Q31964657')]\n",
      "[('sname', 'Category:Summer Olympics navigational boxes'), ('prop', 'category combines topics'), ('p', 'http://www.wikidata.org/prop/direct/P971'), ('sub', 'http://www.wikidata.org/entity/Q29784042')]\n",
      "[('sname', 'baseball at the Summer Olympics'), ('prop', 'part of'), ('p', 'http://www.wikidata.org/prop/direct/P361'), ('sub', 'http://www.wikidata.org/entity/Q476642')]\n",
      "[('sname', 'Category:Olympic badminton players from Brunei'), ('prop', 'category combines topics'), ('p', 'http://www.wikidata.org/prop/direct/P971'), ('sub', 'http://www.wikidata.org/entity/Q26709682')]\n",
      "[('sname', 'racquets at the Summer Olympics'), ('prop', 'part of'), ('p', 'http://www.wikidata.org/prop/direct/P361'), ('sub', 'http://www.wikidata.org/entity/Q77305474')]\n",
      "[('sname', 'Category:Olympic rowing venues'), ('prop', 'category combines topics'), ('p', 'http://www.wikidata.org/prop/direct/P971'), ('sub', 'http://www.wikidata.org/entity/Q15283713')]\n",
      "[('sname', 'skateboarding at the Summer Olympics'), ('prop', 'part of'), ('p', 'http://www.wikidata.org/prop/direct/P361'), ('sub', 'http://www.wikidata.org/entity/Q28446493')]\n",
      "[('sname', 'Category:Preparations for Summer Olympics'), ('prop', 'category combines topics'), ('p', 'http://www.wikidata.org/prop/direct/P971'), ('sub', 'http://www.wikidata.org/entity/Q63196706')]\n",
      "[('sname', 'Category:Korea at the Summer Olympics'), ('prop', 'category combines topics'), ('p', 'http://www.wikidata.org/prop/direct/P971'), ('sub', 'http://www.wikidata.org/entity/Q63196810')]\n",
      "[('sname', 'Category:Summer Olympics in Athens'), ('prop', 'category combines topics'), ('p', 'http://www.wikidata.org/prop/direct/P971'), ('sub', 'http://www.wikidata.org/entity/Q63197257')]\n",
      "[('sname', 'Category:Summer Olympics in Rome'), ('prop', 'category combines topics'), ('p', 'http://www.wikidata.org/prop/direct/P971'), ('sub', 'http://www.wikidata.org/entity/Q63197261')]\n",
      "[('sname', 'aeronautics at the Summer Olympics'), ('prop', 'part of'), ('p', 'http://www.wikidata.org/prop/direct/P361'), ('sub', 'http://www.wikidata.org/entity/Q77305023')]\n"
     ]
    },
    {
     "data": {
      "text/plain": [
       "151"
      ]
     },
     "execution_count": 10,
     "metadata": {},
     "output_type": "execute_result"
    }
   ],
   "source": [
    "#Let's check the incoming properties for \"Olympic Games\" looking also at the staring node name\n",
    "queryString = \"\"\"\n",
    "SELECT DISTINCT ?sname ?prop ?p ?sub\n",
    "WHERE { \n",
    "\n",
    "?sub ?p wd:Q159821 .\n",
    "\n",
    "?p <http://schema.org/name> ?prop .\n",
    "?sub <http://schema.org/name> ?sname .\n",
    "\n",
    "} \n",
    "\"\"\"\n",
    "\n",
    "print(\"Results\")\n",
    "run_query(queryString)"
   ]
  },
  {
   "cell_type": "code",
   "execution_count": 13,
   "id": "27ee9250-c687-42aa-a496-790cbe89c09e",
   "metadata": {},
   "outputs": [
    {
     "name": "stdout",
     "output_type": "stream",
     "text": [
      "Results\n",
      "[('prop', 'described by source'), ('p', 'http://www.wikidata.org/prop/direct/P1343')]\n",
      "[('prop', 'image'), ('p', 'http://www.wikidata.org/prop/direct/P18')]\n",
      "[('prop', 'VIAF ID'), ('p', 'http://www.wikidata.org/prop/direct/P214')]\n",
      "[('prop', 'event interval'), ('p', 'http://www.wikidata.org/prop/direct/P2257')]\n",
      "[('prop', 'GND ID'), ('p', 'http://www.wikidata.org/prop/direct/P227')]\n",
      "[('prop', 'YSO ID'), ('p', 'http://www.wikidata.org/prop/direct/P2347')]\n",
      "[('prop', 'Library of Congress authority ID'), ('p', 'http://www.wikidata.org/prop/direct/P244')]\n",
      "[('prop', 'BabelNet ID'), ('p', 'http://www.wikidata.org/prop/direct/P2581')]\n",
      "[('prop', 'IdRef ID'), ('p', 'http://www.wikidata.org/prop/direct/P269')]\n",
      "[('prop', 'subclass of'), ('p', 'http://www.wikidata.org/prop/direct/P279')]\n",
      "[('prop', 'instance of'), ('p', 'http://www.wikidata.org/prop/direct/P31')]\n",
      "[('prop', 'Quora topic ID'), ('p', 'http://www.wikidata.org/prop/direct/P3417')]\n",
      "[('prop', 'Commons category'), ('p', 'http://www.wikidata.org/prop/direct/P373')]\n",
      "[('prop', 'JSTOR topic ID'), ('p', 'http://www.wikidata.org/prop/direct/P3827')]\n",
      "[('prop', 'opposite of'), ('p', 'http://www.wikidata.org/prop/direct/P461')]\n",
      "[('prop', 'IAB code'), ('p', 'http://www.wikidata.org/prop/direct/P5250')]\n",
      "[('prop', 'has part'), ('p', 'http://www.wikidata.org/prop/direct/P527')]\n",
      "[('prop', 'start time'), ('p', 'http://www.wikidata.org/prop/direct/P580')]\n",
      "[('prop', 'Larousse ID'), ('p', 'http://www.wikidata.org/prop/direct/P6058')]\n",
      "[('prop', 'YSA ID'), ('p', 'http://www.wikidata.org/prop/direct/P6293')]\n",
      "[('prop', 'Freebase ID'), ('p', 'http://www.wikidata.org/prop/direct/P646')]\n",
      "[('prop', 'organizer'), ('p', 'http://www.wikidata.org/prop/direct/P664')]\n",
      "[('prop', 'NKCR AUT ID'), ('p', 'http://www.wikidata.org/prop/direct/P691')]\n",
      "[('prop', 'French Vikidia ID'), ('p', 'http://www.wikidata.org/prop/direct/P7818')]\n",
      "[('prop', 'WorldCat Identities ID'), ('p', 'http://www.wikidata.org/prop/direct/P7859')]\n",
      "[('prop', 'Yle topic ID'), ('p', 'http://www.wikidata.org/prop/direct/P8309')]\n",
      "[('prop', 'KBpedia ID'), ('p', 'http://www.wikidata.org/prop/direct/P8408')]\n",
      "[('prop', \"topic's main category\"), ('p', 'http://www.wikidata.org/prop/direct/P910')]\n",
      "[('prop', 'described at URL'), ('p', 'http://www.wikidata.org/prop/direct/P973')]\n"
     ]
    },
    {
     "data": {
      "text/plain": [
       "29"
      ]
     },
     "execution_count": 13,
     "metadata": {},
     "output_type": "execute_result"
    }
   ],
   "source": [
    "#Let's check the outgoing properties for \"Olympic Games\"\n",
    "queryString = \"\"\"\n",
    "SELECT DISTINCT ?prop ?p\n",
    "WHERE { \n",
    "\n",
    "wd:Q159821 ?p ?obj .\n",
    "\n",
    "?p <http://schema.org/name> ?prop .\n",
    "\n",
    "} \n",
    "\"\"\"\n",
    "\n",
    "print(\"Results\")\n",
    "run_query(queryString)"
   ]
  },
  {
   "cell_type": "markdown",
   "id": "bfe17204-4d93-42d5-9402-ddf8e4030b57",
   "metadata": {},
   "source": [
    "#### Comment \n",
    "From the results I suppose that the property \"part of\" (wdt:P361) is the property to identify the various disciplines"
   ]
  },
  {
   "cell_type": "code",
   "execution_count": 7,
   "id": "aaaa9ec3-958a-400e-a827-c7509be7011e",
   "metadata": {},
   "outputs": [
    {
     "name": "stdout",
     "output_type": "stream",
     "text": [
      "Results\n",
      "[('prop', 'participant in'), ('p', 'http://www.wikidata.org/prop/direct/P1344')]\n",
      "[('prop', 'unmarried partner'), ('p', 'http://www.wikidata.org/prop/direct/P451')]\n",
      "[('prop', 'participant'), ('p', 'http://www.wikidata.org/prop/direct/P710')]\n",
      "[('prop', 'participating team'), ('p', 'http://www.wikidata.org/prop/direct/P1923')]\n",
      "[('prop', 'member of political party'), ('p', 'http://www.wikidata.org/prop/direct/P102')]\n",
      "[('prop', 'partner in business or sport'), ('p', 'http://www.wikidata.org/prop/direct/P1327')]\n",
      "[('prop', 'World Rowing ID (numeric format)'), ('p', 'http://www.wikidata.org/prop/direct/P2091')]\n",
      "[('prop', 'World Rowing ID (UUID format)'), ('p', 'http://www.wikidata.org/prop/direct/P8990')]\n",
      "[('prop', 'part of'), ('p', 'http://www.wikidata.org/prop/direct/P361')]\n",
      "[('prop', 'winner'), ('p', 'http://www.wikidata.org/prop/direct/P1346')]\n",
      "[('prop', 'Wikipedia Library partner ID'), ('p', 'http://www.wikidata.org/prop/direct/P8584')]\n",
      "[('prop', 'International Mathematical Olympiad participant ID'), ('p', 'http://www.wikidata.org/prop/direct/P5819')]\n",
      "[('prop', 'Mediapart tag ID'), ('p', 'http://www.wikidata.org/prop/direct/P6813')]\n",
      "[('prop', 'Académie française award winner ID'), ('p', 'http://www.wikidata.org/prop/direct/P5645')]\n",
      "[('prop', 'EU Research participant ID'), ('p', 'http://www.wikidata.org/prop/direct/P5785')]\n",
      "[('prop', 'Étonnants voyageurs participant ID'), ('p', 'http://www.wikidata.org/prop/direct/P5377')]\n",
      "[('prop', 'winterthur-glossar URL'), ('p', 'http://www.wikidata.org/prop/direct/P6107')]\n",
      "[('prop', 'number of wins'), ('p', 'http://www.wikidata.org/prop/direct/P1355')]\n",
      "[('prop', 'Les Enfoirés participant ID'), ('p', 'http://www.wikidata.org/prop/direct/P5261')]\n",
      "[('prop', 'National Medal of Arts winner ID'), ('p', 'http://www.wikidata.org/prop/direct/P5719')]\n",
      "[('prop', 'has part'), ('p', 'http://www.wikidata.org/prop/direct/P527')]\n",
      "[('prop', 'debut participant'), ('p', 'http://www.wikidata.org/prop/direct/P2318')]\n",
      "[('prop', 'Awards & Winners artist ID'), ('p', 'http://www.wikidata.org/prop/direct/P7184')]\n",
      "[('prop', 'general classification of race participants'), ('p', 'http://www.wikidata.org/prop/direct/P2321')]\n"
     ]
    },
    {
     "data": {
      "text/plain": [
       "24"
      ]
     },
     "execution_count": 7,
     "metadata": {},
     "output_type": "execute_result"
    }
   ],
   "source": [
    "#Let's check the properties for an athlete\n",
    "queryString = \"\"\"\n",
    "SELECT DISTINCT ?prop ?p\n",
    "WHERE { \n",
    "\n",
    "?a wdt:P106/wdt:P279 wd:Q2066131 ;\n",
    "    ?p ?obj .\n",
    "\n",
    "    ?p <http://schema.org/name> ?prop .\n",
    "\n",
    "    FILTER((REGEX(?prop, \"(?i)part.*\")) || (REGEX(?prop, \"(?i)win.*\"))) .  \n",
    "\n",
    "} \n",
    "\"\"\"\n",
    "\n",
    "print(\"Results\")\n",
    "run_query(queryString)"
   ]
  },
  {
   "cell_type": "markdown",
   "id": "7c4d678b-c522-412c-8aed-124025b1a792",
   "metadata": {},
   "source": [
    "#### Comment\n",
    "We have discoverd the properties:\n",
    "    \n",
    "| IRI           | Description   | Role      |\n",
    "| -----------   | -----------   |-----------|\n",
    "| `wdt:P1344`   | partecipant in   | predicate |\n",
    "| `wdt:P710`     | partecipant   | predicate |\n",
    "| `wdt:P1346`    | winner    | predicate |\n",
    "| `wdt:P361`    | part of    | predicate |\n",
    "| `wdt:P31`    | instance of    | predicate |\n",
    "\n",
    "That can be usefull.\n",
    "Let's see the nodes connected to them."
   ]
  },
  {
   "cell_type": "code",
   "execution_count": 15,
   "id": "c614fe33-3629-4904-ac15-5f070ee504bf",
   "metadata": {},
   "outputs": [
    {
     "name": "stdout",
     "output_type": "stream",
     "text": [
      "Results\n",
      "Empty\n"
     ]
    },
    {
     "data": {
      "text/plain": [
       "0"
      ]
     },
     "execution_count": 15,
     "metadata": {},
     "output_type": "execute_result"
    }
   ],
   "source": [
    "#Let's check if there are properties for athlete \n",
    "queryString = \"\"\"\n",
    "SELECT DISTINCT ?prop ?oname ?obj\n",
    "WHERE { \n",
    "\n",
    "?a wdt:P106/wdt:P279 wd:Q2066131 ;\n",
    "    ?p ?obj .\n",
    "?obj wdt:P361 wd:Q159821.\n",
    "\n",
    "    FILTER(?p = wdt:P1344 || ?p = wdt:P710 || ?p = wdt:P1346) .  \n",
    "\n",
    "?p <http://schema.org/name> ?prop .\n",
    "?obj <http://schema.org/name> ?oname .\n",
    "}\n",
    "LIMIT 20\n",
    "\"\"\"\n",
    "\n",
    "print(\"Results\")\n",
    "run_query(queryString)"
   ]
  },
  {
   "cell_type": "markdown",
   "id": "9af73f3e-25ef-41b3-ba9f-817e1bcd58a7",
   "metadata": {},
   "source": [
    "#### Comment\n",
    "There are no athlete related nodes directly connected to \"Olympic Games\" nodes through \"part of\" property, so I need to find another path that connects the disciple with a partecipant/winner"
   ]
  },
  {
   "cell_type": "code",
   "execution_count": 16,
   "id": "6b20966f-ac1b-476b-b281-12334fb0c3d9",
   "metadata": {},
   "outputs": [
    {
     "name": "stdout",
     "output_type": "stream",
     "text": [
      "Results\n",
      "[('prop', 'participant'), ('oname', \"2019 FIFA Women's World Cup\"), ('obj', 'http://www.wikidata.org/entity/Q4630361')]\n",
      "[('prop', 'participant'), ('oname', \"2007 FIFA Women's World Cup\"), ('obj', 'http://www.wikidata.org/entity/Q367805')]\n",
      "[('prop', 'participant'), ('oname', '2012 Summer Olympics'), ('obj', 'http://www.wikidata.org/entity/Q8577')]\n",
      "[('prop', 'participant'), ('oname', '2016 Summer Olympics'), ('obj', 'http://www.wikidata.org/entity/Q8613')]\n",
      "[('prop', 'participant'), ('oname', '2008 Summer Olympics'), ('obj', 'http://www.wikidata.org/entity/Q8567')]\n",
      "[('prop', 'participant'), ('oname', \"FIFA Women's World Cup\"), ('obj', 'http://www.wikidata.org/entity/Q19323')]\n",
      "[('prop', 'participant'), ('oname', 'Eastern Mediterranean Championship Tennis'), ('obj', 'http://www.wikidata.org/entity/Q28739880')]\n",
      "[('prop', 'participant'), ('oname', \"Panhellenic men's and women's tennis championship\"), ('obj', 'http://www.wikidata.org/entity/Q27779355')]\n",
      "[('prop', 'participant'), ('oname', 'football at the 1906 Intercalated Games'), ('obj', 'http://www.wikidata.org/entity/Q775871')]\n",
      "[('prop', 'participant'), ('oname', '1924 Summer Olympics'), ('obj', 'http://www.wikidata.org/entity/Q8132')]\n",
      "[('prop', 'participant'), ('oname', 'tennis at the 1906 Intercalated Games'), ('obj', 'http://www.wikidata.org/entity/Q1069341')]\n",
      "[('prop', 'participant'), ('oname', '1906 Intercalated Games'), ('obj', 'http://www.wikidata.org/entity/Q8105')]\n",
      "[('prop', 'participant'), ('oname', \"2011 FIFA Women's World Cup\"), ('obj', 'http://www.wikidata.org/entity/Q108183')]\n",
      "[('prop', 'participant'), ('oname', \"2015 FIFA Women's World Cup\"), ('obj', 'http://www.wikidata.org/entity/Q911847')]\n",
      "[('prop', 'participant'), ('oname', 'world championship'), ('obj', 'http://www.wikidata.org/entity/Q1344963')]\n",
      "[('prop', 'participant'), ('oname', 'Davis Cup'), ('obj', 'http://www.wikidata.org/entity/Q132377')]\n",
      "[('prop', 'participant'), ('oname', 'French Open'), ('obj', 'http://www.wikidata.org/entity/Q43605')]\n",
      "[('prop', 'participant'), ('oname', '1908 Summer Olympics'), ('obj', 'http://www.wikidata.org/entity/Q8111')]\n",
      "[('prop', 'participant'), ('oname', '1912 Summer Olympics'), ('obj', 'http://www.wikidata.org/entity/Q8118')]\n",
      "[('prop', 'participant'), ('oname', 'Wimbledon Championships'), ('obj', 'http://www.wikidata.org/entity/Q41520')]\n"
     ]
    },
    {
     "data": {
      "text/plain": [
       "20"
      ]
     },
     "execution_count": 16,
     "metadata": {},
     "output_type": "execute_result"
    }
   ],
   "source": [
    "#Let's retrieve a sample of nodes (frist 20 results) connected to the property \"partecipant \" starting from an athlete\n",
    "queryString = \"\"\"\n",
    "SELECT DISTINCT ?prop ?oname ?obj\n",
    "WHERE { \n",
    "\n",
    "?a wdt:P106/wdt:P279 wd:Q2066131 ;\n",
    "    ?p ?obj .\n",
    "\n",
    "    FILTER(?p = wdt:P710) .  \n",
    "\n",
    "?p <http://schema.org/name> ?prop .\n",
    "?obj <http://schema.org/name> ?oname .\n",
    "}\n",
    "LIMIT 20\n",
    "\"\"\"\n",
    "\n",
    "print(\"Results\")\n",
    "run_query(queryString)"
   ]
  },
  {
   "cell_type": "code",
   "execution_count": 17,
   "id": "eef06460-1ef2-464f-a7e4-c4c35d84b493",
   "metadata": {},
   "outputs": [
    {
     "name": "stdout",
     "output_type": "stream",
     "text": [
      "Results\n",
      "[('prop', 'participant in'), ('oname', \"shooting at the 1992 Summer Olympics – men's 50 metre rifle three positions\"), ('obj', 'http://www.wikidata.org/entity/Q17088224')]\n",
      "[('prop', 'participant in'), ('oname', \"2014 Asian Junior Badminton Championships – men's singles\"), ('obj', 'http://www.wikidata.org/entity/Q15741854')]\n",
      "[('prop', 'participant in'), ('oname', \"shooting at the 1996 Summer Olympics – women's 50 metre rifle three positions\"), ('obj', 'http://www.wikidata.org/entity/Q7500802')]\n",
      "[('prop', 'participant in'), ('oname', '2013 Asian Wrestling Championships'), ('obj', 'http://www.wikidata.org/entity/Q15720586')]\n",
      "[('prop', 'participant in'), ('oname', \"cross-country skiing at the 2014 Winter Paralympics – women's 15 km free\"), ('obj', 'http://www.wikidata.org/entity/Q15920784')]\n",
      "[('prop', 'participant in'), ('oname', 'Cross-country skiing at the 2014 Winter Paralympics - Sprint 1 km (female)'), ('obj', 'http://www.wikidata.org/entity/Q15920827')]\n",
      "[('prop', 'participant in'), ('oname', \"cross-country skiing at the 2014 Winter Paralympics – women's 5 km\"), ('obj', 'http://www.wikidata.org/entity/Q15957216')]\n",
      "[('prop', 'participant in'), ('oname', '2016 Archery World Cup'), ('obj', 'http://www.wikidata.org/entity/Q24718021')]\n",
      "[('prop', 'participant in'), ('oname', \"rowing at the 2016 Summer Paralympics – women's single sculls\"), ('obj', 'http://www.wikidata.org/entity/Q26726851')]\n",
      "[('prop', 'participant in'), ('oname', \"1989 Werner Seelenbinder International Badminton Championships – men's singles\"), ('obj', 'http://www.wikidata.org/entity/Q27255674')]\n",
      "[('prop', 'participant in'), ('oname', \"2015 Swiss Badminton Championships – men's singles\"), ('obj', 'http://www.wikidata.org/entity/Q27625686')]\n",
      "[('prop', 'participant in'), ('oname', \"1965 Swiss Badminton Championships – men's doubles\"), ('obj', 'http://www.wikidata.org/entity/Q27626019')]\n",
      "[('prop', 'participant in'), ('oname', \"1997 Swiss Badminton Championships – men's doubles\"), ('obj', 'http://www.wikidata.org/entity/Q27626061')]\n",
      "[('prop', 'participant in'), ('oname', \"1998 Swiss Badminton Championships – men's doubles\"), ('obj', 'http://www.wikidata.org/entity/Q27626062')]\n",
      "[('prop', 'participant in'), ('oname', '1965 Swiss Badminton Championships – mixed doubles'), ('obj', 'http://www.wikidata.org/entity/Q27626410')]\n",
      "[('prop', 'participant in'), ('oname', '1997 Swiss Badminton Championships – mixed doubles'), ('obj', 'http://www.wikidata.org/entity/Q27626452')]\n",
      "[('prop', 'participant in'), ('oname', \"2015 Vietnam International Badminton Championships – women's doubles\"), ('obj', 'http://www.wikidata.org/entity/Q27669798')]\n",
      "[('prop', 'participant in'), ('oname', \"2013 Spanish International Junior Badminton Championships – women's singles\"), ('obj', 'http://www.wikidata.org/entity/Q27864880')]\n",
      "[('prop', 'participant in'), ('oname', \"2013 Spanish International Junior Badminton Championships – women's doubles\"), ('obj', 'http://www.wikidata.org/entity/Q27865047')]\n",
      "[('prop', 'participant in'), ('oname', \"2014 European U17 Badminton Championships – women's doubles\"), ('obj', 'http://www.wikidata.org/entity/Q27867249')]\n"
     ]
    },
    {
     "data": {
      "text/plain": [
       "20"
      ]
     },
     "execution_count": 17,
     "metadata": {},
     "output_type": "execute_result"
    }
   ],
   "source": [
    "#Let's retrieve a sample of nodes connected to the property \"partecipant in\" starting from an athlete\n",
    "\n",
    "queryString = \"\"\"\n",
    "SELECT DISTINCT ?prop ?oname ?obj\n",
    "WHERE { \n",
    "\n",
    "?a wdt:P106/wdt:P279 wd:Q2066131 ;\n",
    "    ?p ?obj .\n",
    "\n",
    "    FILTER(?p = wdt:P1344) .  \n",
    "\n",
    "?p <http://schema.org/name> ?prop .\n",
    "?obj <http://schema.org/name> ?oname .\n",
    "}\n",
    "LIMIT 20\n",
    "\"\"\"\n",
    "\n",
    "print(\"Results\")\n",
    "run_query(queryString)"
   ]
  },
  {
   "cell_type": "code",
   "execution_count": 18,
   "id": "a6e90da7-e634-4ddc-9acf-d4df29a38aff",
   "metadata": {},
   "outputs": [
    {
     "name": "stdout",
     "output_type": "stream",
     "text": [
      "Results\n",
      "[('prop', 'winner'), ('oname', \"2016 World Wrestling Championships – women's freestyle 55 kg\"), ('obj', 'http://www.wikidata.org/entity/Q28406503')]\n",
      "[('prop', 'winner'), ('oname', \"2018 World Wrestling Championships – Women's freestyle 55 kg\"), ('obj', 'http://www.wikidata.org/entity/Q57609226')]\n",
      "[('prop', 'winner'), ('oname', \"FIFA Women's World Cup\"), ('obj', 'http://www.wikidata.org/entity/Q19323')]\n",
      "[('prop', 'winner'), ('oname', '2007 Southeast Asian Games'), ('obj', 'http://www.wikidata.org/entity/Q1209340')]\n",
      "[('prop', 'winner'), ('oname', '2016 Supercopa de España de Baloncesto'), ('obj', 'http://www.wikidata.org/entity/Q24908675')]\n",
      "[('prop', 'winner'), ('oname', 'North American Boxing Federation'), ('obj', 'http://www.wikidata.org/entity/Q1628588')]\n",
      "[('prop', 'winner'), ('oname', 'WWE Raw Tag Team Championship'), ('obj', 'http://www.wikidata.org/entity/Q1059464')]\n",
      "[('prop', 'winner'), ('oname', 'Amsterdam Marathon'), ('obj', 'http://www.wikidata.org/entity/Q478328')]\n",
      "[('prop', 'winner'), ('oname', 'New York City Marathon'), ('obj', 'http://www.wikidata.org/entity/Q752138')]\n",
      "[('prop', 'winner'), ('oname', 'Jean Bouin Road Race'), ('obj', 'http://www.wikidata.org/entity/Q3572871')]\n",
      "[('prop', 'winner'), ('oname', 'Cursa de la Mercè'), ('obj', 'http://www.wikidata.org/entity/Q8352738')]\n",
      "[('prop', 'winner'), ('oname', 'Cursa El Corte Inglés'), ('obj', 'http://www.wikidata.org/entity/Q8352736')]\n",
      "[('prop', 'winner'), ('oname', 'Galician Rally Championship'), ('obj', 'http://www.wikidata.org/entity/Q11680472')]\n",
      "[('prop', 'winner'), ('oname', \"Diving at the 2020 European Aquatics Championships – Women's 10 m platform\"), ('obj', 'http://www.wikidata.org/entity/Q106825114')]\n",
      "[('prop', 'winner'), ('oname', \"United States Women's Amateur Golf Championship\"), ('obj', 'http://www.wikidata.org/entity/Q2286741')]\n"
     ]
    },
    {
     "data": {
      "text/plain": [
       "15"
      ]
     },
     "execution_count": 18,
     "metadata": {},
     "output_type": "execute_result"
    }
   ],
   "source": [
    "#Let's retrieve a sample of nodes connected to the property \"winner\" starting from an athlete\n",
    "queryString = \"\"\"\n",
    "SELECT DISTINCT ?prop ?oname ?obj\n",
    "WHERE { \n",
    "\n",
    "?a wdt:P106/wdt:P279 wd:Q2066131 ;\n",
    "    ?p ?obj .\n",
    "\n",
    "    FILTER(?p = wdt:P1346) .  \n",
    "\n",
    "?p <http://schema.org/name> ?prop .\n",
    "?obj <http://schema.org/name> ?oname .\n",
    "}\n",
    "LIMIT 20\n",
    "\"\"\"\n",
    "\n",
    "print(\"Results\")\n",
    "run_query(queryString)"
   ]
  },
  {
   "cell_type": "code",
   "execution_count": 20,
   "id": "9d6c29ec-a64d-465b-8eed-c529b6c191ee",
   "metadata": {},
   "outputs": [
    {
     "name": "stdout",
     "output_type": "stream",
     "text": [
      "Results\n",
      "[('oname', 'Summer Olympic Games')]\n"
     ]
    },
    {
     "data": {
      "text/plain": [
       "1"
      ]
     },
     "execution_count": 20,
     "metadata": {},
     "output_type": "execute_result"
    }
   ],
   "source": [
    "#Let's check the name of \"Olympic Games\" (wd:Q159821)\n",
    "queryString = \"\"\"\n",
    "SELECT ?oname\n",
    "WHERE { \n",
    "\n",
    "wd:Q159821 <http://schema.org/name> ?oname .\n",
    "}\n",
    "LIMIT 20\n",
    "\"\"\"\n",
    "\n",
    "print(\"Results\")\n",
    "run_query(queryString)"
   ]
  },
  {
   "cell_type": "markdown",
   "id": "13f9ec76-f3e4-4f77-9be5-7e00525697fa",
   "metadata": {},
   "source": [
    "#### Comment\n",
    "\n",
    "So we are talking about Summer Olympic Games when we use (wd:Q159821).\n",
    "\n",
    "Let's try to print the properies related to \"shooting at the 1996 Summer Olympics – women's 50 metre rifle three positions\" (wd:Q7500802) that is probably a competition related to the Olympic games"
   ]
  },
  {
   "cell_type": "code",
   "execution_count": 22,
   "id": "dd9302e0-e453-435c-8b9e-9052f42c5c2a",
   "metadata": {},
   "outputs": [
    {
     "name": "stdout",
     "output_type": "stream",
     "text": [
      "Results\n",
      "[('prop', 'instance of'), ('oname', 'Olympic sporting event'), ('p', 'http://www.wikidata.org/prop/direct/P31'), ('obj', 'http://www.wikidata.org/entity/Q18536594')]\n",
      "[('prop', 'sport'), ('oname', 'shooting sport'), ('p', 'http://www.wikidata.org/prop/direct/P641'), ('obj', 'http://www.wikidata.org/entity/Q206989')]\n",
      "[('prop', 'followed by'), ('oname', \"shooting at the 2000 Summer Olympics – women's 50 metre rifle three positions\"), ('p', 'http://www.wikidata.org/prop/direct/P156'), ('obj', 'http://www.wikidata.org/entity/Q7500819')]\n",
      "[('prop', 'part of'), ('oname', 'shooting at the 1996 Summer Olympics'), ('p', 'http://www.wikidata.org/prop/direct/P361'), ('obj', 'http://www.wikidata.org/entity/Q774254')]\n",
      "[('prop', 'location'), ('oname', 'Wolf Creek Shooting Complex'), ('p', 'http://www.wikidata.org/prop/direct/P276'), ('obj', 'http://www.wikidata.org/entity/Q8029829')]\n",
      "[('prop', 'winner'), ('oname', 'Aleksandra Ivošev'), ('p', 'http://www.wikidata.org/prop/direct/P1346'), ('obj', 'http://www.wikidata.org/entity/Q4715574')]\n",
      "[('prop', 'follows'), ('oname', \"shooting at the 1992 Summer Olympics – women's 50 metre rifle three positions\"), ('p', 'http://www.wikidata.org/prop/direct/P155'), ('obj', 'http://www.wikidata.org/entity/Q7500779')]\n",
      "[('prop', 'number of participants'), ('p', 'http://www.wikidata.org/prop/direct/P1132'), ('obj', '38')]\n",
      "[('prop', 'point in time'), ('p', 'http://www.wikidata.org/prop/direct/P585'), ('obj', '1996-01-01T00:00:00Z')]\n",
      "[('prop', 'Freebase ID'), ('p', 'http://www.wikidata.org/prop/direct/P646'), ('obj', '/m/04ljdrt')]\n",
      "[('prop', 'Olympedia event ID'), ('p', 'http://www.wikidata.org/prop/direct/P9055'), ('obj', '51917')]\n"
     ]
    },
    {
     "data": {
      "text/plain": [
       "11"
      ]
     },
     "execution_count": 22,
     "metadata": {},
     "output_type": "execute_result"
    }
   ],
   "source": [
    "#Let's try to print the properies related to \"shooting at the 1996 Summer Olympics – women's 50 metre rifle three positions\" (wd:Q7500802)\n",
    "queryString = \"\"\"\n",
    "SELECT DISTINCT ?prop ?oname ?p ?obj\n",
    "WHERE { \n",
    "  \n",
    "wd:Q7500802 ?p ?obj .\n",
    "\n",
    "?p <http://schema.org/name> ?prop .\n",
    "OPTIONAL {?obj <http://schema.org/name> ?oname } .\n",
    "}\n",
    "\"\"\"\n",
    "\n",
    "print(\"Results\")\n",
    "run_query(queryString)"
   ]
  },
  {
   "cell_type": "markdown",
   "id": "38711f81-e2ed-493a-825d-4f336d44fbdf",
   "metadata": {},
   "source": [
    "#### Comment\n",
    "We have discovered many interesting things:\n",
    "\n",
    "| IRI           | Description   | Role      |\n",
    "| -----------   | -----------   |-----------|\n",
    "| `wdt:P641`   | sport   | predicate |\n",
    "| `wdt:P361`     | part of   | predicate |\n",
    "| `wdt:P1346`    | winner    | predicate |\n",
    "| `wdt:P585`    | point in time    | predicate |\n",
    "| `wd:Q18536594`    | Olympic sporting event    | node |\n",
    "\n",
    "And so that the \"sport\" property connects a competition with its belonging type of sport.  \n",
    "With the property \"instance of\" we can read the event (and so for example Olympic sporting event) in which the competiton is organized.  \n",
    "With the \"part of\" property is specified the father event and so the event without the speciality (e.g. women's 50 metre rifle three positions).  \n",
    "\"winner\" specifies the athlete that won that speciality. "
   ]
  },
  {
   "cell_type": "code",
   "execution_count": 25,
   "id": "2f6800c9-00e9-4525-a568-3779f37d28bb",
   "metadata": {},
   "outputs": [
    {
     "name": "stdout",
     "output_type": "stream",
     "text": [
      "Results\n",
      "Empty\n"
     ]
    },
    {
     "data": {
      "text/plain": [
       "0"
      ]
     },
     "execution_count": 25,
     "metadata": {},
     "output_type": "execute_result"
    }
   ],
   "source": [
    "# Let's try to find 10 athletes that are \"winner\" of speciality \n",
    "queryString = \"\"\"\n",
    "SELECT DISTINCT ?aname ?prop ?oname ?a ?p ?obj\n",
    "WHERE { \n",
    "\n",
    "?a wdt:P106/wdt:P279 wd:Q2066131 ;\n",
    "    ?p ?obj .\n",
    "?obj wdt:P31 wd:Q18536594 .\n",
    "\n",
    "    FILTER(?p = wdt:P1346) .  \n",
    "\n",
    "?p <http://schema.org/name> ?prop .\n",
    "?a <http://schema.org/name> ?aname .\n",
    "?obj <http://schema.org/name> ?oname .\n",
    "}\n",
    "LIMIT 10\n",
    "\"\"\"\n",
    "\n",
    "print(\"Results\")\n",
    "run_query(queryString)"
   ]
  },
  {
   "cell_type": "markdown",
   "id": "dc7fe6b1-6062-4198-b38c-6787b4ef8308",
   "metadata": {},
   "source": [
    "#### Comment\n",
    "Probably the \"winner\" property doesn't connect an athlete with the Olympic competitions that he/she won. "
   ]
  },
  {
   "cell_type": "code",
   "execution_count": 26,
   "id": "ad757102-784d-4821-a27e-7dadde0f0fc8",
   "metadata": {},
   "outputs": [
    {
     "name": "stdout",
     "output_type": "stream",
     "text": [
      "Results\n",
      "[('aname', 'Tamás Wichmann'), ('prop', 'participant in'), ('oname', \"canoeing at the 1968 Summer Olympics – men's C-2 1000 metres\"), ('a', 'http://www.wikidata.org/entity/Q1464708'), ('p', 'http://www.wikidata.org/prop/direct/P1344'), ('obj', 'http://www.wikidata.org/entity/Q17078738')]\n",
      "[('aname', 'Mikhail Zamotin'), ('prop', 'participant in'), ('oname', \"canoeing at the 1968 Summer Olympics – men's C-2 1000 metres\"), ('a', 'http://www.wikidata.org/entity/Q4185947'), ('p', 'http://www.wikidata.org/prop/direct/P1344'), ('obj', 'http://www.wikidata.org/entity/Q17078738')]\n",
      "[('aname', 'Serghei Covaliov'), ('prop', 'participant in'), ('oname', \"canoeing at the 1968 Summer Olympics – men's C-2 1000 metres\"), ('a', 'http://www.wikidata.org/entity/Q2614951'), ('p', 'http://www.wikidata.org/prop/direct/P1344'), ('obj', 'http://www.wikidata.org/entity/Q17078738')]\n",
      "[('aname', 'Gyula Petrikovics'), ('prop', 'participant in'), ('oname', \"canoeing at the 1968 Summer Olympics – men's C-2 1000 metres\"), ('a', 'http://www.wikidata.org/entity/Q5625588'), ('p', 'http://www.wikidata.org/prop/direct/P1344'), ('obj', 'http://www.wikidata.org/entity/Q17078738')]\n",
      "[('aname', 'Ivan Patzaichin'), ('prop', 'participant in'), ('oname', \"canoeing at the 1968 Summer Olympics – men's C-2 1000 metres\"), ('a', 'http://www.wikidata.org/entity/Q527596'), ('p', 'http://www.wikidata.org/prop/direct/P1344'), ('obj', 'http://www.wikidata.org/entity/Q17078738')]\n",
      "[('aname', 'Naum Prokupets'), ('prop', 'participant in'), ('oname', \"canoeing at the 1968 Summer Olympics – men's C-2 1000 metres\"), ('a', 'http://www.wikidata.org/entity/Q4380444'), ('p', 'http://www.wikidata.org/prop/direct/P1344'), ('obj', 'http://www.wikidata.org/entity/Q17078738')]\n",
      "[('aname', 'Ayumu Hirano'), ('prop', 'participant in'), ('oname', \"snowboarding at the 2014 Winter Olympics – men's halfpipe\"), ('a', 'http://www.wikidata.org/entity/Q4831824'), ('p', 'http://www.wikidata.org/prop/direct/P1344'), ('obj', 'http://www.wikidata.org/entity/Q15055081')]\n",
      "[('aname', 'Iouri Podladchikov'), ('prop', 'participant in'), ('oname', \"snowboarding at the 2014 Winter Olympics – men's halfpipe\"), ('a', 'http://www.wikidata.org/entity/Q679695'), ('p', 'http://www.wikidata.org/prop/direct/P1344'), ('obj', 'http://www.wikidata.org/entity/Q15055081')]\n",
      "[('aname', 'Yoav Cohen'), ('prop', 'participant in'), ('oname', \"sailing at the 2020 Summer Olympics – men's RS:X\"), ('a', 'http://www.wikidata.org/entity/Q102453419'), ('p', 'http://www.wikidata.org/prop/direct/P1344'), ('obj', 'http://www.wikidata.org/entity/Q65229885')]\n",
      "[('aname', 'Brooke Forde'), ('prop', 'participant in'), ('oname', \"swimming at the 2020 Summer Olympics – women's 4 × 200 metre freestyle relay\"), ('a', 'http://www.wikidata.org/entity/Q107303617'), ('p', 'http://www.wikidata.org/prop/direct/P1344'), ('obj', 'http://www.wikidata.org/entity/Q64514190')]\n"
     ]
    },
    {
     "data": {
      "text/plain": [
       "10"
      ]
     },
     "execution_count": 26,
     "metadata": {},
     "output_type": "execute_result"
    }
   ],
   "source": [
    "# Let's try to find 10 athletes that are \"partecipant in\" a speciality \n",
    "queryString = \"\"\"\n",
    "SELECT DISTINCT ?aname ?prop ?oname ?a ?p ?obj\n",
    "WHERE { \n",
    "\n",
    "?a wdt:P106/wdt:P279 wd:Q2066131 ;\n",
    "    ?p ?obj .\n",
    "?obj wdt:P31 wd:Q18536594 .\n",
    "\n",
    "    FILTER(?p = wdt:P1344) .  \n",
    "\n",
    "?p <http://schema.org/name> ?prop .\n",
    "?a <http://schema.org/name> ?aname .\n",
    "?obj <http://schema.org/name> ?oname .\n",
    "}\n",
    "LIMIT 10\n",
    "\"\"\"\n",
    "\n",
    "print(\"Results\")\n",
    "run_query(queryString)"
   ]
  },
  {
   "cell_type": "code",
   "execution_count": 29,
   "id": "f8db3be0-8d19-4a28-9b8b-2437784a2151",
   "metadata": {},
   "outputs": [
    {
     "name": "stdout",
     "output_type": "stream",
     "text": [
      "Results\n",
      "[('aname', 'Saud Al-Zaabi\\u200e'), ('prop', 'participant'), ('oname', \"athletics at the 2016 Summer Olympics – men's 1500 metres\"), ('a', 'http://www.wikidata.org/entity/Q26789004'), ('p', 'http://www.wikidata.org/prop/direct/P710'), ('obj', 'http://www.wikidata.org/entity/Q26219859')]\n",
      "[('aname', 'Shanice van de Sanden'), ('prop', 'participant'), ('oname', \"football at the 2020 Summer Olympics – women's tournament\"), ('a', 'http://www.wikidata.org/entity/Q2277010'), ('p', 'http://www.wikidata.org/prop/direct/P710'), ('obj', 'http://www.wikidata.org/entity/Q62589205')]\n",
      "[('aname', 'Jackie Groenen'), ('prop', 'participant'), ('oname', \"football at the 2020 Summer Olympics – women's tournament\"), ('a', 'http://www.wikidata.org/entity/Q460559'), ('p', 'http://www.wikidata.org/prop/direct/P710'), ('obj', 'http://www.wikidata.org/entity/Q62589205')]\n",
      "[('aname', 'Peter Bol'), ('prop', 'participant'), ('oname', \"athletics at the 2016 Summer Olympics – men's 800 metres\"), ('a', 'http://www.wikidata.org/entity/Q26787425'), ('p', 'http://www.wikidata.org/prop/direct/P710'), ('obj', 'http://www.wikidata.org/entity/Q26212225')]\n"
     ]
    },
    {
     "data": {
      "text/plain": [
       "4"
      ]
     },
     "execution_count": 29,
     "metadata": {},
     "output_type": "execute_result"
    }
   ],
   "source": [
    "# Let's try to find 10 athletes that are \"partecipant\" a speciality \n",
    "queryString = \"\"\"\n",
    "SELECT DISTINCT ?aname ?prop ?oname ?a ?p ?obj\n",
    "WHERE { \n",
    "\n",
    "?a wdt:P106/wdt:P279 wd:Q2066131 ;\n",
    "    ?p ?obj .\n",
    "?obj wdt:P31 wd:Q18536594 .\n",
    "\n",
    "    FILTER(?p = wdt:P710) .  \n",
    "\n",
    "?p <http://schema.org/name> ?prop .\n",
    "?a <http://schema.org/name> ?aname .\n",
    "?obj <http://schema.org/name> ?oname .\n",
    "}\n",
    "LIMIT 10\n",
    "\"\"\"\n",
    "\n",
    "print(\"Results\")\n",
    "run_query(queryString)"
   ]
  },
  {
   "cell_type": "markdown",
   "id": "9c97f19b-1d36-48d8-8e13-319c3f314b50",
   "metadata": {},
   "source": [
    "#### Comment\n",
    "So it seems that te principal property for the partecipation to an Olympic sport event is \"partecipant in\" (wdt:P1344), in fact \"partecipant\" (wdt:710) only retrieves 4 results.  \n",
    "To obtain the information about the BGP we need to do something different, so let's have a try."
   ]
  },
  {
   "cell_type": "code",
   "execution_count": 34,
   "id": "dd08b71b-9670-4f96-b037-3abd761db6e6",
   "metadata": {},
   "outputs": [
    {
     "name": "stdout",
     "output_type": "stream",
     "text": [
      "Results\n",
      "[('aname', 'Benjamin Savšek'), ('winner', 'winner'), ('oname', \"canoeing at the 2020 Summer Olympics – men's slalom C-1\"), ('a', 'http://www.wikidata.org/entity/Q4889209'), ('win', 'http://www.wikidata.org/prop/direct/P1346'), ('obj', 'http://www.wikidata.org/entity/Q76711065')]\n",
      "[('aname', 'Kiran Badloe'), ('winner', 'winner'), ('oname', \"sailing at the 2020 Summer Olympics – men's RS:X\"), ('a', 'http://www.wikidata.org/entity/Q68701450'), ('win', 'http://www.wikidata.org/prop/direct/P1346'), ('obj', 'http://www.wikidata.org/entity/Q65229885')]\n",
      "[('aname', 'Ariarne Titmus'), ('winner', 'winner'), ('oname', \"swimming at the 2020 Summer Olympics – women's 200 metre freestyle\"), ('a', 'http://www.wikidata.org/entity/Q33320896'), ('win', 'http://www.wikidata.org/prop/direct/P1346'), ('obj', 'http://www.wikidata.org/entity/Q64514018')]\n",
      "[('aname', 'Allyson Felix'), ('winner', 'winner'), ('oname', \"athletics at the 2012 Summer Olympics – women's 200 metres\"), ('a', 'http://www.wikidata.org/entity/Q5799'), ('win', 'http://www.wikidata.org/prop/direct/P1346'), ('obj', 'http://www.wikidata.org/entity/Q1798867')]\n",
      "[('aname', 'Kristóf Milák'), ('winner', 'winner'), ('oname', \"swimming at the 2020 Summer Olympics – men's 200 metre butterfly\"), ('a', 'http://www.wikidata.org/entity/Q26262055'), ('win', 'http://www.wikidata.org/prop/direct/P1346'), ('obj', 'http://www.wikidata.org/entity/Q64514014')]\n",
      "[('aname', 'Dalilah Muhammad'), ('winner', 'winner'), ('oname', \"athletics at the 2016 Summer Olympics – women's 400 metres hurdles\"), ('a', 'http://www.wikidata.org/entity/Q9200939'), ('win', 'http://www.wikidata.org/prop/direct/P1346'), ('obj', 'http://www.wikidata.org/entity/Q26233319')]\n",
      "[('aname', 'Hugo Boucheron'), ('winner', 'winner'), ('oname', \"rowing at the 2020 Summer Olympics – men's double sculls\"), ('a', 'http://www.wikidata.org/entity/Q20089281'), ('win', 'http://www.wikidata.org/prop/direct/P1346'), ('obj', 'http://www.wikidata.org/entity/Q62020025')]\n",
      "[('aname', 'Paula Pareto'), ('winner', 'winner'), ('oname', \"judo at the 2016 Summer Olympics – women's 48 kg\"), ('a', 'http://www.wikidata.org/entity/Q2002088'), ('win', 'http://www.wikidata.org/prop/direct/P1346'), ('obj', 'http://www.wikidata.org/entity/Q26212162')]\n",
      "[('aname', 'Petru Iosub'), ('winner', 'winner'), ('oname', \"rowing at the 1984 Summer Olympics – men's coxless pair\"), ('a', 'http://www.wikidata.org/entity/Q7179175'), ('win', 'http://www.wikidata.org/prop/direct/P1346'), ('obj', 'http://www.wikidata.org/entity/Q22964416')]\n",
      "[('aname', 'Aleksandra Ivošev'), ('winner', 'winner'), ('oname', \"shooting at the 1996 Summer Olympics – women's 50 metre rifle three positions\"), ('a', 'http://www.wikidata.org/entity/Q4715574'), ('win', 'http://www.wikidata.org/prop/direct/P1346'), ('obj', 'http://www.wikidata.org/entity/Q7500802')]\n",
      "[('aname', 'Denis Gargaud Chanut'), ('winner', 'winner'), ('oname', \"canoeing at the 2016 Summer Olympics – men's slalom C-1\"), ('a', 'http://www.wikidata.org/entity/Q3022693'), ('win', 'http://www.wikidata.org/prop/direct/P1346'), ('obj', 'http://www.wikidata.org/entity/Q26212275')]\n",
      "[('aname', 'Andy Cruz Gómez'), ('winner', 'winner'), ('oname', \"boxing at the 2020 Summer Olympics – men's lightweight\"), ('a', 'http://www.wikidata.org/entity/Q23061594'), ('win', 'http://www.wikidata.org/prop/direct/P1346'), ('obj', 'http://www.wikidata.org/entity/Q65241536')]\n",
      "[('aname', 'Iouri Podladchikov'), ('winner', 'winner'), ('oname', \"snowboarding at the 2014 Winter Olympics – men's halfpipe\"), ('a', 'http://www.wikidata.org/entity/Q679695'), ('win', 'http://www.wikidata.org/prop/direct/P1346'), ('obj', 'http://www.wikidata.org/entity/Q15055081')]\n",
      "[('aname', 'Malcolm Cooper'), ('winner', 'winner'), ('oname', \"shooting at the 1984 Summer Olympics – men's 50 metre rifle three positions\"), ('a', 'http://www.wikidata.org/entity/Q1360937'), ('win', 'http://www.wikidata.org/prop/direct/P1346'), ('obj', 'http://www.wikidata.org/entity/Q22096632')]\n",
      "[('aname', 'Shi Tingmao'), ('winner', 'winner'), ('oname', \"diving at the 2020 Summer Olympics – women's 3 metre springboard\"), ('a', 'http://www.wikidata.org/entity/Q438559'), ('win', 'http://www.wikidata.org/prop/direct/P1346'), ('obj', 'http://www.wikidata.org/entity/Q65242457')]\n",
      "[('aname', 'Hrachya Petikyan'), ('winner', 'winner'), ('oname', \"shooting at the 1992 Summer Olympics – men's 50 metre rifle three positions\"), ('a', 'http://www.wikidata.org/entity/Q3370732'), ('win', 'http://www.wikidata.org/prop/direct/P1346'), ('obj', 'http://www.wikidata.org/entity/Q17088224')]\n",
      "[('aname', 'Mayu Mukaida'), ('winner', 'winner'), ('oname', \"wrestling at the 2020 Summer Olympics – women's freestyle 53 kg\"), ('a', 'http://www.wikidata.org/entity/Q17624314'), ('win', 'http://www.wikidata.org/prop/direct/P1346'), ('obj', 'http://www.wikidata.org/entity/Q76712523')]\n",
      "[('aname', 'Lasha Shavdatuashvili'), ('winner', 'winner'), ('oname', \"judo at the 2012 Summer Olympics – men's 66 kg\"), ('a', 'http://www.wikidata.org/entity/Q1764908'), ('win', 'http://www.wikidata.org/prop/direct/P1346'), ('obj', 'http://www.wikidata.org/entity/Q932145')]\n",
      "[('aname', 'Karsten Warholm'), ('winner', 'winner'), ('oname', \"athletics at the 2020 Summer Olympics – men's 400 metres hurdles\"), ('a', 'http://www.wikidata.org/entity/Q13900927'), ('win', 'http://www.wikidata.org/prop/direct/P1346'), ('obj', 'http://www.wikidata.org/entity/Q66091473')]\n",
      "[('aname', 'Tom Mackintosh'), ('winner', 'winner'), ('oname', \"rowing at the 2020 Summer Olympics – men's eight\"), ('a', 'http://www.wikidata.org/entity/Q107243268'), ('win', 'http://www.wikidata.org/prop/direct/P1346'), ('obj', 'http://www.wikidata.org/entity/Q62020028')]\n",
      "[('aname', 'Khasan Khalmurzaev'), ('winner', 'winner'), ('oname', \"judo at the 2016 Summer Olympics – men's 81 kg\"), ('a', 'http://www.wikidata.org/entity/Q19918102'), ('win', 'http://www.wikidata.org/prop/direct/P1346'), ('obj', 'http://www.wikidata.org/entity/Q26219832')]\n",
      "[('aname', 'Sakura Yosozumi'), ('winner', 'winner'), ('oname', \"skateboarding at the 2020 Summer Olympics – women's park\"), ('a', 'http://www.wikidata.org/entity/Q56486600'), ('win', 'http://www.wikidata.org/prop/direct/P1346'), ('obj', 'http://www.wikidata.org/entity/Q65243918')]\n",
      "[('aname', 'Wu Minxia'), ('winner', 'winner'), ('oname', \"diving at the 2012 Summer Olympics – women's 3 metre springboard\"), ('a', 'http://www.wikidata.org/entity/Q233779'), ('win', 'http://www.wikidata.org/prop/direct/P1346'), ('obj', 'http://www.wikidata.org/entity/Q28163')]\n",
      "[('aname', 'Valentina Rodini'), ('winner', 'winner'), ('oname', \"rowing at the 2020 Summer Olympics – lightweight women's double sculls\"), ('a', 'http://www.wikidata.org/entity/Q26664080'), ('win', 'http://www.wikidata.org/prop/direct/P1346'), ('obj', 'http://www.wikidata.org/entity/Q62020036')]\n",
      "[('aname', 'Dirk Uittenbogaard'), ('winner', 'winner'), ('oname', \"rowing at the 2020 Summer Olympics – men's quadruple sculls\"), ('a', 'http://www.wikidata.org/entity/Q20993765'), ('win', 'http://www.wikidata.org/prop/direct/P1346'), ('obj', 'http://www.wikidata.org/entity/Q62020029')]\n"
     ]
    },
    {
     "data": {
      "text/plain": [
       "25"
      ]
     },
     "execution_count": 34,
     "metadata": {},
     "output_type": "execute_result"
    }
   ],
   "source": [
    "# Let's try to find 10 athletes that won an olympic sport event, so starting from the event node let's see the node connected to it through \"winner\" property \n",
    "queryString = \"\"\"\n",
    "SELECT DISTINCT ?aname ?winner ?oname ?a ?win ?obj\n",
    "WHERE { \n",
    "\n",
    "?a wdt:P106/wdt:P279 wd:Q2066131 ;\n",
    "    ?p ?obj .\n",
    "?obj wdt:P31 wd:Q18536594 ;\n",
    "    ?win ?a .\n",
    "\n",
    "FILTER(?p = wdt:P710 || ?p = wdt:P1344) . \n",
    "FILTER(?win = wdt:P1346) .\n",
    "\n",
    "#?p <http://schema.org/name> ?prop .\n",
    "?win <http://schema.org/name> ?winner .\n",
    "?a <http://schema.org/name> ?aname .\n",
    "?obj <http://schema.org/name> ?oname .\n",
    "}\n",
    "LIMIT 25\n",
    "\"\"\"\n",
    "\n",
    "print(\"Results\")\n",
    "run_query(queryString)"
   ]
  },
  {
   "cell_type": "markdown",
   "id": "4f762c22-c172-4ff3-b0d3-18bc6ab52169",
   "metadata": {},
   "source": [
    "#### Comment\n",
    "\n",
    "We have obtained the desired result and so we can write the BGP that satisfies the task."
   ]
  },
  {
   "cell_type": "code",
   "execution_count": 40,
   "id": "64b1a3c3-00a1-40ae-b1ef-40b7761981cd",
   "metadata": {},
   "outputs": [
    {
     "name": "stdout",
     "output_type": "stream",
     "text": [
      "Results\n",
      "[('aname', \"A'ja Wilson\"), ('do', 'participant in'), ('oname', \"basketball at the 2020 Summer Olympics – women's tournament\")]\n",
      "[('aname', 'A. Kordonis'), ('do', 'participant in'), ('oname', 'rowing at the 1906 Intercalated Games – 6 men naval boat')]\n",
      "[('aname', 'A. Lambrecht'), ('do', 'participant in'), ('oname', \"rowing at the 1928 Summer Olympics – men's eight\")]\n",
      "[('aname', 'Aage Larsen'), ('do', 'participant in'), ('oname', \"rowing at the 1948 Summer Olympics – men's double sculls\")]\n",
      "[('aname', 'Aage Larsen'), ('do', 'participant in'), ('oname', \"rowing at the 1952 Summer Olympics – men's double sculls\")]\n",
      "[('aname', 'Aaliyah Edwards'), ('do', 'participant in'), ('oname', \"basketball at the 2020 Summer Olympics – women's tournament\")]\n",
      "[('aname', 'Aarne Lindroos'), ('do', 'participant in'), ('oname', \"rowing at the 1988 Summer Olympics – men's coxless pair\")]\n",
      "[('aname', 'Aarne Lindroos'), ('do', 'participant in'), ('oname', \"rowing at the 1984 Summer Olympics – men's double sculls\")]\n",
      "[('aname', 'Aaron Brown'), ('do', 'participant in'), ('oname', \"athletics at the 2016 Summer Olympics – men's 4 × 100 metres relay\")]\n",
      "[('aname', 'Aaron Brown'), ('do', 'participant in'), ('oname', 'athletics at the 2016 Summer Olympics')]\n",
      "[('aname', 'Aaron Brown'), ('do', 'participant in'), ('oname', \"athletics at the 2020 Summer Olympics – men's 200 metres\")]\n",
      "[('aname', 'Aaron Brown'), ('do', 'participant in'), ('oname', \"athletics at the 2020 Summer Olympics – men's 4 × 100 metres relay\")]\n",
      "[('aname', 'Aaron Chia Teng Fong'), ('do', 'participant in'), ('oname', \"badminton at the 2020 Summer Olympics – men's doubles\")]\n",
      "[('aname', 'Aaron Gate'), ('do', 'participant in, winner'), ('oname', \"cycling at the 2012 Summer Olympics – men's team pursuit\")]\n",
      "[('aname', 'Aaron Gate'), ('do', 'participant in'), ('oname', \"cycling at the 2016 Summer Olympics – men's team pursuit\")]\n",
      "[('aname', 'Aaron Gate'), ('do', 'participant in'), ('oname', \"cycling at the 2020 Summer Olympics – men's team pursuit\")]\n",
      "[('aname', 'Aaron Geramipoor'), ('do', 'participant in'), ('oname', \"basketball at the 2020 Summer Olympics – men's tournament\")]\n",
      "[('aname', 'Aaron Heading'), ('do', 'participant in'), ('oname', \"shooting at the 2020 Summer Olympics – men's trap\")]\n",
      "[('aname', 'Aaron Herman'), ('do', 'participant in'), ('oname', \"rowing at the 1972 Summer Olympics – men's coxed pair\")]\n",
      "[('aname', 'Aaron Peirsol'), ('do', 'participant in'), ('oname', \"swimming at the 2008 Summer Olympics – men's 200 metre backstroke\")]\n",
      "[('aname', 'Aaron Peirsol'), ('do', 'participant in'), ('oname', \"swimming at the 2004 Summer Olympics – men's 4 × 100 metre medley relay\")]\n",
      "[('aname', 'Aaron Peirsol'), ('do', 'participant in, winner'), ('oname', \"swimming at the 2008 Summer Olympics – men's 100 metre backstroke\")]\n",
      "[('aname', 'Aaron Peirsol'), ('do', 'participant in'), ('oname', \"swimming at the 2000 Summer Olympics – men's 200 metre backstroke\")]\n",
      "[('aname', 'Aaron Peirsol'), ('do', 'participant in'), ('oname', \"swimming at the 2008 Summer Olympics – men's 4 × 100 metre medley relay\")]\n",
      "[('aname', 'Aaron Peirsol'), ('do', 'participant in, winner'), ('oname', \"swimming at the 2004 Summer Olympics – men's 100 metre backstroke\")]\n"
     ]
    },
    {
     "data": {
      "text/plain": [
       "25"
      ]
     },
     "execution_count": 40,
     "metadata": {},
     "output_type": "execute_result"
    }
   ],
   "source": [
    "# Let's try to find 10 athletes that partecipated in or won or both an olympic sport event \n",
    "queryString = \"\"\"\n",
    "SELECT DISTINCT ?aname (GROUP_CONCAT(DISTINCT ?prop ; separator = \", \") AS ?do) ?oname\n",
    "WHERE { \n",
    "{\n",
    "\n",
    "?a wdt:P106/wdt:P279 wd:Q2066131 ;\n",
    "    ?p ?obj .\n",
    "?obj wdt:P31 wd:Q18536594 .\n",
    "\n",
    "FILTER(?p = wdt:P710 || ?p = wdt:P1344) .\n",
    "\n",
    "}\n",
    "UNION\n",
    "{\n",
    "\n",
    "?a wdt:P106/wdt:P279 wd:Q2066131 ;\n",
    "    ?rel ?obj .\n",
    "?obj wdt:P31 wd:Q18536594 ;\n",
    "    ?p ?a .\n",
    "FILTER(?p = wdt:P1346) .\n",
    "\n",
    "}\n",
    "?p <http://schema.org/name> ?prop .\n",
    "#?win <http://schema.org/name> ?winner .\n",
    "?a <http://schema.org/name> ?aname .\n",
    "?obj <http://schema.org/name> ?oname .\n",
    "}\n",
    "GROUP BY ?aname ?oname\n",
    "ORDER BY ASC (?aname)\n",
    "LIMIT 25\n",
    "\"\"\"\n",
    "\n",
    "print(\"Results\")\n",
    "run_query(queryString)"
   ]
  },
  {
   "cell_type": "markdown",
   "id": "a61ccf92-3520-4998-9a34-2b35d4b58f3f",
   "metadata": {},
   "source": [
    "#### Comment\n",
    "As we can see for each athlete it's printed if it has \"partecipated in\" and eventually won an Olympic sport event printing also the relative competition\n",
    "\n",
    "The corresponding BGP is:\n",
    "```\n",
    "\n",
    "?a wdt:P106/wdt:P279 wd:Q2066131 ;\n",
    "    ?p ?obj .\n",
    "?obj wdt:P31 wd:Q18536594 .\n",
    "\n",
    "FILTER(?p = wdt:P710 || ?p = wdt:P1344) .\n",
    "\n",
    "}\n",
    "UNION\n",
    "{\n",
    "\n",
    "?a wdt:P106/wdt:P279 wd:Q2066131 ;\n",
    "    ?rel ?obj .\n",
    "?obj wdt:P31 wd:Q18536594 ;\n",
    "    ?p ?a .\n",
    "FILTER(?p = wdt:P1346) .\n",
    "\n",
    "```\n",
    "\n",
    "Or\n",
    "\n",
    "```\n",
    "?a wdt:P106/wdt:P279 wd:Q2066131 ;\n",
    "    wdt:P710|wdt:P1344 ?obj .\n",
    "?obj wdt:P31 wd:Q18536594 .\n",
    "\n",
    "}\n",
    "UNION\n",
    "{\n",
    "\n",
    "?a wdt:P106/wdt:P279 wd:Q2066131 ;\n",
    "    ?rel ?obj .\n",
    "?obj wdt:P31 wd:Q18536594 ;\n",
    "    wdt:P1346 ?a .\n",
    "\n",
    "```\n",
    "\n",
    "The filter and the GROUP_CONCAT constructs are used only for having a better visualization of the results. "
   ]
  },
  {
   "cell_type": "markdown",
   "id": "457104c5-33d9-4756-948a-aacc3b8d3e92",
   "metadata": {},
   "source": [
    "## Task 2\n",
    "2. Identify the BGP for different sports or types of competitions"
   ]
  },
  {
   "cell_type": "markdown",
   "id": "048e2e3a-1908-4c2f-a0af-6499ea554291",
   "metadata": {},
   "source": [
    "#### Comment\n",
    "I don't know if I understand well the text of the task but I'm going to print the different Olympic sports or different types of competition"
   ]
  },
  {
   "cell_type": "code",
   "execution_count": 42,
   "id": "d5bf8676-e32f-45c0-b85c-cad67ea0bd18",
   "metadata": {},
   "outputs": [
    {
     "name": "stdout",
     "output_type": "stream",
     "text": [
      "Results\n",
      "[('prop', 'part of'), ('result', 'diving at the 1932 Summer Olympics')]\n",
      "[('prop', 'part of'), ('result', 'diving at the 1920 Summer Olympics')]\n",
      "[('prop', 'part of'), ('result', 'field hockey at the 2008 Summer Olympics')]\n",
      "[('prop', 'part of'), ('result', 'diving at the 1984 Summer Olympics')]\n",
      "[('prop', 'part of'), ('result', 'water motorsports at the 1908 Summer Olympics')]\n",
      "[('prop', 'part of'), ('result', 'equestrian at the 1996 Summer Olympics')]\n",
      "[('prop', 'part of'), ('result', 'wrestling at the 1936 Summer Olympics')]\n",
      "[('prop', 'part of'), ('result', 'gymnastics at the 1936 Summer Olympics')]\n",
      "[('prop', 'part of'), ('result', 'wrestling at the 1948 Summer Olympics')]\n",
      "[('prop', 'part of'), ('result', 'ice hockey at the 1984 Winter Olympics')]\n",
      "[('prop', 'part of'), ('result', 'rowing at the 1988 Summer Olympics')]\n",
      "[('prop', 'part of'), ('result', 'rowing at the 1960 Summer Olympics')]\n",
      "[('prop', 'part of'), ('result', 'rowing at the 1976 Summer Olympics')]\n",
      "[('prop', 'part of'), ('result', 'rowing at the 1968 Summer Olympics')]\n",
      "[('prop', 'part of'), ('result', 'rowing at the 1984 Summer Olympics')]\n",
      "[('prop', 'part of'), ('result', 'boxing at the 2016 Summer Olympics')]\n",
      "[('prop', 'part of'), ('result', 'artistic gymnastics at the 2016 Summer Olympics')]\n",
      "[('prop', 'part of'), ('result', 'boxing at the 1956 Summer Olympics')]\n",
      "[('prop', 'part of'), ('result', 'badminton at the 1988 Summer Olympics')]\n",
      "[('prop', 'part of'), ('result', 'badminton at the 1972 Summer Olympics')]\n",
      "[('prop', 'part of'), ('result', 'synchronized swimming at the 2016 Summer Olympics')]\n",
      "[('prop', 'part of'), ('result', 'athletics at the 1972 Summer Olympics')]\n",
      "[('prop', 'part of'), ('result', 'alpine skiing at the 2018 Winter Olympics')]\n",
      "[('prop', 'part of'), ('result', 'curling at the 1998 Winter Olympics')]\n",
      "[('prop', 'part of'), ('result', 'athletics at the 1956 Summer Olympics')]\n"
     ]
    },
    {
     "data": {
      "text/plain": [
       "25"
      ]
     },
     "execution_count": 42,
     "metadata": {},
     "output_type": "execute_result"
    }
   ],
   "source": [
    "# For each competition let's print the sport and the type of competition let's limiti the results at the first 25, in fact we need only an example\n",
    "queryString = \"\"\"\n",
    "SELECT DISTINCT ?prop ?result\n",
    "WHERE { \n",
    "\n",
    "?obj wdt:P31 wd:Q18536594 ;\n",
    "    ?p ?res .\n",
    "    \n",
    "    FILTER(?p = wdt:P641 || ?p = wdt:P361) .\n",
    "\n",
    "?p <http://schema.org/name> ?prop .\n",
    "?res <http://schema.org/name> ?result .\n",
    "}\n",
    "LIMIT 25\n",
    "\"\"\"\n",
    "\n",
    "print(\"Results\")\n",
    "run_query(queryString)"
   ]
  },
  {
   "cell_type": "markdown",
   "id": "aada76c6-ff0f-4bf3-bba2-668f8d886881",
   "metadata": {},
   "source": [
    "#### Comment\n",
    "So the BGP to retrieve the different sports or type of competitions is:\n",
    "```\n",
    "\n",
    "?obj wdt:P31 wd:Q18536594 ;\n",
    "    ?p ?res .\n",
    "    \n",
    "    FILTER(?p = wdt:P641 || ?p = wdt:P361) .\n",
    "\n",
    "```\n",
    "\n",
    "Or\n",
    "\n",
    "```\n",
    "\n",
    "?obj wdt:P31 wd:Q18536594 ;\n",
    "    wdt:P641|wdt:P361 ?res .\n",
    "\n",
    "```\n",
    "The filter construct is used only for having a better visualization of the results, in fact it can print the name of the property that connects the two nodes. "
   ]
  },
  {
   "cell_type": "markdown",
   "id": "02cf6d0f-39e8-4b86-aad2-ec851f4e9778",
   "metadata": {},
   "source": [
    "## Task 3\n",
    "3. Is there some French or German Athlete participating to any olympic event with double citizenship?"
   ]
  },
  {
   "cell_type": "code",
   "execution_count": 51,
   "id": "2165a384-24ed-45f5-923c-f1b32bd8fa10",
   "metadata": {
    "collapsed": true,
    "jupyter": {
     "outputs_hidden": true
    },
    "tags": []
   },
   "outputs": [
    {
     "name": "stdout",
     "output_type": "stream",
     "text": [
      "Results\n",
      "[('aname', 'Achim Hill'), ('num', '2')]\n",
      "[('aname', 'Adrian Hoesch'), ('num', '2')]\n",
      "[('aname', 'Albrecht Müller'), ('num', '2')]\n",
      "[('aname', 'Albrecht Wehselau'), ('num', '2')]\n",
      "[('aname', 'Aleksander Cichoń'), ('num', '2')]\n",
      "[('aname', 'Alexander Schuck'), ('num', '2')]\n",
      "[('aname', 'Ampelio Sartor'), ('num', '2')]\n",
      "[('aname', 'Andrea Eife'), ('num', '2')]\n",
      "[('aname', 'Andrea Heim'), ('num', '2')]\n",
      "[('aname', 'Andrea Pollack'), ('num', '2')]\n",
      "[('aname', 'Andreas Ihle'), ('num', '2')]\n",
      "[('aname', 'Andreas Knebel'), ('num', '2')]\n",
      "[('aname', 'Andreas Schröder'), ('num', '2')]\n",
      "[('aname', 'Andreas Stähle'), ('num', '2')]\n",
      "[('aname', 'Andreas Wank'), ('num', '2')]\n",
      "[('aname', 'André Wohllebe'), ('num', '2')]\n",
      "[('aname', 'André-Pierre Gignac'), ('num', '2')]\n",
      "[('aname', 'Anett Schuck'), ('num', '2')]\n",
      "[('aname', 'Angela Franke'), ('num', '2')]\n",
      "[('aname', 'Angelika Bahmann'), ('num', '2')]\n",
      "[('aname', 'Anita Nüßner'), ('num', '2')]\n",
      "[('aname', 'Anke Behmer'), ('num', '2')]\n",
      "[('aname', 'Anke Möhring'), ('num', '2')]\n",
      "[('aname', 'Anke Westendorf'), ('num', '2')]\n",
      "[('aname', 'Anke von Seck'), ('num', '2')]\n",
      "[('aname', 'Annelie Ehrhardt'), ('num', '2')]\n",
      "[('aname', 'Annette Schultz'), ('num', '2')]\n",
      "[('aname', 'Antje Stille'), ('num', '2')]\n",
      "[('aname', 'Ariane Radfan'), ('num', '2')]\n",
      "[('aname', 'Aristide Sartor'), ('num', '2')]\n",
      "[('aname', 'Arnold Schulz'), ('num', '2')]\n",
      "[('aname', 'Assmaa Niang'), ('num', '2')]\n",
      "[('aname', 'Astrid Ayling'), ('num', '2')]\n",
      "[('aname', 'Astrid Kumbernuss'), ('num', '2')]\n",
      "[('aname', 'Axel Peschel'), ('num', '2')]\n",
      "[('aname', 'Axel Wegner'), ('num', '2')]\n",
      "[('aname', 'Barbara Czekalla'), ('num', '2')]\n",
      "[('aname', 'Barbara Göbel'), ('num', '2')]\n",
      "[('aname', 'Barbara Krug'), ('num', '2')]\n",
      "[('aname', 'Beate Koch'), ('num', '2')]\n",
      "[('aname', 'Bernd Barleben'), ('num', '2')]\n",
      "[('aname', 'Bernd Dittert'), ('num', '2')]\n",
      "[('aname', 'Bernd Drogan'), ('num', '2')]\n",
      "[('aname', 'Bernd Duvigneau'), ('num', '2')]\n",
      "[('aname', 'Bernd Hartstein'), ('num', '2')]\n",
      "[('aname', 'Bernd Olbricht'), ('num', '2')]\n",
      "[('aname', 'Bernhard Eckstein'), ('num', '2')]\n",
      "[('aname', 'Bernhard Germeshausen'), ('num', '2')]\n",
      "[('aname', 'Bernhard Glass'), ('num', '2')]\n",
      "[('aname', 'Bernhard Hochwald'), ('num', '2')]\n",
      "[('aname', 'Bernhard Lehmann'), ('num', '2')]\n",
      "[('aname', 'Bettina Schmidt'), ('num', '2')]\n",
      "[('aname', 'Bettine Jahn'), ('num', '2')]\n",
      "[('aname', 'Birgit Fischer'), ('num', '2')]\n",
      "[('aname', 'Birgit Heinecke'), ('num', '2')]\n",
      "[('aname', 'Birgit Treiber'), ('num', '2')]\n",
      "[('aname', 'Birte Weigang'), ('num', '2')]\n",
      "[('aname', 'Bogdan Musioł'), ('num', '3')]\n",
      "[('aname', 'Brigitte Ahrenholz'), ('num', '2')]\n",
      "[('aname', 'Brigitte Fetzer'), ('num', '2')]\n",
      "[('aname', 'Brigitte Rohde'), ('num', '2')]\n",
      "[('aname', 'Brita Baldus'), ('num', '2')]\n",
      "[('aname', 'Britta Steffen'), ('num', '2')]\n",
      "[('aname', 'Brooke Raboutou'), ('num', '2')]\n",
      "[('aname', 'Bruno Rossetti'), ('num', '2')]\n",
      "[('aname', 'Burglinde Pollak'), ('num', '2')]\n",
      "[('aname', 'Bärbel Fuhrmann'), ('num', '2')]\n",
      "[('aname', 'Bärbel Köster'), ('num', '2')]\n",
      "[('aname', 'Caren Metschuck'), ('num', '2')]\n",
      "[('aname', 'Carla Bodendorf'), ('num', '2')]\n",
      "[('aname', 'Carmela Schmidt'), ('num', '2')]\n",
      "[('aname', 'Carola Zirzow'), ('num', '2')]\n",
      "[('aname', 'Carsta Genäuß'), ('num', '2')]\n",
      "[('aname', 'Christa Köhler'), ('num', '2')]\n",
      "[('aname', 'Christa Luding'), ('num', '2')]\n",
      "[('aname', 'Christel Steffin'), ('num', '2')]\n",
      "[('aname', 'Christian Gille'), ('num', '2')]\n",
      "[('aname', 'Christian Reitz'), ('num', '2')]\n",
      "[('aname', 'Christiane Knacke'), ('num', '2')]\n",
      "[('aname', 'Christiane Lanzke'), ('num', '2')]\n",
      "[('aname', 'Christina Heinich'), ('num', '2')]\n",
      "[('aname', 'Christina Rost'), ('num', '2')]\n",
      "[('aname', 'Christina Schwanitz'), ('num', '2')]\n",
      "[('aname', 'Christina Voß'), ('num', '2')]\n",
      "[('aname', 'Christine Herbst'), ('num', '2')]\n",
      "[('aname', 'Christine Mummhardt'), ('num', '2')]\n",
      "[('aname', 'Christoph Höhne'), ('num', '2')]\n",
      "[('aname', 'Claudia Hempel'), ('num', '2')]\n",
      "[('aname', 'Claudia Wunderlich'), ('num', '2')]\n",
      "[('aname', 'Claus Heß'), ('num', '2')]\n",
      "[('aname', 'Claus Wilke'), ('num', '2')]\n",
      "[('aname', 'Conny Waßmuth'), ('num', '2')]\n",
      "[('aname', 'Cornelia Oschkenat'), ('num', '2')]\n",
      "[('aname', 'Cornelia Pfohl'), ('num', '2')]\n",
      "[('aname', 'Cornelia Polit'), ('num', '2')]\n",
      "[('aname', 'Cornelia Sirch'), ('num', '2')]\n",
      "[('aname', 'Célia Jodar'), ('num', '2')]\n",
      "[('aname', 'Dagmar Hase'), ('num', '2')]\n",
      "[('aname', 'Dagmar Käsling'), ('num', '2')]\n",
      "[('aname', 'Daniel Kunce'), ('num', '2')]\n",
      "[('aname', 'Daniela Hunger'), ('num', '2')]\n",
      "[('aname', 'Detlef Kästner'), ('num', '2')]\n",
      "[('aname', 'Detlef Michel'), ('num', '2')]\n",
      "[('aname', 'Detlev Grabs'), ('num', '2')]\n",
      "[('aname', 'Dieter Berg'), ('num', '2')]\n",
      "[('aname', 'Dieter Krause'), ('num', '2')]\n",
      "[('aname', 'Dieter Lindner'), ('num', '2')]\n",
      "[('aname', 'Dietmar Hötger'), ('num', '2')]\n",
      "[('aname', 'Dietmar Lorenz'), ('num', '2')]\n",
      "[('aname', 'Dietmar Schauerhammer'), ('num', '2')]\n",
      "[('aname', 'Dietmar Schmidt'), ('num', '2')]\n",
      "[('aname', 'Dirk Meier'), ('num', '2')]\n",
      "[('aname', 'Dirk Richter'), ('num', '2')]\n",
      "[('aname', 'Eberhard Weise'), ('num', '2')]\n",
      "[('aname', 'Eckehard Pietzsch'), ('num', '2')]\n",
      "[('aname', 'Eckhard Leue'), ('num', '2')]\n",
      "[('aname', 'Egon Adler'), ('num', '2')]\n",
      "[('aname', 'Egon Henninger'), ('num', '2')]\n",
      "[('aname', 'Elke Markwort'), ('num', '2')]\n",
      "[('aname', 'Elke Sehmisch'), ('num', '2')]\n",
      "[('aname', 'Ellen Fiedler'), ('num', '2')]\n",
      "[('aname', 'Emmerich Rath'), ('num', '3')]\n",
      "[('aname', 'Erich Hagen'), ('num', '2')]\n",
      "[('aname', 'Ernst Berndt'), ('num', '3')]\n",
      "[('aname', 'Ernst Gerlach'), ('num', '2')]\n",
      "[('aname', 'Eva Paskuy'), ('num', '2')]\n",
      "[('aname', 'Eva-Maria ten Elsen'), ('num', '2')]\n",
      "[('aname', 'Evelin Jahl'), ('num', '2')]\n",
      "[('aname', 'Evelin Kaufer'), ('num', '2')]\n",
      "[('aname', 'Evelyn Matz'), ('num', '2')]\n",
      "[('aname', 'Falk Boden'), ('num', '2')]\n",
      "[('aname', 'Falk Hoffmann'), ('num', '2')]\n",
      "[('aname', 'Filip Adamski'), ('num', '2')]\n",
      "[('aname', 'Frank Baltrusch'), ('num', '2')]\n",
      "[('aname', 'Frank Baumgartl'), ('num', '2')]\n",
      "[('aname', 'Frank Forberger'), ('num', '2')]\n",
      "[('aname', 'Frank Kugler'), ('num', '2')]\n",
      "[('aname', 'Frank Luck'), ('num', '2')]\n",
      "[('aname', 'Frank Paschek'), ('num', '2')]\n",
      "[('aname', 'Frank Pfütze'), ('num', '2')]\n",
      "[('aname', 'Frank Wartenberg'), ('num', '2')]\n",
      "[('aname', 'Frank Wiegand'), ('num', '2')]\n",
      "[('aname', 'Frank-Michael Wahl'), ('num', '2')]\n",
      "[('aname', 'Frank-Peter Bischof'), ('num', '2')]\n",
      "[('aname', 'Franziska Hentke'), ('num', '2')]\n",
      "[('aname', 'Franziska van Almsick'), ('num', '2')]\n",
      "[('aname', 'Friedrich Janke'), ('num', '2')]\n",
      "[('aname', 'Gabby Williams'), ('num', '2')]\n",
      "[('aname', 'Gabriele Badorek'), ('num', '2')]\n",
      "[('aname', 'Gabriele Hinzmann'), ('num', '2')]\n",
      "[('aname', 'Gabriele Löwe'), ('num', '2')]\n",
      "[('aname', 'Gabriele Perthes'), ('num', '2')]\n",
      "[('aname', 'Gabriele Wetzko'), ('num', '2')]\n",
      "[('aname', 'Georg Niermann'), ('num', '2')]\n",
      "[('aname', 'Gerald Mortag'), ('num', '2')]\n",
      "[('aname', 'Gerd Wessig'), ('num', '2')]\n",
      "[('aname', 'Gerhard Füssmann'), ('num', '2')]\n",
      "[('aname', 'Gerhard Schulz'), ('num', '2')]\n",
      "[('aname', 'Gisela Weiß'), ('num', '2')]\n",
      "[('aname', 'Grit Naumann'), ('num', '2')]\n",
      "[('aname', 'Gudrun Wegner'), ('num', '2')]\n",
      "[('aname', 'Gunther Kaschlun'), ('num', '2')]\n",
      "[('aname', 'Gustav-Adolf Schur'), ('num', '2')]\n",
      "[('aname', 'Günter Dreibrodt'), ('num', '2')]\n",
      "[('aname', 'Günter Havenstein'), ('num', '2')]\n",
      "[('aname', 'Günter Lörke'), ('num', '2')]\n",
      "[('aname', 'Günter Perleberg'), ('num', '3')]\n",
      "[('aname', 'Günther Karl'), ('num', '2')]\n",
      "[('aname', 'Hagen Melzer'), ('num', '2')]\n",
      "[('aname', 'Hamsat Shadalov'), ('num', '2')]\n",
      "[('aname', 'Hannelore Anke'), ('num', '2')]\n",
      "[('aname', 'Hannelore Burosch'), ('num', '2')]\n",
      "[('aname', 'Hannelore Zober'), ('num', '2')]\n",
      "[('aname', 'Hans Ziglarski'), ('num', '2')]\n",
      "[('aname', 'Hans-Dieter Brüchert'), ('num', '2')]\n",
      "[('aname', 'Hans-Georg Beyer'), ('num', '2')]\n",
      "[('aname', 'Hans-Georg Jaunich'), ('num', '2')]\n",
      "[('aname', 'Hans-Georg Reimann'), ('num', '2')]\n",
      "[('aname', 'Hans-Joachim Hartnick'), ('num', '2')]\n",
      "[('aname', 'Hans-Jörg Bliesener'), ('num', '2')]\n",
      "[('aname', 'Hans-Jürgen Gerhardt'), ('num', '2')]\n",
      "[('aname', 'Hans-Jürgen Helbig'), ('num', '2')]\n",
      "[('aname', 'Harald Büttner'), ('num', '2')]\n",
      "[('aname', 'Harald Gimpel'), ('num', '2')]\n",
      "[('aname', 'Harald Heinke'), ('num', '2')]\n",
      "[('aname', 'Harald Marg'), ('num', '2')]\n",
      "[('aname', 'Harald Vollmar'), ('num', '2')]\n",
      "[('aname', 'Hartmut Briesenick'), ('num', '2')]\n",
      "[('aname', 'Hartmut Flöckner'), ('num', '2')]\n",
      "[('aname', 'Hartmut Krüger'), ('num', '2')]\n",
      "[('aname', 'Hartmut Losch'), ('num', '2')]\n",
      "[('aname', 'Hartwig Gauder'), ('num', '2')]\n",
      "[('aname', 'Heidi Pechstein'), ('num', '2')]\n",
      "[('aname', 'Heike Drechsler'), ('num', '2')]\n",
      "[('aname', 'Heike Dähne'), ('num', '2')]\n",
      "[('aname', 'Heike Fischer'), ('num', '2')]\n",
      "[('aname', 'Heike Friedrich'), ('num', '2')]\n",
      "[('aname', 'Heike Lehmann'), ('num', '2')]\n",
      "[('aname', 'Heike Singer'), ('num', '2')]\n",
      "[('aname', 'Heinrich Schomburgk'), ('num', '2')]\n",
      "[('aname', 'Heinz Richter'), ('num', '2')]\n",
      "[('aname', 'Heinz Schulz'), ('num', '2')]\n",
      "[('aname', 'Heinz-Helmut Wehling'), ('num', '2')]\n",
      "[('aname', 'Helga Lindner'), ('num', '2')]\n",
      "[('aname', 'Hellfried Heilfort'), ('num', '2')]\n",
      "[('aname', 'Helmut Rethemeier'), ('num', '2')]\n",
      "[('aname', 'Helmut Sauermilch'), ('num', '2')]\n",
      "[('aname', 'Henry Maske'), ('num', '2')]\n",
      "[('aname', 'Henry Stöhr'), ('num', '2')]\n",
      "[('aname', 'Herbert Bauch'), ('num', '2')]\n",
      "[('aname', 'Herbert Richter'), ('num', '2')]\n",
      "[('aname', 'Hildrun Laufer-Claus'), ('num', '2')]\n",
      "[('aname', 'Holger Behrendt'), ('num', '2')]\n",
      "[('aname', 'Horst Arndt'), ('num', '2')]\n",
      "[('aname', 'Horst Astroth'), ('num', '2')]\n",
      "[('aname', 'Horst Hagen'), ('num', '2')]\n",
      "[('aname', 'Horst Mann'), ('num', '2')]\n",
      "[('aname', 'Horst Peter'), ('num', '2')]\n",
      "[('aname', 'Horst Schönau'), ('num', '2')]\n",
      "[('aname', 'Horst Stobbe'), ('num', '2')]\n",
      "[('aname', 'Horst Tüller'), ('num', '2')]\n",
      "[('aname', 'Horst-Günter Gregor'), ('num', '2')]\n",
      "[('aname', 'Houssam Elkord'), ('num', '2')]\n",
      "[('aname', 'Ibrahima Diaw'), ('num', '3')]\n",
      "[('aname', 'Ilse Kaschube'), ('num', '2')]\n",
      "[('aname', 'Ina Kleber'), ('num', '2')]\n",
      "[('aname', 'Ines Diers'), ('num', '2')]\n",
      "[('aname', 'Ines Geißler'), ('num', '2')]\n",
      "[('aname', 'Ingo Spelly'), ('num', '2')]\n",
      "[('aname', 'Ingo Voge'), ('num', '2')]\n",
      "[('aname', 'Ingolf Wiegert'), ('num', '2')]\n",
      "[('aname', 'Ingrid Auerswald'), ('num', '2')]\n",
      "[('aname', 'Ingrid Gulbin'), ('num', '2')]\n",
      "[('aname', 'Ingrid Lotz'), ('num', '2')]\n",
      "[('aname', 'Ingrid Schmidt'), ('num', '2')]\n",
      "[('aname', 'Jan Dołgowicz'), ('num', '2')]\n",
      "[('aname', 'Jan Hempel'), ('num', '2')]\n",
      "[('aname', 'Jan Schur'), ('num', '2')]\n",
      "[('aname', 'Jan Ullrich'), ('num', '2')]\n",
      "[('aname', 'Jasmin Glaesser'), ('num', '2')]\n",
      "[('aname', 'Jean-Pierre Bourhis'), ('num', '2')]\n",
      "[('aname', 'Jeanne Boutbien'), ('num', '2')]\n",
      "[('aname', 'Jens Fiedler'), ('num', '2')]\n",
      "[('aname', 'Jens Glücklich'), ('num', '2')]\n",
      "[('aname', 'Jens Lehmann'), ('num', '2')]\n",
      "[('aname', 'Jens Müller'), ('num', '2')]\n",
      "[('aname', 'Jens-Peter Berndt'), ('num', '4')]\n",
      "[('aname', 'Jens-Peter Herold'), ('num', '2')]\n",
      "[('aname', 'Jessica Fox'), ('num', '2')]\n",
      "[('aname', 'Jia Nan Yuan'), ('num', '2')]\n",
      "[('aname', 'Jo-Wilfried Tsonga'), ('num', '2')]\n",
      "[('aname', 'Joachim Böhmer'), ('num', '2')]\n",
      "[('aname', 'Joachim Kirst'), ('num', '2')]\n",
      "[('aname', 'Joachim Mattern'), ('num', '2')]\n",
      "[('aname', 'Johanna Klier'), ('num', '2')]\n",
      "[('aname', 'Johanna Lüttge'), ('num', '2')]\n",
      "[('aname', 'Josef Hladký'), ('num', '2')]\n",
      "[('aname', 'Josefa Idem'), ('num', '2')]\n",
      "[('aname', 'Julien Wanders'), ('num', '2')]\n",
      "[('aname', 'Jutta Kirst'), ('num', '2')]\n",
      "[('aname', 'Jörg Damme'), ('num', '2')]\n",
      "[('aname', 'Jörg Dießner'), ('num', '2')]\n",
      "[('aname', 'Jörg Drehmel'), ('num', '2')]\n",
      "[('aname', 'Jörg Freimuth'), ('num', '2')]\n",
      "[('aname', 'Jörg Hoffmann'), ('num', '2')]\n",
      "[('aname', 'Jörg Schmidt'), ('num', '2')]\n",
      "[('aname', 'Jörg Woithe'), ('num', '2')]\n",
      "[('aname', 'Jörn Borowski'), ('num', '2')]\n",
      "[('aname', 'Jürgen Bremer'), ('num', '2')]\n",
      "[('aname', 'Jürgen Eschert'), ('num', '2')]\n",
      "[('aname', 'Jürgen Fanghänel'), ('num', '2')]\n",
      "[('aname', 'Jürgen Geschke'), ('num', '2')]\n",
      "[('aname', 'Jürgen Lehnert'), ('num', '2')]\n",
      "[('aname', 'Jürgen Maune'), ('num', '2')]\n",
      "[('aname', 'Jürgen May'), ('num', '2')]\n",
      "[('aname', 'Jürgen Schütze'), ('num', '2')]\n",
      "[('aname', 'Jürgen Simon'), ('num', '2')]\n",
      "[('aname', 'Jürgen Sparwasser'), ('num', '2')]\n",
      "[('aname', 'Jürgen Wiefel'), ('num', '2')]\n",
      "[('aname', 'Kader Keïta'), ('num', '2')]\n",
      "[('aname', 'Karin Balzer'), ('num', '2')]\n",
      "[('aname', 'Karin Guthke'), ('num', '2')]\n",
      "[('aname', 'Karin Krebs'), ('num', '2')]\n",
      "[('aname', 'Karin Püschel'), ('num', '2')]\n",
      "[('aname', 'Karl Schultz'), ('num', '2')]\n",
      "[('aname', 'Karl-Heinrich von Groddeck'), ('num', '2')]\n",
      "[('aname', 'Karl-Heinz Krüger'), ('num', '2')]\n",
      "[('aname', 'Karl-Heinz Lehmann'), ('num', '2')]\n",
      "[('aname', 'Karl-Heinz Thun'), ('num', '2')]\n",
      "[('aname', 'Karla Linke'), ('num', '2')]\n",
      "[('aname', 'Karla Roffeis'), ('num', '2')]\n",
      "[('aname', 'Katharina Bullin'), ('num', '2')]\n",
      "[('aname', 'Kathleen Nord'), ('num', '2')]\n",
      "[('aname', 'Kathrin Neimke'), ('num', '2')]\n",
      "[('aname', 'Katja Klepp'), ('num', '2')]\n",
      "[('aname', 'Katrin Apel'), ('num', '2')]\n",
      "[('aname', 'Katrin Borchert'), ('num', '3')]\n",
      "[('aname', 'Katrin Dörre-Heinig'), ('num', '2')]\n",
      "[('aname', 'Katrin Krüger'), ('num', '2')]\n",
      "[('aname', 'Katrin Meißner'), ('num', '2')]\n",
      "[('aname', 'Kay Bluhm'), ('num', '2')]\n",
      "[('aname', 'Kayra Sayit'), ('num', '2')]\n",
      "[('aname', 'Kerstin Behrendt'), ('num', '2')]\n",
      "[('aname', 'Kerstin Kielgass'), ('num', '2')]\n",
      "[('aname', 'Kirsten Emmelmann'), ('num', '2')]\n",
      "[('aname', 'Klaus Ampler'), ('num', '2')]\n",
      "[('aname', 'Klaus Beer'), ('num', '2')]\n",
      "[('aname', 'Klaus Gruner'), ('num', '2')]\n",
      "[('aname', 'Klaus Hahn'), ('num', '2')]\n",
      "[('aname', 'Klaus Hennig'), ('num', '2')]\n",
      "[('aname', 'Klaus Katzur'), ('num', '2')]\n",
      "[('aname', 'Klaus Pohl'), ('num', '2')]\n",
      "[('aname', 'Klaus Porbadnik'), ('num', '2')]\n",
      "[('aname', 'Klaus Wagner'), ('num', '2')]\n",
      "[('aname', 'Klaus von Fersen'), ('num', '2')]\n",
      "[('aname', 'Klaus-Dieter Kurrat'), ('num', '2')]\n",
      "[('aname', 'Klaus-Jürgen Grünke'), ('num', '2')]\n",
      "[('aname', 'Klaus-Peter Göpfert'), ('num', '2')]\n",
      "[('aname', 'Konrad Weichert'), ('num', '2')]\n",
      "[('aname', 'Kornelia Ender'), ('num', '2')]\n",
      "[('aname', 'Kornelia Kunisch'), ('num', '2')]\n",
      "[('aname', 'Kristin Otto'), ('num', '2')]\n",
      "[('aname', 'Kristina Richter'), ('num', '2')]\n",
      "[('aname', 'Kurt Czekalla'), ('num', '2')]\n",
      "[('aname', 'Kurt Hipper'), ('num', '3')]\n",
      "[('aname', 'Kurt Sakowski'), ('num', '2')]\n",
      "[('aname', 'Lars Hinneburg'), ('num', '2')]\n",
      "[('aname', 'Liane Michaelis'), ('num', '2')]\n",
      "[('aname', 'Lothar Doering'), ('num', '2')]\n",
      "[('aname', 'Lothar Metz'), ('num', '2')]\n",
      "[('aname', 'Lothar Milde'), ('num', '2')]\n",
      "[('aname', 'Lothar Stäber'), ('num', '2')]\n",
      "[('aname', 'Lothar Thoms'), ('num', '2')]\n",
      "[('aname', 'Lucien Delfour'), ('num', '2')]\n",
      "[('aname', 'Lutz Dombrowski'), ('num', '2')]\n",
      "[('aname', 'Lutz Unger'), ('num', '2')]\n",
      "[('aname', 'Lutz Wanja'), ('num', '2')]\n",
      "[('aname', 'Maic Malchow'), ('num', '2')]\n",
      "[('aname', 'Maik Bullmann'), ('num', '2')]\n",
      "[('aname', 'Maik Landsmann'), ('num', '2')]\n",
      "[('aname', 'Manfred Fitze'), ('num', '2')]\n",
      "[('aname', 'Manfred Klieme'), ('num', '2')]\n",
      "[('aname', 'Manfred Kluth'), ('num', '2')]\n",
      "[('aname', 'Manfred Kokot'), ('num', '2')]\n",
      "[('aname', 'Manfred Losch'), ('num', '2')]\n",
      "[('aname', 'Manfred Wolke'), ('num', '2')]\n",
      "[('aname', 'Manuela Stellmach'), ('num', '2')]\n",
      "[('aname', 'Margareta Kozuch'), ('num', '2')]\n",
      "[('aname', 'Marie Branser'), ('num', '2')]\n",
      "[('aname', 'Marina Janicke'), ('num', '2')]\n",
      "[('aname', 'Mario Behrendt'), ('num', '2')]\n",
      "[('aname', 'Mario Kummer'), ('num', '2')]\n",
      "[('aname', 'Marion Tietz'), ('num', '2')]\n",
      "[('aname', 'Marita Koch'), ('num', '2')]\n",
      "[('aname', 'Marita Lange'), ('num', '2')]\n",
      "[('aname', 'Marlies Göhr'), ('num', '2')]\n",
      "[('aname', 'Marlies Ray'), ('num', '2')]\n",
      "[('aname', 'Martin Lotz'), ('num', '2')]\n",
      "[('aname', 'Martina Bischof'), ('num', '2')]\n",
      "[('aname', 'Martina Grunert'), ('num', '2')]\n",
      "[('aname', 'Martina Hellmann'), ('num', '2')]\n",
      "[('aname', 'Martina Jäschke'), ('num', '2')]\n",
      "[('aname', 'Martina Proeber'), ('num', '2')]\n",
      "[('aname', 'Martina Schmidt'), ('num', '2')]\n",
      "[('aname', 'Mathias Schersing'), ('num', '2')]\n",
      "[('aname', 'Matthias Wiegand'), ('num', '2')]\n",
      "[('aname', 'Max Gradel'), ('num', '2')]\n",
      "[('aname', 'Max Klauß'), ('num', '2')]\n",
      "[('aname', 'Max Weber'), ('num', '2')]\n",
      "[('aname', 'Meinhard Nehmer'), ('num', '2')]\n",
      "[('aname', 'Meinrad Miltenberger'), ('num', '2')]\n",
      "[('aname', 'Melat Yisak Kejeta'), ('num', '2')]\n",
      "[('aname', 'Melitta Sollmann'), ('num', '2')]\n",
      "[('aname', 'Michael Buchheim'), ('num', '2')]\n",
      "[('aname', 'Michael Pinske'), ('num', '2')]\n",
      "[('aname', 'Michael Schiffner'), ('num', '2')]\n",
      "[('aname', 'Michael Wolfgramm'), ('num', '2')]\n",
      "[('aname', 'Michaël Bodegas'), ('num', '2')]\n",
      "[('aname', 'Michelle Darvill'), ('num', '2')]\n",
      "[('aname', 'Mihail Popov'), ('num', '2')]\n",
      "[('aname', 'Miryam Roper'), ('num', '2')]\n",
      "[('aname', 'Mitja Zastrow'), ('num', '2')]\n",
      "[('aname', 'Munkhbayar Dorjsuren'), ('num', '2')]\n",
      "[('aname', 'Nabil Lasmari'), ('num', '2')]\n",
      "[('aname', 'Nadine Müller'), ('num', '2')]\n",
      "[('aname', 'Norbert Dürpisch'), ('num', '2')]\n",
      "[('aname', 'Norbert Klaar'), ('num', '2')]\n",
      "[('aname', 'Olaf Beyer'), ('num', '2')]\n",
      "[('aname', 'Olaf Heukrodt'), ('num', '2')]\n",
      "[('aname', 'Olaf Ludwig'), ('num', '2')]\n",
      "[('aname', 'Olaf Prenzler'), ('num', '2')]\n",
      "[('aname', 'Oleg Kucherenko'), ('num', '2')]\n",
      "[('aname', 'Olga Jensch-Jordan'), ('num', '2')]\n",
      "[('aname', 'Olga Konon'), ('num', '3')]\n",
      "[('aname', 'Otto Ammermann'), ('num', '2')]\n",
      "[('aname', 'Otto Rothe'), ('num', '2')]\n",
      "[('aname', 'Ottokar Pohlmann'), ('num', '2')]\n",
      "[('aname', 'Patrick Kühl'), ('num', '2')]\n",
      "[('aname', 'Paul Borowski'), ('num', '2')]\n",
      "[('aname', 'Pavel Sivakov'), ('num', '2')]\n",
      "[('aname', 'Peter Ahrendt'), ('num', '2')]\n",
      "[('aname', 'Peter Bruch'), ('num', '2')]\n",
      "[('aname', 'Peter Frenkel'), ('num', '2')]\n",
      "[('aname', 'Peter Gorewski'), ('num', '2')]\n",
      "[('aname', 'Peter Kremtz'), ('num', '2')]\n",
      "[('aname', 'Peter Prompe'), ('num', '2')]\n",
      "[('aname', 'Peter Rost'), ('num', '2')]\n",
      "[('aname', 'Peter Weber'), ('num', '2')]\n",
      "[('aname', 'Petra Felke'), ('num', '2')]\n",
      "[('aname', 'Petra Grabowski'), ('num', '2')]\n",
      "[('aname', 'Petra Priemer'), ('num', '2')]\n",
      "[('aname', 'Petra Riedel'), ('num', '2')]\n",
      "[('aname', 'Petra Rossner'), ('num', '2')]\n",
      "[('aname', 'Petra Schersing'), ('num', '2')]\n",
      "[('aname', 'Petra Schneider'), ('num', '2')]\n",
      "[('aname', 'Petra Thümer'), ('num', '2')]\n",
      "[('aname', 'Petra Uhlig'), ('num', '2')]\n",
      "[('aname', 'Pi Hongyan'), ('num', '2')]\n",
      "[('aname', 'Privel Hinkati'), ('num', '2')]\n",
      "[('aname', 'Qi Xuefei'), ('num', '2')]\n",
      "[('aname', 'Raimund Bethge'), ('num', '2')]\n",
      "[('aname', 'Rainer Höft'), ('num', '2')]\n",
      "[('aname', 'Rainer Strohbach'), ('num', '2')]\n",
      "[('aname', 'Rainer Tscharke'), ('num', '2')]\n",
      "[('aname', 'Ralf Schumann'), ('num', '2')]\n",
      "[('aname', 'Ramona Neubert'), ('num', '2')]\n",
      "[('aname', 'Ramona Portwich'), ('num', '2')]\n",
      "[('aname', 'Reinhard Eiben'), ('num', '2')]\n",
      "[('aname', 'Reinhard Zerfowski'), ('num', '2')]\n",
      "[('aname', 'Reinhold Pommer'), ('num', '2')]\n",
      "[('aname', 'Renate Boy'), ('num', '2')]\n",
      "[('aname', 'Renate Rudolph'), ('num', '2')]\n",
      "[('aname', 'Renate Vogel'), ('num', '2')]\n",
      "[('aname', 'René Breitbarth'), ('num', '2')]\n",
      "[('aname', 'Reïna-Flor Okori'), ('num', '2')]\n",
      "[('aname', 'Rica Reinisch'), ('num', '2')]\n",
      "[('aname', 'Richard Nowakowski'), ('num', '3')]\n",
      "[('aname', 'Rita Kühne'), ('num', '2')]\n",
      "[('aname', 'Robert Felisiak'), ('num', '2')]\n",
      "[('aname', 'Roger Pyttel'), ('num', '2')]\n",
      "[('aname', 'Roland Gehrke'), ('num', '2')]\n",
      "[('aname', 'Roland Hennig'), ('num', '2')]\n",
      "[('aname', 'Roland Matthes'), ('num', '2')]\n",
      "[('aname', 'Rolf Beilschmidt'), ('num', '2')]\n",
      "[('aname', 'Rolf Nitzsche'), ('num', '2')]\n",
      "[('aname', 'Rolf-Dieter Amend'), ('num', '2')]\n",
      "[('aname', 'Romy Müller'), ('num', '2')]\n",
      "[('aname', 'Rosemarie Ackermann'), ('num', '2')]\n",
      "[('aname', 'Rosemarie Gabriel'), ('num', '2')]\n",
      "[('aname', 'Roswitha Beier'), ('num', '2')]\n",
      "[('aname', 'Roswitha Krause'), ('num', '2')]\n",
      "[('aname', 'Roxana Maracineanu'), ('num', '2')]\n",
      "[('aname', 'Rudi Fink'), ('num', '2')]\n",
      "[('aname', 'Rudi Schumann'), ('num', '2')]\n",
      "[('aname', 'Rudolf Langer'), ('num', '2')]\n",
      "[('aname', 'Ruth Fuchs'), ('num', '2')]\n",
      "[('aname', 'Rémi Feuillet'), ('num', '2')]\n",
      "[('aname', 'Rüdiger Helm'), ('num', '2')]\n",
      "[('aname', 'Sabine Busch'), ('num', '2')]\n",
      "[('aname', 'Sabine John'), ('num', '2')]\n",
      "[('aname', 'Sabine Röther'), ('num', '2')]\n",
      "[('aname', 'Sabine Steinbach'), ('num', '2')]\n",
      "[('aname', 'Samia Hireche'), ('num', '2')]\n",
      "[('aname', 'Sarah Fraincart'), ('num', '2')]\n",
      "[('aname', 'Sarah Poewe'), ('num', '2')]\n",
      "[('aname', 'Sarina Hülsenbeck'), ('num', '2')]\n",
      "[('aname', 'Sebastian Brendel'), ('num', '2')]\n",
      "[('aname', 'Siegbert Horn'), ('num', '2')]\n",
      "[('aname', 'Siegfried Herrmann'), ('num', '2')]\n",
      "[('aname', 'Siegfried Köhler'), ('num', '2')]\n",
      "[('aname', 'Siegfried Mehnert'), ('num', '2')]\n",
      "[('aname', 'Siegfried Schneider'), ('num', '2')]\n",
      "[('aname', 'Siegfried Voigt'), ('num', '2')]\n",
      "[('aname', 'Silke Hörner'), ('num', '2')]\n",
      "[('aname', 'Silvia Siefert'), ('num', '2')]\n",
      "[('aname', 'Simon Bachmann'), ('num', '2')]\n",
      "[('aname', 'Simon Niepmann'), ('num', '2')]\n",
      "[('aname', 'Stefan Förster'), ('num', '2')]\n",
      "[('aname', 'Stefan Junge'), ('num', '2')]\n",
      "[('aname', 'Stefanie Horn'), ('num', '2')]\n",
      "[('aname', 'Steffen Blochwitz'), ('num', '2')]\n",
      "[('aname', 'Steffen Zesner'), ('num', '2')]\n",
      "[('aname', 'Stephan Hauck'), ('num', '2')]\n",
      "[('aname', 'Surya Bonaly'), ('num', '2')]\n",
      "[('aname', 'Susan Jeptooo'), ('num', '2')]\n",
      "[('aname', 'Susanne Börnike'), ('num', '2')]\n",
      "[('aname', 'Susanne Lahme'), ('num', '2')]\n",
      "[('aname', 'Sven Lodziewski'), ('num', '2')]\n",
      "[('aname', 'Sven Loll'), ('num', '2')]\n",
      "[('aname', 'Svetoslav Stoyanov'), ('num', '2')]\n",
      "[('aname', 'Sybille Schönrock'), ('num', '2')]\n",
      "[('aname', 'Sylvia Eichner'), ('num', '2')]\n",
      "[('aname', 'Sylvia Gerasch'), ('num', '2')]\n",
      "[('aname', 'Sönke Sönksen'), ('num', '2')]\n",
      "[('aname', 'Therese Zenz'), ('num', '2')]\n",
      "[('aname', 'Thomas Flach'), ('num', '2')]\n",
      "[('aname', 'Thomas Flemming'), ('num', '2')]\n",
      "[('aname', 'Thomas Huschke'), ('num', '2')]\n",
      "[('aname', 'Thomas Munkelt'), ('num', '2')]\n",
      "[('aname', 'Tobias Schellenberg'), ('num', '2')]\n",
      "[('aname', 'Tomasz Wylenzek'), ('num', '2')]\n",
      "[('aname', 'Tommy Haas'), ('num', '2')]\n",
      "[('aname', 'Tomáš Vyoral'), ('num', '2')]\n",
      "[('aname', 'Tony Martin'), ('num', '2')]\n",
      "[('aname', 'Trixi Worrack'), ('num', '2')]\n",
      "[('aname', 'Udo Beyer'), ('num', '2')]\n",
      "[('aname', 'Udo Poser'), ('num', '2')]\n",
      "[('aname', 'Udo Quellmalz'), ('num', '2')]\n",
      "[('aname', 'Udo Wagner'), ('num', '2')]\n",
      "[('aname', 'Ugo Crousillat'), ('num', '2')]\n",
      "[('aname', 'Ulli Kaden'), ('num', '2')]\n",
      "[('aname', 'Ulrich Mense'), ('num', '2')]\n",
      "[('aname', 'Ulrich Nitzschke'), ('num', '2')]\n",
      "[('aname', 'Ulrich Papke'), ('num', '2')]\n",
      "[('aname', 'Ulrike Richter'), ('num', '2')]\n",
      "[('aname', 'Ulrike Tauber'), ('num', '2')]\n",
      "[('aname', 'Ursula Donath'), ('num', '2')]\n",
      "[('aname', 'Ursula Happe'), ('num', '2')]\n",
      "[('aname', 'Ursula Küper'), ('num', '2')]\n",
      "[('aname', 'Uta Schmuck'), ('num', '2')]\n",
      "[('aname', 'Ute Geweniger'), ('num', '2')]\n",
      "[('aname', 'Ute Kostrzewa'), ('num', '2')]\n",
      "[('aname', 'Ute Steppin'), ('num', '2')]\n",
      "[('aname', 'Uwe Ampler'), ('num', '2')]\n",
      "[('aname', 'Uwe Daßler'), ('num', '2')]\n",
      "[('aname', 'Uwe Freimuth'), ('num', '2')]\n",
      "[('aname', 'Uwe Madeja'), ('num', '2')]\n",
      "[('aname', 'Uwe Neupert'), ('num', '2')]\n",
      "[('aname', 'Uwe Potteck'), ('num', '2')]\n",
      "[('aname', 'Uwe Proske'), ('num', '2')]\n",
      "[('aname', 'Uwe Raab'), ('num', '2')]\n",
      "[('aname', 'Uwe Unterwalder'), ('num', '2')]\n",
      "[('aname', 'Valériane Ayayi'), ('num', '2')]\n",
      "[('aname', 'Vanessa Gilles'), ('num', '2')]\n",
      "[('aname', 'Victor Hendrix'), ('num', '2')]\n",
      "[('aname', 'Victoria Wright'), ('num', '2')]\n",
      "[('aname', 'Vincent Pelluard'), ('num', '2')]\n",
      "[('aname', 'Volker Beck'), ('num', '2')]\n",
      "[('aname', 'Volker Winkler'), ('num', '2')]\n",
      "[('aname', 'Waldemar Beck'), ('num', '2')]\n",
      "[('aname', 'Waldemar Cierpinski'), ('num', '2')]\n",
      "[('aname', 'Walter Hofmann'), ('num', '2')]\n",
      "[('aname', 'Walter Krüger'), ('num', '2')]\n",
      "[('aname', 'Walter Meier'), ('num', '2')]\n",
      "[('aname', 'Waltraud Kretzschmar'), ('num', '2')]\n",
      "[('aname', 'Werner Lippoldt'), ('num', '2')]\n",
      "[('aname', 'Werner Malitz'), ('num', '2')]\n",
      "[('aname', 'Werner Otto'), ('num', '2')]\n",
      "[('aname', 'Wieland Schmidt'), ('num', '2')]\n",
      "[('aname', 'Wilfried Dietrich'), ('num', '2')]\n",
      "[('aname', 'Wilfried Hartung'), ('num', '2')]\n",
      "[('aname', 'Wilfried Lorenz'), ('num', '2')]\n",
      "[('aname', 'Willi Fuggerer'), ('num', '2')]\n",
      "[('aname', 'Willi Montag'), ('num', '2')]\n",
      "[('aname', 'Wiradech Kothny'), ('num', '2')]\n",
      "[('aname', 'Wladimir Reznitschenko'), ('num', '2')]\n",
      "[('aname', 'Wolfgang Behrendt'), ('num', '2')]\n",
      "[('aname', 'Wolfgang Löwe'), ('num', '2')]\n",
      "[('aname', 'Wolfgang Maibohm'), ('num', '2')]\n",
      "[('aname', 'Wolfgang Webner'), ('num', '2')]\n",
      "[('aname', 'Wolfgang Weise'), ('num', '2')]\n",
      "[('aname', 'Xiaoxin Yang'), ('num', '2')]\n",
      "[('aname', 'Xu Huaiwen'), ('num', '2')]\n",
      "[('aname', 'Zoltan Lunka'), ('num', '2')]\n",
      "[('aname', 'Zoltán Nemere'), ('num', '2')]\n",
      "[('aname', 'Éric Srecki'), ('num', '2')]\n"
     ]
    },
    {
     "data": {
      "text/plain": [
       "566"
      ]
     },
     "execution_count": 51,
     "metadata": {},
     "output_type": "execute_result"
    }
   ],
   "source": [
    "# Let's try to find if any athlete has more than one citizenship counting the nodes reached from a \"nationality\" (wdt:P27) property\n",
    "queryString = \"\"\"\n",
    "\n",
    "SELECT DISTINCT ?aname ?num WHERE {\n",
    "\n",
    "?at wdt:P106/wdt:P279 wd:Q2066131 ;\n",
    "    ?p ?obj ;\n",
    "    wdt:P27 ?n .\n",
    "?obj wdt:P31 wd:Q18536594 .\n",
    "\n",
    "FILTER(?at = ?a && ?num > 1)\n",
    "{\n",
    "    SELECT ?a (COUNT(DISTINCT ?nat) AS ?num) WHERE { \n",
    "\n",
    "        ?a wdt:P106/wdt:P279 wd:Q2066131 ;\n",
    "            ?pr ?obj ;\n",
    "            wdt:P27 ?nat .\n",
    "        ?obj wdt:P31 wd:Q18536594 .\n",
    "\n",
    "        FILTER(?pr = wdt:P710 || ?pr = wdt:P1344) .\n",
    "    }\n",
    "    GROUP BY ?a\n",
    "}\n",
    "\n",
    "FILTER(?p = wdt:P710 || ?p = wdt:P1344) .\n",
    "FILTER(?n = wd:Q142 || ?n = wd:Q183) .\n",
    "\n",
    "?p <http://schema.org/name> ?prop .\n",
    "?at <http://schema.org/name> ?aname .\n",
    "?obj <http://schema.org/name> ?oname .\n",
    "}\n",
    "ORDER BY ASC (?aname)\n",
    "\"\"\"\n",
    "\n",
    "print(\"Results\")\n",
    "run_query(queryString)"
   ]
  },
  {
   "cell_type": "markdown",
   "id": "23ec7818-8b10-4211-8bcb-7b04d71bf682",
   "metadata": {},
   "source": [
    "#### Comment\n",
    "This is the list of French and Germans athlete that have a double citizenship.  \n",
    "So to fulfil the task: yes there are many French and German athletes with double citizeship."
   ]
  },
  {
   "cell_type": "markdown",
   "id": "b4c88ebb-bb89-4858-8203-e708235a87c9",
   "metadata": {},
   "source": [
    "## Task 4\n",
    "4. Compare number of participations and winning events across different dimensions"
   ]
  },
  {
   "cell_type": "markdown",
   "id": "5f5d5613-09b5-467f-9803-13e497c3fbb4",
   "metadata": {},
   "source": [
    "### Task 4.1\n",
    "4.1 In which specific sport France has more winners than Germany"
   ]
  },
  {
   "cell_type": "markdown",
   "id": "a247746f-6c0e-46b2-a33f-9494fc57e8bf",
   "metadata": {},
   "source": [
    "#### Comment\n",
    "I suppose that \"more winners\" is different from \"more win\" and so I'm going to retrieve the sports in which France has more winners (athletes) than German"
   ]
  },
  {
   "cell_type": "code",
   "execution_count": 17,
   "id": "ad5b5490-a585-4877-8aac-c7758635d5de",
   "metadata": {},
   "outputs": [
    {
     "name": "stdout",
     "output_type": "stream",
     "text": [
      "Results\n",
      "[('sport', 'BMX'), ('numf', '2')]\n",
      "[('sport', 'Greco-Roman wrestling'), ('numf', '2')]\n",
      "[('sport', 'archery'), ('numf', '6')]\n",
      "[('sport', 'athletics'), ('numf', '10')]\n",
      "[('sport', 'biathlon'), ('numf', '1')]\n",
      "[('sport', 'boxing'), ('numf', '4')]\n",
      "[('sport', 'canoe slalom'), ('numf', '1')]\n",
      "[('sport', 'canoeing and kayaking'), ('numf', '3')]\n",
      "[('sport', 'croquet'), ('numf', '2')]\n",
      "[('sport', 'cycle sport'), ('numf', '10')]\n",
      "[('sport', 'equestrian sport'), ('numf', '1')]\n",
      "[('sport', 'fencing'), ('numf', '35')]\n",
      "[('sport', 'judo'), ('numf', '13')]\n",
      "[('sport', 'mountain biking'), ('numf', '2')]\n",
      "[('sport', 'road bicycle racing'), ('numf', '24')]\n",
      "[('sport', 'rowing'), ('numf', '7')]\n",
      "[('sport', 'sailing'), ('numf', '8')]\n",
      "[('sport', 'shooting sport'), ('numf', '12')]\n",
      "[('sport', 'swimming'), ('numf', '6')]\n",
      "[('sport', 'tennis'), ('numf', '6')]\n",
      "[('sport', 'track cycling'), ('numf', '52')]\n",
      "[('sport', 'wrestling'), ('numf', '2')]\n"
     ]
    },
    {
     "data": {
      "text/plain": [
       "22"
      ]
     },
     "execution_count": 17,
     "metadata": {},
     "output_type": "execute_result"
    }
   ],
   "source": [
    "# Let's print the the number of distinct French winners for each sport \n",
    "queryString = \"\"\"\n",
    "SELECT ?sport (COUNT(DISTINCT ?at) AS ?numf) WHERE {\n",
    "\n",
    "?obj wdt:P31 wd:Q18536594 ;\n",
    "    ?sp ?s ;\n",
    "    ?rel ?at .    \n",
    "?at wdt:P106/wdt:P279 wd:Q2066131 ;\n",
    "    wdt:P27 ?nf .\n",
    "    \n",
    "FILTER(?nf = wd:Q142) .\n",
    "FILTER(?sp = wdt:P641 && ?rel = wdt:P1346) .\n",
    "\n",
    "?s <http://schema.org/name> ?sport .\n",
    "?at <http://schema.org/name> ?aname .\n",
    "}\n",
    "ORDER BY ASC (?sport)\n",
    "\"\"\"\n",
    "print(\"Results\")\n",
    "run_query(queryString)"
   ]
  },
  {
   "cell_type": "code",
   "execution_count": 15,
   "id": "beed6e8d-653c-470c-9ea1-2e3c3a9bbe69",
   "metadata": {},
   "outputs": [
    {
     "name": "stdout",
     "output_type": "stream",
     "text": [
      "Results\n",
      "[('sport', 'Greco-Roman wrestling'), ('numg', '7')]\n",
      "[('sport', 'Nordic combined'), ('numg', '1')]\n",
      "[('sport', 'Nordic skiing'), ('numg', '3')]\n",
      "[('sport', 'artistic gymnastics'), ('numg', '1')]\n",
      "[('sport', 'athletics'), ('numg', '57')]\n",
      "[('sport', 'beach volleyball'), ('numg', '2')]\n",
      "[('sport', 'biathlon'), ('numg', '1')]\n",
      "[('sport', 'bobsleigh'), ('numg', '1')]\n",
      "[('sport', 'boxing'), ('numg', '9')]\n",
      "[('sport', 'canoe sprint'), ('numg', '2')]\n",
      "[('sport', 'canoeing and kayaking'), ('numg', '7')]\n",
      "[('sport', 'cycle sport'), ('numg', '11')]\n",
      "[('sport', 'diving'), ('numg', '5')]\n",
      "[('sport', 'equestrian sport'), ('numg', '1')]\n",
      "[('sport', 'eventing'), ('numg', '1')]\n",
      "[('sport', 'fencing'), ('numg', '12')]\n",
      "[('sport', 'gymnastics'), ('numg', '1')]\n",
      "[('sport', 'judo'), ('numg', '5')]\n",
      "[('sport', 'luge'), ('numg', '2')]\n",
      "[('sport', 'modern pentathlon'), ('numg', '1')]\n",
      "[('sport', 'mountain biking'), ('numg', '1')]\n",
      "[('sport', 'road bicycle racing'), ('numg', '30')]\n",
      "[('sport', 'rowing'), ('numg', '40')]\n",
      "[('sport', 'sailing'), ('numg', '3')]\n",
      "[('sport', 'shooting sport'), ('numg', '16')]\n",
      "[('sport', 'speed skating'), ('numg', '1')]\n",
      "[('sport', 'swimming'), ('numg', '27')]\n",
      "[('sport', 'tennis'), ('numg', '4')]\n",
      "[('sport', 'track cycling'), ('numg', '67')]\n",
      "[('sport', 'triathlon'), ('numg', '1')]\n",
      "[('sport', 'wrestling'), ('numg', '3')]\n"
     ]
    },
    {
     "data": {
      "text/plain": [
       "31"
      ]
     },
     "execution_count": 15,
     "metadata": {},
     "output_type": "execute_result"
    }
   ],
   "source": [
    "# Let's print the the number of distinct German winners for each sport \n",
    "queryString = \"\"\"\n",
    "SELECT ?sport (COUNT(DISTINCT ?at) AS ?numg) WHERE {\n",
    "\n",
    "?obj wdt:P31 wd:Q18536594 ;\n",
    "    ?sp ?s ;\n",
    "    ?rel ?at .    \n",
    "?at wdt:P106/wdt:P279 wd:Q2066131 ;\n",
    "    wdt:P27 ?ng .\n",
    "    \n",
    "FILTER(?ng = wd:Q183) .\n",
    "FILTER(?sp = wdt:P641 && ?rel = wdt:P1346) .\n",
    "\n",
    "?s <http://schema.org/name> ?sport .\n",
    "?at <http://schema.org/name> ?aname .\n",
    "}\n",
    "ORDER BY ASC (?sport)\n",
    "\"\"\"\n",
    "print(\"Results\")\n",
    "run_query(queryString)"
   ]
  },
  {
   "cell_type": "code",
   "execution_count": 25,
   "id": "7f6fd470-5827-401f-be44-1f6db4bf5ee6",
   "metadata": {},
   "outputs": [
    {
     "name": "stdout",
     "output_type": "stream",
     "text": [
      "Results\n",
      "[('sport', 'BMX'), ('frenchwins', '2'), ('germanwins', '0')]\n",
      "[('sport', 'archery'), ('frenchwins', '6'), ('germanwins', '0')]\n",
      "[('sport', 'canoe slalom'), ('frenchwins', '1'), ('germanwins', '0')]\n",
      "[('sport', 'croquet'), ('frenchwins', '2'), ('germanwins', '0')]\n",
      "[('sport', 'fencing'), ('frenchwins', '35'), ('germanwins', '12')]\n",
      "[('sport', 'judo'), ('frenchwins', '13'), ('germanwins', '5')]\n",
      "[('sport', 'mountain biking'), ('frenchwins', '2'), ('germanwins', '1')]\n",
      "[('sport', 'sailing'), ('frenchwins', '8'), ('germanwins', '3')]\n",
      "[('sport', 'tennis'), ('frenchwins', '6'), ('germanwins', '4')]\n"
     ]
    },
    {
     "data": {
      "text/plain": [
       "9"
      ]
     },
     "execution_count": 25,
     "metadata": {},
     "output_type": "execute_result"
    }
   ],
   "source": [
    "# Let's try to print in which sports France has more winners than Germany\n",
    "queryString = \"\"\"\n",
    "SELECT ?sport (COUNT(DISTINCT ?atf) AS ?frenchwins) (COUNT(DISTINCT ?atg) AS ?germanwins) WHERE {\n",
    "\n",
    "{\n",
    "?obj wdt:P31 wd:Q18536594 ;\n",
    "    ?sp ?s ;\n",
    "    ?rel ?atf .    \n",
    "?atf wdt:P106/wdt:P279 wd:Q2066131 ;\n",
    "    wdt:P27 ?nf .\n",
    "    \n",
    "FILTER(?nf = wd:Q142) .\n",
    "FILTER(?sp = wdt:P641 && ?rel = wdt:P1346) .\n",
    "\n",
    "}UNION{\n",
    "\n",
    "?obj wdt:P31 wd:Q18536594 ;\n",
    "    ?sp ?s ;\n",
    "    ?rel ?atg .    \n",
    "?atg wdt:P106/wdt:P279 wd:Q2066131 ;\n",
    "    wdt:P27 ?ng .\n",
    "    \n",
    "FILTER(?ng = wd:Q183) .\n",
    "FILTER(?sp = wdt:P641 && ?rel = wdt:P1346) .\n",
    "\n",
    "}\n",
    "\n",
    "?s <http://schema.org/name> ?sport .\n",
    "#?at <http://schema.org/name> ?aname .\n",
    "#?obj <http://schema.org/name> ?oname .\n",
    "}\n",
    "GROUP BY ?sport\n",
    "HAVING(COUNT(DISTINCT ?atf) > COUNT(DISTINCT ?atg))\n",
    "ORDER BY ASC (?sport)\n",
    "\"\"\"\n",
    "\n",
    "print(\"Results\")\n",
    "run_query(queryString)"
   ]
  },
  {
   "cell_type": "markdown",
   "id": "b50eea16-6ab3-495c-89ac-61695b5303be",
   "metadata": {},
   "source": [
    "#### Comment\n",
    "The last query shows each sport in which there are more French winners than German ones printing the respective numbers"
   ]
  },
  {
   "cell_type": "markdown",
   "id": "f1c18c4e-8107-4bb3-83ac-fcc62e497018",
   "metadata": {
    "tags": []
   },
   "source": [
    "### Task 4.2\n",
    "4.2 Who has the highest number of female winners"
   ]
  },
  {
   "cell_type": "markdown",
   "id": "5b8c0e44-2a66-4ab8-8858-da991cb03a40",
   "metadata": {},
   "source": [
    "#### Comment\n",
    "Remember that I supposed to compare the number of female winners which citizenship is French or German"
   ]
  },
  {
   "cell_type": "code",
   "execution_count": 28,
   "id": "831c770c-f954-42bd-a8ae-55192e226f0f",
   "metadata": {},
   "outputs": [
    {
     "name": "stdout",
     "output_type": "stream",
     "text": [
      "Results\n",
      "[('prop', 'sex or gender'), ('gender', 'female'), ('p', 'http://www.wikidata.org/prop/direct/P21'), ('obj', 'http://www.wikidata.org/entity/Q6581072')]\n",
      "[('prop', 'sex or gender'), ('gender', 'male'), ('p', 'http://www.wikidata.org/prop/direct/P21'), ('obj', 'http://www.wikidata.org/entity/Q6581097')]\n",
      "[('prop', 'sex or gender'), ('gender', 'transgender female'), ('p', 'http://www.wikidata.org/prop/direct/P21'), ('obj', 'http://www.wikidata.org/entity/Q1052281')]\n",
      "[('prop', 'sex or gender'), ('gender', 'transgender male'), ('p', 'http://www.wikidata.org/prop/direct/P21'), ('obj', 'http://www.wikidata.org/entity/Q2449503')]\n",
      "[('prop', 'sex or gender'), ('gender', 'female organism'), ('p', 'http://www.wikidata.org/prop/direct/P21'), ('obj', 'http://www.wikidata.org/entity/Q43445')]\n",
      "[('prop', 'sex or gender'), ('gender', 'intersex'), ('p', 'http://www.wikidata.org/prop/direct/P21'), ('obj', 'http://www.wikidata.org/entity/Q1097630')]\n",
      "[('prop', 'sex or gender'), ('gender', 'non-binary'), ('p', 'http://www.wikidata.org/prop/direct/P21'), ('obj', 'http://www.wikidata.org/entity/Q48270')]\n",
      "[('prop', 'sex or gender'), ('gender', 'transmasculine'), ('p', 'http://www.wikidata.org/prop/direct/P21'), ('obj', 'http://www.wikidata.org/entity/Q27679766')]\n",
      "[('prop', 'sex or gender'), ('gender', 'genderqueer'), ('p', 'http://www.wikidata.org/prop/direct/P21'), ('obj', 'http://www.wikidata.org/entity/Q12964198')]\n",
      "[('prop', 'sex or gender'), ('gender', 'male organism'), ('p', 'http://www.wikidata.org/prop/direct/P21'), ('obj', 'http://www.wikidata.org/entity/Q44148')]\n",
      "[('prop', 'sex or gender'), ('gender', 'cisgender female'), ('p', 'http://www.wikidata.org/prop/direct/P21'), ('obj', 'http://www.wikidata.org/entity/Q15145779')]\n",
      "[('prop', 'sex or gender'), ('gender', 'transgender person'), ('p', 'http://www.wikidata.org/prop/direct/P21'), ('obj', 'http://www.wikidata.org/entity/Q189125')]\n"
     ]
    },
    {
     "data": {
      "text/plain": [
       "12"
      ]
     },
     "execution_count": 28,
     "metadata": {},
     "output_type": "execute_result"
    }
   ],
   "source": [
    "#Let's search for the gender property of an athlete\n",
    "queryString = \"\"\"\n",
    "SELECT DISTINCT ?prop ?gender ?p ?obj\n",
    "WHERE { \n",
    "\n",
    "?a wdt:P106/wdt:P279 wd:Q2066131 ;\n",
    "    ?p ?obj .\n",
    "\n",
    "    ?p <http://schema.org/name> ?prop .\n",
    "    ?obj <http://schema.org/name> ?gender\n",
    "\n",
    "    FILTER((REGEX(?prop, \"(?i)gender.*\"))) .  \n",
    "\n",
    "} \n",
    "\"\"\"\n",
    "\n",
    "print(\"Results\")\n",
    "run_query(queryString)"
   ]
  },
  {
   "cell_type": "markdown",
   "id": "df84a94a-aaf4-47ac-97e7-7abc06175873",
   "metadata": {},
   "source": [
    "#### Comment\n",
    "Now we have the gender property and we save the \"famale\" node rearched through it:\n",
    "\n",
    "| IRI           | Description   | Role      |\n",
    "| -----------   | -----------   |-----------|\n",
    "| `wdt:P21`   | sex or gender   | predicate |\n",
    "| `wd:Q6581072`     | female   | node |"
   ]
  },
  {
   "cell_type": "code",
   "execution_count": 34,
   "id": "f464f753-17fa-4088-92fa-acbdb8f9f304",
   "metadata": {},
   "outputs": [
    {
     "name": "stdout",
     "output_type": "stream",
     "text": [
      "Results\n",
      "[('frenchFemaleAthletes', '31'), ('germanFemaleAthletes', '98')]\n"
     ]
    },
    {
     "data": {
      "text/plain": [
       "1"
      ]
     },
     "execution_count": 34,
     "metadata": {},
     "output_type": "execute_result"
    }
   ],
   "source": [
    "# Let's try to merge the previous considerations\n",
    "queryString = \"\"\"\n",
    "SELECT (COUNT(DISTINCT ?atf) AS ?frenchFemaleAthletes) (COUNT(DISTINCT ?atg) AS ?germanFemaleAthletes) WHERE {\n",
    "\n",
    "{\n",
    "?obj wdt:P31 wd:Q18536594 ;\n",
    "    ?rel ?atf .    \n",
    "?atf wdt:P106/wdt:P279 wd:Q2066131 ;\n",
    "    wdt:P27 ?nf ;\n",
    "    wdt:P21 wd:Q6581072 .\n",
    "    \n",
    "FILTER(?nf = wd:Q142) .\n",
    "FILTER(?rel = wdt:P1346) .\n",
    "\n",
    "}UNION{\n",
    "\n",
    "?obj wdt:P31 wd:Q18536594 ;\n",
    "    ?rel ?atg .    \n",
    "?atg wdt:P106/wdt:P279 wd:Q2066131 ;\n",
    "    wdt:P27 ?ng ;\n",
    "    wdt:P21 wd:Q6581072 .\n",
    "    \n",
    "FILTER(?ng = wd:Q183) .\n",
    "FILTER(?rel = wdt:P1346) .\n",
    "}\n",
    "\n",
    "}\n",
    "\"\"\"\n",
    "\n",
    "print(\"Results\")\n",
    "run_query(queryString)"
   ]
  },
  {
   "cell_type": "markdown",
   "id": "b6fbfba5-e539-4ff0-987e-8f7bf476e59a",
   "metadata": {},
   "source": [
    "#### Comment\n",
    "So it's higher the number of German female winners"
   ]
  },
  {
   "cell_type": "markdown",
   "id": "ebb5c892-3bf9-4ea5-8cc5-928091d7cfd7",
   "metadata": {},
   "source": [
    "### Task 4.3\n",
    "4.3 For each country , which are the atheletes with the highest number of participations"
   ]
  },
  {
   "cell_type": "markdown",
   "id": "3b29917a-7577-471d-a4f7-d6085d244ccc",
   "metadata": {},
   "source": [
    "#### Comment\n",
    "Is the same as task 5.3 of the previous notebook (cdcf47393e), same problem in returning country and person.  \n",
    "Even in this case I assume that for country they intend France and Germany.  \n",
    "It's also not clear if the number of partecipation is referring to the editions of the Olympic Games or partecipation in referring to the competitions across different edition of the Olympic Games so I decide to assume this second hypotesis as the one that satisfy the task 4.3.   "
   ]
  },
  {
   "cell_type": "code",
   "execution_count": 65,
   "id": "a02908af-f384-4d99-9e13-76d545d29b49",
   "metadata": {},
   "outputs": [
    {
     "name": "stdout",
     "output_type": "stream",
     "text": [
      "Results\n",
      "[('cname', 'Germany'), ('max', '13')]\n",
      "[('cname', 'France'), ('max', '11')]\n"
     ]
    },
    {
     "data": {
      "text/plain": [
       "2"
      ]
     },
     "execution_count": 65,
     "metadata": {},
     "output_type": "execute_result"
    }
   ],
   "source": [
    "#Find for each country (France and Germany) the highest number of partecipations for an athlete ofthe respective country\n",
    "queryString = \"\"\"\n",
    "SELECT ?cname (MAX(?num) AS ?max)\n",
    "WHERE { \n",
    "?at wdt:P106/wdt:P279 wd:Q2066131 ;\n",
    "    wdt:P27 ?cou ;\n",
    "    ?p ?obj1 .\n",
    "?obj1 wdt:P31 wd:Q18536594 .\n",
    "\n",
    "FILTER(?at = ?a).\n",
    "{\n",
    "SELECT ?a (COUNT(DISTINCT ?obj) AS ?num)\n",
    "WHERE { \n",
    "\n",
    "?a wdt:P106/wdt:P279 wd:Q2066131 ;\n",
    "    wdt:P27 ?country ;\n",
    "    ?p1 ?obj .\n",
    "?obj wdt:P31 wd:Q18536594 .\n",
    "\n",
    "FILTER(?p1 = wdt:P710 || ?p1 = wdt:P1344) . # partecipant and partecipant in\n",
    "    \n",
    "FILTER(?country = wd:Q142 || ?country = wd:Q183) .\n",
    "}\n",
    "GROUP BY ?a\n",
    "}\n",
    "\n",
    "FILTER(?p = wdt:P710 || ?p = wdt:P1344) . # partecipant and partecipant in\n",
    "FILTER(?cou = wd:Q142 || ?cou = wd:Q183) .\n",
    "\n",
    "?at <http://schema.org/name> ?aname .\n",
    "?cou <http://schema.org/name> ?cname .\n",
    "\n",
    "}\n",
    "GROUP BY ?cname\n",
    "ORDER BY DESC (?max)\n",
    "\"\"\"\n",
    "\n",
    "print(\"Results\")\n",
    "run_query(queryString)"
   ]
  },
  {
   "cell_type": "markdown",
   "id": "e336b322-c21a-4b16-8f17-4eed0a74d12d",
   "metadata": {
    "tags": []
   },
   "source": [
    "#### Comment\n",
    "In the COUNT() function I can use the DISTINCT directive because each competition is identified by the competition name, the speciality and the year of the Olympic Game in which it has been held.  \n",
    "I can't print the name of the athlete because of the rules on aggregate functions...  \n",
    "The alternative is to print the max for France in a query and the max for Germany in another but if the case is like the one in the notebook (cdcf47393e) I can't do this for many states one at a time... "
   ]
  },
  {
   "cell_type": "code",
   "execution_count": 69,
   "id": "6585e549-990c-4e46-ad39-f59cd090a2bc",
   "metadata": {},
   "outputs": [
    {
     "name": "stdout",
     "output_type": "stream",
     "text": [
      "Results\n",
      "[('cname', 'France'), ('aname', 'Charlotte Bonnet'), ('num', '11')]\n"
     ]
    },
    {
     "data": {
      "text/plain": [
       "1"
      ]
     },
     "execution_count": 69,
     "metadata": {},
     "output_type": "execute_result"
    }
   ],
   "source": [
    "#Print the French athlete with the highest number of partecipations \n",
    "queryString = \"\"\"\n",
    "SELECT ?cname ?aname (COUNT(DISTINCT ?obj) AS ?num)\n",
    "WHERE { \n",
    "\n",
    "?a wdt:P106/wdt:P279 wd:Q2066131 ;\n",
    "    wdt:P27 ?country ;\n",
    "    ?p1 ?obj .\n",
    "?obj wdt:P31 wd:Q18536594 .\n",
    "\n",
    "FILTER(?p1 = wdt:P710 || ?p1 = wdt:P1344) . # partecipant and partecipant in\n",
    "    \n",
    "FILTER(?country = wd:Q142) .\n",
    "\n",
    "?a <http://schema.org/name> ?aname .\n",
    "?country <http://schema.org/name> ?cname .\n",
    "}\n",
    "GROUP BY ?aname ?cname\n",
    "ORDER BY DESC (?num)\n",
    "LIMIT 1\n",
    "\n",
    "\"\"\"\n",
    "\n",
    "print(\"Results\")\n",
    "run_query(queryString)"
   ]
  },
  {
   "cell_type": "code",
   "execution_count": 68,
   "id": "03f196ab-675f-47b5-a6fa-73b866d3e05f",
   "metadata": {},
   "outputs": [
    {
     "name": "stdout",
     "output_type": "stream",
     "text": [
      "Results\n",
      "[('cname', 'Germany'), ('aname', 'Birgit Fischer'), ('num', '13')]\n"
     ]
    },
    {
     "data": {
      "text/plain": [
       "1"
      ]
     },
     "execution_count": 68,
     "metadata": {},
     "output_type": "execute_result"
    }
   ],
   "source": [
    "#Print the German athlete with highest number of partecipations \n",
    "queryString = \"\"\"\n",
    "SELECT ?cname ?aname (COUNT(DISTINCT ?obj) AS ?num)\n",
    "WHERE { \n",
    "\n",
    "?a wdt:P106/wdt:P279 wd:Q2066131 ;\n",
    "    wdt:P27 ?country ;\n",
    "    ?p1 ?obj .\n",
    "?obj wdt:P31 wd:Q18536594 .\n",
    "\n",
    "FILTER(?p1 = wdt:P710 || ?p1 = wdt:P1344) . # partecipant and partecipant in\n",
    "    \n",
    "FILTER(?country = wd:Q183) .\n",
    "\n",
    "?a <http://schema.org/name> ?aname .\n",
    "?country <http://schema.org/name> ?cname .\n",
    "}\n",
    "GROUP BY ?aname ?cname\n",
    "ORDER BY DESC (?num)\n",
    "LIMIT 1\n",
    "\n",
    "\"\"\"\n",
    "\n",
    "print(\"Results\")\n",
    "run_query(queryString)"
   ]
  },
  {
   "cell_type": "markdown",
   "id": "c1465348-896b-4e99-9830-d2a37d5df375",
   "metadata": {},
   "source": [
    "#### Comment \n",
    "Let's try to verify the results using Charlotte Bonnet"
   ]
  },
  {
   "cell_type": "code",
   "execution_count": 3,
   "id": "d68de9c5-851e-4b8d-b142-35cc0c857741",
   "metadata": {},
   "outputs": [
    {
     "name": "stdout",
     "output_type": "stream",
     "text": [
      "Results\n",
      "[('cname', 'France'), ('aname', 'Charlotte Bonnet'), ('num', '11'), ('a', 'http://www.wikidata.org/entity/Q129192')]\n"
     ]
    },
    {
     "data": {
      "text/plain": [
       "1"
      ]
     },
     "execution_count": 3,
     "metadata": {},
     "output_type": "execute_result"
    }
   ],
   "source": [
    "#Print the French athlete with most partecipations printing his/her URI \n",
    "queryString = \"\"\"\n",
    "SELECT ?cname ?aname (COUNT(DISTINCT ?obj) AS ?num) ?a\n",
    "WHERE { \n",
    "\n",
    "?a wdt:P106/wdt:P279 wd:Q2066131 ;\n",
    "    wdt:P27 ?country ;\n",
    "    ?p1 ?obj .\n",
    "?obj wdt:P31 wd:Q18536594 .\n",
    "\n",
    "FILTER(?p1 = wdt:P710 || ?p1 = wdt:P1344) . # partecipant and partecipant in\n",
    "    \n",
    "FILTER(?country = wd:Q142) .\n",
    "\n",
    "?a <http://schema.org/name> ?aname .\n",
    "?country <http://schema.org/name> ?cname .\n",
    "}\n",
    "GROUP BY ?aname ?cname ?a\n",
    "ORDER BY DESC (?num)\n",
    "LIMIT 1\n",
    "\n",
    "\"\"\"\n",
    "\n",
    "print(\"Results\")\n",
    "run_query(queryString)"
   ]
  },
  {
   "cell_type": "code",
   "execution_count": 6,
   "id": "0ed67eba-8cec-4abe-95ab-d036e939940f",
   "metadata": {},
   "outputs": [
    {
     "name": "stdout",
     "output_type": "stream",
     "text": [
      "Results\n",
      "[('aname', 'Charlotte Bonnet'), ('pname', 'participant in'), ('oname', \"swimming at the 2020 Summer Olympics – women's 4 × 100 metre freestyle relay\")]\n",
      "[('aname', 'Charlotte Bonnet'), ('pname', 'participant in'), ('oname', \"swimming at the 2012 Summer Olympics – women's 100 metre freestyle\")]\n",
      "[('aname', 'Charlotte Bonnet'), ('pname', 'participant in'), ('oname', \"swimming at the 2016 Summer Olympics – women's 200 metre freestyle\")]\n",
      "[('aname', 'Charlotte Bonnet'), ('pname', 'participant in'), ('oname', \"swimming at the 2020 Summer Olympics – women's 200 metre freestyle\")]\n",
      "[('aname', 'Charlotte Bonnet'), ('pname', 'participant in'), ('oname', \"swimming at the 2016 Summer Olympics – women's 4 × 200 metre freestyle relay\")]\n",
      "[('aname', 'Charlotte Bonnet'), ('pname', 'participant in'), ('oname', \"swimming at the 2012 Summer Olympics – women's 4 × 200 metre freestyle relay\")]\n",
      "[('aname', 'Charlotte Bonnet'), ('pname', 'participant in'), ('oname', \"swimming at the 2020 Summer Olympics – women's 100 metre freestyle\")]\n",
      "[('aname', 'Charlotte Bonnet'), ('pname', 'participant in'), ('oname', \"swimming at the 2012 Summer Olympics – women's 4 × 100 metre medley relay\")]\n",
      "[('aname', 'Charlotte Bonnet'), ('pname', 'participant in'), ('oname', \"swimming at the 2016 Summer Olympics – women's 100 metre freestyle\")]\n",
      "[('aname', 'Charlotte Bonnet'), ('pname', 'participant in'), ('oname', \"swimming at the 2020 Summer Olympics – women's 4 × 200 metre freestyle relay\")]\n",
      "[('aname', 'Charlotte Bonnet'), ('pname', 'participant in'), ('oname', \"swimming at the 2016 Summer Olympics – women's 4 × 100 metre freestyle relay\")]\n"
     ]
    },
    {
     "data": {
      "text/plain": [
       "11"
      ]
     },
     "execution_count": 6,
     "metadata": {},
     "output_type": "execute_result"
    }
   ],
   "source": [
    "#Print the French athlete with most partecipations printing his/her URI \n",
    "queryString = \"\"\"\n",
    "SELECT ?aname ?pname ?oname\n",
    "WHERE { \n",
    "\n",
    "wd:Q129192 ?p1 ?obj .\n",
    "?obj wdt:P31 wd:Q18536594 .\n",
    "\n",
    "FILTER(?p1 = wdt:P710 || ?p1 = wdt:P1344) . # partecipant and partecipant in\n",
    "\n",
    "wd:Q129192 <http://schema.org/name> ?aname .\n",
    "?p1 <http://schema.org/name> ?pname .\n",
    "?obj <http://schema.org/name> ?oname .\n",
    "}\n",
    "\n",
    "\"\"\"\n",
    "\n",
    "print(\"Results\")\n",
    "run_query(queryString)"
   ]
  },
  {
   "cell_type": "markdown",
   "id": "9d6d89e8-1e03-4bd5-bc29-9f03615bb4a8",
   "metadata": {},
   "source": [
    "#### Comment\n",
    "Ok the results are correct and so we can say that previously we found the French and German athletes with more partecipations in Olympic Games competitions"
   ]
  }
 ],
 "metadata": {
  "kernelspec": {
   "display_name": "Python 3",
   "language": "python",
   "name": "python3"
  },
  "language_info": {
   "codemirror_mode": {
    "name": "ipython",
    "version": 3
   },
   "file_extension": ".py",
   "mimetype": "text/x-python",
   "name": "python",
   "nbconvert_exporter": "python",
   "pygments_lexer": "ipython3",
   "version": "3.7.10"
  }
 },
 "nbformat": 4,
 "nbformat_minor": 5
}
