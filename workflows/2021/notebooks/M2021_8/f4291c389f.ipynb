{
 "cells": [
  {
   "cell_type": "markdown",
   "id": "7034c3bf-6eb0-4418-8687-7b9d2a501103",
   "metadata": {},
   "source": [
    "# General instructions\n",
    "\n",
    "The goal of the project is to materialize a set of **exploratory workloads** over a real-world, large-scale,  open-domain KG: [WikiData](https://www.wikidata.org/wiki/Wikidata:Main_Page)\n",
    "\n",
    "An exploratory workload  is composed by a set of queries, where each query is related to the information obtained previously.\n",
    "\n",
    "An exploratory workload starts with a usually vague, open ended question, and does not assume the person issuing the workload has a clear understanding of the data contained in the target database or its structure.\n",
    "\n",
    "Remeber that:\n",
    "\n",
    "1. All the queries must run in the python notebook\n",
    "2. You can use classes and properties only if you find them via a SPARQL query that must be present in the notebook\n",
    "3. You do not delete useless queries. Keep everything that is synthatically valid \n",
    "\n",
    "```\n",
    "?p <http://schema.org/name> ?name .\n",
    "```\n",
    "    \n",
    "is the BGP returning a human-readable name of a property or a class in Wikidata.\n",
    "    \n",
    "    "
   ]
  },
  {
   "cell_type": "code",
   "execution_count": 1,
   "id": "3605c9d5-5371-49a5-be8d-d66e8f417139",
   "metadata": {},
   "outputs": [],
   "source": [
    "## SETUP used later\n",
    "\n",
    "from SPARQLWrapper import SPARQLWrapper, JSON\n",
    "\n",
    "\n",
    "prefixString = \"\"\"\n",
    "##-f4291c389f-##\n",
    "PREFIX wd: <http://www.wikidata.org/entity/> \n",
    "PREFIX wdt: <http://www.wikidata.org/prop/direct/> \n",
    "PREFIX sc: <http://schema.org/>\n",
    "\"\"\"\n",
    "\n",
    "# select and construct queries\n",
    "def run_query(queryString):\n",
    "    to_run = prefixString + \"\\n\" + queryString\n",
    "\n",
    "    sparql = SPARQLWrapper(\"http://a256-gc1-02.srv.aau.dk:5820/sparql\")\n",
    "    sparql.setTimeout(300)\n",
    "    sparql.setReturnFormat(JSON)\n",
    "    sparql.setQuery(to_run)\n",
    "\n",
    "    try :\n",
    "       results = sparql.query()\n",
    "       json_results = results.convert()\n",
    "       if len(json_results['results']['bindings'])==0:\n",
    "          print(\"Empty\")\n",
    "          return 0\n",
    "    \n",
    "       for bindings in json_results['results']['bindings']:\n",
    "          print( [ (var, value['value'])  for var, value in bindings.items() ] )\n",
    "\n",
    "       return len(json_results['results']['bindings'])\n",
    "\n",
    "    except Exception as e :\n",
    "        print(\"The operation failed\", e)\n",
    "    \n",
    "# ASk queries\n",
    "def run_ask_query(queryString):\n",
    "    to_run = prefixString + \"\\n\" + queryString\n",
    "\n",
    "    sparql = SPARQLWrapper(\"http://a256-gc1-02.srv.aau.dk:5820/sparql\")\n",
    "    sparql.setTimeout(300)\n",
    "    sparql.setReturnFormat(JSON)\n",
    "    sparql.setQuery(to_run)\n",
    "\n",
    "    try :\n",
    "        return sparql.query().convert()\n",
    "\n",
    "    except Exception as e :\n",
    "        print(\"The operation failed\", e)\n"
   ]
  },
  {
   "cell_type": "markdown",
   "id": "d477a59c-a68c-4c8f-9f97-8ca5294d7d27",
   "metadata": {},
   "source": [
    "# Sport Workflow Series (\"FIFA World Cup events explorative search\") \n",
    "\n",
    "Consider the following exploratory information need:\n",
    "\n",
    "> Explore the participants and winners of different editions of the FIFA World Cup"
   ]
  },
  {
   "cell_type": "markdown",
   "id": "4a45c0ba-f79e-441d-bec5-84401b09db70",
   "metadata": {},
   "source": [
    "## Useful URIs for the current workflow\n",
    "\n",
    "\n",
    "The following are given:\n",
    "\n",
    "| IRI           | Description    | Role      |\n",
    "| -----------   | -----------    |-----------|\n",
    "| `wdt:P1647`   | subproperty    | predicate |\n",
    "| `wdt:P31`     | instance of    | predicate |\n",
    "| `wdt:P106`    | profession     | predicate | \n",
    "| `wdt:P279`    | subclass       | predicate |\n",
    "| `wdt:P27`     | nationality    | predicate |\n",
    "| `wdt:P1532`   | country of sport    | predicate |\n",
    "| `wd:Q29`      | Spain           | node |\n",
    "| `wd:Q42267`   | Spain national football team | node |\n",
    "| `wd:Q19317`   | FIFA World Cup  | node |\n",
    "| `wd:Q176883`  | 2010 FIFA World cup  | node |\n",
    "| `wd:Q208401`  | 2010 FIFA World Cup Final | node      |\n",
    "| `wd:Q6979593`  |national football team | node      |\n",
    "\n",
    "\n",
    "Also consider\n",
    "\n",
    "```\n",
    "?a wdt:P31 wd:Q6979593\n",
    "```\n",
    "\n",
    "is the BGP to retrieve all the  **national footbal teams**\n"
   ]
  },
  {
   "cell_type": "markdown",
   "id": "7af439fb-96e4-4dbb-a381-f19afab79f86",
   "metadata": {
    "tags": []
   },
   "source": [
    "## Workload Goals\n",
    "\n",
    "1. Identify the BGP for connecting national football teams with the participations in the finals or in the world cups\n",
    "\n",
    "2. Identify the BGP that connects a country with a national footbal team or as a location to a world cup\n",
    "\n",
    "3. In which countries took place a FIFA world cup or world cup final? With how many participants?\n",
    "\n",
    "4. Compare number of participants and winners of different world cups\n",
    " \n",
    "   4.1 How many times each country participated in a world cup?\n",
    "   \n",
    "   4.2 Which country participated in the most finals? Which country won the most finals?\n",
    "   \n",
    "   4.3 Who participated in the most world cups among Italy, France, Spain, and Germany?\n"
   ]
  },
  {
   "cell_type": "code",
   "execution_count": 1,
   "id": "24a853ab-830c-422c-afd3-e9e015b8b8ed",
   "metadata": {},
   "outputs": [],
   "source": [
    "# start your workflow here"
   ]
  },
  {
   "cell_type": "code",
   "execution_count": 2,
   "id": "ade01416-92e7-4ad7-b9a9-b8fb330750dc",
   "metadata": {},
   "outputs": [
    {
     "name": "stdout",
     "output_type": "stream",
     "text": [
      "Results\n",
      "[('callret-0', '1220')]\n"
     ]
    },
    {
     "data": {
      "text/plain": [
       "1"
      ]
     },
     "execution_count": 2,
     "metadata": {},
     "output_type": "execute_result"
    }
   ],
   "source": [
    "queryString = \"\"\"\n",
    "SELECT COUNT(*)\n",
    "WHERE { \n",
    "\n",
    "?a wdt:P31 wd:Q6979593\n",
    "} \n",
    "\"\"\"\n",
    "\n",
    "print(\"Results\")\n",
    "run_query(queryString)"
   ]
  },
  {
   "cell_type": "markdown",
   "id": "9a7f521c-a6d7-4f50-b744-2651f5f642eb",
   "metadata": {},
   "source": [
    "## Task 1 -- Identify the BGP for connecting national football teams with the participations in the finals or in the world cups"
   ]
  },
  {
   "cell_type": "markdown",
   "id": "ef2b381e-0c97-4d35-90ab-2671911f51ad",
   "metadata": {},
   "source": [
    "#### I find all properties of national football teams"
   ]
  },
  {
   "cell_type": "code",
   "execution_count": 4,
   "id": "365e9b69-8c02-4700-baba-85b89766f9e0",
   "metadata": {},
   "outputs": [
    {
     "name": "stdout",
     "output_type": "stream",
     "text": [
      "Results\n",
      "[('p', 'http://www.wikidata.org/prop/direct/P1352'), ('pname', 'ranking'), ('number', '14027')]\n",
      "[('p', 'http://www.wikidata.org/prop/direct/P31'), ('pname', 'instance of'), ('number', '1376')]\n",
      "[('p', 'http://www.wikidata.org/prop/direct/P641'), ('pname', 'sport'), ('number', '1207')]\n",
      "[('p', 'http://www.wikidata.org/prop/direct/P2094'), ('pname', 'competition class'), ('number', '1199')]\n",
      "[('p', 'http://www.wikidata.org/prop/direct/P17'), ('pname', 'country'), ('number', '1124')]\n",
      "[('p', 'http://www.wikidata.org/prop/direct/P1532'), ('pname', 'country for sport'), ('number', '1055')]\n",
      "[('p', 'http://www.wikidata.org/prop/direct/P41'), ('pname', 'flag image'), ('number', '1019')]\n",
      "[('p', 'http://www.wikidata.org/prop/direct/P3441'), ('pname', 'FIFA country code'), ('number', '952')]\n",
      "[('p', 'http://www.wikidata.org/prop/direct/P127'), ('pname', 'owned by'), ('number', '919')]\n",
      "[('p', 'http://www.wikidata.org/prop/direct/P646'), ('pname', 'Freebase ID'), ('number', '883')]\n",
      "[('p', 'http://www.wikidata.org/prop/direct/P1344'), ('pname', 'participant in'), ('number', '611')]\n",
      "[('p', 'http://www.wikidata.org/prop/direct/P856'), ('pname', 'official website'), ('number', '306')]\n",
      "[('p', 'http://www.wikidata.org/prop/direct/P2671'), ('pname', 'Google Knowledge Graph ID'), ('number', '302')]\n",
      "[('p', 'http://www.wikidata.org/prop/direct/P910'), ('pname', \"topic's main category\"), ('number', '293')]\n",
      "[('p', 'http://www.wikidata.org/prop/direct/P7223'), ('pname', 'Transfermarkt team ID'), ('number', '289')]\n",
      "[('p', 'http://www.wikidata.org/prop/direct/P286'), ('pname', 'head coach'), ('number', '238')]\n",
      "[('p', 'http://www.wikidata.org/prop/direct/P373'), ('pname', 'Commons category'), ('number', '211')]\n",
      "[('p', 'http://www.wikidata.org/prop/direct/P634'), ('pname', 'captain'), ('number', '157')]\n",
      "[('p', 'http://www.wikidata.org/prop/direct/P115'), ('pname', 'home venue'), ('number', '99')]\n",
      "[('p', 'http://www.wikidata.org/prop/direct/P279'), ('pname', 'subclass of'), ('number', '97')]\n",
      "[('p', 'http://www.wikidata.org/prop/direct/P3417'), ('pname', 'Quora topic ID'), ('number', '89')]\n",
      "[('p', 'http://www.wikidata.org/prop/direct/P2522'), ('pname', 'victory'), ('number', '87')]\n",
      "[('p', 'http://www.wikidata.org/prop/direct/P571'), ('pname', 'inception'), ('number', '62')]\n",
      "[('p', 'http://www.wikidata.org/prop/direct/P2002'), ('pname', 'Twitter username'), ('number', '46')]\n",
      "[('p', 'http://www.wikidata.org/prop/direct/P6262'), ('pname', 'Fandom article ID'), ('number', '44')]\n",
      "[('p', 'http://www.wikidata.org/prop/direct/P8687'), ('pname', 'social media followers'), ('number', '42')]\n",
      "[('p', 'http://www.wikidata.org/prop/direct/P2013'), ('pname', 'Facebook ID'), ('number', '38')]\n",
      "[('p', 'http://www.wikidata.org/prop/direct/P463'), ('pname', 'member of'), ('number', '29')]\n",
      "[('p', 'http://www.wikidata.org/prop/direct/P2184'), ('pname', 'history of topic'), ('number', '29')]\n",
      "[('p', 'http://www.wikidata.org/prop/direct/P18'), ('pname', 'image'), ('number', '26')]\n",
      "[('p', 'http://www.wikidata.org/prop/direct/P3279'), ('pname', 'statistical leader'), ('number', '23')]\n",
      "[('p', 'http://www.wikidata.org/prop/direct/P2003'), ('pname', 'Instagram username'), ('number', '22')]\n",
      "[('p', 'http://www.wikidata.org/prop/direct/P1889'), ('pname', 'different from'), ('number', '19')]\n",
      "[('p', 'http://www.wikidata.org/prop/direct/P6112'), ('pname', 'category for members of a team'), ('number', '18')]\n",
      "[('p', 'http://www.wikidata.org/prop/direct/P154'), ('pname', 'logo image'), ('number', '17')]\n",
      "[('p', 'http://www.wikidata.org/prop/direct/P7818'), ('pname', 'French Vikidia ID'), ('number', '15')]\n",
      "[('p', 'http://www.wikidata.org/prop/direct/P576'), ('pname', 'dissolved, abolished or demolished date'), ('number', '14')]\n",
      "[('p', 'http://www.wikidata.org/prop/direct/P214'), ('pname', 'VIAF ID'), ('number', '13')]\n",
      "[('p', 'http://www.wikidata.org/prop/direct/P5995'), ('pname', 'kit supplier'), ('number', '13')]\n",
      "[('p', 'http://www.wikidata.org/prop/direct/P6364'), ('pname', 'official color(s)'), ('number', '11')]\n",
      "[('p', 'http://www.wikidata.org/prop/direct/P8737'), ('pname', 'Opta football team ID'), ('number', '11')]\n",
      "[('p', 'http://www.wikidata.org/prop/direct/P8672'), ('pname', 'Twitter topic ID'), ('number', '11')]\n",
      "[('p', 'http://www.wikidata.org/prop/direct/P7859'), ('pname', 'WorldCat Identities ID'), ('number', '10')]\n",
      "[('p', 'http://www.wikidata.org/prop/direct/P166'), ('pname', 'award received'), ('number', '10')]\n",
      "[('p', 'http://www.wikidata.org/prop/direct/P2397'), ('pname', 'YouTube channel ID'), ('number', '9')]\n",
      "[('p', 'http://www.wikidata.org/prop/direct/P5008'), ('pname', 'on focus list of Wikimedia project'), ('number', '9')]\n",
      "[('p', 'http://www.wikidata.org/prop/direct/P6131'), ('pname', 'Soccerway team ID'), ('number', '9')]\n",
      "[('p', 'http://www.wikidata.org/prop/direct/P7280'), ('pname', 'PlaymakerStats.com team ID'), ('number', '8')]\n",
      "[('p', 'http://www.wikidata.org/prop/direct/P1268'), ('pname', 'represents'), ('number', '7')]\n",
      "[('p', 'http://www.wikidata.org/prop/direct/P7351'), ('pname', 'FootballDatabase.eu team ID'), ('number', '7')]\n",
      "[('p', 'http://www.wikidata.org/prop/direct/P7361'), ('pname', 'UEFA team ID'), ('number', '6')]\n",
      "[('p', 'http://www.wikidata.org/prop/direct/P7287'), ('pname', 'WorldFootball.net team ID'), ('number', '6')]\n",
      "[('p', 'http://www.wikidata.org/prop/direct/P244'), ('pname', 'Library of Congress authority ID'), ('number', '6')]\n",
      "[('p', 'http://www.wikidata.org/prop/direct/P137'), ('pname', 'operator'), ('number', '5')]\n",
      "[('p', 'http://www.wikidata.org/prop/direct/P6802'), ('pname', 'related image'), ('number', '5')]\n",
      "[('p', 'http://www.wikidata.org/prop/direct/P1448'), ('pname', 'official name'), ('number', '5')]\n",
      "[('p', 'http://www.wikidata.org/prop/direct/P361'), ('pname', 'part of'), ('number', '5')]\n",
      "[('p', 'http://www.wikidata.org/prop/direct/P8408'), ('pname', 'KBpedia ID'), ('number', '5')]\n",
      "[('p', 'http://www.wikidata.org/prop/direct/P859'), ('pname', 'sponsor'), ('number', '5')]\n",
      "[('p', 'http://www.wikidata.org/prop/direct/P1424'), ('pname', \"topic's main template\"), ('number', '4')]\n",
      "[('p', 'http://www.wikidata.org/prop/direct/P345'), ('pname', 'IMDb ID'), ('number', '4')]\n",
      "[('p', 'http://www.wikidata.org/prop/direct/P227'), ('pname', 'GND ID'), ('number', '4')]\n",
      "[('p', 'http://www.wikidata.org/prop/direct/P1365'), ('pname', 'replaces'), ('number', '4')]\n",
      "[('p', 'http://www.wikidata.org/prop/direct/P1366'), ('pname', 'replaced by'), ('number', '4')]\n",
      "[('p', 'http://www.wikidata.org/prop/direct/P1449'), ('pname', 'nickname'), ('number', '4')]\n",
      "[('p', 'http://www.wikidata.org/prop/direct/P1813'), ('pname', 'short name'), ('number', '4')]\n",
      "[('p', 'http://www.wikidata.org/prop/direct/P797'), ('pname', 'authority'), ('number', '4')]\n",
      "[('p', 'http://www.wikidata.org/prop/direct/P1417'), ('pname', 'Encyclopædia Britannica Online ID'), ('number', '4')]\n",
      "[('p', 'http://www.wikidata.org/prop/direct/P434'), ('pname', 'MusicBrainz artist ID'), ('number', '3')]\n",
      "[('p', 'http://www.wikidata.org/prop/direct/P7822'), ('pname', 'Italian Vikidia ID'), ('number', '3')]\n",
      "[('p', 'http://www.wikidata.org/prop/direct/P3828'), ('pname', 'wears'), ('number', '3')]\n",
      "[('p', 'http://www.wikidata.org/prop/direct/P2572'), ('pname', 'hashtag'), ('number', '3')]\n",
      "[('p', 'http://www.wikidata.org/prop/direct/P2581'), ('pname', 'BabelNet ID'), ('number', '3')]\n",
      "[('p', 'http://www.wikidata.org/prop/direct/P935'), ('pname', 'Commons gallery'), ('number', '3')]\n",
      "[('p', 'http://www.wikidata.org/prop/direct/P8309'), ('pname', 'Yle topic ID'), ('number', '3')]\n",
      "[('p', 'http://www.wikidata.org/prop/direct/P7876'), ('pname', 'FlashScore.com team ID'), ('number', '2')]\n",
      "[('p', 'http://www.wikidata.org/prop/direct/P4013'), ('pname', 'Giphy username'), ('number', '2')]\n",
      "[('p', 'http://www.wikidata.org/prop/direct/P7085'), ('pname', 'TikTok username'), ('number', '2')]\n",
      "[('p', 'http://www.wikidata.org/prop/direct/P1617'), ('pname', 'BBC Things ID'), ('number', '2')]\n",
      "[('p', 'http://www.wikidata.org/prop/direct/P8642'), ('pname', 'FBref.com squad ID'), ('number', '2')]\n",
      "[('p', 'http://www.wikidata.org/prop/direct/P461'), ('pname', 'opposite of'), ('number', '2')]\n",
      "[('p', 'http://www.wikidata.org/prop/direct/P159'), ('pname', 'headquarters location'), ('number', '2')]\n",
      "[('p', 'http://www.wikidata.org/prop/direct/P1269'), ('pname', 'facet of'), ('number', '1')]\n",
      "[('p', 'http://www.wikidata.org/prop/direct/P131'), ('pname', 'located in the administrative territorial entity'), ('number', '1')]\n",
      "[('p', 'http://www.wikidata.org/prop/direct/P2001'), ('pname', 'Revised Romanization'), ('number', '1')]\n",
      "[('p', 'http://www.wikidata.org/prop/direct/P5740'), ('pname', 'So Foot ID'), ('number', '1')]\n",
      "[('p', 'http://www.wikidata.org/prop/direct/P6081'), ('pname', 'RIA Novosti reference'), ('number', '1')]\n",
      "[('p', 'http://www.wikidata.org/prop/direct/P1001'), ('pname', 'applies to jurisdiction'), ('number', '1')]\n",
      "[('p', 'http://www.wikidata.org/prop/direct/P8885'), ('pname', 'Namuwiki ID'), ('number', '1')]\n",
      "[('p', 'http://www.wikidata.org/prop/direct/P3789'), ('pname', 'Telegram username'), ('number', '1')]\n",
      "[('p', 'http://www.wikidata.org/prop/direct/P582'), ('pname', 'end time'), ('number', '1')]\n",
      "[('p', 'http://www.wikidata.org/prop/direct/P1953'), ('pname', 'Discogs artist ID'), ('number', '1')]\n",
      "[('p', 'http://www.wikidata.org/prop/direct/P3040'), ('pname', 'SoundCloud ID'), ('number', '1')]\n",
      "[('p', 'http://www.wikidata.org/prop/direct/P112'), ('pname', 'founded by'), ('number', '1')]\n",
      "[('p', 'http://www.wikidata.org/prop/direct/P2847'), ('pname', 'Google+ ID'), ('number', '1')]\n",
      "[('p', 'http://www.wikidata.org/prop/direct/P3509'), ('pname', 'Dagens Nyheter topic ID'), ('number', '1')]\n",
      "[('p', 'http://www.wikidata.org/prop/direct/P8147'), ('pname', 'National-Football-Teams.com club ID'), ('number', '1')]\n",
      "[('p', 'http://www.wikidata.org/prop/direct/P1350'), ('pname', 'number of matches played/races/starts'), ('number', '1')]\n",
      "[('p', 'http://www.wikidata.org/prop/direct/P749'), ('pname', 'parent organization'), ('number', '1')]\n",
      "[('p', 'http://www.wikidata.org/prop/direct/P580'), ('pname', 'start time'), ('number', '1')]\n",
      "[('p', 'http://www.wikidata.org/prop/direct/P1451'), ('pname', 'motto text'), ('number', '1')]\n",
      "[('p', 'http://www.wikidata.org/prop/direct/P1942'), ('pname', 'McCune-Reischauer romanization'), ('number', '1')]\n",
      "[('p', 'http://www.wikidata.org/prop/direct/P358'), ('pname', 'discography'), ('number', '1')]\n",
      "[('p', 'http://www.wikidata.org/prop/direct/P9629'), ('pname', 'Armeniapedia ID'), ('number', '1')]\n",
      "[('p', 'http://www.wikidata.org/prop/direct/P2541'), ('pname', 'operating area'), ('number', '1')]\n",
      "[('p', 'http://www.wikidata.org/prop/direct/P4408'), ('pname', 'sports.ru athlete ID'), ('number', '1')]\n",
      "[('p', 'http://www.wikidata.org/prop/direct/P1359'), ('pname', 'number of points/goals conceded'), ('number', '1')]\n",
      "[('p', 'http://www.wikidata.org/prop/direct/P3579'), ('pname', 'Sina Weibo user ID'), ('number', '1')]\n",
      "[('p', 'http://www.wikidata.org/prop/direct/P21'), ('pname', 'sex or gender'), ('number', '1')]\n",
      "[('p', 'http://www.wikidata.org/prop/direct/P488'), ('pname', 'chairperson'), ('number', '1')]\n",
      "[('p', 'http://www.wikidata.org/prop/direct/P1351'), ('pname', 'number of points/goals/set scored'), ('number', '1')]\n",
      "[('p', 'http://www.wikidata.org/prop/direct/P3106'), ('pname', 'Guardian topic ID'), ('number', '1')]\n",
      "[('p', 'http://www.wikidata.org/prop/direct/P7212'), ('pname', 'LyricsTranslate ID'), ('number', '1')]\n",
      "[('p', 'http://www.wikidata.org/prop/direct/P1343'), ('pname', 'described by source'), ('number', '1')]\n",
      "[('p', 'http://www.wikidata.org/prop/direct/P1037'), ('pname', 'director / manager'), ('number', '1')]\n"
     ]
    },
    {
     "data": {
      "text/plain": [
       "115"
      ]
     },
     "execution_count": 4,
     "metadata": {},
     "output_type": "execute_result"
    }
   ],
   "source": [
    "queryString = \"\"\"\n",
    "SELECT DISTINCT ?p ?pname (COUNT(?p) AS ?number) WHERE { \n",
    "\n",
    "?team wdt:P31 wd:Q6979593;\n",
    "      ?p ?obj.\n",
    "      \n",
    "?p <http://schema.org/name> ?pname .\n",
    "} GROUP BY ?p ?pname\n",
    "ORDER BY DESC (?number)\n",
    "\"\"\"\n",
    "\n",
    "print(\"Results\")\n",
    "run_query(queryString)"
   ]
  },
  {
   "cell_type": "code",
   "execution_count": null,
   "id": "85d441b7-8eb2-4442-a8b9-d0c7f4e26431",
   "metadata": {},
   "outputs": [],
   "source": [
    "queryString = \"\"\"\n",
    "SELECT DISTINCT ?p ?pname WHERE { \n",
    "\n",
    "?team wdt:P31 wd:Q6979593.\n",
    "?sub ?p ?team.\n",
    "      \n",
    "?p <http://schema.org/name> ?pname .\n",
    "} \n",
    "\"\"\"\n",
    "\n",
    "print(\"Results\")\n",
    "run_query(queryString)"
   ]
  },
  {
   "cell_type": "markdown",
   "id": "f127e516-2c05-4c2c-8d61-e3d472d2a862",
   "metadata": {},
   "source": [
    "#### I search in \"participate in\""
   ]
  },
  {
   "cell_type": "code",
   "execution_count": 9,
   "id": "dcb749ab-8cad-4d86-b9d4-3b19f832b937",
   "metadata": {},
   "outputs": [
    {
     "name": "stdout",
     "output_type": "stream",
     "text": [
      "Results\n",
      "[('sub', 'http://www.wikidata.org/entity/Q100973539'), ('subname', 'Hlieb Roŭda')]\n",
      "[('sub', 'http://www.wikidata.org/entity/Q19857005'), ('subname', 'Robert Burbano')]\n",
      "[('sub', 'http://www.wikidata.org/entity/Q16941646'), ('subname', 'Javier Charcopa')]\n",
      "[('sub', 'http://www.wikidata.org/entity/Q21070693'), ('subname', 'Eddy Corozo')]\n",
      "[('sub', 'http://www.wikidata.org/entity/Q98668875'), ('subname', 'Thiago Prieto Acosta')]\n",
      "[('sub', 'http://www.wikidata.org/entity/Q21682606'), ('subname', 'Bryan Ruiz')]\n",
      "[('sub', 'http://www.wikidata.org/entity/Q18387214'), ('subname', 'Kasim Nuhu')]\n",
      "[('sub', 'http://www.wikidata.org/entity/Q18417603'), ('subname', 'Osbaldo Lastra')]\n"
     ]
    },
    {
     "data": {
      "text/plain": [
       "8"
      ]
     },
     "execution_count": 9,
     "metadata": {},
     "output_type": "execute_result"
    }
   ],
   "source": [
    "queryString = \"\"\"\n",
    "SELECT DISTINCT ?sub ?subname WHERE { \n",
    "\n",
    "?team wdt:P31 wd:Q6979593.\n",
    "?sub wdt:P1344 ?team.\n",
    "      \n",
    "?sub <http://schema.org/name> ?subname .\n",
    "} \n",
    "\"\"\"\n",
    "\n",
    "print(\"Results\")\n",
    "run_query(queryString)"
   ]
  },
  {
   "cell_type": "markdown",
   "id": "ec4156b8-68fb-4007-bba5-52e7d200ed49",
   "metadata": {},
   "source": [
    "#### Nothing useful, let's try with \"participant P710\""
   ]
  },
  {
   "cell_type": "code",
   "execution_count": null,
   "id": "f215cfcb-4f86-49b9-8906-80eb89e6f1d6",
   "metadata": {},
   "outputs": [],
   "source": [
    "queryString = \"\"\"\n",
    "SELECT DISTINCT ?sub ?subname WHERE { \n",
    "\n",
    "?team wdt:P31 wd:Q6979593.\n",
    "?sub wdt:P710 ?team.\n",
    "      \n",
    "?sub <http://schema.org/name> ?subname .\n",
    "} \n",
    "\"\"\"\n",
    "\n",
    "print(\"Results\")\n",
    "run_query(queryString)"
   ]
  },
  {
   "cell_type": "markdown",
   "id": "2f3e1b5a-ac35-4a34-8d63-8205e4176190",
   "metadata": {},
   "source": [
    "#### Nothing useful also here, let's try with \"participating team\" P1923"
   ]
  },
  {
   "cell_type": "code",
   "execution_count": null,
   "id": "7c855f33-4479-4c0a-94ed-27eac0631e7a",
   "metadata": {},
   "outputs": [],
   "source": [
    "queryString = \"\"\"\n",
    "SELECT DISTINCT ?sub ?subname WHERE { \n",
    "\n",
    "?team wdt:P31 wd:Q6979593.\n",
    "?sub wdt:P1923 ?team.\n",
    "      \n",
    "?sub <http://schema.org/name> ?subname .\n",
    "} \n",
    "\"\"\"\n",
    "\n",
    "print(\"Results\")\n",
    "run_query(queryString)"
   ]
  },
  {
   "cell_type": "markdown",
   "id": "976f5e2b-9da4-4e6c-8eb2-b02c93919015",
   "metadata": {},
   "source": [
    "#### Found, now i select only the world cups (wd:Q19317)"
   ]
  },
  {
   "cell_type": "code",
   "execution_count": 12,
   "id": "fd0069c0-084c-460e-ab4a-341f148ee797",
   "metadata": {},
   "outputs": [
    {
     "name": "stdout",
     "output_type": "stream",
     "text": [
      "Results\n",
      "Empty\n"
     ]
    },
    {
     "data": {
      "text/plain": [
       "0"
      ]
     },
     "execution_count": 12,
     "metadata": {},
     "output_type": "execute_result"
    }
   ],
   "source": [
    "queryString = \"\"\"\n",
    "SELECT DISTINCT ?sub ?subname WHERE { \n",
    "\n",
    "?team wdt:P31 wd:Q6979593.\n",
    "?sub wdt:P1923 ?team;\n",
    "     wdt:P31 wd:Q19317.\n",
    "      \n",
    "?sub <http://schema.org/name> ?subname .\n",
    "} \n",
    "\"\"\"\n",
    "\n",
    "print(\"Results\")\n",
    "run_query(queryString)"
   ]
  },
  {
   "cell_type": "markdown",
   "id": "de6b17ef-6152-47df-a899-bbf2d8050bd7",
   "metadata": {},
   "source": [
    "#### The World cups are not saved as \"instance of\" \"Fifa World Cup\". Let's pick for example the 2010 World cup (Q176883) and inspect its properties"
   ]
  },
  {
   "cell_type": "code",
   "execution_count": 14,
   "id": "6838642d-bb5d-44be-9571-f20b09ad234f",
   "metadata": {},
   "outputs": [
    {
     "name": "stdout",
     "output_type": "stream",
     "text": [
      "Results\n",
      "[('p', 'http://www.wikidata.org/prop/direct/P4967'), ('pname', 'prerequisite')]\n",
      "[('p', 'http://www.wikidata.org/prop/direct/P1132'), ('pname', 'number of participants')]\n",
      "[('p', 'http://www.wikidata.org/prop/direct/P1346'), ('pname', 'winner')]\n",
      "[('p', 'http://www.wikidata.org/prop/direct/P1350'), ('pname', 'number of matches played/races/starts')]\n",
      "[('p', 'http://www.wikidata.org/prop/direct/P1424'), ('pname', \"topic's main template\")]\n",
      "[('p', 'http://www.wikidata.org/prop/direct/P17'), ('pname', 'country')]\n",
      "[('p', 'http://www.wikidata.org/prop/direct/P18'), ('pname', 'image')]\n",
      "[('p', 'http://www.wikidata.org/prop/direct/P2094'), ('pname', 'competition class')]\n",
      "[('p', 'http://www.wikidata.org/prop/direct/P214'), ('pname', 'VIAF ID')]\n",
      "[('p', 'http://www.wikidata.org/prop/direct/P227'), ('pname', 'GND ID')]\n",
      "[('p', 'http://www.wikidata.org/prop/direct/P244'), ('pname', 'Library of Congress authority ID')]\n",
      "[('p', 'http://www.wikidata.org/prop/direct/P2581'), ('pname', 'BabelNet ID')]\n",
      "[('p', 'http://www.wikidata.org/prop/direct/P276'), ('pname', 'location')]\n",
      "[('p', 'http://www.wikidata.org/prop/direct/P31'), ('pname', 'instance of')]\n",
      "[('p', 'http://www.wikidata.org/prop/direct/P3417'), ('pname', 'Quora topic ID')]\n",
      "[('p', 'http://www.wikidata.org/prop/direct/P3450'), ('pname', 'sports season of league or competition')]\n",
      "[('p', 'http://www.wikidata.org/prop/direct/P373'), ('pname', 'Commons category')]\n",
      "[('p', 'http://www.wikidata.org/prop/direct/P393'), ('pname', 'edition number')]\n",
      "[('p', 'http://www.wikidata.org/prop/direct/P3967'), ('pname', 'final event')]\n",
      "[('p', 'http://www.wikidata.org/prop/direct/P454'), ('pname', 'Structurae structure ID')]\n",
      "[('p', 'http://www.wikidata.org/prop/direct/P527'), ('pname', 'has part')]\n",
      "[('p', 'http://www.wikidata.org/prop/direct/P580'), ('pname', 'start time')]\n",
      "[('p', 'http://www.wikidata.org/prop/direct/P582'), ('pname', 'end time')]\n",
      "[('p', 'http://www.wikidata.org/prop/direct/P585'), ('pname', 'point in time')]\n",
      "[('p', 'http://www.wikidata.org/prop/direct/P6262'), ('pname', 'Fandom article ID')]\n",
      "[('p', 'http://www.wikidata.org/prop/direct/P641'), ('pname', 'sport')]\n",
      "[('p', 'http://www.wikidata.org/prop/direct/P646'), ('pname', 'Freebase ID')]\n",
      "[('p', 'http://www.wikidata.org/prop/direct/P664'), ('pname', 'organizer')]\n",
      "[('p', 'http://www.wikidata.org/prop/direct/P691'), ('pname', 'NKCR AUT ID')]\n",
      "[('p', 'http://www.wikidata.org/prop/direct/P710'), ('pname', 'participant')]\n",
      "[('p', 'http://www.wikidata.org/prop/direct/P7818'), ('pname', 'French Vikidia ID')]\n",
      "[('p', 'http://www.wikidata.org/prop/direct/P7822'), ('pname', 'Italian Vikidia ID')]\n",
      "[('p', 'http://www.wikidata.org/prop/direct/P7859'), ('pname', 'WorldCat Identities ID')]\n",
      "[('p', 'http://www.wikidata.org/prop/direct/P822'), ('pname', 'mascot')]\n",
      "[('p', 'http://www.wikidata.org/prop/direct/P856'), ('pname', 'official website')]\n",
      "[('p', 'http://www.wikidata.org/prop/direct/P910'), ('pname', \"topic's main category\")]\n",
      "[('p', 'http://www.wikidata.org/prop/direct/P948'), ('pname', 'page banner')]\n",
      "[('p', 'http://www.wikidata.org/prop/direct/P1110'), ('pname', 'attendance')]\n",
      "[('p', 'http://www.wikidata.org/prop/direct/P1351'), ('pname', 'number of points/goals/set scored')]\n",
      "[('p', 'http://www.wikidata.org/prop/direct/P1923'), ('pname', 'participating team')]\n",
      "[('p', 'http://www.wikidata.org/prop/direct/P3279'), ('pname', 'statistical leader')]\n",
      "[('p', 'http://www.wikidata.org/prop/direct/P5162'), ('pname', 'OnsOranje tournament ID')]\n"
     ]
    },
    {
     "data": {
      "text/plain": [
       "42"
      ]
     },
     "execution_count": 14,
     "metadata": {},
     "output_type": "execute_result"
    }
   ],
   "source": [
    "queryString = \"\"\"\n",
    "SELECT DISTINCT ?p ?pname WHERE { \n",
    "\n",
    "wd:Q176883 ?p ?obj.\n",
    "      \n",
    "?p <http://schema.org/name> ?pname .\n",
    "} \n",
    "\"\"\"\n",
    "\n",
    "print(\"Results\")\n",
    "run_query(queryString)"
   ]
  },
  {
   "cell_type": "markdown",
   "id": "eb69251c-8146-4b29-97aa-504985fd49b4",
   "metadata": {},
   "source": [
    "#### Let's print its \"instance of\""
   ]
  },
  {
   "cell_type": "code",
   "execution_count": 15,
   "id": "564a6f31-6b02-4cef-9ac1-502926f1e02d",
   "metadata": {},
   "outputs": [
    {
     "name": "stdout",
     "output_type": "stream",
     "text": [
      "Results\n",
      "[('obj', 'http://www.wikidata.org/entity/Q27020041'), ('objname', 'sports season')]\n"
     ]
    },
    {
     "data": {
      "text/plain": [
       "1"
      ]
     },
     "execution_count": 15,
     "metadata": {},
     "output_type": "execute_result"
    }
   ],
   "source": [
    "queryString = \"\"\"\n",
    "SELECT DISTINCT ?obj ?objname WHERE { \n",
    "\n",
    "wd:Q176883 wdt:P31 ?obj.\n",
    "      \n",
    "?obj <http://schema.org/name> ?objname .\n",
    "} \n",
    "\"\"\"\n",
    "\n",
    "print(\"Results\")\n",
    "run_query(queryString)"
   ]
  },
  {
   "cell_type": "markdown",
   "id": "d12a3e1d-d616-4916-b7b0-7bbf71ceee93",
   "metadata": {},
   "source": [
    "#### Let's use this (instance of \"sport season\")"
   ]
  },
  {
   "cell_type": "code",
   "execution_count": null,
   "id": "595d88af-f314-4c37-9a62-4e26c40b6e05",
   "metadata": {},
   "outputs": [],
   "source": [
    "queryString = \"\"\"\n",
    "SELECT DISTINCT ?sub ?subname WHERE { \n",
    "\n",
    "?team wdt:P31 wd:Q6979593.\n",
    "?sub wdt:P1923 ?team;\n",
    "     wdt:P31 wd:Q27020041.\n",
    "      \n",
    "?sub <http://schema.org/name> ?subname .\n",
    "} \n",
    "\"\"\"\n",
    "\n",
    "print(\"Results\")\n",
    "run_query(queryString)"
   ]
  },
  {
   "cell_type": "markdown",
   "id": "268efa7c-8433-4b2f-a821-15d997952725",
   "metadata": {},
   "source": [
    "#### Still too much data. I check property \"sports season of league or competition\" (P3450)"
   ]
  },
  {
   "cell_type": "code",
   "execution_count": 17,
   "id": "25e4cb27-942e-4ea8-8c3e-0935ff520706",
   "metadata": {},
   "outputs": [
    {
     "name": "stdout",
     "output_type": "stream",
     "text": [
      "Results\n",
      "[('obj', 'http://www.wikidata.org/entity/Q19317'), ('objname', 'FIFA World Cup')]\n"
     ]
    },
    {
     "data": {
      "text/plain": [
       "1"
      ]
     },
     "execution_count": 17,
     "metadata": {},
     "output_type": "execute_result"
    }
   ],
   "source": [
    "queryString = \"\"\"\n",
    "SELECT DISTINCT ?obj ?objname WHERE { \n",
    "\n",
    "wd:Q176883 wdt:P3450 ?obj.\n",
    "      \n",
    "?obj <http://schema.org/name> ?objname .\n",
    "} \n",
    "\"\"\"\n",
    "\n",
    "print(\"Results\")\n",
    "run_query(queryString)"
   ]
  },
  {
   "cell_type": "markdown",
   "id": "40919b7f-7746-4289-b71a-10c7e5000da2",
   "metadata": {},
   "source": [
    "#### Found the connection!!"
   ]
  },
  {
   "cell_type": "code",
   "execution_count": 19,
   "id": "69d3c4dd-60f3-4426-a88b-c37ca802989a",
   "metadata": {},
   "outputs": [
    {
     "name": "stdout",
     "output_type": "stream",
     "text": [
      "Results\n",
      "[('sub', 'http://www.wikidata.org/entity/Q101751'), ('subname', '1994 FIFA World Cup')]\n",
      "[('sub', 'http://www.wikidata.org/entity/Q131591'), ('subname', '1938 FIFA World Cup')]\n",
      "[('sub', 'http://www.wikidata.org/entity/Q132664'), ('subname', '1970 FIFA World Cup')]\n",
      "[('sub', 'http://www.wikidata.org/entity/Q48432'), ('subname', '1930 FIFA World Cup')]\n",
      "[('sub', 'http://www.wikidata.org/entity/Q176883'), ('subname', '2010 FIFA World Cup')]\n",
      "[('sub', 'http://www.wikidata.org/entity/Q37285'), ('subname', '2006 FIFA World Cup')]\n",
      "[('sub', 'http://www.wikidata.org/entity/Q46934'), ('subname', '1982 FIFA World Cup')]\n",
      "[('sub', 'http://www.wikidata.org/entity/Q46938'), ('subname', '1986 FIFA World Cup')]\n",
      "[('sub', 'http://www.wikidata.org/entity/Q46943'), ('subname', '1978 FIFA World Cup')]\n",
      "[('sub', 'http://www.wikidata.org/entity/Q47735'), ('subname', '2002 FIFA World Cup')]\n",
      "[('sub', 'http://www.wikidata.org/entity/Q79859'), ('subname', '2014 FIFA World Cup')]\n",
      "[('sub', 'http://www.wikidata.org/entity/Q101730'), ('subname', '1998 FIFA World Cup')]\n",
      "[('sub', 'http://www.wikidata.org/entity/Q131075'), ('subname', '1954 FIFA World Cup')]\n",
      "[('sub', 'http://www.wikidata.org/entity/Q132515'), ('subname', '1950 FIFA World Cup')]\n",
      "[('sub', 'http://www.wikidata.org/entity/Q132529'), ('subname', '1990 FIFA World Cup')]\n",
      "[('sub', 'http://www.wikidata.org/entity/Q134202'), ('subname', '1966 FIFA World Cup')]\n",
      "[('sub', 'http://www.wikidata.org/entity/Q166121'), ('subname', '1974 FIFA World Cup')]\n",
      "[('sub', 'http://www.wikidata.org/entity/Q132533'), ('subname', '1958 FIFA World Cup')]\n",
      "[('sub', 'http://www.wikidata.org/entity/Q1477177'), ('subname', '1934 FIFA World Cup')]\n",
      "[('sub', 'http://www.wikidata.org/entity/Q160813'), ('subname', '1962 FIFA World Cup')]\n"
     ]
    },
    {
     "data": {
      "text/plain": [
       "20"
      ]
     },
     "execution_count": 19,
     "metadata": {},
     "output_type": "execute_result"
    }
   ],
   "source": [
    "queryString = \"\"\"\n",
    "SELECT DISTINCT ?sub ?subname WHERE { \n",
    "\n",
    "?team wdt:P31 wd:Q6979593.\n",
    "?sub wdt:P1923 ?team;\n",
    "     wdt:P3450 wd:Q19317.\n",
    "      \n",
    "?sub <http://schema.org/name> ?subname .\n",
    "} \n",
    "\"\"\"\n",
    "\n",
    "print(\"Results\")\n",
    "run_query(queryString)"
   ]
  },
  {
   "cell_type": "markdown",
   "id": "71bd6f9b-c0ae-4291-b743-aa55b8c84401",
   "metadata": {},
   "source": [
    "#### I run the query for that Spain national team (wd:Q42267)"
   ]
  },
  {
   "cell_type": "code",
   "execution_count": 2,
   "id": "ae6a0b23-bc4a-4fbb-9ebc-ad3e4fd60077",
   "metadata": {},
   "outputs": [
    {
     "name": "stdout",
     "output_type": "stream",
     "text": [
      "Results\n",
      "[('sub', 'http://www.wikidata.org/entity/Q101751'), ('subname', '1994 FIFA World Cup')]\n",
      "[('sub', 'http://www.wikidata.org/entity/Q176883'), ('subname', '2010 FIFA World Cup')]\n",
      "[('sub', 'http://www.wikidata.org/entity/Q37285'), ('subname', '2006 FIFA World Cup')]\n",
      "[('sub', 'http://www.wikidata.org/entity/Q46934'), ('subname', '1982 FIFA World Cup')]\n",
      "[('sub', 'http://www.wikidata.org/entity/Q46938'), ('subname', '1986 FIFA World Cup')]\n",
      "[('sub', 'http://www.wikidata.org/entity/Q46943'), ('subname', '1978 FIFA World Cup')]\n",
      "[('sub', 'http://www.wikidata.org/entity/Q47735'), ('subname', '2002 FIFA World Cup')]\n",
      "[('sub', 'http://www.wikidata.org/entity/Q79859'), ('subname', '2014 FIFA World Cup')]\n",
      "[('sub', 'http://www.wikidata.org/entity/Q101730'), ('subname', '1998 FIFA World Cup')]\n",
      "[('sub', 'http://www.wikidata.org/entity/Q132515'), ('subname', '1950 FIFA World Cup')]\n",
      "[('sub', 'http://www.wikidata.org/entity/Q132529'), ('subname', '1990 FIFA World Cup')]\n",
      "[('sub', 'http://www.wikidata.org/entity/Q134202'), ('subname', '1966 FIFA World Cup')]\n",
      "[('sub', 'http://www.wikidata.org/entity/Q1477177'), ('subname', '1934 FIFA World Cup')]\n",
      "[('sub', 'http://www.wikidata.org/entity/Q160813'), ('subname', '1962 FIFA World Cup')]\n"
     ]
    },
    {
     "data": {
      "text/plain": [
       "14"
      ]
     },
     "execution_count": 2,
     "metadata": {},
     "output_type": "execute_result"
    }
   ],
   "source": [
    "queryString = \"\"\"\n",
    "SELECT DISTINCT ?sub ?subname WHERE { \n",
    "\n",
    "\n",
    "?sub wdt:P1923 wd:Q42267;\n",
    "     wdt:P3450 wd:Q19317.\n",
    "      \n",
    "?sub <http://schema.org/name> ?subname .\n",
    "} \n",
    "\"\"\"\n",
    "\n",
    "print(\"Results\")\n",
    "run_query(queryString)"
   ]
  },
  {
   "cell_type": "markdown",
   "id": "010f50fa-acd9-481e-a5f9-3078280a9135",
   "metadata": {},
   "source": [
    "## Task 2 - Identify the BGP that connects a country with a national footbal team or as a location to a world cup"
   ]
  },
  {
   "cell_type": "markdown",
   "id": "889d72d0-ec5e-4130-b483-163197550a3b",
   "metadata": {},
   "source": [
    "#### Let's see if the given property \"country of sport\" gives what we need (wdt:P1532)"
   ]
  },
  {
   "cell_type": "code",
   "execution_count": 5,
   "id": "490d1461-4338-4b13-b4d5-c8bdb00fb9e2",
   "metadata": {},
   "outputs": [
    {
     "name": "stdout",
     "output_type": "stream",
     "text": [
      "Results\n",
      "[('obj', 'http://www.wikidata.org/entity/Q180573'), ('objname', 'South Vietnam')]\n",
      "[('obj', 'http://www.wikidata.org/entity/Q16644'), ('objname', 'Northern Mariana Islands')]\n",
      "[('obj', 'http://www.wikidata.org/entity/Q951302'), ('objname', 'Saaremaa')]\n",
      "[('obj', 'http://www.wikidata.org/entity/Q3356210'), ('objname', 'Frøya')]\n",
      "[('obj', 'http://www.wikidata.org/entity/Q223'), ('objname', 'Greenland')]\n",
      "[('obj', 'http://www.wikidata.org/entity/Q43048'), ('objname', 'Rhodes')]\n",
      "[('obj', 'http://www.wikidata.org/entity/Q786'), ('objname', 'Dominican Republic')]\n",
      "[('obj', 'http://www.wikidata.org/entity/Q42000'), ('objname', 'Tahiti')]\n",
      "[('obj', 'http://www.wikidata.org/entity/Q25362'), ('objname', 'Saint Barthélemy')]\n",
      "[('obj', 'http://www.wikidata.org/entity/Q170468'), ('objname', 'United Arab Republic')]\n",
      "[('obj', 'http://www.wikidata.org/entity/Q17054'), ('objname', 'Martinique')]\n",
      "[('obj', 'http://www.wikidata.org/entity/Q216923'), ('objname', 'Chinese Taipei')]\n",
      "[('obj', 'http://www.wikidata.org/entity/Q9679'), ('objname', 'Isle of Wight')]\n",
      "[('obj', 'http://www.wikidata.org/entity/Q1774'), ('objname', 'Zanzibar')]\n",
      "[('obj', 'http://www.wikidata.org/entity/Q5187'), ('objname', 'Chechen Republic')]\n",
      "[('obj', 'http://www.wikidata.org/entity/Q1000'), ('objname', 'Gabon')]\n",
      "[('obj', 'http://www.wikidata.org/entity/Q100166'), ('objname', 'Orkney Islands')]\n",
      "[('obj', 'http://www.wikidata.org/entity/Q1005'), ('objname', 'The Gambia')]\n",
      "[('obj', 'http://www.wikidata.org/entity/Q1006'), ('objname', 'Guinea')]\n",
      "[('obj', 'http://www.wikidata.org/entity/Q1007'), ('objname', 'Guinea-Bissau')]\n",
      "[('obj', 'http://www.wikidata.org/entity/Q1008'), ('objname', 'Ivory Coast')]\n",
      "[('obj', 'http://www.wikidata.org/entity/Q1009'), ('objname', 'Cameroon')]\n",
      "[('obj', 'http://www.wikidata.org/entity/Q1011'), ('objname', 'Cape Verde')]\n",
      "[('obj', 'http://www.wikidata.org/entity/Q1013'), ('objname', 'Lesotho')]\n",
      "[('obj', 'http://www.wikidata.org/entity/Q1014'), ('objname', 'Liberia')]\n",
      "[('obj', 'http://www.wikidata.org/entity/Q1016'), ('objname', 'Libya')]\n",
      "[('obj', 'http://www.wikidata.org/entity/Q1019'), ('objname', 'Madagascar')]\n",
      "[('obj', 'http://www.wikidata.org/entity/Q1020'), ('objname', 'Malawi')]\n",
      "[('obj', 'http://www.wikidata.org/entity/Q1025'), ('objname', 'Mauritania')]\n",
      "[('obj', 'http://www.wikidata.org/entity/Q1027'), ('objname', 'Mauritius')]\n",
      "[('obj', 'http://www.wikidata.org/entity/Q1028'), ('objname', 'Morocco')]\n",
      "[('obj', 'http://www.wikidata.org/entity/Q1029'), ('objname', 'Mozambique')]\n",
      "[('obj', 'http://www.wikidata.org/entity/Q1030'), ('objname', 'Namibia')]\n",
      "[('obj', 'http://www.wikidata.org/entity/Q1032'), ('objname', 'Niger')]\n",
      "[('obj', 'http://www.wikidata.org/entity/Q1033'), ('objname', 'Nigeria')]\n",
      "[('obj', 'http://www.wikidata.org/entity/Q1036'), ('objname', 'Uganda')]\n",
      "[('obj', 'http://www.wikidata.org/entity/Q1037'), ('objname', 'Rwanda')]\n",
      "[('obj', 'http://www.wikidata.org/entity/Q1039'), ('objname', 'São Tomé and Príncipe')]\n",
      "[('obj', 'http://www.wikidata.org/entity/Q1041'), ('objname', 'Senegal')]\n",
      "[('obj', 'http://www.wikidata.org/entity/Q1042'), ('objname', 'Seychelles')]\n",
      "[('obj', 'http://www.wikidata.org/entity/Q1044'), ('objname', 'Sierra Leone')]\n",
      "[('obj', 'http://www.wikidata.org/entity/Q1045'), ('objname', 'Somalia')]\n",
      "[('obj', 'http://www.wikidata.org/entity/Q1049'), ('objname', 'Sudan')]\n",
      "[('obj', 'http://www.wikidata.org/entity/Q1050'), ('objname', 'Eswatini')]\n",
      "[('obj', 'http://www.wikidata.org/entity/Q107356467'), ('objname', 'Balearic Islands')]\n",
      "[('obj', 'http://www.wikidata.org/entity/Q114'), ('objname', 'Kenya')]\n",
      "[('obj', 'http://www.wikidata.org/entity/Q115'), ('objname', 'Ethiopia')]\n",
      "[('obj', 'http://www.wikidata.org/entity/Q117'), ('objname', 'Ghana')]\n",
      "[('obj', 'http://www.wikidata.org/entity/Q11703'), ('objname', 'United States Virgin Islands')]\n",
      "[('obj', 'http://www.wikidata.org/entity/Q1183'), ('objname', 'Puerto Rico')]\n",
      "[('obj', 'http://www.wikidata.org/entity/Q1201'), ('objname', 'Saarland')]\n",
      "[('obj', 'http://www.wikidata.org/entity/Q1246'), ('objname', 'Kosovo')]\n",
      "[('obj', 'http://www.wikidata.org/entity/Q126125'), ('objname', 'Saint Martin (French part)')]\n",
      "[('obj', 'http://www.wikidata.org/entity/Q13353'), ('objname', 'Montserrat')]\n",
      "[('obj', 'http://www.wikidata.org/entity/Q1410'), ('objname', 'Gibraltar')]\n",
      "[('obj', 'http://www.wikidata.org/entity/Q142'), ('objname', 'France')]\n",
      "[('obj', 'http://www.wikidata.org/entity/Q145'), ('objname', 'United Kingdom')]\n",
      "[('obj', 'http://www.wikidata.org/entity/Q14773'), ('objname', 'Macau')]\n",
      "[('obj', 'http://www.wikidata.org/entity/Q148'), ('objname', \"People's Republic of China\")]\n",
      "[('obj', 'http://www.wikidata.org/entity/Q15180'), ('objname', 'Soviet Union')]\n",
      "[('obj', 'http://www.wikidata.org/entity/Q152750'), ('objname', 'Protectorate of Bohemia and Moravia')]\n",
      "[('obj', 'http://www.wikidata.org/entity/Q155'), ('objname', 'Brazil')]\n",
      "[('obj', 'http://www.wikidata.org/entity/Q159'), ('objname', 'Russia')]\n",
      "[('obj', 'http://www.wikidata.org/entity/Q16'), ('objname', 'Canada')]\n",
      "[('obj', 'http://www.wikidata.org/entity/Q16641'), ('objname', 'American Samoa')]\n",
      "[('obj', 'http://www.wikidata.org/entity/Q16957'), ('objname', 'German Democratic Republic')]\n",
      "[('obj', 'http://www.wikidata.org/entity/Q17'), ('objname', 'Japan')]\n",
      "[('obj', 'http://www.wikidata.org/entity/Q17269'), ('objname', 'Tibet')]\n",
      "[('obj', 'http://www.wikidata.org/entity/Q176'), ('objname', 'Quebec')]\n",
      "[('obj', 'http://www.wikidata.org/entity/Q18221'), ('objname', 'Turks and Caicos Islands')]\n",
      "[('obj', 'http://www.wikidata.org/entity/Q183'), ('objname', 'Germany')]\n",
      "[('obj', 'http://www.wikidata.org/entity/Q184'), ('objname', 'Belarus')]\n",
      "[('obj', 'http://www.wikidata.org/entity/Q189'), ('objname', 'Iceland')]\n",
      "[('obj', 'http://www.wikidata.org/entity/Q191'), ('objname', 'Estonia')]\n",
      "[('obj', 'http://www.wikidata.org/entity/Q193714'), ('objname', 'Mandatory Palestine')]\n",
      "[('obj', 'http://www.wikidata.org/entity/Q20'), ('objname', 'Norway')]\n",
      "[('obj', 'http://www.wikidata.org/entity/Q205047'), ('objname', 'Kurdistan Region')]\n",
      "[('obj', 'http://www.wikidata.org/entity/Q21'), ('objname', 'England')]\n",
      "[('obj', 'http://www.wikidata.org/entity/Q211'), ('objname', 'Latvia')]\n",
      "[('obj', 'http://www.wikidata.org/entity/Q212'), ('objname', 'Ukraine')]\n",
      "[('obj', 'http://www.wikidata.org/entity/Q21203'), ('objname', 'Aruba')]\n",
      "[('obj', 'http://www.wikidata.org/entity/Q213'), ('objname', 'Czech Republic')]\n",
      "[('obj', 'http://www.wikidata.org/entity/Q214'), ('objname', 'Slovakia')]\n",
      "[('obj', 'http://www.wikidata.org/entity/Q215'), ('objname', 'Slovenia')]\n",
      "[('obj', 'http://www.wikidata.org/entity/Q217'), ('objname', 'Moldova')]\n",
      "[('obj', 'http://www.wikidata.org/entity/Q218'), ('objname', 'Romania')]\n",
      "[('obj', 'http://www.wikidata.org/entity/Q219'), ('objname', 'Bulgaria')]\n",
      "[('obj', 'http://www.wikidata.org/entity/Q219060'), ('objname', 'State of Palestine')]\n",
      "[('obj', 'http://www.wikidata.org/entity/Q22'), ('objname', 'Scotland')]\n",
      "[('obj', 'http://www.wikidata.org/entity/Q221'), ('objname', 'North Macedonia')]\n",
      "[('obj', 'http://www.wikidata.org/entity/Q222'), ('objname', 'Albania')]\n",
      "[('obj', 'http://www.wikidata.org/entity/Q224'), ('objname', 'Croatia')]\n",
      "[('obj', 'http://www.wikidata.org/entity/Q225'), ('objname', 'Bosnia and Herzegovina')]\n",
      "[('obj', 'http://www.wikidata.org/entity/Q227'), ('objname', 'Azerbaijan')]\n",
      "[('obj', 'http://www.wikidata.org/entity/Q228'), ('objname', 'Andorra')]\n",
      "[('obj', 'http://www.wikidata.org/entity/Q229'), ('objname', 'Cyprus')]\n",
      "[('obj', 'http://www.wikidata.org/entity/Q230'), ('objname', 'Georgia')]\n",
      "[('obj', 'http://www.wikidata.org/entity/Q232'), ('objname', 'Kazakhstan')]\n",
      "[('obj', 'http://www.wikidata.org/entity/Q233'), ('objname', 'Malta')]\n",
      "[('obj', 'http://www.wikidata.org/entity/Q235'), ('objname', 'Monaco')]\n",
      "[('obj', 'http://www.wikidata.org/entity/Q236'), ('objname', 'Montenegro')]\n",
      "[('obj', 'http://www.wikidata.org/entity/Q23635'), ('objname', 'Bermuda')]\n",
      "[('obj', 'http://www.wikidata.org/entity/Q238'), ('objname', 'San Marino')]\n",
      "[('obj', 'http://www.wikidata.org/entity/Q241'), ('objname', 'Cuba')]\n",
      "[('obj', 'http://www.wikidata.org/entity/Q242'), ('objname', 'Belize')]\n",
      "[('obj', 'http://www.wikidata.org/entity/Q244'), ('objname', 'Barbados')]\n",
      "[('obj', 'http://www.wikidata.org/entity/Q25'), ('objname', 'Wales')]\n",
      "[('obj', 'http://www.wikidata.org/entity/Q252'), ('objname', 'Indonesia')]\n",
      "[('obj', 'http://www.wikidata.org/entity/Q25228'), ('objname', 'Anguilla')]\n",
      "[('obj', 'http://www.wikidata.org/entity/Q25230'), ('objname', 'Guernsey')]\n",
      "[('obj', 'http://www.wikidata.org/entity/Q25305'), ('objname', 'British Virgin Islands')]\n",
      "[('obj', 'http://www.wikidata.org/entity/Q258'), ('objname', 'South Africa')]\n",
      "[('obj', 'http://www.wikidata.org/entity/Q26'), ('objname', 'Northern Ireland')]\n",
      "[('obj', 'http://www.wikidata.org/entity/Q262'), ('objname', 'Algeria')]\n",
      "[('obj', 'http://www.wikidata.org/entity/Q26273'), ('objname', 'Sint Maarten')]\n",
      "[('obj', 'http://www.wikidata.org/entity/Q265'), ('objname', 'Uzbekistan')]\n",
      "[('obj', 'http://www.wikidata.org/entity/Q26988'), ('objname', 'Cook Islands')]\n",
      "[('obj', 'http://www.wikidata.org/entity/Q27'), ('objname', 'Ireland')]\n",
      "[('obj', 'http://www.wikidata.org/entity/Q28'), ('objname', 'Hungary')]\n",
      "[('obj', 'http://www.wikidata.org/entity/Q29'), ('objname', 'Spain')]\n",
      "[('obj', 'http://www.wikidata.org/entity/Q298'), ('objname', 'Chile')]\n",
      "[('obj', 'http://www.wikidata.org/entity/Q30'), ('objname', 'United States of America')]\n",
      "[('obj', 'http://www.wikidata.org/entity/Q31'), ('objname', 'Belgium')]\n",
      "[('obj', 'http://www.wikidata.org/entity/Q32'), ('objname', 'Luxembourg')]\n",
      "[('obj', 'http://www.wikidata.org/entity/Q33'), ('objname', 'Finland')]\n",
      "[('obj', 'http://www.wikidata.org/entity/Q334'), ('objname', 'Singapore')]\n",
      "[('obj', 'http://www.wikidata.org/entity/Q33788'), ('objname', 'New Caledonia')]\n",
      "[('obj', 'http://www.wikidata.org/entity/Q34'), ('objname', 'Sweden')]\n",
      "[('obj', 'http://www.wikidata.org/entity/Q34020'), ('objname', 'Niue')]\n",
      "[('obj', 'http://www.wikidata.org/entity/Q347'), ('objname', 'Liechtenstein')]\n",
      "[('obj', 'http://www.wikidata.org/entity/Q35'), ('objname', 'Denmark')]\n",
      "[('obj', 'http://www.wikidata.org/entity/Q36'), ('objname', 'Poland')]\n",
      "[('obj', 'http://www.wikidata.org/entity/Q36704'), ('objname', 'Yugoslavia')]\n",
      "[('obj', 'http://www.wikidata.org/entity/Q37'), ('objname', 'Lithuania')]\n",
      "[('obj', 'http://www.wikidata.org/entity/Q3769'), ('objname', 'French Guiana')]\n",
      "[('obj', 'http://www.wikidata.org/entity/Q38'), ('objname', 'Italy')]\n",
      "[('obj', 'http://www.wikidata.org/entity/Q39'), ('objname', 'Switzerland')]\n",
      "[('obj', 'http://www.wikidata.org/entity/Q398'), ('objname', 'Bahrain')]\n",
      "[('obj', 'http://www.wikidata.org/entity/Q399'), ('objname', 'Armenia')]\n",
      "[('obj', 'http://www.wikidata.org/entity/Q40'), ('objname', 'Austria')]\n",
      "[('obj', 'http://www.wikidata.org/entity/Q403'), ('objname', 'Serbia')]\n",
      "[('obj', 'http://www.wikidata.org/entity/Q408'), ('objname', 'Australia')]\n",
      "[('obj', 'http://www.wikidata.org/entity/Q41'), ('objname', 'Greece')]\n",
      "[('obj', 'http://www.wikidata.org/entity/Q414'), ('objname', 'Argentina')]\n",
      "[('obj', 'http://www.wikidata.org/entity/Q419'), ('objname', 'Peru')]\n",
      "[('obj', 'http://www.wikidata.org/entity/Q423'), ('objname', 'North Korea')]\n",
      "[('obj', 'http://www.wikidata.org/entity/Q424'), ('objname', 'Cambodia')]\n",
      "[('obj', 'http://www.wikidata.org/entity/Q43'), ('objname', 'Turkey')]\n",
      "[('obj', 'http://www.wikidata.org/entity/Q45'), ('objname', 'Portugal')]\n",
      "[('obj', 'http://www.wikidata.org/entity/Q4628'), ('objname', 'Faroe Islands')]\n",
      "[('obj', 'http://www.wikidata.org/entity/Q5096'), ('objname', 'West Papua')]\n",
      "[('obj', 'http://www.wikidata.org/entity/Q55'), ('objname', 'Netherlands')]\n",
      "[('obj', 'http://www.wikidata.org/entity/Q5705'), ('objname', 'Catalonia')]\n",
      "[('obj', 'http://www.wikidata.org/entity/Q574'), ('objname', 'East Timor')]\n",
      "[('obj', 'http://www.wikidata.org/entity/Q5785'), ('objname', 'Cayman Islands')]\n",
      "[('obj', 'http://www.wikidata.org/entity/Q657'), ('objname', 'Chad')]\n",
      "[('obj', 'http://www.wikidata.org/entity/Q664'), ('objname', 'New Zealand')]\n",
      "[('obj', 'http://www.wikidata.org/entity/Q668'), ('objname', 'India')]\n",
      "[('obj', 'http://www.wikidata.org/entity/Q672'), ('objname', 'Tuvalu')]\n",
      "[('obj', 'http://www.wikidata.org/entity/Q678'), ('objname', 'Tonga')]\n",
      "[('obj', 'http://www.wikidata.org/entity/Q683'), ('objname', 'Samoa')]\n",
      "[('obj', 'http://www.wikidata.org/entity/Q685'), ('objname', 'Solomon Islands')]\n",
      "[('obj', 'http://www.wikidata.org/entity/Q686'), ('objname', 'Vanuatu')]\n",
      "[('obj', 'http://www.wikidata.org/entity/Q691'), ('objname', 'Papua New Guinea')]\n",
      "[('obj', 'http://www.wikidata.org/entity/Q695'), ('objname', 'Palau')]\n",
      "[('obj', 'http://www.wikidata.org/entity/Q702'), ('objname', 'Federated States of Micronesia')]\n",
      "[('obj', 'http://www.wikidata.org/entity/Q709'), ('objname', 'Marshall Islands')]\n",
      "[('obj', 'http://www.wikidata.org/entity/Q711'), ('objname', 'Mongolia')]\n",
      "[('obj', 'http://www.wikidata.org/entity/Q712'), ('objname', 'Fiji')]\n",
      "[('obj', 'http://www.wikidata.org/entity/Q717'), ('objname', 'Venezuela')]\n",
      "[('obj', 'http://www.wikidata.org/entity/Q730'), ('objname', 'Suriname')]\n",
      "[('obj', 'http://www.wikidata.org/entity/Q733'), ('objname', 'Paraguay')]\n",
      "[('obj', 'http://www.wikidata.org/entity/Q734'), ('objname', 'Guyana')]\n",
      "[('obj', 'http://www.wikidata.org/entity/Q736'), ('objname', 'Ecuador')]\n",
      "[('obj', 'http://www.wikidata.org/entity/Q739'), ('objname', 'Colombia')]\n",
      "[('obj', 'http://www.wikidata.org/entity/Q750'), ('objname', 'Bolivia')]\n",
      "[('obj', 'http://www.wikidata.org/entity/Q754'), ('objname', 'Trinidad and Tobago')]\n",
      "[('obj', 'http://www.wikidata.org/entity/Q757'), ('objname', 'Saint Vincent and the Grenadines')]\n",
      "[('obj', 'http://www.wikidata.org/entity/Q760'), ('objname', 'Saint Lucia')]\n",
      "[('obj', 'http://www.wikidata.org/entity/Q763'), ('objname', 'Saint Kitts and Nevis')]\n",
      "[('obj', 'http://www.wikidata.org/entity/Q766'), ('objname', 'Jamaica')]\n",
      "[('obj', 'http://www.wikidata.org/entity/Q769'), ('objname', 'Grenada')]\n",
      "[('obj', 'http://www.wikidata.org/entity/Q77'), ('objname', 'Uruguay')]\n",
      "[('obj', 'http://www.wikidata.org/entity/Q774'), ('objname', 'Guatemala')]\n",
      "[('obj', 'http://www.wikidata.org/entity/Q7779'), ('objname', 'Commonwealth of Independent States')]\n",
      "[('obj', 'http://www.wikidata.org/entity/Q778'), ('objname', 'The Bahamas')]\n",
      "[('obj', 'http://www.wikidata.org/entity/Q781'), ('objname', 'Antigua and Barbuda')]\n",
      "[('obj', 'http://www.wikidata.org/entity/Q783'), ('objname', 'Honduras')]\n",
      "[('obj', 'http://www.wikidata.org/entity/Q784'), ('objname', 'Dominica')]\n",
      "[('obj', 'http://www.wikidata.org/entity/Q785'), ('objname', 'Jersey')]\n",
      "[('obj', 'http://www.wikidata.org/entity/Q79'), ('objname', 'Egypt')]\n",
      "[('obj', 'http://www.wikidata.org/entity/Q790'), ('objname', 'Haiti')]\n",
      "[('obj', 'http://www.wikidata.org/entity/Q792'), ('objname', 'El Salvador')]\n",
      "[('obj', 'http://www.wikidata.org/entity/Q794'), ('objname', 'Iran')]\n",
      "[('obj', 'http://www.wikidata.org/entity/Q796'), ('objname', 'Iraq')]\n",
      "[('obj', 'http://www.wikidata.org/entity/Q800'), ('objname', 'Costa Rica')]\n",
      "[('obj', 'http://www.wikidata.org/entity/Q801'), ('objname', 'Israel')]\n",
      "[('obj', 'http://www.wikidata.org/entity/Q804'), ('objname', 'Panama')]\n",
      "[('obj', 'http://www.wikidata.org/entity/Q805'), ('objname', 'Yemen')]\n",
      "[('obj', 'http://www.wikidata.org/entity/Q810'), ('objname', 'Jordan')]\n",
      "[('obj', 'http://www.wikidata.org/entity/Q811'), ('objname', 'Nicaragua')]\n",
      "[('obj', 'http://www.wikidata.org/entity/Q813'), ('objname', 'Kyrgyzstan')]\n",
      "[('obj', 'http://www.wikidata.org/entity/Q817'), ('objname', 'Kuwait')]\n",
      "[('obj', 'http://www.wikidata.org/entity/Q819'), ('objname', 'Laos')]\n",
      "[('obj', 'http://www.wikidata.org/entity/Q822'), ('objname', 'Lebanon')]\n",
      "[('obj', 'http://www.wikidata.org/entity/Q826'), ('objname', 'Maldives')]\n",
      "[('obj', 'http://www.wikidata.org/entity/Q833'), ('objname', 'Malaysia')]\n",
      "[('obj', 'http://www.wikidata.org/entity/Q836'), ('objname', 'Myanmar')]\n",
      "[('obj', 'http://www.wikidata.org/entity/Q837'), ('objname', 'Nepal')]\n",
      "[('obj', 'http://www.wikidata.org/entity/Q842'), ('objname', 'Oman')]\n",
      "[('obj', 'http://www.wikidata.org/entity/Q843'), ('objname', 'Pakistan')]\n",
      "[('obj', 'http://www.wikidata.org/entity/Q846'), ('objname', 'Qatar')]\n",
      "[('obj', 'http://www.wikidata.org/entity/Q851'), ('objname', 'Saudi Arabia')]\n",
      "[('obj', 'http://www.wikidata.org/entity/Q854'), ('objname', 'Sri Lanka')]\n",
      "[('obj', 'http://www.wikidata.org/entity/Q858'), ('objname', 'Syria')]\n",
      "[('obj', 'http://www.wikidata.org/entity/Q863'), ('objname', 'Tajikistan')]\n",
      "[('obj', 'http://www.wikidata.org/entity/Q8646'), ('objname', 'Hong Kong')]\n",
      "[('obj', 'http://www.wikidata.org/entity/Q869'), ('objname', 'Thailand')]\n",
      "[('obj', 'http://www.wikidata.org/entity/Q874'), ('objname', 'Turkmenistan')]\n",
      "[('obj', 'http://www.wikidata.org/entity/Q878'), ('objname', 'United Arab Emirates')]\n",
      "[('obj', 'http://www.wikidata.org/entity/Q881'), ('objname', 'Vietnam')]\n",
      "[('obj', 'http://www.wikidata.org/entity/Q884'), ('objname', 'South Korea')]\n",
      "[('obj', 'http://www.wikidata.org/entity/Q889'), ('objname', 'Afghanistan')]\n",
      "[('obj', 'http://www.wikidata.org/entity/Q902'), ('objname', 'Bangladesh')]\n",
      "[('obj', 'http://www.wikidata.org/entity/Q912'), ('objname', 'Mali')]\n",
      "[('obj', 'http://www.wikidata.org/entity/Q916'), ('objname', 'Angola')]\n",
      "[('obj', 'http://www.wikidata.org/entity/Q917'), ('objname', 'Bhutan')]\n",
      "[('obj', 'http://www.wikidata.org/entity/Q921'), ('objname', 'Brunei')]\n",
      "[('obj', 'http://www.wikidata.org/entity/Q924'), ('objname', 'Tanzania')]\n",
      "[('obj', 'http://www.wikidata.org/entity/Q928'), ('objname', 'Philippines')]\n",
      "[('obj', 'http://www.wikidata.org/entity/Q929'), ('objname', 'Central African Republic')]\n",
      "[('obj', 'http://www.wikidata.org/entity/Q945'), ('objname', 'Togo')]\n",
      "[('obj', 'http://www.wikidata.org/entity/Q948'), ('objname', 'Tunisia')]\n",
      "[('obj', 'http://www.wikidata.org/entity/Q953'), ('objname', 'Zambia')]\n",
      "[('obj', 'http://www.wikidata.org/entity/Q954'), ('objname', 'Zimbabwe')]\n",
      "[('obj', 'http://www.wikidata.org/entity/Q958'), ('objname', 'South Sudan')]\n",
      "[('obj', 'http://www.wikidata.org/entity/Q96'), ('objname', 'Mexico')]\n",
      "[('obj', 'http://www.wikidata.org/entity/Q962'), ('objname', 'Benin')]\n",
      "[('obj', 'http://www.wikidata.org/entity/Q963'), ('objname', 'Botswana')]\n",
      "[('obj', 'http://www.wikidata.org/entity/Q965'), ('objname', 'Burkina Faso')]\n",
      "[('obj', 'http://www.wikidata.org/entity/Q967'), ('objname', 'Burundi')]\n",
      "[('obj', 'http://www.wikidata.org/entity/Q970'), ('objname', 'Comoros')]\n",
      "[('obj', 'http://www.wikidata.org/entity/Q971'), ('objname', 'Republic of the Congo')]\n",
      "[('obj', 'http://www.wikidata.org/entity/Q974'), ('objname', 'Democratic Republic of the Congo')]\n",
      "[('obj', 'http://www.wikidata.org/entity/Q977'), ('objname', 'Djibouti')]\n",
      "[('obj', 'http://www.wikidata.org/entity/Q983'), ('objname', 'Equatorial Guinea')]\n",
      "[('obj', 'http://www.wikidata.org/entity/Q986'), ('objname', 'Eritrea')]\n",
      "[('obj', 'http://www.wikidata.org/entity/Q1460'), ('objname', 'Sicily')]\n",
      "[('obj', 'http://www.wikidata.org/entity/Q17012'), ('objname', 'Guadeloupe')]\n",
      "[('obj', 'http://www.wikidata.org/entity/Q17070'), ('objname', 'Réunion')]\n",
      "[('obj', 'http://www.wikidata.org/entity/Q18097'), ('objname', 'Korea')]\n",
      "[('obj', 'http://www.wikidata.org/entity/Q1953333'), ('objname', 'Curaçao and Dependencies')]\n",
      "[('obj', 'http://www.wikidata.org/entity/Q25227'), ('objname', 'Netherlands Antilles')]\n",
      "[('obj', 'http://www.wikidata.org/entity/Q25279'), ('objname', 'Curaçao')]\n",
      "[('obj', 'http://www.wikidata.org/entity/Q33946'), ('objname', 'Czechoslovakia')]\n",
      "[('obj', 'http://www.wikidata.org/entity/Q39193'), ('objname', 'Bohemia')]\n",
      "[('obj', 'http://www.wikidata.org/entity/Q3946'), ('objname', 'Cantabria')]\n",
      "[('obj', 'http://www.wikidata.org/entity/Q3995'), ('objname', 'Basque Autonomous Community')]\n",
      "[('obj', 'http://www.wikidata.org/entity/Q4040'), ('objname', 'Aragon')]\n",
      "[('obj', 'http://www.wikidata.org/entity/Q47588'), ('objname', 'Basque Country')]\n",
      "[('obj', 'http://www.wikidata.org/entity/Q5689'), ('objname', 'Åland')]\n",
      "[('obj', 'http://www.wikidata.org/entity/Q13706'), ('objname', 'Principality of Sealand')]\n",
      "[('obj', 'http://www.wikidata.org/entity/Q179313'), ('objname', 'Alderney')]\n",
      "[('obj', 'http://www.wikidata.org/entity/Q1165'), ('objname', 'Bihar')]\n",
      "[('obj', 'http://www.wikidata.org/entity/Q16635'), ('objname', 'Guam')]\n",
      "[('obj', 'http://www.wikidata.org/entity/Q188161'), ('objname', 'Dutch East Indies')]\n",
      "[('obj', 'http://www.wikidata.org/entity/Q22890'), ('objname', 'Ireland')]\n",
      "[('obj', 'http://www.wikidata.org/entity/Q30971'), ('objname', 'French Polynesia')]\n",
      "[('obj', 'http://www.wikidata.org/entity/Q37024'), ('objname', 'Serbia and Montenegro')]\n",
      "[('obj', 'http://www.wikidata.org/entity/Q7771127'), ('objname', 'Pohnpei State')]\n",
      "[('obj', 'http://www.wikidata.org/entity/Q81720'), ('objname', 'Silesia')]\n",
      "[('obj', 'http://www.wikidata.org/entity/Q162615'), ('objname', 'Cartagena')]\n",
      "[('obj', 'http://www.wikidata.org/entity/Q5720'), ('objname', 'Community of Valencia')]\n",
      "[('obj', 'http://www.wikidata.org/entity/Q14112'), ('objname', 'Corsica')]\n",
      "[('obj', 'http://www.wikidata.org/entity/Q310293'), ('objname', 'Saar Protectorate')]\n",
      "[('obj', 'http://www.wikidata.org/entity/Q2396442'), ('objname', 'Kingdom of Galicia and Lodomeria')]\n",
      "[('obj', 'http://www.wikidata.org/entity/Q44302'), ('objname', 'Nagorno-Karabakh')]\n",
      "[('obj', 'http://www.wikidata.org/entity/Q185111'), ('objname', 'Tobago')]\n",
      "[('obj', 'http://www.wikidata.org/entity/Q669037'), ('objname', 'West Indies')]\n",
      "[('obj', 'http://www.wikidata.org/entity/Q31063'), ('objname', 'Christmas Island')]\n",
      "[('obj', 'http://www.wikidata.org/entity/Q199841'), ('objname', 'South Yemen')]\n"
     ]
    },
    {
     "data": {
      "text/plain": [
       "281"
      ]
     },
     "execution_count": 5,
     "metadata": {},
     "output_type": "execute_result"
    }
   ],
   "source": [
    "queryString = \"\"\"\n",
    "SELECT DISTINCT ?obj ?objname WHERE { \n",
    "\n",
    "?team wdt:P31 wd:Q6979593;\n",
    "      wdt:P1532 ?obj.\n",
    "      \n",
    "?obj <http://schema.org/name> ?objname .\n",
    "} \n",
    "\"\"\"\n",
    "\n",
    "print(\"Results\")\n",
    "run_query(queryString)"
   ]
  },
  {
   "cell_type": "markdown",
   "id": "76dffb60-6c80-456c-acec-d7d018732332",
   "metadata": {},
   "source": [
    "#### Found the connection. Now to get all the countries that hosted a world cup i try property \"country\"(P17) of a World Cup "
   ]
  },
  {
   "cell_type": "code",
   "execution_count": 23,
   "id": "5c3029a1-0801-4b6b-9936-e21942fe5b1e",
   "metadata": {},
   "outputs": [
    {
     "name": "stdout",
     "output_type": "stream",
     "text": [
      "Results\n",
      "Empty\n"
     ]
    },
    {
     "data": {
      "text/plain": [
       "0"
      ]
     },
     "execution_count": 23,
     "metadata": {},
     "output_type": "execute_result"
    }
   ],
   "source": [
    "###WRONG QUERY\n",
    "\n",
    "queryString = \"\"\"\n",
    "SELECT DISTINCT ?obj ?objname WHERE { \n",
    "\n",
    "wd:Q19317 wdt:P17 ?obj.\n",
    "      \n",
    "?obj <http://schema.org/name> ?objname .\n",
    "} \n",
    "\"\"\"\n",
    "\n",
    "print(\"Results\")\n",
    "run_query(queryString)"
   ]
  },
  {
   "cell_type": "markdown",
   "id": "a945cbb8-5633-4329-a8c4-4654d95260f2",
   "metadata": {},
   "source": [
    "#### I retrieve all the world cups with the BGP found before and then i get countries wirh property P17"
   ]
  },
  {
   "cell_type": "code",
   "execution_count": 25,
   "id": "fa5618a1-f73c-4405-8943-ca1f45cd252a",
   "metadata": {},
   "outputs": [
    {
     "name": "stdout",
     "output_type": "stream",
     "text": [
      "Results\n",
      "[('obj', 'http://www.wikidata.org/entity/Q142'), ('objname', 'France')]\n",
      "[('obj', 'http://www.wikidata.org/entity/Q145'), ('objname', 'United Kingdom')]\n",
      "[('obj', 'http://www.wikidata.org/entity/Q155'), ('objname', 'Brazil')]\n",
      "[('obj', 'http://www.wikidata.org/entity/Q159'), ('objname', 'Russia')]\n",
      "[('obj', 'http://www.wikidata.org/entity/Q16'), ('objname', 'Canada')]\n",
      "[('obj', 'http://www.wikidata.org/entity/Q17'), ('objname', 'Japan')]\n",
      "[('obj', 'http://www.wikidata.org/entity/Q183'), ('objname', 'Germany')]\n",
      "[('obj', 'http://www.wikidata.org/entity/Q258'), ('objname', 'South Africa')]\n",
      "[('obj', 'http://www.wikidata.org/entity/Q298'), ('objname', 'Chile')]\n",
      "[('obj', 'http://www.wikidata.org/entity/Q30'), ('objname', 'United States of America')]\n",
      "[('obj', 'http://www.wikidata.org/entity/Q34'), ('objname', 'Sweden')]\n",
      "[('obj', 'http://www.wikidata.org/entity/Q38'), ('objname', 'Italy')]\n",
      "[('obj', 'http://www.wikidata.org/entity/Q39'), ('objname', 'Switzerland')]\n",
      "[('obj', 'http://www.wikidata.org/entity/Q414'), ('objname', 'Argentina')]\n",
      "[('obj', 'http://www.wikidata.org/entity/Q77'), ('objname', 'Uruguay')]\n",
      "[('obj', 'http://www.wikidata.org/entity/Q846'), ('objname', 'Qatar')]\n",
      "[('obj', 'http://www.wikidata.org/entity/Q884'), ('objname', 'South Korea')]\n",
      "[('obj', 'http://www.wikidata.org/entity/Q96'), ('objname', 'Mexico')]\n"
     ]
    },
    {
     "data": {
      "text/plain": [
       "18"
      ]
     },
     "execution_count": 25,
     "metadata": {},
     "output_type": "execute_result"
    }
   ],
   "source": [
    "queryString = \"\"\"\n",
    "SELECT DISTINCT ?obj ?objname WHERE { \n",
    "\n",
    "?wc wdt:P3450 wd:Q19317;\n",
    "    wdt:P17 ?obj.\n",
    "      \n",
    "?obj <http://schema.org/name> ?objname .\n",
    "} \n",
    "\"\"\"\n",
    "\n",
    "print(\"Results\")\n",
    "run_query(queryString)"
   ]
  },
  {
   "cell_type": "markdown",
   "id": "e97cd587-9478-4a77-ab17-a7b99eeaa318",
   "metadata": {},
   "source": [
    "#### I use the first BGP to retrieve the team of Spain"
   ]
  },
  {
   "cell_type": "code",
   "execution_count": 9,
   "id": "28c6d7ec-c0ce-4791-8895-816e04301ddd",
   "metadata": {},
   "outputs": [
    {
     "name": "stdout",
     "output_type": "stream",
     "text": [
      "Results\n",
      "[('sub', 'http://www.wikidata.org/entity/Q1129595'), ('subname', 'Spain national under-21 football team')]\n",
      "[('sub', 'http://www.wikidata.org/entity/Q2356290'), ('subname', 'Spain national under-20 football team')]\n",
      "[('sub', 'http://www.wikidata.org/entity/Q2637337'), ('subname', 'Spain national under-23 football team')]\n",
      "[('sub', 'http://www.wikidata.org/entity/Q2713491'), ('subname', 'Spain national under-19 football team')]\n",
      "[('sub', 'http://www.wikidata.org/entity/Q3589784'), ('subname', 'Spain national under-18 football team')]\n",
      "[('sub', 'http://www.wikidata.org/entity/Q3873503'), ('subname', 'Spain national under-16 football team')]\n",
      "[('sub', 'http://www.wikidata.org/entity/Q42267'), ('subname', 'Spain national association football team')]\n",
      "[('sub', 'http://www.wikidata.org/entity/Q18128271'), ('subname', \"Spain women's national under-19 football team\")]\n",
      "[('sub', 'http://www.wikidata.org/entity/Q6124177'), ('subname', 'Spain national under-15 football team')]\n",
      "[('sub', 'http://www.wikidata.org/entity/Q23013889'), ('subname', \"Spain women's national under-20 football team\")]\n",
      "[('sub', 'http://www.wikidata.org/entity/Q79485346'), ('subname', 'Spain national youth football team')]\n"
     ]
    },
    {
     "data": {
      "text/plain": [
       "11"
      ]
     },
     "execution_count": 9,
     "metadata": {},
     "output_type": "execute_result"
    }
   ],
   "source": [
    "queryString = \"\"\"\n",
    "SELECT DISTINCT ?sub ?subname WHERE { \n",
    "\n",
    "?sub wdt:P1532 wd:Q29;\n",
    "     wdt:P31 wd:Q6979593.\n",
    "      \n",
    "?sub <http://schema.org/name> ?subname .\n",
    "\n",
    "} \n",
    "\"\"\"\n",
    "\n",
    "print(\"Results\")\n",
    "run_query(queryString)"
   ]
  },
  {
   "cell_type": "code",
   "execution_count": 10,
   "id": "180d14aa-d4cc-4838-b669-badcb31bdb61",
   "metadata": {},
   "outputs": [
    {
     "name": "stdout",
     "output_type": "stream",
     "text": [
      "Results\n",
      "[('sub', 'http://www.wikidata.org/entity/Q42267'), ('subname', 'Spain national association football team')]\n"
     ]
    },
    {
     "data": {
      "text/plain": [
       "1"
      ]
     },
     "execution_count": 10,
     "metadata": {},
     "output_type": "execute_result"
    }
   ],
   "source": [
    "queryString = \"\"\"\n",
    "SELECT DISTINCT ?sub ?subname WHERE { \n",
    "\n",
    "?sub wdt:P1532 wd:Q29;\n",
    "     wdt:P31 wd:Q6979593.\n",
    "      \n",
    "?sub <http://schema.org/name> ?subname .\n",
    "\n",
    "FILTER CONTAINS (?subname, \"national association\")\n",
    "} \n",
    "\"\"\"\n",
    "\n",
    "print(\"Results\")\n",
    "run_query(queryString)"
   ]
  },
  {
   "cell_type": "markdown",
   "id": "65ce054f-ddff-443d-8561-687534b70e1d",
   "metadata": {},
   "source": [
    "#### I develop an ask query to answer if a country ever hosted a World Cup (i run with the Spain example)"
   ]
  },
  {
   "cell_type": "code",
   "execution_count": 11,
   "id": "8d5dfc2c-d1af-4be1-8298-fd8d944a11c4",
   "metadata": {},
   "outputs": [
    {
     "name": "stdout",
     "output_type": "stream",
     "text": [
      "Results\n"
     ]
    },
    {
     "data": {
      "text/plain": [
       "{'head': {'link': []}, 'boolean': False}"
      ]
     },
     "execution_count": 11,
     "metadata": {},
     "output_type": "execute_result"
    }
   ],
   "source": [
    "queryString = \"\"\"\n",
    "ASK WHERE { \n",
    "\n",
    "?wc wdt:P3450 wd:Q19317;\n",
    "    wdt:P17 wd:Q29.\n",
    "      \n",
    "} \n",
    "\"\"\"\n",
    "\n",
    "print(\"Results\")\n",
    "run_ask_query(queryString)"
   ]
  },
  {
   "cell_type": "markdown",
   "id": "7a5ffd03-a036-4897-9577-48ad6b410126",
   "metadata": {},
   "source": [
    "#### However i know this is not true as Spain hosted a WC in 1982...that we won :)"
   ]
  },
  {
   "cell_type": "markdown",
   "id": "aa2156b6-c5f6-4f57-a372-3a778d6f4514",
   "metadata": {},
   "source": [
    "## Task 3 -In which countries took place a FIFA world cup or world cup final? With how many participants?"
   ]
  },
  {
   "cell_type": "markdown",
   "id": "154dcb5d-2796-47fa-b415-0faaa0706cec",
   "metadata": {},
   "source": [
    "#### I print all properties of a \"Fifa World Cup\" (wd:Q19317)"
   ]
  },
  {
   "cell_type": "code",
   "execution_count": 27,
   "id": "0ed24490-eb2c-4cb2-a168-9cf360ba69b8",
   "metadata": {},
   "outputs": [
    {
     "name": "stdout",
     "output_type": "stream",
     "text": [
      "Results\n",
      "[('p', 'http://www.wikidata.org/prop/direct/P7441'), ('pname', 'WorldFootball.net competition ID')]\n",
      "[('p', 'http://www.wikidata.org/prop/direct/P1015'), ('pname', 'NORAF ID')]\n",
      "[('p', 'http://www.wikidata.org/prop/direct/P1151'), ('pname', \"topic's main Wikimedia portal\")]\n",
      "[('p', 'http://www.wikidata.org/prop/direct/P1296'), ('pname', 'Gran Enciclopèdia Catalana ID')]\n",
      "[('p', 'http://www.wikidata.org/prop/direct/P1417'), ('pname', 'Encyclopædia Britannica Online ID')]\n",
      "[('p', 'http://www.wikidata.org/prop/direct/P1424'), ('pname', \"topic's main template\")]\n",
      "[('p', 'http://www.wikidata.org/prop/direct/P1705'), ('pname', 'native label')]\n",
      "[('p', 'http://www.wikidata.org/prop/direct/P18'), ('pname', 'image')]\n",
      "[('p', 'http://www.wikidata.org/prop/direct/P2002'), ('pname', 'Twitter username')]\n",
      "[('p', 'http://www.wikidata.org/prop/direct/P2003'), ('pname', 'Instagram username')]\n",
      "[('p', 'http://www.wikidata.org/prop/direct/P2013'), ('pname', 'Facebook ID')]\n",
      "[('p', 'http://www.wikidata.org/prop/direct/P2094'), ('pname', 'competition class')]\n",
      "[('p', 'http://www.wikidata.org/prop/direct/P214'), ('pname', 'VIAF ID')]\n",
      "[('p', 'http://www.wikidata.org/prop/direct/P2184'), ('pname', 'history of topic')]\n",
      "[('p', 'http://www.wikidata.org/prop/direct/P2257'), ('pname', 'event interval')]\n",
      "[('p', 'http://www.wikidata.org/prop/direct/P227'), ('pname', 'GND ID')]\n",
      "[('p', 'http://www.wikidata.org/prop/direct/P2397'), ('pname', 'YouTube channel ID')]\n",
      "[('p', 'http://www.wikidata.org/prop/direct/P244'), ('pname', 'Library of Congress authority ID')]\n",
      "[('p', 'http://www.wikidata.org/prop/direct/P2922'), ('pname', 'month of the year')]\n",
      "[('p', 'http://www.wikidata.org/prop/direct/P31'), ('pname', 'instance of')]\n",
      "[('p', 'http://www.wikidata.org/prop/direct/P3219'), ('pname', 'Encyclopædia Universalis ID')]\n",
      "[('p', 'http://www.wikidata.org/prop/direct/P3221'), ('pname', 'New York Times topic ID')]\n",
      "[('p', 'http://www.wikidata.org/prop/direct/P3417'), ('pname', 'Quora topic ID')]\n",
      "[('p', 'http://www.wikidata.org/prop/direct/P373'), ('pname', 'Commons category')]\n",
      "[('p', 'http://www.wikidata.org/prop/direct/P3984'), ('pname', 'subreddit')]\n",
      "[('p', 'http://www.wikidata.org/prop/direct/P4527'), ('pname', 'UK Parliament thesaurus ID')]\n",
      "[('p', 'http://www.wikidata.org/prop/direct/P527'), ('pname', 'has part')]\n",
      "[('p', 'http://www.wikidata.org/prop/direct/P571'), ('pname', 'inception')]\n",
      "[('p', 'http://www.wikidata.org/prop/direct/P6262'), ('pname', 'Fandom article ID')]\n",
      "[('p', 'http://www.wikidata.org/prop/direct/P641'), ('pname', 'sport')]\n",
      "[('p', 'http://www.wikidata.org/prop/direct/P646'), ('pname', 'Freebase ID')]\n",
      "[('p', 'http://www.wikidata.org/prop/direct/P6573'), ('pname', 'Klexikon article ID')]\n",
      "[('p', 'http://www.wikidata.org/prop/direct/P664'), ('pname', 'organizer')]\n",
      "[('p', 'http://www.wikidata.org/prop/direct/P691'), ('pname', 'NKCR AUT ID')]\n",
      "[('p', 'http://www.wikidata.org/prop/direct/P7859'), ('pname', 'WorldCat Identities ID')]\n",
      "[('p', 'http://www.wikidata.org/prop/direct/P8408'), ('pname', 'KBpedia ID')]\n",
      "[('p', 'http://www.wikidata.org/prop/direct/P856'), ('pname', 'official website')]\n",
      "[('p', 'http://www.wikidata.org/prop/direct/P8687'), ('pname', 'social media followers')]\n",
      "[('p', 'http://www.wikidata.org/prop/direct/P910'), ('pname', \"topic's main category\")]\n",
      "[('p', 'http://www.wikidata.org/prop/direct/P9322'), ('pname', 'SVKKL authority ID')]\n",
      "[('p', 'http://www.wikidata.org/prop/direct/P949'), ('pname', 'National Library of Israel ID')]\n",
      "[('p', 'http://www.wikidata.org/prop/direct/P2517'), ('pname', 'category for recipients of this award')]\n",
      "[('p', 'http://www.wikidata.org/prop/direct/P3579'), ('pname', 'Sina Weibo user ID')]\n",
      "[('p', 'http://www.wikidata.org/prop/direct/P8735'), ('pname', 'Opta football competition ID')]\n",
      "[('p', 'http://www.wikidata.org/prop/direct/P8115'), ('pname', 'eligible recipient')]\n"
     ]
    },
    {
     "data": {
      "text/plain": [
       "45"
      ]
     },
     "execution_count": 27,
     "metadata": {},
     "output_type": "execute_result"
    }
   ],
   "source": [
    "queryString = \"\"\"\n",
    "SELECT DISTINCT ?p ?pname WHERE { \n",
    "\n",
    "wd:Q19317 ?p ?obj.\n",
    "      \n",
    "?p <http://schema.org/name> ?pname.\n",
    "} \n",
    "\"\"\"\n",
    "\n",
    "print(\"Results\")\n",
    "run_query(queryString)"
   ]
  },
  {
   "cell_type": "markdown",
   "id": "2e95c3e4-17fb-4e76-8f68-5f08ea979797",
   "metadata": {},
   "source": [
    "#### Not useful, i search for all properties of a the specific editions of the world cup"
   ]
  },
  {
   "cell_type": "code",
   "execution_count": 29,
   "id": "4aa34bc0-7075-4b47-bdde-bf350c329094",
   "metadata": {},
   "outputs": [
    {
     "name": "stdout",
     "output_type": "stream",
     "text": [
      "Results\n",
      "[('p', 'http://www.wikidata.org/prop/direct/P4967'), ('pname', 'prerequisite')]\n",
      "[('p', 'http://www.wikidata.org/prop/direct/P1132'), ('pname', 'number of participants')]\n",
      "[('p', 'http://www.wikidata.org/prop/direct/P1151'), ('pname', \"topic's main Wikimedia portal\")]\n",
      "[('p', 'http://www.wikidata.org/prop/direct/P131'), ('pname', 'located in the administrative territorial entity')]\n",
      "[('p', 'http://www.wikidata.org/prop/direct/P1346'), ('pname', 'winner')]\n",
      "[('p', 'http://www.wikidata.org/prop/direct/P1350'), ('pname', 'number of matches played/races/starts')]\n",
      "[('p', 'http://www.wikidata.org/prop/direct/P1424'), ('pname', \"topic's main template\")]\n",
      "[('p', 'http://www.wikidata.org/prop/direct/P154'), ('pname', 'logo image')]\n",
      "[('p', 'http://www.wikidata.org/prop/direct/P1546'), ('pname', 'motto')]\n",
      "[('p', 'http://www.wikidata.org/prop/direct/P155'), ('pname', 'follows')]\n",
      "[('p', 'http://www.wikidata.org/prop/direct/P1617'), ('pname', 'BBC Things ID')]\n",
      "[('p', 'http://www.wikidata.org/prop/direct/P17'), ('pname', 'country')]\n",
      "[('p', 'http://www.wikidata.org/prop/direct/P18'), ('pname', 'image')]\n",
      "[('p', 'http://www.wikidata.org/prop/direct/P2013'), ('pname', 'Facebook ID')]\n",
      "[('p', 'http://www.wikidata.org/prop/direct/P2094'), ('pname', 'competition class')]\n",
      "[('p', 'http://www.wikidata.org/prop/direct/P214'), ('pname', 'VIAF ID')]\n",
      "[('p', 'http://www.wikidata.org/prop/direct/P227'), ('pname', 'GND ID')]\n",
      "[('p', 'http://www.wikidata.org/prop/direct/P242'), ('pname', 'locator map image')]\n",
      "[('p', 'http://www.wikidata.org/prop/direct/P244'), ('pname', 'Library of Congress authority ID')]\n",
      "[('p', 'http://www.wikidata.org/prop/direct/P2572'), ('pname', 'hashtag')]\n",
      "[('p', 'http://www.wikidata.org/prop/direct/P2581'), ('pname', 'BabelNet ID')]\n",
      "[('p', 'http://www.wikidata.org/prop/direct/P2671'), ('pname', 'Google Knowledge Graph ID')]\n",
      "[('p', 'http://www.wikidata.org/prop/direct/P268'), ('pname', 'Bibliothèque nationale de France ID')]\n",
      "[('p', 'http://www.wikidata.org/prop/direct/P269'), ('pname', 'IdRef ID')]\n",
      "[('p', 'http://www.wikidata.org/prop/direct/P276'), ('pname', 'location')]\n",
      "[('p', 'http://www.wikidata.org/prop/direct/P2924'), ('pname', 'Great Russian Encyclopedia Online ID')]\n",
      "[('p', 'http://www.wikidata.org/prop/direct/P31'), ('pname', 'instance of')]\n",
      "[('p', 'http://www.wikidata.org/prop/direct/P3106'), ('pname', 'Guardian topic ID')]\n",
      "[('p', 'http://www.wikidata.org/prop/direct/P3219'), ('pname', 'Encyclopædia Universalis ID')]\n",
      "[('p', 'http://www.wikidata.org/prop/direct/P3414'), ('pname', 'Yle Areena item ID')]\n",
      "[('p', 'http://www.wikidata.org/prop/direct/P3417'), ('pname', 'Quora topic ID')]\n",
      "[('p', 'http://www.wikidata.org/prop/direct/P345'), ('pname', 'IMDb ID')]\n",
      "[('p', 'http://www.wikidata.org/prop/direct/P3450'), ('pname', 'sports season of league or competition')]\n",
      "[('p', 'http://www.wikidata.org/prop/direct/P3509'), ('pname', 'Dagens Nyheter topic ID')]\n",
      "[('p', 'http://www.wikidata.org/prop/direct/P373'), ('pname', 'Commons category')]\n",
      "[('p', 'http://www.wikidata.org/prop/direct/P393'), ('pname', 'edition number')]\n",
      "[('p', 'http://www.wikidata.org/prop/direct/P3967'), ('pname', 'final event')]\n",
      "[('p', 'http://www.wikidata.org/prop/direct/P443'), ('pname', 'pronunciation audio')]\n",
      "[('p', 'http://www.wikidata.org/prop/direct/P4431'), ('pname', 'Google Doodle')]\n",
      "[('p', 'http://www.wikidata.org/prop/direct/P454'), ('pname', 'Structurae structure ID')]\n",
      "[('p', 'http://www.wikidata.org/prop/direct/P527'), ('pname', 'has part')]\n",
      "[('p', 'http://www.wikidata.org/prop/direct/P580'), ('pname', 'start time')]\n",
      "[('p', 'http://www.wikidata.org/prop/direct/P582'), ('pname', 'end time')]\n",
      "[('p', 'http://www.wikidata.org/prop/direct/P585'), ('pname', 'point in time')]\n",
      "[('p', 'http://www.wikidata.org/prop/direct/P6262'), ('pname', 'Fandom article ID')]\n",
      "[('p', 'http://www.wikidata.org/prop/direct/P641'), ('pname', 'sport')]\n",
      "[('p', 'http://www.wikidata.org/prop/direct/P646'), ('pname', 'Freebase ID')]\n",
      "[('p', 'http://www.wikidata.org/prop/direct/P664'), ('pname', 'organizer')]\n",
      "[('p', 'http://www.wikidata.org/prop/direct/P691'), ('pname', 'NKCR AUT ID')]\n",
      "[('p', 'http://www.wikidata.org/prop/direct/P710'), ('pname', 'participant')]\n",
      "[('p', 'http://www.wikidata.org/prop/direct/P7140'), ('pname', 'München Wiki article ID')]\n",
      "[('p', 'http://www.wikidata.org/prop/direct/P7818'), ('pname', 'French Vikidia ID')]\n",
      "[('p', 'http://www.wikidata.org/prop/direct/P7822'), ('pname', 'Italian Vikidia ID')]\n",
      "[('p', 'http://www.wikidata.org/prop/direct/P7829'), ('pname', 'English Vikidia ID')]\n",
      "[('p', 'http://www.wikidata.org/prop/direct/P7859'), ('pname', 'WorldCat Identities ID')]\n",
      "[('p', 'http://www.wikidata.org/prop/direct/P822'), ('pname', 'mascot')]\n",
      "[('p', 'http://www.wikidata.org/prop/direct/P856'), ('pname', 'official website')]\n",
      "[('p', 'http://www.wikidata.org/prop/direct/P859'), ('pname', 'sponsor')]\n",
      "[('p', 'http://www.wikidata.org/prop/direct/P8885'), ('pname', 'Namuwiki ID')]\n",
      "[('p', 'http://www.wikidata.org/prop/direct/P910'), ('pname', \"topic's main category\")]\n",
      "[('p', 'http://www.wikidata.org/prop/direct/P9100'), ('pname', 'GitHub topic')]\n",
      "[('p', 'http://www.wikidata.org/prop/direct/P935'), ('pname', 'Commons gallery')]\n",
      "[('p', 'http://www.wikidata.org/prop/direct/P948'), ('pname', 'page banner')]\n",
      "[('p', 'http://www.wikidata.org/prop/direct/P1110'), ('pname', 'attendance')]\n",
      "[('p', 'http://www.wikidata.org/prop/direct/P1351'), ('pname', 'number of points/goals/set scored')]\n",
      "[('p', 'http://www.wikidata.org/prop/direct/P1923'), ('pname', 'participating team')]\n",
      "[('p', 'http://www.wikidata.org/prop/direct/P3279'), ('pname', 'statistical leader')]\n",
      "[('p', 'http://www.wikidata.org/prop/direct/P5162'), ('pname', 'OnsOranje tournament ID')]\n"
     ]
    },
    {
     "data": {
      "text/plain": [
       "68"
      ]
     },
     "execution_count": 29,
     "metadata": {},
     "output_type": "execute_result"
    }
   ],
   "source": [
    "queryString = \"\"\"\n",
    "SELECT DISTINCT ?p ?pname WHERE { \n",
    "\n",
    "?wc wdt:P3450 wd:Q19317;\n",
    "    ?p ?obj.\n",
    "      \n",
    "?p <http://schema.org/name> ?pname .\n",
    "} \n",
    "\"\"\"\n",
    "\n",
    "print(\"Results\")\n",
    "run_query(queryString)"
   ]
  },
  {
   "cell_type": "markdown",
   "id": "f5189202-66db-457a-a085-29a57790240e",
   "metadata": {},
   "source": [
    "#### Found \"number of participants(wdt:P1132), for each edition of the World Cup i print the country that hosted it and the number of participants"
   ]
  },
  {
   "cell_type": "code",
   "execution_count": 39,
   "id": "fbfe7e6c-fa09-4eef-9673-b7c6208c8a16",
   "metadata": {},
   "outputs": [
    {
     "name": "stdout",
     "output_type": "stream",
     "text": [
      "Results\n",
      "[('Edition', '2010 FIFA World Cup'), ('Country', 'South Africa'), ('Number', '32')]\n",
      "[('Edition', '2014 FIFA World Cup'), ('Country', 'Brazil'), ('Number', '32')]\n",
      "[('Edition', '1950 FIFA World Cup'), ('Country', 'Brazil'), ('Number', '13')]\n",
      "[('Edition', '2006 FIFA World Cup'), ('Country', 'Germany'), ('Number', '32')]\n",
      "[('Edition', '1954 FIFA World Cup'), ('Country', 'Switzerland'), ('Number', '16')]\n",
      "[('Edition', '1930 FIFA World Cup'), ('Country', 'Uruguay'), ('Number', '13')]\n",
      "[('Edition', '1978 FIFA World Cup'), ('Country', 'Argentina'), ('Number', '16')]\n",
      "[('Edition', '1966 FIFA World Cup'), ('Country', 'United Kingdom'), ('Number', '16')]\n",
      "[('Edition', '1994 FIFA World Cup'), ('Country', 'United States of America'), ('Number', '24')]\n",
      "[('Edition', '1998 FIFA World Cup'), ('Country', 'France'), ('Number', '32')]\n",
      "[('Edition', '1958 FIFA World Cup'), ('Country', 'Sweden'), ('Number', '16')]\n",
      "[('Edition', '1938 FIFA World Cup'), ('Country', 'France'), ('Number', '15')]\n",
      "[('Edition', '1974 FIFA World Cup'), ('Country', 'Germany'), ('Number', '16')]\n",
      "[('Edition', '2018 FIFA World Cup'), ('Country', 'Russia'), ('Number', '32')]\n",
      "[('Edition', '1990 FIFA World Cup'), ('Country', 'Italy'), ('Number', '24')]\n",
      "[('Edition', '2022 FIFA World Cup'), ('Country', 'Qatar'), ('Number', '32')]\n",
      "[('Edition', '1962 FIFA World Cup'), ('Country', 'Chile'), ('Number', '16')]\n",
      "[('Edition', '1970 FIFA World Cup'), ('Country', 'Mexico'), ('Number', '16')]\n",
      "[('Edition', '1934 FIFA World Cup'), ('Country', 'Italy'), ('Number', '16')]\n",
      "[('Edition', '1986 FIFA World Cup'), ('Country', 'Mexico'), ('Number', '24')]\n",
      "[('Edition', '1982 FIFA World Cup'), ('Country', 'Mexico'), ('Number', '24')]\n",
      "[('Edition', '2002 FIFA World Cup'), ('Country', 'Japan, South Korea'), ('Number', '33')]\n",
      "[('Edition', '2026 FIFA World Cup'), ('Country', 'Canada, Mexico, United States of America'), ('Number', '48')]\n"
     ]
    },
    {
     "data": {
      "text/plain": [
       "23"
      ]
     },
     "execution_count": 39,
     "metadata": {},
     "output_type": "execute_result"
    }
   ],
   "source": [
    "queryString = \"\"\"\n",
    "SELECT DISTINCT ?Edition (GROUP_CONCAT(DISTINCT ?ctrname; separator=\", \") AS ?Country) ?Number WHERE { \n",
    "\n",
    "?wc wdt:P3450 wd:Q19317;\n",
    "    wdt:P1132 ?Number;\n",
    "    wdt:P17 ?c.\n",
    "      \n",
    "?wc <http://schema.org/name> ?Edition.\n",
    "?c <http://schema.org/name> ?ctrname.\n",
    "} \n",
    "GROUP BY ?Edition ?Number\n",
    "\"\"\"\n",
    "\n",
    "print(\"Results\")\n",
    "run_query(queryString)"
   ]
  },
  {
   "cell_type": "markdown",
   "id": "206a0355-d9b5-4375-b829-dd2cd1ac8789",
   "metadata": {},
   "source": [
    "## Task 4.1 - How many times each country participated in a world cup?"
   ]
  },
  {
   "cell_type": "markdown",
   "id": "fc6ee21e-d3a1-4dc0-8bf4-3aac804f5cf3",
   "metadata": {},
   "source": [
    "#### I reuse the BGP found for task 1 to count the participation"
   ]
  },
  {
   "cell_type": "code",
   "execution_count": 42,
   "id": "be33c2d7-a3ae-4166-a89e-da7e270adfee",
   "metadata": {},
   "outputs": [
    {
     "name": "stdout",
     "output_type": "stream",
     "text": [
      "Results\n",
      "[('teamname', 'Brazil national football team'), ('participation', '20')]\n",
      "[('teamname', 'Germany national association football team'), ('participation', '18')]\n",
      "[('teamname', 'Italy national association football team'), ('participation', '18')]\n",
      "[('teamname', 'Argentina national football team'), ('participation', '16')]\n",
      "[('teamname', 'Mexico national football team'), ('participation', '15')]\n",
      "[('teamname', 'Spain national association football team'), ('participation', '14')]\n",
      "[('teamname', 'England national association football team'), ('participation', '14')]\n",
      "[('teamname', 'France national association football team'), ('participation', '14')]\n",
      "[('teamname', 'Uruguay national football team'), ('participation', '12')]\n",
      "[('teamname', 'Belgium national football team'), ('participation', '12')]\n",
      "[('teamname', 'Sweden national association football team'), ('participation', '11')]\n",
      "[('teamname', \"United States men's national soccer team\"), ('participation', '10')]\n",
      "[('teamname', 'Swiss national football team'), ('participation', '10')]\n",
      "[('teamname', 'Netherlands national association football team'), ('participation', '10')]\n",
      "[('teamname', 'Hungary national association football team'), ('participation', '9')]\n",
      "[('teamname', 'South Korea national football team'), ('participation', '9')]\n",
      "[('teamname', 'Chile national football team'), ('participation', '9')]\n",
      "[('teamname', 'Paraguay national football team'), ('participation', '8')]\n",
      "[('teamname', 'Czechoslovakia national association football team'), ('participation', '8')]\n",
      "[('teamname', 'Yugoslavia national association football team'), ('participation', '8')]\n",
      "[('teamname', 'Scotland national football team'), ('participation', '8')]\n",
      "[('teamname', 'Romania national association football team'), ('participation', '7')]\n",
      "[('teamname', 'Poland national association football team'), ('participation', '7')]\n",
      "[('teamname', 'Cameroon national football team'), ('participation', '7')]\n",
      "[('teamname', 'Austria national association football team'), ('participation', '7')]\n",
      "[('teamname', 'Soviet Union national association football team'), ('participation', '7')]\n",
      "[('teamname', 'Bulgaria national football team'), ('participation', '7')]\n",
      "[('teamname', 'Portugal national association football team'), ('participation', '6')]\n",
      "[('teamname', 'Japan national football team'), ('participation', '5')]\n",
      "[('teamname', 'Colombia national football team'), ('participation', '5')]\n",
      "[('teamname', 'Nigeria national football team'), ('participation', '5')]\n",
      "[('teamname', 'Australia national association football team'), ('participation', '4')]\n",
      "[('teamname', 'Tunisia national football team'), ('participation', '4')]\n",
      "[('teamname', 'Peru national football team'), ('participation', '4')]\n",
      "[('teamname', 'Algeria national football team'), ('participation', '4')]\n",
      "[('teamname', 'Denmark national association football team'), ('participation', '4')]\n",
      "[('teamname', 'Iran national football team'), ('participation', '4')]\n",
      "[('teamname', 'Croatia national association football team'), ('participation', '4')]\n",
      "[('teamname', 'Morocco national football team'), ('participation', '4')]\n",
      "[('teamname', 'Costa Rica national football team'), ('participation', '4')]\n",
      "[('teamname', 'Saudi Arabia national football team'), ('participation', '4')]\n",
      "[('teamname', 'Honduras national football team'), ('participation', '3')]\n",
      "[('teamname', 'Bolivia national football team'), ('participation', '3')]\n",
      "[('teamname', 'Ivory Coast national football team'), ('participation', '3')]\n",
      "[('teamname', 'Greece national association football team'), ('participation', '3')]\n",
      "[('teamname', 'Ghana national football team'), ('participation', '3')]\n",
      "[('teamname', 'Ecuador national football team'), ('participation', '3')]\n",
      "[('teamname', 'Northern Ireland national association football team'), ('participation', '3')]\n",
      "[('teamname', 'South Africa national football team'), ('participation', '3')]\n",
      "[('teamname', 'Republic of Ireland national association football team'), ('participation', '3')]\n",
      "[('teamname', 'Norway national association football team'), ('participation', '3')]\n",
      "[('teamname', 'Russia national association football team'), ('participation', '3')]\n",
      "[('teamname', 'Serbia and Montenegro national football team'), ('participation', '2')]\n",
      "[('teamname', 'Turkey national association football team'), ('participation', '2')]\n",
      "[('teamname', 'El Salvador national football team'), ('participation', '2')]\n",
      "[('teamname', 'Slovenia national football team'), ('participation', '2')]\n",
      "[('teamname', 'New Zealand national football team'), ('participation', '2')]\n",
      "[('teamname', 'North Korea national football team'), ('participation', '2')]\n",
      "[('teamname', 'Egypt national football team'), ('participation', '2')]\n",
      "[('teamname', 'Iraq national football team'), ('participation', '1')]\n",
      "[('teamname', 'Jamaica national association football team'), ('participation', '1')]\n",
      "[('teamname', 'Togo national football team'), ('participation', '1')]\n",
      "[('teamname', 'Dutch East Indies national football team'), ('participation', '1')]\n",
      "[('teamname', 'Israel national football team'), ('participation', '1')]\n",
      "[('teamname', 'DR Congo national football team'), ('participation', '1')]\n",
      "[('teamname', 'China national football team'), ('participation', '1')]\n",
      "[('teamname', 'Bosnia and Herzegovina national football team'), ('participation', '1')]\n",
      "[('teamname', 'Haiti national football team'), ('participation', '1')]\n",
      "[('teamname', 'Kuwait national football team'), ('participation', '1')]\n",
      "[('teamname', 'Senegal national association football team'), ('participation', '1')]\n",
      "[('teamname', 'East Germany national football team'), ('participation', '1')]\n",
      "[('teamname', 'Trinidad and Tobago national football team'), ('participation', '1')]\n",
      "[('teamname', 'Cuba national football team'), ('participation', '1')]\n",
      "[('teamname', 'Ukraine national association football team'), ('participation', '1')]\n",
      "[('teamname', 'Wales national association football team'), ('participation', '1')]\n",
      "[('teamname', 'United Arab Emirates national football team'), ('participation', '1')]\n",
      "[('teamname', 'Angola national football team'), ('participation', '1')]\n",
      "[('teamname', 'Slovakia national association football team'), ('participation', '1')]\n",
      "[('teamname', 'Serbia national football team'), ('participation', '1')]\n",
      "[('teamname', \"Canada men's national soccer team\"), ('participation', '1')]\n",
      "[('teamname', 'Czech Republic national association football team'), ('participation', '1')]\n"
     ]
    },
    {
     "data": {
      "text/plain": [
       "81"
      ]
     },
     "execution_count": 42,
     "metadata": {},
     "output_type": "execute_result"
    }
   ],
   "source": [
    "queryString = \"\"\"\n",
    "SELECT DISTINCT ?teamname (COUNT (?sub) as ?participation) WHERE { \n",
    "\n",
    "?team wdt:P31 wd:Q6979593.\n",
    "?sub wdt:P1923 ?team;\n",
    "     wdt:P3450 wd:Q19317.\n",
    "      \n",
    "?team <http://schema.org/name> ?teamname.\n",
    "}\n",
    "GROUP BY (?teamname)\n",
    "ORDER BY DESC (?participation)\n",
    "\"\"\"\n",
    "\n",
    "print(\"Results\")\n",
    "run_query(queryString)"
   ]
  },
  {
   "cell_type": "markdown",
   "id": "9aef0345-4839-46a0-a9ac-fd4e74f7d1fe",
   "metadata": {},
   "source": [
    "#### I search for the final events for each World Cup, i try with property \"final event\""
   ]
  },
  {
   "cell_type": "code",
   "execution_count": 44,
   "id": "a4c675e4-0fe6-48d4-9d96-70d66cf50917",
   "metadata": {},
   "outputs": [
    {
     "name": "stdout",
     "output_type": "stream",
     "text": [
      "Results\n",
      "[('obj', 'http://www.wikidata.org/entity/Q208401'), ('objname', '2010 FIFA World Cup Final')]\n",
      "[('obj', 'http://www.wikidata.org/entity/Q31043671'), ('objname', '2018 FIFA World Cup Final')]\n",
      "[('obj', 'http://www.wikidata.org/entity/Q585295'), ('objname', '1998 FIFA World Cup Final')]\n",
      "[('obj', 'http://www.wikidata.org/entity/Q715021'), ('objname', '2002 FIFA World Cup Final')]\n",
      "[('obj', 'http://www.wikidata.org/entity/Q754483'), ('objname', 'Uruguay v Brazil 1950')]\n",
      "[('obj', 'http://www.wikidata.org/entity/Q665946'), ('objname', '1954 FIFA World Cup Final')]\n",
      "[('obj', 'http://www.wikidata.org/entity/Q610156'), ('objname', '1986 FIFA World Cup Final')]\n",
      "[('obj', 'http://www.wikidata.org/entity/Q858415'), ('objname', '1978 FIFA World Cup Final')]\n",
      "[('obj', 'http://www.wikidata.org/entity/Q909551'), ('objname', '1982 FIFA World Cup Final')]\n",
      "[('obj', 'http://www.wikidata.org/entity/Q389104'), ('objname', '1994 FIFA World Cup Final')]\n",
      "[('obj', 'http://www.wikidata.org/entity/Q15926885'), ('objname', '2014 FIFA World Cup Final')]\n",
      "[('obj', 'http://www.wikidata.org/entity/Q1065912'), ('objname', '1966 FIFA World Cup Final')]\n",
      "[('obj', 'http://www.wikidata.org/entity/Q1069912'), ('objname', '1970 FIFA World Cup Final')]\n",
      "[('obj', 'http://www.wikidata.org/entity/Q945970'), ('objname', '1974 FIFA World Cup Final')]\n",
      "[('obj', 'http://www.wikidata.org/entity/Q1078991'), ('objname', '1958 FIFA World Cup Final')]\n",
      "[('obj', 'http://www.wikidata.org/entity/Q63843'), ('objname', '1930 FIFA World Cup Final')]\n",
      "[('obj', 'http://www.wikidata.org/entity/Q945575'), ('objname', '1938 FIFA World Cup Final')]\n",
      "[('obj', 'http://www.wikidata.org/entity/Q945608'), ('objname', '1934 FIFA World Cup Final')]\n",
      "[('obj', 'http://www.wikidata.org/entity/Q268567'), ('objname', '2006 FIFA World Cup Final')]\n",
      "[('obj', 'http://www.wikidata.org/entity/Q3745599'), ('objname', '1990 FIFA World Cup Final')]\n",
      "[('obj', 'http://www.wikidata.org/entity/Q1191064'), ('objname', '1962 FIFA World Cup Final')]\n"
     ]
    },
    {
     "data": {
      "text/plain": [
       "21"
      ]
     },
     "execution_count": 44,
     "metadata": {},
     "output_type": "execute_result"
    }
   ],
   "source": [
    "queryString = \"\"\"\n",
    "SELECT DISTINCT ?obj ?objname WHERE { \n",
    "\n",
    "?wc wdt:P3450 wd:Q19317;\n",
    "    wdt:P3967 ?obj.\n",
    "      \n",
    "?obj <http://schema.org/name> ?objname .\n",
    "} \n",
    "\"\"\"\n",
    "\n",
    "print(\"Results\")\n",
    "run_query(queryString)"
   ]
  },
  {
   "cell_type": "markdown",
   "id": "62bd1ca9-ae76-4060-86f9-eea676676ef1",
   "metadata": {},
   "source": [
    "#### I found the finals, i inspect one of them to search the properties (wd:Q208401)"
   ]
  },
  {
   "cell_type": "code",
   "execution_count": 45,
   "id": "49393d6e-460c-496b-906e-0e726573f90a",
   "metadata": {},
   "outputs": [
    {
     "name": "stdout",
     "output_type": "stream",
     "text": [
      "Results\n",
      "[('p', 'http://www.wikidata.org/prop/direct/P1363'), ('pname', 'points/goal scored by')]\n",
      "[('p', 'http://www.wikidata.org/prop/direct/P1652'), ('pname', 'referee')]\n",
      "[('p', 'http://www.wikidata.org/prop/direct/P1346'), ('pname', 'winner')]\n",
      "[('p', 'http://www.wikidata.org/prop/direct/P155'), ('pname', 'follows')]\n",
      "[('p', 'http://www.wikidata.org/prop/direct/P156'), ('pname', 'followed by')]\n",
      "[('p', 'http://www.wikidata.org/prop/direct/P17'), ('pname', 'country')]\n",
      "[('p', 'http://www.wikidata.org/prop/direct/P18'), ('pname', 'image')]\n",
      "[('p', 'http://www.wikidata.org/prop/direct/P276'), ('pname', 'location')]\n",
      "[('p', 'http://www.wikidata.org/prop/direct/P31'), ('pname', 'instance of')]\n",
      "[('p', 'http://www.wikidata.org/prop/direct/P361'), ('pname', 'part of')]\n",
      "[('p', 'http://www.wikidata.org/prop/direct/P373'), ('pname', 'Commons category')]\n",
      "[('p', 'http://www.wikidata.org/prop/direct/P585'), ('pname', 'point in time')]\n",
      "[('p', 'http://www.wikidata.org/prop/direct/P641'), ('pname', 'sport')]\n",
      "[('p', 'http://www.wikidata.org/prop/direct/P646'), ('pname', 'Freebase ID')]\n",
      "[('p', 'http://www.wikidata.org/prop/direct/P793'), ('pname', 'significant event')]\n",
      "[('p', 'http://www.wikidata.org/prop/direct/P1110'), ('pname', 'attendance')]\n",
      "[('p', 'http://www.wikidata.org/prop/direct/P1923'), ('pname', 'participating team')]\n",
      "[('p', 'http://www.wikidata.org/prop/direct/P5157'), ('pname', 'OnsOranje match ID')]\n"
     ]
    },
    {
     "data": {
      "text/plain": [
       "18"
      ]
     },
     "execution_count": 45,
     "metadata": {},
     "output_type": "execute_result"
    }
   ],
   "source": [
    "queryString = \"\"\"\n",
    "SELECT DISTINCT ?p ?pname WHERE { \n",
    "\n",
    "wd:Q208401 ?p ?obj.\n",
    "      \n",
    "?p <http://schema.org/name> ?pname.\n",
    "} \n",
    "\"\"\"\n",
    "\n",
    "print(\"Results\")\n",
    "run_query(queryString)"
   ]
  },
  {
   "cell_type": "code",
   "execution_count": 46,
   "id": "60765a93-88f7-4683-b702-fe4885cd03f3",
   "metadata": {},
   "outputs": [
    {
     "name": "stdout",
     "output_type": "stream",
     "text": [
      "Results\n",
      "[('p', 'http://www.wikidata.org/prop/direct/P1344'), ('pname', 'participant in')]\n",
      "[('p', 'http://www.wikidata.org/prop/direct/P155'), ('pname', 'follows')]\n",
      "[('p', 'http://www.wikidata.org/prop/direct/P156'), ('pname', 'followed by')]\n",
      "[('p', 'http://www.wikidata.org/prop/direct/P3967'), ('pname', 'final event')]\n",
      "[('p', 'http://www.wikidata.org/prop/direct/P793'), ('pname', 'significant event')]\n"
     ]
    },
    {
     "data": {
      "text/plain": [
       "5"
      ]
     },
     "execution_count": 46,
     "metadata": {},
     "output_type": "execute_result"
    }
   ],
   "source": [
    "queryString = \"\"\"\n",
    "SELECT DISTINCT ?p ?pname WHERE { \n",
    "\n",
    "?sub ?p wd:Q208401.\n",
    "      \n",
    "?p <http://schema.org/name> ?pname.\n",
    "} \n",
    "\"\"\"\n",
    "\n",
    "print(\"Results\")\n",
    "run_query(queryString)"
   ]
  },
  {
   "cell_type": "markdown",
   "id": "a7565c53-7cfb-422f-ab90-525d27b60e4f",
   "metadata": {},
   "source": [
    "#### I use \"participating team\" (wdt:P1923) to get all the participants of the finals. Example with 2010 final"
   ]
  },
  {
   "cell_type": "code",
   "execution_count": 47,
   "id": "b76636dc-f0b4-4f88-a3d3-e9b755a6ba69",
   "metadata": {},
   "outputs": [
    {
     "name": "stdout",
     "output_type": "stream",
     "text": [
      "Results\n",
      "[('obj', 'http://www.wikidata.org/entity/Q47050'), ('objname', 'Netherlands national association football team')]\n",
      "[('obj', 'http://www.wikidata.org/entity/Q42267'), ('objname', 'Spain national association football team')]\n"
     ]
    },
    {
     "data": {
      "text/plain": [
       "2"
      ]
     },
     "execution_count": 47,
     "metadata": {},
     "output_type": "execute_result"
    }
   ],
   "source": [
    "queryString = \"\"\"\n",
    "SELECT DISTINCT ?obj ?objname WHERE { \n",
    "\n",
    "wd:Q208401 wdt:P1923 ?obj.\n",
    "      \n",
    "?obj <http://schema.org/name> ?objname.\n",
    "} \n",
    "\"\"\"\n",
    "\n",
    "print(\"Results\")\n",
    "run_query(queryString)"
   ]
  },
  {
   "cell_type": "markdown",
   "id": "c3a83676-d87e-424a-8384-075e8745bd92",
   "metadata": {},
   "source": [
    "#### Now for all finals of all World Cups"
   ]
  },
  {
   "cell_type": "code",
   "execution_count": 25,
   "id": "56f5ac6c-76ec-46cd-bc1e-1d3858c72003",
   "metadata": {},
   "outputs": [
    {
     "name": "stdout",
     "output_type": "stream",
     "text": [
      "Results\n",
      "[('Edition', '1994 FIFA World Cup'), ('Nation', 'Italy national association football team')]\n",
      "[('Edition', '1938 FIFA World Cup'), ('Nation', 'Hungary national association football team')]\n",
      "[('Edition', '1970 FIFA World Cup'), ('Nation', 'Italy national association football team')]\n",
      "[('Edition', '1970 FIFA World Cup'), ('Nation', 'Brazil national football team')]\n",
      "[('Edition', '1930 FIFA World Cup'), ('Nation', 'Uruguay national football team')]\n",
      "[('Edition', '1930 FIFA World Cup'), ('Nation', 'Argentina national football team')]\n",
      "[('Edition', '2018 FIFA World Cup'), ('Nation', 'Croatia at the 2018 FIFA World Cup')]\n",
      "[('Edition', '2018 FIFA World Cup'), ('Nation', 'France at the 2018 FIFA World Cup\\u200e')]\n",
      "[('Edition', '2010 FIFA World Cup'), ('Nation', 'Spain national association football team')]\n",
      "[('Edition', '2010 FIFA World Cup'), ('Nation', 'Netherlands national association football team')]\n",
      "[('Edition', '2006 FIFA World Cup'), ('Nation', 'France national association football team')]\n",
      "[('Edition', '2006 FIFA World Cup'), ('Nation', 'Italy national association football team')]\n",
      "[('Edition', '1982 FIFA World Cup'), ('Nation', 'Germany national association football team')]\n",
      "[('Edition', '1986 FIFA World Cup'), ('Nation', 'Germany national association football team')]\n",
      "[('Edition', '1978 FIFA World Cup'), ('Nation', 'Netherlands national association football team')]\n",
      "[('Edition', '2002 FIFA World Cup'), ('Nation', 'Brazil national football team')]\n",
      "[('Edition', '2002 FIFA World Cup'), ('Nation', 'Germany national association football team')]\n",
      "[('Edition', '2014 FIFA World Cup'), ('Nation', 'Germany national association football team')]\n",
      "[('Edition', '2014 FIFA World Cup'), ('Nation', 'Argentina national football team')]\n",
      "[('Edition', '1998 FIFA World Cup'), ('Nation', 'Brazil national football team')]\n",
      "[('Edition', '1998 FIFA World Cup'), ('Nation', 'France national association football team')]\n",
      "[('Edition', '1954 FIFA World Cup'), ('Nation', 'Hungary national association football team')]\n",
      "[('Edition', '1954 FIFA World Cup'), ('Nation', 'Germany national association football team')]\n",
      "[('Edition', '1950 FIFA World Cup'), ('Nation', 'Brazil national football team')]\n",
      "[('Edition', '1950 FIFA World Cup'), ('Nation', 'Uruguay national football team')]\n",
      "[('Edition', '1990 FIFA World Cup'), ('Nation', 'Argentina national football team')]\n",
      "[('Edition', '1966 FIFA World Cup'), ('Nation', 'West Germany at the 1966 FIFA World Cup')]\n",
      "[('Edition', '1966 FIFA World Cup'), ('Nation', 'England at the 1966 FIFA World Cup')]\n",
      "[('Edition', '1974 FIFA World Cup'), ('Nation', 'Germany national association football team')]\n",
      "[('Edition', '1958 FIFA World Cup'), ('Nation', 'Brazil national football team')]\n",
      "[('Edition', '1958 FIFA World Cup'), ('Nation', 'Sweden national association football team')]\n",
      "[('Edition', '1934 FIFA World Cup'), ('Nation', 'Italy national association football team')]\n",
      "[('Edition', '1934 FIFA World Cup'), ('Nation', 'Czechoslovakia national association football team')]\n",
      "[('Edition', '1962 FIFA World Cup'), ('Nation', 'Czechoslovakia national association football team')]\n"
     ]
    },
    {
     "data": {
      "text/plain": [
       "34"
      ]
     },
     "execution_count": 25,
     "metadata": {},
     "output_type": "execute_result"
    }
   ],
   "source": [
    "queryString = \"\"\"\n",
    "SELECT DISTINCT ?Edition ?Nation WHERE{\n",
    "\n",
    "?wc wdt:P3450 wd:Q19317;\n",
    "    wdt:P3967 ?final.\n",
    "    \n",
    "?final wdt:P1923 ?team.\n",
    "      \n",
    "?wc <http://schema.org/name> ?Edition.\n",
    "?team <http://schema.org/name> ?Nation.\n",
    "} \n",
    "\"\"\"\n",
    "\n",
    "print(\"Results\")\n",
    "run_query(queryString)"
   ]
  },
  {
   "cell_type": "code",
   "execution_count": 4,
   "id": "7f076b84-ca9f-4ceb-b897-76fab1f20810",
   "metadata": {},
   "outputs": [
    {
     "name": "stdout",
     "output_type": "stream",
     "text": [
      "Results\n",
      "[('Nation', 'Italy national association football team')]\n"
     ]
    },
    {
     "data": {
      "text/plain": [
       "1"
      ]
     },
     "execution_count": 4,
     "metadata": {},
     "output_type": "execute_result"
    }
   ],
   "source": [
    "queryString = \"\"\"\n",
    "SELECT DISTINCT ?Nation WHERE{\n",
    "\n",
    "wd:Q389104 wdt:P1923 ?team.\n",
    "\n",
    "?team <http://schema.org/name> ?Nation.\n",
    "} \n",
    "\"\"\"\n",
    "\n",
    "print(\"Results\")\n",
    "run_query(queryString)"
   ]
  },
  {
   "cell_type": "markdown",
   "id": "10fa1c6a-5bc8-4c5e-84fa-d9f5e394e15a",
   "metadata": {},
   "source": [
    "#### Miss some data as for this final i have only 1 team (instead of 2)"
   ]
  },
  {
   "cell_type": "markdown",
   "id": "01c94aa9-d98e-4e1d-b627-d971c2d1fe34",
   "metadata": {},
   "source": [
    "#### I count participations"
   ]
  },
  {
   "cell_type": "code",
   "execution_count": 6,
   "id": "092002aa-c9f5-4983-8085-6500137842ac",
   "metadata": {},
   "outputs": [
    {
     "name": "stdout",
     "output_type": "stream",
     "text": [
      "Results\n",
      "[('Nation', 'Germany national association football team'), ('nr_finalist', '6')]\n",
      "[('Nation', 'Brazil national football team'), ('nr_finalist', '5')]\n",
      "[('Nation', 'Italy national association football team'), ('nr_finalist', '4')]\n",
      "[('Nation', 'Argentina national football team'), ('nr_finalist', '3')]\n",
      "[('Nation', 'Hungary national association football team'), ('nr_finalist', '2')]\n",
      "[('Nation', 'Uruguay national football team'), ('nr_finalist', '2')]\n",
      "[('Nation', 'Czechoslovakia national association football team'), ('nr_finalist', '2')]\n",
      "[('Nation', 'Netherlands national association football team'), ('nr_finalist', '2')]\n",
      "[('Nation', 'France national association football team'), ('nr_finalist', '2')]\n",
      "[('Nation', 'France at the 2018 FIFA World Cup\\u200e'), ('nr_finalist', '1')]\n",
      "[('Nation', 'Spain national association football team'), ('nr_finalist', '1')]\n",
      "[('Nation', 'Sweden national association football team'), ('nr_finalist', '1')]\n",
      "[('Nation', 'England at the 1966 FIFA World Cup'), ('nr_finalist', '1')]\n",
      "[('Nation', 'Croatia at the 2018 FIFA World Cup'), ('nr_finalist', '1')]\n",
      "[('Nation', 'West Germany at the 1966 FIFA World Cup'), ('nr_finalist', '1')]\n"
     ]
    },
    {
     "data": {
      "text/plain": [
       "15"
      ]
     },
     "execution_count": 6,
     "metadata": {},
     "output_type": "execute_result"
    }
   ],
   "source": [
    "queryString = \"\"\"\n",
    "SELECT DISTINCT ?Nation (COUNT (?final) AS ?nr_finalist) WHERE{\n",
    "\n",
    "?wc wdt:P3450 wd:Q19317;\n",
    "    wdt:P3967 ?final.\n",
    "    \n",
    "?final wdt:P1923 ?team.\n",
    "      \n",
    "?team <http://schema.org/name> ?Nation.\n",
    "} \n",
    "GROUP BY ?Nation\n",
    "ORDER BY DESC (?nr_finalist)\n",
    "\"\"\"\n",
    "\n",
    "print(\"Results\")\n",
    "run_query(queryString)"
   ]
  },
  {
   "cell_type": "markdown",
   "id": "2cfb4d04-fa02-4986-b265-8cab9af59a58",
   "metadata": {},
   "source": [
    "#### For the team that won most finals i use the proper \"winner\" (wdt:P1346) of the finals"
   ]
  },
  {
   "cell_type": "code",
   "execution_count": 7,
   "id": "8acf6a66-5aed-4f94-9f6c-b1d9ca01fee3",
   "metadata": {},
   "outputs": [
    {
     "name": "stdout",
     "output_type": "stream",
     "text": [
      "Results\n",
      "[('Nation', 'Brazil national football team'), ('nr_winner', '3')]\n",
      "[('Nation', 'Italy national association football team'), ('nr_winner', '3')]\n",
      "[('Nation', 'Germany national association football team'), ('nr_winner', '2')]\n",
      "[('Nation', 'Uruguay national football team'), ('nr_winner', '2')]\n",
      "[('Nation', 'France at the 2018 FIFA World Cup\\u200e'), ('nr_winner', '1')]\n",
      "[('Nation', 'Spain national association football team'), ('nr_winner', '1')]\n",
      "[('Nation', 'England at the 1966 FIFA World Cup'), ('nr_winner', '1')]\n"
     ]
    },
    {
     "data": {
      "text/plain": [
       "7"
      ]
     },
     "execution_count": 7,
     "metadata": {},
     "output_type": "execute_result"
    }
   ],
   "source": [
    "queryString = \"\"\"\n",
    "SELECT DISTINCT ?Nation (COUNT (?final) AS ?nr_winner) WHERE{\n",
    "\n",
    "?wc wdt:P3450 wd:Q19317;\n",
    "    wdt:P3967 ?final.\n",
    "    \n",
    "?final wdt:P1346 ?team.\n",
    "      \n",
    "?team <http://schema.org/name> ?Nation.\n",
    "} \n",
    "GROUP BY ?Nation\n",
    "ORDER BY DESC (?nr_winner)\n",
    "\"\"\"\n",
    "\n",
    "print(\"Results\")\n",
    "run_query(queryString)"
   ]
  },
  {
   "cell_type": "markdown",
   "id": "2db59d71-25c4-4bd6-bb26-2e48336fc5f6",
   "metadata": {},
   "source": [
    "## Task 4.3 - Who participated in the most world cups among Italy, France, Spain, and Germany?"
   ]
  },
  {
   "cell_type": "markdown",
   "id": "52aeabfa-0f0b-4ff9-9422-b2318aec36d5",
   "metadata": {},
   "source": [
    "#### Let's try to retrieve the team with CONTAINS"
   ]
  },
  {
   "cell_type": "code",
   "execution_count": 8,
   "id": "1f513243-924e-47f4-b766-6d7369b3bf7b",
   "metadata": {},
   "outputs": [
    {
     "name": "stdout",
     "output_type": "stream",
     "text": [
      "Results\n",
      "[('team', 'http://www.wikidata.org/entity/Q3873531'), ('name', \"Italy women's national under-19 football team\")]\n",
      "[('team', 'http://www.wikidata.org/entity/Q3873502'), ('name', 'Italy national under-16 football team')]\n",
      "[('team', 'http://www.wikidata.org/entity/Q676899'), ('name', 'Italy national association football team')]\n",
      "[('team', 'http://www.wikidata.org/entity/Q2331232'), ('name', 'Italy national under-17 football team')]\n",
      "[('team', 'http://www.wikidata.org/entity/Q3632340'), ('name', 'Italy under-21 Serie B representative team')]\n",
      "[('team', 'http://www.wikidata.org/entity/Q3873548'), ('name', 'Italy national under-20 football team')]\n",
      "[('team', 'http://www.wikidata.org/entity/Q922698'), ('name', 'Italy national under-21 football team')]\n",
      "[('team', 'http://www.wikidata.org/entity/Q3873513'), ('name', 'Italy national under-18 football team')]\n",
      "[('team', 'http://www.wikidata.org/entity/Q2266580'), ('name', 'Italy national under-19 football team')]\n",
      "[('team', 'http://www.wikidata.org/entity/Q14753120'), ('name', 'Italy national under-15 football team')]\n",
      "[('team', 'http://www.wikidata.org/entity/Q16848688'), ('name', 'Italy Lega Pro representative teams')]\n",
      "[('team', 'http://www.wikidata.org/entity/Q15876770'), ('name', \"Italy women's national under-17 football team\")]\n"
     ]
    },
    {
     "data": {
      "text/plain": [
       "12"
      ]
     },
     "execution_count": 8,
     "metadata": {},
     "output_type": "execute_result"
    }
   ],
   "source": [
    "queryString = \"\"\"\n",
    "SELECT DISTINCT  * WHERE{\n",
    "\n",
    "?team wdt:P31 wd:Q6979593.\n",
    "\n",
    "?team <http://schema.org/name> ?name.\n",
    "\n",
    "FILTER CONTAINS(?name,\"Italy\")\n",
    "}\n",
    "\"\"\"\n",
    "print(\"Results\")\n",
    "run_query(queryString)"
   ]
  },
  {
   "cell_type": "markdown",
   "id": "c8356e6f-b78f-49a2-944f-f54b0c2ae98d",
   "metadata": {},
   "source": [
    "#### I inspect the Team that i'm interested in (wd:Q676899)"
   ]
  },
  {
   "cell_type": "code",
   "execution_count": null,
   "id": "5a0e9fd7-ddea-4b92-8f3f-5d2d288f9cc9",
   "metadata": {},
   "outputs": [],
   "source": [
    "queryString = \"\"\"\n",
    "SELECT DISTINCT ?p ?pname WHERE{\n",
    "\n",
    "wd:Q676899 ?p ?obj.\n",
    "\n",
    "?p <http://schema.org/name> ?pname.\n",
    "\n",
    "}\n",
    "\"\"\"\n",
    "print(\"Results\")\n",
    "run_query(queryString)"
   ]
  },
  {
   "cell_type": "markdown",
   "id": "856771d3-cc05-422f-b80b-ffef747dd260",
   "metadata": {},
   "source": [
    "#### Search for \"Instance of\""
   ]
  },
  {
   "cell_type": "code",
   "execution_count": 10,
   "id": "94867021-c5fc-4d85-ad23-aac21cf51be5",
   "metadata": {},
   "outputs": [
    {
     "name": "stdout",
     "output_type": "stream",
     "text": [
      "Results\n",
      "[('obj', 'http://www.wikidata.org/entity/Q6979593'), ('objname', 'national association football team')]\n"
     ]
    },
    {
     "data": {
      "text/plain": [
       "1"
      ]
     },
     "execution_count": 10,
     "metadata": {},
     "output_type": "execute_result"
    }
   ],
   "source": [
    "queryString = \"\"\"\n",
    "SELECT DISTINCT ?obj ?objname WHERE{\n",
    "\n",
    "wd:Q676899 wdt:P31 ?obj.\n",
    "\n",
    "?obj <http://schema.org/name> ?objname.\n",
    "\n",
    "}\n",
    "\"\"\"\n",
    "print(\"Results\")\n",
    "run_query(queryString)"
   ]
  },
  {
   "cell_type": "markdown",
   "id": "5a778249-f80a-4b0d-a670-d6d40ac93325",
   "metadata": {},
   "source": [
    "#### It was a loop, i try with the work done in the Task 1 to get teams that participated in the World Cups"
   ]
  },
  {
   "cell_type": "code",
   "execution_count": 24,
   "id": "ba00b133-c583-4a97-ba55-108b11d582c0",
   "metadata": {},
   "outputs": [
    {
     "name": "stdout",
     "output_type": "stream",
     "text": [
      "Results\n",
      "[('name', 'Italy national association football team')]\n",
      "[('name', 'France national association football team')]\n",
      "[('name', 'Spain national association football team')]\n",
      "[('name', 'Germany national association football team')]\n",
      "[('name', 'East Germany national football team')]\n"
     ]
    },
    {
     "data": {
      "text/plain": [
       "5"
      ]
     },
     "execution_count": 24,
     "metadata": {},
     "output_type": "execute_result"
    }
   ],
   "source": [
    "queryString = \"\"\"\n",
    "SELECT DISTINCT ?name WHERE { \n",
    "\n",
    "?team wdt:P31 wd:Q6979593.\n",
    "?sub wdt:P1923 ?team;\n",
    "     wdt:P3450 wd:Q19317.\n",
    "      \n",
    "?team <http://schema.org/name> ?name.\n",
    "\n",
    "FILTER REGEX (?name, \"(Italy|Germany|France|Spain)\")\n",
    "} \n",
    "\"\"\"\n",
    "\n",
    "print(\"Results\")\n",
    "run_query(queryString)"
   ]
  },
  {
   "cell_type": "markdown",
   "id": "76f0af5c-1dc5-414a-bddf-a96cec053fdb",
   "metadata": {},
   "source": [
    "#### Found! Now i count participation"
   ]
  },
  {
   "cell_type": "code",
   "execution_count": 28,
   "id": "bb8df880-bba2-4472-ba6b-894b6af4c495",
   "metadata": {},
   "outputs": [
    {
     "name": "stdout",
     "output_type": "stream",
     "text": [
      "Results\n",
      "[('name', 'Germany national association football team'), ('participation', '18')]\n",
      "[('name', 'Italy national association football team'), ('participation', '18')]\n",
      "[('name', 'Spain national association football team'), ('participation', '14')]\n",
      "[('name', 'France national association football team'), ('participation', '14')]\n",
      "[('name', 'East Germany national football team'), ('participation', '1')]\n"
     ]
    },
    {
     "data": {
      "text/plain": [
       "5"
      ]
     },
     "execution_count": 28,
     "metadata": {},
     "output_type": "execute_result"
    }
   ],
   "source": [
    "queryString = \"\"\"\n",
    "SELECT DISTINCT ?name (COUNT(?sub) AS ?participation) WHERE { \n",
    "\n",
    "?team wdt:P31 wd:Q6979593.\n",
    "?sub wdt:P1923 ?team;\n",
    "     wdt:P3450 wd:Q19317.\n",
    "      \n",
    "?team <http://schema.org/name> ?name.\n",
    "\n",
    "FILTER REGEX (?name, \"(Italy|Germany|France|Spain)\")\n",
    "} \n",
    "GROUP BY ?name\n",
    "ORDER BY DESC (?participation)\n",
    "\"\"\"\n",
    "\n",
    "print(\"Results\")\n",
    "run_query(queryString)"
   ]
  },
  {
   "cell_type": "code",
   "execution_count": null,
   "id": "b9ece758-609d-41bf-a2eb-13bbb6c65879",
   "metadata": {},
   "outputs": [],
   "source": []
  }
 ],
 "metadata": {
  "kernelspec": {
   "display_name": "Python 3",
   "language": "python",
   "name": "python3"
  },
  "language_info": {
   "codemirror_mode": {
    "name": "ipython",
    "version": 3
   },
   "file_extension": ".py",
   "mimetype": "text/x-python",
   "name": "python",
   "nbconvert_exporter": "python",
   "pygments_lexer": "ipython3",
   "version": "3.7.10"
  }
 },
 "nbformat": 4,
 "nbformat_minor": 5
}
