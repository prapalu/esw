{
 "cells": [
  {
   "cell_type": "markdown",
   "id": "7034c3bf-6eb0-4418-8687-7b9d2a501103",
   "metadata": {},
   "source": [
    "# General instructions\n",
    "\n",
    "The goal of the project is to materialize a set of **exploratory workloads** over a real-world, large-scale,  open-domain KG: [WikiData](https://www.wikidata.org/wiki/Wikidata:Main_Page)\n",
    "\n",
    "An exploratory workload  is composed by a set of queries, where each query is related to the information obtained previously.\n",
    "\n",
    "An exploratory workload starts with a usually vague, open ended question, and does not assume the person issuing the workload has a clear understanding of the data contained in the target database or its structure.\n",
    "\n",
    "Remeber that:\n",
    "\n",
    "1. All the queries must run in the python notebook\n",
    "2. You can use classes and properties only if you find them via a SPARQL query that must be present in the notebook\n",
    "3. You do not delete useless queries. Keep everything that is synthatically valid \n",
    "\n",
    "```\n",
    "?p <http://schema.org/name> ?name .\n",
    "```\n",
    "    \n",
    "    is the BGP returning a human-readable name of a property or a class in Wikidata."
   ]
  },
  {
   "cell_type": "code",
   "execution_count": 1,
   "id": "3605c9d5-5371-49a5-be8d-d66e8f417139",
   "metadata": {},
   "outputs": [],
   "source": [
    "## SETUP used later\n",
    "\n",
    "from SPARQLWrapper import SPARQLWrapper, JSON\n",
    "\n",
    "\n",
    "prefixString = \"\"\"\n",
    "##-history2-##\n",
    "PREFIX wd: <http://www.wikidata.org/entity/> \n",
    "PREFIX wdt: <http://www.wikidata.org/prop/direct/> \n",
    "PREFIX sc: <http://schema.org/>\n",
    "\"\"\"\n",
    "\n",
    "# select and construct queries\n",
    "def run_query(queryString,verbose = True):\n",
    "    to_run = prefixString + \"\\n\" + queryString\n",
    "\n",
    "    sparql = SPARQLWrapper(\"http://a256-gc1-02.srv.aau.dk:5820/sparql\")\n",
    "    sparql.setTimeout(300)\n",
    "    sparql.setReturnFormat(JSON)\n",
    "    sparql.setQuery(to_run)\n",
    "\n",
    "    try :\n",
    "        results = sparql.query()\n",
    "        json_results = results.convert()\n",
    "        if len(json_results['results']['bindings'])==0:\n",
    "            print(\"Empty\")\n",
    "            return []\n",
    "        array = []\n",
    "        for bindings in json_results['results']['bindings']:\n",
    "            app =  [ (var, value['value'])  for var, value in bindings.items() ] \n",
    "            if verbose:\n",
    "                print( app)\n",
    "            array.append(app)\n",
    "        if verbose:\n",
    "            print(len(array))\n",
    "        return array\n",
    "\n",
    "    except Exception as e :\n",
    "        print(\"The operation failed\", e)\n",
    "    \n",
    "# ASk queries\n",
    "def run_ask_query(queryString):\n",
    "    to_run = prefixString + \"\\n\" + queryString\n",
    "\n",
    "    sparql = SPARQLWrapper(\"http://a256-gc1-02.srv.aau.dk:5820/sparql\")\n",
    "    sparql.setTimeout(300)\n",
    "    sparql.setReturnFormat(JSON)\n",
    "    sparql.setQuery(to_run)\n",
    "\n",
    "    try :\n",
    "        return sparql.query().convert()\n",
    "\n",
    "    except Exception as e :\n",
    "        print(\"The operation failed\", e)"
   ]
  },
  {
   "cell_type": "markdown",
   "id": "d477a59c-a68c-4c8f-9f97-8ca5294d7d27",
   "metadata": {},
   "source": [
    "# History Workflow Series (\"World Wide Web\") \n",
    "\n",
    "Consider the following exploratory information need:\n",
    "\n",
    "> Investigate the origins of the World Wide Web and related academic activities and scientists."
   ]
  },
  {
   "cell_type": "markdown",
   "id": "4a45c0ba-f79e-441d-bec5-84401b09db70",
   "metadata": {},
   "source": [
    "## Useful URIs for the current workflow\n",
    "The following are given:\n",
    "\n",
    "| IRI           | Description   | Role      |\n",
    "| -----------   | -----------   |-----------|\n",
    "| `wdt:P1647`   | subproperty   | predicate |\n",
    "| `wdt:P31`     | instance of   | predicate |\n",
    "| `wdt:P106`    | occupation    | predicate | \n",
    "| `wdt:P279`    | subclass      | predicate |\n",
    "| `wdt:P27`     | nationality   | predicate |\n",
    "| `wdt:P3342`     | Significant person       | predicate |\n",
    "| `wd:Q5`| Human       | node |\n",
    "| `wd:Q466`| World Wide Web      | node |\n"
   ]
  },
  {
   "cell_type": "markdown",
   "id": "7af439fb-96e4-4dbb-a381-f19afab79f86",
   "metadata": {
    "tags": []
   },
   "source": [
    "\n",
    "\n",
    "\n",
    "Also consider\n",
    "\n",
    "```\n",
    "wd:Q466 ?p ?obj .\n",
    "```\n",
    "\n",
    "is the BGP to retrieve all **properties of World Wide Web**\n",
    "\n",
    "Please consider that when you return a resource, you should return the IRI and the label of the resource. In particular, when the task require you to identify a BGP the result set must always be a list of couples IRI - label.\n",
    "\n",
    "The workload should:\n",
    "\n",
    "1. Find the inventors of World Wide Web (return IRI and name).\n",
    "\n",
    "2. Identify the BGP for hypertext system.\n",
    "\n",
    "3. Find all the hypertext systems born before the 1980 (return the IRI and name of the system and the inception date).\n",
    "\n",
    "4. Identify the BGP for computer scientist\n",
    "\n",
    "5. Find how many computer scientists there are for each continent (consider their citizenship). Return the IRI and name of the continent and the number of scientists for each continent. \n",
    "\n",
    "6. Find all the computer scientists who thaught at the University of Cambridge (return IRI and name)\n",
    "\n",
    "7. Find all the computer scientists who wrote at least 5 books (please consider only the instances of book, exclude \"literary work\" or other type of work related to books). Return the IRI and name of the computer scientist and the number of books. "
   ]
  },
  {
   "cell_type": "markdown",
   "id": "8e62c4f4-dc29-426c-9aef-6b9eeb771380",
   "metadata": {
    "jp-MarkdownHeadingCollapsed": true,
    "tags": []
   },
   "source": [
    "## Task 1"
   ]
  },
  {
   "cell_type": "code",
   "execution_count": 9,
   "id": "9a90e3d5-dcf3-42eb-a0f1-fa05201bc0ac",
   "metadata": {},
   "outputs": [
    {
     "name": "stdout",
     "output_type": "stream",
     "text": [
      "Results\n",
      "[('prop', 'http://www.wikidata.org/prop/direct/P1482'), ('name', 'Stack Exchange tag')]\n",
      "[('prop', 'http://www.wikidata.org/prop/direct/P1542'), ('name', 'has effect')]\n",
      "[('prop', 'http://www.wikidata.org/prop/direct/P1889'), ('name', 'different from')]\n",
      "[('prop', 'http://www.wikidata.org/prop/direct/P2184'), ('name', 'history of topic')]\n",
      "[('prop', 'http://www.wikidata.org/prop/direct/P279'), ('name', 'subclass of')]\n",
      "[('prop', 'http://www.wikidata.org/prop/direct/P2959'), ('name', 'permanent duplicated item')]\n",
      "[('prop', 'http://www.wikidata.org/prop/direct/P31'), ('name', 'instance of')]\n",
      "[('prop', 'http://www.wikidata.org/prop/direct/P5008'), ('name', 'on focus list of Wikimedia project')]\n",
      "[('prop', 'http://www.wikidata.org/prop/direct/P527'), ('name', 'has part')]\n",
      "[('prop', 'http://www.wikidata.org/prop/direct/P61'), ('name', 'discoverer or inventor')]\n",
      "[('prop', 'http://www.wikidata.org/prop/direct/P737'), ('name', 'influenced by')]\n",
      "[('prop', 'http://www.wikidata.org/prop/direct/P793'), ('name', 'significant event')]\n",
      "[('prop', 'http://www.wikidata.org/prop/direct/P910'), ('name', \"topic's main category\")]\n",
      "13\n"
     ]
    }
   ],
   "source": [
    "queryString = \"\"\"\n",
    "SELECT DISTINCT ?prop ?name\n",
    "WHERE { \n",
    "    wd:Q466 ?prop ?obj .\n",
    "    ?prop sc:name ?name.\n",
    "    FILTER(!isLiteral(?obj)).\n",
    "} \n",
    "\"\"\"\n",
    "\n",
    "print(\"Results\")\n",
    "x=run_query(queryString)"
   ]
  },
  {
   "cell_type": "code",
   "execution_count": 10,
   "id": "39130f13-3f6a-4e2d-886b-40d60bf26516",
   "metadata": {},
   "outputs": [
    {
     "name": "stdout",
     "output_type": "stream",
     "text": [
      "Results\n",
      "[('obj', 'http://www.wikidata.org/entity/Q80'), ('name', 'Tim Berners-Lee')]\n",
      "[('obj', 'http://www.wikidata.org/entity/Q92749'), ('name', 'Robert Cailliau')]\n",
      "2\n"
     ]
    }
   ],
   "source": [
    "queryString = \"\"\"\n",
    "SELECT DISTINCT ?obj ?name\n",
    "WHERE { \n",
    "    wd:Q466 wdt:P61 ?obj .\n",
    "    ?obj sc:name ?name.\n",
    "} \n",
    "\"\"\"\n",
    "\n",
    "print(\"Results\")\n",
    "x=run_query(queryString)"
   ]
  },
  {
   "cell_type": "markdown",
   "id": "b1ec8824-d3fa-4a90-8f41-b276c2811889",
   "metadata": {
    "jp-MarkdownHeadingCollapsed": true,
    "tags": []
   },
   "source": [
    "## Task 2"
   ]
  },
  {
   "cell_type": "code",
   "execution_count": 11,
   "id": "a4633f41-504d-47d9-b2ca-f43ea294858c",
   "metadata": {},
   "outputs": [
    {
     "name": "stdout",
     "output_type": "stream",
     "text": [
      "Results\n",
      "[('obj', 'http://www.wikidata.org/entity/Q121182'), ('name', 'information system')]\n",
      "[('obj', 'http://www.wikidata.org/entity/Q65966993'), ('name', 'hypertext system')]\n",
      "2\n"
     ]
    }
   ],
   "source": [
    "queryString = \"\"\"\n",
    "SELECT DISTINCT ?obj ?name\n",
    "WHERE { \n",
    "    wd:Q466 wdt:P31 ?obj .\n",
    "    ?obj sc:name ?name.\n",
    "} \n",
    "\"\"\"\n",
    "\n",
    "print(\"Results\")\n",
    "x=run_query(queryString)"
   ]
  },
  {
   "cell_type": "markdown",
   "id": "130c4e78-ec70-48c2-aba0-5bb0d0f63286",
   "metadata": {
    "jp-MarkdownHeadingCollapsed": true,
    "tags": []
   },
   "source": [
    "## Task 3"
   ]
  },
  {
   "cell_type": "code",
   "execution_count": 3,
   "id": "ade01416-92e7-4ad7-b9a9-b8fb330750dc",
   "metadata": {},
   "outputs": [
    {
     "name": "stdout",
     "output_type": "stream",
     "text": [
      "Results\n",
      "[('obj', 'http://www.wikidata.org/entity/Q466'), ('name', 'World Wide Web')]\n",
      "[('obj', 'http://www.wikidata.org/entity/Q370979'), ('name', 'Amigaguide')]\n",
      "[('obj', 'http://www.wikidata.org/entity/Q2385520'), ('name', 'ENQUIRE')]\n",
      "[('obj', 'http://www.wikidata.org/entity/Q4994212'), ('name', 'Hypertext Editing System')]\n",
      "[('obj', 'http://www.wikidata.org/entity/Q5448331'), ('name', 'File Retrieval and Editing System')]\n",
      "[('obj', 'http://www.wikidata.org/entity/Q785345'), ('name', 'Project Xanadu')]\n",
      "[('obj', 'http://www.wikidata.org/entity/Q1799609'), ('name', 'HyTime')]\n",
      "[('obj', 'http://www.wikidata.org/entity/Q7742259'), ('name', 'The Interactive Encyclopedia System')]\n",
      "[('obj', 'http://www.wikidata.org/entity/Q74587961'), ('name', 'MaxThink')]\n",
      "[('obj', 'http://www.wikidata.org/entity/Q74590695'), ('name', 'HyperRez')]\n",
      "[('obj', 'http://www.wikidata.org/entity/Q74667091'), ('name', 'HOUDINI')]\n",
      "[('obj', 'http://www.wikidata.org/entity/Q66561170'), ('name', 'Visual Knowledge Builder')]\n",
      "[('obj', 'http://www.wikidata.org/entity/Q66561696'), ('name', 'VIKI')]\n",
      "[('obj', 'http://www.wikidata.org/entity/Q1166919'), ('name', 'Darwin Information Typing Architecture')]\n",
      "[('obj', 'http://www.wikidata.org/entity/Q1053749'), ('name', 'HyperCard')]\n",
      "[('obj', 'http://www.wikidata.org/entity/Q74679064'), ('name', 'TransText')]\n",
      "[('obj', 'http://www.wikidata.org/entity/Q94638515'), ('name', 'Gemini')]\n",
      "[('obj', 'http://www.wikidata.org/entity/Q2442968'), ('name', 'ToolBook')]\n",
      "[('obj', 'http://www.wikidata.org/entity/Q2367048'), ('name', 'SuperCard')]\n",
      "[('obj', 'http://www.wikidata.org/entity/Q5319181'), ('name', 'Dynatext')]\n",
      "[('obj', 'http://www.wikidata.org/entity/Q73516071'), ('name', 'Andrew Toolkit')]\n",
      "[('obj', 'http://www.wikidata.org/entity/Q5964462'), ('name', 'Knowledge Management System')]\n",
      "[('obj', 'http://www.wikidata.org/entity/Q67170587'), ('name', 'Expeditee')]\n",
      "[('obj', 'http://www.wikidata.org/entity/Q67147168'), ('name', 'Macweb')]\n",
      "[('obj', 'http://www.wikidata.org/entity/Q73916721'), ('name', 'HyperWriter!')]\n",
      "[('obj', 'http://www.wikidata.org/entity/Q15411624'), ('name', 'Twine')]\n",
      "[('obj', 'http://www.wikidata.org/entity/Q6839396'), ('name', 'Microcosm')]\n",
      "[('obj', 'http://www.wikidata.org/entity/Q471'), ('name', 'Memex')]\n",
      "[('obj', 'http://www.wikidata.org/entity/Q2583312'), ('name', 'WinPlus')]\n",
      "[('obj', 'http://www.wikidata.org/entity/Q73664535'), ('name', 'Folio Views')]\n",
      "[('obj', 'http://www.wikidata.org/entity/Q66124479'), ('name', 'Hyper-G')]\n",
      "[('obj', 'http://www.wikidata.org/entity/Q75004603'), ('name', 'IBM LinkWay')]\n",
      "[('obj', 'http://www.wikidata.org/entity/Q1050365'), ('name', 'oNLine System')]\n",
      "[('obj', 'http://www.wikidata.org/entity/Q8063246'), ('name', 'ZOG')]\n",
      "[('obj', 'http://www.wikidata.org/entity/Q66916307'), ('name', 'token_word')]\n",
      "[('obj', 'http://www.wikidata.org/entity/Q3625272'), ('name', 'Aspen Movie Map')]\n",
      "[('obj', 'http://www.wikidata.org/entity/Q5358242'), ('name', 'Electronic Document System')]\n",
      "[('obj', 'http://www.wikidata.org/entity/Q11153199'), ('name', 'Intermedia')]\n",
      "[('obj', 'http://www.wikidata.org/entity/Q7620478'), ('name', 'Storyspace')]\n",
      "[('obj', 'http://www.wikidata.org/entity/Q380574'), ('name', 'Knowledge Navigator')]\n",
      "[('obj', 'http://www.wikidata.org/entity/Q5615425'), ('name', 'Guide')]\n",
      "[('obj', 'http://www.wikidata.org/entity/Q11793087'), ('name', 'NoteCards')]\n",
      "[('obj', 'http://www.wikidata.org/entity/Q74428178'), ('name', 'HyperCOSTOC')]\n",
      "[('obj', 'http://www.wikidata.org/entity/Q66125212'), ('name', 'Konstanz Hypertext System')]\n",
      "[('obj', 'http://www.wikidata.org/entity/Q74670748'), ('name', 'PC-Hypertext')]\n",
      "[('obj', 'http://www.wikidata.org/entity/Q63079762'), ('name', 'OpenXanadu')]\n",
      "[('obj', 'http://www.wikidata.org/entity/Q66821230'), ('name', \"Sun's Link Service\")]\n",
      "[('obj', 'http://www.wikidata.org/entity/Q73737542'), ('name', 'HyperPAD')]\n",
      "[('obj', 'http://www.wikidata.org/entity/Q104714171'), ('name', 'HM-Card')]\n",
      "[('obj', 'http://www.wikidata.org/entity/Q7060634'), ('name', 'Norton Guides')]\n",
      "[('obj', 'http://www.wikidata.org/entity/Q7661194'), ('name', 'Symbolics Document Examiner')]\n",
      "[('obj', 'http://www.wikidata.org/entity/Q74588296'), ('name', 'Hyplus')]\n",
      "[('obj', 'http://www.wikidata.org/entity/Q67168848'), ('name', 'Udanax Green')]\n",
      "53\n"
     ]
    }
   ],
   "source": [
    "queryString = \"\"\"\n",
    "SELECT DISTINCT ?obj ?name\n",
    "WHERE { \n",
    "    ?obj wdt:P31 wd:Q65966993 .\n",
    "    ?obj sc:name ?name.\n",
    "    FILTER(!isLiteral(?obj)).\n",
    "} \n",
    "\"\"\"\n",
    "\n",
    "print(\"Results\")\n",
    "x=run_query(queryString)"
   ]
  },
  {
   "cell_type": "code",
   "execution_count": 5,
   "id": "7115c3c1-13b0-416f-b37e-d2b604b42249",
   "metadata": {},
   "outputs": [
    {
     "name": "stdout",
     "output_type": "stream",
     "text": [
      "Results\n",
      "[('p', 'http://www.wikidata.org/prop/direct/P2093'), ('name', 'author name string')]\n",
      "[('p', 'http://www.wikidata.org/prop/direct/P4107'), ('name', 'Framalibre ID')]\n",
      "[('p', 'http://www.wikidata.org/prop/direct/P1051'), ('name', 'PSH ID')]\n",
      "[('p', 'http://www.wikidata.org/prop/direct/P1195'), ('name', 'file extension')]\n",
      "[('p', 'http://www.wikidata.org/prop/direct/P1225'), ('name', 'U.S. National Archives Identifier')]\n",
      "[('p', 'http://www.wikidata.org/prop/direct/P1417'), ('name', 'Encyclopædia Britannica Online ID')]\n",
      "[('p', 'http://www.wikidata.org/prop/direct/P1430'), ('name', 'OpenPlaques subject ID')]\n",
      "[('p', 'http://www.wikidata.org/prop/direct/P1641'), ('name', 'port')]\n",
      "[('p', 'http://www.wikidata.org/prop/direct/P1813'), ('name', 'short name')]\n",
      "[('p', 'http://www.wikidata.org/prop/direct/P1814'), ('name', 'name in kana')]\n",
      "[('p', 'http://www.wikidata.org/prop/direct/P2002'), ('name', 'Twitter username')]\n",
      "[('p', 'http://www.wikidata.org/prop/direct/P2004'), ('name', 'NALT ID')]\n",
      "[('p', 'http://www.wikidata.org/prop/direct/P2163'), ('name', 'FAST ID')]\n",
      "[('p', 'http://www.wikidata.org/prop/direct/P227'), ('name', 'GND ID')]\n",
      "[('p', 'http://www.wikidata.org/prop/direct/P2284'), ('name', 'price')]\n",
      "[('p', 'http://www.wikidata.org/prop/direct/P2347'), ('name', 'YSO ID')]\n",
      "[('p', 'http://www.wikidata.org/prop/direct/P244'), ('name', 'Library of Congress authority ID')]\n",
      "[('p', 'http://www.wikidata.org/prop/direct/P2581'), ('name', 'BabelNet ID')]\n",
      "[('p', 'http://www.wikidata.org/prop/direct/P2612'), ('name', 'TED topic ID')]\n",
      "[('p', 'http://www.wikidata.org/prop/direct/P2671'), ('name', 'Google Knowledge Graph ID')]\n",
      "[('p', 'http://www.wikidata.org/prop/direct/P268'), ('name', 'Bibliothèque nationale de France ID')]\n",
      "[('p', 'http://www.wikidata.org/prop/direct/P3219'), ('name', 'Encyclopædia Universalis ID')]\n",
      "[('p', 'http://www.wikidata.org/prop/direct/P3222'), ('name', 'NE.se ID')]\n",
      "[('p', 'http://www.wikidata.org/prop/direct/P3381'), ('name', 'File Format Wiki page ID')]\n",
      "[('p', 'http://www.wikidata.org/prop/direct/P3417'), ('name', 'Quora topic ID')]\n",
      "[('p', 'http://www.wikidata.org/prop/direct/P348'), ('name', 'software version identifier')]\n",
      "[('p', 'http://www.wikidata.org/prop/direct/P3553'), ('name', 'Zhihu topic ID')]\n",
      "[('p', 'http://www.wikidata.org/prop/direct/P373'), ('name', 'Commons category')]\n",
      "[('p', 'http://www.wikidata.org/prop/direct/P3827'), ('name', 'JSTOR topic ID')]\n",
      "[('p', 'http://www.wikidata.org/prop/direct/P3847'), ('name', 'Open Library subject ID')]\n",
      "[('p', 'http://www.wikidata.org/prop/direct/P4342'), ('name', 'Store norske leksikon ID')]\n",
      "[('p', 'http://www.wikidata.org/prop/direct/P5019'), ('name', 'Brockhaus Enzyklopädie online ID')]\n",
      "[('p', 'http://www.wikidata.org/prop/direct/P508'), ('name', 'BNCF Thesaurus ID')]\n",
      "[('p', 'http://www.wikidata.org/prop/direct/P5398'), ('name', 'TDKIV term ID')]\n",
      "[('p', 'http://www.wikidata.org/prop/direct/P571'), ('name', 'inception')]\n",
      "[('p', 'http://www.wikidata.org/prop/direct/P575'), ('name', 'time of discovery or invention')]\n",
      "[('p', 'http://www.wikidata.org/prop/direct/P576'), ('name', 'dissolved, abolished or demolished date')]\n",
      "[('p', 'http://www.wikidata.org/prop/direct/P577'), ('name', 'publication date')]\n",
      "[('p', 'http://www.wikidata.org/prop/direct/P580'), ('name', 'start time')]\n",
      "[('p', 'http://www.wikidata.org/prop/direct/P582'), ('name', 'end time')]\n",
      "[('p', 'http://www.wikidata.org/prop/direct/P585'), ('name', 'point in time')]\n",
      "[('p', 'http://www.wikidata.org/prop/direct/P6366'), ('name', 'Microsoft Academic ID')]\n",
      "[('p', 'http://www.wikidata.org/prop/direct/P646'), ('name', 'Freebase ID')]\n",
      "[('p', 'http://www.wikidata.org/prop/direct/P6611'), ('name', 'Semantic Scholar topic ID')]\n",
      "[('p', 'http://www.wikidata.org/prop/direct/P6665'), ('name', 'Pro-Linux.de DBApp ID')]\n",
      "[('p', 'http://www.wikidata.org/prop/direct/P7033'), ('name', 'Australian Educational Vocabulary ID')]\n",
      "[('p', 'http://www.wikidata.org/prop/direct/P724'), ('name', 'Internet Archive ID')]\n",
      "[('p', 'http://www.wikidata.org/prop/direct/P7502'), ('name', 'Golden ID')]\n",
      "[('p', 'http://www.wikidata.org/prop/direct/P7818'), ('name', 'French Vikidia ID')]\n",
      "[('p', 'http://www.wikidata.org/prop/direct/P8408'), ('name', 'KBpedia ID')]\n",
      "[('p', 'http://www.wikidata.org/prop/direct/P8687'), ('name', 'social media followers')]\n",
      "[('p', 'http://www.wikidata.org/prop/direct/P935'), ('name', 'Commons gallery')]\n",
      "[('p', 'http://www.wikidata.org/prop/direct/P950'), ('name', 'Biblioteca Nacional de España ID')]\n",
      "[('p', 'http://www.wikidata.org/prop/direct/P2179'), ('name', 'ACM Classification Code (2012)')]\n",
      "[('p', 'http://www.wikidata.org/prop/direct/P3893'), ('name', 'public domain date')]\n",
      "55\n"
     ]
    }
   ],
   "source": [
    "queryString = \"\"\"\n",
    "SELECT DISTINCT ?p ?name\n",
    "WHERE { \n",
    "    ?obj wdt:P31 wd:Q65966993 ;\n",
    "        ?p ?x.\n",
    "    ?p sc:name ?name.\n",
    "    FILTER(isLiteral(?x)).\n",
    "} \n",
    "\"\"\"\n",
    "\n",
    "print(\"Results\")\n",
    "x=run_query(queryString)"
   ]
  },
  {
   "cell_type": "code",
   "execution_count": 12,
   "id": "d7914fee-0372-4f62-b88d-9f037f71fb33",
   "metadata": {},
   "outputs": [
    {
     "name": "stdout",
     "output_type": "stream",
     "text": [
      "Results\n",
      "[('obj', 'http://www.wikidata.org/entity/Q2385520'), ('name', 'ENQUIRE'), ('x', '1980-01-01T00:00:00Z')]\n",
      "[('obj', 'http://www.wikidata.org/entity/Q4994212'), ('name', 'Hypertext Editing System'), ('x', '1967-01-01T00:00:00Z')]\n",
      "[('obj', 'http://www.wikidata.org/entity/Q5448331'), ('name', 'File Retrieval and Editing System'), ('x', '1968-01-01T00:00:00Z')]\n",
      "[('obj', 'http://www.wikidata.org/entity/Q785345'), ('name', 'Project Xanadu'), ('x', '1960-01-01T00:00:00Z')]\n",
      "[('obj', 'http://www.wikidata.org/entity/Q471'), ('name', 'Memex'), ('x', '1939-01-01T00:00:00Z')]\n",
      "[('obj', 'http://www.wikidata.org/entity/Q1050365'), ('name', 'oNLine System'), ('x', '1962-01-01T00:00:00Z')]\n",
      "[('obj', 'http://www.wikidata.org/entity/Q8063246'), ('name', 'ZOG'), ('x', '1977-01-01T00:00:00Z')]\n",
      "[('obj', 'http://www.wikidata.org/entity/Q3625272'), ('name', 'Aspen Movie Map'), ('x', '1978-01-01T00:00:00Z')]\n",
      "[('obj', 'http://www.wikidata.org/entity/Q5358242'), ('name', 'Electronic Document System'), ('x', '1978-01-01T00:00:00Z')]\n",
      "9\n"
     ]
    }
   ],
   "source": [
    "queryString = \"\"\"\n",
    "SELECT DISTINCT ?obj ?name ?x\n",
    "WHERE { \n",
    "    ?obj wdt:P31 wd:Q65966993 ;\n",
    "        wdt:P571 ?x.\n",
    "    ?obj sc:name ?name.\n",
    "    FILTER(?x < \"1980-01-01\"^^xsd:date).\n",
    "} \n",
    "\"\"\"\n",
    "\n",
    "print(\"Results\")\n",
    "x=run_query(queryString)"
   ]
  },
  {
   "cell_type": "markdown",
   "id": "ef2ed3c7-1a8a-4ec9-937e-4f8701021e2b",
   "metadata": {
    "jp-MarkdownHeadingCollapsed": true,
    "tags": []
   },
   "source": [
    "## Task 4"
   ]
  },
  {
   "cell_type": "code",
   "execution_count": 14,
   "id": "658d5877-45dc-4eba-8c22-0936d7883e88",
   "metadata": {},
   "outputs": [
    {
     "name": "stdout",
     "output_type": "stream",
     "text": [
      "Results\n",
      "[('prop', 'http://www.wikidata.org/prop/direct/P101'), ('name', 'field of work')]\n",
      "[('prop', 'http://www.wikidata.org/prop/direct/P103'), ('name', 'native language')]\n",
      "[('prop', 'http://www.wikidata.org/prop/direct/P106'), ('name', 'occupation')]\n",
      "[('prop', 'http://www.wikidata.org/prop/direct/P108'), ('name', 'employer')]\n",
      "[('prop', 'http://www.wikidata.org/prop/direct/P1343'), ('name', 'described by source')]\n",
      "[('prop', 'http://www.wikidata.org/prop/direct/P1344'), ('name', 'participant in')]\n",
      "[('prop', 'http://www.wikidata.org/prop/direct/P140'), ('name', 'religion')]\n",
      "[('prop', 'http://www.wikidata.org/prop/direct/P1412'), ('name', 'languages spoken, written or signed')]\n",
      "[('prop', 'http://www.wikidata.org/prop/direct/P166'), ('name', 'award received')]\n",
      "[('prop', 'http://www.wikidata.org/prop/direct/P172'), ('name', 'ethnic group')]\n",
      "[('prop', 'http://www.wikidata.org/prop/direct/P18'), ('name', 'image')]\n",
      "[('prop', 'http://www.wikidata.org/prop/direct/P19'), ('name', 'place of birth')]\n",
      "[('prop', 'http://www.wikidata.org/prop/direct/P21'), ('name', 'sex or gender')]\n",
      "[('prop', 'http://www.wikidata.org/prop/direct/P22'), ('name', 'father')]\n",
      "[('prop', 'http://www.wikidata.org/prop/direct/P25'), ('name', 'mother')]\n",
      "[('prop', 'http://www.wikidata.org/prop/direct/P27'), ('name', 'country of citizenship')]\n",
      "[('prop', 'http://www.wikidata.org/prop/direct/P31'), ('name', 'instance of')]\n",
      "[('prop', 'http://www.wikidata.org/prop/direct/P3373'), ('name', 'sibling')]\n",
      "[('prop', 'http://www.wikidata.org/prop/direct/P463'), ('name', 'member of')]\n",
      "[('prop', 'http://www.wikidata.org/prop/direct/P5008'), ('name', 'on focus list of Wikimedia project')]\n",
      "[('prop', 'http://www.wikidata.org/prop/direct/P512'), ('name', 'academic degree')]\n",
      "[('prop', 'http://www.wikidata.org/prop/direct/P551'), ('name', 'residence')]\n",
      "[('prop', 'http://www.wikidata.org/prop/direct/P6886'), ('name', 'writing language')]\n",
      "[('prop', 'http://www.wikidata.org/prop/direct/P69'), ('name', 'educated at')]\n",
      "[('prop', 'http://www.wikidata.org/prop/direct/P734'), ('name', 'family name')]\n",
      "[('prop', 'http://www.wikidata.org/prop/direct/P735'), ('name', 'given name')]\n",
      "[('prop', 'http://www.wikidata.org/prop/direct/P800'), ('name', 'notable work')]\n",
      "[('prop', 'http://www.wikidata.org/prop/direct/P856'), ('name', 'official website')]\n",
      "[('prop', 'http://www.wikidata.org/prop/direct/P910'), ('name', \"topic's main category\")]\n",
      "[('prop', 'http://www.wikidata.org/prop/direct/P937'), ('name', 'work location')]\n",
      "[('prop', 'http://www.wikidata.org/prop/direct/P97'), ('name', 'noble title')]\n",
      "[('prop', 'http://www.wikidata.org/prop/direct/P990'), ('name', \"audio recording of the subject's spoken voice\")]\n",
      "32\n"
     ]
    }
   ],
   "source": [
    "queryString = \"\"\"\n",
    "SELECT DISTINCT ?prop ?name\n",
    "WHERE { \n",
    "    wd:Q80 ?prop ?obj .\n",
    "    ?prop sc:name ?name.\n",
    "    FILTER(!isLiteral(?obj)).\n",
    "} \n",
    "\"\"\"\n",
    "\n",
    "print(\"Results\")\n",
    "x=run_query(queryString)"
   ]
  },
  {
   "cell_type": "code",
   "execution_count": 15,
   "id": "52ef337a-08cf-4eeb-bd40-389d4f83f4e1",
   "metadata": {},
   "outputs": [
    {
     "name": "stdout",
     "output_type": "stream",
     "text": [
      "Results\n",
      "[('obj', 'http://www.wikidata.org/entity/Q1622272'), ('name', 'university teacher')]\n",
      "[('obj', 'http://www.wikidata.org/entity/Q169470'), ('name', 'physicist')]\n",
      "[('obj', 'http://www.wikidata.org/entity/Q205375'), ('name', 'inventor')]\n",
      "[('obj', 'http://www.wikidata.org/entity/Q81096'), ('name', 'engineer')]\n",
      "[('obj', 'http://www.wikidata.org/entity/Q82594'), ('name', 'computer scientist')]\n",
      "[('obj', 'http://www.wikidata.org/entity/Q5482740'), ('name', 'programmer')]\n",
      "[('obj', 'http://www.wikidata.org/entity/Q6859454'), ('name', 'web developer')]\n",
      "7\n"
     ]
    }
   ],
   "source": [
    "queryString = \"\"\"\n",
    "SELECT DISTINCT ?obj ?name\n",
    "WHERE { \n",
    "    wd:Q80 wdt:P106 ?obj .\n",
    "    ?obj sc:name ?name.\n",
    "} \n",
    "\"\"\"\n",
    "\n",
    "print(\"Results\")\n",
    "x=run_query(queryString)"
   ]
  },
  {
   "cell_type": "markdown",
   "id": "46ddef9a-b058-42c3-a6cf-a1c02bdf7a94",
   "metadata": {
    "jp-MarkdownHeadingCollapsed": true,
    "tags": []
   },
   "source": [
    "## Task 5"
   ]
  },
  {
   "cell_type": "code",
   "execution_count": 45,
   "id": "23e1a345-c0c0-4d25-9d34-5748189a033f",
   "metadata": {},
   "outputs": [
    {
     "name": "stdout",
     "output_type": "stream",
     "text": [
      "Results\n",
      "[('prop', 'http://www.wikidata.org/prop/direct/P27'), ('name', 'country of citizenship')]\n",
      "1\n"
     ]
    }
   ],
   "source": [
    "queryString = \"\"\"\n",
    "SELECT DISTINCT ?prop ?name\n",
    "WHERE { \n",
    "    ?people wdt:P106 wd:Q82594 ;\n",
    "        ?prop ?obj.\n",
    "    ?prop sc:name ?name.\n",
    "    FILTER(REGEX(?name,\"izen\")).\n",
    "} \n",
    "\"\"\"\n",
    "\n",
    "print(\"Results\")\n",
    "x=run_query(queryString)"
   ]
  },
  {
   "cell_type": "code",
   "execution_count": 50,
   "id": "36d288d0-7d5c-4eae-92b3-967369131a01",
   "metadata": {},
   "outputs": [
    {
     "name": "stdout",
     "output_type": "stream",
     "text": [
      "Results\n",
      "[('prop', 'http://www.wikidata.org/prop/direct/P30'), ('name', 'continent')]\n",
      "1\n"
     ]
    }
   ],
   "source": [
    "queryString = \"\"\"\n",
    "SELECT DISTINCT ?prop ?name\n",
    "WHERE { \n",
    "    ?people wdt:P106 wd:Q82594 ;\n",
    "        wdt:P27 ?obj.\n",
    "    ?obj ?prop ?x.\n",
    "    ?prop sc:name ?name.\n",
    "    FILTER(REGEX(?name,\"continent\"))\n",
    "} \n",
    "\"\"\"\n",
    "\n",
    "print(\"Results\")\n",
    "x=run_query(queryString)"
   ]
  },
  {
   "cell_type": "code",
   "execution_count": 52,
   "id": "6fa8ce4f-0d68-405c-8b9f-2819ca52bf55",
   "metadata": {},
   "outputs": [
    {
     "name": "stdout",
     "output_type": "stream",
     "text": [
      "Results\n",
      "[('x', 'http://www.wikidata.org/entity/Q46'), ('continent', 'Europe'), ('comp_scientist', '3237')]\n",
      "[('x', 'http://www.wikidata.org/entity/Q538'), ('continent', 'Insular Oceania'), ('comp_scientist', '2476')]\n",
      "[('x', 'http://www.wikidata.org/entity/Q15'), ('continent', 'Africa'), ('comp_scientist', '76')]\n",
      "[('x', 'http://www.wikidata.org/entity/Q48'), ('continent', 'Asia'), ('comp_scientist', '846')]\n",
      "[('x', 'http://www.wikidata.org/entity/Q5401'), ('continent', 'Eurasia'), ('comp_scientist', '22')]\n",
      "[('x', 'http://www.wikidata.org/entity/Q18'), ('continent', 'South America'), ('comp_scientist', '92')]\n",
      "[('x', 'http://www.wikidata.org/entity/Q49'), ('continent', 'North America'), ('comp_scientist', '2770')]\n",
      "7\n"
     ]
    }
   ],
   "source": [
    "queryString = \"\"\"\n",
    "SELECT DISTINCT ?x ?continent COUNT(DISTINCT(?people)) AS ?comp_scientist\n",
    "WHERE { \n",
    "    ?people wdt:P106 wd:Q82594 ;\n",
    "        wdt:P27 ?obj.\n",
    "    ?obj wdt:P30 ?x.\n",
    "    ?x sc:name ?continent.\n",
    "} \n",
    "GROUP BY ?x ?continent\n",
    "\"\"\"\n",
    "\n",
    "print(\"Results\")\n",
    "x=run_query(queryString)"
   ]
  },
  {
   "cell_type": "markdown",
   "id": "343b63e9-77c1-4420-abcd-087604940e43",
   "metadata": {
    "jp-MarkdownHeadingCollapsed": true,
    "tags": []
   },
   "source": [
    "## Task 6"
   ]
  },
  {
   "cell_type": "code",
   "execution_count": 27,
   "id": "de9b413d-ee5f-4cdc-8ad0-30357a098c9a",
   "metadata": {},
   "outputs": [
    {
     "name": "stdout",
     "output_type": "stream",
     "text": [
      "Results\n",
      "[('prop', 'http://www.wikidata.org/prop/direct/P551'), ('name', 'residence')]\n",
      "[('prop', 'http://www.wikidata.org/prop/direct/P69'), ('name', 'educated at')]\n",
      "[('prop', 'http://www.wikidata.org/prop/direct/P20'), ('name', 'place of death')]\n",
      "[('prop', 'http://www.wikidata.org/prop/direct/P108'), ('name', 'employer')]\n",
      "[('prop', 'http://www.wikidata.org/prop/direct/P19'), ('name', 'place of birth')]\n",
      "[('prop', 'http://www.wikidata.org/prop/direct/P485'), ('name', 'archives at')]\n",
      "[('prop', 'http://www.wikidata.org/prop/direct/P937'), ('name', 'work location')]\n",
      "[('prop', 'http://www.wikidata.org/prop/direct/P166'), ('name', 'award received')]\n",
      "8\n"
     ]
    }
   ],
   "source": [
    "queryString = \"\"\"\n",
    "SELECT DISTINCT ?prop ?name\n",
    "WHERE { \n",
    "    ?people wdt:P106 wd:Q82594 ;\n",
    "        ?prop ?obj.\n",
    "    ?prop sc:name ?name.\n",
    "    ?obj sc:name ?n.\n",
    "    FILTER(REGEX(?n,\"Cambridge\"))\n",
    "} \n",
    "\"\"\"\n",
    "\n",
    "print(\"Results\")\n",
    "x=run_query(queryString)"
   ]
  },
  {
   "cell_type": "code",
   "execution_count": 28,
   "id": "5312f6cd-a8b3-42c2-a68a-b7524dd74169",
   "metadata": {},
   "outputs": [
    {
     "name": "stdout",
     "output_type": "stream",
     "text": [
      "Results\n",
      "[('obj', 'http://www.wikidata.org/entity/Q35794'), ('n', 'University of Cambridge')]\n",
      "1\n"
     ]
    }
   ],
   "source": [
    "queryString = \"\"\"\n",
    "SELECT DISTINCT ?obj ?n\n",
    "WHERE { \n",
    "    ?people wdt:P106 wd:Q82594 ;\n",
    "        wdt:P108 ?obj.\n",
    "    ?obj sc:name ?n.\n",
    "    FILTER(REGEX(?n,\"Cambridge\"))\n",
    "} \n",
    "LIMIT 10\n",
    "\"\"\"\n",
    "\n",
    "print(\"Results\")\n",
    "x=run_query(queryString)"
   ]
  },
  {
   "cell_type": "code",
   "execution_count": 31,
   "id": "e0aaab4b-cdd0-4f92-98ef-cb4341dffbca",
   "metadata": {},
   "outputs": [
    {
     "name": "stdout",
     "output_type": "stream",
     "text": [
      "Results\n",
      "[('people', 'http://www.wikidata.org/entity/Q92944'), ('name', 'David Wheeler')]\n",
      "[('people', 'http://www.wikidata.org/entity/Q7251'), ('name', 'Alan Turing')]\n",
      "[('people', 'http://www.wikidata.org/entity/Q365578'), ('name', 'Nathan Myhrvold')]\n",
      "[('people', 'http://www.wikidata.org/entity/Q446862'), ('name', 'David J. C. MacKay')]\n",
      "[('people', 'http://www.wikidata.org/entity/Q92431724'), ('name', 'Andrew Pitts')]\n",
      "[('people', 'http://www.wikidata.org/entity/Q46633'), ('name', 'Charles Babbage')]\n",
      "[('people', 'http://www.wikidata.org/entity/Q7259'), ('name', 'Ada Lovelace')]\n",
      "[('people', 'http://www.wikidata.org/entity/Q62857'), ('name', 'Maurice Wilkes')]\n",
      "[('people', 'http://www.wikidata.org/entity/Q7176624'), ('name', 'Peter Robinson')]\n",
      "[('people', 'http://www.wikidata.org/entity/Q451770'), ('name', 'Douglas Hartree')]\n",
      "[('people', 'http://www.wikidata.org/entity/Q6135125'), ('name', 'James H. Davenport')]\n",
      "[('people', 'http://www.wikidata.org/entity/Q4707402'), ('name', 'Alan Mycroft')]\n",
      "[('people', 'http://www.wikidata.org/entity/Q10348961'), ('name', 'Peter Russell')]\n",
      "[('people', 'http://www.wikidata.org/entity/Q63126308'), ('name', 'Peter Földiák')]\n",
      "[('people', 'http://www.wikidata.org/entity/Q216811'), ('name', 'John Venn')]\n",
      "[('people', 'http://www.wikidata.org/entity/Q5538146'), ('name', 'George Coulouris')]\n",
      "[('people', 'http://www.wikidata.org/entity/Q6504468'), ('name', 'Lawrence Paulson')]\n",
      "[('people', 'http://www.wikidata.org/entity/Q15989962'), ('name', 'Neil Dodgson')]\n",
      "[('people', 'http://www.wikidata.org/entity/Q62036851'), ('name', 'Mateja Jamnik')]\n",
      "[('people', 'http://www.wikidata.org/entity/Q62004384'), ('name', 'Heidi Howard')]\n",
      "[('people', 'http://www.wikidata.org/entity/Q20831555'), ('name', 'Jean Bacon')]\n",
      "[('people', 'http://www.wikidata.org/entity/Q5238377'), ('name', 'David Park')]\n",
      "[('people', 'http://www.wikidata.org/entity/Q92873'), ('name', 'Roger Michael Needham')]\n",
      "[('people', 'http://www.wikidata.org/entity/Q100586732'), ('name', 'Ferenc Huszár')]\n",
      "[('people', 'http://www.wikidata.org/entity/Q6766466'), ('name', \"Mark A. O'Neill\")]\n",
      "[('people', 'http://www.wikidata.org/entity/Q81842478'), ('name', 'Paula Buttery')]\n",
      "[('people', 'http://www.wikidata.org/entity/Q57244353'), ('name', 'Simone Teufel')]\n",
      "[('people', 'http://www.wikidata.org/entity/Q81520088'), ('name', 'Alice Hutchings')]\n",
      "[('people', 'http://www.wikidata.org/entity/Q97571377'), ('name', 'Roberto Cipolla')]\n",
      "[('people', 'http://www.wikidata.org/entity/Q5534365'), ('name', 'Geoff Walsham')]\n",
      "[('people', 'http://www.wikidata.org/entity/Q316330'), ('name', 'Daniel Bell')]\n",
      "[('people', 'http://www.wikidata.org/entity/Q30122679'), ('name', 'Steve Young')]\n",
      "[('people', 'http://www.wikidata.org/entity/Q16489'), ('name', 'Sophie Wilson')]\n",
      "[('people', 'http://www.wikidata.org/entity/Q21708036'), ('name', 'Richard Pankhurst')]\n",
      "[('people', 'http://www.wikidata.org/entity/Q5982621'), ('name', 'Ian Pratt')]\n",
      "[('people', 'http://www.wikidata.org/entity/Q7821956'), ('name', 'Tony Brooker')]\n",
      "36\n"
     ]
    }
   ],
   "source": [
    "queryString = \"\"\"\n",
    "SELECT DISTINCT ?people ?name\n",
    "WHERE { \n",
    "    ?people wdt:P106 wd:Q82594 ;\n",
    "        wdt:P108 wd:Q35794.\n",
    "    ?people sc:name ?name.\n",
    "}\n",
    "\"\"\"\n",
    "\n",
    "print(\"Results\")\n",
    "x=run_query(queryString)"
   ]
  },
  {
   "cell_type": "markdown",
   "id": "9f1d522a-2870-4dee-bc89-63468baf8fc1",
   "metadata": {
    "jp-MarkdownHeadingCollapsed": true,
    "tags": []
   },
   "source": [
    "## Task 7"
   ]
  },
  {
   "cell_type": "code",
   "execution_count": 33,
   "id": "41348a1d-55ab-40cb-b541-3542cb329761",
   "metadata": {},
   "outputs": [
    {
     "name": "stdout",
     "output_type": "stream",
     "text": [
      "Results\n",
      "[('prop', 'http://www.wikidata.org/prop/direct/P1136'), ('name', 'solved by')]\n",
      "[('prop', 'http://www.wikidata.org/prop/direct/P2438'), ('name', 'narrator')]\n",
      "[('prop', 'http://www.wikidata.org/prop/direct/P3938'), ('name', 'named by')]\n",
      "[('prop', 'http://www.wikidata.org/prop/direct/P1318'), ('name', 'proved by')]\n",
      "[('prop', 'http://www.wikidata.org/prop/direct/P823'), ('name', 'speaker')]\n",
      "[('prop', 'http://www.wikidata.org/prop/direct/P101'), ('name', 'field of work')]\n",
      "[('prop', 'http://www.wikidata.org/prop/direct/P1037'), ('name', 'director / manager')]\n",
      "[('prop', 'http://www.wikidata.org/prop/direct/P1038'), ('name', 'relative')]\n",
      "[('prop', 'http://www.wikidata.org/prop/direct/P1066'), ('name', 'student of')]\n",
      "[('prop', 'http://www.wikidata.org/prop/direct/P108'), ('name', 'employer')]\n",
      "[('prop', 'http://www.wikidata.org/prop/direct/P112'), ('name', 'founded by')]\n",
      "[('prop', 'http://www.wikidata.org/prop/direct/P123'), ('name', 'publisher')]\n",
      "[('prop', 'http://www.wikidata.org/prop/direct/P1269'), ('name', 'facet of')]\n",
      "[('prop', 'http://www.wikidata.org/prop/direct/P127'), ('name', 'owned by')]\n",
      "[('prop', 'http://www.wikidata.org/prop/direct/P1290'), ('name', 'godparent')]\n",
      "[('prop', 'http://www.wikidata.org/prop/direct/P1346'), ('name', 'winner')]\n",
      "[('prop', 'http://www.wikidata.org/prop/direct/P137'), ('name', 'operator')]\n",
      "[('prop', 'http://www.wikidata.org/prop/direct/P138'), ('name', 'named after')]\n",
      "[('prop', 'http://www.wikidata.org/prop/direct/P155'), ('name', 'follows')]\n",
      "[('prop', 'http://www.wikidata.org/prop/direct/P156'), ('name', 'followed by')]\n",
      "[('prop', 'http://www.wikidata.org/prop/direct/P161'), ('name', 'cast member')]\n",
      "[('prop', 'http://www.wikidata.org/prop/direct/P162'), ('name', 'producer')]\n",
      "[('prop', 'http://www.wikidata.org/prop/direct/P170'), ('name', 'creator')]\n",
      "[('prop', 'http://www.wikidata.org/prop/direct/P175'), ('name', 'performer')]\n",
      "[('prop', 'http://www.wikidata.org/prop/direct/P176'), ('name', 'manufacturer')]\n",
      "[('prop', 'http://www.wikidata.org/prop/direct/P178'), ('name', 'developer')]\n",
      "[('prop', 'http://www.wikidata.org/prop/direct/P180'), ('name', 'depicts')]\n",
      "[('prop', 'http://www.wikidata.org/prop/direct/P184'), ('name', 'doctoral advisor')]\n",
      "[('prop', 'http://www.wikidata.org/prop/direct/P185'), ('name', 'doctoral student')]\n",
      "[('prop', 'http://www.wikidata.org/prop/direct/P1889'), ('name', 'different from')]\n",
      "[('prop', 'http://www.wikidata.org/prop/direct/P22'), ('name', 'father')]\n",
      "[('prop', 'http://www.wikidata.org/prop/direct/P25'), ('name', 'mother')]\n",
      "[('prop', 'http://www.wikidata.org/prop/direct/P26'), ('name', 'spouse')]\n",
      "[('prop', 'http://www.wikidata.org/prop/direct/P276'), ('name', 'location')]\n",
      "[('prop', 'http://www.wikidata.org/prop/direct/P287'), ('name', 'designed by')]\n",
      "[('prop', 'http://www.wikidata.org/prop/direct/P301'), ('name', \"category's main topic\")]\n",
      "[('prop', 'http://www.wikidata.org/prop/direct/P3320'), ('name', 'board member')]\n",
      "[('prop', 'http://www.wikidata.org/prop/direct/P3342'), ('name', 'significant person')]\n",
      "[('prop', 'http://www.wikidata.org/prop/direct/P3373'), ('name', 'sibling')]\n",
      "[('prop', 'http://www.wikidata.org/prop/direct/P344'), ('name', 'director of photography')]\n",
      "[('prop', 'http://www.wikidata.org/prop/direct/P371'), ('name', 'presenter')]\n",
      "[('prop', 'http://www.wikidata.org/prop/direct/P40'), ('name', 'child')]\n",
      "[('prop', 'http://www.wikidata.org/prop/direct/P451'), ('name', 'unmarried partner')]\n",
      "[('prop', 'http://www.wikidata.org/prop/direct/P466'), ('name', 'occupant')]\n",
      "[('prop', 'http://www.wikidata.org/prop/direct/P488'), ('name', 'chairperson')]\n",
      "[('prop', 'http://www.wikidata.org/prop/direct/P50'), ('name', 'author')]\n",
      "[('prop', 'http://www.wikidata.org/prop/direct/P527'), ('name', 'has part')]\n",
      "[('prop', 'http://www.wikidata.org/prop/direct/P547'), ('name', 'commemorates')]\n",
      "[('prop', 'http://www.wikidata.org/prop/direct/P57'), ('name', 'director')]\n",
      "[('prop', 'http://www.wikidata.org/prop/direct/P5769'), ('name', 'editor-in-chief')]\n",
      "[('prop', 'http://www.wikidata.org/prop/direct/P58'), ('name', 'screenwriter')]\n",
      "[('prop', 'http://www.wikidata.org/prop/direct/P5869'), ('name', 'model item')]\n",
      "[('prop', 'http://www.wikidata.org/prop/direct/P61'), ('name', 'discoverer or inventor')]\n",
      "[('prop', 'http://www.wikidata.org/prop/direct/P655'), ('name', 'translator')]\n",
      "[('prop', 'http://www.wikidata.org/prop/direct/P664'), ('name', 'organizer')]\n",
      "[('prop', 'http://www.wikidata.org/prop/direct/P674'), ('name', 'characters')]\n",
      "[('prop', 'http://www.wikidata.org/prop/direct/P710'), ('name', 'participant')]\n",
      "[('prop', 'http://www.wikidata.org/prop/direct/P737'), ('name', 'influenced by')]\n",
      "[('prop', 'http://www.wikidata.org/prop/direct/P767'), ('name', 'contributor to the creative work or subject')]\n",
      "[('prop', 'http://www.wikidata.org/prop/direct/P802'), ('name', 'student')]\n",
      "[('prop', 'http://www.wikidata.org/prop/direct/P825'), ('name', 'dedicated to')]\n",
      "[('prop', 'http://www.wikidata.org/prop/direct/P86'), ('name', 'composer')]\n",
      "[('prop', 'http://www.wikidata.org/prop/direct/P88'), ('name', 'commissioned by')]\n",
      "[('prop', 'http://www.wikidata.org/prop/direct/P921'), ('name', 'main subject')]\n",
      "[('prop', 'http://www.wikidata.org/prop/direct/P971'), ('name', 'category combines topics')]\n",
      "[('prop', 'http://www.wikidata.org/prop/direct/P98'), ('name', 'editor')]\n",
      "[('prop', 'http://www.wikidata.org/prop/direct/P1327'), ('name', 'partner in business or sport')]\n",
      "[('prop', 'http://www.wikidata.org/prop/direct/P1877'), ('name', 'after a work by')]\n",
      "[('prop', 'http://www.wikidata.org/prop/direct/P8403'), ('name', 'theorised by')]\n",
      "[('prop', 'http://www.wikidata.org/prop/direct/P1308'), ('name', 'officeholder')]\n",
      "[('prop', 'http://www.wikidata.org/prop/direct/P725'), ('name', 'voice actor')]\n",
      "[('prop', 'http://www.wikidata.org/prop/direct/P1891'), ('name', 'signatory')]\n",
      "[('prop', 'http://www.wikidata.org/prop/direct/P8329'), ('name', 'principal investigator')]\n",
      "[('prop', 'http://www.wikidata.org/prop/direct/P1074'), ('name', 'fictional analog of')]\n",
      "[('prop', 'http://www.wikidata.org/prop/direct/P2679'), ('name', 'author of foreword')]\n",
      "[('prop', 'http://www.wikidata.org/prop/direct/P1855'), ('name', 'Wikidata property example')]\n",
      "[('prop', 'http://www.wikidata.org/prop/direct/P2680'), ('name', 'author of afterword')]\n",
      "[('prop', 'http://www.wikidata.org/prop/direct/P7604'), ('name', 'supervised by')]\n",
      "[('prop', 'http://www.wikidata.org/prop/direct/P3448'), ('name', 'stepparent')]\n",
      "[('prop', 'http://www.wikidata.org/prop/direct/P4345'), ('name', 'director of archaeological fieldwork')]\n",
      "[('prop', 'http://www.wikidata.org/prop/direct/P1040'), ('name', 'film editor')]\n",
      "[('prop', 'http://www.wikidata.org/prop/direct/P1535'), ('name', 'used by')]\n",
      "[('prop', 'http://www.wikidata.org/prop/direct/P31'), ('name', 'instance of')]\n",
      "[('prop', 'http://www.wikidata.org/prop/direct/P361'), ('name', 'part of')]\n",
      "[('prop', 'http://www.wikidata.org/prop/direct/P6'), ('name', 'head of government')]\n",
      "[('prop', 'http://www.wikidata.org/prop/direct/P676'), ('name', 'lyrics by')]\n",
      "[('prop', 'http://www.wikidata.org/prop/direct/P84'), ('name', 'architect')]\n",
      "[('prop', 'http://www.wikidata.org/prop/direct/P941'), ('name', 'inspired by')]\n",
      "[('prop', 'http://www.wikidata.org/prop/direct/P991'), ('name', 'successful candidate')]\n",
      "[('prop', 'http://www.wikidata.org/prop/direct/P1598'), ('name', 'consecrator')]\n",
      "[('prop', 'http://www.wikidata.org/prop/direct/P5202'), ('name', 'adapted by')]\n",
      "[('prop', 'http://www.wikidata.org/prop/direct/P87'), ('name', 'librettist')]\n",
      "[('prop', 'http://www.wikidata.org/prop/direct/P4032'), ('name', 'reviewed by')]\n",
      "[('prop', 'http://www.wikidata.org/prop/direct/P1779'), ('name', 'possible creator')]\n",
      "[('prop', 'http://www.wikidata.org/prop/direct/P5804'), ('name', 'has program committee member')]\n",
      "[('prop', 'http://www.wikidata.org/prop/direct/P9161'), ('name', 'thesis committee member')]\n",
      "[('prop', 'http://www.wikidata.org/prop/direct/P1591'), ('name', 'defendant')]\n",
      "[('prop', 'http://www.wikidata.org/prop/direct/P110'), ('name', 'illustrator')]\n",
      "[('prop', 'http://www.wikidata.org/prop/direct/P126'), ('name', 'maintained by')]\n",
      "[('prop', 'http://www.wikidata.org/prop/direct/P169'), ('name', 'chief executive officer')]\n",
      "[('prop', 'http://www.wikidata.org/prop/direct/P542'), ('name', 'officially opened by')]\n",
      "[('prop', 'http://www.wikidata.org/prop/direct/P726'), ('name', 'candidate')]\n",
      "[('prop', 'http://www.wikidata.org/prop/direct/P533'), ('name', 'target')]\n",
      "[('prop', 'http://www.wikidata.org/prop/direct/P2517'), ('name', 'category for recipients of this award')]\n",
      "[('prop', 'http://www.wikidata.org/prop/direct/P5030'), ('name', 'talk show guest')]\n",
      "[('prop', 'http://www.wikidata.org/prop/direct/P1640'), ('name', 'curator')]\n",
      "[('prop', 'http://www.wikidata.org/prop/direct/P5052'), ('name', 'supervisory board member')]\n",
      "[('prop', 'http://www.wikidata.org/prop/direct/P790'), ('name', 'approved by')]\n",
      "[('prop', 'http://www.wikidata.org/prop/direct/P2959'), ('name', 'permanent duplicated item')]\n",
      "109\n"
     ]
    }
   ],
   "source": [
    "queryString = \"\"\"\n",
    "SELECT DISTINCT ?prop ?name\n",
    "WHERE { \n",
    "    ?people wdt:P108 wd:Q35794.\n",
    "    ?obj ?prop ?people .\n",
    "    ?prop sc:name ?name.\n",
    "} \n",
    "\"\"\"\n",
    "\n",
    "print(\"Results\")\n",
    "x=run_query(queryString)"
   ]
  },
  {
   "cell_type": "code",
   "execution_count": 35,
   "id": "61aac560-4e2f-4102-8d6a-e67602e370fb",
   "metadata": {},
   "outputs": [
    {
     "name": "stdout",
     "output_type": "stream",
     "text": [
      "Results\n",
      "[('x', 'http://www.wikidata.org/entity/Q815382'), ('name', 'meta-analysis')]\n",
      "[('x', 'http://www.wikidata.org/entity/Q7318358'), ('name', 'review article')]\n",
      "[('x', 'http://www.wikidata.org/entity/Q871232'), ('name', 'editorial')]\n",
      "[('x', 'http://www.wikidata.org/entity/Q58901591'), ('name', 'comparative study')]\n",
      "[('x', 'http://www.wikidata.org/entity/Q187685'), ('name', 'doctoral thesis')]\n",
      "[('x', 'http://www.wikidata.org/entity/Q1348305'), ('name', 'erratum')]\n",
      "[('x', 'http://www.wikidata.org/entity/Q58898636'), ('name', 'evaluation study')]\n",
      "[('x', 'http://www.wikidata.org/entity/Q13442814'), ('name', 'scholarly article')]\n",
      "[('x', 'http://www.wikidata.org/entity/Q7725634'), ('name', 'literary work')]\n",
      "[('x', 'http://www.wikidata.org/entity/Q69488'), ('name', 'MDMA')]\n",
      "[('x', 'http://www.wikidata.org/entity/Q1504425'), ('name', 'systematic review')]\n",
      "[('x', 'http://www.wikidata.org/entity/Q2782326'), ('name', 'case report')]\n",
      "[('x', 'http://www.wikidata.org/entity/Q58900768'), ('name', 'consensus development conference proceedings')]\n",
      "[('x', 'http://www.wikidata.org/entity/Q3331189'), ('name', 'version, edition, or translation')]\n",
      "[('x', 'http://www.wikidata.org/entity/Q571'), ('name', 'book')]\n",
      "[('x', 'http://www.wikidata.org/entity/Q1459574'), ('name', 'compendium')]\n",
      "[('x', 'http://www.wikidata.org/entity/Q7316896'), ('name', 'retraction notice')]\n",
      "[('x', 'http://www.wikidata.org/entity/Q17537576'), ('name', 'creative work')]\n",
      "[('x', 'http://www.wikidata.org/entity/Q19389637'), ('name', 'biographical article')]\n",
      "[('x', 'http://www.wikidata.org/entity/Q30070590'), ('name', 'magazine article')]\n",
      "[('x', 'http://www.wikidata.org/entity/Q20540385'), ('name', 'non-fiction book')]\n",
      "[('x', 'http://www.wikidata.org/entity/Q732577'), ('name', 'publication')]\n",
      "[('x', 'http://www.wikidata.org/entity/Q384515'), ('name', 'treatise')]\n",
      "[('x', 'http://www.wikidata.org/entity/Q190399'), ('name', 'pamphlet')]\n",
      "[('x', 'http://www.wikidata.org/entity/Q47461344'), ('name', 'written work')]\n",
      "[('x', 'http://www.wikidata.org/entity/Q8134'), ('name', 'economics')]\n",
      "[('x', 'http://www.wikidata.org/entity/Q193955'), ('name', 'hardback')]\n",
      "[('x', 'http://www.wikidata.org/entity/Q19357149'), ('name', 'poetry anthology')]\n",
      "[('x', 'http://www.wikidata.org/entity/Q5560014'), ('name', 'gift book')]\n",
      "[('x', 'http://www.wikidata.org/entity/Q13433827'), ('name', 'encyclopedia article')]\n",
      "[('x', 'http://www.wikidata.org/entity/Q1980247'), ('name', 'chapter')]\n",
      "[('x', 'http://www.wikidata.org/entity/Q1266946'), ('name', 'thesis')]\n",
      "[('x', 'http://www.wikidata.org/entity/Q21481766'), ('name', 'academic chapter')]\n",
      "[('x', 'http://www.wikidata.org/entity/Q637866'), ('name', 'book review')]\n",
      "[('x', 'http://www.wikidata.org/entity/Q23011722'), ('name', 'TED talk')]\n",
      "[('x', 'http://www.wikidata.org/entity/Q23058950'), ('name', 'TED Global talk')]\n",
      "[('x', 'http://www.wikidata.org/entity/Q3062294'), ('name', 'Latin phrase')]\n",
      "[('x', 'http://www.wikidata.org/entity/Q386724'), ('name', 'work')]\n",
      "[('x', 'http://www.wikidata.org/entity/Q483372'), ('name', 'paradox')]\n",
      "[('x', 'http://www.wikidata.org/entity/Q2352616'), ('name', 'catalogue')]\n",
      "[('x', 'http://www.wikidata.org/entity/Q7889'), ('name', 'video game')]\n",
      "[('x', 'http://www.wikidata.org/entity/Q18918145'), ('name', 'academic journal article')]\n",
      "[('x', 'http://www.wikidata.org/entity/Q1907875'), ('name', \"master's thesis\")]\n",
      "[('x', 'http://www.wikidata.org/entity/Q87167'), ('name', 'manuscript')]\n",
      "[('x', 'http://www.wikidata.org/entity/Q10870555'), ('name', 'report')]\n",
      "[('x', 'http://www.wikidata.org/entity/Q39811647'), ('name', 'translated work')]\n",
      "[('x', 'http://www.wikidata.org/entity/Q193495'), ('name', 'monograph')]\n",
      "[('x', 'http://www.wikidata.org/entity/Q3250561'), ('name', 'tract')]\n",
      "[('x', 'http://www.wikidata.org/entity/Q17009938'), ('name', 'data paper')]\n",
      "[('x', 'http://www.wikidata.org/entity/Q603773'), ('name', 'lecture')]\n",
      "[('x', 'http://www.wikidata.org/entity/Q49848'), ('name', 'document')]\n",
      "[('x', 'http://www.wikidata.org/entity/Q4915012'), ('name', 'biological pathway')]\n",
      "[('x', 'http://www.wikidata.org/entity/Q12607437'), ('name', 'dictionary of the English language')]\n",
      "[('x', 'http://www.wikidata.org/entity/Q68685'), ('name', 'metabolic pathway')]\n",
      "[('x', 'http://www.wikidata.org/entity/Q23927052'), ('name', 'conference paper')]\n",
      "[('x', 'http://www.wikidata.org/entity/Q17524420'), ('name', 'aspect of history')]\n",
      "[('x', 'http://www.wikidata.org/entity/Q5292'), ('name', 'encyclopedia')]\n",
      "[('x', 'http://www.wikidata.org/entity/Q604733'), ('name', 'presentation')]\n",
      "[('x', 'http://www.wikidata.org/entity/Q341'), ('name', 'free software')]\n",
      "[('x', 'http://www.wikidata.org/entity/Q37784323'), ('name', 'dictionary of the Chinese language')]\n",
      "[('x', 'http://www.wikidata.org/entity/Q191067'), ('name', 'article')]\n",
      "[('x', 'http://www.wikidata.org/entity/Q2640207'), ('name', 'bilingual dictionary')]\n",
      "[('x', 'http://www.wikidata.org/entity/Q128093'), ('name', 'e-book')]\n",
      "[('x', 'http://www.wikidata.org/entity/Q28923'), ('name', 'chart')]\n",
      "[('x', 'http://www.wikidata.org/entity/Q333291'), ('name', 'abstract')]\n",
      "[('x', 'http://www.wikidata.org/entity/Q58632367'), ('name', 'scholarly conference abstract')]\n",
      "[('x', 'http://www.wikidata.org/entity/Q580922'), ('name', 'preprint')]\n",
      "[('x', 'http://www.wikidata.org/entity/Q947859'), ('name', 'research proposal')]\n",
      "[('x', 'http://www.wikidata.org/entity/Q223729'), ('name', 'white paper')]\n",
      "[('x', 'http://www.wikidata.org/entity/Q11826511'), ('name', 'scientific work')]\n",
      "[('x', 'http://www.wikidata.org/entity/Q54670950'), ('name', 'conference poster')]\n",
      "[('x', 'http://www.wikidata.org/entity/Q11024'), ('name', 'communication')]\n",
      "[('x', 'http://www.wikidata.org/entity/Q45182324'), ('name', 'retracted paper')]\n",
      "[('x', 'http://www.wikidata.org/entity/Q23058953'), ('name', 'TEDx talk')]\n",
      "[('x', 'http://www.wikidata.org/entity/Q101072613'), ('name', 'Ferdinand Mueller’s female plant collectors: a biographical register')]\n",
      "[('x', 'http://www.wikidata.org/entity/Q277759'), ('name', 'book series')]\n",
      "[('x', 'http://www.wikidata.org/entity/Q4184'), ('name', 'autobiography')]\n",
      "[('x', 'http://www.wikidata.org/entity/Q7397'), ('name', 'software')]\n",
      "[('x', 'http://www.wikidata.org/entity/Q11538'), ('name', 'mathematical proof')]\n",
      "[('x', 'http://www.wikidata.org/entity/Q83790'), ('name', 'textbook')]\n",
      "[('x', 'http://www.wikidata.org/entity/Q24034552'), ('name', 'mathematical concept')]\n",
      "[('x', 'http://www.wikidata.org/entity/Q1172284'), ('name', 'data set')]\n",
      "[('x', 'http://www.wikidata.org/entity/Q57933693'), ('name', 'book edition')]\n",
      "[('x', 'http://www.wikidata.org/entity/Q2000718'), ('name', 'apologia')]\n",
      "[('x', 'http://www.wikidata.org/entity/Q234460'), ('name', 'text')]\n",
      "[('x', 'http://www.wikidata.org/entity/Q309481'), ('name', 'obituary')]\n",
      "[('x', 'http://www.wikidata.org/entity/Q740657'), ('name', 'Leslie Stephen')]\n",
      "[('x', 'http://www.wikidata.org/entity/Q573573'), ('name', 'abstract strategy game')]\n",
      "[('x', 'http://www.wikidata.org/entity/Q1376568'), ('name', 'appendix')]\n",
      "[('x', 'http://www.wikidata.org/entity/Q17518461'), ('name', 'posthumous work')]\n",
      "[('x', 'http://www.wikidata.org/entity/Q36774'), ('name', 'web page')]\n",
      "[('x', 'http://www.wikidata.org/entity/Q1496857'), ('name', 'prayer book')]\n",
      "[('x', 'http://www.wikidata.org/entity/Q1711593'), ('name', 'edited volume')]\n",
      "[('x', 'http://www.wikidata.org/entity/Q5185279'), ('name', 'poem')]\n",
      "[('x', 'http://www.wikidata.org/entity/Q47114558'), ('name', 'art catalog')]\n",
      "[('x', 'http://www.wikidata.org/entity/Q265158'), ('name', 'review')]\n",
      "[('x', 'http://www.wikidata.org/entity/Q7433672'), ('name', 'scientific book')]\n",
      "[('x', 'http://www.wikidata.org/entity/Q1127717'), ('name', 'investigative journalism')]\n",
      "[('x', 'http://www.wikidata.org/entity/Q5633421'), ('name', 'scientific journal')]\n",
      "[('x', 'http://www.wikidata.org/entity/Q15706459'), ('name', 'research article')]\n",
      "[('x', 'http://www.wikidata.org/entity/Q25379'), ('name', 'play')]\n",
      "[('x', 'http://www.wikidata.org/entity/Q2412849'), ('name', 'literature review')]\n",
      "[('x', 'http://www.wikidata.org/entity/Q7225113'), ('name', 'political statement')]\n",
      "[('x', 'http://www.wikidata.org/entity/Q1787111'), ('name', 'biographical dictionary')]\n",
      "[('x', 'http://www.wikidata.org/entity/Q1002697'), ('name', 'periodical')]\n",
      "[('x', 'http://www.wikidata.org/entity/Q131449'), ('name', 'flora')]\n",
      "[('x', 'http://www.wikidata.org/entity/Q112983'), ('name', 'memoir')]\n",
      "[('x', 'http://www.wikidata.org/entity/Q58900694'), ('name', 'validation studies')]\n",
      "[('x', 'http://www.wikidata.org/entity/Q51283092'), ('name', 'Master of Arts thesis')]\n",
      "[('x', 'http://www.wikidata.org/entity/Q60712335'), ('name', 'Other')]\n",
      "[('x', 'http://www.wikidata.org/entity/Q95977810'), ('name', 'Journal first Wikipedia-integrated dual publishing')]\n",
      "[('x', 'http://www.wikidata.org/entity/Q1517777'), ('name', 'historical work')]\n",
      "[('x', 'http://www.wikidata.org/entity/Q55915575'), ('name', 'scholarly work')]\n",
      "[('x', 'http://www.wikidata.org/entity/Q178651'), ('name', 'interview')]\n",
      "[('x', 'http://www.wikidata.org/entity/Q5707594'), ('name', 'news article')]\n",
      "[('x', 'http://www.wikidata.org/entity/Q1298668'), ('name', 'research project')]\n",
      "[('x', 'http://www.wikidata.org/entity/Q53731850'), ('name', 'individual copy of a book')]\n",
      "[('x', 'http://www.wikidata.org/entity/Q179461'), ('name', 'religious text')]\n",
      "[('x', 'http://www.wikidata.org/entity/Q208555'), ('name', 'parable')]\n",
      "[('x', 'http://www.wikidata.org/entity/Q1624034'), ('name', 'adage')]\n",
      "[('x', 'http://www.wikidata.org/entity/Q1151067'), ('name', 'rule')]\n",
      "[('x', 'http://www.wikidata.org/entity/Q1050259'), ('name', 'catalogue raisonné')]\n",
      "[('x', 'http://www.wikidata.org/entity/Q1391420'), ('name', 'specialized literature')]\n",
      "[('x', 'http://www.wikidata.org/entity/Q780605'), ('name', 'exhibition catalogue')]\n",
      "[('x', 'http://www.wikidata.org/entity/Q60534428'), ('name', 'multivolume work')]\n",
      "[('x', 'http://www.wikidata.org/entity/Q861911'), ('name', 'speech')]\n",
      "[('x', 'http://www.wikidata.org/entity/Q13136'), ('name', 'reference work')]\n",
      "[('x', 'http://www.wikidata.org/entity/Q1631107'), ('name', 'bibliography')]\n",
      "[('x', 'http://www.wikidata.org/entity/Q10898227'), ('name', 'first edition')]\n",
      "[('x', 'http://www.wikidata.org/entity/Q65943'), ('name', 'theorem')]\n",
      "130\n"
     ]
    }
   ],
   "source": [
    "## find P50 author\n",
    "queryString = \"\"\"\n",
    "SELECT DISTINCT ?x ?name\n",
    "WHERE { \n",
    "    ?people wdt:P108 wd:Q35794.\n",
    "    ?obj wdt:P50 ?people .\n",
    "    ?obj wdt:P31 ?x.\n",
    "    ?x sc:name ?name.\n",
    "} \n",
    "\"\"\"\n",
    "\n",
    "print(\"Results\")\n",
    "x=run_query(queryString)"
   ]
  },
  {
   "cell_type": "code",
   "execution_count": 40,
   "id": "92d00708-1450-4f4e-b3fb-660b0a0551ba",
   "metadata": {},
   "outputs": [
    {
     "name": "stdout",
     "output_type": "stream",
     "text": [
      "Results\n",
      "[('people', 'http://www.wikidata.org/entity/Q7830608'), ('name', 'Toyin Falola'), ('books', '10')]\n",
      "[('people', 'http://www.wikidata.org/entity/Q61682'), ('name', 'Nikolaus Pevsner'), ('books', '15')]\n",
      "[('people', 'http://www.wikidata.org/entity/Q556140'), ('name', 'Ian Hodder'), ('books', '5')]\n",
      "3\n"
     ]
    }
   ],
   "source": [
    "## find P50 author\n",
    "queryString = \"\"\"\n",
    "SELECT DISTINCT ?people ?name (COUNT(DISTINCT ?book) AS ?books)\n",
    "WHERE { \n",
    "    ?people wdt:P108 wd:Q35794.\n",
    "    ?book wdt:P50 ?people .\n",
    "    ?book wdt:P31 wd:Q571.\n",
    "    ?people sc:name ?name.\n",
    "}\n",
    "GROUP BY ?people ?name\n",
    "HAVING (COUNT(DISTINCT ?book) > 4 )\n",
    "\"\"\"\n",
    "\n",
    "print(\"Results\")\n",
    "x=run_query(queryString)"
   ]
  },
  {
   "cell_type": "markdown",
   "id": "7d112776-9e63-42f9-9313-93a6a5a564d4",
   "metadata": {},
   "source": [
    "## Task 7"
   ]
  },
  {
   "cell_type": "code",
   "execution_count": 41,
   "id": "93cd723f-75ec-4a8c-b9e2-456c895e08ae",
   "metadata": {},
   "outputs": [
    {
     "name": "stdout",
     "output_type": "stream",
     "text": [
      "Results\n",
      "[('callret-0', '5053')]\n",
      "1\n"
     ]
    }
   ],
   "source": [
    "## find P50 author\n",
    "queryString = \"\"\"\n",
    "SELECT DISTINCT COUNT(*)\n",
    "WHERE { \n",
    "    ?people wdt:P108 wd:Q35794.\n",
    "}\n",
    "\"\"\"\n",
    "\n",
    "print(\"Results\")\n",
    "x=run_query(queryString)"
   ]
  },
  {
   "cell_type": "code",
   "execution_count": null,
   "id": "e4177350-bf2a-4ec1-a86d-7e16c21f0823",
   "metadata": {},
   "outputs": [],
   "source": []
  }
 ],
 "metadata": {
  "kernelspec": {
   "display_name": "Python 3",
   "language": "python",
   "name": "python3"
  },
  "language_info": {
   "codemirror_mode": {
    "name": "ipython",
    "version": 3
   },
   "file_extension": ".py",
   "mimetype": "text/x-python",
   "name": "python",
   "nbconvert_exporter": "python",
   "pygments_lexer": "ipython3",
   "version": "3.7.10"
  }
 },
 "nbformat": 4,
 "nbformat_minor": 5
}
