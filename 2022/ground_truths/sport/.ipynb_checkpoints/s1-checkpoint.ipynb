{
 "cells": [
  {
   "cell_type": "markdown",
   "id": "7034c3bf-6eb0-4418-8687-7b9d2a501103",
   "metadata": {},
   "source": [
    "# General instructions\n",
    "\n",
    "The goal of the project is to materialize a set of **exploratory workloads** over a real-world, large-scale,  open-domain KG: [WikiData](https://www.wikidata.org/wiki/Wikidata:Main_Page)\n",
    "\n",
    "An exploratory workload  is composed by a set of queries, where each query is related to the information obtained previously.\n",
    "\n",
    "An exploratory workload starts with a usually vague, open ended question, and does not assume the person issuing the workload has a clear understanding of the data contained in the target database or its structure.\n",
    "\n",
    "Remeber that:\n",
    "\n",
    "1. All the queries must run in the python notebook\n",
    "2. You can use classes and properties only if you find them via a SPARQL query that must be present in the notebook\n",
    "3. You do not delete useless queries. Keep everything that is synthatically valid \n",
    "\n",
    "```\n",
    "?p <http://schema.org/name> ?name .\n",
    "```\n",
    "    \n",
    "    is the BGP returning a human-readable name of a property or a class in Wikidata."
   ]
  },
  {
   "cell_type": "code",
   "execution_count": 1,
   "id": "3605c9d5-5371-49a5-be8d-d66e8f417139",
   "metadata": {},
   "outputs": [],
   "source": [
    "## SETUP used later\n",
    "\n",
    "from SPARQLWrapper import SPARQLWrapper, JSON\n",
    "\n",
    "\n",
    "prefixString = \"\"\"\n",
    "##-sport1-##\n",
    "PREFIX wd: <http://www.wikidata.org/entity/> \n",
    "PREFIX wdt: <http://www.wikidata.org/prop/direct/> \n",
    "PREFIX sc: <http://schema.org/>\n",
    "\"\"\"\n",
    "\n",
    "# select and construct queries\n",
    "def run_query(queryString,verbose = True):\n",
    "    to_run = prefixString + \"\\n\" + queryString\n",
    "\n",
    "    sparql = SPARQLWrapper(\"http://a256-gc1-02.srv.aau.dk:5820/sparql\")\n",
    "    sparql.setTimeout(300)\n",
    "    sparql.setReturnFormat(JSON)\n",
    "    sparql.setQuery(to_run)\n",
    "\n",
    "    try :\n",
    "        results = sparql.query()\n",
    "        json_results = results.convert()\n",
    "        if len(json_results['results']['bindings'])==0:\n",
    "            print(\"Empty\")\n",
    "            return []\n",
    "        array = []\n",
    "        for bindings in json_results['results']['bindings']:\n",
    "            app =  [ (var, value['value'])  for var, value in bindings.items() ] \n",
    "            if verbose:\n",
    "                print( app)\n",
    "            array.append(app)\n",
    "        if verbose:\n",
    "            print(len(array))\n",
    "        return array\n",
    "\n",
    "    except Exception as e :\n",
    "        print(\"The operation failed\", e)\n",
    "    \n",
    "# ASk queries\n",
    "def run_ask_query(queryString):\n",
    "    to_run = prefixString + \"\\n\" + queryString\n",
    "\n",
    "    sparql = SPARQLWrapper(\"http://a256-gc1-02.srv.aau.dk:5820/sparql\")\n",
    "    sparql.setTimeout(300)\n",
    "    sparql.setReturnFormat(JSON)\n",
    "    sparql.setQuery(to_run)\n",
    "\n",
    "    try :\n",
    "        return sparql.query().convert()\n",
    "\n",
    "    except Exception as e :\n",
    "        print(\"The operation failed\", e)"
   ]
  },
  {
   "cell_type": "markdown",
   "id": "d477a59c-a68c-4c8f-9f97-8ca5294d7d27",
   "metadata": {},
   "source": [
    "# Sport Workflow Series (\"Olympic Games explorative search\") \n",
    "\n",
    "Consider the following exploratory information need:\n",
    "\n",
    "> investigate the Olympic Games and find the main BGPs related to these events. Find all the editions of the Summer and Winter Games, compare the sports and disciplines that belong to the games, records and countries."
   ]
  },
  {
   "cell_type": "markdown",
   "id": "4a45c0ba-f79e-441d-bec5-84401b09db70",
   "metadata": {},
   "source": [
    "## Useful URIs for the current workflow\n",
    "The following are given:\n",
    "\n",
    "| IRI           | Description   | Role      |\n",
    "| -----------   | -----------   |-----------|\n",
    "| `wdt:P1647`   | subproperty   | predicate |\n",
    "| `wdt:P31`     | instance of   | predicate |\n",
    "| `wdt:P106`    | profession    | predicate | \n",
    "| `wdt:P279`    | subclass      | predicate |\n",
    "| `wdt:P27`     | nationality   | predicate |\n",
    "| `wd:Q5`       | Human         | node      |\n",
    "| `wd:Q1189`    | Usain Bolt    | node      |\n"
   ]
  },
  {
   "cell_type": "markdown",
   "id": "7af439fb-96e4-4dbb-a381-f19afab79f86",
   "metadata": {
    "tags": []
   },
   "source": [
    "\n",
    "\n",
    "\n",
    "Also consider\n",
    "\n",
    "```\n",
    "wd:Q1189 ?p ?obj .\n",
    "```\n",
    "\n",
    "is the BGP to retrieve all **properties of Usain Bolt**\n",
    "\n",
    "Please consider that when you return a resource, you should return the IRI and the label of the resource. In particular, when the task require you to identify a BGP the result set must always be a list of couples IRI - label.\n",
    "\n",
    "\n",
    "The workload should:\n",
    "\n",
    "\n",
    "1. Identify the BGP for Olympic Games\n",
    "\n",
    "2. Return all the editions of the Summer Olympic Games (do not consider future Olympic Games) with the country where they were played (the result set must be a list of elements with edition IRI and label, and country IRI and label).\n",
    "\n",
    "3. Find the countries which held more than 2 Olympic Games (both Summer and Winter Games, do not consider future Olympic Games) (the result set must be a list of triples country IRI, label and #edition held).\n",
    "\n",
    "4. Consider the 2008 Summer Olympic Games. Identify all the sports played in this edition (the result set must be a list of couples sport IRI and label).\n",
    "\n",
    "5. Consider the 2008 Summer Olympic Games. For each sport return the number of different disciplines (the result set must be a list of triples sport IRI, label and #disciplines).\n",
    "\n",
    "6. Consider the 2008 Summer Olympic Games. Find the top-10 people who won more gold medals (the result set must be a list of triples athlete IRI, label and #gold medal).\n",
    "\n",
    "7. Find athletes who won at least one gold medal in 4 different editions of the Summer Olympic Games (the result set must be a list of triples athlete IRI, label and #edition).\n",
    "\n",
    "8. Consider all the edition of the Summer Olympic Games. For each sport return the athlete who won more gold medal (the result set must be a list of elements with sport IRI and label, athlete IRI and label, and #gold medal). "
   ]
  },
  {
   "cell_type": "markdown",
   "id": "4be4a371-a6c0-4616-92b6-5fd6f8c1c24f",
   "metadata": {
    "jp-MarkdownHeadingCollapsed": true,
    "tags": []
   },
   "source": [
    "## Task 1 "
   ]
  },
  {
   "cell_type": "code",
   "execution_count": 2,
   "id": "06c2b5e5-bc7b-404a-8fc7-31d6ca118da5",
   "metadata": {
    "tags": []
   },
   "outputs": [
    {
     "name": "stdout",
     "output_type": "stream",
     "text": [
      "Results\n",
      "[('pr', 'http://www.wikidata.org/prop/direct/P1000'), ('name', 'record held')]\n",
      "[('pr', 'http://www.wikidata.org/prop/direct/P1006'), ('name', 'Nationale Thesaurus voor Auteurs ID')]\n",
      "[('pr', 'http://www.wikidata.org/prop/direct/P1015'), ('name', 'NORAF ID')]\n",
      "[('pr', 'http://www.wikidata.org/prop/direct/P1050'), ('name', 'medical condition')]\n",
      "[('pr', 'http://www.wikidata.org/prop/direct/P106'), ('name', 'occupation')]\n",
      "[('pr', 'http://www.wikidata.org/prop/direct/P1146'), ('name', 'World Athletics athlete ID')]\n",
      "[('pr', 'http://www.wikidata.org/prop/direct/P1207'), ('name', 'NUKAT ID')]\n",
      "[('pr', 'http://www.wikidata.org/prop/direct/P1263'), ('name', 'NNDB people ID')]\n",
      "[('pr', 'http://www.wikidata.org/prop/direct/P1280'), ('name', 'CONOR.SI ID')]\n",
      "[('pr', 'http://www.wikidata.org/prop/direct/P1285'), ('name', 'Munzinger Sport number')]\n",
      "[('pr', 'http://www.wikidata.org/prop/direct/P1296'), ('name', 'Gran Enciclopèdia Catalana ID')]\n",
      "[('pr', 'http://www.wikidata.org/prop/direct/P1343'), ('name', 'described by source')]\n",
      "[('pr', 'http://www.wikidata.org/prop/direct/P1344'), ('name', 'participant in')]\n",
      "[('pr', 'http://www.wikidata.org/prop/direct/P1412'), ('name', 'languages spoken, written or signed')]\n",
      "[('pr', 'http://www.wikidata.org/prop/direct/P1417'), ('name', 'Encyclopædia Britannica Online ID')]\n",
      "[('pr', 'http://www.wikidata.org/prop/direct/P1447'), ('name', 'Sports-Reference.com Olympic athlete ID')]\n",
      "[('pr', 'http://www.wikidata.org/prop/direct/P1477'), ('name', 'birth name')]\n",
      "[('pr', 'http://www.wikidata.org/prop/direct/P1532'), ('name', 'country for sport')]\n",
      "[('pr', 'http://www.wikidata.org/prop/direct/P166'), ('name', 'award received')]\n",
      "[('pr', 'http://www.wikidata.org/prop/direct/P1695'), ('name', 'NLP ID (unique)')]\n",
      "[('pr', 'http://www.wikidata.org/prop/direct/P1711'), ('name', 'British Museum person or institution ID')]\n",
      "[('pr', 'http://www.wikidata.org/prop/direct/P1741'), ('name', 'GTAA ID')]\n",
      "[('pr', 'http://www.wikidata.org/prop/direct/P18'), ('name', 'image')]\n",
      "[('pr', 'http://www.wikidata.org/prop/direct/P1813'), ('name', 'short name')]\n",
      "[('pr', 'http://www.wikidata.org/prop/direct/P19'), ('name', 'place of birth')]\n",
      "[('pr', 'http://www.wikidata.org/prop/direct/P2002'), ('name', 'Twitter username')]\n",
      "[('pr', 'http://www.wikidata.org/prop/direct/P2003'), ('name', 'Instagram username')]\n",
      "[('pr', 'http://www.wikidata.org/prop/direct/P2013'), ('name', 'Facebook ID')]\n",
      "[('pr', 'http://www.wikidata.org/prop/direct/P2031'), ('name', 'work period (start)')]\n",
      "[('pr', 'http://www.wikidata.org/prop/direct/P2032'), ('name', 'work period (end)')]\n",
      "[('pr', 'http://www.wikidata.org/prop/direct/P2048'), ('name', 'height')]\n",
      "[('pr', 'http://www.wikidata.org/prop/direct/P2067'), ('name', 'mass')]\n",
      "[('pr', 'http://www.wikidata.org/prop/direct/P21'), ('name', 'sex or gender')]\n",
      "[('pr', 'http://www.wikidata.org/prop/direct/P213'), ('name', 'ISNI')]\n",
      "[('pr', 'http://www.wikidata.org/prop/direct/P214'), ('name', 'VIAF ID')]\n",
      "[('pr', 'http://www.wikidata.org/prop/direct/P2163'), ('name', 'FAST ID')]\n",
      "[('pr', 'http://www.wikidata.org/prop/direct/P2267'), ('name', 'PolitiFact people and groups ID')]\n",
      "[('pr', 'http://www.wikidata.org/prop/direct/P227'), ('name', 'GND ID')]\n",
      "[('pr', 'http://www.wikidata.org/prop/direct/P2416'), ('name', 'sports discipline competed in')]\n",
      "[('pr', 'http://www.wikidata.org/prop/direct/P244'), ('name', 'Library of Congress authority ID')]\n",
      "[('pr', 'http://www.wikidata.org/prop/direct/P2446'), ('name', 'Transfermarkt player ID')]\n",
      "[('pr', 'http://www.wikidata.org/prop/direct/P2605'), ('name', 'ČSFD person ID')]\n",
      "[('pr', 'http://www.wikidata.org/prop/direct/P268'), ('name', 'Bibliothèque nationale de France ID')]\n",
      "[('pr', 'http://www.wikidata.org/prop/direct/P269'), ('name', 'IdRef ID')]\n",
      "[('pr', 'http://www.wikidata.org/prop/direct/P27'), ('name', 'country of citizenship')]\n",
      "[('pr', 'http://www.wikidata.org/prop/direct/P286'), ('name', 'head coach')]\n",
      "[('pr', 'http://www.wikidata.org/prop/direct/P2924'), ('name', 'Great Russian Encyclopedia Online ID')]\n",
      "[('pr', 'http://www.wikidata.org/prop/direct/P2949'), ('name', 'WikiTree person ID')]\n",
      "[('pr', 'http://www.wikidata.org/prop/direct/P31'), ('name', 'instance of')]\n",
      "[('pr', 'http://www.wikidata.org/prop/direct/P3171'), ('name', 'Olympic.org athlete ID (archived version)')]\n",
      "[('pr', 'http://www.wikidata.org/prop/direct/P3219'), ('name', 'Encyclopædia Universalis ID')]\n",
      "[('pr', 'http://www.wikidata.org/prop/direct/P3221'), ('name', 'New York Times topic ID')]\n",
      "[('pr', 'http://www.wikidata.org/prop/direct/P3365'), ('name', 'Treccani ID')]\n",
      "[('pr', 'http://www.wikidata.org/prop/direct/P3417'), ('name', 'Quora topic ID')]\n",
      "[('pr', 'http://www.wikidata.org/prop/direct/P345'), ('name', 'IMDb ID')]\n",
      "[('pr', 'http://www.wikidata.org/prop/direct/P349'), ('name', 'National Diet Library ID')]\n",
      "[('pr', 'http://www.wikidata.org/prop/direct/P3509'), ('name', 'Dagens Nyheter topic ID')]\n",
      "[('pr', 'http://www.wikidata.org/prop/direct/P3630'), ('name', 'Babelio author ID')]\n",
      "[('pr', 'http://www.wikidata.org/prop/direct/P373'), ('name', 'Commons category')]\n",
      "[('pr', 'http://www.wikidata.org/prop/direct/P3765'), ('name', 'All-Athletics.com ID')]\n",
      "[('pr', 'http://www.wikidata.org/prop/direct/P3884'), ('name', 'Tilastopaja male athlete ID')]\n",
      "[('pr', 'http://www.wikidata.org/prop/direct/P3923'), ('name', 'Diamond League athlete ID')]\n",
      "[('pr', 'http://www.wikidata.org/prop/direct/P3925'), ('name', 'Track and Field Statistics male athlete ID')]\n",
      "[('pr', 'http://www.wikidata.org/prop/direct/P4342'), ('name', 'Store norske leksikon ID')]\n",
      "[('pr', 'http://www.wikidata.org/prop/direct/P4666'), ('name', 'CineMagia person ID')]\n",
      "[('pr', 'http://www.wikidata.org/prop/direct/P4985'), ('name', 'TMDb person ID')]\n",
      "[('pr', 'http://www.wikidata.org/prop/direct/P5019'), ('name', 'Brockhaus Enzyklopädie online ID')]\n",
      "[('pr', 'http://www.wikidata.org/prop/direct/P54'), ('name', 'member of sports team')]\n",
      "[('pr', 'http://www.wikidata.org/prop/direct/P5421'), ('name', 'Trading Card Database person ID')]\n",
      "[('pr', 'http://www.wikidata.org/prop/direct/P551'), ('name', 'residence')]\n",
      "[('pr', 'http://www.wikidata.org/prop/direct/P5587'), ('name', 'Libris-URI')]\n",
      "[('pr', 'http://www.wikidata.org/prop/direct/P5617'), ('name', 'Evene ID')]\n",
      "[('pr', 'http://www.wikidata.org/prop/direct/P569'), ('name', 'date of birth')]\n",
      "[('pr', 'http://www.wikidata.org/prop/direct/P5815'), ('name', 'Olympics.com athlete ID')]\n",
      "[('pr', 'http://www.wikidata.org/prop/direct/P641'), ('name', 'sport')]\n",
      "[('pr', 'http://www.wikidata.org/prop/direct/P646'), ('name', 'Freebase ID')]\n",
      "[('pr', 'http://www.wikidata.org/prop/direct/P6683'), ('name', 'Alexander Turnbull Library ID')]\n",
      "[('pr', 'http://www.wikidata.org/prop/direct/P6723'), ('name', 'BlackPast.org ID')]\n",
      "[('pr', 'http://www.wikidata.org/prop/direct/P691'), ('name', 'NKCR AUT ID')]\n",
      "[('pr', 'http://www.wikidata.org/prop/direct/P710'), ('name', 'participant')]\n",
      "[('pr', 'http://www.wikidata.org/prop/direct/P7293'), ('name', 'PLWABN ID')]\n",
      "[('pr', 'http://www.wikidata.org/prop/direct/P734'), ('name', 'family name')]\n",
      "[('pr', 'http://www.wikidata.org/prop/direct/P735'), ('name', 'given name')]\n",
      "[('pr', 'http://www.wikidata.org/prop/direct/P7818'), ('name', 'French Vikidia ID')]\n",
      "[('pr', 'http://www.wikidata.org/prop/direct/P7859'), ('name', 'WorldCat Identities ID')]\n",
      "[('pr', 'http://www.wikidata.org/prop/direct/P793'), ('name', 'significant event')]\n",
      "[('pr', 'http://www.wikidata.org/prop/direct/P8286'), ('name', 'Olympedia people ID')]\n",
      "[('pr', 'http://www.wikidata.org/prop/direct/P856'), ('name', 'official website')]\n",
      "[('pr', 'http://www.wikidata.org/prop/direct/P8687'), ('name', 'social media followers')]\n",
      "[('pr', 'http://www.wikidata.org/prop/direct/P906'), ('name', 'SELIBR ID')]\n",
      "[('pr', 'http://www.wikidata.org/prop/direct/P910'), ('name', \"topic's main category\")]\n",
      "[('pr', 'http://www.wikidata.org/prop/direct/P935'), ('name', 'Commons gallery')]\n",
      "[('pr', 'http://www.wikidata.org/prop/direct/P9743'), ('name', 'Podchaser creator ID')]\n",
      "[('pr', 'http://www.wikidata.org/prop/direct/P2415'), ('name', 'personal best')]\n",
      "[('pr', 'http://www.wikidata.org/prop/direct/P3579'), ('name', 'Sina Weibo user ID')]\n",
      "[('pr', 'http://www.wikidata.org/prop/direct/P511'), ('name', 'honorific prefix')]\n",
      "[('pr', 'http://www.wikidata.org/prop/direct/P6953'), ('name', '2014 Commonwealth Games athlete ID')]\n",
      "97\n"
     ]
    }
   ],
   "source": [
    "# starting from Usain Bolt I look at his properties\n",
    "queryString = \"\"\"\n",
    "SELECT DISTINCT ?pr ?name\n",
    "WHERE { \n",
    "    wd:Q1189 ?pr ?obj.\n",
    "    ?pr sc:name ?name .\n",
    "}\n",
    "\"\"\"\n",
    "\n",
    "print(\"Results\")\n",
    "x = run_query(queryString)"
   ]
  },
  {
   "cell_type": "code",
   "execution_count": 5,
   "id": "dc3656bb-057e-4135-9c94-7472f564cb52",
   "metadata": {},
   "outputs": [
    {
     "name": "stdout",
     "output_type": "stream",
     "text": [
      "Results\n",
      "[('obj', 'http://www.wikidata.org/entity/Q1144200'), ('name', \"athletics at the 2012 Summer Olympics – men's 4 × 100 metres relay\")]\n",
      "[('obj', 'http://www.wikidata.org/entity/Q1649415'), ('name', \"athletics at the 2012 Summer Olympics – men's 200 metres\")]\n",
      "[('obj', 'http://www.wikidata.org/entity/Q2313564'), ('name', \"athletics at the 2004 Summer Olympics – men's 200 metres\")]\n",
      "[('obj', 'http://www.wikidata.org/entity/Q853003'), ('name', \"athletics at the 2008 Summer Olympics – men's 200 metres\")]\n",
      "[('obj', 'http://www.wikidata.org/entity/Q25930657'), ('name', \"athletics at the 2016 Summer Olympics – men's 4 × 100 metres relay\")]\n",
      "[('obj', 'http://www.wikidata.org/entity/Q26219856'), ('name', \"athletics at the 2016 Summer Olympics – men's 200 metres\")]\n",
      "[('obj', 'http://www.wikidata.org/entity/Q25397537'), ('name', \"athletics at the 2016 Summer Olympics – men's 100 metres\")]\n",
      "[('obj', 'http://www.wikidata.org/entity/Q754844'), ('name', \"athletics at the 2008 Summer Olympics – men's 100 metres\")]\n",
      "[('obj', 'http://www.wikidata.org/entity/Q917339'), ('name', \"athletics at the 2008 Summer Olympics – men's 4 × 100 metres relay\")]\n",
      "[('obj', 'http://www.wikidata.org/entity/Q734020'), ('name', \"athletics at the 2012 Summer Olympics – men's 100 metres\")]\n",
      "10\n"
     ]
    }
   ],
   "source": [
    "# starting from Usain Bolt use the property participant in (P1344) and look for Olympic\n",
    "queryString = \"\"\"\n",
    "SELECT DISTINCT ?obj ?name\n",
    "WHERE { \n",
    "    wd:Q1189 wdt:P1344 ?obj.\n",
    "    ?obj sc:name ?name .\n",
    "    FILTER(REGEX(?name,\"[O,o]lympic\")).\n",
    "}\n",
    "\"\"\"\n",
    "\n",
    "print(\"Results\")\n",
    "x = run_query(queryString)"
   ]
  },
  {
   "cell_type": "code",
   "execution_count": 6,
   "id": "6719c130-da16-4326-8c45-eafd0423bbca",
   "metadata": {},
   "outputs": [
    {
     "name": "stdout",
     "output_type": "stream",
     "text": [
      "Results\n",
      "[('prop', 'http://www.wikidata.org/prop/direct/P1132'), ('name', 'number of participants')]\n",
      "[('prop', 'http://www.wikidata.org/prop/direct/P1346'), ('name', 'winner')]\n",
      "[('prop', 'http://www.wikidata.org/prop/direct/P155'), ('name', 'follows')]\n",
      "[('prop', 'http://www.wikidata.org/prop/direct/P156'), ('name', 'followed by')]\n",
      "[('prop', 'http://www.wikidata.org/prop/direct/P17'), ('name', 'country')]\n",
      "[('prop', 'http://www.wikidata.org/prop/direct/P18'), ('name', 'image')]\n",
      "[('prop', 'http://www.wikidata.org/prop/direct/P2094'), ('name', 'competition class')]\n",
      "[('prop', 'http://www.wikidata.org/prop/direct/P276'), ('name', 'location')]\n",
      "[('prop', 'http://www.wikidata.org/prop/direct/P31'), ('name', 'instance of')]\n",
      "[('prop', 'http://www.wikidata.org/prop/direct/P361'), ('name', 'part of')]\n",
      "[('prop', 'http://www.wikidata.org/prop/direct/P373'), ('name', 'Commons category')]\n",
      "[('prop', 'http://www.wikidata.org/prop/direct/P580'), ('name', 'start time')]\n",
      "[('prop', 'http://www.wikidata.org/prop/direct/P582'), ('name', 'end time')]\n",
      "[('prop', 'http://www.wikidata.org/prop/direct/P585'), ('name', 'point in time')]\n",
      "[('prop', 'http://www.wikidata.org/prop/direct/P641'), ('name', 'sport')]\n",
      "[('prop', 'http://www.wikidata.org/prop/direct/P646'), ('name', 'Freebase ID')]\n",
      "[('prop', 'http://www.wikidata.org/prop/direct/P664'), ('name', 'organizer')]\n",
      "[('prop', 'http://www.wikidata.org/prop/direct/P710'), ('name', 'participant')]\n",
      "[('prop', 'http://www.wikidata.org/prop/direct/P9055'), ('name', 'Olympedia event ID')]\n",
      "19\n"
     ]
    }
   ],
   "source": [
    "# see the properties of these entities \n",
    "queryString = \"\"\"\n",
    "SELECT DISTINCT ?prop ?name\n",
    "WHERE { \n",
    "    wd:Q734020 ?prop ?x.\n",
    "    ?prop sc:name ?name .\n",
    "}\n",
    "\"\"\"\n",
    "\n",
    "print(\"Results\")\n",
    "x = run_query(queryString)"
   ]
  },
  {
   "cell_type": "code",
   "execution_count": 7,
   "id": "ad0d74e9-40af-48a1-8848-609b60f58e75",
   "metadata": {},
   "outputs": [
    {
     "name": "stdout",
     "output_type": "stream",
     "text": [
      "Results\n",
      "[('x', 'http://www.wikidata.org/entity/Q185262'), ('name', 'athletics at the 2012 Summer Olympics')]\n",
      "1\n"
     ]
    }
   ],
   "source": [
    "# use part of\n",
    "queryString = \"\"\"\n",
    "SELECT DISTINCT ?x ?name\n",
    "WHERE { \n",
    "    wd:Q734020 wdt:P361 ?x.\n",
    "    ?x sc:name ?name .\n",
    "}\n",
    "\"\"\"\n",
    "\n",
    "print(\"Results\")\n",
    "x = run_query(queryString)"
   ]
  },
  {
   "cell_type": "code",
   "execution_count": 8,
   "id": "f43e618a-e4fa-4254-80e4-0455d1d7c83f",
   "metadata": {},
   "outputs": [
    {
     "name": "stdout",
     "output_type": "stream",
     "text": [
      "Results\n",
      "[('y', 'http://www.wikidata.org/entity/Q8577'), ('name', '2012 Summer Olympics')]\n",
      "1\n"
     ]
    }
   ],
   "source": [
    "# use part of\n",
    "queryString = \"\"\"\n",
    "SELECT DISTINCT ?y ?name\n",
    "WHERE { \n",
    "    wd:Q734020 wdt:P361 ?x.\n",
    "    ?x wdt:P361 ?y.\n",
    "    ?y sc:name ?name .\n",
    "}\n",
    "\"\"\"\n",
    "\n",
    "print(\"Results\")\n",
    "x = run_query(queryString)"
   ]
  },
  {
   "cell_type": "code",
   "execution_count": 9,
   "id": "09debf69-e521-4dc8-99d9-23ade6e9ee85",
   "metadata": {},
   "outputs": [
    {
     "name": "stdout",
     "output_type": "stream",
     "text": [
      "Results\n",
      "[('x', 'http://www.wikidata.org/entity/Q159821'), ('name', 'Summer Olympic Games')]\n",
      "1\n"
     ]
    }
   ],
   "source": [
    "# use the 2012 Summer Olympic\n",
    "queryString = \"\"\"\n",
    "SELECT DISTINCT ?x ?name\n",
    "WHERE { \n",
    "    wd:Q8577 wdt:P31 ?x.\n",
    "    ?x sc:name ?name .\n",
    "}\n",
    "\"\"\"\n",
    "\n",
    "print(\"Results\")\n",
    "x = run_query(queryString)"
   ]
  },
  {
   "cell_type": "code",
   "execution_count": 10,
   "id": "3ef089d1-b889-4043-b36d-5c970303d176",
   "metadata": {},
   "outputs": [
    {
     "name": "stdout",
     "output_type": "stream",
     "text": [
      "Results\n",
      "[('x', 'http://www.wikidata.org/entity/Q5389'), ('name', 'Olympic Games')]\n",
      "1\n"
     ]
    }
   ],
   "source": [
    "# use the 2012 Summer Olympic\n",
    "queryString = \"\"\"\n",
    "SELECT DISTINCT ?x ?name\n",
    "WHERE { \n",
    "    wd:Q159821 wdt:P279 ?x.\n",
    "    ?x sc:name ?name .\n",
    "}\n",
    "\"\"\"\n",
    "\n",
    "print(\"Results\")\n",
    "x = run_query(queryString)"
   ]
  },
  {
   "cell_type": "markdown",
   "id": "6a19292f-ec50-4a61-8150-d7d397ad1b38",
   "metadata": {},
   "source": [
    "`wd:Q5389` is the Olympic Games"
   ]
  },
  {
   "cell_type": "markdown",
   "id": "2e596872-c846-4324-bba4-fbf18b4862a3",
   "metadata": {
    "tags": []
   },
   "source": [
    "## Task 2"
   ]
  },
  {
   "cell_type": "code",
   "execution_count": 13,
   "id": "ce1e266a-549e-4c38-adfe-110c2d7738f3",
   "metadata": {},
   "outputs": [
    {
     "name": "stdout",
     "output_type": "stream",
     "text": [
      "Results\n",
      "[('prop', 'http://www.wikidata.org/prop/direct/P5324'), ('name', 'Swedish National Archive Reference Code')]\n",
      "[('prop', 'http://www.wikidata.org/prop/direct/P1132'), ('name', 'number of participants')]\n",
      "[('prop', 'http://www.wikidata.org/prop/direct/P115'), ('name', 'home venue')]\n",
      "[('prop', 'http://www.wikidata.org/prop/direct/P1296'), ('name', 'Gran Enciclopèdia Catalana ID')]\n",
      "[('prop', 'http://www.wikidata.org/prop/direct/P131'), ('name', 'located in the administrative territorial entity')]\n",
      "[('prop', 'http://www.wikidata.org/prop/direct/P1343'), ('name', 'described by source')]\n",
      "[('prop', 'http://www.wikidata.org/prop/direct/P1417'), ('name', 'Encyclopædia Britannica Online ID')]\n",
      "[('prop', 'http://www.wikidata.org/prop/direct/P1451'), ('name', 'motto text')]\n",
      "[('prop', 'http://www.wikidata.org/prop/direct/P154'), ('name', 'logo image')]\n",
      "[('prop', 'http://www.wikidata.org/prop/direct/P155'), ('name', 'follows')]\n",
      "[('prop', 'http://www.wikidata.org/prop/direct/P156'), ('name', 'followed by')]\n",
      "[('prop', 'http://www.wikidata.org/prop/direct/P1617'), ('name', 'BBC Things ID')]\n",
      "[('prop', 'http://www.wikidata.org/prop/direct/P1619'), ('name', 'date of official opening')]\n",
      "[('prop', 'http://www.wikidata.org/prop/direct/P17'), ('name', 'country')]\n",
      "[('prop', 'http://www.wikidata.org/prop/direct/P179'), ('name', 'part of the series')]\n",
      "[('prop', 'http://www.wikidata.org/prop/direct/P18'), ('name', 'image')]\n",
      "[('prop', 'http://www.wikidata.org/prop/direct/P2002'), ('name', 'Twitter username')]\n",
      "[('prop', 'http://www.wikidata.org/prop/direct/P2003'), ('name', 'Instagram username')]\n",
      "[('prop', 'http://www.wikidata.org/prop/direct/P2013'), ('name', 'Facebook ID')]\n",
      "[('prop', 'http://www.wikidata.org/prop/direct/P2130'), ('name', 'cost')]\n",
      "[('prop', 'http://www.wikidata.org/prop/direct/P214'), ('name', 'VIAF ID')]\n",
      "[('prop', 'http://www.wikidata.org/prop/direct/P227'), ('name', 'GND ID')]\n",
      "[('prop', 'http://www.wikidata.org/prop/direct/P2397'), ('name', 'YouTube channel ID')]\n",
      "[('prop', 'http://www.wikidata.org/prop/direct/P244'), ('name', 'Library of Congress authority ID')]\n",
      "[('prop', 'http://www.wikidata.org/prop/direct/P2572'), ('name', 'hashtag')]\n",
      "[('prop', 'http://www.wikidata.org/prop/direct/P2581'), ('name', 'BabelNet ID')]\n",
      "[('prop', 'http://www.wikidata.org/prop/direct/P2670'), ('name', 'has parts of the class')]\n",
      "[('prop', 'http://www.wikidata.org/prop/direct/P2671'), ('name', 'Google Knowledge Graph ID')]\n",
      "[('prop', 'http://www.wikidata.org/prop/direct/P268'), ('name', 'Bibliothèque nationale de France ID')]\n",
      "[('prop', 'http://www.wikidata.org/prop/direct/P269'), ('name', 'IdRef ID')]\n",
      "[('prop', 'http://www.wikidata.org/prop/direct/P276'), ('name', 'location')]\n",
      "[('prop', 'http://www.wikidata.org/prop/direct/P31'), ('name', 'instance of')]\n",
      "[('prop', 'http://www.wikidata.org/prop/direct/P3106'), ('name', 'Guardian topic ID')]\n",
      "[('prop', 'http://www.wikidata.org/prop/direct/P3219'), ('name', 'Encyclopædia Universalis ID')]\n",
      "[('prop', 'http://www.wikidata.org/prop/direct/P3221'), ('name', 'New York Times topic ID')]\n",
      "[('prop', 'http://www.wikidata.org/prop/direct/P3301'), ('name', 'broadcast by')]\n",
      "[('prop', 'http://www.wikidata.org/prop/direct/P3348'), ('name', 'National Library of Greece ID')]\n",
      "[('prop', 'http://www.wikidata.org/prop/direct/P3393'), ('name', 'LittleSis organization ID')]\n",
      "[('prop', 'http://www.wikidata.org/prop/direct/P3414'), ('name', 'Yle Areena item ID')]\n",
      "[('prop', 'http://www.wikidata.org/prop/direct/P3417'), ('name', 'Quora topic ID')]\n",
      "[('prop', 'http://www.wikidata.org/prop/direct/P345'), ('name', 'IMDb ID')]\n",
      "[('prop', 'http://www.wikidata.org/prop/direct/P349'), ('name', 'National Diet Library ID')]\n",
      "[('prop', 'http://www.wikidata.org/prop/direct/P3553'), ('name', 'Zhihu topic ID')]\n",
      "[('prop', 'http://www.wikidata.org/prop/direct/P361'), ('name', 'part of')]\n",
      "[('prop', 'http://www.wikidata.org/prop/direct/P373'), ('name', 'Commons category')]\n",
      "[('prop', 'http://www.wikidata.org/prop/direct/P3794'), ('name', 'Dictionary of Sydney ID')]\n",
      "[('prop', 'http://www.wikidata.org/prop/direct/P393'), ('name', 'edition number')]\n",
      "[('prop', 'http://www.wikidata.org/prop/direct/P3967'), ('name', 'final event')]\n",
      "[('prop', 'http://www.wikidata.org/prop/direct/P3999'), ('name', 'date of official closure')]\n",
      "[('prop', 'http://www.wikidata.org/prop/direct/P409'), ('name', 'Libraries Australia ID')]\n",
      "[('prop', 'http://www.wikidata.org/prop/direct/P4300'), ('name', 'YouTube playlist ID')]\n",
      "[('prop', 'http://www.wikidata.org/prop/direct/P4431'), ('name', 'Google Doodle')]\n",
      "[('prop', 'http://www.wikidata.org/prop/direct/P4527'), ('name', 'UK Parliament thesaurus ID')]\n",
      "[('prop', 'http://www.wikidata.org/prop/direct/P454'), ('name', 'Structurae structure ID')]\n",
      "[('prop', 'http://www.wikidata.org/prop/direct/P4839'), ('name', 'Wolfram Language entity code')]\n",
      "[('prop', 'http://www.wikidata.org/prop/direct/P5008'), ('name', 'on focus list of Wikimedia project')]\n",
      "[('prop', 'http://www.wikidata.org/prop/direct/P527'), ('name', 'has part')]\n",
      "[('prop', 'http://www.wikidata.org/prop/direct/P5337'), ('name', 'Google News topics ID')]\n",
      "[('prop', 'http://www.wikidata.org/prop/direct/P542'), ('name', 'officially opened by')]\n",
      "[('prop', 'http://www.wikidata.org/prop/direct/P543'), ('name', 'oath made by')]\n",
      "[('prop', 'http://www.wikidata.org/prop/direct/P545'), ('name', 'torch lit by')]\n",
      "[('prop', 'http://www.wikidata.org/prop/direct/P5587'), ('name', 'Libris-URI')]\n",
      "[('prop', 'http://www.wikidata.org/prop/direct/P576'), ('name', 'dissolved, abolished or demolished date')]\n",
      "[('prop', 'http://www.wikidata.org/prop/direct/P580'), ('name', 'start time')]\n",
      "[('prop', 'http://www.wikidata.org/prop/direct/P582'), ('name', 'end time')]\n",
      "[('prop', 'http://www.wikidata.org/prop/direct/P585'), ('name', 'point in time')]\n",
      "[('prop', 'http://www.wikidata.org/prop/direct/P6058'), ('name', 'Larousse ID')]\n",
      "[('prop', 'http://www.wikidata.org/prop/direct/P625'), ('name', 'coordinate location')]\n",
      "[('prop', 'http://www.wikidata.org/prop/direct/P6262'), ('name', 'Fandom article ID')]\n",
      "[('prop', 'http://www.wikidata.org/prop/direct/P641'), ('name', 'sport')]\n",
      "[('prop', 'http://www.wikidata.org/prop/direct/P646'), ('name', 'Freebase ID')]\n",
      "[('prop', 'http://www.wikidata.org/prop/direct/P664'), ('name', 'organizer')]\n",
      "[('prop', 'http://www.wikidata.org/prop/direct/P6683'), ('name', 'Alexander Turnbull Library ID')]\n",
      "[('prop', 'http://www.wikidata.org/prop/direct/P6817'), ('name', 'SVT Play ID')]\n",
      "[('prop', 'http://www.wikidata.org/prop/direct/P691'), ('name', 'NKCR AUT ID')]\n",
      "[('prop', 'http://www.wikidata.org/prop/direct/P7085'), ('name', 'TikTok username')]\n",
      "[('prop', 'http://www.wikidata.org/prop/direct/P710'), ('name', 'participant')]\n",
      "[('prop', 'http://www.wikidata.org/prop/direct/P7818'), ('name', 'French Vikidia ID')]\n",
      "[('prop', 'http://www.wikidata.org/prop/direct/P7859'), ('name', 'WorldCat Identities ID')]\n",
      "[('prop', 'http://www.wikidata.org/prop/direct/P793'), ('name', 'significant event')]\n",
      "[('prop', 'http://www.wikidata.org/prop/direct/P822'), ('name', 'mascot')]\n",
      "[('prop', 'http://www.wikidata.org/prop/direct/P8309'), ('name', 'Yle topic ID')]\n",
      "[('prop', 'http://www.wikidata.org/prop/direct/P856'), ('name', 'official website')]\n",
      "[('prop', 'http://www.wikidata.org/prop/direct/P8687'), ('name', 'social media followers')]\n",
      "[('prop', 'http://www.wikidata.org/prop/direct/P8885'), ('name', 'Namuwiki ID')]\n",
      "[('prop', 'http://www.wikidata.org/prop/direct/P9037'), ('name', 'BHCL UUID')]\n",
      "[('prop', 'http://www.wikidata.org/prop/direct/P906'), ('name', 'SELIBR ID')]\n",
      "[('prop', 'http://www.wikidata.org/prop/direct/P910'), ('name', \"topic's main category\")]\n",
      "[('prop', 'http://www.wikidata.org/prop/direct/P9304'), ('name', 'Encyclopedia of Melbourne ID')]\n",
      "[('prop', 'http://www.wikidata.org/prop/direct/P9322'), ('name', 'SVKKL authority ID')]\n",
      "[('prop', 'http://www.wikidata.org/prop/direct/P9346'), ('name', 'France24 topic ID (French)')]\n",
      "[('prop', 'http://www.wikidata.org/prop/direct/P935'), ('name', 'Commons gallery')]\n",
      "[('prop', 'http://www.wikidata.org/prop/direct/P948'), ('name', 'page banner')]\n",
      "[('prop', 'http://www.wikidata.org/prop/direct/P9495'), ('name', 'National Historical Museums of Sweden agent ID')]\n",
      "[('prop', 'http://www.wikidata.org/prop/direct/P9629'), ('name', 'Armeniapedia ID')]\n",
      "[('prop', 'http://www.wikidata.org/prop/direct/P973'), ('name', 'described at URL')]\n",
      "[('prop', 'http://www.wikidata.org/prop/direct/P9873'), ('name', 'Enciclopedia dello Sport ID')]\n",
      "[('prop', 'http://www.wikidata.org/prop/direct/P3579'), ('name', 'Sina Weibo user ID')]\n",
      "[('prop', 'http://www.wikidata.org/prop/direct/P4903'), ('name', 'New Georgia Encyclopedia ID')]\n",
      "[('prop', 'http://www.wikidata.org/prop/direct/P9348'), ('name', 'France24 topic ID (Spanish)')]\n",
      "[('prop', 'http://www.wikidata.org/prop/direct/P7721'), ('name', 'Wikispore ID')]\n",
      "[('prop', 'http://www.wikidata.org/prop/direct/P9347'), ('name', 'France24 topic ID (English)')]\n",
      "102\n"
     ]
    }
   ],
   "source": [
    "# list the Summer Olympic\n",
    "queryString = \"\"\"\n",
    "SELECT DISTINCT ?prop ?name\n",
    "WHERE { \n",
    "    ?x wdt:P31 wd:Q159821.\n",
    "    ?x ?prop ?y.\n",
    "    ?prop sc:name ?name .\n",
    "}\n",
    "\"\"\"\n",
    "\n",
    "print(\"Results\")\n",
    "x = run_query(queryString)"
   ]
  },
  {
   "cell_type": "code",
   "execution_count": 17,
   "id": "265aac0e-7581-4307-88c2-051800a09e53",
   "metadata": {},
   "outputs": [
    {
     "name": "stdout",
     "output_type": "stream",
     "text": [
      "Results\n",
      "[('x', 'http://www.wikidata.org/entity/Q8150'), ('name', '1936 Summer Olympics'), ('loc', 'http://www.wikidata.org/entity/Q1206012'), ('location', 'German Reich')]\n",
      "[('x', 'http://www.wikidata.org/entity/Q8123'), ('name', '1916 Summer Olympics'), ('loc', 'http://www.wikidata.org/entity/Q1206012'), ('location', 'German Reich')]\n",
      "[('x', 'http://www.wikidata.org/entity/Q8088'), ('name', '1900 Summer Olympics'), ('loc', 'http://www.wikidata.org/entity/Q142'), ('location', 'France')]\n",
      "[('x', 'http://www.wikidata.org/entity/Q8132'), ('name', '1924 Summer Olympics'), ('loc', 'http://www.wikidata.org/entity/Q142'), ('location', 'France')]\n",
      "[('x', 'http://www.wikidata.org/entity/Q8376'), ('name', '1944 Summer Olympics'), ('loc', 'http://www.wikidata.org/entity/Q145'), ('location', 'United Kingdom')]\n",
      "[('x', 'http://www.wikidata.org/entity/Q8577'), ('name', '2012 Summer Olympics'), ('loc', 'http://www.wikidata.org/entity/Q145'), ('location', 'United Kingdom')]\n",
      "[('x', 'http://www.wikidata.org/entity/Q8403'), ('name', '1948 Summer Olympics'), ('loc', 'http://www.wikidata.org/entity/Q145'), ('location', 'United Kingdom')]\n",
      "[('x', 'http://www.wikidata.org/entity/Q8567'), ('name', '2008 Summer Olympics'), ('loc', 'http://www.wikidata.org/entity/Q148'), ('location', \"People's Republic of China\")]\n",
      "[('x', 'http://www.wikidata.org/entity/Q8450'), ('name', '1980 Summer Olympics'), ('loc', 'http://www.wikidata.org/entity/Q15180'), ('location', 'Soviet Union')]\n",
      "[('x', 'http://www.wikidata.org/entity/Q8531'), ('name', '1996 Summer Olympics'), ('loc', 'http://www.wikidata.org/entity/Q155'), ('location', 'Brazil')]\n",
      "[('x', 'http://www.wikidata.org/entity/Q8613'), ('name', '2016 Summer Olympics'), ('loc', 'http://www.wikidata.org/entity/Q155'), ('location', 'Brazil')]\n",
      "[('x', 'http://www.wikidata.org/entity/Q8444'), ('name', '1976 Summer Olympics'), ('loc', 'http://www.wikidata.org/entity/Q16'), ('location', 'Canada')]\n",
      "[('x', 'http://www.wikidata.org/entity/Q8420'), ('name', '1964 Summer Olympics'), ('loc', 'http://www.wikidata.org/entity/Q17'), ('location', 'Japan')]\n",
      "[('x', 'http://www.wikidata.org/entity/Q8368'), ('name', '1940 Summer Olympics'), ('loc', 'http://www.wikidata.org/entity/Q17'), ('location', 'Japan')]\n",
      "[('x', 'http://www.wikidata.org/entity/Q181278'), ('name', '2020 Summer Olympics'), ('loc', 'http://www.wikidata.org/entity/Q17'), ('location', 'Japan')]\n",
      "[('x', 'http://www.wikidata.org/entity/Q8111'), ('name', '1908 Summer Olympics'), ('loc', 'http://www.wikidata.org/entity/Q174193'), ('location', 'United Kingdom of Great Britain and Ireland')]\n",
      "[('x', 'http://www.wikidata.org/entity/Q8438'), ('name', '1972 Summer Olympics'), ('loc', 'http://www.wikidata.org/entity/Q183'), ('location', 'Germany')]\n",
      "[('x', 'http://www.wikidata.org/entity/Q8488'), ('name', '1992 Summer Olympics'), ('loc', 'http://www.wikidata.org/entity/Q29'), ('location', 'Spain')]\n",
      "[('x', 'http://www.wikidata.org/entity/Q8143'), ('name', '1932 Summer Olympics'), ('loc', 'http://www.wikidata.org/entity/Q30'), ('location', 'United States of America')]\n",
      "[('x', 'http://www.wikidata.org/entity/Q8098'), ('name', '1904 Summer Olympics'), ('loc', 'http://www.wikidata.org/entity/Q30'), ('location', 'United States of America')]\n",
      "[('x', 'http://www.wikidata.org/entity/Q8456'), ('name', '1984 Summer Olympics'), ('loc', 'http://www.wikidata.org/entity/Q30'), ('location', 'United States of America')]\n",
      "[('x', 'http://www.wikidata.org/entity/Q8128'), ('name', '1920 Summer Olympics'), ('loc', 'http://www.wikidata.org/entity/Q31'), ('location', 'Belgium')]\n",
      "[('x', 'http://www.wikidata.org/entity/Q8407'), ('name', '1952 Summer Olympics'), ('loc', 'http://www.wikidata.org/entity/Q33'), ('location', 'Finland')]\n",
      "[('x', 'http://www.wikidata.org/entity/Q8118'), ('name', '1912 Summer Olympics'), ('loc', 'http://www.wikidata.org/entity/Q34'), ('location', 'Sweden')]\n",
      "[('x', 'http://www.wikidata.org/entity/Q8411'), ('name', '1956 Summer Olympics'), ('loc', 'http://www.wikidata.org/entity/Q408'), ('location', 'Australia')]\n",
      "[('x', 'http://www.wikidata.org/entity/Q8544'), ('name', '2000 Summer Olympics'), ('loc', 'http://www.wikidata.org/entity/Q408'), ('location', 'Australia')]\n",
      "[('x', 'http://www.wikidata.org/entity/Q8558'), ('name', '2004 Summer Olympics'), ('loc', 'http://www.wikidata.org/entity/Q41'), ('location', 'Greece')]\n",
      "[('x', 'http://www.wikidata.org/entity/Q8138'), ('name', '1928 Summer Olympics'), ('loc', 'http://www.wikidata.org/entity/Q55'), ('location', 'Netherlands')]\n",
      "[('x', 'http://www.wikidata.org/entity/Q8470'), ('name', '1988 Summer Olympics'), ('loc', 'http://www.wikidata.org/entity/Q884'), ('location', 'South Korea')]\n",
      "[('x', 'http://www.wikidata.org/entity/Q8415'), ('name', '1960 Summer Olympics'), ('loc', 'http://www.wikidata.org/entity/Q96'), ('location', 'Mexico')]\n",
      "[('x', 'http://www.wikidata.org/entity/Q8429'), ('name', '1968 Summer Olympics'), ('loc', 'http://www.wikidata.org/entity/Q96'), ('location', 'Mexico')]\n",
      "[('x', 'http://www.wikidata.org/entity/Q8080'), ('name', '1896 Summer Olympics'), ('loc', 'http://www.wikidata.org/entity/Q209065'), ('location', 'Kingdom of Greece')]\n",
      "[('x', 'http://www.wikidata.org/entity/Q8105'), ('name', '1906 Intercalated Games'), ('loc', 'http://www.wikidata.org/entity/Q209065'), ('location', 'Kingdom of Greece')]\n",
      "33\n"
     ]
    }
   ],
   "source": [
    "# list the Summer Olympic\n",
    "queryString = \"\"\"\n",
    "SELECT DISTINCT ?x ?name ?loc ?location\n",
    "WHERE { \n",
    "    ?x wdt:P31 wd:Q159821;\n",
    "        wdt:P17 ?loc;\n",
    "        wdt:P585 ?y.\n",
    "    FILTER(year(?y) < 2022).\n",
    "    ?x sc:name ?name .\n",
    "    ?loc sc:name ?location.\n",
    "}\n",
    "\"\"\"\n",
    "\n",
    "print(\"Results\")\n",
    "x = run_query(queryString)"
   ]
  },
  {
   "cell_type": "markdown",
   "id": "8b06e178-c189-4043-ae8b-0b8d5b0947fb",
   "metadata": {
    "jp-MarkdownHeadingCollapsed": true,
    "tags": []
   },
   "source": [
    "## Task 3 "
   ]
  },
  {
   "cell_type": "code",
   "execution_count": 19,
   "id": "9d8f3d02-5811-4412-a554-757776e024df",
   "metadata": {},
   "outputs": [
    {
     "name": "stdout",
     "output_type": "stream",
     "text": [
      "Results\n",
      "[('x', 'http://www.wikidata.org/entity/Q159821'), ('name', 'Summer Olympic Games')]\n",
      "[('x', 'http://www.wikidata.org/entity/Q82414'), ('name', 'Winter Olympic Games')]\n",
      "[('x', 'http://www.wikidata.org/entity/Q188468'), ('name', 'Ancient Olympic Games')]\n",
      "[('x', 'http://www.wikidata.org/entity/Q988994'), ('name', 'cancelled Olympic Games')]\n",
      "4\n"
     ]
    }
   ],
   "source": [
    "# find Summer and Winter Olympic Games\n",
    "queryString = \"\"\"\n",
    "SELECT DISTINCT ?x ?name\n",
    "WHERE { \n",
    "    ?x wdt:P279 wd:Q5389.\n",
    "    ?x sc:name ?name .\n",
    "}\n",
    "\"\"\"\n",
    "\n",
    "print(\"Results\")\n",
    "x = run_query(queryString)"
   ]
  },
  {
   "cell_type": "code",
   "execution_count": 28,
   "id": "5ba67750-c2d4-4c45-a81f-2e06d7b9c76f",
   "metadata": {},
   "outputs": [
    {
     "name": "stdout",
     "output_type": "stream",
     "text": [
      "Results\n",
      "[('country', 'http://www.wikidata.org/entity/Q16'), ('name', 'Canada'), ('olGames', '3')]\n",
      "[('country', 'http://www.wikidata.org/entity/Q38'), ('name', 'Italy'), ('olGames', '3')]\n",
      "[('country', 'http://www.wikidata.org/entity/Q142'), ('name', 'France'), ('olGames', '6')]\n",
      "[('country', 'http://www.wikidata.org/entity/Q1206012'), ('name', 'German Reich'), ('olGames', '3')]\n",
      "[('country', 'http://www.wikidata.org/entity/Q17'), ('name', 'Japan'), ('olGames', '6')]\n",
      "[('country', 'http://www.wikidata.org/entity/Q30'), ('name', 'United States of America'), ('olGames', '8')]\n",
      "[('country', 'http://www.wikidata.org/entity/Q408'), ('name', 'Australia'), ('olGames', '3')]\n",
      "[('country', 'http://www.wikidata.org/entity/Q145'), ('name', 'United Kingdom'), ('olGames', '3')]\n",
      "8\n"
     ]
    }
   ],
   "source": [
    "# find Summer and Winter Olympic Games\n",
    "queryString = \"\"\"\n",
    "SELECT DISTINCT ?country ?name COUNT(?x) AS ?olGames\n",
    "WHERE { \n",
    "    VALUES ?games {wd:Q159821 wd:Q82414}.\n",
    "    ?x wdt:P31 ?games;\n",
    "        wdt:P17 ?country.\n",
    "    ?country sc:name ?name .\n",
    "}\n",
    "GROUP BY ?country ?name\n",
    "HAVING ( COUNT(?x) > 2 )\n",
    "\"\"\"\n",
    "\n",
    "print(\"Results\")\n",
    "x = run_query(queryString)"
   ]
  },
  {
   "cell_type": "markdown",
   "id": "25bd0dfa-f0c1-4d31-9c83-4672b40c4b7b",
   "metadata": {
    "jp-MarkdownHeadingCollapsed": true,
    "tags": []
   },
   "source": [
    "## Task 4"
   ]
  },
  {
   "cell_type": "code",
   "execution_count": 30,
   "id": "986900bc-46c0-4d80-9791-7322ca908c98",
   "metadata": {
    "tags": []
   },
   "outputs": [
    {
     "name": "stdout",
     "output_type": "stream",
     "text": [
      "Results\n",
      "[('prop', 'http://www.wikidata.org/prop/direct/P1132'), ('name', 'number of participants')]\n",
      "[('prop', 'http://www.wikidata.org/prop/direct/P1417'), ('name', 'Encyclopædia Britannica Online ID')]\n",
      "[('prop', 'http://www.wikidata.org/prop/direct/P155'), ('name', 'follows')]\n",
      "[('prop', 'http://www.wikidata.org/prop/direct/P156'), ('name', 'followed by')]\n",
      "[('prop', 'http://www.wikidata.org/prop/direct/P17'), ('name', 'country')]\n",
      "[('prop', 'http://www.wikidata.org/prop/direct/P18'), ('name', 'image')]\n",
      "[('prop', 'http://www.wikidata.org/prop/direct/P214'), ('name', 'VIAF ID')]\n",
      "[('prop', 'http://www.wikidata.org/prop/direct/P227'), ('name', 'GND ID')]\n",
      "[('prop', 'http://www.wikidata.org/prop/direct/P2397'), ('name', 'YouTube channel ID')]\n",
      "[('prop', 'http://www.wikidata.org/prop/direct/P244'), ('name', 'Library of Congress authority ID')]\n",
      "[('prop', 'http://www.wikidata.org/prop/direct/P2581'), ('name', 'BabelNet ID')]\n",
      "[('prop', 'http://www.wikidata.org/prop/direct/P2670'), ('name', 'has parts of the class')]\n",
      "[('prop', 'http://www.wikidata.org/prop/direct/P276'), ('name', 'location')]\n",
      "[('prop', 'http://www.wikidata.org/prop/direct/P31'), ('name', 'instance of')]\n",
      "[('prop', 'http://www.wikidata.org/prop/direct/P3219'), ('name', 'Encyclopædia Universalis ID')]\n",
      "[('prop', 'http://www.wikidata.org/prop/direct/P3221'), ('name', 'New York Times topic ID')]\n",
      "[('prop', 'http://www.wikidata.org/prop/direct/P3417'), ('name', 'Quora topic ID')]\n",
      "[('prop', 'http://www.wikidata.org/prop/direct/P373'), ('name', 'Commons category')]\n",
      "[('prop', 'http://www.wikidata.org/prop/direct/P393'), ('name', 'edition number')]\n",
      "[('prop', 'http://www.wikidata.org/prop/direct/P527'), ('name', 'has part')]\n",
      "[('prop', 'http://www.wikidata.org/prop/direct/P542'), ('name', 'officially opened by')]\n",
      "[('prop', 'http://www.wikidata.org/prop/direct/P543'), ('name', 'oath made by')]\n",
      "[('prop', 'http://www.wikidata.org/prop/direct/P545'), ('name', 'torch lit by')]\n",
      "[('prop', 'http://www.wikidata.org/prop/direct/P580'), ('name', 'start time')]\n",
      "[('prop', 'http://www.wikidata.org/prop/direct/P582'), ('name', 'end time')]\n",
      "[('prop', 'http://www.wikidata.org/prop/direct/P585'), ('name', 'point in time')]\n",
      "[('prop', 'http://www.wikidata.org/prop/direct/P6058'), ('name', 'Larousse ID')]\n",
      "[('prop', 'http://www.wikidata.org/prop/direct/P6262'), ('name', 'Fandom article ID')]\n",
      "[('prop', 'http://www.wikidata.org/prop/direct/P646'), ('name', 'Freebase ID')]\n",
      "[('prop', 'http://www.wikidata.org/prop/direct/P6683'), ('name', 'Alexander Turnbull Library ID')]\n",
      "[('prop', 'http://www.wikidata.org/prop/direct/P691'), ('name', 'NKCR AUT ID')]\n",
      "[('prop', 'http://www.wikidata.org/prop/direct/P710'), ('name', 'participant')]\n",
      "[('prop', 'http://www.wikidata.org/prop/direct/P7859'), ('name', 'WorldCat Identities ID')]\n",
      "[('prop', 'http://www.wikidata.org/prop/direct/P822'), ('name', 'mascot')]\n",
      "[('prop', 'http://www.wikidata.org/prop/direct/P8309'), ('name', 'Yle topic ID')]\n",
      "[('prop', 'http://www.wikidata.org/prop/direct/P856'), ('name', 'official website')]\n",
      "[('prop', 'http://www.wikidata.org/prop/direct/P8687'), ('name', 'social media followers')]\n",
      "[('prop', 'http://www.wikidata.org/prop/direct/P910'), ('name', \"topic's main category\")]\n",
      "[('prop', 'http://www.wikidata.org/prop/direct/P9322'), ('name', 'SVKKL authority ID')]\n",
      "[('prop', 'http://www.wikidata.org/prop/direct/P935'), ('name', 'Commons gallery')]\n",
      "[('prop', 'http://www.wikidata.org/prop/direct/P948'), ('name', 'page banner')]\n",
      "[('prop', 'http://www.wikidata.org/prop/direct/P973'), ('name', 'described at URL')]\n",
      "[('prop', 'http://www.wikidata.org/prop/direct/P9873'), ('name', 'Enciclopedia dello Sport ID')]\n",
      "43\n"
     ]
    }
   ],
   "source": [
    "# find properties of this edition (2008 edition Q8567)\n",
    "queryString = \"\"\"\n",
    "SELECT DISTINCT ?prop ?name\n",
    "WHERE { \n",
    "    wd:Q8567 ?prop ?x .\n",
    "    ?prop sc:name ?name .\n",
    "}\n",
    "\"\"\"\n",
    "\n",
    "print(\"Results\")\n",
    "x= run_query(queryString)"
   ]
  },
  {
   "cell_type": "code",
   "execution_count": 33,
   "id": "0bfe5f42-576a-44ae-9745-38b702ca7295",
   "metadata": {},
   "outputs": [
    {
     "name": "stdout",
     "output_type": "stream",
     "text": [
      "Results\n",
      "[('prop', 'http://www.wikidata.org/prop/direct/P1132'), ('name', 'number of participants')]\n",
      "[('prop', 'http://www.wikidata.org/prop/direct/P115'), ('name', 'home venue')]\n",
      "[('prop', 'http://www.wikidata.org/prop/direct/P1350'), ('name', 'number of matches played/races/starts')]\n",
      "[('prop', 'http://www.wikidata.org/prop/direct/P1424'), ('name', \"topic's main template\")]\n",
      "[('prop', 'http://www.wikidata.org/prop/direct/P155'), ('name', 'follows')]\n",
      "[('prop', 'http://www.wikidata.org/prop/direct/P156'), ('name', 'followed by')]\n",
      "[('prop', 'http://www.wikidata.org/prop/direct/P17'), ('name', 'country')]\n",
      "[('prop', 'http://www.wikidata.org/prop/direct/P18'), ('name', 'image')]\n",
      "[('prop', 'http://www.wikidata.org/prop/direct/P1889'), ('name', 'different from')]\n",
      "[('prop', 'http://www.wikidata.org/prop/direct/P2094'), ('name', 'competition class')]\n",
      "[('prop', 'http://www.wikidata.org/prop/direct/P2354'), ('name', 'has list')]\n",
      "[('prop', 'http://www.wikidata.org/prop/direct/P2581'), ('name', 'BabelNet ID')]\n",
      "[('prop', 'http://www.wikidata.org/prop/direct/P2671'), ('name', 'Google Knowledge Graph ID')]\n",
      "[('prop', 'http://www.wikidata.org/prop/direct/P276'), ('name', 'location')]\n",
      "[('prop', 'http://www.wikidata.org/prop/direct/P31'), ('name', 'instance of')]\n",
      "[('prop', 'http://www.wikidata.org/prop/direct/P3450'), ('name', 'sports season of league or competition')]\n",
      "[('prop', 'http://www.wikidata.org/prop/direct/P361'), ('name', 'part of')]\n",
      "[('prop', 'http://www.wikidata.org/prop/direct/P373'), ('name', 'Commons category')]\n",
      "[('prop', 'http://www.wikidata.org/prop/direct/P393'), ('name', 'edition number')]\n",
      "[('prop', 'http://www.wikidata.org/prop/direct/P4431'), ('name', 'Google Doodle')]\n",
      "[('prop', 'http://www.wikidata.org/prop/direct/P5008'), ('name', 'on focus list of Wikimedia project')]\n",
      "[('prop', 'http://www.wikidata.org/prop/direct/P527'), ('name', 'has part')]\n",
      "[('prop', 'http://www.wikidata.org/prop/direct/P580'), ('name', 'start time')]\n",
      "[('prop', 'http://www.wikidata.org/prop/direct/P582'), ('name', 'end time')]\n",
      "[('prop', 'http://www.wikidata.org/prop/direct/P585'), ('name', 'point in time')]\n",
      "[('prop', 'http://www.wikidata.org/prop/direct/P6262'), ('name', 'Fandom article ID')]\n",
      "[('prop', 'http://www.wikidata.org/prop/direct/P641'), ('name', 'sport')]\n",
      "[('prop', 'http://www.wikidata.org/prop/direct/P646'), ('name', 'Freebase ID')]\n",
      "[('prop', 'http://www.wikidata.org/prop/direct/P664'), ('name', 'organizer')]\n",
      "[('prop', 'http://www.wikidata.org/prop/direct/P856'), ('name', 'official website')]\n",
      "[('prop', 'http://www.wikidata.org/prop/direct/P910'), ('name', \"topic's main category\")]\n",
      "[('prop', 'http://www.wikidata.org/prop/direct/P973'), ('name', 'described at URL')]\n",
      "[('prop', 'http://www.wikidata.org/prop/direct/P1110'), ('name', 'attendance')]\n",
      "33\n"
     ]
    }
   ],
   "source": [
    "# find properties of this edition (2008 edition Q8567)\n",
    "queryString = \"\"\"\n",
    "SELECT DISTINCT ?prop ?name\n",
    "WHERE { \n",
    "    wd:Q8567 wdt:P527 ?x .\n",
    "    ?x ?prop ?y.\n",
    "    ?prop sc:name ?name .\n",
    "}\n",
    "\"\"\"\n",
    "\n",
    "print(\"Results\")\n",
    "x= run_query(queryString)"
   ]
  },
  {
   "cell_type": "code",
   "execution_count": 34,
   "id": "f5910894-e39a-4336-8b5d-1208d85dec03",
   "metadata": {},
   "outputs": [
    {
     "name": "stdout",
     "output_type": "stream",
     "text": [
      "Results\n",
      "[('y', 'http://www.wikidata.org/entity/Q10980'), ('name', 'triathlon')]\n",
      "[('y', 'http://www.wikidata.org/entity/Q213934'), ('name', 'canoeing and kayaking')]\n",
      "[('y', 'http://www.wikidata.org/entity/Q326827'), ('name', 'artistic gymnastics')]\n",
      "[('y', 'http://www.wikidata.org/entity/Q180692'), ('name', 'synchronized swimming')]\n",
      "[('y', 'http://www.wikidata.org/entity/Q465014'), ('name', 'trampolining')]\n",
      "[('y', 'http://www.wikidata.org/entity/Q1455'), ('name', 'field hockey')]\n",
      "[('y', 'http://www.wikidata.org/entity/Q1734'), ('name', 'volleyball')]\n",
      "[('y', 'http://www.wikidata.org/entity/Q206989'), ('name', 'shooting sport')]\n",
      "[('y', 'http://www.wikidata.org/entity/Q2736'), ('name', 'association football')]\n",
      "[('y', 'http://www.wikidata.org/entity/Q31920'), ('name', 'swimming')]\n",
      "[('y', 'http://www.wikidata.org/entity/Q32112'), ('name', 'boxing')]\n",
      "[('y', 'http://www.wikidata.org/entity/Q4543'), ('name', 'beach volleyball')]\n",
      "[('y', 'http://www.wikidata.org/entity/Q5369'), ('name', 'baseball')]\n",
      "[('y', 'http://www.wikidata.org/entity/Q5372'), ('name', 'basketball')]\n",
      "[('y', 'http://www.wikidata.org/entity/Q542'), ('name', 'athletics')]\n",
      "[('y', 'http://www.wikidata.org/entity/Q61465'), ('name', 'rhythmic gymnastics')]\n",
      "[('y', 'http://www.wikidata.org/entity/Q7707'), ('name', 'water polo')]\n",
      "[('y', 'http://www.wikidata.org/entity/Q847'), ('name', 'tennis')]\n",
      "[('y', 'http://www.wikidata.org/entity/Q11420'), ('name', 'judo')]\n",
      "[('y', 'http://www.wikidata.org/entity/Q108429'), ('name', 'archery')]\n",
      "[('y', 'http://www.wikidata.org/entity/Q12100'), ('name', 'fencing')]\n",
      "[('y', 'http://www.wikidata.org/entity/Q14085739'), ('name', 'sailing')]\n",
      "[('y', 'http://www.wikidata.org/entity/Q159354'), ('name', 'rowing')]\n",
      "[('y', 'http://www.wikidata.org/entity/Q2215841'), ('name', 'cycle sport')]\n",
      "[('y', 'http://www.wikidata.org/entity/Q32485'), ('name', 'modern pentathlon')]\n",
      "[('y', 'http://www.wikidata.org/entity/Q3930'), ('name', 'table tennis')]\n",
      "[('y', 'http://www.wikidata.org/entity/Q42486'), ('name', 'wrestling')]\n",
      "[('y', 'http://www.wikidata.org/entity/Q43450'), ('name', 'gymnastics')]\n",
      "[('y', 'http://www.wikidata.org/entity/Q7735'), ('name', 'diving')]\n",
      "[('y', 'http://www.wikidata.org/entity/Q83462'), ('name', 'weightlifting')]\n",
      "[('y', 'http://www.wikidata.org/entity/Q8418'), ('name', 'handball')]\n",
      "[('y', 'http://www.wikidata.org/entity/Q902378'), ('name', 'equestrian sport')]\n",
      "[('y', 'http://www.wikidata.org/entity/Q171038'), ('name', 'softball')]\n",
      "[('y', 'http://www.wikidata.org/entity/Q36389'), ('name', 'taekwondo')]\n",
      "[('y', 'http://www.wikidata.org/entity/Q7291'), ('name', 'badminton')]\n",
      "35\n"
     ]
    }
   ],
   "source": [
    "# use property sport\n",
    "queryString = \"\"\"\n",
    "SELECT DISTINCT ?y ?name\n",
    "WHERE { \n",
    "    wd:Q8567 wdt:P527 ?x .\n",
    "    ?x wdt:P641 ?y.\n",
    "    ?y sc:name ?name .\n",
    "}\n",
    "\"\"\"\n",
    "\n",
    "print(\"Results\")\n",
    "x= run_query(queryString)"
   ]
  },
  {
   "cell_type": "markdown",
   "id": "db8b76d6-9094-45f7-8fba-9feb5ce2ad81",
   "metadata": {
    "jp-MarkdownHeadingCollapsed": true,
    "tags": []
   },
   "source": [
    "## Task 5"
   ]
  },
  {
   "cell_type": "code",
   "execution_count": 37,
   "id": "e502201f-bf90-46a4-b938-e02217fd63ba",
   "metadata": {},
   "outputs": [
    {
     "name": "stdout",
     "output_type": "stream",
     "text": [
      "Results\n",
      "[('sport', 'http://www.wikidata.org/entity/Q206989'), ('name', 'shooting sport'), ('disciplines', '15')]\n",
      "[('sport', 'http://www.wikidata.org/entity/Q847'), ('name', 'tennis'), ('disciplines', '5')]\n",
      "[('sport', 'http://www.wikidata.org/entity/Q171038'), ('name', 'softball'), ('disciplines', '1')]\n",
      "[('sport', 'http://www.wikidata.org/entity/Q465014'), ('name', 'trampolining'), ('disciplines', '2')]\n",
      "[('sport', 'http://www.wikidata.org/entity/Q326827'), ('name', 'artistic gymnastics'), ('disciplines', '14')]\n",
      "[('sport', 'http://www.wikidata.org/entity/Q12100'), ('name', 'fencing'), ('disciplines', '10')]\n",
      "[('sport', 'http://www.wikidata.org/entity/Q902378'), ('name', 'equestrian sport'), ('disciplines', '6')]\n",
      "[('sport', 'http://www.wikidata.org/entity/Q14085739'), ('name', 'sailing'), ('disciplines', '11')]\n",
      "[('sport', 'http://www.wikidata.org/entity/Q1734'), ('name', 'volleyball'), ('disciplines', '2')]\n",
      "[('sport', 'http://www.wikidata.org/entity/Q43450'), ('name', 'gymnastics'), ('disciplines', '3')]\n",
      "[('sport', 'http://www.wikidata.org/entity/Q36389'), ('name', 'taekwondo'), ('disciplines', '8')]\n",
      "[('sport', 'http://www.wikidata.org/entity/Q83462'), ('name', 'weightlifting'), ('disciplines', '15')]\n",
      "[('sport', 'http://www.wikidata.org/entity/Q7291'), ('name', 'badminton'), ('disciplines', '6')]\n",
      "[('sport', 'http://www.wikidata.org/entity/Q32112'), ('name', 'boxing'), ('disciplines', '11')]\n",
      "[('sport', 'http://www.wikidata.org/entity/Q2736'), ('name', 'association football'), ('disciplines', '2')]\n",
      "[('sport', 'http://www.wikidata.org/entity/Q4543'), ('name', 'beach volleyball'), ('disciplines', '4')]\n",
      "[('sport', 'http://www.wikidata.org/entity/Q11420'), ('name', 'judo'), ('disciplines', '14')]\n",
      "[('sport', 'http://www.wikidata.org/entity/Q3930'), ('name', 'table tennis'), ('disciplines', '4')]\n",
      "[('sport', 'http://www.wikidata.org/entity/Q7707'), ('name', 'water polo'), ('disciplines', '5')]\n",
      "[('sport', 'http://www.wikidata.org/entity/Q108429'), ('name', 'archery'), ('disciplines', '4')]\n",
      "[('sport', 'http://www.wikidata.org/entity/Q5369'), ('name', 'baseball'), ('disciplines', '1')]\n",
      "[('sport', 'http://www.wikidata.org/entity/Q1455'), ('name', 'field hockey'), ('disciplines', '2')]\n",
      "[('sport', 'http://www.wikidata.org/entity/Q42486'), ('name', 'wrestling'), ('disciplines', '18')]\n",
      "[('sport', 'http://www.wikidata.org/entity/Q2215841'), ('name', 'cycle sport'), ('disciplines', '18')]\n",
      "[('sport', 'http://www.wikidata.org/entity/Q213934'), ('name', 'canoeing and kayaking'), ('disciplines', '16')]\n",
      "[('sport', 'http://www.wikidata.org/entity/Q61465'), ('name', 'rhythmic gymnastics'), ('disciplines', '2')]\n",
      "[('sport', 'http://www.wikidata.org/entity/Q542'), ('name', 'athletics'), ('disciplines', '49')]\n",
      "[('sport', 'http://www.wikidata.org/entity/Q32485'), ('name', 'modern pentathlon'), ('disciplines', '2')]\n",
      "[('sport', 'http://www.wikidata.org/entity/Q10980'), ('name', 'triathlon'), ('disciplines', '2')]\n",
      "[('sport', 'http://www.wikidata.org/entity/Q5372'), ('name', 'basketball'), ('disciplines', '4')]\n",
      "[('sport', 'http://www.wikidata.org/entity/Q159354'), ('name', 'rowing'), ('disciplines', '14')]\n",
      "[('sport', 'http://www.wikidata.org/entity/Q180692'), ('name', 'synchronized swimming'), ('disciplines', '2')]\n",
      "[('sport', 'http://www.wikidata.org/entity/Q8418'), ('name', 'handball'), ('disciplines', '4')]\n",
      "[('sport', 'http://www.wikidata.org/entity/Q31920'), ('name', 'swimming'), ('disciplines', '34')]\n",
      "[('sport', 'http://www.wikidata.org/entity/Q7735'), ('name', 'diving'), ('disciplines', '8')]\n",
      "35\n"
     ]
    }
   ],
   "source": [
    "# find properties of this edition (2008 edition Q8567)\n",
    "queryString = \"\"\"\n",
    "SELECT DISTINCT ?sport ?name COUNT(?disc) AS ?disciplines\n",
    "WHERE { \n",
    "    wd:Q8567 wdt:P527 ?x .\n",
    "    ?x wdt:P527 ?disc;\n",
    "        wdt:P641 ?sport.\n",
    "    ?sport sc:name ?name .\n",
    "}\n",
    "GROUP BY ?sport ?name\n",
    "\"\"\"\n",
    "\n",
    "print(\"Results\")\n",
    "x= run_query(queryString)"
   ]
  },
  {
   "cell_type": "markdown",
   "id": "866532cf-98bb-4e16-83cb-f3f9815d7b49",
   "metadata": {
    "jp-MarkdownHeadingCollapsed": true,
    "tags": []
   },
   "source": [
    "## Task 6"
   ]
  },
  {
   "cell_type": "code",
   "execution_count": 41,
   "id": "37ea5c4a-57fa-4ec3-bf6f-bcadedccad76",
   "metadata": {},
   "outputs": [
    {
     "name": "stdout",
     "output_type": "stream",
     "text": [
      "Results\n",
      "[('prop', 'http://www.wikidata.org/prop/direct/P1344'), ('name', 'participant in')]\n",
      "[('prop', 'http://www.wikidata.org/prop/direct/P2522'), ('name', 'victory')]\n",
      "2\n"
     ]
    }
   ],
   "source": [
    "# find how people are connected with disciplines\n",
    "queryString = \"\"\"\n",
    "SELECT DISTINCT ?prop ?name \n",
    "WHERE { \n",
    "    wd:Q8567 wdt:P527 ?x .\n",
    "    ?x wdt:P527 ?disc;\n",
    "        wdt:P641 ?sport.\n",
    "    ?athl wdt:P31 wd:Q5.\n",
    "    ?athl ?prop ?disc.\n",
    "    ?prop sc:name ?name .\n",
    "}\n",
    "\"\"\"\n",
    "\n",
    "print(\"Results\")\n",
    "x= run_query(queryString)"
   ]
  },
  {
   "cell_type": "code",
   "execution_count": 42,
   "id": "e8ce348d-3a52-4637-ba59-9519a1ba016e",
   "metadata": {},
   "outputs": [
    {
     "name": "stdout",
     "output_type": "stream",
     "text": [
      "Results\n",
      "[('prop', 'http://www.wikidata.org/prop/direct/P1346'), ('name', 'winner')]\n",
      "[('prop', 'http://www.wikidata.org/prop/direct/P710'), ('name', 'participant')]\n",
      "[('prop', 'http://www.wikidata.org/prop/direct/P3279'), ('name', 'statistical leader')]\n",
      "3\n"
     ]
    }
   ],
   "source": [
    "# find how people are connected with disciplines\n",
    "queryString = \"\"\"\n",
    "SELECT DISTINCT ?prop ?name \n",
    "WHERE { \n",
    "    wd:Q8567 wdt:P527 ?x .\n",
    "    ?x wdt:P527 ?disc;\n",
    "        wdt:P641 ?sport.\n",
    "    ?athl wdt:P31 wd:Q5.\n",
    "    ?disc ?prop ?athl.\n",
    "    ?prop sc:name ?name .\n",
    "}\n",
    "\"\"\"\n",
    "\n",
    "print(\"Results\")\n",
    "x= run_query(queryString)"
   ]
  },
  {
   "cell_type": "code",
   "execution_count": 48,
   "id": "d40c48dd-3f7d-4037-a24e-e0ab3b2a8a62",
   "metadata": {},
   "outputs": [
    {
     "name": "stdout",
     "output_type": "stream",
     "text": [
      "Results\n",
      "[('athl', 'http://www.wikidata.org/entity/Q39562'), ('name', 'Michael Phelps'), ('gold', '5')]\n",
      "[('athl', 'http://www.wikidata.org/entity/Q310383'), ('name', 'Chris Hoy'), ('gold', '3')]\n",
      "[('athl', 'http://www.wikidata.org/entity/Q312690'), ('name', 'Kosuke Kitajima'), ('gold', '2')]\n",
      "[('athl', 'http://www.wikidata.org/entity/Q270693'), ('name', 'Guo Jingjing'), ('gold', '2')]\n",
      "[('athl', 'http://www.wikidata.org/entity/Q9119'), ('name', 'Kenenisa Bekele Beyecha'), ('gold', '2')]\n",
      "[('athl', 'http://www.wikidata.org/entity/Q228660'), ('name', 'Stephanie Rice'), ('gold', '2')]\n",
      "[('athl', 'http://www.wikidata.org/entity/Q57273'), ('name', 'Britta Steffen'), ('gold', '2')]\n",
      "[('athl', 'http://www.wikidata.org/entity/Q49287'), ('name', 'Rebecca Adlington'), ('gold', '2')]\n",
      "[('athl', 'http://www.wikidata.org/entity/Q227015'), ('name', 'Zou Kai'), ('gold', '2')]\n",
      "[('athl', 'http://www.wikidata.org/entity/Q1189'), ('name', 'Usain Bolt'), ('gold', '2')]\n",
      "[('athl', 'http://www.wikidata.org/entity/Q460643'), ('name', 'Jason Kenny'), ('gold', '2')]\n",
      "[('athl', 'http://www.wikidata.org/entity/Q6003'), ('name', 'Tirunesh Dibaba'), ('gold', '2')]\n",
      "[('athl', 'http://www.wikidata.org/entity/Q193876'), ('name', 'Bradley Wiggins'), ('gold', '2')]\n",
      "[('athl', 'http://www.wikidata.org/entity/Q465367'), ('name', 'Hayden Roulston'), ('gold', '2')]\n",
      "[('athl', 'http://www.wikidata.org/entity/Q188197'), ('name', 'Fabian Cancellara'), ('gold', '2')]\n",
      "[('athl', 'http://www.wikidata.org/entity/Q9079'), ('name', 'LaShawn Merritt'), ('gold', '2')]\n",
      "[('athl', 'http://www.wikidata.org/entity/Q264399'), ('name', 'Mickaël Bourgain'), ('gold', '2')]\n",
      "[('athl', 'http://www.wikidata.org/entity/Q350832'), ('name', 'Joan Llaneras Roselló'), ('gold', '2')]\n",
      "18\n"
     ]
    }
   ],
   "source": [
    "# find how people are connected with disciplines\n",
    "queryString = \"\"\"\n",
    "SELECT DISTINCT ?athl ?name COUNT(?disc) AS ?gold\n",
    "WHERE { \n",
    "    wd:Q8567 wdt:P527 ?x .\n",
    "    ?x wdt:P527 ?disc;\n",
    "        wdt:P641 ?sport.\n",
    "    ?athl wdt:P31 wd:Q5.\n",
    "    ?disc wdt:P1346 ?athl.\n",
    "    ?athl sc:name ?name .\n",
    "}\n",
    "GROUP BY ?athl ?name\n",
    "HAVING (COUNT(?disc) > 1)\n",
    "ORDER BY DESC (COUNT(?disc))\n",
    "\"\"\"\n",
    "\n",
    "print(\"Results\")\n",
    "x= run_query(queryString)"
   ]
  },
  {
   "cell_type": "markdown",
   "id": "01a5d5e1-e9a6-43e1-842e-a6c2804c2119",
   "metadata": {
    "tags": []
   },
   "source": [
    "## Task 7"
   ]
  },
  {
   "cell_type": "code",
   "execution_count": 50,
   "id": "6a4797e0-1b70-408d-8d0e-0450e1045eb1",
   "metadata": {},
   "outputs": [
    {
     "name": "stdout",
     "output_type": "stream",
     "text": [
      "Results\n",
      "[('athl', 'http://www.wikidata.org/entity/Q352640'), ('name', 'Edoardo Mangiarotti'), ('gold', '4')]\n",
      "[('athl', 'http://www.wikidata.org/entity/Q310383'), ('name', 'Chris Hoy'), ('gold', '4')]\n",
      "[('athl', 'http://www.wikidata.org/entity/Q270657'), ('name', 'Anna Meares'), ('gold', '4')]\n",
      "[('athl', 'http://www.wikidata.org/entity/Q555418'), ('name', 'Daniel Morelon'), ('gold', '4')]\n",
      "[('athl', 'http://www.wikidata.org/entity/Q449073'), ('name', 'Ben Ainslie'), ('gold', '4')]\n",
      "[('athl', 'http://www.wikidata.org/entity/Q460643'), ('name', 'Jason Kenny'), ('gold', '4')]\n",
      "[('athl', 'http://www.wikidata.org/entity/Q462790'), ('name', 'Mijaín López'), ('gold', '4')]\n",
      "[('athl', 'http://www.wikidata.org/entity/Q52642'), ('name', 'Al Oerter'), ('gold', '4')]\n",
      "[('athl', 'http://www.wikidata.org/entity/Q39562'), ('name', 'Michael Phelps'), ('gold', '4')]\n",
      "[('athl', 'http://www.wikidata.org/entity/Q233460'), ('name', 'Kaori Icho'), ('gold', '4')]\n",
      "[('athl', 'http://www.wikidata.org/entity/Q131237'), ('name', 'Carl Lewis'), ('gold', '4')]\n",
      "[('athl', 'http://www.wikidata.org/entity/Q193876'), ('name', 'Bradley Wiggins'), ('gold', '5')]\n",
      "[('athl', 'http://www.wikidata.org/entity/Q66229'), ('name', 'Jens Fiedler'), ('gold', '4')]\n",
      "[('athl', 'http://www.wikidata.org/entity/Q312971'), ('name', 'Aladár Gerevich'), ('gold', '5')]\n",
      "14\n"
     ]
    }
   ],
   "source": [
    "# find how people are connected with disciplines\n",
    "queryString = \"\"\"\n",
    "SELECT DISTINCT ?athl ?name COUNT(DISTINCT ?edition) AS ?gold\n",
    "WHERE { \n",
    "    ?edition wdt:P31 wd:Q159821.\n",
    "    ?edition wdt:P527 ?x .\n",
    "    ?x wdt:P527 ?disc;\n",
    "        wdt:P641 ?sport.\n",
    "    ?athl wdt:P31 wd:Q5.\n",
    "    ?disc wdt:P1346 ?athl.\n",
    "    ?athl sc:name ?name .\n",
    "}\n",
    "GROUP BY ?athl ?name\n",
    "HAVING (COUNT(DISTINCT ?edition) > 3)\n",
    "\"\"\"\n",
    "\n",
    "print(\"Results\")\n",
    "x= run_query(queryString)"
   ]
  },
  {
   "cell_type": "code",
   "execution_count": null,
   "id": "58eb0bec-186a-499a-a323-68cf64b39a29",
   "metadata": {},
   "outputs": [],
   "source": []
  }
 ],
 "metadata": {
  "kernelspec": {
   "display_name": "Python 3",
   "language": "python",
   "name": "python3"
  },
  "language_info": {
   "codemirror_mode": {
    "name": "ipython",
    "version": 3
   },
   "file_extension": ".py",
   "mimetype": "text/x-python",
   "name": "python",
   "nbconvert_exporter": "python",
   "pygments_lexer": "ipython3",
   "version": "3.7.10"
  }
 },
 "nbformat": 4,
 "nbformat_minor": 5
}
