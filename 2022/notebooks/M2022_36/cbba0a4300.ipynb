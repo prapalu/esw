{
 "cells": [
  {
   "cell_type": "markdown",
   "id": "b99dbd12",
   "metadata": {},
   "source": [
    "# General instructions\n",
    "\n",
    "The goal of the project is to materialize a set of **exploratory workloads** over a real-world, large-scale,  open-domain KG: [WikiData](https://www.wikidata.org/wiki/Wikidata:Main_Page)\n",
    "\n",
    "An exploratory workload  is composed by a set of queries, where each query is related to the information obtained previously.\n",
    "\n",
    "An exploratory workload starts with a usually vague, open ended question, and does not assume the person issuing the workload has a clear understanding of the data contained in the target database or its structure.\n",
    "\n",
    "Remeber that:\n",
    "\n",
    "1. All the queries must run in the python notebook\n",
    "2. You can use classes and properties only if you find them via a SPARQL query that must be present in the notebook\n",
    "3. You do not delete useless queries. Keep everything that is synthatically valid \n",
    "\n",
    "```\n",
    "?p <http://schema.org/name> ?name .\n",
    "```\n",
    "    \n",
    "    is the BGP returning a human-readable name of a property or a class in Wikidata."
   ]
  },
  {
   "cell_type": "code",
   "execution_count": 27,
   "id": "e0e108ef",
   "metadata": {},
   "outputs": [],
   "source": [
    "## SETUP used later\n",
    "\n",
    "from SPARQLWrapper import SPARQLWrapper, JSON\n",
    "\n",
    "\n",
    "prefixString = \"\"\"\n",
    "##-cbba0a4300-##\n",
    "PREFIX wd: <http://www.wikidata.org/entity/> \n",
    "PREFIX wdt: <http://www.wikidata.org/prop/direct/> \n",
    "PREFIX sc: <http://schema.org/>\n",
    "\"\"\"\n",
    "\n",
    "# select and construct queries\n",
    "def run_query(queryString,verbose = True):\n",
    "    to_run = prefixString + \"\\n\" + queryString\n",
    "\n",
    "    sparql = SPARQLWrapper(\"http://a256-gc1-03.srv.aau.dk:5820/sparql\")\n",
    "    sparql.setTimeout(300)\n",
    "    sparql.setReturnFormat(JSON)\n",
    "    sparql.setQuery(to_run)\n",
    "\n",
    "    try :\n",
    "        results = sparql.query()\n",
    "        json_results = results.convert()\n",
    "        if len(json_results['results']['bindings'])==0:\n",
    "            print(\"Empty\")\n",
    "            return []\n",
    "        array = []\n",
    "        for bindings in json_results['results']['bindings']:\n",
    "            app =  [ (var, value['value'])  for var, value in bindings.items() ] \n",
    "            if verbose:\n",
    "                print( app)\n",
    "            array.append(app)\n",
    "        if verbose:\n",
    "            print(len(array))\n",
    "        return array\n",
    "\n",
    "    except Exception as e :\n",
    "        print(\"The operation failed\", e)\n",
    "    \n",
    "# ASk queries\n",
    "def run_ask_query(queryString):\n",
    "    to_run = prefixString + \"\\n\" + queryString\n",
    "\n",
    "    sparql = SPARQLWrapper(\"http://a256-gc1-03.srv.aau.dk:5820/sparql\")\n",
    "    sparql.setTimeout(300)\n",
    "    sparql.setReturnFormat(JSON)\n",
    "    sparql.setQuery(to_run)\n",
    "\n",
    "    try :\n",
    "        return sparql.query().convert()\n",
    "\n",
    "    except Exception as e :\n",
    "        print(\"The operation failed\", e)"
   ]
  },
  {
   "cell_type": "markdown",
   "id": "b6a7dc9d",
   "metadata": {},
   "source": [
    "# History Workflow Series (\"World Wide Web\") \n",
    "\n",
    "Consider the following exploratory information need:\n",
    "\n",
    "> Investigate the origins of the World Wide Web and related academic activities and scientists."
   ]
  },
  {
   "cell_type": "markdown",
   "id": "8004196a",
   "metadata": {},
   "source": [
    "## Useful URIs for the current workflow\n",
    "The following are given:\n",
    "\n",
    "| IRI           | Description   | Role      |\n",
    "| -----------   | -----------   |-----------|\n",
    "| `wdt:P1647`   | subproperty   | predicate |\n",
    "| `wdt:P31`     | instance of   | predicate |\n",
    "| `wdt:P106`    | occupation    | predicate | \n",
    "| `wdt:P279`    | subclass      | predicate |\n",
    "| `wdt:P27`     | nationality   | predicate |\n",
    "| `wdt:P3342`     | Significant person       | predicate |\n",
    "| `wd:Q5`| Human       | node |\n",
    "| `wd:Q466`| World Wide Web      | node |\n"
   ]
  },
  {
   "cell_type": "markdown",
   "id": "29c09f69",
   "metadata": {},
   "source": [
    "\n",
    "\n",
    "\n",
    "Also consider\n",
    "\n",
    "```\n",
    "wd:Q466 ?p ?obj .\n",
    "```\n",
    "\n",
    "is the BGP to retrieve all **properties of World Wide Web**\n",
    "\n",
    "Please consider that when you return a resource, you should return the IRI and the label of the resource. In particular, when the task require you to identify a BGP the result set must always be a list of couples IRI - label.\n",
    "\n",
    "The workload should:\n",
    "\n",
    "1. Find the inventors of World Wide Web (return IRI and name).\n",
    "\n",
    "2. Identify the BGP for hypertext system.\n",
    "\n",
    "3. Find all the hypertext systems born before the 1980 (return the IRI and name of the system and the inception date).\n",
    "\n",
    "4. Identify the BGP for computer scientist\n",
    "\n",
    "5. Find how many computer scientists there are for each continent (consider their citizenship). Return the IRI and name of the continent and the number of scientists for each continent. \n",
    "\n",
    "6. Find all the computer scientists who thaught at the University of Cambridge (return IRI and name)\n",
    "\n",
    "7. Find all the computer scientists who wrote at least 5 books (please consider only the instances of book, exclude \"literary work\" or other type of work related to books). Return the IRI and name of the computer scientist and the number of books. "
   ]
  },
  {
   "cell_type": "markdown",
   "id": "15edf1a9",
   "metadata": {},
   "source": [
    "## Task 1\n",
    "Find the inventors of World Wide Web (return IRI and name)."
   ]
  },
  {
   "cell_type": "code",
   "execution_count": 3,
   "id": "4df441aa",
   "metadata": {},
   "outputs": [
    {
     "name": "stdout",
     "output_type": "stream",
     "text": [
      "Results\n",
      "[('p', 'http://www.wikidata.org/prop/direct/P1051'), ('name', 'PSH ID')]\n",
      "[('p', 'http://www.wikidata.org/prop/direct/P1225'), ('name', 'U.S. National Archives Identifier')]\n",
      "[('p', 'http://www.wikidata.org/prop/direct/P1417'), ('name', 'Encyclopædia Britannica Online ID')]\n",
      "[('p', 'http://www.wikidata.org/prop/direct/P1430'), ('name', 'OpenPlaques subject ID')]\n",
      "[('p', 'http://www.wikidata.org/prop/direct/P1482'), ('name', 'Stack Exchange tag')]\n",
      "[('p', 'http://www.wikidata.org/prop/direct/P1542'), ('name', 'has effect')]\n",
      "[('p', 'http://www.wikidata.org/prop/direct/P1813'), ('name', 'short name')]\n",
      "[('p', 'http://www.wikidata.org/prop/direct/P1889'), ('name', 'different from')]\n",
      "[('p', 'http://www.wikidata.org/prop/direct/P2004'), ('name', 'NALT ID')]\n",
      "[('p', 'http://www.wikidata.org/prop/direct/P2163'), ('name', 'FAST ID')]\n",
      "[('p', 'http://www.wikidata.org/prop/direct/P2184'), ('name', 'history of topic')]\n",
      "[('p', 'http://www.wikidata.org/prop/direct/P227'), ('name', 'GND ID')]\n",
      "[('p', 'http://www.wikidata.org/prop/direct/P2347'), ('name', 'YSO ID')]\n",
      "[('p', 'http://www.wikidata.org/prop/direct/P244'), ('name', 'Library of Congress authority ID')]\n",
      "[('p', 'http://www.wikidata.org/prop/direct/P2581'), ('name', 'BabelNet ID')]\n",
      "[('p', 'http://www.wikidata.org/prop/direct/P2612'), ('name', 'TED topic ID')]\n",
      "[('p', 'http://www.wikidata.org/prop/direct/P268'), ('name', 'Bibliothèque nationale de France ID')]\n",
      "[('p', 'http://www.wikidata.org/prop/direct/P279'), ('name', 'subclass of')]\n",
      "[('p', 'http://www.wikidata.org/prop/direct/P2959'), ('name', 'permanent duplicated item')]\n",
      "[('p', 'http://www.wikidata.org/prop/direct/P31'), ('name', 'instance of')]\n",
      "[('p', 'http://www.wikidata.org/prop/direct/P3222'), ('name', 'NE.se ID')]\n",
      "[('p', 'http://www.wikidata.org/prop/direct/P3381'), ('name', 'File Format Wiki page ID')]\n",
      "[('p', 'http://www.wikidata.org/prop/direct/P3417'), ('name', 'Quora topic ID')]\n",
      "[('p', 'http://www.wikidata.org/prop/direct/P3553'), ('name', 'Zhihu topic ID')]\n",
      "[('p', 'http://www.wikidata.org/prop/direct/P373'), ('name', 'Commons category')]\n",
      "[('p', 'http://www.wikidata.org/prop/direct/P3827'), ('name', 'JSTOR topic ID')]\n",
      "[('p', 'http://www.wikidata.org/prop/direct/P3847'), ('name', 'Open Library subject ID')]\n",
      "[('p', 'http://www.wikidata.org/prop/direct/P4342'), ('name', 'Store norske leksikon ID')]\n",
      "[('p', 'http://www.wikidata.org/prop/direct/P5008'), ('name', 'on focus list of Wikimedia project')]\n",
      "[('p', 'http://www.wikidata.org/prop/direct/P5019'), ('name', 'Brockhaus Enzyklopädie online ID')]\n",
      "[('p', 'http://www.wikidata.org/prop/direct/P508'), ('name', 'BNCF Thesaurus ID')]\n",
      "[('p', 'http://www.wikidata.org/prop/direct/P527'), ('name', 'has part')]\n",
      "[('p', 'http://www.wikidata.org/prop/direct/P5398'), ('name', 'TDKIV term ID')]\n",
      "[('p', 'http://www.wikidata.org/prop/direct/P571'), ('name', 'inception')]\n",
      "[('p', 'http://www.wikidata.org/prop/direct/P575'), ('name', 'time of discovery or invention')]\n",
      "[('p', 'http://www.wikidata.org/prop/direct/P61'), ('name', 'discoverer or inventor')]\n",
      "[('p', 'http://www.wikidata.org/prop/direct/P6366'), ('name', 'Microsoft Academic ID')]\n",
      "[('p', 'http://www.wikidata.org/prop/direct/P646'), ('name', 'Freebase ID')]\n",
      "[('p', 'http://www.wikidata.org/prop/direct/P6611'), ('name', 'Semantic Scholar topic ID')]\n",
      "[('p', 'http://www.wikidata.org/prop/direct/P7033'), ('name', 'Australian Educational Vocabulary ID')]\n",
      "[('p', 'http://www.wikidata.org/prop/direct/P737'), ('name', 'influenced by')]\n",
      "[('p', 'http://www.wikidata.org/prop/direct/P7818'), ('name', 'French Vikidia ID')]\n",
      "[('p', 'http://www.wikidata.org/prop/direct/P793'), ('name', 'significant event')]\n",
      "[('p', 'http://www.wikidata.org/prop/direct/P8408'), ('name', 'KBpedia ID')]\n",
      "[('p', 'http://www.wikidata.org/prop/direct/P910'), ('name', \"topic's main category\")]\n",
      "[('p', 'http://www.wikidata.org/prop/direct/P935'), ('name', 'Commons gallery')]\n",
      "[('p', 'http://www.wikidata.org/prop/direct/P950'), ('name', 'Biblioteca Nacional de España ID')]\n",
      "[('p', 'http://www.wikidata.org/prop/direct/P2179'), ('name', 'ACM Classification Code (2012)')]\n",
      "[('p', 'http://www.wikidata.org/prop/direct/P3893'), ('name', 'public domain date')]\n",
      "49\n"
     ]
    }
   ],
   "source": [
    "# query example\n",
    "queryString = \"\"\"\n",
    "SELECT DISTINCT ?p ?name\n",
    "WHERE {\n",
    "   # bind something\n",
    "   wd:Q466 ?p ?obj .\n",
    "   # get the label\n",
    "   ?p sc:name ?name.\n",
    "}\n",
    "LIMIT 200\n",
    "\"\"\"\n",
    "\n",
    "print(\"Results\")\n",
    "x=run_query(queryString)"
   ]
  },
  {
   "cell_type": "markdown",
   "id": "afd51f1b",
   "metadata": {},
   "source": [
    "Final query for this task"
   ]
  },
  {
   "cell_type": "code",
   "execution_count": 4,
   "id": "de4f05ce",
   "metadata": {},
   "outputs": [
    {
     "name": "stdout",
     "output_type": "stream",
     "text": [
      "Results\n",
      "[('obj', 'http://www.wikidata.org/entity/Q80'), ('name', 'Tim Berners-Lee')]\n",
      "[('obj', 'http://www.wikidata.org/entity/Q92749'), ('name', 'Robert Cailliau')]\n",
      "2\n"
     ]
    }
   ],
   "source": [
    "# use the specify IRI to find inventor\n",
    "queryString = \"\"\"\n",
    "SELECT DISTINCT ?obj ?name\n",
    "WHERE {\n",
    "   # bind something\n",
    "   wd:Q466 wdt:P61 ?obj .\n",
    "   # get the label\n",
    "   ?obj sc:name ?name.\n",
    "}\n",
    "LIMIT 30\n",
    "\"\"\"\n",
    "\n",
    "print(\"Results\")\n",
    "x=run_query(queryString)"
   ]
  },
  {
   "cell_type": "markdown",
   "id": "3495cfd3",
   "metadata": {},
   "source": [
    "## Task 2\n",
    "Identify the BGP for hypertext system."
   ]
  },
  {
   "cell_type": "code",
   "execution_count": 5,
   "id": "f81031ac",
   "metadata": {},
   "outputs": [
    {
     "name": "stdout",
     "output_type": "stream",
     "text": [
      "Results\n",
      "[('obj', 'http://www.wikidata.org/entity/Q1668024'), ('name', 'service on internet')]\n",
      "[('obj', 'http://www.wikidata.org/entity/Q1076968'), ('name', 'digital media')]\n",
      "[('obj', 'http://www.wikidata.org/entity/Q35127'), ('name', 'website')]\n",
      "[('obj', 'http://www.wikidata.org/entity/Q5460604'), ('name', 'Wikipedia:Vital articles')]\n",
      "[('obj', 'http://www.wikidata.org/entity/Q75'), ('name', 'Internet')]\n",
      "[('obj', 'http://www.wikidata.org/entity/Q80'), ('name', 'Tim Berners-Lee')]\n",
      "[('obj', 'http://www.wikidata.org/entity/Q121182'), ('name', 'information system')]\n",
      "[('obj', 'http://www.wikidata.org/entity/Q65966993'), ('name', 'hypertext system')]\n",
      "[('obj', 'http://www.wikidata.org/entity/Q2385520'), ('name', 'ENQUIRE')]\n",
      "[('obj', 'http://www.wikidata.org/entity/Q7742259'), ('name', 'The Interactive Encyclopedia System')]\n",
      "[('obj', 'http://www.wikidata.org/entity/Q221989'), ('name', 'Deep web')]\n",
      "[('obj', 'http://www.wikidata.org/entity/Q267091'), ('name', 'W3')]\n",
      "[('obj', 'http://www.wikidata.org/entity/Q1053749'), ('name', 'HyperCard')]\n",
      "[('obj', 'http://www.wikidata.org/entity/Q1089465'), ('name', 'decline of newspapers')]\n",
      "[('obj', 'http://www.wikidata.org/entity/Q1393866'), ('name', 'history of the World Wide Web')]\n",
      "[('obj', 'http://www.wikidata.org/entity/Q4897839'), ('name', 'Category:World Wide Web')]\n",
      "[('obj', 'http://www.wikidata.org/entity/Q59164093'), ('name', 'publicly indexable web')]\n",
      "[('obj', 'http://www.wikidata.org/entity/Q92749'), ('name', 'Robert Cailliau')]\n",
      "[('obj', 'http://www.wikidata.org/entity/Q98785838'), ('name', '30th anniversary of the World Wide Web')]\n",
      "19\n"
     ]
    }
   ],
   "source": [
    "# write your queries\n",
    "#find related object\n",
    "queryString = \"\"\"\n",
    "SELECT DISTINCT ?obj ?name\n",
    "WHERE {\n",
    "   # bind something\n",
    "   wd:Q466 ?p ?obj .\n",
    "   # get the label\n",
    "   ?obj sc:name ?name.\n",
    "}\n",
    "LIMIT 30\n",
    "\"\"\"\n",
    "\n",
    "print(\"Results\")\n",
    "x=run_query(queryString)"
   ]
  },
  {
   "cell_type": "markdown",
   "id": "a141274b",
   "metadata": {},
   "source": [
    "Final query for this task"
   ]
  },
  {
   "cell_type": "code",
   "execution_count": 6,
   "id": "d61ba271",
   "metadata": {},
   "outputs": [
    {
     "name": "stdout",
     "output_type": "stream",
     "text": [
      "Results\n",
      "[('obj', 'http://www.wikidata.org/entity/Q65966993'), ('name', 'hypertext system')]\n",
      "1\n"
     ]
    }
   ],
   "source": [
    "# write your final query\n",
    "#find specific goal\n",
    "queryString = \"\"\"\n",
    "SELECT DISTINCT ?obj ?name\n",
    "WHERE {\n",
    "   # bind something\n",
    "   wd:Q466 ?p ?obj .\n",
    "   # get the label\n",
    "   ?obj sc:name ?name.\n",
    "   FILTER regex(?name , 'hypertext system').\n",
    "}\n",
    "\n",
    "LIMIT 30\n",
    "\"\"\"\n",
    "\n",
    "print(\"Results\")\n",
    "x=run_query(queryString)\n"
   ]
  },
  {
   "cell_type": "markdown",
   "id": "086cc4b2",
   "metadata": {
    "tags": []
   },
   "source": [
    "## Task 3\n",
    "Find all the hypertext systems born before the 1980 (return the IRI and name of the system and the inception date)."
   ]
  },
  {
   "cell_type": "code",
   "execution_count": 82,
   "id": "2559aafe",
   "metadata": {},
   "outputs": [
    {
     "name": "stdout",
     "output_type": "stream",
     "text": [
      "Results\n",
      "[('p', 'http://www.wikidata.org/prop/direct/P1051'), ('name', 'PSH ID')]\n",
      "[('p', 'http://www.wikidata.org/prop/direct/P1225'), ('name', 'U.S. National Archives Identifier')]\n",
      "[('p', 'http://www.wikidata.org/prop/direct/P1417'), ('name', 'Encyclopædia Britannica Online ID')]\n",
      "[('p', 'http://www.wikidata.org/prop/direct/P1430'), ('name', 'OpenPlaques subject ID')]\n",
      "[('p', 'http://www.wikidata.org/prop/direct/P1482'), ('name', 'Stack Exchange tag')]\n",
      "[('p', 'http://www.wikidata.org/prop/direct/P1542'), ('name', 'has effect')]\n",
      "[('p', 'http://www.wikidata.org/prop/direct/P1813'), ('name', 'short name')]\n",
      "[('p', 'http://www.wikidata.org/prop/direct/P1889'), ('name', 'different from')]\n",
      "[('p', 'http://www.wikidata.org/prop/direct/P2004'), ('name', 'NALT ID')]\n",
      "[('p', 'http://www.wikidata.org/prop/direct/P2163'), ('name', 'FAST ID')]\n",
      "[('p', 'http://www.wikidata.org/prop/direct/P2184'), ('name', 'history of topic')]\n",
      "[('p', 'http://www.wikidata.org/prop/direct/P227'), ('name', 'GND ID')]\n",
      "[('p', 'http://www.wikidata.org/prop/direct/P2347'), ('name', 'YSO ID')]\n",
      "[('p', 'http://www.wikidata.org/prop/direct/P244'), ('name', 'Library of Congress authority ID')]\n",
      "[('p', 'http://www.wikidata.org/prop/direct/P2581'), ('name', 'BabelNet ID')]\n",
      "[('p', 'http://www.wikidata.org/prop/direct/P2612'), ('name', 'TED topic ID')]\n",
      "[('p', 'http://www.wikidata.org/prop/direct/P268'), ('name', 'Bibliothèque nationale de France ID')]\n",
      "[('p', 'http://www.wikidata.org/prop/direct/P279'), ('name', 'subclass of')]\n",
      "[('p', 'http://www.wikidata.org/prop/direct/P2959'), ('name', 'permanent duplicated item')]\n",
      "[('p', 'http://www.wikidata.org/prop/direct/P31'), ('name', 'instance of')]\n",
      "[('p', 'http://www.wikidata.org/prop/direct/P3222'), ('name', 'NE.se ID')]\n",
      "[('p', 'http://www.wikidata.org/prop/direct/P3381'), ('name', 'File Format Wiki page ID')]\n",
      "[('p', 'http://www.wikidata.org/prop/direct/P3417'), ('name', 'Quora topic ID')]\n",
      "[('p', 'http://www.wikidata.org/prop/direct/P3553'), ('name', 'Zhihu topic ID')]\n",
      "[('p', 'http://www.wikidata.org/prop/direct/P373'), ('name', 'Commons category')]\n",
      "[('p', 'http://www.wikidata.org/prop/direct/P3827'), ('name', 'JSTOR topic ID')]\n",
      "[('p', 'http://www.wikidata.org/prop/direct/P3847'), ('name', 'Open Library subject ID')]\n",
      "[('p', 'http://www.wikidata.org/prop/direct/P4342'), ('name', 'Store norske leksikon ID')]\n",
      "[('p', 'http://www.wikidata.org/prop/direct/P5008'), ('name', 'on focus list of Wikimedia project')]\n",
      "[('p', 'http://www.wikidata.org/prop/direct/P5019'), ('name', 'Brockhaus Enzyklopädie online ID')]\n",
      "[('p', 'http://www.wikidata.org/prop/direct/P508'), ('name', 'BNCF Thesaurus ID')]\n",
      "[('p', 'http://www.wikidata.org/prop/direct/P527'), ('name', 'has part')]\n",
      "[('p', 'http://www.wikidata.org/prop/direct/P5398'), ('name', 'TDKIV term ID')]\n",
      "[('p', 'http://www.wikidata.org/prop/direct/P571'), ('name', 'inception')]\n",
      "[('p', 'http://www.wikidata.org/prop/direct/P575'), ('name', 'time of discovery or invention')]\n",
      "35\n"
     ]
    }
   ],
   "source": [
    "# write your querie\n",
    "# with this querie we can find the IRI of inception and time. (P571 and P575)\n",
    "queryString = \"\"\"\n",
    "SELECT DISTINCT ?p ?name\n",
    "WHERE {\n",
    "    # bind something\n",
    "   wd:Q466 ?p ?obj.\n",
    "   # get the label\n",
    "   ?p sc:name ?name.\n",
    "   \n",
    "   \n",
    "}\n",
    "LIMIT 35\n",
    "\"\"\"\n",
    "\n",
    "print(\"Results\")\n",
    "x=run_query(queryString)"
   ]
  },
  {
   "cell_type": "markdown",
   "id": "ae199cfd-e677-4d7c-bf60-2cd01d825091",
   "metadata": {},
   "source": [
    "wd:Q65966993"
   ]
  },
  {
   "cell_type": "code",
   "execution_count": 93,
   "id": "4ff265c3-155c-4ee3-973a-aec9290a289d",
   "metadata": {},
   "outputs": [
    {
     "name": "stdout",
     "output_type": "stream",
     "text": [
      "Results\n",
      "[('p', 'http://www.wikidata.org/prop/direct/P31'), ('name', 'instance of')]\n",
      "1\n"
     ]
    }
   ],
   "source": [
    "# write your queries\n",
    "# get the useful propertise\n",
    "queryString = \"\"\"\n",
    "SELECT DISTINCT ?p ?name \n",
    "WHERE {\n",
    "    # bind something\n",
    "   wd:Q466 ?p wd:Q65966993.\n",
    "   # get the label\n",
    "   ?p sc:name ?name.\n",
    "   \n",
    "   \n",
    "}\n",
    "LIMIT 35\n",
    "\"\"\"\n",
    "\n",
    "print(\"Results\")\n",
    "x=run_query(queryString)"
   ]
  },
  {
   "cell_type": "markdown",
   "id": "040bb907",
   "metadata": {},
   "source": [
    "Final query for this task"
   ]
  },
  {
   "cell_type": "code",
   "execution_count": 125,
   "id": "8893d310",
   "metadata": {},
   "outputs": [
    {
     "name": "stdout",
     "output_type": "stream",
     "text": [
      "Results\n",
      "[('p', 'http://www.wikidata.org/entity/Q17155032'), ('name', 'Aspen Movie Map'), ('inception_date', '1978')]\n",
      "[('p', 'http://www.wikidata.org/entity/Q17155032'), ('name', 'Electronic Document System'), ('inception_date', '1978')]\n",
      "[('p', 'http://www.wikidata.org/entity/Q17155032'), ('name', 'ZOG'), ('inception_date', '1977')]\n",
      "[('p', 'http://www.wikidata.org/entity/Q17155032'), ('name', 'File Retrieval and Editing System'), ('inception_date', '1968')]\n",
      "[('p', 'http://www.wikidata.org/entity/Q17155032'), ('name', 'Hypertext Editing System'), ('inception_date', '1967')]\n",
      "[('p', 'http://www.wikidata.org/entity/Q17155032'), ('name', 'oNLine System'), ('inception_date', '1962')]\n",
      "[('p', 'http://www.wikidata.org/entity/Q17155032'), ('name', 'Project Xanadu'), ('inception_date', '1960')]\n",
      "[('p', 'http://www.wikidata.org/entity/Q17155032'), ('name', 'Memex'), ('inception_date', '1939')]\n",
      "8\n"
     ]
    }
   ],
   "source": [
    "# write your final query\n",
    "queryString = \"\"\"\n",
    "SELECT DISTINCT ?p ?name (YEAR(?when) as ?inception_date)\n",
    "WHERE {\n",
    "# bind something\n",
    "    wd:Q65966993 wdt:P31 ?p.\n",
    "    ?instance_of_hypertext wdt:P31 wd:Q65966993;\n",
    "    wdt:P571 ?when.\n",
    "    # get the label\n",
    "    ?instance_of_hypertext sc:name ?name.\n",
    "    FILTER(YEAR(?when) < 1980)\n",
    "}\n",
    "order by desc (?when)\n",
    "LIMIT 30\n",
    "\"\"\"\n",
    "print(\"Results\")\n",
    "x=run_query(queryString)"
   ]
  },
  {
   "cell_type": "markdown",
   "id": "550856bb",
   "metadata": {},
   "source": [
    "## Task 4\n",
    "Identify the BGP for computer scientist"
   ]
  },
  {
   "cell_type": "code",
   "execution_count": 8,
   "id": "8e305c54",
   "metadata": {},
   "outputs": [
    {
     "name": "stdout",
     "output_type": "stream",
     "text": [
      "Results\n",
      "[('s', 'http://www.wikidata.org/entity/Q82594'), ('name', 'computer scientist')]\n",
      "1\n"
     ]
    }
   ],
   "source": [
    "# write your queries\n",
    "# find sutible subject by using the filter\n",
    "queryString = \"\"\"\n",
    "SELECT DISTINCT ?s ?name\n",
    "WHERE {\n",
    "   # bind something\n",
    "   ?s ?p ?o.\n",
    "   # get the label\n",
    "   ?s sc:name ?name.\n",
    "   FILTER REGEX(?name,'computer scientist').\n",
    "}\n",
    "LIMIT 1\n",
    "\"\"\"\n",
    "\n",
    "print(\"Results\")\n",
    "x=run_query(queryString)"
   ]
  },
  {
   "cell_type": "markdown",
   "id": "b52fcbdd",
   "metadata": {},
   "source": [
    "Final query for this task"
   ]
  },
  {
   "cell_type": "code",
   "execution_count": 13,
   "id": "328efc77",
   "metadata": {},
   "outputs": [
    {
     "name": "stdout",
     "output_type": "stream",
     "text": [
      "Results\n",
      "[('obj', 'http://www.wikidata.org/entity/Q5157338'), ('name', 'computational scientist')]\n",
      "[('obj', 'http://www.wikidata.org/entity/Q1650915'), ('name', 'researcher')]\n",
      "[('obj', 'http://www.wikidata.org/entity/Q21198'), ('name', 'computer science')]\n",
      "[('obj', 'http://www.wikidata.org/entity/Q28640'), ('name', 'profession')]\n",
      "[('obj', 'http://www.wikidata.org/entity/Q2476620'), ('name', 'list of computer scientists')]\n",
      "[('obj', 'http://www.wikidata.org/entity/Q4991224'), ('name', 'Category:Computer scientists')]\n",
      "[('obj', 'http://www.wikidata.org/entity/Q5157565'), ('name', 'computer professional')]\n",
      "[('obj', 'http://www.wikidata.org/entity/Q166876'), ('name', 'Isidore of Seville')]\n",
      "[('obj', 'http://www.wikidata.org/entity/Q66747123'), ('name', 'computer science terminology')]\n",
      "[('obj', 'http://www.wikidata.org/entity/Q56604309'), ('name', 'IT professional')]\n",
      "10\n"
     ]
    }
   ],
   "source": [
    "# write your final query\n",
    "# find the related object \n",
    "queryString = \"\"\"\n",
    "SELECT DISTINCT ?obj ?name\n",
    "WHERE {\n",
    "   # bind something\n",
    "   wd:Q82594 ?p ?obj .\n",
    "   # get the label\n",
    "   ?obj sc:name ?name.\n",
    "}\n",
    "LIMIT 30\n",
    "\"\"\"\n",
    "\n",
    "print(\"Results\")\n",
    "x=run_query(queryString)"
   ]
  },
  {
   "cell_type": "markdown",
   "id": "ce042c60",
   "metadata": {},
   "source": [
    "## Task 5\n",
    "Find how many computer scientists there are for each continent (consider their citizenship). Return the IRI and name of the continent and the number of scientists for each continent."
   ]
  },
  {
   "cell_type": "code",
   "execution_count": 15,
   "id": "e2a914db",
   "metadata": {},
   "outputs": [
    {
     "name": "stdout",
     "output_type": "stream",
     "text": [
      "Results\n",
      "[('s', 'http://www.wikidata.org/prop/direct/P30'), ('name', 'continent')]\n",
      "[('s', 'http://www.wikidata.org/entity/Q8087154'), ('name', 'Category:10th century BC by continent')]\n",
      "[('s', 'http://www.wikidata.org/entity/Q8196566'), ('name', 'Category:2009 swine flu pandemic by continent')]\n",
      "[('s', 'http://www.wikidata.org/entity/Q8208477'), ('name', 'Category:2nd century BC by continent')]\n",
      "[('s', 'http://www.wikidata.org/entity/Q8209910'), ('name', 'Category:3rd century BC by continent')]\n",
      "[('s', 'http://www.wikidata.org/entity/Q8210661'), ('name', 'Category:4th century BC by continent')]\n",
      "[('s', 'http://www.wikidata.org/entity/Q8211457'), ('name', 'Category:5th century BC by continent')]\n",
      "[('s', 'http://www.wikidata.org/entity/Q8212079'), ('name', 'Category:6th century BC by continent')]\n",
      "[('s', 'http://www.wikidata.org/entity/Q8213449'), ('name', 'Category:8th century BC by continent')]\n",
      "[('s', 'http://www.wikidata.org/entity/Q8214335'), ('name', 'Category:9th century BC by continent')]\n",
      "[('s', 'http://www.wikidata.org/entity/Q8218499'), ('name', 'Category:Abolitionism by continent')]\n",
      "[('s', 'http://www.wikidata.org/entity/Q8350239'), ('name', 'Category:1592 by continent')]\n",
      "[('s', 'http://www.wikidata.org/entity/Q8366067'), ('name', 'Category:Christian monasteries by continent')]\n",
      "[('s', 'http://www.wikidata.org/entity/Q8385283'), ('name', 'Category:Diving by continent')]\n",
      "[('s', 'http://www.wikidata.org/entity/Q8404701'), ('name', 'Category:Company stubs by continent')]\n",
      "[('s', 'http://www.wikidata.org/entity/Q8413908'), ('name', 'Category:Energy infrastructure by continent')]\n",
      "[('s', 'http://www.wikidata.org/entity/Q8432315'), ('name', 'Category:Extinct mammals by continent')]\n",
      "[('s', 'http://www.wikidata.org/entity/Q8452614'), ('name', 'Category:Films by continent of shooting location')]\n",
      "[('s', 'http://www.wikidata.org/entity/Q9398773'), ('name', 'Category:1591 by continent')]\n",
      "[('s', 'http://www.wikidata.org/entity/Q9398781'), ('name', 'Category:1593 by continent')]\n",
      "[('s', 'http://www.wikidata.org/entity/Q8634337'), ('name', 'Category:Rapid transit by continent')]\n",
      "[('s', 'http://www.wikidata.org/entity/Q8637312'), ('name', 'Category:Modern pentathlon by continent')]\n",
      "[('s', 'http://www.wikidata.org/entity/Q8644805'), ('name', 'Category:Referendums by continent')]\n",
      "[('s', 'http://www.wikidata.org/entity/Q8687125'), ('name', 'Category:Rugby union by continent')]\n",
      "[('s', 'http://www.wikidata.org/entity/Q8689028'), ('name', 'Category:Novels by continent of setting')]\n",
      "[('s', 'http://www.wikidata.org/entity/Q6290363'), ('name', 'Category:Administrative divisions by continent')]\n",
      "[('s', 'http://www.wikidata.org/entity/Q15754493'), ('name', 'Midcontinental Journal of Archaeology')]\n",
      "[('s', 'http://www.wikidata.org/entity/Q15872020'), ('name', 'Category:Archaeological cultures by continent')]\n",
      "[('s', 'http://www.wikidata.org/entity/Q9094257'), ('name', 'Category:Castles by continent')]\n",
      "[('s', 'http://www.wikidata.org/entity/Q16043437'), ('name', 'Template:Infobox continental football')]\n",
      "30\n"
     ]
    }
   ],
   "source": [
    "# write your queries\n",
    "# at first we find the continent IRI\n",
    "queryString = \"\"\"\n",
    "SELECT DISTINCT ?s ?name\n",
    "WHERE {\n",
    "   # bind something\n",
    "   ?s ?p ?obj .\n",
    "   # get the label\n",
    "   ?s sc:name ?name.\n",
    "   FILTER REGEX(?name, 'continent')\n",
    "}\n",
    "LIMIT 30\n",
    "\"\"\"\n",
    "\n",
    "print(\"Results\")\n",
    "x=run_query(queryString)"
   ]
  },
  {
   "cell_type": "code",
   "execution_count": 47,
   "id": "be11e7aa-aa65-4d6e-984a-639a4135c810",
   "metadata": {},
   "outputs": [
    {
     "name": "stdout",
     "output_type": "stream",
     "text": [
      "Results\n",
      "[('p', 'http://www.wikidata.org/prop/direct/P101'), ('name', 'field of work')]\n",
      "1\n"
     ]
    }
   ],
   "source": [
    "# write your queries\n",
    "queryString = \"\"\"\n",
    "SELECT DISTINCT ?p ?name\n",
    "WHERE {\n",
    "   # bind something\n",
    "   ?s ?p wd:Q82594.\n",
    "   # get the label\n",
    "   ?p sc:name ?name.\n",
    "   Filter regex(?p , 'field of work').\n",
    "}\n",
    "LIMIT 30\n",
    "\"\"\"\n",
    "\n",
    "print(\"Results\")\n",
    "x=run_query(queryString)\n"
   ]
  },
  {
   "cell_type": "markdown",
   "id": "b5614533",
   "metadata": {},
   "source": [
    "Final query for this task"
   ]
  },
  {
   "cell_type": "code",
   "execution_count": 28,
   "id": "eb9a0ee2",
   "metadata": {},
   "outputs": [
    {
     "name": "stdout",
     "output_type": "stream",
     "text": [
      "Results\n",
      "[('p', 'http://www.wikidata.org/entity/Q7417239'), ('name', 'Sandy Douglas'), ('nationality', 'United Kingdom')]\n",
      "[('p', 'http://www.wikidata.org/entity/Q101044866'), ('name', 'Jordan J Bird'), ('nationality', 'United Kingdom')]\n",
      "[('p', 'http://www.wikidata.org/entity/Q92608'), ('name', 'Brian Kernighan'), ('nationality', 'Canada')]\n",
      "[('p', 'http://www.wikidata.org/entity/Q5721658'), ('name', 'Henry Fuchs'), ('nationality', 'United States of America')]\n",
      "[('p', 'http://www.wikidata.org/entity/Q7563'), ('name', 'Joyce K. Reynolds'), ('nationality', 'United States of America')]\n",
      "[('p', 'http://www.wikidata.org/entity/Q92631'), ('name', 'Raymond Tomlinson'), ('nationality', 'United States of America')]\n",
      "[('p', 'http://www.wikidata.org/entity/Q14111'), ('name', 'Diane Pozefsky'), ('nationality', 'United States of America')]\n",
      "[('p', 'http://www.wikidata.org/entity/Q2387083'), ('name', 'Joel Spolsky'), ('nationality', 'United States of America')]\n",
      "[('p', 'http://www.wikidata.org/entity/Q16002140'), ('name', 'Anastasia Ailamaki'), ('nationality', 'United States of America')]\n",
      "[('p', 'http://www.wikidata.org/entity/Q93057'), ('name', 'Neil Immerman'), ('nationality', 'United States of America')]\n",
      "[('p', 'http://www.wikidata.org/entity/Q92822'), ('name', 'Richard E. Stearns'), ('nationality', 'United States of America')]\n",
      "[('p', 'http://www.wikidata.org/entity/Q92617'), ('name', 'Paul Baran'), ('nationality', 'United States of America')]\n",
      "[('p', 'http://www.wikidata.org/entity/Q11775'), ('name', 'Ming C. Lin'), ('nationality', 'United States of America')]\n",
      "[('p', 'http://www.wikidata.org/entity/Q92608'), ('name', 'Brian Kernighan'), ('nationality', 'United States of America')]\n",
      "[('p', 'http://www.wikidata.org/entity/Q564153'), ('name', 'Stalking Cat'), ('nationality', 'United States of America')]\n",
      "[('p', 'http://www.wikidata.org/entity/Q5342500'), ('name', 'Edward D. Lazowska'), ('nationality', 'United States of America')]\n",
      "[('p', 'http://www.wikidata.org/entity/Q3178997'), ('name', 'Steve Crocker'), ('nationality', 'United States of America')]\n",
      "[('p', 'http://www.wikidata.org/entity/Q15995425'), ('name', 'Michael Reiter'), ('nationality', 'United States of America')]\n",
      "[('p', 'http://www.wikidata.org/entity/Q62852'), ('name', 'Ted Nelson'), ('nationality', 'United States of America')]\n",
      "[('p', 'http://www.wikidata.org/entity/Q9151531'), ('name', 'Andrzej Bendig-Wielowiejski'), ('nationality', 'Poland')]\n",
      "[('p', 'http://www.wikidata.org/entity/Q9382075'), ('name', 'Władysław Marek Turski'), ('nationality', 'Poland')]\n",
      "[('p', 'http://www.wikidata.org/entity/Q92617'), ('name', 'Paul Baran'), ('nationality', 'Poland')]\n",
      "[('p', 'http://www.wikidata.org/entity/Q8080931'), ('name', 'Łukasz Foltyn'), ('nationality', 'Poland')]\n",
      "[('p', 'http://www.wikidata.org/entity/Q11770087'), ('name', 'Mariusz Flasiński'), ('nationality', 'Poland')]\n",
      "[('p', 'http://www.wikidata.org/entity/Q24623634'), ('name', 'Stanisław Szpunar'), ('nationality', 'Poland')]\n",
      "[('p', 'http://www.wikidata.org/entity/Q6225059'), ('name', 'John Canny'), ('nationality', 'Australia')]\n",
      "[('p', 'http://www.wikidata.org/entity/Q10324599'), ('name', 'Manuel da Silva Rosa'), ('nationality', 'Portugal')]\n",
      "[('p', 'http://www.wikidata.org/entity/Q2387083'), ('name', 'Joel Spolsky'), ('nationality', 'New Zealand')]\n",
      "[('p', 'http://www.wikidata.org/entity/Q25492664'), ('name', 'Yossi HarShoshanim'), ('nationality', 'Israel')]\n",
      "[('p', 'http://www.wikidata.org/entity/Q445754'), ('name', 'Manal al-Sharif'), ('nationality', 'Saudi Arabia')]\n",
      "30\n"
     ]
    }
   ],
   "source": [
    "# write your final query\n",
    "queryString = \"\"\"\n",
    "SELECT DISTINCT ?p ?name ?nationality \n",
    "WHERE {\n",
    "    # bind something\n",
    "    ?p wdt:P101 wd:Q82594;\n",
    "        wdt:P27 ?o.\n",
    "    # get the label\n",
    "    ?p  sc:name ?name.\n",
    "    ?o sc:name ?nationality.\n",
    "}\n",
    "LIMIT 30\n",
    "\"\"\"\n",
    "print(\"Results\")\n",
    "x=run_query(queryString)"
   ]
  },
  {
   "cell_type": "code",
   "execution_count": 60,
   "id": "9cf147df-2cab-46b9-9775-9a96a4d8707a",
   "metadata": {},
   "outputs": [
    {
     "name": "stdout",
     "output_type": "stream",
     "text": [
      "Results\n",
      "[('p', 'http://www.wikidata.org/prop/direct/P106'), ('name', 'occupation')]\n",
      "1\n"
     ]
    }
   ],
   "source": [
    "# write your final query\n",
    "# by find the occupation we can reach to goal\n",
    "queryString = \"\"\"\n",
    "SELECT DISTINCT ?p ?name\n",
    "WHERE {\n",
    "   # bind something\n",
    "   ?s ?p wd:Q82594.\n",
    "   # get the label\n",
    "   ?p sc:name ?name.\n",
    "   Filter regex(?name , 'occupation').\n",
    "}\n",
    "LIMIT 30\n",
    "\"\"\"\n",
    "\n",
    "print(\"Results\")\n",
    "x=run_query(queryString)"
   ]
  },
  {
   "cell_type": "code",
   "execution_count": 56,
   "id": "77652497-5177-40a5-84ef-b41c9eb507d5",
   "metadata": {},
   "outputs": [
    {
     "name": "stdout",
     "output_type": "stream",
     "text": [
      "Results\n",
      "[('num', '23'), ('continent', 'http://www.wikidata.org/entity/Q5401'), ('cname', 'Eurasia')]\n",
      "[('num', '76'), ('continent', 'http://www.wikidata.org/entity/Q15'), ('cname', 'Africa')]\n",
      "[('num', '92'), ('continent', 'http://www.wikidata.org/entity/Q18'), ('cname', 'South America')]\n",
      "[('num', '955'), ('continent', 'http://www.wikidata.org/entity/Q48'), ('cname', 'Asia')]\n",
      "[('num', '2500'), ('continent', 'http://www.wikidata.org/entity/Q538'), ('cname', 'Insular Oceania')]\n",
      "[('num', '2802'), ('continent', 'http://www.wikidata.org/entity/Q49'), ('cname', 'North America')]\n",
      "[('num', '3496'), ('continent', 'http://www.wikidata.org/entity/Q46'), ('cname', 'Europe')]\n",
      "7\n"
     ]
    }
   ],
   "source": [
    "# write your queries\n",
    "queryString = \"\"\"\n",
    "SELECT DISTINCT (count(?nationality) as ?num) ?continent ?cname\n",
    "WHERE {\n",
    "    # bind something\n",
    "    ?person wdt:P101|wdt:P106 wd:Q82594;\n",
    "    wdt:P27 ?nationality.\n",
    "    ?nationality wdt:P30 ?continent.\n",
    "    # get the label\n",
    "    ?continent sc:name ?cname.\n",
    "}\n",
    "order by (?num)\n",
    "LIMIT 15\n",
    "\"\"\"\n",
    "print(\"Results\")\n",
    "x=run_query(queryString)"
   ]
  },
  {
   "cell_type": "markdown",
   "id": "3c51eca1",
   "metadata": {},
   "source": [
    "## Task 6\n",
    "Find all the computer scientists who thaught at the University of Cambridge (return IRI and name)"
   ]
  },
  {
   "cell_type": "code",
   "execution_count": 36,
   "id": "6f2719e0",
   "metadata": {},
   "outputs": [
    {
     "name": "stdout",
     "output_type": "stream",
     "text": [
      "Results\n",
      "[('s', 'http://www.wikidata.org/entity/Q8216424'), ('name', 'Category:A-Class University of Cambridge articles')]\n",
      "[('s', 'http://www.wikidata.org/entity/Q8237338'), ('name', 'Category:Alumni of the University of Cambridge by college')]\n",
      "[('s', 'http://www.wikidata.org/entity/Q8384467'), ('name', 'Category:Clubs and societies of the University of Cambridge')]\n",
      "[('s', 'http://www.wikidata.org/entity/Q8703567'), ('name', 'Category:Organisations associated with the University of Cambridge')]\n",
      "[('s', 'http://www.wikidata.org/entity/Q30679767'), ('name', 'Category:University of Cambridge Chancellor elections')]\n",
      "[('s', 'http://www.wikidata.org/entity/Q35794'), ('name', 'University of Cambridge')]\n",
      "[('s', 'http://www.wikidata.org/entity/Q41795465'), ('name', 'honorary doctor of the University of Cambridge')]\n",
      "[('s', 'http://www.wikidata.org/entity/Q8882934'), ('name', 'Category:University of Cambridge examinations')]\n",
      "[('s', 'http://www.wikidata.org/entity/Q8942672'), ('name', 'Category:Wikipedians by alma mater: University of Cambridge')]\n",
      "[('s', 'http://www.wikidata.org/entity/Q25029443'), ('name', 'Category:Members of the University of Cambridge Department of Engineering')]\n",
      "10\n"
     ]
    }
   ],
   "source": [
    "# write your queries\n",
    "# at first we try to find Cambridge University\n",
    "queryString = \"\"\"\n",
    "SELECT DISTINCT ?s ?name\n",
    "WHERE {\n",
    "    # bind something\n",
    "    ?s ?p ?o.\n",
    "    # get the label\n",
    "    ?s sc:name ?name.\n",
    "    FILTER Regex(?name, 'University of Cambridge')\n",
    "}\n",
    "LIMIT 10\n",
    "\"\"\"\n",
    "print(\"Results\")\n",
    "x=run_query(queryString)"
   ]
  },
  {
   "cell_type": "code",
   "execution_count": 39,
   "id": "672a2499",
   "metadata": {},
   "outputs": [
    {
     "name": "stdout",
     "output_type": "stream",
     "text": [
      "Results\n",
      "[('s', 'http://www.wikidata.org/entity/Q92944'), ('sname', 'David Wheeler')]\n",
      "[('s', 'http://www.wikidata.org/entity/Q7251'), ('sname', 'Alan Turing')]\n",
      "[('s', 'http://www.wikidata.org/entity/Q46633'), ('sname', 'Charles Babbage')]\n",
      "[('s', 'http://www.wikidata.org/entity/Q62857'), ('sname', 'Maurice Wilkes')]\n",
      "[('s', 'http://www.wikidata.org/entity/Q92873'), ('sname', 'Roger Michael Needham')]\n",
      "[('s', 'http://www.wikidata.org/entity/Q7821956'), ('sname', 'Tony Brooker')]\n",
      "6\n"
     ]
    }
   ],
   "source": [
    "# Final query for this task\n",
    "#from result of task we can use Q21198 for computer science\n",
    "queryString = \"\"\"\n",
    "SELECT DISTINCT ?s ?sname\n",
    "WHERE {\n",
    "    # bind something\n",
    "    ?s wdt:P101 wd:Q21198;\n",
    "    wdt:P108 wd:Q35794.\n",
    "    # get the label\n",
    "    ?s sc:name ?sname.\n",
    "}\n",
    "LIMIT 20\n",
    "\"\"\"\n",
    "print(\"Results\")\n",
    "x=run_query(queryString)\n"
   ]
  },
  {
   "cell_type": "markdown",
   "id": "893de6f2",
   "metadata": {},
   "source": [
    "## Task 7\n",
    "Find all the computer scientists who wrote at least 5 books (please consider only the instances of book, exclude \"literary work\" or other type of work related to books). Return the IRI and name of the computer scientist and the number of books."
   ]
  },
  {
   "cell_type": "code",
   "execution_count": 99,
   "id": "c137a080",
   "metadata": {},
   "outputs": [
    {
     "name": "stdout",
     "output_type": "stream",
     "text": [
      "Results\n",
      "[('s', 'http://www.wikidata.org/entity/Q8190500'), ('name', 'Seinosuke Toda')]\n",
      "[('s', 'http://www.wikidata.org/entity/Q603999'), ('name', 'Kevin Poulsen')]\n",
      "[('s', 'http://www.wikidata.org/entity/Q11109023'), ('name', 'Michael Barr')]\n",
      "[('s', 'http://www.wikidata.org/entity/Q20731777'), ('name', 'Valeria de Paiva')]\n",
      "[('s', 'http://www.wikidata.org/entity/Q24901829'), ('name', 'Ernesto Damiani')]\n",
      "[('s', 'http://www.wikidata.org/entity/Q61856956'), ('name', 'Richard Garner')]\n",
      "[('s', 'http://www.wikidata.org/entity/Q6539960'), ('name', 'Liang-Jie Zhang')]\n",
      "[('s', 'http://www.wikidata.org/entity/Q92669'), ('name', 'Jeffrey Shallit')]\n",
      "[('s', 'http://www.wikidata.org/entity/Q15842362'), ('name', 'Richard Clippinger')]\n",
      "[('s', 'http://www.wikidata.org/entity/Q15858435'), ('name', 'Hardo Bourguignon')]\n",
      "[('s', 'http://www.wikidata.org/entity/Q15917430'), ('name', 'A. Ollongren')]\n",
      "[('s', 'http://www.wikidata.org/entity/Q16018928'), ('name', 'Jim Thomas')]\n",
      "[('s', 'http://www.wikidata.org/entity/Q241735'), ('name', 'Robert Noyce')]\n",
      "[('s', 'http://www.wikidata.org/entity/Q7312654'), ('name', 'Renato M. E. Sabbatini')]\n",
      "[('s', 'http://www.wikidata.org/entity/Q16174254'), ('name', 'Drude Berntsen')]\n",
      "[('s', 'http://www.wikidata.org/entity/Q16186703'), ('name', 'Timothy J. Hickey')]\n",
      "[('s', 'http://www.wikidata.org/entity/Q16193458'), ('name', 'Terry Myerson')]\n",
      "[('s', 'http://www.wikidata.org/entity/Q16194868'), ('name', 'Ross Williams')]\n",
      "[('s', 'http://www.wikidata.org/entity/Q16195136'), ('name', 'Frans Kaashoek')]\n",
      "[('s', 'http://www.wikidata.org/entity/Q16195669'), ('name', 'William Martens')]\n",
      "20\n"
     ]
    }
   ],
   "source": [
    "# write your queries\n",
    "queryString = \"\"\"\n",
    "SELECT DISTINCT ?s ?name\n",
    "WHERE {\n",
    "    # bind something\n",
    "    ?s ?p wd:Q82594.\n",
    "    # get the label\n",
    "    ?s sc:name ?name.\n",
    "}\n",
    "LIMIT 20\n",
    "\"\"\"\n",
    "print(\"Results\")\n",
    "x=run_query(queryString)\n"
   ]
  },
  {
   "cell_type": "markdown",
   "id": "8e7ce426",
   "metadata": {},
   "source": [
    "Final query for this task"
   ]
  },
  {
   "cell_type": "code",
   "execution_count": 112,
   "id": "d0a3b04d",
   "metadata": {},
   "outputs": [
    {
     "name": "stdout",
     "output_type": "stream",
     "text": [
      "Results\n",
      "[('p', 'http://www.wikidata.org/entity/P348'), ('Bname', 'software version identifier'), ('Pname', 'Seinosuke Toda')]\n",
      "[('p', 'http://www.wikidata.org/entity/P4669'), ('Bname', 'tabular software version'), ('Pname', 'Seinosuke Toda')]\n",
      "[('p', 'http://www.wikidata.org/entity/P747'), ('Bname', 'has edition or translation'), ('Pname', 'Seinosuke Toda')]\n",
      "[('p', 'http://www.wikidata.org/entity/Q1002728'), ('Bname', 'Fonsi Nieto'), ('Pname', 'Seinosuke Toda')]\n",
      "[('p', 'http://www.wikidata.org/entity/Q100326534'), ('Bname', \"Al Stewart's albums in chronological order\"), ('Pname', 'Seinosuke Toda')]\n",
      "[('p', 'http://www.wikidata.org/entity/Q100327667'), ('Bname', 'Category:Adelina Lopes Vieira'), ('Pname', 'Seinosuke Toda')]\n",
      "[('p', 'http://www.wikidata.org/entity/Q100343342'), ('Bname', 'Lubomír Stoklásek'), ('Pname', 'Seinosuke Toda')]\n",
      "[('p', 'http://www.wikidata.org/entity/Q1007576'), ('Bname', 'Ciudad Vieja'), ('Pname', 'Seinosuke Toda')]\n",
      "[('p', 'http://www.wikidata.org/entity/Q100879156'), ('Bname', 'Echániz'), ('Pname', 'Seinosuke Toda')]\n",
      "[('p', 'http://www.wikidata.org/entity/Q10100'), ('Bname', 'Natuna'), ('Pname', 'Seinosuke Toda')]\n",
      "[('p', 'http://www.wikidata.org/entity/Q101032298'), ('Bname', \"Acid Mothers Temple's albums in chronological order\"), ('Pname', 'Seinosuke Toda')]\n",
      "[('p', 'http://www.wikidata.org/entity/Q101042154'), ('Bname', 'Relaño'), ('Pname', 'Seinosuke Toda')]\n",
      "[('p', 'http://www.wikidata.org/entity/Q10121707'), ('Bname', '2002 in transport'), ('Pname', 'Seinosuke Toda')]\n",
      "[('p', 'http://www.wikidata.org/entity/Q10130131'), ('Bname', '2006 in transport'), ('Pname', 'Seinosuke Toda')]\n",
      "[('p', 'http://www.wikidata.org/entity/Q10145708'), ('Bname', 'Category:1920 elections in Oceania'), ('Pname', 'Seinosuke Toda')]\n",
      "[('p', 'http://www.wikidata.org/entity/Q10147007'), ('Bname', 'Category:2002 elections in South America'), ('Pname', 'Seinosuke Toda')]\n",
      "[('p', 'http://www.wikidata.org/entity/Q10176484'), ('Bname', 'Category:Teluk Sebong'), ('Pname', 'Seinosuke Toda')]\n",
      "[('p', 'http://www.wikidata.org/entity/Q1018547'), ('Bname', 'Võnnu Rural Municipality'), ('Pname', 'Seinosuke Toda')]\n",
      "[('p', 'http://www.wikidata.org/entity/Q102115260'), ('Bname', 'Kojiro Kobayashi'), ('Pname', 'Seinosuke Toda')]\n",
      "[('p', 'http://www.wikidata.org/entity/Q102118153'), ('Bname', 'Miguel E. M. Herrera'), ('Pname', 'Seinosuke Toda')]\n",
      "[('p', 'http://www.wikidata.org/entity/Q10237146'), ('Bname', 'Category:Akita Shoten magazines'), ('Pname', 'Seinosuke Toda')]\n",
      "[('p', 'http://www.wikidata.org/entity/Q1024094'), ('Bname', \"2010 CONCACAF Women's Gold Cup\"), ('Pname', 'Seinosuke Toda')]\n",
      "[('p', 'http://www.wikidata.org/entity/Q10271305'), ('Bname', '2014 FIFA World Cup venues'), ('Pname', 'Seinosuke Toda')]\n",
      "[('p', 'http://www.wikidata.org/entity/Q102730099'), ('Bname', 'ambassador of Guatemala to France'), ('Pname', 'Seinosuke Toda')]\n",
      "[('p', 'http://www.wikidata.org/entity/Q10275776'), ('Bname', 'Estação Ferroviária de Mafra'), ('Pname', 'Seinosuke Toda')]\n",
      "[('p', 'http://www.wikidata.org/entity/Q10279508'), ('Bname', 'Faculdade de Letras da Universidade de Coimbra'), ('Pname', 'Seinosuke Toda')]\n",
      "[('p', 'http://www.wikidata.org/entity/Q10279509'), ('Bname', 'Faculty of Arts and Humanities of the University of Porto'), ('Pname', 'Seinosuke Toda')]\n",
      "[('p', 'http://www.wikidata.org/entity/Q1028297'), ('Bname', 'Aji'), ('Pname', 'Seinosuke Toda')]\n",
      "[('p', 'http://www.wikidata.org/entity/Q10388300'), ('Bname', 'Urucu'), ('Pname', 'Seinosuke Toda')]\n",
      "[('p', 'http://www.wikidata.org/entity/Q10436048'), ('Bname', 'jikimiyake'), ('Pname', 'Seinosuke Toda')]\n",
      "[('p', 'http://www.wikidata.org/entity/Q104528620'), ('Bname', 'war horse'), ('Pname', 'Seinosuke Toda')]\n",
      "[('p', 'http://www.wikidata.org/entity/Q1046546'), ('Bname', '2010 Pacific hurricane season'), ('Pname', 'Seinosuke Toda')]\n",
      "[('p', 'http://www.wikidata.org/entity/Q10480703'), ('Bname', '1972 in economics'), ('Pname', 'Seinosuke Toda')]\n",
      "[('p', 'http://www.wikidata.org/entity/Q1053559'), ('Bname', '2020 Winter Youth Olympics'), ('Pname', 'Seinosuke Toda')]\n",
      "[('p', 'http://www.wikidata.org/entity/Q1055353'), ('Bname', 'Hitachi Province'), ('Pname', 'Seinosuke Toda')]\n",
      "[('p', 'http://www.wikidata.org/entity/Q10561524'), ('Bname', 'Lightiella'), ('Pname', 'Seinosuke Toda')]\n",
      "[('p', 'http://www.wikidata.org/entity/Q105701834'), ('Bname', 'compilation album released this year'), ('Pname', 'Seinosuke Toda')]\n",
      "[('p', 'http://www.wikidata.org/entity/Q1057504'), ('Bname', 'region of Ethiopia'), ('Pname', 'Seinosuke Toda')]\n",
      "[('p', 'http://www.wikidata.org/entity/Q105753880'), ('Bname', 'Mateo Egea'), ('Pname', 'Seinosuke Toda')]\n",
      "[('p', 'http://www.wikidata.org/entity/Q10583001'), ('Bname', '1942 in meteorology'), ('Pname', 'Seinosuke Toda')]\n",
      "[('p', 'http://www.wikidata.org/entity/Q10583019'), ('Bname', '1958 in meteorology'), ('Pname', 'Seinosuke Toda')]\n",
      "[('p', 'http://www.wikidata.org/entity/Q10583024'), ('Bname', '1964 in meteorology'), ('Pname', 'Seinosuke Toda')]\n",
      "[('p', 'http://www.wikidata.org/entity/Q10583031'), ('Bname', '1971 in meteorology'), ('Pname', 'Seinosuke Toda')]\n",
      "[('p', 'http://www.wikidata.org/entity/Q10583049'), ('Bname', '1989 in meteorology'), ('Pname', 'Seinosuke Toda')]\n",
      "[('p', 'http://www.wikidata.org/entity/Q10583060'), ('Bname', '2000 in meteorology'), ('Pname', 'Seinosuke Toda')]\n",
      "[('p', 'http://www.wikidata.org/entity/Q10583063'), ('Bname', '2003 in meteorology'), ('Pname', 'Seinosuke Toda')]\n",
      "[('p', 'http://www.wikidata.org/entity/Q1058869'), ('Bname', 'Nemėžis'), ('Pname', 'Seinosuke Toda')]\n",
      "[('p', 'http://www.wikidata.org/entity/Q1058937'), ('Bname', '530 BC'), ('Pname', 'Seinosuke Toda')]\n",
      "[('p', 'http://www.wikidata.org/entity/Q106093218'), ('Bname', 'ambassador of China to Peru'), ('Pname', 'Seinosuke Toda')]\n",
      "[('p', 'http://www.wikidata.org/entity/Q10634104'), ('Bname', 'Pleomothra'), ('Pname', 'Seinosuke Toda')]\n",
      "50\n"
     ]
    }
   ],
   "source": [
    "# write your final query\n",
    "queryString = \"\"\"\n",
    "SELECT DISTINCT  ?p ?Bname ?Pname\n",
    "WHERE {\n",
    "    # bind something\n",
    "    ?s wdt:P106|wdt:P101 wd:Q82594.\n",
    "    # get the label\n",
    "    ?p sc:name ?Bname.\n",
    "    ?s sc:name ?Pname.\n",
    "    \n",
    "}\n",
    "LIMIT 50\n",
    "\"\"\"\n",
    "print(\"Results\")\n",
    "x=run_query(queryString)"
   ]
  },
  {
   "cell_type": "code",
   "execution_count": null,
   "id": "52f5160a-a4fd-4ba9-be08-88888ece36b2",
   "metadata": {},
   "outputs": [],
   "source": []
  },
  {
   "cell_type": "code",
   "execution_count": 168,
   "id": "38409ebc-4567-4a5b-884d-19eae5c2c6d3",
   "metadata": {},
   "outputs": [
    {
     "name": "stdout",
     "output_type": "stream",
     "text": [
      "Results\n",
      "[('subject', 'scientific book'), ('p', 'http://www.wikidata.org/entity/Q20492609')]\n",
      "[('subject', 'scientific book'), ('p', 'http://www.wikidata.org/entity/Q46633')]\n",
      "[('subject', 'scientific book'), ('p', 'http://www.wikidata.org/entity/Q16517758')]\n",
      "[('subject', 'scientific book'), ('p', 'http://www.wikidata.org/entity/Q50177430')]\n",
      "[('subject', 'scientific book'), ('p', 'http://www.wikidata.org/entity/Q20492393')]\n",
      "[('subject', 'scientific book'), ('p', 'http://www.wikidata.org/entity/Q12253843')]\n",
      "[('subject', 'scientific book'), ('p', 'http://www.wikidata.org/entity/Q105467898')]\n",
      "[('subject', 'scientific book'), ('p', 'http://www.wikidata.org/entity/Q105161273')]\n",
      "[('subject', 'scientific book'), ('p', 'http://www.wikidata.org/entity/Q20492519')]\n",
      "[('subject', 'scientific book'), ('p', 'http://www.wikidata.org/entity/Q57083968')]\n",
      "[('subject', 'scientific book'), ('p', 'http://www.wikidata.org/entity/Q107856074')]\n",
      "[('subject', 'scientific book'), ('p', 'http://www.wikidata.org/entity/Q105668925')]\n",
      "[('subject', 'scientific book'), ('p', 'http://www.wikidata.org/entity/Q57654605')]\n",
      "[('subject', 'scientific book'), ('p', 'http://www.wikidata.org/entity/Q15964868')]\n",
      "[('subject', 'scientific book'), ('p', 'http://www.wikidata.org/entity/Q61996941')]\n",
      "15\n"
     ]
    }
   ],
   "source": [
    "queryString = \"\"\"\n",
    "SELECT DISTINCT ?subject ?p ?person_name \n",
    "WHERE {\n",
    "    # bind something\n",
    "    ?p wdt:P101|wdt:P106 wd:Q82594.\n",
    "    ?book wdt:P50 ?p;\n",
    "        wdt:P31 ?o.\n",
    "    # get the label\n",
    "    ?o sc:name ?subject.\n",
    "    FILTER regex(?subject , 'scientific book').\n",
    "}\n",
    "order by desc(?booknumber)\n",
    "limit 15\n",
    "\"\"\"\n",
    "print(\"Results\")\n",
    "x=run_query(queryString)"
   ]
  },
  {
   "cell_type": "code",
   "execution_count": 26,
   "id": "1f77ce99-2122-4fff-a8b8-9cd19b7e722f",
   "metadata": {},
   "outputs": [
    {
     "name": "stdout",
     "output_type": "stream",
     "text": [
      "Results\n",
      "[('subject', 'scientific book'), ('IRI', 'http://www.wikidata.org/entity/Q20492519'), ('name', 'Olatz Arbelaitz'), ('Num_of_Book', '12')]\n",
      "[('subject', 'scientific book'), ('IRI', 'http://www.wikidata.org/entity/Q16517758'), ('name', 'Iñaki Alegria'), ('Num_of_Book', '11')]\n",
      "[('subject', 'scientific book'), ('IRI', 'http://www.wikidata.org/entity/Q50177430'), ('name', 'Kepa Sarasola Gabiola'), ('Num_of_Book', '7')]\n",
      "[('subject', 'book review'), ('IRI', 'http://www.wikidata.org/entity/Q56860335'), ('name', 'Daniela Luzi'), ('Num_of_Book', '4')]\n",
      "[('subject', 'book review'), ('IRI', 'http://www.wikidata.org/entity/Q58481435'), ('name', 'Alberto Salarelli'), ('Num_of_Book', '3')]\n",
      "[('subject', 'scientific book'), ('IRI', 'http://www.wikidata.org/entity/Q12253843'), ('name', 'Arantza Diaz de Ilarraza Sanchez'), ('Num_of_Book', '3')]\n",
      "[('subject', 'book review'), ('IRI', 'http://www.wikidata.org/entity/Q1293908'), ('name', 'Edward Tufte'), ('Num_of_Book', '2')]\n",
      "[('subject', 'scientific book'), ('IRI', 'http://www.wikidata.org/entity/Q46633'), ('name', 'Charles Babbage'), ('Num_of_Book', '2')]\n",
      "[('subject', 'book'), ('IRI', 'http://www.wikidata.org/entity/Q92927'), ('name', 'Noga Alon'), ('Num_of_Book', '2')]\n",
      "[('subject', 'scientific book'), ('IRI', 'http://www.wikidata.org/entity/Q105467898'), ('name', 'Aitzol Astigarraga'), ('Num_of_Book', '2')]\n",
      "[('subject', 'book review'), ('IRI', 'http://www.wikidata.org/entity/Q103973768'), ('name', 'Stefano Mura'), ('Num_of_Book', '2')]\n",
      "[('subject', 'picture book'), ('IRI', 'http://www.wikidata.org/entity/Q256657'), ('name', 'Miha Mazzini'), ('Num_of_Book', '2')]\n",
      "[('subject', 'scientific book'), ('IRI', 'http://www.wikidata.org/entity/Q20492609'), ('name', 'Txelo Ruiz-Vazquez'), ('Num_of_Book', '2')]\n",
      "[('subject', 'book'), ('IRI', 'http://www.wikidata.org/entity/Q93043'), ('name', 'Jonathan Bowen'), ('Num_of_Book', '2')]\n",
      "[('subject', 'scientific book'), ('IRI', 'http://www.wikidata.org/entity/Q20492393'), ('name', 'Montse Maritxalar Anglada'), ('Num_of_Book', '2')]\n",
      "[('subject', 'book'), ('IRI', 'http://www.wikidata.org/entity/Q1293908'), ('name', 'Edward Tufte'), ('Num_of_Book', '2')]\n",
      "[('subject', 'book'), ('IRI', 'http://www.wikidata.org/entity/Q315577'), ('name', 'Hideo Kojima'), ('Num_of_Book', '2')]\n",
      "[('subject', 'scientific book'), ('IRI', 'http://www.wikidata.org/entity/Q57083968'), ('name', 'Xabier Arregi Iparragirre'), ('Num_of_Book', '2')]\n",
      "[('subject', 'book review'), ('IRI', 'http://www.wikidata.org/entity/Q104093256'), ('name', 'Zeno Tajoli'), ('Num_of_Book', '2')]\n",
      "[('subject', 'book'), ('IRI', 'http://www.wikidata.org/entity/Q57231890'), ('name', 'Michael Färber'), ('Num_of_Book', '1')]\n",
      "[('subject', 'e-book reader software'), ('IRI', 'http://www.wikidata.org/entity/Q298341'), ('name', 'Raymond Kurzweil'), ('Num_of_Book', '1')]\n",
      "[('subject', 'book'), ('IRI', 'http://www.wikidata.org/entity/Q1194856'), ('name', 'Alan Cooper'), ('Num_of_Book', '1')]\n",
      "[('subject', 'audiobook'), ('IRI', 'http://www.wikidata.org/entity/Q24939418'), ('name', 'Marin Dacos'), ('Num_of_Book', '1')]\n",
      "[('subject', 'scientific book'), ('IRI', 'http://www.wikidata.org/entity/Q15964868'), ('name', 'Elena Lazkano'), ('Num_of_Book', '1')]\n",
      "[('subject', 'book'), ('IRI', 'http://www.wikidata.org/entity/Q62898'), ('name', 'Alfred Aho'), ('Num_of_Book', '1')]\n",
      "[('subject', 'photo-book'), ('IRI', 'http://www.wikidata.org/entity/Q106784933'), ('name', 'Hervé Texier'), ('Num_of_Book', '1')]\n",
      "[('subject', 'book'), ('IRI', 'http://www.wikidata.org/entity/Q2761378'), ('name', 'Alvy Ray Smith'), ('Num_of_Book', '1')]\n",
      "[('subject', 'book series'), ('IRI', 'http://www.wikidata.org/entity/Q17457'), ('name', 'Donald Knuth'), ('Num_of_Book', '1')]\n",
      "[('subject', 'book review'), ('IRI', 'http://www.wikidata.org/entity/Q217790'), ('name', 'Lawrence Lessig'), ('Num_of_Book', '1')]\n",
      "[('subject', 'book'), ('IRI', 'http://www.wikidata.org/entity/Q92824'), ('name', 'Judea Pearl'), ('Num_of_Book', '1')]\n",
      "30\n"
     ]
    }
   ],
   "source": [
    "queryString = \"\"\"\n",
    "SELECT DISTINCT ?subject ?IRI ?name (count(?book)  as ?Num_of_Book )\n",
    "WHERE {\n",
    "    # bind something\n",
    "    ?IRI wdt:P101|wdt:P106 wd:Q82594.\n",
    "    ?book wdt:P50 ?IRI;\n",
    "    wdt:P31 ?o.\n",
    "    # get the label\n",
    "    ?IRI sc:name ?name.\n",
    "    ?o sc:name ?subject.\n",
    "    FILTER regex(?subject , 'book').\n",
    "    \n",
    "    \n",
    "}\n",
    "order by desc(?Num_of_Book)\n",
    "limit 30\n",
    "\"\"\"\n",
    "print(\"Results\")\n",
    "x=run_query(queryString)"
   ]
  },
  {
   "cell_type": "code",
   "execution_count": null,
   "id": "2e58a8d7-7bfc-4b2c-92cc-2c3feb8e8e6c",
   "metadata": {},
   "outputs": [],
   "source": []
  },
  {
   "cell_type": "code",
   "execution_count": null,
   "id": "7a5a9177-6bc3-45e6-a634-1d6eb1dbadd0",
   "metadata": {},
   "outputs": [],
   "source": []
  },
  {
   "cell_type": "code",
   "execution_count": null,
   "id": "a73d93bb-0f0c-413f-86f7-e0e965bca2ee",
   "metadata": {},
   "outputs": [],
   "source": []
  }
 ],
 "metadata": {
  "kernelspec": {
   "display_name": "Python 3",
   "language": "python",
   "name": "python3"
  },
  "language_info": {
   "codemirror_mode": {
    "name": "ipython",
    "version": 3
   },
   "file_extension": ".py",
   "mimetype": "text/x-python",
   "name": "python",
   "nbconvert_exporter": "python",
   "pygments_lexer": "ipython3",
   "version": "3.7.10"
  }
 },
 "nbformat": 4,
 "nbformat_minor": 5
}
