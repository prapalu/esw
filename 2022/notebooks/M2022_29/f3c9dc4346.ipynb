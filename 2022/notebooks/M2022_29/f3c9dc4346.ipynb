{
 "cells": [
  {
   "cell_type": "markdown",
   "id": "9f926014",
   "metadata": {},
   "source": [
    "# General instructions\n",
    "\n",
    "The goal of the project is to materialize a set of **exploratory workloads** over a real-world, large-scale,  open-domain KG: [WikiData](https://www.wikidata.org/wiki/Wikidata:Main_Page)\n",
    "\n",
    "An exploratory workload  is composed by a set of queries, where each query is related to the information obtained previously.\n",
    "\n",
    "An exploratory workload starts with a usually vague, open ended question, and does not assume the person issuing the workload has a clear understanding of the data contained in the target database or its structure.\n",
    "\n",
    "Remeber that:\n",
    "\n",
    "1. All the queries must run in the python notebook\n",
    "2. You can use classes and properties only if you find them via a SPARQL query that must be present in the notebook\n",
    "3. You do not delete useless queries. Keep everything that is synthatically valid \n",
    "\n",
    "```\n",
    "?p <http://schema.org/name> ?name .\n",
    "```\n",
    "    \n",
    "    is the BGP returning a human-readable name of a property or a class in Wikidata."
   ]
  },
  {
   "cell_type": "code",
   "execution_count": 2,
   "id": "5ace742c",
   "metadata": {},
   "outputs": [],
   "source": [
    "## SETUP used later\n",
    "\n",
    "from SPARQLWrapper import SPARQLWrapper, JSON\n",
    "\n",
    "\n",
    "prefixString = \"\"\"\n",
    "##-f3c9dc4346-##\n",
    "PREFIX wd: <http://www.wikidata.org/entity/> \n",
    "PREFIX wdt: <http://www.wikidata.org/prop/direct/> \n",
    "PREFIX sc: <http://schema.org/>\n",
    "\"\"\"\n",
    "\n",
    "# select and construct queries\n",
    "def run_query(queryString,verbose = True):\n",
    "    to_run = prefixString + \"\\n\" + queryString\n",
    "\n",
    "    sparql = SPARQLWrapper(\"http://a256-gc1-03.srv.aau.dk:5820/sparql\")\n",
    "    sparql.setTimeout(300)\n",
    "    sparql.setReturnFormat(JSON)\n",
    "    sparql.setQuery(to_run)\n",
    "\n",
    "    try :\n",
    "        results = sparql.query()\n",
    "        json_results = results.convert()\n",
    "        if len(json_results['results']['bindings'])==0:\n",
    "            print(\"Empty\")\n",
    "            return []\n",
    "        array = []\n",
    "        for bindings in json_results['results']['bindings']:\n",
    "            app =  [ (var, value['value'])  for var, value in bindings.items() ] \n",
    "            if verbose:\n",
    "                print( app)\n",
    "            array.append(app)\n",
    "        if verbose:\n",
    "            print(len(array))\n",
    "        return array\n",
    "\n",
    "    except Exception as e :\n",
    "        print(\"The operation failed\", e)\n",
    "    \n",
    "# ASk queries\n",
    "def run_ask_query(queryString):\n",
    "    to_run = prefixString + \"\\n\" + queryString\n",
    "\n",
    "    sparql = SPARQLWrapper(\"http://a256-gc1-03.srv.aau.dk:5820/sparql\")\n",
    "    sparql.setTimeout(300)\n",
    "    sparql.setReturnFormat(JSON)\n",
    "    sparql.setQuery(to_run)\n",
    "\n",
    "    try :\n",
    "        return sparql.query().convert()\n",
    "\n",
    "    except Exception as e :\n",
    "        print(\"The operation failed\", e)"
   ]
  },
  {
   "cell_type": "markdown",
   "id": "73349cb1",
   "metadata": {},
   "source": [
    "# Sport Workflow Series (\"Running explorative search\") \n",
    "\n",
    "Consider the following exploratory information need:\n",
    "\n",
    "> investigate the association football players and find the main BGPs related to this sports. Compare awards and participation in the competitions of the players"
   ]
  },
  {
   "cell_type": "markdown",
   "id": "b9dc4d3c",
   "metadata": {},
   "source": [
    "## Useful URIs for the current workflow\n",
    "The following are given:\n",
    "\n",
    "| IRI           | Description   | Role      |\n",
    "| -----------   | -----------   |-----------|\n",
    "| `wdt:P1647`   | subproperty   | predicate |\n",
    "| `wdt:P31`     | instance of   | predicate |\n",
    "| `wdt:P106`    | profession    | predicate | \n",
    "| `wdt:P279`    | subclass      | predicate |\n",
    "| `wdt:P27`     | nationality   | predicate |\n",
    "| `wd:Q5`       | Human         | node      |\n",
    "| `wd:Q9124`    | Eliud Kipchoge| node      |\n",
    "| `wd:Q853003`| athletics at the 2008 Summer Olympics – men's 200 metres |node|\n"
   ]
  },
  {
   "cell_type": "markdown",
   "id": "490787f6",
   "metadata": {},
   "source": [
    "\n",
    "\n",
    "\n",
    "Also consider\n",
    "\n",
    "```\n",
    "wd:Q9124 ?p ?obj .\n",
    "```\n",
    "\n",
    "is the BGP to retrieve all **properties of Eliud Kipchoge**\n",
    "\n",
    "\n",
    "Please consider that when you return a resource, you should return the IRI and the label of the resource. In particular, when the task require you to identify a BGP the result set must always be a list of couples IRI - label.\n",
    "\n",
    "\n",
    "The workload should:\n",
    "\n",
    "\n",
    "1. Identify the BGP for runner\n",
    "\n",
    "2. Identify the BGP for long distance running\n",
    "\n",
    "3. Return the disciplines of the long distance running (e.g. marathon) (the result set must be a list of couples discipline IRI and label).\n",
    "\n",
    "4. Consider marathons ran in Europe. Return the number of different runners who won a marathon group by their country of citizenship (the result set must be a triples of country IRI, label and #different runners).\n",
    "\n",
    "5. Identify the BGP for Olympic Games\n",
    "\n",
    "6. Consider only the summer olympic games of 2004-2008-2012-2016. Return the number of marathon runners who had partecipated to all these editions group by their country of citizenship (if the runner partecipated in more than one edition of the game, consider him/her only once) (the result set must be a list of country IRI, label and #marathon runners)\n",
    "\n",
    "7. For each disciplines of the long distance running find who hold the World Record (the result set must be a list of elements with discipline IRI, label and athlete IRI and label)."
   ]
  },
  {
   "cell_type": "markdown",
   "id": "c978838b",
   "metadata": {},
   "source": [
    "## Task 1\n",
    "Identify the BGP for runner"
   ]
  },
  {
   "cell_type": "code",
   "execution_count": 3,
   "id": "f17bbd47",
   "metadata": {},
   "outputs": [
    {
     "name": "stdout",
     "output_type": "stream",
     "text": [
      "Results\n",
      "[('o', 'http://www.wikidata.org/entity/Q13382460'), ('obname', 'marathon runner')]\n",
      "[('o', 'http://www.wikidata.org/entity/Q11513337'), ('obname', 'athletics competitor')]\n",
      "[('o', 'http://www.wikidata.org/entity/Q4439155'), ('obname', 'long-distance runner')]\n",
      "3\n"
     ]
    }
   ],
   "source": [
    "# query example\n",
    "#i find the occupation of Eliud Kipchoge\n",
    "queryString = \"\"\"\n",
    "SELECT DISTINCT ?o ?obname\n",
    "WHERE {\n",
    "   # bind something\n",
    "   wd:Q9124 wdt:P106 ?o.\n",
    "   #get the label\n",
    "   ?o sc:name ?obname.\n",
    "}\n",
    "LIMIT 20\n",
    "\"\"\"\n",
    "\n",
    "print(\"Results\")\n",
    "x=run_query(queryString)"
   ]
  },
  {
   "cell_type": "code",
   "execution_count": 11,
   "id": "fb124afc-e2c7-4b7c-9571-86b57410e41e",
   "metadata": {},
   "outputs": [
    {
     "name": "stdout",
     "output_type": "stream",
     "text": [
      "Results\n",
      "[('p', 'http://www.wikidata.org/prop/direct/P106'), ('pname', 'occupation'), ('o', 'http://www.wikidata.org/entity/Q13382460'), ('oname', 'marathon runner')]\n",
      "[('p', 'http://www.wikidata.org/prop/direct/P1344'), ('pname', 'participant in'), ('o', 'http://www.wikidata.org/entity/Q2817771'), ('oname', \"2009 World Championships in Athletics – men's 5000 metres\")]\n",
      "[('p', 'http://www.wikidata.org/prop/direct/P1344'), ('pname', 'participant in'), ('o', 'http://www.wikidata.org/entity/Q34356762'), ('oname', \"2017 World Championships in Athletics – men's 5000 metres\")]\n",
      "[('p', 'http://www.wikidata.org/prop/direct/P1532'), ('pname', 'country for sport'), ('o', 'http://www.wikidata.org/entity/Q114'), ('oname', 'Kenya')]\n",
      "[('p', 'http://www.wikidata.org/prop/direct/P27'), ('pname', 'country of citizenship'), ('o', 'http://www.wikidata.org/entity/Q114'), ('oname', 'Kenya')]\n",
      "[('p', 'http://www.wikidata.org/prop/direct/P106'), ('pname', 'occupation'), ('o', 'http://www.wikidata.org/entity/Q11513337'), ('oname', 'athletics competitor')]\n",
      "[('p', 'http://www.wikidata.org/prop/direct/P1344'), ('pname', 'participant in'), ('o', 'http://www.wikidata.org/entity/Q18193712'), ('oname', 'athletics at the 2016 Summer Olympics')]\n",
      "[('p', 'http://www.wikidata.org/prop/direct/P1412'), ('pname', 'languages spoken, written or signed'), ('o', 'http://www.wikidata.org/entity/Q1860'), ('oname', 'English')]\n",
      "[('p', 'http://www.wikidata.org/prop/direct/P2416'), ('pname', 'sports discipline competed in'), ('o', 'http://www.wikidata.org/entity/Q40244'), ('oname', 'marathon')]\n",
      "[('p', 'http://www.wikidata.org/prop/direct/P106'), ('pname', 'occupation'), ('o', 'http://www.wikidata.org/entity/Q4439155'), ('oname', 'long-distance runner')]\n",
      "[('p', 'http://www.wikidata.org/prop/direct/P31'), ('pname', 'instance of'), ('o', 'http://www.wikidata.org/entity/Q5'), ('oname', 'human')]\n",
      "[('p', 'http://www.wikidata.org/prop/direct/P641'), ('pname', 'sport'), ('o', 'http://www.wikidata.org/entity/Q542'), ('oname', 'athletics')]\n",
      "[('p', 'http://www.wikidata.org/prop/direct/P21'), ('pname', 'sex or gender'), ('o', 'http://www.wikidata.org/entity/Q6581097'), ('oname', 'male')]\n",
      "[('p', 'http://www.wikidata.org/prop/direct/P1344'), ('pname', 'participant in'), ('o', 'http://www.wikidata.org/entity/Q695233'), ('oname', '2010 Commonwealth Games')]\n",
      "[('p', 'http://www.wikidata.org/prop/direct/P1412'), ('pname', 'languages spoken, written or signed'), ('o', 'http://www.wikidata.org/entity/Q7838'), ('oname', 'Swahili')]\n",
      "[('p', 'http://www.wikidata.org/prop/direct/P1344'), ('pname', 'participant in'), ('o', 'http://www.wikidata.org/entity/Q8558'), ('oname', '2004 Summer Olympics')]\n",
      "[('p', 'http://www.wikidata.org/prop/direct/P1344'), ('pname', 'participant in'), ('o', 'http://www.wikidata.org/entity/Q1141335'), ('oname', '2006 IAAF World Indoor Championships')]\n",
      "[('p', 'http://www.wikidata.org/prop/direct/P1344'), ('pname', 'participant in'), ('o', 'http://www.wikidata.org/entity/Q30687990'), ('oname', 'Breaking2')]\n",
      "[('p', 'http://www.wikidata.org/prop/direct/P1000'), ('pname', 'record held'), ('o', 'http://www.wikidata.org/entity/Q929585'), ('oname', 'Marathon world record progression')]\n",
      "[('p', 'http://www.wikidata.org/prop/direct/P1344'), ('pname', 'participant in'), ('o', 'http://www.wikidata.org/entity/Q21858018'), ('oname', \"athletics at the 2016 Summer Olympics – men's marathon\")]\n",
      "20\n"
     ]
    }
   ],
   "source": [
    "# query example\n",
    "queryString = \"\"\"\n",
    "SELECT DISTINCT ?p ?pname ?o ?oname\n",
    "WHERE {\n",
    "   # bind something\n",
    "   wd:Q9124 ?p ?o.\n",
    "   # get the label\n",
    "   ?p sc:name ?pname.\n",
    "   ?o sc:name ?oname.\n",
    "}\n",
    "LIMIT 20\n",
    "\"\"\"\n",
    "\n",
    "print(\"Results\")\n",
    "x=run_query(queryString)"
   ]
  },
  {
   "cell_type": "markdown",
   "id": "6bcb13af",
   "metadata": {},
   "source": [
    "Final query for this task"
   ]
  },
  {
   "cell_type": "markdown",
   "id": "ac42676f",
   "metadata": {},
   "source": [
    "## Task 2\n",
    "Identify the BGP for long distance running"
   ]
  },
  {
   "cell_type": "code",
   "execution_count": 91,
   "id": "4b8391e7",
   "metadata": {},
   "outputs": [
    {
     "name": "stdout",
     "output_type": "stream",
     "text": [
      "Results\n",
      "[('o', 'http://www.wikidata.org/entity/Q28640'), ('oname', 'profession')]\n",
      "1\n"
     ]
    }
   ],
   "source": [
    "# query example\n",
    "# as we found long-distance runner is wd:Q4439155\n",
    "queryString = \"\"\"\n",
    "SELECT DISTINCT ?o ?oname \n",
    "WHERE {\n",
    "   # bind something\n",
    "   wd:Q4439155 wdt:P31 ?o.\n",
    "   # get the label\n",
    "   ?o sc:name ?oname.\n",
    "}\n",
    "limit 50\n",
    "\"\"\"\n",
    "\n",
    "print(\"Results\")\n",
    "x=run_query(queryString)"
   ]
  },
  {
   "cell_type": "markdown",
   "id": "15ea5d0a",
   "metadata": {},
   "source": [
    "Final query for this task"
   ]
  },
  {
   "cell_type": "code",
   "execution_count": 14,
   "id": "04b6f58a-aa4d-4df2-b9fd-4aef0f480028",
   "metadata": {},
   "outputs": [
    {
     "name": "stdout",
     "output_type": "stream",
     "text": [
      "Results\n",
      "[('people', 'http://www.wikidata.org/entity/Q16186777'), ('oname', 'George Malley')]\n",
      "[('people', 'http://www.wikidata.org/entity/Q275831'), ('oname', 'Christelle Daunay')]\n",
      "[('people', 'http://www.wikidata.org/entity/Q18132157'), ('oname', 'Carlo Martinenghi')]\n",
      "[('people', 'http://www.wikidata.org/entity/Q20962093'), ('oname', 'Marielle Hall')]\n",
      "[('people', 'http://www.wikidata.org/entity/Q20982761'), ('oname', 'Alina Prokopyeva')]\n",
      "[('people', 'http://www.wikidata.org/entity/Q20988053'), ('oname', 'Gulzhanat Zhanatbek')]\n",
      "[('people', 'http://www.wikidata.org/entity/Q9374770'), ('oname', 'Willem van der Steen')]\n",
      "[('people', 'http://www.wikidata.org/entity/Q21823270'), ('oname', 'Mohamed Rutitinga')]\n",
      "[('people', 'http://www.wikidata.org/entity/Q3198081'), ('oname', 'Knut Alm')]\n",
      "[('people', 'http://www.wikidata.org/entity/Q23332702'), ('oname', 'Stephen Sambu')]\n",
      "[('people', 'http://www.wikidata.org/entity/Q16665504'), ('oname', 'Mule Wasihun')]\n",
      "[('people', 'http://www.wikidata.org/entity/Q26384472'), ('oname', 'Birhanu Balew')]\n",
      "[('people', 'http://www.wikidata.org/entity/Q30088560'), ('oname', 'Zsolt Bácskai')]\n",
      "[('people', 'http://www.wikidata.org/entity/Q435068'), ('oname', 'Alain Mimoun')]\n",
      "[('people', 'http://www.wikidata.org/entity/Q436062'), ('oname', 'Billy Mills')]\n",
      "[('people', 'http://www.wikidata.org/entity/Q446739'), ('oname', 'Jouko Kuha')]\n",
      "[('people', 'http://www.wikidata.org/entity/Q450460'), ('oname', 'Paola Pigni')]\n",
      "[('people', 'http://www.wikidata.org/entity/Q452949'), ('oname', 'Ali Abdosh')]\n",
      "[('people', 'http://www.wikidata.org/entity/Q458193'), ('oname', 'Sandra Eriksson')]\n",
      "[('people', 'http://www.wikidata.org/entity/Q728956'), ('oname', 'Chris Brasher')]\n",
      "20\n"
     ]
    }
   ],
   "source": [
    "# query example\n",
    "queryString = \"\"\"\n",
    "SELECT DISTINCT ?runner ?oname \n",
    "WHERE {\n",
    "   # bind something\n",
    "   ?runner wdt:P106 wd:Q4439155.\n",
    "   # get the label\n",
    "   ?runner sc:name ?oname.\n",
    "}\n",
    "limit 20\n",
    "\"\"\"\n",
    "\n",
    "print(\"Results\")\n",
    "x=run_query(queryString)"
   ]
  },
  {
   "cell_type": "code",
   "execution_count": 10,
   "id": "5d51e222-0950-40e5-b49a-72f4763f7366",
   "metadata": {},
   "outputs": [
    {
     "name": "stdout",
     "output_type": "stream",
     "text": [
      "Results\n",
      "[('p', 'http://www.wikidata.org/prop/direct/P910'), ('pname', \"topic's main category\"), ('o', 'http://www.wikidata.org/entity/Q8928097'), ('oname', 'Category:Long-distance runners')]\n",
      "[('p', 'http://www.wikidata.org/prop/direct/P1889'), ('pname', 'different from'), ('o', 'http://www.wikidata.org/entity/Q13382608'), ('oname', 'cross-country skier')]\n",
      "[('p', 'http://www.wikidata.org/prop/direct/P31'), ('pname', 'instance of'), ('o', 'http://www.wikidata.org/entity/Q28640'), ('oname', 'profession')]\n",
      "[('p', 'http://www.wikidata.org/prop/direct/P425'), ('pname', 'field of this occupation'), ('o', 'http://www.wikidata.org/entity/Q917206'), ('oname', 'long-distance running')]\n",
      "[('p', 'http://www.wikidata.org/prop/direct/P279'), ('pname', 'subclass of'), ('o', 'http://www.wikidata.org/entity/Q12803959'), ('oname', 'runner')]\n",
      "5\n"
     ]
    }
   ],
   "source": [
    "\n",
    "# query example\n",
    "queryString = \"\"\"\n",
    "SELECT DISTINCT ?p ?pname ?o ?oname\n",
    "WHERE {\n",
    "   # bind something\n",
    "   wd:Q4439155 ?p ?o.\n",
    "   # get the label\n",
    "   ?p sc:name ?pname.\n",
    "   ?o sc:name ?oname.\n",
    "}\n",
    "limit 20\n",
    "\"\"\"\n",
    "\n",
    "print(\"Results\")\n",
    "x=run_query(queryString)"
   ]
  },
  {
   "cell_type": "code",
   "execution_count": 22,
   "id": "5f0fee43",
   "metadata": {},
   "outputs": [],
   "source": [
    "# write your final query"
   ]
  },
  {
   "cell_type": "markdown",
   "id": "f4277ae0",
   "metadata": {},
   "source": [
    "## Task 3\n",
    "Return the disciplines of the long distance running (e.g. marathon) (the result set must be a list of couples discipline IRI and label)."
   ]
  },
  {
   "cell_type": "code",
   "execution_count": 2,
   "id": "a9f86d91",
   "metadata": {},
   "outputs": [
    {
     "name": "stdout",
     "output_type": "stream",
     "text": [
      "Results\n",
      "[('s', 'http://www.wikidata.org/entity/Q13382460'), ('sname', 'marathon runner')]\n",
      "[('s', 'http://www.wikidata.org/entity/Q19827218'), ('sname', 'ultramarathon runner')]\n",
      "2\n"
     ]
    }
   ],
   "source": [
    "# write your queries\n",
    "# i find subclass of long-distance runner\n",
    "queryString = \"\"\"\n",
    "SELECT DISTINCT ?s ?sname \n",
    "WHERE {\n",
    "   # bind something\n",
    "   ?s wdt:P279 wd:Q4439155.\n",
    "   # get the label\n",
    "   ?s sc:name ?sname.\n",
    "   \n",
    "}\n",
    "limit 20\n",
    "\"\"\"\n",
    "\n",
    "print(\"Results\")\n",
    "x=run_query(queryString)"
   ]
  },
  {
   "cell_type": "markdown",
   "id": "031071c0",
   "metadata": {},
   "source": [
    "Final query for this task"
   ]
  },
  {
   "cell_type": "code",
   "execution_count": null,
   "id": "e9b6c0c9",
   "metadata": {},
   "outputs": [],
   "source": [
    "# write your final query"
   ]
  },
  {
   "cell_type": "markdown",
   "id": "260132b5",
   "metadata": {},
   "source": [
    "## Task 4\n",
    "Consider marathons ran in Europe. Return the number of different runners who won a marathon group by their country of citizenship (the result set must be a triples of country IRI, label and #different runners)."
   ]
  },
  {
   "cell_type": "code",
   "execution_count": 17,
   "id": "3e20c449",
   "metadata": {},
   "outputs": [
    {
     "name": "stdout",
     "output_type": "stream",
     "text": [
      "Results\n",
      "[('p', 'http://www.wikidata.org/prop/direct/P1132'), ('pname', 'number of participants')]\n",
      "[('p', 'http://www.wikidata.org/prop/direct/P1346'), ('pname', 'winner')]\n",
      "[('p', 'http://www.wikidata.org/prop/direct/P155'), ('pname', 'follows')]\n",
      "[('p', 'http://www.wikidata.org/prop/direct/P156'), ('pname', 'followed by')]\n",
      "[('p', 'http://www.wikidata.org/prop/direct/P17'), ('pname', 'country')]\n",
      "[('p', 'http://www.wikidata.org/prop/direct/P2094'), ('pname', 'competition class')]\n",
      "[('p', 'http://www.wikidata.org/prop/direct/P276'), ('pname', 'location')]\n",
      "[('p', 'http://www.wikidata.org/prop/direct/P31'), ('pname', 'instance of')]\n",
      "[('p', 'http://www.wikidata.org/prop/direct/P361'), ('pname', 'part of')]\n",
      "[('p', 'http://www.wikidata.org/prop/direct/P585'), ('pname', 'point in time')]\n",
      "[('p', 'http://www.wikidata.org/prop/direct/P641'), ('pname', 'sport')]\n",
      "[('p', 'http://www.wikidata.org/prop/direct/P646'), ('pname', 'Freebase ID')]\n",
      "[('p', 'http://www.wikidata.org/prop/direct/P664'), ('pname', 'organizer')]\n",
      "[('p', 'http://www.wikidata.org/prop/direct/P710'), ('pname', 'participant')]\n",
      "[('p', 'http://www.wikidata.org/prop/direct/P9055'), ('pname', 'Olympedia event ID')]\n",
      "15\n"
     ]
    }
   ],
   "source": [
    "# write your queries\n",
    "# marathons is wd:Q853003\n",
    "#i find the predicates of marathons\n",
    "queryString = \"\"\"\n",
    "SELECT DISTINCT ?p ?pname \n",
    "WHERE {\n",
    "   # bind something\n",
    "   wd:Q853003 ?p  ?o .\n",
    "   # get the label\n",
    "   ?p sc:name ?pname.  \n",
    "}\n",
    "limit 20\n",
    "\"\"\"\n",
    "\n",
    "print(\"Results\")\n",
    "x=run_query(queryString)"
   ]
  },
  {
   "cell_type": "markdown",
   "id": "fb7268e1",
   "metadata": {},
   "source": [
    "Final query for this task"
   ]
  },
  {
   "cell_type": "code",
   "execution_count": 7,
   "id": "1c0c88df-3d20-483a-b863-e8730d91e387",
   "metadata": {},
   "outputs": [
    {
     "name": "stdout",
     "output_type": "stream",
     "text": [
      "Results\n",
      "[('citizenship', 'http://www.wikidata.org/entity/Q29999'), ('cname', 'Kingdom of the Netherlands'), ('location', 'http://www.wikidata.org/entity/Q46'), ('winner', 'http://www.wikidata.org/entity/Q6242'), ('wname', 'Marianne Vos'), ('pname', 'Europe'), ('win', '1')]\n",
      "[('citizenship', 'http://www.wikidata.org/entity/Q29999'), ('cname', 'Kingdom of the Netherlands'), ('location', 'http://www.wikidata.org/entity/Q46'), ('winner', 'http://www.wikidata.org/entity/Q289826'), ('wname', 'Annemiek van Vleuten'), ('pname', 'Europe'), ('win', '1')]\n",
      "[('citizenship', 'http://www.wikidata.org/entity/Q38'), ('cname', 'Italy'), ('location', 'http://www.wikidata.org/entity/Q46'), ('winner', 'http://www.wikidata.org/entity/Q26162588'), ('wname', 'Sofia Bertizzolo'), ('pname', 'Europe'), ('win', '1')]\n",
      "[('citizenship', 'http://www.wikidata.org/entity/Q34'), ('cname', 'Sweden'), ('location', 'http://www.wikidata.org/entity/Q46'), ('winner', 'http://www.wikidata.org/entity/Q6033195'), ('wname', 'Gunnar Palm'), ('pname', 'Europe'), ('win', '1')]\n",
      "[('citizenship', 'http://www.wikidata.org/entity/Q29999'), ('cname', 'Kingdom of the Netherlands'), ('location', 'http://www.wikidata.org/entity/Q46'), ('winner', 'http://www.wikidata.org/entity/Q563737'), ('wname', 'Anna van der Breggen'), ('pname', 'Europe'), ('win', '1')]\n",
      "[('citizenship', 'http://www.wikidata.org/entity/Q183'), ('cname', 'Germany'), ('location', 'http://www.wikidata.org/entity/Q46'), ('winner', 'http://www.wikidata.org/entity/Q25933418'), ('wname', 'Liane Lippert'), ('pname', 'Europe'), ('win', '1')]\n",
      "[('citizenship', 'http://www.wikidata.org/entity/Q145'), ('cname', 'United Kingdom'), ('location', 'http://www.wikidata.org/entity/Q46'), ('winner', 'http://www.wikidata.org/entity/Q918394'), ('wname', 'John Parrott'), ('pname', 'Europe'), ('win', '1')]\n",
      "[('citizenship', 'http://www.wikidata.org/entity/Q21'), ('cname', 'England'), ('location', 'http://www.wikidata.org/entity/Q46'), ('winner', 'http://www.wikidata.org/entity/Q930905'), ('wname', 'Joe Johnson'), ('pname', 'Europe'), ('win', '1')]\n",
      "[('citizenship', 'http://www.wikidata.org/entity/Q29999'), ('cname', 'Kingdom of the Netherlands'), ('location', 'http://www.wikidata.org/entity/Q46'), ('winner', 'http://www.wikidata.org/entity/Q21067341'), ('wname', 'Jeanne Korevaar'), ('pname', 'Europe'), ('win', '1')]\n",
      "[('citizenship', 'http://www.wikidata.org/entity/Q33'), ('cname', 'Finland'), ('location', 'http://www.wikidata.org/entity/Q46'), ('winner', 'http://www.wikidata.org/entity/Q433156'), ('wname', 'Hannu Mikkola'), ('pname', 'Europe'), ('win', '1')]\n",
      "10\n"
     ]
    }
   ],
   "source": [
    "# query example\n",
    "#i find wdt:P276 for location and winner wdt:P1346 in the last block\n",
    "\n",
    "\n",
    "queryString = \"\"\"\n",
    "SELECT DISTINCT ?citizenship ?cname ?location ?winner ?wname ?pname (count(?winner) as ?win) \n",
    "WHERE {\n",
    "   # bind something\n",
    "   ?match  wdt:P276  ?location ;\n",
    "           wdt:P1346 ?winner.\n",
    "   ?winner wdt:P27 ?citizenship.\n",
    "    # get the label\n",
    "   ?location sc:name ?pname.\n",
    "   ?winner   sc:name ?wname.\n",
    "   ?citizenship sc:name ?cname.\n",
    "   FILTER REGEX(?pname, 'Europe')   \n",
    "}\n",
    "#groub by (?citizenship)\n",
    "limit 20\n",
    "\"\"\"\n",
    "\n",
    "print(\"Results\")\n",
    "x=run_query(queryString)"
   ]
  },
  {
   "cell_type": "code",
   "execution_count": null,
   "id": "9e371d63",
   "metadata": {},
   "outputs": [],
   "source": [
    "# write your final query"
   ]
  },
  {
   "cell_type": "markdown",
   "id": "3cae2260",
   "metadata": {},
   "source": [
    "## Task 5\n",
    "Identify the BGP for Olympic Games"
   ]
  },
  {
   "cell_type": "code",
   "execution_count": 97,
   "id": "5caf548b",
   "metadata": {},
   "outputs": [
    {
     "name": "stdout",
     "output_type": "stream",
     "text": [
      "Results\n",
      "[('o', 'http://www.wikidata.org/entity/Q2817771'), ('oname', \"2009 World Championships in Athletics – men's 5000 metres\")]\n",
      "[('o', 'http://www.wikidata.org/entity/Q34356762'), ('oname', \"2017 World Championships in Athletics – men's 5000 metres\")]\n",
      "[('o', 'http://www.wikidata.org/entity/Q18193712'), ('oname', 'athletics at the 2016 Summer Olympics')]\n",
      "[('o', 'http://www.wikidata.org/entity/Q695233'), ('oname', '2010 Commonwealth Games')]\n",
      "[('o', 'http://www.wikidata.org/entity/Q8558'), ('oname', '2004 Summer Olympics')]\n",
      "[('o', 'http://www.wikidata.org/entity/Q1141335'), ('oname', '2006 IAAF World Indoor Championships')]\n",
      "[('o', 'http://www.wikidata.org/entity/Q30687990'), ('oname', 'Breaking2')]\n",
      "[('o', 'http://www.wikidata.org/entity/Q21858018'), ('oname', \"athletics at the 2016 Summer Olympics – men's marathon\")]\n",
      "[('o', 'http://www.wikidata.org/entity/Q65242159'), ('oname', \"athletics at the 2020 Summer Olympics – men's marathon\")]\n",
      "[('o', 'http://www.wikidata.org/entity/Q52105373'), ('oname', '2018 London Marathon')]\n",
      "[('o', 'http://www.wikidata.org/entity/Q96370343'), ('oname', '2020 London Marathon')]\n",
      "[('o', 'http://www.wikidata.org/entity/Q1439291'), ('oname', \"athletics at the 2004 Summer Olympics – men's 5000 metres\")]\n",
      "[('o', 'http://www.wikidata.org/entity/Q23905992'), ('oname', '2016 London Marathon')]\n",
      "[('o', 'http://www.wikidata.org/entity/Q70636879'), ('oname', 'INEOS 1:59 Challenge')]\n",
      "[('o', 'http://www.wikidata.org/entity/Q853072'), ('oname', \"athletics at the 2008 Summer Olympics – men's 5000 metres\")]\n",
      "15\n"
     ]
    }
   ],
   "source": [
    "# write your queries\n",
    "#as in the first task we found participant in is wdt:P1344\n",
    "queryString = \"\"\"\n",
    "SELECT DISTINCT ?o ?oname\n",
    "WHERE {\n",
    "   # bind something\n",
    "   wd:Q9124 wdt:P1344 ?o.\n",
    "   # get the label\n",
    "   ?o sc:name ?oname.\n",
    "\n",
    "}\n",
    "\n",
    "limit 30\n",
    "\"\"\"\n",
    "\n",
    "print(\"Results\")\n",
    "x=run_query(queryString)"
   ]
  },
  {
   "cell_type": "markdown",
   "id": "8aa5d7e4",
   "metadata": {},
   "source": [
    "Final query for this task"
   ]
  },
  {
   "cell_type": "code",
   "execution_count": 15,
   "id": "1c58b6d0",
   "metadata": {},
   "outputs": [
    {
     "name": "stdout",
     "output_type": "stream",
     "text": [
      "Results\n",
      "[('o', 'http://www.wikidata.org/entity/Q18536594'), ('oname', 'Olympic sporting event')]\n",
      "[('o', 'http://www.wikidata.org/entity/Q26132862'), ('oname', 'Olympic sports discipline event')]\n",
      "[('o', 'http://www.wikidata.org/entity/Q11783626'), ('oname', 'athletics meeting')]\n",
      "[('o', 'http://www.wikidata.org/entity/Q715044'), ('oname', 'athletics at the Summer Olympics')]\n",
      "4\n"
     ]
    }
   ],
   "source": [
    "# write your final query\n",
    "#i want to find instances of summer olyampic\n",
    "queryString = \"\"\"\n",
    "SELECT DISTINCT ?o ?oname\n",
    "WHERE {\n",
    "   # bind something\n",
    "   wd:Q18193712 wdt:P31 ?o.\n",
    "   # get the label\n",
    "   ?o sc:name ?oname.\n",
    "}\n",
    "\n",
    "limit 30\n",
    "\"\"\"\n",
    "\n",
    "print(\"Results\")\n",
    "x=run_query(queryString)"
   ]
  },
  {
   "cell_type": "code",
   "execution_count": 16,
   "id": "5f50e629-0c84-4606-beae-09384c13afa9",
   "metadata": {},
   "outputs": [
    {
     "name": "stdout",
     "output_type": "stream",
     "text": [
      "Results\n",
      "[('s', 'http://www.wikidata.org/entity/Q637848'), ('sname', 'Marathons at the Olympics')]\n",
      "[('s', 'http://www.wikidata.org/entity/Q70106932'), ('sname', \"cycling at the Summer Olympics – men's individual road race\")]\n",
      "[('s', 'http://www.wikidata.org/entity/Q3892502'), ('sname', 'women’s volleyball at the Summer Olympics')]\n",
      "[('s', 'http://www.wikidata.org/entity/Q3892574'), ('sname', 'men’s volleyball at the Summer Olympics')]\n",
      "[('s', 'http://www.wikidata.org/entity/Q105492332'), ('sname', \"football at the Summer Olympics – men's tournament\")]\n",
      "[('s', 'http://www.wikidata.org/entity/Q2806793'), ('sname', '10,000 metres at the Olympics')]\n",
      "[('s', 'http://www.wikidata.org/entity/Q105492335'), ('sname', \"football at the Summer Olympics – women's tournament\")]\n",
      "[('s', 'http://www.wikidata.org/entity/Q2817758'), ('sname', '5000 metres at the Olympics')]\n",
      "[('s', 'http://www.wikidata.org/entity/Q2814440'), ('sname', '200 metres at the Olympics')]\n",
      "[('s', 'http://www.wikidata.org/entity/Q44198061'), ('sname', 'road bicycle racing at the Olympic Games')]\n",
      "10\n"
     ]
    }
   ],
   "source": [
    "# write your final query\n",
    "\n",
    "queryString = \"\"\"\n",
    "SELECT DISTINCT ?s ?sname\n",
    "WHERE {\n",
    "   # bind something\n",
    "   ?s wdt:P279 wd:Q18536594.\n",
    "   # get the label\n",
    "   ?s sc:name ?sname.\n",
    "\n",
    "}\n",
    "\n",
    "limit 10\n",
    "\"\"\"\n",
    "\n",
    "print(\"Results\")\n",
    "x=run_query(queryString)"
   ]
  },
  {
   "cell_type": "code",
   "execution_count": 15,
   "id": "e9fb36cc-da7f-4438-af37-33e5c9759d6f",
   "metadata": {},
   "outputs": [
    {
     "name": "stdout",
     "output_type": "stream",
     "text": [
      "Results\n",
      "[('s', 'http://www.wikidata.org/entity/Q17088224'), ('sname', \"shooting at the 1992 Summer Olympics – men's 50 metre rifle three positions\")]\n",
      "[('s', 'http://www.wikidata.org/entity/Q15055081'), ('sname', \"snowboarding at the 2014 Winter Olympics – men's halfpipe\")]\n",
      "[('s', 'http://www.wikidata.org/entity/Q15506507'), ('sname', \"short track speed skating at the 2014 Winter Olympics – men's 1500 metres\")]\n",
      "[('s', 'http://www.wikidata.org/entity/Q7500802'), ('sname', \"shooting at the 1996 Summer Olympics – women's 50 metre rifle three positions\")]\n",
      "[('s', 'http://www.wikidata.org/entity/Q25162542'), ('sname', \"rugby sevens at the 2016 Summer Olympics – men's tournament\")]\n",
      "[('s', 'http://www.wikidata.org/entity/Q25991469'), ('sname', \"swimming at the 2016 Summer Olympics – women's 4 × 100 metre medley relay\")]\n",
      "[('s', 'http://www.wikidata.org/entity/Q26250761'), ('sname', \"sailing at the 2016 Summer Olympics – men's RS:X\")]\n",
      "[('s', 'http://www.wikidata.org/entity/Q26252025'), ('sname', \"swimming at the 2016 Summer Olympics – women's 4 × 200 metre freestyle relay\")]\n",
      "[('s', 'http://www.wikidata.org/entity/Q39080782'), ('sname', \"rugby sevens at the 2020 Summer Olympics – men's tournament\")]\n",
      "[('s', 'http://www.wikidata.org/entity/Q64514011'), ('sname', \"swimming at the 2020 Summer Olympics – women's 200 metre butterfly\")]\n",
      "10\n"
     ]
    }
   ],
   "source": [
    "# write your final query\n",
    "\n",
    "queryString = \"\"\"\n",
    "SELECT DISTINCT ?s ?sname\n",
    "WHERE {\n",
    "\n",
    "   # bind something\n",
    "   ?s wdt:P31 wd:Q18536594.\n",
    "   # get the label\n",
    "   ?s sc:name ?sname.\n",
    "\n",
    "}\n",
    "\n",
    "limit 10\n",
    "\"\"\"\n",
    "\n",
    "print(\"Results\")\n",
    "x=run_query(queryString)"
   ]
  },
  {
   "cell_type": "markdown",
   "id": "4d0a364c",
   "metadata": {},
   "source": [
    "## Task 6\n",
    "Consider only the summer olympic games of 2004-2008-2012-2016. Return the number of marathon runners who had partecipated to all these editions group by their country of citizenship (if the runner partecipated in more than one edition of the game, consider him/her only once) (the result set must be a list of country IRI, label and #marathon runners)"
   ]
  },
  {
   "cell_type": "code",
   "execution_count": 17,
   "id": "d27b64d1",
   "metadata": {},
   "outputs": [
    {
     "name": "stdout",
     "output_type": "stream",
     "text": [
      "Results\n",
      "[('match', 'http://www.wikidata.org/entity/Q17088224'), ('mname', \"shooting at the 1992 Summer Olympics – men's 50 metre rifle three positions\"), ('time', '1992-01-01T00:00:00Z')]\n",
      "[('match', 'http://www.wikidata.org/entity/Q15055081'), ('mname', \"snowboarding at the 2014 Winter Olympics – men's halfpipe\"), ('time', '2014-02-11T00:00:00Z')]\n",
      "[('match', 'http://www.wikidata.org/entity/Q15506507'), ('mname', \"short track speed skating at the 2014 Winter Olympics – men's 1500 metres\"), ('time', '2014-01-01T00:00:00Z')]\n",
      "[('match', 'http://www.wikidata.org/entity/Q7500802'), ('mname', \"shooting at the 1996 Summer Olympics – women's 50 metre rifle three positions\"), ('time', '1996-01-01T00:00:00Z')]\n",
      "[('match', 'http://www.wikidata.org/entity/Q25162542'), ('mname', \"rugby sevens at the 2016 Summer Olympics – men's tournament\"), ('time', '2016-01-01T00:00:00Z')]\n",
      "[('match', 'http://www.wikidata.org/entity/Q25991469'), ('mname', \"swimming at the 2016 Summer Olympics – women's 4 × 100 metre medley relay\"), ('time', '2016-01-01T00:00:00Z')]\n",
      "[('match', 'http://www.wikidata.org/entity/Q26250761'), ('mname', \"sailing at the 2016 Summer Olympics – men's RS:X\"), ('time', '2016-01-01T00:00:00Z')]\n",
      "[('match', 'http://www.wikidata.org/entity/Q26252025'), ('mname', \"swimming at the 2016 Summer Olympics – women's 4 × 200 metre freestyle relay\"), ('time', '2016-01-01T00:00:00Z')]\n",
      "[('match', 'http://www.wikidata.org/entity/Q64514011'), ('mname', \"swimming at the 2020 Summer Olympics – women's 200 metre butterfly\"), ('time', '2021-07-01T00:00:00Z')]\n",
      "[('match', 'http://www.wikidata.org/entity/Q64514190'), ('mname', \"swimming at the 2020 Summer Olympics – women's 4 × 200 metre freestyle relay\"), ('time', '2021-07-01T00:00:00Z')]\n",
      "[('match', 'http://www.wikidata.org/entity/Q1222037'), ('mname', \"cross-country skiing at the 1960 Winter Olympics – women's 3 x 5 km relay\"), ('time', '1960-01-01T00:00:00Z')]\n",
      "[('match', 'http://www.wikidata.org/entity/Q17078738'), ('mname', \"canoeing at the 1968 Summer Olympics – men's C-2 1000 metres\"), ('time', '1968-01-01T00:00:00Z')]\n",
      "[('match', 'http://www.wikidata.org/entity/Q26233103'), ('mname', \"athletics at the 2016 Summer Olympics – men's 400 metres hurdles\"), ('time', '2016-01-01T00:00:00Z')]\n",
      "[('match', 'http://www.wikidata.org/entity/Q66091473'), ('mname', \"athletics at the 2020 Summer Olympics – men's 400 metres hurdles\"), ('time', '2020-01-01T00:00:00Z')]\n",
      "[('match', 'http://www.wikidata.org/entity/Q30680449'), ('mname', 'equestrian at the 1992 Summer Olympics – team dressage'), ('time', '1992-01-01T00:00:00Z')]\n",
      "[('match', 'http://www.wikidata.org/entity/Q11872977'), ('mname', \"wrestling at the 1952 Summer Olympics – men's Greco-Roman light heavyweight\"), ('time', '1952-01-01T00:00:00Z')]\n",
      "[('match', 'http://www.wikidata.org/entity/Q16573658'), ('mname', \"wrestling at the 1932 Summer Olympics – men's Greco-Roman featherweight\"), ('time', '1932-01-01T00:00:00Z')]\n",
      "[('match', 'http://www.wikidata.org/entity/Q16573681'), ('mname', \"wrestling at the 1932 Summer Olympics – men's freestyle featherweight\"), ('time', '1932-01-01T00:00:00Z')]\n",
      "[('match', 'http://www.wikidata.org/entity/Q17635782'), ('mname', \"wrestling at the 1936 Summer Olympics – men's Greco-Roman light heavyweight\"), ('time', '1936-01-01T00:00:00Z')]\n",
      "[('match', 'http://www.wikidata.org/entity/Q17635784'), ('mname', \"wrestling at the 1936 Summer Olympics – men's Greco-Roman featherweight\"), ('time', '1936-01-01T00:00:00Z')]\n",
      "[('match', 'http://www.wikidata.org/entity/Q17635825'), ('mname', \"wrestling at the 1936 Summer Olympics – men's freestyle featherweight\"), ('time', '1936-01-01T00:00:00Z')]\n",
      "[('match', 'http://www.wikidata.org/entity/Q17652181'), ('mname', \"fencing at the 1936 Summer Olympics – men's sabre\"), ('time', '1936-01-01T00:00:00Z')]\n",
      "[('match', 'http://www.wikidata.org/entity/Q26269219'), ('mname', \"canoeing at the 2016 Summer Olympics – women's K-2 500 metres\"), ('time', '2016-08-16T00:00:00Z')]\n",
      "[('match', 'http://www.wikidata.org/entity/Q5443038'), ('mname', \"fencing at the 1932 Summer Olympics – men's sabre\"), ('time', '1932-01-01T00:00:00Z')]\n",
      "[('match', 'http://www.wikidata.org/entity/Q5443051'), ('mname', \"fencing at the 1948 Summer Olympics – men's sabre\"), ('time', '1948-01-01T00:00:00Z')]\n",
      "[('match', 'http://www.wikidata.org/entity/Q5624250'), ('mname', \"gymnastics at the 1928 Summer Olympics – women's team\"), ('time', '1928-01-01T00:00:00Z')]\n",
      "[('match', 'http://www.wikidata.org/entity/Q1130659'), ('mname', \"swimming at the 2004 Summer Olympics – men's 50 metre freestyle\"), ('time', '2004-01-01T00:00:00Z')]\n",
      "[('match', 'http://www.wikidata.org/entity/Q22096632'), ('mname', \"shooting at the 1984 Summer Olympics – men's 50 metre rifle three positions\"), ('time', '1984-01-01T00:00:00Z')]\n",
      "[('match', 'http://www.wikidata.org/entity/Q26212162'), ('mname', \"judo at the 2016 Summer Olympics – women's 48 kg\"), ('time', '2016-08-06T00:00:00Z')]\n",
      "[('match', 'http://www.wikidata.org/entity/Q26237528'), ('mname', \"diving at the 2016 Summer Olympics – women's synchronized 10 metre platform\"), ('time', '2016-08-09T00:00:00Z')]\n",
      "30\n"
     ]
    }
   ],
   "source": [
    "# write your queries\n",
    "\n",
    "\n",
    "queryString = \"\"\"\n",
    "SELECT DISTINCT ?match ?mname ?time \n",
    "WHERE {\n",
    "   # bind something\n",
    "   ?match wdt:P31 wd:Q18536594;\n",
    "          wdt:P585 ?time.\n",
    "   # get the label\n",
    "   ?match sc:name ?mname.\n",
    "   #?time sc:name ?tname.\n",
    " \n",
    "}\n",
    "\n",
    "limit 30\n",
    "\"\"\"\n",
    "\n",
    "print(\"Results\")\n",
    "x=run_query(queryString)"
   ]
  },
  {
   "cell_type": "markdown",
   "id": "ba0bae4a",
   "metadata": {},
   "source": [
    "Final query for this task"
   ]
  },
  {
   "cell_type": "code",
   "execution_count": 16,
   "id": "b4b66ad3",
   "metadata": {},
   "outputs": [
    {
     "name": "stdout",
     "output_type": "stream",
     "text": [
      "Results\n",
      "[('match', 'http://www.wikidata.org/entity/Q2071171'), ('mname', \"athletics at the 2012 Summer Olympics – men's 5000 metres\"), ('time', '2012-01-01T00:00:00Z'), ('rname', 'marathon runner'), ('runner', 'http://www.wikidata.org/entity/Q13382460')]\n",
      "[('match', 'http://www.wikidata.org/entity/Q2071171'), ('mname', \"athletics at the 2012 Summer Olympics – men's 5000 metres\"), ('time', '2012-01-01T00:00:00Z'), ('rname', 'middle-distance runner'), ('runner', 'http://www.wikidata.org/entity/Q13381753')]\n",
      "[('match', 'http://www.wikidata.org/entity/Q591384'), ('mname', \"athletics at the 2012 Summer Olympics – men's 1500 metres\"), ('time', '2012-01-01T00:00:00Z'), ('rname', 'middle-distance runner'), ('runner', 'http://www.wikidata.org/entity/Q13381753')]\n",
      "[('match', 'http://www.wikidata.org/entity/Q917328'), ('mname', \"athletics at the 2008 Summer Olympics – men's 1500 metres\"), ('time', '2008-01-01T00:00:00Z'), ('rname', 'middle-distance runner'), ('runner', 'http://www.wikidata.org/entity/Q13381753')]\n",
      "[('match', 'http://www.wikidata.org/entity/Q2071171'), ('mname', \"athletics at the 2012 Summer Olympics – men's 5000 metres\"), ('time', '2012-01-01T00:00:00Z'), ('rname', 'long-distance runner'), ('runner', 'http://www.wikidata.org/entity/Q4439155')]\n",
      "[('match', 'http://www.wikidata.org/entity/Q1753402'), ('mname', \"athletics at the 2012 Summer Olympics – men's 10,000 metres\"), ('time', '2012-01-01T00:00:00Z'), ('rname', 'marathon runner'), ('runner', 'http://www.wikidata.org/entity/Q13382460')]\n",
      "[('match', 'http://www.wikidata.org/entity/Q2000988'), ('mname', \"athletics at the 2012 Summer Olympics – women's marathon\"), ('time', '2012-08-05T00:00:00Z'), ('rname', 'marathon runner'), ('runner', 'http://www.wikidata.org/entity/Q13382460')]\n",
      "[('match', 'http://www.wikidata.org/entity/Q609985'), ('mname', \"cycling at the 2008 Summer Olympics – women's road time trial\"), ('time', '2008-01-01T00:00:00Z'), ('rname', 'marathon runner'), ('runner', 'http://www.wikidata.org/entity/Q13382460')]\n",
      "[('match', 'http://www.wikidata.org/entity/Q1753402'), ('mname', \"athletics at the 2012 Summer Olympics – men's 10,000 metres\"), ('time', '2012-01-01T00:00:00Z'), ('rname', 'middle-distance runner'), ('runner', 'http://www.wikidata.org/entity/Q13381753')]\n",
      "[('match', 'http://www.wikidata.org/entity/Q830711'), ('mname', \"athletics at the 2008 Summer Olympics – men's 10,000 metres\"), ('time', '2008-01-01T00:00:00Z'), ('rname', 'long-distance runner'), ('runner', 'http://www.wikidata.org/entity/Q4439155')]\n",
      "[('match', 'http://www.wikidata.org/entity/Q1753402'), ('mname', \"athletics at the 2012 Summer Olympics – men's 10,000 metres\"), ('time', '2012-01-01T00:00:00Z'), ('rname', 'long-distance runner'), ('runner', 'http://www.wikidata.org/entity/Q4439155')]\n",
      "[('match', 'http://www.wikidata.org/entity/Q2000988'), ('mname', \"athletics at the 2012 Summer Olympics – women's marathon\"), ('time', '2012-08-05T00:00:00Z'), ('rname', 'long-distance runner'), ('runner', 'http://www.wikidata.org/entity/Q4439155')]\n",
      "[('match', 'http://www.wikidata.org/entity/Q2090641'), ('mname', \"athletics at the 2012 Summer Olympics – women's 5000 metres\"), ('time', '2012-01-01T00:00:00Z'), ('rname', 'long-distance runner'), ('runner', 'http://www.wikidata.org/entity/Q4439155')]\n",
      "[('match', 'http://www.wikidata.org/entity/Q693595'), ('mname', \"athletics at the 2008 Summer Olympics – men's marathon\"), ('time', '2008-01-01T00:00:00Z'), ('rname', 'marathon runner'), ('runner', 'http://www.wikidata.org/entity/Q13382460')]\n",
      "[('match', 'http://www.wikidata.org/entity/Q1049551'), ('mname', \"athletics at the 2012 Summer Olympics – men's 800 metres\"), ('time', '2012-01-01T00:00:00Z'), ('rname', 'middle-distance runner'), ('runner', 'http://www.wikidata.org/entity/Q13381753')]\n",
      "[('match', 'http://www.wikidata.org/entity/Q677027'), ('mname', \"athletics at the 2008 Summer Olympics – men's 800 metres\"), ('time', '2008-01-01T00:00:00Z'), ('rname', 'middle-distance runner'), ('runner', 'http://www.wikidata.org/entity/Q13381753')]\n",
      "[('match', 'http://www.wikidata.org/entity/Q2071135'), ('mname', \"athletics at the 2012 Summer Olympics – women's 800 metres\"), ('time', '2012-01-01T00:00:00Z'), ('rname', 'middle-distance runner'), ('runner', 'http://www.wikidata.org/entity/Q13381753')]\n",
      "[('match', 'http://www.wikidata.org/entity/Q544177'), ('mname', \"athletics at the 2008 Summer Olympics – men's 3000 metres steeplechase\"), ('time', '2008-01-01T00:00:00Z'), ('rname', 'middle-distance runner'), ('runner', 'http://www.wikidata.org/entity/Q13381753')]\n",
      "[('match', 'http://www.wikidata.org/entity/Q1043354'), ('mname', \"athletics at the 2008 Summer Olympics – women's 800 metres\"), ('time', '2008-01-01T00:00:00Z'), ('rname', 'middle-distance runner'), ('runner', 'http://www.wikidata.org/entity/Q13381753')]\n",
      "[('match', 'http://www.wikidata.org/entity/Q947750'), ('mname', \"athletics at the 2008 Summer Olympics – women's 3000 metres steeplechase\"), ('time', '2008-01-01T00:00:00Z'), ('rname', 'middle-distance runner'), ('runner', 'http://www.wikidata.org/entity/Q13381753')]\n",
      "[('match', 'http://www.wikidata.org/entity/Q1043342'), ('mname', \"athletics at the 2008 Summer Olympics – women's 1500 metres\"), ('time', '2008-01-01T00:00:00Z'), ('rname', 'middle-distance runner'), ('runner', 'http://www.wikidata.org/entity/Q13381753')]\n",
      "[('match', 'http://www.wikidata.org/entity/Q2071129'), ('mname', \"athletics at the 2012 Summer Olympics – women's 1500 metres\"), ('time', '2012-01-01T00:00:00Z'), ('rname', 'middle-distance runner'), ('runner', 'http://www.wikidata.org/entity/Q13381753')]\n",
      "[('match', 'http://www.wikidata.org/entity/Q1043347'), ('mname', \"athletics at the 2008 Summer Olympics – women's 5000 metres\"), ('time', '2008-01-01T00:00:00Z'), ('rname', 'long-distance runner'), ('runner', 'http://www.wikidata.org/entity/Q4439155')]\n",
      "[('match', 'http://www.wikidata.org/entity/Q853049'), ('mname', \"athletics at the 2008 Summer Olympics – women's 10,000 metres\"), ('time', '2008-01-01T00:00:00Z'), ('rname', 'long-distance runner'), ('runner', 'http://www.wikidata.org/entity/Q4439155')]\n",
      "[('match', 'http://www.wikidata.org/entity/Q853072'), ('mname', \"athletics at the 2008 Summer Olympics – men's 5000 metres\"), ('time', '2008-01-01T00:00:00Z'), ('rname', 'long-distance runner'), ('runner', 'http://www.wikidata.org/entity/Q4439155')]\n",
      "[('match', 'http://www.wikidata.org/entity/Q947691'), ('mname', \"athletics at the 2008 Summer Olympics – women's marathon\"), ('time', '2008-01-01T00:00:00Z'), ('rname', 'long-distance runner'), ('runner', 'http://www.wikidata.org/entity/Q4439155')]\n",
      "[('match', 'http://www.wikidata.org/entity/Q693595'), ('mname', \"athletics at the 2008 Summer Olympics – men's marathon\"), ('time', '2008-01-01T00:00:00Z'), ('rname', 'long-distance runner'), ('runner', 'http://www.wikidata.org/entity/Q4439155')]\n",
      "[('match', 'http://www.wikidata.org/entity/Q947750'), ('mname', \"athletics at the 2008 Summer Olympics – women's 3000 metres steeplechase\"), ('time', '2008-01-01T00:00:00Z'), ('rname', 'long-distance runner'), ('runner', 'http://www.wikidata.org/entity/Q4439155')]\n",
      "[('match', 'http://www.wikidata.org/entity/Q1798983'), ('mname', \"athletics at the 2012 Summer Olympics – men's marathon\"), ('time', '2012-01-01T00:00:00Z'), ('rname', 'marathon runner'), ('runner', 'http://www.wikidata.org/entity/Q13382460')]\n",
      "[('match', 'http://www.wikidata.org/entity/Q1799275'), ('mname', \"athletics at the 2012 Summer Olympics – women's 10,000 metres\"), ('time', '2012-01-01T00:00:00Z'), ('rname', 'long-distance runner'), ('runner', 'http://www.wikidata.org/entity/Q4439155')]\n",
      "30\n"
     ]
    }
   ],
   "source": [
    "# write your queries\n",
    "# i have found time as P585\n",
    "#i found P1346 as winner\n",
    "#2004-2008-2012-2016\n",
    "queryString = \"\"\"\n",
    "SELECT DISTINCT ?match ?mname ?time ?rname ?runner \n",
    "WHERE {\n",
    "   # bind something\n",
    "   ?match  wdt:P31 wd:Q18536594;\n",
    "           wdt:P585 ?time;\n",
    "           wdt:P1346 ?winner.\n",
    "   ?winner wdt:P106 ?runner.\n",
    "   # get the label\n",
    "   ?match sc:name ?mname.\n",
    "   ?runner sc:name ?rname.\n",
    "   FILTER REGEX(?rname, 'runner','i')\n",
    "   FILTER REGEX(?mname, 'summer','i')\n",
    "   FILTER(YEAR(?time) >= 2008 && YEAR(?time) <=2014)\n",
    " \n",
    "}\n",
    "\n",
    "limit 30\n",
    "\"\"\"\n",
    "\n",
    "print(\"Results\")\n",
    "x=run_query(queryString)"
   ]
  },
  {
   "cell_type": "markdown",
   "id": "1e52eabd",
   "metadata": {},
   "source": [
    "## Task 7\n",
    "For each disciplines of the long distance running find who hold the World Record (the result set must be a list of elements with discipline IRI, label and athlete IRI and label)."
   ]
  },
  {
   "cell_type": "code",
   "execution_count": 13,
   "id": "ab7c4f10",
   "metadata": {},
   "outputs": [
    {
     "name": "stdout",
     "output_type": "stream",
     "text": [
      "Results\n",
      "[('s', 'http://www.wikidata.org/entity/Q13382460'), ('sname', 'marathon runner')]\n",
      "[('s', 'http://www.wikidata.org/entity/Q19827218'), ('sname', 'ultramarathon runner')]\n",
      "2\n"
     ]
    }
   ],
   "source": [
    "# write your queries\n",
    " \n",
    "queryString = \"\"\"\n",
    "SELECT DISTINCT ?s ?sname \n",
    "WHERE {\n",
    "   # bind something\n",
    "   ?s wdt:P279 wd:Q4439155.\n",
    "   # get the label\n",
    "   ?s sc:name ?sname.\n",
    "   \n",
    "}\n",
    "limit 20\n",
    "\"\"\"\n",
    "\n",
    "print(\"Results\")\n",
    "x=run_query(queryString)\n"
   ]
  },
  {
   "cell_type": "markdown",
   "id": "da5dfb0f",
   "metadata": {},
   "source": [
    "Final query for this task"
   ]
  },
  {
   "cell_type": "code",
   "execution_count": 4,
   "id": "bf01ef64-31f5-4b9b-95fc-885039badc58",
   "metadata": {},
   "outputs": [
    {
     "name": "stdout",
     "output_type": "stream",
     "text": [
      "Results\n",
      "[('p', 'http://www.wikidata.org/prop/direct/P1000'), ('pname', 'record held')]\n",
      "[('p', 'http://www.wikidata.org/prop/direct/P106'), ('pname', 'occupation')]\n",
      "[('p', 'http://www.wikidata.org/prop/direct/P1146'), ('pname', 'World Athletics athlete ID')]\n",
      "[('p', 'http://www.wikidata.org/prop/direct/P1344'), ('pname', 'participant in')]\n",
      "[('p', 'http://www.wikidata.org/prop/direct/P1412'), ('pname', 'languages spoken, written or signed')]\n",
      "[('p', 'http://www.wikidata.org/prop/direct/P1447'), ('pname', 'Sports-Reference.com Olympic athlete ID')]\n",
      "[('p', 'http://www.wikidata.org/prop/direct/P1532'), ('pname', 'country for sport')]\n",
      "[('p', 'http://www.wikidata.org/prop/direct/P1559'), ('pname', 'name in native language')]\n",
      "[('p', 'http://www.wikidata.org/prop/direct/P172'), ('pname', 'ethnic group')]\n",
      "[('p', 'http://www.wikidata.org/prop/direct/P1741'), ('pname', 'GTAA ID')]\n",
      "[('p', 'http://www.wikidata.org/prop/direct/P18'), ('pname', 'image')]\n",
      "[('p', 'http://www.wikidata.org/prop/direct/P19'), ('pname', 'place of birth')]\n",
      "[('p', 'http://www.wikidata.org/prop/direct/P2002'), ('pname', 'Twitter username')]\n",
      "[('p', 'http://www.wikidata.org/prop/direct/P2003'), ('pname', 'Instagram username')]\n",
      "[('p', 'http://www.wikidata.org/prop/direct/P2013'), ('pname', 'Facebook ID')]\n",
      "[('p', 'http://www.wikidata.org/prop/direct/P2048'), ('pname', 'height')]\n",
      "[('p', 'http://www.wikidata.org/prop/direct/P2067'), ('pname', 'mass')]\n",
      "[('p', 'http://www.wikidata.org/prop/direct/P21'), ('pname', 'sex or gender')]\n",
      "[('p', 'http://www.wikidata.org/prop/direct/P214'), ('pname', 'VIAF ID')]\n",
      "[('p', 'http://www.wikidata.org/prop/direct/P227'), ('pname', 'GND ID')]\n",
      "20\n"
     ]
    }
   ],
   "source": [
    "# query example\n",
    "# we find record holder which is P1000 \n",
    "queryString = \"\"\"\n",
    "SELECT DISTINCT ?p ?pname\n",
    "WHERE {\n",
    "   # bind something\n",
    "   wd:Q9124 ?p ?o.\n",
    "   # get the label\n",
    "   ?p sc:name ?pname.\n",
    "}\n",
    "LIMIT 20\n",
    "\"\"\"\n",
    "\n",
    "print(\"Results\")\n",
    "x=run_query(queryString)"
   ]
  },
  {
   "cell_type": "code",
   "execution_count": 4,
   "id": "71e89f5a-af14-49fa-bc23-db01b43e9bd2",
   "metadata": {},
   "outputs": [
    {
     "name": "stdout",
     "output_type": "stream",
     "text": [
      "Results\n",
      "[('runner', 'http://www.wikidata.org/entity/Q1044585'), ('oname', 'Caroline Walker'), ('dname', 'marathon runner'), ('discipline', 'http://www.wikidata.org/entity/Q13382460'), ('rname', 'Marathon world record progression'), ('record', 'http://www.wikidata.org/entity/Q929585')]\n",
      "[('runner', 'http://www.wikidata.org/entity/Q171500'), ('oname', 'Gebrselassie Haile'), ('dname', 'marathon runner'), ('discipline', 'http://www.wikidata.org/entity/Q13382460'), ('rname', 'Marathon world record progression'), ('record', 'http://www.wikidata.org/entity/Q929585')]\n",
      "[('runner', 'http://www.wikidata.org/entity/Q728634'), ('oname', 'Robert de Castella'), ('dname', 'marathon runner'), ('discipline', 'http://www.wikidata.org/entity/Q13382460'), ('rname', 'Marathon world record progression'), ('record', 'http://www.wikidata.org/entity/Q929585')]\n",
      "[('runner', 'http://www.wikidata.org/entity/Q9124'), ('oname', 'Eliud Kipchoge'), ('dname', 'marathon runner'), ('discipline', 'http://www.wikidata.org/entity/Q13382460'), ('rname', 'Marathon world record progression'), ('record', 'http://www.wikidata.org/entity/Q929585')]\n",
      "[('runner', 'http://www.wikidata.org/entity/Q133667'), ('oname', 'Sohn Kee-chung'), ('dname', 'marathon runner'), ('discipline', 'http://www.wikidata.org/entity/Q13382460'), ('rname', 'Marathon world record progression'), ('record', 'http://www.wikidata.org/entity/Q929585')]\n",
      "[('runner', 'http://www.wikidata.org/entity/Q1705'), ('oname', 'Wilson Kipsang Kiprotich'), ('dname', 'marathon runner'), ('discipline', 'http://www.wikidata.org/entity/Q13382460'), ('rname', 'Marathon world record progression'), ('record', 'http://www.wikidata.org/entity/Q929585')]\n",
      "[('runner', 'http://www.wikidata.org/entity/Q518358'), ('oname', 'Beth Bonner'), ('dname', 'marathon runner'), ('discipline', 'http://www.wikidata.org/entity/Q13382460'), ('rname', 'Marathon world record progression'), ('record', 'http://www.wikidata.org/entity/Q929585')]\n",
      "[('runner', 'http://www.wikidata.org/entity/Q815310'), ('oname', 'Belayneh Densamo'), ('dname', 'marathon runner'), ('discipline', 'http://www.wikidata.org/entity/Q13382460'), ('rname', 'Marathon world record progression'), ('record', 'http://www.wikidata.org/entity/Q929585')]\n",
      "[('runner', 'http://www.wikidata.org/entity/Q454958'), ('oname', 'Carlos Lopes'), ('dname', 'marathon runner'), ('discipline', 'http://www.wikidata.org/entity/Q13382460'), ('rname', 'Marathon world record progression'), ('record', 'http://www.wikidata.org/entity/Q929585')]\n",
      "[('runner', 'http://www.wikidata.org/entity/Q456857'), ('oname', 'Johnny Hayes'), ('dname', 'marathon runner'), ('discipline', 'http://www.wikidata.org/entity/Q13382460'), ('rname', 'Marathon world record progression'), ('record', 'http://www.wikidata.org/entity/Q929585')]\n",
      "[('runner', 'http://www.wikidata.org/entity/Q4710838'), ('oname', 'Albert Michelsen'), ('dname', 'marathon runner'), ('discipline', 'http://www.wikidata.org/entity/Q13382460'), ('rname', 'Marathon world record progression'), ('record', 'http://www.wikidata.org/entity/Q929585')]\n",
      "[('runner', 'http://www.wikidata.org/entity/Q311338'), ('oname', 'Hannes Kolehmainen'), ('dname', 'marathon runner'), ('discipline', 'http://www.wikidata.org/entity/Q13382460'), ('rname', 'Marathon world record progression'), ('record', 'http://www.wikidata.org/entity/Q929585')]\n",
      "[('runner', 'http://www.wikidata.org/entity/Q52596'), ('oname', 'Abebe Bikila'), ('dname', 'marathon runner'), ('discipline', 'http://www.wikidata.org/entity/Q13382460'), ('rname', 'Marathon world record progression'), ('record', 'http://www.wikidata.org/entity/Q929585')]\n",
      "[('runner', 'http://www.wikidata.org/entity/Q63223'), ('oname', 'Dennis Kipruto Kimetto'), ('dname', 'marathon runner'), ('discipline', 'http://www.wikidata.org/entity/Q13382460'), ('rname', 'Marathon world record progression'), ('record', 'http://www.wikidata.org/entity/Q929585')]\n",
      "[('runner', 'http://www.wikidata.org/entity/Q313799'), ('oname', 'Paul Tergat'), ('dname', 'marathon runner'), ('discipline', 'http://www.wikidata.org/entity/Q13382460'), ('rname', 'Marathon world record progression'), ('record', 'http://www.wikidata.org/entity/Q929585')]\n",
      "[('runner', 'http://www.wikidata.org/entity/Q547285'), ('oname', 'Anni Pede-Erdkamp'), ('dname', 'marathon runner'), ('discipline', 'http://www.wikidata.org/entity/Q13382460'), ('rname', 'Marathon world record progression'), ('record', 'http://www.wikidata.org/entity/Q929585')]\n",
      "[('runner', 'http://www.wikidata.org/entity/Q950340'), ('oname', 'Ronaldo da Costa'), ('dname', 'marathon runner'), ('discipline', 'http://www.wikidata.org/entity/Q13382460'), ('rname', 'Marathon world record progression'), ('record', 'http://www.wikidata.org/entity/Q929585')]\n",
      "[('runner', 'http://www.wikidata.org/entity/Q428087'), ('oname', 'Yasuo Ikenaka'), ('dname', 'marathon runner'), ('discipline', 'http://www.wikidata.org/entity/Q13382460'), ('rname', 'Marathon world record progression'), ('record', 'http://www.wikidata.org/entity/Q929585')]\n",
      "[('runner', 'http://www.wikidata.org/entity/Q443382'), ('oname', 'Toru Terasawa'), ('dname', 'marathon runner'), ('discipline', 'http://www.wikidata.org/entity/Q13382460'), ('rname', 'Marathon world record progression'), ('record', 'http://www.wikidata.org/entity/Q929585')]\n",
      "[('runner', 'http://www.wikidata.org/entity/Q16210614'), ('oname', 'Merry Lepper'), ('dname', 'marathon runner'), ('discipline', 'http://www.wikidata.org/entity/Q13382460'), ('rname', 'Marathon world record progression'), ('record', 'http://www.wikidata.org/entity/Q929585')]\n",
      "20\n"
     ]
    }
   ],
   "source": [
    "# write your queries\n",
    "# query example\n",
    "# we should find who hold the World Record in the long distance running\n",
    "queryString = \"\"\"\n",
    "SELECT DISTINCT ?runner ?oname ?dname ?discipline ?rname ?record\n",
    "WHERE {\n",
    "   # bind something\n",
    "    ?discipline wdt:P279  wd:Q4439155.\n",
    "    ?runner     wdt:P1000 ?record;\n",
    "                wdt:P106  ?discipline.\n",
    "   # get the label\n",
    "   ?runner sc:name ?oname.\n",
    "   ?record sc:name ?rname.\n",
    "   ?discipline sc:name ?dname.\n",
    "   FILTER REGEX(?rname, 'world','i')\n",
    "   \n",
    "}\n",
    "limit 20\n",
    "\"\"\"\n",
    "\n",
    "print(\"Results\")\n",
    "x=run_query(queryString)\n"
   ]
  },
  {
   "cell_type": "code",
   "execution_count": null,
   "id": "4c5370ea",
   "metadata": {},
   "outputs": [],
   "source": [
    "# write your final query"
   ]
  }
 ],
 "metadata": {
  "kernelspec": {
   "display_name": "Python 3",
   "language": "python",
   "name": "python3"
  },
  "language_info": {
   "codemirror_mode": {
    "name": "ipython",
    "version": 3
   },
   "file_extension": ".py",
   "mimetype": "text/x-python",
   "name": "python",
   "nbconvert_exporter": "python",
   "pygments_lexer": "ipython3",
   "version": "3.7.10"
  }
 },
 "nbformat": 4,
 "nbformat_minor": 5
}
