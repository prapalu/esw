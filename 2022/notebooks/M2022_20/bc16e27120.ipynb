{
 "cells": [
  {
   "cell_type": "markdown",
   "id": "deed7149",
   "metadata": {},
   "source": [
    "# General instructions\n",
    "\n",
    "The goal of the project is to materialize a set of **exploratory workloads** over a real-world, large-scale,  open-domain KG: [WikiData](https://www.wikidata.org/wiki/Wikidata:Main_Page)\n",
    "\n",
    "An exploratory workload  is composed by a set of queries, where each query is related to the information obtained previously.\n",
    "\n",
    "An exploratory workload starts with a usually vague, open ended question, and does not assume the person issuing the workload has a clear understanding of the data contained in the target database or its structure.\n",
    "\n",
    "Remeber that:\n",
    "\n",
    "1. All the queries must run in the python notebook\n",
    "2. You can use classes and properties only if you find them via a SPARQL query that must be present in the notebook\n",
    "3. You do not delete useless queries. Keep everything that is synthatically valid \n",
    "\n",
    "```\n",
    "?p <http://schema.org/name> ?name .\n",
    "```\n",
    "    \n",
    "    is the BGP returning a human-readable name of a property or a class in Wikidata."
   ]
  },
  {
   "cell_type": "code",
   "execution_count": 2,
   "id": "dd334120",
   "metadata": {},
   "outputs": [],
   "source": [
    "## SETUP used later\n",
    "\n",
    "from SPARQLWrapper import SPARQLWrapper, JSON\n",
    "\n",
    "\n",
    "prefixString = \"\"\"\n",
    "##-bc16e27120-##\n",
    "PREFIX wd: <http://www.wikidata.org/entity/> \n",
    "PREFIX wdt: <http://www.wikidata.org/prop/direct/> \n",
    "PREFIX sc: <http://schema.org/>\n",
    "\"\"\"\n",
    "\n",
    "# select and construct queries\n",
    "def run_query(queryString,verbose = True):\n",
    "    to_run = prefixString + \"\\n\" + queryString\n",
    "\n",
    "    sparql = SPARQLWrapper(\"http://a256-gc1-03.srv.aau.dk:5820/sparql\")\n",
    "    sparql.setTimeout(300)\n",
    "    sparql.setReturnFormat(JSON)\n",
    "    sparql.setQuery(to_run)\n",
    "\n",
    "    try :\n",
    "        results = sparql.query()\n",
    "        json_results = results.convert()\n",
    "        if len(json_results['results']['bindings'])==0:\n",
    "            print(\"Empty\")\n",
    "            return []\n",
    "        array = []\n",
    "        for bindings in json_results['results']['bindings']:\n",
    "            app =  [ (var, value['value'])  for var, value in bindings.items() ] \n",
    "            if verbose:\n",
    "                print( app)\n",
    "            array.append(app)\n",
    "        if verbose:\n",
    "            print(len(array))\n",
    "        return array\n",
    "\n",
    "    except Exception as e :\n",
    "        print(\"The operation failed\", e)\n",
    "    \n",
    "# ASk queries\n",
    "def run_ask_query(queryString):\n",
    "    to_run = prefixString + \"\\n\" + queryString\n",
    "\n",
    "    sparql = SPARQLWrapper(\"http://a256-gc1-03.srv.aau.dk:5820/sparql\")\n",
    "    sparql.setTimeout(300)\n",
    "    sparql.setReturnFormat(JSON)\n",
    "    sparql.setQuery(to_run)\n",
    "\n",
    "    try :\n",
    "        return sparql.query().convert()\n",
    "\n",
    "    except Exception as e :\n",
    "        print(\"The operation failed\", e)"
   ]
  },
  {
   "cell_type": "markdown",
   "id": "8c5774f7",
   "metadata": {},
   "source": [
    "# Sport Workflow Series (\"Running explorative search\") \n",
    "\n",
    "Consider the following exploratory information need:\n",
    "\n",
    "> investigate the association football players and find the main BGPs related to this sports. Compare awards and participation in the competitions of the players"
   ]
  },
  {
   "cell_type": "markdown",
   "id": "d0b0a0c8",
   "metadata": {},
   "source": [
    "## Useful URIs for the current workflow\n",
    "The following are given:\n",
    "\n",
    "| IRI           | Description   | Role      |\n",
    "| -----------   | -----------   |-----------|\n",
    "| `wdt:P1647`   | subproperty   | predicate |\n",
    "| `wdt:P31`     | instance of   | predicate |\n",
    "| `wdt:P106`    | profession    | predicate | \n",
    "| `wdt:P279`    | subclass      | predicate |\n",
    "| `wdt:P27`     | nationality   | predicate |\n",
    "| `wd:Q5`       | Human         | node      |\n",
    "| `wd:Q9124`    | Eliud Kipchoge| node      |\n",
    "| `wd:Q853003`| athletics at the 2008 Summer Olympics – men's 200 metres |node|\n"
   ]
  },
  {
   "cell_type": "markdown",
   "id": "75e40b55",
   "metadata": {},
   "source": [
    "\n",
    "\n",
    "\n",
    "Also consider\n",
    "\n",
    "```\n",
    "wd:Q9124 ?p ?obj .\n",
    "```\n",
    "\n",
    "is the BGP to retrieve all **properties of Eliud Kipchoge**\n",
    "\n",
    "\n",
    "Please consider that when you return a resource, you should return the IRI and the label of the resource. In particular, when the task require you to identify a BGP the result set must always be a list of couples IRI - label.\n",
    "\n",
    "\n",
    "The workload should:\n",
    "\n",
    "\n",
    "1. Identify the BGP for runner\n",
    "\n",
    "2. Identify the BGP for long distance running\n",
    "\n",
    "3. Return the disciplines of the long distance running (e.g. marathon) (the result set must be a list of couples discipline IRI and label).\n",
    "\n",
    "4. Consider marathons ran in Europe. Return the number of different runners who won a marathon group by their country of citizenship (the result set must be a triples of country IRI, label and #different runners).\n",
    "\n",
    "5. Identify the BGP for Olympic Games\n",
    "\n",
    "6. Consider only the summer olympic games of 2004-2008-2012-2016. Return the number of marathon runners who had partecipated to all these editions group by their country of citizenship (if the runner partecipated in more than one edition of the game, consider him/her only once) (the result set must be a list of country IRI, label and #marathon runners)\n",
    "\n",
    "7. For each disciplines of the long distance running find who hold the World Record (the result set must be a list of elements with discipline IRI, label and athlete IRI and label)."
   ]
  },
  {
   "cell_type": "markdown",
   "id": "eb1365c3",
   "metadata": {},
   "source": [
    "## Task 1\n",
    "Identify the BGP for runner"
   ]
  },
  {
   "cell_type": "code",
   "execution_count": 15,
   "id": "15f24df0",
   "metadata": {},
   "outputs": [
    {
     "name": "stdout",
     "output_type": "stream",
     "text": [
      "Results\n",
      "[('instanceof', 'http://www.wikidata.org/entity/Q13382460'), ('instancename', 'marathon runner'), ('subclassof', 'http://www.wikidata.org/entity/Q4439155'), ('subclassname', 'long-distance runner')]\n",
      "[('instanceof', 'http://www.wikidata.org/entity/Q11513337'), ('instancename', 'athletics competitor'), ('subclassof', 'http://www.wikidata.org/entity/Q2066131'), ('subclassname', 'athlete')]\n",
      "[('instanceof', 'http://www.wikidata.org/entity/Q4439155'), ('instancename', 'long-distance runner'), ('subclassof', 'http://www.wikidata.org/entity/Q12803959'), ('subclassname', 'runner')]\n",
      "3\n"
     ]
    }
   ],
   "source": [
    "queryString = \"\"\"\n",
    "SELECT DISTINCT ?instanceof ?instancename ?subclassof ?subclassname\n",
    "WHERE {\n",
    "   wd:Q9124 wdt:P106 ?instanceof .\n",
    "   ?instanceof sc:name ?instancename.\n",
    "   ?instanceof wdt:P279 ?subclassof .\n",
    "   ?subclassof sc:name ?subclassname .\n",
    "}\n",
    "LIMIT 20\n",
    "\"\"\"\n",
    "\n",
    "print(\"Results\")\n",
    "x=run_query(queryString)"
   ]
  },
  {
   "cell_type": "markdown",
   "id": "b6c130eb",
   "metadata": {},
   "source": [
    "Final query for this task"
   ]
  },
  {
   "cell_type": "code",
   "execution_count": 9,
   "id": "d3f7ebfe",
   "metadata": {},
   "outputs": [
    {
     "name": "stdout",
     "output_type": "stream",
     "text": [
      "Results\n",
      "[('p', 'http://www.wikidata.org/prop/direct/P1014'), ('name', 'Art & Architecture Thesaurus ID')]\n",
      "[('p', 'http://www.wikidata.org/prop/direct/P1036'), ('name', 'Dewey Decimal Classification')]\n",
      "[('p', 'http://www.wikidata.org/prop/direct/P1296'), ('name', 'Gran Enciclopèdia Catalana ID')]\n",
      "[('p', 'http://www.wikidata.org/prop/direct/P1889'), ('name', 'different from')]\n",
      "[('p', 'http://www.wikidata.org/prop/direct/P227'), ('name', 'GND ID')]\n",
      "[('p', 'http://www.wikidata.org/prop/direct/P2347'), ('name', 'YSO ID')]\n",
      "[('p', 'http://www.wikidata.org/prop/direct/P244'), ('name', 'Library of Congress authority ID')]\n",
      "[('p', 'http://www.wikidata.org/prop/direct/P268'), ('name', 'Bibliothèque nationale de France ID')]\n",
      "[('p', 'http://www.wikidata.org/prop/direct/P279'), ('name', 'subclass of')]\n",
      "[('p', 'http://www.wikidata.org/prop/direct/P31'), ('name', 'instance of')]\n",
      "[('p', 'http://www.wikidata.org/prop/direct/P373'), ('name', 'Commons category')]\n",
      "[('p', 'http://www.wikidata.org/prop/direct/P425'), ('name', 'field of this occupation')]\n",
      "[('p', 'http://www.wikidata.org/prop/direct/P8814'), ('name', 'WordNet 3.1 Synset ID')]\n",
      "[('p', 'http://www.wikidata.org/prop/direct/P910'), ('name', \"topic's main category\")]\n",
      "14\n"
     ]
    }
   ],
   "source": [
    "queryString = \"\"\"\n",
    "SELECT DISTINCT ?p ?name \n",
    "WHERE {\n",
    "   wd:Q12803959 ?p ?obj .\n",
    "   ?p sc:name ?name \n",
    "}\n",
    "LIMIT 20\n",
    "\"\"\"\n",
    "\n",
    "print(\"Results\")\n",
    "x=run_query(queryString)"
   ]
  },
  {
   "cell_type": "markdown",
   "id": "b69a4b06",
   "metadata": {},
   "source": [
    "## Task 2\n",
    "Identify the BGP for long distance running"
   ]
  },
  {
   "cell_type": "code",
   "execution_count": 34,
   "id": "d1cf9a62",
   "metadata": {},
   "outputs": [
    {
     "name": "stdout",
     "output_type": "stream",
     "text": [
      "Results\n",
      "[('instanceof', 'http://www.wikidata.org/entity/Q13382460'), ('instancename', 'marathon runner'), ('field', 'http://www.wikidata.org/entity/Q40244'), ('fieldname', 'marathon')]\n",
      "[('instanceof', 'http://www.wikidata.org/entity/Q11513337'), ('instancename', 'athletics competitor'), ('field', 'http://www.wikidata.org/entity/Q542'), ('fieldname', 'athletics')]\n",
      "[('instanceof', 'http://www.wikidata.org/entity/Q4439155'), ('instancename', 'long-distance runner'), ('field', 'http://www.wikidata.org/entity/Q917206'), ('fieldname', 'long-distance running')]\n",
      "3\n"
     ]
    }
   ],
   "source": [
    "queryString = \"\"\"\n",
    "SELECT DISTINCT ?instanceof ?instancename ?field ?fieldname\n",
    "WHERE {\n",
    "   wd:Q9124 wdt:P106 ?instanceof .\n",
    "   ?instanceof sc:name ?instancename.\n",
    "    ?instanceof wdt:P425 ?field.\n",
    "   ?field sc:name ?fieldname .\n",
    "\n",
    "}\n",
    "LIMIT 20\n",
    "\"\"\"\n",
    "\n",
    "print(\"Results\")\n",
    "x=run_query(queryString)"
   ]
  },
  {
   "cell_type": "markdown",
   "id": "440c7f5a",
   "metadata": {},
   "source": [
    "Final query for this task"
   ]
  },
  {
   "cell_type": "code",
   "execution_count": 35,
   "id": "b807b48a",
   "metadata": {},
   "outputs": [
    {
     "name": "stdout",
     "output_type": "stream",
     "text": [
      "Results\n",
      "[('p', 'http://www.wikidata.org/prop/direct/P1417'), ('name', 'Encyclopædia Britannica Online ID')]\n",
      "[('p', 'http://www.wikidata.org/prop/direct/P227'), ('name', 'GND ID')]\n",
      "[('p', 'http://www.wikidata.org/prop/direct/P2347'), ('name', 'YSO ID')]\n",
      "[('p', 'http://www.wikidata.org/prop/direct/P244'), ('name', 'Library of Congress authority ID')]\n",
      "[('p', 'http://www.wikidata.org/prop/direct/P2581'), ('name', 'BabelNet ID')]\n",
      "[('p', 'http://www.wikidata.org/prop/direct/P279'), ('name', 'subclass of')]\n",
      "[('p', 'http://www.wikidata.org/prop/direct/P3095'), ('name', 'practiced by')]\n",
      "[('p', 'http://www.wikidata.org/prop/direct/P31'), ('name', 'instance of')]\n",
      "[('p', 'http://www.wikidata.org/prop/direct/P3417'), ('name', 'Quora topic ID')]\n",
      "[('p', 'http://www.wikidata.org/prop/direct/P3553'), ('name', 'Zhihu topic ID')]\n",
      "[('p', 'http://www.wikidata.org/prop/direct/P361'), ('name', 'part of')]\n",
      "[('p', 'http://www.wikidata.org/prop/direct/P373'), ('name', 'Commons category')]\n",
      "[('p', 'http://www.wikidata.org/prop/direct/P3827'), ('name', 'JSTOR topic ID')]\n",
      "[('p', 'http://www.wikidata.org/prop/direct/P527'), ('name', 'has part')]\n",
      "[('p', 'http://www.wikidata.org/prop/direct/P641'), ('name', 'sport')]\n",
      "[('p', 'http://www.wikidata.org/prop/direct/P646'), ('name', 'Freebase ID')]\n",
      "[('p', 'http://www.wikidata.org/prop/direct/P7033'), ('name', 'Australian Educational Vocabulary ID')]\n",
      "[('p', 'http://www.wikidata.org/prop/direct/P7818'), ('name', 'French Vikidia ID')]\n",
      "[('p', 'http://www.wikidata.org/prop/direct/P8408'), ('name', 'KBpedia ID')]\n",
      "[('p', 'http://www.wikidata.org/prop/direct/P910'), ('name', \"topic's main category\")]\n",
      "20\n"
     ]
    }
   ],
   "source": [
    "queryString = \"\"\"\n",
    "SELECT DISTINCT ?p ?name \n",
    "WHERE {\n",
    "     wd:Q917206 ?p ?obj.\n",
    "   ?p sc:name ?name .\n",
    "}\n",
    "LIMIT 20\n",
    "\"\"\"\n",
    "\n",
    "print(\"Results\")\n",
    "x=run_query(queryString)"
   ]
  },
  {
   "cell_type": "markdown",
   "id": "88a3f420",
   "metadata": {},
   "source": [
    "## Task 3\n",
    "Return the disciplines of the long distance running (e.g. marathon) (the result set must be a list of couples discipline IRI and label)."
   ]
  },
  {
   "cell_type": "code",
   "execution_count": 38,
   "id": "a45264db",
   "metadata": {},
   "outputs": [
    {
     "name": "stdout",
     "output_type": "stream",
     "text": [
      "Results\n",
      "[('disciplines', 'http://www.wikidata.org/entity/Q26844379'), ('name', 'one-hour run')]\n",
      "[('disciplines', 'http://www.wikidata.org/entity/Q2815830'), ('name', '2 miles run')]\n",
      "[('disciplines', 'http://www.wikidata.org/entity/Q215677'), ('name', 'half marathon')]\n",
      "[('disciplines', 'http://www.wikidata.org/entity/Q163892'), ('name', '10,000 metres')]\n",
      "[('disciplines', 'http://www.wikidata.org/entity/Q240500'), ('name', '5000 metres')]\n",
      "[('disciplines', 'http://www.wikidata.org/entity/Q40244'), ('name', 'marathon')]\n",
      "[('disciplines', 'http://www.wikidata.org/entity/Q2774730'), ('name', '10K run')]\n",
      "[('disciplines', 'http://www.wikidata.org/entity/Q500050'), ('name', 'cross country running')]\n",
      "[('disciplines', 'http://www.wikidata.org/entity/Q26303'), ('name', 'ultramarathon')]\n",
      "[('disciplines', 'http://www.wikidata.org/entity/Q2164200'), ('name', 'one hour run')]\n",
      "[('disciplines', 'http://www.wikidata.org/entity/Q19767716'), ('name', '15K run')]\n",
      "[('disciplines', 'http://www.wikidata.org/entity/Q19827858'), ('name', '20 kilometres')]\n",
      "[('disciplines', 'http://www.wikidata.org/entity/Q2538895'), ('name', 'Waffenlauf')]\n",
      "13\n"
     ]
    }
   ],
   "source": [
    "queryString = \"\"\"\n",
    "SELECT DISTINCT ?disciplines ?name \n",
    "WHERE {\n",
    "    ?disciplines wdt:P279 wd:Q917206 .\n",
    "   ?disciplines sc:name ?name .\n",
    "}\n",
    "LIMIT 20\n",
    "\"\"\"\n",
    "\n",
    "print(\"Results\")\n",
    "x=run_query(queryString)"
   ]
  },
  {
   "cell_type": "markdown",
   "id": "00434398",
   "metadata": {},
   "source": [
    "Final query for this task"
   ]
  },
  {
   "cell_type": "code",
   "execution_count": 39,
   "id": "7394f73e",
   "metadata": {},
   "outputs": [
    {
     "name": "stdout",
     "output_type": "stream",
     "text": [
      "Results\n",
      "[('disciplines', 'http://www.wikidata.org/entity/Q26844379'), ('name', 'one-hour run')]\n",
      "[('disciplines', 'http://www.wikidata.org/entity/Q2815830'), ('name', '2 miles run')]\n",
      "[('disciplines', 'http://www.wikidata.org/entity/Q215677'), ('name', 'half marathon')]\n",
      "[('disciplines', 'http://www.wikidata.org/entity/Q163892'), ('name', '10,000 metres')]\n",
      "[('disciplines', 'http://www.wikidata.org/entity/Q240500'), ('name', '5000 metres')]\n",
      "[('disciplines', 'http://www.wikidata.org/entity/Q40244'), ('name', 'marathon')]\n",
      "[('disciplines', 'http://www.wikidata.org/entity/Q2774730'), ('name', '10K run')]\n",
      "[('disciplines', 'http://www.wikidata.org/entity/Q500050'), ('name', 'cross country running')]\n",
      "[('disciplines', 'http://www.wikidata.org/entity/Q26303'), ('name', 'ultramarathon')]\n",
      "[('disciplines', 'http://www.wikidata.org/entity/Q2164200'), ('name', 'one hour run')]\n",
      "[('disciplines', 'http://www.wikidata.org/entity/Q19767716'), ('name', '15K run')]\n",
      "[('disciplines', 'http://www.wikidata.org/entity/Q19827858'), ('name', '20 kilometres')]\n",
      "[('disciplines', 'http://www.wikidata.org/entity/Q2538895'), ('name', 'Waffenlauf')]\n",
      "13\n"
     ]
    }
   ],
   "source": [
    "queryString = \"\"\"\n",
    "SELECT DISTINCT ?disciplines ?name \n",
    "WHERE {\n",
    "    ?disciplines wdt:P279 wd:Q917206 .\n",
    "   ?disciplines sc:name ?name .\n",
    "}\n",
    "LIMIT 20\n",
    "\"\"\"\n",
    "\n",
    "print(\"Results\")\n",
    "x=run_query(queryString)"
   ]
  },
  {
   "cell_type": "markdown",
   "id": "4d0d64af",
   "metadata": {},
   "source": [
    "## Task 4\n",
    "Consider marathons ran in Europe. Return the number of different runners who won a marathon group by their country of citizenship (the result set must be a triples of country IRI, label and #different runners)."
   ]
  },
  {
   "cell_type": "code",
   "execution_count": 23,
   "id": "0dd6e57f",
   "metadata": {},
   "outputs": [
    {
     "name": "stdout",
     "output_type": "stream",
     "text": [
      "Results\n",
      "[('marathons', 'http://www.wikidata.org/entity/Q161222'), ('name', 'Berlin Marathon'), ('country', 'http://www.wikidata.org/entity/Q183'), ('countryname', 'Germany')]\n",
      "[('marathons', 'http://www.wikidata.org/entity/Q528634'), ('name', 'Frankfurt Marathon'), ('country', 'http://www.wikidata.org/entity/Q183'), ('countryname', 'Germany')]\n",
      "[('marathons', 'http://www.wikidata.org/entity/Q1071285'), ('name', 'Paris Marathon'), ('country', 'http://www.wikidata.org/entity/Q142'), ('countryname', 'France')]\n",
      "[('marathons', 'http://www.wikidata.org/entity/Q578794'), ('name', 'London Marathon'), ('country', 'http://www.wikidata.org/entity/Q145'), ('countryname', 'United Kingdom')]\n",
      "[('marathons', 'http://www.wikidata.org/entity/Q748757'), ('name', 'Rome Marathon'), ('country', 'http://www.wikidata.org/entity/Q38'), ('countryname', 'Italy')]\n",
      "5\n"
     ]
    }
   ],
   "source": [
    "queryString = \"\"\"\n",
    "SELECT DISTINCT ?marathons ?name ?country ?countryname\n",
    "WHERE {\n",
    "    ?marathons wdt:P279 wd:Q40244 .\n",
    "   ?marathons sc:name ?name .\n",
    "   ?marathons wdt:P17 ?country .\n",
    "   ?country sc:name ?countryname .\n",
    "   ?country wdt:P30 ?continent .\n",
    "   ?continent sc:name ?continentname .\n",
    "   FILTER(STR(?continentname)= \"Europe\")\n",
    "   ?person wdt:P1344 ?marathons .\n",
    "   ?person sc:name ?personname\n",
    "}\n",
    "LIMIT 50\n",
    "\"\"\"\n",
    "\n",
    "print(\"Results\")\n",
    "x=run_query(queryString)"
   ]
  },
  {
   "cell_type": "markdown",
   "id": "3f1ea243",
   "metadata": {},
   "source": [
    "Final query for this task"
   ]
  },
  {
   "cell_type": "code",
   "execution_count": 69,
   "id": "807940d9",
   "metadata": {},
   "outputs": [
    {
     "name": "stdout",
     "output_type": "stream",
     "text": [
      "Results\n",
      "[('country', 'http://www.wikidata.org/entity/Q38'), ('countryname', 'Italy'), ('personcount', '2')]\n",
      "[('country', 'http://www.wikidata.org/entity/Q183'), ('countryname', 'Germany'), ('personcount', '3')]\n",
      "[('country', 'http://www.wikidata.org/entity/Q142'), ('countryname', 'France'), ('personcount', '1')]\n",
      "[('country', 'http://www.wikidata.org/entity/Q145'), ('countryname', 'United Kingdom'), ('personcount', '3')]\n",
      "4\n"
     ]
    }
   ],
   "source": [
    "queryString = \"\"\"\n",
    "SELECT DISTINCT ?country ?countryname (count(?person) AS ?personcount)\n",
    "WHERE {\n",
    "    ?marathons wdt:P279 wd:Q40244 .\n",
    "   ?marathons sc:name ?name .\n",
    "   ?marathons wdt:P17 ?country .\n",
    "   ?country sc:name ?countryname .\n",
    "   ?country wdt:P30 ?continent .\n",
    "   ?continent sc:name ?continentname .\n",
    "   FILTER(STR(?continentname)= \"Europe\")\n",
    "   ?person wdt:P1344 ?marathons .\n",
    "   ?person sc:name ?personname\n",
    "} GROUP BY ?country ?countryname\n",
    "LIMIT 50\n",
    "\"\"\"\n",
    "\n",
    "print(\"Results\")\n",
    "x=run_query(queryString)"
   ]
  },
  {
   "cell_type": "markdown",
   "id": "89878ebf",
   "metadata": {},
   "source": [
    "## Task 5\n",
    "Identify the BGP for Olympic Games"
   ]
  },
  {
   "cell_type": "code",
   "execution_count": 77,
   "id": "0cef0142",
   "metadata": {},
   "outputs": [
    {
     "name": "stdout",
     "output_type": "stream",
     "text": [
      "Results\n",
      "[('partof', 'http://www.wikidata.org/entity/Q542'), ('partname', 'athletics'), ('subclassof', 'http://www.wikidata.org/entity/Q212434'), ('subclassname', 'Olympic sport'), ('partof1', 'http://www.wikidata.org/entity/Q5389'), ('partname1', 'Olympic Games')]\n",
      "1\n"
     ]
    }
   ],
   "source": [
    "queryString = \"\"\"\n",
    "SELECT DISTINCT ?partof ?partname ?subclassof ?subclassname ?partof1 ?partname1\n",
    "WHERE {\n",
    "   wd:Q917206 wdt:P361 ?partof .\n",
    "   ?partof sc:name ?partname.\n",
    "   ?partof wdt:P279 ?subclassof .\n",
    "   ?subclassof sc:name ?subclassname .\n",
    "   ?subclassof wdt:P361 ?partof1 . \n",
    "   ?partof1 sc:name ?partname1\n",
    "\n",
    "}\n",
    "LIMIT 20\n",
    "\"\"\"\n",
    "\n",
    "print(\"Results\")\n",
    "x=run_query(queryString)"
   ]
  },
  {
   "cell_type": "markdown",
   "id": "47dda72d",
   "metadata": {},
   "source": [
    "Final query for this task"
   ]
  },
  {
   "cell_type": "code",
   "execution_count": 78,
   "id": "107181ed",
   "metadata": {},
   "outputs": [
    {
     "name": "stdout",
     "output_type": "stream",
     "text": [
      "Results\n",
      "[('p', 'http://www.wikidata.org/prop/direct/P1051'), ('name', 'PSH ID')]\n",
      "[('p', 'http://www.wikidata.org/prop/direct/P1151'), ('name', \"topic's main Wikimedia portal\")]\n",
      "[('p', 'http://www.wikidata.org/prop/direct/P1225'), ('name', 'U.S. National Archives Identifier')]\n",
      "[('p', 'http://www.wikidata.org/prop/direct/P1245'), ('name', 'OmegaWiki Defined Meaning')]\n",
      "[('p', 'http://www.wikidata.org/prop/direct/P1296'), ('name', 'Gran Enciclopèdia Catalana ID')]\n",
      "[('p', 'http://www.wikidata.org/prop/direct/P1343'), ('name', 'described by source')]\n",
      "[('p', 'http://www.wikidata.org/prop/direct/P1417'), ('name', 'Encyclopædia Britannica Online ID')]\n",
      "[('p', 'http://www.wikidata.org/prop/direct/P1424'), ('name', \"topic's main template\")]\n",
      "[('p', 'http://www.wikidata.org/prop/direct/P1546'), ('name', 'motto')]\n",
      "[('p', 'http://www.wikidata.org/prop/direct/P163'), ('name', 'flag')]\n",
      "[('p', 'http://www.wikidata.org/prop/direct/P18'), ('name', 'image')]\n",
      "[('p', 'http://www.wikidata.org/prop/direct/P1807'), ('name', 'Great Aragonese Encyclopedia ID')]\n",
      "[('p', 'http://www.wikidata.org/prop/direct/P1889'), ('name', 'different from')]\n",
      "[('p', 'http://www.wikidata.org/prop/direct/P2002'), ('name', 'Twitter username')]\n",
      "[('p', 'http://www.wikidata.org/prop/direct/P214'), ('name', 'VIAF ID')]\n",
      "[('p', 'http://www.wikidata.org/prop/direct/P2257'), ('name', 'event interval')]\n",
      "[('p', 'http://www.wikidata.org/prop/direct/P227'), ('name', 'GND ID')]\n",
      "[('p', 'http://www.wikidata.org/prop/direct/P2347'), ('name', 'YSO ID')]\n",
      "[('p', 'http://www.wikidata.org/prop/direct/P2397'), ('name', 'YouTube channel ID')]\n",
      "[('p', 'http://www.wikidata.org/prop/direct/P244'), ('name', 'Library of Congress authority ID')]\n",
      "20\n"
     ]
    }
   ],
   "source": [
    "queryString = \"\"\"\n",
    "SELECT DISTINCT ?p ?name \n",
    "WHERE {\n",
    "     wd:Q5389 ?p ?obj.\n",
    "   ?p sc:name ?name .\n",
    "}\n",
    "LIMIT 20\n",
    "\"\"\"\n",
    "\n",
    "print(\"Results\")\n",
    "x=run_query(queryString)"
   ]
  },
  {
   "cell_type": "markdown",
   "id": "19535c0b",
   "metadata": {},
   "source": [
    "## Task 6\n",
    "Consider only the summer olympic games of 2004-2008-2012-2016. Return the number of marathon runners who had partecipated to all these editions group by their country of citizenship (if the runner partecipated in more than one edition of the game, consider him/her only once) (the result set must be a list of country IRI, label and #marathon runners)"
   ]
  },
  {
   "cell_type": "code",
   "execution_count": 20,
   "id": "9d031afd",
   "metadata": {},
   "outputs": [
    {
     "name": "stdout",
     "output_type": "stream",
     "text": [
      "Results\n",
      "[('person', 'http://www.wikidata.org/entity/Q1701191'), ('name', 'John Nada Saya'), ('pname', '2004 Summer Olympics'), ('year', '2004')]\n",
      "[('person', 'http://www.wikidata.org/entity/Q16210841'), ('name', 'Elva Dryer'), ('pname', '2004 Summer Olympics'), ('year', '2004')]\n",
      "[('person', 'http://www.wikidata.org/entity/Q275831'), ('name', 'Christelle Daunay'), ('pname', '2008 Summer Olympics'), ('year', '2008')]\n",
      "[('person', 'http://www.wikidata.org/entity/Q275831'), ('name', 'Christelle Daunay'), ('pname', 'athletics at the 2016 Summer Olympics'), ('year', '2016')]\n",
      "[('person', 'http://www.wikidata.org/entity/Q3575181'), ('name', 'Zemzem Ahmed'), ('pname', '2008 Summer Olympics'), ('year', '2008')]\n",
      "[('person', 'http://www.wikidata.org/entity/Q20988053'), ('name', 'Gulzhanat Zhanatbek'), ('pname', 'athletics at the 2016 Summer Olympics'), ('year', '2016')]\n",
      "[('person', 'http://www.wikidata.org/entity/Q435784'), ('name', 'Stine Larsen'), ('pname', '2004 Summer Olympics'), ('year', '2004')]\n",
      "[('person', 'http://www.wikidata.org/entity/Q450367'), ('name', 'Alyson Dixon'), ('pname', 'athletics at the 2016 Summer Olympics'), ('year', '2016')]\n",
      "[('person', 'http://www.wikidata.org/entity/Q533551'), ('name', 'Peninah Arusei'), ('pname', '2008 Summer Olympics'), ('year', '2008')]\n",
      "[('person', 'http://www.wikidata.org/entity/Q1735701'), ('name', \"Kate O'Neill\"), ('pname', '2004 Summer Olympics'), ('year', '2004')]\n",
      "[('person', 'http://www.wikidata.org/entity/Q1866774'), ('name', 'Lyudmila Petrova'), ('pname', '2004 Summer Olympics'), ('year', '2004')]\n",
      "[('person', 'http://www.wikidata.org/entity/Q192033'), ('name', 'Zersenay Tadese'), ('pname', '2008 Summer Olympics'), ('year', '2008')]\n",
      "[('person', 'http://www.wikidata.org/entity/Q192033'), ('name', 'Zersenay Tadese'), ('pname', 'athletics at the 2016 Summer Olympics'), ('year', '2016')]\n",
      "[('person', 'http://www.wikidata.org/entity/Q192033'), ('name', 'Zersenay Tadese'), ('pname', '2004 Summer Olympics'), ('year', '2004')]\n",
      "[('person', 'http://www.wikidata.org/entity/Q192033'), ('name', 'Zersenay Tadese'), ('pname', '2012 Summer Olympics'), ('year', '2012')]\n",
      "[('person', 'http://www.wikidata.org/entity/Q260978'), ('name', 'Berhane Adere'), ('pname', '2008 Summer Olympics'), ('year', '2008')]\n",
      "[('person', 'http://www.wikidata.org/entity/Q345711'), ('name', 'Driss El Himer'), ('pname', '2004 Summer Olympics'), ('year', '2004')]\n",
      "[('person', 'http://www.wikidata.org/entity/Q433194'), ('name', 'Chen Rong'), ('pname', '2008 Summer Olympics'), ('year', '2008')]\n",
      "[('person', 'http://www.wikidata.org/entity/Q1520131'), ('name', 'Getuli Bayo'), ('pname', '2008 Summer Olympics'), ('year', '2008')]\n",
      "[('person', 'http://www.wikidata.org/entity/Q471602'), ('name', 'Viktor Röthlin'), ('pname', '2008 Summer Olympics'), ('year', '2008')]\n",
      "20\n"
     ]
    }
   ],
   "source": [
    "queryString = \"\"\"\n",
    "SELECT DISTINCT ?person ?name ?pname ?year\n",
    "WHERE {\n",
    "    ?person wdt:P106 wd:Q13382460 .\n",
    "    ?person sc:name ?name .\n",
    "    ?person wdt:P1344 ?participated .\n",
    "    ?participated sc:name ?pname .\n",
    "    ?participated wdt:P585 ?date .\n",
    "    FILTER (REGEX(STR(?pname), 'Summer Olympics'))\n",
    "    BIND(STRBEFORE( STR(?date), \"-\" )  AS ?year)\n",
    "    FILTER(STR(?year) = '2004' || STR(?year) = '2008' || STR(?year) = '2012' ||STR(?year) = '2016')\n",
    "   \n",
    "}\n",
    "LIMIT 20\n",
    "\"\"\"\n",
    "\n",
    "print(\"Results\")\n",
    "x=run_query(queryString)"
   ]
  },
  {
   "cell_type": "markdown",
   "id": "c68183f8",
   "metadata": {},
   "source": [
    "Final query for this task"
   ]
  },
  {
   "cell_type": "code",
   "execution_count": 21,
   "id": "0a8a8995",
   "metadata": {},
   "outputs": [
    {
     "name": "stdout",
     "output_type": "stream",
     "text": [
      "Results\n",
      "[('country', 'http://www.wikidata.org/entity/Q232'), ('countryname', 'Kazakhstan'), ('personcount', '3')]\n",
      "[('country', 'http://www.wikidata.org/entity/Q215'), ('countryname', 'Slovenia'), ('personcount', '4')]\n",
      "[('country', 'http://www.wikidata.org/entity/Q974'), ('countryname', 'Democratic Republic of the Congo'), ('personcount', '2')]\n",
      "[('country', 'http://www.wikidata.org/entity/Q967'), ('countryname', 'Burundi'), ('personcount', '4')]\n",
      "[('country', 'http://www.wikidata.org/entity/Q865'), ('countryname', 'Taiwan'), ('personcount', '3')]\n",
      "[('country', 'http://www.wikidata.org/entity/Q218'), ('countryname', 'Romania'), ('personcount', '5')]\n",
      "[('country', 'http://www.wikidata.org/entity/Q963'), ('countryname', 'Botswana'), ('personcount', '2')]\n",
      "[('country', 'http://www.wikidata.org/entity/Q28'), ('countryname', 'Hungary'), ('personcount', '5')]\n",
      "[('country', 'http://www.wikidata.org/entity/Q929'), ('countryname', 'Central African Republic'), ('personcount', '1')]\n",
      "[('country', 'http://www.wikidata.org/entity/Q424'), ('countryname', 'Cambodia'), ('personcount', '1')]\n",
      "[('country', 'http://www.wikidata.org/entity/Q953'), ('countryname', 'Zambia'), ('personcount', '1')]\n",
      "[('country', 'http://www.wikidata.org/entity/Q16'), ('countryname', 'Canada'), ('personcount', '3')]\n",
      "[('country', 'http://www.wikidata.org/entity/Q38'), ('countryname', 'Italy'), ('personcount', '7')]\n",
      "[('country', 'http://www.wikidata.org/entity/Q664'), ('countryname', 'New Zealand'), ('personcount', '4')]\n",
      "[('country', 'http://www.wikidata.org/entity/Q83286'), ('countryname', 'Socialist Federal Republic of Yugoslavia'), ('personcount', '3')]\n",
      "[('country', 'http://www.wikidata.org/entity/Q41'), ('countryname', 'Greece'), ('personcount', '7')]\n",
      "[('country', 'http://www.wikidata.org/entity/Q37'), ('countryname', 'Lithuania'), ('personcount', '8')]\n",
      "[('country', 'http://www.wikidata.org/entity/Q736'), ('countryname', 'Ecuador'), ('personcount', '15')]\n",
      "[('country', 'http://www.wikidata.org/entity/Q183'), ('countryname', 'Germany'), ('personcount', '9')]\n",
      "[('country', 'http://www.wikidata.org/entity/Q189'), ('countryname', 'Iceland'), ('personcount', '1')]\n",
      "[('country', 'http://www.wikidata.org/entity/Q843'), ('countryname', 'Pakistan'), ('personcount', '1')]\n",
      "[('country', 'http://www.wikidata.org/entity/Q986'), ('countryname', 'Eritrea'), ('personcount', '16')]\n",
      "[('country', 'http://www.wikidata.org/entity/Q419'), ('countryname', 'Peru'), ('personcount', '11')]\n",
      "[('country', 'http://www.wikidata.org/entity/Q31'), ('countryname', 'Belgium'), ('personcount', '1')]\n",
      "[('country', 'http://www.wikidata.org/entity/Q34'), ('countryname', 'Sweden'), ('personcount', '3')]\n",
      "[('country', 'http://www.wikidata.org/entity/Q403'), ('countryname', 'Serbia'), ('personcount', '6')]\n",
      "[('country', 'http://www.wikidata.org/entity/Q155'), ('countryname', 'Brazil'), ('personcount', '14')]\n",
      "[('country', 'http://www.wikidata.org/entity/Q212'), ('countryname', 'Ukraine'), ('personcount', '10')]\n",
      "[('country', 'http://www.wikidata.org/entity/Q837'), ('countryname', 'Nepal'), ('personcount', '1')]\n",
      "[('country', 'http://www.wikidata.org/entity/Q398'), ('countryname', 'Bahrain'), ('personcount', '3')]\n",
      "[('country', 'http://www.wikidata.org/entity/Q148'), ('countryname', \"People's Republic of China\"), ('personcount', '14')]\n",
      "[('country', 'http://www.wikidata.org/entity/Q29'), ('countryname', 'Spain'), ('personcount', '20')]\n",
      "[('country', 'http://www.wikidata.org/entity/Q258'), ('countryname', 'South Africa'), ('personcount', '10')]\n",
      "[('country', 'http://www.wikidata.org/entity/Q217'), ('countryname', 'Moldova'), ('personcount', '11')]\n",
      "[('country', 'http://www.wikidata.org/entity/Q414'), ('countryname', 'Argentina'), ('personcount', '5')]\n",
      "[('country', 'http://www.wikidata.org/entity/Q733'), ('countryname', 'Paraguay'), ('personcount', '2')]\n",
      "[('country', 'http://www.wikidata.org/entity/Q236'), ('countryname', 'Montenegro'), ('personcount', '3')]\n",
      "[('country', 'http://www.wikidata.org/entity/Q948'), ('countryname', 'Tunisia'), ('personcount', '3')]\n",
      "[('country', 'http://www.wikidata.org/entity/Q1037'), ('countryname', 'Rwanda'), ('personcount', '3')]\n",
      "[('country', 'http://www.wikidata.org/entity/Q924'), ('countryname', 'Tanzania'), ('personcount', '16')]\n",
      "[('country', 'http://www.wikidata.org/entity/Q142'), ('countryname', 'France'), ('personcount', '6')]\n",
      "[('country', 'http://www.wikidata.org/entity/Q40'), ('countryname', 'Austria'), ('personcount', '4')]\n",
      "[('country', 'http://www.wikidata.org/entity/Q668'), ('countryname', 'India'), ('personcount', '1')]\n",
      "[('country', 'http://www.wikidata.org/entity/Q184'), ('countryname', 'Belarus'), ('personcount', '2')]\n",
      "[('country', 'http://www.wikidata.org/entity/Q241'), ('countryname', 'Cuba'), ('personcount', '5')]\n",
      "[('country', 'http://www.wikidata.org/entity/Q33'), ('countryname', 'Finland'), ('personcount', '5')]\n",
      "[('country', 'http://www.wikidata.org/entity/Q958'), ('countryname', 'South Sudan'), ('personcount', '1')]\n",
      "[('country', 'http://www.wikidata.org/entity/Q225'), ('countryname', 'Bosnia and Herzegovina'), ('personcount', '3')]\n",
      "[('country', 'http://www.wikidata.org/entity/Q750'), ('countryname', 'Bolivia'), ('personcount', '1')]\n",
      "[('country', 'http://www.wikidata.org/entity/Q224'), ('countryname', 'Croatia'), ('personcount', '1')]\n",
      "50\n"
     ]
    }
   ],
   "source": [
    "queryString = \"\"\"\n",
    "SELECT DISTINCT ?country ?countryname (count(?person) AS ?personcount)\n",
    "WHERE {\n",
    "    ?person wdt:P106 wd:Q13382460 .\n",
    "    ?person sc:name ?name .\n",
    "    ?person wdt:P1344 ?participated .\n",
    "    ?participated sc:name ?pname .\n",
    "    ?participated wdt:P585 ?date .\n",
    "    FILTER (REGEX(STR(?pname), 'Summer Olympics'))\n",
    "    BIND(STRBEFORE( STR(?date), \"-\" )  AS ?year)\n",
    "    FILTER(STR(?year) = '2004' || STR(?year) = '2008' || STR(?year) = '2012' ||STR(?year) = '2016')\n",
    "    ?person wdt:P27 ?country .\n",
    "    ?country sc:name ?countryname\n",
    "   \n",
    "} GROUP BY ?country ?countryname\n",
    "LIMIT 50\n",
    "\"\"\"\n",
    "\n",
    "print(\"Results\")\n",
    "x=run_query(queryString)"
   ]
  },
  {
   "cell_type": "markdown",
   "id": "bd46ac83",
   "metadata": {},
   "source": [
    "## Task 7\n",
    "For each disciplines of the long distance running find who hold the World Record (the result set must be a list of elements with discipline IRI, label and athlete IRI and label)."
   ]
  },
  {
   "cell_type": "code",
   "execution_count": 83,
   "id": "3fa0253c",
   "metadata": {},
   "outputs": [
    {
     "name": "stdout",
     "output_type": "stream",
     "text": [
      "Results\n",
      "[('disciplines', 'http://www.wikidata.org/entity/Q26844379'), ('name', 'one-hour run')]\n",
      "[('disciplines', 'http://www.wikidata.org/entity/Q2815830'), ('name', '2 miles run')]\n",
      "[('disciplines', 'http://www.wikidata.org/entity/Q215677'), ('name', 'half marathon')]\n",
      "[('disciplines', 'http://www.wikidata.org/entity/Q163892'), ('name', '10,000 metres')]\n",
      "[('disciplines', 'http://www.wikidata.org/entity/Q240500'), ('name', '5000 metres')]\n",
      "[('disciplines', 'http://www.wikidata.org/entity/Q40244'), ('name', 'marathon')]\n",
      "[('disciplines', 'http://www.wikidata.org/entity/Q2774730'), ('name', '10K run')]\n",
      "[('disciplines', 'http://www.wikidata.org/entity/Q500050'), ('name', 'cross country running')]\n",
      "[('disciplines', 'http://www.wikidata.org/entity/Q26303'), ('name', 'ultramarathon')]\n",
      "[('disciplines', 'http://www.wikidata.org/entity/Q2164200'), ('name', 'one hour run')]\n",
      "[('disciplines', 'http://www.wikidata.org/entity/Q19767716'), ('name', '15K run')]\n",
      "[('disciplines', 'http://www.wikidata.org/entity/Q19827858'), ('name', '20 kilometres')]\n",
      "[('disciplines', 'http://www.wikidata.org/entity/Q2538895'), ('name', 'Waffenlauf')]\n",
      "13\n"
     ]
    }
   ],
   "source": [
    "queryString = \"\"\"\n",
    "SELECT DISTINCT ?disciplines ?name \n",
    "WHERE {\n",
    "    ?disciplines wdt:P279 wd:Q917206 .\n",
    "   ?disciplines sc:name ?name .\n",
    "}\n",
    "LIMIT 20\n",
    "\"\"\"\n",
    "\n",
    "print(\"Results\")\n",
    "x=run_query(queryString)"
   ]
  },
  {
   "cell_type": "markdown",
   "id": "1c614189",
   "metadata": {},
   "source": [
    "Final query for this task"
   ]
  },
  {
   "cell_type": "code",
   "execution_count": 24,
   "id": "2ba58840",
   "metadata": {},
   "outputs": [
    {
     "name": "stdout",
     "output_type": "stream",
     "text": [
      "Results\n",
      "[('disciplines', 'http://www.wikidata.org/entity/Q240500'), ('name', '5000 metres'), ('recordholder', 'http://www.wikidata.org/entity/Q9119'), ('holdername', 'Kenenisa Bekele Beyecha')]\n",
      "[('disciplines', 'http://www.wikidata.org/entity/Q40244'), ('name', 'marathon'), ('recordholder', 'http://www.wikidata.org/entity/Q9124'), ('holdername', 'Eliud Kipchoge')]\n",
      "[('disciplines', 'http://www.wikidata.org/entity/Q40244'), ('name', 'marathon'), ('recordholder', 'http://www.wikidata.org/entity/Q63223'), ('holdername', 'Dennis Kipruto Kimetto')]\n",
      "3\n"
     ]
    }
   ],
   "source": [
    "queryString = \"\"\"\n",
    "SELECT DISTINCT ?disciplines ?name ?recordholder ?holdername\n",
    "WHERE {\n",
    "    ?disciplines wdt:P279 wd:Q917206 .\n",
    "   ?disciplines sc:name ?name .\n",
    "   ?disciplines wdt:P1000 ?recordholder .\n",
    "   ?recordholder sc:name ?holdername\n",
    "}\n",
    "LIMIT 20\n",
    "\"\"\"\n",
    "\n",
    "print(\"Results\")\n",
    "x=run_query(queryString)"
   ]
  }
 ],
 "metadata": {
  "kernelspec": {
   "display_name": "Python 3",
   "language": "python",
   "name": "python3"
  },
  "language_info": {
   "codemirror_mode": {
    "name": "ipython",
    "version": 3
   },
   "file_extension": ".py",
   "mimetype": "text/x-python",
   "name": "python",
   "nbconvert_exporter": "python",
   "pygments_lexer": "ipython3",
   "version": "3.7.10"
  }
 },
 "nbformat": 4,
 "nbformat_minor": 5
}
