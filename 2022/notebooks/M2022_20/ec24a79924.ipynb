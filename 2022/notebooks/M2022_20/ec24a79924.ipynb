{
 "cells": [
  {
   "cell_type": "markdown",
   "id": "8aea5deb",
   "metadata": {},
   "source": [
    "# General instructions\n",
    "\n",
    "The goal of the project is to materialize a set of **exploratory workloads** over a real-world, large-scale,  open-domain KG: [WikiData](https://www.wikidata.org/wiki/Wikidata:Main_Page)\n",
    "\n",
    "An exploratory workload  is composed by a set of queries, where each query is related to the information obtained previously.\n",
    "\n",
    "An exploratory workload starts with a usually vague, open ended question, and does not assume the person issuing the workload has a clear understanding of the data contained in the target database or its structure.\n",
    "\n",
    "Remeber that:\n",
    "\n",
    "1. All the queries must run in the python notebook\n",
    "2. You can use classes and properties only if you find them via a SPARQL query that must be present in the notebook\n",
    "3. You do not delete useless queries. Keep everything that is synthatically valid \n",
    "\n",
    "```\n",
    "?p <http://schema.org/name> ?name .\n",
    "```\n",
    "    \n",
    "    is the BGP returning a human-readable name of a property or a class in Wikidata."
   ]
  },
  {
   "cell_type": "code",
   "execution_count": 82,
   "id": "d65550c9",
   "metadata": {},
   "outputs": [],
   "source": [
    "## SETUP used later\n",
    "\n",
    "from SPARQLWrapper import SPARQLWrapper, JSON\n",
    "\n",
    "\n",
    "prefixString = \"\"\"\n",
    "##-ec24a79924-##\n",
    "PREFIX wd: <http://www.wikidata.org/entity/> \n",
    "PREFIX wdt: <http://www.wikidata.org/prop/direct/> \n",
    "PREFIX sc: <http://schema.org/>\n",
    "\"\"\"\n",
    "\n",
    "# select and construct queries\n",
    "def run_query(queryString,verbose = True):\n",
    "    to_run = prefixString + \"\\n\" + queryString\n",
    "\n",
    "    sparql = SPARQLWrapper(\"http://a256-gc1-03.srv.aau.dk:5820/sparql\")\n",
    "    sparql.setTimeout(300)\n",
    "    sparql.setReturnFormat(JSON)\n",
    "    sparql.setQuery(to_run)\n",
    "\n",
    "    try :\n",
    "        results = sparql.query()\n",
    "        json_results = results.convert()\n",
    "        if len(json_results['results']['bindings'])==0:\n",
    "            print(\"Empty\")\n",
    "            return []\n",
    "        array = []\n",
    "        for bindings in json_results['results']['bindings']:\n",
    "            app =  [ (var, value['value'])  for var, value in bindings.items() ] \n",
    "            if verbose:\n",
    "                print( app)\n",
    "            array.append(app)\n",
    "        if verbose:\n",
    "            print(len(array))\n",
    "        return array\n",
    "\n",
    "    except Exception as e :\n",
    "        print(\"The operation failed\", e)\n",
    "    \n",
    "# ASk queries\n",
    "def run_ask_query(queryString):\n",
    "    to_run = prefixString + \"\\n\" + queryString\n",
    "\n",
    "    sparql = SPARQLWrapper(\"http://a256-gc1-03.srv.aau.dk:5820/sparql\")\n",
    "    sparql.setTimeout(300)\n",
    "    sparql.setReturnFormat(JSON)\n",
    "    sparql.setQuery(to_run)\n",
    "\n",
    "    try :\n",
    "        return sparql.query().convert()\n",
    "\n",
    "    except Exception as e :\n",
    "        print(\"The operation failed\", e)"
   ]
  },
  {
   "cell_type": "markdown",
   "id": "b2b8d261",
   "metadata": {},
   "source": [
    "# Movie Workflow Series (\"Disney explorative search\") \n",
    "\n",
    "Consider the following exploratory information need:\n",
    "\n",
    "> investigate films produced by Disney and compare workers among films."
   ]
  },
  {
   "cell_type": "markdown",
   "id": "56efa185",
   "metadata": {},
   "source": [
    "## Useful URIs for the current workflow\n",
    "The following are given:\n",
    "\n",
    "| IRI           | Description   | Role      |\n",
    "| -----------   | -----------   |-----------|\n",
    "| `wdt:P1647`   | subproperty   | predicate |\n",
    "| `wdt:P31`     | instance of   | predicate |\n",
    "| `wdt:P106`    | profession    | predicate | \n",
    "| `wdt:P279`    | subclass      | predicate |\n",
    "| `wdt:P27`     | nationality   | predicate |\n",
    "| `wdt:P106`     | profession   | predicate |\n",
    "| `wdt:P3342`     | Significant person       | predicate |\n",
    "| `wd:Q5`| Human       | node |\n",
    "| `wd:Q36479`    | The Lion King      | node |\n"
   ]
  },
  {
   "cell_type": "markdown",
   "id": "93d03f5f",
   "metadata": {},
   "source": [
    "\n",
    "\n",
    "\n",
    "Also consider\n",
    "\n",
    "```\n",
    "wd:Q36479 ?p ?obj .\n",
    "```\n",
    "\n",
    "is the BGP to retrieve all **properties of The Lion King**\n",
    "\n",
    "Please consider that when you return a resource, you should return the IRI and the label of the resource. In particular, when the task require you to identify a BGP the result set must always be a list of couples IRI - label.\n",
    "\n",
    "The workload should:\n",
    "\n",
    "\n",
    "1. Identify the BGP for films\n",
    "\n",
    "2. Identify the BGP for Walt Disney Animation Studios\n",
    "\n",
    "3. Identify the BGP for Walt Disney (person)\n",
    "\n",
    "4. List all the films created by the Walt Disney Animation Studios while Walt Disney was alive (the result set must be a list of couples films IRI and label).\n",
    "\n",
    "5. Find the name of the voice actors who participated in more than 5 films by the Walt Disney Animation Studios (the result set must be a list of triples voice actors IRI, label and #films).\n",
    "\n",
    "6. Identify the BGP for the film \"The Little Mermaid\"\n",
    "\n",
    "7. Find who worked on both \"The Little Mermaid\" and \"The Lion King\" (the result set must be a list of couples worker IRI and label). \n",
    "\n",
    "8. Identify the BGP for Academy Awards\n",
    "\n",
    "9. For each films created by the Walt Disney Animation Studios return the number of nomination for an Academy Awards. Return only films with at least one nomination. (the result set must be triples of films IRI, label and #nomination)."
   ]
  },
  {
   "cell_type": "markdown",
   "id": "b411b758",
   "metadata": {},
   "source": [
    "## Task 1\n",
    "Identify the BGP for films"
   ]
  },
  {
   "cell_type": "code",
   "execution_count": 85,
   "id": "e38216f6",
   "metadata": {},
   "outputs": [
    {
     "name": "stdout",
     "output_type": "stream",
     "text": [
      "Results\n",
      "[('instance', 'http://www.wikidata.org/entity/Q29168811'), ('name', 'animated feature film'), ('subclass', 'http://www.wikidata.org/entity/Q202866'), ('subclassname', 'animated film'), ('subclass1', 'http://www.wikidata.org/entity/Q11424'), ('subclassname1', 'film')]\n",
      "[('instance', 'http://www.wikidata.org/entity/Q29168811'), ('name', 'animated feature film'), ('subclass', 'http://www.wikidata.org/entity/Q24869'), ('subclassname', 'feature film'), ('subclass1', 'http://www.wikidata.org/entity/Q11424'), ('subclassname1', 'film')]\n",
      "2\n"
     ]
    }
   ],
   "source": [
    "queryString = \"\"\"\n",
    "SELECT DISTINCT ?instance ?name ?subclass ?subclassname ?subclass1 ?subclassname1\n",
    "WHERE {\n",
    "    wd:Q36479 wdt:P31 ?instance.\n",
    "    ?instance sc:name ?name.\n",
    "    ?instance wdt:P279 ?subclass.\n",
    "    ?subclass sc:name ?subclassname .\n",
    "    ?subclass wdt:P279 ?subclass1 .\n",
    "    ?subclass1 sc:name ?subclassname1 .\n",
    "\n",
    "}\n",
    "\n",
    "\"\"\"\n",
    "\n",
    "print(\"Results\")\n",
    "\n",
    "x=run_query(queryString)"
   ]
  },
  {
   "cell_type": "markdown",
   "id": "93195d39",
   "metadata": {},
   "source": [
    "Final query for this task"
   ]
  },
  {
   "cell_type": "code",
   "execution_count": 88,
   "id": "7c55480b",
   "metadata": {},
   "outputs": [
    {
     "name": "stdout",
     "output_type": "stream",
     "text": [
      "Results\n",
      "[('p', 'http://www.wikidata.org/prop/direct/P1014'), ('name', 'Art & Architecture Thesaurus ID')]\n",
      "[('p', 'http://www.wikidata.org/prop/direct/P1036'), ('name', 'Dewey Decimal Classification')]\n",
      "[('p', 'http://www.wikidata.org/prop/direct/P1051'), ('name', 'PSH ID')]\n",
      "[('p', 'http://www.wikidata.org/prop/direct/P1151'), ('name', \"topic's main Wikimedia portal\")]\n",
      "[('p', 'http://www.wikidata.org/prop/direct/P1225'), ('name', 'U.S. National Archives Identifier')]\n",
      "[('p', 'http://www.wikidata.org/prop/direct/P1245'), ('name', 'OmegaWiki Defined Meaning')]\n",
      "[('p', 'http://www.wikidata.org/prop/direct/P1256'), ('name', 'Iconclass notation')]\n",
      "[('p', 'http://www.wikidata.org/prop/direct/P1343'), ('name', 'described by source')]\n",
      "[('p', 'http://www.wikidata.org/prop/direct/P1368'), ('name', 'LNB ID')]\n",
      "[('p', 'http://www.wikidata.org/prop/direct/P1417'), ('name', 'Encyclopædia Britannica Online ID')]\n",
      "[('p', 'http://www.wikidata.org/prop/direct/P1424'), ('name', \"topic's main template\")]\n",
      "[('p', 'http://www.wikidata.org/prop/direct/P1617'), ('name', 'BBC Things ID')]\n",
      "[('p', 'http://www.wikidata.org/prop/direct/P1709'), ('name', 'equivalent class')]\n",
      "[('p', 'http://www.wikidata.org/prop/direct/P18'), ('name', 'image')]\n",
      "[('p', 'http://www.wikidata.org/prop/direct/P1889'), ('name', 'different from')]\n",
      "[('p', 'http://www.wikidata.org/prop/direct/P1963'), ('name', 'properties for this type')]\n",
      "[('p', 'http://www.wikidata.org/prop/direct/P2167'), ('name', 'UNSPSC Code')]\n",
      "[('p', 'http://www.wikidata.org/prop/direct/P227'), ('name', 'GND ID')]\n",
      "[('p', 'http://www.wikidata.org/prop/direct/P2347'), ('name', 'YSO ID')]\n",
      "[('p', 'http://www.wikidata.org/prop/direct/P244'), ('name', 'Library of Congress authority ID')]\n",
      "20\n"
     ]
    }
   ],
   "source": [
    "queryString = \"\"\"\n",
    "SELECT DISTINCT ?p ?name\n",
    "WHERE {\n",
    "   wd:Q11424 ?p ?obj .\n",
    "   ?p sc:name ?name.\n",
    "}\n",
    "\n",
    "LIMIT 20\n",
    "\"\"\"\n",
    "\n",
    "print(\"Results\")\n",
    "x=run_query(queryString)"
   ]
  },
  {
   "cell_type": "markdown",
   "id": "de368e08",
   "metadata": {},
   "source": [
    "## Task 2\n",
    "Identify the BGP for Walt Disney Animation Studios"
   ]
  },
  {
   "cell_type": "code",
   "execution_count": 87,
   "id": "cf60c962",
   "metadata": {},
   "outputs": [
    {
     "name": "stdout",
     "output_type": "stream",
     "text": [
      "Results\n",
      "[('n1', 'http://www.wikidata.org/entity/Q191224'), ('name', 'Walt Disney Pictures')]\n",
      "[('n1', 'http://www.wikidata.org/entity/Q1047410'), ('name', 'Walt Disney Animation Studios')]\n",
      "2\n"
     ]
    }
   ],
   "source": [
    "queryString = \"\"\"\n",
    "SELECT DISTINCT ?n1 ?name\n",
    "WHERE {\n",
    "    wd:Q36479 wdt:P272 ?n1.\n",
    "    ?n1 sc:name ?name\n",
    "\n",
    "}\n",
    "\n",
    "\"\"\"\n",
    "\n",
    "print(\"Results\")\n",
    "x=run_query(queryString)"
   ]
  },
  {
   "cell_type": "markdown",
   "id": "9634413d",
   "metadata": {},
   "source": [
    "Final query for this task"
   ]
  },
  {
   "cell_type": "code",
   "execution_count": 89,
   "id": "ac1013ac",
   "metadata": {},
   "outputs": [
    {
     "name": "stdout",
     "output_type": "stream",
     "text": [
      "Results\n",
      "[('p', 'http://www.wikidata.org/prop/direct/P1037'), ('name', 'director / manager')]\n",
      "[('p', 'http://www.wikidata.org/prop/direct/P1056'), ('name', 'product or material produced')]\n",
      "[('p', 'http://www.wikidata.org/prop/direct/P112'), ('name', 'founded by')]\n",
      "[('p', 'http://www.wikidata.org/prop/direct/P127'), ('name', 'owned by')]\n",
      "[('p', 'http://www.wikidata.org/prop/direct/P1411'), ('name', 'nominated for')]\n",
      "[('p', 'http://www.wikidata.org/prop/direct/P1454'), ('name', 'legal form')]\n",
      "[('p', 'http://www.wikidata.org/prop/direct/P154'), ('name', 'logo image')]\n",
      "[('p', 'http://www.wikidata.org/prop/direct/P159'), ('name', 'headquarters location')]\n",
      "[('p', 'http://www.wikidata.org/prop/direct/P166'), ('name', 'award received')]\n",
      "[('p', 'http://www.wikidata.org/prop/direct/P17'), ('name', 'country')]\n",
      "[('p', 'http://www.wikidata.org/prop/direct/P18'), ('name', 'image')]\n",
      "[('p', 'http://www.wikidata.org/prop/direct/P2002'), ('name', 'Twitter username')]\n",
      "[('p', 'http://www.wikidata.org/prop/direct/P2013'), ('name', 'Facebook ID')]\n",
      "[('p', 'http://www.wikidata.org/prop/direct/P213'), ('name', 'ISNI')]\n",
      "[('p', 'http://www.wikidata.org/prop/direct/P214'), ('name', 'VIAF ID')]\n",
      "[('p', 'http://www.wikidata.org/prop/direct/P227'), ('name', 'GND ID')]\n",
      "[('p', 'http://www.wikidata.org/prop/direct/P244'), ('name', 'Library of Congress authority ID')]\n",
      "[('p', 'http://www.wikidata.org/prop/direct/P31'), ('name', 'instance of')]\n",
      "[('p', 'http://www.wikidata.org/prop/direct/P3372'), ('name', 'Auckland Art Gallery artist ID')]\n",
      "[('p', 'http://www.wikidata.org/prop/direct/P3417'), ('name', 'Quora topic ID')]\n",
      "20\n"
     ]
    }
   ],
   "source": [
    "queryString = \"\"\"\n",
    "SELECT DISTINCT ?p ?name\n",
    "WHERE {\n",
    "    wd:Q1047410 ?p ?obj.\n",
    "    ?p sc:name ?name\n",
    "\n",
    "} LIMIT 20\n",
    "\n",
    "\"\"\"\n",
    "\n",
    "print(\"Results\")\n",
    "x=run_query(queryString)"
   ]
  },
  {
   "cell_type": "markdown",
   "id": "c9419dbe",
   "metadata": {},
   "source": [
    "## Task 3\n",
    "Identify the BGP for Walt Disney (person)"
   ]
  },
  {
   "cell_type": "code",
   "execution_count": 90,
   "id": "79f9d880",
   "metadata": {},
   "outputs": [
    {
     "name": "stdout",
     "output_type": "stream",
     "text": [
      "Results\n",
      "[('person', 'http://www.wikidata.org/entity/Q8704'), ('name', 'Walt Disney')]\n",
      "1\n"
     ]
    }
   ],
   "source": [
    "queryString = \"\"\"\n",
    "SELECT DISTINCT ?person ?name\n",
    "WHERE {\n",
    "    ?person wdt:P31 wd:Q5 .\n",
    "    ?person sc:name ?name.\n",
    "    FILTER (str(?name) = 'Walt Disney')\n",
    "}\n",
    "\n",
    "LIMIT 20\n",
    "\"\"\"\n",
    "\n",
    "\n",
    "print(\"Results\")\n",
    "x=run_query(queryString)"
   ]
  },
  {
   "cell_type": "markdown",
   "id": "736fa00b",
   "metadata": {},
   "source": [
    "Final query for this task"
   ]
  },
  {
   "cell_type": "code",
   "execution_count": 91,
   "id": "b5911244",
   "metadata": {},
   "outputs": [
    {
     "name": "stdout",
     "output_type": "stream",
     "text": [
      "Results\n",
      "[('p', 'http://www.wikidata.org/prop/direct/P5622'), ('name', 'National Cartoonists Society member ID')]\n",
      "[('p', 'http://www.wikidata.org/prop/direct/P1003'), ('name', 'National Library of Romania ID')]\n",
      "[('p', 'http://www.wikidata.org/prop/direct/P1005'), ('name', 'Portuguese National Library ID')]\n",
      "[('p', 'http://www.wikidata.org/prop/direct/P1006'), ('name', 'Nationale Thesaurus voor Auteurs ID')]\n",
      "[('p', 'http://www.wikidata.org/prop/direct/P1015'), ('name', 'NORAF ID')]\n",
      "[('p', 'http://www.wikidata.org/prop/direct/P102'), ('name', 'member of political party')]\n",
      "[('p', 'http://www.wikidata.org/prop/direct/P1050'), ('name', 'medical condition')]\n",
      "[('p', 'http://www.wikidata.org/prop/direct/P106'), ('name', 'occupation')]\n",
      "[('p', 'http://www.wikidata.org/prop/direct/P109'), ('name', 'signature')]\n",
      "[('p', 'http://www.wikidata.org/prop/direct/P119'), ('name', 'place of burial')]\n",
      "[('p', 'http://www.wikidata.org/prop/direct/P1196'), ('name', 'manner of death')]\n",
      "[('p', 'http://www.wikidata.org/prop/direct/P1207'), ('name', 'NUKAT ID')]\n",
      "[('p', 'http://www.wikidata.org/prop/direct/P1220'), ('name', 'Internet Broadway Database person ID')]\n",
      "[('p', 'http://www.wikidata.org/prop/direct/P1225'), ('name', 'U.S. National Archives Identifier')]\n",
      "[('p', 'http://www.wikidata.org/prop/direct/P1258'), ('name', 'Rotten Tomatoes ID')]\n",
      "[('p', 'http://www.wikidata.org/prop/direct/P1263'), ('name', 'NNDB people ID')]\n",
      "[('p', 'http://www.wikidata.org/prop/direct/P1266'), ('name', 'AlloCiné person ID')]\n",
      "[('p', 'http://www.wikidata.org/prop/direct/P1273'), ('name', 'CANTIC ID')]\n",
      "[('p', 'http://www.wikidata.org/prop/direct/P1280'), ('name', 'CONOR.SI ID')]\n",
      "[('p', 'http://www.wikidata.org/prop/direct/P1283'), ('name', 'filmography')]\n",
      "20\n"
     ]
    }
   ],
   "source": [
    "queryString = \"\"\"\n",
    "SELECT DISTINCT ?p ?name\n",
    "WHERE {\n",
    "   wd:Q8704 ?p ?obj .\n",
    "   ?p sc:name ?name.\n",
    "}\n",
    "\n",
    "LIMIT 20\n",
    "\"\"\"\n",
    "\n",
    "print(\"Results\")\n",
    "x=run_query(queryString)"
   ]
  },
  {
   "cell_type": "markdown",
   "id": "bdc1792e",
   "metadata": {},
   "source": [
    "## Task 4\n",
    "List all the films created by the Walt Disney Animation Studios while Walt Disney was alive (the result set must be a list of couples films IRI and label)."
   ]
  },
  {
   "cell_type": "markdown",
   "id": "484bdfe0-b2f7-43dc-aca8-37251e1bcbf5",
   "metadata": {},
   "source": [
    "Explanation - By using the Q-value for 'Walt Disney' in Task 3, In query1 finding the date of birth and date of death of Walt Disney. In query2 by the production company property found in Task2, finding the films created by Walt Disney Animation Studios.By using these data in final query we find the films created while Wlat Disney was alive."
   ]
  },
  {
   "cell_type": "code",
   "execution_count": 94,
   "id": "d8285adf",
   "metadata": {},
   "outputs": [
    {
     "name": "stdout",
     "output_type": "stream",
     "text": [
      "Results\n",
      "[('dob', '1901-12-05T00:00:00Z'), ('dod', '1966-12-15T00:00:00Z'), ('year', '1901'), ('year1', '1966')]\n",
      "1\n"
     ]
    }
   ],
   "source": [
    "queryString = \"\"\"\n",
    "SELECT DISTINCT ?dob ?dod ?year ?year1\n",
    "WHERE {\n",
    "    wd:Q8704 wdt:P569 ?dob .\n",
    "    wd:Q8704 wdt:P570 ?dod.\n",
    "    BIND(STRBEFORE( STR(?dob), \"-\" )  AS ?year)\n",
    "    BIND(STRBEFORE( STR(?dod), \"-\" )  AS ?year1)\n",
    "}\n",
    "\n",
    "LIMIT 20\n",
    "\"\"\"\n",
    "\n",
    "\n",
    "print(\"Results\")\n",
    "x=run_query(queryString)"
   ]
  },
  {
   "cell_type": "markdown",
   "id": "291bd0bf",
   "metadata": {},
   "source": [
    "Final query for this task"
   ]
  },
  {
   "cell_type": "code",
   "execution_count": 96,
   "id": "b2b07d01",
   "metadata": {},
   "outputs": [
    {
     "name": "stdout",
     "output_type": "stream",
     "text": [
      "Results\n",
      "[('movies', 'http://www.wikidata.org/entity/Q215617'), ('name', 'Sleeping Beauty'), ('date', '1959')]\n",
      "[('movies', 'http://www.wikidata.org/entity/Q3236849'), ('name', \"Let's Stick Together\"), ('date', '1952')]\n",
      "[('movies', 'http://www.wikidata.org/entity/Q842306'), ('name', 'Saludos Amigos'), ('date', '1942')]\n",
      "[('movies', 'http://www.wikidata.org/entity/Q2090328'), ('name', 'Trick or Treat'), ('date', '1952')]\n",
      "[('movies', 'http://www.wikidata.org/entity/Q640679'), ('name', 'Rugged Bear'), ('date', '1953')]\n",
      "[('movies', 'http://www.wikidata.org/entity/Q2399982'), ('name', 'Tea for Two Hundred'), ('date', '1948')]\n",
      "[('movies', 'http://www.wikidata.org/entity/Q3028329'), ('name', 'Two Weeks Vacation'), ('date', '1952')]\n",
      "[('movies', 'http://www.wikidata.org/entity/Q3520106'), ('name', 'The Brave Engineer'), ('date', '1950')]\n",
      "[('movies', 'http://www.wikidata.org/entity/Q2700743'), ('name', 'Clock Cleaners'), ('date', '1937')]\n",
      "[('movies', 'http://www.wikidata.org/entity/Q3521221'), ('name', 'The Haunted House'), ('date', '1929')]\n",
      "[('movies', 'http://www.wikidata.org/entity/Q3036174'), ('name', 'Grin and Bear It'), ('date', '1954')]\n",
      "[('movies', 'http://www.wikidata.org/entity/Q3228508'), ('name', 'Hold That Pose'), ('date', '1950')]\n",
      "[('movies', 'http://www.wikidata.org/entity/Q3178943'), ('name', \"Donald's Dilemma\"), ('date', '1947')]\n",
      "[('movies', 'http://www.wikidata.org/entity/Q3036139'), ('name', 'Beezy Bear'), ('date', '1955')]\n",
      "[('movies', 'http://www.wikidata.org/entity/Q3392773'), ('name', 'Playful Pluto'), ('date', '1934')]\n",
      "[('movies', 'http://www.wikidata.org/entity/Q3006129'), ('name', 'Bearly Asleep'), ('date', '1955')]\n",
      "[('movies', 'http://www.wikidata.org/entity/Q2275783'), ('name', 'The Barn Dance'), ('date', '1929')]\n",
      "[('movies', 'http://www.wikidata.org/entity/Q3207087'), ('name', 'Hockey Homicide'), ('date', '1945')]\n",
      "18\n"
     ]
    }
   ],
   "source": [
    "queryString = \"\"\"\n",
    "SELECT DISTINCT ?movies ?name ?date\n",
    "WHERE {\n",
    "    ?movies wdt:P272 wd:Q1047410.\n",
    "    ?movies sc:name ?name .\n",
    "    ?movies wdt:P577 ?d .\n",
    "    BIND(STRBEFORE( STR(?d), \"-\" )  AS ?date)\n",
    "    FILTER(str(?date) > '1901' && str(?date) < '1966' )\n",
    "\n",
    "} LIMIT 20\n",
    "\n",
    "\"\"\"\n",
    "\n",
    "print(\"Results\")\n",
    "x=run_query(queryString)"
   ]
  },
  {
   "cell_type": "markdown",
   "id": "ac6408b4",
   "metadata": {},
   "source": [
    "## Task 5\n",
    "Find the name of the voice actors who participated in more than 5 films by the Walt Disney Animation Studios (the result set must be a list of triples voice actors IRI, label and #films)."
   ]
  },
  {
   "cell_type": "code",
   "execution_count": 99,
   "id": "e73c0db4",
   "metadata": {},
   "outputs": [
    {
     "name": "stdout",
     "output_type": "stream",
     "text": [
      "Results\n",
      "[('vactor', 'http://www.wikidata.org/entity/Q430625'), ('actorname', 'Taylor Holmes')]\n",
      "[('vactor', 'http://www.wikidata.org/entity/Q3376737'), ('actorname', 'Peter Mansbridge')]\n",
      "[('vactor', 'http://www.wikidata.org/entity/Q984077'), ('actorname', 'Nick Swardson')]\n",
      "[('vactor', 'http://www.wikidata.org/entity/Q3181202'), ('actorname', 'Lauren MacMullan')]\n",
      "[('vactor', 'http://www.wikidata.org/entity/Q229728'), ('actorname', 'Sarah Chalke')]\n",
      "[('vactor', 'http://www.wikidata.org/entity/Q328456'), ('actorname', 'Jennifer Darling')]\n",
      "[('vactor', 'http://www.wikidata.org/entity/Q740812'), ('actorname', 'Adam Ryen')]\n",
      "[('vactor', 'http://www.wikidata.org/entity/Q229230'), ('actorname', 'Evan Rachel Wood')]\n",
      "[('vactor', 'http://www.wikidata.org/entity/Q707734'), ('actorname', 'Bernard Fox')]\n",
      "[('vactor', 'http://www.wikidata.org/entity/Q16296'), ('actorname', 'Patrick Stewart')]\n",
      "[('vactor', 'http://www.wikidata.org/entity/Q178166'), ('actorname', 'Vin Diesel')]\n",
      "[('vactor', 'http://www.wikidata.org/entity/Q19519205'), ('actorname', 'Roy Conli')]\n",
      "[('vactor', 'http://www.wikidata.org/entity/Q2254520'), ('actorname', 'Pat Fraley')]\n",
      "[('vactor', 'http://www.wikidata.org/entity/Q3090527'), ('actorname', 'Scott Menville')]\n",
      "[('vactor', 'http://www.wikidata.org/entity/Q465167'), ('actorname', 'Susanne Blakeslee')]\n",
      "[('vactor', 'http://www.wikidata.org/entity/Q451833'), ('actorname', 'Ernie Sabella')]\n",
      "[('vactor', 'http://www.wikidata.org/entity/Q7420433'), ('actorname', 'Santino Fontana')]\n",
      "[('vactor', 'http://www.wikidata.org/entity/Q8349'), ('actorname', '\"Weird Al\" Yankovic')]\n",
      "[('vactor', 'http://www.wikidata.org/entity/Q3936377'), ('actorname', 'Nate Torrence')]\n",
      "[('vactor', 'http://www.wikidata.org/entity/Q20974033'), ('actorname', 'Phillipa Soo')]\n",
      "20\n"
     ]
    }
   ],
   "source": [
    "queryString = \"\"\"\n",
    "SELECT DISTINCT ?vactor ?actorname \n",
    "WHERE {\n",
    "   ?movies wdt:P272 wd:Q1047410.\n",
    "    ?movies sc:name ?name .\n",
    "    ?movies wdt:P725 ?vactor .\n",
    "    ?vactor sc:name ?actorname .\n",
    "} GROUP BY ?actorname ?vactor\n",
    "\n",
    "\n",
    "LIMIT 20\n",
    "\"\"\"\n",
    "\n",
    "print(\"Results\")\n",
    "x=run_query(queryString)"
   ]
  },
  {
   "cell_type": "markdown",
   "id": "0fd059dc",
   "metadata": {},
   "source": [
    "Final query for this task"
   ]
  },
  {
   "cell_type": "code",
   "execution_count": null,
   "id": "c30dea51",
   "metadata": {},
   "outputs": [
    {
     "name": "stdout",
     "output_type": "stream",
     "text": [
      "Results\n",
      "[('vactor', 'http://www.wikidata.org/entity/Q349350'), ('actorname', 'Alan Tudyk'), ('moviescount', '7')]\n",
      "[('vactor', 'http://www.wikidata.org/entity/Q310292'), ('actorname', 'Jim Cummings'), ('moviescount', '10')]\n",
      "[('vactor', 'http://www.wikidata.org/entity/Q296577'), ('actorname', 'Frank Welker'), ('moviescount', '7')]\n",
      "[('vactor', 'http://www.wikidata.org/entity/Q178882'), ('actorname', 'Kristen Bell'), ('moviescount', '6')]\n",
      "[('vactor', 'http://www.wikidata.org/entity/Q264418'), ('actorname', 'Russi Taylor'), ('moviescount', '6')]\n",
      "5\n"
     ]
    }
   ],
   "source": [
    "queryString = \"\"\"\n",
    "SELECT DISTINCT ?vactor ?actorname (COUNT(?movies) AS ?moviescount)\n",
    "WHERE {\n",
    "   ?movies wdt:P272 wd:Q1047410.\n",
    "    ?movies sc:name ?name .\n",
    "    ?movies wdt:P725 ?vactor .\n",
    "    ?vactor sc:name ?actorname .\n",
    "} GROUP BY ?actorname ?vactor\n",
    "HAVING (count(?actorname) > 5)\n",
    "\n",
    "\n",
    "LIMIT 50\n",
    "\"\"\"\n",
    "\n",
    "print(\"Results\")\n",
    "x=run_query(queryString)"
   ]
  },
  {
   "cell_type": "markdown",
   "id": "20a6f27a",
   "metadata": {},
   "source": [
    "## Task 6\n",
    "Identify the BGP for the film \"The Little Mermaid\""
   ]
  },
  {
   "cell_type": "code",
   "execution_count": 102,
   "id": "b20aa615",
   "metadata": {},
   "outputs": [
    {
     "name": "stdout",
     "output_type": "stream",
     "text": [
      "Results\n",
      "[('movies', 'http://www.wikidata.org/entity/Q190135'), ('name', 'The Little Mermaid')]\n",
      "1\n"
     ]
    }
   ],
   "source": [
    "queryString = \"\"\"\n",
    "SELECT DISTINCT ?movies ?name\n",
    "WHERE {\n",
    "    ?movies wdt:P31 wd:Q29168811 .\n",
    "    ?movies sc:name ?name.\n",
    "    FILTER (str(?name) = 'The Little Mermaid')\n",
    "}\n",
    "\n",
    "LIMIT 50\n",
    "\"\"\"\n",
    "\n",
    "\n",
    "print(\"Results\")\n",
    "x=run_query(queryString)"
   ]
  },
  {
   "cell_type": "markdown",
   "id": "9f70308c",
   "metadata": {},
   "source": [
    "Final query for this task"
   ]
  },
  {
   "cell_type": "code",
   "execution_count": 103,
   "id": "e7055050",
   "metadata": {},
   "outputs": [
    {
     "name": "stdout",
     "output_type": "stream",
     "text": [
      "Results\n",
      "[('p', 'http://www.wikidata.org/prop/direct/P3092'), ('name', 'film crew member')]\n",
      "[('p', 'http://www.wikidata.org/prop/direct/P4021'), ('name', 'danskefilm animated film ID')]\n",
      "[('p', 'http://www.wikidata.org/prop/direct/P7679'), ('name', 'Cinépolis KLIC ID')]\n",
      "[('p', 'http://www.wikidata.org/prop/direct/P1040'), ('name', 'film editor')]\n",
      "[('p', 'http://www.wikidata.org/prop/direct/P1237'), ('name', 'Box Office Mojo film ID (former scheme)')]\n",
      "[('p', 'http://www.wikidata.org/prop/direct/P1258'), ('name', 'Rotten Tomatoes ID')]\n",
      "[('p', 'http://www.wikidata.org/prop/direct/P1265'), ('name', 'AlloCiné film ID')]\n",
      "[('p', 'http://www.wikidata.org/prop/direct/P136'), ('name', 'genre')]\n",
      "[('p', 'http://www.wikidata.org/prop/direct/P1411'), ('name', 'nominated for')]\n",
      "[('p', 'http://www.wikidata.org/prop/direct/P1417'), ('name', 'Encyclopædia Britannica Online ID')]\n",
      "[('p', 'http://www.wikidata.org/prop/direct/P144'), ('name', 'based on')]\n",
      "[('p', 'http://www.wikidata.org/prop/direct/P1476'), ('name', 'title')]\n",
      "[('p', 'http://www.wikidata.org/prop/direct/P154'), ('name', 'logo image')]\n",
      "[('p', 'http://www.wikidata.org/prop/direct/P156'), ('name', 'followed by')]\n",
      "[('p', 'http://www.wikidata.org/prop/direct/P1562'), ('name', 'AllMovie title ID')]\n",
      "[('p', 'http://www.wikidata.org/prop/direct/P162'), ('name', 'producer')]\n",
      "[('p', 'http://www.wikidata.org/prop/direct/P166'), ('name', 'award received')]\n",
      "[('p', 'http://www.wikidata.org/prop/direct/P179'), ('name', 'part of the series')]\n",
      "[('p', 'http://www.wikidata.org/prop/direct/P1804'), ('name', 'DNF film ID')]\n",
      "[('p', 'http://www.wikidata.org/prop/direct/P1874'), ('name', 'Netflix ID')]\n",
      "20\n"
     ]
    }
   ],
   "source": [
    "queryString = \"\"\"\n",
    "SELECT DISTINCT ?p ?name\n",
    "WHERE {\n",
    "   wd:Q190135 ?p ?obj .\n",
    "   ?p sc:name ?name.\n",
    "}\n",
    "\n",
    "LIMIT 20\n",
    "\"\"\"\n",
    "\n",
    "print(\"Results\")\n",
    "x=run_query(queryString)"
   ]
  },
  {
   "cell_type": "markdown",
   "id": "27fd3f1e",
   "metadata": {},
   "source": [
    "## Task 7\n",
    "Find who worked on both \"The Little Mermaid\" and \"The Lion King\" (the result set must be a list of couples worker IRI and label)."
   ]
  },
  {
   "cell_type": "code",
   "execution_count": 106,
   "id": "16f7f934",
   "metadata": {},
   "outputs": [
    {
     "name": "stdout",
     "output_type": "stream",
     "text": [
      "Results\n",
      "[('obj', 'http://www.wikidata.org/entity/Q16204825'), ('tlkcrew', 'Barry Kooser'), ('object', 'http://www.wikidata.org/entity/Q28803503'), ('tlmcrew', 'Robert Stanton')]\n",
      "[('obj', 'http://www.wikidata.org/entity/Q19822599'), ('tlkcrew', 'Robert Walker'), ('object', 'http://www.wikidata.org/entity/Q28803503'), ('tlmcrew', 'Robert Stanton')]\n",
      "[('obj', 'http://www.wikidata.org/entity/Q28803503'), ('tlkcrew', 'Robert Stanton'), ('object', 'http://www.wikidata.org/entity/Q28803503'), ('tlmcrew', 'Robert Stanton')]\n",
      "[('obj', 'http://www.wikidata.org/entity/Q28813470'), ('tlkcrew', 'Vera Pacheco'), ('object', 'http://www.wikidata.org/entity/Q28803503'), ('tlmcrew', 'Robert Stanton')]\n",
      "[('obj', 'http://www.wikidata.org/entity/Q28855009'), ('tlkcrew', 'Ric Sluiter'), ('object', 'http://www.wikidata.org/entity/Q28803503'), ('tlmcrew', 'Robert Stanton')]\n",
      "[('obj', 'http://www.wikidata.org/entity/Q28859357'), ('tlkcrew', 'Jeff Dickson'), ('object', 'http://www.wikidata.org/entity/Q28803503'), ('tlmcrew', 'Robert Stanton')]\n",
      "[('obj', 'http://www.wikidata.org/entity/Q28859686'), ('tlkcrew', 'Jeff Dutton'), ('object', 'http://www.wikidata.org/entity/Q28803503'), ('tlmcrew', 'Robert Stanton')]\n",
      "[('obj', 'http://www.wikidata.org/entity/Q28861733'), ('tlkcrew', 'Tom Humber'), ('object', 'http://www.wikidata.org/entity/Q28803503'), ('tlmcrew', 'Robert Stanton')]\n",
      "[('obj', 'http://www.wikidata.org/entity/Q28861925'), ('tlkcrew', 'Charles R. Vollmer'), ('object', 'http://www.wikidata.org/entity/Q28803503'), ('tlmcrew', 'Robert Stanton')]\n",
      "[('obj', 'http://www.wikidata.org/entity/Q28866085'), ('tlkcrew', 'Daniel A. Gracey'), ('object', 'http://www.wikidata.org/entity/Q28803503'), ('tlmcrew', 'Robert Stanton')]\n",
      "[('obj', 'http://www.wikidata.org/entity/Q28866097'), ('tlkcrew', 'Scott Anderson'), ('object', 'http://www.wikidata.org/entity/Q28803503'), ('tlmcrew', 'Robert Stanton')]\n",
      "[('obj', 'http://www.wikidata.org/entity/Q76364'), ('tlkcrew', 'Hans Zimmer'), ('object', 'http://www.wikidata.org/entity/Q28803503'), ('tlmcrew', 'Robert Stanton')]\n",
      "[('obj', 'http://www.wikidata.org/entity/Q28802729'), ('tlkcrew', 'Philip Phillipson'), ('object', 'http://www.wikidata.org/entity/Q28803503'), ('tlmcrew', 'Robert Stanton')]\n",
      "[('obj', 'http://www.wikidata.org/entity/Q28812897'), ('tlkcrew', 'Greg Drolette'), ('object', 'http://www.wikidata.org/entity/Q28803503'), ('tlmcrew', 'Robert Stanton')]\n",
      "[('obj', 'http://www.wikidata.org/entity/Q28828058'), ('tlkcrew', 'Thomas Woodington'), ('object', 'http://www.wikidata.org/entity/Q28803503'), ('tlmcrew', 'Robert Stanton')]\n",
      "[('obj', 'http://www.wikidata.org/entity/Q28828203'), ('tlkcrew', 'Nancy Kniep'), ('object', 'http://www.wikidata.org/entity/Q28803503'), ('tlmcrew', 'Robert Stanton')]\n",
      "[('obj', 'http://www.wikidata.org/entity/Q28828206'), ('tlkcrew', 'Dan Tanaka'), ('object', 'http://www.wikidata.org/entity/Q28803503'), ('tlmcrew', 'Robert Stanton')]\n",
      "[('obj', 'http://www.wikidata.org/entity/Q28828594'), ('tlkcrew', 'Bruce Zick'), ('object', 'http://www.wikidata.org/entity/Q28803503'), ('tlmcrew', 'Robert Stanton')]\n",
      "[('obj', 'http://www.wikidata.org/entity/Q28848209'), ('tlkcrew', 'Alex Topete'), ('object', 'http://www.wikidata.org/entity/Q28803503'), ('tlmcrew', 'Robert Stanton')]\n",
      "[('obj', 'http://www.wikidata.org/entity/Q28854932'), ('tlkcrew', 'Jean Gillmore'), ('object', 'http://www.wikidata.org/entity/Q28803503'), ('tlmcrew', 'Robert Stanton')]\n",
      "20\n"
     ]
    }
   ],
   "source": [
    "queryString = \"\"\"\n",
    "SELECT DISTINCT ?obj ?tlkcrew ?object ?tlmcrew\n",
    "WHERE {\n",
    "   wd:Q36479 wdt:P3092 ?obj .\n",
    "   ?obj sc:name ?tlkcrew.\n",
    "   wd:Q190135 wdt:P3092 ?object .\n",
    "   ?object sc:name ?tlmcrew .\n",
    "}\n",
    "\n",
    "LIMIT 20\n",
    "\"\"\"\n",
    "\n",
    "print(\"Results\")\n",
    "x=run_query(queryString)"
   ]
  },
  {
   "cell_type": "markdown",
   "id": "6c952084",
   "metadata": {},
   "source": [
    "Final query for this task"
   ]
  },
  {
   "cell_type": "code",
   "execution_count": 107,
   "id": "79cc0259",
   "metadata": {},
   "outputs": [
    {
     "name": "stdout",
     "output_type": "stream",
     "text": [
      "Results\n",
      "[('obj', 'http://www.wikidata.org/entity/Q28803503'), ('tlkcrew', 'Robert Stanton')]\n",
      "[('obj', 'http://www.wikidata.org/entity/Q28813470'), ('tlkcrew', 'Vera Pacheco')]\n",
      "[('obj', 'http://www.wikidata.org/entity/Q28802729'), ('tlkcrew', 'Philip Phillipson')]\n",
      "[('obj', 'http://www.wikidata.org/entity/Q28812897'), ('tlkcrew', 'Greg Drolette')]\n",
      "[('obj', 'http://www.wikidata.org/entity/Q3242412'), ('tlkcrew', 'Lisa Keene')]\n",
      "[('obj', 'http://www.wikidata.org/entity/Q28812894'), ('tlkcrew', 'Doug Ball')]\n",
      "[('obj', 'http://www.wikidata.org/entity/Q7376523'), ('tlkcrew', 'Rubén Procopio')]\n",
      "[('obj', 'http://www.wikidata.org/entity/Q28870524'), ('tlkcrew', 'Bill Berg')]\n",
      "[('obj', 'http://www.wikidata.org/entity/Q28812892'), ('tlkcrew', 'Kathy Altieri')]\n",
      "[('obj', 'http://www.wikidata.org/entity/Q27567832'), ('tlkcrew', 'Brian Clift')]\n",
      "[('obj', 'http://www.wikidata.org/entity/Q28812742'), ('tlkcrew', 'Lorenzo E. Martinez')]\n",
      "[('obj', 'http://www.wikidata.org/entity/Q5218823'), ('tlkcrew', 'Daniel St. Pierre')]\n",
      "12\n"
     ]
    }
   ],
   "source": [
    "queryString = \"\"\"\n",
    "SELECT DISTINCT ?obj ?tlkcrew\n",
    "WHERE {\n",
    "   wd:Q36479 wdt:P3092 ?obj .\n",
    "   ?obj sc:name ?tlkcrew.\n",
    "   wd:Q190135 wdt:P3092 ?object .\n",
    "   ?object sc:name ?tlmcrew .\n",
    "   FILTER(?tlkcrew = ?tlmcrew)\n",
    "}\n",
    "\n",
    "LIMIT 50\n",
    "\"\"\"\n",
    "\n",
    "print(\"Results\")\n",
    "x=run_query(queryString)"
   ]
  },
  {
   "cell_type": "markdown",
   "id": "da980939",
   "metadata": {},
   "source": [
    "## Task 8\n",
    "Identify the BGP for Academy Awards"
   ]
  },
  {
   "cell_type": "code",
   "execution_count": 108,
   "id": "5e61b147",
   "metadata": {},
   "outputs": [
    {
     "name": "stdout",
     "output_type": "stream",
     "text": [
      "Results\n",
      "[('instance', 'http://www.wikidata.org/entity/Q96474688'), ('name1', 'award for best film by genre')]\n",
      "[('instance', 'http://www.wikidata.org/entity/Q96474697'), ('name1', 'award for best short film by genre')]\n",
      "[('instance', 'http://www.wikidata.org/entity/Q19020'), ('name1', 'Academy Awards')]\n",
      "[('instance', 'http://www.wikidata.org/entity/Q96474696'), ('name1', 'award for best short film')]\n",
      "4\n"
     ]
    }
   ],
   "source": [
    "queryString = \"\"\"\n",
    "SELECT DISTINCT  ?instance ?name1\n",
    "WHERE {\n",
    "   wd:Q8704 wdt:P166 ?obj .\n",
    "   ?obj sc:name ?name.\n",
    "   FILTER REGEX(?name, \"Academy Award\") \n",
    "   ?obj wdt:P31 ?instance .\n",
    "   ?instance sc:name ?name1 . \n",
    "}\n",
    "\n",
    "LIMIT 50\n",
    "\"\"\"\n",
    "\n",
    "print(\"Results\")\n",
    "x=run_query(queryString)"
   ]
  },
  {
   "cell_type": "markdown",
   "id": "a0d09a6f",
   "metadata": {},
   "source": [
    "Final query for this task"
   ]
  },
  {
   "cell_type": "code",
   "execution_count": 109,
   "id": "eefbe965",
   "metadata": {},
   "outputs": [
    {
     "name": "stdout",
     "output_type": "stream",
     "text": [
      "Results\n",
      "[('p', 'http://www.wikidata.org/prop/direct/P1407'), ('name', 'MusicBrainz series ID')]\n",
      "[('p', 'http://www.wikidata.org/prop/direct/P1225'), ('name', 'U.S. National Archives Identifier')]\n",
      "[('p', 'http://www.wikidata.org/prop/direct/P1296'), ('name', 'Gran Enciclopèdia Catalana ID')]\n",
      "[('p', 'http://www.wikidata.org/prop/direct/P1343'), ('name', 'described by source')]\n",
      "[('p', 'http://www.wikidata.org/prop/direct/P1417'), ('name', 'Encyclopædia Britannica Online ID')]\n",
      "[('p', 'http://www.wikidata.org/prop/direct/P1424'), ('name', \"topic's main template\")]\n",
      "[('p', 'http://www.wikidata.org/prop/direct/P17'), ('name', 'country')]\n",
      "[('p', 'http://www.wikidata.org/prop/direct/P1705'), ('name', 'native label')]\n",
      "[('p', 'http://www.wikidata.org/prop/direct/P18'), ('name', 'image')]\n",
      "[('p', 'http://www.wikidata.org/prop/direct/P1889'), ('name', 'different from')]\n",
      "[('p', 'http://www.wikidata.org/prop/direct/P2002'), ('name', 'Twitter username')]\n",
      "[('p', 'http://www.wikidata.org/prop/direct/P2003'), ('name', 'Instagram username')]\n",
      "[('p', 'http://www.wikidata.org/prop/direct/P2013'), ('name', 'Facebook ID')]\n",
      "[('p', 'http://www.wikidata.org/prop/direct/P2163'), ('name', 'FAST ID')]\n",
      "[('p', 'http://www.wikidata.org/prop/direct/P227'), ('name', 'GND ID')]\n",
      "[('p', 'http://www.wikidata.org/prop/direct/P2397'), ('name', 'YouTube channel ID')]\n",
      "[('p', 'http://www.wikidata.org/prop/direct/P244'), ('name', 'Library of Congress authority ID')]\n",
      "[('p', 'http://www.wikidata.org/prop/direct/P2581'), ('name', 'BabelNet ID')]\n",
      "[('p', 'http://www.wikidata.org/prop/direct/P268'), ('name', 'Bibliothèque nationale de France ID')]\n",
      "[('p', 'http://www.wikidata.org/prop/direct/P269'), ('name', 'IdRef ID')]\n",
      "20\n"
     ]
    }
   ],
   "source": [
    "queryString = \"\"\"\n",
    "SELECT DISTINCT ?p ?name\n",
    "WHERE {\n",
    "    wd:Q19020 ?p ?obj.\n",
    "    ?p sc:name ?name\n",
    "\n",
    "} LIMIT 20\n",
    "\n",
    "\"\"\"\n",
    "\n",
    "print(\"Results\")\n",
    "x=run_query(queryString)"
   ]
  },
  {
   "cell_type": "markdown",
   "id": "a17522ad",
   "metadata": {},
   "source": [
    "## Task 9\n",
    "For each films created by the Walt Disney Animation Studios return the number of nomination for an Academy Awards. Return only films with at least one nomination. (the result set must be triples of films IRI, label and #nomination)."
   ]
  },
  {
   "cell_type": "markdown",
   "id": "827ca043-18e8-4e1c-afb1-cf0d4a5e7369",
   "metadata": {},
   "source": [
    "Explanation - Query1 ?movies get the IRI of all the films created by the Walt Disney Animation Studios, ?award get the IRI or all the nominations to the films.In Query2 by using Query1 data filtering the awards using the REGEX to find the nomination for 'Academy Award' and counting the number of nomination.Final query gives the films name and the number of nomination"
   ]
  },
  {
   "cell_type": "code",
   "execution_count": 114,
   "id": "63059aa6",
   "metadata": {},
   "outputs": [
    {
     "name": "stdout",
     "output_type": "stream",
     "text": [
      "Results\n",
      "[('movies', 'http://www.wikidata.org/entity/Q18647981'), ('name', 'Moana'), ('award', 'http://www.wikidata.org/entity/Q106800'), ('awardname', 'Academy Award for Best Animated Feature')]\n",
      "[('movies', 'http://www.wikidata.org/entity/Q179673'), ('name', 'Beauty and the Beast'), ('award', 'http://www.wikidata.org/entity/Q488651'), ('awardname', 'Academy Award for Best Original Score')]\n",
      "[('movies', 'http://www.wikidata.org/entity/Q179673'), ('name', 'Beauty and the Beast'), ('award', 'http://www.wikidata.org/entity/Q102427'), ('awardname', 'Academy Award for Best Picture')]\n",
      "[('movies', 'http://www.wikidata.org/entity/Q179673'), ('name', 'Beauty and the Beast'), ('award', 'http://www.wikidata.org/entity/Q830079'), ('awardname', 'Academy Award for Best Sound')]\n",
      "[('movies', 'http://www.wikidata.org/entity/Q379873'), ('name', 'Who Framed Roger Rabbit'), ('award', 'http://www.wikidata.org/entity/Q393686'), ('awardname', 'Academy Award for Best Visual Effects')]\n",
      "[('movies', 'http://www.wikidata.org/entity/Q379873'), ('name', 'Who Framed Roger Rabbit'), ('award', 'http://www.wikidata.org/entity/Q131520'), ('awardname', 'Academy Award for Best Cinematography')]\n",
      "[('movies', 'http://www.wikidata.org/entity/Q379873'), ('name', 'Who Framed Roger Rabbit'), ('award', 'http://www.wikidata.org/entity/Q281939'), ('awardname', 'Academy Award for Best Film Editing')]\n",
      "[('movies', 'http://www.wikidata.org/entity/Q379873'), ('name', 'Who Framed Roger Rabbit'), ('award', 'http://www.wikidata.org/entity/Q277751'), ('awardname', 'Academy Award for Best Production Design')]\n",
      "[('movies', 'http://www.wikidata.org/entity/Q379873'), ('name', 'Who Framed Roger Rabbit'), ('award', 'http://www.wikidata.org/entity/Q830079'), ('awardname', 'Academy Award for Best Sound')]\n",
      "[('movies', 'http://www.wikidata.org/entity/Q379873'), ('name', 'Who Framed Roger Rabbit'), ('award', 'http://www.wikidata.org/entity/Q488645'), ('awardname', 'Academy Award for Best Sound Editing')]\n",
      "[('movies', 'http://www.wikidata.org/entity/Q36479'), ('name', 'The Lion King'), ('award', 'http://www.wikidata.org/entity/Q488651'), ('awardname', 'Academy Award for Best Original Score')]\n",
      "[('movies', 'http://www.wikidata.org/entity/Q215617'), ('name', 'Sleeping Beauty'), ('award', 'http://www.wikidata.org/entity/Q4671338'), ('awardname', 'Academy Award for Best Original Musical Score')]\n",
      "[('movies', 'http://www.wikidata.org/entity/Q212792'), ('name', 'Bolt'), ('award', 'http://www.wikidata.org/entity/Q106800'), ('awardname', 'Academy Award for Best Animated Feature')]\n",
      "[('movies', 'http://www.wikidata.org/entity/Q842306'), ('name', 'Saludos Amigos'), ('award', 'http://www.wikidata.org/entity/Q4671338'), ('awardname', 'Academy Award for Best Original Musical Score')]\n",
      "[('movies', 'http://www.wikidata.org/entity/Q842306'), ('name', 'Saludos Amigos'), ('award', 'http://www.wikidata.org/entity/Q830079'), ('awardname', 'Academy Award for Best Sound')]\n",
      "[('movies', 'http://www.wikidata.org/entity/Q213787'), ('name', 'The Hunchback of Notre Dame'), ('award', 'http://www.wikidata.org/entity/Q22235305'), ('awardname', 'Academy Award for Best Original Musical or Comedy Score')]\n",
      "[('movies', 'http://www.wikidata.org/entity/Q246283'), ('name', 'Frozen'), ('award', 'http://www.wikidata.org/entity/Q106800'), ('awardname', 'Academy Award for Best Animated Feature')]\n",
      "[('movies', 'http://www.wikidata.org/entity/Q13091172'), ('name', 'Big Hero 6'), ('award', 'http://www.wikidata.org/entity/Q106800'), ('awardname', 'Academy Award for Best Animated Feature')]\n",
      "[('movies', 'http://www.wikidata.org/entity/Q28891'), ('name', 'Wreck-It Ralph'), ('award', 'http://www.wikidata.org/entity/Q106800'), ('awardname', 'Academy Award for Best Animated Feature')]\n",
      "[('movies', 'http://www.wikidata.org/entity/Q15270647'), ('name', 'Zootopia'), ('award', 'http://www.wikidata.org/entity/Q106800'), ('awardname', 'Academy Award for Best Animated Feature')]\n",
      "20\n"
     ]
    }
   ],
   "source": [
    "queryString = \"\"\"\n",
    "SELECT DISTINCT ?movies ?name ?award ?awardname\n",
    "WHERE {\n",
    "   ?movies wdt:P272 wd:Q1047410.\n",
    "    ?movies sc:name ?name .\n",
    "    ?movies wdt:P1411 ?award .\n",
    "    ?award sc:name ?awardname .\n",
    "    FILTER REGEX(?awardname, \"Academy Award\") \n",
    "}\n",
    "\n",
    "LIMIT 20\n",
    "\"\"\"\n",
    "\n",
    "print(\"Results\")\n",
    "x=run_query(queryString)"
   ]
  },
  {
   "cell_type": "markdown",
   "id": "903c610c",
   "metadata": {},
   "source": [
    "Final query for this task"
   ]
  },
  {
   "cell_type": "code",
   "execution_count": 116,
   "id": "728261b2",
   "metadata": {},
   "outputs": [
    {
     "name": "stdout",
     "output_type": "stream",
     "text": [
      "Results\n",
      "[('movies', 'http://www.wikidata.org/entity/Q179673'), ('name', 'Beauty and the Beast'), ('mcount', '3')]\n",
      "[('movies', 'http://www.wikidata.org/entity/Q13091172'), ('name', 'Big Hero 6'), ('mcount', '1')]\n",
      "[('movies', 'http://www.wikidata.org/entity/Q212792'), ('name', 'Bolt'), ('mcount', '1')]\n",
      "[('movies', 'http://www.wikidata.org/entity/Q16857388'), ('name', 'Feast'), ('mcount', '1')]\n",
      "[('movies', 'http://www.wikidata.org/entity/Q246283'), ('name', 'Frozen'), ('mcount', '1')]\n",
      "[('movies', 'http://www.wikidata.org/entity/Q12124484'), ('name', 'Get a Horse!'), ('mcount', '1')]\n",
      "[('movies', 'http://www.wikidata.org/entity/Q3259450'), ('name', 'Lorenzo'), ('mcount', '1')]\n",
      "[('movies', 'http://www.wikidata.org/entity/Q18647981'), ('name', 'Moana'), ('mcount', '1')]\n",
      "[('movies', 'http://www.wikidata.org/entity/Q2252695'), ('name', 'Paperman'), ('mcount', '1')]\n",
      "[('movies', 'http://www.wikidata.org/entity/Q640679'), ('name', 'Rugged Bear'), ('mcount', '1')]\n",
      "[('movies', 'http://www.wikidata.org/entity/Q1440760'), ('name', 'Runaway Brain'), ('mcount', '1')]\n",
      "[('movies', 'http://www.wikidata.org/entity/Q842306'), ('name', 'Saludos Amigos'), ('mcount', '2')]\n",
      "[('movies', 'http://www.wikidata.org/entity/Q215617'), ('name', 'Sleeping Beauty'), ('mcount', '1')]\n",
      "[('movies', 'http://www.wikidata.org/entity/Q2399982'), ('name', 'Tea for Two Hundred'), ('mcount', '1')]\n",
      "[('movies', 'http://www.wikidata.org/entity/Q213787'), ('name', 'The Hunchback of Notre Dame'), ('mcount', '1')]\n",
      "[('movies', 'http://www.wikidata.org/entity/Q36479'), ('name', 'The Lion King'), ('mcount', '1')]\n",
      "[('movies', 'http://www.wikidata.org/entity/Q1633009'), ('name', 'The Little Matchgirl'), ('mcount', '1')]\n",
      "[('movies', 'http://www.wikidata.org/entity/Q379873'), ('name', 'Who Framed Roger Rabbit'), ('mcount', '6')]\n",
      "[('movies', 'http://www.wikidata.org/entity/Q28891'), ('name', 'Wreck-It Ralph'), ('mcount', '1')]\n",
      "[('movies', 'http://www.wikidata.org/entity/Q15270647'), ('name', 'Zootopia'), ('mcount', '1')]\n",
      "20\n"
     ]
    }
   ],
   "source": [
    "queryString = \"\"\"\n",
    "SELECT DISTINCT ?movies ?name (COUNT(?name) AS ?mcount)\n",
    "WHERE {\n",
    "   ?movies wdt:P272 wd:Q1047410.\n",
    "    ?movies sc:name ?name .\n",
    "    ?movies wdt:P1411 ?award .\n",
    "    ?award sc:name ?awardname .\n",
    "    FILTER REGEX(?awardname, \"Academy Award\") \n",
    "} ORDER BY ?name\n",
    "\n",
    "LIMIT 20\n",
    "\"\"\"\n",
    "\n",
    "print(\"Results\")\n",
    "x=run_query(queryString)"
   ]
  }
 ],
 "metadata": {
  "kernelspec": {
   "display_name": "Python 3",
   "language": "python",
   "name": "python3"
  },
  "language_info": {
   "codemirror_mode": {
    "name": "ipython",
    "version": 3
   },
   "file_extension": ".py",
   "mimetype": "text/x-python",
   "name": "python",
   "nbconvert_exporter": "python",
   "pygments_lexer": "ipython3",
   "version": "3.7.10"
  }
 },
 "nbformat": 4,
 "nbformat_minor": 5
}
