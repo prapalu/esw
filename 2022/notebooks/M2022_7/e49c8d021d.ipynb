{
 "cells": [
  {
   "cell_type": "markdown",
   "id": "09b14638",
   "metadata": {},
   "source": [
    "# General instructions\n",
    "\n",
    "The goal of the project is to materialize a set of **exploratory workloads** over a real-world, large-scale,  open-domain KG: [WikiData](https://www.wikidata.org/wiki/Wikidata:Main_Page)\n",
    "\n",
    "An exploratory workload  is composed by a set of queries, where each query is related to the information obtained previously.\n",
    "\n",
    "An exploratory workload starts with a usually vague, open ended question, and does not assume the person issuing the workload has a clear understanding of the data contained in the target database or its structure.\n",
    "\n",
    "Remeber that:\n",
    "\n",
    "1. All the queries must run in the python notebook\n",
    "2. You can use classes and properties only if you find them via a SPARQL query that must be present in the notebook\n",
    "3. You do not delete useless queries. Keep everything that is synthatically valid \n",
    "\n",
    "```\n",
    "?p <http://schema.org/name> ?name .\n",
    "```\n",
    "    \n",
    "    is the BGP returning a human-readable name of a property or a class in Wikidata."
   ]
  },
  {
   "cell_type": "code",
   "execution_count": null,
   "id": "e003881a",
   "metadata": {},
   "outputs": [],
   "source": [
    "## SETUP used later\n",
    "\n",
    "from SPARQLWrapper import SPARQLWrapper, JSON\n",
    "\n",
    "\n",
    "prefixString = \"\"\"\n",
    "##-e49c8d021d-##\n",
    "PREFIX wd: <http://www.wikidata.org/entity/> \n",
    "PREFIX wdt: <http://www.wikidata.org/prop/direct/> \n",
    "PREFIX sc: <http://schema.org/>\n",
    "\"\"\"\n",
    "\n",
    "# select and construct queries\n",
    "def run_query(queryString,verbose = True):\n",
    "    to_run = prefixString + \"\\n\" + queryString\n",
    "\n",
    "    sparql = SPARQLWrapper(\"http://a256-gc1-03.srv.aau.dk:5820/sparql\")\n",
    "    sparql.setTimeout(300)\n",
    "    sparql.setReturnFormat(JSON)\n",
    "    sparql.setQuery(to_run)\n",
    "\n",
    "    try :\n",
    "        results = sparql.query()\n",
    "        json_results = results.convert()\n",
    "        if len(json_results['results']['bindings'])==0:\n",
    "            print(\"Empty\")\n",
    "            return []\n",
    "        array = []\n",
    "        for bindings in json_results['results']['bindings']:\n",
    "            app =  [ (var, value['value'])  for var, value in bindings.items() ] \n",
    "            if verbose:\n",
    "                print( app)\n",
    "            array.append(app)\n",
    "        if verbose:\n",
    "            print(len(array))\n",
    "        return array\n",
    "\n",
    "    except Exception as e :\n",
    "        print(\"The operation failed\", e)\n",
    "    \n",
    "# ASk queries\n",
    "def run_ask_query(queryString):\n",
    "    to_run = prefixString + \"\\n\" + queryString\n",
    "\n",
    "    sparql = SPARQLWrapper(\"http://a256-gc1-03.srv.aau.dk:5820/sparql\")\n",
    "    sparql.setTimeout(300)\n",
    "    sparql.setReturnFormat(JSON)\n",
    "    sparql.setQuery(to_run)\n",
    "\n",
    "    try :\n",
    "        return sparql.query().convert()\n",
    "\n",
    "    except Exception as e :\n",
    "        print(\"The operation failed\", e)"
   ]
  },
  {
   "cell_type": "markdown",
   "id": "2877e22d",
   "metadata": {},
   "source": [
    "# History Workflow Series (\"World Wide Web\") \n",
    "\n",
    "Consider the following exploratory information need:\n",
    "\n",
    "> Investigate the origins of the World Wide Web and related academic activities and scientists."
   ]
  },
  {
   "cell_type": "markdown",
   "id": "7c28f80c",
   "metadata": {},
   "source": [
    "## Useful URIs for the current workflow\n",
    "The following are given:\n",
    "\n",
    "| IRI           | Description   | Role      |\n",
    "| -----------   | -----------   |-----------|\n",
    "| `wdt:P1647`   | subproperty   | predicate |\n",
    "| `wdt:P31`     | instance of   | predicate |\n",
    "| `wdt:P106`    | occupation    | predicate | \n",
    "| `wdt:P279`    | subclass      | predicate |\n",
    "| `wdt:P27`     | nationality   | predicate |\n",
    "| `wdt:P3342`     | Significant person       | predicate |\n",
    "| `wd:Q5`| Human       | node |\n",
    "| `wd:Q466`| World Wide Web      | node |\n"
   ]
  },
  {
   "cell_type": "markdown",
   "id": "205ffe44",
   "metadata": {},
   "source": [
    "\n",
    "\n",
    "\n",
    "Also consider\n",
    "\n",
    "```\n",
    "wd:Q466 ?p ?obj .\n",
    "```\n",
    "\n",
    "is the BGP to retrieve all **properties of World Wide Web**\n",
    "\n",
    "Please consider that when you return a resource, you should return the IRI and the label of the resource. In particular, when the task require you to identify a BGP the result set must always be a list of couples IRI - label.\n",
    "\n",
    "The workload should:\n",
    "\n",
    "1. Find the inventors of World Wide Web (return IRI and name).\n",
    "\n",
    "2. Identify the BGP for hypertext system.\n",
    "\n",
    "3. Find all the hypertext systems born before the 1980 (return the IRI and name of the system and the inception date).\n",
    "\n",
    "4. Identify the BGP for computer scientist\n",
    "\n",
    "5. Find how many computer scientists there are for each continent (consider their citizenship). Return the IRI and name of the continent and the number of scientists for each continent. \n",
    "\n",
    "6. Find all the computer scientists who thaught at the University of Cambridge (return IRI and name)\n",
    "\n",
    "7. Find all the computer scientists who wrote at least 5 books (please consider only the instances of book, exclude \"literary work\" or other type of work related to books). Return the IRI and name of the computer scientist and the number of books. "
   ]
  },
  {
   "cell_type": "markdown",
   "id": "7620593a",
   "metadata": {},
   "source": [
    "## Task 1\n",
    "Find the inventors of World Wide Web (return IRI and name)."
   ]
  },
  {
   "cell_type": "code",
   "execution_count": 16,
   "id": "5b03c7a7",
   "metadata": {
    "collapsed": true,
    "jupyter": {
     "outputs_hidden": true
    },
    "tags": []
   },
   "outputs": [
    {
     "name": "stdout",
     "output_type": "stream",
     "text": [
      "Results\n",
      "[('p', 'http://www.wikidata.org/prop/direct/P1051'), ('name', 'PSH ID')]\n",
      "[('p', 'http://www.wikidata.org/prop/direct/P1225'), ('name', 'U.S. National Archives Identifier')]\n",
      "[('p', 'http://www.wikidata.org/prop/direct/P1417'), ('name', 'Encyclopædia Britannica Online ID')]\n",
      "[('p', 'http://www.wikidata.org/prop/direct/P1430'), ('name', 'OpenPlaques subject ID')]\n",
      "[('p', 'http://www.wikidata.org/prop/direct/P1482'), ('name', 'Stack Exchange tag')]\n",
      "[('p', 'http://www.wikidata.org/prop/direct/P1542'), ('name', 'has effect')]\n",
      "[('p', 'http://www.wikidata.org/prop/direct/P1813'), ('name', 'short name')]\n",
      "[('p', 'http://www.wikidata.org/prop/direct/P1889'), ('name', 'different from')]\n",
      "[('p', 'http://www.wikidata.org/prop/direct/P2004'), ('name', 'NALT ID')]\n",
      "[('p', 'http://www.wikidata.org/prop/direct/P2163'), ('name', 'FAST ID')]\n",
      "[('p', 'http://www.wikidata.org/prop/direct/P2184'), ('name', 'history of topic')]\n",
      "[('p', 'http://www.wikidata.org/prop/direct/P227'), ('name', 'GND ID')]\n",
      "[('p', 'http://www.wikidata.org/prop/direct/P2347'), ('name', 'YSO ID')]\n",
      "[('p', 'http://www.wikidata.org/prop/direct/P244'), ('name', 'Library of Congress authority ID')]\n",
      "[('p', 'http://www.wikidata.org/prop/direct/P2581'), ('name', 'BabelNet ID')]\n",
      "[('p', 'http://www.wikidata.org/prop/direct/P2612'), ('name', 'TED topic ID')]\n",
      "[('p', 'http://www.wikidata.org/prop/direct/P268'), ('name', 'Bibliothèque nationale de France ID')]\n",
      "[('p', 'http://www.wikidata.org/prop/direct/P279'), ('name', 'subclass of')]\n",
      "[('p', 'http://www.wikidata.org/prop/direct/P2959'), ('name', 'permanent duplicated item')]\n",
      "[('p', 'http://www.wikidata.org/prop/direct/P31'), ('name', 'instance of')]\n",
      "[('p', 'http://www.wikidata.org/prop/direct/P3222'), ('name', 'NE.se ID')]\n",
      "[('p', 'http://www.wikidata.org/prop/direct/P3381'), ('name', 'File Format Wiki page ID')]\n",
      "[('p', 'http://www.wikidata.org/prop/direct/P3417'), ('name', 'Quora topic ID')]\n",
      "[('p', 'http://www.wikidata.org/prop/direct/P3553'), ('name', 'Zhihu topic ID')]\n",
      "[('p', 'http://www.wikidata.org/prop/direct/P373'), ('name', 'Commons category')]\n",
      "[('p', 'http://www.wikidata.org/prop/direct/P3827'), ('name', 'JSTOR topic ID')]\n",
      "[('p', 'http://www.wikidata.org/prop/direct/P3847'), ('name', 'Open Library subject ID')]\n",
      "[('p', 'http://www.wikidata.org/prop/direct/P4342'), ('name', 'Store norske leksikon ID')]\n",
      "[('p', 'http://www.wikidata.org/prop/direct/P5008'), ('name', 'on focus list of Wikimedia project')]\n",
      "[('p', 'http://www.wikidata.org/prop/direct/P5019'), ('name', 'Brockhaus Enzyklopädie online ID')]\n",
      "[('p', 'http://www.wikidata.org/prop/direct/P508'), ('name', 'BNCF Thesaurus ID')]\n",
      "[('p', 'http://www.wikidata.org/prop/direct/P527'), ('name', 'has part')]\n",
      "[('p', 'http://www.wikidata.org/prop/direct/P5398'), ('name', 'TDKIV term ID')]\n",
      "[('p', 'http://www.wikidata.org/prop/direct/P571'), ('name', 'inception')]\n",
      "[('p', 'http://www.wikidata.org/prop/direct/P575'), ('name', 'time of discovery or invention')]\n",
      "[('p', 'http://www.wikidata.org/prop/direct/P61'), ('name', 'discoverer or inventor')]\n",
      "[('p', 'http://www.wikidata.org/prop/direct/P6366'), ('name', 'Microsoft Academic ID')]\n",
      "[('p', 'http://www.wikidata.org/prop/direct/P646'), ('name', 'Freebase ID')]\n",
      "[('p', 'http://www.wikidata.org/prop/direct/P6611'), ('name', 'Semantic Scholar topic ID')]\n",
      "[('p', 'http://www.wikidata.org/prop/direct/P7033'), ('name', 'Australian Educational Vocabulary ID')]\n",
      "[('p', 'http://www.wikidata.org/prop/direct/P737'), ('name', 'influenced by')]\n",
      "[('p', 'http://www.wikidata.org/prop/direct/P7818'), ('name', 'French Vikidia ID')]\n",
      "[('p', 'http://www.wikidata.org/prop/direct/P793'), ('name', 'significant event')]\n",
      "[('p', 'http://www.wikidata.org/prop/direct/P8408'), ('name', 'KBpedia ID')]\n",
      "[('p', 'http://www.wikidata.org/prop/direct/P910'), ('name', \"topic's main category\")]\n",
      "[('p', 'http://www.wikidata.org/prop/direct/P935'), ('name', 'Commons gallery')]\n",
      "[('p', 'http://www.wikidata.org/prop/direct/P950'), ('name', 'Biblioteca Nacional de España ID')]\n",
      "[('p', 'http://www.wikidata.org/prop/direct/P2179'), ('name', 'ACM Classification Code (2012)')]\n",
      "[('p', 'http://www.wikidata.org/prop/direct/P3893'), ('name', 'public domain date')]\n",
      "49\n"
     ]
    }
   ],
   "source": [
    "# retrieve all properties of World Wide Web\n",
    "queryString = \"\"\"\n",
    "SELECT DISTINCT ?p ?name\n",
    "WHERE {\n",
    "   # bind something\n",
    "   wd:Q466 ?p ?obj .\n",
    "   # get the label\n",
    "   ?p sc:name ?name.\n",
    "}\n",
    "#LIMIT 20\n",
    "\"\"\"\n",
    "\n",
    "print(\"Results\")\n",
    "x=run_query(queryString)"
   ]
  },
  {
   "cell_type": "code",
   "execution_count": null,
   "id": "7728bf13-16d0-4332-a9bd-ec6211dbeef8",
   "metadata": {},
   "outputs": [],
   "source": [
    "# from the previous query we obtain [('p', 'http://www.wikidata.org/prop/direct/P61'), ('name', 'discoverer or inventor')]"
   ]
  },
  {
   "cell_type": "markdown",
   "id": "b069ef0c",
   "metadata": {},
   "source": [
    "Final query for this task"
   ]
  },
  {
   "cell_type": "code",
   "execution_count": 18,
   "id": "2771ce75",
   "metadata": {},
   "outputs": [
    {
     "name": "stdout",
     "output_type": "stream",
     "text": [
      "Results\n",
      "[('obj', 'http://www.wikidata.org/entity/Q80'), ('name', 'Tim Berners-Lee')]\n",
      "[('obj', 'http://www.wikidata.org/entity/Q92749'), ('name', 'Robert Cailliau')]\n",
      "2\n"
     ]
    }
   ],
   "source": [
    "# let's use the property P61 to retrieve the inventors of 'World Wide Web'\n",
    "\n",
    "queryString = \"\"\"\n",
    "SELECT DISTINCT ?obj ?name\n",
    "WHERE {\n",
    "   # bind something\n",
    "   wd:Q466 wdt:P61 ?obj.\n",
    "   # get the label\n",
    "   ?obj sc:name ?name.\n",
    "}\n",
    "LIMIT 20\n",
    "\"\"\"\n",
    "\n",
    "print(\"Results\")\n",
    "x=run_query(queryString)"
   ]
  },
  {
   "cell_type": "markdown",
   "id": "a82ad911",
   "metadata": {},
   "source": [
    "## Task 2\n",
    "Identify the BGP for hypertext system."
   ]
  },
  {
   "cell_type": "markdown",
   "id": "8aebcf93",
   "metadata": {},
   "source": [
    "Final query for this task"
   ]
  },
  {
   "cell_type": "code",
   "execution_count": 24,
   "id": "620e5662",
   "metadata": {},
   "outputs": [
    {
     "name": "stdout",
     "output_type": "stream",
     "text": [
      "Results\n",
      "[('obj', 'http://www.wikidata.org/entity/Q121182'), ('name', 'information system')]\n",
      "[('obj', 'http://www.wikidata.org/entity/Q65966993'), ('name', 'hypertext system')]\n",
      "2\n"
     ]
    }
   ],
   "source": [
    "queryString = \"\"\"\n",
    "SELECT DISTINCT ?obj ?name\n",
    "WHERE {\n",
    "   # bind something\n",
    "   wd:Q466 wdt:P31 ?obj.\n",
    "   # get the label\n",
    "   ?obj sc:name ?name.\n",
    "}\n",
    "LIMIT 20\n",
    "\"\"\"\n",
    "\n",
    "print(\"Results\")\n",
    "x=run_query(queryString)"
   ]
  },
  {
   "cell_type": "code",
   "execution_count": null,
   "id": "072fa926-05a5-4cfb-b1c7-d64aa2859182",
   "metadata": {},
   "outputs": [],
   "source": [
    "#[('obj', 'http://www.wikidata.org/entity/Q65966993'), ('name', 'hypertext system')]"
   ]
  },
  {
   "cell_type": "markdown",
   "id": "d80431bd",
   "metadata": {},
   "source": [
    "## Task 3\n",
    "Find all the hypertext systems born before the 1980 (return the IRI and name of the system and the inception date)."
   ]
  },
  {
   "cell_type": "code",
   "execution_count": 34,
   "id": "075bef1b",
   "metadata": {
    "tags": []
   },
   "outputs": [
    {
     "name": "stdout",
     "output_type": "stream",
     "text": [
      "Results\n",
      "[('obj', 'http://www.wikidata.org/entity/Q466'), ('name', 'World Wide Web')]\n",
      "[('obj', 'http://www.wikidata.org/entity/Q370979'), ('name', 'Amigaguide')]\n",
      "[('obj', 'http://www.wikidata.org/entity/Q2385520'), ('name', 'ENQUIRE')]\n",
      "[('obj', 'http://www.wikidata.org/entity/Q4994212'), ('name', 'Hypertext Editing System')]\n",
      "[('obj', 'http://www.wikidata.org/entity/Q5448331'), ('name', 'File Retrieval and Editing System')]\n",
      "[('obj', 'http://www.wikidata.org/entity/Q785345'), ('name', 'Project Xanadu')]\n",
      "[('obj', 'http://www.wikidata.org/entity/Q1799609'), ('name', 'HyTime')]\n",
      "[('obj', 'http://www.wikidata.org/entity/Q7742259'), ('name', 'The Interactive Encyclopedia System')]\n",
      "[('obj', 'http://www.wikidata.org/entity/Q74587961'), ('name', 'MaxThink')]\n",
      "[('obj', 'http://www.wikidata.org/entity/Q74590695'), ('name', 'HyperRez')]\n",
      "[('obj', 'http://www.wikidata.org/entity/Q74667091'), ('name', 'HOUDINI')]\n",
      "[('obj', 'http://www.wikidata.org/entity/Q66561170'), ('name', 'Visual Knowledge Builder')]\n",
      "[('obj', 'http://www.wikidata.org/entity/Q66561696'), ('name', 'VIKI')]\n",
      "[('obj', 'http://www.wikidata.org/entity/Q1166919'), ('name', 'Darwin Information Typing Architecture')]\n",
      "[('obj', 'http://www.wikidata.org/entity/Q1053749'), ('name', 'HyperCard')]\n",
      "[('obj', 'http://www.wikidata.org/entity/Q74679064'), ('name', 'TransText')]\n",
      "[('obj', 'http://www.wikidata.org/entity/Q94638515'), ('name', 'Gemini')]\n",
      "[('obj', 'http://www.wikidata.org/entity/Q2442968'), ('name', 'ToolBook')]\n",
      "[('obj', 'http://www.wikidata.org/entity/Q2367048'), ('name', 'SuperCard')]\n",
      "[('obj', 'http://www.wikidata.org/entity/Q5319181'), ('name', 'Dynatext')]\n",
      "[('obj', 'http://www.wikidata.org/entity/Q73516071'), ('name', 'Andrew Toolkit')]\n",
      "[('obj', 'http://www.wikidata.org/entity/Q5964462'), ('name', 'Knowledge Management System')]\n",
      "[('obj', 'http://www.wikidata.org/entity/Q67170587'), ('name', 'Expeditee')]\n",
      "[('obj', 'http://www.wikidata.org/entity/Q67147168'), ('name', 'Macweb')]\n",
      "[('obj', 'http://www.wikidata.org/entity/Q73916721'), ('name', 'HyperWriter!')]\n",
      "[('obj', 'http://www.wikidata.org/entity/Q15411624'), ('name', 'Twine')]\n",
      "[('obj', 'http://www.wikidata.org/entity/Q6839396'), ('name', 'Microcosm')]\n",
      "[('obj', 'http://www.wikidata.org/entity/Q471'), ('name', 'Memex')]\n",
      "[('obj', 'http://www.wikidata.org/entity/Q2583312'), ('name', 'WinPlus')]\n",
      "[('obj', 'http://www.wikidata.org/entity/Q73664535'), ('name', 'Folio Views')]\n",
      "[('obj', 'http://www.wikidata.org/entity/Q66124479'), ('name', 'Hyper-G')]\n",
      "[('obj', 'http://www.wikidata.org/entity/Q75004603'), ('name', 'IBM LinkWay')]\n",
      "[('obj', 'http://www.wikidata.org/entity/Q1050365'), ('name', 'oNLine System')]\n",
      "[('obj', 'http://www.wikidata.org/entity/Q8063246'), ('name', 'ZOG')]\n",
      "[('obj', 'http://www.wikidata.org/entity/Q66916307'), ('name', 'token_word')]\n",
      "[('obj', 'http://www.wikidata.org/entity/Q3625272'), ('name', 'Aspen Movie Map')]\n",
      "[('obj', 'http://www.wikidata.org/entity/Q5358242'), ('name', 'Electronic Document System')]\n",
      "[('obj', 'http://www.wikidata.org/entity/Q11153199'), ('name', 'Intermedia')]\n",
      "[('obj', 'http://www.wikidata.org/entity/Q7620478'), ('name', 'Storyspace')]\n",
      "[('obj', 'http://www.wikidata.org/entity/Q380574'), ('name', 'Knowledge Navigator')]\n",
      "[('obj', 'http://www.wikidata.org/entity/Q5615425'), ('name', 'Guide')]\n",
      "[('obj', 'http://www.wikidata.org/entity/Q11793087'), ('name', 'NoteCards')]\n",
      "[('obj', 'http://www.wikidata.org/entity/Q74428178'), ('name', 'HyperCOSTOC')]\n",
      "[('obj', 'http://www.wikidata.org/entity/Q66125212'), ('name', 'Konstanz Hypertext System')]\n",
      "[('obj', 'http://www.wikidata.org/entity/Q74670748'), ('name', 'PC-Hypertext')]\n",
      "[('obj', 'http://www.wikidata.org/entity/Q63079762'), ('name', 'OpenXanadu')]\n",
      "[('obj', 'http://www.wikidata.org/entity/Q66821230'), ('name', \"Sun's Link Service\")]\n",
      "[('obj', 'http://www.wikidata.org/entity/Q73737542'), ('name', 'HyperPAD')]\n",
      "[('obj', 'http://www.wikidata.org/entity/Q104714171'), ('name', 'HM-Card')]\n",
      "[('obj', 'http://www.wikidata.org/entity/Q7060634'), ('name', 'Norton Guides')]\n",
      "[('obj', 'http://www.wikidata.org/entity/Q7661194'), ('name', 'Symbolics Document Examiner')]\n",
      "[('obj', 'http://www.wikidata.org/entity/Q74588296'), ('name', 'Hyplus')]\n",
      "[('obj', 'http://www.wikidata.org/entity/Q67168848'), ('name', 'Udanax Green')]\n",
      "53\n"
     ]
    }
   ],
   "source": [
    "# first of all let's get all the hypertext systems in the database\n",
    "\n",
    "queryString = \"\"\"\n",
    "SELECT DISTINCT ?obj ?name\n",
    "WHERE {\n",
    "   # bind something\n",
    "   ?obj wdt:P31 wd:Q65966993.\n",
    "   # get the label\n",
    "   ?obj sc:name ?name.\n",
    "}\n",
    "#LIMIT 20\n",
    "\"\"\"\n",
    "\n",
    "print(\"Results\")\n",
    "x=run_query(queryString)"
   ]
  },
  {
   "cell_type": "code",
   "execution_count": 36,
   "id": "bb0737a2-b1c8-4a58-a0ab-da51c455452e",
   "metadata": {
    "tags": []
   },
   "outputs": [
    {
     "name": "stdout",
     "output_type": "stream",
     "text": [
      "Results\n",
      "[('p', 'http://www.wikidata.org/prop/direct/P1051'), ('name', 'PSH ID')]\n",
      "[('p', 'http://www.wikidata.org/prop/direct/P1225'), ('name', 'U.S. National Archives Identifier')]\n",
      "[('p', 'http://www.wikidata.org/prop/direct/P1417'), ('name', 'Encyclopædia Britannica Online ID')]\n",
      "[('p', 'http://www.wikidata.org/prop/direct/P1430'), ('name', 'OpenPlaques subject ID')]\n",
      "[('p', 'http://www.wikidata.org/prop/direct/P1482'), ('name', 'Stack Exchange tag')]\n",
      "[('p', 'http://www.wikidata.org/prop/direct/P1542'), ('name', 'has effect')]\n",
      "[('p', 'http://www.wikidata.org/prop/direct/P1813'), ('name', 'short name')]\n",
      "[('p', 'http://www.wikidata.org/prop/direct/P1889'), ('name', 'different from')]\n",
      "[('p', 'http://www.wikidata.org/prop/direct/P2004'), ('name', 'NALT ID')]\n",
      "[('p', 'http://www.wikidata.org/prop/direct/P2163'), ('name', 'FAST ID')]\n",
      "[('p', 'http://www.wikidata.org/prop/direct/P2184'), ('name', 'history of topic')]\n",
      "[('p', 'http://www.wikidata.org/prop/direct/P227'), ('name', 'GND ID')]\n",
      "[('p', 'http://www.wikidata.org/prop/direct/P2347'), ('name', 'YSO ID')]\n",
      "[('p', 'http://www.wikidata.org/prop/direct/P244'), ('name', 'Library of Congress authority ID')]\n",
      "[('p', 'http://www.wikidata.org/prop/direct/P2581'), ('name', 'BabelNet ID')]\n",
      "[('p', 'http://www.wikidata.org/prop/direct/P2612'), ('name', 'TED topic ID')]\n",
      "[('p', 'http://www.wikidata.org/prop/direct/P268'), ('name', 'Bibliothèque nationale de France ID')]\n",
      "[('p', 'http://www.wikidata.org/prop/direct/P279'), ('name', 'subclass of')]\n",
      "[('p', 'http://www.wikidata.org/prop/direct/P2959'), ('name', 'permanent duplicated item')]\n",
      "[('p', 'http://www.wikidata.org/prop/direct/P31'), ('name', 'instance of')]\n",
      "[('p', 'http://www.wikidata.org/prop/direct/P3222'), ('name', 'NE.se ID')]\n",
      "[('p', 'http://www.wikidata.org/prop/direct/P3381'), ('name', 'File Format Wiki page ID')]\n",
      "[('p', 'http://www.wikidata.org/prop/direct/P3417'), ('name', 'Quora topic ID')]\n",
      "[('p', 'http://www.wikidata.org/prop/direct/P3553'), ('name', 'Zhihu topic ID')]\n",
      "[('p', 'http://www.wikidata.org/prop/direct/P373'), ('name', 'Commons category')]\n",
      "[('p', 'http://www.wikidata.org/prop/direct/P3827'), ('name', 'JSTOR topic ID')]\n",
      "[('p', 'http://www.wikidata.org/prop/direct/P3847'), ('name', 'Open Library subject ID')]\n",
      "[('p', 'http://www.wikidata.org/prop/direct/P4342'), ('name', 'Store norske leksikon ID')]\n",
      "[('p', 'http://www.wikidata.org/prop/direct/P5008'), ('name', 'on focus list of Wikimedia project')]\n",
      "[('p', 'http://www.wikidata.org/prop/direct/P5019'), ('name', 'Brockhaus Enzyklopädie online ID')]\n",
      "[('p', 'http://www.wikidata.org/prop/direct/P508'), ('name', 'BNCF Thesaurus ID')]\n",
      "[('p', 'http://www.wikidata.org/prop/direct/P527'), ('name', 'has part')]\n",
      "[('p', 'http://www.wikidata.org/prop/direct/P5398'), ('name', 'TDKIV term ID')]\n",
      "[('p', 'http://www.wikidata.org/prop/direct/P571'), ('name', 'inception')]\n",
      "[('p', 'http://www.wikidata.org/prop/direct/P575'), ('name', 'time of discovery or invention')]\n",
      "[('p', 'http://www.wikidata.org/prop/direct/P61'), ('name', 'discoverer or inventor')]\n",
      "[('p', 'http://www.wikidata.org/prop/direct/P6366'), ('name', 'Microsoft Academic ID')]\n",
      "[('p', 'http://www.wikidata.org/prop/direct/P646'), ('name', 'Freebase ID')]\n",
      "[('p', 'http://www.wikidata.org/prop/direct/P6611'), ('name', 'Semantic Scholar topic ID')]\n",
      "[('p', 'http://www.wikidata.org/prop/direct/P7033'), ('name', 'Australian Educational Vocabulary ID')]\n",
      "[('p', 'http://www.wikidata.org/prop/direct/P737'), ('name', 'influenced by')]\n",
      "[('p', 'http://www.wikidata.org/prop/direct/P7818'), ('name', 'French Vikidia ID')]\n",
      "[('p', 'http://www.wikidata.org/prop/direct/P793'), ('name', 'significant event')]\n",
      "[('p', 'http://www.wikidata.org/prop/direct/P8408'), ('name', 'KBpedia ID')]\n",
      "[('p', 'http://www.wikidata.org/prop/direct/P910'), ('name', \"topic's main category\")]\n",
      "[('p', 'http://www.wikidata.org/prop/direct/P935'), ('name', 'Commons gallery')]\n",
      "[('p', 'http://www.wikidata.org/prop/direct/P950'), ('name', 'Biblioteca Nacional de España ID')]\n",
      "[('p', 'http://www.wikidata.org/prop/direct/P2179'), ('name', 'ACM Classification Code (2012)')]\n",
      "[('p', 'http://www.wikidata.org/prop/direct/P3893'), ('name', 'public domain date')]\n",
      "49\n"
     ]
    }
   ],
   "source": [
    "# let's look at a generic 'hypertext systems' properties and try to find something like date of creation\n",
    "\n",
    "queryString = \"\"\"\n",
    "SELECT DISTINCT ?p ?name\n",
    "WHERE {\n",
    "   # bind something\n",
    "   wd:Q466 ?p ?obj.\n",
    "   # get the label\n",
    "   ?p sc:name ?name.\n",
    "}\n",
    "#LIMIT 20\n",
    "\"\"\"\n",
    "\n",
    "print(\"Results\")\n",
    "x=run_query(queryString)"
   ]
  },
  {
   "cell_type": "code",
   "execution_count": null,
   "id": "fe2618a4-7226-43b9-b284-0a52bfecb746",
   "metadata": {},
   "outputs": [],
   "source": [
    "# [('p', 'http://www.wikidata.org/prop/direct/P575'), ('name', 'time of discovery or invention')]"
   ]
  },
  {
   "cell_type": "code",
   "execution_count": 41,
   "id": "7e67d864-8078-4fc8-aa11-6467b322849d",
   "metadata": {
    "tags": []
   },
   "outputs": [
    {
     "name": "stdout",
     "output_type": "stream",
     "text": [
      "Results\n",
      "[('obj', 'http://www.wikidata.org/entity/Q466'), ('name', 'World Wide Web'), ('date', '1990-01-01T00:00:00Z')]\n",
      "1\n"
     ]
    }
   ],
   "source": [
    "# let's try to get hypertext systems and their date of invention\n",
    "\n",
    "queryString = \"\"\"\n",
    "SELECT DISTINCT ?obj ?name ?date \n",
    "WHERE {\n",
    "   # bind something\n",
    "   ?obj wdt:P31 wd:Q65966993;\n",
    "        wdt:P575 ?date.\n",
    "   # get the label\n",
    "   ?obj sc:name ?name.\n",
    "   #?date sc:name ?inceptiondate.\n",
    "}\n",
    "#LIMIT 20\n",
    "\"\"\"\n",
    "\n",
    "print(\"Results\")\n",
    "x=run_query(queryString)"
   ]
  },
  {
   "cell_type": "code",
   "execution_count": null,
   "id": "d9ad0e1c-70d6-4a78-a8d4-063f4864796d",
   "metadata": {},
   "outputs": [],
   "source": [
    "# [('p', 'http://www.wikidata.org/prop/direct/P575'), ('name', 'time of discovery or invention')] is not correct, let's look for a different property"
   ]
  },
  {
   "cell_type": "code",
   "execution_count": null,
   "id": "b68479ff-8577-4361-b8f6-4f69e9818751",
   "metadata": {},
   "outputs": [],
   "source": [
    "# [('p', 'http://www.wikidata.org/prop/direct/P571'), ('name', 'inception')]"
   ]
  },
  {
   "cell_type": "code",
   "execution_count": 46,
   "id": "2fff9a8c-f1d7-4fd8-95ce-db570fc478b8",
   "metadata": {
    "tags": []
   },
   "outputs": [
    {
     "name": "stdout",
     "output_type": "stream",
     "text": [
      "Results\n",
      "[('obj', 'http://www.wikidata.org/entity/Q466'), ('name', 'World Wide Web'), ('date', '1989-03-12T00:00:00Z')]\n",
      "[('obj', 'http://www.wikidata.org/entity/Q466'), ('name', 'World Wide Web'), ('date', '1990-12-01T00:00:00Z')]\n",
      "[('obj', 'http://www.wikidata.org/entity/Q370979'), ('name', 'Amigaguide'), ('date', '1991-01-01T00:00:00Z')]\n",
      "[('obj', 'http://www.wikidata.org/entity/Q2385520'), ('name', 'ENQUIRE'), ('date', '1980-01-01T00:00:00Z')]\n",
      "[('obj', 'http://www.wikidata.org/entity/Q2385520'), ('name', 'ENQUIRE'), ('date', '1984-01-01T00:00:00Z')]\n",
      "[('obj', 'http://www.wikidata.org/entity/Q4994212'), ('name', 'Hypertext Editing System'), ('date', '1967-01-01T00:00:00Z')]\n",
      "[('obj', 'http://www.wikidata.org/entity/Q5448331'), ('name', 'File Retrieval and Editing System'), ('date', '1968-01-01T00:00:00Z')]\n",
      "[('obj', 'http://www.wikidata.org/entity/Q785345'), ('name', 'Project Xanadu'), ('date', '1960-01-01T00:00:00Z')]\n",
      "[('obj', 'http://www.wikidata.org/entity/Q1799609'), ('name', 'HyTime'), ('date', '1992-01-01T00:00:00Z')]\n",
      "[('obj', 'http://www.wikidata.org/entity/Q7742259'), ('name', 'The Interactive Encyclopedia System'), ('date', '1983-01-01T00:00:00Z')]\n",
      "[('obj', 'http://www.wikidata.org/entity/Q66561170'), ('name', 'Visual Knowledge Builder'), ('date', '2001-01-01T00:00:00Z')]\n",
      "[('obj', 'http://www.wikidata.org/entity/Q66561696'), ('name', 'VIKI'), ('date', '1994-01-01T00:00:00Z')]\n",
      "[('obj', 'http://www.wikidata.org/entity/Q1166919'), ('name', 'Darwin Information Typing Architecture'), ('date', '2001-01-01T00:00:00Z')]\n",
      "[('obj', 'http://www.wikidata.org/entity/Q1053749'), ('name', 'HyperCard'), ('date', '1987-01-01T00:00:00Z')]\n",
      "[('obj', 'http://www.wikidata.org/entity/Q94638515'), ('name', 'Gemini'), ('date', '2019-06-20T00:00:00Z')]\n",
      "[('obj', 'http://www.wikidata.org/entity/Q5319181'), ('name', 'Dynatext'), ('date', '1990-01-01T00:00:00Z')]\n",
      "[('obj', 'http://www.wikidata.org/entity/Q73516071'), ('name', 'Andrew Toolkit'), ('date', '1988-01-01T00:00:00Z')]\n",
      "[('obj', 'http://www.wikidata.org/entity/Q67170587'), ('name', 'Expeditee'), ('date', '2006-01-01T00:00:00Z')]\n",
      "[('obj', 'http://www.wikidata.org/entity/Q15411624'), ('name', 'Twine'), ('date', '2009-01-01T00:00:00Z')]\n",
      "[('obj', 'http://www.wikidata.org/entity/Q6839396'), ('name', 'Microcosm'), ('date', '1988-01-01T00:00:00Z')]\n",
      "[('obj', 'http://www.wikidata.org/entity/Q471'), ('name', 'Memex'), ('date', '1939-01-01T00:00:00Z')]\n",
      "[('obj', 'http://www.wikidata.org/entity/Q75004603'), ('name', 'IBM LinkWay'), ('date', '1987-01-01T00:00:00Z')]\n",
      "[('obj', 'http://www.wikidata.org/entity/Q1050365'), ('name', 'oNLine System'), ('date', '1962-01-01T00:00:00Z')]\n",
      "[('obj', 'http://www.wikidata.org/entity/Q8063246'), ('name', 'ZOG'), ('date', '1977-01-01T00:00:00Z')]\n",
      "[('obj', 'http://www.wikidata.org/entity/Q3625272'), ('name', 'Aspen Movie Map'), ('date', '1978-01-01T00:00:00Z')]\n",
      "[('obj', 'http://www.wikidata.org/entity/Q5358242'), ('name', 'Electronic Document System'), ('date', '1978-01-01T00:00:00Z')]\n",
      "[('obj', 'http://www.wikidata.org/entity/Q7620478'), ('name', 'Storyspace'), ('date', '1985-01-01T00:00:00Z')]\n",
      "[('obj', 'http://www.wikidata.org/entity/Q5615425'), ('name', 'Guide'), ('date', '1982-01-01T00:00:00Z')]\n",
      "[('obj', 'http://www.wikidata.org/entity/Q11793087'), ('name', 'NoteCards'), ('date', '1984-01-01T00:00:00Z')]\n",
      "[('obj', 'http://www.wikidata.org/entity/Q74428178'), ('name', 'HyperCOSTOC'), ('date', '1989-01-01T00:00:00Z')]\n",
      "[('obj', 'http://www.wikidata.org/entity/Q104714171'), ('name', 'HM-Card'), ('date', '1995-01-01T00:00:00Z')]\n",
      "[('obj', 'http://www.wikidata.org/entity/Q7060634'), ('name', 'Norton Guides'), ('date', '1985-01-01T00:00:00Z')]\n",
      "32\n"
     ]
    }
   ],
   "source": [
    "# let's try to get hypertext systems and their date of invention\n",
    "\n",
    "queryString = \"\"\"\n",
    "SELECT DISTINCT ?obj ?name ?date \n",
    "WHERE {\n",
    "   # bind something\n",
    "   ?obj wdt:P31 wd:Q65966993;\n",
    "        wdt:P571 ?date.\n",
    "   # get the label\n",
    "   ?obj sc:name ?name.\n",
    "}\n",
    "#LIMIT 20\n",
    "\"\"\"\n",
    "\n",
    "print(\"Results\")\n",
    "x=run_query(queryString)"
   ]
  },
  {
   "cell_type": "code",
   "execution_count": 45,
   "id": "472176a8-281a-4b60-9274-43f59e4456f1",
   "metadata": {},
   "outputs": [],
   "source": [
    "# using the property inception we are able to get all hypertext systems and their date of invention"
   ]
  },
  {
   "cell_type": "markdown",
   "id": "5565a28c",
   "metadata": {},
   "source": [
    "Final query for this task"
   ]
  },
  {
   "cell_type": "code",
   "execution_count": 49,
   "id": "4a53c495",
   "metadata": {},
   "outputs": [
    {
     "name": "stdout",
     "output_type": "stream",
     "text": [
      "Results\n",
      "[('obj', 'http://www.wikidata.org/entity/Q2385520'), ('name', 'ENQUIRE'), ('date', '1980-01-01T00:00:00Z')]\n",
      "[('obj', 'http://www.wikidata.org/entity/Q4994212'), ('name', 'Hypertext Editing System'), ('date', '1967-01-01T00:00:00Z')]\n",
      "[('obj', 'http://www.wikidata.org/entity/Q5448331'), ('name', 'File Retrieval and Editing System'), ('date', '1968-01-01T00:00:00Z')]\n",
      "[('obj', 'http://www.wikidata.org/entity/Q785345'), ('name', 'Project Xanadu'), ('date', '1960-01-01T00:00:00Z')]\n",
      "[('obj', 'http://www.wikidata.org/entity/Q471'), ('name', 'Memex'), ('date', '1939-01-01T00:00:00Z')]\n",
      "[('obj', 'http://www.wikidata.org/entity/Q1050365'), ('name', 'oNLine System'), ('date', '1962-01-01T00:00:00Z')]\n",
      "[('obj', 'http://www.wikidata.org/entity/Q8063246'), ('name', 'ZOG'), ('date', '1977-01-01T00:00:00Z')]\n",
      "[('obj', 'http://www.wikidata.org/entity/Q3625272'), ('name', 'Aspen Movie Map'), ('date', '1978-01-01T00:00:00Z')]\n",
      "[('obj', 'http://www.wikidata.org/entity/Q5358242'), ('name', 'Electronic Document System'), ('date', '1978-01-01T00:00:00Z')]\n",
      "9\n"
     ]
    }
   ],
   "source": [
    "# the next step is to filter and find all the hypertext systems born before the 1980 (return the IRI and name of the system and the inception date).\n",
    "\n",
    "queryString = \"\"\"\n",
    "SELECT DISTINCT ?obj ?name ?date \n",
    "WHERE {\n",
    "   # bind something\n",
    "   ?obj wdt:P31 wd:Q65966993;\n",
    "        wdt:P571 ?date.\n",
    "   # get the label\n",
    "   ?obj sc:name ?name.\n",
    "   FILTER (?date < \"1980\"^^xsd:gYear).\n",
    "}\n",
    "#LIMIT 20\n",
    "\"\"\"\n",
    "\n",
    "print(\"Results\")\n",
    "x=run_query(queryString)"
   ]
  },
  {
   "cell_type": "markdown",
   "id": "2804f371",
   "metadata": {},
   "source": [
    "## Task 4\n",
    "Identify the BGP for computer scientist"
   ]
  },
  {
   "cell_type": "code",
   "execution_count": null,
   "id": "ca31a143",
   "metadata": {},
   "outputs": [],
   "source": [
    "# let's try to find the BGP for computer scientist using the entity associated to Tim Berners-Lee, inventor of the World Wide Web"
   ]
  },
  {
   "cell_type": "markdown",
   "id": "80fdf815",
   "metadata": {},
   "source": [
    "Final query for this task"
   ]
  },
  {
   "cell_type": "code",
   "execution_count": 52,
   "id": "daaf4456",
   "metadata": {},
   "outputs": [
    {
     "name": "stdout",
     "output_type": "stream",
     "text": [
      "Results\n",
      "[('obj', 'http://www.wikidata.org/entity/Q1622272'), ('name', 'university teacher')]\n",
      "[('obj', 'http://www.wikidata.org/entity/Q169470'), ('name', 'physicist')]\n",
      "[('obj', 'http://www.wikidata.org/entity/Q205375'), ('name', 'inventor')]\n",
      "[('obj', 'http://www.wikidata.org/entity/Q81096'), ('name', 'engineer')]\n",
      "[('obj', 'http://www.wikidata.org/entity/Q82594'), ('name', 'computer scientist')]\n",
      "[('obj', 'http://www.wikidata.org/entity/Q5482740'), ('name', 'programmer')]\n",
      "[('obj', 'http://www.wikidata.org/entity/Q6859454'), ('name', 'web developer')]\n",
      "7\n"
     ]
    }
   ],
   "source": [
    "# return all the profession of Tim Berners-Lee (Q80)\n",
    "\n",
    "queryString = \"\"\"\n",
    "SELECT DISTINCT ?obj ?name\n",
    "WHERE {\n",
    "   # bind something\n",
    "   wd:Q80 wdt:P106 ?obj.\n",
    "   # get the label\n",
    "   ?obj sc:name ?name.\n",
    "}\n",
    "#LIMIT 20\n",
    "\"\"\"\n",
    "\n",
    "print(\"Results\")\n",
    "x=run_query(queryString)"
   ]
  },
  {
   "cell_type": "code",
   "execution_count": null,
   "id": "a3601dd7-8437-4a07-af37-f1c8feab0622",
   "metadata": {},
   "outputs": [],
   "source": [
    "# [('obj', 'http://www.wikidata.org/entity/Q82594'), ('name', 'computer scientist')]"
   ]
  },
  {
   "cell_type": "markdown",
   "id": "8f649982",
   "metadata": {},
   "source": [
    "## Task 5\n",
    "Find how many computer scientists there are for each continent (consider their citizenship). Return the IRI and name of the continent and the number of scientists for each continent."
   ]
  },
  {
   "cell_type": "code",
   "execution_count": 79,
   "id": "c1a21270",
   "metadata": {
    "collapsed": true,
    "jupyter": {
     "outputs_hidden": true
    },
    "tags": []
   },
   "outputs": [
    {
     "name": "stdout",
     "output_type": "stream",
     "text": [
      "Results\n",
      "[('computer_scientist', 'http://www.wikidata.org/entity/Q8190500'), ('name', 'Seinosuke Toda')]\n",
      "[('computer_scientist', 'http://www.wikidata.org/entity/Q603999'), ('name', 'Kevin Poulsen')]\n",
      "[('computer_scientist', 'http://www.wikidata.org/entity/Q11109023'), ('name', 'Michael Barr')]\n",
      "[('computer_scientist', 'http://www.wikidata.org/entity/Q20731777'), ('name', 'Valeria de Paiva')]\n",
      "[('computer_scientist', 'http://www.wikidata.org/entity/Q24901829'), ('name', 'Ernesto Damiani')]\n",
      "[('computer_scientist', 'http://www.wikidata.org/entity/Q61856956'), ('name', 'Richard Garner')]\n",
      "[('computer_scientist', 'http://www.wikidata.org/entity/Q6539960'), ('name', 'Liang-Jie Zhang')]\n",
      "[('computer_scientist', 'http://www.wikidata.org/entity/Q92669'), ('name', 'Jeffrey Shallit')]\n",
      "[('computer_scientist', 'http://www.wikidata.org/entity/Q15842362'), ('name', 'Richard Clippinger')]\n",
      "[('computer_scientist', 'http://www.wikidata.org/entity/Q15858435'), ('name', 'Hardo Bourguignon')]\n",
      "[('computer_scientist', 'http://www.wikidata.org/entity/Q15917430'), ('name', 'A. Ollongren')]\n",
      "[('computer_scientist', 'http://www.wikidata.org/entity/Q16018928'), ('name', 'Jim Thomas')]\n",
      "[('computer_scientist', 'http://www.wikidata.org/entity/Q241735'), ('name', 'Robert Noyce')]\n",
      "[('computer_scientist', 'http://www.wikidata.org/entity/Q7312654'), ('name', 'Renato M. E. Sabbatini')]\n",
      "[('computer_scientist', 'http://www.wikidata.org/entity/Q16174254'), ('name', 'Drude Berntsen')]\n",
      "[('computer_scientist', 'http://www.wikidata.org/entity/Q16186703'), ('name', 'Timothy J. Hickey')]\n",
      "[('computer_scientist', 'http://www.wikidata.org/entity/Q16193458'), ('name', 'Terry Myerson')]\n",
      "[('computer_scientist', 'http://www.wikidata.org/entity/Q16194868'), ('name', 'Ross Williams')]\n",
      "[('computer_scientist', 'http://www.wikidata.org/entity/Q16195136'), ('name', 'Frans Kaashoek')]\n",
      "[('computer_scientist', 'http://www.wikidata.org/entity/Q16195669'), ('name', 'William Martens')]\n",
      "20\n"
     ]
    }
   ],
   "source": [
    "# first of all let's get all the computer scientists in the world\n",
    "\n",
    "queryString = \"\"\"\n",
    "SELECT DISTINCT ?computer_scientist ?name\n",
    "WHERE {\n",
    "   # bind something\n",
    "   ?computer_scientist wdt:P31 wd:Q5;\n",
    "   wdt:P106 wd:Q82594.\n",
    "   # get the label\n",
    "   ?computer_scientist sc:name ?name.\n",
    "}\n",
    "LIMIT 20\n",
    "\"\"\"\n",
    "\n",
    "print(\"Results\")\n",
    "x=run_query(queryString)"
   ]
  },
  {
   "cell_type": "code",
   "execution_count": 153,
   "id": "c4861881-3d19-41fc-959b-8d370160b7df",
   "metadata": {
    "collapsed": true,
    "jupyter": {
     "outputs_hidden": true
    },
    "tags": []
   },
   "outputs": [
    {
     "name": "stdout",
     "output_type": "stream",
     "text": [
      "Results\n",
      "[('p', 'http://www.wikidata.org/prop/direct/P106'), ('name', 'occupation')]\n",
      "[('p', 'http://www.wikidata.org/prop/direct/P108'), ('name', 'employer')]\n",
      "[('p', 'http://www.wikidata.org/prop/direct/P166'), ('name', 'award received')]\n",
      "[('p', 'http://www.wikidata.org/prop/direct/P1814'), ('name', 'name in kana')]\n",
      "[('p', 'http://www.wikidata.org/prop/direct/P184'), ('name', 'doctoral advisor')]\n",
      "[('p', 'http://www.wikidata.org/prop/direct/P19'), ('name', 'place of birth')]\n",
      "[('p', 'http://www.wikidata.org/prop/direct/P21'), ('name', 'sex or gender')]\n",
      "[('p', 'http://www.wikidata.org/prop/direct/P213'), ('name', 'ISNI')]\n",
      "[('p', 'http://www.wikidata.org/prop/direct/P214'), ('name', 'VIAF ID')]\n",
      "[('p', 'http://www.wikidata.org/prop/direct/P2456'), ('name', 'DBLP author ID')]\n",
      "[('p', 'http://www.wikidata.org/prop/direct/P27'), ('name', 'country of citizenship')]\n",
      "[('p', 'http://www.wikidata.org/prop/direct/P31'), ('name', 'instance of')]\n",
      "[('p', 'http://www.wikidata.org/prop/direct/P349'), ('name', 'National Diet Library ID')]\n",
      "[('p', 'http://www.wikidata.org/prop/direct/P4955'), ('name', 'MR Author ID')]\n",
      "[('p', 'http://www.wikidata.org/prop/direct/P549'), ('name', 'Mathematics Genealogy Project ID')]\n",
      "[('p', 'http://www.wikidata.org/prop/direct/P551'), ('name', 'residence')]\n",
      "[('p', 'http://www.wikidata.org/prop/direct/P569'), ('name', 'date of birth')]\n",
      "[('p', 'http://www.wikidata.org/prop/direct/P646'), ('name', 'Freebase ID')]\n",
      "[('p', 'http://www.wikidata.org/prop/direct/P69'), ('name', 'educated at')]\n",
      "[('p', 'http://www.wikidata.org/prop/direct/P7859'), ('name', 'WorldCat Identities ID')]\n",
      "20\n"
     ]
    }
   ],
   "source": [
    "# let's look at a generic computer scientist properties to find out if there is a citizenship property\n",
    "\n",
    "queryString = \"\"\"\n",
    "SELECT DISTINCT ?p ?name\n",
    "WHERE {\n",
    "   # bind something\n",
    "   wd:Q8190500 ?p ?obj.\n",
    "   # get the label\n",
    "   ?p sc:name ?name.\n",
    "}\n",
    "LIMIT 20\n",
    "\"\"\"\n",
    "\n",
    "print(\"Results\")\n",
    "x=run_query(queryString)"
   ]
  },
  {
   "cell_type": "code",
   "execution_count": null,
   "id": "98ce571b-e63e-4236-a286-0107fd3ecb4f",
   "metadata": {},
   "outputs": [],
   "source": [
    "# [('p', 'http://www.wikidata.org/prop/direct/P27'), ('name', 'country of citizenship')]"
   ]
  },
  {
   "cell_type": "code",
   "execution_count": 93,
   "id": "4c50ccbd-8e31-4901-8a11-d8c43aaa8e36",
   "metadata": {
    "collapsed": true,
    "jupyter": {
     "outputs_hidden": true
    },
    "tags": []
   },
   "outputs": [
    {
     "name": "stdout",
     "output_type": "stream",
     "text": [
      "Results\n",
      "[('computer_scientist', 'http://www.wikidata.org/entity/Q3018520'), ('name', 'David Naccache'), ('nation', 'Morocco')]\n",
      "[('computer_scientist', 'http://www.wikidata.org/entity/Q1045568'), ('name', 'Carsten Haitzler'), ('nation', 'Nigeria')]\n",
      "[('computer_scientist', 'http://www.wikidata.org/entity/Q28648829'), ('name', 'Clarisse Iribagiza'), ('nation', 'Rwanda')]\n",
      "[('computer_scientist', 'http://www.wikidata.org/entity/Q26207354'), ('name', 'Lum Zhaveli'), ('nation', 'Kosovo')]\n",
      "[('computer_scientist', 'http://www.wikidata.org/entity/Q24565815'), ('name', 'Narasimhiah Seshagiri'), ('nation', 'British India')]\n",
      "[('computer_scientist', 'http://www.wikidata.org/entity/Q253960'), ('name', 'Ravi Sethi'), ('nation', 'British India')]\n",
      "[('computer_scientist', 'http://www.wikidata.org/entity/Q21715732'), ('name', 'Syed Jan Abas'), ('nation', 'British India')]\n",
      "[('computer_scientist', 'http://www.wikidata.org/entity/Q53977158'), ('name', 'Svetlana Selezneva'), ('nation', 'Ukrainian Soviet Socialist Republic')]\n",
      "[('computer_scientist', 'http://www.wikidata.org/entity/Q92987'), ('name', 'Wang Xuan'), ('nation', 'Republic of China 1912–1949')]\n",
      "[('computer_scientist', 'http://www.wikidata.org/entity/Q1045031'), ('name', 'Liu Chuanzhi'), ('nation', 'Republic of China 1912–1949')]\n",
      "[('computer_scientist', 'http://www.wikidata.org/entity/Q41390'), ('name', 'Kurt Gödel'), ('nation', 'First Czechoslovak Republic')]\n",
      "[('computer_scientist', 'http://www.wikidata.org/entity/Q17496977'), ('name', 'Michel Robert'), ('nation', 'France')]\n",
      "[('computer_scientist', 'http://www.wikidata.org/entity/Q92946'), ('name', 'Bertrand Meyer'), ('nation', 'France')]\n",
      "[('computer_scientist', 'http://www.wikidata.org/entity/Q24939958'), ('name', 'Francis Bach'), ('nation', 'France')]\n",
      "[('computer_scientist', 'http://www.wikidata.org/entity/Q61090466'), ('name', 'Anne Siegel'), ('nation', 'France')]\n",
      "[('computer_scientist', 'http://www.wikidata.org/entity/Q3638303'), ('name', 'Benoît Minisini'), ('nation', 'France')]\n",
      "[('computer_scientist', 'http://www.wikidata.org/entity/Q2755388'), ('name', 'Philippe Dreyfus'), ('nation', 'France')]\n",
      "[('computer_scientist', 'http://www.wikidata.org/entity/Q28477239'), ('name', 'Nathalie Lauraine-Boulyguina'), ('nation', 'France')]\n",
      "[('computer_scientist', 'http://www.wikidata.org/entity/Q92635'), ('name', 'Jacques Vallée'), ('nation', 'France')]\n",
      "[('computer_scientist', 'http://www.wikidata.org/entity/Q93027'), ('name', 'Henri Gouraud'), ('nation', 'France')]\n",
      "20\n"
     ]
    }
   ],
   "source": [
    "# let's get all the computer scientists in the world with their nationality\n",
    "\n",
    "queryString = \"\"\"\n",
    "SELECT DISTINCT ?computer_scientist ?name ?nation\n",
    "WHERE {\n",
    "   # bind something\n",
    "   ?computer_scientist wdt:P31 wd:Q5;\n",
    "                  wdt:P106 wd:Q82594;\n",
    "                  wdt:P27 ?nationality.\n",
    "   # get the label\n",
    "   ?computer_scientist sc:name ?name.\n",
    "   ?nationality sc:name ?nation.\n",
    "}\n",
    "LIMIT 20\n",
    "\"\"\"\n",
    "\n",
    "print(\"Results\")\n",
    "x=run_query(queryString)"
   ]
  },
  {
   "cell_type": "code",
   "execution_count": 100,
   "id": "6de77c79-68eb-4800-b3b2-ef7ddda9c212",
   "metadata": {
    "collapsed": true,
    "jupyter": {
     "outputs_hidden": true
    },
    "tags": []
   },
   "outputs": [
    {
     "name": "stdout",
     "output_type": "stream",
     "text": [
      "Results\n",
      "[('nationality', 'http://www.wikidata.org/entity/Q1028'), ('nation', 'Morocco')]\n",
      "[('nationality', 'http://www.wikidata.org/entity/Q1033'), ('nation', 'Nigeria')]\n",
      "[('nationality', 'http://www.wikidata.org/entity/Q1037'), ('nation', 'Rwanda')]\n",
      "[('nationality', 'http://www.wikidata.org/entity/Q1246'), ('nation', 'Kosovo')]\n",
      "[('nationality', 'http://www.wikidata.org/entity/Q129286'), ('nation', 'British India')]\n",
      "[('nationality', 'http://www.wikidata.org/entity/Q133356'), ('nation', 'Ukrainian Soviet Socialist Republic')]\n",
      "[('nationality', 'http://www.wikidata.org/entity/Q13426199'), ('nation', 'Republic of China 1912–1949')]\n",
      "[('nationality', 'http://www.wikidata.org/entity/Q140359'), ('nation', 'First Czechoslovak Republic')]\n",
      "[('nationality', 'http://www.wikidata.org/entity/Q142'), ('nation', 'France')]\n",
      "[('nationality', 'http://www.wikidata.org/entity/Q145'), ('nation', 'United Kingdom')]\n",
      "[('nationality', 'http://www.wikidata.org/entity/Q148'), ('nation', \"People's Republic of China\")]\n",
      "[('nationality', 'http://www.wikidata.org/entity/Q15180'), ('nation', 'Soviet Union')]\n",
      "[('nationality', 'http://www.wikidata.org/entity/Q155'), ('nation', 'Brazil')]\n",
      "[('nationality', 'http://www.wikidata.org/entity/Q159'), ('nation', 'Russia')]\n",
      "[('nationality', 'http://www.wikidata.org/entity/Q16'), ('nation', 'Canada')]\n",
      "[('nationality', 'http://www.wikidata.org/entity/Q16957'), ('nation', 'German Democratic Republic')]\n",
      "[('nationality', 'http://www.wikidata.org/entity/Q17'), ('nation', 'Japan')]\n",
      "[('nationality', 'http://www.wikidata.org/entity/Q172579'), ('nation', 'Kingdom of Italy')]\n",
      "[('nationality', 'http://www.wikidata.org/entity/Q174193'), ('nation', 'United Kingdom of Great Britain and Ireland')]\n",
      "[('nationality', 'http://www.wikidata.org/entity/Q1775277'), ('nation', 'Dominion of India')]\n",
      "20\n"
     ]
    }
   ],
   "source": [
    "# let's get a generic country in order to have a look at its property\n",
    "\n",
    "queryString = \"\"\"\n",
    "SELECT DISTINCT ?nationality ?nation\n",
    "WHERE {\n",
    "   # bind something\n",
    "   ?computer_scientist wdt:P31 wd:Q5;\n",
    "                  wdt:P106 wd:Q82594;\n",
    "                  wdt:P27 ?nationality.\n",
    "   # get the label\n",
    "   ?nationality sc:name ?nation.\n",
    "}\n",
    "LIMIT 20\n",
    "\"\"\"\n",
    "\n",
    "print(\"Results\")\n",
    "x=run_query(queryString)"
   ]
  },
  {
   "cell_type": "code",
   "execution_count": 98,
   "id": "b3b811c8-424d-41ef-b35a-a98b93013d05",
   "metadata": {
    "collapsed": true,
    "jupyter": {
     "outputs_hidden": true
    },
    "tags": []
   },
   "outputs": [
    {
     "name": "stdout",
     "output_type": "stream",
     "text": [
      "Results\n",
      "[('p', 'http://www.wikidata.org/prop/direct/P1036'), ('name', 'Dewey Decimal Classification')]\n",
      "[('p', 'http://www.wikidata.org/prop/direct/P1081'), ('name', 'Human Development Index')]\n",
      "[('p', 'http://www.wikidata.org/prop/direct/P1082'), ('name', 'population')]\n",
      "[('p', 'http://www.wikidata.org/prop/direct/P1151'), ('name', \"topic's main Wikimedia portal\")]\n",
      "[('p', 'http://www.wikidata.org/prop/direct/P1198'), ('name', 'unemployment rate')]\n",
      "[('p', 'http://www.wikidata.org/prop/direct/P122'), ('name', 'basic form of government')]\n",
      "[('p', 'http://www.wikidata.org/prop/direct/P1225'), ('name', 'U.S. National Archives Identifier')]\n",
      "[('p', 'http://www.wikidata.org/prop/direct/P1245'), ('name', 'OmegaWiki Defined Meaning')]\n",
      "[('p', 'http://www.wikidata.org/prop/direct/P1296'), ('name', 'Gran Enciclopèdia Catalana ID')]\n",
      "[('p', 'http://www.wikidata.org/prop/direct/P1304'), ('name', 'central bank')]\n",
      "[('p', 'http://www.wikidata.org/prop/direct/P1313'), ('name', 'office held by head of government')]\n",
      "[('p', 'http://www.wikidata.org/prop/direct/P1343'), ('name', 'described by source')]\n",
      "[('p', 'http://www.wikidata.org/prop/direct/P138'), ('name', 'named after')]\n",
      "[('p', 'http://www.wikidata.org/prop/direct/P1417'), ('name', 'Encyclopædia Britannica Online ID')]\n",
      "[('p', 'http://www.wikidata.org/prop/direct/P1438'), ('name', 'Jewish Encyclopedia ID (Russian)')]\n",
      "[('p', 'http://www.wikidata.org/prop/direct/P1448'), ('name', 'official name')]\n",
      "[('p', 'http://www.wikidata.org/prop/direct/P1464'), ('name', 'category for people born here')]\n",
      "[('p', 'http://www.wikidata.org/prop/direct/P1465'), ('name', 'category for people who died here')]\n",
      "[('p', 'http://www.wikidata.org/prop/direct/P150'), ('name', 'contains administrative territorial entity')]\n",
      "[('p', 'http://www.wikidata.org/prop/direct/P1549'), ('name', 'demonym')]\n",
      "20\n"
     ]
    }
   ],
   "source": [
    "# let's get the property to retrieve the continent from a country\n",
    "\n",
    "queryString = \"\"\"\n",
    "SELECT DISTINCT ?p ?name\n",
    "WHERE {\n",
    "   # bind something\n",
    "   wd:Q1028 ?p ?obj.\n",
    "   # get the label\n",
    "   ?p sc:name ?name.\n",
    "   \n",
    "}\n",
    "LIMIT 20\n",
    "\"\"\"\n",
    "\n",
    "print(\"Results\")\n",
    "x=run_query(queryString)"
   ]
  },
  {
   "cell_type": "code",
   "execution_count": null,
   "id": "92fa253a-118a-4ce1-ac0c-124dbd90ab2d",
   "metadata": {},
   "outputs": [],
   "source": [
    "#[('p', 'http://www.wikidata.org/prop/direct/P30'), ('name', 'continent')]"
   ]
  },
  {
   "cell_type": "code",
   "execution_count": 114,
   "id": "a80cc4ee-5ffc-4f1e-8cb1-728f77860a71",
   "metadata": {
    "collapsed": true,
    "jupyter": {
     "outputs_hidden": true
    },
    "tags": []
   },
   "outputs": [
    {
     "name": "stdout",
     "output_type": "stream",
     "text": [
      "Results\n",
      "[('country', 'http://www.wikidata.org/entity/Q191'), ('nation', 'Estonia'), ('number_of_scientist', '53')]\n",
      "[('country', 'http://www.wikidata.org/entity/Q219060'), ('nation', 'State of Palestine'), ('number_of_scientist', '1')]\n",
      "[('country', 'http://www.wikidata.org/entity/Q668'), ('nation', 'India'), ('number_of_scientist', '107')]\n",
      "[('country', 'http://www.wikidata.org/entity/Q1036'), ('nation', 'Uganda'), ('number_of_scientist', '4')]\n",
      "[('country', 'http://www.wikidata.org/entity/Q713750'), ('nation', 'West Germany'), ('number_of_scientist', '2')]\n",
      "[('country', 'http://www.wikidata.org/entity/Q189'), ('nation', 'Iceland'), ('number_of_scientist', '7')]\n",
      "[('country', 'http://www.wikidata.org/entity/Q399'), ('nation', 'Armenia'), ('number_of_scientist', '3')]\n",
      "[('country', 'http://www.wikidata.org/entity/Q186320'), ('nation', 'Grand Duchy of Baden'), ('number_of_scientist', '1')]\n",
      "[('country', 'http://www.wikidata.org/entity/Q1009'), ('nation', 'Cameroon'), ('number_of_scientist', '5')]\n",
      "[('country', 'http://www.wikidata.org/entity/Q902'), ('nation', 'Bangladesh'), ('number_of_scientist', '2')]\n",
      "[('country', 'http://www.wikidata.org/entity/Q13426199'), ('nation', 'Republic of China 1912–1949'), ('number_of_scientist', '7')]\n",
      "[('country', 'http://www.wikidata.org/entity/Q159'), ('nation', 'Russia'), ('number_of_scientist', '104')]\n",
      "[('country', 'http://www.wikidata.org/entity/Q184'), ('nation', 'Belarus'), ('number_of_scientist', '8')]\n",
      "[('country', 'http://www.wikidata.org/entity/Q211'), ('nation', 'Latvia'), ('number_of_scientist', '13')]\n",
      "[('country', 'http://www.wikidata.org/entity/Q664'), ('nation', 'New Zealand'), ('number_of_scientist', '33')]\n",
      "[('country', 'http://www.wikidata.org/entity/Q801'), ('nation', 'Israel'), ('number_of_scientist', '145')]\n",
      "[('country', 'http://www.wikidata.org/entity/Q843'), ('nation', 'Pakistan'), ('number_of_scientist', '11')]\n",
      "[('country', 'http://www.wikidata.org/entity/Q865'), ('nation', 'Taiwan'), ('number_of_scientist', '26')]\n",
      "[('country', 'http://www.wikidata.org/entity/Q739'), ('nation', 'Colombia'), ('number_of_scientist', '4')]\n",
      "[('country', 'http://www.wikidata.org/entity/Q45'), ('nation', 'Portugal'), ('number_of_scientist', '14')]\n",
      "20\n"
     ]
    }
   ],
   "source": [
    "# Return the IRI and name of the country and the number of scientists for each country\n",
    "\n",
    "queryString = \"\"\"\n",
    "SELECT DISTINCT ?country ?nation COUNT (?nation) as ?number_of_scientist\n",
    "WHERE {\n",
    "   # bind something\n",
    "   ?computer_scientist wdt:P31 wd:Q5;\n",
    "                  wdt:P106 wd:Q82594;\n",
    "                  wdt:P27 ?country.\n",
    "   # get the label\n",
    "   #?computer_scientist sc:name ?name.\n",
    "   ?country sc:name ?nation.\n",
    "}\n",
    "LIMIT 20\n",
    "\"\"\"\n",
    "\n",
    "print(\"Results\")\n",
    "x=run_query(queryString)"
   ]
  },
  {
   "cell_type": "markdown",
   "id": "ca80b70f",
   "metadata": {},
   "source": [
    "Final query for this task"
   ]
  },
  {
   "cell_type": "code",
   "execution_count": 116,
   "id": "3ecdf961",
   "metadata": {
    "tags": []
   },
   "outputs": [
    {
     "name": "stdout",
     "output_type": "stream",
     "text": [
      "Results\n",
      "[('continent', 'http://www.wikidata.org/entity/Q5401'), ('name', 'Eurasia'), ('number_of_scientist', '23')]\n",
      "[('continent', 'http://www.wikidata.org/entity/Q46'), ('name', 'Europe'), ('number_of_scientist', '3487')]\n",
      "[('continent', 'http://www.wikidata.org/entity/Q538'), ('name', 'Insular Oceania'), ('number_of_scientist', '2479')]\n",
      "[('continent', 'http://www.wikidata.org/entity/Q15'), ('name', 'Africa'), ('number_of_scientist', '76')]\n",
      "[('continent', 'http://www.wikidata.org/entity/Q18'), ('name', 'South America'), ('number_of_scientist', '92')]\n",
      "[('continent', 'http://www.wikidata.org/entity/Q48'), ('name', 'Asia'), ('number_of_scientist', '953')]\n",
      "[('continent', 'http://www.wikidata.org/entity/Q49'), ('name', 'North America'), ('number_of_scientist', '2782')]\n",
      "7\n"
     ]
    }
   ],
   "source": [
    "# Return the IRI and name of the continent and the number of scientists for each continent\n",
    "\n",
    "queryString = \"\"\"\n",
    "SELECT DISTINCT ?continent ?name COUNT (?continent) as ?number_of_scientist\n",
    "WHERE {\n",
    "   # bind something\n",
    "   ?computer_scientist wdt:P31 wd:Q5;\n",
    "                  wdt:P106 wd:Q82594;\n",
    "                  wdt:P27 ?country.\n",
    "   ?country wdt:P30 ?continent.\n",
    "   # get the label\n",
    "   ?continent sc:name ?name.\n",
    "}\n",
    "LIMIT 20\n",
    "\"\"\"\n",
    "\n",
    "print(\"Results\")\n",
    "x=run_query(queryString)"
   ]
  },
  {
   "cell_type": "markdown",
   "id": "f2726596",
   "metadata": {},
   "source": [
    "## Task 6\n",
    "Find all the computer scientists who thaught at the University of Cambridge (return IRI and name)"
   ]
  },
  {
   "cell_type": "code",
   "execution_count": 117,
   "id": "41bb18d8",
   "metadata": {
    "collapsed": true,
    "jupyter": {
     "outputs_hidden": true
    },
    "tags": []
   },
   "outputs": [
    {
     "name": "stdout",
     "output_type": "stream",
     "text": [
      "Results\n",
      "[('computer_scientist', 'http://www.wikidata.org/entity/Q8190500'), ('name', 'Seinosuke Toda')]\n",
      "[('computer_scientist', 'http://www.wikidata.org/entity/Q603999'), ('name', 'Kevin Poulsen')]\n",
      "[('computer_scientist', 'http://www.wikidata.org/entity/Q11109023'), ('name', 'Michael Barr')]\n",
      "[('computer_scientist', 'http://www.wikidata.org/entity/Q20731777'), ('name', 'Valeria de Paiva')]\n",
      "[('computer_scientist', 'http://www.wikidata.org/entity/Q24901829'), ('name', 'Ernesto Damiani')]\n",
      "[('computer_scientist', 'http://www.wikidata.org/entity/Q61856956'), ('name', 'Richard Garner')]\n",
      "[('computer_scientist', 'http://www.wikidata.org/entity/Q6539960'), ('name', 'Liang-Jie Zhang')]\n",
      "[('computer_scientist', 'http://www.wikidata.org/entity/Q92669'), ('name', 'Jeffrey Shallit')]\n",
      "[('computer_scientist', 'http://www.wikidata.org/entity/Q15842362'), ('name', 'Richard Clippinger')]\n",
      "[('computer_scientist', 'http://www.wikidata.org/entity/Q15858435'), ('name', 'Hardo Bourguignon')]\n",
      "[('computer_scientist', 'http://www.wikidata.org/entity/Q15917430'), ('name', 'A. Ollongren')]\n",
      "[('computer_scientist', 'http://www.wikidata.org/entity/Q16018928'), ('name', 'Jim Thomas')]\n",
      "[('computer_scientist', 'http://www.wikidata.org/entity/Q241735'), ('name', 'Robert Noyce')]\n",
      "[('computer_scientist', 'http://www.wikidata.org/entity/Q7312654'), ('name', 'Renato M. E. Sabbatini')]\n",
      "[('computer_scientist', 'http://www.wikidata.org/entity/Q16174254'), ('name', 'Drude Berntsen')]\n",
      "[('computer_scientist', 'http://www.wikidata.org/entity/Q16186703'), ('name', 'Timothy J. Hickey')]\n",
      "[('computer_scientist', 'http://www.wikidata.org/entity/Q16193458'), ('name', 'Terry Myerson')]\n",
      "[('computer_scientist', 'http://www.wikidata.org/entity/Q16194868'), ('name', 'Ross Williams')]\n",
      "[('computer_scientist', 'http://www.wikidata.org/entity/Q16195136'), ('name', 'Frans Kaashoek')]\n",
      "[('computer_scientist', 'http://www.wikidata.org/entity/Q16195669'), ('name', 'William Martens')]\n",
      "20\n"
     ]
    }
   ],
   "source": [
    "# let's get the old query that gets all the computer scientists\n",
    "\n",
    "queryString = \"\"\"\n",
    "SELECT DISTINCT ?computer_scientist ?name\n",
    "WHERE {\n",
    "   # bind something\n",
    "   ?computer_scientist wdt:P31 wd:Q5;\n",
    "   wdt:P106 wd:Q82594.\n",
    "   # get the label\n",
    "   ?computer_scientist sc:name ?name.\n",
    "}\n",
    "LIMIT 20\n",
    "\"\"\"\n",
    "\n",
    "print(\"Results\")\n",
    "x=run_query(queryString)"
   ]
  },
  {
   "cell_type": "code",
   "execution_count": 146,
   "id": "c24a7f1e-61b6-4b90-9d9c-4ff4d316bea8",
   "metadata": {
    "tags": []
   },
   "outputs": [
    {
     "name": "stdout",
     "output_type": "stream",
     "text": [
      "Results\n",
      "[('obj', 'http://www.wikidata.org/entity/Q5500827'), ('uni', 'Freedom of the Press Foundation')]\n",
      "[('obj', 'http://www.wikidata.org/entity/Q1381966'), ('uni', 'Flipkart')]\n",
      "[('obj', 'http://www.wikidata.org/entity/Q2119882'), ('uni', 'Google Nest')]\n",
      "[('obj', 'http://www.wikidata.org/entity/Q4863446'), ('uni', 'Barrett Technology')]\n",
      "[('obj', 'http://www.wikidata.org/entity/Q6647356'), ('uni', 'Lit Motors')]\n",
      "[('obj', 'http://www.wikidata.org/entity/Q359'), ('uni', 'WikiLeaks')]\n",
      "[('obj', 'http://www.wikidata.org/entity/Q317087'), ('uni', 'University of Lübeck')]\n",
      "[('obj', 'http://www.wikidata.org/entity/Q2304477'), ('uni', 'South East European University')]\n",
      "[('obj', 'http://www.wikidata.org/entity/Q2303478'), ('uni', 'Synopsys')]\n",
      "[('obj', 'http://www.wikidata.org/entity/Q11838090'), ('uni', 'Faculty of Mathematics and Computer Science of Jagiellonian University')]\n",
      "[('obj', 'http://www.wikidata.org/entity/Q1681557'), ('uni', 'Junta para Ampliación de Estudios')]\n",
      "[('obj', 'http://www.wikidata.org/entity/Q195046'), ('uni', 'Worcester Polytechnic Institute')]\n",
      "[('obj', 'http://www.wikidata.org/entity/Q3272069'), ('uni', 'Art Center College of Design')]\n",
      "[('obj', 'http://www.wikidata.org/entity/Q49087'), ('uni', 'Fisk University')]\n",
      "[('obj', 'http://www.wikidata.org/entity/Q785697'), ('uni', 'Shogakukan')]\n",
      "[('obj', 'http://www.wikidata.org/entity/Q863813'), ('uni', 'Binghamton University')]\n",
      "[('obj', 'http://www.wikidata.org/entity/Q1117048'), ('uni', 'Commonwealth Scientific and Industrial Research Organisation')]\n",
      "[('obj', 'http://www.wikidata.org/entity/Q587326'), ('uni', 'Tokyo Institute of Technology')]\n",
      "[('obj', 'http://www.wikidata.org/entity/Q6360885'), ('uni', 'Kanazawa Institute of Technology')]\n",
      "[('obj', 'http://www.wikidata.org/entity/Q7166356'), ('uni', 'Pepper Hamilton')]\n",
      "20\n"
     ]
    }
   ],
   "source": [
    "# let's run a query to find the cambridge university entity\n",
    "\n",
    "queryString = \"\"\"\n",
    "SELECT DISTINCT ?obj ?uni\n",
    "WHERE {\n",
    "   # bind something\n",
    "   ?computer_scientist wdt:P31 wd:Q5;\n",
    "                  wdt:P106 wd:Q82594;\n",
    "                  wdt:P108 ?obj.\n",
    "   # get the label\n",
    "   #?computer_scientist sc:name ?name.\n",
    "   ?obj sc:name ?uni.\n",
    "}\n",
    "LIMIT 20\n",
    "\"\"\"\n",
    "\n",
    "print(\"Results\")\n",
    "x=run_query(queryString)"
   ]
  },
  {
   "cell_type": "code",
   "execution_count": null,
   "id": "3d37514b-6003-4d89-8b42-fb5451425f4d",
   "metadata": {},
   "outputs": [],
   "source": [
    "#[('obj', 'http://www.wikidata.org/entity/Q35794'), ('uni', 'University of Cambridge')\n",
    "#[('obj', 'http://www.wikidata.org/entity/Q1622272'), ('name', 'university teacher')]\n",
    "#[('obj', 'http://www.wikidata.org/entity/Q82594'), ('name', 'computer scientist')]"
   ]
  },
  {
   "cell_type": "markdown",
   "id": "c497dc3c",
   "metadata": {},
   "source": [
    "Final query for this task"
   ]
  },
  {
   "cell_type": "code",
   "execution_count": 150,
   "id": "25237691",
   "metadata": {},
   "outputs": [
    {
     "name": "stdout",
     "output_type": "stream",
     "text": [
      "Results\n",
      "[('computer_scientist', 'http://www.wikidata.org/entity/Q46633'), ('name', 'Charles Babbage')]\n",
      "[('computer_scientist', 'http://www.wikidata.org/entity/Q62857'), ('name', 'Maurice Wilkes')]\n",
      "[('computer_scientist', 'http://www.wikidata.org/entity/Q451770'), ('name', 'Douglas Hartree')]\n",
      "[('computer_scientist', 'http://www.wikidata.org/entity/Q4707402'), ('name', 'Alan Mycroft')]\n",
      "[('computer_scientist', 'http://www.wikidata.org/entity/Q63126308'), ('name', 'Peter Földiák')]\n",
      "[('computer_scientist', 'http://www.wikidata.org/entity/Q216811'), ('name', 'John Venn')]\n",
      "[('computer_scientist', 'http://www.wikidata.org/entity/Q100586732'), ('name', 'Ferenc Huszár')]\n",
      "[('computer_scientist', 'http://www.wikidata.org/entity/Q316330'), ('name', 'Daniel Bell')]\n",
      "8\n"
     ]
    }
   ],
   "source": [
    "# Find all the computer scientists who thaught at the University of Cambridge (return IRI and name) (this query has been written considering both university teacher\n",
    "# and computer scientist as occupation)\n",
    "\n",
    "queryString = \"\"\"\n",
    "SELECT DISTINCT ?computer_scientist ?name\n",
    "WHERE {\n",
    "   # bind something\n",
    "   ?computer_scientist wdt:P31 wd:Q5;\n",
    "           wdt:P108 wd:Q35794;\n",
    "           wdt:P106 wd:Q1622272;\n",
    "           wdt:P106 wd:Q82594.\n",
    "   # get the label\n",
    "   ?computer_scientist sc:name ?name.\n",
    "}\n",
    "LIMIT 20\n",
    "\"\"\"\n",
    "\n",
    "print(\"Results\")\n",
    "x=run_query(queryString)"
   ]
  },
  {
   "cell_type": "markdown",
   "id": "61876aa9",
   "metadata": {},
   "source": [
    "## Task 7\n",
    "Find all the computer scientists who wrote at least 5 books (please consider only the instances of book, exclude \"literary work\" or other type of work related to books). Return the IRI and name of the computer scientist and the number of books."
   ]
  },
  {
   "cell_type": "code",
   "execution_count": 151,
   "id": "1f9a9d5c",
   "metadata": {},
   "outputs": [
    {
     "name": "stdout",
     "output_type": "stream",
     "text": [
      "Results\n",
      "[('computer_scientist', 'http://www.wikidata.org/entity/Q8190500'), ('name', 'Seinosuke Toda')]\n",
      "[('computer_scientist', 'http://www.wikidata.org/entity/Q603999'), ('name', 'Kevin Poulsen')]\n",
      "[('computer_scientist', 'http://www.wikidata.org/entity/Q11109023'), ('name', 'Michael Barr')]\n",
      "[('computer_scientist', 'http://www.wikidata.org/entity/Q20731777'), ('name', 'Valeria de Paiva')]\n",
      "[('computer_scientist', 'http://www.wikidata.org/entity/Q24901829'), ('name', 'Ernesto Damiani')]\n",
      "[('computer_scientist', 'http://www.wikidata.org/entity/Q61856956'), ('name', 'Richard Garner')]\n",
      "[('computer_scientist', 'http://www.wikidata.org/entity/Q6539960'), ('name', 'Liang-Jie Zhang')]\n",
      "[('computer_scientist', 'http://www.wikidata.org/entity/Q92669'), ('name', 'Jeffrey Shallit')]\n",
      "[('computer_scientist', 'http://www.wikidata.org/entity/Q15842362'), ('name', 'Richard Clippinger')]\n",
      "[('computer_scientist', 'http://www.wikidata.org/entity/Q15858435'), ('name', 'Hardo Bourguignon')]\n",
      "[('computer_scientist', 'http://www.wikidata.org/entity/Q15917430'), ('name', 'A. Ollongren')]\n",
      "[('computer_scientist', 'http://www.wikidata.org/entity/Q16018928'), ('name', 'Jim Thomas')]\n",
      "[('computer_scientist', 'http://www.wikidata.org/entity/Q241735'), ('name', 'Robert Noyce')]\n",
      "[('computer_scientist', 'http://www.wikidata.org/entity/Q7312654'), ('name', 'Renato M. E. Sabbatini')]\n",
      "[('computer_scientist', 'http://www.wikidata.org/entity/Q16174254'), ('name', 'Drude Berntsen')]\n",
      "[('computer_scientist', 'http://www.wikidata.org/entity/Q16186703'), ('name', 'Timothy J. Hickey')]\n",
      "[('computer_scientist', 'http://www.wikidata.org/entity/Q16193458'), ('name', 'Terry Myerson')]\n",
      "[('computer_scientist', 'http://www.wikidata.org/entity/Q16194868'), ('name', 'Ross Williams')]\n",
      "[('computer_scientist', 'http://www.wikidata.org/entity/Q16195136'), ('name', 'Frans Kaashoek')]\n",
      "[('computer_scientist', 'http://www.wikidata.org/entity/Q16195669'), ('name', 'William Martens')]\n",
      "20\n"
     ]
    }
   ],
   "source": [
    "# let's get the old query that gets all the computer scientists\n",
    "\n",
    "queryString = \"\"\"\n",
    "SELECT DISTINCT ?computer_scientist ?name\n",
    "WHERE {\n",
    "   # bind something\n",
    "   ?computer_scientist wdt:P31 wd:Q5;\n",
    "   wdt:P106 wd:Q82594.\n",
    "   # get the label\n",
    "   ?computer_scientist sc:name ?name.\n",
    "}\n",
    "LIMIT 20\n",
    "\"\"\"\n",
    "\n",
    "print(\"Results\")\n",
    "x=run_query(queryString)"
   ]
  },
  {
   "cell_type": "code",
   "execution_count": 198,
   "id": "12a2b1f5-c90e-4222-90cc-ac390a956d4a",
   "metadata": {
    "tags": []
   },
   "outputs": [
    {
     "name": "stdout",
     "output_type": "stream",
     "text": [
      "Results\n",
      "[('obj', 'http://www.wikidata.org/entity/Q1622272'), ('name', 'university teacher')]\n",
      "[('obj', 'http://www.wikidata.org/entity/Q1930187'), ('name', 'journalist')]\n",
      "[('obj', 'http://www.wikidata.org/entity/Q36180'), ('name', 'writer')]\n",
      "[('obj', 'http://www.wikidata.org/entity/Q37226'), ('name', 'teacher')]\n",
      "[('obj', 'http://www.wikidata.org/entity/Q82594'), ('name', 'computer scientist')]\n",
      "[('obj', 'http://www.wikidata.org/entity/Q2306091'), ('name', 'sociologist')]\n",
      "[('obj', 'http://www.wikidata.org/entity/Q6051619'), ('name', 'opinion journalist')]\n",
      "7\n"
     ]
    }
   ],
   "source": [
    "\n",
    "\n",
    "queryString = \"\"\"\n",
    "SELECT DISTINCT ?obj ?name\n",
    "WHERE {\n",
    "   # bind something\n",
    "   wd:Q316330 wdt:P106 ?obj.\n",
    "   # get the label\n",
    "   ?obj sc:name ?name.\n",
    "}\n",
    "LIMIT 20\n",
    "\"\"\"\n",
    "\n",
    "print(\"Results\")\n",
    "x=run_query(queryString)"
   ]
  },
  {
   "cell_type": "code",
   "execution_count": null,
   "id": "b296fe52-be70-4b71-8f09-71ed0da27e76",
   "metadata": {},
   "outputs": [],
   "source": [
    "#[('obj', 'http://www.wikidata.org/entity/Q36180'), ('name', 'writer')]"
   ]
  },
  {
   "cell_type": "code",
   "execution_count": 207,
   "id": "bb909976-414e-45d3-aeb6-fa4f93191564",
   "metadata": {},
   "outputs": [
    {
     "name": "stdout",
     "output_type": "stream",
     "text": [
      "Results\n",
      "[('p', 'http://www.wikidata.org/entity/Q37260'), ('name', 'writing')]\n",
      "[('p', 'http://www.wikidata.org/entity/Q2250012'), ('name', 'writing')]\n",
      "[('p', 'http://www.wikidata.org/entity/Q5849863'), ('name', 'Category:Writers')]\n",
      "[('p', 'http://www.wikidata.org/entity/P50'), ('name', 'author')]\n",
      "[('p', 'http://www.wikidata.org/entity/Q12737077'), ('name', 'occupation')]\n",
      "[('p', 'http://www.wikidata.org/entity/Q28640'), ('name', 'profession')]\n",
      "[('p', 'http://www.wikidata.org/entity/Q4164871'), ('name', 'position')]\n",
      "[('p', 'http://www.wikidata.org/entity/Q482980'), ('name', 'author')]\n",
      "[('p', 'http://www.wikidata.org/entity/Q98970039'), ('name', 'WikiProject PCC Wikidata Pilot/University of Washington')]\n",
      "[('p', 'http://www.wikidata.org/entity/Q13019738'), ('name', 'list of lists of writers')]\n",
      "[('p', 'http://www.wikidata.org/entity/Q6963972'), ('name', 'Category:Wikipedia categories named after writers')]\n",
      "[('p', 'http://www.wikidata.org/entity/P2093'), ('name', 'author name string')]\n",
      "[('p', 'http://www.wikidata.org/entity/Q5615832'), ('name', 'Template:Infobox writer')]\n",
      "[('p', 'http://www.wikidata.org/entity/Q6535605'), ('name', 'Template:Writer-stub')]\n",
      "14\n"
     ]
    }
   ],
   "source": [
    "\n",
    "queryString = \"\"\"\n",
    "SELECT DISTINCT ?p ?name\n",
    "WHERE {\n",
    "   # bind something\n",
    "   wd:Q36180 ?b ?p.\n",
    "   # get the label\n",
    "   ?p sc:name ?name.\n",
    "}\n",
    "LIMIT 50\n",
    "\"\"\"\n",
    "\n",
    "print(\"Results\")\n",
    "x=run_query(queryString)"
   ]
  },
  {
   "cell_type": "code",
   "execution_count": null,
   "id": "f3aea11c-8211-4caa-968c-cb00684c2ef4",
   "metadata": {},
   "outputs": [],
   "source": [
    "#[('p', 'http://www.wikidata.org/entity/P50'), ('name', 'author')]"
   ]
  },
  {
   "cell_type": "code",
   "execution_count": 208,
   "id": "54e57070-97ba-436a-89ff-40d4e4e757bc",
   "metadata": {},
   "outputs": [
    {
     "name": "stdout",
     "output_type": "stream",
     "text": [
      "Results\n",
      "[('job', 'http://www.wikidata.org/entity/Q9701158'), ('name', 'Category:Authors')]\n",
      "[('job', 'http://www.wikidata.org/entity/P50'), ('name', 'author')]\n",
      "[('job', 'http://www.wikidata.org/entity/P3931'), ('name', 'copyright holder')]\n",
      "[('job', 'http://www.wikidata.org/entity/Q12737077'), ('name', 'occupation')]\n",
      "[('job', 'http://www.wikidata.org/entity/Q42'), ('name', 'Douglas Adams')]\n",
      "[('job', 'http://www.wikidata.org/entity/Q692'), ('name', 'William Shakespeare')]\n",
      "[('job', 'http://www.wikidata.org/entity/Q8209871'), ('name', 'Autor')]\n",
      "[('job', 'http://www.wikidata.org/entity/P170'), ('name', 'creator')]\n",
      "[('job', 'http://www.wikidata.org/entity/Q2500638'), ('name', 'creator')]\n",
      "[('job', 'http://www.wikidata.org/entity/Q8347428'), ('name', 'Category:Categories by writer')]\n",
      "[('job', 'http://www.wikidata.org/entity/Q10859333'), ('name', 'authorship')]\n",
      "[('job', 'http://www.wikidata.org/entity/Q36322'), ('name', 'Jane Austen')]\n",
      "[('job', 'http://www.wikidata.org/entity/P1778'), ('name', 'forgery after')]\n",
      "13\n"
     ]
    }
   ],
   "source": [
    "\n",
    "queryString = \"\"\"\n",
    "SELECT DISTINCT ?job ?name\n",
    "WHERE {\n",
    "   # bind something\n",
    "   wd:Q482980 ?b ?job.\n",
    "   # get the label\n",
    "   ?job sc:name ?name.\n",
    "}\n",
    "LIMIT 20\n",
    "\"\"\"\n",
    "\n",
    "print(\"Results\")\n",
    "x=run_query(queryString)"
   ]
  },
  {
   "cell_type": "code",
   "execution_count": 215,
   "id": "a0000c43-6f61-4c75-90eb-d78f46bc7154",
   "metadata": {
    "tags": []
   },
   "outputs": [
    {
     "name": "stdout",
     "output_type": "stream",
     "text": [
      "Results\n",
      "[('job', 'http://www.wikidata.org/entity/Q662550'), ('name', \"Shakespeare's sonnets\")]\n",
      "[('job', 'http://www.wikidata.org/entity/Q661222'), ('name', 'King John')]\n",
      "[('job', 'http://www.wikidata.org/entity/Q215750'), ('name', 'Julius Caesar')]\n",
      "[('job', 'http://www.wikidata.org/entity/Q38933'), ('name', 'fever')]\n",
      "[('job', 'http://www.wikidata.org/entity/Q53590'), ('name', 'The Two Noble Kinsmen')]\n",
      "[('job', 'http://www.wikidata.org/entity/Q128610'), ('name', \"Love's Labour's Lost\")]\n",
      "[('job', 'http://www.wikidata.org/entity/Q130283'), ('name', 'Macbeth')]\n",
      "[('job', 'http://www.wikidata.org/entity/Q181598'), ('name', 'King Lear')]\n",
      "[('job', 'http://www.wikidata.org/entity/Q332387'), ('name', 'The Taming of the Shrew')]\n",
      "[('job', 'http://www.wikidata.org/entity/Q83186'), ('name', 'Romeo and Juliet')]\n",
      "[('job', 'http://www.wikidata.org/entity/Q506505'), ('name', 'The Comedy of Errors')]\n",
      "[('job', 'http://www.wikidata.org/entity/Q64759522'), ('name', 'Star Trek Concordance')]\n",
      "[('job', 'http://www.wikidata.org/entity/Q221211'), ('name', 'Twelfth Night')]\n",
      "[('job', 'http://www.wikidata.org/entity/Q86440'), ('name', 'The Tempest')]\n",
      "[('job', 'http://www.wikidata.org/entity/Q106727050'), ('name', 'Metropolitan Museum of Art Tagging Vocabulary')]\n",
      "[('job', 'http://www.wikidata.org/entity/Q12344159'), ('name', 'William')]\n",
      "[('job', 'http://www.wikidata.org/entity/Q15987216'), ('name', 'Dictionary of National Biography, 1885–1900')]\n",
      "[('job', 'http://www.wikidata.org/entity/Q1700481'), ('name', 'Minneapolis Institute of Art')]\n",
      "[('job', 'http://www.wikidata.org/entity/Q17378135'), ('name', 'Great Soviet Encyclopedia (1969–1978)')]\n",
      "[('job', 'http://www.wikidata.org/entity/Q179876'), ('name', 'Kingdom of England')]\n",
      "20\n"
     ]
    }
   ],
   "source": [
    "queryString = \"\"\"\n",
    "SELECT DISTINCT ?job ?name\n",
    "WHERE {\n",
    "   # bind something\n",
    "   wd:Q692 ?b ?job.\n",
    "   # get the label\n",
    "   ?job sc:name ?name.\n",
    "}\n",
    "LIMIT 20\n",
    "\"\"\"\n",
    "\n",
    "print(\"Results\")\n",
    "x=run_query(queryString)"
   ]
  },
  {
   "cell_type": "code",
   "execution_count": 225,
   "id": "6e432e41-8abb-41f3-8399-c995386b6ff3",
   "metadata": {},
   "outputs": [
    {
     "name": "stdout",
     "output_type": "stream",
     "text": [
      "Results\n",
      "[('job', 'http://www.wikidata.org/entity/Q673361'), ('name', 'Romeo')]\n",
      "[('job', 'http://www.wikidata.org/entity/Q911487'), ('name', 'Romeo and Juliet')]\n",
      "[('job', 'http://www.wikidata.org/entity/Q19968309'), ('name', 'Romeo and Juliet')]\n",
      "[('job', 'http://www.wikidata.org/entity/Q25379'), ('name', 'play')]\n",
      "[('job', 'http://www.wikidata.org/entity/Q191489'), ('name', 'melodrama')]\n",
      "[('job', 'http://www.wikidata.org/entity/Q1071307'), ('name', 'I Capuleti e i Montecchi')]\n",
      "[('job', 'http://www.wikidata.org/entity/Q179876'), ('name', 'Kingdom of England')]\n",
      "[('job', 'http://www.wikidata.org/entity/Q1860'), ('name', 'English')]\n",
      "[('job', 'http://www.wikidata.org/entity/Q19652'), ('name', 'public domain')]\n",
      "[('job', 'http://www.wikidata.org/entity/Q2028'), ('name', 'Verona')]\n",
      "10\n"
     ]
    }
   ],
   "source": [
    "queryString = \"\"\"\n",
    "SELECT DISTINCT ?job ?name\n",
    "WHERE {\n",
    "   # bind something\n",
    "   wd:Q83186 ?b ?job.\n",
    "   # get the label\n",
    "   ?job sc:name ?name.\n",
    "}\n",
    "LIMIT 10\n",
    "\"\"\"\n",
    "\n",
    "print(\"Results\")\n",
    "x=run_query(queryString)"
   ]
  },
  {
   "cell_type": "code",
   "execution_count": 238,
   "id": "1d0f8c60-e2a0-453b-aea5-4530a1ede51e",
   "metadata": {},
   "outputs": [
    {
     "name": "stdout",
     "output_type": "stream",
     "text": [
      "Results\n",
      "[('job', 'http://www.wikidata.org/entity/Q673361'), ('name', 'Romeo')]\n",
      "[('job', 'http://www.wikidata.org/entity/Q911487'), ('name', 'Romeo and Juliet')]\n",
      "[('job', 'http://www.wikidata.org/entity/Q19968309'), ('name', 'Romeo and Juliet')]\n",
      "[('job', 'http://www.wikidata.org/entity/Q25379'), ('name', 'play')]\n",
      "[('job', 'http://www.wikidata.org/entity/Q191489'), ('name', 'melodrama')]\n",
      "[('job', 'http://www.wikidata.org/entity/Q1071307'), ('name', 'I Capuleti e i Montecchi')]\n",
      "[('job', 'http://www.wikidata.org/entity/Q179876'), ('name', 'Kingdom of England')]\n",
      "[('job', 'http://www.wikidata.org/entity/Q1860'), ('name', 'English')]\n",
      "[('job', 'http://www.wikidata.org/entity/Q19652'), ('name', 'public domain')]\n",
      "[('job', 'http://www.wikidata.org/entity/Q2028'), ('name', 'Verona')]\n",
      "[('job', 'http://www.wikidata.org/entity/Q6247'), ('name', 'Mantua')]\n",
      "[('job', 'http://www.wikidata.org/entity/Q7725634'), ('name', 'literary work')]\n",
      "[('job', 'http://www.wikidata.org/entity/Q80930'), ('name', 'tragedy')]\n",
      "[('job', 'http://www.wikidata.org/entity/Q692'), ('name', 'William Shakespeare')]\n",
      "[('job', 'http://www.wikidata.org/entity/Q191803'), ('name', \"The Lion King II: Simba's Pride\")]\n",
      "[('job', 'http://www.wikidata.org/entity/Q1670602'), ('name', \"Roméo et Juliette, de la Haine à l'Amour\")]\n",
      "[('job', 'http://www.wikidata.org/entity/Q463313'), ('name', 'Romeo + Juliet')]\n",
      "[('job', 'http://www.wikidata.org/entity/Q1092632'), ('name', 'Juliet')]\n",
      "[('job', 'http://www.wikidata.org/entity/Q7600519'), ('name', 'star-crossed lovers')]\n",
      "[('job', 'http://www.wikidata.org/entity/Q2165127'), ('name', 'Romeo und Julia')]\n",
      "[('job', 'http://www.wikidata.org/entity/Q56150619'), ('name', 'The tragedie of Romeo and Juliet')]\n",
      "[('job', 'http://www.wikidata.org/entity/Q58894671'), ('name', 'Romaios kai Ioulieta')]\n",
      "[('job', 'http://www.wikidata.org/entity/Q1767900'), ('name', 'Mercutio')]\n",
      "[('job', 'http://www.wikidata.org/entity/Q77103486'), ('name', 'RJ Romeo and Juliet')]\n",
      "[('job', 'http://www.wikidata.org/entity/Q47509134'), ('name', 'Julia')]\n",
      "[('job', 'http://www.wikidata.org/entity/Q918714'), ('name', 'Roméo et Juliette')]\n",
      "[('job', 'http://www.wikidata.org/entity/Q1158741'), ('name', 'Tromeo and Juliet')]\n",
      "[('job', 'http://www.wikidata.org/entity/Q5139014'), ('name', 'Make Your Move')]\n",
      "[('job', 'http://www.wikidata.org/entity/Q24904727'), ('name', 'Sherlock Gnomes')]\n",
      "[('job', 'http://www.wikidata.org/entity/Q753677'), ('name', 'Gnomeo & Juliet')]\n",
      "[('job', 'http://www.wikidata.org/entity/Q3404244'), ('name', 'Private Romeo')]\n",
      "[('job', 'http://www.wikidata.org/entity/Q3940834'), ('name', 'Romeo and Juliet')]\n",
      "[('job', 'http://www.wikidata.org/entity/Q939489'), ('name', 'Benvolio')]\n",
      "[('job', 'http://www.wikidata.org/entity/Q101095685'), ('name', 'What if Romeo & Juliet…')]\n",
      "[('job', 'http://www.wikidata.org/entity/Q1081181'), ('name', 'Romeo and Juliet')]\n",
      "[('job', 'http://www.wikidata.org/entity/Q1251572'), ('name', 'Romeo and Juliet: the Tomb Scene')]\n",
      "[('job', 'http://www.wikidata.org/entity/Q1491432'), ('name', '56 csepp vér')]\n",
      "[('job', 'http://www.wikidata.org/entity/Q1758089'), ('name', 'Romeo and Juliet')]\n",
      "[('job', 'http://www.wikidata.org/entity/Q19101009'), ('name', 'The Tragedy of Romeo and Juliet')]\n",
      "[('job', 'http://www.wikidata.org/entity/Q19101569'), ('name', 'Romeo and Juliet')]\n",
      "[('job', 'http://www.wikidata.org/entity/Q19225891'), ('name', 'Romeo und Juliette')]\n",
      "[('job', 'http://www.wikidata.org/entity/Q20649699'), ('name', 'Romeo and Juliet')]\n",
      "[('job', 'http://www.wikidata.org/entity/Q223857'), ('name', 'Romeo and Juliet')]\n",
      "[('job', 'http://www.wikidata.org/entity/Q23301380'), ('name', 'The Tragedy of Romeo and Juliet')]\n",
      "[('job', 'http://www.wikidata.org/entity/Q2412073'), ('name', 'Tybalt')]\n",
      "[('job', 'http://www.wikidata.org/entity/Q2716956'), ('name', 'Romeo and Juliet')]\n",
      "[('job', 'http://www.wikidata.org/entity/Q28761773'), ('name', 'Roméo et Juliette')]\n",
      "[('job', 'http://www.wikidata.org/entity/Q28938633'), ('name', 'Roméo et Juliette')]\n",
      "[('job', 'http://www.wikidata.org/entity/Q3441351'), ('name', 'Romeo and Juliet')]\n",
      "[('job', 'http://www.wikidata.org/entity/Q47435665'), ('name', 'Romeo und Julia')]\n",
      "[('job', 'http://www.wikidata.org/entity/Q517265'), ('name', 'Romeo and Juliet')]\n",
      "[('job', 'http://www.wikidata.org/entity/Q531630'), ('name', 'La trágica historia de Romeo y Julieta')]\n",
      "[('job', 'http://www.wikidata.org/entity/Q55839872'), ('name', 'Romeo and Juliet')]\n",
      "[('job', 'http://www.wikidata.org/entity/Q58894270'), ('name', 'Ромео и Јулија')]\n",
      "[('job', 'http://www.wikidata.org/entity/Q58894719'), ('name', 'Romeo y Julieta')]\n",
      "[('job', 'http://www.wikidata.org/entity/Q58894744'), ('name', 'Romeo és Júlia')]\n",
      "[('job', 'http://www.wikidata.org/entity/Q58894783'), ('name', 'Romeo și Julieta')]\n",
      "[('job', 'http://www.wikidata.org/entity/Q58896230'), ('name', 'Romeo i Julia')]\n",
      "[('job', 'http://www.wikidata.org/entity/Q58897332'), ('name', 'Romeo und Julia')]\n",
      "[('job', 'http://www.wikidata.org/entity/Q58897522'), ('name', 'Romeu i Julieta')]\n",
      "[('job', 'http://www.wikidata.org/entity/Q62656523'), ('name', 'The Most Excellent and Lamentable Tragedy of Romeo and Juliet')]\n",
      "[('job', 'http://www.wikidata.org/entity/Q6398196'), ('name', 'Category:Romeo and Juliet')]\n",
      "[('job', 'http://www.wikidata.org/entity/Q763716'), ('name', 'Romeo and Juliet')]\n",
      "63\n"
     ]
    }
   ],
   "source": [
    "queryString = \"\"\"\n",
    "SELECT DISTINCT ?job ?name\n",
    "WHERE {\n",
    "   # bind something\n",
    "   wd:Q83186 ?b ?job.\n",
    "   # get the label\n",
    "   ?job sc:name ?name.\n",
    "}\n",
    "LIMIT 100\n",
    "\"\"\"\n",
    "\n",
    "print(\"Results\")\n",
    "x=run_query(queryString)"
   ]
  },
  {
   "cell_type": "code",
   "execution_count": 239,
   "id": "f18eb292-57ed-4861-a9c8-6ab9bdae71f3",
   "metadata": {},
   "outputs": [
    {
     "name": "stdout",
     "output_type": "stream",
     "text": [
      "Results\n",
      "[('job', 'http://www.wikidata.org/entity/P747'), ('name', 'has edition or translation')]\n",
      "[('job', 'http://www.wikidata.org/entity/Q3919906'), ('name', 'Category:Literary works')]\n",
      "[('job', 'http://www.wikidata.org/entity/P214'), ('name', 'VIAF ID')]\n",
      "[('job', 'http://www.wikidata.org/entity/Q234460'), ('name', 'text')]\n",
      "[('job', 'http://www.wikidata.org/entity/P373'), ('name', 'Commons category')]\n",
      "[('job', 'http://www.wikidata.org/entity/P123'), ('name', 'publisher')]\n",
      "[('job', 'http://www.wikidata.org/entity/P407'), ('name', 'language of work or name')]\n",
      "[('job', 'http://www.wikidata.org/entity/P50'), ('name', 'author')]\n",
      "[('job', 'http://www.wikidata.org/entity/P921'), ('name', 'main subject')]\n",
      "[('job', 'http://www.wikidata.org/entity/Q47461344'), ('name', 'written work')]\n",
      "[('job', 'http://www.wikidata.org/entity/Q8242'), ('name', 'literature')]\n",
      "[('job', 'http://www.wikidata.org/entity/Q3331189'), ('name', 'version, edition, or translation')]\n",
      "[('job', 'http://www.wikidata.org/entity/P577'), ('name', 'publication date')]\n",
      "[('job', 'http://www.wikidata.org/entity/P495'), ('name', 'country of origin')]\n",
      "[('job', 'http://www.wikidata.org/entity/P227'), ('name', 'GND ID')]\n",
      "[('job', 'http://www.wikidata.org/entity/Q838948'), ('name', 'work of art')]\n",
      "[('job', 'http://www.wikidata.org/entity/Q315'), ('name', 'language')]\n",
      "[('job', 'http://www.wikidata.org/entity/P136'), ('name', 'genre')]\n",
      "[('job', 'http://www.wikidata.org/entity/P2408'), ('name', 'set in period')]\n",
      "[('job', 'http://www.wikidata.org/entity/P840'), ('name', 'narrative location')]\n",
      "[('job', 'http://www.wikidata.org/entity/P166'), ('name', 'award received')]\n",
      "[('job', 'http://www.wikidata.org/entity/P7937'), ('name', 'form of creative work')]\n",
      "[('job', 'http://www.wikidata.org/entity/Q16537202'), ('name', 'list of literary works')]\n",
      "[('job', 'http://www.wikidata.org/entity/P949'), ('name', 'National Library of Israel ID')]\n",
      "[('job', 'http://www.wikidata.org/entity/Q8487081'), ('name', 'WikiProject Books')]\n",
      "[('job', 'http://www.wikidata.org/entity/Q14191166'), ('name', 'Template:Infobox literary work')]\n",
      "[('job', 'http://www.wikidata.org/entity/Q8104190'), ('name', 'Category:Wikipedia categories named after literary texts')]\n",
      "27\n"
     ]
    }
   ],
   "source": [
    "queryString = \"\"\"\n",
    "SELECT DISTINCT ?job ?name\n",
    "WHERE {\n",
    "   # bind something\n",
    "   wd:Q7725634 ?b ?job.\n",
    "   # get the label\n",
    "   ?job sc:name ?name.\n",
    "}\n",
    "LIMIT 100\n",
    "\"\"\"\n",
    "\n",
    "print(\"Results\")\n",
    "x=run_query(queryString)"
   ]
  },
  {
   "cell_type": "markdown",
   "id": "48d2ae29",
   "metadata": {},
   "source": [
    "Final query for this task"
   ]
  },
  {
   "cell_type": "code",
   "execution_count": null,
   "id": "a86e51c0-e227-4578-87f6-99aef480dfbb",
   "metadata": {},
   "outputs": [],
   "source": []
  },
  {
   "cell_type": "code",
   "execution_count": null,
   "id": "b62d3720",
   "metadata": {},
   "outputs": [],
   "source": [
    "# write your final query"
   ]
  }
 ],
 "metadata": {
  "kernelspec": {
   "display_name": "Python 3",
   "language": "python",
   "name": "python3"
  },
  "language_info": {
   "codemirror_mode": {
    "name": "ipython",
    "version": 3
   },
   "file_extension": ".py",
   "mimetype": "text/x-python",
   "name": "python",
   "nbconvert_exporter": "python",
   "pygments_lexer": "ipython3",
   "version": "3.7.10"
  }
 },
 "nbformat": 4,
 "nbformat_minor": 5
}
