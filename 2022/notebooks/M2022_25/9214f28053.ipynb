{
 "cells": [
  {
   "cell_type": "markdown",
   "id": "e6c74ba5",
   "metadata": {},
   "source": [
    "# General instructions\n",
    "\n",
    "The goal of the project is to materialize a set of **exploratory workloads** over a real-world, large-scale,  open-domain KG: [WikiData](https://www.wikidata.org/wiki/Wikidata:Main_Page)\n",
    "\n",
    "An exploratory workload  is composed by a set of queries, where each query is related to the information obtained previously.\n",
    "\n",
    "An exploratory workload starts with a usually vague, open ended question, and does not assume the person issuing the workload has a clear understanding of the data contained in the target database or its structure.\n",
    "\n",
    "Remeber that:\n",
    "\n",
    "1. All the queries must run in the python notebook\n",
    "2. You can use classes and properties only if you find them via a SPARQL query that must be present in the notebook\n",
    "3. You do not delete useless queries. Keep everything that is synthatically valid \n",
    "\n",
    "```\n",
    "?p <http://schema.org/name> ?name .\n",
    "```\n",
    "    \n",
    "    is the BGP returning a human-readable name of a property or a class in Wikidata.\n",
    "    \n",
    "    "
   ]
  },
  {
   "cell_type": "code",
   "execution_count": 1,
   "id": "2e9d2e16",
   "metadata": {},
   "outputs": [],
   "source": [
    "## SETUP used later\n",
    "\n",
    "from SPARQLWrapper import SPARQLWrapper, JSON\n",
    "\n",
    "\n",
    "prefixString = \"\"\"\n",
    "##-9214f28053-##\n",
    "PREFIX wd: <http://www.wikidata.org/entity/> \n",
    "PREFIX wdt: <http://www.wikidata.org/prop/direct/> \n",
    "PREFIX sc: <http://schema.org/>\n",
    "\"\"\"\n",
    "\n",
    "# select and construct queries\n",
    "def run_query(queryString,verbose = True):\n",
    "    to_run = prefixString + \"\\n\" + queryString\n",
    "\n",
    "    sparql = SPARQLWrapper(\"http://a256-gc1-03.srv.aau.dk:5820/sparql\")\n",
    "    sparql.setTimeout(300)\n",
    "    sparql.setReturnFormat(JSON)\n",
    "    sparql.setQuery(to_run)\n",
    "\n",
    "    try :\n",
    "        results = sparql.query()\n",
    "        json_results = results.convert()\n",
    "        if len(json_results['results']['bindings'])==0:\n",
    "            print(\"Empty\")\n",
    "            return []\n",
    "        array = []\n",
    "        for bindings in json_results['results']['bindings']:\n",
    "            app =  [ (var, value['value'])  for var, value in bindings.items() ] \n",
    "            if verbose:\n",
    "                print( app)\n",
    "            array.append(app)\n",
    "        if verbose:\n",
    "            print(len(array))\n",
    "        return array\n",
    "\n",
    "    except Exception as e :\n",
    "        print(\"The operation failed\", e)\n",
    "    \n",
    "# ASk queries\n",
    "def run_ask_query(queryString):\n",
    "    to_run = prefixString + \"\\n\" + queryString\n",
    "\n",
    "    sparql = SPARQLWrapper(\"http://a256-gc1-03.srv.aau.dk:5820/sparql\")\n",
    "    sparql.setTimeout(300)\n",
    "    sparql.setReturnFormat(JSON)\n",
    "    sparql.setQuery(to_run)\n",
    "\n",
    "    try :\n",
    "        return sparql.query().convert()\n",
    "\n",
    "    except Exception as e :\n",
    "        print(\"The operation failed\", e)"
   ]
  },
  {
   "cell_type": "markdown",
   "id": "7a7a125e",
   "metadata": {},
   "source": [
    "# Movie Workflow Series (\"Tv series HIMYM explorative search\") \n",
    "\n",
    "\n",
    "Consider the following exploratory scenario:\n",
    "\n",
    "\n",
    "> we are interested in the TV series \"How I met your mother\" and we want to investigate the main aspects related to the actors and directors involved in the production, know the numerber of seasons and check what are the episodes which got the higher success/impact.\n",
    "\n",
    "\n",
    "## Useful URIs for the current workflow\n",
    "The following are given:\n",
    "\n",
    "| IRI           | Description   | Role      |\n",
    "| -----------   | -----------   |-----------|\n",
    "| `wdt:P1647`   | subproperty   | predicate |\n",
    "| `wdt:P31`     | instance of   | predicate |\n",
    "| `wdt:P106`    | profession    | predicate | \n",
    "| `wdt:P279`    | subclass      | predicate |\n",
    "| `wdt:P4969`    | derivative work      | predicate |\n",
    "| `wd:Q147235` | How I met your mother        | node |\n",
    "| `wd:Q23831` | The Office (US)        | node |\n",
    "\n",
    "\n",
    "\n",
    "Also consider\n",
    "\n",
    "```\n",
    "wd:Q23831 ?p ?obj .\n",
    "```\n",
    "\n",
    "is the BGP to retrieve all **properties of The Office (US)**\n",
    "\n",
    "Please consider that when you return a resource, you should return the IRI and the label of the resource. In particular, when the task require you to identify a BGP the result set must always be a list of couples IRI - label.\n",
    "\n",
    "The workload should\n",
    "\n",
    "1. Identify the BGP for tv series\n",
    "\n",
    "2. Return the number of seasons and episodes per season of the tv series (the result set must be triples of season IRI, label and #episodes).\n",
    "\n",
    "3. Get the number of episodes in which the cast members played a role. Who are the most present actors? (the result set must be a list of triples actor/actress IRI, label and #episodes)\n",
    "\n",
    "4. Check who is the actor who acted in more films while working on \"How I met your mother\" (the result set must be a list of triples actor/actress IRI, label and #films).\n",
    "\n",
    "5. Compare HIMYM with the tv series \"The Office (US)\" in terms of number of seasons, episods and cast members (the result set must be two elements -one for each tv series- of tv series IRI, label, #seasons, #episodes and #cast members).\n",
    "\n",
    "6. Return how many of the actors who are members of the cast of the tv series have [Kavin Bacon number](https://en.wikipedia.org/wiki/Six_Degrees_of_Kevin_Bacon#:~:text=Kevin%20Bacon%20himself%20has%20a,Bacon%20number%20is%20N%2B1.) equal to 2 (the result set must be a list of couples actor/actress IRI and label).\n",
    "\n",
    "7. Consider the actors who are members of the cast of HIMYM. Amongst the tv series which these actors acted return only those which received more than 2 awards (the result set must be triples of tv series IRI, label, #awards won)."
   ]
  },
  {
   "cell_type": "markdown",
   "id": "758fde4f",
   "metadata": {
    "tags": []
   },
   "source": [
    "## Task 1\n",
    "Identify the BGP for tv series"
   ]
  },
  {
   "cell_type": "code",
   "execution_count": 12,
   "id": "a55ca13f",
   "metadata": {},
   "outputs": [
    {
     "name": "stdout",
     "output_type": "stream",
     "text": [
      "Results\n",
      "[('p', 'http://www.wikidata.org/prop/direct/P2438'), ('name', 'narrator')]\n",
      "[('p', 'http://www.wikidata.org/prop/direct/P1113'), ('name', 'number of episodes')]\n",
      "[('p', 'http://www.wikidata.org/prop/direct/P1258'), ('name', 'Rotten Tomatoes ID')]\n",
      "[('p', 'http://www.wikidata.org/prop/direct/P1267'), ('name', 'AlloCiné series ID')]\n",
      "[('p', 'http://www.wikidata.org/prop/direct/P136'), ('name', 'genre')]\n",
      "[('p', 'http://www.wikidata.org/prop/direct/P138'), ('name', 'named after')]\n",
      "[('p', 'http://www.wikidata.org/prop/direct/P1411'), ('name', 'nominated for')]\n",
      "[('p', 'http://www.wikidata.org/prop/direct/P1424'), ('name', \"topic's main template\")]\n",
      "[('p', 'http://www.wikidata.org/prop/direct/P1476'), ('name', 'title')]\n",
      "[('p', 'http://www.wikidata.org/prop/direct/P154'), ('name', 'logo image')]\n",
      "[('p', 'http://www.wikidata.org/prop/direct/P1562'), ('name', 'AllMovie title ID')]\n",
      "[('p', 'http://www.wikidata.org/prop/direct/P161'), ('name', 'cast member')]\n",
      "[('p', 'http://www.wikidata.org/prop/direct/P162'), ('name', 'producer')]\n",
      "[('p', 'http://www.wikidata.org/prop/direct/P166'), ('name', 'award received')]\n",
      "[('p', 'http://www.wikidata.org/prop/direct/P170'), ('name', 'creator')]\n",
      "[('p', 'http://www.wikidata.org/prop/direct/P1712'), ('name', 'Metacritic ID')]\n",
      "[('p', 'http://www.wikidata.org/prop/direct/P18'), ('name', 'image')]\n",
      "[('p', 'http://www.wikidata.org/prop/direct/P1811'), ('name', 'list of episodes')]\n",
      "[('p', 'http://www.wikidata.org/prop/direct/P1874'), ('name', 'Netflix ID')]\n",
      "[('p', 'http://www.wikidata.org/prop/direct/P1881'), ('name', 'list of characters')]\n",
      "20\n"
     ]
    }
   ],
   "source": [
    "# query example\n",
    "queryString = \"\"\"\n",
    "SELECT DISTINCT ?p ?name\n",
    "WHERE {\n",
    "   # bind something\n",
    "   wd:Q147235 ?p ?obj . #HIMYM\n",
    "   # get the label\n",
    "   ?p sc:name ?name.\n",
    "}\n",
    "LIMIT 20\n",
    "\"\"\"\n",
    "\n",
    "print(\"Results\")\n",
    "x=run_query(queryString)"
   ]
  },
  {
   "cell_type": "code",
   "execution_count": 13,
   "id": "65c48fcf-12c1-4f2f-8e37-d68dce9160e7",
   "metadata": {},
   "outputs": [
    {
     "name": "stdout",
     "output_type": "stream",
     "text": [
      "Results\n",
      "[('type', 'http://www.wikidata.org/entity/Q5398426'), ('Tname', 'television series')]\n",
      "1\n"
     ]
    }
   ],
   "source": [
    "#Previous query results don't look very promising\n",
    "#Intuitively, we want to see what \"HIMYM\" is instance of \n",
    "\n",
    "queryString = \"\"\"\n",
    "SELECT DISTINCT ?type ?Tname\n",
    "WHERE {\n",
    "   wd:Q147235 wdt:P31 ?type . #HIMYM a\n",
    "   \n",
    "   ?type sc:name ?Tname.\n",
    "}\n",
    "\"\"\"\n",
    "\n",
    "print(\"Results\")\n",
    "x=run_query(queryString)"
   ]
  },
  {
   "cell_type": "markdown",
   "id": "55c65c76",
   "metadata": {},
   "source": [
    "Final query for this task"
   ]
  },
  {
   "cell_type": "code",
   "execution_count": 14,
   "id": "9531d571",
   "metadata": {},
   "outputs": [
    {
     "name": "stdout",
     "output_type": "stream",
     "text": [
      "Results\n",
      "[('type', 'http://www.wikidata.org/entity/Q5398426'), ('Tname', 'television series')]\n",
      "1\n"
     ]
    }
   ],
   "source": [
    "# Final query\n",
    "\n",
    "queryString = \"\"\"\n",
    "SELECT DISTINCT ?type ?Tname\n",
    "WHERE {\n",
    "   wd:Q147235 wdt:P31 ?type . #HIMYM a\n",
    "   \n",
    "   ?type sc:name ?Tname.\n",
    "}\n",
    "\"\"\"\n",
    "\n",
    "print(\"Results\")\n",
    "x=run_query(queryString)"
   ]
  },
  {
   "cell_type": "markdown",
   "id": "af58df14",
   "metadata": {
    "tags": []
   },
   "source": [
    "## Task 2\n",
    "Return the number of seasons and episodes per season of the tv series (the result set must be triples of season IRI, label and #episodes)."
   ]
  },
  {
   "cell_type": "code",
   "execution_count": 15,
   "id": "c423b613",
   "metadata": {},
   "outputs": [
    {
     "name": "stdout",
     "output_type": "stream",
     "text": [
      "Results\n",
      "[('p', 'http://www.wikidata.org/prop/direct/P1811'), ('Pname', 'list of episodes'), ('obj', 'http://www.wikidata.org/entity/Q785891'), ('Oname', 'list of How I Met Your Mother episodes')]\n",
      "[('p', 'http://www.wikidata.org/prop/direct/P2670'), ('Pname', 'has parts of the class'), ('obj', 'http://www.wikidata.org/entity/Q21664088'), ('Oname', 'two-part episode')]\n",
      "[('p', 'http://www.wikidata.org/prop/direct/P527'), ('Pname', 'has part'), ('obj', 'http://www.wikidata.org/entity/Q3468515'), ('Oname', 'How I Met Your Mother, season 2')]\n",
      "[('p', 'http://www.wikidata.org/prop/direct/P527'), ('Pname', 'has part'), ('obj', 'http://www.wikidata.org/entity/Q13567027'), ('Oname', 'How I Met Your Mother, season 9')]\n",
      "[('p', 'http://www.wikidata.org/prop/direct/P527'), ('Pname', 'has part'), ('obj', 'http://www.wikidata.org/entity/Q2472427'), ('Oname', 'How I Met Your Mother, season 7')]\n",
      "[('p', 'http://www.wikidata.org/prop/direct/P527'), ('Pname', 'has part'), ('obj', 'http://www.wikidata.org/entity/Q338715'), ('Oname', 'How I Met Your Mother, season 8')]\n",
      "[('p', 'http://www.wikidata.org/prop/direct/P527'), ('Pname', 'has part'), ('obj', 'http://www.wikidata.org/entity/Q2438066'), ('Oname', 'How I Met Your Mother, season 6')]\n",
      "[('p', 'http://www.wikidata.org/prop/direct/P527'), ('Pname', 'has part'), ('obj', 'http://www.wikidata.org/entity/Q582332'), ('Oname', 'How I Met Your Mother, season 5')]\n",
      "[('p', 'http://www.wikidata.org/prop/direct/P527'), ('Pname', 'has part'), ('obj', 'http://www.wikidata.org/entity/Q2715578'), ('Oname', 'How I Met Your Mother, season 1')]\n",
      "[('p', 'http://www.wikidata.org/prop/direct/P527'), ('Pname', 'has part'), ('obj', 'http://www.wikidata.org/entity/Q2555117'), ('Oname', 'How I Met Your Mother, season 3')]\n",
      "[('p', 'http://www.wikidata.org/prop/direct/P527'), ('Pname', 'has part'), ('obj', 'http://www.wikidata.org/entity/Q2567330'), ('Oname', 'How I Met Your Mother, season 4')]\n",
      "11\n"
     ]
    }
   ],
   "source": [
    "# Let's explore properties/objects related to HIMYM but filtering with the keywords episod and season\n",
    "\n",
    "queryString = \"\"\"\n",
    "SELECT DISTINCT ?p ?Pname ?obj ?Oname \n",
    "WHERE {\n",
    "   wd:Q147235 ?p ?obj . #HIMYM\n",
    "   \n",
    "   ?p sc:name ?Pname.\n",
    "   ?obj sc:name ?Oname\n",
    "   FILTER(REGEX(?Oname,\"(episod|season)\"))\n",
    "}\n",
    "LIMIT 30\n",
    "\"\"\"\n",
    "\n",
    "print(\"Results\")\n",
    "x=run_query(queryString)"
   ]
  },
  {
   "cell_type": "code",
   "execution_count": 18,
   "id": "23d9ae50-e9de-4921-a5c6-95dcaebd4461",
   "metadata": {},
   "outputs": [
    {
     "name": "stdout",
     "output_type": "stream",
     "text": [
      "Results\n",
      "[('objTypeN', 'television series episode'), ('obj', 'http://www.wikidata.org/entity/Q11696021'), ('Oname', 'Nothing Good Happens After 2 A.M.')]\n",
      "[('objTypeN', 'television series episode'), ('obj', 'http://www.wikidata.org/entity/Q1327587'), ('Oname', 'Okay Awesome')]\n",
      "[('objTypeN', 'television series episode'), ('obj', 'http://www.wikidata.org/entity/Q3480575'), ('Oname', 'Return of the Shirt')]\n",
      "[('objTypeN', 'television series episode'), ('obj', 'http://www.wikidata.org/entity/Q467447'), ('Oname', 'Pilot')]\n",
      "[('objTypeN', 'television series episode'), ('obj', 'http://www.wikidata.org/entity/Q468587'), ('Oname', 'Purple Giraffe')]\n",
      "[('objTypeN', 'television series episode'), ('obj', 'http://www.wikidata.org/entity/Q471448'), ('Oname', 'Sweet Taste of Liberty')]\n",
      "[('objTypeN', 'television series episode'), ('obj', 'http://www.wikidata.org/entity/Q4809956'), ('Oname', 'Game Night')]\n",
      "[('objTypeN', 'television series episode'), ('obj', 'http://www.wikidata.org/entity/Q4817584'), ('Oname', 'Drumroll, Please')]\n",
      "[('objTypeN', 'television series episode'), ('obj', 'http://www.wikidata.org/entity/Q4818636'), ('Oname', 'Life Among the Gorillas')]\n",
      "[('objTypeN', 'television series episode'), ('obj', 'http://www.wikidata.org/entity/Q4818989'), ('Oname', 'Cupcake')]\n",
      "[('objTypeN', 'television series episode'), ('obj', 'http://www.wikidata.org/entity/Q4819005'), ('Oname', 'The Wedding')]\n",
      "[('objTypeN', 'television series episode'), ('obj', 'http://www.wikidata.org/entity/Q4884249'), ('Oname', 'Belly Full of Turkey')]\n",
      "[('objTypeN', 'television series episode'), ('obj', 'http://www.wikidata.org/entity/Q5151207'), ('Oname', 'Come On')]\n",
      "[('objTypeN', 'television series episode'), ('obj', 'http://www.wikidata.org/entity/Q6781049'), ('Oname', 'Mary the Paralegal')]\n",
      "[('objTypeN', 'television series episode'), ('obj', 'http://www.wikidata.org/entity/Q6857975'), ('Oname', 'Milk')]\n",
      "[('objTypeN', 'television series episode'), ('obj', 'http://www.wikidata.org/entity/Q7731151'), ('Oname', 'The Duel')]\n",
      "[('objTypeN', 'television series episode'), ('obj', 'http://www.wikidata.org/entity/Q7747382'), ('Oname', 'The Limo')]\n",
      "[('objTypeN', 'television series episode'), ('obj', 'http://www.wikidata.org/entity/Q7757165'), ('Oname', 'The Pineapple Incident')]\n",
      "[('objTypeN', 'television series episode'), ('obj', 'http://www.wikidata.org/entity/Q8072588'), ('Oname', 'Zip, Zip, Zip')]\n",
      "[('objTypeN', 'television series episode'), ('obj', 'http://www.wikidata.org/entity/Q8247171'), ('Oname', 'Best Prom Ever')]\n",
      "[('objTypeN', 'television series episode'), ('obj', 'http://www.wikidata.org/entity/Q9030442'), ('Oname', 'Matchmaker')]\n",
      "[('objTypeN', 'television series episode'), ('obj', 'http://www.wikidata.org/entity/Q9078314'), ('Oname', 'Slutty Pumpkin')]\n",
      "22\n"
     ]
    }
   ],
   "source": [
    "#We have seen from previous query that the property hasPart links the Tv Serie and its seasons, let's see if it works the same for episodes\n",
    "\n",
    "queryString = \"\"\"\n",
    "SELECT DISTINCT ?objTypeN ?obj ?Oname \n",
    "WHERE {\n",
    "   wd:Q2715578 wdt:P527 ?obj . #HIMYMSeason1 hasPart\n",
    "   ?obj wdt:P31 ?objType.      #a\n",
    "   \n",
    "   ?objType sc:name ?objTypeN.\n",
    "   ?obj sc:name ?Oname\n",
    "}\n",
    "LIMIT 30\n",
    "\"\"\"\n",
    "\n",
    "print(\"Results\")\n",
    "x=run_query(queryString)"
   ]
  },
  {
   "cell_type": "code",
   "execution_count": 19,
   "id": "e433d86c-c5cf-412c-9726-c38da8d246cc",
   "metadata": {},
   "outputs": [
    {
     "name": "stdout",
     "output_type": "stream",
     "text": [
      "Results\n",
      "[('season', 'http://www.wikidata.org/entity/Q2715578'), ('seasonName', 'How I Met Your Mother, season 1'), ('count', '22')]\n",
      "[('season', 'http://www.wikidata.org/entity/Q3468515'), ('seasonName', 'How I Met Your Mother, season 2'), ('count', '22')]\n",
      "[('season', 'http://www.wikidata.org/entity/Q2555117'), ('seasonName', 'How I Met Your Mother, season 3'), ('count', '20')]\n",
      "[('season', 'http://www.wikidata.org/entity/Q2567330'), ('seasonName', 'How I Met Your Mother, season 4'), ('count', '24')]\n",
      "[('season', 'http://www.wikidata.org/entity/Q582332'), ('seasonName', 'How I Met Your Mother, season 5'), ('count', '24')]\n",
      "[('season', 'http://www.wikidata.org/entity/Q2438066'), ('seasonName', 'How I Met Your Mother, season 6'), ('count', '24')]\n",
      "[('season', 'http://www.wikidata.org/entity/Q2472427'), ('seasonName', 'How I Met Your Mother, season 7'), ('count', '24')]\n",
      "[('season', 'http://www.wikidata.org/entity/Q338715'), ('seasonName', 'How I Met Your Mother, season 8'), ('count', '24')]\n",
      "[('season', 'http://www.wikidata.org/entity/Q13567027'), ('seasonName', 'How I Met Your Mother, season 9'), ('count', '24')]\n",
      "9\n"
     ]
    }
   ],
   "source": [
    "#Episodes also use the hasPart property, we have all the information needed to build the query :\n",
    "\n",
    "queryString = \"\"\"\n",
    "SELECT DISTINCT ?season ?seasonName (count(distinct ?episode) as ?count) \n",
    "WHERE {\n",
    "   wd:Q147235 wdt:P527 ?season . #HIMYM hasPart\n",
    "   ?season wdt:P527 ?episode .   #hasPart\n",
    "   \n",
    "   ?season sc:name ?seasonName.\n",
    "}\n",
    "GROUP BY ?season ?seasonName\n",
    "ORDER BY ?seasonName\n",
    "LIMIT 30\n",
    "\"\"\"\n",
    "\n",
    "print(\"Results\")\n",
    "x=run_query(queryString)"
   ]
  },
  {
   "cell_type": "markdown",
   "id": "cdcda20e",
   "metadata": {},
   "source": [
    "Final query for this task"
   ]
  },
  {
   "cell_type": "code",
   "execution_count": 20,
   "id": "e9d219dc",
   "metadata": {},
   "outputs": [
    {
     "name": "stdout",
     "output_type": "stream",
     "text": [
      "Results\n",
      "[('season', 'http://www.wikidata.org/entity/Q2715578'), ('seasonName', 'How I Met Your Mother, season 1'), ('count', '22')]\n",
      "[('season', 'http://www.wikidata.org/entity/Q3468515'), ('seasonName', 'How I Met Your Mother, season 2'), ('count', '22')]\n",
      "[('season', 'http://www.wikidata.org/entity/Q2555117'), ('seasonName', 'How I Met Your Mother, season 3'), ('count', '20')]\n",
      "[('season', 'http://www.wikidata.org/entity/Q2567330'), ('seasonName', 'How I Met Your Mother, season 4'), ('count', '24')]\n",
      "[('season', 'http://www.wikidata.org/entity/Q582332'), ('seasonName', 'How I Met Your Mother, season 5'), ('count', '24')]\n",
      "[('season', 'http://www.wikidata.org/entity/Q2438066'), ('seasonName', 'How I Met Your Mother, season 6'), ('count', '24')]\n",
      "[('season', 'http://www.wikidata.org/entity/Q2472427'), ('seasonName', 'How I Met Your Mother, season 7'), ('count', '24')]\n",
      "[('season', 'http://www.wikidata.org/entity/Q338715'), ('seasonName', 'How I Met Your Mother, season 8'), ('count', '24')]\n",
      "[('season', 'http://www.wikidata.org/entity/Q13567027'), ('seasonName', 'How I Met Your Mother, season 9'), ('count', '24')]\n",
      "9\n"
     ]
    }
   ],
   "source": [
    "# Final Query\n",
    "\n",
    "queryString = \"\"\"\n",
    "SELECT DISTINCT ?season ?seasonName (count(distinct ?episode) as ?count) \n",
    "WHERE {\n",
    "   wd:Q147235 wdt:P527 ?season . #HIMYM hasPart\n",
    "   ?season wdt:P527 ?episode . #hasPart\n",
    "   \n",
    "   ?season sc:name ?seasonName.\n",
    "}\n",
    "GROUP BY ?season ?seasonName\n",
    "ORDER BY ?seasonName\n",
    "LIMIT 30\n",
    "\"\"\"\n",
    "\n",
    "print(\"Results\")\n",
    "x=run_query(queryString)\n",
    "\n",
    "#Total of 208"
   ]
  },
  {
   "cell_type": "markdown",
   "id": "2d1b84fc",
   "metadata": {
    "tags": []
   },
   "source": [
    "## Task 3\n",
    "Get the number of episodes in which the cast members played a role. Who are the most present actors? (the result set must be a list of triples actor/actress IRI, label and #episodes)"
   ]
  },
  {
   "cell_type": "code",
   "execution_count": 22,
   "id": "5aa67b0a",
   "metadata": {},
   "outputs": [
    {
     "name": "stdout",
     "output_type": "stream",
     "text": [
      "Results\n",
      "[('profession', 'http://www.wikidata.org/entity/Q10798782'), ('Pname', 'television actor')]\n",
      "[('profession', 'http://www.wikidata.org/entity/Q10800557'), ('Pname', 'film actor')]\n",
      "[('profession', 'http://www.wikidata.org/entity/Q2259451'), ('Pname', 'stage actor')]\n",
      "[('profession', 'http://www.wikidata.org/entity/Q2405480'), ('Pname', 'voice actor')]\n",
      "[('profession', 'http://www.wikidata.org/entity/Q33999'), ('Pname', 'actor')]\n",
      "[('profession', 'http://www.wikidata.org/entity/Q11481802'), ('Pname', 'dub actor')]\n",
      "[('profession', 'http://www.wikidata.org/entity/Q488111'), ('Pname', 'pornographic actor')]\n",
      "[('profession', 'http://www.wikidata.org/entity/Q948329'), ('Pname', 'character actor')]\n",
      "[('profession', 'http://www.wikidata.org/entity/Q970153'), ('Pname', 'child actor')]\n",
      "[('profession', 'http://www.wikidata.org/entity/Q1954956'), ('Pname', 'musical theatre actor')]\n",
      "10\n"
     ]
    }
   ],
   "source": [
    "# We got from the very first query the bgp of cast member: [('p', 'http://www.wikidata.org/prop/direct/P161'), ('name', 'cast member')]\n",
    "# Let's see the castmember professions (URI given : wdt:P106) relted to acting\n",
    "\n",
    "queryString = \"\"\"\n",
    "SELECT DISTINCT ?profession ?Pname\n",
    "WHERE {\n",
    "   wd:Q147235 wdt:P161 ?castMember . #HIMYM castMember\n",
    "   ?castMember wdt:P106 ?profession. #profession\n",
    "   \n",
    "   ?profession sc:name ?Pname.\n",
    "   FILTER(REGEX(?Pname,\"actor\"))\n",
    "}\n",
    "LIMIT 50\n",
    "\"\"\"\n",
    "\n",
    "print(\"Results\")\n",
    "x=run_query(queryString)"
   ]
  },
  {
   "cell_type": "code",
   "execution_count": 4,
   "id": "22090c7b-954a-45f2-b4aa-53b7bdfc0efe",
   "metadata": {},
   "outputs": [
    {
     "name": "stdout",
     "output_type": "stream",
     "text": [
      "Results\n",
      "[('p', 'http://www.wikidata.org/prop/direct/P1258'), ('name', 'Rotten Tomatoes ID')]\n",
      "[('p', 'http://www.wikidata.org/prop/direct/P1476'), ('name', 'title')]\n",
      "[('p', 'http://www.wikidata.org/prop/direct/P155'), ('name', 'follows')]\n",
      "[('p', 'http://www.wikidata.org/prop/direct/P156'), ('name', 'followed by')]\n",
      "[('p', 'http://www.wikidata.org/prop/direct/P1562'), ('name', 'AllMovie title ID')]\n",
      "[('p', 'http://www.wikidata.org/prop/direct/P161'), ('name', 'cast member')]\n",
      "[('p', 'http://www.wikidata.org/prop/direct/P179'), ('name', 'part of the series')]\n",
      "[('p', 'http://www.wikidata.org/prop/direct/P2364'), ('name', 'production code')]\n",
      "[('p', 'http://www.wikidata.org/prop/direct/P2529'), ('name', 'ČSFD film ID')]\n",
      "[('p', 'http://www.wikidata.org/prop/direct/P2638'), ('name', 'TV.com ID')]\n",
      "[('p', 'http://www.wikidata.org/prop/direct/P2704'), ('name', 'EIDR content ID')]\n",
      "[('p', 'http://www.wikidata.org/prop/direct/P31'), ('name', 'instance of')]\n",
      "[('p', 'http://www.wikidata.org/prop/direct/P3212'), ('name', 'ISAN')]\n",
      "[('p', 'http://www.wikidata.org/prop/direct/P3302'), ('name', 'Open Media Database film ID')]\n",
      "[('p', 'http://www.wikidata.org/prop/direct/P345'), ('name', 'IMDb ID')]\n",
      "[('p', 'http://www.wikidata.org/prop/direct/P364'), ('name', 'original language of film or TV show')]\n",
      "[('p', 'http://www.wikidata.org/prop/direct/P4665'), ('name', 'CineMagia title ID')]\n",
      "[('p', 'http://www.wikidata.org/prop/direct/P4908'), ('name', 'season')]\n",
      "[('p', 'http://www.wikidata.org/prop/direct/P57'), ('name', 'director')]\n",
      "[('p', 'http://www.wikidata.org/prop/direct/P577'), ('name', 'publication date')]\n",
      "20\n"
     ]
    }
   ],
   "source": [
    "#we take randomly Q1327587, an episode from a previous query\n",
    "\n",
    "# query example\n",
    "queryString = \"\"\"\n",
    "SELECT DISTINCT ?p ?name\n",
    "WHERE {\n",
    "   # bind something\n",
    "   wd:Q1327587 ?p ?obj . #HIMYMRandomEpisode\n",
    "   # get the label\n",
    "   ?p sc:name ?name.\n",
    "}\n",
    "LIMIT 20\n",
    "\"\"\"\n",
    "\n",
    "print(\"Results\")\n",
    "x=run_query(queryString)"
   ]
  },
  {
   "cell_type": "code",
   "execution_count": 6,
   "id": "a072f45e-ab28-4a33-98d2-4a664f4fd480",
   "metadata": {},
   "outputs": [
    {
     "name": "stdout",
     "output_type": "stream",
     "text": [
      "Results\n",
      "[('epTypeName', 'television series episode'), ('epType', 'http://www.wikidata.org/entity/Q21191270'), ('p', 'http://www.wikidata.org/prop/direct/P1424'), ('pName', \"topic's main template\")]\n",
      "[('epTypeName', 'television series episode'), ('epType', 'http://www.wikidata.org/entity/Q21191270'), ('p', 'http://www.wikidata.org/prop/direct/P1552'), ('pName', 'has quality')]\n",
      "[('epTypeName', 'television series episode'), ('epType', 'http://www.wikidata.org/entity/Q21191270'), ('p', 'http://www.wikidata.org/prop/direct/P1709'), ('pName', 'equivalent class')]\n",
      "[('epTypeName', 'television series episode'), ('epType', 'http://www.wikidata.org/entity/Q21191270'), ('p', 'http://www.wikidata.org/prop/direct/P1889'), ('pName', 'different from')]\n",
      "[('epTypeName', 'television series episode'), ('epType', 'http://www.wikidata.org/entity/Q21191270'), ('p', 'http://www.wikidata.org/prop/direct/P1963'), ('pName', 'properties for this type')]\n",
      "[('epTypeName', 'television series episode'), ('epType', 'http://www.wikidata.org/entity/Q21191270'), ('p', 'http://www.wikidata.org/prop/direct/P2581'), ('pName', 'BabelNet ID')]\n",
      "[('epTypeName', 'television series episode'), ('epType', 'http://www.wikidata.org/entity/Q21191270'), ('p', 'http://www.wikidata.org/prop/direct/P279'), ('pName', 'subclass of')]\n",
      "[('epTypeName', 'television series episode'), ('epType', 'http://www.wikidata.org/entity/Q21191270'), ('p', 'http://www.wikidata.org/prop/direct/P3417'), ('pName', 'Quora topic ID')]\n",
      "[('epTypeName', 'television series episode'), ('epType', 'http://www.wikidata.org/entity/Q21191270'), ('p', 'http://www.wikidata.org/prop/direct/P361'), ('pName', 'part of')]\n",
      "[('epTypeName', 'television series episode'), ('epType', 'http://www.wikidata.org/entity/Q21191270'), ('p', 'http://www.wikidata.org/prop/direct/P6104'), ('pName', 'maintained by WikiProject')]\n",
      "[('epTypeName', 'television series episode'), ('epType', 'http://www.wikidata.org/entity/Q21191270'), ('p', 'http://www.wikidata.org/prop/direct/P646'), ('pName', 'Freebase ID')]\n",
      "[('epTypeName', 'television series episode'), ('epType', 'http://www.wikidata.org/entity/Q21191270'), ('p', 'http://www.wikidata.org/prop/direct/P8408'), ('pName', 'KBpedia ID')]\n",
      "[('epTypeName', 'television series episode'), ('epType', 'http://www.wikidata.org/entity/Q21191270'), ('p', 'http://www.wikidata.org/prop/direct/P910'), ('pName', \"topic's main category\")]\n",
      "13\n"
     ]
    }
   ],
   "source": [
    "#Let's see what an episode is instance of\n",
    "\n",
    "queryString = \"\"\"\n",
    "SELECT DISTINCT ?epTypeName ?epType ?p ?pName\n",
    "WHERE {\n",
    "   \n",
    "   wd:Q1327587 wdt:P31 ?epType . #HIMYMRandomEpisode\n",
    "   ?epType ?p ?obj.\n",
    "   \n",
    "   ?epType sc:name ?epTypeName.\n",
    "   ?p sc:name ?pName.\n",
    "}\n",
    "LIMIT 20\n",
    "\"\"\"\n",
    "\n",
    "print(\"Results\")\n",
    "x=run_query(queryString)"
   ]
  },
  {
   "cell_type": "code",
   "execution_count": 18,
   "id": "9974cab8-62c9-46bc-b8dd-3f95a3316fae",
   "metadata": {},
   "outputs": [
    {
     "name": "stdout",
     "output_type": "stream",
     "text": [
      "Results\n",
      "[('p', 'http://www.wikidata.org/prop/direct/P1258'), ('pName', 'Rotten Tomatoes ID')]\n",
      "[('p', 'http://www.wikidata.org/prop/direct/P138'), ('pName', 'named after')]\n",
      "[('p', 'http://www.wikidata.org/prop/direct/P1476'), ('pName', 'title')]\n",
      "[('p', 'http://www.wikidata.org/prop/direct/P155'), ('pName', 'follows')]\n",
      "[('p', 'http://www.wikidata.org/prop/direct/P156'), ('pName', 'followed by')]\n",
      "[('p', 'http://www.wikidata.org/prop/direct/P1562'), ('pName', 'AllMovie title ID')]\n",
      "[('p', 'http://www.wikidata.org/prop/direct/P161'), ('pName', 'cast member')]\n",
      "[('p', 'http://www.wikidata.org/prop/direct/P179'), ('pName', 'part of the series')]\n",
      "[('p', 'http://www.wikidata.org/prop/direct/P1889'), ('pName', 'different from')]\n",
      "[('p', 'http://www.wikidata.org/prop/direct/P2061'), ('pName', 'aspect ratio')]\n",
      "[('p', 'http://www.wikidata.org/prop/direct/P2364'), ('pName', 'production code')]\n",
      "[('p', 'http://www.wikidata.org/prop/direct/P2515'), ('pName', 'costume designer')]\n",
      "[('p', 'http://www.wikidata.org/prop/direct/P2529'), ('pName', 'ČSFD film ID')]\n",
      "[('p', 'http://www.wikidata.org/prop/direct/P2638'), ('pName', 'TV.com ID')]\n",
      "[('p', 'http://www.wikidata.org/prop/direct/P2671'), ('pName', 'Google Knowledge Graph ID')]\n",
      "[('p', 'http://www.wikidata.org/prop/direct/P2704'), ('pName', 'EIDR content ID')]\n",
      "[('p', 'http://www.wikidata.org/prop/direct/P31'), ('pName', 'instance of')]\n",
      "[('p', 'http://www.wikidata.org/prop/direct/P3212'), ('pName', 'ISAN')]\n",
      "[('p', 'http://www.wikidata.org/prop/direct/P3302'), ('pName', 'Open Media Database film ID')]\n",
      "[('p', 'http://www.wikidata.org/prop/direct/P344'), ('pName', 'director of photography')]\n",
      "20\n"
     ]
    }
   ],
   "source": [
    "#Let's explore tv series episode properties\n",
    "\n",
    "queryString = \"\"\"\n",
    "SELECT DISTINCT ?p ?pName\n",
    "WHERE {\n",
    "   \n",
    "   ?ep wdt:P31 wd:Q21191270 . #TVepisode\n",
    "   ?ep ?p ?obj.\n",
    "   \n",
    "   ?p sc:name ?pName.\n",
    "}\n",
    "LIMIT 20\n",
    "\"\"\"\n",
    "\n",
    "print(\"Results\")\n",
    "x=run_query(queryString)\n",
    "\n",
    "#We have now the confirmation that tv series ep has also cast member"
   ]
  },
  {
   "cell_type": "code",
   "execution_count": 8,
   "id": "778bceda-1561-4219-896a-f9cc9fa9c02b",
   "metadata": {},
   "outputs": [
    {
     "name": "stdout",
     "output_type": "stream",
     "text": [
      "Results\n",
      "[('actor', 'http://www.wikidata.org/entity/Q234514'), ('actorName', 'Camryn Manheim'), ('count', '1')]\n",
      "[('actor', 'http://www.wikidata.org/entity/Q1255263'), ('actorName', 'Jason Jones'), ('count', '4')]\n",
      "[('actor', 'http://www.wikidata.org/entity/Q488335'), ('actorName', 'Kevin Michael Richardson'), ('count', '1')]\n",
      "[('actor', 'http://www.wikidata.org/entity/Q27322'), ('actorName', 'Jason Lewis'), ('count', '1')]\n",
      "[('actor', 'http://www.wikidata.org/entity/Q469914'), ('actorName', 'Lindsay Sloane'), ('count', '1')]\n",
      "[('actor', 'http://www.wikidata.org/entity/Q1189095'), ('actorName', 'Courtney Ford'), ('count', '1')]\n",
      "[('actor', 'http://www.wikidata.org/entity/Q558412'), ('actorName', 'Rick Malambri'), ('count', '1')]\n",
      "[('actor', 'http://www.wikidata.org/entity/Q470005'), ('actorName', 'Joe Manganiello'), ('count', '5')]\n",
      "[('actor', 'http://www.wikidata.org/entity/Q298777'), ('actorName', 'Michael York'), ('count', '1')]\n",
      "[('actor', 'http://www.wikidata.org/entity/Q3306283'), ('actorName', 'Dwight Hicks'), ('count', '1')]\n",
      "[('actor', 'http://www.wikidata.org/entity/Q522856'), ('actorName', 'Kate Micucci'), ('count', '1')]\n",
      "[('actor', 'http://www.wikidata.org/entity/Q231744'), ('actorName', 'Kendra Wilkinson'), ('count', '1')]\n",
      "[('actor', 'http://www.wikidata.org/entity/Q238029'), ('actorName', 'JoAnna García'), ('count', '1')]\n",
      "[('actor', 'http://www.wikidata.org/entity/Q454698'), ('actorName', 'Darcy Rose Byrnes'), ('count', '5')]\n",
      "[('actor', 'http://www.wikidata.org/entity/Q235740'), ('actorName', 'Busy Philipps'), ('count', '1')]\n",
      "[('actor', 'http://www.wikidata.org/entity/Q347922'), ('actorName', 'Melissa Molinaro'), ('count', '1')]\n",
      "[('actor', 'http://www.wikidata.org/entity/Q310322'), ('actorName', 'Will Sasso'), ('count', '1')]\n",
      "[('actor', 'http://www.wikidata.org/entity/Q8349'), ('actorName', '\"Weird Al\" Yankovic'), ('count', '1')]\n",
      "[('actor', 'http://www.wikidata.org/entity/Q566037'), ('actorName', 'Scoot McNairy'), ('count', '1')]\n",
      "[('actor', 'http://www.wikidata.org/entity/Q1189102'), ('actorName', 'Nazanin Boniadi'), ('count', '8')]\n",
      "[('actor', 'http://www.wikidata.org/entity/Q463673'), ('actorName', 'Regis Philbin'), ('count', '1')]\n",
      "[('actor', 'http://www.wikidata.org/entity/Q258237'), ('actorName', 'Beth Riesgraf'), ('count', '1')]\n",
      "[('actor', 'http://www.wikidata.org/entity/Q525572'), ('actorName', 'Erinn Bartlett'), ('count', '1')]\n",
      "[('actor', 'http://www.wikidata.org/entity/Q376031'), ('actorName', 'Gary Anthony Williams'), ('count', '1')]\n",
      "[('actor', 'http://www.wikidata.org/entity/Q297128'), ('actorName', 'David Henrie'), ('count', '48')]\n",
      "[('actor', 'http://www.wikidata.org/entity/Q444146'), ('actorName', 'Amber Stevens'), ('count', '1')]\n",
      "[('actor', 'http://www.wikidata.org/entity/Q6701600'), ('actorName', 'Luka Jones'), ('count', '1')]\n",
      "[('actor', 'http://www.wikidata.org/entity/Q192165'), ('actorName', 'Danny Glover'), ('count', '1')]\n",
      "[('actor', 'http://www.wikidata.org/entity/Q465556'), ('actorName', 'Annie Ilonzeh'), ('count', '1')]\n",
      "[('actor', 'http://www.wikidata.org/entity/Q448484'), ('actorName', 'Darby Stanchfield'), ('count', '1')]\n",
      "[('actor', 'http://www.wikidata.org/entity/Q3002075'), ('actorName', 'Craig Thomas'), ('count', '1')]\n",
      "[('actor', 'http://www.wikidata.org/entity/Q238425'), ('actorName', 'Cristine Rose'), ('count', '5')]\n",
      "[('actor', 'http://www.wikidata.org/entity/Q2507611'), ('actorName', 'Khary Payton'), ('count', '1')]\n",
      "[('actor', 'http://www.wikidata.org/entity/Q2827976'), ('actorName', 'Ailsa Marshall'), ('count', '1')]\n",
      "[('actor', 'http://www.wikidata.org/entity/Q6791001'), ('actorName', 'Matthew Moy'), ('count', '1')]\n",
      "[('actor', 'http://www.wikidata.org/entity/Q220536'), ('actorName', 'Kal Penn'), ('count', '4')]\n",
      "[('actor', 'http://www.wikidata.org/entity/Q1319744'), ('actorName', 'Will Forte'), ('count', '2')]\n",
      "[('actor', 'http://www.wikidata.org/entity/Q1809038'), ('actorName', 'Caroline Lagerfelt'), ('count', '1')]\n",
      "[('actor', 'http://www.wikidata.org/entity/Q366322'), ('actorName', 'Alexis Denisof'), ('count', '5')]\n",
      "[('actor', 'http://www.wikidata.org/entity/Q200566'), ('actorName', 'Cobie Smulders'), ('count', '145')]\n",
      "[('actor', 'http://www.wikidata.org/entity/Q5186320'), ('actorName', 'Cristin Milioti'), ('count', '3')]\n",
      "[('actor', 'http://www.wikidata.org/entity/Q229728'), ('actorName', 'Sarah Chalke'), ('count', '10')]\n",
      "[('actor', 'http://www.wikidata.org/entity/Q269137'), ('actorName', 'Sarah Wright'), ('count', '1')]\n",
      "[('actor', 'http://www.wikidata.org/entity/Q242949'), ('actorName', 'Danica McKellar'), ('count', '2')]\n",
      "[('actor', 'http://www.wikidata.org/entity/Q1189470'), ('actorName', 'Jimmi Simpson'), ('count', '1')]\n",
      "[('actor', 'http://www.wikidata.org/entity/Q261104'), ('actorName', 'Kelly Stables'), ('count', '1')]\n",
      "[('actor', 'http://www.wikidata.org/entity/Q231006'), ('actorName', 'Jayma Mays'), ('count', '1')]\n",
      "[('actor', 'http://www.wikidata.org/entity/Q11975'), ('actorName', 'Britney Spears'), ('count', '2')]\n",
      "[('actor', 'http://www.wikidata.org/entity/Q922264'), ('actorName', 'Eric Allan Kramer'), ('count', '1')]\n",
      "[('actor', 'http://www.wikidata.org/entity/Q2633899'), ('actorName', 'Erin Cahill'), ('count', '1')]\n",
      "50\n"
     ]
    }
   ],
   "source": [
    "#Tv series episode have the property cast member\n",
    "#We can now build the answer :\n",
    "\n",
    "queryString = \"\"\"\n",
    "SELECT DISTINCT ?actor ?actorName (count(distinct ?episode) as ?count)\n",
    "WHERE {\n",
    "   \n",
    "   wd:Q147235 wdt:P161 ?actor; #HIMYM castmember\n",
    "             wdt:P527 ?season . #HIMYM hasPart\n",
    "   ?season wdt:P527 ?episode . #hasPart\n",
    "   \n",
    "   ?episode wdt:P161 ?actor.\n",
    "          \n",
    "   ?actor sc:name ?actorName.\n",
    "}\n",
    "GROUP BY ?actor ?actorName\n",
    "LIMIT 50\n",
    "\"\"\"\n",
    "\n",
    "print(\"Results\")\n",
    "x=run_query(queryString)"
   ]
  },
  {
   "cell_type": "code",
   "execution_count": 12,
   "id": "3fec7868-e1e4-49dd-afc9-7739c9dc8cf5",
   "metadata": {},
   "outputs": [
    {
     "name": "stdout",
     "output_type": "stream",
     "text": [
      "Results\n",
      "[('actor', 'http://www.wikidata.org/entity/Q200566'), ('actorName', 'Cobie Smulders'), ('count', '145')]\n",
      "[('actor', 'http://www.wikidata.org/entity/Q485310'), ('actorName', 'Neil Patrick Harris'), ('count', '145')]\n",
      "[('actor', 'http://www.wikidata.org/entity/Q223455'), ('actorName', 'Josh Radnor'), ('count', '145')]\n",
      "[('actor', 'http://www.wikidata.org/entity/Q202304'), ('actorName', 'Jason Segel'), ('count', '145')]\n",
      "[('actor', 'http://www.wikidata.org/entity/Q199927'), ('actorName', 'Alyson Hannigan'), ('count', '143')]\n",
      "[('actor', 'http://www.wikidata.org/entity/Q297128'), ('actorName', 'David Henrie'), ('count', '48')]\n",
      "[('actor', 'http://www.wikidata.org/entity/Q229914'), ('actorName', 'Lyndsy Fonseca'), ('count', '48')]\n",
      "[('actor', 'http://www.wikidata.org/entity/Q16149506'), ('actorName', 'Charlene Amoia'), ('count', '17')]\n",
      "[('actor', 'http://www.wikidata.org/entity/Q199929'), ('actorName', 'Jennifer Morrison'), ('count', '12')]\n",
      "[('actor', 'http://www.wikidata.org/entity/Q552889'), ('actorName', 'Marshall Manesh'), ('count', '11')]\n",
      "[('actor', 'http://www.wikidata.org/entity/Q229728'), ('actorName', 'Sarah Chalke'), ('count', '10')]\n",
      "[('actor', 'http://www.wikidata.org/entity/Q591238'), ('actorName', 'Bill Fagerbakke'), ('count', '9')]\n",
      "[('actor', 'http://www.wikidata.org/entity/Q435839'), ('actorName', 'Ashley Williams'), ('count', '9')]\n",
      "[('actor', 'http://www.wikidata.org/entity/Q1396070'), ('actorName', 'Suzie Plakson'), ('count', '9')]\n",
      "[('actor', 'http://www.wikidata.org/entity/Q1189102'), ('actorName', 'Nazanin Boniadi'), ('count', '8')]\n",
      "[('actor', 'http://www.wikidata.org/entity/Q888178'), ('actorName', 'Bob Odenkirk'), ('count', '7')]\n",
      "[('actor', 'http://www.wikidata.org/entity/Q1139526'), ('actorName', 'Bryan Callen'), ('count', '6')]\n",
      "[('actor', 'http://www.wikidata.org/entity/Q470005'), ('actorName', 'Joe Manganiello'), ('count', '5')]\n",
      "[('actor', 'http://www.wikidata.org/entity/Q454698'), ('actorName', 'Darcy Rose Byrnes'), ('count', '5')]\n",
      "[('actor', 'http://www.wikidata.org/entity/Q238425'), ('actorName', 'Cristine Rose'), ('count', '5')]\n",
      "20\n"
     ]
    }
   ],
   "source": [
    "#We add an order by to see the most present ones:\n",
    "\n",
    "queryString = \"\"\"\n",
    "SELECT DISTINCT ?actor ?actorName (count(distinct ?episode) as ?count)\n",
    "WHERE {\n",
    "   \n",
    "   wd:Q147235 wdt:P161 ?actor; #TheOffice castmember\n",
    "             wdt:P527 ?season . #TheOffice hasPart\n",
    "   ?season wdt:P527 ?episode . #hasPart\n",
    "   \n",
    "   ?episode wdt:P161 ?actor.\n",
    "          \n",
    "   ?actor sc:name ?actorName.\n",
    "}\n",
    "GROUP BY ?actor ?actorName\n",
    "ORDER BY DESC (?count)\n",
    "LIMIT 20\n",
    "\"\"\"\n",
    "\n",
    "print(\"Results\")\n",
    "x=run_query(queryString)"
   ]
  },
  {
   "cell_type": "markdown",
   "id": "34082f0a",
   "metadata": {},
   "source": [
    "Final query for this task"
   ]
  },
  {
   "cell_type": "code",
   "execution_count": 13,
   "id": "a1f4f907",
   "metadata": {},
   "outputs": [
    {
     "name": "stdout",
     "output_type": "stream",
     "text": [
      "Results\n",
      "[('actor', 'http://www.wikidata.org/entity/Q200566'), ('actorName', 'Cobie Smulders'), ('count', '145')]\n",
      "[('actor', 'http://www.wikidata.org/entity/Q485310'), ('actorName', 'Neil Patrick Harris'), ('count', '145')]\n",
      "[('actor', 'http://www.wikidata.org/entity/Q223455'), ('actorName', 'Josh Radnor'), ('count', '145')]\n",
      "[('actor', 'http://www.wikidata.org/entity/Q202304'), ('actorName', 'Jason Segel'), ('count', '145')]\n",
      "[('actor', 'http://www.wikidata.org/entity/Q199927'), ('actorName', 'Alyson Hannigan'), ('count', '143')]\n",
      "[('actor', 'http://www.wikidata.org/entity/Q297128'), ('actorName', 'David Henrie'), ('count', '48')]\n",
      "[('actor', 'http://www.wikidata.org/entity/Q229914'), ('actorName', 'Lyndsy Fonseca'), ('count', '48')]\n",
      "[('actor', 'http://www.wikidata.org/entity/Q16149506'), ('actorName', 'Charlene Amoia'), ('count', '17')]\n",
      "[('actor', 'http://www.wikidata.org/entity/Q199929'), ('actorName', 'Jennifer Morrison'), ('count', '12')]\n",
      "[('actor', 'http://www.wikidata.org/entity/Q552889'), ('actorName', 'Marshall Manesh'), ('count', '11')]\n",
      "[('actor', 'http://www.wikidata.org/entity/Q229728'), ('actorName', 'Sarah Chalke'), ('count', '10')]\n",
      "[('actor', 'http://www.wikidata.org/entity/Q591238'), ('actorName', 'Bill Fagerbakke'), ('count', '9')]\n",
      "[('actor', 'http://www.wikidata.org/entity/Q435839'), ('actorName', 'Ashley Williams'), ('count', '9')]\n",
      "[('actor', 'http://www.wikidata.org/entity/Q1396070'), ('actorName', 'Suzie Plakson'), ('count', '9')]\n",
      "[('actor', 'http://www.wikidata.org/entity/Q1189102'), ('actorName', 'Nazanin Boniadi'), ('count', '8')]\n",
      "[('actor', 'http://www.wikidata.org/entity/Q888178'), ('actorName', 'Bob Odenkirk'), ('count', '7')]\n",
      "[('actor', 'http://www.wikidata.org/entity/Q1139526'), ('actorName', 'Bryan Callen'), ('count', '6')]\n",
      "[('actor', 'http://www.wikidata.org/entity/Q470005'), ('actorName', 'Joe Manganiello'), ('count', '5')]\n",
      "[('actor', 'http://www.wikidata.org/entity/Q454698'), ('actorName', 'Darcy Rose Byrnes'), ('count', '5')]\n",
      "[('actor', 'http://www.wikidata.org/entity/Q238425'), ('actorName', 'Cristine Rose'), ('count', '5')]\n",
      "20\n"
     ]
    }
   ],
   "source": [
    "# Final query\n",
    "\n",
    "queryString = \"\"\"\n",
    "SELECT DISTINCT ?actor ?actorName (count(distinct ?episode) as ?count)\n",
    "WHERE {\n",
    "   \n",
    "   wd:Q147235 wdt:P161 ?actor; #HIMYM castmember\n",
    "             wdt:P527 ?season . #HIMYM hasPart\n",
    "   ?season wdt:P527 ?episode . #hasPart\n",
    "   \n",
    "   ?episode wdt:P161 ?actor.\n",
    "          \n",
    "   ?actor sc:name ?actorName.\n",
    "}\n",
    "GROUP BY ?actor ?actorName\n",
    "ORDER BY DESC (?count)\n",
    "LIMIT 20\n",
    "\"\"\"\n",
    "\n",
    "print(\"Results\")\n",
    "x=run_query(queryString)\n",
    "\n",
    "#We have a leading top5 (who supposedly are the main protagonists)"
   ]
  },
  {
   "cell_type": "markdown",
   "id": "67d96687",
   "metadata": {
    "tags": []
   },
   "source": [
    "## Task 4\n",
    "Check who is the actor who acted in more films while working on \"How I met your mother\" (the result set must be a list of triples actor/actress IRI, label and #films)."
   ]
  },
  {
   "cell_type": "code",
   "execution_count": 14,
   "id": "e5066ec0",
   "metadata": {},
   "outputs": [
    {
     "name": "stdout",
     "output_type": "stream",
     "text": [
      "Results\n",
      "[('pieceType', 'http://www.wikidata.org/entity/Q24856'), ('pieceTypeN', 'film series')]\n",
      "[('pieceType', 'http://www.wikidata.org/entity/Q11424'), ('pieceTypeN', 'film')]\n",
      "[('pieceType', 'http://www.wikidata.org/entity/Q21191270'), ('pieceTypeN', 'television series episode')]\n",
      "[('pieceType', 'http://www.wikidata.org/entity/Q5398426'), ('pieceTypeN', 'television series')]\n",
      "[('pieceType', 'http://www.wikidata.org/entity/Q229390'), ('pieceTypeN', '3D film')]\n",
      "[('pieceType', 'http://www.wikidata.org/entity/Q374821'), ('pieceTypeN', 'film poster')]\n",
      "6\n"
     ]
    }
   ],
   "source": [
    "#\"While working on HIMYM\" guides us to look for an \"end of production date\" of the tv show. We also need to find the bgp for films, let's start with it\n",
    "#To find bgp of film, let's take one actor/actress randomly and get the type of things where he/she was cast member\n",
    "#[('actor', 'http://www.wikidata.org/entity/Q200566'), ('actorName', 'Cobie Smulders'), ('count', '145')]\n",
    "\n",
    "\n",
    "queryString = \"\"\"\n",
    "SELECT DISTINCT ?pieceType ?pieceTypeN\n",
    "WHERE {\n",
    "   \n",
    "   ?piece wdt:P161 wd:Q200566; #castMember CobieSmulders\n",
    "          wdt:P31 ?pieceType. #a\n",
    "             \n",
    "   ?pieceType sc:name ?pieceTypeN.\n",
    "}\n",
    "LIMIT 20\n",
    "\"\"\"\n",
    "\n",
    "print(\"Results\")\n",
    "x=run_query(queryString)"
   ]
  },
  {
   "cell_type": "code",
   "execution_count": 17,
   "id": "725a83dc-38a3-4e88-8baa-6271f9e22a6f",
   "metadata": {},
   "outputs": [
    {
     "name": "stdout",
     "output_type": "stream",
     "text": [
      "Results\n",
      "[('p', 'http://www.wikidata.org/prop/direct/P577'), ('pName', 'publication date')]\n",
      "[('p', 'http://www.wikidata.org/prop/direct/P580'), ('pName', 'start time')]\n",
      "[('p', 'http://www.wikidata.org/prop/direct/P582'), ('pName', 'end time')]\n",
      "[('p', 'http://www.wikidata.org/prop/direct/P585'), ('pName', 'point in time')]\n",
      "[('p', 'http://www.wikidata.org/prop/direct/P1191'), ('pName', 'date of first performance')]\n",
      "[('p', 'http://www.wikidata.org/prop/direct/P576'), ('pName', 'dissolved, abolished or demolished date')]\n",
      "[('p', 'http://www.wikidata.org/prop/direct/P6949'), ('pName', 'announcement date')]\n",
      "[('p', 'http://www.wikidata.org/prop/direct/P3999'), ('pName', 'date of official closure')]\n",
      "[('p', 'http://www.wikidata.org/prop/direct/P6458'), ('pName', 'Mtime movie ID')]\n",
      "[('p', 'http://www.wikidata.org/prop/direct/P2754'), ('pName', 'production date')]\n",
      "[('p', 'http://www.wikidata.org/prop/direct/P2348'), ('pName', 'time period')]\n",
      "[('p', 'http://www.wikidata.org/prop/direct/P569'), ('pName', 'date of birth')]\n",
      "[('p', 'http://www.wikidata.org/prop/direct/P421'), ('pName', 'located in time zone')]\n",
      "[('p', 'http://www.wikidata.org/prop/direct/P2669'), ('pName', 'discontinued date')]\n",
      "[('p', 'http://www.wikidata.org/prop/direct/P2913'), ('pName', 'date depicted')]\n",
      "15\n"
     ]
    }
   ],
   "source": [
    "#we have bgp of films and tv series here. Let's look for a \"end of production\"-like property\n",
    "\n",
    "queryString = \"\"\"\n",
    "SELECT DISTINCT ?p ?pName\n",
    "WHERE {\n",
    "   \n",
    "   ?tvserie wdt:P31 wd:Q5398426; #a tvserie\n",
    "            ?p ?obj.\n",
    "             \n",
    "   ?p sc:name ?pName.\n",
    "   FILTER(REGEX(?pName,\"(date|time|schedule)\"))\n",
    "}\n",
    "LIMIT 20\n",
    "\"\"\"\n",
    "\n",
    "print(\"Results\")\n",
    "x=run_query(queryString)"
   ]
  },
  {
   "cell_type": "code",
   "execution_count": 25,
   "id": "60ef4a30-6c19-4c51-8bcb-90a9adfe7c2a",
   "metadata": {},
   "outputs": [
    {
     "name": "stdout",
     "output_type": "stream",
     "text": [
      "Results\n",
      "[('p', 'http://www.wikidata.org/prop/direct/P577'), ('pName', 'publication date')]\n",
      "[('p', 'http://www.wikidata.org/prop/direct/P1191'), ('pName', 'date of first performance')]\n",
      "[('p', 'http://www.wikidata.org/prop/direct/P2913'), ('pName', 'date depicted')]\n",
      "[('p', 'http://www.wikidata.org/prop/direct/P2754'), ('pName', 'production date')]\n",
      "[('p', 'http://www.wikidata.org/prop/direct/P580'), ('pName', 'start time')]\n",
      "[('p', 'http://www.wikidata.org/prop/direct/P582'), ('pName', 'end time')]\n",
      "[('p', 'http://www.wikidata.org/prop/direct/P585'), ('pName', 'point in time')]\n",
      "[('p', 'http://www.wikidata.org/prop/direct/P6949'), ('pName', 'announcement date')]\n",
      "[('p', 'http://www.wikidata.org/prop/direct/P421'), ('pName', 'located in time zone')]\n",
      "9\n"
     ]
    }
   ],
   "source": [
    "#Same for episodes \n",
    "\n",
    "queryString = \"\"\"\n",
    "SELECT DISTINCT ?p ?pName\n",
    "WHERE {\n",
    "   \n",
    "   ?tvserie wdt:P31 wd:Q21191270; #a tvseriedpisode\n",
    "            ?p ?obj.\n",
    "             \n",
    "   ?p sc:name ?pName.\n",
    "   FILTER(REGEX(?pName,\"(date|time|schedule)\"))\n",
    "}\n",
    "LIMIT 20\n",
    "\"\"\"\n",
    "\n",
    "print(\"Results\")\n",
    "x=run_query(queryString)"
   ]
  },
  {
   "cell_type": "code",
   "execution_count": 3,
   "id": "73edfc10-58d1-422e-9de7-149c86729d31",
   "metadata": {},
   "outputs": [
    {
     "name": "stdout",
     "output_type": "stream",
     "text": [
      "Results\n",
      "Empty\n"
     ]
    }
   ],
   "source": [
    "#The \"production date\" property should be the most interesting for us based on the question\n",
    "\n",
    "queryString = \"\"\"\n",
    "SELECT DISTINCT ?proddate\n",
    "WHERE {   \n",
    "      wd:Q147235 wdt:P527 ?season . #HIMYM hasPart\n",
    "      ?season wdt:P527 ?episode   . #hasPart\n",
    "      \n",
    "      ?episode wdt:P31 wd:Q21191270;   #a TVserieEpisode\n",
    "               wdt:P161 ?actor;        #castMember\n",
    "               wdt:P2754 ?proddate     #productionDate\n",
    "   \n",
    "}\n",
    "LIMIT 20\n",
    "\"\"\"\n",
    "\n",
    "print(\"Results\")\n",
    "x=run_query(queryString)"
   ]
  },
  {
   "cell_type": "code",
   "execution_count": 48,
   "id": "7fc4772e-ad18-438f-80a9-26f97990067a",
   "metadata": {},
   "outputs": [
    {
     "name": "stdout",
     "output_type": "stream",
     "text": [
      "Results\n",
      "[('publidate', '2011-02-14T00:00:00Z')]\n",
      "[('publidate', '2011-02-21T00:00:00Z')]\n",
      "[('publidate', '2011-02-07T00:00:00Z')]\n",
      "[('publidate', '2010-04-19T00:00:00Z')]\n",
      "[('publidate', '2010-05-03T00:00:00Z')]\n",
      "[('publidate', '2010-04-12T00:00:00Z')]\n",
      "[('publidate', '2010-10-18T00:00:00Z')]\n",
      "[('publidate', '2010-10-25T00:00:00Z')]\n",
      "[('publidate', '2010-10-11T00:00:00Z')]\n",
      "[('publidate', '2006-04-10T00:00:00Z')]\n",
      "[('publidate', '2005-10-17T00:00:00Z')]\n",
      "[('publidate', '2005-10-10T00:00:00Z')]\n",
      "[('publidate', '2005-09-19T00:00:00Z')]\n",
      "[('publidate', '2005-09-26T00:00:00Z')]\n",
      "[('publidate', '2005-10-03T00:00:00Z')]\n",
      "[('publidate', '2006-02-27T00:00:00Z')]\n",
      "[('publidate', '2006-01-23T00:00:00Z')]\n",
      "[('publidate', '2006-03-20T00:00:00Z')]\n",
      "[('publidate', '2006-03-06T00:00:00Z')]\n",
      "[('publidate', '2006-01-09T00:00:00Z')]\n",
      "20\n"
     ]
    }
   ],
   "source": [
    "#production date retrieves empty, we can use publication date as an alternative\n",
    "\n",
    "queryString = \"\"\"\n",
    "SELECT DISTINCT ?publidate\n",
    "WHERE {   \n",
    "      wd:Q147235 wdt:P527 ?season . #HIMYM hasPart\n",
    "      ?season wdt:P527 ?episode .   #hasPart\n",
    "      \n",
    "      ?episode wdt:P31 wd:Q21191270;  #a tvepisode\n",
    "               wdt:P161 ?actor;       #castmember\n",
    "               wdt:P577 ?publidate    #publidate\n",
    "   \n",
    "}\n",
    "LIMIT 20\n",
    "\"\"\"\n",
    "\n",
    "print(\"Results\")\n",
    "x=run_query(queryString)"
   ]
  },
  {
   "cell_type": "code",
   "execution_count": 50,
   "id": "e85f1aba-a2d6-462d-8dc9-3f12ab01d4fd",
   "metadata": {},
   "outputs": [
    {
     "name": "stdout",
     "output_type": "stream",
     "text": [
      "Results\n",
      "[('publidate', '2014-03-31T00:00:00Z')]\n",
      "[('publidate', '2014-03-31T00:00:00Z')]\n",
      "[('publidate', '2014-03-31T00:00:00Z')]\n",
      "[('publidate', '2014-03-31T00:00:00Z')]\n",
      "[('publidate', '2014-03-31T00:00:00Z')]\n",
      "[('publidate', '2014-03-31T00:00:00Z')]\n",
      "[('publidate', '2014-03-31T00:00:00Z')]\n",
      "[('publidate', '2014-03-31T00:00:00Z')]\n",
      "[('publidate', '2014-03-31T00:00:00Z')]\n",
      "[('publidate', '2014-03-31T00:00:00Z')]\n",
      "[('publidate', '2014-03-31T00:00:00Z')]\n",
      "[('publidate', '2014-03-31T00:00:00Z')]\n",
      "[('publidate', '2014-03-31T00:00:00Z')]\n",
      "[('publidate', '2014-03-31T00:00:00Z')]\n",
      "[('publidate', '2011-10-24T00:00:00Z')]\n",
      "[('publidate', '2011-10-24T00:00:00Z')]\n",
      "[('publidate', '2011-10-24T00:00:00Z')]\n",
      "[('publidate', '2011-10-24T00:00:00Z')]\n",
      "[('publidate', '2011-10-24T00:00:00Z')]\n",
      "[('publidate', '2011-10-24T00:00:00Z')]\n",
      "20\n"
     ]
    }
   ],
   "source": [
    "#We will have to get the most recent publication date of episodes for each actor: let's try with a subquery\n",
    "\n",
    "queryString = \"\"\"\n",
    "SELECT ?publidate\n",
    "WHERE {   \n",
    "          wd:Q147235 wdt:P527 ?season . #HIMYM hasPart\n",
    "          ?season wdt:P527 ?episode . #hasPart\n",
    "          ?episode wdt:P31 wd:Q21191270; #a tvepisode\n",
    "                   wdt:P161 ?actor; #castmember\n",
    "                   wdt:P577 ?publidate #productiondate\n",
    "                   \n",
    "         FILTER(?publidate=?maxdate && ?actor=?inneractor)\n",
    "     {\n",
    "         SELECT ?inneractor (MAX(?publidate2) as ?maxdate)\n",
    "         WHERE {\n",
    "              wd:Q147235 wdt:P527 ?season . #HIMYM hasPart\n",
    "              ?season wdt:P527 ?episode . #hasPart\n",
    "              ?episode wdt:P31 wd:Q21191270; #a tvepisode\n",
    "                       wdt:P161 ?inneractor; #castmember\n",
    "                       wdt:P577 ?publidate2 #productiondate\n",
    "     }\n",
    "         GROUP BY (?inneractor)\n",
    "     }\n",
    "}\n",
    "ORDER BY DESC (?publidate)\n",
    "LIMIT 20\n",
    "\"\"\"\n",
    "\n",
    "print(\"Results\")\n",
    "x=run_query(queryString)\n",
    "\n"
   ]
  },
  {
   "cell_type": "code",
   "execution_count": 55,
   "id": "60ee0031-50e7-4141-8b7e-b825a71a201a",
   "metadata": {},
   "outputs": [
    {
     "name": "stdout",
     "output_type": "stream",
     "text": [
      "Results\n",
      "[('actor', 'http://www.wikidata.org/entity/Q192165'), ('actorName', 'Danny Glover'), ('countfilms', '94')]\n",
      "[('actor', 'http://www.wikidata.org/entity/Q485310'), ('actorName', 'Neil Patrick Harris'), ('countfilms', '84')]\n",
      "[('actor', 'http://www.wikidata.org/entity/Q298777'), ('actorName', 'Michael York'), ('countfilms', '76')]\n",
      "[('actor', 'http://www.wikidata.org/entity/Q311271'), ('actorName', 'John Lithgow'), ('countfilms', '71')]\n",
      "[('actor', 'http://www.wikidata.org/entity/Q202304'), ('actorName', 'Jason Segel'), ('countfilms', '70')]\n",
      "[('actor', 'http://www.wikidata.org/entity/Q49004'), ('actorName', 'Patrick Swayze'), ('countfilms', '63')]\n",
      "[('actor', 'http://www.wikidata.org/entity/Q3045427'), ('actorName', 'George Cheung'), ('countfilms', '58')]\n",
      "[('actor', 'http://www.wikidata.org/entity/Q131332'), ('actorName', 'Amanda Peet'), ('countfilms', '57')]\n",
      "[('actor', 'http://www.wikidata.org/entity/Q2636696'), ('actorName', 'Alan Fudge'), ('countfilms', '56')]\n",
      "[('actor', 'http://www.wikidata.org/entity/Q1332676'), ('actorName', 'William Schallert'), ('countfilms', '54')]\n",
      "[('actor', 'http://www.wikidata.org/entity/Q233882'), ('actorName', 'Frances Conroy'), ('countfilms', '49')]\n",
      "[('actor', 'http://www.wikidata.org/entity/Q236189'), ('actorName', 'Judy Greer'), ('countfilms', '46')]\n",
      "[('actor', 'http://www.wikidata.org/entity/Q255293'), ('actorName', 'Geoff Stults'), ('countfilms', '43')]\n",
      "[('actor', 'http://www.wikidata.org/entity/Q40715'), ('actorName', 'Jennifer Lopez'), ('countfilms', '43')]\n",
      "[('actor', 'http://www.wikidata.org/entity/Q199927'), ('actorName', 'Alyson Hannigan'), ('countfilms', '42')]\n",
      "[('actor', 'http://www.wikidata.org/entity/Q207506'), ('actorName', 'Kyle MacLachlan'), ('countfilms', '41')]\n",
      "[('actor', 'http://www.wikidata.org/entity/Q530646'), ('actorName', 'Ray Wise'), ('countfilms', '41')]\n",
      "[('actor', 'http://www.wikidata.org/entity/Q123849'), ('actorName', 'Jane Seymour'), ('countfilms', '40')]\n",
      "[('actor', 'http://www.wikidata.org/entity/Q200566'), ('actorName', 'Cobie Smulders'), ('countfilms', '40')]\n",
      "[('actor', 'http://www.wikidata.org/entity/Q312705'), ('actorName', 'John Cho'), ('countfilms', '39')]\n",
      "20\n"
     ]
    }
   ],
   "source": [
    "#We can now add the publication date of films where actor played :\n",
    "\n",
    "queryString = \"\"\"\n",
    "SELECT ?actor ?actorName (count(?film) as ?countfilms)\n",
    "WHERE {   \n",
    "          wd:Q147235 wdt:P527 ?season . #HIMYM hasPart\n",
    "          ?season wdt:P527 ?episode . #hasPart\n",
    "          ?episode wdt:P31 wd:Q21191270; #a tvepisode\n",
    "                   wdt:P161 ?actor; #castmember\n",
    "                   wdt:P577 ?publidate #productiondate\n",
    "\n",
    "         FILTER(?publidate=?maxdate && ?actor=?inneractor)\n",
    "     {\n",
    "         SELECT ?inneractor (MAX(?publidate2) as ?maxdate)\n",
    "         WHERE {\n",
    "              wd:Q147235 wdt:P527 ?season . #HIMYM hasPart\n",
    "              ?season wdt:P527 ?episode . #hasPart\n",
    "              ?episode wdt:P31 wd:Q21191270; #a tvepisode\n",
    "                       wdt:P161 ?inneractor; #castmember\n",
    "                       wdt:P577 ?publidate2 #productiondate\n",
    "     }\n",
    "     GROUP BY (?inneractor)\n",
    "     }\n",
    "     \n",
    "     ?film wdt:P31 wd:Q11424;        #a film\n",
    "           wdt:P161 ?actor;          #castmember\n",
    "           wdt:P577 ?publidatefilm.  #publiDate\n",
    "           \n",
    "     ?actor sc:name ?actorName.\n",
    "     \n",
    "     FILTER(?publidatefilm < ?publidate)\n",
    "     \n",
    "} \n",
    "GROUP BY ?actor ?actorName\n",
    "ORDER BY DESC(?countfilms)\n",
    "LIMIT 20\n",
    "\"\"\"\n",
    "\n",
    "print(\"Results\")\n",
    "x=run_query(queryString)"
   ]
  },
  {
   "cell_type": "code",
   "execution_count": 4,
   "id": "bacb2391-0349-4f71-a055-9e8e5ce4aaf9",
   "metadata": {},
   "outputs": [
    {
     "name": "stdout",
     "output_type": "stream",
     "text": [
      "Results\n",
      "Empty\n"
     ]
    }
   ],
   "source": [
    "#Let's try with the property prod date instead of publi (for the films)\n",
    "\n",
    "queryString = \"\"\"\n",
    "SELECT ?actor ?actorName (count(?film) as ?countfilms)\n",
    "WHERE {   \n",
    "      wd:Q147235 wdt:P527 ?season . #HIMYM hasPart\n",
    "      ?season wdt:P527 ?episode . #hasPart\n",
    "      ?episode wdt:P31 wd:Q21191270; #a tvepisode\n",
    "               wdt:P161 ?actor; #castmember\n",
    "               wdt:P577 ?publidate #productiondate\n",
    "               \n",
    "     FILTER(?publidate=?maxdate && ?actor=?inneractor)\n",
    "     {\n",
    "     SELECT ?inneractor (MAX(?publidate2) as ?maxdate)\n",
    "     WHERE {\n",
    "          wd:Q147235 wdt:P527 ?season . #HIMYM hasPart\n",
    "          ?season wdt:P527 ?episode . #hasPart\n",
    "          ?episode wdt:P31 wd:Q21191270; #a tvepisode\n",
    "                   wdt:P161 ?inneractor; #castmember\n",
    "                   wdt:P577 ?publidate2 #productiondate\n",
    "     }\n",
    "     GROUP BY (?inneractor)\n",
    "     }\n",
    "     \n",
    "     ?film wdt:P31 wd:Q11424;        #a film\n",
    "           wdt:P161 ?actor;          #castmember\n",
    "           wdt:P2754 ?publidatefilm. #prodDate \n",
    "           \n",
    "     ?actor sc:name ?actorName.\n",
    "     \n",
    "     FILTER(?publidatefilm < ?publidate)\n",
    "     \n",
    "} \n",
    "GROUP BY ?actor ?actorName\n",
    "ORDER BY DESC(?countfilms)\n",
    "LIMIT 20\n",
    "\"\"\"\n",
    "\n",
    "print(\"Results\")\n",
    "x=run_query(queryString)\n",
    "\n",
    "#lack of prod date also for films, so we will keep the publi date for the answer"
   ]
  },
  {
   "cell_type": "markdown",
   "id": "21894917",
   "metadata": {},
   "source": [
    "Final query for this task"
   ]
  },
  {
   "cell_type": "code",
   "execution_count": 6,
   "id": "0da31eed",
   "metadata": {},
   "outputs": [
    {
     "name": "stdout",
     "output_type": "stream",
     "text": [
      "Results\n",
      "[('actor', 'http://www.wikidata.org/entity/Q192165'), ('actorName', 'Danny Glover'), ('countfilms', '94')]\n",
      "[('actor', 'http://www.wikidata.org/entity/Q485310'), ('actorName', 'Neil Patrick Harris'), ('countfilms', '84')]\n",
      "[('actor', 'http://www.wikidata.org/entity/Q298777'), ('actorName', 'Michael York'), ('countfilms', '76')]\n",
      "[('actor', 'http://www.wikidata.org/entity/Q311271'), ('actorName', 'John Lithgow'), ('countfilms', '71')]\n",
      "[('actor', 'http://www.wikidata.org/entity/Q202304'), ('actorName', 'Jason Segel'), ('countfilms', '70')]\n",
      "[('actor', 'http://www.wikidata.org/entity/Q49004'), ('actorName', 'Patrick Swayze'), ('countfilms', '63')]\n",
      "[('actor', 'http://www.wikidata.org/entity/Q3045427'), ('actorName', 'George Cheung'), ('countfilms', '58')]\n",
      "[('actor', 'http://www.wikidata.org/entity/Q131332'), ('actorName', 'Amanda Peet'), ('countfilms', '57')]\n",
      "[('actor', 'http://www.wikidata.org/entity/Q2636696'), ('actorName', 'Alan Fudge'), ('countfilms', '56')]\n",
      "[('actor', 'http://www.wikidata.org/entity/Q1332676'), ('actorName', 'William Schallert'), ('countfilms', '54')]\n",
      "[('actor', 'http://www.wikidata.org/entity/Q233882'), ('actorName', 'Frances Conroy'), ('countfilms', '49')]\n",
      "[('actor', 'http://www.wikidata.org/entity/Q236189'), ('actorName', 'Judy Greer'), ('countfilms', '46')]\n",
      "[('actor', 'http://www.wikidata.org/entity/Q255293'), ('actorName', 'Geoff Stults'), ('countfilms', '43')]\n",
      "[('actor', 'http://www.wikidata.org/entity/Q40715'), ('actorName', 'Jennifer Lopez'), ('countfilms', '43')]\n",
      "[('actor', 'http://www.wikidata.org/entity/Q199927'), ('actorName', 'Alyson Hannigan'), ('countfilms', '42')]\n",
      "[('actor', 'http://www.wikidata.org/entity/Q207506'), ('actorName', 'Kyle MacLachlan'), ('countfilms', '41')]\n",
      "[('actor', 'http://www.wikidata.org/entity/Q530646'), ('actorName', 'Ray Wise'), ('countfilms', '41')]\n",
      "[('actor', 'http://www.wikidata.org/entity/Q123849'), ('actorName', 'Jane Seymour'), ('countfilms', '40')]\n",
      "[('actor', 'http://www.wikidata.org/entity/Q200566'), ('actorName', 'Cobie Smulders'), ('countfilms', '40')]\n",
      "[('actor', 'http://www.wikidata.org/entity/Q312705'), ('actorName', 'John Cho'), ('countfilms', '39')]\n",
      "[('actor', 'http://www.wikidata.org/entity/Q467496'), ('actorName', 'Marianne Muellerleile'), ('countfilms', '38')]\n",
      "[('actor', 'http://www.wikidata.org/entity/Q329744'), ('actorName', 'Martin Short'), ('countfilms', '36')]\n",
      "[('actor', 'http://www.wikidata.org/entity/Q978367'), ('actorName', 'Jesse Heiman'), ('countfilms', '32')]\n",
      "[('actor', 'http://www.wikidata.org/entity/Q471128'), ('actorName', 'Chi McBride'), ('countfilms', '32')]\n",
      "[('actor', 'http://www.wikidata.org/entity/Q545172'), ('actorName', 'Matt Frewer'), ('countfilms', '31')]\n",
      "[('actor', 'http://www.wikidata.org/entity/Q199929'), ('actorName', 'Jennifer Morrison'), ('countfilms', '31')]\n",
      "[('actor', 'http://www.wikidata.org/entity/Q311976'), ('actorName', 'Wayne Knight'), ('countfilms', '31')]\n",
      "[('actor', 'http://www.wikidata.org/entity/Q233042'), ('actorName', 'Nancy Travis'), ('countfilms', '30')]\n",
      "[('actor', 'http://www.wikidata.org/entity/Q614851'), ('actorName', 'Eric Braeden'), ('countfilms', '30')]\n",
      "[('actor', 'http://www.wikidata.org/entity/Q265031'), ('actorName', 'Renée Taylor'), ('countfilms', '29')]\n",
      "30\n"
     ]
    }
   ],
   "source": [
    "# Final query\n",
    "#I use a subquery to get the latest date release of the episodes an actor played in, and filter with the release date of films he/she played in\n",
    "\n",
    "queryString = \"\"\"\n",
    "SELECT ?actor ?actorName (count(?film) as ?countfilms)\n",
    "WHERE {   \n",
    "      wd:Q147235 wdt:P527 ?season . #HIMYM hasPart\n",
    "      ?season wdt:P527 ?episode . #hasPart\n",
    "      ?episode wdt:P31 wd:Q21191270; #a tvepisode\n",
    "               wdt:P161 ?actor; #castmember\n",
    "               wdt:P577 ?publidate #productiondate\n",
    "               \n",
    "     FILTER(?publidate=?maxdate && ?actor=?inneractor)\n",
    "     {\n",
    "     SELECT ?inneractor (MAX(?publidate2) as ?maxdate)\n",
    "     WHERE {\n",
    "          wd:Q147235 wdt:P527 ?season . #HIMYM hasPart\n",
    "          ?season wdt:P527 ?episode . #hasPart\n",
    "          ?episode wdt:P31 wd:Q21191270; #a tvepisode\n",
    "                   wdt:P161 ?inneractor; #castmember\n",
    "                   wdt:P577 ?publidate2 #productiondate\n",
    "     }\n",
    "     GROUP BY (?inneractor)\n",
    "     }\n",
    "     \n",
    "     ?film wdt:P31 wd:Q11424;       #a film\n",
    "           wdt:P161 ?actor;         #castmember\n",
    "           wdt:P577 ?publidatefilm. #publidate\n",
    "           \n",
    "     ?actor sc:name ?actorName.\n",
    "     \n",
    "     FILTER(?publidatefilm < ?publidate)\n",
    "     \n",
    "} \n",
    "GROUP BY ?actor ?actorName\n",
    "ORDER BY DESC(?countfilms)\n",
    "LIMIT 30\n",
    "\"\"\"\n",
    "\n",
    "print(\"Results\")\n",
    "x=run_query(queryString)"
   ]
  },
  {
   "cell_type": "markdown",
   "id": "071a61e4",
   "metadata": {
    "tags": []
   },
   "source": [
    "## Task 5\n",
    "Compare HIMYM with the tv series \"The Office (US)\" in terms of number of seasons, episods and cast members (the result set must be two elements -one for each tv series- of tv series IRI, label, #seasons, #episodes and #cast members)."
   ]
  },
  {
   "cell_type": "code",
   "execution_count": 7,
   "id": "badce550",
   "metadata": {},
   "outputs": [
    {
     "name": "stdout",
     "output_type": "stream",
     "text": [
      "Results\n",
      "[('series', 'http://www.wikidata.org/entity/Q147235'), ('seriesName', 'How I Met Your Mother')]\n",
      "[('series', 'http://www.wikidata.org/entity/Q23831'), ('seriesName', 'The Office')]\n",
      "2\n"
     ]
    }
   ],
   "source": [
    "# For this task we will need the keyword VALUES. Let's just retun the two series iri and label (the office bgp is given)\n",
    "\n",
    "queryString = \"\"\"\n",
    "SELECT DISTINCT ?series ?seriesName\n",
    "WHERE {\n",
    "   VALUES ?series { wd:Q147235 wd:Q23831 }.\n",
    "   \n",
    "   ?series sc:name ?seriesName.\n",
    "}\n",
    "\n",
    "LIMIT 30\n",
    "\"\"\"\n",
    "\n",
    "print(\"Results\")\n",
    "x=run_query(queryString)"
   ]
  },
  {
   "cell_type": "code",
   "execution_count": 8,
   "id": "bb33d139-e207-4b46-9b60-2a5a8f0692b4",
   "metadata": {},
   "outputs": [
    {
     "name": "stdout",
     "output_type": "stream",
     "text": [
      "Results\n",
      "[('series', 'http://www.wikidata.org/entity/Q147235'), ('seriesName', 'How I Met Your Mother'), ('seasonCount', '9'), ('episodeCount', '208'), ('castmemberCount', '480')]\n",
      "[('series', 'http://www.wikidata.org/entity/Q23831'), ('seriesName', 'The Office'), ('seasonCount', '9'), ('episodeCount', '201'), ('castmemberCount', '25')]\n",
      "2\n"
     ]
    }
   ],
   "source": [
    "# We now need to count the 3 asked variables for both series\n",
    "\n",
    "queryString = \"\"\"\n",
    "SELECT DISTINCT ?series ?seriesName (count(distinct ?season) as ?seasonCount) (count(distinct ?episode) as ?episodeCount) (count(distinct ?castmember) as ?castmemberCount) \n",
    "WHERE {\n",
    "   VALUES ?series {wd:Q147235 wd:Q23831}\n",
    "   \n",
    "   ?series wdt:P527 ?season ;#HIMYM hasPart\n",
    "           wdt:P161 ?castmember .\n",
    "   ?season wdt:P527 ?episode . #hasPart\n",
    "   \n",
    "   ?series sc:name ?seriesName\n",
    "}\n",
    "\n",
    "LIMIT 30\n",
    "\"\"\"\n",
    "\n",
    "print(\"Results\")\n",
    "x=run_query(queryString)"
   ]
  },
  {
   "cell_type": "markdown",
   "id": "17a7de45",
   "metadata": {},
   "source": [
    "Final query for this task"
   ]
  },
  {
   "cell_type": "code",
   "execution_count": 70,
   "id": "c91f778c",
   "metadata": {},
   "outputs": [
    {
     "name": "stdout",
     "output_type": "stream",
     "text": [
      "Results\n",
      "[('series', 'http://www.wikidata.org/entity/Q147235'), ('seriesName', 'How I Met Your Mother'), ('seasonCount', '9'), ('episodeCount', '208'), ('castmemberCount', '480')]\n",
      "[('series', 'http://www.wikidata.org/entity/Q23831'), ('seriesName', 'The Office'), ('seasonCount', '9'), ('episodeCount', '201'), ('castmemberCount', '25')]\n",
      "2\n"
     ]
    }
   ],
   "source": [
    "# Final Query\n",
    "\n",
    "queryString = \"\"\"\n",
    "SELECT DISTINCT ?series ?seriesName (count(distinct ?season) as ?seasonCount) (count(distinct ?episode) as ?episodeCount) (count(distinct ?castmember) as ?castmemberCount) \n",
    "WHERE {\n",
    "   VALUES ?series {wd:Q147235 wd:Q23831}\n",
    "   \n",
    "   ?series wdt:P527 ?season ;#HIMYM hasPart\n",
    "           wdt:P161 ?castmember .\n",
    "   ?season wdt:P527 ?episode . #hasPart\n",
    "   \n",
    "   ?series sc:name ?seriesName\n",
    "}\n",
    "\n",
    "LIMIT 30\n",
    "\"\"\"\n",
    "\n",
    "print(\"Results\")\n",
    "x=run_query(queryString)"
   ]
  },
  {
   "cell_type": "markdown",
   "id": "e188ec32",
   "metadata": {},
   "source": [
    "## Task 6\n",
    "Return how many of the actors who are members of the cast of the tv series have [Kavin Bacon number](https://en.wikipedia.org/wiki/Six_Degrees_of_Kevin_Bacon#:~:text=Kevin%20Bacon%20himself%20has%20a,Bacon%20number%20is%20N%2B1.) equal to 2 (the result set must be a list of couples actor/actress IRI and label)."
   ]
  },
  {
   "cell_type": "code",
   "execution_count": 9,
   "id": "d6396bfd",
   "metadata": {},
   "outputs": [
    {
     "name": "stdout",
     "output_type": "stream",
     "text": [
      "Results\n",
      "Empty\n"
     ]
    }
   ],
   "source": [
    "# According to the link, bacon number applies to actors, let's check if the property exists in wikidata :\n",
    "\n",
    "queryString = \"\"\"\n",
    "SELECT DISTINCT ?p ?name\n",
    "WHERE {\n",
    "   ?actor wdt:P31 wd:Q33999; #actor\n",
    "          ?p ?obj. \n",
    "   \n",
    "   ?p sc:name ?name.\n",
    "   FILTER(REGEX(?name,\"([Bb]acon|number|distance|degree)\"))\n",
    "}\n",
    "LIMIT 20\n",
    "\"\"\"\n",
    "\n",
    "print(\"Results\")\n",
    "x=run_query(queryString)"
   ]
  },
  {
   "cell_type": "code",
   "execution_count": 10,
   "id": "e123cc65-3618-44f2-9932-cdcf2fbee490",
   "metadata": {},
   "outputs": [
    {
     "name": "stdout",
     "output_type": "stream",
     "text": [
      "Results\n",
      "Empty\n"
     ]
    }
   ],
   "source": [
    "#Or object :\n",
    "\n",
    "queryString = \"\"\"\n",
    "SELECT DISTINCT ?obj ?Oname\n",
    "WHERE {\n",
    "\n",
    "      ?actor wdt:P31 wd:Q33999; #a actor\n",
    "          ?p ?obj. \n",
    "   \n",
    "   ?obj sc:name ?Oname.\n",
    "   FILTER(REGEX(?Oname,\"([Bb]acon|number|distance|degree)\"))\n",
    "}\n",
    "LIMIT 20\n",
    "\"\"\"\n",
    "\n",
    "print(\"Results\")\n",
    "x=run_query(queryString)"
   ]
  },
  {
   "cell_type": "code",
   "execution_count": 3,
   "id": "43c3f960-7e4f-43a0-a0fb-19af9ccfeda9",
   "metadata": {},
   "outputs": [
    {
     "name": "stdout",
     "output_type": "stream",
     "text": [
      "Results\n",
      "[('actor', 'http://www.wikidata.org/entity/Q3454165'), ('Actorname', 'Kevin Bacon')]\n",
      "1\n"
     ]
    }
   ],
   "source": [
    "#We did not find anything using regex on prop/obj related to actors.\n",
    "#Let's get directly Kevin Bacon's bgp as he supposedly should be related to bacon number\n",
    "\n",
    "queryString = \"\"\"\n",
    "SELECT DISTINCT ?actor ?Actorname\n",
    "WHERE {\n",
    "\n",
    "    ?piece wdt:P161 ?actor. #castmember\n",
    "   \n",
    "   ?actor sc:name ?Actorname.\n",
    "   FILTER(REGEX(?Actorname,\"([Kk]evin [Bb]acon)\"))\n",
    "}\n",
    "LIMIT 20\n",
    "\"\"\"\n",
    "\n",
    "print(\"Results\")\n",
    "x=run_query(queryString)"
   ]
  },
  {
   "cell_type": "code",
   "execution_count": 10,
   "id": "4c582be3-167a-4854-b497-d8c7e6efcf91",
   "metadata": {},
   "outputs": [
    {
     "name": "stdout",
     "output_type": "stream",
     "text": [
      "Results\n",
      "Empty\n"
     ]
    }
   ],
   "source": [
    "#Let's explore his related prop\n",
    "\n",
    "queryString = \"\"\"\n",
    "SELECT DISTINCT ?p ?name\n",
    "WHERE {\n",
    "   wd:Q3454165 ?p ?obj . #KevinBacon\n",
    "\n",
    "   ?p sc:name ?name.\n",
    "   FILTER(REGEX(?name,\"([Bb]acon|number|distance|degree)\"))\n",
    "\n",
    "}\n",
    "LIMIT 80\n",
    "\"\"\"\n",
    "\n",
    "print(\"Results\")\n",
    "x=run_query(queryString)"
   ]
  },
  {
   "cell_type": "code",
   "execution_count": 6,
   "id": "2645a595-2d82-4c39-99a1-5acb13e0ec51",
   "metadata": {},
   "outputs": [
    {
     "name": "stdout",
     "output_type": "stream",
     "text": [
      "Results\n",
      "[('obj', 'http://www.wikidata.org/entity/Q3308009'), ('name', 'Michael Bacon')]\n",
      "[('obj', 'http://www.wikidata.org/entity/Q6951606'), ('name', 'Bacon')]\n",
      "[('obj', 'http://www.wikidata.org/entity/Q3491343'), ('name', 'Sosie Bacon')]\n",
      "[('obj', 'http://www.wikidata.org/entity/Q17085462'), ('name', 'Kevin Bacon filmography')]\n",
      "[('obj', 'http://www.wikidata.org/entity/Q1285964'), ('name', 'Edmund Bacon')]\n",
      "[('obj', 'http://www.wikidata.org/entity/Q32710290'), ('name', 'Category:Kevin Bacon')]\n",
      "[('obj', 'http://www.wikidata.org/entity/Q3519857'), ('name', 'The Bacon Brothers')]\n",
      "[('obj', 'http://www.wikidata.org/entity/Q8455196'), ('name', 'Category:Films directed by Kevin Bacon')]\n",
      "8\n"
     ]
    }
   ],
   "source": [
    "#same for objects\n",
    "\n",
    "queryString = \"\"\"\n",
    "SELECT DISTINCT ?obj ?name\n",
    "WHERE {\n",
    "   wd:Q3454165 ?p ?obj . #KevinBacon\n",
    "\n",
    "   ?obj sc:name ?name.\n",
    "    FILTER(REGEX(?name,\"([Bb]acon|number|distance|degree)\"))\n",
    "\n",
    "}\n",
    "LIMIT 20\n",
    "\"\"\"\n",
    "\n",
    "print(\"Results\")\n",
    "x=run_query(queryString)"
   ]
  },
  {
   "cell_type": "code",
   "execution_count": 11,
   "id": "0fc5238a-998d-432f-ae50-24d6f25b7675",
   "metadata": {},
   "outputs": [
    {
     "name": "stdout",
     "output_type": "stream",
     "text": [
      "Results\n",
      "[('obj', 'http://www.wikidata.org/entity/Q81209971'), ('name', 'Friar Bacon’s Brass Head')]\n",
      "[('obj', 'http://www.wikidata.org/entity/Q722700'), ('name', 'Erdős–Bacon number')]\n",
      "[('obj', 'http://www.wikidata.org/entity/Q70706634'), ('name', 'Ysgol Gynradd Pencarnisiog, Pencarnisiog, Tŷ Croes, Anglesey, LL63 5RY : summary report for parents on the inspection under Section 28 of the Education Act 2005 : school number : 660/2160 : date of inspection : 16/06/2009')]\n",
      "[('obj', 'http://www.wikidata.org/entity/Q70694861'), ('name', 'Summary report for parents : inspection under section 10 of the Schools Inspection Act 1966 : Ysgol Botwnnog, Botwnnog, Llŷn, Gwynedd, LL53 8PY : school number : 661/4003 : date of the inspection : 5-9 November, 2001')]\n",
      "[('obj', 'http://www.wikidata.org/entity/Q69648989'), ('name', 'Bodnant Junior School, Nant Hall Road, Prestatyn, Denbighshire, LL19 9NW : inspection under Section 28 of the Education Act 2005 : a summary report for parents : school number : 6632079 : date of inspection : 19 November 2007')]\n",
      "[('obj', 'http://www.wikidata.org/entity/Q69649039'), ('name', 'St Dogmaels Community Primary School, St Dogmaels, Cardigan, Pembrokeshire, SA43 3ET : Inspection under Section 28 of the Education Act 2005 : summary report for parents : school number : 6682253 : date of inspection : 26/06/07')]\n",
      "[('obj', 'http://www.wikidata.org/entity/Q69649034'), ('name', \"St. Julian's Junior School, Beaufort Road, Newport, NP9 7UB : inspection under Section 28 of the Education Act 2005 : summary report for parents : school number : 6802034 : date of inspection : 22 October 2007\")]\n",
      "[('obj', 'http://www.wikidata.org/entity/Q69649046'), ('name', 'The Hollies Special School, Bryn Heulog, Pentwyn, Cardiff, CF23 7XG : inspection under Section 28 of the Education Act 2005 : summary report for parents : school number : 6817019 : date of inspection : 18/06/07')]\n",
      "[('obj', 'http://www.wikidata.org/entity/Q84710012'), ('name', 'Ysgol Gymunedol Maenclochog, Maenclochog, Clunderwen, Sir Benfro, SA66 7LB : inspection under Section 10 of the Schools Inspections Act 1996 : summary for parents : school number : 668/2233 : date of inspection : 6 - 8 June, 2006')]\n",
      "[('obj', 'http://www.wikidata.org/entity/Q70695915'), ('name', 'Ysgol Gyfun Rhydfelen, Rhoddfa [sic] Glyndŵr, Rhydyfelin, Pontypridd, CF37 5NU : summary report for parents : inspection under Section 10 of the Schools Inspection Act 1996 : school number : 574/4054 : date of inspection : 3-6 April, 2000')]\n",
      "[('obj', 'http://www.wikidata.org/entity/Q69648987'), ('name', 'A summary for parents on the inspection of Brynmawr Comprehensive School, Rhydw, Brynmawr, Gwent, School number 677/5401 : date of inspection : 5-9 November 2001 March')]\n",
      "[('obj', 'http://www.wikidata.org/entity/Q69649003'), ('name', 'Llanelwedd C.I.W. Primary School, Llanelwedd, Builth Wells, Powys, LD2 3TY : inspection under section 28 of the Education Act 2005 : a summary report for parents : school number : 6663037 : date of inspection : 24/09/07')]\n",
      "[('obj', 'http://www.wikidata.org/entity/Q70705057'), ('name', \"St. Cuthbert's Roman Catholic Primary School, Letton Road, Cardiff Bay, Cardiff, CF10 4AB : summary report for parents on the inspection under Section 28 of the Education Act 2005 : school number : 681/3323 : date of inspection : 22/06/2009\")]\n",
      "[('obj', 'http://www.wikidata.org/entity/Q4738434'), ('name', 'Always Outnumbered')]\n",
      "[('obj', 'http://www.wikidata.org/entity/Q69648999'), ('name', 'Forden C.I.W. School, Forden, SY21 8NE : inspection under Section 28 of the Education Act 2005 : Summary report for parents : School number : 6663016 : date of inspection : 02/10/07')]\n",
      "[('obj', 'http://www.wikidata.org/entity/Q69649024'), ('name', 'Orielton C. P. School, Hundleton, Pembroke, Pembrokeshire, SA71 5RD : inspection under Section 28 of the Education Act 2005 : summary report for parents : school number : 6682219 : date of inspection : 26th June 2007')]\n",
      "[('obj', 'http://www.wikidata.org/entity/Q70206890'), ('name', 'A report on the quality of secondary education in Llanrumney High School, Ball Road, Cardiff, CF3 4YW : summary report for parents : school number : 6814052 : date of inspection : 16/10/06 - 20/10/06')]\n",
      "[('obj', 'http://www.wikidata.org/entity/Q69649014'), ('name', 'Llanfabon Infants School, Bryncelyn Avenue, Nelson, Treharris, CF46 6HL : inspection under Section 28 of the Education Act 2005 : summary report for parents : school number : 6762171 : date of inspection : 02 June 2007')]\n",
      "[('obj', 'http://www.wikidata.org/entity/Q56492243'), ('name', 'Winter landscape with elegant skaters on a frozen lake, ice-breakers and a town in the distance')]\n",
      "19\n"
     ]
    }
   ],
   "source": [
    "#Let's try a different approach by exploring the given  \"wdt:P4969\tderivative work    predicate\"\n",
    "#It is FROM (so maybe derivated from) kevin bacon, let's check it with regex\n",
    "\n",
    "queryString = \"\"\"\n",
    "SELECT DISTINCT ?obj ?name\n",
    "WHERE {\n",
    "   ?s wdt:P4969 ?obj . #derivativeWork\n",
    "\n",
    "   ?obj sc:name ?name.\n",
    "    FILTER(REGEX(?name,\"([Bb]acon|number|distance|degree)\"))\n",
    "\n",
    "}\n",
    "LIMIT 20\n",
    "\"\"\"\n",
    "\n",
    "print(\"Results\")\n",
    "x=run_query(queryString)"
   ]
  },
  {
   "cell_type": "code",
   "execution_count": 15,
   "id": "0734179c-142b-42e8-a58f-17aa8dc6bbc2",
   "metadata": {},
   "outputs": [
    {
     "name": "stdout",
     "output_type": "stream",
     "text": [
      "Results\n",
      "Empty\n"
     ]
    }
   ],
   "source": [
    "#We found the BGP for : [('obj', 'http://www.wikidata.org/entity/Q722700'), ('name', 'Erdős–Bacon number')]\n",
    "#Bacon number could be a subclass of it :\n",
    "\n",
    "queryString = \"\"\"\n",
    "SELECT DISTINCT ?s ?name\n",
    "WHERE {\n",
    "   ?s wdt:P279 wd:Q722700 . #subclassOf erdosBaconNumber\n",
    "\n",
    "   ?s sc:name ?name.\n",
    "}\n",
    "LIMIT 20\n",
    "\"\"\"\n",
    "\n",
    "print(\"Results\")\n",
    "x=run_query(queryString)"
   ]
  },
  {
   "cell_type": "code",
   "execution_count": 16,
   "id": "cf33e52b-308f-4ba1-9307-539dac59e65b",
   "metadata": {},
   "outputs": [
    {
     "name": "stdout",
     "output_type": "stream",
     "text": [
      "Results\n",
      "[('obj', 'http://www.wikidata.org/entity/Q173746'), ('name', 'Paul Erdős')]\n",
      "[('obj', 'http://www.wikidata.org/entity/Q42'), ('name', 'Douglas Adams')]\n",
      "[('obj', 'http://www.wikidata.org/entity/Q3454165'), ('name', 'Kevin Bacon')]\n",
      "[('obj', 'http://www.wikidata.org/entity/Q25972335'), ('name', 'Bacon number')]\n",
      "[('obj', 'http://www.wikidata.org/entity/Q2742711'), ('name', 'distance')]\n",
      "[('obj', 'http://www.wikidata.org/entity/Q243972'), ('name', 'Erdős number')]\n",
      "6\n"
     ]
    }
   ],
   "source": [
    "#It's not, let's see then the related prop and obj\n",
    "\n",
    "queryString = \"\"\"\n",
    "SELECT DISTINCT ?obj ?name\n",
    "WHERE {\n",
    "   wd:Q722700 ?p ?obj . #erdosBaconNumber\n",
    "\n",
    "   ?obj sc:name ?name.\n",
    "}\n",
    "LIMIT 20\n",
    "\"\"\"\n",
    "\n",
    "print(\"Results\")\n",
    "x=run_query(queryString)"
   ]
  },
  {
   "cell_type": "code",
   "execution_count": 3,
   "id": "a094bca9-188c-48a4-980b-ac169bbbfc79",
   "metadata": {},
   "outputs": [
    {
     "name": "stdout",
     "output_type": "stream",
     "text": [
      "Results\n",
      "[('p', 'http://www.wikidata.org/prop/direct/P1269'), ('pname', 'facet of'), ('objType', 'http://www.wikidata.org/entity/Q14947863'), ('name', 'parlour game')]\n",
      "[('p', 'http://www.wikidata.org/prop/direct/P138'), ('pname', 'named after'), ('objType', 'http://www.wikidata.org/entity/Q5'), ('name', 'human')]\n",
      "[('p', 'http://www.wikidata.org/prop/direct/P31'), ('pname', 'instance of'), ('objType', 'http://www.wikidata.org/entity/Q865746'), ('name', 'metric function')]\n",
      "[('p', 'http://www.wikidata.org/prop/direct/P4969'), ('pname', 'derivative work'), ('objType', 'http://www.wikidata.org/entity/Q2742711'), ('name', 'distance')]\n",
      "4\n"
     ]
    }
   ],
   "source": [
    "#We found the bgp of bacon number, let's find how it is related to people (actors)\n",
    "\n",
    "queryString = \"\"\"\n",
    "SELECT DISTINCT ?p ?pname ?objType ?name\n",
    "WHERE {\n",
    "   wd:Q25972335 ?p ?obj.\n",
    "   ?obj wdt:P31 ?objType.\n",
    "   \n",
    "   ?objType sc:name ?name.\n",
    "   ?p sc:name ?pname\n",
    "}\n",
    "LIMIT 20\n",
    "\"\"\"\n",
    "\n",
    "print(\"Results\")\n",
    "x=run_query(queryString)"
   ]
  },
  {
   "cell_type": "code",
   "execution_count": 64,
   "id": "d1d47815-8123-44a5-b23c-359c16b43cc8",
   "metadata": {},
   "outputs": [
    {
     "name": "stdout",
     "output_type": "stream",
     "text": [
      "Results\n",
      "[('actor', 'http://www.wikidata.org/entity/Q15867224'), ('actorName', \"Mark O'Brien\")]\n",
      "[('actor', 'http://www.wikidata.org/entity/Q16185788'), ('actorName', 'Kyle Catlett')]\n",
      "[('actor', 'http://www.wikidata.org/entity/Q269891'), ('actorName', 'Julianna Guill')]\n",
      "[('actor', 'http://www.wikidata.org/entity/Q391359'), ('actorName', 'David Harbour')]\n",
      "[('actor', 'http://www.wikidata.org/entity/Q449580'), ('actorName', 'Lynne Thigpen')]\n",
      "[('actor', 'http://www.wikidata.org/entity/Q918866'), ('actorName', 'Troy Garity')]\n",
      "[('actor', 'http://www.wikidata.org/entity/Q1101612'), ('actorName', 'Clint Howard')]\n",
      "[('actor', 'http://www.wikidata.org/entity/Q164328'), ('actorName', 'David Koechner')]\n",
      "[('actor', 'http://www.wikidata.org/entity/Q189400'), ('actorName', 'Brooke Shields')]\n",
      "[('actor', 'http://www.wikidata.org/entity/Q19609853'), ('actorName', 'Eloy Casados')]\n",
      "[('actor', 'http://www.wikidata.org/entity/Q198684'), ('actorName', 'Wayne Duvall')]\n",
      "[('actor', 'http://www.wikidata.org/entity/Q2052002'), ('actorName', 'Stanley Anderson')]\n",
      "[('actor', 'http://www.wikidata.org/entity/Q312705'), ('actorName', 'John Cho')]\n",
      "[('actor', 'http://www.wikidata.org/entity/Q3376428'), ('actorName', 'Peter Appel')]\n",
      "[('actor', 'http://www.wikidata.org/entity/Q40523'), ('actorName', 'Julia Roberts')]\n",
      "[('actor', 'http://www.wikidata.org/entity/Q434291'), ('actorName', 'Rade Šerbedžija')]\n",
      "[('actor', 'http://www.wikidata.org/entity/Q451830'), ('actorName', 'Lilyan Chauvin')]\n",
      "[('actor', 'http://www.wikidata.org/entity/Q461954'), ('actorName', 'Beth Littleford')]\n",
      "[('actor', 'http://www.wikidata.org/entity/Q488723'), ('actorName', 'Loren Dean')]\n",
      "[('actor', 'http://www.wikidata.org/entity/Q526620'), ('actorName', 'Alfre Woodard')]\n",
      "20\n"
     ]
    }
   ],
   "source": [
    "#It looks like there is no Bacon Number individuals in the db, nor that this class is related to any human \n",
    "#we will change strategy and calculate it ourselves :\n",
    "#If an actor played in the same piece as Kevin Bacon, his bacon number is 1, as below :\n",
    "\n",
    "queryString = \"\"\"\n",
    "SELECT DISTINCT ?actor ?actorName \n",
    "WHERE {\n",
    "   ?piece wdt:P161 wd:Q3454165; #castmember KevinBacon\n",
    "          wdt:P161 ?actor. #castmember\n",
    "\n",
    "    ?actor sc:name ?actorName.\n",
    "}\n",
    "LIMIT 20\n",
    "\"\"\"\n",
    "\n",
    "print(\"Results\")\n",
    "x=run_query(queryString)\n"
   ]
  },
  {
   "cell_type": "code",
   "execution_count": 67,
   "id": "b8aab517-8c08-493b-9dcd-9db60b676a27",
   "metadata": {},
   "outputs": [
    {
     "name": "stdout",
     "output_type": "stream",
     "text": [
      "Results\n",
      "[('actor2', 'http://www.wikidata.org/entity/Q1354565'), ('actor2Name', 'Julian Wadham')]\n",
      "[('actor2', 'http://www.wikidata.org/entity/Q18162913'), ('actor2Name', 'Callum Turner')]\n",
      "[('actor2', 'http://www.wikidata.org/entity/Q17100475'), ('actor2Name', 'Brian Kubach')]\n",
      "[('actor2', 'http://www.wikidata.org/entity/Q266888'), ('actor2Name', 'Vinessa Shaw')]\n",
      "[('actor2', 'http://www.wikidata.org/entity/Q5799862'), ('actor2Name', 'Josh Helman')]\n",
      "[('actor2', 'http://www.wikidata.org/entity/Q2151703'), ('actor2Name', 'James Murtaugh')]\n",
      "[('actor2', 'http://www.wikidata.org/entity/Q6758083'), ('actor2Name', 'Marcus Carl Franklin')]\n",
      "[('actor2', 'http://www.wikidata.org/entity/Q504338'), ('actor2Name', 'Joshua Cox')]\n",
      "[('actor2', 'http://www.wikidata.org/entity/Q16013023'), ('actor2Name', 'William Lanteau')]\n",
      "[('actor2', 'http://www.wikidata.org/entity/Q20973982'), ('actor2Name', 'Doug McKeon')]\n",
      "[('actor2', 'http://www.wikidata.org/entity/Q271883'), ('actor2Name', 'Melinda Dillon')]\n",
      "[('actor2', 'http://www.wikidata.org/entity/Q275476'), ('actor2Name', 'Kay Lenz')]\n",
      "[('actor2', 'http://www.wikidata.org/entity/Q364822'), ('actor2Name', 'Scott Foley')]\n",
      "[('actor2', 'http://www.wikidata.org/entity/Q441617'), ('actor2Name', 'Gabrielle Miller')]\n",
      "[('actor2', 'http://www.wikidata.org/entity/Q445242'), ('actor2Name', 'Josh Ryan Evans')]\n",
      "[('actor2', 'http://www.wikidata.org/entity/Q446104'), ('actor2Name', 'Marika Domińczyk')]\n",
      "[('actor2', 'http://www.wikidata.org/entity/Q450548'), ('actor2Name', 'Tanja Reichert')]\n",
      "[('actor2', 'http://www.wikidata.org/entity/Q452552'), ('actor2Name', 'Grand L. Bush')]\n",
      "[('actor2', 'http://www.wikidata.org/entity/Q453798'), ('actor2Name', 'Amanda Brooks')]\n",
      "[('actor2', 'http://www.wikidata.org/entity/Q465134'), ('actor2Name', 'Kane Hodder')]\n",
      "20\n"
     ]
    }
   ],
   "source": [
    "#Let's get now the actors with a bacon number of 2\n",
    "\n",
    "#If actor2 has a bacon number of 2, it means that :\n",
    "#We need to find an actor1 who played in a piece1 where Kevin Bacon also played\n",
    "#Then we find a piece2 different from piece 1 where actor1 and actor2 played but not Kevin Bacon (actor 1 and 2 being 2 different people)\n",
    "\n",
    "queryString = \"\"\"\n",
    "SELECT DISTINCT ?actor2 ?actor2Name \n",
    "WHERE {\n",
    "   ?piece1 wdt:P161 wd:Q3454165; #castmember KevinBacon\n",
    "          wdt:P161 ?actor1. #castmember\n",
    "    \n",
    "    ?piece2 wdt:P161 ?actor1;\n",
    "            wdt:P161 ?actor2.\n",
    "    \n",
    "    FILTER(?actor1 != wd:Q3454165 && ?actor2 != wd:Q3454165 && ?actor1!=?actor2 && ?piece1!=?piece2).\n",
    "    \n",
    "    ?actor2 sc:name ?actor2Name.\n",
    "}\n",
    "LIMIT 20\n",
    "\"\"\"\n",
    "\n",
    "print(\"Results\")\n",
    "x=run_query(queryString)"
   ]
  },
  {
   "cell_type": "code",
   "execution_count": 66,
   "id": "243a2060-bc0e-4ca6-bc39-8240b224afcd",
   "metadata": {},
   "outputs": [
    {
     "name": "stdout",
     "output_type": "stream",
     "text": [
      "Results\n",
      "[('actor2', 'http://www.wikidata.org/entity/Q1354565'), ('actor2Name', 'Julian Wadham')]\n",
      "[('actor2', 'http://www.wikidata.org/entity/Q18162913'), ('actor2Name', 'Callum Turner')]\n",
      "[('actor2', 'http://www.wikidata.org/entity/Q17100475'), ('actor2Name', 'Brian Kubach')]\n",
      "[('actor2', 'http://www.wikidata.org/entity/Q266888'), ('actor2Name', 'Vinessa Shaw')]\n",
      "[('actor2', 'http://www.wikidata.org/entity/Q5799862'), ('actor2Name', 'Josh Helman')]\n",
      "[('actor2', 'http://www.wikidata.org/entity/Q2151703'), ('actor2Name', 'James Murtaugh')]\n",
      "[('actor2', 'http://www.wikidata.org/entity/Q6758083'), ('actor2Name', 'Marcus Carl Franklin')]\n",
      "[('actor2', 'http://www.wikidata.org/entity/Q504338'), ('actor2Name', 'Joshua Cox')]\n",
      "[('actor2', 'http://www.wikidata.org/entity/Q16013023'), ('actor2Name', 'William Lanteau')]\n",
      "[('actor2', 'http://www.wikidata.org/entity/Q20973982'), ('actor2Name', 'Doug McKeon')]\n",
      "[('actor2', 'http://www.wikidata.org/entity/Q271883'), ('actor2Name', 'Melinda Dillon')]\n",
      "[('actor2', 'http://www.wikidata.org/entity/Q275476'), ('actor2Name', 'Kay Lenz')]\n",
      "[('actor2', 'http://www.wikidata.org/entity/Q364822'), ('actor2Name', 'Scott Foley')]\n",
      "[('actor2', 'http://www.wikidata.org/entity/Q441617'), ('actor2Name', 'Gabrielle Miller')]\n",
      "[('actor2', 'http://www.wikidata.org/entity/Q445242'), ('actor2Name', 'Josh Ryan Evans')]\n",
      "[('actor2', 'http://www.wikidata.org/entity/Q446104'), ('actor2Name', 'Marika Domińczyk')]\n",
      "[('actor2', 'http://www.wikidata.org/entity/Q450548'), ('actor2Name', 'Tanja Reichert')]\n",
      "[('actor2', 'http://www.wikidata.org/entity/Q452552'), ('actor2Name', 'Grand L. Bush')]\n",
      "[('actor2', 'http://www.wikidata.org/entity/Q453798'), ('actor2Name', 'Amanda Brooks')]\n",
      "[('actor2', 'http://www.wikidata.org/entity/Q465134'), ('actor2Name', 'Kane Hodder')]\n",
      "20\n"
     ]
    }
   ],
   "source": [
    "#Checking if results are the same using multiple filters \n",
    "\n",
    "queryString = \"\"\"\n",
    "SELECT DISTINCT ?actor2 ?actor2Name \n",
    "WHERE {\n",
    "   ?piece1 wdt:P161 wd:Q3454165; #castmember KevinBacon\n",
    "          wdt:P161 ?actor1. #castmember\n",
    "    \n",
    "    ?piece2 wdt:P161 ?actor1;\n",
    "            wdt:P161 ?actor2.\n",
    "    \n",
    "    FILTER(?actor1 != wd:Q3454165). \n",
    "    FILTER(?actor2 != wd:Q3454165).\n",
    "    FILTER(?actor1 != ?actor2).\n",
    "    FILTER(?piece1 != ?piece2).\n",
    "    \n",
    "    ?actor2 sc:name ?actor2Name.\n",
    "}\n",
    "LIMIT 20\n",
    "\"\"\"\n",
    "\n",
    "print(\"Results\")\n",
    "x=run_query(queryString)"
   ]
  },
  {
   "cell_type": "markdown",
   "id": "63474efb",
   "metadata": {},
   "source": [
    "Final query for this task"
   ]
  },
  {
   "cell_type": "code",
   "execution_count": 15,
   "id": "dd078b6f",
   "metadata": {},
   "outputs": [
    {
     "name": "stdout",
     "output_type": "stream",
     "text": [
      "Results\n",
      "[('actor2', 'http://www.wikidata.org/entity/Q1354565'), ('actor2Name', 'Julian Wadham')]\n",
      "[('actor2', 'http://www.wikidata.org/entity/Q18162913'), ('actor2Name', 'Callum Turner')]\n",
      "[('actor2', 'http://www.wikidata.org/entity/Q17100475'), ('actor2Name', 'Brian Kubach')]\n",
      "[('actor2', 'http://www.wikidata.org/entity/Q266888'), ('actor2Name', 'Vinessa Shaw')]\n",
      "[('actor2', 'http://www.wikidata.org/entity/Q5799862'), ('actor2Name', 'Josh Helman')]\n",
      "[('actor2', 'http://www.wikidata.org/entity/Q2151703'), ('actor2Name', 'James Murtaugh')]\n",
      "[('actor2', 'http://www.wikidata.org/entity/Q6758083'), ('actor2Name', 'Marcus Carl Franklin')]\n",
      "[('actor2', 'http://www.wikidata.org/entity/Q504338'), ('actor2Name', 'Joshua Cox')]\n",
      "[('actor2', 'http://www.wikidata.org/entity/Q16013023'), ('actor2Name', 'William Lanteau')]\n",
      "[('actor2', 'http://www.wikidata.org/entity/Q20973982'), ('actor2Name', 'Doug McKeon')]\n",
      "[('actor2', 'http://www.wikidata.org/entity/Q271883'), ('actor2Name', 'Melinda Dillon')]\n",
      "[('actor2', 'http://www.wikidata.org/entity/Q275476'), ('actor2Name', 'Kay Lenz')]\n",
      "[('actor2', 'http://www.wikidata.org/entity/Q364822'), ('actor2Name', 'Scott Foley')]\n",
      "[('actor2', 'http://www.wikidata.org/entity/Q441617'), ('actor2Name', 'Gabrielle Miller')]\n",
      "[('actor2', 'http://www.wikidata.org/entity/Q445242'), ('actor2Name', 'Josh Ryan Evans')]\n",
      "[('actor2', 'http://www.wikidata.org/entity/Q446104'), ('actor2Name', 'Marika Domińczyk')]\n",
      "[('actor2', 'http://www.wikidata.org/entity/Q450548'), ('actor2Name', 'Tanja Reichert')]\n",
      "[('actor2', 'http://www.wikidata.org/entity/Q452552'), ('actor2Name', 'Grand L. Bush')]\n",
      "[('actor2', 'http://www.wikidata.org/entity/Q453798'), ('actor2Name', 'Amanda Brooks')]\n",
      "[('actor2', 'http://www.wikidata.org/entity/Q465134'), ('actor2Name', 'Kane Hodder')]\n",
      "20\n"
     ]
    }
   ],
   "source": [
    "# Final Query\n",
    "\n",
    "#If actor2 has a bacon number of 2, it means that :\n",
    "#We need to find an actor1 who played in a piece1 where Kevin Bacon also played\n",
    "#Then we find a piece2 where actor1 and actor2 played together but not Kevin Bacon\n",
    "#We need a filter making sure that: actor 1 and 2 are not Kevin Bacon nor the same person + Piece 1 and 2 are not the same.\n",
    "\n",
    "queryString = \"\"\"\n",
    "SELECT DISTINCT ?actor2 ?actor2Name \n",
    "WHERE {\n",
    "    ?piece1 wdt:P161 wd:Q3454165; #castmember KevinBacon\n",
    "            wdt:P161 ?actor1.     #castmember\n",
    "    \n",
    "    ?piece2 wdt:P161 ?actor1; #castmember\n",
    "            wdt:P161 ?actor2. #castmember\n",
    "    \n",
    "    FILTER(?actor1 != wd:Q3454165 && ?actor2 != wd:Q3454165 && ?actor1 != ?actor2 && ?piece1 != ?piece2).\n",
    "    \n",
    "    ?actor2 sc:name ?actor2Name.\n",
    "}\n",
    "LIMIT 20\n",
    "\"\"\"\n",
    "\n",
    "print(\"Results\")\n",
    "x=run_query(queryString)"
   ]
  },
  {
   "cell_type": "markdown",
   "id": "7a4f6199",
   "metadata": {
    "tags": []
   },
   "source": [
    "## Task 7\n",
    "Consider the actors who are members of the cast of HIMYM. Amongst the tv series which these actors acted return only those which received more than 2 awards (the result set must be triples of tv series IRI, label, #awards won)."
   ]
  },
  {
   "cell_type": "code",
   "execution_count": 16,
   "id": "b8660ca8",
   "metadata": {},
   "outputs": [
    {
     "name": "stdout",
     "output_type": "stream",
     "text": [
      "Results\n",
      "Empty\n"
     ]
    }
   ],
   "source": [
    "# For this task, we have all the necessary bgps except the awards one. Let's see if it is related to tv series:\n",
    "\n",
    "queryString = \"\"\"\n",
    "SELECT DISTINCT ?p ?pname \n",
    "WHERE {\n",
    "   wd:Q5398426 ?p ?obj.\n",
    "\n",
    "   ?p sc:name ?pname.\n",
    "   FILTER(REGEX(?pname,\"(award|reward|prize|decoration)\"))\n",
    "}\n",
    "LIMIT 20\n",
    "\"\"\"\n",
    "\n",
    "print(\"Results\")\n",
    "x=run_query(queryString)\n"
   ]
  },
  {
   "cell_type": "code",
   "execution_count": 17,
   "id": "d36f6657-0cdb-4816-b9d0-56d601884da6",
   "metadata": {},
   "outputs": [
    {
     "name": "stdout",
     "output_type": "stream",
     "text": [
      "Results\n",
      "[('p', 'http://www.wikidata.org/prop/direct/P1963'), ('pname', 'properties for this type'), ('obj', 'http://www.wikidata.org/entity/P1113'), ('Oname', 'number of episodes')]\n",
      "[('p', 'http://www.wikidata.org/prop/direct/P279'), ('pname', 'subclass of'), ('obj', 'http://www.wikidata.org/entity/Q15416'), ('Oname', 'television program')]\n",
      "[('p', 'http://www.wikidata.org/prop/direct/P1963'), ('pname', 'properties for this type'), ('obj', 'http://www.wikidata.org/entity/P580'), ('Oname', 'start time')]\n",
      "[('p', 'http://www.wikidata.org/prop/direct/P1963'), ('pname', 'properties for this type'), ('obj', 'http://www.wikidata.org/entity/P582'), ('Oname', 'end time')]\n",
      "[('p', 'http://www.wikidata.org/prop/direct/P1963'), ('pname', 'properties for this type'), ('obj', 'http://www.wikidata.org/entity/P1476'), ('Oname', 'title')]\n",
      "[('p', 'http://www.wikidata.org/prop/direct/P5869'), ('pname', 'model item'), ('obj', 'http://www.wikidata.org/entity/Q131758'), ('Oname', 'Desperate Housewives')]\n",
      "[('p', 'http://www.wikidata.org/prop/direct/P910'), ('pname', \"topic's main category\"), ('obj', 'http://www.wikidata.org/entity/Q7217118'), ('Oname', 'Category:Television series')]\n",
      "[('p', 'http://www.wikidata.org/prop/direct/P1963'), ('pname', 'properties for this type'), ('obj', 'http://www.wikidata.org/entity/P921'), ('Oname', 'main subject')]\n",
      "[('p', 'http://www.wikidata.org/prop/direct/P2670'), ('pname', 'has parts of the class'), ('obj', 'http://www.wikidata.org/entity/Q21191270'), ('Oname', 'television series episode')]\n",
      "[('p', 'http://www.wikidata.org/prop/direct/P5869'), ('pname', 'model item'), ('obj', 'http://www.wikidata.org/entity/Q990'), ('Oname', 'Czterej pancerni i pies')]\n",
      "[('p', 'http://www.wikidata.org/prop/direct/P1963'), ('pname', 'properties for this type'), ('obj', 'http://www.wikidata.org/entity/P527'), ('Oname', 'has part')]\n",
      "[('p', 'http://www.wikidata.org/prop/direct/P2670'), ('pname', 'has parts of the class'), ('obj', 'http://www.wikidata.org/entity/Q3464665'), ('Oname', 'television series season')]\n",
      "[('p', 'http://www.wikidata.org/prop/direct/P1963'), ('pname', 'properties for this type'), ('obj', 'http://www.wikidata.org/entity/P495'), ('Oname', 'country of origin')]\n",
      "[('p', 'http://www.wikidata.org/prop/direct/P1889'), ('pname', 'different from'), ('obj', 'http://www.wikidata.org/entity/Q1259759'), ('Oname', 'miniseries')]\n",
      "[('p', 'http://www.wikidata.org/prop/direct/P279'), ('pname', 'subclass of'), ('obj', 'http://www.wikidata.org/entity/Q7725310'), ('Oname', 'series of creative works')]\n",
      "[('p', 'http://www.wikidata.org/prop/direct/P5869'), ('pname', 'model item'), ('obj', 'http://www.wikidata.org/entity/Q2085'), ('Oname', 'Twin Peaks')]\n",
      "[('p', 'http://www.wikidata.org/prop/direct/P1889'), ('pname', 'different from'), ('obj', 'http://www.wikidata.org/entity/Q7724161'), ('Oname', 'television serial')]\n",
      "[('p', 'http://www.wikidata.org/prop/direct/P1963'), ('pname', 'properties for this type'), ('obj', 'http://www.wikidata.org/entity/P136'), ('Oname', 'genre')]\n",
      "[('p', 'http://www.wikidata.org/prop/direct/P1963'), ('pname', 'properties for this type'), ('obj', 'http://www.wikidata.org/entity/P2437'), ('Oname', 'number of seasons')]\n",
      "[('p', 'http://www.wikidata.org/prop/direct/P1963'), ('pname', 'properties for this type'), ('obj', 'http://www.wikidata.org/entity/P449'), ('Oname', 'original broadcaster')]\n",
      "20\n"
     ]
    }
   ],
   "source": [
    "#Let's check without the regex\n",
    "\n",
    "queryString = \"\"\"\n",
    "SELECT DISTINCT ?p ?pname ?obj ?Oname\n",
    "WHERE {\n",
    "   wd:Q5398426 ?p ?obj.\n",
    "\n",
    "   ?p sc:name ?pname.\n",
    "   ?obj sc:name ?Oname.\n",
    "}\n",
    "LIMIT 20\n",
    "\"\"\"\n",
    "\n",
    "print(\"Results\")\n",
    "x=run_query(queryString)"
   ]
  },
  {
   "cell_type": "code",
   "execution_count": 18,
   "id": "98624cdb-6639-4024-a313-deb2ea2e8b55",
   "metadata": {},
   "outputs": [
    {
     "name": "stdout",
     "output_type": "stream",
     "text": [
      "Results\n",
      "[('obj', 'http://www.wikidata.org/entity/P1113'), ('Oname', 'number of episodes')]\n",
      "[('obj', 'http://www.wikidata.org/entity/P580'), ('Oname', 'start time')]\n",
      "[('obj', 'http://www.wikidata.org/entity/P582'), ('Oname', 'end time')]\n",
      "[('obj', 'http://www.wikidata.org/entity/P1476'), ('Oname', 'title')]\n",
      "[('obj', 'http://www.wikidata.org/entity/P921'), ('Oname', 'main subject')]\n",
      "[('obj', 'http://www.wikidata.org/entity/P527'), ('Oname', 'has part')]\n",
      "[('obj', 'http://www.wikidata.org/entity/P495'), ('Oname', 'country of origin')]\n",
      "[('obj', 'http://www.wikidata.org/entity/P136'), ('Oname', 'genre')]\n",
      "[('obj', 'http://www.wikidata.org/entity/P2437'), ('Oname', 'number of seasons')]\n",
      "[('obj', 'http://www.wikidata.org/entity/P449'), ('Oname', 'original broadcaster')]\n",
      "[('obj', 'http://www.wikidata.org/entity/P840'), ('Oname', 'narrative location')]\n",
      "[('obj', 'http://www.wikidata.org/entity/P915'), ('Oname', 'filming location')]\n",
      "[('obj', 'http://www.wikidata.org/entity/P161'), ('Oname', 'cast member')]\n",
      "[('obj', 'http://www.wikidata.org/entity/P166'), ('Oname', 'award received')]\n",
      "[('obj', 'http://www.wikidata.org/entity/P364'), ('Oname', 'original language of film or TV show')]\n",
      "[('obj', 'http://www.wikidata.org/entity/P1811'), ('Oname', 'list of episodes')]\n",
      "16\n"
     ]
    }
   ],
   "source": [
    "#Let's explore objects related to \"properties for this type\"\n",
    "\n",
    "queryString = \"\"\"\n",
    "SELECT DISTINCT ?obj ?Oname \n",
    "WHERE {\n",
    "   wd:Q5398426 wdt:P1963 ?obj. #tvSerie properties\n",
    "\n",
    "   ?obj sc:name ?Oname.\n",
    "}\n",
    "LIMIT 20\n",
    "\"\"\"\n",
    "\n",
    "print(\"Results\")\n",
    "x=run_query(queryString)"
   ]
  },
  {
   "cell_type": "code",
   "execution_count": 26,
   "id": "da7328f4-07a2-4323-bfab-a490bfb78730",
   "metadata": {},
   "outputs": [
    {
     "name": "stdout",
     "output_type": "stream",
     "text": [
      "Results\n",
      "[('award', 'http://www.wikidata.org/entity/Q2300462'), ('awardName', 'Streamy Awards')]\n",
      "[('award', 'http://www.wikidata.org/entity/Q3002950'), ('awardName', \"Critics' Choice Television Award for Best Supporting Actor in a Comedy Series\")]\n",
      "[('award', 'http://www.wikidata.org/entity/Q7243510'), ('awardName', 'Primetime Emmy Award for Outstanding Single-Camera Picture Editing for a Comedy Series')]\n",
      "[('award', 'http://www.wikidata.org/entity/Q23011211'), ('awardName', 'International TV Audience Award for Best Comedy TV Series')]\n",
      "[('award', 'http://www.wikidata.org/entity/Q7243501'), ('awardName', 'Primetime Emmy Award for Outstanding Cinematography for a Multi-Camera Series')]\n",
      "[('award', 'http://www.wikidata.org/entity/Q17985609'), ('awardName', 'Primetime Emmy Award for Outstanding Art Direction for a Contemporary Program')]\n",
      "[('award', 'http://www.wikidata.org/entity/Q30633707'), ('awardName', 'Primetime Emmy Award for Outstanding Multi-Camera Picture Editing for a Comedy Series')]\n",
      "7\n"
     ]
    }
   ],
   "source": [
    "#We see the award received property, let's try counting all the awards received by HIMYM\n",
    "\n",
    "queryString = \"\"\"\n",
    "SELECT ?award ?awardName\n",
    "WHERE {\n",
    "   wd:Q147235 wdt:P166 ?award. #HIMYM award\n",
    "   ?award sc:name ?awardName.\n",
    "}\n",
    "LIMIT 20\n",
    "\"\"\"\n",
    "\n",
    "print(\"Results\")\n",
    "x=run_query(queryString)"
   ]
  },
  {
   "cell_type": "code",
   "execution_count": 42,
   "id": "799d20a2-6241-4154-9883-fefe8ba37ba8",
   "metadata": {},
   "outputs": [
    {
     "name": "stdout",
     "output_type": "stream",
     "text": [
      "Results\n",
      "[('series', 'http://www.wikidata.org/entity/Q23628'), ('seriesName', 'The Sopranos'), ('count', '22')]\n",
      "[('series', 'http://www.wikidata.org/entity/Q1079'), ('seriesName', 'Breaking Bad'), ('count', '21')]\n",
      "[('series', 'http://www.wikidata.org/entity/Q1132439'), ('seriesName', 'The Practice'), ('count', '12')]\n",
      "[('series', 'http://www.wikidata.org/entity/Q16756'), ('seriesName', 'Modern Family'), ('count', '11')]\n",
      "[('series', 'http://www.wikidata.org/entity/Q79784'), ('seriesName', 'Friends'), ('count', '10')]\n",
      "[('series', 'http://www.wikidata.org/entity/Q8539'), ('seriesName', 'The Big Bang Theory'), ('count', '10')]\n",
      "[('series', 'http://www.wikidata.org/entity/Q1136370'), ('seriesName', 'General Hospital'), ('count', '10')]\n",
      "[('series', 'http://www.wikidata.org/entity/Q244803'), ('seriesName', 'Ally McBeal'), ('count', '9')]\n",
      "[('series', 'http://www.wikidata.org/entity/Q1030713'), ('seriesName', 'Another World'), ('count', '8')]\n",
      "[('series', 'http://www.wikidata.org/entity/Q438406'), ('seriesName', \"Grey's Anatomy\"), ('count', '8')]\n",
      "[('series', 'http://www.wikidata.org/entity/Q1068952'), ('seriesName', 'St. Elsewhere'), ('count', '8')]\n",
      "[('series', 'http://www.wikidata.org/entity/Q147235'), ('seriesName', 'How I Met Your Mother'), ('count', '7')]\n",
      "[('series', 'http://www.wikidata.org/entity/Q34659'), ('seriesName', 'My Name Is Earl'), ('count', '7')]\n",
      "[('series', 'http://www.wikidata.org/entity/Q186219'), ('seriesName', 'True Blood'), ('count', '7')]\n",
      "[('series', 'http://www.wikidata.org/entity/Q117396'), ('seriesName', 'CSI: Vegas'), ('count', '6')]\n",
      "[('series', 'http://www.wikidata.org/entity/Q2085'), ('seriesName', 'Twin Peaks'), ('count', '6')]\n",
      "[('series', 'http://www.wikidata.org/entity/Q7099650'), ('seriesName', 'Orange Is the New Black'), ('count', '6')]\n",
      "[('series', 'http://www.wikidata.org/entity/Q1168760'), ('seriesName', 'Upstairs, Downstairs'), ('count', '5')]\n",
      "[('series', 'http://www.wikidata.org/entity/Q833322'), ('seriesName', 'Murder, She Wrote'), ('count', '4')]\n",
      "[('series', 'http://www.wikidata.org/entity/Q30603704'), ('seriesName', 'Pose'), ('count', '3')]\n",
      "[('series', 'http://www.wikidata.org/entity/Q19570'), ('seriesName', 'The Good Wife'), ('count', '3')]\n",
      "[('series', 'http://www.wikidata.org/entity/Q1144624'), ('seriesName', 'Family Ties'), ('count', '3')]\n",
      "[('series', 'http://www.wikidata.org/entity/Q232737'), ('seriesName', 'The Walking Dead'), ('count', '3')]\n",
      "23\n"
     ]
    }
   ],
   "source": [
    "#Consider the actors who are members of the cast of HIMYM. \n",
    "#Amongst the tv series which these actors acted return only those which received more than 2 awards (the result set must be triples of tv series IRI, label, #awards won).\n",
    "#We can now try :\n",
    "\n",
    "queryString = \"\"\"\n",
    "SELECT ?series ?seriesName (count(distinct ?award) as ?count)\n",
    "\n",
    "WHERE {\n",
    "    wd:Q147235 wdt:P161 ?actorH. #HIMYM castmember\n",
    "\n",
    "\n",
    "   ?series wdt:P31 wd:Q5398426; #a tvseries\n",
    "           wdt:P161 ?actorH; #castmember\n",
    "           wdt:P166 ?award. #award\n",
    "           \n",
    "   ?series sc:name ?seriesName\n",
    "\n",
    "}\n",
    "GROUP BY ?series ?seriesName\n",
    "HAVING(count(distinct ?award)>2)\n",
    "ORDER BY DESC(?count)\n",
    "\n",
    "LIMIT 200\n",
    "\"\"\"\n",
    "\n",
    "print(\"Results\")\n",
    "x=run_query(queryString)"
   ]
  },
  {
   "cell_type": "code",
   "execution_count": 23,
   "id": "0bb7962f-98f4-494d-9cce-da37c07ad0b3",
   "metadata": {},
   "outputs": [
    {
     "name": "stdout",
     "output_type": "stream",
     "text": [
      "Results\n",
      "[('series', 'http://www.wikidata.org/entity/Q147235'), ('seriesName', 'How I Met Your Mother'), ('count', '3360')]\n",
      "[('series', 'http://www.wikidata.org/entity/Q34659'), ('seriesName', 'My Name Is Earl'), ('count', '119')]\n",
      "[('series', 'http://www.wikidata.org/entity/Q1079'), ('seriesName', 'Breaking Bad'), ('count', '105')]\n",
      "[('series', 'http://www.wikidata.org/entity/Q16756'), ('seriesName', 'Modern Family'), ('count', '88')]\n",
      "[('series', 'http://www.wikidata.org/entity/Q117396'), ('seriesName', 'CSI: Vegas'), ('count', '84')]\n",
      "[('series', 'http://www.wikidata.org/entity/Q438406'), ('seriesName', \"Grey's Anatomy\"), ('count', '80')]\n",
      "[('series', 'http://www.wikidata.org/entity/Q8539'), ('seriesName', 'The Big Bang Theory'), ('count', '60')]\n",
      "[('series', 'http://www.wikidata.org/entity/Q19570'), ('seriesName', 'The Good Wife'), ('count', '39')]\n",
      "[('series', 'http://www.wikidata.org/entity/Q244803'), ('seriesName', 'Ally McBeal'), ('count', '36')]\n",
      "[('series', 'http://www.wikidata.org/entity/Q23609'), ('seriesName', 'Weeds'), ('count', '24')]\n",
      "[('series', 'http://www.wikidata.org/entity/Q23628'), ('seriesName', 'The Sopranos'), ('count', '22')]\n",
      "[('series', 'http://www.wikidata.org/entity/Q79784'), ('seriesName', 'Friends'), ('count', '20')]\n",
      "[('series', 'http://www.wikidata.org/entity/Q2085'), ('seriesName', 'Twin Peaks'), ('count', '18')]\n",
      "[('series', 'http://www.wikidata.org/entity/Q1030713'), ('seriesName', 'Another World'), ('count', '16')]\n",
      "[('series', 'http://www.wikidata.org/entity/Q186219'), ('seriesName', 'True Blood'), ('count', '14')]\n",
      "[('series', 'http://www.wikidata.org/entity/Q4525'), ('seriesName', 'NCIS'), ('count', '14')]\n",
      "[('series', 'http://www.wikidata.org/entity/Q728443'), ('seriesName', 'Hawaii Five-0'), ('count', '13')]\n",
      "[('series', 'http://www.wikidata.org/entity/Q193462'), ('seriesName', 'Gilmore Girls'), ('count', '12')]\n",
      "[('series', 'http://www.wikidata.org/entity/Q256527'), ('seriesName', 'Spin City'), ('count', '12')]\n",
      "[('series', 'http://www.wikidata.org/entity/Q833322'), ('seriesName', 'Murder, She Wrote'), ('count', '12')]\n",
      "[('series', 'http://www.wikidata.org/entity/Q1132439'), ('seriesName', 'The Practice'), ('count', '12')]\n",
      "[('series', 'http://www.wikidata.org/entity/Q844059'), ('seriesName', 'New Girl'), ('count', '11')]\n",
      "[('series', 'http://www.wikidata.org/entity/Q223977'), ('seriesName', 'Mad Men'), ('count', '11')]\n",
      "[('series', 'http://www.wikidata.org/entity/Q1136370'), ('seriesName', 'General Hospital'), ('count', '10')]\n",
      "[('series', 'http://www.wikidata.org/entity/Q117590'), ('seriesName', 'Beverly Hills, 90210'), ('count', '10')]\n",
      "[('series', 'http://www.wikidata.org/entity/Q1138000'), ('seriesName', 'The Middle'), ('count', '10')]\n",
      "[('series', 'http://www.wikidata.org/entity/Q1068952'), ('seriesName', 'St. Elsewhere'), ('count', '8')]\n",
      "[('series', 'http://www.wikidata.org/entity/Q464865'), ('seriesName', 'The Nanny'), ('count', '7')]\n",
      "[('series', 'http://www.wikidata.org/entity/Q485668'), ('seriesName', 'Scrubs'), ('count', '7')]\n",
      "[('series', 'http://www.wikidata.org/entity/Q647001'), ('seriesName', 'Dr. Quinn, Medicine Woman'), ('count', '6')]\n",
      "[('series', 'http://www.wikidata.org/entity/Q208568'), ('seriesName', 'Everybody Loves Raymond'), ('count', '6')]\n",
      "[('series', 'http://www.wikidata.org/entity/Q183513'), ('seriesName', 'Buffy the Vampire Slayer'), ('count', '6')]\n",
      "[('series', 'http://www.wikidata.org/entity/Q672169'), ('seriesName', 'Dharma & Greg'), ('count', '6')]\n",
      "[('series', 'http://www.wikidata.org/entity/Q7099650'), ('seriesName', 'Orange Is the New Black'), ('count', '6')]\n",
      "[('series', 'http://www.wikidata.org/entity/Q232737'), ('seriesName', 'The Walking Dead'), ('count', '6')]\n",
      "[('series', 'http://www.wikidata.org/entity/Q2744'), ('seriesName', 'The X-Files'), ('count', '5')]\n",
      "[('series', 'http://www.wikidata.org/entity/Q426432'), ('seriesName', 'Walker, Texas Ranger'), ('count', '5')]\n",
      "[('series', 'http://www.wikidata.org/entity/Q575373'), ('seriesName', 'Roseanne'), ('count', '5')]\n",
      "[('series', 'http://www.wikidata.org/entity/Q1168760'), ('seriesName', 'Upstairs, Downstairs'), ('count', '5')]\n",
      "[('series', 'http://www.wikidata.org/entity/Q564345'), ('seriesName', 'Person of Interest'), ('count', '4')]\n",
      "[('series', 'http://www.wikidata.org/entity/Q321423'), ('seriesName', 'Law & Order'), ('count', '4')]\n",
      "[('series', 'http://www.wikidata.org/entity/Q1122661'), ('seriesName', 'Project Runway'), ('count', '4')]\n",
      "[('series', 'http://www.wikidata.org/entity/Q23594'), ('seriesName', 'Homeland'), ('count', '4')]\n",
      "[('series', 'http://www.wikidata.org/entity/Q500769'), ('seriesName', 'Freaks and Geeks'), ('count', '3')]\n",
      "[('series', 'http://www.wikidata.org/entity/Q1144624'), ('seriesName', 'Family Ties'), ('count', '3')]\n",
      "[('series', 'http://www.wikidata.org/entity/Q30603704'), ('seriesName', 'Pose'), ('count', '3')]\n",
      "46\n"
     ]
    }
   ],
   "source": [
    "#Same query as above but not using the distinct for awards : \n",
    "\n",
    "queryString = \"\"\"\n",
    "SELECT ?series ?seriesName (count(?award) as ?count)\n",
    "\n",
    "WHERE {\n",
    "    wd:Q147235 wdt:P161 ?actorH. #HIMYM castmember\n",
    "\n",
    "\n",
    "   ?series wdt:P31 wd:Q5398426; #a tvseries\n",
    "           wdt:P161 ?actorH;    #castmember\n",
    "           wdt:P166 ?award.     #award\n",
    "           \n",
    "   ?series sc:name ?seriesName\n",
    "\n",
    "}\n",
    "GROUP BY ?series ?seriesName\n",
    "HAVING(count(?award)>2)\n",
    "ORDER BY DESC(?count)\n",
    "\n",
    "LIMIT 200\n",
    "\"\"\"\n",
    "\n",
    "print(\"Results\")\n",
    "x=run_query(queryString)\n"
   ]
  },
  {
   "cell_type": "markdown",
   "id": "5b2c56ea",
   "metadata": {},
   "source": [
    "Final query for this task"
   ]
  },
  {
   "cell_type": "code",
   "execution_count": 27,
   "id": "a4f92d51",
   "metadata": {},
   "outputs": [
    {
     "name": "stdout",
     "output_type": "stream",
     "text": [
      "Results\n",
      "[('series', 'http://www.wikidata.org/entity/Q23628'), ('seriesName', 'The Sopranos'), ('count', '22')]\n",
      "[('series', 'http://www.wikidata.org/entity/Q1079'), ('seriesName', 'Breaking Bad'), ('count', '21')]\n",
      "[('series', 'http://www.wikidata.org/entity/Q1132439'), ('seriesName', 'The Practice'), ('count', '12')]\n",
      "[('series', 'http://www.wikidata.org/entity/Q16756'), ('seriesName', 'Modern Family'), ('count', '11')]\n",
      "[('series', 'http://www.wikidata.org/entity/Q79784'), ('seriesName', 'Friends'), ('count', '10')]\n",
      "[('series', 'http://www.wikidata.org/entity/Q8539'), ('seriesName', 'The Big Bang Theory'), ('count', '10')]\n",
      "[('series', 'http://www.wikidata.org/entity/Q1136370'), ('seriesName', 'General Hospital'), ('count', '10')]\n",
      "[('series', 'http://www.wikidata.org/entity/Q244803'), ('seriesName', 'Ally McBeal'), ('count', '9')]\n",
      "[('series', 'http://www.wikidata.org/entity/Q1030713'), ('seriesName', 'Another World'), ('count', '8')]\n",
      "[('series', 'http://www.wikidata.org/entity/Q438406'), ('seriesName', \"Grey's Anatomy\"), ('count', '8')]\n",
      "[('series', 'http://www.wikidata.org/entity/Q1068952'), ('seriesName', 'St. Elsewhere'), ('count', '8')]\n",
      "[('series', 'http://www.wikidata.org/entity/Q147235'), ('seriesName', 'How I Met Your Mother'), ('count', '7')]\n",
      "[('series', 'http://www.wikidata.org/entity/Q34659'), ('seriesName', 'My Name Is Earl'), ('count', '7')]\n",
      "[('series', 'http://www.wikidata.org/entity/Q186219'), ('seriesName', 'True Blood'), ('count', '7')]\n",
      "[('series', 'http://www.wikidata.org/entity/Q117396'), ('seriesName', 'CSI: Vegas'), ('count', '6')]\n",
      "[('series', 'http://www.wikidata.org/entity/Q2085'), ('seriesName', 'Twin Peaks'), ('count', '6')]\n",
      "[('series', 'http://www.wikidata.org/entity/Q7099650'), ('seriesName', 'Orange Is the New Black'), ('count', '6')]\n",
      "[('series', 'http://www.wikidata.org/entity/Q1168760'), ('seriesName', 'Upstairs, Downstairs'), ('count', '5')]\n",
      "[('series', 'http://www.wikidata.org/entity/Q833322'), ('seriesName', 'Murder, She Wrote'), ('count', '4')]\n",
      "[('series', 'http://www.wikidata.org/entity/Q30603704'), ('seriesName', 'Pose'), ('count', '3')]\n",
      "[('series', 'http://www.wikidata.org/entity/Q19570'), ('seriesName', 'The Good Wife'), ('count', '3')]\n",
      "[('series', 'http://www.wikidata.org/entity/Q1144624'), ('seriesName', 'Family Ties'), ('count', '3')]\n",
      "[('series', 'http://www.wikidata.org/entity/Q232737'), ('seriesName', 'The Walking Dead'), ('count', '3')]\n",
      "23\n"
     ]
    }
   ],
   "source": [
    "# Final query\n",
    "\n",
    "queryString = \"\"\"\n",
    "SELECT ?series ?seriesName (count(distinct ?award) as ?count)\n",
    "\n",
    "WHERE {\n",
    "    wd:Q147235 wdt:P161 ?actorH. #HIMYM castmember\n",
    "\n",
    "\n",
    "   ?series wdt:P31 wd:Q5398426;   #a tvseries\n",
    "           wdt:P161 ?actorH;      #castmember\n",
    "           wdt:P166 ?award.       #award\n",
    "           \n",
    "   ?series sc:name ?seriesName\n",
    "\n",
    "}\n",
    "GROUP BY ?series ?seriesName\n",
    "HAVING(count(distinct ?award)>2)\n",
    "ORDER BY DESC(?count)\n",
    "\n",
    "LIMIT 200\n",
    "\"\"\"\n",
    "\n",
    "print(\"Results\")\n",
    "x=run_query(queryString)"
   ]
  }
 ],
 "metadata": {
  "kernelspec": {
   "display_name": "Python 3 (ipykernel)",
   "language": "python",
   "name": "python3"
  },
  "language_info": {
   "codemirror_mode": {
    "name": "ipython",
    "version": 3
   },
   "file_extension": ".py",
   "mimetype": "text/x-python",
   "name": "python",
   "nbconvert_exporter": "python",
   "pygments_lexer": "ipython3",
   "version": "3.7.10"
  }
 },
 "nbformat": 4,
 "nbformat_minor": 5
}
