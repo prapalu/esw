{
 "cells": [
  {
   "cell_type": "markdown",
   "id": "089dea90",
   "metadata": {},
   "source": [
    "# General instructions\n",
    "\n",
    "The goal of the project is to materialize a set of **exploratory workloads** over a real-world, large-scale,  open-domain KG: [WikiData](https://www.wikidata.org/wiki/Wikidata:Main_Page)\n",
    "\n",
    "An exploratory workload  is composed by a set of queries, where each query is related to the information obtained previously.\n",
    "\n",
    "An exploratory workload starts with a usually vague, open ended question, and does not assume the person issuing the workload has a clear understanding of the data contained in the target database or its structure.\n",
    "\n",
    "Remeber that:\n",
    "\n",
    "1. All the queries must run in the python notebook\n",
    "2. You can use classes and properties only if you find them via a SPARQL query that must be present in the notebook\n",
    "3. You do not delete useless queries. Keep everything that is synthatically valid \n",
    "\n",
    "```\n",
    "?p <http://schema.org/name> ?name .\n",
    "```\n",
    "    \n",
    "    is the BGP returning a human-readable name of a property or a class in Wikidata."
   ]
  },
  {
   "cell_type": "code",
   "execution_count": 2,
   "id": "9f1f195d",
   "metadata": {},
   "outputs": [],
   "source": [
    "## SETUP used later\n",
    "\n",
    "from SPARQLWrapper import SPARQLWrapper, JSON\n",
    "\n",
    "\n",
    "prefixString = \"\"\"\n",
    "##-2718eeacfe-##\n",
    "PREFIX wd: <http://www.wikidata.org/entity/> \n",
    "PREFIX wdt: <http://www.wikidata.org/prop/direct/> \n",
    "PREFIX sc: <http://schema.org/>\n",
    "\"\"\"\n",
    "\n",
    "# select and construct queries\n",
    "def run_query(queryString,verbose = True):\n",
    "    to_run = prefixString + \"\\n\" + queryString\n",
    "\n",
    "    sparql = SPARQLWrapper(\"http://a256-gc1-03.srv.aau.dk:5820/sparql\")\n",
    "    sparql.setTimeout(300)\n",
    "    sparql.setReturnFormat(JSON)\n",
    "    sparql.setQuery(to_run)\n",
    "\n",
    "    try :\n",
    "        results = sparql.query()\n",
    "        json_results = results.convert()\n",
    "        if len(json_results['results']['bindings'])==0:\n",
    "            print(\"Empty\")\n",
    "            return []\n",
    "        array = []\n",
    "        for bindings in json_results['results']['bindings']:\n",
    "            app =  [ (var, value['value'])  for var, value in bindings.items() ] \n",
    "            if verbose:\n",
    "                print( app)\n",
    "            array.append(app)\n",
    "        if verbose:\n",
    "            print(len(array))\n",
    "        return array\n",
    "\n",
    "    except Exception as e :\n",
    "        print(\"The operation failed\", e)\n",
    "    \n",
    "# ASk queries\n",
    "def run_ask_query(queryString):\n",
    "    to_run = prefixString + \"\\n\" + queryString\n",
    "\n",
    "    sparql = SPARQLWrapper(\"http://a256-gc1-03.srv.aau.dk:5820/sparql\")\n",
    "    sparql.setTimeout(300)\n",
    "    sparql.setReturnFormat(JSON)\n",
    "    sparql.setQuery(to_run)\n",
    "\n",
    "    try :\n",
    "        return sparql.query().convert()\n",
    "\n",
    "    except Exception as e :\n",
    "        print(\"The operation failed\", e)"
   ]
  },
  {
   "cell_type": "markdown",
   "id": "df0a0d22",
   "metadata": {},
   "source": [
    "# Sport Workflow Series (Tennis explorative search\") \n",
    "\n",
    "Consider the following exploratory information need:\n",
    "\n",
    "> investigate tennis and find the main BGPs related to this sport. Compare players per countries, awards of the players and tournament."
   ]
  },
  {
   "cell_type": "markdown",
   "id": "bf8877d9",
   "metadata": {},
   "source": [
    "## Useful URIs for the current workflow\n",
    "The following are given:\n",
    "\n",
    "| IRI           | Description   | Role      |\n",
    "| -----------   | -----------   |-----------|\n",
    "| `wdt:P1647`   | subproperty   | predicate |\n",
    "| `wdt:P31`     | instance of   | predicate |\n",
    "| `wdt:P106`    | profession    | predicate | \n",
    "| `wdt:P279`    | subclass      | predicate |\n",
    "| `wdt:P27`     | nationality   | predicate |\n",
    "| `wd:Q5`| Human       | node |\n",
    "| `wd:Q1426`| Roger Federer       | node |\n",
    "| `wd:Q11459`| Serena Williams       | node |\n"
   ]
  },
  {
   "cell_type": "markdown",
   "id": "2a8a6c2f",
   "metadata": {},
   "source": [
    "\n",
    "\n",
    "\n",
    "Also consider\n",
    "\n",
    "```\n",
    "wd:Q1426 ?p ?obj .\n",
    "```\n",
    "\n",
    "is the BGP to retrieve all **properties of Roger Federer**\n",
    "\n",
    "Please consider that when you return a resource, you should return the IRI and the label of the resource. In particular, when the task require you to identify a BGP the result set must always be a list of couples IRI - label.\n",
    "\n",
    "\n",
    "\n",
    "The workload should:\n",
    "\n",
    "\n",
    "1. Identify the BGP for tennis player\n",
    "\n",
    "2. Identify the BGP for tennis tournament\n",
    "\n",
    "3. Return the four Grand Slam of tennis (hint: One of these four is Wimbledon) (the result set must be a list of four couples Grand Slam IRI and label).\n",
    "\n",
    "4. Find the three different type of possible surfaces in a tennis court (the result set must be a list of three couples surface IRI and label).\n",
    "\n",
    "5. Return the tournaments played in the 2018 Wimbledon Championships edition with the related winners (hint: men and women do not play together, there are two distinct tournament ) (the result set must be a list of elements with tournament IRI and label, and winner IRI and label).\n",
    "\n",
    "6. Consider the tennis players born after 1975, return who won more Grand Slams and cut the result to the top-10 (the result set must be a list of triples player IRI, label and #victories).\n",
    "\n",
    "7. Consider the country for sport property of the tennis player (NO Country of citizenship). Return the countries with at least one player who won at least one edition of each Grand Slam (the result set must be a list of country IRI and label).\n",
    "\n",
    "8. Consider the country for sport property of the tennis player (NO Country of citizenship). Return the countries with at least one player who was ranked 1 in the tennis ranking  (the result set must be a list of country IRI and label)."
   ]
  },
  {
   "cell_type": "markdown",
   "id": "9e55e6e8",
   "metadata": {},
   "source": [
    "## Task 1\n",
    "Identify the BGP for tennis player"
   ]
  },
  {
   "cell_type": "code",
   "execution_count": 2,
   "id": "d5843114",
   "metadata": {},
   "outputs": [
    {
     "name": "stdout",
     "output_type": "stream",
     "text": [
      "Results\n",
      "[('p', 'http://www.wikidata.org/prop/direct/P1006'), ('name', 'Nationale Thesaurus voor Auteurs ID')]\n",
      "[('p', 'http://www.wikidata.org/prop/direct/P103'), ('name', 'native language')]\n",
      "[('p', 'http://www.wikidata.org/prop/direct/P106'), ('name', 'occupation')]\n",
      "[('p', 'http://www.wikidata.org/prop/direct/P108'), ('name', 'employer')]\n",
      "[('p', 'http://www.wikidata.org/prop/direct/P1263'), ('name', 'NNDB people ID')]\n",
      "[('p', 'http://www.wikidata.org/prop/direct/P1280'), ('name', 'CONOR.SI ID')]\n",
      "[('p', 'http://www.wikidata.org/prop/direct/P1284'), ('name', 'Munzinger person ID')]\n",
      "[('p', 'http://www.wikidata.org/prop/direct/P1285'), ('name', 'Munzinger Sport number')]\n",
      "[('p', 'http://www.wikidata.org/prop/direct/P1296'), ('name', 'Gran Enciclopèdia Catalana ID')]\n",
      "[('p', 'http://www.wikidata.org/prop/direct/P1343'), ('name', 'described by source')]\n",
      "[('p', 'http://www.wikidata.org/prop/direct/P1344'), ('name', 'participant in')]\n",
      "[('p', 'http://www.wikidata.org/prop/direct/P1352'), ('name', 'ranking')]\n",
      "[('p', 'http://www.wikidata.org/prop/direct/P140'), ('name', 'religion')]\n",
      "[('p', 'http://www.wikidata.org/prop/direct/P1412'), ('name', 'languages spoken, written or signed')]\n",
      "[('p', 'http://www.wikidata.org/prop/direct/P1417'), ('name', 'Encyclopædia Britannica Online ID')]\n",
      "[('p', 'http://www.wikidata.org/prop/direct/P1447'), ('name', 'Sports-Reference.com Olympic athlete ID')]\n",
      "[('p', 'http://www.wikidata.org/prop/direct/P1532'), ('name', 'country for sport')]\n",
      "[('p', 'http://www.wikidata.org/prop/direct/P166'), ('name', 'award received')]\n",
      "[('p', 'http://www.wikidata.org/prop/direct/P1695'), ('name', 'NLP ID (unique)')]\n",
      "[('p', 'http://www.wikidata.org/prop/direct/P1741'), ('name', 'GTAA ID')]\n",
      "[('p', 'http://www.wikidata.org/prop/direct/P18'), ('name', 'image')]\n",
      "[('p', 'http://www.wikidata.org/prop/direct/P19'), ('name', 'place of birth')]\n",
      "[('p', 'http://www.wikidata.org/prop/direct/P2002'), ('name', 'Twitter username')]\n",
      "[('p', 'http://www.wikidata.org/prop/direct/P2003'), ('name', 'Instagram username')]\n",
      "[('p', 'http://www.wikidata.org/prop/direct/P2013'), ('name', 'Facebook ID')]\n",
      "[('p', 'http://www.wikidata.org/prop/direct/P2019'), ('name', 'AllMovie person ID')]\n",
      "[('p', 'http://www.wikidata.org/prop/direct/P2031'), ('name', 'work period (start)')]\n",
      "[('p', 'http://www.wikidata.org/prop/direct/P2048'), ('name', 'height')]\n",
      "[('p', 'http://www.wikidata.org/prop/direct/P2067'), ('name', 'mass')]\n",
      "[('p', 'http://www.wikidata.org/prop/direct/P21'), ('name', 'sex or gender')]\n",
      "[('p', 'http://www.wikidata.org/prop/direct/P2121'), ('name', 'prize money')]\n",
      "[('p', 'http://www.wikidata.org/prop/direct/P213'), ('name', 'ISNI')]\n",
      "[('p', 'http://www.wikidata.org/prop/direct/P214'), ('name', 'VIAF ID')]\n",
      "[('p', 'http://www.wikidata.org/prop/direct/P2163'), ('name', 'FAST ID')]\n",
      "[('p', 'http://www.wikidata.org/prop/direct/P22'), ('name', 'father')]\n",
      "[('p', 'http://www.wikidata.org/prop/direct/P2218'), ('name', 'net worth')]\n",
      "[('p', 'http://www.wikidata.org/prop/direct/P227'), ('name', 'GND ID')]\n",
      "[('p', 'http://www.wikidata.org/prop/direct/P2416'), ('name', 'sports discipline competed in')]\n",
      "[('p', 'http://www.wikidata.org/prop/direct/P244'), ('name', 'Library of Congress authority ID')]\n",
      "[('p', 'http://www.wikidata.org/prop/direct/P25'), ('name', 'mother')]\n",
      "[('p', 'http://www.wikidata.org/prop/direct/P2522'), ('name', 'victory')]\n",
      "[('p', 'http://www.wikidata.org/prop/direct/P26'), ('name', 'spouse')]\n",
      "[('p', 'http://www.wikidata.org/prop/direct/P2604'), ('name', 'Kinopoisk person ID')]\n",
      "[('p', 'http://www.wikidata.org/prop/direct/P2605'), ('name', 'ČSFD person ID')]\n",
      "[('p', 'http://www.wikidata.org/prop/direct/P268'), ('name', 'Bibliothèque nationale de France ID')]\n",
      "[('p', 'http://www.wikidata.org/prop/direct/P269'), ('name', 'IdRef ID')]\n",
      "[('p', 'http://www.wikidata.org/prop/direct/P27'), ('name', 'country of citizenship')]\n",
      "[('p', 'http://www.wikidata.org/prop/direct/P286'), ('name', 'head coach')]\n",
      "[('p', 'http://www.wikidata.org/prop/direct/P2924'), ('name', 'Great Russian Encyclopedia Online ID')]\n",
      "[('p', 'http://www.wikidata.org/prop/direct/P31'), ('name', 'instance of')]\n",
      "[('p', 'http://www.wikidata.org/prop/direct/P3171'), ('name', 'Olympic.org athlete ID (archived version)')]\n",
      "[('p', 'http://www.wikidata.org/prop/direct/P3219'), ('name', 'Encyclopædia Universalis ID')]\n",
      "[('p', 'http://www.wikidata.org/prop/direct/P3221'), ('name', 'New York Times topic ID')]\n",
      "[('p', 'http://www.wikidata.org/prop/direct/P3222'), ('name', 'NE.se ID')]\n",
      "[('p', 'http://www.wikidata.org/prop/direct/P3342'), ('name', 'significant person')]\n",
      "[('p', 'http://www.wikidata.org/prop/direct/P3373'), ('name', 'sibling')]\n",
      "[('p', 'http://www.wikidata.org/prop/direct/P3388'), ('name', 'LittleSis people ID')]\n",
      "[('p', 'http://www.wikidata.org/prop/direct/P3417'), ('name', 'Quora topic ID')]\n",
      "[('p', 'http://www.wikidata.org/prop/direct/P3427'), ('name', 'AS.com athlete ID')]\n",
      "[('p', 'http://www.wikidata.org/prop/direct/P345'), ('name', 'IMDb ID')]\n",
      "[('p', 'http://www.wikidata.org/prop/direct/P3509'), ('name', 'Dagens Nyheter topic ID')]\n",
      "[('p', 'http://www.wikidata.org/prop/direct/P3553'), ('name', 'Zhihu topic ID')]\n",
      "[('p', 'http://www.wikidata.org/prop/direct/P3630'), ('name', 'Babelio author ID')]\n",
      "[('p', 'http://www.wikidata.org/prop/direct/P373'), ('name', 'Commons category')]\n",
      "[('p', 'http://www.wikidata.org/prop/direct/P3846'), ('name', 'DBC author ID')]\n",
      "[('p', 'http://www.wikidata.org/prop/direct/P39'), ('name', 'position held')]\n",
      "[('p', 'http://www.wikidata.org/prop/direct/P40'), ('name', 'child')]\n",
      "[('p', 'http://www.wikidata.org/prop/direct/P4342'), ('name', 'Store norske leksikon ID')]\n",
      "[('p', 'http://www.wikidata.org/prop/direct/P4544'), ('name', 'Tennis Temple player ID')]\n",
      "[('p', 'http://www.wikidata.org/prop/direct/P463'), ('name', 'member of')]\n",
      "[('p', 'http://www.wikidata.org/prop/direct/P4666'), ('name', 'CineMagia person ID')]\n",
      "[('p', 'http://www.wikidata.org/prop/direct/P4789'), ('name', \"Who's Who UK ID\")]\n",
      "[('p', 'http://www.wikidata.org/prop/direct/P4985'), ('name', 'TMDb person ID')]\n",
      "[('p', 'http://www.wikidata.org/prop/direct/P5019'), ('name', 'Brockhaus Enzyklopädie online ID')]\n",
      "[('p', 'http://www.wikidata.org/prop/direct/P5034'), ('name', 'National Library of Korea ID')]\n",
      "[('p', 'http://www.wikidata.org/prop/direct/P5247'), ('name', 'Giant Bomb ID')]\n",
      "[('p', 'http://www.wikidata.org/prop/direct/P5337'), ('name', 'Google News topics ID')]\n",
      "[('p', 'http://www.wikidata.org/prop/direct/P5361'), ('name', 'BNB person ID')]\n",
      "[('p', 'http://www.wikidata.org/prop/direct/P5421'), ('name', 'Trading Card Database person ID')]\n",
      "[('p', 'http://www.wikidata.org/prop/direct/P551'), ('name', 'residence')]\n",
      "[('p', 'http://www.wikidata.org/prop/direct/P552'), ('name', 'handedness')]\n",
      "[('p', 'http://www.wikidata.org/prop/direct/P555'), ('name', 'doubles record')]\n",
      "[('p', 'http://www.wikidata.org/prop/direct/P5617'), ('name', 'Evene ID')]\n",
      "[('p', 'http://www.wikidata.org/prop/direct/P564'), ('name', 'singles record')]\n",
      "[('p', 'http://www.wikidata.org/prop/direct/P569'), ('name', 'date of birth')]\n",
      "[('p', 'http://www.wikidata.org/prop/direct/P5815'), ('name', 'Olympics.com athlete ID')]\n",
      "[('p', 'http://www.wikidata.org/prop/direct/P599'), ('name', 'ITF player ID')]\n",
      "[('p', 'http://www.wikidata.org/prop/direct/P6262'), ('name', 'Fandom article ID')]\n",
      "[('p', 'http://www.wikidata.org/prop/direct/P6327'), ('name', 'Goodreads character ID')]\n",
      "[('p', 'http://www.wikidata.org/prop/direct/P641'), ('name', 'sport')]\n",
      "[('p', 'http://www.wikidata.org/prop/direct/P646'), ('name', 'Freebase ID')]\n",
      "[('p', 'http://www.wikidata.org/prop/direct/P6553'), ('name', 'personal pronoun')]\n",
      "[('p', 'http://www.wikidata.org/prop/direct/P6573'), ('name', 'Klexikon article ID')]\n",
      "[('p', 'http://www.wikidata.org/prop/direct/P6656'), ('name', 'BHCL ID (former scheme)')]\n",
      "[('p', 'http://www.wikidata.org/prop/direct/P6683'), ('name', 'Alexander Turnbull Library ID')]\n",
      "[('p', 'http://www.wikidata.org/prop/direct/P6868'), ('name', 'Hoopla artist ID')]\n",
      "[('p', 'http://www.wikidata.org/prop/direct/P691'), ('name', 'NKCR AUT ID')]\n",
      "[('p', 'http://www.wikidata.org/prop/direct/P7293'), ('name', 'PLWABN ID')]\n",
      "[('p', 'http://www.wikidata.org/prop/direct/P734'), ('name', 'family name')]\n",
      "[('p', 'http://www.wikidata.org/prop/direct/P735'), ('name', 'given name')]\n",
      "100\n"
     ]
    }
   ],
   "source": [
    "# query example\n",
    "queryString = \"\"\"\n",
    "SELECT DISTINCT ?p ?name\n",
    "WHERE {\n",
    "   # bind something\n",
    "   wd:Q1426 ?p ?obj .\n",
    "   # get the label\n",
    "   ?p sc:name ?name.\n",
    "}\n",
    "LIMIT 100\n",
    "\"\"\"\n",
    "\n",
    "print(\"Results\")\n",
    "x=run_query(queryString)"
   ]
  },
  {
   "cell_type": "code",
   "execution_count": 3,
   "id": "6f80c942-4d69-4d64-b83a-c906054f8104",
   "metadata": {},
   "outputs": [
    {
     "name": "stdout",
     "output_type": "stream",
     "text": [
      "Results\n",
      "[('obj', 'http://www.wikidata.org/entity/Q10833314'), ('name', 'tennis player')]\n",
      "1\n"
     ]
    }
   ],
   "source": [
    "# Roger Federer's profession\n",
    "queryString = \"\"\"\n",
    "SELECT DISTINCT ?obj ?name\n",
    "WHERE {\n",
    "   wd:Q1426 wdt:P106 ?obj .\n",
    "   # get the label\n",
    "   ?obj sc:name ?name.\n",
    "}\n",
    "LIMIT 20\n",
    "\"\"\"\n",
    "\n",
    "print(\"Results\")\n",
    "x=run_query(queryString)"
   ]
  },
  {
   "cell_type": "code",
   "execution_count": 4,
   "id": "0060031d-2a14-4740-a60b-c4a25e29d176",
   "metadata": {},
   "outputs": [
    {
     "name": "stdout",
     "output_type": "stream",
     "text": [
      "Results\n",
      "[('p', 'http://www.wikidata.org/prop/direct/P1014'), ('name', 'Art & Architecture Thesaurus ID')]\n",
      "[('p', 'http://www.wikidata.org/prop/direct/P1296'), ('name', 'Gran Enciclopèdia Catalana ID')]\n",
      "[('p', 'http://www.wikidata.org/prop/direct/P1424'), ('name', \"topic's main template\")]\n",
      "[('p', 'http://www.wikidata.org/prop/direct/P1552'), ('name', 'has quality')]\n",
      "[('p', 'http://www.wikidata.org/prop/direct/P1709'), ('name', 'equivalent class')]\n",
      "[('p', 'http://www.wikidata.org/prop/direct/P18'), ('name', 'image')]\n",
      "[('p', 'http://www.wikidata.org/prop/direct/P1963'), ('name', 'properties for this type')]\n",
      "[('p', 'http://www.wikidata.org/prop/direct/P227'), ('name', 'GND ID')]\n",
      "[('p', 'http://www.wikidata.org/prop/direct/P2354'), ('name', 'has list')]\n",
      "[('p', 'http://www.wikidata.org/prop/direct/P244'), ('name', 'Library of Congress authority ID')]\n",
      "[('p', 'http://www.wikidata.org/prop/direct/P268'), ('name', 'Bibliothèque nationale de France ID')]\n",
      "[('p', 'http://www.wikidata.org/prop/direct/P279'), ('name', 'subclass of')]\n",
      "[('p', 'http://www.wikidata.org/prop/direct/P2888'), ('name', 'exact match')]\n",
      "[('p', 'http://www.wikidata.org/prop/direct/P31'), ('name', 'instance of')]\n",
      "[('p', 'http://www.wikidata.org/prop/direct/P3417'), ('name', 'Quora topic ID')]\n",
      "[('p', 'http://www.wikidata.org/prop/direct/P373'), ('name', 'Commons category')]\n",
      "[('p', 'http://www.wikidata.org/prop/direct/P425'), ('name', 'field of this occupation')]\n",
      "[('p', 'http://www.wikidata.org/prop/direct/P508'), ('name', 'BNCF Thesaurus ID')]\n",
      "[('p', 'http://www.wikidata.org/prop/direct/P6186'), ('name', 'category for eponymous categories')]\n",
      "[('p', 'http://www.wikidata.org/prop/direct/P641'), ('name', 'sport')]\n",
      "[('p', 'http://www.wikidata.org/prop/direct/P646'), ('name', 'Freebase ID')]\n",
      "[('p', 'http://www.wikidata.org/prop/direct/P8814'), ('name', 'WordNet 3.1 Synset ID')]\n",
      "[('p', 'http://www.wikidata.org/prop/direct/P910'), ('name', \"topic's main category\")]\n",
      "23\n"
     ]
    }
   ],
   "source": [
    "# 'tennis player' predicates\n",
    "queryString = \"\"\"\n",
    "SELECT DISTINCT ?p ?name\n",
    "WHERE {\n",
    "   wd:Q10833314 ?p ?obj .\n",
    "   # get the label\n",
    "   ?p sc:name ?name.\n",
    "}\n",
    "LIMIT 30\n",
    "\"\"\"\n",
    "\n",
    "print(\"Results\")\n",
    "x=run_query(queryString)"
   ]
  },
  {
   "cell_type": "code",
   "execution_count": 5,
   "id": "bcddd84a-6fb5-45eb-90ee-d70f021593bc",
   "metadata": {},
   "outputs": [
    {
     "name": "stdout",
     "output_type": "stream",
     "text": [
      "Results\n",
      "[('p', 'http://www.wikidata.org/prop/direct/P425'), ('name', 'field of this occupation'), ('obj', 'http://www.wikidata.org/entity/Q56054951'), ('obj_name', \"men's tennis\")]\n",
      "[('p', 'http://www.wikidata.org/prop/direct/P279'), ('name', 'subclass of'), ('obj', 'http://www.wikidata.org/entity/Q18536342'), ('obj_name', 'competitive player')]\n",
      "[('p', 'http://www.wikidata.org/prop/direct/P31'), ('name', 'instance of'), ('obj', 'http://www.wikidata.org/entity/Q28640'), ('obj_name', 'profession')]\n",
      "[('p', 'http://www.wikidata.org/prop/direct/P425'), ('name', 'field of this occupation'), ('obj', 'http://www.wikidata.org/entity/Q847'), ('obj_name', 'tennis')]\n",
      "[('p', 'http://www.wikidata.org/prop/direct/P641'), ('name', 'sport'), ('obj', 'http://www.wikidata.org/entity/Q847'), ('obj_name', 'tennis')]\n",
      "[('p', 'http://www.wikidata.org/prop/direct/P279'), ('name', 'subclass of'), ('obj', 'http://www.wikidata.org/entity/Q2066131'), ('obj_name', 'athlete')]\n",
      "[('p', 'http://www.wikidata.org/prop/direct/P1963'), ('name', 'properties for this type'), ('obj', 'http://www.wikidata.org/entity/P3698'), ('obj_name', 'Tennis Australia player ID')]\n",
      "[('p', 'http://www.wikidata.org/prop/direct/P1963'), ('name', 'properties for this type'), ('obj', 'http://www.wikidata.org/entity/P2641'), ('obj_name', 'Davis Cup player ID')]\n",
      "[('p', 'http://www.wikidata.org/prop/direct/P1963'), ('name', 'properties for this type'), ('obj', 'http://www.wikidata.org/entity/P2642'), ('obj_name', 'Fed Cup player ID')]\n",
      "[('p', 'http://www.wikidata.org/prop/direct/P1963'), ('name', 'properties for this type'), ('obj', 'http://www.wikidata.org/entity/P3363'), ('obj_name', 'Tennis Hall of Fame player ID')]\n",
      "[('p', 'http://www.wikidata.org/prop/direct/P1963'), ('name', 'properties for this type'), ('obj', 'http://www.wikidata.org/entity/P3670'), ('obj_name', 'Tennis Archives player ID')]\n",
      "[('p', 'http://www.wikidata.org/prop/direct/P1963'), ('name', 'properties for this type'), ('obj', 'http://www.wikidata.org/entity/P4402'), ('obj_name', \"Women's Collegiate Tennis Hall of Fame ID\")]\n",
      "[('p', 'http://www.wikidata.org/prop/direct/P1963'), ('name', 'properties for this type'), ('obj', 'http://www.wikidata.org/entity/P4503'), ('obj_name', 'Wimbledon player ID')]\n",
      "[('p', 'http://www.wikidata.org/prop/direct/P1963'), ('name', 'properties for this type'), ('obj', 'http://www.wikidata.org/entity/P4544'), ('obj_name', 'Tennis Temple player ID')]\n",
      "[('p', 'http://www.wikidata.org/prop/direct/P1963'), ('name', 'properties for this type'), ('obj', 'http://www.wikidata.org/entity/P536'), ('obj_name', 'ATP player ID')]\n",
      "[('p', 'http://www.wikidata.org/prop/direct/P1963'), ('name', 'properties for this type'), ('obj', 'http://www.wikidata.org/entity/P552'), ('obj_name', 'handedness')]\n",
      "[('p', 'http://www.wikidata.org/prop/direct/P1963'), ('name', 'properties for this type'), ('obj', 'http://www.wikidata.org/entity/P597'), ('obj_name', 'WTA player ID')]\n",
      "[('p', 'http://www.wikidata.org/prop/direct/P1963'), ('name', 'properties for this type'), ('obj', 'http://www.wikidata.org/entity/P599'), ('obj_name', 'ITF player ID')]\n",
      "[('p', 'http://www.wikidata.org/prop/direct/P6186'), ('name', 'category for eponymous categories'), ('obj', 'http://www.wikidata.org/entity/Q17477038'), ('obj_name', 'Category:Wikipedia categories named after tennis players')]\n",
      "[('p', 'http://www.wikidata.org/prop/direct/P425'), ('name', 'field of this occupation'), ('obj', 'http://www.wikidata.org/entity/Q17988507'), ('obj_name', \"women's tennis\")]\n",
      "[('p', 'http://www.wikidata.org/prop/direct/P2354'), ('name', 'has list'), ('obj', 'http://www.wikidata.org/entity/Q2050412'), ('obj_name', 'list of male tennis players')]\n",
      "[('p', 'http://www.wikidata.org/prop/direct/P2354'), ('name', 'has list'), ('obj', 'http://www.wikidata.org/entity/Q3238475'), ('obj_name', 'lists of tennis players')]\n",
      "[('p', 'http://www.wikidata.org/prop/direct/P2354'), ('name', 'has list'), ('obj', 'http://www.wikidata.org/entity/Q3249741'), ('obj_name', 'list of female tennis players')]\n",
      "[('p', 'http://www.wikidata.org/prop/direct/P1552'), ('name', 'has quality'), ('obj', 'http://www.wikidata.org/entity/Q48295870'), ('obj_name', 'rating')]\n",
      "[('p', 'http://www.wikidata.org/prop/direct/P910'), ('name', \"topic's main category\"), ('obj', 'http://www.wikidata.org/entity/Q4853725'), ('obj_name', 'Category:Tennis players')]\n",
      "[('p', 'http://www.wikidata.org/prop/direct/P1424'), ('name', \"topic's main template\"), ('obj', 'http://www.wikidata.org/entity/Q6053701'), ('obj_name', 'Template:Infobox tennis biography')]\n",
      "26\n"
     ]
    }
   ],
   "source": [
    "# 'tennis player' details\n",
    "queryString = \"\"\"\n",
    "SELECT DISTINCT ?p ?name ?obj ?obj_name\n",
    "WHERE {\n",
    "   wd:Q10833314 ?p ?obj .\n",
    "   # get the label\n",
    "   ?p sc:name ?name.\n",
    "   ?obj sc:name ?obj_name.\n",
    "}\n",
    "LIMIT 30\n",
    "\"\"\"\n",
    "\n",
    "print(\"Results\")\n",
    "x=run_query(queryString)"
   ]
  },
  {
   "cell_type": "markdown",
   "id": "04b98ec4",
   "metadata": {},
   "source": [
    "Final query for this task"
   ]
  },
  {
   "cell_type": "code",
   "execution_count": 6,
   "id": "bea8afdf",
   "metadata": {},
   "outputs": [
    {
     "name": "stdout",
     "output_type": "stream",
     "text": [
      "Results\n",
      "[('obj', 'http://www.wikidata.org/entity/Q10833314'), ('name', 'tennis player')]\n",
      "1\n"
     ]
    }
   ],
   "source": [
    "# write your final query\n",
    "\n",
    "queryString = \"\"\"\n",
    "SELECT DISTINCT ?obj ?name\n",
    "WHERE {\n",
    "   wd:Q1426 wdt:P106 ?obj .\n",
    "   # get the label\n",
    "   ?obj sc:name ?name.\n",
    "}\n",
    "LIMIT 20\n",
    "\"\"\"\n",
    "\n",
    "print(\"Results\")\n",
    "x=run_query(queryString)"
   ]
  },
  {
   "cell_type": "markdown",
   "id": "dfe8e79a",
   "metadata": {},
   "source": [
    "## Task 2\n",
    "Identify the BGP for tennis tournament"
   ]
  },
  {
   "cell_type": "code",
   "execution_count": 7,
   "id": "6ed83f34",
   "metadata": {},
   "outputs": [
    {
     "name": "stdout",
     "output_type": "stream",
     "text": [
      "Results\n",
      "[('s', 'http://www.wikidata.org/entity/Q22956224'), ('s_name', \"2017 Australian Open – Men's Singles\"), ('p', 'http://www.wikidata.org/prop/direct/P1346'), ('name', 'winner')]\n",
      "[('s', 'http://www.wikidata.org/entity/Q3983549'), ('s_name', '2007 Tennis Masters Cup – singles'), ('p', 'http://www.wikidata.org/prop/direct/P1346'), ('name', 'winner')]\n",
      "[('s', 'http://www.wikidata.org/entity/Q2537671'), ('s_name', '2011 Qatar Open – singles'), ('p', 'http://www.wikidata.org/prop/direct/P1346'), ('name', 'winner')]\n",
      "[('s', 'http://www.wikidata.org/entity/Q13076407'), ('s_name', \"2012 Mutua Madrid Open – Men's Singles\"), ('p', 'http://www.wikidata.org/prop/direct/P1346'), ('name', 'winner')]\n",
      "[('s', 'http://www.wikidata.org/entity/Q30311438'), ('s_name', '2017 Gerry Weber Open – singles'), ('p', 'http://www.wikidata.org/prop/direct/P1346'), ('name', 'winner')]\n",
      "[('s', 'http://www.wikidata.org/entity/Q3633911'), ('s_name', '2005 Western & Southern Financial Group Masters – singles'), ('p', 'http://www.wikidata.org/prop/direct/P1346'), ('name', 'winner')]\n",
      "[('s', 'http://www.wikidata.org/entity/Q54584'), ('s_name', 'Andy Roddick'), ('p', 'http://www.wikidata.org/prop/direct/P3342'), ('name', 'significant person')]\n",
      "[('s', 'http://www.wikidata.org/entity/Q782589'), ('s_name', \"2010 Australian Open – Men's Singles\"), ('p', 'http://www.wikidata.org/prop/direct/P1346'), ('name', 'winner')]\n",
      "[('s', 'http://www.wikidata.org/entity/Q58363'), ('s_name', \"2006 NASDAQ-100 Open – Men's Singles\"), ('p', 'http://www.wikidata.org/prop/direct/P1346'), ('name', 'winner')]\n",
      "[('s', 'http://www.wikidata.org/entity/Q3720084'), ('s_name', 'Nick Kyrgios'), ('p', 'http://www.wikidata.org/prop/direct/P737'), ('name', 'influenced by')]\n",
      "[('s', 'http://www.wikidata.org/entity/Q782420'), ('s_name', \"2006 Australian Open – Men's Singles\"), ('p', 'http://www.wikidata.org/prop/direct/P1346'), ('name', 'winner')]\n",
      "[('s', 'http://www.wikidata.org/entity/Q1808301'), ('s_name', 'Laureus World Sports Award for Sportsman of the Year'), ('p', 'http://www.wikidata.org/prop/direct/P1346'), ('name', 'winner')]\n",
      "[('s', 'http://www.wikidata.org/entity/Q3816928'), ('s_name', \"2002 Kremlin Cup – Men's Doubles\"), ('p', 'http://www.wikidata.org/prop/direct/P1346'), ('name', 'winner')]\n",
      "[('s', 'http://www.wikidata.org/entity/Q4601774'), ('s_name', '2003 Roger Federer tennis season'), ('p', 'http://www.wikidata.org/prop/direct/P1269'), ('name', 'facet of')]\n",
      "[('s', 'http://www.wikidata.org/entity/Q23766780'), ('s_name', '2016 Monte-Carlo Rolex Masters – singles'), ('p', 'http://www.wikidata.org/prop/direct/P710'), ('name', 'participant')]\n",
      "[('s', 'http://www.wikidata.org/entity/Q28869949'), ('s_name', \"2017 BNP Paribas Open – Men's Singles\"), ('p', 'http://www.wikidata.org/prop/direct/P1346'), ('name', 'winner')]\n",
      "[('s', 'http://www.wikidata.org/entity/Q33092'), ('s_name', '2008 Gerry Weber Open – singles'), ('p', 'http://www.wikidata.org/prop/direct/P1346'), ('name', 'winner')]\n",
      "[('s', 'http://www.wikidata.org/entity/Q3494048'), ('s_name', 'BBC Overseas Sports Personality of the Year'), ('p', 'http://www.wikidata.org/prop/direct/P1346'), ('name', 'winner')]\n",
      "[('s', 'http://www.wikidata.org/entity/Q753300'), ('s_name', \"2012 Wimbledon Championships – Gentlemen's Singles\"), ('p', 'http://www.wikidata.org/prop/direct/P1346'), ('name', 'winner')]\n",
      "[('s', 'http://www.wikidata.org/entity/Q757054'), ('s_name', \"tennis at the 2008 Summer Olympics – men's doubles\"), ('p', 'http://www.wikidata.org/prop/direct/P1346'), ('name', 'winner')]\n",
      "20\n"
     ]
    }
   ],
   "source": [
    "# Things related to Federer\n",
    "queryString = \"\"\"\n",
    "SELECT DISTINCT ?s ?s_name ?p ?name\n",
    "WHERE {\n",
    "   # bind something\n",
    "   ?s ?p wd:Q1426 .\n",
    "   # get the label\n",
    "   ?p sc:name ?name.\n",
    "   ?s sc:name ?s_name.\n",
    "}\n",
    "LIMIT 20\n",
    "\"\"\"\n",
    "\n",
    "print(\"Results\")\n",
    "x=run_query(queryString)"
   ]
  },
  {
   "cell_type": "code",
   "execution_count": 8,
   "id": "35e096f0-3183-40f4-8b41-606511d6fae1",
   "metadata": {},
   "outputs": [
    {
     "name": "stdout",
     "output_type": "stream",
     "text": [
      "Results\n",
      "[('o', 'http://www.wikidata.org/entity/Q22077628'), ('o_name', '2017 Australian Open'), ('p', 'http://www.wikidata.org/prop/direct/P361'), ('name', 'part of')]\n",
      "[('o', 'http://www.wikidata.org/entity/Q408'), ('o_name', 'Australia'), ('p', 'http://www.wikidata.org/prop/direct/P17'), ('name', 'country')]\n",
      "[('o', 'http://www.wikidata.org/entity/Q847'), ('o_name', 'tennis'), ('p', 'http://www.wikidata.org/prop/direct/P641'), ('name', 'sport')]\n",
      "[('o', 'http://www.wikidata.org/entity/Q1426'), ('o_name', 'Roger Federer'), ('p', 'http://www.wikidata.org/prop/direct/P1346'), ('name', 'winner')]\n",
      "[('o', 'http://www.wikidata.org/entity/Q16893072'), ('o_name', \"men's singles\"), ('p', 'http://www.wikidata.org/prop/direct/P2094'), ('name', 'competition class')]\n",
      "[('o', 'http://www.wikidata.org/entity/Q46190676'), ('o_name', 'tennis event'), ('p', 'http://www.wikidata.org/prop/direct/P31'), ('name', 'instance of')]\n",
      "6\n"
     ]
    }
   ],
   "source": [
    "# '2017 Australian Open – Men's Singles' details\n",
    "queryString = \"\"\"\n",
    "SELECT DISTINCT ?o ?o_name ?p ?name\n",
    "WHERE {\n",
    "   # bind something\n",
    "   wd:Q22956224 ?p ?o .\n",
    "   # get the label\n",
    "   ?p sc:name ?name.\n",
    "   ?o sc:name ?o_name.\n",
    "}\n",
    "LIMIT 20\n",
    "\"\"\"\n",
    "\n",
    "print(\"Results\")\n",
    "x=run_query(queryString)"
   ]
  },
  {
   "cell_type": "code",
   "execution_count": 9,
   "id": "7ba63de2-55e6-4aba-ba8a-748cb6c7359b",
   "metadata": {},
   "outputs": [
    {
     "name": "stdout",
     "output_type": "stream",
     "text": [
      "Results\n",
      "[('o', 'http://www.wikidata.org/entity/Q21170330'), ('o_name', 'tennis qualification event'), ('p', 'http://www.wikidata.org/prop/direct/P2670'), ('name', 'has parts of the class')]\n",
      "[('o', 'http://www.wikidata.org/entity/P361'), ('o_name', 'part of'), ('p', 'http://www.wikidata.org/prop/direct/P1963'), ('name', 'properties for this type')]\n",
      "[('o', 'http://www.wikidata.org/entity/Q16510064'), ('o_name', 'sporting event'), ('p', 'http://www.wikidata.org/prop/direct/P279'), ('name', 'subclass of')]\n",
      "[('o', 'http://www.wikidata.org/entity/Q847'), ('o_name', 'tennis'), ('p', 'http://www.wikidata.org/prop/direct/P641'), ('name', 'sport')]\n",
      "[('o', 'http://www.wikidata.org/entity/P641'), ('o_name', 'sport'), ('p', 'http://www.wikidata.org/prop/direct/P1963'), ('name', 'properties for this type')]\n",
      "[('o', 'http://www.wikidata.org/entity/Q47345468'), ('o_name', 'tennis tournament edition'), ('p', 'http://www.wikidata.org/prop/direct/P361'), ('name', 'part of')]\n",
      "[('o', 'http://www.wikidata.org/entity/P1346'), ('o_name', 'winner'), ('p', 'http://www.wikidata.org/prop/direct/P1963'), ('name', 'properties for this type')]\n",
      "[('o', 'http://www.wikidata.org/entity/P710'), ('o_name', 'participant'), ('p', 'http://www.wikidata.org/prop/direct/P1963'), ('name', 'properties for this type')]\n",
      "[('o', 'http://www.wikidata.org/entity/P2094'), ('o_name', 'competition class'), ('p', 'http://www.wikidata.org/prop/direct/P1963'), ('name', 'properties for this type')]\n",
      "[('o', 'http://www.wikidata.org/entity/Q47459169'), ('o_name', 'tennis match'), ('p', 'http://www.wikidata.org/prop/direct/P2670'), ('name', 'has parts of the class')]\n",
      "[('o', 'http://www.wikidata.org/entity/Q1967745'), ('o_name', 'type of tennis match'), ('p', 'http://www.wikidata.org/prop/direct/P1552'), ('name', 'has quality')]\n",
      "11\n"
     ]
    }
   ],
   "source": [
    "# 'tennis event' details\n",
    "queryString = \"\"\"\n",
    "SELECT DISTINCT ?o ?o_name ?p ?name\n",
    "WHERE {\n",
    "   # bind something\n",
    "   wd:Q46190676 ?p ?o .\n",
    "   # get the label\n",
    "   ?p sc:name ?name.\n",
    "   ?o sc:name ?o_name.\n",
    "}\n",
    "LIMIT 20\n",
    "\"\"\"\n",
    "\n",
    "print(\"Results\")\n",
    "x=run_query(queryString)"
   ]
  },
  {
   "cell_type": "code",
   "execution_count": 10,
   "id": "a2e9b460-29dd-49cb-a81d-6f1e10eb6735",
   "metadata": {
    "tags": []
   },
   "outputs": [
    {
     "name": "stdout",
     "output_type": "stream",
     "text": [
      "Results\n",
      "[('o', 'http://www.wikidata.org/entity/P393'), ('o_name', 'edition number'), ('p', 'http://www.wikidata.org/prop/direct/P1963'), ('name', 'properties for this type')]\n",
      "[('o', 'http://www.wikidata.org/entity/Q47382471'), ('o_name', 'day-by-day summary'), ('p', 'http://www.wikidata.org/prop/direct/P2670'), ('name', 'has parts of the class')]\n",
      "[('o', 'http://www.wikidata.org/entity/P580'), ('o_name', 'start time'), ('p', 'http://www.wikidata.org/prop/direct/P1963'), ('name', 'properties for this type')]\n",
      "[('o', 'http://www.wikidata.org/entity/P582'), ('o_name', 'end time'), ('p', 'http://www.wikidata.org/prop/direct/P1963'), ('name', 'properties for this type')]\n",
      "[('o', 'http://www.wikidata.org/entity/P17'), ('o_name', 'country'), ('p', 'http://www.wikidata.org/prop/direct/P1963'), ('name', 'properties for this type')]\n",
      "[('o', 'http://www.wikidata.org/entity/Q13219666'), ('o_name', 'tennis tournament'), ('p', 'http://www.wikidata.org/prop/direct/P361'), ('name', 'part of')]\n",
      "[('o', 'http://www.wikidata.org/entity/Q27020041'), ('o_name', 'sports season'), ('p', 'http://www.wikidata.org/prop/direct/P279'), ('name', 'subclass of')]\n",
      "[('o', 'http://www.wikidata.org/entity/Q847'), ('o_name', 'tennis'), ('p', 'http://www.wikidata.org/prop/direct/P641'), ('name', 'sport')]\n",
      "[('o', 'http://www.wikidata.org/entity/P527'), ('o_name', 'has part'), ('p', 'http://www.wikidata.org/prop/direct/P1963'), ('name', 'properties for this type')]\n",
      "[('o', 'http://www.wikidata.org/entity/Q47358534'), ('o_name', 'tennis tour edition'), ('p', 'http://www.wikidata.org/prop/direct/P361'), ('name', 'part of')]\n",
      "[('o', 'http://www.wikidata.org/entity/P641'), ('o_name', 'sport'), ('p', 'http://www.wikidata.org/prop/direct/P1963'), ('name', 'properties for this type')]\n",
      "[('o', 'http://www.wikidata.org/entity/Q46190676'), ('o_name', 'tennis event'), ('p', 'http://www.wikidata.org/prop/direct/P2670'), ('name', 'has parts of the class')]\n",
      "[('o', 'http://www.wikidata.org/entity/P276'), ('o_name', 'location'), ('p', 'http://www.wikidata.org/prop/direct/P1963'), ('name', 'properties for this type')]\n",
      "[('o', 'http://www.wikidata.org/entity/P585'), ('o_name', 'point in time'), ('p', 'http://www.wikidata.org/prop/direct/P1963'), ('name', 'properties for this type')]\n",
      "[('o', 'http://www.wikidata.org/entity/Q27968055'), ('o_name', 'recurrent event edition'), ('p', 'http://www.wikidata.org/prop/direct/P279'), ('name', 'subclass of')]\n",
      "15\n"
     ]
    }
   ],
   "source": [
    "# 'tennis tournament edition' details\n",
    "queryString = \"\"\"\n",
    "SELECT DISTINCT ?o ?o_name ?p ?name\n",
    "WHERE {\n",
    "   # bind something\n",
    "   wd:Q47345468 ?p ?o .\n",
    "   # get the label\n",
    "   ?p sc:name ?name.\n",
    "   ?o sc:name ?o_name.\n",
    "}\n",
    "LIMIT 20\n",
    "\"\"\"\n",
    "\n",
    "print(\"Results\")\n",
    "x=run_query(queryString)"
   ]
  },
  {
   "cell_type": "code",
   "execution_count": 11,
   "id": "d9919286-56dd-4556-b837-77a56c800ae8",
   "metadata": {},
   "outputs": [
    {
     "name": "stdout",
     "output_type": "stream",
     "text": [
      "Results\n",
      "[('o', 'http://www.wikidata.org/entity/Q13406554'), ('o_name', 'sports competition'), ('p', 'http://www.wikidata.org/prop/direct/P279'), ('name', 'subclass of')]\n",
      "[('o', 'http://www.wikidata.org/entity/Q847'), ('o_name', 'tennis'), ('p', 'http://www.wikidata.org/prop/direct/P641'), ('name', 'sport')]\n",
      "[('o', 'http://www.wikidata.org/entity/Q46190676'), ('o_name', 'tennis event'), ('p', 'http://www.wikidata.org/prop/direct/P2670'), ('name', 'has parts of the class')]\n",
      "[('o', 'http://www.wikidata.org/entity/Q6452600'), ('o_name', 'Template:ATP Tournament'), ('p', 'http://www.wikidata.org/prop/direct/P1424'), ('name', \"topic's main template\")]\n",
      "[('o', 'http://www.wikidata.org/entity/Q6642846'), ('o_name', 'list of tennis tournaments'), ('p', 'http://www.wikidata.org/prop/direct/P2354'), ('name', 'has list')]\n",
      "[('o', 'http://www.wikidata.org/entity/Q7474005'), ('o_name', 'Template:Infobox tennis tournament year'), ('p', 'http://www.wikidata.org/prop/direct/P1424'), ('name', \"topic's main template\")]\n",
      "[('o', 'http://www.wikidata.org/entity/Q22803873'), ('o_name', 'Template:WTA tournament'), ('p', 'http://www.wikidata.org/prop/direct/P1424'), ('name', \"topic's main template\")]\n",
      "[('o', 'http://www.wikidata.org/entity/Q5325422'), ('o_name', 'Category:Tennis tournaments'), ('p', 'http://www.wikidata.org/prop/direct/P910'), ('name', \"topic's main category\")]\n",
      "[('o', 'http://www.wikidata.org/entity/Q10810031'), ('o_name', 'Template:Infobox ATP Challenger Tournament'), ('p', 'http://www.wikidata.org/prop/direct/P1424'), ('name', \"topic's main template\")]\n",
      "9\n"
     ]
    }
   ],
   "source": [
    "# 'tennis tournament' details\n",
    "queryString = \"\"\"\n",
    "SELECT DISTINCT ?o ?o_name ?p ?name\n",
    "WHERE {\n",
    "   # bind something\n",
    "   wd:Q13219666 ?p ?o .\n",
    "   # get the label\n",
    "   ?p sc:name ?name.\n",
    "   ?o sc:name ?o_name.\n",
    "}\n",
    "LIMIT 20\n",
    "\"\"\"\n",
    "\n",
    "print(\"Results\")\n",
    "x=run_query(queryString)"
   ]
  },
  {
   "cell_type": "markdown",
   "id": "45e98b62",
   "metadata": {},
   "source": [
    "Final query for this task"
   ]
  },
  {
   "cell_type": "code",
   "execution_count": 3,
   "id": "b25ed4ba",
   "metadata": {},
   "outputs": [
    {
     "name": "stdout",
     "output_type": "stream",
     "text": [
      "Results\n",
      "[('o', 'http://www.wikidata.org/entity/P393'), ('o_name', 'edition number')]\n",
      "[('o', 'http://www.wikidata.org/entity/Q47382471'), ('o_name', 'day-by-day summary')]\n",
      "[('o', 'http://www.wikidata.org/entity/P580'), ('o_name', 'start time')]\n",
      "[('o', 'http://www.wikidata.org/entity/P582'), ('o_name', 'end time')]\n",
      "[('o', 'http://www.wikidata.org/entity/P17'), ('o_name', 'country')]\n",
      "[('o', 'http://www.wikidata.org/entity/Q13219666'), ('o_name', 'tennis tournament')]\n",
      "[('o', 'http://www.wikidata.org/entity/Q27020041'), ('o_name', 'sports season')]\n",
      "[('o', 'http://www.wikidata.org/entity/Q847'), ('o_name', 'tennis')]\n",
      "[('o', 'http://www.wikidata.org/entity/P527'), ('o_name', 'has part')]\n",
      "[('o', 'http://www.wikidata.org/entity/Q47358534'), ('o_name', 'tennis tour edition')]\n",
      "[('o', 'http://www.wikidata.org/entity/P641'), ('o_name', 'sport')]\n",
      "[('o', 'http://www.wikidata.org/entity/Q46190676'), ('o_name', 'tennis event')]\n",
      "[('o', 'http://www.wikidata.org/entity/P276'), ('o_name', 'location')]\n",
      "[('o', 'http://www.wikidata.org/entity/P585'), ('o_name', 'point in time')]\n",
      "[('o', 'http://www.wikidata.org/entity/Q27968055'), ('o_name', 'recurrent event edition')]\n",
      "15\n"
     ]
    }
   ],
   "source": [
    "# write your final query\n",
    "\n",
    "queryString = \"\"\"\n",
    "SELECT DISTINCT ?o ?o_name\n",
    "WHERE {\n",
    "   # bind something\n",
    "   wd:Q47345468 ?p ?o .\n",
    "   # get the label\n",
    "   ?p sc:name ?name.\n",
    "   ?o sc:name ?o_name.\n",
    "}\n",
    "LIMIT 20\n",
    "\"\"\"\n",
    "\n",
    "print(\"Results\")\n",
    "x=run_query(queryString)"
   ]
  },
  {
   "cell_type": "markdown",
   "id": "848a9e03",
   "metadata": {},
   "source": [
    "## Task 3\n",
    "Return the four Grand Slam of tennis (hint: One of these four is Wimbledon) (the result set must be a list of four couples Grand Slam IRI and label)."
   ]
  },
  {
   "cell_type": "code",
   "execution_count": 12,
   "id": "6393c97a",
   "metadata": {},
   "outputs": [
    {
     "name": "stdout",
     "output_type": "stream",
     "text": [
      "Results\n",
      "[('s', 'http://www.wikidata.org/entity/Q13219666'), ('s_name', 'tennis tournament'), ('p', 'http://www.wikidata.org/prop/direct/P910'), ('name', \"topic's main category\")]\n",
      "1\n"
     ]
    }
   ],
   "source": [
    "# Things related to 'Tennis tournaments'\n",
    "queryString = \"\"\"\n",
    "SELECT DISTINCT ?s ?s_name ?p ?name\n",
    "WHERE {\n",
    "   # bind something\n",
    "   ?s ?p wd:Q5325422 .\n",
    "   # get the label\n",
    "   ?p sc:name ?name.\n",
    "   ?s sc:name ?s_name.\n",
    "}\n",
    "LIMIT 20\n",
    "\"\"\"\n",
    "\n",
    "\n",
    "print(\"Results\")\n",
    "x=run_query(queryString)"
   ]
  },
  {
   "cell_type": "code",
   "execution_count": 14,
   "id": "b24b6d8a-9295-4ee6-89a1-f5a6d0ac733a",
   "metadata": {},
   "outputs": [
    {
     "name": "stdout",
     "output_type": "stream",
     "text": [
      "Results\n",
      "[('s', 'http://www.wikidata.org/entity/Q299931'), ('s_name', 'Chile Open'), ('p', 'http://www.wikidata.org/prop/direct/P279'), ('name', 'subclass of')]\n",
      "[('s', 'http://www.wikidata.org/entity/Q299384'), ('s_name', 'Delray Beach International Tennis Championships'), ('p', 'http://www.wikidata.org/prop/direct/P31'), ('name', 'instance of')]\n",
      "[('s', 'http://www.wikidata.org/entity/Q1961762'), ('s_name', 'Mersin Cup'), ('p', 'http://www.wikidata.org/prop/direct/P279'), ('name', 'subclass of')]\n",
      "[('s', 'http://www.wikidata.org/entity/Q2415348'), ('s_name', 'Masters France'), ('p', 'http://www.wikidata.org/prop/direct/P279'), ('name', 'subclass of')]\n",
      "[('s', 'http://www.wikidata.org/entity/Q3935780'), ('s_name', 'Rijeka Open'), ('p', 'http://www.wikidata.org/prop/direct/P279'), ('name', 'subclass of')]\n",
      "[('s', 'http://www.wikidata.org/entity/Q3954502'), ('s_name', 'Seguros Bolívar Open Cali'), ('p', 'http://www.wikidata.org/prop/direct/P279'), ('name', 'subclass of')]\n",
      "[('s', 'http://www.wikidata.org/entity/Q558006'), ('s_name', 'Burnie International'), ('p', 'http://www.wikidata.org/prop/direct/P279'), ('name', 'subclass of')]\n",
      "[('s', 'http://www.wikidata.org/entity/Q768991'), ('s_name', 'Morocco Tennis Tour – Marrakech'), ('p', 'http://www.wikidata.org/prop/direct/P279'), ('name', 'subclass of')]\n",
      "[('s', 'http://www.wikidata.org/entity/Q15729796'), ('s_name', 'State Bank of India ATP Challenger Tour'), ('p', 'http://www.wikidata.org/prop/direct/P279'), ('name', 'subclass of')]\n",
      "[('s', 'http://www.wikidata.org/entity/Q3883186'), ('s_name', 'Open GDF Suez de Marseille'), ('p', 'http://www.wikidata.org/prop/direct/P279'), ('name', 'subclass of')]\n",
      "[('s', 'http://www.wikidata.org/entity/Q16859467'), ('s_name', '2014 Heilbronner Neckarcup'), ('p', 'http://www.wikidata.org/prop/direct/P31'), ('name', 'instance of')]\n",
      "[('s', 'http://www.wikidata.org/entity/Q17306815'), ('s_name', 'USTA Player Development Classic'), ('p', 'http://www.wikidata.org/prop/direct/P279'), ('name', 'subclass of')]\n",
      "[('s', 'http://www.wikidata.org/entity/Q17333197'), ('s_name', 'Femenil Mérida Circuit'), ('p', 'http://www.wikidata.org/prop/direct/P279'), ('name', 'subclass of')]\n",
      "[('s', 'http://www.wikidata.org/entity/Q17333223'), ('s_name', 'UTF Cup'), ('p', 'http://www.wikidata.org/prop/direct/P279'), ('name', 'subclass of')]\n",
      "[('s', 'http://www.wikidata.org/entity/Q17461001'), ('s_name', 'Tennis at the Far Eastern Games'), ('p', 'http://www.wikidata.org/prop/direct/P279'), ('name', 'subclass of')]\n",
      "[('s', 'http://www.wikidata.org/entity/Q17464028'), ('s_name', \"ITF Women's Circuit – Wuhan\"), ('p', 'http://www.wikidata.org/prop/direct/P279'), ('name', 'subclass of')]\n",
      "[('s', 'http://www.wikidata.org/entity/Q13528155'), ('s_name', \"ITF Women's Circuit UBS Thurgau\"), ('p', 'http://www.wikidata.org/prop/direct/P279'), ('name', 'subclass of')]\n",
      "[('s', 'http://www.wikidata.org/entity/Q17493278'), ('s_name', 'International Tennis Tournament of Cortina'), ('p', 'http://www.wikidata.org/prop/direct/P279'), ('name', 'subclass of')]\n",
      "[('s', 'http://www.wikidata.org/entity/Q24911704'), ('s_name', 'Zhengzhou Open'), ('p', 'http://www.wikidata.org/prop/direct/P279'), ('name', 'subclass of')]\n",
      "[('s', 'http://www.wikidata.org/entity/Q22235842'), ('s_name', 'Manila Challenger'), ('p', 'http://www.wikidata.org/prop/direct/P279'), ('name', 'subclass of')]\n",
      "20\n"
     ]
    }
   ],
   "source": [
    "# Things related to 'Tennis tournament'\n",
    "queryString = \"\"\"\n",
    "SELECT DISTINCT ?s ?s_name ?p ?name\n",
    "WHERE {\n",
    "   # bind something\n",
    "   ?s ?p wd:Q13219666 .\n",
    "   # get the label\n",
    "   ?p sc:name ?name.\n",
    "   ?s sc:name ?s_name.\n",
    "}\n",
    "LIMIT 20\n",
    "\"\"\"\n",
    "\n",
    "\n",
    "print(\"Results\")\n",
    "x=run_query(queryString)"
   ]
  },
  {
   "cell_type": "code",
   "execution_count": 15,
   "id": "8334e8fd-fe1f-4aa0-a1ca-5462077ca676",
   "metadata": {},
   "outputs": [
    {
     "name": "stdout",
     "output_type": "stream",
     "text": [
      "Results\n",
      "[('s', 'http://www.wikidata.org/entity/Q41520'), ('s_name', 'Wimbledon Championships'), ('p', 'http://www.wikidata.org/prop/direct/P279'), ('name', 'subclass of')]\n",
      "[('s', 'http://www.wikidata.org/entity/Q12776'), ('s_name', 'Wimbledon Plate'), ('p', 'http://www.wikidata.org/prop/direct/P279'), ('name', 'subclass of')]\n",
      "2\n"
     ]
    }
   ],
   "source": [
    "# Things related to 'Tennis tournament' having 'Wimbledon' in the subject name\n",
    "queryString = \"\"\"\n",
    "SELECT DISTINCT ?s ?s_name ?p ?name\n",
    "WHERE {\n",
    "   # bind something\n",
    "   ?s ?p wd:Q13219666 .\n",
    "   # get the label\n",
    "   ?p sc:name ?name.\n",
    "   ?s sc:name ?s_name.\n",
    "   FILTER regex(?s_name, \"Wimbledon\", \"i\")\n",
    "}\n",
    "LIMIT 20\n",
    "\"\"\"\n",
    "\n",
    "\n",
    "print(\"Results\")\n",
    "x=run_query(queryString)"
   ]
  },
  {
   "cell_type": "code",
   "execution_count": 16,
   "id": "1e759594-37e7-41df-899c-b50bec532927",
   "metadata": {},
   "outputs": [
    {
     "name": "stdout",
     "output_type": "stream",
     "text": [
      "Results\n",
      "[('p', 'http://www.wikidata.org/prop/direct/P664'), ('name', 'organizer'), ('o', 'http://www.wikidata.org/entity/Q815369'), ('o_name', 'All England Lawn Tennis and Croquet Club')]\n",
      "[('p', 'http://www.wikidata.org/prop/direct/P276'), ('name', 'location'), ('o', 'http://www.wikidata.org/entity/Q815369'), ('o_name', 'All England Lawn Tennis and Croquet Club')]\n",
      "[('p', 'http://www.wikidata.org/prop/direct/P664'), ('name', 'organizer'), ('o', 'http://www.wikidata.org/entity/Q223041'), ('o_name', 'International Tennis Federation')]\n",
      "[('p', 'http://www.wikidata.org/prop/direct/P279'), ('name', 'subclass of'), ('o', 'http://www.wikidata.org/entity/Q13219666'), ('o_name', 'tennis tournament')]\n",
      "[('p', 'http://www.wikidata.org/prop/direct/P17'), ('name', 'country'), ('o', 'http://www.wikidata.org/entity/Q145'), ('o_name', 'United Kingdom')]\n",
      "[('p', 'http://www.wikidata.org/prop/direct/P31'), ('name', 'instance of'), ('o', 'http://www.wikidata.org/entity/Q18608583'), ('o_name', 'recurring sporting event')]\n",
      "[('p', 'http://www.wikidata.org/prop/direct/P641'), ('name', 'sport'), ('o', 'http://www.wikidata.org/entity/Q847'), ('o_name', 'tennis')]\n",
      "[('p', 'http://www.wikidata.org/prop/direct/P765'), ('name', 'surface played on'), ('o', 'http://www.wikidata.org/entity/Q1151291'), ('o_name', 'grass court')]\n",
      "[('p', 'http://www.wikidata.org/prop/direct/P7959'), ('name', 'historic county'), ('o', 'http://www.wikidata.org/entity/Q67443130'), ('o_name', 'Surrey')]\n",
      "[('p', 'http://www.wikidata.org/prop/direct/P361'), ('name', 'part of'), ('o', 'http://www.wikidata.org/entity/Q102113'), ('o_name', 'Grand Slam of tennis')]\n",
      "[('p', 'http://www.wikidata.org/prop/direct/P131'), ('name', 'located in the administrative territorial entity'), ('o', 'http://www.wikidata.org/entity/Q736742'), ('o_name', 'Wimbledon')]\n",
      "[('p', 'http://www.wikidata.org/prop/direct/P664'), ('name', 'organizer'), ('o', 'http://www.wikidata.org/entity/Q1337913'), ('o_name', 'Lawn Tennis Association')]\n",
      "[('p', 'http://www.wikidata.org/prop/direct/P2354'), ('name', 'has list'), ('o', 'http://www.wikidata.org/entity/Q6585893'), ('o_name', 'list of Wimbledon singles finalists during the open era')]\n",
      "[('p', 'http://www.wikidata.org/prop/direct/P1687'), ('name', 'Wikidata property'), ('o', 'http://www.wikidata.org/entity/P4503'), ('o_name', 'Wimbledon player ID')]\n",
      "[('p', 'http://www.wikidata.org/prop/direct/P1424'), ('name', \"topic's main template\"), ('o', 'http://www.wikidata.org/entity/Q43323825'), ('o_name', 'Template:Wimbledon player')]\n",
      "[('p', 'http://www.wikidata.org/prop/direct/P1889'), ('name', 'different from'), ('o', 'http://www.wikidata.org/entity/Q206375'), ('o_name', 'Wimbledon')]\n",
      "[('p', 'http://www.wikidata.org/prop/direct/P910'), ('name', \"topic's main category\"), ('o', 'http://www.wikidata.org/entity/Q5326534'), ('o_name', 'Category:The Championships, Wimbledon')]\n",
      "[('p', 'http://www.wikidata.org/prop/direct/P4622'), ('name', 'trophy awarded'), ('o', 'http://www.wikidata.org/entity/Q7920608'), ('o_name', 'Venus Rosewater Dish')]\n",
      "18\n"
     ]
    }
   ],
   "source": [
    "# 'Wimbledon Championships' details\n",
    "queryString = \"\"\"\n",
    "SELECT DISTINCT ?p ?name ?o ?o_name\n",
    "WHERE {\n",
    "   # bind something\n",
    "   wd:Q41520 ?p ?o .\n",
    "   # get the label\n",
    "   ?p sc:name ?name.\n",
    "   ?o sc:name ?o_name.\n",
    "}\n",
    "LIMIT 20\n",
    "\"\"\"\n",
    "\n",
    "\n",
    "print(\"Results\")\n",
    "x=run_query(queryString)"
   ]
  },
  {
   "cell_type": "markdown",
   "id": "af496be9",
   "metadata": {},
   "source": [
    "Final query for this task"
   ]
  },
  {
   "cell_type": "code",
   "execution_count": 17,
   "id": "2fd5b1a3",
   "metadata": {},
   "outputs": [
    {
     "name": "stdout",
     "output_type": "stream",
     "text": [
      "Results\n",
      "[('s', 'http://www.wikidata.org/entity/Q43605'), ('name', 'French Open')]\n",
      "[('s', 'http://www.wikidata.org/entity/Q123577'), ('name', 'US Open')]\n",
      "[('s', 'http://www.wikidata.org/entity/Q41520'), ('name', 'Wimbledon Championships')]\n",
      "[('s', 'http://www.wikidata.org/entity/Q60874'), ('name', 'Australian Open')]\n",
      "4\n"
     ]
    }
   ],
   "source": [
    "# write your final query\n",
    "queryString = \"\"\"\n",
    "SELECT DISTINCT ?s ?name\n",
    "WHERE {\n",
    "   # bind something\n",
    "   ?s wdt:P361 wd:Q102113 .\n",
    "   # get the label\n",
    "   ?s sc:name ?name.\n",
    "}\n",
    "LIMIT 20\n",
    "\"\"\"\n",
    "\n",
    "\n",
    "print(\"Results\")\n",
    "x=run_query(queryString)"
   ]
  },
  {
   "cell_type": "markdown",
   "id": "018aea8b",
   "metadata": {},
   "source": [
    "## Task 4\n",
    "Find the three different type of possible surfaces in a tennis court (the result set must be a list of three couples surface IRI and label)."
   ]
  },
  {
   "cell_type": "code",
   "execution_count": 18,
   "id": "03bc9557",
   "metadata": {},
   "outputs": [
    {
     "name": "stdout",
     "output_type": "stream",
     "text": [
      "Results\n",
      "[('o', 'http://www.wikidata.org/entity/Q47677214'), ('o_name', 'carpet')]\n",
      "[('o', 'http://www.wikidata.org/entity/Q133833'), ('o_name', 'gravel')]\n",
      "[('o', 'http://www.wikidata.org/entity/Q13731184'), ('o_name', 'artificial ice rink')]\n",
      "[('o', 'http://www.wikidata.org/entity/Q2306698'), ('o_name', 'Desso GrassMaster')]\n",
      "[('o', 'http://www.wikidata.org/entity/Q3179760'), ('o_name', 'tarmac')]\n",
      "[('o', 'http://www.wikidata.org/entity/Q190903'), ('o_name', 'herbaceous plant')]\n",
      "[('o', 'http://www.wikidata.org/entity/Q198718'), ('o_name', 'clay court')]\n",
      "[('o', 'http://www.wikidata.org/entity/Q838828'), ('o_name', 'parquetry')]\n",
      "[('o', 'http://www.wikidata.org/entity/Q30198'), ('o_name', 'marsh')]\n",
      "[('o', 'http://www.wikidata.org/entity/Q30688663'), ('o_name', 'Mondotrack')]\n",
      "[('o', 'http://www.wikidata.org/entity/Q29167278'), ('o_name', 'carpet court')]\n",
      "[('o', 'http://www.wikidata.org/entity/Q47676928'), ('o_name', 'clay')]\n",
      "[('o', 'http://www.wikidata.org/entity/Q189259'), ('o_name', 'asphalt concrete')]\n",
      "[('o', 'http://www.wikidata.org/entity/Q757022'), ('o_name', 'sett')]\n",
      "[('o', 'http://www.wikidata.org/entity/Q1330871'), ('o_name', 'hardcourt')]\n",
      "[('o', 'http://www.wikidata.org/entity/Q643352'), ('o_name', 'grass')]\n",
      "[('o', 'http://www.wikidata.org/entity/Q7561'), ('o_name', 'snow')]\n",
      "[('o', 'http://www.wikidata.org/entity/Q45190'), ('o_name', 'cement')]\n",
      "[('o', 'http://www.wikidata.org/entity/Q1775643'), ('o_name', 'Tarmac')]\n",
      "[('o', 'http://www.wikidata.org/entity/Q1151291'), ('o_name', 'grass court')]\n",
      "20\n"
     ]
    }
   ],
   "source": [
    "# \"surface played on\" predicate objects\n",
    "queryString = \"\"\"\n",
    "SELECT DISTINCT ?o ?o_name\n",
    "WHERE {\n",
    "   # bind something\n",
    "   ?s wdt:P765 ?o .\n",
    "   # get the label\n",
    "   ?o sc:name ?o_name.\n",
    "}\n",
    "LIMIT 20\n",
    "\"\"\"\n",
    "\n",
    "\n",
    "print(\"Results\")\n",
    "x=run_query(queryString)"
   ]
  },
  {
   "cell_type": "code",
   "execution_count": 19,
   "id": "adb63d99-a9e9-4d41-b703-33c33dfd2333",
   "metadata": {},
   "outputs": [
    {
     "name": "stdout",
     "output_type": "stream",
     "text": [
      "Results\n",
      "[('p', 'http://www.wikidata.org/prop/direct/P2283'), ('p_name', 'uses'), ('o', 'http://www.wikidata.org/entity/Q47678177'), ('o_name', 'grass')]\n",
      "[('p', 'http://www.wikidata.org/prop/direct/P2283'), ('p_name', 'uses'), ('o', 'http://www.wikidata.org/entity/Q47769255'), ('o_name', 'outdoor grass')]\n",
      "[('p', 'http://www.wikidata.org/prop/direct/P279'), ('p_name', 'subclass of'), ('o', 'http://www.wikidata.org/entity/Q47677460'), ('o_name', 'tennis playing surface')]\n",
      "[('p', 'http://www.wikidata.org/prop/direct/P641'), ('p_name', 'sport'), ('o', 'http://www.wikidata.org/entity/Q847'), ('o_name', 'tennis')]\n",
      "4\n"
     ]
    }
   ],
   "source": [
    "# 'grass cout' details\n",
    "queryString = \"\"\"\n",
    "SELECT DISTINCT ?p ?p_name ?o ?o_name\n",
    "WHERE {\n",
    "   # bind something\n",
    "   wd:Q1151291 ?p ?o .\n",
    "   # get the label\n",
    "   ?o sc:name ?o_name.\n",
    "   ?p sc:name ?p_name.\n",
    "}\n",
    "LIMIT 20\n",
    "\"\"\"\n",
    "\n",
    "\n",
    "print(\"Results\")\n",
    "x=run_query(queryString)"
   ]
  },
  {
   "cell_type": "code",
   "execution_count": 20,
   "id": "4ccccf36-9a31-47a6-9ce0-4b2a27ea1aae",
   "metadata": {},
   "outputs": [
    {
     "name": "stdout",
     "output_type": "stream",
     "text": [
      "Results\n",
      "[('s', 'http://www.wikidata.org/entity/Q47677214'), ('name', 'carpet')]\n",
      "[('s', 'http://www.wikidata.org/entity/Q47676928'), ('name', 'clay')]\n",
      "[('s', 'http://www.wikidata.org/entity/Q1151291'), ('name', 'grass court')]\n",
      "[('s', 'http://www.wikidata.org/entity/Q47678177'), ('name', 'grass')]\n",
      "[('s', 'http://www.wikidata.org/entity/Q47769232'), ('name', 'indoor hard')]\n",
      "[('s', 'http://www.wikidata.org/entity/Q47769271'), ('name', 'outdoor hard')]\n",
      "[('s', 'http://www.wikidata.org/entity/Q47777555'), ('name', 'hardcourt surface')]\n",
      "[('s', 'http://www.wikidata.org/entity/Q47769216'), ('name', 'indoor carpet')]\n",
      "[('s', 'http://www.wikidata.org/entity/Q47769202'), ('name', 'indoor')]\n",
      "[('s', 'http://www.wikidata.org/entity/Q47769177'), ('name', 'asphalt')]\n",
      "[('s', 'http://www.wikidata.org/entity/Q47769149'), ('name', 'acrylic')]\n",
      "[('s', 'http://www.wikidata.org/entity/Q47769166'), ('name', 'artificial grass')]\n",
      "[('s', 'http://www.wikidata.org/entity/Q47769242'), ('name', 'outdoor')]\n",
      "[('s', 'http://www.wikidata.org/entity/Q47769249'), ('name', 'outdoor clay')]\n",
      "[('s', 'http://www.wikidata.org/entity/Q47769157'), ('name', 'artificial clay')]\n",
      "[('s', 'http://www.wikidata.org/entity/Q47769193'), ('name', 'concrete')]\n",
      "[('s', 'http://www.wikidata.org/entity/Q47769225'), ('name', 'indoor clay')]\n",
      "[('s', 'http://www.wikidata.org/entity/Q47769255'), ('name', 'outdoor grass')]\n",
      "[('s', 'http://www.wikidata.org/entity/Q47769283'), ('name', 'tiles')]\n",
      "19\n"
     ]
    }
   ],
   "source": [
    "# subclasses of 'tennis playing surface'\n",
    "\n",
    "queryString = \"\"\"\n",
    "SELECT DISTINCT ?s ?name\n",
    "WHERE {\n",
    "   # bind something\n",
    "   ?s wdt:P279 wd:Q47677460 .\n",
    "   # get the label\n",
    "   ?s sc:name ?name.\n",
    "}\n",
    "LIMIT 20\n",
    "\"\"\"\n",
    "\n",
    "\n",
    "print(\"Results\")\n",
    "x=run_query(queryString)"
   ]
  },
  {
   "cell_type": "code",
   "execution_count": 21,
   "id": "9166ce97-14a0-470d-933a-a70ec5afac50",
   "metadata": {},
   "outputs": [
    {
     "name": "stdout",
     "output_type": "stream",
     "text": [
      "Results\n",
      "[('p', 'http://www.wikidata.org/prop/direct/P279'), ('p_name', 'subclass of'), ('o', 'http://www.wikidata.org/entity/Q47677460'), ('name', 'tennis playing surface')]\n",
      "[('p', 'http://www.wikidata.org/prop/direct/P279'), ('p_name', 'subclass of'), ('o', 'http://www.wikidata.org/entity/Q47769242'), ('name', 'outdoor')]\n",
      "[('p', 'http://www.wikidata.org/prop/direct/P641'), ('p_name', 'sport'), ('o', 'http://www.wikidata.org/entity/Q847'), ('name', 'tennis')]\n",
      "3\n"
     ]
    }
   ],
   "source": [
    "# 'outdoor grass' details\n",
    "\n",
    "queryString = \"\"\"\n",
    "SELECT DISTINCT ?p ?p_name ?o ?name\n",
    "WHERE {\n",
    "   # bind something\n",
    "   wd:Q47769255 ?p ?o .\n",
    "   # get the label\n",
    "   ?o sc:name ?name.\n",
    "   ?p sc:name ?p_name.\n",
    "}\n",
    "LIMIT 20\n",
    "\"\"\"\n",
    "\n",
    "\n",
    "print(\"Results\")\n",
    "x=run_query(queryString)"
   ]
  },
  {
   "cell_type": "code",
   "execution_count": 22,
   "id": "892fcd0d-4c81-4bae-9b09-a54277bf7131",
   "metadata": {},
   "outputs": [
    {
     "name": "stdout",
     "output_type": "stream",
     "text": [
      "Results\n",
      "[('s', 'http://www.wikidata.org/entity/Q47769271'), ('name', 'outdoor hard')]\n",
      "[('s', 'http://www.wikidata.org/entity/Q47769249'), ('name', 'outdoor clay')]\n",
      "[('s', 'http://www.wikidata.org/entity/Q47769255'), ('name', 'outdoor grass')]\n",
      "3\n"
     ]
    }
   ],
   "source": [
    "# outdoor tennis playing surfaces\n",
    "\n",
    "queryString = \"\"\"\n",
    "SELECT DISTINCT ?s ?name\n",
    "WHERE {\n",
    "   # bind something\n",
    "   ?s wdt:P279 wd:Q47677460 .\n",
    "   ?s wdt:P279 wd:Q47769242 .\n",
    "   # get the label\n",
    "   ?s sc:name ?name.\n",
    "}\n",
    "LIMIT 20\n",
    "\"\"\"\n",
    "\n",
    "\n",
    "print(\"Results\")\n",
    "x=run_query(queryString)"
   ]
  },
  {
   "cell_type": "code",
   "execution_count": 4,
   "id": "1daaad4f-b8b0-4250-bee4-aecda9d2bcad",
   "metadata": {},
   "outputs": [
    {
     "name": "stdout",
     "output_type": "stream",
     "text": [
      "Results\n",
      "[('o', 'http://www.wikidata.org/entity/Q47677214'), ('o_name', 'carpet')]\n",
      "[('o', 'http://www.wikidata.org/entity/Q198718'), ('o_name', 'clay court')]\n",
      "[('o', 'http://www.wikidata.org/entity/Q29167278'), ('o_name', 'carpet court')]\n",
      "[('o', 'http://www.wikidata.org/entity/Q47676928'), ('o_name', 'clay')]\n",
      "[('o', 'http://www.wikidata.org/entity/Q1330871'), ('o_name', 'hardcourt')]\n",
      "[('o', 'http://www.wikidata.org/entity/Q1151291'), ('o_name', 'grass court')]\n",
      "[('o', 'http://www.wikidata.org/entity/Q47678177'), ('o_name', 'grass')]\n",
      "[('o', 'http://www.wikidata.org/entity/Q47769232'), ('o_name', 'indoor hard')]\n",
      "[('o', 'http://www.wikidata.org/entity/Q47769271'), ('o_name', 'outdoor hard')]\n",
      "[('o', 'http://www.wikidata.org/entity/Q47777555'), ('o_name', 'hardcourt surface')]\n",
      "[('o', 'http://www.wikidata.org/entity/Q47769216'), ('o_name', 'indoor carpet')]\n",
      "[('o', 'http://www.wikidata.org/entity/Q47769149'), ('o_name', 'acrylic')]\n",
      "[('o', 'http://www.wikidata.org/entity/Q47769166'), ('o_name', 'artificial grass')]\n",
      "[('o', 'http://www.wikidata.org/entity/Q47769249'), ('o_name', 'outdoor clay')]\n",
      "14\n"
     ]
    }
   ],
   "source": [
    "# \"surface played on\" where the sport is tennis\n",
    "queryString = \"\"\"\n",
    "SELECT DISTINCT ?o ?o_name\n",
    "WHERE {\n",
    "   # bind something\n",
    "   ?s wdt:P765 ?o .\n",
    "   ?o wdt:P641 wd:Q847 .\n",
    "   # get the label\n",
    "   ?o sc:name ?o_name.\n",
    "}\n",
    "LIMIT 20\n",
    "\"\"\"\n",
    "\n",
    "\n",
    "print(\"Results\")\n",
    "x=run_query(queryString)"
   ]
  },
  {
   "cell_type": "code",
   "execution_count": 6,
   "id": "464293b8-1949-4710-9569-27c89d9f1204",
   "metadata": {},
   "outputs": [
    {
     "name": "stdout",
     "output_type": "stream",
     "text": [
      "Results\n",
      "[('a', 'http://www.wikidata.org/entity/Q47677214'), ('name', 'carpet')]\n",
      "[('a', 'http://www.wikidata.org/entity/Q47676928'), ('name', 'clay')]\n",
      "[('a', 'http://www.wikidata.org/entity/Q47769232'), ('name', 'indoor hard')]\n",
      "[('a', 'http://www.wikidata.org/entity/Q47769271'), ('name', 'outdoor hard')]\n",
      "[('a', 'http://www.wikidata.org/entity/Q47777555'), ('name', 'hardcourt surface')]\n",
      "[('a', 'http://www.wikidata.org/entity/Q47678177'), ('name', 'grass')]\n",
      "[('a', 'http://www.wikidata.org/entity/Q47769255'), ('name', 'outdoor grass')]\n",
      "7\n"
     ]
    }
   ],
   "source": [
    "# \"surface played on\" where the sport is tennis\n",
    "queryString = \"\"\"\n",
    "SELECT DISTINCT ?a ?name\n",
    "WHERE {\n",
    "   # bind something\n",
    "   ?s wdt:P765 ?o .\n",
    "   ?o wdt:P641 wd:Q847 .\n",
    "   ?o wdt:P2283 ?a .\n",
    "   # get the label\n",
    "   ?a sc:name ?name.\n",
    "}\n",
    "LIMIT 20\n",
    "\"\"\"\n",
    "\n",
    "\n",
    "print(\"Results\")\n",
    "x=run_query(queryString)"
   ]
  },
  {
   "cell_type": "code",
   "execution_count": 11,
   "id": "d82d1ae4-2bff-4cb1-b608-2ff6cab5957c",
   "metadata": {},
   "outputs": [
    {
     "name": "stdout",
     "output_type": "stream",
     "text": [
      "Results\n",
      "[('p', 'http://www.wikidata.org/prop/direct/P641'), ('name', 'sport'), ('o', 'http://www.wikidata.org/entity/Q847'), ('o_name', 'tennis')]\n",
      "[('p', 'http://www.wikidata.org/prop/direct/P1535'), ('name', 'used by'), ('o', 'http://www.wikidata.org/entity/Q1151291'), ('o_name', 'grass court')]\n",
      "[('p', 'http://www.wikidata.org/prop/direct/P279'), ('name', 'subclass of'), ('o', 'http://www.wikidata.org/entity/Q47677460'), ('o_name', 'tennis playing surface')]\n",
      "3\n"
     ]
    }
   ],
   "source": [
    "# \"grass\" details\n",
    "queryString = \"\"\"\n",
    "SELECT DISTINCT ?p ?name ?o ?o_name\n",
    "WHERE {\n",
    "   # bind something\n",
    "   wd:Q47678177 ?p ?o .\n",
    "   # get the label\n",
    "   ?p sc:name ?name.\n",
    "   ?o sc:name ?o_name.\n",
    "}\n",
    "LIMIT 20\n",
    "\"\"\"\n",
    "\n",
    "\n",
    "print(\"Results\")\n",
    "x=run_query(queryString)"
   ]
  },
  {
   "cell_type": "code",
   "execution_count": 12,
   "id": "31b9d144-e5c3-4d22-88fd-73a694bd747e",
   "metadata": {},
   "outputs": [
    {
     "name": "stdout",
     "output_type": "stream",
     "text": [
      "Results\n",
      "[('s', 'http://www.wikidata.org/entity/Q153362'), ('name', 'tennis racquet')]\n",
      "[('s', 'http://www.wikidata.org/entity/Q47677214'), ('name', 'carpet')]\n",
      "[('s', 'http://www.wikidata.org/entity/Q47676928'), ('name', 'clay')]\n",
      "[('s', 'http://www.wikidata.org/entity/Q47678177'), ('name', 'grass')]\n",
      "[('s', 'http://www.wikidata.org/entity/Q741118'), ('name', 'tennis court')]\n",
      "[('s', 'http://www.wikidata.org/entity/Q47777555'), ('name', 'hardcourt surface')]\n",
      "[('s', 'http://www.wikidata.org/entity/Q246514'), ('name', 'tennis ball')]\n",
      "[('s', 'http://www.wikidata.org/entity/Q1246411'), ('name', 'tennis string')]\n",
      "[('s', 'http://www.wikidata.org/entity/Q47755582'), ('name', 'net post')]\n",
      "9\n"
     ]
    }
   ],
   "source": [
    "# \"surface played on\" where the sport is tennis\n",
    "queryString = \"\"\"\n",
    "SELECT DISTINCT ?s ?name\n",
    "WHERE {\n",
    "   # bind something\n",
    "    ?s wdt:P641 wd:Q847 .\n",
    "    ?s wdt:P1535 ?o .\n",
    "   # get the label\n",
    "   ?s sc:name ?name.\n",
    "   ?o sc:name ?o_name.\n",
    "}\n",
    "LIMIT 20\n",
    "\"\"\"\n",
    "\n",
    "\n",
    "print(\"Results\")\n",
    "x=run_query(queryString)"
   ]
  },
  {
   "cell_type": "code",
   "execution_count": 14,
   "id": "2b02b024-1750-46f9-b04b-e707fd22bc30",
   "metadata": {},
   "outputs": [
    {
     "name": "stdout",
     "output_type": "stream",
     "text": [
      "Results\n",
      "[('s', 'http://www.wikidata.org/entity/Q47676928'), ('name', 'clay')]\n",
      "[('s', 'http://www.wikidata.org/entity/Q47677214'), ('name', 'carpet')]\n",
      "[('s', 'http://www.wikidata.org/entity/Q47777555'), ('name', 'hardcourt surface')]\n",
      "[('s', 'http://www.wikidata.org/entity/Q47678177'), ('name', 'grass')]\n",
      "4\n"
     ]
    }
   ],
   "source": [
    "# \"surface played on\" where the sport is tennis\n",
    "queryString = \"\"\"\n",
    "SELECT DISTINCT ?s ?name\n",
    "WHERE {\n",
    "   # bind something\n",
    "    ?s wdt:P641 wd:Q847 .\n",
    "    ?s wdt:P1535 ?o .\n",
    "    ?s wdt:P279 wd:Q47677460 .\n",
    "   # get the label\n",
    "   ?s sc:name ?name.\n",
    "   ?o sc:name ?o_name.\n",
    "}\n",
    "LIMIT 20\n",
    "\"\"\"\n",
    "\n",
    "\n",
    "print(\"Results\")\n",
    "x=run_query(queryString)"
   ]
  },
  {
   "cell_type": "code",
   "execution_count": 15,
   "id": "16282b22-b2a3-4c0f-9816-338c3ce216ac",
   "metadata": {},
   "outputs": [
    {
     "name": "stdout",
     "output_type": "stream",
     "text": [
      "Results\n",
      "[('p', 'http://www.wikidata.org/prop/direct/P1535'), ('name', 'used by'), ('o', 'http://www.wikidata.org/entity/Q847'), ('o_name', 'tennis')]\n",
      "[('p', 'http://www.wikidata.org/prop/direct/P641'), ('name', 'sport'), ('o', 'http://www.wikidata.org/entity/Q847'), ('o_name', 'tennis')]\n",
      "[('p', 'http://www.wikidata.org/prop/direct/P2670'), ('name', 'has parts of the class'), ('o', 'http://www.wikidata.org/entity/Q47677460'), ('o_name', 'tennis playing surface')]\n",
      "[('p', 'http://www.wikidata.org/prop/direct/P279'), ('name', 'subclass of'), ('o', 'http://www.wikidata.org/entity/Q2310214'), ('o_name', 'pitch')]\n",
      "[('p', 'http://www.wikidata.org/prop/direct/P1535'), ('name', 'used by'), ('o', 'http://www.wikidata.org/entity/Q1153025'), ('o_name', 'wheelchair tennis')]\n",
      "[('p', 'http://www.wikidata.org/prop/direct/P2670'), ('name', 'has parts of the class'), ('o', 'http://www.wikidata.org/entity/Q48291351'), ('o_name', 'facet of tennis playing area')]\n",
      "[('p', 'http://www.wikidata.org/prop/direct/P1552'), ('name', 'has quality'), ('o', 'http://www.wikidata.org/entity/Q48308960'), ('o_name', 'court pace')]\n",
      "[('p', 'http://www.wikidata.org/prop/direct/P2670'), ('name', 'has parts of the class'), ('o', 'http://www.wikidata.org/entity/Q4839569'), ('o_name', 'backboard')]\n",
      "[('p', 'http://www.wikidata.org/prop/direct/P910'), ('name', \"topic's main category\"), ('o', 'http://www.wikidata.org/entity/Q8843413'), ('o_name', 'Category:Tennis venues')]\n",
      "9\n"
     ]
    }
   ],
   "source": [
    "\n",
    "queryString = \"\"\"\n",
    "SELECT DISTINCT ?p ?name ?o ?o_name\n",
    "WHERE {\n",
    "   # bind something\n",
    "    wd:Q741118 ?p ?o .\n",
    "   # get the label\n",
    "   ?p sc:name ?name.\n",
    "   ?o sc:name ?o_name.\n",
    "}\n",
    "LIMIT 20\n",
    "\"\"\"\n",
    "\n",
    "\n",
    "print(\"Results\")\n",
    "x=run_query(queryString)"
   ]
  },
  {
   "cell_type": "code",
   "execution_count": 16,
   "id": "46f0db56-a533-4032-8b79-9ceb29ffec79",
   "metadata": {},
   "outputs": [
    {
     "name": "stdout",
     "output_type": "stream",
     "text": [
      "Results\n",
      "[('p', 'http://www.wikidata.org/prop/direct/P641'), ('name', 'sport'), ('o', 'http://www.wikidata.org/entity/Q847'), ('o_name', 'tennis')]\n",
      "[('p', 'http://www.wikidata.org/prop/direct/P1269'), ('name', 'facet of'), ('o', 'http://www.wikidata.org/entity/Q741118'), ('o_name', 'tennis court')]\n",
      "[('p', 'http://www.wikidata.org/prop/direct/P1269'), ('name', 'facet of'), ('o', 'http://www.wikidata.org/entity/Q47677460'), ('o_name', 'tennis playing surface')]\n",
      "3\n"
     ]
    }
   ],
   "source": [
    "\n",
    "queryString = \"\"\"\n",
    "SELECT DISTINCT ?p ?name ?o ?o_name\n",
    "WHERE {\n",
    "   # bind something\n",
    "    wd:Q48308960 ?p ?o .\n",
    "   # get the label\n",
    "   ?p sc:name ?name.\n",
    "   ?o sc:name ?o_name.\n",
    "}\n",
    "LIMIT 20\n",
    "\"\"\"\n",
    "\n",
    "\n",
    "print(\"Results\")\n",
    "x=run_query(queryString)"
   ]
  },
  {
   "cell_type": "markdown",
   "id": "229fcef9",
   "metadata": {},
   "source": [
    "Final query for this task"
   ]
  },
  {
   "cell_type": "code",
   "execution_count": 23,
   "id": "a5ddd899",
   "metadata": {},
   "outputs": [
    {
     "name": "stdout",
     "output_type": "stream",
     "text": [
      "Results\n",
      "[('s', 'http://www.wikidata.org/entity/Q47769271'), ('name', 'outdoor hard')]\n",
      "[('s', 'http://www.wikidata.org/entity/Q47769249'), ('name', 'outdoor clay')]\n",
      "[('s', 'http://www.wikidata.org/entity/Q47769255'), ('name', 'outdoor grass')]\n",
      "3\n"
     ]
    }
   ],
   "source": [
    "# write your final query\n",
    "# NOTE: I restricted to the outdoor surfaces to get exactly 3 results, in the previous queries i found 4 main surfaces \n",
    "# and others to different level of detail\n",
    "queryString = \"\"\"\n",
    "SELECT DISTINCT ?s ?name\n",
    "WHERE {\n",
    "   # bind something\n",
    "   ?s wdt:P279 wd:Q47677460 .\n",
    "   ?s wdt:P279 wd:Q47769242 .\n",
    "   # get the label\n",
    "   ?s sc:name ?name.\n",
    "}\n",
    "LIMIT 20\n",
    "\"\"\"\n",
    "\n",
    "\n",
    "print(\"Results\")\n",
    "x=run_query(queryString)"
   ]
  },
  {
   "cell_type": "markdown",
   "id": "1bfa6ac8",
   "metadata": {},
   "source": [
    "## Task 5\n",
    "Return the tournaments played in the 2018 Wimbledon Championships edition with the related winners (hint: men and women do not play together, there are two distinct tournament ) (the result set must be a list of elements with tournament IRI and label, and winner IRI and label)."
   ]
  },
  {
   "cell_type": "code",
   "execution_count": 24,
   "id": "59363277",
   "metadata": {},
   "outputs": [
    {
     "name": "stdout",
     "output_type": "stream",
     "text": [
      "Results\n",
      "[('p', 'http://www.wikidata.org/prop/direct/P664'), ('name', 'organizer'), ('o', 'http://www.wikidata.org/entity/Q815369'), ('o_name', 'All England Lawn Tennis and Croquet Club')]\n",
      "[('p', 'http://www.wikidata.org/prop/direct/P276'), ('name', 'location'), ('o', 'http://www.wikidata.org/entity/Q815369'), ('o_name', 'All England Lawn Tennis and Croquet Club')]\n",
      "[('p', 'http://www.wikidata.org/prop/direct/P664'), ('name', 'organizer'), ('o', 'http://www.wikidata.org/entity/Q223041'), ('o_name', 'International Tennis Federation')]\n",
      "[('p', 'http://www.wikidata.org/prop/direct/P279'), ('name', 'subclass of'), ('o', 'http://www.wikidata.org/entity/Q13219666'), ('o_name', 'tennis tournament')]\n",
      "[('p', 'http://www.wikidata.org/prop/direct/P17'), ('name', 'country'), ('o', 'http://www.wikidata.org/entity/Q145'), ('o_name', 'United Kingdom')]\n",
      "[('p', 'http://www.wikidata.org/prop/direct/P31'), ('name', 'instance of'), ('o', 'http://www.wikidata.org/entity/Q18608583'), ('o_name', 'recurring sporting event')]\n",
      "[('p', 'http://www.wikidata.org/prop/direct/P641'), ('name', 'sport'), ('o', 'http://www.wikidata.org/entity/Q847'), ('o_name', 'tennis')]\n",
      "[('p', 'http://www.wikidata.org/prop/direct/P765'), ('name', 'surface played on'), ('o', 'http://www.wikidata.org/entity/Q1151291'), ('o_name', 'grass court')]\n",
      "[('p', 'http://www.wikidata.org/prop/direct/P7959'), ('name', 'historic county'), ('o', 'http://www.wikidata.org/entity/Q67443130'), ('o_name', 'Surrey')]\n",
      "[('p', 'http://www.wikidata.org/prop/direct/P361'), ('name', 'part of'), ('o', 'http://www.wikidata.org/entity/Q102113'), ('o_name', 'Grand Slam of tennis')]\n",
      "[('p', 'http://www.wikidata.org/prop/direct/P131'), ('name', 'located in the administrative territorial entity'), ('o', 'http://www.wikidata.org/entity/Q736742'), ('o_name', 'Wimbledon')]\n",
      "[('p', 'http://www.wikidata.org/prop/direct/P664'), ('name', 'organizer'), ('o', 'http://www.wikidata.org/entity/Q1337913'), ('o_name', 'Lawn Tennis Association')]\n",
      "[('p', 'http://www.wikidata.org/prop/direct/P2354'), ('name', 'has list'), ('o', 'http://www.wikidata.org/entity/Q6585893'), ('o_name', 'list of Wimbledon singles finalists during the open era')]\n",
      "[('p', 'http://www.wikidata.org/prop/direct/P1687'), ('name', 'Wikidata property'), ('o', 'http://www.wikidata.org/entity/P4503'), ('o_name', 'Wimbledon player ID')]\n",
      "[('p', 'http://www.wikidata.org/prop/direct/P1424'), ('name', \"topic's main template\"), ('o', 'http://www.wikidata.org/entity/Q43323825'), ('o_name', 'Template:Wimbledon player')]\n",
      "[('p', 'http://www.wikidata.org/prop/direct/P1889'), ('name', 'different from'), ('o', 'http://www.wikidata.org/entity/Q206375'), ('o_name', 'Wimbledon')]\n",
      "[('p', 'http://www.wikidata.org/prop/direct/P910'), ('name', \"topic's main category\"), ('o', 'http://www.wikidata.org/entity/Q5326534'), ('o_name', 'Category:The Championships, Wimbledon')]\n",
      "[('p', 'http://www.wikidata.org/prop/direct/P4622'), ('name', 'trophy awarded'), ('o', 'http://www.wikidata.org/entity/Q7920608'), ('o_name', 'Venus Rosewater Dish')]\n",
      "18\n"
     ]
    }
   ],
   "source": [
    "# write your queries\n",
    "\n",
    "queryString = \"\"\"\n",
    "SELECT DISTINCT ?p ?name ?o ?o_name\n",
    "WHERE {\n",
    "   # bind something\n",
    "   wd:Q41520 ?p ?o .\n",
    "   # get the label\n",
    "   ?p sc:name ?name.\n",
    "   ?o sc:name ?o_name.\n",
    "}\n",
    "LIMIT 20\n",
    "\"\"\"\n",
    "\n",
    "\n",
    "print(\"Results\")\n",
    "x=run_query(queryString)"
   ]
  },
  {
   "cell_type": "code",
   "execution_count": 25,
   "id": "81b1cb7d-8f93-468a-83c6-2a247942a5b8",
   "metadata": {},
   "outputs": [
    {
     "name": "stdout",
     "output_type": "stream",
     "text": [
      "Results\n",
      "[('p', 'http://www.wikidata.org/prop/direct/P31'), ('name', 'instance of'), ('s', 'http://www.wikidata.org/entity/Q268871'), ('s_name', '2004 Wimbledon Championships')]\n",
      "[('p', 'http://www.wikidata.org/prop/direct/P31'), ('name', 'instance of'), ('s', 'http://www.wikidata.org/entity/Q173961'), ('s_name', '1978 Wimbledon Championships')]\n",
      "[('p', 'http://www.wikidata.org/prop/direct/P31'), ('name', 'instance of'), ('s', 'http://www.wikidata.org/entity/Q925026'), ('s_name', '1971 Wimbledon Championships')]\n",
      "[('p', 'http://www.wikidata.org/prop/direct/P31'), ('name', 'instance of'), ('s', 'http://www.wikidata.org/entity/Q15854765'), ('s_name', '2014 Wimbledon Championships')]\n",
      "[('p', 'http://www.wikidata.org/prop/direct/P31'), ('name', 'instance of'), ('s', 'http://www.wikidata.org/entity/Q30085309'), ('s_name', '2018 Wimbledon Championships')]\n",
      "[('p', 'http://www.wikidata.org/prop/direct/P1344'), ('name', 'participant in'), ('s', 'http://www.wikidata.org/entity/Q437350'), ('s_name', 'Doris Metaxa')]\n",
      "[('p', 'http://www.wikidata.org/prop/direct/P31'), ('name', 'instance of'), ('s', 'http://www.wikidata.org/entity/Q745901'), ('s_name', '1974 Wimbledon Championships')]\n",
      "[('p', 'http://www.wikidata.org/prop/direct/P31'), ('name', 'instance of'), ('s', 'http://www.wikidata.org/entity/Q655368'), ('s_name', '1955 Wimbledon Championships')]\n",
      "[('p', 'http://www.wikidata.org/prop/direct/P31'), ('name', 'instance of'), ('s', 'http://www.wikidata.org/entity/Q655378'), ('s_name', '1956 Wimbledon Championships')]\n",
      "[('p', 'http://www.wikidata.org/prop/direct/P31'), ('name', 'instance of'), ('s', 'http://www.wikidata.org/entity/Q657950'), ('s_name', '1957 Wimbledon Championships')]\n",
      "[('p', 'http://www.wikidata.org/prop/direct/P31'), ('name', 'instance of'), ('s', 'http://www.wikidata.org/entity/Q657962'), ('s_name', '1958 Wimbledon Championships')]\n",
      "[('p', 'http://www.wikidata.org/prop/direct/P1344'), ('name', 'participant in'), ('s', 'http://www.wikidata.org/entity/Q2273996'), ('s_name', 'Giorgio de Stefani')]\n",
      "[('p', 'http://www.wikidata.org/prop/direct/P31'), ('name', 'instance of'), ('s', 'http://www.wikidata.org/entity/Q2296335'), ('s_name', '1881 Wimbledon Championship')]\n",
      "[('p', 'http://www.wikidata.org/prop/direct/P31'), ('name', 'instance of'), ('s', 'http://www.wikidata.org/entity/Q2297185'), ('s_name', '1882 Wimbledon Championship')]\n",
      "[('p', 'http://www.wikidata.org/prop/direct/P31'), ('name', 'instance of'), ('s', 'http://www.wikidata.org/entity/Q522860'), ('s_name', '1883 Wimbledon Championship')]\n",
      "[('p', 'http://www.wikidata.org/prop/direct/P1344'), ('name', 'participant in'), ('s', 'http://www.wikidata.org/entity/Q27862706'), ('s_name', 'Carol-Ann Kalogeropoulos')]\n",
      "[('p', 'http://www.wikidata.org/prop/direct/P1344'), ('name', 'participant in'), ('s', 'http://www.wikidata.org/entity/Q3339850'), ('s_name', 'Nikos Kalogeropoulos')]\n",
      "[('p', 'http://www.wikidata.org/prop/direct/P31'), ('name', 'instance of'), ('s', 'http://www.wikidata.org/entity/Q20127632'), ('s_name', '2016 Wimbledon Championships')]\n",
      "[('p', 'http://www.wikidata.org/prop/direct/P31'), ('name', 'instance of'), ('s', 'http://www.wikidata.org/entity/Q934978'), ('s_name', '1988 Wimbledon Championships')]\n",
      "[('p', 'http://www.wikidata.org/prop/direct/P31'), ('name', 'instance of'), ('s', 'http://www.wikidata.org/entity/Q388312'), ('s_name', '2008 Wimbledon Championships')]\n",
      "20\n"
     ]
    }
   ],
   "source": [
    "# Things related to 'Wimbledon Championships'\n",
    "\n",
    "queryString = \"\"\"\n",
    "SELECT DISTINCT ?p ?name ?s ?s_name\n",
    "WHERE {\n",
    "   # bind something\n",
    "   ?s ?p wd:Q41520 .\n",
    "   # get the label\n",
    "   ?p sc:name ?name.\n",
    "   ?s sc:name ?s_name.\n",
    "}\n",
    "LIMIT 20\n",
    "\"\"\"\n",
    "\n",
    "\n",
    "print(\"Results\")\n",
    "x=run_query(queryString)"
   ]
  },
  {
   "cell_type": "code",
   "execution_count": 26,
   "id": "ca845c9b-d3b1-4526-8e57-6b1c8c567c61",
   "metadata": {},
   "outputs": [
    {
     "name": "stdout",
     "output_type": "stream",
     "text": [
      "Results\n",
      "[('p', 'http://www.wikidata.org/prop/direct/P361'), ('name', 'part of'), ('s', 'http://www.wikidata.org/entity/Q30098268'), ('s_name', \"2018 Wimbledon Championships – Women's Singles\")]\n",
      "[('p', 'http://www.wikidata.org/prop/direct/P156'), ('name', 'followed by'), ('s', 'http://www.wikidata.org/entity/Q25344121'), ('s_name', '2017 Wimbledon Championships')]\n",
      "[('p', 'http://www.wikidata.org/prop/direct/P361'), ('name', 'part of'), ('s', 'http://www.wikidata.org/entity/Q32358401'), ('s_name', '2018 Wimbledon Championships – Mixed Doubles')]\n",
      "[('p', 'http://www.wikidata.org/prop/direct/P361'), ('name', 'part of'), ('s', 'http://www.wikidata.org/entity/Q55639017'), ('s_name', '2018 Wimbledon Championships – Wheelchair Quad Doubles')]\n",
      "[('p', 'http://www.wikidata.org/prop/direct/P361'), ('name', 'part of'), ('s', 'http://www.wikidata.org/entity/Q55455418'), ('s_name', \"2018 Wimbledon Championships – Wheelchair Men's Doubles\")]\n",
      "[('p', 'http://www.wikidata.org/prop/direct/P155'), ('name', 'follows'), ('s', 'http://www.wikidata.org/entity/Q54093953'), ('s_name', '2019 Wimbledon Championships')]\n",
      "[('p', 'http://www.wikidata.org/prop/direct/P361'), ('name', 'part of'), ('s', 'http://www.wikidata.org/entity/Q32357790'), ('s_name', \"2018 Wimbledon Championships – Men's Doubles\")]\n",
      "[('p', 'http://www.wikidata.org/prop/direct/P301'), ('name', \"category's main topic\"), ('s', 'http://www.wikidata.org/entity/Q53582240'), ('s_name', 'Category:2018 Wimbledon Championships')]\n",
      "[('p', 'http://www.wikidata.org/prop/direct/P361'), ('name', 'part of'), ('s', 'http://www.wikidata.org/entity/Q32356704'), ('s_name', \"2018 Wimbledon Championships – Women's Doubles\")]\n",
      "[('p', 'http://www.wikidata.org/prop/direct/P361'), ('name', 'part of'), ('s', 'http://www.wikidata.org/entity/Q55381839'), ('s_name', \"2018 Wimbledon Championships – Girls' Singles\")]\n",
      "[('p', 'http://www.wikidata.org/prop/direct/P361'), ('name', 'part of'), ('s', 'http://www.wikidata.org/entity/Q54961494'), ('s_name', \"2018 Wimbledon Championships – Men's Singles\")]\n",
      "[('p', 'http://www.wikidata.org/prop/direct/P361'), ('name', 'part of'), ('s', 'http://www.wikidata.org/entity/Q55410290'), ('s_name', \"2018 Wimbledon Championships – Girls' Doubles\")]\n",
      "[('p', 'http://www.wikidata.org/prop/direct/P361'), ('name', 'part of'), ('s', 'http://www.wikidata.org/entity/Q55410361'), ('s_name', \"2018 Wimbledon Championships – Boys' Doubles\")]\n",
      "[('p', 'http://www.wikidata.org/prop/direct/P361'), ('name', 'part of'), ('s', 'http://www.wikidata.org/entity/Q55455404'), ('s_name', \"2018 Wimbledon Championships – Wheelchair Women's Singles\")]\n",
      "[('p', 'http://www.wikidata.org/prop/direct/P361'), ('name', 'part of'), ('s', 'http://www.wikidata.org/entity/Q55455410'), ('s_name', \"2018 Wimbledon Championships – Wheelchair Men's Singles\")]\n",
      "[('p', 'http://www.wikidata.org/prop/direct/P361'), ('name', 'part of'), ('s', 'http://www.wikidata.org/entity/Q55381833'), ('s_name', \"2018 Wimbledon Championships – Boys' Singles\")]\n",
      "[('p', 'http://www.wikidata.org/prop/direct/P361'), ('name', 'part of'), ('s', 'http://www.wikidata.org/entity/Q55455423'), ('s_name', \"2018 Wimbledon Championships – Wheelchair Women's Doubles\")]\n",
      "17\n"
     ]
    }
   ],
   "source": [
    "# Things related to '2018 Wimbledon Championships'\n",
    "\n",
    "queryString = \"\"\"\n",
    "SELECT DISTINCT ?p ?name ?s ?s_name\n",
    "WHERE {\n",
    "   # bind something\n",
    "   ?s ?p wd:Q30085309 .\n",
    "   # get the label\n",
    "   ?p sc:name ?name.\n",
    "   ?s sc:name ?s_name.\n",
    "}\n",
    "LIMIT 20\n",
    "\"\"\"\n",
    "\n",
    "\n",
    "print(\"Results\")\n",
    "x=run_query(queryString)"
   ]
  },
  {
   "cell_type": "code",
   "execution_count": 27,
   "id": "4f7c0e4c-b97a-47b2-9db0-ce3a1096fdb0",
   "metadata": {},
   "outputs": [
    {
     "name": "stdout",
     "output_type": "stream",
     "text": [
      "Results\n",
      "[('p', 'http://www.wikidata.org/prop/direct/P361'), ('name', 'part of'), ('o', 'http://www.wikidata.org/entity/Q30085309'), ('o_name', '2018 Wimbledon Championships')]\n",
      "[('p', 'http://www.wikidata.org/prop/direct/P17'), ('name', 'country'), ('o', 'http://www.wikidata.org/entity/Q145'), ('o_name', 'United Kingdom')]\n",
      "[('p', 'http://www.wikidata.org/prop/direct/P641'), ('name', 'sport'), ('o', 'http://www.wikidata.org/entity/Q847'), ('o_name', 'tennis')]\n",
      "[('p', 'http://www.wikidata.org/prop/direct/P2094'), ('name', 'competition class'), ('o', 'http://www.wikidata.org/entity/Q16893072'), ('o_name', \"men's singles\")]\n",
      "[('p', 'http://www.wikidata.org/prop/direct/P31'), ('name', 'instance of'), ('o', 'http://www.wikidata.org/entity/Q46190676'), ('o_name', 'tennis event')]\n",
      "[('p', 'http://www.wikidata.org/prop/direct/P1346'), ('name', 'winner'), ('o', 'http://www.wikidata.org/entity/Q5812'), ('o_name', 'Novak Djokovic')]\n",
      "[('p', 'http://www.wikidata.org/prop/direct/P156'), ('name', 'followed by'), ('o', 'http://www.wikidata.org/entity/Q64785012'), ('o_name', \"2019 Wimbledon Championships – Men's Singles\")]\n",
      "[('p', 'http://www.wikidata.org/prop/direct/P155'), ('name', 'follows'), ('o', 'http://www.wikidata.org/entity/Q25344123'), ('o_name', \"2017 Wimbledon Championships – Men's Singles\")]\n",
      "8\n"
     ]
    }
   ],
   "source": [
    "# '2018 Wimbledon Championships – Men's Singles' details\n",
    "\n",
    "queryString = \"\"\"\n",
    "SELECT DISTINCT ?p ?name ?o ?o_name\n",
    "WHERE {\n",
    "   # bind something\n",
    "   wd:Q54961494 ?p ?o .\n",
    "   # get the label\n",
    "   ?p sc:name ?name.\n",
    "   ?o sc:name ?o_name.\n",
    "}\n",
    "LIMIT 20\n",
    "\"\"\"\n",
    "\n",
    "\n",
    "print(\"Results\")\n",
    "x=run_query(queryString)"
   ]
  },
  {
   "cell_type": "markdown",
   "id": "c7d2ef3a",
   "metadata": {},
   "source": [
    "Final query for this task"
   ]
  },
  {
   "cell_type": "code",
   "execution_count": 28,
   "id": "8e9a0f67",
   "metadata": {},
   "outputs": [
    {
     "name": "stdout",
     "output_type": "stream",
     "text": [
      "Results\n",
      "[('s', 'http://www.wikidata.org/entity/Q32357790'), ('name', \"2018 Wimbledon Championships – Men's Doubles\"), ('w', 'http://www.wikidata.org/entity/Q53342'), ('w_name', 'Mike Bryan')]\n",
      "[('s', 'http://www.wikidata.org/entity/Q54961494'), ('name', \"2018 Wimbledon Championships – Men's Singles\"), ('w', 'http://www.wikidata.org/entity/Q5812'), ('w_name', 'Novak Djokovic')]\n",
      "[('s', 'http://www.wikidata.org/entity/Q30098268'), ('name', \"2018 Wimbledon Championships – Women's Singles\"), ('w', 'http://www.wikidata.org/entity/Q77178'), ('w_name', 'Angelique Kerber')]\n",
      "[('s', 'http://www.wikidata.org/entity/Q32356704'), ('name', \"2018 Wimbledon Championships – Women's Doubles\"), ('w', 'http://www.wikidata.org/entity/Q11052500'), ('w_name', 'Barbora Krejčíková')]\n",
      "[('s', 'http://www.wikidata.org/entity/Q55455423'), ('name', \"2018 Wimbledon Championships – Wheelchair Women's Doubles\"), ('w', 'http://www.wikidata.org/entity/Q16224602'), ('w_name', 'Yui Kamiji')]\n",
      "[('s', 'http://www.wikidata.org/entity/Q55455410'), ('name', \"2018 Wimbledon Championships – Wheelchair Men's Singles\"), ('w', 'http://www.wikidata.org/entity/Q6027963'), ('w_name', 'Stefan Olsson')]\n",
      "[('s', 'http://www.wikidata.org/entity/Q55639017'), ('name', '2018 Wimbledon Championships – Wheelchair Quad Doubles'), ('w', 'http://www.wikidata.org/entity/Q13512827'), ('w_name', 'Andrew Lapthorne')]\n",
      "[('s', 'http://www.wikidata.org/entity/Q55381839'), ('name', \"2018 Wimbledon Championships – Girls' Singles\"), ('w', 'http://www.wikidata.org/entity/Q26840238'), ('w_name', 'Iga Świątek')]\n",
      "[('s', 'http://www.wikidata.org/entity/Q55455404'), ('name', \"2018 Wimbledon Championships – Wheelchair Women's Singles\"), ('w', 'http://www.wikidata.org/entity/Q24574661'), ('w_name', 'Diede de Groot')]\n",
      "[('s', 'http://www.wikidata.org/entity/Q55455423'), ('name', \"2018 Wimbledon Championships – Wheelchair Women's Doubles\"), ('w', 'http://www.wikidata.org/entity/Q24574661'), ('w_name', 'Diede de Groot')]\n",
      "[('s', 'http://www.wikidata.org/entity/Q55455418'), ('name', \"2018 Wimbledon Championships – Wheelchair Men's Doubles\"), ('w', 'http://www.wikidata.org/entity/Q26951148'), ('w_name', 'Alfie Hewett')]\n",
      "[('s', 'http://www.wikidata.org/entity/Q32356704'), ('name', \"2018 Wimbledon Championships – Women's Doubles\"), ('w', 'http://www.wikidata.org/entity/Q3720044'), ('w_name', 'Kateřina Siniaková')]\n",
      "[('s', 'http://www.wikidata.org/entity/Q32358401'), ('name', '2018 Wimbledon Championships – Mixed Doubles'), ('w', 'http://www.wikidata.org/entity/Q2216368'), ('w_name', 'Nicole Melichar-Martinez')]\n",
      "[('s', 'http://www.wikidata.org/entity/Q32358401'), ('name', '2018 Wimbledon Championships – Mixed Doubles'), ('w', 'http://www.wikidata.org/entity/Q457476'), ('w_name', 'Alexander Peya')]\n",
      "[('s', 'http://www.wikidata.org/entity/Q55410361'), ('name', \"2018 Wimbledon Championships – Boys' Doubles\"), ('w', 'http://www.wikidata.org/entity/Q55569239'), ('w_name', 'Yankı Erel')]\n",
      "[('s', 'http://www.wikidata.org/entity/Q55410290'), ('name', \"2018 Wimbledon Championships – Girls' Doubles\"), ('w', 'http://www.wikidata.org/entity/Q44465805'), ('w_name', 'Wang Xinyu')]\n",
      "[('s', 'http://www.wikidata.org/entity/Q55410290'), ('name', \"2018 Wimbledon Championships – Girls' Doubles\"), ('w', 'http://www.wikidata.org/entity/Q41799108'), ('w_name', 'Wang Xiyu')]\n",
      "[('s', 'http://www.wikidata.org/entity/Q55381833'), ('name', \"2018 Wimbledon Championships – Boys' Singles\"), ('w', 'http://www.wikidata.org/entity/Q47516746'), ('w_name', 'Tseng Chun-hsin')]\n",
      "18\n"
     ]
    }
   ],
   "source": [
    "# write your final query\n",
    "\n",
    "queryString = \"\"\"\n",
    "SELECT DISTINCT ?s ?name ?w ?w_name\n",
    "WHERE {\n",
    "   # bind something\n",
    "   ?s wdt:P361 wd:Q30085309 .\n",
    "   ?s wdt:P1346 ?w .\n",
    "   # get the label\n",
    "   ?s sc:name ?name.\n",
    "   ?w sc:name ?w_name.\n",
    "}\n",
    "LIMIT 20\n",
    "\"\"\"\n",
    "\n",
    "\n",
    "print(\"Results\")\n",
    "x=run_query(queryString)"
   ]
  },
  {
   "cell_type": "markdown",
   "id": "3dba2ac1",
   "metadata": {
    "tags": []
   },
   "source": [
    "## Task 6\n",
    "Consider the tennis players born after 1975, return who won more Grand Slams and cut the result to the top-10 (the result set must be a list of triples player IRI, label and #victories)."
   ]
  },
  {
   "cell_type": "code",
   "execution_count": 29,
   "id": "fb42c9f7",
   "metadata": {},
   "outputs": [
    {
     "name": "stdout",
     "output_type": "stream",
     "text": [
      "Results\n",
      "[('p', 'http://www.wikidata.org/prop/direct/P31'), ('name', 'instance of'), ('o', 'http://www.wikidata.org/entity/Q50301185'), ('o_name', 'tennis tour with multiple editions')]\n",
      "[('p', 'http://www.wikidata.org/prop/direct/P279'), ('name', 'subclass of'), ('o', 'http://www.wikidata.org/entity/Q7700500'), ('o_name', 'tennis tour')]\n",
      "[('p', 'http://www.wikidata.org/prop/direct/P527'), ('name', 'has part'), ('o', 'http://www.wikidata.org/entity/Q2223649'), ('o_name', 'French cheese')]\n",
      "[('p', 'http://www.wikidata.org/prop/direct/P1424'), ('name', \"topic's main template\"), ('o', 'http://www.wikidata.org/entity/Q5851433'), ('o_name', 'Template:Infobox GrandSlamTournaments')]\n",
      "[('p', 'http://www.wikidata.org/prop/direct/P641'), ('name', 'sport'), ('o', 'http://www.wikidata.org/entity/Q847'), ('o_name', 'tennis')]\n",
      "[('p', 'http://www.wikidata.org/prop/direct/P527'), ('name', 'has part'), ('o', 'http://www.wikidata.org/entity/Q123577'), ('o_name', 'US Open')]\n",
      "[('p', 'http://www.wikidata.org/prop/direct/P527'), ('name', 'has part'), ('o', 'http://www.wikidata.org/entity/Q41520'), ('o_name', 'Wimbledon Championships')]\n",
      "[('p', 'http://www.wikidata.org/prop/direct/P527'), ('name', 'has part'), ('o', 'http://www.wikidata.org/entity/Q60874'), ('o_name', 'Australian Open')]\n",
      "[('p', 'http://www.wikidata.org/prop/direct/P2354'), ('name', 'has list'), ('o', 'http://www.wikidata.org/entity/Q1426439'), ('o_name', \"list of Grand Slam men's singles champions\")]\n",
      "[('p', 'http://www.wikidata.org/prop/direct/P910'), ('name', \"topic's main category\"), ('o', 'http://www.wikidata.org/entity/Q18156144'), ('o_name', 'Category:Grand Slam (tennis)')]\n",
      "10\n"
     ]
    }
   ],
   "source": [
    "# Grand Slam details\n",
    "\n",
    "queryString = \"\"\"\n",
    "SELECT DISTINCT ?p ?name ?o ?o_name\n",
    "WHERE {\n",
    "   # bind something\n",
    "   wd:Q102113 ?p ?o .\n",
    "   # get the label\n",
    "   ?p sc:name ?name.\n",
    "   ?o sc:name ?o_name.\n",
    "}\n",
    "LIMIT 10\n",
    "\"\"\"\n",
    "\n",
    "\n",
    "print(\"Results\")\n",
    "x=run_query(queryString)"
   ]
  },
  {
   "cell_type": "code",
   "execution_count": 30,
   "id": "f56f5703-618e-463d-adee-1d47a463b1d9",
   "metadata": {},
   "outputs": [
    {
     "name": "stdout",
     "output_type": "stream",
     "text": [
      "Results\n",
      "Empty\n"
     ]
    }
   ],
   "source": [
    "queryString = \"\"\"\n",
    "SELECT DISTINCT ?w ?name (count(?t) as ?cnt)\n",
    "WHERE {\n",
    "   # bind something\n",
    "   ?c wdt:P361 wd:Q102113 .\n",
    "   ?t wdt:P361 ?c .\n",
    "   ?t wdt:P1346 ?w .\n",
    "   # get the label\n",
    "   ?w sc:name ?name.\n",
    "}\n",
    "Group by ?w ?name\n",
    "order by desc(?cnt)\n",
    "LIMIT 10\n",
    "\"\"\"\n",
    "\n",
    "print(\"Results\")\n",
    "x=run_query(queryString)"
   ]
  },
  {
   "cell_type": "code",
   "execution_count": 31,
   "id": "d56801ff-7296-4623-8a74-a897b351a866",
   "metadata": {},
   "outputs": [
    {
     "name": "stdout",
     "output_type": "stream",
     "text": [
      "Results\n",
      "[('w', 'http://www.wikidata.org/entity/Q1558013'), ('name', 'Pierre Barthès')]\n",
      "[('w', 'http://www.wikidata.org/entity/Q299959'), ('name', 'Eileen Bennett Whittingstall')]\n",
      "[('w', 'http://www.wikidata.org/entity/Q18918709'), ('name', 'Markéta Vondroušová')]\n",
      "[('w', 'http://www.wikidata.org/entity/Q193661'), ('name', 'Stan Wawrinka')]\n",
      "[('w', 'http://www.wikidata.org/entity/Q53410'), ('name', 'John Doeg')]\n",
      "[('w', 'http://www.wikidata.org/entity/Q54546'), ('name', 'Nancy Richey')]\n",
      "[('w', 'http://www.wikidata.org/entity/Q1260231'), ('name', 'Geoff Masters')]\n",
      "[('w', 'http://www.wikidata.org/entity/Q14905846'), ('name', 'Borna Ćorić')]\n",
      "[('w', 'http://www.wikidata.org/entity/Q207352'), ('name', 'Agnieszka Radwańska')]\n",
      "[('w', 'http://www.wikidata.org/entity/Q20968624'), ('name', 'Viktória Kužmová')]\n",
      "10\n"
     ]
    }
   ],
   "source": [
    "queryString = \"\"\"\n",
    "SELECT DISTINCT ?w ?name\n",
    "WHERE {\n",
    "   # bind something\n",
    "   ?c wdt:P361 wd:Q102113 .\n",
    "   ?i wdt:P31 ?c .\n",
    "   ?t wdt:P361 ?i .\n",
    "   ?t wdt:P1346 ?w .\n",
    "   # get the label\n",
    "   ?w sc:name ?name.\n",
    "}\n",
    "LIMIT 10\n",
    "\"\"\"\n",
    "\n",
    "print(\"Results\")\n",
    "x=run_query(queryString)"
   ]
  },
  {
   "cell_type": "code",
   "execution_count": 32,
   "id": "d7ac7c31-fe07-46b0-9745-ce6a8dc69e13",
   "metadata": {},
   "outputs": [
    {
     "name": "stdout",
     "output_type": "stream",
     "text": [
      "Results\n",
      "[('w', 'http://www.wikidata.org/entity/Q54545'), ('name', 'Martina Navratilova'), ('cnt', '58')]\n",
      "[('w', 'http://www.wikidata.org/entity/Q202342'), ('name', 'Margaret Court'), ('cnt', '48')]\n",
      "[('w', 'http://www.wikidata.org/entity/Q11459'), ('name', 'Serena Williams'), ('cnt', '39')]\n",
      "[('w', 'http://www.wikidata.org/entity/Q959958'), ('name', 'Shingo Kunieda'), ('cnt', '32')]\n",
      "[('w', 'http://www.wikidata.org/entity/Q134720'), ('name', 'Martina Hingis'), ('cnt', '25')]\n",
      "[('w', 'http://www.wikidata.org/entity/Q54527'), ('name', 'Billie Jean King'), ('cnt', '23')]\n",
      "[('w', 'http://www.wikidata.org/entity/Q11662'), ('name', 'Steffi Graf'), ('cnt', '23')]\n",
      "[('w', 'http://www.wikidata.org/entity/Q16224602'), ('name', 'Yui Kamiji'), ('cnt', '22')]\n",
      "[('w', 'http://www.wikidata.org/entity/Q1426'), ('name', 'Roger Federer'), ('cnt', '22')]\n",
      "[('w', 'http://www.wikidata.org/entity/Q54543'), ('name', 'Helen Wills'), ('cnt', '21')]\n",
      "10\n"
     ]
    }
   ],
   "source": [
    "queryString = \"\"\"\n",
    "SELECT DISTINCT ?w ?name (count(?t) as ?cnt)\n",
    "WHERE {\n",
    "   # bind something\n",
    "   ?c wdt:P361 wd:Q102113 .\n",
    "   ?i wdt:P31 ?c .\n",
    "   ?t wdt:P361 ?i .\n",
    "   ?t wdt:P1346 ?w .\n",
    "   # get the label\n",
    "   ?w sc:name ?name.\n",
    "}\n",
    "Group by ?w ?name\n",
    "order by desc(?cnt)\n",
    "LIMIT 10\n",
    "\"\"\"\n",
    "\n",
    "print(\"Results\")\n",
    "x=run_query(queryString)"
   ]
  },
  {
   "cell_type": "code",
   "execution_count": 33,
   "id": "ab0af6cd-7df5-4271-9c06-c5400044faff",
   "metadata": {},
   "outputs": [
    {
     "name": "stdout",
     "output_type": "stream",
     "text": [
      "Results\n",
      "[('w', 'http://www.wikidata.org/entity/Q54545'), ('name', 'Martina Navratilova'), ('bd', '1956-10-18T00:00:00Z'), ('cnt', '58')]\n",
      "[('w', 'http://www.wikidata.org/entity/Q202342'), ('name', 'Margaret Court'), ('bd', '1942-07-16T00:00:00Z'), ('cnt', '48')]\n",
      "[('w', 'http://www.wikidata.org/entity/Q11459'), ('name', 'Serena Williams'), ('bd', '1981-09-26T00:00:00Z'), ('cnt', '39')]\n",
      "[('w', 'http://www.wikidata.org/entity/Q959958'), ('name', 'Shingo Kunieda'), ('bd', '1984-02-21T00:00:00Z'), ('cnt', '32')]\n",
      "[('w', 'http://www.wikidata.org/entity/Q134720'), ('name', 'Martina Hingis'), ('bd', '1980-09-30T00:00:00Z'), ('cnt', '25')]\n",
      "[('w', 'http://www.wikidata.org/entity/Q11662'), ('name', 'Steffi Graf'), ('bd', '1969-06-14T00:00:00Z'), ('cnt', '23')]\n",
      "[('w', 'http://www.wikidata.org/entity/Q54527'), ('name', 'Billie Jean King'), ('bd', '1943-11-22T00:00:00Z'), ('cnt', '23')]\n",
      "[('w', 'http://www.wikidata.org/entity/Q16224602'), ('name', 'Yui Kamiji'), ('bd', '1994-04-24T00:00:00Z'), ('cnt', '22')]\n",
      "[('w', 'http://www.wikidata.org/entity/Q1426'), ('name', 'Roger Federer'), ('bd', '1981-08-08T00:00:00Z'), ('cnt', '22')]\n",
      "[('w', 'http://www.wikidata.org/entity/Q259606'), ('name', 'Esther Vergeer'), ('bd', '1981-07-18T00:00:00Z'), ('cnt', '21')]\n",
      "10\n"
     ]
    }
   ],
   "source": [
    "queryString = \"\"\"\n",
    "SELECT DISTINCT ?w ?name ?bd (count(?t) as ?cnt)\n",
    "WHERE {\n",
    "   # bind something\n",
    "   ?c wdt:P361 wd:Q102113 .\n",
    "   ?i wdt:P31 ?c .\n",
    "   ?t wdt:P361 ?i .\n",
    "   ?t wdt:P1346 ?w .\n",
    "   ?w wdt:P569 ?bd .\n",
    "   # get the label\n",
    "   ?w sc:name ?name.\n",
    "    \n",
    "}\n",
    "Group by ?w ?name ?bd\n",
    "order by desc(?cnt)\n",
    "LIMIT 10\n",
    "\"\"\"\n",
    "\n",
    "print(\"Results\")\n",
    "x=run_query(queryString)"
   ]
  },
  {
   "cell_type": "code",
   "execution_count": 34,
   "id": "11927206-03b4-4a20-b330-ef257a97dfa4",
   "metadata": {},
   "outputs": [
    {
     "name": "stdout",
     "output_type": "stream",
     "text": [
      "Results\n",
      "[('w', 'http://www.wikidata.org/entity/Q11459'), ('name', 'Serena Williams'), ('bd', '1981-09-26T00:00:00Z'), ('cnt', '39')]\n",
      "[('w', 'http://www.wikidata.org/entity/Q959958'), ('name', 'Shingo Kunieda'), ('bd', '1984-02-21T00:00:00Z'), ('cnt', '32')]\n",
      "[('w', 'http://www.wikidata.org/entity/Q134720'), ('name', 'Martina Hingis'), ('bd', '1980-09-30T00:00:00Z'), ('cnt', '25')]\n",
      "[('w', 'http://www.wikidata.org/entity/Q16224602'), ('name', 'Yui Kamiji'), ('bd', '1994-04-24T00:00:00Z'), ('cnt', '22')]\n",
      "[('w', 'http://www.wikidata.org/entity/Q1426'), ('name', 'Roger Federer'), ('bd', '1981-08-08T00:00:00Z'), ('cnt', '22')]\n",
      "[('w', 'http://www.wikidata.org/entity/Q259606'), ('name', 'Esther Vergeer'), ('bd', '1981-07-18T00:00:00Z'), ('cnt', '21')]\n",
      "[('w', 'http://www.wikidata.org/entity/Q11578'), ('name', 'Venus Williams'), ('bd', '1980-06-17T00:00:00Z'), ('cnt', '20')]\n",
      "[('w', 'http://www.wikidata.org/entity/Q10132'), ('name', 'Rafael Nadal'), ('bd', '1986-06-03T00:00:00Z'), ('cnt', '20')]\n",
      "[('w', 'http://www.wikidata.org/entity/Q5812'), ('name', 'Novak Djokovic'), ('bd', '1987-05-22T00:00:00Z'), ('cnt', '20')]\n",
      "[('w', 'http://www.wikidata.org/entity/Q53340'), ('name', 'Bob Bryan'), ('bd', '1978-04-29T00:00:00Z'), ('cnt', '18')]\n",
      "10\n"
     ]
    }
   ],
   "source": [
    "# Top 10 winners born after 1975\n",
    "queryString = \"\"\"\n",
    "SELECT DISTINCT ?w ?name ?bd (count(?t) as ?cnt)\n",
    "WHERE {\n",
    "   # bind something\n",
    "   ?c wdt:P361 wd:Q102113 .\n",
    "   ?i wdt:P31 ?c .\n",
    "   ?t wdt:P361 ?i .\n",
    "   ?t wdt:P1346 ?w .\n",
    "   ?w wdt:P569 ?bd .\n",
    "   # get the label\n",
    "   ?w sc:name ?name.\n",
    "   FILTER (?bd >= \"1975-01-01T00:00:00Z\"^^xsd:dateTime)\n",
    "}\n",
    "Group by ?w ?name ?bd\n",
    "order by desc(?cnt)\n",
    "LIMIT 10\n",
    "\"\"\"\n",
    "\n",
    "print(\"Results\")\n",
    "x=run_query(queryString)"
   ]
  },
  {
   "cell_type": "markdown",
   "id": "de73e6ce",
   "metadata": {},
   "source": [
    "Final query for this task"
   ]
  },
  {
   "cell_type": "code",
   "execution_count": 35,
   "id": "55b7a9cd",
   "metadata": {},
   "outputs": [
    {
     "name": "stdout",
     "output_type": "stream",
     "text": [
      "Results\n",
      "[('w', 'http://www.wikidata.org/entity/Q11459'), ('name', 'Serena Williams'), ('wins', '39')]\n",
      "[('w', 'http://www.wikidata.org/entity/Q959958'), ('name', 'Shingo Kunieda'), ('wins', '32')]\n",
      "[('w', 'http://www.wikidata.org/entity/Q134720'), ('name', 'Martina Hingis'), ('wins', '25')]\n",
      "[('w', 'http://www.wikidata.org/entity/Q16224602'), ('name', 'Yui Kamiji'), ('wins', '22')]\n",
      "[('w', 'http://www.wikidata.org/entity/Q1426'), ('name', 'Roger Federer'), ('wins', '22')]\n",
      "[('w', 'http://www.wikidata.org/entity/Q259606'), ('name', 'Esther Vergeer'), ('wins', '21')]\n",
      "[('w', 'http://www.wikidata.org/entity/Q5812'), ('name', 'Novak Djokovic'), ('wins', '20')]\n",
      "[('w', 'http://www.wikidata.org/entity/Q10132'), ('name', 'Rafael Nadal'), ('wins', '20')]\n",
      "[('w', 'http://www.wikidata.org/entity/Q11578'), ('name', 'Venus Williams'), ('wins', '20')]\n",
      "[('w', 'http://www.wikidata.org/entity/Q53340'), ('name', 'Bob Bryan'), ('wins', '18')]\n",
      "10\n"
     ]
    }
   ],
   "source": [
    "# write your final query\n",
    "\n",
    "queryString = \"\"\"\n",
    "SELECT DISTINCT ?w ?name (count(?t) as ?wins)\n",
    "WHERE {\n",
    "   # bind something\n",
    "   ?c wdt:P361 wd:Q102113 .\n",
    "   ?i wdt:P31 ?c .\n",
    "   ?t wdt:P361 ?i .\n",
    "   ?t wdt:P1346 ?w .\n",
    "   ?w wdt:P569 ?bd .\n",
    "   # get the label\n",
    "   ?w sc:name ?name.\n",
    "   FILTER (?bd >= \"1975-01-01T00:00:00Z\"^^xsd:dateTime)\n",
    "}\n",
    "Group by ?w ?name\n",
    "order by desc(?wins)\n",
    "LIMIT 10\n",
    "\"\"\"\n",
    "\n",
    "print(\"Results\")\n",
    "x=run_query(queryString)"
   ]
  },
  {
   "cell_type": "markdown",
   "id": "1904917c",
   "metadata": {},
   "source": [
    "## Task 7\n",
    "Consider the country for sport property of the tennis player (NO Country of citizenship). Return the countries with at least one player who won at least one edition of each Grand Slam (the result set must be a list of country IRI and label)."
   ]
  },
  {
   "cell_type": "code",
   "execution_count": 36,
   "id": "8f24b920",
   "metadata": {},
   "outputs": [
    {
     "name": "stdout",
     "output_type": "stream",
     "text": [
      "Results\n",
      "[('o', 'http://www.wikidata.org/entity/Q847'), ('name', 'tennis')]\n",
      "1\n"
     ]
    }
   ],
   "source": [
    "# Sport property\n",
    "\n",
    "queryString = \"\"\"\n",
    "SELECT DISTINCT ?o ?name\n",
    "WHERE {\n",
    "   # bind something\n",
    "   wd:Q5812 wdt:P641 ?o .\n",
    "   # get the label\n",
    "   ?o sc:name ?name.\n",
    "}\n",
    "LIMIT 10\n",
    "\"\"\"\n",
    "\n",
    "print(\"Results\")\n",
    "x=run_query(queryString)"
   ]
  },
  {
   "cell_type": "code",
   "execution_count": 37,
   "id": "a399604d-96ea-489a-a5f2-cccb90719037",
   "metadata": {},
   "outputs": [
    {
     "name": "stdout",
     "output_type": "stream",
     "text": [
      "Results\n",
      "[('s', 'http://www.wikidata.org/prop/direct/P1151'), ('s_name', \"topic's main Wikimedia portal\"), ('o', 'http://www.wikidata.org/entity/Q8288752'), ('name', 'Portal:Tennis')]\n",
      "[('s', 'http://www.wikidata.org/prop/direct/P1343'), ('s_name', 'described by source'), ('o', 'http://www.wikidata.org/entity/Q106727050'), ('name', 'Metropolitan Museum of Art Tagging Vocabulary')]\n",
      "[('s', 'http://www.wikidata.org/prop/direct/P1424'), ('s_name', \"topic's main template\"), ('o', 'http://www.wikidata.org/entity/Q8087332'), ('name', 'Template:Tennis-stub')]\n",
      "[('s', 'http://www.wikidata.org/prop/direct/P1424'), ('s_name', \"topic's main template\"), ('o', 'http://www.wikidata.org/entity/Q10943918'), ('name', 'Template:Tennis box')]\n",
      "[('s', 'http://www.wikidata.org/prop/direct/P1889'), ('s_name', 'different from'), ('o', 'http://www.wikidata.org/entity/Q12565374'), ('name', 'Tenis')]\n",
      "[('s', 'http://www.wikidata.org/prop/direct/P2184'), ('s_name', 'history of topic'), ('o', 'http://www.wikidata.org/entity/Q2295996'), ('name', 'history of tennis')]\n",
      "[('s', 'http://www.wikidata.org/prop/direct/P2283'), ('s_name', 'uses'), ('o', 'http://www.wikidata.org/entity/Q153362'), ('name', 'tennis racquet')]\n",
      "[('s', 'http://www.wikidata.org/prop/direct/P2283'), ('s_name', 'uses'), ('o', 'http://www.wikidata.org/entity/Q741118'), ('name', 'tennis court')]\n",
      "[('s', 'http://www.wikidata.org/prop/direct/P2283'), ('s_name', 'uses'), ('o', 'http://www.wikidata.org/entity/Q246514'), ('name', 'tennis ball')]\n",
      "[('s', 'http://www.wikidata.org/prop/direct/P279'), ('s_name', 'subclass of'), ('o', 'http://www.wikidata.org/entity/Q2426135'), ('name', 'racket sport')]\n",
      "[('s', 'http://www.wikidata.org/prop/direct/P279'), ('s_name', 'subclass of'), ('o', 'http://www.wikidata.org/entity/Q877517'), ('name', 'ball game')]\n",
      "[('s', 'http://www.wikidata.org/prop/direct/P3095'), ('s_name', 'practiced by'), ('o', 'http://www.wikidata.org/entity/Q48676230'), ('name', 'registered player')]\n",
      "[('s', 'http://www.wikidata.org/prop/direct/P3095'), ('s_name', 'practiced by'), ('o', 'http://www.wikidata.org/entity/Q10833314'), ('name', 'tennis player')]\n",
      "[('s', 'http://www.wikidata.org/prop/direct/P3095'), ('s_name', 'practiced by'), ('o', 'http://www.wikidata.org/entity/Q48995125'), ('name', 'amateur tennis player')]\n",
      "[('s', 'http://www.wikidata.org/prop/direct/P3095'), ('s_name', 'practiced by'), ('o', 'http://www.wikidata.org/entity/Q48673045'), ('name', 'professional tennis player')]\n",
      "[('s', 'http://www.wikidata.org/prop/direct/P31'), ('s_name', 'instance of'), ('o', 'http://www.wikidata.org/entity/Q31629'), ('name', 'type of sport')]\n",
      "[('s', 'http://www.wikidata.org/prop/direct/P495'), ('s_name', 'country of origin'), ('o', 'http://www.wikidata.org/entity/Q21'), ('name', 'England')]\n",
      "[('s', 'http://www.wikidata.org/prop/direct/P5008'), ('s_name', 'on focus list of Wikimedia project'), ('o', 'http://www.wikidata.org/entity/Q5460604'), ('name', 'Wikipedia:Vital articles')]\n",
      "[('s', 'http://www.wikidata.org/prop/direct/P5125'), ('s_name', 'Wikimedia outline'), ('o', 'http://www.wikidata.org/entity/Q7112743'), ('name', 'outline of tennis')]\n",
      "[('s', 'http://www.wikidata.org/prop/direct/P6104'), ('s_name', 'maintained by WikiProject'), ('o', 'http://www.wikidata.org/entity/Q5530169'), ('name', 'WikiProject Tennis')]\n",
      "[('s', 'http://www.wikidata.org/prop/direct/P797'), ('s_name', 'authority'), ('o', 'http://www.wikidata.org/entity/Q223041'), ('name', 'International Tennis Federation')]\n",
      "[('s', 'http://www.wikidata.org/prop/direct/P910'), ('s_name', \"topic's main category\"), ('o', 'http://www.wikidata.org/entity/Q5325416'), ('name', 'Category:Tennis')]\n",
      "22\n"
     ]
    }
   ],
   "source": [
    "# Sport property details\n",
    "\n",
    "queryString = \"\"\"\n",
    "SELECT DISTINCT ?s ?s_name ?o ?name\n",
    "WHERE {\n",
    "   # bind something\n",
    "   wd:Q847 ?s ?o .\n",
    "   # get the label\n",
    "   ?o sc:name ?name.\n",
    "   ?s sc:name ?s_name.\n",
    "}\n",
    "LIMIT 30\n",
    "\"\"\"\n",
    "\n",
    "print(\"Results\")\n",
    "x=run_query(queryString)"
   ]
  },
  {
   "cell_type": "code",
   "execution_count": 38,
   "id": "16497db8-ac77-4bef-9cb3-e4cbef1fe5fe",
   "metadata": {},
   "outputs": [
    {
     "name": "stdout",
     "output_type": "stream",
     "text": [
      "Results\n",
      "[('o', 'http://www.wikidata.org/entity/Q403'), ('name', 'Serbia')]\n",
      "1\n"
     ]
    }
   ],
   "source": [
    "# Contry for sport property\n",
    "\n",
    "queryString = \"\"\"\n",
    "SELECT DISTINCT ?o ?name\n",
    "WHERE {\n",
    "   # bind something\n",
    "   wd:Q5812 wdt:P1532 ?o .\n",
    "   # get the label\n",
    "   ?o sc:name ?name.\n",
    "}\n",
    "LIMIT 10\n",
    "\"\"\"\n",
    "\n",
    "print(\"Results\")\n",
    "x=run_query(queryString)"
   ]
  },
  {
   "cell_type": "code",
   "execution_count": 39,
   "id": "1eefea8e-560d-4353-bce8-ffca99ec15eb",
   "metadata": {},
   "outputs": [
    {
     "name": "stdout",
     "output_type": "stream",
     "text": [
      "Results\n",
      "[('o', 'http://www.wikidata.org/entity/Q216923'), ('name', 'Chinese Taipei')]\n",
      "[('o', 'http://www.wikidata.org/entity/Q142'), ('name', 'France')]\n",
      "[('o', 'http://www.wikidata.org/entity/Q145'), ('name', 'United Kingdom')]\n",
      "[('o', 'http://www.wikidata.org/entity/Q148'), ('name', \"People's Republic of China\")]\n",
      "[('o', 'http://www.wikidata.org/entity/Q15180'), ('name', 'Soviet Union')]\n",
      "[('o', 'http://www.wikidata.org/entity/Q155'), ('name', 'Brazil')]\n",
      "[('o', 'http://www.wikidata.org/entity/Q159'), ('name', 'Russia')]\n",
      "[('o', 'http://www.wikidata.org/entity/Q16'), ('name', 'Canada')]\n",
      "[('o', 'http://www.wikidata.org/entity/Q17'), ('name', 'Japan')]\n",
      "[('o', 'http://www.wikidata.org/entity/Q183'), ('name', 'Germany')]\n",
      "[('o', 'http://www.wikidata.org/entity/Q184'), ('name', 'Belarus')]\n",
      "[('o', 'http://www.wikidata.org/entity/Q20'), ('name', 'Norway')]\n",
      "[('o', 'http://www.wikidata.org/entity/Q21'), ('name', 'England')]\n",
      "[('o', 'http://www.wikidata.org/entity/Q211'), ('name', 'Latvia')]\n",
      "[('o', 'http://www.wikidata.org/entity/Q212'), ('name', 'Ukraine')]\n",
      "[('o', 'http://www.wikidata.org/entity/Q213'), ('name', 'Czech Republic')]\n",
      "[('o', 'http://www.wikidata.org/entity/Q214'), ('name', 'Slovakia')]\n",
      "[('o', 'http://www.wikidata.org/entity/Q215'), ('name', 'Slovenia')]\n",
      "[('o', 'http://www.wikidata.org/entity/Q218'), ('name', 'Romania')]\n",
      "[('o', 'http://www.wikidata.org/entity/Q219'), ('name', 'Bulgaria')]\n",
      "20\n"
     ]
    }
   ],
   "source": [
    "# Contries that won at least one super slam\n",
    "\n",
    "queryString = \"\"\"\n",
    "SELECT DISTINCT ?o ?name\n",
    "WHERE {\n",
    "   # bind something\n",
    "   ?c wdt:P361 wd:Q102113 .\n",
    "   ?i wdt:P31 ?c .\n",
    "   ?t wdt:P361 ?i .\n",
    "   ?t wdt:P1346 ?w .\n",
    "   ?w wdt:P1532 ?o .\n",
    "   # get the label\n",
    "   ?o sc:name ?name.\n",
    "}\n",
    "LIMIT 20\n",
    "\"\"\"\n",
    "\n",
    "print(\"Results\")\n",
    "x=run_query(queryString)"
   ]
  },
  {
   "cell_type": "code",
   "execution_count": 40,
   "id": "45f8d60c-529a-4fdf-9c61-00e054505673",
   "metadata": {},
   "outputs": [
    {
     "name": "stdout",
     "output_type": "stream",
     "text": [
      "Results\n",
      "[('w', 'http://www.wikidata.org/entity/Q312728'), ('w_name', 'Ken Rosewall'), ('cnt', '4')]\n",
      "[('w', 'http://www.wikidata.org/entity/Q10118'), ('w_name', 'Victoria Azarenka'), ('cnt', '4')]\n",
      "[('w', 'http://www.wikidata.org/entity/Q53338'), ('w_name', 'Louise Brough'), ('cnt', '4')]\n",
      "[('w', 'http://www.wikidata.org/entity/Q11578'), ('w_name', 'Venus Williams'), ('cnt', '4')]\n",
      "[('w', 'http://www.wikidata.org/entity/Q1426'), ('w_name', 'Roger Federer'), ('cnt', '4')]\n",
      "[('w', 'http://www.wikidata.org/entity/Q2093033'), ('w_name', 'Pierre-Hugues Herbert'), ('cnt', '4')]\n",
      "[('w', 'http://www.wikidata.org/entity/Q5812'), ('w_name', 'Novak Djokovic'), ('cnt', '4')]\n",
      "[('w', 'http://www.wikidata.org/entity/Q11459'), ('w_name', 'Serena Williams'), ('cnt', '4')]\n",
      "[('w', 'http://www.wikidata.org/entity/Q270414'), ('w_name', 'Anne Smith'), ('cnt', '4')]\n",
      "[('w', 'http://www.wikidata.org/entity/Q959958'), ('w_name', 'Shingo Kunieda'), ('cnt', '4')]\n",
      "[('w', 'http://www.wikidata.org/entity/Q2326828'), ('w_name', 'Aniek van Koot'), ('cnt', '4')]\n",
      "[('w', 'http://www.wikidata.org/entity/Q54527'), ('w_name', 'Billie Jean King'), ('cnt', '4')]\n",
      "[('w', 'http://www.wikidata.org/entity/Q259606'), ('w_name', 'Esther Vergeer'), ('cnt', '4')]\n",
      "[('w', 'http://www.wikidata.org/entity/Q233332'), ('w_name', 'Gigi Fernández'), ('cnt', '4')]\n",
      "[('w', 'http://www.wikidata.org/entity/Q188080'), ('w_name', 'Arantxa Sánchez Vicario'), ('cnt', '4')]\n",
      "[('w', 'http://www.wikidata.org/entity/Q5318692'), ('w_name', 'Dylan Alcott'), ('cnt', '4')]\n",
      "[('w', 'http://www.wikidata.org/entity/Q105550'), ('w_name', 'Rod Laver'), ('cnt', '4')]\n",
      "[('w', 'http://www.wikidata.org/entity/Q182736'), ('w_name', 'Ivan Lendl'), ('cnt', '4')]\n",
      "[('w', 'http://www.wikidata.org/entity/Q5585725'), ('w_name', 'Gordon Reid'), ('cnt', '4')]\n",
      "[('w', 'http://www.wikidata.org/entity/Q54654'), ('w_name', 'Pam Shriver'), ('cnt', '4')]\n",
      "20\n"
     ]
    }
   ],
   "source": [
    "# Players and count of different Grand Slam win\n",
    "\n",
    "queryString = \"\"\"\n",
    "SELECT DISTINCT ?w ?w_name (count(Distinct ?c) as ?cnt)\n",
    "WHERE {\n",
    "   # bind something\n",
    "   ?c wdt:P361 wd:Q102113 .\n",
    "   ?i wdt:P31 ?c .\n",
    "   ?t wdt:P361 ?i .\n",
    "   ?t wdt:P1346 ?w .\n",
    "   # get the label\n",
    "   ?w sc:name ?w_name.\n",
    "}\n",
    "group by ?w ?w_name\n",
    "\n",
    "order by desc(?cnt)\n",
    "LIMIT 20\n",
    "\"\"\"\n",
    "\n",
    "print(\"Results\")\n",
    "x=run_query(queryString)"
   ]
  },
  {
   "cell_type": "code",
   "execution_count": 41,
   "id": "42931cca-3c5f-4360-8e2e-ef1836686594",
   "metadata": {},
   "outputs": [
    {
     "name": "stdout",
     "output_type": "stream",
     "text": [
      "Results\n",
      "[('w', 'http://www.wikidata.org/entity/Q10118'), ('w_name', 'Victoria Azarenka'), ('c', 'http://www.wikidata.org/entity/Q43605'), ('name', 'French Open')]\n",
      "[('w', 'http://www.wikidata.org/entity/Q10118'), ('w_name', 'Victoria Azarenka'), ('c', 'http://www.wikidata.org/entity/Q60874'), ('name', 'Australian Open')]\n",
      "[('w', 'http://www.wikidata.org/entity/Q10118'), ('w_name', 'Victoria Azarenka'), ('c', 'http://www.wikidata.org/entity/Q123577'), ('name', 'US Open')]\n",
      "[('w', 'http://www.wikidata.org/entity/Q10118'), ('w_name', 'Victoria Azarenka'), ('c', 'http://www.wikidata.org/entity/Q41520'), ('name', 'Wimbledon Championships')]\n",
      "[('w', 'http://www.wikidata.org/entity/Q10120'), ('w_name', 'Laura Robson'), ('c', 'http://www.wikidata.org/entity/Q41520'), ('name', 'Wimbledon Championships')]\n",
      "[('w', 'http://www.wikidata.org/entity/Q10125'), ('w_name', 'Andy Murray'), ('c', 'http://www.wikidata.org/entity/Q41520'), ('name', 'Wimbledon Championships')]\n",
      "[('w', 'http://www.wikidata.org/entity/Q10125'), ('w_name', 'Andy Murray'), ('c', 'http://www.wikidata.org/entity/Q123577'), ('name', 'US Open')]\n",
      "[('w', 'http://www.wikidata.org/entity/Q10129'), ('w_name', 'Lisa Raymond'), ('c', 'http://www.wikidata.org/entity/Q60874'), ('name', 'Australian Open')]\n",
      "[('w', 'http://www.wikidata.org/entity/Q10129'), ('w_name', 'Lisa Raymond'), ('c', 'http://www.wikidata.org/entity/Q123577'), ('name', 'US Open')]\n",
      "[('w', 'http://www.wikidata.org/entity/Q10129'), ('w_name', 'Lisa Raymond'), ('c', 'http://www.wikidata.org/entity/Q41520'), ('name', 'Wimbledon Championships')]\n",
      "[('w', 'http://www.wikidata.org/entity/Q10129'), ('w_name', 'Lisa Raymond'), ('c', 'http://www.wikidata.org/entity/Q43605'), ('name', 'French Open')]\n",
      "[('w', 'http://www.wikidata.org/entity/Q10132'), ('w_name', 'Rafael Nadal'), ('c', 'http://www.wikidata.org/entity/Q43605'), ('name', 'French Open')]\n",
      "[('w', 'http://www.wikidata.org/entity/Q10132'), ('w_name', 'Rafael Nadal'), ('c', 'http://www.wikidata.org/entity/Q41520'), ('name', 'Wimbledon Championships')]\n",
      "[('w', 'http://www.wikidata.org/entity/Q10132'), ('w_name', 'Rafael Nadal'), ('c', 'http://www.wikidata.org/entity/Q60874'), ('name', 'Australian Open')]\n",
      "[('w', 'http://www.wikidata.org/entity/Q10132'), ('w_name', 'Rafael Nadal'), ('c', 'http://www.wikidata.org/entity/Q123577'), ('name', 'US Open')]\n",
      "[('w', 'http://www.wikidata.org/entity/Q1026173'), ('w_name', 'Sharon Fichman'), ('c', 'http://www.wikidata.org/entity/Q43605'), ('name', 'French Open')]\n",
      "[('w', 'http://www.wikidata.org/entity/Q1026173'), ('w_name', 'Sharon Fichman'), ('c', 'http://www.wikidata.org/entity/Q60874'), ('name', 'Australian Open')]\n",
      "[('w', 'http://www.wikidata.org/entity/Q10270'), ('w_name', 'Jarkko Nieminen'), ('c', 'http://www.wikidata.org/entity/Q123577'), ('name', 'US Open')]\n",
      "[('w', 'http://www.wikidata.org/entity/Q104506'), ('w_name', 'Björn Borg'), ('c', 'http://www.wikidata.org/entity/Q43605'), ('name', 'French Open')]\n",
      "[('w', 'http://www.wikidata.org/entity/Q104506'), ('w_name', 'Björn Borg'), ('c', 'http://www.wikidata.org/entity/Q41520'), ('name', 'Wimbledon Championships')]\n",
      "20\n"
     ]
    }
   ],
   "source": [
    "# Query to check the previous result\n",
    "\n",
    "queryString = \"\"\"\n",
    "SELECT DISTINCT ?w ?w_name ?c ?name\n",
    "WHERE {\n",
    "   # bind something\n",
    "   ?c wdt:P361 wd:Q102113 .\n",
    "   ?i wdt:P31 ?c .\n",
    "   ?t wdt:P361 ?i .\n",
    "   ?t wdt:P1346 ?w .\n",
    "   # get the label\n",
    "   ?c sc:name ?name.\n",
    "   ?w sc:name ?w_name.\n",
    "}\n",
    "\n",
    "order by ?w\n",
    "LIMIT 20\n",
    "\"\"\"\n",
    "\n",
    "print(\"Results\")\n",
    "x=run_query(queryString)"
   ]
  },
  {
   "cell_type": "code",
   "execution_count": 42,
   "id": "214b5270-e8fd-434e-89a5-9790cd8b8db1",
   "metadata": {},
   "outputs": [
    {
     "name": "stdout",
     "output_type": "stream",
     "text": [
      "Results\n",
      "[('w', 'http://www.wikidata.org/entity/Q312728'), ('w_name', 'Ken Rosewall'), ('cnt', '4')]\n",
      "[('w', 'http://www.wikidata.org/entity/Q10118'), ('w_name', 'Victoria Azarenka'), ('cnt', '4')]\n",
      "[('w', 'http://www.wikidata.org/entity/Q53338'), ('w_name', 'Louise Brough'), ('cnt', '4')]\n",
      "[('w', 'http://www.wikidata.org/entity/Q11578'), ('w_name', 'Venus Williams'), ('cnt', '4')]\n",
      "[('w', 'http://www.wikidata.org/entity/Q1426'), ('w_name', 'Roger Federer'), ('cnt', '4')]\n",
      "[('w', 'http://www.wikidata.org/entity/Q2093033'), ('w_name', 'Pierre-Hugues Herbert'), ('cnt', '4')]\n",
      "[('w', 'http://www.wikidata.org/entity/Q5812'), ('w_name', 'Novak Djokovic'), ('cnt', '4')]\n",
      "[('w', 'http://www.wikidata.org/entity/Q11459'), ('w_name', 'Serena Williams'), ('cnt', '4')]\n",
      "[('w', 'http://www.wikidata.org/entity/Q270414'), ('w_name', 'Anne Smith'), ('cnt', '4')]\n",
      "[('w', 'http://www.wikidata.org/entity/Q959958'), ('w_name', 'Shingo Kunieda'), ('cnt', '4')]\n",
      "[('w', 'http://www.wikidata.org/entity/Q2326828'), ('w_name', 'Aniek van Koot'), ('cnt', '4')]\n",
      "[('w', 'http://www.wikidata.org/entity/Q54527'), ('w_name', 'Billie Jean King'), ('cnt', '4')]\n",
      "[('w', 'http://www.wikidata.org/entity/Q259606'), ('w_name', 'Esther Vergeer'), ('cnt', '4')]\n",
      "[('w', 'http://www.wikidata.org/entity/Q233332'), ('w_name', 'Gigi Fernández'), ('cnt', '4')]\n",
      "[('w', 'http://www.wikidata.org/entity/Q188080'), ('w_name', 'Arantxa Sánchez Vicario'), ('cnt', '4')]\n",
      "[('w', 'http://www.wikidata.org/entity/Q5318692'), ('w_name', 'Dylan Alcott'), ('cnt', '4')]\n",
      "[('w', 'http://www.wikidata.org/entity/Q105550'), ('w_name', 'Rod Laver'), ('cnt', '4')]\n",
      "[('w', 'http://www.wikidata.org/entity/Q182736'), ('w_name', 'Ivan Lendl'), ('cnt', '4')]\n",
      "[('w', 'http://www.wikidata.org/entity/Q5585725'), ('w_name', 'Gordon Reid'), ('cnt', '4')]\n",
      "[('w', 'http://www.wikidata.org/entity/Q54654'), ('w_name', 'Pam Shriver'), ('cnt', '4')]\n",
      "20\n"
     ]
    }
   ],
   "source": [
    "# Players with 4 different Grand Slam win\n",
    "\n",
    "queryString = \"\"\"\n",
    "SELECT DISTINCT ?w ?w_name (count(Distinct ?c) as ?cnt)\n",
    "WHERE {\n",
    "   # bind something\n",
    "   ?c wdt:P361 wd:Q102113 .\n",
    "   ?i wdt:P31 ?c .\n",
    "   ?t wdt:P361 ?i .\n",
    "   ?t wdt:P1346 ?w .\n",
    "   # get the label\n",
    "   ?w sc:name ?w_name.\n",
    "}\n",
    "group by ?w ?w_name\n",
    "HAVING (count(Distinct ?c)=4)\n",
    "LIMIT 20\n",
    "\"\"\"\n",
    "\n",
    "print(\"Results\")\n",
    "x=run_query(queryString)"
   ]
  },
  {
   "cell_type": "code",
   "execution_count": 43,
   "id": "39d1fdb0-b78b-4d33-a485-1f3104a9e968",
   "metadata": {},
   "outputs": [
    {
     "name": "stdout",
     "output_type": "stream",
     "text": [
      "Results\n",
      "[('o', 'http://www.wikidata.org/entity/Q142'), ('name', 'France')]\n",
      "[('o', 'http://www.wikidata.org/entity/Q145'), ('name', 'United Kingdom')]\n",
      "[('o', 'http://www.wikidata.org/entity/Q155'), ('name', 'Brazil')]\n",
      "[('o', 'http://www.wikidata.org/entity/Q159'), ('name', 'Russia')]\n",
      "[('o', 'http://www.wikidata.org/entity/Q17'), ('name', 'Japan')]\n",
      "[('o', 'http://www.wikidata.org/entity/Q183'), ('name', 'Germany')]\n",
      "[('o', 'http://www.wikidata.org/entity/Q184'), ('name', 'Belarus')]\n",
      "[('o', 'http://www.wikidata.org/entity/Q213'), ('name', 'Czech Republic')]\n",
      "[('o', 'http://www.wikidata.org/entity/Q214'), ('name', 'Slovakia')]\n",
      "[('o', 'http://www.wikidata.org/entity/Q215'), ('name', 'Slovenia')]\n",
      "[('o', 'http://www.wikidata.org/entity/Q28'), ('name', 'Hungary')]\n",
      "[('o', 'http://www.wikidata.org/entity/Q29'), ('name', 'Spain')]\n",
      "[('o', 'http://www.wikidata.org/entity/Q30'), ('name', 'United States of America')]\n",
      "[('o', 'http://www.wikidata.org/entity/Q31'), ('name', 'Belgium')]\n",
      "[('o', 'http://www.wikidata.org/entity/Q34'), ('name', 'Sweden')]\n",
      "[('o', 'http://www.wikidata.org/entity/Q38'), ('name', 'Italy')]\n",
      "[('o', 'http://www.wikidata.org/entity/Q39'), ('name', 'Switzerland')]\n",
      "[('o', 'http://www.wikidata.org/entity/Q403'), ('name', 'Serbia')]\n",
      "[('o', 'http://www.wikidata.org/entity/Q408'), ('name', 'Australia')]\n",
      "[('o', 'http://www.wikidata.org/entity/Q668'), ('name', 'India')]\n",
      "[('o', 'http://www.wikidata.org/entity/Q33946'), ('name', 'Czechoslovakia')]\n",
      "21\n"
     ]
    }
   ],
   "source": [
    "# Country of players with 4 different Grand Slam win\n",
    "\n",
    "queryString = \"\"\"\n",
    "SELECT DISTINCT ?o ?name\n",
    "WHERE {\n",
    "   # bind something\n",
    "   ?w wdt:P1532 ?o .\n",
    "   # get the label\n",
    "   ?o sc:name ?name .\n",
    "   {\n",
    "       SELECT DISTINCT ?w\n",
    "        WHERE {\n",
    "           # bind something\n",
    "           ?c wdt:P361 wd:Q102113 .\n",
    "           ?i wdt:P31 ?c .\n",
    "           ?t wdt:P361 ?i .\n",
    "           ?t wdt:P1346 ?w .\n",
    "        }\n",
    "        group by ?w ?w_name\n",
    "        HAVING (count(Distinct ?c)=4)\n",
    "   }\n",
    "}\n",
    "LIMIT 25\n",
    "\"\"\"\n",
    "\n",
    "print(\"Results\")\n",
    "x=run_query(queryString)"
   ]
  },
  {
   "cell_type": "markdown",
   "id": "95ad54f0",
   "metadata": {},
   "source": [
    "Final query for this task"
   ]
  },
  {
   "cell_type": "code",
   "execution_count": 44,
   "id": "67f6c19e",
   "metadata": {
    "tags": []
   },
   "outputs": [
    {
     "name": "stdout",
     "output_type": "stream",
     "text": [
      "Results\n",
      "[('o', 'http://www.wikidata.org/entity/Q142'), ('name', 'France')]\n",
      "[('o', 'http://www.wikidata.org/entity/Q145'), ('name', 'United Kingdom')]\n",
      "[('o', 'http://www.wikidata.org/entity/Q155'), ('name', 'Brazil')]\n",
      "[('o', 'http://www.wikidata.org/entity/Q159'), ('name', 'Russia')]\n",
      "[('o', 'http://www.wikidata.org/entity/Q17'), ('name', 'Japan')]\n",
      "[('o', 'http://www.wikidata.org/entity/Q183'), ('name', 'Germany')]\n",
      "[('o', 'http://www.wikidata.org/entity/Q184'), ('name', 'Belarus')]\n",
      "[('o', 'http://www.wikidata.org/entity/Q213'), ('name', 'Czech Republic')]\n",
      "[('o', 'http://www.wikidata.org/entity/Q214'), ('name', 'Slovakia')]\n",
      "[('o', 'http://www.wikidata.org/entity/Q215'), ('name', 'Slovenia')]\n",
      "[('o', 'http://www.wikidata.org/entity/Q28'), ('name', 'Hungary')]\n",
      "[('o', 'http://www.wikidata.org/entity/Q29'), ('name', 'Spain')]\n",
      "[('o', 'http://www.wikidata.org/entity/Q30'), ('name', 'United States of America')]\n",
      "[('o', 'http://www.wikidata.org/entity/Q31'), ('name', 'Belgium')]\n",
      "[('o', 'http://www.wikidata.org/entity/Q34'), ('name', 'Sweden')]\n",
      "[('o', 'http://www.wikidata.org/entity/Q38'), ('name', 'Italy')]\n",
      "[('o', 'http://www.wikidata.org/entity/Q39'), ('name', 'Switzerland')]\n",
      "[('o', 'http://www.wikidata.org/entity/Q403'), ('name', 'Serbia')]\n",
      "[('o', 'http://www.wikidata.org/entity/Q408'), ('name', 'Australia')]\n",
      "[('o', 'http://www.wikidata.org/entity/Q668'), ('name', 'India')]\n",
      "[('o', 'http://www.wikidata.org/entity/Q33946'), ('name', 'Czechoslovakia')]\n",
      "21\n"
     ]
    }
   ],
   "source": [
    "# write your final query\n",
    "\n",
    "queryString = \"\"\"\n",
    "SELECT DISTINCT ?o ?name\n",
    "WHERE {\n",
    "   # bind something\n",
    "   ?w wdt:P1532 ?o .\n",
    "   # get the label\n",
    "   ?o sc:name ?name .\n",
    "   {\n",
    "       SELECT DISTINCT ?w\n",
    "        WHERE {\n",
    "           # bind something\n",
    "           ?c wdt:P361 wd:Q102113 .\n",
    "           ?i wdt:P31 ?c .\n",
    "           ?t wdt:P361 ?i .\n",
    "           ?t wdt:P1346 ?w .\n",
    "        }\n",
    "        group by ?w ?w_name\n",
    "        HAVING (count(Distinct ?c)=4)\n",
    "   }\n",
    "}\n",
    "LIMIT 25\n",
    "\"\"\"\n",
    "\n",
    "print(\"Results\")\n",
    "x=run_query(queryString)"
   ]
  },
  {
   "cell_type": "markdown",
   "id": "9dbd369f",
   "metadata": {},
   "source": [
    "## Task 8\n",
    "Consider the country for sport property of the tennis player (NO Country of citizenship). Return the countries with at least one player who was ranked 1 in the tennis ranking  (the result set must be a list of country IRI and label)."
   ]
  },
  {
   "cell_type": "code",
   "execution_count": 45,
   "id": "b35c5d93-055e-4126-a990-7b20d61b0ad9",
   "metadata": {
    "tags": []
   },
   "outputs": [
    {
     "name": "stdout",
     "output_type": "stream",
     "text": [
      "Results\n",
      "Empty\n"
     ]
    }
   ],
   "source": [
    "# Ranking data\n",
    "\n",
    "queryString = \"\"\"\n",
    "SELECT DISTINCT ?s ?name ?o ?o_name\n",
    "WHERE {\n",
    "   # bind something\n",
    "   ?s wdt:P1352 ?o .\n",
    "   # get the label\n",
    "   ?s sc:name ?name .\n",
    "   ?o sc:name ?o_name .\n",
    "}\n",
    "LIMIT 25\n",
    "\"\"\"\n",
    "\n",
    "print(\"Results\")\n",
    "x=run_query(queryString)"
   ]
  },
  {
   "cell_type": "code",
   "execution_count": 46,
   "id": "be0915c9-6b49-4acb-889d-846b8e6bc033",
   "metadata": {
    "tags": []
   },
   "outputs": [
    {
     "name": "stdout",
     "output_type": "stream",
     "text": [
      "Results\n",
      "[('s', 'http://www.wikidata.org/entity/Q459119'), ('name', 'Chinese Taipei national football team'), ('o', '135')]\n",
      "[('s', 'http://www.wikidata.org/entity/Q459119'), ('name', 'Chinese Taipei national football team'), ('o', '143')]\n",
      "[('s', 'http://www.wikidata.org/entity/Q459119'), ('name', 'Chinese Taipei national football team'), ('o', '144')]\n",
      "[('s', 'http://www.wikidata.org/entity/Q459119'), ('name', 'Chinese Taipei national football team'), ('o', '147')]\n",
      "[('s', 'http://www.wikidata.org/entity/Q459119'), ('name', 'Chinese Taipei national football team'), ('o', '148')]\n",
      "[('s', 'http://www.wikidata.org/entity/Q459119'), ('name', 'Chinese Taipei national football team'), ('o', '149')]\n",
      "[('s', 'http://www.wikidata.org/entity/Q459119'), ('name', 'Chinese Taipei national football team'), ('o', '150')]\n",
      "[('s', 'http://www.wikidata.org/entity/Q459119'), ('name', 'Chinese Taipei national football team'), ('o', '151')]\n",
      "[('s', 'http://www.wikidata.org/entity/Q459119'), ('name', 'Chinese Taipei national football team'), ('o', '152')]\n",
      "[('s', 'http://www.wikidata.org/entity/Q459119'), ('name', 'Chinese Taipei national football team'), ('o', '153')]\n",
      "[('s', 'http://www.wikidata.org/entity/Q459119'), ('name', 'Chinese Taipei national football team'), ('o', '154')]\n",
      "[('s', 'http://www.wikidata.org/entity/Q459119'), ('name', 'Chinese Taipei national football team'), ('o', '155')]\n",
      "[('s', 'http://www.wikidata.org/entity/Q459119'), ('name', 'Chinese Taipei national football team'), ('o', '156')]\n",
      "[('s', 'http://www.wikidata.org/entity/Q459119'), ('name', 'Chinese Taipei national football team'), ('o', '157')]\n",
      "[('s', 'http://www.wikidata.org/entity/Q459119'), ('name', 'Chinese Taipei national football team'), ('o', '158')]\n",
      "[('s', 'http://www.wikidata.org/entity/Q459119'), ('name', 'Chinese Taipei national football team'), ('o', '159')]\n",
      "[('s', 'http://www.wikidata.org/entity/Q459119'), ('name', 'Chinese Taipei national football team'), ('o', '160')]\n",
      "[('s', 'http://www.wikidata.org/entity/Q459119'), ('name', 'Chinese Taipei national football team'), ('o', '161')]\n",
      "[('s', 'http://www.wikidata.org/entity/Q459119'), ('name', 'Chinese Taipei national football team'), ('o', '162')]\n",
      "[('s', 'http://www.wikidata.org/entity/Q459119'), ('name', 'Chinese Taipei national football team'), ('o', '163')]\n",
      "[('s', 'http://www.wikidata.org/entity/Q459119'), ('name', 'Chinese Taipei national football team'), ('o', '164')]\n",
      "[('s', 'http://www.wikidata.org/entity/Q459119'), ('name', 'Chinese Taipei national football team'), ('o', '165')]\n",
      "[('s', 'http://www.wikidata.org/entity/Q459119'), ('name', 'Chinese Taipei national football team'), ('o', '166')]\n",
      "[('s', 'http://www.wikidata.org/entity/Q459119'), ('name', 'Chinese Taipei national football team'), ('o', '167')]\n",
      "[('s', 'http://www.wikidata.org/entity/Q459119'), ('name', 'Chinese Taipei national football team'), ('o', '168')]\n",
      "25\n"
     ]
    }
   ],
   "source": [
    "# Ranking data\n",
    "\n",
    "queryString = \"\"\"\n",
    "SELECT DISTINCT ?s ?name ?o\n",
    "WHERE {\n",
    "   # bind something\n",
    "   ?s wdt:P1352 ?o .\n",
    "   # get the label\n",
    "   ?s sc:name ?name .\n",
    "}\n",
    "LIMIT 25\n",
    "\"\"\"\n",
    "\n",
    "print(\"Results\")\n",
    "x=run_query(queryString)"
   ]
  },
  {
   "cell_type": "code",
   "execution_count": 47,
   "id": "621bf9d4-3b02-492b-81a4-9f081527b5b3",
   "metadata": {
    "tags": []
   },
   "outputs": [
    {
     "name": "stdout",
     "output_type": "stream",
     "text": [
      "Results\n",
      "[('o', '1')]\n",
      "[('o', '24')]\n",
      "2\n"
     ]
    }
   ],
   "source": [
    "# Roger Federer ranking data\n",
    "\n",
    "queryString = \"\"\"\n",
    "SELECT DISTINCT ?o\n",
    "WHERE {\n",
    "   # bind something\n",
    "   wd:Q1426 wdt:P1352 ?o .\n",
    "}\n",
    "LIMIT 25\n",
    "\"\"\"\n",
    "\n",
    "print(\"Results\")\n",
    "x=run_query(queryString)"
   ]
  },
  {
   "cell_type": "code",
   "execution_count": 48,
   "id": "0fe34835-71e1-4a84-b727-bf5691e61d12",
   "metadata": {
    "tags": []
   },
   "outputs": [
    {
     "name": "stdout",
     "output_type": "stream",
     "text": [
      "Results\n",
      "[('p', 'http://www.wikidata.org/entity/Q207352'), ('name', 'Agnieszka Radwańska')]\n",
      "[('p', 'http://www.wikidata.org/entity/Q455136'), ('name', 'Anders Järryd')]\n",
      "[('p', 'http://www.wikidata.org/entity/Q455411'), ('name', 'Tom Okker')]\n",
      "[('p', 'http://www.wikidata.org/entity/Q310419'), ('name', 'Nenad Zimonjić')]\n",
      "[('p', 'http://www.wikidata.org/entity/Q53393'), ('name', 'Jimmy Connors')]\n",
      "[('p', 'http://www.wikidata.org/entity/Q10118'), ('name', 'Victoria Azarenka')]\n",
      "[('p', 'http://www.wikidata.org/entity/Q13538'), ('name', 'Henri Kontinen')]\n",
      "[('p', 'http://www.wikidata.org/entity/Q1743002'), ('name', 'Robert Seguso')]\n",
      "[('p', 'http://www.wikidata.org/entity/Q189542'), ('name', 'Stefan Edberg')]\n",
      "[('p', 'http://www.wikidata.org/entity/Q232566'), ('name', 'Hsieh Su-wei')]\n",
      "[('p', 'http://www.wikidata.org/entity/Q289365'), ('name', 'Karolína Plíšková')]\n",
      "[('p', 'http://www.wikidata.org/entity/Q30217670'), ('name', 'Whitney Osuigwe')]\n",
      "[('p', 'http://www.wikidata.org/entity/Q11662'), ('name', 'Steffi Graf')]\n",
      "[('p', 'http://www.wikidata.org/entity/Q182736'), ('name', 'Ivan Lendl')]\n",
      "[('p', 'http://www.wikidata.org/entity/Q54584'), ('name', 'Andy Roddick')]\n",
      "[('p', 'http://www.wikidata.org/entity/Q76334'), ('name', 'Boris Becker')]\n",
      "[('p', 'http://www.wikidata.org/entity/Q132147'), ('name', 'Sania Mirza')]\n",
      "[('p', 'http://www.wikidata.org/entity/Q229093'), ('name', 'Virginia Ruano Pascual')]\n",
      "[('p', 'http://www.wikidata.org/entity/Q487182'), ('name', 'Anastasia Pavlyuchenkova')]\n",
      "[('p', 'http://www.wikidata.org/entity/Q270414'), ('name', 'Anne Smith')]\n",
      "[('p', 'http://www.wikidata.org/entity/Q298542'), ('name', 'Daniel Nestor')]\n",
      "[('p', 'http://www.wikidata.org/entity/Q345626'), ('name', 'Łukasz Kubot')]\n",
      "[('p', 'http://www.wikidata.org/entity/Q134720'), ('name', 'Martina Hingis')]\n",
      "[('p', 'http://www.wikidata.org/entity/Q11685'), ('name', 'Kim Clijsters')]\n",
      "[('p', 'http://www.wikidata.org/entity/Q221908'), ('name', 'Yannick Noah')]\n",
      "25\n"
     ]
    }
   ],
   "source": [
    "# Tennis players having ranking 1\n",
    "\n",
    "queryString = \"\"\"\n",
    "SELECT DISTINCT ?p ?name\n",
    "WHERE {\n",
    "   # bind something\n",
    "   ?p wdt:P106 wd:Q10833314 .\n",
    "   ?p wdt:P1352 1 .\n",
    "   ?p sc:name ?name .\n",
    "}\n",
    "LIMIT 25\n",
    "\"\"\"\n",
    "\n",
    "print(\"Results\")\n",
    "x=run_query(queryString)"
   ]
  },
  {
   "cell_type": "code",
   "execution_count": 49,
   "id": "0c8716d6-ed12-475f-99a4-e982070b523f",
   "metadata": {
    "tags": []
   },
   "outputs": [
    {
     "name": "stdout",
     "output_type": "stream",
     "text": [
      "Results\n",
      "[('o', 'http://www.wikidata.org/entity/Q216923'), ('name', 'Chinese Taipei')]\n",
      "[('o', 'http://www.wikidata.org/entity/Q142'), ('name', 'France')]\n",
      "[('o', 'http://www.wikidata.org/entity/Q145'), ('name', 'United Kingdom')]\n",
      "[('o', 'http://www.wikidata.org/entity/Q148'), ('name', \"People's Republic of China\")]\n",
      "[('o', 'http://www.wikidata.org/entity/Q15180'), ('name', 'Soviet Union')]\n",
      "[('o', 'http://www.wikidata.org/entity/Q155'), ('name', 'Brazil')]\n",
      "[('o', 'http://www.wikidata.org/entity/Q159'), ('name', 'Russia')]\n",
      "[('o', 'http://www.wikidata.org/entity/Q16'), ('name', 'Canada')]\n",
      "[('o', 'http://www.wikidata.org/entity/Q17'), ('name', 'Japan')]\n",
      "[('o', 'http://www.wikidata.org/entity/Q183'), ('name', 'Germany')]\n",
      "[('o', 'http://www.wikidata.org/entity/Q184'), ('name', 'Belarus')]\n",
      "[('o', 'http://www.wikidata.org/entity/Q191'), ('name', 'Estonia')]\n",
      "[('o', 'http://www.wikidata.org/entity/Q211'), ('name', 'Latvia')]\n",
      "[('o', 'http://www.wikidata.org/entity/Q212'), ('name', 'Ukraine')]\n",
      "[('o', 'http://www.wikidata.org/entity/Q213'), ('name', 'Czech Republic')]\n",
      "[('o', 'http://www.wikidata.org/entity/Q215'), ('name', 'Slovenia')]\n",
      "[('o', 'http://www.wikidata.org/entity/Q218'), ('name', 'Romania')]\n",
      "[('o', 'http://www.wikidata.org/entity/Q224'), ('name', 'Croatia')]\n",
      "[('o', 'http://www.wikidata.org/entity/Q29'), ('name', 'Spain')]\n",
      "[('o', 'http://www.wikidata.org/entity/Q29999'), ('name', 'Kingdom of the Netherlands')]\n",
      "[('o', 'http://www.wikidata.org/entity/Q30'), ('name', 'United States of America')]\n",
      "[('o', 'http://www.wikidata.org/entity/Q31'), ('name', 'Belgium')]\n",
      "[('o', 'http://www.wikidata.org/entity/Q33'), ('name', 'Finland')]\n",
      "[('o', 'http://www.wikidata.org/entity/Q34'), ('name', 'Sweden')]\n",
      "[('o', 'http://www.wikidata.org/entity/Q35'), ('name', 'Denmark')]\n",
      "[('o', 'http://www.wikidata.org/entity/Q36'), ('name', 'Poland')]\n",
      "[('o', 'http://www.wikidata.org/entity/Q38'), ('name', 'Italy')]\n",
      "[('o', 'http://www.wikidata.org/entity/Q39'), ('name', 'Switzerland')]\n",
      "[('o', 'http://www.wikidata.org/entity/Q403'), ('name', 'Serbia')]\n",
      "[('o', 'http://www.wikidata.org/entity/Q408'), ('name', 'Australia')]\n",
      "[('o', 'http://www.wikidata.org/entity/Q668'), ('name', 'India')]\n",
      "[('o', 'http://www.wikidata.org/entity/Q739'), ('name', 'Colombia')]\n",
      "[('o', 'http://www.wikidata.org/entity/Q83286'), ('name', 'Socialist Federal Republic of Yugoslavia')]\n",
      "[('o', 'http://www.wikidata.org/entity/Q33946'), ('name', 'Czechoslovakia')]\n",
      "34\n"
     ]
    }
   ],
   "source": [
    "# Countries of tennis players having ranking 1\n",
    "\n",
    "queryString = \"\"\"\n",
    "SELECT DISTINCT ?o ?name\n",
    "WHERE {\n",
    "   # bind something\n",
    "   ?p wdt:P106 wd:Q10833314 .\n",
    "   ?p wdt:P1352 1 .\n",
    "   ?p wdt:P1532 ?o .\n",
    "   # get the label\n",
    "   ?o sc:name ?name .\n",
    "}\n",
    "LIMIT 50\n",
    "\"\"\"\n",
    "\n",
    "print(\"Results\")\n",
    "x=run_query(queryString)"
   ]
  },
  {
   "cell_type": "markdown",
   "id": "ede11bb7",
   "metadata": {},
   "source": [
    "Final query for this task"
   ]
  },
  {
   "cell_type": "code",
   "execution_count": 50,
   "id": "8c826bc7",
   "metadata": {},
   "outputs": [
    {
     "name": "stdout",
     "output_type": "stream",
     "text": [
      "Results\n",
      "[('o', 'http://www.wikidata.org/entity/Q216923'), ('name', 'Chinese Taipei')]\n",
      "[('o', 'http://www.wikidata.org/entity/Q142'), ('name', 'France')]\n",
      "[('o', 'http://www.wikidata.org/entity/Q145'), ('name', 'United Kingdom')]\n",
      "[('o', 'http://www.wikidata.org/entity/Q148'), ('name', \"People's Republic of China\")]\n",
      "[('o', 'http://www.wikidata.org/entity/Q15180'), ('name', 'Soviet Union')]\n",
      "[('o', 'http://www.wikidata.org/entity/Q155'), ('name', 'Brazil')]\n",
      "[('o', 'http://www.wikidata.org/entity/Q159'), ('name', 'Russia')]\n",
      "[('o', 'http://www.wikidata.org/entity/Q16'), ('name', 'Canada')]\n",
      "[('o', 'http://www.wikidata.org/entity/Q17'), ('name', 'Japan')]\n",
      "[('o', 'http://www.wikidata.org/entity/Q183'), ('name', 'Germany')]\n",
      "[('o', 'http://www.wikidata.org/entity/Q184'), ('name', 'Belarus')]\n",
      "[('o', 'http://www.wikidata.org/entity/Q191'), ('name', 'Estonia')]\n",
      "[('o', 'http://www.wikidata.org/entity/Q211'), ('name', 'Latvia')]\n",
      "[('o', 'http://www.wikidata.org/entity/Q212'), ('name', 'Ukraine')]\n",
      "[('o', 'http://www.wikidata.org/entity/Q213'), ('name', 'Czech Republic')]\n",
      "[('o', 'http://www.wikidata.org/entity/Q215'), ('name', 'Slovenia')]\n",
      "[('o', 'http://www.wikidata.org/entity/Q218'), ('name', 'Romania')]\n",
      "[('o', 'http://www.wikidata.org/entity/Q224'), ('name', 'Croatia')]\n",
      "[('o', 'http://www.wikidata.org/entity/Q29'), ('name', 'Spain')]\n",
      "[('o', 'http://www.wikidata.org/entity/Q29999'), ('name', 'Kingdom of the Netherlands')]\n",
      "[('o', 'http://www.wikidata.org/entity/Q30'), ('name', 'United States of America')]\n",
      "[('o', 'http://www.wikidata.org/entity/Q31'), ('name', 'Belgium')]\n",
      "[('o', 'http://www.wikidata.org/entity/Q33'), ('name', 'Finland')]\n",
      "[('o', 'http://www.wikidata.org/entity/Q34'), ('name', 'Sweden')]\n",
      "[('o', 'http://www.wikidata.org/entity/Q35'), ('name', 'Denmark')]\n",
      "[('o', 'http://www.wikidata.org/entity/Q36'), ('name', 'Poland')]\n",
      "[('o', 'http://www.wikidata.org/entity/Q38'), ('name', 'Italy')]\n",
      "[('o', 'http://www.wikidata.org/entity/Q39'), ('name', 'Switzerland')]\n",
      "[('o', 'http://www.wikidata.org/entity/Q403'), ('name', 'Serbia')]\n",
      "[('o', 'http://www.wikidata.org/entity/Q408'), ('name', 'Australia')]\n",
      "[('o', 'http://www.wikidata.org/entity/Q668'), ('name', 'India')]\n",
      "[('o', 'http://www.wikidata.org/entity/Q739'), ('name', 'Colombia')]\n",
      "[('o', 'http://www.wikidata.org/entity/Q83286'), ('name', 'Socialist Federal Republic of Yugoslavia')]\n",
      "[('o', 'http://www.wikidata.org/entity/Q33946'), ('name', 'Czechoslovakia')]\n",
      "34\n"
     ]
    }
   ],
   "source": [
    "# write your final query\n",
    "\n",
    "queryString = \"\"\"\n",
    "SELECT DISTINCT ?o ?name\n",
    "WHERE {\n",
    "   # bind something\n",
    "   ?p wdt:P106 wd:Q10833314 .\n",
    "   ?p wdt:P1352 1 .\n",
    "   ?p wdt:P1532 ?o .\n",
    "   # get the label\n",
    "   ?o sc:name ?name .\n",
    "}\n",
    "LIMIT 50\n",
    "\"\"\"\n",
    "\n",
    "print(\"Results\")\n",
    "x=run_query(queryString)"
   ]
  },
  {
   "cell_type": "code",
   "execution_count": null,
   "id": "148c2763-6fec-4efc-892d-c8ad1303b4c8",
   "metadata": {},
   "outputs": [],
   "source": []
  }
 ],
 "metadata": {
  "kernelspec": {
   "display_name": "Python 3",
   "language": "python",
   "name": "python3"
  },
  "language_info": {
   "codemirror_mode": {
    "name": "ipython",
    "version": 3
   },
   "file_extension": ".py",
   "mimetype": "text/x-python",
   "name": "python",
   "nbconvert_exporter": "python",
   "pygments_lexer": "ipython3",
   "version": "3.7.10"
  }
 },
 "nbformat": 4,
 "nbformat_minor": 5
}
