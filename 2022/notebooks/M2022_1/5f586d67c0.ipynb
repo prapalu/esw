{
 "cells": [
  {
   "cell_type": "markdown",
   "id": "a8eda67c",
   "metadata": {},
   "source": [
    "# General instructions\n",
    "\n",
    "The goal of the project is to materialize a set of **exploratory workloads** over a real-world, large-scale,  open-domain KG: [WikiData](https://www.wikidata.org/wiki/Wikidata:Main_Page)\n",
    "\n",
    "An exploratory workload  is composed by a set of queries, where each query is related to the information obtained previously.\n",
    "\n",
    "An exploratory workload starts with a usually vague, open ended question, and does not assume the person issuing the workload has a clear understanding of the data contained in the target database or its structure.\n",
    "\n",
    "Remeber that:\n",
    "\n",
    "1. All the queries must run in the python notebook\n",
    "2. You can use classes and properties only if you find them via a SPARQL query that must be present in the notebook\n",
    "3. You do not delete useless queries. Keep everything that is synthatically valid \n",
    "\n",
    "```\n",
    "?p <http://schema.org/name> ?name .\n",
    "```\n",
    "    \n",
    "    is the BGP returning a human-readable name of a property or a class in Wikidata."
   ]
  },
  {
   "cell_type": "code",
   "execution_count": 1,
   "id": "3e290a78",
   "metadata": {},
   "outputs": [],
   "source": [
    "## SETUP used later\n",
    "\n",
    "from SPARQLWrapper import SPARQLWrapper, JSON\n",
    "\n",
    "\n",
    "prefixString = \"\"\"\n",
    "##-5f586d67c0-##\n",
    "PREFIX wd: <http://www.wikidata.org/entity/> \n",
    "PREFIX wdt: <http://www.wikidata.org/prop/direct/> \n",
    "PREFIX sc: <http://schema.org/>\n",
    "\"\"\"\n",
    "\n",
    "# select and construct queries\n",
    "def run_query(queryString,verbose = True):\n",
    "    to_run = prefixString + \"\\n\" + queryString\n",
    "\n",
    "    sparql = SPARQLWrapper(\"http://a256-gc1-03.srv.aau.dk:5820/sparql\")\n",
    "    sparql.setTimeout(300)\n",
    "    sparql.setReturnFormat(JSON)\n",
    "    sparql.setQuery(to_run)\n",
    "\n",
    "    try :\n",
    "        results = sparql.query()\n",
    "        json_results = results.convert()\n",
    "        if len(json_results['results']['bindings'])==0:\n",
    "            print(\"Empty\")\n",
    "            return []\n",
    "        array = []\n",
    "        for bindings in json_results['results']['bindings']:\n",
    "            app =  [ (var, value['value'])  for var, value in bindings.items() ] \n",
    "            if verbose:\n",
    "                print( app)\n",
    "            array.append(app)\n",
    "        if verbose:\n",
    "            print(len(array))\n",
    "        return array\n",
    "\n",
    "    except Exception as e :\n",
    "        print(\"The operation failed\", e)\n",
    "    \n",
    "# ASk queries\n",
    "def run_ask_query(queryString):\n",
    "    to_run = prefixString + \"\\n\" + queryString\n",
    "\n",
    "    sparql = SPARQLWrapper(\"http://a256-gc1-03.srv.aau.dk:5820/sparql\")\n",
    "    sparql.setTimeout(300)\n",
    "    sparql.setReturnFormat(JSON)\n",
    "    sparql.setQuery(to_run)\n",
    "\n",
    "    try :\n",
    "        return sparql.query().convert()\n",
    "\n",
    "    except Exception as e :\n",
    "        print(\"The operation failed\", e)"
   ]
  },
  {
   "cell_type": "markdown",
   "id": "43447cfe",
   "metadata": {},
   "source": [
    "# Sport Workflow Series (\"Association Football Players explorative search\") \n",
    "\n",
    "Consider the following exploratory information need:\n",
    "\n",
    "> investigate the association football players and find the main BGPs related to this sport. Compare players per countries, awards of the players and participation in the FIFA World Cup.\n",
    "\n",
    "**Important consideration: in wikidata, we are talking of ASSOCIATION FOOTBALL**"
   ]
  },
  {
   "cell_type": "markdown",
   "id": "5cf58667",
   "metadata": {},
   "source": [
    "## Useful URIs for the current workflow\n",
    "The following are given:\n",
    "\n",
    "| IRI           | Description   | Role      |\n",
    "| -----------   | -----------   |-----------|\n",
    "| `wdt:P1647`   | subproperty   | predicate |\n",
    "| `wdt:P31`     | instance of   | predicate |\n",
    "| `wdt:P106`    | profession    | predicate | \n",
    "| `wdt:P279`    | subclass      | predicate |\n",
    "| `wdt:P27`     | nationality   | predicate |\n",
    "| `wd:Q5`| Human       | node |\n",
    "| `wd:Q11571`| Cristiano Ronaldo       | node |\n"
   ]
  },
  {
   "cell_type": "markdown",
   "id": "ea391710",
   "metadata": {},
   "source": [
    "\n",
    "\n",
    "\n",
    "Also consider\n",
    "\n",
    "```\n",
    "wd:Q11571 ?p ?obj .\n",
    "```\n",
    "\n",
    "is the BGP to retrieve all **properties of Cristiano Ronaldo**\n",
    "\n",
    "Please consider that when you return a resource, you should return the IRI and the label of the resource. In particular, when the task require you to identify a BGP the result set must always be a list of couples IRI - label.\n",
    "\n",
    "\n",
    "\n",
    "The workload should:\n",
    "\n",
    "\n",
    "1. Identify the BGP for association football player\n",
    "\n",
    "2. Identify the BGP for association football club\n",
    "\n",
    "3. Identify the BGP for association football league\n",
    "\n",
    "4. Return for each european country the number of association football leagues (the result set must be a list of triples country IRI, label and #leagues).\n",
    "\n",
    "5. Identify the BGP for the ballon d'Or award\n",
    "\n",
    "6. Return the countries which have at least two different players of their nationality (consider the country of citizenship) who won the ballon d'Or (the result set must be a list of triples country IRI, label and #different players).\n",
    "\n",
    "7. Identify the BGP of the FIFA World Cup\n",
    "\n",
    "8. Who are the players who partecipated in more than 4 world's cup editions? (the result set must be a list of triples player IRI, label and #participations).\n",
    "\n",
    "9. Consider the countries that won the FIFA World Cup at least twice. Find the players of those countries won the ballon d'Or (the result set must be a list of couples player IRI and label).\n"
   ]
  },
  {
   "cell_type": "markdown",
   "id": "eda53c59",
   "metadata": {},
   "source": [
    "## Task 1\n",
    "Identify the BGP for association football player"
   ]
  },
  {
   "cell_type": "code",
   "execution_count": 141,
   "id": "19f2e5a8",
   "metadata": {},
   "outputs": [
    {
     "name": "stdout",
     "output_type": "stream",
     "text": [
      "Results\n",
      "[('p', 'http://www.wikidata.org/prop/direct/P3427'), ('name', 'AS.com athlete ID')]\n",
      "[('p', 'http://www.wikidata.org/prop/direct/P1266'), ('name', 'AlloCiné person ID')]\n",
      "[('p', 'http://www.wikidata.org/prop/direct/P6188'), ('name', 'BDFA player ID')]\n",
      "[('p', 'http://www.wikidata.org/prop/direct/P3655'), ('name', 'BDFutbol player ID')]\n",
      "[('p', 'http://www.wikidata.org/prop/direct/P5361'), ('name', 'BNB person ID')]\n",
      "[('p', 'http://www.wikidata.org/prop/direct/P3630'), ('name', 'Babelio author ID')]\n",
      "[('p', 'http://www.wikidata.org/prop/direct/P950'), ('name', 'Biblioteca Nacional de España ID')]\n",
      "[('p', 'http://www.wikidata.org/prop/direct/P268'), ('name', 'Bibliothèque nationale de France ID')]\n",
      "[('p', 'http://www.wikidata.org/prop/direct/P5019'), ('name', 'Brockhaus Enzyklopädie online ID')]\n",
      "[('p', 'http://www.wikidata.org/prop/direct/P1273'), ('name', 'CANTIC ID')]\n",
      "[('p', 'http://www.wikidata.org/prop/direct/P9368'), ('name', 'CNA topic ID')]\n",
      "[('p', 'http://www.wikidata.org/prop/direct/P1280'), ('name', 'CONOR.SI ID')]\n",
      "[('p', 'http://www.wikidata.org/prop/direct/P373'), ('name', 'Commons category')]\n",
      "[('p', 'http://www.wikidata.org/prop/direct/P6849'), ('name', 'DR topic ID')]\n",
      "[('p', 'http://www.wikidata.org/prop/direct/P3509'), ('name', 'Dagens Nyheter topic ID')]\n",
      "[('p', 'http://www.wikidata.org/prop/direct/P5284'), ('name', 'Douban movie celebrity ID')]\n",
      "[('p', 'http://www.wikidata.org/prop/direct/P3681'), ('name', 'ESPNFC.com player ID')]\n",
      "[('p', 'http://www.wikidata.org/prop/direct/P3726'), ('name', 'EU-Football.info player ID')]\n",
      "[('p', 'http://www.wikidata.org/prop/direct/P1417'), ('name', 'Encyclopædia Britannica Online ID')]\n",
      "[('p', 'http://www.wikidata.org/prop/direct/P3219'), ('name', 'Encyclopædia Universalis ID')]\n",
      "20\n"
     ]
    }
   ],
   "source": [
    "# query example\n",
    "queryString = \"\"\"\n",
    "SELECT DISTINCT ?p ?name\n",
    "WHERE {\n",
    "   \n",
    "   wd:Q11571 ?p ?obj .\n",
    "   \n",
    "   ?p sc:name ?name.\n",
    "}\n",
    "order by ?name\n",
    "LIMIT 20\n",
    "\"\"\"\n",
    "\n",
    "print(\"Results\")\n",
    "x=run_query(queryString)"
   ]
  },
  {
   "cell_type": "code",
   "execution_count": 3,
   "id": "ef0c55fc-0ec2-4af2-87e8-7914d9234888",
   "metadata": {},
   "outputs": [
    {
     "name": "stdout",
     "output_type": "stream",
     "text": [
      "Results\n",
      "[('occupation', 'http://www.wikidata.org/entity/Q937857'), ('name', 'association football player')]\n",
      "1\n"
     ]
    }
   ],
   "source": [
    "# Let's look at the occupation of Ronaldo\n",
    "queryString = \"\"\"\n",
    "SELECT DISTINCT ?occupation ?name\n",
    "WHERE\n",
    "{\n",
    "    wd:Q11571 wdt:P106 ?occupation.\n",
    "    ?occupation sc:name ?name\n",
    "}\n",
    "\"\"\"\n",
    "\n",
    "print(\"Results\")\n",
    "x = run_query(queryString)"
   ]
  },
  {
   "cell_type": "code",
   "execution_count": 4,
   "id": "eed626cb-9b21-4157-9faa-28c7c3ff9181",
   "metadata": {},
   "outputs": [
    {
     "name": "stdout",
     "output_type": "stream",
     "text": [
      "Results\n",
      "[('afp', 'http://www.wikidata.org/entity/Q259758'), ('name', 'Andrés Mendoza')]\n",
      "[('afp', 'http://www.wikidata.org/entity/Q8135287'), ('name', 'Naoki Kurimoto')]\n",
      "[('afp', 'http://www.wikidata.org/entity/Q8157342'), ('name', 'Lamberto Anichini')]\n",
      "[('afp', 'http://www.wikidata.org/entity/Q8196829'), ('name', 'Alvin Avinesh')]\n",
      "[('afp', 'http://www.wikidata.org/entity/Q8199060'), ('name', 'André Advíncula')]\n",
      "[('afp', 'http://www.wikidata.org/entity/Q8199367'), ('name', 'Andrés Mendoza')]\n",
      "[('afp', 'http://www.wikidata.org/entity/Q8201109'), ('name', 'Antonino Gart')]\n",
      "[('afp', 'http://www.wikidata.org/entity/Q8204020'), ('name', 'Argemiro Veiga Gonçalves')]\n",
      "[('afp', 'http://www.wikidata.org/entity/Q8238626'), ('name', 'Jiří Adamec')]\n",
      "[('afp', 'http://www.wikidata.org/entity/Q29162'), ('name', 'Tomáš Rosický')]\n",
      "[('afp', 'http://www.wikidata.org/entity/Q3027395'), ('name', 'Diego Héctor Garay')]\n",
      "[('afp', 'http://www.wikidata.org/entity/Q8351764'), ('name', 'Cristóbal Martí')]\n",
      "[('afp', 'http://www.wikidata.org/entity/Q8353516'), ('name', 'Damián Manusovich')]\n",
      "[('afp', 'http://www.wikidata.org/entity/Q8353727'), ('name', 'Danilo Asconeguy')]\n",
      "[('afp', 'http://www.wikidata.org/entity/Q8353798'), ('name', 'Danny Robinson')]\n",
      "[('afp', 'http://www.wikidata.org/entity/Q8646517'), ('name', 'Miroslav Konopek')]\n",
      "[('afp', 'http://www.wikidata.org/entity/Q8718859'), ('name', 'Aurimas Vertelis')]\n",
      "[('afp', 'http://www.wikidata.org/entity/Q13639102'), ('name', 'Jaroslav Navrátil')]\n",
      "[('afp', 'http://www.wikidata.org/entity/Q13641829'), ('name', 'Gerrie Veerman')]\n",
      "[('afp', 'http://www.wikidata.org/entity/Q13641863'), ('name', 'Gerry Hamstra')]\n",
      "20\n"
     ]
    }
   ],
   "source": [
    "# getting all players with occupation = association football player\n",
    "queryString = \"\"\"\n",
    "SELECT DISTINCT ?afp ?name\n",
    "WHERE\n",
    "{\n",
    "    ?afp wdt:P106 wd:Q937857.\n",
    "    ?afp sc:name ?name\n",
    "}\n",
    "LIMIT 20\n",
    "\"\"\"\n",
    "\n",
    "print(\"Results\")\n",
    "x = run_query(queryString)"
   ]
  },
  {
   "cell_type": "markdown",
   "id": "2b842d78",
   "metadata": {},
   "source": [
    "Final query for this task"
   ]
  },
  {
   "cell_type": "code",
   "execution_count": 5,
   "id": "e2768dbe",
   "metadata": {
    "tags": []
   },
   "outputs": [
    {
     "name": "stdout",
     "output_type": "stream",
     "text": [
      "Results\n",
      "[('afp', 'http://www.wikidata.org/entity/Q259758'), ('name', 'Andrés Mendoza')]\n",
      "[('afp', 'http://www.wikidata.org/entity/Q8135287'), ('name', 'Naoki Kurimoto')]\n",
      "[('afp', 'http://www.wikidata.org/entity/Q8157342'), ('name', 'Lamberto Anichini')]\n",
      "[('afp', 'http://www.wikidata.org/entity/Q8196829'), ('name', 'Alvin Avinesh')]\n",
      "[('afp', 'http://www.wikidata.org/entity/Q8199060'), ('name', 'André Advíncula')]\n",
      "[('afp', 'http://www.wikidata.org/entity/Q8199367'), ('name', 'Andrés Mendoza')]\n",
      "[('afp', 'http://www.wikidata.org/entity/Q8201109'), ('name', 'Antonino Gart')]\n",
      "[('afp', 'http://www.wikidata.org/entity/Q8204020'), ('name', 'Argemiro Veiga Gonçalves')]\n",
      "[('afp', 'http://www.wikidata.org/entity/Q8238626'), ('name', 'Jiří Adamec')]\n",
      "[('afp', 'http://www.wikidata.org/entity/Q29162'), ('name', 'Tomáš Rosický')]\n",
      "[('afp', 'http://www.wikidata.org/entity/Q3027395'), ('name', 'Diego Héctor Garay')]\n",
      "[('afp', 'http://www.wikidata.org/entity/Q8351764'), ('name', 'Cristóbal Martí')]\n",
      "[('afp', 'http://www.wikidata.org/entity/Q8353516'), ('name', 'Damián Manusovich')]\n",
      "[('afp', 'http://www.wikidata.org/entity/Q8353727'), ('name', 'Danilo Asconeguy')]\n",
      "[('afp', 'http://www.wikidata.org/entity/Q8353798'), ('name', 'Danny Robinson')]\n",
      "[('afp', 'http://www.wikidata.org/entity/Q8646517'), ('name', 'Miroslav Konopek')]\n",
      "[('afp', 'http://www.wikidata.org/entity/Q8718859'), ('name', 'Aurimas Vertelis')]\n",
      "[('afp', 'http://www.wikidata.org/entity/Q13639102'), ('name', 'Jaroslav Navrátil')]\n",
      "[('afp', 'http://www.wikidata.org/entity/Q13641829'), ('name', 'Gerrie Veerman')]\n",
      "[('afp', 'http://www.wikidata.org/entity/Q13641863'), ('name', 'Gerry Hamstra')]\n",
      "20\n"
     ]
    }
   ],
   "source": [
    "# write your final query\n",
    "# getting all players with the same occupation as Ronaldo\n",
    "queryString = \"\"\"\n",
    "SELECT DISTINCT ?afp ?name\n",
    "WHERE\n",
    "{\n",
    "    wd:Q11571 wdt:P106 ?occupation.\n",
    "    ?afp wdt:P106 ?occupation.\n",
    "    ?afp sc:name ?name\n",
    "}\n",
    "LIMIT 20\n",
    "\"\"\"\n",
    "\n",
    "print(\"Results\")\n",
    "x = run_query(queryString)"
   ]
  },
  {
   "cell_type": "markdown",
   "id": "7ba565b0",
   "metadata": {},
   "source": [
    "## Task 2\n",
    "Identify the BGP for association football club"
   ]
  },
  {
   "cell_type": "code",
   "execution_count": 6,
   "id": "155285d9",
   "metadata": {},
   "outputs": [],
   "source": [
    "# write your queries"
   ]
  },
  {
   "cell_type": "code",
   "execution_count": 7,
   "id": "34d8ae37-9284-4058-81a3-7ad8432f7032",
   "metadata": {},
   "outputs": [
    {
     "name": "stdout",
     "output_type": "stream",
     "text": [
      "Results\n",
      "[('o', 'http://www.wikidata.org/entity/P2369'), ('name', 'Soccerway player ID')]\n",
      "[('o', 'http://www.wikidata.org/entity/P3908'), ('name', 'Reprezentacija player ID')]\n",
      "[('o', 'http://www.wikidata.org/entity/Q18536342'), ('name', 'competitive player')]\n",
      "[('o', 'http://www.wikidata.org/entity/P2446'), ('name', 'Transfermarkt player ID')]\n",
      "[('o', 'http://www.wikidata.org/entity/Q7217464'), ('name', 'Category:Association football players')]\n",
      "[('o', 'http://www.wikidata.org/entity/P2823'), ('name', 'Royal Belgian Football Association player ID')]\n",
      "[('o', 'http://www.wikidata.org/entity/Q15944511'), ('name', 'association football team')]\n",
      "[('o', 'http://www.wikidata.org/entity/Q2736'), ('name', 'association football')]\n",
      "[('o', 'http://www.wikidata.org/entity/Q28640'), ('name', 'profession')]\n",
      "[('o', 'http://www.wikidata.org/entity/Q476028'), ('name', 'association football club')]\n",
      "[('o', 'http://www.wikidata.org/entity/Q31930761'), ('name', \"men's association football\")]\n",
      "[('o', 'http://www.wikidata.org/entity/Q17019799'), ('name', 'Template:SD Eibar squad')]\n",
      "[('o', 'http://www.wikidata.org/entity/Q2066131'), ('name', 'athlete')]\n",
      "[('o', 'http://www.wikidata.org/entity/Q606060'), ('name', \"women's association football\")]\n",
      "[('o', 'http://www.wikidata.org/entity/P1469'), ('name', 'FIFA player ID')]\n",
      "[('o', 'http://www.wikidata.org/entity/P4019'), ('name', 'USL Championship player ID')]\n",
      "[('o', 'http://www.wikidata.org/entity/P2574'), ('name', 'National-Football-Teams.com player ID')]\n",
      "[('o', 'http://www.wikidata.org/entity/Q6690764'), ('name', 'Template:Atlético Madrid squad')]\n",
      "[('o', 'http://www.wikidata.org/entity/Q1381731'), ('name', 'kit')]\n",
      "[('o', 'http://www.wikidata.org/entity/P3677'), ('name', 'Wereld van Oranje player ID')]\n",
      "20\n"
     ]
    }
   ],
   "source": [
    "# getting all objects related to association football player\n",
    "queryString = \"\"\"\n",
    "SELECT DISTINCT  ?o ?name\n",
    "WHERE\n",
    "{\n",
    "    wd:Q937857 ?p ?o .\n",
    "    ?o sc:name ?name.\n",
    "}\n",
    "LIMIT 20\n",
    "\"\"\"\n",
    "\n",
    "print(\"Results\")\n",
    "x = run_query(queryString)"
   ]
  },
  {
   "cell_type": "code",
   "execution_count": 8,
   "id": "fe6d92fd-735b-44e4-9eb8-873a61f61105",
   "metadata": {},
   "outputs": [
    {
     "name": "stdout",
     "output_type": "stream",
     "text": [
      "Results\n",
      "[('instance', 'http://www.wikidata.org/entity/Q4647107'), ('name', 'A.D. Dili Leste')]\n",
      "[('instance', 'http://www.wikidata.org/entity/Q8186475'), ('name', 'Tahuichi Academy')]\n",
      "[('instance', 'http://www.wikidata.org/entity/Q8208548'), ('name', 'Atlético Trujillo')]\n",
      "[('instance', 'http://www.wikidata.org/entity/Q2631783'), ('name', 'Cizrespor')]\n",
      "[('instance', 'http://www.wikidata.org/entity/Q3448775'), ('name', 'FK Sloboda Mrkonjić Grad')]\n",
      "[('instance', 'http://www.wikidata.org/entity/Q5100109'), ('name', 'Chinandega FC')]\n",
      "[('instance', 'http://www.wikidata.org/entity/Q5379014'), ('name', 'Enkaspor')]\n",
      "[('instance', 'http://www.wikidata.org/entity/Q7280157'), ('name', \"Radford Highlanders men's soccer\")]\n",
      "[('instance', 'http://www.wikidata.org/entity/Q7300846'), ('name', 'Real Arroyo Seco')]\n",
      "[('instance', 'http://www.wikidata.org/entity/Q14252413'), ('name', 'Rapid JC')]\n",
      "[('instance', 'http://www.wikidata.org/entity/Q14919844'), ('name', \"Fortuna '54\")]\n",
      "[('instance', 'http://www.wikidata.org/entity/Q3375656'), ('name', 'Persekabpas Pasuruan')]\n",
      "[('instance', 'http://www.wikidata.org/entity/Q6414993'), ('name', 'Southwick F.C.')]\n",
      "[('instance', 'http://www.wikidata.org/entity/Q15726292'), ('name', 'JS Talangaï')]\n",
      "[('instance', 'http://www.wikidata.org/entity/Q16842749'), ('name', 'Klippans FF')]\n",
      "[('instance', 'http://www.wikidata.org/entity/Q3626845'), ('name', 'A.S.D. Anziolavinio')]\n",
      "[('instance', 'http://www.wikidata.org/entity/Q3860587'), ('name', 'Moncalieri Calcio')]\n",
      "[('instance', 'http://www.wikidata.org/entity/Q4890097'), ('name', 'CD Utiel')]\n",
      "[('instance', 'http://www.wikidata.org/entity/Q5575382'), ('name', 'Estrella CF')]\n",
      "[('instance', 'http://www.wikidata.org/entity/Q7864302'), ('name', 'UD Villa de Santa Brígida B')]\n",
      "20\n"
     ]
    }
   ],
   "source": [
    "# we know that association football club is wd:Q476028\n",
    "# and predicate instance of wdt:P31\n",
    "# now get all instances of association football club entity\n",
    "queryString = \"\"\"\n",
    "SELECT DISTINCT ?instance ?name\n",
    "WHERE\n",
    "{\n",
    "    ?instance wdt:P31 wd:Q476028.\n",
    "    ?instance sc:name ?name.\n",
    "}\n",
    "LIMIT 20\n",
    "\"\"\"\n",
    "\n",
    "print(\"Results\")\n",
    "x = run_query(queryString)"
   ]
  },
  {
   "cell_type": "markdown",
   "id": "dcb41a86",
   "metadata": {},
   "source": [
    "Final query for this task"
   ]
  },
  {
   "cell_type": "code",
   "execution_count": 9,
   "id": "60e7d3f4",
   "metadata": {},
   "outputs": [
    {
     "name": "stdout",
     "output_type": "stream",
     "text": [
      "Results\n",
      "[('instance', 'http://www.wikidata.org/entity/Q4647107'), ('name', 'A.D. Dili Leste')]\n",
      "[('instance', 'http://www.wikidata.org/entity/Q8186475'), ('name', 'Tahuichi Academy')]\n",
      "[('instance', 'http://www.wikidata.org/entity/Q8208548'), ('name', 'Atlético Trujillo')]\n",
      "[('instance', 'http://www.wikidata.org/entity/Q2631783'), ('name', 'Cizrespor')]\n",
      "[('instance', 'http://www.wikidata.org/entity/Q3448775'), ('name', 'FK Sloboda Mrkonjić Grad')]\n",
      "[('instance', 'http://www.wikidata.org/entity/Q5100109'), ('name', 'Chinandega FC')]\n",
      "[('instance', 'http://www.wikidata.org/entity/Q5379014'), ('name', 'Enkaspor')]\n",
      "[('instance', 'http://www.wikidata.org/entity/Q7280157'), ('name', \"Radford Highlanders men's soccer\")]\n",
      "[('instance', 'http://www.wikidata.org/entity/Q7300846'), ('name', 'Real Arroyo Seco')]\n",
      "[('instance', 'http://www.wikidata.org/entity/Q14252413'), ('name', 'Rapid JC')]\n",
      "[('instance', 'http://www.wikidata.org/entity/Q14919844'), ('name', \"Fortuna '54\")]\n",
      "[('instance', 'http://www.wikidata.org/entity/Q3375656'), ('name', 'Persekabpas Pasuruan')]\n",
      "[('instance', 'http://www.wikidata.org/entity/Q6414993'), ('name', 'Southwick F.C.')]\n",
      "[('instance', 'http://www.wikidata.org/entity/Q15726292'), ('name', 'JS Talangaï')]\n",
      "[('instance', 'http://www.wikidata.org/entity/Q16842749'), ('name', 'Klippans FF')]\n",
      "[('instance', 'http://www.wikidata.org/entity/Q3626845'), ('name', 'A.S.D. Anziolavinio')]\n",
      "[('instance', 'http://www.wikidata.org/entity/Q3860587'), ('name', 'Moncalieri Calcio')]\n",
      "[('instance', 'http://www.wikidata.org/entity/Q4890097'), ('name', 'CD Utiel')]\n",
      "[('instance', 'http://www.wikidata.org/entity/Q5575382'), ('name', 'Estrella CF')]\n",
      "[('instance', 'http://www.wikidata.org/entity/Q7864302'), ('name', 'UD Villa de Santa Brígida B')]\n",
      "20\n"
     ]
    }
   ],
   "source": [
    "# we know that association football club is wd:Q476028\n",
    "# and predicate instance of wdt:P31\n",
    "# now get all instances of association football club entity\n",
    "queryString = \"\"\"\n",
    "SELECT DISTINCT ?instance ?name\n",
    "WHERE\n",
    "{\n",
    "    ?instance wdt:P31 wd:Q476028.\n",
    "    ?instance sc:name ?name.\n",
    "}\n",
    "LIMIT 20\n",
    "\"\"\"\n",
    "\n",
    "print(\"Results\")\n",
    "x = run_query(queryString)"
   ]
  },
  {
   "cell_type": "markdown",
   "id": "b60ab6f7",
   "metadata": {},
   "source": [
    "## Task 3\n",
    "Identify the BGP for association football league"
   ]
  },
  {
   "cell_type": "code",
   "execution_count": 10,
   "id": "cb1acdbe",
   "metadata": {},
   "outputs": [],
   "source": [
    "# write your queries"
   ]
  },
  {
   "cell_type": "code",
   "execution_count": 11,
   "id": "f34857dc-eca3-48ea-9df6-6cac39a4c13f",
   "metadata": {},
   "outputs": [
    {
     "name": "stdout",
     "output_type": "stream",
     "text": [
      "Results\n",
      "[('p', 'http://www.wikidata.org/entity/Q182994'), ('name', 'Liga Portugal')]\n",
      "[('p', 'http://www.wikidata.org/entity/Q15804'), ('name', 'Serie A')]\n",
      "[('p', 'http://www.wikidata.org/entity/Q324867'), ('name', 'La Liga')]\n",
      "[('p', 'http://www.wikidata.org/entity/Q9448'), ('name', 'Premier League')]\n",
      "4\n"
     ]
    }
   ],
   "source": [
    "# we know that league predicate is wdt:P118(from task 1)\n",
    "# lets get ronaldo's league\n",
    "queryString = \"\"\"\n",
    "SELECT DISTINCT  ?p ?name\n",
    "WHERE\n",
    "{\n",
    "    wd:Q11571 wdt:P118 ?p.\n",
    "    ?p sc:name ?name.\n",
    "}\n",
    "LIMIT 20\n",
    "\"\"\"\n",
    "\n",
    "print(\"Results\")\n",
    "x = run_query(queryString)"
   ]
  },
  {
   "cell_type": "code",
   "execution_count": 12,
   "id": "608ee99a-2723-47a7-a1eb-7e14e1427a91",
   "metadata": {},
   "outputs": [
    {
     "name": "stdout",
     "output_type": "stream",
     "text": [
      "Results\n",
      "[('p', 'http://www.wikidata.org/entity/Q15991290'), ('name', 'professional sports league')]\n",
      "[('p', 'http://www.wikidata.org/entity/Q15991303'), ('name', 'association football league')]\n",
      "2\n"
     ]
    }
   ],
   "source": [
    "# get class of the instance Premier League(wd:Q9448)\n",
    "queryString = \"\"\"\n",
    "SELECT DISTINCT  ?p ?name\n",
    "WHERE\n",
    "{\n",
    "    wd:Q9448 wdt:P31 ?p.\n",
    "    ?p sc:name ?name.\n",
    "}\n",
    "LIMIT 20\n",
    "\"\"\"\n",
    "\n",
    "print(\"Results\")\n",
    "x = run_query(queryString)"
   ]
  },
  {
   "cell_type": "code",
   "execution_count": 13,
   "id": "d8019de7-a6e7-41ed-b704-fe2551a23240",
   "metadata": {},
   "outputs": [
    {
     "name": "stdout",
     "output_type": "stream",
     "text": [
      "Results\n",
      "[('p', 'http://www.wikidata.org/entity/Q304228'), ('name', 'Uzbekistan Pro League')]\n",
      "[('p', 'http://www.wikidata.org/entity/Q2950655'), ('name', 'Ligue 2')]\n",
      "[('p', 'http://www.wikidata.org/entity/Q2951924'), ('name', \"Moldovan women's football championship\")]\n",
      "[('p', 'http://www.wikidata.org/entity/Q973312'), ('name', 'Championnat National 3')]\n",
      "[('p', 'http://www.wikidata.org/entity/Q2792041'), ('name', '3. divisjon')]\n",
      "[('p', 'http://www.wikidata.org/entity/Q1162407'), ('name', 'Nemzeti Bajnokság III')]\n",
      "[('p', 'http://www.wikidata.org/entity/Q1476473'), ('name', 'Landesliga Niederrhein')]\n",
      "[('p', 'http://www.wikidata.org/entity/Q162533'), ('name', 'Russian Football National League Competition')]\n",
      "[('p', 'http://www.wikidata.org/entity/Q1707697'), ('name', 'Liga III')]\n",
      "[('p', 'http://www.wikidata.org/entity/Q219586'), ('name', 'A-League')]\n",
      "[('p', 'http://www.wikidata.org/entity/Q238113'), ('name', 'Slovak Super Liga')]\n",
      "[('p', 'http://www.wikidata.org/entity/Q475887'), ('name', 'Bremen-Liga')]\n",
      "[('p', 'http://www.wikidata.org/entity/Q541065'), ('name', 'Segona Divisió')]\n",
      "[('p', 'http://www.wikidata.org/entity/Q1090867'), ('name', 'Ýokary Liga')]\n",
      "[('p', 'http://www.wikidata.org/entity/Q1473324'), ('name', 'Scottish Football League Second Division')]\n",
      "[('p', 'http://www.wikidata.org/entity/Q1813595'), ('name', 'Serbian First League')]\n",
      "[('p', 'http://www.wikidata.org/entity/Q3240443'), ('name', 'Ligue de la Méditerranée de football')]\n",
      "[('p', 'http://www.wikidata.org/entity/Q40068'), ('name', 'Primera División Femenina')]\n",
      "[('p', 'http://www.wikidata.org/entity/Q5330147'), ('name', 'Eastern Football League')]\n",
      "[('p', 'http://www.wikidata.org/entity/Q570246'), ('name', 'Botola')]\n",
      "20\n"
     ]
    }
   ],
   "source": [
    "# now we know association football league is wd:Q15991303\n",
    "queryString = \"\"\"\n",
    "SELECT DISTINCT  ?p ?name\n",
    "WHERE\n",
    "{\n",
    "    ?p wdt:P31 wd:Q15991303.\n",
    "    ?p sc:name ?name.\n",
    "}\n",
    "LIMIT 20\n",
    "\"\"\"\n",
    "\n",
    "print(\"Results\")\n",
    "x = run_query(queryString)\n"
   ]
  },
  {
   "cell_type": "markdown",
   "id": "85bab2f4",
   "metadata": {},
   "source": [
    "Final query for this task"
   ]
  },
  {
   "cell_type": "code",
   "execution_count": 52,
   "id": "894ec6e8-0c62-4db3-9b9f-35051e0ae246",
   "metadata": {},
   "outputs": [
    {
     "name": "stdout",
     "output_type": "stream",
     "text": [
      "Results\n",
      "[('p', 'http://www.wikidata.org/prop/direct/P1424'), ('name', \"topic's main template\")]\n",
      "[('p', 'http://www.wikidata.org/prop/direct/P1709'), ('name', 'equivalent class')]\n",
      "[('p', 'http://www.wikidata.org/prop/direct/P1889'), ('name', 'different from')]\n",
      "[('p', 'http://www.wikidata.org/prop/direct/P1963'), ('name', 'properties for this type')]\n",
      "[('p', 'http://www.wikidata.org/prop/direct/P2671'), ('name', 'Google Knowledge Graph ID')]\n",
      "[('p', 'http://www.wikidata.org/prop/direct/P279'), ('name', 'subclass of')]\n",
      "[('p', 'http://www.wikidata.org/prop/direct/P641'), ('name', 'sport')]\n",
      "[('p', 'http://www.wikidata.org/prop/direct/P8408'), ('name', 'KBpedia ID')]\n",
      "[('p', 'http://www.wikidata.org/prop/direct/P910'), ('name', \"topic's main category\")]\n",
      "9\n"
     ]
    }
   ],
   "source": [
    "# now we know association football league is wd:Q15991303\n",
    "queryString = \"\"\"\n",
    "SELECT DISTINCT  ?p ?name\n",
    "WHERE\n",
    "{\n",
    "    wd:Q15991303 ?p ?obj.\n",
    "    ?p sc:name ?name.\n",
    "}\n",
    "LIMIT 20\n",
    "\"\"\"\n",
    "\n",
    "print(\"Results\")\n",
    "x = run_query(queryString)\n"
   ]
  },
  {
   "cell_type": "markdown",
   "id": "a4026b78",
   "metadata": {},
   "source": [
    "## Task 4\n",
    "Return for each european country the number of association football leagues (the result set must be a list of triples country IRI, label and #leagues)."
   ]
  },
  {
   "cell_type": "code",
   "execution_count": 15,
   "id": "f5185939",
   "metadata": {},
   "outputs": [],
   "source": [
    "# write your queries"
   ]
  },
  {
   "cell_type": "code",
   "execution_count": 56,
   "id": "3b02d96b-08cb-43b1-a350-ec26aa5e2dfb",
   "metadata": {},
   "outputs": [
    {
     "name": "stdout",
     "output_type": "stream",
     "text": [
      "Results\n",
      "[('p', 'http://www.wikidata.org/prop/direct/P17'), ('obj', 'http://www.wikidata.org/entity/Q38'), ('pName', 'country'), ('objName', 'Italy')]\n",
      "[('p', 'http://www.wikidata.org/prop/direct/P17'), ('obj', 'http://www.wikidata.org/entity/Q172579'), ('pName', 'country'), ('objName', 'Kingdom of Italy')]\n",
      "2\n"
     ]
    }
   ],
   "source": [
    "# find property of afl that shows country\n",
    "\n",
    "#  wd:Q15991303 = association football league\n",
    "# wdt:P31 = instance of\n",
    "\n",
    "queryString = \"\"\"\n",
    "SELECT DISTINCT  ?p ?obj ?pName ?objName\n",
    "WHERE\n",
    "{\n",
    "    ?randomAFL wdt:P31 wd:Q15991303 .\n",
    "    ?randomAFL ?p ?obj .\n",
    "    \n",
    "    ?p sc:name ?pName .\n",
    "    ?obj sc:name ?objName .\n",
    "    \n",
    "    Filter regex(?objName, \"Italy\") .\n",
    "}\n",
    "LIMIT 20\n",
    "\"\"\"\n",
    "\n",
    "print(\"Results\")\n",
    "x = run_query(queryString)"
   ]
  },
  {
   "cell_type": "code",
   "execution_count": 59,
   "id": "64e0e677-8523-48e1-b563-7790eee2491c",
   "metadata": {},
   "outputs": [
    {
     "name": "stdout",
     "output_type": "stream",
     "text": [
      "Results\n",
      "[('p', 'http://www.wikidata.org/prop/direct/P30'), ('obj', 'http://www.wikidata.org/entity/Q46'), ('pName', 'continent'), ('objName', 'Europe')]\n",
      "[('p', 'http://www.wikidata.org/prop/direct/P361'), ('obj', 'http://www.wikidata.org/entity/Q46'), ('pName', 'part of'), ('objName', 'Europe')]\n",
      "[('p', 'http://www.wikidata.org/prop/direct/P421'), ('obj', 'http://www.wikidata.org/entity/Q5412122'), ('pName', 'located in time zone'), ('objName', 'Europe/Rome')]\n",
      "[('p', 'http://www.wikidata.org/prop/direct/P463'), ('obj', 'http://www.wikidata.org/entity/Q151991'), ('pName', 'member of'), ('objName', 'European Southern Observatory')]\n",
      "[('p', 'http://www.wikidata.org/prop/direct/P463'), ('obj', 'http://www.wikidata.org/entity/Q42262'), ('pName', 'member of'), ('objName', 'European Space Agency')]\n",
      "[('p', 'http://www.wikidata.org/prop/direct/P463'), ('obj', 'http://www.wikidata.org/entity/Q81299'), ('pName', 'member of'), ('objName', 'Organization for Security and Co-operation in Europe')]\n",
      "[('p', 'http://www.wikidata.org/prop/direct/P463'), ('obj', 'http://www.wikidata.org/entity/Q1377612'), ('pName', 'member of'), ('objName', 'European Payments Union')]\n",
      "[('p', 'http://www.wikidata.org/prop/direct/P463'), ('obj', 'http://www.wikidata.org/entity/Q189946'), ('pName', 'member of'), ('objName', 'Western European Union')]\n",
      "[('p', 'http://www.wikidata.org/prop/direct/P463'), ('obj', 'http://www.wikidata.org/entity/Q488981'), ('pName', 'member of'), ('objName', 'European Bank for Reconstruction and Development')]\n",
      "[('p', 'http://www.wikidata.org/prop/direct/P463'), ('obj', 'http://www.wikidata.org/entity/Q458'), ('pName', 'member of'), ('objName', 'European Union')]\n",
      "[('p', 'http://www.wikidata.org/prop/direct/P463'), ('obj', 'http://www.wikidata.org/entity/Q161549'), ('pName', 'member of'), ('objName', 'European Coal and Steel Community')]\n",
      "[('p', 'http://www.wikidata.org/prop/direct/P463'), ('obj', 'http://www.wikidata.org/entity/Q52847'), ('pName', 'member of'), ('objName', 'European Economic Community')]\n",
      "[('p', 'http://www.wikidata.org/prop/direct/P463'), ('obj', 'http://www.wikidata.org/entity/Q3866537'), ('pName', 'member of'), ('objName', 'Movement Coordination Centre Europe')]\n",
      "[('p', 'http://www.wikidata.org/prop/direct/P463'), ('obj', 'http://www.wikidata.org/entity/Q141720'), ('pName', 'member of'), ('objName', 'European Air Transport Command')]\n",
      "[('p', 'http://www.wikidata.org/prop/direct/P463'), ('obj', 'http://www.wikidata.org/entity/Q8908'), ('pName', 'member of'), ('objName', 'Council of Europe')]\n",
      "[('p', 'http://www.wikidata.org/prop/direct/P706'), ('obj', 'http://www.wikidata.org/entity/Q27449'), ('pName', 'located in/on physical feature'), ('objName', 'Southern Europe')]\n",
      "16\n"
     ]
    }
   ],
   "source": [
    "# find property of Italy that shows it is in europe\n",
    "\n",
    "#  wd:Q38 = Italy\n",
    "\n",
    "queryString = \"\"\"\n",
    "SELECT DISTINCT  ?p ?obj ?pName ?objName\n",
    "WHERE\n",
    "{\n",
    "    wd:Q38 ?p ?obj .\n",
    "    \n",
    "    ?p sc:name ?pName .\n",
    "    ?obj sc:name ?objName .\n",
    "    \n",
    "    Filter regex(?objName, \"Europe\") .\n",
    "}\n",
    "LIMIT 20\n",
    "\"\"\"\n",
    "\n",
    "print(\"Results\")\n",
    "x = run_query(queryString)"
   ]
  },
  {
   "cell_type": "code",
   "execution_count": 63,
   "id": "a1d742b1-8877-4916-9702-097803bd360f",
   "metadata": {},
   "outputs": [
    {
     "name": "stdout",
     "output_type": "stream",
     "text": [
      "Results\n",
      "[('country', 'http://www.wikidata.org/entity/Q213'), ('countryName', 'Czech Republic'), ('numberofLeagues', '199')]\n",
      "[('country', 'http://www.wikidata.org/entity/Q183'), ('countryName', 'Germany'), ('numberofLeagues', '130')]\n",
      "[('country', 'http://www.wikidata.org/entity/Q145'), ('countryName', 'United Kingdom'), ('numberofLeagues', '91')]\n",
      "[('country', 'http://www.wikidata.org/entity/Q20'), ('countryName', 'Norway'), ('numberofLeagues', '72')]\n",
      "[('country', 'http://www.wikidata.org/entity/Q218'), ('countryName', 'Romania'), ('numberofLeagues', '62')]\n",
      "[('country', 'http://www.wikidata.org/entity/Q29'), ('countryName', 'Spain'), ('numberofLeagues', '32')]\n",
      "[('country', 'http://www.wikidata.org/entity/Q55'), ('countryName', 'Netherlands'), ('numberofLeagues', '22')]\n",
      "[('country', 'http://www.wikidata.org/entity/Q713750'), ('countryName', 'West Germany'), ('numberofLeagues', '18')]\n",
      "[('country', 'http://www.wikidata.org/entity/Q1206012'), ('countryName', 'German Reich'), ('numberofLeagues', '17')]\n",
      "[('country', 'http://www.wikidata.org/entity/Q38'), ('countryName', 'Italy'), ('numberofLeagues', '16')]\n",
      "[('country', 'http://www.wikidata.org/entity/Q36'), ('countryName', 'Poland'), ('numberofLeagues', '15')]\n",
      "[('country', 'http://www.wikidata.org/entity/Q33'), ('countryName', 'Finland'), ('numberofLeagues', '14')]\n",
      "[('country', 'http://www.wikidata.org/entity/Q403'), ('countryName', 'Serbia'), ('numberofLeagues', '13')]\n",
      "[('country', 'http://www.wikidata.org/entity/Q229'), ('countryName', 'Cyprus'), ('numberofLeagues', '13')]\n",
      "[('country', 'http://www.wikidata.org/entity/Q142'), ('countryName', 'France'), ('numberofLeagues', '12')]\n",
      "[('country', 'http://www.wikidata.org/entity/Q40'), ('countryName', 'Austria'), ('numberofLeagues', '12')]\n",
      "[('country', 'http://www.wikidata.org/entity/Q31'), ('countryName', 'Belgium'), ('numberofLeagues', '11')]\n",
      "[('country', 'http://www.wikidata.org/entity/Q159'), ('countryName', 'Russia'), ('numberofLeagues', '10')]\n",
      "[('country', 'http://www.wikidata.org/entity/Q34'), ('countryName', 'Sweden'), ('numberofLeagues', '9')]\n",
      "[('country', 'http://www.wikidata.org/entity/Q225'), ('countryName', 'Bosnia and Herzegovina'), ('numberofLeagues', '8')]\n",
      "20\n"
     ]
    }
   ],
   "source": [
    "# use property country in afl to group by counties\n",
    "# use property continent in country to filter European counties\n",
    "\n",
    "#  wd:Q15991303 = association football league\n",
    "#  wdt:P31 = instance of\n",
    "\n",
    "# P17 = country\n",
    "# P30 = continent\n",
    "# Q46 = Europe\n",
    "\n",
    "queryString = \"\"\"\n",
    "SELECT DISTINCT  ?country ?countryName (count(?afl) as ?numberofLeagues)\n",
    "WHERE\n",
    "{\n",
    "    ?afl wdt:P31 wd:Q15991303 .\n",
    "    ?afl wdt:P17 ?country .\n",
    "    ?country wdt:P30 wd:Q46 .\n",
    "    \n",
    "    ?country sc:name ?countryName .\n",
    "}\n",
    "group by ?country ?countryName\n",
    "order by desc(?numberofLeagues)\n",
    "LIMIT 20\n",
    "\"\"\"\n",
    "\n",
    "print(\"Results\")\n",
    "x = run_query(queryString)"
   ]
  },
  {
   "cell_type": "markdown",
   "id": "2a26aa60",
   "metadata": {},
   "source": [
    "Final query for this task"
   ]
  },
  {
   "cell_type": "code",
   "execution_count": 31,
   "id": "1e778e00",
   "metadata": {},
   "outputs": [],
   "source": [
    "# write your final query"
   ]
  },
  {
   "cell_type": "code",
   "execution_count": 64,
   "id": "392da32c-dc8c-4aad-954e-999f655f3be3",
   "metadata": {},
   "outputs": [
    {
     "name": "stdout",
     "output_type": "stream",
     "text": [
      "Results\n",
      "[('country', 'http://www.wikidata.org/entity/Q213'), ('countryName', 'Czech Republic'), ('numberofLeagues', '199')]\n",
      "[('country', 'http://www.wikidata.org/entity/Q183'), ('countryName', 'Germany'), ('numberofLeagues', '130')]\n",
      "[('country', 'http://www.wikidata.org/entity/Q145'), ('countryName', 'United Kingdom'), ('numberofLeagues', '91')]\n",
      "[('country', 'http://www.wikidata.org/entity/Q20'), ('countryName', 'Norway'), ('numberofLeagues', '72')]\n",
      "[('country', 'http://www.wikidata.org/entity/Q218'), ('countryName', 'Romania'), ('numberofLeagues', '62')]\n",
      "[('country', 'http://www.wikidata.org/entity/Q29'), ('countryName', 'Spain'), ('numberofLeagues', '32')]\n",
      "[('country', 'http://www.wikidata.org/entity/Q55'), ('countryName', 'Netherlands'), ('numberofLeagues', '22')]\n",
      "[('country', 'http://www.wikidata.org/entity/Q713750'), ('countryName', 'West Germany'), ('numberofLeagues', '18')]\n",
      "[('country', 'http://www.wikidata.org/entity/Q1206012'), ('countryName', 'German Reich'), ('numberofLeagues', '17')]\n",
      "[('country', 'http://www.wikidata.org/entity/Q38'), ('countryName', 'Italy'), ('numberofLeagues', '16')]\n",
      "[('country', 'http://www.wikidata.org/entity/Q36'), ('countryName', 'Poland'), ('numberofLeagues', '15')]\n",
      "[('country', 'http://www.wikidata.org/entity/Q33'), ('countryName', 'Finland'), ('numberofLeagues', '14')]\n",
      "[('country', 'http://www.wikidata.org/entity/Q403'), ('countryName', 'Serbia'), ('numberofLeagues', '13')]\n",
      "[('country', 'http://www.wikidata.org/entity/Q229'), ('countryName', 'Cyprus'), ('numberofLeagues', '13')]\n",
      "[('country', 'http://www.wikidata.org/entity/Q142'), ('countryName', 'France'), ('numberofLeagues', '12')]\n",
      "[('country', 'http://www.wikidata.org/entity/Q40'), ('countryName', 'Austria'), ('numberofLeagues', '12')]\n",
      "[('country', 'http://www.wikidata.org/entity/Q31'), ('countryName', 'Belgium'), ('numberofLeagues', '11')]\n",
      "[('country', 'http://www.wikidata.org/entity/Q159'), ('countryName', 'Russia'), ('numberofLeagues', '10')]\n",
      "[('country', 'http://www.wikidata.org/entity/Q34'), ('countryName', 'Sweden'), ('numberofLeagues', '9')]\n",
      "[('country', 'http://www.wikidata.org/entity/Q225'), ('countryName', 'Bosnia and Herzegovina'), ('numberofLeagues', '8')]\n",
      "20\n"
     ]
    }
   ],
   "source": [
    "# use property country in afl to group by counties\n",
    "# use property continent in country to filter European counties\n",
    "\n",
    "#  wd:Q15991303 = association football league\n",
    "#  wdt:P31 = instance of\n",
    "\n",
    "# P17 = country\n",
    "# P30 = continent\n",
    "# Q46 = Europe\n",
    "\n",
    "queryString = \"\"\"\n",
    "SELECT DISTINCT  ?country ?countryName (count(?afl) as ?numberofLeagues)\n",
    "WHERE\n",
    "{\n",
    "    ?afl wdt:P31 wd:Q15991303 .\n",
    "    ?afl wdt:P17 ?country .\n",
    "    ?country wdt:P30 wd:Q46 .\n",
    "    \n",
    "    ?country sc:name ?countryName .\n",
    "}\n",
    "group by ?country ?countryName\n",
    "order by desc(?numberofLeagues)\n",
    "LIMIT 20\n",
    "\"\"\"\n",
    "\n",
    "print(\"Results\")\n",
    "x = run_query(queryString)"
   ]
  },
  {
   "cell_type": "markdown",
   "id": "808b7fd4",
   "metadata": {},
   "source": [
    "## Task 5\n",
    "Identify the BGP for the ballon d'Or award"
   ]
  },
  {
   "cell_type": "code",
   "execution_count": 32,
   "id": "d4729645",
   "metadata": {},
   "outputs": [],
   "source": [
    "# write your queries"
   ]
  },
  {
   "cell_type": "code",
   "execution_count": 33,
   "id": "d2b9672d-3ffa-4352-a7b5-7a4215cba014",
   "metadata": {},
   "outputs": [
    {
     "name": "stdout",
     "output_type": "stream",
     "text": [
      "Results\n",
      "[('p', 'http://www.wikidata.org/entity/Q1750244'), ('name', 'FWA Footballer of the Year')]\n",
      "[('p', 'http://www.wikidata.org/entity/Q10726649'), ('name', \"PFA Fans' Player of the Year\")]\n",
      "[('p', 'http://www.wikidata.org/entity/Q20888805'), ('name', 'Commander of the Order of Merit of Portugal')]\n",
      "[('p', 'http://www.wikidata.org/entity/Q1146578'), ('name', 'UEFA Team of the Year')]\n",
      "[('p', 'http://www.wikidata.org/entity/Q182529'), ('name', 'FIFA World Player of the Year')]\n",
      "[('p', 'http://www.wikidata.org/entity/Q260117'), ('name', \"UEFA Men's Player of the Year Award\")]\n",
      "[('p', 'http://www.wikidata.org/entity/Q166177'), ('name', \"Ballon d'Or\")]\n",
      "[('p', 'http://www.wikidata.org/entity/Q20860117'), ('name', 'Officer of the Order of Prince Henry')]\n",
      "[('p', 'http://www.wikidata.org/entity/Q20859673'), ('name', 'Grand Officer of the Order of Prince Henry')]\n",
      "[('p', 'http://www.wikidata.org/entity/Q2986505'), ('name', 'Sir Matt Busby Player of the Year')]\n",
      "[('p', 'http://www.wikidata.org/entity/Q2291862'), ('name', \"FIFA Ballon d'Or\")]\n",
      "[('p', 'http://www.wikidata.org/entity/Q729513'), ('name', 'Pichichi Trophy')]\n",
      "[('p', 'http://www.wikidata.org/entity/Q233454'), ('name', 'European Golden Shoe')]\n",
      "[('p', 'http://www.wikidata.org/entity/Q2044044'), ('name', 'PFA Team of the Year')]\n",
      "[('p', 'http://www.wikidata.org/entity/Q616031'), ('name', 'FIFA Puskás Award')]\n",
      "[('p', 'http://www.wikidata.org/entity/Q4896696'), ('name', 'Best International Athlete ESPY Award')]\n",
      "[('p', 'http://www.wikidata.org/entity/Q621867'), ('name', \"PFA Players' Player of the Year\")]\n",
      "[('p', 'http://www.wikidata.org/entity/Q554495'), ('name', 'Bravo Award')]\n",
      "[('p', 'http://www.wikidata.org/entity/Q1049896'), ('name', \"Onze d'Or\")]\n",
      "[('p', 'http://www.wikidata.org/entity/Q1188692'), ('name', 'Premier League Player of the Season')]\n",
      "20\n"
     ]
    }
   ],
   "source": [
    "# awards receied by ronaldo\n",
    "queryString = \"\"\"\n",
    "SELECT DISTINCT  ?p ?name\n",
    "WHERE\n",
    "{\n",
    "    wd:Q11571 wdt:P166 ?p.\n",
    "    ?p sc:name ?name.\n",
    "}\n",
    "LIMIT 20\n",
    "\"\"\"\n",
    "\n",
    "print(\"Results\")\n",
    "x = run_query(queryString)"
   ]
  },
  {
   "cell_type": "code",
   "execution_count": 34,
   "id": "1df3b1ea-10d9-4e11-91eb-094c61178692",
   "metadata": {},
   "outputs": [
    {
     "name": "stdout",
     "output_type": "stream",
     "text": [
      "Results\n",
      "[('p', 'http://www.wikidata.org/entity/Q162043'), ('name', 'Eusébio')]\n",
      "[('p', 'http://www.wikidata.org/entity/Q128829'), ('name', 'Michael Owen')]\n",
      "[('p', 'http://www.wikidata.org/entity/Q102027'), ('name', 'Fabio Cannavaro')]\n",
      "[('p', 'http://www.wikidata.org/entity/Q36386'), ('name', 'Lothar Matthäus')]\n",
      "[('p', 'http://www.wikidata.org/entity/Q178628'), ('name', 'Paolo Rossi')]\n",
      "[('p', 'http://www.wikidata.org/entity/Q216140'), ('name', 'Stanley Matthews')]\n",
      "[('p', 'http://www.wikidata.org/entity/Q310657'), ('name', 'Matías Fernandez')]\n",
      "[('p', 'http://www.wikidata.org/entity/Q483145'), ('name', 'Luís Figo')]\n",
      "[('p', 'http://www.wikidata.org/entity/Q483577'), ('name', 'Rivaldo')]\n",
      "[('p', 'http://www.wikidata.org/entity/Q483837'), ('name', 'Luka Modrić')]\n",
      "[('p', 'http://www.wikidata.org/entity/Q39444'), ('name', 'Ronaldinho')]\n",
      "[('p', 'http://www.wikidata.org/entity/Q483629'), ('name', 'Marco van Basten')]\n",
      "[('p', 'http://www.wikidata.org/entity/Q17163'), ('name', 'Johan Cruyff')]\n",
      "[('p', 'http://www.wikidata.org/entity/Q220700'), ('name', 'Omar Sívori')]\n",
      "[('p', 'http://www.wikidata.org/entity/Q4261'), ('name', 'Michel Platini')]\n",
      "[('p', 'http://www.wikidata.org/entity/Q13494'), ('name', 'Jean-Pierre Papin')]\n",
      "[('p', 'http://www.wikidata.org/entity/Q43744'), ('name', 'Gerd Müller')]\n",
      "[('p', 'http://www.wikidata.org/entity/Q152871'), ('name', 'Karl-Heinz Rummenigge')]\n",
      "[('p', 'http://www.wikidata.org/entity/Q1835'), ('name', 'Zinedine Zidane')]\n",
      "[('p', 'http://www.wikidata.org/entity/Q531814'), ('name', 'Kaká')]\n",
      "20\n"
     ]
    }
   ],
   "source": [
    "# people who recieved wdt:P166 \n",
    "# FIFABallon d'Or \n",
    "queryString = \"\"\"\n",
    "SELECT DISTINCT  ?p ?name\n",
    "WHERE\n",
    "{\n",
    "    ?p wdt:P166 wd:Q166177.\n",
    "    ?p sc:name ?name.\n",
    "}\n",
    "LIMIT 20\n",
    "\"\"\"\n",
    "\n",
    "print(\"Results\")\n",
    "x = run_query(queryString)"
   ]
  },
  {
   "cell_type": "markdown",
   "id": "fb22fb3f",
   "metadata": {},
   "source": [
    "Final query for this task"
   ]
  },
  {
   "cell_type": "code",
   "execution_count": 68,
   "id": "6ce8f030",
   "metadata": {},
   "outputs": [
    {
     "name": "stdout",
     "output_type": "stream",
     "text": [
      "Results\n",
      "[('p', 'http://www.wikidata.org/entity/Q162043'), ('name', 'Eusébio')]\n",
      "[('p', 'http://www.wikidata.org/entity/Q128829'), ('name', 'Michael Owen')]\n",
      "[('p', 'http://www.wikidata.org/entity/Q102027'), ('name', 'Fabio Cannavaro')]\n",
      "[('p', 'http://www.wikidata.org/entity/Q36386'), ('name', 'Lothar Matthäus')]\n",
      "[('p', 'http://www.wikidata.org/entity/Q178628'), ('name', 'Paolo Rossi')]\n",
      "[('p', 'http://www.wikidata.org/entity/Q216140'), ('name', 'Stanley Matthews')]\n",
      "[('p', 'http://www.wikidata.org/entity/Q310657'), ('name', 'Matías Fernandez')]\n",
      "[('p', 'http://www.wikidata.org/entity/Q483145'), ('name', 'Luís Figo')]\n",
      "[('p', 'http://www.wikidata.org/entity/Q483577'), ('name', 'Rivaldo')]\n",
      "[('p', 'http://www.wikidata.org/entity/Q483837'), ('name', 'Luka Modrić')]\n",
      "[('p', 'http://www.wikidata.org/entity/Q39444'), ('name', 'Ronaldinho')]\n",
      "[('p', 'http://www.wikidata.org/entity/Q483629'), ('name', 'Marco van Basten')]\n",
      "[('p', 'http://www.wikidata.org/entity/Q17163'), ('name', 'Johan Cruyff')]\n",
      "[('p', 'http://www.wikidata.org/entity/Q220700'), ('name', 'Omar Sívori')]\n",
      "[('p', 'http://www.wikidata.org/entity/Q4261'), ('name', 'Michel Platini')]\n",
      "[('p', 'http://www.wikidata.org/entity/Q13494'), ('name', 'Jean-Pierre Papin')]\n",
      "[('p', 'http://www.wikidata.org/entity/Q43744'), ('name', 'Gerd Müller')]\n",
      "[('p', 'http://www.wikidata.org/entity/Q152871'), ('name', 'Karl-Heinz Rummenigge')]\n",
      "[('p', 'http://www.wikidata.org/entity/Q1835'), ('name', 'Zinedine Zidane')]\n",
      "[('p', 'http://www.wikidata.org/entity/Q531814'), ('name', 'Kaká')]\n",
      "20\n"
     ]
    }
   ],
   "source": [
    "# write your final query\n",
    "\n",
    "# wdt:P166 = award received  \n",
    "# wd:Q166177 = Ballon d'Or \n",
    "\n",
    "queryString = \"\"\"\n",
    "SELECT DISTINCT  ?p ?name\n",
    "WHERE\n",
    "{\n",
    "    ?p wdt:P166 wd:Q166177.\n",
    "    ?p sc:name ?name.\n",
    "}\n",
    "LIMIT 20\n",
    "\"\"\"\n",
    "\n",
    "print(\"Results\")\n",
    "x = run_query(queryString)"
   ]
  },
  {
   "cell_type": "markdown",
   "id": "4aee1ead",
   "metadata": {},
   "source": [
    "## Task 6\n",
    "Return the countries which have at least two different players of their nationality (consider the country of citizenship) who won the ballon d'Or (the result set must be a list of triples country IRI, label and #different players)."
   ]
  },
  {
   "cell_type": "code",
   "execution_count": 36,
   "id": "f8b8e0ca",
   "metadata": {},
   "outputs": [],
   "source": [
    "# write your queries"
   ]
  },
  {
   "cell_type": "code",
   "execution_count": 167,
   "id": "89cd78e6-1061-4e85-b37b-c20d580f8f71",
   "metadata": {},
   "outputs": [
    {
     "name": "stdout",
     "output_type": "stream",
     "text": [
      "Results\n",
      "[('p', 'http://www.wikidata.org/prop/direct/P27'), ('obj', 'http://www.wikidata.org/entity/Q45'), ('name', 'country of citizenship')]\n",
      "1\n"
     ]
    }
   ],
   "source": [
    "# look at ronaldo's properties for country of citizenship\n",
    "\n",
    "# wd:Q11571 = Cristiano Ronaldo\n",
    "\n",
    "queryString = \"\"\"\n",
    "SELECT DISTINCT *\n",
    "WHERE\n",
    "{\n",
    "    wd:Q11571 ?p ?obj .\n",
    "    ?p sc:name ?name .\n",
    "    \n",
    "    FILTER REGEX(?name, \".*country.*of.*citizenship.*\") .\n",
    "    \n",
    "    \n",
    "}\n",
    "#GROUP BY ?nationality\n",
    "#HAVING (COUNT(?nationality) > 2)\n",
    "#ORDER BY DESC (?awardCount)\n",
    "\"\"\"\n",
    "\n",
    "print(\"Results\")\n",
    "x = run_query(queryString)\n"
   ]
  },
  {
   "cell_type": "code",
   "execution_count": 175,
   "id": "7de97c77-1357-4460-ac89-cd80d4a0bbe7",
   "metadata": {},
   "outputs": [
    {
     "name": "stdout",
     "output_type": "stream",
     "text": [
      "Results\n",
      "[('country', 'http://www.wikidata.org/entity/Q38'), ('countryName', 'Italy'), ('numberOfPlayers', '6')]\n",
      "[('country', 'http://www.wikidata.org/entity/Q145'), ('countryName', 'United Kingdom'), ('numberOfPlayers', '6')]\n",
      "[('country', 'http://www.wikidata.org/entity/Q183'), ('countryName', 'Germany'), ('numberOfPlayers', '5')]\n",
      "[('country', 'http://www.wikidata.org/entity/Q29'), ('countryName', 'Spain'), ('numberOfPlayers', '4')]\n",
      "[('country', 'http://www.wikidata.org/entity/Q142'), ('countryName', 'France'), ('numberOfPlayers', '4')]\n",
      "[('country', 'http://www.wikidata.org/entity/Q155'), ('countryName', 'Brazil'), ('numberOfPlayers', '4')]\n",
      "[('country', 'http://www.wikidata.org/entity/Q45'), ('countryName', 'Portugal'), ('numberOfPlayers', '3')]\n",
      "[('country', 'http://www.wikidata.org/entity/Q212'), ('countryName', 'Ukraine'), ('numberOfPlayers', '3')]\n",
      "[('country', 'http://www.wikidata.org/entity/Q15180'), ('countryName', 'Soviet Union'), ('numberOfPlayers', '3')]\n",
      "[('country', 'http://www.wikidata.org/entity/Q29999'), ('countryName', 'Kingdom of the Netherlands'), ('numberOfPlayers', '3')]\n",
      "[('country', 'http://www.wikidata.org/entity/Q414'), ('countryName', 'Argentina'), ('numberOfPlayers', '3')]\n",
      "[('country', 'http://www.wikidata.org/entity/Q213'), ('countryName', 'Czech Republic'), ('numberOfPlayers', '2')]\n",
      "12\n"
     ]
    }
   ],
   "source": [
    "# we know that\n",
    "# P27 = 'country of citizenship'\n",
    "\n",
    "# wdt:P166 = award received  \n",
    "# wd:Q166177 = Ballon d'Or \n",
    "\n",
    "queryString = \"\"\"\n",
    "SELECT DISTINCT  ?country ?countryName (count(distinct ?player) as ?numberOfPlayers)\n",
    "WHERE\n",
    "{\n",
    "    ?player wdt:P166 wd:Q166177 .\n",
    "    ?player wdt:P27 ?country .\n",
    "    \n",
    "    ?country sc:name ?countryName .\n",
    "}\n",
    "group by ?country ?countryName\n",
    "having (count(distinct ?player) >= 2)\n",
    "order by desc(?numberOfPlayers)\n",
    "LIMIT 20\n",
    "\"\"\"\n",
    "\n",
    "print(\"Results\")\n",
    "x = run_query(queryString)"
   ]
  },
  {
   "cell_type": "markdown",
   "id": "41be26ed",
   "metadata": {},
   "source": [
    "Final query for this task"
   ]
  },
  {
   "cell_type": "code",
   "execution_count": 176,
   "id": "8e2a20fc",
   "metadata": {},
   "outputs": [],
   "source": [
    "# write your final query"
   ]
  },
  {
   "cell_type": "code",
   "execution_count": 177,
   "id": "b1b4d77d-c7b7-4aef-a91c-76a9e4e87927",
   "metadata": {},
   "outputs": [
    {
     "name": "stdout",
     "output_type": "stream",
     "text": [
      "Results\n",
      "[('country', 'http://www.wikidata.org/entity/Q38'), ('countryName', 'Italy'), ('numberOfPlayers', '6')]\n",
      "[('country', 'http://www.wikidata.org/entity/Q145'), ('countryName', 'United Kingdom'), ('numberOfPlayers', '6')]\n",
      "[('country', 'http://www.wikidata.org/entity/Q183'), ('countryName', 'Germany'), ('numberOfPlayers', '5')]\n",
      "[('country', 'http://www.wikidata.org/entity/Q29'), ('countryName', 'Spain'), ('numberOfPlayers', '4')]\n",
      "[('country', 'http://www.wikidata.org/entity/Q142'), ('countryName', 'France'), ('numberOfPlayers', '4')]\n",
      "[('country', 'http://www.wikidata.org/entity/Q155'), ('countryName', 'Brazil'), ('numberOfPlayers', '4')]\n",
      "[('country', 'http://www.wikidata.org/entity/Q45'), ('countryName', 'Portugal'), ('numberOfPlayers', '3')]\n",
      "[('country', 'http://www.wikidata.org/entity/Q212'), ('countryName', 'Ukraine'), ('numberOfPlayers', '3')]\n",
      "[('country', 'http://www.wikidata.org/entity/Q15180'), ('countryName', 'Soviet Union'), ('numberOfPlayers', '3')]\n",
      "[('country', 'http://www.wikidata.org/entity/Q29999'), ('countryName', 'Kingdom of the Netherlands'), ('numberOfPlayers', '3')]\n",
      "[('country', 'http://www.wikidata.org/entity/Q414'), ('countryName', 'Argentina'), ('numberOfPlayers', '3')]\n",
      "[('country', 'http://www.wikidata.org/entity/Q213'), ('countryName', 'Czech Republic'), ('numberOfPlayers', '2')]\n",
      "12\n"
     ]
    }
   ],
   "source": [
    "# we know that\n",
    "# P27 = 'country of citizenship'\n",
    "\n",
    "# wdt:P166 = award received  \n",
    "# wd:Q166177 = Ballon d'Or \n",
    "\n",
    "queryString = \"\"\"\n",
    "SELECT DISTINCT  ?country ?countryName (count(distinct ?player) as ?numberOfPlayers)\n",
    "WHERE\n",
    "{\n",
    "    ?player wdt:P166 wd:Q166177 .\n",
    "    ?player wdt:P27 ?country .\n",
    "    \n",
    "    ?country sc:name ?countryName .\n",
    "}\n",
    "group by ?country ?countryName\n",
    "having (count(distinct ?player) >= 2)\n",
    "order by desc(?numberOfPlayers)\n",
    "LIMIT 20\n",
    "\"\"\"\n",
    "\n",
    "print(\"Results\")\n",
    "x = run_query(queryString)"
   ]
  },
  {
   "cell_type": "markdown",
   "id": "3eb3e32b",
   "metadata": {},
   "source": [
    "## Task 7\n",
    "Identify the BGP of the FIFA World Cup"
   ]
  },
  {
   "cell_type": "code",
   "execution_count": 39,
   "id": "ddf223e0",
   "metadata": {},
   "outputs": [],
   "source": [
    "# write your queries"
   ]
  },
  {
   "cell_type": "code",
   "execution_count": 114,
   "id": "a873df84-cfaf-4481-a30b-6e1eedcf3938",
   "metadata": {},
   "outputs": [
    {
     "name": "stdout",
     "output_type": "stream",
     "text": [
      "Results\n",
      "[('pr', 'http://www.wikidata.org/prop/direct/P1344'), ('obj', 'http://www.wikidata.org/entity/Q37285'), ('prName', 'participant in'), ('objName', '2006 FIFA World Cup')]\n",
      "[('pr', 'http://www.wikidata.org/prop/direct/P1344'), ('obj', 'http://www.wikidata.org/entity/Q176883'), ('prName', 'participant in'), ('objName', '2010 FIFA World Cup')]\n",
      "[('pr', 'http://www.wikidata.org/prop/direct/P1344'), ('obj', 'http://www.wikidata.org/entity/Q79859'), ('prName', 'participant in'), ('objName', '2014 FIFA World Cup')]\n",
      "[('pr', 'http://www.wikidata.org/prop/direct/P1344'), ('obj', 'http://www.wikidata.org/entity/Q170645'), ('prName', 'participant in'), ('objName', '2018 FIFA World Cup')]\n",
      "4\n"
     ]
    }
   ],
   "source": [
    "# is ronaldo related to fifa world cup in any way\n",
    "\n",
    "# wd:Q11571 = Cristiano Ronaldo\n",
    "\n",
    "queryString = \"\"\"\n",
    "SELECT DISTINCT ?pr ?obj ?prName ?objName\n",
    "WHERE\n",
    "{\n",
    "    wd:Q11571 ?pr ?obj .\n",
    "    \n",
    "    ?pr sc:name ?prName .\n",
    "    ?obj sc:name ?objName .\n",
    "    \n",
    "    filter regex(?objName, \".*FIFA.*World.*Cup*\") .\n",
    "}\n",
    "order by ?objName\n",
    "LIMIT 20\n",
    "\"\"\"\n",
    "\n",
    "print(\"Results\")\n",
    "x = run_query(queryString)"
   ]
  },
  {
   "cell_type": "code",
   "execution_count": 115,
   "id": "ecc35dd8-63cb-4b72-931e-b6ec5a9bac17",
   "metadata": {},
   "outputs": [
    {
     "name": "stdout",
     "output_type": "stream",
     "text": [
      "Results\n",
      "[('pr', 'http://www.wikidata.org/prop/direct/P3450'), ('obj', 'http://www.wikidata.org/entity/Q19317'), ('prName', 'sports season of league or competition'), ('objName', 'FIFA World Cup')]\n",
      "1\n"
     ]
    }
   ],
   "source": [
    "# Is 2018 FIFA World Cup related to FIFA worl cup in any way??\n",
    "# is ronaldo related to fifa world cup in any way\n",
    "\n",
    "# wd:Q170645 = 2018 FIFA World Cup\n",
    "\n",
    "queryString = \"\"\"\n",
    "SELECT DISTINCT ?pr ?obj ?prName ?objName\n",
    "WHERE\n",
    "{\n",
    "    wd:Q170645 ?pr ?obj .\n",
    "    \n",
    "    ?pr sc:name ?prName .\n",
    "    ?obj sc:name ?objName .\n",
    "    \n",
    "    filter regex(?objName, \"^FIFA.*World.*Cup.*\") .\n",
    "}\n",
    "order by ?objName\n",
    "LIMIT 20\n",
    "\"\"\"\n",
    "\n",
    "print(\"Results\")\n",
    "x = run_query(queryString)"
   ]
  },
  {
   "cell_type": "code",
   "execution_count": 116,
   "id": "8f31f3bc-eceb-46b1-a94d-28ca4a649554",
   "metadata": {},
   "outputs": [
    {
     "name": "stdout",
     "output_type": "stream",
     "text": [
      "Results\n",
      "[('p', 'http://www.wikidata.org/prop/direct/P7441'), ('name', 'WorldFootball.net competition ID')]\n",
      "[('p', 'http://www.wikidata.org/prop/direct/P1015'), ('name', 'NORAF ID')]\n",
      "[('p', 'http://www.wikidata.org/prop/direct/P1151'), ('name', \"topic's main Wikimedia portal\")]\n",
      "[('p', 'http://www.wikidata.org/prop/direct/P1296'), ('name', 'Gran Enciclopèdia Catalana ID')]\n",
      "[('p', 'http://www.wikidata.org/prop/direct/P1417'), ('name', 'Encyclopædia Britannica Online ID')]\n",
      "[('p', 'http://www.wikidata.org/prop/direct/P1424'), ('name', \"topic's main template\")]\n",
      "[('p', 'http://www.wikidata.org/prop/direct/P1705'), ('name', 'native label')]\n",
      "[('p', 'http://www.wikidata.org/prop/direct/P18'), ('name', 'image')]\n",
      "[('p', 'http://www.wikidata.org/prop/direct/P2002'), ('name', 'Twitter username')]\n",
      "[('p', 'http://www.wikidata.org/prop/direct/P2003'), ('name', 'Instagram username')]\n",
      "[('p', 'http://www.wikidata.org/prop/direct/P2013'), ('name', 'Facebook ID')]\n",
      "[('p', 'http://www.wikidata.org/prop/direct/P2094'), ('name', 'competition class')]\n",
      "[('p', 'http://www.wikidata.org/prop/direct/P214'), ('name', 'VIAF ID')]\n",
      "[('p', 'http://www.wikidata.org/prop/direct/P2184'), ('name', 'history of topic')]\n",
      "[('p', 'http://www.wikidata.org/prop/direct/P2257'), ('name', 'event interval')]\n",
      "[('p', 'http://www.wikidata.org/prop/direct/P227'), ('name', 'GND ID')]\n",
      "[('p', 'http://www.wikidata.org/prop/direct/P2397'), ('name', 'YouTube channel ID')]\n",
      "[('p', 'http://www.wikidata.org/prop/direct/P244'), ('name', 'Library of Congress authority ID')]\n",
      "[('p', 'http://www.wikidata.org/prop/direct/P2922'), ('name', 'month of the year')]\n",
      "[('p', 'http://www.wikidata.org/prop/direct/P31'), ('name', 'instance of')]\n",
      "20\n"
     ]
    }
   ],
   "source": [
    "# we know that\n",
    "# Q19317 = FIFA World Cup\n",
    "\n",
    "\n",
    "queryString = \"\"\"\n",
    "SELECT DISTINCT  ?p ?name\n",
    "WHERE\n",
    "{\n",
    "    wd:Q19317 ?p ?obj.\n",
    "    ?p sc:name ?name.\n",
    "}\n",
    "LIMIT 20\n",
    "\"\"\"\n",
    "\n",
    "print(\"Results\")\n",
    "x = run_query(queryString)"
   ]
  },
  {
   "cell_type": "markdown",
   "id": "dcbd3be1",
   "metadata": {},
   "source": [
    "Final query for this task\n"
   ]
  },
  {
   "cell_type": "code",
   "execution_count": 117,
   "id": "364ef361",
   "metadata": {},
   "outputs": [],
   "source": [
    "# write your final query"
   ]
  },
  {
   "cell_type": "code",
   "execution_count": 118,
   "id": "2199b03c-d6ce-4e9d-b2d6-3c0af2b40912",
   "metadata": {},
   "outputs": [
    {
     "name": "stdout",
     "output_type": "stream",
     "text": [
      "Results\n",
      "[('p', 'http://www.wikidata.org/prop/direct/P7441'), ('name', 'WorldFootball.net competition ID')]\n",
      "[('p', 'http://www.wikidata.org/prop/direct/P1015'), ('name', 'NORAF ID')]\n",
      "[('p', 'http://www.wikidata.org/prop/direct/P1151'), ('name', \"topic's main Wikimedia portal\")]\n",
      "[('p', 'http://www.wikidata.org/prop/direct/P1296'), ('name', 'Gran Enciclopèdia Catalana ID')]\n",
      "[('p', 'http://www.wikidata.org/prop/direct/P1417'), ('name', 'Encyclopædia Britannica Online ID')]\n",
      "[('p', 'http://www.wikidata.org/prop/direct/P1424'), ('name', \"topic's main template\")]\n",
      "[('p', 'http://www.wikidata.org/prop/direct/P1705'), ('name', 'native label')]\n",
      "[('p', 'http://www.wikidata.org/prop/direct/P18'), ('name', 'image')]\n",
      "[('p', 'http://www.wikidata.org/prop/direct/P2002'), ('name', 'Twitter username')]\n",
      "[('p', 'http://www.wikidata.org/prop/direct/P2003'), ('name', 'Instagram username')]\n",
      "[('p', 'http://www.wikidata.org/prop/direct/P2013'), ('name', 'Facebook ID')]\n",
      "[('p', 'http://www.wikidata.org/prop/direct/P2094'), ('name', 'competition class')]\n",
      "[('p', 'http://www.wikidata.org/prop/direct/P214'), ('name', 'VIAF ID')]\n",
      "[('p', 'http://www.wikidata.org/prop/direct/P2184'), ('name', 'history of topic')]\n",
      "[('p', 'http://www.wikidata.org/prop/direct/P2257'), ('name', 'event interval')]\n",
      "[('p', 'http://www.wikidata.org/prop/direct/P227'), ('name', 'GND ID')]\n",
      "[('p', 'http://www.wikidata.org/prop/direct/P2397'), ('name', 'YouTube channel ID')]\n",
      "[('p', 'http://www.wikidata.org/prop/direct/P244'), ('name', 'Library of Congress authority ID')]\n",
      "[('p', 'http://www.wikidata.org/prop/direct/P2922'), ('name', 'month of the year')]\n",
      "[('p', 'http://www.wikidata.org/prop/direct/P31'), ('name', 'instance of')]\n",
      "20\n"
     ]
    }
   ],
   "source": [
    "# we know that\n",
    "# Q19317 = FIFA World Cup\n",
    "\n",
    "\n",
    "queryString = \"\"\"\n",
    "SELECT DISTINCT  ?p ?name\n",
    "WHERE\n",
    "{\n",
    "    wd:Q19317 ?p ?obj.\n",
    "    ?p sc:name ?name.\n",
    "}\n",
    "LIMIT 20\n",
    "\"\"\"\n",
    "\n",
    "print(\"Results\")\n",
    "x = run_query(queryString)"
   ]
  },
  {
   "cell_type": "markdown",
   "id": "b82bac68",
   "metadata": {},
   "source": [
    "## Task 8\n",
    "Who are the players who partecipated in more than 4 world's cup editions? (the result set must be a list of triples player IRI, label and #participations)."
   ]
  },
  {
   "cell_type": "code",
   "execution_count": 43,
   "id": "fd9a19a0",
   "metadata": {},
   "outputs": [],
   "source": [
    "# write your queries"
   ]
  },
  {
   "cell_type": "code",
   "execution_count": 143,
   "id": "2b1080e2-acf1-4d8c-911f-a948aee1fec7",
   "metadata": {},
   "outputs": [
    {
     "name": "stdout",
     "output_type": "stream",
     "text": [
      "Results\n",
      "[('player', 'http://www.wikidata.org/entity/Q36386'), ('playerName', 'Lothar Matthäus'), ('participations', '5')]\n",
      "[('player', 'http://www.wikidata.org/entity/Q186330'), ('playerName', 'Rafael Márquez'), ('participations', '5')]\n",
      "[('player', 'http://www.wikidata.org/entity/Q265428'), ('playerName', 'Antonio Carbajal'), ('participations', '5')]\n",
      "[('player', 'http://www.wikidata.org/entity/Q68060'), ('playerName', 'Gianluigi Buffon'), ('participations', '5')]\n",
      "4\n"
     ]
    }
   ],
   "source": [
    "# 'sports season of league or competition' property tells us if it is a FIFA World Cup\n",
    "# need to limit to humans\n",
    "\n",
    "# wd:Q5 = Human\n",
    "# P31 = instnace of\n",
    "# Q19317 = FIFA World Cup\n",
    "# P3450 = sports season of league or competition\n",
    "\n",
    "# P1344 = participated in\n",
    "\n",
    "\n",
    "queryString = \"\"\"\n",
    "SELECT DISTINCT  ?player ?playerName (count(?player) as ?participations)\n",
    "WHERE\n",
    "{\n",
    "    ?player wdt:P31 wd:Q5 .\n",
    "    ?player wdt:P1344 ?fifaWC .\n",
    "    ?fifaWC wdt:P3450 wd:Q19317 .\n",
    "    \n",
    "    ?player sc:name ?playerName .\n",
    "    ?fifaWC sc:name ?fifaWCName .\n",
    "}\n",
    "group by ?player ?playerName\n",
    "having (count(?player) > 4)\n",
    "order by desc (?participations)\n",
    "LIMIT 20\n",
    "\"\"\"\n",
    "\n",
    "print(\"Results\")\n",
    "x = run_query(queryString)"
   ]
  },
  {
   "cell_type": "markdown",
   "id": "c6dab8e8",
   "metadata": {},
   "source": [
    "Final query for this task"
   ]
  },
  {
   "cell_type": "code",
   "execution_count": 49,
   "id": "f930fa1d",
   "metadata": {},
   "outputs": [],
   "source": [
    "# write your final query"
   ]
  },
  {
   "cell_type": "code",
   "execution_count": 144,
   "id": "5007f320-9cd6-436e-90eb-85e49dab03ca",
   "metadata": {},
   "outputs": [
    {
     "name": "stdout",
     "output_type": "stream",
     "text": [
      "Results\n",
      "[('player', 'http://www.wikidata.org/entity/Q36386'), ('playerName', 'Lothar Matthäus'), ('participations', '5')]\n",
      "[('player', 'http://www.wikidata.org/entity/Q186330'), ('playerName', 'Rafael Márquez'), ('participations', '5')]\n",
      "[('player', 'http://www.wikidata.org/entity/Q265428'), ('playerName', 'Antonio Carbajal'), ('participations', '5')]\n",
      "[('player', 'http://www.wikidata.org/entity/Q68060'), ('playerName', 'Gianluigi Buffon'), ('participations', '5')]\n",
      "4\n"
     ]
    }
   ],
   "source": [
    "# 'sports season of league or competition' property tells us if it is a FIFA World Cup\n",
    "# need to limit to humans\n",
    "\n",
    "# wd:Q5 = Human\n",
    "# P31 = instnace of\n",
    "# Q19317 = FIFA World Cup\n",
    "# P3450 = sports season of league or competition\n",
    "\n",
    "# P1344 = participated in\n",
    "\n",
    "\n",
    "queryString = \"\"\"\n",
    "SELECT DISTINCT  ?player ?playerName (count(?player) as ?participations)\n",
    "WHERE\n",
    "{\n",
    "    ?player wdt:P31 wd:Q5 .\n",
    "    ?player wdt:P1344 ?fifaWC .\n",
    "    ?fifaWC wdt:P3450 wd:Q19317 .\n",
    "    \n",
    "    ?player sc:name ?playerName .\n",
    "    ?fifaWC sc:name ?fifaWCName .\n",
    "}\n",
    "group by ?player ?playerName\n",
    "having (count(?player) > 4)\n",
    "order by desc (?participations)\n",
    "LIMIT 20\n",
    "\"\"\"\n",
    "\n",
    "print(\"Results\")\n",
    "x = run_query(queryString)"
   ]
  },
  {
   "cell_type": "markdown",
   "id": "2c7de955",
   "metadata": {},
   "source": [
    "## Task 9\n",
    "Consider the countries that won the FIFA World Cup at least twice. Find the players of those countries won the ballon d'Or (the result set must be a list of couples player IRI and label)."
   ]
  },
  {
   "cell_type": "code",
   "execution_count": 50,
   "id": "e029c93c",
   "metadata": {},
   "outputs": [],
   "source": [
    "# write your queries"
   ]
  },
  {
   "cell_type": "code",
   "execution_count": 157,
   "id": "297eea61-f161-4d78-a8e2-3e21b90480c8",
   "metadata": {},
   "outputs": [
    {
     "name": "stdout",
     "output_type": "stream",
     "text": [
      "Results\n",
      "[('p', 'http://www.wikidata.org/prop/direct/P1346'), ('obj', 'http://www.wikidata.org/entity/Q676899'), ('pName', 'winner'), ('objName', 'Italy national association football team')]\n",
      "[('p', 'http://www.wikidata.org/prop/direct/P17'), ('obj', 'http://www.wikidata.org/entity/Q38'), ('pName', 'country'), ('objName', 'Italy')]\n",
      "[('p', 'http://www.wikidata.org/prop/direct/P1923'), ('obj', 'http://www.wikidata.org/entity/Q676899'), ('pName', 'participating team'), ('objName', 'Italy national association football team')]\n",
      "3\n"
     ]
    }
   ],
   "source": [
    "# checking if FIFA world cup has somthing showing country that won\n",
    "\n",
    "\n",
    "# P31 = instance of\n",
    "# Q19317 = FIFA World Cup\n",
    "# P3450 = sports season of league or competition\n",
    "\n",
    "# P1344 = participated in\n",
    "\n",
    "\n",
    "queryString = \"\"\"\n",
    "SELECT DISTINCT  ?p ?obj ?pName ?objName\n",
    "WHERE\n",
    "{\n",
    "    \n",
    "    ?fifaWC wdt:P3450 wd:Q19317 .\n",
    "    ?fifaWC ?p ?obj .\n",
    "    \n",
    "    ?p sc:name ?pName .\n",
    "    ?obj sc:name ?objName .\n",
    "    \n",
    "    FILTER REGEX(?objName, \".*Italy.*\") .\n",
    "}\n",
    "order by desc (?participations)\n",
    "LIMIT 20\n",
    "\"\"\"\n",
    "\n",
    "print(\"Results\")\n",
    "x = run_query(queryString)"
   ]
  },
  {
   "cell_type": "code",
   "execution_count": 160,
   "id": "4f311051-f59e-40dc-b39a-e2fc9d0d7b10",
   "metadata": {},
   "outputs": [
    {
     "name": "stdout",
     "output_type": "stream",
     "text": [
      "Results\n",
      "[('p', 'http://www.wikidata.org/prop/direct/P1344'), ('obj', 'http://www.wikidata.org/entity/Q516025'), ('pName', 'participant in'), ('objName', 'Italy 4–3 West Germany')]\n",
      "[('p', 'http://www.wikidata.org/prop/direct/P1532'), ('obj', 'http://www.wikidata.org/entity/Q38'), ('pName', 'country for sport'), ('objName', 'Italy')]\n",
      "[('p', 'http://www.wikidata.org/prop/direct/P17'), ('obj', 'http://www.wikidata.org/entity/Q38'), ('pName', 'country'), ('objName', 'Italy')]\n",
      "[('p', 'http://www.wikidata.org/prop/direct/P2184'), ('obj', 'http://www.wikidata.org/entity/Q1114877'), ('pName', 'history of topic'), ('objName', 'history of the Italy national football team')]\n",
      "[('p', 'http://www.wikidata.org/prop/direct/P910'), ('obj', 'http://www.wikidata.org/entity/Q7190317'), ('pName', \"topic's main category\"), ('objName', 'Category:Italy national football team')]\n",
      "5\n"
     ]
    }
   ],
   "source": [
    "# find property that links 'Italy national association football team' to Italy\n",
    "# checking if FIFA world cup has somthing showing country that won\n",
    "\n",
    "# Q676899 = Italy national association football team\n",
    "\n",
    "\n",
    "queryString = \"\"\"\n",
    "SELECT DISTINCT  ?p ?obj ?pName ?objName\n",
    "WHERE\n",
    "{\n",
    "    \n",
    "    wd:Q676899 ?p ?obj .\n",
    "    \n",
    "    ?p sc:name ?pName .\n",
    "    ?obj sc:name ?objName .\n",
    "    \n",
    "    FILTER REGEX(?objName, \".*Italy.*\") .\n",
    "}\n",
    "#order by desc (?participations)\n",
    "LIMIT 20\n",
    "\"\"\"\n",
    "\n",
    "print(\"Results\")\n",
    "x = run_query(queryString)"
   ]
  },
  {
   "cell_type": "code",
   "execution_count": 186,
   "id": "6987717f-0996-430c-a505-33d931d83030",
   "metadata": {},
   "outputs": [
    {
     "name": "stdout",
     "output_type": "stream",
     "text": [
      "Results\n",
      "[('player', 'http://www.wikidata.org/entity/Q4261'), ('playerName', 'Michel Platini')]\n",
      "[('player', 'http://www.wikidata.org/entity/Q13494'), ('playerName', 'Jean-Pierre Papin')]\n",
      "[('player', 'http://www.wikidata.org/entity/Q1835'), ('playerName', 'Zinedine Zidane')]\n",
      "[('player', 'http://www.wikidata.org/entity/Q123118'), ('playerName', 'Raymond Kopa')]\n",
      "[('player', 'http://www.wikidata.org/entity/Q483577'), ('playerName', 'Rivaldo')]\n",
      "[('player', 'http://www.wikidata.org/entity/Q39444'), ('playerName', 'Ronaldinho')]\n",
      "[('player', 'http://www.wikidata.org/entity/Q531814'), ('playerName', 'Kaká')]\n",
      "[('player', 'http://www.wikidata.org/entity/Q529207'), ('playerName', 'Ronaldo')]\n",
      "[('player', 'http://www.wikidata.org/entity/Q36386'), ('playerName', 'Lothar Matthäus')]\n",
      "[('player', 'http://www.wikidata.org/entity/Q43744'), ('playerName', 'Gerd Müller')]\n",
      "[('player', 'http://www.wikidata.org/entity/Q152871'), ('playerName', 'Karl-Heinz Rummenigge')]\n",
      "[('player', 'http://www.wikidata.org/entity/Q4457'), ('playerName', 'Franz Beckenbauer')]\n",
      "[('player', 'http://www.wikidata.org/entity/Q57183'), ('playerName', 'Matthias Sammer')]\n",
      "[('player', 'http://www.wikidata.org/entity/Q102027'), ('playerName', 'Fabio Cannavaro')]\n",
      "[('player', 'http://www.wikidata.org/entity/Q178628'), ('playerName', 'Paolo Rossi')]\n",
      "[('player', 'http://www.wikidata.org/entity/Q230046'), ('playerName', 'Gianni Rivera')]\n",
      "[('player', 'http://www.wikidata.org/entity/Q615'), ('playerName', 'Lionel Messi')]\n",
      "[('player', 'http://www.wikidata.org/entity/Q67964'), ('playerName', 'Roberto Baggio')]\n",
      "[('player', 'http://www.wikidata.org/entity/Q220700'), ('playerName', 'Omar Sívori')]\n",
      "[('player', 'http://www.wikidata.org/entity/Q164546'), ('playerName', 'Alfredo Di Stéfano')]\n",
      "20\n"
     ]
    }
   ],
   "source": [
    "# property 'winner' tells us which team won\n",
    "# property 'country' tells us whcih country that team belongs to\n",
    "\n",
    "# P31 = instance of\n",
    "# Q19317 = FIFA World Cup\n",
    "# P3450 = sports season of league or competition\n",
    "\n",
    "# P1346 = winner \n",
    "# P17 = country\n",
    "\n",
    "# P27 = 'country of citizenship'\n",
    "# wdt:P166 = award received  \n",
    "# wd:Q166177 = Ballon d'Or \n",
    "\n",
    "queryString = \"\"\"\n",
    "SELECT DISTINCT  ?player ?playerName\n",
    "{\n",
    "    {\n",
    "        SELECT DISTINCT  ?country\n",
    "        WHERE\n",
    "        {\n",
    "            ?fifaWC wdt:P3450 wd:Q19317 .\n",
    "            ?fifaWC wdt:P1346 ?winner .\n",
    "            ?winner wdt:P17 ?country .\n",
    "        }\n",
    "        group by ?country\n",
    "        having (count(?winner) >= 2)\n",
    "    }\n",
    "    \n",
    "    ?player wdt:P27 ?country .\n",
    "    ?player wdt:P166 wd:Q166177 .\n",
    "    \n",
    "    ?player sc:name ?playerName\n",
    "}\n",
    "LIMIT 20\n",
    "\"\"\"\n",
    "\n",
    "print(\"Results\")\n",
    "x = run_query(queryString)"
   ]
  },
  {
   "cell_type": "markdown",
   "id": "36ee2ee2",
   "metadata": {},
   "source": [
    "Final query for this task"
   ]
  },
  {
   "cell_type": "code",
   "execution_count": 51,
   "id": "813ec220",
   "metadata": {},
   "outputs": [],
   "source": [
    "# write your final query"
   ]
  }
 ],
 "metadata": {
  "kernelspec": {
   "display_name": "Python 3",
   "language": "python",
   "name": "python3"
  },
  "language_info": {
   "codemirror_mode": {
    "name": "ipython",
    "version": 3
   },
   "file_extension": ".py",
   "mimetype": "text/x-python",
   "name": "python",
   "nbconvert_exporter": "python",
   "pygments_lexer": "ipython3",
   "version": "3.7.10"
  }
 },
 "nbformat": 4,
 "nbformat_minor": 5
}
